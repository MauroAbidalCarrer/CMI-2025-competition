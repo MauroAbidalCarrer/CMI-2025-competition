{
 "cells": [
  {
   "cell_type": "markdown",
   "id": "332e7f37",
   "metadata": {},
   "source": [
    "## Setup"
   ]
  },
  {
   "cell_type": "code",
   "execution_count": 1,
   "id": "21b91065",
   "metadata": {},
   "outputs": [],
   "source": [
    "import gc\n",
    "import re\n",
    "import os\n",
    "import json \n",
    "import math\n",
    "import shutil\n",
    "import random\n",
    "import warnings\n",
    "from os.path import join\n",
    "from functools import partial\n",
    "from tqdm.notebook import tqdm\n",
    "from collections import defaultdict\n",
    "from operator import methodcaller\n",
    "from typing import Optional, Literal\n",
    "from typing import Optional, Literal, Iterator\n",
    "from itertools import pairwise, starmap, product\n",
    "\n",
    "import torch\n",
    "import optuna\n",
    "import kagglehub \n",
    "import numpy as np\n",
    "import pandas as pd\n",
    "import polars as pl\n",
    "from numpy import ndarray\n",
    "from torch import nn, Tensor\n",
    "from numpy.linalg import norm\n",
    "import torch.nn.functional as F\n",
    "from torch.optim import Optimizer\n",
    "from pandas import DataFrame as DF\n",
    "from optuna.trial import TrialState\n",
    "from sklearn.metrics import f1_score\n",
    "from optuna.pruners import BasePruner\n",
    "from optuna.exceptions import TrialPruned\n",
    "from torch.utils.data import TensorDataset\n",
    "from scipy.spatial.transform import Rotation\n",
    "import kaggle_evaluation.cmi_inference_server\n",
    "from torch.utils.data import DataLoader as DL\n",
    "from sklearn.model_selection import GroupKFold\n",
    "from rich.progress import Progress, Task, track\n",
    "from sklearn.model_selection import train_test_split\n",
    "from numpy.lib.stride_tricks import sliding_window_view\n",
    "from torch.utils.data import Dataset, DataLoader, Subset\n",
    "from sklearn.model_selection import StratifiedGroupKFold\n",
    "from sklearn.utils.class_weight import compute_class_weight\n",
    "from torch.optim.lr_scheduler import ConstantLR, LRScheduler, _LRScheduler\n",
    "\n",
    "from config import *\n",
    "from model import mk_model\n",
    "from utils import seed_everything\n",
    "from preprocessing import get_meta_data\n",
    "from training import split_dataset, move_cmi_dataset"
   ]
  },
  {
   "cell_type": "code",
   "execution_count": 2,
   "id": "f1783130",
   "metadata": {},
   "outputs": [],
   "source": [
    "GATING_INPUT_FEATURES = [\n",
    "    \"bin_mae\",\n",
    "    \"reg_mae\",\n",
    "    \"y_uncertainty\",\n",
    "    \"bin_uncertainty\",\n",
    "    \"reg_uncertainty\",\n",
    "    \"orient_uncertainty\",\n",
    "]\n",
    "GATING_MODEL_BATCH_SIZE = 256\n",
    "N_GATING_MODEL_EPOCHS = 5"
   ]
  },
  {
   "cell_type": "code",
   "execution_count": 3,
   "id": "de9365c3",
   "metadata": {},
   "outputs": [],
   "source": [
    "seed_everything(SEED)"
   ]
  },
  {
   "cell_type": "code",
   "execution_count": 4,
   "id": "d68aa7be",
   "metadata": {},
   "outputs": [],
   "source": [
    "meta_data = get_meta_data()"
   ]
  },
  {
   "cell_type": "markdown",
   "id": "4df607b2",
   "metadata": {},
   "source": [
    "## Data"
   ]
  },
  {
   "cell_type": "code",
   "execution_count": 13,
   "id": "acbcacaf",
   "metadata": {},
   "outputs": [],
   "source": [
    "def record_model_outputs(model:nn.Module, data_loader:DL, device:torch.device) -> tuple[Tensor]:\n",
    "    data:list[tuple[Tensor]] = []\n",
    "    model = model.eval()\n",
    "    tof_and_thm_idx = np.concatenate((meta_data[\"tof_idx\"], meta_data[\"thm_idx\"]))\n",
    "    with torch.no_grad():\n",
    "        for x, *_ in data_loader:\n",
    "            x = x.to(device).clone()\n",
    "            x[:1024 // 2, tof_and_thm_idx] = 0.0\n",
    "            data.append(model(x))\n",
    "    data: tuple[Tensor] = tuple(map(torch.concat, zip(*data)))\n",
    "    return data\n",
    "\n",
    "def mk_gating_model_dataset(dataset: TensorDataset) -> TensorDataset:\n",
    "    device = torch.device(\"cuda\")\n",
    "    data_loader = DL(dataset, batch_size=1024, shuffle=False)\n",
    "    models_outputs: list[tuple[Tensor]] = []\n",
    "    for fold_idx in tqdm(range(N_FOLDS), total=N_FOLDS):\n",
    "        model = mk_model(device=device)\n",
    "        checkpoint = torch.load(\n",
    "            join(\n",
    "                \"models\",\n",
    "                f\"model_fold_{fold_idx}.pth\"\n",
    "            ),\n",
    "            map_location=device,\n",
    "            weights_only=True\n",
    "        )\n",
    "        model.load_state_dict(checkpoint)\n",
    "        models_outputs.append(record_model_outputs(model, data_loader, device))\n",
    "    models_outputs: tuple[Tensor] = tuple(map(partial(torch.stack, dim=1), zip(*models_outputs)))\n",
    "    tensors = (*models_outputs, *dataset.tensors[-2:], dataset.tensors[1])\n",
    "    \n",
    "    return TensorDataset(*tensors)\n",
    "\n",
    "def mk_gating_model_dataset_splits() -> dict[str, TensorDataset]:\n",
    "    cuda_splits = {k: move_cmi_dataset(dataset, torch.device(\"cuda\")) for k, (dataset, _) in split_dataset().items()}\n",
    "    return {k: mk_gating_model_dataset(dataset) for k, dataset in cuda_splits.items()}"
   ]
  },
  {
   "cell_type": "code",
   "execution_count": 14,
   "id": "bc523faa",
   "metadata": {},
   "outputs": [
    {
     "data": {
      "application/vnd.jupyter.widget-view+json": {
       "model_id": "f09e146ecccf427e86cfca26d191b902",
       "version_major": 2,
       "version_minor": 0
      },
      "text/plain": [
       "  0%|          | 0/20 [00:00<?, ?it/s]"
      ]
     },
     "metadata": {},
     "output_type": "display_data"
    },
    {
     "data": {
      "application/vnd.jupyter.widget-view+json": {
       "model_id": "08d34dc500704b569aacd57a82529ef7",
       "version_major": 2,
       "version_minor": 0
      },
      "text/plain": [
       "  0%|          | 0/20 [00:00<?, ?it/s]"
      ]
     },
     "metadata": {},
     "output_type": "display_data"
    },
    {
     "data": {
      "application/vnd.jupyter.widget-view+json": {
       "model_id": "5dde0969ee094ec6a753448c380d59b1",
       "version_major": 2,
       "version_minor": 0
      },
      "text/plain": [
       "  0%|          | 0/20 [00:00<?, ?it/s]"
      ]
     },
     "metadata": {},
     "output_type": "display_data"
    }
   ],
   "source": [
    "dataset_splits = mk_gating_model_dataset_splits()"
   ]
  },
  {
   "cell_type": "markdown",
   "id": "17b930a7",
   "metadata": {},
   "source": [
    "## Training"
   ]
  },
  {
   "cell_type": "code",
   "execution_count": 15,
   "id": "63399999",
   "metadata": {},
   "outputs": [],
   "source": [
    "def evaluate_gating_model(dataset: Dataset, gating_model: nn.Module) -> dict:\n",
    "    gating_model = gating_model.eval()\n",
    "    data_loader = DL(dataset, batch_size=1024, shuffle=False)\n",
    "    y_preds = []\n",
    "    y_trues = []\n",
    "    with torch.no_grad():\n",
    "        for *gating_inputs, y in data_loader:\n",
    "            y_preds.append(gating_model(*gating_inputs))\n",
    "            y_trues.append(y)\n",
    "    y_pred = torch.argmax(torch.concat(y_preds), dim=1).cpu().numpy()\n",
    "    y_true = torch.argmax(torch.concat(y_trues), dim=1).cpu().numpy()\n",
    "    model_is_true = y_pred == y_true\n",
    "    binary_true = np.isin(y_true, BFRB_INDICES).astype(int)\n",
    "    binary_pred = np.isin(y_pred, BFRB_INDICES).astype(int)\n",
    "    metrics = {\n",
    "        \"accuracy\": model_is_true.mean().item(),\n",
    "        \"binary_f1\": f1_score(binary_true, binary_pred),\n",
    "    }\n",
    "\n",
    "    # Collapse non-BFRB gestures into a single class\n",
    "    collapsed_true = np.where(\n",
    "        np.isin(y_true, BFRB_INDICES),\n",
    "        y_true,\n",
    "        len(BFRB_GESTURES)  # Single non-BFRB class\n",
    "    )\n",
    "    collapsed_pred = np.where(\n",
    "        np.isin(y_pred, BFRB_INDICES),\n",
    "        y_pred,\n",
    "        len(BFRB_GESTURES)  # Single non-BFRB class\n",
    "    )\n",
    "\n",
    "    # Macro F1 on collapsed classes\n",
    "    metrics[\"macro_f1\"] = f1_score(collapsed_true, collapsed_pred, average='macro')\n",
    "    metrics[\"final_metric\"] = (metrics[\"binary_f1\"] + metrics[\"macro_f1\"]) / 2\n",
    "\n",
    "    return metrics\n",
    "\n",
    "def train_model_on_single_epoch(data_loader: DL, gating_model: nn.Module, criterion: nn.Module, optimizer: Optimizer) -> dict:\n",
    "    metrics = defaultdict(float)\n",
    "    n_samples = 0\n",
    "    gating_model = gating_model.train()\n",
    "    for *gating_inputs, y_true in data_loader:\n",
    "        optimizer.zero_grad()\n",
    "        y_pred = gating_model(*gating_inputs)\n",
    "        loss = criterion(y_pred, y_true)\n",
    "        loss.backward()\n",
    "        optimizer.step()\n",
    "        n_samples += gating_inputs[0].shape[0]\n",
    "        metrics[\"train_loss\"] += loss.item() * gating_inputs[0].shape[0]\n",
    "\n",
    "    metrics[\"train_loss\"] /= n_samples\n",
    "\n",
    "    return metrics\n",
    "\n",
    "def train_model_on_all_epochs(dataset: Dataset, gating_model: nn.Module) -> DF:\n",
    "    train_loader = DL(dataset, GATING_MODEL_BATCH_SIZE, shuffle=True)\n",
    "    optimizer = torch.optim.AdamW(gating_model.parameters())\n",
    "    metrics: list[dict] = []\n",
    "    criterion = nn.CrossEntropyLoss()\n",
    "    for epoch in range(N_GATING_MODEL_EPOCHS):\n",
    "        train_metrics = train_model_on_single_epoch(train_loader, gating_model, criterion, optimizer)\n",
    "        eval_metrics = evaluate_gating_model(dataset, gating_model)\n",
    "        metrics.append({\"epoch\": epoch} | train_metrics | eval_metrics)\n",
    "\n",
    "    return DF.from_records(metrics)"
   ]
  },
  {
   "cell_type": "code",
   "execution_count": 16,
   "id": "26048482",
   "metadata": {},
   "outputs": [],
   "source": [
    "class MeanGate(nn.Module):\n",
    "    def ___init__(self, device: torch.device):\n",
    "        self.device = device\n",
    "\n",
    "    def forward(self,\n",
    "            y_preds: Tensor,\n",
    "            orient_preds: Tensor,\n",
    "            bin_demos_y_preds: Tensor,\n",
    "            reg_demos_y_preds: Tensor,\n",
    "            bin_demos_y_true: Tensor,\n",
    "            reg_demos_y_true: Tensor\n",
    "        ) -> Tensor:\n",
    "        return y_preds.mean(dim=1)"
   ]
  },
  {
   "cell_type": "code",
   "execution_count": 17,
   "id": "b5872a4d",
   "metadata": {},
   "outputs": [],
   "source": [
    "def preds_uncertainty(y_preds: Tensor) -> Tensor:\n",
    "    \"\"\"\n",
    "    y_preds: Tensor[batch, n_folds, y_targets]\n",
    "    returns: Tensor[batch, n_folds]\n",
    "    \"\"\"\n",
    "    clipped_preds = y_preds.clip(EPSILON, 1.0)\n",
    "    return  -((clipped_preds * torch.log(clipped_preds)).sum(dim=2))\n",
    "\n",
    "def mae(y_preds: Tensor, y_true: Tensor) -> Tensor:\n",
    "    \"\"\"\n",
    "    y_preds: Tensor[batch, n_folds, y_targets]\n",
    "    y_true:  Tensor[batch, y_targets]\n",
    "    returns: Tensor[batch, n_folds]\n",
    "    \"\"\"\n",
    "    return torch.abs(y_preds - y_true.unsqueeze(1)).mean(dim=2)\n",
    "\n",
    "class LogisticRegression(nn.Module):\n",
    "    def __init__(self):\n",
    "        super().__init__()\n",
    "        hidden_size = 64\n",
    "        self.gate = nn.Sequential(\n",
    "            nn.LazyLinear(hidden_size),\n",
    "            nn.ReLU(),\n",
    "            nn.Linear(hidden_size, N_FOLDS),\n",
    "            nn.Sigmoid(),\n",
    "        )\n",
    "\n",
    "    def forward(\n",
    "            self,\n",
    "            y_preds: Tensor,\n",
    "            orient_preds: Tensor,\n",
    "            bin_demos_y_preds: Tensor,\n",
    "            reg_demos_y_preds: Tensor,\n",
    "            bin_demos_y_true: Tensor,\n",
    "            reg_demos_y_true: Tensor\n",
    "        ) -> Tensor:      \n",
    "        \n",
    "        experts_preds_stats = torch.concatenate((\n",
    "                preds_uncertainty(y_preds),\n",
    "                preds_uncertainty(orient_preds),\n",
    "                preds_uncertainty(bin_demos_y_preds),\n",
    "                preds_uncertainty(reg_demos_y_preds),\n",
    "                mae(bin_demos_y_preds, bin_demos_y_true),\n",
    "                mae(reg_demos_y_preds, reg_demos_y_true),\n",
    "            ),\n",
    "            dim=1,\n",
    "        )\n",
    "        weights = self.gate(experts_preds_stats)\n",
    "        weighted_y_preds = torch.einsum(\"be, bet -> bt\", weights, y_preds)\n",
    "        y_pred = weighted_y_preds / weights.sum(dim=1, keepdim=True)\n",
    "\n",
    "        return y_pred"
   ]
  },
  {
   "cell_type": "code",
   "execution_count": 18,
   "id": "850e3986",
   "metadata": {},
   "outputs": [],
   "source": [
    "def train_and_eval_gating_model(dataset: Dataset, device: torch.device) -> tuple[nn.Module, DF]:\n",
    "    mean_gate_metrics = evaluate_gating_model(dataset, MeanGate())\n",
    "    print(\"mean_gate_metrics:\", mean_gate_metrics)\n",
    "    gating_model = LogisticRegression().to(device)\n",
    "    base_logistic_gate_metrics = evaluate_gating_model(dataset, gating_model)\n",
    "    print(\"base logistic_gate_metrics:\", base_logistic_gate_metrics)\n",
    "    training_metrics = train_model_on_all_epochs(dataset, gating_model)\n",
    "    print(\"trained logistic_gate_metrics:\", training_metrics.iloc[-1].to_dict())\n",
    "\n",
    "    return gating_model, training_metrics"
   ]
  },
  {
   "cell_type": "code",
   "execution_count": 22,
   "id": "4a00594c",
   "metadata": {},
   "outputs": [
    {
     "name": "stdout",
     "output_type": "stream",
     "text": [
      "training gating model\n",
      "mean_gate_metrics: {'accuracy': 0.7242647058823529, 'binary_f1': 0.989247311827957, 'macro_f1': 0.6767708694258678, 'final_metric': 0.8330090906269124}\n",
      "base logistic_gate_metrics: {'accuracy': 0.7144607843137255, 'binary_f1': 0.9882583170254403, 'macro_f1': 0.6685528668700385, 'final_metric': 0.8284055919477393}\n",
      "trained logistic_gate_metrics: {'epoch': 4.0, 'train_loss': 0.8646772901217142, 'accuracy': 0.7242647058823529, 'binary_f1': 0.990234375, 'macro_f1': 0.6808694091281057, 'final_metric': 0.8355518920640528}\n",
      "eval mixture of experts\n",
      "{'accuracy': 0.727391874180865, 'binary_f1': 0.99375, 'macro_f1': 0.6511029947195968, 'final_metric': 0.8224264973597983}\n",
      "{'accuracy': 0.727391874180865, 'binary_f1': 0.9947970863683663, 'macro_f1': 0.650693004961457, 'final_metric': 0.8227450456649117}\n"
     ]
    }
   ],
   "source": [
    "device = torch.device(\"cuda\")\n",
    "print(\"training gating model\")\n",
    "gating_model, trainin_metrics = train_and_eval_gating_model(dataset_splits[\"gating_train\"], device)\n",
    "print(\"eval mixture of experts\")\n",
    "print(evaluate_gating_model(dataset_splits[\"validation\"], gating_model))\n",
    "print(evaluate_gating_model(dataset_splits[\"validation\"], MeanGate()))"
   ]
  },
  {
   "cell_type": "markdown",
   "id": "bcff5eb1",
   "metadata": {},
   "source": [
    "## Upload model ensemble"
   ]
  },
  {
   "cell_type": "code",
   "execution_count": null,
   "id": "da455967",
   "metadata": {},
   "outputs": [
    {
     "name": "stdout",
     "output_type": "stream",
     "text": [
      "Model has not been uploaded to kaggle.\n"
     ]
    }
   ],
   "source": [
    "torch.save(gating_model.state_dict(), f\"models/gating_model.pth\")\n",
    "user_input = input(\"Upload model ensemble?: \").lower()\n",
    "if user_input == \"yes\":\n",
    "    kagglehub.model_upload(\n",
    "        handle=join(\n",
    "            kagglehub.whoami()[\"username\"],\n",
    "            MODEL_NAME,\n",
    "            \"pyTorch\",\n",
    "            MODEL_VARIATION,\n",
    "        ),\n",
    "        local_model_dir=\"models\",\n",
    "        version_notes=input(\"Please provide model version notes: \")\n",
    "    )\n",
    "elif user_input == \"no\":\n",
    "    print(\"Model has not been uploaded to kaggle.\")\n",
    "else:\n",
    "    print(\"User input was not understood, model has not been uploaded to kaggle.\")"
   ]
  }
 ],
 "metadata": {
  "kernelspec": {
   "display_name": "CMI",
   "language": "python",
   "name": "python3"
  },
  "language_info": {
   "codemirror_mode": {
    "name": "ipython",
    "version": 3
   },
   "file_extension": ".py",
   "mimetype": "text/x-python",
   "name": "python",
   "nbconvert_exporter": "python",
   "pygments_lexer": "ipython3",
   "version": "3.11.5"
  }
 },
 "nbformat": 4,
 "nbformat_minor": 5
}
