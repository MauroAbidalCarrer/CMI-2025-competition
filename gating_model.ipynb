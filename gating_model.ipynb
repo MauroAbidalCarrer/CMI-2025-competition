{
 "cells": [
  {
   "cell_type": "markdown",
   "id": "332e7f37",
   "metadata": {},
   "source": [
    "## Setup"
   ]
  },
  {
   "cell_type": "code",
   "execution_count": 1,
   "id": "21b91065",
   "metadata": {},
   "outputs": [],
   "source": [
    "import gc\n",
    "import re\n",
    "import os\n",
    "import json \n",
    "import math\n",
    "import shutil\n",
    "import random\n",
    "import warnings\n",
    "from os.path import join\n",
    "from functools import partial\n",
    "from tqdm.notebook import tqdm\n",
    "from collections import defaultdict\n",
    "from operator import methodcaller\n",
    "from typing import Optional, Literal\n",
    "from typing import Optional, Literal, Iterator\n",
    "from itertools import pairwise, starmap, product\n",
    "\n",
    "import torch\n",
    "import optuna\n",
    "import kagglehub \n",
    "import numpy as np\n",
    "import pandas as pd\n",
    "import polars as pl\n",
    "from numpy import ndarray\n",
    "from torch import nn, Tensor\n",
    "from numpy.linalg import norm\n",
    "import torch.nn.functional as F\n",
    "from torch.optim import Optimizer\n",
    "from pandas import DataFrame as DF\n",
    "from optuna.trial import TrialState\n",
    "from sklearn.metrics import f1_score\n",
    "from optuna.pruners import BasePruner\n",
    "from optuna.exceptions import TrialPruned\n",
    "from torch.utils.data import TensorDataset\n",
    "from scipy.spatial.transform import Rotation\n",
    "import kaggle_evaluation.cmi_inference_server\n",
    "from torch.utils.data import DataLoader as DL\n",
    "from sklearn.model_selection import GroupKFold\n",
    "from rich.progress import Progress, Task, track\n",
    "from sklearn.model_selection import train_test_split\n",
    "from numpy.lib.stride_tricks import sliding_window_view\n",
    "from torch.utils.data import Dataset, DataLoader, Subset\n",
    "from sklearn.model_selection import StratifiedGroupKFold\n",
    "from sklearn.utils.class_weight import compute_class_weight\n",
    "from torch.optim.lr_scheduler import ConstantLR, LRScheduler, _LRScheduler\n",
    "\n",
    "from config import *\n",
    "from model import mk_model\n",
    "from utils import seed_everything\n",
    "from preprocessing import get_meta_data\n",
    "from training import CMIDataset, sgkf_from_tensor_dataset"
   ]
  },
  {
   "cell_type": "code",
   "execution_count": 2,
   "id": "f1783130",
   "metadata": {},
   "outputs": [],
   "source": [
    "GATING_INPUT_FEATURES = [\n",
    "    \"bin_mae\",\n",
    "    \"reg_mae\",\n",
    "    \"y_uncertainty\",\n",
    "    \"bin_uncertainty\",\n",
    "    \"reg_uncertainty\",\n",
    "    \"orient_uncertainty\",\n",
    "]\n",
    "GATING_MODEL_BATCH_SIZE = 256\n",
    "N_GATING_MODEL_EPOCHS = 5"
   ]
  },
  {
   "cell_type": "code",
   "execution_count": 3,
   "id": "de9365c3",
   "metadata": {},
   "outputs": [],
   "source": [
    "seed_everything(SEED)"
   ]
  },
  {
   "cell_type": "code",
   "execution_count": 4,
   "id": "d68aa7be",
   "metadata": {},
   "outputs": [],
   "source": [
    "meta_data = get_meta_data()"
   ]
  },
  {
   "cell_type": "markdown",
   "id": "4df607b2",
   "metadata": {},
   "source": [
    "## Data"
   ]
  },
  {
   "cell_type": "code",
   "execution_count": 5,
   "id": "acbcacaf",
   "metadata": {},
   "outputs": [],
   "source": [
    "def record_model_outputs(model:nn.Module, data_loader:DL, device:torch.device) -> tuple[Tensor]:\n",
    "    data:list[tuple[Tensor]] = []\n",
    "    model = model.eval()\n",
    "    tof_and_thm_idx = np.concatenate((meta_data[\"tof_idx\"], meta_data[\"thm_idx\"]))\n",
    "    with torch.no_grad():\n",
    "        for x, *_ in data_loader:\n",
    "            x = x.to(device).clone()\n",
    "            x[:1024 // 2, tof_and_thm_idx] = 0.0\n",
    "            data.append(model(x))\n",
    "    data:tuple[Tensor] = tuple(map(torch.concat, zip(*data)))\n",
    "    return data\n",
    "\n",
    "def mk_gating_model_dataset() -> TensorDataset:\n",
    "    device = torch.device(\"cuda\")\n",
    "    dataset = CMIDataset(device)\n",
    "    data_loader = DL(dataset, batch_size=1024, shuffle=False)\n",
    "    models_outputs: list[tuple[Tensor]] = []\n",
    "    for fold_idx in tqdm(range(N_FOLDS), total=N_FOLDS):\n",
    "        model = mk_model(device=device)\n",
    "        checkpoint = torch.load(\n",
    "            join(\n",
    "                \"models\",\n",
    "                f\"model_fold_{fold_idx}.pth\"\n",
    "            ),\n",
    "            map_location=device,\n",
    "            weights_only=True\n",
    "        )\n",
    "        model.load_state_dict(checkpoint)\n",
    "        models_outputs.append(record_model_outputs(model, data_loader, device))\n",
    "    models_outputs: tuple[Tensor] = tuple(map(partial(torch.stack, dim=1), zip(*models_outputs)))\n",
    "    tensors = (*models_outputs, *dataset.tensors[-2:], dataset.tensors[1])\n",
    "    \n",
    "    return TensorDataset(*tensors)"
   ]
  },
  {
   "cell_type": "code",
   "execution_count": 6,
   "id": "bc523faa",
   "metadata": {},
   "outputs": [
    {
     "data": {
      "application/vnd.jupyter.widget-view+json": {
       "model_id": "10a601df77164adc9f0cd09f7de63360",
       "version_major": 2,
       "version_minor": 0
      },
      "text/plain": [
       "  0%|          | 0/20 [00:00<?, ?it/s]"
      ]
     },
     "metadata": {},
     "output_type": "display_data"
    }
   ],
   "source": [
    "dataset = mk_gating_model_dataset()"
   ]
  },
  {
   "cell_type": "markdown",
   "id": "17b930a7",
   "metadata": {},
   "source": [
    "## Training"
   ]
  },
  {
   "cell_type": "code",
   "execution_count": 7,
   "id": "63399999",
   "metadata": {},
   "outputs": [],
   "source": [
    "def evaluate_gating_model(dataset: Dataset, gating_model: nn.Module) -> dict:\n",
    "    gating_model = gating_model.eval()\n",
    "    data_loader = DL(dataset, batch_size=1024, shuffle=False)\n",
    "    y_preds = []\n",
    "    y_trues = []\n",
    "    with torch.no_grad():\n",
    "        for *gating_inputs, y in data_loader:\n",
    "            y_preds.append(gating_model(*gating_inputs))\n",
    "            y_trues.append(y)\n",
    "    y_pred = torch.argmax(torch.concat(y_preds), dim=1).cpu().numpy()\n",
    "    y_true = torch.argmax(torch.concat(y_trues), dim=1).cpu().numpy()\n",
    "    model_is_true = y_pred == y_true\n",
    "    binary_true = np.isin(y_true, BFRB_INDICES).astype(int)\n",
    "    binary_pred = np.isin(y_pred, BFRB_INDICES).astype(int)\n",
    "    metrics = {\n",
    "        \"accuracy\": model_is_true.mean().item(),\n",
    "        \"binary_f1\": f1_score(binary_true, binary_pred),\n",
    "    }\n",
    "\n",
    "    # Collapse non-BFRB gestures into a single class\n",
    "    collapsed_true = np.where(\n",
    "        np.isin(y_true, BFRB_INDICES),\n",
    "        y_true,\n",
    "        len(BFRB_GESTURES)  # Single non-BFRB class\n",
    "    )\n",
    "    collapsed_pred = np.where(\n",
    "        np.isin(y_pred, BFRB_INDICES),\n",
    "        y_pred,\n",
    "        len(BFRB_GESTURES)  # Single non-BFRB class\n",
    "    )\n",
    "\n",
    "    # Macro F1 on collapsed classes\n",
    "    metrics[\"macro_f1\"] = f1_score(collapsed_true, collapsed_pred, average='macro')\n",
    "    metrics[\"final_metric\"] = (metrics[\"binary_f1\"] + metrics[\"macro_f1\"]) / 2\n",
    "\n",
    "    return metrics\n",
    "\n",
    "def train_model_on_single_epoch(data_loader: DL, gating_model: nn.Module, criterion: nn.Module, optimizer: Optimizer) -> dict:\n",
    "    metrics = defaultdict(float)\n",
    "    n_samples = 0\n",
    "    gating_model = gating_model.train()\n",
    "    for *gating_inputs, y_true in data_loader:\n",
    "        optimizer.zero_grad()\n",
    "        y_pred = gating_model(*gating_inputs)\n",
    "        loss = criterion(y_pred, y_true)\n",
    "        loss.backward()\n",
    "        optimizer.step()\n",
    "        n_samples += gating_inputs[0].shape[0]\n",
    "        metrics[\"train_loss\"] += loss.item() * gating_inputs[0].shape[0]\n",
    "\n",
    "    metrics[\"train_loss\"] /= n_samples\n",
    "\n",
    "    return metrics\n",
    "\n",
    "def train_model_on_all_epochs(dataset: Dataset, gating_model: nn.Module) -> DF:\n",
    "    train_loader = DL(dataset, GATING_MODEL_BATCH_SIZE, shuffle=True)\n",
    "    optimizer = torch.optim.AdamW(gating_model.parameters())\n",
    "    metrics: list[dict] = []\n",
    "    criterion = nn.CrossEntropyLoss()\n",
    "    for epoch in range(N_GATING_MODEL_EPOCHS):\n",
    "        train_metrics = train_model_on_single_epoch(train_loader, gating_model, criterion, optimizer)\n",
    "        eval_metrics = evaluate_gating_model(dataset, gating_model)\n",
    "        metrics.append({\"epoch\": epoch} | train_metrics | eval_metrics)\n",
    "\n",
    "    return DF.from_records(metrics)"
   ]
  },
  {
   "cell_type": "code",
   "execution_count": 8,
   "id": "26048482",
   "metadata": {},
   "outputs": [],
   "source": [
    "class MeanGate(nn.Module):\n",
    "    def ___init__(self, device: torch.device):\n",
    "        self.device = device\n",
    "\n",
    "    def forward(self,\n",
    "            y_preds: Tensor,\n",
    "            orient_preds: Tensor,\n",
    "            bin_demos_y_preds: Tensor,\n",
    "            reg_demos_y_preds: Tensor,\n",
    "            bin_demos_y_true: Tensor,\n",
    "            reg_demos_y_true: Tensor\n",
    "        ) -> Tensor:\n",
    "        return y_preds.mean(dim=1)"
   ]
  },
  {
   "cell_type": "code",
   "execution_count": 9,
   "id": "b5872a4d",
   "metadata": {},
   "outputs": [],
   "source": [
    "def preds_uncertainty(y_preds: Tensor) -> Tensor:\n",
    "    \"\"\"\n",
    "    y_preds: Tensor[batch, n_folds, y_targets]\n",
    "    returns: Tensor[batch, n_folds]\n",
    "    \"\"\"\n",
    "    clipped_preds = y_preds.clip(EPSILON, 1.0)\n",
    "    return  -((clipped_preds * torch.log(clipped_preds)).sum(dim=2))\n",
    "\n",
    "def mae(y_preds: Tensor, y_true: Tensor) -> Tensor:\n",
    "    \"\"\"\n",
    "    y_preds: Tensor[batch, n_folds, y_targets]\n",
    "    y_true:  Tensor[batch, y_targets]\n",
    "    returns: Tensor[batch, n_folds]\n",
    "    \"\"\"\n",
    "    return torch.abs(y_preds - y_true.unsqueeze(1)).mean(dim=2)\n",
    "\n",
    "class LogisticRegression(nn.Module):\n",
    "    def __init__(self):\n",
    "        super().__init__()\n",
    "        hidden_size = 64\n",
    "        self.gate = nn.Sequential(\n",
    "            nn.LazyLinear(hidden_size),\n",
    "            nn.ReLU(),\n",
    "            nn.Linear(hidden_size, N_FOLDS),\n",
    "            nn.Sigmoid(),\n",
    "        )\n",
    "\n",
    "    def forward(\n",
    "            self,\n",
    "            y_preds: Tensor,\n",
    "            orient_preds: Tensor,\n",
    "            bin_demos_y_preds: Tensor,\n",
    "            reg_demos_y_preds: Tensor,\n",
    "            bin_demos_y_true: Tensor,\n",
    "            reg_demos_y_true: Tensor\n",
    "        ) -> Tensor:      \n",
    "        \n",
    "        experts_preds_stats = torch.concatenate((\n",
    "                preds_uncertainty(y_preds),\n",
    "                preds_uncertainty(orient_preds),\n",
    "                preds_uncertainty(bin_demos_y_preds),\n",
    "                preds_uncertainty(reg_demos_y_preds),\n",
    "                mae(bin_demos_y_preds, bin_demos_y_true),\n",
    "                mae(reg_demos_y_preds, reg_demos_y_true),\n",
    "            ),\n",
    "            dim=1,\n",
    "        )\n",
    "        weights = self.gate(experts_preds_stats)\n",
    "        weighted_y_preds = torch.einsum(\"be, bet -> bt\", weights, y_preds)\n",
    "        y_pred = weighted_y_preds / weights.sum(dim=1, keepdim=True)\n",
    "\n",
    "        return y_pred"
   ]
  },
  {
   "cell_type": "code",
   "execution_count": 10,
   "id": "850e3986",
   "metadata": {},
   "outputs": [],
   "source": [
    "def train_and_eval_gating_model(dataset: Dataset, device: torch.device) -> tuple[nn.Module, DF]:\n",
    "    mean_gate_metrics = evaluate_gating_model(dataset, MeanGate())\n",
    "    print(\"mean_gate_metrics:\", mean_gate_metrics)\n",
    "    gating_model = LogisticRegression().to(device)\n",
    "    base_logistic_gate_metrics = evaluate_gating_model(dataset, gating_model)\n",
    "    print(\"base logistic_gate_metrics:\", base_logistic_gate_metrics)\n",
    "    training_metrics = train_model_on_all_epochs(dataset, gating_model)\n",
    "    print(\"trained logistic_gate_metrics:\", training_metrics.iloc[-1].to_dict())\n",
    "    \n",
    "    return gating_model, training_metrics"
   ]
  },
  {
   "cell_type": "code",
   "execution_count": 15,
   "id": "23a053d7",
   "metadata": {},
   "outputs": [
    {
     "name": "stdout",
     "output_type": "stream",
     "text": [
      "fold 0\n",
      "mean_gate_metrics: {'accuracy': 0.9742331288343559, 'binary_f1': 0.9997555012224939, 'macro_f1': 0.9657047918839238, 'final_metric': 0.9827301465532088}\n",
      "base logistic_gate_metrics: {'accuracy': 0.9725460122699386, 'binary_f1': 0.9997555012224939, 'macro_f1': 0.9635640318268379, 'final_metric': 0.9816597665246659}\n",
      "trained logistic_gate_metrics: {'epoch': 4.0, 'train_loss': 0.19940395309515527, 'accuracy': 0.9765337423312883, 'binary_f1': 0.9996332966629996, 'macro_f1': 0.9681902184120399, 'final_metric': 0.9839117575375198}\n",
      "trained test eval: {'accuracy': 0.9760882893930104, 'binary_f1': 1.0, 'macro_f1': 0.967771125656086, 'final_metric': 0.983885562828043}\n",
      "==========\n",
      "fold 1\n",
      "mean_gate_metrics: {'accuracy': 0.974885145482389, 'binary_f1': 0.9997557997557998, 'macro_f1': 0.9665760453380741, 'final_metric': 0.9831659225469369}\n",
      "base logistic_gate_metrics: {'accuracy': 0.974885145482389, 'binary_f1': 0.9996336549029186, 'macro_f1': 0.9668458843356501, 'final_metric': 0.9832397696192843}\n",
      "trained logistic_gate_metrics: {'epoch': 4.0, 'train_loss': 0.19569439682624606, 'accuracy': 0.9788667687595712, 'binary_f1': 0.9996337443535588, 'macro_f1': 0.9711882920998676, 'final_metric': 0.9854110182267132}\n",
      "trained test eval: {'accuracy': 0.97347316471314, 'binary_f1': 1.0, 'macro_f1': 0.9642687051849143, 'final_metric': 0.9821343525924571}\n",
      "==========\n",
      "fold 2\n",
      "mean_gate_metrics: {'accuracy': 0.9740638428483732, 'binary_f1': 0.999755441428222, 'macro_f1': 0.9658832451292371, 'final_metric': 0.9828193432787296}\n",
      "base logistic_gate_metrics: {'accuracy': 0.9732965009208103, 'binary_f1': 0.9996331172801761, 'macro_f1': 0.9648619092882035, 'final_metric': 0.9822475132841898}\n",
      "trained logistic_gate_metrics: {'epoch': 4.0, 'train_loss': 0.19603550520098378, 'accuracy': 0.9788213627992634, 'binary_f1': 0.99963320699352, 'macro_f1': 0.9717946866751979, 'final_metric': 0.985713946834359}\n",
      "trained test eval: {'accuracy': 0.9749235474006116, 'binary_f1': 1.0, 'macro_f1': 0.9645129247867712, 'final_metric': 0.9822564623933856}\n",
      "==========\n",
      "fold 3\n",
      "mean_gate_metrics: {'accuracy': 0.9749961650559902, 'binary_f1': 0.999755441428222, 'macro_f1': 0.9665474094185852, 'final_metric': 0.9831514254234036}\n",
      "base logistic_gate_metrics: {'accuracy': 0.9737689829728486, 'binary_f1': 0.999755441428222, 'macro_f1': 0.9650392319298562, 'final_metric': 0.9823973366790391}\n",
      "trained logistic_gate_metrics: {'epoch': 4.0, 'train_loss': 0.1970596677650976, 'accuracy': 0.9774505292222734, 'binary_f1': 0.999755441428222, 'macro_f1': 0.9691154773304622, 'final_metric': 0.9844354593793421}\n",
      "trained test eval: {'accuracy': 0.9712009803921569, 'binary_f1': 1.0, 'macro_f1': 0.961988174954404, 'final_metric': 0.9809940874772021}\n",
      "==========\n",
      "fold 4\n",
      "mean_gate_metrics: {'accuracy': 0.9748427672955975, 'binary_f1': 1.0, 'macro_f1': 0.9668065797825007, 'final_metric': 0.9834032898912504}\n",
      "base logistic_gate_metrics: {'accuracy': 0.9753029605767756, 'binary_f1': 1.0, 'macro_f1': 0.9674716579188785, 'final_metric': 0.9837358289594392}\n",
      "trained logistic_gate_metrics: {'epoch': 4.0, 'train_loss': 0.1962711549661042, 'accuracy': 0.9777573247430588, 'binary_f1': 0.9998777356645067, 'macro_f1': 0.9699383969396919, 'final_metric': 0.9849080663020993}\n",
      "trained test eval: {'accuracy': 0.9712009803921569, 'binary_f1': 0.9990234375, 'macro_f1': 0.9597363569896097, 'final_metric': 0.9793798972448049}\n",
      "==========\n"
     ]
    }
   ],
   "source": [
    "device = torch.device(\"cuda\")\n",
    "for fold_idx, (train_idx, validation_idx, seed) in enumerate(sgkf_from_tensor_dataset(dataset, n_splits=5)):\n",
    "    print(\"fold\", fold_idx)\n",
    "    train_dataset = Subset(dataset, train_idx)\n",
    "    validation_dataset = Subset(dataset, validation_idx)\n",
    "    gating_model, metrics = train_and_eval_gating_model(train_dataset, device)\n",
    "    print(\"trained test eval:\", evaluate_gating_model(validation_dataset, gating_model))\n",
    "    print(\"==========\")"
   ]
  },
  {
   "cell_type": "markdown",
   "id": "bcff5eb1",
   "metadata": {},
   "source": [
    "## Upload model ensemble"
   ]
  },
  {
   "cell_type": "code",
   "execution_count": 14,
   "id": "da455967",
   "metadata": {},
   "outputs": [
    {
     "name": "stdout",
     "output_type": "stream",
     "text": [
      "Model has not been uploaded to kaggle.\n"
     ]
    }
   ],
   "source": [
    "torch.save(gating_model.state_dict(), f\"models/gating_model.pth\")\n",
    "user_input = input(\"Upload model ensemble?: \").lower()\n",
    "if user_input == \"yes\":\n",
    "    kagglehub.model_upload(\n",
    "        handle=join(\n",
    "            kagglehub.whoami()[\"username\"],\n",
    "            MODEL_NAME,\n",
    "            \"pyTorch\",\n",
    "            MODEL_VARIATION,\n",
    "        ),\n",
    "        local_model_dir=\"models\",\n",
    "        version_notes=input(\"Please provide model version notes: \")\n",
    "    )\n",
    "elif user_input == \"no\":\n",
    "    print(\"Model has not been uploaded to kaggle.\")\n",
    "else:\n",
    "    print(\"User input was not understood, model has not been uploaded to kaggle.\")"
   ]
  }
 ],
 "metadata": {
  "kernelspec": {
   "display_name": "CMI",
   "language": "python",
   "name": "python3"
  },
  "language_info": {
   "codemirror_mode": {
    "name": "ipython",
    "version": 3
   },
   "file_extension": ".py",
   "mimetype": "text/x-python",
   "name": "python",
   "nbconvert_exporter": "python",
   "pygments_lexer": "ipython3",
   "version": "3.11.5"
  }
 },
 "nbformat": 4,
 "nbformat_minor": 5
}
