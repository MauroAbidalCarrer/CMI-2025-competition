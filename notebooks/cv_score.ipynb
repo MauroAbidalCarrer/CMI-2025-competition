{
 "cells": [
  {
   "cell_type": "markdown",
   "id": "bf6438da",
   "metadata": {},
   "source": [
    "# Training & inference notebook\n",
    "Credit to [Tarun Mishra](https://www.kaggle.com/tarundirector) – this code is heavily based on his [notebook](https://www.kaggle.com/code/tarundirector/sensor-pulse-viz-eda-for-bfrb-detection?scriptVersionId=243465321)."
   ]
  },
  {
   "cell_type": "markdown",
   "id": "e752c660",
   "metadata": {},
   "source": [
    "## Setup"
   ]
  },
  {
   "cell_type": "markdown",
   "id": "473b69f6",
   "metadata": {},
   "source": [
    "### imports"
   ]
  },
  {
   "cell_type": "markdown",
   "id": "e7d4b210",
   "metadata": {},
   "source": [
    "#### Training imports"
   ]
  },
  {
   "cell_type": "code",
   "execution_count": 1,
   "id": "b842c804",
   "metadata": {},
   "outputs": [],
   "source": [
    "import os\n",
    "import json\n",
    "import math\n",
    "from glob import glob\n",
    "from functools import partial\n",
    "from datetime import datetime\n",
    "from collections import Counter\n",
    "from os.path import join, realpath\n",
    "from typing import Optional, Literal\n",
    "from itertools import pairwise, starmap\n",
    "\n",
    "import torch\n",
    "import kagglehub\n",
    "import numpy as np\n",
    "import pandas as pd\n",
    "import plotly.express as px\n",
    "from torch import nn, Tensor\n",
    "from pandas import DataFrame as DF\n",
    "from torch.utils.data import TensorDataset\n",
    "from torch.optim import Optimizer\n",
    "# from timm.scheduler import CosineLRScheduler\n",
    "from torch.utils.data import DataLoader as DL\n",
    "from rich.progress import Progress, Task, track\n",
    "from torch.optim.lr_scheduler import ConstantLR, LRScheduler, _LRScheduler\n",
    "metric_package = kagglehub.package_import('wasupandceacar/cmi-metric', bypass_confirmation=True)"
   ]
  },
  {
   "cell_type": "markdown",
   "id": "6a3ae962",
   "metadata": {},
   "source": [
    "#### inference imports"
   ]
  },
  {
   "cell_type": "code",
   "execution_count": 2,
   "id": "915c9ecf",
   "metadata": {},
   "outputs": [],
   "source": [
    "import os\n",
    "import json\n",
    "import warnings\n",
    "from os.path import join\n",
    "from tqdm.notebook import tqdm\n",
    "from itertools import pairwise, product\n",
    "\n",
    "import torch\n",
    "import numpy as np\n",
    "import pandas as pd\n",
    "import polars as pl\n",
    "from numpy import ndarray\n",
    "from torch import nn, Tensor\n",
    "from numpy.linalg import norm\n",
    "from pandas import DataFrame as DF\n",
    "from scipy.spatial.transform import Rotation\n",
    "# from kagglehub import competition_download, dataset_download, model_download\n",
    "import kagglehub\n",
    "metric_package = kagglehub.package_import('wasupandceacar/cmi-metric', bypass_confirmation=True)\n",
    "\n",
    "import kaggle_evaluation.cmi_inference_server"
   ]
  },
  {
   "cell_type": "markdown",
   "id": "5cd3c8bd",
   "metadata": {},
   "source": [
    "#### kaggle notbook Imports"
   ]
  },
  {
   "cell_type": "code",
   "execution_count": 3,
   "id": "ce2e25ed",
   "metadata": {},
   "outputs": [],
   "source": [
    "import random\n",
    "import numpy as np\n",
    "import torch\n",
    "import os\n",
    "\n",
    "def seed_everything(seed=42):\n",
    "    \"\"\"Set all random seeds for reproducibility\"\"\"\n",
    "    random.seed(seed)\n",
    "    np.random.seed(seed)\n",
    "    torch.manual_seed(seed)\n",
    "    torch.cuda.manual_seed(seed)\n",
    "    torch.backends.cudnn.deterministic = True\n",
    "    torch.backends.cudnn.benchmark = False\n",
    "    os.environ['PYTHONHASHSEED'] = str(seed)\n",
    "    os.environ['CUBLAS_WORKSPACE_CONFIG'] = ':4096:8'\n",
    "    torch.use_deterministic_algorithms(True, warn_only=True)\n",
    "\n",
    "SEED = 42\n",
    "seed_everything(seed=SEED)\n",
    "\n",
    "import pandas as pd\n",
    "import polars as pl\n",
    "from sklearn.metrics import f1_score\n",
    "from sklearn.model_selection import train_test_split\n",
    "from sklearn.preprocessing import StandardScaler, LabelEncoder\n",
    "from sklearn.model_selection import GroupKFold\n",
    "from sklearn.utils.class_weight import compute_class_weight\n",
    "import joblib\n",
    "from tqdm import tqdm\n",
    "\n",
    "from torch import nn\n",
    "import torch.nn.functional as F\n",
    "import torch.optim as optim\n",
    "from torch.utils.data import Dataset, DataLoader\n",
    "# from tensorflow.keras.preprocessing.sequence import pad_sequences as keras_pad_sequences\n",
    "\n",
    "import kaggle_evaluation.cmi_inference_server\n",
    "from matplotlib import pyplot as plt"
   ]
  },
  {
   "cell_type": "markdown",
   "id": "91e34cce",
   "metadata": {},
   "source": [
    "### Configs"
   ]
  },
  {
   "cell_type": "markdown",
   "id": "57b0b925",
   "metadata": {},
   "source": [
    "#### Training config"
   ]
  },
  {
   "cell_type": "code",
   "execution_count": 33,
   "id": "1296f174",
   "metadata": {},
   "outputs": [],
   "source": [
    "DATASET_HANDLE = \"mauroabidalcarrer/prepocessed-cmi-2025/versions/30\"\n",
    "NB_CROSS_VALIDATIONS = 5\n",
    "TRAINING_EPOCHS = 25\n",
    "STARTING_LR = 0.0005\n",
    "TRAIN_BATCH_SIZE = 256\n",
    "VALIDATION_BATCH_SIZE = 4 * TRAIN_BATCH_SIZE\n",
    "TARGET_NAMES = sorted([\n",
    "    \"Above ear - pull hair\",\n",
    "    \"Cheek - pinch skin\",\n",
    "    \"Eyebrow - pull hair\",\n",
    "    \"Eyelash - pull hair\",\n",
    "    \"Feel around in tray and pull out an object\",\n",
    "    \"Forehead - pull hairline\",\n",
    "    \"Forehead - scratch\",\n",
    "    \"Neck - pinch skin\",\n",
    "    \"Neck - scratch\",\n",
    "    \"Text on phone\",\n",
    "    \"Wave hello\",\n",
    "    \"Write name in air\",\n",
    "    \"Write name on leg\",\n",
    "    \"Drink from bottle/cup\",\n",
    "    \"Pinch knee/leg skin\",\n",
    "    \"Pull air toward your face\",\n",
    "    \"Scratch knee/leg skin\",\n",
    "    \"Glasses on/off\"\n",
    "])\n",
    "TARGET_NAMES_NDARRAY = np.asarray(TARGET_NAMES)\n",
    "MOCK_TRAINING_EPOCHS = 15\n",
    "MOCK_TRAINING_GAMMA = 1.01\n",
    "MAX_LR_TO_MIN_DIV_FACTOR = 10\n",
    "COMPETITION_HANDLE = \"cmi-detect-behavior-with-sensor-data\"\n",
    "\n",
    "PATIENCE = 8\n",
    "WARMUP_EPOCHS = 5\n",
    "WARMUP_LR_INT = 1.822126131809773e-05\n",
    "MIN_LR = 3.810323058740104e-09"
   ]
  },
  {
   "cell_type": "markdown",
   "id": "1393b8af",
   "metadata": {},
   "source": [
    "#### Inference config "
   ]
  },
  {
   "cell_type": "code",
   "execution_count": 5,
   "id": "3ad8c78c",
   "metadata": {},
   "outputs": [],
   "source": [
    "QUATERNION_COLS = ['rot_w', 'rot_x', 'rot_y', 'rot_z']\n",
    "GRAVITY_WORLD = np.array([0, 0, 9.81], \"float32\")\n",
    "RAW_ACCELRATION_COLS = [\"acc_x\", \"acc_y\", \"acc_z\"]\n",
    "LINEAR_ACC_COLS = [\"gravity_free_\" + col for col in RAW_ACCELRATION_COLS]\n",
    "COMPETITION_HANDLE = \"cmi-detect-behavior-with-sensor-data\"\n",
    "CATEGORY_COLUMNS = [\n",
    "    'row_id',\n",
    "    'sequence_type',\n",
    "    'sequence_id',\n",
    "    'subject',\n",
    "    'orientation',\n",
    "    'behavior',\n",
    "    'phase',\n",
    "    'gesture',\n",
    "]\n",
    "META_DATA_COLUMNS = [\n",
    "    'row_id',\n",
    "    'sequence_type',\n",
    "    'sequence_id',\n",
    "    'sequence_counter',\n",
    "    'subject',\n",
    "    'orientation',\n",
    "    'behavior',\n",
    "    'phase',\n",
    "    'gesture',\n",
    "]\n",
    "DATASET_DF_DTYPES = {\n",
    "    \"acc_x\": \"float32\", \"acc_y\": \"float32\", \"acc_z\": \"float32\",\n",
    "    \"thm_1\":\"float32\", \"thm_2\":\"float32\", \"thm_3\":\"float32\", \"thm_4\":\"float32\", \"thm_5\":\"float32\",\n",
    "    \"sequence_counter\": \"int32\",\n",
    "    **{col: \"category\" for col in CATEGORY_COLUMNS},\n",
    "    **{f\"tof_{i_1}_v{i_2}\": \"float32\" for i_1, i_2 in product(range(1, 5), range(64))},\n",
    "}\n",
    "PREPROCESSED_DATASET_HANDLE = \"mauroabidalcarrer/prepocessed-cmi-2025\"\n",
    "# The quantile of the sequences len used to pad/truncate during preprocessing\n",
    "SEQUENCE_NORMED_LEN_QUANTILE = 0.95\n",
    "# SAMPLING_FREQUENCY = 10 #Hz\n",
    "N_FOLDS = 5\n",
    "VALIDATION_FRACTION = 0.2\n",
    "TARGET_NAMES = sorted([\n",
    "    \"Above ear - pull hair\",\n",
    "    \"Cheek - pinch skin\",\n",
    "    \"Eyebrow - pull hair\",\n",
    "    \"Eyelash - pull hair\",\n",
    "    \"Feel around in tray and pull out an object\",\n",
    "    \"Forehead - pull hairline\",\n",
    "    \"Forehead - scratch\",\n",
    "    \"Neck - pinch skin\",\n",
    "    \"Neck - scratch\",\n",
    "    \"Text on phone\",\n",
    "    \"Wave hello\",\n",
    "    \"Write name in air\",\n",
    "    \"Write name on leg\",\n",
    "    \"Drink from bottle/cup\",\n",
    "    \"Pinch knee/leg skin\",\n",
    "    \"Pull air toward your face\",\n",
    "    \"Scratch knee/leg skin\",\n",
    "    \"Glasses on/off\"\n",
    "])\n",
    "EPSILON=1e-8\n",
    "DELTA_ROTATION_ANGULAR_VELOCITY_COLS = [\"angular_vel_x\", \"angular_vel_y\", \"angular_vel_z\"]\n",
    "DELTA_ROTATION_AXES_COLS = [\"rotation_axis_x\", \"rotation_axis_y\", \"rotation_axis_z\"]\n",
    "EULER_ANGLES_COLS = [\"euler_x\", \"euler_y\", \"euler_z\"]"
   ]
  },
  {
   "cell_type": "markdown",
   "id": "1c4bfefa",
   "metadata": {},
   "source": [
    "### Define function to get the feature columns\n",
    "Feature columns change over time so it's better to have a function to get them than manually update a variable every time we add/remove features."
   ]
  },
  {
   "cell_type": "code",
   "execution_count": 6,
   "id": "f3d40b15",
   "metadata": {},
   "outputs": [],
   "source": [
    "def get_feature_cols(df:DF) -> list[str]:\n",
    "    return sorted(list(set(df.columns) - set(META_DATA_COLUMNS) - set(TARGET_NAMES)))"
   ]
  },
  {
   "cell_type": "markdown",
   "id": "1eac0e5a",
   "metadata": {},
   "source": [
    "### Supress performance warngings"
   ]
  },
  {
   "cell_type": "code",
   "execution_count": 7,
   "id": "086420e2",
   "metadata": {},
   "outputs": [],
   "source": [
    "warnings.filterwarnings(\n",
    "    \"ignore\",\n",
    "    message=(\n",
    "        \"DataFrame is highly fragmented.  This is usually the result of \"\n",
    "        \"calling `frame.insert` many times.*\"\n",
    "    ),\n",
    "    category=pd.errors.PerformanceWarning,\n",
    ")"
   ]
  },
  {
   "cell_type": "markdown",
   "id": "7749c3bd",
   "metadata": {},
   "source": [
    "### device setup"
   ]
  },
  {
   "cell_type": "code",
   "execution_count": 8,
   "id": "aa7f99a1",
   "metadata": {},
   "outputs": [],
   "source": [
    "device = torch.device(\"cuda\") if torch.cuda.is_available() else torch.device(\"cpu\")"
   ]
  },
  {
   "cell_type": "markdown",
   "id": "6a563074",
   "metadata": {},
   "source": [
    "### Dataset Setup"
   ]
  },
  {
   "cell_type": "code",
   "execution_count": 9,
   "id": "2bc2e83c",
   "metadata": {},
   "outputs": [],
   "source": [
    "dataset_path = kagglehub.dataset_download(DATASET_HANDLE)\n",
    "\n",
    "class CMIDataset(TensorDataset):\n",
    "    def __init__(\n",
    "        self,\n",
    "        parent_dir: str,\n",
    "        split: Optional[Literal[\"train\", \"validation\"]]=None,\n",
    "        subset: Optional[int]=None,\n",
    "        force_download=False\n",
    "    ):\n",
    "        dataset_path = kagglehub.dataset_download(DATASET_HANDLE, force_download)\n",
    "        parent_dir = join(dataset_path, \"preprocessed_dataset\", parent_dir)\n",
    "        split = \"\" if split is None else split + \"_\"\n",
    "        x = np.load(join(parent_dir, f\"{split}X.npy\")).swapaxes(1, 2)\n",
    "        y = np.load(join(parent_dir, f\"{split}Y.npy\"))\n",
    "        if subset is not None:\n",
    "            x = x[:subset]\n",
    "            y = y[:subset]\n",
    "        super().__init__(\n",
    "            torch.from_numpy(x), \n",
    "            torch.from_numpy(y),\n",
    "        )"
   ]
  },
  {
   "cell_type": "code",
   "execution_count": 10,
   "id": "5aae295d",
   "metadata": {},
   "outputs": [],
   "source": [
    "meta_data_path = join(\n",
    "    dataset_path,\n",
    "    \"preprocessed_dataset\",\n",
    "    \"full_dataset_meta_data.json\"\n",
    ")\n",
    "with open(meta_data_path, \"r\") as fp:\n",
    "    meta_data = json.load(fp)\n",
    "# Convert target names into a ndarray to index it batchwise.\n",
    "# meta_data[\"target_names\"] = np.asarray(meta_data[\"target_names\"])\n",
    "non_imu_feats_idx = [feat_idx for feat_idx, feat in enumerate(meta_data[\"feature_cols\"]) if feat.startswith((\"thm\", \"tof\"))]\n",
    "non_imu_feats = [feat for feat in meta_data[\"feature_cols\"] if feat.startswith((\"thm\", \"tof\"))]\n",
    "imu_feats_idx = [feat_idx for feat_idx, feat in enumerate(meta_data[\"feature_cols\"]) if not feat.startswith((\"thm\", \"tof\"))]\n",
    "imu_feats = [feat for feat in meta_data[\"feature_cols\"] if not feat.startswith((\"thm\", \"tof\"))]"
   ]
  },
  {
   "cell_type": "markdown",
   "id": "dbc6fe74",
   "metadata": {},
   "source": [
    "#### Compute class weights."
   ]
  },
  {
   "cell_type": "code",
   "execution_count": 11,
   "id": "74233c6c",
   "metadata": {},
   "outputs": [],
   "source": [
    "def compute_weighted_cross_entropy_loss(\n",
    "    dataset: Dataset[tuple[torch.Tensor, torch.Tensor]]\n",
    ") -> nn.CrossEntropyLoss:\n",
    "    \"\"\"\n",
    "    Computes class weights from a dataset with one-hot encoded targets and returns a CrossEntropyLoss with those weights.\n",
    "\n",
    "    Args:\n",
    "        dataset: A PyTorch Dataset that yields (x, y) where y is a one-hot encoded tensor of shape (num_classes,)\n",
    "\n",
    "    Returns:\n",
    "        A torch.nn.CrossEntropyLoss object with class weights based on inverse class frequency.\n",
    "    \"\"\"\n",
    "    class_counts: Counter = Counter()\n",
    "    num_samples = 0\n",
    "\n",
    "    for _, y in dataset:\n",
    "        class_idx = y.argmax().item()\n",
    "        class_counts[class_idx] += 1\n",
    "        num_samples += 1\n",
    "\n",
    "    num_classes = len(class_counts)\n",
    "    weights = torch.tensor(\n",
    "        [num_samples / class_counts[i] for i in range(num_classes)],\n",
    "        dtype=torch.float32,\n",
    "    )\n",
    "\n",
    "    # Optional: normalize weights so they sum to 1\n",
    "    weights = weights / weights.sum()\n",
    "\n",
    "    return nn.CrossEntropyLoss(weight=weights.to(device))\n"
   ]
  },
  {
   "cell_type": "markdown",
   "id": "2161df0c",
   "metadata": {
    "papermill": {
     "duration": 0.00278,
     "end_time": "2025-06-14T10:01:12.877551",
     "exception": false,
     "start_time": "2025-06-14T10:01:12.874771",
     "status": "completed"
    },
    "tags": []
   },
   "source": [
    "### BFRBs indices"
   ]
  },
  {
   "cell_type": "code",
   "execution_count": 12,
   "id": "e657c570",
   "metadata": {
    "execution": {
     "iopub.execute_input": "2025-06-14T10:01:12.884365Z",
     "iopub.status.busy": "2025-06-14T10:01:12.883937Z",
     "iopub.status.idle": "2025-06-14T10:01:45.309186Z",
     "shell.execute_reply": "2025-06-14T10:01:45.308564Z"
    },
    "papermill": {
     "duration": 32.430139,
     "end_time": "2025-06-14T10:01:45.310511",
     "exception": false,
     "start_time": "2025-06-14T10:01:12.880372",
     "status": "completed"
    },
    "tags": []
   },
   "outputs": [
    {
     "name": "stdout",
     "output_type": "stream",
     "text": [
      "Loading datasets...\n",
      "Train rows: 574945, Test rows: 107\n"
     ]
    }
   ],
   "source": [
    "print(\"Loading datasets...\")\n",
    "competition_dataset_path = kagglehub.competition_download(COMPETITION_HANDLE)\n",
    "train_df = pd.read_csv(join(competition_dataset_path, \"train.csv\"))\n",
    "train_dem_df = pd.read_csv(join(competition_dataset_path, \"train_demographics.csv\"))\n",
    "test_df = pd.read_csv(join(competition_dataset_path, \"test.csv\"))\n",
    "test_dem_df = pd.read_csv(join(competition_dataset_path, \"test_demographics.csv\"))\n",
    "print(f\"Train rows: {len(train_df)}, Test rows: {len(test_df)}\")\n",
    "\n",
    "# Encode labels\n",
    "label_encoder = LabelEncoder()\n",
    "train_df['gesture'] = label_encoder.fit_transform(train_df['gesture'].astype(str))\n",
    "gesture_classes = label_encoder.classes_\n",
    "\n",
    "bfrb_gestures = [\n",
    "    'Above ear - pull hair',\n",
    "    'Forehead - pull hairline',\n",
    "    'Forehead - scratch',\n",
    "    'Eyebrow - pull hair',\n",
    "    'Eyelash - pull hair',\n",
    "    'Neck - pinch skin',\n",
    "    'Neck - scratch',\n",
    "    'Cheek - pinch skin'\n",
    "]\n",
    "bfrb_indices = label_encoder.transform(bfrb_gestures)"
   ]
  },
  {
   "cell_type": "markdown",
   "id": "0de16cc1",
   "metadata": {},
   "source": [
    "### Scheduler"
   ]
  },
  {
   "cell_type": "code",
   "execution_count": 13,
   "id": "d3d46b85",
   "metadata": {},
   "outputs": [],
   "source": [
    "class CosineAnnealingWarmupRestarts(_LRScheduler):\n",
    "    def __init__(\n",
    "        self,\n",
    "        optimizer: Optimizer,\n",
    "        warmup_steps: int,\n",
    "        max_lr: float,\n",
    "        min_lr: float,\n",
    "        cycle_length: int,\n",
    "        cycle_mult: float = 1.0,\n",
    "        gamma: float = 1.0,\n",
    "        last_epoch: int = -1,\n",
    "    ) -> None:\n",
    "        \"\"\"\n",
    "        Args:\n",
    "            optimizer: Wrapped optimizer.\n",
    "            warmup_steps: Number of steps for linear warmup.\n",
    "            max_lr: Initial maximum learning rate.\n",
    "            min_lr: Minimum learning rate after decay.\n",
    "            cycle_length: Initial number of steps per cosine cycle.\n",
    "            cycle_mult: Multiplicative factor for increasing cycle lengths.\n",
    "            gamma: Multiplicative decay factor for max_lr after each cycle.\n",
    "            last_epoch: The index of last epoch. Default: -1.\n",
    "        \"\"\"\n",
    "        self.warmup_steps = warmup_steps\n",
    "        self.max_lr = max_lr\n",
    "        self.min_lr = min_lr\n",
    "        self.cycle_length = cycle_length\n",
    "        self.cycle_mult = cycle_mult\n",
    "        self.gamma = gamma\n",
    "\n",
    "        self.current_cycle = 0\n",
    "        self.cycle_step = 0\n",
    "        self.lr = max_lr\n",
    "\n",
    "        super().__init__(optimizer, last_epoch)\n",
    "\n",
    "    def get_lr(self) -> list[float]:\n",
    "        if self.last_epoch < self.warmup_steps:\n",
    "            # Linear warmup\n",
    "            scale = (self.last_epoch + 1) / self.warmup_steps\n",
    "            return [self.min_lr + scale * (self.max_lr - self.min_lr) for _ in self.base_lrs]\n",
    "\n",
    "        # Adjust for post-warmup step index\n",
    "        t = self.cycle_step\n",
    "        T = self.cycle_length\n",
    "\n",
    "        cosine_decay = 0.5 * (1 + math.cos(math.pi * t / T))\n",
    "        lr = self.min_lr + (self.max_lr - self.min_lr) * cosine_decay\n",
    "\n",
    "        return [lr for _ in self.base_lrs]\n",
    "\n",
    "    def step(self, epoch: Optional[int] = None) -> None:\n",
    "        if self.last_epoch >= self.warmup_steps:\n",
    "            self.cycle_step += 1\n",
    "            if self.cycle_step >= self.cycle_length:\n",
    "                self.current_cycle += 1\n",
    "                self.cycle_step = 0\n",
    "                self.cycle_length = int(self.cycle_length * self.cycle_mult)\n",
    "                self.max_lr *= self.gamma\n",
    "        super().step(epoch)\n"
   ]
  },
  {
   "cell_type": "markdown",
   "id": "9c54244a",
   "metadata": {},
   "source": [
    "## Model definition"
   ]
  },
  {
   "cell_type": "code",
   "execution_count": 14,
   "id": "80ae01a8",
   "metadata": {},
   "outputs": [],
   "source": [
    "class MultiScaleConvs(nn.Module):\n",
    "    def __init__(self, in_channels:int, kernel_sizes:list[int]):\n",
    "        super().__init__()\n",
    "        def mk_conv_block(k_size) -> nn.Sequential:\n",
    "            return nn.Sequential(\n",
    "                nn.Conv1d(in_channels, in_channels, k_size, padding=k_size // 2, groups=in_channels),\n",
    "                nn.BatchNorm1d(in_channels),\n",
    "                nn.ReLU(),\n",
    "            )\n",
    "        self.convs = nn.ModuleList(map(mk_conv_block, kernel_sizes))\n",
    "\n",
    "    def forward(self, x:Tensor) -> Tensor:\n",
    "        yes = torch.cat([conv(x) for conv in self.convs] + [x], dim=1)\n",
    "        # print(\"stem output shape:\", yes.shape)\n",
    "        return yes\n",
    "\n",
    "class SqueezeExcitationBlock(nn.Module):\n",
    "    # Copy/paste of https://www.kaggle.com/code/wasupandceacar/lb-0-82-5fold-single-bert-model#Model implementation\n",
    "    def __init__(self, channels:int, reduction:int=8):\n",
    "        super().__init__()\n",
    "        self.fc1 = nn.Linear(channels, channels // reduction, bias=True)\n",
    "        self.fc2 = nn.Linear(channels // reduction, channels, bias=True)\n",
    "        self.sigmoid = nn.Sigmoid()\n",
    "\n",
    "    def forward(self, x):\n",
    "        # x: (B, C, L)\n",
    "        se = F.adaptive_avg_pool1d(x, 1).squeeze(-1)      # -> (B, C)\n",
    "        se = F.relu(self.fc1(se), inplace=True)          # -> (B, C//r)\n",
    "        se = self.sigmoid(self.fc2(se)).unsqueeze(-1)    # -> (B, C, 1)\n",
    "        return x * se\n",
    "\n",
    "class ResidualBlock(nn.Module):\n",
    "    def __init__(self, in_chns:int, out_chns:int, dropout_ratio:float=0.3):\n",
    "        super().__init__()\n",
    "        self.blocks = nn.Sequential(\n",
    "            nn.Conv1d(in_chns, out_chns, kernel_size=3, padding=1),\n",
    "            nn.BatchNorm1d(out_chns),\n",
    "            nn.ReLU(),\n",
    "            nn.Conv1d(out_chns, out_chns, kernel_size=3, padding=1),\n",
    "            nn.BatchNorm1d(out_chns),\n",
    "            SqueezeExcitationBlock(out_chns),\n",
    "        )\n",
    "        self.head = nn.Sequential(nn.ReLU(), nn.Dropout(dropout_ratio))\n",
    "        if in_chns == out_chns:\n",
    "            self.skip_connection = nn.Identity() \n",
    "        else:\n",
    "            # TODO: set bias to False ?\n",
    "            self.skip_connection = nn.Sequential(\n",
    "                nn.Conv1d(in_chns, out_chns, 1),\n",
    "                nn.BatchNorm1d(out_chns)\n",
    "            )\n",
    "            self.head.add_module(\"max_pool\", nn.MaxPool1d(2))\n",
    "            \n",
    "    def forward(self, x:Tensor) -> Tensor:\n",
    "        activaition_maps = self.skip_connection(x) + self.blocks(x)\n",
    "        return self.head(activaition_maps)\n",
    "\n",
    "class MBConvBlock(nn.Module):\n",
    "    # From this schema: https://media.licdn.com/dms/image/v2/D5612AQFjbDOm5uyxdw/article-inline_image-shrink_1500_2232/article-inline_image-shrink_1500_2232/0/1683677500817?e=1758153600&v=beta&t=n48_UW5TZTyDPhRFlJXSidUQQPQpuC756M0kNeKmYTY\n",
    "    def __init__(self, in_chns:int, out_chns:int, se_reduction:int=8, expansion_ratio:int=4, dropout_ratio:float=0.3):\n",
    "        super().__init__()\n",
    "        expanded_channels = in_chns * expansion_ratio\n",
    "        self.blocks = nn.Sequential(\n",
    "            nn.Conv1d(in_chns, expanded_channels, kernel_size=1),\n",
    "            nn.BatchNorm1d(expanded_channels),\n",
    "            nn.ReLU(),\n",
    "            nn.Conv1d(\n",
    "                expanded_channels,\n",
    "                expanded_channels,\n",
    "                kernel_size=3,\n",
    "                padding=1,\n",
    "                groups=expanded_channels,\n",
    "            ),\n",
    "            nn.BatchNorm1d(expanded_channels),\n",
    "            nn.ReLU(),\n",
    "            SqueezeExcitationBlock(expanded_channels, se_reduction),\n",
    "            nn.Conv1d(expanded_channels, out_chns, kernel_size=1)\n",
    "        )\n",
    "        self.head = nn.Sequential(\n",
    "            nn.BatchNorm1d(out_chns)\n",
    "            # nn.ReLU(),\n",
    "            # nn.Dropout(dropout_ratio),\n",
    "        )\n",
    "        if in_chns == out_chns:\n",
    "            self.skip_connection = nn.Identity() \n",
    "        else:\n",
    "            # TODO: set bias to False ?\n",
    "            self.skip_connection = nn.Sequential(\n",
    "                nn.Conv1d(in_chns, out_chns, 1),\n",
    "                nn.BatchNorm1d(out_chns)\n",
    "            )\n",
    "            self.head.add_module(\"max_pool\", nn.MaxPool1d(2))\n",
    "            \n",
    "    def forward(self, x:Tensor) -> Tensor:\n",
    "        activaition_maps = self.skip_connection(x) + self.blocks(x)\n",
    "        return self.head(activaition_maps)\n",
    "\n",
    "class AdditiveAttentionLayer(nn.Module):\n",
    "    # Copied (and slightly modified) from https://www.kaggle.com/code/myso1987/cmi3-pyroch-baseline-model-add-aug-folds\n",
    "    def __init__(self, hidden_dim):\n",
    "        super().__init__()\n",
    "        self.attention = nn.Linear(hidden_dim, 1)\n",
    "\n",
    "    def forward(self, x: Tensor) -> Tensor:\n",
    "        # x shape: (batch, channels, seq_len)\n",
    "        x = x.swapaxes(1, 2)\n",
    "        # x shape: (batch, seq_len, hidden_dim)\n",
    "        scores = torch.tanh(self.attention(x))  # (batch, seq_len, 1)\n",
    "        weights = F.softmax(scores.squeeze(-1), dim=1)  # (batch, seq_len)\n",
    "        context = torch.sum(x * weights.unsqueeze(-1), dim=1)  # (batch, hidden_dim)\n",
    "        return context\n",
    "\n",
    "class AdditiveMultiAttentionLayer(nn.Module):\n",
    "    # Copied (and slightly modified) from https://www.kaggle.com/code/myso1987/cmi3-pyroch-baseline-model-add-aug-folds\n",
    "    def __init__(self, hidden_dim:int, heads:int):\n",
    "        super().__init__()\n",
    "        self.attention = nn.Linear(hidden_dim, heads)\n",
    "\n",
    "    def forward(self, x: Tensor) -> Tensor:\n",
    "        # x shape: (batch, channels, seq_len)\n",
    "        x = x.swapaxes(1, 2) # (batch, seq_len, hidden_dim)\n",
    "        scores = self.attention(x) # (batch, seq_len, heads)\n",
    "        scores = torch.max(scores, dim=2)[0] # (batch, seq_len, 1)\n",
    "        scores = torch.tanh(scores)  # (batch, seq_len, 1)\n",
    "        weights = F.softmax(scores.squeeze(-1), dim=1)  # (batch, seq_len)\n",
    "        context = torch.sum(x * weights.unsqueeze(-1), dim=1)  # (batch, hidden_dim)\n",
    "        return context\n",
    "\n",
    "class Resnet(nn.Module):\n",
    "    def __init__(\n",
    "            self,\n",
    "            in_channels:int,\n",
    "            depth:int,\n",
    "            mlp_width:int,\n",
    "            n_class:int,\n",
    "            se_reduction:int=8,\n",
    "            mbconv_expansion:int=4,\n",
    "            additive_attention_heads:int=4,\n",
    "            stem_kernels_sizes:Optional[list[int]]=None,\n",
    "        ):\n",
    "        super().__init__()\n",
    "        if stem_kernels_sizes:\n",
    "            stem = MultiScaleConvs(in_channels, kernel_sizes=stem_kernels_sizes)\n",
    "            body_in_channels = in_channels + in_channels * len(stem_kernels_sizes)\n",
    "        else:\n",
    "            body_in_channels = in_channels\n",
    "            stem = nn.Identity()\n",
    "        chns_at_depth = lambda depth: body_in_channels * 2 ** depth\n",
    "        blocks_chns_it = pairwise(map(chns_at_depth, range(depth)))\n",
    "        mk_mb_conv_block = partial(\n",
    "            MBConvBlock,\n",
    "            se_reduction=se_reduction,\n",
    "            expansion_ratio=mbconv_expansion\n",
    "        )\n",
    "        res_blocks = list(starmap(mk_mb_conv_block, blocks_chns_it))\n",
    "        self.stem_and_body = nn.Sequential(\n",
    "            # Stem\n",
    "            stem,\n",
    "            # Body\n",
    "            *res_blocks,\n",
    "            \n",
    "        )\n",
    "        self.lstm = nn.LSTM(chns_at_depth(depth - 1), mlp_width // 2, bidirectional=True)\n",
    "        self.attention = AdditiveAttentionLayer(mlp_width)\n",
    "        self.head = nn.Sequential(\n",
    "            # Head\n",
    "            nn.LazyLinear(mlp_width),\n",
    "            nn.ReLU(),\n",
    "            nn.Linear(mlp_width, n_class),\n",
    "        )\n",
    "\n",
    "    def forward(self, x:Tensor) -> Tensor:\n",
    "        yes = self.stem_and_body(x)\n",
    "        lstm_output, _  = self.lstm(yes.swapaxes(1, 2))\n",
    "        lstm_output = lstm_output.swapaxes(1, 2) # redunant\n",
    "        attended = self.attention(lstm_output)\n",
    "        return self.head(attended)\n"
   ]
  },
  {
   "cell_type": "markdown",
   "id": "bfc08e41",
   "metadata": {},
   "source": [
    "### Create model function"
   ]
  },
  {
   "cell_type": "code",
   "execution_count": 15,
   "id": "36e3e463",
   "metadata": {},
   "outputs": [
    {
     "data": {
      "text/plain": [
       "Resnet(\n",
       "  (stem_and_body): Sequential(\n",
       "    (0): Identity()\n",
       "    (1): MBConvBlock(\n",
       "      (blocks): Sequential(\n",
       "        (0): Conv1d(66, 264, kernel_size=(1,), stride=(1,))\n",
       "        (1): BatchNorm1d(264, eps=1e-05, momentum=0.1, affine=True, track_running_stats=True)\n",
       "        (2): ReLU()\n",
       "        (3): Conv1d(264, 264, kernel_size=(3,), stride=(1,), padding=(1,), groups=264)\n",
       "        (4): BatchNorm1d(264, eps=1e-05, momentum=0.1, affine=True, track_running_stats=True)\n",
       "        (5): ReLU()\n",
       "        (6): SqueezeExcitationBlock(\n",
       "          (fc1): Linear(in_features=264, out_features=33, bias=True)\n",
       "          (fc2): Linear(in_features=33, out_features=264, bias=True)\n",
       "          (sigmoid): Sigmoid()\n",
       "        )\n",
       "        (7): Conv1d(264, 132, kernel_size=(1,), stride=(1,))\n",
       "      )\n",
       "      (head): Sequential(\n",
       "        (0): BatchNorm1d(132, eps=1e-05, momentum=0.1, affine=True, track_running_stats=True)\n",
       "        (max_pool): MaxPool1d(kernel_size=2, stride=2, padding=0, dilation=1, ceil_mode=False)\n",
       "      )\n",
       "      (skip_connection): Sequential(\n",
       "        (0): Conv1d(66, 132, kernel_size=(1,), stride=(1,))\n",
       "        (1): BatchNorm1d(132, eps=1e-05, momentum=0.1, affine=True, track_running_stats=True)\n",
       "      )\n",
       "    )\n",
       "  )\n",
       "  (lstm): LSTM(132, 128, bidirectional=True)\n",
       "  (attention): AdditiveAttentionLayer(\n",
       "    (attention): Linear(in_features=256, out_features=1, bias=True)\n",
       "  )\n",
       "  (head): Sequential(\n",
       "    (0): LazyLinear(in_features=0, out_features=256, bias=True)\n",
       "    (1): ReLU()\n",
       "    (2): Linear(in_features=256, out_features=18, bias=True)\n",
       "  )\n",
       ")"
      ]
     },
     "metadata": {},
     "output_type": "display_data"
    },
    {
     "name": "stdout",
     "output_type": "stream",
     "text": [
      "input channels: 66\n"
     ]
    }
   ],
   "source": [
    "def mk_model() -> nn.Module:\n",
    "    nb_in_chans = len(meta_data[\"feature_cols\"])\n",
    "    return (\n",
    "        Resnet(\n",
    "            in_channels=nb_in_chans,\n",
    "            depth=2,\n",
    "            mlp_width=256,\n",
    "            n_class=18,\n",
    "            # stem_kernels_sizes=[11, 21, 31],\n",
    "            additive_attention_heads=32,\n",
    "        )\n",
    "        .to(device)\n",
    "    )\n",
    "\n",
    "display(mk_model())\n",
    "print(\"input channels:\", len(meta_data[\"feature_cols\"]))"
   ]
  },
  {
   "cell_type": "markdown",
   "id": "8afc6e79",
   "metadata": {},
   "source": [
    "## Training loop"
   ]
  },
  {
   "cell_type": "code",
   "execution_count": 16,
   "id": "a69ec966",
   "metadata": {},
   "outputs": [],
   "source": [
    "def fit(epochs:int,\n",
    "        model: nn.Module,\n",
    "        scheduler: LRScheduler,\n",
    "        optimizer: torch.optim.Optimizer,\n",
    "        train_loader: DL,\n",
    "        criterion: callable=nn.L1Loss(),\n",
    "        evaluation_func: callable=None,\n",
    "        validation_loader: DL=None,\n",
    "        save_checkpoints=True,\n",
    "    ) -> tuple[DF, str]:\n",
    "    \"\"\"\n",
    "    Returns:\n",
    "        (training_metrics, path_to_checkpoints)\n",
    "    \"\"\"\n",
    "    # Setup\n",
    "    metrics: list[dict] = []\n",
    "    step = 0\n",
    "    model_device = next(model.parameters()).device\n",
    "    last_epoch_metric = {}\n",
    "    # Training loop\n",
    "    with Progress() as progress:\n",
    "        task: Task = progress.add_task(\n",
    "            \"training...\",\n",
    "            total=len(train_loader),\n",
    "        )\n",
    "        for epoch in range(epochs):\n",
    "            progress.update(\n",
    "                task,\n",
    "                description=f\"epoch: {epoch}\",\n",
    "                completed=0,\n",
    "            )\n",
    "            total_epoch_loss = 0\n",
    "            total_accuracy = 0\n",
    "            for batch_idx, (x, y) in enumerate(train_loader):\n",
    "                # forward\n",
    "                x = x.to(model_device)\n",
    "                y = y.to(model_device)\n",
    "                model.train()\n",
    "                optimizer.zero_grad()\n",
    "                y_pred: Tensor = model(x)\n",
    "                loss_value = criterion(y_pred, y)\n",
    "                # Verify loss value\n",
    "                if torch.isnan(loss_value).any().item():\n",
    "                    progress.print(\"Warning: Got NaN loss, stopped training.\")\n",
    "                    return DF.from_records(metrics)\n",
    "                if torch.isinf(loss_value).any().item():\n",
    "                    progress.print(\"Warning: Got infinite loss, stopped training.\")\n",
    "                    return DF.from_records(metrics)\n",
    "                # TODO: Use gradient clipping?\n",
    "                loss_value.backward()\n",
    "                optimizer.step()\n",
    "                if step > 0: # If it's not the first training step, idk why it throws an error otherwise\n",
    "                    scheduler.step()\n",
    "                # metrics\n",
    "                total_epoch_loss += loss_value.item()\n",
    "                metrics.append({\n",
    "                    \"step\": step,\n",
    "                    \"epoch\": epoch,\n",
    "                    \"batch_train_loss\": loss_value.item(),\n",
    "                    \"lr\": optimizer.state_dict()[\"param_groups\"][-1][\"lr\"],\n",
    "                })\n",
    "                step += 1\n",
    "                if \"validation_accuracy\" in last_epoch_metric:\n",
    "                    last_validation_acc = \"%.2f\" % last_epoch_metric[\"validation_accuracy\"]\n",
    "                    val_acc_str = \"val. acc: \" + last_validation_acc\n",
    "                else:\n",
    "                    val_acc_str = \"\"\n",
    "                progress.update(\n",
    "                    task,\n",
    "                    advance=1,\n",
    "                    description=f\"epoch: {epoch}, batch_loss: {(total_epoch_loss / (batch_idx+1)):.2f}, {val_acc_str}\"\n",
    "                )\n",
    "            # Post epoch evalution\n",
    "            metrics[-1][\"train_epoch_loss\"] = total_epoch_loss / len(train_loader)\n",
    "            metrics[-1][\"train_epoch_accuracy\"] = total_accuracy / len(train_loader)\n",
    "            if evaluation_func:\n",
    "                progress.update(\n",
    "                    task,\n",
    "                    completed=0,\n",
    "                    description=f\"epoch: {epoch}, evaluating...\"\n",
    "                )\n",
    "                eval_metrics = evaluation_func(model, criterion, validation_loader)\n",
    "                metrics[-1].update(eval_metrics)\n",
    "            last_epoch_metric = metrics[-1]\n",
    "\n",
    "    return DF.from_records(metrics)"
   ]
  },
  {
   "cell_type": "markdown",
   "id": "5a490227",
   "metadata": {},
   "source": [
    "### Create model and train model"
   ]
  },
  {
   "cell_type": "code",
   "execution_count": 17,
   "id": "34cd5bba",
   "metadata": {},
   "outputs": [],
   "source": [
    "def mk_model_and_fit(\n",
    "        train_loader:DL,\n",
    "        mk_scheduler:callable,\n",
    "        epochs:int,\n",
    "        validation_loader:Optional[DL]=None,\n",
    "        save_checkpoints=False,\n",
    "        criterion=nn.CrossEntropyLoss()\n",
    "    ) -> tuple[nn.Module, DF, list[str]]:\n",
    "    model = mk_model()\n",
    "    optimizer = torch.optim.AdamW(model.parameters(), STARTING_LR)\n",
    "    lr_scheduler = mk_scheduler(optimizer)\n",
    "    training_metrics = fit(\n",
    "        epochs=epochs,\n",
    "        model=model,\n",
    "        scheduler=lr_scheduler,\n",
    "        optimizer=optimizer,\n",
    "        train_loader=train_loader,\n",
    "        criterion=criterion,\n",
    "        # evaluation_func=evaluate_model if validation_loader else None,\n",
    "        validation_loader=validation_loader,\n",
    "        save_checkpoints=save_checkpoints,\n",
    "    )\n",
    "\n",
    "    return model, training_metrics"
   ]
  },
  {
   "cell_type": "markdown",
   "id": "9256152c",
   "metadata": {},
   "source": [
    "## Search max learning rate"
   ]
  },
  {
   "cell_type": "code",
   "execution_count": 18,
   "id": "40b0c8ef",
   "metadata": {},
   "outputs": [],
   "source": [
    "def post_process_mock_training_metrics(training_metrics:DF) -> DF:\n",
    "    training_metrics = (\n",
    "        training_metrics\n",
    "        .query(\"batch_train_loss.notna()\")\n",
    "        .set_index(\"lr\", drop=False)\n",
    "        .sort_index()\n",
    "    )\n",
    "    training_metrics[\"ewm_batch_train_loss\"] = (\n",
    "        training_metrics\n",
    "        .ewm(com=30, ignore_na=False)\n",
    "        [\"batch_train_loss\"]\n",
    "        .mean()\n",
    "    )\n",
    "    training_metrics[\"ewm_batch_train_loss_diff\"] = training_metrics[\"ewm_batch_train_loss\"].diff()\n",
    "    return training_metrics"
   ]
  },
  {
   "cell_type": "code",
   "execution_count": 19,
   "id": "7c231028",
   "metadata": {},
   "outputs": [],
   "source": [
    "def plt_lr_search_training_metrics(training_metrics:DF):\n",
    "    (    \n",
    "        px.line(\n",
    "            (\n",
    "                training_metrics\n",
    "                .reset_index(drop=True)\n",
    "                .melt(\n",
    "                    id_vars=\"lr\",\n",
    "                    value_vars=[\n",
    "                        \"batch_train_loss\",\n",
    "                        \"ewm_batch_train_loss\",\n",
    "                        # \"ewm_batch_train_loss_diff\",\n",
    "                    ],\n",
    "                )\n",
    "            ),\n",
    "            x=\"lr\",\n",
    "            facet_row=\"variable\",\n",
    "            y=\"value\",\n",
    "            log_x=True,\n",
    "            log_y=True,\n",
    "            height=750,\n",
    "        )\n",
    "        .update_yaxes(matches=None)\n",
    "        .show()\n",
    "    )"
   ]
  },
  {
   "cell_type": "code",
   "execution_count": 20,
   "id": "e9ae0c04",
   "metadata": {},
   "outputs": [
    {
     "data": {
      "application/vnd.jupyter.widget-view+json": {
       "model_id": "74f7d88b22f9478f917e9b0ff5f1322d",
       "version_major": 2,
       "version_minor": 0
      },
      "text/plain": [
       "Output()"
      ]
     },
     "metadata": {},
     "output_type": "display_data"
    },
    {
     "data": {
      "text/html": [
       "<pre style=\"white-space:pre;overflow-x:auto;line-height:normal;font-family:Menlo,'DejaVu Sans Mono',consolas,'Courier New',monospace\"></pre>\n"
      ],
      "text/plain": []
     },
     "metadata": {},
     "output_type": "display_data"
    },
    {
     "data": {
      "application/vnd.plotly.v1+json": {
       "config": {
        "plotlyServerURL": "https://plot.ly"
       },
       "data": [
        {
         "hovertemplate": "variable=batch_train_loss<br>lr=%{x}<br>value=%{y}<extra></extra>",
         "legendgroup": "",
         "line": {
          "color": "#636efa",
          "dash": "solid"
         },
         "marker": {
          "symbol": "circle"
         },
         "mode": "lines",
         "name": "",
         "orientation": "v",
         "showlegend": false,
         "type": "scatter",
         "x": {
          "bdata": "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",
          "dtype": "f8"
         },
         "xaxis": "x2",
         "y": {
          "bdata": "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",
          "dtype": "f8"
         },
         "yaxis": "y2"
        },
        {
         "hovertemplate": "variable=ewm_batch_train_loss<br>lr=%{x}<br>value=%{y}<extra></extra>",
         "legendgroup": "",
         "line": {
          "color": "#636efa",
          "dash": "solid"
         },
         "marker": {
          "symbol": "circle"
         },
         "mode": "lines",
         "name": "",
         "orientation": "v",
         "showlegend": false,
         "type": "scatter",
         "x": {
          "bdata": "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",
          "dtype": "f8"
         },
         "xaxis": "x",
         "y": {
          "bdata": "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",
          "dtype": "f8"
         },
         "yaxis": "y"
        }
       ],
       "layout": {
        "annotations": [
         {
          "font": {},
          "showarrow": false,
          "text": "variable=ewm_batch_train_loss",
          "textangle": 90,
          "x": 0.98,
          "xanchor": "left",
          "xref": "paper",
          "y": 0.2425,
          "yanchor": "middle",
          "yref": "paper"
         },
         {
          "font": {},
          "showarrow": false,
          "text": "variable=batch_train_loss",
          "textangle": 90,
          "x": 0.98,
          "xanchor": "left",
          "xref": "paper",
          "y": 0.7575000000000001,
          "yanchor": "middle",
          "yref": "paper"
         }
        ],
        "height": 750,
        "legend": {
         "tracegroupgap": 0
        },
        "margin": {
         "t": 60
        },
        "template": {
         "data": {
          "bar": [
           {
            "error_x": {
             "color": "#2a3f5f"
            },
            "error_y": {
             "color": "#2a3f5f"
            },
            "marker": {
             "line": {
              "color": "#E5ECF6",
              "width": 0.5
             },
             "pattern": {
              "fillmode": "overlay",
              "size": 10,
              "solidity": 0.2
             }
            },
            "type": "bar"
           }
          ],
          "barpolar": [
           {
            "marker": {
             "line": {
              "color": "#E5ECF6",
              "width": 0.5
             },
             "pattern": {
              "fillmode": "overlay",
              "size": 10,
              "solidity": 0.2
             }
            },
            "type": "barpolar"
           }
          ],
          "carpet": [
           {
            "aaxis": {
             "endlinecolor": "#2a3f5f",
             "gridcolor": "white",
             "linecolor": "white",
             "minorgridcolor": "white",
             "startlinecolor": "#2a3f5f"
            },
            "baxis": {
             "endlinecolor": "#2a3f5f",
             "gridcolor": "white",
             "linecolor": "white",
             "minorgridcolor": "white",
             "startlinecolor": "#2a3f5f"
            },
            "type": "carpet"
           }
          ],
          "choropleth": [
           {
            "colorbar": {
             "outlinewidth": 0,
             "ticks": ""
            },
            "type": "choropleth"
           }
          ],
          "contour": [
           {
            "colorbar": {
             "outlinewidth": 0,
             "ticks": ""
            },
            "colorscale": [
             [
              0,
              "#0d0887"
             ],
             [
              0.1111111111111111,
              "#46039f"
             ],
             [
              0.2222222222222222,
              "#7201a8"
             ],
             [
              0.3333333333333333,
              "#9c179e"
             ],
             [
              0.4444444444444444,
              "#bd3786"
             ],
             [
              0.5555555555555556,
              "#d8576b"
             ],
             [
              0.6666666666666666,
              "#ed7953"
             ],
             [
              0.7777777777777778,
              "#fb9f3a"
             ],
             [
              0.8888888888888888,
              "#fdca26"
             ],
             [
              1,
              "#f0f921"
             ]
            ],
            "type": "contour"
           }
          ],
          "contourcarpet": [
           {
            "colorbar": {
             "outlinewidth": 0,
             "ticks": ""
            },
            "type": "contourcarpet"
           }
          ],
          "heatmap": [
           {
            "colorbar": {
             "outlinewidth": 0,
             "ticks": ""
            },
            "colorscale": [
             [
              0,
              "#0d0887"
             ],
             [
              0.1111111111111111,
              "#46039f"
             ],
             [
              0.2222222222222222,
              "#7201a8"
             ],
             [
              0.3333333333333333,
              "#9c179e"
             ],
             [
              0.4444444444444444,
              "#bd3786"
             ],
             [
              0.5555555555555556,
              "#d8576b"
             ],
             [
              0.6666666666666666,
              "#ed7953"
             ],
             [
              0.7777777777777778,
              "#fb9f3a"
             ],
             [
              0.8888888888888888,
              "#fdca26"
             ],
             [
              1,
              "#f0f921"
             ]
            ],
            "type": "heatmap"
           }
          ],
          "histogram": [
           {
            "marker": {
             "pattern": {
              "fillmode": "overlay",
              "size": 10,
              "solidity": 0.2
             }
            },
            "type": "histogram"
           }
          ],
          "histogram2d": [
           {
            "colorbar": {
             "outlinewidth": 0,
             "ticks": ""
            },
            "colorscale": [
             [
              0,
              "#0d0887"
             ],
             [
              0.1111111111111111,
              "#46039f"
             ],
             [
              0.2222222222222222,
              "#7201a8"
             ],
             [
              0.3333333333333333,
              "#9c179e"
             ],
             [
              0.4444444444444444,
              "#bd3786"
             ],
             [
              0.5555555555555556,
              "#d8576b"
             ],
             [
              0.6666666666666666,
              "#ed7953"
             ],
             [
              0.7777777777777778,
              "#fb9f3a"
             ],
             [
              0.8888888888888888,
              "#fdca26"
             ],
             [
              1,
              "#f0f921"
             ]
            ],
            "type": "histogram2d"
           }
          ],
          "histogram2dcontour": [
           {
            "colorbar": {
             "outlinewidth": 0,
             "ticks": ""
            },
            "colorscale": [
             [
              0,
              "#0d0887"
             ],
             [
              0.1111111111111111,
              "#46039f"
             ],
             [
              0.2222222222222222,
              "#7201a8"
             ],
             [
              0.3333333333333333,
              "#9c179e"
             ],
             [
              0.4444444444444444,
              "#bd3786"
             ],
             [
              0.5555555555555556,
              "#d8576b"
             ],
             [
              0.6666666666666666,
              "#ed7953"
             ],
             [
              0.7777777777777778,
              "#fb9f3a"
             ],
             [
              0.8888888888888888,
              "#fdca26"
             ],
             [
              1,
              "#f0f921"
             ]
            ],
            "type": "histogram2dcontour"
           }
          ],
          "mesh3d": [
           {
            "colorbar": {
             "outlinewidth": 0,
             "ticks": ""
            },
            "type": "mesh3d"
           }
          ],
          "parcoords": [
           {
            "line": {
             "colorbar": {
              "outlinewidth": 0,
              "ticks": ""
             }
            },
            "type": "parcoords"
           }
          ],
          "pie": [
           {
            "automargin": true,
            "type": "pie"
           }
          ],
          "scatter": [
           {
            "fillpattern": {
             "fillmode": "overlay",
             "size": 10,
             "solidity": 0.2
            },
            "type": "scatter"
           }
          ],
          "scatter3d": [
           {
            "line": {
             "colorbar": {
              "outlinewidth": 0,
              "ticks": ""
             }
            },
            "marker": {
             "colorbar": {
              "outlinewidth": 0,
              "ticks": ""
             }
            },
            "type": "scatter3d"
           }
          ],
          "scattercarpet": [
           {
            "marker": {
             "colorbar": {
              "outlinewidth": 0,
              "ticks": ""
             }
            },
            "type": "scattercarpet"
           }
          ],
          "scattergeo": [
           {
            "marker": {
             "colorbar": {
              "outlinewidth": 0,
              "ticks": ""
             }
            },
            "type": "scattergeo"
           }
          ],
          "scattergl": [
           {
            "marker": {
             "colorbar": {
              "outlinewidth": 0,
              "ticks": ""
             }
            },
            "type": "scattergl"
           }
          ],
          "scattermap": [
           {
            "marker": {
             "colorbar": {
              "outlinewidth": 0,
              "ticks": ""
             }
            },
            "type": "scattermap"
           }
          ],
          "scattermapbox": [
           {
            "marker": {
             "colorbar": {
              "outlinewidth": 0,
              "ticks": ""
             }
            },
            "type": "scattermapbox"
           }
          ],
          "scatterpolar": [
           {
            "marker": {
             "colorbar": {
              "outlinewidth": 0,
              "ticks": ""
             }
            },
            "type": "scatterpolar"
           }
          ],
          "scatterpolargl": [
           {
            "marker": {
             "colorbar": {
              "outlinewidth": 0,
              "ticks": ""
             }
            },
            "type": "scatterpolargl"
           }
          ],
          "scatterternary": [
           {
            "marker": {
             "colorbar": {
              "outlinewidth": 0,
              "ticks": ""
             }
            },
            "type": "scatterternary"
           }
          ],
          "surface": [
           {
            "colorbar": {
             "outlinewidth": 0,
             "ticks": ""
            },
            "colorscale": [
             [
              0,
              "#0d0887"
             ],
             [
              0.1111111111111111,
              "#46039f"
             ],
             [
              0.2222222222222222,
              "#7201a8"
             ],
             [
              0.3333333333333333,
              "#9c179e"
             ],
             [
              0.4444444444444444,
              "#bd3786"
             ],
             [
              0.5555555555555556,
              "#d8576b"
             ],
             [
              0.6666666666666666,
              "#ed7953"
             ],
             [
              0.7777777777777778,
              "#fb9f3a"
             ],
             [
              0.8888888888888888,
              "#fdca26"
             ],
             [
              1,
              "#f0f921"
             ]
            ],
            "type": "surface"
           }
          ],
          "table": [
           {
            "cells": {
             "fill": {
              "color": "#EBF0F8"
             },
             "line": {
              "color": "white"
             }
            },
            "header": {
             "fill": {
              "color": "#C8D4E3"
             },
             "line": {
              "color": "white"
             }
            },
            "type": "table"
           }
          ]
         },
         "layout": {
          "annotationdefaults": {
           "arrowcolor": "#2a3f5f",
           "arrowhead": 0,
           "arrowwidth": 1
          },
          "autotypenumbers": "strict",
          "coloraxis": {
           "colorbar": {
            "outlinewidth": 0,
            "ticks": ""
           }
          },
          "colorscale": {
           "diverging": [
            [
             0,
             "#8e0152"
            ],
            [
             0.1,
             "#c51b7d"
            ],
            [
             0.2,
             "#de77ae"
            ],
            [
             0.3,
             "#f1b6da"
            ],
            [
             0.4,
             "#fde0ef"
            ],
            [
             0.5,
             "#f7f7f7"
            ],
            [
             0.6,
             "#e6f5d0"
            ],
            [
             0.7,
             "#b8e186"
            ],
            [
             0.8,
             "#7fbc41"
            ],
            [
             0.9,
             "#4d9221"
            ],
            [
             1,
             "#276419"
            ]
           ],
           "sequential": [
            [
             0,
             "#0d0887"
            ],
            [
             0.1111111111111111,
             "#46039f"
            ],
            [
             0.2222222222222222,
             "#7201a8"
            ],
            [
             0.3333333333333333,
             "#9c179e"
            ],
            [
             0.4444444444444444,
             "#bd3786"
            ],
            [
             0.5555555555555556,
             "#d8576b"
            ],
            [
             0.6666666666666666,
             "#ed7953"
            ],
            [
             0.7777777777777778,
             "#fb9f3a"
            ],
            [
             0.8888888888888888,
             "#fdca26"
            ],
            [
             1,
             "#f0f921"
            ]
           ],
           "sequentialminus": [
            [
             0,
             "#0d0887"
            ],
            [
             0.1111111111111111,
             "#46039f"
            ],
            [
             0.2222222222222222,
             "#7201a8"
            ],
            [
             0.3333333333333333,
             "#9c179e"
            ],
            [
             0.4444444444444444,
             "#bd3786"
            ],
            [
             0.5555555555555556,
             "#d8576b"
            ],
            [
             0.6666666666666666,
             "#ed7953"
            ],
            [
             0.7777777777777778,
             "#fb9f3a"
            ],
            [
             0.8888888888888888,
             "#fdca26"
            ],
            [
             1,
             "#f0f921"
            ]
           ]
          },
          "colorway": [
           "#636efa",
           "#EF553B",
           "#00cc96",
           "#ab63fa",
           "#FFA15A",
           "#19d3f3",
           "#FF6692",
           "#B6E880",
           "#FF97FF",
           "#FECB52"
          ],
          "font": {
           "color": "#2a3f5f"
          },
          "geo": {
           "bgcolor": "white",
           "lakecolor": "white",
           "landcolor": "#E5ECF6",
           "showlakes": true,
           "showland": true,
           "subunitcolor": "white"
          },
          "hoverlabel": {
           "align": "left"
          },
          "hovermode": "closest",
          "mapbox": {
           "style": "light"
          },
          "paper_bgcolor": "white",
          "plot_bgcolor": "#E5ECF6",
          "polar": {
           "angularaxis": {
            "gridcolor": "white",
            "linecolor": "white",
            "ticks": ""
           },
           "bgcolor": "#E5ECF6",
           "radialaxis": {
            "gridcolor": "white",
            "linecolor": "white",
            "ticks": ""
           }
          },
          "scene": {
           "xaxis": {
            "backgroundcolor": "#E5ECF6",
            "gridcolor": "white",
            "gridwidth": 2,
            "linecolor": "white",
            "showbackground": true,
            "ticks": "",
            "zerolinecolor": "white"
           },
           "yaxis": {
            "backgroundcolor": "#E5ECF6",
            "gridcolor": "white",
            "gridwidth": 2,
            "linecolor": "white",
            "showbackground": true,
            "ticks": "",
            "zerolinecolor": "white"
           },
           "zaxis": {
            "backgroundcolor": "#E5ECF6",
            "gridcolor": "white",
            "gridwidth": 2,
            "linecolor": "white",
            "showbackground": true,
            "ticks": "",
            "zerolinecolor": "white"
           }
          },
          "shapedefaults": {
           "line": {
            "color": "#2a3f5f"
           }
          },
          "ternary": {
           "aaxis": {
            "gridcolor": "white",
            "linecolor": "white",
            "ticks": ""
           },
           "baxis": {
            "gridcolor": "white",
            "linecolor": "white",
            "ticks": ""
           },
           "bgcolor": "#E5ECF6",
           "caxis": {
            "gridcolor": "white",
            "linecolor": "white",
            "ticks": ""
           }
          },
          "title": {
           "x": 0.05
          },
          "xaxis": {
           "automargin": true,
           "gridcolor": "white",
           "linecolor": "white",
           "ticks": "",
           "title": {
            "standoff": 15
           },
           "zerolinecolor": "white",
           "zerolinewidth": 2
          },
          "yaxis": {
           "automargin": true,
           "gridcolor": "white",
           "linecolor": "white",
           "ticks": "",
           "title": {
            "standoff": 15
           },
           "zerolinecolor": "white",
           "zerolinewidth": 2
          }
         }
        },
        "xaxis": {
         "anchor": "y",
         "domain": [
          0,
          0.98
         ],
         "title": {
          "text": "lr"
         },
         "type": "log"
        },
        "xaxis2": {
         "anchor": "y2",
         "domain": [
          0,
          0.98
         ],
         "matches": "x",
         "showticklabels": false,
         "type": "log"
        },
        "yaxis": {
         "anchor": "x",
         "domain": [
          0,
          0.485
         ],
         "title": {
          "text": "value"
         },
         "type": "log"
        },
        "yaxis2": {
         "anchor": "x2",
         "domain": [
          0.515,
          1
         ],
         "title": {
          "text": "value"
         },
         "type": "log"
        }
       }
      }
     },
     "metadata": {},
     "output_type": "display_data"
    },
    {
     "name": "stdout",
     "output_type": "stream",
     "text": [
      "Maximum learning rate: 0.01360398361463005\n"
     ]
    }
   ],
   "source": [
    "# max_lrs = []\n",
    "# for fold_idx in range(5):\n",
    "#     train_dataset = CMIDataset(f\"fold_{fold_idx}\", \"train\")\n",
    "#     full_dataset_loader = DL(train_dataset, TRAIN_BATCH_SIZE, shuffle=True)\n",
    "#     _, mock_training_metrics = mk_model_and_fit(\n",
    "#         full_dataset_loader,\n",
    "#         partial(torch.optim.lr_scheduler.ExponentialLR, gamma=MOCK_TRAINING_GAMMA),\n",
    "#         MOCK_TRAINING_EPOCHS,\n",
    "#         criterion= nn.CrossEntropyLoss(),#compute_weighted_cross_entropy_loss(train_dataset)\n",
    "#     )\n",
    "#     mock_training_metrics = post_process_mock_training_metrics(mock_training_metrics)\n",
    "#     plt_lr_search_training_metrics(mock_training_metrics)\n",
    "#     max_lr = mock_training_metrics[\"ewm_batch_train_loss\"].idxmin()\n",
    "#     # max_lr = 0.002\n",
    "#     print(\"Maximum learning rate:\", max_lr)\n",
    "    # max_lrs.append(max_lr)\n",
    "\n",
    "train_dataset = CMIDataset(\"fold_0\", \"train\")\n",
    "full_dataset_loader = DL(train_dataset, TRAIN_BATCH_SIZE, shuffle=True)\n",
    "_, mock_training_metrics = mk_model_and_fit(\n",
    "    full_dataset_loader,\n",
    "    partial(torch.optim.lr_scheduler.ExponentialLR, gamma=MOCK_TRAINING_GAMMA),\n",
    "    MOCK_TRAINING_EPOCHS,\n",
    "    criterion= nn.CrossEntropyLoss(),\n",
    ")\n",
    "mock_training_metrics = post_process_mock_training_metrics(mock_training_metrics)\n",
    "plt_lr_search_training_metrics(mock_training_metrics)\n",
    "max_lr = mock_training_metrics[\"ewm_batch_train_loss\"].idxmin()\n",
    "print(\"Maximum learning rate:\", max_lr)"
   ]
  },
  {
   "cell_type": "markdown",
   "id": "e1cc3c5f",
   "metadata": {
    "papermill": {
     "duration": 0.003108,
     "end_time": "2025-06-14T10:01:56.186803",
     "exception": false,
     "start_time": "2025-06-14T10:01:56.183695",
     "status": "completed"
    },
    "tags": []
   },
   "source": [
    "## Training loop"
   ]
  },
  {
   "cell_type": "code",
   "execution_count": 34,
   "id": "2be28a9c",
   "metadata": {
    "execution": {
     "iopub.execute_input": "2025-06-14T10:01:56.194003Z",
     "iopub.status.busy": "2025-06-14T10:01:56.193740Z",
     "iopub.status.idle": "2025-06-14T10:09:14.752385Z",
     "shell.execute_reply": "2025-06-14T10:09:14.751491Z"
    },
    "papermill": {
     "duration": 438.563878,
     "end_time": "2025-06-14T10:09:14.753712",
     "exception": false,
     "start_time": "2025-06-14T10:01:56.189834",
     "status": "completed"
    },
    "tags": []
   },
   "outputs": [
    {
     "name": "stdout",
     "output_type": "stream",
     "text": [
      "training: 1\n",
      "\n",
      "==================================================\n",
      "Fold 1/5\n",
      "Epoch 01: Train Loss = 0.1071, Val Loss = 0.0903\n",
      "  Binary F1 = 0.4829, Macro F1 = 0.1248, Final Metric = 0.3038\n",
      "  New best metric! Saving model...\n",
      "Epoch 02: Train Loss = 0.0694, Val Loss = 0.0615\n",
      "  Binary F1 = 0.9048, Macro F1 = 0.3159, Final Metric = 0.6103\n",
      "  New best metric! Saving model...\n",
      "Epoch 03: Train Loss = 0.0491, Val Loss = 0.0509\n",
      "  Binary F1 = 0.9345, Macro F1 = 0.4342, Final Metric = 0.6844\n",
      "  New best metric! Saving model...\n",
      "Epoch 04: Train Loss = 0.0405, Val Loss = 0.0454\n",
      "  Binary F1 = 0.9580, Macro F1 = 0.4837, Final Metric = 0.7209\n",
      "  New best metric! Saving model...\n",
      "Epoch 05: Train Loss = 0.0342, Val Loss = 0.0424\n",
      "  Binary F1 = 0.9510, Macro F1 = 0.5393, Final Metric = 0.7451\n",
      "  New best metric! Saving model...\n",
      "Epoch 06: Train Loss = 0.0294, Val Loss = 0.0425\n",
      "  Binary F1 = 0.9357, Macro F1 = 0.5466, Final Metric = 0.7411\n",
      "Epoch 07: Train Loss = 0.0248, Val Loss = 0.0372\n",
      "  Binary F1 = 0.9502, Macro F1 = 0.5914, Final Metric = 0.7708\n",
      "  New best metric! Saving model...\n",
      "Epoch 08: Train Loss = 0.0193, Val Loss = 0.0393\n",
      "  Binary F1 = 0.9667, Macro F1 = 0.5776, Final Metric = 0.7721\n",
      "  New best metric! Saving model...\n",
      "Epoch 09: Train Loss = 0.0156, Val Loss = 0.0356\n",
      "  Binary F1 = 0.9706, Macro F1 = 0.6032, Final Metric = 0.7869\n",
      "  New best metric! Saving model...\n",
      "Epoch 10: Train Loss = 0.0133, Val Loss = 0.0358\n",
      "  Binary F1 = 0.9732, Macro F1 = 0.6331, Final Metric = 0.8032\n",
      "  New best metric! Saving model...\n",
      "Epoch 11: Train Loss = 0.0135, Val Loss = 0.0379\n",
      "  Binary F1 = 0.9711, Macro F1 = 0.6203, Final Metric = 0.7957\n",
      "Epoch 12: Train Loss = 0.0120, Val Loss = 0.0383\n",
      "  Binary F1 = 0.9690, Macro F1 = 0.6282, Final Metric = 0.7986\n",
      "Epoch 13: Train Loss = 0.0102, Val Loss = 0.0399\n",
      "  Binary F1 = 0.9677, Macro F1 = 0.6252, Final Metric = 0.7965\n",
      "Epoch 14: Train Loss = 0.0090, Val Loss = 0.0395\n",
      "  Binary F1 = 0.9711, Macro F1 = 0.6394, Final Metric = 0.8053\n",
      "  New best metric! Saving model...\n",
      "Epoch 15: Train Loss = 0.0080, Val Loss = 0.0392\n",
      "  Binary F1 = 0.9701, Macro F1 = 0.6419, Final Metric = 0.8060\n",
      "  New best metric! Saving model...\n",
      "Epoch 16: Train Loss = 0.0080, Val Loss = 0.0407\n",
      "  Binary F1 = 0.9671, Macro F1 = 0.6325, Final Metric = 0.7998\n",
      "Epoch 17: Train Loss = 0.0074, Val Loss = 0.0410\n",
      "  Binary F1 = 0.9712, Macro F1 = 0.6396, Final Metric = 0.8054\n",
      "Epoch 18: Train Loss = 0.0069, Val Loss = 0.0424\n",
      "  Binary F1 = 0.9691, Macro F1 = 0.6364, Final Metric = 0.8028\n",
      "Epoch 19: Train Loss = 0.0066, Val Loss = 0.0419\n",
      "  Binary F1 = 0.9701, Macro F1 = 0.6321, Final Metric = 0.8011\n",
      "Epoch 20: Train Loss = 0.0062, Val Loss = 0.0417\n",
      "  Binary F1 = 0.9706, Macro F1 = 0.6408, Final Metric = 0.8057\n",
      "Epoch 21: Train Loss = 0.0062, Val Loss = 0.0423\n",
      "  Binary F1 = 0.9711, Macro F1 = 0.6423, Final Metric = 0.8067\n",
      "  New best metric! Saving model...\n",
      "Epoch 22: Train Loss = 0.0060, Val Loss = 0.0425\n",
      "  Binary F1 = 0.9702, Macro F1 = 0.6409, Final Metric = 0.8055\n",
      "Epoch 23: Train Loss = 0.0059, Val Loss = 0.0425\n",
      "  Binary F1 = 0.9712, Macro F1 = 0.6415, Final Metric = 0.8064\n",
      "Epoch 24: Train Loss = 0.0058, Val Loss = 0.0431\n",
      "  Binary F1 = 0.9687, Macro F1 = 0.6430, Final Metric = 0.8059\n",
      "Epoch 25: Train Loss = 0.0057, Val Loss = 0.0432\n",
      "  Binary F1 = 0.9702, Macro F1 = 0.6404, Final Metric = 0.8053\n",
      "\n",
      "Fold 1 completed.\n",
      "Final validation metrics - Binary F1: 0.9702, Macro F1: 0.6404, Final: 0.8053\n",
      "Best validation metrics - Binary F1: 0.9711, Macro F1: 0.6423, Final: 0.8067\n",
      "training: 2\n",
      "\n",
      "==================================================\n",
      "Fold 2/5\n",
      "Epoch 01: Train Loss = 0.1066, Val Loss = 0.0923\n",
      "  Binary F1 = 0.5538, Macro F1 = 0.1632, Final Metric = 0.3585\n",
      "  New best metric! Saving model...\n",
      "Epoch 02: Train Loss = 0.0691, Val Loss = 0.0653\n",
      "  Binary F1 = 0.8823, Macro F1 = 0.2850, Final Metric = 0.5837\n",
      "  New best metric! Saving model...\n",
      "Epoch 03: Train Loss = 0.0484, Val Loss = 0.0581\n",
      "  Binary F1 = 0.9237, Macro F1 = 0.3742, Final Metric = 0.6490\n",
      "  New best metric! Saving model...\n",
      "Epoch 04: Train Loss = 0.0384, Val Loss = 0.0523\n",
      "  Binary F1 = 0.9340, Macro F1 = 0.4632, Final Metric = 0.6986\n",
      "  New best metric! Saving model...\n",
      "Epoch 05: Train Loss = 0.0349, Val Loss = 0.0509\n",
      "  Binary F1 = 0.9480, Macro F1 = 0.4978, Final Metric = 0.7229\n",
      "  New best metric! Saving model...\n",
      "Epoch 06: Train Loss = 0.0312, Val Loss = 0.0537\n",
      "  Binary F1 = 0.9430, Macro F1 = 0.4784, Final Metric = 0.7107\n",
      "Epoch 07: Train Loss = 0.0245, Val Loss = 0.0469\n",
      "  Binary F1 = 0.9397, Macro F1 = 0.5296, Final Metric = 0.7346\n",
      "  New best metric! Saving model...\n",
      "Epoch 08: Train Loss = 0.0194, Val Loss = 0.0448\n",
      "  Binary F1 = 0.9527, Macro F1 = 0.5792, Final Metric = 0.7660\n",
      "  New best metric! Saving model...\n",
      "Epoch 09: Train Loss = 0.0155, Val Loss = 0.0450\n",
      "  Binary F1 = 0.9552, Macro F1 = 0.5815, Final Metric = 0.7683\n",
      "  New best metric! Saving model...\n",
      "Epoch 10: Train Loss = 0.0131, Val Loss = 0.0441\n",
      "  Binary F1 = 0.9563, Macro F1 = 0.5880, Final Metric = 0.7721\n",
      "  New best metric! Saving model...\n",
      "Epoch 11: Train Loss = 0.0131, Val Loss = 0.0496\n",
      "  Binary F1 = 0.9533, Macro F1 = 0.5833, Final Metric = 0.7683\n",
      "Epoch 12: Train Loss = 0.0116, Val Loss = 0.0491\n",
      "  Binary F1 = 0.9576, Macro F1 = 0.5819, Final Metric = 0.7698\n",
      "Epoch 13: Train Loss = 0.0102, Val Loss = 0.0514\n",
      "  Binary F1 = 0.9562, Macro F1 = 0.5950, Final Metric = 0.7756\n",
      "  New best metric! Saving model...\n",
      "Epoch 14: Train Loss = 0.0090, Val Loss = 0.0501\n",
      "  Binary F1 = 0.9557, Macro F1 = 0.6021, Final Metric = 0.7789\n",
      "  New best metric! Saving model...\n",
      "Epoch 15: Train Loss = 0.0081, Val Loss = 0.0509\n",
      "  Binary F1 = 0.9575, Macro F1 = 0.6055, Final Metric = 0.7815\n",
      "  New best metric! Saving model...\n",
      "Epoch 16: Train Loss = 0.0082, Val Loss = 0.0520\n",
      "  Binary F1 = 0.9594, Macro F1 = 0.6010, Final Metric = 0.7802\n",
      "Epoch 17: Train Loss = 0.0078, Val Loss = 0.0518\n",
      "  Binary F1 = 0.9589, Macro F1 = 0.5986, Final Metric = 0.7788\n",
      "Epoch 18: Train Loss = 0.0073, Val Loss = 0.0539\n",
      "  Binary F1 = 0.9586, Macro F1 = 0.5986, Final Metric = 0.7786\n",
      "Epoch 19: Train Loss = 0.0071, Val Loss = 0.0535\n",
      "  Binary F1 = 0.9605, Macro F1 = 0.6048, Final Metric = 0.7826\n",
      "  New best metric! Saving model...\n",
      "Epoch 20: Train Loss = 0.0068, Val Loss = 0.0542\n",
      "  Binary F1 = 0.9589, Macro F1 = 0.6031, Final Metric = 0.7810\n",
      "Epoch 21: Train Loss = 0.0068, Val Loss = 0.0545\n",
      "  Binary F1 = 0.9610, Macro F1 = 0.6048, Final Metric = 0.7829\n",
      "  New best metric! Saving model...\n",
      "Epoch 22: Train Loss = 0.0067, Val Loss = 0.0547\n",
      "  Binary F1 = 0.9594, Macro F1 = 0.6037, Final Metric = 0.7815\n",
      "Epoch 23: Train Loss = 0.0065, Val Loss = 0.0545\n",
      "  Binary F1 = 0.9609, Macro F1 = 0.6016, Final Metric = 0.7813\n",
      "Epoch 24: Train Loss = 0.0064, Val Loss = 0.0546\n",
      "  Binary F1 = 0.9603, Macro F1 = 0.6058, Final Metric = 0.7831\n",
      "  New best metric! Saving model...\n",
      "Epoch 25: Train Loss = 0.0063, Val Loss = 0.0551\n",
      "  Binary F1 = 0.9625, Macro F1 = 0.6019, Final Metric = 0.7822\n",
      "\n",
      "Fold 2 completed.\n",
      "Final validation metrics - Binary F1: 0.9625, Macro F1: 0.6019, Final: 0.7822\n",
      "Best validation metrics - Binary F1: 0.9603, Macro F1: 0.6058, Final: 0.7831\n",
      "training: 3\n",
      "\n",
      "==================================================\n",
      "Fold 3/5\n",
      "Epoch 01: Train Loss = 0.1057, Val Loss = 0.0917\n",
      "  Binary F1 = 0.6145, Macro F1 = 0.1493, Final Metric = 0.3819\n",
      "  New best metric! Saving model...\n",
      "Epoch 02: Train Loss = 0.0681, Val Loss = 0.0727\n",
      "  Binary F1 = 0.8487, Macro F1 = 0.2900, Final Metric = 0.5693\n",
      "  New best metric! Saving model...\n",
      "Epoch 03: Train Loss = 0.0498, Val Loss = 0.0556\n",
      "  Binary F1 = 0.9021, Macro F1 = 0.4380, Final Metric = 0.6701\n",
      "  New best metric! Saving model...\n",
      "Epoch 04: Train Loss = 0.0392, Val Loss = 0.0579\n",
      "  Binary F1 = 0.8922, Macro F1 = 0.4262, Final Metric = 0.6592\n",
      "Epoch 05: Train Loss = 0.0331, Val Loss = 0.0522\n",
      "  Binary F1 = 0.9303, Macro F1 = 0.4797, Final Metric = 0.7050\n",
      "  New best metric! Saving model...\n",
      "Epoch 06: Train Loss = 0.0291, Val Loss = 0.0567\n",
      "  Binary F1 = 0.9156, Macro F1 = 0.5187, Final Metric = 0.7172\n",
      "  New best metric! Saving model...\n",
      "Epoch 07: Train Loss = 0.0249, Val Loss = 0.0519\n",
      "  Binary F1 = 0.9251, Macro F1 = 0.5558, Final Metric = 0.7405\n",
      "  New best metric! Saving model...\n",
      "Epoch 08: Train Loss = 0.0197, Val Loss = 0.0521\n",
      "  Binary F1 = 0.9315, Macro F1 = 0.5946, Final Metric = 0.7631\n",
      "  New best metric! Saving model...\n",
      "Epoch 09: Train Loss = 0.0156, Val Loss = 0.0493\n",
      "  Binary F1 = 0.9377, Macro F1 = 0.5784, Final Metric = 0.7580\n",
      "Epoch 10: Train Loss = 0.0131, Val Loss = 0.0498\n",
      "  Binary F1 = 0.9353, Macro F1 = 0.5906, Final Metric = 0.7629\n",
      "Epoch 11: Train Loss = 0.0131, Val Loss = 0.0548\n",
      "  Binary F1 = 0.9380, Macro F1 = 0.5754, Final Metric = 0.7567\n",
      "Epoch 12: Train Loss = 0.0124, Val Loss = 0.0544\n",
      "  Binary F1 = 0.9425, Macro F1 = 0.5738, Final Metric = 0.7581\n",
      "Epoch 13: Train Loss = 0.0102, Val Loss = 0.0556\n",
      "  Binary F1 = 0.9391, Macro F1 = 0.5781, Final Metric = 0.7586\n",
      "Epoch 14: Train Loss = 0.0087, Val Loss = 0.0560\n",
      "  Binary F1 = 0.9432, Macro F1 = 0.5913, Final Metric = 0.7673\n",
      "  New best metric! Saving model...\n",
      "Epoch 15: Train Loss = 0.0080, Val Loss = 0.0559\n",
      "  Binary F1 = 0.9420, Macro F1 = 0.5863, Final Metric = 0.7642\n",
      "Epoch 16: Train Loss = 0.0079, Val Loss = 0.0571\n",
      "  Binary F1 = 0.9426, Macro F1 = 0.5943, Final Metric = 0.7684\n",
      "  New best metric! Saving model...\n",
      "Epoch 17: Train Loss = 0.0075, Val Loss = 0.0582\n",
      "  Binary F1 = 0.9420, Macro F1 = 0.5905, Final Metric = 0.7663\n",
      "Epoch 18: Train Loss = 0.0069, Val Loss = 0.0583\n",
      "  Binary F1 = 0.9411, Macro F1 = 0.5890, Final Metric = 0.7650\n",
      "Epoch 19: Train Loss = 0.0066, Val Loss = 0.0591\n",
      "  Binary F1 = 0.9415, Macro F1 = 0.5921, Final Metric = 0.7668\n",
      "Epoch 20: Train Loss = 0.0065, Val Loss = 0.0591\n",
      "  Binary F1 = 0.9446, Macro F1 = 0.5903, Final Metric = 0.7674\n",
      "Epoch 21: Train Loss = 0.0064, Val Loss = 0.0594\n",
      "  Binary F1 = 0.9430, Macro F1 = 0.5965, Final Metric = 0.7698\n",
      "  New best metric! Saving model...\n",
      "Epoch 22: Train Loss = 0.0062, Val Loss = 0.0600\n",
      "  Binary F1 = 0.9430, Macro F1 = 0.5925, Final Metric = 0.7678\n",
      "Epoch 23: Train Loss = 0.0061, Val Loss = 0.0600\n",
      "  Binary F1 = 0.9437, Macro F1 = 0.5915, Final Metric = 0.7676\n",
      "Epoch 24: Train Loss = 0.0060, Val Loss = 0.0600\n",
      "  Binary F1 = 0.9421, Macro F1 = 0.5899, Final Metric = 0.7660\n",
      "Epoch 25: Train Loss = 0.0059, Val Loss = 0.0604\n",
      "  Binary F1 = 0.9431, Macro F1 = 0.5913, Final Metric = 0.7672\n",
      "\n",
      "Fold 3 completed.\n",
      "Final validation metrics - Binary F1: 0.9431, Macro F1: 0.5913, Final: 0.7672\n",
      "Best validation metrics - Binary F1: 0.9430, Macro F1: 0.5965, Final: 0.7698\n",
      "training: 4\n",
      "\n",
      "==================================================\n",
      "Fold 4/5\n",
      "Epoch 01: Train Loss = 0.1071, Val Loss = 0.0890\n",
      "  Binary F1 = 0.6019, Macro F1 = 0.1724, Final Metric = 0.3871\n",
      "  New best metric! Saving model...\n",
      "Epoch 02: Train Loss = 0.0687, Val Loss = 0.0604\n",
      "  Binary F1 = 0.8813, Macro F1 = 0.3109, Final Metric = 0.5961\n",
      "  New best metric! Saving model...\n",
      "Epoch 03: Train Loss = 0.0506, Val Loss = 0.0501\n",
      "  Binary F1 = 0.9184, Macro F1 = 0.4403, Final Metric = 0.6793\n",
      "  New best metric! Saving model...\n",
      "Epoch 04: Train Loss = 0.0410, Val Loss = 0.0477\n",
      "  Binary F1 = 0.9441, Macro F1 = 0.4720, Final Metric = 0.7080\n",
      "  New best metric! Saving model...\n",
      "Epoch 05: Train Loss = 0.0345, Val Loss = 0.0429\n",
      "  Binary F1 = 0.9463, Macro F1 = 0.5011, Final Metric = 0.7237\n",
      "  New best metric! Saving model...\n",
      "Epoch 06: Train Loss = 0.0303, Val Loss = 0.0414\n",
      "  Binary F1 = 0.9670, Macro F1 = 0.5260, Final Metric = 0.7465\n",
      "  New best metric! Saving model...\n",
      "Epoch 07: Train Loss = 0.0249, Val Loss = 0.0382\n",
      "  Binary F1 = 0.9645, Macro F1 = 0.5692, Final Metric = 0.7668\n",
      "  New best metric! Saving model...\n",
      "Epoch 08: Train Loss = 0.0200, Val Loss = 0.0359\n",
      "  Binary F1 = 0.9729, Macro F1 = 0.6001, Final Metric = 0.7865\n",
      "  New best metric! Saving model...\n",
      "Epoch 09: Train Loss = 0.0152, Val Loss = 0.0363\n",
      "  Binary F1 = 0.9719, Macro F1 = 0.6104, Final Metric = 0.7911\n",
      "  New best metric! Saving model...\n",
      "Epoch 10: Train Loss = 0.0131, Val Loss = 0.0364\n",
      "  Binary F1 = 0.9734, Macro F1 = 0.6119, Final Metric = 0.7926\n",
      "  New best metric! Saving model...\n",
      "Epoch 11: Train Loss = 0.0133, Val Loss = 0.0391\n",
      "  Binary F1 = 0.9711, Macro F1 = 0.6232, Final Metric = 0.7972\n",
      "  New best metric! Saving model...\n",
      "Epoch 12: Train Loss = 0.0120, Val Loss = 0.0407\n",
      "  Binary F1 = 0.9769, Macro F1 = 0.6309, Final Metric = 0.8039\n",
      "  New best metric! Saving model...\n",
      "Epoch 13: Train Loss = 0.0102, Val Loss = 0.0405\n",
      "  Binary F1 = 0.9726, Macro F1 = 0.6077, Final Metric = 0.7901\n",
      "Epoch 14: Train Loss = 0.0089, Val Loss = 0.0410\n",
      "  Binary F1 = 0.9720, Macro F1 = 0.6206, Final Metric = 0.7963\n",
      "Epoch 15: Train Loss = 0.0082, Val Loss = 0.0410\n",
      "  Binary F1 = 0.9720, Macro F1 = 0.6263, Final Metric = 0.7991\n",
      "Epoch 16: Train Loss = 0.0082, Val Loss = 0.0423\n",
      "  Binary F1 = 0.9715, Macro F1 = 0.6160, Final Metric = 0.7938\n",
      "Epoch 17: Train Loss = 0.0076, Val Loss = 0.0432\n",
      "  Binary F1 = 0.9725, Macro F1 = 0.6220, Final Metric = 0.7973\n",
      "Epoch 18: Train Loss = 0.0072, Val Loss = 0.0438\n",
      "  Binary F1 = 0.9715, Macro F1 = 0.6231, Final Metric = 0.7973\n",
      "Epoch 19: Train Loss = 0.0069, Val Loss = 0.0439\n",
      "  Binary F1 = 0.9736, Macro F1 = 0.6282, Final Metric = 0.8009\n",
      "Epoch 20: Train Loss = 0.0067, Val Loss = 0.0439\n",
      "  Binary F1 = 0.9720, Macro F1 = 0.6235, Final Metric = 0.7977\n",
      "Early stopping triggered at epoch 20\n",
      "\n",
      "Fold 4 completed.\n",
      "Final validation metrics - Binary F1: 0.9720, Macro F1: 0.6235, Final: 0.7977\n",
      "Best validation metrics - Binary F1: 0.9769, Macro F1: 0.6309, Final: 0.8039\n",
      "training: 5\n",
      "\n",
      "==================================================\n",
      "Fold 5/5\n",
      "Epoch 01: Train Loss = 0.1073, Val Loss = 0.0873\n",
      "  Binary F1 = 0.6624, Macro F1 = 0.1891, Final Metric = 0.4257\n",
      "  New best metric! Saving model...\n",
      "Epoch 02: Train Loss = 0.0708, Val Loss = 0.0540\n",
      "  Binary F1 = 0.9357, Macro F1 = 0.3616, Final Metric = 0.6486\n",
      "  New best metric! Saving model...\n",
      "Epoch 03: Train Loss = 0.0501, Val Loss = 0.0444\n",
      "  Binary F1 = 0.9670, Macro F1 = 0.4416, Final Metric = 0.7043\n",
      "  New best metric! Saving model...\n",
      "Epoch 04: Train Loss = 0.0409, Val Loss = 0.0390\n",
      "  Binary F1 = 0.9770, Macro F1 = 0.5080, Final Metric = 0.7425\n",
      "  New best metric! Saving model...\n",
      "Epoch 05: Train Loss = 0.0341, Val Loss = 0.0353\n",
      "  Binary F1 = 0.9705, Macro F1 = 0.5250, Final Metric = 0.7478\n",
      "  New best metric! Saving model...\n",
      "Epoch 06: Train Loss = 0.0293, Val Loss = 0.0327\n",
      "  Binary F1 = 0.9743, Macro F1 = 0.5809, Final Metric = 0.7776\n",
      "  New best metric! Saving model...\n",
      "Epoch 07: Train Loss = 0.0264, Val Loss = 0.0308\n",
      "  Binary F1 = 0.9803, Macro F1 = 0.6337, Final Metric = 0.8070\n",
      "  New best metric! Saving model...\n",
      "Epoch 08: Train Loss = 0.0206, Val Loss = 0.0292\n",
      "  Binary F1 = 0.9799, Macro F1 = 0.6537, Final Metric = 0.8168\n",
      "  New best metric! Saving model...\n",
      "Epoch 09: Train Loss = 0.0163, Val Loss = 0.0296\n",
      "  Binary F1 = 0.9794, Macro F1 = 0.6645, Final Metric = 0.8220\n",
      "  New best metric! Saving model...\n",
      "Epoch 10: Train Loss = 0.0138, Val Loss = 0.0300\n",
      "  Binary F1 = 0.9799, Macro F1 = 0.6625, Final Metric = 0.8212\n",
      "Epoch 11: Train Loss = 0.0141, Val Loss = 0.0311\n",
      "  Binary F1 = 0.9828, Macro F1 = 0.6577, Final Metric = 0.8203\n",
      "Epoch 12: Train Loss = 0.0125, Val Loss = 0.0325\n",
      "  Binary F1 = 0.9824, Macro F1 = 0.6668, Final Metric = 0.8246\n",
      "  New best metric! Saving model...\n",
      "Epoch 13: Train Loss = 0.0107, Val Loss = 0.0331\n",
      "  Binary F1 = 0.9794, Macro F1 = 0.6762, Final Metric = 0.8278\n",
      "  New best metric! Saving model...\n",
      "Epoch 14: Train Loss = 0.0095, Val Loss = 0.0327\n",
      "  Binary F1 = 0.9804, Macro F1 = 0.6773, Final Metric = 0.8288\n",
      "  New best metric! Saving model...\n",
      "Epoch 15: Train Loss = 0.0086, Val Loss = 0.0327\n",
      "  Binary F1 = 0.9799, Macro F1 = 0.6893, Final Metric = 0.8346\n",
      "  New best metric! Saving model...\n",
      "Epoch 16: Train Loss = 0.0086, Val Loss = 0.0329\n",
      "  Binary F1 = 0.9789, Macro F1 = 0.6799, Final Metric = 0.8294\n",
      "Epoch 17: Train Loss = 0.0081, Val Loss = 0.0337\n",
      "  Binary F1 = 0.9829, Macro F1 = 0.6861, Final Metric = 0.8345\n",
      "Epoch 18: Train Loss = 0.0076, Val Loss = 0.0340\n",
      "  Binary F1 = 0.9809, Macro F1 = 0.6887, Final Metric = 0.8348\n",
      "  New best metric! Saving model...\n",
      "Epoch 19: Train Loss = 0.0073, Val Loss = 0.0342\n",
      "  Binary F1 = 0.9824, Macro F1 = 0.6904, Final Metric = 0.8364\n",
      "  New best metric! Saving model...\n",
      "Epoch 20: Train Loss = 0.0070, Val Loss = 0.0341\n",
      "  Binary F1 = 0.9819, Macro F1 = 0.6936, Final Metric = 0.8377\n",
      "  New best metric! Saving model...\n",
      "Epoch 21: Train Loss = 0.0071, Val Loss = 0.0345\n",
      "  Binary F1 = 0.9829, Macro F1 = 0.6877, Final Metric = 0.8353\n",
      "Epoch 22: Train Loss = 0.0069, Val Loss = 0.0346\n",
      "  Binary F1 = 0.9829, Macro F1 = 0.6875, Final Metric = 0.8352\n",
      "Epoch 23: Train Loss = 0.0068, Val Loss = 0.0348\n",
      "  Binary F1 = 0.9819, Macro F1 = 0.6891, Final Metric = 0.8355\n",
      "Epoch 24: Train Loss = 0.0066, Val Loss = 0.0348\n",
      "  Binary F1 = 0.9833, Macro F1 = 0.6911, Final Metric = 0.8372\n",
      "Epoch 25: Train Loss = 0.0066, Val Loss = 0.0350\n",
      "  Binary F1 = 0.9814, Macro F1 = 0.6874, Final Metric = 0.8344\n",
      "\n",
      "Fold 5 completed.\n",
      "Final validation metrics - Binary F1: 0.9814, Macro F1: 0.6874, Final: 0.8344\n",
      "Best validation metrics - Binary F1: 0.9819, Macro F1: 0.6936, Final: 0.8377\n",
      "\n",
      "==================================================\n",
      "Cross-Validation Results\n",
      "==================================================\n",
      "\n",
      "Best Fold-wise Metrics:\n",
      "Fold 1: Binary F1 = 0.9711, Macro F1 = 0.6423, Final = 0.8067\n",
      "Fold 2: Binary F1 = 0.9603, Macro F1 = 0.6058, Final = 0.7831\n",
      "Fold 3: Binary F1 = 0.9430, Macro F1 = 0.5965, Final = 0.7698\n",
      "Fold 4: Binary F1 = 0.9769, Macro F1 = 0.6309, Final = 0.8039\n",
      "Fold 5: Binary F1 = 0.9819, Macro F1 = 0.6936, Final = 0.8377\n",
      "\n",
      "Global Statistics (Best Metrics):\n",
      "Mean Best Final Metric: 0.8002 ± 0.0232\n",
      "Mean Best Binary F1: 0.9667 ± 0.0138\n",
      "Mean Best Macro F1: 0.6338 ± 0.0341\n"
     ]
    }
   ],
   "source": [
    "seed_everything(seed=SEED)\n",
    "\n",
    "n_splits = 5\n",
    "batch_size = 128\n",
    "gkf = GroupKFold(n_splits=n_splits)\n",
    "\n",
    "fold_metrics = []\n",
    "best_fold_metrics = []\n",
    "best_models = []\n",
    "\n",
    "fold_patterns = join(dataset_path, \"preprocessed_dataset\", \"fold*\")\n",
    "fold_pths = glob(fold_patterns)[:NB_CROSS_VALIDATIONS]\n",
    "all_training_metrics = {}\n",
    "\n",
    "for fold, fold_pth in enumerate(fold_pths):\n",
    "    print(\"training:\", fold + 1)\n",
    "    train_dataset = CMIDataset(fold_pth, \"train\")\n",
    "    criterion = compute_weighted_cross_entropy_loss(train_dataset)\n",
    "    # criterion = torch.nn.CrossEntropyLoss()\n",
    "    train_loader = DL(train_dataset, TRAIN_BATCH_SIZE, shuffle=True)\n",
    "    validation_dataset = CMIDataset(fold_pth, \"validation\")\n",
    "    validation_loader = DL(validation_dataset, VALIDATION_BATCH_SIZE, shuffle=False)\n",
    "    print(f\"\\n{'='*50}\")\n",
    "    print(f\"Fold {fold + 1}/{n_splits}\")\n",
    "    \n",
    "    seed_everything(seed=SEED + fold)\n",
    "    model = mk_model()\n",
    "    \n",
    "    # Optimizer et scheduler\n",
    "    starting_lr = max_lr / 2\n",
    "    min_lr = max_lr / 2 / 100\n",
    "    LR_INIT = 1e-3\n",
    "    optimizer = torch.optim.AdamW(model.parameters(), min_lr)\n",
    "    steps_per_epoch = len(train_loader)\n",
    "    n_training_steps = TRAINING_EPOCHS * len(train_loader)\n",
    "    scheduler = CosineAnnealingWarmupRestarts(\n",
    "        optimizer,\n",
    "        warmup_steps=WARMUP_EPOCHS * steps_per_epoch,\n",
    "        max_lr = max_lr / 2,\n",
    "        min_lr = min_lr,\n",
    "        cycle_length=steps_per_epoch * 5,\n",
    "        gamma=0.3,\n",
    "    ) \n",
    "\n",
    "\n",
    "    # Early stopping\n",
    "    best_metric = -np.inf\n",
    "    best_binary_f1 = -np.inf\n",
    "    best_macro_f1 = -np.inf\n",
    "    epochs_no_improve = 0\n",
    "    \n",
    "    for epoch in range(1, TRAINING_EPOCHS + 1):\n",
    "        # Training phase\n",
    "        model.train()\n",
    "        train_loss = 0.0\n",
    "        total = 0\n",
    "        for batch_x, batch_y in train_loader:\n",
    "            batch_x = batch_x.to(device).clone()\n",
    "            batch_y = batch_y.to(device)\n",
    "            batch_x = batch_x.float()\n",
    "    \n",
    "            # TODO: Apply mixup?\n",
    "    \n",
    "            optimizer.zero_grad()\n",
    "            outputs = model(batch_x)\n",
    "            loss = criterion(outputs, batch_y)\n",
    "            loss.backward()\n",
    "            optimizer.step()\n",
    "            scheduler.step()\n",
    "    \n",
    "            train_loss += loss.item() * batch_x.size(0)\n",
    "            total += batch_x.size(0)\n",
    "        train_loss /= total\n",
    "    \n",
    "        # Validation phase\n",
    "        model.eval()\n",
    "        val_loss = 0.0\n",
    "        total = 0\n",
    "        all_true = []\n",
    "        all_pred = []\n",
    "        \n",
    "        with torch.no_grad():\n",
    "            for batch_x, batch_y in validation_loader:\n",
    "                batch_x = batch_x.to(device).clone()\n",
    "                batch_y = batch_y.to(device)\n",
    "                batch_x[VALIDATION_BATCH_SIZE // 2, non_imu_feats_idx] = 0.0\n",
    "                \n",
    "                outputs = model(batch_x)\n",
    "                loss = criterion(outputs, batch_y)\n",
    "                val_loss += loss.item() * batch_x.size(0)\n",
    "                total += batch_x.size(0)\n",
    "                \n",
    "                # Get predicted class indices\n",
    "                preds = torch.argmax(outputs, dim=1).cpu().numpy()\n",
    "                # Get true class indices from one-hot\n",
    "                trues = torch.argmax(batch_y, dim=1).cpu().numpy()\n",
    "                \n",
    "                all_true.append(trues)\n",
    "                all_pred.append(preds)\n",
    "\n",
    "        val_loss /= total\n",
    "        all_true = np.concatenate(all_true)\n",
    "        all_pred = np.concatenate(all_pred)\n",
    "\n",
    "        # Compute competition metrics\n",
    "        # Binary classification: BFRB (1) vs non-BFRB (0)\n",
    "        binary_true = np.isin(all_true, bfrb_indices).astype(int)\n",
    "        binary_pred = np.isin(all_pred, bfrb_indices).astype(int)\n",
    "        binary_f1 = f1_score(binary_true, binary_pred)\n",
    "        \n",
    "        # Collapse non-BFRB gestures into a single class\n",
    "        collapsed_true = np.where(\n",
    "            np.isin(all_true, bfrb_indices),\n",
    "            all_true,\n",
    "            len(bfrb_gestures)  # Single non-BFRB class\n",
    "        )\n",
    "        collapsed_pred = np.where(\n",
    "            np.isin(all_pred, bfrb_indices),\n",
    "            all_pred,\n",
    "            len(bfrb_gestures)  # Single non-BFRB class\n",
    "        )\n",
    "        \n",
    "        # Macro F1 on collapsed classes\n",
    "        macro_f1 = f1_score(collapsed_true, collapsed_pred, average='macro')\n",
    "        final_metric = (binary_f1 + macro_f1) / 2\n",
    "        \n",
    "        print(f\"Epoch {epoch:02d}: Train Loss = {train_loss:.4f}, Val Loss = {val_loss:.4f}\")\n",
    "        print(f\"  Binary F1 = {binary_f1:.4f}, Macro F1 = {macro_f1:.4f}, Final Metric = {final_metric:.4f}\")\n",
    "        \n",
    "        if final_metric > best_metric:\n",
    "            best_metric = final_metric\n",
    "            best_binary_f1 = binary_f1\n",
    "            best_macro_f1 = macro_f1\n",
    "            epochs_no_improve = 0\n",
    "            best_model_state = model.state_dict()\n",
    "            print(f\"  New best metric! Saving model...\")\n",
    "        else:\n",
    "            epochs_no_improve += 1\n",
    "            if epochs_no_improve >= PATIENCE:\n",
    "                print(f\"Early stopping triggered at epoch {epoch}\")\n",
    "                model.load_state_dict(best_model_state)\n",
    "                break\n",
    "\n",
    "    torch.save(best_model_state, f\"best_model_fold{fold}.pth\")\n",
    "    best_models.append(best_model_state)\n",
    "\n",
    "    fold_metrics.append({\n",
    "        'binary_f1': binary_f1,\n",
    "        'macro_f1': macro_f1,\n",
    "        'final_metric': final_metric\n",
    "    })\n",
    "    \n",
    "    best_fold_metrics.append({\n",
    "        'binary_f1': best_binary_f1,\n",
    "        'macro_f1': best_macro_f1,\n",
    "        'final_metric': best_metric\n",
    "    })\n",
    "    \n",
    "    print(f\"\\nFold {fold + 1} completed.\")\n",
    "    print(f\"Final validation metrics - Binary F1: {binary_f1:.4f}, Macro F1: {macro_f1:.4f}, Final: {final_metric:.4f}\")\n",
    "    print(f\"Best validation metrics - Binary F1: {best_binary_f1:.4f}, Macro F1: {best_macro_f1:.4f}, Final: {best_metric:.4f}\")\n",
    "\n",
    "print(\"\\n\" + \"=\"*50)\n",
    "print(\"Cross-Validation Results\")\n",
    "print(\"=\"*50)\n",
    "\n",
    "# Statistiques pour les meilleures métriques\n",
    "best_binary_f1 = [m['binary_f1'] for m in best_fold_metrics]\n",
    "best_macro_f1 = [m['macro_f1'] for m in best_fold_metrics]\n",
    "best_metrics = [m['final_metric'] for m in best_fold_metrics]\n",
    "\n",
    "print(\"\\nBest Fold-wise Metrics:\")\n",
    "for i, (bf1, mf1, fm) in enumerate(zip(best_binary_f1, best_macro_f1, best_metrics)):\n",
    "    print(f\"Fold {i+1}: Binary F1 = {bf1:.4f}, Macro F1 = {mf1:.4f}, Final = {fm:.4f}\")\n",
    "\n",
    "print(\"\\nGlobal Statistics (Best Metrics):\")\n",
    "print(f\"Mean Best Final Metric: {np.mean(best_metrics):.4f} ± {np.std(best_metrics):.4f}\")\n",
    "print(f\"Mean Best Binary F1: {np.mean(best_binary_f1):.4f} ± {np.std(best_binary_f1):.4f}\")\n",
    "print(f\"Mean Best Macro F1: {np.mean(best_macro_f1):.4f} ± {np.std(best_macro_f1):.4f}\")"
   ]
  },
  {
   "cell_type": "markdown",
   "id": "07ea7558",
   "metadata": {
    "papermill": {
     "duration": 0.012909,
     "end_time": "2025-06-14T10:09:14.961270",
     "exception": false,
     "start_time": "2025-06-14T10:09:14.948361",
     "status": "completed"
    },
    "tags": []
   },
   "source": [
    "## Submission"
   ]
  },
  {
   "cell_type": "markdown",
   "id": "3aea5e4f",
   "metadata": {
    "papermill": {
     "duration": 0.012906,
     "end_time": "2025-06-14T10:09:14.780212",
     "exception": false,
     "start_time": "2025-06-14T10:09:14.767306",
     "status": "completed"
    },
    "tags": []
   },
   "source": [
    "### Reloading best model"
   ]
  },
  {
   "cell_type": "code",
   "execution_count": 22,
   "id": "a0574d4d",
   "metadata": {
    "execution": {
     "iopub.execute_input": "2025-06-14T10:09:14.807902Z",
     "iopub.status.busy": "2025-06-14T10:09:14.807165Z",
     "iopub.status.idle": "2025-06-14T10:09:14.933288Z",
     "shell.execute_reply": "2025-06-14T10:09:14.932459Z"
    },
    "papermill": {
     "duration": 0.141435,
     "end_time": "2025-06-14T10:09:14.934745",
     "exception": false,
     "start_time": "2025-06-14T10:09:14.793310",
     "status": "completed"
    },
    "tags": []
   },
   "outputs": [],
   "source": [
    "model_ensemble = []\n",
    "for fold in range(5):\n",
    "    model = mk_model().to(device)\n",
    "    checkpoint = torch.load(f\"best_model_fold{fold}.pth\", map_location=device, weights_only=True)\n",
    "    model.load_state_dict(checkpoint)\n",
    "    model.eval()\n",
    "    model_ensemble.append(model)"
   ]
  },
  {
   "cell_type": "markdown",
   "id": "a826dec8",
   "metadata": {},
   "source": [
    "### Define preprocessing function"
   ]
  },
  {
   "cell_type": "code",
   "execution_count": 23,
   "id": "481e69b6",
   "metadata": {},
   "outputs": [],
   "source": [
    "def get_fillna_val_per_feature_col(df:DF) -> dict:\n",
    "    return {col: 1.0 if col == 'rot_w' else 0 for col in get_feature_cols(df)}\n",
    "\n",
    "def imputed_features(df:DF) -> DF:\n",
    "    # Missing ToF values are already imputed by -1 which is inconvinient since we want all missing values to be NaN.    \n",
    "    # So we replace them by NaN and then perform imputing.  \n",
    "    tof_vals_to_nan = {col: -1.0 for col in df.columns if col.startswith(\"tof\")}\n",
    "\n",
    "    df[get_feature_cols(df)] = (\n",
    "        df\n",
    "        .loc[:, get_feature_cols(df)]\n",
    "        # df.replace with np.nan sets dtype to floar64 so we set it back to float32\n",
    "        .replace(tof_vals_to_nan, value=np.nan)\n",
    "        .astype(\"float32\")\n",
    "        .groupby(df[\"sequence_id\"], observed=True, as_index=False)\n",
    "        .ffill()\n",
    "        .groupby(df[\"sequence_id\"], observed=True, as_index=False)\n",
    "        .bfill()\n",
    "        # In case there are only nan in the column in the sequence\n",
    "        .fillna(get_fillna_val_per_feature_col(df))\n",
    "    )\n",
    "    return df\n",
    "\n",
    "def norm_quat_rotations(df:DF) -> DF:\n",
    "    df[QUATERNION_COLS] /= np.linalg.norm(df[QUATERNION_COLS], axis=1, keepdims=True)\n",
    "    return df\n",
    "\n",
    "def add_linear_acc_cols(df:DF) -> DF:\n",
    "    # Vectorized version of https://www.kaggle.com/code/wasupandceacar/lb-0-82-5fold-single-bert-model#Dataset `remove_gravity_from_acc`\n",
    "    rotations:Rotation = Rotation.from_quat(df[QUATERNION_COLS])\n",
    "    gravity_sensor_frame = rotations.apply(GRAVITY_WORLD, inverse=True).astype(\"float32\")\n",
    "    df[LINEAR_ACC_COLS] = df[RAW_ACCELRATION_COLS] - gravity_sensor_frame\n",
    "    return df\n",
    "\n",
    "def add_acc_magnitude(df:DF, acc_cols:list[str], acc_mag_col_name:str) -> DF:\n",
    "    return df.assign(**{acc_mag_col_name: np.linalg.norm(df.loc[:, acc_cols], axis=1)})\n",
    "\n",
    "def add_quat_angle_mag(df:DF) -> DF:\n",
    "    return df.assign(quat_rot_mag=np.arccos(df[\"rot_w\"]) * 2)\n",
    "\n",
    "def add_angular_velocity_features(df:DF) -> DF:\n",
    "    rotations = Rotation.from_quat(df[QUATERNION_COLS])\n",
    "    delta_rotations = rotations[1:] * rotations[:-1].inv()\n",
    "    delta_rot_velocity = delta_rotations.as_rotvec()\n",
    "    # Add extra line to avoid shape mismatch\n",
    "    delta_rot_velocity = np.vstack((np.zeros((1, 3)), delta_rot_velocity))\n",
    "    delta_rot_magnitude = norm(delta_rot_velocity, axis=1, keepdims=True)\n",
    "    delta_rot_axes = delta_rot_velocity / (delta_rot_magnitude + EPSILON)\n",
    "    df[DELTA_ROTATION_ANGULAR_VELOCITY_COLS] = delta_rot_velocity\n",
    "    df[DELTA_ROTATION_AXES_COLS] = delta_rot_axes\n",
    "    df[\"delta_rot_mag\"] = delta_rot_magnitude.squeeze()\n",
    "\n",
    "    return df\n",
    "\n",
    "def rot_euler_angles(df:DF) -> ndarray:\n",
    "    df[EULER_ANGLES_COLS] = (\n",
    "        Rotation\n",
    "        .from_quat(df[QUATERNION_COLS])\n",
    "        .as_euler(\"xyz\")\n",
    "        .squeeze()\n",
    "    )\n",
    "    return df\n",
    "\n",
    "def agg_tof_cols_per_sensor(df:DF) -> DF:\n",
    "    for tof_idx in tqdm(range(1, 6)):\n",
    "        tof_name = f\"tof_{tof_idx}\"\n",
    "        tof_cols = [f\"{tof_name}_v{v_idx}\" for v_idx in range(64)]\n",
    "        if any(map(lambda col: col not in df.columns, tof_cols)):\n",
    "            print(f\"Some (or) all ToF {tof_idx} columns are not in the df. Maybe you already ran this cell?\")\n",
    "            continue\n",
    "        df = pd.concat(\n",
    "            (\n",
    "                df.drop(columns=tof_cols),\n",
    "                # For some reasons, it's faster to call all the aggregation functions seperatly than agg(list of functions)\n",
    "                df[tof_cols].mean(axis=\"columns\").to_frame(tof_name + \"_mean\"),\n",
    "                df[tof_cols].std(axis=\"columns\").to_frame(tof_name + \"_std\"),\n",
    "                df[tof_cols].median(axis=\"columns\").to_frame(tof_name + \"_median\"),\n",
    "                df[tof_cols].min(axis=\"columns\").to_frame(tof_name + \"_min\"),\n",
    "                df[tof_cols].max(axis=\"columns\").to_frame(tof_name + \"_max\"),\n",
    "            ),\n",
    "            axis=\"columns\",\n",
    "        )\n",
    "    return df\n",
    "\n",
    "def add_diff_features(df:DF) -> DF:\n",
    "    return pd.concat(\n",
    "        (\n",
    "            df,\n",
    "            df\n",
    "            .groupby(\"sequence_id\", as_index=False, observed=True)\n",
    "            [get_feature_cols(df)]\n",
    "            .diff()\n",
    "            .fillna(get_fillna_val_per_feature_col(df))\n",
    "            .add_prefix(\"diff_\")\n",
    "        ),\n",
    "        axis=\"columns\",\n",
    "    )\n",
    "\n",
    "def length_normed_sequence_feat_arr(sequence: DF) -> ndarray:\n",
    "    features = (\n",
    "        sequence\n",
    "        .loc[:, meta_data[\"feature_cols\"]]\n",
    "        .values\n",
    "    )\n",
    "    normed_sequence_len = meta_data[\"pad_seq_len\"]\n",
    "    len_diff = abs(normed_sequence_len - len(features))\n",
    "    if len(features) < normed_sequence_len:\n",
    "        padded_features = np.pad(\n",
    "            features,\n",
    "            ((len_diff // 2 + len_diff % 2, len_diff // 2), (0, 0)),\n",
    "        )\n",
    "        return padded_features\n",
    "    elif len(features) > normed_sequence_len:\n",
    "        return features[len_diff // 2:-len_diff // 2]\n",
    "    else:\n",
    "        return features\n",
    "\n",
    "def preprocess_sequence(sequence_df:pl.DataFrame) -> ndarray:\n",
    "    return (\n",
    "        sequence_df                     \n",
    "        .to_pandas()                            # Convert to pandas dataframe.\n",
    "        .pipe(imputed_features)                 # Impute missing data.\n",
    "        .pipe(norm_quat_rotations)              # Norm quaternions\n",
    "        .pipe(add_linear_acc_cols)              # Add gravity free acceleration.\n",
    "        .pipe(add_acc_magnitude, RAW_ACCELRATION_COLS, \"raw_acc_mag\")\n",
    "        .pipe(add_acc_magnitude, LINEAR_ACC_COLS, \"linear_acc_mag\")\n",
    "        .pipe(add_quat_angle_mag)\n",
    "        .pipe(add_angular_velocity_features)\n",
    "        .pipe(rot_euler_angles)                 # Add rotation acc expressed as euler angles.\n",
    "        .pipe(agg_tof_cols_per_sensor)          # Aggregate ToF columns.\n",
    "        .pipe(add_diff_features)                # \n",
    "        .loc[:, sorted(meta_data[\"feature_cols\"])]      # Retain only the usefull columns a.k.a features.\n",
    "        .sub(meta_data[\"mean\"])                 # Subtract features by their mean, std norm pt.1.\n",
    "        .div(meta_data[\"std\"])                  # Divide by Standard deviation, std norm pt.2.\n",
    "        .pipe(length_normed_sequence_feat_arr)  # get feature ndarray of sequence.\n",
    "        .T                                      # Transpose to swap channel and X dimensions.\n",
    "    )"
   ]
  },
  {
   "cell_type": "markdown",
   "id": "1ebb0960",
   "metadata": {},
   "source": [
    "### Define prediction function"
   ]
  },
  {
   "cell_type": "code",
   "execution_count": 24,
   "id": "57d8dfff",
   "metadata": {
    "execution": {
     "iopub.execute_input": "2025-06-14T10:09:14.989742Z",
     "iopub.status.busy": "2025-06-14T10:09:14.989258Z",
     "iopub.status.idle": "2025-06-14T10:09:14.995936Z",
     "shell.execute_reply": "2025-06-14T10:09:14.995244Z"
    },
    "papermill": {
     "duration": 0.021303,
     "end_time": "2025-06-14T10:09:14.997034",
     "exception": false,
     "start_time": "2025-06-14T10:09:14.975731",
     "status": "completed"
    },
    "tags": []
   },
   "outputs": [],
   "source": [
    "def predict(sequence: pl.DataFrame, _: pl.DataFrame) -> str:\n",
    "    \"\"\"\n",
    "    Kaggle evaluation API will call this for each sequence.\n",
    "    sequence: polars DataFrame for a single sequence\n",
    "    demographics: unused in this model\n",
    "    Returns: predicted gesture string\n",
    "    \"\"\"\n",
    "    x_tensor = (\n",
    "        torch.unsqueeze(Tensor(preprocess_sequence(sequence)), dim=0)\n",
    "        .float()\n",
    "        .to(device)\n",
    "    )\n",
    "    print(x_tensor.shape)\n",
    "\n",
    "    all_outputs = []\n",
    "    with torch.no_grad():\n",
    "        for model_idx, model in enumerate(model_ensemble): # Only take the first one bc it's the only one that takes in the correct input shape\n",
    "            outputs = model(x_tensor)\n",
    "            all_outputs.append(outputs)\n",
    "\n",
    "    avg_outputs = torch.mean(torch.stack(all_outputs), dim=0)\n",
    "    pred_idx = torch.argmax(avg_outputs, dim=1).item()\n",
    "\n",
    "    return str(gesture_classes[pred_idx])"
   ]
  },
  {
   "cell_type": "markdown",
   "id": "5cdcf446",
   "metadata": {},
   "source": [
    "### Run inference server"
   ]
  },
  {
   "cell_type": "code",
   "execution_count": 25,
   "id": "1c386b7d",
   "metadata": {
    "execution": {
     "iopub.execute_input": "2025-06-14T10:09:15.023324Z",
     "iopub.status.busy": "2025-06-14T10:09:15.023122Z",
     "iopub.status.idle": "2025-06-14T10:09:16.373534Z",
     "shell.execute_reply": "2025-06-14T10:09:16.372710Z"
    },
    "papermill": {
     "duration": 1.365137,
     "end_time": "2025-06-14T10:09:16.374918",
     "exception": false,
     "start_time": "2025-06-14T10:09:15.009781",
     "status": "completed"
    },
    "tags": []
   },
   "outputs": [
    {
     "name": "stdout",
     "output_type": "stream",
     "text": [
      "torch.Size([1, 66, 127])\n",
      "torch.Size([1, 66, 127])\n",
      "torch.Size([1, 66, 127])\n",
      "torch.Size([1, 66, 127])\n"
     ]
    }
   ],
   "source": [
    "inference_server = kaggle_evaluation.cmi_inference_server.CMIInferenceServer(predict)\n",
    "\n",
    "if os.getenv('KAGGLE_IS_COMPETITION_RERUN'):\n",
    "    inference_server.serve()\n",
    "else:\n",
    "    inference_server.run_local_gateway(\n",
    "        data_paths=(\n",
    "            join(competition_dataset_path, 'test.csv'),\n",
    "            join(competition_dataset_path, 'test_demographics.csv'),\n",
    "        )\n",
    "    )\n",
    "    inference_server = kaggle_evaluation.cmi_inference_server.CMIInferenceServer(predict)\n",
    "    inference_server.run_local_gateway(\n",
    "        data_paths=(\n",
    "            join(competition_dataset_path, 'test.csv'),\n",
    "            join(competition_dataset_path, 'test_demographics.csv'),\n",
    "        )\n",
    "    )"
   ]
  }
 ],
 "metadata": {
  "kaggle": {
   "accelerator": "gpu",
   "dataSources": [
    {
     "databundleVersionId": 12518947,
     "sourceId": 102335,
     "sourceType": "competition"
    }
   ],
   "isGpuEnabled": true,
   "isInternetEnabled": false,
   "language": "python",
   "sourceType": "notebook"
  },
  "kernelspec": {
   "display_name": "CMI",
   "language": "python",
   "name": "python3"
  },
  "language_info": {
   "codemirror_mode": {
    "name": "ipython",
    "version": 3
   },
   "file_extension": ".py",
   "mimetype": "text/x-python",
   "name": "python",
   "nbconvert_exporter": "python",
   "pygments_lexer": "ipython3",
   "version": "3.11.5"
  },
  "papermill": {
   "default_parameters": {},
   "duration": 510.403331,
   "end_time": "2025-06-14T10:09:19.701325",
   "environment_variables": {},
   "exception": null,
   "input_path": "__notebook__.ipynb",
   "output_path": "__notebook__.ipynb",
   "parameters": {},
   "start_time": "2025-06-14T10:00:49.297994",
   "version": "2.6.0"
  }
 },
 "nbformat": 4,
 "nbformat_minor": 5
}
