{
 "cells": [
  {
   "cell_type": "markdown",
   "id": "bf6438da",
   "metadata": {},
   "source": [
    "# Training & inference notebook\n",
    "Credit to [Tarun Mishra](https://www.kaggle.com/tarundirector) – this code is heavily based on his [notebook](https://www.kaggle.com/code/tarundirector/sensor-pulse-viz-eda-for-bfrb-detection?scriptVersionId=243465321)."
   ]
  },
  {
   "cell_type": "markdown",
   "id": "e752c660",
   "metadata": {},
   "source": [
    "## Setup"
   ]
  },
  {
   "cell_type": "markdown",
   "id": "473b69f6",
   "metadata": {},
   "source": [
    "### imports"
   ]
  },
  {
   "cell_type": "markdown",
   "id": "e7d4b210",
   "metadata": {},
   "source": [
    "#### Training imports"
   ]
  },
  {
   "cell_type": "code",
   "execution_count": 1,
   "id": "b842c804",
   "metadata": {},
   "outputs": [],
   "source": [
    "import os\n",
    "import json\n",
    "import math\n",
    "from glob import glob\n",
    "from functools import partial\n",
    "from datetime import datetime\n",
    "from collections import Counter\n",
    "from os.path import join, realpath\n",
    "from typing import Optional, Literal\n",
    "from itertools import pairwise, starmap\n",
    "\n",
    "import torch\n",
    "import kagglehub\n",
    "import numpy as np\n",
    "import pandas as pd\n",
    "import plotly.express as px\n",
    "from torch import nn, Tensor\n",
    "from pandas import DataFrame as DF\n",
    "from torch.utils.data import TensorDataset\n",
    "from torch.optim import Optimizer\n",
    "# from timm.scheduler import CosineLRScheduler\n",
    "from torch.utils.data import DataLoader as DL\n",
    "from rich.progress import Progress, Task, track\n",
    "from torch.optim.lr_scheduler import ConstantLR, LRScheduler, _LRScheduler\n",
    "metric_package = kagglehub.package_import('wasupandceacar/cmi-metric', bypass_confirmation=True)"
   ]
  },
  {
   "cell_type": "markdown",
   "id": "6a3ae962",
   "metadata": {},
   "source": [
    "#### inference imports"
   ]
  },
  {
   "cell_type": "code",
   "execution_count": 2,
   "id": "915c9ecf",
   "metadata": {},
   "outputs": [],
   "source": [
    "import os\n",
    "import json\n",
    "import warnings\n",
    "from os.path import join\n",
    "from tqdm.notebook import tqdm\n",
    "from itertools import pairwise, product\n",
    "\n",
    "import torch\n",
    "import numpy as np\n",
    "import pandas as pd\n",
    "import polars as pl\n",
    "from numpy import ndarray\n",
    "from torch import nn, Tensor\n",
    "from numpy.linalg import norm\n",
    "from pandas import DataFrame as DF\n",
    "from scipy.spatial.transform import Rotation\n",
    "# from kagglehub import competition_download, dataset_download, model_download\n",
    "import kagglehub\n",
    "metric_package = kagglehub.package_import('wasupandceacar/cmi-metric', bypass_confirmation=True)\n",
    "\n",
    "import training\n",
    "import kaggle_evaluation.cmi_inference_server"
   ]
  },
  {
   "cell_type": "markdown",
   "id": "5cd3c8bd",
   "metadata": {},
   "source": [
    "#### kaggle notbook Imports"
   ]
  },
  {
   "cell_type": "code",
   "execution_count": 3,
   "id": "ce2e25ed",
   "metadata": {},
   "outputs": [],
   "source": [
    "import random\n",
    "import numpy as np\n",
    "import torch\n",
    "import os\n",
    "\n",
    "def seed_everything(seed=42):\n",
    "    \"\"\"Set all random seeds for reproducibility\"\"\"\n",
    "    random.seed(seed)\n",
    "    np.random.seed(seed)\n",
    "    torch.manual_seed(seed)\n",
    "    torch.cuda.manual_seed(seed)\n",
    "    torch.backends.cudnn.deterministic = True\n",
    "    torch.backends.cudnn.benchmark = False\n",
    "    os.environ['PYTHONHASHSEED'] = str(seed)\n",
    "    os.environ['CUBLAS_WORKSPACE_CONFIG'] = ':4096:8'\n",
    "    torch.use_deterministic_algorithms(True, warn_only=True)\n",
    "\n",
    "SEED = 42\n",
    "seed_everything(seed=SEED)\n",
    "\n",
    "import pandas as pd\n",
    "import polars as pl\n",
    "from sklearn.metrics import f1_score\n",
    "from sklearn.model_selection import train_test_split\n",
    "from sklearn.preprocessing import StandardScaler, LabelEncoder\n",
    "from sklearn.model_selection import GroupKFold\n",
    "from sklearn.utils.class_weight import compute_class_weight\n",
    "import joblib\n",
    "from tqdm import tqdm\n",
    "\n",
    "from torch import nn\n",
    "import torch.nn.functional as F\n",
    "import torch.optim as optim\n",
    "from torch.utils.data import Dataset, DataLoader\n",
    "\n",
    "import kaggle_evaluation.cmi_inference_server\n",
    "from matplotlib import pyplot as plt"
   ]
  },
  {
   "cell_type": "markdown",
   "id": "91e34cce",
   "metadata": {},
   "source": [
    "### Configs"
   ]
  },
  {
   "cell_type": "markdown",
   "id": "57b0b925",
   "metadata": {},
   "source": [
    "#### Training config"
   ]
  },
  {
   "cell_type": "code",
   "execution_count": 4,
   "id": "1296f174",
   "metadata": {},
   "outputs": [],
   "source": [
    "# Dataset\n",
    "DATASET_HANDLE = \"mauroabidalcarrer/prepocessed-cmi-2025/versions/34\"\n",
    "COMPETITION_HANDLE = \"cmi-detect-behavior-with-sensor-data\"\n",
    "TARGET_NAMES = sorted([\n",
    "    \"Above ear - pull hair\",\n",
    "    \"Cheek - pinch skin\",\n",
    "    \"Eyebrow - pull hair\",\n",
    "    \"Eyelash - pull hair\",\n",
    "    \"Feel around in tray and pull out an object\",\n",
    "    \"Forehead - pull hairline\",\n",
    "    \"Forehead - scratch\",\n",
    "    \"Neck - pinch skin\",\n",
    "    \"Neck - scratch\",\n",
    "    \"Text on phone\",\n",
    "    \"Wave hello\",\n",
    "    \"Write name in air\",\n",
    "    \"Write name on leg\",\n",
    "    \"Drink from bottle/cup\",\n",
    "    \"Pinch knee/leg skin\",\n",
    "    \"Pull air toward your face\",\n",
    "    \"Scratch knee/leg skin\",\n",
    "    \"Glasses on/off\"\n",
    "])\n",
    "IMU_FEATS_PREFIXES = (\n",
    "    \"acc\",\n",
    "    \"linear_acc\",\n",
    "    \"rot\",\n",
    "    \"angular\",\n",
    "    \"euler\",\n",
    "    \"quat_rot_mag\",\n",
    "    \"delta_rot_mag\",\n",
    ")\n",
    "# Data augmentation\n",
    "JITTER = 0.25\n",
    "SCALING = 0.2\n",
    "MIXUP = 0.3\n",
    "# Training loop\n",
    "NB_CROSS_VALIDATIONS = 5\n",
    "STARTING_LR = 0.0005\n",
    "TRAIN_BATCH_SIZE = 256\n",
    "VALIDATION_BATCH_SIZE = 4 * TRAIN_BATCH_SIZE\n",
    "TRAINING_EPOCHS = 25\n",
    "PATIENCE = 12\n",
    "WARMUP_EPOCHS = 5\n",
    "MAX_LR_TO_MIN_DIV_FACTOR = 100\n",
    "WARMUP_LR_INT = 1.822126131809773e-05\n",
    "MIN_LR = 3.810323058740104e-09\n",
    "# Mock training loop\n",
    "MOCK_TRAINING_EPOCHS = 15\n",
    "MOCK_TRAINING_GAMMA = 1.01"
   ]
  },
  {
   "cell_type": "markdown",
   "id": "1393b8af",
   "metadata": {},
   "source": [
    "#### Preprocessing (for inference) config "
   ]
  },
  {
   "cell_type": "code",
   "execution_count": 32,
   "id": "3ad8c78c",
   "metadata": {},
   "outputs": [],
   "source": [
    "QUATERNION_COLS = ['rot_w', 'rot_x', 'rot_y', 'rot_z']\n",
    "GRAVITY_WORLD = np.array([0, 0, 9.81], \"float32\")\n",
    "RAW_ACCELRATION_COLS = [\"acc_x\", \"acc_y\", \"acc_z\"]\n",
    "LINEAR_ACC_COLS = [\"linear_\" + col for col in RAW_ACCELRATION_COLS] # Acceleration without gravity\n",
    "COMPETITION_HANDLE = \"cmi-detect-behavior-with-sensor-data\"\n",
    "CATEGORY_COLUMNS = [\n",
    "    'row_id',\n",
    "    'sequence_type',\n",
    "    'sequence_id',\n",
    "    'subject',\n",
    "    'orientation',\n",
    "    'behavior',\n",
    "    'phase',\n",
    "    'gesture',\n",
    "]\n",
    "META_DATA_COLUMNS = [\n",
    "    'row_id',\n",
    "    'sequence_type',\n",
    "    'sequence_id',\n",
    "    'sequence_counter',\n",
    "    'subject',\n",
    "    'orientation',\n",
    "    'behavior',\n",
    "    'phase',\n",
    "    'gesture',\n",
    "]\n",
    "DATASET_DF_DTYPES = {\n",
    "    \"acc_x\": \"float32\", \"acc_y\": \"float32\", \"acc_z\": \"float32\",\n",
    "    \"thm_1\":\"float32\", \"thm_2\":\"float32\", \"thm_3\":\"float32\", \"thm_4\":\"float32\", \"thm_5\":\"float32\",\n",
    "    \"sequence_counter\": \"int32\",\n",
    "    **{col: \"category\" for col in CATEGORY_COLUMNS},\n",
    "    **{f\"tof_{i_1}_v{i_2}\": \"float32\" for i_1, i_2 in product(range(1, 5), range(64))},\n",
    "}\n",
    "PREPROCESSED_DATASET_HANDLE = \"mauroabidalcarrer/prepocessed-cmi-2025\"\n",
    "# The quantile of the sequences len used to pad/truncate during preprocessing\n",
    "SEQUENCE_NORMED_LEN_QUANTILE = 0.95\n",
    "# SAMPLING_FREQUENCY = 10 #Hz\n",
    "N_FOLDS = 5\n",
    "VALIDATION_FRACTION = 0.2\n",
    "TARGET_NAMES = sorted([\n",
    "    \"Above ear - pull hair\",\n",
    "    \"Cheek - pinch skin\",\n",
    "    \"Eyebrow - pull hair\",\n",
    "    \"Eyelash - pull hair\",\n",
    "    \"Feel around in tray and pull out an object\",\n",
    "    \"Forehead - pull hairline\",\n",
    "    \"Forehead - scratch\",\n",
    "    \"Neck - pinch skin\",\n",
    "    \"Neck - scratch\",\n",
    "    \"Text on phone\",\n",
    "    \"Wave hello\",\n",
    "    \"Write name in air\",\n",
    "    \"Write name on leg\",\n",
    "    \"Drink from bottle/cup\",\n",
    "    \"Pinch knee/leg skin\",\n",
    "    \"Pull air toward your face\",\n",
    "    \"Scratch knee/leg skin\",\n",
    "    \"Glasses on/off\"\n",
    "])\n",
    "EPSILON=1e-8\n",
    "DELTA_ROTATION_ANGULAR_VELOCITY_COLS = [\"angular_vel_x\", \"angular_vel_y\", \"angular_vel_z\"]\n",
    "DELTA_ROTATION_AXES_COLS = [\"rotation_axis_x\", \"rotation_axis_y\", \"rotation_axis_z\"]\n",
    "EULER_ANGLES_COLS = [\"euler_x\", \"euler_y\", \"euler_z\"]\n",
    "TOF_AGG_FUNCS = [\n",
    "    \"mean\",\n",
    "    \"std\",\n",
    "    \"min\",\n",
    "    \"max\",\n",
    "    \"median\",\n",
    "]"
   ]
  },
  {
   "cell_type": "markdown",
   "id": "1c4bfefa",
   "metadata": {},
   "source": [
    "### Define function to get the feature columns\n",
    "Feature columns change over time so it's better to have a function to get them than manually update a variable every time we add/remove features."
   ]
  },
  {
   "cell_type": "code",
   "execution_count": 6,
   "id": "f3d40b15",
   "metadata": {},
   "outputs": [],
   "source": [
    "def get_feature_cols(df:DF) -> list[str]:\n",
    "    return sorted(list(set(df.columns) - set(META_DATA_COLUMNS) - set(TARGET_NAMES)))"
   ]
  },
  {
   "cell_type": "markdown",
   "id": "1eac0e5a",
   "metadata": {},
   "source": [
    "### Supress performance warngings"
   ]
  },
  {
   "cell_type": "code",
   "execution_count": 7,
   "id": "086420e2",
   "metadata": {},
   "outputs": [],
   "source": [
    "warnings.filterwarnings(\n",
    "    \"ignore\",\n",
    "    message=(\n",
    "        \"DataFrame is highly fragmented.  This is usually the result of \"\n",
    "        \"calling `frame.insert` many times.*\"\n",
    "    ),\n",
    "    category=pd.errors.PerformanceWarning,\n",
    ")"
   ]
  },
  {
   "cell_type": "markdown",
   "id": "7749c3bd",
   "metadata": {},
   "source": [
    "### device setup"
   ]
  },
  {
   "cell_type": "code",
   "execution_count": 8,
   "id": "aa7f99a1",
   "metadata": {},
   "outputs": [],
   "source": [
    "device = torch.device(\"cuda\") if torch.cuda.is_available() else torch.device(\"cpu\")"
   ]
  },
  {
   "cell_type": "markdown",
   "id": "6a563074",
   "metadata": {},
   "source": [
    "### Dataset Setup"
   ]
  },
  {
   "cell_type": "markdown",
   "id": "20a7f347",
   "metadata": {},
   "source": [
    "#### Dataset class"
   ]
  },
  {
   "cell_type": "code",
   "execution_count": 9,
   "id": "2bc2e83c",
   "metadata": {},
   "outputs": [],
   "source": [
    "dataset_path = kagglehub.dataset_download(DATASET_HANDLE)\n",
    "\n",
    "class CMIDataset(TensorDataset):\n",
    "    def __init__(\n",
    "        self,\n",
    "        parent_dir: str,\n",
    "        split: Optional[Literal[\"train\", \"validation\"]]=None,\n",
    "        subset: Optional[int]=None,\n",
    "        force_download=False\n",
    "    ):\n",
    "        dataset_path = kagglehub.dataset_download(DATASET_HANDLE, force_download)\n",
    "        parent_dir = join(dataset_path, \"preprocessed_dataset\", parent_dir)\n",
    "        split = \"\" if split is None else split + \"_\"\n",
    "        x = np.load(join(parent_dir, f\"{split}X.npy\")).swapaxes(1, 2)\n",
    "        y = np.load(join(parent_dir, f\"{split}Y.npy\"))\n",
    "        if subset is not None:\n",
    "            x = x[:subset]\n",
    "            y = y[:subset]\n",
    "        super().__init__(\n",
    "            torch.from_numpy(x).to(device),\n",
    "            torch.from_numpy(y).to(device),\n",
    "        )"
   ]
  },
  {
   "cell_type": "markdown",
   "id": "0da7064d",
   "metadata": {},
   "source": [
    "#### Meta data loading"
   ]
  },
  {
   "cell_type": "code",
   "execution_count": 10,
   "id": "5aae295d",
   "metadata": {},
   "outputs": [
    {
     "name": "stdout",
     "output_type": "stream",
     "text": [
      "['acc_mag', 'acc_mag_diff', 'acc_x', 'acc_x_diff', 'acc_y', 'acc_y_diff', 'acc_z', 'acc_z_diff', 'angular_vel_x', 'angular_vel_x_diff', 'angular_vel_y', 'angular_vel_y_diff', 'angular_vel_z', 'angular_vel_z_diff', 'delta_rot_mag', 'delta_rot_mag_diff', 'euler_x', 'euler_x_diff', 'euler_y', 'euler_y_diff', 'euler_z', 'euler_z_diff', 'linear_acc_mag', 'linear_acc_mag_diff', 'linear_acc_x', 'linear_acc_x_diff', 'linear_acc_y', 'linear_acc_y_diff', 'linear_acc_z', 'linear_acc_z_diff', 'quat_rot_mag', 'quat_rot_mag_diff', 'rot_w', 'rot_w_diff', 'rot_x', 'rot_x_diff', 'rot_y', 'rot_y_diff', 'rot_z', 'rot_z_diff', 'rotation_axis_x', 'rotation_axis_x_diff', 'rotation_axis_y', 'rotation_axis_y_diff', 'rotation_axis_z', 'rotation_axis_z_diff', 'thm_1', 'thm_1_diff', 'thm_2', 'thm_2_diff', 'thm_3', 'thm_3_diff', 'thm_4', 'thm_4_diff', 'thm_5', 'thm_5_diff', 'tof_1_v0', 'tof_1_v0_diff', 'tof_1_v1', 'tof_1_v10', 'tof_1_v10_diff', 'tof_1_v11', 'tof_1_v11_diff', 'tof_1_v12', 'tof_1_v12_diff', 'tof_1_v13', 'tof_1_v13_diff', 'tof_1_v14', 'tof_1_v14_diff', 'tof_1_v15', 'tof_1_v15_diff', 'tof_1_v16', 'tof_1_v16_diff', 'tof_1_v17', 'tof_1_v17_diff', 'tof_1_v18', 'tof_1_v18_diff', 'tof_1_v19', 'tof_1_v19_diff', 'tof_1_v1_diff', 'tof_1_v2', 'tof_1_v20', 'tof_1_v20_diff', 'tof_1_v21', 'tof_1_v21_diff', 'tof_1_v22', 'tof_1_v22_diff', 'tof_1_v23', 'tof_1_v23_diff', 'tof_1_v24', 'tof_1_v24_diff', 'tof_1_v25', 'tof_1_v25_diff', 'tof_1_v26', 'tof_1_v26_diff', 'tof_1_v27', 'tof_1_v27_diff', 'tof_1_v28', 'tof_1_v28_diff', 'tof_1_v29', 'tof_1_v29_diff', 'tof_1_v2_diff', 'tof_1_v3', 'tof_1_v30', 'tof_1_v30_diff', 'tof_1_v31', 'tof_1_v31_diff', 'tof_1_v32', 'tof_1_v32_diff', 'tof_1_v33', 'tof_1_v33_diff', 'tof_1_v34', 'tof_1_v34_diff', 'tof_1_v35', 'tof_1_v35_diff', 'tof_1_v36', 'tof_1_v36_diff', 'tof_1_v37', 'tof_1_v37_diff', 'tof_1_v38', 'tof_1_v38_diff', 'tof_1_v39', 'tof_1_v39_diff', 'tof_1_v3_diff', 'tof_1_v4', 'tof_1_v40', 'tof_1_v40_diff', 'tof_1_v41', 'tof_1_v41_diff', 'tof_1_v42', 'tof_1_v42_diff', 'tof_1_v43', 'tof_1_v43_diff', 'tof_1_v44', 'tof_1_v44_diff', 'tof_1_v45', 'tof_1_v45_diff', 'tof_1_v46', 'tof_1_v46_diff', 'tof_1_v47', 'tof_1_v47_diff', 'tof_1_v48', 'tof_1_v48_diff', 'tof_1_v49', 'tof_1_v49_diff', 'tof_1_v4_diff', 'tof_1_v5', 'tof_1_v50', 'tof_1_v50_diff', 'tof_1_v51', 'tof_1_v51_diff', 'tof_1_v52', 'tof_1_v52_diff', 'tof_1_v53', 'tof_1_v53_diff', 'tof_1_v54', 'tof_1_v54_diff', 'tof_1_v55', 'tof_1_v55_diff', 'tof_1_v56', 'tof_1_v56_diff', 'tof_1_v57', 'tof_1_v57_diff', 'tof_1_v58', 'tof_1_v58_diff', 'tof_1_v59', 'tof_1_v59_diff', 'tof_1_v5_diff', 'tof_1_v6', 'tof_1_v60', 'tof_1_v60_diff', 'tof_1_v61', 'tof_1_v61_diff', 'tof_1_v62', 'tof_1_v62_diff', 'tof_1_v63', 'tof_1_v63_diff', 'tof_1_v6_diff', 'tof_1_v7', 'tof_1_v7_diff', 'tof_1_v8', 'tof_1_v8_diff', 'tof_1_v9', 'tof_1_v9_diff', 'tof_2_v0', 'tof_2_v0_diff', 'tof_2_v1', 'tof_2_v10', 'tof_2_v10_diff', 'tof_2_v11', 'tof_2_v11_diff', 'tof_2_v12', 'tof_2_v12_diff', 'tof_2_v13', 'tof_2_v13_diff', 'tof_2_v14', 'tof_2_v14_diff', 'tof_2_v15', 'tof_2_v15_diff', 'tof_2_v16', 'tof_2_v16_diff', 'tof_2_v17', 'tof_2_v17_diff', 'tof_2_v18', 'tof_2_v18_diff', 'tof_2_v19', 'tof_2_v19_diff', 'tof_2_v1_diff', 'tof_2_v2', 'tof_2_v20', 'tof_2_v20_diff', 'tof_2_v21', 'tof_2_v21_diff', 'tof_2_v22', 'tof_2_v22_diff', 'tof_2_v23', 'tof_2_v23_diff', 'tof_2_v24', 'tof_2_v24_diff', 'tof_2_v25', 'tof_2_v25_diff', 'tof_2_v26', 'tof_2_v26_diff', 'tof_2_v27', 'tof_2_v27_diff', 'tof_2_v28', 'tof_2_v28_diff', 'tof_2_v29', 'tof_2_v29_diff', 'tof_2_v2_diff', 'tof_2_v3', 'tof_2_v30', 'tof_2_v30_diff', 'tof_2_v31', 'tof_2_v31_diff', 'tof_2_v32', 'tof_2_v32_diff', 'tof_2_v33', 'tof_2_v33_diff', 'tof_2_v34', 'tof_2_v34_diff', 'tof_2_v35', 'tof_2_v35_diff', 'tof_2_v36', 'tof_2_v36_diff', 'tof_2_v37', 'tof_2_v37_diff', 'tof_2_v38', 'tof_2_v38_diff', 'tof_2_v39', 'tof_2_v39_diff', 'tof_2_v3_diff', 'tof_2_v4', 'tof_2_v40', 'tof_2_v40_diff', 'tof_2_v41', 'tof_2_v41_diff', 'tof_2_v42', 'tof_2_v42_diff', 'tof_2_v43', 'tof_2_v43_diff', 'tof_2_v44', 'tof_2_v44_diff', 'tof_2_v45', 'tof_2_v45_diff', 'tof_2_v46', 'tof_2_v46_diff', 'tof_2_v47', 'tof_2_v47_diff', 'tof_2_v48', 'tof_2_v48_diff', 'tof_2_v49', 'tof_2_v49_diff', 'tof_2_v4_diff', 'tof_2_v5', 'tof_2_v50', 'tof_2_v50_diff', 'tof_2_v51', 'tof_2_v51_diff', 'tof_2_v52', 'tof_2_v52_diff', 'tof_2_v53', 'tof_2_v53_diff', 'tof_2_v54', 'tof_2_v54_diff', 'tof_2_v55', 'tof_2_v55_diff', 'tof_2_v56', 'tof_2_v56_diff', 'tof_2_v57', 'tof_2_v57_diff', 'tof_2_v58', 'tof_2_v58_diff', 'tof_2_v59', 'tof_2_v59_diff', 'tof_2_v5_diff', 'tof_2_v6', 'tof_2_v60', 'tof_2_v60_diff', 'tof_2_v61', 'tof_2_v61_diff', 'tof_2_v62', 'tof_2_v62_diff', 'tof_2_v63', 'tof_2_v63_diff', 'tof_2_v6_diff', 'tof_2_v7', 'tof_2_v7_diff', 'tof_2_v8', 'tof_2_v8_diff', 'tof_2_v9', 'tof_2_v9_diff', 'tof_3_v0', 'tof_3_v0_diff', 'tof_3_v1', 'tof_3_v10', 'tof_3_v10_diff', 'tof_3_v11', 'tof_3_v11_diff', 'tof_3_v12', 'tof_3_v12_diff', 'tof_3_v13', 'tof_3_v13_diff', 'tof_3_v14', 'tof_3_v14_diff', 'tof_3_v15', 'tof_3_v15_diff', 'tof_3_v16', 'tof_3_v16_diff', 'tof_3_v17', 'tof_3_v17_diff', 'tof_3_v18', 'tof_3_v18_diff', 'tof_3_v19', 'tof_3_v19_diff', 'tof_3_v1_diff', 'tof_3_v2', 'tof_3_v20', 'tof_3_v20_diff', 'tof_3_v21', 'tof_3_v21_diff', 'tof_3_v22', 'tof_3_v22_diff', 'tof_3_v23', 'tof_3_v23_diff', 'tof_3_v24', 'tof_3_v24_diff', 'tof_3_v25', 'tof_3_v25_diff', 'tof_3_v26', 'tof_3_v26_diff', 'tof_3_v27', 'tof_3_v27_diff', 'tof_3_v28', 'tof_3_v28_diff', 'tof_3_v29', 'tof_3_v29_diff', 'tof_3_v2_diff', 'tof_3_v3', 'tof_3_v30', 'tof_3_v30_diff', 'tof_3_v31', 'tof_3_v31_diff', 'tof_3_v32', 'tof_3_v32_diff', 'tof_3_v33', 'tof_3_v33_diff', 'tof_3_v34', 'tof_3_v34_diff', 'tof_3_v35', 'tof_3_v35_diff', 'tof_3_v36', 'tof_3_v36_diff', 'tof_3_v37', 'tof_3_v37_diff', 'tof_3_v38', 'tof_3_v38_diff', 'tof_3_v39', 'tof_3_v39_diff', 'tof_3_v3_diff', 'tof_3_v4', 'tof_3_v40', 'tof_3_v40_diff', 'tof_3_v41', 'tof_3_v41_diff', 'tof_3_v42', 'tof_3_v42_diff', 'tof_3_v43', 'tof_3_v43_diff', 'tof_3_v44', 'tof_3_v44_diff', 'tof_3_v45', 'tof_3_v45_diff', 'tof_3_v46', 'tof_3_v46_diff', 'tof_3_v47', 'tof_3_v47_diff', 'tof_3_v48', 'tof_3_v48_diff', 'tof_3_v49', 'tof_3_v49_diff', 'tof_3_v4_diff', 'tof_3_v5', 'tof_3_v50', 'tof_3_v50_diff', 'tof_3_v51', 'tof_3_v51_diff', 'tof_3_v52', 'tof_3_v52_diff', 'tof_3_v53', 'tof_3_v53_diff', 'tof_3_v54', 'tof_3_v54_diff', 'tof_3_v55', 'tof_3_v55_diff', 'tof_3_v56', 'tof_3_v56_diff', 'tof_3_v57', 'tof_3_v57_diff', 'tof_3_v58', 'tof_3_v58_diff', 'tof_3_v59', 'tof_3_v59_diff', 'tof_3_v5_diff', 'tof_3_v6', 'tof_3_v60', 'tof_3_v60_diff', 'tof_3_v61', 'tof_3_v61_diff', 'tof_3_v62', 'tof_3_v62_diff', 'tof_3_v63', 'tof_3_v63_diff', 'tof_3_v6_diff', 'tof_3_v7', 'tof_3_v7_diff', 'tof_3_v8', 'tof_3_v8_diff', 'tof_3_v9', 'tof_3_v9_diff', 'tof_4_v0', 'tof_4_v0_diff', 'tof_4_v1', 'tof_4_v10', 'tof_4_v10_diff', 'tof_4_v11', 'tof_4_v11_diff', 'tof_4_v12', 'tof_4_v12_diff', 'tof_4_v13', 'tof_4_v13_diff', 'tof_4_v14', 'tof_4_v14_diff', 'tof_4_v15', 'tof_4_v15_diff', 'tof_4_v16', 'tof_4_v16_diff', 'tof_4_v17', 'tof_4_v17_diff', 'tof_4_v18', 'tof_4_v18_diff', 'tof_4_v19', 'tof_4_v19_diff', 'tof_4_v1_diff', 'tof_4_v2', 'tof_4_v20', 'tof_4_v20_diff', 'tof_4_v21', 'tof_4_v21_diff', 'tof_4_v22', 'tof_4_v22_diff', 'tof_4_v23', 'tof_4_v23_diff', 'tof_4_v24', 'tof_4_v24_diff', 'tof_4_v25', 'tof_4_v25_diff', 'tof_4_v26', 'tof_4_v26_diff', 'tof_4_v27', 'tof_4_v27_diff', 'tof_4_v28', 'tof_4_v28_diff', 'tof_4_v29', 'tof_4_v29_diff', 'tof_4_v2_diff', 'tof_4_v3', 'tof_4_v30', 'tof_4_v30_diff', 'tof_4_v31', 'tof_4_v31_diff', 'tof_4_v32', 'tof_4_v32_diff', 'tof_4_v33', 'tof_4_v33_diff', 'tof_4_v34', 'tof_4_v34_diff', 'tof_4_v35', 'tof_4_v35_diff', 'tof_4_v36', 'tof_4_v36_diff', 'tof_4_v37', 'tof_4_v37_diff', 'tof_4_v38', 'tof_4_v38_diff', 'tof_4_v39', 'tof_4_v39_diff', 'tof_4_v3_diff', 'tof_4_v4', 'tof_4_v40', 'tof_4_v40_diff', 'tof_4_v41', 'tof_4_v41_diff', 'tof_4_v42', 'tof_4_v42_diff', 'tof_4_v43', 'tof_4_v43_diff', 'tof_4_v44', 'tof_4_v44_diff', 'tof_4_v45', 'tof_4_v45_diff', 'tof_4_v46', 'tof_4_v46_diff', 'tof_4_v47', 'tof_4_v47_diff', 'tof_4_v48', 'tof_4_v48_diff', 'tof_4_v49', 'tof_4_v49_diff', 'tof_4_v4_diff', 'tof_4_v5', 'tof_4_v50', 'tof_4_v50_diff', 'tof_4_v51', 'tof_4_v51_diff', 'tof_4_v52', 'tof_4_v52_diff', 'tof_4_v53', 'tof_4_v53_diff', 'tof_4_v54', 'tof_4_v54_diff', 'tof_4_v55', 'tof_4_v55_diff', 'tof_4_v56', 'tof_4_v56_diff', 'tof_4_v57', 'tof_4_v57_diff', 'tof_4_v58', 'tof_4_v58_diff', 'tof_4_v59', 'tof_4_v59_diff', 'tof_4_v5_diff', 'tof_4_v6', 'tof_4_v60', 'tof_4_v60_diff', 'tof_4_v61', 'tof_4_v61_diff', 'tof_4_v62', 'tof_4_v62_diff', 'tof_4_v63', 'tof_4_v63_diff', 'tof_4_v6_diff', 'tof_4_v7', 'tof_4_v7_diff', 'tof_4_v8', 'tof_4_v8_diff', 'tof_4_v9', 'tof_4_v9_diff', 'tof_5_v0', 'tof_5_v0_diff', 'tof_5_v1', 'tof_5_v10', 'tof_5_v10_diff', 'tof_5_v11', 'tof_5_v11_diff', 'tof_5_v12', 'tof_5_v12_diff', 'tof_5_v13', 'tof_5_v13_diff', 'tof_5_v14', 'tof_5_v14_diff', 'tof_5_v15', 'tof_5_v15_diff', 'tof_5_v16', 'tof_5_v16_diff', 'tof_5_v17', 'tof_5_v17_diff', 'tof_5_v18', 'tof_5_v18_diff', 'tof_5_v19', 'tof_5_v19_diff', 'tof_5_v1_diff', 'tof_5_v2', 'tof_5_v20', 'tof_5_v20_diff', 'tof_5_v21', 'tof_5_v21_diff', 'tof_5_v22', 'tof_5_v22_diff', 'tof_5_v23', 'tof_5_v23_diff', 'tof_5_v24', 'tof_5_v24_diff', 'tof_5_v25', 'tof_5_v25_diff', 'tof_5_v26', 'tof_5_v26_diff', 'tof_5_v27', 'tof_5_v27_diff', 'tof_5_v28', 'tof_5_v28_diff', 'tof_5_v29', 'tof_5_v29_diff', 'tof_5_v2_diff', 'tof_5_v3', 'tof_5_v30', 'tof_5_v30_diff', 'tof_5_v31', 'tof_5_v31_diff', 'tof_5_v32', 'tof_5_v32_diff', 'tof_5_v33', 'tof_5_v33_diff', 'tof_5_v34', 'tof_5_v34_diff', 'tof_5_v35', 'tof_5_v35_diff', 'tof_5_v36', 'tof_5_v36_diff', 'tof_5_v37', 'tof_5_v37_diff', 'tof_5_v38', 'tof_5_v38_diff', 'tof_5_v39', 'tof_5_v39_diff', 'tof_5_v3_diff', 'tof_5_v4', 'tof_5_v40', 'tof_5_v40_diff', 'tof_5_v41', 'tof_5_v41_diff', 'tof_5_v42', 'tof_5_v42_diff', 'tof_5_v43', 'tof_5_v43_diff', 'tof_5_v44', 'tof_5_v44_diff', 'tof_5_v45', 'tof_5_v45_diff', 'tof_5_v46', 'tof_5_v46_diff', 'tof_5_v47', 'tof_5_v47_diff', 'tof_5_v48', 'tof_5_v48_diff', 'tof_5_v49', 'tof_5_v49_diff', 'tof_5_v4_diff', 'tof_5_v5', 'tof_5_v50', 'tof_5_v50_diff', 'tof_5_v51', 'tof_5_v51_diff', 'tof_5_v52', 'tof_5_v52_diff', 'tof_5_v53', 'tof_5_v53_diff', 'tof_5_v54', 'tof_5_v54_diff', 'tof_5_v55', 'tof_5_v55_diff', 'tof_5_v56', 'tof_5_v56_diff', 'tof_5_v57', 'tof_5_v57_diff', 'tof_5_v58', 'tof_5_v58_diff', 'tof_5_v59', 'tof_5_v59_diff', 'tof_5_v5_diff', 'tof_5_v6', 'tof_5_v60', 'tof_5_v60_diff', 'tof_5_v61', 'tof_5_v61_diff', 'tof_5_v62', 'tof_5_v62_diff', 'tof_5_v63', 'tof_5_v63_diff', 'tof_5_v6_diff', 'tof_5_v7', 'tof_5_v7_diff', 'tof_5_v8', 'tof_5_v8_diff', 'tof_5_v9', 'tof_5_v9_diff']\n",
      "non_imu_feats_idx: [46, 47, 48, 49, 50, 51, 52, 53, 54, 55, 56, 57, 58, 59, 60, 61, 62, 63, 64, 65, 66, 67, 68, 69, 70, 71, 72, 73, 74, 75, 76, 77, 78, 79, 80, 81, 82, 83, 84, 85, 86, 87, 88, 89, 90, 91, 92, 93, 94, 95, 96, 97, 98, 99, 100, 101, 102, 103, 104, 105, 106, 107, 108, 109, 110, 111, 112, 113, 114, 115, 116, 117, 118, 119, 120, 121, 122, 123, 124, 125, 126, 127, 128, 129, 130, 131, 132, 133, 134, 135, 136, 137, 138, 139, 140, 141, 142, 143, 144, 145, 146, 147, 148, 149, 150, 151, 152, 153, 154, 155, 156, 157, 158, 159, 160, 161, 162, 163, 164, 165, 166, 167, 168, 169, 170, 171, 172, 173, 174, 175, 176, 177, 178, 179, 180, 181, 182, 183, 184, 185, 186, 187, 188, 189, 190, 191, 192, 193, 194, 195, 196, 197, 198, 199, 200, 201, 202, 203, 204, 205, 206, 207, 208, 209, 210, 211, 212, 213, 214, 215, 216, 217, 218, 219, 220, 221, 222, 223, 224, 225, 226, 227, 228, 229, 230, 231, 232, 233, 234, 235, 236, 237, 238, 239, 240, 241, 242, 243, 244, 245, 246, 247, 248, 249, 250, 251, 252, 253, 254, 255, 256, 257, 258, 259, 260, 261, 262, 263, 264, 265, 266, 267, 268, 269, 270, 271, 272, 273, 274, 275, 276, 277, 278, 279, 280, 281, 282, 283, 284, 285, 286, 287, 288, 289, 290, 291, 292, 293, 294, 295, 296, 297, 298, 299, 300, 301, 302, 303, 304, 305, 306, 307, 308, 309, 310, 311, 312, 313, 314, 315, 316, 317, 318, 319, 320, 321, 322, 323, 324, 325, 326, 327, 328, 329, 330, 331, 332, 333, 334, 335, 336, 337, 338, 339, 340, 341, 342, 343, 344, 345, 346, 347, 348, 349, 350, 351, 352, 353, 354, 355, 356, 357, 358, 359, 360, 361, 362, 363, 364, 365, 366, 367, 368, 369, 370, 371, 372, 373, 374, 375, 376, 377, 378, 379, 380, 381, 382, 383, 384, 385, 386, 387, 388, 389, 390, 391, 392, 393, 394, 395, 396, 397, 398, 399, 400, 401, 402, 403, 404, 405, 406, 407, 408, 409, 410, 411, 412, 413, 414, 415, 416, 417, 418, 419, 420, 421, 422, 423, 424, 425, 426, 427, 428, 429, 430, 431, 432, 433, 434, 435, 436, 437, 438, 439, 440, 441, 442, 443, 444, 445, 446, 447, 448, 449, 450, 451, 452, 453, 454, 455, 456, 457, 458, 459, 460, 461, 462, 463, 464, 465, 466, 467, 468, 469, 470, 471, 472, 473, 474, 475, 476, 477, 478, 479, 480, 481, 482, 483, 484, 485, 486, 487, 488, 489, 490, 491, 492, 493, 494, 495, 496, 497, 498, 499, 500, 501, 502, 503, 504, 505, 506, 507, 508, 509, 510, 511, 512, 513, 514, 515, 516, 517, 518, 519, 520, 521, 522, 523, 524, 525, 526, 527, 528, 529, 530, 531, 532, 533, 534, 535, 536, 537, 538, 539, 540, 541, 542, 543, 544, 545, 546, 547, 548, 549, 550, 551, 552, 553, 554, 555, 556, 557, 558, 559, 560, 561, 562, 563, 564, 565, 566, 567, 568, 569, 570, 571, 572, 573, 574, 575, 576, 577, 578, 579, 580, 581, 582, 583, 584, 585, 586, 587, 588, 589, 590, 591, 592, 593, 594, 595, 596, 597, 598, 599, 600, 601, 602, 603, 604, 605, 606, 607, 608, 609, 610, 611, 612, 613, 614, 615, 616, 617, 618, 619, 620, 621, 622, 623, 624, 625, 626, 627, 628, 629, 630, 631, 632, 633, 634, 635, 636, 637, 638, 639, 640, 641, 642, 643, 644, 645, 646, 647, 648, 649, 650, 651, 652, 653, 654, 655, 656, 657, 658, 659, 660, 661, 662, 663, 664, 665, 666, 667, 668, 669, 670, 671, 672, 673, 674, 675, 676, 677, 678, 679, 680, 681, 682, 683, 684, 685, 686, 687, 688, 689, 690, 691, 692, 693, 694, 695]\n",
      "imu_feats_idx: [0, 1, 2, 3, 4, 5, 6, 7, 8, 9, 10, 11, 12, 13, 14, 15, 16, 17, 18, 19, 20, 21, 22, 23, 24, 25, 26, 27, 28, 29, 30, 31, 32, 33, 34, 35, 36, 37, 38, 39, 40, 41, 42, 43, 44, 45]\n"
     ]
    }
   ],
   "source": [
    "meta_data_path = join(\n",
    "    dataset_path,\n",
    "    \"preprocessed_dataset\",\n",
    "    \"full_dataset_meta_data.json\"\n",
    ")\n",
    "with open(meta_data_path, \"r\") as fp:\n",
    "    meta_data = json.load(fp)\n",
    "# Convert target names into a ndarray to index it batchwise.\n",
    "is_thm_tof_feat = lambda feat: feat.startswith((\"thm\", \"tof\"))\n",
    "non_imu_feats_idx = [feat_idx for feat_idx, feat in enumerate(meta_data[\"feature_cols\"]) if is_thm_tof_feat(feat)]\n",
    "imu_feats_idx = [feat_idx for feat_idx, feat in enumerate(meta_data[\"feature_cols\"]) if not is_thm_tof_feat(feat)]\n",
    "print(meta_data[\"feature_cols\"])\n",
    "print(\"non_imu_feats_idx:\", non_imu_feats_idx)\n",
    "print(\"imu_feats_idx:\", imu_feats_idx)"
   ]
  },
  {
   "cell_type": "markdown",
   "id": "dbc6fe74",
   "metadata": {},
   "source": [
    "#### Compute class weights."
   ]
  },
  {
   "cell_type": "code",
   "execution_count": 11,
   "id": "74233c6c",
   "metadata": {},
   "outputs": [],
   "source": [
    "def compute_weighted_cross_entropy_loss(\n",
    "    dataset: Dataset[tuple[torch.Tensor, torch.Tensor]]\n",
    ") -> nn.CrossEntropyLoss:\n",
    "    \"\"\"\n",
    "    Computes class weights from a dataset with one-hot encoded targets and returns a CrossEntropyLoss with those weights.\n",
    "\n",
    "    Args:\n",
    "        dataset: A PyTorch Dataset that yields (x, y) where y is a one-hot encoded tensor of shape (num_classes,)\n",
    "\n",
    "    Returns:\n",
    "        A torch.nn.CrossEntropyLoss object with class weights based on inverse class frequency.\n",
    "    \"\"\"\n",
    "    class_counts: Counter = Counter()\n",
    "    num_samples = 0\n",
    "\n",
    "    for _, y in dataset:\n",
    "        class_idx = y.argmax().item()\n",
    "        class_counts[class_idx] += 1\n",
    "        num_samples += 1\n",
    "\n",
    "    num_classes = len(class_counts)\n",
    "    weights = torch.tensor(\n",
    "        [num_samples / class_counts[i] for i in range(num_classes)],\n",
    "        dtype=torch.float32,\n",
    "    )\n",
    "\n",
    "    # Optional: normalize weights so they sum to 1\n",
    "    weights = weights / weights.sum()\n",
    "\n",
    "    return nn.CrossEntropyLoss(weight=weights.to(device))\n"
   ]
  },
  {
   "cell_type": "markdown",
   "id": "2161df0c",
   "metadata": {
    "papermill": {
     "duration": 0.00278,
     "end_time": "2025-06-14T10:01:12.877551",
     "exception": false,
     "start_time": "2025-06-14T10:01:12.874771",
     "status": "completed"
    },
    "tags": []
   },
   "source": [
    "### BFRBs indices"
   ]
  },
  {
   "cell_type": "code",
   "execution_count": 12,
   "id": "e657c570",
   "metadata": {
    "execution": {
     "iopub.execute_input": "2025-06-14T10:01:12.884365Z",
     "iopub.status.busy": "2025-06-14T10:01:12.883937Z",
     "iopub.status.idle": "2025-06-14T10:01:45.309186Z",
     "shell.execute_reply": "2025-06-14T10:01:45.308564Z"
    },
    "papermill": {
     "duration": 32.430139,
     "end_time": "2025-06-14T10:01:45.310511",
     "exception": false,
     "start_time": "2025-06-14T10:01:12.880372",
     "status": "completed"
    },
    "tags": []
   },
   "outputs": [
    {
     "name": "stdout",
     "output_type": "stream",
     "text": [
      "Loading datasets...\n"
     ]
    },
    {
     "name": "stdout",
     "output_type": "stream",
     "text": [
      "Train rows: 574945, Test rows: 107\n"
     ]
    }
   ],
   "source": [
    "print(\"Loading datasets...\")\n",
    "competition_dataset_path = kagglehub.competition_download(COMPETITION_HANDLE)\n",
    "train_df = pd.read_csv(join(competition_dataset_path, \"train.csv\"))\n",
    "train_dem_df = pd.read_csv(join(competition_dataset_path, \"train_demographics.csv\"))\n",
    "test_df = pd.read_csv(join(competition_dataset_path, \"test.csv\"))\n",
    "test_dem_df = pd.read_csv(join(competition_dataset_path, \"test_demographics.csv\"))\n",
    "print(f\"Train rows: {len(train_df)}, Test rows: {len(test_df)}\")\n",
    "\n",
    "# Encode labels\n",
    "label_encoder = LabelEncoder()\n",
    "train_df['gesture'] = label_encoder.fit_transform(train_df['gesture'].astype(str))\n",
    "gesture_classes = label_encoder.classes_\n",
    "\n",
    "bfrb_gestures = [\n",
    "    'Above ear - pull hair',\n",
    "    'Forehead - pull hairline',\n",
    "    'Forehead - scratch',\n",
    "    'Eyebrow - pull hair',\n",
    "    'Eyelash - pull hair',\n",
    "    'Neck - pinch skin',\n",
    "    'Neck - scratch',\n",
    "    'Cheek - pinch skin'\n",
    "]\n",
    "bfrb_indices = label_encoder.transform(bfrb_gestures)"
   ]
  },
  {
   "cell_type": "markdown",
   "id": "0de16cc1",
   "metadata": {},
   "source": [
    "### Scheduler"
   ]
  },
  {
   "cell_type": "code",
   "execution_count": 13,
   "id": "d3d46b85",
   "metadata": {},
   "outputs": [],
   "source": [
    "class CosineAnnealingWarmupRestarts(_LRScheduler):\n",
    "    def __init__(\n",
    "        self,\n",
    "        optimizer: Optimizer,\n",
    "        warmup_steps: int,\n",
    "        max_lr: float,\n",
    "        min_lr: float,\n",
    "        cycle_length: int,\n",
    "        cycle_mult: float = 1.0,\n",
    "        gamma: float = 1.0,\n",
    "        last_epoch: int = -1,\n",
    "    ) -> None:\n",
    "        \"\"\"\n",
    "        Args:\n",
    "            optimizer: Wrapped optimizer.\n",
    "            warmup_steps: Number of steps for linear warmup.\n",
    "            max_lr: Initial maximum learning rate.\n",
    "            min_lr: Minimum learning rate after decay.\n",
    "            cycle_length: Initial number of steps per cosine cycle.\n",
    "            cycle_mult: Multiplicative factor for increasing cycle lengths.\n",
    "            gamma: Multiplicative decay factor for max_lr after each cycle.\n",
    "            last_epoch: The index of last epoch. Default: -1.\n",
    "        \"\"\"\n",
    "        self.warmup_steps = warmup_steps\n",
    "        self.max_lr = max_lr\n",
    "        self.min_lr = min_lr\n",
    "        self.cycle_length = cycle_length\n",
    "        self.cycle_mult = cycle_mult\n",
    "        self.gamma = gamma\n",
    "\n",
    "        self.current_cycle = 0\n",
    "        self.cycle_step = 0\n",
    "        self.lr = max_lr\n",
    "\n",
    "        super().__init__(optimizer, last_epoch)\n",
    "\n",
    "    def get_lr(self) -> list[float]:\n",
    "        if self.last_epoch < self.warmup_steps:\n",
    "            # Linear warmup\n",
    "            scale = (self.last_epoch + 1) / self.warmup_steps\n",
    "            return [self.min_lr + scale * (self.max_lr - self.min_lr) for _ in self.base_lrs]\n",
    "\n",
    "        # Adjust for post-warmup step index\n",
    "        t = self.cycle_step\n",
    "        T = self.cycle_length\n",
    "\n",
    "        cosine_decay = 0.5 * (1 + math.cos(math.pi * t / T))\n",
    "        lr = self.min_lr + (self.max_lr - self.min_lr) * cosine_decay\n",
    "\n",
    "        return [lr for _ in self.base_lrs]\n",
    "\n",
    "    def step(self, epoch: Optional[int] = None) -> None:\n",
    "        if self.last_epoch >= self.warmup_steps:\n",
    "            self.cycle_step += 1\n",
    "            if self.cycle_step >= self.cycle_length:\n",
    "                self.current_cycle += 1\n",
    "                self.cycle_step = 0\n",
    "                self.cycle_length = int(self.cycle_length * self.cycle_mult)\n",
    "                self.max_lr *= self.gamma\n",
    "        super().step(epoch)\n"
   ]
  },
  {
   "cell_type": "markdown",
   "id": "9c54244a",
   "metadata": {},
   "source": [
    "## Model definition"
   ]
  },
  {
   "cell_type": "code",
   "execution_count": 21,
   "id": "80ae01a8",
   "metadata": {},
   "outputs": [],
   "source": [
    "class MultiScaleConvs(nn.Module):\n",
    "    def __init__(self, in_channels:int, kernel_sizes:list[int]):\n",
    "        super().__init__()\n",
    "        def mk_conv_block(k_size) -> nn.Sequential:\n",
    "            return nn.Sequential(\n",
    "                nn.Conv1d(in_channels, in_channels, k_size, padding=k_size // 2, groups=in_channels),\n",
    "                nn.BatchNorm1d(in_channels),\n",
    "                nn.ReLU(),\n",
    "            )\n",
    "        self.convs = nn.ModuleList(map(mk_conv_block, kernel_sizes))\n",
    "\n",
    "    def forward(self, x:Tensor) -> Tensor:\n",
    "        yes = torch.cat([conv(x) for conv in self.convs] + [x], dim=1)\n",
    "        # print(\"stem output shape:\", yes.shape)\n",
    "        return yes\n",
    "    \n",
    "class SqueezeExcitationBlock(nn.Module):\n",
    "    # Copy/paste of https://www.kaggle.com/code/wasupandceacar/lb-0-82-5fold-single-bert-model#Model implementation\n",
    "    def __init__(self, channels:int, reduction:int=8):\n",
    "        super().__init__()\n",
    "        self.fc1 = nn.Linear(channels, channels // reduction, bias=True)\n",
    "        self.fc2 = nn.Linear(channels // reduction, channels, bias=True)\n",
    "        self.sigmoid = nn.Sigmoid()\n",
    "\n",
    "    def forward(self, x):\n",
    "        # x: (B, C, L)\n",
    "        se = F.adaptive_avg_pool1d(x, 1).squeeze(-1)      # -> (B, C)\n",
    "        se = F.relu(self.fc1(se), inplace=True)          # -> (B, C//r)\n",
    "        se = self.sigmoid(self.fc2(se)).unsqueeze(-1)    # -> (B, C, 1)\n",
    "        return x * se\n",
    "\n",
    "class ResidualBlock(nn.Module):\n",
    "    def __init__(self, in_chns:int, out_chns:int, dropout_ratio:float=0.3, se_reduction:int=8, kernel_size:int=3):\n",
    "        super().__init__()\n",
    "        self.blocks = nn.Sequential(\n",
    "            nn.Conv1d(in_chns, out_chns, kernel_size=kernel_size, padding=kernel_size // 2),\n",
    "            nn.BatchNorm1d(out_chns),\n",
    "            nn.ReLU(),\n",
    "            nn.Conv1d(out_chns, out_chns, kernel_size=kernel_size, padding=kernel_size // 2),\n",
    "            nn.BatchNorm1d(out_chns),\n",
    "            SqueezeExcitationBlock(out_chns, se_reduction),\n",
    "        )\n",
    "        self.head = nn.Sequential(nn.ReLU(), nn.Dropout(dropout_ratio))\n",
    "        if in_chns == out_chns:\n",
    "            self.skip_connection = nn.Identity() \n",
    "        else:\n",
    "            # TODO: set bias to False ?\n",
    "            self.skip_connection = nn.Sequential(\n",
    "                nn.Conv1d(in_chns, out_chns, 1),\n",
    "                nn.BatchNorm1d(out_chns)\n",
    "            )\n",
    "            self.head.insert(1, nn.MaxPool1d(2))\n",
    "\n",
    "    def forward(self, x:Tensor) -> Tensor:\n",
    "        activaition_maps = self.skip_connection(x) + self.blocks(x)\n",
    "        return self.head(activaition_maps)\n",
    "\n",
    "class MBConvBlock(nn.Module):\n",
    "    # From this schema: https://media.licdn.com/dms/image/v2/D5612AQFjbDOm5uyxdw/article-inline_image-shrink_1500_2232/article-inline_image-shrink_1500_2232/0/1683677500817?e=1758153600&v=beta&t=n48_UW5TZTyDPhRFlJXSidUQQPQpuC756M0kNeKmYTY\n",
    "    def __init__(self, in_chns:int, out_chns:int, se_reduction:int=8, expansion_ratio:int=4, dropout_ratio:float=0.3):\n",
    "        super().__init__()\n",
    "        expanded_channels = in_chns * expansion_ratio\n",
    "        self.blocks = nn.Sequential(\n",
    "            nn.Conv1d(in_chns, expanded_channels, kernel_size=1),\n",
    "            nn.BatchNorm1d(expanded_channels),\n",
    "            nn.ReLU(),\n",
    "            nn.Conv1d(\n",
    "                expanded_channels,\n",
    "                expanded_channels,\n",
    "                kernel_size=3,\n",
    "                padding=1,\n",
    "                groups=expanded_channels,\n",
    "            ),\n",
    "            nn.BatchNorm1d(expanded_channels),\n",
    "            nn.ReLU(),\n",
    "            SqueezeExcitationBlock(expanded_channels, se_reduction),\n",
    "            nn.Conv1d(expanded_channels, out_chns, kernel_size=1)\n",
    "        )\n",
    "        self.head = nn.Sequential(\n",
    "            nn.BatchNorm1d(out_chns)\n",
    "            # nn.ReLU(),\n",
    "            # nn.Dropout(dropout_ratio),\n",
    "        )\n",
    "        if in_chns == out_chns:\n",
    "            self.skip_connection = nn.Identity() \n",
    "        else:\n",
    "            # TODO: set bias to False ?\n",
    "            self.skip_connection = nn.Sequential(\n",
    "                nn.Conv1d(in_chns, out_chns, 1),\n",
    "                nn.BatchNorm1d(out_chns)\n",
    "            )\n",
    "            self.head.add_module(\"max_pool\", nn.MaxPool1d(2))\n",
    "            \n",
    "    def forward(self, x:Tensor) -> Tensor:\n",
    "        activaition_maps = self.skip_connection(x) + self.blocks(x)\n",
    "        return self.head(activaition_maps)\n",
    "\n",
    "class AdditiveAttentionLayer(nn.Module):\n",
    "    # Copied (and slightly modified) from https://www.kaggle.com/code/myso1987/cmi3-pyroch-baseline-model-add-aug-folds\n",
    "    def __init__(self, hidden_dim):\n",
    "        super().__init__()\n",
    "        self.attention = nn.Linear(hidden_dim, 1)\n",
    "\n",
    "    def forward(self, x: Tensor) -> Tensor:\n",
    "        # x shape: (batch, channels, seq_len)\n",
    "        x = x.swapaxes(1, 2)\n",
    "        # x shape: (batch, seq_len, hidden_dim)\n",
    "        scores = torch.tanh(self.attention(x))  # (batch, seq_len, 1)\n",
    "        weights = F.softmax(scores.squeeze(-1), dim=1)  # (batch, seq_len)\n",
    "        context = torch.sum(x * weights.unsqueeze(-1), dim=1)  # (batch, hidden_dim)\n",
    "        return context\n",
    "\n",
    "class CMIHARModule(nn.Module):\n",
    "    def __init__(\n",
    "            self,\n",
    "            imu_idx:list[int],\n",
    "            tof_thm_idx:list[int],\n",
    "            mlp_width:int,\n",
    "            n_class:int,            \n",
    "            tof_thm_dropout_ratio:float=0,\n",
    "        ):\n",
    "        super().__init__()\n",
    "        self.imu_idx = imu_idx\n",
    "        self.tof_thm_idx = tof_thm_idx\n",
    "        self.imu_branch = nn.Sequential(\n",
    "            ResidualBlock(len(imu_idx), len(imu_idx) * 2),\n",
    "            ResidualBlock(len(imu_idx) * 2, len(imu_idx) * 4),\n",
    "        )\n",
    "        self.tof_and_thm_branch = nn.Sequential(\n",
    "            nn.Conv1d(len(tof_thm_idx), 64, 3, padding=1, bias=False),\n",
    "            nn.BatchNorm1d(64),\n",
    "            nn.MaxPool1d(2),\n",
    "            nn.Dropout(tof_thm_dropout_ratio),\n",
    "            nn.Conv1d(64, 128, 3, padding=1, bias=False),\n",
    "            nn.BatchNorm1d(128),\n",
    "            nn.MaxPool1d(2),\n",
    "            nn.Dropout(tof_thm_dropout_ratio),\n",
    "        )\n",
    "        # print(\"imu expected activation maps size:\", len(imu_idx) * 4)\n",
    "        # print(\"expected tof and thm activation maps size:\", len(tof_thm_idx) * 4)\n",
    "        # print(\"concatenated acitvation maps size:\", (len(imu_idx) + len(tof_thm_idx)) * 4)\n",
    "        self.lstm = nn.GRU(len(imu_idx) * 4 + 128, mlp_width // 2, bidirectional=True)\n",
    "        self.attention = AdditiveAttentionLayer(mlp_width)\n",
    "        self.head = nn.Sequential(\n",
    "            # Head\n",
    "            nn.LazyLinear(mlp_width),\n",
    "            nn.ReLU(),\n",
    "            nn.Linear(mlp_width, mlp_width // 2),\n",
    "            nn.ReLU(),\n",
    "            nn.Linear(mlp_width // 2, n_class),\n",
    "        )\n",
    "\n",
    "    def forward(self, x:Tensor) -> Tensor:\n",
    "        imu_activation_maps = self.imu_branch(x[:, self.imu_idx])\n",
    "        tof_thm_activation_maps = self.tof_and_thm_branch(x[:, self.tof_thm_idx])\n",
    "        concatenated_activation_maps = torch.cat((imu_activation_maps, tof_thm_activation_maps), 1)\n",
    "        lstm_output, _  = self.lstm(concatenated_activation_maps.swapaxes(1, 2))\n",
    "        lstm_output = lstm_output.swapaxes(1, 2) # redundant\n",
    "        attended = self.attention(lstm_output)\n",
    "        return self.head(attended)"
   ]
  },
  {
   "cell_type": "markdown",
   "id": "bfc08e41",
   "metadata": {},
   "source": [
    "### Create model function"
   ]
  },
  {
   "cell_type": "code",
   "execution_count": 15,
   "id": "36e3e463",
   "metadata": {},
   "outputs": [
    {
     "data": {
      "text/plain": [
       "CMIHARModule(\n",
       "  (imu_branch): Sequential(\n",
       "    (0): ResidualBlock(\n",
       "      (blocks): Sequential(\n",
       "        (0): Conv1d(46, 92, kernel_size=(3,), stride=(1,), padding=(1,))\n",
       "        (1): BatchNorm1d(92, eps=1e-05, momentum=0.1, affine=True, track_running_stats=True)\n",
       "        (2): ReLU()\n",
       "        (3): Conv1d(92, 92, kernel_size=(3,), stride=(1,), padding=(1,))\n",
       "        (4): BatchNorm1d(92, eps=1e-05, momentum=0.1, affine=True, track_running_stats=True)\n",
       "        (5): SqueezeExcitationBlock(\n",
       "          (fc1): Linear(in_features=92, out_features=11, bias=True)\n",
       "          (fc2): Linear(in_features=11, out_features=92, bias=True)\n",
       "          (sigmoid): Sigmoid()\n",
       "        )\n",
       "      )\n",
       "      (head): Sequential(\n",
       "        (0): ReLU()\n",
       "        (1): MaxPool1d(kernel_size=2, stride=2, padding=0, dilation=1, ceil_mode=False)\n",
       "        (2): Dropout(p=0.3, inplace=False)\n",
       "      )\n",
       "      (skip_connection): Sequential(\n",
       "        (0): Conv1d(46, 92, kernel_size=(1,), stride=(1,))\n",
       "        (1): BatchNorm1d(92, eps=1e-05, momentum=0.1, affine=True, track_running_stats=True)\n",
       "      )\n",
       "    )\n",
       "    (1): ResidualBlock(\n",
       "      (blocks): Sequential(\n",
       "        (0): Conv1d(92, 184, kernel_size=(3,), stride=(1,), padding=(1,))\n",
       "        (1): BatchNorm1d(184, eps=1e-05, momentum=0.1, affine=True, track_running_stats=True)\n",
       "        (2): ReLU()\n",
       "        (3): Conv1d(184, 184, kernel_size=(3,), stride=(1,), padding=(1,))\n",
       "        (4): BatchNorm1d(184, eps=1e-05, momentum=0.1, affine=True, track_running_stats=True)\n",
       "        (5): SqueezeExcitationBlock(\n",
       "          (fc1): Linear(in_features=184, out_features=23, bias=True)\n",
       "          (fc2): Linear(in_features=23, out_features=184, bias=True)\n",
       "          (sigmoid): Sigmoid()\n",
       "        )\n",
       "      )\n",
       "      (head): Sequential(\n",
       "        (0): ReLU()\n",
       "        (1): MaxPool1d(kernel_size=2, stride=2, padding=0, dilation=1, ceil_mode=False)\n",
       "        (2): Dropout(p=0.3, inplace=False)\n",
       "      )\n",
       "      (skip_connection): Sequential(\n",
       "        (0): Conv1d(92, 184, kernel_size=(1,), stride=(1,))\n",
       "        (1): BatchNorm1d(184, eps=1e-05, momentum=0.1, affine=True, track_running_stats=True)\n",
       "      )\n",
       "    )\n",
       "  )\n",
       "  (tof_and_thm_branch): Sequential(\n",
       "    (0): Conv1d(650, 64, kernel_size=(3,), stride=(1,), padding=(1,), bias=False)\n",
       "    (1): BatchNorm1d(64, eps=1e-05, momentum=0.1, affine=True, track_running_stats=True)\n",
       "    (2): MaxPool1d(kernel_size=2, stride=2, padding=0, dilation=1, ceil_mode=False)\n",
       "    (3): Dropout(p=0, inplace=False)\n",
       "    (4): Conv1d(64, 128, kernel_size=(3,), stride=(1,), padding=(1,), bias=False)\n",
       "    (5): BatchNorm1d(128, eps=1e-05, momentum=0.1, affine=True, track_running_stats=True)\n",
       "    (6): MaxPool1d(kernel_size=2, stride=2, padding=0, dilation=1, ceil_mode=False)\n",
       "    (7): Dropout(p=0, inplace=False)\n",
       "  )\n",
       "  (lstm): GRU(312, 128, bidirectional=True)\n",
       "  (attention): AdditiveAttentionLayer(\n",
       "    (attention): Linear(in_features=256, out_features=1, bias=True)\n",
       "  )\n",
       "  (head): Sequential(\n",
       "    (0): LazyLinear(in_features=0, out_features=256, bias=True)\n",
       "    (1): ReLU()\n",
       "    (2): Linear(in_features=256, out_features=128, bias=True)\n",
       "    (3): ReLU()\n",
       "    (4): Linear(in_features=128, out_features=18, bias=True)\n",
       "  )\n",
       ")"
      ]
     },
     "metadata": {},
     "output_type": "display_data"
    },
    {
     "name": "stdout",
     "output_type": "stream",
     "text": [
      "input channels: 696\n"
     ]
    }
   ],
   "source": [
    "def mk_model() -> nn.Module:\n",
    "    return (\n",
    "        CMIHARModule(\n",
    "            imu_idx=imu_feats_idx,\n",
    "            tof_thm_idx=non_imu_feats_idx,\n",
    "            mlp_width=256,\n",
    "            n_class=18,\n",
    "        )\n",
    "        .to(device)\n",
    "    )\n",
    "\n",
    "display(mk_model())\n",
    "print(\"input channels:\", len(meta_data[\"feature_cols\"]))"
   ]
  },
  {
   "cell_type": "markdown",
   "id": "8afc6e79",
   "metadata": {},
   "source": [
    "## Training loop"
   ]
  },
  {
   "cell_type": "code",
   "execution_count": 16,
   "id": "a69ec966",
   "metadata": {},
   "outputs": [],
   "source": [
    "def fit(epochs:int,\n",
    "        model: nn.Module,\n",
    "        scheduler: LRScheduler,\n",
    "        optimizer: torch.optim.Optimizer,\n",
    "        train_loader: DL,\n",
    "        criterion: callable=nn.L1Loss(),\n",
    "        evaluation_func: callable=None,\n",
    "        validation_loader: DL=None,\n",
    "        save_checkpoints=True,\n",
    "    ) -> tuple[DF, str]:\n",
    "    \"\"\"\n",
    "    Returns:\n",
    "        (training_metrics, path_to_checkpoints)\n",
    "    \"\"\"\n",
    "    # Setup\n",
    "    metrics: list[dict] = []\n",
    "    step = 0\n",
    "    model_device = next(model.parameters()).device\n",
    "    last_epoch_metric = {}\n",
    "    # Training loop\n",
    "    with Progress() as progress:\n",
    "        task: Task = progress.add_task(\n",
    "            \"training...\",\n",
    "            total=len(train_loader),\n",
    "        )\n",
    "        for epoch in range(epochs):\n",
    "            progress.update(\n",
    "                task,\n",
    "                description=f\"epoch: {epoch}\",\n",
    "                completed=0,\n",
    "            )\n",
    "            total_epoch_loss = 0\n",
    "            total_accuracy = 0\n",
    "            for batch_idx, (x, y) in enumerate(train_loader):\n",
    "                # forward\n",
    "                x = x.to(model_device)\n",
    "                y = y.to(model_device)\n",
    "                model.train()\n",
    "                optimizer.zero_grad()\n",
    "                y_pred: Tensor = model(x)\n",
    "                loss_value = criterion(y_pred, y)\n",
    "                # Verify loss value\n",
    "                if torch.isnan(loss_value).any().item():\n",
    "                    progress.print(\"Warning: Got NaN loss, stopped training.\")\n",
    "                    return DF.from_records(metrics)\n",
    "                if torch.isinf(loss_value).any().item():\n",
    "                    progress.print(\"Warning: Got infinite loss, stopped training.\")\n",
    "                    return DF.from_records(metrics)\n",
    "                # TODO: Use gradient clipping?\n",
    "                loss_value.backward()\n",
    "                optimizer.step()\n",
    "                if step > 0: # If it's not the first training step, idk why it throws an error otherwise\n",
    "                    scheduler.step()\n",
    "                # metrics\n",
    "                total_epoch_loss += loss_value.item()\n",
    "                metrics.append({\n",
    "                    \"step\": step,\n",
    "                    \"epoch\": epoch,\n",
    "                    \"batch_train_loss\": loss_value.item(),\n",
    "                    \"lr\": optimizer.state_dict()[\"param_groups\"][-1][\"lr\"],\n",
    "                })\n",
    "                step += 1\n",
    "                if \"validation_accuracy\" in last_epoch_metric:\n",
    "                    last_validation_acc = \"%.2f\" % last_epoch_metric[\"validation_accuracy\"]\n",
    "                    val_acc_str = \"val. acc: \" + last_validation_acc\n",
    "                else:\n",
    "                    val_acc_str = \"\"\n",
    "                progress.update(\n",
    "                    task,\n",
    "                    advance=1,\n",
    "                    description=f\"epoch: {epoch}, batch_loss: {(total_epoch_loss / (batch_idx+1)):.2f}, {val_acc_str}\"\n",
    "                )\n",
    "            # Post epoch evalution\n",
    "            metrics[-1][\"train_epoch_loss\"] = total_epoch_loss / len(train_loader)\n",
    "            metrics[-1][\"train_epoch_accuracy\"] = total_accuracy / len(train_loader)\n",
    "            if evaluation_func:\n",
    "                progress.update(\n",
    "                    task,\n",
    "                    completed=0,\n",
    "                    description=f\"epoch: {epoch}, evaluating...\"\n",
    "                )\n",
    "                eval_metrics = evaluation_func(model, criterion, validation_loader)\n",
    "                metrics[-1].update(eval_metrics)\n",
    "            last_epoch_metric = metrics[-1]\n",
    "\n",
    "    return DF.from_records(metrics)"
   ]
  },
  {
   "cell_type": "markdown",
   "id": "5a490227",
   "metadata": {},
   "source": [
    "### Create model and train model"
   ]
  },
  {
   "cell_type": "code",
   "execution_count": 17,
   "id": "34cd5bba",
   "metadata": {},
   "outputs": [],
   "source": [
    "def mk_model_and_fit(\n",
    "        train_loader:DL,\n",
    "        mk_scheduler:callable,\n",
    "        epochs:int,\n",
    "        validation_loader:Optional[DL]=None,\n",
    "        save_checkpoints=False,\n",
    "        criterion=nn.CrossEntropyLoss()\n",
    "    ) -> tuple[nn.Module, DF, list[str]]:\n",
    "    model = mk_model()\n",
    "    optimizer = torch.optim.AdamW(model.parameters(), STARTING_LR)\n",
    "    lr_scheduler = mk_scheduler(optimizer)\n",
    "    training_metrics = fit(\n",
    "        epochs=epochs,\n",
    "        model=model,\n",
    "        scheduler=lr_scheduler,\n",
    "        optimizer=optimizer,\n",
    "        train_loader=train_loader,\n",
    "        criterion=criterion,\n",
    "        # evaluation_func=evaluate_model if validation_loader else None,\n",
    "        validation_loader=validation_loader,\n",
    "        save_checkpoints=save_checkpoints,\n",
    "    )\n",
    "\n",
    "    return model, training_metrics"
   ]
  },
  {
   "cell_type": "markdown",
   "id": "f60b2c5d",
   "metadata": {},
   "source": []
  },
  {
   "cell_type": "markdown",
   "id": "9256152c",
   "metadata": {},
   "source": [
    "## Search max learning rate"
   ]
  },
  {
   "cell_type": "code",
   "execution_count": 18,
   "id": "40b0c8ef",
   "metadata": {},
   "outputs": [],
   "source": [
    "def post_process_mock_training_metrics(training_metrics:DF) -> DF:\n",
    "    training_metrics = (\n",
    "        training_metrics\n",
    "        .query(\"batch_train_loss.notna()\")\n",
    "        .set_index(\"lr\", drop=False)\n",
    "        .sort_index()\n",
    "    )\n",
    "    training_metrics[\"ewm_batch_train_loss\"] = (\n",
    "        training_metrics\n",
    "        .ewm(com=30, ignore_na=False)\n",
    "        [\"batch_train_loss\"]\n",
    "        .mean()\n",
    "    )\n",
    "    training_metrics[\"ewm_batch_train_loss_diff\"] = training_metrics[\"ewm_batch_train_loss\"].diff()\n",
    "    return training_metrics"
   ]
  },
  {
   "cell_type": "code",
   "execution_count": 19,
   "id": "7c231028",
   "metadata": {},
   "outputs": [],
   "source": [
    "def plt_lr_search_training_metrics(training_metrics:DF):\n",
    "    (    \n",
    "        px.line(\n",
    "            (\n",
    "                training_metrics\n",
    "                .reset_index(drop=True)\n",
    "                .melt(\n",
    "                    id_vars=\"lr\",\n",
    "                    value_vars=[\n",
    "                        \"batch_train_loss\",\n",
    "                        \"ewm_batch_train_loss\",\n",
    "                        # \"ewm_batch_train_loss_diff\",\n",
    "                    ],\n",
    "                )\n",
    "            ),\n",
    "            x=\"lr\",\n",
    "            facet_row=\"variable\",\n",
    "            y=\"value\",\n",
    "            log_x=True,\n",
    "            log_y=True,\n",
    "            height=750,\n",
    "        )\n",
    "        .update_yaxes(matches=None)\n",
    "        .show()\n",
    "    )"
   ]
  },
  {
   "cell_type": "code",
   "execution_count": 22,
   "id": "e9ae0c04",
   "metadata": {},
   "outputs": [
    {
     "data": {
      "application/vnd.jupyter.widget-view+json": {
       "model_id": "708153d036744dd586bad2935ad6cc19",
       "version_major": 2,
       "version_minor": 0
      },
      "text/plain": [
       "Output()"
      ]
     },
     "metadata": {},
     "output_type": "display_data"
    },
    {
     "data": {
      "text/html": [
       "<pre style=\"white-space:pre;overflow-x:auto;line-height:normal;font-family:Menlo,'DejaVu Sans Mono',consolas,'Courier New',monospace\"></pre>\n"
      ],
      "text/plain": []
     },
     "metadata": {},
     "output_type": "display_data"
    },
    {
     "data": {
      "application/vnd.plotly.v1+json": {
       "config": {
        "plotlyServerURL": "https://plot.ly"
       },
       "data": [
        {
         "hovertemplate": "variable=batch_train_loss<br>lr=%{x}<br>value=%{y}<extra></extra>",
         "legendgroup": "",
         "line": {
          "color": "#636efa",
          "dash": "solid"
         },
         "marker": {
          "symbol": "circle"
         },
         "mode": "lines",
         "name": "",
         "orientation": "v",
         "showlegend": false,
         "type": "scatter",
         "x": {
          "bdata": "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",
          "dtype": "f8"
         },
         "xaxis": "x2",
         "y": {
          "bdata": "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",
          "dtype": "f8"
         },
         "yaxis": "y2"
        },
        {
         "hovertemplate": "variable=ewm_batch_train_loss<br>lr=%{x}<br>value=%{y}<extra></extra>",
         "legendgroup": "",
         "line": {
          "color": "#636efa",
          "dash": "solid"
         },
         "marker": {
          "symbol": "circle"
         },
         "mode": "lines",
         "name": "",
         "orientation": "v",
         "showlegend": false,
         "type": "scatter",
         "x": {
          "bdata": "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",
          "dtype": "f8"
         },
         "xaxis": "x",
         "y": {
          "bdata": "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",
          "dtype": "f8"
         },
         "yaxis": "y"
        }
       ],
       "layout": {
        "annotations": [
         {
          "font": {},
          "showarrow": false,
          "text": "variable=ewm_batch_train_loss",
          "textangle": 90,
          "x": 0.98,
          "xanchor": "left",
          "xref": "paper",
          "y": 0.2425,
          "yanchor": "middle",
          "yref": "paper"
         },
         {
          "font": {},
          "showarrow": false,
          "text": "variable=batch_train_loss",
          "textangle": 90,
          "x": 0.98,
          "xanchor": "left",
          "xref": "paper",
          "y": 0.7575000000000001,
          "yanchor": "middle",
          "yref": "paper"
         }
        ],
        "height": 750,
        "legend": {
         "tracegroupgap": 0
        },
        "margin": {
         "t": 60
        },
        "template": {
         "data": {
          "bar": [
           {
            "error_x": {
             "color": "#2a3f5f"
            },
            "error_y": {
             "color": "#2a3f5f"
            },
            "marker": {
             "line": {
              "color": "#E5ECF6",
              "width": 0.5
             },
             "pattern": {
              "fillmode": "overlay",
              "size": 10,
              "solidity": 0.2
             }
            },
            "type": "bar"
           }
          ],
          "barpolar": [
           {
            "marker": {
             "line": {
              "color": "#E5ECF6",
              "width": 0.5
             },
             "pattern": {
              "fillmode": "overlay",
              "size": 10,
              "solidity": 0.2
             }
            },
            "type": "barpolar"
           }
          ],
          "carpet": [
           {
            "aaxis": {
             "endlinecolor": "#2a3f5f",
             "gridcolor": "white",
             "linecolor": "white",
             "minorgridcolor": "white",
             "startlinecolor": "#2a3f5f"
            },
            "baxis": {
             "endlinecolor": "#2a3f5f",
             "gridcolor": "white",
             "linecolor": "white",
             "minorgridcolor": "white",
             "startlinecolor": "#2a3f5f"
            },
            "type": "carpet"
           }
          ],
          "choropleth": [
           {
            "colorbar": {
             "outlinewidth": 0,
             "ticks": ""
            },
            "type": "choropleth"
           }
          ],
          "contour": [
           {
            "colorbar": {
             "outlinewidth": 0,
             "ticks": ""
            },
            "colorscale": [
             [
              0,
              "#0d0887"
             ],
             [
              0.1111111111111111,
              "#46039f"
             ],
             [
              0.2222222222222222,
              "#7201a8"
             ],
             [
              0.3333333333333333,
              "#9c179e"
             ],
             [
              0.4444444444444444,
              "#bd3786"
             ],
             [
              0.5555555555555556,
              "#d8576b"
             ],
             [
              0.6666666666666666,
              "#ed7953"
             ],
             [
              0.7777777777777778,
              "#fb9f3a"
             ],
             [
              0.8888888888888888,
              "#fdca26"
             ],
             [
              1,
              "#f0f921"
             ]
            ],
            "type": "contour"
           }
          ],
          "contourcarpet": [
           {
            "colorbar": {
             "outlinewidth": 0,
             "ticks": ""
            },
            "type": "contourcarpet"
           }
          ],
          "heatmap": [
           {
            "colorbar": {
             "outlinewidth": 0,
             "ticks": ""
            },
            "colorscale": [
             [
              0,
              "#0d0887"
             ],
             [
              0.1111111111111111,
              "#46039f"
             ],
             [
              0.2222222222222222,
              "#7201a8"
             ],
             [
              0.3333333333333333,
              "#9c179e"
             ],
             [
              0.4444444444444444,
              "#bd3786"
             ],
             [
              0.5555555555555556,
              "#d8576b"
             ],
             [
              0.6666666666666666,
              "#ed7953"
             ],
             [
              0.7777777777777778,
              "#fb9f3a"
             ],
             [
              0.8888888888888888,
              "#fdca26"
             ],
             [
              1,
              "#f0f921"
             ]
            ],
            "type": "heatmap"
           }
          ],
          "histogram": [
           {
            "marker": {
             "pattern": {
              "fillmode": "overlay",
              "size": 10,
              "solidity": 0.2
             }
            },
            "type": "histogram"
           }
          ],
          "histogram2d": [
           {
            "colorbar": {
             "outlinewidth": 0,
             "ticks": ""
            },
            "colorscale": [
             [
              0,
              "#0d0887"
             ],
             [
              0.1111111111111111,
              "#46039f"
             ],
             [
              0.2222222222222222,
              "#7201a8"
             ],
             [
              0.3333333333333333,
              "#9c179e"
             ],
             [
              0.4444444444444444,
              "#bd3786"
             ],
             [
              0.5555555555555556,
              "#d8576b"
             ],
             [
              0.6666666666666666,
              "#ed7953"
             ],
             [
              0.7777777777777778,
              "#fb9f3a"
             ],
             [
              0.8888888888888888,
              "#fdca26"
             ],
             [
              1,
              "#f0f921"
             ]
            ],
            "type": "histogram2d"
           }
          ],
          "histogram2dcontour": [
           {
            "colorbar": {
             "outlinewidth": 0,
             "ticks": ""
            },
            "colorscale": [
             [
              0,
              "#0d0887"
             ],
             [
              0.1111111111111111,
              "#46039f"
             ],
             [
              0.2222222222222222,
              "#7201a8"
             ],
             [
              0.3333333333333333,
              "#9c179e"
             ],
             [
              0.4444444444444444,
              "#bd3786"
             ],
             [
              0.5555555555555556,
              "#d8576b"
             ],
             [
              0.6666666666666666,
              "#ed7953"
             ],
             [
              0.7777777777777778,
              "#fb9f3a"
             ],
             [
              0.8888888888888888,
              "#fdca26"
             ],
             [
              1,
              "#f0f921"
             ]
            ],
            "type": "histogram2dcontour"
           }
          ],
          "mesh3d": [
           {
            "colorbar": {
             "outlinewidth": 0,
             "ticks": ""
            },
            "type": "mesh3d"
           }
          ],
          "parcoords": [
           {
            "line": {
             "colorbar": {
              "outlinewidth": 0,
              "ticks": ""
             }
            },
            "type": "parcoords"
           }
          ],
          "pie": [
           {
            "automargin": true,
            "type": "pie"
           }
          ],
          "scatter": [
           {
            "fillpattern": {
             "fillmode": "overlay",
             "size": 10,
             "solidity": 0.2
            },
            "type": "scatter"
           }
          ],
          "scatter3d": [
           {
            "line": {
             "colorbar": {
              "outlinewidth": 0,
              "ticks": ""
             }
            },
            "marker": {
             "colorbar": {
              "outlinewidth": 0,
              "ticks": ""
             }
            },
            "type": "scatter3d"
           }
          ],
          "scattercarpet": [
           {
            "marker": {
             "colorbar": {
              "outlinewidth": 0,
              "ticks": ""
             }
            },
            "type": "scattercarpet"
           }
          ],
          "scattergeo": [
           {
            "marker": {
             "colorbar": {
              "outlinewidth": 0,
              "ticks": ""
             }
            },
            "type": "scattergeo"
           }
          ],
          "scattergl": [
           {
            "marker": {
             "colorbar": {
              "outlinewidth": 0,
              "ticks": ""
             }
            },
            "type": "scattergl"
           }
          ],
          "scattermap": [
           {
            "marker": {
             "colorbar": {
              "outlinewidth": 0,
              "ticks": ""
             }
            },
            "type": "scattermap"
           }
          ],
          "scattermapbox": [
           {
            "marker": {
             "colorbar": {
              "outlinewidth": 0,
              "ticks": ""
             }
            },
            "type": "scattermapbox"
           }
          ],
          "scatterpolar": [
           {
            "marker": {
             "colorbar": {
              "outlinewidth": 0,
              "ticks": ""
             }
            },
            "type": "scatterpolar"
           }
          ],
          "scatterpolargl": [
           {
            "marker": {
             "colorbar": {
              "outlinewidth": 0,
              "ticks": ""
             }
            },
            "type": "scatterpolargl"
           }
          ],
          "scatterternary": [
           {
            "marker": {
             "colorbar": {
              "outlinewidth": 0,
              "ticks": ""
             }
            },
            "type": "scatterternary"
           }
          ],
          "surface": [
           {
            "colorbar": {
             "outlinewidth": 0,
             "ticks": ""
            },
            "colorscale": [
             [
              0,
              "#0d0887"
             ],
             [
              0.1111111111111111,
              "#46039f"
             ],
             [
              0.2222222222222222,
              "#7201a8"
             ],
             [
              0.3333333333333333,
              "#9c179e"
             ],
             [
              0.4444444444444444,
              "#bd3786"
             ],
             [
              0.5555555555555556,
              "#d8576b"
             ],
             [
              0.6666666666666666,
              "#ed7953"
             ],
             [
              0.7777777777777778,
              "#fb9f3a"
             ],
             [
              0.8888888888888888,
              "#fdca26"
             ],
             [
              1,
              "#f0f921"
             ]
            ],
            "type": "surface"
           }
          ],
          "table": [
           {
            "cells": {
             "fill": {
              "color": "#EBF0F8"
             },
             "line": {
              "color": "white"
             }
            },
            "header": {
             "fill": {
              "color": "#C8D4E3"
             },
             "line": {
              "color": "white"
             }
            },
            "type": "table"
           }
          ]
         },
         "layout": {
          "annotationdefaults": {
           "arrowcolor": "#2a3f5f",
           "arrowhead": 0,
           "arrowwidth": 1
          },
          "autotypenumbers": "strict",
          "coloraxis": {
           "colorbar": {
            "outlinewidth": 0,
            "ticks": ""
           }
          },
          "colorscale": {
           "diverging": [
            [
             0,
             "#8e0152"
            ],
            [
             0.1,
             "#c51b7d"
            ],
            [
             0.2,
             "#de77ae"
            ],
            [
             0.3,
             "#f1b6da"
            ],
            [
             0.4,
             "#fde0ef"
            ],
            [
             0.5,
             "#f7f7f7"
            ],
            [
             0.6,
             "#e6f5d0"
            ],
            [
             0.7,
             "#b8e186"
            ],
            [
             0.8,
             "#7fbc41"
            ],
            [
             0.9,
             "#4d9221"
            ],
            [
             1,
             "#276419"
            ]
           ],
           "sequential": [
            [
             0,
             "#0d0887"
            ],
            [
             0.1111111111111111,
             "#46039f"
            ],
            [
             0.2222222222222222,
             "#7201a8"
            ],
            [
             0.3333333333333333,
             "#9c179e"
            ],
            [
             0.4444444444444444,
             "#bd3786"
            ],
            [
             0.5555555555555556,
             "#d8576b"
            ],
            [
             0.6666666666666666,
             "#ed7953"
            ],
            [
             0.7777777777777778,
             "#fb9f3a"
            ],
            [
             0.8888888888888888,
             "#fdca26"
            ],
            [
             1,
             "#f0f921"
            ]
           ],
           "sequentialminus": [
            [
             0,
             "#0d0887"
            ],
            [
             0.1111111111111111,
             "#46039f"
            ],
            [
             0.2222222222222222,
             "#7201a8"
            ],
            [
             0.3333333333333333,
             "#9c179e"
            ],
            [
             0.4444444444444444,
             "#bd3786"
            ],
            [
             0.5555555555555556,
             "#d8576b"
            ],
            [
             0.6666666666666666,
             "#ed7953"
            ],
            [
             0.7777777777777778,
             "#fb9f3a"
            ],
            [
             0.8888888888888888,
             "#fdca26"
            ],
            [
             1,
             "#f0f921"
            ]
           ]
          },
          "colorway": [
           "#636efa",
           "#EF553B",
           "#00cc96",
           "#ab63fa",
           "#FFA15A",
           "#19d3f3",
           "#FF6692",
           "#B6E880",
           "#FF97FF",
           "#FECB52"
          ],
          "font": {
           "color": "#2a3f5f"
          },
          "geo": {
           "bgcolor": "white",
           "lakecolor": "white",
           "landcolor": "#E5ECF6",
           "showlakes": true,
           "showland": true,
           "subunitcolor": "white"
          },
          "hoverlabel": {
           "align": "left"
          },
          "hovermode": "closest",
          "mapbox": {
           "style": "light"
          },
          "paper_bgcolor": "white",
          "plot_bgcolor": "#E5ECF6",
          "polar": {
           "angularaxis": {
            "gridcolor": "white",
            "linecolor": "white",
            "ticks": ""
           },
           "bgcolor": "#E5ECF6",
           "radialaxis": {
            "gridcolor": "white",
            "linecolor": "white",
            "ticks": ""
           }
          },
          "scene": {
           "xaxis": {
            "backgroundcolor": "#E5ECF6",
            "gridcolor": "white",
            "gridwidth": 2,
            "linecolor": "white",
            "showbackground": true,
            "ticks": "",
            "zerolinecolor": "white"
           },
           "yaxis": {
            "backgroundcolor": "#E5ECF6",
            "gridcolor": "white",
            "gridwidth": 2,
            "linecolor": "white",
            "showbackground": true,
            "ticks": "",
            "zerolinecolor": "white"
           },
           "zaxis": {
            "backgroundcolor": "#E5ECF6",
            "gridcolor": "white",
            "gridwidth": 2,
            "linecolor": "white",
            "showbackground": true,
            "ticks": "",
            "zerolinecolor": "white"
           }
          },
          "shapedefaults": {
           "line": {
            "color": "#2a3f5f"
           }
          },
          "ternary": {
           "aaxis": {
            "gridcolor": "white",
            "linecolor": "white",
            "ticks": ""
           },
           "baxis": {
            "gridcolor": "white",
            "linecolor": "white",
            "ticks": ""
           },
           "bgcolor": "#E5ECF6",
           "caxis": {
            "gridcolor": "white",
            "linecolor": "white",
            "ticks": ""
           }
          },
          "title": {
           "x": 0.05
          },
          "xaxis": {
           "automargin": true,
           "gridcolor": "white",
           "linecolor": "white",
           "ticks": "",
           "title": {
            "standoff": 15
           },
           "zerolinecolor": "white",
           "zerolinewidth": 2
          },
          "yaxis": {
           "automargin": true,
           "gridcolor": "white",
           "linecolor": "white",
           "ticks": "",
           "title": {
            "standoff": 15
           },
           "zerolinecolor": "white",
           "zerolinewidth": 2
          }
         }
        },
        "xaxis": {
         "anchor": "y",
         "domain": [
          0,
          0.98
         ],
         "title": {
          "text": "lr"
         },
         "type": "log"
        },
        "xaxis2": {
         "anchor": "y2",
         "domain": [
          0,
          0.98
         ],
         "matches": "x",
         "showticklabels": false,
         "type": "log"
        },
        "yaxis": {
         "anchor": "x",
         "domain": [
          0,
          0.485
         ],
         "title": {
          "text": "value"
         },
         "type": "log"
        },
        "yaxis2": {
         "anchor": "x2",
         "domain": [
          0.515,
          1
         ],
         "title": {
          "text": "value"
         },
         "type": "log"
        }
       }
      }
     },
     "metadata": {},
     "output_type": "display_data"
    },
    {
     "name": "stdout",
     "output_type": "stream",
     "text": [
      "Maximum learning rate: 0.014156359901358325\n"
     ]
    }
   ],
   "source": [
    "train_dataset = CMIDataset(\"full_dataset\")\n",
    "full_dataset_loader = DL(train_dataset, TRAIN_BATCH_SIZE, shuffle=True)\n",
    "_, mock_training_metrics = mk_model_and_fit(\n",
    "    full_dataset_loader,\n",
    "    partial(torch.optim.lr_scheduler.ExponentialLR, gamma=MOCK_TRAINING_GAMMA),\n",
    "    MOCK_TRAINING_EPOCHS,\n",
    "    criterion= nn.CrossEntropyLoss(label_smoothing=0.1),\n",
    ")\n",
    "mock_training_metrics = post_process_mock_training_metrics(mock_training_metrics)\n",
    "plt_lr_search_training_metrics(mock_training_metrics)\n",
    "max_lr = mock_training_metrics[\"ewm_batch_train_loss\"].idxmin()\n",
    "print(\"Maximum learning rate:\", max_lr)"
   ]
  },
  {
   "cell_type": "markdown",
   "id": "e1cc3c5f",
   "metadata": {
    "papermill": {
     "duration": 0.003108,
     "end_time": "2025-06-14T10:01:56.186803",
     "exception": false,
     "start_time": "2025-06-14T10:01:56.183695",
     "status": "completed"
    },
    "tags": []
   },
   "source": [
    "## Training loop"
   ]
  },
  {
   "cell_type": "code",
   "execution_count": 23,
   "id": "81f397f4",
   "metadata": {},
   "outputs": [],
   "source": [
    "def mixup_data(x, y, alpha=0.2):\n",
    "    \"\"\"\n",
    "    Return mixed inputs and mixed targets (one-hot) for mixup.\n",
    "    x: Tensor of shape (batch_size, features, seq_len)\n",
    "    y: Tensor of shape (batch_size, num_classes)\n",
    "    \"\"\"\n",
    "    if alpha > 0:\n",
    "        lam = np.random.beta(alpha, alpha)\n",
    "    else:\n",
    "        lam = 1.0\n",
    "    batch_size = x.size(0)\n",
    "    index = torch.randperm(batch_size).to(x.device)\n",
    "\n",
    "    mixed_x = lam * x + (1 - lam) * x[index, :]\n",
    "    mixed_y = lam * y + (1 - lam) * y[index, :]\n",
    "    return mixed_x, mixed_y"
   ]
  },
  {
   "cell_type": "code",
   "execution_count": 24,
   "id": "2be28a9c",
   "metadata": {
    "execution": {
     "iopub.execute_input": "2025-06-14T10:01:56.194003Z",
     "iopub.status.busy": "2025-06-14T10:01:56.193740Z",
     "iopub.status.idle": "2025-06-14T10:09:14.752385Z",
     "shell.execute_reply": "2025-06-14T10:09:14.751491Z"
    },
    "papermill": {
     "duration": 438.563878,
     "end_time": "2025-06-14T10:09:14.753712",
     "exception": false,
     "start_time": "2025-06-14T10:01:56.189834",
     "status": "completed"
    },
    "tags": []
   },
   "outputs": [
    {
     "name": "stdout",
     "output_type": "stream",
     "text": [
      "training: 1\n",
      "\n",
      "==================================================\n",
      "Fold 1/5\n",
      "Epoch 01: Train Loss = 2.6483, Val Loss = 2.2270\n",
      "  Binary F1 = 0.8909, Macro F1 = 0.2930, Final Metric = 0.5920\n",
      "  New best metric! Saving model...\n",
      "Epoch 02: Train Loss = 2.1388, Val Loss = 1.8187\n",
      "  Binary F1 = 0.9503, Macro F1 = 0.4240, Final Metric = 0.6871\n",
      "  New best metric! Saving model...\n",
      "Epoch 03: Train Loss = 1.9071, Val Loss = 1.7592\n",
      "  Binary F1 = 0.9467, Macro F1 = 0.4456, Final Metric = 0.6961\n",
      "  New best metric! Saving model...\n",
      "Epoch 04: Train Loss = 1.7874, Val Loss = 1.6973\n",
      "  Binary F1 = 0.9658, Macro F1 = 0.4952, Final Metric = 0.7305\n",
      "  New best metric! Saving model...\n",
      "Epoch 05: Train Loss = 1.8879, Val Loss = 1.7299\n",
      "  Binary F1 = 0.9260, Macro F1 = 0.4931, Final Metric = 0.7095\n",
      "Epoch 06: Train Loss = 1.7348, Val Loss = 1.5483\n",
      "  Binary F1 = 0.9698, Macro F1 = 0.5484, Final Metric = 0.7591\n",
      "  New best metric! Saving model...\n",
      "Epoch 07: Train Loss = 1.6054, Val Loss = 1.4904\n",
      "  Binary F1 = 0.9766, Macro F1 = 0.5685, Final Metric = 0.7726\n",
      "  New best metric! Saving model...\n",
      "Epoch 08: Train Loss = 1.5488, Val Loss = 1.3573\n",
      "  Binary F1 = 0.9847, Macro F1 = 0.6103, Final Metric = 0.7975\n",
      "  New best metric! Saving model...\n",
      "Epoch 09: Train Loss = 1.4244, Val Loss = 1.3099\n",
      "  Binary F1 = 0.9842, Macro F1 = 0.6477, Final Metric = 0.8160\n",
      "  New best metric! Saving model...\n",
      "Epoch 10: Train Loss = 1.3022, Val Loss = 1.2997\n",
      "  Binary F1 = 0.9837, Macro F1 = 0.6473, Final Metric = 0.8155\n",
      "Epoch 11: Train Loss = 1.4376, Val Loss = 1.4082\n",
      "  Binary F1 = 0.9793, Macro F1 = 0.6132, Final Metric = 0.7962\n",
      "Epoch 12: Train Loss = 1.5606, Val Loss = 1.3635\n",
      "  Binary F1 = 0.9824, Macro F1 = 0.6306, Final Metric = 0.8065\n",
      "Epoch 13: Train Loss = 1.2497, Val Loss = 1.3268\n",
      "  Binary F1 = 0.9843, Macro F1 = 0.6408, Final Metric = 0.8125\n",
      "Epoch 14: Train Loss = 1.3129, Val Loss = 1.3010\n",
      "  Binary F1 = 0.9862, Macro F1 = 0.6437, Final Metric = 0.8150\n",
      "Epoch 15: Train Loss = 1.3090, Val Loss = 1.2957\n",
      "  Binary F1 = 0.9877, Macro F1 = 0.6522, Final Metric = 0.8199\n",
      "  New best metric! Saving model...\n",
      "Epoch 16: Train Loss = 1.4357, Val Loss = 1.5357\n",
      "  Binary F1 = 0.9803, Macro F1 = 0.5607, Final Metric = 0.7705\n",
      "Epoch 17: Train Loss = 1.2342, Val Loss = 1.4052\n",
      "  Binary F1 = 0.9765, Macro F1 = 0.6351, Final Metric = 0.8058\n",
      "Epoch 18: Train Loss = 1.3232, Val Loss = 1.3406\n",
      "  Binary F1 = 0.9847, Macro F1 = 0.6495, Final Metric = 0.8171\n",
      "Epoch 19: Train Loss = 1.1462, Val Loss = 1.3413\n",
      "  Binary F1 = 0.9842, Macro F1 = 0.6504, Final Metric = 0.8173\n",
      "Epoch 20: Train Loss = 1.1233, Val Loss = 1.3193\n",
      "  Binary F1 = 0.9832, Macro F1 = 0.6498, Final Metric = 0.8165\n",
      "Epoch 21: Train Loss = 1.4565, Val Loss = 1.4334\n",
      "  Binary F1 = 0.9793, Macro F1 = 0.6259, Final Metric = 0.8026\n",
      "Epoch 22: Train Loss = 1.2132, Val Loss = 1.3865\n",
      "  Binary F1 = 0.9868, Macro F1 = 0.6119, Final Metric = 0.7994\n",
      "Epoch 23: Train Loss = 1.2443, Val Loss = 1.3163\n",
      "  Binary F1 = 0.9802, Macro F1 = 0.6656, Final Metric = 0.8229\n",
      "  New best metric! Saving model...\n",
      "Epoch 24: Train Loss = 1.1938, Val Loss = 1.3056\n",
      "  Binary F1 = 0.9872, Macro F1 = 0.6526, Final Metric = 0.8199\n",
      "Epoch 25: Train Loss = 1.1365, Val Loss = 1.3092\n",
      "  Binary F1 = 0.9872, Macro F1 = 0.6493, Final Metric = 0.8183\n",
      "\n",
      "Fold 1 completed.\n",
      "Final validation metrics - Binary F1: 0.9872, Macro F1: 0.6493, Final: 0.8183\n",
      "Best validation metrics - Binary F1: 0.9802, Macro F1: 0.6656, Final: 0.8229\n",
      "training: 2\n",
      "\n",
      "==================================================\n",
      "Fold 2/5\n",
      "Epoch 01: Train Loss = 2.6368, Val Loss = 2.2683\n",
      "  Binary F1 = 0.8238, Macro F1 = 0.2981, Final Metric = 0.5610\n",
      "  New best metric! Saving model...\n",
      "Epoch 02: Train Loss = 2.1441, Val Loss = 2.0101\n",
      "  Binary F1 = 0.9117, Macro F1 = 0.3906, Final Metric = 0.6512\n",
      "  New best metric! Saving model...\n",
      "Epoch 03: Train Loss = 1.8193, Val Loss = 1.8992\n",
      "  Binary F1 = 0.9068, Macro F1 = 0.4730, Final Metric = 0.6899\n",
      "  New best metric! Saving model...\n",
      "Epoch 04: Train Loss = 1.7921, Val Loss = 1.9521\n",
      "  Binary F1 = 0.8697, Macro F1 = 0.3966, Final Metric = 0.6332\n",
      "Epoch 05: Train Loss = 1.7476, Val Loss = 1.8267\n",
      "  Binary F1 = 0.8960, Macro F1 = 0.4561, Final Metric = 0.6760\n",
      "Epoch 06: Train Loss = 1.6788, Val Loss = 1.6847\n",
      "  Binary F1 = 0.9145, Macro F1 = 0.5221, Final Metric = 0.7183\n",
      "  New best metric! Saving model...\n",
      "Epoch 07: Train Loss = 1.5670, Val Loss = 1.7086\n",
      "  Binary F1 = 0.9223, Macro F1 = 0.4907, Final Metric = 0.7065\n",
      "Epoch 08: Train Loss = 1.4745, Val Loss = 1.5523\n",
      "  Binary F1 = 0.9370, Macro F1 = 0.5405, Final Metric = 0.7388\n",
      "  New best metric! Saving model...\n",
      "Epoch 09: Train Loss = 1.2918, Val Loss = 1.4887\n",
      "  Binary F1 = 0.9392, Macro F1 = 0.5920, Final Metric = 0.7656\n",
      "  New best metric! Saving model...\n",
      "Epoch 10: Train Loss = 1.3596, Val Loss = 1.4953\n",
      "  Binary F1 = 0.9385, Macro F1 = 0.5881, Final Metric = 0.7633\n",
      "Epoch 11: Train Loss = 1.6583, Val Loss = 1.6107\n",
      "  Binary F1 = 0.9285, Macro F1 = 0.5557, Final Metric = 0.7421\n",
      "Epoch 12: Train Loss = 1.4436, Val Loss = 1.6121\n",
      "  Binary F1 = 0.9376, Macro F1 = 0.5437, Final Metric = 0.7407\n",
      "Epoch 13: Train Loss = 1.4206, Val Loss = 1.5499\n",
      "  Binary F1 = 0.9412, Macro F1 = 0.5745, Final Metric = 0.7579\n",
      "Epoch 14: Train Loss = 1.3597, Val Loss = 1.4823\n",
      "  Binary F1 = 0.9441, Macro F1 = 0.5882, Final Metric = 0.7661\n",
      "  New best metric! Saving model...\n",
      "Epoch 15: Train Loss = 1.2695, Val Loss = 1.4744\n",
      "  Binary F1 = 0.9390, Macro F1 = 0.5901, Final Metric = 0.7646\n",
      "Epoch 16: Train Loss = 1.2958, Val Loss = 1.5692\n",
      "  Binary F1 = 0.9383, Macro F1 = 0.5587, Final Metric = 0.7485\n",
      "Epoch 17: Train Loss = 1.3846, Val Loss = 1.5751\n",
      "  Binary F1 = 0.9293, Macro F1 = 0.5840, Final Metric = 0.7567\n",
      "Epoch 18: Train Loss = 1.5121, Val Loss = 1.5200\n",
      "  Binary F1 = 0.9482, Macro F1 = 0.5920, Final Metric = 0.7701\n",
      "  New best metric! Saving model...\n",
      "Epoch 19: Train Loss = 1.2324, Val Loss = 1.4863\n",
      "  Binary F1 = 0.9451, Macro F1 = 0.5899, Final Metric = 0.7675\n",
      "Epoch 20: Train Loss = 1.1641, Val Loss = 1.4839\n",
      "  Binary F1 = 0.9460, Macro F1 = 0.5903, Final Metric = 0.7681\n",
      "Epoch 21: Train Loss = 1.4338, Val Loss = 1.6634\n",
      "  Binary F1 = 0.9174, Macro F1 = 0.5517, Final Metric = 0.7346\n",
      "Epoch 22: Train Loss = 1.2371, Val Loss = 1.5468\n",
      "  Binary F1 = 0.9463, Macro F1 = 0.5701, Final Metric = 0.7582\n",
      "Epoch 23: Train Loss = 1.3278, Val Loss = 1.5240\n",
      "  Binary F1 = 0.9477, Macro F1 = 0.5960, Final Metric = 0.7718\n",
      "  New best metric! Saving model...\n",
      "Epoch 24: Train Loss = 1.0708, Val Loss = 1.4873\n",
      "  Binary F1 = 0.9473, Macro F1 = 0.6047, Final Metric = 0.7760\n",
      "  New best metric! Saving model...\n",
      "Epoch 25: Train Loss = 1.0756, Val Loss = 1.4809\n",
      "  Binary F1 = 0.9473, Macro F1 = 0.6097, Final Metric = 0.7785\n",
      "  New best metric! Saving model...\n",
      "\n",
      "Fold 2 completed.\n",
      "Final validation metrics - Binary F1: 0.9473, Macro F1: 0.6097, Final: 0.7785\n",
      "Best validation metrics - Binary F1: 0.9473, Macro F1: 0.6097, Final: 0.7785\n",
      "training: 3\n",
      "\n",
      "==================================================\n",
      "Fold 3/5\n",
      "Epoch 01: Train Loss = 2.6465, Val Loss = 2.2054\n",
      "  Binary F1 = 0.8884, Macro F1 = 0.2584, Final Metric = 0.5734\n",
      "  New best metric! Saving model...\n",
      "Epoch 02: Train Loss = 2.1509, Val Loss = 1.8981\n",
      "  Binary F1 = 0.9325, Macro F1 = 0.4163, Final Metric = 0.6744\n",
      "  New best metric! Saving model...\n",
      "Epoch 03: Train Loss = 1.9084, Val Loss = 1.6606\n",
      "  Binary F1 = 0.9469, Macro F1 = 0.4836, Final Metric = 0.7153\n",
      "  New best metric! Saving model...\n",
      "Epoch 04: Train Loss = 1.8173, Val Loss = 1.7347\n",
      "  Binary F1 = 0.9211, Macro F1 = 0.4429, Final Metric = 0.6820\n",
      "Epoch 05: Train Loss = 1.7106, Val Loss = 1.6173\n",
      "  Binary F1 = 0.9559, Macro F1 = 0.5267, Final Metric = 0.7413\n",
      "  New best metric! Saving model...\n",
      "Epoch 06: Train Loss = 1.6987, Val Loss = 1.7455\n",
      "  Binary F1 = 0.9551, Macro F1 = 0.4525, Final Metric = 0.7038\n",
      "Epoch 07: Train Loss = 1.5237, Val Loss = 1.6054\n",
      "  Binary F1 = 0.9519, Macro F1 = 0.4780, Final Metric = 0.7150\n",
      "Epoch 08: Train Loss = 1.5726, Val Loss = 1.4782\n",
      "  Binary F1 = 0.9632, Macro F1 = 0.5884, Final Metric = 0.7758\n",
      "  New best metric! Saving model...\n",
      "Epoch 09: Train Loss = 1.4425, Val Loss = 1.3960\n",
      "  Binary F1 = 0.9611, Macro F1 = 0.6050, Final Metric = 0.7831\n",
      "  New best metric! Saving model...\n",
      "Epoch 10: Train Loss = 1.3746, Val Loss = 1.3594\n",
      "  Binary F1 = 0.9621, Macro F1 = 0.6241, Final Metric = 0.7931\n",
      "  New best metric! Saving model...\n",
      "Epoch 11: Train Loss = 1.5662, Val Loss = 1.4836\n",
      "  Binary F1 = 0.9575, Macro F1 = 0.5799, Final Metric = 0.7687\n",
      "Epoch 12: Train Loss = 1.4234, Val Loss = 1.5299\n",
      "  Binary F1 = 0.9605, Macro F1 = 0.5760, Final Metric = 0.7683\n",
      "Epoch 13: Train Loss = 1.3976, Val Loss = 1.3806\n",
      "  Binary F1 = 0.9673, Macro F1 = 0.6264, Final Metric = 0.7969\n",
      "  New best metric! Saving model...\n",
      "Epoch 14: Train Loss = 1.2362, Val Loss = 1.3593\n",
      "  Binary F1 = 0.9685, Macro F1 = 0.6528, Final Metric = 0.8107\n",
      "  New best metric! Saving model...\n",
      "Epoch 15: Train Loss = 1.3508, Val Loss = 1.3523\n",
      "  Binary F1 = 0.9663, Macro F1 = 0.6479, Final Metric = 0.8071\n",
      "Epoch 16: Train Loss = 1.3528, Val Loss = 1.5158\n",
      "  Binary F1 = 0.9586, Macro F1 = 0.5850, Final Metric = 0.7718\n",
      "Epoch 17: Train Loss = 1.3648, Val Loss = 1.3959\n",
      "  Binary F1 = 0.9676, Macro F1 = 0.6342, Final Metric = 0.8009\n",
      "Epoch 18: Train Loss = 1.2196, Val Loss = 1.3834\n",
      "  Binary F1 = 0.9650, Macro F1 = 0.6340, Final Metric = 0.7995\n",
      "Epoch 19: Train Loss = 1.2027, Val Loss = 1.3671\n",
      "  Binary F1 = 0.9680, Macro F1 = 0.6371, Final Metric = 0.8025\n",
      "Epoch 20: Train Loss = 1.1665, Val Loss = 1.3414\n",
      "  Binary F1 = 0.9683, Macro F1 = 0.6464, Final Metric = 0.8073\n",
      "Epoch 21: Train Loss = 1.1732, Val Loss = 1.3713\n",
      "  Binary F1 = 0.9665, Macro F1 = 0.6410, Final Metric = 0.8037\n",
      "Epoch 22: Train Loss = 1.4279, Val Loss = 1.4158\n",
      "  Binary F1 = 0.9633, Macro F1 = 0.6123, Final Metric = 0.7878\n",
      "Epoch 23: Train Loss = 1.2632, Val Loss = 1.3758\n",
      "  Binary F1 = 0.9636, Macro F1 = 0.6452, Final Metric = 0.8044\n",
      "Epoch 24: Train Loss = 1.1506, Val Loss = 1.3778\n",
      "  Binary F1 = 0.9701, Macro F1 = 0.6384, Final Metric = 0.8042\n",
      "Epoch 25: Train Loss = 1.0059, Val Loss = 1.3546\n",
      "  Binary F1 = 0.9700, Macro F1 = 0.6635, Final Metric = 0.8167\n",
      "  New best metric! Saving model...\n",
      "\n",
      "Fold 3 completed.\n",
      "Final validation metrics - Binary F1: 0.9700, Macro F1: 0.6635, Final: 0.8167\n",
      "Best validation metrics - Binary F1: 0.9700, Macro F1: 0.6635, Final: 0.8167\n",
      "training: 4\n",
      "\n",
      "==================================================\n",
      "Fold 4/5\n",
      "Epoch 01: Train Loss = 2.6471, Val Loss = 2.3603\n",
      "  Binary F1 = 0.8474, Macro F1 = 0.2906, Final Metric = 0.5690\n",
      "  New best metric! Saving model...\n",
      "Epoch 02: Train Loss = 2.0763, Val Loss = 1.9435\n",
      "  Binary F1 = 0.9162, Macro F1 = 0.3916, Final Metric = 0.6539\n",
      "  New best metric! Saving model...\n",
      "Epoch 03: Train Loss = 1.8588, Val Loss = 1.8904\n",
      "  Binary F1 = 0.9200, Macro F1 = 0.4288, Final Metric = 0.6744\n",
      "  New best metric! Saving model...\n",
      "Epoch 04: Train Loss = 1.7259, Val Loss = 1.9218\n",
      "  Binary F1 = 0.8944, Macro F1 = 0.4214, Final Metric = 0.6579\n",
      "Epoch 05: Train Loss = 1.8055, Val Loss = 1.9110\n",
      "  Binary F1 = 0.9250, Macro F1 = 0.4215, Final Metric = 0.6733\n",
      "Epoch 06: Train Loss = 1.7008, Val Loss = 1.7445\n",
      "  Binary F1 = 0.9207, Macro F1 = 0.4565, Final Metric = 0.6886\n",
      "  New best metric! Saving model...\n",
      "Epoch 07: Train Loss = 1.6201, Val Loss = 1.6920\n",
      "  Binary F1 = 0.9388, Macro F1 = 0.5143, Final Metric = 0.7266\n",
      "  New best metric! Saving model...\n",
      "Epoch 08: Train Loss = 1.3932, Val Loss = 1.5787\n",
      "  Binary F1 = 0.9457, Macro F1 = 0.5335, Final Metric = 0.7396\n",
      "  New best metric! Saving model...\n",
      "Epoch 09: Train Loss = 1.3105, Val Loss = 1.5408\n",
      "  Binary F1 = 0.9483, Macro F1 = 0.5591, Final Metric = 0.7537\n",
      "  New best metric! Saving model...\n",
      "Epoch 10: Train Loss = 1.4012, Val Loss = 1.5258\n",
      "  Binary F1 = 0.9505, Macro F1 = 0.5617, Final Metric = 0.7561\n",
      "  New best metric! Saving model...\n",
      "Epoch 11: Train Loss = 1.3874, Val Loss = 1.7616\n",
      "  Binary F1 = 0.9480, Macro F1 = 0.4970, Final Metric = 0.7225\n",
      "Epoch 12: Train Loss = 1.3186, Val Loss = 1.6535\n",
      "  Binary F1 = 0.9110, Macro F1 = 0.5130, Final Metric = 0.7120\n",
      "Epoch 13: Train Loss = 1.2694, Val Loss = 1.6094\n",
      "  Binary F1 = 0.9458, Macro F1 = 0.5492, Final Metric = 0.7475\n",
      "Epoch 14: Train Loss = 1.1640, Val Loss = 1.5349\n",
      "  Binary F1 = 0.9485, Macro F1 = 0.5530, Final Metric = 0.7507\n",
      "Epoch 15: Train Loss = 1.2409, Val Loss = 1.5131\n",
      "  Binary F1 = 0.9515, Macro F1 = 0.5562, Final Metric = 0.7539\n",
      "Epoch 16: Train Loss = 1.3088, Val Loss = 1.6369\n",
      "  Binary F1 = 0.9281, Macro F1 = 0.5350, Final Metric = 0.7315\n",
      "Epoch 17: Train Loss = 1.2002, Val Loss = 1.6316\n",
      "  Binary F1 = 0.9461, Macro F1 = 0.5456, Final Metric = 0.7458\n",
      "Epoch 18: Train Loss = 1.3442, Val Loss = 1.5651\n",
      "  Binary F1 = 0.9468, Macro F1 = 0.5447, Final Metric = 0.7458\n",
      "Epoch 19: Train Loss = 1.3627, Val Loss = 1.5507\n",
      "  Binary F1 = 0.9402, Macro F1 = 0.5701, Final Metric = 0.7551\n",
      "Epoch 20: Train Loss = 1.0771, Val Loss = 1.5508\n",
      "  Binary F1 = 0.9441, Macro F1 = 0.5621, Final Metric = 0.7531\n",
      "Epoch 21: Train Loss = 1.2496, Val Loss = 1.7094\n",
      "  Binary F1 = 0.9401, Macro F1 = 0.5324, Final Metric = 0.7362\n",
      "Epoch 22: Train Loss = 1.1796, Val Loss = 1.6458\n",
      "  Binary F1 = 0.9342, Macro F1 = 0.5448, Final Metric = 0.7395\n",
      "Early stopping triggered at epoch 22\n",
      "\n",
      "Fold 4 completed.\n",
      "Final validation metrics - Binary F1: 0.9342, Macro F1: 0.5448, Final: 0.7395\n",
      "Best validation metrics - Binary F1: 0.9505, Macro F1: 0.5617, Final: 0.7561\n",
      "training: 5\n",
      "\n",
      "==================================================\n",
      "Fold 5/5\n",
      "Epoch 01: Train Loss = 2.6331, Val Loss = 2.3412\n",
      "  Binary F1 = 0.8458, Macro F1 = 0.2611, Final Metric = 0.5535\n",
      "  New best metric! Saving model...\n",
      "Epoch 02: Train Loss = 2.1131, Val Loss = 1.8666\n",
      "  Binary F1 = 0.9467, Macro F1 = 0.4025, Final Metric = 0.6746\n",
      "  New best metric! Saving model...\n",
      "Epoch 03: Train Loss = 1.8206, Val Loss = 1.7036\n",
      "  Binary F1 = 0.9535, Macro F1 = 0.4338, Final Metric = 0.6937\n",
      "  New best metric! Saving model...\n",
      "Epoch 04: Train Loss = 1.9057, Val Loss = 1.7189\n",
      "  Binary F1 = 0.9365, Macro F1 = 0.4349, Final Metric = 0.6857\n",
      "Epoch 05: Train Loss = 1.6952, Val Loss = 1.6731\n",
      "  Binary F1 = 0.9479, Macro F1 = 0.5093, Final Metric = 0.7286\n",
      "  New best metric! Saving model...\n",
      "Epoch 06: Train Loss = 1.5544, Val Loss = 1.5996\n",
      "  Binary F1 = 0.9628, Macro F1 = 0.5049, Final Metric = 0.7338\n",
      "  New best metric! Saving model...\n",
      "Epoch 07: Train Loss = 1.5180, Val Loss = 1.5199\n",
      "  Binary F1 = 0.9611, Macro F1 = 0.5839, Final Metric = 0.7725\n",
      "  New best metric! Saving model...\n",
      "Epoch 08: Train Loss = 1.5000, Val Loss = 1.4380\n",
      "  Binary F1 = 0.9650, Macro F1 = 0.6104, Final Metric = 0.7877\n",
      "  New best metric! Saving model...\n",
      "Epoch 09: Train Loss = 1.3253, Val Loss = 1.3731\n",
      "  Binary F1 = 0.9700, Macro F1 = 0.6317, Final Metric = 0.8009\n",
      "  New best metric! Saving model...\n",
      "Epoch 10: Train Loss = 1.2339, Val Loss = 1.3606\n",
      "  Binary F1 = 0.9702, Macro F1 = 0.6265, Final Metric = 0.7983\n",
      "Epoch 11: Train Loss = 1.5602, Val Loss = 1.4905\n",
      "  Binary F1 = 0.9600, Macro F1 = 0.5855, Final Metric = 0.7728\n",
      "Epoch 12: Train Loss = 1.4981, Val Loss = 1.4341\n",
      "  Binary F1 = 0.9695, Macro F1 = 0.5919, Final Metric = 0.7807\n",
      "Epoch 13: Train Loss = 1.5317, Val Loss = 1.4199\n",
      "  Binary F1 = 0.9699, Macro F1 = 0.6097, Final Metric = 0.7898\n",
      "Epoch 14: Train Loss = 1.2419, Val Loss = 1.3777\n",
      "  Binary F1 = 0.9702, Macro F1 = 0.6219, Final Metric = 0.7961\n",
      "Epoch 15: Train Loss = 1.2435, Val Loss = 1.3531\n",
      "  Binary F1 = 0.9726, Macro F1 = 0.6247, Final Metric = 0.7987\n",
      "Epoch 16: Train Loss = 1.2832, Val Loss = 1.4554\n",
      "  Binary F1 = 0.9619, Macro F1 = 0.6228, Final Metric = 0.7923\n",
      "Epoch 17: Train Loss = 1.5443, Val Loss = 1.4816\n",
      "  Binary F1 = 0.9569, Macro F1 = 0.6100, Final Metric = 0.7835\n",
      "Epoch 18: Train Loss = 1.2654, Val Loss = 1.3927\n",
      "  Binary F1 = 0.9719, Macro F1 = 0.6369, Final Metric = 0.8044\n",
      "  New best metric! Saving model...\n",
      "Epoch 19: Train Loss = 1.1404, Val Loss = 1.3624\n",
      "  Binary F1 = 0.9785, Macro F1 = 0.6419, Final Metric = 0.8102\n",
      "  New best metric! Saving model...\n",
      "Epoch 20: Train Loss = 1.2323, Val Loss = 1.3637\n",
      "  Binary F1 = 0.9804, Macro F1 = 0.6309, Final Metric = 0.8056\n",
      "Epoch 21: Train Loss = 1.3132, Val Loss = 1.4243\n",
      "  Binary F1 = 0.9706, Macro F1 = 0.5956, Final Metric = 0.7831\n",
      "Epoch 22: Train Loss = 1.2895, Val Loss = 1.4021\n",
      "  Binary F1 = 0.9650, Macro F1 = 0.6195, Final Metric = 0.7923\n",
      "Epoch 23: Train Loss = 1.1017, Val Loss = 1.4127\n",
      "  Binary F1 = 0.9775, Macro F1 = 0.6402, Final Metric = 0.8088\n",
      "Epoch 24: Train Loss = 1.1172, Val Loss = 1.3859\n",
      "  Binary F1 = 0.9725, Macro F1 = 0.6322, Final Metric = 0.8024\n",
      "Epoch 25: Train Loss = 1.0888, Val Loss = 1.3802\n",
      "  Binary F1 = 0.9755, Macro F1 = 0.6281, Final Metric = 0.8018\n",
      "\n",
      "Fold 5 completed.\n",
      "Final validation metrics - Binary F1: 0.9755, Macro F1: 0.6281, Final: 0.8018\n",
      "Best validation metrics - Binary F1: 0.9785, Macro F1: 0.6419, Final: 0.8102\n",
      "\n",
      "==================================================\n",
      "Cross-Validation Results\n",
      "==================================================\n",
      "\n",
      "Best Fold-wise Metrics:\n",
      "Fold 1: Binary F1 = 0.9802, Macro F1 = 0.6656, Final = 0.8229\n",
      "Fold 2: Binary F1 = 0.9473, Macro F1 = 0.6097, Final = 0.7785\n",
      "Fold 3: Binary F1 = 0.9700, Macro F1 = 0.6635, Final = 0.8167\n",
      "Fold 4: Binary F1 = 0.9505, Macro F1 = 0.5617, Final = 0.7561\n",
      "Fold 5: Binary F1 = 0.9785, Macro F1 = 0.6419, Final = 0.8102\n",
      "\n",
      "Global Statistics (Best Metrics):\n",
      "Mean Best Final Metric: 0.7969 ± 0.0255\n",
      "Mean Best Binary F1: 0.9653 ± 0.0139\n",
      "Mean Best Macro F1: 0.6285 ± 0.0390\n"
     ]
    }
   ],
   "source": [
    "seed_everything(seed=SEED)\n",
    "\n",
    "n_splits = 5\n",
    "batch_size = 128\n",
    "gkf = GroupKFold(n_splits=n_splits)\n",
    "\n",
    "fold_metrics = []\n",
    "best_fold_metrics = []\n",
    "best_models = []\n",
    "\n",
    "fold_patterns = join(dataset_path, \"preprocessed_dataset\", \"fold*\")\n",
    "fold_pths = glob(fold_patterns)\n",
    "all_training_metrics = {}\n",
    "\n",
    "for fold, fold_pth in enumerate(fold_pths):\n",
    "    print(\"training:\", fold + 1)\n",
    "    train_dataset = CMIDataset(fold_pth, \"train\")\n",
    "    # criterion = compute_weighted_cross_entropy_loss(train_dataset)\n",
    "    criterion = torch.nn.CrossEntropyLoss(label_smoothing=0.1)\n",
    "    train_loader = DL(train_dataset, TRAIN_BATCH_SIZE, shuffle=True)\n",
    "    validation_dataset = CMIDataset(fold_pth, \"validation\")\n",
    "    validation_loader = DL(validation_dataset, VALIDATION_BATCH_SIZE, shuffle=False)\n",
    "    print(f\"\\n{'='*50}\")\n",
    "    print(f\"Fold {fold + 1}/{n_splits}\")\n",
    "    \n",
    "    seed_everything(seed=SEED + fold)\n",
    "    model = mk_model()\n",
    "    \n",
    "    # Optimizer et scheduler\n",
    "    min_lr = max_lr / 100\n",
    "    optimizer = torch.optim.AdamW(model.parameters(), min_lr)\n",
    "    steps_per_epoch = len(train_loader)\n",
    "    n_training_steps = TRAINING_EPOCHS * len(train_loader)\n",
    "    scheduler = CosineAnnealingWarmupRestarts(\n",
    "        optimizer,\n",
    "        warmup_steps=WARMUP_EPOCHS * steps_per_epoch,\n",
    "        max_lr = max_lr,\n",
    "        min_lr = min_lr,\n",
    "        cycle_length=steps_per_epoch * 5,\n",
    "        gamma=0.9,\n",
    "    ) \n",
    "\n",
    "\n",
    "    # Early stopping\n",
    "    best_metric = -np.inf\n",
    "    best_binary_f1 = -np.inf\n",
    "    best_macro_f1 = -np.inf\n",
    "    epochs_no_improve = 0\n",
    "    \n",
    "    for epoch in range(1, TRAINING_EPOCHS + 1):\n",
    "        # Training phase\n",
    "        model.train()\n",
    "        train_loss = 0.0\n",
    "        total = 0\n",
    "        for batch_x, batch_y in train_loader:\n",
    "            batch_x = batch_x.to(device).clone()\n",
    "            add_noise = torch.randn_like(batch_x, device=device) * 0.04\n",
    "            scale_noise = torch.rand_like(batch_x, device=device) * (1.1 - 0.9) + 0.9\n",
    "            batch_x = (add_noise + batch_x) * scale_noise\n",
    "            batch_y = batch_y.to(device)\n",
    "            batch_x = batch_x.float()\n",
    "            \n",
    "            batch_x, batch_y = mixup_data(batch_x, batch_y)\n",
    "    \n",
    "            optimizer.zero_grad()\n",
    "            outputs = model(batch_x)\n",
    "            loss = criterion(outputs, batch_y)\n",
    "            loss.backward()\n",
    "            optimizer.step()\n",
    "            scheduler.step()\n",
    "    \n",
    "            train_loss += loss.item() * batch_x.size(0)\n",
    "            total += batch_x.size(0)\n",
    "        train_loss /= total\n",
    "    \n",
    "        # Validation phase\n",
    "        model.eval()\n",
    "        val_loss = 0.0\n",
    "        total = 0\n",
    "        all_true = []\n",
    "        all_pred = []\n",
    "        \n",
    "        with torch.no_grad():\n",
    "            for batch_x, batch_y in validation_loader:\n",
    "                batch_x = batch_x.to(device).clone()\n",
    "                batch_y = batch_y.to(device)\n",
    "                batch_x[VALIDATION_BATCH_SIZE // 2, non_imu_feats_idx] = 0.0\n",
    "                \n",
    "                outputs = model(batch_x)\n",
    "                loss = criterion(outputs, batch_y)\n",
    "                val_loss += loss.item() * batch_x.size(0)\n",
    "                total += batch_x.size(0)\n",
    "                \n",
    "                # Get predicted class indices\n",
    "                preds = torch.argmax(outputs, dim=1).cpu().numpy()\n",
    "                # Get true class indices from one-hot\n",
    "                trues = torch.argmax(batch_y, dim=1).cpu().numpy()\n",
    "                \n",
    "                all_true.append(trues)\n",
    "                all_pred.append(preds)\n",
    "\n",
    "        val_loss /= total\n",
    "        all_true = np.concatenate(all_true)\n",
    "        all_pred = np.concatenate(all_pred)\n",
    "\n",
    "        # Compute competition metrics\n",
    "        # Binary classification: BFRB (1) vs non-BFRB (0)\n",
    "        binary_true = np.isin(all_true, bfrb_indices).astype(int)\n",
    "        binary_pred = np.isin(all_pred, bfrb_indices).astype(int)\n",
    "        binary_f1 = f1_score(binary_true, binary_pred)\n",
    "        \n",
    "        # Collapse non-BFRB gestures into a single class\n",
    "        collapsed_true = np.where(\n",
    "            np.isin(all_true, bfrb_indices),\n",
    "            all_true,\n",
    "            len(bfrb_gestures)  # Single non-BFRB class\n",
    "        )\n",
    "        collapsed_pred = np.where(\n",
    "            np.isin(all_pred, bfrb_indices),\n",
    "            all_pred,\n",
    "            len(bfrb_gestures)  # Single non-BFRB class\n",
    "        )\n",
    "        \n",
    "        # Macro F1 on collapsed classes\n",
    "        macro_f1 = f1_score(collapsed_true, collapsed_pred, average='macro')\n",
    "        final_metric = (binary_f1 + macro_f1) / 2\n",
    "        \n",
    "        print(f\"Epoch {epoch:02d}: Train Loss = {train_loss:.4f}, Val Loss = {val_loss:.4f}\")\n",
    "        print(f\"  Binary F1 = {binary_f1:.4f}, Macro F1 = {macro_f1:.4f}, Final Metric = {final_metric:.4f}\")\n",
    "        \n",
    "        if final_metric > best_metric:\n",
    "            best_metric = final_metric\n",
    "            best_binary_f1 = binary_f1\n",
    "            best_macro_f1 = macro_f1\n",
    "            epochs_no_improve = 0\n",
    "            best_model_state = model.state_dict()\n",
    "            print(f\"  New best metric! Saving model...\")\n",
    "        else:\n",
    "            epochs_no_improve += 1\n",
    "            if epochs_no_improve >= PATIENCE:\n",
    "                print(f\"Early stopping triggered at epoch {epoch}\")\n",
    "                model.load_state_dict(best_model_state)\n",
    "                break\n",
    "\n",
    "    torch.save(best_model_state, f\"best_model_fold{fold}.pth\")\n",
    "    best_models.append(best_model_state)\n",
    "\n",
    "    fold_metrics.append({\n",
    "        'binary_f1': binary_f1,\n",
    "        'macro_f1': macro_f1,\n",
    "        'final_metric': final_metric\n",
    "    })\n",
    "    \n",
    "    best_fold_metrics.append({\n",
    "        'binary_f1': best_binary_f1,\n",
    "        'macro_f1': best_macro_f1,\n",
    "        'final_metric': best_metric\n",
    "    })\n",
    "    \n",
    "    print(f\"\\nFold {fold + 1} completed.\")\n",
    "    print(f\"Final validation metrics - Binary F1: {binary_f1:.4f}, Macro F1: {macro_f1:.4f}, Final: {final_metric:.4f}\")\n",
    "    print(f\"Best validation metrics - Binary F1: {best_binary_f1:.4f}, Macro F1: {best_macro_f1:.4f}, Final: {best_metric:.4f}\")\n",
    "\n",
    "print(\"\\n\" + \"=\"*50)\n",
    "print(\"Cross-Validation Results\")\n",
    "print(\"=\"*50)\n",
    "\n",
    "# Statistiques pour les meilleures métriques\n",
    "best_binary_f1 = [m['binary_f1'] for m in best_fold_metrics]\n",
    "best_macro_f1 = [m['macro_f1'] for m in best_fold_metrics]\n",
    "best_metrics = [m['final_metric'] for m in best_fold_metrics]\n",
    "\n",
    "print(\"\\nBest Fold-wise Metrics:\")\n",
    "for i, (bf1, mf1, fm) in enumerate(zip(best_binary_f1, best_macro_f1, best_metrics)):\n",
    "    print(f\"Fold {i+1}: Binary F1 = {bf1:.4f}, Macro F1 = {mf1:.4f}, Final = {fm:.4f}\")\n",
    "\n",
    "print(\"\\nGlobal Statistics (Best Metrics):\")\n",
    "print(f\"Mean Best Final Metric: {np.mean(best_metrics):.4f} ± {np.std(best_metrics):.4f}\")\n",
    "print(f\"Mean Best Binary F1: {np.mean(best_binary_f1):.4f} ± {np.std(best_binary_f1):.4f}\")\n",
    "print(f\"Mean Best Macro F1: {np.mean(best_macro_f1):.4f} ± {np.std(best_macro_f1):.4f}\")"
   ]
  },
  {
   "cell_type": "markdown",
   "id": "07ea7558",
   "metadata": {
    "papermill": {
     "duration": 0.012909,
     "end_time": "2025-06-14T10:09:14.961270",
     "exception": false,
     "start_time": "2025-06-14T10:09:14.948361",
     "status": "completed"
    },
    "tags": []
   },
   "source": [
    "## Submission"
   ]
  },
  {
   "cell_type": "markdown",
   "id": "3aea5e4f",
   "metadata": {
    "papermill": {
     "duration": 0.012906,
     "end_time": "2025-06-14T10:09:14.780212",
     "exception": false,
     "start_time": "2025-06-14T10:09:14.767306",
     "status": "completed"
    },
    "tags": []
   },
   "source": [
    "### Reloading best model"
   ]
  },
  {
   "cell_type": "code",
   "execution_count": 25,
   "id": "a0574d4d",
   "metadata": {
    "execution": {
     "iopub.execute_input": "2025-06-14T10:09:14.807902Z",
     "iopub.status.busy": "2025-06-14T10:09:14.807165Z",
     "iopub.status.idle": "2025-06-14T10:09:14.933288Z",
     "shell.execute_reply": "2025-06-14T10:09:14.932459Z"
    },
    "papermill": {
     "duration": 0.141435,
     "end_time": "2025-06-14T10:09:14.934745",
     "exception": false,
     "start_time": "2025-06-14T10:09:14.793310",
     "status": "completed"
    },
    "tags": []
   },
   "outputs": [],
   "source": [
    "model_ensemble = []\n",
    "for fold in range(5):\n",
    "    model = mk_model().to(device)\n",
    "    checkpoint = torch.load(f\"best_model_fold{fold}.pth\", map_location=device, weights_only=True)\n",
    "    model.load_state_dict(checkpoint)\n",
    "    model.eval()\n",
    "    model_ensemble.append(model)"
   ]
  },
  {
   "cell_type": "markdown",
   "id": "a826dec8",
   "metadata": {},
   "source": [
    "### Define preprocessing function"
   ]
  },
  {
   "cell_type": "code",
   "execution_count": 34,
   "id": "481e69b6",
   "metadata": {},
   "outputs": [],
   "source": [
    "def get_fillna_val_per_feature_col(df:DF) -> dict:\n",
    "    return {col: 1.0 if col == 'rot_w' else 0 for col in get_feature_cols(df)}\n",
    "\n",
    "def imputed_features(df:DF) -> DF:\n",
    "    # Missing ToF values are already imputed by -1 which is inconvinient since we want all missing values to be NaN.    \n",
    "    # So we replace them by NaN and then perform imputing.  \n",
    "    tof_vals_to_nan = {col: -1.0 for col in df.columns if col.startswith(\"tof\")}\n",
    "\n",
    "    df[get_feature_cols(df)] = (\n",
    "        df\n",
    "        .loc[:, get_feature_cols(df)]\n",
    "        # df.replace with np.nan sets dtype to floar64 so we set it back to float32\n",
    "        .replace(tof_vals_to_nan, value=np.nan)\n",
    "        .astype(\"float32\")\n",
    "        .groupby(df[\"sequence_id\"], observed=True, as_index=False)\n",
    "        .ffill()\n",
    "        .groupby(df[\"sequence_id\"], observed=True, as_index=False)\n",
    "        .bfill()\n",
    "        # In case there are only nan in the column in the sequence\n",
    "        .fillna(get_fillna_val_per_feature_col(df))\n",
    "    )\n",
    "    return df\n",
    "\n",
    "def norm_quat_rotations(df:DF) -> DF:\n",
    "    df[QUATERNION_COLS] /= np.linalg.norm(df[QUATERNION_COLS], axis=1, keepdims=True)\n",
    "    return df\n",
    "\n",
    "def add_linear_acc_cols(df:DF) -> DF:\n",
    "    # Vectorized version of https://www.kaggle.com/code/wasupandceacar/lb-0-82-5fold-single-bert-model#Dataset `remove_gravity_from_acc`\n",
    "    rotations:Rotation = Rotation.from_quat(df[QUATERNION_COLS])\n",
    "    gravity_sensor_frame = rotations.apply(GRAVITY_WORLD, inverse=True).astype(\"float32\")\n",
    "    df[LINEAR_ACC_COLS] = df[RAW_ACCELRATION_COLS] - gravity_sensor_frame\n",
    "    return df\n",
    "\n",
    "def add_acc_magnitude(df:DF, acc_cols:list[str], acc_mag_col_name:str) -> DF:\n",
    "    return df.assign(**{acc_mag_col_name: np.linalg.norm(df.loc[:, acc_cols], axis=1)})\n",
    "\n",
    "def add_quat_angle_mag(df:DF) -> DF:\n",
    "    return df.assign(quat_rot_mag=np.arccos(df[\"rot_w\"]) * 2)\n",
    "\n",
    "def add_angular_velocity_features(df:DF) -> DF:\n",
    "    rotations = Rotation.from_quat(df[QUATERNION_COLS])\n",
    "    delta_rotations = rotations[1:] * rotations[:-1].inv()\n",
    "    delta_rot_velocity = delta_rotations.as_rotvec()\n",
    "    # Add extra line to avoid shape mismatch\n",
    "    delta_rot_velocity = np.vstack((np.zeros((1, 3)), delta_rot_velocity))\n",
    "    delta_rot_magnitude = norm(delta_rot_velocity, axis=1, keepdims=True)\n",
    "    delta_rot_axes = delta_rot_velocity / (delta_rot_magnitude + EPSILON)\n",
    "    df[DELTA_ROTATION_ANGULAR_VELOCITY_COLS] = delta_rot_velocity\n",
    "    df[DELTA_ROTATION_AXES_COLS] = delta_rot_axes\n",
    "    df[\"delta_rot_mag\"] = delta_rot_magnitude.squeeze()\n",
    "\n",
    "    return df\n",
    "\n",
    "def rot_euler_angles(df:DF) -> ndarray:\n",
    "    df[EULER_ANGLES_COLS] = (\n",
    "        Rotation\n",
    "        .from_quat(df[QUATERNION_COLS])\n",
    "        .as_euler(\"xyz\")\n",
    "        .squeeze()\n",
    "    )\n",
    "    return df\n",
    "\n",
    "def agg_tof_cols_per_sensor(df:DF) -> DF:\n",
    "    for tof_idx in tqdm(range(1, 6)):\n",
    "        tof_name = f\"tof_{tof_idx}\"\n",
    "        tof_cols = [f\"{tof_name}_v{v_idx}\" for v_idx in range(64)]\n",
    "        if any(map(lambda col: col not in df.columns, tof_cols)):\n",
    "            print(f\"Some (or) all ToF {tof_idx} columns are not in the df. Maybe you already ran this cell?\")\n",
    "            continue\n",
    "        df = pd.concat(\n",
    "            (\n",
    "                df.drop(columns=tof_cols),\n",
    "                # For some reasons, it's faster to call all the aggregation functions seperatly than agg(list of functions)\n",
    "                df[tof_cols].mean(axis=\"columns\").to_frame(tof_name + \"_mean\"),\n",
    "                df[tof_cols].std(axis=\"columns\").to_frame(tof_name + \"_std\"),\n",
    "                df[tof_cols].median(axis=\"columns\").to_frame(tof_name + \"_median\"),\n",
    "                df[tof_cols].min(axis=\"columns\").to_frame(tof_name + \"_min\"),\n",
    "                df[tof_cols].max(axis=\"columns\").to_frame(tof_name + \"_max\"),\n",
    "            ),\n",
    "            axis=\"columns\",\n",
    "        )\n",
    "    return df\n",
    "\n",
    "def add_diff_features(df:DF) -> DF:\n",
    "    return pd.concat(\n",
    "        (\n",
    "            df,\n",
    "            df\n",
    "            .groupby(\"sequence_id\", as_index=False, observed=True)\n",
    "            [get_feature_cols(df)]\n",
    "            .diff()\n",
    "            .fillna(get_fillna_val_per_feature_col(df))\n",
    "            .add_suffix(\"_diff\")\n",
    "        ),\n",
    "        axis=\"columns\",\n",
    "    )\n",
    "\n",
    "def length_normed_sequence_feat_arr(sequence: DF) -> ndarray:\n",
    "    features = (\n",
    "        sequence\n",
    "        .loc[:, meta_data[\"feature_cols\"]]\n",
    "        .values\n",
    "    )\n",
    "    normed_sequence_len = meta_data[\"pad_seq_len\"]\n",
    "    len_diff = abs(normed_sequence_len - len(features))\n",
    "    if len(features) < normed_sequence_len:\n",
    "        padded_features = np.pad(\n",
    "            features,\n",
    "            ((len_diff // 2 + len_diff % 2, len_diff // 2), (0, 0)),\n",
    "        )\n",
    "        return padded_features\n",
    "    elif len(features) > normed_sequence_len:\n",
    "        return features[len_diff // 2:-len_diff // 2]\n",
    "    else:\n",
    "        return features\n",
    "\n",
    "def preprocess_sequence(sequence_df:pl.DataFrame) -> ndarray:\n",
    "    return (\n",
    "        sequence_df                     \n",
    "        .to_pandas()                            # Convert to pandas dataframe.\n",
    "        .pipe(imputed_features)                 # Impute missing data.\n",
    "        .pipe(norm_quat_rotations)              # Norm quaternions\n",
    "        .pipe(add_linear_acc_cols)              # Add gravity free acceleration.\n",
    "        .pipe(add_acc_magnitude, RAW_ACCELRATION_COLS, \"acc_mag\")\n",
    "        .pipe(add_acc_magnitude, LINEAR_ACC_COLS, \"linear_acc_mag\")\n",
    "        .pipe(add_quat_angle_mag)\n",
    "        .pipe(add_angular_velocity_features)\n",
    "        .pipe(rot_euler_angles)                 # Add rotation acc expressed as euler angles.\n",
    "        # .pipe(agg_tof_cols_per_sensor)          # Aggregate ToF columns.\n",
    "        .pipe(add_diff_features)                # \n",
    "        .loc[:, sorted(meta_data[\"feature_cols\"])]      # Retain only the usefull columns a.k.a features.\n",
    "        .sub(meta_data[\"mean\"])                 # Subtract features by their mean, std norm pt.1.\n",
    "        .div(meta_data[\"std\"])                  # Divide by Standard deviation, std norm pt.2.\n",
    "        .pipe(length_normed_sequence_feat_arr)  # get feature ndarray of sequence.\n",
    "        .T                                      # Transpose to swap channel and X dimensions.\n",
    "    )"
   ]
  },
  {
   "cell_type": "markdown",
   "id": "1ebb0960",
   "metadata": {},
   "source": [
    "### Define prediction function"
   ]
  },
  {
   "cell_type": "code",
   "execution_count": 30,
   "id": "57d8dfff",
   "metadata": {
    "execution": {
     "iopub.execute_input": "2025-06-14T10:09:14.989742Z",
     "iopub.status.busy": "2025-06-14T10:09:14.989258Z",
     "iopub.status.idle": "2025-06-14T10:09:14.995936Z",
     "shell.execute_reply": "2025-06-14T10:09:14.995244Z"
    },
    "papermill": {
     "duration": 0.021303,
     "end_time": "2025-06-14T10:09:14.997034",
     "exception": false,
     "start_time": "2025-06-14T10:09:14.975731",
     "status": "completed"
    },
    "tags": []
   },
   "outputs": [],
   "source": [
    "def predict(sequence: pl.DataFrame, _: pl.DataFrame) -> str:\n",
    "    \"\"\"\n",
    "    Kaggle evaluation API will call this for each sequence.\n",
    "    sequence: polars DataFrame for a single sequence\n",
    "    demographics: unused in this model\n",
    "    Returns: predicted gesture string\n",
    "    \"\"\"\n",
    "    x_tensor = (\n",
    "        torch.unsqueeze(Tensor(preprocess_sequence(sequence)), dim=0)\n",
    "        .float()\n",
    "        .to(device)\n",
    "    )\n",
    "    print(x_tensor.shape)\n",
    "\n",
    "    all_outputs = []\n",
    "    with torch.no_grad():\n",
    "        for model_idx, model in enumerate(model_ensemble): # Only take the first one bc it's the only one that takes in the correct input shape\n",
    "            outputs = model(x_tensor)\n",
    "            all_outputs.append(outputs)\n",
    "\n",
    "    avg_outputs = torch.mean(torch.stack(all_outputs), dim=0)\n",
    "    pred_idx = torch.argmax(avg_outputs, dim=1).item()\n",
    "\n",
    "    return str(gesture_classes[pred_idx])"
   ]
  },
  {
   "cell_type": "markdown",
   "id": "5cdcf446",
   "metadata": {},
   "source": [
    "### Run inference server"
   ]
  },
  {
   "cell_type": "code",
   "execution_count": 35,
   "id": "1c386b7d",
   "metadata": {
    "execution": {
     "iopub.execute_input": "2025-06-14T10:09:15.023324Z",
     "iopub.status.busy": "2025-06-14T10:09:15.023122Z",
     "iopub.status.idle": "2025-06-14T10:09:16.373534Z",
     "shell.execute_reply": "2025-06-14T10:09:16.372710Z"
    },
    "papermill": {
     "duration": 1.365137,
     "end_time": "2025-06-14T10:09:16.374918",
     "exception": false,
     "start_time": "2025-06-14T10:09:15.009781",
     "status": "completed"
    },
    "tags": []
   },
   "outputs": [
    {
     "name": "stdout",
     "output_type": "stream",
     "text": [
      "torch.Size([1, 696, 127])\n"
     ]
    },
    {
     "ename": "GatewayRuntimeError",
     "evalue": "(<GatewayRuntimeErrorType.SERVER_RAISED_EXCEPTION: 3>, 'CUDA error: CUBLAS_STATUS_ALLOC_FAILED when calling `cublasCreate(handle)`')",
     "output_type": "error",
     "traceback": [
      "\u001b[31m---------------------------------------------------------------------------\u001b[39m",
      "\u001b[31mGatewayRuntimeError\u001b[39m                       Traceback (most recent call last)",
      "\u001b[36mCell\u001b[39m\u001b[36m \u001b[39m\u001b[32mIn[35]\u001b[39m\u001b[32m, line 6\u001b[39m\n\u001b[32m      4\u001b[39m     inference_server.serve()\n\u001b[32m      5\u001b[39m \u001b[38;5;28;01melse\u001b[39;00m:\n\u001b[32m----> \u001b[39m\u001b[32m6\u001b[39m     \u001b[43minference_server\u001b[49m\u001b[43m.\u001b[49m\u001b[43mrun_local_gateway\u001b[49m\u001b[43m(\u001b[49m\n\u001b[32m      7\u001b[39m \u001b[43m        \u001b[49m\u001b[43mdata_paths\u001b[49m\u001b[43m=\u001b[49m\u001b[43m(\u001b[49m\n\u001b[32m      8\u001b[39m \u001b[43m            \u001b[49m\u001b[43mjoin\u001b[49m\u001b[43m(\u001b[49m\u001b[43mcompetition_dataset_path\u001b[49m\u001b[43m,\u001b[49m\u001b[43m \u001b[49m\u001b[33;43m'\u001b[39;49m\u001b[33;43mtest.csv\u001b[39;49m\u001b[33;43m'\u001b[39;49m\u001b[43m)\u001b[49m\u001b[43m,\u001b[49m\n\u001b[32m      9\u001b[39m \u001b[43m            \u001b[49m\u001b[43mjoin\u001b[49m\u001b[43m(\u001b[49m\u001b[43mcompetition_dataset_path\u001b[49m\u001b[43m,\u001b[49m\u001b[43m \u001b[49m\u001b[33;43m'\u001b[39;49m\u001b[33;43mtest_demographics.csv\u001b[39;49m\u001b[33;43m'\u001b[39;49m\u001b[43m)\u001b[49m\u001b[43m,\u001b[49m\n\u001b[32m     10\u001b[39m \u001b[43m        \u001b[49m\u001b[43m)\u001b[49m\n\u001b[32m     11\u001b[39m \u001b[43m    \u001b[49m\u001b[43m)\u001b[49m\n\u001b[32m     12\u001b[39m     inference_server = kaggle_evaluation.cmi_inference_server.CMIInferenceServer(predict)\n\u001b[32m     13\u001b[39m     inference_server.run_local_gateway(\n\u001b[32m     14\u001b[39m         data_paths=(\n\u001b[32m     15\u001b[39m             join(competition_dataset_path, \u001b[33m'\u001b[39m\u001b[33mtest.csv\u001b[39m\u001b[33m'\u001b[39m),\n\u001b[32m     16\u001b[39m             join(competition_dataset_path, \u001b[33m'\u001b[39m\u001b[33mtest_demographics.csv\u001b[39m\u001b[33m'\u001b[39m),\n\u001b[32m     17\u001b[39m         )\n\u001b[32m     18\u001b[39m     )\n",
      "\u001b[36mFile \u001b[39m\u001b[32m~/repos/CMI-2025-competition/src/kaggle_evaluation/core/templates.py:149\u001b[39m, in \u001b[36mInferenceServer.run_local_gateway\u001b[39m\u001b[34m(self, data_paths, file_share_dir, *args, **kwargs)\u001b[39m\n\u001b[32m    147\u001b[39m     \u001b[38;5;28mself\u001b[39m.gateway.run()\n\u001b[32m    148\u001b[39m \u001b[38;5;28;01mexcept\u001b[39;00m \u001b[38;5;167;01mException\u001b[39;00m \u001b[38;5;28;01mas\u001b[39;00m err:\n\u001b[32m--> \u001b[39m\u001b[32m149\u001b[39m     \u001b[38;5;28;01mraise\u001b[39;00m err \u001b[38;5;28;01mfrom\u001b[39;00m\u001b[38;5;250m \u001b[39m\u001b[38;5;28;01mNone\u001b[39;00m\n\u001b[32m    150\u001b[39m \u001b[38;5;28;01mfinally\u001b[39;00m:\n\u001b[32m    151\u001b[39m     \u001b[38;5;28mself\u001b[39m.server.stop(\u001b[32m0\u001b[39m)\n",
      "\u001b[36mFile \u001b[39m\u001b[32m~/repos/CMI-2025-competition/src/kaggle_evaluation/core/templates.py:147\u001b[39m, in \u001b[36mInferenceServer.run_local_gateway\u001b[39m\u001b[34m(self, data_paths, file_share_dir, *args, **kwargs)\u001b[39m\n\u001b[32m    145\u001b[39m \u001b[38;5;28;01mtry\u001b[39;00m:\n\u001b[32m    146\u001b[39m     \u001b[38;5;28mself\u001b[39m.gateway = \u001b[38;5;28mself\u001b[39m._get_gateway_for_test(data_paths, file_share_dir, *args, **kwargs)\n\u001b[32m--> \u001b[39m\u001b[32m147\u001b[39m     \u001b[38;5;28;43mself\u001b[39;49m\u001b[43m.\u001b[49m\u001b[43mgateway\u001b[49m\u001b[43m.\u001b[49m\u001b[43mrun\u001b[49m\u001b[43m(\u001b[49m\u001b[43m)\u001b[49m\n\u001b[32m    148\u001b[39m \u001b[38;5;28;01mexcept\u001b[39;00m \u001b[38;5;167;01mException\u001b[39;00m \u001b[38;5;28;01mas\u001b[39;00m err:\n\u001b[32m    149\u001b[39m     \u001b[38;5;28;01mraise\u001b[39;00m err \u001b[38;5;28;01mfrom\u001b[39;00m\u001b[38;5;250m \u001b[39m\u001b[38;5;28;01mNone\u001b[39;00m\n",
      "\u001b[36mFile \u001b[39m\u001b[32m~/repos/CMI-2025-competition/src/kaggle_evaluation/core/templates.py:105\u001b[39m, in \u001b[36mGateway.run\u001b[39m\u001b[34m(self)\u001b[39m\n\u001b[32m    102\u001b[39m     \u001b[38;5;28mself\u001b[39m.write_result(error)\n\u001b[32m    103\u001b[39m \u001b[38;5;28;01melif\u001b[39;00m error:\n\u001b[32m    104\u001b[39m     \u001b[38;5;66;03m# For local testing\u001b[39;00m\n\u001b[32m--> \u001b[39m\u001b[32m105\u001b[39m     \u001b[38;5;28;01mraise\u001b[39;00m error\n",
      "\u001b[36mFile \u001b[39m\u001b[32m~/repos/CMI-2025-competition/src/kaggle_evaluation/core/templates.py:84\u001b[39m, in \u001b[36mGateway.run\u001b[39m\u001b[34m(self)\u001b[39m\n\u001b[32m     82\u001b[39m \u001b[38;5;28;01mtry\u001b[39;00m:\n\u001b[32m     83\u001b[39m     \u001b[38;5;28mself\u001b[39m.unpack_data_paths()\n\u001b[32m---> \u001b[39m\u001b[32m84\u001b[39m     predictions, row_ids = \u001b[38;5;28;43mself\u001b[39;49m\u001b[43m.\u001b[49m\u001b[43mget_all_predictions\u001b[49m\u001b[43m(\u001b[49m\u001b[43m)\u001b[49m\n\u001b[32m     85\u001b[39m     \u001b[38;5;28mself\u001b[39m.write_submission(predictions, row_ids)\n\u001b[32m     86\u001b[39m \u001b[38;5;28;01mexcept\u001b[39;00m kaggle_evaluation.core.base_gateway.GatewayRuntimeError \u001b[38;5;28;01mas\u001b[39;00m gre:\n",
      "\u001b[36mFile \u001b[39m\u001b[32m~/repos/CMI-2025-competition/src/kaggle_evaluation/core/templates.py:56\u001b[39m, in \u001b[36mGateway.get_all_predictions\u001b[39m\u001b[34m(self)\u001b[39m\n\u001b[32m     54\u001b[39m all_row_ids = []\n\u001b[32m     55\u001b[39m \u001b[38;5;28;01mfor\u001b[39;00m data_batch, row_ids \u001b[38;5;129;01min\u001b[39;00m \u001b[38;5;28mself\u001b[39m.generate_data_batches():\n\u001b[32m---> \u001b[39m\u001b[32m56\u001b[39m     predictions = \u001b[38;5;28;43mself\u001b[39;49m\u001b[43m.\u001b[49m\u001b[43mpredict\u001b[49m\u001b[43m(\u001b[49m\u001b[43m*\u001b[49m\u001b[43mdata_batch\u001b[49m\u001b[43m)\u001b[49m\n\u001b[32m     57\u001b[39m     \u001b[38;5;28mself\u001b[39m.validate_prediction_batch(predictions, row_ids)\n\u001b[32m     58\u001b[39m     all_predictions.append(predictions)\n",
      "\u001b[36mFile \u001b[39m\u001b[32m~/repos/CMI-2025-competition/src/kaggle_evaluation/core/templates.py:72\u001b[39m, in \u001b[36mGateway.predict\u001b[39m\u001b[34m(self, *args, **kwargs)\u001b[39m\n\u001b[32m     70\u001b[39m     \u001b[38;5;28;01mreturn\u001b[39;00m \u001b[38;5;28mself\u001b[39m.client.send(\u001b[33m'\u001b[39m\u001b[33mpredict\u001b[39m\u001b[33m'\u001b[39m, *args, **kwargs)\n\u001b[32m     71\u001b[39m \u001b[38;5;28;01mexcept\u001b[39;00m \u001b[38;5;167;01mException\u001b[39;00m \u001b[38;5;28;01mas\u001b[39;00m e:\n\u001b[32m---> \u001b[39m\u001b[32m72\u001b[39m     \u001b[38;5;28;43mself\u001b[39;49m\u001b[43m.\u001b[49m\u001b[43mhandle_server_error\u001b[49m\u001b[43m(\u001b[49m\u001b[43me\u001b[49m\u001b[43m,\u001b[49m\u001b[43m \u001b[49m\u001b[33;43m'\u001b[39;49m\u001b[33;43mpredict\u001b[39;49m\u001b[33;43m'\u001b[39;49m\u001b[43m)\u001b[49m\n",
      "\u001b[36mFile \u001b[39m\u001b[32m~/repos/CMI-2025-competition/src/kaggle_evaluation/core/base_gateway.py:257\u001b[39m, in \u001b[36mBaseGateway.handle_server_error\u001b[39m\u001b[34m(self, exception, endpoint)\u001b[39m\n\u001b[32m    255\u001b[39m     message_match = re.search(\u001b[33m'\u001b[39m\u001b[33m\"\u001b[39m\u001b[33mException calling application: (.*)\u001b[39m\u001b[33m\"\u001b[39m\u001b[33m'\u001b[39m, exception_str, re.IGNORECASE)\n\u001b[32m    256\u001b[39m     message = message_match.group(\u001b[32m1\u001b[39m) \u001b[38;5;28;01mif\u001b[39;00m message_match \u001b[38;5;28;01melse\u001b[39;00m exception_str\n\u001b[32m--> \u001b[39m\u001b[32m257\u001b[39m     \u001b[38;5;28;01mraise\u001b[39;00m GatewayRuntimeError(GatewayRuntimeErrorType.SERVER_RAISED_EXCEPTION, message) \u001b[38;5;28;01mfrom\u001b[39;00m\u001b[38;5;250m \u001b[39m\u001b[38;5;28;01mNone\u001b[39;00m\n\u001b[32m    258\u001b[39m \u001b[38;5;28;01mif\u001b[39;00m \u001b[38;5;28misinstance\u001b[39m(exception, grpc._channel._InactiveRpcError):\n\u001b[32m    259\u001b[39m     \u001b[38;5;28;01mraise\u001b[39;00m GatewayRuntimeError(GatewayRuntimeErrorType.SERVER_CONNECTION_FAILED, exception_str) \u001b[38;5;28;01mfrom\u001b[39;00m\u001b[38;5;250m \u001b[39m\u001b[38;5;28;01mNone\u001b[39;00m\n",
      "\u001b[31mGatewayRuntimeError\u001b[39m: (<GatewayRuntimeErrorType.SERVER_RAISED_EXCEPTION: 3>, 'CUDA error: CUBLAS_STATUS_ALLOC_FAILED when calling `cublasCreate(handle)`')"
     ]
    }
   ],
   "source": [
    "inference_server = kaggle_evaluation.cmi_inference_server.CMIInferenceServer(predict)\n",
    "\n",
    "if os.getenv('KAGGLE_IS_COMPETITION_RERUN'):\n",
    "    inference_server.serve()\n",
    "else:\n",
    "    inference_server.run_local_gateway(\n",
    "        data_paths=(\n",
    "            join(competition_dataset_path, 'test.csv'),\n",
    "            join(competition_dataset_path, 'test_demographics.csv'),\n",
    "        )\n",
    "    )\n",
    "    inference_server = kaggle_evaluation.cmi_inference_server.CMIInferenceServer(predict)\n",
    "    inference_server.run_local_gateway(\n",
    "        data_paths=(\n",
    "            join(competition_dataset_path, 'test.csv'),\n",
    "            join(competition_dataset_path, 'test_demographics.csv'),\n",
    "        )\n",
    "    )"
   ]
  }
 ],
 "metadata": {
  "kaggle": {
   "accelerator": "gpu",
   "dataSources": [
    {
     "databundleVersionId": 12518947,
     "sourceId": 102335,
     "sourceType": "competition"
    }
   ],
   "isGpuEnabled": true,
   "isInternetEnabled": false,
   "language": "python",
   "sourceType": "notebook"
  },
  "kernelspec": {
   "display_name": "Python 3",
   "language": "python",
   "name": "python3"
  },
  "language_info": {
   "codemirror_mode": {
    "name": "ipython",
    "version": 3
   },
   "file_extension": ".py",
   "mimetype": "text/x-python",
   "name": "python",
   "nbconvert_exporter": "python",
   "pygments_lexer": "ipython3",
   "version": "3.11.5"
  },
  "papermill": {
   "default_parameters": {},
   "duration": 510.403331,
   "end_time": "2025-06-14T10:09:19.701325",
   "environment_variables": {},
   "exception": null,
   "input_path": "__notebook__.ipynb",
   "output_path": "__notebook__.ipynb",
   "parameters": {},
   "start_time": "2025-06-14T10:00:49.297994",
   "version": "2.6.0"
  }
 },
 "nbformat": 4,
 "nbformat_minor": 5
}
