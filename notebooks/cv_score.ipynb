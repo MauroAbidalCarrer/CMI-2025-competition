{
 "cells": [
  {
   "cell_type": "markdown",
   "id": "bf6438da",
   "metadata": {},
   "source": [
    "# Training & inference notebook\n",
    "Credit to [Tarun Mishra](https://www.kaggle.com/tarundirector) – this code is heavily based on his [notebook](https://www.kaggle.com/code/tarundirector/sensor-pulse-viz-eda-for-bfrb-detection?scriptVersionId=243465321)."
   ]
  },
  {
   "cell_type": "markdown",
   "id": "e752c660",
   "metadata": {},
   "source": [
    "## Setup"
   ]
  },
  {
   "cell_type": "markdown",
   "id": "473b69f6",
   "metadata": {},
   "source": [
    "### imports"
   ]
  },
  {
   "cell_type": "markdown",
   "id": "e7d4b210",
   "metadata": {},
   "source": [
    "#### Training imports"
   ]
  },
  {
   "cell_type": "code",
   "execution_count": 1,
   "id": "b842c804",
   "metadata": {},
   "outputs": [],
   "source": [
    "import os\n",
    "import json\n",
    "from glob import glob\n",
    "from functools import partial\n",
    "from datetime import datetime\n",
    "from itertools import pairwise\n",
    "from os.path import join, realpath\n",
    "from typing import Optional, Literal\n",
    "\n",
    "import torch\n",
    "import kagglehub\n",
    "import numpy as np\n",
    "import pandas as pd\n",
    "import plotly.express as px\n",
    "from torch import nn, Tensor\n",
    "from pandas import DataFrame as DF\n",
    "from torch.utils.data import TensorDataset\n",
    "from torch.utils.data import DataLoader as DL\n",
    "from rich.progress import Progress, Task, track\n",
    "from torch.optim.lr_scheduler import ConstantLR, LRScheduler\n",
    "metric_package = kagglehub.package_import('wasupandceacar/cmi-metric', bypass_confirmation=True)"
   ]
  },
  {
   "cell_type": "markdown",
   "id": "6a3ae962",
   "metadata": {},
   "source": [
    "#### inference imports"
   ]
  },
  {
   "cell_type": "code",
   "execution_count": 2,
   "id": "915c9ecf",
   "metadata": {},
   "outputs": [],
   "source": [
    "import os\n",
    "import json\n",
    "import warnings\n",
    "from os.path import join\n",
    "from tqdm.notebook import tqdm\n",
    "from itertools import pairwise, product\n",
    "\n",
    "import torch\n",
    "import numpy as np\n",
    "import pandas as pd\n",
    "import polars as pl\n",
    "from numpy import ndarray\n",
    "from torch import nn, Tensor\n",
    "from numpy.linalg import norm\n",
    "from pandas import DataFrame as DF\n",
    "from scipy.spatial.transform import Rotation\n",
    "# from kagglehub import competition_download, dataset_download, model_download\n",
    "import kagglehub\n",
    "metric_package = kagglehub.package_import('wasupandceacar/cmi-metric', bypass_confirmation=True)\n",
    "\n",
    "import kaggle_evaluation.cmi_inference_server"
   ]
  },
  {
   "cell_type": "markdown",
   "id": "5cd3c8bd",
   "metadata": {},
   "source": [
    "#### kaggle notbook Imports"
   ]
  },
  {
   "cell_type": "code",
   "execution_count": 3,
   "id": "ce2e25ed",
   "metadata": {},
   "outputs": [],
   "source": [
    "import random\n",
    "import numpy as np\n",
    "import torch\n",
    "import os\n",
    "\n",
    "def seed_everything(seed=42):\n",
    "    \"\"\"Set all random seeds for reproducibility\"\"\"\n",
    "    random.seed(seed)\n",
    "    np.random.seed(seed)\n",
    "    torch.manual_seed(seed)\n",
    "    torch.cuda.manual_seed(seed)\n",
    "    torch.backends.cudnn.deterministic = True\n",
    "    torch.backends.cudnn.benchmark = False\n",
    "    os.environ['PYTHONHASHSEED'] = str(seed)\n",
    "    os.environ['CUBLAS_WORKSPACE_CONFIG'] = ':4096:8'\n",
    "    torch.use_deterministic_algorithms(True, warn_only=True)\n",
    "\n",
    "SEED = 42\n",
    "seed_everything(seed=SEED)\n",
    "\n",
    "import pandas as pd\n",
    "import polars as pl\n",
    "from sklearn.metrics import f1_score\n",
    "from sklearn.model_selection import train_test_split\n",
    "from sklearn.preprocessing import StandardScaler, LabelEncoder\n",
    "from sklearn.model_selection import GroupKFold\n",
    "from sklearn.utils.class_weight import compute_class_weight\n",
    "import joblib\n",
    "from tqdm import tqdm\n",
    "\n",
    "from torch import nn\n",
    "import torch.nn.functional as F\n",
    "import torch.optim as optim\n",
    "from torch.utils.data import Dataset, DataLoader\n",
    "# from tensorflow.keras.preprocessing.sequence import pad_sequences as keras_pad_sequences\n",
    "\n",
    "import kaggle_evaluation.cmi_inference_server\n",
    "from matplotlib import pyplot as plt"
   ]
  },
  {
   "cell_type": "markdown",
   "id": "91e34cce",
   "metadata": {},
   "source": [
    "### Configs"
   ]
  },
  {
   "cell_type": "markdown",
   "id": "57b0b925",
   "metadata": {},
   "source": [
    "#### Training config"
   ]
  },
  {
   "cell_type": "code",
   "execution_count": 4,
   "id": "1296f174",
   "metadata": {},
   "outputs": [],
   "source": [
    "NB_CROSS_VALIDATIONS = 5\n",
    "TRAINING_EPOCHS = 250\n",
    "STARTING_LR = 0.0005\n",
    "TRAIN_BATCH_SIZE = 256\n",
    "VALIDATION_BATCH_SIZE = 4 * TRAIN_BATCH_SIZE\n",
    "TARGET_NAMES = sorted([\n",
    "    \"Above ear - pull hair\",\n",
    "    \"Cheek - pinch skin\",\n",
    "    \"Eyebrow - pull hair\",\n",
    "    \"Eyelash - pull hair\",\n",
    "    \"Feel around in tray and pull out an object\",\n",
    "    \"Forehead - pull hairline\",\n",
    "    \"Forehead - scratch\",\n",
    "    \"Neck - pinch skin\",\n",
    "    \"Neck - scratch\",\n",
    "    \"Text on phone\",\n",
    "    \"Wave hello\",\n",
    "    \"Write name in air\",\n",
    "    \"Write name on leg\",\n",
    "    \"Drink from bottle/cup\",\n",
    "    \"Pinch knee/leg skin\",\n",
    "    \"Pull air toward your face\",\n",
    "    \"Scratch knee/leg skin\",\n",
    "    \"Glasses on/off\"\n",
    "])\n",
    "TARGET_NAMES_NDARRAY = np.asarray(TARGET_NAMES)\n",
    "MOCK_TRAINING_GAMMA = 1.01\n",
    "MAX_LR_TO_MIN_DIV_FACTOR = 10\n",
    "\n",
    "COMPETITION_HANDLE = \"cmi-detect-behavior-with-sensor-data\""
   ]
  },
  {
   "cell_type": "markdown",
   "id": "1393b8af",
   "metadata": {},
   "source": [
    "#### Inference config "
   ]
  },
  {
   "cell_type": "code",
   "execution_count": 5,
   "id": "3ad8c78c",
   "metadata": {},
   "outputs": [],
   "source": [
    "QUATERNION_COLS = ['rot_w', 'rot_x', 'rot_y', 'rot_z']\n",
    "GRAVITY_WORLD = np.array([0, 0, 9.81], \"float32\")\n",
    "RAW_ACCELRATION_COLS = [\"acc_x\", \"acc_y\", \"acc_z\"]\n",
    "LINEAR_ACC_COLS = [\"gravity_free_\" + col for col in RAW_ACCELRATION_COLS]\n",
    "COMPETITION_HANDLE = \"cmi-detect-behavior-with-sensor-data\"\n",
    "CATEGORY_COLUMNS = [\n",
    "    'row_id',\n",
    "    'sequence_type',\n",
    "    'sequence_id',\n",
    "    'subject',\n",
    "    'orientation',\n",
    "    'behavior',\n",
    "    'phase',\n",
    "    'gesture',\n",
    "]\n",
    "META_DATA_COLUMNS = [\n",
    "    'row_id',\n",
    "    'sequence_type',\n",
    "    'sequence_id',\n",
    "    'sequence_counter',\n",
    "    'subject',\n",
    "    'orientation',\n",
    "    'behavior',\n",
    "    'phase',\n",
    "    'gesture',\n",
    "]\n",
    "DATASET_DF_DTYPES = {\n",
    "    \"acc_x\": \"float32\", \"acc_y\": \"float32\", \"acc_z\": \"float32\",\n",
    "    \"thm_1\":\"float32\", \"thm_2\":\"float32\", \"thm_3\":\"float32\", \"thm_4\":\"float32\", \"thm_5\":\"float32\",\n",
    "    \"sequence_counter\": \"int32\",\n",
    "    **{col: \"category\" for col in CATEGORY_COLUMNS},\n",
    "    **{f\"tof_{i_1}_v{i_2}\": \"float32\" for i_1, i_2 in product(range(1, 5), range(64))},\n",
    "}\n",
    "PREPROCESSED_DATASET_HANDLE = \"mauroabidalcarrer/prepocessed-cmi-2025\"\n",
    "# The quantile of the sequences len used to pad/truncate during preprocessing\n",
    "SEQUENCE_NORMED_LEN_QUANTILE = 0.95\n",
    "# SAMPLING_FREQUENCY = 10 #Hz\n",
    "N_FOLDS = 5\n",
    "VALIDATION_FRACTION = 0.2\n",
    "TARGET_NAMES = sorted([\n",
    "    \"Above ear - pull hair\",\n",
    "    \"Cheek - pinch skin\",\n",
    "    \"Eyebrow - pull hair\",\n",
    "    \"Eyelash - pull hair\",\n",
    "    \"Feel around in tray and pull out an object\",\n",
    "    \"Forehead - pull hairline\",\n",
    "    \"Forehead - scratch\",\n",
    "    \"Neck - pinch skin\",\n",
    "    \"Neck - scratch\",\n",
    "    \"Text on phone\",\n",
    "    \"Wave hello\",\n",
    "    \"Write name in air\",\n",
    "    \"Write name on leg\",\n",
    "    \"Drink from bottle/cup\",\n",
    "    \"Pinch knee/leg skin\",\n",
    "    \"Pull air toward your face\",\n",
    "    \"Scratch knee/leg skin\",\n",
    "    \"Glasses on/off\"\n",
    "])\n",
    "EPSILON=1e-8\n",
    "DELTA_ROTATION_ANGULAR_VELOCITY_COLS = [\"angular_vel_x\", \"angular_vel_y\", \"angular_vel_z\"]\n",
    "DELTA_ROTATION_AXES_COLS = [\"rotation_axis_x\", \"rotation_axis_y\", \"rotation_axis_z\"]\n",
    "EULER_ANGLES_COLS = [\"euler_x\", \"euler_y\", \"euler_z\"]"
   ]
  },
  {
   "cell_type": "markdown",
   "id": "1c4bfefa",
   "metadata": {},
   "source": [
    "### Define function to get the feature columns\n",
    "Feature columns change over time so it's better to have a function to get them than manually update a variable every time we add/remove features."
   ]
  },
  {
   "cell_type": "code",
   "execution_count": 6,
   "id": "f3d40b15",
   "metadata": {},
   "outputs": [],
   "source": [
    "def get_feature_cols(df:DF) -> list[str]:\n",
    "    return sorted(list(set(df.columns) - set(META_DATA_COLUMNS) - set(TARGET_NAMES)))"
   ]
  },
  {
   "cell_type": "markdown",
   "id": "1eac0e5a",
   "metadata": {},
   "source": [
    "### Supress performance warngings"
   ]
  },
  {
   "cell_type": "code",
   "execution_count": 7,
   "id": "086420e2",
   "metadata": {},
   "outputs": [],
   "source": [
    "warnings.filterwarnings(\n",
    "    \"ignore\",\n",
    "    message=(\n",
    "        \"DataFrame is highly fragmented.  This is usually the result of \"\n",
    "        \"calling `frame.insert` many times.*\"\n",
    "    ),\n",
    "    category=pd.errors.PerformanceWarning,\n",
    ")"
   ]
  },
  {
   "cell_type": "markdown",
   "id": "7749c3bd",
   "metadata": {},
   "source": [
    "### device setup"
   ]
  },
  {
   "cell_type": "code",
   "execution_count": 8,
   "id": "aa7f99a1",
   "metadata": {},
   "outputs": [],
   "source": [
    "device = torch.device(\"cuda\") if torch.cuda.is_available() else torch.device(\"cpu\")"
   ]
  },
  {
   "cell_type": "markdown",
   "id": "6a563074",
   "metadata": {},
   "source": [
    "### Dataset Setup"
   ]
  },
  {
   "cell_type": "code",
   "execution_count": 9,
   "id": "2bc2e83c",
   "metadata": {},
   "outputs": [],
   "source": [
    "dataset_path = kagglehub.dataset_download(\n",
    "    handle=\"mauroabidalcarrer/prepocessed-cmi-2025\",\n",
    ")\n",
    "\n",
    "class CMIDataset(TensorDataset):\n",
    "    def __init__(\n",
    "        self,\n",
    "        parent_dir: str,\n",
    "        split: Optional[Literal[\"train\", \"validation\"]]=None,\n",
    "        subset: Optional[int]=None,\n",
    "        force_download=False\n",
    "    ):\n",
    "        dataset_path = kagglehub.dataset_download(\n",
    "            handle=\"mauroabidalcarrer/prepocessed-cmi-2025\",\n",
    "            force_download=force_download\n",
    "        )\n",
    "        parent_dir = join(dataset_path, \"preprocessed_dataset\", parent_dir)\n",
    "        split = \"\" if split is None else split + \"_\"\n",
    "        x = np.load(join(parent_dir, f\"{split}X.npy\")).swapaxes(1, 2)\n",
    "        y = np.load(join(parent_dir, f\"{split}Y.npy\"))\n",
    "        if subset is not None:\n",
    "            x = x[:subset]\n",
    "            y = y[:subset]\n",
    "        super().__init__(\n",
    "            torch.from_numpy(x), \n",
    "            torch.from_numpy(y),\n",
    "        )"
   ]
  },
  {
   "cell_type": "code",
   "execution_count": 10,
   "id": "5aae295d",
   "metadata": {},
   "outputs": [],
   "source": [
    "meta_data_path = join(\n",
    "    dataset_path,\n",
    "    \"preprocessed_dataset\",\n",
    "    \"full_dataset_meta_data.json\"\n",
    ")\n",
    "with open(meta_data_path, \"r\") as fp:\n",
    "    meta_data = json.load(fp)\n",
    "# Convert target names into a ndarray to index it batchwise.\n",
    "# meta_data[\"target_names\"] = np.asarray(meta_data[\"target_names\"])\n",
    "non_imu_feats_idx = [feat_idx for feat_idx, feat in enumerate(meta_data[\"feature_cols\"]) if feat.startswith((\"thm\", \"tof\"))]\n",
    "non_imu_feats = [feat for feat in meta_data[\"feature_cols\"] if feat.startswith((\"thm\", \"tof\"))]\n",
    "imu_feats_idx = [feat_idx for feat_idx, feat in enumerate(meta_data[\"feature_cols\"]) if not feat.startswith((\"thm\", \"tof\"))]\n",
    "imu_feats = [feat for feat in meta_data[\"feature_cols\"] if not feat.startswith((\"thm\", \"tof\"))]"
   ]
  },
  {
   "cell_type": "markdown",
   "id": "2161df0c",
   "metadata": {
    "papermill": {
     "duration": 0.00278,
     "end_time": "2025-06-14T10:01:12.877551",
     "exception": false,
     "start_time": "2025-06-14T10:01:12.874771",
     "status": "completed"
    },
    "tags": []
   },
   "source": [
    "### BFRBs indices"
   ]
  },
  {
   "cell_type": "code",
   "execution_count": 11,
   "id": "e657c570",
   "metadata": {
    "execution": {
     "iopub.execute_input": "2025-06-14T10:01:12.884365Z",
     "iopub.status.busy": "2025-06-14T10:01:12.883937Z",
     "iopub.status.idle": "2025-06-14T10:01:45.309186Z",
     "shell.execute_reply": "2025-06-14T10:01:45.308564Z"
    },
    "papermill": {
     "duration": 32.430139,
     "end_time": "2025-06-14T10:01:45.310511",
     "exception": false,
     "start_time": "2025-06-14T10:01:12.880372",
     "status": "completed"
    },
    "tags": []
   },
   "outputs": [
    {
     "name": "stdout",
     "output_type": "stream",
     "text": [
      "Loading datasets...\n",
      "Train rows: 574945, Test rows: 107\n"
     ]
    }
   ],
   "source": [
    "print(\"Loading datasets...\")\n",
    "competition_dataset_path = kagglehub.competition_download(COMPETITION_HANDLE)\n",
    "train_df = pd.read_csv(join(competition_dataset_path, \"train.csv\"))\n",
    "train_dem_df = pd.read_csv(join(competition_dataset_path, \"train_demographics.csv\"))\n",
    "test_df = pd.read_csv(join(competition_dataset_path, \"test.csv\"))\n",
    "test_dem_df = pd.read_csv(join(competition_dataset_path, \"test_demographics.csv\"))\n",
    "print(f\"Train rows: {len(train_df)}, Test rows: {len(test_df)}\")\n",
    "\n",
    "# Encode labels\n",
    "label_encoder = LabelEncoder()\n",
    "train_df['gesture'] = label_encoder.fit_transform(train_df['gesture'].astype(str))\n",
    "gesture_classes = label_encoder.classes_\n",
    "\n",
    "bfrb_gestures = [\n",
    "    'Above ear - pull hair',\n",
    "    'Forehead - pull hairline',\n",
    "    'Forehead - scratch',\n",
    "    'Eyebrow - pull hair',\n",
    "    'Eyelash - pull hair',\n",
    "    'Neck - pinch skin',\n",
    "    'Neck - scratch',\n",
    "    'Cheek - pinch skin'\n",
    "]\n",
    "bfrb_indices = label_encoder.transform(bfrb_gestures)"
   ]
  },
  {
   "cell_type": "markdown",
   "id": "9c54244a",
   "metadata": {},
   "source": [
    "## Model definition"
   ]
  },
  {
   "cell_type": "code",
   "execution_count": 12,
   "id": "80ae01a8",
   "metadata": {},
   "outputs": [],
   "source": [
    "class SqueezeExcitationBlock(nn.Module):\n",
    "    # Copy/paste of https://www.kaggle.com/code/wasupandceacar/lb-0-82-5fold-single-bert-model#Model implementation\n",
    "    def __init__(self, channels:int, reduction:int=8):\n",
    "        super().__init__()\n",
    "        self.fc1 = nn.Linear(channels, channels // reduction, bias=True)\n",
    "        self.fc2 = nn.Linear(channels // reduction, channels, bias=True)\n",
    "        self.sigmoid = nn.Sigmoid()\n",
    "\n",
    "    def forward(self, x):\n",
    "        # x: (B, C, L)\n",
    "        se = F.adaptive_avg_pool1d(x, 1).squeeze(-1)      # -> (B, C)\n",
    "        se = F.relu(self.fc1(se), inplace=True)          # -> (B, C//r)\n",
    "        se = self.sigmoid(self.fc2(se)).unsqueeze(-1)    # -> (B, C, 1)\n",
    "        return x * se\n",
    "\n",
    "class ResidualBlock(nn.Module):\n",
    "    def __init__(self, in_chns:int, out_chns:int):\n",
    "        super().__init__()\n",
    "        self.blocks = nn.Sequential(\n",
    "            nn.Conv1d(in_chns, out_chns, kernel_size=3, padding=1),\n",
    "            nn.BatchNorm1d(out_chns),\n",
    "            nn.ReLU(),\n",
    "            nn.Conv1d(out_chns, out_chns, kernel_size=3, padding=1),\n",
    "            nn.BatchNorm1d(out_chns),\n",
    "            SqueezeExcitationBlock(out_chns),\n",
    "        )\n",
    "        if in_chns == out_chns:\n",
    "            self.skip_connection = nn.Identity() \n",
    "        else:\n",
    "            # TODO: set bias to False ?\n",
    "            self.skip_connection = nn.Sequential(\n",
    "                nn.Conv1d(in_chns, out_chns, 1),\n",
    "                nn.BatchNorm1d(out_chns)\n",
    "            )\n",
    "\n",
    "    def forward(self, x:Tensor) -> Tensor:\n",
    "        activaition_maps = self.skip_connection(x) + self.blocks(x)\n",
    "        return nn.functional.relu(activaition_maps)\n",
    "\n",
    "class Resnet(nn.Module):\n",
    "    def __init__(\n",
    "            self,\n",
    "            in_channels:int,\n",
    "            depth:int,\n",
    "            # n_res_block_per_depth:int,\n",
    "            mlp_width:int,\n",
    "            n_class:int,\n",
    "        ):\n",
    "        super().__init__()\n",
    "        chs_per_depth = [in_channels * 2 ** i for i in range(depth)]\n",
    "        blocks_chns_it = pairwise(chs_per_depth)\n",
    "        self.res_blocks = [ResidualBlock(in_chns, out_chns) for in_chns, out_chns in blocks_chns_it]\n",
    "        self.res_blocks = nn.ModuleList(self.res_blocks)\n",
    "        self.mlp_head = nn.Sequential(\n",
    "            nn.LazyLinear(mlp_width),\n",
    "            nn.ReLU(),\n",
    "            nn.Linear(mlp_width, n_class),\n",
    "            nn.Softmax(dim=1),\n",
    "        )\n",
    "        \n",
    "        \n",
    "    def forward(self, x:Tensor) -> Tensor:\n",
    "        activation_maps = x\n",
    "        for res_block in self.res_blocks:\n",
    "            activation_maps = nn.functional.max_pool1d(res_block(activation_maps), 2)\n",
    "        # print(\"res block output shape:\", activation_maps.shape)\n",
    "        out = activation_maps.view(activation_maps.shape[0], -1)\n",
    "        # print(\"flatten mlp head input shape:\", out.shape)\n",
    "        out = self.mlp_head(out)\n",
    "        return out    "
   ]
  },
  {
   "cell_type": "markdown",
   "id": "bfc08e41",
   "metadata": {},
   "source": [
    "### Create model function"
   ]
  },
  {
   "cell_type": "code",
   "execution_count": 13,
   "id": "36e3e463",
   "metadata": {},
   "outputs": [
    {
     "name": "stdout",
     "output_type": "stream",
     "text": [
      "input channels: 66\n"
     ]
    }
   ],
   "source": [
    "def mk_model() -> nn.Module:\n",
    "    nb_in_chans = len(meta_data[\"feature_cols\"])\n",
    "    return (\n",
    "        Resnet(\n",
    "            in_channels=nb_in_chans,\n",
    "            depth=4,\n",
    "            mlp_width=256,\n",
    "            n_class=18\n",
    "        )\n",
    "        .to(device)\n",
    "    )\n",
    "\n",
    "print(\"input channels:\", len(meta_data[\"feature_cols\"]))"
   ]
  },
  {
   "cell_type": "markdown",
   "id": "8afc6e79",
   "metadata": {},
   "source": [
    "### Training loop"
   ]
  },
  {
   "cell_type": "code",
   "execution_count": 14,
   "id": "a69ec966",
   "metadata": {},
   "outputs": [],
   "source": [
    "def fit(epochs:int,\n",
    "        model: nn.Module,\n",
    "        scheduler: LRScheduler,\n",
    "        optimizer: torch.optim.Optimizer,\n",
    "        train_loader: DL,\n",
    "        criterion: callable=nn.L1Loss(),\n",
    "        evaluation_func: callable=None,\n",
    "        validation_loader: DL=None,\n",
    "        save_checkpoints=True,\n",
    "    ) -> tuple[DF, str]:\n",
    "    \"\"\"\n",
    "    Returns:\n",
    "        (training_metrics, path_to_checkpoints)\n",
    "    \"\"\"\n",
    "    # Setup\n",
    "    metrics: list[dict] = []\n",
    "    step = 0\n",
    "    model_device = next(model.parameters()).device\n",
    "    last_epoch_metric = {}\n",
    "    # Training loop\n",
    "    with Progress() as progress:\n",
    "        task: Task = progress.add_task(\n",
    "            \"training...\",\n",
    "            total=len(train_loader),\n",
    "        )\n",
    "        for epoch in range(epochs):\n",
    "            progress.update(\n",
    "                task,\n",
    "                description=f\"epoch: {epoch}\",\n",
    "                completed=0,\n",
    "            )\n",
    "            total_epoch_loss = 0\n",
    "            total_accuracy = 0\n",
    "            for batch_idx, (x, y) in enumerate(train_loader):\n",
    "                # forward\n",
    "                x = x.to(model_device)\n",
    "                y = y.to(model_device)\n",
    "                model.train()\n",
    "                optimizer.zero_grad()\n",
    "                y_pred: Tensor = model(x)\n",
    "                loss_value = criterion(y_pred, y)\n",
    "                # Verify loss value\n",
    "                if torch.isnan(loss_value).any().item():\n",
    "                    progress.print(\"Warning: Got NaN loss, stopped training.\")\n",
    "                    return DF.from_records(metrics)\n",
    "                if torch.isinf(loss_value).any().item():\n",
    "                    progress.print(\"Warning: Got infinite loss, stopped training.\")\n",
    "                    return DF.from_records(metrics)\n",
    "                # TODO: Use gradient clipping?\n",
    "                loss_value.backward()\n",
    "                optimizer.step()\n",
    "                if step > 0: # If it's not the first training step, idk why it throws an error otherwise\n",
    "                    scheduler.step()\n",
    "                # metrics\n",
    "                total_epoch_loss += loss_value.item()\n",
    "                metrics.append({\n",
    "                    \"step\": step,\n",
    "                    \"epoch\": epoch,\n",
    "                    \"batch_train_loss\": loss_value.item(),\n",
    "                    \"lr\": optimizer.state_dict()[\"param_groups\"][-1][\"lr\"],\n",
    "                })\n",
    "                step += 1\n",
    "                if \"validation_accuracy\" in last_epoch_metric:\n",
    "                    last_validation_acc = \"%.2f\" % last_epoch_metric[\"validation_accuracy\"]\n",
    "                    val_acc_str = \"val. acc: \" + last_validation_acc\n",
    "                else:\n",
    "                    val_acc_str = \"\"\n",
    "                progress.update(\n",
    "                    task,\n",
    "                    advance=1,\n",
    "                    description=f\"epoch: {epoch}, batch_loss: {(total_epoch_loss / (batch_idx+1)):.2f}, {val_acc_str}\"\n",
    "                )\n",
    "            # Post epoch evalution\n",
    "            metrics[-1][\"train_epoch_loss\"] = total_epoch_loss / len(train_loader)\n",
    "            metrics[-1][\"train_epoch_accuracy\"] = total_accuracy / len(train_loader)\n",
    "            if evaluation_func:\n",
    "                progress.update(\n",
    "                    task,\n",
    "                    completed=0,\n",
    "                    description=f\"epoch: {epoch}, evaluating...\"\n",
    "                )\n",
    "                eval_metrics = evaluation_func(model, criterion, validation_loader)\n",
    "                metrics[-1].update(eval_metrics)\n",
    "            last_epoch_metric = metrics[-1]\n",
    "\n",
    "    return DF.from_records(metrics)"
   ]
  },
  {
   "cell_type": "markdown",
   "id": "5a490227",
   "metadata": {},
   "source": [
    "### Create model and train model"
   ]
  },
  {
   "cell_type": "code",
   "execution_count": 15,
   "id": "34cd5bba",
   "metadata": {},
   "outputs": [],
   "source": [
    "def mk_model_and_fit(\n",
    "        train_loader:DL,\n",
    "        mk_scheduler:callable,\n",
    "        validation_loader:Optional[DL]=None,\n",
    "        save_checkpoints=False,\n",
    "    ) -> tuple[nn.Module, DF, list[str]]:\n",
    "    model = mk_model()\n",
    "    optimizer = torch.optim.AdamW(model.parameters(), STARTING_LR)\n",
    "    lr_scheduler = mk_scheduler(optimizer)\n",
    "    training_metrics = fit(\n",
    "        epochs=TRAINING_EPOCHS,\n",
    "        model=model,\n",
    "        scheduler=lr_scheduler,\n",
    "        optimizer=optimizer,\n",
    "        train_loader=train_loader,\n",
    "        criterion=nn.CrossEntropyLoss(),\n",
    "        # evaluation_func=evaluate_model if validation_loader else None,\n",
    "        validation_loader=validation_loader,\n",
    "        save_checkpoints=save_checkpoints,\n",
    "    )\n",
    "\n",
    "    return model, training_metrics"
   ]
  },
  {
   "cell_type": "markdown",
   "id": "9256152c",
   "metadata": {},
   "source": [
    "## Search max learning rate"
   ]
  },
  {
   "cell_type": "code",
   "execution_count": 16,
   "id": "40b0c8ef",
   "metadata": {},
   "outputs": [],
   "source": [
    "def post_process_mock_training_metrics(training_metrics:DF) -> DF:\n",
    "    training_metrics = (\n",
    "        training_metrics\n",
    "        .query(\"batch_train_loss.notna()\")\n",
    "        .set_index(\"lr\", drop=False)\n",
    "        .sort_index()\n",
    "    )\n",
    "    training_metrics[\"ewm_batch_train_loss\"] = (\n",
    "        training_metrics\n",
    "        .ewm(com=30, ignore_na=False)\n",
    "        [\"batch_train_loss\"]\n",
    "        .mean()\n",
    "    )\n",
    "    training_metrics[\"ewm_batch_train_loss_diff\"] = training_metrics[\"ewm_batch_train_loss\"].diff()\n",
    "    return training_metrics"
   ]
  },
  {
   "cell_type": "code",
   "execution_count": 17,
   "id": "7c231028",
   "metadata": {},
   "outputs": [],
   "source": [
    "def plt_lr_search_training_metrics(training_metrics:DF):\n",
    "    (    \n",
    "        px.line(\n",
    "            (\n",
    "                training_metrics\n",
    "                .reset_index(drop=True)\n",
    "                .melt(\n",
    "                    id_vars=\"lr\",\n",
    "                    value_vars=[\n",
    "                        \"batch_train_loss\",\n",
    "                        \"ewm_batch_train_loss\",\n",
    "                        \"ewm_batch_train_loss_diff\",\n",
    "                    ],\n",
    "                )\n",
    "            ),\n",
    "            x=\"lr\",\n",
    "            facet_row=\"variable\",\n",
    "            y=\"value\",\n",
    "            log_x=True,\n",
    "            height=750,\n",
    "        )\n",
    "        .update_yaxes(matches=None)\n",
    "        .show()\n",
    "    )"
   ]
  },
  {
   "cell_type": "code",
   "execution_count": 18,
   "id": "e9ae0c04",
   "metadata": {},
   "outputs": [
    {
     "data": {
      "application/vnd.jupyter.widget-view+json": {
       "model_id": "5c206c8d115a4fe0889d8c52c2fe5786",
       "version_major": 2,
       "version_minor": 0
      },
      "text/plain": [
       "Output()"
      ]
     },
     "metadata": {},
     "output_type": "display_data"
    },
    {
     "data": {
      "text/html": [
       "<pre style=\"white-space:pre;overflow-x:auto;line-height:normal;font-family:Menlo,'DejaVu Sans Mono',consolas,'Courier New',monospace\">Warning: Got NaN loss, stopped training.\n",
       "</pre>\n"
      ],
      "text/plain": [
       "Warning: Got NaN loss, stopped training.\n"
      ]
     },
     "metadata": {},
     "output_type": "display_data"
    },
    {
     "data": {
      "text/html": [
       "<pre style=\"white-space:pre;overflow-x:auto;line-height:normal;font-family:Menlo,'DejaVu Sans Mono',consolas,'Courier New',monospace\"></pre>\n"
      ],
      "text/plain": []
     },
     "metadata": {},
     "output_type": "display_data"
    },
    {
     "data": {
      "application/vnd.plotly.v1+json": {
       "config": {
        "plotlyServerURL": "https://plot.ly"
       },
       "data": [
        {
         "hovertemplate": "variable=batch_train_loss<br>lr=%{x}<br>value=%{y}<extra></extra>",
         "legendgroup": "",
         "line": {
          "color": "#636efa",
          "dash": "solid"
         },
         "marker": {
          "symbol": "circle"
         },
         "mode": "lines",
         "name": "",
         "showlegend": false,
         "type": "scattergl",
         "x": {
          "bdata": "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",
          "dtype": "f8"
         },
         "xaxis": "x3",
         "y": {
          "bdata": "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",
          "dtype": "f8"
         },
         "yaxis": "y3"
        },
        {
         "hovertemplate": "variable=ewm_batch_train_loss<br>lr=%{x}<br>value=%{y}<extra></extra>",
         "legendgroup": "",
         "line": {
          "color": "#636efa",
          "dash": "solid"
         },
         "marker": {
          "symbol": "circle"
         },
         "mode": "lines",
         "name": "",
         "showlegend": false,
         "type": "scattergl",
         "x": {
          "bdata": "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",
          "dtype": "f8"
         },
         "xaxis": "x2",
         "y": {
          "bdata": "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",
          "dtype": "f8"
         },
         "yaxis": "y2"
        },
        {
         "hovertemplate": "variable=ewm_batch_train_loss_diff<br>lr=%{x}<br>value=%{y}<extra></extra>",
         "legendgroup": "",
         "line": {
          "color": "#636efa",
          "dash": "solid"
         },
         "marker": {
          "symbol": "circle"
         },
         "mode": "lines",
         "name": "",
         "showlegend": false,
         "type": "scattergl",
         "x": {
          "bdata": "/Knx0k1iQD/OcAM+P4xAP5Oi3wictkA/zf1mRmXhQD/78DkMnAxBPwikv3JBOEE/wBMtlVZkQT94P4yR3JBBPxBpw4jUvUE/jmecnj/rQT9uDMz5HhlCP+qb+cNzR0I/WljGKT92Qj/qINVagqVCP84j0ok+1UI/KqR67HQFQz/j06S7JjZDP4fBRzNVZ0M/gVqDkgGZQz/PgagbLctDP207QRTZ/UM/qewYxQYxRD+WsUR6t2REP9jHK4PsmEQ/9g6QMqfNRD95npbe6AJFP/px0OCyOEU/cCtDlgZvRT/f63Ff5aVFP7ZCZqBQ3UU/BTS5wEkVRj/SVZwr0k1GP8IE40/rhkY/U7ALoJbARj/jPkmS1fpGP8GJjKCpNUc/iPGNSBRxRz/9CtcLF61HP7NkzG+z6Uc/tWW3/eomSD9yRdBCv2RIPy4dSNAxo0g/OxNTO0TiSD85oDId+CFJP6DuPxNPYkk/2lT2vkqjST8u6v3F7ORJP8M2NtI2J0o//f7AkSpqSj+AKg23ya1KPxbH4fgV8ko/zCdpEhE3Sz+EIDzDvHxLP0hebc8aw0s/qtyU/ywKTD95eNsg9VFMPxSgBgV1mkw/riGEgq7jTD/HF3Z0oy1NPy30vrpVeE0/0akNOsfDTT/B9enb+Q9OP5LHwI7vXE4/kcnwRaqqTj8GCdf5K/lOP+C+26d2SE8/Gzl/UoyYTz8y5WYBb+lPP/w9tWCQHVA/kKdQ0tFGUD9w3DfhfHBQP/ZWypuSmlA/HLkbExTFUD9nuPpaAvBQP4cb+IleG1E/4sltuSlHUT8v7YUFZXNRP1ElQo0RoFE/ps6CcjDNUT/1Wg7awvpRPya9mOvJKFI/AOjK0UZXUj8VYEq6OoZSPwvhwNWmtVI/fhbkV4zlUj+jaH137BVTP+LccW7IRlM/nQrKeSF4Uz9SJLrZ+KlTP1MVqtFP3FM/QrQ9qCcPVD+KCl2ngUJUPwuxPBxfdlQ/LEJmV8GqVD+O4cCsqd9UP5LZmXMZFVU/8k6tBhJLVT+dCi/ElIFVPxRa0w2juFU/gAbYSD7wVT+6Yg3eZyhWP4Rw3zkhYVY/KR1fzGuaVj/GlUsJSdRWP26zG2i6Dlc/d38HZMFJVz8a0BF8X4VXP7T9ETOWwVc/4bC9D2f+Vz+wybKc0ztYPy9ggWjdeVg/lt61BYa4WD9LNeMKz/dYPwcprRK6N1k/XLvSu0h4WT/grTipfLlZP0Eg9IFX+1k/iUlV8do9Wj/VTPKmCIFaP8MpslbixFo/5sjXuGkJWz+CJA2KoE5bP9WNbouIlFs/QA+WgiPbWz+Q66Y5cyJcP7g6WX95alw/RKQFJzizXD/UN7EIsfxcP+hjGQHmRl0/TgvA8diRXT9/uffAi91dPzv271kAKl4/sbjBrDh3Xj+K+nuuNsVePyBrMFn8E18/PUMArItjXz+sOSmr5rNfP3xMCbCHAmA/VDut7IMrYD8phnEV6VRgP2wZ8Da4fmA/FIByYPKoYD/rw/ijmNNgP3pfQBas/mA/tkHLzi0qYT+m4+bnHlZhPypws36AgmE/Fv4qs1OvYT/J3CiomdxhP3nzcINTCmI/WTO3bYI4Yj/SHKeSJ2diP/1X6yBElmI/jGA1StnFYj9aRUVD6PViP8578UNyJmM/SMcuh3hXYz/LNBhL/IhjPxUr99D+umM/Wo9LXYHtYz/e/tM3hSBkP5MdlqsLVGQ/CPrmBhaIZD/GhnObpbxkP2cpSb678WQ/lF/ex1knZT8iehsUgV1lP45uYwIzlGU/Bb+c9XDLZT9AeTpUPANmP2JMRYiWO2Y/G7Zk/4B0Zj9JR+gq/a1mP1EA0X8M6GY/ccXadrAiZz9C64WM6l1nP7HbIEG8mWc/ptPRGCfWZz+buaCbLBNoP2INgVXOUGg/W/Fb1g2PaD9fTRqy7M1oP5YLr4BsDWk/i28h3o5NaT+zh5dqVY5pP7K5YMrBz2k/omkAptURaj+cvDiqklRqP9F2FYj6l2o/cvX29A7caj+zRJ2q0SBrPzBSM2dEZms/+Dta7Wisaz+SvDQEQfNrPze0cnfOOmw/ns9cFxODbD+TTOC4EMxsP7PcmjXJFW0/lqbmaz5gbT+xZeY+cqttP0WpkZZm920/pDLBXx1Ebj8mczuMmJFuPw8qwRLa324/zSIa7+Mubz/KEyIiuH5vPzqe1bFYz28/lrev1GMQcD8awZKMgzlwPwhDa4sMY3A/yLG73v+McD+Pc7iWXrdwP6LGTsYp4nA/Qrkrg2INcT9uM8PlCTlxP6oSVwkhZXE/+Vf+C6mRcT82aKwOo75xPwNfODUQ7HE/cXRkpvEZcj+bdeWLSEhyP2JQahIWd3I/eLKjaVumcj/vu0vEGdZyP37FLVhSBnM/qzouXgY3cz8OiFISN2hzP+UdybPlmXM/J4fxhBPMcz9OlWTLwf5zPwqh/M/xMXQ/F+Dd3qRldD9p0H5H3Jl0P+W4sFyZznQ/3T+odN0DdT+LFwbpqTl1P73A3xYAcHU/8mPIXuGmdT8bwdkkT951Pz02vdBKFnY/Lt20zdVOdj+swKSK8Yd2PwApHHqfwXY/cwBfEuH7dj/QT2/NtzZ3PyzTFiklcnc/NKfwpiqudz9GD3PMyep3P4xU+SIEKHg/Wr7NN9tleD8YpDOcUKR4P++YceVl43g/gbHbrBwjeT/r492PdmN5P1uCBjB1pHk/dtAQMxrmeT/Ts+9CZyh6P91/2A1ea3o/Td1NRgCvej+YzSqjT/N6P4jKrd9NOHs/UQKEu/x9ez9rsNT6XcR7P3aTTGZzC3w/dYApyz5TfD+pE0b7wZt8P2F/Jc3+5Hw/+Xj/G/cufT9sRMzHrHl9P7XeULUhxX0/VkcrzlcRfj9U6d4AUV5+P/sj4UAPrH4/s/OlhpT6fj9Cu6zP4kl/P8UtjR78mX8/v1kEe+Lqfz/D6gD5Sx6AP7aG2kqPR4A/+lnNPjxxgD89KkXjU5uAP0MEYknXxYA/JSj/hMfwgD9EB7qsJRyBPyNU+dnyR4E/VyT0KDB0gT+0JLm43qCBP/PfNav/zYE/8xc+JZT7gT/KMZNOnSmCP9m061EcWII/Dt36XBKHgj+MQHiggLaCP9+IJ1Bo5oI/AEDgosoWgz9IsZXSqEeDP5PeXhwEeYM/w4l+wN2qgz/SUmsCN92DP7Dq1ygREIQ/HVu7fW1DhD+0Y1lOTXeEP2HsSuuxq4Q/d42GqJzghD+aLWndDhaFP721vuQJTIU/ZdvKHI+ChT9uAVLnn7mFP4Yvoqk98YU/pCCczGkphj+maLy8JWKGP2CxJOpym4Y/Tw+lyFLVhj8vbsXPxg+HP7AVz3rQSoc/i0bWSHGGhz818MO8qsKHP2l/X11+/4c/zsVYte08iD/8+lFT+nqIPxjX6cmluYg/U8fFr/H4iD+FPJyf3ziJPyoUPzhxeYk/DBymHKi6iT/PsPnzhfyJP7J3nWkMP4o/xjM7LT2Cij/ats3yGcaKP3Huq3KkCos//AyUad5Piz+tz7aYyZWLPx3hwsVn3Is/IFnwurojjD8EWgxHxGuMP47LhD2GtIw//jN0dgL+jD9kr63OOkiNP6AFyScxk40/SN8uaOfejT/WGSV7XyuOP2A721CbeI4/NgZ33pzGjj+sLCEeZhWPP3AlEg/5ZI8/sSCftVe1jz87j6MNQgOQPzkTYCdALJA/21ACMqdVkD9EazA6eH+QP2FDQE+0qZA/iFg+g1zUkD+yuvTqcf+QP3wO8p31KpE/HKOQtuhWkT+Amv1RTIORP7ojQJAhsJE/7cdAlGndkT/tydCDJQuSP7+YsYdWOZI/J1Wcy/1nkj98akl+HJeSP+k6eNGzxpI/V9/2+cT2kj8s+6kvUSeTPxWklK1ZWJM/C17gsd+Jkz/JK+V95LuTP+ezMVZp7pM/0nqTgm8hlD/PMR9O+FSUP0QbOQcFiZQ/gISd/5a9lD8vVWmMr/KUP8G0IgZQKJU/7MXByHlelT+LeLkzLpWVPxJyAKpuzJU/0AwakjwElj85bh9WmTyWP3K0yGOGdZY/Xzt2LAWvlj9o+TklF+mWPzj04Ma9I5c/s838jfpelz9bae36zpqXP2mq6pE815c/1koO20QUmD+Wy11i6VGYP0N+1LcrkJg/fKhtbw3PmD82wS4hkA6ZP0PIMWm1Tpk/WLiv536PmT/KEwtB7tCZP0+M2h0FE5o/CMbzKsVVmj8YNnYZMJmaPwkd1p5H3Zo/U53ndA0imz9C7ulZg2ebP4WrkhCrrZs/t0EZYIb0mz8ieEIUFzycPw4YbP1ehJw/5bGY8F/NnD95gHvHGxedP7hqhGCUYZ0/GyTsnsusnT8mbMBqw/idPztt8LB9RZ4/IDtZY/ySnj96cdJ4QeGeP53yOu1OMJ8/9saFwSaAnz9uHcf7ytCfP4u2oNMeEaA/NVw5akA6oD9K+ZBMy2OgP3ZDNojAjaA/kwFqLSG4oD878iVP7uKgPwPEIwMpDqE/kh/kYdI5oT+6w7WG62WhP8SzvI91kqE/IHj5nXG/oT+lcVDV4OyhP5U/kVzEGqI/ijh+XR1Joj+L9tME7XeiP3P2UII0p6I/1Uq9CPXWoj+fYvLNLwejP5zj4grmN6M/Fpmi+xhpoz/Hdm7fyZqjP0mwtPj5zKM/QOUcjar/oz9sYpDl3DKkP+N3Qk6SZqQ/m+S4FsyapD+IV9SRi8+kP30G2RXSBKU/CVt3/KA6pT+MtdSi+XClP7lGlGndp6U/wP/ftE3fpT9ZmXHsSxemP+yxm3vZT6Y/EANT0feIpj+drjdgqMKmP4+jnp7s/KY/9BqbBsY3pz8lLQgWNnOnP4R/kk4+r6c/CAvCNeDrpz/I+wNVHSmoP9KptDn3Zqg/haspdW+lqD+3Abych+SoP+Rd0klBJKk/q4LrGZ5kqT/bvqiun6WpP1OD2K1H56k//xOBwZcpqj8yVOuXkWyqP6OureM2sKo/WBm3W4n0qj/CNVq7ijmrP1aNWMI8f6s/6ertNKHFqz8Z0dvbuQysPxIOdYSIVKw/7mypAA+drD8PhREnT+asP6un+tJKMK0/6Oty5AN7rT/JWVVAfMatP0k0VtC1Eq4/42IPg7Jfrj/q+gxMdK2uP/Lo2SP9+64/o7oMCE9Lrz9OiVT7a5uvP48FhgVW7K8/K1LUmQcfsD/U9gHMTEiwP712FqX7cbA/cuOJMxWcsD8UtYiImsawP+S2+reM8bA/hQWK2OwcsT8tH6oDvEixP+MFn1X7dLE/B3SE7auhsT9FI1Xtzs6xPy8m8nll/LE/pVQqu3Aqsj9Ay8Hb8ViyP+x9eQnqh7I/590WdVq3sj9Sk2tSROeyP45KXdioF7M/ipXtQIlIsz9G4UHJ5nmzP7B/q7HCq7M/FsavPR7esz9jQBC0+hC0P1r50l5ZRLQ/AdhKizt4tD98EiCKoqy0P4K2WK+P4bQ/sUdhUgQXtT/ucxXOAU21Pw3eyICJg7U//v5PzJy6tT+0HQkWPfK1PwBe5cZrKrY/n+ZxSypjtj+wHuETepy2P9YCFJRc1rY/OZKjQ9MQtz+vU+qd30u3Pz7zDSKDh7c/PPgIU7/Dtz9RlLS3lQC4P4+L0toHPrg/6jUXSxd8uD9LmjObxbq4P4Sj32EU+rg/ZG/kOQU6uT8vuCbCmXq5P79YsZ3Tu7k/juu/c7T9uT/zhMnvPUC6P9eIi8Fxg7o/IZwUnVHHuj8sss863wu7P4Q2j1ccUbs/OVOYtAqXuz8OVK4XrN27P9EmHksCJbw/IPnJHQ9tvD/w8zRj1LW8PxkVj/NT/7w/OyfBq49JvT9D2HhtiZS9P+juNB9D4L0/YJ9RrL4svj+w/xQF/nm+P9ibux4DyL4/NCqF888Wvz9jYMGCZma/Pwjp3NDItr8/XD23c/wDwD83CKJq/CzAP+YhOFdlVsA/zOQrRjiAwD9diN9GdqrAPwwCbGsg1cA/1PenyDcAwT+MxC52vSvBPzGOZ46yV8E/VW6MLhiEwT/grLF277DBP1MNzYk53sE/vS69jfcLwj+R/lCrKjrCP40+Tw7UaMI/5R1+5fSXwj/g5apijsfCPxi6sbqh98I/mGyFJTAowz8AZjfeOlnDP+ah/yLDisM/rb9ENcq8wz/+J6RZUe/DPx1H+tdZIsQ/Ttxq++RVxD+CXmkS9InEP352wW6IvsQ/uI6fZaPzxD8beZlPRinFP/Uqt4hyX8U/Oo97cCmWxT9hb+1pbM3FPw5zoNs8BcY/xDa+L5w9xj/geQ/Ui3bGPw5kBToNsMY/f+LC1iHqxj8VHSYjyyTHP8YD0psKYMc/dPQ3weGbxz91eaEXUtjHPxIhOiddFcg/NG4ZfARTyD+B4kymSZHIPzYi4jku0Mg/6jHxzrMPyT+TzqYB3E/JPwDgTnKokMk/FQZfxRrSyT8GQYGjNBTKP+C0nrn3Vso/m4jquGWayj8D4exWgN7KP773jU1JI8s/s04hW8Joyz8gAHFC7a7LP6YrycrL9cs/kYADwF89zD+x5ZLyqoXMPwc/jzevzsw/lFHBaG4YzT+Yxa5k6mLNP5JHpg4lrs0/ScjLTiD6zT813CQS3kbOP5I6pUpglM4/cFw776jizj8VPN37uTHPPwE1lXGVgc8/5QSPVj3Szz/0dhLb2RHQP0N9dlD9OtA/tzFjFopk0D/Qi3M6gY7QP5yz9MzjuNA/m+js4LLj0D9LeiKM7w7RP47SIueaOtE/GpJJDbZm0T8Vv8ccQpPRPx0GqzZAwNE/2w3lfrHt0T9b3VIclxvSP1RVxDjySdI/lbwDAcR40j+/X92kDajSP4tEJ1fQ19I/wPDITQ0I0z8URcPBxTjTPytsOO/6adM/5N1zFa6b0z8md/J24M3TP2ymalmTANQ/Na3UBcgz1D+f9nLIf2fUP1SD2vC7m9Q/C2v70X3Q1D/LcynCxgXVPzG/JBuYO9U/540iOvNx1T+QGdZ/2ajVP1eFeVBM4NU/ZeXWE00Y1j9zXVE13VDWP7RW7iP+idY/Vc1eUrHD1j/JtQg3+P3WPyp6EEzUONc/3o9iD0d01z/JJb0CUrDXP0nruav27Nc/M/DXkzYq2D8fnoVIE2jYPznLKluOptg/2+YyYanl2D80QBf0ZSXZPz9nabHFZdk/R6jdOsqm2T9IolU2dejZP2L46k3IKto/tR76L8Vt2j/bQi2PbbHaP1NQhyLD9do/IRFvpcc62z/narrXfIDbP8a4uX3kxts/TUJDYAAO3D/Ez75M0lXcPxVcMRVcntw/r+RIkJ/n3D+cV2iZnjHdPyqgsxBbfN0/aNIb29bH3T/KdWviExTeP0rvUhUUYd4/SAt1Z9mu3j+Op3PRZf3eP7Z9/FC7TN8/VA7W6Nuc3z8xreygye3fP3bXL0PDH+A/LVzHVQpJ4D/6lxMUu3LgP9vomIzWnOA/3TKQ0F3H4D/5zO3zUfLgP6p/aA20HeE/bJWANoVJ4T9R/YaLxnXhP9p/pCt5ouE/QAbhOJ7P4T9l9CrYNv3hP4+VXjFEK+I/LZxNb8dZ4j/HtMa/wYjiP1gsnVM0uOI/OqqwXiDo4j/Z/fQXhxjjP2MAerlpSeM/oYpzgMl64z83f0Gtp6zjP3Lpd4MF3+M/5jDnSeQR5D8HYqRKRUXkP/iLEdMpeeQ/xTPmM5Ot5D8/3TfBguLkP7OpgtL5F+U/rQyywvlN5T8Llynwg4TlP47YzbyZu+U/KVgNjjzz5T9Io+nMbSvmP0Z0AOYuZOY/UfCUSYGd5j/2/JhrZtfmP5KttsPfEec/6MhZze5M5z8TZ7kHlYjnPxuo4fXTxOc/Y4O9Hq0B6D85sCANIj/oP7+n0U80feg/d8CTeeW76D+rYzEhN/voP/xchuEqO+k/UUSKWcJ76T9xAlss/7zpP4xwRwHj/uk/9BLag29B6j9O7+NjpoTqP39+h1WJyOo/pLpDERoN6z9PSf9TWlLrP13CE99LmOs/qxNZePDe6z/yATHqSSbsPxbHkgNabuw/Ms4WmCK37D+zjQKApQDtP8J/VJjkSu0/WznQwuGV7T9UoArmnuHtP6dAdu0dLu4/TcFvyWB77j/+eEpvacnuPyojXdk5GO8/cLUOB9Rn7z/5VeP8ObjvP3+5ROK2BPA/6X1ztrgt8D/kXROFI1fwP6Hr4lr4gPA/qrVQRzir8D8fKIJc5NXwP5B/Wq/9APE/o82BV4Us8T+xD2xvfFjxP4dXYBTkhPE/fAaAZr2x8T8IG86ICd/xPxCRNqHJDPI/E9WV2P468j9oSsBaqmnyP8DkiVbNmPI/HtXN/WjI8j9zSnaFfvjyPxNGhCUPKfM/N4QXGRxa8z+9eHaepovzP1lgFvevvfM/bmajZznw8z/G3wg4RCP0P1WaebPRVvQ/R0J4KOOK9D+K3N/oeb/0PxFX7EmX9PQ/+i5DpDwq9T/jLPxTa2D1P5M3qrgkl/U/QD1kNWrO9T+fM84wPQb2PwQvIhWfPvY/xJA5UJF39j8YTZZTFbH2P79IbJQs6/Y/mM6qi9gl9z92HQa2GmH3P2UOAZT0nPc/qdP2qWfZ9z+o0CSAdRb4PxCLtKIfVPg/arXFoWeS+D9jU3gRT9H4PxD49onXEPk/Yh6BpwJR+T8gnHUK0pH5P5svXVdH0/k/Zyj1NmQV+j9eKzpWKlj6PzMSc2abm/o/3eY7Hbnf+j8Y+5A0hST7P1Mc2moBavs/SuT1gi+w+z+SJkVEEff7P3B7tnqoPvw/MejR9vaG/D9lpcSN/s/8PzUDbRnBGf0/M2xmeEBk/T/ihhWOfq/9P1B2tEJ9+/0/Djpfgz5I/j/WLSBCxJX+Py2p/HUQ5P4/Wb8BGyUz/z/7H1EyBIP/P58YLsKv0/8/y1sF65QSAEA7iEo/ujsAQEZR4uhIZQBAzvBz9UGPAECn8Fh1prkAQMcRpHt35ABAKEUoHrYPAUB9tn91YzsBQPToEp2AZwFAKuYfsw6UAUCCf8HYDsEBQBCi9jGC7gFASb2p5WkcAkCePLgdx0oCQEMU+gabeQJARGFJ0eaoAkAeHYqvq9gCQBflsdfqCANAdtXPgqU5A0DgeBTt3GoDQAHM2VWSnANAuVWr/8bOA0AFVE4wfAEEQNL9yTCzNARA9dlvTW1oBEB/K+TVq5wEQJxzJh1w0QRAPwmaebsGBUDHxg5FjzwFQOPNydzscgVA3mGOodWpBUCb2Kb3SuEFQHSi7UZOGQZAM2nW+uBRBkBpRneCBIsGQFsRklC6xAZAu8Sd2wP/BkB1/M+d4jkHQMiLJhVYdQdA5itxw2WxB0BhQ1suDe4HQJ3Gdd9PKwhAjzFBZC9pCEAEmzdOracIQLDh1jLL5ghATvOqq4omCUAPLlhW7WYJQJncpdT0pwlA4syIzKLpCUAiAi7o+CsKQCiCBdb4bgpAVz7NSKSyCkCQGJz3/PYKQFQE7Z0EPAtAX0Sq+7yBC0AOxTjVJ8gLQNOTg/NGDwxABnQHJBxXDEBYkd44qZ8MQD1QzAjw6AxAkDxJb/IyDUDFFo9Msn0NQPX/pIUxyQ1AFMVrBHIVDkCcSaq3dWIOQAcSGpM+sA5AXu5zj87+DkA7xXyqJ04PQIZ/EudLng9ARxU5TT3vD0Dy3RP1fiAQQAwbK+jHSRBA/yLFi3pzEEDJoHLul50QQPTkeCEhyBBAw9LYOBfzEEAc31VLex4RQFchfXJOShFAJ3asypF2EUDGtBlzRqMRQJX22Y1t0BFAXvHoPwj+EUBsZDCxFywSQKCYjwydWhJAwPPif5mJEkAmnws8DrkSQAVC93T86BJAe8+nYWUZE0CYaDs8SkoTQJpS9EGsexNAggFBs4ytE0BIN8TT7N8TQNY3XerNEhRA/xEwQTFGFECy/a0lGHoUQJjPneiDrhRAT4Ik3nXjFECI1c1d7xgVQDADlcLxThVA5ortan6FFUD4E8y4lrwVQBdmrxE89BVACHmp3m8sFkCGm2iMM2UWQI+xQIuInhZAYIo0T3DYFkBSTv9P7BIXQN0EHgn+TRdA/jLZ+aaJF0A5kk6l6MUXQHzgepLEAhhAIclDTDxAGEBN54FhUX4YQO/hCmUFvRhAoqG77Vn8GECwoIKWUDwZQH9Vav7qfBlAorejyCq+GUDf35CcEQAaQGTDzyWhQhpAdwpFFNuFGkDkAiccwckaQHGuCPZUDhtAoO3kXphTG0ALxykYjZkbQJjLw+c04BtA35cpmJEnHED9cmf4pG8cQC4LK9xwuBxAaVDPG/cBHUBgbWiUOUwdQBzfzyc6lx1AlauwvPriHUCKt5M+fS8eQO877J3DfB5AQVsk0M/KHkAM16nPoxkfQP/l+ptBaR9A2yqzOau5H0BIZkxZcQUgQPLX1Ap1LiBAd2mUu+FXIEBm5VV4uIEgQO8xlFD6qyBAbzKBVqjWIECeugyfwwEhQIaT60FNLSFAcJKeWUZZIUD7wXkDsIUhQIWdq1+LsiFAGF9EkdnfIUALYD2+mw0iQIaMgA/TOyJAF+rvsIBqIkCNMW3RpZkiQEl84aJDySJANQVFWlv5IkCU/aYv7ikjQOB1NV79WiNA5VpFJIqMI0BTh1rDlb4jQPXpL4Ah8SNAx8C/oi4kJEAb6Ut2vlckQAlFZknSiyRAXjb5bWvAJEA7L1A5i/UkQKpYIAQzKyVAUE+RKmRhJUCB9kUMIJglQO5hZQxozyVAHNajkT0HJkDu30sGoj8mQHODR9iWeCZANIIpeR2yJkBEuTZeN+wmQEeXbwDmJidAtqqZ3CpiJ0CUSElzB54nQN1L60h92idA5+3O5Y0XKED2ty/WOlUoQEiOP6qFkyhA09Qw9m/SKED+rUBS+xEpQJNTwVopUilALIoksPuSKUBlLwb3c9QpQBLjNtiTFipAvsvGAF1ZKkC9dhAi0ZwqQBbUw/Hx4CpAh07xKcElK0D0/xSJQGsrQIMCItJxsStAst6NzFb4K0CvFlxE8T8sQDvPKQpDiCxAbJY5803RLECRSH/ZExstQIgTrJuWZS1A2Zg6HdiwLUDbLntG2vwtQD9BoASfSS5AQtHKSSiXLkDpFRcNeOUuQIg8qUqQNC9A8Em6A3OEL0CZHKU+ItUvQAvIeQNQEzBAFeG1Nnc8MEDvvA7EB2YwQGzYN7kCkDBAtR+XJmm6MEDJ1UsfPOUwQK+NNbl8EDFAgDX7DCw8MUB6MxI2S2gxQEaVxVLblDFApVE9hN3BMUCznIXuUu8xQOhOlrg8HTJADl9aDJxLMkBeb7cWcnoyQOxtlQfAqTJAn0jmEYfZMkDetK1ryAkzQCgLCU6FOjNAyjY39b5rM0DmuaCgdp0zQP/F35KtzzNAQmnIEWUCNEC20HBmnjU0QJmfOd1aaTRAE1zWxZudNEB68VVzYtI0QF9IKzywBzVAnfQ1eoY9NUCf+cqK5nM1QBSlvc7RqjVAVIBoqkniNUCnWLaFTxo2QKleK8zkUjZADF3u7AqMNkDwBtJaw8U2QAxeXowPADdA6DDa+/A6N0BlsVQnaXY3QM8jr5B5sjdAuqamvSPvN0DqE943aSw4QIP654xLajhAx7JQTsyoOECbi6gR7ec4QB8SjnCvJzlAlXO4CBVoOUDc+QF8H6k5QMKicnDQ6jlAd9JKkCktOkBfIQ6KLHA6QIxFjhDbszpAKhj22jb4OkAgt9SkQT07QDLDKC79gjtA6LprO2vJO0CJcp2VjRA8QHGpTwpmWDxADr2xa/agPEDTeZyQQOo8QGcKnlRGND1AYwUGmAl/PUDsmfE/jMo9QHbbVzbQFj5ABC0WatdjPkAwzPzOo7E+QE982103AD9ACFKOFJRPP0Cnnwr2u58/QIcCbAqx8D9A9ciArzohQEDEly2DhUpAQCB9Kww6dEBAlHEXWVmeQEC3MkN75MhAQKowvIbc80BAUI1SkkIfQUByLaC3F0tBQPvbDxNdd0FAdn/kwxOkQUAEYkDsPNFBQPWLLLHZ/kFAMjGgOussQkCwMYizcltCQBGtzklxikJAraliLui5QkA2zz+V2OlCQCA1drVDGkNABEUyySpLQ0A6scQNj3xDQM1/qsNxrkNACiqVLtTgQ0Dc0HKVtxNEQCaGdkIdR0RAVasggwZ7REBeZUeodK9EQGImHwZp5ERAK01D9OQZRUC92r7N6U9FQDU+FfF4hkVAJjdLwJO9RUC9zu+gO/VFQNlnJfxxLUZAVOaqPjhmRkDA7eTYj59GQM835z562UZAmwJ+6PgTR0AdlzdRDU9HQPznbfi4ikdABklQYf3GR0CEP+0S3ANIQKxrPJhWQUhAeIsogG5/SEAbl5ldJb5IQFb3fsd8/UhA+NXZWHY9SUDAiMewE35JQOsWjHJWv0lAtdmcRUABSkALOKvV0kNKQLl9r9IPh0pAV87z8PjKSkA+NB/pjw9LQM7LQHjWVEtASAvbX86aS0COJ+9leeFLQAiWCFXZKExAA6xI/O9wTEDQW3Ivv7lMQO4P9sZIA01AkqT9n45NTUDRf3ickphNQMbIJ6NW5E1A+72qn9wwTkBnK4uCJn5OQFEASkE2zE5AcQVs1g0bT0CTs4ZBr2pPQCErTYccu09AbKbO2CsGUEACesZnMS9QQE+pu/qfWFBAzTeFnniCUEDhY6pivKxQQLiIaVls11BAxBG/l4kCUUAGgGw1FS5RQE6B/0wQWlFAoxnZ+3uGUUAD3zRiWbNRQKRHMKOp4FFA6wrS5G0OUkBElRFQpzxSQBSP3hBXa1JA6XYoVn6aUkAkT+ZRHspSQEtfHjk4+lJANQnuQ80qU0BCspGt3ltTQNfAbLRtjVNASq4Rmnu/U0B5LUqjCfJTQD9mHxgZJVRA/UXiQ6tYVEBp5TN1wYxUQN0DDv5cwVRAYpjLM3/2VECgeDFvKSxVQP4VdwxdYlVAGFFPaxuZVUDTY/HuZdBVQEPiIf49CFZAm9I7A6VAVkBk3DlsnHlWQDyPv6ols1ZAT8EiNELtVkDNBXWB8ydXQJ47jQ87Y1dAiTQRXxqfV0AQdX/0kttXQEYNOVimGFhA2YqLFlZWWECOBLu/o5RYQHs/DOiQ01hAMu7OJx8TWUAtCmgbUFNZQLhHXGMllFlAmaRapKDVWUDEEUeHwxdaQFg4RbmPWlpAMFrD6waeWkBKToXUKuJaQFCZry39JltAh6LStX9sW0BvBfYvtLJbQF4ApGOc+VtAXwD1HDpBXECdSpssj4lcQK7D7med0lxA/9T4qGYcXUC6cIDO7GZdQGo0Frwxsl1As6ogWjf+XUBorOiV/0peQFXhpWGMmF5AB2GLtN/mXkDrc9SK+zVfQBR10eXhhV9A+NT0y5TWX0DAHnAkCxRgQNzruDY0PWBAvdnop8ZmYEC3qL+Fw5BgQNinr+Aru2BAuZzkywDmYEADvUpdQxFhQMi5la30PGFA69xH2BVpYUC6OLn7p5VhQO/pHjmswmFARmyStCPwYUDWARmVDx5iQGAtqwRxTGJAwD88MEl7YkC1+MFHmapiQDI7PH5i2mJAY9W8CaYKY0CkXG8jZTtjQJEdoQehbGNAbCDJ9VqeY0AHQpAwlNBjQGhh2f1NA2RAYaLJpok2ZEBIxdB3SGpkQA6UscCLnmRA5WSK1FTTZEC0st0JpQhlQIjLmrp9PmVAP5UmROB0ZUCpaGQHzqtlQE8Dv2hI42VAJJAx0FAbZkBYx1Cp6FNmQH8lVGMRjWZAWjofcczGZkBqD0tJGwFnQJymL2b/O2dAPJHtRXp3Z0B9n3dqjbNnQMOonFk68GdAAm0RnYItaEBhj3rCZ2toQGqqdlvrqWhACn6o/Q7paECfN8FC1ChpQFbUisg8aWlAJJ7yMEqqaUCQwxMi/utpQKMKQkZaLmpAOZ8UTGBxakD6/HDmEbVqQET1lcxw+WpAUtEmun4+a0DbkDZvPYRrQIFFU7CuymtAUouRRtQRbECiHpj/r1lsQJSPq61DomxAkxO6J5HrbEANdWdJmjVtQL4hGfNggG1A11cCCufLbUBScjB4LhhuQL5Ulyw5ZW5A3/YdGwmzbkBhEKs8oAFvQAblMY8AUW9AjjG/FSyhb0C7OYbYJPJvQOD7dnL2IXBAtzbPJkNLcEC+C0eV+XRwQJ/Bh8wan3BAj4Pv3afJcEAdT5jdofRwQL/zXuIJIHFARCTqBeFLcUBjmrFkKHhxQJJMBR7hpHFATLYUVAzScUAAM/Yrq/9xQNVrrs2+LXJAbtg3ZEhcckDqUoodSYtyQEO/oirCunJAS8aKv7TqckBwpGATIhtzQHsMX2ALTHNAhx7l43F9c0BQc37eVq9zQCU865O74XNAoHcoS6EUdEBiO3hOCUh0QAQTauv0e3RAfHTjcmWwdEAhSig5XOV0QI2S45XaGnVAlBYw5OFQdUCGNaGCc4d1QPvHS9OQvnVA",
          "dtype": "f8"
         },
         "xaxis": "x",
         "y": {
          "bdata": "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",
          "dtype": "f8"
         },
         "yaxis": "y"
        }
       ],
       "layout": {
        "annotations": [
         {
          "font": {},
          "showarrow": false,
          "text": "variable=ewm_batch_train_loss_diff",
          "textangle": 90,
          "x": 0.98,
          "xanchor": "left",
          "xref": "paper",
          "y": 0.15666666666666665,
          "yanchor": "middle",
          "yref": "paper"
         },
         {
          "font": {},
          "showarrow": false,
          "text": "variable=ewm_batch_train_loss",
          "textangle": 90,
          "x": 0.98,
          "xanchor": "left",
          "xref": "paper",
          "y": 0.4999999999999999,
          "yanchor": "middle",
          "yref": "paper"
         },
         {
          "font": {},
          "showarrow": false,
          "text": "variable=batch_train_loss",
          "textangle": 90,
          "x": 0.98,
          "xanchor": "left",
          "xref": "paper",
          "y": 0.8433333333333332,
          "yanchor": "middle",
          "yref": "paper"
         }
        ],
        "height": 750,
        "legend": {
         "tracegroupgap": 0
        },
        "margin": {
         "t": 60
        },
        "template": {
         "data": {
          "bar": [
           {
            "error_x": {
             "color": "#2a3f5f"
            },
            "error_y": {
             "color": "#2a3f5f"
            },
            "marker": {
             "line": {
              "color": "#E5ECF6",
              "width": 0.5
             },
             "pattern": {
              "fillmode": "overlay",
              "size": 10,
              "solidity": 0.2
             }
            },
            "type": "bar"
           }
          ],
          "barpolar": [
           {
            "marker": {
             "line": {
              "color": "#E5ECF6",
              "width": 0.5
             },
             "pattern": {
              "fillmode": "overlay",
              "size": 10,
              "solidity": 0.2
             }
            },
            "type": "barpolar"
           }
          ],
          "carpet": [
           {
            "aaxis": {
             "endlinecolor": "#2a3f5f",
             "gridcolor": "white",
             "linecolor": "white",
             "minorgridcolor": "white",
             "startlinecolor": "#2a3f5f"
            },
            "baxis": {
             "endlinecolor": "#2a3f5f",
             "gridcolor": "white",
             "linecolor": "white",
             "minorgridcolor": "white",
             "startlinecolor": "#2a3f5f"
            },
            "type": "carpet"
           }
          ],
          "choropleth": [
           {
            "colorbar": {
             "outlinewidth": 0,
             "ticks": ""
            },
            "type": "choropleth"
           }
          ],
          "contour": [
           {
            "colorbar": {
             "outlinewidth": 0,
             "ticks": ""
            },
            "colorscale": [
             [
              0,
              "#0d0887"
             ],
             [
              0.1111111111111111,
              "#46039f"
             ],
             [
              0.2222222222222222,
              "#7201a8"
             ],
             [
              0.3333333333333333,
              "#9c179e"
             ],
             [
              0.4444444444444444,
              "#bd3786"
             ],
             [
              0.5555555555555556,
              "#d8576b"
             ],
             [
              0.6666666666666666,
              "#ed7953"
             ],
             [
              0.7777777777777778,
              "#fb9f3a"
             ],
             [
              0.8888888888888888,
              "#fdca26"
             ],
             [
              1,
              "#f0f921"
             ]
            ],
            "type": "contour"
           }
          ],
          "contourcarpet": [
           {
            "colorbar": {
             "outlinewidth": 0,
             "ticks": ""
            },
            "type": "contourcarpet"
           }
          ],
          "heatmap": [
           {
            "colorbar": {
             "outlinewidth": 0,
             "ticks": ""
            },
            "colorscale": [
             [
              0,
              "#0d0887"
             ],
             [
              0.1111111111111111,
              "#46039f"
             ],
             [
              0.2222222222222222,
              "#7201a8"
             ],
             [
              0.3333333333333333,
              "#9c179e"
             ],
             [
              0.4444444444444444,
              "#bd3786"
             ],
             [
              0.5555555555555556,
              "#d8576b"
             ],
             [
              0.6666666666666666,
              "#ed7953"
             ],
             [
              0.7777777777777778,
              "#fb9f3a"
             ],
             [
              0.8888888888888888,
              "#fdca26"
             ],
             [
              1,
              "#f0f921"
             ]
            ],
            "type": "heatmap"
           }
          ],
          "histogram": [
           {
            "marker": {
             "pattern": {
              "fillmode": "overlay",
              "size": 10,
              "solidity": 0.2
             }
            },
            "type": "histogram"
           }
          ],
          "histogram2d": [
           {
            "colorbar": {
             "outlinewidth": 0,
             "ticks": ""
            },
            "colorscale": [
             [
              0,
              "#0d0887"
             ],
             [
              0.1111111111111111,
              "#46039f"
             ],
             [
              0.2222222222222222,
              "#7201a8"
             ],
             [
              0.3333333333333333,
              "#9c179e"
             ],
             [
              0.4444444444444444,
              "#bd3786"
             ],
             [
              0.5555555555555556,
              "#d8576b"
             ],
             [
              0.6666666666666666,
              "#ed7953"
             ],
             [
              0.7777777777777778,
              "#fb9f3a"
             ],
             [
              0.8888888888888888,
              "#fdca26"
             ],
             [
              1,
              "#f0f921"
             ]
            ],
            "type": "histogram2d"
           }
          ],
          "histogram2dcontour": [
           {
            "colorbar": {
             "outlinewidth": 0,
             "ticks": ""
            },
            "colorscale": [
             [
              0,
              "#0d0887"
             ],
             [
              0.1111111111111111,
              "#46039f"
             ],
             [
              0.2222222222222222,
              "#7201a8"
             ],
             [
              0.3333333333333333,
              "#9c179e"
             ],
             [
              0.4444444444444444,
              "#bd3786"
             ],
             [
              0.5555555555555556,
              "#d8576b"
             ],
             [
              0.6666666666666666,
              "#ed7953"
             ],
             [
              0.7777777777777778,
              "#fb9f3a"
             ],
             [
              0.8888888888888888,
              "#fdca26"
             ],
             [
              1,
              "#f0f921"
             ]
            ],
            "type": "histogram2dcontour"
           }
          ],
          "mesh3d": [
           {
            "colorbar": {
             "outlinewidth": 0,
             "ticks": ""
            },
            "type": "mesh3d"
           }
          ],
          "parcoords": [
           {
            "line": {
             "colorbar": {
              "outlinewidth": 0,
              "ticks": ""
             }
            },
            "type": "parcoords"
           }
          ],
          "pie": [
           {
            "automargin": true,
            "type": "pie"
           }
          ],
          "scatter": [
           {
            "fillpattern": {
             "fillmode": "overlay",
             "size": 10,
             "solidity": 0.2
            },
            "type": "scatter"
           }
          ],
          "scatter3d": [
           {
            "line": {
             "colorbar": {
              "outlinewidth": 0,
              "ticks": ""
             }
            },
            "marker": {
             "colorbar": {
              "outlinewidth": 0,
              "ticks": ""
             }
            },
            "type": "scatter3d"
           }
          ],
          "scattercarpet": [
           {
            "marker": {
             "colorbar": {
              "outlinewidth": 0,
              "ticks": ""
             }
            },
            "type": "scattercarpet"
           }
          ],
          "scattergeo": [
           {
            "marker": {
             "colorbar": {
              "outlinewidth": 0,
              "ticks": ""
             }
            },
            "type": "scattergeo"
           }
          ],
          "scattergl": [
           {
            "marker": {
             "colorbar": {
              "outlinewidth": 0,
              "ticks": ""
             }
            },
            "type": "scattergl"
           }
          ],
          "scattermap": [
           {
            "marker": {
             "colorbar": {
              "outlinewidth": 0,
              "ticks": ""
             }
            },
            "type": "scattermap"
           }
          ],
          "scattermapbox": [
           {
            "marker": {
             "colorbar": {
              "outlinewidth": 0,
              "ticks": ""
             }
            },
            "type": "scattermapbox"
           }
          ],
          "scatterpolar": [
           {
            "marker": {
             "colorbar": {
              "outlinewidth": 0,
              "ticks": ""
             }
            },
            "type": "scatterpolar"
           }
          ],
          "scatterpolargl": [
           {
            "marker": {
             "colorbar": {
              "outlinewidth": 0,
              "ticks": ""
             }
            },
            "type": "scatterpolargl"
           }
          ],
          "scatterternary": [
           {
            "marker": {
             "colorbar": {
              "outlinewidth": 0,
              "ticks": ""
             }
            },
            "type": "scatterternary"
           }
          ],
          "surface": [
           {
            "colorbar": {
             "outlinewidth": 0,
             "ticks": ""
            },
            "colorscale": [
             [
              0,
              "#0d0887"
             ],
             [
              0.1111111111111111,
              "#46039f"
             ],
             [
              0.2222222222222222,
              "#7201a8"
             ],
             [
              0.3333333333333333,
              "#9c179e"
             ],
             [
              0.4444444444444444,
              "#bd3786"
             ],
             [
              0.5555555555555556,
              "#d8576b"
             ],
             [
              0.6666666666666666,
              "#ed7953"
             ],
             [
              0.7777777777777778,
              "#fb9f3a"
             ],
             [
              0.8888888888888888,
              "#fdca26"
             ],
             [
              1,
              "#f0f921"
             ]
            ],
            "type": "surface"
           }
          ],
          "table": [
           {
            "cells": {
             "fill": {
              "color": "#EBF0F8"
             },
             "line": {
              "color": "white"
             }
            },
            "header": {
             "fill": {
              "color": "#C8D4E3"
             },
             "line": {
              "color": "white"
             }
            },
            "type": "table"
           }
          ]
         },
         "layout": {
          "annotationdefaults": {
           "arrowcolor": "#2a3f5f",
           "arrowhead": 0,
           "arrowwidth": 1
          },
          "autotypenumbers": "strict",
          "coloraxis": {
           "colorbar": {
            "outlinewidth": 0,
            "ticks": ""
           }
          },
          "colorscale": {
           "diverging": [
            [
             0,
             "#8e0152"
            ],
            [
             0.1,
             "#c51b7d"
            ],
            [
             0.2,
             "#de77ae"
            ],
            [
             0.3,
             "#f1b6da"
            ],
            [
             0.4,
             "#fde0ef"
            ],
            [
             0.5,
             "#f7f7f7"
            ],
            [
             0.6,
             "#e6f5d0"
            ],
            [
             0.7,
             "#b8e186"
            ],
            [
             0.8,
             "#7fbc41"
            ],
            [
             0.9,
             "#4d9221"
            ],
            [
             1,
             "#276419"
            ]
           ],
           "sequential": [
            [
             0,
             "#0d0887"
            ],
            [
             0.1111111111111111,
             "#46039f"
            ],
            [
             0.2222222222222222,
             "#7201a8"
            ],
            [
             0.3333333333333333,
             "#9c179e"
            ],
            [
             0.4444444444444444,
             "#bd3786"
            ],
            [
             0.5555555555555556,
             "#d8576b"
            ],
            [
             0.6666666666666666,
             "#ed7953"
            ],
            [
             0.7777777777777778,
             "#fb9f3a"
            ],
            [
             0.8888888888888888,
             "#fdca26"
            ],
            [
             1,
             "#f0f921"
            ]
           ],
           "sequentialminus": [
            [
             0,
             "#0d0887"
            ],
            [
             0.1111111111111111,
             "#46039f"
            ],
            [
             0.2222222222222222,
             "#7201a8"
            ],
            [
             0.3333333333333333,
             "#9c179e"
            ],
            [
             0.4444444444444444,
             "#bd3786"
            ],
            [
             0.5555555555555556,
             "#d8576b"
            ],
            [
             0.6666666666666666,
             "#ed7953"
            ],
            [
             0.7777777777777778,
             "#fb9f3a"
            ],
            [
             0.8888888888888888,
             "#fdca26"
            ],
            [
             1,
             "#f0f921"
            ]
           ]
          },
          "colorway": [
           "#636efa",
           "#EF553B",
           "#00cc96",
           "#ab63fa",
           "#FFA15A",
           "#19d3f3",
           "#FF6692",
           "#B6E880",
           "#FF97FF",
           "#FECB52"
          ],
          "font": {
           "color": "#2a3f5f"
          },
          "geo": {
           "bgcolor": "white",
           "lakecolor": "white",
           "landcolor": "#E5ECF6",
           "showlakes": true,
           "showland": true,
           "subunitcolor": "white"
          },
          "hoverlabel": {
           "align": "left"
          },
          "hovermode": "closest",
          "mapbox": {
           "style": "light"
          },
          "paper_bgcolor": "white",
          "plot_bgcolor": "#E5ECF6",
          "polar": {
           "angularaxis": {
            "gridcolor": "white",
            "linecolor": "white",
            "ticks": ""
           },
           "bgcolor": "#E5ECF6",
           "radialaxis": {
            "gridcolor": "white",
            "linecolor": "white",
            "ticks": ""
           }
          },
          "scene": {
           "xaxis": {
            "backgroundcolor": "#E5ECF6",
            "gridcolor": "white",
            "gridwidth": 2,
            "linecolor": "white",
            "showbackground": true,
            "ticks": "",
            "zerolinecolor": "white"
           },
           "yaxis": {
            "backgroundcolor": "#E5ECF6",
            "gridcolor": "white",
            "gridwidth": 2,
            "linecolor": "white",
            "showbackground": true,
            "ticks": "",
            "zerolinecolor": "white"
           },
           "zaxis": {
            "backgroundcolor": "#E5ECF6",
            "gridcolor": "white",
            "gridwidth": 2,
            "linecolor": "white",
            "showbackground": true,
            "ticks": "",
            "zerolinecolor": "white"
           }
          },
          "shapedefaults": {
           "line": {
            "color": "#2a3f5f"
           }
          },
          "ternary": {
           "aaxis": {
            "gridcolor": "white",
            "linecolor": "white",
            "ticks": ""
           },
           "baxis": {
            "gridcolor": "white",
            "linecolor": "white",
            "ticks": ""
           },
           "bgcolor": "#E5ECF6",
           "caxis": {
            "gridcolor": "white",
            "linecolor": "white",
            "ticks": ""
           }
          },
          "title": {
           "x": 0.05
          },
          "xaxis": {
           "automargin": true,
           "gridcolor": "white",
           "linecolor": "white",
           "ticks": "",
           "title": {
            "standoff": 15
           },
           "zerolinecolor": "white",
           "zerolinewidth": 2
          },
          "yaxis": {
           "automargin": true,
           "gridcolor": "white",
           "linecolor": "white",
           "ticks": "",
           "title": {
            "standoff": 15
           },
           "zerolinecolor": "white",
           "zerolinewidth": 2
          }
         }
        },
        "xaxis": {
         "anchor": "y",
         "domain": [
          0,
          0.98
         ],
         "title": {
          "text": "lr"
         },
         "type": "log"
        },
        "xaxis2": {
         "anchor": "y2",
         "domain": [
          0,
          0.98
         ],
         "matches": "x",
         "showticklabels": false,
         "type": "log"
        },
        "xaxis3": {
         "anchor": "y3",
         "domain": [
          0,
          0.98
         ],
         "matches": "x",
         "showticklabels": false,
         "type": "log"
        },
        "yaxis": {
         "anchor": "x",
         "domain": [
          0,
          0.3133333333333333
         ],
         "title": {
          "text": "value"
         }
        },
        "yaxis2": {
         "anchor": "x2",
         "domain": [
          0.34333333333333327,
          0.6566666666666665
         ],
         "title": {
          "text": "value"
         }
        },
        "yaxis3": {
         "anchor": "x3",
         "domain": [
          0.6866666666666665,
          0.9999999999999998
         ],
         "title": {
          "text": "value"
         }
        }
       }
      }
     },
     "metadata": {},
     "output_type": "display_data"
    },
    {
     "name": "stdout",
     "output_type": "stream",
     "text": [
      "Maximum learning rate: 0.002054021955494969\n"
     ]
    }
   ],
   "source": [
    "full_dataset = CMIDataset(\"full_dataset\")\n",
    "full_dataset_loader = DL(full_dataset, TRAIN_BATCH_SIZE, shuffle=True)\n",
    "_, mock_training_metrics = mk_model_and_fit(\n",
    "    full_dataset_loader,\n",
    "    partial(torch.optim.lr_scheduler.ExponentialLR, gamma=MOCK_TRAINING_GAMMA),\n",
    ")\n",
    "mock_training_metrics = post_process_mock_training_metrics(mock_training_metrics)\n",
    "plt_lr_search_training_metrics(mock_training_metrics)\n",
    "max_lr = mock_training_metrics[\"ewm_batch_train_loss\"].idxmin()\n",
    "print(\"Maximum learning rate:\", max_lr)"
   ]
  },
  {
   "cell_type": "markdown",
   "id": "e1cc3c5f",
   "metadata": {
    "papermill": {
     "duration": 0.003108,
     "end_time": "2025-06-14T10:01:56.186803",
     "exception": false,
     "start_time": "2025-06-14T10:01:56.183695",
     "status": "completed"
    },
    "tags": []
   },
   "source": [
    "## Training loop"
   ]
  },
  {
   "cell_type": "code",
   "execution_count": 20,
   "id": "2be28a9c",
   "metadata": {
    "execution": {
     "iopub.execute_input": "2025-06-14T10:01:56.194003Z",
     "iopub.status.busy": "2025-06-14T10:01:56.193740Z",
     "iopub.status.idle": "2025-06-14T10:09:14.752385Z",
     "shell.execute_reply": "2025-06-14T10:09:14.751491Z"
    },
    "papermill": {
     "duration": 438.563878,
     "end_time": "2025-06-14T10:09:14.753712",
     "exception": false,
     "start_time": "2025-06-14T10:01:56.189834",
     "status": "completed"
    },
    "tags": []
   },
   "outputs": [
    {
     "name": "stdout",
     "output_type": "stream",
     "text": [
      "training: 1\n",
      "\n",
      "==================================================\n",
      "Fold 1/5\n"
     ]
    },
    {
     "ename": "KeyError",
     "evalue": "\"param 'initial_lr' is not specified in param_groups[0] when resuming an optimizer\"",
     "output_type": "error",
     "traceback": [
      "\u001b[31m---------------------------------------------------------------------------\u001b[39m",
      "\u001b[31mKeyError\u001b[39m                                  Traceback (most recent call last)",
      "\u001b[36mCell\u001b[39m\u001b[36m \u001b[39m\u001b[32mIn[20]\u001b[39m\u001b[32m, line 34\u001b[39m\n\u001b[32m     32\u001b[39m optimizer = torch.optim.AdamW(model.parameters(), max_lr)\n\u001b[32m     33\u001b[39m steps_per_epoch = \u001b[38;5;28mlen\u001b[39m(train_loader)\n\u001b[32m---> \u001b[39m\u001b[32m34\u001b[39m scheduler = \u001b[43mtorch\u001b[49m\u001b[43m.\u001b[49m\u001b[43moptim\u001b[49m\u001b[43m.\u001b[49m\u001b[43mlr_scheduler\u001b[49m\u001b[43m.\u001b[49m\u001b[43mCosineAnnealingWarmRestarts\u001b[49m\u001b[43m(\u001b[49m\n\u001b[32m     35\u001b[39m \u001b[43m    \u001b[49m\u001b[43moptimizer\u001b[49m\u001b[43m,\u001b[49m\n\u001b[32m     36\u001b[39m \u001b[43m    \u001b[49m\u001b[43mT_0\u001b[49m\u001b[43m=\u001b[49m\u001b[43mTRAINING_EPOCHS\u001b[49m\u001b[43m \u001b[49m\u001b[43m/\u001b[49m\u001b[43m/\u001b[49m\u001b[43m \u001b[49m\u001b[32;43m5\u001b[39;49m\u001b[43m,\u001b[49m\n\u001b[32m     37\u001b[39m \u001b[43m    \u001b[49m\u001b[38;5;66;43;03m# max_lr=max_lr / 2,\u001b[39;49;00m\n\u001b[32m     38\u001b[39m \u001b[43m    \u001b[49m\u001b[38;5;66;43;03m# div_factor=MAX_LR_TO_MIN_DIV_FACTOR,\u001b[39;49;00m\n\u001b[32m     39\u001b[39m \u001b[43m    \u001b[49m\u001b[38;5;66;43;03m# epochs=TRAINING_EPOCHS,\u001b[39;49;00m\n\u001b[32m     40\u001b[39m \u001b[43m    \u001b[49m\u001b[38;5;66;43;03m# steps_per_epoch=len(train_loader),\u001b[39;49;00m\n\u001b[32m     41\u001b[39m \u001b[43m    \u001b[49m\u001b[43mlast_epoch\u001b[49m\u001b[43m=\u001b[49m\u001b[43mTRAINING_EPOCHS\u001b[49m\u001b[43m,\u001b[49m\n\u001b[32m     42\u001b[39m \u001b[43m\u001b[49m\u001b[43m)\u001b[49m\n\u001b[32m     44\u001b[39m \u001b[38;5;66;03m# Early stopping\u001b[39;00m\n\u001b[32m     45\u001b[39m best_metric = -np.inf\n",
      "\u001b[36mFile \u001b[39m\u001b[32m/venv/CMI/lib/python3.11/site-packages/torch/optim/lr_scheduler.py:1761\u001b[39m, in \u001b[36mCosineAnnealingWarmRestarts.__init__\u001b[39m\u001b[34m(self, optimizer, T_0, T_mult, eta_min, last_epoch, verbose)\u001b[39m\n\u001b[32m   1759\u001b[39m \u001b[38;5;28mself\u001b[39m.eta_min = eta_min\n\u001b[32m   1760\u001b[39m \u001b[38;5;28mself\u001b[39m.T_cur = last_epoch\n\u001b[32m-> \u001b[39m\u001b[32m1761\u001b[39m \u001b[38;5;28;43msuper\u001b[39;49m\u001b[43m(\u001b[49m\u001b[43m)\u001b[49m\u001b[43m.\u001b[49m\u001b[34;43m__init__\u001b[39;49m\u001b[43m(\u001b[49m\u001b[43moptimizer\u001b[49m\u001b[43m,\u001b[49m\u001b[43m \u001b[49m\u001b[43mlast_epoch\u001b[49m\u001b[43m,\u001b[49m\u001b[43m \u001b[49m\u001b[43mverbose\u001b[49m\u001b[43m)\u001b[49m\n",
      "\u001b[36mFile \u001b[39m\u001b[32m/venv/CMI/lib/python3.11/site-packages/torch/optim/lr_scheduler.py:112\u001b[39m, in \u001b[36mLRScheduler.__init__\u001b[39m\u001b[34m(self, optimizer, last_epoch, verbose)\u001b[39m\n\u001b[32m    110\u001b[39m     \u001b[38;5;28;01mfor\u001b[39;00m i, group \u001b[38;5;129;01min\u001b[39;00m \u001b[38;5;28menumerate\u001b[39m(optimizer.param_groups):\n\u001b[32m    111\u001b[39m         \u001b[38;5;28;01mif\u001b[39;00m \u001b[33m\"\u001b[39m\u001b[33minitial_lr\u001b[39m\u001b[33m\"\u001b[39m \u001b[38;5;129;01mnot\u001b[39;00m \u001b[38;5;129;01min\u001b[39;00m group:\n\u001b[32m--> \u001b[39m\u001b[32m112\u001b[39m             \u001b[38;5;28;01mraise\u001b[39;00m \u001b[38;5;167;01mKeyError\u001b[39;00m(\n\u001b[32m    113\u001b[39m                 \u001b[33m\"\u001b[39m\u001b[33mparam \u001b[39m\u001b[33m'\u001b[39m\u001b[33minitial_lr\u001b[39m\u001b[33m'\u001b[39m\u001b[33m is not specified \u001b[39m\u001b[33m\"\u001b[39m\n\u001b[32m    114\u001b[39m                 \u001b[33mf\u001b[39m\u001b[33m\"\u001b[39m\u001b[33min param_groups[\u001b[39m\u001b[38;5;132;01m{\u001b[39;00mi\u001b[38;5;132;01m}\u001b[39;00m\u001b[33m] when resuming an optimizer\u001b[39m\u001b[33m\"\u001b[39m\n\u001b[32m    115\u001b[39m             )\n\u001b[32m    116\u001b[39m \u001b[38;5;28mself\u001b[39m.base_lrs: List[\u001b[38;5;28mfloat\u001b[39m] = [\n\u001b[32m    117\u001b[39m     group[\u001b[33m\"\u001b[39m\u001b[33minitial_lr\u001b[39m\u001b[33m\"\u001b[39m] \u001b[38;5;28;01mfor\u001b[39;00m group \u001b[38;5;129;01min\u001b[39;00m optimizer.param_groups\n\u001b[32m    118\u001b[39m ]\n\u001b[32m    119\u001b[39m \u001b[38;5;28mself\u001b[39m.last_epoch = last_epoch\n",
      "\u001b[31mKeyError\u001b[39m: \"param 'initial_lr' is not specified in param_groups[0] when resuming an optimizer\""
     ]
    }
   ],
   "source": [
    "seed_everything(seed=SEED)\n",
    "\n",
    "# criterion = soft_cross_entropy\n",
    "criterion = torch.nn.CrossEntropyLoss()\n",
    "\n",
    "n_splits = 5\n",
    "batch_size = 128\n",
    "gkf = GroupKFold(n_splits=n_splits)\n",
    "\n",
    "fold_metrics = []\n",
    "best_fold_metrics = []\n",
    "best_models = []\n",
    "\n",
    "fold_patterns = join(dataset_path, \"preprocessed_dataset\", \"fold*\")\n",
    "fold_pths = glob(fold_patterns)[:NB_CROSS_VALIDATIONS]\n",
    "all_training_metrics = {}\n",
    "\n",
    "\n",
    "for fold, fold_pth in enumerate(fold_pths):\n",
    "    print(\"training:\", fold + 1)\n",
    "    train_dataset = CMIDataset(fold_pth, \"train\")\n",
    "    train_loader = DL(train_dataset, TRAIN_BATCH_SIZE, shuffle=True)\n",
    "    validation_dataset = CMIDataset(fold_pth, \"validation\")\n",
    "    validation_loader = DL(validation_dataset, VALIDATION_BATCH_SIZE, shuffle=False)\n",
    "    print(f\"\\n{'='*50}\")\n",
    "    print(f\"Fold {fold + 1}/{n_splits}\")\n",
    "    \n",
    "    seed_everything(seed=SEED + fold)\n",
    "    model = mk_model()\n",
    "    \n",
    "    # Optimizer et scheduler\n",
    "    optimizer = torch.optim.AdamW(model.parameters(), max_lr)\n",
    "    steps_per_epoch = len(train_loader)\n",
    "    scheduler = torch.optim.lr_scheduler.CosineAnnealingWarmRestarts(\n",
    "        optimizer,\n",
    "        T_0=TRAINING_EPOCHS // 5,\n",
    "        # max_lr=max_lr / 2,\n",
    "        # div_factor=MAX_LR_TO_MIN_DIV_FACTOR,\n",
    "        # epochs=TRAINING_EPOCHS,\n",
    "        # steps_per_epoch=len(train_loader),\n",
    "        last_epoch=TRAINING_EPOCHS,\n",
    "    )\n",
    "\n",
    "    # Early stopping\n",
    "    best_metric = -np.inf\n",
    "    best_binary_f1 = -np.inf\n",
    "    best_macro_f1 = -np.inf\n",
    "    patience = 15\n",
    "    epochs_no_improve = 0\n",
    "    \n",
    "    for epoch in range(1, TRAINING_EPOCHS + 1):\n",
    "        # Training phase\n",
    "        model.train()\n",
    "        train_loss = 0.0\n",
    "        total = 0\n",
    "        for batch_x, batch_y in train_loader:\n",
    "            batch_x = batch_x.to(device).clone()\n",
    "            batch_y = batch_y.to(device)\n",
    "            batch_x = batch_x.float()\n",
    "    \n",
    "            # TODO: Apply mixup?\n",
    "    \n",
    "            optimizer.zero_grad()\n",
    "            outputs = model(batch_x)\n",
    "            loss = criterion(outputs, batch_y)\n",
    "            loss.backward()\n",
    "            optimizer.step()\n",
    "            scheduler.step()\n",
    "    \n",
    "            train_loss += loss.item() * batch_x.size(0)\n",
    "            total += batch_x.size(0)\n",
    "        train_loss /= total\n",
    "    \n",
    "        # Validation phase\n",
    "        model.eval()\n",
    "        val_loss = 0.0\n",
    "        total = 0\n",
    "        all_true = []\n",
    "        all_pred = []\n",
    "        \n",
    "        with torch.no_grad():\n",
    "            for batch_x, batch_y in validation_loader:\n",
    "                batch_x = batch_x.to(device).clone()\n",
    "                batch_y = batch_y.to(device)\n",
    "                batch_x[VALIDATION_BATCH_SIZE // 2, non_imu_feats_idx] = 0.0\n",
    "                \n",
    "                outputs = model(batch_x)\n",
    "                loss = criterion(outputs, batch_y)\n",
    "                val_loss += loss.item() * batch_x.size(0)\n",
    "                total += batch_x.size(0)\n",
    "                \n",
    "                # Get predicted class indices\n",
    "                preds = torch.argmax(outputs, dim=1).cpu().numpy()\n",
    "                # Get true class indices from one-hot\n",
    "                trues = torch.argmax(batch_y, dim=1).cpu().numpy()\n",
    "                \n",
    "                all_true.append(trues)\n",
    "                all_pred.append(preds)\n",
    "        \n",
    "        val_loss /= total\n",
    "        all_true = np.concatenate(all_true)\n",
    "        all_pred = np.concatenate(all_pred)\n",
    "        \n",
    "        # Compute competition metrics\n",
    "        # Binary classification: BFRB (1) vs non-BFRB (0)\n",
    "        binary_true = np.isin(all_true, bfrb_indices).astype(int)\n",
    "        binary_pred = np.isin(all_pred, bfrb_indices).astype(int)\n",
    "        binary_f1 = f1_score(binary_true, binary_pred)\n",
    "        \n",
    "        # Collapse non-BFRB gestures into a single class\n",
    "        collapsed_true = np.where(\n",
    "            np.isin(all_true, bfrb_indices),\n",
    "            all_true,\n",
    "            len(bfrb_gestures)  # Single non-BFRB class\n",
    "        )\n",
    "        collapsed_pred = np.where(\n",
    "            np.isin(all_pred, bfrb_indices),\n",
    "            all_pred,\n",
    "            len(bfrb_gestures)  # Single non-BFRB class\n",
    "        )\n",
    "        \n",
    "        # Macro F1 on collapsed classes\n",
    "        macro_f1 = f1_score(collapsed_true, collapsed_pred, average='macro')\n",
    "        final_metric = (binary_f1 + macro_f1) / 2\n",
    "        \n",
    "        print(f\"Epoch {epoch:02d}: Train Loss = {train_loss:.4f}, Val Loss = {val_loss:.4f}\")\n",
    "        print(f\"  Binary F1 = {binary_f1:.4f}, Macro F1 = {macro_f1:.4f}, Final Metric = {final_metric:.4f}\")\n",
    "        \n",
    "        if final_metric > best_metric:\n",
    "            best_metric = final_metric\n",
    "            best_binary_f1 = binary_f1\n",
    "            best_macro_f1 = macro_f1\n",
    "            epochs_no_improve = 0\n",
    "            best_model_state = model.state_dict()\n",
    "            print(f\"  New best metric! Saving model...\")\n",
    "        else:\n",
    "            epochs_no_improve += 1\n",
    "            if epochs_no_improve >= patience:\n",
    "                print(f\"Early stopping triggered at epoch {epoch}\")\n",
    "                model.load_state_dict(best_model_state)\n",
    "                break\n",
    "\n",
    "    torch.save(best_model_state, f\"best_model_fold{fold}.pth\")\n",
    "    best_models.append(best_model_state)\n",
    "\n",
    "    fold_metrics.append({\n",
    "        'binary_f1': binary_f1,\n",
    "        'macro_f1': macro_f1,\n",
    "        'final_metric': final_metric\n",
    "    })\n",
    "    \n",
    "    best_fold_metrics.append({\n",
    "        'binary_f1': best_binary_f1,\n",
    "        'macro_f1': best_macro_f1,\n",
    "        'final_metric': best_metric\n",
    "    })\n",
    "    \n",
    "    print(f\"\\nFold {fold + 1} completed.\")\n",
    "    print(f\"Final validation metrics - Binary F1: {binary_f1:.4f}, Macro F1: {macro_f1:.4f}, Final: {final_metric:.4f}\")\n",
    "    print(f\"Best validation metrics - Binary F1: {best_binary_f1:.4f}, Macro F1: {best_macro_f1:.4f}, Final: {best_metric:.4f}\")\n",
    "\n",
    "print(\"\\n\" + \"=\"*50)\n",
    "print(\"Cross-Validation Results\")\n",
    "print(\"=\"*50)\n",
    "\n",
    "# Statistiques pour les meilleures métriques\n",
    "best_binary_f1 = [m['binary_f1'] for m in best_fold_metrics]\n",
    "best_macro_f1 = [m['macro_f1'] for m in best_fold_metrics]\n",
    "best_metrics = [m['final_metric'] for m in best_fold_metrics]\n",
    "\n",
    "print(\"\\nBest Fold-wise Metrics:\")\n",
    "for i, (bf1, mf1, fm) in enumerate(zip(best_binary_f1, best_macro_f1, best_metrics)):\n",
    "    print(f\"Fold {i+1}: Binary F1 = {bf1:.4f}, Macro F1 = {mf1:.4f}, Final = {fm:.4f}\")\n",
    "\n",
    "print(\"\\nGlobal Statistics (Best Metrics):\")\n",
    "print(f\"Mean Best Final Metric: {np.mean(best_metrics):.4f} ± {np.std(best_metrics):.4f}\")\n",
    "print(f\"Mean Best Binary F1: {np.mean(best_binary_f1):.4f} ± {np.std(best_binary_f1):.4f}\")\n",
    "print(f\"Mean Best Macro F1: {np.mean(best_macro_f1):.4f} ± {np.std(best_macro_f1):.4f}\")"
   ]
  },
  {
   "cell_type": "markdown",
   "id": "07ea7558",
   "metadata": {
    "papermill": {
     "duration": 0.012909,
     "end_time": "2025-06-14T10:09:14.961270",
     "exception": false,
     "start_time": "2025-06-14T10:09:14.948361",
     "status": "completed"
    },
    "tags": []
   },
   "source": [
    "## Submission"
   ]
  },
  {
   "cell_type": "markdown",
   "id": "3aea5e4f",
   "metadata": {
    "papermill": {
     "duration": 0.012906,
     "end_time": "2025-06-14T10:09:14.780212",
     "exception": false,
     "start_time": "2025-06-14T10:09:14.767306",
     "status": "completed"
    },
    "tags": []
   },
   "source": [
    "### Reloading best model"
   ]
  },
  {
   "cell_type": "code",
   "execution_count": null,
   "id": "a0574d4d",
   "metadata": {
    "execution": {
     "iopub.execute_input": "2025-06-14T10:09:14.807902Z",
     "iopub.status.busy": "2025-06-14T10:09:14.807165Z",
     "iopub.status.idle": "2025-06-14T10:09:14.933288Z",
     "shell.execute_reply": "2025-06-14T10:09:14.932459Z"
    },
    "papermill": {
     "duration": 0.141435,
     "end_time": "2025-06-14T10:09:14.934745",
     "exception": false,
     "start_time": "2025-06-14T10:09:14.793310",
     "status": "completed"
    },
    "tags": []
   },
   "outputs": [],
   "source": [
    "model_ensemble = []\n",
    "for fold in range(5):\n",
    "    model = mk_model().to(device)\n",
    "    checkpoint = torch.load(f\"best_model_fold{fold}.pth\", map_location=device, weights_only=True)\n",
    "    model.load_state_dict(checkpoint)\n",
    "    model.eval()\n",
    "    model_ensemble.append(model)"
   ]
  },
  {
   "cell_type": "markdown",
   "id": "a826dec8",
   "metadata": {},
   "source": [
    "### Define preprocessing function"
   ]
  },
  {
   "cell_type": "code",
   "execution_count": null,
   "id": "481e69b6",
   "metadata": {},
   "outputs": [],
   "source": [
    "def get_fillna_val_per_feature_col(df:DF) -> dict:\n",
    "    return {col: 1.0 if col == 'rot_w' else 0 for col in get_feature_cols(df)}\n",
    "\n",
    "def imputed_features(df:DF) -> DF:\n",
    "    # Missing ToF values are already imputed by -1 which is inconvinient since we want all missing values to be NaN.    \n",
    "    # So we replace them by NaN and then perform imputing.  \n",
    "    tof_vals_to_nan = {col: -1.0 for col in df.columns if col.startswith(\"tof\")}\n",
    "\n",
    "    df[get_feature_cols(df)] = (\n",
    "        df\n",
    "        .loc[:, get_feature_cols(df)]\n",
    "        # df.replace with np.nan sets dtype to floar64 so we set it back to float32\n",
    "        .replace(tof_vals_to_nan, value=np.nan)\n",
    "        .astype(\"float32\")\n",
    "        .groupby(df[\"sequence_id\"], observed=True, as_index=False)\n",
    "        .ffill()\n",
    "        .groupby(df[\"sequence_id\"], observed=True, as_index=False)\n",
    "        .bfill()\n",
    "        # In case there are only nan in the column in the sequence\n",
    "        .fillna(get_fillna_val_per_feature_col(df))\n",
    "    )\n",
    "    return df\n",
    "\n",
    "def norm_quat_rotations(df:DF) -> DF:\n",
    "    df[QUATERNION_COLS] /= np.linalg.norm(df[QUATERNION_COLS], axis=1, keepdims=True)\n",
    "    return df\n",
    "\n",
    "def add_linear_acc_cols(df:DF) -> DF:\n",
    "    # Vectorized version of https://www.kaggle.com/code/wasupandceacar/lb-0-82-5fold-single-bert-model#Dataset `remove_gravity_from_acc`\n",
    "    rotations:Rotation = Rotation.from_quat(df[QUATERNION_COLS])\n",
    "    gravity_sensor_frame = rotations.apply(GRAVITY_WORLD, inverse=True).astype(\"float32\")\n",
    "    df[LINEAR_ACC_COLS] = df[RAW_ACCELRATION_COLS] - gravity_sensor_frame\n",
    "    return df\n",
    "\n",
    "def add_acc_magnitude(df:DF, acc_cols:list[str], acc_mag_col_name:str) -> DF:\n",
    "    return df.assign(**{acc_mag_col_name: np.linalg.norm(df.loc[:, acc_cols], axis=1)})\n",
    "\n",
    "def add_quat_angle_mag(df:DF) -> DF:\n",
    "    return df.assign(quat_rot_mag=np.arccos(df[\"rot_w\"]) * 2)\n",
    "\n",
    "def add_angular_velocity_features(df:DF) -> DF:\n",
    "    rotations = Rotation.from_quat(df[QUATERNION_COLS])\n",
    "    delta_rotations = rotations[1:] * rotations[:-1].inv()\n",
    "    delta_rot_velocity = delta_rotations.as_rotvec()\n",
    "    # Add extra line to avoid shape mismatch\n",
    "    delta_rot_velocity = np.vstack((np.zeros((1, 3)), delta_rot_velocity))\n",
    "    delta_rot_magnitude = norm(delta_rot_velocity, axis=1, keepdims=True)\n",
    "    delta_rot_axes = delta_rot_velocity / (delta_rot_magnitude + EPSILON)\n",
    "    df[DELTA_ROTATION_ANGULAR_VELOCITY_COLS] = delta_rot_velocity\n",
    "    df[DELTA_ROTATION_AXES_COLS] = delta_rot_axes\n",
    "    df[\"delta_rot_mag\"] = delta_rot_magnitude.squeeze()\n",
    "\n",
    "    return df\n",
    "\n",
    "def rot_euler_angles(df:DF) -> ndarray:\n",
    "    df[EULER_ANGLES_COLS] = (\n",
    "        Rotation\n",
    "        .from_quat(df[QUATERNION_COLS])\n",
    "        .as_euler(\"xyz\")\n",
    "        .squeeze()\n",
    "    )\n",
    "    return df\n",
    "\n",
    "def agg_tof_cols_per_sensor(df:DF) -> DF:\n",
    "    for tof_idx in tqdm(range(1, 6)):\n",
    "        tof_name = f\"tof_{tof_idx}\"\n",
    "        tof_cols = [f\"{tof_name}_v{v_idx}\" for v_idx in range(64)]\n",
    "        if any(map(lambda col: col not in df.columns, tof_cols)):\n",
    "            print(f\"Some (or) all ToF {tof_idx} columns are not in the df. Maybe you already ran this cell?\")\n",
    "            continue\n",
    "        df = pd.concat(\n",
    "            (\n",
    "                df.drop(columns=tof_cols),\n",
    "                # For some reasons, it's faster to call all the aggregation functions seperatly than agg(list of functions)\n",
    "                df[tof_cols].mean(axis=\"columns\").to_frame(tof_name + \"_mean\"),\n",
    "                df[tof_cols].std(axis=\"columns\").to_frame(tof_name + \"_std\"),\n",
    "                df[tof_cols].median(axis=\"columns\").to_frame(tof_name + \"_median\"),\n",
    "                df[tof_cols].min(axis=\"columns\").to_frame(tof_name + \"_min\"),\n",
    "                df[tof_cols].max(axis=\"columns\").to_frame(tof_name + \"_max\"),\n",
    "            ),\n",
    "            axis=\"columns\",\n",
    "        )\n",
    "    return df\n",
    "\n",
    "def add_diff_features(df:DF) -> DF:\n",
    "    return pd.concat(\n",
    "        (\n",
    "            df,\n",
    "            df\n",
    "            .groupby(\"sequence_id\", as_index=False, observed=True)\n",
    "            [get_feature_cols(df)]\n",
    "            .diff()\n",
    "            .fillna(get_fillna_val_per_feature_col(df))\n",
    "            .add_prefix(\"diff_\")\n",
    "        ),\n",
    "        axis=\"columns\",\n",
    "    )\n",
    "\n",
    "def length_normed_sequence_feat_arr(sequence: DF) -> ndarray:\n",
    "    features = (\n",
    "        sequence\n",
    "        .loc[:, meta_data[\"feature_cols\"]]\n",
    "        .values\n",
    "    )\n",
    "    normed_sequence_len = meta_data[\"pad_seq_len\"]\n",
    "    len_diff = abs(normed_sequence_len - len(features))\n",
    "    if len(features) < normed_sequence_len:\n",
    "        padded_features = np.pad(\n",
    "            features,\n",
    "            ((len_diff // 2 + len_diff % 2, len_diff // 2), (0, 0)),\n",
    "        )\n",
    "        return padded_features\n",
    "    elif len(features) > normed_sequence_len:\n",
    "        return features[len_diff // 2:-len_diff // 2]\n",
    "    else:\n",
    "        return features\n",
    "\n",
    "def preprocess_sequence(sequence_df:pl.DataFrame) -> ndarray:\n",
    "    return (\n",
    "        sequence_df                     \n",
    "        .to_pandas()                            # Convert to pandas dataframe.\n",
    "        .pipe(imputed_features)                 # Impute missing data.\n",
    "        .pipe(norm_quat_rotations)              # Norm quaternions\n",
    "        .pipe(add_linear_acc_cols)              # Add gravity free acceleration.\n",
    "        .pipe(add_acc_magnitude, RAW_ACCELRATION_COLS, \"raw_acc_mag\")\n",
    "        .pipe(add_acc_magnitude, LINEAR_ACC_COLS, \"linear_acc_mag\")\n",
    "        .pipe(add_quat_angle_mag)\n",
    "        .pipe(add_angular_velocity_features)\n",
    "        .pipe(rot_euler_angles)                 # Add rotation acc expressed as euler angles.\n",
    "        .pipe(agg_tof_cols_per_sensor)          # Aggregate ToF columns.\n",
    "        .pipe(add_diff_features)                # \n",
    "        .loc[:, sorted(meta_data[\"feature_cols\"])]      # Retain only the usefull columns a.k.a features.\n",
    "        .sub(meta_data[\"mean\"])                 # Subtract features by their mean, std norm pt.1.\n",
    "        .div(meta_data[\"std\"])                  # Divide by Standard deviation, std norm pt.2.\n",
    "        .pipe(length_normed_sequence_feat_arr)  # get feature ndarray of sequence.\n",
    "        .T                                      # Transpose to swap channel and X dimensions.\n",
    "    )"
   ]
  },
  {
   "cell_type": "markdown",
   "id": "1ebb0960",
   "metadata": {},
   "source": [
    "### Define prediction function"
   ]
  },
  {
   "cell_type": "code",
   "execution_count": null,
   "id": "57d8dfff",
   "metadata": {
    "execution": {
     "iopub.execute_input": "2025-06-14T10:09:14.989742Z",
     "iopub.status.busy": "2025-06-14T10:09:14.989258Z",
     "iopub.status.idle": "2025-06-14T10:09:14.995936Z",
     "shell.execute_reply": "2025-06-14T10:09:14.995244Z"
    },
    "papermill": {
     "duration": 0.021303,
     "end_time": "2025-06-14T10:09:14.997034",
     "exception": false,
     "start_time": "2025-06-14T10:09:14.975731",
     "status": "completed"
    },
    "tags": []
   },
   "outputs": [],
   "source": [
    "# def predict(sequence: pl.DataFrame, demographics: pl.DataFrame) -> str:\n",
    "#     \"\"\"\n",
    "#     Kaggle evaluation API will call this for each sequence.\n",
    "#     sequence: polars DataFrame for a single sequence\n",
    "#     demographics: unused in this model\n",
    "#     Returns: predicted gesture string\n",
    "#     \"\"\"\n",
    "#     df_seq = sequence.to_pandas()\n",
    "#     df_demo = demographics.to_pandas()\n",
    "\n",
    "#     df_seq = df_seq.merge(\n",
    "#         df_demo,\n",
    "#         on='subject',\n",
    "#         how='left',\n",
    "#         validate='many_to_one',\n",
    "#     )\n",
    "#     right_handed_mask = df_seq['handedness'] == 1\n",
    "#     df_seq.loc[right_handed_mask, imu_cols] = apply_symmetry(df_seq.loc[right_handed_mask, imu_cols])\n",
    "\n",
    "#     x_tensor = preprocess_sequence(df_seq).to(device)\n",
    "\n",
    "#     all_outputs = []\n",
    "#     with torch.no_grad():\n",
    "#         for model in model_ensemble:\n",
    "#             outputs = model(x_tensor).softmax(dim=-1)\n",
    "#             all_outputs.append(outputs)\n",
    "\n",
    "#     avg_outputs = torch.mean(torch.stack(all_outputs), dim=0)\n",
    "#     pred_idx = torch.argmax(avg_outputs, dim=1).item()\n",
    "\n",
    "#     return str(gesture_classes[pred_idx])\n",
    "\n",
    "def predict(sequence: pl.DataFrame, _: pl.DataFrame) -> str:\n",
    "    \"\"\"\n",
    "    Kaggle evaluation API will call this for each sequence.\n",
    "    sequence: polars DataFrame for a single sequence\n",
    "    demographics: unused in this model\n",
    "    Returns: predicted gesture string\n",
    "    \"\"\"\n",
    "    # df_seq = sequence.to_pandas()\n",
    "    # df_demo = demographics.to_pandas()\n",
    "\n",
    "    # df_seq = df_seq.merge(\n",
    "    #     df_demo,\n",
    "    #     on='subject',\n",
    "    #     how='left',\n",
    "    #     validate='many_to_one',\n",
    "    # )\n",
    "    # right_handed_mask = df_seq['handedness'] == 1\n",
    "    # df_seq.loc[right_handed_mask, imu_cols] = apply_symmetry(df_seq.loc[right_handed_mask, imu_cols])\n",
    "    # x = torch.unsqueeze(Tensor(x), dim=0).to(device)\n",
    "\n",
    "    x_tensor = (\n",
    "        torch.unsqueeze(Tensor(preprocess_sequence(sequence)), dim=0)\n",
    "        .float()\n",
    "        .to(device)\n",
    "    )\n",
    "    print(x_tensor.shape)\n",
    "\n",
    "    all_outputs = []\n",
    "    with torch.no_grad():\n",
    "        for model_idx, model in enumerate(model_ensemble): # Only take the first one bc it's the only one that takes in the correct input shape\n",
    "            outputs = model(x_tensor)\n",
    "            all_outputs.append(outputs)\n",
    "\n",
    "    avg_outputs = torch.mean(torch.stack(all_outputs), dim=0)\n",
    "    pred_idx = torch.argmax(avg_outputs, dim=1).item()\n",
    "\n",
    "    return str(gesture_classes[pred_idx])"
   ]
  },
  {
   "cell_type": "markdown",
   "id": "5cdcf446",
   "metadata": {},
   "source": [
    "### Run inference server"
   ]
  },
  {
   "cell_type": "code",
   "execution_count": null,
   "id": "1c386b7d",
   "metadata": {
    "execution": {
     "iopub.execute_input": "2025-06-14T10:09:15.023324Z",
     "iopub.status.busy": "2025-06-14T10:09:15.023122Z",
     "iopub.status.idle": "2025-06-14T10:09:16.373534Z",
     "shell.execute_reply": "2025-06-14T10:09:16.372710Z"
    },
    "papermill": {
     "duration": 1.365137,
     "end_time": "2025-06-14T10:09:16.374918",
     "exception": false,
     "start_time": "2025-06-14T10:09:15.009781",
     "status": "completed"
    },
    "tags": []
   },
   "outputs": [
    {
     "name": "stdout",
     "output_type": "stream",
     "text": [
      "torch.Size([1, 66, 127])\n",
      "torch.Size([1, 66, 127])\n",
      "torch.Size([1, 66, 127])\n",
      "torch.Size([1, 66, 127])\n"
     ]
    }
   ],
   "source": [
    "inference_server = kaggle_evaluation.cmi_inference_server.CMIInferenceServer(predict)\n",
    "\n",
    "if os.getenv('KAGGLE_IS_COMPETITION_RERUN'):\n",
    "    inference_server.serve()\n",
    "else:\n",
    "    inference_server.run_local_gateway(\n",
    "        data_paths=(\n",
    "            join(competition_dataset_path, 'test.csv'),\n",
    "            join(competition_dataset_path, 'test_demographics.csv'),\n",
    "        )\n",
    "    )\n",
    "    inference_server = kaggle_evaluation.cmi_inference_server.CMIInferenceServer(predict)\n",
    "    inference_server.run_local_gateway(\n",
    "        data_paths=(\n",
    "            join(competition_dataset_path, 'test.csv'),\n",
    "            join(competition_dataset_path, 'test_demographics.csv'),\n",
    "        )\n",
    "    )"
   ]
  }
 ],
 "metadata": {
  "kaggle": {
   "accelerator": "gpu",
   "dataSources": [
    {
     "databundleVersionId": 12518947,
     "sourceId": 102335,
     "sourceType": "competition"
    }
   ],
   "isGpuEnabled": true,
   "isInternetEnabled": false,
   "language": "python",
   "sourceType": "notebook"
  },
  "kernelspec": {
   "display_name": "CMI",
   "language": "python",
   "name": "python3"
  },
  "language_info": {
   "codemirror_mode": {
    "name": "ipython",
    "version": 3
   },
   "file_extension": ".py",
   "mimetype": "text/x-python",
   "name": "python",
   "nbconvert_exporter": "python",
   "pygments_lexer": "ipython3",
   "version": "3.11.5"
  },
  "papermill": {
   "default_parameters": {},
   "duration": 510.403331,
   "end_time": "2025-06-14T10:09:19.701325",
   "environment_variables": {},
   "exception": null,
   "input_path": "__notebook__.ipynb",
   "output_path": "__notebook__.ipynb",
   "parameters": {},
   "start_time": "2025-06-14T10:00:49.297994",
   "version": "2.6.0"
  }
 },
 "nbformat": 4,
 "nbformat_minor": 5
}
