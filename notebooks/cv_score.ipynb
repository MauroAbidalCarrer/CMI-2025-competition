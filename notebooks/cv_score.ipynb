{
 "cells": [
  {
   "cell_type": "markdown",
   "id": "0a0d2e35",
   "metadata": {
    "papermill": {
     "duration": 0.008511,
     "end_time": "2025-08-02T11:24:41.877382",
     "exception": false,
     "start_time": "2025-08-02T11:24:41.868871",
     "status": "completed"
    },
    "tags": []
   },
   "source": [
    "# Training & inference notebook\n",
    "Credit to [Tarun Mishra](https://www.kaggle.com/tarundirector) – this code is heavily based on his [notebook](https://www.kaggle.com/code/tarundirector/sensor-pulse-viz-eda-for-bfrb-detection?scriptVersionId=243465321)."
   ]
  },
  {
   "cell_type": "markdown",
   "id": "6d8a75d1",
   "metadata": {
    "papermill": {
     "duration": 0.006874,
     "end_time": "2025-08-02T11:24:41.891565",
     "exception": false,
     "start_time": "2025-08-02T11:24:41.884691",
     "status": "completed"
    },
    "tags": []
   },
   "source": [
    "## Setup"
   ]
  },
  {
   "cell_type": "markdown",
   "id": "0b1bea84",
   "metadata": {
    "papermill": {
     "duration": 0.007515,
     "end_time": "2025-08-02T11:24:41.906119",
     "exception": false,
     "start_time": "2025-08-02T11:24:41.898604",
     "status": "completed"
    },
    "tags": []
   },
   "source": [
    "### imports"
   ]
  },
  {
   "cell_type": "markdown",
   "id": "71ab5e25",
   "metadata": {
    "papermill": {
     "duration": 0.006871,
     "end_time": "2025-08-02T11:24:41.920015",
     "exception": false,
     "start_time": "2025-08-02T11:24:41.913144",
     "status": "completed"
    },
    "tags": []
   },
   "source": [
    "#### Training imports"
   ]
  },
  {
   "cell_type": "code",
   "execution_count": null,
   "id": "2c926412",
   "metadata": {
    "execution": {
     "iopub.execute_input": "2025-08-02T11:24:41.935331Z",
     "iopub.status.busy": "2025-08-02T11:24:41.934781Z",
     "iopub.status.idle": "2025-08-02T11:24:50.078572Z",
     "shell.execute_reply": "2025-08-02T11:24:50.077751Z"
    },
    "papermill": {
     "duration": 8.15299,
     "end_time": "2025-08-02T11:24:50.079989",
     "exception": false,
     "start_time": "2025-08-02T11:24:41.926999",
     "status": "completed"
    },
    "tags": []
   },
   "outputs": [],
   "source": [
    "import re\n",
    "import os\n",
    "import gc\n",
    "import json \n",
    "import math\n",
    "from glob import glob\n",
    "from functools import partial\n",
    "from datetime import datetime\n",
    "from collections import Counter\n",
    "from operator import methodcaller\n",
    "from os.path import join, realpath\n",
    "from typing import Optional, Literal\n",
    "from itertools import pairwise, starmap\n",
    "\n",
    "import torch\n",
    "import optuna\n",
    "import kagglehub\n",
    "import numpy as np\n",
    "import pandas as pd\n",
    "import plotly.express as px\n",
    "from torch import nn, Tensor\n",
    "from pandas import DataFrame as DF\n",
    "from optuna.trial import TrialState\n",
    "from torch.optim import Optimizer\n",
    "from torch.utils.data import TensorDataset\n",
    "from torch.utils.data import DataLoader as DL\n",
    "# from timm.scheduler import CosineLRScheduler\n",
    "from rich.progress import Progress, Task, track\n",
    "from torch.optim.lr_scheduler import ConstantLR, LRScheduler, _LRScheduler\n",
    "metric_package = kagglehub.package_import('wasupandceacar/cmi-metric', bypass_confirmation=True)"
   ]
  },
  {
   "cell_type": "markdown",
   "id": "ee204ed9",
   "metadata": {
    "papermill": {
     "duration": 0.006875,
     "end_time": "2025-08-02T11:24:50.094215",
     "exception": false,
     "start_time": "2025-08-02T11:24:50.087340",
     "status": "completed"
    },
    "tags": []
   },
   "source": [
    "#### inference imports"
   ]
  },
  {
   "cell_type": "code",
   "execution_count": 2,
   "id": "f4278a02",
   "metadata": {
    "execution": {
     "iopub.execute_input": "2025-08-02T11:24:50.109063Z",
     "iopub.status.busy": "2025-08-02T11:24:50.108650Z",
     "iopub.status.idle": "2025-08-02T11:24:51.160561Z",
     "shell.execute_reply": "2025-08-02T11:24:51.159974Z"
    },
    "papermill": {
     "duration": 1.060762,
     "end_time": "2025-08-02T11:24:51.161865",
     "exception": false,
     "start_time": "2025-08-02T11:24:50.101103",
     "status": "completed"
    },
    "tags": []
   },
   "outputs": [],
   "source": [
    "import os\n",
    "import json\n",
    "import warnings\n",
    "from os.path import join\n",
    "from tqdm.notebook import tqdm\n",
    "from itertools import pairwise, product\n",
    "\n",
    "import torch\n",
    "import numpy as np\n",
    "import pandas as pd\n",
    "import polars as pl\n",
    "from numpy import ndarray\n",
    "from torch import nn, Tensor\n",
    "from numpy.linalg import norm\n",
    "from pandas import DataFrame as DF\n",
    "from scipy.spatial.transform import Rotation\n",
    "# from kagglehub import competition_download, dataset_download, model_download\n",
    "import kagglehub\n",
    "metric_package = kagglehub.package_import('wasupandceacar/cmi-metric', bypass_confirmation=True)\n",
    "\n",
    "import kaggle_evaluation.cmi_inference_server"
   ]
  },
  {
   "cell_type": "markdown",
   "id": "1ff09f2c",
   "metadata": {
    "papermill": {
     "duration": 0.006973,
     "end_time": "2025-08-02T11:24:51.176305",
     "exception": false,
     "start_time": "2025-08-02T11:24:51.169332",
     "status": "completed"
    },
    "tags": []
   },
   "source": [
    "#### kaggle notbook Imports"
   ]
  },
  {
   "cell_type": "code",
   "execution_count": 3,
   "id": "4d6a0b2b",
   "metadata": {
    "execution": {
     "iopub.execute_input": "2025-08-02T11:24:51.191571Z",
     "iopub.status.busy": "2025-08-02T11:24:51.191172Z",
     "iopub.status.idle": "2025-08-02T11:24:51.211064Z",
     "shell.execute_reply": "2025-08-02T11:24:51.210366Z"
    },
    "papermill": {
     "duration": 0.028768,
     "end_time": "2025-08-02T11:24:51.212242",
     "exception": false,
     "start_time": "2025-08-02T11:24:51.183474",
     "status": "completed"
    },
    "tags": []
   },
   "outputs": [],
   "source": [
    "import random\n",
    "import numpy as np\n",
    "import torch\n",
    "import os\n",
    "\n",
    "def seed_everything(seed=42):\n",
    "    \"\"\"Set all random seeds for reproducibility\"\"\"\n",
    "    random.seed(seed)\n",
    "    np.random.seed(seed)\n",
    "    torch.manual_seed(seed)\n",
    "    torch.cuda.manual_seed(seed)\n",
    "    torch.backends.cudnn.deterministic = True\n",
    "    torch.backends.cudnn.benchmark = False\n",
    "    os.environ['PYTHONHASHSEED'] = str(seed)\n",
    "    os.environ['CUBLAS_WORKSPACE_CONFIG'] = ':4096:8'\n",
    "    torch.use_deterministic_algorithms(True, warn_only=True)\n",
    "\n",
    "SEED = 42\n",
    "seed_everything(seed=SEED)\n",
    "\n",
    "import pandas as pd\n",
    "import polars as pl\n",
    "from sklearn.metrics import f1_score\n",
    "from sklearn.model_selection import train_test_split\n",
    "from sklearn.preprocessing import StandardScaler, LabelEncoder\n",
    "from sklearn.model_selection import GroupKFold\n",
    "from sklearn.utils.class_weight import compute_class_weight\n",
    "from tqdm import tqdm\n",
    "\n",
    "from torch import nn\n",
    "import torch.nn.functional as F\n",
    "import torch.optim as optim\n",
    "from torch.utils.data import Dataset, DataLoader\n",
    "\n",
    "import kaggle_evaluation.cmi_inference_server\n",
    "from matplotlib import pyplot as plt"
   ]
  },
  {
   "cell_type": "markdown",
   "id": "0d32d892",
   "metadata": {
    "papermill": {
     "duration": 0.006769,
     "end_time": "2025-08-02T11:24:51.225973",
     "exception": false,
     "start_time": "2025-08-02T11:24:51.219204",
     "status": "completed"
    },
    "tags": []
   },
   "source": [
    "### Configs"
   ]
  },
  {
   "cell_type": "markdown",
   "id": "b85a8694",
   "metadata": {
    "papermill": {
     "duration": 0.006774,
     "end_time": "2025-08-02T11:24:51.239642",
     "exception": false,
     "start_time": "2025-08-02T11:24:51.232868",
     "status": "completed"
    },
    "tags": []
   },
   "source": [
    "#### Training config"
   ]
  },
  {
   "cell_type": "code",
   "execution_count": 28,
   "id": "315f4a8d",
   "metadata": {
    "execution": {
     "iopub.execute_input": "2025-08-02T11:24:51.254502Z",
     "iopub.status.busy": "2025-08-02T11:24:51.254086Z",
     "iopub.status.idle": "2025-08-02T11:24:51.259267Z",
     "shell.execute_reply": "2025-08-02T11:24:51.258717Z"
    },
    "papermill": {
     "duration": 0.013777,
     "end_time": "2025-08-02T11:24:51.260297",
     "exception": false,
     "start_time": "2025-08-02T11:24:51.246520",
     "status": "completed"
    },
    "tags": []
   },
   "outputs": [],
   "source": [
    "# Dataset\n",
    "DATASET_HANDLE = \"mauroabidalcarrer/prepocessed-cmi-2025\"\n",
    "COMPETITION_HANDLE = \"cmi-detect-behavior-with-sensor-data\"\n",
    "TARGET_NAMES = sorted([\n",
    "    \"Above ear - pull hair\",\n",
    "    \"Cheek - pinch skin\",\n",
    "    \"Eyebrow - pull hair\",\n",
    "    \"Eyelash - pull hair\",\n",
    "    \"Feel around in tray and pull out an object\",\n",
    "    \"Forehead - pull hairline\",\n",
    "    \"Forehead - scratch\",\n",
    "    \"Neck - pinch skin\",\n",
    "    \"Neck - scratch\",\n",
    "    \"Text on phone\",\n",
    "    \"Wave hello\",\n",
    "    \"Write name in air\",\n",
    "    \"Write name on leg\",\n",
    "    \"Drink from bottle/cup\",\n",
    "    \"Pinch knee/leg skin\",\n",
    "    \"Pull air toward your face\",\n",
    "    \"Scratch knee/leg skin\",\n",
    "    \"Glasses on/off\"\n",
    "])\n",
    "IMU_FEATS_PREFIXES = (\n",
    "    \"acc\",\n",
    "    \"linear_acc\",\n",
    "    \"rot\",\n",
    "    \"angular\",\n",
    "    \"euler\",\n",
    "    \"quat_rot_mag\",\n",
    "    \"delta_rot_mag\",\n",
    ")\n",
    "# Data augmentation\n",
    "JITTER = 0.25\n",
    "SCALING = 0.2\n",
    "MIXUP = 0.3\n",
    "# Training loop\n",
    "NB_CROSS_VALIDATIONS = 5\n",
    "TRAIN_BATCH_SIZE = 256\n",
    "VALIDATION_BATCH_SIZE = 4 * TRAIN_BATCH_SIZE\n",
    "PATIENCE = 8\n",
    "# Optimizer\n",
    "WEIGHT_DECAY = 3e-3\n",
    "# Scheduler\n",
    "TRAINING_EPOCHS = 25 # Including warmup epochs\n",
    "WARMUP_EPOCHS = 3\n",
    "WARMUP_LR_INIT = 1.822126131809773e-05\n",
    "MAX_TO_MIN_LR_DIV_FACTOR = 100\n",
    "LR_CYCLE_FACTOR = 0.5\n",
    "CYCLE_LENGTH_FACTOR = 0.9\n",
    "INIT_CYCLE_EPOCHS = 6\n",
    "# MIN_LR = 3.810323058740104e-09\n",
    "# MAX_LR = 1e-3\n",
    "# Mock training loop\n",
    "MOCK_TRAINING_EPOCHS = 20\n",
    "MOCK_TRAINING_GAMMA = 1.01\n",
    "CHANNELS_DIMENSION = 1"
   ]
  },
  {
   "cell_type": "markdown",
   "id": "ba5b1887",
   "metadata": {
    "papermill": {
     "duration": 0.006754,
     "end_time": "2025-08-02T11:24:51.273987",
     "exception": false,
     "start_time": "2025-08-02T11:24:51.267233",
     "status": "completed"
    },
    "tags": []
   },
   "source": [
    "#### Preprocessing (for inference) config "
   ]
  },
  {
   "cell_type": "code",
   "execution_count": 5,
   "id": "9c199973",
   "metadata": {
    "execution": {
     "iopub.execute_input": "2025-08-02T11:24:51.288765Z",
     "iopub.status.busy": "2025-08-02T11:24:51.288386Z",
     "iopub.status.idle": "2025-08-02T11:24:51.295185Z",
     "shell.execute_reply": "2025-08-02T11:24:51.294653Z"
    },
    "papermill": {
     "duration": 0.015378,
     "end_time": "2025-08-02T11:24:51.296287",
     "exception": false,
     "start_time": "2025-08-02T11:24:51.280909",
     "status": "completed"
    },
    "tags": []
   },
   "outputs": [],
   "source": [
    "QUATERNION_COLS = ['rot_w', 'rot_x', 'rot_y', 'rot_z']\n",
    "GRAVITY_WORLD = np.array([0, 0, 9.81], \"float32\")\n",
    "RAW_ACCELRATION_COLS = [\"acc_x\", \"acc_y\", \"acc_z\"]\n",
    "LINEAR_ACC_COLS = [\"linear_\" + col for col in RAW_ACCELRATION_COLS] # Acceleration without gravity\n",
    "COMPETITION_HANDLE = \"cmi-detect-behavior-with-sensor-data\"\n",
    "CATEGORY_COLUMNS = [\n",
    "    'row_id',\n",
    "    'sequence_type',\n",
    "    'sequence_id',\n",
    "    'subject',\n",
    "    'orientation',\n",
    "    'behavior',\n",
    "    'phase',\n",
    "    'gesture',\n",
    "]\n",
    "META_DATA_COLUMNS = [\n",
    "    'row_id',\n",
    "    'sequence_type',\n",
    "    'sequence_id',\n",
    "    'sequence_counter',\n",
    "    'subject',\n",
    "    'orientation',\n",
    "    'behavior',\n",
    "    'phase',\n",
    "    'gesture',\n",
    "]\n",
    "DATASET_DF_DTYPES = {\n",
    "    \"acc_x\": \"float32\", \"acc_y\": \"float32\", \"acc_z\": \"float32\",\n",
    "    \"thm_1\":\"float32\", \"thm_2\":\"float32\", \"thm_3\":\"float32\", \"thm_4\":\"float32\", \"thm_5\":\"float32\",\n",
    "    \"sequence_counter\": \"int32\",\n",
    "    **{col: \"category\" for col in CATEGORY_COLUMNS},\n",
    "    **{f\"tof_{i_1}_v{i_2}\": \"float32\" for i_1, i_2 in product(range(1, 5), range(64))},\n",
    "}\n",
    "PREPROCESSED_DATASET_HANDLE = \"mauroabidalcarrer/prepocessed-cmi-2025\"\n",
    "# The quantile of the sequences len used to pad/truncate during preprocessing\n",
    "SEQUENCE_NORMED_LEN_QUANTILE = 0.95\n",
    "# SAMPLING_FREQUENCY = 10 #Hz\n",
    "N_FOLDS = 5\n",
    "VALIDATION_FRACTION = 0.2\n",
    "TARGET_NAMES = sorted([\n",
    "    \"Above ear - pull hair\",\n",
    "    \"Cheek - pinch skin\",\n",
    "    \"Eyebrow - pull hair\",\n",
    "    \"Eyelash - pull hair\",\n",
    "    \"Feel around in tray and pull out an object\",\n",
    "    \"Forehead - pull hairline\",\n",
    "    \"Forehead - scratch\",\n",
    "    \"Neck - pinch skin\",\n",
    "    \"Neck - scratch\",\n",
    "    \"Text on phone\",\n",
    "    \"Wave hello\",\n",
    "    \"Write name in air\",\n",
    "    \"Write name on leg\",\n",
    "    \"Drink from bottle/cup\",\n",
    "    \"Pinch knee/leg skin\",\n",
    "    \"Pull air toward your face\",\n",
    "    \"Scratch knee/leg skin\",\n",
    "    \"Glasses on/off\"\n",
    "])\n",
    "EPSILON=1e-8\n",
    "DELTA_ROTATION_ANGULAR_VELOCITY_COLS = [\"angular_vel_x\", \"angular_vel_y\", \"angular_vel_z\"]\n",
    "DELTA_ROTATION_AXES_COLS = [\"rotation_axis_x\", \"rotation_axis_y\", \"rotation_axis_z\"]\n",
    "EULER_ANGLES_COLS = [\"euler_x\", \"euler_y\", \"euler_z\"]\n",
    "TOF_AGG_FUNCS = [\n",
    "    \"mean\",\n",
    "    \"std\",\n",
    "    \"min\",\n",
    "    \"max\",\n",
    "    \"median\",\n",
    "]"
   ]
  },
  {
   "cell_type": "markdown",
   "id": "cc9071fd",
   "metadata": {
    "papermill": {
     "duration": 0.006946,
     "end_time": "2025-08-02T11:24:51.310233",
     "exception": false,
     "start_time": "2025-08-02T11:24:51.303287",
     "status": "completed"
    },
    "tags": []
   },
   "source": [
    "### Define function to get the feature columns\n",
    "Feature columns change over time so it's better to have a function to get them than manually update a variable every time we add/remove features."
   ]
  },
  {
   "cell_type": "code",
   "execution_count": 6,
   "id": "18d58772",
   "metadata": {
    "execution": {
     "iopub.execute_input": "2025-08-02T11:24:51.370165Z",
     "iopub.status.busy": "2025-08-02T11:24:51.369888Z",
     "iopub.status.idle": "2025-08-02T11:24:51.373542Z",
     "shell.execute_reply": "2025-08-02T11:24:51.372994Z"
    },
    "papermill": {
     "duration": 0.012679,
     "end_time": "2025-08-02T11:24:51.374550",
     "exception": false,
     "start_time": "2025-08-02T11:24:51.361871",
     "status": "completed"
    },
    "tags": []
   },
   "outputs": [],
   "source": [
    "def get_feature_cols(df:DF) -> list[str]:\n",
    "    return sorted(list(set(df.columns) - set(META_DATA_COLUMNS) - set(TARGET_NAMES)))"
   ]
  },
  {
   "cell_type": "markdown",
   "id": "a35036a5",
   "metadata": {
    "papermill": {
     "duration": 0.006863,
     "end_time": "2025-08-02T11:24:51.388547",
     "exception": false,
     "start_time": "2025-08-02T11:24:51.381684",
     "status": "completed"
    },
    "tags": []
   },
   "source": [
    "### Supress performance warngings"
   ]
  },
  {
   "cell_type": "code",
   "execution_count": 7,
   "id": "3b96515f",
   "metadata": {
    "execution": {
     "iopub.execute_input": "2025-08-02T11:24:51.403658Z",
     "iopub.status.busy": "2025-08-02T11:24:51.402937Z",
     "iopub.status.idle": "2025-08-02T11:24:51.406433Z",
     "shell.execute_reply": "2025-08-02T11:24:51.405940Z"
    },
    "papermill": {
     "duration": 0.011979,
     "end_time": "2025-08-02T11:24:51.407463",
     "exception": false,
     "start_time": "2025-08-02T11:24:51.395484",
     "status": "completed"
    },
    "tags": []
   },
   "outputs": [],
   "source": [
    "warnings.filterwarnings(\n",
    "    \"ignore\",\n",
    "    message=(\n",
    "        \"DataFrame is highly fragmented.  This is usually the result of \"\n",
    "        \"calling `frame.insert` many times.*\"\n",
    "    ),\n",
    "    category=pd.errors.PerformanceWarning,\n",
    ")"
   ]
  },
  {
   "cell_type": "markdown",
   "id": "e37a42bf",
   "metadata": {
    "papermill": {
     "duration": 0.006809,
     "end_time": "2025-08-02T11:24:51.421256",
     "exception": false,
     "start_time": "2025-08-02T11:24:51.414447",
     "status": "completed"
    },
    "tags": []
   },
   "source": [
    "### device setup"
   ]
  },
  {
   "cell_type": "code",
   "execution_count": 8,
   "id": "bf88774f",
   "metadata": {
    "execution": {
     "iopub.execute_input": "2025-08-02T11:24:51.435856Z",
     "iopub.status.busy": "2025-08-02T11:24:51.435651Z",
     "iopub.status.idle": "2025-08-02T11:24:51.489135Z",
     "shell.execute_reply": "2025-08-02T11:24:51.488505Z"
    },
    "papermill": {
     "duration": 0.062045,
     "end_time": "2025-08-02T11:24:51.490238",
     "exception": false,
     "start_time": "2025-08-02T11:24:51.428193",
     "status": "completed"
    },
    "tags": []
   },
   "outputs": [
    {
     "data": {
      "text/plain": [
       "device(type='cuda')"
      ]
     },
     "execution_count": 8,
     "metadata": {},
     "output_type": "execute_result"
    }
   ],
   "source": [
    "device = torch.device(\"cuda\") if torch.cuda.is_available() else torch.device(\"cpu\")\n",
    "device"
   ]
  },
  {
   "cell_type": "markdown",
   "id": "4888397a",
   "metadata": {
    "papermill": {
     "duration": 0.00725,
     "end_time": "2025-08-02T11:24:51.504769",
     "exception": false,
     "start_time": "2025-08-02T11:24:51.497519",
     "status": "completed"
    },
    "tags": []
   },
   "source": [
    "### Dataset Setup"
   ]
  },
  {
   "cell_type": "markdown",
   "id": "d64f7616",
   "metadata": {
    "papermill": {
     "duration": 0.007032,
     "end_time": "2025-08-02T11:24:51.518918",
     "exception": false,
     "start_time": "2025-08-02T11:24:51.511886",
     "status": "completed"
    },
    "tags": []
   },
   "source": [
    "#### Dataset class"
   ]
  },
  {
   "cell_type": "code",
   "execution_count": 9,
   "id": "ef222587",
   "metadata": {
    "execution": {
     "iopub.execute_input": "2025-08-02T11:24:51.534263Z",
     "iopub.status.busy": "2025-08-02T11:24:51.533771Z",
     "iopub.status.idle": "2025-08-02T11:24:51.538733Z",
     "shell.execute_reply": "2025-08-02T11:24:51.538254Z"
    },
    "papermill": {
     "duration": 0.013617,
     "end_time": "2025-08-02T11:24:51.539757",
     "exception": false,
     "start_time": "2025-08-02T11:24:51.526140",
     "status": "completed"
    },
    "tags": []
   },
   "outputs": [],
   "source": [
    "class CMIDataset(TensorDataset):\n",
    "    def __init__(\n",
    "        self,\n",
    "        padding_mode:Literal[\"pre\", \"center\", \"post\"],\n",
    "        parent_dir: str,\n",
    "        split: Optional[Literal[\"train\", \"validation\"]]=None,\n",
    "        subset: Optional[int]=None,\n",
    "        force_download=False\n",
    "    ):\n",
    "        dataset_path = kagglehub.dataset_download(DATASET_HANDLE, force_download)\n",
    "        # Quick fix, will need to recompute and upload dataset with properly orederd folders\n",
    "        if parent_dir == \"full_dataset\":\n",
    "            parent_dir = join(\n",
    "                dataset_path,\n",
    "                # \"preprocessed_dataset\",\n",
    "                parent_dir,\n",
    "                padding_mode,\n",
    "            )\n",
    "        else:\n",
    "            parent_dir = join(\n",
    "                dataset_path,\n",
    "                # \"preprocessed_dataset\",\n",
    "                padding_mode,\n",
    "                parent_dir,\n",
    "            )\n",
    "        split = \"\" if split is None else split + \"_\"\n",
    "        x = np.load(join(parent_dir, f\"{split}X.npy\")).swapaxes(1, 2)\n",
    "        y = np.load(join(parent_dir, f\"{split}Y.npy\"))\n",
    "        if subset is not None:\n",
    "            x = x[:subset]\n",
    "            y = y[:subset]\n",
    "        super().__init__(\n",
    "            torch.from_numpy(x).to(device),\n",
    "            torch.from_numpy(y).to(device),\n",
    "        )"
   ]
  },
  {
   "cell_type": "markdown",
   "id": "55d2261e",
   "metadata": {
    "papermill": {
     "duration": 0.00713,
     "end_time": "2025-08-02T11:24:51.554030",
     "exception": false,
     "start_time": "2025-08-02T11:24:51.546900",
     "status": "completed"
    },
    "tags": []
   },
   "source": [
    "#### Meta data loading"
   ]
  },
  {
   "cell_type": "code",
   "execution_count": 11,
   "id": "890b47f6",
   "metadata": {
    "execution": {
     "iopub.execute_input": "2025-08-02T11:24:51.568885Z",
     "iopub.status.busy": "2025-08-02T11:24:51.568712Z",
     "iopub.status.idle": "2025-08-02T11:24:51.754759Z",
     "shell.execute_reply": "2025-08-02T11:24:51.753849Z"
    },
    "papermill": {
     "duration": 0.194808,
     "end_time": "2025-08-02T11:24:51.755943",
     "exception": false,
     "start_time": "2025-08-02T11:24:51.561135",
     "status": "completed"
    },
    "tags": []
   },
   "outputs": [
    {
     "name": "stdout",
     "output_type": "stream",
     "text": [
      "Downloading from https://www.kaggle.com/api/v1/datasets/download/mauroabidalcarrer/prepocessed-cmi-2025?dataset_version_number=36...\n"
     ]
    },
    {
     "name": "stderr",
     "output_type": "stream",
     "text": [
      "100%|██████████| 10.7G/10.7G [05:30<00:00, 35.0MB/s]"
     ]
    },
    {
     "name": "stdout",
     "output_type": "stream",
     "text": [
      "Extracting files...\n"
     ]
    },
    {
     "name": "stderr",
     "output_type": "stream",
     "text": [
      "\n"
     ]
    },
    {
     "name": "stdout",
     "output_type": "stream",
     "text": [
      "['acc_mag', 'acc_mag_diff', 'acc_x', 'acc_x_diff', 'acc_y', 'acc_y_diff', 'acc_z', 'acc_z_diff', 'angular_vel_x', 'angular_vel_x_diff', 'angular_vel_y', 'angular_vel_y_diff', 'angular_vel_z', 'angular_vel_z_diff', 'delta_rot_mag', 'delta_rot_mag_diff', 'euler_x', 'euler_x_diff', 'euler_y', 'euler_y_diff', 'euler_z', 'euler_z_diff', 'linear_acc_mag', 'linear_acc_mag_diff', 'linear_acc_x', 'linear_acc_x_diff', 'linear_acc_y', 'linear_acc_y_diff', 'linear_acc_z', 'linear_acc_z_diff', 'quat_rot_mag', 'quat_rot_mag_diff', 'rot_w', 'rot_w_diff', 'rot_x', 'rot_x_diff', 'rot_y', 'rot_y_diff', 'rot_z', 'rot_z_diff', 'rotation_axis_x', 'rotation_axis_x_diff', 'rotation_axis_y', 'rotation_axis_y_diff', 'rotation_axis_z', 'rotation_axis_z_diff', 'thm_1', 'thm_1_diff', 'thm_2', 'thm_2_diff', 'thm_3', 'thm_3_diff', 'thm_4', 'thm_4_diff', 'thm_5', 'thm_5_diff', 'tof_1_v00', 'tof_1_v00_diff', 'tof_1_v01', 'tof_1_v01_diff', 'tof_1_v02', 'tof_1_v02_diff', 'tof_1_v03', 'tof_1_v03_diff', 'tof_1_v04', 'tof_1_v04_diff', 'tof_1_v05', 'tof_1_v05_diff', 'tof_1_v06', 'tof_1_v06_diff', 'tof_1_v07', 'tof_1_v07_diff', 'tof_1_v08', 'tof_1_v08_diff', 'tof_1_v09', 'tof_1_v09_diff', 'tof_1_v10', 'tof_1_v10_diff', 'tof_1_v11', 'tof_1_v11_diff', 'tof_1_v12', 'tof_1_v12_diff', 'tof_1_v13', 'tof_1_v13_diff', 'tof_1_v14', 'tof_1_v14_diff', 'tof_1_v15', 'tof_1_v15_diff', 'tof_1_v16', 'tof_1_v16_diff', 'tof_1_v17', 'tof_1_v17_diff', 'tof_1_v18', 'tof_1_v18_diff', 'tof_1_v19', 'tof_1_v19_diff', 'tof_1_v20', 'tof_1_v20_diff', 'tof_1_v21', 'tof_1_v21_diff', 'tof_1_v22', 'tof_1_v22_diff', 'tof_1_v23', 'tof_1_v23_diff', 'tof_1_v24', 'tof_1_v24_diff', 'tof_1_v25', 'tof_1_v25_diff', 'tof_1_v26', 'tof_1_v26_diff', 'tof_1_v27', 'tof_1_v27_diff', 'tof_1_v28', 'tof_1_v28_diff', 'tof_1_v29', 'tof_1_v29_diff', 'tof_1_v30', 'tof_1_v30_diff', 'tof_1_v31', 'tof_1_v31_diff', 'tof_1_v32', 'tof_1_v32_diff', 'tof_1_v33', 'tof_1_v33_diff', 'tof_1_v34', 'tof_1_v34_diff', 'tof_1_v35', 'tof_1_v35_diff', 'tof_1_v36', 'tof_1_v36_diff', 'tof_1_v37', 'tof_1_v37_diff', 'tof_1_v38', 'tof_1_v38_diff', 'tof_1_v39', 'tof_1_v39_diff', 'tof_1_v40', 'tof_1_v40_diff', 'tof_1_v41', 'tof_1_v41_diff', 'tof_1_v42', 'tof_1_v42_diff', 'tof_1_v43', 'tof_1_v43_diff', 'tof_1_v44', 'tof_1_v44_diff', 'tof_1_v45', 'tof_1_v45_diff', 'tof_1_v46', 'tof_1_v46_diff', 'tof_1_v47', 'tof_1_v47_diff', 'tof_1_v48', 'tof_1_v48_diff', 'tof_1_v49', 'tof_1_v49_diff', 'tof_1_v50', 'tof_1_v50_diff', 'tof_1_v51', 'tof_1_v51_diff', 'tof_1_v52', 'tof_1_v52_diff', 'tof_1_v53', 'tof_1_v53_diff', 'tof_1_v54', 'tof_1_v54_diff', 'tof_1_v55', 'tof_1_v55_diff', 'tof_1_v56', 'tof_1_v56_diff', 'tof_1_v57', 'tof_1_v57_diff', 'tof_1_v58', 'tof_1_v58_diff', 'tof_1_v59', 'tof_1_v59_diff', 'tof_1_v60', 'tof_1_v60_diff', 'tof_1_v61', 'tof_1_v61_diff', 'tof_1_v62', 'tof_1_v62_diff', 'tof_1_v63', 'tof_1_v63_diff', 'tof_2_v00', 'tof_2_v00_diff', 'tof_2_v01', 'tof_2_v01_diff', 'tof_2_v02', 'tof_2_v02_diff', 'tof_2_v03', 'tof_2_v03_diff', 'tof_2_v04', 'tof_2_v04_diff', 'tof_2_v05', 'tof_2_v05_diff', 'tof_2_v06', 'tof_2_v06_diff', 'tof_2_v07', 'tof_2_v07_diff', 'tof_2_v08', 'tof_2_v08_diff', 'tof_2_v09', 'tof_2_v09_diff', 'tof_2_v10', 'tof_2_v10_diff', 'tof_2_v11', 'tof_2_v11_diff', 'tof_2_v12', 'tof_2_v12_diff', 'tof_2_v13', 'tof_2_v13_diff', 'tof_2_v14', 'tof_2_v14_diff', 'tof_2_v15', 'tof_2_v15_diff', 'tof_2_v16', 'tof_2_v16_diff', 'tof_2_v17', 'tof_2_v17_diff', 'tof_2_v18', 'tof_2_v18_diff', 'tof_2_v19', 'tof_2_v19_diff', 'tof_2_v20', 'tof_2_v20_diff', 'tof_2_v21', 'tof_2_v21_diff', 'tof_2_v22', 'tof_2_v22_diff', 'tof_2_v23', 'tof_2_v23_diff', 'tof_2_v24', 'tof_2_v24_diff', 'tof_2_v25', 'tof_2_v25_diff', 'tof_2_v26', 'tof_2_v26_diff', 'tof_2_v27', 'tof_2_v27_diff', 'tof_2_v28', 'tof_2_v28_diff', 'tof_2_v29', 'tof_2_v29_diff', 'tof_2_v30', 'tof_2_v30_diff', 'tof_2_v31', 'tof_2_v31_diff', 'tof_2_v32', 'tof_2_v32_diff', 'tof_2_v33', 'tof_2_v33_diff', 'tof_2_v34', 'tof_2_v34_diff', 'tof_2_v35', 'tof_2_v35_diff', 'tof_2_v36', 'tof_2_v36_diff', 'tof_2_v37', 'tof_2_v37_diff', 'tof_2_v38', 'tof_2_v38_diff', 'tof_2_v39', 'tof_2_v39_diff', 'tof_2_v40', 'tof_2_v40_diff', 'tof_2_v41', 'tof_2_v41_diff', 'tof_2_v42', 'tof_2_v42_diff', 'tof_2_v43', 'tof_2_v43_diff', 'tof_2_v44', 'tof_2_v44_diff', 'tof_2_v45', 'tof_2_v45_diff', 'tof_2_v46', 'tof_2_v46_diff', 'tof_2_v47', 'tof_2_v47_diff', 'tof_2_v48', 'tof_2_v48_diff', 'tof_2_v49', 'tof_2_v49_diff', 'tof_2_v50', 'tof_2_v50_diff', 'tof_2_v51', 'tof_2_v51_diff', 'tof_2_v52', 'tof_2_v52_diff', 'tof_2_v53', 'tof_2_v53_diff', 'tof_2_v54', 'tof_2_v54_diff', 'tof_2_v55', 'tof_2_v55_diff', 'tof_2_v56', 'tof_2_v56_diff', 'tof_2_v57', 'tof_2_v57_diff', 'tof_2_v58', 'tof_2_v58_diff', 'tof_2_v59', 'tof_2_v59_diff', 'tof_2_v60', 'tof_2_v60_diff', 'tof_2_v61', 'tof_2_v61_diff', 'tof_2_v62', 'tof_2_v62_diff', 'tof_2_v63', 'tof_2_v63_diff', 'tof_3_v00', 'tof_3_v00_diff', 'tof_3_v01', 'tof_3_v01_diff', 'tof_3_v02', 'tof_3_v02_diff', 'tof_3_v03', 'tof_3_v03_diff', 'tof_3_v04', 'tof_3_v04_diff', 'tof_3_v05', 'tof_3_v05_diff', 'tof_3_v06', 'tof_3_v06_diff', 'tof_3_v07', 'tof_3_v07_diff', 'tof_3_v08', 'tof_3_v08_diff', 'tof_3_v09', 'tof_3_v09_diff', 'tof_3_v10', 'tof_3_v10_diff', 'tof_3_v11', 'tof_3_v11_diff', 'tof_3_v12', 'tof_3_v12_diff', 'tof_3_v13', 'tof_3_v13_diff', 'tof_3_v14', 'tof_3_v14_diff', 'tof_3_v15', 'tof_3_v15_diff', 'tof_3_v16', 'tof_3_v16_diff', 'tof_3_v17', 'tof_3_v17_diff', 'tof_3_v18', 'tof_3_v18_diff', 'tof_3_v19', 'tof_3_v19_diff', 'tof_3_v20', 'tof_3_v20_diff', 'tof_3_v21', 'tof_3_v21_diff', 'tof_3_v22', 'tof_3_v22_diff', 'tof_3_v23', 'tof_3_v23_diff', 'tof_3_v24', 'tof_3_v24_diff', 'tof_3_v25', 'tof_3_v25_diff', 'tof_3_v26', 'tof_3_v26_diff', 'tof_3_v27', 'tof_3_v27_diff', 'tof_3_v28', 'tof_3_v28_diff', 'tof_3_v29', 'tof_3_v29_diff', 'tof_3_v30', 'tof_3_v30_diff', 'tof_3_v31', 'tof_3_v31_diff', 'tof_3_v32', 'tof_3_v32_diff', 'tof_3_v33', 'tof_3_v33_diff', 'tof_3_v34', 'tof_3_v34_diff', 'tof_3_v35', 'tof_3_v35_diff', 'tof_3_v36', 'tof_3_v36_diff', 'tof_3_v37', 'tof_3_v37_diff', 'tof_3_v38', 'tof_3_v38_diff', 'tof_3_v39', 'tof_3_v39_diff', 'tof_3_v40', 'tof_3_v40_diff', 'tof_3_v41', 'tof_3_v41_diff', 'tof_3_v42', 'tof_3_v42_diff', 'tof_3_v43', 'tof_3_v43_diff', 'tof_3_v44', 'tof_3_v44_diff', 'tof_3_v45', 'tof_3_v45_diff', 'tof_3_v46', 'tof_3_v46_diff', 'tof_3_v47', 'tof_3_v47_diff', 'tof_3_v48', 'tof_3_v48_diff', 'tof_3_v49', 'tof_3_v49_diff', 'tof_3_v50', 'tof_3_v50_diff', 'tof_3_v51', 'tof_3_v51_diff', 'tof_3_v52', 'tof_3_v52_diff', 'tof_3_v53', 'tof_3_v53_diff', 'tof_3_v54', 'tof_3_v54_diff', 'tof_3_v55', 'tof_3_v55_diff', 'tof_3_v56', 'tof_3_v56_diff', 'tof_3_v57', 'tof_3_v57_diff', 'tof_3_v58', 'tof_3_v58_diff', 'tof_3_v59', 'tof_3_v59_diff', 'tof_3_v60', 'tof_3_v60_diff', 'tof_3_v61', 'tof_3_v61_diff', 'tof_3_v62', 'tof_3_v62_diff', 'tof_3_v63', 'tof_3_v63_diff', 'tof_4_v00', 'tof_4_v00_diff', 'tof_4_v01', 'tof_4_v01_diff', 'tof_4_v02', 'tof_4_v02_diff', 'tof_4_v03', 'tof_4_v03_diff', 'tof_4_v04', 'tof_4_v04_diff', 'tof_4_v05', 'tof_4_v05_diff', 'tof_4_v06', 'tof_4_v06_diff', 'tof_4_v07', 'tof_4_v07_diff', 'tof_4_v08', 'tof_4_v08_diff', 'tof_4_v09', 'tof_4_v09_diff', 'tof_4_v10', 'tof_4_v10_diff', 'tof_4_v11', 'tof_4_v11_diff', 'tof_4_v12', 'tof_4_v12_diff', 'tof_4_v13', 'tof_4_v13_diff', 'tof_4_v14', 'tof_4_v14_diff', 'tof_4_v15', 'tof_4_v15_diff', 'tof_4_v16', 'tof_4_v16_diff', 'tof_4_v17', 'tof_4_v17_diff', 'tof_4_v18', 'tof_4_v18_diff', 'tof_4_v19', 'tof_4_v19_diff', 'tof_4_v20', 'tof_4_v20_diff', 'tof_4_v21', 'tof_4_v21_diff', 'tof_4_v22', 'tof_4_v22_diff', 'tof_4_v23', 'tof_4_v23_diff', 'tof_4_v24', 'tof_4_v24_diff', 'tof_4_v25', 'tof_4_v25_diff', 'tof_4_v26', 'tof_4_v26_diff', 'tof_4_v27', 'tof_4_v27_diff', 'tof_4_v28', 'tof_4_v28_diff', 'tof_4_v29', 'tof_4_v29_diff', 'tof_4_v30', 'tof_4_v30_diff', 'tof_4_v31', 'tof_4_v31_diff', 'tof_4_v32', 'tof_4_v32_diff', 'tof_4_v33', 'tof_4_v33_diff', 'tof_4_v34', 'tof_4_v34_diff', 'tof_4_v35', 'tof_4_v35_diff', 'tof_4_v36', 'tof_4_v36_diff', 'tof_4_v37', 'tof_4_v37_diff', 'tof_4_v38', 'tof_4_v38_diff', 'tof_4_v39', 'tof_4_v39_diff', 'tof_4_v40', 'tof_4_v40_diff', 'tof_4_v41', 'tof_4_v41_diff', 'tof_4_v42', 'tof_4_v42_diff', 'tof_4_v43', 'tof_4_v43_diff', 'tof_4_v44', 'tof_4_v44_diff', 'tof_4_v45', 'tof_4_v45_diff', 'tof_4_v46', 'tof_4_v46_diff', 'tof_4_v47', 'tof_4_v47_diff', 'tof_4_v48', 'tof_4_v48_diff', 'tof_4_v49', 'tof_4_v49_diff', 'tof_4_v50', 'tof_4_v50_diff', 'tof_4_v51', 'tof_4_v51_diff', 'tof_4_v52', 'tof_4_v52_diff', 'tof_4_v53', 'tof_4_v53_diff', 'tof_4_v54', 'tof_4_v54_diff', 'tof_4_v55', 'tof_4_v55_diff', 'tof_4_v56', 'tof_4_v56_diff', 'tof_4_v57', 'tof_4_v57_diff', 'tof_4_v58', 'tof_4_v58_diff', 'tof_4_v59', 'tof_4_v59_diff', 'tof_4_v60', 'tof_4_v60_diff', 'tof_4_v61', 'tof_4_v61_diff', 'tof_4_v62', 'tof_4_v62_diff', 'tof_4_v63', 'tof_4_v63_diff', 'tof_5_v00', 'tof_5_v00_diff', 'tof_5_v01', 'tof_5_v01_diff', 'tof_5_v02', 'tof_5_v02_diff', 'tof_5_v03', 'tof_5_v03_diff', 'tof_5_v04', 'tof_5_v04_diff', 'tof_5_v05', 'tof_5_v05_diff', 'tof_5_v06', 'tof_5_v06_diff', 'tof_5_v07', 'tof_5_v07_diff', 'tof_5_v08', 'tof_5_v08_diff', 'tof_5_v09', 'tof_5_v09_diff', 'tof_5_v10', 'tof_5_v10_diff', 'tof_5_v11', 'tof_5_v11_diff', 'tof_5_v12', 'tof_5_v12_diff', 'tof_5_v13', 'tof_5_v13_diff', 'tof_5_v14', 'tof_5_v14_diff', 'tof_5_v15', 'tof_5_v15_diff', 'tof_5_v16', 'tof_5_v16_diff', 'tof_5_v17', 'tof_5_v17_diff', 'tof_5_v18', 'tof_5_v18_diff', 'tof_5_v19', 'tof_5_v19_diff', 'tof_5_v20', 'tof_5_v20_diff', 'tof_5_v21', 'tof_5_v21_diff', 'tof_5_v22', 'tof_5_v22_diff', 'tof_5_v23', 'tof_5_v23_diff', 'tof_5_v24', 'tof_5_v24_diff', 'tof_5_v25', 'tof_5_v25_diff', 'tof_5_v26', 'tof_5_v26_diff', 'tof_5_v27', 'tof_5_v27_diff', 'tof_5_v28', 'tof_5_v28_diff', 'tof_5_v29', 'tof_5_v29_diff', 'tof_5_v30', 'tof_5_v30_diff', 'tof_5_v31', 'tof_5_v31_diff', 'tof_5_v32', 'tof_5_v32_diff', 'tof_5_v33', 'tof_5_v33_diff', 'tof_5_v34', 'tof_5_v34_diff', 'tof_5_v35', 'tof_5_v35_diff', 'tof_5_v36', 'tof_5_v36_diff', 'tof_5_v37', 'tof_5_v37_diff', 'tof_5_v38', 'tof_5_v38_diff', 'tof_5_v39', 'tof_5_v39_diff', 'tof_5_v40', 'tof_5_v40_diff', 'tof_5_v41', 'tof_5_v41_diff', 'tof_5_v42', 'tof_5_v42_diff', 'tof_5_v43', 'tof_5_v43_diff', 'tof_5_v44', 'tof_5_v44_diff', 'tof_5_v45', 'tof_5_v45_diff', 'tof_5_v46', 'tof_5_v46_diff', 'tof_5_v47', 'tof_5_v47_diff', 'tof_5_v48', 'tof_5_v48_diff', 'tof_5_v49', 'tof_5_v49_diff', 'tof_5_v50', 'tof_5_v50_diff', 'tof_5_v51', 'tof_5_v51_diff', 'tof_5_v52', 'tof_5_v52_diff', 'tof_5_v53', 'tof_5_v53_diff', 'tof_5_v54', 'tof_5_v54_diff', 'tof_5_v55', 'tof_5_v55_diff', 'tof_5_v56', 'tof_5_v56_diff', 'tof_5_v57', 'tof_5_v57_diff', 'tof_5_v58', 'tof_5_v58_diff', 'tof_5_v59', 'tof_5_v59_diff', 'tof_5_v60', 'tof_5_v60_diff', 'tof_5_v61', 'tof_5_v61_diff', 'tof_5_v62', 'tof_5_v62_diff', 'tof_5_v63', 'tof_5_v63_diff']\n",
      "tof_feats_idx: [56, 57, 58, 59, 60, 61, 62, 63, 64, 65, 66, 67, 68, 69, 70, 71, 72, 73, 74, 75, 76, 77, 78, 79, 80, 81, 82, 83, 84, 85, 86, 87, 88, 89, 90, 91, 92, 93, 94, 95, 96, 97, 98, 99, 100, 101, 102, 103, 104, 105, 106, 107, 108, 109, 110, 111, 112, 113, 114, 115, 116, 117, 118, 119, 120, 121, 122, 123, 124, 125, 126, 127, 128, 129, 130, 131, 132, 133, 134, 135, 136, 137, 138, 139, 140, 141, 142, 143, 144, 145, 146, 147, 148, 149, 150, 151, 152, 153, 154, 155, 156, 157, 158, 159, 160, 161, 162, 163, 164, 165, 166, 167, 168, 169, 170, 171, 172, 173, 174, 175, 176, 177, 178, 179, 180, 181, 182, 183, 184, 185, 186, 187, 188, 189, 190, 191, 192, 193, 194, 195, 196, 197, 198, 199, 200, 201, 202, 203, 204, 205, 206, 207, 208, 209, 210, 211, 212, 213, 214, 215, 216, 217, 218, 219, 220, 221, 222, 223, 224, 225, 226, 227, 228, 229, 230, 231, 232, 233, 234, 235, 236, 237, 238, 239, 240, 241, 242, 243, 244, 245, 246, 247, 248, 249, 250, 251, 252, 253, 254, 255, 256, 257, 258, 259, 260, 261, 262, 263, 264, 265, 266, 267, 268, 269, 270, 271, 272, 273, 274, 275, 276, 277, 278, 279, 280, 281, 282, 283, 284, 285, 286, 287, 288, 289, 290, 291, 292, 293, 294, 295, 296, 297, 298, 299, 300, 301, 302, 303, 304, 305, 306, 307, 308, 309, 310, 311, 312, 313, 314, 315, 316, 317, 318, 319, 320, 321, 322, 323, 324, 325, 326, 327, 328, 329, 330, 331, 332, 333, 334, 335, 336, 337, 338, 339, 340, 341, 342, 343, 344, 345, 346, 347, 348, 349, 350, 351, 352, 353, 354, 355, 356, 357, 358, 359, 360, 361, 362, 363, 364, 365, 366, 367, 368, 369, 370, 371, 372, 373, 374, 375, 376, 377, 378, 379, 380, 381, 382, 383, 384, 385, 386, 387, 388, 389, 390, 391, 392, 393, 394, 395, 396, 397, 398, 399, 400, 401, 402, 403, 404, 405, 406, 407, 408, 409, 410, 411, 412, 413, 414, 415, 416, 417, 418, 419, 420, 421, 422, 423, 424, 425, 426, 427, 428, 429, 430, 431, 432, 433, 434, 435, 436, 437, 438, 439, 440, 441, 442, 443, 444, 445, 446, 447, 448, 449, 450, 451, 452, 453, 454, 455, 456, 457, 458, 459, 460, 461, 462, 463, 464, 465, 466, 467, 468, 469, 470, 471, 472, 473, 474, 475, 476, 477, 478, 479, 480, 481, 482, 483, 484, 485, 486, 487, 488, 489, 490, 491, 492, 493, 494, 495, 496, 497, 498, 499, 500, 501, 502, 503, 504, 505, 506, 507, 508, 509, 510, 511, 512, 513, 514, 515, 516, 517, 518, 519, 520, 521, 522, 523, 524, 525, 526, 527, 528, 529, 530, 531, 532, 533, 534, 535, 536, 537, 538, 539, 540, 541, 542, 543, 544, 545, 546, 547, 548, 549, 550, 551, 552, 553, 554, 555, 556, 557, 558, 559, 560, 561, 562, 563, 564, 565, 566, 567, 568, 569, 570, 571, 572, 573, 574, 575, 576, 577, 578, 579, 580, 581, 582, 583, 584, 585, 586, 587, 588, 589, 590, 591, 592, 593, 594, 595, 596, 597, 598, 599, 600, 601, 602, 603, 604, 605, 606, 607, 608, 609, 610, 611, 612, 613, 614, 615, 616, 617, 618, 619, 620, 621, 622, 623, 624, 625, 626, 627, 628, 629, 630, 631, 632, 633, 634, 635, 636, 637, 638, 639, 640, 641, 642, 643, 644, 645, 646, 647, 648, 649, 650, 651, 652, 653, 654, 655, 656, 657, 658, 659, 660, 661, 662, 663, 664, 665, 666, 667, 668, 669, 670, 671, 672, 673, 674, 675, 676, 677, 678, 679, 680, 681, 682, 683, 684, 685, 686, 687, 688, 689, 690, 691, 692, 693, 694, 695]\n",
      "thm_feats_idx: [46, 47, 48, 49, 50, 51, 52, 53, 54, 55]\n",
      "imu_feats_idx: [0, 1, 2, 3, 4, 5, 6, 7, 8, 9, 10, 11, 12, 13, 14, 15, 16, 17, 18, 19, 20, 21, 22, 23, 24, 25, 26, 27, 28, 29, 30, 31, 32, 33, 34, 35, 36, 37, 38, 39, 40, 41, 42, 43, 44, 45]\n"
     ]
    }
   ],
   "source": [
    "dataset_path = kagglehub.dataset_download(DATASET_HANDLE)\n",
    "meta_data_path = join(\n",
    "    dataset_path,\n",
    "    # \"preprocessed_dataset\",\n",
    "    \"full_dataset_meta_data.json\"\n",
    ")\n",
    "with open(meta_data_path, \"r\") as fp:\n",
    "    meta_data = json.load(fp)\n",
    "# Convert target names into a ndarray to index it batchwise.\n",
    "def get_sensor_indices(sensor_prefix: str) -> list[int]:\n",
    "    is_sensor_feat = methodcaller(\"startswith\", sensor_prefix)\n",
    "    return [feat_idx for feat_idx, feat in enumerate(meta_data[\"feature_cols\"]) if is_sensor_feat(feat)]\n",
    "\n",
    "tof_idx = get_sensor_indices(\"tof\")\n",
    "thm_idx = get_sensor_indices(\"thm\")\n",
    "imu_idx = list(filter(lambda idx: idx not in tof_idx + thm_idx, range(len(meta_data[\"feature_cols\"]))))\n",
    "\n",
    "print(meta_data[\"feature_cols\"])\n",
    "print(\"tof_feats_idx:\", tof_idx)\n",
    "print(\"thm_feats_idx:\", thm_idx)\n",
    "print(\"imu_feats_idx:\", imu_idx)"
   ]
  },
  {
   "cell_type": "markdown",
   "id": "2ddefc4c",
   "metadata": {
    "papermill": {
     "duration": 0.007225,
     "end_time": "2025-08-02T11:24:51.770769",
     "exception": false,
     "start_time": "2025-08-02T11:24:51.763544",
     "status": "completed"
    },
    "tags": []
   },
   "source": [
    "#### Compute class weights."
   ]
  },
  {
   "cell_type": "code",
   "execution_count": 12,
   "id": "e063e9f3",
   "metadata": {
    "execution": {
     "iopub.execute_input": "2025-08-02T11:24:51.786019Z",
     "iopub.status.busy": "2025-08-02T11:24:51.785779Z",
     "iopub.status.idle": "2025-08-02T11:24:51.790604Z",
     "shell.execute_reply": "2025-08-02T11:24:51.789911Z"
    },
    "papermill": {
     "duration": 0.013633,
     "end_time": "2025-08-02T11:24:51.791639",
     "exception": false,
     "start_time": "2025-08-02T11:24:51.778006",
     "status": "completed"
    },
    "tags": []
   },
   "outputs": [],
   "source": [
    "def compute_weighted_cross_entropy_loss(\n",
    "    dataset: Dataset[tuple[torch.Tensor, torch.Tensor]]\n",
    ") -> nn.CrossEntropyLoss:\n",
    "    \"\"\"\n",
    "    Computes class weights from a dataset with one-hot encoded targets and returns a CrossEntropyLoss with those weights.\n",
    "\n",
    "    Args:\n",
    "        dataset: A PyTorch Dataset that yields (x, y) where y is a one-hot encoded tensor of shape (num_classes,)\n",
    "\n",
    "    Returns:\n",
    "        A torch.nn.CrossEntropyLoss object with class weights based on inverse class frequency.\n",
    "    \"\"\"\n",
    "    class_counts: Counter = Counter()\n",
    "    num_samples = 0\n",
    "\n",
    "    for _, y in dataset:\n",
    "        class_idx = y.argmax().item()\n",
    "        class_counts[class_idx] += 1\n",
    "        num_samples += 1\n",
    "\n",
    "    num_classes = len(class_counts)\n",
    "    weights = torch.tensor(\n",
    "        [num_samples / class_counts[i] for i in range(num_classes)],\n",
    "        dtype=torch.float32,\n",
    "    )\n",
    "\n",
    "    # Optional: normalize weights so they sum to 1\n",
    "    weights = weights / weights.sum()\n",
    "\n",
    "    return nn.CrossEntropyLoss(weight=weights.to(device))\n"
   ]
  },
  {
   "cell_type": "markdown",
   "id": "21991d61",
   "metadata": {
    "papermill": {
     "duration": 0.007201,
     "end_time": "2025-08-02T11:24:51.806304",
     "exception": false,
     "start_time": "2025-08-02T11:24:51.799103",
     "status": "completed"
    },
    "tags": []
   },
   "source": [
    "### BFRBs indices"
   ]
  },
  {
   "cell_type": "code",
   "execution_count": 13,
   "id": "e2b8864b",
   "metadata": {
    "execution": {
     "iopub.execute_input": "2025-08-02T11:24:51.821785Z",
     "iopub.status.busy": "2025-08-02T11:24:51.821390Z",
     "iopub.status.idle": "2025-08-02T11:25:20.508716Z",
     "shell.execute_reply": "2025-08-02T11:25:20.507884Z"
    },
    "papermill": {
     "duration": 28.696544,
     "end_time": "2025-08-02T11:25:20.510088",
     "exception": false,
     "start_time": "2025-08-02T11:24:51.813544",
     "status": "completed"
    },
    "tags": []
   },
   "outputs": [
    {
     "name": "stdout",
     "output_type": "stream",
     "text": [
      "Loading datasets...\n",
      "Train rows: 574945, Test rows: 107\n"
     ]
    }
   ],
   "source": [
    "print(\"Loading datasets...\")\n",
    "competition_dataset_path = kagglehub.competition_download(COMPETITION_HANDLE)\n",
    "train_df = pd.read_csv(join(competition_dataset_path, \"train.csv\"))\n",
    "train_dem_df = pd.read_csv(join(competition_dataset_path, \"train_demographics.csv\"))\n",
    "test_df = pd.read_csv(join(competition_dataset_path, \"test.csv\"))\n",
    "test_dem_df = pd.read_csv(join(competition_dataset_path, \"test_demographics.csv\"))\n",
    "print(f\"Train rows: {len(train_df)}, Test rows: {len(test_df)}\")\n",
    "\n",
    "# Encode labels\n",
    "label_encoder = LabelEncoder()\n",
    "train_df['gesture'] = label_encoder.fit_transform(train_df['gesture'].astype(str))\n",
    "gesture_classes = label_encoder.classes_\n",
    "\n",
    "bfrb_gestures = [\n",
    "    'Above ear - pull hair',\n",
    "    'Forehead - pull hairline',\n",
    "    'Forehead - scratch',\n",
    "    'Eyebrow - pull hair',\n",
    "    'Eyelash - pull hair',\n",
    "    'Neck - pinch skin',\n",
    "    'Neck - scratch',\n",
    "    'Cheek - pinch skin'\n",
    "]\n",
    "bfrb_indices = label_encoder.transform(bfrb_gestures)"
   ]
  },
  {
   "cell_type": "markdown",
   "id": "35e5953f",
   "metadata": {
    "papermill": {
     "duration": 0.008669,
     "end_time": "2025-08-02T11:25:20.526925",
     "exception": false,
     "start_time": "2025-08-02T11:25:20.518256",
     "status": "completed"
    },
    "tags": []
   },
   "source": [
    "### Scheduler"
   ]
  },
  {
   "cell_type": "code",
   "execution_count": 14,
   "id": "a54f9ce8",
   "metadata": {
    "execution": {
     "iopub.execute_input": "2025-08-02T11:25:20.542848Z",
     "iopub.status.busy": "2025-08-02T11:25:20.542635Z",
     "iopub.status.idle": "2025-08-02T11:25:20.549658Z",
     "shell.execute_reply": "2025-08-02T11:25:20.549107Z"
    },
    "papermill": {
     "duration": 0.016225,
     "end_time": "2025-08-02T11:25:20.550737",
     "exception": false,
     "start_time": "2025-08-02T11:25:20.534512",
     "status": "completed"
    },
    "tags": []
   },
   "outputs": [],
   "source": [
    "class CosineAnnealingWarmupRestarts(_LRScheduler):\n",
    "    def __init__(\n",
    "        self,\n",
    "        optimizer: Optimizer,\n",
    "        warmup_steps: int,\n",
    "        max_lr: float,\n",
    "        min_lr: float,\n",
    "        cycle_length: int,\n",
    "        cycle_mult: float = 1.0,\n",
    "        gamma: float = 1.0,\n",
    "        last_epoch: int = -1,\n",
    "    ) -> None:\n",
    "        \"\"\"\n",
    "        Args:\n",
    "            optimizer: Wrapped optimizer.\n",
    "            warmup_steps: Number of steps for linear warmup.\n",
    "            max_lr: Initial maximum learning rate.\n",
    "            min_lr: Minimum learning rate after decay.\n",
    "            cycle_length: Initial number of steps per cosine cycle.\n",
    "            cycle_mult: Multiplicative factor for increasing cycle lengths.\n",
    "            gamma: Multiplicative decay factor for max_lr after each cycle.\n",
    "            last_epoch: The index of last epoch. Default: -1.\n",
    "        \"\"\"\n",
    "        self.warmup_steps = warmup_steps\n",
    "        self.max_lr = max_lr\n",
    "        self.min_lr = min_lr\n",
    "        self.cycle_length = cycle_length\n",
    "        self.cycle_mult = cycle_mult\n",
    "        self.gamma = gamma\n",
    "\n",
    "        self.current_cycle = 0\n",
    "        self.cycle_step = 0\n",
    "        self.lr = max_lr\n",
    "\n",
    "        super().__init__(optimizer, last_epoch)\n",
    "\n",
    "    def get_lr(self) -> list[float]:\n",
    "        if self.last_epoch < self.warmup_steps:\n",
    "            # Linear warmup\n",
    "            scale = (self.last_epoch + 1) / self.warmup_steps\n",
    "            return [self.min_lr + scale * (self.max_lr - self.min_lr) for _ in self.base_lrs]\n",
    "\n",
    "        # Adjust for post-warmup step index\n",
    "        t = self.cycle_step\n",
    "        T = self.cycle_length\n",
    "\n",
    "        cosine_decay = 0.5 * (1 + math.cos(math.pi * t / T))\n",
    "        lr = self.min_lr + (self.max_lr - self.min_lr) * cosine_decay\n",
    "\n",
    "        return [lr for _ in self.base_lrs]\n",
    "\n",
    "    def step(self, epoch: Optional[int] = None) -> None:\n",
    "        if self.last_epoch >= self.warmup_steps:\n",
    "            self.cycle_step += 1\n",
    "            if self.cycle_step >= self.cycle_length:\n",
    "                self.current_cycle += 1\n",
    "                self.cycle_step = 0\n",
    "                self.cycle_length = max(int(self.cycle_length * self.cycle_mult), 1)\n",
    "                self.max_lr *= self.gamma\n",
    "        super().step(epoch)\n"
   ]
  },
  {
   "cell_type": "markdown",
   "id": "86df0ba2",
   "metadata": {
    "papermill": {
     "duration": 0.007266,
     "end_time": "2025-08-02T11:25:20.565558",
     "exception": false,
     "start_time": "2025-08-02T11:25:20.558292",
     "status": "completed"
    },
    "tags": []
   },
   "source": [
    "## Model definition"
   ]
  },
  {
   "cell_type": "code",
   "execution_count": 15,
   "id": "f99a499a",
   "metadata": {
    "execution": {
     "iopub.execute_input": "2025-08-02T11:25:20.581200Z",
     "iopub.status.busy": "2025-08-02T11:25:20.581013Z",
     "iopub.status.idle": "2025-08-02T11:25:20.601366Z",
     "shell.execute_reply": "2025-08-02T11:25:20.600664Z"
    },
    "papermill": {
     "duration": 0.029642,
     "end_time": "2025-08-02T11:25:20.602493",
     "exception": false,
     "start_time": "2025-08-02T11:25:20.572851",
     "status": "completed"
    },
    "tags": []
   },
   "outputs": [],
   "source": [
    "class MultiScaleConvs(nn.Module):\n",
    "    def __init__(self, in_channels:int, kernel_sizes:list[int]):\n",
    "        super().__init__()\n",
    "        def mk_conv_block(k_size) -> nn.Sequential:\n",
    "            return nn.Sequential(\n",
    "                nn.Conv1d(in_channels, in_channels, k_size, padding=k_size // 2, groups=in_channels),\n",
    "                nn.BatchNorm1d(in_channels),\n",
    "                nn.ReLU(),\n",
    "            )\n",
    "        self.convs = nn.ModuleList(map(mk_conv_block, kernel_sizes))\n",
    "\n",
    "    def forward(self, x:Tensor) -> Tensor:\n",
    "        yes = torch.cat([conv(x) for conv in self.convs] + [x], dim=1)\n",
    "        # print(\"stem output shape:\", yes.shape)\n",
    "        return yes\n",
    "\n",
    "class ImuFeatureExtractor(nn.Module):\n",
    "    def __init__(self, in_channels:int, kernel_size:int=15):\n",
    "        super().__init__()\n",
    "\n",
    "        self.lpf = nn.Conv1d(\n",
    "            in_channels,\n",
    "            in_channels,\n",
    "            kernel_size=kernel_size,\n",
    "            padding=kernel_size//2,\n",
    "            groups=in_channels,\n",
    "            bias=False,\n",
    "        )\n",
    "        nn.init.kaiming_uniform_(self.lpf.weight, a=math.sqrt(5))\n",
    "\n",
    "    def forward(self, x:Tensor) -> Tensor:\n",
    "        lpf_output = self.lpf(x)\n",
    "        hpf_output = x - lpf_output\n",
    "        return torch.cat((lpf_output, hpf_output, x), dim=1)  # (B, C_out, T)\n",
    "\n",
    "class SqueezeExcitationBlock(nn.Module):\n",
    "    # Copy/paste of https://www.kaggle.com/code/wasupandceacar/lb-0-82-5fold-single-bert-model#Model implementation\n",
    "    def __init__(self, channels:int, reduction:int=8):\n",
    "        super().__init__()\n",
    "        self.fc1 = nn.Linear(channels, channels // reduction, bias=True)\n",
    "        self.fc2 = nn.Linear(channels // reduction, channels, bias=True)\n",
    "        self.sigmoid = nn.Sigmoid()\n",
    "\n",
    "    def forward(self, x):\n",
    "        # x: (B, C, L)\n",
    "        se = F.adaptive_avg_pool1d(x, 1).squeeze(-1)      # -> (B, C)\n",
    "        se = F.relu(self.fc1(se), inplace=True)          # -> (B, C//r)\n",
    "        se = self.sigmoid(self.fc2(se)).unsqueeze(-1)    # -> (B, C, 1)\n",
    "        return x * se\n",
    "\n",
    "class ResidualBlock(nn.Module):\n",
    "    def __init__(self, in_chns:int, out_chns:int, dropout_ratio:float=0.3, se_reduction:int=8, kernel_size:int=3):\n",
    "        super().__init__()\n",
    "        self.blocks = nn.Sequential(\n",
    "            nn.Conv1d(in_chns, out_chns, kernel_size=kernel_size, padding=kernel_size // 2, bias=False),\n",
    "            nn.BatchNorm1d(out_chns),\n",
    "            nn.ReLU(),\n",
    "            nn.Conv1d(out_chns, out_chns, kernel_size=kernel_size, padding=kernel_size // 2, bias=False),\n",
    "            nn.BatchNorm1d(out_chns),\n",
    "            SqueezeExcitationBlock(out_chns, se_reduction),\n",
    "        )\n",
    "        self.head = nn.Sequential(nn.ReLU(), nn.Dropout(dropout_ratio))\n",
    "        if in_chns == out_chns:\n",
    "            self.skip_connection = nn.Identity() \n",
    "        else:\n",
    "            # TODO: set bias to False ?\n",
    "            self.skip_connection = nn.Sequential(\n",
    "                nn.Conv1d(in_chns, out_chns, 1, bias=False),\n",
    "                nn.BatchNorm1d(out_chns)\n",
    "            )\n",
    "            self.head.insert(1, nn.MaxPool1d(2))\n",
    "\n",
    "    def forward(self, x:Tensor) -> Tensor:\n",
    "        activaition_maps = self.skip_connection(x) + self.blocks(x)\n",
    "        return self.head(activaition_maps)\n",
    "\n",
    "class MBConvBlock(nn.Module):\n",
    "    # From this schema: https://media.licdn.com/dms/image/v2/D5612AQFjbDOm5uyxdw/article-inline_image-shrink_1500_2232/article-inline_image-shrink_1500_2232/0/1683677500817?e=1758153600&v=beta&t=n48_UW5TZTyDPhRFlJXSidUQQPQpuC756M0kNeKmYTY\n",
    "    def __init__(self, in_chns:int, out_chns:int, se_reduction:int=8, expansion_ratio:int=4, dropout_ratio:float=0.3):\n",
    "        super().__init__()\n",
    "        expanded_channels = in_chns * expansion_ratio\n",
    "        self.blocks = nn.Sequential(\n",
    "            nn.Conv1d(in_chns, expanded_channels, kernel_size=1, bias=False),\n",
    "            nn.BatchNorm1d(expanded_channels),\n",
    "            nn.ReLU(),\n",
    "            nn.Conv1d(\n",
    "                expanded_channels,\n",
    "                expanded_channels,\n",
    "                kernel_size=3,\n",
    "                padding=1,\n",
    "                groups=expanded_channels,\n",
    "                bias=False,\n",
    "            ),\n",
    "            nn.BatchNorm1d(expanded_channels),\n",
    "            nn.ReLU(),\n",
    "            SqueezeExcitationBlock(expanded_channels, se_reduction),\n",
    "            nn.Conv1d(expanded_channels, out_chns, kernel_size=1, bias=False)\n",
    "        )\n",
    "        self.head = nn.Sequential(\n",
    "            nn.BatchNorm1d(out_chns)\n",
    "            # nn.ReLU(),\n",
    "            # nn.Dropout(dropout_ratio),\n",
    "        )\n",
    "        if in_chns == out_chns:\n",
    "            self.skip_connection = nn.Identity() \n",
    "        else:\n",
    "            # TODO: set bias to False ?\n",
    "            self.skip_connection = nn.Sequential(\n",
    "                nn.Conv1d(in_chns, out_chns, 1, bias=False),\n",
    "                nn.BatchNorm1d(out_chns)\n",
    "            )\n",
    "            self.head.add_module(\"max_pool\", nn.MaxPool1d(2))\n",
    "            \n",
    "    def forward(self, x:Tensor) -> Tensor:\n",
    "        activaition_maps = self.skip_connection(x) + self.blocks(x)\n",
    "        return self.head(activaition_maps)\n",
    "\n",
    "class AdditiveAttentionLayer(nn.Module):\n",
    "    # Copied (and slightly modified) from https://www.kaggle.com/code/myso1987/cmi3-pyroch-baseline-model-add-aug-folds\n",
    "    def __init__(self, hidden_dim):\n",
    "        super().__init__()\n",
    "        self.attention = nn.Linear(hidden_dim, 1, bias=True)\n",
    "\n",
    "    def forward(self, x: Tensor) -> Tensor:\n",
    "        # x shape: (batch, channels, seq_len)\n",
    "        x = x.swapaxes(1, 2)\n",
    "        # x shape: (batch, seq_len, hidden_dim)\n",
    "        scores = torch.tanh(self.attention(x))  # (batch, seq_len, 1)\n",
    "        weights = F.softmax(scores.squeeze(-1), dim=1)  # (batch, seq_len)\n",
    "        context = torch.sum(x * weights.unsqueeze(-1), dim=1)  # (batch, hidden_dim)\n",
    "        return context\n",
    "\n",
    "class AlexNet(nn.Sequential):\n",
    "    def __init__(self, channels:list[int], dropout_ratio:float):\n",
    "        def mk_conv_block(in_channels:int, out_channels:int) -> nn.Module:\n",
    "            return nn.Sequential(\n",
    "                nn.Conv1d(in_channels, out_channels, 3, padding=1, bias=False),\n",
    "                nn.BatchNorm1d(out_channels),\n",
    "                nn.MaxPool1d(2),\n",
    "                nn.Dropout(dropout_ratio),\n",
    "            )\n",
    "        return super().__init__(*list(starmap(mk_conv_block, pairwise(channels))))\n",
    "\n",
    "class CMIHARModule(nn.Module):\n",
    "    def __init__(\n",
    "            self,\n",
    "            imu_idx:list[int],\n",
    "            thm_idx:list[int],\n",
    "            tof_idx:list[int],\n",
    "            mlp_width:int,\n",
    "            n_class:int,            \n",
    "            tof_dropout_ratio:float=0,\n",
    "            thm_dropout_ratio:float=0,\n",
    "        ):\n",
    "        super().__init__()\n",
    "        self.imu_idx = imu_idx\n",
    "        self.tof_idx = tof_idx\n",
    "        self.thm_idx = thm_idx\n",
    "        self.imu_branch = nn.Sequential(\n",
    "            # ImuFeatureExtractor(len(imu_idx)),\n",
    "            ResidualBlock(len(imu_idx), 219),\n",
    "            ResidualBlock(219, 500),\n",
    "        )\n",
    "        self.tof_branch = AlexNet([len(tof_idx), 82, 500], tof_dropout_ratio)\n",
    "        self.thm_branch = AlexNet([len(thm_idx), 82, 500], thm_dropout_ratio)\n",
    "        self.rnn = nn.GRU(500 * 3, mlp_width // 2, bidirectional=True)\n",
    "        self.attention = AdditiveAttentionLayer(mlp_width)\n",
    "        self.head = nn.Sequential(\n",
    "            # Head\n",
    "            nn.LazyLinear(mlp_width, bias=False),\n",
    "            nn.BatchNorm1d(mlp_width),\n",
    "            nn.ReLU(),\n",
    "            nn.Linear(mlp_width, mlp_width // 2, bias=False),\n",
    "            nn.BatchNorm1d(mlp_width // 2),\n",
    "            nn.ReLU(),\n",
    "            nn.Linear(mlp_width // 2, n_class),\n",
    "        )\n",
    "\n",
    "    def forward(self, x:Tensor) -> Tensor:\n",
    "        concatenated_activation_maps = torch.cat(\n",
    "            (\n",
    "                self.imu_branch(x[:, self.imu_idx]),\n",
    "                self.thm_branch(x[:, self.thm_idx]),\n",
    "                self.tof_branch(x[:, self.tof_idx]),\n",
    "            ),\n",
    "            dim=CHANNELS_DIMENSION,\n",
    "        )\n",
    "        lstm_output, _  = self.rnn(concatenated_activation_maps.swapaxes(1, 2))\n",
    "        lstm_output = lstm_output.swapaxes(1, 2) # redundant\n",
    "        attended = self.attention(lstm_output)\n",
    "        return self.head(attended)"
   ]
  },
  {
   "cell_type": "markdown",
   "id": "999a5ac6",
   "metadata": {
    "papermill": {
     "duration": 0.007331,
     "end_time": "2025-08-02T11:25:20.617266",
     "exception": false,
     "start_time": "2025-08-02T11:25:20.609935",
     "status": "completed"
    },
    "tags": []
   },
   "source": [
    "### Create model function"
   ]
  },
  {
   "cell_type": "code",
   "execution_count": 16,
   "id": "d55cb1b1",
   "metadata": {
    "execution": {
     "iopub.execute_input": "2025-08-02T11:25:20.632982Z",
     "iopub.status.busy": "2025-08-02T11:25:20.632760Z",
     "iopub.status.idle": "2025-08-02T11:25:20.929218Z",
     "shell.execute_reply": "2025-08-02T11:25:20.928490Z"
    },
    "papermill": {
     "duration": 0.305529,
     "end_time": "2025-08-02T11:25:20.930258",
     "exception": false,
     "start_time": "2025-08-02T11:25:20.624729",
     "status": "completed"
    },
    "tags": []
   },
   "outputs": [
    {
     "data": {
      "text/plain": [
       "CMIHARModule(\n",
       "  (imu_branch): Sequential(\n",
       "    (0): ResidualBlock(\n",
       "      (blocks): Sequential(\n",
       "        (0): Conv1d(46, 219, kernel_size=(3,), stride=(1,), padding=(1,), bias=False)\n",
       "        (1): BatchNorm1d(219, eps=1e-05, momentum=0.1, affine=True, track_running_stats=True)\n",
       "        (2): ReLU()\n",
       "        (3): Conv1d(219, 219, kernel_size=(3,), stride=(1,), padding=(1,), bias=False)\n",
       "        (4): BatchNorm1d(219, eps=1e-05, momentum=0.1, affine=True, track_running_stats=True)\n",
       "        (5): SqueezeExcitationBlock(\n",
       "          (fc1): Linear(in_features=219, out_features=27, bias=True)\n",
       "          (fc2): Linear(in_features=27, out_features=219, bias=True)\n",
       "          (sigmoid): Sigmoid()\n",
       "        )\n",
       "      )\n",
       "      (head): Sequential(\n",
       "        (0): ReLU()\n",
       "        (1): MaxPool1d(kernel_size=2, stride=2, padding=0, dilation=1, ceil_mode=False)\n",
       "        (2): Dropout(p=0.3, inplace=False)\n",
       "      )\n",
       "      (skip_connection): Sequential(\n",
       "        (0): Conv1d(46, 219, kernel_size=(1,), stride=(1,), bias=False)\n",
       "        (1): BatchNorm1d(219, eps=1e-05, momentum=0.1, affine=True, track_running_stats=True)\n",
       "      )\n",
       "    )\n",
       "    (1): ResidualBlock(\n",
       "      (blocks): Sequential(\n",
       "        (0): Conv1d(219, 500, kernel_size=(3,), stride=(1,), padding=(1,), bias=False)\n",
       "        (1): BatchNorm1d(500, eps=1e-05, momentum=0.1, affine=True, track_running_stats=True)\n",
       "        (2): ReLU()\n",
       "        (3): Conv1d(500, 500, kernel_size=(3,), stride=(1,), padding=(1,), bias=False)\n",
       "        (4): BatchNorm1d(500, eps=1e-05, momentum=0.1, affine=True, track_running_stats=True)\n",
       "        (5): SqueezeExcitationBlock(\n",
       "          (fc1): Linear(in_features=500, out_features=62, bias=True)\n",
       "          (fc2): Linear(in_features=62, out_features=500, bias=True)\n",
       "          (sigmoid): Sigmoid()\n",
       "        )\n",
       "      )\n",
       "      (head): Sequential(\n",
       "        (0): ReLU()\n",
       "        (1): MaxPool1d(kernel_size=2, stride=2, padding=0, dilation=1, ceil_mode=False)\n",
       "        (2): Dropout(p=0.3, inplace=False)\n",
       "      )\n",
       "      (skip_connection): Sequential(\n",
       "        (0): Conv1d(219, 500, kernel_size=(1,), stride=(1,), bias=False)\n",
       "        (1): BatchNorm1d(500, eps=1e-05, momentum=0.1, affine=True, track_running_stats=True)\n",
       "      )\n",
       "    )\n",
       "  )\n",
       "  (tof_branch): AlexNet(\n",
       "    (0): Sequential(\n",
       "      (0): Conv1d(640, 82, kernel_size=(3,), stride=(1,), padding=(1,), bias=False)\n",
       "      (1): BatchNorm1d(82, eps=1e-05, momentum=0.1, affine=True, track_running_stats=True)\n",
       "      (2): MaxPool1d(kernel_size=2, stride=2, padding=0, dilation=1, ceil_mode=False)\n",
       "      (3): Dropout(p=0, inplace=False)\n",
       "    )\n",
       "    (1): Sequential(\n",
       "      (0): Conv1d(82, 500, kernel_size=(3,), stride=(1,), padding=(1,), bias=False)\n",
       "      (1): BatchNorm1d(500, eps=1e-05, momentum=0.1, affine=True, track_running_stats=True)\n",
       "      (2): MaxPool1d(kernel_size=2, stride=2, padding=0, dilation=1, ceil_mode=False)\n",
       "      (3): Dropout(p=0, inplace=False)\n",
       "    )\n",
       "  )\n",
       "  (thm_branch): AlexNet(\n",
       "    (0): Sequential(\n",
       "      (0): Conv1d(10, 82, kernel_size=(3,), stride=(1,), padding=(1,), bias=False)\n",
       "      (1): BatchNorm1d(82, eps=1e-05, momentum=0.1, affine=True, track_running_stats=True)\n",
       "      (2): MaxPool1d(kernel_size=2, stride=2, padding=0, dilation=1, ceil_mode=False)\n",
       "      (3): Dropout(p=0, inplace=False)\n",
       "    )\n",
       "    (1): Sequential(\n",
       "      (0): Conv1d(82, 500, kernel_size=(3,), stride=(1,), padding=(1,), bias=False)\n",
       "      (1): BatchNorm1d(500, eps=1e-05, momentum=0.1, affine=True, track_running_stats=True)\n",
       "      (2): MaxPool1d(kernel_size=2, stride=2, padding=0, dilation=1, ceil_mode=False)\n",
       "      (3): Dropout(p=0, inplace=False)\n",
       "    )\n",
       "  )\n",
       "  (rnn): GRU(1500, 128, bidirectional=True)\n",
       "  (attention): AdditiveAttentionLayer(\n",
       "    (attention): Linear(in_features=256, out_features=1, bias=True)\n",
       "  )\n",
       "  (head): Sequential(\n",
       "    (0): LazyLinear(in_features=0, out_features=256, bias=False)\n",
       "    (1): BatchNorm1d(256, eps=1e-05, momentum=0.1, affine=True, track_running_stats=True)\n",
       "    (2): ReLU()\n",
       "    (3): Linear(in_features=256, out_features=128, bias=False)\n",
       "    (4): BatchNorm1d(128, eps=1e-05, momentum=0.1, affine=True, track_running_stats=True)\n",
       "    (5): ReLU()\n",
       "    (6): Linear(in_features=128, out_features=18, bias=True)\n",
       "  )\n",
       ")"
      ]
     },
     "metadata": {},
     "output_type": "display_data"
    },
    {
     "name": "stdout",
     "output_type": "stream",
     "text": [
      "input channels: 696\n"
     ]
    }
   ],
   "source": [
    "def mk_model() -> nn.Module:\n",
    "    return (\n",
    "        CMIHARModule(\n",
    "            imu_idx=imu_idx,\n",
    "            thm_idx=thm_idx,\n",
    "            tof_idx=tof_idx,\n",
    "            mlp_width=256,\n",
    "            n_class=18,\n",
    "        )\n",
    "        .to(device)\n",
    "    )\n",
    "\n",
    "display(mk_model())\n",
    "print(\"input channels:\", len(meta_data[\"feature_cols\"]))"
   ]
  },
  {
   "cell_type": "markdown",
   "id": "91839897",
   "metadata": {
    "papermill": {
     "duration": 0.007408,
     "end_time": "2025-08-02T11:25:20.945773",
     "exception": false,
     "start_time": "2025-08-02T11:25:20.938365",
     "status": "completed"
    },
    "tags": []
   },
   "source": [
    "## Training loop"
   ]
  },
  {
   "cell_type": "code",
   "execution_count": 22,
   "id": "eccfd5f4",
   "metadata": {
    "execution": {
     "iopub.execute_input": "2025-08-02T11:26:30.302707Z",
     "iopub.status.busy": "2025-08-02T11:26:30.302531Z",
     "iopub.status.idle": "2025-08-02T11:26:30.306635Z",
     "shell.execute_reply": "2025-08-02T11:26:30.306194Z"
    },
    "jupyter": {
     "source_hidden": true
    },
    "papermill": {
     "duration": 0.941075,
     "end_time": "2025-08-02T11:26:30.307624",
     "exception": false,
     "start_time": "2025-08-02T11:26:29.366549",
     "status": "completed"
    },
    "tags": []
   },
   "outputs": [],
   "source": [
    "def mixup_data(x, y, alpha=0.2):\n",
    "    \"\"\"\n",
    "    Return mixed inputs and mixed targets (one-hot) for mixup.\n",
    "    x: Tensor of shape (batch_size, features, seq_len)\n",
    "    y: Tensor of shape (batch_size, num_classes)\n",
    "    \"\"\"\n",
    "    if alpha > 0:\n",
    "        lam = np.random.beta(alpha, alpha)\n",
    "    else:\n",
    "        lam = 1.0\n",
    "    batch_size = x.size(0)\n",
    "    index = torch.randperm(batch_size).to(x.device)\n",
    "\n",
    "    mixed_x = lam * x + (1 - lam) * x[index, :]\n",
    "    mixed_y = lam * y + (1 - lam) * y[index, :]\n",
    "    return mixed_x, mixed_y"
   ]
  },
  {
   "cell_type": "code",
   "execution_count": 17,
   "id": "23ef1199",
   "metadata": {
    "execution": {
     "iopub.execute_input": "2025-08-02T11:25:20.961733Z",
     "iopub.status.busy": "2025-08-02T11:25:20.961500Z",
     "iopub.status.idle": "2025-08-02T11:25:20.970861Z",
     "shell.execute_reply": "2025-08-02T11:25:20.970195Z"
    },
    "papermill": {
     "duration": 0.018784,
     "end_time": "2025-08-02T11:25:20.972026",
     "exception": false,
     "start_time": "2025-08-02T11:25:20.953242",
     "status": "completed"
    },
    "tags": []
   },
   "outputs": [],
   "source": [
    "def fit(epochs:int,\n",
    "        model: nn.Module,\n",
    "        scheduler: LRScheduler,\n",
    "        optimizer: torch.optim.Optimizer,\n",
    "        train_loader: DL,\n",
    "        criterion: callable=nn.L1Loss(),\n",
    "        evaluation_func: callable=None,\n",
    "        validation_loader: DL=None,\n",
    "        save_checkpoints=True,\n",
    "    ) -> tuple[DF, str]:\n",
    "    \"\"\"\n",
    "    Returns:\n",
    "        (training_metrics, path_to_checkpoints)\n",
    "    \"\"\"\n",
    "    # Setup\n",
    "    metrics: list[dict] = []\n",
    "    step = 0\n",
    "    model_device = next(model.parameters()).device\n",
    "    last_epoch_metric = {}\n",
    "    # Training loop\n",
    "    with Progress() as progress:\n",
    "        task: Task = progress.add_task(\n",
    "            \"training...\",\n",
    "            total=len(train_loader),\n",
    "        )\n",
    "        for epoch in range(epochs):\n",
    "            progress.update(\n",
    "                task,\n",
    "                description=f\"epoch: {epoch}\",\n",
    "                completed=0,\n",
    "            )\n",
    "            total_epoch_loss = 0\n",
    "            total_accuracy = 0\n",
    "            for batch_idx, (x, y) in enumerate(train_loader):\n",
    "                # forward\n",
    "                x = x.to(model_device)\n",
    "                y = y.to(model_device)\n",
    "                model.train()\n",
    "                optimizer.zero_grad()\n",
    "                y_pred: Tensor = model(x)\n",
    "                loss_value = criterion(y_pred, y)\n",
    "                # Verify loss value\n",
    "                if torch.isnan(loss_value).any().item():\n",
    "                    progress.print(\"Warning: Got NaN loss, stopped training.\")\n",
    "                    return DF.from_records(metrics)\n",
    "                if torch.isinf(loss_value).any().item():\n",
    "                    progress.print(\"Warning: Got infinite loss, stopped training.\")\n",
    "                    return DF.from_records(metrics)\n",
    "                # TODO: Use gradient clipping?\n",
    "                loss_value.backward()\n",
    "                optimizer.step()\n",
    "                if step > 0: # If it's not the first training step, idk why it throws an error otherwise\n",
    "                    scheduler.step()\n",
    "                # metrics\n",
    "                total_epoch_loss += loss_value.item()\n",
    "                metrics.append({\n",
    "                    \"step\": step,\n",
    "                    \"epoch\": epoch,\n",
    "                    \"batch_train_loss\": loss_value.item(),\n",
    "                    \"lr\": optimizer.state_dict()[\"param_groups\"][-1][\"lr\"],\n",
    "                })\n",
    "                step += 1\n",
    "                if \"validation_accuracy\" in last_epoch_metric:\n",
    "                    last_validation_acc = \"%.2f\" % last_epoch_metric[\"validation_accuracy\"]\n",
    "                    val_acc_str = \"val. acc: \" + last_validation_acc\n",
    "                else:\n",
    "                    val_acc_str = \"\"\n",
    "                progress.update(\n",
    "                    task,\n",
    "                    advance=1,\n",
    "                    description=f\"epoch: {epoch}, batch_loss: {(total_epoch_loss / (batch_idx+1)):.2f}, {val_acc_str}\"\n",
    "                )\n",
    "            # Post epoch evalution\n",
    "            metrics[-1][\"train_epoch_loss\"] = total_epoch_loss / len(train_loader)\n",
    "            metrics[-1][\"train_epoch_accuracy\"] = total_accuracy / len(train_loader)\n",
    "            if evaluation_func:\n",
    "                progress.update(\n",
    "                    task,\n",
    "                    completed=0,\n",
    "                    description=f\"epoch: {epoch}, evaluating...\"\n",
    "                )\n",
    "                eval_metrics = evaluation_func(model, criterion, validation_loader)\n",
    "                metrics[-1].update(eval_metrics)\n",
    "            last_epoch_metric = metrics[-1]\n",
    "\n",
    "    return DF.from_records(metrics)"
   ]
  },
  {
   "cell_type": "markdown",
   "id": "d70d9df6",
   "metadata": {
    "papermill": {
     "duration": 0.007315,
     "end_time": "2025-08-02T11:25:20.986925",
     "exception": false,
     "start_time": "2025-08-02T11:25:20.979610",
     "status": "completed"
    },
    "tags": []
   },
   "source": [
    "### Create model and train model"
   ]
  },
  {
   "cell_type": "code",
   "execution_count": 18,
   "id": "49435f16",
   "metadata": {
    "execution": {
     "iopub.execute_input": "2025-08-02T11:25:21.002597Z",
     "iopub.status.busy": "2025-08-02T11:25:21.002413Z",
     "iopub.status.idle": "2025-08-02T11:25:21.007129Z",
     "shell.execute_reply": "2025-08-02T11:25:21.006417Z"
    },
    "papermill": {
     "duration": 0.013904,
     "end_time": "2025-08-02T11:25:21.008277",
     "exception": false,
     "start_time": "2025-08-02T11:25:20.994373",
     "status": "completed"
    },
    "tags": []
   },
   "outputs": [],
   "source": [
    "def mk_model_and_fit(\n",
    "        train_loader:DL,\n",
    "        mk_scheduler:callable,\n",
    "        epochs:int,\n",
    "        validation_loader:Optional[DL]=None,\n",
    "        save_checkpoints=False,\n",
    "        criterion=nn.CrossEntropyLoss()\n",
    "    ) -> tuple[nn.Module, DF, list[str]]:\n",
    "    model = mk_model()\n",
    "    optimizer = torch.optim.AdamW(model.parameters(), WARMUP_LR_INIT)\n",
    "    lr_scheduler = mk_scheduler(optimizer)\n",
    "    training_metrics = fit(\n",
    "        epochs=epochs,\n",
    "        model=model,\n",
    "        scheduler=lr_scheduler,\n",
    "        optimizer=optimizer,\n",
    "        train_loader=train_loader,\n",
    "        criterion=criterion,\n",
    "        # evaluation_func=evaluate_model if validation_loader else None,\n",
    "        validation_loader=validation_loader,\n",
    "        save_checkpoints=save_checkpoints,\n",
    "    )\n",
    "\n",
    "    return model, training_metrics"
   ]
  },
  {
   "cell_type": "markdown",
   "id": "a37b0121",
   "metadata": {
    "papermill": {
     "duration": 0.007861,
     "end_time": "2025-08-02T11:25:21.023870",
     "exception": false,
     "start_time": "2025-08-02T11:25:21.016009",
     "status": "completed"
    },
    "tags": []
   },
   "source": [
    "## Search max learning rate"
   ]
  },
  {
   "cell_type": "code",
   "execution_count": null,
   "id": "aedb492d",
   "metadata": {
    "execution": {
     "iopub.execute_input": "2025-08-02T11:25:21.061355Z",
     "iopub.status.busy": "2025-08-02T11:25:21.060916Z",
     "iopub.status.idle": "2025-08-02T11:25:21.064563Z",
     "shell.execute_reply": "2025-08-02T11:25:21.064101Z"
    },
    "papermill": {
     "duration": 0.013084,
     "end_time": "2025-08-02T11:25:21.065622",
     "exception": false,
     "start_time": "2025-08-02T11:25:21.052538",
     "status": "completed"
    },
    "tags": []
   },
   "outputs": [],
   "source": [
    "def post_process_mock_training_metrics(training_metrics:DF) -> DF:\n",
    "    training_metrics = (\n",
    "        training_metrics\n",
    "        .query(\"batch_train_loss.notna()\")\n",
    "        .set_index(\"lr\", drop=False)\n",
    "        .sort_index()\n",
    "    )\n",
    "    training_metrics[\"ewm_batch_train_loss\"] = (\n",
    "        training_metrics\n",
    "        .ewm(com=30, ignore_na=False)\n",
    "        [\"batch_train_loss\"]\n",
    "        .mean()\n",
    "    )\n",
    "    training_metrics[\"ewm_batch_train_loss_diff\"] = training_metrics[\"ewm_batch_train_loss\"].diff()\n",
    "    return training_metrics\n",
    "\n",
    "def plt_lr_search_training_metrics(training_metrics:DF):\n",
    "    (    \n",
    "        px.line(\n",
    "            (\n",
    "                training_metrics\n",
    "                .reset_index(drop=True)\n",
    "                .melt(\n",
    "                    id_vars=\"lr\",\n",
    "                    value_vars=[\n",
    "                        \"batch_train_loss\",\n",
    "                        \"ewm_batch_train_loss\",\n",
    "                        # \"ewm_batch_train_loss_diff\",\n",
    "                    ],\n",
    "                )\n",
    "            ),\n",
    "            x=\"lr\",\n",
    "            facet_row=\"variable\",\n",
    "            y=\"value\",\n",
    "            log_x=True,\n",
    "            log_y=True,\n",
    "            height=750,\n",
    "        )\n",
    "        .update_yaxes(matches=None)\n",
    "        .show()\n",
    "    )"
   ]
  },
  {
   "cell_type": "code",
   "execution_count": 29,
   "id": "4345ef27",
   "metadata": {
    "execution": {
     "iopub.execute_input": "2025-08-02T11:25:21.081550Z",
     "iopub.status.busy": "2025-08-02T11:25:21.081354Z",
     "iopub.status.idle": "2025-08-02T11:26:29.317239Z",
     "shell.execute_reply": "2025-08-02T11:26:29.316530Z"
    },
    "papermill": {
     "duration": 68.246145,
     "end_time": "2025-08-02T11:26:29.319409",
     "exception": false,
     "start_time": "2025-08-02T11:25:21.073264",
     "status": "completed"
    },
    "tags": []
   },
   "outputs": [
    {
     "data": {
      "application/vnd.jupyter.widget-view+json": {
       "model_id": "c06c9bbcdff84911bd78db995f0243d7",
       "version_major": 2,
       "version_minor": 0
      },
      "text/plain": [
       "Output()"
      ]
     },
     "metadata": {},
     "output_type": "display_data"
    },
    {
     "data": {
      "text/html": [
       "<pre style=\"white-space:pre;overflow-x:auto;line-height:normal;font-family:Menlo,'DejaVu Sans Mono',consolas,'Courier New',monospace\"></pre>\n"
      ],
      "text/plain": []
     },
     "metadata": {},
     "output_type": "display_data"
    },
    {
     "data": {
      "application/vnd.plotly.v1+json": {
       "config": {
        "plotlyServerURL": "https://plot.ly"
       },
       "data": [
        {
         "hovertemplate": "variable=batch_train_loss<br>lr=%{x}<br>value=%{y}<extra></extra>",
         "legendgroup": "",
         "line": {
          "color": "#636efa",
          "dash": "solid"
         },
         "marker": {
          "symbol": "circle"
         },
         "mode": "lines",
         "name": "",
         "showlegend": false,
         "type": "scattergl",
         "x": {
          "bdata": "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",
          "dtype": "f8"
         },
         "xaxis": "x2",
         "y": {
          "bdata": "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",
          "dtype": "f8"
         },
         "yaxis": "y2"
        },
        {
         "hovertemplate": "variable=ewm_batch_train_loss<br>lr=%{x}<br>value=%{y}<extra></extra>",
         "legendgroup": "",
         "line": {
          "color": "#636efa",
          "dash": "solid"
         },
         "marker": {
          "symbol": "circle"
         },
         "mode": "lines",
         "name": "",
         "showlegend": false,
         "type": "scattergl",
         "x": {
          "bdata": "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",
          "dtype": "f8"
         },
         "xaxis": "x",
         "y": {
          "bdata": "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",
          "dtype": "f8"
         },
         "yaxis": "y"
        }
       ],
       "layout": {
        "annotations": [
         {
          "font": {},
          "showarrow": false,
          "text": "variable=ewm_batch_train_loss",
          "textangle": 90,
          "x": 0.98,
          "xanchor": "left",
          "xref": "paper",
          "y": 0.2425,
          "yanchor": "middle",
          "yref": "paper"
         },
         {
          "font": {},
          "showarrow": false,
          "text": "variable=batch_train_loss",
          "textangle": 90,
          "x": 0.98,
          "xanchor": "left",
          "xref": "paper",
          "y": 0.7575000000000001,
          "yanchor": "middle",
          "yref": "paper"
         }
        ],
        "height": 750,
        "legend": {
         "tracegroupgap": 0
        },
        "margin": {
         "t": 60
        },
        "template": {
         "data": {
          "bar": [
           {
            "error_x": {
             "color": "#2a3f5f"
            },
            "error_y": {
             "color": "#2a3f5f"
            },
            "marker": {
             "line": {
              "color": "#E5ECF6",
              "width": 0.5
             },
             "pattern": {
              "fillmode": "overlay",
              "size": 10,
              "solidity": 0.2
             }
            },
            "type": "bar"
           }
          ],
          "barpolar": [
           {
            "marker": {
             "line": {
              "color": "#E5ECF6",
              "width": 0.5
             },
             "pattern": {
              "fillmode": "overlay",
              "size": 10,
              "solidity": 0.2
             }
            },
            "type": "barpolar"
           }
          ],
          "carpet": [
           {
            "aaxis": {
             "endlinecolor": "#2a3f5f",
             "gridcolor": "white",
             "linecolor": "white",
             "minorgridcolor": "white",
             "startlinecolor": "#2a3f5f"
            },
            "baxis": {
             "endlinecolor": "#2a3f5f",
             "gridcolor": "white",
             "linecolor": "white",
             "minorgridcolor": "white",
             "startlinecolor": "#2a3f5f"
            },
            "type": "carpet"
           }
          ],
          "choropleth": [
           {
            "colorbar": {
             "outlinewidth": 0,
             "ticks": ""
            },
            "type": "choropleth"
           }
          ],
          "contour": [
           {
            "colorbar": {
             "outlinewidth": 0,
             "ticks": ""
            },
            "colorscale": [
             [
              0,
              "#0d0887"
             ],
             [
              0.1111111111111111,
              "#46039f"
             ],
             [
              0.2222222222222222,
              "#7201a8"
             ],
             [
              0.3333333333333333,
              "#9c179e"
             ],
             [
              0.4444444444444444,
              "#bd3786"
             ],
             [
              0.5555555555555556,
              "#d8576b"
             ],
             [
              0.6666666666666666,
              "#ed7953"
             ],
             [
              0.7777777777777778,
              "#fb9f3a"
             ],
             [
              0.8888888888888888,
              "#fdca26"
             ],
             [
              1,
              "#f0f921"
             ]
            ],
            "type": "contour"
           }
          ],
          "contourcarpet": [
           {
            "colorbar": {
             "outlinewidth": 0,
             "ticks": ""
            },
            "type": "contourcarpet"
           }
          ],
          "heatmap": [
           {
            "colorbar": {
             "outlinewidth": 0,
             "ticks": ""
            },
            "colorscale": [
             [
              0,
              "#0d0887"
             ],
             [
              0.1111111111111111,
              "#46039f"
             ],
             [
              0.2222222222222222,
              "#7201a8"
             ],
             [
              0.3333333333333333,
              "#9c179e"
             ],
             [
              0.4444444444444444,
              "#bd3786"
             ],
             [
              0.5555555555555556,
              "#d8576b"
             ],
             [
              0.6666666666666666,
              "#ed7953"
             ],
             [
              0.7777777777777778,
              "#fb9f3a"
             ],
             [
              0.8888888888888888,
              "#fdca26"
             ],
             [
              1,
              "#f0f921"
             ]
            ],
            "type": "heatmap"
           }
          ],
          "histogram": [
           {
            "marker": {
             "pattern": {
              "fillmode": "overlay",
              "size": 10,
              "solidity": 0.2
             }
            },
            "type": "histogram"
           }
          ],
          "histogram2d": [
           {
            "colorbar": {
             "outlinewidth": 0,
             "ticks": ""
            },
            "colorscale": [
             [
              0,
              "#0d0887"
             ],
             [
              0.1111111111111111,
              "#46039f"
             ],
             [
              0.2222222222222222,
              "#7201a8"
             ],
             [
              0.3333333333333333,
              "#9c179e"
             ],
             [
              0.4444444444444444,
              "#bd3786"
             ],
             [
              0.5555555555555556,
              "#d8576b"
             ],
             [
              0.6666666666666666,
              "#ed7953"
             ],
             [
              0.7777777777777778,
              "#fb9f3a"
             ],
             [
              0.8888888888888888,
              "#fdca26"
             ],
             [
              1,
              "#f0f921"
             ]
            ],
            "type": "histogram2d"
           }
          ],
          "histogram2dcontour": [
           {
            "colorbar": {
             "outlinewidth": 0,
             "ticks": ""
            },
            "colorscale": [
             [
              0,
              "#0d0887"
             ],
             [
              0.1111111111111111,
              "#46039f"
             ],
             [
              0.2222222222222222,
              "#7201a8"
             ],
             [
              0.3333333333333333,
              "#9c179e"
             ],
             [
              0.4444444444444444,
              "#bd3786"
             ],
             [
              0.5555555555555556,
              "#d8576b"
             ],
             [
              0.6666666666666666,
              "#ed7953"
             ],
             [
              0.7777777777777778,
              "#fb9f3a"
             ],
             [
              0.8888888888888888,
              "#fdca26"
             ],
             [
              1,
              "#f0f921"
             ]
            ],
            "type": "histogram2dcontour"
           }
          ],
          "mesh3d": [
           {
            "colorbar": {
             "outlinewidth": 0,
             "ticks": ""
            },
            "type": "mesh3d"
           }
          ],
          "parcoords": [
           {
            "line": {
             "colorbar": {
              "outlinewidth": 0,
              "ticks": ""
             }
            },
            "type": "parcoords"
           }
          ],
          "pie": [
           {
            "automargin": true,
            "type": "pie"
           }
          ],
          "scatter": [
           {
            "fillpattern": {
             "fillmode": "overlay",
             "size": 10,
             "solidity": 0.2
            },
            "type": "scatter"
           }
          ],
          "scatter3d": [
           {
            "line": {
             "colorbar": {
              "outlinewidth": 0,
              "ticks": ""
             }
            },
            "marker": {
             "colorbar": {
              "outlinewidth": 0,
              "ticks": ""
             }
            },
            "type": "scatter3d"
           }
          ],
          "scattercarpet": [
           {
            "marker": {
             "colorbar": {
              "outlinewidth": 0,
              "ticks": ""
             }
            },
            "type": "scattercarpet"
           }
          ],
          "scattergeo": [
           {
            "marker": {
             "colorbar": {
              "outlinewidth": 0,
              "ticks": ""
             }
            },
            "type": "scattergeo"
           }
          ],
          "scattergl": [
           {
            "marker": {
             "colorbar": {
              "outlinewidth": 0,
              "ticks": ""
             }
            },
            "type": "scattergl"
           }
          ],
          "scattermap": [
           {
            "marker": {
             "colorbar": {
              "outlinewidth": 0,
              "ticks": ""
             }
            },
            "type": "scattermap"
           }
          ],
          "scattermapbox": [
           {
            "marker": {
             "colorbar": {
              "outlinewidth": 0,
              "ticks": ""
             }
            },
            "type": "scattermapbox"
           }
          ],
          "scatterpolar": [
           {
            "marker": {
             "colorbar": {
              "outlinewidth": 0,
              "ticks": ""
             }
            },
            "type": "scatterpolar"
           }
          ],
          "scatterpolargl": [
           {
            "marker": {
             "colorbar": {
              "outlinewidth": 0,
              "ticks": ""
             }
            },
            "type": "scatterpolargl"
           }
          ],
          "scatterternary": [
           {
            "marker": {
             "colorbar": {
              "outlinewidth": 0,
              "ticks": ""
             }
            },
            "type": "scatterternary"
           }
          ],
          "surface": [
           {
            "colorbar": {
             "outlinewidth": 0,
             "ticks": ""
            },
            "colorscale": [
             [
              0,
              "#0d0887"
             ],
             [
              0.1111111111111111,
              "#46039f"
             ],
             [
              0.2222222222222222,
              "#7201a8"
             ],
             [
              0.3333333333333333,
              "#9c179e"
             ],
             [
              0.4444444444444444,
              "#bd3786"
             ],
             [
              0.5555555555555556,
              "#d8576b"
             ],
             [
              0.6666666666666666,
              "#ed7953"
             ],
             [
              0.7777777777777778,
              "#fb9f3a"
             ],
             [
              0.8888888888888888,
              "#fdca26"
             ],
             [
              1,
              "#f0f921"
             ]
            ],
            "type": "surface"
           }
          ],
          "table": [
           {
            "cells": {
             "fill": {
              "color": "#EBF0F8"
             },
             "line": {
              "color": "white"
             }
            },
            "header": {
             "fill": {
              "color": "#C8D4E3"
             },
             "line": {
              "color": "white"
             }
            },
            "type": "table"
           }
          ]
         },
         "layout": {
          "annotationdefaults": {
           "arrowcolor": "#2a3f5f",
           "arrowhead": 0,
           "arrowwidth": 1
          },
          "autotypenumbers": "strict",
          "coloraxis": {
           "colorbar": {
            "outlinewidth": 0,
            "ticks": ""
           }
          },
          "colorscale": {
           "diverging": [
            [
             0,
             "#8e0152"
            ],
            [
             0.1,
             "#c51b7d"
            ],
            [
             0.2,
             "#de77ae"
            ],
            [
             0.3,
             "#f1b6da"
            ],
            [
             0.4,
             "#fde0ef"
            ],
            [
             0.5,
             "#f7f7f7"
            ],
            [
             0.6,
             "#e6f5d0"
            ],
            [
             0.7,
             "#b8e186"
            ],
            [
             0.8,
             "#7fbc41"
            ],
            [
             0.9,
             "#4d9221"
            ],
            [
             1,
             "#276419"
            ]
           ],
           "sequential": [
            [
             0,
             "#0d0887"
            ],
            [
             0.1111111111111111,
             "#46039f"
            ],
            [
             0.2222222222222222,
             "#7201a8"
            ],
            [
             0.3333333333333333,
             "#9c179e"
            ],
            [
             0.4444444444444444,
             "#bd3786"
            ],
            [
             0.5555555555555556,
             "#d8576b"
            ],
            [
             0.6666666666666666,
             "#ed7953"
            ],
            [
             0.7777777777777778,
             "#fb9f3a"
            ],
            [
             0.8888888888888888,
             "#fdca26"
            ],
            [
             1,
             "#f0f921"
            ]
           ],
           "sequentialminus": [
            [
             0,
             "#0d0887"
            ],
            [
             0.1111111111111111,
             "#46039f"
            ],
            [
             0.2222222222222222,
             "#7201a8"
            ],
            [
             0.3333333333333333,
             "#9c179e"
            ],
            [
             0.4444444444444444,
             "#bd3786"
            ],
            [
             0.5555555555555556,
             "#d8576b"
            ],
            [
             0.6666666666666666,
             "#ed7953"
            ],
            [
             0.7777777777777778,
             "#fb9f3a"
            ],
            [
             0.8888888888888888,
             "#fdca26"
            ],
            [
             1,
             "#f0f921"
            ]
           ]
          },
          "colorway": [
           "#636efa",
           "#EF553B",
           "#00cc96",
           "#ab63fa",
           "#FFA15A",
           "#19d3f3",
           "#FF6692",
           "#B6E880",
           "#FF97FF",
           "#FECB52"
          ],
          "font": {
           "color": "#2a3f5f"
          },
          "geo": {
           "bgcolor": "white",
           "lakecolor": "white",
           "landcolor": "#E5ECF6",
           "showlakes": true,
           "showland": true,
           "subunitcolor": "white"
          },
          "hoverlabel": {
           "align": "left"
          },
          "hovermode": "closest",
          "mapbox": {
           "style": "light"
          },
          "paper_bgcolor": "white",
          "plot_bgcolor": "#E5ECF6",
          "polar": {
           "angularaxis": {
            "gridcolor": "white",
            "linecolor": "white",
            "ticks": ""
           },
           "bgcolor": "#E5ECF6",
           "radialaxis": {
            "gridcolor": "white",
            "linecolor": "white",
            "ticks": ""
           }
          },
          "scene": {
           "xaxis": {
            "backgroundcolor": "#E5ECF6",
            "gridcolor": "white",
            "gridwidth": 2,
            "linecolor": "white",
            "showbackground": true,
            "ticks": "",
            "zerolinecolor": "white"
           },
           "yaxis": {
            "backgroundcolor": "#E5ECF6",
            "gridcolor": "white",
            "gridwidth": 2,
            "linecolor": "white",
            "showbackground": true,
            "ticks": "",
            "zerolinecolor": "white"
           },
           "zaxis": {
            "backgroundcolor": "#E5ECF6",
            "gridcolor": "white",
            "gridwidth": 2,
            "linecolor": "white",
            "showbackground": true,
            "ticks": "",
            "zerolinecolor": "white"
           }
          },
          "shapedefaults": {
           "line": {
            "color": "#2a3f5f"
           }
          },
          "ternary": {
           "aaxis": {
            "gridcolor": "white",
            "linecolor": "white",
            "ticks": ""
           },
           "baxis": {
            "gridcolor": "white",
            "linecolor": "white",
            "ticks": ""
           },
           "bgcolor": "#E5ECF6",
           "caxis": {
            "gridcolor": "white",
            "linecolor": "white",
            "ticks": ""
           }
          },
          "title": {
           "x": 0.05
          },
          "xaxis": {
           "automargin": true,
           "gridcolor": "white",
           "linecolor": "white",
           "ticks": "",
           "title": {
            "standoff": 15
           },
           "zerolinecolor": "white",
           "zerolinewidth": 2
          },
          "yaxis": {
           "automargin": true,
           "gridcolor": "white",
           "linecolor": "white",
           "ticks": "",
           "title": {
            "standoff": 15
           },
           "zerolinecolor": "white",
           "zerolinewidth": 2
          }
         }
        },
        "xaxis": {
         "anchor": "y",
         "domain": [
          0,
          0.98
         ],
         "title": {
          "text": "lr"
         },
         "type": "log"
        },
        "xaxis2": {
         "anchor": "y2",
         "domain": [
          0,
          0.98
         ],
         "matches": "x",
         "showticklabels": false,
         "type": "log"
        },
        "yaxis": {
         "anchor": "x",
         "domain": [
          0,
          0.485
         ],
         "title": {
          "text": "value"
         },
         "type": "log"
        },
        "yaxis2": {
         "anchor": "x2",
         "domain": [
          0.515,
          1
         ],
         "title": {
          "text": "value"
         },
         "type": "log"
        }
       }
      }
     },
     "metadata": {},
     "output_type": "display_data"
    },
    {
     "name": "stdout",
     "output_type": "stream",
     "text": [
      "Maximum learning rate: 0.0035203445167520386\n"
     ]
    }
   ],
   "source": [
    "train_dataset = CMIDataset(\"pre\", \"full_dataset\")\n",
    "full_dataset_loader = DL(train_dataset, TRAIN_BATCH_SIZE, shuffle=True)\n",
    "_, mock_training_metrics = mk_model_and_fit(\n",
    "    full_dataset_loader,\n",
    "    partial(torch.optim.lr_scheduler.ExponentialLR, gamma=MOCK_TRAINING_GAMMA),\n",
    "    MOCK_TRAINING_EPOCHS,\n",
    "    criterion= nn.CrossEntropyLoss(label_smoothing=0.1),\n",
    ")\n",
    "mock_training_metrics = post_process_mock_training_metrics(mock_training_metrics)\n",
    "plt_lr_search_training_metrics(mock_training_metrics)\n",
    "max_lr = mock_training_metrics[\"ewm_batch_train_loss\"].idxmin()\n",
    "print(\"Maximum learning rate:\", max_lr)"
   ]
  },
  {
   "cell_type": "markdown",
   "id": "a21c1bcb",
   "metadata": {
    "papermill": {
     "duration": 0.015047,
     "end_time": "2025-08-02T11:26:29.351055",
     "exception": false,
     "start_time": "2025-08-02T11:26:29.336008",
     "status": "completed"
    },
    "tags": []
   },
   "source": [
    "## Training loop"
   ]
  },
  {
   "cell_type": "code",
   "execution_count": null,
   "id": "941ea005",
   "metadata": {
    "execution": {
     "iopub.execute_input": "2025-08-02T11:26:30.326271Z",
     "iopub.status.busy": "2025-08-02T11:26:30.326049Z",
     "iopub.status.idle": "2025-08-02T11:26:30.343798Z",
     "shell.execute_reply": "2025-08-02T11:26:30.343286Z"
    },
    "jupyter": {
     "source_hidden": true
    },
    "papermill": {
     "duration": 0.027971,
     "end_time": "2025-08-02T11:26:30.344749",
     "exception": false,
     "start_time": "2025-08-02T11:26:30.316778",
     "status": "completed"
    },
    "tags": []
   },
   "outputs": [],
   "source": [
    "def train_model(\n",
    "        model:nn.Module,\n",
    "        train_loader:DL,\n",
    "        criterion:callable,\n",
    "        optimizer:torch.optim.Optimizer,\n",
    "        scheduler:_LRScheduler,\n",
    "    ) -> dict:\n",
    "    \"Train model on a single epoch\"\n",
    "    train_metrics = {}\n",
    "    model.train()\n",
    "    train_metrics[\"train_loss\"] = 0.0\n",
    "    total = 0\n",
    "    for batch_x, batch_y in train_loader:\n",
    "        batch_x = batch_x.to(device).clone()\n",
    "        add_noise = torch.randn_like(batch_x, device=device) * 0.04\n",
    "        scale_noise = torch.rand_like(batch_x, device=device) * (1.1 - 0.9) + 0.9\n",
    "        batch_x = (add_noise + batch_x) * scale_noise\n",
    "        batch_x[:TRAIN_BATCH_SIZE // 2, tof_idx + thm_idx] = 0.0\n",
    "        batch_y = batch_y.to(device)\n",
    "        batch_x = batch_x.float()\n",
    "        \n",
    "        batch_x, batch_y = mixup_data(batch_x, batch_y)\n",
    "\n",
    "        optimizer.zero_grad()\n",
    "        outputs = model(batch_x)\n",
    "        loss = criterion(outputs, batch_y)\n",
    "        loss.backward()\n",
    "        optimizer.step()\n",
    "        scheduler.step()\n",
    "\n",
    "        train_metrics[\"train_loss\"] += loss.item() * batch_x.size(0)\n",
    "        total += batch_x.size(0)\n",
    "    train_metrics[\"train_loss\"] /= total\n",
    "\n",
    "    return train_metrics\n",
    "\n",
    "def evaluate_model(model:nn.Module, validation_loader:DL, criterion:callable) -> dict:\n",
    "    model.eval()\n",
    "    val_loss = 0.0\n",
    "    total = 0\n",
    "    all_true = []\n",
    "    all_pred = []\n",
    "\n",
    "    eval_metrics = {}\n",
    "    with torch.no_grad():\n",
    "        for batch_x, batch_y in validation_loader:\n",
    "            batch_x = batch_x.to(device).clone()\n",
    "            batch_y = batch_y.to(device)\n",
    "            batch_x[:VALIDATION_BATCH_SIZE // 2, tof_idx + thm_idx] = 0.0\n",
    "\n",
    "            outputs = model(batch_x)\n",
    "            loss = criterion(outputs, batch_y)\n",
    "            val_loss += loss.item() * batch_x.size(0)\n",
    "            total += batch_x.size(0)\n",
    "\n",
    "            # Get predicted class indices\n",
    "            preds = torch.argmax(outputs, dim=1).cpu().numpy()\n",
    "            # Get true class indices from one-hot\n",
    "            trues = torch.argmax(batch_y, dim=1).cpu().numpy()\n",
    "\n",
    "            all_true.append(trues)\n",
    "            all_pred.append(preds)\n",
    "\n",
    "    eval_metrics[\"val_loss\"] /= total\n",
    "    all_true = np.concatenate(all_true)\n",
    "    all_pred = np.concatenate(all_pred)\n",
    "\n",
    "    # Compute competition metrics\n",
    "    # Binary classification: BFRB (1) vs non-BFRB (0)\n",
    "    binary_true = np.isin(all_true, bfrb_indices).astype(int)\n",
    "    binary_pred = np.isin(all_pred, bfrb_indices).astype(int)\n",
    "    eval_metrics[\"binary_f1\"] = f1_score(binary_true, binary_pred)\n",
    "\n",
    "    # Collapse non-BFRB gestures into a single class\n",
    "    collapsed_true = np.where(\n",
    "        np.isin(all_true, bfrb_indices),\n",
    "        all_true,\n",
    "        len(bfrb_gestures)  # Single non-BFRB class\n",
    "    )\n",
    "    collapsed_pred = np.where(\n",
    "        np.isin(all_pred, bfrb_indices),\n",
    "        all_pred,\n",
    "        len(bfrb_gestures)  # Single non-BFRB class\n",
    "    )\n",
    "\n",
    "    # Macro F1 on collapsed classes\n",
    "    eval_metrics[\"macro_f1\"] = f1_score(collapsed_true, collapsed_pred, average='macro')\n",
    "    eval_metrics[\"final_metric\"] = (eval_metrics[\"binary_f1\"] + eval_metrics[\"macro_f1\"]) / 2\n",
    "\n",
    "    return eval_metrics\n",
    "\n",
    "def train_model_on_all_epochs(\n",
    "        model:nn.Module,\n",
    "        train_loader:DL,\n",
    "        validation_loader:DL,\n",
    "        criterion:callable,\n",
    "        optimizer:torch.optim.Optimizer,\n",
    "        scheduler:_LRScheduler,\n",
    "    ) -> DF:\n",
    "\n",
    "    metrics:list[dict] = []\n",
    "    # Early stopping\n",
    "    best_metric = -np.inf\n",
    "    best_binary_f1 = -np.inf\n",
    "    best_macro_f1 = -np.inf\n",
    "    epochs_no_improve = 0\n",
    "\n",
    "    for epoch in range(1, TRAINING_EPOCHS + 1):\n",
    "        train_metrics = train_model(model, train_loader, criterion, optimizer, scheduler)\n",
    "        validation_metrics = evaluate_model(model, validation_loader, criterion)\n",
    "        metrics.append({\"epoch\": epoch} | train_metrics | validation_metrics)\n",
    "\n",
    "        print(f\"Epoch {epoch:02d}: Binary F1 = {validation_metrics[\"binary_f1\"]:.4f}, Macro F1 = {validation_metrics[\"macro_f1\"]:.4f}, Final Metric = {validation_metrics[\"final_metric\"]:.4f}\")\n",
    "\n",
    "        if validation_metrics[\"final_metric\"] > best_metric:\n",
    "            best_metric = validation_metrics[\"final_metric\"]\n",
    "            best_binary_f1 = validation_metrics[\"binary_f1\"]\n",
    "            best_macro_f1 = validation_metrics[\"macro_f1\"]\n",
    "            epochs_no_improve = 0\n",
    "            best_model_state = model.state_dict()\n",
    "            print(f\"  New best metric! Saving model...\")\n",
    "        else:\n",
    "            epochs_no_improve += 1\n",
    "            if epochs_no_improve >= PATIENCE:\n",
    "                print(f\"Early stopping triggered at epoch {epoch}\")\n",
    "                model.load_state_dict(best_model_state)\n",
    "                break\n",
    "\n",
    "    torch.save(best_model_state, f\"best_model_fold{fold}.pth\")\n",
    "    # Free memory used by datasets and data loaders\n",
    "    del train_dataset\n",
    "    del validation_dataset\n",
    "    del train_loader\n",
    "    del validation_loader\n",
    "    gc.collect()\n",
    "    torch.cuda.empty_cache()\n",
    "\n",
    "    return DF.from_records(metrics)\n",
    "\n",
    "def train_on_all_folds(lr_scheduler_kw:dict, optimizer_kw:dict) -> tuple[float, DF]:\n",
    "    seed_everything(seed=SEED)\n",
    "\n",
    "    metrics:DF = DF()\n",
    "\n",
    "    for fold in range(NB_CROSS_VALIDATIONS):\n",
    "        print(\"training:\", fold + 1)\n",
    "        train_dataset = CMIDataset(\"pre\", f\"fold_{fold}\", \"train\")\n",
    "        criterion = torch.nn.CrossEntropyLoss(label_smoothing=0.1)\n",
    "        train_loader = DL(train_dataset, TRAIN_BATCH_SIZE, shuffle=True, drop_last=True)\n",
    "        validation_dataset = CMIDataset(\"pre\", f\"fold_{fold}\", \"validation\")\n",
    "        validation_loader = DL(validation_dataset, VALIDATION_BATCH_SIZE, shuffle=False, drop_last=True)\n",
    "        print(f\"\\n{'='*50}\")\n",
    "        print(f\"Fold {fold + 1}/{NB_CROSS_VALIDATIONS}\")\n",
    "\n",
    "        seed_everything(seed=SEED + fold)\n",
    "        model = mk_model()\n",
    "\n",
    "        # Optimizer et scheduler\n",
    "        # min_lr = max_lr / 100\n",
    "        optimizer = torch.optim.AdamW(\n",
    "            model.parameters(),\n",
    "            WARMUP_LR_INIT,\n",
    "            weight_decay=optimizer_kw[\"weight_decay\"],\n",
    "            betas=(optimizer_kw[\"beta_0\"], optimizer_kw[\"beta_1\"]),\n",
    "        )\n",
    "        steps_per_epoch = len(train_loader)\n",
    "        scheduler = CosineAnnealingWarmupRestarts(\n",
    "            optimizer,\n",
    "            warmup_steps=lr_scheduler_kw[\"warmup_epochs\"] * steps_per_epoch,\n",
    "            cycle_mult=lr_scheduler_kw[\"cycle_mult\"],\n",
    "            max_lr=lr_scheduler_kw[\"max_lr\"],\n",
    "            min_lr=lr_scheduler_kw[\"max_lr\"] / lr_scheduler_kw[\"max_to_min_div_factor\"],\n",
    "            cycle_length=lr_scheduler_kw[\"init_cycle_epochs\"] * steps_per_epoch,\n",
    "            gamma=lr_scheduler_kw[\"lr_cycle_factor\"],\n",
    "        ) \n",
    "        fold_metrics = train_model_on_all_epochs(\n",
    "            model,\n",
    "            train_loader,\n",
    "            validation_loader,\n",
    "            criterion,\n",
    "            optimizer,\n",
    "            scheduler,\n",
    "        )\n",
    "        fold_metrics[\"fold\"] = fold\n",
    "\n",
    "        best_fold_metrics = fold_metrics.loc[fold_metrics[\"final_metric\"].argmax]\n",
    "        final_fold_metrics = fold_metrics.iloc[-1]\n",
    "        print(f\"Best  validation metrics - Binary F1: {best_fold_metrics[\"binary_f1\"]:.4f}, Macro F1: {best_fold_metrics[\"macro_f1\"]:.4f}, Final: {best_fold_metrics[\"final_metric\"]:.4f}\")\n",
    "        print(f\"Final validation metrics - Binary F1: {final_fold_metrics[\"binary_f1\"]:.4f}, Macro F1: {final_fold_metrics[\"macro_f1\"]:.4f}, Final: {final_fold_metrics[\"final_metric\"]:.4f}\")\n",
    "\n",
    "        metrics = pd.concat((metrics, fold_metrics))\n",
    "\n",
    "    print(\"\\n\" + \"=\"*50)\n",
    "    print(\"Cross-Validation Results\")\n",
    "    print(\"=\"*50)\n",
    "\n",
    "    # Statistiques pour les meilleures métriques\n",
    "    best_metrics:DF = (\n",
    "        metrics\n",
    "        .loc[:, [\"fold\", \"binary_f1\", \"macro_f1\", \"final_metric\"]]\n",
    "        .groupby(\"fold\")\n",
    "        .max()\n",
    "    )\n",
    "\n",
    "    print(\"\\nBest Fold-wise Metrics:\")\n",
    "    for fold, row in best_metrics.itertuples():\n",
    "        print(f\"Fold {fold+1}:\", row.dict())\n",
    "\n",
    "    print(\"\\nGlobal Statistics (Best Metrics):\")\n",
    "    print(f\"Mean Best Final Metric: {best_metrics['final_metric'].mean():.4f} ± {best_metrics['final_metric'].std():.4f}\")\n",
    "    print(f\"Mean Best Binary F1: {best_metrics['binary_f1'].mean():.4f} ± {best_metrics['binary_f1'].std():.4f}\")\n",
    "    print(f\"Mean Best Macro F1: {best_metrics['macro_f1'].mean():.4f} ± {best_metrics['macro_f1'].std():.4f}\")\n",
    "    \n",
    "    return np.mean(best_metrics)"
   ]
  },
  {
   "cell_type": "code",
   "execution_count": null,
   "id": "8f14d2b5",
   "metadata": {
    "execution": {
     "iopub.execute_input": "2025-08-02T11:26:30.362466Z",
     "iopub.status.busy": "2025-08-02T11:26:30.361893Z",
     "iopub.status.idle": "2025-08-02T11:26:30.366500Z",
     "shell.execute_reply": "2025-08-02T11:26:30.365927Z"
    },
    "jupyter": {
     "source_hidden": true
    },
    "papermill": {
     "duration": 0.014357,
     "end_time": "2025-08-02T11:26:30.367454",
     "exception": false,
     "start_time": "2025-08-02T11:26:30.353097",
     "status": "completed"
    },
    "tags": []
   },
   "outputs": [],
   "source": [
    "def objective(trial: optuna.trial.Trial) -> float:\n",
    "    return train_on_all_folds(\n",
    "        lr_scheduler_kw={\n",
    "            \"warmup_epochs\": trial.suggest_int(\"warmup_epochs\", 1, 10),\n",
    "            \"cycle_mult\": trial.suggest_float(\"cycle_mult\", 0.5, 2),\n",
    "            \"max_lr\": trial.suggest_float(\"max_lr\", max_lr / 3, max_lr * 3),\n",
    "            \"max_to_min_div_factor\": trial.suggest_float(\"max_to_min_div_factor\", 100, 300, step=25),\n",
    "            \"init_cycle_epochs\": trial.suggest_int(\"init_cycle_epochs\", 2, 10),\n",
    "            \"lr_cycle_factor\": trial.suggest_float(\"lr_cycle_factor\", 0.3, 1),\n",
    "        },\n",
    "        optimizer_kw={\n",
    "            \"weight_decay\": trial.suggest_float(\"weight_decay\", 5e-4, 1e-3),\n",
    "            \"beta_0\":trial.suggest_float(\"beta_0\", 0.8, 0.999),\n",
    "            \"beta_1\":trial.suggest_float(\"beta_1\", 0.99, 0.9999),\n",
    "        }\n",
    "    )[0]"
   ]
  },
  {
   "cell_type": "code",
   "execution_count": 33,
   "id": "d0936698",
   "metadata": {
    "execution": {
     "iopub.execute_input": "2025-08-02T11:26:30.385055Z",
     "iopub.status.busy": "2025-08-02T11:26:30.384637Z",
     "iopub.status.idle": "2025-08-02T11:33:13.504786Z",
     "shell.execute_reply": "2025-08-02T11:33:13.503986Z"
    },
    "papermill": {
     "duration": 403.130501,
     "end_time": "2025-08-02T11:33:13.506236",
     "exception": false,
     "start_time": "2025-08-02T11:26:30.375735",
     "status": "completed"
    },
    "tags": []
   },
   "outputs": [
    {
     "name": "stdout",
     "output_type": "stream",
     "text": [
      "training: 1\n",
      "\n",
      "==================================================\n",
      "Fold 1/5\n",
      "Epoch 01: Binary F1 = 0.7361, Macro F1 = 0.2196, Final Metric = 0.4778\n",
      "  New best metric! Saving model...\n",
      "Epoch 02: Binary F1 = 0.9197, Macro F1 = 0.3641, Final Metric = 0.6419\n",
      "  New best metric! Saving model...\n",
      "Epoch 03: Binary F1 = 0.9312, Macro F1 = 0.3976, Final Metric = 0.6644\n",
      "  New best metric! Saving model...\n",
      "Epoch 04: Binary F1 = 0.9153, Macro F1 = 0.4188, Final Metric = 0.6670\n",
      "  New best metric! Saving model...\n",
      "Epoch 05: Binary F1 = 0.9581, Macro F1 = 0.4762, Final Metric = 0.7171\n",
      "  New best metric! Saving model...\n",
      "Epoch 06: Binary F1 = 0.9481, Macro F1 = 0.4469, Final Metric = 0.6975\n",
      "Epoch 07: Binary F1 = 0.9460, Macro F1 = 0.4473, Final Metric = 0.6967\n",
      "Epoch 08: Binary F1 = 0.9519, Macro F1 = 0.4265, Final Metric = 0.6892\n",
      "Epoch 09: Binary F1 = 0.9682, Macro F1 = 0.5189, Final Metric = 0.7435\n",
      "  New best metric! Saving model...\n",
      "Epoch 10: Binary F1 = 0.9660, Macro F1 = 0.5254, Final Metric = 0.7457\n",
      "  New best metric! Saving model...\n",
      "Epoch 11: Binary F1 = 0.9660, Macro F1 = 0.5284, Final Metric = 0.7472\n",
      "  New best metric! Saving model...\n",
      "Epoch 12: Binary F1 = 0.9739, Macro F1 = 0.5849, Final Metric = 0.7794\n",
      "  New best metric! Saving model...\n",
      "Epoch 13: Binary F1 = 0.9708, Macro F1 = 0.5776, Final Metric = 0.7742\n",
      "Epoch 14: Binary F1 = 0.9571, Macro F1 = 0.5446, Final Metric = 0.7508\n",
      "Epoch 15: Binary F1 = 0.9717, Macro F1 = 0.5713, Final Metric = 0.7715\n",
      "Epoch 16: Binary F1 = 0.9761, Macro F1 = 0.5730, Final Metric = 0.7746\n",
      "Epoch 17: Binary F1 = 0.9777, Macro F1 = 0.5817, Final Metric = 0.7797\n",
      "  New best metric! Saving model...\n",
      "Epoch 18: Binary F1 = 0.9785, Macro F1 = 0.5832, Final Metric = 0.7808\n",
      "  New best metric! Saving model...\n",
      "Epoch 19: Binary F1 = 0.9746, Macro F1 = 0.5706, Final Metric = 0.7726\n",
      "Epoch 20: Binary F1 = 0.9746, Macro F1 = 0.5912, Final Metric = 0.7829\n",
      "  New best metric! Saving model...\n",
      "Epoch 21: Binary F1 = 0.9762, Macro F1 = 0.5769, Final Metric = 0.7766\n",
      "Epoch 22: Binary F1 = 0.9784, Macro F1 = 0.5845, Final Metric = 0.7814\n",
      "Epoch 23: Binary F1 = 0.9800, Macro F1 = 0.5871, Final Metric = 0.7836\n",
      "  New best metric! Saving model...\n",
      "Epoch 24: Binary F1 = 0.9761, Macro F1 = 0.5946, Final Metric = 0.7854\n",
      "  New best metric! Saving model...\n",
      "Epoch 25: Binary F1 = 0.9776, Macro F1 = 0.5947, Final Metric = 0.7862\n",
      "  New best metric! Saving model...\n",
      "\n",
      "Fold 1 completed.\n",
      "Final validation metrics - Binary F1: 0.9776, Macro F1: 0.5947, Final: 0.7862\n",
      "Best validation metrics - Binary F1: 0.9776, Macro F1: 0.5947, Final: 0.7862\n",
      "training: 2\n",
      "\n",
      "==================================================\n",
      "Fold 2/5\n",
      "Epoch 01: Binary F1 = 0.7487, Macro F1 = 0.2525, Final Metric = 0.5006\n",
      "  New best metric! Saving model...\n",
      "Epoch 02: Binary F1 = 0.9138, Macro F1 = 0.3650, Final Metric = 0.6394\n",
      "  New best metric! Saving model...\n",
      "Epoch 03: Binary F1 = 0.9103, Macro F1 = 0.4435, Final Metric = 0.6769\n",
      "  New best metric! Saving model...\n",
      "Epoch 04: Binary F1 = 0.9347, Macro F1 = 0.4502, Final Metric = 0.6924\n",
      "  New best metric! Saving model...\n",
      "Epoch 05: Binary F1 = 0.9390, Macro F1 = 0.4171, Final Metric = 0.6780\n",
      "Epoch 06: Binary F1 = 0.9180, Macro F1 = 0.4858, Final Metric = 0.7019\n",
      "  New best metric! Saving model...\n",
      "Epoch 07: Binary F1 = 0.8645, Macro F1 = 0.4263, Final Metric = 0.6454\n",
      "Epoch 08: Binary F1 = 0.9195, Macro F1 = 0.4436, Final Metric = 0.6815\n",
      "Epoch 09: Binary F1 = 0.9349, Macro F1 = 0.5054, Final Metric = 0.7202\n",
      "  New best metric! Saving model...\n",
      "Epoch 10: Binary F1 = 0.9732, Macro F1 = 0.5526, Final Metric = 0.7629\n",
      "  New best metric! Saving model...\n",
      "Epoch 11: Binary F1 = 0.9579, Macro F1 = 0.5536, Final Metric = 0.7557\n",
      "Epoch 12: Binary F1 = 0.9668, Macro F1 = 0.5832, Final Metric = 0.7750\n",
      "  New best metric! Saving model...\n",
      "Epoch 13: Binary F1 = 0.9668, Macro F1 = 0.5882, Final Metric = 0.7775\n",
      "  New best metric! Saving model...\n",
      "Epoch 14: Binary F1 = 0.9504, Macro F1 = 0.5692, Final Metric = 0.7598\n",
      "Epoch 15: Binary F1 = 0.9639, Macro F1 = 0.5817, Final Metric = 0.7728\n",
      "Epoch 16: Binary F1 = 0.9662, Macro F1 = 0.6093, Final Metric = 0.7877\n",
      "  New best metric! Saving model...\n",
      "Epoch 17: Binary F1 = 0.9686, Macro F1 = 0.6086, Final Metric = 0.7886\n",
      "  New best metric! Saving model...\n",
      "Epoch 18: Binary F1 = 0.9709, Macro F1 = 0.6140, Final Metric = 0.7925\n",
      "  New best metric! Saving model...\n",
      "Epoch 19: Binary F1 = 0.9694, Macro F1 = 0.5886, Final Metric = 0.7790\n",
      "Epoch 20: Binary F1 = 0.9677, Macro F1 = 0.6127, Final Metric = 0.7902\n",
      "Epoch 21: Binary F1 = 0.9726, Macro F1 = 0.6173, Final Metric = 0.7950\n",
      "  New best metric! Saving model...\n",
      "Epoch 22: Binary F1 = 0.9710, Macro F1 = 0.6284, Final Metric = 0.7997\n",
      "  New best metric! Saving model...\n",
      "Epoch 23: Binary F1 = 0.9694, Macro F1 = 0.6251, Final Metric = 0.7972\n",
      "Epoch 24: Binary F1 = 0.9694, Macro F1 = 0.6231, Final Metric = 0.7962\n",
      "Epoch 25: Binary F1 = 0.9687, Macro F1 = 0.6198, Final Metric = 0.7943\n",
      "\n",
      "Fold 2 completed.\n",
      "Final validation metrics - Binary F1: 0.9687, Macro F1: 0.6198, Final: 0.7943\n",
      "Best validation metrics - Binary F1: 0.9710, Macro F1: 0.6284, Final: 0.7997\n",
      "training: 3\n",
      "\n",
      "==================================================\n",
      "Fold 3/5\n",
      "Epoch 01: Binary F1 = 0.8322, Macro F1 = 0.2741, Final Metric = 0.5532\n",
      "  New best metric! Saving model...\n",
      "Epoch 02: Binary F1 = 0.9317, Macro F1 = 0.4085, Final Metric = 0.6701\n",
      "  New best metric! Saving model...\n",
      "Epoch 03: Binary F1 = 0.9373, Macro F1 = 0.4000, Final Metric = 0.6687\n",
      "Epoch 04: Binary F1 = 0.9171, Macro F1 = 0.4320, Final Metric = 0.6746\n",
      "  New best metric! Saving model...\n",
      "Epoch 05: Binary F1 = 0.9029, Macro F1 = 0.4707, Final Metric = 0.6868\n",
      "  New best metric! Saving model...\n",
      "Epoch 06: Binary F1 = 0.9432, Macro F1 = 0.5113, Final Metric = 0.7273\n",
      "  New best metric! Saving model...\n",
      "Epoch 07: Binary F1 = 0.9426, Macro F1 = 0.4710, Final Metric = 0.7068\n",
      "Epoch 08: Binary F1 = 0.9654, Macro F1 = 0.5556, Final Metric = 0.7605\n",
      "  New best metric! Saving model...\n",
      "Epoch 09: Binary F1 = 0.9524, Macro F1 = 0.5525, Final Metric = 0.7524\n",
      "Epoch 10: Binary F1 = 0.9670, Macro F1 = 0.5597, Final Metric = 0.7634\n",
      "  New best metric! Saving model...\n",
      "Epoch 11: Binary F1 = 0.9706, Macro F1 = 0.5983, Final Metric = 0.7844\n",
      "  New best metric! Saving model...\n",
      "Epoch 12: Binary F1 = 0.9582, Macro F1 = 0.6165, Final Metric = 0.7874\n",
      "  New best metric! Saving model...\n",
      "Epoch 13: Binary F1 = 0.9599, Macro F1 = 0.6325, Final Metric = 0.7962\n",
      "  New best metric! Saving model...\n",
      "Epoch 14: Binary F1 = 0.9682, Macro F1 = 0.6070, Final Metric = 0.7876\n",
      "Epoch 15: Binary F1 = 0.9483, Macro F1 = 0.6017, Final Metric = 0.7750\n",
      "Epoch 16: Binary F1 = 0.9647, Macro F1 = 0.6297, Final Metric = 0.7972\n",
      "  New best metric! Saving model...\n",
      "Epoch 17: Binary F1 = 0.9647, Macro F1 = 0.6277, Final Metric = 0.7962\n",
      "Epoch 18: Binary F1 = 0.9751, Macro F1 = 0.6166, Final Metric = 0.7958\n",
      "Epoch 19: Binary F1 = 0.9742, Macro F1 = 0.6251, Final Metric = 0.7997\n",
      "  New best metric! Saving model...\n",
      "Epoch 20: Binary F1 = 0.9703, Macro F1 = 0.6378, Final Metric = 0.8040\n",
      "  New best metric! Saving model...\n",
      "Epoch 21: Binary F1 = 0.9735, Macro F1 = 0.6172, Final Metric = 0.7953\n",
      "Epoch 22: Binary F1 = 0.9743, Macro F1 = 0.6321, Final Metric = 0.8032\n",
      "Epoch 23: Binary F1 = 0.9726, Macro F1 = 0.6179, Final Metric = 0.7953\n",
      "Epoch 24: Binary F1 = 0.9742, Macro F1 = 0.6397, Final Metric = 0.8070\n",
      "  New best metric! Saving model...\n",
      "Epoch 25: Binary F1 = 0.9743, Macro F1 = 0.6314, Final Metric = 0.8028\n",
      "\n",
      "Fold 3 completed.\n",
      "Final validation metrics - Binary F1: 0.9743, Macro F1: 0.6314, Final: 0.8028\n",
      "Best validation metrics - Binary F1: 0.9742, Macro F1: 0.6397, Final: 0.8070\n",
      "training: 4\n",
      "\n",
      "==================================================\n",
      "Fold 4/5\n",
      "Epoch 01: Binary F1 = 0.8166, Macro F1 = 0.2727, Final Metric = 0.5447\n",
      "  New best metric! Saving model...\n",
      "Epoch 02: Binary F1 = 0.9062, Macro F1 = 0.3700, Final Metric = 0.6381\n",
      "  New best metric! Saving model...\n",
      "Epoch 03: Binary F1 = 0.8758, Macro F1 = 0.3749, Final Metric = 0.6253\n",
      "Epoch 04: Binary F1 = 0.9202, Macro F1 = 0.4120, Final Metric = 0.6661\n",
      "  New best metric! Saving model...\n",
      "Epoch 05: Binary F1 = 0.9325, Macro F1 = 0.4665, Final Metric = 0.6995\n",
      "  New best metric! Saving model...\n",
      "Epoch 06: Binary F1 = 0.9330, Macro F1 = 0.4472, Final Metric = 0.6901\n",
      "Epoch 07: Binary F1 = 0.9204, Macro F1 = 0.4910, Final Metric = 0.7057\n",
      "  New best metric! Saving model...\n",
      "Epoch 08: Binary F1 = 0.9045, Macro F1 = 0.5249, Final Metric = 0.7147\n",
      "  New best metric! Saving model...\n",
      "Epoch 09: Binary F1 = 0.9389, Macro F1 = 0.4481, Final Metric = 0.6935\n",
      "Epoch 10: Binary F1 = 0.9407, Macro F1 = 0.5115, Final Metric = 0.7261\n",
      "  New best metric! Saving model...\n",
      "Epoch 11: Binary F1 = 0.9597, Macro F1 = 0.5632, Final Metric = 0.7615\n",
      "  New best metric! Saving model...\n",
      "Epoch 12: Binary F1 = 0.9583, Macro F1 = 0.5785, Final Metric = 0.7684\n",
      "  New best metric! Saving model...\n",
      "Epoch 13: Binary F1 = 0.9558, Macro F1 = 0.5766, Final Metric = 0.7662\n",
      "Epoch 14: Binary F1 = 0.9558, Macro F1 = 0.5475, Final Metric = 0.7517\n",
      "Epoch 15: Binary F1 = 0.9496, Macro F1 = 0.5530, Final Metric = 0.7513\n",
      "Epoch 16: Binary F1 = 0.9551, Macro F1 = 0.5845, Final Metric = 0.7698\n",
      "  New best metric! Saving model...\n",
      "Epoch 17: Binary F1 = 0.9575, Macro F1 = 0.5742, Final Metric = 0.7658\n",
      "Epoch 18: Binary F1 = 0.9567, Macro F1 = 0.5918, Final Metric = 0.7743\n",
      "  New best metric! Saving model...\n",
      "Epoch 19: Binary F1 = 0.9533, Macro F1 = 0.5755, Final Metric = 0.7644\n",
      "Epoch 20: Binary F1 = 0.9548, Macro F1 = 0.6066, Final Metric = 0.7807\n",
      "  New best metric! Saving model...\n",
      "Epoch 21: Binary F1 = 0.9561, Macro F1 = 0.5959, Final Metric = 0.7760\n",
      "Epoch 22: Binary F1 = 0.9573, Macro F1 = 0.6095, Final Metric = 0.7834\n",
      "  New best metric! Saving model...\n",
      "Epoch 23: Binary F1 = 0.9555, Macro F1 = 0.6172, Final Metric = 0.7864\n",
      "  New best metric! Saving model...\n",
      "Epoch 24: Binary F1 = 0.9597, Macro F1 = 0.6197, Final Metric = 0.7897\n",
      "  New best metric! Saving model...\n",
      "Epoch 25: Binary F1 = 0.9581, Macro F1 = 0.6191, Final Metric = 0.7886\n",
      "\n",
      "Fold 4 completed.\n",
      "Final validation metrics - Binary F1: 0.9581, Macro F1: 0.6191, Final: 0.7886\n",
      "Best validation metrics - Binary F1: 0.9597, Macro F1: 0.6197, Final: 0.7897\n",
      "training: 5\n",
      "\n",
      "==================================================\n",
      "Fold 5/5\n",
      "Epoch 01: Binary F1 = 0.7748, Macro F1 = 0.2423, Final Metric = 0.5086\n",
      "  New best metric! Saving model...\n",
      "Epoch 02: Binary F1 = 0.9038, Macro F1 = 0.3586, Final Metric = 0.6312\n",
      "  New best metric! Saving model...\n",
      "Epoch 03: Binary F1 = 0.9034, Macro F1 = 0.4375, Final Metric = 0.6704\n",
      "  New best metric! Saving model...\n",
      "Epoch 04: Binary F1 = 0.9255, Macro F1 = 0.4345, Final Metric = 0.6800\n",
      "  New best metric! Saving model...\n",
      "Epoch 05: Binary F1 = 0.9391, Macro F1 = 0.4824, Final Metric = 0.7107\n",
      "  New best metric! Saving model...\n",
      "Epoch 06: Binary F1 = 0.9413, Macro F1 = 0.4524, Final Metric = 0.6968\n",
      "Epoch 07: Binary F1 = 0.9511, Macro F1 = 0.4656, Final Metric = 0.7083\n",
      "Epoch 08: Binary F1 = 0.9373, Macro F1 = 0.5059, Final Metric = 0.7216\n",
      "  New best metric! Saving model...\n",
      "Epoch 09: Binary F1 = 0.9199, Macro F1 = 0.5093, Final Metric = 0.7146\n",
      "Epoch 10: Binary F1 = 0.9436, Macro F1 = 0.5352, Final Metric = 0.7394\n",
      "  New best metric! Saving model...\n",
      "Epoch 11: Binary F1 = 0.9558, Macro F1 = 0.5723, Final Metric = 0.7641\n",
      "  New best metric! Saving model...\n",
      "Epoch 12: Binary F1 = 0.9541, Macro F1 = 0.5830, Final Metric = 0.7686\n",
      "  New best metric! Saving model...\n",
      "Epoch 13: Binary F1 = 0.9573, Macro F1 = 0.5913, Final Metric = 0.7743\n",
      "  New best metric! Saving model...\n",
      "Epoch 14: Binary F1 = 0.9549, Macro F1 = 0.5377, Final Metric = 0.7463\n",
      "Epoch 15: Binary F1 = 0.9646, Macro F1 = 0.5678, Final Metric = 0.7662\n",
      "Epoch 16: Binary F1 = 0.9622, Macro F1 = 0.5965, Final Metric = 0.7794\n",
      "  New best metric! Saving model...\n",
      "Epoch 17: Binary F1 = 0.9682, Macro F1 = 0.6080, Final Metric = 0.7881\n",
      "  New best metric! Saving model...\n",
      "Epoch 18: Binary F1 = 0.9653, Macro F1 = 0.5833, Final Metric = 0.7743\n",
      "Epoch 19: Binary F1 = 0.9677, Macro F1 = 0.5946, Final Metric = 0.7811\n",
      "Epoch 20: Binary F1 = 0.9667, Macro F1 = 0.6042, Final Metric = 0.7855\n",
      "Epoch 21: Binary F1 = 0.9603, Macro F1 = 0.5959, Final Metric = 0.7781\n",
      "Epoch 22: Binary F1 = 0.9636, Macro F1 = 0.5833, Final Metric = 0.7734\n",
      "Epoch 23: Binary F1 = 0.9663, Macro F1 = 0.6032, Final Metric = 0.7847\n",
      "Epoch 24: Binary F1 = 0.9645, Macro F1 = 0.6098, Final Metric = 0.7871\n",
      "Epoch 25: Binary F1 = 0.9691, Macro F1 = 0.6068, Final Metric = 0.7880\n",
      "Early stopping triggered at epoch 25\n",
      "\n",
      "Fold 5 completed.\n",
      "Final validation metrics - Binary F1: 0.9691, Macro F1: 0.6068, Final: 0.7880\n",
      "Best validation metrics - Binary F1: 0.9682, Macro F1: 0.6080, Final: 0.7881\n",
      "\n",
      "==================================================\n",
      "Cross-Validation Results\n",
      "==================================================\n",
      "\n",
      "Best Fold-wise Metrics:\n",
      "Fold 1: Binary F1 = 0.9776, Macro F1 = 0.5947, Final = 0.7862\n",
      "Fold 2: Binary F1 = 0.9710, Macro F1 = 0.6284, Final = 0.7997\n",
      "Fold 3: Binary F1 = 0.9742, Macro F1 = 0.6397, Final = 0.8070\n",
      "Fold 4: Binary F1 = 0.9597, Macro F1 = 0.6197, Final = 0.7897\n",
      "Fold 5: Binary F1 = 0.9682, Macro F1 = 0.6080, Final = 0.7881\n",
      "\n",
      "Global Statistics (Best Metrics):\n",
      "Mean Best Final Metric: 0.7941 ± 0.0079\n",
      "Mean Best Binary F1: 0.9702 ± 0.0061\n",
      "Mean Best Macro F1: 0.6181 ± 0.0156\n"
     ]
    },
    {
     "data": {
      "text/plain": [
       "np.float64(0.7941343512981733)"
      ]
     },
     "execution_count": 33,
     "metadata": {},
     "output_type": "execute_result"
    }
   ],
   "source": [
    "train_on_all_folds(\n",
    "        lr_scheduler_kw={\n",
    "            \"warmup_epochs\": 8,\n",
    "            \"cycle_mult\": 0.7994284370327427,\n",
    "            \"max_lr\": 0.005581907927062619,\n",
    "            \"max_to_min_div_factor\": 275.0,\n",
    "            \"init_cycle_epochs\": 5,\n",
    "            \"lr_cycle_factor\": 0.5033112105827083,\n",
    "        },\n",
    "        optimizer_kw={\n",
    "            \"weight_decay\": 0.0006702308864102119,\n",
    "            \"beta_0\": 0.9089203414971434,\n",
    "            \"beta_1\": 0.9969898035522793,\n",
    "    }\n",
    ")"
   ]
  },
  {
   "cell_type": "code",
   "execution_count": 26,
   "id": "df9ccf8c",
   "metadata": {
    "execution": {
     "iopub.execute_input": "2025-08-02T11:33:13.535922Z",
     "iopub.status.busy": "2025-08-02T11:33:13.535715Z",
     "iopub.status.idle": "2025-08-02T11:33:13.539697Z",
     "shell.execute_reply": "2025-08-02T11:33:13.538846Z"
    },
    "papermill": {
     "duration": 0.01955,
     "end_time": "2025-08-02T11:33:13.541052",
     "exception": false,
     "start_time": "2025-08-02T11:33:13.521502",
     "status": "completed"
    },
    "tags": []
   },
   "outputs": [],
   "source": [
    "# study = optuna.create_study(direction=\"maximize\")\n",
    "# study.optimize(objective, n_trials=100, timeout=60 * 60 * 2)\n",
    "\n",
    "# pruned_trials = study.get_trials(deepcopy=False, states=[TrialState.PRUNED])\n",
    "# complete_trials = study.get_trials(deepcopy=False, states=[TrialState.COMPLETE])\n",
    "\n",
    "# print(\"Study statistics: \")\n",
    "# print(\"  Number of finished trials: \", len(study.trials))\n",
    "# print(\"  Number of pruned trials: \", len(pruned_trials))\n",
    "# print(\"  Number of complete trials: \", len(complete_trials))\n",
    "\n",
    "# print(\"Best trial:\")\n",
    "# trial = study.best_trial\n",
    "\n",
    "# print(\"  Value: \", trial.value)\n",
    "\n",
    "# print(\"  Params: \")\n",
    "# for key, value in trial.params.items():\n",
    "#     print(\"    {}: {}\".format(key, value))"
   ]
  },
  {
   "cell_type": "markdown",
   "id": "ac2b2f05",
   "metadata": {
    "papermill": {
     "duration": 0.023297,
     "end_time": "2025-08-02T11:33:13.582486",
     "exception": false,
     "start_time": "2025-08-02T11:33:13.559189",
     "status": "completed"
    },
    "tags": []
   },
   "source": [
    "## Submission"
   ]
  },
  {
   "cell_type": "markdown",
   "id": "338e1e1b",
   "metadata": {
    "papermill": {
     "duration": 0.017349,
     "end_time": "2025-08-02T11:33:13.615231",
     "exception": false,
     "start_time": "2025-08-02T11:33:13.597882",
     "status": "completed"
    },
    "tags": []
   },
   "source": [
    "### Reloading best model"
   ]
  },
  {
   "cell_type": "code",
   "execution_count": 34,
   "id": "2486858b",
   "metadata": {
    "execution": {
     "iopub.execute_input": "2025-08-02T11:33:13.644699Z",
     "iopub.status.busy": "2025-08-02T11:33:13.644430Z",
     "iopub.status.idle": "2025-08-02T11:33:13.934618Z",
     "shell.execute_reply": "2025-08-02T11:33:13.933984Z"
    },
    "papermill": {
     "duration": 0.305935,
     "end_time": "2025-08-02T11:33:13.935976",
     "exception": false,
     "start_time": "2025-08-02T11:33:13.630041",
     "status": "completed"
    },
    "tags": []
   },
   "outputs": [],
   "source": [
    "model_ensemble = []\n",
    "for fold in range(5):\n",
    "    model = mk_model()\n",
    "    checkpoint = torch.load(f\"best_model_fold{fold}.pth\", map_location=device, weights_only=True)\n",
    "    model.load_state_dict(checkpoint)\n",
    "    model.eval()\n",
    "    model_ensemble.append(model)"
   ]
  },
  {
   "cell_type": "markdown",
   "id": "fcf8ae42",
   "metadata": {
    "papermill": {
     "duration": 0.013809,
     "end_time": "2025-08-02T11:33:13.964329",
     "exception": false,
     "start_time": "2025-08-02T11:33:13.950520",
     "status": "completed"
    },
    "tags": []
   },
   "source": [
    "### Define preprocessing function"
   ]
  },
  {
   "cell_type": "code",
   "execution_count": 35,
   "id": "2ab2d57b",
   "metadata": {
    "execution": {
     "iopub.execute_input": "2025-08-02T11:33:13.993213Z",
     "iopub.status.busy": "2025-08-02T11:33:13.992841Z",
     "iopub.status.idle": "2025-08-02T11:33:14.011288Z",
     "shell.execute_reply": "2025-08-02T11:33:14.010718Z"
    },
    "papermill": {
     "duration": 0.03452,
     "end_time": "2025-08-02T11:33:14.012421",
     "exception": false,
     "start_time": "2025-08-02T11:33:13.977901",
     "status": "completed"
    },
    "tags": []
   },
   "outputs": [],
   "source": [
    "def get_fillna_val_per_feature_col(df:DF) -> dict:\n",
    "    return {col: 1.0 if col == 'rot_w' else 0 for col in get_feature_cols(df)}\n",
    "\n",
    "def imputed_features(df:DF) -> DF:\n",
    "    # Missing ToF values are already imputed by -1 which is inconvinient since we want all missing values to be NaN.    \n",
    "    # So we replace them by NaN and then perform imputing.  \n",
    "    tof_vals_to_nan = {col: -1.0 for col in df.columns if col.startswith(\"tof\")}\n",
    "\n",
    "    df[get_feature_cols(df)] = (\n",
    "        df\n",
    "        .loc[:, get_feature_cols(df)]\n",
    "        # df.replace with np.nan sets dtype to floar64 so we set it back to float32\n",
    "        .replace(tof_vals_to_nan, value=np.nan)\n",
    "        .astype(\"float32\")\n",
    "        .groupby(df[\"sequence_id\"], observed=True, as_index=False)\n",
    "        .ffill()\n",
    "        .groupby(df[\"sequence_id\"], observed=True, as_index=False)\n",
    "        .bfill()\n",
    "        # In case there are only nan in the column in the sequence\n",
    "        .fillna(get_fillna_val_per_feature_col(df))\n",
    "    )\n",
    "    return df\n",
    "\n",
    "def standardize_tof_cols_names(df: DF) -> DF:\n",
    "    renamed_cols = {}\n",
    "    pattern = re.compile(r\"^(tof_\\d_v)(\\d)$\")  # match 'tof_X_vY' where Y is a single digit\n",
    "\n",
    "    for col in df.columns:\n",
    "        match = pattern.match(col)\n",
    "        if match:\n",
    "            prefix, version = match.groups()\n",
    "            new_col = f\"{prefix}0{version}\"\n",
    "            renamed_cols[col] = new_col\n",
    "\n",
    "    return df.rename(columns=renamed_cols)\n",
    "\n",
    "def norm_quat_rotations(df:DF) -> DF:\n",
    "    df[QUATERNION_COLS] /= np.linalg.norm(df[QUATERNION_COLS], axis=1, keepdims=True)\n",
    "    return df\n",
    "\n",
    "def add_linear_acc_cols(df:DF) -> DF:\n",
    "    # Vectorized version of https://www.kaggle.com/code/wasupandceacar/lb-0-82-5fold-single-bert-model#Dataset `remove_gravity_from_acc`\n",
    "    rotations:Rotation = Rotation.from_quat(df[QUATERNION_COLS])\n",
    "    gravity_sensor_frame = rotations.apply(GRAVITY_WORLD, inverse=True).astype(\"float32\")\n",
    "    df[LINEAR_ACC_COLS] = df[RAW_ACCELRATION_COLS] - gravity_sensor_frame\n",
    "    return df\n",
    "\n",
    "def add_acc_magnitude(df:DF, acc_cols:list[str], acc_mag_col_name:str) -> DF:\n",
    "    return df.assign(**{acc_mag_col_name: np.linalg.norm(df.loc[:, acc_cols], axis=1)})\n",
    "\n",
    "def add_quat_angle_mag(df:DF) -> DF:\n",
    "    return df.assign(quat_rot_mag=np.arccos(df[\"rot_w\"]) * 2)\n",
    "\n",
    "def add_angular_velocity_features(df:DF) -> DF:\n",
    "    rotations = Rotation.from_quat(df[QUATERNION_COLS])\n",
    "    delta_rotations = rotations[1:] * rotations[:-1].inv()\n",
    "    delta_rot_velocity = delta_rotations.as_rotvec()\n",
    "    # Add extra line to avoid shape mismatch\n",
    "    delta_rot_velocity = np.vstack((np.zeros((1, 3)), delta_rot_velocity))\n",
    "    delta_rot_magnitude = norm(delta_rot_velocity, axis=1, keepdims=True)\n",
    "    delta_rot_axes = delta_rot_velocity / (delta_rot_magnitude + EPSILON)\n",
    "    df[DELTA_ROTATION_ANGULAR_VELOCITY_COLS] = delta_rot_velocity\n",
    "    df[DELTA_ROTATION_AXES_COLS] = delta_rot_axes\n",
    "    df[\"delta_rot_mag\"] = delta_rot_magnitude.squeeze()\n",
    "\n",
    "    return df\n",
    "\n",
    "def rot_euler_angles(df:DF) -> ndarray:\n",
    "    df[EULER_ANGLES_COLS] = (\n",
    "        Rotation\n",
    "        .from_quat(df[QUATERNION_COLS])\n",
    "        .as_euler(\"xyz\")\n",
    "        .squeeze()\n",
    "    )\n",
    "    return df\n",
    "\n",
    "def agg_tof_cols_per_sensor(df:DF) -> DF:\n",
    "    for tof_idx in tqdm(range(1, 6)):\n",
    "        tof_name = f\"tof_{tof_idx}\"\n",
    "        tof_cols = [f\"{tof_name}_v{v_idx}\" for v_idx in range(64)]\n",
    "        if any(map(lambda col: col not in df.columns, tof_cols)):\n",
    "            print(f\"Some (or) all ToF {tof_idx} columns are not in the df. Maybe you already ran this cell?\")\n",
    "            continue\n",
    "        df = pd.concat(\n",
    "            (\n",
    "                df.drop(columns=tof_cols),\n",
    "                # For some reasons, it's faster to call all the aggregation functions seperatly than agg(list of functions)\n",
    "                df[tof_cols].mean(axis=\"columns\").to_frame(tof_name + \"_mean\"),\n",
    "                df[tof_cols].std(axis=\"columns\").to_frame(tof_name + \"_std\"),\n",
    "                df[tof_cols].median(axis=\"columns\").to_frame(tof_name + \"_median\"),\n",
    "                df[tof_cols].min(axis=\"columns\").to_frame(tof_name + \"_min\"),\n",
    "                df[tof_cols].max(axis=\"columns\").to_frame(tof_name + \"_max\"),\n",
    "            ),\n",
    "            axis=\"columns\",\n",
    "        )\n",
    "    return df\n",
    "\n",
    "def add_diff_features(df:DF) -> DF:\n",
    "    return pd.concat(\n",
    "        (\n",
    "            df,\n",
    "            df\n",
    "            .groupby(\"sequence_id\", as_index=False, observed=True)\n",
    "            [get_feature_cols(df)]\n",
    "            .diff()\n",
    "            .fillna(get_fillna_val_per_feature_col(df))\n",
    "            .add_suffix(\"_diff\")\n",
    "        ),\n",
    "        axis=\"columns\",\n",
    "    )\n",
    "\n",
    "def length_normed_sequence_feat_arr(\n",
    "        sequence: DF,\n",
    "        pad_trunc_mode:Literal[\"pre\", \"center\", \"post\"]\n",
    "    ) -> ndarray:\n",
    "    features = (\n",
    "        sequence\n",
    "        .loc[:, meta_data[\"feature_cols\"]]\n",
    "        .values\n",
    "    )\n",
    "    normed_sequence_len = meta_data[\"pad_seq_len\"]\n",
    "    len_diff = abs(normed_sequence_len - len(features))\n",
    "    len_diff_h = len_diff // 2 # half len diff\n",
    "    len_diff_r = len_diff % 2 # len diff remainder\n",
    "    if len(features) < normed_sequence_len:\n",
    "        padding_dict = {\n",
    "            \"pre\": (len_diff, 0),\n",
    "            \"center\": (len_diff_h + len_diff_r, len_diff_h),\n",
    "            \"post\": (0, len_diff),\n",
    "        }\n",
    "        padded_features = np.pad(\n",
    "            features,\n",
    "            (padding_dict[pad_trunc_mode], (0, 0)),\n",
    "        )\n",
    "        return padded_features\n",
    "    elif len(features) > normed_sequence_len:\n",
    "        truncating_dict = {\n",
    "            \"pre\": slice(len_diff),\n",
    "            \"center\": slice(len_diff_h, -len_diff_h),\n",
    "            \"post\": slice(0, -len_diff),\n",
    "        }\n",
    "        return features[len_diff // 2:-len_diff // 2]\n",
    "    else:\n",
    "        return features\n",
    "\n",
    "\n",
    "def preprocess_sequence(sequence_df:pl.DataFrame) -> ndarray:\n",
    "    return (\n",
    "        sequence_df                     \n",
    "        .to_pandas()                            # Convert to pandas dataframe.\n",
    "        .pipe(imputed_features)                 # Impute missing data.\n",
    "        .pipe(standardize_tof_cols_names)\n",
    "        .pipe(norm_quat_rotations)              # Norm quaternions\n",
    "        .pipe(add_linear_acc_cols)              # Add gravity free acceleration.\n",
    "        .pipe(add_acc_magnitude, RAW_ACCELRATION_COLS, \"acc_mag\")\n",
    "        .pipe(add_acc_magnitude, LINEAR_ACC_COLS, \"linear_acc_mag\")\n",
    "        .pipe(add_quat_angle_mag)\n",
    "        .pipe(add_angular_velocity_features)\n",
    "        .pipe(rot_euler_angles)                 # Add rotation acc expressed as euler angles.\n",
    "        # .pipe(agg_tof_cols_per_sensor)          # Aggregate ToF columns.\n",
    "        .pipe(add_diff_features)                # \n",
    "        .loc[:, sorted(meta_data[\"feature_cols\"])]      # Retain only the usefull columns a.k.a features.\n",
    "        .sub(meta_data[\"mean\"])                 # Subtract features by their mean, std norm pt.1.\n",
    "        .div(meta_data[\"std\"])                  # Divide by Standard deviation, std norm pt.2.\n",
    "        .pipe(length_normed_sequence_feat_arr, \"pre\")  # get feature ndarray of sequence.\n",
    "        .T                                      # Transpose to swap channel and X dimensions.\n",
    "    )"
   ]
  },
  {
   "cell_type": "markdown",
   "id": "6e6df209",
   "metadata": {
    "papermill": {
     "duration": 0.013789,
     "end_time": "2025-08-02T11:33:14.040022",
     "exception": false,
     "start_time": "2025-08-02T11:33:14.026233",
     "status": "completed"
    },
    "tags": []
   },
   "source": [
    "### Define prediction function"
   ]
  },
  {
   "cell_type": "code",
   "execution_count": 36,
   "id": "95f9148b",
   "metadata": {
    "execution": {
     "iopub.execute_input": "2025-08-02T11:33:14.068055Z",
     "iopub.status.busy": "2025-08-02T11:33:14.067800Z",
     "iopub.status.idle": "2025-08-02T11:33:14.073586Z",
     "shell.execute_reply": "2025-08-02T11:33:14.072760Z"
    },
    "papermill": {
     "duration": 0.02134,
     "end_time": "2025-08-02T11:33:14.074819",
     "exception": false,
     "start_time": "2025-08-02T11:33:14.053479",
     "status": "completed"
    },
    "tags": []
   },
   "outputs": [],
   "source": [
    "def predict(sequence: pl.DataFrame, _: pl.DataFrame) -> str:\n",
    "    \"\"\"\n",
    "    Kaggle evaluation API will call this for each sequence.\n",
    "    sequence: polars DataFrame for a single sequence\n",
    "    demographics: unused in this model\n",
    "    Returns: predicted gesture string\n",
    "    \"\"\"\n",
    "    x_tensor = (\n",
    "        torch.unsqueeze(Tensor(preprocess_sequence(sequence)), dim=0)\n",
    "        .float()\n",
    "        .to(device)\n",
    "    )\n",
    "    print(x_tensor.shape)\n",
    "\n",
    "    all_outputs = []\n",
    "    with torch.no_grad():\n",
    "        for model_idx, model in enumerate(model_ensemble): # Only take the first one bc it's the only one that takes in the correct input shape\n",
    "            outputs = model(x_tensor)\n",
    "            all_outputs.append(outputs)\n",
    "\n",
    "    avg_outputs = torch.mean(torch.stack(all_outputs), dim=0)\n",
    "    pred_idx = torch.argmax(avg_outputs, dim=1).item()\n",
    "\n",
    "    return str(gesture_classes[pred_idx])"
   ]
  },
  {
   "cell_type": "markdown",
   "id": "0ac4beee",
   "metadata": {
    "papermill": {
     "duration": 0.015954,
     "end_time": "2025-08-02T11:33:14.106655",
     "exception": false,
     "start_time": "2025-08-02T11:33:14.090701",
     "status": "completed"
    },
    "tags": []
   },
   "source": [
    "### Run inference server"
   ]
  },
  {
   "cell_type": "code",
   "execution_count": 37,
   "id": "a5eebc2a",
   "metadata": {
    "execution": {
     "iopub.execute_input": "2025-08-02T11:33:14.139851Z",
     "iopub.status.busy": "2025-08-02T11:33:14.139570Z",
     "iopub.status.idle": "2025-08-02T11:33:16.046743Z",
     "shell.execute_reply": "2025-08-02T11:33:16.045996Z"
    },
    "papermill": {
     "duration": 1.924797,
     "end_time": "2025-08-02T11:33:16.047890",
     "exception": false,
     "start_time": "2025-08-02T11:33:14.123093",
     "status": "completed"
    },
    "tags": []
   },
   "outputs": [
    {
     "name": "stderr",
     "output_type": "stream",
     "text": [
      "/root/repos/CMI-2025-competition/src/kaggle_evaluation/core/templates.py:136: RuntimeWarning:\n",
      "\n",
      "1489 seconds elapsed before server startup.\n",
      "                This exceeds the startup time limit of 900 seconds that the gateway will enforce\n",
      "                during the rerun on the hidden test set. Start the server before performing any time consuming steps.\n",
      "\n"
     ]
    },
    {
     "name": "stdout",
     "output_type": "stream",
     "text": [
      "torch.Size([1, 696, 127])\n",
      "torch.Size([1, 696, 127])\n"
     ]
    }
   ],
   "source": [
    "inference_server = kaggle_evaluation.cmi_inference_server.CMIInferenceServer(predict)\n",
    "\n",
    "if os.getenv('KAGGLE_IS_COMPETITION_RERUN'):\n",
    "    inference_server.serve()\n",
    "else:\n",
    "    inference_server.run_local_gateway(\n",
    "        data_paths=(\n",
    "            join(competition_dataset_path, 'test.csv'),\n",
    "            join(competition_dataset_path, 'test_demographics.csv'),\n",
    "        )\n",
    "    )\n",
    "    inference_server = kaggle_evaluation.cmi_inference_server.CMIInferenceServer(predict)\n",
    "    # inference_server.run_local_gateway(\n",
    "    #     data_paths=(\n",
    "    #         join(competition_dataset_path, 'train.csv'),\n",
    "    #         join(competition_dataset_path, 'train_demographics.csv'),\n",
    "    #     )\n",
    "    # )"
   ]
  }
 ],
 "metadata": {
  "kaggle": {
   "accelerator": "gpu",
   "dataSources": [
    {
     "databundleVersionId": 12518947,
     "isSourceIdPinned": false,
     "sourceId": 102335,
     "sourceType": "competition"
    },
    {
     "datasetId": 7827890,
     "sourceId": 12633323,
     "sourceType": "datasetVersion"
    },
    {
     "sourceId": 251413288,
     "sourceType": "kernelVersion"
    }
   ],
   "dockerImageVersionId": 31090,
   "isGpuEnabled": true,
   "isInternetEnabled": false,
   "language": "python",
   "sourceType": "notebook"
  },
  "kernelspec": {
   "display_name": "CMI",
   "language": "python",
   "name": "python3"
  },
  "language_info": {
   "codemirror_mode": {
    "name": "ipython",
    "version": 3
   },
   "file_extension": ".py",
   "mimetype": "text/x-python",
   "name": "python",
   "nbconvert_exporter": "python",
   "pygments_lexer": "ipython3",
   "version": "3.11.5"
  },
  "papermill": {
   "default_parameters": {},
   "duration": 520.311851,
   "end_time": "2025-08-02T11:33:18.085561",
   "environment_variables": {},
   "exception": null,
   "input_path": "__notebook__.ipynb",
   "output_path": "__notebook__.ipynb",
   "parameters": {},
   "start_time": "2025-08-02T11:24:37.773710",
   "version": "2.6.0"
  },
  "widgets": {
   "application/vnd.jupyter.widget-state+json": {
    "state": {
     "425cbf555f1849f7a521e356d70d429b": {
      "model_module": "@jupyter-widgets/base",
      "model_module_version": "2.0.0",
      "model_name": "LayoutModel",
      "state": {
       "_model_module": "@jupyter-widgets/base",
       "_model_module_version": "2.0.0",
       "_model_name": "LayoutModel",
       "_view_count": null,
       "_view_module": "@jupyter-widgets/base",
       "_view_module_version": "2.0.0",
       "_view_name": "LayoutView",
       "align_content": null,
       "align_items": null,
       "align_self": null,
       "border_bottom": null,
       "border_left": null,
       "border_right": null,
       "border_top": null,
       "bottom": null,
       "display": null,
       "flex": null,
       "flex_flow": null,
       "grid_area": null,
       "grid_auto_columns": null,
       "grid_auto_flow": null,
       "grid_auto_rows": null,
       "grid_column": null,
       "grid_gap": null,
       "grid_row": null,
       "grid_template_areas": null,
       "grid_template_columns": null,
       "grid_template_rows": null,
       "height": null,
       "justify_content": null,
       "justify_items": null,
       "left": null,
       "margin": null,
       "max_height": null,
       "max_width": null,
       "min_height": null,
       "min_width": null,
       "object_fit": null,
       "object_position": null,
       "order": null,
       "overflow": null,
       "padding": null,
       "right": null,
       "top": null,
       "visibility": null,
       "width": null
      }
     },
     "7f82f6965842469988401e5a9260b41f": {
      "model_module": "@jupyter-widgets/output",
      "model_module_version": "1.0.0",
      "model_name": "OutputModel",
      "state": {
       "_dom_classes": [],
       "_model_module": "@jupyter-widgets/output",
       "_model_module_version": "1.0.0",
       "_model_name": "OutputModel",
       "_view_count": null,
       "_view_module": "@jupyter-widgets/output",
       "_view_module_version": "1.0.0",
       "_view_name": "OutputView",
       "layout": "IPY_MODEL_425cbf555f1849f7a521e356d70d429b",
       "msg_id": "",
       "outputs": [
        {
         "data": {
          "text/html": "<pre style=\"white-space:pre;overflow-x:auto;line-height:normal;font-family:Menlo,'DejaVu Sans Mono',consolas,'Courier New',monospace\">epoch: 14, batch_loss: 1.06,  <span style=\"color: #f92672; text-decoration-color: #f92672\">━━━━━━━━━━━━━━━━━━━━━━━━━━━━━━━━━━━━━━╸</span><span style=\"color: #3a3a3a; text-decoration-color: #3a3a3a\">━</span> <span style=\"color: #800080; text-decoration-color: #800080\"> 97%</span> <span style=\"color: #008080; text-decoration-color: #008080\">0:00:00</span>\n</pre>\n",
          "text/plain": "epoch: 14, batch_loss: 1.06,  \u001b[38;2;249;38;114m━━━━━━━━━━━━━━━━━━━━━━━━━━━━━━━━━━━━━━\u001b[0m\u001b[38;2;249;38;114m╸\u001b[0m\u001b[38;5;237m━\u001b[0m \u001b[35m 97%\u001b[0m \u001b[36m0:00:00\u001b[0m\n"
         },
         "metadata": {},
         "output_type": "display_data"
        }
       ],
       "tabbable": null,
       "tooltip": null
      }
     }
    },
    "version_major": 2,
    "version_minor": 0
   }
  }
 },
 "nbformat": 4,
 "nbformat_minor": 5
}
