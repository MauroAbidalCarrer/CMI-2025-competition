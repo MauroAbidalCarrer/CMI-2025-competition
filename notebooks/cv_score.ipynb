{
 "cells": [
  {
   "cell_type": "markdown",
   "id": "bf6438da",
   "metadata": {},
   "source": [
    "# Training & inference notebook\n",
    "Credit to [Tarun Mishra](https://www.kaggle.com/tarundirector) – this code is heavily based on his [notebook](https://www.kaggle.com/code/tarundirector/sensor-pulse-viz-eda-for-bfrb-detection?scriptVersionId=243465321)."
   ]
  },
  {
   "cell_type": "markdown",
   "id": "e752c660",
   "metadata": {},
   "source": [
    "## Setup"
   ]
  },
  {
   "cell_type": "markdown",
   "id": "473b69f6",
   "metadata": {},
   "source": [
    "### imports"
   ]
  },
  {
   "cell_type": "markdown",
   "id": "e7d4b210",
   "metadata": {},
   "source": [
    "#### Training imports"
   ]
  },
  {
   "cell_type": "code",
   "execution_count": 1,
   "id": "b842c804",
   "metadata": {},
   "outputs": [],
   "source": [
    "import os\n",
    "import gc\n",
    "import json\n",
    "import math\n",
    "from glob import glob\n",
    "from functools import partial\n",
    "from datetime import datetime\n",
    "from collections import Counter\n",
    "from os.path import join, realpath\n",
    "from typing import Optional, Literal\n",
    "from itertools import pairwise, starmap\n",
    "\n",
    "import torch\n",
    "import kagglehub\n",
    "import numpy as np\n",
    "import pandas as pd\n",
    "import plotly.express as px\n",
    "from torch import nn, Tensor\n",
    "from pandas import DataFrame as DF\n",
    "from torch.utils.data import TensorDataset\n",
    "from torch.optim import Optimizer\n",
    "# from timm.scheduler import CosineLRScheduler\n",
    "from torch.utils.data import DataLoader as DL\n",
    "from rich.progress import Progress, Task, track\n",
    "from torch.optim.lr_scheduler import ConstantLR, LRScheduler, _LRScheduler\n",
    "metric_package = kagglehub.package_import('wasupandceacar/cmi-metric', bypass_confirmation=True)"
   ]
  },
  {
   "cell_type": "markdown",
   "id": "6a3ae962",
   "metadata": {},
   "source": [
    "#### inference imports"
   ]
  },
  {
   "cell_type": "code",
   "execution_count": 2,
   "id": "915c9ecf",
   "metadata": {},
   "outputs": [],
   "source": [
    "import os\n",
    "import json\n",
    "import warnings\n",
    "from os.path import join\n",
    "from tqdm.notebook import tqdm\n",
    "from itertools import pairwise, product\n",
    "\n",
    "import torch\n",
    "import numpy as np\n",
    "import pandas as pd\n",
    "import polars as pl\n",
    "from numpy import ndarray\n",
    "from torch import nn, Tensor\n",
    "from numpy.linalg import norm\n",
    "from pandas import DataFrame as DF\n",
    "from scipy.spatial.transform import Rotation\n",
    "# from kagglehub import competition_download, dataset_download, model_download\n",
    "import kagglehub\n",
    "metric_package = kagglehub.package_import('wasupandceacar/cmi-metric', bypass_confirmation=True)\n",
    "\n",
    "import training\n",
    "import kaggle_evaluation.cmi_inference_server"
   ]
  },
  {
   "cell_type": "markdown",
   "id": "5cd3c8bd",
   "metadata": {},
   "source": [
    "#### kaggle notbook Imports"
   ]
  },
  {
   "cell_type": "code",
   "execution_count": 3,
   "id": "ce2e25ed",
   "metadata": {},
   "outputs": [],
   "source": [
    "import random\n",
    "import numpy as np\n",
    "import torch\n",
    "import os\n",
    "\n",
    "def seed_everything(seed=42):\n",
    "    \"\"\"Set all random seeds for reproducibility\"\"\"\n",
    "    random.seed(seed)\n",
    "    np.random.seed(seed)\n",
    "    torch.manual_seed(seed)\n",
    "    torch.cuda.manual_seed(seed)\n",
    "    torch.backends.cudnn.deterministic = True\n",
    "    torch.backends.cudnn.benchmark = False\n",
    "    os.environ['PYTHONHASHSEED'] = str(seed)\n",
    "    os.environ['CUBLAS_WORKSPACE_CONFIG'] = ':4096:8'\n",
    "    torch.use_deterministic_algorithms(True, warn_only=True)\n",
    "\n",
    "SEED = 42\n",
    "seed_everything(seed=SEED)\n",
    "\n",
    "import pandas as pd\n",
    "import polars as pl\n",
    "from sklearn.metrics import f1_score\n",
    "from sklearn.model_selection import train_test_split\n",
    "from sklearn.preprocessing import StandardScaler, LabelEncoder\n",
    "from sklearn.model_selection import GroupKFold\n",
    "from sklearn.utils.class_weight import compute_class_weight\n",
    "import joblib\n",
    "from tqdm import tqdm\n",
    "\n",
    "from torch import nn\n",
    "import torch.nn.functional as F\n",
    "import torch.optim as optim\n",
    "from torch.utils.data import Dataset, DataLoader\n",
    "\n",
    "import kaggle_evaluation.cmi_inference_server\n",
    "from matplotlib import pyplot as plt"
   ]
  },
  {
   "cell_type": "markdown",
   "id": "91e34cce",
   "metadata": {},
   "source": [
    "### Configs"
   ]
  },
  {
   "cell_type": "markdown",
   "id": "57b0b925",
   "metadata": {},
   "source": [
    "#### Training config"
   ]
  },
  {
   "cell_type": "code",
   "execution_count": 4,
   "id": "1296f174",
   "metadata": {},
   "outputs": [],
   "source": [
    "# Dataset\n",
    "DATASET_HANDLE = \"mauroabidalcarrer/prepocessed-cmi-2025/versions/34\"\n",
    "COMPETITION_HANDLE = \"cmi-detect-behavior-with-sensor-data\"\n",
    "TARGET_NAMES = sorted([\n",
    "    \"Above ear - pull hair\",\n",
    "    \"Cheek - pinch skin\",\n",
    "    \"Eyebrow - pull hair\",\n",
    "    \"Eyelash - pull hair\",\n",
    "    \"Feel around in tray and pull out an object\",\n",
    "    \"Forehead - pull hairline\",\n",
    "    \"Forehead - scratch\",\n",
    "    \"Neck - pinch skin\",\n",
    "    \"Neck - scratch\",\n",
    "    \"Text on phone\",\n",
    "    \"Wave hello\",\n",
    "    \"Write name in air\",\n",
    "    \"Write name on leg\",\n",
    "    \"Drink from bottle/cup\",\n",
    "    \"Pinch knee/leg skin\",\n",
    "    \"Pull air toward your face\",\n",
    "    \"Scratch knee/leg skin\",\n",
    "    \"Glasses on/off\"\n",
    "])\n",
    "IMU_FEATS_PREFIXES = (\n",
    "    \"acc\",\n",
    "    \"linear_acc\",\n",
    "    \"rot\",\n",
    "    \"angular\",\n",
    "    \"euler\",\n",
    "    \"quat_rot_mag\",\n",
    "    \"delta_rot_mag\",\n",
    ")\n",
    "# Data augmentation\n",
    "JITTER = 0.25\n",
    "SCALING = 0.2\n",
    "MIXUP = 0.3\n",
    "# Training loop\n",
    "NB_CROSS_VALIDATIONS = 5\n",
    "TRAIN_BATCH_SIZE = 64\n",
    "VALIDATION_BATCH_SIZE = 4 * TRAIN_BATCH_SIZE\n",
    "PATIENCE = 40\n",
    "# Optimizer\n",
    "WEIGHT_DECAY = 3e-3\n",
    "# Scheduler\n",
    "TRAINING_EPOCHS = 125 # Including warmup epochs\n",
    "WARMUP_EPOCHS = 20\n",
    "WARMUP_LR_INIT = 1.822126131809773e-05\n",
    "MIN_LR = 3.810323058740104e-09\n",
    "MAX_LR = 1e-3\n",
    "# Mock training loop\n",
    "MOCK_TRAINING_EPOCHS = 15\n",
    "MOCK_TRAINING_GAMMA = 1.01"
   ]
  },
  {
   "cell_type": "markdown",
   "id": "1393b8af",
   "metadata": {},
   "source": [
    "#### Preprocessing (for inference) config "
   ]
  },
  {
   "cell_type": "code",
   "execution_count": 5,
   "id": "3ad8c78c",
   "metadata": {},
   "outputs": [],
   "source": [
    "QUATERNION_COLS = ['rot_w', 'rot_x', 'rot_y', 'rot_z']\n",
    "GRAVITY_WORLD = np.array([0, 0, 9.81], \"float32\")\n",
    "RAW_ACCELRATION_COLS = [\"acc_x\", \"acc_y\", \"acc_z\"]\n",
    "LINEAR_ACC_COLS = [\"linear_\" + col for col in RAW_ACCELRATION_COLS] # Acceleration without gravity\n",
    "COMPETITION_HANDLE = \"cmi-detect-behavior-with-sensor-data\"\n",
    "CATEGORY_COLUMNS = [\n",
    "    'row_id',\n",
    "    'sequence_type',\n",
    "    'sequence_id',\n",
    "    'subject',\n",
    "    'orientation',\n",
    "    'behavior',\n",
    "    'phase',\n",
    "    'gesture',\n",
    "]\n",
    "META_DATA_COLUMNS = [\n",
    "    'row_id',\n",
    "    'sequence_type',\n",
    "    'sequence_id',\n",
    "    'sequence_counter',\n",
    "    'subject',\n",
    "    'orientation',\n",
    "    'behavior',\n",
    "    'phase',\n",
    "    'gesture',\n",
    "]\n",
    "DATASET_DF_DTYPES = {\n",
    "    \"acc_x\": \"float32\", \"acc_y\": \"float32\", \"acc_z\": \"float32\",\n",
    "    \"thm_1\":\"float32\", \"thm_2\":\"float32\", \"thm_3\":\"float32\", \"thm_4\":\"float32\", \"thm_5\":\"float32\",\n",
    "    \"sequence_counter\": \"int32\",\n",
    "    **{col: \"category\" for col in CATEGORY_COLUMNS},\n",
    "    **{f\"tof_{i_1}_v{i_2}\": \"float32\" for i_1, i_2 in product(range(1, 5), range(64))},\n",
    "}\n",
    "PREPROCESSED_DATASET_HANDLE = \"mauroabidalcarrer/prepocessed-cmi-2025\"\n",
    "# The quantile of the sequences len used to pad/truncate during preprocessing\n",
    "SEQUENCE_NORMED_LEN_QUANTILE = 0.95\n",
    "# SAMPLING_FREQUENCY = 10 #Hz\n",
    "N_FOLDS = 5\n",
    "VALIDATION_FRACTION = 0.2\n",
    "TARGET_NAMES = sorted([\n",
    "    \"Above ear - pull hair\",\n",
    "    \"Cheek - pinch skin\",\n",
    "    \"Eyebrow - pull hair\",\n",
    "    \"Eyelash - pull hair\",\n",
    "    \"Feel around in tray and pull out an object\",\n",
    "    \"Forehead - pull hairline\",\n",
    "    \"Forehead - scratch\",\n",
    "    \"Neck - pinch skin\",\n",
    "    \"Neck - scratch\",\n",
    "    \"Text on phone\",\n",
    "    \"Wave hello\",\n",
    "    \"Write name in air\",\n",
    "    \"Write name on leg\",\n",
    "    \"Drink from bottle/cup\",\n",
    "    \"Pinch knee/leg skin\",\n",
    "    \"Pull air toward your face\",\n",
    "    \"Scratch knee/leg skin\",\n",
    "    \"Glasses on/off\"\n",
    "])\n",
    "EPSILON=1e-8\n",
    "DELTA_ROTATION_ANGULAR_VELOCITY_COLS = [\"angular_vel_x\", \"angular_vel_y\", \"angular_vel_z\"]\n",
    "DELTA_ROTATION_AXES_COLS = [\"rotation_axis_x\", \"rotation_axis_y\", \"rotation_axis_z\"]\n",
    "EULER_ANGLES_COLS = [\"euler_x\", \"euler_y\", \"euler_z\"]\n",
    "TOF_AGG_FUNCS = [\n",
    "    \"mean\",\n",
    "    \"std\",\n",
    "    \"min\",\n",
    "    \"max\",\n",
    "    \"median\",\n",
    "]"
   ]
  },
  {
   "cell_type": "markdown",
   "id": "1c4bfefa",
   "metadata": {},
   "source": [
    "### Define function to get the feature columns\n",
    "Feature columns change over time so it's better to have a function to get them than manually update a variable every time we add/remove features."
   ]
  },
  {
   "cell_type": "code",
   "execution_count": 6,
   "id": "f3d40b15",
   "metadata": {},
   "outputs": [],
   "source": [
    "def get_feature_cols(df:DF) -> list[str]:\n",
    "    return sorted(list(set(df.columns) - set(META_DATA_COLUMNS) - set(TARGET_NAMES)))"
   ]
  },
  {
   "cell_type": "markdown",
   "id": "1eac0e5a",
   "metadata": {},
   "source": [
    "### Supress performance warngings"
   ]
  },
  {
   "cell_type": "code",
   "execution_count": 7,
   "id": "086420e2",
   "metadata": {},
   "outputs": [],
   "source": [
    "warnings.filterwarnings(\n",
    "    \"ignore\",\n",
    "    message=(\n",
    "        \"DataFrame is highly fragmented.  This is usually the result of \"\n",
    "        \"calling `frame.insert` many times.*\"\n",
    "    ),\n",
    "    category=pd.errors.PerformanceWarning,\n",
    ")"
   ]
  },
  {
   "cell_type": "markdown",
   "id": "7749c3bd",
   "metadata": {},
   "source": [
    "### device setup"
   ]
  },
  {
   "cell_type": "code",
   "execution_count": 8,
   "id": "aa7f99a1",
   "metadata": {},
   "outputs": [],
   "source": [
    "device = torch.device(\"cuda\") if torch.cuda.is_available() else torch.device(\"cpu\")"
   ]
  },
  {
   "cell_type": "markdown",
   "id": "6a563074",
   "metadata": {},
   "source": [
    "### Dataset Setup"
   ]
  },
  {
   "cell_type": "markdown",
   "id": "20a7f347",
   "metadata": {},
   "source": [
    "#### Dataset class"
   ]
  },
  {
   "cell_type": "code",
   "execution_count": 9,
   "id": "2bc2e83c",
   "metadata": {},
   "outputs": [],
   "source": [
    "class CMIDataset(TensorDataset):\n",
    "    def __init__(\n",
    "        self,\n",
    "        parent_dir: str,\n",
    "        split: Optional[Literal[\"train\", \"validation\"]]=None,\n",
    "        subset: Optional[int]=None,\n",
    "        force_download=False\n",
    "    ):\n",
    "        dataset_path = kagglehub.dataset_download(DATASET_HANDLE, force_download)\n",
    "        parent_dir = join(dataset_path, \"preprocessed_dataset\", parent_dir)\n",
    "        split = \"\" if split is None else split + \"_\"\n",
    "        x = np.load(join(parent_dir, f\"{split}X.npy\")).swapaxes(1, 2)\n",
    "        y = np.load(join(parent_dir, f\"{split}Y.npy\"))\n",
    "        if subset is not None:\n",
    "            x = x[:subset]\n",
    "            y = y[:subset]\n",
    "        super().__init__(\n",
    "            torch.from_numpy(x).to(device),\n",
    "            torch.from_numpy(y).to(device),\n",
    "        )"
   ]
  },
  {
   "cell_type": "markdown",
   "id": "0da7064d",
   "metadata": {},
   "source": [
    "#### Meta data loading"
   ]
  },
  {
   "cell_type": "code",
   "execution_count": 10,
   "id": "5aae295d",
   "metadata": {},
   "outputs": [
    {
     "name": "stdout",
     "output_type": "stream",
     "text": [
      "['acc_mag', 'acc_mag_diff', 'acc_x', 'acc_x_diff', 'acc_y', 'acc_y_diff', 'acc_z', 'acc_z_diff', 'angular_vel_x', 'angular_vel_x_diff', 'angular_vel_y', 'angular_vel_y_diff', 'angular_vel_z', 'angular_vel_z_diff', 'delta_rot_mag', 'delta_rot_mag_diff', 'euler_x', 'euler_x_diff', 'euler_y', 'euler_y_diff', 'euler_z', 'euler_z_diff', 'linear_acc_mag', 'linear_acc_mag_diff', 'linear_acc_x', 'linear_acc_x_diff', 'linear_acc_y', 'linear_acc_y_diff', 'linear_acc_z', 'linear_acc_z_diff', 'quat_rot_mag', 'quat_rot_mag_diff', 'rot_w', 'rot_w_diff', 'rot_x', 'rot_x_diff', 'rot_y', 'rot_y_diff', 'rot_z', 'rot_z_diff', 'rotation_axis_x', 'rotation_axis_x_diff', 'rotation_axis_y', 'rotation_axis_y_diff', 'rotation_axis_z', 'rotation_axis_z_diff', 'thm_1', 'thm_1_diff', 'thm_2', 'thm_2_diff', 'thm_3', 'thm_3_diff', 'thm_4', 'thm_4_diff', 'thm_5', 'thm_5_diff', 'tof_1_v0', 'tof_1_v0_diff', 'tof_1_v1', 'tof_1_v10', 'tof_1_v10_diff', 'tof_1_v11', 'tof_1_v11_diff', 'tof_1_v12', 'tof_1_v12_diff', 'tof_1_v13', 'tof_1_v13_diff', 'tof_1_v14', 'tof_1_v14_diff', 'tof_1_v15', 'tof_1_v15_diff', 'tof_1_v16', 'tof_1_v16_diff', 'tof_1_v17', 'tof_1_v17_diff', 'tof_1_v18', 'tof_1_v18_diff', 'tof_1_v19', 'tof_1_v19_diff', 'tof_1_v1_diff', 'tof_1_v2', 'tof_1_v20', 'tof_1_v20_diff', 'tof_1_v21', 'tof_1_v21_diff', 'tof_1_v22', 'tof_1_v22_diff', 'tof_1_v23', 'tof_1_v23_diff', 'tof_1_v24', 'tof_1_v24_diff', 'tof_1_v25', 'tof_1_v25_diff', 'tof_1_v26', 'tof_1_v26_diff', 'tof_1_v27', 'tof_1_v27_diff', 'tof_1_v28', 'tof_1_v28_diff', 'tof_1_v29', 'tof_1_v29_diff', 'tof_1_v2_diff', 'tof_1_v3', 'tof_1_v30', 'tof_1_v30_diff', 'tof_1_v31', 'tof_1_v31_diff', 'tof_1_v32', 'tof_1_v32_diff', 'tof_1_v33', 'tof_1_v33_diff', 'tof_1_v34', 'tof_1_v34_diff', 'tof_1_v35', 'tof_1_v35_diff', 'tof_1_v36', 'tof_1_v36_diff', 'tof_1_v37', 'tof_1_v37_diff', 'tof_1_v38', 'tof_1_v38_diff', 'tof_1_v39', 'tof_1_v39_diff', 'tof_1_v3_diff', 'tof_1_v4', 'tof_1_v40', 'tof_1_v40_diff', 'tof_1_v41', 'tof_1_v41_diff', 'tof_1_v42', 'tof_1_v42_diff', 'tof_1_v43', 'tof_1_v43_diff', 'tof_1_v44', 'tof_1_v44_diff', 'tof_1_v45', 'tof_1_v45_diff', 'tof_1_v46', 'tof_1_v46_diff', 'tof_1_v47', 'tof_1_v47_diff', 'tof_1_v48', 'tof_1_v48_diff', 'tof_1_v49', 'tof_1_v49_diff', 'tof_1_v4_diff', 'tof_1_v5', 'tof_1_v50', 'tof_1_v50_diff', 'tof_1_v51', 'tof_1_v51_diff', 'tof_1_v52', 'tof_1_v52_diff', 'tof_1_v53', 'tof_1_v53_diff', 'tof_1_v54', 'tof_1_v54_diff', 'tof_1_v55', 'tof_1_v55_diff', 'tof_1_v56', 'tof_1_v56_diff', 'tof_1_v57', 'tof_1_v57_diff', 'tof_1_v58', 'tof_1_v58_diff', 'tof_1_v59', 'tof_1_v59_diff', 'tof_1_v5_diff', 'tof_1_v6', 'tof_1_v60', 'tof_1_v60_diff', 'tof_1_v61', 'tof_1_v61_diff', 'tof_1_v62', 'tof_1_v62_diff', 'tof_1_v63', 'tof_1_v63_diff', 'tof_1_v6_diff', 'tof_1_v7', 'tof_1_v7_diff', 'tof_1_v8', 'tof_1_v8_diff', 'tof_1_v9', 'tof_1_v9_diff', 'tof_2_v0', 'tof_2_v0_diff', 'tof_2_v1', 'tof_2_v10', 'tof_2_v10_diff', 'tof_2_v11', 'tof_2_v11_diff', 'tof_2_v12', 'tof_2_v12_diff', 'tof_2_v13', 'tof_2_v13_diff', 'tof_2_v14', 'tof_2_v14_diff', 'tof_2_v15', 'tof_2_v15_diff', 'tof_2_v16', 'tof_2_v16_diff', 'tof_2_v17', 'tof_2_v17_diff', 'tof_2_v18', 'tof_2_v18_diff', 'tof_2_v19', 'tof_2_v19_diff', 'tof_2_v1_diff', 'tof_2_v2', 'tof_2_v20', 'tof_2_v20_diff', 'tof_2_v21', 'tof_2_v21_diff', 'tof_2_v22', 'tof_2_v22_diff', 'tof_2_v23', 'tof_2_v23_diff', 'tof_2_v24', 'tof_2_v24_diff', 'tof_2_v25', 'tof_2_v25_diff', 'tof_2_v26', 'tof_2_v26_diff', 'tof_2_v27', 'tof_2_v27_diff', 'tof_2_v28', 'tof_2_v28_diff', 'tof_2_v29', 'tof_2_v29_diff', 'tof_2_v2_diff', 'tof_2_v3', 'tof_2_v30', 'tof_2_v30_diff', 'tof_2_v31', 'tof_2_v31_diff', 'tof_2_v32', 'tof_2_v32_diff', 'tof_2_v33', 'tof_2_v33_diff', 'tof_2_v34', 'tof_2_v34_diff', 'tof_2_v35', 'tof_2_v35_diff', 'tof_2_v36', 'tof_2_v36_diff', 'tof_2_v37', 'tof_2_v37_diff', 'tof_2_v38', 'tof_2_v38_diff', 'tof_2_v39', 'tof_2_v39_diff', 'tof_2_v3_diff', 'tof_2_v4', 'tof_2_v40', 'tof_2_v40_diff', 'tof_2_v41', 'tof_2_v41_diff', 'tof_2_v42', 'tof_2_v42_diff', 'tof_2_v43', 'tof_2_v43_diff', 'tof_2_v44', 'tof_2_v44_diff', 'tof_2_v45', 'tof_2_v45_diff', 'tof_2_v46', 'tof_2_v46_diff', 'tof_2_v47', 'tof_2_v47_diff', 'tof_2_v48', 'tof_2_v48_diff', 'tof_2_v49', 'tof_2_v49_diff', 'tof_2_v4_diff', 'tof_2_v5', 'tof_2_v50', 'tof_2_v50_diff', 'tof_2_v51', 'tof_2_v51_diff', 'tof_2_v52', 'tof_2_v52_diff', 'tof_2_v53', 'tof_2_v53_diff', 'tof_2_v54', 'tof_2_v54_diff', 'tof_2_v55', 'tof_2_v55_diff', 'tof_2_v56', 'tof_2_v56_diff', 'tof_2_v57', 'tof_2_v57_diff', 'tof_2_v58', 'tof_2_v58_diff', 'tof_2_v59', 'tof_2_v59_diff', 'tof_2_v5_diff', 'tof_2_v6', 'tof_2_v60', 'tof_2_v60_diff', 'tof_2_v61', 'tof_2_v61_diff', 'tof_2_v62', 'tof_2_v62_diff', 'tof_2_v63', 'tof_2_v63_diff', 'tof_2_v6_diff', 'tof_2_v7', 'tof_2_v7_diff', 'tof_2_v8', 'tof_2_v8_diff', 'tof_2_v9', 'tof_2_v9_diff', 'tof_3_v0', 'tof_3_v0_diff', 'tof_3_v1', 'tof_3_v10', 'tof_3_v10_diff', 'tof_3_v11', 'tof_3_v11_diff', 'tof_3_v12', 'tof_3_v12_diff', 'tof_3_v13', 'tof_3_v13_diff', 'tof_3_v14', 'tof_3_v14_diff', 'tof_3_v15', 'tof_3_v15_diff', 'tof_3_v16', 'tof_3_v16_diff', 'tof_3_v17', 'tof_3_v17_diff', 'tof_3_v18', 'tof_3_v18_diff', 'tof_3_v19', 'tof_3_v19_diff', 'tof_3_v1_diff', 'tof_3_v2', 'tof_3_v20', 'tof_3_v20_diff', 'tof_3_v21', 'tof_3_v21_diff', 'tof_3_v22', 'tof_3_v22_diff', 'tof_3_v23', 'tof_3_v23_diff', 'tof_3_v24', 'tof_3_v24_diff', 'tof_3_v25', 'tof_3_v25_diff', 'tof_3_v26', 'tof_3_v26_diff', 'tof_3_v27', 'tof_3_v27_diff', 'tof_3_v28', 'tof_3_v28_diff', 'tof_3_v29', 'tof_3_v29_diff', 'tof_3_v2_diff', 'tof_3_v3', 'tof_3_v30', 'tof_3_v30_diff', 'tof_3_v31', 'tof_3_v31_diff', 'tof_3_v32', 'tof_3_v32_diff', 'tof_3_v33', 'tof_3_v33_diff', 'tof_3_v34', 'tof_3_v34_diff', 'tof_3_v35', 'tof_3_v35_diff', 'tof_3_v36', 'tof_3_v36_diff', 'tof_3_v37', 'tof_3_v37_diff', 'tof_3_v38', 'tof_3_v38_diff', 'tof_3_v39', 'tof_3_v39_diff', 'tof_3_v3_diff', 'tof_3_v4', 'tof_3_v40', 'tof_3_v40_diff', 'tof_3_v41', 'tof_3_v41_diff', 'tof_3_v42', 'tof_3_v42_diff', 'tof_3_v43', 'tof_3_v43_diff', 'tof_3_v44', 'tof_3_v44_diff', 'tof_3_v45', 'tof_3_v45_diff', 'tof_3_v46', 'tof_3_v46_diff', 'tof_3_v47', 'tof_3_v47_diff', 'tof_3_v48', 'tof_3_v48_diff', 'tof_3_v49', 'tof_3_v49_diff', 'tof_3_v4_diff', 'tof_3_v5', 'tof_3_v50', 'tof_3_v50_diff', 'tof_3_v51', 'tof_3_v51_diff', 'tof_3_v52', 'tof_3_v52_diff', 'tof_3_v53', 'tof_3_v53_diff', 'tof_3_v54', 'tof_3_v54_diff', 'tof_3_v55', 'tof_3_v55_diff', 'tof_3_v56', 'tof_3_v56_diff', 'tof_3_v57', 'tof_3_v57_diff', 'tof_3_v58', 'tof_3_v58_diff', 'tof_3_v59', 'tof_3_v59_diff', 'tof_3_v5_diff', 'tof_3_v6', 'tof_3_v60', 'tof_3_v60_diff', 'tof_3_v61', 'tof_3_v61_diff', 'tof_3_v62', 'tof_3_v62_diff', 'tof_3_v63', 'tof_3_v63_diff', 'tof_3_v6_diff', 'tof_3_v7', 'tof_3_v7_diff', 'tof_3_v8', 'tof_3_v8_diff', 'tof_3_v9', 'tof_3_v9_diff', 'tof_4_v0', 'tof_4_v0_diff', 'tof_4_v1', 'tof_4_v10', 'tof_4_v10_diff', 'tof_4_v11', 'tof_4_v11_diff', 'tof_4_v12', 'tof_4_v12_diff', 'tof_4_v13', 'tof_4_v13_diff', 'tof_4_v14', 'tof_4_v14_diff', 'tof_4_v15', 'tof_4_v15_diff', 'tof_4_v16', 'tof_4_v16_diff', 'tof_4_v17', 'tof_4_v17_diff', 'tof_4_v18', 'tof_4_v18_diff', 'tof_4_v19', 'tof_4_v19_diff', 'tof_4_v1_diff', 'tof_4_v2', 'tof_4_v20', 'tof_4_v20_diff', 'tof_4_v21', 'tof_4_v21_diff', 'tof_4_v22', 'tof_4_v22_diff', 'tof_4_v23', 'tof_4_v23_diff', 'tof_4_v24', 'tof_4_v24_diff', 'tof_4_v25', 'tof_4_v25_diff', 'tof_4_v26', 'tof_4_v26_diff', 'tof_4_v27', 'tof_4_v27_diff', 'tof_4_v28', 'tof_4_v28_diff', 'tof_4_v29', 'tof_4_v29_diff', 'tof_4_v2_diff', 'tof_4_v3', 'tof_4_v30', 'tof_4_v30_diff', 'tof_4_v31', 'tof_4_v31_diff', 'tof_4_v32', 'tof_4_v32_diff', 'tof_4_v33', 'tof_4_v33_diff', 'tof_4_v34', 'tof_4_v34_diff', 'tof_4_v35', 'tof_4_v35_diff', 'tof_4_v36', 'tof_4_v36_diff', 'tof_4_v37', 'tof_4_v37_diff', 'tof_4_v38', 'tof_4_v38_diff', 'tof_4_v39', 'tof_4_v39_diff', 'tof_4_v3_diff', 'tof_4_v4', 'tof_4_v40', 'tof_4_v40_diff', 'tof_4_v41', 'tof_4_v41_diff', 'tof_4_v42', 'tof_4_v42_diff', 'tof_4_v43', 'tof_4_v43_diff', 'tof_4_v44', 'tof_4_v44_diff', 'tof_4_v45', 'tof_4_v45_diff', 'tof_4_v46', 'tof_4_v46_diff', 'tof_4_v47', 'tof_4_v47_diff', 'tof_4_v48', 'tof_4_v48_diff', 'tof_4_v49', 'tof_4_v49_diff', 'tof_4_v4_diff', 'tof_4_v5', 'tof_4_v50', 'tof_4_v50_diff', 'tof_4_v51', 'tof_4_v51_diff', 'tof_4_v52', 'tof_4_v52_diff', 'tof_4_v53', 'tof_4_v53_diff', 'tof_4_v54', 'tof_4_v54_diff', 'tof_4_v55', 'tof_4_v55_diff', 'tof_4_v56', 'tof_4_v56_diff', 'tof_4_v57', 'tof_4_v57_diff', 'tof_4_v58', 'tof_4_v58_diff', 'tof_4_v59', 'tof_4_v59_diff', 'tof_4_v5_diff', 'tof_4_v6', 'tof_4_v60', 'tof_4_v60_diff', 'tof_4_v61', 'tof_4_v61_diff', 'tof_4_v62', 'tof_4_v62_diff', 'tof_4_v63', 'tof_4_v63_diff', 'tof_4_v6_diff', 'tof_4_v7', 'tof_4_v7_diff', 'tof_4_v8', 'tof_4_v8_diff', 'tof_4_v9', 'tof_4_v9_diff', 'tof_5_v0', 'tof_5_v0_diff', 'tof_5_v1', 'tof_5_v10', 'tof_5_v10_diff', 'tof_5_v11', 'tof_5_v11_diff', 'tof_5_v12', 'tof_5_v12_diff', 'tof_5_v13', 'tof_5_v13_diff', 'tof_5_v14', 'tof_5_v14_diff', 'tof_5_v15', 'tof_5_v15_diff', 'tof_5_v16', 'tof_5_v16_diff', 'tof_5_v17', 'tof_5_v17_diff', 'tof_5_v18', 'tof_5_v18_diff', 'tof_5_v19', 'tof_5_v19_diff', 'tof_5_v1_diff', 'tof_5_v2', 'tof_5_v20', 'tof_5_v20_diff', 'tof_5_v21', 'tof_5_v21_diff', 'tof_5_v22', 'tof_5_v22_diff', 'tof_5_v23', 'tof_5_v23_diff', 'tof_5_v24', 'tof_5_v24_diff', 'tof_5_v25', 'tof_5_v25_diff', 'tof_5_v26', 'tof_5_v26_diff', 'tof_5_v27', 'tof_5_v27_diff', 'tof_5_v28', 'tof_5_v28_diff', 'tof_5_v29', 'tof_5_v29_diff', 'tof_5_v2_diff', 'tof_5_v3', 'tof_5_v30', 'tof_5_v30_diff', 'tof_5_v31', 'tof_5_v31_diff', 'tof_5_v32', 'tof_5_v32_diff', 'tof_5_v33', 'tof_5_v33_diff', 'tof_5_v34', 'tof_5_v34_diff', 'tof_5_v35', 'tof_5_v35_diff', 'tof_5_v36', 'tof_5_v36_diff', 'tof_5_v37', 'tof_5_v37_diff', 'tof_5_v38', 'tof_5_v38_diff', 'tof_5_v39', 'tof_5_v39_diff', 'tof_5_v3_diff', 'tof_5_v4', 'tof_5_v40', 'tof_5_v40_diff', 'tof_5_v41', 'tof_5_v41_diff', 'tof_5_v42', 'tof_5_v42_diff', 'tof_5_v43', 'tof_5_v43_diff', 'tof_5_v44', 'tof_5_v44_diff', 'tof_5_v45', 'tof_5_v45_diff', 'tof_5_v46', 'tof_5_v46_diff', 'tof_5_v47', 'tof_5_v47_diff', 'tof_5_v48', 'tof_5_v48_diff', 'tof_5_v49', 'tof_5_v49_diff', 'tof_5_v4_diff', 'tof_5_v5', 'tof_5_v50', 'tof_5_v50_diff', 'tof_5_v51', 'tof_5_v51_diff', 'tof_5_v52', 'tof_5_v52_diff', 'tof_5_v53', 'tof_5_v53_diff', 'tof_5_v54', 'tof_5_v54_diff', 'tof_5_v55', 'tof_5_v55_diff', 'tof_5_v56', 'tof_5_v56_diff', 'tof_5_v57', 'tof_5_v57_diff', 'tof_5_v58', 'tof_5_v58_diff', 'tof_5_v59', 'tof_5_v59_diff', 'tof_5_v5_diff', 'tof_5_v6', 'tof_5_v60', 'tof_5_v60_diff', 'tof_5_v61', 'tof_5_v61_diff', 'tof_5_v62', 'tof_5_v62_diff', 'tof_5_v63', 'tof_5_v63_diff', 'tof_5_v6_diff', 'tof_5_v7', 'tof_5_v7_diff', 'tof_5_v8', 'tof_5_v8_diff', 'tof_5_v9', 'tof_5_v9_diff']\n",
      "non_imu_feats_idx: [46, 47, 48, 49, 50, 51, 52, 53, 54, 55, 56, 57, 58, 59, 60, 61, 62, 63, 64, 65, 66, 67, 68, 69, 70, 71, 72, 73, 74, 75, 76, 77, 78, 79, 80, 81, 82, 83, 84, 85, 86, 87, 88, 89, 90, 91, 92, 93, 94, 95, 96, 97, 98, 99, 100, 101, 102, 103, 104, 105, 106, 107, 108, 109, 110, 111, 112, 113, 114, 115, 116, 117, 118, 119, 120, 121, 122, 123, 124, 125, 126, 127, 128, 129, 130, 131, 132, 133, 134, 135, 136, 137, 138, 139, 140, 141, 142, 143, 144, 145, 146, 147, 148, 149, 150, 151, 152, 153, 154, 155, 156, 157, 158, 159, 160, 161, 162, 163, 164, 165, 166, 167, 168, 169, 170, 171, 172, 173, 174, 175, 176, 177, 178, 179, 180, 181, 182, 183, 184, 185, 186, 187, 188, 189, 190, 191, 192, 193, 194, 195, 196, 197, 198, 199, 200, 201, 202, 203, 204, 205, 206, 207, 208, 209, 210, 211, 212, 213, 214, 215, 216, 217, 218, 219, 220, 221, 222, 223, 224, 225, 226, 227, 228, 229, 230, 231, 232, 233, 234, 235, 236, 237, 238, 239, 240, 241, 242, 243, 244, 245, 246, 247, 248, 249, 250, 251, 252, 253, 254, 255, 256, 257, 258, 259, 260, 261, 262, 263, 264, 265, 266, 267, 268, 269, 270, 271, 272, 273, 274, 275, 276, 277, 278, 279, 280, 281, 282, 283, 284, 285, 286, 287, 288, 289, 290, 291, 292, 293, 294, 295, 296, 297, 298, 299, 300, 301, 302, 303, 304, 305, 306, 307, 308, 309, 310, 311, 312, 313, 314, 315, 316, 317, 318, 319, 320, 321, 322, 323, 324, 325, 326, 327, 328, 329, 330, 331, 332, 333, 334, 335, 336, 337, 338, 339, 340, 341, 342, 343, 344, 345, 346, 347, 348, 349, 350, 351, 352, 353, 354, 355, 356, 357, 358, 359, 360, 361, 362, 363, 364, 365, 366, 367, 368, 369, 370, 371, 372, 373, 374, 375, 376, 377, 378, 379, 380, 381, 382, 383, 384, 385, 386, 387, 388, 389, 390, 391, 392, 393, 394, 395, 396, 397, 398, 399, 400, 401, 402, 403, 404, 405, 406, 407, 408, 409, 410, 411, 412, 413, 414, 415, 416, 417, 418, 419, 420, 421, 422, 423, 424, 425, 426, 427, 428, 429, 430, 431, 432, 433, 434, 435, 436, 437, 438, 439, 440, 441, 442, 443, 444, 445, 446, 447, 448, 449, 450, 451, 452, 453, 454, 455, 456, 457, 458, 459, 460, 461, 462, 463, 464, 465, 466, 467, 468, 469, 470, 471, 472, 473, 474, 475, 476, 477, 478, 479, 480, 481, 482, 483, 484, 485, 486, 487, 488, 489, 490, 491, 492, 493, 494, 495, 496, 497, 498, 499, 500, 501, 502, 503, 504, 505, 506, 507, 508, 509, 510, 511, 512, 513, 514, 515, 516, 517, 518, 519, 520, 521, 522, 523, 524, 525, 526, 527, 528, 529, 530, 531, 532, 533, 534, 535, 536, 537, 538, 539, 540, 541, 542, 543, 544, 545, 546, 547, 548, 549, 550, 551, 552, 553, 554, 555, 556, 557, 558, 559, 560, 561, 562, 563, 564, 565, 566, 567, 568, 569, 570, 571, 572, 573, 574, 575, 576, 577, 578, 579, 580, 581, 582, 583, 584, 585, 586, 587, 588, 589, 590, 591, 592, 593, 594, 595, 596, 597, 598, 599, 600, 601, 602, 603, 604, 605, 606, 607, 608, 609, 610, 611, 612, 613, 614, 615, 616, 617, 618, 619, 620, 621, 622, 623, 624, 625, 626, 627, 628, 629, 630, 631, 632, 633, 634, 635, 636, 637, 638, 639, 640, 641, 642, 643, 644, 645, 646, 647, 648, 649, 650, 651, 652, 653, 654, 655, 656, 657, 658, 659, 660, 661, 662, 663, 664, 665, 666, 667, 668, 669, 670, 671, 672, 673, 674, 675, 676, 677, 678, 679, 680, 681, 682, 683, 684, 685, 686, 687, 688, 689, 690, 691, 692, 693, 694, 695]\n",
      "imu_feats_idx: [0, 1, 2, 3, 4, 5, 6, 7, 8, 9, 10, 11, 12, 13, 14, 15, 16, 17, 18, 19, 20, 21, 22, 23, 24, 25, 26, 27, 28, 29, 30, 31, 32, 33, 34, 35, 36, 37, 38, 39, 40, 41, 42, 43, 44, 45]\n"
     ]
    }
   ],
   "source": [
    "dataset_path = kagglehub.dataset_download(DATASET_HANDLE)\n",
    "meta_data_path = join(\n",
    "    dataset_path,\n",
    "    \"preprocessed_dataset\",\n",
    "    \"full_dataset_meta_data.json\"\n",
    ")\n",
    "with open(meta_data_path, \"r\") as fp:\n",
    "    meta_data = json.load(fp)\n",
    "# Convert target names into a ndarray to index it batchwise.\n",
    "is_thm_tof_feat = lambda feat: feat.startswith((\"thm\", \"tof\"))\n",
    "non_imu_feats_idx = [feat_idx for feat_idx, feat in enumerate(meta_data[\"feature_cols\"]) if is_thm_tof_feat(feat)]\n",
    "imu_feats_idx = [feat_idx for feat_idx, feat in enumerate(meta_data[\"feature_cols\"]) if not is_thm_tof_feat(feat)]\n",
    "print(meta_data[\"feature_cols\"])\n",
    "print(\"non_imu_feats_idx:\", non_imu_feats_idx)\n",
    "print(\"imu_feats_idx:\", imu_feats_idx)"
   ]
  },
  {
   "cell_type": "markdown",
   "id": "dbc6fe74",
   "metadata": {},
   "source": [
    "#### Compute class weights."
   ]
  },
  {
   "cell_type": "code",
   "execution_count": 11,
   "id": "74233c6c",
   "metadata": {},
   "outputs": [],
   "source": [
    "def compute_weighted_cross_entropy_loss(\n",
    "    dataset: Dataset[tuple[torch.Tensor, torch.Tensor]]\n",
    ") -> nn.CrossEntropyLoss:\n",
    "    \"\"\"\n",
    "    Computes class weights from a dataset with one-hot encoded targets and returns a CrossEntropyLoss with those weights.\n",
    "\n",
    "    Args:\n",
    "        dataset: A PyTorch Dataset that yields (x, y) where y is a one-hot encoded tensor of shape (num_classes,)\n",
    "\n",
    "    Returns:\n",
    "        A torch.nn.CrossEntropyLoss object with class weights based on inverse class frequency.\n",
    "    \"\"\"\n",
    "    class_counts: Counter = Counter()\n",
    "    num_samples = 0\n",
    "\n",
    "    for _, y in dataset:\n",
    "        class_idx = y.argmax().item()\n",
    "        class_counts[class_idx] += 1\n",
    "        num_samples += 1\n",
    "\n",
    "    num_classes = len(class_counts)\n",
    "    weights = torch.tensor(\n",
    "        [num_samples / class_counts[i] for i in range(num_classes)],\n",
    "        dtype=torch.float32,\n",
    "    )\n",
    "\n",
    "    # Optional: normalize weights so they sum to 1\n",
    "    weights = weights / weights.sum()\n",
    "\n",
    "    return nn.CrossEntropyLoss(weight=weights.to(device))\n"
   ]
  },
  {
   "cell_type": "markdown",
   "id": "2161df0c",
   "metadata": {
    "papermill": {
     "duration": 0.00278,
     "end_time": "2025-06-14T10:01:12.877551",
     "exception": false,
     "start_time": "2025-06-14T10:01:12.874771",
     "status": "completed"
    },
    "tags": []
   },
   "source": [
    "### BFRBs indices"
   ]
  },
  {
   "cell_type": "code",
   "execution_count": 12,
   "id": "e657c570",
   "metadata": {
    "execution": {
     "iopub.execute_input": "2025-06-14T10:01:12.884365Z",
     "iopub.status.busy": "2025-06-14T10:01:12.883937Z",
     "iopub.status.idle": "2025-06-14T10:01:45.309186Z",
     "shell.execute_reply": "2025-06-14T10:01:45.308564Z"
    },
    "papermill": {
     "duration": 32.430139,
     "end_time": "2025-06-14T10:01:45.310511",
     "exception": false,
     "start_time": "2025-06-14T10:01:12.880372",
     "status": "completed"
    },
    "tags": []
   },
   "outputs": [
    {
     "name": "stdout",
     "output_type": "stream",
     "text": [
      "Loading datasets...\n",
      "Train rows: 574945, Test rows: 107\n"
     ]
    }
   ],
   "source": [
    "print(\"Loading datasets...\")\n",
    "competition_dataset_path = kagglehub.competition_download(COMPETITION_HANDLE)\n",
    "train_df = pd.read_csv(join(competition_dataset_path, \"train.csv\"))\n",
    "train_dem_df = pd.read_csv(join(competition_dataset_path, \"train_demographics.csv\"))\n",
    "test_df = pd.read_csv(join(competition_dataset_path, \"test.csv\"))\n",
    "test_dem_df = pd.read_csv(join(competition_dataset_path, \"test_demographics.csv\"))\n",
    "print(f\"Train rows: {len(train_df)}, Test rows: {len(test_df)}\")\n",
    "\n",
    "# Encode labels\n",
    "label_encoder = LabelEncoder()\n",
    "train_df['gesture'] = label_encoder.fit_transform(train_df['gesture'].astype(str))\n",
    "gesture_classes = label_encoder.classes_\n",
    "\n",
    "bfrb_gestures = [\n",
    "    'Above ear - pull hair',\n",
    "    'Forehead - pull hairline',\n",
    "    'Forehead - scratch',\n",
    "    'Eyebrow - pull hair',\n",
    "    'Eyelash - pull hair',\n",
    "    'Neck - pinch skin',\n",
    "    'Neck - scratch',\n",
    "    'Cheek - pinch skin'\n",
    "]\n",
    "bfrb_indices = label_encoder.transform(bfrb_gestures)"
   ]
  },
  {
   "cell_type": "markdown",
   "id": "0de16cc1",
   "metadata": {},
   "source": [
    "### Scheduler"
   ]
  },
  {
   "cell_type": "code",
   "execution_count": 13,
   "id": "d3d46b85",
   "metadata": {},
   "outputs": [],
   "source": [
    "class CosineAnnealingWarmupRestarts(_LRScheduler):\n",
    "    def __init__(\n",
    "        self,\n",
    "        optimizer: Optimizer,\n",
    "        warmup_steps: int,\n",
    "        max_lr: float,\n",
    "        min_lr: float,\n",
    "        cycle_length: int,\n",
    "        cycle_mult: float = 1.0,\n",
    "        gamma: float = 1.0,\n",
    "        last_epoch: int = -1,\n",
    "    ) -> None:\n",
    "        \"\"\"\n",
    "        Args:\n",
    "            optimizer: Wrapped optimizer.\n",
    "            warmup_steps: Number of steps for linear warmup.\n",
    "            max_lr: Initial maximum learning rate.\n",
    "            min_lr: Minimum learning rate after decay.\n",
    "            cycle_length: Initial number of steps per cosine cycle.\n",
    "            cycle_mult: Multiplicative factor for increasing cycle lengths.\n",
    "            gamma: Multiplicative decay factor for max_lr after each cycle.\n",
    "            last_epoch: The index of last epoch. Default: -1.\n",
    "        \"\"\"\n",
    "        self.warmup_steps = warmup_steps\n",
    "        self.max_lr = max_lr\n",
    "        self.min_lr = min_lr\n",
    "        self.cycle_length = cycle_length\n",
    "        self.cycle_mult = cycle_mult\n",
    "        self.gamma = gamma\n",
    "\n",
    "        self.current_cycle = 0\n",
    "        self.cycle_step = 0\n",
    "        self.lr = max_lr\n",
    "\n",
    "        super().__init__(optimizer, last_epoch)\n",
    "\n",
    "    def get_lr(self) -> list[float]:\n",
    "        if self.last_epoch < self.warmup_steps:\n",
    "            # Linear warmup\n",
    "            scale = (self.last_epoch + 1) / self.warmup_steps\n",
    "            return [self.min_lr + scale * (self.max_lr - self.min_lr) for _ in self.base_lrs]\n",
    "\n",
    "        # Adjust for post-warmup step index\n",
    "        t = self.cycle_step\n",
    "        T = self.cycle_length\n",
    "\n",
    "        cosine_decay = 0.5 * (1 + math.cos(math.pi * t / T))\n",
    "        lr = self.min_lr + (self.max_lr - self.min_lr) * cosine_decay\n",
    "\n",
    "        return [lr for _ in self.base_lrs]\n",
    "\n",
    "    def step(self, epoch: Optional[int] = None) -> None:\n",
    "        if self.last_epoch >= self.warmup_steps:\n",
    "            self.cycle_step += 1\n",
    "            if self.cycle_step >= self.cycle_length:\n",
    "                self.current_cycle += 1\n",
    "                self.cycle_step = 0\n",
    "                self.cycle_length = int(self.cycle_length * self.cycle_mult)\n",
    "                self.max_lr *= self.gamma\n",
    "        super().step(epoch)\n"
   ]
  },
  {
   "cell_type": "markdown",
   "id": "9c54244a",
   "metadata": {},
   "source": [
    "## Model definition"
   ]
  },
  {
   "cell_type": "code",
   "execution_count": 14,
   "id": "80ae01a8",
   "metadata": {},
   "outputs": [],
   "source": [
    "class MultiScaleConvs(nn.Module):\n",
    "    def __init__(self, in_channels:int, kernel_sizes:list[int]):\n",
    "        super().__init__()\n",
    "        def mk_conv_block(k_size) -> nn.Sequential:\n",
    "            return nn.Sequential(\n",
    "                nn.Conv1d(in_channels, in_channels, k_size, padding=k_size // 2, groups=in_channels),\n",
    "                nn.BatchNorm1d(in_channels),\n",
    "                nn.ReLU(),\n",
    "            )\n",
    "        self.convs = nn.ModuleList(map(mk_conv_block, kernel_sizes))\n",
    "\n",
    "    def forward(self, x:Tensor) -> Tensor:\n",
    "        yes = torch.cat([conv(x) for conv in self.convs] + [x], dim=1)\n",
    "        # print(\"stem output shape:\", yes.shape)\n",
    "        return yes\n",
    "    \n",
    "class SqueezeExcitationBlock(nn.Module):\n",
    "    # Copy/paste of https://www.kaggle.com/code/wasupandceacar/lb-0-82-5fold-single-bert-model#Model implementation\n",
    "    def __init__(self, channels:int, reduction:int=8):\n",
    "        super().__init__()\n",
    "        self.fc1 = nn.Linear(channels, channels // reduction, bias=True)\n",
    "        self.fc2 = nn.Linear(channels // reduction, channels, bias=True)\n",
    "        self.sigmoid = nn.Sigmoid()\n",
    "\n",
    "    def forward(self, x):\n",
    "        # x: (B, C, L)\n",
    "        se = F.adaptive_avg_pool1d(x, 1).squeeze(-1)      # -> (B, C)\n",
    "        se = F.relu(self.fc1(se), inplace=True)          # -> (B, C//r)\n",
    "        se = self.sigmoid(self.fc2(se)).unsqueeze(-1)    # -> (B, C, 1)\n",
    "        return x * se\n",
    "\n",
    "class ResidualBlock(nn.Module):\n",
    "    def __init__(self, in_chns:int, out_chns:int, dropout_ratio:float=0.3, se_reduction:int=8, kernel_size:int=3):\n",
    "        super().__init__()\n",
    "        self.blocks = nn.Sequential(\n",
    "            nn.Conv1d(in_chns, out_chns, kernel_size=kernel_size, padding=kernel_size // 2),\n",
    "            nn.BatchNorm1d(out_chns),\n",
    "            nn.ReLU(),\n",
    "            nn.Conv1d(out_chns, out_chns, kernel_size=kernel_size, padding=kernel_size // 2),\n",
    "            nn.BatchNorm1d(out_chns),\n",
    "            SqueezeExcitationBlock(out_chns, se_reduction),\n",
    "        )\n",
    "        self.head = nn.Sequential(nn.ReLU(), nn.Dropout(dropout_ratio))\n",
    "        if in_chns == out_chns:\n",
    "            self.skip_connection = nn.Identity() \n",
    "        else:\n",
    "            # TODO: set bias to False ?\n",
    "            self.skip_connection = nn.Sequential(\n",
    "                nn.Conv1d(in_chns, out_chns, 1),\n",
    "                nn.BatchNorm1d(out_chns)\n",
    "            )\n",
    "            self.head.insert(1, nn.MaxPool1d(2))\n",
    "\n",
    "    def forward(self, x:Tensor) -> Tensor:\n",
    "        activaition_maps = self.skip_connection(x) + self.blocks(x)\n",
    "        return self.head(activaition_maps)\n",
    "\n",
    "class MBConvBlock(nn.Module):\n",
    "    # From this schema: https://media.licdn.com/dms/image/v2/D5612AQFjbDOm5uyxdw/article-inline_image-shrink_1500_2232/article-inline_image-shrink_1500_2232/0/1683677500817?e=1758153600&v=beta&t=n48_UW5TZTyDPhRFlJXSidUQQPQpuC756M0kNeKmYTY\n",
    "    def __init__(self, in_chns:int, out_chns:int, se_reduction:int=8, expansion_ratio:int=4, dropout_ratio:float=0.3):\n",
    "        super().__init__()\n",
    "        expanded_channels = in_chns * expansion_ratio\n",
    "        self.blocks = nn.Sequential(\n",
    "            nn.Conv1d(in_chns, expanded_channels, kernel_size=1),\n",
    "            nn.BatchNorm1d(expanded_channels),\n",
    "            nn.ReLU(),\n",
    "            nn.Conv1d(\n",
    "                expanded_channels,\n",
    "                expanded_channels,\n",
    "                kernel_size=3,\n",
    "                padding=1,\n",
    "                groups=expanded_channels,\n",
    "            ),\n",
    "            nn.BatchNorm1d(expanded_channels),\n",
    "            nn.ReLU(),\n",
    "            SqueezeExcitationBlock(expanded_channels, se_reduction),\n",
    "            nn.Conv1d(expanded_channels, out_chns, kernel_size=1)\n",
    "        )\n",
    "        self.head = nn.Sequential(\n",
    "            nn.BatchNorm1d(out_chns)\n",
    "            # nn.ReLU(),\n",
    "            # nn.Dropout(dropout_ratio),\n",
    "        )\n",
    "        if in_chns == out_chns:\n",
    "            self.skip_connection = nn.Identity() \n",
    "        else:\n",
    "            # TODO: set bias to False ?\n",
    "            self.skip_connection = nn.Sequential(\n",
    "                nn.Conv1d(in_chns, out_chns, 1),\n",
    "                nn.BatchNorm1d(out_chns)\n",
    "            )\n",
    "            self.head.add_module(\"max_pool\", nn.MaxPool1d(2))\n",
    "            \n",
    "    def forward(self, x:Tensor) -> Tensor:\n",
    "        activaition_maps = self.skip_connection(x) + self.blocks(x)\n",
    "        return self.head(activaition_maps)\n",
    "\n",
    "class AdditiveAttentionLayer(nn.Module):\n",
    "    # Copied (and slightly modified) from https://www.kaggle.com/code/myso1987/cmi3-pyroch-baseline-model-add-aug-folds\n",
    "    def __init__(self, hidden_dim):\n",
    "        super().__init__()\n",
    "        self.attention = nn.Linear(hidden_dim, 1)\n",
    "\n",
    "    def forward(self, x: Tensor) -> Tensor:\n",
    "        # x shape: (batch, channels, seq_len)\n",
    "        x = x.swapaxes(1, 2)\n",
    "        # x shape: (batch, seq_len, hidden_dim)\n",
    "        scores = torch.tanh(self.attention(x))  # (batch, seq_len, 1)\n",
    "        weights = F.softmax(scores.squeeze(-1), dim=1)  # (batch, seq_len)\n",
    "        context = torch.sum(x * weights.unsqueeze(-1), dim=1)  # (batch, hidden_dim)\n",
    "        return context\n",
    "\n",
    "class CMIHARModule(nn.Module):\n",
    "    def __init__(\n",
    "            self,\n",
    "            imu_idx:list[int],\n",
    "            tof_thm_idx:list[int],\n",
    "            mlp_width:int,\n",
    "            n_class:int,            \n",
    "            tof_thm_dropout_ratio:float=0,\n",
    "        ):\n",
    "        super().__init__()\n",
    "        self.imu_idx = imu_idx\n",
    "        self.tof_thm_idx = tof_thm_idx\n",
    "        self.imu_branch = nn.Sequential(\n",
    "            ResidualBlock(len(imu_idx), 64),\n",
    "            ResidualBlock(64, 128),\n",
    "        )\n",
    "        self.tof_and_thm_branch = nn.Sequential(\n",
    "            nn.Conv1d(len(tof_thm_idx), 64, 3, padding=1, bias=False),\n",
    "            nn.BatchNorm1d(64),\n",
    "            nn.MaxPool1d(2),\n",
    "            nn.Dropout(tof_thm_dropout_ratio),\n",
    "            nn.Conv1d(64, 128, 3, padding=1, bias=False),\n",
    "            nn.BatchNorm1d(128),\n",
    "            nn.MaxPool1d(2),\n",
    "            nn.Dropout(tof_thm_dropout_ratio),\n",
    "        )\n",
    "        # print(\"imu expected activation maps size:\", len(imu_idx) * 4)\n",
    "        # print(\"expected tof and thm activation maps size:\", len(tof_thm_idx) * 4)\n",
    "        # print(\"concatenated acitvation maps size:\", (len(imu_idx) + len(tof_thm_idx)) * 4)\n",
    "        self.lstm = nn.GRU(128 * 2, mlp_width // 2, bidirectional=True)\n",
    "        self.attention = AdditiveAttentionLayer(mlp_width)\n",
    "        self.head = nn.Sequential(\n",
    "            # Head\n",
    "            nn.LazyLinear(mlp_width),\n",
    "            nn.ReLU(),\n",
    "            nn.Linear(mlp_width, mlp_width // 2),\n",
    "            nn.ReLU(),\n",
    "            nn.Linear(mlp_width // 2, n_class),\n",
    "        )\n",
    "\n",
    "    def forward(self, x:Tensor) -> Tensor:\n",
    "        imu_activation_maps = self.imu_branch(x[:, self.imu_idx])\n",
    "        tof_thm_activation_maps = self.tof_and_thm_branch(x[:, self.tof_thm_idx])\n",
    "        concatenated_activation_maps = torch.cat((imu_activation_maps, tof_thm_activation_maps), 1)\n",
    "        lstm_output, _  = self.lstm(concatenated_activation_maps.swapaxes(1, 2))\n",
    "        lstm_output = lstm_output.swapaxes(1, 2) # redundant\n",
    "        attended = self.attention(lstm_output)\n",
    "        return self.head(attended)"
   ]
  },
  {
   "cell_type": "code",
   "execution_count": 15,
   "id": "b1c8de6d",
   "metadata": {},
   "outputs": [
    {
     "data": {
      "text/plain": [
       "46"
      ]
     },
     "execution_count": 15,
     "metadata": {},
     "output_type": "execute_result"
    }
   ],
   "source": [
    "len(imu_feats_idx)"
   ]
  },
  {
   "cell_type": "markdown",
   "id": "bfc08e41",
   "metadata": {},
   "source": [
    "### Create model function"
   ]
  },
  {
   "cell_type": "code",
   "execution_count": 16,
   "id": "36e3e463",
   "metadata": {},
   "outputs": [
    {
     "data": {
      "text/plain": [
       "CMIHARModule(\n",
       "  (imu_branch): Sequential(\n",
       "    (0): ResidualBlock(\n",
       "      (blocks): Sequential(\n",
       "        (0): Conv1d(46, 64, kernel_size=(3,), stride=(1,), padding=(1,))\n",
       "        (1): BatchNorm1d(64, eps=1e-05, momentum=0.1, affine=True, track_running_stats=True)\n",
       "        (2): ReLU()\n",
       "        (3): Conv1d(64, 64, kernel_size=(3,), stride=(1,), padding=(1,))\n",
       "        (4): BatchNorm1d(64, eps=1e-05, momentum=0.1, affine=True, track_running_stats=True)\n",
       "        (5): SqueezeExcitationBlock(\n",
       "          (fc1): Linear(in_features=64, out_features=8, bias=True)\n",
       "          (fc2): Linear(in_features=8, out_features=64, bias=True)\n",
       "          (sigmoid): Sigmoid()\n",
       "        )\n",
       "      )\n",
       "      (head): Sequential(\n",
       "        (0): ReLU()\n",
       "        (1): MaxPool1d(kernel_size=2, stride=2, padding=0, dilation=1, ceil_mode=False)\n",
       "        (2): Dropout(p=0.3, inplace=False)\n",
       "      )\n",
       "      (skip_connection): Sequential(\n",
       "        (0): Conv1d(46, 64, kernel_size=(1,), stride=(1,))\n",
       "        (1): BatchNorm1d(64, eps=1e-05, momentum=0.1, affine=True, track_running_stats=True)\n",
       "      )\n",
       "    )\n",
       "    (1): ResidualBlock(\n",
       "      (blocks): Sequential(\n",
       "        (0): Conv1d(64, 128, kernel_size=(3,), stride=(1,), padding=(1,))\n",
       "        (1): BatchNorm1d(128, eps=1e-05, momentum=0.1, affine=True, track_running_stats=True)\n",
       "        (2): ReLU()\n",
       "        (3): Conv1d(128, 128, kernel_size=(3,), stride=(1,), padding=(1,))\n",
       "        (4): BatchNorm1d(128, eps=1e-05, momentum=0.1, affine=True, track_running_stats=True)\n",
       "        (5): SqueezeExcitationBlock(\n",
       "          (fc1): Linear(in_features=128, out_features=16, bias=True)\n",
       "          (fc2): Linear(in_features=16, out_features=128, bias=True)\n",
       "          (sigmoid): Sigmoid()\n",
       "        )\n",
       "      )\n",
       "      (head): Sequential(\n",
       "        (0): ReLU()\n",
       "        (1): MaxPool1d(kernel_size=2, stride=2, padding=0, dilation=1, ceil_mode=False)\n",
       "        (2): Dropout(p=0.3, inplace=False)\n",
       "      )\n",
       "      (skip_connection): Sequential(\n",
       "        (0): Conv1d(64, 128, kernel_size=(1,), stride=(1,))\n",
       "        (1): BatchNorm1d(128, eps=1e-05, momentum=0.1, affine=True, track_running_stats=True)\n",
       "      )\n",
       "    )\n",
       "  )\n",
       "  (tof_and_thm_branch): Sequential(\n",
       "    (0): Conv1d(650, 64, kernel_size=(3,), stride=(1,), padding=(1,), bias=False)\n",
       "    (1): BatchNorm1d(64, eps=1e-05, momentum=0.1, affine=True, track_running_stats=True)\n",
       "    (2): MaxPool1d(kernel_size=2, stride=2, padding=0, dilation=1, ceil_mode=False)\n",
       "    (3): Dropout(p=0, inplace=False)\n",
       "    (4): Conv1d(64, 128, kernel_size=(3,), stride=(1,), padding=(1,), bias=False)\n",
       "    (5): BatchNorm1d(128, eps=1e-05, momentum=0.1, affine=True, track_running_stats=True)\n",
       "    (6): MaxPool1d(kernel_size=2, stride=2, padding=0, dilation=1, ceil_mode=False)\n",
       "    (7): Dropout(p=0, inplace=False)\n",
       "  )\n",
       "  (lstm): GRU(256, 128, bidirectional=True)\n",
       "  (attention): AdditiveAttentionLayer(\n",
       "    (attention): Linear(in_features=256, out_features=1, bias=True)\n",
       "  )\n",
       "  (head): Sequential(\n",
       "    (0): LazyLinear(in_features=0, out_features=256, bias=True)\n",
       "    (1): ReLU()\n",
       "    (2): Linear(in_features=256, out_features=128, bias=True)\n",
       "    (3): ReLU()\n",
       "    (4): Linear(in_features=128, out_features=18, bias=True)\n",
       "  )\n",
       ")"
      ]
     },
     "metadata": {},
     "output_type": "display_data"
    },
    {
     "name": "stdout",
     "output_type": "stream",
     "text": [
      "input channels: 696\n"
     ]
    }
   ],
   "source": [
    "def mk_model() -> nn.Module:\n",
    "    return (\n",
    "        CMIHARModule(\n",
    "            imu_idx=imu_feats_idx,\n",
    "            tof_thm_idx=non_imu_feats_idx,\n",
    "            mlp_width=256,\n",
    "            n_class=18,\n",
    "        )\n",
    "        .to(device)\n",
    "    )\n",
    "\n",
    "display(mk_model())\n",
    "print(\"input channels:\", len(meta_data[\"feature_cols\"]))"
   ]
  },
  {
   "cell_type": "markdown",
   "id": "8afc6e79",
   "metadata": {},
   "source": [
    "## Training loop"
   ]
  },
  {
   "cell_type": "code",
   "execution_count": 17,
   "id": "a69ec966",
   "metadata": {},
   "outputs": [],
   "source": [
    "def fit(epochs:int,\n",
    "        model: nn.Module,\n",
    "        scheduler: LRScheduler,\n",
    "        optimizer: torch.optim.Optimizer,\n",
    "        train_loader: DL,\n",
    "        criterion: callable=nn.L1Loss(),\n",
    "        evaluation_func: callable=None,\n",
    "        validation_loader: DL=None,\n",
    "        save_checkpoints=True,\n",
    "    ) -> tuple[DF, str]:\n",
    "    \"\"\"\n",
    "    Returns:\n",
    "        (training_metrics, path_to_checkpoints)\n",
    "    \"\"\"\n",
    "    # Setup\n",
    "    metrics: list[dict] = []\n",
    "    step = 0\n",
    "    model_device = next(model.parameters()).device\n",
    "    last_epoch_metric = {}\n",
    "    # Training loop\n",
    "    with Progress() as progress:\n",
    "        task: Task = progress.add_task(\n",
    "            \"training...\",\n",
    "            total=len(train_loader),\n",
    "        )\n",
    "        for epoch in range(epochs):\n",
    "            progress.update(\n",
    "                task,\n",
    "                description=f\"epoch: {epoch}\",\n",
    "                completed=0,\n",
    "            )\n",
    "            total_epoch_loss = 0\n",
    "            total_accuracy = 0\n",
    "            for batch_idx, (x, y) in enumerate(train_loader):\n",
    "                # forward\n",
    "                x = x.to(model_device)\n",
    "                y = y.to(model_device)\n",
    "                model.train()\n",
    "                optimizer.zero_grad()\n",
    "                y_pred: Tensor = model(x)\n",
    "                loss_value = criterion(y_pred, y)\n",
    "                # Verify loss value\n",
    "                if torch.isnan(loss_value).any().item():\n",
    "                    progress.print(\"Warning: Got NaN loss, stopped training.\")\n",
    "                    return DF.from_records(metrics)\n",
    "                if torch.isinf(loss_value).any().item():\n",
    "                    progress.print(\"Warning: Got infinite loss, stopped training.\")\n",
    "                    return DF.from_records(metrics)\n",
    "                # TODO: Use gradient clipping?\n",
    "                loss_value.backward()\n",
    "                optimizer.step()\n",
    "                if step > 0: # If it's not the first training step, idk why it throws an error otherwise\n",
    "                    scheduler.step()\n",
    "                # metrics\n",
    "                total_epoch_loss += loss_value.item()\n",
    "                metrics.append({\n",
    "                    \"step\": step,\n",
    "                    \"epoch\": epoch,\n",
    "                    \"batch_train_loss\": loss_value.item(),\n",
    "                    \"lr\": optimizer.state_dict()[\"param_groups\"][-1][\"lr\"],\n",
    "                })\n",
    "                step += 1\n",
    "                if \"validation_accuracy\" in last_epoch_metric:\n",
    "                    last_validation_acc = \"%.2f\" % last_epoch_metric[\"validation_accuracy\"]\n",
    "                    val_acc_str = \"val. acc: \" + last_validation_acc\n",
    "                else:\n",
    "                    val_acc_str = \"\"\n",
    "                progress.update(\n",
    "                    task,\n",
    "                    advance=1,\n",
    "                    description=f\"epoch: {epoch}, batch_loss: {(total_epoch_loss / (batch_idx+1)):.2f}, {val_acc_str}\"\n",
    "                )\n",
    "            # Post epoch evalution\n",
    "            metrics[-1][\"train_epoch_loss\"] = total_epoch_loss / len(train_loader)\n",
    "            metrics[-1][\"train_epoch_accuracy\"] = total_accuracy / len(train_loader)\n",
    "            if evaluation_func:\n",
    "                progress.update(\n",
    "                    task,\n",
    "                    completed=0,\n",
    "                    description=f\"epoch: {epoch}, evaluating...\"\n",
    "                )\n",
    "                eval_metrics = evaluation_func(model, criterion, validation_loader)\n",
    "                metrics[-1].update(eval_metrics)\n",
    "            last_epoch_metric = metrics[-1]\n",
    "\n",
    "    return DF.from_records(metrics)"
   ]
  },
  {
   "cell_type": "markdown",
   "id": "5a490227",
   "metadata": {},
   "source": [
    "### Create model and train model"
   ]
  },
  {
   "cell_type": "code",
   "execution_count": 18,
   "id": "34cd5bba",
   "metadata": {},
   "outputs": [],
   "source": [
    "def mk_model_and_fit(\n",
    "        train_loader:DL,\n",
    "        mk_scheduler:callable,\n",
    "        epochs:int,\n",
    "        validation_loader:Optional[DL]=None,\n",
    "        save_checkpoints=False,\n",
    "        criterion=nn.CrossEntropyLoss()\n",
    "    ) -> tuple[nn.Module, DF, list[str]]:\n",
    "    model = mk_model()\n",
    "    optimizer = torch.optim.AdamW(model.parameters(), WARMUP_LR_INIT)\n",
    "    lr_scheduler = mk_scheduler(optimizer)\n",
    "    training_metrics = fit(\n",
    "        epochs=epochs,\n",
    "        model=model,\n",
    "        scheduler=lr_scheduler,\n",
    "        optimizer=optimizer,\n",
    "        train_loader=train_loader,\n",
    "        criterion=criterion,\n",
    "        # evaluation_func=evaluate_model if validation_loader else None,\n",
    "        validation_loader=validation_loader,\n",
    "        save_checkpoints=save_checkpoints,\n",
    "    )\n",
    "\n",
    "    return model, training_metrics"
   ]
  },
  {
   "cell_type": "markdown",
   "id": "f60b2c5d",
   "metadata": {},
   "source": []
  },
  {
   "cell_type": "markdown",
   "id": "9256152c",
   "metadata": {},
   "source": [
    "## Search max learning rate"
   ]
  },
  {
   "cell_type": "code",
   "execution_count": 19,
   "id": "40b0c8ef",
   "metadata": {},
   "outputs": [],
   "source": [
    "def post_process_mock_training_metrics(training_metrics:DF) -> DF:\n",
    "    training_metrics = (\n",
    "        training_metrics\n",
    "        .query(\"batch_train_loss.notna()\")\n",
    "        .set_index(\"lr\", drop=False)\n",
    "        .sort_index()\n",
    "    )\n",
    "    training_metrics[\"ewm_batch_train_loss\"] = (\n",
    "        training_metrics\n",
    "        .ewm(com=30, ignore_na=False)\n",
    "        [\"batch_train_loss\"]\n",
    "        .mean()\n",
    "    )\n",
    "    training_metrics[\"ewm_batch_train_loss_diff\"] = training_metrics[\"ewm_batch_train_loss\"].diff()\n",
    "    return training_metrics"
   ]
  },
  {
   "cell_type": "code",
   "execution_count": 20,
   "id": "7c231028",
   "metadata": {},
   "outputs": [],
   "source": [
    "def plt_lr_search_training_metrics(training_metrics:DF):\n",
    "    (    \n",
    "        px.line(\n",
    "            (\n",
    "                training_metrics\n",
    "                .reset_index(drop=True)\n",
    "                .melt(\n",
    "                    id_vars=\"lr\",\n",
    "                    value_vars=[\n",
    "                        \"batch_train_loss\",\n",
    "                        \"ewm_batch_train_loss\",\n",
    "                        # \"ewm_batch_train_loss_diff\",\n",
    "                    ],\n",
    "                )\n",
    "            ),\n",
    "            x=\"lr\",\n",
    "            facet_row=\"variable\",\n",
    "            y=\"value\",\n",
    "            log_x=True,\n",
    "            log_y=True,\n",
    "            height=750,\n",
    "        )\n",
    "        .update_yaxes(matches=None)\n",
    "        .show()\n",
    "    )"
   ]
  },
  {
   "cell_type": "code",
   "execution_count": 21,
   "id": "e9ae0c04",
   "metadata": {},
   "outputs": [
    {
     "data": {
      "application/vnd.jupyter.widget-view+json": {
       "model_id": "be47d87df1e947b88930be1838bfd047",
       "version_major": 2,
       "version_minor": 0
      },
      "text/plain": [
       "Output()"
      ]
     },
     "metadata": {},
     "output_type": "display_data"
    },
    {
     "data": {
      "text/html": [
       "<pre style=\"white-space:pre;overflow-x:auto;line-height:normal;font-family:Menlo,'DejaVu Sans Mono',consolas,'Courier New',monospace\">Warning: Got infinite loss, stopped training.\n",
       "</pre>\n"
      ],
      "text/plain": [
       "Warning: Got infinite loss, stopped training.\n"
      ]
     },
     "metadata": {},
     "output_type": "display_data"
    },
    {
     "data": {
      "text/html": [
       "<pre style=\"white-space:pre;overflow-x:auto;line-height:normal;font-family:Menlo,'DejaVu Sans Mono',consolas,'Courier New',monospace\"></pre>\n"
      ],
      "text/plain": []
     },
     "metadata": {},
     "output_type": "display_data"
    },
    {
     "data": {
      "application/vnd.plotly.v1+json": {
       "config": {
        "plotlyServerURL": "https://plot.ly"
       },
       "data": [
        {
         "hovertemplate": "variable=batch_train_loss<br>lr=%{x}<br>value=%{y}<extra></extra>",
         "legendgroup": "",
         "line": {
          "color": "#636efa",
          "dash": "solid"
         },
         "marker": {
          "symbol": "circle"
         },
         "mode": "lines",
         "name": "",
         "showlegend": false,
         "type": "scattergl",
         "x": {
          "bdata": "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",
          "dtype": "f8"
         },
         "xaxis": "x2",
         "y": {
          "bdata": "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",
          "dtype": "f8"
         },
         "yaxis": "y2"
        },
        {
         "hovertemplate": "variable=ewm_batch_train_loss<br>lr=%{x}<br>value=%{y}<extra></extra>",
         "legendgroup": "",
         "line": {
          "color": "#636efa",
          "dash": "solid"
         },
         "marker": {
          "symbol": "circle"
         },
         "mode": "lines",
         "name": "",
         "showlegend": false,
         "type": "scattergl",
         "x": {
          "bdata": "xmcSizsb8z67OkMZJUzzPiifot6LffM+Edm9G3Gv8z5RyVYU1uHzPl8ibA+8FPQ+E7JBVyRI9D6owGg5EHz0PiWFyAaBsPQ+cK+mE3jl9D47CLC39hr1PggnAU7+UPU+dj4vNZCH9T4W/1DPrb71Pv+QB4JY9vU+XqSHtpEu9j42maLZWmf2PpW+z1u1oPY+c6k1saLa9j53o7NRJBX3PuYx67g7UPc+9bRJZuqL9z66HxLdMcj3PgHJZqQTBfg+QVVTR5FC+D7yudZUrID4PoZa7V9mv/g+RT+b/8D++D5NZvbOvT75PgEvMW1ef/k+HeCkfaTA+T7BSNynkQL6Pq98npcnRfo+A6z5/GeI+j6xFk6MVMz6PgocWf7uEPs+j2ZAEDlW+z5iNJ2DNJz7Ppa8hx7j4vs+rLGiq0Yq/D6H4Sb6YHL8PiXz7t0zu/w+YEKDL8EE/T4U2iXMCk/9PuaM3pUSmv0+By2Hc9rl/T4949dQZDL+PoOlcx6yf/4+kc300cXN/j6fz/lloRz/PrMRMtpGbP8+zONqM7i8/z6jTM69+wYAP+Lh+2ADMAA/+0d5DXRZAD9NIivQToMAPwFypriUrQA/RHg32UbYAD8cquhGZgMBPw22iRn0LgE/tpu2a/FaAT+X1d5aX4cBPyqVTAc/tAE/iREslJHhAT/A6JInWA8CPwqUh+qTPQI/H+8ICUZsAj/L0hWyb5sCP/vCtBcSywI/c7D7bi77Aj9gzhfwxSsDP/V7VdbZXAM/UUIoYGuOAz/S5jLPe8ADPxeST2gM8wM/3wuYcx4mBD/9C248s1kEP5eggxHMjQQ/4KnjRGrCBD+Ta/orj/cEP1U0nh88LQU/QRsYfHJjBT/Z0yyhM5oFP4eYJfKA0QU/+SvZ1VsJBj+I8bS2xUEGP+gcxgLAegY/W/nCK0y0Bj+mSBSna+4GPwS63u0fKQc/UXkMfWpkBz+x1lbVTKAHP+sGUHvI3Ac/v/xs994ZCD9vWw/WkVcIP8CCj6filQg/s7RGANPUCD86VZl4ZBQJPylEAa2YVAk/pFEYPnGVCT9WzaLQ79YJP6swmg0WGQo/W+Q3ouVbCj+FIQBAYJ8KP6juzJyH4wo/uTjZcl0oCz+mCMyA420LP4nVw4kbtAs/1fNhVQf7Cz/KIdavqEIMP30x6mkBiww/tNANWRPUDD/zbmJX4B0NP/tBx0NqaA0/CmnlAbOzDT82Lzx6vP8NPyBtLZqITA4/YAoKVBmaDj/2nh6fcOgOPwg1wHeQNw8/UitZ33qHDz+OOHbcMdgPPxXIab3bFBA/UxS15QY+ED/4kT5ym2cQPwet03CakRA/PYP08QS8ED87zNoI3OYQP2XTgMsgEhE/l4OoUtQ9ET/ohOK592kRP6NslR+MlhE/pf8EpZLDET9Sh1luDPERP1A5p6L6HhI/NbL1a15NEj9Zg0f3OHwSPwXUoXSLqxI/JBYUF1fbEj+vzr8UnQsTPwhy4KZePBM/dFTTCZ1tEz/mrh99WZ8TP1S4fkOV0RM/xtPjolEEFD9V04TkjzcUP1NQ4lRRaxQ/zxjQQ5efFD+osn0EY9QUP3H0fu21CRU/U7TUWJE/FT8rjfWj9nUVPxq61i/nrBU/wwj1YGTkFT9z4l2fbxwWP2VsuFYKVRY/Zr9O9jWOFj8TNxfx88cWP+jYvb1FAhc/ZdOt1iw9Fz+CFRu6qngXP6/+C+rAtBc/oSdj7HDxFz8vROlKvC4YP3ceV5OkbBg/kqtfVyurGD8WOrosUuoYP6u6LK0aKhk/7yKWdoZqGT/36vgql6sZP6KlhXBO7Rk/F7Sl8a0vGj+cFAZdt3IaPyNNomVstho/wHHPws76Gj9eR0cw4D8bP/aCM26ihRs/jSU5QRfMGz9J9YNyQBMcP+YT0s8fWxw/0bJ/K7ejHD8/5ZJcCO0cP4CQxz4VNx0/6Hqbst+BHT+TeVqdac0dP1q9Kum0GR4/Pz8ZhcNmHj+uTCZll7QeP9kzUoIyAx8/hxCq2pZSHz+nuVRxxqIfP/3Pn07D8x8/HXcGwMciID9tfS+MFkwgPwrO0xfPdSA/JGeqcfKfID+STh+rgcogP/9/Wth99SA/zOxGEOggIT/jjZlswUwhP6CH2AkLeSE/BWBiB8alIT9hR3WH89IhP51zNq+UACI/X465pqouIj8yNgiZNl0iP+aSKbQ5jCI/VP0pKbW7Ij++uiIsqusiP/jLQfQZHCM/ktDRuwVNIz8t/kHAbn4jPz0sLkJWsCM/XPRmhb3iIz9x5/nQpRUkP9bXOW8QSSQ/tzjHrf58JD/ikpjdcbEkPzsPA1Nr5iQ/EBfDZewbJT9+CgVx9lElPygNbtOKiCU/c+kk76q/JT+BCtspWPclPyuN1eyTLyY/Lmj2pF9oJj/Iq8XCvKEmPwXZerqs2yY/81AGBDEWJz8A3BobS1EnP7hJN3/8jCc/LSmws0bJJz86mrk/KwYoP+43ca6rQyg/VBzojsmBKD/k/Sx0hsAoP9RmVvXj/yg/lAaNreM/KT+vHRY8h4ApP2EEXkTQwSk/GswCbsADKj85/N5kWUYqP0RqFNmciSo/4y0Xf4zNKj/osLgPKhIrP6PbMkh3Vys/1V0z6nWdKz+IFOe7J+QrPw+NBYiOKyw/gqXcHaxzLD8BS1xRgrwsP/9VIvsSBi0/8ISG+F9QLT+hlaYra5stP4d9cns25y0/WMG408MzLj897DIlFYEuP+wmkmUszy4//u6LjwseLz/T7uaitG0vP1X2h6Qpvi8/eoo/T7YHMD+VagrQvzAwP+7M614yWjA/+47UCA+EMD9KC2bdVq4wPwv8+O4K2TA/NG+kUiwEMT96zEQgvC8xPz7tgnK7WzE/qEbbZiuIMT8VJqUdDbUxPxAAGrph4jE//NFcYioQMj+lloE/aD4yP+nNlH0cbTI/phejS0icMj8g4sDb7MsyPxEsEmML/DI/llrSGaUsMz8sI1w7u10zP+yJMQZPjzM/Q/QDvGHBMz9OULyh9PMzPxxRg/8IJzQ/AMDJIKBaND8z41BUu440P/T5MuxbwzQ/X87rPYP4ND88XWGiMi41P+2T7HVrZDU/xCRiGC+bNT/vcRvtftI1PzyP/1pcCjY/6FqMzMhCNj+8rd+vxXs2P6yiwHZUtTY/OPaolnbvNj/Nfc6ILSo3P2G3LMp6ZTc/iHGO21+hNz9EjJdB3t03P8rSzoT3Gjg/f+6nMa1YOD9xc43YAJc4P4QG6w301Tg/n503aogVOT8U2v+Jv1U5P4p98A2bljk/rfngmhzYOT/lGt7ZRRo6P13ONHgYXTo/oQN9J5agOj8RqqSdwOQ6P33K+pSZKTs/J706zCJvOz98fJcGXrU7P8UUxwtN/Ds/IzEOqPFDPD8cxkusTYw8PwPaBO5i1Tw/jWtwRzMfPT/edoOXwGk9P1YZ/cEMtT0/eNRyrxkBPj8y8FxN6U0+P9b8Io59mz4/IHUoadjpPj+JgNna+zg/P03Wt+TpiD8/Z8FnjaTZPz/zol7wlhVAP/Cz5PfDPkA/OMpzaFpoQD97luVPW5JAP4yaxr7HvEA/2hFdyKDnQD+h66+C5xJBP/LWjQadPkE/xmCUb8JqQT9NJDfcWJdBP6ANx21hxEE/C695SN3xQT8dqXCTzR9CP68lwXgzTkI/EGZ7JRB9Qj+GZLLJZKxCP16Jg5gy3EI/s3MeyHoMQz8j1syRPj1DP6Nn+jF/bkM/rOg86D2gQz/rPFz3e9JDP7CZWqU6BUQ/Tsl8O3s4RD+jg1IGP2xEP/7bvlWHoEQ/mMQAfVXVRD/Xp7vSqgpFP5kXALGIQEU/t5JUdfB2RT/7YL6A461FP8qFyjdj5UU/sMmWAnEdRj8R29pMDlZGPziG8YU8j0Y/AAXiIP3IRj9VZmmUUQNHP8ENBFs7Pkc/VUv38rt5Rz8WDFve1LVHPz+jI6OH8kc/j6wry9UvSD/iBz7kwG1IP13uH4BKrEg/YyGbNHTrSD+kM4ibPytJP3rs2FKua0k/4sWi/MGsST9NhSk/fO5JP5jv6cTeMEo/ZJikPOtzSj8dzWhZo7dKP/ebn9II/Eo/IPcWZB1BSz969AzO4oZLPx8qO9VazUs//CfiQocUTD/JDtXkaVxMP7FEhY0EpUw/8EcOFFnuTD+yn0FUaThNP4jrsi43g00/uhHEiMTOTT/JjLFMExtOP2/YnmklaE4/cP6i0/y1Tj+LQ9WDmwRPP9z0WXgDVE8/B1ZvtDakTz99sHpAN/VPPxbCCpWDI1A//WwNQtRMUD8pXFqzjnZQPxXdtPezoFA/amSVIEXLUD91fDBCQ/ZQP2LFfXOvIVE/Wwc/zopNUT/KVgdv1nlRP9tKQnWTplE/fEY7A8PTUT/90yQ+ZgFSP4wTIE5+L1I/tDxEXgxeUj8SM6acEY1SP3YuYDqPvFI/m3aZa4bsUj+sMo5n+BxTP8dMl2jmTVM/tWkyrFF/Uz8B9QlzO7FTP7JB/QCl41M/y78onY8WVD/VRu6R/ElUP591/SztfVQ/cCdcv2KyVD/f/m6dXudUP4oGAh/iHFU/4mdRn+5SVT9IOBJ9hYlVP69cexqowFU/A4RO3Vf4VT+IOOEuljBWP3UIJnxkaVY/+8W1NcSiVj8A39jPttxWP8DMkMI9F1c/mZuhiVpSVz88i5ukDo5XP4LH5JZbylc/JTrD50IHWD+bdWYixkRYP1e58dXmglg/rA+GlabBWD+XhUz4BgFZP7B8gJkJQVk/iRd6GLCBWT+7wLgY/MJZP+bM7UHvBFo/6DcHQItHWj+WfTrD0YpaPzSOD4DEzlo//N5rL2UTWz/5lp2OtVhbP3zYZl+3nls/cycJaGzlWz/37FBz1ixcP0sYoVD3dFw/qN3+09C9XD8Tkx3WZAddP5arajS1UV0/JNEZ0cOcXT95HTGTkuhdPz9ylWYjNV4/1PAWPHiCXj/1kX0Jk9BeP6jdlcl1H18/t8M9fCJvXz8IlXEmm79fPxqPLOlwCGA/0HGqR3wxYD/AvwW58FpgPweRO0rPhGA/KJr5ChmvYD/mDqUNz9lgP7qWYWfyBGE/HVMYMIQwYT/J936ChVxhPyX1Hnz3iGE/CbVcPdu1YT8M6n7pMeNhP4Lxtab8EGI/Z0gjnjw/Yj9eE+H78m1iP/a5Ce8gnWI/bJW/qcfMYj8UszRh6PxiP6Gqsk2ELWM/f4iiqpxeYz9szJS2MpBjP4x8SbNHwmM/J0245dz0Yz9J3RiW8ydkP3UI6w+NW2Q/qU3/oaqPZD/hS3+eTcRkP1FU9lp3+WQ/mhJaMCkvZT8cSxN7ZGVlP7OvBpsqnGU/Dsud83zTZT/YAtDrXAtmP/SwK+7LQ2Y/AVTfaMt8Zj9n18LNXLZmPyjzYJKB8GY/q6MAMDsrZz/Jua4ji2ZnP1ODR+5yomc/UYyAFPTeZz89efIeEBxoP3P6IprIWWg/HdmOFh+YaD/YHbQoFddoP1hRHGmsFmk/R9dmdOZWaT+sY1PrxJdpPxKLzHJJ2Wk/vm3ys3Ubaj8zfiVcS15qP01jER3MoWo/N/a3rPnlaj+EXHzF1SprP7k+LiZicGs/gxsVkqC2az/yt/vQkv1rP/ysO686RWw/jhLJ/ZmNbD+ASD6SstZsP7Xd50aGIG0/r5XQ+hZrbT/xjM2RZrZtP258ivR2Am4/ZRyWEEpPbj/rpm7Y4ZxuP4J6jkNA624/A914Tmc6bz8538b6WIpvP3VhNE8X228/vJzWK1IWcD8GPa0SgT9wP0buV2cZaXA/a6a8NxyTcD/sS3SUir1wP5qe0ZBl6HA/HDLoQq4TcT9KepPDZT9xP5jpfS6Na3E/sSEooiWYcT+CNvA/MMVxP9oDGSyu8nE/z5XRjaAgcj8bpDyPCE9yP6AgeF3nfXI/RdmkKD6tcj9dLe4jDt1yP8fWkYVYDXM/Acfnhh4+cz9bGGpkYW9zP3sTvV0ioXM/b0m3tWLTcz99wmmyIwZ0P+BBKJ1mOXQ/sp6RwixtdD80Mphyd6F0P6pbigBI1nQ/BRobw58LdT+Pu2oUgEF1P9ajD1Lqd3U/CSgf3d+udT8JgjYaYuZ1P2Dag3FyHnY/XGnPThJXdj+Ir4QhQ5B2P8TFu1wGynY/L8VCd10Edz8oR6frST93P6H9PzjNenc/AWQ23+i2dz/YiJBmnvN3P53wOljvMHg/vZESQt1ueD886u61aa14PyMvrEmW7Hg/ApY1l2QseT/KuI881mx5Pz0U49vsrXk/PqGGG6rveT9BiQqmDzJ6Pyb2QiofdXo/u/1SW9q4ej86qbfwQv16PwAZU6ZaQns/xcR3PCOIez+o2PN3ns57P06vHCLOFXw/YWnaCLRdfD/BorP+UaZ8P6lF2dqp73w/Hnwyeb05fT/rv2i6joR9P4QJ9IMf0H0/Fx4nwHEcfj8c/Tteh2l+P7ltYFJit34/Q6zClQQGfz86OJ4mcFV/PwfDSAinpX8/3D8/Q6v2fz99iplyPySAP2W3iwCSTYA/glqXV053gD8sEYyGdaGAP2y/7p4IzIA/x34AtQj3gD/EnsXfdiKBP2W3DDlUToE/tc113aF6gT+linnsYKeBP1qEcIiS1IE/KJqa1jcCgj9hYyb/UTCCPyyxOC3iXoI/lSP0jumNgj8F0oBVab2CP1IHFLVi7YI/ohH45NYdgz9KJpQfx06DP99ZdKI0gIM/saxRriCygz/cKxqHjOSDPy4n+XN5F4Q/DXxfv+hKhD+d9Qu3236EP0/CE6xTs4Q/Iv/q8lHohD+5WG3j1x2FP5LC5tjmU4U/hEQcMoCKhT/N3lRRpcGFP96EYpxX+YU/KC+rfJgxhj8cBDJfaWqGP6GYoLTLo4Y/PEhQ8cDdhj8epVONShiHP14AgARqU4c/nAp31iCPhz9HjbCGcMuHP8U8hJxaCIg/x6Mzo+BFiD/6J/QpBISIP2Ao+cPGwog/lDV+CCoCiT8yZNGSL0KJP625XQLZgok/2rO1+ifEiT9p650jHgaKP5vRFym9SIo/dolsuwaMij/B3DeP/M+KPwtNc12gFIs/A0GB4/NZiz92Tjjj+J+LPyqh7iKx5os/8H6FbR4ujD8r6XSSQnaMPyRc12Ufv4w/bKx1wLYIjT+gAtN/ClONP9r1OIYcno0/HMXDuu7pjT8KsG4JgzaOPz1vIGPbg44/g8y3vfnRjj9bWxgU4CCPPwhSN2aQcI8/foMouQzBjz9JvZWLKwmQP1db3Mc4MpA/N4XHG69bkD86jmCUj4WQP2mFYUHbr5A/qhg8NZPakD+NiSCFuAWRP+OzBElMMZE/Uyarm09dkT8cTaqaw4mRPymvc2aptpE/tj1bIgLkkT+mtp70zhGSP8EZbQYRQJI/DTHug8lukj9sLEqc+Z2SP7VQsYGizZI/ebpjacX9kj+oNLmLYy6TP0MjKSR+X5M/VoJScRaRkz9m+QO1LcOTP5MDRDTF9ZM/kixZN94olD/HYtIJelyUP6Vej/qZkJQ/lx/JWz/FlD+gfhqDa/qUP+7WiMkfMJU/mcSMi11mlT/E+RopJp2VP1gqrQV71JU/mw5LiF0Mlj/VfJMbz0SWPz6axS3RfZY/dyPKMGW3lj/IzDyajPGWP1m6deNILJc/sRCTiZtnlz+pnYINhqOXPx6aC/QJ4Jc/noTYxSgdmD9OFYEP5FqYP0dLlGE9mZg/tpOiUDbYmD/zCkh10BeZP9zXNmwNWJk/s6FB1u6YmT/CIGZYdtqZPwzK15ulHJo/T5YKTn5fmj+d5L0gAqOaP9J4B8oy55o/MJZeBBIsmz9pNqeOoXGbP1tdPSzjt5s/z4kApdj+mz+CQ1/Fg0acP77GYl7mjpw/2s26RQLYnD/feMlV2SGdP65Tr21tbJ0/63pXccC3nT/934NJ1AOeP3is2eOqUJ4/PMXtMkaenj+bbVEuqOyeP90Kn9LSO58/agiHIciLnz/63NwhityfP44Y0m8NF6A/rhMPNj5AoD89Y+tu2GmgP/NCWSjdk6A/gP79ck2+oD+l2jhiKumgPwgQKgx1FKE/39e5iS5AoT+sip/2V2yhPy7RaHHymKE/wOeAG//FoT9P9DcZf/OhPxJvypFzIaI/Q55or91Poj/3JD6fvn6iP1aleZEXrqI/WXZUuendoj9LbRpNNg6jPzC7MYb+PqM/V94ioUNwoz8+qKDdBqKjPwFYkH5J1KM/hskRygwHpD+euYcJUjqkP1AfoIkabqQ/gZpcmmeipD82+BqPOtekP53Mnb6UDKU/JCMVg3dCpT/GRCc65HilP9KU+UTcr6U/ZIQ5CGHnpT/BnCXscx+mP+KgllwWWKY/VcYIyUmRpj/BBaWkD8umP0CDSmZpBac/zQ6YiFhApz8HvfWJ3nunP4WYnuz8t6c/92uqNrX0pz9dpRfyCDKoP4pS1az5b6g/NDfN+IiuqD/g/O1ruO2oP9h8NaCJLak/fiS7M/5tqT84dLrIF6+pPzmZnQXY8Kk/byIIlUAzqj/c0OElU3aqP5eDYWsRuqo/yT8YHX3+qj/nVPz2l0OrP26ddLljias/ctxjKeLPqz9AODQQFResP2rS4jv+Xqw/en0Lf5+nrD+nkPSw+vCsP8fZmq0RO60/4K29VeaFrT+TGOuOetGtP74qjEPQHa4/nGjxYulqrj+8V1/hx7iuPxgtG7htB68/oJt35dxWrz+Vw+FsF6evP/pC7lYf+K8/vjOzWPsksD8PwarHT06wP4IuiwQOeLA/2mkwHjeisD8SxysmzMywP3bvyjDO97A/f+IeVT4jsT+aCAOtHU+xPwxYJFVte7E/IYwIbS6osT/PbhUXYtWxPwk1mHgJA7I/4+3MuSUxsj+/BOYFuF+yP7fWE4vBjrI/bFuMekO+sj914ZIIP+6yP5fef2y1HrM/BNTI4KdPsz/HRgijF4GzP5vMBfQFs7M/Xy2+F3Tlsz9YmWtVYxi0P3r0jffUS7Q/7DbzS8p/tD/+4r+jRLS0P8iQd1NF6bQ/q48Fs80etT/oncUd31S1P4e2jPJ6i7U/y/Wxk6LCtT9plBdnV/q1P7z5M9aaMrY/MeUaTm5rtj8qr4Y/06S2P46h4R7L3rY/SmhPZFcZtz/5mbaLeVS3P/RYyhQzkLc/Cw0Ug4XMtz8iNv1dcgm4P/RX2TD7Rrg/PP/viiGFuD+C4Ib/5sO4P9UQ7CVNA7k/rliAmVVDuT8/ocH5AYS5P3V8VepTxbk/8ccTE00Huj85axEg70m6P2oxq8E7jbo/tb6QrDTRuj/loc+Z2xW7PzyC3kYyW7s/8GmodTqhuz+PLZjs9ee7P5Pwo3ZmL7w/dsdY4413vD+Jd+YGbsC8P+RUK7oICr0/sz7A2l9UvT81ugRLdZ+9P7YsK/JK670/1zRFvOI3vj9zI1CaPoW+P3KUQYJg074/2icUb0oivz9zW9Rg/nG/P1OFrVx+wr8/z3d7NuYJwD/tiqBQ9TLAPxOCMYdtXMA/VuxD50+GwD/SM56AnbDAPySBvmVX28A/g7Dhq34GwT+tWAprFDLBP83jB74ZXsE/j7p9wo+KwT+LgeqYd7fBPz1pr2TS5ME/sZAXTKESwj8Ze1945UDCP32YvBWgb8I/seFkU9Kewj/Kh5Zjfc7CPzq3n3ui/sI/0m7m00Ivwz/PavCnX2DDPzIkazb6kcM/j+QzwRPEwz+G7l+NrfbDPya7ROPIKcQ/YUyADmddxD/TlAFeiZHEPwj1ECQxxsQ/hs5Ytl/7xD/ALO5tFjHFPz2EWadWZ8U/H4ifwiGexT9IFkojedXFP1g6cTBeDcY/ukfEVNJFxj8BC5P+1n7GP8sS159tuMY/bBA9rpfyxj+WUC6jVi3HP0ZM2vuraMc/KFJAOZmkxz+9SDngH+HHP3eJgXlBHsg/FNXCkf9byD9zYZ65W5rIPyUBt4VX2cg//2S7jvQYyT/td3BxNFnJP0nVu84Ymsk/+lmuS6PbyT+j0I6R1R3KPyC55E2xYMo/niuDMjikyj+T15P1a+jKP9oeolFOLcs/Pk2mBeFyyz+87BDVJbnLP8g21oceAMw/2aJ56sxHzD+OkhnOMpDMP7MbewhS2cw/dfAVdCwjzT8QZiDww23NP0mam2Aauc0//bdfrjEFzj8cWyjHC1LOP1cUoZ2qn84/3QxyKRDuzj9vykxnPj3PPyMU+Vg3jc8/LvhhBf3dzz9+eVG8yBfQP/2bCmL7QNA/MI4uf5dq0D8r0rshnpTQP2QZZFoQv9A/IC6TPO/p0D+W7nXeOxXRP+9ZAVn3QNE/UK/5xyJt0T8ln/lJv5nRP9GOeQDOxtE/9+7WD1D00T+OpFufRiLSP+yERdmyUNI/+eTN6pV/0j++OzEE8a7SP4DYtljF3tI/lqy4HhQP0z8xKauP3j/TP0kxJeglcdM/3B/oZ+ui0z+94udRMNXTPyAqU+z1B9Q/G62bgD071D9Rg35bCG/UP/2TDM1Xo9Q/lxqzKC3Y1D9CQUTFiQ3VP0XR//xuQ9U/w/mbLd551T/mLE642LDVP78T1AFg6NU/EJl8cnUg1j88CzF2GlnWP5ZVfnxQktY/UlGe+BjM1j9LLoFhdQbXP+Dz1jFnQdc/JxoZ6O981z+yO5QGEbnXPyLgcRPM9dc/0F/CmCIz2D/F4IYkFnHYP0Jtu0ior9g/HCRhm9ru2D8xg4i2ri7ZPy/MWzgmb9k//IMpw0Kw2T/8DG/9BfLZP3lc45FxNNo/esuBL4d32j9GA5WJSLvaP94Fwle3/9o/ulITVtVE2z8JKARFpIrbP8Hgi+kl0ds/zW8pDVwY3D+Z+O59SGDcP1OFjQ7tqNw/I9tglkvy3D+wbHvxZTzdPzdrsgA+h90/h/apqdXS3T8xbOHWLh/ePzzWv3dLbN4/qHmggC263j8dhd/q1gjfPwvg5rRJWN8/mxo74oeo3z+2foh7k/nfP0UhWEe3JeA/Z+5qlw1P4D+WPTa6zXjgP5BNor74ouA/0eJMto/N4D8BN5C1k/jgPx36idMFJOE/k2UiKudP4T94YRPWOHzhPwu87/b7qOE/r3MqrzHW4T+QEx4k2wPiPx4jFH75MeI/l6hM6I1g4j/CvgWRmY/iPxs+g6kdv+I/m3kWZhvv4j9NDyb+kx/jP+XMNayIUOM/i6jurfqB4z8SziZE67PjP8XA6bJb5uM/D5KAQU0Z5D8fLXo6wUzkP9C3s+u4gOQ/AwlhpjW15D+fNBW/OOrkP3gty43DH+U/SX3ubddV5T8FE2S+dYzlP7Enk+Gfw+U/AjpuPVf75T/9IHw7nTPmP8w14UhzbOY/DpVo1tql5j/Td41Y1d/mP4ukhEdkGuc/HPhFH4lV5z9kB5ZfRZHnP2LZD4yazec/R7ouLIoK6D+pJ1jLFUjoPyPW5fg+hug/mdAvSAfF6D9nsZZQcATpP731ja17ROk/ZWum/iqF6T9FuZjnf8bpP80CUBB8COo/q6b0JCFL6j/6GPfVcI7qPzrZGths0uo/XISB5BYX6z8gA7a4cFzrPxTVtxZ8ous/fXgGxTrp6z9076yOrjDsP31iTUPZeOw/6uAst7zB7D9TPz/DWgvtP3AUM0W1Ve0/pNR9H86g7T+HDGg5p+ztP7y6GX9COe4/Z8mm4aGG7j+UpxtXx9TuP9sCitq0I+8/m6EVbGxz7z8aXgER8MPvP3Eh3umgCvA/VmT34bEz8D8ZG0T7K13wPyER5kIQh/A/LgywyF+x8D8ksCyfG9zwP3Z0pdtEB/E/Y6spltwy8T8um5Xp417xP4ipmfNbi/E/T5nB1EW48T/Y2nuwouXxP/TuIK1zE/I/3dz687lB8j87u0yxdnDyP3dMWhSrn/I/gq5vT1jP8j9VHumXf//yP0fPOiYiMPM/eNb4NUFh8z+JKt8F3pLzP8O32df5xPM/9ogM8ZX38z82BdyZsyr0P7RC9R1UXvQ/5G5WzHiS9D8pTFf3Isf0Pz7FsfRT/PQ/k5aKHQ0y9T/XDXrOT2j1P+bflGcdn/U/VhV1THfW9T/fDUPkXg72P8+avpnVRvY/1jBI29x/9j9TMeoadrn2P2tLYs6i8/Y/IvUqb2Qu9z+0/IR6vGn3P24ygXGspfc/QSsK2TXi9z9UHO45Wh/4P9DP6CAbXfg/LLOtHnqb+D80//HHeNr4PxP6drUYGvk/nVMUhFta+T8hnMLUQpv5PwPWpUzQ3Pk/ZCIYlQUf+j8jibRb5GH6P27cYVJupfo/PLhdL6Xp+j/rnUetii77P0wsLIsgdPs/bHSQjGi6+z9Za315ZAH8Pzl5ix4WSfw/9SXuTH+R/D/H43/aodr8P/r3zaF/JP0/I4Ikghpv/T8poppfdLr9P2K9HiOPBv4/HuOCumxT/j/pUIkYD6H+P9cW8TR47/4/MNyCDKo+/z/KxB2hpo7/P2Z3xPlv3/8/siJVEYQYAEAVOqCWuEEAQEPUIZhWawBAObrkI1+VAEDEA6dK078AQD4B4R+06gBABDfMuQIWAUDEamoxwEEBQODCjKLtbQFABvjaK4yaAUA5mdrunMcBQG9i9g8h9QFA+qWFthkjAkDryNMMiFECQJvSJ0BtgAJAlw/MgMqvAkARyBUCod8CQBEKbfrxDwNAm4dUo75AA0D2iHE5CHIDQErzk/zPowNAzWO+LxfWA0CuXy4Z3wgEQPWYZAIpPARAkUgtOPZvBEDGnagKSKQEQDFDU80f2QRAoPkO134OBUDsSCuCZkQFQBdHbizYegVA4nUdN9WxBUAQtwYHX+kFQJ1XiQR3IQZAFzKfmx5aBkBa6OU7V5MGQOo0qFgizQZAKlTnaIEHB0ClhWTndUIHQLSlqlIBfgdArt8XLSW6B0D1eOf84vYHQAy1O0w8NAhABdMnqTJyCEB9JLqlx7AIQHQ+Btj87whAM0Qv2tMvCUCQTHJKTnAJQM/hMMttsQlAY5z7AjTzCUDV2JycojUKQBWJI0e7eApAfiHutX+8CkDUobWg8QALQH26mMMSRgtARg4n3+SLC0D6kGy4adILQBED/RijGQxAx4r/zpJhDEDjajqtOqoMQHrXHouc8wxA/ujURLo9DUDirUe7lYgNQCRbMdQw1A1ADZwneo0gDkB0AaicrW0OQNSQJDCTuw5Aj3MQLkAKD0CixuyUtlkPQC6LVWj4qQ9AF7gOsQf7D0CRtog+cyYQQOqjzG/LTxBAPO2YeI15EEDPIuJnuqMQQDJ6Uk9TzhBA+r1QQ1n5EEA9TwdbzSQRQP44a7CwUBFAuVVDYAR9EUA4hy+KyakRQOQAsFAB1xFAvaQs2awEEkAwc/xLzTISQPENbdRjYRJAFU7KoHGQEkCV7WXi978SQHBEn8337xJAmhnrmXIgE0Dwh9uBaVETQGH3J8PdghNAfiq1ntC0E0CtYJ1YQ+cTQCqNODg3GhRADqMkiK1NFECb9k2Wp4EUQPSz97MmthRAg2vENSzrFEBEtL5zuSAVQCbkYcnPVhVAwN6ilXCNFUCU+vg6ncQVQBb9Zh9X/BVAsi2ErJ80FkATgIVPeG0WQNbVRnniphZA+VdUnt/gFkA26PM2cRsXQImqLr+YVhdAH6fatleSF0D0hKShr84XQFNdGQeiCxhAf6iwcjBJGEDIQ9ZzXIcYQEKR9J0nxhhAbrF+iJMFGUAL1/rOoUUZQFu1DBFUhhlAFwmA8qvHGUBiPFMbqwkaQPIlwjdTTBpAxONQ+KWPGkCQ0dYRpdMaQFebiT1SGBtAQWwIOa9dG0AjOmfGvaMbQOstOqx/6htAQimhtfYxHECsaVOyJHocQHNJq3YLwxxAqh6y26wMHUCSOCy/ClcdQLL7pAMnoh1A7xx7kAPuHUDx++xRojoeQC4dJTkFiB5A38NGPC7WHkA7rHpWHyUfQEbm+4fadB9AidEk1mHFH0AEHb6lWwsgQGNL4XtuNCBAGrX/d+pdIEBvYken0IcgQFd1lxkisiBAjg2H4d/cIEBVPmwUCwghQP8VY8qkMyFAf7dUHq5fIUAihv4tKIwhQKJj+RkUuSFAygDBBXPmIUDMQLsXRhQiQIavP3mOQiJA4QqfVk1xIkB43yrfg6AiQL44PUUz0CJA1GRAvlwAI0A9zLaCATEjQKTdQs4iYiNA8A2v38GTI0DM7PX438UjQONNSl9++CNA/IYfW54rJEA3wzE4QV8kQJFrjkVokyRA9qSc1RTIJEAN5CU+SP0kQPmWXtgDMyVASOXuAElpJUBLhvsXGaAlQAmuLoF11yVADhHBo18PJkBO/4Lq2EcmQFeW5cPigCZACwsEon66JkAnC636rfQmQMk2bEdyLydAN7KTBc1qJ0Ao0EW2v6YnQMzUft5L4ydAztEeB3MgKECVm/O8Nl4oQAXYwpCYnChA+yZUF5rbKEDPZHvpPBspQBkHI6SCWylA+JNW6GycKUArNE1b/d0pQDZgdKY1ICpA2qh6dxdjKkAum1qApKYqQJLAZXfe6ipA0bpPF8cvK0CvfDkfYHUrQDafvFKruytAAdT2eaoCLEDYdJVhX0osQOQw4drLkixAyNfJu/HbLEDmQvLe0iUtQCtdvCNxcC1An0lVbs67LUAUqcGn7AcuQED/6b3NVC5AkDeno3OiLkAKSs9Q4PAuQIoAQsIVQC9AtNz1+RWQL0DpHgX/4uAvQEp33W4/GTBAFVLQ03VCMECVmsW5FWwwQD9h1C4gljBAxyTHQ5bAMEAvvCIMeeswQIxSLZ7JFjFAp3T1EolCMUCzMFmGuG4xQDpIDRdZmzFAeHSk5mvIMUBQvZYZ8vUxQAzjSNfsIzJAFNsTSl1SMkDUX0yfRIEyQP2TSgeksDJAT7lxtXzgMkAp+zfgzxAzQAhNLsGeQTNAKV0IlepyM0CIm6SbtKQzQGhVFBj+1jNAn+WjUMgJNEDW+eKOFD00QPnsrB/kcDRABjcxUzilNEB08vt8Eto0QHB3/vNzDzVAHQ2YEl5FNUAWsZ420ns1QGv1Z8HRsjVAUPXRF17qNUC6YEyieCI2QCKf4cwiWzZArwlAB16UNkD7PMPEK842QLaCfXyNCDdAYVNBqYRDN0Bf8KrJEn83QJ0WKmA5uzdACsoL8/n3N0AkOoQMVjU4QNi/uDpPczhA9vTJD+exOEB+5d0hH/E4QP1aKgv5MDlATEL/aXZxOUDsK9HgmLI5QD7nQxZi9DlA6jg1tdM2OkCvrMds73k6QOSCbfC2vTpA9rnz9ysCO0AkNI0/UEc7QMj53YcljTtAcJgGlq3TO0AVn68z6ho8QLc3FS/dYjxArN4SW4irPEDwNy+P7fQ8QL0CqKcOPz1Auit+he2JPUAW/oEOjNU9QNRzXy3sIT5AoKWq0Q9vPkB7Wuzv+Lw+QIy3roGpCz9AbBCKhSNbP0BE2DH/aKs/QAe0gfd7/D9AE1dFPi8nQEAGRtBQiVBAQOKisz9NekBACFDwGXykQECs9DzxFs9AQOHsDNoe+kBAaEuX65QlQUBx7d0/elFBQHWgtPPPfUFAYlrIJpeqQUA/hKb70NdBQH1XxJd+BUJAIE6GI6EzQkDypUfKOWJCQPf2YbpJkUJARt00JdLAQkCHti0/1PBCQDxzzz9RIUNAEXy6YUpSQ0Bjq7TiwINDQC5bsQO2tUNAnYfZCCvoQ0BpBpQ5IRtEQEbTjeCZTkRAjHHCS5aCREBTY4TMF7dEQD22hbcf7ERAJKbgZK8hRUDiVSAwyFdFQGyeSXhrjkVAfPTjn5rFRUACZQINV/1FQJSoTCmiNUZAG04IYn1uRkD3/CEo6qdGQNvONvDp4UZAkMGdMn4cR0DwQHFrqFdHQETJmBpqk0dAUqLSw8TPR0BOs73uuQxIQPpv4yZLSkhALd/B+3mISEACu9UASMdIQPWqpM22BklAMJjH/cdGSUBFHPUwfYdJQKIKDAvYyElA+xQeNNoKSkDzinpYhU1KQE01uSjbkEpA4EzFWd3USkCljeikjRlLQBpm1sftXktASEO3hP+kS0C3+TOixOtLQJJLges+M0xAVIxrMHB7TEA2YmJFWsRMQMGlhAP/DU1Au1+sSGBYTUDP5Xr3f6NNQDAWZfdf701AkrK/NAI8TkDC2sugaIlOQDCnwzGV105AvePm4okmT0Aj64e0SHZPQECjGKzTxk9AUs0bahYMUEDbo14eKzVQQNu0ZP2oXlBABkZoFJGIUEAV1lRz5LJQQC8Bziyk3VBA9XY2VtEIUUBjArcHbTRRQLGjRVx4YFFAXryscfSMUUCcTZJo4rlRQERJf2RD51FAhfXmixgVUkB/Yy4IY0NSQPn4swUkclJAYg3Xs1yhUkBRmv9EDtFSQLP/pe45AVNA29ta6eAxU0Cn985wBGNTQO5G28OllFNAZv2IJMbGU0BBuBnYZvlTQKi8DyeJLFRAWEs2XS5gVECKCarJV5RUQGV/4b4GyVRAMKy1kjz+VEB4sGqe+jNVQGWOuD5CalVAdQDU0xShVUDdZnfBc9hVQLvL625gEFZAaP4RR9xIVkASxmu46IFWQOQrJTWHu1ZA+NwdM7n1VkBMpPIrgDBXQPv8Bp3da1dA87yOB9OnV0Bw2JfwYeRXQHE+FOGLIVhAbc7jZVJfWECIZ94Pt51YQIcR3nO73FhAyD/JKmEcWUCALp3RqVxZQHxaeAmXnVlAthOldyrfWUDzKqTFZSFaQL26N6FKZFpA9wtuvNqnWkBTlqzNF+xaQPMcu48DMVtAe+fOwZ92W0DgF5Yn7rxbQDwdQ4nwA1xA7UOYs6hLXEBTY/N3GJRcQHCpWaxB3VxAu4SDKyYnXUB1rOjUx3FdQMhHzIwovV1ABTRJPEoJXkBNal7RLlZeQPeE+z7Yo15ABGUNfUjyXkDy94qIgUFfQEQegmOFkV9ADLMkFVbiX0Br2urU+hlgQB9ImxkzQ2BASEYa5NRsYEBiLYtC4ZZgQJnjxEVZwWBAJ8dYAT7sYEBtqpmLkBdhQOThov1RQ2FAJmRfc4NvYUAx/JALJpxhQBOO1+c6yWFAN264LMP2YUB6y6UBwCRiQDssBpEyU2JAmP47CByCYkAFPK2XfbFiQHYgy3JY4WJARPUZ0K0RY0AK8DjpfkJjQKQl6vrMc2NAipEaRZmlY0C3MeoK5ddjQFU3tJKxCmRAXkwXJgA+ZEBp7v0R0nFkQODepqYopmRAyaitNwXbZEBlPBMcaRBlQNegRq5VRmVADLwtTMx8ZUAhMS5XzrNlQHZVNjRd62VAtzzGS3ojZkAL3PgJJ1xmQKVEjd5klWZA+fXvPDXPZkDLR0ScmQlnQFrsbXeTRGdA4IoaTSSAZ0CqcsufTbxnQANn3/UQ+WdANISc2W82aEDYPTrZa3RoQMh264YGs2hA2bLoeEHyaEC3YnpJHjJpQBpKA5eecmlAmgALBMSzaUBojUg3kPVpQC4erdsEOGpAXdluoCN7akAtzBM57r5qQJ70fF1mA2tAtGfxyY1Ia0BDlCk/Zo5rQIuiWoLx1GtA+PBBXTEcbEBCrjCeJ2RsQEiRFxjWrGxA5a6Soj72bEAVbvUZY0BtQLSaVl9Fi21AIZecWOfWbUAfrYnwSiNuQDZ+yBZycG5A9JP4v16+bkBQELvlEg1vQI5+v4aQXG9A8cTQptmsb0CNN+JO8P1vQEtmjkbrJ3BAPDl2OkdRcEAMxIYPDXtwQMQ7zdQ9pXBAzrkMnNrPcEBOLMV55PpwQEVYOoVcJnFAou162ENScUBzrWeQm35xQGKiusxkq3FAsGsOsKDYcUDYmuVfUAZyQBMksgR1NHJA4OHcyQ9jckDQK83dIZJyQLuA8HGswXJAlETCurDxckAQktPvLyJzQFMg00srU3NAzzyVDKSEc0CU2Rtzm7ZzQDywnsMS6XNArXmTRQscdEDlOrZDhk90QAGnEQyFg3RAwZYH8Ai4dEC0lVlEE+10QEiFMWGlInVA+VUqosBYdUDV1lhmZo91QIqbVBCYxnVAQflABlf+dUB3GtaxpDZ2QBcqaoCCb3ZACJb64vGodkB0aTVO9OJ2QP2+gjqLHXdAI0sOJLhYd0AX/9CKfJR3QA==",
          "dtype": "f8"
         },
         "xaxis": "x",
         "y": {
          "bdata": "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",
          "dtype": "f8"
         },
         "yaxis": "y"
        }
       ],
       "layout": {
        "annotations": [
         {
          "font": {},
          "showarrow": false,
          "text": "variable=ewm_batch_train_loss",
          "textangle": 90,
          "x": 0.98,
          "xanchor": "left",
          "xref": "paper",
          "y": 0.2425,
          "yanchor": "middle",
          "yref": "paper"
         },
         {
          "font": {},
          "showarrow": false,
          "text": "variable=batch_train_loss",
          "textangle": 90,
          "x": 0.98,
          "xanchor": "left",
          "xref": "paper",
          "y": 0.7575000000000001,
          "yanchor": "middle",
          "yref": "paper"
         }
        ],
        "height": 750,
        "legend": {
         "tracegroupgap": 0
        },
        "margin": {
         "t": 60
        },
        "template": {
         "data": {
          "bar": [
           {
            "error_x": {
             "color": "#2a3f5f"
            },
            "error_y": {
             "color": "#2a3f5f"
            },
            "marker": {
             "line": {
              "color": "#E5ECF6",
              "width": 0.5
             },
             "pattern": {
              "fillmode": "overlay",
              "size": 10,
              "solidity": 0.2
             }
            },
            "type": "bar"
           }
          ],
          "barpolar": [
           {
            "marker": {
             "line": {
              "color": "#E5ECF6",
              "width": 0.5
             },
             "pattern": {
              "fillmode": "overlay",
              "size": 10,
              "solidity": 0.2
             }
            },
            "type": "barpolar"
           }
          ],
          "carpet": [
           {
            "aaxis": {
             "endlinecolor": "#2a3f5f",
             "gridcolor": "white",
             "linecolor": "white",
             "minorgridcolor": "white",
             "startlinecolor": "#2a3f5f"
            },
            "baxis": {
             "endlinecolor": "#2a3f5f",
             "gridcolor": "white",
             "linecolor": "white",
             "minorgridcolor": "white",
             "startlinecolor": "#2a3f5f"
            },
            "type": "carpet"
           }
          ],
          "choropleth": [
           {
            "colorbar": {
             "outlinewidth": 0,
             "ticks": ""
            },
            "type": "choropleth"
           }
          ],
          "contour": [
           {
            "colorbar": {
             "outlinewidth": 0,
             "ticks": ""
            },
            "colorscale": [
             [
              0,
              "#0d0887"
             ],
             [
              0.1111111111111111,
              "#46039f"
             ],
             [
              0.2222222222222222,
              "#7201a8"
             ],
             [
              0.3333333333333333,
              "#9c179e"
             ],
             [
              0.4444444444444444,
              "#bd3786"
             ],
             [
              0.5555555555555556,
              "#d8576b"
             ],
             [
              0.6666666666666666,
              "#ed7953"
             ],
             [
              0.7777777777777778,
              "#fb9f3a"
             ],
             [
              0.8888888888888888,
              "#fdca26"
             ],
             [
              1,
              "#f0f921"
             ]
            ],
            "type": "contour"
           }
          ],
          "contourcarpet": [
           {
            "colorbar": {
             "outlinewidth": 0,
             "ticks": ""
            },
            "type": "contourcarpet"
           }
          ],
          "heatmap": [
           {
            "colorbar": {
             "outlinewidth": 0,
             "ticks": ""
            },
            "colorscale": [
             [
              0,
              "#0d0887"
             ],
             [
              0.1111111111111111,
              "#46039f"
             ],
             [
              0.2222222222222222,
              "#7201a8"
             ],
             [
              0.3333333333333333,
              "#9c179e"
             ],
             [
              0.4444444444444444,
              "#bd3786"
             ],
             [
              0.5555555555555556,
              "#d8576b"
             ],
             [
              0.6666666666666666,
              "#ed7953"
             ],
             [
              0.7777777777777778,
              "#fb9f3a"
             ],
             [
              0.8888888888888888,
              "#fdca26"
             ],
             [
              1,
              "#f0f921"
             ]
            ],
            "type": "heatmap"
           }
          ],
          "histogram": [
           {
            "marker": {
             "pattern": {
              "fillmode": "overlay",
              "size": 10,
              "solidity": 0.2
             }
            },
            "type": "histogram"
           }
          ],
          "histogram2d": [
           {
            "colorbar": {
             "outlinewidth": 0,
             "ticks": ""
            },
            "colorscale": [
             [
              0,
              "#0d0887"
             ],
             [
              0.1111111111111111,
              "#46039f"
             ],
             [
              0.2222222222222222,
              "#7201a8"
             ],
             [
              0.3333333333333333,
              "#9c179e"
             ],
             [
              0.4444444444444444,
              "#bd3786"
             ],
             [
              0.5555555555555556,
              "#d8576b"
             ],
             [
              0.6666666666666666,
              "#ed7953"
             ],
             [
              0.7777777777777778,
              "#fb9f3a"
             ],
             [
              0.8888888888888888,
              "#fdca26"
             ],
             [
              1,
              "#f0f921"
             ]
            ],
            "type": "histogram2d"
           }
          ],
          "histogram2dcontour": [
           {
            "colorbar": {
             "outlinewidth": 0,
             "ticks": ""
            },
            "colorscale": [
             [
              0,
              "#0d0887"
             ],
             [
              0.1111111111111111,
              "#46039f"
             ],
             [
              0.2222222222222222,
              "#7201a8"
             ],
             [
              0.3333333333333333,
              "#9c179e"
             ],
             [
              0.4444444444444444,
              "#bd3786"
             ],
             [
              0.5555555555555556,
              "#d8576b"
             ],
             [
              0.6666666666666666,
              "#ed7953"
             ],
             [
              0.7777777777777778,
              "#fb9f3a"
             ],
             [
              0.8888888888888888,
              "#fdca26"
             ],
             [
              1,
              "#f0f921"
             ]
            ],
            "type": "histogram2dcontour"
           }
          ],
          "mesh3d": [
           {
            "colorbar": {
             "outlinewidth": 0,
             "ticks": ""
            },
            "type": "mesh3d"
           }
          ],
          "parcoords": [
           {
            "line": {
             "colorbar": {
              "outlinewidth": 0,
              "ticks": ""
             }
            },
            "type": "parcoords"
           }
          ],
          "pie": [
           {
            "automargin": true,
            "type": "pie"
           }
          ],
          "scatter": [
           {
            "fillpattern": {
             "fillmode": "overlay",
             "size": 10,
             "solidity": 0.2
            },
            "type": "scatter"
           }
          ],
          "scatter3d": [
           {
            "line": {
             "colorbar": {
              "outlinewidth": 0,
              "ticks": ""
             }
            },
            "marker": {
             "colorbar": {
              "outlinewidth": 0,
              "ticks": ""
             }
            },
            "type": "scatter3d"
           }
          ],
          "scattercarpet": [
           {
            "marker": {
             "colorbar": {
              "outlinewidth": 0,
              "ticks": ""
             }
            },
            "type": "scattercarpet"
           }
          ],
          "scattergeo": [
           {
            "marker": {
             "colorbar": {
              "outlinewidth": 0,
              "ticks": ""
             }
            },
            "type": "scattergeo"
           }
          ],
          "scattergl": [
           {
            "marker": {
             "colorbar": {
              "outlinewidth": 0,
              "ticks": ""
             }
            },
            "type": "scattergl"
           }
          ],
          "scattermap": [
           {
            "marker": {
             "colorbar": {
              "outlinewidth": 0,
              "ticks": ""
             }
            },
            "type": "scattermap"
           }
          ],
          "scattermapbox": [
           {
            "marker": {
             "colorbar": {
              "outlinewidth": 0,
              "ticks": ""
             }
            },
            "type": "scattermapbox"
           }
          ],
          "scatterpolar": [
           {
            "marker": {
             "colorbar": {
              "outlinewidth": 0,
              "ticks": ""
             }
            },
            "type": "scatterpolar"
           }
          ],
          "scatterpolargl": [
           {
            "marker": {
             "colorbar": {
              "outlinewidth": 0,
              "ticks": ""
             }
            },
            "type": "scatterpolargl"
           }
          ],
          "scatterternary": [
           {
            "marker": {
             "colorbar": {
              "outlinewidth": 0,
              "ticks": ""
             }
            },
            "type": "scatterternary"
           }
          ],
          "surface": [
           {
            "colorbar": {
             "outlinewidth": 0,
             "ticks": ""
            },
            "colorscale": [
             [
              0,
              "#0d0887"
             ],
             [
              0.1111111111111111,
              "#46039f"
             ],
             [
              0.2222222222222222,
              "#7201a8"
             ],
             [
              0.3333333333333333,
              "#9c179e"
             ],
             [
              0.4444444444444444,
              "#bd3786"
             ],
             [
              0.5555555555555556,
              "#d8576b"
             ],
             [
              0.6666666666666666,
              "#ed7953"
             ],
             [
              0.7777777777777778,
              "#fb9f3a"
             ],
             [
              0.8888888888888888,
              "#fdca26"
             ],
             [
              1,
              "#f0f921"
             ]
            ],
            "type": "surface"
           }
          ],
          "table": [
           {
            "cells": {
             "fill": {
              "color": "#EBF0F8"
             },
             "line": {
              "color": "white"
             }
            },
            "header": {
             "fill": {
              "color": "#C8D4E3"
             },
             "line": {
              "color": "white"
             }
            },
            "type": "table"
           }
          ]
         },
         "layout": {
          "annotationdefaults": {
           "arrowcolor": "#2a3f5f",
           "arrowhead": 0,
           "arrowwidth": 1
          },
          "autotypenumbers": "strict",
          "coloraxis": {
           "colorbar": {
            "outlinewidth": 0,
            "ticks": ""
           }
          },
          "colorscale": {
           "diverging": [
            [
             0,
             "#8e0152"
            ],
            [
             0.1,
             "#c51b7d"
            ],
            [
             0.2,
             "#de77ae"
            ],
            [
             0.3,
             "#f1b6da"
            ],
            [
             0.4,
             "#fde0ef"
            ],
            [
             0.5,
             "#f7f7f7"
            ],
            [
             0.6,
             "#e6f5d0"
            ],
            [
             0.7,
             "#b8e186"
            ],
            [
             0.8,
             "#7fbc41"
            ],
            [
             0.9,
             "#4d9221"
            ],
            [
             1,
             "#276419"
            ]
           ],
           "sequential": [
            [
             0,
             "#0d0887"
            ],
            [
             0.1111111111111111,
             "#46039f"
            ],
            [
             0.2222222222222222,
             "#7201a8"
            ],
            [
             0.3333333333333333,
             "#9c179e"
            ],
            [
             0.4444444444444444,
             "#bd3786"
            ],
            [
             0.5555555555555556,
             "#d8576b"
            ],
            [
             0.6666666666666666,
             "#ed7953"
            ],
            [
             0.7777777777777778,
             "#fb9f3a"
            ],
            [
             0.8888888888888888,
             "#fdca26"
            ],
            [
             1,
             "#f0f921"
            ]
           ],
           "sequentialminus": [
            [
             0,
             "#0d0887"
            ],
            [
             0.1111111111111111,
             "#46039f"
            ],
            [
             0.2222222222222222,
             "#7201a8"
            ],
            [
             0.3333333333333333,
             "#9c179e"
            ],
            [
             0.4444444444444444,
             "#bd3786"
            ],
            [
             0.5555555555555556,
             "#d8576b"
            ],
            [
             0.6666666666666666,
             "#ed7953"
            ],
            [
             0.7777777777777778,
             "#fb9f3a"
            ],
            [
             0.8888888888888888,
             "#fdca26"
            ],
            [
             1,
             "#f0f921"
            ]
           ]
          },
          "colorway": [
           "#636efa",
           "#EF553B",
           "#00cc96",
           "#ab63fa",
           "#FFA15A",
           "#19d3f3",
           "#FF6692",
           "#B6E880",
           "#FF97FF",
           "#FECB52"
          ],
          "font": {
           "color": "#2a3f5f"
          },
          "geo": {
           "bgcolor": "white",
           "lakecolor": "white",
           "landcolor": "#E5ECF6",
           "showlakes": true,
           "showland": true,
           "subunitcolor": "white"
          },
          "hoverlabel": {
           "align": "left"
          },
          "hovermode": "closest",
          "mapbox": {
           "style": "light"
          },
          "paper_bgcolor": "white",
          "plot_bgcolor": "#E5ECF6",
          "polar": {
           "angularaxis": {
            "gridcolor": "white",
            "linecolor": "white",
            "ticks": ""
           },
           "bgcolor": "#E5ECF6",
           "radialaxis": {
            "gridcolor": "white",
            "linecolor": "white",
            "ticks": ""
           }
          },
          "scene": {
           "xaxis": {
            "backgroundcolor": "#E5ECF6",
            "gridcolor": "white",
            "gridwidth": 2,
            "linecolor": "white",
            "showbackground": true,
            "ticks": "",
            "zerolinecolor": "white"
           },
           "yaxis": {
            "backgroundcolor": "#E5ECF6",
            "gridcolor": "white",
            "gridwidth": 2,
            "linecolor": "white",
            "showbackground": true,
            "ticks": "",
            "zerolinecolor": "white"
           },
           "zaxis": {
            "backgroundcolor": "#E5ECF6",
            "gridcolor": "white",
            "gridwidth": 2,
            "linecolor": "white",
            "showbackground": true,
            "ticks": "",
            "zerolinecolor": "white"
           }
          },
          "shapedefaults": {
           "line": {
            "color": "#2a3f5f"
           }
          },
          "ternary": {
           "aaxis": {
            "gridcolor": "white",
            "linecolor": "white",
            "ticks": ""
           },
           "baxis": {
            "gridcolor": "white",
            "linecolor": "white",
            "ticks": ""
           },
           "bgcolor": "#E5ECF6",
           "caxis": {
            "gridcolor": "white",
            "linecolor": "white",
            "ticks": ""
           }
          },
          "title": {
           "x": 0.05
          },
          "xaxis": {
           "automargin": true,
           "gridcolor": "white",
           "linecolor": "white",
           "ticks": "",
           "title": {
            "standoff": 15
           },
           "zerolinecolor": "white",
           "zerolinewidth": 2
          },
          "yaxis": {
           "automargin": true,
           "gridcolor": "white",
           "linecolor": "white",
           "ticks": "",
           "title": {
            "standoff": 15
           },
           "zerolinecolor": "white",
           "zerolinewidth": 2
          }
         }
        },
        "xaxis": {
         "anchor": "y",
         "domain": [
          0,
          0.98
         ],
         "title": {
          "text": "lr"
         },
         "type": "log"
        },
        "xaxis2": {
         "anchor": "y2",
         "domain": [
          0,
          0.98
         ],
         "matches": "x",
         "showticklabels": false,
         "type": "log"
        },
        "yaxis": {
         "anchor": "x",
         "domain": [
          0,
          0.485
         ],
         "title": {
          "text": "value"
         },
         "type": "log"
        },
        "yaxis2": {
         "anchor": "x2",
         "domain": [
          0.515,
          1
         ],
         "title": {
          "text": "value"
         },
         "type": "log"
        }
       }
      }
     },
     "metadata": {},
     "output_type": "display_data"
    },
    {
     "name": "stdout",
     "output_type": "stream",
     "text": [
      "Maximum learning rate: 0.0043384442096915405\n"
     ]
    }
   ],
   "source": [
    "train_dataset = CMIDataset(\"full_dataset\")\n",
    "full_dataset_loader = DL(train_dataset, TRAIN_BATCH_SIZE, shuffle=True)\n",
    "_, mock_training_metrics = mk_model_and_fit(\n",
    "    full_dataset_loader,\n",
    "    partial(torch.optim.lr_scheduler.ExponentialLR, gamma=MOCK_TRAINING_GAMMA),\n",
    "    MOCK_TRAINING_EPOCHS,\n",
    "    criterion= nn.CrossEntropyLoss(label_smoothing=0.1),\n",
    ")\n",
    "mock_training_metrics = post_process_mock_training_metrics(mock_training_metrics)\n",
    "plt_lr_search_training_metrics(mock_training_metrics)\n",
    "max_lr = mock_training_metrics[\"ewm_batch_train_loss\"].idxmin()\n",
    "print(\"Maximum learning rate:\", max_lr)"
   ]
  },
  {
   "cell_type": "markdown",
   "id": "e1cc3c5f",
   "metadata": {
    "papermill": {
     "duration": 0.003108,
     "end_time": "2025-06-14T10:01:56.186803",
     "exception": false,
     "start_time": "2025-06-14T10:01:56.183695",
     "status": "completed"
    },
    "tags": []
   },
   "source": [
    "## Training loop"
   ]
  },
  {
   "cell_type": "code",
   "execution_count": 22,
   "id": "81f397f4",
   "metadata": {},
   "outputs": [],
   "source": [
    "def mixup_data(x, y, alpha=0.2):\n",
    "    \"\"\"\n",
    "    Return mixed inputs and mixed targets (one-hot) for mixup.\n",
    "    x: Tensor of shape (batch_size, features, seq_len)\n",
    "    y: Tensor of shape (batch_size, num_classes)\n",
    "    \"\"\"\n",
    "    if alpha > 0:\n",
    "        lam = np.random.beta(alpha, alpha)\n",
    "    else:\n",
    "        lam = 1.0\n",
    "    batch_size = x.size(0)\n",
    "    index = torch.randperm(batch_size).to(x.device)\n",
    "\n",
    "    mixed_x = lam * x + (1 - lam) * x[index, :]\n",
    "    mixed_y = lam * y + (1 - lam) * y[index, :]\n",
    "    return mixed_x, mixed_y"
   ]
  },
  {
   "cell_type": "code",
   "execution_count": 24,
   "id": "2be28a9c",
   "metadata": {
    "execution": {
     "iopub.execute_input": "2025-06-14T10:01:56.194003Z",
     "iopub.status.busy": "2025-06-14T10:01:56.193740Z",
     "iopub.status.idle": "2025-06-14T10:09:14.752385Z",
     "shell.execute_reply": "2025-06-14T10:09:14.751491Z"
    },
    "papermill": {
     "duration": 438.563878,
     "end_time": "2025-06-14T10:09:14.753712",
     "exception": false,
     "start_time": "2025-06-14T10:01:56.189834",
     "status": "completed"
    },
    "tags": []
   },
   "outputs": [
    {
     "name": "stdout",
     "output_type": "stream",
     "text": [
      "training: 1\n",
      "\n",
      "==================================================\n",
      "Fold 1/5\n",
      "Epoch 01: Train Loss = 2.8880, Val Loss = 2.8638\n",
      "  Binary F1 = 0.7625, Macro F1 = 0.0727, Final Metric = 0.4176\n",
      "  New best metric! Saving model...\n",
      "Epoch 02: Train Loss = 2.7618, Val Loss = 2.5941\n",
      "  Binary F1 = 0.8405, Macro F1 = 0.2129, Final Metric = 0.5267\n",
      "  New best metric! Saving model...\n",
      "Epoch 03: Train Loss = 2.3834, Val Loss = 2.2243\n",
      "  Binary F1 = 0.8046, Macro F1 = 0.2752, Final Metric = 0.5399\n",
      "  New best metric! Saving model...\n",
      "Epoch 04: Train Loss = 2.0960, Val Loss = 2.1081\n",
      "  Binary F1 = 0.9252, Macro F1 = 0.3641, Final Metric = 0.6447\n",
      "  New best metric! Saving model...\n",
      "Epoch 05: Train Loss = 1.9035, Val Loss = 2.0127\n",
      "  Binary F1 = 0.9241, Macro F1 = 0.3785, Final Metric = 0.6513\n",
      "  New best metric! Saving model...\n",
      "Epoch 06: Train Loss = 1.7788, Val Loss = 2.0519\n",
      "  Binary F1 = 0.9206, Macro F1 = 0.3816, Final Metric = 0.6511\n",
      "Epoch 07: Train Loss = 1.7219, Val Loss = 1.9886\n",
      "  Binary F1 = 0.9250, Macro F1 = 0.3954, Final Metric = 0.6602\n",
      "  New best metric! Saving model...\n",
      "Epoch 08: Train Loss = 1.5997, Val Loss = 2.0734\n",
      "  Binary F1 = 0.8985, Macro F1 = 0.4062, Final Metric = 0.6524\n",
      "Epoch 09: Train Loss = 1.5618, Val Loss = 1.9494\n",
      "  Binary F1 = 0.9037, Macro F1 = 0.3929, Final Metric = 0.6483\n",
      "Epoch 10: Train Loss = 1.5166, Val Loss = 1.9119\n",
      "  Binary F1 = 0.9304, Macro F1 = 0.4085, Final Metric = 0.6694\n",
      "  New best metric! Saving model...\n",
      "Epoch 11: Train Loss = 1.4537, Val Loss = 1.9513\n",
      "  Binary F1 = 0.9130, Macro F1 = 0.4169, Final Metric = 0.6649\n",
      "Epoch 12: Train Loss = 1.4461, Val Loss = 2.0178\n",
      "  Binary F1 = 0.9192, Macro F1 = 0.4014, Final Metric = 0.6603\n",
      "Epoch 13: Train Loss = 1.3702, Val Loss = 2.1070\n",
      "  Binary F1 = 0.9250, Macro F1 = 0.4259, Final Metric = 0.6755\n",
      "  New best metric! Saving model...\n",
      "Epoch 14: Train Loss = 1.3068, Val Loss = 2.1779\n",
      "  Binary F1 = 0.9293, Macro F1 = 0.4017, Final Metric = 0.6655\n",
      "Epoch 15: Train Loss = 1.3936, Val Loss = 1.9660\n",
      "  Binary F1 = 0.9301, Macro F1 = 0.4343, Final Metric = 0.6822\n",
      "  New best metric! Saving model...\n",
      "Epoch 16: Train Loss = 1.3390, Val Loss = 2.1036\n",
      "  Binary F1 = 0.9035, Macro F1 = 0.4156, Final Metric = 0.6596\n",
      "Epoch 17: Train Loss = 1.2780, Val Loss = 2.1819\n",
      "  Binary F1 = 0.8917, Macro F1 = 0.4060, Final Metric = 0.6489\n",
      "Epoch 18: Train Loss = 1.2254, Val Loss = 2.0982\n",
      "  Binary F1 = 0.9208, Macro F1 = 0.4171, Final Metric = 0.6690\n",
      "Epoch 19: Train Loss = 1.2207, Val Loss = 2.1619\n",
      "  Binary F1 = 0.9415, Macro F1 = 0.4351, Final Metric = 0.6883\n",
      "  New best metric! Saving model...\n",
      "Epoch 20: Train Loss = 1.2426, Val Loss = 2.1612\n",
      "  Binary F1 = 0.9246, Macro F1 = 0.4205, Final Metric = 0.6726\n",
      "Epoch 21: Train Loss = 1.2875, Val Loss = 2.0841\n",
      "  Binary F1 = 0.9105, Macro F1 = 0.4372, Final Metric = 0.6738\n",
      "Epoch 22: Train Loss = 1.2572, Val Loss = 2.3104\n",
      "  Binary F1 = 0.9107, Macro F1 = 0.4000, Final Metric = 0.6553\n",
      "Epoch 23: Train Loss = 1.1068, Val Loss = 2.3122\n",
      "  Binary F1 = 0.9206, Macro F1 = 0.3964, Final Metric = 0.6585\n",
      "Epoch 24: Train Loss = 1.1661, Val Loss = 2.1810\n",
      "  Binary F1 = 0.9086, Macro F1 = 0.4234, Final Metric = 0.6660\n",
      "Epoch 25: Train Loss = 1.0554, Val Loss = 2.2801\n",
      "  Binary F1 = 0.9277, Macro F1 = 0.4350, Final Metric = 0.6813\n",
      "Epoch 26: Train Loss = 1.0347, Val Loss = 2.1275\n",
      "  Binary F1 = 0.9222, Macro F1 = 0.4254, Final Metric = 0.6738\n",
      "Epoch 27: Train Loss = 1.1135, Val Loss = 1.9606\n",
      "  Binary F1 = 0.8790, Macro F1 = 0.4452, Final Metric = 0.6621\n",
      "Epoch 28: Train Loss = 1.0352, Val Loss = 2.3571\n",
      "  Binary F1 = 0.8732, Macro F1 = 0.4254, Final Metric = 0.6493\n",
      "Epoch 29: Train Loss = 1.0354, Val Loss = 2.2366\n",
      "  Binary F1 = 0.9243, Macro F1 = 0.4286, Final Metric = 0.6765\n",
      "Epoch 30: Train Loss = 1.0632, Val Loss = 2.3444\n",
      "  Binary F1 = 0.8860, Macro F1 = 0.4193, Final Metric = 0.6526\n",
      "Epoch 31: Train Loss = 0.9749, Val Loss = 2.2077\n",
      "  Binary F1 = 0.8711, Macro F1 = 0.4358, Final Metric = 0.6535\n",
      "Epoch 32: Train Loss = 1.0024, Val Loss = 2.1122\n",
      "  Binary F1 = 0.8991, Macro F1 = 0.4350, Final Metric = 0.6671\n",
      "Epoch 33: Train Loss = 0.9911, Val Loss = 2.1521\n",
      "  Binary F1 = 0.9235, Macro F1 = 0.4354, Final Metric = 0.6794\n",
      "Epoch 34: Train Loss = 0.9856, Val Loss = 2.1440\n",
      "  Binary F1 = 0.8974, Macro F1 = 0.4214, Final Metric = 0.6594\n",
      "Epoch 35: Train Loss = 0.9812, Val Loss = 2.1100\n",
      "  Binary F1 = 0.9138, Macro F1 = 0.4553, Final Metric = 0.6845\n",
      "Epoch 36: Train Loss = 1.0403, Val Loss = 2.0702\n",
      "  Binary F1 = 0.8811, Macro F1 = 0.4281, Final Metric = 0.6546\n",
      "Epoch 37: Train Loss = 0.8904, Val Loss = 2.2198\n",
      "  Binary F1 = 0.9105, Macro F1 = 0.4396, Final Metric = 0.6750\n",
      "Epoch 38: Train Loss = 0.9932, Val Loss = 2.1823\n",
      "  Binary F1 = 0.8937, Macro F1 = 0.4155, Final Metric = 0.6546\n",
      "Epoch 39: Train Loss = 0.9302, Val Loss = 2.0252\n",
      "  Binary F1 = 0.9103, Macro F1 = 0.4443, Final Metric = 0.6773\n",
      "Epoch 40: Train Loss = 0.9230, Val Loss = 2.1682\n",
      "  Binary F1 = 0.9177, Macro F1 = 0.4321, Final Metric = 0.6749\n",
      "Epoch 41: Train Loss = 1.0155, Val Loss = 2.0692\n",
      "  Binary F1 = 0.8848, Macro F1 = 0.4457, Final Metric = 0.6652\n",
      "Epoch 42: Train Loss = 0.9768, Val Loss = 2.2384\n",
      "  Binary F1 = 0.9212, Macro F1 = 0.4299, Final Metric = 0.6755\n",
      "Epoch 43: Train Loss = 0.9852, Val Loss = 2.2284\n",
      "  Binary F1 = 0.8980, Macro F1 = 0.4207, Final Metric = 0.6593\n",
      "Epoch 44: Train Loss = 1.0099, Val Loss = 2.3026\n",
      "  Binary F1 = 0.8969, Macro F1 = 0.4211, Final Metric = 0.6590\n",
      "Epoch 45: Train Loss = 0.9406, Val Loss = 2.3137\n",
      "  Binary F1 = 0.8977, Macro F1 = 0.4187, Final Metric = 0.6582\n",
      "Epoch 46: Train Loss = 0.9612, Val Loss = 2.1618\n",
      "  Binary F1 = 0.9085, Macro F1 = 0.4336, Final Metric = 0.6711\n",
      "Epoch 47: Train Loss = 1.0121, Val Loss = 2.2346\n",
      "  Binary F1 = 0.9224, Macro F1 = 0.3946, Final Metric = 0.6585\n",
      "Epoch 48: Train Loss = 0.9884, Val Loss = 2.2231\n",
      "  Binary F1 = 0.9075, Macro F1 = 0.4220, Final Metric = 0.6647\n",
      "Epoch 49: Train Loss = 0.9901, Val Loss = 2.0630\n",
      "  Binary F1 = 0.9180, Macro F1 = 0.4398, Final Metric = 0.6789\n",
      "Epoch 50: Train Loss = 1.0260, Val Loss = 2.0179\n",
      "  Binary F1 = 0.8603, Macro F1 = 0.4235, Final Metric = 0.6419\n",
      "Epoch 51: Train Loss = 0.9022, Val Loss = 2.2168\n",
      "  Binary F1 = 0.9191, Macro F1 = 0.4444, Final Metric = 0.6818\n",
      "Epoch 52: Train Loss = 0.9332, Val Loss = 2.1930\n",
      "  Binary F1 = 0.9131, Macro F1 = 0.4308, Final Metric = 0.6720\n",
      "Epoch 53: Train Loss = 0.9248, Val Loss = 2.1447\n",
      "  Binary F1 = 0.9008, Macro F1 = 0.4046, Final Metric = 0.6527\n",
      "Epoch 54: Train Loss = 0.8591, Val Loss = 2.2262\n",
      "  Binary F1 = 0.9150, Macro F1 = 0.4278, Final Metric = 0.6714\n",
      "Epoch 55: Train Loss = 0.9701, Val Loss = 2.0761\n",
      "  Binary F1 = 0.8963, Macro F1 = 0.4240, Final Metric = 0.6602\n",
      "Epoch 56: Train Loss = 0.9007, Val Loss = 2.1337\n",
      "  Binary F1 = 0.9047, Macro F1 = 0.4158, Final Metric = 0.6602\n",
      "Epoch 57: Train Loss = 0.9141, Val Loss = 2.2598\n",
      "  Binary F1 = 0.8925, Macro F1 = 0.4163, Final Metric = 0.6544\n",
      "Epoch 58: Train Loss = 0.8999, Val Loss = 2.1551\n",
      "  Binary F1 = 0.8736, Macro F1 = 0.4197, Final Metric = 0.6467\n",
      "Epoch 59: Train Loss = 0.9287, Val Loss = 2.1248\n",
      "  Binary F1 = 0.8672, Macro F1 = 0.4313, Final Metric = 0.6493\n",
      "Early stopping triggered at epoch 59\n",
      "\n",
      "Fold 1 completed.\n",
      "Final validation metrics - Binary F1: 0.8672, Macro F1: 0.4313, Final: 0.6493\n",
      "Best validation metrics - Binary F1: 0.9415, Macro F1: 0.4351, Final: 0.6883\n",
      "training: 2\n",
      "\n",
      "==================================================\n",
      "Fold 2/5\n",
      "Epoch 01: Train Loss = 2.8811, Val Loss = 2.8540\n",
      "  Binary F1 = 0.7714, Macro F1 = 0.0863, Final Metric = 0.4288\n",
      "  New best metric! Saving model...\n",
      "Epoch 02: Train Loss = 2.7189, Val Loss = 2.6304\n",
      "  Binary F1 = 0.7634, Macro F1 = 0.1812, Final Metric = 0.4723\n",
      "  New best metric! Saving model...\n",
      "Epoch 03: Train Loss = 2.3801, Val Loss = 2.4009\n",
      "  Binary F1 = 0.7029, Macro F1 = 0.2635, Final Metric = 0.4832\n",
      "  New best metric! Saving model...\n",
      "Epoch 04: Train Loss = 2.1035, Val Loss = 2.3154\n",
      "  Binary F1 = 0.8415, Macro F1 = 0.2869, Final Metric = 0.5642\n",
      "  New best metric! Saving model...\n",
      "Epoch 05: Train Loss = 1.9517, Val Loss = 2.1809\n",
      "  Binary F1 = 0.8571, Macro F1 = 0.3357, Final Metric = 0.5964\n",
      "  New best metric! Saving model...\n",
      "Epoch 06: Train Loss = 1.8092, Val Loss = 2.1513\n",
      "  Binary F1 = 0.8619, Macro F1 = 0.3221, Final Metric = 0.5920\n",
      "Epoch 07: Train Loss = 1.6854, Val Loss = 2.0787\n",
      "  Binary F1 = 0.8711, Macro F1 = 0.3297, Final Metric = 0.6004\n",
      "  New best metric! Saving model...\n",
      "Epoch 08: Train Loss = 1.5897, Val Loss = 2.1037\n",
      "  Binary F1 = 0.8847, Macro F1 = 0.3639, Final Metric = 0.6243\n",
      "  New best metric! Saving model...\n",
      "Epoch 09: Train Loss = 1.6697, Val Loss = 2.1880\n",
      "  Binary F1 = 0.8926, Macro F1 = 0.3424, Final Metric = 0.6175\n",
      "Epoch 10: Train Loss = 1.6066, Val Loss = 2.1525\n",
      "  Binary F1 = 0.8920, Macro F1 = 0.3260, Final Metric = 0.6090\n",
      "Epoch 11: Train Loss = 1.5164, Val Loss = 2.1897\n",
      "  Binary F1 = 0.8693, Macro F1 = 0.3459, Final Metric = 0.6076\n",
      "Epoch 12: Train Loss = 1.4628, Val Loss = 2.0555\n",
      "  Binary F1 = 0.8837, Macro F1 = 0.3795, Final Metric = 0.6316\n",
      "  New best metric! Saving model...\n",
      "Epoch 13: Train Loss = 1.4818, Val Loss = 2.1645\n",
      "  Binary F1 = 0.9026, Macro F1 = 0.3658, Final Metric = 0.6342\n",
      "  New best metric! Saving model...\n",
      "Epoch 14: Train Loss = 1.3956, Val Loss = 2.1905\n",
      "  Binary F1 = 0.9047, Macro F1 = 0.3730, Final Metric = 0.6388\n",
      "  New best metric! Saving model...\n",
      "Epoch 15: Train Loss = 1.4124, Val Loss = 2.0924\n",
      "  Binary F1 = 0.8994, Macro F1 = 0.3746, Final Metric = 0.6370\n",
      "Epoch 16: Train Loss = 1.4855, Val Loss = 2.1475\n",
      "  Binary F1 = 0.8893, Macro F1 = 0.3981, Final Metric = 0.6437\n",
      "  New best metric! Saving model...\n",
      "Epoch 17: Train Loss = 1.3993, Val Loss = 2.0942\n",
      "  Binary F1 = 0.9110, Macro F1 = 0.3765, Final Metric = 0.6438\n",
      "  New best metric! Saving model...\n",
      "Epoch 18: Train Loss = 1.3292, Val Loss = 2.0377\n",
      "  Binary F1 = 0.9123, Macro F1 = 0.3990, Final Metric = 0.6557\n",
      "  New best metric! Saving model...\n",
      "Epoch 19: Train Loss = 1.3886, Val Loss = 2.5002\n",
      "  Binary F1 = 0.8992, Macro F1 = 0.3246, Final Metric = 0.6119\n",
      "Epoch 20: Train Loss = 1.3687, Val Loss = 2.0994\n",
      "  Binary F1 = 0.8880, Macro F1 = 0.3925, Final Metric = 0.6402\n",
      "Epoch 21: Train Loss = 1.3378, Val Loss = 2.1753\n",
      "  Binary F1 = 0.8762, Macro F1 = 0.3743, Final Metric = 0.6253\n",
      "Epoch 22: Train Loss = 1.3276, Val Loss = 2.1688\n",
      "  Binary F1 = 0.9002, Macro F1 = 0.3772, Final Metric = 0.6387\n",
      "Epoch 23: Train Loss = 1.1991, Val Loss = 2.1145\n",
      "  Binary F1 = 0.8670, Macro F1 = 0.3904, Final Metric = 0.6287\n",
      "Epoch 24: Train Loss = 1.2287, Val Loss = 2.1482\n",
      "  Binary F1 = 0.8992, Macro F1 = 0.3498, Final Metric = 0.6245\n",
      "Epoch 25: Train Loss = 1.2881, Val Loss = 2.2505\n",
      "  Binary F1 = 0.9080, Macro F1 = 0.3703, Final Metric = 0.6391\n",
      "Epoch 26: Train Loss = 1.3185, Val Loss = 2.2522\n",
      "  Binary F1 = 0.9104, Macro F1 = 0.3805, Final Metric = 0.6454\n",
      "Epoch 27: Train Loss = 1.1970, Val Loss = 2.0991\n",
      "  Binary F1 = 0.8799, Macro F1 = 0.4041, Final Metric = 0.6420\n",
      "Epoch 28: Train Loss = 1.2347, Val Loss = 2.1296\n",
      "  Binary F1 = 0.9094, Macro F1 = 0.3870, Final Metric = 0.6482\n",
      "Epoch 29: Train Loss = 1.2110, Val Loss = 2.0717\n",
      "  Binary F1 = 0.9102, Macro F1 = 0.4031, Final Metric = 0.6567\n",
      "  New best metric! Saving model...\n",
      "Epoch 30: Train Loss = 1.1091, Val Loss = 2.3809\n",
      "  Binary F1 = 0.8946, Macro F1 = 0.3274, Final Metric = 0.6110\n",
      "Epoch 31: Train Loss = 1.3044, Val Loss = 2.2255\n",
      "  Binary F1 = 0.9015, Macro F1 = 0.3641, Final Metric = 0.6328\n",
      "Epoch 32: Train Loss = 1.1943, Val Loss = 2.1811\n",
      "  Binary F1 = 0.8930, Macro F1 = 0.3724, Final Metric = 0.6327\n",
      "Epoch 33: Train Loss = 1.1630, Val Loss = 2.2280\n",
      "  Binary F1 = 0.8670, Macro F1 = 0.3874, Final Metric = 0.6272\n",
      "Epoch 34: Train Loss = 1.1516, Val Loss = 2.2599\n",
      "  Binary F1 = 0.8935, Macro F1 = 0.3895, Final Metric = 0.6415\n",
      "Epoch 35: Train Loss = 1.1051, Val Loss = 2.2332\n",
      "  Binary F1 = 0.8689, Macro F1 = 0.3621, Final Metric = 0.6155\n",
      "Epoch 36: Train Loss = 1.3743, Val Loss = 2.2847\n",
      "  Binary F1 = 0.8746, Macro F1 = 0.3860, Final Metric = 0.6303\n",
      "Epoch 37: Train Loss = 1.1489, Val Loss = 2.1910\n",
      "  Binary F1 = 0.9062, Macro F1 = 0.3755, Final Metric = 0.6409\n",
      "Epoch 38: Train Loss = 1.1357, Val Loss = 2.2446\n",
      "  Binary F1 = 0.8407, Macro F1 = 0.3602, Final Metric = 0.6005\n",
      "Epoch 39: Train Loss = 1.0557, Val Loss = 2.5390\n",
      "  Binary F1 = 0.8833, Macro F1 = 0.3488, Final Metric = 0.6161\n",
      "Epoch 40: Train Loss = 1.1905, Val Loss = 2.2550\n",
      "  Binary F1 = 0.8519, Macro F1 = 0.3997, Final Metric = 0.6258\n",
      "Epoch 41: Train Loss = 1.1378, Val Loss = 2.1713\n",
      "  Binary F1 = 0.8516, Macro F1 = 0.3752, Final Metric = 0.6134\n",
      "Epoch 42: Train Loss = 1.0535, Val Loss = 2.2614\n",
      "  Binary F1 = 0.8290, Macro F1 = 0.3895, Final Metric = 0.6093\n",
      "Epoch 43: Train Loss = 1.0444, Val Loss = 2.2826\n",
      "  Binary F1 = 0.9369, Macro F1 = 0.3859, Final Metric = 0.6614\n",
      "  New best metric! Saving model...\n",
      "Epoch 44: Train Loss = 1.0242, Val Loss = 2.3272\n",
      "  Binary F1 = 0.8423, Macro F1 = 0.3970, Final Metric = 0.6197\n",
      "Epoch 45: Train Loss = 1.1403, Val Loss = 2.2708\n",
      "  Binary F1 = 0.8940, Macro F1 = 0.3771, Final Metric = 0.6355\n",
      "Epoch 46: Train Loss = 1.0422, Val Loss = 2.2026\n",
      "  Binary F1 = 0.8883, Macro F1 = 0.3809, Final Metric = 0.6346\n",
      "Epoch 47: Train Loss = 0.9620, Val Loss = 2.1777\n",
      "  Binary F1 = 0.9038, Macro F1 = 0.3835, Final Metric = 0.6437\n",
      "Epoch 48: Train Loss = 1.0379, Val Loss = 2.5124\n",
      "  Binary F1 = 0.9030, Macro F1 = 0.3793, Final Metric = 0.6411\n",
      "Epoch 49: Train Loss = 1.0096, Val Loss = 2.3965\n",
      "  Binary F1 = 0.8340, Macro F1 = 0.3764, Final Metric = 0.6052\n",
      "Epoch 50: Train Loss = 1.0613, Val Loss = 2.3496\n",
      "  Binary F1 = 0.8729, Macro F1 = 0.3701, Final Metric = 0.6215\n",
      "Epoch 51: Train Loss = 1.0438, Val Loss = 2.3457\n",
      "  Binary F1 = 0.8286, Macro F1 = 0.3780, Final Metric = 0.6033\n",
      "Epoch 52: Train Loss = 0.9931, Val Loss = 2.3000\n",
      "  Binary F1 = 0.8245, Macro F1 = 0.3795, Final Metric = 0.6020\n",
      "Epoch 53: Train Loss = 1.1174, Val Loss = 2.2010\n",
      "  Binary F1 = 0.8263, Macro F1 = 0.3704, Final Metric = 0.5983\n",
      "Epoch 54: Train Loss = 1.0604, Val Loss = 2.4343\n",
      "  Binary F1 = 0.9070, Macro F1 = 0.3810, Final Metric = 0.6440\n",
      "Epoch 55: Train Loss = 1.0721, Val Loss = 2.3919\n",
      "  Binary F1 = 0.7393, Macro F1 = 0.3852, Final Metric = 0.5622\n",
      "Epoch 56: Train Loss = 1.0485, Val Loss = 2.4664\n",
      "  Binary F1 = 0.8220, Macro F1 = 0.3836, Final Metric = 0.6028\n",
      "Epoch 57: Train Loss = 1.1218, Val Loss = 2.3304\n",
      "  Binary F1 = 0.8352, Macro F1 = 0.3775, Final Metric = 0.6064\n",
      "Epoch 58: Train Loss = 0.9706, Val Loss = 2.3696\n",
      "  Binary F1 = 0.7829, Macro F1 = 0.3894, Final Metric = 0.5862\n",
      "Epoch 59: Train Loss = 1.0037, Val Loss = 2.3647\n",
      "  Binary F1 = 0.8610, Macro F1 = 0.3868, Final Metric = 0.6239\n",
      "Epoch 60: Train Loss = 1.1661, Val Loss = 2.3445\n",
      "  Binary F1 = 0.8927, Macro F1 = 0.3872, Final Metric = 0.6399\n",
      "Epoch 61: Train Loss = 1.0230, Val Loss = 2.2400\n",
      "  Binary F1 = 0.8753, Macro F1 = 0.3957, Final Metric = 0.6355\n",
      "Epoch 62: Train Loss = 1.0273, Val Loss = 2.2434\n",
      "  Binary F1 = 0.7991, Macro F1 = 0.3947, Final Metric = 0.5969\n",
      "Epoch 63: Train Loss = 1.0269, Val Loss = 2.4249\n",
      "  Binary F1 = 0.7938, Macro F1 = 0.3703, Final Metric = 0.5821\n",
      "Epoch 64: Train Loss = 1.0180, Val Loss = 2.4437\n",
      "  Binary F1 = 0.7783, Macro F1 = 0.3775, Final Metric = 0.5779\n",
      "Epoch 65: Train Loss = 1.0773, Val Loss = 2.2350\n",
      "  Binary F1 = 0.9036, Macro F1 = 0.3916, Final Metric = 0.6476\n",
      "Epoch 66: Train Loss = 1.0159, Val Loss = 2.1869\n",
      "  Binary F1 = 0.8811, Macro F1 = 0.3870, Final Metric = 0.6341\n",
      "Epoch 67: Train Loss = 0.9683, Val Loss = 2.1984\n",
      "  Binary F1 = 0.8391, Macro F1 = 0.3774, Final Metric = 0.6083\n",
      "Epoch 68: Train Loss = 0.9544, Val Loss = 2.3041\n",
      "  Binary F1 = 0.8861, Macro F1 = 0.3755, Final Metric = 0.6308\n",
      "Epoch 69: Train Loss = 0.9141, Val Loss = 2.2038\n",
      "  Binary F1 = 0.8408, Macro F1 = 0.3825, Final Metric = 0.6117\n",
      "Epoch 70: Train Loss = 1.0084, Val Loss = 2.2515\n",
      "  Binary F1 = 0.8955, Macro F1 = 0.3717, Final Metric = 0.6336\n",
      "Epoch 71: Train Loss = 1.2313, Val Loss = 2.2814\n",
      "  Binary F1 = 0.8985, Macro F1 = 0.3836, Final Metric = 0.6410\n",
      "Epoch 72: Train Loss = 0.9475, Val Loss = 2.2945\n",
      "  Binary F1 = 0.8988, Macro F1 = 0.3821, Final Metric = 0.6404\n",
      "Epoch 73: Train Loss = 0.8819, Val Loss = 2.2410\n",
      "  Binary F1 = 0.8763, Macro F1 = 0.3804, Final Metric = 0.6284\n",
      "Epoch 74: Train Loss = 0.9983, Val Loss = 2.2597\n",
      "  Binary F1 = 0.8623, Macro F1 = 0.3986, Final Metric = 0.6304\n",
      "Epoch 75: Train Loss = 0.9867, Val Loss = 2.2333\n",
      "  Binary F1 = 0.8949, Macro F1 = 0.3833, Final Metric = 0.6391\n",
      "Epoch 76: Train Loss = 0.9081, Val Loss = 2.1690\n",
      "  Binary F1 = 0.8733, Macro F1 = 0.3998, Final Metric = 0.6365\n",
      "Epoch 77: Train Loss = 0.9527, Val Loss = 2.3153\n",
      "  Binary F1 = 0.8266, Macro F1 = 0.3827, Final Metric = 0.6046\n",
      "Epoch 78: Train Loss = 0.9854, Val Loss = 2.1324\n",
      "  Binary F1 = 0.9038, Macro F1 = 0.4024, Final Metric = 0.6531\n",
      "Epoch 79: Train Loss = 0.9452, Val Loss = 2.3005\n",
      "  Binary F1 = 0.8395, Macro F1 = 0.3876, Final Metric = 0.6135\n",
      "Epoch 80: Train Loss = 1.0886, Val Loss = 2.3497\n",
      "  Binary F1 = 0.8189, Macro F1 = 0.3901, Final Metric = 0.6045\n",
      "Epoch 81: Train Loss = 0.9026, Val Loss = 2.2363\n",
      "  Binary F1 = 0.8348, Macro F1 = 0.3962, Final Metric = 0.6155\n",
      "Epoch 82: Train Loss = 0.9253, Val Loss = 2.2061\n",
      "  Binary F1 = 0.8393, Macro F1 = 0.3973, Final Metric = 0.6183\n",
      "Epoch 83: Train Loss = 0.9001, Val Loss = 2.1816\n",
      "  Binary F1 = 0.8189, Macro F1 = 0.3940, Final Metric = 0.6065\n",
      "Early stopping triggered at epoch 83\n",
      "\n",
      "Fold 2 completed.\n",
      "Final validation metrics - Binary F1: 0.8189, Macro F1: 0.3940, Final: 0.6065\n",
      "Best validation metrics - Binary F1: 0.9369, Macro F1: 0.3859, Final: 0.6614\n",
      "training: 3\n",
      "\n",
      "==================================================\n",
      "Fold 3/5\n",
      "Epoch 01: Train Loss = 2.8782, Val Loss = 2.8472\n",
      "  Binary F1 = 0.4528, Macro F1 = 0.0975, Final Metric = 0.2751\n",
      "  New best metric! Saving model...\n",
      "Epoch 02: Train Loss = 2.7243, Val Loss = 2.6061\n",
      "  Binary F1 = 0.7431, Macro F1 = 0.1885, Final Metric = 0.4658\n",
      "  New best metric! Saving model...\n",
      "Epoch 03: Train Loss = 2.3589, Val Loss = 2.3268\n",
      "  Binary F1 = 0.8406, Macro F1 = 0.2370, Final Metric = 0.5388\n",
      "  New best metric! Saving model...\n",
      "Epoch 04: Train Loss = 2.0852, Val Loss = 2.1629\n",
      "  Binary F1 = 0.9025, Macro F1 = 0.3368, Final Metric = 0.6196\n",
      "  New best metric! Saving model...\n",
      "Epoch 05: Train Loss = 1.8858, Val Loss = 2.0867\n",
      "  Binary F1 = 0.9192, Macro F1 = 0.3795, Final Metric = 0.6493\n",
      "  New best metric! Saving model...\n",
      "Epoch 06: Train Loss = 1.7636, Val Loss = 2.0581\n",
      "  Binary F1 = 0.9192, Macro F1 = 0.3953, Final Metric = 0.6572\n",
      "  New best metric! Saving model...\n",
      "Epoch 07: Train Loss = 1.6925, Val Loss = 2.0725\n",
      "  Binary F1 = 0.9189, Macro F1 = 0.3944, Final Metric = 0.6566\n",
      "Epoch 08: Train Loss = 1.5906, Val Loss = 2.0289\n",
      "  Binary F1 = 0.9188, Macro F1 = 0.4265, Final Metric = 0.6727\n",
      "  New best metric! Saving model...\n",
      "Epoch 09: Train Loss = 1.5603, Val Loss = 2.1811\n",
      "  Binary F1 = 0.9253, Macro F1 = 0.4032, Final Metric = 0.6643\n",
      "Epoch 10: Train Loss = 1.4811, Val Loss = 2.1075\n",
      "  Binary F1 = 0.9238, Macro F1 = 0.4046, Final Metric = 0.6642\n",
      "Epoch 11: Train Loss = 1.4805, Val Loss = 2.1727\n",
      "  Binary F1 = 0.9203, Macro F1 = 0.4300, Final Metric = 0.6752\n",
      "  New best metric! Saving model...\n",
      "Epoch 12: Train Loss = 1.4391, Val Loss = 2.1073\n",
      "  Binary F1 = 0.9052, Macro F1 = 0.4254, Final Metric = 0.6653\n",
      "Epoch 13: Train Loss = 1.3756, Val Loss = 2.0504\n",
      "  Binary F1 = 0.9180, Macro F1 = 0.4184, Final Metric = 0.6682\n",
      "Epoch 14: Train Loss = 1.3553, Val Loss = 2.1056\n",
      "  Binary F1 = 0.9243, Macro F1 = 0.4250, Final Metric = 0.6746\n",
      "Epoch 15: Train Loss = 1.4314, Val Loss = 2.0629\n",
      "  Binary F1 = 0.9317, Macro F1 = 0.4353, Final Metric = 0.6835\n",
      "  New best metric! Saving model...\n",
      "Epoch 16: Train Loss = 1.3411, Val Loss = 2.1237\n",
      "  Binary F1 = 0.9141, Macro F1 = 0.4128, Final Metric = 0.6635\n",
      "Epoch 17: Train Loss = 1.2914, Val Loss = 2.2280\n",
      "  Binary F1 = 0.9240, Macro F1 = 0.4305, Final Metric = 0.6773\n",
      "Epoch 18: Train Loss = 1.1959, Val Loss = 2.0858\n",
      "  Binary F1 = 0.9211, Macro F1 = 0.4312, Final Metric = 0.6761\n",
      "Epoch 19: Train Loss = 1.1819, Val Loss = 2.2652\n",
      "  Binary F1 = 0.9296, Macro F1 = 0.4242, Final Metric = 0.6769\n",
      "Epoch 20: Train Loss = 1.1688, Val Loss = 2.1186\n",
      "  Binary F1 = 0.9331, Macro F1 = 0.4099, Final Metric = 0.6715\n",
      "Epoch 21: Train Loss = 1.2348, Val Loss = 2.3880\n",
      "  Binary F1 = 0.9184, Macro F1 = 0.4077, Final Metric = 0.6630\n",
      "Epoch 22: Train Loss = 1.2319, Val Loss = 2.0833\n",
      "  Binary F1 = 0.9329, Macro F1 = 0.4331, Final Metric = 0.6830\n",
      "Epoch 23: Train Loss = 1.1404, Val Loss = 2.5553\n",
      "  Binary F1 = 0.9145, Macro F1 = 0.4334, Final Metric = 0.6739\n",
      "Epoch 24: Train Loss = 1.1073, Val Loss = 2.1761\n",
      "  Binary F1 = 0.9243, Macro F1 = 0.4195, Final Metric = 0.6719\n",
      "Epoch 25: Train Loss = 1.0562, Val Loss = 2.6021\n",
      "  Binary F1 = 0.9187, Macro F1 = 0.4145, Final Metric = 0.6666\n",
      "Epoch 26: Train Loss = 1.0606, Val Loss = 2.3260\n",
      "  Binary F1 = 0.9227, Macro F1 = 0.4040, Final Metric = 0.6634\n",
      "Epoch 27: Train Loss = 1.0360, Val Loss = 2.2800\n",
      "  Binary F1 = 0.9342, Macro F1 = 0.4013, Final Metric = 0.6678\n",
      "Epoch 28: Train Loss = 1.0317, Val Loss = 2.1590\n",
      "  Binary F1 = 0.9324, Macro F1 = 0.4213, Final Metric = 0.6769\n",
      "Epoch 29: Train Loss = 1.0584, Val Loss = 2.3125\n",
      "  Binary F1 = 0.9294, Macro F1 = 0.4101, Final Metric = 0.6697\n",
      "Epoch 30: Train Loss = 1.0546, Val Loss = 2.2239\n",
      "  Binary F1 = 0.9248, Macro F1 = 0.4354, Final Metric = 0.6801\n",
      "Epoch 31: Train Loss = 1.1016, Val Loss = 2.5135\n",
      "  Binary F1 = 0.9320, Macro F1 = 0.4322, Final Metric = 0.6821\n",
      "Epoch 32: Train Loss = 1.0377, Val Loss = 2.3558\n",
      "  Binary F1 = 0.9436, Macro F1 = 0.4180, Final Metric = 0.6808\n",
      "Epoch 33: Train Loss = 1.0359, Val Loss = 2.3876\n",
      "  Binary F1 = 0.9415, Macro F1 = 0.4113, Final Metric = 0.6764\n",
      "Epoch 34: Train Loss = 1.0006, Val Loss = 2.2023\n",
      "  Binary F1 = 0.9337, Macro F1 = 0.4518, Final Metric = 0.6928\n",
      "  New best metric! Saving model...\n",
      "Epoch 35: Train Loss = 1.0169, Val Loss = 2.4968\n",
      "  Binary F1 = 0.9308, Macro F1 = 0.4410, Final Metric = 0.6859\n",
      "Epoch 36: Train Loss = 1.0421, Val Loss = 2.3100\n",
      "  Binary F1 = 0.9257, Macro F1 = 0.4275, Final Metric = 0.6766\n",
      "Epoch 37: Train Loss = 0.9922, Val Loss = 2.4069\n",
      "  Binary F1 = 0.9328, Macro F1 = 0.4138, Final Metric = 0.6733\n",
      "Epoch 38: Train Loss = 0.9509, Val Loss = 2.3502\n",
      "  Binary F1 = 0.9282, Macro F1 = 0.4138, Final Metric = 0.6710\n",
      "Epoch 39: Train Loss = 1.0746, Val Loss = 2.6208\n",
      "  Binary F1 = 0.9178, Macro F1 = 0.4166, Final Metric = 0.6672\n",
      "Epoch 40: Train Loss = 0.9605, Val Loss = 2.4153\n",
      "  Binary F1 = 0.9314, Macro F1 = 0.4358, Final Metric = 0.6836\n",
      "Epoch 41: Train Loss = 0.9486, Val Loss = 2.3417\n",
      "  Binary F1 = 0.9358, Macro F1 = 0.4193, Final Metric = 0.6776\n",
      "Epoch 42: Train Loss = 1.0162, Val Loss = 2.1644\n",
      "  Binary F1 = 0.8878, Macro F1 = 0.4355, Final Metric = 0.6617\n",
      "Epoch 43: Train Loss = 0.9755, Val Loss = 2.2388\n",
      "  Binary F1 = 0.9291, Macro F1 = 0.4204, Final Metric = 0.6748\n",
      "Epoch 44: Train Loss = 0.9634, Val Loss = 2.2729\n",
      "  Binary F1 = 0.9214, Macro F1 = 0.4351, Final Metric = 0.6783\n",
      "Epoch 45: Train Loss = 0.9467, Val Loss = 2.3866\n",
      "  Binary F1 = 0.9111, Macro F1 = 0.4235, Final Metric = 0.6673\n",
      "Epoch 46: Train Loss = 0.9741, Val Loss = 2.2523\n",
      "  Binary F1 = 0.9176, Macro F1 = 0.4333, Final Metric = 0.6755\n",
      "Epoch 47: Train Loss = 0.9512, Val Loss = 2.2751\n",
      "  Binary F1 = 0.8896, Macro F1 = 0.4246, Final Metric = 0.6571\n",
      "Epoch 48: Train Loss = 0.9212, Val Loss = 2.2986\n",
      "  Binary F1 = 0.9367, Macro F1 = 0.4203, Final Metric = 0.6785\n",
      "Epoch 49: Train Loss = 0.9973, Val Loss = 2.3057\n",
      "  Binary F1 = 0.9152, Macro F1 = 0.4234, Final Metric = 0.6693\n",
      "Epoch 50: Train Loss = 0.9622, Val Loss = 2.2587\n",
      "  Binary F1 = 0.9157, Macro F1 = 0.4232, Final Metric = 0.6694\n",
      "Epoch 51: Train Loss = 0.9011, Val Loss = 2.3372\n",
      "  Binary F1 = 0.9431, Macro F1 = 0.4233, Final Metric = 0.6832\n",
      "Epoch 52: Train Loss = 0.8537, Val Loss = 2.1780\n",
      "  Binary F1 = 0.9152, Macro F1 = 0.4135, Final Metric = 0.6643\n",
      "Epoch 53: Train Loss = 0.9829, Val Loss = 2.1324\n",
      "  Binary F1 = 0.9305, Macro F1 = 0.4485, Final Metric = 0.6895\n",
      "Epoch 54: Train Loss = 1.0049, Val Loss = 2.4234\n",
      "  Binary F1 = 0.9359, Macro F1 = 0.4270, Final Metric = 0.6814\n",
      "Epoch 55: Train Loss = 0.9512, Val Loss = 2.0401\n",
      "  Binary F1 = 0.9317, Macro F1 = 0.4506, Final Metric = 0.6912\n",
      "Epoch 56: Train Loss = 0.9231, Val Loss = 2.1064\n",
      "  Binary F1 = 0.9378, Macro F1 = 0.4481, Final Metric = 0.6929\n",
      "  New best metric! Saving model...\n",
      "Epoch 57: Train Loss = 0.9267, Val Loss = 2.3334\n",
      "  Binary F1 = 0.9281, Macro F1 = 0.4179, Final Metric = 0.6730\n",
      "Epoch 58: Train Loss = 0.8779, Val Loss = 2.3047\n",
      "  Binary F1 = 0.9194, Macro F1 = 0.4239, Final Metric = 0.6717\n",
      "Epoch 59: Train Loss = 0.8707, Val Loss = 2.2374\n",
      "  Binary F1 = 0.9305, Macro F1 = 0.4190, Final Metric = 0.6748\n",
      "Epoch 60: Train Loss = 0.9578, Val Loss = 2.3717\n",
      "  Binary F1 = 0.9296, Macro F1 = 0.4094, Final Metric = 0.6695\n",
      "Epoch 61: Train Loss = 0.8980, Val Loss = 2.2962\n",
      "  Binary F1 = 0.9109, Macro F1 = 0.4148, Final Metric = 0.6629\n",
      "Epoch 62: Train Loss = 0.9175, Val Loss = 2.2047\n",
      "  Binary F1 = 0.9230, Macro F1 = 0.4216, Final Metric = 0.6723\n",
      "Epoch 63: Train Loss = 0.8775, Val Loss = 2.1739\n",
      "  Binary F1 = 0.9161, Macro F1 = 0.4230, Final Metric = 0.6695\n",
      "Epoch 64: Train Loss = 0.8621, Val Loss = 2.2245\n",
      "  Binary F1 = 0.9317, Macro F1 = 0.4512, Final Metric = 0.6915\n",
      "Epoch 65: Train Loss = 0.8559, Val Loss = 2.1986\n",
      "  Binary F1 = 0.9335, Macro F1 = 0.4335, Final Metric = 0.6835\n",
      "Epoch 66: Train Loss = 0.9499, Val Loss = 2.1539\n",
      "  Binary F1 = 0.9057, Macro F1 = 0.4260, Final Metric = 0.6659\n",
      "Epoch 67: Train Loss = 0.8924, Val Loss = 2.0248\n",
      "  Binary F1 = 0.8453, Macro F1 = 0.4242, Final Metric = 0.6348\n",
      "Epoch 68: Train Loss = 0.9626, Val Loss = 2.1178\n",
      "  Binary F1 = 0.9162, Macro F1 = 0.4381, Final Metric = 0.6771\n",
      "Epoch 69: Train Loss = 0.8379, Val Loss = 2.0591\n",
      "  Binary F1 = 0.9014, Macro F1 = 0.4365, Final Metric = 0.6689\n",
      "Epoch 70: Train Loss = 0.9032, Val Loss = 2.1604\n",
      "  Binary F1 = 0.8931, Macro F1 = 0.4227, Final Metric = 0.6579\n",
      "Epoch 71: Train Loss = 0.8709, Val Loss = 2.1848\n",
      "  Binary F1 = 0.9100, Macro F1 = 0.4234, Final Metric = 0.6667\n",
      "Epoch 72: Train Loss = 0.9674, Val Loss = 2.1656\n",
      "  Binary F1 = 0.9112, Macro F1 = 0.4542, Final Metric = 0.6827\n",
      "Epoch 73: Train Loss = 0.8566, Val Loss = 2.2152\n",
      "  Binary F1 = 0.9129, Macro F1 = 0.4181, Final Metric = 0.6655\n",
      "Epoch 74: Train Loss = 1.0305, Val Loss = 2.2385\n",
      "  Binary F1 = 0.9128, Macro F1 = 0.4329, Final Metric = 0.6728\n",
      "Epoch 75: Train Loss = 0.9095, Val Loss = 2.1629\n",
      "  Binary F1 = 0.9075, Macro F1 = 0.4313, Final Metric = 0.6694\n",
      "Epoch 76: Train Loss = 0.9239, Val Loss = 1.9966\n",
      "  Binary F1 = 0.8912, Macro F1 = 0.4392, Final Metric = 0.6652\n",
      "Epoch 77: Train Loss = 0.8747, Val Loss = 2.1978\n",
      "  Binary F1 = 0.9126, Macro F1 = 0.4437, Final Metric = 0.6782\n",
      "Epoch 78: Train Loss = 0.9350, Val Loss = 2.1314\n",
      "  Binary F1 = 0.9257, Macro F1 = 0.4314, Final Metric = 0.6786\n",
      "Epoch 79: Train Loss = 0.9152, Val Loss = 2.0651\n",
      "  Binary F1 = 0.9054, Macro F1 = 0.4314, Final Metric = 0.6684\n",
      "Epoch 80: Train Loss = 0.8708, Val Loss = 2.0395\n",
      "  Binary F1 = 0.9081, Macro F1 = 0.4218, Final Metric = 0.6650\n",
      "Epoch 81: Train Loss = 0.8848, Val Loss = 2.0500\n",
      "  Binary F1 = 0.8912, Macro F1 = 0.4415, Final Metric = 0.6664\n",
      "Epoch 82: Train Loss = 0.8915, Val Loss = 2.0709\n",
      "  Binary F1 = 0.9003, Macro F1 = 0.4314, Final Metric = 0.6659\n",
      "Epoch 83: Train Loss = 0.8186, Val Loss = 1.9971\n",
      "  Binary F1 = 0.8940, Macro F1 = 0.4412, Final Metric = 0.6676\n",
      "Epoch 84: Train Loss = 0.9272, Val Loss = 2.1632\n",
      "  Binary F1 = 0.9107, Macro F1 = 0.4230, Final Metric = 0.6669\n",
      "Epoch 85: Train Loss = 0.8688, Val Loss = 2.2020\n",
      "  Binary F1 = 0.8874, Macro F1 = 0.4196, Final Metric = 0.6535\n",
      "Epoch 86: Train Loss = 0.8962, Val Loss = 2.0417\n",
      "  Binary F1 = 0.9174, Macro F1 = 0.4175, Final Metric = 0.6674\n",
      "Epoch 87: Train Loss = 0.9128, Val Loss = 2.1305\n",
      "  Binary F1 = 0.9094, Macro F1 = 0.4327, Final Metric = 0.6710\n",
      "Epoch 88: Train Loss = 0.9086, Val Loss = 2.0017\n",
      "  Binary F1 = 0.8743, Macro F1 = 0.4416, Final Metric = 0.6579\n",
      "Epoch 89: Train Loss = 0.9295, Val Loss = 2.1501\n",
      "  Binary F1 = 0.9061, Macro F1 = 0.4383, Final Metric = 0.6722\n",
      "Epoch 90: Train Loss = 0.9284, Val Loss = 2.0478\n",
      "  Binary F1 = 0.8975, Macro F1 = 0.4392, Final Metric = 0.6684\n",
      "Epoch 91: Train Loss = 0.9094, Val Loss = 2.0368\n",
      "  Binary F1 = 0.8949, Macro F1 = 0.4322, Final Metric = 0.6635\n",
      "Epoch 92: Train Loss = 0.8820, Val Loss = 2.0430\n",
      "  Binary F1 = 0.9160, Macro F1 = 0.4394, Final Metric = 0.6777\n",
      "Epoch 93: Train Loss = 0.8790, Val Loss = 2.0909\n",
      "  Binary F1 = 0.9009, Macro F1 = 0.4351, Final Metric = 0.6680\n",
      "Epoch 94: Train Loss = 0.8820, Val Loss = 2.0105\n",
      "  Binary F1 = 0.8916, Macro F1 = 0.4280, Final Metric = 0.6598\n",
      "Epoch 95: Train Loss = 0.9005, Val Loss = 2.1274\n",
      "  Binary F1 = 0.9231, Macro F1 = 0.4274, Final Metric = 0.6752\n",
      "Epoch 96: Train Loss = 0.8006, Val Loss = 2.0547\n",
      "  Binary F1 = 0.8915, Macro F1 = 0.4253, Final Metric = 0.6584\n",
      "Early stopping triggered at epoch 96\n",
      "\n",
      "Fold 3 completed.\n",
      "Final validation metrics - Binary F1: 0.8915, Macro F1: 0.4253, Final: 0.6584\n",
      "Best validation metrics - Binary F1: 0.9378, Macro F1: 0.4481, Final: 0.6929\n",
      "training: 4\n",
      "\n",
      "==================================================\n",
      "Fold 4/5\n",
      "Epoch 01: Train Loss = 2.8794, Val Loss = 2.8391\n",
      "  Binary F1 = 0.7718, Macro F1 = 0.0329, Final Metric = 0.4023\n",
      "  New best metric! Saving model...\n",
      "Epoch 02: Train Loss = 2.7208, Val Loss = 2.6126\n",
      "  Binary F1 = 0.8358, Macro F1 = 0.1656, Final Metric = 0.5007\n",
      "  New best metric! Saving model...\n",
      "Epoch 03: Train Loss = 2.3318, Val Loss = 2.3252\n",
      "  Binary F1 = 0.8667, Macro F1 = 0.2721, Final Metric = 0.5694\n",
      "  New best metric! Saving model...\n",
      "Epoch 04: Train Loss = 2.0143, Val Loss = 2.3079\n",
      "  Binary F1 = 0.9042, Macro F1 = 0.3063, Final Metric = 0.6053\n",
      "  New best metric! Saving model...\n",
      "Epoch 05: Train Loss = 1.8797, Val Loss = 2.2028\n",
      "  Binary F1 = 0.9067, Macro F1 = 0.3307, Final Metric = 0.6187\n",
      "  New best metric! Saving model...\n",
      "Epoch 06: Train Loss = 1.7434, Val Loss = 2.1511\n",
      "  Binary F1 = 0.9013, Macro F1 = 0.3481, Final Metric = 0.6247\n",
      "  New best metric! Saving model...\n",
      "Epoch 07: Train Loss = 1.6409, Val Loss = 2.1263\n",
      "  Binary F1 = 0.9118, Macro F1 = 0.3606, Final Metric = 0.6362\n",
      "  New best metric! Saving model...\n",
      "Epoch 08: Train Loss = 1.5916, Val Loss = 2.0307\n",
      "  Binary F1 = 0.9135, Macro F1 = 0.3836, Final Metric = 0.6486\n",
      "  New best metric! Saving model...\n",
      "Epoch 09: Train Loss = 1.4877, Val Loss = 2.0270\n",
      "  Binary F1 = 0.9064, Macro F1 = 0.3801, Final Metric = 0.6432\n",
      "Epoch 10: Train Loss = 1.4812, Val Loss = 2.0550\n",
      "  Binary F1 = 0.8986, Macro F1 = 0.4115, Final Metric = 0.6551\n",
      "  New best metric! Saving model...\n",
      "Epoch 11: Train Loss = 1.4513, Val Loss = 2.1108\n",
      "  Binary F1 = 0.9211, Macro F1 = 0.4089, Final Metric = 0.6650\n",
      "  New best metric! Saving model...\n",
      "Epoch 12: Train Loss = 1.3885, Val Loss = 2.0712\n",
      "  Binary F1 = 0.9221, Macro F1 = 0.3919, Final Metric = 0.6570\n",
      "Epoch 13: Train Loss = 1.3712, Val Loss = 2.0152\n",
      "  Binary F1 = 0.9170, Macro F1 = 0.4133, Final Metric = 0.6651\n",
      "  New best metric! Saving model...\n",
      "Epoch 14: Train Loss = 1.3072, Val Loss = 2.2196\n",
      "  Binary F1 = 0.9290, Macro F1 = 0.3838, Final Metric = 0.6564\n",
      "Epoch 15: Train Loss = 1.3085, Val Loss = 2.0785\n",
      "  Binary F1 = 0.8997, Macro F1 = 0.3881, Final Metric = 0.6439\n",
      "Epoch 16: Train Loss = 1.2940, Val Loss = 2.1115\n",
      "  Binary F1 = 0.9133, Macro F1 = 0.3895, Final Metric = 0.6514\n",
      "Epoch 17: Train Loss = 1.2606, Val Loss = 2.0944\n",
      "  Binary F1 = 0.9183, Macro F1 = 0.3983, Final Metric = 0.6583\n",
      "Epoch 18: Train Loss = 1.3039, Val Loss = 2.1428\n",
      "  Binary F1 = 0.9103, Macro F1 = 0.3999, Final Metric = 0.6551\n",
      "Epoch 19: Train Loss = 1.1846, Val Loss = 2.2952\n",
      "  Binary F1 = 0.9187, Macro F1 = 0.3792, Final Metric = 0.6489\n",
      "Epoch 20: Train Loss = 1.1564, Val Loss = 2.1424\n",
      "  Binary F1 = 0.9201, Macro F1 = 0.3912, Final Metric = 0.6557\n",
      "Epoch 21: Train Loss = 1.2395, Val Loss = 2.4899\n",
      "  Binary F1 = 0.9078, Macro F1 = 0.3826, Final Metric = 0.6452\n",
      "Epoch 22: Train Loss = 1.2252, Val Loss = 2.3154\n",
      "  Binary F1 = 0.9160, Macro F1 = 0.4005, Final Metric = 0.6583\n",
      "Epoch 23: Train Loss = 1.0886, Val Loss = 2.1624\n",
      "  Binary F1 = 0.9029, Macro F1 = 0.4103, Final Metric = 0.6566\n",
      "Epoch 24: Train Loss = 1.0948, Val Loss = 2.0361\n",
      "  Binary F1 = 0.9104, Macro F1 = 0.4073, Final Metric = 0.6589\n",
      "Epoch 25: Train Loss = 1.0654, Val Loss = 2.3357\n",
      "  Binary F1 = 0.9205, Macro F1 = 0.4042, Final Metric = 0.6624\n",
      "Epoch 26: Train Loss = 1.0069, Val Loss = 2.2104\n",
      "  Binary F1 = 0.9131, Macro F1 = 0.3941, Final Metric = 0.6536\n",
      "Epoch 27: Train Loss = 1.1232, Val Loss = 2.0856\n",
      "  Binary F1 = 0.9119, Macro F1 = 0.3906, Final Metric = 0.6513\n",
      "Epoch 28: Train Loss = 1.0330, Val Loss = 2.1767\n",
      "  Binary F1 = 0.9180, Macro F1 = 0.3895, Final Metric = 0.6538\n",
      "Epoch 29: Train Loss = 1.0220, Val Loss = 2.2121\n",
      "  Binary F1 = 0.9196, Macro F1 = 0.3970, Final Metric = 0.6583\n",
      "Epoch 30: Train Loss = 1.0371, Val Loss = 2.3535\n",
      "  Binary F1 = 0.9264, Macro F1 = 0.4070, Final Metric = 0.6667\n",
      "  New best metric! Saving model...\n",
      "Epoch 31: Train Loss = 0.9323, Val Loss = 2.3138\n",
      "  Binary F1 = 0.8911, Macro F1 = 0.3667, Final Metric = 0.6289\n",
      "Epoch 32: Train Loss = 1.0056, Val Loss = 2.1848\n",
      "  Binary F1 = 0.8831, Macro F1 = 0.3878, Final Metric = 0.6354\n",
      "Epoch 33: Train Loss = 1.0755, Val Loss = 2.2803\n",
      "  Binary F1 = 0.9080, Macro F1 = 0.3806, Final Metric = 0.6443\n",
      "Epoch 34: Train Loss = 0.9679, Val Loss = 2.2595\n",
      "  Binary F1 = 0.9142, Macro F1 = 0.3825, Final Metric = 0.6483\n",
      "Epoch 35: Train Loss = 1.0432, Val Loss = 2.2275\n",
      "  Binary F1 = 0.9195, Macro F1 = 0.4016, Final Metric = 0.6605\n",
      "Epoch 36: Train Loss = 0.9492, Val Loss = 2.0678\n",
      "  Binary F1 = 0.8746, Macro F1 = 0.3982, Final Metric = 0.6364\n",
      "Epoch 37: Train Loss = 0.9680, Val Loss = 2.2854\n",
      "  Binary F1 = 0.9232, Macro F1 = 0.3775, Final Metric = 0.6503\n",
      "Epoch 38: Train Loss = 1.0308, Val Loss = 2.3770\n",
      "  Binary F1 = 0.9027, Macro F1 = 0.3642, Final Metric = 0.6334\n",
      "Epoch 39: Train Loss = 0.9729, Val Loss = 2.3996\n",
      "  Binary F1 = 0.8849, Macro F1 = 0.3675, Final Metric = 0.6262\n",
      "Epoch 40: Train Loss = 0.9462, Val Loss = 2.2890\n",
      "  Binary F1 = 0.8255, Macro F1 = 0.3762, Final Metric = 0.6008\n",
      "Epoch 41: Train Loss = 1.0325, Val Loss = 2.1324\n",
      "  Binary F1 = 0.9156, Macro F1 = 0.4112, Final Metric = 0.6634\n",
      "Epoch 42: Train Loss = 0.8788, Val Loss = 2.0626\n",
      "  Binary F1 = 0.8990, Macro F1 = 0.4139, Final Metric = 0.6565\n",
      "Epoch 43: Train Loss = 0.9060, Val Loss = 2.1309\n",
      "  Binary F1 = 0.8992, Macro F1 = 0.4066, Final Metric = 0.6529\n",
      "Epoch 44: Train Loss = 0.9414, Val Loss = 2.1764\n",
      "  Binary F1 = 0.8387, Macro F1 = 0.3959, Final Metric = 0.6173\n",
      "Epoch 45: Train Loss = 0.9230, Val Loss = 2.2000\n",
      "  Binary F1 = 0.9081, Macro F1 = 0.3874, Final Metric = 0.6477\n",
      "Epoch 46: Train Loss = 1.0458, Val Loss = 2.0829\n",
      "  Binary F1 = 0.8996, Macro F1 = 0.3891, Final Metric = 0.6444\n",
      "Epoch 47: Train Loss = 0.9919, Val Loss = 2.2002\n",
      "  Binary F1 = 0.8784, Macro F1 = 0.3835, Final Metric = 0.6309\n",
      "Epoch 48: Train Loss = 0.9215, Val Loss = 2.1762\n",
      "  Binary F1 = 0.8565, Macro F1 = 0.3938, Final Metric = 0.6251\n",
      "Epoch 49: Train Loss = 1.0049, Val Loss = 2.1886\n",
      "  Binary F1 = 0.9067, Macro F1 = 0.3953, Final Metric = 0.6510\n",
      "Epoch 50: Train Loss = 0.9766, Val Loss = 2.1506\n",
      "  Binary F1 = 0.8972, Macro F1 = 0.3850, Final Metric = 0.6411\n",
      "Epoch 51: Train Loss = 1.0031, Val Loss = 2.2967\n",
      "  Binary F1 = 0.8797, Macro F1 = 0.3802, Final Metric = 0.6299\n",
      "Epoch 52: Train Loss = 0.8991, Val Loss = 2.0562\n",
      "  Binary F1 = 0.8708, Macro F1 = 0.4054, Final Metric = 0.6381\n",
      "Epoch 53: Train Loss = 0.8728, Val Loss = 2.1959\n",
      "  Binary F1 = 0.8914, Macro F1 = 0.3897, Final Metric = 0.6405\n",
      "Epoch 54: Train Loss = 0.9470, Val Loss = 2.0797\n",
      "  Binary F1 = 0.8684, Macro F1 = 0.3965, Final Metric = 0.6325\n",
      "Epoch 55: Train Loss = 0.9426, Val Loss = 2.0623\n",
      "  Binary F1 = 0.8849, Macro F1 = 0.3834, Final Metric = 0.6342\n",
      "Epoch 56: Train Loss = 0.8627, Val Loss = 2.0961\n",
      "  Binary F1 = 0.8306, Macro F1 = 0.3828, Final Metric = 0.6067\n",
      "Epoch 57: Train Loss = 1.0178, Val Loss = 2.1846\n",
      "  Binary F1 = 0.9201, Macro F1 = 0.3740, Final Metric = 0.6471\n",
      "Epoch 58: Train Loss = 1.0053, Val Loss = 2.1996\n",
      "  Binary F1 = 0.9212, Macro F1 = 0.4006, Final Metric = 0.6609\n",
      "Epoch 59: Train Loss = 0.9061, Val Loss = 2.1009\n",
      "  Binary F1 = 0.9142, Macro F1 = 0.3892, Final Metric = 0.6517\n",
      "Epoch 60: Train Loss = 0.8929, Val Loss = 2.0613\n",
      "  Binary F1 = 0.9226, Macro F1 = 0.4016, Final Metric = 0.6621\n",
      "Epoch 61: Train Loss = 0.8671, Val Loss = 2.1684\n",
      "  Binary F1 = 0.8706, Macro F1 = 0.3895, Final Metric = 0.6301\n",
      "Epoch 62: Train Loss = 0.9280, Val Loss = 2.0670\n",
      "  Binary F1 = 0.8894, Macro F1 = 0.3918, Final Metric = 0.6406\n",
      "Epoch 63: Train Loss = 0.9072, Val Loss = 2.0550\n",
      "  Binary F1 = 0.8625, Macro F1 = 0.4027, Final Metric = 0.6326\n",
      "Epoch 64: Train Loss = 0.9714, Val Loss = 2.0994\n",
      "  Binary F1 = 0.8698, Macro F1 = 0.3843, Final Metric = 0.6270\n",
      "Epoch 65: Train Loss = 0.9182, Val Loss = 2.1270\n",
      "  Binary F1 = 0.8781, Macro F1 = 0.3850, Final Metric = 0.6316\n",
      "Epoch 66: Train Loss = 0.9051, Val Loss = 2.1553\n",
      "  Binary F1 = 0.8281, Macro F1 = 0.3898, Final Metric = 0.6090\n",
      "Epoch 67: Train Loss = 0.9336, Val Loss = 2.2244\n",
      "  Binary F1 = 0.9174, Macro F1 = 0.3928, Final Metric = 0.6551\n",
      "Epoch 68: Train Loss = 0.9220, Val Loss = 2.1247\n",
      "  Binary F1 = 0.9040, Macro F1 = 0.3940, Final Metric = 0.6490\n",
      "Epoch 69: Train Loss = 0.9136, Val Loss = 2.1253\n",
      "  Binary F1 = 0.8847, Macro F1 = 0.3830, Final Metric = 0.6339\n",
      "Epoch 70: Train Loss = 0.9859, Val Loss = 2.1964\n",
      "  Binary F1 = 0.8960, Macro F1 = 0.3734, Final Metric = 0.6347\n",
      "Early stopping triggered at epoch 70\n",
      "\n",
      "Fold 4 completed.\n",
      "Final validation metrics - Binary F1: 0.8960, Macro F1: 0.3734, Final: 0.6347\n",
      "Best validation metrics - Binary F1: 0.9264, Macro F1: 0.4070, Final: 0.6667\n",
      "training: 5\n",
      "\n",
      "==================================================\n",
      "Fold 5/5\n",
      "Epoch 01: Train Loss = 2.8854, Val Loss = 2.8519\n",
      "  Binary F1 = 0.7746, Macro F1 = 0.0307, Final Metric = 0.4026\n",
      "  New best metric! Saving model...\n",
      "Epoch 02: Train Loss = 2.7194, Val Loss = 2.5635\n",
      "  Binary F1 = 0.7499, Macro F1 = 0.1530, Final Metric = 0.4514\n",
      "  New best metric! Saving model...\n",
      "Epoch 03: Train Loss = 2.3303, Val Loss = 2.3143\n",
      "  Binary F1 = 0.8237, Macro F1 = 0.2753, Final Metric = 0.5495\n",
      "  New best metric! Saving model...\n",
      "Epoch 04: Train Loss = 2.0671, Val Loss = 2.2233\n",
      "  Binary F1 = 0.9066, Macro F1 = 0.3176, Final Metric = 0.6121\n",
      "  New best metric! Saving model...\n",
      "Epoch 05: Train Loss = 1.8844, Val Loss = 2.1854\n",
      "  Binary F1 = 0.9212, Macro F1 = 0.3154, Final Metric = 0.6183\n",
      "  New best metric! Saving model...\n",
      "Epoch 06: Train Loss = 1.7645, Val Loss = 2.1600\n",
      "  Binary F1 = 0.9153, Macro F1 = 0.3525, Final Metric = 0.6339\n",
      "  New best metric! Saving model...\n",
      "Epoch 07: Train Loss = 1.6859, Val Loss = 2.1011\n",
      "  Binary F1 = 0.9093, Macro F1 = 0.3617, Final Metric = 0.6355\n",
      "  New best metric! Saving model...\n",
      "Epoch 08: Train Loss = 1.5927, Val Loss = 2.1013\n",
      "  Binary F1 = 0.9262, Macro F1 = 0.3875, Final Metric = 0.6569\n",
      "  New best metric! Saving model...\n",
      "Epoch 09: Train Loss = 1.5560, Val Loss = 2.0133\n",
      "  Binary F1 = 0.9231, Macro F1 = 0.3901, Final Metric = 0.6566\n",
      "Epoch 10: Train Loss = 1.4888, Val Loss = 2.2000\n",
      "  Binary F1 = 0.9235, Macro F1 = 0.3853, Final Metric = 0.6544\n",
      "Epoch 11: Train Loss = 1.4489, Val Loss = 2.2232\n",
      "  Binary F1 = 0.9175, Macro F1 = 0.3730, Final Metric = 0.6453\n",
      "Epoch 12: Train Loss = 1.3779, Val Loss = 2.1255\n",
      "  Binary F1 = 0.9082, Macro F1 = 0.3908, Final Metric = 0.6495\n",
      "Epoch 13: Train Loss = 1.4357, Val Loss = 2.2246\n",
      "  Binary F1 = 0.9170, Macro F1 = 0.3762, Final Metric = 0.6466\n",
      "Epoch 14: Train Loss = 1.3858, Val Loss = 2.0878\n",
      "  Binary F1 = 0.9160, Macro F1 = 0.3964, Final Metric = 0.6562\n",
      "Epoch 15: Train Loss = 1.3817, Val Loss = 2.0276\n",
      "  Binary F1 = 0.9247, Macro F1 = 0.3813, Final Metric = 0.6530\n",
      "Epoch 16: Train Loss = 1.2519, Val Loss = 2.2358\n",
      "  Binary F1 = 0.9269, Macro F1 = 0.3822, Final Metric = 0.6546\n",
      "Epoch 17: Train Loss = 1.2661, Val Loss = 2.1319\n",
      "  Binary F1 = 0.9064, Macro F1 = 0.3949, Final Metric = 0.6506\n",
      "Epoch 18: Train Loss = 1.2243, Val Loss = 2.2162\n",
      "  Binary F1 = 0.9050, Macro F1 = 0.3681, Final Metric = 0.6365\n",
      "Epoch 19: Train Loss = 1.2478, Val Loss = 2.4670\n",
      "  Binary F1 = 0.9276, Macro F1 = 0.3639, Final Metric = 0.6458\n",
      "Epoch 20: Train Loss = 1.2226, Val Loss = 2.1357\n",
      "  Binary F1 = 0.9341, Macro F1 = 0.3719, Final Metric = 0.6530\n",
      "Epoch 21: Train Loss = 1.2936, Val Loss = 2.2163\n",
      "  Binary F1 = 0.9392, Macro F1 = 0.3703, Final Metric = 0.6548\n",
      "Epoch 22: Train Loss = 1.2030, Val Loss = 2.2380\n",
      "  Binary F1 = 0.9196, Macro F1 = 0.3782, Final Metric = 0.6489\n",
      "Epoch 23: Train Loss = 1.1369, Val Loss = 2.2614\n",
      "  Binary F1 = 0.9376, Macro F1 = 0.3752, Final Metric = 0.6564\n",
      "Epoch 24: Train Loss = 1.1027, Val Loss = 2.1856\n",
      "  Binary F1 = 0.9444, Macro F1 = 0.3973, Final Metric = 0.6708\n",
      "  New best metric! Saving model...\n",
      "Epoch 25: Train Loss = 1.1147, Val Loss = 2.2019\n",
      "  Binary F1 = 0.9427, Macro F1 = 0.3814, Final Metric = 0.6620\n",
      "Epoch 26: Train Loss = 1.0564, Val Loss = 2.2592\n",
      "  Binary F1 = 0.9284, Macro F1 = 0.3917, Final Metric = 0.6600\n",
      "Epoch 27: Train Loss = 1.0347, Val Loss = 2.2858\n",
      "  Binary F1 = 0.9183, Macro F1 = 0.3862, Final Metric = 0.6523\n",
      "Epoch 28: Train Loss = 1.0556, Val Loss = 2.3154\n",
      "  Binary F1 = 0.9411, Macro F1 = 0.3807, Final Metric = 0.6609\n",
      "Epoch 29: Train Loss = 0.9503, Val Loss = 2.1861\n",
      "  Binary F1 = 0.9177, Macro F1 = 0.3800, Final Metric = 0.6489\n",
      "Epoch 30: Train Loss = 1.0911, Val Loss = 2.3815\n",
      "  Binary F1 = 0.9132, Macro F1 = 0.3933, Final Metric = 0.6532\n",
      "Epoch 31: Train Loss = 1.0702, Val Loss = 2.2618\n",
      "  Binary F1 = 0.8943, Macro F1 = 0.3643, Final Metric = 0.6293\n",
      "Epoch 32: Train Loss = 1.0627, Val Loss = 2.2987\n",
      "  Binary F1 = 0.8659, Macro F1 = 0.3777, Final Metric = 0.6218\n",
      "Epoch 33: Train Loss = 1.0125, Val Loss = 2.2367\n",
      "  Binary F1 = 0.9369, Macro F1 = 0.3751, Final Metric = 0.6560\n",
      "Epoch 34: Train Loss = 1.0107, Val Loss = 2.3918\n",
      "  Binary F1 = 0.9114, Macro F1 = 0.3988, Final Metric = 0.6551\n",
      "Epoch 35: Train Loss = 1.0932, Val Loss = 2.2997\n",
      "  Binary F1 = 0.9281, Macro F1 = 0.3833, Final Metric = 0.6557\n",
      "Epoch 36: Train Loss = 0.9668, Val Loss = 2.2310\n",
      "  Binary F1 = 0.9330, Macro F1 = 0.3819, Final Metric = 0.6575\n",
      "Epoch 37: Train Loss = 1.0153, Val Loss = 2.1744\n",
      "  Binary F1 = 0.9271, Macro F1 = 0.3965, Final Metric = 0.6618\n",
      "Epoch 38: Train Loss = 1.0353, Val Loss = 2.2648\n",
      "  Binary F1 = 0.9522, Macro F1 = 0.4011, Final Metric = 0.6767\n",
      "  New best metric! Saving model...\n",
      "Epoch 39: Train Loss = 0.9865, Val Loss = 2.3433\n",
      "  Binary F1 = 0.9424, Macro F1 = 0.3859, Final Metric = 0.6641\n",
      "Epoch 40: Train Loss = 0.9272, Val Loss = 2.1911\n",
      "  Binary F1 = 0.9054, Macro F1 = 0.3961, Final Metric = 0.6507\n",
      "Epoch 41: Train Loss = 0.9355, Val Loss = 2.1930\n",
      "  Binary F1 = 0.9050, Macro F1 = 0.3970, Final Metric = 0.6510\n",
      "Epoch 42: Train Loss = 0.9561, Val Loss = 2.1423\n",
      "  Binary F1 = 0.9090, Macro F1 = 0.3905, Final Metric = 0.6497\n",
      "Epoch 43: Train Loss = 0.9491, Val Loss = 2.3092\n",
      "  Binary F1 = 0.9097, Macro F1 = 0.3893, Final Metric = 0.6495\n",
      "Epoch 44: Train Loss = 0.9560, Val Loss = 2.1887\n",
      "  Binary F1 = 0.8972, Macro F1 = 0.3834, Final Metric = 0.6403\n",
      "Epoch 45: Train Loss = 1.0040, Val Loss = 2.2874\n",
      "  Binary F1 = 0.9410, Macro F1 = 0.3757, Final Metric = 0.6583\n",
      "Epoch 46: Train Loss = 0.9897, Val Loss = 2.2560\n",
      "  Binary F1 = 0.9328, Macro F1 = 0.3817, Final Metric = 0.6572\n",
      "Epoch 47: Train Loss = 0.9074, Val Loss = 2.1461\n",
      "  Binary F1 = 0.9150, Macro F1 = 0.3891, Final Metric = 0.6520\n",
      "Epoch 48: Train Loss = 0.9179, Val Loss = 2.2483\n",
      "  Binary F1 = 0.9504, Macro F1 = 0.3890, Final Metric = 0.6697\n",
      "Epoch 49: Train Loss = 0.9376, Val Loss = 2.1918\n",
      "  Binary F1 = 0.9190, Macro F1 = 0.3775, Final Metric = 0.6482\n",
      "Epoch 50: Train Loss = 0.9469, Val Loss = 2.2635\n",
      "  Binary F1 = 0.9552, Macro F1 = 0.3925, Final Metric = 0.6738\n",
      "Epoch 51: Train Loss = 0.9990, Val Loss = 2.1919\n",
      "  Binary F1 = 0.9247, Macro F1 = 0.3961, Final Metric = 0.6604\n",
      "Epoch 52: Train Loss = 0.9501, Val Loss = 2.2426\n",
      "  Binary F1 = 0.9415, Macro F1 = 0.3761, Final Metric = 0.6588\n",
      "Epoch 53: Train Loss = 0.9424, Val Loss = 2.1768\n",
      "  Binary F1 = 0.9291, Macro F1 = 0.3862, Final Metric = 0.6576\n",
      "Epoch 54: Train Loss = 0.8977, Val Loss = 2.1297\n",
      "  Binary F1 = 0.9468, Macro F1 = 0.3909, Final Metric = 0.6689\n",
      "Epoch 55: Train Loss = 0.8908, Val Loss = 2.1175\n",
      "  Binary F1 = 0.9425, Macro F1 = 0.3947, Final Metric = 0.6686\n",
      "Epoch 56: Train Loss = 0.8637, Val Loss = 2.0961\n",
      "  Binary F1 = 0.8719, Macro F1 = 0.3792, Final Metric = 0.6255\n",
      "Epoch 57: Train Loss = 0.8969, Val Loss = 2.1264\n",
      "  Binary F1 = 0.9375, Macro F1 = 0.3779, Final Metric = 0.6577\n",
      "Epoch 58: Train Loss = 0.9212, Val Loss = 2.2139\n",
      "  Binary F1 = 0.9233, Macro F1 = 0.3701, Final Metric = 0.6467\n",
      "Epoch 59: Train Loss = 0.8457, Val Loss = 2.1691\n",
      "  Binary F1 = 0.9308, Macro F1 = 0.3892, Final Metric = 0.6600\n",
      "Epoch 60: Train Loss = 0.9976, Val Loss = 2.1356\n",
      "  Binary F1 = 0.9389, Macro F1 = 0.3930, Final Metric = 0.6659\n",
      "Epoch 61: Train Loss = 0.8945, Val Loss = 2.1036\n",
      "  Binary F1 = 0.9023, Macro F1 = 0.3936, Final Metric = 0.6479\n",
      "Epoch 62: Train Loss = 0.9226, Val Loss = 2.1769\n",
      "  Binary F1 = 0.9391, Macro F1 = 0.3829, Final Metric = 0.6610\n",
      "Epoch 63: Train Loss = 0.9323, Val Loss = 2.1259\n",
      "  Binary F1 = 0.9124, Macro F1 = 0.3879, Final Metric = 0.6501\n",
      "Epoch 64: Train Loss = 0.9885, Val Loss = 2.0769\n",
      "  Binary F1 = 0.9070, Macro F1 = 0.3812, Final Metric = 0.6441\n",
      "Epoch 65: Train Loss = 0.9335, Val Loss = 2.1074\n",
      "  Binary F1 = 0.9331, Macro F1 = 0.3996, Final Metric = 0.6663\n",
      "Epoch 66: Train Loss = 0.9567, Val Loss = 2.1635\n",
      "  Binary F1 = 0.9387, Macro F1 = 0.3726, Final Metric = 0.6556\n",
      "Epoch 67: Train Loss = 0.8663, Val Loss = 2.1433\n",
      "  Binary F1 = 0.9382, Macro F1 = 0.3881, Final Metric = 0.6631\n",
      "Epoch 68: Train Loss = 0.8113, Val Loss = 2.1410\n",
      "  Binary F1 = 0.9321, Macro F1 = 0.3932, Final Metric = 0.6627\n",
      "Epoch 69: Train Loss = 0.9180, Val Loss = 2.0717\n",
      "  Binary F1 = 0.9470, Macro F1 = 0.3959, Final Metric = 0.6715\n",
      "Epoch 70: Train Loss = 0.9440, Val Loss = 2.1388\n",
      "  Binary F1 = 0.9456, Macro F1 = 0.3806, Final Metric = 0.6631\n",
      "Epoch 71: Train Loss = 0.9396, Val Loss = 2.1209\n",
      "  Binary F1 = 0.9329, Macro F1 = 0.3826, Final Metric = 0.6578\n",
      "Epoch 72: Train Loss = 0.8623, Val Loss = 2.0346\n",
      "  Binary F1 = 0.9428, Macro F1 = 0.3916, Final Metric = 0.6672\n",
      "Epoch 73: Train Loss = 0.8988, Val Loss = 2.0863\n",
      "  Binary F1 = 0.9306, Macro F1 = 0.3758, Final Metric = 0.6532\n",
      "Epoch 74: Train Loss = 0.9221, Val Loss = 2.0900\n",
      "  Binary F1 = 0.9374, Macro F1 = 0.3876, Final Metric = 0.6625\n",
      "Epoch 75: Train Loss = 0.9022, Val Loss = 2.0456\n",
      "  Binary F1 = 0.8891, Macro F1 = 0.3825, Final Metric = 0.6358\n",
      "Epoch 76: Train Loss = 0.8925, Val Loss = 2.1785\n",
      "  Binary F1 = 0.9127, Macro F1 = 0.3839, Final Metric = 0.6483\n",
      "Epoch 77: Train Loss = 0.9045, Val Loss = 2.1138\n",
      "  Binary F1 = 0.9239, Macro F1 = 0.3901, Final Metric = 0.6570\n",
      "Epoch 78: Train Loss = 0.8579, Val Loss = 2.0443\n",
      "  Binary F1 = 0.9297, Macro F1 = 0.3979, Final Metric = 0.6638\n",
      "Early stopping triggered at epoch 78\n",
      "\n",
      "Fold 5 completed.\n",
      "Final validation metrics - Binary F1: 0.9297, Macro F1: 0.3979, Final: 0.6638\n",
      "Best validation metrics - Binary F1: 0.9522, Macro F1: 0.4011, Final: 0.6767\n",
      "\n",
      "==================================================\n",
      "Cross-Validation Results\n",
      "==================================================\n",
      "\n",
      "Best Fold-wise Metrics:\n",
      "Fold 1: Binary F1 = 0.9415, Macro F1 = 0.4351, Final = 0.6883\n",
      "Fold 2: Binary F1 = 0.9369, Macro F1 = 0.3859, Final = 0.6614\n",
      "Fold 3: Binary F1 = 0.9378, Macro F1 = 0.4481, Final = 0.6929\n",
      "Fold 4: Binary F1 = 0.9264, Macro F1 = 0.4070, Final = 0.6667\n",
      "Fold 5: Binary F1 = 0.9522, Macro F1 = 0.4011, Final = 0.6767\n",
      "\n",
      "Global Statistics (Best Metrics):\n",
      "Mean Best Final Metric: 0.6772 ± 0.0121\n",
      "Mean Best Binary F1: 0.9389 ± 0.0083\n",
      "Mean Best Macro F1: 0.4154 ± 0.0228\n"
     ]
    }
   ],
   "source": [
    "seed_everything(seed=SEED)\n",
    "\n",
    "n_splits = 5\n",
    "\n",
    "fold_metrics = []\n",
    "best_fold_metrics = []\n",
    "best_models = []\n",
    "\n",
    "fold_patterns = join(dataset_path, \"preprocessed_dataset\", \"fold*\")\n",
    "fold_pths = glob(fold_patterns)\n",
    "all_training_metrics = {}\n",
    "\n",
    "for fold, fold_pth in enumerate(fold_pths):\n",
    "    print(\"training:\", fold + 1)\n",
    "    train_dataset = CMIDataset(fold_pth, \"train\")\n",
    "    # criterion = compute_weighted_cross_entropy_loss(train_dataset)\n",
    "    criterion = torch.nn.CrossEntropyLoss(label_smoothing=0.1)\n",
    "    train_loader = DL(train_dataset, TRAIN_BATCH_SIZE, shuffle=True)\n",
    "    validation_dataset = CMIDataset(fold_pth, \"validation\")\n",
    "    validation_loader = DL(validation_dataset, VALIDATION_BATCH_SIZE, shuffle=False)\n",
    "    print(f\"\\n{'='*50}\")\n",
    "    print(f\"Fold {fold + 1}/{n_splits}\")\n",
    "\n",
    "    seed_everything(seed=SEED + fold)\n",
    "    model = mk_model()\n",
    "\n",
    "    # Optimizer et scheduler\n",
    "    min_lr = max_lr / 100\n",
    "    optimizer = torch.optim.AdamW(\n",
    "        model.parameters(),\n",
    "        WARMUP_LR_INIT,\n",
    "        weight_decay=WEIGHT_DECAY,\n",
    "    )\n",
    "    steps_per_epoch = len(train_loader)\n",
    "    n_training_steps = TRAINING_EPOCHS * len(train_loader)\n",
    "    scheduler = CosineAnnealingWarmupRestarts(\n",
    "        optimizer,\n",
    "        warmup_steps=WARMUP_EPOCHS * steps_per_epoch,\n",
    "        max_lr = MAX_LR,\n",
    "        min_lr = MIN_LR,\n",
    "        cycle_length=(TRAINING_EPOCHS - WARMUP_EPOCHS) * steps_per_epoch,\n",
    "        # gamma=0.9,\n",
    "    ) \n",
    "\n",
    "\n",
    "    # Early stopping\n",
    "    best_metric = -np.inf\n",
    "    best_binary_f1 = -np.inf\n",
    "    best_macro_f1 = -np.inf\n",
    "    epochs_no_improve = 0\n",
    "\n",
    "    for epoch in range(1, TRAINING_EPOCHS + 1):\n",
    "        # Training phase\n",
    "        model.train()\n",
    "        train_loss = 0.0\n",
    "        total = 0\n",
    "        for batch_x, batch_y in train_loader:\n",
    "            batch_x = batch_x.to(device).clone()\n",
    "            add_noise = torch.randn_like(batch_x, device=device) * 0.04\n",
    "            scale_noise = torch.rand_like(batch_x, device=device) * (1.1 - 0.9) + 0.9\n",
    "            batch_x = (add_noise + batch_x) * scale_noise\n",
    "            batch_y = batch_y.to(device)\n",
    "            batch_x = batch_x.float()\n",
    "            \n",
    "            batch_x, batch_y = mixup_data(batch_x, batch_y)\n",
    "    \n",
    "            optimizer.zero_grad()\n",
    "            outputs = model(batch_x)\n",
    "            loss = criterion(outputs, batch_y)\n",
    "            loss.backward()\n",
    "            optimizer.step()\n",
    "            scheduler.step()\n",
    "\n",
    "            train_loss += loss.item() * batch_x.size(0)\n",
    "            total += batch_x.size(0)\n",
    "        train_loss /= total\n",
    "\n",
    "        # Validation phase\n",
    "        model.eval()\n",
    "        val_loss = 0.0\n",
    "        total = 0\n",
    "        all_true = []\n",
    "        all_pred = []\n",
    "        \n",
    "        with torch.no_grad():\n",
    "            for batch_x, batch_y in validation_loader:\n",
    "                batch_x = batch_x.to(device).clone()\n",
    "                batch_y = batch_y.to(device)\n",
    "                batch_x[:VALIDATION_BATCH_SIZE // 2, non_imu_feats_idx] = 0.0\n",
    "                \n",
    "                outputs = model(batch_x)\n",
    "                loss = criterion(outputs, batch_y)\n",
    "                val_loss += loss.item() * batch_x.size(0)\n",
    "                total += batch_x.size(0)\n",
    "                \n",
    "                # Get predicted class indices\n",
    "                preds = torch.argmax(outputs, dim=1).cpu().numpy()\n",
    "                # Get true class indices from one-hot\n",
    "                trues = torch.argmax(batch_y, dim=1).cpu().numpy()\n",
    "                \n",
    "                all_true.append(trues)\n",
    "                all_pred.append(preds)\n",
    "\n",
    "        val_loss /= total\n",
    "        all_true = np.concatenate(all_true)\n",
    "        all_pred = np.concatenate(all_pred)\n",
    "\n",
    "        # Compute competition metrics\n",
    "        # Binary classification: BFRB (1) vs non-BFRB (0)\n",
    "        binary_true = np.isin(all_true, bfrb_indices).astype(int)\n",
    "        binary_pred = np.isin(all_pred, bfrb_indices).astype(int)\n",
    "        binary_f1 = f1_score(binary_true, binary_pred)\n",
    "        \n",
    "        # Collapse non-BFRB gestures into a single class\n",
    "        collapsed_true = np.where(\n",
    "            np.isin(all_true, bfrb_indices),\n",
    "            all_true,\n",
    "            len(bfrb_gestures)  # Single non-BFRB class\n",
    "        )\n",
    "        collapsed_pred = np.where(\n",
    "            np.isin(all_pred, bfrb_indices),\n",
    "            all_pred,\n",
    "            len(bfrb_gestures)  # Single non-BFRB class\n",
    "        )\n",
    "\n",
    "        # Macro F1 on collapsed classes\n",
    "        macro_f1 = f1_score(collapsed_true, collapsed_pred, average='macro')\n",
    "        final_metric = (binary_f1 + macro_f1) / 2\n",
    "\n",
    "        print(f\"Epoch {epoch:02d}: Train Loss = {train_loss:.4f}, Val Loss = {val_loss:.4f}\")\n",
    "        print(f\"  Binary F1 = {binary_f1:.4f}, Macro F1 = {macro_f1:.4f}, Final Metric = {final_metric:.4f}\")\n",
    "\n",
    "        if final_metric > best_metric:\n",
    "            best_metric = final_metric\n",
    "            best_binary_f1 = binary_f1\n",
    "            best_macro_f1 = macro_f1\n",
    "            epochs_no_improve = 0\n",
    "            best_model_state = model.state_dict()\n",
    "            print(f\"  New best metric! Saving model...\")\n",
    "        else:\n",
    "            epochs_no_improve += 1\n",
    "            if epochs_no_improve >= PATIENCE:\n",
    "                print(f\"Early stopping triggered at epoch {epoch}\")\n",
    "                model.load_state_dict(best_model_state)\n",
    "                break\n",
    "\n",
    "    torch.save(best_model_state, f\"best_model_fold{fold}.pth\")\n",
    "    # Free memory used by datasets and data loaders\n",
    "    del train_dataset\n",
    "    del validation_dataset\n",
    "    del train_loader\n",
    "    del validation_loader\n",
    "    gc.collect()\n",
    "    torch.cuda.empty_cache()\n",
    "\n",
    "    best_models.append(best_model_state)\n",
    "    fold_metrics.append({\n",
    "        'binary_f1': binary_f1,\n",
    "        'macro_f1': macro_f1,\n",
    "        'final_metric': final_metric\n",
    "    })\n",
    "    \n",
    "    best_fold_metrics.append({\n",
    "        'binary_f1': best_binary_f1,\n",
    "        'macro_f1': best_macro_f1,\n",
    "        'final_metric': best_metric\n",
    "    })\n",
    "    \n",
    "    print(f\"\\nFold {fold + 1} completed.\")\n",
    "    print(f\"Final validation metrics - Binary F1: {binary_f1:.4f}, Macro F1: {macro_f1:.4f}, Final: {final_metric:.4f}\")\n",
    "    print(f\"Best validation metrics - Binary F1: {best_binary_f1:.4f}, Macro F1: {best_macro_f1:.4f}, Final: {best_metric:.4f}\")\n",
    "\n",
    "print(\"\\n\" + \"=\"*50)\n",
    "print(\"Cross-Validation Results\")\n",
    "print(\"=\"*50)\n",
    "\n",
    "# Statistiques pour les meilleures métriques\n",
    "best_binary_f1 = [m['binary_f1'] for m in best_fold_metrics]\n",
    "best_macro_f1 = [m['macro_f1'] for m in best_fold_metrics]\n",
    "best_metrics = [m['final_metric'] for m in best_fold_metrics]\n",
    "\n",
    "print(\"\\nBest Fold-wise Metrics:\")\n",
    "for i, (bf1, mf1, fm) in enumerate(zip(best_binary_f1, best_macro_f1, best_metrics)):\n",
    "    print(f\"Fold {i+1}: Binary F1 = {bf1:.4f}, Macro F1 = {mf1:.4f}, Final = {fm:.4f}\")\n",
    "\n",
    "print(\"\\nGlobal Statistics (Best Metrics):\")\n",
    "print(f\"Mean Best Final Metric: {np.mean(best_metrics):.4f} ± {np.std(best_metrics):.4f}\")\n",
    "print(f\"Mean Best Binary F1: {np.mean(best_binary_f1):.4f} ± {np.std(best_binary_f1):.4f}\")\n",
    "print(f\"Mean Best Macro F1: {np.mean(best_macro_f1):.4f} ± {np.std(best_macro_f1):.4f}\")"
   ]
  },
  {
   "cell_type": "markdown",
   "id": "07ea7558",
   "metadata": {
    "papermill": {
     "duration": 0.012909,
     "end_time": "2025-06-14T10:09:14.961270",
     "exception": false,
     "start_time": "2025-06-14T10:09:14.948361",
     "status": "completed"
    },
    "tags": []
   },
   "source": [
    "## Submission"
   ]
  },
  {
   "cell_type": "markdown",
   "id": "3aea5e4f",
   "metadata": {
    "papermill": {
     "duration": 0.012906,
     "end_time": "2025-06-14T10:09:14.780212",
     "exception": false,
     "start_time": "2025-06-14T10:09:14.767306",
     "status": "completed"
    },
    "tags": []
   },
   "source": [
    "### Reloading best model"
   ]
  },
  {
   "cell_type": "code",
   "execution_count": null,
   "id": "a0574d4d",
   "metadata": {
    "execution": {
     "iopub.execute_input": "2025-06-14T10:09:14.807902Z",
     "iopub.status.busy": "2025-06-14T10:09:14.807165Z",
     "iopub.status.idle": "2025-06-14T10:09:14.933288Z",
     "shell.execute_reply": "2025-06-14T10:09:14.932459Z"
    },
    "papermill": {
     "duration": 0.141435,
     "end_time": "2025-06-14T10:09:14.934745",
     "exception": false,
     "start_time": "2025-06-14T10:09:14.793310",
     "status": "completed"
    },
    "tags": []
   },
   "outputs": [],
   "source": [
    "model_ensemble = []\n",
    "for fold in range(5):\n",
    "    model = mk_model().to(device)\n",
    "    checkpoint = torch.load(f\"best_model_fold{fold}.pth\", map_location=device, weights_only=True)\n",
    "    model.load_state_dict(checkpoint)\n",
    "    model.eval()\n",
    "    model_ensemble.append(model)"
   ]
  },
  {
   "cell_type": "markdown",
   "id": "a826dec8",
   "metadata": {},
   "source": [
    "### Define preprocessing function"
   ]
  },
  {
   "cell_type": "code",
   "execution_count": null,
   "id": "481e69b6",
   "metadata": {},
   "outputs": [],
   "source": [
    "def get_fillna_val_per_feature_col(df:DF) -> dict:\n",
    "    return {col: 1.0 if col == 'rot_w' else 0 for col in get_feature_cols(df)}\n",
    "\n",
    "def imputed_features(df:DF) -> DF:\n",
    "    # Missing ToF values are already imputed by -1 which is inconvinient since we want all missing values to be NaN.    \n",
    "    # So we replace them by NaN and then perform imputing.  \n",
    "    tof_vals_to_nan = {col: -1.0 for col in df.columns if col.startswith(\"tof\")}\n",
    "\n",
    "    df[get_feature_cols(df)] = (\n",
    "        df\n",
    "        .loc[:, get_feature_cols(df)]\n",
    "        # df.replace with np.nan sets dtype to floar64 so we set it back to float32\n",
    "        .replace(tof_vals_to_nan, value=np.nan)\n",
    "        .astype(\"float32\")\n",
    "        .groupby(df[\"sequence_id\"], observed=True, as_index=False)\n",
    "        .ffill()\n",
    "        .groupby(df[\"sequence_id\"], observed=True, as_index=False)\n",
    "        .bfill()\n",
    "        # In case there are only nan in the column in the sequence\n",
    "        .fillna(get_fillna_val_per_feature_col(df))\n",
    "    )\n",
    "    return df\n",
    "\n",
    "def norm_quat_rotations(df:DF) -> DF:\n",
    "    df[QUATERNION_COLS] /= np.linalg.norm(df[QUATERNION_COLS], axis=1, keepdims=True)\n",
    "    return df\n",
    "\n",
    "def add_linear_acc_cols(df:DF) -> DF:\n",
    "    # Vectorized version of https://www.kaggle.com/code/wasupandceacar/lb-0-82-5fold-single-bert-model#Dataset `remove_gravity_from_acc`\n",
    "    rotations:Rotation = Rotation.from_quat(df[QUATERNION_COLS])\n",
    "    gravity_sensor_frame = rotations.apply(GRAVITY_WORLD, inverse=True).astype(\"float32\")\n",
    "    df[LINEAR_ACC_COLS] = df[RAW_ACCELRATION_COLS] - gravity_sensor_frame\n",
    "    return df\n",
    "\n",
    "def add_acc_magnitude(df:DF, acc_cols:list[str], acc_mag_col_name:str) -> DF:\n",
    "    return df.assign(**{acc_mag_col_name: np.linalg.norm(df.loc[:, acc_cols], axis=1)})\n",
    "\n",
    "def add_quat_angle_mag(df:DF) -> DF:\n",
    "    return df.assign(quat_rot_mag=np.arccos(df[\"rot_w\"]) * 2)\n",
    "\n",
    "def add_angular_velocity_features(df:DF) -> DF:\n",
    "    rotations = Rotation.from_quat(df[QUATERNION_COLS])\n",
    "    delta_rotations = rotations[1:] * rotations[:-1].inv()\n",
    "    delta_rot_velocity = delta_rotations.as_rotvec()\n",
    "    # Add extra line to avoid shape mismatch\n",
    "    delta_rot_velocity = np.vstack((np.zeros((1, 3)), delta_rot_velocity))\n",
    "    delta_rot_magnitude = norm(delta_rot_velocity, axis=1, keepdims=True)\n",
    "    delta_rot_axes = delta_rot_velocity / (delta_rot_magnitude + EPSILON)\n",
    "    df[DELTA_ROTATION_ANGULAR_VELOCITY_COLS] = delta_rot_velocity\n",
    "    df[DELTA_ROTATION_AXES_COLS] = delta_rot_axes\n",
    "    df[\"delta_rot_mag\"] = delta_rot_magnitude.squeeze()\n",
    "\n",
    "    return df\n",
    "\n",
    "def rot_euler_angles(df:DF) -> ndarray:\n",
    "    df[EULER_ANGLES_COLS] = (\n",
    "        Rotation\n",
    "        .from_quat(df[QUATERNION_COLS])\n",
    "        .as_euler(\"xyz\")\n",
    "        .squeeze()\n",
    "    )\n",
    "    return df\n",
    "\n",
    "def agg_tof_cols_per_sensor(df:DF) -> DF:\n",
    "    for tof_idx in tqdm(range(1, 6)):\n",
    "        tof_name = f\"tof_{tof_idx}\"\n",
    "        tof_cols = [f\"{tof_name}_v{v_idx}\" for v_idx in range(64)]\n",
    "        if any(map(lambda col: col not in df.columns, tof_cols)):\n",
    "            print(f\"Some (or) all ToF {tof_idx} columns are not in the df. Maybe you already ran this cell?\")\n",
    "            continue\n",
    "        df = pd.concat(\n",
    "            (\n",
    "                df.drop(columns=tof_cols),\n",
    "                # For some reasons, it's faster to call all the aggregation functions seperatly than agg(list of functions)\n",
    "                df[tof_cols].mean(axis=\"columns\").to_frame(tof_name + \"_mean\"),\n",
    "                df[tof_cols].std(axis=\"columns\").to_frame(tof_name + \"_std\"),\n",
    "                df[tof_cols].median(axis=\"columns\").to_frame(tof_name + \"_median\"),\n",
    "                df[tof_cols].min(axis=\"columns\").to_frame(tof_name + \"_min\"),\n",
    "                df[tof_cols].max(axis=\"columns\").to_frame(tof_name + \"_max\"),\n",
    "            ),\n",
    "            axis=\"columns\",\n",
    "        )\n",
    "    return df\n",
    "\n",
    "def add_diff_features(df:DF) -> DF:\n",
    "    return pd.concat(\n",
    "        (\n",
    "            df,\n",
    "            df\n",
    "            .groupby(\"sequence_id\", as_index=False, observed=True)\n",
    "            [get_feature_cols(df)]\n",
    "            .diff()\n",
    "            .fillna(get_fillna_val_per_feature_col(df))\n",
    "            .add_suffix(\"_diff\")\n",
    "        ),\n",
    "        axis=\"columns\",\n",
    "    )\n",
    "\n",
    "def length_normed_sequence_feat_arr(sequence: DF) -> ndarray:\n",
    "    features = (\n",
    "        sequence\n",
    "        .loc[:, meta_data[\"feature_cols\"]]\n",
    "        .values\n",
    "    )\n",
    "    normed_sequence_len = meta_data[\"pad_seq_len\"]\n",
    "    len_diff = abs(normed_sequence_len - len(features))\n",
    "    if len(features) < normed_sequence_len:\n",
    "        padded_features = np.pad(\n",
    "            features,\n",
    "            ((len_diff // 2 + len_diff % 2, len_diff // 2), (0, 0)),\n",
    "        )\n",
    "        return padded_features\n",
    "    elif len(features) > normed_sequence_len:\n",
    "        return features[len_diff // 2:-len_diff // 2]\n",
    "    else:\n",
    "        return features\n",
    "\n",
    "def preprocess_sequence(sequence_df:pl.DataFrame) -> ndarray:\n",
    "    return (\n",
    "        sequence_df                     \n",
    "        .to_pandas()                            # Convert to pandas dataframe.\n",
    "        .pipe(imputed_features)                 # Impute missing data.\n",
    "        .pipe(norm_quat_rotations)              # Norm quaternions\n",
    "        .pipe(add_linear_acc_cols)              # Add gravity free acceleration.\n",
    "        .pipe(add_acc_magnitude, RAW_ACCELRATION_COLS, \"acc_mag\")\n",
    "        .pipe(add_acc_magnitude, LINEAR_ACC_COLS, \"linear_acc_mag\")\n",
    "        .pipe(add_quat_angle_mag)\n",
    "        .pipe(add_angular_velocity_features)\n",
    "        .pipe(rot_euler_angles)                 # Add rotation acc expressed as euler angles.\n",
    "        # .pipe(agg_tof_cols_per_sensor)          # Aggregate ToF columns.\n",
    "        .pipe(add_diff_features)                # \n",
    "        .loc[:, sorted(meta_data[\"feature_cols\"])]      # Retain only the usefull columns a.k.a features.\n",
    "        .sub(meta_data[\"mean\"])                 # Subtract features by their mean, std norm pt.1.\n",
    "        .div(meta_data[\"std\"])                  # Divide by Standard deviation, std norm pt.2.\n",
    "        .pipe(length_normed_sequence_feat_arr)  # get feature ndarray of sequence.\n",
    "        .T                                      # Transpose to swap channel and X dimensions.\n",
    "    )"
   ]
  },
  {
   "cell_type": "markdown",
   "id": "1ebb0960",
   "metadata": {},
   "source": [
    "### Define prediction function"
   ]
  },
  {
   "cell_type": "code",
   "execution_count": null,
   "id": "57d8dfff",
   "metadata": {
    "execution": {
     "iopub.execute_input": "2025-06-14T10:09:14.989742Z",
     "iopub.status.busy": "2025-06-14T10:09:14.989258Z",
     "iopub.status.idle": "2025-06-14T10:09:14.995936Z",
     "shell.execute_reply": "2025-06-14T10:09:14.995244Z"
    },
    "papermill": {
     "duration": 0.021303,
     "end_time": "2025-06-14T10:09:14.997034",
     "exception": false,
     "start_time": "2025-06-14T10:09:14.975731",
     "status": "completed"
    },
    "tags": []
   },
   "outputs": [],
   "source": [
    "def predict(sequence: pl.DataFrame, _: pl.DataFrame) -> str:\n",
    "    \"\"\"\n",
    "    Kaggle evaluation API will call this for each sequence.\n",
    "    sequence: polars DataFrame for a single sequence\n",
    "    demographics: unused in this model\n",
    "    Returns: predicted gesture string\n",
    "    \"\"\"\n",
    "    x_tensor = (\n",
    "        torch.unsqueeze(Tensor(preprocess_sequence(sequence)), dim=0)\n",
    "        .float()\n",
    "        .to(device)\n",
    "    )\n",
    "    print(x_tensor.shape)\n",
    "\n",
    "    all_outputs = []\n",
    "    with torch.no_grad():\n",
    "        for model_idx, model in enumerate(model_ensemble): # Only take the first one bc it's the only one that takes in the correct input shape\n",
    "            outputs = model(x_tensor)\n",
    "            all_outputs.append(outputs)\n",
    "\n",
    "    avg_outputs = torch.mean(torch.stack(all_outputs), dim=0)\n",
    "    pred_idx = torch.argmax(avg_outputs, dim=1).item()\n",
    "\n",
    "    return str(gesture_classes[pred_idx])"
   ]
  },
  {
   "cell_type": "markdown",
   "id": "5cdcf446",
   "metadata": {},
   "source": [
    "### Run inference server"
   ]
  },
  {
   "cell_type": "code",
   "execution_count": null,
   "id": "1c386b7d",
   "metadata": {
    "execution": {
     "iopub.execute_input": "2025-06-14T10:09:15.023324Z",
     "iopub.status.busy": "2025-06-14T10:09:15.023122Z",
     "iopub.status.idle": "2025-06-14T10:09:16.373534Z",
     "shell.execute_reply": "2025-06-14T10:09:16.372710Z"
    },
    "papermill": {
     "duration": 1.365137,
     "end_time": "2025-06-14T10:09:16.374918",
     "exception": false,
     "start_time": "2025-06-14T10:09:15.009781",
     "status": "completed"
    },
    "tags": []
   },
   "outputs": [
    {
     "name": "stdout",
     "output_type": "stream",
     "text": [
      "torch.Size([1, 696, 127])\n",
      "torch.Size([1, 696, 127])\n"
     ]
    },
    {
     "name": "stderr",
     "output_type": "stream",
     "text": [
      "\n",
      "KeyboardInterrupt\n",
      "\n"
     ]
    },
    {
     "name": "stdout",
     "output_type": "stream",
     "text": [
      "torch.Size([1, 696, 127])\n"
     ]
    }
   ],
   "source": [
    "inference_server = kaggle_evaluation.cmi_inference_server.CMIInferenceServer(predict)\n",
    "\n",
    "if os.getenv('KAGGLE_IS_COMPETITION_RERUN'):\n",
    "    inference_server.serve()\n",
    "else:\n",
    "    inference_server.run_local_gateway(\n",
    "        data_paths=(\n",
    "            join(competition_dataset_path, 'test.csv'),\n",
    "            join(competition_dataset_path, 'test_demographics.csv'),\n",
    "        )\n",
    "    )\n",
    "    inference_server = kaggle_evaluation.cmi_inference_server.CMIInferenceServer(predict)\n",
    "    inference_server.run_local_gateway(\n",
    "        data_paths=(\n",
    "            join(competition_dataset_path, 'train.csv'),\n",
    "            join(competition_dataset_path, 'train_demographics.csv'),\n",
    "        )\n",
    "    )"
   ]
  }
 ],
 "metadata": {
  "kaggle": {
   "accelerator": "gpu",
   "dataSources": [
    {
     "databundleVersionId": 12518947,
     "sourceId": 102335,
     "sourceType": "competition"
    }
   ],
   "isGpuEnabled": true,
   "isInternetEnabled": false,
   "language": "python",
   "sourceType": "notebook"
  },
  "kernelspec": {
   "display_name": "Python 3",
   "language": "python",
   "name": "python3"
  },
  "language_info": {
   "codemirror_mode": {
    "name": "ipython",
    "version": 3
   },
   "file_extension": ".py",
   "mimetype": "text/x-python",
   "name": "python",
   "nbconvert_exporter": "python",
   "pygments_lexer": "ipython3",
   "version": "3.11.5"
  },
  "papermill": {
   "default_parameters": {},
   "duration": 510.403331,
   "end_time": "2025-06-14T10:09:19.701325",
   "environment_variables": {},
   "exception": null,
   "input_path": "__notebook__.ipynb",
   "output_path": "__notebook__.ipynb",
   "parameters": {},
   "start_time": "2025-06-14T10:00:49.297994",
   "version": "2.6.0"
  }
 },
 "nbformat": 4,
 "nbformat_minor": 5
}
