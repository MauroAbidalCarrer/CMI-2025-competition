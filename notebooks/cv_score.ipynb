{
 "cells": [
  {
   "cell_type": "markdown",
   "id": "bf6438da",
   "metadata": {},
   "source": [
    "# Training & inference notebook\n",
    "Credit to [Tarun Mishra](https://www.kaggle.com/tarundirector) – this code is heavily based on his [notebook](https://www.kaggle.com/code/tarundirector/sensor-pulse-viz-eda-for-bfrb-detection?scriptVersionId=243465321)."
   ]
  },
  {
   "cell_type": "markdown",
   "id": "e752c660",
   "metadata": {},
   "source": [
    "## Setup"
   ]
  },
  {
   "cell_type": "markdown",
   "id": "473b69f6",
   "metadata": {},
   "source": [
    "### imports"
   ]
  },
  {
   "cell_type": "markdown",
   "id": "e7d4b210",
   "metadata": {},
   "source": [
    "#### Training imports"
   ]
  },
  {
   "cell_type": "code",
   "execution_count": 47,
   "id": "b842c804",
   "metadata": {},
   "outputs": [],
   "source": [
    "import os\n",
    "import json\n",
    "from glob import glob\n",
    "from functools import partial\n",
    "from datetime import datetime\n",
    "from itertools import pairwise\n",
    "from os.path import join, realpath\n",
    "from typing import Optional, Literal\n",
    "\n",
    "import torch\n",
    "import kagglehub\n",
    "import numpy as np\n",
    "import pandas as pd\n",
    "import plotly.express as px\n",
    "from torch import nn, Tensor\n",
    "from pandas import DataFrame as DF\n",
    "from torch.utils.data import TensorDataset\n",
    "from torch.utils.data import DataLoader as DL\n",
    "from rich.progress import Progress, Task, track\n",
    "from torch.optim.lr_scheduler import ConstantLR, LRScheduler\n",
    "metric_package = kagglehub.package_import('wasupandceacar/cmi-metric', bypass_confirmation=True)"
   ]
  },
  {
   "cell_type": "markdown",
   "id": "6a3ae962",
   "metadata": {},
   "source": [
    "#### inference imports"
   ]
  },
  {
   "cell_type": "code",
   "execution_count": 48,
   "id": "915c9ecf",
   "metadata": {},
   "outputs": [],
   "source": [
    "import os\n",
    "import json\n",
    "import warnings\n",
    "from os.path import join\n",
    "from tqdm.notebook import tqdm\n",
    "from itertools import pairwise, product\n",
    "\n",
    "import torch\n",
    "import numpy as np\n",
    "import pandas as pd\n",
    "import polars as pl\n",
    "from numpy import ndarray\n",
    "from torch import nn, Tensor\n",
    "from numpy.linalg import norm\n",
    "from pandas import DataFrame as DF\n",
    "from scipy.spatial.transform import Rotation\n",
    "# from kagglehub import competition_download, dataset_download, model_download\n",
    "import kagglehub\n",
    "metric_package = kagglehub.package_import('wasupandceacar/cmi-metric', bypass_confirmation=True)\n",
    "\n",
    "import kaggle_evaluation.cmi_inference_server"
   ]
  },
  {
   "cell_type": "markdown",
   "id": "5cd3c8bd",
   "metadata": {},
   "source": [
    "#### kaggle notbook Imports"
   ]
  },
  {
   "cell_type": "code",
   "execution_count": 49,
   "id": "ce2e25ed",
   "metadata": {},
   "outputs": [],
   "source": [
    "import random\n",
    "import numpy as np\n",
    "import torch\n",
    "import os\n",
    "\n",
    "def seed_everything(seed=42):\n",
    "    \"\"\"Set all random seeds for reproducibility\"\"\"\n",
    "    random.seed(seed)\n",
    "    np.random.seed(seed)\n",
    "    torch.manual_seed(seed)\n",
    "    torch.cuda.manual_seed(seed)\n",
    "    torch.backends.cudnn.deterministic = True\n",
    "    torch.backends.cudnn.benchmark = False\n",
    "    os.environ['PYTHONHASHSEED'] = str(seed)\n",
    "    os.environ['CUBLAS_WORKSPACE_CONFIG'] = ':4096:8'\n",
    "    torch.use_deterministic_algorithms(True, warn_only=True)\n",
    "\n",
    "SEED = 42\n",
    "seed_everything(seed=SEED)\n",
    "\n",
    "import pandas as pd\n",
    "import polars as pl\n",
    "from sklearn.metrics import f1_score\n",
    "from sklearn.model_selection import train_test_split\n",
    "from sklearn.preprocessing import StandardScaler, LabelEncoder\n",
    "from sklearn.model_selection import GroupKFold\n",
    "from sklearn.utils.class_weight import compute_class_weight\n",
    "import joblib\n",
    "from tqdm import tqdm\n",
    "\n",
    "from torch import nn\n",
    "import torch.nn.functional as F\n",
    "import torch.optim as optim\n",
    "from torch.utils.data import Dataset, DataLoader\n",
    "# from tensorflow.keras.preprocessing.sequence import pad_sequences as keras_pad_sequences\n",
    "\n",
    "import kaggle_evaluation.cmi_inference_server\n",
    "from matplotlib import pyplot as plt"
   ]
  },
  {
   "cell_type": "markdown",
   "id": "91e34cce",
   "metadata": {},
   "source": [
    "### Configs"
   ]
  },
  {
   "cell_type": "markdown",
   "id": "57b0b925",
   "metadata": {},
   "source": [
    "#### Training config"
   ]
  },
  {
   "cell_type": "code",
   "execution_count": null,
   "id": "1296f174",
   "metadata": {},
   "outputs": [],
   "source": [
    "NB_CROSS_VALIDATIONS = 5\n",
    "TRAINING_EPOCHS = 15\n",
    "STARTING_LR = 0.0005\n",
    "TRAIN_BATCH_SIZE = 256\n",
    "VALIDATION_BATCH_SIZE = 4 * TRAIN_BATCH_SIZE\n",
    "TARGET_NAMES = sorted([\n",
    "    \"Above ear - pull hair\",\n",
    "    \"Cheek - pinch skin\",\n",
    "    \"Eyebrow - pull hair\",\n",
    "    \"Eyelash - pull hair\",\n",
    "    \"Feel around in tray and pull out an object\",\n",
    "    \"Forehead - pull hairline\",\n",
    "    \"Forehead - scratch\",\n",
    "    \"Neck - pinch skin\",\n",
    "    \"Neck - scratch\",\n",
    "    \"Text on phone\",\n",
    "    \"Wave hello\",\n",
    "    \"Write name in air\",\n",
    "    \"Write name on leg\",\n",
    "    \"Drink from bottle/cup\",\n",
    "    \"Pinch knee/leg skin\",\n",
    "    \"Pull air toward your face\",\n",
    "    \"Scratch knee/leg skin\",\n",
    "    \"Glasses on/off\"\n",
    "])\n",
    "TARGET_NAMES_NDARRAY = np.asarray(TARGET_NAMES)\n",
    "MOCK_TRAINING_EPOCHS = 15\n",
    "MOCK_TRAINING_GAMMA = 1.01\n",
    "MAX_LR_TO_MIN_DIV_FACTOR = 10\n",
    "\n",
    "COMPETITION_HANDLE = \"cmi-detect-behavior-with-sensor-data\""
   ]
  },
  {
   "cell_type": "markdown",
   "id": "1393b8af",
   "metadata": {},
   "source": [
    "#### Inference config "
   ]
  },
  {
   "cell_type": "code",
   "execution_count": 51,
   "id": "3ad8c78c",
   "metadata": {},
   "outputs": [],
   "source": [
    "QUATERNION_COLS = ['rot_w', 'rot_x', 'rot_y', 'rot_z']\n",
    "GRAVITY_WORLD = np.array([0, 0, 9.81], \"float32\")\n",
    "RAW_ACCELRATION_COLS = [\"acc_x\", \"acc_y\", \"acc_z\"]\n",
    "LINEAR_ACC_COLS = [\"gravity_free_\" + col for col in RAW_ACCELRATION_COLS]\n",
    "COMPETITION_HANDLE = \"cmi-detect-behavior-with-sensor-data\"\n",
    "CATEGORY_COLUMNS = [\n",
    "    'row_id',\n",
    "    'sequence_type',\n",
    "    'sequence_id',\n",
    "    'subject',\n",
    "    'orientation',\n",
    "    'behavior',\n",
    "    'phase',\n",
    "    'gesture',\n",
    "]\n",
    "META_DATA_COLUMNS = [\n",
    "    'row_id',\n",
    "    'sequence_type',\n",
    "    'sequence_id',\n",
    "    'sequence_counter',\n",
    "    'subject',\n",
    "    'orientation',\n",
    "    'behavior',\n",
    "    'phase',\n",
    "    'gesture',\n",
    "]\n",
    "DATASET_DF_DTYPES = {\n",
    "    \"acc_x\": \"float32\", \"acc_y\": \"float32\", \"acc_z\": \"float32\",\n",
    "    \"thm_1\":\"float32\", \"thm_2\":\"float32\", \"thm_3\":\"float32\", \"thm_4\":\"float32\", \"thm_5\":\"float32\",\n",
    "    \"sequence_counter\": \"int32\",\n",
    "    **{col: \"category\" for col in CATEGORY_COLUMNS},\n",
    "    **{f\"tof_{i_1}_v{i_2}\": \"float32\" for i_1, i_2 in product(range(1, 5), range(64))},\n",
    "}\n",
    "PREPROCESSED_DATASET_HANDLE = \"mauroabidalcarrer/prepocessed-cmi-2025\"\n",
    "# The quantile of the sequences len used to pad/truncate during preprocessing\n",
    "SEQUENCE_NORMED_LEN_QUANTILE = 0.95\n",
    "# SAMPLING_FREQUENCY = 10 #Hz\n",
    "N_FOLDS = 5\n",
    "VALIDATION_FRACTION = 0.2\n",
    "TARGET_NAMES = sorted([\n",
    "    \"Above ear - pull hair\",\n",
    "    \"Cheek - pinch skin\",\n",
    "    \"Eyebrow - pull hair\",\n",
    "    \"Eyelash - pull hair\",\n",
    "    \"Feel around in tray and pull out an object\",\n",
    "    \"Forehead - pull hairline\",\n",
    "    \"Forehead - scratch\",\n",
    "    \"Neck - pinch skin\",\n",
    "    \"Neck - scratch\",\n",
    "    \"Text on phone\",\n",
    "    \"Wave hello\",\n",
    "    \"Write name in air\",\n",
    "    \"Write name on leg\",\n",
    "    \"Drink from bottle/cup\",\n",
    "    \"Pinch knee/leg skin\",\n",
    "    \"Pull air toward your face\",\n",
    "    \"Scratch knee/leg skin\",\n",
    "    \"Glasses on/off\"\n",
    "])\n",
    "EPSILON=1e-8\n",
    "DELTA_ROTATION_ANGULAR_VELOCITY_COLS = [\"angular_vel_x\", \"angular_vel_y\", \"angular_vel_z\"]\n",
    "DELTA_ROTATION_AXES_COLS = [\"rotation_axis_x\", \"rotation_axis_y\", \"rotation_axis_z\"]\n",
    "EULER_ANGLES_COLS = [\"euler_x\", \"euler_y\", \"euler_z\"]"
   ]
  },
  {
   "cell_type": "markdown",
   "id": "1c4bfefa",
   "metadata": {},
   "source": [
    "### Define function to get the feature columns\n",
    "Feature columns change over time so it's better to have a function to get them than manually update a variable every time we add/remove features."
   ]
  },
  {
   "cell_type": "code",
   "execution_count": 52,
   "id": "f3d40b15",
   "metadata": {},
   "outputs": [],
   "source": [
    "def get_feature_cols(df:DF) -> list[str]:\n",
    "    return sorted(list(set(df.columns) - set(META_DATA_COLUMNS) - set(TARGET_NAMES)))"
   ]
  },
  {
   "cell_type": "markdown",
   "id": "1eac0e5a",
   "metadata": {},
   "source": [
    "### Supress performance warngings"
   ]
  },
  {
   "cell_type": "code",
   "execution_count": 53,
   "id": "086420e2",
   "metadata": {},
   "outputs": [],
   "source": [
    "warnings.filterwarnings(\n",
    "    \"ignore\",\n",
    "    message=(\n",
    "        \"DataFrame is highly fragmented.  This is usually the result of \"\n",
    "        \"calling `frame.insert` many times.*\"\n",
    "    ),\n",
    "    category=pd.errors.PerformanceWarning,\n",
    ")"
   ]
  },
  {
   "cell_type": "markdown",
   "id": "7749c3bd",
   "metadata": {},
   "source": [
    "### device setup"
   ]
  },
  {
   "cell_type": "code",
   "execution_count": 54,
   "id": "aa7f99a1",
   "metadata": {},
   "outputs": [],
   "source": [
    "device = torch.device(\"cuda\") if torch.cuda.is_available() else torch.device(\"cpu\")"
   ]
  },
  {
   "cell_type": "markdown",
   "id": "6a563074",
   "metadata": {},
   "source": [
    "### Dataset Setup"
   ]
  },
  {
   "cell_type": "code",
   "execution_count": 55,
   "id": "2bc2e83c",
   "metadata": {},
   "outputs": [],
   "source": [
    "dataset_path = kagglehub.dataset_download(\n",
    "    handle=\"mauroabidalcarrer/prepocessed-cmi-2025\",\n",
    ")\n",
    "\n",
    "class CMIDataset(TensorDataset):\n",
    "    def __init__(\n",
    "        self,\n",
    "        parent_dir: str,\n",
    "        split: Optional[Literal[\"train\", \"validation\"]]=None,\n",
    "        subset: Optional[int]=None,\n",
    "        force_download=False\n",
    "    ):\n",
    "        dataset_path = kagglehub.dataset_download(\n",
    "            handle=\"mauroabidalcarrer/prepocessed-cmi-2025\",\n",
    "            force_download=force_download\n",
    "        )\n",
    "        parent_dir = join(dataset_path, \"preprocessed_dataset\", parent_dir)\n",
    "        split = \"\" if split is None else split + \"_\"\n",
    "        x = np.load(join(parent_dir, f\"{split}X.npy\")).swapaxes(1, 2)\n",
    "        y = np.load(join(parent_dir, f\"{split}Y.npy\"))\n",
    "        if subset is not None:\n",
    "            x = x[:subset]\n",
    "            y = y[:subset]\n",
    "        super().__init__(\n",
    "            torch.from_numpy(x), \n",
    "            torch.from_numpy(y),\n",
    "        )"
   ]
  },
  {
   "cell_type": "code",
   "execution_count": 56,
   "id": "5aae295d",
   "metadata": {},
   "outputs": [],
   "source": [
    "meta_data_path = join(\n",
    "    dataset_path,\n",
    "    \"preprocessed_dataset\",\n",
    "    \"full_dataset_meta_data.json\"\n",
    ")\n",
    "with open(meta_data_path, \"r\") as fp:\n",
    "    meta_data = json.load(fp)\n",
    "# Convert target names into a ndarray to index it batchwise.\n",
    "# meta_data[\"target_names\"] = np.asarray(meta_data[\"target_names\"])\n",
    "non_imu_feats_idx = [feat_idx for feat_idx, feat in enumerate(meta_data[\"feature_cols\"]) if feat.startswith((\"thm\", \"tof\"))]\n",
    "non_imu_feats = [feat for feat in meta_data[\"feature_cols\"] if feat.startswith((\"thm\", \"tof\"))]\n",
    "imu_feats_idx = [feat_idx for feat_idx, feat in enumerate(meta_data[\"feature_cols\"]) if not feat.startswith((\"thm\", \"tof\"))]\n",
    "imu_feats = [feat for feat in meta_data[\"feature_cols\"] if not feat.startswith((\"thm\", \"tof\"))]"
   ]
  },
  {
   "cell_type": "markdown",
   "id": "2161df0c",
   "metadata": {
    "papermill": {
     "duration": 0.00278,
     "end_time": "2025-06-14T10:01:12.877551",
     "exception": false,
     "start_time": "2025-06-14T10:01:12.874771",
     "status": "completed"
    },
    "tags": []
   },
   "source": [
    "### BFRBs indices"
   ]
  },
  {
   "cell_type": "code",
   "execution_count": 57,
   "id": "e657c570",
   "metadata": {
    "execution": {
     "iopub.execute_input": "2025-06-14T10:01:12.884365Z",
     "iopub.status.busy": "2025-06-14T10:01:12.883937Z",
     "iopub.status.idle": "2025-06-14T10:01:45.309186Z",
     "shell.execute_reply": "2025-06-14T10:01:45.308564Z"
    },
    "papermill": {
     "duration": 32.430139,
     "end_time": "2025-06-14T10:01:45.310511",
     "exception": false,
     "start_time": "2025-06-14T10:01:12.880372",
     "status": "completed"
    },
    "tags": []
   },
   "outputs": [
    {
     "name": "stdout",
     "output_type": "stream",
     "text": [
      "Loading datasets...\n",
      "Train rows: 574945, Test rows: 107\n"
     ]
    }
   ],
   "source": [
    "print(\"Loading datasets...\")\n",
    "competition_dataset_path = kagglehub.competition_download(COMPETITION_HANDLE)\n",
    "train_df = pd.read_csv(join(competition_dataset_path, \"train.csv\"))\n",
    "train_dem_df = pd.read_csv(join(competition_dataset_path, \"train_demographics.csv\"))\n",
    "test_df = pd.read_csv(join(competition_dataset_path, \"test.csv\"))\n",
    "test_dem_df = pd.read_csv(join(competition_dataset_path, \"test_demographics.csv\"))\n",
    "print(f\"Train rows: {len(train_df)}, Test rows: {len(test_df)}\")\n",
    "\n",
    "# Encode labels\n",
    "label_encoder = LabelEncoder()\n",
    "train_df['gesture'] = label_encoder.fit_transform(train_df['gesture'].astype(str))\n",
    "gesture_classes = label_encoder.classes_\n",
    "\n",
    "bfrb_gestures = [\n",
    "    'Above ear - pull hair',\n",
    "    'Forehead - pull hairline',\n",
    "    'Forehead - scratch',\n",
    "    'Eyebrow - pull hair',\n",
    "    'Eyelash - pull hair',\n",
    "    'Neck - pinch skin',\n",
    "    'Neck - scratch',\n",
    "    'Cheek - pinch skin'\n",
    "]\n",
    "bfrb_indices = label_encoder.transform(bfrb_gestures)"
   ]
  },
  {
   "cell_type": "markdown",
   "id": "9c54244a",
   "metadata": {},
   "source": [
    "## Model definition"
   ]
  },
  {
   "cell_type": "code",
   "execution_count": 58,
   "id": "80ae01a8",
   "metadata": {},
   "outputs": [],
   "source": [
    "class SqueezeExcitationBlock(nn.Module):\n",
    "    # Copy/paste of https://www.kaggle.com/code/wasupandceacar/lb-0-82-5fold-single-bert-model#Model implementation\n",
    "    def __init__(self, channels:int, reduction:int=8):\n",
    "        super().__init__()\n",
    "        self.fc1 = nn.Linear(channels, channels // reduction, bias=True)\n",
    "        self.fc2 = nn.Linear(channels // reduction, channels, bias=True)\n",
    "        self.sigmoid = nn.Sigmoid()\n",
    "\n",
    "    def forward(self, x):\n",
    "        # x: (B, C, L)\n",
    "        se = F.adaptive_avg_pool1d(x, 1).squeeze(-1)      # -> (B, C)\n",
    "        se = F.relu(self.fc1(se), inplace=True)          # -> (B, C//r)\n",
    "        se = self.sigmoid(self.fc2(se)).unsqueeze(-1)    # -> (B, C, 1)\n",
    "        return x * se\n",
    "\n",
    "class ResidualBlock(nn.Module):\n",
    "    def __init__(self, in_chns:int, out_chns:int, dropout_ratio:float=0.3):\n",
    "        super().__init__()\n",
    "        self.blocks = nn.Sequential(\n",
    "            nn.Conv1d(in_chns, out_chns, kernel_size=3, padding=1),\n",
    "            nn.BatchNorm1d(out_chns),\n",
    "            nn.ReLU(),\n",
    "            nn.Conv1d(out_chns, out_chns, kernel_size=3, padding=1),\n",
    "            nn.BatchNorm1d(out_chns),\n",
    "            SqueezeExcitationBlock(out_chns),\n",
    "        )\n",
    "        self.head = nn.Sequential(nn.ReLU(), nn.Dropout(dropout_ratio))\n",
    "        if in_chns == out_chns:\n",
    "            self.skip_connection = nn.Identity() \n",
    "        else:\n",
    "            # TODO: set bias to False ?\n",
    "            self.skip_connection = nn.Sequential(\n",
    "                nn.Conv1d(in_chns, out_chns, 1),\n",
    "                nn.BatchNorm1d(out_chns)\n",
    "            )\n",
    "            self.head.add_module(\"max_pool\", nn.MaxPool1d(2))\n",
    "            \n",
    "    def forward(self, x:Tensor) -> Tensor:\n",
    "        activaition_maps = self.skip_connection(x) + self.blocks(x)\n",
    "        return self.head(activaition_maps)\n",
    "\n",
    "class MBConvBlock(nn.Module):\n",
    "    # From this schema: https://media.licdn.com/dms/image/v2/D5612AQFjbDOm5uyxdw/article-inline_image-shrink_1500_2232/article-inline_image-shrink_1500_2232/0/1683677500817?e=1758153600&v=beta&t=n48_UW5TZTyDPhRFlJXSidUQQPQpuC756M0kNeKmYTY\n",
    "    def __init__(self, in_chns:int, out_chns:int, expansion_ratio:int=4, dropout_ratio:float=0.3):\n",
    "        super().__init__()\n",
    "        expanded_channels = in_chns * expansion_ratio\n",
    "        self.blocks = nn.Sequential(\n",
    "            nn.Conv1d(in_chns, expanded_channels, kernel_size=1),\n",
    "            nn.BatchNorm1d(expanded_channels),\n",
    "            nn.ReLU(),\n",
    "            nn.Conv1d(\n",
    "                expanded_channels,\n",
    "                expanded_channels,\n",
    "                kernel_size=3,\n",
    "                padding=1,\n",
    "                groups=expanded_channels,\n",
    "            ),\n",
    "            nn.BatchNorm1d(expanded_channels),\n",
    "            nn.ReLU(),\n",
    "            SqueezeExcitationBlock(expanded_channels),\n",
    "            nn.Conv1d(expanded_channels, out_chns, kernel_size=1)\n",
    "        )\n",
    "        self.head = nn.Sequential(\n",
    "            nn.BatchNorm1d(out_chns)\n",
    "            # nn.ReLU(),\n",
    "            # nn.Dropout(dropout_ratio),\n",
    "        )\n",
    "        if in_chns == out_chns:\n",
    "            self.skip_connection = nn.Identity() \n",
    "        else:\n",
    "            # TODO: set bias to False ?\n",
    "            self.skip_connection = nn.Sequential(\n",
    "                nn.Conv1d(in_chns, out_chns, 1),\n",
    "                nn.BatchNorm1d(out_chns)\n",
    "            )\n",
    "            self.head.add_module(\"max_pool\", nn.MaxPool1d(2))\n",
    "            \n",
    "    def forward(self, x:Tensor) -> Tensor:\n",
    "        activaition_maps = self.skip_connection(x) + self.blocks(x)\n",
    "        return self.head(activaition_maps)\n",
    "\n",
    "\n",
    "class Resnet(nn.Sequential):\n",
    "    def __init__(\n",
    "            self,\n",
    "            in_channels:int,\n",
    "            depth:int,\n",
    "            # n_res_block_per_depth:int,\n",
    "            mlp_width:int,\n",
    "            n_class:int,\n",
    "        ):\n",
    "        chs_per_depth = [in_channels * 2 ** i for i in range(depth)]\n",
    "        blocks_chns_it = pairwise(chs_per_depth)\n",
    "        res_blocks = [MBConvBlock(in_chns, out_chns) for in_chns, out_chns in blocks_chns_it]\n",
    "        super().__init__(\n",
    "            *res_blocks,\n",
    "            nn.Flatten(start_dim=1),\n",
    "            nn.LazyLinear(mlp_width),\n",
    "            nn.ReLU(),\n",
    "            nn.Linear(mlp_width, n_class),\n",
    "        )"
   ]
  },
  {
   "cell_type": "markdown",
   "id": "bfc08e41",
   "metadata": {},
   "source": [
    "### Create model function"
   ]
  },
  {
   "cell_type": "code",
   "execution_count": 59,
   "id": "36e3e463",
   "metadata": {},
   "outputs": [
    {
     "name": "stdout",
     "output_type": "stream",
     "text": [
      "input channels: 66\n"
     ]
    }
   ],
   "source": [
    "def mk_model() -> nn.Module:\n",
    "    nb_in_chans = len(meta_data[\"feature_cols\"])\n",
    "    return (\n",
    "        Resnet(\n",
    "            in_channels=nb_in_chans,\n",
    "            depth=4,\n",
    "            mlp_width=256,\n",
    "            n_class=18\n",
    "        )\n",
    "        .to(device)\n",
    "    )\n",
    "\n",
    "print(\"input channels:\", len(meta_data[\"feature_cols\"]))"
   ]
  },
  {
   "cell_type": "markdown",
   "id": "8afc6e79",
   "metadata": {},
   "source": [
    "## Training loop"
   ]
  },
  {
   "cell_type": "code",
   "execution_count": 60,
   "id": "a69ec966",
   "metadata": {},
   "outputs": [],
   "source": [
    "def fit(epochs:int,\n",
    "        model: nn.Module,\n",
    "        scheduler: LRScheduler,\n",
    "        optimizer: torch.optim.Optimizer,\n",
    "        train_loader: DL,\n",
    "        criterion: callable=nn.L1Loss(),\n",
    "        evaluation_func: callable=None,\n",
    "        validation_loader: DL=None,\n",
    "        save_checkpoints=True,\n",
    "    ) -> tuple[DF, str]:\n",
    "    \"\"\"\n",
    "    Returns:\n",
    "        (training_metrics, path_to_checkpoints)\n",
    "    \"\"\"\n",
    "    # Setup\n",
    "    metrics: list[dict] = []\n",
    "    step = 0\n",
    "    model_device = next(model.parameters()).device\n",
    "    last_epoch_metric = {}\n",
    "    # Training loop\n",
    "    with Progress() as progress:\n",
    "        task: Task = progress.add_task(\n",
    "            \"training...\",\n",
    "            total=len(train_loader),\n",
    "        )\n",
    "        for epoch in range(epochs):\n",
    "            progress.update(\n",
    "                task,\n",
    "                description=f\"epoch: {epoch}\",\n",
    "                completed=0,\n",
    "            )\n",
    "            total_epoch_loss = 0\n",
    "            total_accuracy = 0\n",
    "            for batch_idx, (x, y) in enumerate(train_loader):\n",
    "                # forward\n",
    "                x = x.to(model_device)\n",
    "                y = y.to(model_device)\n",
    "                model.train()\n",
    "                optimizer.zero_grad()\n",
    "                y_pred: Tensor = model(x)\n",
    "                loss_value = criterion(y_pred, y)\n",
    "                # Verify loss value\n",
    "                if torch.isnan(loss_value).any().item():\n",
    "                    progress.print(\"Warning: Got NaN loss, stopped training.\")\n",
    "                    return DF.from_records(metrics)\n",
    "                if torch.isinf(loss_value).any().item():\n",
    "                    progress.print(\"Warning: Got infinite loss, stopped training.\")\n",
    "                    return DF.from_records(metrics)\n",
    "                # TODO: Use gradient clipping?\n",
    "                loss_value.backward()\n",
    "                optimizer.step()\n",
    "                if step > 0: # If it's not the first training step, idk why it throws an error otherwise\n",
    "                    scheduler.step()\n",
    "                # metrics\n",
    "                total_epoch_loss += loss_value.item()\n",
    "                metrics.append({\n",
    "                    \"step\": step,\n",
    "                    \"epoch\": epoch,\n",
    "                    \"batch_train_loss\": loss_value.item(),\n",
    "                    \"lr\": optimizer.state_dict()[\"param_groups\"][-1][\"lr\"],\n",
    "                })\n",
    "                step += 1\n",
    "                if \"validation_accuracy\" in last_epoch_metric:\n",
    "                    last_validation_acc = \"%.2f\" % last_epoch_metric[\"validation_accuracy\"]\n",
    "                    val_acc_str = \"val. acc: \" + last_validation_acc\n",
    "                else:\n",
    "                    val_acc_str = \"\"\n",
    "                progress.update(\n",
    "                    task,\n",
    "                    advance=1,\n",
    "                    description=f\"epoch: {epoch}, batch_loss: {(total_epoch_loss / (batch_idx+1)):.2f}, {val_acc_str}\"\n",
    "                )\n",
    "            # Post epoch evalution\n",
    "            metrics[-1][\"train_epoch_loss\"] = total_epoch_loss / len(train_loader)\n",
    "            metrics[-1][\"train_epoch_accuracy\"] = total_accuracy / len(train_loader)\n",
    "            if evaluation_func:\n",
    "                progress.update(\n",
    "                    task,\n",
    "                    completed=0,\n",
    "                    description=f\"epoch: {epoch}, evaluating...\"\n",
    "                )\n",
    "                eval_metrics = evaluation_func(model, criterion, validation_loader)\n",
    "                metrics[-1].update(eval_metrics)\n",
    "            last_epoch_metric = metrics[-1]\n",
    "\n",
    "    return DF.from_records(metrics)"
   ]
  },
  {
   "cell_type": "markdown",
   "id": "5a490227",
   "metadata": {},
   "source": [
    "### Create model and train model"
   ]
  },
  {
   "cell_type": "code",
   "execution_count": 61,
   "id": "34cd5bba",
   "metadata": {},
   "outputs": [],
   "source": [
    "def mk_model_and_fit(\n",
    "        train_loader:DL,\n",
    "        mk_scheduler:callable,\n",
    "        epochs:int,\n",
    "        validation_loader:Optional[DL]=None,\n",
    "        save_checkpoints=False,\n",
    "    ) -> tuple[nn.Module, DF, list[str]]:\n",
    "    model = mk_model()\n",
    "    optimizer = torch.optim.AdamW(model.parameters(), STARTING_LR)\n",
    "    lr_scheduler = mk_scheduler(optimizer)\n",
    "    training_metrics = fit(\n",
    "        epochs=epochs,\n",
    "        model=model,\n",
    "        scheduler=lr_scheduler,\n",
    "        optimizer=optimizer,\n",
    "        train_loader=train_loader,\n",
    "        criterion=nn.CrossEntropyLoss(),\n",
    "        # evaluation_func=evaluate_model if validation_loader else None,\n",
    "        validation_loader=validation_loader,\n",
    "        save_checkpoints=save_checkpoints,\n",
    "    )\n",
    "\n",
    "    return model, training_metrics"
   ]
  },
  {
   "cell_type": "markdown",
   "id": "9256152c",
   "metadata": {},
   "source": [
    "## Search max learning rate"
   ]
  },
  {
   "cell_type": "code",
   "execution_count": 62,
   "id": "40b0c8ef",
   "metadata": {},
   "outputs": [],
   "source": [
    "def post_process_mock_training_metrics(training_metrics:DF) -> DF:\n",
    "    training_metrics = (\n",
    "        training_metrics\n",
    "        .query(\"batch_train_loss.notna()\")\n",
    "        .set_index(\"lr\", drop=False)\n",
    "        .sort_index()\n",
    "    )\n",
    "    training_metrics[\"ewm_batch_train_loss\"] = (\n",
    "        training_metrics\n",
    "        .ewm(com=30, ignore_na=False)\n",
    "        [\"batch_train_loss\"]\n",
    "        .mean()\n",
    "    )\n",
    "    training_metrics[\"ewm_batch_train_loss_diff\"] = training_metrics[\"ewm_batch_train_loss\"].diff()\n",
    "    return training_metrics"
   ]
  },
  {
   "cell_type": "code",
   "execution_count": 63,
   "id": "7c231028",
   "metadata": {},
   "outputs": [],
   "source": [
    "def plt_lr_search_training_metrics(training_metrics:DF):\n",
    "    (    \n",
    "        px.line(\n",
    "            (\n",
    "                training_metrics\n",
    "                .reset_index(drop=True)\n",
    "                .melt(\n",
    "                    id_vars=\"lr\",\n",
    "                    value_vars=[\n",
    "                        \"batch_train_loss\",\n",
    "                        \"ewm_batch_train_loss\",\n",
    "                        # \"ewm_batch_train_loss_diff\",\n",
    "                    ],\n",
    "                )\n",
    "            ),\n",
    "            x=\"lr\",\n",
    "            facet_row=\"variable\",\n",
    "            y=\"value\",\n",
    "            log_x=True,\n",
    "            log_y=True,\n",
    "            height=750,\n",
    "        )\n",
    "        .update_yaxes(matches=None)\n",
    "        .show()\n",
    "    )"
   ]
  },
  {
   "cell_type": "code",
   "execution_count": 64,
   "id": "e9ae0c04",
   "metadata": {},
   "outputs": [
    {
     "data": {
      "application/vnd.jupyter.widget-view+json": {
       "model_id": "ce4af7cc486844108095998d56f6f51c",
       "version_major": 2,
       "version_minor": 0
      },
      "text/plain": [
       "Output()"
      ]
     },
     "metadata": {},
     "output_type": "display_data"
    },
    {
     "data": {
      "text/html": [
       "<pre style=\"white-space:pre;overflow-x:auto;line-height:normal;font-family:Menlo,'DejaVu Sans Mono',consolas,'Courier New',monospace\"></pre>\n"
      ],
      "text/plain": []
     },
     "metadata": {},
     "output_type": "display_data"
    },
    {
     "data": {
      "application/vnd.plotly.v1+json": {
       "config": {
        "plotlyServerURL": "https://plot.ly"
       },
       "data": [
        {
         "hovertemplate": "variable=batch_train_loss<br>lr=%{x}<br>value=%{y}<extra></extra>",
         "legendgroup": "",
         "line": {
          "color": "#636efa",
          "dash": "solid"
         },
         "marker": {
          "symbol": "circle"
         },
         "mode": "lines",
         "name": "",
         "orientation": "v",
         "showlegend": false,
         "type": "scatter",
         "x": {
          "bdata": "/Knx0k1iQD/OcAM+P4xAP5Oi3wictkA/zf1mRmXhQD/78DkMnAxBPwikv3JBOEE/wBMtlVZkQT94P4yR3JBBPxBpw4jUvUE/jmecnj/rQT9uDMz5HhlCP+qb+cNzR0I/WljGKT92Qj/qINVagqVCP84j0ok+1UI/KqR67HQFQz/j06S7JjZDP4fBRzNVZ0M/gVqDkgGZQz/PgagbLctDP207QRTZ/UM/qewYxQYxRD+WsUR6t2REP9jHK4PsmEQ/9g6QMqfNRD95npbe6AJFP/px0OCyOEU/cCtDlgZvRT/f63Ff5aVFP7ZCZqBQ3UU/BTS5wEkVRj/SVZwr0k1GP8IE40/rhkY/U7ALoJbARj/jPkmS1fpGP8GJjKCpNUc/iPGNSBRxRz/9CtcLF61HP7NkzG+z6Uc/tWW3/eomSD9yRdBCv2RIPy4dSNAxo0g/OxNTO0TiSD85oDId+CFJP6DuPxNPYkk/2lT2vkqjST8u6v3F7ORJP8M2NtI2J0o//f7AkSpqSj+AKg23ya1KPxbH4fgV8ko/zCdpEhE3Sz+EIDzDvHxLP0hebc8aw0s/qtyU/ywKTD95eNsg9VFMPxSgBgV1mkw/riGEgq7jTD/HF3Z0oy1NPy30vrpVeE0/0akNOsfDTT/B9enb+Q9OP5LHwI7vXE4/kcnwRaqqTj8GCdf5K/lOP+C+26d2SE8/Gzl/UoyYTz8y5WYBb+lPP/w9tWCQHVA/kKdQ0tFGUD9w3DfhfHBQP/ZWypuSmlA/HLkbExTFUD9nuPpaAvBQP4cb+IleG1E/4sltuSlHUT8v7YUFZXNRP1ElQo0RoFE/ps6CcjDNUT/1Wg7awvpRPya9mOvJKFI/AOjK0UZXUj8VYEq6OoZSPwvhwNWmtVI/fhbkV4zlUj+jaH137BVTP+LccW7IRlM/nQrKeSF4Uz9SJLrZ+KlTP1MVqtFP3FM/QrQ9qCcPVD+KCl2ngUJUPwuxPBxfdlQ/LEJmV8GqVD+O4cCsqd9UP5LZmXMZFVU/8k6tBhJLVT+dCi/ElIFVPxRa0w2juFU/gAbYSD7wVT+6Yg3eZyhWP4Rw3zkhYVY/KR1fzGuaVj/GlUsJSdRWP26zG2i6Dlc/d38HZMFJVz8a0BF8X4VXP7T9ETOWwVc/4bC9D2f+Vz+wybKc0ztYPy9ggWjdeVg/lt61BYa4WD9LNeMKz/dYPwcprRK6N1k/XLvSu0h4WT/grTipfLlZP0Eg9IFX+1k/iUlV8do9Wj/VTPKmCIFaP8MpslbixFo/5sjXuGkJWz+CJA2KoE5bP9WNbouIlFs/QA+WgiPbWz+Q66Y5cyJcP7g6WX95alw/RKQFJzizXD/UN7EIsfxcP+hjGQHmRl0/TgvA8diRXT9/uffAi91dPzv271kAKl4/sbjBrDh3Xj+K+nuuNsVePyBrMFn8E18/PUMArItjXz+sOSmr5rNfP3xMCbCHAmA/VDut7IMrYD8phnEV6VRgP2wZ8Da4fmA/FIByYPKoYD/rw/ijmNNgP3pfQBas/mA/tkHLzi0qYT+m4+bnHlZhPypws36AgmE/Fv4qs1OvYT/J3CiomdxhP3nzcINTCmI/WTO3bYI4Yj/SHKeSJ2diP/1X6yBElmI/jGA1StnFYj9aRUVD6PViP8578UNyJmM/SMcuh3hXYz/LNBhL/IhjPxUr99D+umM/Wo9LXYHtYz/e/tM3hSBkP5MdlqsLVGQ/CPrmBhaIZD/GhnObpbxkP2cpSb678WQ/lF/ex1knZT8iehsUgV1lP45uYwIzlGU/Bb+c9XDLZT9AeTpUPANmP2JMRYiWO2Y/G7Zk/4B0Zj9JR+gq/a1mP1EA0X8M6GY/ccXadrAiZz9C64WM6l1nP7HbIEG8mWc/ptPRGCfWZz+buaCbLBNoP2INgVXOUGg/W/Fb1g2PaD9fTRqy7M1oP5YLr4BsDWk/i28h3o5NaT+zh5dqVY5pP7K5YMrBz2k/omkAptURaj+cvDiqklRqP9F2FYj6l2o/cvX29A7caj+zRJ2q0SBrPzBSM2dEZms/+Dta7Wisaz+SvDQEQfNrPze0cnfOOmw/ns9cFxODbD+TTOC4EMxsP7PcmjXJFW0/lqbmaz5gbT+xZeY+cqttP0WpkZZm920/pDLBXx1Ebj8mczuMmJFuPw8qwRLa324/zSIa7+Mubz/KEyIiuH5vPzqe1bFYz28/lrev1GMQcD8awZKMgzlwPwhDa4sMY3A/yLG73v+McD+Pc7iWXrdwP6LGTsYp4nA/Qrkrg2INcT9uM8PlCTlxP6oSVwkhZXE/+Vf+C6mRcT82aKwOo75xPwNfODUQ7HE/cXRkpvEZcj+bdeWLSEhyP2JQahIWd3I/eLKjaVumcj/vu0vEGdZyP37FLVhSBnM/qzouXgY3cz8OiFISN2hzP+UdybPlmXM/J4fxhBPMcz9OlWTLwf5zPwqh/M/xMXQ/F+Dd3qRldD9p0H5H3Jl0P+W4sFyZznQ/3T+odN0DdT+LFwbpqTl1P73A3xYAcHU/8mPIXuGmdT8bwdkkT951Pz02vdBKFnY/Lt20zdVOdj+swKSK8Yd2PwApHHqfwXY/cwBfEuH7dj/QT2/NtzZ3PyzTFiklcnc/NKfwpiqudz9GD3PMyep3P4xU+SIEKHg/Wr7NN9tleD8YpDOcUKR4P++YceVl43g/gbHbrBwjeT/r492PdmN5P1uCBjB1pHk/dtAQMxrmeT/Ts+9CZyh6P91/2A1ea3o/Td1NRgCvej+YzSqjT/N6P4jKrd9NOHs/UQKEu/x9ez9rsNT6XcR7P3aTTGZzC3w/dYApyz5TfD+pE0b7wZt8P2F/Jc3+5Hw/+Xj/G/cufT9sRMzHrHl9P7XeULUhxX0/VkcrzlcRfj9U6d4AUV5+P/sj4UAPrH4/s/OlhpT6fj9Cu6zP4kl/P8UtjR78mX8/v1kEe+Lqfz/D6gD5Sx6AP7aG2kqPR4A/+lnNPjxxgD89KkXjU5uAP0MEYknXxYA/JSj/hMfwgD9EB7qsJRyBPyNU+dnyR4E/VyT0KDB0gT+0JLm43qCBP/PfNav/zYE/8xc+JZT7gT/KMZNOnSmCP9m061EcWII/Dt36XBKHgj+MQHiggLaCP9+IJ1Bo5oI/AEDgosoWgz9IsZXSqEeDP5PeXhwEeYM/w4l+wN2qgz/SUmsCN92DP7Dq1ygREIQ/HVu7fW1DhD+0Y1lOTXeEP2HsSuuxq4Q/d42GqJzghD+aLWndDhaFP721vuQJTIU/ZdvKHI+ChT9uAVLnn7mFP4Yvoqk98YU/pCCczGkphj+maLy8JWKGP2CxJOpym4Y/Tw+lyFLVhj8vbsXPxg+HP7AVz3rQSoc/i0bWSHGGhz818MO8qsKHP2l/X11+/4c/zsVYte08iD/8+lFT+nqIPxjX6cmluYg/U8fFr/H4iD+FPJyf3ziJPyoUPzhxeYk/DBymHKi6iT/PsPnzhfyJP7J3nWkMP4o/xjM7LT2Cij/ats3yGcaKP3Huq3KkCos//AyUad5Piz+tz7aYyZWLPx3hwsVn3Is/IFnwurojjD8EWgxHxGuMP47LhD2GtIw//jN0dgL+jD9kr63OOkiNP6AFyScxk40/SN8uaOfejT/WGSV7XyuOP2A721CbeI4/NgZ33pzGjj+sLCEeZhWPP3AlEg/5ZI8/sSCftVe1jz87j6MNQgOQPzkTYCdALJA/21ACMqdVkD9EazA6eH+QP2FDQE+0qZA/iFg+g1zUkD+yuvTqcf+QP3wO8p31KpE/HKOQtuhWkT+Amv1RTIORP7ojQJAhsJE/7cdAlGndkT/tydCDJQuSP7+YsYdWOZI/J1Wcy/1nkj98akl+HJeSP+k6eNGzxpI/V9/2+cT2kj8s+6kvUSeTPxWklK1ZWJM/C17gsd+Jkz/JK+V95LuTP+ezMVZp7pM/0nqTgm8hlD/PMR9O+FSUP0QbOQcFiZQ/gISd/5a9lD8vVWmMr/KUP8G0IgZQKJU/7MXByHlelT+LeLkzLpWVPxJyAKpuzJU/0AwakjwElj85bh9WmTyWP3K0yGOGdZY/Xzt2LAWvlj9o+TklF+mWPzj04Ma9I5c/s838jfpelz9bae36zpqXP2mq6pE815c/1koO20QUmD+Wy11i6VGYP0N+1LcrkJg/fKhtbw3PmD82wS4hkA6ZP0PIMWm1Tpk/WLiv536PmT/KEwtB7tCZP0+M2h0FE5o/CMbzKsVVmj8YNnYZMJmaPwkd1p5H3Zo/U53ndA0imz9C7ulZg2ebP4WrkhCrrZs/t0EZYIb0mz8ieEIUFzycPw4YbP1ehJw/5bGY8F/NnD95gHvHGxedP7hqhGCUYZ0/GyTsnsusnT8mbMBqw/idPztt8LB9RZ4/IDtZY/ySnj96cdJ4QeGeP53yOu1OMJ8/9saFwSaAnz9uHcf7ytCfP4u2oNMeEaA/NVw5akA6oD9K+ZBMy2OgP3ZDNojAjaA/kwFqLSG4oD878iVP7uKgPwPEIwMpDqE/kh/kYdI5oT+6w7WG62WhP8SzvI91kqE/IHj5nXG/oT+lcVDV4OyhP5U/kVzEGqI/ijh+XR1Joj+L9tME7XeiP3P2UII0p6I/1Uq9CPXWoj+fYvLNLwejP5zj4grmN6M/Fpmi+xhpoz/Hdm7fyZqjP0mwtPj5zKM/QOUcjar/oz9sYpDl3DKkP+N3Qk6SZqQ/m+S4FsyapD+IV9SRi8+kP30G2RXSBKU/CVt3/KA6pT+MtdSi+XClP7lGlGndp6U/wP/ftE3fpT9ZmXHsSxemP+yxm3vZT6Y/EANT0feIpj+drjdgqMKmP4+jnp7s/KY/9BqbBsY3pz8lLQgWNnOnP4R/kk4+r6c/CAvCNeDrpz/I+wNVHSmoP9KptDn3Zqg/haspdW+lqD+3Abych+SoP+Rd0klBJKk/q4LrGZ5kqT/bvqiun6WpP1OD2K1H56k//xOBwZcpqj8yVOuXkWyqP6OureM2sKo/WBm3W4n0qj/CNVq7ijmrP1aNWMI8f6s/6ertNKHFqz8Z0dvbuQysPxIOdYSIVKw/7mypAA+drD8PhREnT+asP6un+tJKMK0/6Oty5AN7rT/JWVVAfMatP0k0VtC1Eq4/",
          "dtype": "f8"
         },
         "xaxis": "x2",
         "y": {
          "bdata": "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",
          "dtype": "f8"
         },
         "yaxis": "y2"
        },
        {
         "hovertemplate": "variable=ewm_batch_train_loss<br>lr=%{x}<br>value=%{y}<extra></extra>",
         "legendgroup": "",
         "line": {
          "color": "#636efa",
          "dash": "solid"
         },
         "marker": {
          "symbol": "circle"
         },
         "mode": "lines",
         "name": "",
         "orientation": "v",
         "showlegend": false,
         "type": "scatter",
         "x": {
          "bdata": "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",
          "dtype": "f8"
         },
         "xaxis": "x",
         "y": {
          "bdata": "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",
          "dtype": "f8"
         },
         "yaxis": "y"
        }
       ],
       "layout": {
        "annotations": [
         {
          "font": {},
          "showarrow": false,
          "text": "variable=ewm_batch_train_loss",
          "textangle": 90,
          "x": 0.98,
          "xanchor": "left",
          "xref": "paper",
          "y": 0.2425,
          "yanchor": "middle",
          "yref": "paper"
         },
         {
          "font": {},
          "showarrow": false,
          "text": "variable=batch_train_loss",
          "textangle": 90,
          "x": 0.98,
          "xanchor": "left",
          "xref": "paper",
          "y": 0.7575000000000001,
          "yanchor": "middle",
          "yref": "paper"
         }
        ],
        "height": 750,
        "legend": {
         "tracegroupgap": 0
        },
        "margin": {
         "t": 60
        },
        "template": {
         "data": {
          "bar": [
           {
            "error_x": {
             "color": "#2a3f5f"
            },
            "error_y": {
             "color": "#2a3f5f"
            },
            "marker": {
             "line": {
              "color": "#E5ECF6",
              "width": 0.5
             },
             "pattern": {
              "fillmode": "overlay",
              "size": 10,
              "solidity": 0.2
             }
            },
            "type": "bar"
           }
          ],
          "barpolar": [
           {
            "marker": {
             "line": {
              "color": "#E5ECF6",
              "width": 0.5
             },
             "pattern": {
              "fillmode": "overlay",
              "size": 10,
              "solidity": 0.2
             }
            },
            "type": "barpolar"
           }
          ],
          "carpet": [
           {
            "aaxis": {
             "endlinecolor": "#2a3f5f",
             "gridcolor": "white",
             "linecolor": "white",
             "minorgridcolor": "white",
             "startlinecolor": "#2a3f5f"
            },
            "baxis": {
             "endlinecolor": "#2a3f5f",
             "gridcolor": "white",
             "linecolor": "white",
             "minorgridcolor": "white",
             "startlinecolor": "#2a3f5f"
            },
            "type": "carpet"
           }
          ],
          "choropleth": [
           {
            "colorbar": {
             "outlinewidth": 0,
             "ticks": ""
            },
            "type": "choropleth"
           }
          ],
          "contour": [
           {
            "colorbar": {
             "outlinewidth": 0,
             "ticks": ""
            },
            "colorscale": [
             [
              0,
              "#0d0887"
             ],
             [
              0.1111111111111111,
              "#46039f"
             ],
             [
              0.2222222222222222,
              "#7201a8"
             ],
             [
              0.3333333333333333,
              "#9c179e"
             ],
             [
              0.4444444444444444,
              "#bd3786"
             ],
             [
              0.5555555555555556,
              "#d8576b"
             ],
             [
              0.6666666666666666,
              "#ed7953"
             ],
             [
              0.7777777777777778,
              "#fb9f3a"
             ],
             [
              0.8888888888888888,
              "#fdca26"
             ],
             [
              1,
              "#f0f921"
             ]
            ],
            "type": "contour"
           }
          ],
          "contourcarpet": [
           {
            "colorbar": {
             "outlinewidth": 0,
             "ticks": ""
            },
            "type": "contourcarpet"
           }
          ],
          "heatmap": [
           {
            "colorbar": {
             "outlinewidth": 0,
             "ticks": ""
            },
            "colorscale": [
             [
              0,
              "#0d0887"
             ],
             [
              0.1111111111111111,
              "#46039f"
             ],
             [
              0.2222222222222222,
              "#7201a8"
             ],
             [
              0.3333333333333333,
              "#9c179e"
             ],
             [
              0.4444444444444444,
              "#bd3786"
             ],
             [
              0.5555555555555556,
              "#d8576b"
             ],
             [
              0.6666666666666666,
              "#ed7953"
             ],
             [
              0.7777777777777778,
              "#fb9f3a"
             ],
             [
              0.8888888888888888,
              "#fdca26"
             ],
             [
              1,
              "#f0f921"
             ]
            ],
            "type": "heatmap"
           }
          ],
          "histogram": [
           {
            "marker": {
             "pattern": {
              "fillmode": "overlay",
              "size": 10,
              "solidity": 0.2
             }
            },
            "type": "histogram"
           }
          ],
          "histogram2d": [
           {
            "colorbar": {
             "outlinewidth": 0,
             "ticks": ""
            },
            "colorscale": [
             [
              0,
              "#0d0887"
             ],
             [
              0.1111111111111111,
              "#46039f"
             ],
             [
              0.2222222222222222,
              "#7201a8"
             ],
             [
              0.3333333333333333,
              "#9c179e"
             ],
             [
              0.4444444444444444,
              "#bd3786"
             ],
             [
              0.5555555555555556,
              "#d8576b"
             ],
             [
              0.6666666666666666,
              "#ed7953"
             ],
             [
              0.7777777777777778,
              "#fb9f3a"
             ],
             [
              0.8888888888888888,
              "#fdca26"
             ],
             [
              1,
              "#f0f921"
             ]
            ],
            "type": "histogram2d"
           }
          ],
          "histogram2dcontour": [
           {
            "colorbar": {
             "outlinewidth": 0,
             "ticks": ""
            },
            "colorscale": [
             [
              0,
              "#0d0887"
             ],
             [
              0.1111111111111111,
              "#46039f"
             ],
             [
              0.2222222222222222,
              "#7201a8"
             ],
             [
              0.3333333333333333,
              "#9c179e"
             ],
             [
              0.4444444444444444,
              "#bd3786"
             ],
             [
              0.5555555555555556,
              "#d8576b"
             ],
             [
              0.6666666666666666,
              "#ed7953"
             ],
             [
              0.7777777777777778,
              "#fb9f3a"
             ],
             [
              0.8888888888888888,
              "#fdca26"
             ],
             [
              1,
              "#f0f921"
             ]
            ],
            "type": "histogram2dcontour"
           }
          ],
          "mesh3d": [
           {
            "colorbar": {
             "outlinewidth": 0,
             "ticks": ""
            },
            "type": "mesh3d"
           }
          ],
          "parcoords": [
           {
            "line": {
             "colorbar": {
              "outlinewidth": 0,
              "ticks": ""
             }
            },
            "type": "parcoords"
           }
          ],
          "pie": [
           {
            "automargin": true,
            "type": "pie"
           }
          ],
          "scatter": [
           {
            "fillpattern": {
             "fillmode": "overlay",
             "size": 10,
             "solidity": 0.2
            },
            "type": "scatter"
           }
          ],
          "scatter3d": [
           {
            "line": {
             "colorbar": {
              "outlinewidth": 0,
              "ticks": ""
             }
            },
            "marker": {
             "colorbar": {
              "outlinewidth": 0,
              "ticks": ""
             }
            },
            "type": "scatter3d"
           }
          ],
          "scattercarpet": [
           {
            "marker": {
             "colorbar": {
              "outlinewidth": 0,
              "ticks": ""
             }
            },
            "type": "scattercarpet"
           }
          ],
          "scattergeo": [
           {
            "marker": {
             "colorbar": {
              "outlinewidth": 0,
              "ticks": ""
             }
            },
            "type": "scattergeo"
           }
          ],
          "scattergl": [
           {
            "marker": {
             "colorbar": {
              "outlinewidth": 0,
              "ticks": ""
             }
            },
            "type": "scattergl"
           }
          ],
          "scattermap": [
           {
            "marker": {
             "colorbar": {
              "outlinewidth": 0,
              "ticks": ""
             }
            },
            "type": "scattermap"
           }
          ],
          "scattermapbox": [
           {
            "marker": {
             "colorbar": {
              "outlinewidth": 0,
              "ticks": ""
             }
            },
            "type": "scattermapbox"
           }
          ],
          "scatterpolar": [
           {
            "marker": {
             "colorbar": {
              "outlinewidth": 0,
              "ticks": ""
             }
            },
            "type": "scatterpolar"
           }
          ],
          "scatterpolargl": [
           {
            "marker": {
             "colorbar": {
              "outlinewidth": 0,
              "ticks": ""
             }
            },
            "type": "scatterpolargl"
           }
          ],
          "scatterternary": [
           {
            "marker": {
             "colorbar": {
              "outlinewidth": 0,
              "ticks": ""
             }
            },
            "type": "scatterternary"
           }
          ],
          "surface": [
           {
            "colorbar": {
             "outlinewidth": 0,
             "ticks": ""
            },
            "colorscale": [
             [
              0,
              "#0d0887"
             ],
             [
              0.1111111111111111,
              "#46039f"
             ],
             [
              0.2222222222222222,
              "#7201a8"
             ],
             [
              0.3333333333333333,
              "#9c179e"
             ],
             [
              0.4444444444444444,
              "#bd3786"
             ],
             [
              0.5555555555555556,
              "#d8576b"
             ],
             [
              0.6666666666666666,
              "#ed7953"
             ],
             [
              0.7777777777777778,
              "#fb9f3a"
             ],
             [
              0.8888888888888888,
              "#fdca26"
             ],
             [
              1,
              "#f0f921"
             ]
            ],
            "type": "surface"
           }
          ],
          "table": [
           {
            "cells": {
             "fill": {
              "color": "#EBF0F8"
             },
             "line": {
              "color": "white"
             }
            },
            "header": {
             "fill": {
              "color": "#C8D4E3"
             },
             "line": {
              "color": "white"
             }
            },
            "type": "table"
           }
          ]
         },
         "layout": {
          "annotationdefaults": {
           "arrowcolor": "#2a3f5f",
           "arrowhead": 0,
           "arrowwidth": 1
          },
          "autotypenumbers": "strict",
          "coloraxis": {
           "colorbar": {
            "outlinewidth": 0,
            "ticks": ""
           }
          },
          "colorscale": {
           "diverging": [
            [
             0,
             "#8e0152"
            ],
            [
             0.1,
             "#c51b7d"
            ],
            [
             0.2,
             "#de77ae"
            ],
            [
             0.3,
             "#f1b6da"
            ],
            [
             0.4,
             "#fde0ef"
            ],
            [
             0.5,
             "#f7f7f7"
            ],
            [
             0.6,
             "#e6f5d0"
            ],
            [
             0.7,
             "#b8e186"
            ],
            [
             0.8,
             "#7fbc41"
            ],
            [
             0.9,
             "#4d9221"
            ],
            [
             1,
             "#276419"
            ]
           ],
           "sequential": [
            [
             0,
             "#0d0887"
            ],
            [
             0.1111111111111111,
             "#46039f"
            ],
            [
             0.2222222222222222,
             "#7201a8"
            ],
            [
             0.3333333333333333,
             "#9c179e"
            ],
            [
             0.4444444444444444,
             "#bd3786"
            ],
            [
             0.5555555555555556,
             "#d8576b"
            ],
            [
             0.6666666666666666,
             "#ed7953"
            ],
            [
             0.7777777777777778,
             "#fb9f3a"
            ],
            [
             0.8888888888888888,
             "#fdca26"
            ],
            [
             1,
             "#f0f921"
            ]
           ],
           "sequentialminus": [
            [
             0,
             "#0d0887"
            ],
            [
             0.1111111111111111,
             "#46039f"
            ],
            [
             0.2222222222222222,
             "#7201a8"
            ],
            [
             0.3333333333333333,
             "#9c179e"
            ],
            [
             0.4444444444444444,
             "#bd3786"
            ],
            [
             0.5555555555555556,
             "#d8576b"
            ],
            [
             0.6666666666666666,
             "#ed7953"
            ],
            [
             0.7777777777777778,
             "#fb9f3a"
            ],
            [
             0.8888888888888888,
             "#fdca26"
            ],
            [
             1,
             "#f0f921"
            ]
           ]
          },
          "colorway": [
           "#636efa",
           "#EF553B",
           "#00cc96",
           "#ab63fa",
           "#FFA15A",
           "#19d3f3",
           "#FF6692",
           "#B6E880",
           "#FF97FF",
           "#FECB52"
          ],
          "font": {
           "color": "#2a3f5f"
          },
          "geo": {
           "bgcolor": "white",
           "lakecolor": "white",
           "landcolor": "#E5ECF6",
           "showlakes": true,
           "showland": true,
           "subunitcolor": "white"
          },
          "hoverlabel": {
           "align": "left"
          },
          "hovermode": "closest",
          "mapbox": {
           "style": "light"
          },
          "paper_bgcolor": "white",
          "plot_bgcolor": "#E5ECF6",
          "polar": {
           "angularaxis": {
            "gridcolor": "white",
            "linecolor": "white",
            "ticks": ""
           },
           "bgcolor": "#E5ECF6",
           "radialaxis": {
            "gridcolor": "white",
            "linecolor": "white",
            "ticks": ""
           }
          },
          "scene": {
           "xaxis": {
            "backgroundcolor": "#E5ECF6",
            "gridcolor": "white",
            "gridwidth": 2,
            "linecolor": "white",
            "showbackground": true,
            "ticks": "",
            "zerolinecolor": "white"
           },
           "yaxis": {
            "backgroundcolor": "#E5ECF6",
            "gridcolor": "white",
            "gridwidth": 2,
            "linecolor": "white",
            "showbackground": true,
            "ticks": "",
            "zerolinecolor": "white"
           },
           "zaxis": {
            "backgroundcolor": "#E5ECF6",
            "gridcolor": "white",
            "gridwidth": 2,
            "linecolor": "white",
            "showbackground": true,
            "ticks": "",
            "zerolinecolor": "white"
           }
          },
          "shapedefaults": {
           "line": {
            "color": "#2a3f5f"
           }
          },
          "ternary": {
           "aaxis": {
            "gridcolor": "white",
            "linecolor": "white",
            "ticks": ""
           },
           "baxis": {
            "gridcolor": "white",
            "linecolor": "white",
            "ticks": ""
           },
           "bgcolor": "#E5ECF6",
           "caxis": {
            "gridcolor": "white",
            "linecolor": "white",
            "ticks": ""
           }
          },
          "title": {
           "x": 0.05
          },
          "xaxis": {
           "automargin": true,
           "gridcolor": "white",
           "linecolor": "white",
           "ticks": "",
           "title": {
            "standoff": 15
           },
           "zerolinecolor": "white",
           "zerolinewidth": 2
          },
          "yaxis": {
           "automargin": true,
           "gridcolor": "white",
           "linecolor": "white",
           "ticks": "",
           "title": {
            "standoff": 15
           },
           "zerolinecolor": "white",
           "zerolinewidth": 2
          }
         }
        },
        "xaxis": {
         "anchor": "y",
         "domain": [
          0,
          0.98
         ],
         "title": {
          "text": "lr"
         },
         "type": "log"
        },
        "xaxis2": {
         "anchor": "y2",
         "domain": [
          0,
          0.98
         ],
         "matches": "x",
         "showticklabels": false,
         "type": "log"
        },
        "yaxis": {
         "anchor": "x",
         "domain": [
          0,
          0.485
         ],
         "title": {
          "text": "value"
         },
         "type": "log"
        },
        "yaxis2": {
         "anchor": "x2",
         "domain": [
          0.515,
          1
         ],
         "title": {
          "text": "value"
         },
         "type": "log"
        }
       }
      }
     },
     "metadata": {},
     "output_type": "display_data"
    },
    {
     "name": "stdout",
     "output_type": "stream",
     "text": [
      "Maximum learning rate: 0.0027139606556061827\n"
     ]
    }
   ],
   "source": [
    "full_dataset = CMIDataset(\"full_dataset\")\n",
    "full_dataset_loader = DL(full_dataset, TRAIN_BATCH_SIZE, shuffle=True)\n",
    "_, mock_training_metrics = mk_model_and_fit(\n",
    "    full_dataset_loader,\n",
    "    partial(torch.optim.lr_scheduler.ExponentialLR, gamma=MOCK_TRAINING_GAMMA),\n",
    "    MOCK_TRAINING_EPOCHS\n",
    ")\n",
    "mock_training_metrics = post_process_mock_training_metrics(mock_training_metrics)\n",
    "plt_lr_search_training_metrics(mock_training_metrics)\n",
    "max_lr = mock_training_metrics[\"ewm_batch_train_loss\"].idxmin()\n",
    "# max_lr = 0.002\n",
    "print(\"Maximum learning rate:\", max_lr)"
   ]
  },
  {
   "cell_type": "markdown",
   "id": "e1cc3c5f",
   "metadata": {
    "papermill": {
     "duration": 0.003108,
     "end_time": "2025-06-14T10:01:56.186803",
     "exception": false,
     "start_time": "2025-06-14T10:01:56.183695",
     "status": "completed"
    },
    "tags": []
   },
   "source": [
    "## Training loop"
   ]
  },
  {
   "cell_type": "code",
   "execution_count": 70,
   "id": "2be28a9c",
   "metadata": {
    "execution": {
     "iopub.execute_input": "2025-06-14T10:01:56.194003Z",
     "iopub.status.busy": "2025-06-14T10:01:56.193740Z",
     "iopub.status.idle": "2025-06-14T10:09:14.752385Z",
     "shell.execute_reply": "2025-06-14T10:09:14.751491Z"
    },
    "papermill": {
     "duration": 438.563878,
     "end_time": "2025-06-14T10:09:14.753712",
     "exception": false,
     "start_time": "2025-06-14T10:01:56.189834",
     "status": "completed"
    },
    "tags": []
   },
   "outputs": [
    {
     "name": "stdout",
     "output_type": "stream",
     "text": [
      "training: 1\n",
      "\n",
      "==================================================\n",
      "Fold 1/5\n",
      "Epoch 01: Train Loss = 1.8653, Val Loss = 1.4985\n",
      "  Binary F1 = 0.9323, Macro F1 = 0.4755, Final Metric = 0.7039\n",
      "  New best metric! Saving model...\n",
      "Epoch 02: Train Loss = 1.0058, Val Loss = 1.1872\n",
      "  Binary F1 = 0.9552, Macro F1 = 0.5462, Final Metric = 0.7507\n",
      "  New best metric! Saving model...\n",
      "Epoch 03: Train Loss = 0.6523, Val Loss = 1.1180\n",
      "  Binary F1 = 0.9614, Macro F1 = 0.5924, Final Metric = 0.7769\n",
      "  New best metric! Saving model...\n",
      "Epoch 04: Train Loss = 0.4198, Val Loss = 1.0743\n",
      "  Binary F1 = 0.9610, Macro F1 = 0.5770, Final Metric = 0.7690\n",
      "Epoch 05: Train Loss = 0.2984, Val Loss = 1.0948\n",
      "  Binary F1 = 0.9600, Macro F1 = 0.5941, Final Metric = 0.7771\n",
      "  New best metric! Saving model...\n",
      "Epoch 06: Train Loss = 0.3613, Val Loss = 1.2834\n",
      "  Binary F1 = 0.9579, Macro F1 = 0.5880, Final Metric = 0.7729\n",
      "Epoch 07: Train Loss = 0.2196, Val Loss = 1.3399\n",
      "  Binary F1 = 0.9554, Macro F1 = 0.5879, Final Metric = 0.7717\n",
      "Epoch 08: Train Loss = 0.0884, Val Loss = 1.3622\n",
      "  Binary F1 = 0.9587, Macro F1 = 0.5853, Final Metric = 0.7720\n",
      "Epoch 09: Train Loss = 0.0249, Val Loss = 1.3605\n",
      "  Binary F1 = 0.9600, Macro F1 = 0.6148, Final Metric = 0.7874\n",
      "  New best metric! Saving model...\n",
      "Epoch 10: Train Loss = 0.0113, Val Loss = 1.3715\n",
      "  Binary F1 = 0.9604, Macro F1 = 0.6111, Final Metric = 0.7858\n",
      "Epoch 11: Train Loss = 0.0079, Val Loss = 1.4850\n",
      "  Binary F1 = 0.9589, Macro F1 = 0.6095, Final Metric = 0.7842\n",
      "Epoch 12: Train Loss = 0.0063, Val Loss = 1.5672\n",
      "  Binary F1 = 0.9600, Macro F1 = 0.6016, Final Metric = 0.7808\n",
      "Epoch 13: Train Loss = 0.0039, Val Loss = 1.5476\n",
      "  Binary F1 = 0.9575, Macro F1 = 0.6091, Final Metric = 0.7833\n",
      "Epoch 14: Train Loss = 0.0022, Val Loss = 1.5693\n",
      "  Binary F1 = 0.9580, Macro F1 = 0.6055, Final Metric = 0.7818\n",
      "Epoch 15: Train Loss = 0.0018, Val Loss = 1.5715\n",
      "  Binary F1 = 0.9580, Macro F1 = 0.6035, Final Metric = 0.7808\n",
      "Epoch 16: Train Loss = 0.0016, Val Loss = 1.5987\n",
      "  Binary F1 = 0.9570, Macro F1 = 0.6101, Final Metric = 0.7836\n",
      "Epoch 17: Train Loss = 0.0011, Val Loss = 1.6347\n",
      "  Binary F1 = 0.9574, Macro F1 = 0.6100, Final Metric = 0.7837\n",
      "Epoch 18: Train Loss = 0.0009, Val Loss = 1.6447\n",
      "  Binary F1 = 0.9575, Macro F1 = 0.6053, Final Metric = 0.7814\n",
      "Epoch 19: Train Loss = 0.0008, Val Loss = 1.6525\n",
      "  Binary F1 = 0.9564, Macro F1 = 0.6025, Final Metric = 0.7795\n",
      "Epoch 20: Train Loss = 0.0008, Val Loss = 1.6546\n",
      "  Binary F1 = 0.9569, Macro F1 = 0.6046, Final Metric = 0.7807\n",
      "Epoch 21: Train Loss = 0.0007, Val Loss = 1.6768\n",
      "  Binary F1 = 0.9565, Macro F1 = 0.6107, Final Metric = 0.7836\n",
      "Epoch 22: Train Loss = 0.0006, Val Loss = 1.6880\n",
      "  Binary F1 = 0.9569, Macro F1 = 0.6164, Final Metric = 0.7867\n",
      "Epoch 23: Train Loss = 0.0005, Val Loss = 1.7033\n",
      "  Binary F1 = 0.9570, Macro F1 = 0.6107, Final Metric = 0.7838\n",
      "Epoch 24: Train Loss = 0.0005, Val Loss = 1.7037\n",
      "  Binary F1 = 0.9564, Macro F1 = 0.6100, Final Metric = 0.7832\n",
      "Epoch 25: Train Loss = 0.0005, Val Loss = 1.7104\n",
      "  Binary F1 = 0.9564, Macro F1 = 0.6080, Final Metric = 0.7822\n",
      "Epoch 26: Train Loss = 0.0005, Val Loss = 1.7241\n",
      "  Binary F1 = 0.9565, Macro F1 = 0.6104, Final Metric = 0.7834\n",
      "Epoch 27: Train Loss = 0.0004, Val Loss = 1.7398\n",
      "  Binary F1 = 0.9564, Macro F1 = 0.6082, Final Metric = 0.7823\n",
      "Epoch 28: Train Loss = 0.0004, Val Loss = 1.7461\n",
      "  Binary F1 = 0.9565, Macro F1 = 0.6095, Final Metric = 0.7830\n",
      "Epoch 29: Train Loss = 0.0003, Val Loss = 1.7522\n",
      "  Binary F1 = 0.9559, Macro F1 = 0.6111, Final Metric = 0.7835\n",
      "Epoch 30: Train Loss = 0.0003, Val Loss = 1.7530\n",
      "  Binary F1 = 0.9565, Macro F1 = 0.6108, Final Metric = 0.7837\n",
      "Epoch 31: Train Loss = 0.0003, Val Loss = 1.7656\n",
      "  Binary F1 = 0.9549, Macro F1 = 0.6063, Final Metric = 0.7806\n",
      "Epoch 32: Train Loss = 0.0003, Val Loss = 1.7762\n",
      "  Binary F1 = 0.9560, Macro F1 = 0.6092, Final Metric = 0.7826\n",
      "Epoch 33: Train Loss = 0.0003, Val Loss = 1.7834\n",
      "  Binary F1 = 0.9545, Macro F1 = 0.6054, Final Metric = 0.7799\n",
      "Epoch 34: Train Loss = 0.0003, Val Loss = 1.7897\n",
      "  Binary F1 = 0.9564, Macro F1 = 0.6098, Final Metric = 0.7831\n",
      "Epoch 35: Train Loss = 0.0002, Val Loss = 1.7896\n",
      "  Binary F1 = 0.9564, Macro F1 = 0.6061, Final Metric = 0.7813\n",
      "Epoch 36: Train Loss = 0.0002, Val Loss = 1.7966\n",
      "  Binary F1 = 0.9560, Macro F1 = 0.6090, Final Metric = 0.7825\n",
      "Epoch 37: Train Loss = 0.0002, Val Loss = 1.8102\n",
      "  Binary F1 = 0.9564, Macro F1 = 0.6064, Final Metric = 0.7814\n",
      "Epoch 38: Train Loss = 0.0002, Val Loss = 1.8181\n",
      "  Binary F1 = 0.9569, Macro F1 = 0.6077, Final Metric = 0.7823\n",
      "Epoch 39: Train Loss = 0.0002, Val Loss = 1.8209\n",
      "  Binary F1 = 0.9569, Macro F1 = 0.6077, Final Metric = 0.7823\n",
      "Epoch 40: Train Loss = 0.0002, Val Loss = 1.8273\n",
      "  Binary F1 = 0.9560, Macro F1 = 0.6127, Final Metric = 0.7843\n",
      "Epoch 41: Train Loss = 0.0002, Val Loss = 1.8289\n",
      "  Binary F1 = 0.9560, Macro F1 = 0.6083, Final Metric = 0.7821\n",
      "Epoch 42: Train Loss = 0.0002, Val Loss = 1.8416\n",
      "  Binary F1 = 0.9564, Macro F1 = 0.6105, Final Metric = 0.7834\n",
      "Epoch 43: Train Loss = 0.0002, Val Loss = 1.8431\n",
      "  Binary F1 = 0.9559, Macro F1 = 0.6124, Final Metric = 0.7842\n",
      "Epoch 44: Train Loss = 0.0001, Val Loss = 1.8489\n",
      "  Binary F1 = 0.9564, Macro F1 = 0.6109, Final Metric = 0.7837\n",
      "Epoch 45: Train Loss = 0.0001, Val Loss = 1.8430\n",
      "  Binary F1 = 0.9560, Macro F1 = 0.6116, Final Metric = 0.7838\n",
      "Epoch 46: Train Loss = 0.0001, Val Loss = 1.8564\n",
      "  Binary F1 = 0.9559, Macro F1 = 0.6112, Final Metric = 0.7835\n",
      "Epoch 47: Train Loss = 0.0001, Val Loss = 1.8672\n",
      "  Binary F1 = 0.9559, Macro F1 = 0.6092, Final Metric = 0.7826\n",
      "Epoch 48: Train Loss = 0.0001, Val Loss = 1.8693\n",
      "  Binary F1 = 0.9559, Macro F1 = 0.6148, Final Metric = 0.7853\n",
      "Epoch 49: Train Loss = 0.0001, Val Loss = 1.8737\n",
      "  Binary F1 = 0.9569, Macro F1 = 0.6105, Final Metric = 0.7837\n",
      "Epoch 50: Train Loss = 0.0001, Val Loss = 1.8760\n",
      "  Binary F1 = 0.9559, Macro F1 = 0.6097, Final Metric = 0.7828\n",
      "\n",
      "Fold 1 completed.\n",
      "Final validation metrics - Binary F1: 0.9559, Macro F1: 0.6097, Final: 0.7828\n",
      "Best validation metrics - Binary F1: 0.9600, Macro F1: 0.6148, Final: 0.7874\n",
      "training: 2\n",
      "\n",
      "==================================================\n",
      "Fold 2/5\n",
      "Epoch 01: Train Loss = 1.7907, Val Loss = 1.5489\n",
      "  Binary F1 = 0.9313, Macro F1 = 0.4201, Final Metric = 0.6757\n",
      "  New best metric! Saving model...\n",
      "Epoch 02: Train Loss = 0.9511, Val Loss = 1.6240\n",
      "  Binary F1 = 0.9500, Macro F1 = 0.5181, Final Metric = 0.7340\n",
      "  New best metric! Saving model...\n",
      "Epoch 03: Train Loss = 0.6262, Val Loss = 1.5626\n",
      "  Binary F1 = 0.9498, Macro F1 = 0.5438, Final Metric = 0.7468\n",
      "  New best metric! Saving model...\n",
      "Epoch 04: Train Loss = 0.4116, Val Loss = 1.4291\n",
      "  Binary F1 = 0.9618, Macro F1 = 0.5675, Final Metric = 0.7647\n",
      "  New best metric! Saving model...\n",
      "Epoch 05: Train Loss = 0.2875, Val Loss = 1.4400\n",
      "  Binary F1 = 0.9593, Macro F1 = 0.5777, Final Metric = 0.7685\n",
      "  New best metric! Saving model...\n",
      "Epoch 06: Train Loss = 0.3414, Val Loss = 1.6067\n",
      "  Binary F1 = 0.9580, Macro F1 = 0.5506, Final Metric = 0.7543\n",
      "Epoch 07: Train Loss = 0.2215, Val Loss = 1.7287\n",
      "  Binary F1 = 0.9551, Macro F1 = 0.5554, Final Metric = 0.7553\n",
      "Epoch 08: Train Loss = 0.1058, Val Loss = 1.7213\n",
      "  Binary F1 = 0.9583, Macro F1 = 0.5600, Final Metric = 0.7592\n",
      "Epoch 09: Train Loss = 0.0322, Val Loss = 1.7677\n",
      "  Binary F1 = 0.9578, Macro F1 = 0.5772, Final Metric = 0.7675\n",
      "Epoch 10: Train Loss = 0.0142, Val Loss = 1.7604\n",
      "  Binary F1 = 0.9603, Macro F1 = 0.5760, Final Metric = 0.7681\n",
      "Epoch 11: Train Loss = 0.0103, Val Loss = 1.9522\n",
      "  Binary F1 = 0.9552, Macro F1 = 0.5769, Final Metric = 0.7661\n",
      "Epoch 12: Train Loss = 0.0065, Val Loss = 2.0097\n",
      "  Binary F1 = 0.9557, Macro F1 = 0.5734, Final Metric = 0.7646\n",
      "Epoch 13: Train Loss = 0.0029, Val Loss = 2.0476\n",
      "  Binary F1 = 0.9616, Macro F1 = 0.5787, Final Metric = 0.7702\n",
      "  New best metric! Saving model...\n",
      "Epoch 14: Train Loss = 0.0023, Val Loss = 2.0562\n",
      "  Binary F1 = 0.9622, Macro F1 = 0.5824, Final Metric = 0.7723\n",
      "  New best metric! Saving model...\n",
      "Epoch 15: Train Loss = 0.0018, Val Loss = 2.0594\n",
      "  Binary F1 = 0.9622, Macro F1 = 0.5778, Final Metric = 0.7700\n",
      "Epoch 16: Train Loss = 0.0016, Val Loss = 2.1118\n",
      "  Binary F1 = 0.9589, Macro F1 = 0.5770, Final Metric = 0.7679\n",
      "Epoch 17: Train Loss = 0.0012, Val Loss = 2.1315\n",
      "  Binary F1 = 0.9622, Macro F1 = 0.5771, Final Metric = 0.7697\n",
      "Epoch 18: Train Loss = 0.0010, Val Loss = 2.1563\n",
      "  Binary F1 = 0.9627, Macro F1 = 0.5805, Final Metric = 0.7716\n",
      "Epoch 19: Train Loss = 0.0009, Val Loss = 2.1648\n",
      "  Binary F1 = 0.9627, Macro F1 = 0.5819, Final Metric = 0.7723\n",
      "Epoch 20: Train Loss = 0.0008, Val Loss = 2.1655\n",
      "  Binary F1 = 0.9617, Macro F1 = 0.5784, Final Metric = 0.7701\n",
      "Epoch 21: Train Loss = 0.0008, Val Loss = 2.1997\n",
      "  Binary F1 = 0.9618, Macro F1 = 0.5828, Final Metric = 0.7723\n",
      "  New best metric! Saving model...\n",
      "Epoch 22: Train Loss = 0.0006, Val Loss = 2.2108\n",
      "  Binary F1 = 0.9617, Macro F1 = 0.5797, Final Metric = 0.7707\n",
      "Epoch 23: Train Loss = 0.0006, Val Loss = 2.2347\n",
      "  Binary F1 = 0.9612, Macro F1 = 0.5799, Final Metric = 0.7706\n",
      "Epoch 24: Train Loss = 0.0005, Val Loss = 2.2310\n",
      "  Binary F1 = 0.9627, Macro F1 = 0.5814, Final Metric = 0.7720\n",
      "Epoch 25: Train Loss = 0.0005, Val Loss = 2.2440\n",
      "  Binary F1 = 0.9632, Macro F1 = 0.5783, Final Metric = 0.7708\n",
      "Epoch 26: Train Loss = 0.0005, Val Loss = 2.2554\n",
      "  Binary F1 = 0.9627, Macro F1 = 0.5833, Final Metric = 0.7730\n",
      "  New best metric! Saving model...\n",
      "Epoch 27: Train Loss = 0.0004, Val Loss = 2.2784\n",
      "  Binary F1 = 0.9627, Macro F1 = 0.5743, Final Metric = 0.7685\n",
      "Epoch 28: Train Loss = 0.0004, Val Loss = 2.2856\n",
      "  Binary F1 = 0.9622, Macro F1 = 0.5789, Final Metric = 0.7705\n",
      "Epoch 29: Train Loss = 0.0004, Val Loss = 2.2929\n",
      "  Binary F1 = 0.9617, Macro F1 = 0.5777, Final Metric = 0.7697\n",
      "Epoch 30: Train Loss = 0.0003, Val Loss = 2.3083\n",
      "  Binary F1 = 0.9618, Macro F1 = 0.5754, Final Metric = 0.7686\n",
      "Epoch 31: Train Loss = 0.0003, Val Loss = 2.3264\n",
      "  Binary F1 = 0.9622, Macro F1 = 0.5773, Final Metric = 0.7697\n",
      "Epoch 32: Train Loss = 0.0003, Val Loss = 2.3338\n",
      "  Binary F1 = 0.9616, Macro F1 = 0.5749, Final Metric = 0.7683\n",
      "Epoch 33: Train Loss = 0.0003, Val Loss = 2.3509\n",
      "  Binary F1 = 0.9616, Macro F1 = 0.5777, Final Metric = 0.7697\n",
      "Epoch 34: Train Loss = 0.0003, Val Loss = 2.3440\n",
      "  Binary F1 = 0.9627, Macro F1 = 0.5776, Final Metric = 0.7701\n",
      "Epoch 35: Train Loss = 0.0003, Val Loss = 2.3607\n",
      "  Binary F1 = 0.9626, Macro F1 = 0.5791, Final Metric = 0.7709\n",
      "Epoch 36: Train Loss = 0.0002, Val Loss = 2.3647\n",
      "  Binary F1 = 0.9617, Macro F1 = 0.5762, Final Metric = 0.7690\n",
      "Epoch 37: Train Loss = 0.0002, Val Loss = 2.3801\n",
      "  Binary F1 = 0.9626, Macro F1 = 0.5766, Final Metric = 0.7696\n",
      "Epoch 38: Train Loss = 0.0002, Val Loss = 2.3948\n",
      "  Binary F1 = 0.9622, Macro F1 = 0.5739, Final Metric = 0.7680\n",
      "Epoch 39: Train Loss = 0.0002, Val Loss = 2.3889\n",
      "  Binary F1 = 0.9621, Macro F1 = 0.5760, Final Metric = 0.7691\n",
      "Epoch 40: Train Loss = 0.0002, Val Loss = 2.4028\n",
      "  Binary F1 = 0.9627, Macro F1 = 0.5763, Final Metric = 0.7695\n",
      "Epoch 41: Train Loss = 0.0002, Val Loss = 2.4040\n",
      "  Binary F1 = 0.9621, Macro F1 = 0.5754, Final Metric = 0.7688\n",
      "Epoch 42: Train Loss = 0.0002, Val Loss = 2.4351\n",
      "  Binary F1 = 0.9616, Macro F1 = 0.5734, Final Metric = 0.7675\n",
      "Epoch 43: Train Loss = 0.0002, Val Loss = 2.4371\n",
      "  Binary F1 = 0.9627, Macro F1 = 0.5752, Final Metric = 0.7689\n",
      "Epoch 44: Train Loss = 0.0002, Val Loss = 2.4491\n",
      "  Binary F1 = 0.9616, Macro F1 = 0.5761, Final Metric = 0.7689\n",
      "Epoch 45: Train Loss = 0.0002, Val Loss = 2.4359\n",
      "  Binary F1 = 0.9621, Macro F1 = 0.5786, Final Metric = 0.7704\n",
      "Epoch 46: Train Loss = 0.0001, Val Loss = 2.4461\n",
      "  Binary F1 = 0.9631, Macro F1 = 0.5787, Final Metric = 0.7709\n",
      "Epoch 47: Train Loss = 0.0001, Val Loss = 2.4610\n",
      "  Binary F1 = 0.9616, Macro F1 = 0.5780, Final Metric = 0.7698\n",
      "Epoch 48: Train Loss = 0.0001, Val Loss = 2.4828\n",
      "  Binary F1 = 0.9617, Macro F1 = 0.5754, Final Metric = 0.7686\n",
      "Epoch 49: Train Loss = 0.0001, Val Loss = 2.4771\n",
      "  Binary F1 = 0.9607, Macro F1 = 0.5778, Final Metric = 0.7693\n",
      "Epoch 50: Train Loss = 0.0001, Val Loss = 2.4832\n",
      "  Binary F1 = 0.9612, Macro F1 = 0.5787, Final Metric = 0.7699\n",
      "\n",
      "Fold 2 completed.\n",
      "Final validation metrics - Binary F1: 0.9612, Macro F1: 0.5787, Final: 0.7699\n",
      "Best validation metrics - Binary F1: 0.9627, Macro F1: 0.5833, Final: 0.7730\n",
      "training: 3\n",
      "\n",
      "==================================================\n",
      "Fold 3/5\n",
      "Epoch 01: Train Loss = 1.8445, Val Loss = 2.0967\n",
      "  Binary F1 = 0.9087, Macro F1 = 0.4504, Final Metric = 0.6795\n",
      "  New best metric! Saving model...\n",
      "Epoch 02: Train Loss = 0.9594, Val Loss = 2.5262\n",
      "  Binary F1 = 0.9305, Macro F1 = 0.5301, Final Metric = 0.7303\n",
      "  New best metric! Saving model...\n",
      "Epoch 03: Train Loss = 0.6410, Val Loss = 2.5039\n",
      "  Binary F1 = 0.9241, Macro F1 = 0.5442, Final Metric = 0.7341\n",
      "  New best metric! Saving model...\n",
      "Epoch 04: Train Loss = 0.4305, Val Loss = 2.4214\n",
      "  Binary F1 = 0.9328, Macro F1 = 0.5780, Final Metric = 0.7554\n",
      "  New best metric! Saving model...\n",
      "Epoch 05: Train Loss = 0.3128, Val Loss = 2.4822\n",
      "  Binary F1 = 0.9349, Macro F1 = 0.5749, Final Metric = 0.7549\n",
      "Epoch 06: Train Loss = 0.4049, Val Loss = 3.3036\n",
      "  Binary F1 = 0.9261, Macro F1 = 0.5011, Final Metric = 0.7136\n",
      "Epoch 07: Train Loss = 0.2685, Val Loss = 2.7872\n",
      "  Binary F1 = 0.9327, Macro F1 = 0.5634, Final Metric = 0.7481\n",
      "Epoch 08: Train Loss = 0.1094, Val Loss = 3.0532\n",
      "  Binary F1 = 0.9379, Macro F1 = 0.5687, Final Metric = 0.7533\n",
      "Epoch 09: Train Loss = 0.0334, Val Loss = 3.0603\n",
      "  Binary F1 = 0.9389, Macro F1 = 0.5708, Final Metric = 0.7548\n",
      "Epoch 10: Train Loss = 0.0160, Val Loss = 3.0474\n",
      "  Binary F1 = 0.9394, Macro F1 = 0.5801, Final Metric = 0.7597\n",
      "  New best metric! Saving model...\n",
      "Epoch 11: Train Loss = 0.0112, Val Loss = 3.3075\n",
      "  Binary F1 = 0.9386, Macro F1 = 0.5754, Final Metric = 0.7570\n",
      "Epoch 12: Train Loss = 0.0049, Val Loss = 3.4940\n",
      "  Binary F1 = 0.9380, Macro F1 = 0.5814, Final Metric = 0.7597\n",
      "  New best metric! Saving model...\n",
      "Epoch 13: Train Loss = 0.0028, Val Loss = 3.5658\n",
      "  Binary F1 = 0.9385, Macro F1 = 0.5753, Final Metric = 0.7569\n",
      "Epoch 14: Train Loss = 0.0022, Val Loss = 3.5872\n",
      "  Binary F1 = 0.9385, Macro F1 = 0.5728, Final Metric = 0.7556\n",
      "Epoch 15: Train Loss = 0.0019, Val Loss = 3.6062\n",
      "  Binary F1 = 0.9390, Macro F1 = 0.5731, Final Metric = 0.7560\n",
      "Epoch 16: Train Loss = 0.0018, Val Loss = 3.6668\n",
      "  Binary F1 = 0.9389, Macro F1 = 0.5706, Final Metric = 0.7548\n",
      "Epoch 17: Train Loss = 0.0014, Val Loss = 3.7111\n",
      "  Binary F1 = 0.9390, Macro F1 = 0.5675, Final Metric = 0.7533\n",
      "Epoch 18: Train Loss = 0.0011, Val Loss = 3.7689\n",
      "  Binary F1 = 0.9395, Macro F1 = 0.5693, Final Metric = 0.7544\n",
      "Epoch 19: Train Loss = 0.0010, Val Loss = 3.7947\n",
      "  Binary F1 = 0.9395, Macro F1 = 0.5697, Final Metric = 0.7546\n",
      "Epoch 20: Train Loss = 0.0009, Val Loss = 3.8042\n",
      "  Binary F1 = 0.9395, Macro F1 = 0.5700, Final Metric = 0.7547\n",
      "Epoch 21: Train Loss = 0.0009, Val Loss = 3.8551\n",
      "  Binary F1 = 0.9410, Macro F1 = 0.5711, Final Metric = 0.7561\n",
      "Epoch 22: Train Loss = 0.0007, Val Loss = 3.8775\n",
      "  Binary F1 = 0.9405, Macro F1 = 0.5742, Final Metric = 0.7574\n",
      "Epoch 23: Train Loss = 0.0007, Val Loss = 3.9177\n",
      "  Binary F1 = 0.9399, Macro F1 = 0.5704, Final Metric = 0.7552\n",
      "Epoch 24: Train Loss = 0.0006, Val Loss = 3.9296\n",
      "  Binary F1 = 0.9398, Macro F1 = 0.5707, Final Metric = 0.7552\n",
      "Epoch 25: Train Loss = 0.0006, Val Loss = 3.9465\n",
      "  Binary F1 = 0.9393, Macro F1 = 0.5676, Final Metric = 0.7534\n",
      "Epoch 26: Train Loss = 0.0006, Val Loss = 3.9569\n",
      "  Binary F1 = 0.9399, Macro F1 = 0.5672, Final Metric = 0.7536\n",
      "Epoch 27: Train Loss = 0.0005, Val Loss = 4.0048\n",
      "  Binary F1 = 0.9398, Macro F1 = 0.5678, Final Metric = 0.7538\n",
      "Epoch 28: Train Loss = 0.0004, Val Loss = 4.0377\n",
      "  Binary F1 = 0.9408, Macro F1 = 0.5670, Final Metric = 0.7539\n",
      "Epoch 29: Train Loss = 0.0004, Val Loss = 4.0482\n",
      "  Binary F1 = 0.9408, Macro F1 = 0.5696, Final Metric = 0.7552\n",
      "Epoch 30: Train Loss = 0.0004, Val Loss = 4.0573\n",
      "  Binary F1 = 0.9408, Macro F1 = 0.5670, Final Metric = 0.7539\n",
      "Epoch 31: Train Loss = 0.0004, Val Loss = 4.0883\n",
      "  Binary F1 = 0.9398, Macro F1 = 0.5683, Final Metric = 0.7540\n",
      "Epoch 32: Train Loss = 0.0003, Val Loss = 4.1024\n",
      "  Binary F1 = 0.9403, Macro F1 = 0.5697, Final Metric = 0.7550\n",
      "Epoch 33: Train Loss = 0.0003, Val Loss = 4.1271\n",
      "  Binary F1 = 0.9403, Macro F1 = 0.5689, Final Metric = 0.7546\n",
      "Epoch 34: Train Loss = 0.0003, Val Loss = 4.1276\n",
      "  Binary F1 = 0.9392, Macro F1 = 0.5695, Final Metric = 0.7544\n",
      "Epoch 35: Train Loss = 0.0003, Val Loss = 4.1427\n",
      "  Binary F1 = 0.9403, Macro F1 = 0.5716, Final Metric = 0.7559\n",
      "Epoch 36: Train Loss = 0.0003, Val Loss = 4.1652\n",
      "  Binary F1 = 0.9397, Macro F1 = 0.5698, Final Metric = 0.7547\n",
      "Epoch 37: Train Loss = 0.0002, Val Loss = 4.1827\n",
      "  Binary F1 = 0.9402, Macro F1 = 0.5739, Final Metric = 0.7571\n",
      "Epoch 38: Train Loss = 0.0002, Val Loss = 4.1943\n",
      "  Binary F1 = 0.9396, Macro F1 = 0.5714, Final Metric = 0.7555\n",
      "Epoch 39: Train Loss = 0.0002, Val Loss = 4.2122\n",
      "  Binary F1 = 0.9396, Macro F1 = 0.5691, Final Metric = 0.7544\n",
      "Epoch 40: Train Loss = 0.0002, Val Loss = 4.2008\n",
      "  Binary F1 = 0.9397, Macro F1 = 0.5717, Final Metric = 0.7557\n",
      "Epoch 41: Train Loss = 0.0002, Val Loss = 4.2179\n",
      "  Binary F1 = 0.9391, Macro F1 = 0.5716, Final Metric = 0.7553\n",
      "Epoch 42: Train Loss = 0.0002, Val Loss = 4.2438\n",
      "  Binary F1 = 0.9396, Macro F1 = 0.5704, Final Metric = 0.7550\n",
      "Epoch 43: Train Loss = 0.0002, Val Loss = 4.2671\n",
      "  Binary F1 = 0.9392, Macro F1 = 0.5732, Final Metric = 0.7562\n",
      "Epoch 44: Train Loss = 0.0002, Val Loss = 4.2543\n",
      "  Binary F1 = 0.9391, Macro F1 = 0.5721, Final Metric = 0.7556\n",
      "Epoch 45: Train Loss = 0.0002, Val Loss = 4.2983\n",
      "  Binary F1 = 0.9391, Macro F1 = 0.5724, Final Metric = 0.7557\n",
      "Epoch 46: Train Loss = 0.0002, Val Loss = 4.2908\n",
      "  Binary F1 = 0.9391, Macro F1 = 0.5718, Final Metric = 0.7555\n",
      "Epoch 47: Train Loss = 0.0002, Val Loss = 4.2869\n",
      "  Binary F1 = 0.9392, Macro F1 = 0.5728, Final Metric = 0.7560\n",
      "Epoch 48: Train Loss = 0.0001, Val Loss = 4.3209\n",
      "  Binary F1 = 0.9391, Macro F1 = 0.5713, Final Metric = 0.7552\n",
      "Epoch 49: Train Loss = 0.0001, Val Loss = 4.3211\n",
      "  Binary F1 = 0.9391, Macro F1 = 0.5733, Final Metric = 0.7562\n",
      "Epoch 50: Train Loss = 0.0001, Val Loss = 4.3189\n",
      "  Binary F1 = 0.9391, Macro F1 = 0.5707, Final Metric = 0.7549\n",
      "\n",
      "Fold 3 completed.\n",
      "Final validation metrics - Binary F1: 0.9391, Macro F1: 0.5707, Final: 0.7549\n",
      "Best validation metrics - Binary F1: 0.9380, Macro F1: 0.5814, Final: 0.7597\n",
      "training: 4\n",
      "\n",
      "==================================================\n",
      "Fold 4/5\n",
      "Epoch 01: Train Loss = 1.8286, Val Loss = 1.4342\n",
      "  Binary F1 = 0.9521, Macro F1 = 0.4523, Final Metric = 0.7022\n",
      "  New best metric! Saving model...\n",
      "Epoch 02: Train Loss = 0.9789, Val Loss = 1.1541\n",
      "  Binary F1 = 0.9635, Macro F1 = 0.5659, Final Metric = 0.7647\n",
      "  New best metric! Saving model...\n",
      "Epoch 03: Train Loss = 0.6307, Val Loss = 1.1117\n",
      "  Binary F1 = 0.9704, Macro F1 = 0.5932, Final Metric = 0.7818\n",
      "  New best metric! Saving model...\n",
      "Epoch 04: Train Loss = 0.3986, Val Loss = 1.1303\n",
      "  Binary F1 = 0.9723, Macro F1 = 0.5952, Final Metric = 0.7837\n",
      "  New best metric! Saving model...\n",
      "Epoch 05: Train Loss = 0.2773, Val Loss = 1.1226\n",
      "  Binary F1 = 0.9706, Macro F1 = 0.6173, Final Metric = 0.7939\n",
      "  New best metric! Saving model...\n",
      "Epoch 06: Train Loss = 0.3248, Val Loss = 1.4163\n",
      "  Binary F1 = 0.9592, Macro F1 = 0.5589, Final Metric = 0.7590\n",
      "Epoch 07: Train Loss = 0.2297, Val Loss = 1.5331\n",
      "  Binary F1 = 0.9532, Macro F1 = 0.5726, Final Metric = 0.7629\n",
      "Epoch 08: Train Loss = 0.0886, Val Loss = 1.4049\n",
      "  Binary F1 = 0.9619, Macro F1 = 0.5957, Final Metric = 0.7788\n",
      "Epoch 09: Train Loss = 0.0266, Val Loss = 1.4079\n",
      "  Binary F1 = 0.9671, Macro F1 = 0.6106, Final Metric = 0.7888\n",
      "Epoch 10: Train Loss = 0.0115, Val Loss = 1.4247\n",
      "  Binary F1 = 0.9671, Macro F1 = 0.6140, Final Metric = 0.7906\n",
      "Epoch 11: Train Loss = 0.0078, Val Loss = 1.5176\n",
      "  Binary F1 = 0.9721, Macro F1 = 0.6308, Final Metric = 0.8014\n",
      "  New best metric! Saving model...\n",
      "Epoch 12: Train Loss = 0.0035, Val Loss = 1.5847\n",
      "  Binary F1 = 0.9666, Macro F1 = 0.6249, Final Metric = 0.7958\n",
      "Epoch 13: Train Loss = 0.0022, Val Loss = 1.6107\n",
      "  Binary F1 = 0.9681, Macro F1 = 0.6356, Final Metric = 0.8018\n",
      "  New best metric! Saving model...\n",
      "Epoch 14: Train Loss = 0.0017, Val Loss = 1.6275\n",
      "  Binary F1 = 0.9666, Macro F1 = 0.6282, Final Metric = 0.7974\n",
      "Epoch 15: Train Loss = 0.0016, Val Loss = 1.6318\n",
      "  Binary F1 = 0.9661, Macro F1 = 0.6291, Final Metric = 0.7976\n",
      "Epoch 16: Train Loss = 0.0014, Val Loss = 1.6652\n",
      "  Binary F1 = 0.9671, Macro F1 = 0.6285, Final Metric = 0.7978\n",
      "Epoch 17: Train Loss = 0.0011, Val Loss = 1.6903\n",
      "  Binary F1 = 0.9661, Macro F1 = 0.6295, Final Metric = 0.7978\n",
      "Epoch 18: Train Loss = 0.0009, Val Loss = 1.7027\n",
      "  Binary F1 = 0.9666, Macro F1 = 0.6273, Final Metric = 0.7969\n",
      "Epoch 19: Train Loss = 0.0008, Val Loss = 1.7076\n",
      "  Binary F1 = 0.9661, Macro F1 = 0.6283, Final Metric = 0.7972\n",
      "Epoch 20: Train Loss = 0.0008, Val Loss = 1.7100\n",
      "  Binary F1 = 0.9666, Macro F1 = 0.6304, Final Metric = 0.7985\n",
      "Epoch 21: Train Loss = 0.0008, Val Loss = 1.7272\n",
      "  Binary F1 = 0.9666, Macro F1 = 0.6265, Final Metric = 0.7965\n",
      "Epoch 22: Train Loss = 0.0006, Val Loss = 1.7488\n",
      "  Binary F1 = 0.9671, Macro F1 = 0.6296, Final Metric = 0.7984\n",
      "Epoch 23: Train Loss = 0.0006, Val Loss = 1.7643\n",
      "  Binary F1 = 0.9671, Macro F1 = 0.6285, Final Metric = 0.7978\n",
      "Epoch 24: Train Loss = 0.0005, Val Loss = 1.7640\n",
      "  Binary F1 = 0.9691, Macro F1 = 0.6272, Final Metric = 0.7981\n",
      "Epoch 25: Train Loss = 0.0005, Val Loss = 1.7728\n",
      "  Binary F1 = 0.9671, Macro F1 = 0.6249, Final Metric = 0.7960\n",
      "Epoch 26: Train Loss = 0.0005, Val Loss = 1.7847\n",
      "  Binary F1 = 0.9676, Macro F1 = 0.6265, Final Metric = 0.7971\n",
      "Epoch 27: Train Loss = 0.0004, Val Loss = 1.8016\n",
      "  Binary F1 = 0.9661, Macro F1 = 0.6248, Final Metric = 0.7955\n",
      "Epoch 28: Train Loss = 0.0004, Val Loss = 1.8030\n",
      "  Binary F1 = 0.9666, Macro F1 = 0.6229, Final Metric = 0.7948\n",
      "Epoch 29: Train Loss = 0.0004, Val Loss = 1.8140\n",
      "  Binary F1 = 0.9671, Macro F1 = 0.6250, Final Metric = 0.7960\n",
      "Epoch 30: Train Loss = 0.0003, Val Loss = 1.8142\n",
      "  Binary F1 = 0.9671, Macro F1 = 0.6243, Final Metric = 0.7957\n",
      "Epoch 31: Train Loss = 0.0003, Val Loss = 1.8295\n",
      "  Binary F1 = 0.9671, Macro F1 = 0.6220, Final Metric = 0.7946\n",
      "Epoch 32: Train Loss = 0.0003, Val Loss = 1.8361\n",
      "  Binary F1 = 0.9661, Macro F1 = 0.6227, Final Metric = 0.7944\n",
      "Epoch 33: Train Loss = 0.0003, Val Loss = 1.8425\n",
      "  Binary F1 = 0.9681, Macro F1 = 0.6259, Final Metric = 0.7970\n",
      "Epoch 34: Train Loss = 0.0003, Val Loss = 1.8536\n",
      "  Binary F1 = 0.9671, Macro F1 = 0.6186, Final Metric = 0.7928\n",
      "Epoch 35: Train Loss = 0.0003, Val Loss = 1.8504\n",
      "  Binary F1 = 0.9676, Macro F1 = 0.6256, Final Metric = 0.7966\n",
      "Epoch 36: Train Loss = 0.0003, Val Loss = 1.8582\n",
      "  Binary F1 = 0.9671, Macro F1 = 0.6233, Final Metric = 0.7952\n",
      "Epoch 37: Train Loss = 0.0002, Val Loss = 1.8707\n",
      "  Binary F1 = 0.9671, Macro F1 = 0.6221, Final Metric = 0.7946\n",
      "Epoch 38: Train Loss = 0.0002, Val Loss = 1.8746\n",
      "  Binary F1 = 0.9681, Macro F1 = 0.6230, Final Metric = 0.7956\n",
      "Epoch 39: Train Loss = 0.0002, Val Loss = 1.8766\n",
      "  Binary F1 = 0.9666, Macro F1 = 0.6207, Final Metric = 0.7936\n",
      "Epoch 40: Train Loss = 0.0002, Val Loss = 1.8831\n",
      "  Binary F1 = 0.9681, Macro F1 = 0.6212, Final Metric = 0.7947\n",
      "Epoch 41: Train Loss = 0.0002, Val Loss = 1.8888\n",
      "  Binary F1 = 0.9686, Macro F1 = 0.6260, Final Metric = 0.7973\n",
      "Epoch 42: Train Loss = 0.0002, Val Loss = 1.8985\n",
      "  Binary F1 = 0.9676, Macro F1 = 0.6248, Final Metric = 0.7962\n",
      "Epoch 43: Train Loss = 0.0002, Val Loss = 1.9025\n",
      "  Binary F1 = 0.9676, Macro F1 = 0.6263, Final Metric = 0.7969\n",
      "Epoch 44: Train Loss = 0.0002, Val Loss = 1.9076\n",
      "  Binary F1 = 0.9681, Macro F1 = 0.6202, Final Metric = 0.7942\n",
      "Epoch 45: Train Loss = 0.0002, Val Loss = 1.9121\n",
      "  Binary F1 = 0.9681, Macro F1 = 0.6220, Final Metric = 0.7950\n",
      "Epoch 46: Train Loss = 0.0002, Val Loss = 1.9202\n",
      "  Binary F1 = 0.9676, Macro F1 = 0.6222, Final Metric = 0.7949\n",
      "Epoch 47: Train Loss = 0.0001, Val Loss = 1.9226\n",
      "  Binary F1 = 0.9681, Macro F1 = 0.6227, Final Metric = 0.7954\n",
      "Epoch 48: Train Loss = 0.0001, Val Loss = 1.9303\n",
      "  Binary F1 = 0.9681, Macro F1 = 0.6223, Final Metric = 0.7952\n",
      "Epoch 49: Train Loss = 0.0001, Val Loss = 1.9321\n",
      "  Binary F1 = 0.9691, Macro F1 = 0.6203, Final Metric = 0.7947\n",
      "Epoch 50: Train Loss = 0.0001, Val Loss = 1.9327\n",
      "  Binary F1 = 0.9686, Macro F1 = 0.6226, Final Metric = 0.7956\n",
      "\n",
      "Fold 4 completed.\n",
      "Final validation metrics - Binary F1: 0.9686, Macro F1: 0.6226, Final: 0.7956\n",
      "Best validation metrics - Binary F1: 0.9681, Macro F1: 0.6356, Final: 0.8018\n",
      "training: 5\n",
      "\n",
      "==================================================\n",
      "Fold 5/5\n",
      "Epoch 01: Train Loss = 1.9455, Val Loss = 1.3876\n",
      "  Binary F1 = 0.9523, Macro F1 = 0.4811, Final Metric = 0.7167\n",
      "  New best metric! Saving model...\n",
      "Epoch 02: Train Loss = 1.0342, Val Loss = 1.1189\n",
      "  Binary F1 = 0.9698, Macro F1 = 0.5645, Final Metric = 0.7672\n",
      "  New best metric! Saving model...\n",
      "Epoch 03: Train Loss = 0.6923, Val Loss = 0.9734\n",
      "  Binary F1 = 0.9786, Macro F1 = 0.6163, Final Metric = 0.7975\n",
      "  New best metric! Saving model...\n",
      "Epoch 04: Train Loss = 0.4407, Val Loss = 0.9300\n",
      "  Binary F1 = 0.9772, Macro F1 = 0.6486, Final Metric = 0.8129\n",
      "  New best metric! Saving model...\n",
      "Epoch 05: Train Loss = 0.3003, Val Loss = 0.9456\n",
      "  Binary F1 = 0.9796, Macro F1 = 0.6458, Final Metric = 0.8127\n",
      "Epoch 06: Train Loss = 0.3554, Val Loss = 1.2029\n",
      "  Binary F1 = 0.9755, Macro F1 = 0.6035, Final Metric = 0.7895\n",
      "Epoch 07: Train Loss = 0.2408, Val Loss = 1.2231\n",
      "  Binary F1 = 0.9743, Macro F1 = 0.6225, Final Metric = 0.7984\n",
      "Epoch 08: Train Loss = 0.0983, Val Loss = 1.2274\n",
      "  Binary F1 = 0.9792, Macro F1 = 0.6302, Final Metric = 0.8047\n",
      "Epoch 09: Train Loss = 0.0298, Val Loss = 1.1894\n",
      "  Binary F1 = 0.9767, Macro F1 = 0.6316, Final Metric = 0.8042\n",
      "Epoch 10: Train Loss = 0.0127, Val Loss = 1.1974\n",
      "  Binary F1 = 0.9791, Macro F1 = 0.6389, Final Metric = 0.8090\n",
      "Epoch 11: Train Loss = 0.0092, Val Loss = 1.2816\n",
      "  Binary F1 = 0.9791, Macro F1 = 0.6411, Final Metric = 0.8101\n",
      "Epoch 12: Train Loss = 0.0062, Val Loss = 1.3211\n",
      "  Binary F1 = 0.9796, Macro F1 = 0.6413, Final Metric = 0.8105\n",
      "Epoch 13: Train Loss = 0.0050, Val Loss = 1.3260\n",
      "  Binary F1 = 0.9768, Macro F1 = 0.6569, Final Metric = 0.8169\n",
      "  New best metric! Saving model...\n",
      "Epoch 14: Train Loss = 0.0028, Val Loss = 1.3301\n",
      "  Binary F1 = 0.9772, Macro F1 = 0.6389, Final Metric = 0.8080\n",
      "Epoch 15: Train Loss = 0.0020, Val Loss = 1.3384\n",
      "  Binary F1 = 0.9786, Macro F1 = 0.6434, Final Metric = 0.8110\n",
      "Epoch 16: Train Loss = 0.0017, Val Loss = 1.3746\n",
      "  Binary F1 = 0.9786, Macro F1 = 0.6474, Final Metric = 0.8130\n",
      "Epoch 17: Train Loss = 0.0012, Val Loss = 1.3874\n",
      "  Binary F1 = 0.9806, Macro F1 = 0.6496, Final Metric = 0.8151\n",
      "Epoch 18: Train Loss = 0.0010, Val Loss = 1.3965\n",
      "  Binary F1 = 0.9796, Macro F1 = 0.6528, Final Metric = 0.8162\n",
      "Epoch 19: Train Loss = 0.0009, Val Loss = 1.4007\n",
      "  Binary F1 = 0.9796, Macro F1 = 0.6521, Final Metric = 0.8159\n",
      "Epoch 20: Train Loss = 0.0009, Val Loss = 1.4147\n",
      "  Binary F1 = 0.9791, Macro F1 = 0.6494, Final Metric = 0.8142\n",
      "Epoch 21: Train Loss = 0.0008, Val Loss = 1.4247\n",
      "  Binary F1 = 0.9796, Macro F1 = 0.6503, Final Metric = 0.8150\n",
      "Epoch 22: Train Loss = 0.0007, Val Loss = 1.4406\n",
      "  Binary F1 = 0.9796, Macro F1 = 0.6492, Final Metric = 0.8144\n",
      "Epoch 23: Train Loss = 0.0006, Val Loss = 1.4439\n",
      "  Binary F1 = 0.9791, Macro F1 = 0.6493, Final Metric = 0.8142\n",
      "Epoch 24: Train Loss = 0.0006, Val Loss = 1.4464\n",
      "  Binary F1 = 0.9791, Macro F1 = 0.6491, Final Metric = 0.8141\n",
      "Epoch 25: Train Loss = 0.0005, Val Loss = 1.4516\n",
      "  Binary F1 = 0.9791, Macro F1 = 0.6501, Final Metric = 0.8146\n",
      "Epoch 26: Train Loss = 0.0005, Val Loss = 1.4672\n",
      "  Binary F1 = 0.9791, Macro F1 = 0.6491, Final Metric = 0.8141\n",
      "Epoch 27: Train Loss = 0.0004, Val Loss = 1.4784\n",
      "  Binary F1 = 0.9796, Macro F1 = 0.6473, Final Metric = 0.8135\n",
      "Epoch 28: Train Loss = 0.0004, Val Loss = 1.4836\n",
      "  Binary F1 = 0.9791, Macro F1 = 0.6459, Final Metric = 0.8125\n",
      "Epoch 29: Train Loss = 0.0004, Val Loss = 1.4901\n",
      "  Binary F1 = 0.9791, Macro F1 = 0.6464, Final Metric = 0.8128\n",
      "Epoch 30: Train Loss = 0.0004, Val Loss = 1.4903\n",
      "  Binary F1 = 0.9791, Macro F1 = 0.6480, Final Metric = 0.8136\n",
      "Epoch 31: Train Loss = 0.0004, Val Loss = 1.4984\n",
      "  Binary F1 = 0.9791, Macro F1 = 0.6457, Final Metric = 0.8124\n",
      "Epoch 32: Train Loss = 0.0003, Val Loss = 1.5164\n",
      "  Binary F1 = 0.9791, Macro F1 = 0.6451, Final Metric = 0.8121\n",
      "Epoch 33: Train Loss = 0.0003, Val Loss = 1.5164\n",
      "  Binary F1 = 0.9791, Macro F1 = 0.6473, Final Metric = 0.8132\n",
      "Epoch 34: Train Loss = 0.0003, Val Loss = 1.5186\n",
      "  Binary F1 = 0.9791, Macro F1 = 0.6448, Final Metric = 0.8119\n",
      "Epoch 35: Train Loss = 0.0003, Val Loss = 1.5263\n",
      "  Binary F1 = 0.9791, Macro F1 = 0.6450, Final Metric = 0.8120\n",
      "Epoch 36: Train Loss = 0.0003, Val Loss = 1.5300\n",
      "  Binary F1 = 0.9796, Macro F1 = 0.6426, Final Metric = 0.8111\n",
      "Epoch 37: Train Loss = 0.0002, Val Loss = 1.5313\n",
      "  Binary F1 = 0.9786, Macro F1 = 0.6470, Final Metric = 0.8128\n",
      "Epoch 38: Train Loss = 0.0002, Val Loss = 1.5446\n",
      "  Binary F1 = 0.9791, Macro F1 = 0.6456, Final Metric = 0.8124\n",
      "Epoch 39: Train Loss = 0.0002, Val Loss = 1.5439\n",
      "  Binary F1 = 0.9786, Macro F1 = 0.6446, Final Metric = 0.8116\n",
      "Epoch 40: Train Loss = 0.0002, Val Loss = 1.5394\n",
      "  Binary F1 = 0.9786, Macro F1 = 0.6463, Final Metric = 0.8125\n",
      "Epoch 41: Train Loss = 0.0002, Val Loss = 1.5573\n",
      "  Binary F1 = 0.9791, Macro F1 = 0.6440, Final Metric = 0.8116\n",
      "Epoch 42: Train Loss = 0.0002, Val Loss = 1.5556\n",
      "  Binary F1 = 0.9791, Macro F1 = 0.6442, Final Metric = 0.8117\n",
      "Epoch 43: Train Loss = 0.0002, Val Loss = 1.5709\n",
      "  Binary F1 = 0.9791, Macro F1 = 0.6441, Final Metric = 0.8116\n",
      "Epoch 44: Train Loss = 0.0002, Val Loss = 1.5657\n",
      "  Binary F1 = 0.9791, Macro F1 = 0.6421, Final Metric = 0.8106\n",
      "Epoch 45: Train Loss = 0.0002, Val Loss = 1.5652\n",
      "  Binary F1 = 0.9791, Macro F1 = 0.6424, Final Metric = 0.8107\n",
      "Epoch 46: Train Loss = 0.0002, Val Loss = 1.5776\n",
      "  Binary F1 = 0.9786, Macro F1 = 0.6455, Final Metric = 0.8120\n",
      "Epoch 47: Train Loss = 0.0001, Val Loss = 1.5817\n",
      "  Binary F1 = 0.9796, Macro F1 = 0.6427, Final Metric = 0.8111\n",
      "Epoch 48: Train Loss = 0.0001, Val Loss = 1.5897\n",
      "  Binary F1 = 0.9786, Macro F1 = 0.6429, Final Metric = 0.8108\n",
      "Epoch 49: Train Loss = 0.0001, Val Loss = 1.5840\n",
      "  Binary F1 = 0.9786, Macro F1 = 0.6458, Final Metric = 0.8122\n",
      "Epoch 50: Train Loss = 0.0001, Val Loss = 1.5920\n",
      "  Binary F1 = 0.9786, Macro F1 = 0.6461, Final Metric = 0.8124\n",
      "\n",
      "Fold 5 completed.\n",
      "Final validation metrics - Binary F1: 0.9786, Macro F1: 0.6461, Final: 0.8124\n",
      "Best validation metrics - Binary F1: 0.9768, Macro F1: 0.6569, Final: 0.8169\n",
      "\n",
      "==================================================\n",
      "Cross-Validation Results\n",
      "==================================================\n",
      "\n",
      "Best Fold-wise Metrics:\n",
      "Fold 1: Binary F1 = 0.9600, Macro F1 = 0.6148, Final = 0.7874\n",
      "Fold 2: Binary F1 = 0.9627, Macro F1 = 0.5833, Final = 0.7730\n",
      "Fold 3: Binary F1 = 0.9380, Macro F1 = 0.5814, Final = 0.7597\n",
      "Fold 4: Binary F1 = 0.9681, Macro F1 = 0.6356, Final = 0.8018\n",
      "Fold 5: Binary F1 = 0.9768, Macro F1 = 0.6569, Final = 0.8169\n",
      "\n",
      "Global Statistics (Best Metrics):\n",
      "Mean Best Final Metric: 0.7878 ± 0.0202\n",
      "Mean Best Binary F1: 0.9611 ± 0.0129\n",
      "Mean Best Macro F1: 0.6144 ± 0.0294\n"
     ]
    }
   ],
   "source": [
    "seed_everything(seed=SEED)\n",
    "\n",
    "# criterion = soft_cross_entropy\n",
    "criterion = torch.nn.CrossEntropyLoss()\n",
    "\n",
    "n_splits = 5\n",
    "batch_size = 128\n",
    "gkf = GroupKFold(n_splits=n_splits)\n",
    "\n",
    "fold_metrics = []\n",
    "best_fold_metrics = []\n",
    "best_models = []\n",
    "\n",
    "fold_patterns = join(dataset_path, \"preprocessed_dataset\", \"fold*\")\n",
    "fold_pths = glob(fold_patterns)[:NB_CROSS_VALIDATIONS]\n",
    "all_training_metrics = {}\n",
    "\n",
    "\n",
    "for fold, fold_pth in enumerate(fold_pths):\n",
    "    print(\"training:\", fold + 1)\n",
    "    train_dataset = CMIDataset(fold_pth, \"train\")\n",
    "    train_loader = DL(train_dataset, TRAIN_BATCH_SIZE, shuffle=True)\n",
    "    validation_dataset = CMIDataset(fold_pth, \"validation\")\n",
    "    validation_loader = DL(validation_dataset, VALIDATION_BATCH_SIZE, shuffle=False)\n",
    "    print(f\"\\n{'='*50}\")\n",
    "    print(f\"Fold {fold + 1}/{n_splits}\")\n",
    "    \n",
    "    seed_everything(seed=SEED + fold)\n",
    "    model = mk_model()\n",
    "    \n",
    "    # Optimizer et scheduler\n",
    "    starting_lr = max_lr / 2\n",
    "    optimizer = torch.optim.AdamW(model.parameters(), starting_lr)\n",
    "    steps_per_epoch = len(train_loader)\n",
    "    n_training_steps = TRAINING_EPOCHS * len(train_loader)\n",
    "    scheduler = torch.optim.lr_scheduler.CosineAnnealingWarmRestarts(\n",
    "        optimizer,\n",
    "        # T_0=n_training_steps // 5,\n",
    "        T_0=len(train_loader) * 5,\n",
    "        eta_min=starting_lr / 10,\n",
    "    )\n",
    "\n",
    "    # Early stopping\n",
    "    best_metric = -np.inf\n",
    "    best_binary_f1 = -np.inf\n",
    "    best_macro_f1 = -np.inf\n",
    "    patience = 15\n",
    "    epochs_no_improve = 0\n",
    "    \n",
    "    for epoch in range(1, TRAINING_EPOCHS + 1):\n",
    "        # Training phase\n",
    "        model.train()\n",
    "        train_loss = 0.0\n",
    "        total = 0\n",
    "        for batch_x, batch_y in train_loader:\n",
    "            batch_x = batch_x.to(device).clone()\n",
    "            batch_y = batch_y.to(device)\n",
    "            batch_x = batch_x.float()\n",
    "    \n",
    "            # TODO: Apply mixup?\n",
    "    \n",
    "            optimizer.zero_grad()\n",
    "            outputs = model(batch_x)\n",
    "            loss = criterion(outputs, batch_y)\n",
    "            loss.backward()\n",
    "            optimizer.step()\n",
    "            scheduler.step()\n",
    "    \n",
    "            train_loss += loss.item() * batch_x.size(0)\n",
    "            total += batch_x.size(0)\n",
    "        train_loss /= total\n",
    "    \n",
    "        # Validation phase\n",
    "        model.eval()\n",
    "        val_loss = 0.0\n",
    "        total = 0\n",
    "        all_true = []\n",
    "        all_pred = []\n",
    "        \n",
    "        with torch.no_grad():\n",
    "            for batch_x, batch_y in validation_loader:\n",
    "                batch_x = batch_x.to(device).clone()\n",
    "                batch_y = batch_y.to(device)\n",
    "                batch_x[VALIDATION_BATCH_SIZE // 2, non_imu_feats_idx] = 0.0\n",
    "                \n",
    "                outputs = model(batch_x)\n",
    "                loss = criterion(outputs, batch_y)\n",
    "                val_loss += loss.item() * batch_x.size(0)\n",
    "                total += batch_x.size(0)\n",
    "                \n",
    "                # Get predicted class indices\n",
    "                preds = torch.argmax(outputs, dim=1).cpu().numpy()\n",
    "                # Get true class indices from one-hot\n",
    "                trues = torch.argmax(batch_y, dim=1).cpu().numpy()\n",
    "                \n",
    "                all_true.append(trues)\n",
    "                all_pred.append(preds)\n",
    "        \n",
    "        val_loss /= total\n",
    "        all_true = np.concatenate(all_true)\n",
    "        all_pred = np.concatenate(all_pred)\n",
    "        \n",
    "        # Compute competition metrics\n",
    "        # Binary classification: BFRB (1) vs non-BFRB (0)\n",
    "        binary_true = np.isin(all_true, bfrb_indices).astype(int)\n",
    "        binary_pred = np.isin(all_pred, bfrb_indices).astype(int)\n",
    "        binary_f1 = f1_score(binary_true, binary_pred)\n",
    "        \n",
    "        # Collapse non-BFRB gestures into a single class\n",
    "        collapsed_true = np.where(\n",
    "            np.isin(all_true, bfrb_indices),\n",
    "            all_true,\n",
    "            len(bfrb_gestures)  # Single non-BFRB class\n",
    "        )\n",
    "        collapsed_pred = np.where(\n",
    "            np.isin(all_pred, bfrb_indices),\n",
    "            all_pred,\n",
    "            len(bfrb_gestures)  # Single non-BFRB class\n",
    "        )\n",
    "        \n",
    "        # Macro F1 on collapsed classes\n",
    "        macro_f1 = f1_score(collapsed_true, collapsed_pred, average='macro')\n",
    "        final_metric = (binary_f1 + macro_f1) / 2\n",
    "        \n",
    "        print(f\"Epoch {epoch:02d}: Train Loss = {train_loss:.4f}, Val Loss = {val_loss:.4f}\")\n",
    "        print(f\"  Binary F1 = {binary_f1:.4f}, Macro F1 = {macro_f1:.4f}, Final Metric = {final_metric:.4f}\")\n",
    "        \n",
    "        if final_metric > best_metric:\n",
    "            best_metric = final_metric\n",
    "            best_binary_f1 = binary_f1\n",
    "            best_macro_f1 = macro_f1\n",
    "            epochs_no_improve = 0\n",
    "            best_model_state = model.state_dict()\n",
    "            print(f\"  New best metric! Saving model...\")\n",
    "        else:\n",
    "            epochs_no_improve += 1\n",
    "            # if epochs_no_improve >= patience:\n",
    "            #     print(f\"Early stopping triggered at epoch {epoch}\")\n",
    "            #     model.load_state_dict(best_model_state)\n",
    "            #     break\n",
    "\n",
    "    torch.save(best_model_state, f\"best_model_fold{fold}.pth\")\n",
    "    best_models.append(best_model_state)\n",
    "\n",
    "    fold_metrics.append({\n",
    "        'binary_f1': binary_f1,\n",
    "        'macro_f1': macro_f1,\n",
    "        'final_metric': final_metric\n",
    "    })\n",
    "    \n",
    "    best_fold_metrics.append({\n",
    "        'binary_f1': best_binary_f1,\n",
    "        'macro_f1': best_macro_f1,\n",
    "        'final_metric': best_metric\n",
    "    })\n",
    "    \n",
    "    print(f\"\\nFold {fold + 1} completed.\")\n",
    "    print(f\"Final validation metrics - Binary F1: {binary_f1:.4f}, Macro F1: {macro_f1:.4f}, Final: {final_metric:.4f}\")\n",
    "    print(f\"Best validation metrics - Binary F1: {best_binary_f1:.4f}, Macro F1: {best_macro_f1:.4f}, Final: {best_metric:.4f}\")\n",
    "\n",
    "print(\"\\n\" + \"=\"*50)\n",
    "print(\"Cross-Validation Results\")\n",
    "print(\"=\"*50)\n",
    "\n",
    "# Statistiques pour les meilleures métriques\n",
    "best_binary_f1 = [m['binary_f1'] for m in best_fold_metrics]\n",
    "best_macro_f1 = [m['macro_f1'] for m in best_fold_metrics]\n",
    "best_metrics = [m['final_metric'] for m in best_fold_metrics]\n",
    "\n",
    "print(\"\\nBest Fold-wise Metrics:\")\n",
    "for i, (bf1, mf1, fm) in enumerate(zip(best_binary_f1, best_macro_f1, best_metrics)):\n",
    "    print(f\"Fold {i+1}: Binary F1 = {bf1:.4f}, Macro F1 = {mf1:.4f}, Final = {fm:.4f}\")\n",
    "\n",
    "print(\"\\nGlobal Statistics (Best Metrics):\")\n",
    "print(f\"Mean Best Final Metric: {np.mean(best_metrics):.4f} ± {np.std(best_metrics):.4f}\")\n",
    "print(f\"Mean Best Binary F1: {np.mean(best_binary_f1):.4f} ± {np.std(best_binary_f1):.4f}\")\n",
    "print(f\"Mean Best Macro F1: {np.mean(best_macro_f1):.4f} ± {np.std(best_macro_f1):.4f}\")"
   ]
  },
  {
   "cell_type": "markdown",
   "id": "07ea7558",
   "metadata": {
    "papermill": {
     "duration": 0.012909,
     "end_time": "2025-06-14T10:09:14.961270",
     "exception": false,
     "start_time": "2025-06-14T10:09:14.948361",
     "status": "completed"
    },
    "tags": []
   },
   "source": [
    "## Submission"
   ]
  },
  {
   "cell_type": "markdown",
   "id": "3aea5e4f",
   "metadata": {
    "papermill": {
     "duration": 0.012906,
     "end_time": "2025-06-14T10:09:14.780212",
     "exception": false,
     "start_time": "2025-06-14T10:09:14.767306",
     "status": "completed"
    },
    "tags": []
   },
   "source": [
    "### Reloading best model"
   ]
  },
  {
   "cell_type": "code",
   "execution_count": 66,
   "id": "a0574d4d",
   "metadata": {
    "execution": {
     "iopub.execute_input": "2025-06-14T10:09:14.807902Z",
     "iopub.status.busy": "2025-06-14T10:09:14.807165Z",
     "iopub.status.idle": "2025-06-14T10:09:14.933288Z",
     "shell.execute_reply": "2025-06-14T10:09:14.932459Z"
    },
    "papermill": {
     "duration": 0.141435,
     "end_time": "2025-06-14T10:09:14.934745",
     "exception": false,
     "start_time": "2025-06-14T10:09:14.793310",
     "status": "completed"
    },
    "tags": []
   },
   "outputs": [],
   "source": [
    "model_ensemble = []\n",
    "for fold in range(5):\n",
    "    model = mk_model().to(device)\n",
    "    checkpoint = torch.load(f\"best_model_fold{fold}.pth\", map_location=device, weights_only=True)\n",
    "    model.load_state_dict(checkpoint)\n",
    "    model.eval()\n",
    "    model_ensemble.append(model)"
   ]
  },
  {
   "cell_type": "markdown",
   "id": "a826dec8",
   "metadata": {},
   "source": [
    "### Define preprocessing function"
   ]
  },
  {
   "cell_type": "code",
   "execution_count": 67,
   "id": "481e69b6",
   "metadata": {},
   "outputs": [],
   "source": [
    "def get_fillna_val_per_feature_col(df:DF) -> dict:\n",
    "    return {col: 1.0 if col == 'rot_w' else 0 for col in get_feature_cols(df)}\n",
    "\n",
    "def imputed_features(df:DF) -> DF:\n",
    "    # Missing ToF values are already imputed by -1 which is inconvinient since we want all missing values to be NaN.    \n",
    "    # So we replace them by NaN and then perform imputing.  \n",
    "    tof_vals_to_nan = {col: -1.0 for col in df.columns if col.startswith(\"tof\")}\n",
    "\n",
    "    df[get_feature_cols(df)] = (\n",
    "        df\n",
    "        .loc[:, get_feature_cols(df)]\n",
    "        # df.replace with np.nan sets dtype to floar64 so we set it back to float32\n",
    "        .replace(tof_vals_to_nan, value=np.nan)\n",
    "        .astype(\"float32\")\n",
    "        .groupby(df[\"sequence_id\"], observed=True, as_index=False)\n",
    "        .ffill()\n",
    "        .groupby(df[\"sequence_id\"], observed=True, as_index=False)\n",
    "        .bfill()\n",
    "        # In case there are only nan in the column in the sequence\n",
    "        .fillna(get_fillna_val_per_feature_col(df))\n",
    "    )\n",
    "    return df\n",
    "\n",
    "def norm_quat_rotations(df:DF) -> DF:\n",
    "    df[QUATERNION_COLS] /= np.linalg.norm(df[QUATERNION_COLS], axis=1, keepdims=True)\n",
    "    return df\n",
    "\n",
    "def add_linear_acc_cols(df:DF) -> DF:\n",
    "    # Vectorized version of https://www.kaggle.com/code/wasupandceacar/lb-0-82-5fold-single-bert-model#Dataset `remove_gravity_from_acc`\n",
    "    rotations:Rotation = Rotation.from_quat(df[QUATERNION_COLS])\n",
    "    gravity_sensor_frame = rotations.apply(GRAVITY_WORLD, inverse=True).astype(\"float32\")\n",
    "    df[LINEAR_ACC_COLS] = df[RAW_ACCELRATION_COLS] - gravity_sensor_frame\n",
    "    return df\n",
    "\n",
    "def add_acc_magnitude(df:DF, acc_cols:list[str], acc_mag_col_name:str) -> DF:\n",
    "    return df.assign(**{acc_mag_col_name: np.linalg.norm(df.loc[:, acc_cols], axis=1)})\n",
    "\n",
    "def add_quat_angle_mag(df:DF) -> DF:\n",
    "    return df.assign(quat_rot_mag=np.arccos(df[\"rot_w\"]) * 2)\n",
    "\n",
    "def add_angular_velocity_features(df:DF) -> DF:\n",
    "    rotations = Rotation.from_quat(df[QUATERNION_COLS])\n",
    "    delta_rotations = rotations[1:] * rotations[:-1].inv()\n",
    "    delta_rot_velocity = delta_rotations.as_rotvec()\n",
    "    # Add extra line to avoid shape mismatch\n",
    "    delta_rot_velocity = np.vstack((np.zeros((1, 3)), delta_rot_velocity))\n",
    "    delta_rot_magnitude = norm(delta_rot_velocity, axis=1, keepdims=True)\n",
    "    delta_rot_axes = delta_rot_velocity / (delta_rot_magnitude + EPSILON)\n",
    "    df[DELTA_ROTATION_ANGULAR_VELOCITY_COLS] = delta_rot_velocity\n",
    "    df[DELTA_ROTATION_AXES_COLS] = delta_rot_axes\n",
    "    df[\"delta_rot_mag\"] = delta_rot_magnitude.squeeze()\n",
    "\n",
    "    return df\n",
    "\n",
    "def rot_euler_angles(df:DF) -> ndarray:\n",
    "    df[EULER_ANGLES_COLS] = (\n",
    "        Rotation\n",
    "        .from_quat(df[QUATERNION_COLS])\n",
    "        .as_euler(\"xyz\")\n",
    "        .squeeze()\n",
    "    )\n",
    "    return df\n",
    "\n",
    "def agg_tof_cols_per_sensor(df:DF) -> DF:\n",
    "    for tof_idx in tqdm(range(1, 6)):\n",
    "        tof_name = f\"tof_{tof_idx}\"\n",
    "        tof_cols = [f\"{tof_name}_v{v_idx}\" for v_idx in range(64)]\n",
    "        if any(map(lambda col: col not in df.columns, tof_cols)):\n",
    "            print(f\"Some (or) all ToF {tof_idx} columns are not in the df. Maybe you already ran this cell?\")\n",
    "            continue\n",
    "        df = pd.concat(\n",
    "            (\n",
    "                df.drop(columns=tof_cols),\n",
    "                # For some reasons, it's faster to call all the aggregation functions seperatly than agg(list of functions)\n",
    "                df[tof_cols].mean(axis=\"columns\").to_frame(tof_name + \"_mean\"),\n",
    "                df[tof_cols].std(axis=\"columns\").to_frame(tof_name + \"_std\"),\n",
    "                df[tof_cols].median(axis=\"columns\").to_frame(tof_name + \"_median\"),\n",
    "                df[tof_cols].min(axis=\"columns\").to_frame(tof_name + \"_min\"),\n",
    "                df[tof_cols].max(axis=\"columns\").to_frame(tof_name + \"_max\"),\n",
    "            ),\n",
    "            axis=\"columns\",\n",
    "        )\n",
    "    return df\n",
    "\n",
    "def add_diff_features(df:DF) -> DF:\n",
    "    return pd.concat(\n",
    "        (\n",
    "            df,\n",
    "            df\n",
    "            .groupby(\"sequence_id\", as_index=False, observed=True)\n",
    "            [get_feature_cols(df)]\n",
    "            .diff()\n",
    "            .fillna(get_fillna_val_per_feature_col(df))\n",
    "            .add_prefix(\"diff_\")\n",
    "        ),\n",
    "        axis=\"columns\",\n",
    "    )\n",
    "\n",
    "def length_normed_sequence_feat_arr(sequence: DF) -> ndarray:\n",
    "    features = (\n",
    "        sequence\n",
    "        .loc[:, meta_data[\"feature_cols\"]]\n",
    "        .values\n",
    "    )\n",
    "    normed_sequence_len = meta_data[\"pad_seq_len\"]\n",
    "    len_diff = abs(normed_sequence_len - len(features))\n",
    "    if len(features) < normed_sequence_len:\n",
    "        padded_features = np.pad(\n",
    "            features,\n",
    "            ((len_diff // 2 + len_diff % 2, len_diff // 2), (0, 0)),\n",
    "        )\n",
    "        return padded_features\n",
    "    elif len(features) > normed_sequence_len:\n",
    "        return features[len_diff // 2:-len_diff // 2]\n",
    "    else:\n",
    "        return features\n",
    "\n",
    "def preprocess_sequence(sequence_df:pl.DataFrame) -> ndarray:\n",
    "    return (\n",
    "        sequence_df                     \n",
    "        .to_pandas()                            # Convert to pandas dataframe.\n",
    "        .pipe(imputed_features)                 # Impute missing data.\n",
    "        .pipe(norm_quat_rotations)              # Norm quaternions\n",
    "        .pipe(add_linear_acc_cols)              # Add gravity free acceleration.\n",
    "        .pipe(add_acc_magnitude, RAW_ACCELRATION_COLS, \"raw_acc_mag\")\n",
    "        .pipe(add_acc_magnitude, LINEAR_ACC_COLS, \"linear_acc_mag\")\n",
    "        .pipe(add_quat_angle_mag)\n",
    "        .pipe(add_angular_velocity_features)\n",
    "        .pipe(rot_euler_angles)                 # Add rotation acc expressed as euler angles.\n",
    "        .pipe(agg_tof_cols_per_sensor)          # Aggregate ToF columns.\n",
    "        .pipe(add_diff_features)                # \n",
    "        .loc[:, sorted(meta_data[\"feature_cols\"])]      # Retain only the usefull columns a.k.a features.\n",
    "        .sub(meta_data[\"mean\"])                 # Subtract features by their mean, std norm pt.1.\n",
    "        .div(meta_data[\"std\"])                  # Divide by Standard deviation, std norm pt.2.\n",
    "        .pipe(length_normed_sequence_feat_arr)  # get feature ndarray of sequence.\n",
    "        .T                                      # Transpose to swap channel and X dimensions.\n",
    "    )"
   ]
  },
  {
   "cell_type": "markdown",
   "id": "1ebb0960",
   "metadata": {},
   "source": [
    "### Define prediction function"
   ]
  },
  {
   "cell_type": "code",
   "execution_count": 68,
   "id": "57d8dfff",
   "metadata": {
    "execution": {
     "iopub.execute_input": "2025-06-14T10:09:14.989742Z",
     "iopub.status.busy": "2025-06-14T10:09:14.989258Z",
     "iopub.status.idle": "2025-06-14T10:09:14.995936Z",
     "shell.execute_reply": "2025-06-14T10:09:14.995244Z"
    },
    "papermill": {
     "duration": 0.021303,
     "end_time": "2025-06-14T10:09:14.997034",
     "exception": false,
     "start_time": "2025-06-14T10:09:14.975731",
     "status": "completed"
    },
    "tags": []
   },
   "outputs": [],
   "source": [
    "# def predict(sequence: pl.DataFrame, demographics: pl.DataFrame) -> str:\n",
    "#     \"\"\"\n",
    "#     Kaggle evaluation API will call this for each sequence.\n",
    "#     sequence: polars DataFrame for a single sequence\n",
    "#     demographics: unused in this model\n",
    "#     Returns: predicted gesture string\n",
    "#     \"\"\"\n",
    "#     df_seq = sequence.to_pandas()\n",
    "#     df_demo = demographics.to_pandas()\n",
    "\n",
    "#     df_seq = df_seq.merge(\n",
    "#         df_demo,\n",
    "#         on='subject',\n",
    "#         how='left',\n",
    "#         validate='many_to_one',\n",
    "#     )\n",
    "#     right_handed_mask = df_seq['handedness'] == 1\n",
    "#     df_seq.loc[right_handed_mask, imu_cols] = apply_symmetry(df_seq.loc[right_handed_mask, imu_cols])\n",
    "\n",
    "#     x_tensor = preprocess_sequence(df_seq).to(device)\n",
    "\n",
    "#     all_outputs = []\n",
    "#     with torch.no_grad():\n",
    "#         for model in model_ensemble:\n",
    "#             outputs = model(x_tensor).softmax(dim=-1)\n",
    "#             all_outputs.append(outputs)\n",
    "\n",
    "#     avg_outputs = torch.mean(torch.stack(all_outputs), dim=0)\n",
    "#     pred_idx = torch.argmax(avg_outputs, dim=1).item()\n",
    "\n",
    "#     return str(gesture_classes[pred_idx])\n",
    "\n",
    "def predict(sequence: pl.DataFrame, _: pl.DataFrame) -> str:\n",
    "    \"\"\"\n",
    "    Kaggle evaluation API will call this for each sequence.\n",
    "    sequence: polars DataFrame for a single sequence\n",
    "    demographics: unused in this model\n",
    "    Returns: predicted gesture string\n",
    "    \"\"\"\n",
    "    # df_seq = sequence.to_pandas()\n",
    "    # df_demo = demographics.to_pandas()\n",
    "\n",
    "    # df_seq = df_seq.merge(\n",
    "    #     df_demo,\n",
    "    #     on='subject',\n",
    "    #     how='left',\n",
    "    #     validate='many_to_one',\n",
    "    # )\n",
    "    # right_handed_mask = df_seq['handedness'] == 1\n",
    "    # df_seq.loc[right_handed_mask, imu_cols] = apply_symmetry(df_seq.loc[right_handed_mask, imu_cols])\n",
    "    # x = torch.unsqueeze(Tensor(x), dim=0).to(device)\n",
    "\n",
    "    x_tensor = (\n",
    "        torch.unsqueeze(Tensor(preprocess_sequence(sequence)), dim=0)\n",
    "        .float()\n",
    "        .to(device)\n",
    "    )\n",
    "    print(x_tensor.shape)\n",
    "\n",
    "    all_outputs = []\n",
    "    with torch.no_grad():\n",
    "        for model_idx, model in enumerate(model_ensemble): # Only take the first one bc it's the only one that takes in the correct input shape\n",
    "            outputs = model(x_tensor)\n",
    "            all_outputs.append(outputs)\n",
    "\n",
    "    avg_outputs = torch.mean(torch.stack(all_outputs), dim=0)\n",
    "    pred_idx = torch.argmax(avg_outputs, dim=1).item()\n",
    "\n",
    "    return str(gesture_classes[pred_idx])"
   ]
  },
  {
   "cell_type": "markdown",
   "id": "5cdcf446",
   "metadata": {},
   "source": [
    "### Run inference server"
   ]
  },
  {
   "cell_type": "code",
   "execution_count": null,
   "id": "1c386b7d",
   "metadata": {
    "execution": {
     "iopub.execute_input": "2025-06-14T10:09:15.023324Z",
     "iopub.status.busy": "2025-06-14T10:09:15.023122Z",
     "iopub.status.idle": "2025-06-14T10:09:16.373534Z",
     "shell.execute_reply": "2025-06-14T10:09:16.372710Z"
    },
    "papermill": {
     "duration": 1.365137,
     "end_time": "2025-06-14T10:09:16.374918",
     "exception": false,
     "start_time": "2025-06-14T10:09:15.009781",
     "status": "completed"
    },
    "tags": []
   },
   "outputs": [
    {
     "name": "stderr",
     "output_type": "stream",
     "text": [
      "/root/repos/CMI-2025-competition/src/kaggle_evaluation/core/templates.py:136: RuntimeWarning:\n",
      "\n",
      "1203 seconds elapsed before server startup.\n",
      "                This exceeds the startup time limit of 900 seconds that the gateway will enforce\n",
      "                during the rerun on the hidden test set. Start the server before performing any time consuming steps.\n",
      "\n"
     ]
    },
    {
     "name": "stdout",
     "output_type": "stream",
     "text": [
      "torch.Size([1, 66, 127])\n"
     ]
    },
    {
     "ename": "KeyboardInterrupt",
     "evalue": "",
     "output_type": "error",
     "traceback": [
      "\u001b[31m---------------------------------------------------------------------------\u001b[39m",
      "\u001b[31mKeyboardInterrupt\u001b[39m                         Traceback (most recent call last)",
      "\u001b[36mCell\u001b[39m\u001b[36m \u001b[39m\u001b[32mIn[69]\u001b[39m\u001b[32m, line 6\u001b[39m\n\u001b[32m      4\u001b[39m     inference_server.serve()\n\u001b[32m      5\u001b[39m \u001b[38;5;28;01melse\u001b[39;00m:\n\u001b[32m----> \u001b[39m\u001b[32m6\u001b[39m     \u001b[43minference_server\u001b[49m\u001b[43m.\u001b[49m\u001b[43mrun_local_gateway\u001b[49m\u001b[43m(\u001b[49m\n\u001b[32m      7\u001b[39m \u001b[43m        \u001b[49m\u001b[43mdata_paths\u001b[49m\u001b[43m=\u001b[49m\u001b[43m(\u001b[49m\n\u001b[32m      8\u001b[39m \u001b[43m            \u001b[49m\u001b[43mjoin\u001b[49m\u001b[43m(\u001b[49m\u001b[43mcompetition_dataset_path\u001b[49m\u001b[43m,\u001b[49m\u001b[43m \u001b[49m\u001b[33;43m'\u001b[39;49m\u001b[33;43mtest.csv\u001b[39;49m\u001b[33;43m'\u001b[39;49m\u001b[43m)\u001b[49m\u001b[43m,\u001b[49m\n\u001b[32m      9\u001b[39m \u001b[43m            \u001b[49m\u001b[43mjoin\u001b[49m\u001b[43m(\u001b[49m\u001b[43mcompetition_dataset_path\u001b[49m\u001b[43m,\u001b[49m\u001b[43m \u001b[49m\u001b[33;43m'\u001b[39;49m\u001b[33;43mtest_demographics.csv\u001b[39;49m\u001b[33;43m'\u001b[39;49m\u001b[43m)\u001b[49m\u001b[43m,\u001b[49m\n\u001b[32m     10\u001b[39m \u001b[43m        \u001b[49m\u001b[43m)\u001b[49m\n\u001b[32m     11\u001b[39m \u001b[43m    \u001b[49m\u001b[43m)\u001b[49m\n\u001b[32m     12\u001b[39m     inference_server = kaggle_evaluation.cmi_inference_server.CMIInferenceServer(predict)\n\u001b[32m     13\u001b[39m     inference_server.run_local_gateway(\n\u001b[32m     14\u001b[39m         data_paths=(\n\u001b[32m     15\u001b[39m             join(competition_dataset_path, \u001b[33m'\u001b[39m\u001b[33mtest.csv\u001b[39m\u001b[33m'\u001b[39m),\n\u001b[32m     16\u001b[39m             join(competition_dataset_path, \u001b[33m'\u001b[39m\u001b[33mtest_demographics.csv\u001b[39m\u001b[33m'\u001b[39m),\n\u001b[32m     17\u001b[39m         )\n\u001b[32m     18\u001b[39m     )\n",
      "\u001b[36mFile \u001b[39m\u001b[32m~/repos/CMI-2025-competition/src/kaggle_evaluation/core/templates.py:147\u001b[39m, in \u001b[36mInferenceServer.run_local_gateway\u001b[39m\u001b[34m(self, data_paths, file_share_dir, *args, **kwargs)\u001b[39m\n\u001b[32m    145\u001b[39m \u001b[38;5;28;01mtry\u001b[39;00m:\n\u001b[32m    146\u001b[39m     \u001b[38;5;28mself\u001b[39m.gateway = \u001b[38;5;28mself\u001b[39m._get_gateway_for_test(data_paths, file_share_dir, *args, **kwargs)\n\u001b[32m--> \u001b[39m\u001b[32m147\u001b[39m     \u001b[38;5;28;43mself\u001b[39;49m\u001b[43m.\u001b[49m\u001b[43mgateway\u001b[49m\u001b[43m.\u001b[49m\u001b[43mrun\u001b[49m\u001b[43m(\u001b[49m\u001b[43m)\u001b[49m\n\u001b[32m    148\u001b[39m \u001b[38;5;28;01mexcept\u001b[39;00m \u001b[38;5;167;01mException\u001b[39;00m \u001b[38;5;28;01mas\u001b[39;00m err:\n\u001b[32m    149\u001b[39m     \u001b[38;5;28;01mraise\u001b[39;00m err \u001b[38;5;28;01mfrom\u001b[39;00m\u001b[38;5;250m \u001b[39m\u001b[38;5;28;01mNone\u001b[39;00m\n",
      "\u001b[36mFile \u001b[39m\u001b[32m~/repos/CMI-2025-competition/src/kaggle_evaluation/core/templates.py:84\u001b[39m, in \u001b[36mGateway.run\u001b[39m\u001b[34m(self)\u001b[39m\n\u001b[32m     82\u001b[39m \u001b[38;5;28;01mtry\u001b[39;00m:\n\u001b[32m     83\u001b[39m     \u001b[38;5;28mself\u001b[39m.unpack_data_paths()\n\u001b[32m---> \u001b[39m\u001b[32m84\u001b[39m     predictions, row_ids = \u001b[38;5;28;43mself\u001b[39;49m\u001b[43m.\u001b[49m\u001b[43mget_all_predictions\u001b[49m\u001b[43m(\u001b[49m\u001b[43m)\u001b[49m\n\u001b[32m     85\u001b[39m     \u001b[38;5;28mself\u001b[39m.write_submission(predictions, row_ids)\n\u001b[32m     86\u001b[39m \u001b[38;5;28;01mexcept\u001b[39;00m kaggle_evaluation.core.base_gateway.GatewayRuntimeError \u001b[38;5;28;01mas\u001b[39;00m gre:\n",
      "\u001b[36mFile \u001b[39m\u001b[32m~/repos/CMI-2025-competition/src/kaggle_evaluation/core/templates.py:56\u001b[39m, in \u001b[36mGateway.get_all_predictions\u001b[39m\u001b[34m(self)\u001b[39m\n\u001b[32m     54\u001b[39m all_row_ids = []\n\u001b[32m     55\u001b[39m \u001b[38;5;28;01mfor\u001b[39;00m data_batch, row_ids \u001b[38;5;129;01min\u001b[39;00m \u001b[38;5;28mself\u001b[39m.generate_data_batches():\n\u001b[32m---> \u001b[39m\u001b[32m56\u001b[39m     predictions = \u001b[38;5;28;43mself\u001b[39;49m\u001b[43m.\u001b[49m\u001b[43mpredict\u001b[49m\u001b[43m(\u001b[49m\u001b[43m*\u001b[49m\u001b[43mdata_batch\u001b[49m\u001b[43m)\u001b[49m\n\u001b[32m     57\u001b[39m     \u001b[38;5;28mself\u001b[39m.validate_prediction_batch(predictions, row_ids)\n\u001b[32m     58\u001b[39m     all_predictions.append(predictions)\n",
      "\u001b[36mFile \u001b[39m\u001b[32m~/repos/CMI-2025-competition/src/kaggle_evaluation/core/templates.py:70\u001b[39m, in \u001b[36mGateway.predict\u001b[39m\u001b[34m(self, *args, **kwargs)\u001b[39m\n\u001b[32m     63\u001b[39m \u001b[38;5;250m\u001b[39m\u001b[33;03m\"\"\"self.predict will send all data in args and kwargs to the user container, and\u001b[39;00m\n\u001b[32m     64\u001b[39m \u001b[33;03minstruct the user container to generate a `predict` response.\u001b[39;00m\n\u001b[32m     65\u001b[39m \n\u001b[32m     66\u001b[39m \u001b[33;03mReturns:\u001b[39;00m\n\u001b[32m     67\u001b[39m \u001b[33;03m    Any: The prediction from the user container.\u001b[39;00m\n\u001b[32m     68\u001b[39m \u001b[33;03m\"\"\"\u001b[39;00m\n\u001b[32m     69\u001b[39m \u001b[38;5;28;01mtry\u001b[39;00m:\n\u001b[32m---> \u001b[39m\u001b[32m70\u001b[39m     \u001b[38;5;28;01mreturn\u001b[39;00m \u001b[38;5;28;43mself\u001b[39;49m\u001b[43m.\u001b[49m\u001b[43mclient\u001b[49m\u001b[43m.\u001b[49m\u001b[43msend\u001b[49m\u001b[43m(\u001b[49m\u001b[33;43m'\u001b[39;49m\u001b[33;43mpredict\u001b[39;49m\u001b[33;43m'\u001b[39;49m\u001b[43m,\u001b[49m\u001b[43m \u001b[49m\u001b[43m*\u001b[49m\u001b[43margs\u001b[49m\u001b[43m,\u001b[49m\u001b[43m \u001b[49m\u001b[43m*\u001b[49m\u001b[43m*\u001b[49m\u001b[43mkwargs\u001b[49m\u001b[43m)\u001b[49m\n\u001b[32m     71\u001b[39m \u001b[38;5;28;01mexcept\u001b[39;00m \u001b[38;5;167;01mException\u001b[39;00m \u001b[38;5;28;01mas\u001b[39;00m e:\n\u001b[32m     72\u001b[39m     \u001b[38;5;28mself\u001b[39m.handle_server_error(e, \u001b[33m'\u001b[39m\u001b[33mpredict\u001b[39m\u001b[33m'\u001b[39m)\n",
      "\u001b[36mFile \u001b[39m\u001b[32m~/repos/CMI-2025-competition/src/kaggle_evaluation/core/relay.py:311\u001b[39m, in \u001b[36mClient.send\u001b[39m\u001b[34m(self, name, *args, **kwargs)\u001b[39m\n\u001b[32m    300\u001b[39m \u001b[38;5;250m\u001b[39m\u001b[33;03m\"\"\"Sends a single KaggleEvaluation request.\u001b[39;00m\n\u001b[32m    301\u001b[39m \n\u001b[32m    302\u001b[39m \u001b[33;03mArgs:\u001b[39;00m\n\u001b[32m   (...)\u001b[39m\u001b[32m    308\u001b[39m \u001b[33;03m    The response, which is of one of several allow-listed data types.\u001b[39;00m\n\u001b[32m    309\u001b[39m \u001b[33;03m\"\"\"\u001b[39;00m\n\u001b[32m    310\u001b[39m request = \u001b[38;5;28mself\u001b[39m.serialize_request(name, *args, **kwargs)\n\u001b[32m--> \u001b[39m\u001b[32m311\u001b[39m response = \u001b[38;5;28;43mself\u001b[39;49m\u001b[43m.\u001b[49m\u001b[43m_send_with_deadline\u001b[49m\u001b[43m(\u001b[49m\u001b[43mrequest\u001b[49m\u001b[43m)\u001b[49m\n\u001b[32m    312\u001b[39m \u001b[38;5;28;01mreturn\u001b[39;00m _deserialize(response.payload)\n",
      "\u001b[36mFile \u001b[39m\u001b[32m~/repos/CMI-2025-competition/src/kaggle_evaluation/core/relay.py:274\u001b[39m, in \u001b[36mClient._send_with_deadline\u001b[39m\u001b[34m(self, request)\u001b[39m\n\u001b[32m    272\u001b[39m \u001b[38;5;28mself\u001b[39m.stub = kaggle_evaluation_grpc.KaggleEvaluationServiceStub(\u001b[38;5;28mself\u001b[39m.channel)\n\u001b[32m    273\u001b[39m \u001b[38;5;28;01mtry\u001b[39;00m:\n\u001b[32m--> \u001b[39m\u001b[32m274\u001b[39m     response = \u001b[38;5;28;43mself\u001b[39;49m\u001b[43m.\u001b[49m\u001b[43mstub\u001b[49m\u001b[43m.\u001b[49m\u001b[43mSend\u001b[49m\u001b[43m(\u001b[49m\u001b[43mrequest\u001b[49m\u001b[43m,\u001b[49m\u001b[43m \u001b[49m\u001b[43mwait_for_ready\u001b[49m\u001b[43m=\u001b[49m\u001b[38;5;28;43;01mFalse\u001b[39;49;00m\u001b[43m)\u001b[49m\n\u001b[32m    275\u001b[39m     \u001b[38;5;28mself\u001b[39m._made_first_connection = \u001b[38;5;28;01mTrue\u001b[39;00m\n\u001b[32m    276\u001b[39m     \u001b[38;5;28;01mreturn\u001b[39;00m response\n",
      "\u001b[36mFile \u001b[39m\u001b[32m/venv/CMI/lib/python3.11/site-packages/grpc/_channel.py:1178\u001b[39m, in \u001b[36m_UnaryUnaryMultiCallable.__call__\u001b[39m\u001b[34m(self, request, timeout, metadata, credentials, wait_for_ready, compression)\u001b[39m\n\u001b[32m   1166\u001b[39m \u001b[38;5;28;01mdef\u001b[39;00m\u001b[38;5;250m \u001b[39m\u001b[34m__call__\u001b[39m(\n\u001b[32m   1167\u001b[39m     \u001b[38;5;28mself\u001b[39m,\n\u001b[32m   1168\u001b[39m     request: Any,\n\u001b[32m   (...)\u001b[39m\u001b[32m   1173\u001b[39m     compression: Optional[grpc.Compression] = \u001b[38;5;28;01mNone\u001b[39;00m,\n\u001b[32m   1174\u001b[39m ) -> Any:\n\u001b[32m   1175\u001b[39m     (\n\u001b[32m   1176\u001b[39m         state,\n\u001b[32m   1177\u001b[39m         call,\n\u001b[32m-> \u001b[39m\u001b[32m1178\u001b[39m     ) = \u001b[38;5;28;43mself\u001b[39;49m\u001b[43m.\u001b[49m\u001b[43m_blocking\u001b[49m\u001b[43m(\u001b[49m\n\u001b[32m   1179\u001b[39m \u001b[43m        \u001b[49m\u001b[43mrequest\u001b[49m\u001b[43m,\u001b[49m\u001b[43m \u001b[49m\u001b[43mtimeout\u001b[49m\u001b[43m,\u001b[49m\u001b[43m \u001b[49m\u001b[43mmetadata\u001b[49m\u001b[43m,\u001b[49m\u001b[43m \u001b[49m\u001b[43mcredentials\u001b[49m\u001b[43m,\u001b[49m\u001b[43m \u001b[49m\u001b[43mwait_for_ready\u001b[49m\u001b[43m,\u001b[49m\u001b[43m \u001b[49m\u001b[43mcompression\u001b[49m\n\u001b[32m   1180\u001b[39m \u001b[43m    \u001b[49m\u001b[43m)\u001b[49m\n\u001b[32m   1181\u001b[39m     \u001b[38;5;28;01mreturn\u001b[39;00m _end_unary_response_blocking(state, call, \u001b[38;5;28;01mFalse\u001b[39;00m, \u001b[38;5;28;01mNone\u001b[39;00m)\n",
      "\u001b[36mFile \u001b[39m\u001b[32m/venv/CMI/lib/python3.11/site-packages/grpc/_channel.py:1162\u001b[39m, in \u001b[36m_UnaryUnaryMultiCallable._blocking\u001b[39m\u001b[34m(self, request, timeout, metadata, credentials, wait_for_ready, compression)\u001b[39m\n\u001b[32m   1145\u001b[39m state.target = _common.decode(\u001b[38;5;28mself\u001b[39m._target)\n\u001b[32m   1146\u001b[39m call = \u001b[38;5;28mself\u001b[39m._channel.segregated_call(\n\u001b[32m   1147\u001b[39m     cygrpc.PropagationConstants.GRPC_PROPAGATE_DEFAULTS,\n\u001b[32m   1148\u001b[39m     \u001b[38;5;28mself\u001b[39m._method,\n\u001b[32m   (...)\u001b[39m\u001b[32m   1160\u001b[39m     \u001b[38;5;28mself\u001b[39m._registered_call_handle,\n\u001b[32m   1161\u001b[39m )\n\u001b[32m-> \u001b[39m\u001b[32m1162\u001b[39m event = \u001b[43mcall\u001b[49m\u001b[43m.\u001b[49m\u001b[43mnext_event\u001b[49m\u001b[43m(\u001b[49m\u001b[43m)\u001b[49m\n\u001b[32m   1163\u001b[39m _handle_event(event, state, \u001b[38;5;28mself\u001b[39m._response_deserializer)\n\u001b[32m   1164\u001b[39m \u001b[38;5;28;01mreturn\u001b[39;00m state, call\n",
      "\u001b[36mFile \u001b[39m\u001b[32msrc/python/grpcio/grpc/_cython/_cygrpc/channel.pyx.pxi:388\u001b[39m, in \u001b[36mgrpc._cython.cygrpc.SegregatedCall.next_event\u001b[39m\u001b[34m()\u001b[39m\n",
      "\u001b[36mFile \u001b[39m\u001b[32msrc/python/grpcio/grpc/_cython/_cygrpc/channel.pyx.pxi:211\u001b[39m, in \u001b[36mgrpc._cython.cygrpc._next_call_event\u001b[39m\u001b[34m()\u001b[39m\n",
      "\u001b[36mFile \u001b[39m\u001b[32msrc/python/grpcio/grpc/_cython/_cygrpc/channel.pyx.pxi:205\u001b[39m, in \u001b[36mgrpc._cython.cygrpc._next_call_event\u001b[39m\u001b[34m()\u001b[39m\n",
      "\u001b[36mFile \u001b[39m\u001b[32msrc/python/grpcio/grpc/_cython/_cygrpc/completion_queue.pyx.pxi:78\u001b[39m, in \u001b[36mgrpc._cython.cygrpc._latent_event\u001b[39m\u001b[34m()\u001b[39m\n",
      "\u001b[36mFile \u001b[39m\u001b[32msrc/python/grpcio/grpc/_cython/_cygrpc/completion_queue.pyx.pxi:61\u001b[39m, in \u001b[36mgrpc._cython.cygrpc._internal_latent_event\u001b[39m\u001b[34m()\u001b[39m\n",
      "\u001b[36mFile \u001b[39m\u001b[32msrc/python/grpcio/grpc/_cython/_cygrpc/completion_queue.pyx.pxi:42\u001b[39m, in \u001b[36mgrpc._cython.cygrpc._next\u001b[39m\u001b[34m()\u001b[39m\n",
      "\u001b[31mKeyboardInterrupt\u001b[39m: "
     ]
    },
    {
     "name": "stderr",
     "output_type": "stream",
     "text": [
      "I0000 00:00:1753639687.878259   13321 chttp2_transport.cc:1182] ipv6:%5B::1%5D:50051: Got goaway [2] err=UNAVAILABLE:GOAWAY received; Error code: 2; Debug Text: Cancelling all calls {created_time:\"2025-07-27T18:08:07.878251443+00:00\", http2_error:2, grpc_status:14}\n"
     ]
    }
   ],
   "source": [
    "inference_server = kaggle_evaluation.cmi_inference_server.CMIInferenceServer(predict)\n",
    "\n",
    "if os.getenv('KAGGLE_IS_COMPETITION_RERUN'):\n",
    "    inference_server.serve()\n",
    "else:\n",
    "    inference_server.run_local_gateway(\n",
    "        data_paths=(\n",
    "            join(competition_dataset_path, 'test.csv'),\n",
    "            join(competition_dataset_path, 'test_demographics.csv'),\n",
    "        )\n",
    "    )\n",
    "    inference_server = kaggle_evaluation.cmi_inference_server.CMIInferenceServer(predict)\n",
    "    inference_server.run_local_gateway(\n",
    "        data_paths=(\n",
    "            join(competition_dataset_path, 'test.csv'),\n",
    "            join(competition_dataset_path, 'test_demographics.csv'),\n",
    "        )\n",
    "    )"
   ]
  }
 ],
 "metadata": {
  "kaggle": {
   "accelerator": "gpu",
   "dataSources": [
    {
     "databundleVersionId": 12518947,
     "sourceId": 102335,
     "sourceType": "competition"
    }
   ],
   "isGpuEnabled": true,
   "isInternetEnabled": false,
   "language": "python",
   "sourceType": "notebook"
  },
  "kernelspec": {
   "display_name": "Python 3",
   "language": "python",
   "name": "python3"
  },
  "language_info": {
   "codemirror_mode": {
    "name": "ipython",
    "version": 3
   },
   "file_extension": ".py",
   "mimetype": "text/x-python",
   "name": "python",
   "nbconvert_exporter": "python",
   "pygments_lexer": "ipython3",
   "version": "3.11.5"
  },
  "papermill": {
   "default_parameters": {},
   "duration": 510.403331,
   "end_time": "2025-06-14T10:09:19.701325",
   "environment_variables": {},
   "exception": null,
   "input_path": "__notebook__.ipynb",
   "output_path": "__notebook__.ipynb",
   "parameters": {},
   "start_time": "2025-06-14T10:00:49.297994",
   "version": "2.6.0"
  }
 },
 "nbformat": 4,
 "nbformat_minor": 5
}
