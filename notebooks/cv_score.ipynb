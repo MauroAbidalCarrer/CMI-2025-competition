{
 "cells": [
  {
   "cell_type": "markdown",
   "id": "bf6438da",
   "metadata": {},
   "source": [
    "# Training & inference notebook\n",
    "Credit to [Tarun Mishra](https://www.kaggle.com/tarundirector) – this code is heavily based on his [notebook](https://www.kaggle.com/code/tarundirector/sensor-pulse-viz-eda-for-bfrb-detection?scriptVersionId=243465321)."
   ]
  },
  {
   "cell_type": "markdown",
   "id": "e752c660",
   "metadata": {},
   "source": [
    "## Setup"
   ]
  },
  {
   "cell_type": "markdown",
   "id": "473b69f6",
   "metadata": {},
   "source": [
    "### imports"
   ]
  },
  {
   "cell_type": "markdown",
   "id": "e7d4b210",
   "metadata": {},
   "source": [
    "#### Training imports"
   ]
  },
  {
   "cell_type": "code",
   "execution_count": null,
   "id": "b842c804",
   "metadata": {},
   "outputs": [],
   "source": [
    "import os\n",
    "import gc\n",
    "import json\n",
    "import math\n",
    "from glob import glob\n",
    "from functools import partial\n",
    "from datetime import datetime\n",
    "from collections import Counter\n",
    "from os.path import join, realpath\n",
    "from typing import Optional, Literal\n",
    "from itertools import pairwise, starmap\n",
    "\n",
    "import torch\n",
    "import kagglehub\n",
    "import numpy as np\n",
    "import pandas as pd\n",
    "import plotly.express as px\n",
    "from torch import nn, Tensor\n",
    "from pandas import DataFrame as DF\n",
    "from torch.utils.data import TensorDataset\n",
    "from torch.optim import Optimizer\n",
    "# from timm.scheduler import CosineLRScheduler\n",
    "from torch.utils.data import DataLoader as DL\n",
    "from rich.progress import Progress, Task, track\n",
    "from torch.optim.lr_scheduler import ConstantLR, LRScheduler, _LRScheduler\n",
    "metric_package = kagglehub.package_import('wasupandceacar/cmi-metric', bypass_confirmation=True)"
   ]
  },
  {
   "cell_type": "markdown",
   "id": "6a3ae962",
   "metadata": {},
   "source": [
    "#### inference imports"
   ]
  },
  {
   "cell_type": "code",
   "execution_count": null,
   "id": "915c9ecf",
   "metadata": {},
   "outputs": [],
   "source": [
    "import os\n",
    "import json\n",
    "import warnings\n",
    "from os.path import join\n",
    "from tqdm.notebook import tqdm\n",
    "from itertools import pairwise, product\n",
    "\n",
    "import torch\n",
    "import numpy as np\n",
    "import pandas as pd\n",
    "import polars as pl\n",
    "from numpy import ndarray\n",
    "from torch import nn, Tensor\n",
    "from numpy.linalg import norm\n",
    "from pandas import DataFrame as DF\n",
    "from scipy.spatial.transform import Rotation\n",
    "# from kagglehub import competition_download, dataset_download, model_download\n",
    "import kagglehub\n",
    "metric_package = kagglehub.package_import('wasupandceacar/cmi-metric', bypass_confirmation=True)\n",
    "\n",
    "import training\n",
    "import kaggle_evaluation.cmi_inference_server"
   ]
  },
  {
   "cell_type": "markdown",
   "id": "5cd3c8bd",
   "metadata": {},
   "source": [
    "#### kaggle notbook Imports"
   ]
  },
  {
   "cell_type": "code",
   "execution_count": null,
   "id": "ce2e25ed",
   "metadata": {},
   "outputs": [],
   "source": [
    "import random\n",
    "import numpy as np\n",
    "import torch\n",
    "import os\n",
    "\n",
    "def seed_everything(seed=42):\n",
    "    \"\"\"Set all random seeds for reproducibility\"\"\"\n",
    "    random.seed(seed)\n",
    "    np.random.seed(seed)\n",
    "    torch.manual_seed(seed)\n",
    "    torch.cuda.manual_seed(seed)\n",
    "    torch.backends.cudnn.deterministic = True\n",
    "    torch.backends.cudnn.benchmark = False\n",
    "    os.environ['PYTHONHASHSEED'] = str(seed)\n",
    "    os.environ['CUBLAS_WORKSPACE_CONFIG'] = ':4096:8'\n",
    "    torch.use_deterministic_algorithms(True, warn_only=True)\n",
    "\n",
    "SEED = 42\n",
    "seed_everything(seed=SEED)\n",
    "\n",
    "import pandas as pd\n",
    "import polars as pl\n",
    "from sklearn.metrics import f1_score\n",
    "from sklearn.model_selection import train_test_split\n",
    "from sklearn.preprocessing import StandardScaler, LabelEncoder\n",
    "from sklearn.model_selection import GroupKFold\n",
    "from sklearn.utils.class_weight import compute_class_weight\n",
    "import joblib\n",
    "from tqdm import tqdm\n",
    "\n",
    "from torch import nn\n",
    "import torch.nn.functional as F\n",
    "import torch.optim as optim\n",
    "from torch.utils.data import Dataset, DataLoader\n",
    "\n",
    "import kaggle_evaluation.cmi_inference_server\n",
    "from matplotlib import pyplot as plt"
   ]
  },
  {
   "cell_type": "markdown",
   "id": "91e34cce",
   "metadata": {},
   "source": [
    "### Configs"
   ]
  },
  {
   "cell_type": "markdown",
   "id": "57b0b925",
   "metadata": {},
   "source": [
    "#### Training config"
   ]
  },
  {
   "cell_type": "code",
   "execution_count": null,
   "id": "1296f174",
   "metadata": {},
   "outputs": [],
   "source": [
    "# Dataset\n",
    "DATASET_HANDLE = \"mauroabidalcarrer/prepocessed-cmi-2025/versions/34\"\n",
    "COMPETITION_HANDLE = \"cmi-detect-behavior-with-sensor-data\"\n",
    "TARGET_NAMES = sorted([\n",
    "    \"Above ear - pull hair\",\n",
    "    \"Cheek - pinch skin\",\n",
    "    \"Eyebrow - pull hair\",\n",
    "    \"Eyelash - pull hair\",\n",
    "    \"Feel around in tray and pull out an object\",\n",
    "    \"Forehead - pull hairline\",\n",
    "    \"Forehead - scratch\",\n",
    "    \"Neck - pinch skin\",\n",
    "    \"Neck - scratch\",\n",
    "    \"Text on phone\",\n",
    "    \"Wave hello\",\n",
    "    \"Write name in air\",\n",
    "    \"Write name on leg\",\n",
    "    \"Drink from bottle/cup\",\n",
    "    \"Pinch knee/leg skin\",\n",
    "    \"Pull air toward your face\",\n",
    "    \"Scratch knee/leg skin\",\n",
    "    \"Glasses on/off\"\n",
    "])\n",
    "IMU_FEATS_PREFIXES = (\n",
    "    \"acc\",\n",
    "    \"linear_acc\",\n",
    "    \"rot\",\n",
    "    \"angular\",\n",
    "    \"euler\",\n",
    "    \"quat_rot_mag\",\n",
    "    \"delta_rot_mag\",\n",
    ")\n",
    "# Data augmentation\n",
    "JITTER = 0.25\n",
    "SCALING = 0.2\n",
    "MIXUP = 0.3\n",
    "# Training loop\n",
    "NB_CROSS_VALIDATIONS = 5\n",
    "TRAIN_BATCH_SIZE = 64\n",
    "VALIDATION_BATCH_SIZE = 4 * TRAIN_BATCH_SIZE\n",
    "PATIENCE = 40\n",
    "# Optimizer\n",
    "WEIGHT_DECAY = 3e-3\n",
    "# Scheduler\n",
    "TRAINING_EPOCHS = 125 # Including warmup epochs\n",
    "WARMUP_EPOCHS = 20\n",
    "WARMUP_LR_INIT = 1.822126131809773e-05\n",
    "MIN_LR = 3.810323058740104e-09\n",
    "MAX_LR = 1e-3\n",
    "# Mock training loop\n",
    "MOCK_TRAINING_EPOCHS = 15\n",
    "MOCK_TRAINING_GAMMA = 1.01"
   ]
  },
  {
   "cell_type": "markdown",
   "id": "1393b8af",
   "metadata": {},
   "source": [
    "#### Preprocessing (for inference) config "
   ]
  },
  {
   "cell_type": "code",
   "execution_count": null,
   "id": "3ad8c78c",
   "metadata": {},
   "outputs": [],
   "source": [
    "QUATERNION_COLS = ['rot_w', 'rot_x', 'rot_y', 'rot_z']\n",
    "GRAVITY_WORLD = np.array([0, 0, 9.81], \"float32\")\n",
    "RAW_ACCELRATION_COLS = [\"acc_x\", \"acc_y\", \"acc_z\"]\n",
    "LINEAR_ACC_COLS = [\"linear_\" + col for col in RAW_ACCELRATION_COLS] # Acceleration without gravity\n",
    "COMPETITION_HANDLE = \"cmi-detect-behavior-with-sensor-data\"\n",
    "CATEGORY_COLUMNS = [\n",
    "    'row_id',\n",
    "    'sequence_type',\n",
    "    'sequence_id',\n",
    "    'subject',\n",
    "    'orientation',\n",
    "    'behavior',\n",
    "    'phase',\n",
    "    'gesture',\n",
    "]\n",
    "META_DATA_COLUMNS = [\n",
    "    'row_id',\n",
    "    'sequence_type',\n",
    "    'sequence_id',\n",
    "    'sequence_counter',\n",
    "    'subject',\n",
    "    'orientation',\n",
    "    'behavior',\n",
    "    'phase',\n",
    "    'gesture',\n",
    "]\n",
    "DATASET_DF_DTYPES = {\n",
    "    \"acc_x\": \"float32\", \"acc_y\": \"float32\", \"acc_z\": \"float32\",\n",
    "    \"thm_1\":\"float32\", \"thm_2\":\"float32\", \"thm_3\":\"float32\", \"thm_4\":\"float32\", \"thm_5\":\"float32\",\n",
    "    \"sequence_counter\": \"int32\",\n",
    "    **{col: \"category\" for col in CATEGORY_COLUMNS},\n",
    "    **{f\"tof_{i_1}_v{i_2}\": \"float32\" for i_1, i_2 in product(range(1, 5), range(64))},\n",
    "}\n",
    "PREPROCESSED_DATASET_HANDLE = \"mauroabidalcarrer/prepocessed-cmi-2025\"\n",
    "# The quantile of the sequences len used to pad/truncate during preprocessing\n",
    "SEQUENCE_NORMED_LEN_QUANTILE = 0.95\n",
    "# SAMPLING_FREQUENCY = 10 #Hz\n",
    "N_FOLDS = 5\n",
    "VALIDATION_FRACTION = 0.2\n",
    "TARGET_NAMES = sorted([\n",
    "    \"Above ear - pull hair\",\n",
    "    \"Cheek - pinch skin\",\n",
    "    \"Eyebrow - pull hair\",\n",
    "    \"Eyelash - pull hair\",\n",
    "    \"Feel around in tray and pull out an object\",\n",
    "    \"Forehead - pull hairline\",\n",
    "    \"Forehead - scratch\",\n",
    "    \"Neck - pinch skin\",\n",
    "    \"Neck - scratch\",\n",
    "    \"Text on phone\",\n",
    "    \"Wave hello\",\n",
    "    \"Write name in air\",\n",
    "    \"Write name on leg\",\n",
    "    \"Drink from bottle/cup\",\n",
    "    \"Pinch knee/leg skin\",\n",
    "    \"Pull air toward your face\",\n",
    "    \"Scratch knee/leg skin\",\n",
    "    \"Glasses on/off\"\n",
    "])\n",
    "EPSILON=1e-8\n",
    "DELTA_ROTATION_ANGULAR_VELOCITY_COLS = [\"angular_vel_x\", \"angular_vel_y\", \"angular_vel_z\"]\n",
    "DELTA_ROTATION_AXES_COLS = [\"rotation_axis_x\", \"rotation_axis_y\", \"rotation_axis_z\"]\n",
    "EULER_ANGLES_COLS = [\"euler_x\", \"euler_y\", \"euler_z\"]\n",
    "TOF_AGG_FUNCS = [\n",
    "    \"mean\",\n",
    "    \"std\",\n",
    "    \"min\",\n",
    "    \"max\",\n",
    "    \"median\",\n",
    "]"
   ]
  },
  {
   "cell_type": "markdown",
   "id": "1c4bfefa",
   "metadata": {},
   "source": [
    "### Define function to get the feature columns\n",
    "Feature columns change over time so it's better to have a function to get them than manually update a variable every time we add/remove features."
   ]
  },
  {
   "cell_type": "code",
   "execution_count": null,
   "id": "f3d40b15",
   "metadata": {},
   "outputs": [],
   "source": [
    "def get_feature_cols(df:DF) -> list[str]:\n",
    "    return sorted(list(set(df.columns) - set(META_DATA_COLUMNS) - set(TARGET_NAMES)))"
   ]
  },
  {
   "cell_type": "markdown",
   "id": "1eac0e5a",
   "metadata": {},
   "source": [
    "### Supress performance warngings"
   ]
  },
  {
   "cell_type": "code",
   "execution_count": null,
   "id": "086420e2",
   "metadata": {},
   "outputs": [],
   "source": [
    "warnings.filterwarnings(\n",
    "    \"ignore\",\n",
    "    message=(\n",
    "        \"DataFrame is highly fragmented.  This is usually the result of \"\n",
    "        \"calling `frame.insert` many times.*\"\n",
    "    ),\n",
    "    category=pd.errors.PerformanceWarning,\n",
    ")"
   ]
  },
  {
   "cell_type": "markdown",
   "id": "7749c3bd",
   "metadata": {},
   "source": [
    "### device setup"
   ]
  },
  {
   "cell_type": "code",
   "execution_count": null,
   "id": "aa7f99a1",
   "metadata": {},
   "outputs": [],
   "source": [
    "device = torch.device(\"cuda\") if torch.cuda.is_available() else torch.device(\"cpu\")"
   ]
  },
  {
   "cell_type": "markdown",
   "id": "6a563074",
   "metadata": {},
   "source": [
    "### Dataset Setup"
   ]
  },
  {
   "cell_type": "markdown",
   "id": "20a7f347",
   "metadata": {},
   "source": [
    "#### Dataset class"
   ]
  },
  {
   "cell_type": "code",
   "execution_count": null,
   "id": "2bc2e83c",
   "metadata": {},
   "outputs": [],
   "source": [
    "class CMIDataset(TensorDataset):\n",
    "    def __init__(\n",
    "        self,\n",
    "        parent_dir: str,\n",
    "        split: Optional[Literal[\"train\", \"validation\"]]=None,\n",
    "        subset: Optional[int]=None,\n",
    "        force_download=False\n",
    "    ):\n",
    "        dataset_path = kagglehub.dataset_download(DATASET_HANDLE, force_download)\n",
    "        parent_dir = join(dataset_path, \"preprocessed_dataset\", parent_dir)\n",
    "        split = \"\" if split is None else split + \"_\"\n",
    "        x = np.load(join(parent_dir, f\"{split}X.npy\")).swapaxes(1, 2)\n",
    "        y = np.load(join(parent_dir, f\"{split}Y.npy\"))\n",
    "        if subset is not None:\n",
    "            x = x[:subset]\n",
    "            y = y[:subset]\n",
    "        super().__init__(\n",
    "            torch.from_numpy(x).to(device),\n",
    "            torch.from_numpy(y).to(device),\n",
    "        )"
   ]
  },
  {
   "cell_type": "markdown",
   "id": "0da7064d",
   "metadata": {},
   "source": [
    "#### Meta data loading"
   ]
  },
  {
   "cell_type": "code",
   "execution_count": null,
   "id": "5aae295d",
   "metadata": {},
   "outputs": [],
   "source": [
    "dataset_path = kagglehub.dataset_download(DATASET_HANDLE)\n",
    "meta_data_path = join(\n",
    "    dataset_path,\n",
    "    \"preprocessed_dataset\",\n",
    "    \"full_dataset_meta_data.json\"\n",
    ")\n",
    "with open(meta_data_path, \"r\") as fp:\n",
    "    meta_data = json.load(fp)\n",
    "# Convert target names into a ndarray to index it batchwise.\n",
    "is_thm_tof_feat = lambda feat: feat.startswith((\"thm\", \"tof\"))\n",
    "non_imu_feats_idx = [feat_idx for feat_idx, feat in enumerate(meta_data[\"feature_cols\"]) if is_thm_tof_feat(feat)]\n",
    "imu_feats_idx = [feat_idx for feat_idx, feat in enumerate(meta_data[\"feature_cols\"]) if not is_thm_tof_feat(feat)]\n",
    "print(meta_data[\"feature_cols\"])\n",
    "print(\"non_imu_feats_idx:\", non_imu_feats_idx)\n",
    "print(\"imu_feats_idx:\", imu_feats_idx)"
   ]
  },
  {
   "cell_type": "markdown",
   "id": "dbc6fe74",
   "metadata": {},
   "source": [
    "#### Compute class weights."
   ]
  },
  {
   "cell_type": "code",
   "execution_count": null,
   "id": "74233c6c",
   "metadata": {},
   "outputs": [],
   "source": [
    "def compute_weighted_cross_entropy_loss(\n",
    "    dataset: Dataset[tuple[torch.Tensor, torch.Tensor]]\n",
    ") -> nn.CrossEntropyLoss:\n",
    "    \"\"\"\n",
    "    Computes class weights from a dataset with one-hot encoded targets and returns a CrossEntropyLoss with those weights.\n",
    "\n",
    "    Args:\n",
    "        dataset: A PyTorch Dataset that yields (x, y) where y is a one-hot encoded tensor of shape (num_classes,)\n",
    "\n",
    "    Returns:\n",
    "        A torch.nn.CrossEntropyLoss object with class weights based on inverse class frequency.\n",
    "    \"\"\"\n",
    "    class_counts: Counter = Counter()\n",
    "    num_samples = 0\n",
    "\n",
    "    for _, y in dataset:\n",
    "        class_idx = y.argmax().item()\n",
    "        class_counts[class_idx] += 1\n",
    "        num_samples += 1\n",
    "\n",
    "    num_classes = len(class_counts)\n",
    "    weights = torch.tensor(\n",
    "        [num_samples / class_counts[i] for i in range(num_classes)],\n",
    "        dtype=torch.float32,\n",
    "    )\n",
    "\n",
    "    # Optional: normalize weights so they sum to 1\n",
    "    weights = weights / weights.sum()\n",
    "\n",
    "    return nn.CrossEntropyLoss(weight=weights.to(device))\n"
   ]
  },
  {
   "cell_type": "markdown",
   "id": "2161df0c",
   "metadata": {
    "papermill": {
     "duration": 0.00278,
     "end_time": "2025-06-14T10:01:12.877551",
     "exception": false,
     "start_time": "2025-06-14T10:01:12.874771",
     "status": "completed"
    },
    "tags": []
   },
   "source": [
    "### BFRBs indices"
   ]
  },
  {
   "cell_type": "code",
   "execution_count": null,
   "id": "e657c570",
   "metadata": {
    "execution": {
     "iopub.execute_input": "2025-06-14T10:01:12.884365Z",
     "iopub.status.busy": "2025-06-14T10:01:12.883937Z",
     "iopub.status.idle": "2025-06-14T10:01:45.309186Z",
     "shell.execute_reply": "2025-06-14T10:01:45.308564Z"
    },
    "papermill": {
     "duration": 32.430139,
     "end_time": "2025-06-14T10:01:45.310511",
     "exception": false,
     "start_time": "2025-06-14T10:01:12.880372",
     "status": "completed"
    },
    "tags": []
   },
   "outputs": [],
   "source": [
    "print(\"Loading datasets...\")\n",
    "competition_dataset_path = kagglehub.competition_download(COMPETITION_HANDLE)\n",
    "train_df = pd.read_csv(join(competition_dataset_path, \"train.csv\"))\n",
    "train_dem_df = pd.read_csv(join(competition_dataset_path, \"train_demographics.csv\"))\n",
    "test_df = pd.read_csv(join(competition_dataset_path, \"test.csv\"))\n",
    "test_dem_df = pd.read_csv(join(competition_dataset_path, \"test_demographics.csv\"))\n",
    "print(f\"Train rows: {len(train_df)}, Test rows: {len(test_df)}\")\n",
    "\n",
    "# Encode labels\n",
    "label_encoder = LabelEncoder()\n",
    "train_df['gesture'] = label_encoder.fit_transform(train_df['gesture'].astype(str))\n",
    "gesture_classes = label_encoder.classes_\n",
    "\n",
    "bfrb_gestures = [\n",
    "    'Above ear - pull hair',\n",
    "    'Forehead - pull hairline',\n",
    "    'Forehead - scratch',\n",
    "    'Eyebrow - pull hair',\n",
    "    'Eyelash - pull hair',\n",
    "    'Neck - pinch skin',\n",
    "    'Neck - scratch',\n",
    "    'Cheek - pinch skin'\n",
    "]\n",
    "bfrb_indices = label_encoder.transform(bfrb_gestures)"
   ]
  },
  {
   "cell_type": "markdown",
   "id": "0de16cc1",
   "metadata": {},
   "source": [
    "### Scheduler"
   ]
  },
  {
   "cell_type": "code",
   "execution_count": null,
   "id": "d3d46b85",
   "metadata": {},
   "outputs": [],
   "source": [
    "class CosineAnnealingWarmupRestarts(_LRScheduler):\n",
    "    def __init__(\n",
    "        self,\n",
    "        optimizer: Optimizer,\n",
    "        warmup_steps: int,\n",
    "        max_lr: float,\n",
    "        min_lr: float,\n",
    "        cycle_length: int,\n",
    "        cycle_mult: float = 1.0,\n",
    "        gamma: float = 1.0,\n",
    "        last_epoch: int = -1,\n",
    "    ) -> None:\n",
    "        \"\"\"\n",
    "        Args:\n",
    "            optimizer: Wrapped optimizer.\n",
    "            warmup_steps: Number of steps for linear warmup.\n",
    "            max_lr: Initial maximum learning rate.\n",
    "            min_lr: Minimum learning rate after decay.\n",
    "            cycle_length: Initial number of steps per cosine cycle.\n",
    "            cycle_mult: Multiplicative factor for increasing cycle lengths.\n",
    "            gamma: Multiplicative decay factor for max_lr after each cycle.\n",
    "            last_epoch: The index of last epoch. Default: -1.\n",
    "        \"\"\"\n",
    "        self.warmup_steps = warmup_steps\n",
    "        self.max_lr = max_lr\n",
    "        self.min_lr = min_lr\n",
    "        self.cycle_length = cycle_length\n",
    "        self.cycle_mult = cycle_mult\n",
    "        self.gamma = gamma\n",
    "\n",
    "        self.current_cycle = 0\n",
    "        self.cycle_step = 0\n",
    "        self.lr = max_lr\n",
    "\n",
    "        super().__init__(optimizer, last_epoch)\n",
    "\n",
    "    def get_lr(self) -> list[float]:\n",
    "        if self.last_epoch < self.warmup_steps:\n",
    "            # Linear warmup\n",
    "            scale = (self.last_epoch + 1) / self.warmup_steps\n",
    "            return [self.min_lr + scale * (self.max_lr - self.min_lr) for _ in self.base_lrs]\n",
    "\n",
    "        # Adjust for post-warmup step index\n",
    "        t = self.cycle_step\n",
    "        T = self.cycle_length\n",
    "\n",
    "        cosine_decay = 0.5 * (1 + math.cos(math.pi * t / T))\n",
    "        lr = self.min_lr + (self.max_lr - self.min_lr) * cosine_decay\n",
    "\n",
    "        return [lr for _ in self.base_lrs]\n",
    "\n",
    "    def step(self, epoch: Optional[int] = None) -> None:\n",
    "        if self.last_epoch >= self.warmup_steps:\n",
    "            self.cycle_step += 1\n",
    "            if self.cycle_step >= self.cycle_length:\n",
    "                self.current_cycle += 1\n",
    "                self.cycle_step = 0\n",
    "                self.cycle_length = int(self.cycle_length * self.cycle_mult)\n",
    "                self.max_lr *= self.gamma\n",
    "        super().step(epoch)\n"
   ]
  },
  {
   "cell_type": "markdown",
   "id": "9c54244a",
   "metadata": {},
   "source": [
    "## Model definition"
   ]
  },
  {
   "cell_type": "code",
   "execution_count": 35,
   "id": "80ae01a8",
   "metadata": {},
   "outputs": [],
   "source": [
    "class MultiScaleConvs(nn.Module):\n",
    "    def __init__(self, in_channels:int, kernel_sizes:list[int]):\n",
    "        super().__init__()\n",
    "        def mk_conv_block(k_size) -> nn.Sequential:\n",
    "            return nn.Sequential(\n",
    "                nn.Conv1d(in_channels, in_channels, k_size, padding=k_size // 2, groups=in_channels),\n",
    "                nn.BatchNorm1d(in_channels),\n",
    "                nn.ReLU(),\n",
    "            )\n",
    "        self.convs = nn.ModuleList(map(mk_conv_block, kernel_sizes))\n",
    "\n",
    "    def forward(self, x:Tensor) -> Tensor:\n",
    "        yes = torch.cat([conv(x) for conv in self.convs] + [x], dim=1)\n",
    "        # print(\"stem output shape:\", yes.shape)\n",
    "        return yes\n",
    "\n",
    "class SqueezeExcitationBlock(nn.Module):\n",
    "    # Copy/paste of https://www.kaggle.com/code/wasupandceacar/lb-0-82-5fold-single-bert-model#Model implementation\n",
    "    def __init__(self, channels:int, reduction:int=8):\n",
    "        super().__init__()\n",
    "        self.fc1 = nn.Linear(channels, channels // reduction, bias=True)\n",
    "        self.fc2 = nn.Linear(channels // reduction, channels, bias=True)\n",
    "        self.sigmoid = nn.Sigmoid()\n",
    "\n",
    "    def forward(self, x):\n",
    "        # x: (B, C, L)\n",
    "        se = F.adaptive_avg_pool1d(x, 1).squeeze(-1)      # -> (B, C)\n",
    "        se = F.relu(self.fc1(se), inplace=True)          # -> (B, C//r)\n",
    "        se = self.sigmoid(self.fc2(se)).unsqueeze(-1)    # -> (B, C, 1)\n",
    "        return x * se\n",
    "\n",
    "class ResidualBlock(nn.Module):\n",
    "    def __init__(self, in_chns:int, out_chns:int, dropout_ratio:float=0.3, se_reduction:int=8, kernel_size:int=3):\n",
    "        super().__init__()\n",
    "        self.blocks = nn.Sequential(\n",
    "            nn.Conv1d(in_chns, out_chns, kernel_size=kernel_size, padding=kernel_size // 2, bias=False),\n",
    "            nn.BatchNorm1d(out_chns),\n",
    "            nn.ReLU(),\n",
    "            nn.Conv1d(out_chns, out_chns, kernel_size=kernel_size, padding=kernel_size // 2, bias=False),\n",
    "            nn.BatchNorm1d(out_chns),\n",
    "            SqueezeExcitationBlock(out_chns, se_reduction),\n",
    "        )\n",
    "        self.head = nn.Sequential(nn.ReLU(), nn.Dropout(dropout_ratio))\n",
    "        if in_chns == out_chns:\n",
    "            self.skip_connection = nn.Identity() \n",
    "        else:\n",
    "            # TODO: set bias to False ?\n",
    "            self.skip_connection = nn.Sequential(\n",
    "                nn.Conv1d(in_chns, out_chns, 1, bias=False),\n",
    "                nn.BatchNorm1d(out_chns)\n",
    "            )\n",
    "            self.head.insert(1, nn.MaxPool1d(2))\n",
    "\n",
    "    def forward(self, x:Tensor) -> Tensor:\n",
    "        activaition_maps = self.skip_connection(x) + self.blocks(x)\n",
    "        return self.head(activaition_maps)\n",
    "\n",
    "class MBConvBlock(nn.Module):\n",
    "    # From this schema: https://media.licdn.com/dms/image/v2/D5612AQFjbDOm5uyxdw/article-inline_image-shrink_1500_2232/article-inline_image-shrink_1500_2232/0/1683677500817?e=1758153600&v=beta&t=n48_UW5TZTyDPhRFlJXSidUQQPQpuC756M0kNeKmYTY\n",
    "    def __init__(self, in_chns:int, out_chns:int, se_reduction:int=8, expansion_ratio:int=4, dropout_ratio:float=0.3):\n",
    "        super().__init__()\n",
    "        expanded_channels = in_chns * expansion_ratio\n",
    "        self.blocks = nn.Sequential(\n",
    "            nn.Conv1d(in_chns, expanded_channels, kernel_size=1, bias=False),\n",
    "            nn.BatchNorm1d(expanded_channels),\n",
    "            nn.ReLU(),\n",
    "            nn.Conv1d(\n",
    "                expanded_channels,\n",
    "                expanded_channels,\n",
    "                kernel_size=3,\n",
    "                padding=1,\n",
    "                groups=expanded_channels,\n",
    "                bias=False,\n",
    "            ),\n",
    "            nn.BatchNorm1d(expanded_channels),\n",
    "            nn.ReLU(),\n",
    "            SqueezeExcitationBlock(expanded_channels, se_reduction),\n",
    "            nn.Conv1d(expanded_channels, out_chns, kernel_size=1, bias=False)\n",
    "        )\n",
    "        self.head = nn.Sequential(\n",
    "            nn.BatchNorm1d(out_chns)\n",
    "            # nn.ReLU(),\n",
    "            # nn.Dropout(dropout_ratio),\n",
    "        )\n",
    "        if in_chns == out_chns:\n",
    "            self.skip_connection = nn.Identity() \n",
    "        else:\n",
    "            # TODO: set bias to False ?\n",
    "            self.skip_connection = nn.Sequential(\n",
    "                nn.Conv1d(in_chns, out_chns, 1, bias=False),\n",
    "                nn.BatchNorm1d(out_chns)\n",
    "            )\n",
    "            self.head.add_module(\"max_pool\", nn.MaxPool1d(2))\n",
    "            \n",
    "    def forward(self, x:Tensor) -> Tensor:\n",
    "        activaition_maps = self.skip_connection(x) + self.blocks(x)\n",
    "        return self.head(activaition_maps)\n",
    "\n",
    "class AdditiveAttentionLayer(nn.Module):\n",
    "    # Copied (and slightly modified) from https://www.kaggle.com/code/myso1987/cmi3-pyroch-baseline-model-add-aug-folds\n",
    "    def __init__(self, hidden_dim):\n",
    "        super().__init__()\n",
    "        self.attention = nn.Linear(hidden_dim, 1, bias=True)\n",
    "\n",
    "    def forward(self, x: Tensor) -> Tensor:\n",
    "        # x shape: (batch, channels, seq_len)\n",
    "        x = x.swapaxes(1, 2)\n",
    "        # x shape: (batch, seq_len, hidden_dim)\n",
    "        scores = torch.tanh(self.attention(x))  # (batch, seq_len, 1)\n",
    "        weights = F.softmax(scores.squeeze(-1), dim=1)  # (batch, seq_len)\n",
    "        context = torch.sum(x * weights.unsqueeze(-1), dim=1)  # (batch, hidden_dim)\n",
    "        return context\n",
    "\n",
    "class CMIHARModule(nn.Module):\n",
    "    def __init__(\n",
    "            self,\n",
    "            imu_idx:list[int],\n",
    "            tof_thm_idx:list[int],\n",
    "            mlp_width:int,\n",
    "            n_class:int,            \n",
    "            tof_thm_dropout_ratio:float=0,\n",
    "        ):\n",
    "        super().__init__()\n",
    "        self.imu_idx = imu_idx\n",
    "        self.tof_thm_idx = tof_thm_idx\n",
    "        self.imu_branch = nn.Sequential(\n",
    "            ResidualBlock(len(imu_idx), 64),\n",
    "            ResidualBlock(64, 128),\n",
    "        )\n",
    "        self.tof_and_thm_branch = nn.Sequential(\n",
    "            nn.Conv1d(len(tof_thm_idx), 64, 3, padding=1, bias=False),\n",
    "            nn.BatchNorm1d(64),\n",
    "            nn.MaxPool1d(2),\n",
    "            nn.Dropout(tof_thm_dropout_ratio),\n",
    "            nn.Conv1d(64, 128, 3, padding=1, bias=False),\n",
    "            nn.BatchNorm1d(128),\n",
    "            nn.MaxPool1d(2),\n",
    "            nn.Dropout(tof_thm_dropout_ratio),\n",
    "        )\n",
    "        # print(\"imu expected activation maps size:\", len(imu_idx) * 4)\n",
    "        # print(\"expected tof and thm activation maps size:\", len(tof_thm_idx) * 4)\n",
    "        # print(\"concatenated acitvation maps size:\", (len(imu_idx) + len(tof_thm_idx)) * 4)\n",
    "        self.lstm = nn.GRU(128 * 2, mlp_width // 2, bidirectional=True)\n",
    "        self.attention = AdditiveAttentionLayer(mlp_width)\n",
    "        self.head = nn.Sequential(\n",
    "            # Head\n",
    "            nn.LazyLinear(mlp_width, bias=False),\n",
    "            nn.BatchNorm1d(mlp_width),\n",
    "            nn.ReLU(),\n",
    "            nn.Linear(mlp_width, mlp_width // 2, bias=False),\n",
    "            nn.BatchNorm1d(mlp_width // 2),\n",
    "            nn.ReLU(),\n",
    "            nn.Linear(mlp_width // 2, n_class),\n",
    "        )\n",
    "\n",
    "    def forward(self, x:Tensor) -> Tensor:\n",
    "        imu_activation_maps = self.imu_branch(x[:, self.imu_idx])\n",
    "        tof_thm_activation_maps = self.tof_and_thm_branch(x[:, self.tof_thm_idx])\n",
    "        concatenated_activation_maps = torch.cat((imu_activation_maps, tof_thm_activation_maps), 1)\n",
    "        lstm_output, _  = self.lstm(concatenated_activation_maps.swapaxes(1, 2))\n",
    "        lstm_output = lstm_output.swapaxes(1, 2) # redundant\n",
    "        attended = self.attention(lstm_output)\n",
    "        return self.head(attended)"
   ]
  },
  {
   "cell_type": "code",
   "execution_count": 36,
   "id": "b1c8de6d",
   "metadata": {},
   "outputs": [
    {
     "data": {
      "text/plain": [
       "46"
      ]
     },
     "execution_count": 36,
     "metadata": {},
     "output_type": "execute_result"
    }
   ],
   "source": [
    "len(imu_feats_idx)"
   ]
  },
  {
   "cell_type": "markdown",
   "id": "bfc08e41",
   "metadata": {},
   "source": [
    "### Create model function"
   ]
  },
  {
   "cell_type": "code",
   "execution_count": 37,
   "id": "36e3e463",
   "metadata": {},
   "outputs": [
    {
     "data": {
      "text/plain": [
       "CMIHARModule(\n",
       "  (imu_branch): Sequential(\n",
       "    (0): ResidualBlock(\n",
       "      (blocks): Sequential(\n",
       "        (0): Conv1d(46, 64, kernel_size=(3,), stride=(1,), padding=(1,), bias=False)\n",
       "        (1): BatchNorm1d(64, eps=1e-05, momentum=0.1, affine=True, track_running_stats=True)\n",
       "        (2): ReLU()\n",
       "        (3): Conv1d(64, 64, kernel_size=(3,), stride=(1,), padding=(1,), bias=False)\n",
       "        (4): BatchNorm1d(64, eps=1e-05, momentum=0.1, affine=True, track_running_stats=True)\n",
       "        (5): SqueezeExcitationBlock(\n",
       "          (fc1): Linear(in_features=64, out_features=8, bias=True)\n",
       "          (fc2): Linear(in_features=8, out_features=64, bias=True)\n",
       "          (sigmoid): Sigmoid()\n",
       "        )\n",
       "      )\n",
       "      (head): Sequential(\n",
       "        (0): ReLU()\n",
       "        (1): MaxPool1d(kernel_size=2, stride=2, padding=0, dilation=1, ceil_mode=False)\n",
       "        (2): Dropout(p=0.3, inplace=False)\n",
       "      )\n",
       "      (skip_connection): Sequential(\n",
       "        (0): Conv1d(46, 64, kernel_size=(1,), stride=(1,), bias=False)\n",
       "        (1): BatchNorm1d(64, eps=1e-05, momentum=0.1, affine=True, track_running_stats=True)\n",
       "      )\n",
       "    )\n",
       "    (1): ResidualBlock(\n",
       "      (blocks): Sequential(\n",
       "        (0): Conv1d(64, 128, kernel_size=(3,), stride=(1,), padding=(1,), bias=False)\n",
       "        (1): BatchNorm1d(128, eps=1e-05, momentum=0.1, affine=True, track_running_stats=True)\n",
       "        (2): ReLU()\n",
       "        (3): Conv1d(128, 128, kernel_size=(3,), stride=(1,), padding=(1,), bias=False)\n",
       "        (4): BatchNorm1d(128, eps=1e-05, momentum=0.1, affine=True, track_running_stats=True)\n",
       "        (5): SqueezeExcitationBlock(\n",
       "          (fc1): Linear(in_features=128, out_features=16, bias=True)\n",
       "          (fc2): Linear(in_features=16, out_features=128, bias=True)\n",
       "          (sigmoid): Sigmoid()\n",
       "        )\n",
       "      )\n",
       "      (head): Sequential(\n",
       "        (0): ReLU()\n",
       "        (1): MaxPool1d(kernel_size=2, stride=2, padding=0, dilation=1, ceil_mode=False)\n",
       "        (2): Dropout(p=0.3, inplace=False)\n",
       "      )\n",
       "      (skip_connection): Sequential(\n",
       "        (0): Conv1d(64, 128, kernel_size=(1,), stride=(1,), bias=False)\n",
       "        (1): BatchNorm1d(128, eps=1e-05, momentum=0.1, affine=True, track_running_stats=True)\n",
       "      )\n",
       "    )\n",
       "  )\n",
       "  (tof_and_thm_branch): Sequential(\n",
       "    (0): Conv1d(650, 64, kernel_size=(3,), stride=(1,), padding=(1,), bias=False)\n",
       "    (1): BatchNorm1d(64, eps=1e-05, momentum=0.1, affine=True, track_running_stats=True)\n",
       "    (2): MaxPool1d(kernel_size=2, stride=2, padding=0, dilation=1, ceil_mode=False)\n",
       "    (3): Dropout(p=0, inplace=False)\n",
       "    (4): Conv1d(64, 128, kernel_size=(3,), stride=(1,), padding=(1,), bias=False)\n",
       "    (5): BatchNorm1d(128, eps=1e-05, momentum=0.1, affine=True, track_running_stats=True)\n",
       "    (6): MaxPool1d(kernel_size=2, stride=2, padding=0, dilation=1, ceil_mode=False)\n",
       "    (7): Dropout(p=0, inplace=False)\n",
       "  )\n",
       "  (lstm): GRU(256, 128, bidirectional=True)\n",
       "  (attention): AdditiveAttentionLayer(\n",
       "    (attention): Linear(in_features=256, out_features=1, bias=True)\n",
       "  )\n",
       "  (head): Sequential(\n",
       "    (0): LazyLinear(in_features=0, out_features=256, bias=False)\n",
       "    (1): BatchNorm1d(256, eps=1e-05, momentum=0.1, affine=True, track_running_stats=True)\n",
       "    (2): ReLU()\n",
       "    (3): Linear(in_features=256, out_features=128, bias=False)\n",
       "    (4): BatchNorm1d(128, eps=1e-05, momentum=0.1, affine=True, track_running_stats=True)\n",
       "    (5): ReLU()\n",
       "    (6): Linear(in_features=128, out_features=18, bias=True)\n",
       "  )\n",
       ")"
      ]
     },
     "metadata": {},
     "output_type": "display_data"
    },
    {
     "name": "stdout",
     "output_type": "stream",
     "text": [
      "input channels: 696\n"
     ]
    }
   ],
   "source": [
    "def mk_model() -> nn.Module:\n",
    "    return (\n",
    "        CMIHARModule(\n",
    "            imu_idx=imu_feats_idx,\n",
    "            tof_thm_idx=non_imu_feats_idx,\n",
    "            mlp_width=256,\n",
    "            n_class=18,\n",
    "        )\n",
    "        .to(device)\n",
    "    )\n",
    "\n",
    "display(mk_model())\n",
    "print(\"input channels:\", len(meta_data[\"feature_cols\"]))"
   ]
  },
  {
   "cell_type": "markdown",
   "id": "8afc6e79",
   "metadata": {},
   "source": [
    "## Training loop"
   ]
  },
  {
   "cell_type": "code",
   "execution_count": 38,
   "id": "a69ec966",
   "metadata": {},
   "outputs": [],
   "source": [
    "def fit(epochs:int,\n",
    "        model: nn.Module,\n",
    "        scheduler: LRScheduler,\n",
    "        optimizer: torch.optim.Optimizer,\n",
    "        train_loader: DL,\n",
    "        criterion: callable=nn.L1Loss(),\n",
    "        evaluation_func: callable=None,\n",
    "        validation_loader: DL=None,\n",
    "        save_checkpoints=True,\n",
    "    ) -> tuple[DF, str]:\n",
    "    \"\"\"\n",
    "    Returns:\n",
    "        (training_metrics, path_to_checkpoints)\n",
    "    \"\"\"\n",
    "    # Setup\n",
    "    metrics: list[dict] = []\n",
    "    step = 0\n",
    "    model_device = next(model.parameters()).device\n",
    "    last_epoch_metric = {}\n",
    "    # Training loop\n",
    "    with Progress() as progress:\n",
    "        task: Task = progress.add_task(\n",
    "            \"training...\",\n",
    "            total=len(train_loader),\n",
    "        )\n",
    "        for epoch in range(epochs):\n",
    "            progress.update(\n",
    "                task,\n",
    "                description=f\"epoch: {epoch}\",\n",
    "                completed=0,\n",
    "            )\n",
    "            total_epoch_loss = 0\n",
    "            total_accuracy = 0\n",
    "            for batch_idx, (x, y) in enumerate(train_loader):\n",
    "                # forward\n",
    "                x = x.to(model_device)\n",
    "                y = y.to(model_device)\n",
    "                model.train()\n",
    "                optimizer.zero_grad()\n",
    "                y_pred: Tensor = model(x)\n",
    "                loss_value = criterion(y_pred, y)\n",
    "                # Verify loss value\n",
    "                if torch.isnan(loss_value).any().item():\n",
    "                    progress.print(\"Warning: Got NaN loss, stopped training.\")\n",
    "                    return DF.from_records(metrics)\n",
    "                if torch.isinf(loss_value).any().item():\n",
    "                    progress.print(\"Warning: Got infinite loss, stopped training.\")\n",
    "                    return DF.from_records(metrics)\n",
    "                # TODO: Use gradient clipping?\n",
    "                loss_value.backward()\n",
    "                optimizer.step()\n",
    "                if step > 0: # If it's not the first training step, idk why it throws an error otherwise\n",
    "                    scheduler.step()\n",
    "                # metrics\n",
    "                total_epoch_loss += loss_value.item()\n",
    "                metrics.append({\n",
    "                    \"step\": step,\n",
    "                    \"epoch\": epoch,\n",
    "                    \"batch_train_loss\": loss_value.item(),\n",
    "                    \"lr\": optimizer.state_dict()[\"param_groups\"][-1][\"lr\"],\n",
    "                })\n",
    "                step += 1\n",
    "                if \"validation_accuracy\" in last_epoch_metric:\n",
    "                    last_validation_acc = \"%.2f\" % last_epoch_metric[\"validation_accuracy\"]\n",
    "                    val_acc_str = \"val. acc: \" + last_validation_acc\n",
    "                else:\n",
    "                    val_acc_str = \"\"\n",
    "                progress.update(\n",
    "                    task,\n",
    "                    advance=1,\n",
    "                    description=f\"epoch: {epoch}, batch_loss: {(total_epoch_loss / (batch_idx+1)):.2f}, {val_acc_str}\"\n",
    "                )\n",
    "            # Post epoch evalution\n",
    "            metrics[-1][\"train_epoch_loss\"] = total_epoch_loss / len(train_loader)\n",
    "            metrics[-1][\"train_epoch_accuracy\"] = total_accuracy / len(train_loader)\n",
    "            if evaluation_func:\n",
    "                progress.update(\n",
    "                    task,\n",
    "                    completed=0,\n",
    "                    description=f\"epoch: {epoch}, evaluating...\"\n",
    "                )\n",
    "                eval_metrics = evaluation_func(model, criterion, validation_loader)\n",
    "                metrics[-1].update(eval_metrics)\n",
    "            last_epoch_metric = metrics[-1]\n",
    "\n",
    "    return DF.from_records(metrics)"
   ]
  },
  {
   "cell_type": "markdown",
   "id": "5a490227",
   "metadata": {},
   "source": [
    "### Create model and train model"
   ]
  },
  {
   "cell_type": "code",
   "execution_count": 39,
   "id": "34cd5bba",
   "metadata": {},
   "outputs": [],
   "source": [
    "def mk_model_and_fit(\n",
    "        train_loader:DL,\n",
    "        mk_scheduler:callable,\n",
    "        epochs:int,\n",
    "        validation_loader:Optional[DL]=None,\n",
    "        save_checkpoints=False,\n",
    "        criterion=nn.CrossEntropyLoss()\n",
    "    ) -> tuple[nn.Module, DF, list[str]]:\n",
    "    model = mk_model()\n",
    "    optimizer = torch.optim.AdamW(model.parameters(), WARMUP_LR_INIT)\n",
    "    lr_scheduler = mk_scheduler(optimizer)\n",
    "    training_metrics = fit(\n",
    "        epochs=epochs,\n",
    "        model=model,\n",
    "        scheduler=lr_scheduler,\n",
    "        optimizer=optimizer,\n",
    "        train_loader=train_loader,\n",
    "        criterion=criterion,\n",
    "        # evaluation_func=evaluate_model if validation_loader else None,\n",
    "        validation_loader=validation_loader,\n",
    "        save_checkpoints=save_checkpoints,\n",
    "    )\n",
    "\n",
    "    return model, training_metrics"
   ]
  },
  {
   "cell_type": "markdown",
   "id": "f60b2c5d",
   "metadata": {},
   "source": []
  },
  {
   "cell_type": "markdown",
   "id": "9256152c",
   "metadata": {},
   "source": [
    "## Search max learning rate"
   ]
  },
  {
   "cell_type": "code",
   "execution_count": 40,
   "id": "40b0c8ef",
   "metadata": {},
   "outputs": [],
   "source": [
    "def post_process_mock_training_metrics(training_metrics:DF) -> DF:\n",
    "    training_metrics = (\n",
    "        training_metrics\n",
    "        .query(\"batch_train_loss.notna()\")\n",
    "        .set_index(\"lr\", drop=False)\n",
    "        .sort_index()\n",
    "    )\n",
    "    training_metrics[\"ewm_batch_train_loss\"] = (\n",
    "        training_metrics\n",
    "        .ewm(com=30, ignore_na=False)\n",
    "        [\"batch_train_loss\"]\n",
    "        .mean()\n",
    "    )\n",
    "    training_metrics[\"ewm_batch_train_loss_diff\"] = training_metrics[\"ewm_batch_train_loss\"].diff()\n",
    "    return training_metrics"
   ]
  },
  {
   "cell_type": "code",
   "execution_count": 41,
   "id": "7c231028",
   "metadata": {},
   "outputs": [],
   "source": [
    "def plt_lr_search_training_metrics(training_metrics:DF):\n",
    "    (    \n",
    "        px.line(\n",
    "            (\n",
    "                training_metrics\n",
    "                .reset_index(drop=True)\n",
    "                .melt(\n",
    "                    id_vars=\"lr\",\n",
    "                    value_vars=[\n",
    "                        \"batch_train_loss\",\n",
    "                        \"ewm_batch_train_loss\",\n",
    "                        # \"ewm_batch_train_loss_diff\",\n",
    "                    ],\n",
    "                )\n",
    "            ),\n",
    "            x=\"lr\",\n",
    "            facet_row=\"variable\",\n",
    "            y=\"value\",\n",
    "            log_x=True,\n",
    "            log_y=True,\n",
    "            height=750,\n",
    "        )\n",
    "        .update_yaxes(matches=None)\n",
    "        .show()\n",
    "    )"
   ]
  },
  {
   "cell_type": "code",
   "execution_count": 42,
   "id": "e9ae0c04",
   "metadata": {},
   "outputs": [
    {
     "data": {
      "application/vnd.jupyter.widget-view+json": {
       "model_id": "152c510f20294470bacc6c8aa4aeaa09",
       "version_major": 2,
       "version_minor": 0
      },
      "text/plain": [
       "Output()"
      ]
     },
     "metadata": {},
     "output_type": "display_data"
    },
    {
     "data": {
      "text/html": [
       "<pre style=\"white-space:pre;overflow-x:auto;line-height:normal;font-family:Menlo,'DejaVu Sans Mono',consolas,'Courier New',monospace\">Warning: Got NaN loss, stopped training.\n",
       "</pre>\n"
      ],
      "text/plain": [
       "Warning: Got NaN loss, stopped training.\n"
      ]
     },
     "metadata": {},
     "output_type": "display_data"
    },
    {
     "data": {
      "text/html": [
       "<pre style=\"white-space:pre;overflow-x:auto;line-height:normal;font-family:Menlo,'DejaVu Sans Mono',consolas,'Courier New',monospace\"></pre>\n"
      ],
      "text/plain": []
     },
     "metadata": {},
     "output_type": "display_data"
    },
    {
     "data": {
      "application/vnd.plotly.v1+json": {
       "config": {
        "plotlyServerURL": "https://plot.ly"
       },
       "data": [
        {
         "hovertemplate": "variable=batch_train_loss<br>lr=%{x}<br>value=%{y}<extra></extra>",
         "legendgroup": "",
         "line": {
          "color": "#636efa",
          "dash": "solid"
         },
         "marker": {
          "symbol": "circle"
         },
         "mode": "lines",
         "name": "",
         "showlegend": false,
         "type": "scattergl",
         "x": {
          "bdata": "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",
          "dtype": "f8"
         },
         "xaxis": "x2",
         "y": {
          "bdata": "AAAAAFrIBkAAAABANJYHQAAAAEBA4AZAAAAAgJVSB0AAAABgLqYHQAAAAACB0QdAAAAAgEvEBkAAAADAHhMHQAAAAADyIQdAAAAAoBPaBkAAAAAAwxYHQAAAAABswAdAAAAAwOERB0AAAABglwYHQAAAAKD6IgdAAAAAwDzSBkAAAAAArK0HQAAAAKB1rQZAAAAAQPIMB0AAAADgqdkGQAAAAMALFQdAAAAA4AEcB0AAAABAWp4GQAAAAEAtigdAAAAAgIlXBkAAAAAA6WMHQAAAAIBmlwZAAAAAwDxzBkAAAABAW4EGQAAAAIAgGwdAAAAAAJhTB0AAAACAvF4GQAAAAADCOAdAAAAAAH8wB0AAAAAg5sEGQAAAAIAPUQZAAAAA4LTmBkAAAABAE5oGQAAAAIAPKQdAAAAA4IiMBkAAAABA0K8GQAAAAIBeJwdAAAAAAJ1+BkAAAADgkYAGQAAAAABA8wZAAAAAwGfNBkAAAAAAGBAHQAAAAGDj9wVAAAAAgHEiB0AAAABg66wGQAAAAEBcZAZAAAAA4IxnBkAAAAAgmfMFQAAAAAB+RgZAAAAAgGjGBkAAAACAom8GQAAAAMC2/gVAAAAAgG/gBkAAAABA34oGQAAAAABIBwZAAAAA4AZPBkAAAADAhGUGQAAAAEBw2AVAAAAAQBbWBUAAAABAYQgGQAAAAMCh3wVAAAAAQO3KBkAAAACgqVIGQAAAAEDBgQZAAAAAwCmoBUAAAADg5f4FQAAAAMABQgZAAAAAIDSqBUAAAADAQfUFQAAAAKD0ZQdAAAAA4AqsBkAAAAAA7ZwFQAAAAEBYTAZAAAAA4CY9BkAAAADgbqIGQAAAAACMqQZAAAAAIAziBkAAAADA2MgFQAAAAMBH3QVAAAAA4CYMBkAAAADAn+8FQAAAACCqbgVAAAAAQAFSBUAAAAAgrfAFQAAAAECSGQZAAAAAgDoVBUAAAADANy8GQAAAAABTIwZAAAAAgLf9BUAAAADARIAFQAAAAADC5AVAAAAAQATrBUAAAADAFakFQAAAAAAO5gVAAAAAYIywBUAAAACATEgGQAAAAIBkDAVAAAAAAHvYBUAAAADAptIFQAAAAIAxYQZAAAAAYC8lBUAAAABAf+cFQAAAAEAQiQVAAAAA4F3rBUAAAADAHdUFQAAAAECCRAVAAAAAAJjgBEAAAADAFxkGQAAAAACBMgVAAAAA4LamBUAAAADgwE8FQAAAAECASAVAAAAAAJxSBUAAAACgxR8FQAAAAICJsARAAAAAQJMsBUAAAABAYsQFQAAAAIAN7ARAAAAAgLBgBUAAAABg8KUFQAAAACAM/ARAAAAAQOrBBUAAAABgfPYDQAAAAIB3/wNAAAAAoO0uBEAAAAAAi1wEQAAAAIBMqgRAAAAAwO9EBUAAAACAUU8FQAAAAKDHjgRAAAAAwNzCBEAAAACggHYEQAAAAMD2uwRAAAAAoFxKBUAAAABAtpEEQAAAAMDxwQRAAAAAwFVJBEAAAACAwVUEQAAAAIBWgwRAAAAAoCX1A0AAAACAAccEQAAAAIDOVARAAAAAAH9nBEAAAAAAXB0EQAAAAADe5QRAAAAAQHJ3A0AAAABg/pgEQAAAAEA8rgRAAAAAYNjnBEAAAABgxLUEQAAAAGD/hgNAAAAAIGljBEAAAADg4wgEQAAAACAWRgRAAAAAILT/A0AAAAAApxoEQAAAAMD8TwNAAAAAwPE3BEAAAABg/NMDQAAAAABZAARAAAAAwNMDA0AAAABgRcEDQAAAAKBbpANAAAAAwKyoA0AAAABguzAEQAAAAOAEtANAAAAAgEpJBEAAAACgaekDQAAAAMAndQNAAAAAYMOLA0AAAABAXqMDQAAAAECUmANAAAAAgGMFBEAAAACAXVUDQAAAACCvlANAAAAAgCHpA0AAAACgwbUDQAAAAADahgJAAAAAAGq+AkAAAABA+y4DQAAAAABoGQNAAAAAILCeAkAAAABgwrQCQAAAAKDzzQNAAAAAIBVrA0AAAADAaBUDQAAAAIBasAJAAAAAgJwEA0AAAADgApsCQAAAAED98AJAAAAAAGOmAkAAAAAACS8DQAAAAMCCaQNAAAAAAKm7AkAAAADADOACQAAAAAA8zAJAAAAA4KJRAkAAAABA4ZQDQAAAAMDG4wJAAAAAIOL8AkAAAACA+rQDQAAAAMAxCQJAAAAAQKvfAUAAAAAAywMCQAAAAAC/xwJAAAAAABsjA0AAAAAATMUCQAAAAEC11gFAAAAAAFrqAkAAAACgICoDQAAAAODk1AFAAAAAANn5AkAAAABgqfUCQAAAAEAvTwJAAAAAwHp+AkAAAABAp9ABQAAAAODEUgJAAAAA4JxDAkAAAABAEG0CQAAAAMD/6QFAAAAAgLU3AkAAAADA93cCQAAAAADlKgNAAAAA4BkzAkAAAABAN6oBQAAAAIAf7wFAAAAAwBGNAkAAAACAJk8CQAAAAAArAwFAAAAAgKAEAkAAAAAAypoBQAAAAABv0QFAAAAA4AUqAkAAAADAO04CQAAAAMBAlgJAAAAAQOwpAUAAAABAnVgCQAAAAAC+rAFAAAAAwK7KAUAAAACAxpYBQAAAAAB0oQFAAAAAwJEkAUAAAADApMABQAAAAEDypgJAAAAAgI5dAkAAAACA363/PwAAAODgEgFAAAAAQD1nAkAAAABAUTQBQAAAAABmuQBAAAAAYNUOAUAAAABAkbMAQAAAAAAKJAFAAAAAgN36AEAAAABgocb/PwAAAEA7OgBAAAAAYMsPAkAAAADAYjYAQAAAAKBk1v8/AAAAgLfcAEAAAADAtH8BQAAAAEDMiP8/AAAAAKkoAEAAAAAA0JD/PwAAAOD6ev8/AAAAwIl9AEAAAACALEX/PwAAAICJc/8/AAAAQMJ9AEAAAADAl/0AQAAAAAC8RABAAAAAwCxSAEAAAADAkWH+PwAAAACAAQBAAAAAQLQpAUAAAADg+TEAQAAAAKB3Vf8/AAAAACyiAEAAAABgQPoAQAAAACCoIABAAAAAgFjPAEAAAADA58MAQAAAACC0wgBAAAAAoHMt/j8AAAAARu4AQAAAAGDrk/8/AAAAAAOI/z8AAACAI4IAQAAAAGApJ/8/AAAAIBF4AEAAAACgazv9PwAAACCZkwBAAAAAgNl4AEAAAACgEJH+PwAAAEBhFf8/AAAAIF8JAEAAAABAgq4AQAAAAMAGBv8/AAAAQI8RAEAAAACAKwcAQAAAAAAWXQBAAAAAAJYS/z8AAACAR+X+PwAAAIDL2f4/AAAAYLxm/T8AAAAg0oD/PwAAAGBbCABAAAAAQAu4AEAAAADAZOz/PwAAAKCfCf8/AAAAoOfb/z8AAABAQZEAQAAAAIAiNwBAAAAAIG8Q/j8AAAAAHBD/PwAAAAAVGv4/AAAAoK4Y/z8AAABg7k/+PwAAAICGrf4/AAAAQEc+/z8AAABAXrr8PwAAAECMvvw/AAAAgHQW/z8AAACATB/9PwAAAMBNCf0/AAAAwIMK/T8AAADAOK//PwAAAKAAfP0/AAAAAJFu/z8AAAAAhmv8PwAAACCbN/0/AAAAQGad/D8AAAAgZJT9PwAAAICxwP0/AAAAAETI+z8AAAAAS8L5PwAAAMBTefw/AAAAwPj8/D8AAADgPuz9PwAAAEBeHP4/AAAAQFMK/T8AAADASKb7PwAAAAAzOv4/AAAAgEoC/T8AAAAA8FL/PwAAACDdTvs/AAAAQIL8/j8AAAAAPfH5PwAAAEBegvk/AAAAoEnM/T8AAAAAeYz8PwAAAOBwMP0/AAAAQKKA/D8AAACArED+PwAAAIDACvw/AAAAgIwF/T8AAABg3C37PwAAAEBES/8/AAAAwGGy+z8AAABAvI38PwAAAEDoz/s/AAAAoG40/D8AAADAmzT5PwAAAACebvo/AAAAIFwt+j8AAABgG7n5PwAAAGCaP/o/AAAAgGtF/T8AAAAAPxv9PwAAAEAp6/0/AAAAYFa+/D8AAACgSYb6PwAAAKCaVvw/AAAAQOt4/D8AAADAk6T7PwAAAMAE6vs/AAAAgE4H+T8AAACA/jn8PwAAAACwpv4/AAAAILfa+T8AAADAHsP3PwAAAIDz+vk/AAAAwEjE9z8AAAAAlY/8PwAAAIAfofs/AAAAwDHN/D8AAAAA8fz4PwAAAEDUofg/AAAAgMm+9z8AAADgjVj3PwAAAIAc2Pk/AAAAgJC1+T8AAABAGmX5PwAAAGAiZ/o/AAAAwODn+D8AAAAgGDP6PwAAAAC++vo/AAAAwFlA9z8AAADACVH5PwAAAIAthvY/AAAAgMgR+z8AAADgnVX4PwAAAMDGwvs/AAAAwG4x+T8AAAAAR2L3PwAAAMC4Ifk/AAAAQK+W9z8AAADAX5X1PwAAAAADEvg/AAAAIBii+j8AAACA2vX6PwAAAMD08fo/AAAAwFBi+z8AAAAgeKP5PwAAAED6CPg/AAAAAP6p+T8AAABAIg34PwAAAEDHJPg/AAAAgKXG9j8AAACADSv2PwAAAIC2z/g/AAAAQIIO+D8AAADgTvz3PwAAAADnMfk/AAAAAOgM+j8AAAAAhFX3PwAAAGAehPg/AAAAoHvw9T8AAADA5T/5PwAAAABD+/Y/AAAAQD/O9j8AAAAAYgH8PwAAAKAvp/g/AAAAoBnV+z8AAACAIPH4PwAAAECoKfo/AAAAgHw7+j8AAAAArs33PwAAAMByc/w/AAAAwKZh+j8AAAAASf71PwAAAACVdPs/AAAAAOq++T8AAAAAxhH3PwAAAEArX/k/AAAAQNfk9j8AAABA7qf4PwAAAIBpV/k/AAAAIMc09z8AAADAE1z6PwAAAAAFcfg/AAAA4Ce++z8AAACAm7v3PwAAAIAnsvk/AAAAgBeI9j8AAACAxor4PwAAAMBtUvg/AAAAAIHq9z8AAAAgD2n6PwAAAOANLPk/AAAAgIbn/D8AAADg6JX3PwAAACDLsPU/AAAAYD2H+T8AAACAtSn+PwAAAMAeyvg/AAAAADKX+j8AAADggKn6PwAAAABX1Po/AAAAoEJt+D8AAADATlr5PwAAAMAGoPc/AAAA4FGe+j8AAACA32j8PwAAAACaTfw/AAAAQEDK+T8AAABAaub5PwAAAEDEEPg/AAAAgF9J+D8AAADgEFn7PwAAAAAso/o/AAAAoN8x9z8AAADAtBj2PwAAACCjWfk/AAAAAOog+T8AAAAAp+P3PwAAAOCkofk/AAAAwMW3+T8AAABgCxL3PwAAAEC86vg/AAAAAKEb+j8AAAAAD/P7PwAAAABPV/s/AAAAwBY9+T8AAACADxb4PwAAAEB0D/Y/AAAA4IaH+j8AAABgfW36PwAAAAD4Kvg/AAAAAKqc+D8AAACACi35PwAAAIDMOvY/AAAAgNcR+T8AAAAA6on6PwAAAGC1zPk/AAAAwDlp+z8AAACgO+X8PwAAAIB2kvc/AAAAINg+9z8AAACAqIj6PwAAAODcCvc/AAAAYBCB+T8AAAAAj+X5PwAAAEBf6/c/AAAAQDIA9z8AAAAAb3b2PwAAAMAVEfc/AAAAQMf39z8AAADAHGr1PwAAAEAr0vc/AAAAAHR39j8AAAAg0kf2PwAAAEBppvg/AAAAYI/3+D8AAABAjTn2PwAAAADmtPg/AAAAIKge9T8AAADAzdL5PwAAAGDTPPk/AAAAQNRW+T8AAADA0bj4PwAAAOAonvk/AAAAwFuX+j8AAABAJS76PwAAAECprPo/AAAAwCL79z8AAADgn/j3PwAAAOB28fc/AAAAID+T+T8AAACgNBD6PwAAAOBP2vc/AAAAwNUu+D8AAAAA9aX3PwAAAMDFjfg/AAAAIFzR+T8AAACAR9r0PwAAAEDpsfo/AAAAwGZW+T8AAADgR+D4PwAAAODlO/s/AAAAQA4U+D8AAADAE9r6PwAAAGCeCPc/AAAAgOso9T8AAABAAnf5PwAAAMB1yfk/AAAAQAO69T8AAACAow34PwAAAKA1R/c/AAAAwKH3+T8AAABgH3D3PwAAAEBUhvo/AAAAwCxt+j8AAAAA/kD7PwAAACBHkvg/AAAAQIh99z8AAACAEOj4PwAAAEAaCv8/AAAAQEYL9z8AAADAglj3PwAAAOCKxP4/AAAAAEuw+z8AAADAHo34PwAAAOCB6Pk/AAAAoFOy+z8AAACAy7H3PwAAAMAs0vc/AAAAQLoR9j8AAAAgw4j6PwAAAAD9Xvk/AAAAgOHY+D8AAACApub6PwAAAGB1T/c/AAAAQOxX+j8AAACApxX5PwAAAIC7pPg/AAAAwII8+z8AAADAoP/6PwAAAID8zPk/AAAA4G9/+T8AAAAAX+L4PwAAAIBUn/g/AAAAAEvF+z8AAABAKZL8PwAAAADqjvU/AAAA4DHx+j8AAAAAogf7PwAAAECFZvc/AAAAQI5l+j8AAAAgJwr7PwAAAEAXqvs/AAAAABq6/D8AAAAghir5PwAAAEAtRfc/AAAAAPVJ/D8AAAAAB9X2PwAAAEBuxfY/AAAAQFGt+z8AAAAAZ/f6PwAAAICzZvY/AAAAAGjc+T8AAACgm+P6PwAAAACdevs/AAAAYBWr+T8AAAAAP7P3PwAAAADwXPs/AAAAAIPK+D8AAADgai35PwAAAIA8mv4/AAAAYFt49z8AAADg1gz5PwAAAEBJ+/Y/AAAAQOdU+j8AAABAVVf9PwAAAADsn/c/AAAAQPT6/D8AAACgAgT6PwAAAAAe/vk/AAAAIEru+D8AAADAiLX8PwAAAABWzfo/AAAAQGMm+j8AAABAP3T9PwAAAMCqr/k/AAAAwETU9j8AAADA37X2PwAAAKCzB/k/AAAAwNW++T8AAAAgdMT6PwAAAEB36/s/AAAAgL+T+D8AAADAjU78PwAAAICMj/c/AAAAYG7R9j8AAACAokz4PwAAAMD9gvk/AAAAwJNp+z8AAABAxHb3PwAAAEDiHvs/AAAAwMNv+T8AAACg6Kv4PwAAAMDkMPg/AAAAYJdB+T8AAABgMFP3PwAAAIBq2fg/AAAAAKGJ+D8AAACAdPb7PwAAAOApO/s/AAAAwNwb/D8AAACgwSr3PwAAAMDM4vk/AAAAgNN3+j8AAADA+Q75PwAAAMD5I/Y/AAAAAC9O/j8AAACAxZP5PwAAAED3N/g/AAAAoPb//D8AAADAvv34PwAAAIBSWPo/AAAAQEfQ+T8AAADA10P4PwAAAAAJV/c/AAAAQKUC/D8AAABgrwn3PwAAAIA9Ufg/AAAAAMq++D8AAACAFvL7PwAAAMDP1Pg/AAAAAKQL/T8AAADAQ+b5PwAAAOBKRPo/AAAAANjZ+z8AAADgEGj6PwAAAOBpsPk/AAAAgMNW+j8AAADAh9b5PwAAAIAqEvo/AAAA4Np//z8AAABAWDn6PwAAAECwuPg/AAAAYCBP+j8AAADA7Dn5PwAAAKAs4Ps/AAAA4GR5+j8AAACgSRv7PwAAAMAt4Pg/AAAAQCYl+D8AAAAAP7n4PwAAAIBssvo/AAAAIGan+j8AAAAgyH/5PwAAAABbEvs/AAAAACpq+j8AAACA8jL4PwAAAMDQlvc/AAAAAEe09z8AAABg+P76PwAAAADUvfw/AAAAoDlP+j8AAAAA2CD4PwAAAACXX/s/AAAA4Mjq+T8AAADgnGn4PwAAAMCUzvw/AAAAAFLe+j8AAAAAl4D7PwAAAGAbzvs/AAAAoH9I+T8AAABA1n75PwAAAEBUIvk/AAAAQFuY/D8AAABAdFn5PwAAAEA9Wfc/AAAAwEO9+j8AAAAAJnn6PwAAAECQ//g/AAAAoOeX+D8AAADA2x75PwAAAADapvo/AAAAACdZ+T8AAAAA8OL4PwAAAACGr/s/AAAAAK47/D8AAACAzvH9PwAAAGCBJ/o/AAAAwEZL+z8AAADAUDX6PwAAAAAEx/4/AAAAwLpt9j8AAADANXsAQAAAAIAsNfs/AAAAYOHU/T8AAADgSjb4PwAAAAA+MPw/AAAAAGQp+T8AAACAJIL5PwAAAOBuYfg/AAAAwNcz+z8AAADAq/b5PwAAAEAOcfk/AAAAQJ4T+T8AAAAgtfUAQAAAAGA94/0/AAAAQPZq+D8AAAAAvmX9PwAAAMAfVvk/AAAA4K8J+T8AAADgtVn+PwAAAAA5JP0/AAAAgGwK/z8AAABgp5z7PwAAACCzz/s/AAAAYLJQ/D8AAACAxzP+PwAAAMDvRfo/AAAAoLzD+j8AAABAosX5PwAAAICFOv0/AAAAAH6W+j8AAABghPT5PwAAAMAVa/4/AAAAgDD9/j8AAABA/Sv7PwAAAEDyFPo/AAAAYO5h9j8AAACA7F/8PwAAAIBpYfw/AAAA4DHaAEAAAAAATy36PwAAAKBl0fo/AAAAwCBbAEAAAAAgSS/5PwAAACApwfw/AAAAgF0m+j8AAADAloP6PwAAAEBh/P0/AAAAQIXM+j8AAADAFH38PwAAAEBAU/0/AAAAgFIm/j8AAABAP4X7PwAAAEBHE/w/AAAAwAW6+D8AAABAMUr7PwAAAMAOrPw/AAAAIMxY+T8AAACAFXf8PwAAAID7avk/AAAAoEKT+j8AAACgqyz7PwAAAMB+wPw/AAAAYDT2+T8AAABAWH3/PwAAAIAYhf4/AAAAgLz4/j8AAACAYDD9PwAAAADI0v4/AAAAoFmH/j8AAADA08j9PwAAAGCLivw/AAAAYGk5/T8AAAAAU/H6PwAAAGBL0fs/AAAAgEia+z8AAAAAXpAAQAAAAIBX7/w/AAAAwDf8/D8AAABAERkBQAAAAMCsF/w/AAAAAB2H/z8AAACgZ178PwAAAICVYP4/AAAAADat+j8AAAAA3mT9PwAAAIBNIPo/AAAAAGeW+z8AAABAhz38PwAAAABLZfg/AAAA4I/I+D8AAABAAzv9PwAAAMDNHvo/AAAAgAQn/T8AAADgSEwCQAAAAMCmwAFAAAAAQL6wAUAAAADgy43+PwAAAIBzq/w/AAAAADIDAUAAAADAIev/PwAAAEDhvP8/AAAA4J5L/z8AAACgQ2v/PwAAAECX2P8/AAAAYDIoAEAAAABg+LD+PwAAAEDrz/4/AAAAgPX3AUAAAAAg9On9PwAAACAl6f8/AAAAgAjdAEAAAAAgTuT9PwAAAIDy2v8/AAAAwEvRAEAAAADAtR8BQAAAAIAYjQFAAAAAwCZkAEAAAADAoC3+PwAAAMBNfgJAAAAAwBYdAUAAAAAABGL/PwAAAEBSUgBAAAAAAPwi/z8AAAAAwB0AQAAAAOAgSQBAAAAAgGey/z8AAAAAUsD9PwAAACAIlP4/AAAAwLWNAUAAAACA4Jn/PwAAAEBfdwFAAAAAgKycAEAAAABgXjYAQAAAAIBTUv8/AAAAgBVuAUAAAACgkdgAQAAAAIAWIgJAAAAA4AXhAEAAAABAGrcCQAAAAIDxfgFAAAAAYCr5AkAAAABAgPUBQAAAAMCEjgFAAAAAgLAtAkAAAACA7aICQAAAAACWRQFAAAAAoLxzAkAAAAAA7esCQAAAAICr5wNAAAAAANvHAEAAAACgCHsDQAAAAMAneQJAAAAAYKHdA0AAAACAwtEBQAAAAOCL5gJAAAAAAHyhAkAAAADgyWQCQAAAAIDE5AJAAAAAoMntAUAAAABAEkwDQAAAAGDM9gJAAAAAAC0+AUAAAACALe8AQAAAAABeewJAAAAAgKFzAkAAAAAA0IoEQAAAAKCfvQBAAAAA4PpDAkAAAABADusBQAAAACCbLAFAAAAAILYIA0AAAADgBEwDQAAAAEBhygRAAAAA4NVxAkAAAACgFgACQAAAAAAzkgJAAAAAgCzzBEAAAAAgUUwEQAAAAIC2fARAAAAAAIbHBEAAAADA8WYDQAAAAABN1wRAAAAA4NnnAkAAAADgp8oCQAAAAKDqjwJAAAAAoDJUBUAAAADgS4UDQAAAAMAk1AZAAAAAwATLBEAAAAAgCvMDQAAAAMAe3QVAAAAAoNvBA0AAAAAgxrYFQAAAAEASgQVAAAAAIPkNBEAAAADAxM8GQAAAAEA+RQVAAAAAwO1lBUAAAABArxgFQAAAAICWXwRAAAAAwF3gBEAAAADA8aQDQAAAAAAWhgVAAAAAoOLJBEAAAADAbxgEQAAAAEAuYwVAAAAAQKS2BEAAAABgvt0EQAAAACD2eQRAAAAAgO2TBUAAAABA6lEFQAAAAMAsKwVAAAAAwAZkBEAAAACAi4YEQAAAAICjigRAAAAAgJ8jBEAAAADgJYUEQAAAAKADjgRAAAAAQDn+A0AAAADAPbcEQAAAAMBkDQVAAAAAoF5iBEAAAABAPyYFQAAAAGCRAgZAAAAAwBO1BEAAAADADXQEQAAAAIBJ+gRAAAAAwMCKBEAAAACAO/cEQAAAAMDTfQNAAAAAIEWqBEAAAABAu6oEQAAAACCdtgZAAAAAgL53BEAAAABAIaMFQAAAAKCOVQRAAAAAIOdUBEAAAADgtE0FQAAAAOAtTQRAAAAAAOWvA0AAAABABmwFQAAAAAAecwVAAAAAgPbBBEAAAABgxrAFQAAAAOCcGAdAAAAAwHbUBEAAAADABCkEQAAAAEB+PwRAAAAAgJE7BUAAAACAVrQEQAAAAEAiBQVAAAAA4CfLBUAAAADAXxYGQAAAAMBgkwVAAAAA4JpGBkAAAABAy/cGQAAAAKAiQwZAAAAAQAhlBUAAAAAAtXgFQAAAAIC17gRAAAAAQGkRB0AAAAAg4pQEQAAAAMC3NgVAAAAAADqNBUAAAABAmWoFQAAAAGC60gRAAAAAQFs1BUAAAAAAq/QDQAAAAIBiqgVAAAAA4AdTBUAAAAAAdbkEQAAAAMBDYwZAAAAAAJ9wBUAAAADAq1QEQAAAAGArtghAAAAAgMcpBkAAAABAXmMFQAAAAAB/PwZAAAAAIOO1BkAAAABACOMGQAAAAICDfQVAAAAAQMl4B0AAAADAKxQGQAAAAIB7hAVAAAAAICgfBUAAAABASCgGQAAAACByyAVAAAAAAAQABEAAAADA5ZwIQAAAAIBEEwtAAAAAwM7bBkAAAADACpAHQAAAAMD5dghAAAAAYNV5CEAAAADgJuEHQAAAAGC6WAZAAAAA4DYYCUAAAADA6V8GQAAAAMCtmQZAAAAAAHuzBkAAAADgZCIHQAAAAMCquQZAAAAAAFWLBkAAAACA+bUFQAAAAMDLXAZAAAAAwBErB0AAAADg8SwHQAAAAECokgdAAAAAIDS6BkAAAACApJQGQAAAAECShQdAAAAAgIoyBkAAAADA1NIFQAAAAGDhZQhAAAAAYBzGBkAAAABgtcoGQAAAAADMfAdAAAAAoDPrBkAAAABAFn0GQAAAAMCLuAZAAAAA4EuuBUAAAACgs9MHQAAAAADUpQdAAAAA4NFDBkAAAABAmN8GQAAAAIAo3gZAAAAAQAlFB0AAAADgGZcGQAAAAAC88AZAAAAA4OWDBkAAAACARdEGQAAAAKBQTwZAAAAAQO6uBkAAAACAfu8GQAAAAMDeQwdAAAAAQCcRB0AAAACAxR8HQAAAAOBhswVAAAAAAJOdBkAAAACA36YGQAAAAADqDwdAAAAAAOfXBkAAAADABKoHQAAAAMDBNgdAAAAAgNWiBkAAAABAKbQGQAAAAAApawdAAAAAALzoBkAAAADg+6wHQAAAAOCuHQdAAAAA4Mu8BkAAAACAEm8HQAAAAAB6RAdAAAAAwEV0BkAAAABAZEUIQAAAAADtXQhAAAAAoF4UB0AAAAAgvjcHQAAAAGBw0AVAAAAAAMXTBkAAAACA77EIQAAAAEDUCAZAAAAAAKhrB0AAAAAATT4HQAAAAABizgZAAAAAQA0ICEAAAACgycQGQAAAAEB3dwZAAAAAQBZKB0AAAACgnPwGQAAAACAMTgdAAAAAAJx3B0AAAAAgQisHQAAAAAB//gZAAAAAgPV1B0AAAADAWeoHQAAAAEC/UAdAAAAAIHB1BkAAAADALHUGQAAAACCscAlAAAAAwDdlB0AAAAAAdfwGQAAAACA6hQdAAAAAQCAwB0AAAAAALfoGQAAAAIDjnAZAAAAAgNGkB0AAAACgO7YHQAAAAECmvwdAAAAAAB04BkAAAACAyBUHQAAAAICK1wdAAAAAgHjSBkAAAADAAhgHQAAAAKB68whAAAAAQLXrB0AAAAAA4Q0HQAAAAECz8gdAAAAAgGpyBkAAAADArAgIQAAAAEAp1AdAAAAAYGaAB0AAAAAgha4GQAAAAMCWhAZAAAAAgDsTCEAAAAAgsnoGQAAAAOBDAAdAAAAAwMnHB0AAAACgCE0HQAAAAADCQQhAAAAAYC8MCkAAAACAPfQIQAAAAKD3QgdAAAAAAGWGB0AAAAAgp90GQAAAAACaSAhAAAAAAJ/pB0AAAABAsg0GQAAAAMDyQQhAAAAAYH6TB0AAAAAAGQAHQAAAACBsoQdAAAAAQGD7BkAAAABgp1oJQAAAAIBRGAlAAAAAADOVCUAAAAAAatkIQAAAAODM/QdAAAAAgF6/CEAAAAAgtF0HQAAAAKAtlQdAAAAAwEoKCEAAAACAkrAKQAAAACDl3gdAAAAAYO4eEkAAAACAo0QIQAAAAGDSCRBAAAAAwNfIB0AAAADA8SEJQAAAAABJWgtAAAAAwJ5FCUAAAABAY9gJQAAAAODepAlAAAAA4PBQB0AAAADA4tYHQAAAACBrqAlAAAAAIOt2GkAAAAAA8dEHQAAAAGDbgwZAAAAAgHMbDkAAAACAYxkOQAAAAMDBDQ5AAAAAQG8iD0AAAAAASuURQAAAACBbuwpAAAAAwL+gEUAAAACgrLMSQAAAAAAwPgxAAAAAQE+JCkAAAADgyZQLQAAAAMD9jwlAAAAAIEhWCUAAAADA6JcKQAAAAMAEOglAAAAAwAdkCUAAAACguDwKQAAAAIBLTB5AAAAAgI/LC0AAAACgdiYKQAAAAGCW1hRAAAAA4BWgCUAAAAAAE/YeQAAAAIDhARFAAAAAADmCFEAAAACAeO8JQAAAAEBxzAlAAAAAQMnkHUAAAACAzIYJQAAAAEAXEAlAAAAAQI1ICUAAAAAAi7IKQAAAACBDxgdAAAAAgFlyCkAAAABAK/sRQAAAAKCdtiFAAAAAoLpFB0AAAAAgWXAJQAAAAEAy0QlAAAAAgFk/CUAAAABgbJseQAAAAMBr2A9AAAAAwLdnF0AAAADAVvUKQAAAAMDMVgpAAAAAYDTTFUAAAABgT7UHQAAAAAAFoghAAAAAwMG6C0AAAACg0/YHQAAAAIAJNwpAAAAAQIsTEkAAAADAuuAJQAAAACD9KSFAAAAA4K+cFEAAAACAXmQLQAAAAIDPHRJAAAAAgPoVB0AAAAAg3SMJQAAAAICYFgtAAAAAwNlrCUAAAAAAxZgHQAAAAGCnAg9AAAAAgJogCUAAAACgJOYMQAAAAEBBhRJAAAAAoA+wEUAAAACAMuAQQAAAAAAtEg1AAAAAANzvGEAAAACgFyEMQAAAAMCT5RBAAAAAAKY4DEAAAACA4WoQQAAAAMDWcA5AAAAAQPncDkAAAADAYdUjQAAAAEDLpwxAAAAAwM2JDEAAAACgwOgIQAAAAODvMAtAAAAAgNXsEEAAAABguokbQAAAAMCCkglAAAAAwIzOCkAAAAAgyWsUQAAAAECaywtAAAAAwL9wDEAAAAAAB/4OQAAAAMBpRgtAAAAAwOToJEAAAADATmgKQAAAAEDvHQ1AAAAAgKn/MkAAAACAx6UMQAAAAOAUVwtAAAAAYAfyMEAAAAAA3r8OQAAAAKAS8gtAAAAAAGZTCkAAAACga4cIQAAAAEARaypAAAAAQMmXDUAAAACAgQ4NQAAAAEBjYwpAAAAAIP0zDUAAAABg4TENQAAAAECi8g9AAAAAAHwfC0AAAADA1VsLQAAAAAB6whFAAAAAwD9cFEAAAAAgd3swQAAAAEB16hFAAAAA4O+1J0AAAACA0V0WQAAAAIBs7BNAAAAAQDb7TEAAAABghboOQAAAAAAgMhRAAAAAIDhWDUAAAABA2/oQQAAAAIBS0TBAAAAAgA5vE0AAAADAJucTQAAAACADVT1AAAAAQGYYH0AAAADA6a0WQAAAAKD4ERxAAAAAwEzcGkAAAABgJMoXQAAAAEApNCxAAAAAYMTBPkAAAAAACi9IQAAAAMB+PjtAAAAAIESRHEAAAADAy+MkQAAAAAAoliZAAAAAYAPbWUAAAADg8tdLQAAAAADtqiRAAAAAgBwbMEAAAAAgJ68uQAAAAGABT11AAAAAwETQMEAAAABg23pXQAAAAEBhYERAAAAAoD56JEAAAAAAoMUjQAAAAKAwj1JAAAAAwIBqKEAAAABA30ctQAAAAMCBDzBAAAAA4D8FMEAAAAAAGrguQAAAACCf5ydAAAAAQOXjRUAAAABASsJBQAAAAKAQ/DJAAAAAgARqM0AAAABAx1I6QAAAAIAPeDJAAAAAgCkNL0AAAABgZGk3QAAAAGA3oEJAAAAAwO6KNkAAAABAXjhaQAAAAMDBzjFAAAAAwMkoMUAAAAAgUuU2QAAAAKC5VjlAAAAAQCweQkAAAADALawwQAAAAGAPvjFAAAAAgH8LLEAAAABAt5orQAAAAIA3tyRAAAAAQNTzJ0AAAABgsNwyQAAAAKACbTFAAAAAwBtpKUAAAACAG9osQAAAAOD6XTFAAAAAIEfdMkAAAAAg6eMyQAAAAKAIQzRAAAAAAAWKNUAAAACgZAc9QAAAAOAsrTlAAAAAQKUoNEAAAACA7GMxQAAAAGDSGjNAAAAAYMLlNkAAAACABPU2QAAAAIBssjVAAAAAIG1YMkAAAACACVoyQAAAACAAbjJAAAAAILA0NUAAAACAwPE0QAAAAICmUjlAAAAAAJufNUAAAADgwIY7QAAAAEBbgTdAAAAAwH6mMkAAAADA29U1QAAAAABE9jxAAAAAoF+GPUAAAACAGRY/QAAAAEB1YzxAAAAAoLzXN0AAAABAWaw1QAAAAMCkGjZAAAAAwKD/NUAAAADgyLsyQAAAAECAwTNAAAAAwFbXNUAAAACg8xk1QAAAAADIMjVAAAAAQMC0M0AAAAAACOAzQAAAAIA5KTdAAAAAoMiRNEAAAADgPkc0QAAAAGCsxjZAAAAAQF1eM0AAAAAAjAs4QAAAAMCyZTBAAAAAIB3xMEAAAADAFGM0QAAAAIDCfDZAAAAAAP//M0AAAAAASZMxQAAAAMDMaTRAAAAAAN3ILEAAAADAQHwxQAAAAACFbyxAAAAA4Jt0L0AAAACAuMcxQAAAAEC3KjFAAAAAQOkpNEAAAACA+FQwQAAAAGAmwDBAAAAAwOuZMUAAAABg6jEtQAAAAECMbC1AAAAAwLW/NEAAAADgRisxQAAAAIAdajdAAAAAACElMUAAAACgG6kyQAAAAMCwwzJAAAAAIFJvL0AAAACgJBgrQAAAAMA6djNAAAAAYGqoMkAAAACAorUyQAAAAECFdTJAAAAAQEZ2LkAAAAAApmArQAAAAIAxxSZAAAAAgAidMEAAAACA7uAsQAAAAMCgOjBAAAAAgE/QMEAAAADg/GA0QAAAAMBrizhAAAAAYLtONUAAAABAuHwwQAAAAEBU2TFAAAAAQBUoMEAAAADAo30xQAAAAIDRwzBAAAAAwJaXNkAAAACAS/wzQAAAAKAsdzhAAAAAAP4ONkAAAADAhxQwQAAAAECj9jZAAAAAwJzaMUAAAABASS0zQAAAAMAhjjRAAAAAgJhWMUAAAADgFa01QAAAAADDgjFAAAAAQLP8NkAAAAAgOt01QAAAAEAy3jZAAAAA4Dl8OEAAAACAMtA1QAAAAMA4q0BAAAAAgJ4+OkAAAAAgwqA7QAAAAGDzTEBAAAAAwA1DOkAAAABgNxo0QAAAAKBIbjNAAAAAgDl3NkAAAADAx8M0QAAAAIAQHTRAAAAAQLP+NEAAAABAI9M0QAAAACDgYzVAAAAAgM8ZPEAAAABAsHQ2QAAAAIAMmzdAAAAAQIZONkAAAACghbk1QAAAAABpfjZAAAAAQG8aNEAAAABAdJ4vQAAAAMDtZTZAAAAAYLTwN0AAAABANaI4QAAAAIBODDhAAAAA4H/ZPEAAAAAA0uk3QAAAAIDzmjdAAAAAYFCIOEAAAADA3Qk9QAAAAKAWyztAAAAAgM7zOUAAAAAAULszQAAAAIB7vjVAAAAAACU7OkAAAADgCH80QAAAAIBmjDJAAAAAQH8sOUAAAACA9MwzQAAAAOC2mzVAAAAAoJBKNUAAAACAQGEyQAAAAADHuDBAAAAAAHQkO0AAAACg2082QAAAAABU5DRAAAAAwDx7MUAAAABge1YzQAAAAMCjyClAAAAAgKrALUAAAABAvtcxQAAAAOCvADVAAAAAIGCfMEAAAABgVCYwQAAAAAAKojJAAAAAwBddNUAAAADgimw0QAAAAIBs/zJAAAAAQBXHNUAAAACA+OMzQAAAAIDqRzlAAAAAgEeFMEAAAACg4hs4QAAAAABw6zVAAAAAgE66NkAAAACAvPc9QAAAAOC7yDtAAAAA4CAuNkAAAABAdAE1QAAAAKC5eDNAAAAAQMszM0AAAADgOBc1QAAAAMBbwDRAAAAAIBrHO0AAAACAKZw4QAAAAECTBy5AAAAAYP2TNUAAAADgNR03QAAAAOBm0jhAAAAAYHsFOkAAAABACFI6QAAAAIAcfTpAAAAAgH/fOEAAAABgjCYyQAAAAIB8yzJAAAAA4NMwNEAAAABAYwY2QAAAAEAI2jhAAAAAQBHUO0AAAABAEcw3QAAAAGBz1DJAAAAAgLKXOEAAAAAAagA1QAAAAOAeAzZAAAAAwBUjQUAAAADA2GM/QAAAAAARdDxAAAAAAKJBP0AAAACASbdBQAAAAADkkT5AAAAAIDEqQEAAAACACqA1QAAAAADofz1AAAAAQJR/PUAAAADgW1s2QAAAAEDBRD5AAAAA4CcBQkAAAABAZOhEQAAAAMBzwUJAAAAAQI+SOkAAAADAHCJAQAAAAAAbejxAAAAAwMjiOEAAAAAgXXo8QAAAAEDXDTtAAAAAwN8tO0AAAACA5K08QAAAAKCrDzxAAAAAQKtFNUAAAADATrg6QAAAAOD+1z9AAAAAgEcFP0AAAABgePxAQAAAAMCN8jhAAAAAYOb3M0AAAACATjI5QAAAAEA9ZzdAAAAAgJ6VQUAAAADAsjY3QAAAAEA+5zpAAAAAYLc4NkAAAABA3ypEQAAAACC/Y0ZAAAAAAMQ+PUAAAADgNkk/QAAAAABY7EJAAAAA4KRJQkAAAABgqwlFQAAAAIAVFUdAAAAAYBfTRUAAAABApFRJQAAAAABodEJAAAAAQIN6QUAAAACAk8tEQAAAAMAG8EdAAAAAAH6YSUAAAAAgBNZTQAAAAKA/uFNAAAAAAHqyWkAAAABANkpeQAAAAGA+12dAAAAAwMZVaEAAAADAl7dyQAAAAADnNXNAAAAAYHejgEAAAADA4Wx/QAAAAEBhrIlAAAAAYAW5jUAAAADATySWQAAAAIBLs5lAAAAA4E0GpEAAAACgeK6kQAAAAICyOrFAAAAAgPIatUAAAAAAFIDAQAAAAACrLMNAAAAAYLr5zkAAAADAF53UQAAAAGBIjeBAAAAAwN2W5kAAAADABT7yQAAAAMBH6/pAAAAAYK1uBUEAAADAs0URQQAAAKBQux5BAAAA4FCPJkEAAADAUHYzQQAAAKD6cz9BAAAAYE84TUEAAABAYKZXQQAAAGBTHWZBAAAAwLNdc0EAAACAzFiCQQAAAGADW5BBAAAAwENUoUEAAAAAukytQQAAAIA1kL5BAAAAgB2fy0EAAAAgjw3dQQAAAID1TOxBAAAAwFMGAEIAAABAZ4kNQgAAACAGDiJCAAAAQFrgMUIAAABgwK5BQgAAAIBoSFRCAAAAQHi8aUIAAACAOXB7QgAAAMBeMJBCAAAAgGdupkIAAAAAxaS7QgAAAEAYvdxCAAAAYBuO6kIAAABAnR4kQwAAAEB0iy1DAAAAwGhLd0MAAACgG/qAQwAAAAA2c9BDAAAAIIqp2UMAAAAAqbArRAAAAIBIUjNEAAAAYPd/h0QAAABgoAeURAAAAIAg5ehEAAAAwBNC80QAAAAAH2RLRQAAAIBZ4ldFAAAAAKl6sEUAAADgUg/ARQAAACATVhhGAAAAQD2NJUYAAADgMI2BRgAAAGBAxpJGAAAAAKNM7UY=",
          "dtype": "f8"
         },
         "yaxis": "y2"
        },
        {
         "hovertemplate": "variable=ewm_batch_train_loss<br>lr=%{x}<br>value=%{y}<extra></extra>",
         "legendgroup": "",
         "line": {
          "color": "#636efa",
          "dash": "solid"
         },
         "marker": {
          "symbol": "circle"
         },
         "mode": "lines",
         "name": "",
         "showlegend": false,
         "type": "scattergl",
         "x": {
          "bdata": "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",
          "dtype": "f8"
         },
         "xaxis": "x",
         "y": {
          "bdata": "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",
          "dtype": "f8"
         },
         "yaxis": "y"
        }
       ],
       "layout": {
        "annotations": [
         {
          "font": {},
          "showarrow": false,
          "text": "variable=ewm_batch_train_loss",
          "textangle": 90,
          "x": 0.98,
          "xanchor": "left",
          "xref": "paper",
          "y": 0.2425,
          "yanchor": "middle",
          "yref": "paper"
         },
         {
          "font": {},
          "showarrow": false,
          "text": "variable=batch_train_loss",
          "textangle": 90,
          "x": 0.98,
          "xanchor": "left",
          "xref": "paper",
          "y": 0.7575000000000001,
          "yanchor": "middle",
          "yref": "paper"
         }
        ],
        "height": 750,
        "legend": {
         "tracegroupgap": 0
        },
        "margin": {
         "t": 60
        },
        "template": {
         "data": {
          "bar": [
           {
            "error_x": {
             "color": "#2a3f5f"
            },
            "error_y": {
             "color": "#2a3f5f"
            },
            "marker": {
             "line": {
              "color": "#E5ECF6",
              "width": 0.5
             },
             "pattern": {
              "fillmode": "overlay",
              "size": 10,
              "solidity": 0.2
             }
            },
            "type": "bar"
           }
          ],
          "barpolar": [
           {
            "marker": {
             "line": {
              "color": "#E5ECF6",
              "width": 0.5
             },
             "pattern": {
              "fillmode": "overlay",
              "size": 10,
              "solidity": 0.2
             }
            },
            "type": "barpolar"
           }
          ],
          "carpet": [
           {
            "aaxis": {
             "endlinecolor": "#2a3f5f",
             "gridcolor": "white",
             "linecolor": "white",
             "minorgridcolor": "white",
             "startlinecolor": "#2a3f5f"
            },
            "baxis": {
             "endlinecolor": "#2a3f5f",
             "gridcolor": "white",
             "linecolor": "white",
             "minorgridcolor": "white",
             "startlinecolor": "#2a3f5f"
            },
            "type": "carpet"
           }
          ],
          "choropleth": [
           {
            "colorbar": {
             "outlinewidth": 0,
             "ticks": ""
            },
            "type": "choropleth"
           }
          ],
          "contour": [
           {
            "colorbar": {
             "outlinewidth": 0,
             "ticks": ""
            },
            "colorscale": [
             [
              0,
              "#0d0887"
             ],
             [
              0.1111111111111111,
              "#46039f"
             ],
             [
              0.2222222222222222,
              "#7201a8"
             ],
             [
              0.3333333333333333,
              "#9c179e"
             ],
             [
              0.4444444444444444,
              "#bd3786"
             ],
             [
              0.5555555555555556,
              "#d8576b"
             ],
             [
              0.6666666666666666,
              "#ed7953"
             ],
             [
              0.7777777777777778,
              "#fb9f3a"
             ],
             [
              0.8888888888888888,
              "#fdca26"
             ],
             [
              1,
              "#f0f921"
             ]
            ],
            "type": "contour"
           }
          ],
          "contourcarpet": [
           {
            "colorbar": {
             "outlinewidth": 0,
             "ticks": ""
            },
            "type": "contourcarpet"
           }
          ],
          "heatmap": [
           {
            "colorbar": {
             "outlinewidth": 0,
             "ticks": ""
            },
            "colorscale": [
             [
              0,
              "#0d0887"
             ],
             [
              0.1111111111111111,
              "#46039f"
             ],
             [
              0.2222222222222222,
              "#7201a8"
             ],
             [
              0.3333333333333333,
              "#9c179e"
             ],
             [
              0.4444444444444444,
              "#bd3786"
             ],
             [
              0.5555555555555556,
              "#d8576b"
             ],
             [
              0.6666666666666666,
              "#ed7953"
             ],
             [
              0.7777777777777778,
              "#fb9f3a"
             ],
             [
              0.8888888888888888,
              "#fdca26"
             ],
             [
              1,
              "#f0f921"
             ]
            ],
            "type": "heatmap"
           }
          ],
          "histogram": [
           {
            "marker": {
             "pattern": {
              "fillmode": "overlay",
              "size": 10,
              "solidity": 0.2
             }
            },
            "type": "histogram"
           }
          ],
          "histogram2d": [
           {
            "colorbar": {
             "outlinewidth": 0,
             "ticks": ""
            },
            "colorscale": [
             [
              0,
              "#0d0887"
             ],
             [
              0.1111111111111111,
              "#46039f"
             ],
             [
              0.2222222222222222,
              "#7201a8"
             ],
             [
              0.3333333333333333,
              "#9c179e"
             ],
             [
              0.4444444444444444,
              "#bd3786"
             ],
             [
              0.5555555555555556,
              "#d8576b"
             ],
             [
              0.6666666666666666,
              "#ed7953"
             ],
             [
              0.7777777777777778,
              "#fb9f3a"
             ],
             [
              0.8888888888888888,
              "#fdca26"
             ],
             [
              1,
              "#f0f921"
             ]
            ],
            "type": "histogram2d"
           }
          ],
          "histogram2dcontour": [
           {
            "colorbar": {
             "outlinewidth": 0,
             "ticks": ""
            },
            "colorscale": [
             [
              0,
              "#0d0887"
             ],
             [
              0.1111111111111111,
              "#46039f"
             ],
             [
              0.2222222222222222,
              "#7201a8"
             ],
             [
              0.3333333333333333,
              "#9c179e"
             ],
             [
              0.4444444444444444,
              "#bd3786"
             ],
             [
              0.5555555555555556,
              "#d8576b"
             ],
             [
              0.6666666666666666,
              "#ed7953"
             ],
             [
              0.7777777777777778,
              "#fb9f3a"
             ],
             [
              0.8888888888888888,
              "#fdca26"
             ],
             [
              1,
              "#f0f921"
             ]
            ],
            "type": "histogram2dcontour"
           }
          ],
          "mesh3d": [
           {
            "colorbar": {
             "outlinewidth": 0,
             "ticks": ""
            },
            "type": "mesh3d"
           }
          ],
          "parcoords": [
           {
            "line": {
             "colorbar": {
              "outlinewidth": 0,
              "ticks": ""
             }
            },
            "type": "parcoords"
           }
          ],
          "pie": [
           {
            "automargin": true,
            "type": "pie"
           }
          ],
          "scatter": [
           {
            "fillpattern": {
             "fillmode": "overlay",
             "size": 10,
             "solidity": 0.2
            },
            "type": "scatter"
           }
          ],
          "scatter3d": [
           {
            "line": {
             "colorbar": {
              "outlinewidth": 0,
              "ticks": ""
             }
            },
            "marker": {
             "colorbar": {
              "outlinewidth": 0,
              "ticks": ""
             }
            },
            "type": "scatter3d"
           }
          ],
          "scattercarpet": [
           {
            "marker": {
             "colorbar": {
              "outlinewidth": 0,
              "ticks": ""
             }
            },
            "type": "scattercarpet"
           }
          ],
          "scattergeo": [
           {
            "marker": {
             "colorbar": {
              "outlinewidth": 0,
              "ticks": ""
             }
            },
            "type": "scattergeo"
           }
          ],
          "scattergl": [
           {
            "marker": {
             "colorbar": {
              "outlinewidth": 0,
              "ticks": ""
             }
            },
            "type": "scattergl"
           }
          ],
          "scattermap": [
           {
            "marker": {
             "colorbar": {
              "outlinewidth": 0,
              "ticks": ""
             }
            },
            "type": "scattermap"
           }
          ],
          "scattermapbox": [
           {
            "marker": {
             "colorbar": {
              "outlinewidth": 0,
              "ticks": ""
             }
            },
            "type": "scattermapbox"
           }
          ],
          "scatterpolar": [
           {
            "marker": {
             "colorbar": {
              "outlinewidth": 0,
              "ticks": ""
             }
            },
            "type": "scatterpolar"
           }
          ],
          "scatterpolargl": [
           {
            "marker": {
             "colorbar": {
              "outlinewidth": 0,
              "ticks": ""
             }
            },
            "type": "scatterpolargl"
           }
          ],
          "scatterternary": [
           {
            "marker": {
             "colorbar": {
              "outlinewidth": 0,
              "ticks": ""
             }
            },
            "type": "scatterternary"
           }
          ],
          "surface": [
           {
            "colorbar": {
             "outlinewidth": 0,
             "ticks": ""
            },
            "colorscale": [
             [
              0,
              "#0d0887"
             ],
             [
              0.1111111111111111,
              "#46039f"
             ],
             [
              0.2222222222222222,
              "#7201a8"
             ],
             [
              0.3333333333333333,
              "#9c179e"
             ],
             [
              0.4444444444444444,
              "#bd3786"
             ],
             [
              0.5555555555555556,
              "#d8576b"
             ],
             [
              0.6666666666666666,
              "#ed7953"
             ],
             [
              0.7777777777777778,
              "#fb9f3a"
             ],
             [
              0.8888888888888888,
              "#fdca26"
             ],
             [
              1,
              "#f0f921"
             ]
            ],
            "type": "surface"
           }
          ],
          "table": [
           {
            "cells": {
             "fill": {
              "color": "#EBF0F8"
             },
             "line": {
              "color": "white"
             }
            },
            "header": {
             "fill": {
              "color": "#C8D4E3"
             },
             "line": {
              "color": "white"
             }
            },
            "type": "table"
           }
          ]
         },
         "layout": {
          "annotationdefaults": {
           "arrowcolor": "#2a3f5f",
           "arrowhead": 0,
           "arrowwidth": 1
          },
          "autotypenumbers": "strict",
          "coloraxis": {
           "colorbar": {
            "outlinewidth": 0,
            "ticks": ""
           }
          },
          "colorscale": {
           "diverging": [
            [
             0,
             "#8e0152"
            ],
            [
             0.1,
             "#c51b7d"
            ],
            [
             0.2,
             "#de77ae"
            ],
            [
             0.3,
             "#f1b6da"
            ],
            [
             0.4,
             "#fde0ef"
            ],
            [
             0.5,
             "#f7f7f7"
            ],
            [
             0.6,
             "#e6f5d0"
            ],
            [
             0.7,
             "#b8e186"
            ],
            [
             0.8,
             "#7fbc41"
            ],
            [
             0.9,
             "#4d9221"
            ],
            [
             1,
             "#276419"
            ]
           ],
           "sequential": [
            [
             0,
             "#0d0887"
            ],
            [
             0.1111111111111111,
             "#46039f"
            ],
            [
             0.2222222222222222,
             "#7201a8"
            ],
            [
             0.3333333333333333,
             "#9c179e"
            ],
            [
             0.4444444444444444,
             "#bd3786"
            ],
            [
             0.5555555555555556,
             "#d8576b"
            ],
            [
             0.6666666666666666,
             "#ed7953"
            ],
            [
             0.7777777777777778,
             "#fb9f3a"
            ],
            [
             0.8888888888888888,
             "#fdca26"
            ],
            [
             1,
             "#f0f921"
            ]
           ],
           "sequentialminus": [
            [
             0,
             "#0d0887"
            ],
            [
             0.1111111111111111,
             "#46039f"
            ],
            [
             0.2222222222222222,
             "#7201a8"
            ],
            [
             0.3333333333333333,
             "#9c179e"
            ],
            [
             0.4444444444444444,
             "#bd3786"
            ],
            [
             0.5555555555555556,
             "#d8576b"
            ],
            [
             0.6666666666666666,
             "#ed7953"
            ],
            [
             0.7777777777777778,
             "#fb9f3a"
            ],
            [
             0.8888888888888888,
             "#fdca26"
            ],
            [
             1,
             "#f0f921"
            ]
           ]
          },
          "colorway": [
           "#636efa",
           "#EF553B",
           "#00cc96",
           "#ab63fa",
           "#FFA15A",
           "#19d3f3",
           "#FF6692",
           "#B6E880",
           "#FF97FF",
           "#FECB52"
          ],
          "font": {
           "color": "#2a3f5f"
          },
          "geo": {
           "bgcolor": "white",
           "lakecolor": "white",
           "landcolor": "#E5ECF6",
           "showlakes": true,
           "showland": true,
           "subunitcolor": "white"
          },
          "hoverlabel": {
           "align": "left"
          },
          "hovermode": "closest",
          "mapbox": {
           "style": "light"
          },
          "paper_bgcolor": "white",
          "plot_bgcolor": "#E5ECF6",
          "polar": {
           "angularaxis": {
            "gridcolor": "white",
            "linecolor": "white",
            "ticks": ""
           },
           "bgcolor": "#E5ECF6",
           "radialaxis": {
            "gridcolor": "white",
            "linecolor": "white",
            "ticks": ""
           }
          },
          "scene": {
           "xaxis": {
            "backgroundcolor": "#E5ECF6",
            "gridcolor": "white",
            "gridwidth": 2,
            "linecolor": "white",
            "showbackground": true,
            "ticks": "",
            "zerolinecolor": "white"
           },
           "yaxis": {
            "backgroundcolor": "#E5ECF6",
            "gridcolor": "white",
            "gridwidth": 2,
            "linecolor": "white",
            "showbackground": true,
            "ticks": "",
            "zerolinecolor": "white"
           },
           "zaxis": {
            "backgroundcolor": "#E5ECF6",
            "gridcolor": "white",
            "gridwidth": 2,
            "linecolor": "white",
            "showbackground": true,
            "ticks": "",
            "zerolinecolor": "white"
           }
          },
          "shapedefaults": {
           "line": {
            "color": "#2a3f5f"
           }
          },
          "ternary": {
           "aaxis": {
            "gridcolor": "white",
            "linecolor": "white",
            "ticks": ""
           },
           "baxis": {
            "gridcolor": "white",
            "linecolor": "white",
            "ticks": ""
           },
           "bgcolor": "#E5ECF6",
           "caxis": {
            "gridcolor": "white",
            "linecolor": "white",
            "ticks": ""
           }
          },
          "title": {
           "x": 0.05
          },
          "xaxis": {
           "automargin": true,
           "gridcolor": "white",
           "linecolor": "white",
           "ticks": "",
           "title": {
            "standoff": 15
           },
           "zerolinecolor": "white",
           "zerolinewidth": 2
          },
          "yaxis": {
           "automargin": true,
           "gridcolor": "white",
           "linecolor": "white",
           "ticks": "",
           "title": {
            "standoff": 15
           },
           "zerolinecolor": "white",
           "zerolinewidth": 2
          }
         }
        },
        "xaxis": {
         "anchor": "y",
         "domain": [
          0,
          0.98
         ],
         "title": {
          "text": "lr"
         },
         "type": "log"
        },
        "xaxis2": {
         "anchor": "y2",
         "domain": [
          0,
          0.98
         ],
         "matches": "x",
         "showticklabels": false,
         "type": "log"
        },
        "yaxis": {
         "anchor": "x",
         "domain": [
          0,
          0.485
         ],
         "title": {
          "text": "value"
         },
         "type": "log"
        },
        "yaxis2": {
         "anchor": "x2",
         "domain": [
          0.515,
          1
         ],
         "title": {
          "text": "value"
         },
         "type": "log"
        }
       }
      }
     },
     "metadata": {},
     "output_type": "display_data"
    },
    {
     "name": "stdout",
     "output_type": "stream",
     "text": [
      "Maximum learning rate: 0.0035911034415387548\n"
     ]
    }
   ],
   "source": [
    "train_dataset = CMIDataset(\"full_dataset\")\n",
    "full_dataset_loader = DL(train_dataset, TRAIN_BATCH_SIZE, shuffle=True)\n",
    "_, mock_training_metrics = mk_model_and_fit(\n",
    "    full_dataset_loader,\n",
    "    partial(torch.optim.lr_scheduler.ExponentialLR, gamma=MOCK_TRAINING_GAMMA),\n",
    "    MOCK_TRAINING_EPOCHS,\n",
    "    criterion= nn.CrossEntropyLoss(label_smoothing=0.1),\n",
    ")\n",
    "mock_training_metrics = post_process_mock_training_metrics(mock_training_metrics)\n",
    "plt_lr_search_training_metrics(mock_training_metrics)\n",
    "max_lr = mock_training_metrics[\"ewm_batch_train_loss\"].idxmin()\n",
    "print(\"Maximum learning rate:\", max_lr)"
   ]
  },
  {
   "cell_type": "markdown",
   "id": "e1cc3c5f",
   "metadata": {
    "papermill": {
     "duration": 0.003108,
     "end_time": "2025-06-14T10:01:56.186803",
     "exception": false,
     "start_time": "2025-06-14T10:01:56.183695",
     "status": "completed"
    },
    "tags": []
   },
   "source": [
    "## Training loop"
   ]
  },
  {
   "cell_type": "code",
   "execution_count": 43,
   "id": "81f397f4",
   "metadata": {},
   "outputs": [],
   "source": [
    "def mixup_data(x, y, alpha=0.2):\n",
    "    \"\"\"\n",
    "    Return mixed inputs and mixed targets (one-hot) for mixup.\n",
    "    x: Tensor of shape (batch_size, features, seq_len)\n",
    "    y: Tensor of shape (batch_size, num_classes)\n",
    "    \"\"\"\n",
    "    if alpha > 0:\n",
    "        lam = np.random.beta(alpha, alpha)\n",
    "    else:\n",
    "        lam = 1.0\n",
    "    batch_size = x.size(0)\n",
    "    index = torch.randperm(batch_size).to(x.device)\n",
    "\n",
    "    mixed_x = lam * x + (1 - lam) * x[index, :]\n",
    "    mixed_y = lam * y + (1 - lam) * y[index, :]\n",
    "    return mixed_x, mixed_y"
   ]
  },
  {
   "cell_type": "code",
   "execution_count": null,
   "id": "2be28a9c",
   "metadata": {
    "execution": {
     "iopub.execute_input": "2025-06-14T10:01:56.194003Z",
     "iopub.status.busy": "2025-06-14T10:01:56.193740Z",
     "iopub.status.idle": "2025-06-14T10:09:14.752385Z",
     "shell.execute_reply": "2025-06-14T10:09:14.751491Z"
    },
    "papermill": {
     "duration": 438.563878,
     "end_time": "2025-06-14T10:09:14.753712",
     "exception": false,
     "start_time": "2025-06-14T10:01:56.189834",
     "status": "completed"
    },
    "tags": []
   },
   "outputs": [
    {
     "name": "stdout",
     "output_type": "stream",
     "text": [
      "training: 1\n",
      "\n",
      "==================================================\n",
      "Fold 1/5\n",
      "VALIDATION_BATCH_SIZE: 256\n",
      "batch_x.shape: torch.Size([256, 696, 127])\n",
      "VALIDATION_BATCH_SIZE: 256\n",
      "batch_x.shape: torch.Size([256, 696, 127])\n",
      "VALIDATION_BATCH_SIZE: 256\n",
      "batch_x.shape: torch.Size([256, 696, 127])\n",
      "VALIDATION_BATCH_SIZE: 256\n",
      "batch_x.shape: torch.Size([256, 696, 127])\n",
      "VALIDATION_BATCH_SIZE: 256\n",
      "batch_x.shape: torch.Size([256, 696, 127])\n",
      "VALIDATION_BATCH_SIZE: 256\n",
      "batch_x.shape: torch.Size([256, 696, 127])\n",
      "VALIDATION_BATCH_SIZE: 256\n",
      "batch_x.shape: torch.Size([90, 696, 127])\n",
      "Epoch 01: Train Loss = 2.8913, Val Loss = 2.8011\n",
      "  Binary F1 = 0.8017, Macro F1 = 0.1309, Final Metric = 0.4663\n",
      "  New best metric! Saving model...\n",
      "VALIDATION_BATCH_SIZE: 256\n",
      "batch_x.shape: torch.Size([256, 696, 127])\n",
      "VALIDATION_BATCH_SIZE: 256\n",
      "batch_x.shape: torch.Size([256, 696, 127])\n",
      "VALIDATION_BATCH_SIZE: 256\n",
      "batch_x.shape: torch.Size([256, 696, 127])\n",
      "VALIDATION_BATCH_SIZE: 256\n",
      "batch_x.shape: torch.Size([256, 696, 127])\n",
      "VALIDATION_BATCH_SIZE: 256\n",
      "batch_x.shape: torch.Size([256, 696, 127])\n",
      "VALIDATION_BATCH_SIZE: 256\n",
      "batch_x.shape: torch.Size([256, 696, 127])\n",
      "VALIDATION_BATCH_SIZE: 256\n",
      "batch_x.shape: torch.Size([90, 696, 127])\n",
      "Epoch 02: Train Loss = 2.6330, Val Loss = 2.5623\n",
      "  Binary F1 = 0.8519, Macro F1 = 0.2111, Final Metric = 0.5315\n",
      "  New best metric! Saving model...\n",
      "VALIDATION_BATCH_SIZE: 256\n",
      "batch_x.shape: torch.Size([256, 696, 127])\n",
      "VALIDATION_BATCH_SIZE: 256\n",
      "batch_x.shape: torch.Size([256, 696, 127])\n",
      "VALIDATION_BATCH_SIZE: 256\n",
      "batch_x.shape: torch.Size([256, 696, 127])\n",
      "VALIDATION_BATCH_SIZE: 256\n",
      "batch_x.shape: torch.Size([256, 696, 127])\n",
      "VALIDATION_BATCH_SIZE: 256\n",
      "batch_x.shape: torch.Size([256, 696, 127])\n",
      "VALIDATION_BATCH_SIZE: 256\n",
      "batch_x.shape: torch.Size([256, 696, 127])\n",
      "VALIDATION_BATCH_SIZE: 256\n",
      "batch_x.shape: torch.Size([90, 696, 127])\n",
      "Epoch 03: Train Loss = 2.3440, Val Loss = 2.3983\n",
      "  Binary F1 = 0.8778, Macro F1 = 0.2702, Final Metric = 0.5740\n",
      "  New best metric! Saving model...\n",
      "VALIDATION_BATCH_SIZE: 256\n",
      "batch_x.shape: torch.Size([256, 696, 127])\n",
      "VALIDATION_BATCH_SIZE: 256\n",
      "batch_x.shape: torch.Size([256, 696, 127])\n",
      "VALIDATION_BATCH_SIZE: 256\n",
      "batch_x.shape: torch.Size([256, 696, 127])\n",
      "VALIDATION_BATCH_SIZE: 256\n",
      "batch_x.shape: torch.Size([256, 696, 127])\n",
      "VALIDATION_BATCH_SIZE: 256\n",
      "batch_x.shape: torch.Size([256, 696, 127])\n",
      "VALIDATION_BATCH_SIZE: 256\n",
      "batch_x.shape: torch.Size([256, 696, 127])\n",
      "VALIDATION_BATCH_SIZE: 256\n",
      "batch_x.shape: torch.Size([90, 696, 127])\n",
      "Epoch 04: Train Loss = 2.1119, Val Loss = 2.2360\n",
      "  Binary F1 = 0.9033, Macro F1 = 0.3176, Final Metric = 0.6104\n",
      "  New best metric! Saving model...\n",
      "VALIDATION_BATCH_SIZE: 256\n",
      "batch_x.shape: torch.Size([256, 696, 127])\n",
      "VALIDATION_BATCH_SIZE: 256\n",
      "batch_x.shape: torch.Size([256, 696, 127])\n",
      "VALIDATION_BATCH_SIZE: 256\n",
      "batch_x.shape: torch.Size([256, 696, 127])\n",
      "VALIDATION_BATCH_SIZE: 256\n",
      "batch_x.shape: torch.Size([256, 696, 127])\n",
      "VALIDATION_BATCH_SIZE: 256\n",
      "batch_x.shape: torch.Size([256, 696, 127])\n",
      "VALIDATION_BATCH_SIZE: 256\n",
      "batch_x.shape: torch.Size([256, 696, 127])\n",
      "VALIDATION_BATCH_SIZE: 256\n",
      "batch_x.shape: torch.Size([90, 696, 127])\n",
      "Epoch 05: Train Loss = 1.8923, Val Loss = 2.1251\n",
      "  Binary F1 = 0.9116, Macro F1 = 0.3793, Final Metric = 0.6454\n",
      "  New best metric! Saving model...\n"
     ]
    },
    {
     "ename": "KeyboardInterrupt",
     "evalue": "",
     "output_type": "error",
     "traceback": [
      "\u001b[31m---------------------------------------------------------------------------\u001b[39m",
      "\u001b[31mKeyboardInterrupt\u001b[39m                         Traceback (most recent call last)",
      "\u001b[36mCell\u001b[39m\u001b[36m \u001b[39m\u001b[32mIn[45]\u001b[39m\u001b[32m, line 70\u001b[39m\n\u001b[32m     68\u001b[39m outputs = model(batch_x)\n\u001b[32m     69\u001b[39m loss = criterion(outputs, batch_y)\n\u001b[32m---> \u001b[39m\u001b[32m70\u001b[39m \u001b[43mloss\u001b[49m\u001b[43m.\u001b[49m\u001b[43mbackward\u001b[49m\u001b[43m(\u001b[49m\u001b[43m)\u001b[49m\n\u001b[32m     71\u001b[39m optimizer.step()\n\u001b[32m     72\u001b[39m scheduler.step()\n",
      "\u001b[36mFile \u001b[39m\u001b[32m/venv/CMI/lib/python3.11/site-packages/torch/_tensor.py:581\u001b[39m, in \u001b[36mTensor.backward\u001b[39m\u001b[34m(self, gradient, retain_graph, create_graph, inputs)\u001b[39m\n\u001b[32m    571\u001b[39m \u001b[38;5;28;01mif\u001b[39;00m has_torch_function_unary(\u001b[38;5;28mself\u001b[39m):\n\u001b[32m    572\u001b[39m     \u001b[38;5;28;01mreturn\u001b[39;00m handle_torch_function(\n\u001b[32m    573\u001b[39m         Tensor.backward,\n\u001b[32m    574\u001b[39m         (\u001b[38;5;28mself\u001b[39m,),\n\u001b[32m   (...)\u001b[39m\u001b[32m    579\u001b[39m         inputs=inputs,\n\u001b[32m    580\u001b[39m     )\n\u001b[32m--> \u001b[39m\u001b[32m581\u001b[39m \u001b[43mtorch\u001b[49m\u001b[43m.\u001b[49m\u001b[43mautograd\u001b[49m\u001b[43m.\u001b[49m\u001b[43mbackward\u001b[49m\u001b[43m(\u001b[49m\n\u001b[32m    582\u001b[39m \u001b[43m    \u001b[49m\u001b[38;5;28;43mself\u001b[39;49m\u001b[43m,\u001b[49m\u001b[43m \u001b[49m\u001b[43mgradient\u001b[49m\u001b[43m,\u001b[49m\u001b[43m \u001b[49m\u001b[43mretain_graph\u001b[49m\u001b[43m,\u001b[49m\u001b[43m \u001b[49m\u001b[43mcreate_graph\u001b[49m\u001b[43m,\u001b[49m\u001b[43m \u001b[49m\u001b[43minputs\u001b[49m\u001b[43m=\u001b[49m\u001b[43minputs\u001b[49m\n\u001b[32m    583\u001b[39m \u001b[43m\u001b[49m\u001b[43m)\u001b[49m\n",
      "\u001b[36mFile \u001b[39m\u001b[32m/venv/CMI/lib/python3.11/site-packages/torch/autograd/__init__.py:347\u001b[39m, in \u001b[36mbackward\u001b[39m\u001b[34m(tensors, grad_tensors, retain_graph, create_graph, grad_variables, inputs)\u001b[39m\n\u001b[32m    342\u001b[39m     retain_graph = create_graph\n\u001b[32m    344\u001b[39m \u001b[38;5;66;03m# The reason we repeat the same comment below is that\u001b[39;00m\n\u001b[32m    345\u001b[39m \u001b[38;5;66;03m# some Python versions print out the first line of a multi-line function\u001b[39;00m\n\u001b[32m    346\u001b[39m \u001b[38;5;66;03m# calls in the traceback and some print out the last line\u001b[39;00m\n\u001b[32m--> \u001b[39m\u001b[32m347\u001b[39m \u001b[43m_engine_run_backward\u001b[49m\u001b[43m(\u001b[49m\n\u001b[32m    348\u001b[39m \u001b[43m    \u001b[49m\u001b[43mtensors\u001b[49m\u001b[43m,\u001b[49m\n\u001b[32m    349\u001b[39m \u001b[43m    \u001b[49m\u001b[43mgrad_tensors_\u001b[49m\u001b[43m,\u001b[49m\n\u001b[32m    350\u001b[39m \u001b[43m    \u001b[49m\u001b[43mretain_graph\u001b[49m\u001b[43m,\u001b[49m\n\u001b[32m    351\u001b[39m \u001b[43m    \u001b[49m\u001b[43mcreate_graph\u001b[49m\u001b[43m,\u001b[49m\n\u001b[32m    352\u001b[39m \u001b[43m    \u001b[49m\u001b[43minputs\u001b[49m\u001b[43m,\u001b[49m\n\u001b[32m    353\u001b[39m \u001b[43m    \u001b[49m\u001b[43mallow_unreachable\u001b[49m\u001b[43m=\u001b[49m\u001b[38;5;28;43;01mTrue\u001b[39;49;00m\u001b[43m,\u001b[49m\n\u001b[32m    354\u001b[39m \u001b[43m    \u001b[49m\u001b[43maccumulate_grad\u001b[49m\u001b[43m=\u001b[49m\u001b[38;5;28;43;01mTrue\u001b[39;49;00m\u001b[43m,\u001b[49m\n\u001b[32m    355\u001b[39m \u001b[43m\u001b[49m\u001b[43m)\u001b[49m\n",
      "\u001b[36mFile \u001b[39m\u001b[32m/venv/CMI/lib/python3.11/site-packages/torch/autograd/graph.py:825\u001b[39m, in \u001b[36m_engine_run_backward\u001b[39m\u001b[34m(t_outputs, *args, **kwargs)\u001b[39m\n\u001b[32m    823\u001b[39m     unregister_hooks = _register_logging_hooks_on_whole_graph(t_outputs)\n\u001b[32m    824\u001b[39m \u001b[38;5;28;01mtry\u001b[39;00m:\n\u001b[32m--> \u001b[39m\u001b[32m825\u001b[39m     \u001b[38;5;28;01mreturn\u001b[39;00m \u001b[43mVariable\u001b[49m\u001b[43m.\u001b[49m\u001b[43m_execution_engine\u001b[49m\u001b[43m.\u001b[49m\u001b[43mrun_backward\u001b[49m\u001b[43m(\u001b[49m\u001b[43m  \u001b[49m\u001b[38;5;66;43;03m# Calls into the C++ engine to run the backward pass\u001b[39;49;00m\n\u001b[32m    826\u001b[39m \u001b[43m        \u001b[49m\u001b[43mt_outputs\u001b[49m\u001b[43m,\u001b[49m\u001b[43m \u001b[49m\u001b[43m*\u001b[49m\u001b[43margs\u001b[49m\u001b[43m,\u001b[49m\u001b[43m \u001b[49m\u001b[43m*\u001b[49m\u001b[43m*\u001b[49m\u001b[43mkwargs\u001b[49m\n\u001b[32m    827\u001b[39m \u001b[43m    \u001b[49m\u001b[43m)\u001b[49m  \u001b[38;5;66;03m# Calls into the C++ engine to run the backward pass\u001b[39;00m\n\u001b[32m    828\u001b[39m \u001b[38;5;28;01mfinally\u001b[39;00m:\n\u001b[32m    829\u001b[39m     \u001b[38;5;28;01mif\u001b[39;00m attach_logging_hooks:\n",
      "\u001b[31mKeyboardInterrupt\u001b[39m: "
     ]
    }
   ],
   "source": [
    "seed_everything(seed=SEED)\n",
    "\n",
    "n_splits = 5\n",
    "\n",
    "fold_metrics = []\n",
    "best_fold_metrics = []\n",
    "best_models = []\n",
    "\n",
    "fold_patterns = join(dataset_path, \"preprocessed_dataset\", \"fold*\")\n",
    "fold_pths = glob(fold_patterns)\n",
    "all_training_metrics = {}\n",
    "\n",
    "for fold, fold_pth in enumerate(fold_pths):\n",
    "    print(\"training:\", fold + 1)\n",
    "    train_dataset = CMIDataset(fold_pth, \"train\")\n",
    "    # criterion = compute_weighted_cross_entropy_loss(train_dataset)\n",
    "    criterion = torch.nn.CrossEntropyLoss(label_smoothing=0.1)\n",
    "    train_loader = DL(train_dataset, TRAIN_BATCH_SIZE, shuffle=True)\n",
    "    validation_dataset = CMIDataset(fold_pth, \"validation\")\n",
    "    validation_loader = DL(validation_dataset, VALIDATION_BATCH_SIZE, shuffle=False)\n",
    "    print(f\"\\n{'='*50}\")\n",
    "    print(f\"Fold {fold + 1}/{n_splits}\")\n",
    "\n",
    "    seed_everything(seed=SEED + fold)\n",
    "    model = mk_model()\n",
    "\n",
    "    # Optimizer et scheduler\n",
    "    min_lr = max_lr / 100\n",
    "    optimizer = torch.optim.AdamW(\n",
    "        model.parameters(),\n",
    "        WARMUP_LR_INIT,\n",
    "        weight_decay=WEIGHT_DECAY,\n",
    "    )\n",
    "    steps_per_epoch = len(train_loader)\n",
    "    n_training_steps = TRAINING_EPOCHS * len(train_loader)\n",
    "    scheduler = CosineAnnealingWarmupRestarts(\n",
    "        optimizer,\n",
    "        warmup_steps=WARMUP_EPOCHS * steps_per_epoch,\n",
    "        max_lr = MAX_LR,\n",
    "        min_lr = MIN_LR,\n",
    "        cycle_length=(TRAINING_EPOCHS - WARMUP_EPOCHS) * steps_per_epoch,\n",
    "        # gamma=0.9,\n",
    "    ) \n",
    "\n",
    "\n",
    "    # Early stopping\n",
    "    best_metric = -np.inf\n",
    "    best_binary_f1 = -np.inf\n",
    "    best_macro_f1 = -np.inf\n",
    "    epochs_no_improve = 0\n",
    "\n",
    "    for epoch in range(1, TRAINING_EPOCHS + 1):\n",
    "        # Training phase\n",
    "        model.train()\n",
    "        train_loss = 0.0\n",
    "        total = 0\n",
    "        for batch_x, batch_y in train_loader:\n",
    "            batch_x = batch_x.to(device).clone()\n",
    "            add_noise = torch.randn_like(batch_x, device=device) * 0.04\n",
    "            scale_noise = torch.rand_like(batch_x, device=device) * (1.1 - 0.9) + 0.9\n",
    "            batch_x = (add_noise + batch_x) * scale_noise\n",
    "            batch_y = batch_y.to(device)\n",
    "            batch_x = batch_x.float()\n",
    "            \n",
    "            batch_x, batch_y = mixup_data(batch_x, batch_y)\n",
    "    \n",
    "            optimizer.zero_grad()\n",
    "            outputs = model(batch_x)\n",
    "            loss = criterion(outputs, batch_y)\n",
    "            loss.backward()\n",
    "            optimizer.step()\n",
    "            scheduler.step()\n",
    "\n",
    "            train_loss += loss.item() * batch_x.size(0)\n",
    "            total += batch_x.size(0)\n",
    "        train_loss /= total\n",
    "\n",
    "        # Validation phase\n",
    "        model.eval()\n",
    "        val_loss = 0.0\n",
    "        total = 0\n",
    "        all_true = []\n",
    "        all_pred = []\n",
    "        \n",
    "        with torch.no_grad():\n",
    "            for batch_x, batch_y in validation_loader:\n",
    "                batch_x = batch_x.to(device).clone()\n",
    "                batch_y = batch_y.to(device)\n",
    "                batch_x[:VALIDATION_BATCH_SIZE // 2, non_imu_feats_idx] = 0.0\n",
    "\n",
    "                outputs = model(batch_x)\n",
    "                loss = criterion(outputs, batch_y)\n",
    "                val_loss += loss.item() * batch_x.size(0)\n",
    "                total += batch_x.size(0)\n",
    "                \n",
    "                # Get predicted class indices\n",
    "                preds = torch.argmax(outputs, dim=1).cpu().numpy()\n",
    "                # Get true class indices from one-hot\n",
    "                trues = torch.argmax(batch_y, dim=1).cpu().numpy()\n",
    "                \n",
    "                all_true.append(trues)\n",
    "                all_pred.append(preds)\n",
    "\n",
    "        val_loss /= total\n",
    "        all_true = np.concatenate(all_true)\n",
    "        all_pred = np.concatenate(all_pred)\n",
    "\n",
    "        # Compute competition metrics\n",
    "        # Binary classification: BFRB (1) vs non-BFRB (0)\n",
    "        binary_true = np.isin(all_true, bfrb_indices).astype(int)\n",
    "        binary_pred = np.isin(all_pred, bfrb_indices).astype(int)\n",
    "        binary_f1 = f1_score(binary_true, binary_pred)\n",
    "        \n",
    "        # Collapse non-BFRB gestures into a single class\n",
    "        collapsed_true = np.where(\n",
    "            np.isin(all_true, bfrb_indices),\n",
    "            all_true,\n",
    "            len(bfrb_gestures)  # Single non-BFRB class\n",
    "        )\n",
    "        collapsed_pred = np.where(\n",
    "            np.isin(all_pred, bfrb_indices),\n",
    "            all_pred,\n",
    "            len(bfrb_gestures)  # Single non-BFRB class\n",
    "        )\n",
    "\n",
    "        # Macro F1 on collapsed classes\n",
    "        macro_f1 = f1_score(collapsed_true, collapsed_pred, average='macro')\n",
    "        final_metric = (binary_f1 + macro_f1) / 2\n",
    "\n",
    "        print(f\"Epoch {epoch:02d}: Train Loss = {train_loss:.4f}, Val Loss = {val_loss:.4f}\")\n",
    "        print(f\"  Binary F1 = {binary_f1:.4f}, Macro F1 = {macro_f1:.4f}, Final Metric = {final_metric:.4f}\")\n",
    "\n",
    "        if final_metric > best_metric:\n",
    "            best_metric = final_metric\n",
    "            best_binary_f1 = binary_f1\n",
    "            best_macro_f1 = macro_f1\n",
    "            epochs_no_improve = 0\n",
    "            best_model_state = model.state_dict()\n",
    "            print(f\"  New best metric! Saving model...\")\n",
    "        else:\n",
    "            epochs_no_improve += 1\n",
    "            if epochs_no_improve >= PATIENCE:\n",
    "                print(f\"Early stopping triggered at epoch {epoch}\")\n",
    "                model.load_state_dict(best_model_state)\n",
    "                break\n",
    "\n",
    "    torch.save(best_model_state, f\"best_model_fold{fold}.pth\")\n",
    "    # Free memory used by datasets and data loaders\n",
    "    del train_dataset\n",
    "    del validation_dataset\n",
    "    del train_loader\n",
    "    del validation_loader\n",
    "    gc.collect()\n",
    "    torch.cuda.empty_cache()\n",
    "\n",
    "    best_models.append(best_model_state)\n",
    "    fold_metrics.append({\n",
    "        'binary_f1': binary_f1,\n",
    "        'macro_f1': macro_f1,\n",
    "        'final_metric': final_metric\n",
    "    })\n",
    "    \n",
    "    best_fold_metrics.append({\n",
    "        'binary_f1': best_binary_f1,\n",
    "        'macro_f1': best_macro_f1,\n",
    "        'final_metric': best_metric\n",
    "    })\n",
    "    \n",
    "    print(f\"\\nFold {fold + 1} completed.\")\n",
    "    print(f\"Final validation metrics - Binary F1: {binary_f1:.4f}, Macro F1: {macro_f1:.4f}, Final: {final_metric:.4f}\")\n",
    "    print(f\"Best validation metrics - Binary F1: {best_binary_f1:.4f}, Macro F1: {best_macro_f1:.4f}, Final: {best_metric:.4f}\")\n",
    "\n",
    "print(\"\\n\" + \"=\"*50)\n",
    "print(\"Cross-Validation Results\")\n",
    "print(\"=\"*50)\n",
    "\n",
    "# Statistiques pour les meilleures métriques\n",
    "best_binary_f1 = [m['binary_f1'] for m in best_fold_metrics]\n",
    "best_macro_f1 = [m['macro_f1'] for m in best_fold_metrics]\n",
    "best_metrics = [m['final_metric'] for m in best_fold_metrics]\n",
    "\n",
    "print(\"\\nBest Fold-wise Metrics:\")\n",
    "for i, (bf1, mf1, fm) in enumerate(zip(best_binary_f1, best_macro_f1, best_metrics)):\n",
    "    print(f\"Fold {i+1}: Binary F1 = {bf1:.4f}, Macro F1 = {mf1:.4f}, Final = {fm:.4f}\")\n",
    "\n",
    "print(\"\\nGlobal Statistics (Best Metrics):\")\n",
    "print(f\"Mean Best Final Metric: {np.mean(best_metrics):.4f} ± {np.std(best_metrics):.4f}\")\n",
    "print(f\"Mean Best Binary F1: {np.mean(best_binary_f1):.4f} ± {np.std(best_binary_f1):.4f}\")\n",
    "print(f\"Mean Best Macro F1: {np.mean(best_macro_f1):.4f} ± {np.std(best_macro_f1):.4f}\")"
   ]
  },
  {
   "cell_type": "markdown",
   "id": "07ea7558",
   "metadata": {
    "papermill": {
     "duration": 0.012909,
     "end_time": "2025-06-14T10:09:14.961270",
     "exception": false,
     "start_time": "2025-06-14T10:09:14.948361",
     "status": "completed"
    },
    "tags": []
   },
   "source": [
    "## Submission"
   ]
  },
  {
   "cell_type": "markdown",
   "id": "3aea5e4f",
   "metadata": {
    "papermill": {
     "duration": 0.012906,
     "end_time": "2025-06-14T10:09:14.780212",
     "exception": false,
     "start_time": "2025-06-14T10:09:14.767306",
     "status": "completed"
    },
    "tags": []
   },
   "source": [
    "### Reloading best model"
   ]
  },
  {
   "cell_type": "code",
   "execution_count": null,
   "id": "a0574d4d",
   "metadata": {
    "execution": {
     "iopub.execute_input": "2025-06-14T10:09:14.807902Z",
     "iopub.status.busy": "2025-06-14T10:09:14.807165Z",
     "iopub.status.idle": "2025-06-14T10:09:14.933288Z",
     "shell.execute_reply": "2025-06-14T10:09:14.932459Z"
    },
    "papermill": {
     "duration": 0.141435,
     "end_time": "2025-06-14T10:09:14.934745",
     "exception": false,
     "start_time": "2025-06-14T10:09:14.793310",
     "status": "completed"
    },
    "tags": []
   },
   "outputs": [],
   "source": [
    "model_ensemble = []\n",
    "for fold in range(5):\n",
    "    model = mk_model().to(device)\n",
    "    checkpoint = torch.load(f\"best_model_fold{fold}.pth\", map_location=device, weights_only=True)\n",
    "    model.load_state_dict(checkpoint)\n",
    "    model.eval()\n",
    "    model_ensemble.append(model)"
   ]
  },
  {
   "cell_type": "markdown",
   "id": "a826dec8",
   "metadata": {},
   "source": [
    "### Define preprocessing function"
   ]
  },
  {
   "cell_type": "code",
   "execution_count": null,
   "id": "481e69b6",
   "metadata": {},
   "outputs": [],
   "source": [
    "def get_fillna_val_per_feature_col(df:DF) -> dict:\n",
    "    return {col: 1.0 if col == 'rot_w' else 0 for col in get_feature_cols(df)}\n",
    "\n",
    "def imputed_features(df:DF) -> DF:\n",
    "    # Missing ToF values are already imputed by -1 which is inconvinient since we want all missing values to be NaN.    \n",
    "    # So we replace them by NaN and then perform imputing.  \n",
    "    tof_vals_to_nan = {col: -1.0 for col in df.columns if col.startswith(\"tof\")}\n",
    "\n",
    "    df[get_feature_cols(df)] = (\n",
    "        df\n",
    "        .loc[:, get_feature_cols(df)]\n",
    "        # df.replace with np.nan sets dtype to floar64 so we set it back to float32\n",
    "        .replace(tof_vals_to_nan, value=np.nan)\n",
    "        .astype(\"float32\")\n",
    "        .groupby(df[\"sequence_id\"], observed=True, as_index=False)\n",
    "        .ffill()\n",
    "        .groupby(df[\"sequence_id\"], observed=True, as_index=False)\n",
    "        .bfill()\n",
    "        # In case there are only nan in the column in the sequence\n",
    "        .fillna(get_fillna_val_per_feature_col(df))\n",
    "    )\n",
    "    return df\n",
    "\n",
    "def norm_quat_rotations(df:DF) -> DF:\n",
    "    df[QUATERNION_COLS] /= np.linalg.norm(df[QUATERNION_COLS], axis=1, keepdims=True)\n",
    "    return df\n",
    "\n",
    "def add_linear_acc_cols(df:DF) -> DF:\n",
    "    # Vectorized version of https://www.kaggle.com/code/wasupandceacar/lb-0-82-5fold-single-bert-model#Dataset `remove_gravity_from_acc`\n",
    "    rotations:Rotation = Rotation.from_quat(df[QUATERNION_COLS])\n",
    "    gravity_sensor_frame = rotations.apply(GRAVITY_WORLD, inverse=True).astype(\"float32\")\n",
    "    df[LINEAR_ACC_COLS] = df[RAW_ACCELRATION_COLS] - gravity_sensor_frame\n",
    "    return df\n",
    "\n",
    "def add_acc_magnitude(df:DF, acc_cols:list[str], acc_mag_col_name:str) -> DF:\n",
    "    return df.assign(**{acc_mag_col_name: np.linalg.norm(df.loc[:, acc_cols], axis=1)})\n",
    "\n",
    "def add_quat_angle_mag(df:DF) -> DF:\n",
    "    return df.assign(quat_rot_mag=np.arccos(df[\"rot_w\"]) * 2)\n",
    "\n",
    "def add_angular_velocity_features(df:DF) -> DF:\n",
    "    rotations = Rotation.from_quat(df[QUATERNION_COLS])\n",
    "    delta_rotations = rotations[1:] * rotations[:-1].inv()\n",
    "    delta_rot_velocity = delta_rotations.as_rotvec()\n",
    "    # Add extra line to avoid shape mismatch\n",
    "    delta_rot_velocity = np.vstack((np.zeros((1, 3)), delta_rot_velocity))\n",
    "    delta_rot_magnitude = norm(delta_rot_velocity, axis=1, keepdims=True)\n",
    "    delta_rot_axes = delta_rot_velocity / (delta_rot_magnitude + EPSILON)\n",
    "    df[DELTA_ROTATION_ANGULAR_VELOCITY_COLS] = delta_rot_velocity\n",
    "    df[DELTA_ROTATION_AXES_COLS] = delta_rot_axes\n",
    "    df[\"delta_rot_mag\"] = delta_rot_magnitude.squeeze()\n",
    "\n",
    "    return df\n",
    "\n",
    "def rot_euler_angles(df:DF) -> ndarray:\n",
    "    df[EULER_ANGLES_COLS] = (\n",
    "        Rotation\n",
    "        .from_quat(df[QUATERNION_COLS])\n",
    "        .as_euler(\"xyz\")\n",
    "        .squeeze()\n",
    "    )\n",
    "    return df\n",
    "\n",
    "def agg_tof_cols_per_sensor(df:DF) -> DF:\n",
    "    for tof_idx in tqdm(range(1, 6)):\n",
    "        tof_name = f\"tof_{tof_idx}\"\n",
    "        tof_cols = [f\"{tof_name}_v{v_idx}\" for v_idx in range(64)]\n",
    "        if any(map(lambda col: col not in df.columns, tof_cols)):\n",
    "            print(f\"Some (or) all ToF {tof_idx} columns are not in the df. Maybe you already ran this cell?\")\n",
    "            continue\n",
    "        df = pd.concat(\n",
    "            (\n",
    "                df.drop(columns=tof_cols),\n",
    "                # For some reasons, it's faster to call all the aggregation functions seperatly than agg(list of functions)\n",
    "                df[tof_cols].mean(axis=\"columns\").to_frame(tof_name + \"_mean\"),\n",
    "                df[tof_cols].std(axis=\"columns\").to_frame(tof_name + \"_std\"),\n",
    "                df[tof_cols].median(axis=\"columns\").to_frame(tof_name + \"_median\"),\n",
    "                df[tof_cols].min(axis=\"columns\").to_frame(tof_name + \"_min\"),\n",
    "                df[tof_cols].max(axis=\"columns\").to_frame(tof_name + \"_max\"),\n",
    "            ),\n",
    "            axis=\"columns\",\n",
    "        )\n",
    "    return df\n",
    "\n",
    "def add_diff_features(df:DF) -> DF:\n",
    "    return pd.concat(\n",
    "        (\n",
    "            df,\n",
    "            df\n",
    "            .groupby(\"sequence_id\", as_index=False, observed=True)\n",
    "            [get_feature_cols(df)]\n",
    "            .diff()\n",
    "            .fillna(get_fillna_val_per_feature_col(df))\n",
    "            .add_suffix(\"_diff\")\n",
    "        ),\n",
    "        axis=\"columns\",\n",
    "    )\n",
    "\n",
    "def length_normed_sequence_feat_arr(sequence: DF) -> ndarray:\n",
    "    features = (\n",
    "        sequence\n",
    "        .loc[:, meta_data[\"feature_cols\"]]\n",
    "        .values\n",
    "    )\n",
    "    normed_sequence_len = meta_data[\"pad_seq_len\"]\n",
    "    len_diff = abs(normed_sequence_len - len(features))\n",
    "    if len(features) < normed_sequence_len:\n",
    "        padded_features = np.pad(\n",
    "            features,\n",
    "            ((len_diff // 2 + len_diff % 2, len_diff // 2), (0, 0)),\n",
    "        )\n",
    "        return padded_features\n",
    "    elif len(features) > normed_sequence_len:\n",
    "        return features[len_diff // 2:-len_diff // 2]\n",
    "    else:\n",
    "        return features\n",
    "\n",
    "def preprocess_sequence(sequence_df:pl.DataFrame) -> ndarray:\n",
    "    return (\n",
    "        sequence_df                     \n",
    "        .to_pandas()                            # Convert to pandas dataframe.\n",
    "        .pipe(imputed_features)                 # Impute missing data.\n",
    "        .pipe(norm_quat_rotations)              # Norm quaternions\n",
    "        .pipe(add_linear_acc_cols)              # Add gravity free acceleration.\n",
    "        .pipe(add_acc_magnitude, RAW_ACCELRATION_COLS, \"acc_mag\")\n",
    "        .pipe(add_acc_magnitude, LINEAR_ACC_COLS, \"linear_acc_mag\")\n",
    "        .pipe(add_quat_angle_mag)\n",
    "        .pipe(add_angular_velocity_features)\n",
    "        .pipe(rot_euler_angles)                 # Add rotation acc expressed as euler angles.\n",
    "        # .pipe(agg_tof_cols_per_sensor)          # Aggregate ToF columns.\n",
    "        .pipe(add_diff_features)                # \n",
    "        .loc[:, sorted(meta_data[\"feature_cols\"])]      # Retain only the usefull columns a.k.a features.\n",
    "        .sub(meta_data[\"mean\"])                 # Subtract features by their mean, std norm pt.1.\n",
    "        .div(meta_data[\"std\"])                  # Divide by Standard deviation, std norm pt.2.\n",
    "        .pipe(length_normed_sequence_feat_arr)  # get feature ndarray of sequence.\n",
    "        .T                                      # Transpose to swap channel and X dimensions.\n",
    "    )"
   ]
  },
  {
   "cell_type": "markdown",
   "id": "1ebb0960",
   "metadata": {},
   "source": [
    "### Define prediction function"
   ]
  },
  {
   "cell_type": "code",
   "execution_count": null,
   "id": "57d8dfff",
   "metadata": {
    "execution": {
     "iopub.execute_input": "2025-06-14T10:09:14.989742Z",
     "iopub.status.busy": "2025-06-14T10:09:14.989258Z",
     "iopub.status.idle": "2025-06-14T10:09:14.995936Z",
     "shell.execute_reply": "2025-06-14T10:09:14.995244Z"
    },
    "papermill": {
     "duration": 0.021303,
     "end_time": "2025-06-14T10:09:14.997034",
     "exception": false,
     "start_time": "2025-06-14T10:09:14.975731",
     "status": "completed"
    },
    "tags": []
   },
   "outputs": [],
   "source": [
    "def predict(sequence: pl.DataFrame, _: pl.DataFrame) -> str:\n",
    "    \"\"\"\n",
    "    Kaggle evaluation API will call this for each sequence.\n",
    "    sequence: polars DataFrame for a single sequence\n",
    "    demographics: unused in this model\n",
    "    Returns: predicted gesture string\n",
    "    \"\"\"\n",
    "    x_tensor = (\n",
    "        torch.unsqueeze(Tensor(preprocess_sequence(sequence)), dim=0)\n",
    "        .float()\n",
    "        .to(device)\n",
    "    )\n",
    "    print(x_tensor.shape)\n",
    "\n",
    "    all_outputs = []\n",
    "    with torch.no_grad():\n",
    "        for model_idx, model in enumerate(model_ensemble): # Only take the first one bc it's the only one that takes in the correct input shape\n",
    "            outputs = model(x_tensor)\n",
    "            all_outputs.append(outputs)\n",
    "\n",
    "    avg_outputs = torch.mean(torch.stack(all_outputs), dim=0)\n",
    "    pred_idx = torch.argmax(avg_outputs, dim=1).item()\n",
    "\n",
    "    return str(gesture_classes[pred_idx])"
   ]
  },
  {
   "cell_type": "markdown",
   "id": "5cdcf446",
   "metadata": {},
   "source": [
    "### Run inference server"
   ]
  },
  {
   "cell_type": "code",
   "execution_count": null,
   "id": "1c386b7d",
   "metadata": {
    "execution": {
     "iopub.execute_input": "2025-06-14T10:09:15.023324Z",
     "iopub.status.busy": "2025-06-14T10:09:15.023122Z",
     "iopub.status.idle": "2025-06-14T10:09:16.373534Z",
     "shell.execute_reply": "2025-06-14T10:09:16.372710Z"
    },
    "papermill": {
     "duration": 1.365137,
     "end_time": "2025-06-14T10:09:16.374918",
     "exception": false,
     "start_time": "2025-06-14T10:09:15.009781",
     "status": "completed"
    },
    "tags": []
   },
   "outputs": [],
   "source": [
    "inference_server = kaggle_evaluation.cmi_inference_server.CMIInferenceServer(predict)\n",
    "\n",
    "if os.getenv('KAGGLE_IS_COMPETITION_RERUN'):\n",
    "    inference_server.serve()\n",
    "else:\n",
    "    inference_server.run_local_gateway(\n",
    "        data_paths=(\n",
    "            join(competition_dataset_path, 'test.csv'),\n",
    "            join(competition_dataset_path, 'test_demographics.csv'),\n",
    "        )\n",
    "    )\n",
    "    inference_server = kaggle_evaluation.cmi_inference_server.CMIInferenceServer(predict)\n",
    "    inference_server.run_local_gateway(\n",
    "        data_paths=(\n",
    "            join(competition_dataset_path, 'train.csv'),\n",
    "            join(competition_dataset_path, 'train_demographics.csv'),\n",
    "        )\n",
    "    )"
   ]
  }
 ],
 "metadata": {
  "kaggle": {
   "accelerator": "gpu",
   "dataSources": [
    {
     "databundleVersionId": 12518947,
     "sourceId": 102335,
     "sourceType": "competition"
    }
   ],
   "isGpuEnabled": true,
   "isInternetEnabled": false,
   "language": "python",
   "sourceType": "notebook"
  },
  "kernelspec": {
   "display_name": "Python 3",
   "language": "python",
   "name": "python3"
  },
  "language_info": {
   "codemirror_mode": {
    "name": "ipython",
    "version": 3
   },
   "file_extension": ".py",
   "mimetype": "text/x-python",
   "name": "python",
   "nbconvert_exporter": "python",
   "pygments_lexer": "ipython3",
   "version": "3.11.5"
  },
  "papermill": {
   "default_parameters": {},
   "duration": 510.403331,
   "end_time": "2025-06-14T10:09:19.701325",
   "environment_variables": {},
   "exception": null,
   "input_path": "__notebook__.ipynb",
   "output_path": "__notebook__.ipynb",
   "parameters": {},
   "start_time": "2025-06-14T10:00:49.297994",
   "version": "2.6.0"
  }
 },
 "nbformat": 4,
 "nbformat_minor": 5
}
