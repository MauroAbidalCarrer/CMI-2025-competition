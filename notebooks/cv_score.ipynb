{
 "cells": [
  {
   "cell_type": "markdown",
   "id": "bf6438da",
   "metadata": {},
   "source": [
    "# Training & inference notebook\n",
    "Credit to [Tarun Mishra](https://www.kaggle.com/tarundirector) – this code is heavily based on his [notebook](https://www.kaggle.com/code/tarundirector/sensor-pulse-viz-eda-for-bfrb-detection?scriptVersionId=243465321)."
   ]
  },
  {
   "cell_type": "markdown",
   "id": "e752c660",
   "metadata": {},
   "source": [
    "## Setup"
   ]
  },
  {
   "cell_type": "markdown",
   "id": "71f39a6e",
   "metadata": {},
   "source": [
    "## my setup"
   ]
  },
  {
   "cell_type": "markdown",
   "id": "473b69f6",
   "metadata": {},
   "source": [
    "### My imports"
   ]
  },
  {
   "cell_type": "markdown",
   "id": "e7d4b210",
   "metadata": {},
   "source": [
    "#### Training imports"
   ]
  },
  {
   "cell_type": "code",
   "execution_count": 25,
   "id": "b842c804",
   "metadata": {},
   "outputs": [],
   "source": [
    "import os\n",
    "import json\n",
    "from glob import glob\n",
    "from functools import partial\n",
    "from datetime import datetime\n",
    "from itertools import pairwise\n",
    "from os.path import join, realpath\n",
    "from typing import Optional, Literal\n",
    "\n",
    "import torch\n",
    "import kagglehub\n",
    "import numpy as np\n",
    "import pandas as pd\n",
    "import plotly.express as px\n",
    "from torch import nn, Tensor\n",
    "from pandas import DataFrame as DF\n",
    "from torch.utils.data import TensorDataset\n",
    "from torch.utils.data import DataLoader as DL\n",
    "from rich.progress import Progress, Task, track\n",
    "from torch.optim.lr_scheduler import ConstantLR, LRScheduler\n",
    "metric_package = kagglehub.package_import('wasupandceacar/cmi-metric', bypass_confirmation=True)"
   ]
  },
  {
   "cell_type": "markdown",
   "id": "6a3ae962",
   "metadata": {},
   "source": [
    "#### inference imports"
   ]
  },
  {
   "cell_type": "code",
   "execution_count": 26,
   "id": "915c9ecf",
   "metadata": {},
   "outputs": [],
   "source": [
    "import os\n",
    "import json\n",
    "import warnings\n",
    "from os.path import join\n",
    "from tqdm.notebook import tqdm\n",
    "from itertools import pairwise, product\n",
    "\n",
    "import torch\n",
    "import numpy as np\n",
    "import pandas as pd\n",
    "import polars as pl\n",
    "from numpy import ndarray\n",
    "from torch import nn, Tensor\n",
    "from numpy.linalg import norm\n",
    "from pandas import DataFrame as DF\n",
    "from scipy.spatial.transform import Rotation\n",
    "# from kagglehub import competition_download, dataset_download, model_download\n",
    "import kagglehub\n",
    "metric_package = kagglehub.package_import('wasupandceacar/cmi-metric', bypass_confirmation=True)\n",
    "\n",
    "import kaggle_evaluation.cmi_inference_server"
   ]
  },
  {
   "cell_type": "markdown",
   "id": "57b0b925",
   "metadata": {},
   "source": [
    "### config"
   ]
  },
  {
   "cell_type": "code",
   "execution_count": 27,
   "id": "1296f174",
   "metadata": {},
   "outputs": [],
   "source": [
    "NB_CROSS_VALIDATIONS = 5\n",
    "TRAINING_EPOCHS = 60\n",
    "STARTING_LR = 0.0005\n",
    "TRAIN_BATCH_SIZE = 256\n",
    "VALIDATION_BATCH_SIZE = 4 * TRAIN_BATCH_SIZE\n",
    "TARGET_NAMES = sorted([\n",
    "    \"Above ear - pull hair\",\n",
    "    \"Cheek - pinch skin\",\n",
    "    \"Eyebrow - pull hair\",\n",
    "    \"Eyelash - pull hair\",\n",
    "    \"Feel around in tray and pull out an object\",\n",
    "    \"Forehead - pull hairline\",\n",
    "    \"Forehead - scratch\",\n",
    "    \"Neck - pinch skin\",\n",
    "    \"Neck - scratch\",\n",
    "    \"Text on phone\",\n",
    "    \"Wave hello\",\n",
    "    \"Write name in air\",\n",
    "    \"Write name on leg\",\n",
    "    \"Drink from bottle/cup\",\n",
    "    \"Pinch knee/leg skin\",\n",
    "    \"Pull air toward your face\",\n",
    "    \"Scratch knee/leg skin\",\n",
    "    \"Glasses on/off\"\n",
    "])\n",
    "TARGET_NAMES_NDARRAY = np.asarray(TARGET_NAMES)\n",
    "MOCK_TRAINING_GAMMA = 1.01\n",
    "MAX_LR_TO_MIN_DIV_FACTOR = 10\n",
    "\n",
    "COMPETITION_HANDLE = \"cmi-detect-behavior-with-sensor-data\""
   ]
  },
  {
   "cell_type": "markdown",
   "id": "1393b8af",
   "metadata": {},
   "source": [
    "#### Inference config "
   ]
  },
  {
   "cell_type": "code",
   "execution_count": 28,
   "id": "3ad8c78c",
   "metadata": {},
   "outputs": [],
   "source": [
    "QUATERNION_COLS = ['rot_w', 'rot_x', 'rot_y', 'rot_z']\n",
    "GRAVITY_WORLD = np.array([0, 0, 9.81], \"float32\")\n",
    "RAW_ACCELRATION_COLS = [\"acc_x\", \"acc_y\", \"acc_z\"]\n",
    "LINEAR_ACC_COLS = [\"gravity_free_\" + col for col in RAW_ACCELRATION_COLS]\n",
    "COMPETITION_HANDLE = \"cmi-detect-behavior-with-sensor-data\"\n",
    "CATEGORY_COLUMNS = [\n",
    "    'row_id',\n",
    "    'sequence_type',\n",
    "    'sequence_id',\n",
    "    'subject',\n",
    "    'orientation',\n",
    "    'behavior',\n",
    "    'phase',\n",
    "    'gesture',\n",
    "]\n",
    "META_DATA_COLUMNS = [\n",
    "    'row_id',\n",
    "    'sequence_type',\n",
    "    'sequence_id',\n",
    "    'sequence_counter',\n",
    "    'subject',\n",
    "    'orientation',\n",
    "    'behavior',\n",
    "    'phase',\n",
    "    'gesture',\n",
    "]\n",
    "DATASET_DF_DTYPES = {\n",
    "    \"acc_x\": \"float32\", \"acc_y\": \"float32\", \"acc_z\": \"float32\",\n",
    "    \"thm_1\":\"float32\", \"thm_2\":\"float32\", \"thm_3\":\"float32\", \"thm_4\":\"float32\", \"thm_5\":\"float32\",\n",
    "    \"sequence_counter\": \"int32\",\n",
    "    **{col: \"category\" for col in CATEGORY_COLUMNS},\n",
    "    **{f\"tof_{i_1}_v{i_2}\": \"float32\" for i_1, i_2 in product(range(1, 5), range(64))},\n",
    "}\n",
    "PREPROCESSED_DATASET_HANDLE = \"mauroabidalcarrer/prepocessed-cmi-2025\"\n",
    "# The quantile of the sequences len used to pad/truncate during preprocessing\n",
    "SEQUENCE_NORMED_LEN_QUANTILE = 0.95\n",
    "# SAMPLING_FREQUENCY = 10 #Hz\n",
    "N_FOLDS = 5\n",
    "VALIDATION_FRACTION = 0.2\n",
    "TARGET_NAMES = sorted([\n",
    "    \"Above ear - pull hair\",\n",
    "    \"Cheek - pinch skin\",\n",
    "    \"Eyebrow - pull hair\",\n",
    "    \"Eyelash - pull hair\",\n",
    "    \"Feel around in tray and pull out an object\",\n",
    "    \"Forehead - pull hairline\",\n",
    "    \"Forehead - scratch\",\n",
    "    \"Neck - pinch skin\",\n",
    "    \"Neck - scratch\",\n",
    "    \"Text on phone\",\n",
    "    \"Wave hello\",\n",
    "    \"Write name in air\",\n",
    "    \"Write name on leg\",\n",
    "    \"Drink from bottle/cup\",\n",
    "    \"Pinch knee/leg skin\",\n",
    "    \"Pull air toward your face\",\n",
    "    \"Scratch knee/leg skin\",\n",
    "    \"Glasses on/off\"\n",
    "])\n",
    "EPSILON=1e-8\n",
    "DELTA_ROTATION_ANGULAR_VELOCITY_COLS = [\"angular_vel_x\", \"angular_vel_y\", \"angular_vel_z\"]\n",
    "DELTA_ROTATION_AXES_COLS = [\"rotation_axis_x\", \"rotation_axis_y\", \"rotation_axis_z\"]\n",
    "EULER_ANGLES_COLS = [\"euler_x\", \"euler_y\", \"euler_z\"]"
   ]
  },
  {
   "cell_type": "markdown",
   "id": "1c4bfefa",
   "metadata": {},
   "source": [
    "### Define function to get the feature columns\n",
    "Feature columns change over time so it's better to have a function to get them than manually update a variable every time we add/remove features."
   ]
  },
  {
   "cell_type": "code",
   "execution_count": 29,
   "id": "f3d40b15",
   "metadata": {},
   "outputs": [],
   "source": [
    "def get_feature_cols(df:DF) -> list[str]:\n",
    "    return sorted(list(set(df.columns) - set(META_DATA_COLUMNS) - set(TARGET_NAMES)))"
   ]
  },
  {
   "cell_type": "markdown",
   "id": "1eac0e5a",
   "metadata": {},
   "source": [
    "### Supress performance warngings"
   ]
  },
  {
   "cell_type": "code",
   "execution_count": 30,
   "id": "086420e2",
   "metadata": {},
   "outputs": [],
   "source": [
    "warnings.filterwarnings(\n",
    "    \"ignore\",\n",
    "    message=(\n",
    "        \"DataFrame is highly fragmented.  This is usually the result of \"\n",
    "        \"calling `frame.insert` many times.*\"\n",
    "    ),\n",
    "    category=pd.errors.PerformanceWarning,\n",
    ")"
   ]
  },
  {
   "cell_type": "markdown",
   "id": "7749c3bd",
   "metadata": {},
   "source": [
    "### device setup"
   ]
  },
  {
   "cell_type": "code",
   "execution_count": 31,
   "id": "aa7f99a1",
   "metadata": {},
   "outputs": [],
   "source": [
    "device = torch.device(\"cuda\") if torch.cuda.is_available() else torch.device(\"cpu\")"
   ]
  },
  {
   "cell_type": "markdown",
   "id": "6a563074",
   "metadata": {},
   "source": [
    "### Dataset Setup"
   ]
  },
  {
   "cell_type": "code",
   "execution_count": 32,
   "id": "68a94d76",
   "metadata": {},
   "outputs": [],
   "source": [
    "dataset_path = kagglehub.dataset_download(\n",
    "    handle=\"mauroabidalcarrer/prepocessed-cmi-2025\",\n",
    ")"
   ]
  },
  {
   "cell_type": "code",
   "execution_count": 33,
   "id": "2bc2e83c",
   "metadata": {},
   "outputs": [],
   "source": [
    "class CMIDataset(TensorDataset):\n",
    "    def __init__(\n",
    "        self,\n",
    "        parent_dir: str,\n",
    "        split: Optional[Literal[\"train\", \"validation\"]]=None,\n",
    "        subset: Optional[int]=None,\n",
    "        force_download=False\n",
    "    ):\n",
    "        dataset_path = kagglehub.dataset_download(\n",
    "            handle=\"mauroabidalcarrer/prepocessed-cmi-2025\",\n",
    "            force_download=force_download\n",
    "        )\n",
    "        parent_dir = join(dataset_path, \"preprocessed_dataset\", parent_dir)\n",
    "        split = \"\" if split is None else split + \"_\"\n",
    "        x = np.load(join(parent_dir, f\"{split}X.npy\")).swapaxes(1, 2)\n",
    "        y = np.load(join(parent_dir, f\"{split}Y.npy\"))\n",
    "        if subset is not None:\n",
    "            x = x[:subset]\n",
    "            y = y[:subset]\n",
    "        super().__init__(\n",
    "            torch.from_numpy(x), \n",
    "            torch.from_numpy(y),\n",
    "        )"
   ]
  },
  {
   "cell_type": "code",
   "execution_count": 34,
   "id": "5aae295d",
   "metadata": {},
   "outputs": [],
   "source": [
    "meta_data_path = join(\n",
    "    dataset_path,\n",
    "    \"preprocessed_dataset\",\n",
    "    \"full_dataset_meta_data.json\"\n",
    ")\n",
    "with open(meta_data_path, \"r\") as fp:\n",
    "    meta_data = json.load(fp)\n",
    "# Convert target names into a ndarray to index it batchwise.\n",
    "# meta_data[\"target_names\"] = np.asarray(meta_data[\"target_names\"])\n",
    "non_imu_feats_idx = [feat_idx for feat_idx, feat in enumerate(meta_data[\"feature_cols\"]) if feat.startswith((\"thm\", \"tof\"))]\n",
    "non_imu_feats = [feat for feat in meta_data[\"feature_cols\"] if feat.startswith((\"thm\", \"tof\"))]\n",
    "imu_feats_idx = [feat_idx for feat_idx, feat in enumerate(meta_data[\"feature_cols\"]) if not feat.startswith((\"thm\", \"tof\"))]\n",
    "imu_feats = [feat for feat in meta_data[\"feature_cols\"] if not feat.startswith((\"thm\", \"tof\"))]"
   ]
  },
  {
   "cell_type": "markdown",
   "id": "770ba482",
   "metadata": {
    "papermill": {
     "duration": 0.003885,
     "end_time": "2025-06-14T10:00:53.304635",
     "exception": false,
     "start_time": "2025-06-14T10:00:53.300750",
     "status": "completed"
    },
    "tags": []
   },
   "source": [
    "### kaggle notbook Imports"
   ]
  },
  {
   "cell_type": "code",
   "execution_count": 35,
   "id": "ee2b23af",
   "metadata": {
    "execution": {
     "iopub.execute_input": "2025-06-14T10:00:53.312369Z",
     "iopub.status.busy": "2025-06-14T10:00:53.311611Z",
     "iopub.status.idle": "2025-06-14T10:01:12.869917Z",
     "shell.execute_reply": "2025-06-14T10:01:12.869325Z"
    },
    "papermill": {
     "duration": 19.5636,
     "end_time": "2025-06-14T10:01:12.871307",
     "exception": false,
     "start_time": "2025-06-14T10:00:53.307707",
     "status": "completed"
    },
    "tags": []
   },
   "outputs": [],
   "source": [
    "import random\n",
    "import numpy as np\n",
    "import torch\n",
    "import os\n",
    "\n",
    "def seed_everything(seed=42):\n",
    "    \"\"\"Set all random seeds for reproducibility\"\"\"\n",
    "    random.seed(seed)\n",
    "    np.random.seed(seed)\n",
    "    torch.manual_seed(seed)\n",
    "    torch.cuda.manual_seed(seed)\n",
    "    torch.backends.cudnn.deterministic = True\n",
    "    torch.backends.cudnn.benchmark = False\n",
    "    os.environ['PYTHONHASHSEED'] = str(seed)\n",
    "    os.environ['CUBLAS_WORKSPACE_CONFIG'] = ':4096:8'\n",
    "    torch.use_deterministic_algorithms(True, warn_only=True)\n",
    "\n",
    "SEED = 42\n",
    "seed_everything(seed=SEED)\n",
    "\n",
    "import pandas as pd\n",
    "import polars as pl\n",
    "from sklearn.metrics import f1_score\n",
    "from sklearn.model_selection import train_test_split\n",
    "from sklearn.preprocessing import StandardScaler, LabelEncoder\n",
    "from sklearn.model_selection import GroupKFold\n",
    "from sklearn.utils.class_weight import compute_class_weight\n",
    "import joblib\n",
    "from tqdm import tqdm\n",
    "\n",
    "from torch import nn\n",
    "import torch.nn.functional as F\n",
    "import torch.optim as optim\n",
    "from torch.utils.data import Dataset, DataLoader\n",
    "# from tensorflow.keras.preprocessing.sequence import pad_sequences as keras_pad_sequences\n",
    "\n",
    "import kaggle_evaluation.cmi_inference_server\n",
    "from matplotlib import pyplot as plt"
   ]
  },
  {
   "cell_type": "markdown",
   "id": "2161df0c",
   "metadata": {
    "papermill": {
     "duration": 0.00278,
     "end_time": "2025-06-14T10:01:12.877551",
     "exception": false,
     "start_time": "2025-06-14T10:01:12.874771",
     "status": "completed"
    },
    "tags": []
   },
   "source": [
    "## Read data"
   ]
  },
  {
   "cell_type": "code",
   "execution_count": 36,
   "id": "e657c570",
   "metadata": {
    "execution": {
     "iopub.execute_input": "2025-06-14T10:01:12.884365Z",
     "iopub.status.busy": "2025-06-14T10:01:12.883937Z",
     "iopub.status.idle": "2025-06-14T10:01:45.309186Z",
     "shell.execute_reply": "2025-06-14T10:01:45.308564Z"
    },
    "papermill": {
     "duration": 32.430139,
     "end_time": "2025-06-14T10:01:45.310511",
     "exception": false,
     "start_time": "2025-06-14T10:01:12.880372",
     "status": "completed"
    },
    "tags": []
   },
   "outputs": [
    {
     "name": "stdout",
     "output_type": "stream",
     "text": [
      "Loading datasets...\n",
      "Train rows: 574945, Test rows: 107\n"
     ]
    }
   ],
   "source": [
    "print(\"Loading datasets...\")\n",
    "competition_dataset_path = kagglehub.competition_download(COMPETITION_HANDLE)\n",
    "train_df = pd.read_csv(join(competition_dataset_path, \"train.csv\"))\n",
    "train_dem_df = pd.read_csv(join(competition_dataset_path, \"train_demographics.csv\"))\n",
    "test_df = pd.read_csv(join(competition_dataset_path, \"test.csv\"))\n",
    "test_dem_df = pd.read_csv(join(competition_dataset_path, \"test_demographics.csv\"))\n",
    "print(f\"Train rows: {len(train_df)}, Test rows: {len(test_df)}\")\n",
    "\n",
    "# Encode labels\n",
    "label_encoder = LabelEncoder()\n",
    "train_df['gesture'] = label_encoder.fit_transform(train_df['gesture'].astype(str))\n",
    "gesture_classes = label_encoder.classes_\n",
    "\n",
    "bfrb_gestures = [\n",
    "    'Above ear - pull hair',\n",
    "    'Forehead - pull hairline',\n",
    "    'Forehead - scratch',\n",
    "    'Eyebrow - pull hair',\n",
    "    'Eyelash - pull hair',\n",
    "    'Neck - pinch skin',\n",
    "    'Neck - scratch',\n",
    "    'Cheek - pinch skin'\n",
    "]\n",
    "bfrb_indices = label_encoder.transform(bfrb_gestures)\n",
    "\n",
    "# imu_cols = ['acc_x', 'acc_y', 'acc_z', 'rot_w', 'rot_x', 'rot_y', 'rot_z']\n",
    "# tof_thm_cols = [c for c in train_df.columns if c.startswith('thm_') or c.startswith('tof_')]\n",
    "\n",
    "# # Reorder so that IMU features come first\n",
    "# feature_cols = imu_cols + tof_thm_cols\n",
    "# imu_dim = len(imu_cols)\n",
    "# tof_thm_dim = len(tof_thm_cols)\n",
    "\n",
    "# print(f\"IMU features: {imu_dim}, TOF/Thermal features: {tof_thm_dim}, Total features: {len(feature_cols)}\")\n",
    "\n",
    "# # Check for missing values\n",
    "# nan_counts = train_df[feature_cols].isna().sum().sum()\n",
    "# print(\"Total NaNs in train features:\", nan_counts)\n",
    "\n",
    "\n",
    "# # to remove hand dependency in IMU data\n",
    "# # im not sure if the rotation is on the x axis but this give me the best CV\n",
    "# def apply_symmetry(data):\n",
    "#     transformed = data.copy()\n",
    "#     transformed['acc_z'] = -transformed['acc_z']\n",
    "#     transformed['acc_y'] = -transformed['acc_y']\n",
    "    \n",
    "#     transformed['rot_w'] = transformed['rot_w']\n",
    "#     transformed['rot_x'] = transformed['rot_x']\n",
    "#     transformed['rot_y'] = -transformed['rot_y']\n",
    "#     transformed['rot_z'] = -transformed['rot_z']\n",
    "#     return transformed\n",
    "\n",
    "\n",
    "# train_df = train_df.merge(\n",
    "#     train_dem_df,\n",
    "#     on='subject',\n",
    "#     how='left',\n",
    "#     validate='many_to_one'\n",
    "# )\n",
    "\n",
    "# right_handed_mask = train_df['handedness'] == 1\n",
    "# train_df.loc[right_handed_mask, imu_cols] = apply_symmetry(train_df.loc[right_handed_mask, imu_cols])"
   ]
  },
  {
   "cell_type": "markdown",
   "id": "3401f4be",
   "metadata": {
    "papermill": {
     "duration": 0.002901,
     "end_time": "2025-06-14T10:01:45.316824",
     "exception": false,
     "start_time": "2025-06-14T10:01:45.313923",
     "status": "completed"
    },
    "tags": []
   },
   "source": [
    "### Create kaggle notebook dataset"
   ]
  },
  {
   "cell_type": "code",
   "execution_count": 37,
   "id": "bc95681e",
   "metadata": {
    "execution": {
     "iopub.execute_input": "2025-06-14T10:01:45.324206Z",
     "iopub.status.busy": "2025-06-14T10:01:45.323690Z",
     "iopub.status.idle": "2025-06-14T10:01:56.072176Z",
     "shell.execute_reply": "2025-06-14T10:01:56.071543Z"
    },
    "papermill": {
     "duration": 10.753531,
     "end_time": "2025-06-14T10:01:56.073459",
     "exception": false,
     "start_time": "2025-06-14T10:01:45.319928",
     "status": "completed"
    },
    "tags": []
   },
   "outputs": [],
   "source": [
    "# sequences = train_df.groupby('sequence_id')\n",
    "# X_list = []\n",
    "# lengths = []\n",
    "# y_list = []\n",
    "\n",
    "# sequence_info = []\n",
    "# for i, (seq_id, seq) in enumerate(sequences):\n",
    "#     seq_data = seq[feature_cols].ffill().bfill().fillna(0).values\n",
    "#     X_list.append(seq_data)\n",
    "#     lengths.append(seq_data.shape[0])\n",
    "#     sequence_info.append({\n",
    "#         'sequence_id': seq_id,\n",
    "#         'subject': seq['subject'].iloc[0],\n",
    "#         'gesture': seq['gesture'].iloc[0]\n",
    "#     })\n",
    "\n",
    "# pad_len = int(np.percentile(lengths, 90))\n",
    "# print(f\"Pad/truncate all sequences to length {pad_len} (90th percentile).\")\n",
    "\n",
    "# seq_df = pd.DataFrame(sequence_info)\n",
    "# X_array = keras_pad_sequences(\n",
    "#     X_list,\n",
    "#     maxlen=pad_len,\n",
    "#     dtype='float32',\n",
    "#     padding='post',\n",
    "#     truncating='post'\n",
    "# )  # shape: (n_samples, pad_len, total_features)\n",
    "\n",
    "# y_array = seq_df['gesture'].values  # shape: (n_samples,)\n",
    "\n",
    "# num_classes = len(np.unique(y_array))\n",
    "# y_array = np.eye(num_classes)[y_array]  # shape: (n_samples, num_classes)\n",
    "\n",
    "# # Transpose to (n_samples, features, seq_len) for PyTorch\n",
    "# X_array = np.transpose(X_array, (0, 2, 1))\n",
    "\n",
    "\n",
    "# class SequenceDataset(Dataset):\n",
    "#     def __init__(self, X, y=None):\n",
    "#         \"\"\"\n",
    "#         X: np.ndarray of shape (n_samples, features, seq_len)\n",
    "#         y: np.ndarray of shape (n_samples, num_classes) or None for test\n",
    "#         \"\"\"\n",
    "#         self.X = torch.from_numpy(X).float()\n",
    "#         self.y = torch.from_numpy(y).float() if y is not None else None\n",
    "\n",
    "#     def __len__(self):\n",
    "#         return self.X.size(0)\n",
    "\n",
    "#     def __getitem__(self, idx):\n",
    "#         if self.y is not None:\n",
    "#             return self.X[idx], self.y[idx]\n",
    "#         else:\n",
    "#             return self.X[idx]"
   ]
  },
  {
   "cell_type": "markdown",
   "id": "9c54244a",
   "metadata": {},
   "source": [
    "## Model definition"
   ]
  },
  {
   "cell_type": "code",
   "execution_count": 38,
   "id": "80ae01a8",
   "metadata": {},
   "outputs": [],
   "source": [
    "class SqueezeExcitationBlock(nn.Module):\n",
    "    # Copy/paste of https://www.kaggle.com/code/wasupandceacar/lb-0-82-5fold-single-bert-model#Model implementation\n",
    "    def __init__(self, channels:int, reduction:int=8):\n",
    "        super().__init__()\n",
    "        self.fc1 = nn.Linear(channels, channels // reduction, bias=True)\n",
    "        self.fc2 = nn.Linear(channels // reduction, channels, bias=True)\n",
    "        self.sigmoid = nn.Sigmoid()\n",
    "\n",
    "    def forward(self, x):\n",
    "        # x: (B, C, L)\n",
    "        se = F.adaptive_avg_pool1d(x, 1).squeeze(-1)      # -> (B, C)\n",
    "        se = F.relu(self.fc1(se), inplace=True)          # -> (B, C//r)\n",
    "        se = self.sigmoid(self.fc2(se)).unsqueeze(-1)    # -> (B, C, 1)\n",
    "        return x * se\n",
    "\n",
    "class ResidualBlock(nn.Module):\n",
    "    def __init__(self, in_chns:int, out_chns:int):\n",
    "        super().__init__()\n",
    "        self.blocks = nn.Sequential(\n",
    "            nn.Conv1d(in_chns, out_chns, kernel_size=3, padding=1),\n",
    "            nn.BatchNorm1d(out_chns),\n",
    "            nn.ReLU(),\n",
    "            nn.Conv1d(out_chns, out_chns, kernel_size=3, padding=1),\n",
    "            nn.BatchNorm1d(out_chns),\n",
    "            SqueezeExcitationBlock(out_chns),\n",
    "        )\n",
    "        if in_chns == out_chns:\n",
    "            self.skip_connection = nn.Identity() \n",
    "        else:\n",
    "            # TODO: set bias to False ?\n",
    "            self.skip_connection = nn.Sequential(\n",
    "                nn.Conv1d(in_chns, out_chns, 1),\n",
    "                nn.BatchNorm1d(out_chns)\n",
    "            )\n",
    "\n",
    "    def forward(self, x:Tensor) -> Tensor:\n",
    "        activaition_maps = self.skip_connection(x) + self.blocks(x)\n",
    "        return nn.functional.relu(activaition_maps)\n",
    "\n",
    "class Resnet(nn.Module):\n",
    "    def __init__(\n",
    "            self,\n",
    "            in_channels:int,\n",
    "            depth:int,\n",
    "            # n_res_block_per_depth:int,\n",
    "            mlp_width:int,\n",
    "            n_class:int,\n",
    "        ):\n",
    "        super().__init__()\n",
    "        chs_per_depth = [in_channels * 2 ** i for i in range(depth)]\n",
    "        blocks_chns_it = pairwise(chs_per_depth)\n",
    "        self.res_blocks = [ResidualBlock(in_chns, out_chns) for in_chns, out_chns in blocks_chns_it]\n",
    "        self.res_blocks = nn.ModuleList(self.res_blocks)\n",
    "        self.mlp_head = nn.Sequential(\n",
    "            nn.LazyLinear(mlp_width),\n",
    "            nn.ReLU(),\n",
    "            nn.Linear(mlp_width, n_class),\n",
    "            nn.Softmax(dim=1),\n",
    "        )\n",
    "        \n",
    "        \n",
    "    def forward(self, x:Tensor) -> Tensor:\n",
    "        activation_maps = x\n",
    "        for res_block in self.res_blocks:\n",
    "            activation_maps = nn.functional.max_pool1d(res_block(activation_maps), 2)\n",
    "        # print(\"res block output shape:\", activation_maps.shape)\n",
    "        out = activation_maps.view(activation_maps.shape[0], -1)\n",
    "        # print(\"flatten mlp head input shape:\", out.shape)\n",
    "        out = self.mlp_head(out)\n",
    "        return out    "
   ]
  },
  {
   "cell_type": "markdown",
   "id": "bfc08e41",
   "metadata": {},
   "source": [
    "### Create model function"
   ]
  },
  {
   "cell_type": "code",
   "execution_count": 39,
   "id": "36e3e463",
   "metadata": {},
   "outputs": [
    {
     "name": "stdout",
     "output_type": "stream",
     "text": [
      "input channels: 66\n"
     ]
    }
   ],
   "source": [
    "def mk_model() -> nn.Module:\n",
    "    nb_in_chans = len(meta_data[\"feature_cols\"])\n",
    "    return (\n",
    "        Resnet(\n",
    "            in_channels=nb_in_chans,\n",
    "            depth=4,\n",
    "            mlp_width=256,\n",
    "            n_class=18\n",
    "        )\n",
    "        .to(device)\n",
    "    )\n",
    "\n",
    "print(\"input channels:\", len(meta_data[\"feature_cols\"]))"
   ]
  },
  {
   "cell_type": "markdown",
   "id": "8afc6e79",
   "metadata": {},
   "source": [
    "### Training loop"
   ]
  },
  {
   "cell_type": "code",
   "execution_count": 46,
   "id": "a69ec966",
   "metadata": {},
   "outputs": [],
   "source": [
    "def fit(epochs:int,\n",
    "        model: nn.Module,\n",
    "        scheduler: LRScheduler,\n",
    "        optimizer: torch.optim.Optimizer,\n",
    "        train_loader: DL,\n",
    "        criterion: callable=nn.L1Loss(),\n",
    "        evaluation_func: callable=None,\n",
    "        validation_loader: DL=None,\n",
    "        save_checkpoints=True,\n",
    "    ) -> tuple[DF, str]:\n",
    "    \"\"\"\n",
    "    Returns:\n",
    "        (training_metrics, path_to_checkpoints)\n",
    "    \"\"\"\n",
    "    # Setup\n",
    "    metrics: list[dict] = []\n",
    "    step = 0\n",
    "    model_device = next(model.parameters()).device\n",
    "    last_epoch_metric = {}\n",
    "    # Training loop\n",
    "    with Progress() as progress:\n",
    "        task: Task = progress.add_task(\n",
    "            \"training...\",\n",
    "            total=len(train_loader),\n",
    "        )\n",
    "        for epoch in range(epochs):\n",
    "            progress.update(\n",
    "                task,\n",
    "                description=f\"epoch: {epoch}\",\n",
    "                completed=0,\n",
    "            )\n",
    "            total_epoch_loss = 0\n",
    "            total_accuracy = 0\n",
    "            for batch_idx, (x, y) in enumerate(train_loader):\n",
    "                # forward\n",
    "                x = x.to(model_device)\n",
    "                y = y.to(model_device)\n",
    "                model.train()\n",
    "                optimizer.zero_grad()\n",
    "                y_pred: Tensor = model(x)\n",
    "                loss_value = criterion(y_pred, y)\n",
    "                # Verify loss value\n",
    "                if torch.isnan(loss_value).any().item():\n",
    "                    progress.print(\"Warning: Got NaN loss, stopped training.\")\n",
    "                    return DF.from_records(metrics)\n",
    "                if torch.isinf(loss_value).any().item():\n",
    "                    progress.print(\"Warning: Got infinite loss, stopped training.\")\n",
    "                    return DF.from_records(metrics)\n",
    "                # TODO: Use gradient clipping?\n",
    "                loss_value.backward()\n",
    "                optimizer.step()\n",
    "                if step > 0: # If it's not the first training step, idk why it throws an error otherwise\n",
    "                    scheduler.step()\n",
    "                # metrics\n",
    "                total_epoch_loss += loss_value.item()\n",
    "                metrics.append({\n",
    "                    \"step\": step,\n",
    "                    \"epoch\": epoch,\n",
    "                    \"batch_train_loss\": loss_value.item(),\n",
    "                    \"lr\": optimizer.state_dict()[\"param_groups\"][-1][\"lr\"],\n",
    "                })\n",
    "                step += 1\n",
    "                if \"validation_accuracy\" in last_epoch_metric:\n",
    "                    last_validation_acc = \"%.2f\" % last_epoch_metric[\"validation_accuracy\"]\n",
    "                    val_acc_str = \"val. acc: \" + last_validation_acc\n",
    "                else:\n",
    "                    val_acc_str = \"\"\n",
    "                progress.update(\n",
    "                    task,\n",
    "                    advance=1,\n",
    "                    description=f\"epoch: {epoch}, batch_loss: {(total_epoch_loss / (batch_idx+1)):.2f}, {val_acc_str}\"\n",
    "                )\n",
    "            # Post epoch evalution\n",
    "            metrics[-1][\"train_epoch_loss\"] = total_epoch_loss / len(train_loader)\n",
    "            metrics[-1][\"train_epoch_accuracy\"] = total_accuracy / len(train_loader)\n",
    "            if evaluation_func:\n",
    "                progress.update(\n",
    "                    task,\n",
    "                    completed=0,\n",
    "                    description=f\"epoch: {epoch}, evaluating...\"\n",
    "                )\n",
    "                eval_metrics = evaluation_func(model, criterion, validation_loader)\n",
    "                metrics[-1].update(eval_metrics)\n",
    "            last_epoch_metric = metrics[-1]\n",
    "\n",
    "    return DF.from_records(metrics)"
   ]
  },
  {
   "cell_type": "markdown",
   "id": "5a490227",
   "metadata": {},
   "source": [
    "### Create model and train model"
   ]
  },
  {
   "cell_type": "code",
   "execution_count": 48,
   "id": "34cd5bba",
   "metadata": {},
   "outputs": [],
   "source": [
    "def mk_model_and_fit(\n",
    "        train_loader:DL,\n",
    "        mk_scheduler:callable,\n",
    "        validation_loader:Optional[DL]=None,\n",
    "        save_checkpoints=False,\n",
    "    ) -> tuple[nn.Module, DF, list[str]]:\n",
    "    model = mk_model()\n",
    "    optimizer = torch.optim.AdamW(model.parameters(), STARTING_LR)\n",
    "    lr_scheduler = mk_scheduler(optimizer)\n",
    "    training_metrics = fit(\n",
    "        epochs=TRAINING_EPOCHS,\n",
    "        model=model,\n",
    "        scheduler=lr_scheduler,\n",
    "        optimizer=optimizer,\n",
    "        train_loader=train_loader,\n",
    "        criterion=nn.CrossEntropyLoss(),\n",
    "        # evaluation_func=evaluate_model if validation_loader else None,\n",
    "        validation_loader=validation_loader,\n",
    "        save_checkpoints=save_checkpoints,\n",
    "    )\n",
    "\n",
    "    return model, training_metrics"
   ]
  },
  {
   "cell_type": "markdown",
   "id": "9256152c",
   "metadata": {},
   "source": [
    "## Search max learning rate"
   ]
  },
  {
   "cell_type": "code",
   "execution_count": 42,
   "id": "40b0c8ef",
   "metadata": {},
   "outputs": [],
   "source": [
    "def post_process_mock_training_metrics(training_metrics:DF) -> DF:\n",
    "    training_metrics = (\n",
    "        training_metrics\n",
    "        .query(\"batch_train_loss.notna()\")\n",
    "        .set_index(\"lr\", drop=False)\n",
    "        .sort_index()\n",
    "    )\n",
    "    training_metrics[\"ewm_batch_train_loss\"] = (\n",
    "        training_metrics\n",
    "        .ewm(com=30, ignore_na=False)\n",
    "        [\"batch_train_loss\"]\n",
    "        .mean()\n",
    "    )\n",
    "    training_metrics[\"ewm_batch_train_loss_diff\"] = training_metrics[\"ewm_batch_train_loss\"].diff()\n",
    "    return training_metrics"
   ]
  },
  {
   "cell_type": "code",
   "execution_count": 43,
   "id": "7c231028",
   "metadata": {},
   "outputs": [],
   "source": [
    "def plt_lr_search_training_metrics(training_metrics:DF):\n",
    "    (    \n",
    "        px.line(\n",
    "            (\n",
    "                training_metrics\n",
    "                .reset_index(drop=True)\n",
    "                .melt(\n",
    "                    id_vars=\"lr\",\n",
    "                    value_vars=[\n",
    "                        \"batch_train_loss\",\n",
    "                        \"ewm_batch_train_loss\",\n",
    "                        \"ewm_batch_train_loss_diff\",\n",
    "                    ],\n",
    "                )\n",
    "            ),\n",
    "            x=\"lr\",\n",
    "            facet_row=\"variable\",\n",
    "            y=\"value\",\n",
    "            log_x=True,\n",
    "            height=750,\n",
    "        )\n",
    "        .update_yaxes(matches=None)\n",
    "        .show()\n",
    "    )"
   ]
  },
  {
   "cell_type": "code",
   "execution_count": 49,
   "id": "e9ae0c04",
   "metadata": {},
   "outputs": [
    {
     "data": {
      "application/vnd.jupyter.widget-view+json": {
       "model_id": "9c762cdf8b6a46da8740f30680bc2a59",
       "version_major": 2,
       "version_minor": 0
      },
      "text/plain": [
       "Output()"
      ]
     },
     "metadata": {},
     "output_type": "display_data"
    },
    {
     "data": {
      "text/html": [
       "<pre style=\"white-space:pre;overflow-x:auto;line-height:normal;font-family:Menlo,'DejaVu Sans Mono',consolas,'Courier New',monospace\">Warning: Got NaN loss, stopped training.\n",
       "</pre>\n"
      ],
      "text/plain": [
       "Warning: Got NaN loss, stopped training.\n"
      ]
     },
     "metadata": {},
     "output_type": "display_data"
    },
    {
     "data": {
      "text/html": [
       "<pre style=\"white-space:pre;overflow-x:auto;line-height:normal;font-family:Menlo,'DejaVu Sans Mono',consolas,'Courier New',monospace\"></pre>\n"
      ],
      "text/plain": []
     },
     "metadata": {},
     "output_type": "display_data"
    },
    {
     "data": {
      "application/vnd.plotly.v1+json": {
       "config": {
        "plotlyServerURL": "https://plot.ly"
       },
       "data": [
        {
         "hovertemplate": "variable=batch_train_loss<br>lr=%{x}<br>value=%{y}<extra></extra>",
         "legendgroup": "",
         "line": {
          "color": "#636efa",
          "dash": "solid"
         },
         "marker": {
          "symbol": "circle"
         },
         "mode": "lines",
         "name": "",
         "showlegend": false,
         "type": "scattergl",
         "x": {
          "bdata": "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",
          "dtype": "f8"
         },
         "xaxis": "x3",
         "y": {
          "bdata": "AAAAgPEhB0AAAACAg/UGQAAAAEAKjAZAAAAAgOCHBkAAAACAYVkGQAAAAIBCUgZAAAAAwLNXBkAAAADAGOkFQAAAAEAvTAZAAAAA4KUXBkAAAACAi/QFQAAAAIB+xAVAAAAAwFLQBUAAAAAgEF0FQAAAAOCycQVAAAAAQBeEBUAAAACg8TUFQAAAAMB/HAVAAAAAAHpABUAAAACAB3cFQAAAAIDwOwVAAAAAAGOBBUAAAADAcTsFQAAAAICcMwVAAAAAwDmCBUAAAABAl5UFQAAAAMAjawVAAAAAwEaWBUAAAAAghEIFQAAAAEDGRgVAAAAAoHW7BEAAAAAgtx0FQAAAAAAHTAVAAAAAwHRnBUAAAAAAJmkFQAAAAGCe6ARAAAAA4BNPBUAAAACg6XUFQAAAAABfiAVAAAAAAKN4BUAAAACAjMsEQAAAAKAPqwRAAAAAYK32BEAAAADgRGsFQAAAAIBzIgVAAAAA4ByPBUAAAABg0A4FQAAAAEBcaAVAAAAAoEd7BUAAAAAAHyEFQAAAAMDRQgVAAAAAgA5IBUAAAABgxjsFQAAAAIASxQRAAAAAwKz2BEAAAABglwkFQAAAAGCGXAVAAAAAwCxnBUAAAADA3VYFQAAAAGDU+wRAAAAAAEdHBUAAAAAArxQFQAAAAEBdPwVAAAAAQLXYBEAAAACA78sEQAAAAGCHJgVAAAAAgNLyBEAAAADABuMEQAAAAIB7GAVAAAAAwBrZBEAAAACgrhwFQAAAAKCpLAVAAAAAwBbgBEAAAACgyC0FQAAAAIAROwVAAAAAgEvfBEAAAABAXtkEQAAAAEDhagVAAAAAgPMTBUAAAACAfdgEQAAAACB3+QRAAAAA4O8LBUAAAAAAuAoFQAAAAEAdyARAAAAAQNj9BEAAAAAAx+4EQAAAAABFLgVAAAAAABjUBEAAAAAAOt4EQAAAAEByPgVAAAAAQFoNBUAAAAAARdoEQAAAAMDBSgVAAAAAoLTlBEAAAACgZXMFQAAAAECJXwVAAAAA4L8YBUAAAABAvtwEQAAAACC09gRAAAAAABnkBEAAAACAaxQFQAAAAMAH2gRAAAAAQB68BEAAAADA4BgFQAAAACC8/gRAAAAAwLofBUAAAABAlSIFQAAAAOCIzgRAAAAAgNSSBEAAAAAA86AFQAAAAGDTywRAAAAAQHGPBUAAAACAqugEQAAAAABMKwVAAAAAwJn2BEAAAACAutYEQAAAAGCcFAVAAAAAYFfwBEAAAACAiHkFQAAAAEDR/gRAAAAAAADWBEAAAABApf4EQAAAAODDGgVAAAAAgCzBBEAAAACA0jIFQAAAAEBnLAVAAAAAQDIIBUAAAABAkXAFQAAAAACWnwRAAAAAAA3NBEAAAADgwFQFQAAAAEDBAQVAAAAAwNQLBUAAAAAgpEoFQAAAAMBhjwRAAAAAAIshBUAAAADAZPgEQAAAAECIqwRAAAAAwNveBEAAAABArqIEQAAAAAB4DgVAAAAAAIgVBUAAAABA4OkEQAAAAKC07wRAAAAAgA3mBEAAAADAHyAFQAAAAAD0dwVAAAAAAPRVBUAAAADAiBEFQAAAAIBg7ARAAAAA4LQABUAAAADg5ewEQAAAAAAeNgVAAAAAoF9WBUAAAACAWS8FQAAAAEDVWAVAAAAAAKmQBUAAAADAfa0FQAAAAADKiQVAAAAAAGdBBUAAAACAng8FQAAAAEAKHQVAAAAAoBAxBUAAAACgN2IFQAAAAKAvnAVAAAAAwMsVBUAAAADAXP8EQAAAAICZtwRAAAAAYBIWBUAAAABAtVQFQAAAAICz/wRAAAAAQJQHBUAAAABgbxoFQAAAAODn4QRAAAAAwKjrBEAAAADAMokEQAAAACD3OAVAAAAAIPhRBUAAAAAAUfsEQAAAAGDaQgVAAAAAQDqDBUAAAABAdFcFQAAAAACH8gRAAAAAACvpBEAAAAAA11IFQAAAAOAOCgVAAAAAwMlDBUAAAABAbjsFQAAAAAAP4ARAAAAAoOMpBUAAAACgAQ8FQAAAAEBO2QRAAAAAIJ5GBUAAAADAARUFQAAAAMDiNQVAAAAAwBRLBUAAAAAABqIFQAAAAODMXgVAAAAAgJCfBUAAAAAAHQoFQAAAAGC7HQVAAAAAwFxqBUAAAAAAiaMFQAAAAIDusgVAAAAAIEj+BEAAAABA89sFQAAAAAC2rAVAAAAAAItKBUAAAAAAkREFQAAAAKCLKgVAAAAAwDYABkAAAABgIT8FQAAAAECQEgVAAAAAwFA/BUAAAAAAm2EFQAAAAABYiQVAAAAAAAkhBUAAAAAA+CsFQAAAAGDOIgVAAAAAQPZSBUAAAACAN2YFQAAAACA3LAVAAAAAwNYKBUAAAABgdAQFQAAAAED5UAVAAAAAwBIBBUAAAACArMEFQAAAAECL0ARAAAAAQFLuBEAAAABA0kgFQAAAAIC9/QRAAAAAIEBDBkAAAABAD4EFQAAAAABjOAVAAAAAwHByBUAAAABAoSUFQAAAAICgPQVAAAAAIML7BEAAAAAACSEFQAAAAICr2AVAAAAAgDz7BUAAAAAAlpAFQAAAAAAaowVAAAAAwDa1BUAAAABArYYFQAAAAMDviQVAAAAAAPRPBUAAAADg/psFQAAAACBhjAVAAAAAYI7hBUAAAABAnrkFQAAAAEA24QVAAAAAAO12BkAAAADALnEGQAAAAMCqlwVAAAAAoP6eBUAAAABAr6EFQAAAAECIRAZAAAAAQLsGBkAAAABABtoFQAAAAMA0sQVAAAAAYJmtBUAAAAAgjzEGQAAAAGDoIAZAAAAAwCDpBUAAAACAKegFQAAAAMCT4QVAAAAAgAnNBUAAAAAA7VIGQAAAAECXAQZAAAAA4IEgBkAAAADAWRQGQAAAAADH4gVAAAAAQDH7BUAAAAAA9PUFQAAAAACkWQVAAAAAoF8FBkAAAABAa0IGQAAAAMBYmgVAAAAAYADaBUAAAADAIBIGQAAAAIDgSAZAAAAAYMqwBUAAAADAtMEFQAAAAMARqgVAAAAAAKhRBkAAAABg+GEGQAAAAKCvlQZAAAAAYAmTBUAAAACg+kIGQAAAAAC8SQZAAAAAQCzyBUAAAADAGgoGQAAAAIAiKgZAAAAAAAMKBkAAAADAwdkFQAAAAABCJwZAAAAAgCJKBkAAAACAkSkGQAAAAIAyYgZAAAAAgP4BBkAAAADAmAEGQAAAAMB9DgZAAAAAAGFmBkAAAADgkNMFQAAAAIAZCgZAAAAAAEELBkAAAAAg8AEGQAAAACAD+gVAAAAAAAM9BkAAAADAFSkGQAAAAIAMTAZAAAAAAEUdBkAAAACgetYFQAAAAAACOgZAAAAAwB9nBkAAAACgk2MGQAAAAADgLwZAAAAAwAcCBkAAAACgR/QFQAAAAIC/OQZAAAAAYFtdBkAAAABAPkoGQAAAAIDoIQZAAAAAgJFDBkAAAAAABEIGQAAAAABNQQZAAAAAYGP/BUAAAACA4lEGQAAAAKBP3QVAAAAAwBIqBkAAAADA9nkGQAAAAAAiAgZAAAAAYMs7BkAAAACAHQIGQAAAAAAuEgZAAAAAAKhKBkAAAACg/1kGQAAAAEAjWgZAAAAAwPppBkAAAADA5BkGQAAAAEDBIQZAAAAAgKyKBkAAAAAAMkIGQAAAAMBOYgZAAAAA4Ce6BkAAAAAg68EGQAAAAAAzKgdAAAAAADUyB0AAAAAANRIHQAAAAKAKKgdAAAAAQMxBB0AAAAAANUIHQAAAAAA1UgdAAAAAADVyB0AAAAAANUIHQAAAAAA1KgdAAAAAADUqB0AAAAAANWoHQAAAAAA1UgdAAAAAADUqB0AAAAAANVIHQAAAAAA1QgdAAAAAADViB0AAAAAANWIHQAAAAAA1+gZAAAAAADXCBkAAAAAANVoHQAAAAAA1UgdAAAAAADXiBkAAAAAANToHQAAAAAA1WgdAAAAAADUqB0AAAAAANSoHQAAAAAA1EgdAAAAAADVCB0AAAAAANTIHQAAAAAA1cgdAAAAAADVaB0AAAAAANVIHQAAAAAA1CgdAAAAAADUiB0AAAAAANRIHQAAAAMBSSwdAAAAAADVKB0AAAAAANQIHQAAAAAA1MgdAAAAAADUyB0AAAAAANUoHQAAAAAA1SgdAAAAAADUiB0AAAAAANXIHQAAAAAA1UgdAAAAAADUiB0AAAAAANRIHQAAAAAA1QgdAAAAAADUiB0AAAAAANXIHQAAAAAA1WgdAAAAAADVSB0AAAAAANSIHQAAAAAA1IgdAAAAAADViB0AAAAAANRIHQAAAAAA1SgdAAAAAADUqB0AAAAAANToHQAAAAAA1QgdAAAAAADX6BkAAAAAANToHQAAAAAA1CgdAAAAAADVKB0AAAAAANWoHQAAAAAA1WgdAAAAAADUqB0AAAACgRTgHQAAAAAA1EgdAAAAAADVqB0AAAAAANSoHQAAAAAA1QgdAAAAAADVCB0AAAAAANToHQAAAAAA1IgdAAAAAADU6B0AAAAAANXIHQAAAAAA1OgdAAAAAADVCB0AAAAAANTIHQAAAAAA1OgdAAAAAADWKB0AAAAAANVIHQAAAAAA1AgdAAAAAADVKB0AAAAAANcoGQAAAAAA1KgdAAAAAADUiB0AAAAAANVoHQAAAAAA1agdAAAAAADUyB0AAAAAANSIHQAAAAAA1WgdAAAAAADU6B0AAAAAANRoHQAAAAAA1YgdAAAAAADVKB0AAAAAANWoHQAAAAAA1KgdAAAAAIPfFBkAAAAAANVoHQAAAAAA1AgdAAAAAADU6B0AAAAAANVIHQAAAAAA1UgdAAAAAADUqB0AAAAAANVoHQAAAAAA1IgdAAAAAADUiB0AAAAAANRoHQAAAAAA1SgdAAAAAADViB0AAAAAANVoHQAAAAAA1WgdAAAAAADUqB0AAAAAANTIHQAAAAAA1agdAAAAAADUiB0AAAAAANQIHQAAAAAA1IgdAAAAAADVaB0AAAAAANVIHQAAAAAA1GgdAAAAAADVSB0AAAAAANTIHQAAAAAA1GgdAAAAAADVaB0AAAAAANXIHQAAAAAA1GgdAAAAAADUiB0AAAAAANRoHQAAAAIA4JQdAAAAAADVaB0AAAAAANUoHQAAAAAA1KgdAAAAAADVCB0AAAAAANVoHQAAAAAA1+gZAAAAAADVKB0AAAAAANUoHQAAAAAA1KgdAAAAAADVKB0AAAAAANToHQAAAAAA1WgdAAAAAADVKB0AAAAAANVIHQAAAAAA1cgdAAAAAADUyB0AAAAAANSoHQAAAAAA1KgdAAAAAADUKB0AAAAAANSoHQAAAAAA1CgdAAAAAADUyB0AAAAAANToHQAAAAAA1MgdAAAAAADXyBkAAAAAANVIHQAAAAAA1WgdAAAAAADVSB0AAAAAANUIHQAAAAAA1SgdAAAAAADU6B0AAAADgpAgHQAAAAAA1WgdAAAAAADVCB0AAAAAANWoHQAAAAAA1agdAAAAAADVKB0AAAAAANVoHQAAAAAA1KgdAAAAAADVSB0AAAAAANSoHQAAAAAA1EgdAAAAAADVSB0AAAAAANUIHQAAAAAA1KgdAAAAAADUiB0AAAAAANQoHQAAAAAA1YgdAAAAAADXiBkAAAAAANTIHQAAAAAA1igdAAAAAADVSB0AAAAAANRIHQAAAAAA18gZAAAAAADVCB0AAAAAANSIHQAAAAAA1KgdAAAAAADUaB0AAAAAANXIHQAAAAAA1agdAAAAAADU6B0AAAAAANSoHQAAAAAA1AgdAAAAAQMxBB0AAAAAANTIHQAAAAAA1UgdAAAAAADVCB0AAAAAANQIHQAAAAAA1WgdAAAAAADUqB0AAAAAANTIHQAAAAAA1YgdAAAAAADVaB0AAAAAANToHQAAAAAA1AgdAAAAAADUKB0AAAAAANRoHQAAAAAA1GgdAAAAAADU6B0AAAAAANVIHQAAAAAA1MgdAAAAAADVqB0AAAAAANSoHQAAAAAA1agdAAAAAADU6B0AAAAAANWoHQAAAAAA1egdAAAAAADVqB0AAAAAANVIHQAAAAAA1QgdAAAAAADUaB0AAAAAANQoHQAAAAAA1OgdAAAAAADUCB0AAAAAANTIHQAAAAIArEgdAAAAAADVaB0AAAAAANUIHQAAAAAA1MgdAAAAAADUiB0AAAAAANRoHQAAAAAA1EgdAAAAAADXqBkAAAAAANWIHQAAAAAA1UgdAAAAAADU6B0AAAAAANXIHQAAAAAA1UgdAAAAAADUaB0AAAAAANRoHQAAAAAA1SgdAAAAAADX6BkAAAAAANUoHQAAAAAA1UgdAAAAAADVSB0AAAAAANUIHQAAAAAA1EgdAAAAAADViB0AAAAAANTIHQAAAAAA1KgdAAAAAADVCB0AAAAAANSIHQAAAAAA1EgdAAAAAADViB0AAAAAANUoHQAAAAAA1YgdAAAAAADUiB0AAAABg5mcHQAAAAAA1WgdAAAAAADVSB0AAAAAANXoHQAAAAAA1QgdAAAAAADWCB0AAAAAANSIHQAAAAAA1QgdAAAAAADXqBkAAAAAANSIHQAAAAAA1UgdAAAAAADVSB0AAAAAANSIHQAAAAAA1SgdAAAAAADUiB0AAAAAANRIHQAAAAAA1WgdAAAAAADUaB0AAAAAANUIHQAAAAAA1ogdAAAAAADUqB0AAAAAANSIHQAAAAAA1QgdAAAAAADUCB0AAAAAANRoHQAAAAAA1AgdAAAAAADVKB0AAAAAANSIHQAAAAAA1KgdAAAAAADWCB0AAAAAANTIHQAAAAAA1CgdAAAAAQMxBB0AAAAAANTIHQAAAAAA1WgdAAAAAADVaB0AAAAAANToHQAAAAAA1ggdAAAAAADVSB0AAAAAANSIHQAAAAAA1EgdAAAAAADVaB0AAAAAANWoHQAAAAAA1QgdAAAAAADUyB0AAAAAANSoHQAAAAAA1GgdAAAAAADUaB0AAAAAANUoHQAAAAAA1cgdAAAAAADViB0AAAAAANVIHQAAAAAA1MgdAAAAAADUiB0AAAAAANWoHQAAAAAA1QgdAAAAAADUKB0AAAAAANVoHQAAAAAA1KgdAAAAAADXyBkAAAAAANSIHQAAAAAA1AgdAAAAAADUyB0AAAAAANfoGQAAAAKBFOAdAAAAAADVaB0AAAAAANXIHQAAAAAA1EgdAAAAAADUSB0AAAAAANUoHQAAAAAA1QgdAAAAAADXyBkAAAAAANSoHQAAAAAA1SgdAAAAAADVKB0AAAAAANWoHQAAAAAA1MgdAAAAAADUqB0AAAAAANXIHQAAAAAA1AgdAAAAAADU6B0AAAAAANSIHQAAAAAA1MgdAAAAAADUiB0AAAAAANTIHQAAAAAA1KgdAAAAAADUKB0AAAAAANToHQAAAAAA1MgdAAAAAADU6B0AAAAAANVIHQAAAAAA1IgdAAAAAADViB0AAAAAANToHQAAAAAA1OgdAAAAAADVqB0AAAABg5mcHQAAAAAA1IgdAAAAAADVqB0AAAAAANfIGQAAAAAA1OgdAAAAAADUSB0AAAAAANfIGQAAAAAA1OgdAAAAAADUyB0AAAAAANQoHQAAAAAA1OgdAAAAAADUaB0AAAAAANSoHQAAAAAA1WgdAAAAAADViB0AAAAAANVoHQAAAAAA1agdAAAAAADVyB0AAAAAANWoHQAAAAAA1YgdAAAAAADU6B0AAAAAANUoHQAAAAAA1MgdAAAAAADVaB0AAAAAANfoGQAAAAAA1ggdAAAAAADVKB0AAAAAANXoHQAAAAAA1OgdAAAAAADUqB0AAAAAANfIGQAAAAAA14gZAAAAAQMxBB0AAAAAANUoHQAAAAAA1QgdAAAAAADVCB0AAAAAANTIHQAAAAAA1KgdAAAAAADVKB0AAAAAANXoHQAAAAAA1WgdAAAAAADXiBkAAAAAANToHQAAAAAA1QgdAAAAAADVaB0AAAAAANWIHQAAAAAA1QgdAAAAAADUCB0AAAAAANUIHQAAAAAA1OgdAAAAAADVyB0AAAAAANfoGQAAAAAA1KgdAAAAAADU6B0AAAAAANToHQAAAAAA1GgdAAAAAADU6B0AAAAAANToHQAAAAAA1KgdAAAAAADUqB0AAAAAANTIHQAAAAAA1OgdAAAAAADVaB0AAAAAANUIHQAAAAACyGwdAAAAAADVaB0AAAAAANWoHQAAAAAA1UgdAAAAAADX6BkAAAAAANQIHQAAAAAA1GgdAAAAAADVqB0AAAAAANVoHQAAAAAA1YgdAAAAAADU6B0AAAAAANSIHQAAAAAA1OgdAAAAAADVKB0AAAAAANVIHQAAAAAA1MgdAAAAAADUaB0AAAAAANWIHQAAAAAA1KgdAAAAAADViB0AAAAAANVIHQAAAAAA1WgdAAAAAADUqB0AAAAAANSIHQAAAAAA1QgdAAAAAADVCB0AAAAAANToHQAAAAAA1EgdAAAAAADViB0AAAAAANeoGQAAAAAA1QgdAAAAAADUaB0AAAABgHv8GQAAAAAA1IgdAAAAAADVKB0AAAAAANSIHQAAAAAA1GgdAAAAAADUiB0AAAAAANXIHQAAAAAA1IgdAAAAAADUqB0AAAADgNEIHQAAAAAA1MgdAAAAAwDR6B0AAAAAANVIHQAAAAEA0egdAAAAAAFMRB0AAAAAANWoHQAAAAAA1QgdAAAAAADViB0AAAAAANVIHQAAAAAA1UgdAAAAAADWKB0AAAAAANUIHQAAAAAA1WgdAAAAAADXaBkAAAAAANWIHQAAAAAA1SgdAAAAAADXaBkAAAAAANSoHQAAAAAA1MgdAAAAAADVKB0AAAAAANRIHQAAAAAA1SgdAAAAA4F9eB0AAAAAANVoHQAAAAAA1QgdAAAAAADUKB0AAAAAANToHQAAAAAA1UgdAAAAAADVKB0AAAAAANWIHQAAAAAA1QgdAAAAAADUyB0AAAAAANUoHQAAAAAA1cgdAAAAAADUqB0AAAAAANQoHQAAAAAA1SgdAAAAAADVCB0AAAAAANRoHQAAAAAA1GgdAAAAAADX6BkAAAAAANVIHQAAAAAA1OgdAAAAAADUCB0AAAAAANUoHQAAAAAA1QgdAAAAAADVKB0AAAAAANTIHQAAAAAA1OgdAAAAAADVSB0AAAAAANUIHQAAAAAA1GgdAAAAAADVqB0AAAAAANQIHQAAAAEDMQQdAAAAAADUaB0AAAAAANfIGQAAAAAA1cgdAAAAAADVaB0AAAAAANVIHQAAAAAA1QgdAAAAAADVCB0AAAAAANUIHQAAAAAA1QgdAAAAAADX6BkAAAAAANTIHQAAAAAA1MgdAAAAAADVKB0AAAAAANUoHQAAAAAA1agdAAAAAADVCB0AAAAAANToHQAAAAAA1agdAAAAAADU6B0AAAAAANSIHQAAAAAA1UgdAAAAAADUiB0AAAAAANTIHQAAAAAA1MgdAAAAAADVyB0AAAAAANTIHQAAAAAA1QgdAAAAAADXiBkAAAAAANSIHQAAAAAA1WgdAAAAAADUiB0AAAACAKxIHQAAAAAA1QgdAAAAAADUKB0AAAAAANWoHQAAAAAA1GgdAAAAAADUaB0AAAAAANQoHQAAAAAA1WgdAAAAAADV6B0AAAAAANYIHQAAAAAA1OgdAAAAAADVKB0AAAAAANVIHQAAAAAA1GgdAAAAAADVCB0AAAAAANSoHQAAAAAA1OgdAAAAAADU6B0AAAAAANQoHQAAAAAA1QgdAAAAAADUiB0AAAAAANQIHQAAAAAA1OgdAAAAAADWiB0AAAAAANTIHQAAAAAA1IgdAAAAAADVaB0AAAAAANSIHQAAAAAA1IgdAAAAAADUaB0AAAAAANSIHQAAAAAA1WgdAAAAAoEU4B0AAAAAANUoHQAAAAAA1YgdAAAAAADUyB0AAAAAANWIHQAAAAAA1QgdAAAAAADUyB0AAAAAANSIHQAAAAAA1IgdAAAAAADU6B0AAAAAANUoHQAAAAAA1KgdAAAAAADV6B0AAAAAANSIHQAAAAAA1MgdAAAAAADUaB0AAAAAANcoGQAAAAAA1+gZAAAAAADUqB0AAAAAANUoHQAAAAAA1WgdAAAAAADUyB0AAAAAANVoHQAAAAMA0SgdAAAAAwBJaB0AAAABAlU4HQAAAAGCTOQdAAAAAADU6B0AAAAAANUIHQAAAAAA1WgdAAAAAADUyB0AAAAAANUIHQAAAAACyGwdAAAAAADViB0AAAAAANVIHQAAAAAA1kgdAAAAAADUKB0AAAAAANYIHQAAAAAA1CgdAAAAAADVKB0AAAAAANVIHQAAAAAA1UgdAAAAAADVqB0AAAAAANRoHQAAAAAA1MgdAAAAAADUCB0AAAAAANWoHQAAAAAA1MgdAAAAAADU6B0AAAAAANUoHQAAAAAA1MgdAAAAAADVKB0AAAAAANToHQAAAAAA1MgdAAAAAADVqB0AAAAAANUIHQAAAAAA1SgdAAAAAADU6B0AAAAAANXoHQAAAAAA1EgdAAAAAADVqB0AAAAAANUIHQAAAAAA1KgdAAAAAADUyB0AAAAAAbXEHQAAAAAA1OgdAAAAAADUyB0AAAAAANQoHQAAAAAA1cgdAAAAAADVCB0AAAAAANWIHQAAAAAA1OgdAAAAAADVKB0AAAAAANToHQAAAAAA1WgdAAAAAADUaB0AAAAAANWoHQAAAAAA1IgdAAAAAQCo6B0AAAAAANToHQAAAAAA1kgdAAAAAADUyB0AAAAAANUoHQAAAAAA1OgdAAAAAADVaB0AAAAAANZIHQAAAAAA1UgdAAAAAADVKB0AAAAAANTIHQAAAAAA1ggdAAAAAADVqB0AAAAAANXIHQAAAAAA1igdAAAAAADVqB0AAAAAANYoHQAAAAAA1egdAAAAAAG1xB0AAAAAANVoHQAAAAAA1WgdAAAAAADVqB0AAAAAANXIHQAAAAAA1kgdAAAAAADWCB0AAAAAANWIHQAAAAAA1KgdAAAAAADUqB0AAAAAANSoHQAAAAAA1egdAAAAAADVKB0AAAAAANXoHQAAAAAA1ggdAAAAAADViB0AAAAAANRoHQAAAAAA1QgdAAAAAADViB0AAAAAANVoHQAAAAAA1egdAAAAAADVyB0AAAAAANXoHQAAAAAA1YgdAAAAAADVqB0AAAAAANYIHQAAAAAA1ggdAAAAAADVqB0AAAAAANWIHQAAAAAA1igdAAAAAADUKB0AAAAAANWIHQAAAACCHlwdAAAAAADVKB0AAAAAANXoHQAAAAAA1UgdAAAAAADVyB0AAAAAANVIHQAAAAAA1WgdAAAAAADVSB0AAAAAANToHQAAAAAA1IgdAAAAAADWKB0AAAAAANXoHQAAAAAA1agdAAAAAADVKB0AAAAAANVIHQAAAAAA1kgdAAAAAADUyB0AAAAAANUoHQAAAAAA1cgdAAAAAwDJqB0AAAACgAicHQAAAAAA1MgdAAAAAADVaB0AAAAAANQIHQAAAAAA1IgdAAAAAADUyB0AAAAAANToHQAAAAAA1IgdAAAAAADU6B0AAAAAANQIHQAAAAAA1QgdAAAAAADVSB0AAAADgpAgHQAAAAAA1IgdAAAAAADU6B0AAAAAANRoHQAAAAAA1egdAAAAAADUCB0AAAAAANVoHQAAAAAA1agdAAAAAADU6B0AAAAAANSIHQAAAAAA1OgdAAAAAADVSB0AAAAAANWIHQAAAAAA1MgdAAAAAADUSB0AAAAAANRoHQAAAAAA1QgdAAAAAADVyB0AAAAAANSIHQAAAAAA1IgdAAAAAADXyBkAAAAAANVIHQAAAAAA1SgdAAAAAADWSB0AAAAAANTIHQAAAAAA1KgdAAAAAADVKB0AAAAAANQoHQAAAAAA1UgdAAAAAADVSB0AAAAAANQoHQAAAAAA1KgdAAAAAgDglB0AAAAAANVoHQAAAAAA1QgdAAAAAADVaB0AAAAAANSIHQAAAAAA1QgdAAAAAADVaB0AAAAAANTIHQAAAACDODQdAAAAAADU6B0AAAAAANXIHQAAAAAA1GgdAAAAAADVCB0AAAAAANTIHQAAAAAA1ggdAAAAAADVCB0AAAAAANToHQAAAAAA1KgdAAAAAADUKB0AAAAAANWoHQAAAAAA1AgdAAAAAADVCB0AAAAAANVIHQAAAAAA1QgdAAAAAADVKB0AAAAAANToHQAAAAAA1MgdAAAAAADUqB0AAAAAANUIHQAAAAAA1IgdAAAAAADUKB0AAAAAANXIHQAAAAEDZVAdAAAAAADUyB0AAAAAANVIHQAAAAAA1MgdAAAAAADVCB0AAAAAANToHQAAAAAA1QgdAAAAAADUyB0AAAAAANYIHQAAAAAA1IgdAAAAAADWCB0AAAAAANRIHQAAAAAA1SgdAAAAAADVqB0AAAAAANXIHQAAAAAA1OgdAAAAAADUiB0AAAAAANTIHQAAAAAA1MgdAAAAAADUaB0AAAAAANVIHQAAAAAA1+gZAAAAAADUyB0AAAAAANRoHQAAAAAA1+gZAAAAAADVCB0AAAAAANfoGQAAAAAA1QgdAAAAAADViB0AAAAAANToHQAAAAAA1KgdAAAAAADVCB0AAAADAQTIHQAAAAAA1MgdAAAAAADVyB0AAAAAANToHQAAAAAA1YgdAAAAAADViB0AAAAAANWIHQAAAAAA16gZAAAAAADUKB0AAAAAANSoHQAAAAAA1YgdAAAAAADUCB0AAAAAANWIHQAAAAAA1IgdAAAAAADVKB0AAAAAANRIHQAAAAAA1CgdAAAAAADX6BkAAAAAANRoHQAAAAAA1YgdAAAAAADVCB0AAAAAANVIHQAAAAAA1cgdAAAAAADVaB0AAAAAANXIHQAAAAAA1+gZAAAAAADVKB0AAAAAANRoHQAAAAAA1GgdAAAAAADUyB0AAAAAANTIHQAAAAAA1MgdAAAAAgPN6B0AAAAAANRIHQAAAAAA1UgdAAAAAADUKB0AAAAAANWIHQAAAAAA1OgdAAAAAADVCB0AAAAAANRIHQAAAAAA1SgdAAAAAADUiB0AAAAAANSoHQAAAAAA1QgdAAAAAADU6B0AAAAAANSIHQAAAAAA1UgdAAAAAADVCB0AAAAAANVIHQAAAAAA1OgdAAAAAADUqB0AAAAAANUIHQAAAAAA1GgdAAAAAADU6B0AAAAAANQoHQAAAAAA1GgdAAAAAADVCB0AAAAAANVIHQAAAAAA1QgdAAAAAADUSB0AAAAAANUoHQAAAAAA1YgdAAAAAADViB0AAAAAANUoHQAAAAEDMQQdAAAAAADUyB0AAAACA1xEHQAAAAAA1OgdAAAAAADVKB0AAAAAANUoHQAAAAAA1MgdAAAAAADVCB0AAAAAANTIHQAAAAAA1IgdAAAAAADUyB0AAAAAANUoHQAAAAAA1MgdAAAAAADVKB0AAAAAANfoGQAAAAAA1MgdAAAAAADUSB0AAAAAANfoGQAAAAAA1WgdAAAAAADVqB0AAAAAANVIHQAAAAAA1cgdAAAAAADXiBkAAAAAANVoHQAAAAAA1SgdAAAAAADVKB0AAAAAANTIHQAAAAAA1IgdAAAAAADVSB0AAAAAANTIHQAAAAAA1egdAAAAAADVSB0AAAADgX14HQAAAAEBRHQdAAAAAADVCB0AAAAAANYoHQAAAAAA1SgdAAAAAADUCB0AAAAAANfoGQAAAAAA1OgdAAAAAADVaB0AAAAAANTIHQAAAAAA1YgdAAAAAADVSB0AAAAAANUIHQAAAAAA1MgdAAAAAADVSB0AAAAAANUIHQAAAAAA1KgdAAAAAADUSB0AAAAAANQIHQAAAAAA1EgdAAAAAADVSB0AAAAAANSIHQAAAAAA1KgdAAAAAADUqB0AAAAAANRIHQAAAAAA1YgdAAAAAADVSB0AAAAAANWoHQAAAAAA1UgdAAAAAADUCB0AAAAAANRoHQAAAAAA1CgdAAAAAYOZnB0AAAAAANSoHQAAAAAA1SgdAAAAAADVCB0AAAAAANToHQAAAAAA1MgdAAAAAADUaB0AAAAAANTIHQAAAAAA1cgdAAAAAADVaB0AAAAAANQoHQAAAAAA1QgdAAAAAADUyB0AAAAAANToHQAAAAAA1cgdAAAAAADUSB0AAAAAANSoHQAAAAAA1IgdAAAAAADViB0AAAAAANUIHQAAAAAA1MgdAAAAAADU6B0AAAAAANToHQAAAAAA1UgdAAAAAADVSB0AAAAAANSoHQAAAAAA1QgdAAAAAADUSB0AAAAAANSIHQAAAAAA1SgdAAAAAADVCB0AAAAAANVIHQAAAAOCkCAdAAAAAADV6B0AAAAAANYoHQAAAAAA1KgdAAAAAADVKB0AAAAAANVIHQAAAAAA1KgdAAAAAADVKB0AAAAAANVoHQAAAAAA1EgdA",
          "dtype": "f8"
         },
         "yaxis": "y3"
        },
        {
         "hovertemplate": "variable=ewm_batch_train_loss<br>lr=%{x}<br>value=%{y}<extra></extra>",
         "legendgroup": "",
         "line": {
          "color": "#636efa",
          "dash": "solid"
         },
         "marker": {
          "symbol": "circle"
         },
         "mode": "lines",
         "name": "",
         "showlegend": false,
         "type": "scattergl",
         "x": {
          "bdata": "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",
          "dtype": "f8"
         },
         "xaxis": "x2",
         "y": {
          "bdata": "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",
          "dtype": "f8"
         },
         "yaxis": "y2"
        },
        {
         "hovertemplate": "variable=ewm_batch_train_loss_diff<br>lr=%{x}<br>value=%{y}<extra></extra>",
         "legendgroup": "",
         "line": {
          "color": "#636efa",
          "dash": "solid"
         },
         "marker": {
          "symbol": "circle"
         },
         "mode": "lines",
         "name": "",
         "showlegend": false,
         "type": "scattergl",
         "x": {
          "bdata": "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",
          "dtype": "f8"
         },
         "xaxis": "x",
         "y": {
          "bdata": "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",
          "dtype": "f8"
         },
         "yaxis": "y"
        }
       ],
       "layout": {
        "annotations": [
         {
          "font": {},
          "showarrow": false,
          "text": "variable=ewm_batch_train_loss_diff",
          "textangle": 90,
          "x": 0.98,
          "xanchor": "left",
          "xref": "paper",
          "y": 0.15666666666666665,
          "yanchor": "middle",
          "yref": "paper"
         },
         {
          "font": {},
          "showarrow": false,
          "text": "variable=ewm_batch_train_loss",
          "textangle": 90,
          "x": 0.98,
          "xanchor": "left",
          "xref": "paper",
          "y": 0.4999999999999999,
          "yanchor": "middle",
          "yref": "paper"
         },
         {
          "font": {},
          "showarrow": false,
          "text": "variable=batch_train_loss",
          "textangle": 90,
          "x": 0.98,
          "xanchor": "left",
          "xref": "paper",
          "y": 0.8433333333333332,
          "yanchor": "middle",
          "yref": "paper"
         }
        ],
        "height": 750,
        "legend": {
         "tracegroupgap": 0
        },
        "margin": {
         "t": 60
        },
        "template": {
         "data": {
          "bar": [
           {
            "error_x": {
             "color": "#2a3f5f"
            },
            "error_y": {
             "color": "#2a3f5f"
            },
            "marker": {
             "line": {
              "color": "#E5ECF6",
              "width": 0.5
             },
             "pattern": {
              "fillmode": "overlay",
              "size": 10,
              "solidity": 0.2
             }
            },
            "type": "bar"
           }
          ],
          "barpolar": [
           {
            "marker": {
             "line": {
              "color": "#E5ECF6",
              "width": 0.5
             },
             "pattern": {
              "fillmode": "overlay",
              "size": 10,
              "solidity": 0.2
             }
            },
            "type": "barpolar"
           }
          ],
          "carpet": [
           {
            "aaxis": {
             "endlinecolor": "#2a3f5f",
             "gridcolor": "white",
             "linecolor": "white",
             "minorgridcolor": "white",
             "startlinecolor": "#2a3f5f"
            },
            "baxis": {
             "endlinecolor": "#2a3f5f",
             "gridcolor": "white",
             "linecolor": "white",
             "minorgridcolor": "white",
             "startlinecolor": "#2a3f5f"
            },
            "type": "carpet"
           }
          ],
          "choropleth": [
           {
            "colorbar": {
             "outlinewidth": 0,
             "ticks": ""
            },
            "type": "choropleth"
           }
          ],
          "contour": [
           {
            "colorbar": {
             "outlinewidth": 0,
             "ticks": ""
            },
            "colorscale": [
             [
              0,
              "#0d0887"
             ],
             [
              0.1111111111111111,
              "#46039f"
             ],
             [
              0.2222222222222222,
              "#7201a8"
             ],
             [
              0.3333333333333333,
              "#9c179e"
             ],
             [
              0.4444444444444444,
              "#bd3786"
             ],
             [
              0.5555555555555556,
              "#d8576b"
             ],
             [
              0.6666666666666666,
              "#ed7953"
             ],
             [
              0.7777777777777778,
              "#fb9f3a"
             ],
             [
              0.8888888888888888,
              "#fdca26"
             ],
             [
              1,
              "#f0f921"
             ]
            ],
            "type": "contour"
           }
          ],
          "contourcarpet": [
           {
            "colorbar": {
             "outlinewidth": 0,
             "ticks": ""
            },
            "type": "contourcarpet"
           }
          ],
          "heatmap": [
           {
            "colorbar": {
             "outlinewidth": 0,
             "ticks": ""
            },
            "colorscale": [
             [
              0,
              "#0d0887"
             ],
             [
              0.1111111111111111,
              "#46039f"
             ],
             [
              0.2222222222222222,
              "#7201a8"
             ],
             [
              0.3333333333333333,
              "#9c179e"
             ],
             [
              0.4444444444444444,
              "#bd3786"
             ],
             [
              0.5555555555555556,
              "#d8576b"
             ],
             [
              0.6666666666666666,
              "#ed7953"
             ],
             [
              0.7777777777777778,
              "#fb9f3a"
             ],
             [
              0.8888888888888888,
              "#fdca26"
             ],
             [
              1,
              "#f0f921"
             ]
            ],
            "type": "heatmap"
           }
          ],
          "histogram": [
           {
            "marker": {
             "pattern": {
              "fillmode": "overlay",
              "size": 10,
              "solidity": 0.2
             }
            },
            "type": "histogram"
           }
          ],
          "histogram2d": [
           {
            "colorbar": {
             "outlinewidth": 0,
             "ticks": ""
            },
            "colorscale": [
             [
              0,
              "#0d0887"
             ],
             [
              0.1111111111111111,
              "#46039f"
             ],
             [
              0.2222222222222222,
              "#7201a8"
             ],
             [
              0.3333333333333333,
              "#9c179e"
             ],
             [
              0.4444444444444444,
              "#bd3786"
             ],
             [
              0.5555555555555556,
              "#d8576b"
             ],
             [
              0.6666666666666666,
              "#ed7953"
             ],
             [
              0.7777777777777778,
              "#fb9f3a"
             ],
             [
              0.8888888888888888,
              "#fdca26"
             ],
             [
              1,
              "#f0f921"
             ]
            ],
            "type": "histogram2d"
           }
          ],
          "histogram2dcontour": [
           {
            "colorbar": {
             "outlinewidth": 0,
             "ticks": ""
            },
            "colorscale": [
             [
              0,
              "#0d0887"
             ],
             [
              0.1111111111111111,
              "#46039f"
             ],
             [
              0.2222222222222222,
              "#7201a8"
             ],
             [
              0.3333333333333333,
              "#9c179e"
             ],
             [
              0.4444444444444444,
              "#bd3786"
             ],
             [
              0.5555555555555556,
              "#d8576b"
             ],
             [
              0.6666666666666666,
              "#ed7953"
             ],
             [
              0.7777777777777778,
              "#fb9f3a"
             ],
             [
              0.8888888888888888,
              "#fdca26"
             ],
             [
              1,
              "#f0f921"
             ]
            ],
            "type": "histogram2dcontour"
           }
          ],
          "mesh3d": [
           {
            "colorbar": {
             "outlinewidth": 0,
             "ticks": ""
            },
            "type": "mesh3d"
           }
          ],
          "parcoords": [
           {
            "line": {
             "colorbar": {
              "outlinewidth": 0,
              "ticks": ""
             }
            },
            "type": "parcoords"
           }
          ],
          "pie": [
           {
            "automargin": true,
            "type": "pie"
           }
          ],
          "scatter": [
           {
            "fillpattern": {
             "fillmode": "overlay",
             "size": 10,
             "solidity": 0.2
            },
            "type": "scatter"
           }
          ],
          "scatter3d": [
           {
            "line": {
             "colorbar": {
              "outlinewidth": 0,
              "ticks": ""
             }
            },
            "marker": {
             "colorbar": {
              "outlinewidth": 0,
              "ticks": ""
             }
            },
            "type": "scatter3d"
           }
          ],
          "scattercarpet": [
           {
            "marker": {
             "colorbar": {
              "outlinewidth": 0,
              "ticks": ""
             }
            },
            "type": "scattercarpet"
           }
          ],
          "scattergeo": [
           {
            "marker": {
             "colorbar": {
              "outlinewidth": 0,
              "ticks": ""
             }
            },
            "type": "scattergeo"
           }
          ],
          "scattergl": [
           {
            "marker": {
             "colorbar": {
              "outlinewidth": 0,
              "ticks": ""
             }
            },
            "type": "scattergl"
           }
          ],
          "scattermap": [
           {
            "marker": {
             "colorbar": {
              "outlinewidth": 0,
              "ticks": ""
             }
            },
            "type": "scattermap"
           }
          ],
          "scattermapbox": [
           {
            "marker": {
             "colorbar": {
              "outlinewidth": 0,
              "ticks": ""
             }
            },
            "type": "scattermapbox"
           }
          ],
          "scatterpolar": [
           {
            "marker": {
             "colorbar": {
              "outlinewidth": 0,
              "ticks": ""
             }
            },
            "type": "scatterpolar"
           }
          ],
          "scatterpolargl": [
           {
            "marker": {
             "colorbar": {
              "outlinewidth": 0,
              "ticks": ""
             }
            },
            "type": "scatterpolargl"
           }
          ],
          "scatterternary": [
           {
            "marker": {
             "colorbar": {
              "outlinewidth": 0,
              "ticks": ""
             }
            },
            "type": "scatterternary"
           }
          ],
          "surface": [
           {
            "colorbar": {
             "outlinewidth": 0,
             "ticks": ""
            },
            "colorscale": [
             [
              0,
              "#0d0887"
             ],
             [
              0.1111111111111111,
              "#46039f"
             ],
             [
              0.2222222222222222,
              "#7201a8"
             ],
             [
              0.3333333333333333,
              "#9c179e"
             ],
             [
              0.4444444444444444,
              "#bd3786"
             ],
             [
              0.5555555555555556,
              "#d8576b"
             ],
             [
              0.6666666666666666,
              "#ed7953"
             ],
             [
              0.7777777777777778,
              "#fb9f3a"
             ],
             [
              0.8888888888888888,
              "#fdca26"
             ],
             [
              1,
              "#f0f921"
             ]
            ],
            "type": "surface"
           }
          ],
          "table": [
           {
            "cells": {
             "fill": {
              "color": "#EBF0F8"
             },
             "line": {
              "color": "white"
             }
            },
            "header": {
             "fill": {
              "color": "#C8D4E3"
             },
             "line": {
              "color": "white"
             }
            },
            "type": "table"
           }
          ]
         },
         "layout": {
          "annotationdefaults": {
           "arrowcolor": "#2a3f5f",
           "arrowhead": 0,
           "arrowwidth": 1
          },
          "autotypenumbers": "strict",
          "coloraxis": {
           "colorbar": {
            "outlinewidth": 0,
            "ticks": ""
           }
          },
          "colorscale": {
           "diverging": [
            [
             0,
             "#8e0152"
            ],
            [
             0.1,
             "#c51b7d"
            ],
            [
             0.2,
             "#de77ae"
            ],
            [
             0.3,
             "#f1b6da"
            ],
            [
             0.4,
             "#fde0ef"
            ],
            [
             0.5,
             "#f7f7f7"
            ],
            [
             0.6,
             "#e6f5d0"
            ],
            [
             0.7,
             "#b8e186"
            ],
            [
             0.8,
             "#7fbc41"
            ],
            [
             0.9,
             "#4d9221"
            ],
            [
             1,
             "#276419"
            ]
           ],
           "sequential": [
            [
             0,
             "#0d0887"
            ],
            [
             0.1111111111111111,
             "#46039f"
            ],
            [
             0.2222222222222222,
             "#7201a8"
            ],
            [
             0.3333333333333333,
             "#9c179e"
            ],
            [
             0.4444444444444444,
             "#bd3786"
            ],
            [
             0.5555555555555556,
             "#d8576b"
            ],
            [
             0.6666666666666666,
             "#ed7953"
            ],
            [
             0.7777777777777778,
             "#fb9f3a"
            ],
            [
             0.8888888888888888,
             "#fdca26"
            ],
            [
             1,
             "#f0f921"
            ]
           ],
           "sequentialminus": [
            [
             0,
             "#0d0887"
            ],
            [
             0.1111111111111111,
             "#46039f"
            ],
            [
             0.2222222222222222,
             "#7201a8"
            ],
            [
             0.3333333333333333,
             "#9c179e"
            ],
            [
             0.4444444444444444,
             "#bd3786"
            ],
            [
             0.5555555555555556,
             "#d8576b"
            ],
            [
             0.6666666666666666,
             "#ed7953"
            ],
            [
             0.7777777777777778,
             "#fb9f3a"
            ],
            [
             0.8888888888888888,
             "#fdca26"
            ],
            [
             1,
             "#f0f921"
            ]
           ]
          },
          "colorway": [
           "#636efa",
           "#EF553B",
           "#00cc96",
           "#ab63fa",
           "#FFA15A",
           "#19d3f3",
           "#FF6692",
           "#B6E880",
           "#FF97FF",
           "#FECB52"
          ],
          "font": {
           "color": "#2a3f5f"
          },
          "geo": {
           "bgcolor": "white",
           "lakecolor": "white",
           "landcolor": "#E5ECF6",
           "showlakes": true,
           "showland": true,
           "subunitcolor": "white"
          },
          "hoverlabel": {
           "align": "left"
          },
          "hovermode": "closest",
          "mapbox": {
           "style": "light"
          },
          "paper_bgcolor": "white",
          "plot_bgcolor": "#E5ECF6",
          "polar": {
           "angularaxis": {
            "gridcolor": "white",
            "linecolor": "white",
            "ticks": ""
           },
           "bgcolor": "#E5ECF6",
           "radialaxis": {
            "gridcolor": "white",
            "linecolor": "white",
            "ticks": ""
           }
          },
          "scene": {
           "xaxis": {
            "backgroundcolor": "#E5ECF6",
            "gridcolor": "white",
            "gridwidth": 2,
            "linecolor": "white",
            "showbackground": true,
            "ticks": "",
            "zerolinecolor": "white"
           },
           "yaxis": {
            "backgroundcolor": "#E5ECF6",
            "gridcolor": "white",
            "gridwidth": 2,
            "linecolor": "white",
            "showbackground": true,
            "ticks": "",
            "zerolinecolor": "white"
           },
           "zaxis": {
            "backgroundcolor": "#E5ECF6",
            "gridcolor": "white",
            "gridwidth": 2,
            "linecolor": "white",
            "showbackground": true,
            "ticks": "",
            "zerolinecolor": "white"
           }
          },
          "shapedefaults": {
           "line": {
            "color": "#2a3f5f"
           }
          },
          "ternary": {
           "aaxis": {
            "gridcolor": "white",
            "linecolor": "white",
            "ticks": ""
           },
           "baxis": {
            "gridcolor": "white",
            "linecolor": "white",
            "ticks": ""
           },
           "bgcolor": "#E5ECF6",
           "caxis": {
            "gridcolor": "white",
            "linecolor": "white",
            "ticks": ""
           }
          },
          "title": {
           "x": 0.05
          },
          "xaxis": {
           "automargin": true,
           "gridcolor": "white",
           "linecolor": "white",
           "ticks": "",
           "title": {
            "standoff": 15
           },
           "zerolinecolor": "white",
           "zerolinewidth": 2
          },
          "yaxis": {
           "automargin": true,
           "gridcolor": "white",
           "linecolor": "white",
           "ticks": "",
           "title": {
            "standoff": 15
           },
           "zerolinecolor": "white",
           "zerolinewidth": 2
          }
         }
        },
        "xaxis": {
         "anchor": "y",
         "domain": [
          0,
          0.98
         ],
         "title": {
          "text": "lr"
         },
         "type": "log"
        },
        "xaxis2": {
         "anchor": "y2",
         "domain": [
          0,
          0.98
         ],
         "matches": "x",
         "showticklabels": false,
         "type": "log"
        },
        "xaxis3": {
         "anchor": "y3",
         "domain": [
          0,
          0.98
         ],
         "matches": "x",
         "showticklabels": false,
         "type": "log"
        },
        "yaxis": {
         "anchor": "x",
         "domain": [
          0,
          0.3133333333333333
         ],
         "title": {
          "text": "value"
         }
        },
        "yaxis2": {
         "anchor": "x2",
         "domain": [
          0.34333333333333327,
          0.6566666666666665
         ],
         "title": {
          "text": "value"
         }
        },
        "yaxis3": {
         "anchor": "x3",
         "domain": [
          0.6866666666666665,
          0.9999999999999998
         ],
         "title": {
          "text": "value"
         }
        }
       }
      }
     },
     "metadata": {},
     "output_type": "display_data"
    },
    {
     "name": "stdout",
     "output_type": "stream",
     "text": [
      "Maximum learning rate: 0.0020953077968004176\n"
     ]
    }
   ],
   "source": [
    "full_dataset = CMIDataset(\"full_dataset\")\n",
    "full_dataset_loader = DL(full_dataset, TRAIN_BATCH_SIZE, shuffle=True)\n",
    "_, mock_training_metrics = mk_model_and_fit(\n",
    "    full_dataset_loader,\n",
    "    partial(torch.optim.lr_scheduler.ExponentialLR, gamma=MOCK_TRAINING_GAMMA),\n",
    ")\n",
    "mock_training_metrics = post_process_mock_training_metrics(mock_training_metrics)\n",
    "plt_lr_search_training_metrics(mock_training_metrics)\n",
    "max_lr = mock_training_metrics[\"ewm_batch_train_loss\"].idxmin()\n",
    "print(\"Maximum learning rate:\", max_lr)"
   ]
  },
  {
   "cell_type": "markdown",
   "id": "e1cc3c5f",
   "metadata": {
    "papermill": {
     "duration": 0.003108,
     "end_time": "2025-06-14T10:01:56.186803",
     "exception": false,
     "start_time": "2025-06-14T10:01:56.183695",
     "status": "completed"
    },
    "tags": []
   },
   "source": [
    "## Training loop"
   ]
  },
  {
   "cell_type": "code",
   "execution_count": 50,
   "id": "2be28a9c",
   "metadata": {
    "execution": {
     "iopub.execute_input": "2025-06-14T10:01:56.194003Z",
     "iopub.status.busy": "2025-06-14T10:01:56.193740Z",
     "iopub.status.idle": "2025-06-14T10:09:14.752385Z",
     "shell.execute_reply": "2025-06-14T10:09:14.751491Z"
    },
    "papermill": {
     "duration": 438.563878,
     "end_time": "2025-06-14T10:09:14.753712",
     "exception": false,
     "start_time": "2025-06-14T10:01:56.189834",
     "status": "completed"
    },
    "tags": []
   },
   "outputs": [
    {
     "name": "stdout",
     "output_type": "stream",
     "text": [
      "training: 1\n",
      "\n",
      "==================================================\n",
      "Fold 1/5\n",
      "Epoch 01: Train Loss = 2.7838, Val Loss = 2.7220\n",
      "  Binary F1 = 0.8697, Macro F1 = 0.1882, Final Metric = 0.5290\n",
      "  New best metric! Saving model...\n",
      "Epoch 02: Train Loss = 2.6387, Val Loss = 2.6216\n",
      "  Binary F1 = 0.8959, Macro F1 = 0.2928, Final Metric = 0.5944\n",
      "  New best metric! Saving model...\n",
      "Epoch 03: Train Loss = 2.5777, Val Loss = 2.5981\n",
      "  Binary F1 = 0.8930, Macro F1 = 0.3027, Final Metric = 0.5978\n",
      "  New best metric! Saving model...\n",
      "Epoch 04: Train Loss = 2.5278, Val Loss = 2.5431\n",
      "  Binary F1 = 0.9093, Macro F1 = 0.3372, Final Metric = 0.6232\n",
      "  New best metric! Saving model...\n",
      "Epoch 05: Train Loss = 2.4784, Val Loss = 2.5320\n",
      "  Binary F1 = 0.9056, Macro F1 = 0.3802, Final Metric = 0.6429\n",
      "  New best metric! Saving model...\n",
      "Epoch 06: Train Loss = 2.4480, Val Loss = 2.5237\n",
      "  Binary F1 = 0.8966, Macro F1 = 0.3802, Final Metric = 0.6384\n",
      "Epoch 07: Train Loss = 2.4108, Val Loss = 2.5322\n",
      "  Binary F1 = 0.8867, Macro F1 = 0.4260, Final Metric = 0.6563\n",
      "  New best metric! Saving model...\n",
      "Epoch 08: Train Loss = 2.3623, Val Loss = 2.4916\n",
      "  Binary F1 = 0.8956, Macro F1 = 0.4249, Final Metric = 0.6602\n",
      "  New best metric! Saving model...\n",
      "Epoch 09: Train Loss = 2.3501, Val Loss = 2.5740\n",
      "  Binary F1 = 0.8751, Macro F1 = 0.3347, Final Metric = 0.6049\n",
      "Epoch 10: Train Loss = 2.3315, Val Loss = 2.5319\n",
      "  Binary F1 = 0.8980, Macro F1 = 0.3849, Final Metric = 0.6414\n",
      "Epoch 11: Train Loss = 2.3414, Val Loss = 2.5031\n",
      "  Binary F1 = 0.8898, Macro F1 = 0.4510, Final Metric = 0.6704\n",
      "  New best metric! Saving model...\n",
      "Epoch 12: Train Loss = 2.3150, Val Loss = 2.4731\n",
      "  Binary F1 = 0.9022, Macro F1 = 0.4911, Final Metric = 0.6966\n",
      "  New best metric! Saving model...\n",
      "Epoch 13: Train Loss = 2.3026, Val Loss = 2.4684\n",
      "  Binary F1 = 0.9038, Macro F1 = 0.5052, Final Metric = 0.7045\n",
      "  New best metric! Saving model...\n",
      "Epoch 14: Train Loss = 2.2914, Val Loss = 2.4892\n",
      "  Binary F1 = 0.8797, Macro F1 = 0.4898, Final Metric = 0.6848\n",
      "Epoch 15: Train Loss = 2.2852, Val Loss = 2.4574\n",
      "  Binary F1 = 0.9149, Macro F1 = 0.5106, Final Metric = 0.7128\n",
      "  New best metric! Saving model...\n",
      "Epoch 16: Train Loss = 2.2760, Val Loss = 2.4788\n",
      "  Binary F1 = 0.8809, Macro F1 = 0.4851, Final Metric = 0.6830\n",
      "Epoch 17: Train Loss = 2.2727, Val Loss = 2.4794\n",
      "  Binary F1 = 0.8926, Macro F1 = 0.4842, Final Metric = 0.6884\n",
      "Epoch 18: Train Loss = 2.2740, Val Loss = 2.4919\n",
      "  Binary F1 = 0.9102, Macro F1 = 0.4572, Final Metric = 0.6837\n",
      "Epoch 19: Train Loss = 2.2502, Val Loss = 2.4467\n",
      "  Binary F1 = 0.8948, Macro F1 = 0.5093, Final Metric = 0.7020\n",
      "Epoch 20: Train Loss = 2.2363, Val Loss = 2.4681\n",
      "  Binary F1 = 0.8790, Macro F1 = 0.4984, Final Metric = 0.6887\n",
      "Epoch 21: Train Loss = 2.2264, Val Loss = 2.4736\n",
      "  Binary F1 = 0.8998, Macro F1 = 0.4862, Final Metric = 0.6930\n",
      "Epoch 22: Train Loss = 2.2236, Val Loss = 2.4796\n",
      "  Binary F1 = 0.9008, Macro F1 = 0.5276, Final Metric = 0.7142\n",
      "  New best metric! Saving model...\n",
      "Epoch 23: Train Loss = 2.2317, Val Loss = 2.4724\n",
      "  Binary F1 = 0.8886, Macro F1 = 0.4941, Final Metric = 0.6913\n",
      "Epoch 24: Train Loss = 2.2091, Val Loss = 2.4541\n",
      "  Binary F1 = 0.9016, Macro F1 = 0.5027, Final Metric = 0.7021\n",
      "Epoch 25: Train Loss = 2.2137, Val Loss = 2.4576\n",
      "  Binary F1 = 0.8916, Macro F1 = 0.4878, Final Metric = 0.6897\n",
      "Epoch 26: Train Loss = 2.1926, Val Loss = 2.4322\n",
      "  Binary F1 = 0.9013, Macro F1 = 0.5264, Final Metric = 0.7139\n",
      "Epoch 27: Train Loss = 2.1812, Val Loss = 2.4224\n",
      "  Binary F1 = 0.9050, Macro F1 = 0.5348, Final Metric = 0.7199\n",
      "  New best metric! Saving model...\n",
      "Epoch 28: Train Loss = 2.1739, Val Loss = 2.4392\n",
      "  Binary F1 = 0.9030, Macro F1 = 0.5316, Final Metric = 0.7173\n",
      "Epoch 29: Train Loss = 2.1704, Val Loss = 2.4212\n",
      "  Binary F1 = 0.9049, Macro F1 = 0.5416, Final Metric = 0.7232\n",
      "  New best metric! Saving model...\n",
      "Epoch 30: Train Loss = 2.1743, Val Loss = 2.4406\n",
      "  Binary F1 = 0.8993, Macro F1 = 0.5046, Final Metric = 0.7019\n",
      "Epoch 31: Train Loss = 2.1673, Val Loss = 2.4246\n",
      "  Binary F1 = 0.9034, Macro F1 = 0.5452, Final Metric = 0.7243\n",
      "  New best metric! Saving model...\n",
      "Epoch 32: Train Loss = 2.1614, Val Loss = 2.4291\n",
      "  Binary F1 = 0.9025, Macro F1 = 0.5368, Final Metric = 0.7196\n",
      "Epoch 33: Train Loss = 2.1551, Val Loss = 2.4187\n",
      "  Binary F1 = 0.9011, Macro F1 = 0.5366, Final Metric = 0.7189\n",
      "Epoch 34: Train Loss = 2.1532, Val Loss = 2.4182\n",
      "  Binary F1 = 0.8955, Macro F1 = 0.5465, Final Metric = 0.7210\n",
      "Epoch 35: Train Loss = 2.1511, Val Loss = 2.4264\n",
      "  Binary F1 = 0.9016, Macro F1 = 0.5351, Final Metric = 0.7183\n",
      "Epoch 36: Train Loss = 2.1508, Val Loss = 2.4207\n",
      "  Binary F1 = 0.9031, Macro F1 = 0.5372, Final Metric = 0.7202\n",
      "Epoch 37: Train Loss = 2.1496, Val Loss = 2.4195\n",
      "  Binary F1 = 0.8980, Macro F1 = 0.5425, Final Metric = 0.7202\n",
      "Epoch 38: Train Loss = 2.1478, Val Loss = 2.4243\n",
      "  Binary F1 = 0.8898, Macro F1 = 0.5356, Final Metric = 0.7127\n",
      "Epoch 39: Train Loss = 2.1462, Val Loss = 2.4260\n",
      "  Binary F1 = 0.8959, Macro F1 = 0.5270, Final Metric = 0.7114\n",
      "Epoch 40: Train Loss = 2.1435, Val Loss = 2.4251\n",
      "  Binary F1 = 0.8940, Macro F1 = 0.5222, Final Metric = 0.7081\n",
      "Epoch 41: Train Loss = 2.1415, Val Loss = 2.4192\n",
      "  Binary F1 = 0.8979, Macro F1 = 0.5433, Final Metric = 0.7206\n",
      "Epoch 42: Train Loss = 2.1410, Val Loss = 2.4224\n",
      "  Binary F1 = 0.8976, Macro F1 = 0.5301, Final Metric = 0.7138\n",
      "Epoch 43: Train Loss = 2.1400, Val Loss = 2.4208\n",
      "  Binary F1 = 0.8955, Macro F1 = 0.5354, Final Metric = 0.7155\n",
      "Epoch 44: Train Loss = 2.1382, Val Loss = 2.4284\n",
      "  Binary F1 = 0.8942, Macro F1 = 0.5505, Final Metric = 0.7224\n",
      "Epoch 45: Train Loss = 2.1263, Val Loss = 2.4177\n",
      "  Binary F1 = 0.9041, Macro F1 = 0.5564, Final Metric = 0.7302\n",
      "  New best metric! Saving model...\n",
      "Epoch 46: Train Loss = 2.1214, Val Loss = 2.4087\n",
      "  Binary F1 = 0.9146, Macro F1 = 0.5485, Final Metric = 0.7315\n",
      "  New best metric! Saving model...\n",
      "Epoch 47: Train Loss = 2.1203, Val Loss = 2.4062\n",
      "  Binary F1 = 0.9141, Macro F1 = 0.5486, Final Metric = 0.7314\n",
      "Epoch 48: Train Loss = 2.1197, Val Loss = 2.4063\n",
      "  Binary F1 = 0.9151, Macro F1 = 0.5557, Final Metric = 0.7354\n",
      "  New best metric! Saving model...\n",
      "Epoch 49: Train Loss = 2.1193, Val Loss = 2.4052\n",
      "  Binary F1 = 0.9149, Macro F1 = 0.5571, Final Metric = 0.7360\n",
      "  New best metric! Saving model...\n",
      "Epoch 50: Train Loss = 2.1190, Val Loss = 2.4044\n",
      "  Binary F1 = 0.9150, Macro F1 = 0.5526, Final Metric = 0.7338\n",
      "Epoch 51: Train Loss = 2.1187, Val Loss = 2.4036\n",
      "  Binary F1 = 0.9156, Macro F1 = 0.5592, Final Metric = 0.7374\n",
      "  New best metric! Saving model...\n",
      "Epoch 52: Train Loss = 2.1186, Val Loss = 2.4033\n",
      "  Binary F1 = 0.9158, Macro F1 = 0.5591, Final Metric = 0.7374\n",
      "  New best metric! Saving model...\n",
      "Epoch 53: Train Loss = 2.1184, Val Loss = 2.4024\n",
      "  Binary F1 = 0.9155, Macro F1 = 0.5586, Final Metric = 0.7371\n",
      "Epoch 54: Train Loss = 2.1182, Val Loss = 2.4036\n",
      "  Binary F1 = 0.9158, Macro F1 = 0.5601, Final Metric = 0.7380\n",
      "  New best metric! Saving model...\n",
      "Epoch 55: Train Loss = 2.1183, Val Loss = 2.4039\n",
      "  Binary F1 = 0.9160, Macro F1 = 0.5547, Final Metric = 0.7354\n",
      "Epoch 56: Train Loss = 2.1181, Val Loss = 2.4035\n",
      "  Binary F1 = 0.9153, Macro F1 = 0.5593, Final Metric = 0.7373\n",
      "Epoch 57: Train Loss = 2.1180, Val Loss = 2.4034\n",
      "  Binary F1 = 0.9145, Macro F1 = 0.5595, Final Metric = 0.7370\n",
      "Epoch 58: Train Loss = 2.1179, Val Loss = 2.4035\n",
      "  Binary F1 = 0.9157, Macro F1 = 0.5581, Final Metric = 0.7369\n",
      "Epoch 59: Train Loss = 2.1179, Val Loss = 2.4036\n",
      "  Binary F1 = 0.9161, Macro F1 = 0.5598, Final Metric = 0.7380\n",
      "  New best metric! Saving model...\n",
      "Epoch 60: Train Loss = 2.1179, Val Loss = 2.4033\n",
      "  Binary F1 = 0.9148, Macro F1 = 0.5588, Final Metric = 0.7368\n",
      "\n",
      "Fold 1 completed.\n",
      "Final validation metrics - Binary F1: 0.9148, Macro F1: 0.5588, Final: 0.7368\n",
      "Best validation metrics - Binary F1: 0.9161, Macro F1: 0.5598, Final: 0.7380\n",
      "training: 2\n",
      "\n",
      "==================================================\n",
      "Fold 2/5\n",
      "Epoch 01: Train Loss = 2.7690, Val Loss = 2.7320\n",
      "  Binary F1 = 0.8550, Macro F1 = 0.2216, Final Metric = 0.5383\n",
      "  New best metric! Saving model...\n",
      "Epoch 02: Train Loss = 2.6235, Val Loss = 2.6275\n",
      "  Binary F1 = 0.8644, Macro F1 = 0.2959, Final Metric = 0.5801\n",
      "  New best metric! Saving model...\n",
      "Epoch 03: Train Loss = 2.5351, Val Loss = 2.5695\n",
      "  Binary F1 = 0.8927, Macro F1 = 0.3479, Final Metric = 0.6203\n",
      "  New best metric! Saving model...\n",
      "Epoch 04: Train Loss = 2.4691, Val Loss = 2.5401\n",
      "  Binary F1 = 0.8920, Macro F1 = 0.3917, Final Metric = 0.6418\n",
      "  New best metric! Saving model...\n",
      "Epoch 05: Train Loss = 2.4158, Val Loss = 2.5116\n",
      "  Binary F1 = 0.8978, Macro F1 = 0.4323, Final Metric = 0.6650\n",
      "  New best metric! Saving model...\n",
      "Epoch 06: Train Loss = 2.3735, Val Loss = 2.5149\n",
      "  Binary F1 = 0.8915, Macro F1 = 0.4171, Final Metric = 0.6543\n",
      "Epoch 07: Train Loss = 2.3590, Val Loss = 2.5174\n",
      "  Binary F1 = 0.8948, Macro F1 = 0.4218, Final Metric = 0.6583\n",
      "Epoch 08: Train Loss = 2.3420, Val Loss = 2.5098\n",
      "  Binary F1 = 0.8728, Macro F1 = 0.4484, Final Metric = 0.6606\n",
      "Epoch 09: Train Loss = 2.3394, Val Loss = 2.5154\n",
      "  Binary F1 = 0.8740, Macro F1 = 0.4311, Final Metric = 0.6526\n",
      "Epoch 10: Train Loss = 2.3219, Val Loss = 2.5082\n",
      "  Binary F1 = 0.8911, Macro F1 = 0.4361, Final Metric = 0.6636\n",
      "Epoch 11: Train Loss = 2.3091, Val Loss = 2.5023\n",
      "  Binary F1 = 0.8702, Macro F1 = 0.4548, Final Metric = 0.6625\n",
      "Epoch 12: Train Loss = 2.3137, Val Loss = 2.5524\n",
      "  Binary F1 = 0.8617, Macro F1 = 0.4162, Final Metric = 0.6389\n",
      "Epoch 13: Train Loss = 2.3334, Val Loss = 2.5350\n",
      "  Binary F1 = 0.9000, Macro F1 = 0.4223, Final Metric = 0.6612\n",
      "Epoch 14: Train Loss = 2.3347, Val Loss = 2.5044\n",
      "  Binary F1 = 0.8913, Macro F1 = 0.4453, Final Metric = 0.6683\n",
      "  New best metric! Saving model...\n",
      "Epoch 15: Train Loss = 2.3359, Val Loss = 2.5191\n",
      "  Binary F1 = 0.8681, Macro F1 = 0.4410, Final Metric = 0.6545\n",
      "Epoch 16: Train Loss = 2.3352, Val Loss = 2.5783\n",
      "  Binary F1 = 0.8452, Macro F1 = 0.4301, Final Metric = 0.6377\n",
      "Epoch 17: Train Loss = 2.3238, Val Loss = 2.5467\n",
      "  Binary F1 = 0.8607, Macro F1 = 0.4294, Final Metric = 0.6451\n",
      "Epoch 18: Train Loss = 2.3256, Val Loss = 2.5434\n",
      "  Binary F1 = 0.8894, Macro F1 = 0.4172, Final Metric = 0.6533\n",
      "Epoch 19: Train Loss = 2.3148, Val Loss = 2.4862\n",
      "  Binary F1 = 0.8999, Macro F1 = 0.4672, Final Metric = 0.6835\n",
      "  New best metric! Saving model...\n",
      "Epoch 20: Train Loss = 2.3082, Val Loss = 2.5148\n",
      "  Binary F1 = 0.9006, Macro F1 = 0.4119, Final Metric = 0.6562\n",
      "Epoch 21: Train Loss = 2.3209, Val Loss = 2.5058\n",
      "  Binary F1 = 0.8998, Macro F1 = 0.4460, Final Metric = 0.6729\n",
      "Epoch 22: Train Loss = 2.2963, Val Loss = 2.4830\n",
      "  Binary F1 = 0.9058, Macro F1 = 0.4698, Final Metric = 0.6878\n",
      "  New best metric! Saving model...\n",
      "Epoch 23: Train Loss = 2.2804, Val Loss = 2.5105\n",
      "  Binary F1 = 0.9062, Macro F1 = 0.4418, Final Metric = 0.6740\n",
      "Epoch 24: Train Loss = 2.2846, Val Loss = 2.4599\n",
      "  Binary F1 = 0.9035, Macro F1 = 0.4843, Final Metric = 0.6939\n",
      "  New best metric! Saving model...\n",
      "Epoch 25: Train Loss = 2.2705, Val Loss = 2.4870\n",
      "  Binary F1 = 0.9040, Macro F1 = 0.4553, Final Metric = 0.6797\n",
      "Epoch 26: Train Loss = 2.2663, Val Loss = 2.4940\n",
      "  Binary F1 = 0.8910, Macro F1 = 0.4486, Final Metric = 0.6698\n",
      "Epoch 27: Train Loss = 2.2718, Val Loss = 2.4829\n",
      "  Binary F1 = 0.9001, Macro F1 = 0.4570, Final Metric = 0.6786\n",
      "Epoch 28: Train Loss = 2.2536, Val Loss = 2.4842\n",
      "  Binary F1 = 0.8822, Macro F1 = 0.5078, Final Metric = 0.6950\n",
      "  New best metric! Saving model...\n",
      "Epoch 29: Train Loss = 2.2301, Val Loss = 2.4591\n",
      "  Binary F1 = 0.9063, Macro F1 = 0.5111, Final Metric = 0.7087\n",
      "  New best metric! Saving model...\n",
      "Epoch 30: Train Loss = 2.2193, Val Loss = 2.4564\n",
      "  Binary F1 = 0.9042, Macro F1 = 0.5162, Final Metric = 0.7102\n",
      "  New best metric! Saving model...\n",
      "Epoch 31: Train Loss = 2.2099, Val Loss = 2.4630\n",
      "  Binary F1 = 0.9080, Macro F1 = 0.4980, Final Metric = 0.7030\n",
      "Epoch 32: Train Loss = 2.2069, Val Loss = 2.4673\n",
      "  Binary F1 = 0.9105, Macro F1 = 0.5300, Final Metric = 0.7203\n",
      "  New best metric! Saving model...\n",
      "Epoch 33: Train Loss = 2.2033, Val Loss = 2.4611\n",
      "  Binary F1 = 0.8950, Macro F1 = 0.5168, Final Metric = 0.7059\n",
      "Epoch 34: Train Loss = 2.1805, Val Loss = 2.4557\n",
      "  Binary F1 = 0.9092, Macro F1 = 0.5176, Final Metric = 0.7134\n",
      "Epoch 35: Train Loss = 2.1741, Val Loss = 2.4748\n",
      "  Binary F1 = 0.8965, Macro F1 = 0.4954, Final Metric = 0.6960\n",
      "Epoch 36: Train Loss = 2.1630, Val Loss = 2.4477\n",
      "  Binary F1 = 0.9058, Macro F1 = 0.5278, Final Metric = 0.7168\n",
      "Epoch 37: Train Loss = 2.1580, Val Loss = 2.4361\n",
      "  Binary F1 = 0.9120, Macro F1 = 0.5385, Final Metric = 0.7253\n",
      "  New best metric! Saving model...\n",
      "Epoch 38: Train Loss = 2.1617, Val Loss = 2.4543\n",
      "  Binary F1 = 0.9035, Macro F1 = 0.5048, Final Metric = 0.7042\n",
      "Epoch 39: Train Loss = 2.1541, Val Loss = 2.4436\n",
      "  Binary F1 = 0.9095, Macro F1 = 0.5287, Final Metric = 0.7191\n",
      "Epoch 40: Train Loss = 2.1524, Val Loss = 2.4340\n",
      "  Binary F1 = 0.9098, Macro F1 = 0.5336, Final Metric = 0.7217\n",
      "Epoch 41: Train Loss = 2.1474, Val Loss = 2.4368\n",
      "  Binary F1 = 0.9069, Macro F1 = 0.5219, Final Metric = 0.7144\n",
      "Epoch 42: Train Loss = 2.1436, Val Loss = 2.4409\n",
      "  Binary F1 = 0.9081, Macro F1 = 0.5363, Final Metric = 0.7222\n",
      "Epoch 43: Train Loss = 2.1427, Val Loss = 2.4351\n",
      "  Binary F1 = 0.9079, Macro F1 = 0.5348, Final Metric = 0.7214\n",
      "Epoch 44: Train Loss = 2.1412, Val Loss = 2.4444\n",
      "  Binary F1 = 0.9048, Macro F1 = 0.5141, Final Metric = 0.7094\n",
      "Epoch 45: Train Loss = 2.1400, Val Loss = 2.4364\n",
      "  Binary F1 = 0.9066, Macro F1 = 0.5368, Final Metric = 0.7217\n",
      "Epoch 46: Train Loss = 2.1390, Val Loss = 2.4402\n",
      "  Binary F1 = 0.9087, Macro F1 = 0.5268, Final Metric = 0.7177\n",
      "Epoch 47: Train Loss = 2.1383, Val Loss = 2.4366\n",
      "  Binary F1 = 0.9088, Macro F1 = 0.5316, Final Metric = 0.7202\n",
      "Epoch 48: Train Loss = 2.1372, Val Loss = 2.4358\n",
      "  Binary F1 = 0.9102, Macro F1 = 0.5297, Final Metric = 0.7199\n",
      "Epoch 49: Train Loss = 2.1368, Val Loss = 2.4361\n",
      "  Binary F1 = 0.9119, Macro F1 = 0.5313, Final Metric = 0.7216\n",
      "Epoch 50: Train Loss = 2.1366, Val Loss = 2.4362\n",
      "  Binary F1 = 0.9149, Macro F1 = 0.5322, Final Metric = 0.7235\n",
      "Epoch 51: Train Loss = 2.1366, Val Loss = 2.4382\n",
      "  Binary F1 = 0.9122, Macro F1 = 0.5264, Final Metric = 0.7193\n",
      "Epoch 52: Train Loss = 2.1365, Val Loss = 2.4376\n",
      "  Binary F1 = 0.9124, Macro F1 = 0.5265, Final Metric = 0.7194\n",
      "Early stopping triggered at epoch 52\n",
      "\n",
      "Fold 2 completed.\n",
      "Final validation metrics - Binary F1: 0.9124, Macro F1: 0.5265, Final: 0.7194\n",
      "Best validation metrics - Binary F1: 0.9120, Macro F1: 0.5385, Final: 0.7253\n",
      "training: 3\n",
      "\n",
      "==================================================\n",
      "Fold 3/5\n",
      "Epoch 01: Train Loss = 2.7855, Val Loss = 2.7311\n",
      "  Binary F1 = 0.8186, Macro F1 = 0.2111, Final Metric = 0.5148\n",
      "  New best metric! Saving model...\n",
      "Epoch 02: Train Loss = 2.6424, Val Loss = 2.6301\n",
      "  Binary F1 = 0.8237, Macro F1 = 0.3367, Final Metric = 0.5802\n",
      "  New best metric! Saving model...\n",
      "Epoch 03: Train Loss = 2.5506, Val Loss = 2.5729\n",
      "  Binary F1 = 0.8506, Macro F1 = 0.4214, Final Metric = 0.6360\n",
      "  New best metric! Saving model...\n",
      "Epoch 04: Train Loss = 2.4792, Val Loss = 2.5251\n",
      "  Binary F1 = 0.8567, Macro F1 = 0.4622, Final Metric = 0.6594\n",
      "  New best metric! Saving model...\n",
      "Epoch 05: Train Loss = 2.4143, Val Loss = 2.5181\n",
      "  Binary F1 = 0.8522, Macro F1 = 0.4669, Final Metric = 0.6595\n",
      "  New best metric! Saving model...\n",
      "Epoch 06: Train Loss = 2.3630, Val Loss = 2.4796\n",
      "  Binary F1 = 0.8547, Macro F1 = 0.4958, Final Metric = 0.6753\n",
      "  New best metric! Saving model...\n",
      "Epoch 07: Train Loss = 2.3411, Val Loss = 2.4982\n",
      "  Binary F1 = 0.8542, Macro F1 = 0.4870, Final Metric = 0.6706\n",
      "Epoch 08: Train Loss = 2.3256, Val Loss = 2.4990\n",
      "  Binary F1 = 0.8522, Macro F1 = 0.4909, Final Metric = 0.6716\n",
      "Epoch 09: Train Loss = 2.2919, Val Loss = 2.5062\n",
      "  Binary F1 = 0.8507, Macro F1 = 0.4807, Final Metric = 0.6657\n",
      "Epoch 10: Train Loss = 2.2939, Val Loss = 2.4916\n",
      "  Binary F1 = 0.8496, Macro F1 = 0.4948, Final Metric = 0.6722\n",
      "Epoch 11: Train Loss = 2.2765, Val Loss = 2.5221\n",
      "  Binary F1 = 0.8344, Macro F1 = 0.4885, Final Metric = 0.6614\n",
      "Epoch 12: Train Loss = 2.2757, Val Loss = 2.5131\n",
      "  Binary F1 = 0.8413, Macro F1 = 0.4700, Final Metric = 0.6556\n",
      "Epoch 13: Train Loss = 2.2667, Val Loss = 2.5116\n",
      "  Binary F1 = 0.8380, Macro F1 = 0.4605, Final Metric = 0.6492\n",
      "Epoch 14: Train Loss = 2.2592, Val Loss = 2.5035\n",
      "  Binary F1 = 0.8488, Macro F1 = 0.4597, Final Metric = 0.6542\n",
      "Epoch 15: Train Loss = 2.2660, Val Loss = 2.4870\n",
      "  Binary F1 = 0.8448, Macro F1 = 0.4950, Final Metric = 0.6699\n",
      "Epoch 16: Train Loss = 2.2790, Val Loss = 2.5120\n",
      "  Binary F1 = 0.8540, Macro F1 = 0.4538, Final Metric = 0.6539\n",
      "Epoch 17: Train Loss = 2.2616, Val Loss = 2.4964\n",
      "  Binary F1 = 0.8560, Macro F1 = 0.4990, Final Metric = 0.6775\n",
      "  New best metric! Saving model...\n",
      "Epoch 18: Train Loss = 2.2391, Val Loss = 2.5062\n",
      "  Binary F1 = 0.8546, Macro F1 = 0.4513, Final Metric = 0.6530\n",
      "Epoch 19: Train Loss = 2.2241, Val Loss = 2.4835\n",
      "  Binary F1 = 0.8414, Macro F1 = 0.4973, Final Metric = 0.6694\n",
      "Epoch 20: Train Loss = 2.2180, Val Loss = 2.4751\n",
      "  Binary F1 = 0.8515, Macro F1 = 0.5161, Final Metric = 0.6838\n",
      "  New best metric! Saving model...\n",
      "Epoch 21: Train Loss = 2.2199, Val Loss = 2.4657\n",
      "  Binary F1 = 0.8412, Macro F1 = 0.5159, Final Metric = 0.6786\n",
      "Epoch 22: Train Loss = 2.1967, Val Loss = 2.4896\n",
      "  Binary F1 = 0.8423, Macro F1 = 0.4901, Final Metric = 0.6662\n",
      "Epoch 23: Train Loss = 2.1970, Val Loss = 2.4826\n",
      "  Binary F1 = 0.8430, Macro F1 = 0.5067, Final Metric = 0.6748\n",
      "Epoch 24: Train Loss = 2.1869, Val Loss = 2.4745\n",
      "  Binary F1 = 0.8446, Macro F1 = 0.4879, Final Metric = 0.6663\n",
      "Epoch 25: Train Loss = 2.1769, Val Loss = 2.4789\n",
      "  Binary F1 = 0.8595, Macro F1 = 0.4943, Final Metric = 0.6769\n",
      "Epoch 26: Train Loss = 2.1742, Val Loss = 2.4802\n",
      "  Binary F1 = 0.8530, Macro F1 = 0.4838, Final Metric = 0.6684\n",
      "Epoch 27: Train Loss = 2.1661, Val Loss = 2.4709\n",
      "  Binary F1 = 0.8583, Macro F1 = 0.5054, Final Metric = 0.6818\n",
      "Epoch 28: Train Loss = 2.1672, Val Loss = 2.4825\n",
      "  Binary F1 = 0.8551, Macro F1 = 0.4905, Final Metric = 0.6728\n",
      "Epoch 29: Train Loss = 2.1689, Val Loss = 2.4640\n",
      "  Binary F1 = 0.8640, Macro F1 = 0.5050, Final Metric = 0.6845\n",
      "  New best metric! Saving model...\n",
      "Epoch 30: Train Loss = 2.1590, Val Loss = 2.4615\n",
      "  Binary F1 = 0.8591, Macro F1 = 0.5266, Final Metric = 0.6928\n",
      "  New best metric! Saving model...\n",
      "Epoch 31: Train Loss = 2.1534, Val Loss = 2.4510\n",
      "  Binary F1 = 0.8630, Macro F1 = 0.5288, Final Metric = 0.6959\n",
      "  New best metric! Saving model...\n",
      "Epoch 32: Train Loss = 2.1455, Val Loss = 2.4597\n",
      "  Binary F1 = 0.8598, Macro F1 = 0.5336, Final Metric = 0.6967\n",
      "  New best metric! Saving model...\n",
      "Epoch 33: Train Loss = 2.1418, Val Loss = 2.4494\n",
      "  Binary F1 = 0.8579, Macro F1 = 0.5327, Final Metric = 0.6953\n",
      "Epoch 34: Train Loss = 2.1389, Val Loss = 2.4568\n",
      "  Binary F1 = 0.8537, Macro F1 = 0.5228, Final Metric = 0.6883\n",
      "Epoch 35: Train Loss = 2.1358, Val Loss = 2.4580\n",
      "  Binary F1 = 0.8549, Macro F1 = 0.5229, Final Metric = 0.6889\n",
      "Epoch 36: Train Loss = 2.1351, Val Loss = 2.4415\n",
      "  Binary F1 = 0.8535, Macro F1 = 0.5519, Final Metric = 0.7027\n",
      "  New best metric! Saving model...\n",
      "Epoch 37: Train Loss = 2.1333, Val Loss = 2.4491\n",
      "  Binary F1 = 0.8515, Macro F1 = 0.5383, Final Metric = 0.6949\n",
      "Epoch 38: Train Loss = 2.1331, Val Loss = 2.4452\n",
      "  Binary F1 = 0.8519, Macro F1 = 0.5395, Final Metric = 0.6957\n",
      "Epoch 39: Train Loss = 2.1325, Val Loss = 2.4472\n",
      "  Binary F1 = 0.8537, Macro F1 = 0.5394, Final Metric = 0.6965\n",
      "Epoch 40: Train Loss = 2.1323, Val Loss = 2.4516\n",
      "  Binary F1 = 0.8516, Macro F1 = 0.5415, Final Metric = 0.6966\n",
      "Epoch 41: Train Loss = 2.1322, Val Loss = 2.4462\n",
      "  Binary F1 = 0.8524, Macro F1 = 0.5332, Final Metric = 0.6928\n",
      "Epoch 42: Train Loss = 2.1316, Val Loss = 2.4448\n",
      "  Binary F1 = 0.8526, Macro F1 = 0.5351, Final Metric = 0.6938\n",
      "Epoch 43: Train Loss = 2.1314, Val Loss = 2.4546\n",
      "  Binary F1 = 0.8498, Macro F1 = 0.5396, Final Metric = 0.6947\n",
      "Epoch 44: Train Loss = 2.1315, Val Loss = 2.4473\n",
      "  Binary F1 = 0.8530, Macro F1 = 0.5314, Final Metric = 0.6922\n",
      "Epoch 45: Train Loss = 2.1312, Val Loss = 2.4451\n",
      "  Binary F1 = 0.8527, Macro F1 = 0.5391, Final Metric = 0.6959\n",
      "Epoch 46: Train Loss = 2.1310, Val Loss = 2.4444\n",
      "  Binary F1 = 0.8545, Macro F1 = 0.5390, Final Metric = 0.6968\n",
      "Epoch 47: Train Loss = 2.1315, Val Loss = 2.4474\n",
      "  Binary F1 = 0.8540, Macro F1 = 0.5374, Final Metric = 0.6957\n",
      "Epoch 48: Train Loss = 2.1310, Val Loss = 2.4458\n",
      "  Binary F1 = 0.8520, Macro F1 = 0.5414, Final Metric = 0.6967\n",
      "Epoch 49: Train Loss = 2.1307, Val Loss = 2.4454\n",
      "  Binary F1 = 0.8545, Macro F1 = 0.5412, Final Metric = 0.6978\n",
      "Epoch 50: Train Loss = 2.1307, Val Loss = 2.4437\n",
      "  Binary F1 = 0.8555, Macro F1 = 0.5436, Final Metric = 0.6996\n",
      "Epoch 51: Train Loss = 2.1303, Val Loss = 2.4444\n",
      "  Binary F1 = 0.8536, Macro F1 = 0.5416, Final Metric = 0.6976\n",
      "Early stopping triggered at epoch 51\n",
      "\n",
      "Fold 3 completed.\n",
      "Final validation metrics - Binary F1: 0.8536, Macro F1: 0.5416, Final: 0.6976\n",
      "Best validation metrics - Binary F1: 0.8535, Macro F1: 0.5519, Final: 0.7027\n",
      "training: 4\n",
      "\n",
      "==================================================\n",
      "Fold 4/5\n",
      "Epoch 01: Train Loss = 2.7823, Val Loss = 2.7101\n",
      "  Binary F1 = 0.8829, Macro F1 = 0.2340, Final Metric = 0.5585\n",
      "  New best metric! Saving model...\n",
      "Epoch 02: Train Loss = 2.6296, Val Loss = 2.6097\n",
      "  Binary F1 = 0.8931, Macro F1 = 0.3221, Final Metric = 0.6076\n",
      "  New best metric! Saving model...\n",
      "Epoch 03: Train Loss = 2.5431, Val Loss = 2.5616\n",
      "  Binary F1 = 0.9063, Macro F1 = 0.3478, Final Metric = 0.6271\n",
      "  New best metric! Saving model...\n",
      "Epoch 04: Train Loss = 2.4755, Val Loss = 2.5076\n",
      "  Binary F1 = 0.9088, Macro F1 = 0.3871, Final Metric = 0.6480\n",
      "  New best metric! Saving model...\n",
      "Epoch 05: Train Loss = 2.4308, Val Loss = 2.4986\n",
      "  Binary F1 = 0.9010, Macro F1 = 0.4062, Final Metric = 0.6536\n",
      "  New best metric! Saving model...\n",
      "Epoch 06: Train Loss = 2.3930, Val Loss = 2.4906\n",
      "  Binary F1 = 0.9131, Macro F1 = 0.4685, Final Metric = 0.6908\n",
      "  New best metric! Saving model...\n",
      "Epoch 07: Train Loss = 2.3632, Val Loss = 2.5226\n",
      "  Binary F1 = 0.9128, Macro F1 = 0.3884, Final Metric = 0.6506\n",
      "Epoch 08: Train Loss = 2.3388, Val Loss = 2.4693\n",
      "  Binary F1 = 0.9190, Macro F1 = 0.4846, Final Metric = 0.7018\n",
      "  New best metric! Saving model...\n",
      "Epoch 09: Train Loss = 2.3071, Val Loss = 2.4630\n",
      "  Binary F1 = 0.8972, Macro F1 = 0.4954, Final Metric = 0.6963\n",
      "Epoch 10: Train Loss = 2.2955, Val Loss = 2.5274\n",
      "  Binary F1 = 0.9415, Macro F1 = 0.4303, Final Metric = 0.6859\n",
      "Epoch 11: Train Loss = 2.3054, Val Loss = 2.4632\n",
      "  Binary F1 = 0.9261, Macro F1 = 0.4799, Final Metric = 0.7030\n",
      "  New best metric! Saving model...\n",
      "Epoch 12: Train Loss = 2.2973, Val Loss = 2.4597\n",
      "  Binary F1 = 0.9194, Macro F1 = 0.4894, Final Metric = 0.7044\n",
      "  New best metric! Saving model...\n",
      "Epoch 13: Train Loss = 2.2714, Val Loss = 2.4249\n",
      "  Binary F1 = 0.9353, Macro F1 = 0.5341, Final Metric = 0.7347\n",
      "  New best metric! Saving model...\n",
      "Epoch 14: Train Loss = 2.2641, Val Loss = 2.4916\n",
      "  Binary F1 = 0.9136, Macro F1 = 0.5079, Final Metric = 0.7108\n",
      "Epoch 15: Train Loss = 2.2827, Val Loss = 2.4204\n",
      "  Binary F1 = 0.9431, Macro F1 = 0.5360, Final Metric = 0.7395\n",
      "  New best metric! Saving model...\n",
      "Epoch 16: Train Loss = 2.2590, Val Loss = 2.4180\n",
      "  Binary F1 = 0.9421, Macro F1 = 0.5457, Final Metric = 0.7439\n",
      "  New best metric! Saving model...\n",
      "Epoch 17: Train Loss = 2.2474, Val Loss = 2.4399\n",
      "  Binary F1 = 0.9254, Macro F1 = 0.5252, Final Metric = 0.7253\n",
      "Epoch 18: Train Loss = 2.2485, Val Loss = 2.4435\n",
      "  Binary F1 = 0.9328, Macro F1 = 0.5253, Final Metric = 0.7290\n",
      "Epoch 19: Train Loss = 2.2382, Val Loss = 2.4737\n",
      "  Binary F1 = 0.9427, Macro F1 = 0.4477, Final Metric = 0.6952\n",
      "Epoch 20: Train Loss = 2.2246, Val Loss = 2.4521\n",
      "  Binary F1 = 0.9219, Macro F1 = 0.5075, Final Metric = 0.7147\n",
      "Epoch 21: Train Loss = 2.2228, Val Loss = 2.4277\n",
      "  Binary F1 = 0.9398, Macro F1 = 0.5273, Final Metric = 0.7336\n",
      "Epoch 22: Train Loss = 2.2115, Val Loss = 2.4162\n",
      "  Binary F1 = 0.9429, Macro F1 = 0.5490, Final Metric = 0.7460\n",
      "  New best metric! Saving model...\n",
      "Epoch 23: Train Loss = 2.1980, Val Loss = 2.4413\n",
      "  Binary F1 = 0.9273, Macro F1 = 0.5175, Final Metric = 0.7224\n",
      "Epoch 24: Train Loss = 2.1872, Val Loss = 2.4216\n",
      "  Binary F1 = 0.9428, Macro F1 = 0.5271, Final Metric = 0.7350\n",
      "Epoch 25: Train Loss = 2.1825, Val Loss = 2.4244\n",
      "  Binary F1 = 0.9272, Macro F1 = 0.5415, Final Metric = 0.7343\n",
      "Epoch 26: Train Loss = 2.1790, Val Loss = 2.4196\n",
      "  Binary F1 = 0.9422, Macro F1 = 0.5567, Final Metric = 0.7495\n",
      "  New best metric! Saving model...\n",
      "Epoch 27: Train Loss = 2.1697, Val Loss = 2.4129\n",
      "  Binary F1 = 0.9482, Macro F1 = 0.5499, Final Metric = 0.7490\n",
      "Epoch 28: Train Loss = 2.1629, Val Loss = 2.3966\n",
      "  Binary F1 = 0.9487, Macro F1 = 0.5675, Final Metric = 0.7581\n",
      "  New best metric! Saving model...\n",
      "Epoch 29: Train Loss = 2.1571, Val Loss = 2.3981\n",
      "  Binary F1 = 0.9523, Macro F1 = 0.5666, Final Metric = 0.7595\n",
      "  New best metric! Saving model...\n",
      "Epoch 30: Train Loss = 2.1508, Val Loss = 2.4015\n",
      "  Binary F1 = 0.9482, Macro F1 = 0.5645, Final Metric = 0.7564\n",
      "Epoch 31: Train Loss = 2.1465, Val Loss = 2.3928\n",
      "  Binary F1 = 0.9444, Macro F1 = 0.5793, Final Metric = 0.7618\n",
      "  New best metric! Saving model...\n",
      "Epoch 32: Train Loss = 2.1441, Val Loss = 2.4126\n",
      "  Binary F1 = 0.9510, Macro F1 = 0.5486, Final Metric = 0.7498\n",
      "Epoch 33: Train Loss = 2.1372, Val Loss = 2.4095\n",
      "  Binary F1 = 0.9427, Macro F1 = 0.5548, Final Metric = 0.7487\n",
      "Epoch 34: Train Loss = 2.1331, Val Loss = 2.4012\n",
      "  Binary F1 = 0.9442, Macro F1 = 0.5682, Final Metric = 0.7562\n",
      "Epoch 35: Train Loss = 2.1327, Val Loss = 2.3770\n",
      "  Binary F1 = 0.9537, Macro F1 = 0.5902, Final Metric = 0.7720\n",
      "  New best metric! Saving model...\n",
      "Epoch 36: Train Loss = 2.1297, Val Loss = 2.4461\n",
      "  Binary F1 = 0.9371, Macro F1 = 0.5730, Final Metric = 0.7550\n",
      "Epoch 37: Train Loss = 2.1296, Val Loss = 2.3922\n",
      "  Binary F1 = 0.9369, Macro F1 = 0.5715, Final Metric = 0.7542\n",
      "Epoch 38: Train Loss = 2.1261, Val Loss = 2.3956\n",
      "  Binary F1 = 0.9424, Macro F1 = 0.5749, Final Metric = 0.7587\n",
      "Epoch 39: Train Loss = 2.1243, Val Loss = 2.3908\n",
      "  Binary F1 = 0.9427, Macro F1 = 0.5811, Final Metric = 0.7619\n",
      "Epoch 40: Train Loss = 2.1234, Val Loss = 2.3845\n",
      "  Binary F1 = 0.9433, Macro F1 = 0.5771, Final Metric = 0.7602\n",
      "Epoch 41: Train Loss = 2.1223, Val Loss = 2.3873\n",
      "  Binary F1 = 0.9419, Macro F1 = 0.5761, Final Metric = 0.7590\n",
      "Epoch 42: Train Loss = 2.1221, Val Loss = 2.3864\n",
      "  Binary F1 = 0.9419, Macro F1 = 0.5750, Final Metric = 0.7585\n",
      "Epoch 43: Train Loss = 2.1215, Val Loss = 2.3872\n",
      "  Binary F1 = 0.9423, Macro F1 = 0.5739, Final Metric = 0.7581\n",
      "Epoch 44: Train Loss = 2.1214, Val Loss = 2.3848\n",
      "  Binary F1 = 0.9429, Macro F1 = 0.5821, Final Metric = 0.7625\n",
      "Epoch 45: Train Loss = 2.1211, Val Loss = 2.3846\n",
      "  Binary F1 = 0.9438, Macro F1 = 0.5775, Final Metric = 0.7607\n",
      "Epoch 46: Train Loss = 2.1210, Val Loss = 2.3864\n",
      "  Binary F1 = 0.9443, Macro F1 = 0.5795, Final Metric = 0.7619\n",
      "Epoch 47: Train Loss = 2.1208, Val Loss = 2.3861\n",
      "  Binary F1 = 0.9438, Macro F1 = 0.5801, Final Metric = 0.7620\n",
      "Epoch 48: Train Loss = 2.1205, Val Loss = 2.3877\n",
      "  Binary F1 = 0.9448, Macro F1 = 0.5796, Final Metric = 0.7622\n",
      "Epoch 49: Train Loss = 2.1206, Val Loss = 2.3861\n",
      "  Binary F1 = 0.9443, Macro F1 = 0.5773, Final Metric = 0.7608\n",
      "Epoch 50: Train Loss = 2.1202, Val Loss = 2.3853\n",
      "  Binary F1 = 0.9439, Macro F1 = 0.5761, Final Metric = 0.7600\n",
      "Early stopping triggered at epoch 50\n",
      "\n",
      "Fold 4 completed.\n",
      "Final validation metrics - Binary F1: 0.9439, Macro F1: 0.5761, Final: 0.7600\n",
      "Best validation metrics - Binary F1: 0.9537, Macro F1: 0.5902, Final: 0.7720\n",
      "training: 5\n",
      "\n",
      "==================================================\n",
      "Fold 5/5\n",
      "Epoch 01: Train Loss = 2.8106, Val Loss = 2.7495\n",
      "  Binary F1 = 0.8544, Macro F1 = 0.2504, Final Metric = 0.5524\n",
      "  New best metric! Saving model...\n",
      "Epoch 02: Train Loss = 2.6679, Val Loss = 2.6172\n",
      "  Binary F1 = 0.8956, Macro F1 = 0.3409, Final Metric = 0.6182\n",
      "  New best metric! Saving model...\n",
      "Epoch 03: Train Loss = 2.5526, Val Loss = 2.5227\n",
      "  Binary F1 = 0.9167, Macro F1 = 0.4130, Final Metric = 0.6649\n",
      "  New best metric! Saving model...\n",
      "Epoch 04: Train Loss = 2.4651, Val Loss = 2.4732\n",
      "  Binary F1 = 0.9282, Macro F1 = 0.4848, Final Metric = 0.7065\n",
      "  New best metric! Saving model...\n",
      "Epoch 05: Train Loss = 2.4152, Val Loss = 2.4523\n",
      "  Binary F1 = 0.9244, Macro F1 = 0.5183, Final Metric = 0.7213\n",
      "  New best metric! Saving model...\n",
      "Epoch 06: Train Loss = 2.3787, Val Loss = 2.4477\n",
      "  Binary F1 = 0.9215, Macro F1 = 0.5026, Final Metric = 0.7121\n",
      "Epoch 07: Train Loss = 2.3620, Val Loss = 2.4385\n",
      "  Binary F1 = 0.9279, Macro F1 = 0.5290, Final Metric = 0.7284\n",
      "  New best metric! Saving model...\n",
      "Epoch 08: Train Loss = 2.3473, Val Loss = 2.4670\n",
      "  Binary F1 = 0.8962, Macro F1 = 0.4664, Final Metric = 0.6813\n",
      "Epoch 09: Train Loss = 2.3391, Val Loss = 2.4749\n",
      "  Binary F1 = 0.9178, Macro F1 = 0.4293, Final Metric = 0.6736\n",
      "Epoch 10: Train Loss = 2.3319, Val Loss = 2.4864\n",
      "  Binary F1 = 0.9316, Macro F1 = 0.4477, Final Metric = 0.6897\n",
      "Epoch 11: Train Loss = 2.3101, Val Loss = 2.4541\n",
      "  Binary F1 = 0.9292, Macro F1 = 0.4971, Final Metric = 0.7131\n",
      "Epoch 12: Train Loss = 2.3029, Val Loss = 2.4049\n",
      "  Binary F1 = 0.9377, Macro F1 = 0.5446, Final Metric = 0.7412\n",
      "  New best metric! Saving model...\n",
      "Epoch 13: Train Loss = 2.3028, Val Loss = 2.4181\n",
      "  Binary F1 = 0.9473, Macro F1 = 0.5061, Final Metric = 0.7267\n",
      "Epoch 14: Train Loss = 2.3021, Val Loss = 2.4502\n",
      "  Binary F1 = 0.9487, Macro F1 = 0.4671, Final Metric = 0.7079\n",
      "Epoch 15: Train Loss = 2.2852, Val Loss = 2.4344\n",
      "  Binary F1 = 0.9362, Macro F1 = 0.4881, Final Metric = 0.7122\n",
      "Epoch 16: Train Loss = 2.3033, Val Loss = 2.4124\n",
      "  Binary F1 = 0.9409, Macro F1 = 0.5298, Final Metric = 0.7353\n",
      "Epoch 17: Train Loss = 2.2932, Val Loss = 2.4238\n",
      "  Binary F1 = 0.9469, Macro F1 = 0.5210, Final Metric = 0.7339\n",
      "Epoch 18: Train Loss = 2.2975, Val Loss = 2.4768\n",
      "  Binary F1 = 0.9428, Macro F1 = 0.4624, Final Metric = 0.7026\n",
      "Epoch 19: Train Loss = 2.2768, Val Loss = 2.4468\n",
      "  Binary F1 = 0.9472, Macro F1 = 0.4703, Final Metric = 0.7088\n",
      "Epoch 20: Train Loss = 2.2725, Val Loss = 2.4210\n",
      "  Binary F1 = 0.9452, Macro F1 = 0.5312, Final Metric = 0.7382\n",
      "Epoch 21: Train Loss = 2.2739, Val Loss = 2.4398\n",
      "  Binary F1 = 0.9317, Macro F1 = 0.5077, Final Metric = 0.7197\n",
      "Epoch 22: Train Loss = 2.2728, Val Loss = 2.4318\n",
      "  Binary F1 = 0.9470, Macro F1 = 0.4844, Final Metric = 0.7157\n",
      "Epoch 23: Train Loss = 2.2644, Val Loss = 2.4121\n",
      "  Binary F1 = 0.9432, Macro F1 = 0.5268, Final Metric = 0.7350\n",
      "Epoch 24: Train Loss = 2.2513, Val Loss = 2.4140\n",
      "  Binary F1 = 0.9388, Macro F1 = 0.5246, Final Metric = 0.7317\n",
      "Epoch 25: Train Loss = 2.2401, Val Loss = 2.4082\n",
      "  Binary F1 = 0.9298, Macro F1 = 0.5276, Final Metric = 0.7287\n",
      "Epoch 26: Train Loss = 2.2318, Val Loss = 2.3896\n",
      "  Binary F1 = 0.9432, Macro F1 = 0.5546, Final Metric = 0.7489\n",
      "  New best metric! Saving model...\n",
      "Epoch 27: Train Loss = 2.2319, Val Loss = 2.3944\n",
      "  Binary F1 = 0.9416, Macro F1 = 0.5485, Final Metric = 0.7451\n",
      "Epoch 28: Train Loss = 2.2283, Val Loss = 2.4001\n",
      "  Binary F1 = 0.9351, Macro F1 = 0.5277, Final Metric = 0.7314\n",
      "Epoch 29: Train Loss = 2.2222, Val Loss = 2.4015\n",
      "  Binary F1 = 0.9506, Macro F1 = 0.5537, Final Metric = 0.7521\n",
      "  New best metric! Saving model...\n",
      "Epoch 30: Train Loss = 2.2111, Val Loss = 2.4085\n",
      "  Binary F1 = 0.9416, Macro F1 = 0.5265, Final Metric = 0.7341\n",
      "Epoch 31: Train Loss = 2.2123, Val Loss = 2.3859\n",
      "  Binary F1 = 0.9490, Macro F1 = 0.5496, Final Metric = 0.7493\n",
      "Epoch 32: Train Loss = 2.2062, Val Loss = 2.3812\n",
      "  Binary F1 = 0.9543, Macro F1 = 0.5502, Final Metric = 0.7523\n",
      "  New best metric! Saving model...\n",
      "Epoch 33: Train Loss = 2.2030, Val Loss = 2.3911\n",
      "  Binary F1 = 0.9559, Macro F1 = 0.5569, Final Metric = 0.7564\n",
      "  New best metric! Saving model...\n",
      "Epoch 34: Train Loss = 2.1990, Val Loss = 2.3799\n",
      "  Binary F1 = 0.9554, Macro F1 = 0.5584, Final Metric = 0.7569\n",
      "  New best metric! Saving model...\n",
      "Epoch 35: Train Loss = 2.1977, Val Loss = 2.3755\n",
      "  Binary F1 = 0.9445, Macro F1 = 0.5621, Final Metric = 0.7533\n",
      "Epoch 36: Train Loss = 2.1973, Val Loss = 2.3806\n",
      "  Binary F1 = 0.9484, Macro F1 = 0.5615, Final Metric = 0.7550\n",
      "Epoch 37: Train Loss = 2.1975, Val Loss = 2.3824\n",
      "  Binary F1 = 0.9519, Macro F1 = 0.5675, Final Metric = 0.7597\n",
      "  New best metric! Saving model...\n",
      "Epoch 38: Train Loss = 2.1952, Val Loss = 2.3691\n",
      "  Binary F1 = 0.9499, Macro F1 = 0.5739, Final Metric = 0.7619\n",
      "  New best metric! Saving model...\n",
      "Epoch 39: Train Loss = 2.1939, Val Loss = 2.3826\n",
      "  Binary F1 = 0.9403, Macro F1 = 0.5516, Final Metric = 0.7460\n",
      "Epoch 40: Train Loss = 2.1928, Val Loss = 2.3798\n",
      "  Binary F1 = 0.9503, Macro F1 = 0.5644, Final Metric = 0.7573\n",
      "Epoch 41: Train Loss = 2.1923, Val Loss = 2.3663\n",
      "  Binary F1 = 0.9549, Macro F1 = 0.5796, Final Metric = 0.7673\n",
      "  New best metric! Saving model...\n",
      "Epoch 42: Train Loss = 2.1919, Val Loss = 2.3675\n",
      "  Binary F1 = 0.9487, Macro F1 = 0.5730, Final Metric = 0.7609\n",
      "Epoch 43: Train Loss = 2.1909, Val Loss = 2.3668\n",
      "  Binary F1 = 0.9465, Macro F1 = 0.5677, Final Metric = 0.7571\n",
      "Epoch 44: Train Loss = 2.1908, Val Loss = 2.3679\n",
      "  Binary F1 = 0.9488, Macro F1 = 0.5701, Final Metric = 0.7594\n",
      "Epoch 45: Train Loss = 2.1904, Val Loss = 2.3693\n",
      "  Binary F1 = 0.9470, Macro F1 = 0.5682, Final Metric = 0.7576\n",
      "Epoch 46: Train Loss = 2.1901, Val Loss = 2.3686\n",
      "  Binary F1 = 0.9487, Macro F1 = 0.5709, Final Metric = 0.7598\n",
      "Epoch 47: Train Loss = 2.1900, Val Loss = 2.3669\n",
      "  Binary F1 = 0.9469, Macro F1 = 0.5723, Final Metric = 0.7596\n",
      "Epoch 48: Train Loss = 2.1899, Val Loss = 2.3660\n",
      "  Binary F1 = 0.9502, Macro F1 = 0.5730, Final Metric = 0.7616\n",
      "Epoch 49: Train Loss = 2.1895, Val Loss = 2.3655\n",
      "  Binary F1 = 0.9479, Macro F1 = 0.5737, Final Metric = 0.7608\n",
      "Epoch 50: Train Loss = 2.1858, Val Loss = 2.3795\n",
      "  Binary F1 = 0.9288, Macro F1 = 0.5869, Final Metric = 0.7579\n",
      "Epoch 51: Train Loss = 2.1622, Val Loss = 2.3673\n",
      "  Binary F1 = 0.9432, Macro F1 = 0.6093, Final Metric = 0.7762\n",
      "  New best metric! Saving model...\n",
      "Epoch 52: Train Loss = 2.1435, Val Loss = 2.3715\n",
      "  Binary F1 = 0.9434, Macro F1 = 0.6020, Final Metric = 0.7727\n",
      "Epoch 53: Train Loss = 2.1345, Val Loss = 2.3718\n",
      "  Binary F1 = 0.9433, Macro F1 = 0.6034, Final Metric = 0.7734\n",
      "Epoch 54: Train Loss = 2.1297, Val Loss = 2.3709\n",
      "  Binary F1 = 0.9416, Macro F1 = 0.6005, Final Metric = 0.7711\n",
      "Epoch 55: Train Loss = 2.1264, Val Loss = 2.3788\n",
      "  Binary F1 = 0.9407, Macro F1 = 0.5925, Final Metric = 0.7666\n",
      "Epoch 56: Train Loss = 2.1250, Val Loss = 2.3720\n",
      "  Binary F1 = 0.9421, Macro F1 = 0.5982, Final Metric = 0.7701\n",
      "Epoch 57: Train Loss = 2.1242, Val Loss = 2.3737\n",
      "  Binary F1 = 0.9407, Macro F1 = 0.5932, Final Metric = 0.7670\n",
      "Epoch 58: Train Loss = 2.1238, Val Loss = 2.3747\n",
      "  Binary F1 = 0.9402, Macro F1 = 0.5913, Final Metric = 0.7658\n",
      "Epoch 59: Train Loss = 2.1236, Val Loss = 2.3741\n",
      "  Binary F1 = 0.9407, Macro F1 = 0.5929, Final Metric = 0.7668\n",
      "Epoch 60: Train Loss = 2.1236, Val Loss = 2.3737\n",
      "  Binary F1 = 0.9399, Macro F1 = 0.5928, Final Metric = 0.7663\n",
      "\n",
      "Fold 5 completed.\n",
      "Final validation metrics - Binary F1: 0.9399, Macro F1: 0.5928, Final: 0.7663\n",
      "Best validation metrics - Binary F1: 0.9432, Macro F1: 0.6093, Final: 0.7762\n",
      "\n",
      "==================================================\n",
      "Cross-Validation Results\n",
      "==================================================\n",
      "\n",
      "Best Fold-wise Metrics:\n",
      "Fold 1: Binary F1 = 0.9161, Macro F1 = 0.5598, Final = 0.7380\n",
      "Fold 2: Binary F1 = 0.9120, Macro F1 = 0.5385, Final = 0.7253\n",
      "Fold 3: Binary F1 = 0.8535, Macro F1 = 0.5519, Final = 0.7027\n",
      "Fold 4: Binary F1 = 0.9537, Macro F1 = 0.5902, Final = 0.7720\n",
      "Fold 5: Binary F1 = 0.9432, Macro F1 = 0.6093, Final = 0.7762\n",
      "\n",
      "Global Statistics (Best Metrics):\n",
      "Mean Best Final Metric: 0.7428 ± 0.0280\n",
      "Mean Best Binary F1: 0.9157 ± 0.0349\n",
      "Mean Best Macro F1: 0.5699 ± 0.0260\n"
     ]
    }
   ],
   "source": [
    "seed_everything(seed=SEED)\n",
    "\n",
    "# criterion = soft_cross_entropy\n",
    "criterion = torch.nn.CrossEntropyLoss()\n",
    "\n",
    "n_splits = 5\n",
    "batch_size = 128\n",
    "gkf = GroupKFold(n_splits=n_splits)\n",
    "\n",
    "fold_metrics = []\n",
    "best_fold_metrics = []\n",
    "best_models = []\n",
    "\n",
    "fold_patterns = join(dataset_path, \"preprocessed_dataset\", \"fold*\")\n",
    "fold_pths = glob(fold_patterns)[:NB_CROSS_VALIDATIONS]\n",
    "all_training_metrics = {}\n",
    "\n",
    "\n",
    "for fold, fold_pth in enumerate(fold_pths):\n",
    "    print(\"training:\", fold + 1)\n",
    "    train_dataset = CMIDataset(fold_pth, \"train\")\n",
    "    train_loader = DL(train_dataset, TRAIN_BATCH_SIZE, shuffle=True)\n",
    "    validation_dataset = CMIDataset(fold_pth, \"validation\")\n",
    "    validation_loader = DL(validation_dataset, VALIDATION_BATCH_SIZE, shuffle=False)\n",
    "    print(f\"\\n{'='*50}\")\n",
    "    print(f\"Fold {fold + 1}/{n_splits}\")\n",
    "    \n",
    "    seed_everything(seed=SEED + fold)\n",
    "    model = mk_model()\n",
    "    \n",
    "    # Optimizer et scheduler\n",
    "    optimizer = torch.optim.AdamW(model.parameters(), STARTING_LR)\n",
    "    steps_per_epoch = len(train_loader)\n",
    "    scheduler = torch.optim.lr_scheduler.OneCycleLR(\n",
    "        optimizer,\n",
    "        max_lr=max_lr / 2,\n",
    "        div_factor=MAX_LR_TO_MIN_DIV_FACTOR,\n",
    "        epochs=TRAINING_EPOCHS,\n",
    "        steps_per_epoch=len(train_loader),\n",
    "    )\n",
    "\n",
    "    # Early stopping\n",
    "    best_metric = -np.inf\n",
    "    best_binary_f1 = -np.inf\n",
    "    best_macro_f1 = -np.inf\n",
    "    patience = 15\n",
    "    epochs_no_improve = 0\n",
    "    \n",
    "    for epoch in range(1, TRAINING_EPOCHS + 1):\n",
    "        # Training phase\n",
    "        model.train()\n",
    "        train_loss = 0.0\n",
    "        total = 0\n",
    "        for batch_x, batch_y in train_loader:\n",
    "            batch_x = batch_x.to(device).clone()\n",
    "            batch_y = batch_y.to(device)\n",
    "            batch_x = batch_x.float()\n",
    "    \n",
    "            # TODO: Apply mixup?\n",
    "    \n",
    "            optimizer.zero_grad()\n",
    "            outputs = model(batch_x)\n",
    "            loss = criterion(outputs, batch_y)\n",
    "            loss.backward()\n",
    "            optimizer.step()\n",
    "            scheduler.step()\n",
    "    \n",
    "            train_loss += loss.item() * batch_x.size(0)\n",
    "            total += batch_x.size(0)\n",
    "        train_loss /= total\n",
    "    \n",
    "        # Validation phase\n",
    "        model.eval()\n",
    "        val_loss = 0.0\n",
    "        total = 0\n",
    "        all_true = []\n",
    "        all_pred = []\n",
    "        \n",
    "        with torch.no_grad():\n",
    "            for batch_x, batch_y in validation_loader:\n",
    "                batch_x = batch_x.to(device).clone()\n",
    "                batch_y = batch_y.to(device)\n",
    "                batch_x[VALIDATION_BATCH_SIZE // 2, non_imu_feats_idx] = 0.0\n",
    "                \n",
    "                outputs = model(batch_x)\n",
    "                loss = criterion(outputs, batch_y)\n",
    "                val_loss += loss.item() * batch_x.size(0)\n",
    "                total += batch_x.size(0)\n",
    "                \n",
    "                # Get predicted class indices\n",
    "                preds = torch.argmax(outputs, dim=1).cpu().numpy()\n",
    "                # Get true class indices from one-hot\n",
    "                trues = torch.argmax(batch_y, dim=1).cpu().numpy()\n",
    "                \n",
    "                all_true.append(trues)\n",
    "                all_pred.append(preds)\n",
    "        \n",
    "        val_loss /= total\n",
    "        all_true = np.concatenate(all_true)\n",
    "        all_pred = np.concatenate(all_pred)\n",
    "        \n",
    "        # Compute competition metrics\n",
    "        # Binary classification: BFRB (1) vs non-BFRB (0)\n",
    "        binary_true = np.isin(all_true, bfrb_indices).astype(int)\n",
    "        binary_pred = np.isin(all_pred, bfrb_indices).astype(int)\n",
    "        binary_f1 = f1_score(binary_true, binary_pred)\n",
    "        \n",
    "        # Collapse non-BFRB gestures into a single class\n",
    "        collapsed_true = np.where(\n",
    "            np.isin(all_true, bfrb_indices),\n",
    "            all_true,\n",
    "            len(bfrb_gestures)  # Single non-BFRB class\n",
    "        )\n",
    "        collapsed_pred = np.where(\n",
    "            np.isin(all_pred, bfrb_indices),\n",
    "            all_pred,\n",
    "            len(bfrb_gestures)  # Single non-BFRB class\n",
    "        )\n",
    "        \n",
    "        # Macro F1 on collapsed classes\n",
    "        macro_f1 = f1_score(collapsed_true, collapsed_pred, average='macro')\n",
    "        final_metric = (binary_f1 + macro_f1) / 2\n",
    "        \n",
    "        print(f\"Epoch {epoch:02d}: Train Loss = {train_loss:.4f}, Val Loss = {val_loss:.4f}\")\n",
    "        print(f\"  Binary F1 = {binary_f1:.4f}, Macro F1 = {macro_f1:.4f}, Final Metric = {final_metric:.4f}\")\n",
    "        \n",
    "        if final_metric > best_metric:\n",
    "            best_metric = final_metric\n",
    "            best_binary_f1 = binary_f1\n",
    "            best_macro_f1 = macro_f1\n",
    "            epochs_no_improve = 0\n",
    "            best_model_state = model.state_dict()\n",
    "            print(f\"  New best metric! Saving model...\")\n",
    "        else:\n",
    "            epochs_no_improve += 1\n",
    "            if epochs_no_improve >= patience:\n",
    "                print(f\"Early stopping triggered at epoch {epoch}\")\n",
    "                model.load_state_dict(best_model_state)\n",
    "                break\n",
    "\n",
    "    torch.save(best_model_state, f\"best_model_fold{fold}.pth\")\n",
    "    best_models.append(best_model_state)\n",
    "\n",
    "    fold_metrics.append({\n",
    "        'binary_f1': binary_f1,\n",
    "        'macro_f1': macro_f1,\n",
    "        'final_metric': final_metric\n",
    "    })\n",
    "    \n",
    "    best_fold_metrics.append({\n",
    "        'binary_f1': best_binary_f1,\n",
    "        'macro_f1': best_macro_f1,\n",
    "        'final_metric': best_metric\n",
    "    })\n",
    "    \n",
    "    print(f\"\\nFold {fold + 1} completed.\")\n",
    "    print(f\"Final validation metrics - Binary F1: {binary_f1:.4f}, Macro F1: {macro_f1:.4f}, Final: {final_metric:.4f}\")\n",
    "    print(f\"Best validation metrics - Binary F1: {best_binary_f1:.4f}, Macro F1: {best_macro_f1:.4f}, Final: {best_metric:.4f}\")\n",
    "\n",
    "print(\"\\n\" + \"=\"*50)\n",
    "print(\"Cross-Validation Results\")\n",
    "print(\"=\"*50)\n",
    "\n",
    "# Statistiques pour les meilleures métriques\n",
    "best_binary_f1 = [m['binary_f1'] for m in best_fold_metrics]\n",
    "best_macro_f1 = [m['macro_f1'] for m in best_fold_metrics]\n",
    "best_metrics = [m['final_metric'] for m in best_fold_metrics]\n",
    "\n",
    "print(\"\\nBest Fold-wise Metrics:\")\n",
    "for i, (bf1, mf1, fm) in enumerate(zip(best_binary_f1, best_macro_f1, best_metrics)):\n",
    "    print(f\"Fold {i+1}: Binary F1 = {bf1:.4f}, Macro F1 = {mf1:.4f}, Final = {fm:.4f}\")\n",
    "\n",
    "print(\"\\nGlobal Statistics (Best Metrics):\")\n",
    "print(f\"Mean Best Final Metric: {np.mean(best_metrics):.4f} ± {np.std(best_metrics):.4f}\")\n",
    "print(f\"Mean Best Binary F1: {np.mean(best_binary_f1):.4f} ± {np.std(best_binary_f1):.4f}\")\n",
    "print(f\"Mean Best Macro F1: {np.mean(best_macro_f1):.4f} ± {np.std(best_macro_f1):.4f}\")"
   ]
  },
  {
   "cell_type": "markdown",
   "id": "07ea7558",
   "metadata": {
    "papermill": {
     "duration": 0.012909,
     "end_time": "2025-06-14T10:09:14.961270",
     "exception": false,
     "start_time": "2025-06-14T10:09:14.948361",
     "status": "completed"
    },
    "tags": []
   },
   "source": [
    "## Submission"
   ]
  },
  {
   "cell_type": "markdown",
   "id": "3aea5e4f",
   "metadata": {
    "papermill": {
     "duration": 0.012906,
     "end_time": "2025-06-14T10:09:14.780212",
     "exception": false,
     "start_time": "2025-06-14T10:09:14.767306",
     "status": "completed"
    },
    "tags": []
   },
   "source": [
    "### Reloading best model"
   ]
  },
  {
   "cell_type": "code",
   "execution_count": 51,
   "id": "a0574d4d",
   "metadata": {
    "execution": {
     "iopub.execute_input": "2025-06-14T10:09:14.807902Z",
     "iopub.status.busy": "2025-06-14T10:09:14.807165Z",
     "iopub.status.idle": "2025-06-14T10:09:14.933288Z",
     "shell.execute_reply": "2025-06-14T10:09:14.932459Z"
    },
    "papermill": {
     "duration": 0.141435,
     "end_time": "2025-06-14T10:09:14.934745",
     "exception": false,
     "start_time": "2025-06-14T10:09:14.793310",
     "status": "completed"
    },
    "tags": []
   },
   "outputs": [],
   "source": [
    "model_ensemble = []\n",
    "for fold in range(5):\n",
    "    model = mk_model().to(device)\n",
    "    checkpoint = torch.load(f\"best_model_fold{fold}.pth\", map_location=device, weights_only=True)\n",
    "    model.load_state_dict(checkpoint)\n",
    "    model.eval()\n",
    "    model_ensemble.append(model)"
   ]
  },
  {
   "cell_type": "markdown",
   "id": "a826dec8",
   "metadata": {},
   "source": [
    "### Define preprocessing function"
   ]
  },
  {
   "cell_type": "code",
   "execution_count": null,
   "id": "481e69b6",
   "metadata": {},
   "outputs": [],
   "source": [
    "def get_fillna_val_per_feature_col(df:DF) -> dict:\n",
    "    return {col: 1.0 if col == 'rot_w' else 0 for col in get_feature_cols(df)}\n",
    "\n",
    "def imputed_features(df:DF) -> DF:\n",
    "    # Missing ToF values are already imputed by -1 which is inconvinient since we want all missing values to be NaN.    \n",
    "    # So we replace them by NaN and then perform imputing.  \n",
    "    tof_vals_to_nan = {col: -1.0 for col in df.columns if col.startswith(\"tof\")}\n",
    "\n",
    "    df[get_feature_cols(df)] = (\n",
    "        df\n",
    "        .loc[:, get_feature_cols(df)]\n",
    "        # df.replace with np.nan sets dtype to floar64 so we set it back to float32\n",
    "        .replace(tof_vals_to_nan, value=np.nan)\n",
    "        .astype(\"float32\")\n",
    "        .groupby(df[\"sequence_id\"], observed=True, as_index=False)\n",
    "        .ffill()\n",
    "        .groupby(df[\"sequence_id\"], observed=True, as_index=False)\n",
    "        .bfill()\n",
    "        # In case there are only nan in the column in the sequence\n",
    "        .fillna(get_fillna_val_per_feature_col(df))\n",
    "    )\n",
    "    return df\n",
    "\n",
    "def norm_quat_rotations(df:DF) -> DF:\n",
    "    df[QUATERNION_COLS] /= np.linalg.norm(df[QUATERNION_COLS], axis=1, keepdims=True)\n",
    "    return df\n",
    "\n",
    "def add_linear_acc_cols(df:DF) -> DF:\n",
    "    # Vectorized version of https://www.kaggle.com/code/wasupandceacar/lb-0-82-5fold-single-bert-model#Dataset `remove_gravity_from_acc`\n",
    "    rotations:Rotation = Rotation.from_quat(df[QUATERNION_COLS])\n",
    "    gravity_sensor_frame = rotations.apply(GRAVITY_WORLD, inverse=True).astype(\"float32\")\n",
    "    df[LINEAR_ACC_COLS] = df[RAW_ACCELRATION_COLS] - gravity_sensor_frame\n",
    "    return df\n",
    "\n",
    "def add_acc_magnitude(df:DF, acc_cols:list[str], acc_mag_col_name:str) -> DF:\n",
    "    return df.assign(**{acc_mag_col_name: np.linalg.norm(df.loc[:, acc_cols], axis=1)})\n",
    "\n",
    "def add_quat_angle_mag(df:DF) -> DF:\n",
    "    return df.assign(quat_rot_mag=np.arccos(df[\"rot_w\"]) * 2)\n",
    "\n",
    "def add_angular_velocity_features(df:DF) -> DF:\n",
    "    rotations = Rotation.from_quat(df[QUATERNION_COLS])\n",
    "    delta_rotations = rotations[1:] * rotations[:-1].inv()\n",
    "    delta_rot_velocity = delta_rotations.as_rotvec()\n",
    "    # Add extra line to avoid shape mismatch\n",
    "    delta_rot_velocity = np.vstack((np.zeros((1, 3)), delta_rot_velocity))\n",
    "    delta_rot_magnitude = norm(delta_rot_velocity, axis=1, keepdims=True)\n",
    "    delta_rot_axes = delta_rot_velocity / (delta_rot_magnitude + EPSILON)\n",
    "    df[DELTA_ROTATION_ANGULAR_VELOCITY_COLS] = delta_rot_velocity\n",
    "    df[DELTA_ROTATION_AXES_COLS] = delta_rot_axes\n",
    "    df[\"delta_rot_mag\"] = delta_rot_magnitude.squeeze()\n",
    "\n",
    "    return df\n",
    "\n",
    "def rot_euler_angles(df:DF) -> ndarray:\n",
    "    df[EULER_ANGLES_COLS] = (\n",
    "        Rotation\n",
    "        .from_quat(df[QUATERNION_COLS])\n",
    "        .as_euler(\"xyz\")\n",
    "        .squeeze()\n",
    "    )\n",
    "    return df\n",
    "\n",
    "def agg_tof_cols_per_sensor(df:DF) -> DF:\n",
    "    for tof_idx in tqdm(range(1, 6)):\n",
    "        tof_name = f\"tof_{tof_idx}\"\n",
    "        tof_cols = [f\"{tof_name}_v{v_idx}\" for v_idx in range(64)]\n",
    "        if any(map(lambda col: col not in df.columns, tof_cols)):\n",
    "            print(f\"Some (or) all ToF {tof_idx} columns are not in the df. Maybe you already ran this cell?\")\n",
    "            continue\n",
    "        df = pd.concat(\n",
    "            (\n",
    "                df.drop(columns=tof_cols),\n",
    "                # For some reasons, it's faster to call all the aggregation functions seperatly than agg(list of functions)\n",
    "                df[tof_cols].mean(axis=\"columns\").to_frame(tof_name + \"_mean\"),\n",
    "                df[tof_cols].std(axis=\"columns\").to_frame(tof_name + \"_std\"),\n",
    "                df[tof_cols].median(axis=\"columns\").to_frame(tof_name + \"_median\"),\n",
    "                df[tof_cols].min(axis=\"columns\").to_frame(tof_name + \"_min\"),\n",
    "                df[tof_cols].max(axis=\"columns\").to_frame(tof_name + \"_max\"),\n",
    "            ),\n",
    "            axis=\"columns\",\n",
    "        )\n",
    "    return df\n",
    "\n",
    "def add_diff_features(df:DF) -> DF:\n",
    "    return pd.concat(\n",
    "        (\n",
    "            df,\n",
    "            df\n",
    "            .groupby(\"sequence_id\", as_index=False, observed=True)\n",
    "            [get_feature_cols(df)]\n",
    "            .diff()\n",
    "            .fillna(get_fillna_val_per_feature_col(df))\n",
    "            .add_prefix(\"diff_\")\n",
    "        ),\n",
    "        axis=\"columns\",\n",
    "    )\n",
    "\n",
    "def length_normed_sequence_feat_arr(sequence: DF) -> ndarray:\n",
    "    features = (\n",
    "        sequence\n",
    "        .loc[:, meta_data[\"feature_cols\"]]\n",
    "        .values\n",
    "    )\n",
    "    normed_sequence_len = meta_data[\"pad_seq_len\"]\n",
    "    len_diff = abs(normed_sequence_len - len(features))\n",
    "    if len(features) < normed_sequence_len:\n",
    "        padded_features = np.pad(\n",
    "            features,\n",
    "            ((len_diff // 2 + len_diff % 2, len_diff // 2), (0, 0)),\n",
    "        )\n",
    "        return padded_features\n",
    "    elif len(features) > normed_sequence_len:\n",
    "        return features[len_diff // 2:-len_diff // 2]\n",
    "    else:\n",
    "        return features\n",
    "\n",
    "def preprocess_sequence(sequence_df:pl.DataFrame) -> ndarray:\n",
    "    return (\n",
    "        sequence_df                     \n",
    "        .to_pandas()                            # Convert to pandas dataframe.\n",
    "        .pipe(imputed_features)                 # Impute missing data.\n",
    "        .pipe(norm_quat_rotations)              # Norm quaternions\n",
    "        .pipe(add_linear_acc_cols)              # Add gravity free acceleration.\n",
    "        .pipe(add_acc_magnitude, RAW_ACCELRATION_COLS, \"raw_acc_mag\")\n",
    "        .pipe(add_acc_magnitude, LINEAR_ACC_COLS, \"linear_acc_mag\")\n",
    "        .pipe(add_quat_angle_mag)\n",
    "        .pipe(add_angular_velocity_features)\n",
    "        .pipe(rot_euler_angles)                 # Add rotation acc expressed as euler angles.\n",
    "        .pipe(agg_tof_cols_per_sensor)          # Aggregate ToF columns.\n",
    "        .pipe(add_diff_features)                # \n",
    "        .loc[:, sorted(meta_data[\"feature_cols\"])]      # Retain only the usefull columns a.k.a features.\n",
    "        .sub(meta_data[\"mean\"])                 # Subtract features by their mean, std norm pt.1.\n",
    "        .div(meta_data[\"std\"])                  # Divide by Standard deviation, std norm pt.2.\n",
    "        .pipe(length_normed_sequence_feat_arr)  # get feature ndarray of sequence.\n",
    "        .T                                      # Transpose to swap channel and X dimensions.\n",
    "    )"
   ]
  },
  {
   "cell_type": "markdown",
   "id": "1ebb0960",
   "metadata": {},
   "source": [
    "### Define prediction function"
   ]
  },
  {
   "cell_type": "code",
   "execution_count": 53,
   "id": "57d8dfff",
   "metadata": {
    "execution": {
     "iopub.execute_input": "2025-06-14T10:09:14.989742Z",
     "iopub.status.busy": "2025-06-14T10:09:14.989258Z",
     "iopub.status.idle": "2025-06-14T10:09:14.995936Z",
     "shell.execute_reply": "2025-06-14T10:09:14.995244Z"
    },
    "papermill": {
     "duration": 0.021303,
     "end_time": "2025-06-14T10:09:14.997034",
     "exception": false,
     "start_time": "2025-06-14T10:09:14.975731",
     "status": "completed"
    },
    "tags": []
   },
   "outputs": [],
   "source": [
    "# def predict(sequence: pl.DataFrame, demographics: pl.DataFrame) -> str:\n",
    "#     \"\"\"\n",
    "#     Kaggle evaluation API will call this for each sequence.\n",
    "#     sequence: polars DataFrame for a single sequence\n",
    "#     demographics: unused in this model\n",
    "#     Returns: predicted gesture string\n",
    "#     \"\"\"\n",
    "#     df_seq = sequence.to_pandas()\n",
    "#     df_demo = demographics.to_pandas()\n",
    "\n",
    "#     df_seq = df_seq.merge(\n",
    "#         df_demo,\n",
    "#         on='subject',\n",
    "#         how='left',\n",
    "#         validate='many_to_one',\n",
    "#     )\n",
    "#     right_handed_mask = df_seq['handedness'] == 1\n",
    "#     df_seq.loc[right_handed_mask, imu_cols] = apply_symmetry(df_seq.loc[right_handed_mask, imu_cols])\n",
    "\n",
    "#     x_tensor = preprocess_sequence(df_seq).to(device)\n",
    "\n",
    "#     all_outputs = []\n",
    "#     with torch.no_grad():\n",
    "#         for model in model_ensemble:\n",
    "#             outputs = model(x_tensor).softmax(dim=-1)\n",
    "#             all_outputs.append(outputs)\n",
    "\n",
    "#     avg_outputs = torch.mean(torch.stack(all_outputs), dim=0)\n",
    "#     pred_idx = torch.argmax(avg_outputs, dim=1).item()\n",
    "\n",
    "#     return str(gesture_classes[pred_idx])\n",
    "\n",
    "def predict(sequence: pl.DataFrame, _: pl.DataFrame) -> str:\n",
    "    \"\"\"\n",
    "    Kaggle evaluation API will call this for each sequence.\n",
    "    sequence: polars DataFrame for a single sequence\n",
    "    demographics: unused in this model\n",
    "    Returns: predicted gesture string\n",
    "    \"\"\"\n",
    "    # df_seq = sequence.to_pandas()\n",
    "    # df_demo = demographics.to_pandas()\n",
    "\n",
    "    # df_seq = df_seq.merge(\n",
    "    #     df_demo,\n",
    "    #     on='subject',\n",
    "    #     how='left',\n",
    "    #     validate='many_to_one',\n",
    "    # )\n",
    "    # right_handed_mask = df_seq['handedness'] == 1\n",
    "    # df_seq.loc[right_handed_mask, imu_cols] = apply_symmetry(df_seq.loc[right_handed_mask, imu_cols])\n",
    "    # x = torch.unsqueeze(Tensor(x), dim=0).to(device)\n",
    "\n",
    "    x_tensor = (\n",
    "        torch.unsqueeze(Tensor(preprocess_sequence(sequence)), dim=0)\n",
    "        .float()\n",
    "        .to(device)\n",
    "    )\n",
    "    print(x_tensor.shape)\n",
    "\n",
    "    all_outputs = []\n",
    "    with torch.no_grad():\n",
    "        for model_idx, model in enumerate(model_ensemble): # Only take the first one bc it's the only one that takes in the correct input shape\n",
    "            outputs = model(x_tensor)\n",
    "            all_outputs.append(outputs)\n",
    "\n",
    "    avg_outputs = torch.mean(torch.stack(all_outputs), dim=0)\n",
    "    pred_idx = torch.argmax(avg_outputs, dim=1).item()\n",
    "\n",
    "    return str(gesture_classes[pred_idx])"
   ]
  },
  {
   "cell_type": "markdown",
   "id": "5cdcf446",
   "metadata": {},
   "source": [
    "### Run inference server"
   ]
  },
  {
   "cell_type": "code",
   "execution_count": 54,
   "id": "1c386b7d",
   "metadata": {
    "execution": {
     "iopub.execute_input": "2025-06-14T10:09:15.023324Z",
     "iopub.status.busy": "2025-06-14T10:09:15.023122Z",
     "iopub.status.idle": "2025-06-14T10:09:16.373534Z",
     "shell.execute_reply": "2025-06-14T10:09:16.372710Z"
    },
    "papermill": {
     "duration": 1.365137,
     "end_time": "2025-06-14T10:09:16.374918",
     "exception": false,
     "start_time": "2025-06-14T10:09:15.009781",
     "status": "completed"
    },
    "tags": []
   },
   "outputs": [
    {
     "name": "stderr",
     "output_type": "stream",
     "text": [
      "/root/repos/CMI-2025-competition/src/kaggle_evaluation/core/templates.py:136: RuntimeWarning:\n",
      "\n",
      "4893 seconds elapsed before server startup.\n",
      "                This exceeds the startup time limit of 900 seconds that the gateway will enforce\n",
      "                during the rerun on the hidden test set. Start the server before performing any time consuming steps.\n",
      "\n"
     ]
    },
    {
     "name": "stdout",
     "output_type": "stream",
     "text": [
      "torch.Size([1, 66, 127])\n",
      "torch.Size([1, 66, 127])\n",
      "torch.Size([1, 66, 127])\n",
      "torch.Size([1, 66, 127])\n"
     ]
    }
   ],
   "source": [
    "inference_server = kaggle_evaluation.cmi_inference_server.CMIInferenceServer(predict)\n",
    "\n",
    "if os.getenv('KAGGLE_IS_COMPETITION_RERUN'):\n",
    "    inference_server.serve()\n",
    "else:\n",
    "    inference_server.run_local_gateway(\n",
    "        data_paths=(\n",
    "            join(competition_dataset_path, 'test.csv'),\n",
    "            join(competition_dataset_path, 'test_demographics.csv'),\n",
    "        )\n",
    "    )\n",
    "    inference_server = kaggle_evaluation.cmi_inference_server.CMIInferenceServer(predict)\n",
    "    inference_server.run_local_gateway(\n",
    "        data_paths=(\n",
    "            join(competition_dataset_path, 'test.csv'),\n",
    "            join(competition_dataset_path, 'test_demographics.csv'),\n",
    "        )\n",
    "    )"
   ]
  }
 ],
 "metadata": {
  "kaggle": {
   "accelerator": "gpu",
   "dataSources": [
    {
     "databundleVersionId": 12518947,
     "sourceId": 102335,
     "sourceType": "competition"
    }
   ],
   "isGpuEnabled": true,
   "isInternetEnabled": false,
   "language": "python",
   "sourceType": "notebook"
  },
  "kernelspec": {
   "display_name": "Python 3",
   "language": "python",
   "name": "python3"
  },
  "language_info": {
   "codemirror_mode": {
    "name": "ipython",
    "version": 3
   },
   "file_extension": ".py",
   "mimetype": "text/x-python",
   "name": "python",
   "nbconvert_exporter": "python",
   "pygments_lexer": "ipython3",
   "version": "3.11.5"
  },
  "papermill": {
   "default_parameters": {},
   "duration": 510.403331,
   "end_time": "2025-06-14T10:09:19.701325",
   "environment_variables": {},
   "exception": null,
   "input_path": "__notebook__.ipynb",
   "output_path": "__notebook__.ipynb",
   "parameters": {},
   "start_time": "2025-06-14T10:00:49.297994",
   "version": "2.6.0"
  }
 },
 "nbformat": 4,
 "nbformat_minor": 5
}
