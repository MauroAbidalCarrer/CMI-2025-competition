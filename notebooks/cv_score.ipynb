{
 "cells": [
  {
   "cell_type": "markdown",
   "id": "bf6438da",
   "metadata": {},
   "source": [
    "# Training & inference notebook\n",
    "Credit to [Tarun Mishra](https://www.kaggle.com/tarundirector) – this code is heavily based on his [notebook](https://www.kaggle.com/code/tarundirector/sensor-pulse-viz-eda-for-bfrb-detection?scriptVersionId=243465321)."
   ]
  },
  {
   "cell_type": "markdown",
   "id": "e752c660",
   "metadata": {},
   "source": [
    "## Setup"
   ]
  },
  {
   "cell_type": "markdown",
   "id": "473b69f6",
   "metadata": {},
   "source": [
    "### imports"
   ]
  },
  {
   "cell_type": "markdown",
   "id": "e7d4b210",
   "metadata": {},
   "source": [
    "#### Training imports"
   ]
  },
  {
   "cell_type": "code",
   "execution_count": 1,
   "id": "b842c804",
   "metadata": {},
   "outputs": [],
   "source": [
    "import os\n",
    "import json\n",
    "from glob import glob\n",
    "from functools import partial\n",
    "from datetime import datetime\n",
    "from itertools import pairwise\n",
    "from os.path import join, realpath\n",
    "from typing import Optional, Literal\n",
    "\n",
    "import torch\n",
    "import kagglehub\n",
    "import numpy as np\n",
    "import pandas as pd\n",
    "import plotly.express as px\n",
    "from torch import nn, Tensor\n",
    "from pandas import DataFrame as DF\n",
    "from torch.utils.data import TensorDataset\n",
    "from torch.utils.data import DataLoader as DL\n",
    "from rich.progress import Progress, Task, track\n",
    "from torch.optim.lr_scheduler import ConstantLR, LRScheduler\n",
    "metric_package = kagglehub.package_import('wasupandceacar/cmi-metric', bypass_confirmation=True)"
   ]
  },
  {
   "cell_type": "markdown",
   "id": "6a3ae962",
   "metadata": {},
   "source": [
    "#### inference imports"
   ]
  },
  {
   "cell_type": "code",
   "execution_count": 2,
   "id": "915c9ecf",
   "metadata": {},
   "outputs": [],
   "source": [
    "import os\n",
    "import json\n",
    "import warnings\n",
    "from os.path import join\n",
    "from tqdm.notebook import tqdm\n",
    "from itertools import pairwise, product\n",
    "\n",
    "import torch\n",
    "import numpy as np\n",
    "import pandas as pd\n",
    "import polars as pl\n",
    "from numpy import ndarray\n",
    "from torch import nn, Tensor\n",
    "from numpy.linalg import norm\n",
    "from pandas import DataFrame as DF\n",
    "from scipy.spatial.transform import Rotation\n",
    "# from kagglehub import competition_download, dataset_download, model_download\n",
    "import kagglehub\n",
    "metric_package = kagglehub.package_import('wasupandceacar/cmi-metric', bypass_confirmation=True)\n",
    "\n",
    "import kaggle_evaluation.cmi_inference_server"
   ]
  },
  {
   "cell_type": "markdown",
   "id": "5cd3c8bd",
   "metadata": {},
   "source": [
    "#### kaggle notbook Imports"
   ]
  },
  {
   "cell_type": "code",
   "execution_count": 3,
   "id": "ce2e25ed",
   "metadata": {},
   "outputs": [],
   "source": [
    "import random\n",
    "import numpy as np\n",
    "import torch\n",
    "import os\n",
    "\n",
    "def seed_everything(seed=42):\n",
    "    \"\"\"Set all random seeds for reproducibility\"\"\"\n",
    "    random.seed(seed)\n",
    "    np.random.seed(seed)\n",
    "    torch.manual_seed(seed)\n",
    "    torch.cuda.manual_seed(seed)\n",
    "    torch.backends.cudnn.deterministic = True\n",
    "    torch.backends.cudnn.benchmark = False\n",
    "    os.environ['PYTHONHASHSEED'] = str(seed)\n",
    "    os.environ['CUBLAS_WORKSPACE_CONFIG'] = ':4096:8'\n",
    "    torch.use_deterministic_algorithms(True, warn_only=True)\n",
    "\n",
    "SEED = 42\n",
    "seed_everything(seed=SEED)\n",
    "\n",
    "import pandas as pd\n",
    "import polars as pl\n",
    "from sklearn.metrics import f1_score\n",
    "from sklearn.model_selection import train_test_split\n",
    "from sklearn.preprocessing import StandardScaler, LabelEncoder\n",
    "from sklearn.model_selection import GroupKFold\n",
    "from sklearn.utils.class_weight import compute_class_weight\n",
    "import joblib\n",
    "from tqdm import tqdm\n",
    "\n",
    "from torch import nn\n",
    "import torch.nn.functional as F\n",
    "import torch.optim as optim\n",
    "from torch.utils.data import Dataset, DataLoader\n",
    "# from tensorflow.keras.preprocessing.sequence import pad_sequences as keras_pad_sequences\n",
    "\n",
    "import kaggle_evaluation.cmi_inference_server\n",
    "from matplotlib import pyplot as plt"
   ]
  },
  {
   "cell_type": "markdown",
   "id": "91e34cce",
   "metadata": {},
   "source": [
    "### Configs"
   ]
  },
  {
   "cell_type": "markdown",
   "id": "57b0b925",
   "metadata": {},
   "source": [
    "#### Training config"
   ]
  },
  {
   "cell_type": "code",
   "execution_count": 25,
   "id": "1296f174",
   "metadata": {},
   "outputs": [],
   "source": [
    "NB_CROSS_VALIDATIONS = 5\n",
    "TRAINING_EPOCHS = 50\n",
    "STARTING_LR = 0.0005\n",
    "TRAIN_BATCH_SIZE = 256\n",
    "VALIDATION_BATCH_SIZE = 4 * TRAIN_BATCH_SIZE\n",
    "TARGET_NAMES = sorted([\n",
    "    \"Above ear - pull hair\",\n",
    "    \"Cheek - pinch skin\",\n",
    "    \"Eyebrow - pull hair\",\n",
    "    \"Eyelash - pull hair\",\n",
    "    \"Feel around in tray and pull out an object\",\n",
    "    \"Forehead - pull hairline\",\n",
    "    \"Forehead - scratch\",\n",
    "    \"Neck - pinch skin\",\n",
    "    \"Neck - scratch\",\n",
    "    \"Text on phone\",\n",
    "    \"Wave hello\",\n",
    "    \"Write name in air\",\n",
    "    \"Write name on leg\",\n",
    "    \"Drink from bottle/cup\",\n",
    "    \"Pinch knee/leg skin\",\n",
    "    \"Pull air toward your face\",\n",
    "    \"Scratch knee/leg skin\",\n",
    "    \"Glasses on/off\"\n",
    "])\n",
    "TARGET_NAMES_NDARRAY = np.asarray(TARGET_NAMES)\n",
    "MOCK_TRAINING_EPOCHS = 15\n",
    "MOCK_TRAINING_GAMMA = 1.01\n",
    "MAX_LR_TO_MIN_DIV_FACTOR = 10\n",
    "\n",
    "COMPETITION_HANDLE = \"cmi-detect-behavior-with-sensor-data\""
   ]
  },
  {
   "cell_type": "markdown",
   "id": "1393b8af",
   "metadata": {},
   "source": [
    "#### Inference config "
   ]
  },
  {
   "cell_type": "code",
   "execution_count": 5,
   "id": "3ad8c78c",
   "metadata": {},
   "outputs": [],
   "source": [
    "QUATERNION_COLS = ['rot_w', 'rot_x', 'rot_y', 'rot_z']\n",
    "GRAVITY_WORLD = np.array([0, 0, 9.81], \"float32\")\n",
    "RAW_ACCELRATION_COLS = [\"acc_x\", \"acc_y\", \"acc_z\"]\n",
    "LINEAR_ACC_COLS = [\"gravity_free_\" + col for col in RAW_ACCELRATION_COLS]\n",
    "COMPETITION_HANDLE = \"cmi-detect-behavior-with-sensor-data\"\n",
    "CATEGORY_COLUMNS = [\n",
    "    'row_id',\n",
    "    'sequence_type',\n",
    "    'sequence_id',\n",
    "    'subject',\n",
    "    'orientation',\n",
    "    'behavior',\n",
    "    'phase',\n",
    "    'gesture',\n",
    "]\n",
    "META_DATA_COLUMNS = [\n",
    "    'row_id',\n",
    "    'sequence_type',\n",
    "    'sequence_id',\n",
    "    'sequence_counter',\n",
    "    'subject',\n",
    "    'orientation',\n",
    "    'behavior',\n",
    "    'phase',\n",
    "    'gesture',\n",
    "]\n",
    "DATASET_DF_DTYPES = {\n",
    "    \"acc_x\": \"float32\", \"acc_y\": \"float32\", \"acc_z\": \"float32\",\n",
    "    \"thm_1\":\"float32\", \"thm_2\":\"float32\", \"thm_3\":\"float32\", \"thm_4\":\"float32\", \"thm_5\":\"float32\",\n",
    "    \"sequence_counter\": \"int32\",\n",
    "    **{col: \"category\" for col in CATEGORY_COLUMNS},\n",
    "    **{f\"tof_{i_1}_v{i_2}\": \"float32\" for i_1, i_2 in product(range(1, 5), range(64))},\n",
    "}\n",
    "PREPROCESSED_DATASET_HANDLE = \"mauroabidalcarrer/prepocessed-cmi-2025\"\n",
    "# The quantile of the sequences len used to pad/truncate during preprocessing\n",
    "SEQUENCE_NORMED_LEN_QUANTILE = 0.95\n",
    "# SAMPLING_FREQUENCY = 10 #Hz\n",
    "N_FOLDS = 5\n",
    "VALIDATION_FRACTION = 0.2\n",
    "TARGET_NAMES = sorted([\n",
    "    \"Above ear - pull hair\",\n",
    "    \"Cheek - pinch skin\",\n",
    "    \"Eyebrow - pull hair\",\n",
    "    \"Eyelash - pull hair\",\n",
    "    \"Feel around in tray and pull out an object\",\n",
    "    \"Forehead - pull hairline\",\n",
    "    \"Forehead - scratch\",\n",
    "    \"Neck - pinch skin\",\n",
    "    \"Neck - scratch\",\n",
    "    \"Text on phone\",\n",
    "    \"Wave hello\",\n",
    "    \"Write name in air\",\n",
    "    \"Write name on leg\",\n",
    "    \"Drink from bottle/cup\",\n",
    "    \"Pinch knee/leg skin\",\n",
    "    \"Pull air toward your face\",\n",
    "    \"Scratch knee/leg skin\",\n",
    "    \"Glasses on/off\"\n",
    "])\n",
    "EPSILON=1e-8\n",
    "DELTA_ROTATION_ANGULAR_VELOCITY_COLS = [\"angular_vel_x\", \"angular_vel_y\", \"angular_vel_z\"]\n",
    "DELTA_ROTATION_AXES_COLS = [\"rotation_axis_x\", \"rotation_axis_y\", \"rotation_axis_z\"]\n",
    "EULER_ANGLES_COLS = [\"euler_x\", \"euler_y\", \"euler_z\"]"
   ]
  },
  {
   "cell_type": "markdown",
   "id": "1c4bfefa",
   "metadata": {},
   "source": [
    "### Define function to get the feature columns\n",
    "Feature columns change over time so it's better to have a function to get them than manually update a variable every time we add/remove features."
   ]
  },
  {
   "cell_type": "code",
   "execution_count": 6,
   "id": "f3d40b15",
   "metadata": {},
   "outputs": [],
   "source": [
    "def get_feature_cols(df:DF) -> list[str]:\n",
    "    return sorted(list(set(df.columns) - set(META_DATA_COLUMNS) - set(TARGET_NAMES)))"
   ]
  },
  {
   "cell_type": "markdown",
   "id": "1eac0e5a",
   "metadata": {},
   "source": [
    "### Supress performance warngings"
   ]
  },
  {
   "cell_type": "code",
   "execution_count": 7,
   "id": "086420e2",
   "metadata": {},
   "outputs": [],
   "source": [
    "warnings.filterwarnings(\n",
    "    \"ignore\",\n",
    "    message=(\n",
    "        \"DataFrame is highly fragmented.  This is usually the result of \"\n",
    "        \"calling `frame.insert` many times.*\"\n",
    "    ),\n",
    "    category=pd.errors.PerformanceWarning,\n",
    ")"
   ]
  },
  {
   "cell_type": "markdown",
   "id": "7749c3bd",
   "metadata": {},
   "source": [
    "### device setup"
   ]
  },
  {
   "cell_type": "code",
   "execution_count": 8,
   "id": "aa7f99a1",
   "metadata": {},
   "outputs": [],
   "source": [
    "device = torch.device(\"cuda\") if torch.cuda.is_available() else torch.device(\"cpu\")"
   ]
  },
  {
   "cell_type": "markdown",
   "id": "6a563074",
   "metadata": {},
   "source": [
    "### Dataset Setup"
   ]
  },
  {
   "cell_type": "code",
   "execution_count": 9,
   "id": "2bc2e83c",
   "metadata": {},
   "outputs": [],
   "source": [
    "dataset_path = kagglehub.dataset_download(\n",
    "    handle=\"mauroabidalcarrer/prepocessed-cmi-2025\",\n",
    ")\n",
    "\n",
    "class CMIDataset(TensorDataset):\n",
    "    def __init__(\n",
    "        self,\n",
    "        parent_dir: str,\n",
    "        split: Optional[Literal[\"train\", \"validation\"]]=None,\n",
    "        subset: Optional[int]=None,\n",
    "        force_download=False\n",
    "    ):\n",
    "        dataset_path = kagglehub.dataset_download(\n",
    "            handle=\"mauroabidalcarrer/prepocessed-cmi-2025\",\n",
    "            force_download=force_download\n",
    "        )\n",
    "        parent_dir = join(dataset_path, \"preprocessed_dataset\", parent_dir)\n",
    "        split = \"\" if split is None else split + \"_\"\n",
    "        x = np.load(join(parent_dir, f\"{split}X.npy\")).swapaxes(1, 2)\n",
    "        y = np.load(join(parent_dir, f\"{split}Y.npy\"))\n",
    "        if subset is not None:\n",
    "            x = x[:subset]\n",
    "            y = y[:subset]\n",
    "        super().__init__(\n",
    "            torch.from_numpy(x), \n",
    "            torch.from_numpy(y),\n",
    "        )"
   ]
  },
  {
   "cell_type": "code",
   "execution_count": 10,
   "id": "5aae295d",
   "metadata": {},
   "outputs": [],
   "source": [
    "meta_data_path = join(\n",
    "    dataset_path,\n",
    "    \"preprocessed_dataset\",\n",
    "    \"full_dataset_meta_data.json\"\n",
    ")\n",
    "with open(meta_data_path, \"r\") as fp:\n",
    "    meta_data = json.load(fp)\n",
    "# Convert target names into a ndarray to index it batchwise.\n",
    "# meta_data[\"target_names\"] = np.asarray(meta_data[\"target_names\"])\n",
    "non_imu_feats_idx = [feat_idx for feat_idx, feat in enumerate(meta_data[\"feature_cols\"]) if feat.startswith((\"thm\", \"tof\"))]\n",
    "non_imu_feats = [feat for feat in meta_data[\"feature_cols\"] if feat.startswith((\"thm\", \"tof\"))]\n",
    "imu_feats_idx = [feat_idx for feat_idx, feat in enumerate(meta_data[\"feature_cols\"]) if not feat.startswith((\"thm\", \"tof\"))]\n",
    "imu_feats = [feat for feat in meta_data[\"feature_cols\"] if not feat.startswith((\"thm\", \"tof\"))]"
   ]
  },
  {
   "cell_type": "markdown",
   "id": "2161df0c",
   "metadata": {
    "papermill": {
     "duration": 0.00278,
     "end_time": "2025-06-14T10:01:12.877551",
     "exception": false,
     "start_time": "2025-06-14T10:01:12.874771",
     "status": "completed"
    },
    "tags": []
   },
   "source": [
    "### BFRBs indices"
   ]
  },
  {
   "cell_type": "code",
   "execution_count": 11,
   "id": "e657c570",
   "metadata": {
    "execution": {
     "iopub.execute_input": "2025-06-14T10:01:12.884365Z",
     "iopub.status.busy": "2025-06-14T10:01:12.883937Z",
     "iopub.status.idle": "2025-06-14T10:01:45.309186Z",
     "shell.execute_reply": "2025-06-14T10:01:45.308564Z"
    },
    "papermill": {
     "duration": 32.430139,
     "end_time": "2025-06-14T10:01:45.310511",
     "exception": false,
     "start_time": "2025-06-14T10:01:12.880372",
     "status": "completed"
    },
    "tags": []
   },
   "outputs": [
    {
     "name": "stdout",
     "output_type": "stream",
     "text": [
      "Loading datasets...\n",
      "Train rows: 574945, Test rows: 107\n"
     ]
    }
   ],
   "source": [
    "print(\"Loading datasets...\")\n",
    "competition_dataset_path = kagglehub.competition_download(COMPETITION_HANDLE)\n",
    "train_df = pd.read_csv(join(competition_dataset_path, \"train.csv\"))\n",
    "train_dem_df = pd.read_csv(join(competition_dataset_path, \"train_demographics.csv\"))\n",
    "test_df = pd.read_csv(join(competition_dataset_path, \"test.csv\"))\n",
    "test_dem_df = pd.read_csv(join(competition_dataset_path, \"test_demographics.csv\"))\n",
    "print(f\"Train rows: {len(train_df)}, Test rows: {len(test_df)}\")\n",
    "\n",
    "# Encode labels\n",
    "label_encoder = LabelEncoder()\n",
    "train_df['gesture'] = label_encoder.fit_transform(train_df['gesture'].astype(str))\n",
    "gesture_classes = label_encoder.classes_\n",
    "\n",
    "bfrb_gestures = [\n",
    "    'Above ear - pull hair',\n",
    "    'Forehead - pull hairline',\n",
    "    'Forehead - scratch',\n",
    "    'Eyebrow - pull hair',\n",
    "    'Eyelash - pull hair',\n",
    "    'Neck - pinch skin',\n",
    "    'Neck - scratch',\n",
    "    'Cheek - pinch skin'\n",
    "]\n",
    "bfrb_indices = label_encoder.transform(bfrb_gestures)"
   ]
  },
  {
   "cell_type": "markdown",
   "id": "9c54244a",
   "metadata": {},
   "source": [
    "## Model definition"
   ]
  },
  {
   "cell_type": "code",
   "execution_count": null,
   "id": "80ae01a8",
   "metadata": {},
   "outputs": [],
   "source": [
    "class SqueezeExcitationBlock(nn.Module):\n",
    "    # Copy/paste of https://www.kaggle.com/code/wasupandceacar/lb-0-82-5fold-single-bert-model#Model implementation\n",
    "    def __init__(self, channels:int, reduction:int=8):\n",
    "        super().__init__()\n",
    "        self.fc1 = nn.Linear(channels, channels // reduction, bias=True)\n",
    "        self.fc2 = nn.Linear(channels // reduction, channels, bias=True)\n",
    "        self.sigmoid = nn.Sigmoid()\n",
    "\n",
    "    def forward(self, x):\n",
    "        # x: (B, C, L)\n",
    "        se = F.adaptive_avg_pool1d(x, 1).squeeze(-1)      # -> (B, C)\n",
    "        se = F.relu(self.fc1(se), inplace=True)          # -> (B, C//r)\n",
    "        se = self.sigmoid(self.fc2(se)).unsqueeze(-1)    # -> (B, C, 1)\n",
    "        return x * se\n",
    "\n",
    "class ResidualBlock(nn.Module):\n",
    "    def __init__(self, in_chns:int, out_chns:int, dropout_ratio:float=0.3):\n",
    "        super().__init__()\n",
    "        self.blocks = nn.Sequential(\n",
    "            nn.Conv1d(in_chns, out_chns, kernel_size=3, padding=1),\n",
    "            nn.BatchNorm1d(out_chns),\n",
    "            nn.ReLU(),\n",
    "            nn.Conv1d(out_chns, out_chns, kernel_size=3, padding=1),\n",
    "            nn.BatchNorm1d(out_chns),\n",
    "            SqueezeExcitationBlock(out_chns),\n",
    "        )\n",
    "        self.head = nn.Sequential(nn.ReLU(), nn.Dropout(dropout_ratio))\n",
    "        if in_chns == out_chns:\n",
    "            self.skip_connection = nn.Identity() \n",
    "        else:\n",
    "            # TODO: set bias to False ?\n",
    "            self.skip_connection = nn.Sequential(\n",
    "                nn.Conv1d(in_chns, out_chns, 1),\n",
    "                nn.BatchNorm1d(out_chns)\n",
    "            )\n",
    "            self.head.add_module(\"max_pool\", nn.MaxPool1d(2))\n",
    "            \n",
    "    def forward(self, x:Tensor) -> Tensor:\n",
    "        activaition_maps = self.skip_connection(x) + self.blocks(x)\n",
    "        return self.head(activaition_maps)\n",
    "\n",
    "# class MBConvBlock(nn.Module):\n",
    "#     def __init__(self, in_chns:int, out_chns)\n",
    "\n",
    "class Resnet(nn.Sequential):\n",
    "    def __init__(\n",
    "            self,\n",
    "            in_channels:int,\n",
    "            depth:int,\n",
    "            # n_res_block_per_depth:int,\n",
    "            mlp_width:int,\n",
    "            n_class:int,\n",
    "        ):\n",
    "        chs_per_depth = [in_channels * 2 ** i for i in range(depth)]\n",
    "        blocks_chns_it = pairwise(chs_per_depth)\n",
    "        res_blocks = [ResidualBlock(in_chns, out_chns) for in_chns, out_chns in blocks_chns_it]\n",
    "        # self.res_blocks = nn.ModuleList(self.res_blocks)\n",
    "        super().__init__(\n",
    "            *res_blocks,\n",
    "            nn.Flatten(start_dim=1),\n",
    "            nn.LazyLinear(mlp_width),\n",
    "            nn.ReLU(),\n",
    "            nn.Linear(mlp_width, n_class),\n",
    "        )\n",
    "\n",
    "    # def forward(self, x:Tensor) -> Tensor:\n",
    "    #     activation_maps = x\n",
    "    #     for res_block in self.res_blocks:\n",
    "    #         activation_maps = nn.functional.max_pool1d(res_block(activation_maps), 2)\n",
    "    #     # print(\"res block output shape:\", activation_maps.shape)\n",
    "    #     out = activation_maps.view(activation_maps.shape[0], -1)\n",
    "    #     # print(\"flatten mlp head input shape:\", out.shape)\n",
    "    #     out = self.mlp_head(out)\n",
    "    #     return out"
   ]
  },
  {
   "cell_type": "markdown",
   "id": "bfc08e41",
   "metadata": {},
   "source": [
    "### Create model function"
   ]
  },
  {
   "cell_type": "code",
   "execution_count": 14,
   "id": "36e3e463",
   "metadata": {},
   "outputs": [
    {
     "name": "stdout",
     "output_type": "stream",
     "text": [
      "input channels: 66\n"
     ]
    }
   ],
   "source": [
    "def mk_model() -> nn.Module:\n",
    "    nb_in_chans = len(meta_data[\"feature_cols\"])\n",
    "    return (\n",
    "        Resnet(\n",
    "            in_channels=nb_in_chans,\n",
    "            depth=4,\n",
    "            mlp_width=256,\n",
    "            n_class=18\n",
    "        )\n",
    "        .to(device)\n",
    "    )\n",
    "\n",
    "print(\"input channels:\", len(meta_data[\"feature_cols\"]))"
   ]
  },
  {
   "cell_type": "markdown",
   "id": "8afc6e79",
   "metadata": {},
   "source": [
    "## Training loop"
   ]
  },
  {
   "cell_type": "code",
   "execution_count": 15,
   "id": "a69ec966",
   "metadata": {},
   "outputs": [],
   "source": [
    "def fit(epochs:int,\n",
    "        model: nn.Module,\n",
    "        scheduler: LRScheduler,\n",
    "        optimizer: torch.optim.Optimizer,\n",
    "        train_loader: DL,\n",
    "        criterion: callable=nn.L1Loss(),\n",
    "        evaluation_func: callable=None,\n",
    "        validation_loader: DL=None,\n",
    "        save_checkpoints=True,\n",
    "    ) -> tuple[DF, str]:\n",
    "    \"\"\"\n",
    "    Returns:\n",
    "        (training_metrics, path_to_checkpoints)\n",
    "    \"\"\"\n",
    "    # Setup\n",
    "    metrics: list[dict] = []\n",
    "    step = 0\n",
    "    model_device = next(model.parameters()).device\n",
    "    last_epoch_metric = {}\n",
    "    # Training loop\n",
    "    with Progress() as progress:\n",
    "        task: Task = progress.add_task(\n",
    "            \"training...\",\n",
    "            total=len(train_loader),\n",
    "        )\n",
    "        for epoch in range(epochs):\n",
    "            progress.update(\n",
    "                task,\n",
    "                description=f\"epoch: {epoch}\",\n",
    "                completed=0,\n",
    "            )\n",
    "            total_epoch_loss = 0\n",
    "            total_accuracy = 0\n",
    "            for batch_idx, (x, y) in enumerate(train_loader):\n",
    "                # forward\n",
    "                x = x.to(model_device)\n",
    "                y = y.to(model_device)\n",
    "                model.train()\n",
    "                optimizer.zero_grad()\n",
    "                y_pred: Tensor = model(x)\n",
    "                loss_value = criterion(y_pred, y)\n",
    "                # Verify loss value\n",
    "                if torch.isnan(loss_value).any().item():\n",
    "                    progress.print(\"Warning: Got NaN loss, stopped training.\")\n",
    "                    return DF.from_records(metrics)\n",
    "                if torch.isinf(loss_value).any().item():\n",
    "                    progress.print(\"Warning: Got infinite loss, stopped training.\")\n",
    "                    return DF.from_records(metrics)\n",
    "                # TODO: Use gradient clipping?\n",
    "                loss_value.backward()\n",
    "                optimizer.step()\n",
    "                if step > 0: # If it's not the first training step, idk why it throws an error otherwise\n",
    "                    scheduler.step()\n",
    "                # metrics\n",
    "                total_epoch_loss += loss_value.item()\n",
    "                metrics.append({\n",
    "                    \"step\": step,\n",
    "                    \"epoch\": epoch,\n",
    "                    \"batch_train_loss\": loss_value.item(),\n",
    "                    \"lr\": optimizer.state_dict()[\"param_groups\"][-1][\"lr\"],\n",
    "                })\n",
    "                step += 1\n",
    "                if \"validation_accuracy\" in last_epoch_metric:\n",
    "                    last_validation_acc = \"%.2f\" % last_epoch_metric[\"validation_accuracy\"]\n",
    "                    val_acc_str = \"val. acc: \" + last_validation_acc\n",
    "                else:\n",
    "                    val_acc_str = \"\"\n",
    "                progress.update(\n",
    "                    task,\n",
    "                    advance=1,\n",
    "                    description=f\"epoch: {epoch}, batch_loss: {(total_epoch_loss / (batch_idx+1)):.2f}, {val_acc_str}\"\n",
    "                )\n",
    "            # Post epoch evalution\n",
    "            metrics[-1][\"train_epoch_loss\"] = total_epoch_loss / len(train_loader)\n",
    "            metrics[-1][\"train_epoch_accuracy\"] = total_accuracy / len(train_loader)\n",
    "            if evaluation_func:\n",
    "                progress.update(\n",
    "                    task,\n",
    "                    completed=0,\n",
    "                    description=f\"epoch: {epoch}, evaluating...\"\n",
    "                )\n",
    "                eval_metrics = evaluation_func(model, criterion, validation_loader)\n",
    "                metrics[-1].update(eval_metrics)\n",
    "            last_epoch_metric = metrics[-1]\n",
    "\n",
    "    return DF.from_records(metrics)"
   ]
  },
  {
   "cell_type": "markdown",
   "id": "5a490227",
   "metadata": {},
   "source": [
    "### Create model and train model"
   ]
  },
  {
   "cell_type": "code",
   "execution_count": 16,
   "id": "34cd5bba",
   "metadata": {},
   "outputs": [],
   "source": [
    "def mk_model_and_fit(\n",
    "        train_loader:DL,\n",
    "        mk_scheduler:callable,\n",
    "        epochs:int,\n",
    "        validation_loader:Optional[DL]=None,\n",
    "        save_checkpoints=False,\n",
    "    ) -> tuple[nn.Module, DF, list[str]]:\n",
    "    model = mk_model()\n",
    "    optimizer = torch.optim.AdamW(model.parameters(), STARTING_LR)\n",
    "    lr_scheduler = mk_scheduler(optimizer)\n",
    "    training_metrics = fit(\n",
    "        epochs=epochs,\n",
    "        model=model,\n",
    "        scheduler=lr_scheduler,\n",
    "        optimizer=optimizer,\n",
    "        train_loader=train_loader,\n",
    "        criterion=nn.CrossEntropyLoss(),\n",
    "        # evaluation_func=evaluate_model if validation_loader else None,\n",
    "        validation_loader=validation_loader,\n",
    "        save_checkpoints=save_checkpoints,\n",
    "    )\n",
    "\n",
    "    return model, training_metrics"
   ]
  },
  {
   "cell_type": "markdown",
   "id": "9256152c",
   "metadata": {},
   "source": [
    "## Search max learning rate"
   ]
  },
  {
   "cell_type": "code",
   "execution_count": 17,
   "id": "40b0c8ef",
   "metadata": {},
   "outputs": [],
   "source": [
    "def post_process_mock_training_metrics(training_metrics:DF) -> DF:\n",
    "    training_metrics = (\n",
    "        training_metrics\n",
    "        .query(\"batch_train_loss.notna()\")\n",
    "        .set_index(\"lr\", drop=False)\n",
    "        .sort_index()\n",
    "    )\n",
    "    training_metrics[\"ewm_batch_train_loss\"] = (\n",
    "        training_metrics\n",
    "        .ewm(com=30, ignore_na=False)\n",
    "        [\"batch_train_loss\"]\n",
    "        .mean()\n",
    "    )\n",
    "    training_metrics[\"ewm_batch_train_loss_diff\"] = training_metrics[\"ewm_batch_train_loss\"].diff()\n",
    "    return training_metrics"
   ]
  },
  {
   "cell_type": "code",
   "execution_count": 23,
   "id": "7c231028",
   "metadata": {},
   "outputs": [],
   "source": [
    "def plt_lr_search_training_metrics(training_metrics:DF):\n",
    "    (    \n",
    "        px.line(\n",
    "            (\n",
    "                training_metrics\n",
    "                .reset_index(drop=True)\n",
    "                .melt(\n",
    "                    id_vars=\"lr\",\n",
    "                    value_vars=[\n",
    "                        \"batch_train_loss\",\n",
    "                        \"ewm_batch_train_loss\",\n",
    "                        # \"ewm_batch_train_loss_diff\",\n",
    "                    ],\n",
    "                )\n",
    "            ),\n",
    "            x=\"lr\",\n",
    "            facet_row=\"variable\",\n",
    "            y=\"value\",\n",
    "            log_x=True,\n",
    "            log_y=True,\n",
    "            height=750,\n",
    "        )\n",
    "        .update_yaxes(matches=None)\n",
    "        .show()\n",
    "    )"
   ]
  },
  {
   "cell_type": "code",
   "execution_count": 26,
   "id": "e9ae0c04",
   "metadata": {},
   "outputs": [
    {
     "data": {
      "application/vnd.jupyter.widget-view+json": {
       "model_id": "11714f0e92f745ff801835a9245a3633",
       "version_major": 2,
       "version_minor": 0
      },
      "text/plain": [
       "Output()"
      ]
     },
     "metadata": {},
     "output_type": "display_data"
    },
    {
     "data": {
      "text/html": [
       "<pre style=\"white-space:pre;overflow-x:auto;line-height:normal;font-family:Menlo,'DejaVu Sans Mono',consolas,'Courier New',monospace\"></pre>\n"
      ],
      "text/plain": []
     },
     "metadata": {},
     "output_type": "display_data"
    },
    {
     "data": {
      "application/vnd.plotly.v1+json": {
       "config": {
        "plotlyServerURL": "https://plot.ly"
       },
       "data": [
        {
         "hovertemplate": "variable=batch_train_loss<br>lr=%{x}<br>value=%{y}<extra></extra>",
         "legendgroup": "",
         "line": {
          "color": "#636efa",
          "dash": "solid"
         },
         "marker": {
          "symbol": "circle"
         },
         "mode": "lines",
         "name": "",
         "orientation": "v",
         "showlegend": false,
         "type": "scatter",
         "x": {
          "bdata": "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",
          "dtype": "f8"
         },
         "xaxis": "x2",
         "y": {
          "bdata": "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",
          "dtype": "f8"
         },
         "yaxis": "y2"
        },
        {
         "hovertemplate": "variable=ewm_batch_train_loss<br>lr=%{x}<br>value=%{y}<extra></extra>",
         "legendgroup": "",
         "line": {
          "color": "#636efa",
          "dash": "solid"
         },
         "marker": {
          "symbol": "circle"
         },
         "mode": "lines",
         "name": "",
         "orientation": "v",
         "showlegend": false,
         "type": "scatter",
         "x": {
          "bdata": "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",
          "dtype": "f8"
         },
         "xaxis": "x",
         "y": {
          "bdata": "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",
          "dtype": "f8"
         },
         "yaxis": "y"
        }
       ],
       "layout": {
        "annotations": [
         {
          "font": {},
          "showarrow": false,
          "text": "variable=ewm_batch_train_loss",
          "textangle": 90,
          "x": 0.98,
          "xanchor": "left",
          "xref": "paper",
          "y": 0.2425,
          "yanchor": "middle",
          "yref": "paper"
         },
         {
          "font": {},
          "showarrow": false,
          "text": "variable=batch_train_loss",
          "textangle": 90,
          "x": 0.98,
          "xanchor": "left",
          "xref": "paper",
          "y": 0.7575000000000001,
          "yanchor": "middle",
          "yref": "paper"
         }
        ],
        "height": 750,
        "legend": {
         "tracegroupgap": 0
        },
        "margin": {
         "t": 60
        },
        "template": {
         "data": {
          "bar": [
           {
            "error_x": {
             "color": "#2a3f5f"
            },
            "error_y": {
             "color": "#2a3f5f"
            },
            "marker": {
             "line": {
              "color": "#E5ECF6",
              "width": 0.5
             },
             "pattern": {
              "fillmode": "overlay",
              "size": 10,
              "solidity": 0.2
             }
            },
            "type": "bar"
           }
          ],
          "barpolar": [
           {
            "marker": {
             "line": {
              "color": "#E5ECF6",
              "width": 0.5
             },
             "pattern": {
              "fillmode": "overlay",
              "size": 10,
              "solidity": 0.2
             }
            },
            "type": "barpolar"
           }
          ],
          "carpet": [
           {
            "aaxis": {
             "endlinecolor": "#2a3f5f",
             "gridcolor": "white",
             "linecolor": "white",
             "minorgridcolor": "white",
             "startlinecolor": "#2a3f5f"
            },
            "baxis": {
             "endlinecolor": "#2a3f5f",
             "gridcolor": "white",
             "linecolor": "white",
             "minorgridcolor": "white",
             "startlinecolor": "#2a3f5f"
            },
            "type": "carpet"
           }
          ],
          "choropleth": [
           {
            "colorbar": {
             "outlinewidth": 0,
             "ticks": ""
            },
            "type": "choropleth"
           }
          ],
          "contour": [
           {
            "colorbar": {
             "outlinewidth": 0,
             "ticks": ""
            },
            "colorscale": [
             [
              0,
              "#0d0887"
             ],
             [
              0.1111111111111111,
              "#46039f"
             ],
             [
              0.2222222222222222,
              "#7201a8"
             ],
             [
              0.3333333333333333,
              "#9c179e"
             ],
             [
              0.4444444444444444,
              "#bd3786"
             ],
             [
              0.5555555555555556,
              "#d8576b"
             ],
             [
              0.6666666666666666,
              "#ed7953"
             ],
             [
              0.7777777777777778,
              "#fb9f3a"
             ],
             [
              0.8888888888888888,
              "#fdca26"
             ],
             [
              1,
              "#f0f921"
             ]
            ],
            "type": "contour"
           }
          ],
          "contourcarpet": [
           {
            "colorbar": {
             "outlinewidth": 0,
             "ticks": ""
            },
            "type": "contourcarpet"
           }
          ],
          "heatmap": [
           {
            "colorbar": {
             "outlinewidth": 0,
             "ticks": ""
            },
            "colorscale": [
             [
              0,
              "#0d0887"
             ],
             [
              0.1111111111111111,
              "#46039f"
             ],
             [
              0.2222222222222222,
              "#7201a8"
             ],
             [
              0.3333333333333333,
              "#9c179e"
             ],
             [
              0.4444444444444444,
              "#bd3786"
             ],
             [
              0.5555555555555556,
              "#d8576b"
             ],
             [
              0.6666666666666666,
              "#ed7953"
             ],
             [
              0.7777777777777778,
              "#fb9f3a"
             ],
             [
              0.8888888888888888,
              "#fdca26"
             ],
             [
              1,
              "#f0f921"
             ]
            ],
            "type": "heatmap"
           }
          ],
          "histogram": [
           {
            "marker": {
             "pattern": {
              "fillmode": "overlay",
              "size": 10,
              "solidity": 0.2
             }
            },
            "type": "histogram"
           }
          ],
          "histogram2d": [
           {
            "colorbar": {
             "outlinewidth": 0,
             "ticks": ""
            },
            "colorscale": [
             [
              0,
              "#0d0887"
             ],
             [
              0.1111111111111111,
              "#46039f"
             ],
             [
              0.2222222222222222,
              "#7201a8"
             ],
             [
              0.3333333333333333,
              "#9c179e"
             ],
             [
              0.4444444444444444,
              "#bd3786"
             ],
             [
              0.5555555555555556,
              "#d8576b"
             ],
             [
              0.6666666666666666,
              "#ed7953"
             ],
             [
              0.7777777777777778,
              "#fb9f3a"
             ],
             [
              0.8888888888888888,
              "#fdca26"
             ],
             [
              1,
              "#f0f921"
             ]
            ],
            "type": "histogram2d"
           }
          ],
          "histogram2dcontour": [
           {
            "colorbar": {
             "outlinewidth": 0,
             "ticks": ""
            },
            "colorscale": [
             [
              0,
              "#0d0887"
             ],
             [
              0.1111111111111111,
              "#46039f"
             ],
             [
              0.2222222222222222,
              "#7201a8"
             ],
             [
              0.3333333333333333,
              "#9c179e"
             ],
             [
              0.4444444444444444,
              "#bd3786"
             ],
             [
              0.5555555555555556,
              "#d8576b"
             ],
             [
              0.6666666666666666,
              "#ed7953"
             ],
             [
              0.7777777777777778,
              "#fb9f3a"
             ],
             [
              0.8888888888888888,
              "#fdca26"
             ],
             [
              1,
              "#f0f921"
             ]
            ],
            "type": "histogram2dcontour"
           }
          ],
          "mesh3d": [
           {
            "colorbar": {
             "outlinewidth": 0,
             "ticks": ""
            },
            "type": "mesh3d"
           }
          ],
          "parcoords": [
           {
            "line": {
             "colorbar": {
              "outlinewidth": 0,
              "ticks": ""
             }
            },
            "type": "parcoords"
           }
          ],
          "pie": [
           {
            "automargin": true,
            "type": "pie"
           }
          ],
          "scatter": [
           {
            "fillpattern": {
             "fillmode": "overlay",
             "size": 10,
             "solidity": 0.2
            },
            "type": "scatter"
           }
          ],
          "scatter3d": [
           {
            "line": {
             "colorbar": {
              "outlinewidth": 0,
              "ticks": ""
             }
            },
            "marker": {
             "colorbar": {
              "outlinewidth": 0,
              "ticks": ""
             }
            },
            "type": "scatter3d"
           }
          ],
          "scattercarpet": [
           {
            "marker": {
             "colorbar": {
              "outlinewidth": 0,
              "ticks": ""
             }
            },
            "type": "scattercarpet"
           }
          ],
          "scattergeo": [
           {
            "marker": {
             "colorbar": {
              "outlinewidth": 0,
              "ticks": ""
             }
            },
            "type": "scattergeo"
           }
          ],
          "scattergl": [
           {
            "marker": {
             "colorbar": {
              "outlinewidth": 0,
              "ticks": ""
             }
            },
            "type": "scattergl"
           }
          ],
          "scattermap": [
           {
            "marker": {
             "colorbar": {
              "outlinewidth": 0,
              "ticks": ""
             }
            },
            "type": "scattermap"
           }
          ],
          "scattermapbox": [
           {
            "marker": {
             "colorbar": {
              "outlinewidth": 0,
              "ticks": ""
             }
            },
            "type": "scattermapbox"
           }
          ],
          "scatterpolar": [
           {
            "marker": {
             "colorbar": {
              "outlinewidth": 0,
              "ticks": ""
             }
            },
            "type": "scatterpolar"
           }
          ],
          "scatterpolargl": [
           {
            "marker": {
             "colorbar": {
              "outlinewidth": 0,
              "ticks": ""
             }
            },
            "type": "scatterpolargl"
           }
          ],
          "scatterternary": [
           {
            "marker": {
             "colorbar": {
              "outlinewidth": 0,
              "ticks": ""
             }
            },
            "type": "scatterternary"
           }
          ],
          "surface": [
           {
            "colorbar": {
             "outlinewidth": 0,
             "ticks": ""
            },
            "colorscale": [
             [
              0,
              "#0d0887"
             ],
             [
              0.1111111111111111,
              "#46039f"
             ],
             [
              0.2222222222222222,
              "#7201a8"
             ],
             [
              0.3333333333333333,
              "#9c179e"
             ],
             [
              0.4444444444444444,
              "#bd3786"
             ],
             [
              0.5555555555555556,
              "#d8576b"
             ],
             [
              0.6666666666666666,
              "#ed7953"
             ],
             [
              0.7777777777777778,
              "#fb9f3a"
             ],
             [
              0.8888888888888888,
              "#fdca26"
             ],
             [
              1,
              "#f0f921"
             ]
            ],
            "type": "surface"
           }
          ],
          "table": [
           {
            "cells": {
             "fill": {
              "color": "#EBF0F8"
             },
             "line": {
              "color": "white"
             }
            },
            "header": {
             "fill": {
              "color": "#C8D4E3"
             },
             "line": {
              "color": "white"
             }
            },
            "type": "table"
           }
          ]
         },
         "layout": {
          "annotationdefaults": {
           "arrowcolor": "#2a3f5f",
           "arrowhead": 0,
           "arrowwidth": 1
          },
          "autotypenumbers": "strict",
          "coloraxis": {
           "colorbar": {
            "outlinewidth": 0,
            "ticks": ""
           }
          },
          "colorscale": {
           "diverging": [
            [
             0,
             "#8e0152"
            ],
            [
             0.1,
             "#c51b7d"
            ],
            [
             0.2,
             "#de77ae"
            ],
            [
             0.3,
             "#f1b6da"
            ],
            [
             0.4,
             "#fde0ef"
            ],
            [
             0.5,
             "#f7f7f7"
            ],
            [
             0.6,
             "#e6f5d0"
            ],
            [
             0.7,
             "#b8e186"
            ],
            [
             0.8,
             "#7fbc41"
            ],
            [
             0.9,
             "#4d9221"
            ],
            [
             1,
             "#276419"
            ]
           ],
           "sequential": [
            [
             0,
             "#0d0887"
            ],
            [
             0.1111111111111111,
             "#46039f"
            ],
            [
             0.2222222222222222,
             "#7201a8"
            ],
            [
             0.3333333333333333,
             "#9c179e"
            ],
            [
             0.4444444444444444,
             "#bd3786"
            ],
            [
             0.5555555555555556,
             "#d8576b"
            ],
            [
             0.6666666666666666,
             "#ed7953"
            ],
            [
             0.7777777777777778,
             "#fb9f3a"
            ],
            [
             0.8888888888888888,
             "#fdca26"
            ],
            [
             1,
             "#f0f921"
            ]
           ],
           "sequentialminus": [
            [
             0,
             "#0d0887"
            ],
            [
             0.1111111111111111,
             "#46039f"
            ],
            [
             0.2222222222222222,
             "#7201a8"
            ],
            [
             0.3333333333333333,
             "#9c179e"
            ],
            [
             0.4444444444444444,
             "#bd3786"
            ],
            [
             0.5555555555555556,
             "#d8576b"
            ],
            [
             0.6666666666666666,
             "#ed7953"
            ],
            [
             0.7777777777777778,
             "#fb9f3a"
            ],
            [
             0.8888888888888888,
             "#fdca26"
            ],
            [
             1,
             "#f0f921"
            ]
           ]
          },
          "colorway": [
           "#636efa",
           "#EF553B",
           "#00cc96",
           "#ab63fa",
           "#FFA15A",
           "#19d3f3",
           "#FF6692",
           "#B6E880",
           "#FF97FF",
           "#FECB52"
          ],
          "font": {
           "color": "#2a3f5f"
          },
          "geo": {
           "bgcolor": "white",
           "lakecolor": "white",
           "landcolor": "#E5ECF6",
           "showlakes": true,
           "showland": true,
           "subunitcolor": "white"
          },
          "hoverlabel": {
           "align": "left"
          },
          "hovermode": "closest",
          "mapbox": {
           "style": "light"
          },
          "paper_bgcolor": "white",
          "plot_bgcolor": "#E5ECF6",
          "polar": {
           "angularaxis": {
            "gridcolor": "white",
            "linecolor": "white",
            "ticks": ""
           },
           "bgcolor": "#E5ECF6",
           "radialaxis": {
            "gridcolor": "white",
            "linecolor": "white",
            "ticks": ""
           }
          },
          "scene": {
           "xaxis": {
            "backgroundcolor": "#E5ECF6",
            "gridcolor": "white",
            "gridwidth": 2,
            "linecolor": "white",
            "showbackground": true,
            "ticks": "",
            "zerolinecolor": "white"
           },
           "yaxis": {
            "backgroundcolor": "#E5ECF6",
            "gridcolor": "white",
            "gridwidth": 2,
            "linecolor": "white",
            "showbackground": true,
            "ticks": "",
            "zerolinecolor": "white"
           },
           "zaxis": {
            "backgroundcolor": "#E5ECF6",
            "gridcolor": "white",
            "gridwidth": 2,
            "linecolor": "white",
            "showbackground": true,
            "ticks": "",
            "zerolinecolor": "white"
           }
          },
          "shapedefaults": {
           "line": {
            "color": "#2a3f5f"
           }
          },
          "ternary": {
           "aaxis": {
            "gridcolor": "white",
            "linecolor": "white",
            "ticks": ""
           },
           "baxis": {
            "gridcolor": "white",
            "linecolor": "white",
            "ticks": ""
           },
           "bgcolor": "#E5ECF6",
           "caxis": {
            "gridcolor": "white",
            "linecolor": "white",
            "ticks": ""
           }
          },
          "title": {
           "x": 0.05
          },
          "xaxis": {
           "automargin": true,
           "gridcolor": "white",
           "linecolor": "white",
           "ticks": "",
           "title": {
            "standoff": 15
           },
           "zerolinecolor": "white",
           "zerolinewidth": 2
          },
          "yaxis": {
           "automargin": true,
           "gridcolor": "white",
           "linecolor": "white",
           "ticks": "",
           "title": {
            "standoff": 15
           },
           "zerolinecolor": "white",
           "zerolinewidth": 2
          }
         }
        },
        "xaxis": {
         "anchor": "y",
         "domain": [
          0,
          0.98
         ],
         "title": {
          "text": "lr"
         },
         "type": "log"
        },
        "xaxis2": {
         "anchor": "y2",
         "domain": [
          0,
          0.98
         ],
         "matches": "x",
         "showticklabels": false,
         "type": "log"
        },
        "yaxis": {
         "anchor": "x",
         "domain": [
          0,
          0.485
         ],
         "title": {
          "text": "value"
         },
         "type": "log"
        },
        "yaxis2": {
         "anchor": "x2",
         "domain": [
          0.515,
          1
         ],
         "title": {
          "text": "value"
         },
         "type": "log"
        }
       }
      }
     },
     "metadata": {},
     "output_type": "display_data"
    },
    {
     "name": "stdout",
     "output_type": "stream",
     "text": [
      "Maximum learning rate: 0.007340758313789516\n"
     ]
    }
   ],
   "source": [
    "full_dataset = CMIDataset(\"full_dataset\")\n",
    "full_dataset_loader = DL(full_dataset, TRAIN_BATCH_SIZE, shuffle=True)\n",
    "_, mock_training_metrics = mk_model_and_fit(\n",
    "    full_dataset_loader,\n",
    "    partial(torch.optim.lr_scheduler.ExponentialLR, gamma=MOCK_TRAINING_GAMMA),\n",
    "    MOCK_TRAINING_EPOCHS\n",
    ")\n",
    "mock_training_metrics = post_process_mock_training_metrics(mock_training_metrics)\n",
    "plt_lr_search_training_metrics(mock_training_metrics)\n",
    "max_lr = mock_training_metrics[\"ewm_batch_train_loss\"].idxmin()\n",
    "# max_lr = 0.002\n",
    "print(\"Maximum learning rate:\", max_lr)"
   ]
  },
  {
   "cell_type": "markdown",
   "id": "e1cc3c5f",
   "metadata": {
    "papermill": {
     "duration": 0.003108,
     "end_time": "2025-06-14T10:01:56.186803",
     "exception": false,
     "start_time": "2025-06-14T10:01:56.183695",
     "status": "completed"
    },
    "tags": []
   },
   "source": [
    "## Training loop"
   ]
  },
  {
   "cell_type": "code",
   "execution_count": 27,
   "id": "2be28a9c",
   "metadata": {
    "execution": {
     "iopub.execute_input": "2025-06-14T10:01:56.194003Z",
     "iopub.status.busy": "2025-06-14T10:01:56.193740Z",
     "iopub.status.idle": "2025-06-14T10:09:14.752385Z",
     "shell.execute_reply": "2025-06-14T10:09:14.751491Z"
    },
    "papermill": {
     "duration": 438.563878,
     "end_time": "2025-06-14T10:09:14.753712",
     "exception": false,
     "start_time": "2025-06-14T10:01:56.189834",
     "status": "completed"
    },
    "tags": []
   },
   "outputs": [
    {
     "name": "stdout",
     "output_type": "stream",
     "text": [
      "training: 1\n",
      "\n",
      "==================================================\n",
      "Fold 1/5\n",
      "Epoch 01: Train Loss = 3.9989, Val Loss = 2.7004\n",
      "  Binary F1 = 0.7160, Macro F1 = 0.0832, Final Metric = 0.3996\n",
      "  New best metric! Saving model...\n",
      "Epoch 02: Train Loss = 2.4792, Val Loss = 2.2858\n",
      "  Binary F1 = 0.8147, Macro F1 = 0.1711, Final Metric = 0.4929\n",
      "  New best metric! Saving model...\n",
      "Epoch 03: Train Loss = 2.1189, Val Loss = 1.9592\n",
      "  Binary F1 = 0.8864, Macro F1 = 0.2195, Final Metric = 0.5529\n",
      "  New best metric! Saving model...\n",
      "Epoch 04: Train Loss = 1.7912, Val Loss = 1.6958\n",
      "  Binary F1 = 0.9311, Macro F1 = 0.3274, Final Metric = 0.6292\n",
      "  New best metric! Saving model...\n",
      "Epoch 05: Train Loss = 1.5265, Val Loss = 1.4968\n",
      "  Binary F1 = 0.9487, Macro F1 = 0.4089, Final Metric = 0.6788\n",
      "  New best metric! Saving model...\n",
      "Epoch 06: Train Loss = 1.3417, Val Loss = 1.3798\n",
      "  Binary F1 = 0.9539, Macro F1 = 0.4639, Final Metric = 0.7089\n",
      "  New best metric! Saving model...\n",
      "Epoch 07: Train Loss = 1.2047, Val Loss = 1.3088\n",
      "  Binary F1 = 0.9543, Macro F1 = 0.5049, Final Metric = 0.7296\n",
      "  New best metric! Saving model...\n",
      "Epoch 08: Train Loss = 1.1079, Val Loss = 1.3017\n",
      "  Binary F1 = 0.9492, Macro F1 = 0.5009, Final Metric = 0.7251\n",
      "Epoch 09: Train Loss = 1.0469, Val Loss = 1.2729\n",
      "  Binary F1 = 0.9493, Macro F1 = 0.5268, Final Metric = 0.7381\n",
      "  New best metric! Saving model...\n",
      "Epoch 10: Train Loss = 0.9946, Val Loss = 1.2391\n",
      "  Binary F1 = 0.9526, Macro F1 = 0.5319, Final Metric = 0.7422\n",
      "  New best metric! Saving model...\n",
      "Epoch 11: Train Loss = 1.1264, Val Loss = 1.2896\n",
      "  Binary F1 = 0.9503, Macro F1 = 0.5088, Final Metric = 0.7296\n",
      "Epoch 12: Train Loss = 1.0733, Val Loss = 1.2355\n",
      "  Binary F1 = 0.9535, Macro F1 = 0.5601, Final Metric = 0.7568\n",
      "  New best metric! Saving model...\n",
      "Epoch 13: Train Loss = 0.9258, Val Loss = 1.1983\n",
      "  Binary F1 = 0.9580, Macro F1 = 0.5666, Final Metric = 0.7623\n",
      "  New best metric! Saving model...\n",
      "Epoch 14: Train Loss = 0.8948, Val Loss = 1.1964\n",
      "  Binary F1 = 0.9578, Macro F1 = 0.5623, Final Metric = 0.7601\n",
      "Epoch 15: Train Loss = 0.7812, Val Loss = 1.1900\n",
      "  Binary F1 = 0.9581, Macro F1 = 0.5813, Final Metric = 0.7697\n",
      "  New best metric! Saving model...\n",
      "Epoch 16: Train Loss = 0.6915, Val Loss = 1.1731\n",
      "  Binary F1 = 0.9590, Macro F1 = 0.5832, Final Metric = 0.7711\n",
      "  New best metric! Saving model...\n",
      "Epoch 17: Train Loss = 0.6565, Val Loss = 1.1430\n",
      "  Binary F1 = 0.9604, Macro F1 = 0.5938, Final Metric = 0.7771\n",
      "  New best metric! Saving model...\n",
      "Epoch 18: Train Loss = 0.6003, Val Loss = 1.1953\n",
      "  Binary F1 = 0.9625, Macro F1 = 0.5827, Final Metric = 0.7726\n",
      "Epoch 19: Train Loss = 0.5696, Val Loss = 1.1571\n",
      "  Binary F1 = 0.9638, Macro F1 = 0.5989, Final Metric = 0.7813\n",
      "  New best metric! Saving model...\n",
      "Epoch 20: Train Loss = 0.5254, Val Loss = 1.1667\n",
      "  Binary F1 = 0.9628, Macro F1 = 0.6053, Final Metric = 0.7840\n",
      "  New best metric! Saving model...\n",
      "Epoch 21: Train Loss = 0.7321, Val Loss = 1.2606\n",
      "  Binary F1 = 0.9546, Macro F1 = 0.5808, Final Metric = 0.7677\n",
      "Epoch 22: Train Loss = 0.7186, Val Loss = 1.2221\n",
      "  Binary F1 = 0.9603, Macro F1 = 0.5728, Final Metric = 0.7665\n",
      "Epoch 23: Train Loss = 0.6646, Val Loss = 1.1849\n",
      "  Binary F1 = 0.9632, Macro F1 = 0.5864, Final Metric = 0.7748\n",
      "Epoch 24: Train Loss = 0.6186, Val Loss = 1.2032\n",
      "  Binary F1 = 0.9687, Macro F1 = 0.5916, Final Metric = 0.7801\n",
      "Epoch 25: Train Loss = 0.5522, Val Loss = 1.2123\n",
      "  Binary F1 = 0.9674, Macro F1 = 0.6132, Final Metric = 0.7903\n",
      "  New best metric! Saving model...\n",
      "Epoch 26: Train Loss = 0.4727, Val Loss = 1.2005\n",
      "  Binary F1 = 0.9649, Macro F1 = 0.6032, Final Metric = 0.7841\n",
      "Epoch 27: Train Loss = 0.4137, Val Loss = 1.2873\n",
      "  Binary F1 = 0.9703, Macro F1 = 0.6207, Final Metric = 0.7955\n",
      "  New best metric! Saving model...\n",
      "Epoch 28: Train Loss = 0.3578, Val Loss = 1.3173\n",
      "  Binary F1 = 0.9682, Macro F1 = 0.6047, Final Metric = 0.7865\n",
      "Epoch 29: Train Loss = 0.3176, Val Loss = 1.3111\n",
      "  Binary F1 = 0.9703, Macro F1 = 0.6104, Final Metric = 0.7904\n",
      "Epoch 30: Train Loss = 0.2954, Val Loss = 1.3492\n",
      "  Binary F1 = 0.9677, Macro F1 = 0.6265, Final Metric = 0.7971\n",
      "  New best metric! Saving model...\n",
      "Epoch 31: Train Loss = 0.4737, Val Loss = 1.3912\n",
      "  Binary F1 = 0.9563, Macro F1 = 0.5875, Final Metric = 0.7719\n",
      "Epoch 32: Train Loss = 0.5888, Val Loss = 1.2516\n",
      "  Binary F1 = 0.9592, Macro F1 = 0.5998, Final Metric = 0.7795\n",
      "Epoch 33: Train Loss = 0.5017, Val Loss = 1.3068\n",
      "  Binary F1 = 0.9639, Macro F1 = 0.6129, Final Metric = 0.7884\n",
      "Epoch 34: Train Loss = 0.4275, Val Loss = 1.2504\n",
      "  Binary F1 = 0.9661, Macro F1 = 0.6067, Final Metric = 0.7864\n",
      "Epoch 35: Train Loss = 0.3816, Val Loss = 1.3327\n",
      "  Binary F1 = 0.9654, Macro F1 = 0.6195, Final Metric = 0.7924\n",
      "Epoch 36: Train Loss = 0.3280, Val Loss = 1.4615\n",
      "  Binary F1 = 0.9661, Macro F1 = 0.6021, Final Metric = 0.7841\n",
      "Epoch 37: Train Loss = 0.2734, Val Loss = 1.4244\n",
      "  Binary F1 = 0.9663, Macro F1 = 0.6242, Final Metric = 0.7952\n",
      "Epoch 38: Train Loss = 0.2226, Val Loss = 1.5063\n",
      "  Binary F1 = 0.9643, Macro F1 = 0.6180, Final Metric = 0.7912\n",
      "Epoch 39: Train Loss = 0.1883, Val Loss = 1.4813\n",
      "  Binary F1 = 0.9663, Macro F1 = 0.6276, Final Metric = 0.7969\n",
      "Epoch 40: Train Loss = 0.1811, Val Loss = 1.5445\n",
      "  Binary F1 = 0.9647, Macro F1 = 0.6284, Final Metric = 0.7966\n",
      "Epoch 41: Train Loss = 0.3257, Val Loss = 1.5401\n",
      "  Binary F1 = 0.9663, Macro F1 = 0.6038, Final Metric = 0.7851\n",
      "Epoch 42: Train Loss = 0.3864, Val Loss = 1.4893\n",
      "  Binary F1 = 0.9653, Macro F1 = 0.5759, Final Metric = 0.7706\n",
      "Epoch 43: Train Loss = 0.3800, Val Loss = 1.6228\n",
      "  Binary F1 = 0.9668, Macro F1 = 0.5863, Final Metric = 0.7766\n",
      "Epoch 44: Train Loss = 0.3201, Val Loss = 1.5641\n",
      "  Binary F1 = 0.9655, Macro F1 = 0.5891, Final Metric = 0.7773\n",
      "Epoch 45: Train Loss = 0.2401, Val Loss = 1.7235\n",
      "  Binary F1 = 0.9679, Macro F1 = 0.6030, Final Metric = 0.7854\n",
      "Epoch 46: Train Loss = 0.2088, Val Loss = 1.6592\n",
      "  Binary F1 = 0.9685, Macro F1 = 0.6251, Final Metric = 0.7968\n",
      "Epoch 47: Train Loss = 0.1601, Val Loss = 1.6878\n",
      "  Binary F1 = 0.9672, Macro F1 = 0.6199, Final Metric = 0.7935\n",
      "Epoch 48: Train Loss = 0.1273, Val Loss = 1.7749\n",
      "  Binary F1 = 0.9689, Macro F1 = 0.6161, Final Metric = 0.7925\n",
      "Epoch 49: Train Loss = 0.1101, Val Loss = 1.7965\n",
      "  Binary F1 = 0.9678, Macro F1 = 0.6265, Final Metric = 0.7971\n",
      "  New best metric! Saving model...\n",
      "Epoch 50: Train Loss = 0.1020, Val Loss = 1.8381\n",
      "  Binary F1 = 0.9693, Macro F1 = 0.6274, Final Metric = 0.7984\n",
      "  New best metric! Saving model...\n",
      "\n",
      "Fold 1 completed.\n",
      "Final validation metrics - Binary F1: 0.9693, Macro F1: 0.6274, Final: 0.7984\n",
      "Best validation metrics - Binary F1: 0.9693, Macro F1: 0.6274, Final: 0.7984\n",
      "training: 2\n",
      "\n",
      "==================================================\n",
      "Fold 2/5\n",
      "Epoch 01: Train Loss = 4.6236, Val Loss = 2.5776\n",
      "  Binary F1 = 0.8206, Macro F1 = 0.0869, Final Metric = 0.4538\n",
      "  New best metric! Saving model...\n",
      "Epoch 02: Train Loss = 2.3665, Val Loss = 2.2596\n",
      "  Binary F1 = 0.8534, Macro F1 = 0.1643, Final Metric = 0.5088\n",
      "  New best metric! Saving model...\n",
      "Epoch 03: Train Loss = 2.0007, Val Loss = 1.9353\n",
      "  Binary F1 = 0.9035, Macro F1 = 0.2770, Final Metric = 0.5903\n",
      "  New best metric! Saving model...\n",
      "Epoch 04: Train Loss = 1.6811, Val Loss = 1.7734\n",
      "  Binary F1 = 0.9268, Macro F1 = 0.3485, Final Metric = 0.6377\n",
      "  New best metric! Saving model...\n",
      "Epoch 05: Train Loss = 1.4791, Val Loss = 1.7001\n",
      "  Binary F1 = 0.9188, Macro F1 = 0.3854, Final Metric = 0.6521\n",
      "  New best metric! Saving model...\n",
      "Epoch 06: Train Loss = 1.3610, Val Loss = 1.5148\n",
      "  Binary F1 = 0.9399, Macro F1 = 0.4168, Final Metric = 0.6783\n",
      "  New best metric! Saving model...\n",
      "Epoch 07: Train Loss = 1.2253, Val Loss = 1.5216\n",
      "  Binary F1 = 0.9438, Macro F1 = 0.4329, Final Metric = 0.6883\n",
      "  New best metric! Saving model...\n",
      "Epoch 08: Train Loss = 1.1723, Val Loss = 1.4475\n",
      "  Binary F1 = 0.9440, Macro F1 = 0.4527, Final Metric = 0.6983\n",
      "  New best metric! Saving model...\n",
      "Epoch 09: Train Loss = 1.0893, Val Loss = 1.4143\n",
      "  Binary F1 = 0.9460, Macro F1 = 0.4546, Final Metric = 0.7003\n",
      "  New best metric! Saving model...\n",
      "Epoch 10: Train Loss = 1.0495, Val Loss = 1.3914\n",
      "  Binary F1 = 0.9475, Macro F1 = 0.4727, Final Metric = 0.7101\n",
      "  New best metric! Saving model...\n",
      "Epoch 11: Train Loss = 1.1414, Val Loss = 1.4347\n",
      "  Binary F1 = 0.9505, Macro F1 = 0.4477, Final Metric = 0.6991\n",
      "Epoch 12: Train Loss = 1.1269, Val Loss = 1.3389\n",
      "  Binary F1 = 0.9525, Macro F1 = 0.5063, Final Metric = 0.7294\n",
      "  New best metric! Saving model...\n",
      "Epoch 13: Train Loss = 0.9862, Val Loss = 1.3291\n",
      "  Binary F1 = 0.9432, Macro F1 = 0.4954, Final Metric = 0.7193\n",
      "Epoch 14: Train Loss = 0.8800, Val Loss = 1.4561\n",
      "  Binary F1 = 0.9575, Macro F1 = 0.4644, Final Metric = 0.7110\n",
      "Epoch 15: Train Loss = 0.8170, Val Loss = 1.2292\n",
      "  Binary F1 = 0.9622, Macro F1 = 0.5541, Final Metric = 0.7581\n",
      "  New best metric! Saving model...\n",
      "Epoch 16: Train Loss = 0.7314, Val Loss = 1.2912\n",
      "  Binary F1 = 0.9534, Macro F1 = 0.5359, Final Metric = 0.7447\n",
      "Epoch 17: Train Loss = 0.6791, Val Loss = 1.2605\n",
      "  Binary F1 = 0.9560, Macro F1 = 0.5623, Final Metric = 0.7592\n",
      "  New best metric! Saving model...\n",
      "Epoch 18: Train Loss = 0.6279, Val Loss = 1.2814\n",
      "  Binary F1 = 0.9655, Macro F1 = 0.5539, Final Metric = 0.7597\n",
      "  New best metric! Saving model...\n",
      "Epoch 19: Train Loss = 0.5838, Val Loss = 1.2675\n",
      "  Binary F1 = 0.9657, Macro F1 = 0.5703, Final Metric = 0.7680\n",
      "  New best metric! Saving model...\n",
      "Epoch 20: Train Loss = 0.5543, Val Loss = 1.3133\n",
      "  Binary F1 = 0.9675, Macro F1 = 0.5617, Final Metric = 0.7646\n",
      "Epoch 21: Train Loss = 0.7149, Val Loss = 1.3577\n",
      "  Binary F1 = 0.9538, Macro F1 = 0.5432, Final Metric = 0.7485\n",
      "Epoch 22: Train Loss = 0.7630, Val Loss = 1.3645\n",
      "  Binary F1 = 0.9504, Macro F1 = 0.5529, Final Metric = 0.7516\n",
      "Epoch 23: Train Loss = 0.6711, Val Loss = 1.3134\n",
      "  Binary F1 = 0.9617, Macro F1 = 0.5716, Final Metric = 0.7666\n",
      "Epoch 24: Train Loss = 0.6139, Val Loss = 1.3802\n",
      "  Binary F1 = 0.9547, Macro F1 = 0.5674, Final Metric = 0.7611\n",
      "Epoch 25: Train Loss = 0.5557, Val Loss = 1.4303\n",
      "  Binary F1 = 0.9604, Macro F1 = 0.5446, Final Metric = 0.7525\n",
      "Epoch 26: Train Loss = 0.5106, Val Loss = 1.3691\n",
      "  Binary F1 = 0.9621, Macro F1 = 0.5818, Final Metric = 0.7720\n",
      "  New best metric! Saving model...\n",
      "Epoch 27: Train Loss = 0.4329, Val Loss = 1.4252\n",
      "  Binary F1 = 0.9636, Macro F1 = 0.5692, Final Metric = 0.7664\n",
      "Epoch 28: Train Loss = 0.3748, Val Loss = 1.4674\n",
      "  Binary F1 = 0.9614, Macro F1 = 0.5680, Final Metric = 0.7647\n",
      "Epoch 29: Train Loss = 0.3510, Val Loss = 1.4757\n",
      "  Binary F1 = 0.9647, Macro F1 = 0.5763, Final Metric = 0.7705\n",
      "Epoch 30: Train Loss = 0.3196, Val Loss = 1.5157\n",
      "  Binary F1 = 0.9654, Macro F1 = 0.5854, Final Metric = 0.7754\n",
      "  New best metric! Saving model...\n",
      "Epoch 31: Train Loss = 0.5889, Val Loss = 1.5146\n",
      "  Binary F1 = 0.9514, Macro F1 = 0.5577, Final Metric = 0.7546\n",
      "Epoch 32: Train Loss = 0.5556, Val Loss = 1.4605\n",
      "  Binary F1 = 0.9579, Macro F1 = 0.5603, Final Metric = 0.7591\n",
      "Epoch 33: Train Loss = 0.4899, Val Loss = 1.4305\n",
      "  Binary F1 = 0.9557, Macro F1 = 0.5749, Final Metric = 0.7653\n",
      "Epoch 34: Train Loss = 0.4519, Val Loss = 1.6168\n",
      "  Binary F1 = 0.9614, Macro F1 = 0.5360, Final Metric = 0.7487\n",
      "Epoch 35: Train Loss = 0.3887, Val Loss = 1.5159\n",
      "  Binary F1 = 0.9609, Macro F1 = 0.5541, Final Metric = 0.7575\n",
      "Epoch 36: Train Loss = 0.3423, Val Loss = 1.6522\n",
      "  Binary F1 = 0.9594, Macro F1 = 0.5629, Final Metric = 0.7612\n",
      "Epoch 37: Train Loss = 0.3060, Val Loss = 1.5945\n",
      "  Binary F1 = 0.9657, Macro F1 = 0.5775, Final Metric = 0.7716\n",
      "Epoch 38: Train Loss = 0.2571, Val Loss = 1.6161\n",
      "  Binary F1 = 0.9645, Macro F1 = 0.5781, Final Metric = 0.7713\n",
      "Epoch 39: Train Loss = 0.2130, Val Loss = 1.6629\n",
      "  Binary F1 = 0.9654, Macro F1 = 0.5798, Final Metric = 0.7726\n",
      "Epoch 40: Train Loss = 0.1996, Val Loss = 1.7360\n",
      "  Binary F1 = 0.9624, Macro F1 = 0.5770, Final Metric = 0.7697\n",
      "Epoch 41: Train Loss = 0.3394, Val Loss = 1.8086\n",
      "  Binary F1 = 0.9496, Macro F1 = 0.5290, Final Metric = 0.7393\n",
      "Epoch 42: Train Loss = 0.4529, Val Loss = 1.5419\n",
      "  Binary F1 = 0.9547, Macro F1 = 0.5502, Final Metric = 0.7525\n",
      "Epoch 43: Train Loss = 0.3933, Val Loss = 1.5944\n",
      "  Binary F1 = 0.9560, Macro F1 = 0.5812, Final Metric = 0.7686\n",
      "Epoch 44: Train Loss = 0.3371, Val Loss = 1.6139\n",
      "  Binary F1 = 0.9544, Macro F1 = 0.5790, Final Metric = 0.7667\n",
      "Epoch 45: Train Loss = 0.3015, Val Loss = 1.7492\n",
      "  Binary F1 = 0.9570, Macro F1 = 0.5608, Final Metric = 0.7589\n",
      "Epoch 46: Train Loss = 0.2471, Val Loss = 1.7526\n",
      "  Binary F1 = 0.9593, Macro F1 = 0.5622, Final Metric = 0.7608\n",
      "Epoch 47: Train Loss = 0.1856, Val Loss = 1.8474\n",
      "  Binary F1 = 0.9638, Macro F1 = 0.5722, Final Metric = 0.7680\n",
      "Epoch 48: Train Loss = 0.1481, Val Loss = 1.9949\n",
      "  Binary F1 = 0.9617, Macro F1 = 0.5700, Final Metric = 0.7658\n",
      "Epoch 49: Train Loss = 0.1270, Val Loss = 1.9576\n",
      "  Binary F1 = 0.9594, Macro F1 = 0.5799, Final Metric = 0.7696\n",
      "Epoch 50: Train Loss = 0.1083, Val Loss = 1.9904\n",
      "  Binary F1 = 0.9587, Macro F1 = 0.5746, Final Metric = 0.7666\n",
      "\n",
      "Fold 2 completed.\n",
      "Final validation metrics - Binary F1: 0.9587, Macro F1: 0.5746, Final: 0.7666\n",
      "Best validation metrics - Binary F1: 0.9654, Macro F1: 0.5854, Final: 0.7754\n",
      "training: 3\n",
      "\n",
      "==================================================\n",
      "Fold 3/5\n",
      "Epoch 01: Train Loss = 4.1586, Val Loss = 4.2376\n",
      "  Binary F1 = 0.2937, Macro F1 = 0.0817, Final Metric = 0.1877\n",
      "  New best metric! Saving model...\n",
      "Epoch 02: Train Loss = 2.3529, Val Loss = 3.0977\n",
      "  Binary F1 = 0.7994, Macro F1 = 0.2039, Final Metric = 0.5016\n",
      "  New best metric! Saving model...\n",
      "Epoch 03: Train Loss = 2.0254, Val Loss = 2.3913\n",
      "  Binary F1 = 0.8774, Macro F1 = 0.2379, Final Metric = 0.5576\n",
      "  New best metric! Saving model...\n",
      "Epoch 04: Train Loss = 1.6872, Val Loss = 2.3288\n",
      "  Binary F1 = 0.8894, Macro F1 = 0.3522, Final Metric = 0.6208\n",
      "  New best metric! Saving model...\n",
      "Epoch 05: Train Loss = 1.4487, Val Loss = 1.9901\n",
      "  Binary F1 = 0.9136, Macro F1 = 0.4154, Final Metric = 0.6645\n",
      "  New best metric! Saving model...\n",
      "Epoch 06: Train Loss = 1.2873, Val Loss = 2.0484\n",
      "  Binary F1 = 0.9142, Macro F1 = 0.4147, Final Metric = 0.6645\n",
      "Epoch 07: Train Loss = 1.1676, Val Loss = 2.2733\n",
      "  Binary F1 = 0.9142, Macro F1 = 0.4765, Final Metric = 0.6954\n",
      "  New best metric! Saving model...\n",
      "Epoch 08: Train Loss = 1.0990, Val Loss = 2.1094\n",
      "  Binary F1 = 0.9269, Macro F1 = 0.4754, Final Metric = 0.7012\n",
      "  New best metric! Saving model...\n",
      "Epoch 09: Train Loss = 1.0234, Val Loss = 1.9645\n",
      "  Binary F1 = 0.9236, Macro F1 = 0.4826, Final Metric = 0.7031\n",
      "  New best metric! Saving model...\n",
      "Epoch 10: Train Loss = 0.9829, Val Loss = 2.1986\n",
      "  Binary F1 = 0.9242, Macro F1 = 0.4991, Final Metric = 0.7117\n",
      "  New best metric! Saving model...\n",
      "Epoch 11: Train Loss = 1.0795, Val Loss = 2.0926\n",
      "  Binary F1 = 0.9248, Macro F1 = 0.4944, Final Metric = 0.7096\n",
      "Epoch 12: Train Loss = 1.0311, Val Loss = 2.1832\n",
      "  Binary F1 = 0.9217, Macro F1 = 0.5051, Final Metric = 0.7134\n",
      "  New best metric! Saving model...\n",
      "Epoch 13: Train Loss = 0.9193, Val Loss = 2.0001\n",
      "  Binary F1 = 0.9275, Macro F1 = 0.5224, Final Metric = 0.7249\n",
      "  New best metric! Saving model...\n",
      "Epoch 14: Train Loss = 0.8190, Val Loss = 1.9326\n",
      "  Binary F1 = 0.9321, Macro F1 = 0.5047, Final Metric = 0.7184\n",
      "Epoch 15: Train Loss = 0.7687, Val Loss = 1.7994\n",
      "  Binary F1 = 0.9315, Macro F1 = 0.5309, Final Metric = 0.7312\n",
      "  New best metric! Saving model...\n",
      "Epoch 16: Train Loss = 0.6967, Val Loss = 1.8488\n",
      "  Binary F1 = 0.9367, Macro F1 = 0.5451, Final Metric = 0.7409\n",
      "  New best metric! Saving model...\n",
      "Epoch 17: Train Loss = 0.6187, Val Loss = 1.8525\n",
      "  Binary F1 = 0.9351, Macro F1 = 0.5430, Final Metric = 0.7390\n",
      "Epoch 18: Train Loss = 0.5582, Val Loss = 2.0376\n",
      "  Binary F1 = 0.9310, Macro F1 = 0.5454, Final Metric = 0.7382\n",
      "Epoch 19: Train Loss = 0.5320, Val Loss = 1.9592\n",
      "  Binary F1 = 0.9331, Macro F1 = 0.5581, Final Metric = 0.7456\n",
      "  New best metric! Saving model...\n",
      "Epoch 20: Train Loss = 0.4895, Val Loss = 2.0420\n",
      "  Binary F1 = 0.9337, Macro F1 = 0.5558, Final Metric = 0.7447\n",
      "Epoch 21: Train Loss = 0.7126, Val Loss = 2.1349\n",
      "  Binary F1 = 0.9236, Macro F1 = 0.5225, Final Metric = 0.7230\n",
      "Epoch 22: Train Loss = 0.6708, Val Loss = 2.7099\n",
      "  Binary F1 = 0.9317, Macro F1 = 0.5376, Final Metric = 0.7346\n",
      "Epoch 23: Train Loss = 0.6224, Val Loss = 2.2884\n",
      "  Binary F1 = 0.9333, Macro F1 = 0.5591, Final Metric = 0.7462\n",
      "  New best metric! Saving model...\n",
      "Epoch 24: Train Loss = 0.5550, Val Loss = 2.6707\n",
      "  Binary F1 = 0.9352, Macro F1 = 0.5605, Final Metric = 0.7478\n",
      "  New best metric! Saving model...\n",
      "Epoch 25: Train Loss = 0.4940, Val Loss = 2.5983\n",
      "  Binary F1 = 0.9335, Macro F1 = 0.5669, Final Metric = 0.7502\n",
      "  New best metric! Saving model...\n",
      "Epoch 26: Train Loss = 0.4478, Val Loss = 2.7887\n",
      "  Binary F1 = 0.9330, Macro F1 = 0.5619, Final Metric = 0.7474\n",
      "Epoch 27: Train Loss = 0.3898, Val Loss = 2.6854\n",
      "  Binary F1 = 0.9303, Macro F1 = 0.5666, Final Metric = 0.7485\n",
      "Epoch 28: Train Loss = 0.3363, Val Loss = 2.6222\n",
      "  Binary F1 = 0.9363, Macro F1 = 0.5661, Final Metric = 0.7512\n",
      "  New best metric! Saving model...\n",
      "Epoch 29: Train Loss = 0.2832, Val Loss = 2.7402\n",
      "  Binary F1 = 0.9342, Macro F1 = 0.5606, Final Metric = 0.7474\n",
      "Epoch 30: Train Loss = 0.2681, Val Loss = 2.7264\n",
      "  Binary F1 = 0.9344, Macro F1 = 0.5559, Final Metric = 0.7452\n",
      "Epoch 31: Train Loss = 0.4237, Val Loss = 2.9049\n",
      "  Binary F1 = 0.9269, Macro F1 = 0.5363, Final Metric = 0.7316\n",
      "Epoch 32: Train Loss = 0.5184, Val Loss = 2.8019\n",
      "  Binary F1 = 0.9249, Macro F1 = 0.5688, Final Metric = 0.7468\n",
      "Epoch 33: Train Loss = 0.4837, Val Loss = 2.9453\n",
      "  Binary F1 = 0.9326, Macro F1 = 0.5504, Final Metric = 0.7415\n",
      "Epoch 34: Train Loss = 0.4009, Val Loss = 3.4780\n",
      "  Binary F1 = 0.9227, Macro F1 = 0.5523, Final Metric = 0.7375\n",
      "Epoch 35: Train Loss = 0.3567, Val Loss = 3.1611\n",
      "  Binary F1 = 0.9244, Macro F1 = 0.5664, Final Metric = 0.7454\n",
      "Epoch 36: Train Loss = 0.2892, Val Loss = 3.0155\n",
      "  Binary F1 = 0.9290, Macro F1 = 0.5743, Final Metric = 0.7516\n",
      "  New best metric! Saving model...\n",
      "Epoch 37: Train Loss = 0.2366, Val Loss = 2.7397\n",
      "  Binary F1 = 0.9291, Macro F1 = 0.5684, Final Metric = 0.7487\n",
      "Epoch 38: Train Loss = 0.2044, Val Loss = 3.0245\n",
      "  Binary F1 = 0.9254, Macro F1 = 0.5698, Final Metric = 0.7476\n",
      "Epoch 39: Train Loss = 0.1641, Val Loss = 3.0984\n",
      "  Binary F1 = 0.9276, Macro F1 = 0.5796, Final Metric = 0.7536\n",
      "  New best metric! Saving model...\n",
      "Epoch 40: Train Loss = 0.1574, Val Loss = 3.1038\n",
      "  Binary F1 = 0.9281, Macro F1 = 0.5721, Final Metric = 0.7501\n",
      "Epoch 41: Train Loss = 0.2927, Val Loss = 3.4220\n",
      "  Binary F1 = 0.9226, Macro F1 = 0.5585, Final Metric = 0.7406\n",
      "Epoch 42: Train Loss = 0.3928, Val Loss = 2.8122\n",
      "  Binary F1 = 0.9279, Macro F1 = 0.5606, Final Metric = 0.7443\n",
      "Epoch 43: Train Loss = 0.3769, Val Loss = 3.7070\n",
      "  Binary F1 = 0.9249, Macro F1 = 0.5431, Final Metric = 0.7340\n",
      "Epoch 44: Train Loss = 0.3081, Val Loss = 2.6748\n",
      "  Binary F1 = 0.9304, Macro F1 = 0.5589, Final Metric = 0.7446\n",
      "Epoch 45: Train Loss = 0.2395, Val Loss = 2.8441\n",
      "  Binary F1 = 0.9324, Macro F1 = 0.5725, Final Metric = 0.7525\n",
      "Epoch 46: Train Loss = 0.1911, Val Loss = 3.2009\n",
      "  Binary F1 = 0.9276, Macro F1 = 0.5625, Final Metric = 0.7450\n",
      "Epoch 47: Train Loss = 0.1607, Val Loss = 3.0644\n",
      "  Binary F1 = 0.9247, Macro F1 = 0.5748, Final Metric = 0.7497\n",
      "Epoch 48: Train Loss = 0.1203, Val Loss = 3.1413\n",
      "  Binary F1 = 0.9318, Macro F1 = 0.5778, Final Metric = 0.7548\n",
      "  New best metric! Saving model...\n",
      "Epoch 49: Train Loss = 0.0938, Val Loss = 3.1917\n",
      "  Binary F1 = 0.9300, Macro F1 = 0.5819, Final Metric = 0.7560\n",
      "  New best metric! Saving model...\n",
      "Epoch 50: Train Loss = 0.0840, Val Loss = 3.2226\n",
      "  Binary F1 = 0.9296, Macro F1 = 0.5842, Final Metric = 0.7569\n",
      "  New best metric! Saving model...\n",
      "\n",
      "Fold 3 completed.\n",
      "Final validation metrics - Binary F1: 0.9296, Macro F1: 0.5842, Final: 0.7569\n",
      "Best validation metrics - Binary F1: 0.9296, Macro F1: 0.5842, Final: 0.7569\n",
      "training: 4\n",
      "\n",
      "==================================================\n",
      "Fold 4/5\n",
      "Epoch 01: Train Loss = 4.2127, Val Loss = 2.6249\n",
      "  Binary F1 = 0.8269, Macro F1 = 0.0985, Final Metric = 0.4627\n",
      "  New best metric! Saving model...\n",
      "Epoch 02: Train Loss = 2.4507, Val Loss = 2.2713\n",
      "  Binary F1 = 0.8531, Macro F1 = 0.1333, Final Metric = 0.4932\n",
      "  New best metric! Saving model...\n",
      "Epoch 03: Train Loss = 2.1729, Val Loss = 2.0045\n",
      "  Binary F1 = 0.9111, Macro F1 = 0.2034, Final Metric = 0.5573\n",
      "  New best metric! Saving model...\n",
      "Epoch 04: Train Loss = 1.8270, Val Loss = 1.6005\n",
      "  Binary F1 = 0.9473, Macro F1 = 0.3275, Final Metric = 0.6374\n",
      "  New best metric! Saving model...\n",
      "Epoch 05: Train Loss = 1.5415, Val Loss = 1.4279\n",
      "  Binary F1 = 0.9557, Macro F1 = 0.3727, Final Metric = 0.6642\n",
      "  New best metric! Saving model...\n",
      "Epoch 06: Train Loss = 1.3550, Val Loss = 1.3132\n",
      "  Binary F1 = 0.9612, Macro F1 = 0.4564, Final Metric = 0.7088\n",
      "  New best metric! Saving model...\n",
      "Epoch 07: Train Loss = 1.2402, Val Loss = 1.2859\n",
      "  Binary F1 = 0.9569, Macro F1 = 0.5000, Final Metric = 0.7284\n",
      "  New best metric! Saving model...\n",
      "Epoch 08: Train Loss = 1.1357, Val Loss = 1.2294\n",
      "  Binary F1 = 0.9549, Macro F1 = 0.5093, Final Metric = 0.7321\n",
      "  New best metric! Saving model...\n",
      "Epoch 09: Train Loss = 1.0693, Val Loss = 1.1900\n",
      "  Binary F1 = 0.9612, Macro F1 = 0.5133, Final Metric = 0.7373\n",
      "  New best metric! Saving model...\n",
      "Epoch 10: Train Loss = 1.0004, Val Loss = 1.1742\n",
      "  Binary F1 = 0.9609, Macro F1 = 0.5323, Final Metric = 0.7466\n",
      "  New best metric! Saving model...\n",
      "Epoch 11: Train Loss = 1.1215, Val Loss = 1.1899\n",
      "  Binary F1 = 0.9672, Macro F1 = 0.4990, Final Metric = 0.7331\n",
      "Epoch 12: Train Loss = 1.0381, Val Loss = 1.1590\n",
      "  Binary F1 = 0.9644, Macro F1 = 0.5249, Final Metric = 0.7446\n",
      "Epoch 13: Train Loss = 0.9299, Val Loss = 1.1080\n",
      "  Binary F1 = 0.9677, Macro F1 = 0.5395, Final Metric = 0.7536\n",
      "  New best metric! Saving model...\n",
      "Epoch 14: Train Loss = 0.8714, Val Loss = 1.1416\n",
      "  Binary F1 = 0.9722, Macro F1 = 0.5383, Final Metric = 0.7552\n",
      "  New best metric! Saving model...\n",
      "Epoch 15: Train Loss = 0.7908, Val Loss = 1.0803\n",
      "  Binary F1 = 0.9701, Macro F1 = 0.5711, Final Metric = 0.7706\n",
      "  New best metric! Saving model...\n",
      "Epoch 16: Train Loss = 0.7281, Val Loss = 1.0944\n",
      "  Binary F1 = 0.9680, Macro F1 = 0.5800, Final Metric = 0.7740\n",
      "  New best metric! Saving model...\n",
      "Epoch 17: Train Loss = 0.6377, Val Loss = 1.0740\n",
      "  Binary F1 = 0.9691, Macro F1 = 0.5768, Final Metric = 0.7730\n",
      "Epoch 18: Train Loss = 0.6059, Val Loss = 1.0900\n",
      "  Binary F1 = 0.9715, Macro F1 = 0.5821, Final Metric = 0.7768\n",
      "  New best metric! Saving model...\n",
      "Epoch 19: Train Loss = 0.5439, Val Loss = 1.1079\n",
      "  Binary F1 = 0.9736, Macro F1 = 0.5758, Final Metric = 0.7747\n",
      "Epoch 20: Train Loss = 0.5151, Val Loss = 1.1234\n",
      "  Binary F1 = 0.9746, Macro F1 = 0.5911, Final Metric = 0.7828\n",
      "  New best metric! Saving model...\n",
      "Epoch 21: Train Loss = 0.6877, Val Loss = 1.2240\n",
      "  Binary F1 = 0.9671, Macro F1 = 0.5486, Final Metric = 0.7578\n",
      "Epoch 22: Train Loss = 0.7171, Val Loss = 1.1473\n",
      "  Binary F1 = 0.9726, Macro F1 = 0.5658, Final Metric = 0.7692\n",
      "Epoch 23: Train Loss = 0.6492, Val Loss = 1.1807\n",
      "  Binary F1 = 0.9712, Macro F1 = 0.5673, Final Metric = 0.7692\n",
      "Epoch 24: Train Loss = 0.6027, Val Loss = 1.1887\n",
      "  Binary F1 = 0.9702, Macro F1 = 0.5663, Final Metric = 0.7682\n",
      "Epoch 25: Train Loss = 0.5268, Val Loss = 1.1941\n",
      "  Binary F1 = 0.9739, Macro F1 = 0.5810, Final Metric = 0.7774\n",
      "Epoch 26: Train Loss = 0.4489, Val Loss = 1.2021\n",
      "  Binary F1 = 0.9727, Macro F1 = 0.5960, Final Metric = 0.7843\n",
      "  New best metric! Saving model...\n",
      "Epoch 27: Train Loss = 0.3953, Val Loss = 1.2323\n",
      "  Binary F1 = 0.9725, Macro F1 = 0.5878, Final Metric = 0.7801\n",
      "Epoch 28: Train Loss = 0.3556, Val Loss = 1.2609\n",
      "  Binary F1 = 0.9715, Macro F1 = 0.6037, Final Metric = 0.7876\n",
      "  New best metric! Saving model...\n",
      "Epoch 29: Train Loss = 0.3172, Val Loss = 1.3228\n",
      "  Binary F1 = 0.9716, Macro F1 = 0.5991, Final Metric = 0.7854\n",
      "Epoch 30: Train Loss = 0.2961, Val Loss = 1.2712\n",
      "  Binary F1 = 0.9746, Macro F1 = 0.5972, Final Metric = 0.7859\n",
      "Epoch 31: Train Loss = 0.4917, Val Loss = 1.2230\n",
      "  Binary F1 = 0.9756, Macro F1 = 0.5684, Final Metric = 0.7720\n",
      "Epoch 32: Train Loss = 0.5403, Val Loss = 1.2621\n",
      "  Binary F1 = 0.9722, Macro F1 = 0.5814, Final Metric = 0.7768\n",
      "Epoch 33: Train Loss = 0.5021, Val Loss = 1.2962\n",
      "  Binary F1 = 0.9669, Macro F1 = 0.5772, Final Metric = 0.7720\n",
      "Epoch 34: Train Loss = 0.4195, Val Loss = 1.3733\n",
      "  Binary F1 = 0.9688, Macro F1 = 0.5804, Final Metric = 0.7746\n",
      "Epoch 35: Train Loss = 0.3609, Val Loss = 1.3125\n",
      "  Binary F1 = 0.9766, Macro F1 = 0.6137, Final Metric = 0.7952\n",
      "  New best metric! Saving model...\n",
      "Epoch 36: Train Loss = 0.3085, Val Loss = 1.4673\n",
      "  Binary F1 = 0.9720, Macro F1 = 0.6107, Final Metric = 0.7914\n",
      "Epoch 37: Train Loss = 0.2633, Val Loss = 1.5173\n",
      "  Binary F1 = 0.9730, Macro F1 = 0.6105, Final Metric = 0.7917\n",
      "Epoch 38: Train Loss = 0.2177, Val Loss = 1.5085\n",
      "  Binary F1 = 0.9705, Macro F1 = 0.6163, Final Metric = 0.7934\n",
      "Epoch 39: Train Loss = 0.1869, Val Loss = 1.5353\n",
      "  Binary F1 = 0.9736, Macro F1 = 0.6163, Final Metric = 0.7949\n",
      "Epoch 40: Train Loss = 0.1620, Val Loss = 1.5898\n",
      "  Binary F1 = 0.9735, Macro F1 = 0.6159, Final Metric = 0.7947\n",
      "Epoch 41: Train Loss = 0.3292, Val Loss = 1.4926\n",
      "  Binary F1 = 0.9718, Macro F1 = 0.5802, Final Metric = 0.7760\n",
      "Epoch 42: Train Loss = 0.4254, Val Loss = 1.3603\n",
      "  Binary F1 = 0.9695, Macro F1 = 0.5792, Final Metric = 0.7743\n",
      "Epoch 43: Train Loss = 0.3485, Val Loss = 1.4933\n",
      "  Binary F1 = 0.9756, Macro F1 = 0.6001, Final Metric = 0.7879\n",
      "Epoch 44: Train Loss = 0.3108, Val Loss = 1.5393\n",
      "  Binary F1 = 0.9706, Macro F1 = 0.6007, Final Metric = 0.7856\n",
      "Epoch 45: Train Loss = 0.2505, Val Loss = 1.5608\n",
      "  Binary F1 = 0.9736, Macro F1 = 0.5797, Final Metric = 0.7767\n",
      "Epoch 46: Train Loss = 0.2026, Val Loss = 1.6669\n",
      "  Binary F1 = 0.9745, Macro F1 = 0.6023, Final Metric = 0.7884\n",
      "Epoch 47: Train Loss = 0.1474, Val Loss = 1.7048\n",
      "  Binary F1 = 0.9771, Macro F1 = 0.6049, Final Metric = 0.7910\n",
      "Epoch 48: Train Loss = 0.1308, Val Loss = 1.7062\n",
      "  Binary F1 = 0.9750, Macro F1 = 0.6118, Final Metric = 0.7934\n",
      "Epoch 49: Train Loss = 0.1065, Val Loss = 1.7380\n",
      "  Binary F1 = 0.9750, Macro F1 = 0.6157, Final Metric = 0.7954\n",
      "  New best metric! Saving model...\n",
      "Epoch 50: Train Loss = 0.0932, Val Loss = 1.7704\n",
      "  Binary F1 = 0.9750, Macro F1 = 0.6148, Final Metric = 0.7949\n",
      "\n",
      "Fold 4 completed.\n",
      "Final validation metrics - Binary F1: 0.9750, Macro F1: 0.6148, Final: 0.7949\n",
      "Best validation metrics - Binary F1: 0.9750, Macro F1: 0.6157, Final: 0.7954\n",
      "training: 5\n",
      "\n",
      "==================================================\n",
      "Fold 5/5\n",
      "Epoch 01: Train Loss = 4.2050, Val Loss = 2.7552\n",
      "  Binary F1 = 0.7760, Macro F1 = 0.1088, Final Metric = 0.4424\n",
      "  New best metric! Saving model...\n",
      "Epoch 02: Train Loss = 2.5216, Val Loss = 2.2829\n",
      "  Binary F1 = 0.8542, Macro F1 = 0.1548, Final Metric = 0.5045\n",
      "  New best metric! Saving model...\n",
      "Epoch 03: Train Loss = 2.1957, Val Loss = 1.9347\n",
      "  Binary F1 = 0.9320, Macro F1 = 0.2122, Final Metric = 0.5721\n",
      "  New best metric! Saving model...\n",
      "Epoch 04: Train Loss = 1.8634, Val Loss = 1.6136\n",
      "  Binary F1 = 0.9548, Macro F1 = 0.3685, Final Metric = 0.6616\n",
      "  New best metric! Saving model...\n",
      "Epoch 05: Train Loss = 1.6218, Val Loss = 1.3602\n",
      "  Binary F1 = 0.9671, Macro F1 = 0.4428, Final Metric = 0.7050\n",
      "  New best metric! Saving model...\n",
      "Epoch 06: Train Loss = 1.4525, Val Loss = 1.2377\n",
      "  Binary F1 = 0.9671, Macro F1 = 0.4885, Final Metric = 0.7278\n",
      "  New best metric! Saving model...\n",
      "Epoch 07: Train Loss = 1.2806, Val Loss = 1.1642\n",
      "  Binary F1 = 0.9700, Macro F1 = 0.4989, Final Metric = 0.7345\n",
      "  New best metric! Saving model...\n",
      "Epoch 08: Train Loss = 1.1798, Val Loss = 1.1456\n",
      "  Binary F1 = 0.9760, Macro F1 = 0.5422, Final Metric = 0.7591\n",
      "  New best metric! Saving model...\n",
      "Epoch 09: Train Loss = 1.0916, Val Loss = 1.0563\n",
      "  Binary F1 = 0.9751, Macro F1 = 0.5808, Final Metric = 0.7779\n",
      "  New best metric! Saving model...\n",
      "Epoch 10: Train Loss = 1.0367, Val Loss = 1.0684\n",
      "  Binary F1 = 0.9775, Macro F1 = 0.5887, Final Metric = 0.7831\n",
      "  New best metric! Saving model...\n",
      "Epoch 11: Train Loss = 1.2108, Val Loss = 1.1460\n",
      "  Binary F1 = 0.9716, Macro F1 = 0.5591, Final Metric = 0.7654\n",
      "Epoch 12: Train Loss = 1.1449, Val Loss = 1.0204\n",
      "  Binary F1 = 0.9781, Macro F1 = 0.5917, Final Metric = 0.7849\n",
      "  New best metric! Saving model...\n",
      "Epoch 13: Train Loss = 1.0146, Val Loss = 1.0585\n",
      "  Binary F1 = 0.9714, Macro F1 = 0.5598, Final Metric = 0.7656\n",
      "Epoch 14: Train Loss = 0.8985, Val Loss = 0.9973\n",
      "  Binary F1 = 0.9779, Macro F1 = 0.6233, Final Metric = 0.8006\n",
      "  New best metric! Saving model...\n",
      "Epoch 15: Train Loss = 0.8415, Val Loss = 1.0139\n",
      "  Binary F1 = 0.9816, Macro F1 = 0.6064, Final Metric = 0.7940\n",
      "Epoch 16: Train Loss = 0.7675, Val Loss = 0.9719\n",
      "  Binary F1 = 0.9816, Macro F1 = 0.6285, Final Metric = 0.8051\n",
      "  New best metric! Saving model...\n",
      "Epoch 17: Train Loss = 0.6675, Val Loss = 0.9939\n",
      "  Binary F1 = 0.9834, Macro F1 = 0.6430, Final Metric = 0.8132\n",
      "  New best metric! Saving model...\n",
      "Epoch 18: Train Loss = 0.6032, Val Loss = 0.9953\n",
      "  Binary F1 = 0.9830, Macro F1 = 0.6482, Final Metric = 0.8156\n",
      "  New best metric! Saving model...\n",
      "Epoch 19: Train Loss = 0.5602, Val Loss = 1.0409\n",
      "  Binary F1 = 0.9815, Macro F1 = 0.6465, Final Metric = 0.8140\n",
      "Epoch 20: Train Loss = 0.5252, Val Loss = 1.0091\n",
      "  Binary F1 = 0.9849, Macro F1 = 0.6501, Final Metric = 0.8175\n",
      "  New best metric! Saving model...\n",
      "Epoch 21: Train Loss = 0.7559, Val Loss = 1.0022\n",
      "  Binary F1 = 0.9801, Macro F1 = 0.6089, Final Metric = 0.7945\n",
      "Epoch 22: Train Loss = 0.7521, Val Loss = 0.9875\n",
      "  Binary F1 = 0.9821, Macro F1 = 0.6578, Final Metric = 0.8199\n",
      "  New best metric! Saving model...\n",
      "Epoch 23: Train Loss = 0.6710, Val Loss = 1.0397\n",
      "  Binary F1 = 0.9805, Macro F1 = 0.6081, Final Metric = 0.7943\n",
      "Epoch 24: Train Loss = 0.6264, Val Loss = 1.0478\n",
      "  Binary F1 = 0.9833, Macro F1 = 0.6034, Final Metric = 0.7934\n",
      "Epoch 25: Train Loss = 0.5527, Val Loss = 1.0940\n",
      "  Binary F1 = 0.9787, Macro F1 = 0.6392, Final Metric = 0.8090\n",
      "Epoch 26: Train Loss = 0.4705, Val Loss = 1.0144\n",
      "  Binary F1 = 0.9834, Macro F1 = 0.6570, Final Metric = 0.8202\n",
      "  New best metric! Saving model...\n",
      "Epoch 27: Train Loss = 0.4233, Val Loss = 1.1225\n",
      "  Binary F1 = 0.9830, Macro F1 = 0.6375, Final Metric = 0.8103\n",
      "Epoch 28: Train Loss = 0.3533, Val Loss = 1.1249\n",
      "  Binary F1 = 0.9834, Macro F1 = 0.6545, Final Metric = 0.8190\n",
      "Epoch 29: Train Loss = 0.3197, Val Loss = 1.1651\n",
      "  Binary F1 = 0.9820, Macro F1 = 0.6558, Final Metric = 0.8189\n",
      "Epoch 30: Train Loss = 0.2982, Val Loss = 1.1983\n",
      "  Binary F1 = 0.9830, Macro F1 = 0.6443, Final Metric = 0.8136\n",
      "Epoch 31: Train Loss = 0.5486, Val Loss = 1.1425\n",
      "  Binary F1 = 0.9773, Macro F1 = 0.6177, Final Metric = 0.7975\n",
      "Epoch 32: Train Loss = 0.5527, Val Loss = 1.1063\n",
      "  Binary F1 = 0.9794, Macro F1 = 0.6262, Final Metric = 0.8028\n",
      "Epoch 33: Train Loss = 0.5140, Val Loss = 1.1149\n",
      "  Binary F1 = 0.9824, Macro F1 = 0.6422, Final Metric = 0.8123\n",
      "Epoch 34: Train Loss = 0.4331, Val Loss = 1.1324\n",
      "  Binary F1 = 0.9854, Macro F1 = 0.6573, Final Metric = 0.8214\n",
      "  New best metric! Saving model...\n",
      "Epoch 35: Train Loss = 0.3523, Val Loss = 1.2526\n",
      "  Binary F1 = 0.9792, Macro F1 = 0.6394, Final Metric = 0.8093\n",
      "Epoch 36: Train Loss = 0.3090, Val Loss = 1.2218\n",
      "  Binary F1 = 0.9820, Macro F1 = 0.6547, Final Metric = 0.8183\n",
      "Epoch 37: Train Loss = 0.2639, Val Loss = 1.2515\n",
      "  Binary F1 = 0.9795, Macro F1 = 0.6471, Final Metric = 0.8133\n",
      "Epoch 38: Train Loss = 0.2211, Val Loss = 1.3058\n",
      "  Binary F1 = 0.9815, Macro F1 = 0.6524, Final Metric = 0.8170\n",
      "Epoch 39: Train Loss = 0.1904, Val Loss = 1.3451\n",
      "  Binary F1 = 0.9810, Macro F1 = 0.6554, Final Metric = 0.8182\n",
      "Epoch 40: Train Loss = 0.1634, Val Loss = 1.3735\n",
      "  Binary F1 = 0.9810, Macro F1 = 0.6713, Final Metric = 0.8262\n",
      "  New best metric! Saving model...\n",
      "Epoch 41: Train Loss = 0.3289, Val Loss = 1.6174\n",
      "  Binary F1 = 0.9751, Macro F1 = 0.5870, Final Metric = 0.7811\n",
      "Epoch 42: Train Loss = 0.4654, Val Loss = 1.1811\n",
      "  Binary F1 = 0.9780, Macro F1 = 0.6264, Final Metric = 0.8022\n",
      "Epoch 43: Train Loss = 0.3823, Val Loss = 1.3033\n",
      "  Binary F1 = 0.9801, Macro F1 = 0.6372, Final Metric = 0.8086\n",
      "Epoch 44: Train Loss = 0.3412, Val Loss = 1.3055\n",
      "  Binary F1 = 0.9805, Macro F1 = 0.6503, Final Metric = 0.8154\n",
      "Epoch 45: Train Loss = 0.2672, Val Loss = 1.3003\n",
      "  Binary F1 = 0.9816, Macro F1 = 0.6499, Final Metric = 0.8157\n",
      "Epoch 46: Train Loss = 0.2014, Val Loss = 1.4162\n",
      "  Binary F1 = 0.9801, Macro F1 = 0.6678, Final Metric = 0.8239\n",
      "Epoch 47: Train Loss = 0.1625, Val Loss = 1.4068\n",
      "  Binary F1 = 0.9805, Macro F1 = 0.6778, Final Metric = 0.8292\n",
      "  New best metric! Saving model...\n",
      "Epoch 48: Train Loss = 0.1290, Val Loss = 1.5109\n",
      "  Binary F1 = 0.9816, Macro F1 = 0.6586, Final Metric = 0.8201\n",
      "Epoch 49: Train Loss = 0.1120, Val Loss = 1.5157\n",
      "  Binary F1 = 0.9834, Macro F1 = 0.6580, Final Metric = 0.8207\n",
      "Epoch 50: Train Loss = 0.1019, Val Loss = 1.5801\n",
      "  Binary F1 = 0.9811, Macro F1 = 0.6650, Final Metric = 0.8230\n",
      "\n",
      "Fold 5 completed.\n",
      "Final validation metrics - Binary F1: 0.9811, Macro F1: 0.6650, Final: 0.8230\n",
      "Best validation metrics - Binary F1: 0.9805, Macro F1: 0.6778, Final: 0.8292\n",
      "\n",
      "==================================================\n",
      "Cross-Validation Results\n",
      "==================================================\n",
      "\n",
      "Best Fold-wise Metrics:\n",
      "Fold 1: Binary F1 = 0.9693, Macro F1 = 0.6274, Final = 0.7984\n",
      "Fold 2: Binary F1 = 0.9654, Macro F1 = 0.5854, Final = 0.7754\n",
      "Fold 3: Binary F1 = 0.9296, Macro F1 = 0.5842, Final = 0.7569\n",
      "Fold 4: Binary F1 = 0.9750, Macro F1 = 0.6157, Final = 0.7954\n",
      "Fold 5: Binary F1 = 0.9805, Macro F1 = 0.6778, Final = 0.8292\n",
      "\n",
      "Global Statistics (Best Metrics):\n",
      "Mean Best Final Metric: 0.7910 ± 0.0242\n",
      "Mean Best Binary F1: 0.9640 ± 0.0179\n",
      "Mean Best Macro F1: 0.6181 ± 0.0343\n"
     ]
    }
   ],
   "source": [
    "seed_everything(seed=SEED)\n",
    "\n",
    "# criterion = soft_cross_entropy\n",
    "criterion = torch.nn.CrossEntropyLoss()\n",
    "\n",
    "n_splits = 5\n",
    "batch_size = 128\n",
    "gkf = GroupKFold(n_splits=n_splits)\n",
    "\n",
    "fold_metrics = []\n",
    "best_fold_metrics = []\n",
    "best_models = []\n",
    "\n",
    "fold_patterns = join(dataset_path, \"preprocessed_dataset\", \"fold*\")\n",
    "fold_pths = glob(fold_patterns)[:NB_CROSS_VALIDATIONS]\n",
    "all_training_metrics = {}\n",
    "\n",
    "\n",
    "for fold, fold_pth in enumerate(fold_pths):\n",
    "    print(\"training:\", fold + 1)\n",
    "    train_dataset = CMIDataset(fold_pth, \"train\")\n",
    "    train_loader = DL(train_dataset, TRAIN_BATCH_SIZE, shuffle=True)\n",
    "    validation_dataset = CMIDataset(fold_pth, \"validation\")\n",
    "    validation_loader = DL(validation_dataset, VALIDATION_BATCH_SIZE, shuffle=False)\n",
    "    print(f\"\\n{'='*50}\")\n",
    "    print(f\"Fold {fold + 1}/{n_splits}\")\n",
    "    \n",
    "    seed_everything(seed=SEED + fold)\n",
    "    model = mk_model()\n",
    "    \n",
    "    # Optimizer et scheduler\n",
    "    starting_lr = max_lr / 2\n",
    "    optimizer = torch.optim.AdamW(model.parameters(), starting_lr)\n",
    "    steps_per_epoch = len(train_loader)\n",
    "    n_training_steps = TRAINING_EPOCHS * len(train_loader)\n",
    "    scheduler = torch.optim.lr_scheduler.CosineAnnealingWarmRestarts(\n",
    "        optimizer,\n",
    "        T_0=n_training_steps // 5,\n",
    "        eta_min=starting_lr / 10,\n",
    "    )\n",
    "\n",
    "    # Early stopping\n",
    "    best_metric = -np.inf\n",
    "    best_binary_f1 = -np.inf\n",
    "    best_macro_f1 = -np.inf\n",
    "    patience = 15\n",
    "    epochs_no_improve = 0\n",
    "    \n",
    "    for epoch in range(1, TRAINING_EPOCHS + 1):\n",
    "        # Training phase\n",
    "        model.train()\n",
    "        train_loss = 0.0\n",
    "        total = 0\n",
    "        for batch_x, batch_y in train_loader:\n",
    "            batch_x = batch_x.to(device).clone()\n",
    "            batch_y = batch_y.to(device)\n",
    "            batch_x = batch_x.float()\n",
    "    \n",
    "            # TODO: Apply mixup?\n",
    "    \n",
    "            optimizer.zero_grad()\n",
    "            outputs = model(batch_x)\n",
    "            loss = criterion(outputs, batch_y)\n",
    "            loss.backward()\n",
    "            optimizer.step()\n",
    "            scheduler.step()\n",
    "    \n",
    "            train_loss += loss.item() * batch_x.size(0)\n",
    "            total += batch_x.size(0)\n",
    "        train_loss /= total\n",
    "    \n",
    "        # Validation phase\n",
    "        model.eval()\n",
    "        val_loss = 0.0\n",
    "        total = 0\n",
    "        all_true = []\n",
    "        all_pred = []\n",
    "        \n",
    "        with torch.no_grad():\n",
    "            for batch_x, batch_y in validation_loader:\n",
    "                batch_x = batch_x.to(device).clone()\n",
    "                batch_y = batch_y.to(device)\n",
    "                batch_x[VALIDATION_BATCH_SIZE // 2, non_imu_feats_idx] = 0.0\n",
    "                \n",
    "                outputs = model(batch_x)\n",
    "                loss = criterion(outputs, batch_y)\n",
    "                val_loss += loss.item() * batch_x.size(0)\n",
    "                total += batch_x.size(0)\n",
    "                \n",
    "                # Get predicted class indices\n",
    "                preds = torch.argmax(outputs, dim=1).cpu().numpy()\n",
    "                # Get true class indices from one-hot\n",
    "                trues = torch.argmax(batch_y, dim=1).cpu().numpy()\n",
    "                \n",
    "                all_true.append(trues)\n",
    "                all_pred.append(preds)\n",
    "        \n",
    "        val_loss /= total\n",
    "        all_true = np.concatenate(all_true)\n",
    "        all_pred = np.concatenate(all_pred)\n",
    "        \n",
    "        # Compute competition metrics\n",
    "        # Binary classification: BFRB (1) vs non-BFRB (0)\n",
    "        binary_true = np.isin(all_true, bfrb_indices).astype(int)\n",
    "        binary_pred = np.isin(all_pred, bfrb_indices).astype(int)\n",
    "        binary_f1 = f1_score(binary_true, binary_pred)\n",
    "        \n",
    "        # Collapse non-BFRB gestures into a single class\n",
    "        collapsed_true = np.where(\n",
    "            np.isin(all_true, bfrb_indices),\n",
    "            all_true,\n",
    "            len(bfrb_gestures)  # Single non-BFRB class\n",
    "        )\n",
    "        collapsed_pred = np.where(\n",
    "            np.isin(all_pred, bfrb_indices),\n",
    "            all_pred,\n",
    "            len(bfrb_gestures)  # Single non-BFRB class\n",
    "        )\n",
    "        \n",
    "        # Macro F1 on collapsed classes\n",
    "        macro_f1 = f1_score(collapsed_true, collapsed_pred, average='macro')\n",
    "        final_metric = (binary_f1 + macro_f1) / 2\n",
    "        \n",
    "        print(f\"Epoch {epoch:02d}: Train Loss = {train_loss:.4f}, Val Loss = {val_loss:.4f}\")\n",
    "        print(f\"  Binary F1 = {binary_f1:.4f}, Macro F1 = {macro_f1:.4f}, Final Metric = {final_metric:.4f}\")\n",
    "        \n",
    "        if final_metric > best_metric:\n",
    "            best_metric = final_metric\n",
    "            best_binary_f1 = binary_f1\n",
    "            best_macro_f1 = macro_f1\n",
    "            epochs_no_improve = 0\n",
    "            best_model_state = model.state_dict()\n",
    "            print(f\"  New best metric! Saving model...\")\n",
    "        else:\n",
    "            epochs_no_improve += 1\n",
    "            # if epochs_no_improve >= patience:\n",
    "            #     print(f\"Early stopping triggered at epoch {epoch}\")\n",
    "            #     model.load_state_dict(best_model_state)\n",
    "            #     break\n",
    "\n",
    "    torch.save(best_model_state, f\"best_model_fold{fold}.pth\")\n",
    "    best_models.append(best_model_state)\n",
    "\n",
    "    fold_metrics.append({\n",
    "        'binary_f1': binary_f1,\n",
    "        'macro_f1': macro_f1,\n",
    "        'final_metric': final_metric\n",
    "    })\n",
    "    \n",
    "    best_fold_metrics.append({\n",
    "        'binary_f1': best_binary_f1,\n",
    "        'macro_f1': best_macro_f1,\n",
    "        'final_metric': best_metric\n",
    "    })\n",
    "    \n",
    "    print(f\"\\nFold {fold + 1} completed.\")\n",
    "    print(f\"Final validation metrics - Binary F1: {binary_f1:.4f}, Macro F1: {macro_f1:.4f}, Final: {final_metric:.4f}\")\n",
    "    print(f\"Best validation metrics - Binary F1: {best_binary_f1:.4f}, Macro F1: {best_macro_f1:.4f}, Final: {best_metric:.4f}\")\n",
    "\n",
    "print(\"\\n\" + \"=\"*50)\n",
    "print(\"Cross-Validation Results\")\n",
    "print(\"=\"*50)\n",
    "\n",
    "# Statistiques pour les meilleures métriques\n",
    "best_binary_f1 = [m['binary_f1'] for m in best_fold_metrics]\n",
    "best_macro_f1 = [m['macro_f1'] for m in best_fold_metrics]\n",
    "best_metrics = [m['final_metric'] for m in best_fold_metrics]\n",
    "\n",
    "print(\"\\nBest Fold-wise Metrics:\")\n",
    "for i, (bf1, mf1, fm) in enumerate(zip(best_binary_f1, best_macro_f1, best_metrics)):\n",
    "    print(f\"Fold {i+1}: Binary F1 = {bf1:.4f}, Macro F1 = {mf1:.4f}, Final = {fm:.4f}\")\n",
    "\n",
    "print(\"\\nGlobal Statistics (Best Metrics):\")\n",
    "print(f\"Mean Best Final Metric: {np.mean(best_metrics):.4f} ± {np.std(best_metrics):.4f}\")\n",
    "print(f\"Mean Best Binary F1: {np.mean(best_binary_f1):.4f} ± {np.std(best_binary_f1):.4f}\")\n",
    "print(f\"Mean Best Macro F1: {np.mean(best_macro_f1):.4f} ± {np.std(best_macro_f1):.4f}\")"
   ]
  },
  {
   "cell_type": "markdown",
   "id": "07ea7558",
   "metadata": {
    "papermill": {
     "duration": 0.012909,
     "end_time": "2025-06-14T10:09:14.961270",
     "exception": false,
     "start_time": "2025-06-14T10:09:14.948361",
     "status": "completed"
    },
    "tags": []
   },
   "source": [
    "## Submission"
   ]
  },
  {
   "cell_type": "markdown",
   "id": "3aea5e4f",
   "metadata": {
    "papermill": {
     "duration": 0.012906,
     "end_time": "2025-06-14T10:09:14.780212",
     "exception": false,
     "start_time": "2025-06-14T10:09:14.767306",
     "status": "completed"
    },
    "tags": []
   },
   "source": [
    "### Reloading best model"
   ]
  },
  {
   "cell_type": "code",
   "execution_count": null,
   "id": "a0574d4d",
   "metadata": {
    "execution": {
     "iopub.execute_input": "2025-06-14T10:09:14.807902Z",
     "iopub.status.busy": "2025-06-14T10:09:14.807165Z",
     "iopub.status.idle": "2025-06-14T10:09:14.933288Z",
     "shell.execute_reply": "2025-06-14T10:09:14.932459Z"
    },
    "papermill": {
     "duration": 0.141435,
     "end_time": "2025-06-14T10:09:14.934745",
     "exception": false,
     "start_time": "2025-06-14T10:09:14.793310",
     "status": "completed"
    },
    "tags": []
   },
   "outputs": [],
   "source": [
    "model_ensemble = []\n",
    "for fold in range(5):\n",
    "    model = mk_model().to(device)\n",
    "    checkpoint = torch.load(f\"best_model_fold{fold}.pth\", map_location=device, weights_only=True)\n",
    "    model.load_state_dict(checkpoint)\n",
    "    model.eval()\n",
    "    model_ensemble.append(model)"
   ]
  },
  {
   "cell_type": "markdown",
   "id": "a826dec8",
   "metadata": {},
   "source": [
    "### Define preprocessing function"
   ]
  },
  {
   "cell_type": "code",
   "execution_count": null,
   "id": "481e69b6",
   "metadata": {},
   "outputs": [],
   "source": [
    "def get_fillna_val_per_feature_col(df:DF) -> dict:\n",
    "    return {col: 1.0 if col == 'rot_w' else 0 for col in get_feature_cols(df)}\n",
    "\n",
    "def imputed_features(df:DF) -> DF:\n",
    "    # Missing ToF values are already imputed by -1 which is inconvinient since we want all missing values to be NaN.    \n",
    "    # So we replace them by NaN and then perform imputing.  \n",
    "    tof_vals_to_nan = {col: -1.0 for col in df.columns if col.startswith(\"tof\")}\n",
    "\n",
    "    df[get_feature_cols(df)] = (\n",
    "        df\n",
    "        .loc[:, get_feature_cols(df)]\n",
    "        # df.replace with np.nan sets dtype to floar64 so we set it back to float32\n",
    "        .replace(tof_vals_to_nan, value=np.nan)\n",
    "        .astype(\"float32\")\n",
    "        .groupby(df[\"sequence_id\"], observed=True, as_index=False)\n",
    "        .ffill()\n",
    "        .groupby(df[\"sequence_id\"], observed=True, as_index=False)\n",
    "        .bfill()\n",
    "        # In case there are only nan in the column in the sequence\n",
    "        .fillna(get_fillna_val_per_feature_col(df))\n",
    "    )\n",
    "    return df\n",
    "\n",
    "def norm_quat_rotations(df:DF) -> DF:\n",
    "    df[QUATERNION_COLS] /= np.linalg.norm(df[QUATERNION_COLS], axis=1, keepdims=True)\n",
    "    return df\n",
    "\n",
    "def add_linear_acc_cols(df:DF) -> DF:\n",
    "    # Vectorized version of https://www.kaggle.com/code/wasupandceacar/lb-0-82-5fold-single-bert-model#Dataset `remove_gravity_from_acc`\n",
    "    rotations:Rotation = Rotation.from_quat(df[QUATERNION_COLS])\n",
    "    gravity_sensor_frame = rotations.apply(GRAVITY_WORLD, inverse=True).astype(\"float32\")\n",
    "    df[LINEAR_ACC_COLS] = df[RAW_ACCELRATION_COLS] - gravity_sensor_frame\n",
    "    return df\n",
    "\n",
    "def add_acc_magnitude(df:DF, acc_cols:list[str], acc_mag_col_name:str) -> DF:\n",
    "    return df.assign(**{acc_mag_col_name: np.linalg.norm(df.loc[:, acc_cols], axis=1)})\n",
    "\n",
    "def add_quat_angle_mag(df:DF) -> DF:\n",
    "    return df.assign(quat_rot_mag=np.arccos(df[\"rot_w\"]) * 2)\n",
    "\n",
    "def add_angular_velocity_features(df:DF) -> DF:\n",
    "    rotations = Rotation.from_quat(df[QUATERNION_COLS])\n",
    "    delta_rotations = rotations[1:] * rotations[:-1].inv()\n",
    "    delta_rot_velocity = delta_rotations.as_rotvec()\n",
    "    # Add extra line to avoid shape mismatch\n",
    "    delta_rot_velocity = np.vstack((np.zeros((1, 3)), delta_rot_velocity))\n",
    "    delta_rot_magnitude = norm(delta_rot_velocity, axis=1, keepdims=True)\n",
    "    delta_rot_axes = delta_rot_velocity / (delta_rot_magnitude + EPSILON)\n",
    "    df[DELTA_ROTATION_ANGULAR_VELOCITY_COLS] = delta_rot_velocity\n",
    "    df[DELTA_ROTATION_AXES_COLS] = delta_rot_axes\n",
    "    df[\"delta_rot_mag\"] = delta_rot_magnitude.squeeze()\n",
    "\n",
    "    return df\n",
    "\n",
    "def rot_euler_angles(df:DF) -> ndarray:\n",
    "    df[EULER_ANGLES_COLS] = (\n",
    "        Rotation\n",
    "        .from_quat(df[QUATERNION_COLS])\n",
    "        .as_euler(\"xyz\")\n",
    "        .squeeze()\n",
    "    )\n",
    "    return df\n",
    "\n",
    "def agg_tof_cols_per_sensor(df:DF) -> DF:\n",
    "    for tof_idx in tqdm(range(1, 6)):\n",
    "        tof_name = f\"tof_{tof_idx}\"\n",
    "        tof_cols = [f\"{tof_name}_v{v_idx}\" for v_idx in range(64)]\n",
    "        if any(map(lambda col: col not in df.columns, tof_cols)):\n",
    "            print(f\"Some (or) all ToF {tof_idx} columns are not in the df. Maybe you already ran this cell?\")\n",
    "            continue\n",
    "        df = pd.concat(\n",
    "            (\n",
    "                df.drop(columns=tof_cols),\n",
    "                # For some reasons, it's faster to call all the aggregation functions seperatly than agg(list of functions)\n",
    "                df[tof_cols].mean(axis=\"columns\").to_frame(tof_name + \"_mean\"),\n",
    "                df[tof_cols].std(axis=\"columns\").to_frame(tof_name + \"_std\"),\n",
    "                df[tof_cols].median(axis=\"columns\").to_frame(tof_name + \"_median\"),\n",
    "                df[tof_cols].min(axis=\"columns\").to_frame(tof_name + \"_min\"),\n",
    "                df[tof_cols].max(axis=\"columns\").to_frame(tof_name + \"_max\"),\n",
    "            ),\n",
    "            axis=\"columns\",\n",
    "        )\n",
    "    return df\n",
    "\n",
    "def add_diff_features(df:DF) -> DF:\n",
    "    return pd.concat(\n",
    "        (\n",
    "            df,\n",
    "            df\n",
    "            .groupby(\"sequence_id\", as_index=False, observed=True)\n",
    "            [get_feature_cols(df)]\n",
    "            .diff()\n",
    "            .fillna(get_fillna_val_per_feature_col(df))\n",
    "            .add_prefix(\"diff_\")\n",
    "        ),\n",
    "        axis=\"columns\",\n",
    "    )\n",
    "\n",
    "def length_normed_sequence_feat_arr(sequence: DF) -> ndarray:\n",
    "    features = (\n",
    "        sequence\n",
    "        .loc[:, meta_data[\"feature_cols\"]]\n",
    "        .values\n",
    "    )\n",
    "    normed_sequence_len = meta_data[\"pad_seq_len\"]\n",
    "    len_diff = abs(normed_sequence_len - len(features))\n",
    "    if len(features) < normed_sequence_len:\n",
    "        padded_features = np.pad(\n",
    "            features,\n",
    "            ((len_diff // 2 + len_diff % 2, len_diff // 2), (0, 0)),\n",
    "        )\n",
    "        return padded_features\n",
    "    elif len(features) > normed_sequence_len:\n",
    "        return features[len_diff // 2:-len_diff // 2]\n",
    "    else:\n",
    "        return features\n",
    "\n",
    "def preprocess_sequence(sequence_df:pl.DataFrame) -> ndarray:\n",
    "    return (\n",
    "        sequence_df                     \n",
    "        .to_pandas()                            # Convert to pandas dataframe.\n",
    "        .pipe(imputed_features)                 # Impute missing data.\n",
    "        .pipe(norm_quat_rotations)              # Norm quaternions\n",
    "        .pipe(add_linear_acc_cols)              # Add gravity free acceleration.\n",
    "        .pipe(add_acc_magnitude, RAW_ACCELRATION_COLS, \"raw_acc_mag\")\n",
    "        .pipe(add_acc_magnitude, LINEAR_ACC_COLS, \"linear_acc_mag\")\n",
    "        .pipe(add_quat_angle_mag)\n",
    "        .pipe(add_angular_velocity_features)\n",
    "        .pipe(rot_euler_angles)                 # Add rotation acc expressed as euler angles.\n",
    "        .pipe(agg_tof_cols_per_sensor)          # Aggregate ToF columns.\n",
    "        .pipe(add_diff_features)                # \n",
    "        .loc[:, sorted(meta_data[\"feature_cols\"])]      # Retain only the usefull columns a.k.a features.\n",
    "        .sub(meta_data[\"mean\"])                 # Subtract features by their mean, std norm pt.1.\n",
    "        .div(meta_data[\"std\"])                  # Divide by Standard deviation, std norm pt.2.\n",
    "        .pipe(length_normed_sequence_feat_arr)  # get feature ndarray of sequence.\n",
    "        .T                                      # Transpose to swap channel and X dimensions.\n",
    "    )"
   ]
  },
  {
   "cell_type": "markdown",
   "id": "1ebb0960",
   "metadata": {},
   "source": [
    "### Define prediction function"
   ]
  },
  {
   "cell_type": "code",
   "execution_count": null,
   "id": "57d8dfff",
   "metadata": {
    "execution": {
     "iopub.execute_input": "2025-06-14T10:09:14.989742Z",
     "iopub.status.busy": "2025-06-14T10:09:14.989258Z",
     "iopub.status.idle": "2025-06-14T10:09:14.995936Z",
     "shell.execute_reply": "2025-06-14T10:09:14.995244Z"
    },
    "papermill": {
     "duration": 0.021303,
     "end_time": "2025-06-14T10:09:14.997034",
     "exception": false,
     "start_time": "2025-06-14T10:09:14.975731",
     "status": "completed"
    },
    "tags": []
   },
   "outputs": [],
   "source": [
    "# def predict(sequence: pl.DataFrame, demographics: pl.DataFrame) -> str:\n",
    "#     \"\"\"\n",
    "#     Kaggle evaluation API will call this for each sequence.\n",
    "#     sequence: polars DataFrame for a single sequence\n",
    "#     demographics: unused in this model\n",
    "#     Returns: predicted gesture string\n",
    "#     \"\"\"\n",
    "#     df_seq = sequence.to_pandas()\n",
    "#     df_demo = demographics.to_pandas()\n",
    "\n",
    "#     df_seq = df_seq.merge(\n",
    "#         df_demo,\n",
    "#         on='subject',\n",
    "#         how='left',\n",
    "#         validate='many_to_one',\n",
    "#     )\n",
    "#     right_handed_mask = df_seq['handedness'] == 1\n",
    "#     df_seq.loc[right_handed_mask, imu_cols] = apply_symmetry(df_seq.loc[right_handed_mask, imu_cols])\n",
    "\n",
    "#     x_tensor = preprocess_sequence(df_seq).to(device)\n",
    "\n",
    "#     all_outputs = []\n",
    "#     with torch.no_grad():\n",
    "#         for model in model_ensemble:\n",
    "#             outputs = model(x_tensor).softmax(dim=-1)\n",
    "#             all_outputs.append(outputs)\n",
    "\n",
    "#     avg_outputs = torch.mean(torch.stack(all_outputs), dim=0)\n",
    "#     pred_idx = torch.argmax(avg_outputs, dim=1).item()\n",
    "\n",
    "#     return str(gesture_classes[pred_idx])\n",
    "\n",
    "def predict(sequence: pl.DataFrame, _: pl.DataFrame) -> str:\n",
    "    \"\"\"\n",
    "    Kaggle evaluation API will call this for each sequence.\n",
    "    sequence: polars DataFrame for a single sequence\n",
    "    demographics: unused in this model\n",
    "    Returns: predicted gesture string\n",
    "    \"\"\"\n",
    "    # df_seq = sequence.to_pandas()\n",
    "    # df_demo = demographics.to_pandas()\n",
    "\n",
    "    # df_seq = df_seq.merge(\n",
    "    #     df_demo,\n",
    "    #     on='subject',\n",
    "    #     how='left',\n",
    "    #     validate='many_to_one',\n",
    "    # )\n",
    "    # right_handed_mask = df_seq['handedness'] == 1\n",
    "    # df_seq.loc[right_handed_mask, imu_cols] = apply_symmetry(df_seq.loc[right_handed_mask, imu_cols])\n",
    "    # x = torch.unsqueeze(Tensor(x), dim=0).to(device)\n",
    "\n",
    "    x_tensor = (\n",
    "        torch.unsqueeze(Tensor(preprocess_sequence(sequence)), dim=0)\n",
    "        .float()\n",
    "        .to(device)\n",
    "    )\n",
    "    print(x_tensor.shape)\n",
    "\n",
    "    all_outputs = []\n",
    "    with torch.no_grad():\n",
    "        for model_idx, model in enumerate(model_ensemble): # Only take the first one bc it's the only one that takes in the correct input shape\n",
    "            outputs = model(x_tensor)\n",
    "            all_outputs.append(outputs)\n",
    "\n",
    "    avg_outputs = torch.mean(torch.stack(all_outputs), dim=0)\n",
    "    pred_idx = torch.argmax(avg_outputs, dim=1).item()\n",
    "\n",
    "    return str(gesture_classes[pred_idx])"
   ]
  },
  {
   "cell_type": "markdown",
   "id": "5cdcf446",
   "metadata": {},
   "source": [
    "### Run inference server"
   ]
  },
  {
   "cell_type": "code",
   "execution_count": null,
   "id": "1c386b7d",
   "metadata": {
    "execution": {
     "iopub.execute_input": "2025-06-14T10:09:15.023324Z",
     "iopub.status.busy": "2025-06-14T10:09:15.023122Z",
     "iopub.status.idle": "2025-06-14T10:09:16.373534Z",
     "shell.execute_reply": "2025-06-14T10:09:16.372710Z"
    },
    "papermill": {
     "duration": 1.365137,
     "end_time": "2025-06-14T10:09:16.374918",
     "exception": false,
     "start_time": "2025-06-14T10:09:15.009781",
     "status": "completed"
    },
    "tags": []
   },
   "outputs": [
    {
     "name": "stdout",
     "output_type": "stream",
     "text": [
      "torch.Size([1, 66, 127])\n",
      "torch.Size([1, 66, 127])\n",
      "torch.Size([1, 66, 127])\n",
      "torch.Size([1, 66, 127])\n"
     ]
    }
   ],
   "source": [
    "inference_server = kaggle_evaluation.cmi_inference_server.CMIInferenceServer(predict)\n",
    "\n",
    "if os.getenv('KAGGLE_IS_COMPETITION_RERUN'):\n",
    "    inference_server.serve()\n",
    "else:\n",
    "    inference_server.run_local_gateway(\n",
    "        data_paths=(\n",
    "            join(competition_dataset_path, 'test.csv'),\n",
    "            join(competition_dataset_path, 'test_demographics.csv'),\n",
    "        )\n",
    "    )\n",
    "    inference_server = kaggle_evaluation.cmi_inference_server.CMIInferenceServer(predict)\n",
    "    inference_server.run_local_gateway(\n",
    "        data_paths=(\n",
    "            join(competition_dataset_path, 'test.csv'),\n",
    "            join(competition_dataset_path, 'test_demographics.csv'),\n",
    "        )\n",
    "    )"
   ]
  }
 ],
 "metadata": {
  "kaggle": {
   "accelerator": "gpu",
   "dataSources": [
    {
     "databundleVersionId": 12518947,
     "sourceId": 102335,
     "sourceType": "competition"
    }
   ],
   "isGpuEnabled": true,
   "isInternetEnabled": false,
   "language": "python",
   "sourceType": "notebook"
  },
  "kernelspec": {
   "display_name": "Python 3",
   "language": "python",
   "name": "python3"
  },
  "language_info": {
   "codemirror_mode": {
    "name": "ipython",
    "version": 3
   },
   "file_extension": ".py",
   "mimetype": "text/x-python",
   "name": "python",
   "nbconvert_exporter": "python",
   "pygments_lexer": "ipython3",
   "version": "3.11.5"
  },
  "papermill": {
   "default_parameters": {},
   "duration": 510.403331,
   "end_time": "2025-06-14T10:09:19.701325",
   "environment_variables": {},
   "exception": null,
   "input_path": "__notebook__.ipynb",
   "output_path": "__notebook__.ipynb",
   "parameters": {},
   "start_time": "2025-06-14T10:00:49.297994",
   "version": "2.6.0"
  }
 },
 "nbformat": 4,
 "nbformat_minor": 5
}
