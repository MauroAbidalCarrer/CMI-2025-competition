{
 "cells": [
  {
   "cell_type": "markdown",
   "id": "bf6438da",
   "metadata": {},
   "source": [
    "# Training & inference notebook\n",
    "Credit to [Tarun Mishra](https://www.kaggle.com/tarundirector) – this code is heavily based on his [notebook](https://www.kaggle.com/code/tarundirector/sensor-pulse-viz-eda-for-bfrb-detection?scriptVersionId=243465321)."
   ]
  },
  {
   "cell_type": "markdown",
   "id": "e752c660",
   "metadata": {},
   "source": [
    "## Setup"
   ]
  },
  {
   "cell_type": "markdown",
   "id": "473b69f6",
   "metadata": {},
   "source": [
    "### imports"
   ]
  },
  {
   "cell_type": "markdown",
   "id": "e7d4b210",
   "metadata": {},
   "source": [
    "#### Training imports"
   ]
  },
  {
   "cell_type": "code",
   "execution_count": 1,
   "id": "b842c804",
   "metadata": {},
   "outputs": [],
   "source": [
    "import os\n",
    "import json\n",
    "import math\n",
    "from glob import glob\n",
    "from functools import partial\n",
    "from datetime import datetime\n",
    "from collections import Counter\n",
    "from os.path import join, realpath\n",
    "from typing import Optional, Literal\n",
    "from itertools import pairwise, starmap\n",
    "\n",
    "import torch\n",
    "import kagglehub\n",
    "import numpy as np\n",
    "import pandas as pd\n",
    "import plotly.express as px\n",
    "from torch import nn, Tensor\n",
    "from pandas import DataFrame as DF\n",
    "from torch.utils.data import TensorDataset\n",
    "from torch.optim import Optimizer\n",
    "# from timm.scheduler import CosineLRScheduler\n",
    "from torch.utils.data import DataLoader as DL\n",
    "from rich.progress import Progress, Task, track\n",
    "from torch.optim.lr_scheduler import ConstantLR, LRScheduler, _LRScheduler\n",
    "metric_package = kagglehub.package_import('wasupandceacar/cmi-metric', bypass_confirmation=True)"
   ]
  },
  {
   "cell_type": "markdown",
   "id": "6a3ae962",
   "metadata": {},
   "source": [
    "#### inference imports"
   ]
  },
  {
   "cell_type": "code",
   "execution_count": 2,
   "id": "915c9ecf",
   "metadata": {},
   "outputs": [],
   "source": [
    "import os\n",
    "import json\n",
    "import warnings\n",
    "from os.path import join\n",
    "from tqdm.notebook import tqdm\n",
    "from itertools import pairwise, product\n",
    "\n",
    "import torch\n",
    "import numpy as np\n",
    "import pandas as pd\n",
    "import polars as pl\n",
    "from numpy import ndarray\n",
    "from torch import nn, Tensor\n",
    "from numpy.linalg import norm\n",
    "from pandas import DataFrame as DF\n",
    "from scipy.spatial.transform import Rotation\n",
    "# from kagglehub import competition_download, dataset_download, model_download\n",
    "import kagglehub\n",
    "metric_package = kagglehub.package_import('wasupandceacar/cmi-metric', bypass_confirmation=True)\n",
    "\n",
    "import kaggle_evaluation.cmi_inference_server"
   ]
  },
  {
   "cell_type": "markdown",
   "id": "5cd3c8bd",
   "metadata": {},
   "source": [
    "#### kaggle notbook Imports"
   ]
  },
  {
   "cell_type": "code",
   "execution_count": null,
   "id": "ce2e25ed",
   "metadata": {},
   "outputs": [],
   "source": [
    "import random\n",
    "import numpy as np\n",
    "import torch\n",
    "import os\n",
    "\n",
    "def seed_everything(seed=42):\n",
    "    \"\"\"Set all random seeds for reproducibility\"\"\"\n",
    "    random.seed(seed)\n",
    "    np.random.seed(seed)\n",
    "    torch.manual_seed(seed)\n",
    "    torch.cuda.manual_seed(seed)\n",
    "    torch.backends.cudnn.deterministic = True\n",
    "    torch.backends.cudnn.benchmark = False\n",
    "    os.environ['PYTHONHASHSEED'] = str(seed)\n",
    "    os.environ['CUBLAS_WORKSPACE_CONFIG'] = ':4096:8'\n",
    "    torch.use_deterministic_algorithms(True, warn_only=True)\n",
    "\n",
    "SEED = 42\n",
    "seed_everything(seed=SEED)\n",
    "\n",
    "import pandas as pd\n",
    "import polars as pl\n",
    "from sklearn.metrics import f1_score\n",
    "from sklearn.model_selection import train_test_split\n",
    "from sklearn.preprocessing import StandardScaler, LabelEncoder\n",
    "from sklearn.model_selection import GroupKFold\n",
    "from sklearn.utils.class_weight import compute_class_weight\n",
    "import joblib\n",
    "from tqdm import tqdm\n",
    "\n",
    "from torch import nn\n",
    "import torch.nn.functional as F\n",
    "import torch.optim as optim\n",
    "from torch.utils.data import Dataset, DataLoader\n",
    "\n",
    "import kaggle_evaluation.cmi_inference_server\n",
    "from matplotlib import pyplot as plt"
   ]
  },
  {
   "cell_type": "markdown",
   "id": "91e34cce",
   "metadata": {},
   "source": [
    "### Configs"
   ]
  },
  {
   "cell_type": "markdown",
   "id": "57b0b925",
   "metadata": {},
   "source": [
    "#### Training config"
   ]
  },
  {
   "cell_type": "code",
   "execution_count": 4,
   "id": "1296f174",
   "metadata": {},
   "outputs": [],
   "source": [
    "DATASET_HANDLE = \"mauroabidalcarrer/prepocessed-cmi-2025\"\n",
    "COMPETITION_HANDLE = \"cmi-detect-behavior-with-sensor-data\"\n",
    "JITTER = 0.25\n",
    "# SCALING = 0.1\n",
    "\n",
    "NB_CROSS_VALIDATIONS = 5\n",
    "\n",
    "STARTING_LR = 0.0005\n",
    "TRAIN_BATCH_SIZE = 256\n",
    "VALIDATION_BATCH_SIZE = 4 * TRAIN_BATCH_SIZE\n",
    "TARGET_NAMES = sorted([\n",
    "    \"Above ear - pull hair\",\n",
    "    \"Cheek - pinch skin\",\n",
    "    \"Eyebrow - pull hair\",\n",
    "    \"Eyelash - pull hair\",\n",
    "    \"Feel around in tray and pull out an object\",\n",
    "    \"Forehead - pull hairline\",\n",
    "    \"Forehead - scratch\",\n",
    "    \"Neck - pinch skin\",\n",
    "    \"Neck - scratch\",\n",
    "    \"Text on phone\",\n",
    "    \"Wave hello\",\n",
    "    \"Write name in air\",\n",
    "    \"Write name on leg\",\n",
    "    \"Drink from bottle/cup\",\n",
    "    \"Pinch knee/leg skin\",\n",
    "    \"Pull air toward your face\",\n",
    "    \"Scratch knee/leg skin\",\n",
    "    \"Glasses on/off\"\n",
    "])\n",
    "TARGET_NAMES_NDARRAY = np.asarray(TARGET_NAMES)\n",
    "\n",
    "MOCK_TRAINING_EPOCHS = 15\n",
    "MOCK_TRAINING_GAMMA = 1.01\n",
    "\n",
    "TRAINING_EPOCHS = 25\n",
    "PATIENCE = 12\n",
    "WARMUP_EPOCHS = 5\n",
    "MAX_LR_TO_MIN_DIV_FACTOR = 10\n",
    "WARMUP_LR_INT = 1.822126131809773e-05\n",
    "MIN_LR = 3.810323058740104e-09"
   ]
  },
  {
   "cell_type": "markdown",
   "id": "1393b8af",
   "metadata": {},
   "source": [
    "#### Inference config "
   ]
  },
  {
   "cell_type": "code",
   "execution_count": 5,
   "id": "3ad8c78c",
   "metadata": {},
   "outputs": [],
   "source": [
    "QUATERNION_COLS = ['rot_w', 'rot_x', 'rot_y', 'rot_z']\n",
    "GRAVITY_WORLD = np.array([0, 0, 9.81], \"float32\")\n",
    "RAW_ACCELRATION_COLS = [\"acc_x\", \"acc_y\", \"acc_z\"]\n",
    "LINEAR_ACC_COLS = [\"gravity_free_\" + col for col in RAW_ACCELRATION_COLS]\n",
    "COMPETITION_HANDLE = \"cmi-detect-behavior-with-sensor-data\"\n",
    "CATEGORY_COLUMNS = [\n",
    "    'row_id',\n",
    "    'sequence_type',\n",
    "    'sequence_id',\n",
    "    'subject',\n",
    "    'orientation',\n",
    "    'behavior',\n",
    "    'phase',\n",
    "    'gesture',\n",
    "]\n",
    "META_DATA_COLUMNS = [\n",
    "    'row_id',\n",
    "    'sequence_type',\n",
    "    'sequence_id',\n",
    "    'sequence_counter',\n",
    "    'subject',\n",
    "    'orientation',\n",
    "    'behavior',\n",
    "    'phase',\n",
    "    'gesture',\n",
    "]\n",
    "DATASET_DF_DTYPES = {\n",
    "    \"acc_x\": \"float32\", \"acc_y\": \"float32\", \"acc_z\": \"float32\",\n",
    "    \"thm_1\":\"float32\", \"thm_2\":\"float32\", \"thm_3\":\"float32\", \"thm_4\":\"float32\", \"thm_5\":\"float32\",\n",
    "    \"sequence_counter\": \"int32\",\n",
    "    **{col: \"category\" for col in CATEGORY_COLUMNS},\n",
    "    **{f\"tof_{i_1}_v{i_2}\": \"float32\" for i_1, i_2 in product(range(1, 5), range(64))},\n",
    "}\n",
    "PREPROCESSED_DATASET_HANDLE = \"mauroabidalcarrer/prepocessed-cmi-2025\"\n",
    "# The quantile of the sequences len used to pad/truncate during preprocessing\n",
    "SEQUENCE_NORMED_LEN_QUANTILE = 0.95\n",
    "# SAMPLING_FREQUENCY = 10 #Hz\n",
    "N_FOLDS = 5\n",
    "VALIDATION_FRACTION = 0.2\n",
    "TARGET_NAMES = sorted([\n",
    "    \"Above ear - pull hair\",\n",
    "    \"Cheek - pinch skin\",\n",
    "    \"Eyebrow - pull hair\",\n",
    "    \"Eyelash - pull hair\",\n",
    "    \"Feel around in tray and pull out an object\",\n",
    "    \"Forehead - pull hairline\",\n",
    "    \"Forehead - scratch\",\n",
    "    \"Neck - pinch skin\",\n",
    "    \"Neck - scratch\",\n",
    "    \"Text on phone\",\n",
    "    \"Wave hello\",\n",
    "    \"Write name in air\",\n",
    "    \"Write name on leg\",\n",
    "    \"Drink from bottle/cup\",\n",
    "    \"Pinch knee/leg skin\",\n",
    "    \"Pull air toward your face\",\n",
    "    \"Scratch knee/leg skin\",\n",
    "    \"Glasses on/off\"\n",
    "])\n",
    "EPSILON=1e-8\n",
    "DELTA_ROTATION_ANGULAR_VELOCITY_COLS = [\"angular_vel_x\", \"angular_vel_y\", \"angular_vel_z\"]\n",
    "DELTA_ROTATION_AXES_COLS = [\"rotation_axis_x\", \"rotation_axis_y\", \"rotation_axis_z\"]\n",
    "EULER_ANGLES_COLS = [\"euler_x\", \"euler_y\", \"euler_z\"]"
   ]
  },
  {
   "cell_type": "markdown",
   "id": "1c4bfefa",
   "metadata": {},
   "source": [
    "### Define function to get the feature columns\n",
    "Feature columns change over time so it's better to have a function to get them than manually update a variable every time we add/remove features."
   ]
  },
  {
   "cell_type": "code",
   "execution_count": 6,
   "id": "f3d40b15",
   "metadata": {},
   "outputs": [],
   "source": [
    "def get_feature_cols(df:DF) -> list[str]:\n",
    "    return sorted(list(set(df.columns) - set(META_DATA_COLUMNS) - set(TARGET_NAMES)))"
   ]
  },
  {
   "cell_type": "markdown",
   "id": "1eac0e5a",
   "metadata": {},
   "source": [
    "### Supress performance warngings"
   ]
  },
  {
   "cell_type": "code",
   "execution_count": 7,
   "id": "086420e2",
   "metadata": {},
   "outputs": [],
   "source": [
    "warnings.filterwarnings(\n",
    "    \"ignore\",\n",
    "    message=(\n",
    "        \"DataFrame is highly fragmented.  This is usually the result of \"\n",
    "        \"calling `frame.insert` many times.*\"\n",
    "    ),\n",
    "    category=pd.errors.PerformanceWarning,\n",
    ")"
   ]
  },
  {
   "cell_type": "markdown",
   "id": "7749c3bd",
   "metadata": {},
   "source": [
    "### device setup"
   ]
  },
  {
   "cell_type": "code",
   "execution_count": 8,
   "id": "aa7f99a1",
   "metadata": {},
   "outputs": [],
   "source": [
    "device = torch.device(\"cuda\") if torch.cuda.is_available() else torch.device(\"cpu\")"
   ]
  },
  {
   "cell_type": "markdown",
   "id": "6a563074",
   "metadata": {},
   "source": [
    "### Dataset Setup"
   ]
  },
  {
   "cell_type": "markdown",
   "id": "20a7f347",
   "metadata": {},
   "source": [
    "#### Dataset class"
   ]
  },
  {
   "cell_type": "code",
   "execution_count": 9,
   "id": "2bc2e83c",
   "metadata": {},
   "outputs": [],
   "source": [
    "dataset_path = kagglehub.dataset_download(DATASET_HANDLE)\n",
    "\n",
    "class CMIDataset(TensorDataset):\n",
    "    def __init__(\n",
    "        self,\n",
    "        parent_dir: str,\n",
    "        split: Optional[Literal[\"train\", \"validation\"]]=None,\n",
    "        subset: Optional[int]=None,\n",
    "        force_download=False\n",
    "    ):\n",
    "        dataset_path = kagglehub.dataset_download(DATASET_HANDLE, force_download)\n",
    "        parent_dir = join(dataset_path, \"preprocessed_dataset\", parent_dir)\n",
    "        split = \"\" if split is None else split + \"_\"\n",
    "        x = np.load(join(parent_dir, f\"{split}X.npy\")).swapaxes(1, 2)\n",
    "        y = np.load(join(parent_dir, f\"{split}Y.npy\"))\n",
    "        if subset is not None:\n",
    "            x = x[:subset]\n",
    "            y = y[:subset]\n",
    "        super().__init__(\n",
    "            torch.from_numpy(x), \n",
    "            torch.from_numpy(y),\n",
    "        )"
   ]
  },
  {
   "cell_type": "markdown",
   "id": "0da7064d",
   "metadata": {},
   "source": [
    "#### Meta data loading"
   ]
  },
  {
   "cell_type": "code",
   "execution_count": 11,
   "id": "5aae295d",
   "metadata": {},
   "outputs": [],
   "source": [
    "meta_data_path = join(\n",
    "    dataset_path,\n",
    "    \"preprocessed_dataset\",\n",
    "    \"full_dataset_meta_data.json\"\n",
    ")\n",
    "with open(meta_data_path, \"r\") as fp:\n",
    "    meta_data = json.load(fp)\n",
    "# Convert target names into a ndarray to index it batchwise.\n",
    "non_imu_feats_idx = [feat_idx for feat_idx, feat in enumerate(meta_data[\"feature_cols\"]) if feat.startswith((\"thm\", \"tof\"))]\n",
    "non_imu_feats = [feat for feat in meta_data[\"feature_cols\"] if feat.startswith((\"thm\", \"tof\"))]\n",
    "imu_feats_idx = [feat_idx for feat_idx, feat in enumerate(meta_data[\"feature_cols\"]) if not feat.startswith((\"thm\", \"tof\"))]\n",
    "imu_feats = [feat for feat in meta_data[\"feature_cols\"] if not feat.startswith((\"thm\", \"tof\"))]"
   ]
  },
  {
   "cell_type": "markdown",
   "id": "dbc6fe74",
   "metadata": {},
   "source": [
    "#### Compute class weights."
   ]
  },
  {
   "cell_type": "code",
   "execution_count": 12,
   "id": "74233c6c",
   "metadata": {},
   "outputs": [],
   "source": [
    "def compute_weighted_cross_entropy_loss(\n",
    "    dataset: Dataset[tuple[torch.Tensor, torch.Tensor]]\n",
    ") -> nn.CrossEntropyLoss:\n",
    "    \"\"\"\n",
    "    Computes class weights from a dataset with one-hot encoded targets and returns a CrossEntropyLoss with those weights.\n",
    "\n",
    "    Args:\n",
    "        dataset: A PyTorch Dataset that yields (x, y) where y is a one-hot encoded tensor of shape (num_classes,)\n",
    "\n",
    "    Returns:\n",
    "        A torch.nn.CrossEntropyLoss object with class weights based on inverse class frequency.\n",
    "    \"\"\"\n",
    "    class_counts: Counter = Counter()\n",
    "    num_samples = 0\n",
    "\n",
    "    for _, y in dataset:\n",
    "        class_idx = y.argmax().item()\n",
    "        class_counts[class_idx] += 1\n",
    "        num_samples += 1\n",
    "\n",
    "    num_classes = len(class_counts)\n",
    "    weights = torch.tensor(\n",
    "        [num_samples / class_counts[i] for i in range(num_classes)],\n",
    "        dtype=torch.float32,\n",
    "    )\n",
    "\n",
    "    # Optional: normalize weights so they sum to 1\n",
    "    weights = weights / weights.sum()\n",
    "\n",
    "    return nn.CrossEntropyLoss(weight=weights.to(device))\n"
   ]
  },
  {
   "cell_type": "markdown",
   "id": "2161df0c",
   "metadata": {
    "papermill": {
     "duration": 0.00278,
     "end_time": "2025-06-14T10:01:12.877551",
     "exception": false,
     "start_time": "2025-06-14T10:01:12.874771",
     "status": "completed"
    },
    "tags": []
   },
   "source": [
    "### BFRBs indices"
   ]
  },
  {
   "cell_type": "code",
   "execution_count": 13,
   "id": "e657c570",
   "metadata": {
    "execution": {
     "iopub.execute_input": "2025-06-14T10:01:12.884365Z",
     "iopub.status.busy": "2025-06-14T10:01:12.883937Z",
     "iopub.status.idle": "2025-06-14T10:01:45.309186Z",
     "shell.execute_reply": "2025-06-14T10:01:45.308564Z"
    },
    "papermill": {
     "duration": 32.430139,
     "end_time": "2025-06-14T10:01:45.310511",
     "exception": false,
     "start_time": "2025-06-14T10:01:12.880372",
     "status": "completed"
    },
    "tags": []
   },
   "outputs": [
    {
     "name": "stdout",
     "output_type": "stream",
     "text": [
      "Loading datasets...\n",
      "Train rows: 574945, Test rows: 107\n"
     ]
    }
   ],
   "source": [
    "print(\"Loading datasets...\")\n",
    "competition_dataset_path = kagglehub.competition_download(COMPETITION_HANDLE)\n",
    "train_df = pd.read_csv(join(competition_dataset_path, \"train.csv\"))\n",
    "train_dem_df = pd.read_csv(join(competition_dataset_path, \"train_demographics.csv\"))\n",
    "test_df = pd.read_csv(join(competition_dataset_path, \"test.csv\"))\n",
    "test_dem_df = pd.read_csv(join(competition_dataset_path, \"test_demographics.csv\"))\n",
    "print(f\"Train rows: {len(train_df)}, Test rows: {len(test_df)}\")\n",
    "\n",
    "# Encode labels\n",
    "label_encoder = LabelEncoder()\n",
    "train_df['gesture'] = label_encoder.fit_transform(train_df['gesture'].astype(str))\n",
    "gesture_classes = label_encoder.classes_\n",
    "\n",
    "bfrb_gestures = [\n",
    "    'Above ear - pull hair',\n",
    "    'Forehead - pull hairline',\n",
    "    'Forehead - scratch',\n",
    "    'Eyebrow - pull hair',\n",
    "    'Eyelash - pull hair',\n",
    "    'Neck - pinch skin',\n",
    "    'Neck - scratch',\n",
    "    'Cheek - pinch skin'\n",
    "]\n",
    "bfrb_indices = label_encoder.transform(bfrb_gestures)"
   ]
  },
  {
   "cell_type": "markdown",
   "id": "0de16cc1",
   "metadata": {},
   "source": [
    "### Scheduler"
   ]
  },
  {
   "cell_type": "code",
   "execution_count": 14,
   "id": "d3d46b85",
   "metadata": {},
   "outputs": [],
   "source": [
    "class CosineAnnealingWarmupRestarts(_LRScheduler):\n",
    "    def __init__(\n",
    "        self,\n",
    "        optimizer: Optimizer,\n",
    "        warmup_steps: int,\n",
    "        max_lr: float,\n",
    "        min_lr: float,\n",
    "        cycle_length: int,\n",
    "        cycle_mult: float = 1.0,\n",
    "        gamma: float = 1.0,\n",
    "        last_epoch: int = -1,\n",
    "    ) -> None:\n",
    "        \"\"\"\n",
    "        Args:\n",
    "            optimizer: Wrapped optimizer.\n",
    "            warmup_steps: Number of steps for linear warmup.\n",
    "            max_lr: Initial maximum learning rate.\n",
    "            min_lr: Minimum learning rate after decay.\n",
    "            cycle_length: Initial number of steps per cosine cycle.\n",
    "            cycle_mult: Multiplicative factor for increasing cycle lengths.\n",
    "            gamma: Multiplicative decay factor for max_lr after each cycle.\n",
    "            last_epoch: The index of last epoch. Default: -1.\n",
    "        \"\"\"\n",
    "        self.warmup_steps = warmup_steps\n",
    "        self.max_lr = max_lr\n",
    "        self.min_lr = min_lr\n",
    "        self.cycle_length = cycle_length\n",
    "        self.cycle_mult = cycle_mult\n",
    "        self.gamma = gamma\n",
    "\n",
    "        self.current_cycle = 0\n",
    "        self.cycle_step = 0\n",
    "        self.lr = max_lr\n",
    "\n",
    "        super().__init__(optimizer, last_epoch)\n",
    "\n",
    "    def get_lr(self) -> list[float]:\n",
    "        if self.last_epoch < self.warmup_steps:\n",
    "            # Linear warmup\n",
    "            scale = (self.last_epoch + 1) / self.warmup_steps\n",
    "            return [self.min_lr + scale * (self.max_lr - self.min_lr) for _ in self.base_lrs]\n",
    "\n",
    "        # Adjust for post-warmup step index\n",
    "        t = self.cycle_step\n",
    "        T = self.cycle_length\n",
    "\n",
    "        cosine_decay = 0.5 * (1 + math.cos(math.pi * t / T))\n",
    "        lr = self.min_lr + (self.max_lr - self.min_lr) * cosine_decay\n",
    "\n",
    "        return [lr for _ in self.base_lrs]\n",
    "\n",
    "    def step(self, epoch: Optional[int] = None) -> None:\n",
    "        if self.last_epoch >= self.warmup_steps:\n",
    "            self.cycle_step += 1\n",
    "            if self.cycle_step >= self.cycle_length:\n",
    "                self.current_cycle += 1\n",
    "                self.cycle_step = 0\n",
    "                self.cycle_length = int(self.cycle_length * self.cycle_mult)\n",
    "                self.max_lr *= self.gamma\n",
    "        super().step(epoch)\n"
   ]
  },
  {
   "cell_type": "markdown",
   "id": "9c54244a",
   "metadata": {},
   "source": [
    "## Model definition"
   ]
  },
  {
   "cell_type": "code",
   "execution_count": 44,
   "id": "80ae01a8",
   "metadata": {},
   "outputs": [],
   "source": [
    "class MultiScaleConvs(nn.Module):\n",
    "    def __init__(self, in_channels:int, kernel_sizes:list[int]):\n",
    "        super().__init__()\n",
    "        def mk_conv_block(k_size) -> nn.Sequential:\n",
    "            return nn.Sequential(\n",
    "                nn.Conv1d(in_channels, in_channels, k_size, padding=k_size // 2, groups=in_channels),\n",
    "                nn.BatchNorm1d(in_channels),\n",
    "                nn.ReLU(),\n",
    "            )\n",
    "        self.convs = nn.ModuleList(map(mk_conv_block, kernel_sizes))\n",
    "\n",
    "    def forward(self, x:Tensor) -> Tensor:\n",
    "        yes = torch.cat([conv(x) for conv in self.convs] + [x], dim=1)\n",
    "        # print(\"stem output shape:\", yes.shape)\n",
    "        return yes\n",
    "\n",
    "class SqueezeExcitationBlock(nn.Module):\n",
    "    # Copy/paste of https://www.kaggle.com/code/wasupandceacar/lb-0-82-5fold-single-bert-model#Model implementation\n",
    "    def __init__(self, channels:int, reduction:int=8):\n",
    "        super().__init__()\n",
    "        self.fc1 = nn.Linear(channels, channels // reduction, bias=True)\n",
    "        self.fc2 = nn.Linear(channels // reduction, channels, bias=True)\n",
    "        self.sigmoid = nn.Sigmoid()\n",
    "\n",
    "    def forward(self, x):\n",
    "        # x: (B, C, L)\n",
    "        se = F.adaptive_avg_pool1d(x, 1).squeeze(-1)      # -> (B, C)\n",
    "        se = F.relu(self.fc1(se), inplace=True)          # -> (B, C//r)\n",
    "        se = self.sigmoid(self.fc2(se)).unsqueeze(-1)    # -> (B, C, 1)\n",
    "        return x * se\n",
    "\n",
    "class ResidualBlock(nn.Module):\n",
    "    def __init__(self, in_chns:int, out_chns:int, dropout_ratio:float=0.3, se_reduction:int=8):\n",
    "        super().__init__()\n",
    "        self.blocks = nn.Sequential(\n",
    "            nn.Conv1d(in_chns, out_chns, kernel_size=3, padding=1),\n",
    "            nn.BatchNorm1d(out_chns),\n",
    "            nn.ReLU(),\n",
    "            nn.Conv1d(out_chns, out_chns, kernel_size=3, padding=1),\n",
    "            nn.BatchNorm1d(out_chns),\n",
    "            SqueezeExcitationBlock(out_chns, se_reduction),\n",
    "        )\n",
    "        self.head = nn.Sequential(nn.ReLU(), nn.Dropout(dropout_ratio))\n",
    "        if in_chns == out_chns:\n",
    "            self.skip_connection = nn.Identity() \n",
    "        else:\n",
    "            # TODO: set bias to False ?\n",
    "            self.skip_connection = nn.Sequential(\n",
    "                nn.Conv1d(in_chns, out_chns, 1),\n",
    "                nn.BatchNorm1d(out_chns)\n",
    "            )\n",
    "            self.head.add_module(\"max_pool\", nn.MaxPool1d(2))\n",
    "            \n",
    "    def forward(self, x:Tensor) -> Tensor:\n",
    "        activaition_maps = self.skip_connection(x) + self.blocks(x)\n",
    "        return self.head(activaition_maps)\n",
    "\n",
    "class MBConvBlock(nn.Module):\n",
    "    # From this schema: https://media.licdn.com/dms/image/v2/D5612AQFjbDOm5uyxdw/article-inline_image-shrink_1500_2232/article-inline_image-shrink_1500_2232/0/1683677500817?e=1758153600&v=beta&t=n48_UW5TZTyDPhRFlJXSidUQQPQpuC756M0kNeKmYTY\n",
    "    def __init__(self, in_chns:int, out_chns:int, se_reduction:int=8, expansion_ratio:int=4, dropout_ratio:float=0.3):\n",
    "        super().__init__()\n",
    "        expanded_channels = in_chns * expansion_ratio\n",
    "        self.blocks = nn.Sequential(\n",
    "            nn.Conv1d(in_chns, expanded_channels, kernel_size=1),\n",
    "            nn.BatchNorm1d(expanded_channels),\n",
    "            nn.ReLU(),\n",
    "            nn.Conv1d(\n",
    "                expanded_channels,\n",
    "                expanded_channels,\n",
    "                kernel_size=3,\n",
    "                padding=1,\n",
    "                groups=expanded_channels,\n",
    "            ),\n",
    "            nn.BatchNorm1d(expanded_channels),\n",
    "            nn.ReLU(),\n",
    "            SqueezeExcitationBlock(expanded_channels, se_reduction),\n",
    "            nn.Conv1d(expanded_channels, out_chns, kernel_size=1)\n",
    "        )\n",
    "        self.head = nn.Sequential(\n",
    "            nn.BatchNorm1d(out_chns)\n",
    "            # nn.ReLU(),\n",
    "            # nn.Dropout(dropout_ratio),\n",
    "        )\n",
    "        if in_chns == out_chns:\n",
    "            self.skip_connection = nn.Identity() \n",
    "        else:\n",
    "            # TODO: set bias to False ?\n",
    "            self.skip_connection = nn.Sequential(\n",
    "                nn.Conv1d(in_chns, out_chns, 1),\n",
    "                nn.BatchNorm1d(out_chns)\n",
    "            )\n",
    "            self.head.add_module(\"max_pool\", nn.MaxPool1d(2))\n",
    "            \n",
    "    def forward(self, x:Tensor) -> Tensor:\n",
    "        activaition_maps = self.skip_connection(x) + self.blocks(x)\n",
    "        return self.head(activaition_maps)\n",
    "\n",
    "class AdditiveAttentionLayer(nn.Module):\n",
    "    # Copied (and slightly modified) from https://www.kaggle.com/code/myso1987/cmi3-pyroch-baseline-model-add-aug-folds\n",
    "    def __init__(self, hidden_dim):\n",
    "        super().__init__()\n",
    "        self.attention = nn.Linear(hidden_dim, 1)\n",
    "\n",
    "    def forward(self, x: Tensor) -> Tensor:\n",
    "        # x shape: (batch, channels, seq_len)\n",
    "        x = x.swapaxes(1, 2)\n",
    "        # x shape: (batch, seq_len, hidden_dim)\n",
    "        scores = torch.tanh(self.attention(x))  # (batch, seq_len, 1)\n",
    "        weights = F.softmax(scores.squeeze(-1), dim=1)  # (batch, seq_len)\n",
    "        context = torch.sum(x * weights.unsqueeze(-1), dim=1)  # (batch, hidden_dim)\n",
    "        return context\n",
    "\n",
    "class AdditiveMultiAttentionLayer(nn.Module):\n",
    "    # Copied (and slightly modified) from https://www.kaggle.com/code/myso1987/cmi3-pyroch-baseline-model-add-aug-folds\n",
    "    def __init__(self, hidden_dim:int, heads:int):\n",
    "        super().__init__()\n",
    "        self.attention = nn.Linear(hidden_dim, heads)\n",
    "\n",
    "    def forward(self, x: Tensor) -> Tensor:\n",
    "        # x shape: (batch, channels, seq_len)\n",
    "        x = x.swapaxes(1, 2) # (batch, seq_len, hidden_dim)\n",
    "        scores = self.attention(x) # (batch, seq_len, heads)\n",
    "        scores = torch.max(scores, dim=2)[0] # (batch, seq_len, 1)\n",
    "        scores = torch.tanh(scores)  # (batch, seq_len, 1)\n",
    "        weights = F.softmax(scores.squeeze(-1), dim=1)  # (batch, seq_len)\n",
    "        context = torch.sum(x * weights.unsqueeze(-1), dim=1)  # (batch, hidden_dim)\n",
    "        return context\n",
    "\n",
    "class CMIHARModule(nn.Module):\n",
    "    def __init__(\n",
    "            self,\n",
    "            in_channels:int,\n",
    "            depth:int,\n",
    "            mlp_width:int,\n",
    "            n_class:int,\n",
    "            se_reduction:int=8,\n",
    "            mbconv_expansion:int=4,\n",
    "            additive_attention_heads:int=4,\n",
    "            resnet_dropout_ratio:Optional[float]=0.3,\n",
    "            stem_kernels_sizes:Optional[list[int]]=None,\n",
    "        ):\n",
    "        super().__init__()\n",
    "        depth += 1\n",
    "        if stem_kernels_sizes:\n",
    "            stem = MultiScaleConvs(in_channels, kernel_sizes=stem_kernels_sizes)\n",
    "            body_in_channels = in_channels + in_channels * len(stem_kernels_sizes)\n",
    "        else:\n",
    "            body_in_channels = in_channels\n",
    "            stem = nn.Identity()\n",
    "        chns_at_depth = lambda depth: body_in_channels * 2 ** depth\n",
    "        blocks_chns_it = pairwise(map(chns_at_depth, range(depth)))\n",
    "        mk_mb_conv_block = partial(\n",
    "            ResidualBlock,\n",
    "            se_reduction=se_reduction,\n",
    "            dropout_ratio=resnet_dropout_ratio,\n",
    "            # expansion_ratio=mbconv_expansion\n",
    "        )\n",
    "        res_blocks = list(starmap(mk_mb_conv_block, blocks_chns_it))\n",
    "        self.stem_and_body = nn.Sequential(\n",
    "            # Stem\n",
    "            stem,\n",
    "            # Body\n",
    "            *res_blocks,\n",
    "            \n",
    "        )\n",
    "        self.lstm = nn.GRU(chns_at_depth(depth - 1), mlp_width // 2, bidirectional=True)\n",
    "        # self.lstm = nn.LSTM(chns_at_depth(depth - 1), mlp_width // 2, bidirectional=True)\n",
    "        self.attention = AdditiveAttentionLayer(mlp_width)\n",
    "        self.head = nn.Sequential(\n",
    "            # Head\n",
    "            nn.LazyLinear(mlp_width),\n",
    "            nn.ReLU(),\n",
    "            nn.Linear(mlp_width, mlp_width // 2),\n",
    "            nn.ReLU(),\n",
    "            nn.Linear(mlp_width // 2, n_class),\n",
    "        )\n",
    "\n",
    "    def forward(self, x:Tensor) -> Tensor:\n",
    "        yes = self.stem_and_body(x)\n",
    "        lstm_output, _  = self.lstm(yes.swapaxes(1, 2))\n",
    "        lstm_output = lstm_output.swapaxes(1, 2) # redunant\n",
    "        attended = self.attention(lstm_output)\n",
    "        return self.head(attended)\n"
   ]
  },
  {
   "cell_type": "markdown",
   "id": "bfc08e41",
   "metadata": {},
   "source": [
    "### Create model function"
   ]
  },
  {
   "cell_type": "code",
   "execution_count": 45,
   "id": "36e3e463",
   "metadata": {},
   "outputs": [
    {
     "data": {
      "text/plain": [
       "CMIHARModule(\n",
       "  (stem_and_body): Sequential(\n",
       "    (0): Identity()\n",
       "    (1): ResidualBlock(\n",
       "      (blocks): Sequential(\n",
       "        (0): Conv1d(106, 212, kernel_size=(3,), stride=(1,), padding=(1,))\n",
       "        (1): BatchNorm1d(212, eps=1e-05, momentum=0.1, affine=True, track_running_stats=True)\n",
       "        (2): ReLU()\n",
       "        (3): Conv1d(212, 212, kernel_size=(3,), stride=(1,), padding=(1,))\n",
       "        (4): BatchNorm1d(212, eps=1e-05, momentum=0.1, affine=True, track_running_stats=True)\n",
       "        (5): SqueezeExcitationBlock(\n",
       "          (fc1): Linear(in_features=212, out_features=26, bias=True)\n",
       "          (fc2): Linear(in_features=26, out_features=212, bias=True)\n",
       "          (sigmoid): Sigmoid()\n",
       "        )\n",
       "      )\n",
       "      (head): Sequential(\n",
       "        (0): ReLU()\n",
       "        (1): Dropout(p=0.45, inplace=False)\n",
       "        (max_pool): MaxPool1d(kernel_size=2, stride=2, padding=0, dilation=1, ceil_mode=False)\n",
       "      )\n",
       "      (skip_connection): Sequential(\n",
       "        (0): Conv1d(106, 212, kernel_size=(1,), stride=(1,))\n",
       "        (1): BatchNorm1d(212, eps=1e-05, momentum=0.1, affine=True, track_running_stats=True)\n",
       "      )\n",
       "    )\n",
       "    (2): ResidualBlock(\n",
       "      (blocks): Sequential(\n",
       "        (0): Conv1d(212, 424, kernel_size=(3,), stride=(1,), padding=(1,))\n",
       "        (1): BatchNorm1d(424, eps=1e-05, momentum=0.1, affine=True, track_running_stats=True)\n",
       "        (2): ReLU()\n",
       "        (3): Conv1d(424, 424, kernel_size=(3,), stride=(1,), padding=(1,))\n",
       "        (4): BatchNorm1d(424, eps=1e-05, momentum=0.1, affine=True, track_running_stats=True)\n",
       "        (5): SqueezeExcitationBlock(\n",
       "          (fc1): Linear(in_features=424, out_features=53, bias=True)\n",
       "          (fc2): Linear(in_features=53, out_features=424, bias=True)\n",
       "          (sigmoid): Sigmoid()\n",
       "        )\n",
       "      )\n",
       "      (head): Sequential(\n",
       "        (0): ReLU()\n",
       "        (1): Dropout(p=0.45, inplace=False)\n",
       "        (max_pool): MaxPool1d(kernel_size=2, stride=2, padding=0, dilation=1, ceil_mode=False)\n",
       "      )\n",
       "      (skip_connection): Sequential(\n",
       "        (0): Conv1d(212, 424, kernel_size=(1,), stride=(1,))\n",
       "        (1): BatchNorm1d(424, eps=1e-05, momentum=0.1, affine=True, track_running_stats=True)\n",
       "      )\n",
       "    )\n",
       "  )\n",
       "  (lstm): GRU(424, 128, bidirectional=True)\n",
       "  (attention): AdditiveAttentionLayer(\n",
       "    (attention): Linear(in_features=256, out_features=1, bias=True)\n",
       "  )\n",
       "  (head): Sequential(\n",
       "    (0): LazyLinear(in_features=0, out_features=256, bias=True)\n",
       "    (1): ReLU()\n",
       "    (2): Linear(in_features=256, out_features=128, bias=True)\n",
       "    (3): ReLU()\n",
       "    (4): Linear(in_features=128, out_features=18, bias=True)\n",
       "  )\n",
       ")"
      ]
     },
     "metadata": {},
     "output_type": "display_data"
    },
    {
     "name": "stdout",
     "output_type": "stream",
     "text": [
      "input channels: 106\n"
     ]
    }
   ],
   "source": [
    "def mk_model() -> nn.Module:\n",
    "    nb_in_chans = len(meta_data[\"feature_cols\"])\n",
    "    return (\n",
    "        CMIHARModule(\n",
    "            in_channels=nb_in_chans,\n",
    "            depth=2,\n",
    "            mlp_width=256,\n",
    "            n_class=18,\n",
    "            # stem_kernels_sizes=[11, 21, 31],\n",
    "            additive_attention_heads=32,\n",
    "            resnet_dropout_ratio=0.45\n",
    "        )\n",
    "        .to(device)\n",
    "    )\n",
    "\n",
    "display(mk_model())\n",
    "print(\"input channels:\", len(meta_data[\"feature_cols\"]))"
   ]
  },
  {
   "cell_type": "markdown",
   "id": "8afc6e79",
   "metadata": {},
   "source": [
    "## Training loop"
   ]
  },
  {
   "cell_type": "code",
   "execution_count": 17,
   "id": "a69ec966",
   "metadata": {},
   "outputs": [],
   "source": [
    "def fit(epochs:int,\n",
    "        model: nn.Module,\n",
    "        scheduler: LRScheduler,\n",
    "        optimizer: torch.optim.Optimizer,\n",
    "        train_loader: DL,\n",
    "        criterion: callable=nn.L1Loss(),\n",
    "        evaluation_func: callable=None,\n",
    "        validation_loader: DL=None,\n",
    "        save_checkpoints=True,\n",
    "    ) -> tuple[DF, str]:\n",
    "    \"\"\"\n",
    "    Returns:\n",
    "        (training_metrics, path_to_checkpoints)\n",
    "    \"\"\"\n",
    "    # Setup\n",
    "    metrics: list[dict] = []\n",
    "    step = 0\n",
    "    model_device = next(model.parameters()).device\n",
    "    last_epoch_metric = {}\n",
    "    # Training loop\n",
    "    with Progress() as progress:\n",
    "        task: Task = progress.add_task(\n",
    "            \"training...\",\n",
    "            total=len(train_loader),\n",
    "        )\n",
    "        for epoch in range(epochs):\n",
    "            progress.update(\n",
    "                task,\n",
    "                description=f\"epoch: {epoch}\",\n",
    "                completed=0,\n",
    "            )\n",
    "            total_epoch_loss = 0\n",
    "            total_accuracy = 0\n",
    "            for batch_idx, (x, y) in enumerate(train_loader):\n",
    "                # forward\n",
    "                x = x.to(model_device)\n",
    "                y = y.to(model_device)\n",
    "                model.train()\n",
    "                optimizer.zero_grad()\n",
    "                y_pred: Tensor = model(x)\n",
    "                loss_value = criterion(y_pred, y)\n",
    "                # Verify loss value\n",
    "                if torch.isnan(loss_value).any().item():\n",
    "                    progress.print(\"Warning: Got NaN loss, stopped training.\")\n",
    "                    return DF.from_records(metrics)\n",
    "                if torch.isinf(loss_value).any().item():\n",
    "                    progress.print(\"Warning: Got infinite loss, stopped training.\")\n",
    "                    return DF.from_records(metrics)\n",
    "                # TODO: Use gradient clipping?\n",
    "                loss_value.backward()\n",
    "                optimizer.step()\n",
    "                if step > 0: # If it's not the first training step, idk why it throws an error otherwise\n",
    "                    scheduler.step()\n",
    "                # metrics\n",
    "                total_epoch_loss += loss_value.item()\n",
    "                metrics.append({\n",
    "                    \"step\": step,\n",
    "                    \"epoch\": epoch,\n",
    "                    \"batch_train_loss\": loss_value.item(),\n",
    "                    \"lr\": optimizer.state_dict()[\"param_groups\"][-1][\"lr\"],\n",
    "                })\n",
    "                step += 1\n",
    "                if \"validation_accuracy\" in last_epoch_metric:\n",
    "                    last_validation_acc = \"%.2f\" % last_epoch_metric[\"validation_accuracy\"]\n",
    "                    val_acc_str = \"val. acc: \" + last_validation_acc\n",
    "                else:\n",
    "                    val_acc_str = \"\"\n",
    "                progress.update(\n",
    "                    task,\n",
    "                    advance=1,\n",
    "                    description=f\"epoch: {epoch}, batch_loss: {(total_epoch_loss / (batch_idx+1)):.2f}, {val_acc_str}\"\n",
    "                )\n",
    "            # Post epoch evalution\n",
    "            metrics[-1][\"train_epoch_loss\"] = total_epoch_loss / len(train_loader)\n",
    "            metrics[-1][\"train_epoch_accuracy\"] = total_accuracy / len(train_loader)\n",
    "            if evaluation_func:\n",
    "                progress.update(\n",
    "                    task,\n",
    "                    completed=0,\n",
    "                    description=f\"epoch: {epoch}, evaluating...\"\n",
    "                )\n",
    "                eval_metrics = evaluation_func(model, criterion, validation_loader)\n",
    "                metrics[-1].update(eval_metrics)\n",
    "            last_epoch_metric = metrics[-1]\n",
    "\n",
    "    return DF.from_records(metrics)"
   ]
  },
  {
   "cell_type": "markdown",
   "id": "5a490227",
   "metadata": {},
   "source": [
    "### Create model and train model"
   ]
  },
  {
   "cell_type": "code",
   "execution_count": 18,
   "id": "34cd5bba",
   "metadata": {},
   "outputs": [],
   "source": [
    "def mk_model_and_fit(\n",
    "        train_loader:DL,\n",
    "        mk_scheduler:callable,\n",
    "        epochs:int,\n",
    "        validation_loader:Optional[DL]=None,\n",
    "        save_checkpoints=False,\n",
    "        criterion=nn.CrossEntropyLoss()\n",
    "    ) -> tuple[nn.Module, DF, list[str]]:\n",
    "    model = mk_model()\n",
    "    optimizer = torch.optim.AdamW(model.parameters(), STARTING_LR)\n",
    "    lr_scheduler = mk_scheduler(optimizer)\n",
    "    training_metrics = fit(\n",
    "        epochs=epochs,\n",
    "        model=model,\n",
    "        scheduler=lr_scheduler,\n",
    "        optimizer=optimizer,\n",
    "        train_loader=train_loader,\n",
    "        criterion=criterion,\n",
    "        # evaluation_func=evaluate_model if validation_loader else None,\n",
    "        validation_loader=validation_loader,\n",
    "        save_checkpoints=save_checkpoints,\n",
    "    )\n",
    "\n",
    "    return model, training_metrics"
   ]
  },
  {
   "cell_type": "markdown",
   "id": "9256152c",
   "metadata": {},
   "source": [
    "## Search max learning rate"
   ]
  },
  {
   "cell_type": "code",
   "execution_count": 19,
   "id": "40b0c8ef",
   "metadata": {},
   "outputs": [],
   "source": [
    "def post_process_mock_training_metrics(training_metrics:DF) -> DF:\n",
    "    training_metrics = (\n",
    "        training_metrics\n",
    "        .query(\"batch_train_loss.notna()\")\n",
    "        .set_index(\"lr\", drop=False)\n",
    "        .sort_index()\n",
    "    )\n",
    "    training_metrics[\"ewm_batch_train_loss\"] = (\n",
    "        training_metrics\n",
    "        .ewm(com=30, ignore_na=False)\n",
    "        [\"batch_train_loss\"]\n",
    "        .mean()\n",
    "    )\n",
    "    training_metrics[\"ewm_batch_train_loss_diff\"] = training_metrics[\"ewm_batch_train_loss\"].diff()\n",
    "    return training_metrics"
   ]
  },
  {
   "cell_type": "code",
   "execution_count": 20,
   "id": "7c231028",
   "metadata": {},
   "outputs": [],
   "source": [
    "def plt_lr_search_training_metrics(training_metrics:DF):\n",
    "    (    \n",
    "        px.line(\n",
    "            (\n",
    "                training_metrics\n",
    "                .reset_index(drop=True)\n",
    "                .melt(\n",
    "                    id_vars=\"lr\",\n",
    "                    value_vars=[\n",
    "                        \"batch_train_loss\",\n",
    "                        \"ewm_batch_train_loss\",\n",
    "                        # \"ewm_batch_train_loss_diff\",\n",
    "                    ],\n",
    "                )\n",
    "            ),\n",
    "            x=\"lr\",\n",
    "            facet_row=\"variable\",\n",
    "            y=\"value\",\n",
    "            log_x=True,\n",
    "            log_y=True,\n",
    "            height=750,\n",
    "        )\n",
    "        .update_yaxes(matches=None)\n",
    "        .show()\n",
    "    )"
   ]
  },
  {
   "cell_type": "code",
   "execution_count": 46,
   "id": "e9ae0c04",
   "metadata": {},
   "outputs": [
    {
     "data": {
      "application/vnd.jupyter.widget-view+json": {
       "model_id": "993c43bfb19e417fb86246aad4daedbd",
       "version_major": 2,
       "version_minor": 0
      },
      "text/plain": [
       "Output()"
      ]
     },
     "metadata": {},
     "output_type": "display_data"
    },
    {
     "data": {
      "text/html": [
       "<pre style=\"white-space:pre;overflow-x:auto;line-height:normal;font-family:Menlo,'DejaVu Sans Mono',consolas,'Courier New',monospace\"></pre>\n"
      ],
      "text/plain": []
     },
     "metadata": {},
     "output_type": "display_data"
    },
    {
     "data": {
      "application/vnd.plotly.v1+json": {
       "config": {
        "plotlyServerURL": "https://plot.ly"
       },
       "data": [
        {
         "hovertemplate": "variable=batch_train_loss<br>lr=%{x}<br>value=%{y}<extra></extra>",
         "legendgroup": "",
         "line": {
          "color": "#636efa",
          "dash": "solid"
         },
         "marker": {
          "symbol": "circle"
         },
         "mode": "lines",
         "name": "",
         "orientation": "v",
         "showlegend": false,
         "type": "scatter",
         "x": {
          "bdata": "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",
          "dtype": "f8"
         },
         "xaxis": "x2",
         "y": {
          "bdata": "AAAAgGkxB0AAAADAch0HQAAAAECG9AZAAAAAAATaBkAAAAAAbdQGQAAAAMCxnwZAAAAA4KidBkAAAADgPm8GQAAAAGCGcQZAAAAAgGBPBkAAAABgxiAGQAAAAMDA8QVAAAAAoH7CBUAAAACAbNcFQAAAAMDjrQVAAAAAAEJfBUAAAABAZk8FQAAAAEB5zARAAAAAYKm3BEAAAACAVo8EQAAAAOCiFQRAAAAAABfSA0AAAAAACp4DQAAAAID4cwNAAAAAQKyfAkAAAABAEnMCQAAAAICongJAAAAAAHLIAUAAAADA+/oBQAAAAIBr1QFAAAAAQKXiAEAAAABAY8EAQAAAAAB3hP4/AAAA4NFP/z8AAADgT5//PwAAAEAut/4/AAAAgFj5/z8AAADA4Q7+PwAAAEDQ9fw/AAAA4Ero/D8AAABA24r9PwAAAEBHvvw/AAAA4KNy/D8AAADgmAf8PwAAACBfGvo/AAAAQIy6/D8AAADAUEX5PwAAAAAk8vk/AAAAgLhv9z8AAADAE3H5PwAAAMBxT/k/AAAAgAm3+j8AAADAS5z4PwAAAADkDfg/AAAAoO2n9z8AAABAm/X3PwAAAICnZvk/AAAAQBye9z8AAABgOov3PwAAACAg4fY/AAAAAM6K+T8AAAAgPtz2PwAAAEDcq/Y/AAAAYJ+s9j8AAABAVDr2PwAAAID3C/Y/AAAAgKMi9z8AAABA3Tj1PwAAAIBiDvM/AAAAgDYQ9T8AAADAPLj0PwAAAMDM8fI/AAAAYAWt9T8AAACA9g31PwAAAIAhOPU/AAAAwF0E9D8AAABgb8P0PwAAAMAmIPM/AAAAgL3+9D8AAADA+KPzPwAAAMAVqfM/AAAA4Pti8j8AAACAiIr0PwAAAGAj+/I/AAAAwIhI8z8AAADgMJHzPwAAAECNDvI/AAAAAPZh9T8AAAAAOsnxPwAAAKCz2fM/AAAAoAVN8z8AAAAApx70PwAAAMDZtfA/AAAAQFni8j8AAACAVvH0PwAAAMBjM/I/AAAAgJeW8D8AAADAeh/yPwAAAMC36fI/AAAAQLVd8D8AAABA+KDxPwAAAIC6FPE/AAAAYEYB8D8AAACgf7bwPwAAAAA0L/I/AAAAADGt8D8AAADgKz3wPwAAAEATj/E/AAAAoP5m8D8AAAAAkjvwPwAAAEDpV/A/AAAAAINH7j8AAAAAO+HyPwAAAAAE6vE/AAAAAKHQ8D8AAACAGZ7wPwAAAIBrufA/AAAAYHdI9D8AAAAA/lLuPwAAAOAlAPE/AAAAoCuF8D8AAADAV6/xPwAAAEAgpPE/AAAAwJ1B8D8AAACgVILwPwAAAAD7avA/AAAAgLyc8T8AAADA9g7wPwAAAADACvA/AAAAgHrn7T8AAACAsN7rPwAAAADK3O4/AAAAwAn+7D8AAABgo2LvPwAAAABYEu4/AAAAIBeZ7j8AAACAtFfrPwAAAABNyes/AAAAoMMf8D8AAACAfu/uPwAAACC5YO0/AAAAQEBm6j8AAADgKuvwPwAAAEDUDuw/AAAAgJlW8j8AAADAAi/rPwAAAECyKPA/AAAAADC77T8AAACAVNPqPwAAAADzwes/AAAAAPj47z8AAACAblDtPwAAAAANUPE/AAAAgNLu7T8AAADAx1TxPwAAAIAoCfE/AAAAwKXk7j8AAACACCvuPwAAACB/gvA/AAAAYOLA9D8AAABACgHqPwAAAIAaZuk/AAAAgCK37D8AAADgNrnxPwAAAGD/zPA/AAAAgCdS7j8AAAAAsqzrPwAAAMDx/es/AAAAQBEc7T8AAACAMNzuPwAAAIAwvOs/AAAAABQW6j8AAABgbW3uPwAAAMBEg+s/AAAAwAk66z8AAABAM+rrPwAAAEBMveg/AAAAALMu8D8AAAAAZk7uPwAAAIDTlOo/AAAAQKsu6j8AAAAgcsjuPwAAAECH4ew/AAAAwAh86z8AAABgELLsPwAAAADSX+4/AAAAQMaG6z8AAACAe/jvPwAAAMCv2O8/AAAAIJOM8T8AAAAg6L/wPwAAACDL9u8/AAAAAFjp8D8AAACASmLrPwAAAACiMuw/AAAAgFI57D8AAACA7UTvPwAAAOCAnu0/AAAAgFJH6T8AAAAglv7pPwAAAEA/A/A/AAAAIK1e7z8AAADAaLDtPwAAAMAxwus/AAAAgFjb7T8AAADgce3oPwAAAKAfHO8/AAAAwE0A7z8AAABA6LLsPwAAAGDniOw/AAAAwJcS6T8AAADAM8zrPwAAAEBPk+w/AAAAYEzz7T8AAABArYvvPwAAAGBqbO8/AAAAAKrT6j8AAACAU5/tPwAAAMCBrug/AAAAQPm96T8AAAAApsHqPwAAACB0r+w/AAAA4F3B6j8AAAAg+cnrPwAAAMA7kec/AAAAYKMD6j8AAACAuvbqPwAAAGCaB+Y/AAAAQJ6L5z8AAACgTGPnPwAAAADC/+g/AAAAgBnJ5j8AAADg9ErmPwAAAADBfek/AAAAYBW46D8AAABApZboPwAAAAC+3uk/AAAAYDYY6z8AAABAdevtPwAAAICFoOk/AAAAAGHt5T8AAABAGZvqPwAAAMCw+Oo/AAAAAKis6z8AAADgb/zvPwAAAEAvKe0/AAAAgM5i8D8AAADASrPqPwAAAIBTcek/AAAAoKbA7D8AAADA5izvPwAAAGAEUvA/AAAAYDLk6z8AAADAUwbtPwAAAMAkme8/AAAAoCTz6z8AAABg2onpPwAAAEAl5ec/AAAAoP+A6T8AAADgh2/mPwAAAGAK3eo/AAAAAKFA6T8AAABgJWzsPwAAAADNcOs/AAAAgL9n8D8AAADAaNHqPwAAAEBZA+g/AAAAQI907z8AAADAyVfrPwAAAICGbes/AAAAwL2L6j8AAABg4ojqPwAAAADcNe4/AAAAgExz7j8AAADATqTqPwAAACBcSe4/AAAAYDis7D8AAACAhMLuPwAAAEC75OY/AAAAwCJT6z8AAAAA+FDqPwAAAMCTFew/AAAAgCo/7D8AAACAZbfoPwAAAGAnOes/AAAAAFFA6j8AAABgkm/uPwAAAACFh+w/AAAAwFW56j8AAAAAQGzpPwAAAGDTnuY/AAAAgDNI6T8AAADAtqzqPwAAACDhiOc/AAAAgHQi6D8AAABAOHbqPwAAAEDUYuU/AAAAgH/h6j8AAACA4DvqPwAAAMACpOY/AAAAgG9D6z8AAAAA+tnnPwAAAECfGuY/AAAAQPKZ6j8AAABAK5rsPwAAAGA70+o/AAAAwBs/6z8AAAAguePwPwAAACAive0/AAAAwBJC7T8AAADAB9TsPwAAAACs0us/AAAAAIeN7T8AAADgrCnrPwAAAECA6O0/AAAAgBFx8D8AAACg0xPwPwAAAABPgu0/AAAAINru7T8AAABgniHuPwAAAMBqn+s/AAAAgI355z8AAADgYLnlPwAAAEBSBuc/AAAAgGuj8D8AAADARDvrPwAAACAWC+g/AAAAoAzS6z8AAABgCcjtPwAAAKDhsvA/AAAAALVi7j8AAABAGaLsPwAAACCfX+w/AAAAIJsR7z8AAACgzHrvPwAAAIDymvA/AAAAwPRU7j8AAAAAn1ztPwAAAEDZwus/AAAAIPK+7j8AAABAV7DwPwAAAMCCP/A/AAAAwItI7z8AAACAXrDxPwAAAIDdJO4/AAAAgNsH8T8AAACgx3TtPwAAAABuIPA/AAAAAG8H6T8AAACAzQHwPwAAAIB57O8/AAAAgBhI7j8AAACgCYbqPwAAAECqIuw/AAAAQPDz6z8AAAAgABbuPwAAAAD0/Oo/AAAAwDwR6j8AAADAIVXpPwAAAEDfQfE/AAAAwIbn6j8AAADA2Kv0PwAAAGDRo+w/AAAAoES88D8AAACAn4DxPwAAAGDuiPI/AAAAQNkK7z8AAADg99TyPwAAAEDjwO8/AAAA4EBp7j8AAABAQvrtPwAAAMBKEO8/AAAAoJLs7D8AAABAW1HvPwAAAIATYPA/AAAAAACH8T8AAABAZAbtPwAAAECkjvI/AAAAQGd57D8AAAAgYrLvPwAAAIDBU/E/AAAAIPRz7D8AAACA/hPqPwAAAOCtb/I/AAAAwB2a7D8AAAAABQHxPwAAAICGbOk/AAAAoN6s8D8AAAAA8I/vPwAAAAAh1O8/AAAAQHcp6z8AAAAg+f3xPwAAAICeCO4/AAAAwLBp7T8AAACAx9DuPwAAACBAm/E/AAAAwMam8D8AAAAgdm7wPwAAAKC38e0/AAAAYMPb8D8AAACAPFTvPwAAAECxufM/AAAAgCHW7T8AAABg+pvwPwAAAMBROPI/AAAAIPkw8j8AAABAO8/yPwAAAKBwUfM/AAAA4H348j8AAABgM0TxPwAAAAB3UvE/AAAAIEIl8D8AAACAkLHvPwAAAGAvU+8/AAAAQExg7j8AAACg09juPwAAAAAhRO8/AAAAAGtf7T8AAAAAWK7uPwAAAIAryPA/AAAAgOSn7D8AAACAYLjwPwAAAEAnFO8/AAAAoFiy8D8AAAAg29PuPwAAAACKw/I/AAAAYMNP8z8AAABgSonxPwAAAICVle0/AAAAIPtr8j8AAAAg80bwPwAAAMDSJPM/AAAAwHCF8j8AAACgwKfyPwAAAGCCrvM/AAAAIBs+8D8AAADALkHyPwAAAABCaPM/AAAAQN1+8z8AAABAhQ7xPwAAAMC8t/E/AAAAwGP28T8AAADAqEPyPwAAAMCkTvM/AAAAgN3B8T8AAAAAWhLxPwAAAIBjZvQ/AAAAoHAv9D8AAAAg42fyPwAAAEBKEvc/AAAAwLCE9D8AAACAVhn7PwAAAMBrgPs/AAAAgHdkAEAAAADA1uf6PwAAAABsrvc/AAAAgNNg9D8AAACgdiX6PwAAAGDXwfU/AAAAABZy9D8AAADg3w/6PwAAAEA5o/g/AAAAQO8G+D8AAAAAdjHzPwAAAIA6T/Y/AAAAAEqJ9j8AAABAhFj2PwAAAMC2L/Y/AAAAILn99D8AAABAq0H9PwAAAMDd2AJAAAAAIA0X/j8AAABgJir7PwAAAAASLQNAAAAAwEc3A0AAAADA85MEQAAAAEBqtiFAAAAAgNknGEAAAACgAEsaQAAAACBQURVA",
          "dtype": "f8"
         },
         "yaxis": "y2"
        },
        {
         "hovertemplate": "variable=ewm_batch_train_loss<br>lr=%{x}<br>value=%{y}<extra></extra>",
         "legendgroup": "",
         "line": {
          "color": "#636efa",
          "dash": "solid"
         },
         "marker": {
          "symbol": "circle"
         },
         "mode": "lines",
         "name": "",
         "orientation": "v",
         "showlegend": false,
         "type": "scatter",
         "x": {
          "bdata": "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",
          "dtype": "f8"
         },
         "xaxis": "x",
         "y": {
          "bdata": "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",
          "dtype": "f8"
         },
         "yaxis": "y"
        }
       ],
       "layout": {
        "annotations": [
         {
          "font": {},
          "showarrow": false,
          "text": "variable=ewm_batch_train_loss",
          "textangle": 90,
          "x": 0.98,
          "xanchor": "left",
          "xref": "paper",
          "y": 0.2425,
          "yanchor": "middle",
          "yref": "paper"
         },
         {
          "font": {},
          "showarrow": false,
          "text": "variable=batch_train_loss",
          "textangle": 90,
          "x": 0.98,
          "xanchor": "left",
          "xref": "paper",
          "y": 0.7575000000000001,
          "yanchor": "middle",
          "yref": "paper"
         }
        ],
        "height": 750,
        "legend": {
         "tracegroupgap": 0
        },
        "margin": {
         "t": 60
        },
        "template": {
         "data": {
          "bar": [
           {
            "error_x": {
             "color": "#2a3f5f"
            },
            "error_y": {
             "color": "#2a3f5f"
            },
            "marker": {
             "line": {
              "color": "#E5ECF6",
              "width": 0.5
             },
             "pattern": {
              "fillmode": "overlay",
              "size": 10,
              "solidity": 0.2
             }
            },
            "type": "bar"
           }
          ],
          "barpolar": [
           {
            "marker": {
             "line": {
              "color": "#E5ECF6",
              "width": 0.5
             },
             "pattern": {
              "fillmode": "overlay",
              "size": 10,
              "solidity": 0.2
             }
            },
            "type": "barpolar"
           }
          ],
          "carpet": [
           {
            "aaxis": {
             "endlinecolor": "#2a3f5f",
             "gridcolor": "white",
             "linecolor": "white",
             "minorgridcolor": "white",
             "startlinecolor": "#2a3f5f"
            },
            "baxis": {
             "endlinecolor": "#2a3f5f",
             "gridcolor": "white",
             "linecolor": "white",
             "minorgridcolor": "white",
             "startlinecolor": "#2a3f5f"
            },
            "type": "carpet"
           }
          ],
          "choropleth": [
           {
            "colorbar": {
             "outlinewidth": 0,
             "ticks": ""
            },
            "type": "choropleth"
           }
          ],
          "contour": [
           {
            "colorbar": {
             "outlinewidth": 0,
             "ticks": ""
            },
            "colorscale": [
             [
              0,
              "#0d0887"
             ],
             [
              0.1111111111111111,
              "#46039f"
             ],
             [
              0.2222222222222222,
              "#7201a8"
             ],
             [
              0.3333333333333333,
              "#9c179e"
             ],
             [
              0.4444444444444444,
              "#bd3786"
             ],
             [
              0.5555555555555556,
              "#d8576b"
             ],
             [
              0.6666666666666666,
              "#ed7953"
             ],
             [
              0.7777777777777778,
              "#fb9f3a"
             ],
             [
              0.8888888888888888,
              "#fdca26"
             ],
             [
              1,
              "#f0f921"
             ]
            ],
            "type": "contour"
           }
          ],
          "contourcarpet": [
           {
            "colorbar": {
             "outlinewidth": 0,
             "ticks": ""
            },
            "type": "contourcarpet"
           }
          ],
          "heatmap": [
           {
            "colorbar": {
             "outlinewidth": 0,
             "ticks": ""
            },
            "colorscale": [
             [
              0,
              "#0d0887"
             ],
             [
              0.1111111111111111,
              "#46039f"
             ],
             [
              0.2222222222222222,
              "#7201a8"
             ],
             [
              0.3333333333333333,
              "#9c179e"
             ],
             [
              0.4444444444444444,
              "#bd3786"
             ],
             [
              0.5555555555555556,
              "#d8576b"
             ],
             [
              0.6666666666666666,
              "#ed7953"
             ],
             [
              0.7777777777777778,
              "#fb9f3a"
             ],
             [
              0.8888888888888888,
              "#fdca26"
             ],
             [
              1,
              "#f0f921"
             ]
            ],
            "type": "heatmap"
           }
          ],
          "histogram": [
           {
            "marker": {
             "pattern": {
              "fillmode": "overlay",
              "size": 10,
              "solidity": 0.2
             }
            },
            "type": "histogram"
           }
          ],
          "histogram2d": [
           {
            "colorbar": {
             "outlinewidth": 0,
             "ticks": ""
            },
            "colorscale": [
             [
              0,
              "#0d0887"
             ],
             [
              0.1111111111111111,
              "#46039f"
             ],
             [
              0.2222222222222222,
              "#7201a8"
             ],
             [
              0.3333333333333333,
              "#9c179e"
             ],
             [
              0.4444444444444444,
              "#bd3786"
             ],
             [
              0.5555555555555556,
              "#d8576b"
             ],
             [
              0.6666666666666666,
              "#ed7953"
             ],
             [
              0.7777777777777778,
              "#fb9f3a"
             ],
             [
              0.8888888888888888,
              "#fdca26"
             ],
             [
              1,
              "#f0f921"
             ]
            ],
            "type": "histogram2d"
           }
          ],
          "histogram2dcontour": [
           {
            "colorbar": {
             "outlinewidth": 0,
             "ticks": ""
            },
            "colorscale": [
             [
              0,
              "#0d0887"
             ],
             [
              0.1111111111111111,
              "#46039f"
             ],
             [
              0.2222222222222222,
              "#7201a8"
             ],
             [
              0.3333333333333333,
              "#9c179e"
             ],
             [
              0.4444444444444444,
              "#bd3786"
             ],
             [
              0.5555555555555556,
              "#d8576b"
             ],
             [
              0.6666666666666666,
              "#ed7953"
             ],
             [
              0.7777777777777778,
              "#fb9f3a"
             ],
             [
              0.8888888888888888,
              "#fdca26"
             ],
             [
              1,
              "#f0f921"
             ]
            ],
            "type": "histogram2dcontour"
           }
          ],
          "mesh3d": [
           {
            "colorbar": {
             "outlinewidth": 0,
             "ticks": ""
            },
            "type": "mesh3d"
           }
          ],
          "parcoords": [
           {
            "line": {
             "colorbar": {
              "outlinewidth": 0,
              "ticks": ""
             }
            },
            "type": "parcoords"
           }
          ],
          "pie": [
           {
            "automargin": true,
            "type": "pie"
           }
          ],
          "scatter": [
           {
            "fillpattern": {
             "fillmode": "overlay",
             "size": 10,
             "solidity": 0.2
            },
            "type": "scatter"
           }
          ],
          "scatter3d": [
           {
            "line": {
             "colorbar": {
              "outlinewidth": 0,
              "ticks": ""
             }
            },
            "marker": {
             "colorbar": {
              "outlinewidth": 0,
              "ticks": ""
             }
            },
            "type": "scatter3d"
           }
          ],
          "scattercarpet": [
           {
            "marker": {
             "colorbar": {
              "outlinewidth": 0,
              "ticks": ""
             }
            },
            "type": "scattercarpet"
           }
          ],
          "scattergeo": [
           {
            "marker": {
             "colorbar": {
              "outlinewidth": 0,
              "ticks": ""
             }
            },
            "type": "scattergeo"
           }
          ],
          "scattergl": [
           {
            "marker": {
             "colorbar": {
              "outlinewidth": 0,
              "ticks": ""
             }
            },
            "type": "scattergl"
           }
          ],
          "scattermap": [
           {
            "marker": {
             "colorbar": {
              "outlinewidth": 0,
              "ticks": ""
             }
            },
            "type": "scattermap"
           }
          ],
          "scattermapbox": [
           {
            "marker": {
             "colorbar": {
              "outlinewidth": 0,
              "ticks": ""
             }
            },
            "type": "scattermapbox"
           }
          ],
          "scatterpolar": [
           {
            "marker": {
             "colorbar": {
              "outlinewidth": 0,
              "ticks": ""
             }
            },
            "type": "scatterpolar"
           }
          ],
          "scatterpolargl": [
           {
            "marker": {
             "colorbar": {
              "outlinewidth": 0,
              "ticks": ""
             }
            },
            "type": "scatterpolargl"
           }
          ],
          "scatterternary": [
           {
            "marker": {
             "colorbar": {
              "outlinewidth": 0,
              "ticks": ""
             }
            },
            "type": "scatterternary"
           }
          ],
          "surface": [
           {
            "colorbar": {
             "outlinewidth": 0,
             "ticks": ""
            },
            "colorscale": [
             [
              0,
              "#0d0887"
             ],
             [
              0.1111111111111111,
              "#46039f"
             ],
             [
              0.2222222222222222,
              "#7201a8"
             ],
             [
              0.3333333333333333,
              "#9c179e"
             ],
             [
              0.4444444444444444,
              "#bd3786"
             ],
             [
              0.5555555555555556,
              "#d8576b"
             ],
             [
              0.6666666666666666,
              "#ed7953"
             ],
             [
              0.7777777777777778,
              "#fb9f3a"
             ],
             [
              0.8888888888888888,
              "#fdca26"
             ],
             [
              1,
              "#f0f921"
             ]
            ],
            "type": "surface"
           }
          ],
          "table": [
           {
            "cells": {
             "fill": {
              "color": "#EBF0F8"
             },
             "line": {
              "color": "white"
             }
            },
            "header": {
             "fill": {
              "color": "#C8D4E3"
             },
             "line": {
              "color": "white"
             }
            },
            "type": "table"
           }
          ]
         },
         "layout": {
          "annotationdefaults": {
           "arrowcolor": "#2a3f5f",
           "arrowhead": 0,
           "arrowwidth": 1
          },
          "autotypenumbers": "strict",
          "coloraxis": {
           "colorbar": {
            "outlinewidth": 0,
            "ticks": ""
           }
          },
          "colorscale": {
           "diverging": [
            [
             0,
             "#8e0152"
            ],
            [
             0.1,
             "#c51b7d"
            ],
            [
             0.2,
             "#de77ae"
            ],
            [
             0.3,
             "#f1b6da"
            ],
            [
             0.4,
             "#fde0ef"
            ],
            [
             0.5,
             "#f7f7f7"
            ],
            [
             0.6,
             "#e6f5d0"
            ],
            [
             0.7,
             "#b8e186"
            ],
            [
             0.8,
             "#7fbc41"
            ],
            [
             0.9,
             "#4d9221"
            ],
            [
             1,
             "#276419"
            ]
           ],
           "sequential": [
            [
             0,
             "#0d0887"
            ],
            [
             0.1111111111111111,
             "#46039f"
            ],
            [
             0.2222222222222222,
             "#7201a8"
            ],
            [
             0.3333333333333333,
             "#9c179e"
            ],
            [
             0.4444444444444444,
             "#bd3786"
            ],
            [
             0.5555555555555556,
             "#d8576b"
            ],
            [
             0.6666666666666666,
             "#ed7953"
            ],
            [
             0.7777777777777778,
             "#fb9f3a"
            ],
            [
             0.8888888888888888,
             "#fdca26"
            ],
            [
             1,
             "#f0f921"
            ]
           ],
           "sequentialminus": [
            [
             0,
             "#0d0887"
            ],
            [
             0.1111111111111111,
             "#46039f"
            ],
            [
             0.2222222222222222,
             "#7201a8"
            ],
            [
             0.3333333333333333,
             "#9c179e"
            ],
            [
             0.4444444444444444,
             "#bd3786"
            ],
            [
             0.5555555555555556,
             "#d8576b"
            ],
            [
             0.6666666666666666,
             "#ed7953"
            ],
            [
             0.7777777777777778,
             "#fb9f3a"
            ],
            [
             0.8888888888888888,
             "#fdca26"
            ],
            [
             1,
             "#f0f921"
            ]
           ]
          },
          "colorway": [
           "#636efa",
           "#EF553B",
           "#00cc96",
           "#ab63fa",
           "#FFA15A",
           "#19d3f3",
           "#FF6692",
           "#B6E880",
           "#FF97FF",
           "#FECB52"
          ],
          "font": {
           "color": "#2a3f5f"
          },
          "geo": {
           "bgcolor": "white",
           "lakecolor": "white",
           "landcolor": "#E5ECF6",
           "showlakes": true,
           "showland": true,
           "subunitcolor": "white"
          },
          "hoverlabel": {
           "align": "left"
          },
          "hovermode": "closest",
          "mapbox": {
           "style": "light"
          },
          "paper_bgcolor": "white",
          "plot_bgcolor": "#E5ECF6",
          "polar": {
           "angularaxis": {
            "gridcolor": "white",
            "linecolor": "white",
            "ticks": ""
           },
           "bgcolor": "#E5ECF6",
           "radialaxis": {
            "gridcolor": "white",
            "linecolor": "white",
            "ticks": ""
           }
          },
          "scene": {
           "xaxis": {
            "backgroundcolor": "#E5ECF6",
            "gridcolor": "white",
            "gridwidth": 2,
            "linecolor": "white",
            "showbackground": true,
            "ticks": "",
            "zerolinecolor": "white"
           },
           "yaxis": {
            "backgroundcolor": "#E5ECF6",
            "gridcolor": "white",
            "gridwidth": 2,
            "linecolor": "white",
            "showbackground": true,
            "ticks": "",
            "zerolinecolor": "white"
           },
           "zaxis": {
            "backgroundcolor": "#E5ECF6",
            "gridcolor": "white",
            "gridwidth": 2,
            "linecolor": "white",
            "showbackground": true,
            "ticks": "",
            "zerolinecolor": "white"
           }
          },
          "shapedefaults": {
           "line": {
            "color": "#2a3f5f"
           }
          },
          "ternary": {
           "aaxis": {
            "gridcolor": "white",
            "linecolor": "white",
            "ticks": ""
           },
           "baxis": {
            "gridcolor": "white",
            "linecolor": "white",
            "ticks": ""
           },
           "bgcolor": "#E5ECF6",
           "caxis": {
            "gridcolor": "white",
            "linecolor": "white",
            "ticks": ""
           }
          },
          "title": {
           "x": 0.05
          },
          "xaxis": {
           "automargin": true,
           "gridcolor": "white",
           "linecolor": "white",
           "ticks": "",
           "title": {
            "standoff": 15
           },
           "zerolinecolor": "white",
           "zerolinewidth": 2
          },
          "yaxis": {
           "automargin": true,
           "gridcolor": "white",
           "linecolor": "white",
           "ticks": "",
           "title": {
            "standoff": 15
           },
           "zerolinecolor": "white",
           "zerolinewidth": 2
          }
         }
        },
        "xaxis": {
         "anchor": "y",
         "domain": [
          0,
          0.98
         ],
         "title": {
          "text": "lr"
         },
         "type": "log"
        },
        "xaxis2": {
         "anchor": "y2",
         "domain": [
          0,
          0.98
         ],
         "matches": "x",
         "showticklabels": false,
         "type": "log"
        },
        "yaxis": {
         "anchor": "x",
         "domain": [
          0,
          0.485
         ],
         "title": {
          "text": "value"
         },
         "type": "log"
        },
        "yaxis2": {
         "anchor": "x2",
         "domain": [
          0.515,
          1
         ],
         "title": {
          "text": "value"
         },
         "type": "log"
        }
       }
      }
     },
     "metadata": {},
     "output_type": "display_data"
    },
    {
     "name": "stdout",
     "output_type": "stream",
     "text": [
      "Maximum learning rate: 0.01009310721689455\n"
     ]
    }
   ],
   "source": [
    "train_dataset = CMIDataset(\"full_dataset\")\n",
    "full_dataset_loader = DL(train_dataset, TRAIN_BATCH_SIZE, shuffle=True)\n",
    "_, mock_training_metrics = mk_model_and_fit(\n",
    "    full_dataset_loader,\n",
    "    partial(torch.optim.lr_scheduler.ExponentialLR, gamma=MOCK_TRAINING_GAMMA),\n",
    "    MOCK_TRAINING_EPOCHS,\n",
    "    criterion= nn.CrossEntropyLoss(),\n",
    ")\n",
    "mock_training_metrics = post_process_mock_training_metrics(mock_training_metrics)\n",
    "plt_lr_search_training_metrics(mock_training_metrics)\n",
    "max_lr = mock_training_metrics[\"ewm_batch_train_loss\"].idxmin()\n",
    "print(\"Maximum learning rate:\", max_lr)"
   ]
  },
  {
   "cell_type": "markdown",
   "id": "e1cc3c5f",
   "metadata": {
    "papermill": {
     "duration": 0.003108,
     "end_time": "2025-06-14T10:01:56.186803",
     "exception": false,
     "start_time": "2025-06-14T10:01:56.183695",
     "status": "completed"
    },
    "tags": []
   },
   "source": [
    "## Training loop"
   ]
  },
  {
   "cell_type": "code",
   "execution_count": 38,
   "id": "81f397f4",
   "metadata": {},
   "outputs": [],
   "source": [
    "def mixup_data(x, y, alpha=0.2):\n",
    "    \"\"\"\n",
    "    Return mixed inputs and mixed targets (one-hot) for mixup.\n",
    "    x: Tensor of shape (batch_size, features, seq_len)\n",
    "    y: Tensor of shape (batch_size, num_classes)\n",
    "    \"\"\"\n",
    "    if alpha > 0:\n",
    "        lam = np.random.beta(alpha, alpha)\n",
    "    else:\n",
    "        lam = 1.0\n",
    "    batch_size = x.size(0)\n",
    "    index = torch.randperm(batch_size).to(x.device)\n",
    "\n",
    "    mixed_x = lam * x + (1 - lam) * x[index, :]\n",
    "    mixed_y = lam * y + (1 - lam) * y[index, :]\n",
    "    return mixed_x, mixed_y"
   ]
  },
  {
   "cell_type": "code",
   "execution_count": 47,
   "id": "2be28a9c",
   "metadata": {
    "execution": {
     "iopub.execute_input": "2025-06-14T10:01:56.194003Z",
     "iopub.status.busy": "2025-06-14T10:01:56.193740Z",
     "iopub.status.idle": "2025-06-14T10:09:14.752385Z",
     "shell.execute_reply": "2025-06-14T10:09:14.751491Z"
    },
    "papermill": {
     "duration": 438.563878,
     "end_time": "2025-06-14T10:09:14.753712",
     "exception": false,
     "start_time": "2025-06-14T10:01:56.189834",
     "status": "completed"
    },
    "tags": []
   },
   "outputs": [
    {
     "name": "stdout",
     "output_type": "stream",
     "text": [
      "training: 1\n",
      "\n",
      "==================================================\n",
      "Fold 1/5\n",
      "Epoch 01: Train Loss = 2.6569, Val Loss = 2.3382\n",
      "  Binary F1 = 0.8378, Macro F1 = 0.2136, Final Metric = 0.5257\n",
      "  New best metric! Saving model...\n",
      "Epoch 02: Train Loss = 2.0919, Val Loss = 2.0393\n",
      "  Binary F1 = 0.9114, Macro F1 = 0.3615, Final Metric = 0.6365\n",
      "  New best metric! Saving model...\n",
      "Epoch 03: Train Loss = 1.8564, Val Loss = 1.8589\n",
      "  Binary F1 = 0.9179, Macro F1 = 0.4318, Final Metric = 0.6748\n",
      "  New best metric! Saving model...\n",
      "Epoch 04: Train Loss = 1.7153, Val Loss = 1.8654\n",
      "  Binary F1 = 0.9263, Macro F1 = 0.4603, Final Metric = 0.6933\n",
      "  New best metric! Saving model...\n",
      "Epoch 05: Train Loss = 1.8107, Val Loss = 1.9126\n",
      "  Binary F1 = 0.8122, Macro F1 = 0.3813, Final Metric = 0.5968\n",
      "Epoch 06: Train Loss = 1.6673, Val Loss = 1.6246\n",
      "  Binary F1 = 0.9609, Macro F1 = 0.5167, Final Metric = 0.7388\n",
      "  New best metric! Saving model...\n",
      "Epoch 07: Train Loss = 1.5486, Val Loss = 1.5916\n",
      "  Binary F1 = 0.9548, Macro F1 = 0.5275, Final Metric = 0.7412\n",
      "  New best metric! Saving model...\n",
      "Epoch 08: Train Loss = 1.4827, Val Loss = 1.6461\n",
      "  Binary F1 = 0.9452, Macro F1 = 0.5588, Final Metric = 0.7520\n",
      "  New best metric! Saving model...\n",
      "Epoch 09: Train Loss = 1.3508, Val Loss = 1.5281\n",
      "  Binary F1 = 0.9567, Macro F1 = 0.5651, Final Metric = 0.7609\n",
      "  New best metric! Saving model...\n",
      "Epoch 10: Train Loss = 1.2398, Val Loss = 1.5060\n",
      "  Binary F1 = 0.9567, Macro F1 = 0.5840, Final Metric = 0.7704\n",
      "  New best metric! Saving model...\n",
      "Epoch 11: Train Loss = 1.2915, Val Loss = 1.5908\n",
      "  Binary F1 = 0.9641, Macro F1 = 0.5469, Final Metric = 0.7555\n",
      "Epoch 12: Train Loss = 1.3843, Val Loss = 1.5653\n",
      "  Binary F1 = 0.9584, Macro F1 = 0.5434, Final Metric = 0.7509\n",
      "Epoch 13: Train Loss = 1.1230, Val Loss = 1.5594\n",
      "  Binary F1 = 0.9665, Macro F1 = 0.5699, Final Metric = 0.7682\n",
      "Epoch 14: Train Loss = 1.2589, Val Loss = 1.5191\n",
      "  Binary F1 = 0.9680, Macro F1 = 0.5802, Final Metric = 0.7741\n",
      "  New best metric! Saving model...\n",
      "Epoch 15: Train Loss = 1.2805, Val Loss = 1.5213\n",
      "  Binary F1 = 0.9669, Macro F1 = 0.5933, Final Metric = 0.7801\n",
      "  New best metric! Saving model...\n",
      "Epoch 16: Train Loss = 1.2505, Val Loss = 1.5028\n",
      "  Binary F1 = 0.9691, Macro F1 = 0.5943, Final Metric = 0.7817\n",
      "  New best metric! Saving model...\n",
      "Epoch 17: Train Loss = 1.0555, Val Loss = 1.5429\n",
      "  Binary F1 = 0.9666, Macro F1 = 0.5934, Final Metric = 0.7800\n",
      "Epoch 18: Train Loss = 1.2245, Val Loss = 1.5500\n",
      "  Binary F1 = 0.9666, Macro F1 = 0.5851, Final Metric = 0.7759\n",
      "Epoch 19: Train Loss = 1.1092, Val Loss = 1.5567\n",
      "  Binary F1 = 0.9681, Macro F1 = 0.5854, Final Metric = 0.7767\n",
      "Epoch 20: Train Loss = 1.1222, Val Loss = 1.5417\n",
      "  Binary F1 = 0.9691, Macro F1 = 0.5930, Final Metric = 0.7810\n",
      "Epoch 21: Train Loss = 1.3346, Val Loss = 1.5364\n",
      "  Binary F1 = 0.9691, Macro F1 = 0.5944, Final Metric = 0.7817\n",
      "  New best metric! Saving model...\n",
      "Epoch 22: Train Loss = 1.0280, Val Loss = 1.5480\n",
      "  Binary F1 = 0.9670, Macro F1 = 0.5950, Final Metric = 0.7810\n",
      "Epoch 23: Train Loss = 1.1409, Val Loss = 1.5411\n",
      "  Binary F1 = 0.9690, Macro F1 = 0.5978, Final Metric = 0.7834\n",
      "  New best metric! Saving model...\n",
      "Epoch 24: Train Loss = 1.1780, Val Loss = 1.5510\n",
      "  Binary F1 = 0.9681, Macro F1 = 0.5921, Final Metric = 0.7801\n",
      "Epoch 25: Train Loss = 1.1716, Val Loss = 1.5477\n",
      "  Binary F1 = 0.9681, Macro F1 = 0.5960, Final Metric = 0.7820\n",
      "\n",
      "Fold 1 completed.\n",
      "Final validation metrics - Binary F1: 0.9681, Macro F1: 0.5960, Final: 0.7820\n",
      "Best validation metrics - Binary F1: 0.9690, Macro F1: 0.5978, Final: 0.7834\n",
      "training: 2\n",
      "\n",
      "==================================================\n",
      "Fold 2/5\n",
      "Epoch 01: Train Loss = 2.6714, Val Loss = 2.2628\n",
      "  Binary F1 = 0.8814, Macro F1 = 0.2705, Final Metric = 0.5760\n",
      "  New best metric! Saving model...\n",
      "Epoch 02: Train Loss = 2.1469, Val Loss = 2.0562\n",
      "  Binary F1 = 0.8903, Macro F1 = 0.3742, Final Metric = 0.6322\n",
      "  New best metric! Saving model...\n",
      "Epoch 03: Train Loss = 1.8495, Val Loss = 1.8644\n",
      "  Binary F1 = 0.9151, Macro F1 = 0.4075, Final Metric = 0.6613\n",
      "  New best metric! Saving model...\n",
      "Epoch 04: Train Loss = 1.8535, Val Loss = 1.7194\n",
      "  Binary F1 = 0.9094, Macro F1 = 0.4653, Final Metric = 0.6873\n",
      "  New best metric! Saving model...\n",
      "Epoch 05: Train Loss = 1.7299, Val Loss = 1.6001\n",
      "  Binary F1 = 0.9358, Macro F1 = 0.5541, Final Metric = 0.7450\n",
      "  New best metric! Saving model...\n",
      "Epoch 06: Train Loss = 1.6877, Val Loss = 1.5898\n",
      "  Binary F1 = 0.9384, Macro F1 = 0.5482, Final Metric = 0.7433\n",
      "Epoch 07: Train Loss = 1.5727, Val Loss = 1.4785\n",
      "  Binary F1 = 0.9458, Macro F1 = 0.5941, Final Metric = 0.7700\n",
      "  New best metric! Saving model...\n",
      "Epoch 08: Train Loss = 1.4650, Val Loss = 1.3866\n",
      "  Binary F1 = 0.9475, Macro F1 = 0.6302, Final Metric = 0.7888\n",
      "  New best metric! Saving model...\n",
      "Epoch 09: Train Loss = 1.3081, Val Loss = 1.3404\n",
      "  Binary F1 = 0.9504, Macro F1 = 0.6407, Final Metric = 0.7955\n",
      "  New best metric! Saving model...\n",
      "Epoch 10: Train Loss = 1.3787, Val Loss = 1.3369\n",
      "  Binary F1 = 0.9504, Macro F1 = 0.6404, Final Metric = 0.7954\n",
      "Epoch 11: Train Loss = 1.5300, Val Loss = 1.3480\n",
      "  Binary F1 = 0.9577, Macro F1 = 0.6469, Final Metric = 0.8023\n",
      "  New best metric! Saving model...\n",
      "Epoch 12: Train Loss = 1.3007, Val Loss = 1.3280\n",
      "  Binary F1 = 0.9578, Macro F1 = 0.6559, Final Metric = 0.8068\n",
      "  New best metric! Saving model...\n",
      "Epoch 13: Train Loss = 1.3585, Val Loss = 1.3411\n",
      "  Binary F1 = 0.9615, Macro F1 = 0.6481, Final Metric = 0.8048\n",
      "Epoch 14: Train Loss = 1.3209, Val Loss = 1.3205\n",
      "  Binary F1 = 0.9582, Macro F1 = 0.6505, Final Metric = 0.8043\n",
      "Epoch 15: Train Loss = 1.2785, Val Loss = 1.3234\n",
      "  Binary F1 = 0.9574, Macro F1 = 0.6459, Final Metric = 0.8016\n",
      "Epoch 16: Train Loss = 1.1685, Val Loss = 1.3638\n",
      "  Binary F1 = 0.9557, Macro F1 = 0.6544, Final Metric = 0.8050\n",
      "Epoch 17: Train Loss = 1.2492, Val Loss = 1.3599\n",
      "  Binary F1 = 0.9553, Macro F1 = 0.6531, Final Metric = 0.8042\n",
      "Epoch 18: Train Loss = 1.4471, Val Loss = 1.3452\n",
      "  Binary F1 = 0.9541, Macro F1 = 0.6594, Final Metric = 0.8067\n",
      "Epoch 19: Train Loss = 1.2163, Val Loss = 1.3393\n",
      "  Binary F1 = 0.9556, Macro F1 = 0.6556, Final Metric = 0.8056\n",
      "Epoch 20: Train Loss = 1.1965, Val Loss = 1.3431\n",
      "  Binary F1 = 0.9570, Macro F1 = 0.6554, Final Metric = 0.8062\n",
      "Epoch 21: Train Loss = 1.3515, Val Loss = 1.3463\n",
      "  Binary F1 = 0.9556, Macro F1 = 0.6578, Final Metric = 0.8067\n",
      "Epoch 22: Train Loss = 1.1255, Val Loss = 1.3554\n",
      "  Binary F1 = 0.9552, Macro F1 = 0.6576, Final Metric = 0.8064\n",
      "Epoch 23: Train Loss = 1.2755, Val Loss = 1.3446\n",
      "  Binary F1 = 0.9551, Macro F1 = 0.6543, Final Metric = 0.8047\n",
      "Epoch 24: Train Loss = 1.1063, Val Loss = 1.3461\n",
      "  Binary F1 = 0.9567, Macro F1 = 0.6627, Final Metric = 0.8097\n",
      "  New best metric! Saving model...\n",
      "Epoch 25: Train Loss = 1.1507, Val Loss = 1.3477\n",
      "  Binary F1 = 0.9567, Macro F1 = 0.6557, Final Metric = 0.8062\n",
      "\n",
      "Fold 2 completed.\n",
      "Final validation metrics - Binary F1: 0.9567, Macro F1: 0.6557, Final: 0.8062\n",
      "Best validation metrics - Binary F1: 0.9567, Macro F1: 0.6627, Final: 0.8097\n",
      "training: 3\n",
      "\n",
      "==================================================\n",
      "Fold 3/5\n",
      "Epoch 01: Train Loss = 2.6973, Val Loss = 2.5078\n",
      "  Binary F1 = 0.7797, Macro F1 = 0.2251, Final Metric = 0.5024\n",
      "  New best metric! Saving model...\n",
      "Epoch 02: Train Loss = 2.1039, Val Loss = 2.1595\n",
      "  Binary F1 = 0.8914, Macro F1 = 0.3205, Final Metric = 0.6060\n",
      "  New best metric! Saving model...\n",
      "Epoch 03: Train Loss = 1.8586, Val Loss = 2.1093\n",
      "  Binary F1 = 0.8879, Macro F1 = 0.3822, Final Metric = 0.6351\n",
      "  New best metric! Saving model...\n",
      "Epoch 04: Train Loss = 1.7825, Val Loss = 1.9498\n",
      "  Binary F1 = 0.8971, Macro F1 = 0.4241, Final Metric = 0.6606\n",
      "  New best metric! Saving model...\n",
      "Epoch 05: Train Loss = 1.6647, Val Loss = 1.8835\n",
      "  Binary F1 = 0.9261, Macro F1 = 0.4438, Final Metric = 0.6850\n",
      "  New best metric! Saving model...\n",
      "Epoch 06: Train Loss = 1.6679, Val Loss = 1.8213\n",
      "  Binary F1 = 0.9367, Macro F1 = 0.4125, Final Metric = 0.6746\n",
      "Epoch 07: Train Loss = 1.5022, Val Loss = 1.7789\n",
      "  Binary F1 = 0.9412, Macro F1 = 0.4714, Final Metric = 0.7063\n",
      "  New best metric! Saving model...\n",
      "Epoch 08: Train Loss = 1.5464, Val Loss = 1.6836\n",
      "  Binary F1 = 0.9489, Macro F1 = 0.5416, Final Metric = 0.7453\n",
      "  New best metric! Saving model...\n",
      "Epoch 09: Train Loss = 1.4342, Val Loss = 1.5802\n",
      "  Binary F1 = 0.9479, Macro F1 = 0.5618, Final Metric = 0.7549\n",
      "  New best metric! Saving model...\n",
      "Epoch 10: Train Loss = 1.3667, Val Loss = 1.5795\n",
      "  Binary F1 = 0.9489, Macro F1 = 0.5632, Final Metric = 0.7561\n",
      "  New best metric! Saving model...\n",
      "Epoch 11: Train Loss = 1.3854, Val Loss = 1.6118\n",
      "  Binary F1 = 0.9529, Macro F1 = 0.5453, Final Metric = 0.7491\n",
      "Epoch 12: Train Loss = 1.2630, Val Loss = 1.6115\n",
      "  Binary F1 = 0.9461, Macro F1 = 0.5507, Final Metric = 0.7484\n",
      "Epoch 13: Train Loss = 1.2781, Val Loss = 1.5839\n",
      "  Binary F1 = 0.9521, Macro F1 = 0.5509, Final Metric = 0.7515\n",
      "Epoch 14: Train Loss = 1.1841, Val Loss = 1.5649\n",
      "  Binary F1 = 0.9521, Macro F1 = 0.5719, Final Metric = 0.7620\n",
      "  New best metric! Saving model...\n",
      "Epoch 15: Train Loss = 1.3245, Val Loss = 1.5600\n",
      "  Binary F1 = 0.9531, Macro F1 = 0.5746, Final Metric = 0.7638\n",
      "  New best metric! Saving model...\n",
      "Epoch 16: Train Loss = 1.1912, Val Loss = 1.5780\n",
      "  Binary F1 = 0.9533, Macro F1 = 0.5720, Final Metric = 0.7626\n",
      "Epoch 17: Train Loss = 1.1757, Val Loss = 1.6118\n",
      "  Binary F1 = 0.9503, Macro F1 = 0.5717, Final Metric = 0.7610\n",
      "Epoch 18: Train Loss = 1.1301, Val Loss = 1.5784\n",
      "  Binary F1 = 0.9551, Macro F1 = 0.5721, Final Metric = 0.7636\n",
      "Epoch 19: Train Loss = 1.1637, Val Loss = 1.5830\n",
      "  Binary F1 = 0.9522, Macro F1 = 0.5756, Final Metric = 0.7639\n",
      "  New best metric! Saving model...\n",
      "Epoch 20: Train Loss = 1.1654, Val Loss = 1.5843\n",
      "  Binary F1 = 0.9522, Macro F1 = 0.5727, Final Metric = 0.7624\n",
      "Epoch 21: Train Loss = 1.0410, Val Loss = 1.5936\n",
      "  Binary F1 = 0.9512, Macro F1 = 0.5711, Final Metric = 0.7611\n",
      "Epoch 22: Train Loss = 1.2665, Val Loss = 1.5934\n",
      "  Binary F1 = 0.9521, Macro F1 = 0.5650, Final Metric = 0.7586\n",
      "Epoch 23: Train Loss = 1.2214, Val Loss = 1.5782\n",
      "  Binary F1 = 0.9521, Macro F1 = 0.5764, Final Metric = 0.7643\n",
      "  New best metric! Saving model...\n",
      "Epoch 24: Train Loss = 1.1727, Val Loss = 1.5818\n",
      "  Binary F1 = 0.9510, Macro F1 = 0.5748, Final Metric = 0.7629\n",
      "Epoch 25: Train Loss = 1.0503, Val Loss = 1.5895\n",
      "  Binary F1 = 0.9507, Macro F1 = 0.5725, Final Metric = 0.7616\n",
      "\n",
      "Fold 3 completed.\n",
      "Final validation metrics - Binary F1: 0.9507, Macro F1: 0.5725, Final: 0.7616\n",
      "Best validation metrics - Binary F1: 0.9521, Macro F1: 0.5764, Final: 0.7643\n",
      "training: 4\n",
      "\n",
      "==================================================\n",
      "Fold 4/5\n",
      "Epoch 01: Train Loss = 2.7095, Val Loss = 2.3159\n",
      "  Binary F1 = 0.8599, Macro F1 = 0.2410, Final Metric = 0.5504\n",
      "  New best metric! Saving model...\n",
      "Epoch 02: Train Loss = 2.1779, Val Loss = 1.8749\n",
      "  Binary F1 = 0.9271, Macro F1 = 0.3825, Final Metric = 0.6548\n",
      "  New best metric! Saving model...\n",
      "Epoch 03: Train Loss = 1.9453, Val Loss = 1.7753\n",
      "  Binary F1 = 0.9450, Macro F1 = 0.4446, Final Metric = 0.6948\n",
      "  New best metric! Saving model...\n",
      "Epoch 04: Train Loss = 1.8075, Val Loss = 1.6133\n",
      "  Binary F1 = 0.9488, Macro F1 = 0.5115, Final Metric = 0.7302\n",
      "  New best metric! Saving model...\n",
      "Epoch 05: Train Loss = 1.8482, Val Loss = 1.5908\n",
      "  Binary F1 = 0.9461, Macro F1 = 0.5151, Final Metric = 0.7306\n",
      "  New best metric! Saving model...\n",
      "Epoch 06: Train Loss = 1.7502, Val Loss = 1.5304\n",
      "  Binary F1 = 0.9509, Macro F1 = 0.5863, Final Metric = 0.7686\n",
      "  New best metric! Saving model...\n",
      "Epoch 07: Train Loss = 1.6499, Val Loss = 1.4549\n",
      "  Binary F1 = 0.9570, Macro F1 = 0.6059, Final Metric = 0.7815\n",
      "  New best metric! Saving model...\n",
      "Epoch 08: Train Loss = 1.4411, Val Loss = 1.4051\n",
      "  Binary F1 = 0.9592, Macro F1 = 0.6209, Final Metric = 0.7901\n",
      "  New best metric! Saving model...\n",
      "Epoch 09: Train Loss = 1.3718, Val Loss = 1.3286\n",
      "  Binary F1 = 0.9690, Macro F1 = 0.6515, Final Metric = 0.8102\n",
      "  New best metric! Saving model...\n",
      "Epoch 10: Train Loss = 1.4641, Val Loss = 1.3252\n",
      "  Binary F1 = 0.9645, Macro F1 = 0.6351, Final Metric = 0.7998\n",
      "Epoch 11: Train Loss = 1.2836, Val Loss = 1.3460\n",
      "  Binary F1 = 0.9659, Macro F1 = 0.6443, Final Metric = 0.8051\n",
      "Epoch 12: Train Loss = 1.1907, Val Loss = 1.4106\n",
      "  Binary F1 = 0.9676, Macro F1 = 0.6227, Final Metric = 0.7951\n",
      "Epoch 13: Train Loss = 1.2255, Val Loss = 1.3527\n",
      "  Binary F1 = 0.9668, Macro F1 = 0.6440, Final Metric = 0.8054\n",
      "Epoch 14: Train Loss = 1.1682, Val Loss = 1.3335\n",
      "  Binary F1 = 0.9688, Macro F1 = 0.6576, Final Metric = 0.8132\n",
      "  New best metric! Saving model...\n",
      "Epoch 15: Train Loss = 1.2749, Val Loss = 1.3253\n",
      "  Binary F1 = 0.9669, Macro F1 = 0.6490, Final Metric = 0.8079\n",
      "Epoch 16: Train Loss = 1.2036, Val Loss = 1.3219\n",
      "  Binary F1 = 0.9697, Macro F1 = 0.6529, Final Metric = 0.8113\n",
      "Epoch 17: Train Loss = 1.1065, Val Loss = 1.3219\n",
      "  Binary F1 = 0.9682, Macro F1 = 0.6558, Final Metric = 0.8120\n",
      "Epoch 18: Train Loss = 1.3223, Val Loss = 1.3225\n",
      "  Binary F1 = 0.9702, Macro F1 = 0.6599, Final Metric = 0.8151\n",
      "  New best metric! Saving model...\n",
      "Epoch 19: Train Loss = 1.3832, Val Loss = 1.3086\n",
      "  Binary F1 = 0.9693, Macro F1 = 0.6710, Final Metric = 0.8201\n",
      "  New best metric! Saving model...\n",
      "Epoch 20: Train Loss = 1.1433, Val Loss = 1.3263\n",
      "  Binary F1 = 0.9689, Macro F1 = 0.6523, Final Metric = 0.8106\n",
      "Epoch 21: Train Loss = 1.2137, Val Loss = 1.3252\n",
      "  Binary F1 = 0.9694, Macro F1 = 0.6599, Final Metric = 0.8146\n",
      "Epoch 22: Train Loss = 1.1052, Val Loss = 1.3299\n",
      "  Binary F1 = 0.9703, Macro F1 = 0.6591, Final Metric = 0.8147\n",
      "Epoch 23: Train Loss = 1.2128, Val Loss = 1.3221\n",
      "  Binary F1 = 0.9692, Macro F1 = 0.6544, Final Metric = 0.8118\n",
      "Epoch 24: Train Loss = 1.2657, Val Loss = 1.3268\n",
      "  Binary F1 = 0.9697, Macro F1 = 0.6622, Final Metric = 0.8159\n",
      "Epoch 25: Train Loss = 1.1323, Val Loss = 1.3295\n",
      "  Binary F1 = 0.9698, Macro F1 = 0.6582, Final Metric = 0.8140\n",
      "\n",
      "Fold 4 completed.\n",
      "Final validation metrics - Binary F1: 0.9698, Macro F1: 0.6582, Final: 0.8140\n",
      "Best validation metrics - Binary F1: 0.9693, Macro F1: 0.6710, Final: 0.8201\n",
      "training: 5\n",
      "\n",
      "==================================================\n",
      "Fold 5/5\n",
      "Epoch 01: Train Loss = 2.6854, Val Loss = 2.2282\n",
      "  Binary F1 = 0.9179, Macro F1 = 0.3016, Final Metric = 0.6097\n",
      "  New best metric! Saving model...\n",
      "Epoch 02: Train Loss = 2.1396, Val Loss = 1.8927\n",
      "  Binary F1 = 0.9518, Macro F1 = 0.3458, Final Metric = 0.6488\n",
      "  New best metric! Saving model...\n",
      "Epoch 03: Train Loss = 1.8525, Val Loss = 1.6766\n",
      "  Binary F1 = 0.9407, Macro F1 = 0.4314, Final Metric = 0.6860\n",
      "  New best metric! Saving model...\n",
      "Epoch 04: Train Loss = 1.9222, Val Loss = 1.6547\n",
      "  Binary F1 = 0.9654, Macro F1 = 0.4445, Final Metric = 0.7050\n",
      "  New best metric! Saving model...\n",
      "Epoch 05: Train Loss = 1.7090, Val Loss = 1.5424\n",
      "  Binary F1 = 0.9747, Macro F1 = 0.5172, Final Metric = 0.7459\n",
      "  New best metric! Saving model...\n",
      "Epoch 06: Train Loss = 1.5478, Val Loss = 1.4316\n",
      "  Binary F1 = 0.9734, Macro F1 = 0.5114, Final Metric = 0.7424\n",
      "Epoch 07: Train Loss = 1.5194, Val Loss = 1.3684\n",
      "  Binary F1 = 0.9812, Macro F1 = 0.5942, Final Metric = 0.7877\n",
      "  New best metric! Saving model...\n",
      "Epoch 08: Train Loss = 1.5088, Val Loss = 1.3031\n",
      "  Binary F1 = 0.9788, Macro F1 = 0.6329, Final Metric = 0.8059\n",
      "  New best metric! Saving model...\n",
      "Epoch 09: Train Loss = 1.3402, Val Loss = 1.2147\n",
      "  Binary F1 = 0.9863, Macro F1 = 0.6690, Final Metric = 0.8276\n",
      "  New best metric! Saving model...\n",
      "Epoch 10: Train Loss = 1.2416, Val Loss = 1.2063\n",
      "  Binary F1 = 0.9853, Macro F1 = 0.6764, Final Metric = 0.8309\n",
      "  New best metric! Saving model...\n",
      "Epoch 11: Train Loss = 1.4436, Val Loss = 1.2487\n",
      "  Binary F1 = 0.9833, Macro F1 = 0.6653, Final Metric = 0.8243\n",
      "Epoch 12: Train Loss = 1.3787, Val Loss = 1.2029\n",
      "  Binary F1 = 0.9868, Macro F1 = 0.6872, Final Metric = 0.8370\n",
      "  New best metric! Saving model...\n",
      "Epoch 13: Train Loss = 1.4666, Val Loss = 1.2161\n",
      "  Binary F1 = 0.9858, Macro F1 = 0.6732, Final Metric = 0.8295\n",
      "Epoch 14: Train Loss = 1.2103, Val Loss = 1.2376\n",
      "  Binary F1 = 0.9848, Macro F1 = 0.6653, Final Metric = 0.8251\n",
      "Epoch 15: Train Loss = 1.2538, Val Loss = 1.2195\n",
      "  Binary F1 = 0.9853, Macro F1 = 0.6823, Final Metric = 0.8338\n",
      "Epoch 16: Train Loss = 1.1251, Val Loss = 1.2291\n",
      "  Binary F1 = 0.9858, Macro F1 = 0.6794, Final Metric = 0.8326\n",
      "Epoch 17: Train Loss = 1.3723, Val Loss = 1.2335\n",
      "  Binary F1 = 0.9843, Macro F1 = 0.6840, Final Metric = 0.8342\n",
      "Epoch 18: Train Loss = 1.1692, Val Loss = 1.2388\n",
      "  Binary F1 = 0.9863, Macro F1 = 0.6771, Final Metric = 0.8317\n",
      "Epoch 19: Train Loss = 1.1146, Val Loss = 1.2325\n",
      "  Binary F1 = 0.9853, Macro F1 = 0.6834, Final Metric = 0.8343\n",
      "Epoch 20: Train Loss = 1.2582, Val Loss = 1.2288\n",
      "  Binary F1 = 0.9848, Macro F1 = 0.6893, Final Metric = 0.8370\n",
      "  New best metric! Saving model...\n",
      "Epoch 21: Train Loss = 1.2068, Val Loss = 1.2253\n",
      "  Binary F1 = 0.9843, Macro F1 = 0.6844, Final Metric = 0.8344\n",
      "Epoch 22: Train Loss = 1.1792, Val Loss = 1.2368\n",
      "  Binary F1 = 0.9854, Macro F1 = 0.6770, Final Metric = 0.8312\n",
      "Epoch 23: Train Loss = 1.0683, Val Loss = 1.2520\n",
      "  Binary F1 = 0.9853, Macro F1 = 0.6821, Final Metric = 0.8337\n",
      "Epoch 24: Train Loss = 1.1483, Val Loss = 1.2570\n",
      "  Binary F1 = 0.9833, Macro F1 = 0.6790, Final Metric = 0.8312\n",
      "Epoch 25: Train Loss = 1.1600, Val Loss = 1.2394\n",
      "  Binary F1 = 0.9848, Macro F1 = 0.6893, Final Metric = 0.8370\n",
      "  New best metric! Saving model...\n",
      "\n",
      "Fold 5 completed.\n",
      "Final validation metrics - Binary F1: 0.9848, Macro F1: 0.6893, Final: 0.8370\n",
      "Best validation metrics - Binary F1: 0.9848, Macro F1: 0.6893, Final: 0.8370\n",
      "\n",
      "==================================================\n",
      "Cross-Validation Results\n",
      "==================================================\n",
      "\n",
      "Best Fold-wise Metrics:\n",
      "Fold 1: Binary F1 = 0.9690, Macro F1 = 0.5978, Final = 0.7834\n",
      "Fold 2: Binary F1 = 0.9567, Macro F1 = 0.6627, Final = 0.8097\n",
      "Fold 3: Binary F1 = 0.9521, Macro F1 = 0.5764, Final = 0.7643\n",
      "Fold 4: Binary F1 = 0.9693, Macro F1 = 0.6710, Final = 0.8201\n",
      "Fold 5: Binary F1 = 0.9848, Macro F1 = 0.6893, Final = 0.8370\n",
      "\n",
      "Global Statistics (Best Metrics):\n",
      "Mean Best Final Metric: 0.8029 ± 0.0260\n",
      "Mean Best Binary F1: 0.9664 ± 0.0114\n",
      "Mean Best Macro F1: 0.6394 ± 0.0441\n"
     ]
    }
   ],
   "source": [
    "seed_everything(seed=SEED)\n",
    "\n",
    "n_splits = 5\n",
    "batch_size = 128\n",
    "gkf = GroupKFold(n_splits=n_splits)\n",
    "\n",
    "fold_metrics = []\n",
    "best_fold_metrics = []\n",
    "best_models = []\n",
    "\n",
    "fold_patterns = join(dataset_path, \"preprocessed_dataset\", \"fold*\")\n",
    "fold_pths = glob(fold_patterns)\n",
    "all_training_metrics = {}\n",
    "\n",
    "for fold, fold_pth in enumerate(fold_pths):\n",
    "    print(\"training:\", fold + 1)\n",
    "    train_dataset = CMIDataset(fold_pth, \"train\")\n",
    "    # criterion = compute_weighted_cross_entropy_loss(train_dataset)\n",
    "    criterion = torch.nn.CrossEntropyLoss(label_smoothing=0.1)\n",
    "    train_loader = DL(train_dataset, TRAIN_BATCH_SIZE, shuffle=True)\n",
    "    validation_dataset = CMIDataset(fold_pth, \"validation\")\n",
    "    validation_loader = DL(validation_dataset, VALIDATION_BATCH_SIZE, shuffle=False)\n",
    "    print(f\"\\n{'='*50}\")\n",
    "    print(f\"Fold {fold + 1}/{n_splits}\")\n",
    "    \n",
    "    seed_everything(seed=SEED + fold)\n",
    "    model = mk_model()\n",
    "    \n",
    "    # Optimizer et scheduler\n",
    "    min_lr = max_lr / 100\n",
    "    optimizer = torch.optim.AdamW(model.parameters(), min_lr)\n",
    "    steps_per_epoch = len(train_loader)\n",
    "    n_training_steps = TRAINING_EPOCHS * len(train_loader)\n",
    "    scheduler = CosineAnnealingWarmupRestarts(\n",
    "        optimizer,\n",
    "        warmup_steps=WARMUP_EPOCHS * steps_per_epoch,\n",
    "        max_lr = max_lr,\n",
    "        min_lr = min_lr,\n",
    "        cycle_length=steps_per_epoch * 5,\n",
    "        gamma=0.3,\n",
    "    ) \n",
    "\n",
    "\n",
    "    # Early stopping\n",
    "    best_metric = -np.inf\n",
    "    best_binary_f1 = -np.inf\n",
    "    best_macro_f1 = -np.inf\n",
    "    epochs_no_improve = 0\n",
    "    \n",
    "    for epoch in range(1, TRAINING_EPOCHS + 1):\n",
    "        # Training phase\n",
    "        model.train()\n",
    "        train_loss = 0.0\n",
    "        total = 0\n",
    "        for batch_x, batch_y in train_loader:\n",
    "            batch_x = batch_x.to(device).clone()\n",
    "            add_noise = torch.randn_like(batch_x, device=device) * 0.04\n",
    "            scale_noise = torch.rand_like(batch_x, device=device) * (1.1 - 0.9) + 0.9\n",
    "            batch_x = (add_noise + batch_x) * scale_noise\n",
    "            batch_y = batch_y.to(device)\n",
    "            batch_x = batch_x.float()\n",
    "            \n",
    "            batch_x, batch_y = mixup_data(batch_x, batch_y)\n",
    "    \n",
    "            optimizer.zero_grad()\n",
    "            outputs = model(batch_x)\n",
    "            loss = criterion(outputs, batch_y)\n",
    "            loss.backward()\n",
    "            optimizer.step()\n",
    "            scheduler.step()\n",
    "    \n",
    "            train_loss += loss.item() * batch_x.size(0)\n",
    "            total += batch_x.size(0)\n",
    "        train_loss /= total\n",
    "    \n",
    "        # Validation phase\n",
    "        model.eval()\n",
    "        val_loss = 0.0\n",
    "        total = 0\n",
    "        all_true = []\n",
    "        all_pred = []\n",
    "        \n",
    "        with torch.no_grad():\n",
    "            for batch_x, batch_y in validation_loader:\n",
    "                batch_x = batch_x.to(device).clone()\n",
    "                batch_y = batch_y.to(device)\n",
    "                batch_x[VALIDATION_BATCH_SIZE // 2, non_imu_feats_idx] = 0.0\n",
    "                \n",
    "                outputs = model(batch_x)\n",
    "                loss = criterion(outputs, batch_y)\n",
    "                val_loss += loss.item() * batch_x.size(0)\n",
    "                total += batch_x.size(0)\n",
    "                \n",
    "                # Get predicted class indices\n",
    "                preds = torch.argmax(outputs, dim=1).cpu().numpy()\n",
    "                # Get true class indices from one-hot\n",
    "                trues = torch.argmax(batch_y, dim=1).cpu().numpy()\n",
    "                \n",
    "                all_true.append(trues)\n",
    "                all_pred.append(preds)\n",
    "\n",
    "        val_loss /= total\n",
    "        all_true = np.concatenate(all_true)\n",
    "        all_pred = np.concatenate(all_pred)\n",
    "\n",
    "        # Compute competition metrics\n",
    "        # Binary classification: BFRB (1) vs non-BFRB (0)\n",
    "        binary_true = np.isin(all_true, bfrb_indices).astype(int)\n",
    "        binary_pred = np.isin(all_pred, bfrb_indices).astype(int)\n",
    "        binary_f1 = f1_score(binary_true, binary_pred)\n",
    "        \n",
    "        # Collapse non-BFRB gestures into a single class\n",
    "        collapsed_true = np.where(\n",
    "            np.isin(all_true, bfrb_indices),\n",
    "            all_true,\n",
    "            len(bfrb_gestures)  # Single non-BFRB class\n",
    "        )\n",
    "        collapsed_pred = np.where(\n",
    "            np.isin(all_pred, bfrb_indices),\n",
    "            all_pred,\n",
    "            len(bfrb_gestures)  # Single non-BFRB class\n",
    "        )\n",
    "        \n",
    "        # Macro F1 on collapsed classes\n",
    "        macro_f1 = f1_score(collapsed_true, collapsed_pred, average='macro')\n",
    "        final_metric = (binary_f1 + macro_f1) / 2\n",
    "        \n",
    "        print(f\"Epoch {epoch:02d}: Train Loss = {train_loss:.4f}, Val Loss = {val_loss:.4f}\")\n",
    "        print(f\"  Binary F1 = {binary_f1:.4f}, Macro F1 = {macro_f1:.4f}, Final Metric = {final_metric:.4f}\")\n",
    "        \n",
    "        if final_metric > best_metric:\n",
    "            best_metric = final_metric\n",
    "            best_binary_f1 = binary_f1\n",
    "            best_macro_f1 = macro_f1\n",
    "            epochs_no_improve = 0\n",
    "            best_model_state = model.state_dict()\n",
    "            print(f\"  New best metric! Saving model...\")\n",
    "        else:\n",
    "            epochs_no_improve += 1\n",
    "            if epochs_no_improve >= PATIENCE:\n",
    "                print(f\"Early stopping triggered at epoch {epoch}\")\n",
    "                model.load_state_dict(best_model_state)\n",
    "                break\n",
    "\n",
    "    torch.save(best_model_state, f\"best_model_fold{fold}.pth\")\n",
    "    best_models.append(best_model_state)\n",
    "\n",
    "    fold_metrics.append({\n",
    "        'binary_f1': binary_f1,\n",
    "        'macro_f1': macro_f1,\n",
    "        'final_metric': final_metric\n",
    "    })\n",
    "    \n",
    "    best_fold_metrics.append({\n",
    "        'binary_f1': best_binary_f1,\n",
    "        'macro_f1': best_macro_f1,\n",
    "        'final_metric': best_metric\n",
    "    })\n",
    "    \n",
    "    print(f\"\\nFold {fold + 1} completed.\")\n",
    "    print(f\"Final validation metrics - Binary F1: {binary_f1:.4f}, Macro F1: {macro_f1:.4f}, Final: {final_metric:.4f}\")\n",
    "    print(f\"Best validation metrics - Binary F1: {best_binary_f1:.4f}, Macro F1: {best_macro_f1:.4f}, Final: {best_metric:.4f}\")\n",
    "\n",
    "print(\"\\n\" + \"=\"*50)\n",
    "print(\"Cross-Validation Results\")\n",
    "print(\"=\"*50)\n",
    "\n",
    "# Statistiques pour les meilleures métriques\n",
    "best_binary_f1 = [m['binary_f1'] for m in best_fold_metrics]\n",
    "best_macro_f1 = [m['macro_f1'] for m in best_fold_metrics]\n",
    "best_metrics = [m['final_metric'] for m in best_fold_metrics]\n",
    "\n",
    "print(\"\\nBest Fold-wise Metrics:\")\n",
    "for i, (bf1, mf1, fm) in enumerate(zip(best_binary_f1, best_macro_f1, best_metrics)):\n",
    "    print(f\"Fold {i+1}: Binary F1 = {bf1:.4f}, Macro F1 = {mf1:.4f}, Final = {fm:.4f}\")\n",
    "\n",
    "print(\"\\nGlobal Statistics (Best Metrics):\")\n",
    "print(f\"Mean Best Final Metric: {np.mean(best_metrics):.4f} ± {np.std(best_metrics):.4f}\")\n",
    "print(f\"Mean Best Binary F1: {np.mean(best_binary_f1):.4f} ± {np.std(best_binary_f1):.4f}\")\n",
    "print(f\"Mean Best Macro F1: {np.mean(best_macro_f1):.4f} ± {np.std(best_macro_f1):.4f}\")"
   ]
  },
  {
   "cell_type": "markdown",
   "id": "07ea7558",
   "metadata": {
    "papermill": {
     "duration": 0.012909,
     "end_time": "2025-06-14T10:09:14.961270",
     "exception": false,
     "start_time": "2025-06-14T10:09:14.948361",
     "status": "completed"
    },
    "tags": []
   },
   "source": [
    "## Submission"
   ]
  },
  {
   "cell_type": "markdown",
   "id": "3aea5e4f",
   "metadata": {
    "papermill": {
     "duration": 0.012906,
     "end_time": "2025-06-14T10:09:14.780212",
     "exception": false,
     "start_time": "2025-06-14T10:09:14.767306",
     "status": "completed"
    },
    "tags": []
   },
   "source": [
    "### Reloading best model"
   ]
  },
  {
   "cell_type": "code",
   "execution_count": 23,
   "id": "a0574d4d",
   "metadata": {
    "execution": {
     "iopub.execute_input": "2025-06-14T10:09:14.807902Z",
     "iopub.status.busy": "2025-06-14T10:09:14.807165Z",
     "iopub.status.idle": "2025-06-14T10:09:14.933288Z",
     "shell.execute_reply": "2025-06-14T10:09:14.932459Z"
    },
    "papermill": {
     "duration": 0.141435,
     "end_time": "2025-06-14T10:09:14.934745",
     "exception": false,
     "start_time": "2025-06-14T10:09:14.793310",
     "status": "completed"
    },
    "tags": []
   },
   "outputs": [],
   "source": [
    "model_ensemble = []\n",
    "for fold in range(5):\n",
    "    model = mk_model().to(device)\n",
    "    checkpoint = torch.load(f\"best_model_fold{fold}.pth\", map_location=device, weights_only=True)\n",
    "    model.load_state_dict(checkpoint)\n",
    "    model.eval()\n",
    "    model_ensemble.append(model)"
   ]
  },
  {
   "cell_type": "markdown",
   "id": "a826dec8",
   "metadata": {},
   "source": [
    "### Define preprocessing function"
   ]
  },
  {
   "cell_type": "code",
   "execution_count": 24,
   "id": "481e69b6",
   "metadata": {},
   "outputs": [],
   "source": [
    "def get_fillna_val_per_feature_col(df:DF) -> dict:\n",
    "    return {col: 1.0 if col == 'rot_w' else 0 for col in get_feature_cols(df)}\n",
    "\n",
    "def imputed_features(df:DF) -> DF:\n",
    "    # Missing ToF values are already imputed by -1 which is inconvinient since we want all missing values to be NaN.    \n",
    "    # So we replace them by NaN and then perform imputing.  \n",
    "    tof_vals_to_nan = {col: -1.0 for col in df.columns if col.startswith(\"tof\")}\n",
    "\n",
    "    df[get_feature_cols(df)] = (\n",
    "        df\n",
    "        .loc[:, get_feature_cols(df)]\n",
    "        # df.replace with np.nan sets dtype to floar64 so we set it back to float32\n",
    "        .replace(tof_vals_to_nan, value=np.nan)\n",
    "        .astype(\"float32\")\n",
    "        .groupby(df[\"sequence_id\"], observed=True, as_index=False)\n",
    "        .ffill()\n",
    "        .groupby(df[\"sequence_id\"], observed=True, as_index=False)\n",
    "        .bfill()\n",
    "        # In case there are only nan in the column in the sequence\n",
    "        .fillna(get_fillna_val_per_feature_col(df))\n",
    "    )\n",
    "    return df\n",
    "\n",
    "def norm_quat_rotations(df:DF) -> DF:\n",
    "    df[QUATERNION_COLS] /= np.linalg.norm(df[QUATERNION_COLS], axis=1, keepdims=True)\n",
    "    return df\n",
    "\n",
    "def add_linear_acc_cols(df:DF) -> DF:\n",
    "    # Vectorized version of https://www.kaggle.com/code/wasupandceacar/lb-0-82-5fold-single-bert-model#Dataset `remove_gravity_from_acc`\n",
    "    rotations:Rotation = Rotation.from_quat(df[QUATERNION_COLS])\n",
    "    gravity_sensor_frame = rotations.apply(GRAVITY_WORLD, inverse=True).astype(\"float32\")\n",
    "    df[LINEAR_ACC_COLS] = df[RAW_ACCELRATION_COLS] - gravity_sensor_frame\n",
    "    return df\n",
    "\n",
    "def add_acc_magnitude(df:DF, acc_cols:list[str], acc_mag_col_name:str) -> DF:\n",
    "    return df.assign(**{acc_mag_col_name: np.linalg.norm(df.loc[:, acc_cols], axis=1)})\n",
    "\n",
    "def add_quat_angle_mag(df:DF) -> DF:\n",
    "    return df.assign(quat_rot_mag=np.arccos(df[\"rot_w\"]) * 2)\n",
    "\n",
    "def add_angular_velocity_features(df:DF) -> DF:\n",
    "    rotations = Rotation.from_quat(df[QUATERNION_COLS])\n",
    "    delta_rotations = rotations[1:] * rotations[:-1].inv()\n",
    "    delta_rot_velocity = delta_rotations.as_rotvec()\n",
    "    # Add extra line to avoid shape mismatch\n",
    "    delta_rot_velocity = np.vstack((np.zeros((1, 3)), delta_rot_velocity))\n",
    "    delta_rot_magnitude = norm(delta_rot_velocity, axis=1, keepdims=True)\n",
    "    delta_rot_axes = delta_rot_velocity / (delta_rot_magnitude + EPSILON)\n",
    "    df[DELTA_ROTATION_ANGULAR_VELOCITY_COLS] = delta_rot_velocity\n",
    "    df[DELTA_ROTATION_AXES_COLS] = delta_rot_axes\n",
    "    df[\"delta_rot_mag\"] = delta_rot_magnitude.squeeze()\n",
    "\n",
    "    return df\n",
    "\n",
    "def rot_euler_angles(df:DF) -> ndarray:\n",
    "    df[EULER_ANGLES_COLS] = (\n",
    "        Rotation\n",
    "        .from_quat(df[QUATERNION_COLS])\n",
    "        .as_euler(\"xyz\")\n",
    "        .squeeze()\n",
    "    )\n",
    "    return df\n",
    "\n",
    "def agg_tof_cols_per_sensor(df:DF) -> DF:\n",
    "    for tof_idx in tqdm(range(1, 6)):\n",
    "        tof_name = f\"tof_{tof_idx}\"\n",
    "        tof_cols = [f\"{tof_name}_v{v_idx}\" for v_idx in range(64)]\n",
    "        if any(map(lambda col: col not in df.columns, tof_cols)):\n",
    "            print(f\"Some (or) all ToF {tof_idx} columns are not in the df. Maybe you already ran this cell?\")\n",
    "            continue\n",
    "        df = pd.concat(\n",
    "            (\n",
    "                df.drop(columns=tof_cols),\n",
    "                # For some reasons, it's faster to call all the aggregation functions seperatly than agg(list of functions)\n",
    "                df[tof_cols].mean(axis=\"columns\").to_frame(tof_name + \"_mean\"),\n",
    "                df[tof_cols].std(axis=\"columns\").to_frame(tof_name + \"_std\"),\n",
    "                df[tof_cols].median(axis=\"columns\").to_frame(tof_name + \"_median\"),\n",
    "                df[tof_cols].min(axis=\"columns\").to_frame(tof_name + \"_min\"),\n",
    "                df[tof_cols].max(axis=\"columns\").to_frame(tof_name + \"_max\"),\n",
    "            ),\n",
    "            axis=\"columns\",\n",
    "        )\n",
    "    return df\n",
    "\n",
    "def add_diff_features(df:DF) -> DF:\n",
    "    return pd.concat(\n",
    "        (\n",
    "            df,\n",
    "            df\n",
    "            .groupby(\"sequence_id\", as_index=False, observed=True)\n",
    "            [get_feature_cols(df)]\n",
    "            .diff()\n",
    "            .fillna(get_fillna_val_per_feature_col(df))\n",
    "            .add_prefix(\"diff_\")\n",
    "        ),\n",
    "        axis=\"columns\",\n",
    "    )\n",
    "\n",
    "def length_normed_sequence_feat_arr(sequence: DF) -> ndarray:\n",
    "    features = (\n",
    "        sequence\n",
    "        .loc[:, meta_data[\"feature_cols\"]]\n",
    "        .values\n",
    "    )\n",
    "    normed_sequence_len = meta_data[\"pad_seq_len\"]\n",
    "    len_diff = abs(normed_sequence_len - len(features))\n",
    "    if len(features) < normed_sequence_len:\n",
    "        padded_features = np.pad(\n",
    "            features,\n",
    "            ((len_diff // 2 + len_diff % 2, len_diff // 2), (0, 0)),\n",
    "        )\n",
    "        return padded_features\n",
    "    elif len(features) > normed_sequence_len:\n",
    "        return features[len_diff // 2:-len_diff // 2]\n",
    "    else:\n",
    "        return features\n",
    "\n",
    "def preprocess_sequence(sequence_df:pl.DataFrame) -> ndarray:\n",
    "    return (\n",
    "        sequence_df                     \n",
    "        .to_pandas()                            # Convert to pandas dataframe.\n",
    "        .pipe(imputed_features)                 # Impute missing data.\n",
    "        .pipe(norm_quat_rotations)              # Norm quaternions\n",
    "        .pipe(add_linear_acc_cols)              # Add gravity free acceleration.\n",
    "        .pipe(add_acc_magnitude, RAW_ACCELRATION_COLS, \"raw_acc_mag\")\n",
    "        .pipe(add_acc_magnitude, LINEAR_ACC_COLS, \"linear_acc_mag\")\n",
    "        .pipe(add_quat_angle_mag)\n",
    "        .pipe(add_angular_velocity_features)\n",
    "        .pipe(rot_euler_angles)                 # Add rotation acc expressed as euler angles.\n",
    "        .pipe(agg_tof_cols_per_sensor)          # Aggregate ToF columns.\n",
    "        .pipe(add_diff_features)                # \n",
    "        .loc[:, sorted(meta_data[\"feature_cols\"])]      # Retain only the usefull columns a.k.a features.\n",
    "        .sub(meta_data[\"mean\"])                 # Subtract features by their mean, std norm pt.1.\n",
    "        .div(meta_data[\"std\"])                  # Divide by Standard deviation, std norm pt.2.\n",
    "        .pipe(length_normed_sequence_feat_arr)  # get feature ndarray of sequence.\n",
    "        .T                                      # Transpose to swap channel and X dimensions.\n",
    "    )"
   ]
  },
  {
   "cell_type": "markdown",
   "id": "1ebb0960",
   "metadata": {},
   "source": [
    "### Define prediction function"
   ]
  },
  {
   "cell_type": "code",
   "execution_count": 25,
   "id": "57d8dfff",
   "metadata": {
    "execution": {
     "iopub.execute_input": "2025-06-14T10:09:14.989742Z",
     "iopub.status.busy": "2025-06-14T10:09:14.989258Z",
     "iopub.status.idle": "2025-06-14T10:09:14.995936Z",
     "shell.execute_reply": "2025-06-14T10:09:14.995244Z"
    },
    "papermill": {
     "duration": 0.021303,
     "end_time": "2025-06-14T10:09:14.997034",
     "exception": false,
     "start_time": "2025-06-14T10:09:14.975731",
     "status": "completed"
    },
    "tags": []
   },
   "outputs": [],
   "source": [
    "def predict(sequence: pl.DataFrame, _: pl.DataFrame) -> str:\n",
    "    \"\"\"\n",
    "    Kaggle evaluation API will call this for each sequence.\n",
    "    sequence: polars DataFrame for a single sequence\n",
    "    demographics: unused in this model\n",
    "    Returns: predicted gesture string\n",
    "    \"\"\"\n",
    "    x_tensor = (\n",
    "        torch.unsqueeze(Tensor(preprocess_sequence(sequence)), dim=0)\n",
    "        .float()\n",
    "        .to(device)\n",
    "    )\n",
    "    print(x_tensor.shape)\n",
    "\n",
    "    all_outputs = []\n",
    "    with torch.no_grad():\n",
    "        for model_idx, model in enumerate(model_ensemble): # Only take the first one bc it's the only one that takes in the correct input shape\n",
    "            outputs = model(x_tensor)\n",
    "            all_outputs.append(outputs)\n",
    "\n",
    "    avg_outputs = torch.mean(torch.stack(all_outputs), dim=0)\n",
    "    pred_idx = torch.argmax(avg_outputs, dim=1).item()\n",
    "\n",
    "    return str(gesture_classes[pred_idx])"
   ]
  },
  {
   "cell_type": "markdown",
   "id": "5cdcf446",
   "metadata": {},
   "source": [
    "### Run inference server"
   ]
  },
  {
   "cell_type": "code",
   "execution_count": 26,
   "id": "1c386b7d",
   "metadata": {
    "execution": {
     "iopub.execute_input": "2025-06-14T10:09:15.023324Z",
     "iopub.status.busy": "2025-06-14T10:09:15.023122Z",
     "iopub.status.idle": "2025-06-14T10:09:16.373534Z",
     "shell.execute_reply": "2025-06-14T10:09:16.372710Z"
    },
    "papermill": {
     "duration": 1.365137,
     "end_time": "2025-06-14T10:09:16.374918",
     "exception": false,
     "start_time": "2025-06-14T10:09:15.009781",
     "status": "completed"
    },
    "tags": []
   },
   "outputs": [
    {
     "name": "stderr",
     "output_type": "stream",
     "text": [
      "100%|██████████| 5/5 [00:00<00:00, 129.35it/s]\n"
     ]
    },
    {
     "name": "stdout",
     "output_type": "stream",
     "text": [
      "torch.Size([1, 106, 127])\n"
     ]
    },
    {
     "name": "stderr",
     "output_type": "stream",
     "text": [
      "100%|██████████| 5/5 [00:00<00:00, 136.56it/s]\n"
     ]
    },
    {
     "name": "stdout",
     "output_type": "stream",
     "text": [
      "torch.Size([1, 106, 127])\n"
     ]
    },
    {
     "name": "stderr",
     "output_type": "stream",
     "text": [
      "100%|██████████| 5/5 [00:00<00:00, 133.93it/s]\n"
     ]
    },
    {
     "name": "stdout",
     "output_type": "stream",
     "text": [
      "torch.Size([1, 106, 127])\n"
     ]
    },
    {
     "name": "stderr",
     "output_type": "stream",
     "text": [
      "100%|██████████| 5/5 [00:00<00:00, 140.31it/s]"
     ]
    },
    {
     "name": "stdout",
     "output_type": "stream",
     "text": [
      "torch.Size([1, 106, 127])\n"
     ]
    },
    {
     "name": "stderr",
     "output_type": "stream",
     "text": [
      "\n"
     ]
    }
   ],
   "source": [
    "inference_server = kaggle_evaluation.cmi_inference_server.CMIInferenceServer(predict)\n",
    "\n",
    "if os.getenv('KAGGLE_IS_COMPETITION_RERUN'):\n",
    "    inference_server.serve()\n",
    "else:\n",
    "    inference_server.run_local_gateway(\n",
    "        data_paths=(\n",
    "            join(competition_dataset_path, 'test.csv'),\n",
    "            join(competition_dataset_path, 'test_demographics.csv'),\n",
    "        )\n",
    "    )\n",
    "    inference_server = kaggle_evaluation.cmi_inference_server.CMIInferenceServer(predict)\n",
    "    inference_server.run_local_gateway(\n",
    "        data_paths=(\n",
    "            join(competition_dataset_path, 'test.csv'),\n",
    "            join(competition_dataset_path, 'test_demographics.csv'),\n",
    "        )\n",
    "    )"
   ]
  }
 ],
 "metadata": {
  "kaggle": {
   "accelerator": "gpu",
   "dataSources": [
    {
     "databundleVersionId": 12518947,
     "sourceId": 102335,
     "sourceType": "competition"
    }
   ],
   "isGpuEnabled": true,
   "isInternetEnabled": false,
   "language": "python",
   "sourceType": "notebook"
  },
  "kernelspec": {
   "display_name": "Python 3",
   "language": "python",
   "name": "python3"
  },
  "language_info": {
   "codemirror_mode": {
    "name": "ipython",
    "version": 3
   },
   "file_extension": ".py",
   "mimetype": "text/x-python",
   "name": "python",
   "nbconvert_exporter": "python",
   "pygments_lexer": "ipython3",
   "version": "3.11.5"
  },
  "papermill": {
   "default_parameters": {},
   "duration": 510.403331,
   "end_time": "2025-06-14T10:09:19.701325",
   "environment_variables": {},
   "exception": null,
   "input_path": "__notebook__.ipynb",
   "output_path": "__notebook__.ipynb",
   "parameters": {},
   "start_time": "2025-06-14T10:00:49.297994",
   "version": "2.6.0"
  }
 },
 "nbformat": 4,
 "nbformat_minor": 5
}
