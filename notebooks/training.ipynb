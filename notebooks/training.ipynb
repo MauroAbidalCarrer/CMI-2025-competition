{
 "cells": [
  {
   "cell_type": "markdown",
   "id": "53d41434",
   "metadata": {},
   "source": [
    "# Training model\n",
    "The goal of this notebook is to train a model and upload it to kaggle."
   ]
  },
  {
   "cell_type": "markdown",
   "id": "dc4c23f0",
   "metadata": {},
   "source": [
    "## Imports"
   ]
  },
  {
   "cell_type": "code",
   "execution_count": 35,
   "id": "66f429fe",
   "metadata": {},
   "outputs": [],
   "source": [
    "from os.path import join\n",
    "from itertools import pairwise\n",
    "from typing import Optional, Literal\n",
    "\n",
    "import torch\n",
    "import numpy as np\n",
    "import plotly.express as px\n",
    "from torch import nn, Tensor\n",
    "from kagglehub import dataset_download\n",
    "from torch.optim.lr_scheduler import ConstantLR\n",
    "from torch.utils.data import Dataset, DataLoader"
   ]
  },
  {
   "cell_type": "code",
   "execution_count": 36,
   "id": "b39c5f73",
   "metadata": {},
   "outputs": [
    {
     "data": {
      "text/plain": [
       "['preprocessed_dataset']"
      ]
     },
     "execution_count": 36,
     "metadata": {},
     "output_type": "execute_result"
    }
   ],
   "source": [
    "import os\n",
    "\n",
    "os.listdir(dataset_download(\n",
    "            handle=\"mauroabidalcarrer/prepocessed-cmi-2025\",\n",
    "        ))"
   ]
  },
  {
   "cell_type": "code",
   "execution_count": 37,
   "id": "208cc864",
   "metadata": {},
   "outputs": [],
   "source": [
    "BATCH_SIZE = 256"
   ]
  },
  {
   "cell_type": "code",
   "execution_count": 38,
   "id": "e46c3b4e",
   "metadata": {},
   "outputs": [],
   "source": [
    "# TODO: Switch to TensorDataset w/ cross validation splits\n",
    "class CMIDataset(Dataset):\n",
    "    def __init__(\n",
    "        self,\n",
    "        parent_dir: str,\n",
    "        split: Optional[Literal[\"train\", \"validation\"]]=None,\n",
    "        subset: Optional[int]=None,\n",
    "        force_download=False\n",
    "    ):\n",
    "        super().__init__()\n",
    "        dataset_path = dataset_download(\n",
    "            handle=\"mauroabidalcarrer/prepocessed-cmi-2025\",\n",
    "            force_download=force_download\n",
    "        )\n",
    "        parent_dir = join(dataset_path, \"preprocessed_dataset\", parent_dir)\n",
    "        split = \"\" if split is None else split + \"_\"\n",
    "        self.x = np.load(join(parent_dir, f\"{split}X.npy\"), mmap_mode=\"r\").swapaxes(1, 2)\n",
    "        self.y = np.load(join(parent_dir, f\"{split}Y.npy\"), mmap_mode=\"r\")\n",
    "        if subset is not None:\n",
    "            self.x = self.x[:subset]\n",
    "            self.y = self.y[:subset]\n",
    "\n",
    "    def __len__(self):\n",
    "        return len(self.x)\n",
    "\n",
    "    def __getitem__(self, idx):\n",
    "        return self.x[idx].copy(), self.y[idx].copy()\n",
    "\n",
    "train_dataset = CMIDataset(\"fold_0\", \"train\", force_download=False)\n",
    "train_data_loader = DataLoader(train_dataset, BATCH_SIZE, shuffle=True)\n",
    "\n",
    "validation_dataset = CMIDataset(\"fold_0\", \"validation\", force_download=False)\n",
    "validation_data_loader = DataLoader(train_dataset, BATCH_SIZE * 4, shuffle=False)"
   ]
  },
  {
   "cell_type": "code",
   "execution_count": 40,
   "id": "5ecc32a1",
   "metadata": {},
   "outputs": [],
   "source": [
    "class ResidualBlock(nn.Module):\n",
    "    def __init__(self, in_chns:int, out_chns:int):\n",
    "        super().__init__()\n",
    "        self.blocks = nn.Sequential(\n",
    "            nn.Conv1d(in_chns, out_chns, kernel_size=3, padding=1),\n",
    "            nn.BatchNorm1d(out_chns),\n",
    "            nn.ReLU(),\n",
    "            nn.Conv1d(out_chns, out_chns, kernel_size=3, padding=1),\n",
    "            nn.BatchNorm1d(out_chns),\n",
    "        )\n",
    "        if in_chns == out_chns:\n",
    "            self.skip_connection = nn.Identity() \n",
    "        else:\n",
    "            # TODO: set bias to False ?\n",
    "            self.skip_connection = nn.Sequential(\n",
    "                nn.Conv1d(in_chns, out_chns, 1),\n",
    "                nn.BatchNorm1d(out_chns)\n",
    "            )\n",
    "\n",
    "    def forward(self, x:Tensor) -> Tensor:\n",
    "        activaition_maps = self.skip_connection(x) + self.blocks(x)\n",
    "        return nn.functional.relu(activaition_maps)\n",
    "\n",
    "class Resnet(nn.Module):\n",
    "    def __init__(\n",
    "            self,\n",
    "            in_channels:int,\n",
    "            depth:int,\n",
    "            # n_res_block_per_depth:int,\n",
    "            mlp_width:int,\n",
    "            n_class:int,\n",
    "        ):\n",
    "        super().__init__()\n",
    "        chs_per_depth = [in_channels * 2 ** i for i in range(depth)]\n",
    "        blocks_chns_it = pairwise(chs_per_depth)\n",
    "        self.res_blocks = [ResidualBlock(in_chns, out_chns) for in_chns, out_chns in blocks_chns_it]\n",
    "        self.res_blocks = nn.ModuleList(self.res_blocks)\n",
    "        self.mlp_head = nn.Sequential(\n",
    "            nn.LazyLinear(mlp_width),\n",
    "            nn.ReLU(),\n",
    "            nn.Linear(mlp_width, n_class),\n",
    "            nn.Softmax(dim=1),\n",
    "        )\n",
    "        \n",
    "        \n",
    "    def forward(self, x:Tensor) -> Tensor:\n",
    "        activation_maps = x\n",
    "        for res_block in self.res_blocks:\n",
    "            activation_maps = nn.functional.max_pool1d(res_block(activation_maps), 2)\n",
    "        out = activation_maps.view(activation_maps.shape[0], -1)\n",
    "        out = self.mlp_head(out)\n",
    "        return out\n",
    "\n",
    "model = Resnet(\n",
    "    in_channels=17,\n",
    "    depth=4,\n",
    "    mlp_width=256,\n",
    "    n_class=18,\n",
    ")"
   ]
  },
  {
   "cell_type": "code",
   "execution_count": null,
   "id": "0769218c",
   "metadata": {},
   "outputs": [
    {
     "data": {
      "text/plain": [
       "0.390625"
      ]
     },
     "execution_count": 55,
     "metadata": {},
     "output_type": "execute_result"
    }
   ],
   "source": [
    "# x, y = next(iter(train_data_loader))\n",
    "# y_pred = model(x)\n",
    "\n",
    "# (\n",
    "#     (y.max(dim=1)[1] == y_pred.max(dim=1)[1])\n",
    "#     .sum()\n",
    "#     .item()\n",
    "# ) / BATCH_SIZE"
   ]
  },
  {
   "cell_type": "code",
   "execution_count": 57,
   "id": "06505f2e",
   "metadata": {},
   "outputs": [
    {
     "data": {
      "text/plain": [
       "256"
      ]
     },
     "execution_count": 57,
     "metadata": {},
     "output_type": "execute_result"
    }
   ],
   "source": [
    "y.shape[0]"
   ]
  },
  {
   "cell_type": "code",
   "execution_count": 86,
   "id": "7cc879eb",
   "metadata": {},
   "outputs": [],
   "source": [
    "import os\n",
    "from datetime import datetime\n",
    "\n",
    "import torch\n",
    "from torch import nn\n",
    "import plotly.express as px\n",
    "from rich.progress import Progress, Task, track\n",
    "from pandas import DataFrame as DF\n",
    "from torch.utils.data import DataLoader as DL\n",
    "from torch.optim.lr_scheduler import LRScheduler\n",
    "\n",
    "\n",
    "def fit(epochs:int,\n",
    "        model: nn.Module,\n",
    "        scheduler: LRScheduler,\n",
    "        optimizer: torch.optim.Optimizer,\n",
    "        train_loader: DL,\n",
    "        criterion: callable=nn.L1Loss(),\n",
    "        evaluation_func: callable=None,\n",
    "        validation_loader: DL=None,\n",
    "        save_checkpoints=True,\n",
    "    ) -> DF:\n",
    "    # Setup\n",
    "    metrics: list[dict] = []\n",
    "    checkpoints_dir = os.path.join(\"checkpoints\", mk_date_now_str())\n",
    "    step = 0\n",
    "    model_device = next(model.parameters()).device\n",
    "    # Training loop\n",
    "    with Progress() as progress:\n",
    "        task: Task = progress.add_task(\n",
    "            \"training...\",\n",
    "            # f\"epoch: {epoch + 1}, batch_loss: ...\",\n",
    "            total=len(train_loader),\n",
    "        )\n",
    "        for epoch in range(epochs):\n",
    "            progress.update(\n",
    "                task,\n",
    "                description=f\"epoch: {epoch}\",\n",
    "                completed=0,\n",
    "            )\n",
    "            total_epoch_loss = 0\n",
    "            total_accuracy = 0\n",
    "            for batch_idx, (x, y) in enumerate(train_loader):\n",
    "                # forward\n",
    "                x = x.to(model_device)\n",
    "                y = y.to(model_device)\n",
    "                model.train()\n",
    "                optimizer.zero_grad()\n",
    "                y_pred: Tensor = model(x)\n",
    "                loss_value = criterion(y_pred, y)\n",
    "                # Verify loss value\n",
    "                if torch.isnan(loss_value).any().item():\n",
    "                    progress.print(\"Warning: Got NaN loss, something went wrong.\")\n",
    "                    return DF.from_records(metrics) \n",
    "                if torch.isinf(loss_value).any().item():\n",
    "                    progress.print(\"Warning: Got infinite loss, something went wrong.\")\n",
    "                    return DF.from_records(metrics) \n",
    "                # TODO: Use gradient clipping?\n",
    "                loss_value.backward()\n",
    "                optimizer.step()\n",
    "                if step > 0: # If it's not the first training step\n",
    "                    # Call the scheduler step method, idk why it throws an error otherwise\n",
    "                    scheduler.step()\n",
    "                # metrics\n",
    "                total_epoch_loss += loss_value.item()\n",
    "                batch_accuracy = (\n",
    "                    (y.max(dim=1)[1] == y_pred.max(dim=1)[1])\n",
    "                    .sum()\n",
    "                    .item()\n",
    "                ) / y.shape[0]\n",
    "                total_accuracy += batch_accuracy\n",
    "                metrics.append({\n",
    "                    \"step\": step,\n",
    "                    \"epoch\": epoch,\n",
    "                    \"batch_train_loss\": loss_value.item(),\n",
    "                    \"lr\": optimizer.state_dict()[\"param_groups\"][-1][\"lr\"],\n",
    "                    \"batch_accuracy\": batch_accuracy,\n",
    "                })\n",
    "                step += 1\n",
    "                progress.update(\n",
    "                    task,\n",
    "                    advance=1,\n",
    "                    description=f\"epoch: {epoch}, batch_loss: {(total_epoch_loss / (batch_idx+1)):.2f}\"\n",
    "                )\n",
    "            # Post epoch evalution\n",
    "            metrics[-1][\"train_epoch_loss\"] = total_epoch_loss / len(train_loader)\n",
    "            metrics[-1][\"train_epoch_accuracy\"] = total_accuracy / len(train_data_loader)\n",
    "            if evaluation_func:\n",
    "                progress.update(\n",
    "                    task,\n",
    "                    completed=0,\n",
    "                    description=f\"epoch: {epoch}, evaluating...\"\n",
    "                )\n",
    "                eval_metrics = evaluation_func(model, criterion, validation_loader)\n",
    "                progress.print(\"validation loss:\", eval_metrics[\"validation_loss\"])\n",
    "                metrics[-1].update(eval_metrics)\n",
    "            # Save checkpoint\n",
    "            if save_checkpoints:\n",
    "                checkpoint = mk_checkpoint(epoch, model, scheduler, optimizer)\n",
    "                metrics_df = DF.from_records(metrics)\n",
    "                best_model_metric = \"validation_loss\" if \"validation_loss\" in metrics_df.columns else \"train_epoch_loss\"\n",
    "                is_best_checkpoint = (\n",
    "                    DF.from_records(metrics)\n",
    "                    .eval(f\"min_{best_model_metric} = {best_model_metric}.min()\")\n",
    "                    .eval(f\"is_best_{best_model_metric} = {best_model_metric} == min_{best_model_metric}\")\n",
    "                    .dropna(subset=f\"is_best_{best_model_metric}\")\n",
    "                    .iloc[-1]\n",
    "                    .loc[f\"is_best_{best_model_metric}\"]\n",
    "                )\n",
    "                save_checkpoint(checkpoint, checkpoints_dir, is_best_checkpoint)\n",
    "\n",
    "    return DF.from_records(metrics)\n",
    "\n",
    "def evaluate_model(\n",
    "        model: torch.nn.Module,\n",
    "        critirion:callable,\n",
    "        validation_loader:DL,\n",
    "    ) -> dict:\n",
    "    model = model.eval()\n",
    "    model_device = next(model.parameters()).device\n",
    "\n",
    "    total_accuracy = 0\n",
    "    total_test_loss = 0\n",
    "    for x, y in validation_loader:\n",
    "        x = x.to(model_device)\n",
    "        y = y.to(model_device)\n",
    "        y_pred = model(x)\n",
    "        total_test_loss += critirion(y_pred, y).item()\n",
    "        batch_accuracy = (\n",
    "            (y.max(dim=1)[1] == y_pred.max(dim=1)[1])\n",
    "            .sum()\n",
    "            .item()\n",
    "        ) / y.shape[0]\n",
    "        total_accuracy += batch_accuracy\n",
    "\n",
    "    return {\n",
    "        \"validation_loss\": total_test_loss / len(validation_loader),\n",
    "        \"validation_accuracy\": total_accuracy / len(validation_loader),\n",
    "    }\n",
    "\n",
    "def mk_checkpoint(\n",
    "        epoch:int,\n",
    "        model: torch.nn.Module,\n",
    "        scheduler: LRScheduler,\n",
    "        optimizer: torch.optim.Optimizer\n",
    "    ) -> dict:\n",
    "    return {\n",
    "        \"epoch\": epoch,\n",
    "        \"model\": model.state_dict(),\n",
    "        \"optimizer\": optimizer.state_dict(),\n",
    "        \"scheduler\": scheduler.state_dict(),\n",
    "    }\n",
    "\n",
    "def save_checkpoint(checkpoint:dict, parent_dir:str, is_best_checkpoint=False):\n",
    "    # Create model name\n",
    "    checkpoint_filename = mk_date_now_str() + \".pth\"\n",
    "    # Save model\n",
    "    os.makedirs(parent_dir, exist_ok=True)\n",
    "    checkpoint_path = os.path.join(parent_dir, checkpoint_filename)\n",
    "    torch.save(checkpoint, checkpoint_path)\n",
    "    mk_symlink(checkpoint_path, os.path.join(parent_dir, \"latest_checkpoint.pth\"))\n",
    "    if is_best_checkpoint:\n",
    "        mk_symlink(checkpoint_path, os.path.join(parent_dir, \"best_checkpoint.pth\"))\n",
    "\n",
    "def mk_date_now_str() -> str:\n",
    "    return datetime.now().strftime(\"%d-%m-%Y_%H-%M\")\n",
    "\n",
    "def mk_symlink(dest:str, symlink_path:str):\n",
    "    if os.path.islink(symlink_path) or os.path.exists(symlink_path):\n",
    "        os.remove(symlink_path)\n",
    "    os.symlink(dest, symlink_path)"
   ]
  },
  {
   "cell_type": "code",
   "execution_count": null,
   "id": "fe1e327c",
   "metadata": {},
   "outputs": [
    {
     "data": {
      "application/vnd.jupyter.widget-view+json": {
       "model_id": "a4b519f1a9714f3f8372c84e0d91a278",
       "version_major": 2,
       "version_minor": 0
      },
      "text/plain": [
       "Output()"
      ]
     },
     "metadata": {},
     "output_type": "display_data"
    },
    {
     "data": {
      "text/html": [
       "<pre style=\"white-space:pre;overflow-x:auto;line-height:normal;font-family:Menlo,'DejaVu Sans Mono',consolas,'Courier New',monospace\">validation loss: <span style=\"color: #008080; text-decoration-color: #008080; font-weight: bold\">2.7407733372279575</span>\n",
       "</pre>\n"
      ],
      "text/plain": [
       "validation loss: \u001b[1;36m2.7407733372279575\u001b[0m\n"
      ]
     },
     "metadata": {},
     "output_type": "display_data"
    },
    {
     "data": {
      "text/html": [
       "<pre style=\"white-space:pre;overflow-x:auto;line-height:normal;font-family:Menlo,'DejaVu Sans Mono',consolas,'Courier New',monospace\">validation loss: <span style=\"color: #008080; text-decoration-color: #008080; font-weight: bold\">2.596947227205549</span>\n",
       "</pre>\n"
      ],
      "text/plain": [
       "validation loss: \u001b[1;36m2.596947227205549\u001b[0m\n"
      ]
     },
     "metadata": {},
     "output_type": "display_data"
    },
    {
     "data": {
      "text/html": [
       "<pre style=\"white-space:pre;overflow-x:auto;line-height:normal;font-family:Menlo,'DejaVu Sans Mono',consolas,'Courier New',monospace\">validation loss: <span style=\"color: #008080; text-decoration-color: #008080; font-weight: bold\">2.57002626146589</span>\n",
       "</pre>\n"
      ],
      "text/plain": [
       "validation loss: \u001b[1;36m2.57002626146589\u001b[0m\n"
      ]
     },
     "metadata": {},
     "output_type": "display_data"
    },
    {
     "data": {
      "text/html": [
       "<pre style=\"white-space:pre;overflow-x:auto;line-height:normal;font-family:Menlo,'DejaVu Sans Mono',consolas,'Courier New',monospace\">validation loss: <span style=\"color: #008080; text-decoration-color: #008080; font-weight: bold\">2.5241240092686246</span>\n",
       "</pre>\n"
      ],
      "text/plain": [
       "validation loss: \u001b[1;36m2.5241240092686246\u001b[0m\n"
      ]
     },
     "metadata": {},
     "output_type": "display_data"
    },
    {
     "data": {
      "text/html": [
       "<pre style=\"white-space:pre;overflow-x:auto;line-height:normal;font-family:Menlo,'DejaVu Sans Mono',consolas,'Courier New',monospace\">validation loss: <span style=\"color: #008080; text-decoration-color: #008080; font-weight: bold\">2.516265426363264</span>\n",
       "</pre>\n"
      ],
      "text/plain": [
       "validation loss: \u001b[1;36m2.516265426363264\u001b[0m\n"
      ]
     },
     "metadata": {},
     "output_type": "display_data"
    },
    {
     "data": {
      "text/html": [
       "<pre style=\"white-space:pre;overflow-x:auto;line-height:normal;font-family:Menlo,'DejaVu Sans Mono',consolas,'Courier New',monospace\">validation loss: <span style=\"color: #008080; text-decoration-color: #008080; font-weight: bold\">2.4869319030216763</span>\n",
       "</pre>\n"
      ],
      "text/plain": [
       "validation loss: \u001b[1;36m2.4869319030216763\u001b[0m\n"
      ]
     },
     "metadata": {},
     "output_type": "display_data"
    }
   ],
   "source": [
    "TRAINING_EPOCHS = 60\n",
    "STARTING_LR = 0.0005\n",
    "model = Resnet(in_channels=17, depth=4, mlp_width=256, n_class=18)\n",
    "optimizer = torch.optim.AdamW(model.parameters(), STARTING_LR)\n",
    "constant_lr_scheduler = ConstantLR(optimizer, factor=1, total_iters=len(train_data_loader) * TRAINING_EPOCHS)\n",
    "training_metrics = fit(\n",
    "    epochs=TRAINING_EPOCHS,\n",
    "    model=model,\n",
    "    scheduler=constant_lr_scheduler,\n",
    "    optimizer=optimizer,\n",
    "    train_loader=train_data_loader,\n",
    "    criterion=nn.CrossEntropyLoss(),\n",
    "    evaluation_func=evaluate_model,\n",
    "    validation_loader=validation_data_loader,\n",
    "    save_checkpoints=True,\n",
    ")"
   ]
  },
  {
   "cell_type": "code",
   "execution_count": 85,
   "id": "4619c4fe",
   "metadata": {},
   "outputs": [
    {
     "data": {
      "application/vnd.plotly.v1+json": {
       "config": {
        "plotlyServerURL": "https://plot.ly"
       },
       "data": [
        {
         "hovertemplate": "variable=batch_train_loss<br>step=%{x}<br>value=%{y}<extra></extra>",
         "legendgroup": "",
         "marker": {
          "color": "#636efa",
          "symbol": "circle"
         },
         "mode": "markers",
         "name": "",
         "showlegend": false,
         "type": "scattergl",
         "x": {
          "bdata": "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",
          "dtype": "i2"
         },
         "xaxis": "x2",
         "y": {
          "bdata": "AAAAoE4gB0AAAADg2gQHQAAAAADU2AZAAAAAoKS1BkAAAADgR5MGQAAAACA4vwZAAAAA4KSrBkAAAACAuHkGQAAAAIB7hgZAAAAAgKtwBkAAAACAmTYGQAAAAGCj7gVAAAAAAOYbBkAAAABA2wgGQAAAAACjDAZAAAAAwHj6BUAAAACgZikGQAAAAAB8mAVAAAAAQLu5BUAAAACgxIoFQAAAAIAn6wVAAAAAAFpmBUAAAACgBOwFQAAAACCm3wVAAAAAoD8PBkAAAAAAXNMFQAAAAGCfPgVAAAAAQBKjBUAAAACAU4IFQAAAAAA7dAVAAAAA4NPMBUAAAACAxJgFQAAAAKCjRgVAAAAAAIZyBUAAAAAAH04FQAAAAMCCYAVAAAAAwAJsBUAAAABApmwFQAAAAECUfQVAAAAAYN1wBUAAAADA7kwFQAAAAEAdpgVAAAAAgCdkBUAAAADgwmoFQAAAAOCrFgVAAAAAwIciBUAAAAAgixAFQAAAAKAa+QRAAAAAgFvuBEAAAACAU/oEQAAAAMCxUwVAAAAAIMbNBEAAAADgCxwFQAAAAOAFggRAAAAAwNjlBEAAAACA3xEFQAAAAGAX8wRAAAAAQNf8BEAAAAAAKdoEQAAAAOBjYwVAAAAAwOf+BEAAAABAsC8FQAAAAIBKLwVAAAAAABepBEAAAABA6DQFQAAAAMD5uwRAAAAAwNl7BEAAAACgnwEFQAAAAMDW7wRAAAAA4Hm8BEAAAADADSkFQAAAAKA6swRAAAAAwIKyBEAAAAAAIQoFQAAAACCBqwRAAAAAAOrGBEAAAAAA8o8EQAAAAODQ0ARAAAAAwB2RBEAAAADgKYYEQAAAACCiZwRAAAAAoHWEBEAAAACAaXkEQAAAAGCD0ARAAAAAQPeqBEAAAAAASKUEQAAAAIBQjQRAAAAAIFnzBEAAAABgW98EQAAAAMDdwgRAAAAAoHibBEAAAADAv84EQAAAAEC6vARAAAAA4K7DBEAAAABgRZEEQAAAAGCPnwRAAAAA4NbyBEAAAACgf8YEQAAAAOBPYARAAAAAIMytBEAAAABAkI8EQAAAAIDEawRAAAAAgMLzBEAAAACAv9gEQAAAAACW4gNAAAAAQNjLBEAAAADg6LkEQAAAAMC+nQRAAAAAQLnKBEAAAADAy0AEQAAAAOC2JgRAAAAAoH9RBEAAAACARTIEQAAAAGDvcARAAAAA4MHBBEAAAACgaYkEQAAAAAB40wRAAAAAQLWbBEAAAABgYVsEQAAAAEABuwRAAAAAQCG3BEAAAADAj/cDQAAAAOA4RwRAAAAAoFbFBEAAAADAI2oEQAAAACCDzwNAAAAAYESQBEAAAAAABc4EQAAAAAAYUARAAAAAgJGrBEAAAACAsuYDQAAAAKCXUgRAAAAAABB8BEAAAADAc2QEQAAAACDQWARAAAAAQAE+BEAAAADAWdQEQAAAAMBgWgRAAAAAoBRxBEAAAADAqnkEQAAAAGBicQRAAAAAAJCKBEAAAACg+1EEQAAAACAZigRAAAAAIKfWA0AAAAAAn1QEQAAAAKAvTQRAAAAAgKkFBEAAAAAg0VAEQAAAAKAtNQRAAAAAADVyBEAAAACAISoEQAAAAIAYIQRAAAAAgIjrA0AAAAAAaGQEQAAAAAAPMwRAAAAAICTPA0AAAADgOW4EQAAAAEDfMQRAAAAAoEEaBEAAAADgYQkEQAAAAEAIAARAAAAAwI4VBEAAAABAfSMEQAAAAGBKZARAAAAA4Lk1BEAAAABAoB8EQAAAAAA5VQRAAAAAYKE8BEAAAACA+kEEQAAAAMA0DQRAAAAAgEXQA0AAAADAemwEQAAAAKDP8ANAAAAA4Jm0BEAAAADglUAEQAAAAIARJgRAAAAAIEryA0AAAACg7boDQAAAAEDBmANAAAAAoPmUBEAAAAAgWjEEQAAAAMDw2gNAAAAAoB00BEAAAAAAMUcEQAAAAGBSUgRAAAAAQHLNA0AAAABg8zsEQAAAAAC+PARAAAAAgJa3A0AAAADA12gEQAAAACAp/QNAAAAAwNPJA0AAAABgPjgEQAAAAKBV6wNAAAAAwFrMA0AAAAAgde8DQAAAAMDsNARAAAAA4FPeA0AAAADADdcDQAAAAECG0QNAAAAAQJblA0AAAABAzesDQAAAAKBJtQNAAAAAoACBA0AAAADgWVYEQAAAAEDGsARAAAAAwJMFBEAAAABADAIEQAAAAKBOMwRAAAAAABx9A0AAAABg7LcDQAAAAGA67wNAAAAAwEstBEAAAACAZIwDQAAAAKCo0QNAAAAAQL+ZA0AAAAAg26QDQAAAACBbcQRAAAAAwD8hBEAAAABgGDEEQAAAAADG1wNAAAAAgATCA0AAAAAgRsUDQAAAAEDlIARAAAAA4O4TBEAAAACgsR4EQAAAAEBQPgRAAAAAQLa1A0AAAACAMvsDQAAAAGAdCARAAAAA4H/fA0AAAAAA7ygEQAAAAMA3QwNAAAAA4FGaA0AAAABgcAoEQAAAAKDmawNAAAAAAKS4A0AAAAAAm64DQAAAAEADiQNAAAAAYBmfA0AAAADAKZoDQAAAAAAYnQNAAAAAADQGBEAAAAAA/IwDQAAAAACibgNAAAAAQO5pA0AAAACAwy4EQAAAAKCbCwRAAAAAQHJSBEAAAADArQAEQAAAAIAQDARAAAAAoLVFBEAAAACgAdIDQAAAACD4LARAAAAAwL/KA0AAAAAAUoQEQAAAAECkswNAAAAAAB2sA0AAAAAgta4DQAAAAAAVDwNAAAAAwC/RA0AAAABA198DQAAAAOCiCwRAAAAAoNicA0AAAAAg4uEDQAAAAAA5ggNAAAAAgLJyA0AAAADAyLIDQAAAACBEkANAAAAAAD64A0AAAAAA1WsEQAAAACCM3wNAAAAAIITSA0AAAACAD34DQAAAAMBt3QNAAAAAANViA0AAAACA4JoDQAAAACC73ANAAAAA4AAYBEAAAADgZgwEQAAAAODdBARAAAAAwBa7A0AAAAAAwHoDQAAAAKAbFARAAAAAAMkEBEAAAADAtssDQAAAAMDmKQNAAAAAANbTA0AAAACA6Z8DQAAAAACCaQNAAAAAwD/CA0AAAADAFL4DQAAAAKC2rANAAAAAoOTBA0AAAAAgmJYDQAAAAMD58ANAAAAAYA24A0AAAADArNkDQAAAAKBdmwNAAAAAgFITBEAAAAAgEAEEQAAAAEBWjANAAAAAQJ/OA0AAAABAp+oDQAAAAGAe+gNAAAAAgNNLA0AAAABAXAkEQAAAAACz6gNAAAAAQLOyA0AAAABAm9QDQAAAAADRagNAAAAAIAvFA0AAAADgOD8DQAAAAIBSnANAAAAAQDBPA0AAAAAAdJ4DQAAAAOBSxwNAAAAA4Gf+A0AAAAAgsK8DQAAAAMD8cQNAAAAAYC9zA0AAAACANmcDQAAAAOCorgNAAAAAQCV0A0AAAACg06sDQAAAAGBXnANAAAAAAN59BEAAAAAABEkDQAAAAGAFUQNAAAAAIM+SA0AAAABg1CYDQAAAAIAR7gNAAAAA4NDUA0AAAADgdUcDQAAAACAG/gNAAAAAoBbAA0AAAAAADD0DQAAAAADitANAAAAAgKrbA0AAAACgP68DQAAAAADGtwNAAAAAAJd9A0AAAACgQ04DQAAAAOArKgNAAAAA4LsaBEAAAAAgq7gDQAAAAMCS0gNAAAAAAITRA0AAAACgf2IDQAAAAEDvrwNAAAAAgEs1A0AAAAAgmTsDQAAAAIA3VgNAAAAAwLmMA0AAAABAeYwDQAAAAEBPpwNAAAAAIMCCA0AAAADAjWEDQAAAAMAtcQNAAAAAQIN7A0AAAACAAykDQAAAAOB2vQNAAAAAAGLOA0AAAABgMSUDQAAAACChUgNAAAAAQB6eA0AAAAAg+usDQAAAAIBYxANAAAAAAEqwA0AAAACgc5UDQAAAAMDzSwNAAAAAgMUWA0AAAAAASNMDQAAAAKAFAgNAAAAAgIbGA0AAAADgwsQDQAAAAADdnQNAAAAAYHF8A0AAAABg+poDQAAAAOC7QgNAAAAAQJSeA0AAAADgJnADQAAAAIA5hwNAAAAAAGIlA0AAAABAEmMDQAAAAIDzZgNAAAAAwOqEA0AAAACA02cDQAAAAIDWDwNAAAAAYDYEA0AAAABgX3ADQAAAAGCqhQNAAAAAAAt/A0AAAADArHQDQAAAAEDHcwNAAAAAgD88A0AAAAAA+4wDQAAAAGDjDANAAAAAgOryAkAAAABA1kkDQAAAAOAFOwNAAAAAoNR+A0AAAABAFS0DQAAAACCDygNAAAAAQNpeA0AAAACAgHIDQAAAACA9LANAAAAAgFFAA0AAAADgWloDQAAAAECRmANAAAAAYL10A0AAAADA4aADQAAAAKDdhwNAAAAAwDNoA0AAAADAR8oDQAAAAKCiJQNAAAAAQHXgAkAAAABAFzcDQAAAAGDXHgNAAAAAwBSBA0AAAAAgXbMDQAAAAACOHwNAAAAAIIuGA0AAAADgFncDQAAAAGBw+gJAAAAAAIs1A0AAAABghEcDQAAAAIC1BQNAAAAA4BVNA0AAAAAgtqoDQAAAAABGKQNAAAAAwIa+A0AAAAAAcYgDQAAAACC0DgNAAAAAwK8VA0AAAABguPwCQAAAAMBdtANAAAAAQKilA0AAAACg6hAEQAAAAGCJRANAAAAAQFaTA0AAAABAXTkDQAAAACBVTwNAAAAAYHSXA0AAAACAX3YDQAAAAAC+HANAAAAAQJWBA0AAAABANv0CQAAAAMCpTANAAAAAwCY/A0AAAADAMvUCQAAAAOAZbANAAAAAoF5XA0AAAAAg+IcDQAAAAGCQZANAAAAAYG88A0AAAABguSsDQAAAAIBtiQJAAAAAwIh5A0AAAADAVNACQAAAAACoYwNAAAAAQCJ9A0AAAAAgtHMDQAAAAIA1TwNAAAAAgFs7A0AAAAAASQ8DQAAAAIB6wANAAAAAAJNCA0AAAABABC8DQAAAAAA/xAJAAAAAYAl6A0AAAABg5QgDQAAAAIB+fANAAAAAALUKA0AAAACAh0cDQAAAAIDBfANAAAAAIOciA0AAAABALCoDQAAAAMADRANAAAAAQIYFA0AAAADghhEDQAAAACBIVwNAAAAAoIECA0AAAADACQgDQAAAAICu5gJAAAAAAGIhA0AAAADgRC0DQAAAAMD+wQJAAAAAgMFxA0AAAAAgrjgDQAAAAMDq4wJAAAAAAPIGA0AAAACAImkDQAAAAGB6lgJAAAAAwKQLA0AAAADACJ0CQAAAAIC7XwNAAAAAwK80A0AAAABAOQADQAAAACCT+gJAAAAAoI7WAkAAAACgT9YCQAAAACCOcQNAAAAAYKGiAkAAAABAYHQDQAAAAAAhHwNAAAAAgCMbA0AAAACAsxADQAAAAMC2MgNAAAAAgAfZAkAAAABAdxsDQAAAAKAEXgNAAAAAANFhA0AAAADAjC8DQAAAAGD4vQJAAAAAQBMUA0AAAACgTzoDQAAAAOA/hwNAAAAA4G+hA0AAAADAtBYDQAAAAADkUANAAAAAoG3RAkAAAADAFa0CQAAAACDSHwNAAAAA4BohA0AAAAAgXfgCQAAAAIAUrgJAAAAAQPk6A0AAAABgN9YCQAAAAOA//QJAAAAA4KdUA0AAAAAAcEQDQAAAAECP1wJAAAAAAGhEA0AAAAAAvecCQAAAAKAD5wJAAAAAwG8bA0AAAACgy0ADQAAAAAByBANAAAAAYIqcAkAAAAAAKxsDQAAAAAA0MANAAAAAAKwLA0AAAAAg1GQDQAAAACCnZgNAAAAAAGOfAkAAAADAnPwCQAAAAAAlFQNAAAAAQIH+AkAAAAAA7t8CQAAAAADHAQNAAAAAANyZAkAAAACgvSoDQAAAACA6TANAAAAAQIKfA0AAAADAAGICQAAAAOACEQNAAAAA4CLhAkAAAABAlP0CQAAAACCbNwNAAAAAwEpjA0AAAABAKNgCQAAAAGBjoQJAAAAAQPb4AkAAAACAIBcDQAAAAICZIQNAAAAAoLUnA0AAAADgudsCQAAAAOB54AJAAAAAAOP7AkAAAABAsnUDQAAAAIAs/AJAAAAAYLKAAkAAAABAFzADQAAAAGB4vAJAAAAAwL29AkAAAADg878CQAAAAAC/NwNAAAAAQNLCAkAAAAAgOQYDQAAAAODxLgNAAAAAYFzmAkAAAABAtAgDQAAAAMCTvAJAAAAAwLvMAkAAAADArTgDQAAAACCmpAJAAAAAAOoVA0AAAACAwg0DQAAAAAABKANAAAAAQCIbA0AAAADAKewCQAAAAGAR0QJAAAAAAPoBA0AAAABAtMMCQAAAAIB9swJAAAAAQOEvA0AAAAAArbgCQAAAAKCF0AJAAAAAoC41A0AAAAAgOd0CQAAAAGB3CwNAAAAAgISWAkAAAAAggLUCQAAAAIC8EANAAAAAgIWSAkAAAACAT/ECQAAAAKBoMANAAAAAYIvIAkAAAAAAVO0CQAAAAED1vwJAAAAAgHwzA0AAAABgPA8DQAAAAABqIwNAAAAAINFtAkAAAADAedMCQAAAAKCaygJAAAAAYFb/AkAAAACAsTgDQAAAAMDWcAJAAAAAIJbRAkAAAADg99UCQAAAAKC4sQJAAAAAoCH7AkAAAADAt8wCQAAAAKBRLANAAAAA4PiDAkAAAAAgFqkCQAAAAAAbLANAAAAAAJjKAkAAAACAi9MCQAAAAIBv4QJAAAAAgI7gAkAAAACAIKMCQAAAAEApAANAAAAAYMwLA0AAAACAi/kCQAAAAMDNnQJAAAAAgO7QAkAAAAAAZVgCQAAAAACdVANAAAAA4CHEAkAAAAAge10CQAAAAEAO/gJAAAAAwIenAkAAAACAEO4CQAAAACAEmQJAAAAAIJ3mAkAAAABAG8sCQAAAAAC/1wJAAAAAQPDoAkAAAADgHfMCQAAAAGAGrgJAAAAAYN3OAkAAAADgopECQAAAAIA2jgJAAAAAAN+nAkAAAACAGUIDQAAAAKCOyAJAAAAAQKEFA0AAAADgYO0CQAAAAGDdzgJAAAAAYCLUAkAAAABgLAkDQAAAAADGpwJAAAAAIC2vAkAAAAAAOPUCQAAAAIAx0AJAAAAAgKvGAkAAAACgkvACQAAAAADWDANAAAAAID+/AkAAAACgk8kCQAAAAMAgmAJAAAAAIMDmAkAAAABg0AEDQAAAAECLKQNAAAAAQMviAkAAAADA7AcDQAAAAMAX/wJAAAAAQI/iAkAAAACgFb8CQAAAAMDbjAJAAAAAAEUXA0AAAACA2VYCQAAAAADdowJAAAAAYGPxAkAAAACgKgsDQAAAAGDwoQJAAAAAIE97AkAAAADAjdkCQAAAAMCgxAJAAAAA4GrvAkAAAAAAJ+kCQAAAAGDbfgJAAAAAwNUBA0AAAADgoZ4CQAAAAOD88AJAAAAAQHTeAkAAAADgk84CQAAAAADj8AJAAAAAoPnKAkAAAABAANYCQAAAAABf6AJAAAAAgBYIA0AAAADAT9QCQAAAACBzmAJAAAAA4AsNA0AAAACgHO4CQAAAAODa3gJAAAAA4AqCAkAAAABg94wCQAAAAMBriQJAAAAAAJKIAkAAAABAq+QCQAAAAABa+QJAAAAAQFujAkAAAAAAtgADQAAAAAC3CwNAAAAAgAGbAkAAAADgqHMCQAAAAICMMANAAAAAAGmfAkAAAACAPIcCQAAAAOB7hwJAAAAAwLLvAkAAAADgEN4CQAAAAABKwgJAAAAAYLDDAkAAAABASXQCQAAAAEBuYAJAAAAAIGuNAkAAAABAH7MCQAAAAAD8AgNAAAAAQNSdAkAAAAAgRAEDQAAAAKAdHgNAAAAA4AXBAkAAAAAgN5ECQAAAAGDNrAJAAAAAYFiIAkAAAAAg7IACQAAAAIDavQJAAAAAQL/KAkAAAAAA6kUCQAAAAABBDANAAAAA4K47A0AAAACAhqkCQAAAAABp7AJAAAAAgD3mAkAAAADgKd4CQAAAAIBQ7AJAAAAAAPweAkAAAADA5UcCQAAAACDfRAJAAAAAgIGqAkAAAADA8LUCQAAAAIAJtwJAAAAAgH+WAkAAAAAAUgwDQAAAACCIugJAAAAAwGSxAkAAAAAgWYUCQAAAAABTuQJAAAAAYLpIAkAAAAAAZ9QCQAAAAGCk7gJAAAAA4EDJAkAAAABAIGsCQAAAAEDLtgJAAAAAYMd3AkAAAADgzoECQAAAAAAVtAJAAAAAgO1dAkAAAAAgYOICQAAAAMCfEgNAAAAAAMOaAkAAAAAAtKgCQAAAACACgwJAAAAAYKl4AkAAAABgbE4CQAAAACCXdgJAAAAAAFO1AkAAAACAgo8CQAAAACAKnwJAAAAAwPK+AkAAAABgXDsCQAAAAGDuxwJAAAAAwACiAkAAAAAA5WkCQAAAAICyewJAAAAAYBlZAkAAAADA/VMCQAAAAKCKdwJAAAAAQF1XAkAAAAAA6KACQAAAAMB2rgJAAAAAACpiAkAAAADADYwCQAAAAECDwQJAAAAAoK5kAkAAAADgzqUCQAAAAOCqNwJAAAAA4LOfAkAAAAAgP80CQAAAACCwTgNAAAAA4CEGAkAAAADA6okCQAAAAIDQZgJAAAAA4AevAkAAAADABYUCQAAAAAAwzAJAAAAAQEFdAkAAAAAghksCQAAAACB3rwJAAAAAYI5QAkAAAADgzqMCQAAAAACXaQJAAAAAgHy7AkAAAAAA3xgCQAAAAKCZYAJAAAAA4Cd0AkAAAAAAFBwCQAAAAICYvwFAAAAA4IxzAkAAAADgor0CQAAAAIDDWAJAAAAAYCiNAkAAAAAg8r0CQAAAAODxWQJAAAAAABfdAkAAAABgaR0CQAAAAABTgAJAAAAA4LAUAkAAAADA++UBQAAAAECQJAJAAAAAgH77AUAAAABAVywCQAAAAMChNAJAAAAAQBPwAUAAAACAMDECQAAAAAALbwJAAAAAAB2ZAkAAAADgRWACQAAAACAbVwJAAAAAAMqqAkAAAABgw2ACQAAAAOB0SAJAAAAAoM44AkAAAACgvTkCQAAAAECPNgJAAAAAIOJzAkAAAACgyDcCQAAAAKDbDAJAAAAAgCJtAkAAAADAJBICQAAAAIC+sAJAAAAAwMpEAkAAAACAEOgBQAAAAKAuwwFAAAAAIEvPAUAAAAAATgACQAAAAEDC1AFAAAAAYJY8AkAAAAAg+QsCQAAAAOB5QgJAAAAAQIpbAkAAAABAy3QCQAAAAIDqGgJAAAAAoPM3AkAAAAAgrTgCQAAAAEB2IwJAAAAAIIa4AUAAAADAR+4BQAAAAMCjPAJAAAAAYOlCAkAAAAAAxAQCQAAAAGBH9gFAAAAAgHWxAUAAAADAC+sBQAAAAECuzwFAAAAAAOLfAUAAAABgcGMCQAAAAIDP+wFAAAAAIC4lAkAAAACgt9QBQAAAAOAYNgJAAAAAoODwAUAAAAAAqTsCQAAAAMBJkwFAAAAAYKKNAUAAAADgSxQCQAAAAKApQwJAAAAAwEDwAUAAAAAA4EUCQAAAAKDlQQJAAAAAwAb8AUAAAADAAS4CQAAAAMAdEwJAAAAAoCvDAUAAAABAy+ABQAAAAGAkuQFAAAAAoGH3AUAAAAAAw7gBQAAAAABw0QFAAAAAgPn/AUAAAAAghrgBQAAAACCVBAJAAAAAwL6YAUAAAAAAbfUBQAAAAOAK2QFAAAAAAHEgAkAAAABAHOYBQAAAAMDx8QFAAAAAgAbYAUAAAADgQZwBQAAAAECbuAFAAAAAAJevAUAAAADAPK8BQAAAAACSggFAAAAAoAPZAUAAAABA29cBQAAAAEDYQAJAAAAAgCL4AUAAAAAAAwcCQAAAAMBtHgJAAAAAQA26AUAAAAAAgOcBQAAAAEBKEQJAAAAAQN2+AUAAAADg/8ABQAAAAMBYwgFAAAAAYKTzAUAAAACAswoCQAAAAOCzHAJAAAAAgAl/AUAAAAAgSqgBQAAAACBktwFAAAAAwP/MAUAAAAAgDq4BQAAAAMC5SAJAAAAAoGgEAkAAAAAA8YwBQAAAAMBi+QFAAAAAAPP5AUAAAAAgwwUCQAAAAED+hQFAAAAAQBebAUAAAADAdgkCQAAAAICl+gFAAAAAwGftAUAAAACAD7gBQAAAAGCfiAFAAAAAAGl9AUAAAADg3Y4BQAAAAMCBTwFAAAAAYIPxAUAAAAAAkuMBQAAAAACz8AFAAAAAQC7tAUAAAABA/IwBQAAAAKBhhwFAAAAAIFUIAkAAAAAAuOMBQAAAAECplAFAAAAAwCPSAUAAAACAgrkBQAAAACDvmgFAAAAAYOhzAUAAAAAAy7ABQAAAAICcegFAAAAAAEmyAUAAAAAAZcgBQAAAAEBQ5AFAAAAAYB6OAUAAAACgX3ABQAAAAMD5eQFAAAAAYPfGAUAAAAAg7I8BQAAAAABJ1QFAAAAAAJ4VAkAAAADg0pQBQAAAAKDXogFAAAAAAAePAUAAAACArucBQAAAACBpjgFAAAAAQE2rAUAAAADgo8EBQAAAAGBsfgFAAAAAgMOfAUAAAACAQHEBQAAAAADk3QFAAAAAoCqLAUAAAABAUXsBQAAAAED64QFAAAAA4FbrAUAAAABAQXEBQAAAAEB0lAFAAAAAYMPJAUAAAADg7s0BQAAAAKCZ1wFAAAAAgJ1/AUAAAADgFV8BQAAAAMCYgQFAAAAAIMNoAUAAAACgHHoBQAAAAKCG0QFAAAAAQLeYAUAAAAAAnJIBQAAAACDApQFAAAAA4CyNAUAAAACAcxkCQAAAAGCYdQFAAAAAQOLAAUAAAADAV7MBQAAAAMBucQFAAAAAYDCyAUAAAAAArpUBQAAAACCv4gFAAAAA4P61AUAAAADAY5MBQAAAAACHbwFAAAAAYP9pAUAAAAAAfagBQAAAAIA8mAFAAAAAoMl/AUAAAAAgx2sBQAAAAMA+oAFAAAAA4AGIAUAAAACgq2sBQAAAAIBU/QFAAAAAgC8+AUAAAABgSIABQAAAAOCzggFAAAAAwGbUAUAAAAAgS7IBQAAAAABmmAFAAAAAAD+/AUAAAABAiN0BQAAAAGCPjwFAAAAA4JBtAUAAAAAAITYBQAAAAIDstQFAAAAA4FS6AUAAAAAgGWoBQAAAACBESQFAAAAAYK/FAUAAAACAfGUBQAAAAEDZpgFAAAAA4DuHAUAAAAAgXV8BQAAAAKDKaAFAAAAAAPGqAUAAAADAj9QBQAAAAADHVgFAAAAAQGEqAkAAAADgi64BQAAAAKAIvAFAAAAAQDhAAUAAAAAAbrsBQAAAAAD2ewFAAAAA4MRhAUAAAACAaKYBQAAAAGBwuAFAAAAAwK6mAUAAAACgStQBQAAAAKCZcAFAAAAA4G5/AUAAAACgyU8BQAAAAIA32QFAAAAAIB5uAUAAAABA1lUBQAAAAOCGkAFAAAAAQEKhAUAAAAAA7LwBQAAAACAzqwFAAAAAAFFoAUAAAABgynsBQAAAAMD9tQFAAAAAgKdNAUAAAACgQLkBQAAAAOBqMwFAAAAAYCTGAUAAAAAgjbABQAAAAMAfwAFAAAAA4Cx/AUAAAACARJoBQAAAACBIcgFAAAAAYEVmAUAAAADg+acBQAAAAMAagQFAAAAAgC2GAUAAAACANWYBQAAAAMDGbQFAAAAAwGz9AUAAAADADG4BQAAAAMCIgAFAAAAAgPryAUAAAADAaJsBQAAAAGDCJgFAAAAA4HK5AUAAAABgwzgBQAAAAMAXkAFAAAAAILSnAUAAAABAdIoBQAAAACC9lQFAAAAAgCq1AUAAAADgcfMBQAAAAEDVRQFAAAAAwD5OAUAAAAAgj6MBQAAAAGAKMwFAAAAAAKOAAUAAAAAAHYABQAAAAKBYfwFAAAAAwA1iAUAAAACgQ8gBQAAAAMCk1gFAAAAAAI8FAUAAAAAA3lwBQAAAAAA0fgFAAAAAwImYAUAAAAAgzmwBQAAAAADPcwFAAAAAoER1AUAAAAAAyWoBQAAAAIDNgAFAAAAAwJhrAUAAAACA1iMBQAAAAGDSjgFAAAAAgIhyAUAAAAAgyEQBQAAAAEADPwFAAAAAIN8sAUAAAABg/qoBQAAAAMDCcgFAAAAAoGvNAUAAAAAgXTcBQAAAAIDV7gFAAAAAQAB6AUAAAABgU68BQAAAAOCqNwFAAAAAwPRGAUAAAACAxyUBQAAAAIDXtgFAAAAAYEqtAUAAAACgEqIBQAAAAODWegFAAAAAIID5AEAAAADge5EBQAAAAOD1WQFAAAAAAGppAUAAAACgDTQBQAAAAMAfpAFAAAAAAGVvAUAAAAAgj0gBQAAAAKBfgwFAAAAAgIZaAUAAAACgAEcBQAAAAMCepgFAAAAAoO+jAUAAAACAr+8AQAAAAMCNLwFAAAAAQKdYAUAAAACA2XQBQAAAAKADeAFAAAAAQFCHAUAAAADAoZQBQAAAAMC5ZAFAAAAAgK99AUAAAAAgMoYBQAAAAID1zwFAAAAA4BEvAUAAAABASnQBQAAAAAA3nwFAAAAAYLhOAUAAAAAgbF8BQAAAAAAbiQFAAAAAwEpEAUAAAACAcGwBQAAAAEDlYwFAAAAAgB1pAUAAAADAUE0BQAAAAGAlcQFAAAAAYNehAUAAAABg51wBQAAAAABkBAFAAAAAwDxsAUAAAADg3GYBQAAAAOBFaQFAAAAAoFFLAUAAAABATxoBQAAAAOBiVgFAAAAAAIRNAUAAAAAgaRoBQAAAAACqfwFAAAAAgIFqAUAAAACAmJYBQAAAAABGPgFAAAAAwOJIAUAAAACAgFABQAAAAEClZgFAAAAA4BpgAUAAAADg1VkBQAAAAGBCEwFAAAAAQEw4AUAAAADAPb0BQAAAAIBYHQFAAAAAAFBUAUAAAACAx2MBQAAAAIA9MAFAAAAAABtMAUAAAADAZskBQAAAAGBqWwFAAAAAAHunAUAAAAAAYmgBQAAAAEBnFgFAAAAAoEAqAUAAAACggDUBQAAAAABnoQFAAAAAQGVqAUAAAAAAoFgBQAAAAMBiEgFAAAAAIOSvAUAAAADAZh8BQAAAAODCUwFAAAAAoCtcAUAAAADgQykBQAAAAICPQAFAAAAAQD71AEAAAABgyY0BQAAAAMDXVQFAAAAAwPSZAUAAAABgk4oBQAAAAOAFegFAAAAAQPdkAUAAAADA/WcBQAAAAKCLZQFAAAAAQK2ZAUAAAABAB18BQAAAAICpagFAAAAAoA5YAUAAAACAw+4AQAAAAEBkPAFAAAAAYKRmAUAAAABgQ6wBQAAAAOCEIwFAAAAAoB0pAUAAAAAg0GABQAAAAIBhFgFAAAAA4CQ+AUAAAABAaKsBQAAAAOCRiwFAAAAAYPlJAUAAAABAoioBQAAAAIAOZAFAAAAAIAx1AUAAAAAALUUBQAAAAMDcKQFAAAAAwCWkAUAAAAAgtUYBQAAAAIASNgFAAAAAwK9IAUAAAADgfZQBQAAAAOAqOQFAAAAAYDRGAUAAAAAgd3wBQAAAAOBoeAFAAAAAQC5FAUAAAAAgM5MBQAAAAMDRPAFAAAAAgN9dAUAAAACgu9ABQAAAAODCogFAAAAAIMVTAUAAAACA6EgBQAAAAKDnMgFAAAAAAEYNAUAAAACATX8BQAAAACDKagFAAAAAQNLiAEAAAADgTmEBQAAAAEDKIQFAAAAAAIt4AUAAAABg5boBQAAAAABaZgFAAAAAgFZcAUAAAADAOEIBQAAAAGDLPQFAAAAAQL9gAUAAAABAp4cBQAAAAEAnGAFAAAAAAFRcAUAAAABgY1QBQAAAAMD9PgFAAAAAgMZgAUAAAADAMM8BQAAAAGAznQFAAAAAQPJKAUAAAABAn4IBQAAAAOAwlAFAAAAAoEQyAUAAAACApHgBQAAAAGBBNwFAAAAAYI89AUAAAADgJkQBQAAAAIAfrAFAAAAAwO4rAUAAAABgNUwBQAAAAMBT2wBAAAAAANKVAUAAAADAPWkBQAAAAABrBwFAAAAAIIt2AUAAAADA4bQBQAAAAIBcDQFAAAAAwE1TAUAAAABgDxcBQAAAAEBlYAFAAAAAwEfAAUAAAACgRCYBQAAAAIA/LAFAAAAAAFNUAUAAAABgH1QBQAAAAOCshAFAAAAAYDIQAUAAAABAsGIBQAAAACAnVAFAAAAAAM6sAUAAAABA3GMBQAAAAAD3XQFAAAAAACmXAUAAAABAJkABQAAAAACVKwFAAAAAIGUmAUAAAABA5nABQAAAAIA9XQFAAAAAIIBNAUAAAAAA7J4BQAAAAKDitgFAAAAAYDRaAUAAAABAqlMBQAAAAAC72gBAAAAAwOsiAUAAAABAJW8BQAAAAMCzTwFAAAAAQLAtAUAAAACg8zcBQAAAACDXXQFAAAAAoDo8AUAAAACgtVMBQAAAAAB8XwFAAAAAABQ8AUAAAACgihUBQAAAAAApIwFAAAAA4LdtAUAAAADApzgBQAAAAOCgEQFAAAAAoNBwAUAAAAAAe2wBQAAAACBLTAFAAAAAwDLJAUAAAADgWBgBQAAAAIAQhQFAAAAAgGO6AUAAAACACC0BQAAAAADFOQFAAAAAQAJMAUAAAADAvMQBQAAAAODgDQFAAAAA4D0iAUAAAAAA+xoBQAAAAIBjQgFAAAAAYI0rAUAAAADgQkwBQAAAAIAOLAFAAAAAoF49AUAAAAAA6CYBQAAAAEBlDwFAAAAAoMxMAUAAAABgTHgBQAAAAMDHBAFAAAAA4FVZAUAAAAAgnGEBQAAAACDGLAFAAAAAIGk3AUAAAABAOLYBQAAAACCuWQFAAAAAwI98AUAAAAAgixEBQAAAAGAMZwFAAAAAgFXDAEAAAADALDABQAAAACDnJgFAAAAAwMTuAEAAAAAgnioBQAAAAMDXfQFAAAAAAIE7AUAAAABAICIBQAAAAAA4LQFAAAAAwPguAUAAAAAAWy4BQAAAAOC5SgFAAAAAgBXzAEAAAABAvTMBQAAAAMBgdQFAAAAAoPNkAUAAAADATj0BQAAAAOC/6wBAAAAAQCFYAUAAAACAZlEBQAAAACAPFgFAAAAAQJoOAUAAAAAA5A4BQAAAAOAcSQFAAAAAANARAUAAAADAS10BQAAAAMBvcAFAAAAAADcPAUAAAAAgvgoBQAAAACBwKQFAAAAAAJT8AEAAAABgTOYAQAAAAACkXgFAAAAA4BhYAUAAAAAAwxwBQAAAAGDS6QBAAAAAAODhAEAAAACA0y4BQAAAAEBgJgFAAAAAoOQXAUAAAABArU8BQAAAAEAiEAFAAAAAQHJTAUAAAAAADSIBQAAAAICb+QBAAAAAYK8lAUAAAACgKzIBQAAAAGCNPQFAAAAAwDAqAUAAAABAwCMBQAAAAADeFwFAAAAAAFUbAUAAAAAg5F0BQAAAAKAo9gBAAAAA4LFIAUAAAACAl2QBQAAAAOAJSgFAAAAAYPfyAEAAAACg5wcBQAAAAMBqHgFAAAAAQMQgAUAAAACg5Q0BQAAAAADAXQFAAAAA4MZZAUAAAADg+ioBQAAAAIAb9gBAAAAAAFArAUAAAABg5zABQAAAAOAJagFAAAAAIDD+AEAAAABA+FUBQAAAAMAmAwFAAAAAwNYPAUAAAADgllABQAAAAGCvNQFAAAAAwCAuAUAAAABg908BQAAAAKAfNAFAAAAAANI6AUAAAAAgDIYBQAAAAADwLgFAAAAAwLLcAEAAAAAgsPEAQAAAAOAYMAFAAAAAAHMSAUAAAACg21sBQAAAAIDE5ABAAAAAYCMzAUAAAABAQxUBQAAAAMBi1wBAAAAAAFr/AEAAAAAAzSMBQAAAAKAq7gBAAAAAoJkzAUAAAABgqlMBQAAAAIBaQwFAAAAAQF/+AEAAAAAgDBEBQAAAAMB6BAFAAAAAwFvQAEAAAACAnU8BQAAAAKByagFAAAAAIA4VAUAAAABgn1UBQAAAAOAFHgFAAAAAAO8xAUAAAAAgijcBQAAAAED9RgFAAAAAwNBJAUAAAADgJW0BQAAAAGAGTQFAAAAAwJMfAUAAAAAgUe4AQAAAAEAIWQFAAAAAgAkFAUAAAACAoDsBQAAAACA3BgFAAAAAAFMsAUAAAABASB0BQAAAACD9BAFAAAAAADNWAUAAAACAaEEBQAAAAEBKFAFAAAAAgFI8AUAAAABAsF0BQAAAAODCUQFAAAAAoMM5AUAAAABgKSkBQAAAAKC5qgBAAAAAYOAKAUAAAABgFyQBQAAAAOC0OQFAAAAAwJM1AUAAAACAOuYAQAAAAKDjJAFAAAAAAKUdAUAAAABgrzgBQAAAAOAQkwFAAAAAwFUZAUAAAADgwSIBQAAAACBD8ABAAAAAIC0NAUAAAADgzhYBQAAAAADdewFAAAAAYLA3AUAAAABgEAYBQAAAAEBPDwFAAAAAQFvBAEAAAACgyVgBQAAAAECj/QBAAAAAgGhPAUAAAACgbB4BQAAAAIA+MgFAAAAAQGRXAUAAAAAAlucAQAAAAAA37gBAAAAAIEtUAUAAAABgSFsBQAAAAIBGGQFAAAAAIHndAEAAAACgq/MAQAAAAADNAQFAAAAA4G4vAUAAAACADRsBQAAAAOAzWwFAAAAAwNDEAEAAAAAA+R4BQAAAAIDUWAFA",
          "dtype": "f8"
         },
         "yaxis": "y2"
        },
        {
         "hovertemplate": "<b>Exponentially Weighted mean trendline</b><br><br>variable=batch_train_loss<br>step=%{x}<br>value=%{y} <b>(trend)</b><extra></extra>",
         "legendgroup": "",
         "line": {
          "color": "red"
         },
         "marker": {
          "color": "#636efa",
          "symbol": "circle"
         },
         "mode": "lines",
         "name": "",
         "showlegend": false,
         "type": "scattergl",
         "x": {
          "bdata": "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",
          "dtype": "i2"
         },
         "xaxis": "x2",
         "y": {
          "bdata": "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",
          "dtype": "f8"
         },
         "yaxis": "y2"
        },
        {
         "hovertemplate": "variable=batch_accuracy<br>step=%{x}<br>value=%{y}<extra></extra>",
         "legendgroup": "",
         "marker": {
          "color": "#636efa",
          "symbol": "circle"
         },
         "mode": "markers",
         "name": "",
         "showlegend": false,
         "type": "scattergl",
         "x": {
          "bdata": "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",
          "dtype": "i2"
         },
         "xaxis": "x",
         "y": {
          "bdata": "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",
          "dtype": "f8"
         },
         "yaxis": "y"
        },
        {
         "hovertemplate": "<b>Exponentially Weighted mean trendline</b><br><br>variable=batch_accuracy<br>step=%{x}<br>value=%{y} <b>(trend)</b><extra></extra>",
         "legendgroup": "",
         "line": {
          "color": "red"
         },
         "marker": {
          "color": "#636efa",
          "symbol": "circle"
         },
         "mode": "lines",
         "name": "",
         "showlegend": false,
         "type": "scattergl",
         "x": {
          "bdata": "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",
          "dtype": "i2"
         },
         "xaxis": "x",
         "y": {
          "bdata": "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",
          "dtype": "f8"
         },
         "yaxis": "y"
        }
       ],
       "layout": {
        "annotations": [
         {
          "font": {},
          "showarrow": false,
          "text": "variable=batch_accuracy",
          "textangle": 90,
          "x": 0.98,
          "xanchor": "left",
          "xref": "paper",
          "y": 0.2425,
          "yanchor": "middle",
          "yref": "paper"
         },
         {
          "font": {},
          "showarrow": false,
          "text": "variable=batch_train_loss",
          "textangle": 90,
          "x": 0.98,
          "xanchor": "left",
          "xref": "paper",
          "y": 0.7575000000000001,
          "yanchor": "middle",
          "yref": "paper"
         }
        ],
        "legend": {
         "tracegroupgap": 0
        },
        "template": {
         "data": {
          "bar": [
           {
            "error_x": {
             "color": "#2a3f5f"
            },
            "error_y": {
             "color": "#2a3f5f"
            },
            "marker": {
             "line": {
              "color": "#E5ECF6",
              "width": 0.5
             },
             "pattern": {
              "fillmode": "overlay",
              "size": 10,
              "solidity": 0.2
             }
            },
            "type": "bar"
           }
          ],
          "barpolar": [
           {
            "marker": {
             "line": {
              "color": "#E5ECF6",
              "width": 0.5
             },
             "pattern": {
              "fillmode": "overlay",
              "size": 10,
              "solidity": 0.2
             }
            },
            "type": "barpolar"
           }
          ],
          "carpet": [
           {
            "aaxis": {
             "endlinecolor": "#2a3f5f",
             "gridcolor": "white",
             "linecolor": "white",
             "minorgridcolor": "white",
             "startlinecolor": "#2a3f5f"
            },
            "baxis": {
             "endlinecolor": "#2a3f5f",
             "gridcolor": "white",
             "linecolor": "white",
             "minorgridcolor": "white",
             "startlinecolor": "#2a3f5f"
            },
            "type": "carpet"
           }
          ],
          "choropleth": [
           {
            "colorbar": {
             "outlinewidth": 0,
             "ticks": ""
            },
            "type": "choropleth"
           }
          ],
          "contour": [
           {
            "colorbar": {
             "outlinewidth": 0,
             "ticks": ""
            },
            "colorscale": [
             [
              0,
              "#0d0887"
             ],
             [
              0.1111111111111111,
              "#46039f"
             ],
             [
              0.2222222222222222,
              "#7201a8"
             ],
             [
              0.3333333333333333,
              "#9c179e"
             ],
             [
              0.4444444444444444,
              "#bd3786"
             ],
             [
              0.5555555555555556,
              "#d8576b"
             ],
             [
              0.6666666666666666,
              "#ed7953"
             ],
             [
              0.7777777777777778,
              "#fb9f3a"
             ],
             [
              0.8888888888888888,
              "#fdca26"
             ],
             [
              1,
              "#f0f921"
             ]
            ],
            "type": "contour"
           }
          ],
          "contourcarpet": [
           {
            "colorbar": {
             "outlinewidth": 0,
             "ticks": ""
            },
            "type": "contourcarpet"
           }
          ],
          "heatmap": [
           {
            "colorbar": {
             "outlinewidth": 0,
             "ticks": ""
            },
            "colorscale": [
             [
              0,
              "#0d0887"
             ],
             [
              0.1111111111111111,
              "#46039f"
             ],
             [
              0.2222222222222222,
              "#7201a8"
             ],
             [
              0.3333333333333333,
              "#9c179e"
             ],
             [
              0.4444444444444444,
              "#bd3786"
             ],
             [
              0.5555555555555556,
              "#d8576b"
             ],
             [
              0.6666666666666666,
              "#ed7953"
             ],
             [
              0.7777777777777778,
              "#fb9f3a"
             ],
             [
              0.8888888888888888,
              "#fdca26"
             ],
             [
              1,
              "#f0f921"
             ]
            ],
            "type": "heatmap"
           }
          ],
          "histogram": [
           {
            "marker": {
             "pattern": {
              "fillmode": "overlay",
              "size": 10,
              "solidity": 0.2
             }
            },
            "type": "histogram"
           }
          ],
          "histogram2d": [
           {
            "colorbar": {
             "outlinewidth": 0,
             "ticks": ""
            },
            "colorscale": [
             [
              0,
              "#0d0887"
             ],
             [
              0.1111111111111111,
              "#46039f"
             ],
             [
              0.2222222222222222,
              "#7201a8"
             ],
             [
              0.3333333333333333,
              "#9c179e"
             ],
             [
              0.4444444444444444,
              "#bd3786"
             ],
             [
              0.5555555555555556,
              "#d8576b"
             ],
             [
              0.6666666666666666,
              "#ed7953"
             ],
             [
              0.7777777777777778,
              "#fb9f3a"
             ],
             [
              0.8888888888888888,
              "#fdca26"
             ],
             [
              1,
              "#f0f921"
             ]
            ],
            "type": "histogram2d"
           }
          ],
          "histogram2dcontour": [
           {
            "colorbar": {
             "outlinewidth": 0,
             "ticks": ""
            },
            "colorscale": [
             [
              0,
              "#0d0887"
             ],
             [
              0.1111111111111111,
              "#46039f"
             ],
             [
              0.2222222222222222,
              "#7201a8"
             ],
             [
              0.3333333333333333,
              "#9c179e"
             ],
             [
              0.4444444444444444,
              "#bd3786"
             ],
             [
              0.5555555555555556,
              "#d8576b"
             ],
             [
              0.6666666666666666,
              "#ed7953"
             ],
             [
              0.7777777777777778,
              "#fb9f3a"
             ],
             [
              0.8888888888888888,
              "#fdca26"
             ],
             [
              1,
              "#f0f921"
             ]
            ],
            "type": "histogram2dcontour"
           }
          ],
          "mesh3d": [
           {
            "colorbar": {
             "outlinewidth": 0,
             "ticks": ""
            },
            "type": "mesh3d"
           }
          ],
          "parcoords": [
           {
            "line": {
             "colorbar": {
              "outlinewidth": 0,
              "ticks": ""
             }
            },
            "type": "parcoords"
           }
          ],
          "pie": [
           {
            "automargin": true,
            "type": "pie"
           }
          ],
          "scatter": [
           {
            "fillpattern": {
             "fillmode": "overlay",
             "size": 10,
             "solidity": 0.2
            },
            "type": "scatter"
           }
          ],
          "scatter3d": [
           {
            "line": {
             "colorbar": {
              "outlinewidth": 0,
              "ticks": ""
             }
            },
            "marker": {
             "colorbar": {
              "outlinewidth": 0,
              "ticks": ""
             }
            },
            "type": "scatter3d"
           }
          ],
          "scattercarpet": [
           {
            "marker": {
             "colorbar": {
              "outlinewidth": 0,
              "ticks": ""
             }
            },
            "type": "scattercarpet"
           }
          ],
          "scattergeo": [
           {
            "marker": {
             "colorbar": {
              "outlinewidth": 0,
              "ticks": ""
             }
            },
            "type": "scattergeo"
           }
          ],
          "scattergl": [
           {
            "marker": {
             "colorbar": {
              "outlinewidth": 0,
              "ticks": ""
             }
            },
            "type": "scattergl"
           }
          ],
          "scattermap": [
           {
            "marker": {
             "colorbar": {
              "outlinewidth": 0,
              "ticks": ""
             }
            },
            "type": "scattermap"
           }
          ],
          "scattermapbox": [
           {
            "marker": {
             "colorbar": {
              "outlinewidth": 0,
              "ticks": ""
             }
            },
            "type": "scattermapbox"
           }
          ],
          "scatterpolar": [
           {
            "marker": {
             "colorbar": {
              "outlinewidth": 0,
              "ticks": ""
             }
            },
            "type": "scatterpolar"
           }
          ],
          "scatterpolargl": [
           {
            "marker": {
             "colorbar": {
              "outlinewidth": 0,
              "ticks": ""
             }
            },
            "type": "scatterpolargl"
           }
          ],
          "scatterternary": [
           {
            "marker": {
             "colorbar": {
              "outlinewidth": 0,
              "ticks": ""
             }
            },
            "type": "scatterternary"
           }
          ],
          "surface": [
           {
            "colorbar": {
             "outlinewidth": 0,
             "ticks": ""
            },
            "colorscale": [
             [
              0,
              "#0d0887"
             ],
             [
              0.1111111111111111,
              "#46039f"
             ],
             [
              0.2222222222222222,
              "#7201a8"
             ],
             [
              0.3333333333333333,
              "#9c179e"
             ],
             [
              0.4444444444444444,
              "#bd3786"
             ],
             [
              0.5555555555555556,
              "#d8576b"
             ],
             [
              0.6666666666666666,
              "#ed7953"
             ],
             [
              0.7777777777777778,
              "#fb9f3a"
             ],
             [
              0.8888888888888888,
              "#fdca26"
             ],
             [
              1,
              "#f0f921"
             ]
            ],
            "type": "surface"
           }
          ],
          "table": [
           {
            "cells": {
             "fill": {
              "color": "#EBF0F8"
             },
             "line": {
              "color": "white"
             }
            },
            "header": {
             "fill": {
              "color": "#C8D4E3"
             },
             "line": {
              "color": "white"
             }
            },
            "type": "table"
           }
          ]
         },
         "layout": {
          "annotationdefaults": {
           "arrowcolor": "#2a3f5f",
           "arrowhead": 0,
           "arrowwidth": 1
          },
          "autotypenumbers": "strict",
          "coloraxis": {
           "colorbar": {
            "outlinewidth": 0,
            "ticks": ""
           }
          },
          "colorscale": {
           "diverging": [
            [
             0,
             "#8e0152"
            ],
            [
             0.1,
             "#c51b7d"
            ],
            [
             0.2,
             "#de77ae"
            ],
            [
             0.3,
             "#f1b6da"
            ],
            [
             0.4,
             "#fde0ef"
            ],
            [
             0.5,
             "#f7f7f7"
            ],
            [
             0.6,
             "#e6f5d0"
            ],
            [
             0.7,
             "#b8e186"
            ],
            [
             0.8,
             "#7fbc41"
            ],
            [
             0.9,
             "#4d9221"
            ],
            [
             1,
             "#276419"
            ]
           ],
           "sequential": [
            [
             0,
             "#0d0887"
            ],
            [
             0.1111111111111111,
             "#46039f"
            ],
            [
             0.2222222222222222,
             "#7201a8"
            ],
            [
             0.3333333333333333,
             "#9c179e"
            ],
            [
             0.4444444444444444,
             "#bd3786"
            ],
            [
             0.5555555555555556,
             "#d8576b"
            ],
            [
             0.6666666666666666,
             "#ed7953"
            ],
            [
             0.7777777777777778,
             "#fb9f3a"
            ],
            [
             0.8888888888888888,
             "#fdca26"
            ],
            [
             1,
             "#f0f921"
            ]
           ],
           "sequentialminus": [
            [
             0,
             "#0d0887"
            ],
            [
             0.1111111111111111,
             "#46039f"
            ],
            [
             0.2222222222222222,
             "#7201a8"
            ],
            [
             0.3333333333333333,
             "#9c179e"
            ],
            [
             0.4444444444444444,
             "#bd3786"
            ],
            [
             0.5555555555555556,
             "#d8576b"
            ],
            [
             0.6666666666666666,
             "#ed7953"
            ],
            [
             0.7777777777777778,
             "#fb9f3a"
            ],
            [
             0.8888888888888888,
             "#fdca26"
            ],
            [
             1,
             "#f0f921"
            ]
           ]
          },
          "colorway": [
           "#636efa",
           "#EF553B",
           "#00cc96",
           "#ab63fa",
           "#FFA15A",
           "#19d3f3",
           "#FF6692",
           "#B6E880",
           "#FF97FF",
           "#FECB52"
          ],
          "font": {
           "color": "#2a3f5f"
          },
          "geo": {
           "bgcolor": "white",
           "lakecolor": "white",
           "landcolor": "#E5ECF6",
           "showlakes": true,
           "showland": true,
           "subunitcolor": "white"
          },
          "hoverlabel": {
           "align": "left"
          },
          "hovermode": "closest",
          "mapbox": {
           "style": "light"
          },
          "paper_bgcolor": "white",
          "plot_bgcolor": "#E5ECF6",
          "polar": {
           "angularaxis": {
            "gridcolor": "white",
            "linecolor": "white",
            "ticks": ""
           },
           "bgcolor": "#E5ECF6",
           "radialaxis": {
            "gridcolor": "white",
            "linecolor": "white",
            "ticks": ""
           }
          },
          "scene": {
           "xaxis": {
            "backgroundcolor": "#E5ECF6",
            "gridcolor": "white",
            "gridwidth": 2,
            "linecolor": "white",
            "showbackground": true,
            "ticks": "",
            "zerolinecolor": "white"
           },
           "yaxis": {
            "backgroundcolor": "#E5ECF6",
            "gridcolor": "white",
            "gridwidth": 2,
            "linecolor": "white",
            "showbackground": true,
            "ticks": "",
            "zerolinecolor": "white"
           },
           "zaxis": {
            "backgroundcolor": "#E5ECF6",
            "gridcolor": "white",
            "gridwidth": 2,
            "linecolor": "white",
            "showbackground": true,
            "ticks": "",
            "zerolinecolor": "white"
           }
          },
          "shapedefaults": {
           "line": {
            "color": "#2a3f5f"
           }
          },
          "ternary": {
           "aaxis": {
            "gridcolor": "white",
            "linecolor": "white",
            "ticks": ""
           },
           "baxis": {
            "gridcolor": "white",
            "linecolor": "white",
            "ticks": ""
           },
           "bgcolor": "#E5ECF6",
           "caxis": {
            "gridcolor": "white",
            "linecolor": "white",
            "ticks": ""
           }
          },
          "title": {
           "x": 0.05
          },
          "xaxis": {
           "automargin": true,
           "gridcolor": "white",
           "linecolor": "white",
           "ticks": "",
           "title": {
            "standoff": 15
           },
           "zerolinecolor": "white",
           "zerolinewidth": 2
          },
          "yaxis": {
           "automargin": true,
           "gridcolor": "white",
           "linecolor": "white",
           "ticks": "",
           "title": {
            "standoff": 15
           },
           "zerolinecolor": "white",
           "zerolinewidth": 2
          }
         }
        },
        "title": {
         "text": "batch metrics"
        },
        "xaxis": {
         "anchor": "y",
         "domain": [
          0,
          0.98
         ],
         "title": {
          "text": "step"
         }
        },
        "xaxis2": {
         "anchor": "y2",
         "domain": [
          0,
          0.98
         ],
         "matches": "x",
         "showticklabels": false
        },
        "yaxis": {
         "anchor": "x",
         "domain": [
          0,
          0.485
         ],
         "title": {
          "text": "value"
         }
        },
        "yaxis2": {
         "anchor": "x2",
         "domain": [
          0.515,
          1
         ],
         "title": {
          "text": "value"
         }
        }
       }
      }
     },
     "metadata": {},
     "output_type": "display_data"
    },
    {
     "data": {
      "application/vnd.plotly.v1+json": {
       "config": {
        "plotlyServerURL": "https://plot.ly"
       },
       "data": [
        {
         "hovertemplate": "variable=train_epoch_loss<br>step=%{x}<br>value=%{y}<extra></extra>",
         "legendgroup": "train_epoch_loss",
         "line": {
          "color": "#636efa",
          "dash": "solid"
         },
         "marker": {
          "symbol": "circle"
         },
         "mode": "lines",
         "name": "train_epoch_loss",
         "orientation": "v",
         "showlegend": true,
         "type": "scatter",
         "x": {
          "bdata": "GQAzAE0AZwCBAJsAtQDPAOkAAwEdATcBUQFrAYUBnwG5AdMB7QEHAiECOwJVAm8CiQKjAr0C1wLxAgsDJQM/A1kDcwONA6cDwQPbA/UDDwQpBEMEXQR3BJEEqwTFBN8E+QQTBS0FRwVhBXsFlQWvBckF4wX9BRcG",
          "dtype": "i2"
         },
         "xaxis": "x4",
         "y": {
          "bdata": "ntiJfes1BkAndmL3hlMFQBQ7seOT5QRAYid2woGrBEAAAACwGXkEQLETO5HLTQRAAAAAgMIkBEAndmK3JAUEQNmJnZj06gNAYid2cqXTA0AndmJ3LMUDQDuxEyvyugNAJ3ZiR0+ZA0DsxE4c9o4DQGInduL4eANA7MRO3PRjA0CKndg5Q1gDQGIndvLlRwNAFDuxs4knA0Ce2ImNoRkDQDuxE7u/DgNA7MROPM8BA0DZiZ14hu4CQHZiJ1bZ3gJA2YmdyCXTAkCKndiJF9QCQIqd2Hl61AJA2YmdWHfHAkCe2Int1rkCQCd2YqdLpAJA7MRO3MCFAkAAAABgknsCQNmJnUiwQwJAip3YOSQOAkDFTuw0evMBQOzETkwG4gFAO7ETm//FAUCKndjZW68BQLETO9E4ogFA7MROvNWcAUDZiZ0IU5EBQNmJnTg2jgFA2YmdWPiJAUBP7MTOsXEBQLETO5HaagFAsRM7Mb5hAUAUO7GT7l0BQBQ7sVOnWQFAFDux89tdAUBP7MT+nlsBQE/sxP5QVgFAsRM78TxUAUB2YieGMkwBQAAAAGBrOwFAxU7sVMcoAUBP7MROoysBQMVO7HR3JgFA2Ymd2AkrAUDFTuyUKyUBQJ7YiW0cIAFA",
          "dtype": "f8"
         },
         "yaxis": "y4"
        },
        {
         "hovertemplate": "variable=train_epoch_accuracy<br>step=%{x}<br>value=%{y}<extra></extra>",
         "legendgroup": "train_epoch_accuracy",
         "line": {
          "color": "#EF553B",
          "dash": "solid"
         },
         "marker": {
          "symbol": "circle"
         },
         "mode": "lines",
         "name": "train_epoch_accuracy",
         "orientation": "v",
         "showlegend": true,
         "type": "scatter",
         "x": {
          "bdata": "GQAzAE0AZwCBAJsAtQDPAOkAAwEdATcBUQFrAYUBnwG5AdMB7QEHAiECOwJVAm8CiQKjAr0C1wLxAgsDJQM/A1kDcwONA6cDwQPbA/UDDwQpBEMEXQR3BJEEqwTFBN8E+QQTBS0FRwVhBXsFlQWvBckF4wX9BRcG",
          "dtype": "i2"
         },
         "xaxis": "x3",
         "y": {
          "bdata": "5wPId6Auyj9ped41USnUP74KZkk5wNc/gCK8zN672T/+z1rq4DLbP26Nv5tHqNw/xfuR03zt3T/W/6ylDs7eP9I3NQVgyt8/p58PIN9B4D8icGMZlHrgP3VwCc52nuA/2iFwYxk04T8Rv6I41FjhP0XL866JquE/+cJqsHT34T/PFXJHVSTiPwFFeJm9d+I/oafyaRHx4j9kbO775C3jP9PW+Lt5VOM/EkmTa0+I4z+br9WzQ9DjPxse+0VqF+Q/F1100UVH5D8/09b4uznkP8unRcQCM+Q/dcNjv0ht5D/hv0H8iqLkPxUm3o+c9uQ/cQLdSiR95T+wdHf6+bDlP+Utbn/do+Y/ycMJdCuB5z8UQqI/xeTnP6YOLsHZLug/0ZhxTkag6D8/eYvbX+foP0f7mMSoF+k/1M8HkO8w6T9m7+0C1lnpP/CMxoxzUuk/gCK8zN5r6T8pB0SGe8XpP0EDfA7b5uk/510Tlfzw6T/qlKnWpRHqPxSV/DCXI+o/aSaERH8K6j8GUmjTKRPqP3/rJYs1K+o/iy666KIr6j9BA3wO21bqP+5VMEvKoeo/XsA6C1/Y6j8VzJJyQNTqP4fAjWVQ6uo/bjplqnXZ6j8AWksdXPLqP3fzCNVn+uo/",
          "dtype": "f8"
         },
         "yaxis": "y3"
        },
        {
         "hovertemplate": "variable=validation_loss<br>step=%{x}<br>value=%{y}<extra></extra>",
         "legendgroup": "validation_loss",
         "line": {
          "color": "#00cc96",
          "dash": "solid"
         },
         "marker": {
          "symbol": "circle"
         },
         "mode": "lines",
         "name": "validation_loss",
         "orientation": "v",
         "showlegend": true,
         "type": "scatter",
         "x": {
          "bdata": "GQAzAE0AZwCBAJsAtQDPAOkAAwEdATcBUQFrAYUBnwG5AdMB7QEHAiECOwJVAm8CiQKjAr0C1wLxAgsDJQM/A1kDcwONA6cDwQPbA/UDDwQpBEMEXQR3BJEEqwTFBN8E+QQTBS0FRwVhBXsFlQWvBckF4wX9BRcG",
          "dtype": "i2"
         },
         "xaxis": "x2",
         "y": {
          "bdata": "btu2jTa3BUC3bds25/0EQCVJkoS6uARAAAAAAGeFBECSJEnypV0EQAAAAGBINARAt23b9mLyA0AlSZIkG/cDQCVJkmT01gNAJUmSpCytA0AlSZKEMrIDQAAAAICimgNAJUmSJLePA0Dbtm3buogDQEmSJKnNSgNAAAAAQJxUA0Bu27ZNbzwDQLdt21Z/KQNAt23bdqsGA0Bu27YN3wEDQLdt23b78gJASZIk6b/9AkAAAAAA7NcCQNu2bZsszAJASZIkKdPHAkBu27btnLYCQG7btk1uxgJAt23bNvW6AkBJkiQJQqwCQEmSJIlFjAJAbtu2DW9jAkCSJEkS1GcCQG7bts0gBwJAkiRJ8krsAUBJkiRpS9MBQG7btq31sQFAJUmSxN6nAUAAAABAGpgBQCVJkgQSjwFAbtu2rVCBAUDbtm3bpnkBQG7btg0wdgFAkiRJUnhuAUAAAAAAGmQBQNu2bZsxWQFA27Zt+1hbAUC3bds21VUBQAAAAEDoTgFAAAAAoElSAUC3bduWzE8BQNu2bXukTAFAAAAAoOZRAUC3bdu26TQBQCVJksQOIQFASZIk6YEeAUCSJEnSKxwBQNu2bXtpHQFAt23b9qUtAUCSJEnyEx0BQAAAACAdGAFA",
          "dtype": "f8"
         },
         "yaxis": "y2"
        },
        {
         "hovertemplate": "variable=validation_accuracy<br>step=%{x}<br>value=%{y}<extra></extra>",
         "legendgroup": "validation_accuracy",
         "line": {
          "color": "#ab63fa",
          "dash": "solid"
         },
         "marker": {
          "symbol": "circle"
         },
         "mode": "lines",
         "name": "validation_accuracy",
         "orientation": "v",
         "showlegend": true,
         "type": "scatter",
         "x": {
          "bdata": "GQAzAE0AZwCBAJsAtQDPAOkAAwEdATcBUQFrAYUBnwG5AdMB7QEHAiECOwJVAm8CiQKjAr0C1wLxAgsDJQM/A1kDcwONA6cDwQPbA/UDDwQpBEMEXQR3BJEEqwTFBN8E+QQTBS0FRwVhBXsFlQWvBckF4wX9BRcG",
          "dtype": "i2"
         },
         "xaxis": "x",
         "y": {
          "bdata": "OHfdW6NUkD9hBYtymwaUPzuDB4HbdZY/vqWZJyr/lz+76Bg/zjeZP9Jw+yCUJ5o/suwIHHHumz/SMwjBnQycP1jYqLmR0Jw/tzEkDiAOnj9xYJT2RbOdP8Z04qJIa54/geRQ2dK6nj/zABhL7wGfP2m+EiNmZKA/bH+e+S87oD/C1ThhHJGgP4aGyVHE1qA/Qzb6HgpDoT+Vi0YZcWWhP+whoxcZmKE/TTnkZppdoT//57QQfvChP6JQAUpiF6I/8uTBbf8ioj/en3BZulGiP2aBDQ2TI6I/lc2JeWxQoj9O/PAGpIKiP2OCScQ78aI/EvAJat6zoz+1WFajwpqjP8mhsqV1+6Q/yWI1IVFfpT81PuMzPqOlP5ZXrqftKaY/BXMnrIQ9pj++Ik8e3HamP6DaE8IGi6Y/BnWx0LK+pj+FlGvlTdOmP5pahjmh3qY/ao6Fn1D4pj/Jpb2T4wqnP6fd9K6oMqc/jRfR/2Y0pz9JBn9R0TynP1YJcvRPSqc/0+hpci9Cpz/rLgn0+UanP6WdMhjtVac/uKF8g99Jpz+NGBYS/rSnP8lnhSFW76c/MsJp9DT5pz+rII/XFwSoP4sYDbcPAqg/CTeCuRPWpz+rII/XFwSoP7kjgnqWEag/",
          "dtype": "f8"
         },
         "yaxis": "y"
        }
       ],
       "layout": {
        "annotations": [
         {
          "font": {},
          "showarrow": false,
          "text": "variable=validation_accuracy",
          "textangle": 90,
          "x": 0.98,
          "xanchor": "left",
          "xref": "paper",
          "y": 0.11375,
          "yanchor": "middle",
          "yref": "paper"
         },
         {
          "font": {},
          "showarrow": false,
          "text": "variable=validation_loss",
          "textangle": 90,
          "x": 0.98,
          "xanchor": "left",
          "xref": "paper",
          "y": 0.37124999999999997,
          "yanchor": "middle",
          "yref": "paper"
         },
         {
          "font": {},
          "showarrow": false,
          "text": "variable=train_epoch_accuracy",
          "textangle": 90,
          "x": 0.98,
          "xanchor": "left",
          "xref": "paper",
          "y": 0.62875,
          "yanchor": "middle",
          "yref": "paper"
         },
         {
          "font": {},
          "showarrow": false,
          "text": "variable=train_epoch_loss",
          "textangle": 90,
          "x": 0.98,
          "xanchor": "left",
          "xref": "paper",
          "y": 0.88625,
          "yanchor": "middle",
          "yref": "paper"
         }
        ],
        "legend": {
         "title": {
          "text": "variable"
         },
         "tracegroupgap": 0
        },
        "template": {
         "data": {
          "bar": [
           {
            "error_x": {
             "color": "#2a3f5f"
            },
            "error_y": {
             "color": "#2a3f5f"
            },
            "marker": {
             "line": {
              "color": "#E5ECF6",
              "width": 0.5
             },
             "pattern": {
              "fillmode": "overlay",
              "size": 10,
              "solidity": 0.2
             }
            },
            "type": "bar"
           }
          ],
          "barpolar": [
           {
            "marker": {
             "line": {
              "color": "#E5ECF6",
              "width": 0.5
             },
             "pattern": {
              "fillmode": "overlay",
              "size": 10,
              "solidity": 0.2
             }
            },
            "type": "barpolar"
           }
          ],
          "carpet": [
           {
            "aaxis": {
             "endlinecolor": "#2a3f5f",
             "gridcolor": "white",
             "linecolor": "white",
             "minorgridcolor": "white",
             "startlinecolor": "#2a3f5f"
            },
            "baxis": {
             "endlinecolor": "#2a3f5f",
             "gridcolor": "white",
             "linecolor": "white",
             "minorgridcolor": "white",
             "startlinecolor": "#2a3f5f"
            },
            "type": "carpet"
           }
          ],
          "choropleth": [
           {
            "colorbar": {
             "outlinewidth": 0,
             "ticks": ""
            },
            "type": "choropleth"
           }
          ],
          "contour": [
           {
            "colorbar": {
             "outlinewidth": 0,
             "ticks": ""
            },
            "colorscale": [
             [
              0,
              "#0d0887"
             ],
             [
              0.1111111111111111,
              "#46039f"
             ],
             [
              0.2222222222222222,
              "#7201a8"
             ],
             [
              0.3333333333333333,
              "#9c179e"
             ],
             [
              0.4444444444444444,
              "#bd3786"
             ],
             [
              0.5555555555555556,
              "#d8576b"
             ],
             [
              0.6666666666666666,
              "#ed7953"
             ],
             [
              0.7777777777777778,
              "#fb9f3a"
             ],
             [
              0.8888888888888888,
              "#fdca26"
             ],
             [
              1,
              "#f0f921"
             ]
            ],
            "type": "contour"
           }
          ],
          "contourcarpet": [
           {
            "colorbar": {
             "outlinewidth": 0,
             "ticks": ""
            },
            "type": "contourcarpet"
           }
          ],
          "heatmap": [
           {
            "colorbar": {
             "outlinewidth": 0,
             "ticks": ""
            },
            "colorscale": [
             [
              0,
              "#0d0887"
             ],
             [
              0.1111111111111111,
              "#46039f"
             ],
             [
              0.2222222222222222,
              "#7201a8"
             ],
             [
              0.3333333333333333,
              "#9c179e"
             ],
             [
              0.4444444444444444,
              "#bd3786"
             ],
             [
              0.5555555555555556,
              "#d8576b"
             ],
             [
              0.6666666666666666,
              "#ed7953"
             ],
             [
              0.7777777777777778,
              "#fb9f3a"
             ],
             [
              0.8888888888888888,
              "#fdca26"
             ],
             [
              1,
              "#f0f921"
             ]
            ],
            "type": "heatmap"
           }
          ],
          "histogram": [
           {
            "marker": {
             "pattern": {
              "fillmode": "overlay",
              "size": 10,
              "solidity": 0.2
             }
            },
            "type": "histogram"
           }
          ],
          "histogram2d": [
           {
            "colorbar": {
             "outlinewidth": 0,
             "ticks": ""
            },
            "colorscale": [
             [
              0,
              "#0d0887"
             ],
             [
              0.1111111111111111,
              "#46039f"
             ],
             [
              0.2222222222222222,
              "#7201a8"
             ],
             [
              0.3333333333333333,
              "#9c179e"
             ],
             [
              0.4444444444444444,
              "#bd3786"
             ],
             [
              0.5555555555555556,
              "#d8576b"
             ],
             [
              0.6666666666666666,
              "#ed7953"
             ],
             [
              0.7777777777777778,
              "#fb9f3a"
             ],
             [
              0.8888888888888888,
              "#fdca26"
             ],
             [
              1,
              "#f0f921"
             ]
            ],
            "type": "histogram2d"
           }
          ],
          "histogram2dcontour": [
           {
            "colorbar": {
             "outlinewidth": 0,
             "ticks": ""
            },
            "colorscale": [
             [
              0,
              "#0d0887"
             ],
             [
              0.1111111111111111,
              "#46039f"
             ],
             [
              0.2222222222222222,
              "#7201a8"
             ],
             [
              0.3333333333333333,
              "#9c179e"
             ],
             [
              0.4444444444444444,
              "#bd3786"
             ],
             [
              0.5555555555555556,
              "#d8576b"
             ],
             [
              0.6666666666666666,
              "#ed7953"
             ],
             [
              0.7777777777777778,
              "#fb9f3a"
             ],
             [
              0.8888888888888888,
              "#fdca26"
             ],
             [
              1,
              "#f0f921"
             ]
            ],
            "type": "histogram2dcontour"
           }
          ],
          "mesh3d": [
           {
            "colorbar": {
             "outlinewidth": 0,
             "ticks": ""
            },
            "type": "mesh3d"
           }
          ],
          "parcoords": [
           {
            "line": {
             "colorbar": {
              "outlinewidth": 0,
              "ticks": ""
             }
            },
            "type": "parcoords"
           }
          ],
          "pie": [
           {
            "automargin": true,
            "type": "pie"
           }
          ],
          "scatter": [
           {
            "fillpattern": {
             "fillmode": "overlay",
             "size": 10,
             "solidity": 0.2
            },
            "type": "scatter"
           }
          ],
          "scatter3d": [
           {
            "line": {
             "colorbar": {
              "outlinewidth": 0,
              "ticks": ""
             }
            },
            "marker": {
             "colorbar": {
              "outlinewidth": 0,
              "ticks": ""
             }
            },
            "type": "scatter3d"
           }
          ],
          "scattercarpet": [
           {
            "marker": {
             "colorbar": {
              "outlinewidth": 0,
              "ticks": ""
             }
            },
            "type": "scattercarpet"
           }
          ],
          "scattergeo": [
           {
            "marker": {
             "colorbar": {
              "outlinewidth": 0,
              "ticks": ""
             }
            },
            "type": "scattergeo"
           }
          ],
          "scattergl": [
           {
            "marker": {
             "colorbar": {
              "outlinewidth": 0,
              "ticks": ""
             }
            },
            "type": "scattergl"
           }
          ],
          "scattermap": [
           {
            "marker": {
             "colorbar": {
              "outlinewidth": 0,
              "ticks": ""
             }
            },
            "type": "scattermap"
           }
          ],
          "scattermapbox": [
           {
            "marker": {
             "colorbar": {
              "outlinewidth": 0,
              "ticks": ""
             }
            },
            "type": "scattermapbox"
           }
          ],
          "scatterpolar": [
           {
            "marker": {
             "colorbar": {
              "outlinewidth": 0,
              "ticks": ""
             }
            },
            "type": "scatterpolar"
           }
          ],
          "scatterpolargl": [
           {
            "marker": {
             "colorbar": {
              "outlinewidth": 0,
              "ticks": ""
             }
            },
            "type": "scatterpolargl"
           }
          ],
          "scatterternary": [
           {
            "marker": {
             "colorbar": {
              "outlinewidth": 0,
              "ticks": ""
             }
            },
            "type": "scatterternary"
           }
          ],
          "surface": [
           {
            "colorbar": {
             "outlinewidth": 0,
             "ticks": ""
            },
            "colorscale": [
             [
              0,
              "#0d0887"
             ],
             [
              0.1111111111111111,
              "#46039f"
             ],
             [
              0.2222222222222222,
              "#7201a8"
             ],
             [
              0.3333333333333333,
              "#9c179e"
             ],
             [
              0.4444444444444444,
              "#bd3786"
             ],
             [
              0.5555555555555556,
              "#d8576b"
             ],
             [
              0.6666666666666666,
              "#ed7953"
             ],
             [
              0.7777777777777778,
              "#fb9f3a"
             ],
             [
              0.8888888888888888,
              "#fdca26"
             ],
             [
              1,
              "#f0f921"
             ]
            ],
            "type": "surface"
           }
          ],
          "table": [
           {
            "cells": {
             "fill": {
              "color": "#EBF0F8"
             },
             "line": {
              "color": "white"
             }
            },
            "header": {
             "fill": {
              "color": "#C8D4E3"
             },
             "line": {
              "color": "white"
             }
            },
            "type": "table"
           }
          ]
         },
         "layout": {
          "annotationdefaults": {
           "arrowcolor": "#2a3f5f",
           "arrowhead": 0,
           "arrowwidth": 1
          },
          "autotypenumbers": "strict",
          "coloraxis": {
           "colorbar": {
            "outlinewidth": 0,
            "ticks": ""
           }
          },
          "colorscale": {
           "diverging": [
            [
             0,
             "#8e0152"
            ],
            [
             0.1,
             "#c51b7d"
            ],
            [
             0.2,
             "#de77ae"
            ],
            [
             0.3,
             "#f1b6da"
            ],
            [
             0.4,
             "#fde0ef"
            ],
            [
             0.5,
             "#f7f7f7"
            ],
            [
             0.6,
             "#e6f5d0"
            ],
            [
             0.7,
             "#b8e186"
            ],
            [
             0.8,
             "#7fbc41"
            ],
            [
             0.9,
             "#4d9221"
            ],
            [
             1,
             "#276419"
            ]
           ],
           "sequential": [
            [
             0,
             "#0d0887"
            ],
            [
             0.1111111111111111,
             "#46039f"
            ],
            [
             0.2222222222222222,
             "#7201a8"
            ],
            [
             0.3333333333333333,
             "#9c179e"
            ],
            [
             0.4444444444444444,
             "#bd3786"
            ],
            [
             0.5555555555555556,
             "#d8576b"
            ],
            [
             0.6666666666666666,
             "#ed7953"
            ],
            [
             0.7777777777777778,
             "#fb9f3a"
            ],
            [
             0.8888888888888888,
             "#fdca26"
            ],
            [
             1,
             "#f0f921"
            ]
           ],
           "sequentialminus": [
            [
             0,
             "#0d0887"
            ],
            [
             0.1111111111111111,
             "#46039f"
            ],
            [
             0.2222222222222222,
             "#7201a8"
            ],
            [
             0.3333333333333333,
             "#9c179e"
            ],
            [
             0.4444444444444444,
             "#bd3786"
            ],
            [
             0.5555555555555556,
             "#d8576b"
            ],
            [
             0.6666666666666666,
             "#ed7953"
            ],
            [
             0.7777777777777778,
             "#fb9f3a"
            ],
            [
             0.8888888888888888,
             "#fdca26"
            ],
            [
             1,
             "#f0f921"
            ]
           ]
          },
          "colorway": [
           "#636efa",
           "#EF553B",
           "#00cc96",
           "#ab63fa",
           "#FFA15A",
           "#19d3f3",
           "#FF6692",
           "#B6E880",
           "#FF97FF",
           "#FECB52"
          ],
          "font": {
           "color": "#2a3f5f"
          },
          "geo": {
           "bgcolor": "white",
           "lakecolor": "white",
           "landcolor": "#E5ECF6",
           "showlakes": true,
           "showland": true,
           "subunitcolor": "white"
          },
          "hoverlabel": {
           "align": "left"
          },
          "hovermode": "closest",
          "mapbox": {
           "style": "light"
          },
          "paper_bgcolor": "white",
          "plot_bgcolor": "#E5ECF6",
          "polar": {
           "angularaxis": {
            "gridcolor": "white",
            "linecolor": "white",
            "ticks": ""
           },
           "bgcolor": "#E5ECF6",
           "radialaxis": {
            "gridcolor": "white",
            "linecolor": "white",
            "ticks": ""
           }
          },
          "scene": {
           "xaxis": {
            "backgroundcolor": "#E5ECF6",
            "gridcolor": "white",
            "gridwidth": 2,
            "linecolor": "white",
            "showbackground": true,
            "ticks": "",
            "zerolinecolor": "white"
           },
           "yaxis": {
            "backgroundcolor": "#E5ECF6",
            "gridcolor": "white",
            "gridwidth": 2,
            "linecolor": "white",
            "showbackground": true,
            "ticks": "",
            "zerolinecolor": "white"
           },
           "zaxis": {
            "backgroundcolor": "#E5ECF6",
            "gridcolor": "white",
            "gridwidth": 2,
            "linecolor": "white",
            "showbackground": true,
            "ticks": "",
            "zerolinecolor": "white"
           }
          },
          "shapedefaults": {
           "line": {
            "color": "#2a3f5f"
           }
          },
          "ternary": {
           "aaxis": {
            "gridcolor": "white",
            "linecolor": "white",
            "ticks": ""
           },
           "baxis": {
            "gridcolor": "white",
            "linecolor": "white",
            "ticks": ""
           },
           "bgcolor": "#E5ECF6",
           "caxis": {
            "gridcolor": "white",
            "linecolor": "white",
            "ticks": ""
           }
          },
          "title": {
           "x": 0.05
          },
          "xaxis": {
           "automargin": true,
           "gridcolor": "white",
           "linecolor": "white",
           "ticks": "",
           "title": {
            "standoff": 15
           },
           "zerolinecolor": "white",
           "zerolinewidth": 2
          },
          "yaxis": {
           "automargin": true,
           "gridcolor": "white",
           "linecolor": "white",
           "ticks": "",
           "title": {
            "standoff": 15
           },
           "zerolinecolor": "white",
           "zerolinewidth": 2
          }
         }
        },
        "title": {
         "text": "epoch metrics"
        },
        "xaxis": {
         "anchor": "y",
         "domain": [
          0,
          0.98
         ],
         "title": {
          "text": "step"
         }
        },
        "xaxis2": {
         "anchor": "y2",
         "domain": [
          0,
          0.98
         ],
         "matches": "x",
         "showticklabels": false
        },
        "xaxis3": {
         "anchor": "y3",
         "domain": [
          0,
          0.98
         ],
         "matches": "x",
         "showticklabels": false
        },
        "xaxis4": {
         "anchor": "y4",
         "domain": [
          0,
          0.98
         ],
         "matches": "x",
         "showticklabels": false
        },
        "yaxis": {
         "anchor": "x",
         "domain": [
          0,
          0.2275
         ],
         "title": {
          "text": "value"
         }
        },
        "yaxis2": {
         "anchor": "x2",
         "domain": [
          0.2575,
          0.485
         ],
         "title": {
          "text": "value"
         }
        },
        "yaxis3": {
         "anchor": "x3",
         "domain": [
          0.515,
          0.7425
         ],
         "title": {
          "text": "value"
         }
        },
        "yaxis4": {
         "anchor": "x4",
         "domain": [
          0.7725,
          1
         ],
         "title": {
          "text": "value"
         }
        }
       }
      }
     },
     "metadata": {},
     "output_type": "display_data"
    }
   ],
   "source": [
    "(\n",
    "    px.scatter(\n",
    "    (\n",
    "        training_metrics\n",
    "        .melt(\n",
    "            id_vars=\"step\",\n",
    "            value_vars=[\n",
    "                \"batch_train_loss\",\n",
    "                \"batch_accuracy\",\n",
    "            ]\n",
    "        )\n",
    "    ),\n",
    "    x=\"step\",\n",
    "    y=\"value\",\n",
    "    facet_row=\"variable\",\n",
    "    trendline=\"ewm\",\n",
    "    trendline_options={\"com\": 30},\n",
    "    trendline_color_override=\"red\",\n",
    "    title=\"batch metrics\",\n",
    "    )\n",
    "    .update_yaxes(matches=None)\n",
    "    .show()\n",
    ")\n",
    "px.line(\n",
    "    (\n",
    "        training_metrics\n",
    "        .query(\"validation_loss.notna()\")\n",
    "        .melt(\n",
    "            id_vars=\"step\",\n",
    "            value_vars=['train_epoch_loss', 'train_epoch_accuracy', 'validation_loss', 'validation_accuracy']\n",
    "        )\n",
    "    ),\n",
    "    x=\"step\",\n",
    "    y=\"value\",\n",
    "    color=\"variable\",\n",
    "    facet_row=\"variable\",\n",
    "    title=\"epoch metrics\",\n",
    "    render_mode=\"line+marker\",\n",
    ").update_yaxes(matches=None)"
   ]
  },
  {
   "cell_type": "code",
   "execution_count": 84,
   "id": "ce2e1c7a",
   "metadata": {},
   "outputs": [
    {
     "data": {
      "text/plain": [
       "25      0.015948\n",
       "51      0.019556\n",
       "77      0.021934\n",
       "103     0.023434\n",
       "129     0.024627\n",
       "155     0.025542\n",
       "181     0.027277\n",
       "207     0.027392\n",
       "233     0.028139\n",
       "259     0.029351\n",
       "285     0.029004\n",
       "311     0.029706\n",
       "337     0.030010\n",
       "363     0.030281\n",
       "389     0.032016\n",
       "415     0.031702\n",
       "441     0.032357\n",
       "467     0.032889\n",
       "493     0.033715\n",
       "519     0.033977\n",
       "545     0.034364\n",
       "571     0.033917\n",
       "597     0.035038\n",
       "623     0.035335\n",
       "649     0.035423\n",
       "675     0.035780\n",
       "701     0.035428\n",
       "727     0.035770\n",
       "753     0.036153\n",
       "779     0.036997\n",
       "805     0.038482\n",
       "831     0.038290\n",
       "857     0.040981\n",
       "883     0.041743\n",
       "909     0.042261\n",
       "935     0.043289\n",
       "961     0.043438\n",
       "987     0.043876\n",
       "1013    0.044029\n",
       "1039    0.044424\n",
       "1065    0.044581\n",
       "1091    0.044667\n",
       "1117    0.044863\n",
       "1143    0.045005\n",
       "1169    0.045308\n",
       "1195    0.045322\n",
       "1221    0.045386\n",
       "1247    0.045489\n",
       "1273    0.045427\n",
       "1299    0.045463\n",
       "1325    0.045577\n",
       "1351    0.045485\n",
       "1377    0.046303\n",
       "1403    0.046748\n",
       "1429    0.046823\n",
       "1455    0.046906\n",
       "1481    0.046891\n",
       "1507    0.046555\n",
       "1533    0.046906\n",
       "1559    0.047009\n",
       "Name: validation_accuracy, dtype: float64"
      ]
     },
     "execution_count": 84,
     "metadata": {},
     "output_type": "execute_result"
    }
   ],
   "source": [
    "training_metrics.query(\"validation_accuracy.notna()\")[\"validation_accuracy\"]"
   ]
  }
 ],
 "metadata": {
  "kernelspec": {
   "display_name": "CMI",
   "language": "python",
   "name": "python3"
  },
  "language_info": {
   "codemirror_mode": {
    "name": "ipython",
    "version": 3
   },
   "file_extension": ".py",
   "mimetype": "text/x-python",
   "name": "python",
   "nbconvert_exporter": "python",
   "pygments_lexer": "ipython3",
   "version": "3.11.5"
  }
 },
 "nbformat": 4,
 "nbformat_minor": 5
}
