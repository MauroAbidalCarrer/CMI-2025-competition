{
 "cells": [
  {
   "cell_type": "markdown",
   "id": "53d41434",
   "metadata": {},
   "source": [
    "# Training model\n",
    "The goal of this notebook is to train a model and upload it to kaggle."
   ]
  },
  {
   "cell_type": "markdown",
   "id": "dc4c23f0",
   "metadata": {},
   "source": [
    "## Imports"
   ]
  },
  {
   "cell_type": "code",
   "execution_count": null,
   "id": "66f429fe",
   "metadata": {},
   "outputs": [],
   "source": [
    "from os.path import join\n",
    "from itertools import pairwise\n",
    "from typing import Optional, Literal\n",
    "\n",
    "import torch\n",
    "import numpy as np\n",
    "import plotly.express as px\n",
    "from torch import nn, Tensor\n",
    "from kagglehub import dataset_download\n",
    "from torch.optim.lr_scheduler import ConstantLR\n",
    "from torch.utils.data import Dataset, DataLoader"
   ]
  },
  {
   "cell_type": "code",
   "execution_count": 3,
   "id": "b39c5f73",
   "metadata": {},
   "outputs": [
    {
     "data": {
      "text/plain": [
       "['preprocessed_dataset']"
      ]
     },
     "execution_count": 3,
     "metadata": {},
     "output_type": "execute_result"
    }
   ],
   "source": [
    "import os\n",
    "\n",
    "os.listdir(dataset_download(\n",
    "            handle=\"mauroabidalcarrer/prepocessed-cmi-2025\",\n",
    "        ))"
   ]
  },
  {
   "cell_type": "code",
   "execution_count": 6,
   "id": "208cc864",
   "metadata": {},
   "outputs": [],
   "source": [
    "BATCH_SIZE = 256"
   ]
  },
  {
   "cell_type": "code",
   "execution_count": 7,
   "id": "e46c3b4e",
   "metadata": {},
   "outputs": [],
   "source": [
    "# TODO: Switch to TensorDataset w/ cross validation splits\n",
    "class CMIDataset(Dataset):\n",
    "    def __init__(\n",
    "        self,\n",
    "        parent_dir: str,\n",
    "        split: Optional[Literal[\"train\", \"validation\"]]=None,\n",
    "        subset: Optional[int]=None,\n",
    "        force_download=False\n",
    "    ):\n",
    "        super().__init__()\n",
    "        dataset_path = dataset_download(\n",
    "            handle=\"mauroabidalcarrer/prepocessed-cmi-2025\",\n",
    "            force_download=force_download\n",
    "        )\n",
    "        parent_dir = join(dataset_path, \"preprocessed_dataset\", parent_dir)\n",
    "        split = \"\" if split is None else split + \"_\"\n",
    "        self.x = np.load(join(parent_dir, f\"{split}X.npy\"), mmap_mode=\"r\").swapaxes(1, 2)\n",
    "        self.y = np.load(join(parent_dir, f\"{split}Y.npy\"), mmap_mode=\"r\")\n",
    "        if subset is not None:\n",
    "            self.x = self.x[:subset]\n",
    "            self.y = self.y[:subset]\n",
    "\n",
    "    def __len__(self):\n",
    "        return len(self.x)\n",
    "\n",
    "    def __getitem__(self, idx):\n",
    "        return self.x[idx].copy(), self.y[idx].copy()\n",
    "\n",
    "train_dataset = CMIDataset(\"fold_0\", \"train\", force_download=False)\n",
    "train_data_loader = DataLoader(train_dataset, BATCH_SIZE, shuffle=True)\n",
    "\n",
    "validation_dataset = CMIDataset(\"fold_0\", \"validation\", force_download=False)\n",
    "validation_data_loader = DataLoader(train_dataset, BATCH_SIZE * 4, shuffle=False)"
   ]
  },
  {
   "cell_type": "code",
   "execution_count": null,
   "id": "5ecc32a1",
   "metadata": {},
   "outputs": [],
   "source": [
    "class ResidualBlock(nn.Module):\n",
    "    def __init__(self, in_chns:int, out_chns:int):\n",
    "        super().__init__()\n",
    "        self.blocks = nn.Sequential(\n",
    "            nn.Conv1d(in_chns, out_chns, kernel_size=3, padding=1),\n",
    "            nn.BatchNorm1d(out_chns),\n",
    "            nn.ReLU(),\n",
    "            nn.Conv1d(out_chns, out_chns, kernel_size=3, padding=1),\n",
    "            nn.BatchNorm1d(out_chns),\n",
    "        )\n",
    "        if in_chns == out_chns:\n",
    "            self.skip_connection = nn.Identity() \n",
    "        else:\n",
    "            # TODO: set bias to False ?\n",
    "            self.skip_connection = nn.Sequential(\n",
    "                nn.Conv1d(in_chns, out_chns, 1),\n",
    "                nn.BatchNorm1d(out_chns)\n",
    "            )\n",
    "\n",
    "    def forward(self, x:Tensor) -> Tensor:\n",
    "        activaition_maps = self.skip_connection(x) + self.blocks(x)\n",
    "        return nn.functional.relu(activaition_maps)\n",
    "\n",
    "class Resnet(nn.Module):\n",
    "    def __init__(\n",
    "            self,\n",
    "            in_channels:int,\n",
    "            depth:int,\n",
    "            # n_res_block_per_depth:int,\n",
    "            mlp_width:int,\n",
    "            n_class:int,\n",
    "        ):\n",
    "        super().__init__()\n",
    "        chs_per_depth = [in_channels * 2 ** i for i in range(depth)]\n",
    "        blocks_chns_it = pairwise(chs_per_depth)\n",
    "        self.res_blocks = [ResidualBlock(in_chns, out_chns) for in_chns, out_chns in blocks_chns_it]\n",
    "        self.res_blocks = nn.ModuleList(self.res_blocks)\n",
    "        self.mlp_head = nn.Sequential(\n",
    "            nn.LazyLinear(mlp_width),\n",
    "            nn.ReLU(),\n",
    "            nn.Linear(mlp_width, n_class),\n",
    "            nn.Softmax(dim=1),\n",
    "        )\n",
    "        \n",
    "        \n",
    "    def forward(self, x:Tensor) -> Tensor:\n",
    "        activation_maps = x\n",
    "        for res_block in self.res_blocks:\n",
    "            activation_maps = nn.functional.max_pool1d(res_block(activation_maps), 2)\n",
    "        out = activation_maps.view(activation_maps.shape[0], -1)\n",
    "        out = self.mlp_head(out)\n",
    "        return out\n",
    "\n",
    "model = Resnet(\n",
    "    in_channels=17,\n",
    "    depth=4,\n",
    "    mlp_width=256,\n",
    "    n_classes=18,\n",
    ")"
   ]
  },
  {
   "cell_type": "code",
   "execution_count": 27,
   "id": "7cc879eb",
   "metadata": {},
   "outputs": [],
   "source": [
    "import os\n",
    "from datetime import datetime\n",
    "\n",
    "import torch\n",
    "from torch import nn\n",
    "import plotly.express as px\n",
    "from rich.progress import Progress, Task, track\n",
    "from pandas import DataFrame as DF\n",
    "from torch.utils.data import DataLoader as DL\n",
    "from torch.optim.lr_scheduler import LRScheduler\n",
    "\n",
    "\n",
    "def fit(epochs:int,\n",
    "        model: nn.Module,\n",
    "        scheduler: LRScheduler,\n",
    "        optimizer: torch.optim.Optimizer,\n",
    "        train_loader: DL,\n",
    "        criterion: callable=nn.L1Loss(),\n",
    "        evaluation_func: callable=None,\n",
    "        validation_loader: DL=None,\n",
    "        save_checkpoints=True,\n",
    "    ) -> DF:\n",
    "    # Setup\n",
    "    metrics: list[dict] = []\n",
    "    checkpoints_dir = os.path.join(\"checkpoints\", mk_date_now_str())\n",
    "    step = 0\n",
    "    model_device = next(model.parameters()).device\n",
    "    # Training loop\n",
    "    with Progress() as progress:\n",
    "        task: Task = progress.add_task(\n",
    "            \"training...\",\n",
    "            # f\"epoch: {epoch + 1}, batch_loss: ...\",\n",
    "            total=len(train_loader),\n",
    "        )\n",
    "        for epoch in range(epochs):\n",
    "            progress.update(\n",
    "                task,\n",
    "                description=f\"epoch: {epoch}\",\n",
    "                completed=0,\n",
    "            )\n",
    "            total_epoch_loss = 0\n",
    "            for batch_idx, (x, y) in enumerate(train_loader):\n",
    "                # forward\n",
    "                x = x.to(model_device)\n",
    "                y = y.to(model_device)\n",
    "                model.train()\n",
    "                optimizer.zero_grad()\n",
    "                y_pred = model(x)\n",
    "                loss_value = criterion(y_pred, y)\n",
    "                # Verify loss value\n",
    "                if torch.isnan(loss_value).any().item():\n",
    "                    progress.print(\"Warning: Got NaN loss, something went wrong.\")\n",
    "                    return DF.from_records(metrics) \n",
    "                if torch.isinf(loss_value).any().item():\n",
    "                    progress.print(\"Warning: Got infinite loss, something went wrong.\")\n",
    "                    return DF.from_records(metrics) \n",
    "                # TODO: Use gradient clipping?\n",
    "                loss_value.backward()\n",
    "                optimizer.step()\n",
    "                if step > 0: # If it's not the first training step\n",
    "                    # Call the scheduler step method, idk why it throws an error otherwise\n",
    "                    scheduler.step()\n",
    "                # metrics\n",
    "                total_epoch_loss += loss_value.item()\n",
    "                metrics.append({\n",
    "                    \"step\": step,\n",
    "                    \"epoch\": epoch,\n",
    "                    \"batch_train_loss\": loss_value.item(),\n",
    "                    \"lr\": optimizer.state_dict()[\"param_groups\"][-1][\"lr\"],\n",
    "                })\n",
    "                step += 1\n",
    "                progress.update(\n",
    "                    task,\n",
    "                    advance=1,\n",
    "                    description=f\"epoch: {epoch}, batch_loss: {(total_epoch_loss / (batch_idx+1)):.2f}\"\n",
    "                )\n",
    "            # Post epoch evalution\n",
    "            metrics[-1][\"train_epoch_loss\"] = total_epoch_loss / len(train_loader)\n",
    "            if evaluation_func:\n",
    "                progress.update(\n",
    "                    task,\n",
    "                    completed=0,\n",
    "                    description=f\"epoch: {epoch}, evaluating...\"\n",
    "                )\n",
    "                eval_metrics = evaluation_func(model, criterion, validation_loader)\n",
    "                progress.print(\"validation loss:\", eval_metrics[\"validation_loss\"])\n",
    "                metrics[-1].update(eval_metrics)\n",
    "            # Save checkpoint\n",
    "            if save_checkpoints:\n",
    "                checkpoint = mk_checkpoint(epoch, model, scheduler, optimizer)\n",
    "                metrics_df = DF.from_records(metrics)\n",
    "                best_model_metric = \"validation_loss\" if \"validation_loss\" in metrics_df.columns else \"train_epoch_loss\"\n",
    "                is_best_checkpoint = (\n",
    "                    DF.from_records(metrics)\n",
    "                    .eval(f\"min_{best_model_metric} = {best_model_metric}.min()\")\n",
    "                    .eval(f\"is_best_{best_model_metric} = {best_model_metric} == min_{best_model_metric}\")\n",
    "                    .dropna(subset=f\"is_best_{best_model_metric}\")\n",
    "                    .iloc[-1]\n",
    "                    .loc[f\"is_best_{best_model_metric}\"]\n",
    "                )\n",
    "                save_checkpoint(checkpoint, checkpoints_dir, is_best_checkpoint)\n",
    "\n",
    "    return DF.from_records(metrics)\n",
    "\n",
    "def evaluate_model(\n",
    "        model: torch.nn.Module,\n",
    "        critirion:callable,\n",
    "        validation_loader:DL,\n",
    "    ) -> dict:\n",
    "    model = model.eval()\n",
    "    model_device = next(model.parameters()).device\n",
    "\n",
    "    total_test_loss = 0\n",
    "    for x, y in validation_loader:\n",
    "        x = x.to(model_device)\n",
    "        y = y.to(model_device)\n",
    "        y_pred = model(x)\n",
    "        total_test_loss += critirion(y_pred, y).item()\n",
    "    total_test_loss /= len(validation_loader)\n",
    "\n",
    "    return {\"validation_loss\": total_test_loss}\n",
    "\n",
    "def mk_checkpoint(\n",
    "        epoch:int,\n",
    "        model: torch.nn.Module,\n",
    "        scheduler: LRScheduler,\n",
    "        optimizer: torch.optim.Optimizer\n",
    "    ) -> dict:\n",
    "    return {\n",
    "        \"epoch\": epoch,\n",
    "        \"model\": model.state_dict(),\n",
    "        \"optimizer\": optimizer.state_dict(),\n",
    "        \"scheduler\": scheduler.state_dict(),\n",
    "    }\n",
    "\n",
    "def save_checkpoint(checkpoint:dict, parent_dir:str, is_best_checkpoint=False):\n",
    "    # Create model name\n",
    "    checkpoint_filename = mk_date_now_str() + \".pth\"\n",
    "    # Save model\n",
    "    os.makedirs(parent_dir, exist_ok=True)\n",
    "    checkpoint_path = os.path.join(parent_dir, checkpoint_filename)\n",
    "    torch.save(checkpoint, checkpoint_path)\n",
    "    mk_symlink(checkpoint_path, os.path.join(parent_dir, \"latest_checkpoint.pth\"))\n",
    "    if is_best_checkpoint:\n",
    "        mk_symlink(checkpoint_path, os.path.join(parent_dir, \"best_checkpoint.pth\"))\n",
    "\n",
    "def mk_date_now_str() -> str:\n",
    "    return datetime.now().strftime(\"%d-%m-%Y_%H-%M\")\n",
    "\n",
    "def mk_symlink(dest:str, symlink_path:str):\n",
    "    if os.path.islink(symlink_path) or os.path.exists(symlink_path):\n",
    "        os.remove(symlink_path)\n",
    "    os.symlink(dest, symlink_path)"
   ]
  },
  {
   "cell_type": "code",
   "execution_count": 31,
   "id": "fe1e327c",
   "metadata": {},
   "outputs": [
    {
     "data": {
      "application/vnd.jupyter.widget-view+json": {
       "model_id": "a902f611ec884aebb213c45b9e3d9a58",
       "version_major": 2,
       "version_minor": 0
      },
      "text/plain": [
       "Output()"
      ]
     },
     "metadata": {},
     "output_type": "display_data"
    },
    {
     "data": {
      "text/html": [
       "<pre style=\"white-space:pre;overflow-x:auto;line-height:normal;font-family:Menlo,'DejaVu Sans Mono',consolas,'Courier New',monospace\">validation loss: <span style=\"color: #008080; text-decoration-color: #008080; font-weight: bold\">2.720069169998169</span>\n",
       "</pre>\n"
      ],
      "text/plain": [
       "validation loss: \u001b[1;36m2.720069169998169\u001b[0m\n"
      ]
     },
     "metadata": {},
     "output_type": "display_data"
    },
    {
     "data": {
      "text/html": [
       "<pre style=\"white-space:pre;overflow-x:auto;line-height:normal;font-family:Menlo,'DejaVu Sans Mono',consolas,'Courier New',monospace\">validation loss: <span style=\"color: #008080; text-decoration-color: #008080; font-weight: bold\">2.654456411089216</span>\n",
       "</pre>\n"
      ],
      "text/plain": [
       "validation loss: \u001b[1;36m2.654456411089216\u001b[0m\n"
      ]
     },
     "metadata": {},
     "output_type": "display_data"
    },
    {
     "data": {
      "text/html": [
       "<pre style=\"white-space:pre;overflow-x:auto;line-height:normal;font-family:Menlo,'DejaVu Sans Mono',consolas,'Courier New',monospace\">validation loss: <span style=\"color: #008080; text-decoration-color: #008080; font-weight: bold\">2.59248035294669</span>\n",
       "</pre>\n"
      ],
      "text/plain": [
       "validation loss: \u001b[1;36m2.59248035294669\u001b[0m\n"
      ]
     },
     "metadata": {},
     "output_type": "display_data"
    },
    {
     "data": {
      "text/html": [
       "<pre style=\"white-space:pre;overflow-x:auto;line-height:normal;font-family:Menlo,'DejaVu Sans Mono',consolas,'Courier New',monospace\">validation loss: <span style=\"color: #008080; text-decoration-color: #008080; font-weight: bold\">2.5699436323983327</span>\n",
       "</pre>\n"
      ],
      "text/plain": [
       "validation loss: \u001b[1;36m2.5699436323983327\u001b[0m\n"
      ]
     },
     "metadata": {},
     "output_type": "display_data"
    },
    {
     "data": {
      "text/html": [
       "<pre style=\"white-space:pre;overflow-x:auto;line-height:normal;font-family:Menlo,'DejaVu Sans Mono',consolas,'Courier New',monospace\">validation loss: <span style=\"color: #008080; text-decoration-color: #008080; font-weight: bold\">2.549372673034668</span>\n",
       "</pre>\n"
      ],
      "text/plain": [
       "validation loss: \u001b[1;36m2.549372673034668\u001b[0m\n"
      ]
     },
     "metadata": {},
     "output_type": "display_data"
    },
    {
     "data": {
      "text/html": [
       "<pre style=\"white-space:pre;overflow-x:auto;line-height:normal;font-family:Menlo,'DejaVu Sans Mono',consolas,'Courier New',monospace\">validation loss: <span style=\"color: #008080; text-decoration-color: #008080; font-weight: bold\">2.526899371828352</span>\n",
       "</pre>\n"
      ],
      "text/plain": [
       "validation loss: \u001b[1;36m2.526899371828352\u001b[0m\n"
      ]
     },
     "metadata": {},
     "output_type": "display_data"
    },
    {
     "data": {
      "text/html": [
       "<pre style=\"white-space:pre;overflow-x:auto;line-height:normal;font-family:Menlo,'DejaVu Sans Mono',consolas,'Courier New',monospace\">validation loss: <span style=\"color: #008080; text-decoration-color: #008080; font-weight: bold\">2.5113720893859863</span>\n",
       "</pre>\n"
      ],
      "text/plain": [
       "validation loss: \u001b[1;36m2.5113720893859863\u001b[0m\n"
      ]
     },
     "metadata": {},
     "output_type": "display_data"
    },
    {
     "data": {
      "text/html": [
       "<pre style=\"white-space:pre;overflow-x:auto;line-height:normal;font-family:Menlo,'DejaVu Sans Mono',consolas,'Courier New',monospace\">validation loss: <span style=\"color: #008080; text-decoration-color: #008080; font-weight: bold\">2.4882685456957137</span>\n",
       "</pre>\n"
      ],
      "text/plain": [
       "validation loss: \u001b[1;36m2.4882685456957137\u001b[0m\n"
      ]
     },
     "metadata": {},
     "output_type": "display_data"
    },
    {
     "data": {
      "text/html": [
       "<pre style=\"white-space:pre;overflow-x:auto;line-height:normal;font-family:Menlo,'DejaVu Sans Mono',consolas,'Courier New',monospace\">validation loss: <span style=\"color: #008080; text-decoration-color: #008080; font-weight: bold\">2.4677328382219588</span>\n",
       "</pre>\n"
      ],
      "text/plain": [
       "validation loss: \u001b[1;36m2.4677328382219588\u001b[0m\n"
      ]
     },
     "metadata": {},
     "output_type": "display_data"
    },
    {
     "data": {
      "text/html": [
       "<pre style=\"white-space:pre;overflow-x:auto;line-height:normal;font-family:Menlo,'DejaVu Sans Mono',consolas,'Courier New',monospace\">validation loss: <span style=\"color: #008080; text-decoration-color: #008080; font-weight: bold\">2.4584013053349087</span>\n",
       "</pre>\n"
      ],
      "text/plain": [
       "validation loss: \u001b[1;36m2.4584013053349087\u001b[0m\n"
      ]
     },
     "metadata": {},
     "output_type": "display_data"
    },
    {
     "data": {
      "text/html": [
       "<pre style=\"white-space:pre;overflow-x:auto;line-height:normal;font-family:Menlo,'DejaVu Sans Mono',consolas,'Courier New',monospace\">validation loss: <span style=\"color: #008080; text-decoration-color: #008080; font-weight: bold\">2.4359635625566756</span>\n",
       "</pre>\n"
      ],
      "text/plain": [
       "validation loss: \u001b[1;36m2.4359635625566756\u001b[0m\n"
      ]
     },
     "metadata": {},
     "output_type": "display_data"
    },
    {
     "data": {
      "text/html": [
       "<pre style=\"white-space:pre;overflow-x:auto;line-height:normal;font-family:Menlo,'DejaVu Sans Mono',consolas,'Courier New',monospace\">validation loss: <span style=\"color: #008080; text-decoration-color: #008080; font-weight: bold\">2.4267427240099226</span>\n",
       "</pre>\n"
      ],
      "text/plain": [
       "validation loss: \u001b[1;36m2.4267427240099226\u001b[0m\n"
      ]
     },
     "metadata": {},
     "output_type": "display_data"
    },
    {
     "data": {
      "text/html": [
       "<pre style=\"white-space:pre;overflow-x:auto;line-height:normal;font-family:Menlo,'DejaVu Sans Mono',consolas,'Courier New',monospace\">validation loss: <span style=\"color: #008080; text-decoration-color: #008080; font-weight: bold\">2.4392867428915843</span>\n",
       "</pre>\n"
      ],
      "text/plain": [
       "validation loss: \u001b[1;36m2.4392867428915843\u001b[0m\n"
      ]
     },
     "metadata": {},
     "output_type": "display_data"
    },
    {
     "data": {
      "text/html": [
       "<pre style=\"white-space:pre;overflow-x:auto;line-height:normal;font-family:Menlo,'DejaVu Sans Mono',consolas,'Courier New',monospace\">validation loss: <span style=\"color: #008080; text-decoration-color: #008080; font-weight: bold\">2.409644910267421</span>\n",
       "</pre>\n"
      ],
      "text/plain": [
       "validation loss: \u001b[1;36m2.409644910267421\u001b[0m\n"
      ]
     },
     "metadata": {},
     "output_type": "display_data"
    },
    {
     "data": {
      "text/html": [
       "<pre style=\"white-space:pre;overflow-x:auto;line-height:normal;font-family:Menlo,'DejaVu Sans Mono',consolas,'Courier New',monospace\">validation loss: <span style=\"color: #008080; text-decoration-color: #008080; font-weight: bold\">2.401176929473877</span>\n",
       "</pre>\n"
      ],
      "text/plain": [
       "validation loss: \u001b[1;36m2.401176929473877\u001b[0m\n"
      ]
     },
     "metadata": {},
     "output_type": "display_data"
    },
    {
     "data": {
      "text/html": [
       "<pre style=\"white-space:pre;overflow-x:auto;line-height:normal;font-family:Menlo,'DejaVu Sans Mono',consolas,'Courier New',monospace\">validation loss: <span style=\"color: #008080; text-decoration-color: #008080; font-weight: bold\">2.3881980010441373</span>\n",
       "</pre>\n"
      ],
      "text/plain": [
       "validation loss: \u001b[1;36m2.3881980010441373\u001b[0m\n"
      ]
     },
     "metadata": {},
     "output_type": "display_data"
    },
    {
     "data": {
      "text/html": [
       "<pre style=\"white-space:pre;overflow-x:auto;line-height:normal;font-family:Menlo,'DejaVu Sans Mono',consolas,'Courier New',monospace\">validation loss: <span style=\"color: #008080; text-decoration-color: #008080; font-weight: bold\">2.3929499217442105</span>\n",
       "</pre>\n"
      ],
      "text/plain": [
       "validation loss: \u001b[1;36m2.3929499217442105\u001b[0m\n"
      ]
     },
     "metadata": {},
     "output_type": "display_data"
    },
    {
     "data": {
      "text/html": [
       "<pre style=\"white-space:pre;overflow-x:auto;line-height:normal;font-family:Menlo,'DejaVu Sans Mono',consolas,'Courier New',monospace\">validation loss: <span style=\"color: #008080; text-decoration-color: #008080; font-weight: bold\">2.366753510066441</span>\n",
       "</pre>\n"
      ],
      "text/plain": [
       "validation loss: \u001b[1;36m2.366753510066441\u001b[0m\n"
      ]
     },
     "metadata": {},
     "output_type": "display_data"
    },
    {
     "data": {
      "text/html": [
       "<pre style=\"white-space:pre;overflow-x:auto;line-height:normal;font-family:Menlo,'DejaVu Sans Mono',consolas,'Courier New',monospace\">validation loss: <span style=\"color: #008080; text-decoration-color: #008080; font-weight: bold\">2.3716511726379395</span>\n",
       "</pre>\n"
      ],
      "text/plain": [
       "validation loss: \u001b[1;36m2.3716511726379395\u001b[0m\n"
      ]
     },
     "metadata": {},
     "output_type": "display_data"
    },
    {
     "data": {
      "text/html": [
       "<pre style=\"white-space:pre;overflow-x:auto;line-height:normal;font-family:Menlo,'DejaVu Sans Mono',consolas,'Courier New',monospace\">validation loss: <span style=\"color: #008080; text-decoration-color: #008080; font-weight: bold\">2.349153688975743</span>\n",
       "</pre>\n"
      ],
      "text/plain": [
       "validation loss: \u001b[1;36m2.349153688975743\u001b[0m\n"
      ]
     },
     "metadata": {},
     "output_type": "display_data"
    },
    {
     "data": {
      "text/html": [
       "<pre style=\"white-space:pre;overflow-x:auto;line-height:normal;font-family:Menlo,'DejaVu Sans Mono',consolas,'Courier New',monospace\">validation loss: <span style=\"color: #008080; text-decoration-color: #008080; font-weight: bold\">2.3478396279471263</span>\n",
       "</pre>\n"
      ],
      "text/plain": [
       "validation loss: \u001b[1;36m2.3478396279471263\u001b[0m\n"
      ]
     },
     "metadata": {},
     "output_type": "display_data"
    },
    {
     "data": {
      "text/html": [
       "<pre style=\"white-space:pre;overflow-x:auto;line-height:normal;font-family:Menlo,'DejaVu Sans Mono',consolas,'Courier New',monospace\">validation loss: <span style=\"color: #008080; text-decoration-color: #008080; font-weight: bold\">2.3285355227334157</span>\n",
       "</pre>\n"
      ],
      "text/plain": [
       "validation loss: \u001b[1;36m2.3285355227334157\u001b[0m\n"
      ]
     },
     "metadata": {},
     "output_type": "display_data"
    },
    {
     "data": {
      "text/html": [
       "<pre style=\"white-space:pre;overflow-x:auto;line-height:normal;font-family:Menlo,'DejaVu Sans Mono',consolas,'Courier New',monospace\">validation loss: <span style=\"color: #008080; text-decoration-color: #008080; font-weight: bold\">2.3123954023633684</span>\n",
       "</pre>\n"
      ],
      "text/plain": [
       "validation loss: \u001b[1;36m2.3123954023633684\u001b[0m\n"
      ]
     },
     "metadata": {},
     "output_type": "display_data"
    },
    {
     "data": {
      "text/html": [
       "<pre style=\"white-space:pre;overflow-x:auto;line-height:normal;font-family:Menlo,'DejaVu Sans Mono',consolas,'Courier New',monospace\">validation loss: <span style=\"color: #008080; text-decoration-color: #008080; font-weight: bold\">2.315007822854178</span>\n",
       "</pre>\n"
      ],
      "text/plain": [
       "validation loss: \u001b[1;36m2.315007822854178\u001b[0m\n"
      ]
     },
     "metadata": {},
     "output_type": "display_data"
    },
    {
     "data": {
      "text/html": [
       "<pre style=\"white-space:pre;overflow-x:auto;line-height:normal;font-family:Menlo,'DejaVu Sans Mono',consolas,'Courier New',monospace\">validation loss: <span style=\"color: #008080; text-decoration-color: #008080; font-weight: bold\">2.308449915477208</span>\n",
       "</pre>\n"
      ],
      "text/plain": [
       "validation loss: \u001b[1;36m2.308449915477208\u001b[0m\n"
      ]
     },
     "metadata": {},
     "output_type": "display_data"
    },
    {
     "data": {
      "text/html": [
       "<pre style=\"white-space:pre;overflow-x:auto;line-height:normal;font-family:Menlo,'DejaVu Sans Mono',consolas,'Courier New',monospace\">validation loss: <span style=\"color: #008080; text-decoration-color: #008080; font-weight: bold\">2.298602955681937</span>\n",
       "</pre>\n"
      ],
      "text/plain": [
       "validation loss: \u001b[1;36m2.298602955681937\u001b[0m\n"
      ]
     },
     "metadata": {},
     "output_type": "display_data"
    },
    {
     "data": {
      "text/html": [
       "<pre style=\"white-space:pre;overflow-x:auto;line-height:normal;font-family:Menlo,'DejaVu Sans Mono',consolas,'Courier New',monospace\">validation loss: <span style=\"color: #008080; text-decoration-color: #008080; font-weight: bold\">2.2933080196380615</span>\n",
       "</pre>\n"
      ],
      "text/plain": [
       "validation loss: \u001b[1;36m2.2933080196380615\u001b[0m\n"
      ]
     },
     "metadata": {},
     "output_type": "display_data"
    },
    {
     "data": {
      "text/html": [
       "<pre style=\"white-space:pre;overflow-x:auto;line-height:normal;font-family:Menlo,'DejaVu Sans Mono',consolas,'Courier New',monospace\">validation loss: <span style=\"color: #008080; text-decoration-color: #008080; font-weight: bold\">2.2886240482330322</span>\n",
       "</pre>\n"
      ],
      "text/plain": [
       "validation loss: \u001b[1;36m2.2886240482330322\u001b[0m\n"
      ]
     },
     "metadata": {},
     "output_type": "display_data"
    },
    {
     "data": {
      "text/html": [
       "<pre style=\"white-space:pre;overflow-x:auto;line-height:normal;font-family:Menlo,'DejaVu Sans Mono',consolas,'Courier New',monospace\">validation loss: <span style=\"color: #008080; text-decoration-color: #008080; font-weight: bold\">2.2806126049586704</span>\n",
       "</pre>\n"
      ],
      "text/plain": [
       "validation loss: \u001b[1;36m2.2806126049586704\u001b[0m\n"
      ]
     },
     "metadata": {},
     "output_type": "display_data"
    },
    {
     "data": {
      "text/html": [
       "<pre style=\"white-space:pre;overflow-x:auto;line-height:normal;font-family:Menlo,'DejaVu Sans Mono',consolas,'Courier New',monospace\">validation loss: <span style=\"color: #008080; text-decoration-color: #008080; font-weight: bold\">2.2791645186288014</span>\n",
       "</pre>\n"
      ],
      "text/plain": [
       "validation loss: \u001b[1;36m2.2791645186288014\u001b[0m\n"
      ]
     },
     "metadata": {},
     "output_type": "display_data"
    },
    {
     "data": {
      "text/html": [
       "<pre style=\"white-space:pre;overflow-x:auto;line-height:normal;font-family:Menlo,'DejaVu Sans Mono',consolas,'Courier New',monospace\">validation loss: <span style=\"color: #008080; text-decoration-color: #008080; font-weight: bold\">2.2799294335501537</span>\n",
       "</pre>\n"
      ],
      "text/plain": [
       "validation loss: \u001b[1;36m2.2799294335501537\u001b[0m\n"
      ]
     },
     "metadata": {},
     "output_type": "display_data"
    },
    {
     "data": {
      "text/html": [
       "<pre style=\"white-space:pre;overflow-x:auto;line-height:normal;font-family:Menlo,'DejaVu Sans Mono',consolas,'Courier New',monospace\">validation loss: <span style=\"color: #008080; text-decoration-color: #008080; font-weight: bold\">2.272982154573713</span>\n",
       "</pre>\n"
      ],
      "text/plain": [
       "validation loss: \u001b[1;36m2.272982154573713\u001b[0m\n"
      ]
     },
     "metadata": {},
     "output_type": "display_data"
    },
    {
     "data": {
      "text/html": [
       "<pre style=\"white-space:pre;overflow-x:auto;line-height:normal;font-family:Menlo,'DejaVu Sans Mono',consolas,'Courier New',monospace\">validation loss: <span style=\"color: #008080; text-decoration-color: #008080; font-weight: bold\">2.2702230385371616</span>\n",
       "</pre>\n"
      ],
      "text/plain": [
       "validation loss: \u001b[1;36m2.2702230385371616\u001b[0m\n"
      ]
     },
     "metadata": {},
     "output_type": "display_data"
    },
    {
     "data": {
      "text/html": [
       "<pre style=\"white-space:pre;overflow-x:auto;line-height:normal;font-family:Menlo,'DejaVu Sans Mono',consolas,'Courier New',monospace\">validation loss: <span style=\"color: #008080; text-decoration-color: #008080; font-weight: bold\">2.26631007875715</span>\n",
       "</pre>\n"
      ],
      "text/plain": [
       "validation loss: \u001b[1;36m2.26631007875715\u001b[0m\n"
      ]
     },
     "metadata": {},
     "output_type": "display_data"
    },
    {
     "data": {
      "text/html": [
       "<pre style=\"white-space:pre;overflow-x:auto;line-height:normal;font-family:Menlo,'DejaVu Sans Mono',consolas,'Courier New',monospace\">validation loss: <span style=\"color: #008080; text-decoration-color: #008080; font-weight: bold\">2.269578150340489</span>\n",
       "</pre>\n"
      ],
      "text/plain": [
       "validation loss: \u001b[1;36m2.269578150340489\u001b[0m\n"
      ]
     },
     "metadata": {},
     "output_type": "display_data"
    },
    {
     "data": {
      "text/html": [
       "<pre style=\"white-space:pre;overflow-x:auto;line-height:normal;font-family:Menlo,'DejaVu Sans Mono',consolas,'Courier New',monospace\">validation loss: <span style=\"color: #008080; text-decoration-color: #008080; font-weight: bold\">2.264625447137015</span>\n",
       "</pre>\n"
      ],
      "text/plain": [
       "validation loss: \u001b[1;36m2.264625447137015\u001b[0m\n"
      ]
     },
     "metadata": {},
     "output_type": "display_data"
    },
    {
     "data": {
      "text/html": [
       "<pre style=\"white-space:pre;overflow-x:auto;line-height:normal;font-family:Menlo,'DejaVu Sans Mono',consolas,'Courier New',monospace\">validation loss: <span style=\"color: #008080; text-decoration-color: #008080; font-weight: bold\">2.263852494103568</span>\n",
       "</pre>\n"
      ],
      "text/plain": [
       "validation loss: \u001b[1;36m2.263852494103568\u001b[0m\n"
      ]
     },
     "metadata": {},
     "output_type": "display_data"
    },
    {
     "data": {
      "text/html": [
       "<pre style=\"white-space:pre;overflow-x:auto;line-height:normal;font-family:Menlo,'DejaVu Sans Mono',consolas,'Courier New',monospace\">validation loss: <span style=\"color: #008080; text-decoration-color: #008080; font-weight: bold\">2.261477674756731</span>\n",
       "</pre>\n"
      ],
      "text/plain": [
       "validation loss: \u001b[1;36m2.261477674756731\u001b[0m\n"
      ]
     },
     "metadata": {},
     "output_type": "display_data"
    },
    {
     "data": {
      "text/html": [
       "<pre style=\"white-space:pre;overflow-x:auto;line-height:normal;font-family:Menlo,'DejaVu Sans Mono',consolas,'Courier New',monospace\">validation loss: <span style=\"color: #008080; text-decoration-color: #008080; font-weight: bold\">2.2581593990325928</span>\n",
       "</pre>\n"
      ],
      "text/plain": [
       "validation loss: \u001b[1;36m2.2581593990325928\u001b[0m\n"
      ]
     },
     "metadata": {},
     "output_type": "display_data"
    },
    {
     "data": {
      "text/html": [
       "<pre style=\"white-space:pre;overflow-x:auto;line-height:normal;font-family:Menlo,'DejaVu Sans Mono',consolas,'Courier New',monospace\">validation loss: <span style=\"color: #008080; text-decoration-color: #008080; font-weight: bold\">2.2645409447806224</span>\n",
       "</pre>\n"
      ],
      "text/plain": [
       "validation loss: \u001b[1;36m2.2645409447806224\u001b[0m\n"
      ]
     },
     "metadata": {},
     "output_type": "display_data"
    },
    {
     "data": {
      "text/html": [
       "<pre style=\"white-space:pre;overflow-x:auto;line-height:normal;font-family:Menlo,'DejaVu Sans Mono',consolas,'Courier New',monospace\">validation loss: <span style=\"color: #008080; text-decoration-color: #008080; font-weight: bold\">2.25924699647086</span>\n",
       "</pre>\n"
      ],
      "text/plain": [
       "validation loss: \u001b[1;36m2.25924699647086\u001b[0m\n"
      ]
     },
     "metadata": {},
     "output_type": "display_data"
    },
    {
     "data": {
      "text/html": [
       "<pre style=\"white-space:pre;overflow-x:auto;line-height:normal;font-family:Menlo,'DejaVu Sans Mono',consolas,'Courier New',monospace\">validation loss: <span style=\"color: #008080; text-decoration-color: #008080; font-weight: bold\">2.252018928527832</span>\n",
       "</pre>\n"
      ],
      "text/plain": [
       "validation loss: \u001b[1;36m2.252018928527832\u001b[0m\n"
      ]
     },
     "metadata": {},
     "output_type": "display_data"
    },
    {
     "data": {
      "text/html": [
       "<pre style=\"white-space:pre;overflow-x:auto;line-height:normal;font-family:Menlo,'DejaVu Sans Mono',consolas,'Courier New',monospace\">validation loss: <span style=\"color: #008080; text-decoration-color: #008080; font-weight: bold\">2.2521592548915317</span>\n",
       "</pre>\n"
      ],
      "text/plain": [
       "validation loss: \u001b[1;36m2.2521592548915317\u001b[0m\n"
      ]
     },
     "metadata": {},
     "output_type": "display_data"
    },
    {
     "data": {
      "text/html": [
       "<pre style=\"white-space:pre;overflow-x:auto;line-height:normal;font-family:Menlo,'DejaVu Sans Mono',consolas,'Courier New',monospace\">validation loss: <span style=\"color: #008080; text-decoration-color: #008080; font-weight: bold\">2.2497739451272145</span>\n",
       "</pre>\n"
      ],
      "text/plain": [
       "validation loss: \u001b[1;36m2.2497739451272145\u001b[0m\n"
      ]
     },
     "metadata": {},
     "output_type": "display_data"
    },
    {
     "data": {
      "text/html": [
       "<pre style=\"white-space:pre;overflow-x:auto;line-height:normal;font-family:Menlo,'DejaVu Sans Mono',consolas,'Courier New',monospace\">validation loss: <span style=\"color: #008080; text-decoration-color: #008080; font-weight: bold\">2.247391019548689</span>\n",
       "</pre>\n"
      ],
      "text/plain": [
       "validation loss: \u001b[1;36m2.247391019548689\u001b[0m\n"
      ]
     },
     "metadata": {},
     "output_type": "display_data"
    },
    {
     "data": {
      "text/html": [
       "<pre style=\"white-space:pre;overflow-x:auto;line-height:normal;font-family:Menlo,'DejaVu Sans Mono',consolas,'Courier New',monospace\">validation loss: <span style=\"color: #008080; text-decoration-color: #008080; font-weight: bold\">2.246690954480852</span>\n",
       "</pre>\n"
      ],
      "text/plain": [
       "validation loss: \u001b[1;36m2.246690954480852\u001b[0m\n"
      ]
     },
     "metadata": {},
     "output_type": "display_data"
    },
    {
     "data": {
      "text/html": [
       "<pre style=\"white-space:pre;overflow-x:auto;line-height:normal;font-family:Menlo,'DejaVu Sans Mono',consolas,'Courier New',monospace\">validation loss: <span style=\"color: #008080; text-decoration-color: #008080; font-weight: bold\">2.248120137623378</span>\n",
       "</pre>\n"
      ],
      "text/plain": [
       "validation loss: \u001b[1;36m2.248120137623378\u001b[0m\n"
      ]
     },
     "metadata": {},
     "output_type": "display_data"
    },
    {
     "data": {
      "text/html": [
       "<pre style=\"white-space:pre;overflow-x:auto;line-height:normal;font-family:Menlo,'DejaVu Sans Mono',consolas,'Courier New',monospace\">validation loss: <span style=\"color: #008080; text-decoration-color: #008080; font-weight: bold\">2.2441224370683943</span>\n",
       "</pre>\n"
      ],
      "text/plain": [
       "validation loss: \u001b[1;36m2.2441224370683943\u001b[0m\n"
      ]
     },
     "metadata": {},
     "output_type": "display_data"
    },
    {
     "data": {
      "text/html": [
       "<pre style=\"white-space:pre;overflow-x:auto;line-height:normal;font-family:Menlo,'DejaVu Sans Mono',consolas,'Courier New',monospace\">validation loss: <span style=\"color: #008080; text-decoration-color: #008080; font-weight: bold\">2.2293810844421387</span>\n",
       "</pre>\n"
      ],
      "text/plain": [
       "validation loss: \u001b[1;36m2.2293810844421387\u001b[0m\n"
      ]
     },
     "metadata": {},
     "output_type": "display_data"
    },
    {
     "data": {
      "text/html": [
       "<pre style=\"white-space:pre;overflow-x:auto;line-height:normal;font-family:Menlo,'DejaVu Sans Mono',consolas,'Courier New',monospace\">validation loss: <span style=\"color: #008080; text-decoration-color: #008080; font-weight: bold\">2.2178167956215993</span>\n",
       "</pre>\n"
      ],
      "text/plain": [
       "validation loss: \u001b[1;36m2.2178167956215993\u001b[0m\n"
      ]
     },
     "metadata": {},
     "output_type": "display_data"
    },
    {
     "data": {
      "text/html": [
       "<pre style=\"white-space:pre;overflow-x:auto;line-height:normal;font-family:Menlo,'DejaVu Sans Mono',consolas,'Courier New',monospace\">validation loss: <span style=\"color: #008080; text-decoration-color: #008080; font-weight: bold\">2.208789416721889</span>\n",
       "</pre>\n"
      ],
      "text/plain": [
       "validation loss: \u001b[1;36m2.208789416721889\u001b[0m\n"
      ]
     },
     "metadata": {},
     "output_type": "display_data"
    },
    {
     "data": {
      "text/html": [
       "<pre style=\"white-space:pre;overflow-x:auto;line-height:normal;font-family:Menlo,'DejaVu Sans Mono',consolas,'Courier New',monospace\">validation loss: <span style=\"color: #008080; text-decoration-color: #008080; font-weight: bold\">2.2134632723672047</span>\n",
       "</pre>\n"
      ],
      "text/plain": [
       "validation loss: \u001b[1;36m2.2134632723672047\u001b[0m\n"
      ]
     },
     "metadata": {},
     "output_type": "display_data"
    },
    {
     "data": {
      "text/html": [
       "<pre style=\"white-space:pre;overflow-x:auto;line-height:normal;font-family:Menlo,'DejaVu Sans Mono',consolas,'Courier New',monospace\">validation loss: <span style=\"color: #008080; text-decoration-color: #008080; font-weight: bold\">2.203662429537092</span>\n",
       "</pre>\n"
      ],
      "text/plain": [
       "validation loss: \u001b[1;36m2.203662429537092\u001b[0m\n"
      ]
     },
     "metadata": {},
     "output_type": "display_data"
    },
    {
     "data": {
      "text/html": [
       "<pre style=\"white-space:pre;overflow-x:auto;line-height:normal;font-family:Menlo,'DejaVu Sans Mono',consolas,'Courier New',monospace\">validation loss: <span style=\"color: #008080; text-decoration-color: #008080; font-weight: bold\">2.218156780515398</span>\n",
       "</pre>\n"
      ],
      "text/plain": [
       "validation loss: \u001b[1;36m2.218156780515398\u001b[0m\n"
      ]
     },
     "metadata": {},
     "output_type": "display_data"
    },
    {
     "data": {
      "text/html": [
       "<pre style=\"white-space:pre;overflow-x:auto;line-height:normal;font-family:Menlo,'DejaVu Sans Mono',consolas,'Courier New',monospace\">validation loss: <span style=\"color: #008080; text-decoration-color: #008080; font-weight: bold\">2.2011166640690396</span>\n",
       "</pre>\n"
      ],
      "text/plain": [
       "validation loss: \u001b[1;36m2.2011166640690396\u001b[0m\n"
      ]
     },
     "metadata": {},
     "output_type": "display_data"
    },
    {
     "data": {
      "text/html": [
       "<pre style=\"white-space:pre;overflow-x:auto;line-height:normal;font-family:Menlo,'DejaVu Sans Mono',consolas,'Courier New',monospace\">validation loss: <span style=\"color: #008080; text-decoration-color: #008080; font-weight: bold\">2.1912219524383545</span>\n",
       "</pre>\n"
      ],
      "text/plain": [
       "validation loss: \u001b[1;36m2.1912219524383545\u001b[0m\n"
      ]
     },
     "metadata": {},
     "output_type": "display_data"
    },
    {
     "data": {
      "text/html": [
       "<pre style=\"white-space:pre;overflow-x:auto;line-height:normal;font-family:Menlo,'DejaVu Sans Mono',consolas,'Courier New',monospace\">validation loss: <span style=\"color: #008080; text-decoration-color: #008080; font-weight: bold\">2.187854834965297</span>\n",
       "</pre>\n"
      ],
      "text/plain": [
       "validation loss: \u001b[1;36m2.187854834965297\u001b[0m\n"
      ]
     },
     "metadata": {},
     "output_type": "display_data"
    },
    {
     "data": {
      "text/html": [
       "<pre style=\"white-space:pre;overflow-x:auto;line-height:normal;font-family:Menlo,'DejaVu Sans Mono',consolas,'Courier New',monospace\">validation loss: <span style=\"color: #008080; text-decoration-color: #008080; font-weight: bold\">2.1946707453046526</span>\n",
       "</pre>\n"
      ],
      "text/plain": [
       "validation loss: \u001b[1;36m2.1946707453046526\u001b[0m\n"
      ]
     },
     "metadata": {},
     "output_type": "display_data"
    },
    {
     "data": {
      "text/html": [
       "<pre style=\"white-space:pre;overflow-x:auto;line-height:normal;font-family:Menlo,'DejaVu Sans Mono',consolas,'Courier New',monospace\">validation loss: <span style=\"color: #008080; text-decoration-color: #008080; font-weight: bold\">2.190487725394113</span>\n",
       "</pre>\n"
      ],
      "text/plain": [
       "validation loss: \u001b[1;36m2.190487725394113\u001b[0m\n"
      ]
     },
     "metadata": {},
     "output_type": "display_data"
    },
    {
     "data": {
      "text/html": [
       "<pre style=\"white-space:pre;overflow-x:auto;line-height:normal;font-family:Menlo,'DejaVu Sans Mono',consolas,'Courier New',monospace\">validation loss: <span style=\"color: #008080; text-decoration-color: #008080; font-weight: bold\">2.1868258884974887</span>\n",
       "</pre>\n"
      ],
      "text/plain": [
       "validation loss: \u001b[1;36m2.1868258884974887\u001b[0m\n"
      ]
     },
     "metadata": {},
     "output_type": "display_data"
    },
    {
     "data": {
      "text/html": [
       "<pre style=\"white-space:pre;overflow-x:auto;line-height:normal;font-family:Menlo,'DejaVu Sans Mono',consolas,'Courier New',monospace\"></pre>\n"
      ],
      "text/plain": []
     },
     "metadata": {},
     "output_type": "display_data"
    }
   ],
   "source": [
    "TRAINING_EPOCHS = 60\n",
    "STARTING_LR = 0.0005\n",
    "model = Resnet(in_channels=17, depth=4, mlp_width=256, n_class=18)\n",
    "optimizer = torch.optim.AdamW(model.parameters(), STARTING_LR)\n",
    "constant_lr_scheduler = ConstantLR(optimizer, factor=1, total_iters=len(train_data_loader) * TRAINING_EPOCHS)\n",
    "training_metrics = fit(\n",
    "    epochs=TRAINING_EPOCHS,\n",
    "    model=model,\n",
    "    scheduler=constant_lr_scheduler,\n",
    "    optimizer=optimizer,\n",
    "    train_loader=train_data_loader,\n",
    "    criterion=nn.CrossEntropyLoss(),\n",
    "    evaluation_func=evaluate_model,\n",
    "    validation_loader=validation_data_loader,\n",
    "    save_checkpoints=True,\n",
    ")"
   ]
  },
  {
   "cell_type": "code",
   "execution_count": 32,
   "id": "4619c4fe",
   "metadata": {},
   "outputs": [
    {
     "data": {
      "application/vnd.plotly.v1+json": {
       "config": {
        "plotlyServerURL": "https://plot.ly"
       },
       "data": [
        {
         "hovertemplate": "index=%{x}<br>batch_train_loss=%{y}<extra></extra>",
         "legendgroup": "",
         "marker": {
          "color": "#636efa",
          "symbol": "circle"
         },
         "mode": "markers",
         "name": "",
         "showlegend": false,
         "type": "scattergl",
         "x": {
          "bdata": "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",
          "dtype": "i2"
         },
         "xaxis": "x",
         "y": {
          "bdata": "AAAAQHIiB0AAAADggQMHQAAAAMBQ3AZAAAAAAPjABkAAAABAFG0GQAAAAEC2qQZAAAAAQM6VBkAAAAAA9UIGQAAAACCnggZAAAAAAJ8WBkAAAACAlEsGQAAAAKAa8wVAAAAAAKRLBkAAAADgUwIGQAAAAODG8gVAAAAAAEPcBUAAAABAVwoGQAAAACA/egZAAAAAwBvlBUAAAAAAQv8FQAAAAIAWwAVAAAAAYEmxBUAAAACAZ8gFQAAAAMAKvwVAAAAAwPeoBUAAAABgiCYGQAAAAMC+qgVAAAAAgM4lBUAAAABAXroFQAAAAIBghwVAAAAAgAalBUAAAACAKosFQAAAAMBjXwVAAAAAQDBlBUAAAAAgsIQFQAAAAKAffwVAAAAA4OGVBUAAAADAwqMFQAAAAEDycwVAAAAAgMpuBUAAAACAPmcFQAAAAODlxwVAAAAAAMAuBUAAAABg2jgFQAAAAKAFkAVAAAAAAH2DBUAAAADgEl0FQAAAAEAwfQVAAAAAwB16BUAAAADAjw0FQAAAAADIVAVAAAAAIEtjBUAAAAAg8msFQAAAAGDiKwVAAAAAgF1RBUAAAAAApCUFQAAAAABlSQVAAAAAQMMyBUAAAABAIlsFQAAAAECzGQVAAAAA4CUFBUAAAABgF0UFQAAAAIBfkQRAAAAAQFwrBUAAAAAAJvIEQAAAAKDT2QRAAAAAAKnnBEAAAACAzj0FQAAAACCeWAVAAAAAYLANBUAAAABAA8EEQAAAAMDgtgRAAAAAgJnfBEAAAACAfcQEQAAAAGDc7QRAAAAAgAF6BUAAAACgn9gEQAAAAIBkjgRAAAAA4HMQBUAAAABgISIFQAAAAOBjogRAAAAA4LG5BEAAAACAbaMEQAAAACBwKQVAAAAAYKB9BEAAAABgNhwFQAAAAEAsqARAAAAAgLL9BEAAAABA+YIEQAAAAOAEnARAAAAAwGnGBEAAAAAg/ZkEQAAAAMCLcwRAAAAAYI2lBEAAAADgCKcEQAAAAADPWQRAAAAA4HJjBEAAAACARLEEQAAAAEA4swRAAAAAwIZmBEAAAABgqegEQAAAAECd3ARAAAAAgGujBEAAAACAOCYEQAAAAIAOlARAAAAAIJLkBEAAAADACc4EQAAAAMBN3ARAAAAA4OiUBEAAAACgO6cEQAAAAAAAmgRAAAAAgEgcBEAAAABAt44EQAAAAKCmoARAAAAAYAxvBEAAAABAZ2MEQAAAAOD7MwRAAAAAgMe9BEAAAABgtpYEQAAAAIC9YgRAAAAAgLp4BEAAAADgtGoEQAAAAOBGdARAAAAAoDBhBEAAAAAgPXIEQAAAAIDtFgRAAAAAADBDBEAAAACg31UEQAAAAIB4HwRAAAAAgISfBEAAAABgoYkEQAAAAKC+QwRAAAAAgCL+A0AAAADAl4YEQAAAAKB4xwNAAAAAQN2XBEAAAABAkh4EQAAAAECXOQRAAAAAANOaBEAAAAAgNSQEQAAAAKAWTwRAAAAAILFoBEAAAABALp4EQAAAAOC9dQRAAAAAwPaVBEAAAACg3YoEQAAAACCjbQRAAAAAIHBpBEAAAADAcBIEQAAAAKAkZQRAAAAAQG0GBEAAAABAG0IEQAAAAOCbrQRAAAAAANk6BEAAAACAG34EQAAAAACq2QRAAAAAIBZLBEAAAABAttQDQAAAAAAzdgRAAAAAgM1TBEAAAAAg/yUEQAAAAIBUEwRAAAAAwC45BEAAAABAfS8EQAAAAICQBwRAAAAAoP8XBEAAAAAAhkUEQAAAACDHIwRAAAAAwKX/A0AAAACAlfcDQAAAAIDWzgNAAAAAgJE8BEAAAABgVc4EQAAAAIC+TARAAAAAoFhLBEAAAABAyxIEQAAAAEAO9gNAAAAAYKVFBEAAAAAg7xcEQAAAAEC0+QNAAAAAwF2RBEAAAACgi2cEQAAAAOC2LARAAAAAYF5MBEAAAAAAozIEQAAAAEA6zgNAAAAAwDBjBEAAAABAE+QDQAAAACCnMARAAAAAoNXvA0AAAADggQEEQAAAACBmFgRAAAAA4HLfA0AAAAAA2A8EQAAAAMCqAARAAAAAoK6cA0AAAACAKjgEQAAAAMA//wNAAAAAwPQgBEAAAABgAfwDQAAAAIDiFwRAAAAA4N0TBEAAAACA2g4EQAAAAOAjwANAAAAAoIgDBEAAAABAt/QDQAAAACAJQARAAAAAoBY5BEAAAAAAngwDQAAAAED/KgRAAAAAAK38A0AAAADAuywEQAAAAIBw0ANAAAAAAMfGA0AAAABABNkDQAAAAOBEOwRAAAAAwA7xA0AAAADA/cwDQAAAAMCG3ANAAAAAwLQnBEAAAABg0hAEQAAAAMDL9ANAAAAAQM5wA0AAAAAgxwoEQAAAAIBY2gNAAAAAwCbjA0AAAACAUt4DQAAAAAAEuQNAAAAA4GnTA0AAAADAv2kEQAAAAAA10wNAAAAAgKQlBEAAAACA6y0EQAAAAKAoSwNAAAAAAK0FBEAAAABAeQMEQAAAAIDWjwNAAAAAwHjGA0AAAADA0gUEQAAAAKCgrQNAAAAAwGrJA0AAAADAEncDQAAAAKCAFwRAAAAA4Kb0A0AAAAAgLdIDQAAAAGCh5gJAAAAAAPE5BEAAAACAUY4DQAAAAODflgNAAAAA4BjOA0AAAADAUgkEQAAAAKA8ugNAAAAAwOcBBEAAAAAgsTcEQAAAAGBh1ANAAAAAgCSiA0AAAAAAUL8DQAAAAGAq4QNAAAAAwFB2A0AAAABgKScEQAAAAECUzwNAAAAAAOVcA0AAAAAgRpgDQAAAAMB1yANAAAAAoGnLA0AAAABgRrQDQAAAAAB4mANAAAAAIFghA0AAAACgH5gDQAAAAEB/SQNAAAAAAE7PA0AAAACAJCMEQAAAAODFkQNAAAAAQJaBA0AAAABAAGoDQAAAAIAerANAAAAAQHnGA0AAAADgYFcDQAAAAEDZ3ANAAAAAwL7SA0AAAADgqEsDQAAAAAA5TQNAAAAAwDjEA0AAAAAgwfIDQAAAAIAAowNAAAAAgGrtA0AAAAAg9nEDQAAAAMAtgANAAAAAIFaUA0AAAAAAp8cDQAAAAAAYpgNAAAAAYFNjA0AAAACASOMDQAAAAEANzANAAAAAgLm/A0AAAABgVMQDQAAAAMCPBwNAAAAAYCpnA0AAAACAmfsDQAAAAGAsZQNAAAAAoCZ3A0AAAAAgEWoDQAAAAADXuANAAAAA4Im7A0AAAACAvWADQAAAAIBbvwNAAAAAoJuAA0AAAADgu68DQAAAAGBdQQNAAAAAwLiTA0AAAADgxtADQAAAAIDEqANAAAAAAB6kA0AAAAAA6G0DQAAAAADDVQNAAAAAIPBlA0AAAADgkF4DQAAAAMAKzANAAAAAgC5iA0AAAACAcRIDQAAAAEAdZgNAAAAAIMSIA0AAAAAAS1QDQAAAACCm3QJAAAAAgL6cA0AAAABAwZMDQAAAAICriANAAAAAQDs/A0AAAAAAEaIDQAAAAIDzlQNAAAAAwIqwA0AAAADgKbwDQAAAAOD+jwNAAAAAIHJ4A0AAAABAt1sDQAAAAAAA2wNAAAAAoC1MA0AAAABglG8DQAAAAEDkowNAAAAAALhrA0AAAABggNUCQAAAAAAwggNAAAAAYPc9A0AAAAAAp24DQAAAAMCddQNAAAAAwJ4hA0AAAAAg/IADQAAAAOAiVgNAAAAAQNEQA0AAAADATjoDQAAAAABQowNAAAAAoE9kA0AAAABg8A8EQAAAAMBhTgNAAAAAYHlaA0AAAAAgp8cDQAAAAMBEnwNAAAAAgF9hA0AAAAAAc4sDQAAAAEAwSANAAAAAINOvA0AAAAAgoLkDQAAAAACDVQNAAAAAIJfiAkAAAABg1iMDQAAAAEDFUQNAAAAAALC0A0AAAADAZFUDQAAAAMBPMgNAAAAAgNlnA0AAAAAAQ6kDQAAAAOC2kgNAAAAAAL1QA0AAAAAgmRkDQAAAAGCL4wJAAAAAwHaVA0AAAAAAQ0QDQAAAACBCfANAAAAAINlBA0AAAABgn4cDQAAAAMABAgNAAAAAoH8tA0AAAAAgplsDQAAAAICMmgNAAAAA4AdLA0AAAACAG0kDQAAAAKAbigNAAAAAQJUnA0AAAAAAeTwDQAAAAKBHJANAAAAAQGuCA0AAAABAcmsDQAAAAGAtQgNAAAAAwCJZA0AAAADA5lYDQAAAAEBAvANAAAAAwMhyA0AAAAAAg7oCQAAAAGBCMgNAAAAAgJFRA0AAAABgnmcDQAAAACBQHQNAAAAAALzNAkAAAACAPw8DQAAAAECrPgNAAAAAwGeWA0AAAADghl8DQAAAAMCRrQJAAAAAQPYmA0AAAADgHB0DQAAAAMBoJgNAAAAAoILrAkAAAADApCsDQAAAAOCehgNAAAAAgCJdA0AAAADgBDADQAAAAIC/IQNAAAAAwMRBA0AAAACAkx4DQAAAAIDvBQNAAAAAILQoA0AAAACgFzYDQAAAAIDt2wJAAAAAIMIPA0AAAABAPDADQAAAACBzDQNAAAAAoK1FA0AAAADATAcDQAAAAODvDwNAAAAAIIAyA0AAAABAYQ8DQAAAAIBIKANAAAAA4ExDA0AAAAAAGSkDQAAAAACsMANAAAAAgCgKA0AAAADAzO0CQAAAAOAY+gJAAAAAQKBvA0AAAAAg/BYDQAAAAMALKQNAAAAAAPsOA0AAAABg/LoCQAAAAOC1SANAAAAAQNdoA0AAAADgcRoDQAAAAGDOLwNAAAAAwAYkA0AAAADAWBIDQAAAAODg6wJAAAAAAEMYA0AAAADAlhkDQAAAACCn5wJAAAAAoKc/A0AAAACA6OYCQAAAAICDHANAAAAAQHVcA0AAAABAD9gCQAAAAMD2+QJAAAAA4PYnA0AAAACgqzcDQAAAAEBvMwNAAAAAYNBUA0AAAADgnu4CQAAAAIDxKwNAAAAAQIrPAkAAAACgduQCQAAAAAAfDQNAAAAAYIkfA0AAAADgkeMCQAAAAGCX5gJAAAAAQEzzAkAAAACATVEDQAAAACDFyQJAAAAAgAH3AkAAAACAj84CQAAAAEBhHgNAAAAAwGq5AkAAAACAZbACQAAAAAAQ+wJAAAAA4MHuAkAAAACgaF8DQAAAAGCg1QJAAAAAwOYNA0AAAACAu/gCQAAAAABg6gJAAAAAILTpAkAAAABAtqkCQAAAAICT/QJAAAAAoJXcAkAAAABgZdACQAAAAEBD/wJAAAAAIJIuA0AAAACAK9gCQAAAAKDymwJAAAAA4HhDA0AAAACA4DkDQAAAAKDnhQJAAAAAQOx1AkAAAAAAydICQAAAAGBV8wJAAAAAoHrcAkAAAADgZZECQAAAAABNqwJAAAAAgCuEAkAAAAAA98MCQAAAAODaHQNAAAAA4GTtAkAAAABAuIUCQAAAAMDC9gJAAAAAwIdKA0AAAAAgcOsCQAAAAMCEBwNAAAAAYE3IAkAAAACg698CQAAAAEBhBwNAAAAAIAwjA0AAAABATg0DQAAAAMCHBgNAAAAAQLzwAkAAAADgYqQCQAAAAECRBQNAAAAAwAbwAkAAAAAgcQIDQAAAAADc7AJAAAAAYBrYAkAAAABg2MUCQAAAAKDbzAJAAAAAwOEvA0AAAABgctECQAAAAIAWkgJAAAAAYEAXA0AAAADgTZ4CQAAAAGBDXAJAAAAAoNbmAkAAAACAQ+MCQAAAAMDncAJAAAAAIEQqA0AAAADAO4kCQAAAAIBI1QJAAAAAQIe2AkAAAABAYL8CQAAAAOBqRgNAAAAAAE2CAkAAAAAguyIDQAAAAACd3AJAAAAA4NHuAkAAAACgfJ0CQAAAAIB4jwJAAAAAgLPNAkAAAAAAQrgCQAAAAKAWmAJAAAAAQMsZA0AAAADA3PcCQAAAAGBIbgJAAAAA4GbAAkAAAACAqcoCQAAAAMCt1AJAAAAAwOjgAkAAAACgToQCQAAAAACtxgJAAAAAwA+iAkAAAAAAIrICQAAAAAAssQJAAAAAQMKGAkAAAACA3/8CQAAAAKBgiwJAAAAAoG+kAkAAAADAT+8CQAAAAAD+pQJAAAAAYAiuAkAAAAAAF6wCQAAAAIB57QJAAAAAQHDGAkAAAACgap8CQAAAAEC4ogJAAAAAoNm3AkAAAAAgFLICQAAAAOAcqwJAAAAAQLqRAkAAAADg/8UCQAAAAMCHuQJAAAAAQMdQAkAAAABAnyoCQAAAAAD4ewJAAAAAYJ1yAkAAAADAOYcCQAAAAAAa8QJAAAAAQAoBA0AAAADArZUCQAAAAKDr9wJAAAAAYDCSAkAAAABAnpsCQAAAACCsngJAAAAAoJ4YA0AAAACgHYgCQAAAAOAYiQJAAAAAoOvDAkAAAABgVGwCQAAAAMBb3AJAAAAAAKfIAkAAAACAIG8CQAAAAOC7LgJAAAAAAAOFAkAAAAAAz/ACQAAAAMCOkgJAAAAAgNWEAkAAAACA84QCQAAAACCYlAJAAAAAAK3gAkAAAABgUccCQAAAAIAgrQJAAAAA4N8jAkAAAABAL7UCQAAAAKBcYwJAAAAAAHNQAkAAAAAgovMCQAAAAABhRQJAAAAAgEKZAkAAAACA0n0CQAAAAEAgsgJAAAAAIMD8AkAAAADAW7ICQAAAAKBz2gJAAAAA4GtCAkAAAABgt24CQAAAAEDtlwJAAAAAIE1/AkAAAACgJdMCQAAAAGBTPAJAAAAAwBAFA0AAAAAgI20CQAAAAEAFmgJAAAAA4NOsAkAAAABANu8CQAAAAIAEcAJAAAAAwJmoAkAAAABgSpcCQAAAACA+jQJAAAAAAJpfAkAAAABgunYCQAAAAAB8XgJAAAAA4JqsAkAAAABAH2ICQAAAAIBOQgJAAAAAQAHOAkAAAAAAUnsCQAAAAMCueQJAAAAAQI53AkAAAACAuqQCQAAAAKD50gJAAAAAAKldAkAAAADA7oYCQAAAAOCocAJAAAAAgAfyAUAAAABAYdoCQAAAAGCUSAJAAAAAgK5dAkAAAABgYM4CQAAAACDXcgJAAAAAgM4nAkAAAACAZYUCQAAAAIAzbAJAAAAAgINrAkAAAABAiYYCQAAAAABgfQJAAAAAwJtyAkAAAAAASI4CQAAAAMAe7wJAAAAAwP2WAkAAAADgnYwCQAAAACAGZgJAAAAAIKWKAkAAAABA+qICQAAAACCoYgJAAAAA4KcpAkAAAACgxm8CQAAAACBLewJAAAAAQI9+AkAAAACg2G8CQAAAAAAlXgJAAAAAwFFkAkAAAACAIW0CQAAAAAC1hQJAAAAAYCiiAkAAAAAgc3UCQAAAACCoJAJAAAAAQAhpAkAAAADA9rcCQAAAAOAlkAJAAAAAoAtjAkAAAABA2zICQAAAACDYhgJAAAAAgFYaAkAAAACgev4BQAAAAMBP0gJAAAAAAITNAkAAAAAgsG0CQAAAAICCwAJAAAAAADarAkAAAADABYsCQAAAAMAiZQJAAAAAgLg/AkAAAACA8VkCQAAAAEBrOQJAAAAA4MtYAkAAAAAgziQCQAAAAAAVmQJAAAAAoEwXAkAAAADAVC4CQAAAAABpmwJAAAAAQH90AkAAAABgyDcCQAAAAODDLQJAAAAAYE+cAkAAAAAgDokCQAAAAMAeVQJAAAAAgO4oAkAAAAAA/kYCQAAAAEBErAJAAAAAAHgHAkAAAAAA/0ACQAAAAIDXiAJAAAAAwMN5AkAAAAAA41oCQAAAAKCplwJAAAAAYHGoAkAAAACAJ84CQAAAAIDGDQJAAAAAAPEqAkAAAACgZb4CQAAAAAD5XwJAAAAAoOO2AkAAAACgAxcCQAAAAIA9NQJAAAAAIAw2AkAAAABA+NIBQAAAAGCURwJAAAAAoIkFAkAAAABgfaICQAAAAAAXeQJAAAAAAKtvAkAAAACglXYCQAAAAKA5RwJAAAAAgCUdAkAAAAAgH2cCQAAAAACMQwJAAAAAQDWrAkAAAACAnRUCQAAAAED7dgJAAAAAYNmgAkAAAABATA8CQAAAAGBGJgJAAAAAII04A0AAAABgBAsCQAAAAAD8RAJAAAAA4KBlAkAAAACgFg4CQAAAAEA4DQJAAAAAoEkcAkAAAAAAFiYCQAAAAEBRRwJAAAAA4AcUAkAAAACgpUsCQAAAAKBvMQJAAAAAgKQIAkAAAACgGm4CQAAAAMAVSgJAAAAAQI8oAkAAAABA4XcCQAAAAOCZhgJAAAAAwGpuAkAAAACg+msCQAAAAAA2kgJAAAAAgBI4AkAAAAAgmb0CQAAAAMCijwJAAAAAQBhZAkAAAADgTzwCQAAAAGD84wFAAAAAwKlfAkAAAAAAq1MCQAAAAMD7KwJAAAAAANRiAkAAAACAS7oCQAAAAOCMewJAAAAAgBPKAkAAAABA8UICQAAAAEDNSgJAAAAAAMToAUAAAACgaRgCQAAAAEB/pgJAAAAAwJaSAkAAAAAgVVcCQAAAACCS2wFAAAAAII4oAkAAAACg8/oBQAAAAEA2QwJAAAAAwG4zAkAAAADAKV8CQAAAAOBLewJAAAAA4NOPAkAAAABAH+0BQAAAAGCmEAJAAAAA4MxGAkAAAAAAfAACQAAAAKAaeAJAAAAAgBJMAkAAAABALVACQAAAAAA5MgJAAAAAACPzAUAAAADAHjgCQAAAAGDZiQJAAAAAAH0XAkAAAACg9U0CQAAAAICIIgJAAAAAwHc8AkAAAAAA6GwCQAAAAGB4bwJAAAAAgI9bAkAAAADAUngCQAAAAMD8AQJAAAAAwBE1AkAAAADgICkCQAAAAKC/HQJAAAAAoAZMAkAAAAAgw28CQAAAAAD6PQJAAAAAgKmIAkAAAAAgtlkCQAAAAKBz6QFAAAAAQNJ6AkAAAABArIQCQAAAAIBSAwJAAAAA4NUhAkAAAADgTpQCQAAAAKDrUAJAAAAAwFgOAkAAAACA4EUCQAAAACDuDAJAAAAA4CFRAkAAAACgE9ABQAAAAMA2ewJAAAAAAJiUAkAAAAAAaP4BQAAAAICEDQJAAAAA4OkQAkAAAAAg04sCQAAAAIBoaAJAAAAAIPvcAUAAAACgToMCQAAAAMCsXgJAAAAAgHJOAkAAAAAgyD4CQAAAAMBTAwJAAAAAgGcUAkAAAADAf3gCQAAAAADsYwJAAAAAYNUmAkAAAAAg6G0CQAAAAAD8FAJAAAAA4GtbAkAAAACAOiwCQAAAAIArOwJAAAAAIHZHAkAAAACguBoCQAAAAMCRDwJAAAAAwI1KAkAAAABAJe8BQAAAAIBrRQJAAAAAoIciAkAAAAAAvv4BQAAAAACF6wFAAAAAADFeAkAAAAAg0iUCQAAAAGCPQwJAAAAAAFc4AkAAAACgSOcBQAAAAIDk+gFAAAAAwAtqAkAAAACgiGUCQAAAAEDiSgJAAAAAIBtOAkAAAACAKQoCQAAAAOALXAJAAAAAAChLAkAAAACANx0CQAAAAOCXJAJAAAAAgLpkAkAAAACg5GQCQAAAAKByEQJAAAAAgM9GAkAAAAAgUG0CQAAAAOALdwJAAAAAQFA2AkAAAAAAMeIBQAAAAMB9AgJAAAAAQJvGAUAAAACAplgCQAAAAIAg1AFAAAAAwK49AkAAAADg/pACQAAAAGD8BAJAAAAAINJmAkAAAABA8RUCQAAAACD8SAJAAAAAYOteAkAAAABAwtwBQAAAAIAUQAJAAAAAoOIxAkAAAADAG44CQAAAACCVTAJAAAAAIIdnAkAAAABgVfUBQAAAAMBzlwJAAAAAALnwAUAAAACAPeoBQAAAAGDRbwJAAAAAAMc1AkAAAAAgX1wCQAAAAIA2IwJAAAAAwG8DAkAAAACAJ8ACQAAAAEA2RwJAAAAAoOk3AkAAAABAtu4BQAAAAMCeIQJAAAAAgOwDAkAAAADA+ksCQAAAAEANJgJAAAAA4Dz1AUAAAAAgigECQAAAAKCvDQJAAAAAwBMNAkAAAADg2gUCQAAAAGDM+wFAAAAAwK//AUAAAADAACsCQAAAAIB8EwJAAAAA4Kv/AUAAAACAXu0BQAAAAMA4/gFAAAAAQMqDAkAAAACA/DoCQAAAAABw6QFAAAAAQGBBAkAAAACAHSACQAAAAKA+WQJAAAAAoAQuAkAAAACgbzMCQAAAAOCP+wFAAAAAQKEVAkAAAACgMk8CQAAAAEDzHQJAAAAAAHxwAkAAAADAFsQBQAAAAEDy5wFAAAAAIFsDAkAAAAAAn2oCQAAAACAu6wFAAAAAQCEqAkAAAABgH9cCQAAAAGCO+wFAAAAAYH5nAkAAAADg/iUCQAAAAKAe5QFAAAAAIFoSAkAAAADgU9oBQAAAAKCemQJAAAAAoNnxAUAAAACgFEoCQAAAAOBN3wFAAAAAAEwXAkAAAABgOVICQAAAAIDP/QFAAAAAQJv9AUAAAACA0ywCQAAAAOAA7gFAAAAA4Mf1AUAAAAAg6ZgCQAAAAICFBgJAAAAAQOANAkAAAAAAvxACQAAAAMBlagJAAAAAwCEYAkAAAACADwwCQAAAAAC8QQJAAAAAgL7hAkAAAAAgkVkCQAAAAKCDRwJAAAAAwPlOAkAAAABga/kBQAAAAOAb6gFAAAAAANmIAkAAAABgFu8BQAAAAICU7gFAAAAAIDkzAkAAAACgjDQCQAAAAOBQVgJAAAAAwAHdAUAAAADA4ekBQAAAAGCepgFAAAAAwKUwAkAAAABAkG0CQAAAAIDS4AFAAAAA4BU9AkAAAAAgkhECQAAAAGDG9gFAAAAA4BxdAkAAAABgDx4CQAAAAGC8PgJAAAAA4Fg8AkAAAABAtOkBQAAAAOC1qAFAAAAAAKbxAUAAAADAuBsCQAAAAIDEFAJAAAAAIDcmAkAAAACgrPYBQAAAAGD9yAFAAAAAAJ+YAkAAAADg8F4CQAAAACCqWQJAAAAAgD7LAUAAAAAA6BYCQAAAAECDDAJAAAAAoPFSAkAAAABg1B4CQAAAACDcJQJAAAAAQE0JAkAAAADgpx0CQAAAAID5QAJAAAAAQNvdAUAAAABg9FgCQAAAACAtMQJAAAAA4ObCAUAAAAAgDAQCQAAAAIDICAJAAAAAoIvdAUAAAABAwy4CQAAAAKBNcQJAAAAAQCX1AUAAAAAAekUCQAAAAOCqBwJAAAAAwGGGAkAAAADgl9wBQAAAAEBnMAJAAAAAIB/XAUAAAADAeAwCQAAAAODi6QFAAAAAoJggAkAAAAAAtQYCQAAAAAAe4QFAAAAAYOoPAkAAAADgpEoCQAAAAIDl3AFAAAAAAFQ1AkAAAACgTkACQAAAAIACqQFAAAAAIIBJAkAAAAAgyPMBQAAAAIB8mAFAAAAAgJNJAkAAAAAA/IgCQAAAAADCHQJAAAAAIBnEAUAAAAAgV30CQAAAAICBQwJAAAAAQL61AUAAAACAgzMCQAAAAECXNAJAAAAAwBYjAkAAAAAACQYCQAAAAEC02AFAAAAAoNYlAkAAAABACVwCQAAAAMCN0QFAAAAAYNDOAUAAAADA8wECQAAAAKCk2AFAAAAAwOoxAkAAAADAsL8CQAAAAMAQCAJAAAAAoIrjAUAAAAAg0RECQAAAAMCBpwFAAAAAALE2AkAAAACA+d8BQAAAAOA1IAJAAAAAIPhSAkAAAACg1RECQAAAAGCPuwFAAAAAAKRnAkAAAABAGNoBQAAAAGD69AFAAAAAoBT0AUAAAAAA+zECQAAAAKDXFQJAAAAAYJH1AUAAAAAgLuABQAAAAGC+PQJAAAAAANllAkAAAACAh/sBQAAAAEDbGAJAAAAAoMsDAkAAAACAZa8BQAAAAMAoAgJAAAAA4J9rAkAAAABAtAYCQAAAAMDRJAJAAAAAoG0+AkAAAAAgDwUCQAAAAAD2/wFAAAAAoJkJAkAAAADAaUICQAAAAAA0qAFAAAAAwDzoAUAAAACA7TUCQAAAAEAzFgJAAAAAwAYiAkAAAACAZisCQAAAAMBvUwJAAAAA4ApAAkAAAABg2tgBQAAAAMCN6wFAAAAAwBwRAkAAAADgp/wBQAAAAAA0RwJAAAAAgCcAAkAAAAAAvu0BQAAAAABpsAFAAAAAQOpKAkAAAACAkUsCQAAAAMC3qQFAAAAAoLjbAUAAAADAdqEBQAAAAAARNAJAAAAAYEL3AUAAAACACrcBQAAAAICy/wFAAAAAQEPmAUAAAABgryQCQAAAAGCnIQJAAAAAYLIkAkAAAACgO+wBQAAAAIAfxQFAAAAAYNgfAkAAAADA7F4CQAAAAADZ8QFAAAAA4Df6AUAAAADgHAECQAAAAEBg9wFAAAAAoNNMAkAAAACgvhoCQAAAAMCdEwJAAAAAoH3yAUAAAAAAMEoCQAAAAGB5HAJAAAAA4DR9AkAAAACAeTUCQAAAAGChsAFAAAAAgEzKAUAAAACg298BQAAAAMA4xwFAAAAAoH0CAkAAAABAL48BQAAAAGArGAJAAAAAAEDVAUAAAAAg1PYBQAAAAKD5GgJAAAAAQFrNAUAAAACgdfABQAAAAEBmMwJAAAAAQP5HAkAAAACgx8EBQAAAAMChCwJAAAAAgMb6AUAAAADgQRoCQAAAAKBDLQJAAAAAAOkbAkAAAACAvgcCQAAAAODj1QFAAAAAgB0hAkAAAADAodQBQAAAACBq4QFAAAAAQOgUAkAAAACAgC0CQAAAAECFNwJAAAAAwE1uAkAAAAAARdUBQAAAAGAkBwJAAAAAAPKhAUAAAAAAlPEBQAAAAGBXwwFAAAAAoNmDAUAAAACg7T4CQAAAAKAlPwJAAAAAoMDCAUAAAADAniICQAAAACC4xwFAAAAA4HwVAkAAAABgUaIBQAAAAIDJGAJAAAAAQFNYAkAAAACgTR8CQAAAAIAXCQJAAAAAgMcTAkAAAAAgv5UBQAAAAEDb/AFAAAAAICowAkAAAABgjxECQAAAAMAn2QFAAAAAIAjeAUAAAACA98QBQAAAAMAi3AFAAAAAANXxAUAAAABgkc8BQAAAAADwEwJAAAAAAAbDAUAAAADAfjACQAAAAADVIwJAAAAAoPGhAUAAAACgTBgCQAAAAAB5/wFAAAAAoBYyAkAAAACAAdoBQAAAAKBH5QFAAAAA4KU2AkAAAACANdQBQAAAACDy+gFAAAAAAFLzAUAAAACAl6kBQAAAAMCl+QFAAAAAIPPdAUAAAABgYB0CQAAAAICjCgJAAAAAgB4oAkAAAADAhs8BQAAAAIBK4wFAAAAAYAHOAUAAAACAwvgBQAAAAOBYBgJAAAAAABDnAUAAAADgthwCQAAAAKBY3wFAAAAAYL5TAkAAAABg1/sBQAAAAECp1gFAAAAAgNkhAkAAAADAhCoCQAAAAGADpAFAAAAA4FAtAkAAAACAte8BQAAAAMCK9AFAAAAAoE4QAkAAAADgLw0CQAAAAKC+/AFAAAAAwCCzAUAAAAAAvyUCQAAAAGD47AFAAAAAQH/YAUAAAACAhDYCQAAAAGBQCQJAAAAA4Fn5AUAAAACAEt0BQAAAAECdEgJAAAAAQLm5AUAAAADgbJQBQAAAAIAWsgFAAAAAYFjyAUAAAABglRoCQAAAAEDWFAJAAAAAAD/WAUAAAABAZtEBQAAAAODqJgJAAAAAIMvlAUAAAADg0g4CQAAAACCe+gFAAAAAQIXSAUAAAACgkQwCQAAAAMANuAFAAAAA4P+yAUAAAACAQ8EBQAAAAABVNQJAAAAA4CPDAUAAAACAFggCQAAAAEDV+QFAAAAAIK/LAUAAAAAgBDICQAAAAGAz2gFAAAAAwLb2AUAAAAAAbsIBQAAAAID78wFAAAAAQM6kAUAAAADgeuoBQAAAAGAGwQFAAAAAID63AUAAAAAArWoBQAAAAGBoqgFAAAAAYB2WAUAAAAAAr6oBQAAAAEBSnwFAAAAAQB+kAUAAAABg08UBQAAAAAC5kgFAAAAAABcFAkAAAABA5n4BQAAAACAN3QFAAAAA4MURAkAAAADgz5MBQAAAAADGmwFAAAAAAN8wAkAAAADgckMBQAAAAMDd3gFAAAAA4P7MAUAAAACA1awBQAAAAMAuuAFAAAAAQB3bAUAAAAAA6PkBQAAAAOBZzgFAAAAAwAXzAUAAAADA7NUBQAAAAIDyzgFAAAAA4GToAUAAAADgvBwCQAAAAMCnkwFAAAAAgO29AUAAAACAdbsBQAAAAOB73wFAAAAAwKZrAUAAAAAAFIABQAAAAECCvAFAAAAAgDB+AUAAAADABssBQAAAAADw4AFAAAAA4ItvAUAAAABATOQBQAAAACDLmwFAAAAAYL3SAUAAAACglPcBQAAAACAcvQFAAAAAQHeKAUAAAADAZvcBQAAAAOAqvwFAAAAAwIwIAkAAAACg3PcBQAAAACBBMwJAAAAAIBbKAUAAAACA2OoBQAAAAMAKhQFAAAAAQIjDAUAAAACgho0BQAAAAIBjQQFAAAAAwAqaAUAAAACAhAUCQAAAAIA2FQJAAAAAAEvDAUAAAACg8e0BQAAAAAAEyAFAAAAAwKmgAUAAAACAwjMCQAAAAOBV4AFAAAAAgF2yAUAAAACAo/ABQAAAAIC30QFAAAAAIKV+AUAAAACgw6EBQAAAAEAI5gFAAAAAwHdwAUAAAAAASCECQAAAAOB98QFAAAAAIL1rAUAAAABAQ/8BQAAAACCjDwJAAAAAIHVzAUAAAADACccBQAAAAOBPXAFAAAAAQDacAUAAAACAgKIBQAAAAMCAxQFAAAAAgMayAUAAAADAutABQAAAAEBBxgFAAAAAIK+uAUAAAAAA8OYBQAAAAEAF/QFAAAAAgKhvAUAAAADAS3gBQAAAAEDusgFAAAAAYMPlAUAAAAAANNABQAAAAMAXogFAAAAAQItCAUAAAABAidQBQAAAAIC0AAJAAAAAAHKvAUAAAABAe7EBQAAAAKCRqgFAAAAA4F6tAUAAAACAu+gBQAAAAADumgFAAAAAAO+cAUAAAABAwv4BQAAAAAC57QFAAAAAgB51AUAAAABgn/YBQAAAAIA+xQFAAAAAoPyhAUAAAADg3BsCQAAAAED+lQFAAAAAwDuCAUAAAAAgrPIBQAAAAECM4QFAAAAAwNcaAUAAAACA8PwBQAAAAEC2xAFAAAAAQOQWAkAAAADgN6QBQAAAAGAEvgFAAAAAwF7jAUAAAAAgo5EBQAAAAOBFvgFAAAAAIO6pAUAAAADAvKcBQAAAAOD7LgFAAAAAQBrZAUAAAACA/64BQAAAAGB+iAFAAAAAgMIoAkAAAACAbY4BQAAAAMD32gFAAAAAgF2MAUAAAABgUF0BQAAAAIC5fAFAAAAAwN58AUAAAABg0ZoBQAAAACCapAFAAAAAQNbdAUAAAACAeIgBQAAAAKBFogFAAAAAgFrnAUAAAAAArd8BQAAAAIBcfQFAAAAAQOg3AUAAAAAAONoBQAAAAAAkvAFAAAAAAFpkAUAAAACAlrgBQAAAAEA8YAFAAAAAgHacAUAAAABAtdYBQAAAAKDvjQFAAAAAIIi7AUAAAAAgEaoBQAAAAODfoQFAAAAAYI6QAUAAAABgs0kBQAAAAACppgFAAAAAAOK/AUAAAADA0VgBQAAAAMC9dwFAAAAAYKn3AUAAAACAAOIBQAAAAGAjXwFAAAAAAFenAUAAAACAp9wBQAAAAOAF4AFAAAAAIDGrAUAAAAAA1UcBQAAAAEDFsAFAAAAAAKiRAUAAAADg138BQAAAAMB2dwFAAAAAgGuNAUAAAACgvKYBQAAAACDT6wFAAAAAIGClAUAAAADAC1kBQAAAAADSjgFAAAAAgD6qAUAAAABgELkBQAAAAMDQvgFAAAAAgOwDAkAAAAAgPo8BQAAAAGDiCwJAAAAAoLKHAUAAAACg34oBQAAAAODxhwFAAAAAwOFxAUAAAADAC6UBQAAAAGA0iAFAAAAAYKejAUAAAABg7GcBQAAAAGAkswFAAAAAgMiCAUAAAABg+3wBQAAAAIDq0AFAAAAAoAZvAUAAAABApLwBQAAAAICKpwFAAAAAgBhAAUAAAAAgFCwBQAAAAGCxugFAAAAAQOt2AUAAAAAAKxMBQAAAAECCiwFAAAAAwG+oAUAAAACgO38BQAAAAIA5PwFAAAAAwMlZAUAAAADAWowBQAAAACCphAFAAAAAwIfpAUAAAACAo8oBQAAAACCwWgFAAAAAQPS6AUAAAABAy2kBQAAAAEAfsQFAAAAAoPKJAUAAAABAzb8BQAAAAKDyZAFAAAAAIACcAUAAAADgkrMBQAAAAOAuaAFAAAAAYPeqAUAAAAAg5I8BQAAAAEDanAFAAAAAwA6WAUAAAAAA688BQAAAAEC/TwFAAAAAAGNeAUAAAABAXmgBQAAAACCCyQFAAAAA4CQdAkAAAACA33sBQAAAAECOagFAAAAAoPuDAUAAAACAG1IBQAAAAGAZyQFAAAAAQB1TAUAAAABguKkBQAAAAACwWQFAAAAAQCmgAUAAAAAg1nsBQAAAAACMawFAAAAAgNV4AUAAAABgWlQBQAAAAACEfgFAAAAAQJhHAUAAAACAw+cBQAAAAAAR1AFAAAAAwKyEAUAAAABAQTABQAAAACAapQFAAAAA4BOEAUAAAABAEFcBQAAAAEC0ugFAAAAAoNbbAUAAAABAecsBQAAAACCKqgFA",
          "dtype": "f8"
         },
         "yaxis": "y"
        },
        {
         "hovertemplate": "<b>Exponentially Weighted mean trendline</b><br><br>index=%{x}<br>batch_train_loss=%{y} <b>(trend)</b><extra></extra>",
         "legendgroup": "",
         "line": {
          "color": "red"
         },
         "marker": {
          "color": "#636efa",
          "symbol": "circle"
         },
         "mode": "lines",
         "name": "",
         "showlegend": false,
         "type": "scattergl",
         "x": {
          "bdata": "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",
          "dtype": "i2"
         },
         "xaxis": "x",
         "y": {
          "bdata": "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",
          "dtype": "f8"
         },
         "yaxis": "y"
        }
       ],
       "layout": {
        "legend": {
         "tracegroupgap": 0
        },
        "template": {
         "data": {
          "bar": [
           {
            "error_x": {
             "color": "#2a3f5f"
            },
            "error_y": {
             "color": "#2a3f5f"
            },
            "marker": {
             "line": {
              "color": "#E5ECF6",
              "width": 0.5
             },
             "pattern": {
              "fillmode": "overlay",
              "size": 10,
              "solidity": 0.2
             }
            },
            "type": "bar"
           }
          ],
          "barpolar": [
           {
            "marker": {
             "line": {
              "color": "#E5ECF6",
              "width": 0.5
             },
             "pattern": {
              "fillmode": "overlay",
              "size": 10,
              "solidity": 0.2
             }
            },
            "type": "barpolar"
           }
          ],
          "carpet": [
           {
            "aaxis": {
             "endlinecolor": "#2a3f5f",
             "gridcolor": "white",
             "linecolor": "white",
             "minorgridcolor": "white",
             "startlinecolor": "#2a3f5f"
            },
            "baxis": {
             "endlinecolor": "#2a3f5f",
             "gridcolor": "white",
             "linecolor": "white",
             "minorgridcolor": "white",
             "startlinecolor": "#2a3f5f"
            },
            "type": "carpet"
           }
          ],
          "choropleth": [
           {
            "colorbar": {
             "outlinewidth": 0,
             "ticks": ""
            },
            "type": "choropleth"
           }
          ],
          "contour": [
           {
            "colorbar": {
             "outlinewidth": 0,
             "ticks": ""
            },
            "colorscale": [
             [
              0,
              "#0d0887"
             ],
             [
              0.1111111111111111,
              "#46039f"
             ],
             [
              0.2222222222222222,
              "#7201a8"
             ],
             [
              0.3333333333333333,
              "#9c179e"
             ],
             [
              0.4444444444444444,
              "#bd3786"
             ],
             [
              0.5555555555555556,
              "#d8576b"
             ],
             [
              0.6666666666666666,
              "#ed7953"
             ],
             [
              0.7777777777777778,
              "#fb9f3a"
             ],
             [
              0.8888888888888888,
              "#fdca26"
             ],
             [
              1,
              "#f0f921"
             ]
            ],
            "type": "contour"
           }
          ],
          "contourcarpet": [
           {
            "colorbar": {
             "outlinewidth": 0,
             "ticks": ""
            },
            "type": "contourcarpet"
           }
          ],
          "heatmap": [
           {
            "colorbar": {
             "outlinewidth": 0,
             "ticks": ""
            },
            "colorscale": [
             [
              0,
              "#0d0887"
             ],
             [
              0.1111111111111111,
              "#46039f"
             ],
             [
              0.2222222222222222,
              "#7201a8"
             ],
             [
              0.3333333333333333,
              "#9c179e"
             ],
             [
              0.4444444444444444,
              "#bd3786"
             ],
             [
              0.5555555555555556,
              "#d8576b"
             ],
             [
              0.6666666666666666,
              "#ed7953"
             ],
             [
              0.7777777777777778,
              "#fb9f3a"
             ],
             [
              0.8888888888888888,
              "#fdca26"
             ],
             [
              1,
              "#f0f921"
             ]
            ],
            "type": "heatmap"
           }
          ],
          "histogram": [
           {
            "marker": {
             "pattern": {
              "fillmode": "overlay",
              "size": 10,
              "solidity": 0.2
             }
            },
            "type": "histogram"
           }
          ],
          "histogram2d": [
           {
            "colorbar": {
             "outlinewidth": 0,
             "ticks": ""
            },
            "colorscale": [
             [
              0,
              "#0d0887"
             ],
             [
              0.1111111111111111,
              "#46039f"
             ],
             [
              0.2222222222222222,
              "#7201a8"
             ],
             [
              0.3333333333333333,
              "#9c179e"
             ],
             [
              0.4444444444444444,
              "#bd3786"
             ],
             [
              0.5555555555555556,
              "#d8576b"
             ],
             [
              0.6666666666666666,
              "#ed7953"
             ],
             [
              0.7777777777777778,
              "#fb9f3a"
             ],
             [
              0.8888888888888888,
              "#fdca26"
             ],
             [
              1,
              "#f0f921"
             ]
            ],
            "type": "histogram2d"
           }
          ],
          "histogram2dcontour": [
           {
            "colorbar": {
             "outlinewidth": 0,
             "ticks": ""
            },
            "colorscale": [
             [
              0,
              "#0d0887"
             ],
             [
              0.1111111111111111,
              "#46039f"
             ],
             [
              0.2222222222222222,
              "#7201a8"
             ],
             [
              0.3333333333333333,
              "#9c179e"
             ],
             [
              0.4444444444444444,
              "#bd3786"
             ],
             [
              0.5555555555555556,
              "#d8576b"
             ],
             [
              0.6666666666666666,
              "#ed7953"
             ],
             [
              0.7777777777777778,
              "#fb9f3a"
             ],
             [
              0.8888888888888888,
              "#fdca26"
             ],
             [
              1,
              "#f0f921"
             ]
            ],
            "type": "histogram2dcontour"
           }
          ],
          "mesh3d": [
           {
            "colorbar": {
             "outlinewidth": 0,
             "ticks": ""
            },
            "type": "mesh3d"
           }
          ],
          "parcoords": [
           {
            "line": {
             "colorbar": {
              "outlinewidth": 0,
              "ticks": ""
             }
            },
            "type": "parcoords"
           }
          ],
          "pie": [
           {
            "automargin": true,
            "type": "pie"
           }
          ],
          "scatter": [
           {
            "fillpattern": {
             "fillmode": "overlay",
             "size": 10,
             "solidity": 0.2
            },
            "type": "scatter"
           }
          ],
          "scatter3d": [
           {
            "line": {
             "colorbar": {
              "outlinewidth": 0,
              "ticks": ""
             }
            },
            "marker": {
             "colorbar": {
              "outlinewidth": 0,
              "ticks": ""
             }
            },
            "type": "scatter3d"
           }
          ],
          "scattercarpet": [
           {
            "marker": {
             "colorbar": {
              "outlinewidth": 0,
              "ticks": ""
             }
            },
            "type": "scattercarpet"
           }
          ],
          "scattergeo": [
           {
            "marker": {
             "colorbar": {
              "outlinewidth": 0,
              "ticks": ""
             }
            },
            "type": "scattergeo"
           }
          ],
          "scattergl": [
           {
            "marker": {
             "colorbar": {
              "outlinewidth": 0,
              "ticks": ""
             }
            },
            "type": "scattergl"
           }
          ],
          "scattermap": [
           {
            "marker": {
             "colorbar": {
              "outlinewidth": 0,
              "ticks": ""
             }
            },
            "type": "scattermap"
           }
          ],
          "scattermapbox": [
           {
            "marker": {
             "colorbar": {
              "outlinewidth": 0,
              "ticks": ""
             }
            },
            "type": "scattermapbox"
           }
          ],
          "scatterpolar": [
           {
            "marker": {
             "colorbar": {
              "outlinewidth": 0,
              "ticks": ""
             }
            },
            "type": "scatterpolar"
           }
          ],
          "scatterpolargl": [
           {
            "marker": {
             "colorbar": {
              "outlinewidth": 0,
              "ticks": ""
             }
            },
            "type": "scatterpolargl"
           }
          ],
          "scatterternary": [
           {
            "marker": {
             "colorbar": {
              "outlinewidth": 0,
              "ticks": ""
             }
            },
            "type": "scatterternary"
           }
          ],
          "surface": [
           {
            "colorbar": {
             "outlinewidth": 0,
             "ticks": ""
            },
            "colorscale": [
             [
              0,
              "#0d0887"
             ],
             [
              0.1111111111111111,
              "#46039f"
             ],
             [
              0.2222222222222222,
              "#7201a8"
             ],
             [
              0.3333333333333333,
              "#9c179e"
             ],
             [
              0.4444444444444444,
              "#bd3786"
             ],
             [
              0.5555555555555556,
              "#d8576b"
             ],
             [
              0.6666666666666666,
              "#ed7953"
             ],
             [
              0.7777777777777778,
              "#fb9f3a"
             ],
             [
              0.8888888888888888,
              "#fdca26"
             ],
             [
              1,
              "#f0f921"
             ]
            ],
            "type": "surface"
           }
          ],
          "table": [
           {
            "cells": {
             "fill": {
              "color": "#EBF0F8"
             },
             "line": {
              "color": "white"
             }
            },
            "header": {
             "fill": {
              "color": "#C8D4E3"
             },
             "line": {
              "color": "white"
             }
            },
            "type": "table"
           }
          ]
         },
         "layout": {
          "annotationdefaults": {
           "arrowcolor": "#2a3f5f",
           "arrowhead": 0,
           "arrowwidth": 1
          },
          "autotypenumbers": "strict",
          "coloraxis": {
           "colorbar": {
            "outlinewidth": 0,
            "ticks": ""
           }
          },
          "colorscale": {
           "diverging": [
            [
             0,
             "#8e0152"
            ],
            [
             0.1,
             "#c51b7d"
            ],
            [
             0.2,
             "#de77ae"
            ],
            [
             0.3,
             "#f1b6da"
            ],
            [
             0.4,
             "#fde0ef"
            ],
            [
             0.5,
             "#f7f7f7"
            ],
            [
             0.6,
             "#e6f5d0"
            ],
            [
             0.7,
             "#b8e186"
            ],
            [
             0.8,
             "#7fbc41"
            ],
            [
             0.9,
             "#4d9221"
            ],
            [
             1,
             "#276419"
            ]
           ],
           "sequential": [
            [
             0,
             "#0d0887"
            ],
            [
             0.1111111111111111,
             "#46039f"
            ],
            [
             0.2222222222222222,
             "#7201a8"
            ],
            [
             0.3333333333333333,
             "#9c179e"
            ],
            [
             0.4444444444444444,
             "#bd3786"
            ],
            [
             0.5555555555555556,
             "#d8576b"
            ],
            [
             0.6666666666666666,
             "#ed7953"
            ],
            [
             0.7777777777777778,
             "#fb9f3a"
            ],
            [
             0.8888888888888888,
             "#fdca26"
            ],
            [
             1,
             "#f0f921"
            ]
           ],
           "sequentialminus": [
            [
             0,
             "#0d0887"
            ],
            [
             0.1111111111111111,
             "#46039f"
            ],
            [
             0.2222222222222222,
             "#7201a8"
            ],
            [
             0.3333333333333333,
             "#9c179e"
            ],
            [
             0.4444444444444444,
             "#bd3786"
            ],
            [
             0.5555555555555556,
             "#d8576b"
            ],
            [
             0.6666666666666666,
             "#ed7953"
            ],
            [
             0.7777777777777778,
             "#fb9f3a"
            ],
            [
             0.8888888888888888,
             "#fdca26"
            ],
            [
             1,
             "#f0f921"
            ]
           ]
          },
          "colorway": [
           "#636efa",
           "#EF553B",
           "#00cc96",
           "#ab63fa",
           "#FFA15A",
           "#19d3f3",
           "#FF6692",
           "#B6E880",
           "#FF97FF",
           "#FECB52"
          ],
          "font": {
           "color": "#2a3f5f"
          },
          "geo": {
           "bgcolor": "white",
           "lakecolor": "white",
           "landcolor": "#E5ECF6",
           "showlakes": true,
           "showland": true,
           "subunitcolor": "white"
          },
          "hoverlabel": {
           "align": "left"
          },
          "hovermode": "closest",
          "mapbox": {
           "style": "light"
          },
          "paper_bgcolor": "white",
          "plot_bgcolor": "#E5ECF6",
          "polar": {
           "angularaxis": {
            "gridcolor": "white",
            "linecolor": "white",
            "ticks": ""
           },
           "bgcolor": "#E5ECF6",
           "radialaxis": {
            "gridcolor": "white",
            "linecolor": "white",
            "ticks": ""
           }
          },
          "scene": {
           "xaxis": {
            "backgroundcolor": "#E5ECF6",
            "gridcolor": "white",
            "gridwidth": 2,
            "linecolor": "white",
            "showbackground": true,
            "ticks": "",
            "zerolinecolor": "white"
           },
           "yaxis": {
            "backgroundcolor": "#E5ECF6",
            "gridcolor": "white",
            "gridwidth": 2,
            "linecolor": "white",
            "showbackground": true,
            "ticks": "",
            "zerolinecolor": "white"
           },
           "zaxis": {
            "backgroundcolor": "#E5ECF6",
            "gridcolor": "white",
            "gridwidth": 2,
            "linecolor": "white",
            "showbackground": true,
            "ticks": "",
            "zerolinecolor": "white"
           }
          },
          "shapedefaults": {
           "line": {
            "color": "#2a3f5f"
           }
          },
          "ternary": {
           "aaxis": {
            "gridcolor": "white",
            "linecolor": "white",
            "ticks": ""
           },
           "baxis": {
            "gridcolor": "white",
            "linecolor": "white",
            "ticks": ""
           },
           "bgcolor": "#E5ECF6",
           "caxis": {
            "gridcolor": "white",
            "linecolor": "white",
            "ticks": ""
           }
          },
          "title": {
           "x": 0.05
          },
          "xaxis": {
           "automargin": true,
           "gridcolor": "white",
           "linecolor": "white",
           "ticks": "",
           "title": {
            "standoff": 15
           },
           "zerolinecolor": "white",
           "zerolinewidth": 2
          },
          "yaxis": {
           "automargin": true,
           "gridcolor": "white",
           "linecolor": "white",
           "ticks": "",
           "title": {
            "standoff": 15
           },
           "zerolinecolor": "white",
           "zerolinewidth": 2
          }
         }
        },
        "title": {
         "text": "Train loss"
        },
        "xaxis": {
         "anchor": "y",
         "domain": [
          0,
          1
         ],
         "title": {
          "text": "index"
         }
        },
        "yaxis": {
         "anchor": "x",
         "domain": [
          0,
          1
         ],
         "title": {
          "text": "batch_train_loss"
         }
        }
       }
      }
     },
     "metadata": {},
     "output_type": "display_data"
    },
    {
     "data": {
      "application/vnd.plotly.v1+json": {
       "config": {
        "plotlyServerURL": "https://plot.ly"
       },
       "data": [
        {
         "hovertemplate": "step=%{x}<br>validation_loss=%{y}<extra></extra>",
         "legendgroup": "",
         "line": {
          "color": "#636efa",
          "dash": "solid"
         },
         "marker": {
          "symbol": "circle"
         },
         "mode": "lines",
         "name": "",
         "orientation": "v",
         "showlegend": false,
         "type": "scatter",
         "x": {
          "bdata": "GQAzAE0AZwCBAJsAtQDPAOkAAwEdATcBUQFrAYUBnwG5AdMB7QEHAiECOwJVAm8CiQKjAr0C1wLxAgsDJQM/A1kDcwONA6cDwQPbA/UDDwQpBEMEXQR3BJEEqwTFBN8E+QQTBS0FRwVhBXsFlQWvBckF4wX9BRcG",
          "dtype": "i2"
         },
         "xaxis": "x",
         "y": {
          "bdata": "AAAAoLPCBUAlSZKkUzwFQLdt21ZmvQRA27Ztmz6PBEAAAACAHWUEQCVJkgQXNwRAAAAAQEoXBEC3bdtW+ecDQLdt27bqvQNAbtu2Tc6qA0C3bdt22nwDQLdt2xb4aQNAJUmSxKiDA0BJkiTp80YDQAAAAECcNQNAbtu2jQcbA0Bu27btwiQDQLdt23Yc7wJAAAAAQCT5AkC3bdsWEcsCQCVJkiRgyAJA27ZtO9egAkBJkiQpyX8CQJIkSdIihQJAt23blrR3AkCSJEnyiWMCQAAAAOCxWAJAAAAAIBpPAkCSJEnSsT4CQNu2bZu6OwJAJUmSpEs9AkAlSZJEES8CQJIkSbJqKQJAbtu2LWchAkC3bduWGCgCQJIkSfLzHQJAkiRJsl4cAkDbtm2bgRcCQAAAAOC1EAJAJUmSpMcdAkC3bdsW8BICQAAAAIAiBAJAkiRJEmwEAkDbtm17if8BQCVJkiSo+gFA27ZtGzn5AUBJkiRpJvwBQLdt23b28wFAAAAAwMXVAUDbtm27Fr4BQEmSJMmZqwFA27ZtOyy1AUAlSZLEGaEBQNu2bfvIvgFAbtu2DeObAUAAAABgn4cBQEmSJAm6gAFASZIkia+OAUBu27ZtHoYBQJIkSZKefgFA",
          "dtype": "f8"
         },
         "yaxis": "y"
        }
       ],
       "layout": {
        "legend": {
         "tracegroupgap": 0
        },
        "template": {
         "data": {
          "bar": [
           {
            "error_x": {
             "color": "#2a3f5f"
            },
            "error_y": {
             "color": "#2a3f5f"
            },
            "marker": {
             "line": {
              "color": "#E5ECF6",
              "width": 0.5
             },
             "pattern": {
              "fillmode": "overlay",
              "size": 10,
              "solidity": 0.2
             }
            },
            "type": "bar"
           }
          ],
          "barpolar": [
           {
            "marker": {
             "line": {
              "color": "#E5ECF6",
              "width": 0.5
             },
             "pattern": {
              "fillmode": "overlay",
              "size": 10,
              "solidity": 0.2
             }
            },
            "type": "barpolar"
           }
          ],
          "carpet": [
           {
            "aaxis": {
             "endlinecolor": "#2a3f5f",
             "gridcolor": "white",
             "linecolor": "white",
             "minorgridcolor": "white",
             "startlinecolor": "#2a3f5f"
            },
            "baxis": {
             "endlinecolor": "#2a3f5f",
             "gridcolor": "white",
             "linecolor": "white",
             "minorgridcolor": "white",
             "startlinecolor": "#2a3f5f"
            },
            "type": "carpet"
           }
          ],
          "choropleth": [
           {
            "colorbar": {
             "outlinewidth": 0,
             "ticks": ""
            },
            "type": "choropleth"
           }
          ],
          "contour": [
           {
            "colorbar": {
             "outlinewidth": 0,
             "ticks": ""
            },
            "colorscale": [
             [
              0,
              "#0d0887"
             ],
             [
              0.1111111111111111,
              "#46039f"
             ],
             [
              0.2222222222222222,
              "#7201a8"
             ],
             [
              0.3333333333333333,
              "#9c179e"
             ],
             [
              0.4444444444444444,
              "#bd3786"
             ],
             [
              0.5555555555555556,
              "#d8576b"
             ],
             [
              0.6666666666666666,
              "#ed7953"
             ],
             [
              0.7777777777777778,
              "#fb9f3a"
             ],
             [
              0.8888888888888888,
              "#fdca26"
             ],
             [
              1,
              "#f0f921"
             ]
            ],
            "type": "contour"
           }
          ],
          "contourcarpet": [
           {
            "colorbar": {
             "outlinewidth": 0,
             "ticks": ""
            },
            "type": "contourcarpet"
           }
          ],
          "heatmap": [
           {
            "colorbar": {
             "outlinewidth": 0,
             "ticks": ""
            },
            "colorscale": [
             [
              0,
              "#0d0887"
             ],
             [
              0.1111111111111111,
              "#46039f"
             ],
             [
              0.2222222222222222,
              "#7201a8"
             ],
             [
              0.3333333333333333,
              "#9c179e"
             ],
             [
              0.4444444444444444,
              "#bd3786"
             ],
             [
              0.5555555555555556,
              "#d8576b"
             ],
             [
              0.6666666666666666,
              "#ed7953"
             ],
             [
              0.7777777777777778,
              "#fb9f3a"
             ],
             [
              0.8888888888888888,
              "#fdca26"
             ],
             [
              1,
              "#f0f921"
             ]
            ],
            "type": "heatmap"
           }
          ],
          "histogram": [
           {
            "marker": {
             "pattern": {
              "fillmode": "overlay",
              "size": 10,
              "solidity": 0.2
             }
            },
            "type": "histogram"
           }
          ],
          "histogram2d": [
           {
            "colorbar": {
             "outlinewidth": 0,
             "ticks": ""
            },
            "colorscale": [
             [
              0,
              "#0d0887"
             ],
             [
              0.1111111111111111,
              "#46039f"
             ],
             [
              0.2222222222222222,
              "#7201a8"
             ],
             [
              0.3333333333333333,
              "#9c179e"
             ],
             [
              0.4444444444444444,
              "#bd3786"
             ],
             [
              0.5555555555555556,
              "#d8576b"
             ],
             [
              0.6666666666666666,
              "#ed7953"
             ],
             [
              0.7777777777777778,
              "#fb9f3a"
             ],
             [
              0.8888888888888888,
              "#fdca26"
             ],
             [
              1,
              "#f0f921"
             ]
            ],
            "type": "histogram2d"
           }
          ],
          "histogram2dcontour": [
           {
            "colorbar": {
             "outlinewidth": 0,
             "ticks": ""
            },
            "colorscale": [
             [
              0,
              "#0d0887"
             ],
             [
              0.1111111111111111,
              "#46039f"
             ],
             [
              0.2222222222222222,
              "#7201a8"
             ],
             [
              0.3333333333333333,
              "#9c179e"
             ],
             [
              0.4444444444444444,
              "#bd3786"
             ],
             [
              0.5555555555555556,
              "#d8576b"
             ],
             [
              0.6666666666666666,
              "#ed7953"
             ],
             [
              0.7777777777777778,
              "#fb9f3a"
             ],
             [
              0.8888888888888888,
              "#fdca26"
             ],
             [
              1,
              "#f0f921"
             ]
            ],
            "type": "histogram2dcontour"
           }
          ],
          "mesh3d": [
           {
            "colorbar": {
             "outlinewidth": 0,
             "ticks": ""
            },
            "type": "mesh3d"
           }
          ],
          "parcoords": [
           {
            "line": {
             "colorbar": {
              "outlinewidth": 0,
              "ticks": ""
             }
            },
            "type": "parcoords"
           }
          ],
          "pie": [
           {
            "automargin": true,
            "type": "pie"
           }
          ],
          "scatter": [
           {
            "fillpattern": {
             "fillmode": "overlay",
             "size": 10,
             "solidity": 0.2
            },
            "type": "scatter"
           }
          ],
          "scatter3d": [
           {
            "line": {
             "colorbar": {
              "outlinewidth": 0,
              "ticks": ""
             }
            },
            "marker": {
             "colorbar": {
              "outlinewidth": 0,
              "ticks": ""
             }
            },
            "type": "scatter3d"
           }
          ],
          "scattercarpet": [
           {
            "marker": {
             "colorbar": {
              "outlinewidth": 0,
              "ticks": ""
             }
            },
            "type": "scattercarpet"
           }
          ],
          "scattergeo": [
           {
            "marker": {
             "colorbar": {
              "outlinewidth": 0,
              "ticks": ""
             }
            },
            "type": "scattergeo"
           }
          ],
          "scattergl": [
           {
            "marker": {
             "colorbar": {
              "outlinewidth": 0,
              "ticks": ""
             }
            },
            "type": "scattergl"
           }
          ],
          "scattermap": [
           {
            "marker": {
             "colorbar": {
              "outlinewidth": 0,
              "ticks": ""
             }
            },
            "type": "scattermap"
           }
          ],
          "scattermapbox": [
           {
            "marker": {
             "colorbar": {
              "outlinewidth": 0,
              "ticks": ""
             }
            },
            "type": "scattermapbox"
           }
          ],
          "scatterpolar": [
           {
            "marker": {
             "colorbar": {
              "outlinewidth": 0,
              "ticks": ""
             }
            },
            "type": "scatterpolar"
           }
          ],
          "scatterpolargl": [
           {
            "marker": {
             "colorbar": {
              "outlinewidth": 0,
              "ticks": ""
             }
            },
            "type": "scatterpolargl"
           }
          ],
          "scatterternary": [
           {
            "marker": {
             "colorbar": {
              "outlinewidth": 0,
              "ticks": ""
             }
            },
            "type": "scatterternary"
           }
          ],
          "surface": [
           {
            "colorbar": {
             "outlinewidth": 0,
             "ticks": ""
            },
            "colorscale": [
             [
              0,
              "#0d0887"
             ],
             [
              0.1111111111111111,
              "#46039f"
             ],
             [
              0.2222222222222222,
              "#7201a8"
             ],
             [
              0.3333333333333333,
              "#9c179e"
             ],
             [
              0.4444444444444444,
              "#bd3786"
             ],
             [
              0.5555555555555556,
              "#d8576b"
             ],
             [
              0.6666666666666666,
              "#ed7953"
             ],
             [
              0.7777777777777778,
              "#fb9f3a"
             ],
             [
              0.8888888888888888,
              "#fdca26"
             ],
             [
              1,
              "#f0f921"
             ]
            ],
            "type": "surface"
           }
          ],
          "table": [
           {
            "cells": {
             "fill": {
              "color": "#EBF0F8"
             },
             "line": {
              "color": "white"
             }
            },
            "header": {
             "fill": {
              "color": "#C8D4E3"
             },
             "line": {
              "color": "white"
             }
            },
            "type": "table"
           }
          ]
         },
         "layout": {
          "annotationdefaults": {
           "arrowcolor": "#2a3f5f",
           "arrowhead": 0,
           "arrowwidth": 1
          },
          "autotypenumbers": "strict",
          "coloraxis": {
           "colorbar": {
            "outlinewidth": 0,
            "ticks": ""
           }
          },
          "colorscale": {
           "diverging": [
            [
             0,
             "#8e0152"
            ],
            [
             0.1,
             "#c51b7d"
            ],
            [
             0.2,
             "#de77ae"
            ],
            [
             0.3,
             "#f1b6da"
            ],
            [
             0.4,
             "#fde0ef"
            ],
            [
             0.5,
             "#f7f7f7"
            ],
            [
             0.6,
             "#e6f5d0"
            ],
            [
             0.7,
             "#b8e186"
            ],
            [
             0.8,
             "#7fbc41"
            ],
            [
             0.9,
             "#4d9221"
            ],
            [
             1,
             "#276419"
            ]
           ],
           "sequential": [
            [
             0,
             "#0d0887"
            ],
            [
             0.1111111111111111,
             "#46039f"
            ],
            [
             0.2222222222222222,
             "#7201a8"
            ],
            [
             0.3333333333333333,
             "#9c179e"
            ],
            [
             0.4444444444444444,
             "#bd3786"
            ],
            [
             0.5555555555555556,
             "#d8576b"
            ],
            [
             0.6666666666666666,
             "#ed7953"
            ],
            [
             0.7777777777777778,
             "#fb9f3a"
            ],
            [
             0.8888888888888888,
             "#fdca26"
            ],
            [
             1,
             "#f0f921"
            ]
           ],
           "sequentialminus": [
            [
             0,
             "#0d0887"
            ],
            [
             0.1111111111111111,
             "#46039f"
            ],
            [
             0.2222222222222222,
             "#7201a8"
            ],
            [
             0.3333333333333333,
             "#9c179e"
            ],
            [
             0.4444444444444444,
             "#bd3786"
            ],
            [
             0.5555555555555556,
             "#d8576b"
            ],
            [
             0.6666666666666666,
             "#ed7953"
            ],
            [
             0.7777777777777778,
             "#fb9f3a"
            ],
            [
             0.8888888888888888,
             "#fdca26"
            ],
            [
             1,
             "#f0f921"
            ]
           ]
          },
          "colorway": [
           "#636efa",
           "#EF553B",
           "#00cc96",
           "#ab63fa",
           "#FFA15A",
           "#19d3f3",
           "#FF6692",
           "#B6E880",
           "#FF97FF",
           "#FECB52"
          ],
          "font": {
           "color": "#2a3f5f"
          },
          "geo": {
           "bgcolor": "white",
           "lakecolor": "white",
           "landcolor": "#E5ECF6",
           "showlakes": true,
           "showland": true,
           "subunitcolor": "white"
          },
          "hoverlabel": {
           "align": "left"
          },
          "hovermode": "closest",
          "mapbox": {
           "style": "light"
          },
          "paper_bgcolor": "white",
          "plot_bgcolor": "#E5ECF6",
          "polar": {
           "angularaxis": {
            "gridcolor": "white",
            "linecolor": "white",
            "ticks": ""
           },
           "bgcolor": "#E5ECF6",
           "radialaxis": {
            "gridcolor": "white",
            "linecolor": "white",
            "ticks": ""
           }
          },
          "scene": {
           "xaxis": {
            "backgroundcolor": "#E5ECF6",
            "gridcolor": "white",
            "gridwidth": 2,
            "linecolor": "white",
            "showbackground": true,
            "ticks": "",
            "zerolinecolor": "white"
           },
           "yaxis": {
            "backgroundcolor": "#E5ECF6",
            "gridcolor": "white",
            "gridwidth": 2,
            "linecolor": "white",
            "showbackground": true,
            "ticks": "",
            "zerolinecolor": "white"
           },
           "zaxis": {
            "backgroundcolor": "#E5ECF6",
            "gridcolor": "white",
            "gridwidth": 2,
            "linecolor": "white",
            "showbackground": true,
            "ticks": "",
            "zerolinecolor": "white"
           }
          },
          "shapedefaults": {
           "line": {
            "color": "#2a3f5f"
           }
          },
          "ternary": {
           "aaxis": {
            "gridcolor": "white",
            "linecolor": "white",
            "ticks": ""
           },
           "baxis": {
            "gridcolor": "white",
            "linecolor": "white",
            "ticks": ""
           },
           "bgcolor": "#E5ECF6",
           "caxis": {
            "gridcolor": "white",
            "linecolor": "white",
            "ticks": ""
           }
          },
          "title": {
           "x": 0.05
          },
          "xaxis": {
           "automargin": true,
           "gridcolor": "white",
           "linecolor": "white",
           "ticks": "",
           "title": {
            "standoff": 15
           },
           "zerolinecolor": "white",
           "zerolinewidth": 2
          },
          "yaxis": {
           "automargin": true,
           "gridcolor": "white",
           "linecolor": "white",
           "ticks": "",
           "title": {
            "standoff": 15
           },
           "zerolinecolor": "white",
           "zerolinewidth": 2
          }
         }
        },
        "title": {
         "text": "validation loss"
        },
        "xaxis": {
         "anchor": "y",
         "domain": [
          0,
          1
         ],
         "title": {
          "text": "step"
         }
        },
        "yaxis": {
         "anchor": "x",
         "domain": [
          0,
          1
         ],
         "title": {
          "text": "validation_loss"
         }
        }
       }
      }
     },
     "metadata": {},
     "output_type": "display_data"
    }
   ],
   "source": [
    "px.scatter(\n",
    "    training_metrics,\n",
    "    y=\"batch_train_loss\",\n",
    "    trendline=\"ewm\",\n",
    "    trendline_options={\"com\": 30},\n",
    "    trendline_color_override=\"red\",\n",
    "    title=\"Train loss\",\n",
    ").show()\n",
    "px.line(\n",
    "    training_metrics.query(\"validation_loss.notna()\"),\n",
    "    x=\"step\",\n",
    "    y=\"validation_loss\",\n",
    "    # trendline=\"ewm\",\n",
    "    # trendline_options={\"com\": 60},\n",
    "    # trendline_color_override=\"red\",\n",
    "    title=\"validation loss\",\n",
    ")"
   ]
  },
  {
   "cell_type": "code",
   "execution_count": 21,
   "id": "ce2e1c7a",
   "metadata": {},
   "outputs": [
    {
     "data": {
      "text/html": [
       "<div>\n",
       "<style scoped>\n",
       "    .dataframe tbody tr th:only-of-type {\n",
       "        vertical-align: middle;\n",
       "    }\n",
       "\n",
       "    .dataframe tbody tr th {\n",
       "        vertical-align: top;\n",
       "    }\n",
       "\n",
       "    .dataframe thead th {\n",
       "        text-align: right;\n",
       "    }\n",
       "</style>\n",
       "<table border=\"1\" class=\"dataframe\">\n",
       "  <thead>\n",
       "    <tr style=\"text-align: right;\">\n",
       "      <th></th>\n",
       "      <th>step</th>\n",
       "      <th>epoch</th>\n",
       "      <th>batch_train_loss</th>\n",
       "      <th>lr</th>\n",
       "      <th>train_epoch_loss</th>\n",
       "      <th>validation_loss</th>\n",
       "    </tr>\n",
       "  </thead>\n",
       "  <tbody>\n",
       "    <tr>\n",
       "      <th>0</th>\n",
       "      <td>0</td>\n",
       "      <td>0</td>\n",
       "      <td>2.890247</td>\n",
       "      <td>0.0005</td>\n",
       "      <td>NaN</td>\n",
       "      <td>NaN</td>\n",
       "    </tr>\n",
       "    <tr>\n",
       "      <th>1</th>\n",
       "      <td>1</td>\n",
       "      <td>0</td>\n",
       "      <td>2.878273</td>\n",
       "      <td>0.0005</td>\n",
       "      <td>NaN</td>\n",
       "      <td>NaN</td>\n",
       "    </tr>\n",
       "    <tr>\n",
       "      <th>2</th>\n",
       "      <td>2</td>\n",
       "      <td>0</td>\n",
       "      <td>2.870775</td>\n",
       "      <td>0.0005</td>\n",
       "      <td>NaN</td>\n",
       "      <td>NaN</td>\n",
       "    </tr>\n",
       "    <tr>\n",
       "      <th>3</th>\n",
       "      <td>3</td>\n",
       "      <td>0</td>\n",
       "      <td>2.840323</td>\n",
       "      <td>0.0005</td>\n",
       "      <td>NaN</td>\n",
       "      <td>NaN</td>\n",
       "    </tr>\n",
       "    <tr>\n",
       "      <th>4</th>\n",
       "      <td>4</td>\n",
       "      <td>0</td>\n",
       "      <td>2.831493</td>\n",
       "      <td>0.0005</td>\n",
       "      <td>NaN</td>\n",
       "      <td>NaN</td>\n",
       "    </tr>\n",
       "    <tr>\n",
       "      <th>5</th>\n",
       "      <td>5</td>\n",
       "      <td>0</td>\n",
       "      <td>2.805676</td>\n",
       "      <td>0.0005</td>\n",
       "      <td>NaN</td>\n",
       "      <td>NaN</td>\n",
       "    </tr>\n",
       "    <tr>\n",
       "      <th>6</th>\n",
       "      <td>6</td>\n",
       "      <td>0</td>\n",
       "      <td>2.826681</td>\n",
       "      <td>0.0005</td>\n",
       "      <td>NaN</td>\n",
       "      <td>NaN</td>\n",
       "    </tr>\n",
       "    <tr>\n",
       "      <th>7</th>\n",
       "      <td>7</td>\n",
       "      <td>0</td>\n",
       "      <td>2.796881</td>\n",
       "      <td>0.0005</td>\n",
       "      <td>NaN</td>\n",
       "      <td>NaN</td>\n",
       "    </tr>\n",
       "    <tr>\n",
       "      <th>8</th>\n",
       "      <td>8</td>\n",
       "      <td>0</td>\n",
       "      <td>2.772553</td>\n",
       "      <td>0.0005</td>\n",
       "      <td>NaN</td>\n",
       "      <td>NaN</td>\n",
       "    </tr>\n",
       "    <tr>\n",
       "      <th>9</th>\n",
       "      <td>9</td>\n",
       "      <td>0</td>\n",
       "      <td>2.750830</td>\n",
       "      <td>0.0005</td>\n",
       "      <td>NaN</td>\n",
       "      <td>NaN</td>\n",
       "    </tr>\n",
       "    <tr>\n",
       "      <th>10</th>\n",
       "      <td>10</td>\n",
       "      <td>0</td>\n",
       "      <td>2.786036</td>\n",
       "      <td>0.0005</td>\n",
       "      <td>NaN</td>\n",
       "      <td>NaN</td>\n",
       "    </tr>\n",
       "    <tr>\n",
       "      <th>11</th>\n",
       "      <td>11</td>\n",
       "      <td>0</td>\n",
       "      <td>2.762849</td>\n",
       "      <td>0.0005</td>\n",
       "      <td>NaN</td>\n",
       "      <td>NaN</td>\n",
       "    </tr>\n",
       "    <tr>\n",
       "      <th>12</th>\n",
       "      <td>12</td>\n",
       "      <td>0</td>\n",
       "      <td>2.723633</td>\n",
       "      <td>0.0005</td>\n",
       "      <td>NaN</td>\n",
       "      <td>NaN</td>\n",
       "    </tr>\n",
       "    <tr>\n",
       "      <th>13</th>\n",
       "      <td>13</td>\n",
       "      <td>0</td>\n",
       "      <td>2.753629</td>\n",
       "      <td>0.0005</td>\n",
       "      <td>NaN</td>\n",
       "      <td>NaN</td>\n",
       "    </tr>\n",
       "    <tr>\n",
       "      <th>14</th>\n",
       "      <td>14</td>\n",
       "      <td>0</td>\n",
       "      <td>2.736900</td>\n",
       "      <td>0.0005</td>\n",
       "      <td>NaN</td>\n",
       "      <td>NaN</td>\n",
       "    </tr>\n",
       "    <tr>\n",
       "      <th>15</th>\n",
       "      <td>15</td>\n",
       "      <td>0</td>\n",
       "      <td>2.735998</td>\n",
       "      <td>0.0005</td>\n",
       "      <td>NaN</td>\n",
       "      <td>NaN</td>\n",
       "    </tr>\n",
       "    <tr>\n",
       "      <th>16</th>\n",
       "      <td>16</td>\n",
       "      <td>0</td>\n",
       "      <td>2.729654</td>\n",
       "      <td>0.0005</td>\n",
       "      <td>NaN</td>\n",
       "      <td>NaN</td>\n",
       "    </tr>\n",
       "    <tr>\n",
       "      <th>17</th>\n",
       "      <td>17</td>\n",
       "      <td>0</td>\n",
       "      <td>2.747043</td>\n",
       "      <td>0.0005</td>\n",
       "      <td>NaN</td>\n",
       "      <td>NaN</td>\n",
       "    </tr>\n",
       "    <tr>\n",
       "      <th>18</th>\n",
       "      <td>18</td>\n",
       "      <td>0</td>\n",
       "      <td>2.706068</td>\n",
       "      <td>0.0005</td>\n",
       "      <td>NaN</td>\n",
       "      <td>NaN</td>\n",
       "    </tr>\n",
       "    <tr>\n",
       "      <th>19</th>\n",
       "      <td>19</td>\n",
       "      <td>0</td>\n",
       "      <td>2.694322</td>\n",
       "      <td>0.0005</td>\n",
       "      <td>NaN</td>\n",
       "      <td>NaN</td>\n",
       "    </tr>\n",
       "    <tr>\n",
       "      <th>20</th>\n",
       "      <td>20</td>\n",
       "      <td>0</td>\n",
       "      <td>2.712506</td>\n",
       "      <td>0.0005</td>\n",
       "      <td>NaN</td>\n",
       "      <td>NaN</td>\n",
       "    </tr>\n",
       "    <tr>\n",
       "      <th>21</th>\n",
       "      <td>21</td>\n",
       "      <td>0</td>\n",
       "      <td>2.676560</td>\n",
       "      <td>0.0005</td>\n",
       "      <td>NaN</td>\n",
       "      <td>NaN</td>\n",
       "    </tr>\n",
       "    <tr>\n",
       "      <th>22</th>\n",
       "      <td>22</td>\n",
       "      <td>0</td>\n",
       "      <td>2.706204</td>\n",
       "      <td>0.0005</td>\n",
       "      <td>NaN</td>\n",
       "      <td>NaN</td>\n",
       "    </tr>\n",
       "    <tr>\n",
       "      <th>23</th>\n",
       "      <td>23</td>\n",
       "      <td>0</td>\n",
       "      <td>2.678537</td>\n",
       "      <td>0.0005</td>\n",
       "      <td>NaN</td>\n",
       "      <td>NaN</td>\n",
       "    </tr>\n",
       "    <tr>\n",
       "      <th>24</th>\n",
       "      <td>24</td>\n",
       "      <td>0</td>\n",
       "      <td>2.707680</td>\n",
       "      <td>0.0005</td>\n",
       "      <td>NaN</td>\n",
       "      <td>NaN</td>\n",
       "    </tr>\n",
       "    <tr>\n",
       "      <th>25</th>\n",
       "      <td>25</td>\n",
       "      <td>0</td>\n",
       "      <td>2.694885</td>\n",
       "      <td>0.0005</td>\n",
       "      <td>2.762163</td>\n",
       "      <td>2.688422</td>\n",
       "    </tr>\n",
       "    <tr>\n",
       "      <th>26</th>\n",
       "      <td>26</td>\n",
       "      <td>1</td>\n",
       "      <td>2.679445</td>\n",
       "      <td>0.0005</td>\n",
       "      <td>NaN</td>\n",
       "      <td>NaN</td>\n",
       "    </tr>\n",
       "    <tr>\n",
       "      <th>27</th>\n",
       "      <td>27</td>\n",
       "      <td>1</td>\n",
       "      <td>2.656473</td>\n",
       "      <td>0.0005</td>\n",
       "      <td>NaN</td>\n",
       "      <td>NaN</td>\n",
       "    </tr>\n",
       "    <tr>\n",
       "      <th>28</th>\n",
       "      <td>28</td>\n",
       "      <td>1</td>\n",
       "      <td>2.642518</td>\n",
       "      <td>0.0005</td>\n",
       "      <td>NaN</td>\n",
       "      <td>NaN</td>\n",
       "    </tr>\n",
       "    <tr>\n",
       "      <th>29</th>\n",
       "      <td>29</td>\n",
       "      <td>1</td>\n",
       "      <td>2.636926</td>\n",
       "      <td>0.0005</td>\n",
       "      <td>NaN</td>\n",
       "      <td>NaN</td>\n",
       "    </tr>\n",
       "    <tr>\n",
       "      <th>30</th>\n",
       "      <td>30</td>\n",
       "      <td>1</td>\n",
       "      <td>2.645564</td>\n",
       "      <td>0.0005</td>\n",
       "      <td>NaN</td>\n",
       "      <td>NaN</td>\n",
       "    </tr>\n",
       "    <tr>\n",
       "      <th>31</th>\n",
       "      <td>31</td>\n",
       "      <td>1</td>\n",
       "      <td>2.695906</td>\n",
       "      <td>0.0005</td>\n",
       "      <td>NaN</td>\n",
       "      <td>NaN</td>\n",
       "    </tr>\n",
       "    <tr>\n",
       "      <th>32</th>\n",
       "      <td>32</td>\n",
       "      <td>1</td>\n",
       "      <td>2.647323</td>\n",
       "      <td>0.0005</td>\n",
       "      <td>NaN</td>\n",
       "      <td>NaN</td>\n",
       "    </tr>\n",
       "    <tr>\n",
       "      <th>33</th>\n",
       "      <td>33</td>\n",
       "      <td>1</td>\n",
       "      <td>2.690391</td>\n",
       "      <td>0.0005</td>\n",
       "      <td>NaN</td>\n",
       "      <td>NaN</td>\n",
       "    </tr>\n",
       "    <tr>\n",
       "      <th>34</th>\n",
       "      <td>34</td>\n",
       "      <td>1</td>\n",
       "      <td>2.649310</td>\n",
       "      <td>0.0005</td>\n",
       "      <td>NaN</td>\n",
       "      <td>NaN</td>\n",
       "    </tr>\n",
       "    <tr>\n",
       "      <th>35</th>\n",
       "      <td>35</td>\n",
       "      <td>1</td>\n",
       "      <td>2.666349</td>\n",
       "      <td>0.0005</td>\n",
       "      <td>NaN</td>\n",
       "      <td>NaN</td>\n",
       "    </tr>\n",
       "    <tr>\n",
       "      <th>36</th>\n",
       "      <td>36</td>\n",
       "      <td>1</td>\n",
       "      <td>2.650399</td>\n",
       "      <td>0.0005</td>\n",
       "      <td>NaN</td>\n",
       "      <td>NaN</td>\n",
       "    </tr>\n",
       "    <tr>\n",
       "      <th>37</th>\n",
       "      <td>37</td>\n",
       "      <td>1</td>\n",
       "      <td>2.687336</td>\n",
       "      <td>0.0005</td>\n",
       "      <td>NaN</td>\n",
       "      <td>NaN</td>\n",
       "    </tr>\n",
       "    <tr>\n",
       "      <th>38</th>\n",
       "      <td>38</td>\n",
       "      <td>1</td>\n",
       "      <td>2.653988</td>\n",
       "      <td>0.0005</td>\n",
       "      <td>NaN</td>\n",
       "      <td>NaN</td>\n",
       "    </tr>\n",
       "    <tr>\n",
       "      <th>39</th>\n",
       "      <td>39</td>\n",
       "      <td>1</td>\n",
       "      <td>2.692440</td>\n",
       "      <td>0.0005</td>\n",
       "      <td>NaN</td>\n",
       "      <td>NaN</td>\n",
       "    </tr>\n",
       "    <tr>\n",
       "      <th>40</th>\n",
       "      <td>40</td>\n",
       "      <td>1</td>\n",
       "      <td>2.648558</td>\n",
       "      <td>0.0005</td>\n",
       "      <td>NaN</td>\n",
       "      <td>NaN</td>\n",
       "    </tr>\n",
       "    <tr>\n",
       "      <th>41</th>\n",
       "      <td>41</td>\n",
       "      <td>1</td>\n",
       "      <td>2.673777</td>\n",
       "      <td>0.0005</td>\n",
       "      <td>NaN</td>\n",
       "      <td>NaN</td>\n",
       "    </tr>\n",
       "    <tr>\n",
       "      <th>42</th>\n",
       "      <td>42</td>\n",
       "      <td>1</td>\n",
       "      <td>2.646304</td>\n",
       "      <td>0.0005</td>\n",
       "      <td>NaN</td>\n",
       "      <td>NaN</td>\n",
       "    </tr>\n",
       "    <tr>\n",
       "      <th>43</th>\n",
       "      <td>43</td>\n",
       "      <td>1</td>\n",
       "      <td>2.616498</td>\n",
       "      <td>0.0005</td>\n",
       "      <td>NaN</td>\n",
       "      <td>NaN</td>\n",
       "    </tr>\n",
       "    <tr>\n",
       "      <th>44</th>\n",
       "      <td>44</td>\n",
       "      <td>1</td>\n",
       "      <td>2.628158</td>\n",
       "      <td>0.0005</td>\n",
       "      <td>NaN</td>\n",
       "      <td>NaN</td>\n",
       "    </tr>\n",
       "    <tr>\n",
       "      <th>45</th>\n",
       "      <td>45</td>\n",
       "      <td>1</td>\n",
       "      <td>2.597526</td>\n",
       "      <td>0.0005</td>\n",
       "      <td>NaN</td>\n",
       "      <td>NaN</td>\n",
       "    </tr>\n",
       "    <tr>\n",
       "      <th>46</th>\n",
       "      <td>46</td>\n",
       "      <td>1</td>\n",
       "      <td>2.643159</td>\n",
       "      <td>0.0005</td>\n",
       "      <td>NaN</td>\n",
       "      <td>NaN</td>\n",
       "    </tr>\n",
       "    <tr>\n",
       "      <th>47</th>\n",
       "      <td>47</td>\n",
       "      <td>1</td>\n",
       "      <td>2.695668</td>\n",
       "      <td>0.0005</td>\n",
       "      <td>NaN</td>\n",
       "      <td>NaN</td>\n",
       "    </tr>\n",
       "    <tr>\n",
       "      <th>48</th>\n",
       "      <td>48</td>\n",
       "      <td>1</td>\n",
       "      <td>2.629177</td>\n",
       "      <td>0.0005</td>\n",
       "      <td>NaN</td>\n",
       "      <td>NaN</td>\n",
       "    </tr>\n",
       "    <tr>\n",
       "      <th>49</th>\n",
       "      <td>49</td>\n",
       "      <td>1</td>\n",
       "      <td>2.618459</td>\n",
       "      <td>0.0005</td>\n",
       "      <td>NaN</td>\n",
       "      <td>NaN</td>\n",
       "    </tr>\n",
       "    <tr>\n",
       "      <th>50</th>\n",
       "      <td>50</td>\n",
       "      <td>1</td>\n",
       "      <td>2.664281</td>\n",
       "      <td>0.0005</td>\n",
       "      <td>NaN</td>\n",
       "      <td>NaN</td>\n",
       "    </tr>\n",
       "    <tr>\n",
       "      <th>51</th>\n",
       "      <td>51</td>\n",
       "      <td>1</td>\n",
       "      <td>2.670887</td>\n",
       "      <td>0.0005</td>\n",
       "      <td>2.654878</td>\n",
       "      <td>2.650003</td>\n",
       "    </tr>\n",
       "  </tbody>\n",
       "</table>\n",
       "</div>"
      ],
      "text/plain": [
       "    step  epoch  batch_train_loss      lr  train_epoch_loss  validation_loss\n",
       "0      0      0          2.890247  0.0005               NaN              NaN\n",
       "1      1      0          2.878273  0.0005               NaN              NaN\n",
       "2      2      0          2.870775  0.0005               NaN              NaN\n",
       "3      3      0          2.840323  0.0005               NaN              NaN\n",
       "4      4      0          2.831493  0.0005               NaN              NaN\n",
       "5      5      0          2.805676  0.0005               NaN              NaN\n",
       "6      6      0          2.826681  0.0005               NaN              NaN\n",
       "7      7      0          2.796881  0.0005               NaN              NaN\n",
       "8      8      0          2.772553  0.0005               NaN              NaN\n",
       "9      9      0          2.750830  0.0005               NaN              NaN\n",
       "10    10      0          2.786036  0.0005               NaN              NaN\n",
       "11    11      0          2.762849  0.0005               NaN              NaN\n",
       "12    12      0          2.723633  0.0005               NaN              NaN\n",
       "13    13      0          2.753629  0.0005               NaN              NaN\n",
       "14    14      0          2.736900  0.0005               NaN              NaN\n",
       "15    15      0          2.735998  0.0005               NaN              NaN\n",
       "16    16      0          2.729654  0.0005               NaN              NaN\n",
       "17    17      0          2.747043  0.0005               NaN              NaN\n",
       "18    18      0          2.706068  0.0005               NaN              NaN\n",
       "19    19      0          2.694322  0.0005               NaN              NaN\n",
       "20    20      0          2.712506  0.0005               NaN              NaN\n",
       "21    21      0          2.676560  0.0005               NaN              NaN\n",
       "22    22      0          2.706204  0.0005               NaN              NaN\n",
       "23    23      0          2.678537  0.0005               NaN              NaN\n",
       "24    24      0          2.707680  0.0005               NaN              NaN\n",
       "25    25      0          2.694885  0.0005          2.762163         2.688422\n",
       "26    26      1          2.679445  0.0005               NaN              NaN\n",
       "27    27      1          2.656473  0.0005               NaN              NaN\n",
       "28    28      1          2.642518  0.0005               NaN              NaN\n",
       "29    29      1          2.636926  0.0005               NaN              NaN\n",
       "30    30      1          2.645564  0.0005               NaN              NaN\n",
       "31    31      1          2.695906  0.0005               NaN              NaN\n",
       "32    32      1          2.647323  0.0005               NaN              NaN\n",
       "33    33      1          2.690391  0.0005               NaN              NaN\n",
       "34    34      1          2.649310  0.0005               NaN              NaN\n",
       "35    35      1          2.666349  0.0005               NaN              NaN\n",
       "36    36      1          2.650399  0.0005               NaN              NaN\n",
       "37    37      1          2.687336  0.0005               NaN              NaN\n",
       "38    38      1          2.653988  0.0005               NaN              NaN\n",
       "39    39      1          2.692440  0.0005               NaN              NaN\n",
       "40    40      1          2.648558  0.0005               NaN              NaN\n",
       "41    41      1          2.673777  0.0005               NaN              NaN\n",
       "42    42      1          2.646304  0.0005               NaN              NaN\n",
       "43    43      1          2.616498  0.0005               NaN              NaN\n",
       "44    44      1          2.628158  0.0005               NaN              NaN\n",
       "45    45      1          2.597526  0.0005               NaN              NaN\n",
       "46    46      1          2.643159  0.0005               NaN              NaN\n",
       "47    47      1          2.695668  0.0005               NaN              NaN\n",
       "48    48      1          2.629177  0.0005               NaN              NaN\n",
       "49    49      1          2.618459  0.0005               NaN              NaN\n",
       "50    50      1          2.664281  0.0005               NaN              NaN\n",
       "51    51      1          2.670887  0.0005          2.654878         2.650003"
      ]
     },
     "execution_count": 21,
     "metadata": {},
     "output_type": "execute_result"
    }
   ],
   "source": [
    "training_metrics"
   ]
  }
 ],
 "metadata": {
  "kernelspec": {
   "display_name": "CMI",
   "language": "python",
   "name": "python3"
  },
  "language_info": {
   "codemirror_mode": {
    "name": "ipython",
    "version": 3
   },
   "file_extension": ".py",
   "mimetype": "text/x-python",
   "name": "python",
   "nbconvert_exporter": "python",
   "pygments_lexer": "ipython3",
   "version": "3.11.5"
  }
 },
 "nbformat": 4,
 "nbformat_minor": 5
}
