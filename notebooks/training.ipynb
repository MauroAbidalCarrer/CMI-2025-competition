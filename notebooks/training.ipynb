{
 "cells": [
  {
   "cell_type": "markdown",
   "id": "53d41434",
   "metadata": {},
   "source": [
    "# Training model\n",
    "The goal of this notebook is to train a model and upload it to kaggle."
   ]
  },
  {
   "cell_type": "markdown",
   "id": "696a0573",
   "metadata": {},
   "source": [
    "## Setup"
   ]
  },
  {
   "cell_type": "markdown",
   "id": "dc4c23f0",
   "metadata": {},
   "source": [
    "### Imports"
   ]
  },
  {
   "cell_type": "code",
   "execution_count": 1,
   "id": "66f429fe",
   "metadata": {},
   "outputs": [],
   "source": [
    "import os\n",
    "import json\n",
    "from glob import glob\n",
    "from datetime import datetime\n",
    "from itertools import pairwise\n",
    "from os.path import join, realpath\n",
    "from typing import Optional, Literal\n",
    "\n",
    "import torch\n",
    "import numpy as np\n",
    "import pandas as pd\n",
    "import plotly.express as px\n",
    "from torch import nn, Tensor\n",
    "from pandas import DataFrame as DF\n",
    "from torch.utils.data import TensorDataset\n",
    "from torch.utils.data import DataLoader as DL\n",
    "from rich.progress import Progress, Task, track\n",
    "from torch.optim.lr_scheduler import ConstantLR, LRScheduler\n",
    "from kagglehub import dataset_download, model_upload, whoami"
   ]
  },
  {
   "cell_type": "markdown",
   "id": "fbe9b25b",
   "metadata": {},
   "source": [
    "### Config"
   ]
  },
  {
   "cell_type": "code",
   "execution_count": null,
   "id": "82515f95",
   "metadata": {},
   "outputs": [],
   "source": [
    "TRAINING_EPOCHS = 60\n",
    "STARTING_LR = 0.0005"
   ]
  },
  {
   "cell_type": "markdown",
   "id": "0ca49598",
   "metadata": {},
   "source": [
    "### Make plotly renders a bit more github frendly"
   ]
  },
  {
   "cell_type": "code",
   "execution_count": null,
   "id": "24b48ecc",
   "metadata": {},
   "outputs": [],
   "source": []
  },
  {
   "cell_type": "markdown",
   "id": "561af8f7",
   "metadata": {},
   "source": [
    "### Dataset Setup"
   ]
  },
  {
   "cell_type": "code",
   "execution_count": 2,
   "id": "63a131e0",
   "metadata": {},
   "outputs": [
    {
     "name": "stdout",
     "output_type": "stream",
     "text": [
      "Downloading from https://www.kaggle.com/api/v1/datasets/download/mauroabidalcarrer/prepocessed-cmi-2025?dataset_version_number=24...\n"
     ]
    },
    {
     "name": "stderr",
     "output_type": "stream",
     "text": [
      "100%|██████████| 753M/753M [00:19<00:00, 40.5MB/s] "
     ]
    },
    {
     "name": "stdout",
     "output_type": "stream",
     "text": [
      "Extracting files...\n"
     ]
    },
    {
     "name": "stderr",
     "output_type": "stream",
     "text": [
      "\n"
     ]
    }
   ],
   "source": [
    "BATCH_SIZE = 256\n",
    "dataset_path = dataset_download(\n",
    "    handle=\"mauroabidalcarrer/prepocessed-cmi-2025\",\n",
    ")"
   ]
  },
  {
   "cell_type": "code",
   "execution_count": 3,
   "id": "e46c3b4e",
   "metadata": {},
   "outputs": [],
   "source": [
    "\n",
    "class CMIDataset(TensorDataset):\n",
    "    def __init__(\n",
    "        self,\n",
    "        parent_dir: str,\n",
    "        split: Optional[Literal[\"train\", \"validation\"]]=None,\n",
    "        subset: Optional[int]=None,\n",
    "        force_download=False\n",
    "    ):\n",
    "        dataset_path = dataset_download(\n",
    "            handle=\"mauroabidalcarrer/prepocessed-cmi-2025\",\n",
    "            force_download=force_download\n",
    "        )\n",
    "        parent_dir = join(dataset_path, \"preprocessed_dataset\", parent_dir)\n",
    "        split = \"\" if split is None else split + \"_\"\n",
    "        x = np.load(join(parent_dir, f\"{split}X.npy\")).swapaxes(1, 2)\n",
    "        y = np.load(join(parent_dir, f\"{split}Y.npy\"))\n",
    "        if subset is not None:\n",
    "            x = x[:subset]\n",
    "            y = y[:subset]\n",
    "        super().__init__(\n",
    "            torch.from_numpy(x), \n",
    "            torch.from_numpy(y),\n",
    "        )\n"
   ]
  },
  {
   "cell_type": "code",
   "execution_count": 4,
   "id": "a2de4288",
   "metadata": {},
   "outputs": [],
   "source": [
    "meta_data_path = join(\n",
    "    dataset_path,\n",
    "    \"preprocessed_dataset\",\n",
    "    \"full_dataset_meta_data.json\"\n",
    ")\n",
    "with open(meta_data_path, \"r\") as fp:\n",
    "    dataset_meta_data = json.load(fp)"
   ]
  },
  {
   "cell_type": "markdown",
   "id": "e7cce363",
   "metadata": {},
   "source": [
    "### device setup"
   ]
  },
  {
   "cell_type": "code",
   "execution_count": 5,
   "id": "2710f791",
   "metadata": {},
   "outputs": [],
   "source": [
    "device = torch.device(\"cuda\") if torch.cuda.is_available() else torch.device(\"cpu\")"
   ]
  },
  {
   "cell_type": "markdown",
   "id": "7405a353",
   "metadata": {},
   "source": [
    "## Model definition"
   ]
  },
  {
   "cell_type": "code",
   "execution_count": 6,
   "id": "5ecc32a1",
   "metadata": {},
   "outputs": [],
   "source": [
    "class ResidualBlock(nn.Module):\n",
    "    def __init__(self, in_chns:int, out_chns:int):\n",
    "        super().__init__()\n",
    "        self.blocks = nn.Sequential(\n",
    "            nn.Conv1d(in_chns, out_chns, kernel_size=3, padding=1),\n",
    "            nn.BatchNorm1d(out_chns),\n",
    "            nn.ReLU(),\n",
    "            nn.Conv1d(out_chns, out_chns, kernel_size=3, padding=1),\n",
    "            nn.BatchNorm1d(out_chns),\n",
    "        )\n",
    "        if in_chns == out_chns:\n",
    "            self.skip_connection = nn.Identity() \n",
    "        else:\n",
    "            # TODO: set bias to False ?\n",
    "            self.skip_connection = nn.Sequential(\n",
    "                nn.Conv1d(in_chns, out_chns, 1),\n",
    "                nn.BatchNorm1d(out_chns)\n",
    "            )\n",
    "\n",
    "    def forward(self, x:Tensor) -> Tensor:\n",
    "        activaition_maps = self.skip_connection(x) + self.blocks(x)\n",
    "        return nn.functional.relu(activaition_maps)\n",
    "\n",
    "class Resnet(nn.Module):\n",
    "    def __init__(\n",
    "            self,\n",
    "            in_channels:int,\n",
    "            depth:int,\n",
    "            # n_res_block_per_depth:int,\n",
    "            mlp_width:int,\n",
    "            n_class:int,\n",
    "        ):\n",
    "        super().__init__()\n",
    "        chs_per_depth = [in_channels * 2 ** i for i in range(depth)]\n",
    "        blocks_chns_it = pairwise(chs_per_depth)\n",
    "        self.res_blocks = [ResidualBlock(in_chns, out_chns) for in_chns, out_chns in blocks_chns_it]\n",
    "        self.res_blocks = nn.ModuleList(self.res_blocks)\n",
    "        self.mlp_head = nn.Sequential(\n",
    "            nn.LazyLinear(mlp_width),\n",
    "            nn.ReLU(),\n",
    "            nn.Linear(mlp_width, n_class),\n",
    "            nn.Softmax(dim=1),\n",
    "        )\n",
    "        \n",
    "        \n",
    "    def forward(self, x:Tensor) -> Tensor:\n",
    "        activation_maps = x\n",
    "        for res_block in self.res_blocks:\n",
    "            activation_maps = nn.functional.max_pool1d(res_block(activation_maps), 2)\n",
    "        out = activation_maps.view(activation_maps.shape[0], -1)\n",
    "        out = self.mlp_head(out)\n",
    "        return out"
   ]
  },
  {
   "cell_type": "markdown",
   "id": "5a83f1e7",
   "metadata": {},
   "source": [
    "## Training functions "
   ]
  },
  {
   "cell_type": "markdown",
   "id": "c8014fc2",
   "metadata": {},
   "source": [
    "### Training"
   ]
  },
  {
   "cell_type": "code",
   "execution_count": 7,
   "id": "7cc879eb",
   "metadata": {},
   "outputs": [],
   "source": [
    "def fit(epochs:int,\n",
    "        model: nn.Module,\n",
    "        scheduler: LRScheduler,\n",
    "        optimizer: torch.optim.Optimizer,\n",
    "        train_loader: DL,\n",
    "        criterion: callable=nn.L1Loss(),\n",
    "        evaluation_func: callable=None,\n",
    "        validation_loader: DL=None,\n",
    "        save_checkpoints=True,\n",
    "    ) -> tuple[DF, str]:\n",
    "    \"\"\"\n",
    "    Returns:\n",
    "        (training_metrics, path_to_checkpoints)\n",
    "    \"\"\"\n",
    "    # Setup\n",
    "    metrics: list[dict] = []\n",
    "    checkpoints_dir = os.path.join(\"checkpoints\", mk_date_now_str())\n",
    "    step = 0\n",
    "    model_device = next(model.parameters()).device\n",
    "    last_epoch_metric = {}\n",
    "    # Training loop\n",
    "    with Progress() as progress:\n",
    "        task: Task = progress.add_task(\n",
    "            \"training...\",\n",
    "            total=len(train_loader),\n",
    "        )\n",
    "        for epoch in range(epochs):\n",
    "            progress.update(\n",
    "                task,\n",
    "                description=f\"epoch: {epoch}\",\n",
    "                completed=0,\n",
    "            )\n",
    "            total_epoch_loss = 0\n",
    "            total_accuracy = 0\n",
    "            for batch_idx, (x, y) in enumerate(train_loader):\n",
    "                # forward\n",
    "                x = x.to(model_device)\n",
    "                y = y.to(model_device)\n",
    "                model.train()\n",
    "                optimizer.zero_grad()\n",
    "                y_pred: Tensor = model(x)\n",
    "                loss_value = criterion(y_pred, y)\n",
    "                # Verify loss value\n",
    "                if torch.isnan(loss_value).any().item():\n",
    "                    progress.print(\"Warning: Got NaN loss, stopped training.\")\n",
    "                    return DF.from_records(metrics) \n",
    "                if torch.isinf(loss_value).any().item():\n",
    "                    progress.print(\"Warning: Got infinite loss, stopped training.\")\n",
    "                    return DF.from_records(metrics) \n",
    "                # TODO: Use gradient clipping?\n",
    "                loss_value.backward()\n",
    "                optimizer.step()\n",
    "                if step > 0: # If it's not the first training step, idk why it throws an error otherwise\n",
    "                    scheduler.step()\n",
    "                # metrics\n",
    "                total_epoch_loss += loss_value.item()\n",
    "                batch_accuracy = compute_accuracy(y_pred, y)\n",
    "                total_accuracy += batch_accuracy\n",
    "                metrics.append({\n",
    "                    \"step\": step,\n",
    "                    \"epoch\": epoch,\n",
    "                    \"batch_train_loss\": loss_value.item(),\n",
    "                    \"lr\": optimizer.state_dict()[\"param_groups\"][-1][\"lr\"],\n",
    "                    \"batch_accuracy\": batch_accuracy,\n",
    "                })\n",
    "                step += 1\n",
    "                if \"validation_accuracy\" in last_epoch_metric:\n",
    "                    last_validation_acc = \"%.2f\" % last_epoch_metric[\"validation_accuracy\"]\n",
    "                    val_acc_str = \"val. acc: \" + last_validation_acc\n",
    "                else:\n",
    "                    val_acc_str = \"\"\n",
    "                progress.update(\n",
    "                    task,\n",
    "                    advance=1,\n",
    "                    description=f\"epoch: {epoch}, batch_loss: {(total_epoch_loss / (batch_idx+1)):.2f}, {val_acc_str}\"\n",
    "                )\n",
    "            # Post epoch evalution\n",
    "            metrics[-1][\"train_epoch_loss\"] = total_epoch_loss / len(train_loader)\n",
    "            metrics[-1][\"train_epoch_accuracy\"] = total_accuracy / len(train_loader)\n",
    "            if evaluation_func:\n",
    "                progress.update(\n",
    "                    task,\n",
    "                    completed=0,\n",
    "                    description=f\"epoch: {epoch}, evaluating...\"\n",
    "                )\n",
    "                eval_metrics = evaluation_func(model, criterion, validation_loader)\n",
    "                metrics[-1].update(eval_metrics)\n",
    "            last_epoch_metric = metrics[-1]\n",
    "            # Save checkpoint\n",
    "            if save_checkpoints:\n",
    "                checkpoint = mk_checkpoint(epoch, model, scheduler, optimizer)\n",
    "                metrics_df = DF.from_records(metrics)\n",
    "                best_model_metric = \"validation_loss\" if \"validation_loss\" in metrics_df.columns else \"train_epoch_loss\"\n",
    "                is_best_checkpoint = (\n",
    "                    DF.from_records(metrics)\n",
    "                    .eval(f\"min_{best_model_metric} = {best_model_metric}.min()\")\n",
    "                    .eval(f\"is_best_{best_model_metric} = {best_model_metric} == min_{best_model_metric}\")\n",
    "                    .dropna(subset=f\"is_best_{best_model_metric}\")\n",
    "                    .iloc[-1]\n",
    "                    .loc[f\"is_best_{best_model_metric}\"]\n",
    "                )\n",
    "                save_checkpoint(checkpoint, checkpoints_dir, is_best_checkpoint)\n",
    "\n",
    "    return DF.from_records(metrics), checkpoints_dir\n",
    "\n",
    "def evaluate_model(\n",
    "        model: torch.nn.Module,\n",
    "        critirion:callable,\n",
    "        validation_loader:DL,\n",
    "    ) -> dict:\n",
    "    model = model.eval()\n",
    "    model_device = next(model.parameters()).device\n",
    "\n",
    "    total_accuracy = 0\n",
    "    total_test_loss = 0\n",
    "    for x, y in validation_loader:\n",
    "        x = x.to(model_device)\n",
    "        y = y.to(model_device)\n",
    "        y_pred = model(x)\n",
    "        total_test_loss += critirion(y_pred, y).item()\n",
    "        batch_accuracy = compute_accuracy(y_pred, y)\n",
    "        total_accuracy += batch_accuracy\n",
    "\n",
    "    return {\n",
    "        \"validation_loss\": total_test_loss / len(validation_loader),\n",
    "        \"validation_accuracy\": total_accuracy / len(validation_loader),\n",
    "    }\n",
    "\n",
    "def compute_accuracy(y_pred:Tensor, y:Tensor) -> float:\n",
    "    return (\n",
    "            (y.max(dim=1)[1] == y_pred.max(dim=1)[1])\n",
    "            .sum()\n",
    "            .item()\n",
    "    ) / y.shape[0]\n",
    "\n",
    "def mk_checkpoint(\n",
    "        epoch:int,\n",
    "        model: torch.nn.Module,\n",
    "        scheduler: LRScheduler,\n",
    "        optimizer: torch.optim.Optimizer\n",
    "    ) -> dict:\n",
    "    if torch.cuda.is_available():\n",
    "        model_state_dict = {k: v.detach().cpu() for k, v in model.state_dict().items()}\n",
    "    else:\n",
    "        model_state_dict = model.state_dict()\n",
    "\n",
    "    return {\n",
    "        \"epoch\": epoch,\n",
    "        \"model\": model.state_dict(),\n",
    "        \"optimizer\": optimizer.state_dict(),\n",
    "        \"scheduler\": scheduler.state_dict(),\n",
    "    }\n",
    "\n",
    "def save_checkpoint(checkpoint:dict, parent_dir:str, is_best_checkpoint=False):\n",
    "    # Create model name\n",
    "    checkpoint_filename = f\"epoch_{checkpoint['epoch']}_{mk_date_now_str()}.pth\"\n",
    "    # Save model\n",
    "    os.makedirs(parent_dir, exist_ok=True)\n",
    "    checkpoint_path = os.path.join(parent_dir, checkpoint_filename)\n",
    "    torch.save(checkpoint, checkpoint_path)\n",
    "    mk_symlink(checkpoint_path, os.path.join(parent_dir, \"latest_checkpoint.pth\"))\n",
    "    if is_best_checkpoint:\n",
    "        mk_symlink(checkpoint_path, os.path.join(parent_dir, \"best_checkpoint.pth\"))\n",
    "\n",
    "def mk_date_now_str() -> str:\n",
    "    return datetime.now().strftime(\"%d-%m-%Y_%H-%M\")\n",
    "\n",
    "def mk_symlink(dest:str, symlink_path:str):\n",
    "    if os.path.islink(symlink_path) or os.path.exists(symlink_path):\n",
    "        os.remove(symlink_path)\n",
    "    os.symlink(dest, symlink_path)"
   ]
  },
  {
   "cell_type": "code",
   "execution_count": null,
   "id": "534c536e",
   "metadata": {},
   "outputs": [],
   "source": [
    "def mk_model() -> nn.Module:\n",
    "    nb_in_chans = len(dataset_meta_data[\"feature_cols\"])\n",
    "    return (\n",
    "        Resnet(\n",
    "            in_channels=nb_in_chans,\n",
    "            depth=4,\n",
    "            mlp_width=256,\n",
    "            n_class=18\n",
    "        )\n",
    "        .to(device)\n",
    "    )\n",
    "\n",
    "print(\"input channels:\", len(dataset_meta_data[\"feature_cols\"]))"
   ]
  },
  {
   "cell_type": "code",
   "execution_count": null,
   "id": "fe1e327c",
   "metadata": {},
   "outputs": [],
   "source": [
    "def mk_model_and_fit(train_loader:DL, validation_loader:Optional[DL]=None) -> tuple[nn.Module, DF, list[str]]:\n",
    "    model = mk_model()\n",
    "    optimizer = torch.optim.AdamW(model.parameters(), STARTING_LR)\n",
    "    constant_lr_scheduler = ConstantLR(optimizer, factor=1, total_iters=len(train_loader) * TRAINING_EPOCHS)\n",
    "    training_metrics, model_checkpoints = fit(\n",
    "        epochs=TRAINING_EPOCHS,\n",
    "        model=model,\n",
    "        scheduler=constant_lr_scheduler,\n",
    "        optimizer=optimizer,\n",
    "        train_loader=train_loader,\n",
    "        criterion=nn.CrossEntropyLoss(),\n",
    "        evaluation_func=evaluate_model if validation_loader else None,\n",
    "        validation_loader=validation_loader,\n",
    "        save_checkpoints=True,\n",
    "    )\n",
    "\n",
    "    return model, training_metrics, model_checkpoints"
   ]
  },
  {
   "cell_type": "markdown",
   "id": "0ddd2294",
   "metadata": {},
   "source": [
    "### Training metrics plotting"
   ]
  },
  {
   "cell_type": "code",
   "execution_count": 9,
   "id": "4619c4fe",
   "metadata": {},
   "outputs": [],
   "source": [
    "def plt_train_split_training_metrics(training_metrics:DF):\n",
    "    (\n",
    "        px.scatter(\n",
    "            (\n",
    "                training_metrics\n",
    "                .melt(\n",
    "                    id_vars=\"step\",\n",
    "                    value_vars=[\n",
    "                        \"batch_train_loss\",\n",
    "                        \"batch_accuracy\",\n",
    "                    ]\n",
    "                )\n",
    "            ),\n",
    "            x=\"step\",\n",
    "            y=\"value\",\n",
    "            facet_row=\"variable\",\n",
    "            trendline=\"ewm\",\n",
    "            trendline_options={\"com\": 30},\n",
    "            trendline_color_override=\"red\",\n",
    "            title=\"batch metrics\",\n",
    "        )\n",
    "        .update_yaxes(matches=None)\n",
    "        .show()\n",
    "    )\n",
    "\n",
    "def plt_validation_split_training_metrics(training_metrics:DF):\n",
    "    (\n",
    "        px.line(\n",
    "            (\n",
    "                training_metrics\n",
    "                .query(\"validation_loss.notna()\")\n",
    "                .melt(\n",
    "                    id_vars=\"epoch\",\n",
    "                    value_vars=['train_epoch_loss', 'train_epoch_accuracy', 'validation_loss', 'validation_accuracy']\n",
    "                )\n",
    "            ),\n",
    "            x=\"epoch\",\n",
    "            y=\"value\",\n",
    "            color=\"variable\",\n",
    "            facet_row=\"variable\",\n",
    "            title=\"epoch metrics\",\n",
    "            render_mode=\"line+marker\",\n",
    "        ).update_yaxes(matches=None)\n",
    "        .show()\n",
    "    )"
   ]
  },
  {
   "cell_type": "markdown",
   "id": "92bee315",
   "metadata": {},
   "source": [
    "## Cross validation training"
   ]
  },
  {
   "cell_type": "code",
   "execution_count": 10,
   "id": "a711c430",
   "metadata": {},
   "outputs": [
    {
     "name": "stdout",
     "output_type": "stream",
     "text": [
      "training: 1\n"
     ]
    },
    {
     "data": {
      "application/vnd.jupyter.widget-view+json": {
       "model_id": "e50250ebb3814318a2a2818e08a10b63",
       "version_major": 2,
       "version_minor": 0
      },
      "text/plain": [
       "Output()"
      ]
     },
     "metadata": {},
     "output_type": "display_data"
    },
    {
     "data": {
      "text/html": [
       "<pre style=\"white-space:pre;overflow-x:auto;line-height:normal;font-family:Menlo,'DejaVu Sans Mono',consolas,'Courier New',monospace\"></pre>\n"
      ],
      "text/plain": []
     },
     "metadata": {},
     "output_type": "display_data"
    },
    {
     "data": {
      "application/vnd.plotly.v1+json": {
       "config": {
        "plotlyServerURL": "https://plot.ly"
       },
       "data": [
        {
         "hovertemplate": "variable=train_epoch_loss<br>epoch=%{x}<br>value=%{y}<extra></extra>",
         "legendgroup": "train_epoch_loss",
         "line": {
          "color": "#636efa",
          "dash": "solid"
         },
         "marker": {
          "symbol": "circle"
         },
         "mode": "lines",
         "name": "train_epoch_loss",
         "orientation": "v",
         "showlegend": true,
         "type": "scatter",
         "x": {
          "bdata": "AAECAwQFBgcICQoLDA0ODxAREhMUFRYXGBkaGxwdHh8gISIjJCUmJygpKissLS4vMDEyMzQ1Njc4OTo7",
          "dtype": "i1"
         },
         "xaxis": "x4",
         "y": {
          "bdata": "Yid2goEvBkAndmKXp4MFQJ7Yia3gWwVA2YmdmMdABUBiJ3aiPDIFQOzETmxrMAVAO7ET2zAJBUA7sRPba/MEQIqd2BnT1ARAsRM7sSHLBEDsxE4s6L4EQGIndlJ3sQRAxU7sJN6nBEAUO7GDOqoEQIqd2MlabwRAYid2cvdIBEBP7MQO1y4EQDuxE5vdJwRAdmInpkchBEDZiZ2o6hQEQDuxE9sxDQRAntiJ/R4EBEB2YieGJQUEQHZiJ3bF/QNAO7ETyxsABECe2Il9cO8DQCd2Ytdu9QNAYid2EhrwA0AndmJXTugDQNmJnWje6QNAdmInBrPpA0CKndjZgewDQDuxExuv5ANA2YmdGK7pA0BP7MSezucDQAAAAMCJ4wNAJ3Zix9rgA0CxEzvxV94DQIqd2Ekf3QNAxU7sdHTZA0AAAAAw+tYDQDuxE8syuwNAip3Y2dGqA0Ce2Il9uocDQCd2Yuc/fgNAO7ETWwp6A0BP7MQuEF4DQHZiJwbIPwNAAAAAIKsqA0AndmIHlBwDQLETO4EuBgNAdmInFo3+AkAndmIXRegCQE/sxN4UzQJAO7ETW0fAAkDFTuzEMLMCQLETO6FTjQJAAAAAEHhkAkDZiZ0YwlsCQJ7YiR0vSwJA",
          "dtype": "f8"
         },
         "yaxis": "y4"
        },
        {
         "hovertemplate": "variable=train_epoch_accuracy<br>epoch=%{x}<br>value=%{y}<extra></extra>",
         "legendgroup": "train_epoch_accuracy",
         "line": {
          "color": "#EF553B",
          "dash": "solid"
         },
         "marker": {
          "symbol": "circle"
         },
         "mode": "lines",
         "name": "train_epoch_accuracy",
         "orientation": "v",
         "showlegend": true,
         "type": "scatter",
         "x": {
          "bdata": "AAECAwQFBgcICQoLDA0ODxAREhMUFRYXGBkaGxwdHh8gISIjJCUmJygpKissLS4vMDEyMzQ1Njc4OTo7",
          "dtype": "i1"
         },
         "xaxis": "x3",
         "y": {
          "bdata": "aZiVaJgVyj8h7sMg7qPSPw6zEg2z0tM/2lpx2Vqx1D+J+zCI+zDVP4GivoCiPtU/HGX3G2V31j9SMBRSMDTXP9JeKdJeKdg/Mrb5MbZZ2D/LvwvLv8vYP3/pl37pN9k/S9ehSteB2T8cwiEcwoHZP39Gwn5GQts/xGaZw2Z53D9mJRpmJVrdP+SDieODid0/Jo4PJo6v3T9S6mhS6ijePwmHcAiHUN4/KQGLKAGr3j8rdAYrdKbePzLNeDLN2N4/dR2qdB3K3j/u8kzt8kzfP6tF8apFEd8/EvYzEvYz3z8B6FIB6HLfP1LqaFLqaN8/biFibSFi3z/mPLDlPFDfP84yh80yh98/v4CivoBi3z/6Mbb5MXbfPzJwTjJwjt8/0hh+0hie3z+kSamjSanfP0YIKkYIqt8/xMPDw8PD3z8GcR8Gcd/fPzTMSjTMauA/AXSpAHS54D8zQSIzQVLhP1xCrVtCfeE/zJDfy5B/4T9OeBtOePvhP/Yck/Ucc+I/A+ckA+fE4j+fNIafNPbiP4cT3oYTTuM/ncEKncF64z/3BOb2BMbjP88DW84DO+Q/nDbimzZy5D83nPA2nKDkP8IhHMIhPOU/8nsZ8nvZ5T8RDuEQDgHmP5uruZqrSeY/",
          "dtype": "f8"
         },
         "yaxis": "y3"
        },
        {
         "hovertemplate": "variable=validation_loss<br>epoch=%{x}<br>value=%{y}<extra></extra>",
         "legendgroup": "validation_loss",
         "line": {
          "color": "#00cc96",
          "dash": "solid"
         },
         "marker": {
          "symbol": "circle"
         },
         "mode": "lines",
         "name": "validation_loss",
         "orientation": "v",
         "showlegend": true,
         "type": "scatter",
         "x": {
          "bdata": "AAECAwQFBgcICQoLDA0ODxAREhMUFRYXGBkaGxwdHh8gISIjJCUmJygpKissLS4vMDEyMzQ1Njc4OTo7",
          "dtype": "i1"
         },
         "xaxis": "x2",
         "y": {
          "bdata": "27Zt+0PsBUAlSZJEWa4FQCVJksQ6rwVAt23bNrmABUC3bduW2n0FQAAAAEBOjAVAt23b9iY/BUDbtm37vjsFQJIkSZLbOgVASZIkaUM9BUBu27btAT0FQCVJkoSzUAVAAAAA4GU3BUBJkiQJHzwFQJIkSXLi9ARAkiRJ8ursBEC3bdv2/t0EQNu2bTubzwRAkiRJctIqBUCSJEkyRdgEQCVJkmRjygRAkiRJ8onbBEC3bduWQdMEQG7bti3azwRA27ZtuwvYBEBu27YNwM8EQCVJkmTUwQRAbtu2TeHABECSJEmySLYEQAAAAIC/uQRAkiRJ8pTIBEC3bdt2+KkEQG7bts1j1gRAkiRJUjasBEC3bdv2/LUEQAAAAMAvzQRA27Zt+5CwBEAAAAAA2r4EQNu2bVvlswRAt23bFgm8BEAlSZIk3bwEQEmSJEmrqwRAJUmSRL+iBECSJElS5XoEQG7btm3DgwRASZIkafGEBEAAAADgNIoEQJIkSZKdcARAJUmSpMSiBEAlSZJkFl0EQLdt29ZrYQRAJUmSBLp4BEC3bdtWaWAEQJIkSdJYVQRA27Ztu2NTBEC3bduW70sEQEmSJOmQIQRAbtu2LX4sBEBJkiSJ1ycEQNu2bZtxKQRA",
          "dtype": "f8"
         },
         "yaxis": "y2"
        },
        {
         "hovertemplate": "variable=validation_accuracy<br>epoch=%{x}<br>value=%{y}<extra></extra>",
         "legendgroup": "validation_accuracy",
         "line": {
          "color": "#ab63fa",
          "dash": "solid"
         },
         "marker": {
          "symbol": "circle"
         },
         "mode": "lines",
         "name": "validation_accuracy",
         "orientation": "v",
         "showlegend": true,
         "type": "scatter",
         "x": {
          "bdata": "AAECAwQFBgcICQoLDA0ODxAREhMUFRYXGBkaGxwdHh8gISIjJCUmJygpKissLS4vMDEyMzQ1Njc4OTo7",
          "dtype": "i1"
         },
         "xaxis": "x",
         "y": {
          "bdata": "z/M8z/O8zT8ZhmEYhmHRP0mSJEmSJNE/27Zt27at0j8lSZIkSdLSP27btm3bNtI/6Hme53me1D/P8zzP87zUP0mSJEmS5NQ/SZIkSZLk1D+3bdu2bdvUP0mSJEmSJNQ/Pc/zPM/z1D/btm3btu3UP+h5nud5Htc/wzAMwzBM1z+f53me57nXPzEMwzAMA9g/z/M8z/M81T+qqqqqqqrXP27btm3bdtg/GIZhGIbh1z96nud5nifYPzEMwzAMQ9g/Pc/zPM/z1z+SJEmSJEnYP0mSJEmSpNg/MQzDMAzD2D/zPM/zPE/ZPzEMwzAMw9g/z/M8z/M82D/DMAzDMIzZP3qe53me59c/hmEYhmFY2T+qqqqqqirZP/M8z/M8T9g/27Zt27Zt2T+f53me57nYP27btm3bNtk/qqqqqqrq2D8NwzAMw/DYPyVJkiRJktk/n+d5nue52T+SJEmSJAnbP9u2bdu2bdo/GIZhGIbh2j8lSZIkSRLaP/M8z/M8D9s/qqqqqqqq2T/DMAzDMMzbPw3DMAzDcNs/qqqqqqoq2z/DMAzDMIzbP7dt27ZtG9w/YRiGYRgG3D+f53me5zncP3qe53mep90/6Hme53le3T9u27Zt23bdPzEMwzAMQ90/",
          "dtype": "f8"
         },
         "yaxis": "y"
        }
       ],
       "layout": {
        "annotations": [
         {
          "font": {},
          "showarrow": false,
          "text": "variable=validation_accuracy",
          "textangle": 90,
          "x": 0.98,
          "xanchor": "left",
          "xref": "paper",
          "y": 0.11375,
          "yanchor": "middle",
          "yref": "paper"
         },
         {
          "font": {},
          "showarrow": false,
          "text": "variable=validation_loss",
          "textangle": 90,
          "x": 0.98,
          "xanchor": "left",
          "xref": "paper",
          "y": 0.37124999999999997,
          "yanchor": "middle",
          "yref": "paper"
         },
         {
          "font": {},
          "showarrow": false,
          "text": "variable=train_epoch_accuracy",
          "textangle": 90,
          "x": 0.98,
          "xanchor": "left",
          "xref": "paper",
          "y": 0.62875,
          "yanchor": "middle",
          "yref": "paper"
         },
         {
          "font": {},
          "showarrow": false,
          "text": "variable=train_epoch_loss",
          "textangle": 90,
          "x": 0.98,
          "xanchor": "left",
          "xref": "paper",
          "y": 0.88625,
          "yanchor": "middle",
          "yref": "paper"
         }
        ],
        "legend": {
         "title": {
          "text": "variable"
         },
         "tracegroupgap": 0
        },
        "template": {
         "data": {
          "bar": [
           {
            "error_x": {
             "color": "#2a3f5f"
            },
            "error_y": {
             "color": "#2a3f5f"
            },
            "marker": {
             "line": {
              "color": "#E5ECF6",
              "width": 0.5
             },
             "pattern": {
              "fillmode": "overlay",
              "size": 10,
              "solidity": 0.2
             }
            },
            "type": "bar"
           }
          ],
          "barpolar": [
           {
            "marker": {
             "line": {
              "color": "#E5ECF6",
              "width": 0.5
             },
             "pattern": {
              "fillmode": "overlay",
              "size": 10,
              "solidity": 0.2
             }
            },
            "type": "barpolar"
           }
          ],
          "carpet": [
           {
            "aaxis": {
             "endlinecolor": "#2a3f5f",
             "gridcolor": "white",
             "linecolor": "white",
             "minorgridcolor": "white",
             "startlinecolor": "#2a3f5f"
            },
            "baxis": {
             "endlinecolor": "#2a3f5f",
             "gridcolor": "white",
             "linecolor": "white",
             "minorgridcolor": "white",
             "startlinecolor": "#2a3f5f"
            },
            "type": "carpet"
           }
          ],
          "choropleth": [
           {
            "colorbar": {
             "outlinewidth": 0,
             "ticks": ""
            },
            "type": "choropleth"
           }
          ],
          "contour": [
           {
            "colorbar": {
             "outlinewidth": 0,
             "ticks": ""
            },
            "colorscale": [
             [
              0,
              "#0d0887"
             ],
             [
              0.1111111111111111,
              "#46039f"
             ],
             [
              0.2222222222222222,
              "#7201a8"
             ],
             [
              0.3333333333333333,
              "#9c179e"
             ],
             [
              0.4444444444444444,
              "#bd3786"
             ],
             [
              0.5555555555555556,
              "#d8576b"
             ],
             [
              0.6666666666666666,
              "#ed7953"
             ],
             [
              0.7777777777777778,
              "#fb9f3a"
             ],
             [
              0.8888888888888888,
              "#fdca26"
             ],
             [
              1,
              "#f0f921"
             ]
            ],
            "type": "contour"
           }
          ],
          "contourcarpet": [
           {
            "colorbar": {
             "outlinewidth": 0,
             "ticks": ""
            },
            "type": "contourcarpet"
           }
          ],
          "heatmap": [
           {
            "colorbar": {
             "outlinewidth": 0,
             "ticks": ""
            },
            "colorscale": [
             [
              0,
              "#0d0887"
             ],
             [
              0.1111111111111111,
              "#46039f"
             ],
             [
              0.2222222222222222,
              "#7201a8"
             ],
             [
              0.3333333333333333,
              "#9c179e"
             ],
             [
              0.4444444444444444,
              "#bd3786"
             ],
             [
              0.5555555555555556,
              "#d8576b"
             ],
             [
              0.6666666666666666,
              "#ed7953"
             ],
             [
              0.7777777777777778,
              "#fb9f3a"
             ],
             [
              0.8888888888888888,
              "#fdca26"
             ],
             [
              1,
              "#f0f921"
             ]
            ],
            "type": "heatmap"
           }
          ],
          "histogram": [
           {
            "marker": {
             "pattern": {
              "fillmode": "overlay",
              "size": 10,
              "solidity": 0.2
             }
            },
            "type": "histogram"
           }
          ],
          "histogram2d": [
           {
            "colorbar": {
             "outlinewidth": 0,
             "ticks": ""
            },
            "colorscale": [
             [
              0,
              "#0d0887"
             ],
             [
              0.1111111111111111,
              "#46039f"
             ],
             [
              0.2222222222222222,
              "#7201a8"
             ],
             [
              0.3333333333333333,
              "#9c179e"
             ],
             [
              0.4444444444444444,
              "#bd3786"
             ],
             [
              0.5555555555555556,
              "#d8576b"
             ],
             [
              0.6666666666666666,
              "#ed7953"
             ],
             [
              0.7777777777777778,
              "#fb9f3a"
             ],
             [
              0.8888888888888888,
              "#fdca26"
             ],
             [
              1,
              "#f0f921"
             ]
            ],
            "type": "histogram2d"
           }
          ],
          "histogram2dcontour": [
           {
            "colorbar": {
             "outlinewidth": 0,
             "ticks": ""
            },
            "colorscale": [
             [
              0,
              "#0d0887"
             ],
             [
              0.1111111111111111,
              "#46039f"
             ],
             [
              0.2222222222222222,
              "#7201a8"
             ],
             [
              0.3333333333333333,
              "#9c179e"
             ],
             [
              0.4444444444444444,
              "#bd3786"
             ],
             [
              0.5555555555555556,
              "#d8576b"
             ],
             [
              0.6666666666666666,
              "#ed7953"
             ],
             [
              0.7777777777777778,
              "#fb9f3a"
             ],
             [
              0.8888888888888888,
              "#fdca26"
             ],
             [
              1,
              "#f0f921"
             ]
            ],
            "type": "histogram2dcontour"
           }
          ],
          "mesh3d": [
           {
            "colorbar": {
             "outlinewidth": 0,
             "ticks": ""
            },
            "type": "mesh3d"
           }
          ],
          "parcoords": [
           {
            "line": {
             "colorbar": {
              "outlinewidth": 0,
              "ticks": ""
             }
            },
            "type": "parcoords"
           }
          ],
          "pie": [
           {
            "automargin": true,
            "type": "pie"
           }
          ],
          "scatter": [
           {
            "fillpattern": {
             "fillmode": "overlay",
             "size": 10,
             "solidity": 0.2
            },
            "type": "scatter"
           }
          ],
          "scatter3d": [
           {
            "line": {
             "colorbar": {
              "outlinewidth": 0,
              "ticks": ""
             }
            },
            "marker": {
             "colorbar": {
              "outlinewidth": 0,
              "ticks": ""
             }
            },
            "type": "scatter3d"
           }
          ],
          "scattercarpet": [
           {
            "marker": {
             "colorbar": {
              "outlinewidth": 0,
              "ticks": ""
             }
            },
            "type": "scattercarpet"
           }
          ],
          "scattergeo": [
           {
            "marker": {
             "colorbar": {
              "outlinewidth": 0,
              "ticks": ""
             }
            },
            "type": "scattergeo"
           }
          ],
          "scattergl": [
           {
            "marker": {
             "colorbar": {
              "outlinewidth": 0,
              "ticks": ""
             }
            },
            "type": "scattergl"
           }
          ],
          "scattermap": [
           {
            "marker": {
             "colorbar": {
              "outlinewidth": 0,
              "ticks": ""
             }
            },
            "type": "scattermap"
           }
          ],
          "scattermapbox": [
           {
            "marker": {
             "colorbar": {
              "outlinewidth": 0,
              "ticks": ""
             }
            },
            "type": "scattermapbox"
           }
          ],
          "scatterpolar": [
           {
            "marker": {
             "colorbar": {
              "outlinewidth": 0,
              "ticks": ""
             }
            },
            "type": "scatterpolar"
           }
          ],
          "scatterpolargl": [
           {
            "marker": {
             "colorbar": {
              "outlinewidth": 0,
              "ticks": ""
             }
            },
            "type": "scatterpolargl"
           }
          ],
          "scatterternary": [
           {
            "marker": {
             "colorbar": {
              "outlinewidth": 0,
              "ticks": ""
             }
            },
            "type": "scatterternary"
           }
          ],
          "surface": [
           {
            "colorbar": {
             "outlinewidth": 0,
             "ticks": ""
            },
            "colorscale": [
             [
              0,
              "#0d0887"
             ],
             [
              0.1111111111111111,
              "#46039f"
             ],
             [
              0.2222222222222222,
              "#7201a8"
             ],
             [
              0.3333333333333333,
              "#9c179e"
             ],
             [
              0.4444444444444444,
              "#bd3786"
             ],
             [
              0.5555555555555556,
              "#d8576b"
             ],
             [
              0.6666666666666666,
              "#ed7953"
             ],
             [
              0.7777777777777778,
              "#fb9f3a"
             ],
             [
              0.8888888888888888,
              "#fdca26"
             ],
             [
              1,
              "#f0f921"
             ]
            ],
            "type": "surface"
           }
          ],
          "table": [
           {
            "cells": {
             "fill": {
              "color": "#EBF0F8"
             },
             "line": {
              "color": "white"
             }
            },
            "header": {
             "fill": {
              "color": "#C8D4E3"
             },
             "line": {
              "color": "white"
             }
            },
            "type": "table"
           }
          ]
         },
         "layout": {
          "annotationdefaults": {
           "arrowcolor": "#2a3f5f",
           "arrowhead": 0,
           "arrowwidth": 1
          },
          "autotypenumbers": "strict",
          "coloraxis": {
           "colorbar": {
            "outlinewidth": 0,
            "ticks": ""
           }
          },
          "colorscale": {
           "diverging": [
            [
             0,
             "#8e0152"
            ],
            [
             0.1,
             "#c51b7d"
            ],
            [
             0.2,
             "#de77ae"
            ],
            [
             0.3,
             "#f1b6da"
            ],
            [
             0.4,
             "#fde0ef"
            ],
            [
             0.5,
             "#f7f7f7"
            ],
            [
             0.6,
             "#e6f5d0"
            ],
            [
             0.7,
             "#b8e186"
            ],
            [
             0.8,
             "#7fbc41"
            ],
            [
             0.9,
             "#4d9221"
            ],
            [
             1,
             "#276419"
            ]
           ],
           "sequential": [
            [
             0,
             "#0d0887"
            ],
            [
             0.1111111111111111,
             "#46039f"
            ],
            [
             0.2222222222222222,
             "#7201a8"
            ],
            [
             0.3333333333333333,
             "#9c179e"
            ],
            [
             0.4444444444444444,
             "#bd3786"
            ],
            [
             0.5555555555555556,
             "#d8576b"
            ],
            [
             0.6666666666666666,
             "#ed7953"
            ],
            [
             0.7777777777777778,
             "#fb9f3a"
            ],
            [
             0.8888888888888888,
             "#fdca26"
            ],
            [
             1,
             "#f0f921"
            ]
           ],
           "sequentialminus": [
            [
             0,
             "#0d0887"
            ],
            [
             0.1111111111111111,
             "#46039f"
            ],
            [
             0.2222222222222222,
             "#7201a8"
            ],
            [
             0.3333333333333333,
             "#9c179e"
            ],
            [
             0.4444444444444444,
             "#bd3786"
            ],
            [
             0.5555555555555556,
             "#d8576b"
            ],
            [
             0.6666666666666666,
             "#ed7953"
            ],
            [
             0.7777777777777778,
             "#fb9f3a"
            ],
            [
             0.8888888888888888,
             "#fdca26"
            ],
            [
             1,
             "#f0f921"
            ]
           ]
          },
          "colorway": [
           "#636efa",
           "#EF553B",
           "#00cc96",
           "#ab63fa",
           "#FFA15A",
           "#19d3f3",
           "#FF6692",
           "#B6E880",
           "#FF97FF",
           "#FECB52"
          ],
          "font": {
           "color": "#2a3f5f"
          },
          "geo": {
           "bgcolor": "white",
           "lakecolor": "white",
           "landcolor": "#E5ECF6",
           "showlakes": true,
           "showland": true,
           "subunitcolor": "white"
          },
          "hoverlabel": {
           "align": "left"
          },
          "hovermode": "closest",
          "mapbox": {
           "style": "light"
          },
          "paper_bgcolor": "white",
          "plot_bgcolor": "#E5ECF6",
          "polar": {
           "angularaxis": {
            "gridcolor": "white",
            "linecolor": "white",
            "ticks": ""
           },
           "bgcolor": "#E5ECF6",
           "radialaxis": {
            "gridcolor": "white",
            "linecolor": "white",
            "ticks": ""
           }
          },
          "scene": {
           "xaxis": {
            "backgroundcolor": "#E5ECF6",
            "gridcolor": "white",
            "gridwidth": 2,
            "linecolor": "white",
            "showbackground": true,
            "ticks": "",
            "zerolinecolor": "white"
           },
           "yaxis": {
            "backgroundcolor": "#E5ECF6",
            "gridcolor": "white",
            "gridwidth": 2,
            "linecolor": "white",
            "showbackground": true,
            "ticks": "",
            "zerolinecolor": "white"
           },
           "zaxis": {
            "backgroundcolor": "#E5ECF6",
            "gridcolor": "white",
            "gridwidth": 2,
            "linecolor": "white",
            "showbackground": true,
            "ticks": "",
            "zerolinecolor": "white"
           }
          },
          "shapedefaults": {
           "line": {
            "color": "#2a3f5f"
           }
          },
          "ternary": {
           "aaxis": {
            "gridcolor": "white",
            "linecolor": "white",
            "ticks": ""
           },
           "baxis": {
            "gridcolor": "white",
            "linecolor": "white",
            "ticks": ""
           },
           "bgcolor": "#E5ECF6",
           "caxis": {
            "gridcolor": "white",
            "linecolor": "white",
            "ticks": ""
           }
          },
          "title": {
           "x": 0.05
          },
          "xaxis": {
           "automargin": true,
           "gridcolor": "white",
           "linecolor": "white",
           "ticks": "",
           "title": {
            "standoff": 15
           },
           "zerolinecolor": "white",
           "zerolinewidth": 2
          },
          "yaxis": {
           "automargin": true,
           "gridcolor": "white",
           "linecolor": "white",
           "ticks": "",
           "title": {
            "standoff": 15
           },
           "zerolinecolor": "white",
           "zerolinewidth": 2
          }
         }
        },
        "title": {
         "text": "epoch metrics"
        },
        "xaxis": {
         "anchor": "y",
         "domain": [
          0,
          0.98
         ],
         "title": {
          "text": "epoch"
         }
        },
        "xaxis2": {
         "anchor": "y2",
         "domain": [
          0,
          0.98
         ],
         "matches": "x",
         "showticklabels": false
        },
        "xaxis3": {
         "anchor": "y3",
         "domain": [
          0,
          0.98
         ],
         "matches": "x",
         "showticklabels": false
        },
        "xaxis4": {
         "anchor": "y4",
         "domain": [
          0,
          0.98
         ],
         "matches": "x",
         "showticklabels": false
        },
        "yaxis": {
         "anchor": "x",
         "domain": [
          0,
          0.2275
         ],
         "title": {
          "text": "value"
         }
        },
        "yaxis2": {
         "anchor": "x2",
         "domain": [
          0.2575,
          0.485
         ],
         "title": {
          "text": "value"
         }
        },
        "yaxis3": {
         "anchor": "x3",
         "domain": [
          0.515,
          0.7425
         ],
         "title": {
          "text": "value"
         }
        },
        "yaxis4": {
         "anchor": "x4",
         "domain": [
          0.7725,
          1
         ],
         "title": {
          "text": "value"
         }
        }
       }
      }
     },
     "metadata": {},
     "output_type": "display_data"
    },
    {
     "name": "stdout",
     "output_type": "stream",
     "text": [
      "=========================\n",
      "training: 2\n"
     ]
    },
    {
     "data": {
      "application/vnd.jupyter.widget-view+json": {
       "model_id": "29d4d2ee4f3d464da06bfd510fb282cb",
       "version_major": 2,
       "version_minor": 0
      },
      "text/plain": [
       "Output()"
      ]
     },
     "metadata": {},
     "output_type": "display_data"
    },
    {
     "data": {
      "text/html": [
       "<pre style=\"white-space:pre;overflow-x:auto;line-height:normal;font-family:Menlo,'DejaVu Sans Mono',consolas,'Courier New',monospace\"></pre>\n"
      ],
      "text/plain": []
     },
     "metadata": {},
     "output_type": "display_data"
    },
    {
     "data": {
      "application/vnd.plotly.v1+json": {
       "config": {
        "plotlyServerURL": "https://plot.ly"
       },
       "data": [
        {
         "hovertemplate": "variable=train_epoch_loss<br>epoch=%{x}<br>value=%{y}<extra></extra>",
         "legendgroup": "train_epoch_loss",
         "line": {
          "color": "#636efa",
          "dash": "solid"
         },
         "marker": {
          "symbol": "circle"
         },
         "mode": "lines",
         "name": "train_epoch_loss",
         "orientation": "v",
         "showlegend": true,
         "type": "scatter",
         "x": {
          "bdata": "AAECAwQFBgcICQoLDA0ODxAREhMUFRYXGBkaGxwdHh8gISIjJCUmJygpKissLS4vMDEyMzQ1Njc4OTo7",
          "dtype": "i1"
         },
         "xaxis": "x4",
         "y": {
          "bdata": "O7ETm2xeBkAAAADQT6UFQIqd2MnHKwVAxU7sZKPrBEAUO7HTlq4EQGInduKNjwRA2YmdiHdwBEAAAACQ2lsEQJ7Yid2TQQRAAAAA8BMqBEDFTuzUuhMEQBQ7saMh7gNAT+zEbifTA0DsxE78ea4DQOzETnxulwNAip3YmbJ2A0A7sRO7c2wDQLETO7HxUQNA7MROXFBFA0Ce2IkdJUMDQOzETtypNgNAT+zEPqsdA0Ce2IndBgQDQJ7Yia0j5QJAJ3ZiVwLnAkDFTuyEBNQCQCd2YscTwwJA2YmduOe7AkAndmKX178CQMVO7GQXwgJAT+zE3j+1AkCe2Ikd7bACQLETO1F0oQJAxU7sVAiYAkBiJ3ZCKIICQLETO3GSgQJAsRM78RN8AkB2YieW3HsCQNmJnbh+dwJA7MRO7K1xAkCKndhpDHECQCd2YvdJSQJAxU7s9K8nAkAAAABQWC4CQNmJndh6HgJA7MROvCkkAkAndmK3qRgCQAAAAKBeCgJAFDuxg0gPAkBP7MTepwsCQBQ7sQO1+gFAO7ETO6T3AUDFTuzklPQBQMVO7BSX7gFAip3YaRbuAUA7sRPb1fYBQBQ7sQOb+gFA2YmdaLv3AUAndmLHVvUBQE/sxJ6h7QFA",
          "dtype": "f8"
         },
         "yaxis": "y4"
        },
        {
         "hovertemplate": "variable=train_epoch_accuracy<br>epoch=%{x}<br>value=%{y}<extra></extra>",
         "legendgroup": "train_epoch_accuracy",
         "line": {
          "color": "#EF553B",
          "dash": "solid"
         },
         "marker": {
          "symbol": "circle"
         },
         "mode": "lines",
         "name": "train_epoch_accuracy",
         "orientation": "v",
         "showlegend": true,
         "type": "scatter",
         "x": {
          "bdata": "AAECAwQFBgcICQoLDA0ODxAREhMUFRYXGBkaGxwdHh8gISIjJCUmJygpKissLS4vMDEyMzQ1Njc4OTo7",
          "dtype": "i1"
         },
         "xaxis": "x3",
         "y": {
          "bdata": "Ge035bmExj+vjDv2bXbRP0sJTe95StU/BPqViOVH1z8JH7MnpD7ZP0ut1EqtVNo/uR6F61E42z8qFIALj9TbP16MDbobsNw/f4HanQZm3T8Uae1lISzeP4rLFNyDU98/b277ZJcX4D+QB1CktafgP0Ebi1XJEuE/yoonjYCg4T8hsHJokb3hP2cHOYaMJOI/xH/dUkJT4j+crQKH/2riP2K035TnkuI/bojOyRcB4z+c2z7Z5WXjP/7UeOkm0eM/r+izmjrM4z/xSJlrXRfkPxHi7ap7V+Q/LPqspg575D+CH/iBH2jkP94N6FciZuQ/jyEjCTaR5D9uiM7JF6HkP2ZPSD3z6OQ/OrTIdr4P5T96ivlQLlrlP1rxpBEQauU/qQumsuJ55T9UzIdyUXPlP0A1XrpJjOU/C2FYZ/Ca5T/3yS6v6KPlP/fJLq/oQ+Y/YKB2p4HR5j+h0h8mvrHmPyvMcFQo8OY/vEZXxh3b5j9ZlSxtQxTnP+LWjFIUR+c/1jDab8oz5z96ivlQLjrnPxeRv0Dtfuc/WZUsbUOE5z/Q3YB+JZLnP/CQqCLEq+c/JJPqxwOo5z9s/hnTZJDnP7U7DYzffec/EYZ1Bq+R5z9ZObTIdo7nP0w3iUFgtec/",
          "dtype": "f8"
         },
         "yaxis": "y3"
        },
        {
         "hovertemplate": "variable=validation_loss<br>epoch=%{x}<br>value=%{y}<extra></extra>",
         "legendgroup": "validation_loss",
         "line": {
          "color": "#00cc96",
          "dash": "solid"
         },
         "marker": {
          "symbol": "circle"
         },
         "mode": "lines",
         "name": "validation_loss",
         "orientation": "v",
         "showlegend": true,
         "type": "scatter",
         "x": {
          "bdata": "AAECAwQFBgcICQoLDA0ODxAREhMUFRYXGBkaGxwdHh8gISIjJCUmJygpKissLS4vMDEyMzQ1Njc4OTo7",
          "dtype": "i1"
         },
         "xaxis": "x2",
         "y": {
          "bdata": "t23b1m/zBUCSJElyZFkFQNu2bdtyDQVAbtu2rRfNBEAAAADAzbAEQLdt21ZVzwRAJUmS5EmeBECSJEmSK5kEQLdt2/ZRrQRA27Ztm9afBEDbtm07XH0EQAAAACBmpgRAkiRJ0pCSBEBJkiTpwEcEQEmSJIkkNwRAJUmShFVKBEDbtm2bQEoEQJIkSVIGPwRAkiRJ8kZIBECSJElyjS4EQLdt23YhOgRA27ZtmwQ2BEAlSZJEjCAEQAAAAEDKEQRASZIkSUYxBECSJEnSyBMEQLdt2/a3BQRAt23bdvn2A0Dbtm17KRgEQEmSJIkgFwRASZIkCaP/A0C3bds2PhkEQLdt29a9CQRASZIkaYXtA0Dbtm0b/NUDQNu2bZv84wNA27ZtG5nTA0BJkiSJLfwDQLdt29bMAgRAAAAAIIkKBEAlSZJkBg8EQG7btu1O3wNAAAAAIE8tBEAlSZIkXJ0DQNu2bfvU2QNAJUmSxAznA0AAAAAAXbYDQEmSJCkfugNAkiRJ8uCgA0AAAABgTowDQLdt2/ZfoANAbtu2LSWYA0AAAACgTIwDQG7btq0NjgNASZIkqU22A0C3bdu2YbIDQG7bts2X0gNAAAAAYJmNA0AlSZKEkJwDQLdt2/YhggNA",
          "dtype": "f8"
         },
         "yaxis": "y2"
        },
        {
         "hovertemplate": "variable=validation_accuracy<br>epoch=%{x}<br>value=%{y}<extra></extra>",
         "legendgroup": "validation_accuracy",
         "line": {
          "color": "#ab63fa",
          "dash": "solid"
         },
         "marker": {
          "symbol": "circle"
         },
         "mode": "lines",
         "name": "validation_accuracy",
         "orientation": "v",
         "showlegend": true,
         "type": "scatter",
         "x": {
          "bdata": "AAECAwQFBgcICQoLDA0ODxAREhMUFRYXGBkaGxwdHh8gISIjJCUmJygpKissLS4vMDEyMzQ1Njc4OTo7",
          "dtype": "i1"
         },
         "xaxis": "x",
         "y": {
          "bdata": "l2VZlmXZzT+f53me57nTP0IqpEIqZNY/8RVf8RUf2D+RF3mRFznZPzqogzqoQ9g/0hqt0Rrt2T8piqIoiiLaP0iFVEiFVNk/Eh7hER6h2T+lQiqkQuraP3qrt3qrd9k/yYu8yIt82j8AAAAAAEDcP0mSJEmSJN0/ztmczdlc3D9g/uVf/mXcPwVBEARBkNw/+7Ef+7Ef3D/btm3btu3cP4VHeIRHuNw/4ARO4AQO3T9pmqZpmubdPwVO4AROYN4/JUmSJElS3T/SJ33SJz3eP5IkSZIkSd4/G7qhG7rh3j9lTMZkTMbdP7dt27ZtG94/rt7qrd6q3j/JmIzJmAzePw7d0A3dUN4/4ARO4ARO3z/ruq7rug7gP07gBE7gxN8/S7mUS7kU4D8pl3Ipl/LeP4D5l3/5l94/O7VTO7VT3j+bszmbszneP5MxGZMx2d8/cimXcikX3T8e4REe4dHgPyEIgiAIAuA/BU7gBE5g3z/VTu3UTo3gP/dwD/dwb+A/syzLsizr4D9RB3VQBzXhP47jOI7j2OA/B3VQB3UQ4T91UAd1UCfhPyMv8iIvEuE/vuIrvuJr4D+7u7u7u5vgP3ACJ3ACJ+A/+Zd/+Zf/4D/HcRzHcfzgP6VP+qRPWuE/",
          "dtype": "f8"
         },
         "yaxis": "y"
        }
       ],
       "layout": {
        "annotations": [
         {
          "font": {},
          "showarrow": false,
          "text": "variable=validation_accuracy",
          "textangle": 90,
          "x": 0.98,
          "xanchor": "left",
          "xref": "paper",
          "y": 0.11375,
          "yanchor": "middle",
          "yref": "paper"
         },
         {
          "font": {},
          "showarrow": false,
          "text": "variable=validation_loss",
          "textangle": 90,
          "x": 0.98,
          "xanchor": "left",
          "xref": "paper",
          "y": 0.37124999999999997,
          "yanchor": "middle",
          "yref": "paper"
         },
         {
          "font": {},
          "showarrow": false,
          "text": "variable=train_epoch_accuracy",
          "textangle": 90,
          "x": 0.98,
          "xanchor": "left",
          "xref": "paper",
          "y": 0.62875,
          "yanchor": "middle",
          "yref": "paper"
         },
         {
          "font": {},
          "showarrow": false,
          "text": "variable=train_epoch_loss",
          "textangle": 90,
          "x": 0.98,
          "xanchor": "left",
          "xref": "paper",
          "y": 0.88625,
          "yanchor": "middle",
          "yref": "paper"
         }
        ],
        "legend": {
         "title": {
          "text": "variable"
         },
         "tracegroupgap": 0
        },
        "template": {
         "data": {
          "bar": [
           {
            "error_x": {
             "color": "#2a3f5f"
            },
            "error_y": {
             "color": "#2a3f5f"
            },
            "marker": {
             "line": {
              "color": "#E5ECF6",
              "width": 0.5
             },
             "pattern": {
              "fillmode": "overlay",
              "size": 10,
              "solidity": 0.2
             }
            },
            "type": "bar"
           }
          ],
          "barpolar": [
           {
            "marker": {
             "line": {
              "color": "#E5ECF6",
              "width": 0.5
             },
             "pattern": {
              "fillmode": "overlay",
              "size": 10,
              "solidity": 0.2
             }
            },
            "type": "barpolar"
           }
          ],
          "carpet": [
           {
            "aaxis": {
             "endlinecolor": "#2a3f5f",
             "gridcolor": "white",
             "linecolor": "white",
             "minorgridcolor": "white",
             "startlinecolor": "#2a3f5f"
            },
            "baxis": {
             "endlinecolor": "#2a3f5f",
             "gridcolor": "white",
             "linecolor": "white",
             "minorgridcolor": "white",
             "startlinecolor": "#2a3f5f"
            },
            "type": "carpet"
           }
          ],
          "choropleth": [
           {
            "colorbar": {
             "outlinewidth": 0,
             "ticks": ""
            },
            "type": "choropleth"
           }
          ],
          "contour": [
           {
            "colorbar": {
             "outlinewidth": 0,
             "ticks": ""
            },
            "colorscale": [
             [
              0,
              "#0d0887"
             ],
             [
              0.1111111111111111,
              "#46039f"
             ],
             [
              0.2222222222222222,
              "#7201a8"
             ],
             [
              0.3333333333333333,
              "#9c179e"
             ],
             [
              0.4444444444444444,
              "#bd3786"
             ],
             [
              0.5555555555555556,
              "#d8576b"
             ],
             [
              0.6666666666666666,
              "#ed7953"
             ],
             [
              0.7777777777777778,
              "#fb9f3a"
             ],
             [
              0.8888888888888888,
              "#fdca26"
             ],
             [
              1,
              "#f0f921"
             ]
            ],
            "type": "contour"
           }
          ],
          "contourcarpet": [
           {
            "colorbar": {
             "outlinewidth": 0,
             "ticks": ""
            },
            "type": "contourcarpet"
           }
          ],
          "heatmap": [
           {
            "colorbar": {
             "outlinewidth": 0,
             "ticks": ""
            },
            "colorscale": [
             [
              0,
              "#0d0887"
             ],
             [
              0.1111111111111111,
              "#46039f"
             ],
             [
              0.2222222222222222,
              "#7201a8"
             ],
             [
              0.3333333333333333,
              "#9c179e"
             ],
             [
              0.4444444444444444,
              "#bd3786"
             ],
             [
              0.5555555555555556,
              "#d8576b"
             ],
             [
              0.6666666666666666,
              "#ed7953"
             ],
             [
              0.7777777777777778,
              "#fb9f3a"
             ],
             [
              0.8888888888888888,
              "#fdca26"
             ],
             [
              1,
              "#f0f921"
             ]
            ],
            "type": "heatmap"
           }
          ],
          "histogram": [
           {
            "marker": {
             "pattern": {
              "fillmode": "overlay",
              "size": 10,
              "solidity": 0.2
             }
            },
            "type": "histogram"
           }
          ],
          "histogram2d": [
           {
            "colorbar": {
             "outlinewidth": 0,
             "ticks": ""
            },
            "colorscale": [
             [
              0,
              "#0d0887"
             ],
             [
              0.1111111111111111,
              "#46039f"
             ],
             [
              0.2222222222222222,
              "#7201a8"
             ],
             [
              0.3333333333333333,
              "#9c179e"
             ],
             [
              0.4444444444444444,
              "#bd3786"
             ],
             [
              0.5555555555555556,
              "#d8576b"
             ],
             [
              0.6666666666666666,
              "#ed7953"
             ],
             [
              0.7777777777777778,
              "#fb9f3a"
             ],
             [
              0.8888888888888888,
              "#fdca26"
             ],
             [
              1,
              "#f0f921"
             ]
            ],
            "type": "histogram2d"
           }
          ],
          "histogram2dcontour": [
           {
            "colorbar": {
             "outlinewidth": 0,
             "ticks": ""
            },
            "colorscale": [
             [
              0,
              "#0d0887"
             ],
             [
              0.1111111111111111,
              "#46039f"
             ],
             [
              0.2222222222222222,
              "#7201a8"
             ],
             [
              0.3333333333333333,
              "#9c179e"
             ],
             [
              0.4444444444444444,
              "#bd3786"
             ],
             [
              0.5555555555555556,
              "#d8576b"
             ],
             [
              0.6666666666666666,
              "#ed7953"
             ],
             [
              0.7777777777777778,
              "#fb9f3a"
             ],
             [
              0.8888888888888888,
              "#fdca26"
             ],
             [
              1,
              "#f0f921"
             ]
            ],
            "type": "histogram2dcontour"
           }
          ],
          "mesh3d": [
           {
            "colorbar": {
             "outlinewidth": 0,
             "ticks": ""
            },
            "type": "mesh3d"
           }
          ],
          "parcoords": [
           {
            "line": {
             "colorbar": {
              "outlinewidth": 0,
              "ticks": ""
             }
            },
            "type": "parcoords"
           }
          ],
          "pie": [
           {
            "automargin": true,
            "type": "pie"
           }
          ],
          "scatter": [
           {
            "fillpattern": {
             "fillmode": "overlay",
             "size": 10,
             "solidity": 0.2
            },
            "type": "scatter"
           }
          ],
          "scatter3d": [
           {
            "line": {
             "colorbar": {
              "outlinewidth": 0,
              "ticks": ""
             }
            },
            "marker": {
             "colorbar": {
              "outlinewidth": 0,
              "ticks": ""
             }
            },
            "type": "scatter3d"
           }
          ],
          "scattercarpet": [
           {
            "marker": {
             "colorbar": {
              "outlinewidth": 0,
              "ticks": ""
             }
            },
            "type": "scattercarpet"
           }
          ],
          "scattergeo": [
           {
            "marker": {
             "colorbar": {
              "outlinewidth": 0,
              "ticks": ""
             }
            },
            "type": "scattergeo"
           }
          ],
          "scattergl": [
           {
            "marker": {
             "colorbar": {
              "outlinewidth": 0,
              "ticks": ""
             }
            },
            "type": "scattergl"
           }
          ],
          "scattermap": [
           {
            "marker": {
             "colorbar": {
              "outlinewidth": 0,
              "ticks": ""
             }
            },
            "type": "scattermap"
           }
          ],
          "scattermapbox": [
           {
            "marker": {
             "colorbar": {
              "outlinewidth": 0,
              "ticks": ""
             }
            },
            "type": "scattermapbox"
           }
          ],
          "scatterpolar": [
           {
            "marker": {
             "colorbar": {
              "outlinewidth": 0,
              "ticks": ""
             }
            },
            "type": "scatterpolar"
           }
          ],
          "scatterpolargl": [
           {
            "marker": {
             "colorbar": {
              "outlinewidth": 0,
              "ticks": ""
             }
            },
            "type": "scatterpolargl"
           }
          ],
          "scatterternary": [
           {
            "marker": {
             "colorbar": {
              "outlinewidth": 0,
              "ticks": ""
             }
            },
            "type": "scatterternary"
           }
          ],
          "surface": [
           {
            "colorbar": {
             "outlinewidth": 0,
             "ticks": ""
            },
            "colorscale": [
             [
              0,
              "#0d0887"
             ],
             [
              0.1111111111111111,
              "#46039f"
             ],
             [
              0.2222222222222222,
              "#7201a8"
             ],
             [
              0.3333333333333333,
              "#9c179e"
             ],
             [
              0.4444444444444444,
              "#bd3786"
             ],
             [
              0.5555555555555556,
              "#d8576b"
             ],
             [
              0.6666666666666666,
              "#ed7953"
             ],
             [
              0.7777777777777778,
              "#fb9f3a"
             ],
             [
              0.8888888888888888,
              "#fdca26"
             ],
             [
              1,
              "#f0f921"
             ]
            ],
            "type": "surface"
           }
          ],
          "table": [
           {
            "cells": {
             "fill": {
              "color": "#EBF0F8"
             },
             "line": {
              "color": "white"
             }
            },
            "header": {
             "fill": {
              "color": "#C8D4E3"
             },
             "line": {
              "color": "white"
             }
            },
            "type": "table"
           }
          ]
         },
         "layout": {
          "annotationdefaults": {
           "arrowcolor": "#2a3f5f",
           "arrowhead": 0,
           "arrowwidth": 1
          },
          "autotypenumbers": "strict",
          "coloraxis": {
           "colorbar": {
            "outlinewidth": 0,
            "ticks": ""
           }
          },
          "colorscale": {
           "diverging": [
            [
             0,
             "#8e0152"
            ],
            [
             0.1,
             "#c51b7d"
            ],
            [
             0.2,
             "#de77ae"
            ],
            [
             0.3,
             "#f1b6da"
            ],
            [
             0.4,
             "#fde0ef"
            ],
            [
             0.5,
             "#f7f7f7"
            ],
            [
             0.6,
             "#e6f5d0"
            ],
            [
             0.7,
             "#b8e186"
            ],
            [
             0.8,
             "#7fbc41"
            ],
            [
             0.9,
             "#4d9221"
            ],
            [
             1,
             "#276419"
            ]
           ],
           "sequential": [
            [
             0,
             "#0d0887"
            ],
            [
             0.1111111111111111,
             "#46039f"
            ],
            [
             0.2222222222222222,
             "#7201a8"
            ],
            [
             0.3333333333333333,
             "#9c179e"
            ],
            [
             0.4444444444444444,
             "#bd3786"
            ],
            [
             0.5555555555555556,
             "#d8576b"
            ],
            [
             0.6666666666666666,
             "#ed7953"
            ],
            [
             0.7777777777777778,
             "#fb9f3a"
            ],
            [
             0.8888888888888888,
             "#fdca26"
            ],
            [
             1,
             "#f0f921"
            ]
           ],
           "sequentialminus": [
            [
             0,
             "#0d0887"
            ],
            [
             0.1111111111111111,
             "#46039f"
            ],
            [
             0.2222222222222222,
             "#7201a8"
            ],
            [
             0.3333333333333333,
             "#9c179e"
            ],
            [
             0.4444444444444444,
             "#bd3786"
            ],
            [
             0.5555555555555556,
             "#d8576b"
            ],
            [
             0.6666666666666666,
             "#ed7953"
            ],
            [
             0.7777777777777778,
             "#fb9f3a"
            ],
            [
             0.8888888888888888,
             "#fdca26"
            ],
            [
             1,
             "#f0f921"
            ]
           ]
          },
          "colorway": [
           "#636efa",
           "#EF553B",
           "#00cc96",
           "#ab63fa",
           "#FFA15A",
           "#19d3f3",
           "#FF6692",
           "#B6E880",
           "#FF97FF",
           "#FECB52"
          ],
          "font": {
           "color": "#2a3f5f"
          },
          "geo": {
           "bgcolor": "white",
           "lakecolor": "white",
           "landcolor": "#E5ECF6",
           "showlakes": true,
           "showland": true,
           "subunitcolor": "white"
          },
          "hoverlabel": {
           "align": "left"
          },
          "hovermode": "closest",
          "mapbox": {
           "style": "light"
          },
          "paper_bgcolor": "white",
          "plot_bgcolor": "#E5ECF6",
          "polar": {
           "angularaxis": {
            "gridcolor": "white",
            "linecolor": "white",
            "ticks": ""
           },
           "bgcolor": "#E5ECF6",
           "radialaxis": {
            "gridcolor": "white",
            "linecolor": "white",
            "ticks": ""
           }
          },
          "scene": {
           "xaxis": {
            "backgroundcolor": "#E5ECF6",
            "gridcolor": "white",
            "gridwidth": 2,
            "linecolor": "white",
            "showbackground": true,
            "ticks": "",
            "zerolinecolor": "white"
           },
           "yaxis": {
            "backgroundcolor": "#E5ECF6",
            "gridcolor": "white",
            "gridwidth": 2,
            "linecolor": "white",
            "showbackground": true,
            "ticks": "",
            "zerolinecolor": "white"
           },
           "zaxis": {
            "backgroundcolor": "#E5ECF6",
            "gridcolor": "white",
            "gridwidth": 2,
            "linecolor": "white",
            "showbackground": true,
            "ticks": "",
            "zerolinecolor": "white"
           }
          },
          "shapedefaults": {
           "line": {
            "color": "#2a3f5f"
           }
          },
          "ternary": {
           "aaxis": {
            "gridcolor": "white",
            "linecolor": "white",
            "ticks": ""
           },
           "baxis": {
            "gridcolor": "white",
            "linecolor": "white",
            "ticks": ""
           },
           "bgcolor": "#E5ECF6",
           "caxis": {
            "gridcolor": "white",
            "linecolor": "white",
            "ticks": ""
           }
          },
          "title": {
           "x": 0.05
          },
          "xaxis": {
           "automargin": true,
           "gridcolor": "white",
           "linecolor": "white",
           "ticks": "",
           "title": {
            "standoff": 15
           },
           "zerolinecolor": "white",
           "zerolinewidth": 2
          },
          "yaxis": {
           "automargin": true,
           "gridcolor": "white",
           "linecolor": "white",
           "ticks": "",
           "title": {
            "standoff": 15
           },
           "zerolinecolor": "white",
           "zerolinewidth": 2
          }
         }
        },
        "title": {
         "text": "epoch metrics"
        },
        "xaxis": {
         "anchor": "y",
         "domain": [
          0,
          0.98
         ],
         "title": {
          "text": "epoch"
         }
        },
        "xaxis2": {
         "anchor": "y2",
         "domain": [
          0,
          0.98
         ],
         "matches": "x",
         "showticklabels": false
        },
        "xaxis3": {
         "anchor": "y3",
         "domain": [
          0,
          0.98
         ],
         "matches": "x",
         "showticklabels": false
        },
        "xaxis4": {
         "anchor": "y4",
         "domain": [
          0,
          0.98
         ],
         "matches": "x",
         "showticklabels": false
        },
        "yaxis": {
         "anchor": "x",
         "domain": [
          0,
          0.2275
         ],
         "title": {
          "text": "value"
         }
        },
        "yaxis2": {
         "anchor": "x2",
         "domain": [
          0.2575,
          0.485
         ],
         "title": {
          "text": "value"
         }
        },
        "yaxis3": {
         "anchor": "x3",
         "domain": [
          0.515,
          0.7425
         ],
         "title": {
          "text": "value"
         }
        },
        "yaxis4": {
         "anchor": "x4",
         "domain": [
          0.7725,
          1
         ],
         "title": {
          "text": "value"
         }
        }
       }
      }
     },
     "metadata": {},
     "output_type": "display_data"
    },
    {
     "name": "stdout",
     "output_type": "stream",
     "text": [
      "=========================\n",
      "training: 3\n"
     ]
    },
    {
     "data": {
      "application/vnd.jupyter.widget-view+json": {
       "model_id": "693ac80a91514abca4d68a1357e4e74e",
       "version_major": 2,
       "version_minor": 0
      },
      "text/plain": [
       "Output()"
      ]
     },
     "metadata": {},
     "output_type": "display_data"
    },
    {
     "data": {
      "text/html": [
       "<pre style=\"white-space:pre;overflow-x:auto;line-height:normal;font-family:Menlo,'DejaVu Sans Mono',consolas,'Courier New',monospace\"></pre>\n"
      ],
      "text/plain": []
     },
     "metadata": {},
     "output_type": "display_data"
    },
    {
     "data": {
      "application/vnd.plotly.v1+json": {
       "config": {
        "plotlyServerURL": "https://plot.ly"
       },
       "data": [
        {
         "hovertemplate": "variable=train_epoch_loss<br>epoch=%{x}<br>value=%{y}<extra></extra>",
         "legendgroup": "train_epoch_loss",
         "line": {
          "color": "#636efa",
          "dash": "solid"
         },
         "marker": {
          "symbol": "circle"
         },
         "mode": "lines",
         "name": "train_epoch_loss",
         "orientation": "v",
         "showlegend": true,
         "type": "scatter",
         "x": {
          "bdata": "AAECAwQFBgcICQoLDA0ODxAREhMUFRYXGBkaGxwdHh8gISIjJCUmJygpKissLS4vMDEyMzQ1Njc4OTo7",
          "dtype": "i1"
         },
         "xaxis": "x4",
         "y": {
          "bdata": "ntiJfXOKBkDsxE68OMEFQLETO2HregVAip3YuRgqBUBiJ3aSKNIEQMVO7NSSggRAT+zE3q5HBEA7sRObmCwEQBQ7sZPIDQRAAAAAEG3zA0DsxE7ciOEDQNmJnSjBzgNAJ3ZiV8i4A0DZiZ2Y2LIDQE/sxD52owNAAAAAsHuTA0B2YicW9ZIDQDuxE6sjiQNAFDuxc5B0A0CxEzthLG0DQHZiJxY0aQNA7MROHKRTA0A7sRP7WDQDQNmJnViJHQNAsRM7oXL6AkBP7MTuy8UCQE/sxL6drAJA7MROnCWUAkDFTuw0Y3UCQDuxE0t5YQJAO7ETm1ZeAkAUO7GzMVQCQBQ7sXMASAJAsRM7sURKAkDZiZ3odUsCQBQ7saPwQgJAdmInBuM6AkDsxE6Mhy4CQHZiJxbqMwJAFDuxw+EyAkAndmIHFC8CQMVO7BReMgJAT+zEfk4tAkA7sRO7ziwCQNmJnZikJwJAip3YmdsrAkCKndgJ/CcCQOzEThzwIwJA2YmdSC8kAkCe2Il9xSECQHZiJ8a4JQJAAAAAIEMiAkB2Yid2niMCQIqd2OnWJAJA7MROfAUjAkB2YidmhSECQNmJndgaIwJAdmIn5i4hAkA7sRO7TCECQHZiJ7bSHQJA",
          "dtype": "f8"
         },
         "yaxis": "y4"
        },
        {
         "hovertemplate": "variable=train_epoch_accuracy<br>epoch=%{x}<br>value=%{y}<extra></extra>",
         "legendgroup": "train_epoch_accuracy",
         "line": {
          "color": "#EF553B",
          "dash": "solid"
         },
         "marker": {
          "symbol": "circle"
         },
         "mode": "lines",
         "name": "train_epoch_accuracy",
         "orientation": "v",
         "showlegend": true,
         "type": "scatter",
         "x": {
          "bdata": "AAECAwQFBgcICQoLDA0ODxAREhMUFRYXGBkaGxwdHh8gISIjJCUmJygpKissLS4vMDEyMzQ1Njc4OTo7",
          "dtype": "i1"
         },
         "xaxis": "x3",
         "y": {
          "bdata": "BCLDvQomxD89QvWZtobQP7x5hOozzdI/FcySckBk1T+h+kxb4y/YPwtmSTkgkto/sIJZUg5o3D/gzSNUn0ndP6rPtDX+Tt4/4V4Fs6Qc3z+2xt/NI7TfP+5VMEvKMeA/EBnuVTCL4D9tjb+bR5jgP18Fs6Qc4OA/o4suuugS4T9s/N08QhXhP+5VMEvKQeE/iAz3KpiV4T+8eYTqM63hP/aZtsbfveE/UX2mrfEn4j92Yid2YpfiP+Pv5hGq/+I/ApHhXgWD4z9r/N08QmXkP57YiZ3YyeQ/O7ETO7Ej5T86IDLcq6DlP5UDIsO96uU/N49Qfabt5T/83TxC9RnmP5UDIsO9SuY/ygGR4V5F5j8iw70KZjnmP7CCWVIOWOY/W+Pv5hF65j9/N49QfabmP9TW+Lt5lOY/rvF38wiV5j+lHBAZ7qXmP2ZJOSAynOY/6zNtjb+r5j9mSTkgMqzmPw+IDPcqyOY/XnTRRRet5j+qz7Q1/r7mP9C0Nf5uzuY/xU7sxE7M5j8gMtyrYNbmP9TW+Lt5xOY/pq3xd/PY5j+iiy666NLmP1SfaWv8zeY/3KtglpTT5j+e2Imd2NnmP3ZiJ3Zi1+Y/Nv5uHqHa5j8PiAz3KtjmP+DNI1Sf6eY/",
          "dtype": "f8"
         },
         "yaxis": "y3"
        },
        {
         "hovertemplate": "variable=validation_loss<br>epoch=%{x}<br>value=%{y}<extra></extra>",
         "legendgroup": "validation_loss",
         "line": {
          "color": "#00cc96",
          "dash": "solid"
         },
         "marker": {
          "symbol": "circle"
         },
         "mode": "lines",
         "name": "validation_loss",
         "orientation": "v",
         "showlegend": true,
         "type": "scatter",
         "x": {
          "bdata": "AAECAwQFBgcICQoLDA0ODxAREhMUFRYXGBkaGxwdHh8gISIjJCUmJygpKissLS4vMDEyMzQ1Njc4OTo7",
          "dtype": "i1"
         },
         "xaxis": "x2",
         "y": {
          "bdata": "AAAAQLBDBkAlSZLE1I4FQLdt27bCpgVASZIkieAWBUBu27bN6uMEQG7btq0EqwRASZIkaWu9BEAAAACALbcEQEmSJAlfkgRAbtu2TViLBEAAAABgfL0EQCVJkoTJoARAbtu27U6nBEAlSZJk+JQEQCVJkqQ5kgRAAAAAIF2vBEAAAAAgLYUEQLdt23bJVwRAt23b1gBwBEBu27Ytl3MEQNu2bfsafwRAt23blk9bBEAlSZJkTUcEQNu2bXtZSQRAJUmS5A9UBEBJkiRJx1MEQAAAAGBGJgRAbtu27agNBEC3bdu2tu0DQJIkSfKh5QNAt23bNtr8A0Bu27ZNwc4DQG7btu087ANAkiRJsrLdA0Dbtm2bbNgDQCVJkqQN7ANAAAAAgPbmA0BJkiTJyc8DQG7btu2u2gNAAAAAwM38A0Dbtm3bT9gDQEmSJMkQ5QNAAAAAwObZA0CSJEky+doDQCVJkqSi7gNAbtu2TZoMBEC3bds2RvIDQEmSJGlG3gNAAAAAgOH/A0C3bdu2Y+wDQCVJkmRUzANA27Zte3ftA0Dbtm0bVukDQCVJksSpyANAbtu2DU/HA0Bu27YtA9UDQEmSJOlh4QNA27ZtOy7oA0BJkiTpwdcDQJIkSTJB4ANA",
          "dtype": "f8"
         },
         "yaxis": "y2"
        },
        {
         "hovertemplate": "variable=validation_accuracy<br>epoch=%{x}<br>value=%{y}<extra></extra>",
         "legendgroup": "validation_accuracy",
         "line": {
          "color": "#ab63fa",
          "dash": "solid"
         },
         "marker": {
          "symbol": "circle"
         },
         "mode": "lines",
         "name": "validation_accuracy",
         "orientation": "v",
         "showlegend": true,
         "type": "scatter",
         "x": {
          "bdata": "AAECAwQFBgcICQoLDA0ODxAREhMUFRYXGBkaGxwdHh8gISIjJCUmJygpKissLS4vMDEyMzQ1Njc4OTo7",
          "dtype": "i1"
         },
         "xaxis": "x",
         "y": {
          "bdata": "XtzFXdxFyD9WVVVVVVXSPyd2Yid2YtE/6Hme53ne1T/DMAzDMIzXPx/v8R7vcdk/1lzN1VzN2D/DMAzDMMzYP+mIjuiITto/FlmRFVlR2j/DMAzDMIzYPwM8wAM8wNk/wzAMwzBM2T9ogRZogRbaPwIt0AItENo/gzRIgzQI2T/WXM3VXI3aPwM8wAM8ANw/sRM7sRP72j9ogRZogRbbP7qpm7qpm9o/KIVSKIXS2z/piI7oiE7cPzIbszEbM9w/X+u1Xuv12z9f67Ve6/XbP/qlX/qlX90/1lzN1VwN3j9g+qVf+mXfP6D2aZ/2qd8/6YiO6IgO3z/naq7mai7gPzIbszEbc98/3/It3/Kt3z8rsiIrsgLgPx/v8R7vMd8/Tc7kTM5k3z91REd0RCfgP9/yLd/y7d8/uqmbuqmb3j8w/dIv/RLgP03O5EzOpN8/AzzAAzzA3z++1mu91gvgPwM8wAM8QN8/cRd3cRc33j8DPMADPADfPx/v8R7vsd8/cRd3cRe33j/f8i3f8i3fPwdpkAZpMOA/KIVSKIUS3z+g9mmf9mnfP57YiZ3YSeA/UPu0T/s04D8HaZAGaRDgP/qlX/qlX98/YPqlX/ql3z/f8i3f8u3fPzIbszEbs98/",
          "dtype": "f8"
         },
         "yaxis": "y"
        }
       ],
       "layout": {
        "annotations": [
         {
          "font": {},
          "showarrow": false,
          "text": "variable=validation_accuracy",
          "textangle": 90,
          "x": 0.98,
          "xanchor": "left",
          "xref": "paper",
          "y": 0.11375,
          "yanchor": "middle",
          "yref": "paper"
         },
         {
          "font": {},
          "showarrow": false,
          "text": "variable=validation_loss",
          "textangle": 90,
          "x": 0.98,
          "xanchor": "left",
          "xref": "paper",
          "y": 0.37124999999999997,
          "yanchor": "middle",
          "yref": "paper"
         },
         {
          "font": {},
          "showarrow": false,
          "text": "variable=train_epoch_accuracy",
          "textangle": 90,
          "x": 0.98,
          "xanchor": "left",
          "xref": "paper",
          "y": 0.62875,
          "yanchor": "middle",
          "yref": "paper"
         },
         {
          "font": {},
          "showarrow": false,
          "text": "variable=train_epoch_loss",
          "textangle": 90,
          "x": 0.98,
          "xanchor": "left",
          "xref": "paper",
          "y": 0.88625,
          "yanchor": "middle",
          "yref": "paper"
         }
        ],
        "legend": {
         "title": {
          "text": "variable"
         },
         "tracegroupgap": 0
        },
        "template": {
         "data": {
          "bar": [
           {
            "error_x": {
             "color": "#2a3f5f"
            },
            "error_y": {
             "color": "#2a3f5f"
            },
            "marker": {
             "line": {
              "color": "#E5ECF6",
              "width": 0.5
             },
             "pattern": {
              "fillmode": "overlay",
              "size": 10,
              "solidity": 0.2
             }
            },
            "type": "bar"
           }
          ],
          "barpolar": [
           {
            "marker": {
             "line": {
              "color": "#E5ECF6",
              "width": 0.5
             },
             "pattern": {
              "fillmode": "overlay",
              "size": 10,
              "solidity": 0.2
             }
            },
            "type": "barpolar"
           }
          ],
          "carpet": [
           {
            "aaxis": {
             "endlinecolor": "#2a3f5f",
             "gridcolor": "white",
             "linecolor": "white",
             "minorgridcolor": "white",
             "startlinecolor": "#2a3f5f"
            },
            "baxis": {
             "endlinecolor": "#2a3f5f",
             "gridcolor": "white",
             "linecolor": "white",
             "minorgridcolor": "white",
             "startlinecolor": "#2a3f5f"
            },
            "type": "carpet"
           }
          ],
          "choropleth": [
           {
            "colorbar": {
             "outlinewidth": 0,
             "ticks": ""
            },
            "type": "choropleth"
           }
          ],
          "contour": [
           {
            "colorbar": {
             "outlinewidth": 0,
             "ticks": ""
            },
            "colorscale": [
             [
              0,
              "#0d0887"
             ],
             [
              0.1111111111111111,
              "#46039f"
             ],
             [
              0.2222222222222222,
              "#7201a8"
             ],
             [
              0.3333333333333333,
              "#9c179e"
             ],
             [
              0.4444444444444444,
              "#bd3786"
             ],
             [
              0.5555555555555556,
              "#d8576b"
             ],
             [
              0.6666666666666666,
              "#ed7953"
             ],
             [
              0.7777777777777778,
              "#fb9f3a"
             ],
             [
              0.8888888888888888,
              "#fdca26"
             ],
             [
              1,
              "#f0f921"
             ]
            ],
            "type": "contour"
           }
          ],
          "contourcarpet": [
           {
            "colorbar": {
             "outlinewidth": 0,
             "ticks": ""
            },
            "type": "contourcarpet"
           }
          ],
          "heatmap": [
           {
            "colorbar": {
             "outlinewidth": 0,
             "ticks": ""
            },
            "colorscale": [
             [
              0,
              "#0d0887"
             ],
             [
              0.1111111111111111,
              "#46039f"
             ],
             [
              0.2222222222222222,
              "#7201a8"
             ],
             [
              0.3333333333333333,
              "#9c179e"
             ],
             [
              0.4444444444444444,
              "#bd3786"
             ],
             [
              0.5555555555555556,
              "#d8576b"
             ],
             [
              0.6666666666666666,
              "#ed7953"
             ],
             [
              0.7777777777777778,
              "#fb9f3a"
             ],
             [
              0.8888888888888888,
              "#fdca26"
             ],
             [
              1,
              "#f0f921"
             ]
            ],
            "type": "heatmap"
           }
          ],
          "histogram": [
           {
            "marker": {
             "pattern": {
              "fillmode": "overlay",
              "size": 10,
              "solidity": 0.2
             }
            },
            "type": "histogram"
           }
          ],
          "histogram2d": [
           {
            "colorbar": {
             "outlinewidth": 0,
             "ticks": ""
            },
            "colorscale": [
             [
              0,
              "#0d0887"
             ],
             [
              0.1111111111111111,
              "#46039f"
             ],
             [
              0.2222222222222222,
              "#7201a8"
             ],
             [
              0.3333333333333333,
              "#9c179e"
             ],
             [
              0.4444444444444444,
              "#bd3786"
             ],
             [
              0.5555555555555556,
              "#d8576b"
             ],
             [
              0.6666666666666666,
              "#ed7953"
             ],
             [
              0.7777777777777778,
              "#fb9f3a"
             ],
             [
              0.8888888888888888,
              "#fdca26"
             ],
             [
              1,
              "#f0f921"
             ]
            ],
            "type": "histogram2d"
           }
          ],
          "histogram2dcontour": [
           {
            "colorbar": {
             "outlinewidth": 0,
             "ticks": ""
            },
            "colorscale": [
             [
              0,
              "#0d0887"
             ],
             [
              0.1111111111111111,
              "#46039f"
             ],
             [
              0.2222222222222222,
              "#7201a8"
             ],
             [
              0.3333333333333333,
              "#9c179e"
             ],
             [
              0.4444444444444444,
              "#bd3786"
             ],
             [
              0.5555555555555556,
              "#d8576b"
             ],
             [
              0.6666666666666666,
              "#ed7953"
             ],
             [
              0.7777777777777778,
              "#fb9f3a"
             ],
             [
              0.8888888888888888,
              "#fdca26"
             ],
             [
              1,
              "#f0f921"
             ]
            ],
            "type": "histogram2dcontour"
           }
          ],
          "mesh3d": [
           {
            "colorbar": {
             "outlinewidth": 0,
             "ticks": ""
            },
            "type": "mesh3d"
           }
          ],
          "parcoords": [
           {
            "line": {
             "colorbar": {
              "outlinewidth": 0,
              "ticks": ""
             }
            },
            "type": "parcoords"
           }
          ],
          "pie": [
           {
            "automargin": true,
            "type": "pie"
           }
          ],
          "scatter": [
           {
            "fillpattern": {
             "fillmode": "overlay",
             "size": 10,
             "solidity": 0.2
            },
            "type": "scatter"
           }
          ],
          "scatter3d": [
           {
            "line": {
             "colorbar": {
              "outlinewidth": 0,
              "ticks": ""
             }
            },
            "marker": {
             "colorbar": {
              "outlinewidth": 0,
              "ticks": ""
             }
            },
            "type": "scatter3d"
           }
          ],
          "scattercarpet": [
           {
            "marker": {
             "colorbar": {
              "outlinewidth": 0,
              "ticks": ""
             }
            },
            "type": "scattercarpet"
           }
          ],
          "scattergeo": [
           {
            "marker": {
             "colorbar": {
              "outlinewidth": 0,
              "ticks": ""
             }
            },
            "type": "scattergeo"
           }
          ],
          "scattergl": [
           {
            "marker": {
             "colorbar": {
              "outlinewidth": 0,
              "ticks": ""
             }
            },
            "type": "scattergl"
           }
          ],
          "scattermap": [
           {
            "marker": {
             "colorbar": {
              "outlinewidth": 0,
              "ticks": ""
             }
            },
            "type": "scattermap"
           }
          ],
          "scattermapbox": [
           {
            "marker": {
             "colorbar": {
              "outlinewidth": 0,
              "ticks": ""
             }
            },
            "type": "scattermapbox"
           }
          ],
          "scatterpolar": [
           {
            "marker": {
             "colorbar": {
              "outlinewidth": 0,
              "ticks": ""
             }
            },
            "type": "scatterpolar"
           }
          ],
          "scatterpolargl": [
           {
            "marker": {
             "colorbar": {
              "outlinewidth": 0,
              "ticks": ""
             }
            },
            "type": "scatterpolargl"
           }
          ],
          "scatterternary": [
           {
            "marker": {
             "colorbar": {
              "outlinewidth": 0,
              "ticks": ""
             }
            },
            "type": "scatterternary"
           }
          ],
          "surface": [
           {
            "colorbar": {
             "outlinewidth": 0,
             "ticks": ""
            },
            "colorscale": [
             [
              0,
              "#0d0887"
             ],
             [
              0.1111111111111111,
              "#46039f"
             ],
             [
              0.2222222222222222,
              "#7201a8"
             ],
             [
              0.3333333333333333,
              "#9c179e"
             ],
             [
              0.4444444444444444,
              "#bd3786"
             ],
             [
              0.5555555555555556,
              "#d8576b"
             ],
             [
              0.6666666666666666,
              "#ed7953"
             ],
             [
              0.7777777777777778,
              "#fb9f3a"
             ],
             [
              0.8888888888888888,
              "#fdca26"
             ],
             [
              1,
              "#f0f921"
             ]
            ],
            "type": "surface"
           }
          ],
          "table": [
           {
            "cells": {
             "fill": {
              "color": "#EBF0F8"
             },
             "line": {
              "color": "white"
             }
            },
            "header": {
             "fill": {
              "color": "#C8D4E3"
             },
             "line": {
              "color": "white"
             }
            },
            "type": "table"
           }
          ]
         },
         "layout": {
          "annotationdefaults": {
           "arrowcolor": "#2a3f5f",
           "arrowhead": 0,
           "arrowwidth": 1
          },
          "autotypenumbers": "strict",
          "coloraxis": {
           "colorbar": {
            "outlinewidth": 0,
            "ticks": ""
           }
          },
          "colorscale": {
           "diverging": [
            [
             0,
             "#8e0152"
            ],
            [
             0.1,
             "#c51b7d"
            ],
            [
             0.2,
             "#de77ae"
            ],
            [
             0.3,
             "#f1b6da"
            ],
            [
             0.4,
             "#fde0ef"
            ],
            [
             0.5,
             "#f7f7f7"
            ],
            [
             0.6,
             "#e6f5d0"
            ],
            [
             0.7,
             "#b8e186"
            ],
            [
             0.8,
             "#7fbc41"
            ],
            [
             0.9,
             "#4d9221"
            ],
            [
             1,
             "#276419"
            ]
           ],
           "sequential": [
            [
             0,
             "#0d0887"
            ],
            [
             0.1111111111111111,
             "#46039f"
            ],
            [
             0.2222222222222222,
             "#7201a8"
            ],
            [
             0.3333333333333333,
             "#9c179e"
            ],
            [
             0.4444444444444444,
             "#bd3786"
            ],
            [
             0.5555555555555556,
             "#d8576b"
            ],
            [
             0.6666666666666666,
             "#ed7953"
            ],
            [
             0.7777777777777778,
             "#fb9f3a"
            ],
            [
             0.8888888888888888,
             "#fdca26"
            ],
            [
             1,
             "#f0f921"
            ]
           ],
           "sequentialminus": [
            [
             0,
             "#0d0887"
            ],
            [
             0.1111111111111111,
             "#46039f"
            ],
            [
             0.2222222222222222,
             "#7201a8"
            ],
            [
             0.3333333333333333,
             "#9c179e"
            ],
            [
             0.4444444444444444,
             "#bd3786"
            ],
            [
             0.5555555555555556,
             "#d8576b"
            ],
            [
             0.6666666666666666,
             "#ed7953"
            ],
            [
             0.7777777777777778,
             "#fb9f3a"
            ],
            [
             0.8888888888888888,
             "#fdca26"
            ],
            [
             1,
             "#f0f921"
            ]
           ]
          },
          "colorway": [
           "#636efa",
           "#EF553B",
           "#00cc96",
           "#ab63fa",
           "#FFA15A",
           "#19d3f3",
           "#FF6692",
           "#B6E880",
           "#FF97FF",
           "#FECB52"
          ],
          "font": {
           "color": "#2a3f5f"
          },
          "geo": {
           "bgcolor": "white",
           "lakecolor": "white",
           "landcolor": "#E5ECF6",
           "showlakes": true,
           "showland": true,
           "subunitcolor": "white"
          },
          "hoverlabel": {
           "align": "left"
          },
          "hovermode": "closest",
          "mapbox": {
           "style": "light"
          },
          "paper_bgcolor": "white",
          "plot_bgcolor": "#E5ECF6",
          "polar": {
           "angularaxis": {
            "gridcolor": "white",
            "linecolor": "white",
            "ticks": ""
           },
           "bgcolor": "#E5ECF6",
           "radialaxis": {
            "gridcolor": "white",
            "linecolor": "white",
            "ticks": ""
           }
          },
          "scene": {
           "xaxis": {
            "backgroundcolor": "#E5ECF6",
            "gridcolor": "white",
            "gridwidth": 2,
            "linecolor": "white",
            "showbackground": true,
            "ticks": "",
            "zerolinecolor": "white"
           },
           "yaxis": {
            "backgroundcolor": "#E5ECF6",
            "gridcolor": "white",
            "gridwidth": 2,
            "linecolor": "white",
            "showbackground": true,
            "ticks": "",
            "zerolinecolor": "white"
           },
           "zaxis": {
            "backgroundcolor": "#E5ECF6",
            "gridcolor": "white",
            "gridwidth": 2,
            "linecolor": "white",
            "showbackground": true,
            "ticks": "",
            "zerolinecolor": "white"
           }
          },
          "shapedefaults": {
           "line": {
            "color": "#2a3f5f"
           }
          },
          "ternary": {
           "aaxis": {
            "gridcolor": "white",
            "linecolor": "white",
            "ticks": ""
           },
           "baxis": {
            "gridcolor": "white",
            "linecolor": "white",
            "ticks": ""
           },
           "bgcolor": "#E5ECF6",
           "caxis": {
            "gridcolor": "white",
            "linecolor": "white",
            "ticks": ""
           }
          },
          "title": {
           "x": 0.05
          },
          "xaxis": {
           "automargin": true,
           "gridcolor": "white",
           "linecolor": "white",
           "ticks": "",
           "title": {
            "standoff": 15
           },
           "zerolinecolor": "white",
           "zerolinewidth": 2
          },
          "yaxis": {
           "automargin": true,
           "gridcolor": "white",
           "linecolor": "white",
           "ticks": "",
           "title": {
            "standoff": 15
           },
           "zerolinecolor": "white",
           "zerolinewidth": 2
          }
         }
        },
        "title": {
         "text": "epoch metrics"
        },
        "xaxis": {
         "anchor": "y",
         "domain": [
          0,
          0.98
         ],
         "title": {
          "text": "epoch"
         }
        },
        "xaxis2": {
         "anchor": "y2",
         "domain": [
          0,
          0.98
         ],
         "matches": "x",
         "showticklabels": false
        },
        "xaxis3": {
         "anchor": "y3",
         "domain": [
          0,
          0.98
         ],
         "matches": "x",
         "showticklabels": false
        },
        "xaxis4": {
         "anchor": "y4",
         "domain": [
          0,
          0.98
         ],
         "matches": "x",
         "showticklabels": false
        },
        "yaxis": {
         "anchor": "x",
         "domain": [
          0,
          0.2275
         ],
         "title": {
          "text": "value"
         }
        },
        "yaxis2": {
         "anchor": "x2",
         "domain": [
          0.2575,
          0.485
         ],
         "title": {
          "text": "value"
         }
        },
        "yaxis3": {
         "anchor": "x3",
         "domain": [
          0.515,
          0.7425
         ],
         "title": {
          "text": "value"
         }
        },
        "yaxis4": {
         "anchor": "x4",
         "domain": [
          0.7725,
          1
         ],
         "title": {
          "text": "value"
         }
        }
       }
      }
     },
     "metadata": {},
     "output_type": "display_data"
    },
    {
     "name": "stdout",
     "output_type": "stream",
     "text": [
      "=========================\n",
      "training: 4\n"
     ]
    },
    {
     "data": {
      "application/vnd.jupyter.widget-view+json": {
       "model_id": "92f43e9b83fd46138d475cd193ad3e5c",
       "version_major": 2,
       "version_minor": 0
      },
      "text/plain": [
       "Output()"
      ]
     },
     "metadata": {},
     "output_type": "display_data"
    },
    {
     "data": {
      "text/html": [
       "<pre style=\"white-space:pre;overflow-x:auto;line-height:normal;font-family:Menlo,'DejaVu Sans Mono',consolas,'Courier New',monospace\"></pre>\n"
      ],
      "text/plain": []
     },
     "metadata": {},
     "output_type": "display_data"
    },
    {
     "data": {
      "application/vnd.plotly.v1+json": {
       "config": {
        "plotlyServerURL": "https://plot.ly"
       },
       "data": [
        {
         "hovertemplate": "variable=train_epoch_loss<br>epoch=%{x}<br>value=%{y}<extra></extra>",
         "legendgroup": "train_epoch_loss",
         "line": {
          "color": "#636efa",
          "dash": "solid"
         },
         "marker": {
          "symbol": "circle"
         },
         "mode": "lines",
         "name": "train_epoch_loss",
         "orientation": "v",
         "showlegend": true,
         "type": "scatter",
         "x": {
          "bdata": "AAECAwQFBgcICQoLDA0ODxAREhMUFRYXGBkaGxwdHh8gISIjJCUmJygpKissLS4vMDEyMzQ1Njc4OTo7",
          "dtype": "i1"
         },
         "xaxis": "x4",
         "y": {
          "bdata": "AAAAoLzVBUAUO7FTPVoEQIqd2GlK3wNAAAAAMMymA0DZiZ04ImwDQOzETpxaXANA2Ymd+H4xA0AUO7FzrxUDQIqd2Hls4AJAT+zE7rLUAkAUO7FTGq0CQCd2YocCxwJAntiJbYahAkDsxE48xooCQMVO7DSafgJAYid2cmd2AkCe2Im9nXcCQNmJnUhYUwJA2YmdGOFCAkAUO7FDLzICQMVO7HT9SQJA7MROPFY+AkCxEzthIDUCQNmJnRgqMAJAJ3Zix78QAkBiJ3aSBQMCQHZiJ5YvBAJAYid24q37AUCxEzsRcAACQIqd2BkV9QFAsRM7AUvoAUCxEzthruIBQBQ7sdPu7wFAAAAAMHDqAUAAAACwoeABQHZiJ/ZOyQFAFDuxM6O9AUBiJ3bCj7wBQJ7Yic0rwQFAAAAAEPSyAUBP7MQeoakBQNmJnUiHqQFAxU7s5PumAUB2YifGTKYBQAAAAHCLnAFAsRM7wY6qAUBP7MR+JpgBQDuxE7v7mAFAAAAAYACVAUAAAABwUZUBQHZiJ0ZajwFAxU7sVImLAUAUO7Hzlo8BQJ7Yid0XkAFAYid2InSSAUCKndjJ/IoBQCd2YicXjQFAxU7sNFaJAUDsxE68W4cBQDuxE5vHbgFA",
          "dtype": "f8"
         },
         "yaxis": "y4"
        },
        {
         "hovertemplate": "variable=train_epoch_accuracy<br>epoch=%{x}<br>value=%{y}<extra></extra>",
         "legendgroup": "train_epoch_accuracy",
         "line": {
          "color": "#EF553B",
          "dash": "solid"
         },
         "marker": {
          "symbol": "circle"
         },
         "mode": "lines",
         "name": "train_epoch_accuracy",
         "orientation": "v",
         "showlegend": true,
         "type": "scatter",
         "x": {
          "bdata": "AAECAwQFBgcICQoLDA0ODxAREhMUFRYXGBkaGxwdHh8gISIjJCUmJygpKissLS4vMDEyMzQ1Njc4OTo7",
          "dtype": "i1"
         },
         "xaxis": "x3",
         "y": {
          "bdata": "t+GEt+HEzz/66wr66yrcP2YlGmYl+t8/pL1SpL3C4D+24rK14rLhP3JNBHJN9OE/5FRd5FSd4j+uiUCuiRDjP0fZ/UbZ3eM/9wTm9gQW5D/BOcnAObnkP7/GTb7GTeQ/RWaCRGbi5D/vIEvuIDvlP/AInu8IbuU/dqjSdaiS5T9OSh1NSo3lP8IhHMIhHOY/GvJ7GfJr5j/7X7T6X6TmP/dhEPdhUOY/dqjSdahy5j/HBxPHB5PmP0Fo3kBoruY/2c9I2M8o5z/hs+Pgs2PnP3uOyXqOWec/j8l6jsl65z9GTtVFTmXnPwUsogQskuc/ogQsogTM5z/hs+Pgs9PnP2ppaWlpqec/X299Xm+95z8RDuEQDuHnP/bW5/XWR+g/5CZf4yZv6D/0Y2zzY3zoP9JeKdJeaeg/pRp9pBqd6D9QGsNPGsPoP/XulPTuxOg/N/kaN/nK6D9uxDdtxMfoPwoSmQkS+eg/TL/0S7+06D+/I3i+IwjpPwudwQqdAek/H9hyHtgS6T9xHwZxHxbpP58GiJ4GKOk/1rn31bk36T8qL4kpLynpP4RyZINyJOk/zO0JzO0Z6T/URnzTRjzpP2bI72XIL+k/4ps24ptG6T82bvI1blLpPxlnUxhns+k/",
          "dtype": "f8"
         },
         "yaxis": "y3"
        },
        {
         "hovertemplate": "variable=validation_loss<br>epoch=%{x}<br>value=%{y}<extra></extra>",
         "legendgroup": "validation_loss",
         "line": {
          "color": "#00cc96",
          "dash": "solid"
         },
         "marker": {
          "symbol": "circle"
         },
         "mode": "lines",
         "name": "validation_loss",
         "orientation": "v",
         "showlegend": true,
         "type": "scatter",
         "x": {
          "bdata": "AAECAwQFBgcICQoLDA0ODxAREhMUFRYXGBkaGxwdHh8gISIjJCUmJygpKissLS4vMDEyMzQ1Njc4OTo7",
          "dtype": "i1"
         },
         "xaxis": "x2",
         "y": {
          "bdata": "btu2jaQJBUDbtm1bLGEEQCVJksQmTwRASZIkSQlBBEAlSZKEZxsEQG7bti3OCwRAkiRJ8uwWBEDbtm0bncIDQLdt21Z/yANAkiRJEoS+A0Bu27ZNJqUDQJIkSVJargNAkiRJ8mkhBEDbtm17tM4DQAAAAGBykgNA27Zt2xCqA0Bu27YtaaEDQEmSJKljggNAkiRJsr6KA0AAAABgHKEDQG7btg3MwANAJUmSxHWsA0Bu27atS5ADQG7bti2pdgNAkiRJMuWoA0AAAACgQpgDQEmSJMmJbQNAJUmSZGWOA0BJkiSJULsDQAAAAMD5hgNAJUmSBBh7A0AlSZJESJ4DQCVJkmQ8qQNAAAAAoAx/A0C3bdvWP5oDQAAAAGDjlwNAJUmSpMWNA0Dbtm27Z5ADQNu2bduMcQNASZIkiX5hA0C3bdt2QGsDQEmSJMkcVANAkiRJ8gxcA0AlSZLki3sDQJIkSXIvpANAkiRJMgV8A0C3bdtWlVwDQAAAAGAMVANAbtu27SyMA0Bu27YNM14DQLdt2xZcSwNAt23bNgRsA0AlSZKEq2wDQCVJksS7UgNA27Zt23NRA0C3bdtWkGgDQAAAACCHRQNAt23btgdPA0BJkiQJjFoDQLdt2zY7OwNA",
          "dtype": "f8"
         },
         "yaxis": "y2"
        },
        {
         "hovertemplate": "variable=validation_accuracy<br>epoch=%{x}<br>value=%{y}<extra></extra>",
         "legendgroup": "validation_accuracy",
         "line": {
          "color": "#ab63fa",
          "dash": "solid"
         },
         "marker": {
          "symbol": "circle"
         },
         "mode": "lines",
         "name": "validation_accuracy",
         "orientation": "v",
         "showlegend": true,
         "type": "scatter",
         "x": {
          "bdata": "AAECAwQFBgcICQoLDA0ODxAREhMUFRYXGBkaGxwdHh8gISIjJCUmJygpKissLS4vMDEyMzQ1Njc4OTo7",
          "dtype": "i1"
         },
         "xaxis": "x",
         "y": {
          "bdata": "t23btm3b1j9u27Zt2/bbP3qe53meZ9w/t23btm2b3D8AAAAAAEDeP+h5nud5Xt4/n+d5nuf53T+SJEmSJGngPwAAAAAAQOA/YhiGYRhm4D8MwzAMw9DgP7dt27Ztm+A/Pc/zPM+z3T96nud5ngfgP8MwDMMwLOE/YhiGYRim4D+GYRiGYfjgPzEMwzAMY+E/nud5nucZ4T8xDMMwDOPgPwAAAAAAYOA/nud5nueZ4D+rqqqqqirhP4ZhGIZhmOE/YhiGYRjG4D+rqqqqqurgP5IkSZIkqeE/AAAAAAAg4T+e53me53ngP/Q8z/M8T+E/JUmSJEly4T+SJEmSJOngP8/zPM/zvOA/wzAMwzBM4T+GYRiGYfjgPyVJkiRJEuE/ep7neZ4H4T8lSZIkSVLhP/Q8z/M8j+E/GYZhGIbB4T+SJEmSJKnhP8MwDMMwDOI/DMMwDMPQ4T89z/M8z1PhP5IkSZIkqeA/YhiGYRiG4T9iGIZhGObhPzEMwzAMI+I/DMMwDMMw4T9iGIZhGObhPz3P8zzPM+I/MQzDMAzD4T+SJEmSJKnhP8MwDMMwDOI/9DzP8zwv4j+3bdu2bbvhP+d5nud5PuI/ep7neZ4n4j8xDMMwDOPhP0mSJEmSZOI/",
          "dtype": "f8"
         },
         "yaxis": "y"
        }
       ],
       "layout": {
        "annotations": [
         {
          "font": {},
          "showarrow": false,
          "text": "variable=validation_accuracy",
          "textangle": 90,
          "x": 0.98,
          "xanchor": "left",
          "xref": "paper",
          "y": 0.11375,
          "yanchor": "middle",
          "yref": "paper"
         },
         {
          "font": {},
          "showarrow": false,
          "text": "variable=validation_loss",
          "textangle": 90,
          "x": 0.98,
          "xanchor": "left",
          "xref": "paper",
          "y": 0.37124999999999997,
          "yanchor": "middle",
          "yref": "paper"
         },
         {
          "font": {},
          "showarrow": false,
          "text": "variable=train_epoch_accuracy",
          "textangle": 90,
          "x": 0.98,
          "xanchor": "left",
          "xref": "paper",
          "y": 0.62875,
          "yanchor": "middle",
          "yref": "paper"
         },
         {
          "font": {},
          "showarrow": false,
          "text": "variable=train_epoch_loss",
          "textangle": 90,
          "x": 0.98,
          "xanchor": "left",
          "xref": "paper",
          "y": 0.88625,
          "yanchor": "middle",
          "yref": "paper"
         }
        ],
        "legend": {
         "title": {
          "text": "variable"
         },
         "tracegroupgap": 0
        },
        "template": {
         "data": {
          "bar": [
           {
            "error_x": {
             "color": "#2a3f5f"
            },
            "error_y": {
             "color": "#2a3f5f"
            },
            "marker": {
             "line": {
              "color": "#E5ECF6",
              "width": 0.5
             },
             "pattern": {
              "fillmode": "overlay",
              "size": 10,
              "solidity": 0.2
             }
            },
            "type": "bar"
           }
          ],
          "barpolar": [
           {
            "marker": {
             "line": {
              "color": "#E5ECF6",
              "width": 0.5
             },
             "pattern": {
              "fillmode": "overlay",
              "size": 10,
              "solidity": 0.2
             }
            },
            "type": "barpolar"
           }
          ],
          "carpet": [
           {
            "aaxis": {
             "endlinecolor": "#2a3f5f",
             "gridcolor": "white",
             "linecolor": "white",
             "minorgridcolor": "white",
             "startlinecolor": "#2a3f5f"
            },
            "baxis": {
             "endlinecolor": "#2a3f5f",
             "gridcolor": "white",
             "linecolor": "white",
             "minorgridcolor": "white",
             "startlinecolor": "#2a3f5f"
            },
            "type": "carpet"
           }
          ],
          "choropleth": [
           {
            "colorbar": {
             "outlinewidth": 0,
             "ticks": ""
            },
            "type": "choropleth"
           }
          ],
          "contour": [
           {
            "colorbar": {
             "outlinewidth": 0,
             "ticks": ""
            },
            "colorscale": [
             [
              0,
              "#0d0887"
             ],
             [
              0.1111111111111111,
              "#46039f"
             ],
             [
              0.2222222222222222,
              "#7201a8"
             ],
             [
              0.3333333333333333,
              "#9c179e"
             ],
             [
              0.4444444444444444,
              "#bd3786"
             ],
             [
              0.5555555555555556,
              "#d8576b"
             ],
             [
              0.6666666666666666,
              "#ed7953"
             ],
             [
              0.7777777777777778,
              "#fb9f3a"
             ],
             [
              0.8888888888888888,
              "#fdca26"
             ],
             [
              1,
              "#f0f921"
             ]
            ],
            "type": "contour"
           }
          ],
          "contourcarpet": [
           {
            "colorbar": {
             "outlinewidth": 0,
             "ticks": ""
            },
            "type": "contourcarpet"
           }
          ],
          "heatmap": [
           {
            "colorbar": {
             "outlinewidth": 0,
             "ticks": ""
            },
            "colorscale": [
             [
              0,
              "#0d0887"
             ],
             [
              0.1111111111111111,
              "#46039f"
             ],
             [
              0.2222222222222222,
              "#7201a8"
             ],
             [
              0.3333333333333333,
              "#9c179e"
             ],
             [
              0.4444444444444444,
              "#bd3786"
             ],
             [
              0.5555555555555556,
              "#d8576b"
             ],
             [
              0.6666666666666666,
              "#ed7953"
             ],
             [
              0.7777777777777778,
              "#fb9f3a"
             ],
             [
              0.8888888888888888,
              "#fdca26"
             ],
             [
              1,
              "#f0f921"
             ]
            ],
            "type": "heatmap"
           }
          ],
          "histogram": [
           {
            "marker": {
             "pattern": {
              "fillmode": "overlay",
              "size": 10,
              "solidity": 0.2
             }
            },
            "type": "histogram"
           }
          ],
          "histogram2d": [
           {
            "colorbar": {
             "outlinewidth": 0,
             "ticks": ""
            },
            "colorscale": [
             [
              0,
              "#0d0887"
             ],
             [
              0.1111111111111111,
              "#46039f"
             ],
             [
              0.2222222222222222,
              "#7201a8"
             ],
             [
              0.3333333333333333,
              "#9c179e"
             ],
             [
              0.4444444444444444,
              "#bd3786"
             ],
             [
              0.5555555555555556,
              "#d8576b"
             ],
             [
              0.6666666666666666,
              "#ed7953"
             ],
             [
              0.7777777777777778,
              "#fb9f3a"
             ],
             [
              0.8888888888888888,
              "#fdca26"
             ],
             [
              1,
              "#f0f921"
             ]
            ],
            "type": "histogram2d"
           }
          ],
          "histogram2dcontour": [
           {
            "colorbar": {
             "outlinewidth": 0,
             "ticks": ""
            },
            "colorscale": [
             [
              0,
              "#0d0887"
             ],
             [
              0.1111111111111111,
              "#46039f"
             ],
             [
              0.2222222222222222,
              "#7201a8"
             ],
             [
              0.3333333333333333,
              "#9c179e"
             ],
             [
              0.4444444444444444,
              "#bd3786"
             ],
             [
              0.5555555555555556,
              "#d8576b"
             ],
             [
              0.6666666666666666,
              "#ed7953"
             ],
             [
              0.7777777777777778,
              "#fb9f3a"
             ],
             [
              0.8888888888888888,
              "#fdca26"
             ],
             [
              1,
              "#f0f921"
             ]
            ],
            "type": "histogram2dcontour"
           }
          ],
          "mesh3d": [
           {
            "colorbar": {
             "outlinewidth": 0,
             "ticks": ""
            },
            "type": "mesh3d"
           }
          ],
          "parcoords": [
           {
            "line": {
             "colorbar": {
              "outlinewidth": 0,
              "ticks": ""
             }
            },
            "type": "parcoords"
           }
          ],
          "pie": [
           {
            "automargin": true,
            "type": "pie"
           }
          ],
          "scatter": [
           {
            "fillpattern": {
             "fillmode": "overlay",
             "size": 10,
             "solidity": 0.2
            },
            "type": "scatter"
           }
          ],
          "scatter3d": [
           {
            "line": {
             "colorbar": {
              "outlinewidth": 0,
              "ticks": ""
             }
            },
            "marker": {
             "colorbar": {
              "outlinewidth": 0,
              "ticks": ""
             }
            },
            "type": "scatter3d"
           }
          ],
          "scattercarpet": [
           {
            "marker": {
             "colorbar": {
              "outlinewidth": 0,
              "ticks": ""
             }
            },
            "type": "scattercarpet"
           }
          ],
          "scattergeo": [
           {
            "marker": {
             "colorbar": {
              "outlinewidth": 0,
              "ticks": ""
             }
            },
            "type": "scattergeo"
           }
          ],
          "scattergl": [
           {
            "marker": {
             "colorbar": {
              "outlinewidth": 0,
              "ticks": ""
             }
            },
            "type": "scattergl"
           }
          ],
          "scattermap": [
           {
            "marker": {
             "colorbar": {
              "outlinewidth": 0,
              "ticks": ""
             }
            },
            "type": "scattermap"
           }
          ],
          "scattermapbox": [
           {
            "marker": {
             "colorbar": {
              "outlinewidth": 0,
              "ticks": ""
             }
            },
            "type": "scattermapbox"
           }
          ],
          "scatterpolar": [
           {
            "marker": {
             "colorbar": {
              "outlinewidth": 0,
              "ticks": ""
             }
            },
            "type": "scatterpolar"
           }
          ],
          "scatterpolargl": [
           {
            "marker": {
             "colorbar": {
              "outlinewidth": 0,
              "ticks": ""
             }
            },
            "type": "scatterpolargl"
           }
          ],
          "scatterternary": [
           {
            "marker": {
             "colorbar": {
              "outlinewidth": 0,
              "ticks": ""
             }
            },
            "type": "scatterternary"
           }
          ],
          "surface": [
           {
            "colorbar": {
             "outlinewidth": 0,
             "ticks": ""
            },
            "colorscale": [
             [
              0,
              "#0d0887"
             ],
             [
              0.1111111111111111,
              "#46039f"
             ],
             [
              0.2222222222222222,
              "#7201a8"
             ],
             [
              0.3333333333333333,
              "#9c179e"
             ],
             [
              0.4444444444444444,
              "#bd3786"
             ],
             [
              0.5555555555555556,
              "#d8576b"
             ],
             [
              0.6666666666666666,
              "#ed7953"
             ],
             [
              0.7777777777777778,
              "#fb9f3a"
             ],
             [
              0.8888888888888888,
              "#fdca26"
             ],
             [
              1,
              "#f0f921"
             ]
            ],
            "type": "surface"
           }
          ],
          "table": [
           {
            "cells": {
             "fill": {
              "color": "#EBF0F8"
             },
             "line": {
              "color": "white"
             }
            },
            "header": {
             "fill": {
              "color": "#C8D4E3"
             },
             "line": {
              "color": "white"
             }
            },
            "type": "table"
           }
          ]
         },
         "layout": {
          "annotationdefaults": {
           "arrowcolor": "#2a3f5f",
           "arrowhead": 0,
           "arrowwidth": 1
          },
          "autotypenumbers": "strict",
          "coloraxis": {
           "colorbar": {
            "outlinewidth": 0,
            "ticks": ""
           }
          },
          "colorscale": {
           "diverging": [
            [
             0,
             "#8e0152"
            ],
            [
             0.1,
             "#c51b7d"
            ],
            [
             0.2,
             "#de77ae"
            ],
            [
             0.3,
             "#f1b6da"
            ],
            [
             0.4,
             "#fde0ef"
            ],
            [
             0.5,
             "#f7f7f7"
            ],
            [
             0.6,
             "#e6f5d0"
            ],
            [
             0.7,
             "#b8e186"
            ],
            [
             0.8,
             "#7fbc41"
            ],
            [
             0.9,
             "#4d9221"
            ],
            [
             1,
             "#276419"
            ]
           ],
           "sequential": [
            [
             0,
             "#0d0887"
            ],
            [
             0.1111111111111111,
             "#46039f"
            ],
            [
             0.2222222222222222,
             "#7201a8"
            ],
            [
             0.3333333333333333,
             "#9c179e"
            ],
            [
             0.4444444444444444,
             "#bd3786"
            ],
            [
             0.5555555555555556,
             "#d8576b"
            ],
            [
             0.6666666666666666,
             "#ed7953"
            ],
            [
             0.7777777777777778,
             "#fb9f3a"
            ],
            [
             0.8888888888888888,
             "#fdca26"
            ],
            [
             1,
             "#f0f921"
            ]
           ],
           "sequentialminus": [
            [
             0,
             "#0d0887"
            ],
            [
             0.1111111111111111,
             "#46039f"
            ],
            [
             0.2222222222222222,
             "#7201a8"
            ],
            [
             0.3333333333333333,
             "#9c179e"
            ],
            [
             0.4444444444444444,
             "#bd3786"
            ],
            [
             0.5555555555555556,
             "#d8576b"
            ],
            [
             0.6666666666666666,
             "#ed7953"
            ],
            [
             0.7777777777777778,
             "#fb9f3a"
            ],
            [
             0.8888888888888888,
             "#fdca26"
            ],
            [
             1,
             "#f0f921"
            ]
           ]
          },
          "colorway": [
           "#636efa",
           "#EF553B",
           "#00cc96",
           "#ab63fa",
           "#FFA15A",
           "#19d3f3",
           "#FF6692",
           "#B6E880",
           "#FF97FF",
           "#FECB52"
          ],
          "font": {
           "color": "#2a3f5f"
          },
          "geo": {
           "bgcolor": "white",
           "lakecolor": "white",
           "landcolor": "#E5ECF6",
           "showlakes": true,
           "showland": true,
           "subunitcolor": "white"
          },
          "hoverlabel": {
           "align": "left"
          },
          "hovermode": "closest",
          "mapbox": {
           "style": "light"
          },
          "paper_bgcolor": "white",
          "plot_bgcolor": "#E5ECF6",
          "polar": {
           "angularaxis": {
            "gridcolor": "white",
            "linecolor": "white",
            "ticks": ""
           },
           "bgcolor": "#E5ECF6",
           "radialaxis": {
            "gridcolor": "white",
            "linecolor": "white",
            "ticks": ""
           }
          },
          "scene": {
           "xaxis": {
            "backgroundcolor": "#E5ECF6",
            "gridcolor": "white",
            "gridwidth": 2,
            "linecolor": "white",
            "showbackground": true,
            "ticks": "",
            "zerolinecolor": "white"
           },
           "yaxis": {
            "backgroundcolor": "#E5ECF6",
            "gridcolor": "white",
            "gridwidth": 2,
            "linecolor": "white",
            "showbackground": true,
            "ticks": "",
            "zerolinecolor": "white"
           },
           "zaxis": {
            "backgroundcolor": "#E5ECF6",
            "gridcolor": "white",
            "gridwidth": 2,
            "linecolor": "white",
            "showbackground": true,
            "ticks": "",
            "zerolinecolor": "white"
           }
          },
          "shapedefaults": {
           "line": {
            "color": "#2a3f5f"
           }
          },
          "ternary": {
           "aaxis": {
            "gridcolor": "white",
            "linecolor": "white",
            "ticks": ""
           },
           "baxis": {
            "gridcolor": "white",
            "linecolor": "white",
            "ticks": ""
           },
           "bgcolor": "#E5ECF6",
           "caxis": {
            "gridcolor": "white",
            "linecolor": "white",
            "ticks": ""
           }
          },
          "title": {
           "x": 0.05
          },
          "xaxis": {
           "automargin": true,
           "gridcolor": "white",
           "linecolor": "white",
           "ticks": "",
           "title": {
            "standoff": 15
           },
           "zerolinecolor": "white",
           "zerolinewidth": 2
          },
          "yaxis": {
           "automargin": true,
           "gridcolor": "white",
           "linecolor": "white",
           "ticks": "",
           "title": {
            "standoff": 15
           },
           "zerolinecolor": "white",
           "zerolinewidth": 2
          }
         }
        },
        "title": {
         "text": "epoch metrics"
        },
        "xaxis": {
         "anchor": "y",
         "domain": [
          0,
          0.98
         ],
         "title": {
          "text": "epoch"
         }
        },
        "xaxis2": {
         "anchor": "y2",
         "domain": [
          0,
          0.98
         ],
         "matches": "x",
         "showticklabels": false
        },
        "xaxis3": {
         "anchor": "y3",
         "domain": [
          0,
          0.98
         ],
         "matches": "x",
         "showticklabels": false
        },
        "xaxis4": {
         "anchor": "y4",
         "domain": [
          0,
          0.98
         ],
         "matches": "x",
         "showticklabels": false
        },
        "yaxis": {
         "anchor": "x",
         "domain": [
          0,
          0.2275
         ],
         "title": {
          "text": "value"
         }
        },
        "yaxis2": {
         "anchor": "x2",
         "domain": [
          0.2575,
          0.485
         ],
         "title": {
          "text": "value"
         }
        },
        "yaxis3": {
         "anchor": "x3",
         "domain": [
          0.515,
          0.7425
         ],
         "title": {
          "text": "value"
         }
        },
        "yaxis4": {
         "anchor": "x4",
         "domain": [
          0.7725,
          1
         ],
         "title": {
          "text": "value"
         }
        }
       }
      }
     },
     "metadata": {},
     "output_type": "display_data"
    },
    {
     "name": "stdout",
     "output_type": "stream",
     "text": [
      "=========================\n",
      "training: 5\n"
     ]
    },
    {
     "data": {
      "application/vnd.jupyter.widget-view+json": {
       "model_id": "25ea5993733649418357b7d98441ea88",
       "version_major": 2,
       "version_minor": 0
      },
      "text/plain": [
       "Output()"
      ]
     },
     "metadata": {},
     "output_type": "display_data"
    },
    {
     "data": {
      "text/html": [
       "<pre style=\"white-space:pre;overflow-x:auto;line-height:normal;font-family:Menlo,'DejaVu Sans Mono',consolas,'Courier New',monospace\"></pre>\n"
      ],
      "text/plain": []
     },
     "metadata": {},
     "output_type": "display_data"
    },
    {
     "data": {
      "application/vnd.plotly.v1+json": {
       "config": {
        "plotlyServerURL": "https://plot.ly"
       },
       "data": [
        {
         "hovertemplate": "variable=train_epoch_loss<br>epoch=%{x}<br>value=%{y}<extra></extra>",
         "legendgroup": "train_epoch_loss",
         "line": {
          "color": "#636efa",
          "dash": "solid"
         },
         "marker": {
          "symbol": "circle"
         },
         "mode": "lines",
         "name": "train_epoch_loss",
         "orientation": "v",
         "showlegend": true,
         "type": "scatter",
         "x": {
          "bdata": "AAECAwQFBgcICQoLDA0ODxAREhMUFRYXGBkaGxwdHh8gISIjJCUmJygpKissLS4vMDEyMzQ1Njc4OTo7",
          "dtype": "i1"
         },
         "xaxis": "x4",
         "y": {
          "bdata": "sRM7McZHBkCKndhZHJMFQLETO2E/UQVAFDux06voBECKndiZS9EEQNmJnegTrQRAFDuxM7GZBEAAAAAgQmgEQIqd2InGDARAntiJzdjeA0BP7MSOE7MDQAAAAEA9tANAdmInFhGXA0DZiZ1IE4oDQLETO0EGKQNAsRM7QUYlA0DZiZ1YzQ0DQGIndqLE8QJAxU7slNbaAkCxEzuR6MUCQJ7YiR1LuwJA2Ymd2OCpAkCKndj5s60CQOzETuzVkAJAT+zEHpiOAkCKndj5LIYCQGIndiJKcwJAT+zEjm1kAkAndmL3ml0CQJ7Yie2KUwJA7MRObG1AAkBP7MQuZj0CQJ7Yic27EwJAT+zEfmfpAUCKndjJMckBQCd2YhcOwQFA7MRO/H6kAUAndmLnX44BQJ7YiR0ghwFAO7ET23t/AUDsxE5skXQBQE/sxM7jaQFAYid2orVkAUDFTuw0Vl0BQGIndiKyVgFAAAAAgGZTAUBiJ3bSIEsBQIqd2NlfRwFAdmInJlJFAUAndmKXnEMBQIqd2NnESAFAxU7shMU/AUAUO7Ejaj4BQBQ7sSPZNwFAYid2MvM2AUAndmJHtDIBQGIndgIvNgFA7MRObEs4AUBiJ3ZS/DsBQMVO7NTfOgFA",
          "dtype": "f8"
         },
         "yaxis": "y4"
        },
        {
         "hovertemplate": "variable=train_epoch_accuracy<br>epoch=%{x}<br>value=%{y}<extra></extra>",
         "legendgroup": "train_epoch_accuracy",
         "line": {
          "color": "#EF553B",
          "dash": "solid"
         },
         "marker": {
          "symbol": "circle"
         },
         "mode": "lines",
         "name": "train_epoch_accuracy",
         "orientation": "v",
         "showlegend": true,
         "type": "scatter",
         "x": {
          "bdata": "AAECAwQFBgcICQoLDA0ODxAREhMUFRYXGBkaGxwdHh8gISIjJCUmJygpKissLS4vMDEyMzQ1Njc4OTo7",
          "dtype": "i1"
         },
         "xaxis": "x3",
         "y": {
          "bdata": "rwAql1BcyD+cC8oJWgHSP9b9+ssAEdQ/tWydURtw1z/x3JMF1wfYP0DJWFTDTNk/YdNHwW772T+lH5oGlorbP1yfSHJ0Wd4/z4xTEufi3z8sMdCDqqbgPyH8EVI3muA/kfLFDc/94D+uTyQ5uizhPxRJji6v1eI/PZqNBBjV4j8a0bseYkLjP5Ez45TEqeM/Rtj0UbD74z95Z1t1sUHkPy8oJ2iFfOQ/dfI+n8HD5D9gm9NVnrnkPwbXJ5IcLeU/y+T2z3Ut5T8ffkxgIlLlP3/viGVknuU/iS3wsvzk5T+0NCnmSu7lP5FrVwCVG+Y/wAwQW+Bl5j9rtNdRKX3mP/+r0V5HJec/+v5AHYfV5z+eX/iqEkzoP3mfz+CBY+g/gCf90DTg6D8vYJvTVS7pP5GHETZ9VOk/twYdeRhx6T9J6wVsc5rpP/HckwXXx+k/zxPCHyHl6T+JZWQezfbpP9zi/3iREuo/eeDsZ3cf6j+VPUuTYj7qPwx7D7i3Uuo/kYcRNn1U6j8g0noB21zqP5CsdIeKR+o/u9gQDOZj6j8BYgu8LG/qPxeUE7RChuo/Pwp227iI6j+k5yWbxZjqP//Hi5Qvjuo/sbZj9DWG6j9A5RKKq3XqP8qC6xNJfuo/",
          "dtype": "f8"
         },
         "yaxis": "y3"
        },
        {
         "hovertemplate": "variable=validation_loss<br>epoch=%{x}<br>value=%{y}<extra></extra>",
         "legendgroup": "validation_loss",
         "line": {
          "color": "#00cc96",
          "dash": "solid"
         },
         "marker": {
          "symbol": "circle"
         },
         "mode": "lines",
         "name": "validation_loss",
         "orientation": "v",
         "showlegend": true,
         "type": "scatter",
         "x": {
          "bdata": "AAECAwQFBgcICQoLDA0ODxAREhMUFRYXGBkaGxwdHh8gISIjJCUmJygpKissLS4vMDEyMzQ1Njc4OTo7",
          "dtype": "i1"
         },
         "xaxis": "x2",
         "y": {
          "bdata": "SZIkibLcBUC3bdt2O54FQCVJkqTFhwVAbtu27YQcBUBJkiQJFkkFQNu2bdv//wRASZIk6W/uBEBJkiSJfNcEQJIkSRJapwRAJUmSxA6gBEBu27aNEj0EQEmSJGk0hgRAkiRJcpxVBEDbtm07ShMEQJIkSRJlMwRAt23bNixABEDbtm0b+EoEQG7bto29CARA27ZtOyoKBEBJkiQpoAsEQLdt25av+ANAAAAAIAEnBECSJEkyZgMEQG7bto1CHgRASZIkaST3A0AlSZJkd/UDQCVJkkR9EQRAAAAAwMLcA0Dbtm0b1+wDQJIkSTI30QNASZIkSejgA0AAAADgWcoDQLdt2/YDiQNAkiRJEo6VA0AlSZJECXsDQG7btg0mcwNASZIkydZ3A0Dbtm07WWkDQJIkSdKHcQNAJUmSBB5/A0AAAADAq6cDQJIkSfJPbwNA27ZtuyRcA0CSJEnShpADQG7btg1+VQNAJUmSpFxZA0BJkiSpBUUDQCVJkuR9aQNAJUmSJNBfA0C3bdv2aWYDQJIkSXJXaQNAJUmSREJ6A0AlSZJkD2wDQAAAAKAsVQNAkiRJcthlA0AlSZIEB3QDQG7btu22SQNASZIkiUFVA0Bu27YNjl4DQLdt2xYSXANA",
          "dtype": "f8"
         },
         "yaxis": "y2"
        },
        {
         "hovertemplate": "variable=validation_accuracy<br>epoch=%{x}<br>value=%{y}<extra></extra>",
         "legendgroup": "validation_accuracy",
         "line": {
          "color": "#ab63fa",
          "dash": "solid"
         },
         "marker": {
          "symbol": "circle"
         },
         "mode": "lines",
         "name": "validation_accuracy",
         "orientation": "v",
         "showlegend": true,
         "type": "scatter",
         "x": {
          "bdata": "AAECAwQFBgcICQoLDA0ODxAREhMUFRYXGBkaGxwdHh8gISIjJCUmJygpKissLS4vMDEyMzQ1Njc4OTo7",
          "dtype": "i1"
         },
         "xaxis": "x",
         "y": {
          "bdata": "s6MWIX9Nzz/+mh21CLnRP/lrdtQi5NI/9qGxPjQW1j9rdtQi5G/UP8hfs6MWodY/yF+zoxYh1z/RWB8a60PYPx8a60NjPdk/wzAMwzDM2T9Si5C/ZgfdPxHy1+yoxdo/8tfsqEUI3D8XIX/NjhrePxHy1+yoBd0/f82OWoS83D9orA+N9WHcPxHy1+yohd4/d9Qi5K8Z3j931CLkr1neP6MWIX/NDt8/CflrdtSi3T9DY31orI/eP2isD4314d0/YLOjFiE/3z/Wh8b60BjfPygTV7o3IN4/zo5ahPz13z/AZkctQn7fPx61CPlrNuA/jfWhsT603z/iSvcGlCngP+JK9waUKeE/btu2bdv24D8VvJyCl3PhP5m40r0BpeE/xZXuDShT4T/wcgpeTsHhP/ByCl5OoeE/oExc6d6A4T/Fle4NKLPgPw4oE1e6d+E/6d6AMnEF4j9JkiRJkiThP1AmrnRvIOI/ewPKxJUO4j+n4OUUvFziP2dHLUL+muE/8HIKXk4B4j/btm3btq3hPyVJkiRJsuE/FyF/zY564T++AWXiSrfhP6fg5RS8POI/kiRJkiSp4T8lSZIkSZLhPxW8nIKXM+I/B5SJK93b4T85BS+n4AXiP8speDkF7+E/",
          "dtype": "f8"
         },
         "yaxis": "y"
        }
       ],
       "layout": {
        "annotations": [
         {
          "font": {},
          "showarrow": false,
          "text": "variable=validation_accuracy",
          "textangle": 90,
          "x": 0.98,
          "xanchor": "left",
          "xref": "paper",
          "y": 0.11375,
          "yanchor": "middle",
          "yref": "paper"
         },
         {
          "font": {},
          "showarrow": false,
          "text": "variable=validation_loss",
          "textangle": 90,
          "x": 0.98,
          "xanchor": "left",
          "xref": "paper",
          "y": 0.37124999999999997,
          "yanchor": "middle",
          "yref": "paper"
         },
         {
          "font": {},
          "showarrow": false,
          "text": "variable=train_epoch_accuracy",
          "textangle": 90,
          "x": 0.98,
          "xanchor": "left",
          "xref": "paper",
          "y": 0.62875,
          "yanchor": "middle",
          "yref": "paper"
         },
         {
          "font": {},
          "showarrow": false,
          "text": "variable=train_epoch_loss",
          "textangle": 90,
          "x": 0.98,
          "xanchor": "left",
          "xref": "paper",
          "y": 0.88625,
          "yanchor": "middle",
          "yref": "paper"
         }
        ],
        "legend": {
         "title": {
          "text": "variable"
         },
         "tracegroupgap": 0
        },
        "template": {
         "data": {
          "bar": [
           {
            "error_x": {
             "color": "#2a3f5f"
            },
            "error_y": {
             "color": "#2a3f5f"
            },
            "marker": {
             "line": {
              "color": "#E5ECF6",
              "width": 0.5
             },
             "pattern": {
              "fillmode": "overlay",
              "size": 10,
              "solidity": 0.2
             }
            },
            "type": "bar"
           }
          ],
          "barpolar": [
           {
            "marker": {
             "line": {
              "color": "#E5ECF6",
              "width": 0.5
             },
             "pattern": {
              "fillmode": "overlay",
              "size": 10,
              "solidity": 0.2
             }
            },
            "type": "barpolar"
           }
          ],
          "carpet": [
           {
            "aaxis": {
             "endlinecolor": "#2a3f5f",
             "gridcolor": "white",
             "linecolor": "white",
             "minorgridcolor": "white",
             "startlinecolor": "#2a3f5f"
            },
            "baxis": {
             "endlinecolor": "#2a3f5f",
             "gridcolor": "white",
             "linecolor": "white",
             "minorgridcolor": "white",
             "startlinecolor": "#2a3f5f"
            },
            "type": "carpet"
           }
          ],
          "choropleth": [
           {
            "colorbar": {
             "outlinewidth": 0,
             "ticks": ""
            },
            "type": "choropleth"
           }
          ],
          "contour": [
           {
            "colorbar": {
             "outlinewidth": 0,
             "ticks": ""
            },
            "colorscale": [
             [
              0,
              "#0d0887"
             ],
             [
              0.1111111111111111,
              "#46039f"
             ],
             [
              0.2222222222222222,
              "#7201a8"
             ],
             [
              0.3333333333333333,
              "#9c179e"
             ],
             [
              0.4444444444444444,
              "#bd3786"
             ],
             [
              0.5555555555555556,
              "#d8576b"
             ],
             [
              0.6666666666666666,
              "#ed7953"
             ],
             [
              0.7777777777777778,
              "#fb9f3a"
             ],
             [
              0.8888888888888888,
              "#fdca26"
             ],
             [
              1,
              "#f0f921"
             ]
            ],
            "type": "contour"
           }
          ],
          "contourcarpet": [
           {
            "colorbar": {
             "outlinewidth": 0,
             "ticks": ""
            },
            "type": "contourcarpet"
           }
          ],
          "heatmap": [
           {
            "colorbar": {
             "outlinewidth": 0,
             "ticks": ""
            },
            "colorscale": [
             [
              0,
              "#0d0887"
             ],
             [
              0.1111111111111111,
              "#46039f"
             ],
             [
              0.2222222222222222,
              "#7201a8"
             ],
             [
              0.3333333333333333,
              "#9c179e"
             ],
             [
              0.4444444444444444,
              "#bd3786"
             ],
             [
              0.5555555555555556,
              "#d8576b"
             ],
             [
              0.6666666666666666,
              "#ed7953"
             ],
             [
              0.7777777777777778,
              "#fb9f3a"
             ],
             [
              0.8888888888888888,
              "#fdca26"
             ],
             [
              1,
              "#f0f921"
             ]
            ],
            "type": "heatmap"
           }
          ],
          "histogram": [
           {
            "marker": {
             "pattern": {
              "fillmode": "overlay",
              "size": 10,
              "solidity": 0.2
             }
            },
            "type": "histogram"
           }
          ],
          "histogram2d": [
           {
            "colorbar": {
             "outlinewidth": 0,
             "ticks": ""
            },
            "colorscale": [
             [
              0,
              "#0d0887"
             ],
             [
              0.1111111111111111,
              "#46039f"
             ],
             [
              0.2222222222222222,
              "#7201a8"
             ],
             [
              0.3333333333333333,
              "#9c179e"
             ],
             [
              0.4444444444444444,
              "#bd3786"
             ],
             [
              0.5555555555555556,
              "#d8576b"
             ],
             [
              0.6666666666666666,
              "#ed7953"
             ],
             [
              0.7777777777777778,
              "#fb9f3a"
             ],
             [
              0.8888888888888888,
              "#fdca26"
             ],
             [
              1,
              "#f0f921"
             ]
            ],
            "type": "histogram2d"
           }
          ],
          "histogram2dcontour": [
           {
            "colorbar": {
             "outlinewidth": 0,
             "ticks": ""
            },
            "colorscale": [
             [
              0,
              "#0d0887"
             ],
             [
              0.1111111111111111,
              "#46039f"
             ],
             [
              0.2222222222222222,
              "#7201a8"
             ],
             [
              0.3333333333333333,
              "#9c179e"
             ],
             [
              0.4444444444444444,
              "#bd3786"
             ],
             [
              0.5555555555555556,
              "#d8576b"
             ],
             [
              0.6666666666666666,
              "#ed7953"
             ],
             [
              0.7777777777777778,
              "#fb9f3a"
             ],
             [
              0.8888888888888888,
              "#fdca26"
             ],
             [
              1,
              "#f0f921"
             ]
            ],
            "type": "histogram2dcontour"
           }
          ],
          "mesh3d": [
           {
            "colorbar": {
             "outlinewidth": 0,
             "ticks": ""
            },
            "type": "mesh3d"
           }
          ],
          "parcoords": [
           {
            "line": {
             "colorbar": {
              "outlinewidth": 0,
              "ticks": ""
             }
            },
            "type": "parcoords"
           }
          ],
          "pie": [
           {
            "automargin": true,
            "type": "pie"
           }
          ],
          "scatter": [
           {
            "fillpattern": {
             "fillmode": "overlay",
             "size": 10,
             "solidity": 0.2
            },
            "type": "scatter"
           }
          ],
          "scatter3d": [
           {
            "line": {
             "colorbar": {
              "outlinewidth": 0,
              "ticks": ""
             }
            },
            "marker": {
             "colorbar": {
              "outlinewidth": 0,
              "ticks": ""
             }
            },
            "type": "scatter3d"
           }
          ],
          "scattercarpet": [
           {
            "marker": {
             "colorbar": {
              "outlinewidth": 0,
              "ticks": ""
             }
            },
            "type": "scattercarpet"
           }
          ],
          "scattergeo": [
           {
            "marker": {
             "colorbar": {
              "outlinewidth": 0,
              "ticks": ""
             }
            },
            "type": "scattergeo"
           }
          ],
          "scattergl": [
           {
            "marker": {
             "colorbar": {
              "outlinewidth": 0,
              "ticks": ""
             }
            },
            "type": "scattergl"
           }
          ],
          "scattermap": [
           {
            "marker": {
             "colorbar": {
              "outlinewidth": 0,
              "ticks": ""
             }
            },
            "type": "scattermap"
           }
          ],
          "scattermapbox": [
           {
            "marker": {
             "colorbar": {
              "outlinewidth": 0,
              "ticks": ""
             }
            },
            "type": "scattermapbox"
           }
          ],
          "scatterpolar": [
           {
            "marker": {
             "colorbar": {
              "outlinewidth": 0,
              "ticks": ""
             }
            },
            "type": "scatterpolar"
           }
          ],
          "scatterpolargl": [
           {
            "marker": {
             "colorbar": {
              "outlinewidth": 0,
              "ticks": ""
             }
            },
            "type": "scatterpolargl"
           }
          ],
          "scatterternary": [
           {
            "marker": {
             "colorbar": {
              "outlinewidth": 0,
              "ticks": ""
             }
            },
            "type": "scatterternary"
           }
          ],
          "surface": [
           {
            "colorbar": {
             "outlinewidth": 0,
             "ticks": ""
            },
            "colorscale": [
             [
              0,
              "#0d0887"
             ],
             [
              0.1111111111111111,
              "#46039f"
             ],
             [
              0.2222222222222222,
              "#7201a8"
             ],
             [
              0.3333333333333333,
              "#9c179e"
             ],
             [
              0.4444444444444444,
              "#bd3786"
             ],
             [
              0.5555555555555556,
              "#d8576b"
             ],
             [
              0.6666666666666666,
              "#ed7953"
             ],
             [
              0.7777777777777778,
              "#fb9f3a"
             ],
             [
              0.8888888888888888,
              "#fdca26"
             ],
             [
              1,
              "#f0f921"
             ]
            ],
            "type": "surface"
           }
          ],
          "table": [
           {
            "cells": {
             "fill": {
              "color": "#EBF0F8"
             },
             "line": {
              "color": "white"
             }
            },
            "header": {
             "fill": {
              "color": "#C8D4E3"
             },
             "line": {
              "color": "white"
             }
            },
            "type": "table"
           }
          ]
         },
         "layout": {
          "annotationdefaults": {
           "arrowcolor": "#2a3f5f",
           "arrowhead": 0,
           "arrowwidth": 1
          },
          "autotypenumbers": "strict",
          "coloraxis": {
           "colorbar": {
            "outlinewidth": 0,
            "ticks": ""
           }
          },
          "colorscale": {
           "diverging": [
            [
             0,
             "#8e0152"
            ],
            [
             0.1,
             "#c51b7d"
            ],
            [
             0.2,
             "#de77ae"
            ],
            [
             0.3,
             "#f1b6da"
            ],
            [
             0.4,
             "#fde0ef"
            ],
            [
             0.5,
             "#f7f7f7"
            ],
            [
             0.6,
             "#e6f5d0"
            ],
            [
             0.7,
             "#b8e186"
            ],
            [
             0.8,
             "#7fbc41"
            ],
            [
             0.9,
             "#4d9221"
            ],
            [
             1,
             "#276419"
            ]
           ],
           "sequential": [
            [
             0,
             "#0d0887"
            ],
            [
             0.1111111111111111,
             "#46039f"
            ],
            [
             0.2222222222222222,
             "#7201a8"
            ],
            [
             0.3333333333333333,
             "#9c179e"
            ],
            [
             0.4444444444444444,
             "#bd3786"
            ],
            [
             0.5555555555555556,
             "#d8576b"
            ],
            [
             0.6666666666666666,
             "#ed7953"
            ],
            [
             0.7777777777777778,
             "#fb9f3a"
            ],
            [
             0.8888888888888888,
             "#fdca26"
            ],
            [
             1,
             "#f0f921"
            ]
           ],
           "sequentialminus": [
            [
             0,
             "#0d0887"
            ],
            [
             0.1111111111111111,
             "#46039f"
            ],
            [
             0.2222222222222222,
             "#7201a8"
            ],
            [
             0.3333333333333333,
             "#9c179e"
            ],
            [
             0.4444444444444444,
             "#bd3786"
            ],
            [
             0.5555555555555556,
             "#d8576b"
            ],
            [
             0.6666666666666666,
             "#ed7953"
            ],
            [
             0.7777777777777778,
             "#fb9f3a"
            ],
            [
             0.8888888888888888,
             "#fdca26"
            ],
            [
             1,
             "#f0f921"
            ]
           ]
          },
          "colorway": [
           "#636efa",
           "#EF553B",
           "#00cc96",
           "#ab63fa",
           "#FFA15A",
           "#19d3f3",
           "#FF6692",
           "#B6E880",
           "#FF97FF",
           "#FECB52"
          ],
          "font": {
           "color": "#2a3f5f"
          },
          "geo": {
           "bgcolor": "white",
           "lakecolor": "white",
           "landcolor": "#E5ECF6",
           "showlakes": true,
           "showland": true,
           "subunitcolor": "white"
          },
          "hoverlabel": {
           "align": "left"
          },
          "hovermode": "closest",
          "mapbox": {
           "style": "light"
          },
          "paper_bgcolor": "white",
          "plot_bgcolor": "#E5ECF6",
          "polar": {
           "angularaxis": {
            "gridcolor": "white",
            "linecolor": "white",
            "ticks": ""
           },
           "bgcolor": "#E5ECF6",
           "radialaxis": {
            "gridcolor": "white",
            "linecolor": "white",
            "ticks": ""
           }
          },
          "scene": {
           "xaxis": {
            "backgroundcolor": "#E5ECF6",
            "gridcolor": "white",
            "gridwidth": 2,
            "linecolor": "white",
            "showbackground": true,
            "ticks": "",
            "zerolinecolor": "white"
           },
           "yaxis": {
            "backgroundcolor": "#E5ECF6",
            "gridcolor": "white",
            "gridwidth": 2,
            "linecolor": "white",
            "showbackground": true,
            "ticks": "",
            "zerolinecolor": "white"
           },
           "zaxis": {
            "backgroundcolor": "#E5ECF6",
            "gridcolor": "white",
            "gridwidth": 2,
            "linecolor": "white",
            "showbackground": true,
            "ticks": "",
            "zerolinecolor": "white"
           }
          },
          "shapedefaults": {
           "line": {
            "color": "#2a3f5f"
           }
          },
          "ternary": {
           "aaxis": {
            "gridcolor": "white",
            "linecolor": "white",
            "ticks": ""
           },
           "baxis": {
            "gridcolor": "white",
            "linecolor": "white",
            "ticks": ""
           },
           "bgcolor": "#E5ECF6",
           "caxis": {
            "gridcolor": "white",
            "linecolor": "white",
            "ticks": ""
           }
          },
          "title": {
           "x": 0.05
          },
          "xaxis": {
           "automargin": true,
           "gridcolor": "white",
           "linecolor": "white",
           "ticks": "",
           "title": {
            "standoff": 15
           },
           "zerolinecolor": "white",
           "zerolinewidth": 2
          },
          "yaxis": {
           "automargin": true,
           "gridcolor": "white",
           "linecolor": "white",
           "ticks": "",
           "title": {
            "standoff": 15
           },
           "zerolinecolor": "white",
           "zerolinewidth": 2
          }
         }
        },
        "title": {
         "text": "epoch metrics"
        },
        "xaxis": {
         "anchor": "y",
         "domain": [
          0,
          0.98
         ],
         "title": {
          "text": "epoch"
         }
        },
        "xaxis2": {
         "anchor": "y2",
         "domain": [
          0,
          0.98
         ],
         "matches": "x",
         "showticklabels": false
        },
        "xaxis3": {
         "anchor": "y3",
         "domain": [
          0,
          0.98
         ],
         "matches": "x",
         "showticklabels": false
        },
        "xaxis4": {
         "anchor": "y4",
         "domain": [
          0,
          0.98
         ],
         "matches": "x",
         "showticklabels": false
        },
        "yaxis": {
         "anchor": "x",
         "domain": [
          0,
          0.2275
         ],
         "title": {
          "text": "value"
         }
        },
        "yaxis2": {
         "anchor": "x2",
         "domain": [
          0.2575,
          0.485
         ],
         "title": {
          "text": "value"
         }
        },
        "yaxis3": {
         "anchor": "x3",
         "domain": [
          0.515,
          0.7425
         ],
         "title": {
          "text": "value"
         }
        },
        "yaxis4": {
         "anchor": "x4",
         "domain": [
          0.7725,
          1
         ],
         "title": {
          "text": "value"
         }
        }
       }
      }
     },
     "metadata": {},
     "output_type": "display_data"
    },
    {
     "name": "stdout",
     "output_type": "stream",
     "text": [
      "=========================\n"
     ]
    }
   ],
   "source": [
    "NB_CROSS_VALIDATIONS = 5\n",
    "fold_patterns = join(dataset_path, \"preprocessed_dataset\", \"fold*\")\n",
    "fold_pths = glob(fold_patterns)[:NB_CROSS_VALIDATIONS]\n",
    "all_training_metrics = {}\n",
    "\n",
    "for fold_idx, fold_pth in enumerate(fold_pths):\n",
    "    print(\"training:\", fold_idx + 1)\n",
    "    train_dataset = CMIDataset(fold_pth, \"train\")\n",
    "    train_data_loader = DL(train_dataset, BATCH_SIZE, shuffle=True)\n",
    "    validation_dataset = CMIDataset(fold_pth, \"validation\")\n",
    "    validation_data_loader = DL(validation_dataset, BATCH_SIZE, shuffle=False)\n",
    "    _, training_metrics, _ = mk_model_and_fit(train_data_loader, validation_data_loader)\n",
    "    all_training_metrics[\"fold_\" + str(fold_idx)] = training_metrics\n",
    "    plt_validation_split_training_metrics(training_metrics)\n",
    "    print(\"=========================\")\n",
    "\n",
    "all_training_metrics = pd.concat(all_training_metrics)"
   ]
  },
  {
   "cell_type": "code",
   "execution_count": 11,
   "id": "0e54c23c",
   "metadata": {},
   "outputs": [
    {
     "data": {
      "text/html": [
       "<div>\n",
       "<style scoped>\n",
       "    .dataframe tbody tr th:only-of-type {\n",
       "        vertical-align: middle;\n",
       "    }\n",
       "\n",
       "    .dataframe tbody tr th {\n",
       "        vertical-align: top;\n",
       "    }\n",
       "\n",
       "    .dataframe thead th {\n",
       "        text-align: right;\n",
       "    }\n",
       "</style>\n",
       "<table border=\"1\" class=\"dataframe\">\n",
       "  <thead>\n",
       "    <tr style=\"text-align: right;\">\n",
       "      <th></th>\n",
       "      <th>train_epoch_loss</th>\n",
       "      <th>train_epoch_accuracy</th>\n",
       "      <th>validation_loss</th>\n",
       "      <th>validation_accuracy</th>\n",
       "    </tr>\n",
       "  </thead>\n",
       "  <tbody>\n",
       "    <tr>\n",
       "      <th>mean</th>\n",
       "      <td>2.365963</td>\n",
       "      <td>0.615212</td>\n",
       "      <td>2.519126</td>\n",
       "      <td>0.460875</td>\n",
       "    </tr>\n",
       "    <tr>\n",
       "      <th>std</th>\n",
       "      <td>0.147424</td>\n",
       "      <td>0.148215</td>\n",
       "      <td>0.077614</td>\n",
       "      <td>0.077973</td>\n",
       "    </tr>\n",
       "  </tbody>\n",
       "</table>\n",
       "</div>"
      ],
      "text/plain": [
       "      train_epoch_loss  train_epoch_accuracy  validation_loss  \\\n",
       "mean          2.365963              0.615212         2.519126   \n",
       "std           0.147424              0.148215         0.077614   \n",
       "\n",
       "      validation_accuracy  \n",
       "mean             0.460875  \n",
       "std              0.077973  "
      ]
     },
     "execution_count": 11,
     "metadata": {},
     "output_type": "execute_result"
    }
   ],
   "source": [
    "(\n",
    "    all_training_metrics\n",
    "    .loc[:, [\"train_epoch_loss\", \"train_epoch_accuracy\", \"validation_loss\", \"validation_accuracy\"]]\n",
    "    .agg([\"mean\", \"std\"])\n",
    ")"
   ]
  },
  {
   "cell_type": "markdown",
   "id": "aab08b93",
   "metadata": {},
   "source": [
    "## Full dataset training"
   ]
  },
  {
   "cell_type": "code",
   "execution_count": 12,
   "id": "e6a350f8",
   "metadata": {},
   "outputs": [
    {
     "data": {
      "application/vnd.jupyter.widget-view+json": {
       "model_id": "5fed704715294de383e8c6b75d1ae11f",
       "version_major": 2,
       "version_minor": 0
      },
      "text/plain": [
       "Output()"
      ]
     },
     "metadata": {},
     "output_type": "display_data"
    },
    {
     "data": {
      "text/html": [
       "<pre style=\"white-space:pre;overflow-x:auto;line-height:normal;font-family:Menlo,'DejaVu Sans Mono',consolas,'Courier New',monospace\"></pre>\n"
      ],
      "text/plain": []
     },
     "metadata": {},
     "output_type": "display_data"
    },
    {
     "data": {
      "application/vnd.plotly.v1+json": {
       "config": {
        "plotlyServerURL": "https://plot.ly"
       },
       "data": [
        {
         "hovertemplate": "variable=batch_train_loss<br>step=%{x}<br>value=%{y}<extra></extra>",
         "legendgroup": "",
         "marker": {
          "color": "#636efa",
          "symbol": "circle"
         },
         "mode": "markers",
         "name": "",
         "showlegend": false,
         "type": "scattergl",
         "x": {
          "bdata": "AAABAAIAAwAEAAUABgAHAAgACQAKAAsADAANAA4ADwAQABEAEgATABQAFQAWABcAGAAZABoAGwAcAB0AHgAfACAAIQAiACMAJAAlACYAJwAoACkAKgArACwALQAuAC8AMAAxADIAMwA0ADUANgA3ADgAOQA6ADsAPAA9AD4APwBAAEEAQgBDAEQARQBGAEcASABJAEoASwBMAE0ATgBPAFAAUQBSAFMAVABVAFYAVwBYAFkAWgBbAFwAXQBeAF8AYABhAGIAYwBkAGUAZgBnAGgAaQBqAGsAbABtAG4AbwBwAHEAcgBzAHQAdQB2AHcAeAB5AHoAewB8AH0AfgB/AIAAgQCCAIMAhACFAIYAhwCIAIkAigCLAIwAjQCOAI8AkACRAJIAkwCUAJUAlgCXAJgAmQCaAJsAnACdAJ4AnwCgAKEAogCjAKQApQCmAKcAqACpAKoAqwCsAK0ArgCvALAAsQCyALMAtAC1ALYAtwC4ALkAugC7ALwAvQC+AL8AwADBAMIAwwDEAMUAxgDHAMgAyQDKAMsAzADNAM4AzwDQANEA0gDTANQA1QDWANcA2ADZANoA2wDcAN0A3gDfAOAA4QDiAOMA5ADlAOYA5wDoAOkA6gDrAOwA7QDuAO8A8ADxAPIA8wD0APUA9gD3APgA+QD6APsA/AD9AP4A/wAAAQEBAgEDAQQBBQEGAQcBCAEJAQoBCwEMAQ0BDgEPARABEQESARMBFAEVARYBFwEYARkBGgEbARwBHQEeAR8BIAEhASIBIwEkASUBJgEnASgBKQEqASsBLAEtAS4BLwEwATEBMgEzATQBNQE2ATcBOAE5AToBOwE8AT0BPgE/AUABQQFCAUMBRAFFAUYBRwFIAUkBSgFLAUwBTQFOAU8BUAFRAVIBUwFUAVUBVgFXAVgBWQFaAVsBXAFdAV4BXwFgAWEBYgFjAWQBZQFmAWcBaAFpAWoBawFsAW0BbgFvAXABcQFyAXMBdAF1AXYBdwF4AXkBegF7AXwBfQF+AX8BgAGBAYIBgwGEAYUBhgGHAYgBiQGKAYsBjAGNAY4BjwGQAZEBkgGTAZQBlQGWAZcBmAGZAZoBmwGcAZ0BngGfAaABoQGiAaMBpAGlAaYBpwGoAakBqgGrAawBrQGuAa8BsAGxAbIBswG0AbUBtgG3AbgBuQG6AbsBvAG9Ab4BvwHAAcEBwgHDAcQBxQHGAccByAHJAcoBywHMAc0BzgHPAdAB0QHSAdMB1AHVAdYB1wHYAdkB2gHbAdwB3QHeAd8B4AHhAeIB4wHkAeUB5gHnAegB6QHqAesB7AHtAe4B7wHwAfEB8gHzAfQB9QH2AfcB+AH5AfoB+wH8Af0B/gH/AQACAQICAgMCBAIFAgYCBwIIAgkCCgILAgwCDQIOAg8CEAIRAhICEwIUAhUCFgIXAhgCGQIaAhsCHAIdAh4CHwIgAiECIgIjAiQCJQImAicCKAIpAioCKwIsAi0CLgIvAjACMQIyAjMCNAI1AjYCNwI4AjkCOgI7AjwCPQI+Aj8CQAJBAkICQwJEAkUCRgJHAkgCSQJKAksCTAJNAk4CTwJQAlECUgJTAlQCVQJWAlcCWAJZAloCWwJcAl0CXgJfAmACYQJiAmMCZAJlAmYCZwJoAmkCagJrAmwCbQJuAm8CcAJxAnICcwJ0AnUCdgJ3AngCeQJ6AnsCfAJ9An4CfwKAAoECggKDAoQChQKGAocCiAKJAooCiwKMAo0CjgKPApACkQKSApMClAKVApYClwKYApkCmgKbApwCnQKeAp8CoAKhAqICowKkAqUCpgKnAqgCqQKqAqsCrAKtAq4CrwKwArECsgKzArQCtQK2ArcCuAK5AroCuwK8Ar0CvgK/AsACwQLCAsMCxALFAsYCxwLIAskCygLLAswCzQLOAs8C0ALRAtIC0wLUAtUC1gLXAtgC2QLaAtsC3ALdAt4C3wLgAuEC4gLjAuQC5QLmAucC6ALpAuoC6wLsAu0C7gLvAvAC8QLyAvMC9AL1AvYC9wL4AvkC+gL7AvwC/QL+Av8CAAMBAwIDAwMEAwUDBgMHAwgDCQMKAwsDDAMNAw4DDwMQAxEDEgMTAxQDFQMWAxcDGAMZAxoDGwMcAx0DHgMfAyADIQMiAyMDJAMlAyYDJwMoAykDKgMrAywDLQMuAy8DMAMxAzIDMwM0AzUDNgM3AzgDOQM6AzsDPAM9Az4DPwNAA0EDQgNDA0QDRQNGA0cDSANJA0oDSwNMA00DTgNPA1ADUQNSA1MDVANVA1YDVwNYA1kDWgNbA1wDXQNeA18DYANhA2IDYwNkA2UDZgNnA2gDaQNqA2sDbANtA24DbwNwA3EDcgNzA3QDdQN2A3cDeAN5A3oDewN8A30DfgN/A4ADgQOCA4MDhAOFA4YDhwOIA4kDigOLA4wDjQOOA48DkAORA5IDkwOUA5UDlgOXA5gDmQOaA5sDnAOdA54DnwOgA6EDogOjA6QDpQOmA6cDqAOpA6oDqwOsA60DrgOvA7ADsQOyA7MDtAO1A7YDtwO4A7kDugO7A7wDvQO+A78DwAPBA8IDwwPEA8UDxgPHA8gDyQPKA8sDzAPNA84DzwPQA9ED0gPTA9QD1QPWA9cD2APZA9oD2wPcA90D3gPfA+AD4QPiA+MD5APlA+YD5wPoA+kD6gPrA+wD7QPuA+8D8APxA/ID8wP0A/UD9gP3A/gD+QP6A/sD/AP9A/4D/wMABAEEAgQDBAQEBQQGBAcECAQJBAoECwQMBA0EDgQPBBAEEQQSBBMEFAQVBBYEFwQYBBkEGgQbBBwEHQQeBB8EIAQhBCIEIwQkBCUEJgQnBCgEKQQqBCsELAQtBC4ELwQwBDEEMgQzBDQENQQ2BDcEOAQ5BDoEOwQ8BD0EPgQ/BEAEQQRCBEMERARFBEYERwRIBEkESgRLBEwETQROBE8EUARRBFIEUwRUBFUEVgRXBFgEWQRaBFsEXARdBF4EXwRgBGEEYgRjBGQEZQRmBGcEaARpBGoEawRsBG0EbgRvBHAEcQRyBHMEdAR1BHYEdwR4BHkEegR7BHwEfQR+BH8EgASBBIIEgwSEBIUEhgSHBIgEiQSKBIsEjASNBI4EjwSQBJEEkgSTBJQElQSWBJcEmASZBJoEmwScBJ0EngSfBKAEoQSiBKMEpASlBKYEpwSoBKkEqgSrBKwErQSuBK8EsASxBLIEswS0BLUEtgS3BLgEuQS6BLsEvAS9BL4EvwTABMEEwgTDBMQExQTGBMcEyATJBMoEywTMBM0EzgTPBNAE0QTSBNME1ATVBNYE1wTYBNkE2gTbBNwE3QTeBN8E4AThBOIE4wTkBOUE5gTnBOgE6QTqBOsE7ATtBO4E7wTwBPEE8gTzBPQE9QT2BPcE+AT5BPoE+wT8BP0E/gT/BAAFAQUCBQMFBAUFBQYFBwUIBQkFCgULBQwFDQUOBQ8FEAURBRIFEwUUBRUFFgUXBRgFGQUaBRsFHAUdBR4FHwUgBSEFIgUjBSQFJQUmBScFKAUpBSoFKwUsBS0FLgUvBTAFMQUyBTMFNAU1BTYFNwU4BTkFOgU7BTwFPQU+BT8FQAVBBUIFQwVEBUUFRgVHBUgFSQVKBUsFTAVNBU4FTwVQBVEFUgVTBVQFVQVWBVcFWAVZBVoFWwVcBV0FXgVfBWAFYQViBWMFZAVlBWYFZwVoBWkFagVrBWwFbQVuBW8FcAVxBXIFcwV0BXUFdgV3BXgFeQV6BXsFfAV9BX4FfwWABYEFggWDBYQFhQWGBYcFiAWJBYoFiwWMBY0FjgWPBZAFkQWSBZMFlAWVBZYFlwWYBZkFmgWbBZwFnQWeBZ8FoAWhBaIFowWkBaUFpgWnBagFqQWqBasFrAWtBa4FrwWwBbEFsgWzBbQFtQW2BbcFuAW5BboFuwW8Bb0FvgW/BcAFwQXCBcMFxAXFBcYFxwXIBckFygXLBcwFzQXOBc8F0AXRBdIF0wXUBdUF1gXXBdgF2QXaBdsF3AXdBd4F3wXgBeEF4gXjBeQF5QXmBecF6AXpBeoF6wXsBe0F7gXvBfAF8QXyBfMF9AX1BfYF9wX4BfkF+gX7BfwF/QX+Bf8FAAYBBgIGAwYEBgUGBgYHBggGCQYKBgsGDAYNBg4GDwYQBhEGEgYTBhQGFQYWBhcGGAYZBhoGGwYcBh0GHgYfBiAGIQYiBiMGJAYlBiYGJwYoBikGKgYrBiwGLQYuBi8GMAYxBjIGMwY0BjUGNgY3BjgGOQY6BjsGPAY9Bj4GPwZABkEGQgZDBkQGRQZGBkcGSAZJBkoGSwZMBk0GTgZPBlAGUQZSBlMGVAZVBlYGVwZYBlkGWgZbBlwGXQZeBl8GYAZhBmIGYwZkBmUGZgZnBmgGaQZqBmsGbAZtBm4GbwZwBnEGcgZzBnQGdQZ2BncGeAZ5BnoGewZ8Bn0GfgZ/BoAGgQaCBoMGhAaFBoYGhwaIBokGigaLBowGjQaOBo8GkAaRBpIGkwaUBpUGlgaXBpgGmQaaBpsGnAadBp4GnwagBqEGogajBqQGpQamBqcGqAapBqoGqwasBq0GrgavBrAGsQayBrMGtAa1BrYGtwa4BrkGuga7BrwGvQa+Br8GwAbBBsIGwwbEBsUGxgbHBsgGyQbKBssGzAbNBs4GzwbQBtEG0gbTBtQG1QbWBtcG2AbZBtoG2wbcBt0G3gbfBuAG4QbiBuMG5AblBuYG5wboBukG6gbrBuwG7QbuBu8G8AbxBvIG8wb0BvUG9gb3BvgG+Qb6BvsG/Ab9Bv4G/wYABwEHAgcDBwQHBQcGBwcHCAcJBwoHCwcMBw0HDgcPBxAHEQcSBxMHFAcVBxYHFwcYBxkHGgcbBxwHHQceBx8HIAchByIHIwckByUHJgcnBygHKQcqBysHLActBy4HLwcwBzEHMgczBzQHNQc2BzcHOAc5BzoHOwc8Bz0HPgc/B0AHQQdCB0MHRAdFB0YHRwdIB0kHSgdLB0wHTQdOB08HUAdRB1IHUwdUB1UHVgdXB1gHWQdaB1sHXAddB14HXwdgB2EHYgdjB2QHZQdmB2cHaAdpB2oHawdsB20HbgdvB3AHcQdyB3MHdAd1B3YHdwd4B3kHegd7B3wHfQd+B38H",
          "dtype": "i2"
         },
         "xaxis": "x2",
         "y": {
          "bdata": "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",
          "dtype": "f8"
         },
         "yaxis": "y2"
        },
        {
         "hovertemplate": "<b>Exponentially Weighted mean trendline</b><br><br>variable=batch_train_loss<br>step=%{x}<br>value=%{y} <b>(trend)</b><extra></extra>",
         "legendgroup": "",
         "line": {
          "color": "red"
         },
         "marker": {
          "color": "#636efa",
          "symbol": "circle"
         },
         "mode": "lines",
         "name": "",
         "showlegend": false,
         "type": "scattergl",
         "x": {
          "bdata": "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",
          "dtype": "i2"
         },
         "xaxis": "x2",
         "y": {
          "bdata": "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",
          "dtype": "f8"
         },
         "yaxis": "y2"
        },
        {
         "hovertemplate": "variable=batch_accuracy<br>step=%{x}<br>value=%{y}<extra></extra>",
         "legendgroup": "",
         "marker": {
          "color": "#636efa",
          "symbol": "circle"
         },
         "mode": "markers",
         "name": "",
         "showlegend": false,
         "type": "scattergl",
         "x": {
          "bdata": "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",
          "dtype": "i2"
         },
         "xaxis": "x",
         "y": {
          "bdata": "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",
          "dtype": "f8"
         },
         "yaxis": "y"
        },
        {
         "hovertemplate": "<b>Exponentially Weighted mean trendline</b><br><br>variable=batch_accuracy<br>step=%{x}<br>value=%{y} <b>(trend)</b><extra></extra>",
         "legendgroup": "",
         "line": {
          "color": "red"
         },
         "marker": {
          "color": "#636efa",
          "symbol": "circle"
         },
         "mode": "lines",
         "name": "",
         "showlegend": false,
         "type": "scattergl",
         "x": {
          "bdata": "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",
          "dtype": "i2"
         },
         "xaxis": "x",
         "y": {
          "bdata": "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",
          "dtype": "f8"
         },
         "yaxis": "y"
        }
       ],
       "layout": {
        "annotations": [
         {
          "font": {},
          "showarrow": false,
          "text": "variable=batch_accuracy",
          "textangle": 90,
          "x": 0.98,
          "xanchor": "left",
          "xref": "paper",
          "y": 0.2425,
          "yanchor": "middle",
          "yref": "paper"
         },
         {
          "font": {},
          "showarrow": false,
          "text": "variable=batch_train_loss",
          "textangle": 90,
          "x": 0.98,
          "xanchor": "left",
          "xref": "paper",
          "y": 0.7575000000000001,
          "yanchor": "middle",
          "yref": "paper"
         }
        ],
        "legend": {
         "tracegroupgap": 0
        },
        "template": {
         "data": {
          "bar": [
           {
            "error_x": {
             "color": "#2a3f5f"
            },
            "error_y": {
             "color": "#2a3f5f"
            },
            "marker": {
             "line": {
              "color": "#E5ECF6",
              "width": 0.5
             },
             "pattern": {
              "fillmode": "overlay",
              "size": 10,
              "solidity": 0.2
             }
            },
            "type": "bar"
           }
          ],
          "barpolar": [
           {
            "marker": {
             "line": {
              "color": "#E5ECF6",
              "width": 0.5
             },
             "pattern": {
              "fillmode": "overlay",
              "size": 10,
              "solidity": 0.2
             }
            },
            "type": "barpolar"
           }
          ],
          "carpet": [
           {
            "aaxis": {
             "endlinecolor": "#2a3f5f",
             "gridcolor": "white",
             "linecolor": "white",
             "minorgridcolor": "white",
             "startlinecolor": "#2a3f5f"
            },
            "baxis": {
             "endlinecolor": "#2a3f5f",
             "gridcolor": "white",
             "linecolor": "white",
             "minorgridcolor": "white",
             "startlinecolor": "#2a3f5f"
            },
            "type": "carpet"
           }
          ],
          "choropleth": [
           {
            "colorbar": {
             "outlinewidth": 0,
             "ticks": ""
            },
            "type": "choropleth"
           }
          ],
          "contour": [
           {
            "colorbar": {
             "outlinewidth": 0,
             "ticks": ""
            },
            "colorscale": [
             [
              0,
              "#0d0887"
             ],
             [
              0.1111111111111111,
              "#46039f"
             ],
             [
              0.2222222222222222,
              "#7201a8"
             ],
             [
              0.3333333333333333,
              "#9c179e"
             ],
             [
              0.4444444444444444,
              "#bd3786"
             ],
             [
              0.5555555555555556,
              "#d8576b"
             ],
             [
              0.6666666666666666,
              "#ed7953"
             ],
             [
              0.7777777777777778,
              "#fb9f3a"
             ],
             [
              0.8888888888888888,
              "#fdca26"
             ],
             [
              1,
              "#f0f921"
             ]
            ],
            "type": "contour"
           }
          ],
          "contourcarpet": [
           {
            "colorbar": {
             "outlinewidth": 0,
             "ticks": ""
            },
            "type": "contourcarpet"
           }
          ],
          "heatmap": [
           {
            "colorbar": {
             "outlinewidth": 0,
             "ticks": ""
            },
            "colorscale": [
             [
              0,
              "#0d0887"
             ],
             [
              0.1111111111111111,
              "#46039f"
             ],
             [
              0.2222222222222222,
              "#7201a8"
             ],
             [
              0.3333333333333333,
              "#9c179e"
             ],
             [
              0.4444444444444444,
              "#bd3786"
             ],
             [
              0.5555555555555556,
              "#d8576b"
             ],
             [
              0.6666666666666666,
              "#ed7953"
             ],
             [
              0.7777777777777778,
              "#fb9f3a"
             ],
             [
              0.8888888888888888,
              "#fdca26"
             ],
             [
              1,
              "#f0f921"
             ]
            ],
            "type": "heatmap"
           }
          ],
          "histogram": [
           {
            "marker": {
             "pattern": {
              "fillmode": "overlay",
              "size": 10,
              "solidity": 0.2
             }
            },
            "type": "histogram"
           }
          ],
          "histogram2d": [
           {
            "colorbar": {
             "outlinewidth": 0,
             "ticks": ""
            },
            "colorscale": [
             [
              0,
              "#0d0887"
             ],
             [
              0.1111111111111111,
              "#46039f"
             ],
             [
              0.2222222222222222,
              "#7201a8"
             ],
             [
              0.3333333333333333,
              "#9c179e"
             ],
             [
              0.4444444444444444,
              "#bd3786"
             ],
             [
              0.5555555555555556,
              "#d8576b"
             ],
             [
              0.6666666666666666,
              "#ed7953"
             ],
             [
              0.7777777777777778,
              "#fb9f3a"
             ],
             [
              0.8888888888888888,
              "#fdca26"
             ],
             [
              1,
              "#f0f921"
             ]
            ],
            "type": "histogram2d"
           }
          ],
          "histogram2dcontour": [
           {
            "colorbar": {
             "outlinewidth": 0,
             "ticks": ""
            },
            "colorscale": [
             [
              0,
              "#0d0887"
             ],
             [
              0.1111111111111111,
              "#46039f"
             ],
             [
              0.2222222222222222,
              "#7201a8"
             ],
             [
              0.3333333333333333,
              "#9c179e"
             ],
             [
              0.4444444444444444,
              "#bd3786"
             ],
             [
              0.5555555555555556,
              "#d8576b"
             ],
             [
              0.6666666666666666,
              "#ed7953"
             ],
             [
              0.7777777777777778,
              "#fb9f3a"
             ],
             [
              0.8888888888888888,
              "#fdca26"
             ],
             [
              1,
              "#f0f921"
             ]
            ],
            "type": "histogram2dcontour"
           }
          ],
          "mesh3d": [
           {
            "colorbar": {
             "outlinewidth": 0,
             "ticks": ""
            },
            "type": "mesh3d"
           }
          ],
          "parcoords": [
           {
            "line": {
             "colorbar": {
              "outlinewidth": 0,
              "ticks": ""
             }
            },
            "type": "parcoords"
           }
          ],
          "pie": [
           {
            "automargin": true,
            "type": "pie"
           }
          ],
          "scatter": [
           {
            "fillpattern": {
             "fillmode": "overlay",
             "size": 10,
             "solidity": 0.2
            },
            "type": "scatter"
           }
          ],
          "scatter3d": [
           {
            "line": {
             "colorbar": {
              "outlinewidth": 0,
              "ticks": ""
             }
            },
            "marker": {
             "colorbar": {
              "outlinewidth": 0,
              "ticks": ""
             }
            },
            "type": "scatter3d"
           }
          ],
          "scattercarpet": [
           {
            "marker": {
             "colorbar": {
              "outlinewidth": 0,
              "ticks": ""
             }
            },
            "type": "scattercarpet"
           }
          ],
          "scattergeo": [
           {
            "marker": {
             "colorbar": {
              "outlinewidth": 0,
              "ticks": ""
             }
            },
            "type": "scattergeo"
           }
          ],
          "scattergl": [
           {
            "marker": {
             "colorbar": {
              "outlinewidth": 0,
              "ticks": ""
             }
            },
            "type": "scattergl"
           }
          ],
          "scattermap": [
           {
            "marker": {
             "colorbar": {
              "outlinewidth": 0,
              "ticks": ""
             }
            },
            "type": "scattermap"
           }
          ],
          "scattermapbox": [
           {
            "marker": {
             "colorbar": {
              "outlinewidth": 0,
              "ticks": ""
             }
            },
            "type": "scattermapbox"
           }
          ],
          "scatterpolar": [
           {
            "marker": {
             "colorbar": {
              "outlinewidth": 0,
              "ticks": ""
             }
            },
            "type": "scatterpolar"
           }
          ],
          "scatterpolargl": [
           {
            "marker": {
             "colorbar": {
              "outlinewidth": 0,
              "ticks": ""
             }
            },
            "type": "scatterpolargl"
           }
          ],
          "scatterternary": [
           {
            "marker": {
             "colorbar": {
              "outlinewidth": 0,
              "ticks": ""
             }
            },
            "type": "scatterternary"
           }
          ],
          "surface": [
           {
            "colorbar": {
             "outlinewidth": 0,
             "ticks": ""
            },
            "colorscale": [
             [
              0,
              "#0d0887"
             ],
             [
              0.1111111111111111,
              "#46039f"
             ],
             [
              0.2222222222222222,
              "#7201a8"
             ],
             [
              0.3333333333333333,
              "#9c179e"
             ],
             [
              0.4444444444444444,
              "#bd3786"
             ],
             [
              0.5555555555555556,
              "#d8576b"
             ],
             [
              0.6666666666666666,
              "#ed7953"
             ],
             [
              0.7777777777777778,
              "#fb9f3a"
             ],
             [
              0.8888888888888888,
              "#fdca26"
             ],
             [
              1,
              "#f0f921"
             ]
            ],
            "type": "surface"
           }
          ],
          "table": [
           {
            "cells": {
             "fill": {
              "color": "#EBF0F8"
             },
             "line": {
              "color": "white"
             }
            },
            "header": {
             "fill": {
              "color": "#C8D4E3"
             },
             "line": {
              "color": "white"
             }
            },
            "type": "table"
           }
          ]
         },
         "layout": {
          "annotationdefaults": {
           "arrowcolor": "#2a3f5f",
           "arrowhead": 0,
           "arrowwidth": 1
          },
          "autotypenumbers": "strict",
          "coloraxis": {
           "colorbar": {
            "outlinewidth": 0,
            "ticks": ""
           }
          },
          "colorscale": {
           "diverging": [
            [
             0,
             "#8e0152"
            ],
            [
             0.1,
             "#c51b7d"
            ],
            [
             0.2,
             "#de77ae"
            ],
            [
             0.3,
             "#f1b6da"
            ],
            [
             0.4,
             "#fde0ef"
            ],
            [
             0.5,
             "#f7f7f7"
            ],
            [
             0.6,
             "#e6f5d0"
            ],
            [
             0.7,
             "#b8e186"
            ],
            [
             0.8,
             "#7fbc41"
            ],
            [
             0.9,
             "#4d9221"
            ],
            [
             1,
             "#276419"
            ]
           ],
           "sequential": [
            [
             0,
             "#0d0887"
            ],
            [
             0.1111111111111111,
             "#46039f"
            ],
            [
             0.2222222222222222,
             "#7201a8"
            ],
            [
             0.3333333333333333,
             "#9c179e"
            ],
            [
             0.4444444444444444,
             "#bd3786"
            ],
            [
             0.5555555555555556,
             "#d8576b"
            ],
            [
             0.6666666666666666,
             "#ed7953"
            ],
            [
             0.7777777777777778,
             "#fb9f3a"
            ],
            [
             0.8888888888888888,
             "#fdca26"
            ],
            [
             1,
             "#f0f921"
            ]
           ],
           "sequentialminus": [
            [
             0,
             "#0d0887"
            ],
            [
             0.1111111111111111,
             "#46039f"
            ],
            [
             0.2222222222222222,
             "#7201a8"
            ],
            [
             0.3333333333333333,
             "#9c179e"
            ],
            [
             0.4444444444444444,
             "#bd3786"
            ],
            [
             0.5555555555555556,
             "#d8576b"
            ],
            [
             0.6666666666666666,
             "#ed7953"
            ],
            [
             0.7777777777777778,
             "#fb9f3a"
            ],
            [
             0.8888888888888888,
             "#fdca26"
            ],
            [
             1,
             "#f0f921"
            ]
           ]
          },
          "colorway": [
           "#636efa",
           "#EF553B",
           "#00cc96",
           "#ab63fa",
           "#FFA15A",
           "#19d3f3",
           "#FF6692",
           "#B6E880",
           "#FF97FF",
           "#FECB52"
          ],
          "font": {
           "color": "#2a3f5f"
          },
          "geo": {
           "bgcolor": "white",
           "lakecolor": "white",
           "landcolor": "#E5ECF6",
           "showlakes": true,
           "showland": true,
           "subunitcolor": "white"
          },
          "hoverlabel": {
           "align": "left"
          },
          "hovermode": "closest",
          "mapbox": {
           "style": "light"
          },
          "paper_bgcolor": "white",
          "plot_bgcolor": "#E5ECF6",
          "polar": {
           "angularaxis": {
            "gridcolor": "white",
            "linecolor": "white",
            "ticks": ""
           },
           "bgcolor": "#E5ECF6",
           "radialaxis": {
            "gridcolor": "white",
            "linecolor": "white",
            "ticks": ""
           }
          },
          "scene": {
           "xaxis": {
            "backgroundcolor": "#E5ECF6",
            "gridcolor": "white",
            "gridwidth": 2,
            "linecolor": "white",
            "showbackground": true,
            "ticks": "",
            "zerolinecolor": "white"
           },
           "yaxis": {
            "backgroundcolor": "#E5ECF6",
            "gridcolor": "white",
            "gridwidth": 2,
            "linecolor": "white",
            "showbackground": true,
            "ticks": "",
            "zerolinecolor": "white"
           },
           "zaxis": {
            "backgroundcolor": "#E5ECF6",
            "gridcolor": "white",
            "gridwidth": 2,
            "linecolor": "white",
            "showbackground": true,
            "ticks": "",
            "zerolinecolor": "white"
           }
          },
          "shapedefaults": {
           "line": {
            "color": "#2a3f5f"
           }
          },
          "ternary": {
           "aaxis": {
            "gridcolor": "white",
            "linecolor": "white",
            "ticks": ""
           },
           "baxis": {
            "gridcolor": "white",
            "linecolor": "white",
            "ticks": ""
           },
           "bgcolor": "#E5ECF6",
           "caxis": {
            "gridcolor": "white",
            "linecolor": "white",
            "ticks": ""
           }
          },
          "title": {
           "x": 0.05
          },
          "xaxis": {
           "automargin": true,
           "gridcolor": "white",
           "linecolor": "white",
           "ticks": "",
           "title": {
            "standoff": 15
           },
           "zerolinecolor": "white",
           "zerolinewidth": 2
          },
          "yaxis": {
           "automargin": true,
           "gridcolor": "white",
           "linecolor": "white",
           "ticks": "",
           "title": {
            "standoff": 15
           },
           "zerolinecolor": "white",
           "zerolinewidth": 2
          }
         }
        },
        "title": {
         "text": "batch metrics"
        },
        "xaxis": {
         "anchor": "y",
         "domain": [
          0,
          0.98
         ],
         "title": {
          "text": "step"
         }
        },
        "xaxis2": {
         "anchor": "y2",
         "domain": [
          0,
          0.98
         ],
         "matches": "x",
         "showticklabels": false
        },
        "yaxis": {
         "anchor": "x",
         "domain": [
          0,
          0.485
         ],
         "title": {
          "text": "value"
         }
        },
        "yaxis2": {
         "anchor": "x2",
         "domain": [
          0.515,
          1
         ],
         "title": {
          "text": "value"
         }
        }
       }
      }
     },
     "metadata": {},
     "output_type": "display_data"
    }
   ],
   "source": [
    "full_dataset = CMIDataset(\"full_dataset\")\n",
    "full_dataset_loader = DL(full_dataset, BATCH_SIZE, shuffle=True)\n",
    "model, full_train_metrics, checkpoints = mk_model_and_fit(full_dataset_loader)\n",
    "plt_train_split_training_metrics(full_train_metrics)"
   ]
  },
  {
   "cell_type": "markdown",
   "id": "f0081b6e",
   "metadata": {},
   "source": [
    "## Model upload"
   ]
  },
  {
   "cell_type": "code",
   "execution_count": 13,
   "id": "87578050",
   "metadata": {},
   "outputs": [
    {
     "ename": "UnauthenticatedError",
     "evalue": "User is not authenticated",
     "output_type": "error",
     "traceback": [
      "\u001b[31m---------------------------------------------------------------------------\u001b[39m",
      "\u001b[31mUnauthenticatedError\u001b[39m                      Traceback (most recent call last)",
      "\u001b[36mCell\u001b[39m\u001b[36m \u001b[39m\u001b[32mIn[13]\u001b[39m\u001b[32m, line 1\u001b[39m\n\u001b[32m----> \u001b[39m\u001b[32m1\u001b[39m handle = \u001b[33mf\u001b[39m\u001b[33m\"\u001b[39m\u001b[38;5;132;01m{\u001b[39;00m\u001b[43mwhoami\u001b[49m\u001b[43m(\u001b[49m\u001b[43m)\u001b[49m[\u001b[33m'\u001b[39m\u001b[33musername\u001b[39m\u001b[33m'\u001b[39m]\u001b[38;5;132;01m}\u001b[39;00m\u001b[33m/cmi-resnet/pyTorch/\u001b[39m\u001b[38;5;132;01m{\u001b[39;00mmk_date_now_str().replace(\u001b[33m'\u001b[39m\u001b[33m_\u001b[39m\u001b[33m'\u001b[39m,\u001b[38;5;250m \u001b[39m\u001b[33m'\u001b[39m\u001b[33m-\u001b[39m\u001b[33m'\u001b[39m)\u001b[38;5;132;01m}\u001b[39;00m\u001b[33m\"\u001b[39m\n\u001b[32m      2\u001b[39m model_path = realpath(join(checkpoints, \u001b[33m\"\u001b[39m\u001b[33mbest_checkpoint.pth\u001b[39m\u001b[33m\"\u001b[39m))\n\u001b[32m      3\u001b[39m model_upload(handle, model_path)\n",
      "\u001b[36mFile \u001b[39m\u001b[32m/venv/CMI/lib/python3.11/site-packages/kagglehub/auth.py:158\u001b[39m, in \u001b[36mwhoami\u001b[39m\u001b[34m(verbose)\u001b[39m\n\u001b[32m    156\u001b[39m api_client = KaggleApiV1Client()\n\u001b[32m    157\u001b[39m \u001b[38;5;28;01mif\u001b[39;00m \u001b[38;5;129;01mnot\u001b[39;00m api_client.has_credentials():\n\u001b[32m--> \u001b[39m\u001b[32m158\u001b[39m     \u001b[38;5;28;01mraise\u001b[39;00m UnauthenticatedError()\n\u001b[32m    159\u001b[39m \u001b[38;5;28;01mtry\u001b[39;00m:\n\u001b[32m    160\u001b[39m     username = _validate_credentials_helper(verbose=verbose)\n",
      "\u001b[31mUnauthenticatedError\u001b[39m: User is not authenticated"
     ]
    }
   ],
   "source": [
    "handle = f\"{whoami()['username']}/cmi-resnet/pyTorch/{mk_date_now_str().replace('_', '-')}\"\n",
    "model_path = realpath(join(checkpoints, \"best_checkpoint.pth\"))\n",
    "model_upload(handle, model_path)"
   ]
  }
 ],
 "metadata": {
  "kernelspec": {
   "display_name": "Python 3",
   "language": "python",
   "name": "python3"
  },
  "language_info": {
   "codemirror_mode": {
    "name": "ipython",
    "version": 3
   },
   "file_extension": ".py",
   "mimetype": "text/x-python",
   "name": "python",
   "nbconvert_exporter": "python",
   "pygments_lexer": "ipython3",
   "version": "3.11.5"
  }
 },
 "nbformat": 4,
 "nbformat_minor": 5
}
