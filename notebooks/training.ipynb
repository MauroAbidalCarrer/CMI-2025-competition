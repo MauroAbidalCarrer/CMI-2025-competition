{
 "cells": [
  {
   "cell_type": "markdown",
   "id": "53d41434",
   "metadata": {},
   "source": [
    "# Training model\n",
    "The goal of this notebook is to train a model and upload it to kaggle."
   ]
  },
  {
   "cell_type": "markdown",
   "id": "dc4c23f0",
   "metadata": {},
   "source": [
    "## Imports"
   ]
  },
  {
   "cell_type": "code",
   "execution_count": 52,
   "id": "66f429fe",
   "metadata": {},
   "outputs": [],
   "source": [
    "from os.path import join\n",
    "from typing import Optional\n",
    "\n",
    "import torch\n",
    "import numpy as np\n",
    "from torch import nn, Tensor\n",
    "from kagglehub import dataset_download\n",
    "from torch.utils.data import Dataset, DataLoader"
   ]
  },
  {
   "cell_type": "code",
   "execution_count": 53,
   "id": "e46c3b4e",
   "metadata": {},
   "outputs": [],
   "source": [
    "# TODO: Switch to TensorDataset w/ cross validation splits\n",
    "class CMIDataset(Dataset):\n",
    "    def __init__(self, use_agg_tof:bool, subset:Optional[int]=None, force_download=False):\n",
    "        super().__init__()\n",
    "        dataset_path = dataset_download(\"mauroabidalcarrer/prepocessed-cmi-2025\", force_download=force_download)\n",
    "        x_path  = join(dataset_path, \"tof_meaned_X.npy\" if use_agg_tof else \"X.npy\")\n",
    "        self.x = np.load(x_path, mmap_mode=\"r\").swapaxes(1, 2)\n",
    "        self.y = np.load(join(dataset_path, \"Y.npy\"), mmap_mode=\"r\")\n",
    "        if subset is not None:\n",
    "            self.x = self.x[:subset]\n",
    "            self.y = self.y[:subset]\n",
    "\n",
    "    def __len__(self):\n",
    "        return len(self.x)\n",
    "\n",
    "    def __getitem__(self, idx):\n",
    "        return self.x[idx].copy(), self.y[idx].copy()\n",
    "    \n",
    "dataset = CMIDataset(use_agg_tof=True)\n",
    "data_loader = DataLoader(dataset, 256, shuffle=True)"
   ]
  },
  {
   "cell_type": "code",
   "execution_count": null,
   "id": "5ecc32a1",
   "metadata": {},
   "outputs": [],
   "source": [
    "from itertools import pairwise\n",
    "\n",
    "class ResidualBlock(nn.Module):\n",
    "    def __init__(self, in_chns:int, out_chns:int):\n",
    "        super().__init__()\n",
    "        self.blocks = nn.Sequential(\n",
    "            nn.Conv1d(in_chns, out_chns, kernel_size=3, padding=1),\n",
    "            nn.BatchNorm1d(out_chns),\n",
    "            nn.ReLU(),\n",
    "            nn.Conv1d(out_chns, out_chns, kernel_size=3, padding=1),\n",
    "            nn.BatchNorm1d(out_chns),\n",
    "        )\n",
    "        if in_chns == out_chns:\n",
    "            self.skip_connection = nn.Identity() \n",
    "        else:\n",
    "            # TODO: set bias to False ?\n",
    "            self.skip_connection = nn.Sequential(\n",
    "                nn.Conv1d(in_chns, out_chns, 1),\n",
    "                nn.BatchNorm1d(out_chns)\n",
    "            )\n",
    "\n",
    "    def forward(self, x:Tensor) -> Tensor:\n",
    "        activaition_maps = self.skip_connection(x) + self.blocks(x)\n",
    "        return nn.functional.relu(activaition_maps)\n",
    "\n",
    "class Resnet(nn.Module):\n",
    "    def __init__(\n",
    "            self,\n",
    "            in_channels:int,\n",
    "            depth:int,\n",
    "            # n_res_block_per_depth:int,\n",
    "            mlp_width:int,\n",
    "            n_class:int,\n",
    "        ):\n",
    "        super().__init__()\n",
    "        chs_per_depth = [in_channels * 2 ** i for i in range(depth)]\n",
    "        blocks_chns_it = pairwise(chs_per_depth)\n",
    "        self.res_blocks = [ResidualBlock(in_chns, out_chns) for in_chns, out_chns in blocks_chns_it]\n",
    "        self.res_blocks = nn.ModuleList(self.res_blocks)\n",
    "        self.mlp_head = nn.Sequential(\n",
    "            nn.LazyLinear(mlp_width),\n",
    "            nn.ReLU(),\n",
    "            nn.Linear(mlp_width, n_class),\n",
    "            nn.Softmax(dim=1),\n",
    "        )\n",
    "        \n",
    "        \n",
    "    def forward(self, x:Tensor) -> Tensor:\n",
    "        activation_maps = x\n",
    "        for res_block in self.res_blocks:\n",
    "            activation_maps = nn.functional.max_pool1d(res_block(activation_maps), 2)\n",
    "        out = activation_maps.view(activation_maps.shape[0], -1)\n",
    "        out = self.mlp_head(out)\n",
    "        return out\n",
    "\n",
    "model = Resnet(17, 4, 256, 18)"
   ]
  },
  {
   "cell_type": "code",
   "execution_count": null,
   "id": "7cc879eb",
   "metadata": {},
   "outputs": [],
   "source": [
    "import os\n",
    "from datetime import datetime\n",
    "\n",
    "import torch\n",
    "from torch import nn\n",
    "import plotly.express as px\n",
    "from rich.progress import Progress, Task, track\n",
    "from pandas import DataFrame as DF\n",
    "from torch.utils.data import DataLoader as DL\n",
    "from torch.optim.lr_scheduler import LRScheduler\n",
    "\n",
    "\n",
    "def fit(epochs:int,\n",
    "        model: nn.Module,\n",
    "        scheduler: LRScheduler,\n",
    "        optimizer: torch.optim.Optimizer,\n",
    "        train_loader: DL,\n",
    "        criterion: callable=nn.L1Loss(),\n",
    "        evaluation_func: callable=None,\n",
    "        validation_loader: DL=None,\n",
    "        save_checkpoints=True,\n",
    "    ) -> DF:\n",
    "    # Setup\n",
    "    metrics: list[dict] = []\n",
    "    checkpoints_dir = os.path.join(\"checkpoints\", mk_date_now_str())\n",
    "    step = 0\n",
    "    model_device = next(model.parameters()).device\n",
    "    # Training loop\n",
    "    with Progress() as progress:\n",
    "        task: Task = progress.add_task(\n",
    "            \"training...\",\n",
    "            # f\"epoch: {epoch + 1}, batch_loss: ...\",\n",
    "            total=len(train_loader),\n",
    "        )\n",
    "        for epoch in range(epochs):\n",
    "            progress.update(\n",
    "                task,\n",
    "                description=f\"epoch: {epoch}\",\n",
    "                completed=0,\n",
    "            )\n",
    "            total_epoch_loss = 0\n",
    "            nb_samples = 0\n",
    "            for batch_idx, (x, y) in enumerate(train_loader):\n",
    "                # forward\n",
    "                x = x.to(model_device)\n",
    "                y = y.to(model_device)\n",
    "                nb_samples += len(x)\n",
    "                model.train()\n",
    "                optimizer.zero_grad()\n",
    "                y_pred = model(x)\n",
    "                loss_value = criterion(y_pred, y)\n",
    "                # Verify loss value\n",
    "                if torch.isnan(loss_value).any().item():\n",
    "                    progress.print(\"Warning: Got NaN loss, something went wrong.\")\n",
    "                    return DF.from_records(metrics) \n",
    "                if torch.isinf(loss_value).any().item():\n",
    "                    progress.print(\"Warning: Got infinite loss, something went wrong.\")\n",
    "                    return DF.from_records(metrics) \n",
    "                # TODO: Use gradient clipping?\n",
    "                loss_value.backward()\n",
    "                optimizer.step()\n",
    "                if step > 0: # If it's not the first training step\n",
    "                    # Call the scheduler step method, idk why it throws an error otherwise\n",
    "                    scheduler.step()\n",
    "                # metrics\n",
    "                total_epoch_loss += loss_value.item()\n",
    "                metrics.append({\n",
    "                    \"step\": step,\n",
    "                    \"epoch\": epoch,\n",
    "                    \"batch_train_loss\": loss_value.item(),\n",
    "                    \"lr\": optimizer.state_dict()[\"param_groups\"][-1][\"lr\"],\n",
    "                })\n",
    "                step += 1\n",
    "                progress.update(\n",
    "                    task,\n",
    "                    advance=1,\n",
    "                    description=f\"epoch: {epoch}, batch_loss: {(total_epoch_loss / (batch_idx+1)):.2f}\"\n",
    "                )\n",
    "        # Post epoch evalution\n",
    "        metrics[-1][\"train_epoch_loss\"] = total_epoch_loss / len(train_loader)\n",
    "        if evaluation_func:\n",
    "            eval_metrics = evaluation_func(model, criterion, validation_loader)\n",
    "            progress.print(\"validation loss:\", eval_metrics[\"validation_loss\"])\n",
    "            metrics[-1].update(eval_metrics)\n",
    "        # Save checkpoint\n",
    "        if save_checkpoints:\n",
    "            checkpoint = mk_checkpoint(epoch, model, scheduler, optimizer)\n",
    "            metrics_df = DF.from_records(metrics)\n",
    "            best_model_metric = \"validation_loss\" if \"validation_loss\" in metrics_df.columns else \"train_epoch_loss\"\n",
    "            is_best_checkpoint = (\n",
    "                DF.from_records(metrics)\n",
    "                .eval(f\"min_{best_model_metric} = {best_model_metric}.min()\")\n",
    "                .eval(f\"is_best_{best_model_metric} = {best_model_metric} == min_{best_model_metric}\")\n",
    "                .dropna(subset=f\"is_best_{best_model_metric}\")\n",
    "                .iloc[-1]\n",
    "                .loc[f\"is_best_{best_model_metric}\"]\n",
    "            )\n",
    "            save_checkpoint(checkpoint, checkpoints_dir, is_best_checkpoint)\n",
    "\n",
    "    return DF.from_records(metrics)\n",
    "\n",
    "def evaluate_model(model: torch.nn.Module, critirion:callable, validation_loader:DL) -> dict:\n",
    "    model = model.eval()\n",
    "    model_device = next(model.parameters()).device\n",
    "\n",
    "    total_test_loss = 0\n",
    "    for x, y in track(validation_loader, description=\"Evaluating...\", transient=True):\n",
    "        x = x.to(model_device)\n",
    "        y = y.to(model_device)\n",
    "        y_pred = model(x)\n",
    "        total_test_loss += critirion(y_pred, y).item()\n",
    "    total_test_loss /= len(validation_loader)\n",
    "\n",
    "    return {\"validation_loss\": total_test_loss}\n",
    "\n",
    "def mk_checkpoint(\n",
    "        epoch:int,\n",
    "        model: torch.nn.Module,\n",
    "        scheduler: LRScheduler,\n",
    "        optimizer: torch.optim.Optimizer\n",
    "    ) -> dict:\n",
    "    return {\n",
    "        \"epoch\": epoch,\n",
    "        \"model\": model.state_dict(),\n",
    "        \"optimizer\": optimizer.state_dict(),\n",
    "        \"scheduler\": scheduler.state_dict(),\n",
    "    }\n",
    "\n",
    "def save_checkpoint(checkpoint:dict, parent_dir:str, is_best_checkpoint=False):\n",
    "    # Create model name\n",
    "    checkpoint_filename = mk_date_now_str() + \".pth\"\n",
    "    # Save model\n",
    "    os.makedirs(parent_dir, exist_ok=True)\n",
    "    checkpoint_path = os.path.join(parent_dir, checkpoint_filename)\n",
    "    torch.save(checkpoint, checkpoint_path)\n",
    "    mk_symlink(checkpoint_path, os.path.join(parent_dir, \"latest_checkpoint.pth\"))\n",
    "    if is_best_checkpoint:\n",
    "        mk_symlink(checkpoint_path, os.path.join(parent_dir, \"best_checkpoint.pth\"))\n",
    "\n",
    "def mk_date_now_str() -> str:\n",
    "    return datetime.now().strftime(\"%d-%m-%Y_%H-%M\")\n",
    "\n",
    "def mk_symlink(dest:str, symlink_path:str):\n",
    "    if os.path.islink(symlink_path) or os.path.exists(symlink_path):\n",
    "        os.remove(symlink_path)\n",
    "    os.symlink(dest, symlink_path)"
   ]
  },
  {
   "cell_type": "code",
   "execution_count": null,
   "id": "fe1e327c",
   "metadata": {},
   "outputs": [
    {
     "data": {
      "application/vnd.jupyter.widget-view+json": {
       "model_id": "6be704ecbb2a4e29a986643ca1d0bd56",
       "version_major": 2,
       "version_minor": 0
      },
      "text/plain": [
       "Output()"
      ]
     },
     "metadata": {},
     "output_type": "display_data"
    },
    {
     "data": {
      "text/html": [
       "<pre style=\"white-space:pre;overflow-x:auto;line-height:normal;font-family:Menlo,'DejaVu Sans Mono',consolas,'Courier New',monospace\">/home/mauro/miniconda3/envs/CMI/lib/python3.11/site-packages/torch/nn/modules/module.py:1736: UserWarning:\n",
       "\n",
       "Implicit dimension choice for softmax has been deprecated. Change the call to include dim=X as an argument.\n",
       "\n",
       "</pre>\n"
      ],
      "text/plain": [
       "/home/mauro/miniconda3/envs/CMI/lib/python3.11/site-packages/torch/nn/modules/module.py:1736: UserWarning:\n",
       "\n",
       "Implicit dimension choice for softmax has been deprecated. Change the call to include dim=X as an argument.\n",
       "\n"
      ]
     },
     "metadata": {},
     "output_type": "display_data"
    },
    {
     "data": {
      "text/html": [
       "<pre style=\"white-space:pre;overflow-x:auto;line-height:normal;font-family:Menlo,'DejaVu Sans Mono',consolas,'Courier New',monospace\"></pre>\n"
      ],
      "text/plain": []
     },
     "metadata": {},
     "output_type": "display_data"
    }
   ],
   "source": [
    "TRAINING_EPOCHS = 30\n",
    "STARTING_LR = 0.0005\n",
    "model = Resnet(in_channels=17, depth=4, mlp_width=256, n_class=18)\n",
    "optimizer = torch.optim.AdamW(model.parameters(), STARTING_LR)\n",
    "constant_lr_scheduler = torch.optim.lr_scheduler.ConstantLR(optimizer, factor=1, total_iters=len(data_loader) * TRAINING_EPOCHS)\n",
    "training_metrics = fit(TRAINING_EPOCHS, model, constant_lr_scheduler, optimizer, data_loader, nn.CrossEntropyLoss())"
   ]
  },
  {
   "cell_type": "code",
   "execution_count": null,
   "id": "ce2e1c7a",
   "metadata": {},
   "outputs": [
    {
     "data": {
      "text/html": [
       "<div>\n",
       "<style scoped>\n",
       "    .dataframe tbody tr th:only-of-type {\n",
       "        vertical-align: middle;\n",
       "    }\n",
       "\n",
       "    .dataframe tbody tr th {\n",
       "        vertical-align: top;\n",
       "    }\n",
       "\n",
       "    .dataframe thead th {\n",
       "        text-align: right;\n",
       "    }\n",
       "</style>\n",
       "<table border=\"1\" class=\"dataframe\">\n",
       "  <thead>\n",
       "    <tr style=\"text-align: right;\">\n",
       "      <th></th>\n",
       "      <th>step</th>\n",
       "      <th>epoch</th>\n",
       "      <th>batch_train_loss</th>\n",
       "      <th>lr</th>\n",
       "      <th>train_epoch_loss</th>\n",
       "    </tr>\n",
       "  </thead>\n",
       "  <tbody>\n",
       "    <tr>\n",
       "      <th>0</th>\n",
       "      <td>0</td>\n",
       "      <td>0</td>\n",
       "      <td>2.890818</td>\n",
       "      <td>0.001</td>\n",
       "      <td>NaN</td>\n",
       "    </tr>\n",
       "    <tr>\n",
       "      <th>1</th>\n",
       "      <td>1</td>\n",
       "      <td>0</td>\n",
       "      <td>2.873779</td>\n",
       "      <td>0.001</td>\n",
       "      <td>NaN</td>\n",
       "    </tr>\n",
       "    <tr>\n",
       "      <th>2</th>\n",
       "      <td>2</td>\n",
       "      <td>0</td>\n",
       "      <td>2.846834</td>\n",
       "      <td>0.001</td>\n",
       "      <td>NaN</td>\n",
       "    </tr>\n",
       "    <tr>\n",
       "      <th>3</th>\n",
       "      <td>3</td>\n",
       "      <td>0</td>\n",
       "      <td>2.824693</td>\n",
       "      <td>0.001</td>\n",
       "      <td>NaN</td>\n",
       "    </tr>\n",
       "    <tr>\n",
       "      <th>4</th>\n",
       "      <td>4</td>\n",
       "      <td>0</td>\n",
       "      <td>2.907222</td>\n",
       "      <td>0.001</td>\n",
       "      <td>NaN</td>\n",
       "    </tr>\n",
       "    <tr>\n",
       "      <th>...</th>\n",
       "      <td>...</td>\n",
       "      <td>...</td>\n",
       "      <td>...</td>\n",
       "      <td>...</td>\n",
       "      <td>...</td>\n",
       "    </tr>\n",
       "    <tr>\n",
       "      <th>3835</th>\n",
       "      <td>3835</td>\n",
       "      <td>29</td>\n",
       "      <td>2.658956</td>\n",
       "      <td>0.001</td>\n",
       "      <td>NaN</td>\n",
       "    </tr>\n",
       "    <tr>\n",
       "      <th>3836</th>\n",
       "      <td>3836</td>\n",
       "      <td>29</td>\n",
       "      <td>2.715559</td>\n",
       "      <td>0.001</td>\n",
       "      <td>NaN</td>\n",
       "    </tr>\n",
       "    <tr>\n",
       "      <th>3837</th>\n",
       "      <td>3837</td>\n",
       "      <td>29</td>\n",
       "      <td>2.689245</td>\n",
       "      <td>0.001</td>\n",
       "      <td>NaN</td>\n",
       "    </tr>\n",
       "    <tr>\n",
       "      <th>3838</th>\n",
       "      <td>3838</td>\n",
       "      <td>29</td>\n",
       "      <td>2.735331</td>\n",
       "      <td>0.001</td>\n",
       "      <td>NaN</td>\n",
       "    </tr>\n",
       "    <tr>\n",
       "      <th>3839</th>\n",
       "      <td>3839</td>\n",
       "      <td>29</td>\n",
       "      <td>2.871957</td>\n",
       "      <td>0.001</td>\n",
       "      <td>2.697672</td>\n",
       "    </tr>\n",
       "  </tbody>\n",
       "</table>\n",
       "<p>3840 rows × 5 columns</p>\n",
       "</div>"
      ],
      "text/plain": [
       "      step  epoch  batch_train_loss     lr  train_epoch_loss\n",
       "0        0      0          2.890818  0.001               NaN\n",
       "1        1      0          2.873779  0.001               NaN\n",
       "2        2      0          2.846834  0.001               NaN\n",
       "3        3      0          2.824693  0.001               NaN\n",
       "4        4      0          2.907222  0.001               NaN\n",
       "...    ...    ...               ...    ...               ...\n",
       "3835  3835     29          2.658956  0.001               NaN\n",
       "3836  3836     29          2.715559  0.001               NaN\n",
       "3837  3837     29          2.689245  0.001               NaN\n",
       "3838  3838     29          2.735331  0.001               NaN\n",
       "3839  3839     29          2.871957  0.001          2.697672\n",
       "\n",
       "[3840 rows x 5 columns]"
      ]
     },
     "execution_count": 40,
     "metadata": {},
     "output_type": "execute_result"
    }
   ],
   "source": [
    "training_metrics"
   ]
  },
  {
   "cell_type": "code",
   "execution_count": 69,
   "id": "4619c4fe",
   "metadata": {},
   "outputs": [
    {
     "data": {
      "application/vnd.plotly.v1+json": {
       "config": {
        "plotlyServerURL": "https://plot.ly"
       },
       "data": [
        {
         "hovertemplate": "index=%{x}<br>batch_train_loss=%{y}<extra></extra>",
         "legendgroup": "",
         "marker": {
          "color": "#636efa",
          "symbol": "circle"
         },
         "mode": "markers",
         "name": "",
         "orientation": "v",
         "showlegend": false,
         "type": "scatter",
         "x": {
          "bdata": "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",
          "dtype": "i2"
         },
         "xaxis": "x",
         "y": {
          "bdata": "AAAA4F8iB0AAAADgfQQHQAAAAACU8AZAAAAAAFnrBkAAAAAAtvoGQAAAAAD5CQdAAAAAwIkBB0AAAADglscGQAAAAGAK/wZAAAAAAF7jBkAAAABgl9cGQAAAAKD82QZAAAAA4GjoBkAAAADAMfIGQAAAAGD17AZAAAAAYGfeBkAAAACgWAAHQAAAAADv7QZAAAAAgI2/BkAAAADApvMGQAAAAADu3QZAAAAAoJTUBkAAAABAps0GQAAAAMCo8QZAAAAAAMD4BkAAAABAjNAGQAAAAICs5gZAAAAAYDTTBkAAAACAPOAGQAAAACAfyQZAAAAAwMbgBkAAAABg4egGQAAAACDOzgZAAAAAAN/WBkAAAADg19UGQAAAAMDexgZAAAAAIJXQBkAAAAAg47MGQAAAACAgzAZAAAAA4M/ABkAAAADAk9AGQAAAAIDy9QZAAAAAgHmuBkAAAAAAtr0GQAAAAOB4uQZAAAAAgPPfBkAAAAAgAM4GQAAAAMDW3QZAAAAAoLKzBkAAAABgma4GQAAAAADXuQZAAAAAYC/GBkAAAABAXLEGQAAAAGAa0gZAAAAAoP21BkAAAADAD+gGQAAAAGDXjwZAAAAAQALmBkAAAADAe+8GQAAAAIAp4wZAAAAA4CzaBkAAAACATdQGQAAAAMDvzAZAAAAAINbNBkAAAADAyZoGQAAAAKBpyQZAAAAAwDuZBkAAAAAA75MGQAAAAEAltAZAAAAAIB7CBkAAAADg8qcGQAAAAEAIwAZAAAAAoMLQBkAAAADAdaQGQAAAAKC8nAZAAAAAgGy3BkAAAACgqocGQAAAACBXfQZAAAAAwEzXBkAAAABgIJkGQAAAAKBR2wZAAAAAoDepBkAAAACAQ84GQAAAAID/kwZAAAAAYKmaBkAAAACAQ68GQAAAAMDbzwZAAAAAYOlkBkAAAADAoMAGQAAAAICGpAZAAAAAAM+lBkAAAABAaBEHQAAAAMBayAZAAAAAgNmPBkAAAADgC6oGQAAAAKAW3gZAAAAAgLZrBkAAAAAA9HMGQAAAAOCduQZAAAAA4IxqBkAAAACgEJQGQAAAAICongZAAAAAAGhxBkAAAACg9HIGQAAAAMAlrgZAAAAAgKSHBkAAAADA8JwGQAAAAMBdjAZAAAAAgGtxBkAAAAAgq28GQAAAAAC+fwZAAAAAwDewBkAAAACA2oIGQAAAAMAoswZAAAAAAIKtBkAAAAAAWJkGQAAAAAABrQZAAAAAAIpABkAAAAAA4IAGQAAAAACpkQZAAAAAgDOhBkAAAACgTl8GQAAAAEDl3wZAAAAAIMRyBkAAAADAgYYGQAAAAID8iQZAAAAAYDmNBkAAAABAaqMGQAAAAEB/KQZAAAAAgC3ABkAAAADAPEYGQAAAAAAwhQZAAAAA4BhZBkAAAAAgSccGQAAAAOBGigZAAAAAAEeWBkAAAACA7j4GQAAAACDOpAZAAAAAQGemBkAAAACgKj0GQAAAAABzTgZAAAAAQDRDBkAAAAAAknMGQAAAACCETAZAAAAAwDhsBkAAAADAFmoGQAAAACBXOQZAAAAAgH54BkAAAADgzCoGQAAAAEBUjwZAAAAAIDpPBkAAAADAEZsGQAAAAACSgwZAAAAA4NxXBkAAAAAAWpQGQAAAAIAeWQZAAAAAYNexBkAAAACAYVsGQAAAAGBDLgZAAAAAwJGoBkAAAADguCsGQAAAAEB6CgZAAAAAgF8yBkAAAABAERYGQAAAAEArUAZAAAAAQFD/BUAAAAAA0EMGQAAAAAAhRAZAAAAAYHz9BUAAAADghEAGQAAAAACYSQZAAAAAQKkbBkAAAADARAsGQAAAAKDxaQZAAAAAQDYPBkAAAABAeZUGQAAAAKBfEQZAAAAAgKI+BkAAAAAgcG4GQAAAACBS7wVAAAAAIDZSBkAAAABgEygGQAAAAMDQlQZAAAAA4MJxBkAAAACA5kcGQAAAAEA9hgZAAAAAwPZMBkAAAABgoXcGQAAAAABbWQZAAAAAwKl/BkAAAAAAUkgGQAAAAIDapQZAAAAAIHxBBkAAAAAAETMGQAAAAACBPgZAAAAAgIfMBUAAAADAdvgFQAAAAAANaAZAAAAAwFT2BUAAAAAgMwYGQAAAACCTNQZAAAAAAHUbBkAAAAAAkiYGQAAAAEAjFAZAAAAAQMlFBkAAAADAvy0GQAAAAGA/AAZAAAAAIDDwBUAAAAAAsxUGQAAAAGAmJQZAAAAA4MYiBkAAAABAOukFQAAAAAAX0AVAAAAAgHYrBkAAAAAAEFAGQAAAAEDgXQZAAAAAILzrBUAAAADAB3YGQAAAAGCVCgZAAAAAoIIcBkAAAAAAIUUGQAAAAMCIiAZAAAAAID4oBkAAAAAgGyMGQAAAACB/BgZAAAAAgHTcBUAAAACAbfIFQAAAAKAL1wVAAAAAoNrpBUAAAAAgbbAFQAAAAECPTgZAAAAAwC/qBUAAAACAE54FQAAAAEAdDQZAAAAAgN32BUAAAACAW8gFQAAAAECf3gVAAAAA4BYHBkAAAADApPoFQAAAAMBn4gVAAAAAANjrBUAAAABALQcGQAAAAOAY3wVAAAAAICHRBUAAAAAAjYoFQAAAAEBY0AVAAAAA4C7GBUAAAABA3KYFQAAAAKD/LQZAAAAAYMc7BkAAAABAYz8GQAAAAICpEgZAAAAA4DdjBkAAAAAASagFQAAAAEDgHAZAAAAA4OoXBkAAAACg7k8FQAAAAOCQCAZAAAAA4PKgBUAAAADAh1gFQAAAAGByuQVAAAAAACrWBUAAAACg27oFQAAAAADYWwVAAAAAQB2sBUAAAABA1aEFQAAAAIDMvQVAAAAA4FQMBkAAAABAW+4FQAAAAEDWEQZAAAAAQML2BUAAAACAVyAGQAAAAKAfswVAAAAAQI9DBkAAAADgifkFQAAAACCq9wVAAAAAwB6IBUAAAAAgXZ0FQAAAAKBG+wVAAAAAIPErBkAAAACA5NwFQAAAAEBRAwZAAAAAgI2YBUAAAADgx+UFQAAAAOCYzQVAAAAAYFHqBUAAAABAo/YFQAAAAACV9QVAAAAAQECGBUAAAACAfcUFQAAAAIBOlAVAAAAAoDCfBUAAAABgm6wFQAAAAADPZgVAAAAA4CAxBUAAAABgu54FQAAAACCvrwVAAAAAwOJwBUAAAADAU+QFQAAAAAC8JQVAAAAAQIuHBUAAAAAAH4QFQAAAAIC8kgVAAAAAIF/7BUAAAACg+wIGQAAAAACCtwVAAAAAwCxlBUAAAAAgtZoFQAAAAAAdNgVAAAAAAMrPBUAAAAAgJ6YFQAAAAIAxxgVAAAAAgHifBUAAAAAgnsEFQAAAAABPsQVAAAAAoCleBUAAAACgoLIFQAAAACDWwwVAAAAAIOGnBUAAAABgggMGQAAAAGDmSQVAAAAAYEHXBUAAAABASrYFQAAAAKAKVQVAAAAAILFMBUAAAADA54AFQAAAAADVcwVAAAAAwEFvBUAAAACAkn4FQAAAAACIeAVAAAAAgMl1BUAAAACA1IIFQAAAAACHhAVAAAAAAPRdBUAAAACgJGwFQAAAAEC0WQVAAAAAQPKoBUAAAACgBl4FQAAAAAC3xAVAAAAAYAiVBUAAAADAgn8FQAAAAMC3mQVAAAAAQJFvBUAAAADgMLAFQAAAAGAAtgVAAAAAwD6GBUAAAAAA0a4FQAAAAIDOfAVAAAAAgIS2BUAAAAAAvaYFQAAAAMDmWwVAAAAAQJyvBUAAAADgJ2gFQAAAAODVXQVAAAAAYK1aBUAAAADApUIFQAAAAEDOOQVAAAAAILBlBUAAAADApU8FQAAAAODRowVAAAAAAAClBUAAAABAqh4FQAAAAIBHzAVAAAAAwIxoBUAAAABg3E0FQAAAAOCFBQVAAAAAYH+GBUAAAADA3GIFQAAAAIAGagVAAAAAALF9BUAAAADgOUwFQAAAAICtkQVAAAAAgP8/BUAAAAAgvv0EQAAAAECqRAVAAAAAQDw1BUAAAACAb40FQAAAAECnDAVAAAAAoHdtBUAAAAAgj2IFQAAAAMCMhQVAAAAAoF9FBUAAAAAASDwFQAAAAEC+ZgVAAAAAgJguBUAAAACARakFQAAAAIAsvQRAAAAAoB50BUAAAAAAISwFQAAAAKDZWwVAAAAAYClQBUAAAACAukcFQAAAACBJQwVAAAAAQFwjBUAAAACgKkIFQAAAAID09ARAAAAAwFljBUAAAADAQkUFQAAAAGAafAVAAAAAgNImBUAAAACAaGEFQAAAAKAwXgVAAAAAYH9vBUAAAADgbzAFQAAAAECdawVAAAAAIGBEBUAAAACAD1wFQAAAAIAx6ARAAAAAABD4BEAAAADADkkFQAAAAICqdAVAAAAAAIGJBUAAAADAsCgFQAAAAKBRLwVAAAAAwFddBUAAAAAgNfwEQAAAAACv0ARAAAAAgAshBUAAAACAr5sFQAAAAECPNgVAAAAA4INFBUAAAACgD+wEQAAAAEAw+gRAAAAAQPInBUAAAABgtyYFQAAAAEBIUgVAAAAAoA5rBUAAAADAhxwFQAAAAOBcQwVAAAAAgM7oBEAAAADAWgQFQAAAAMBoRAVAAAAAQMUtBUAAAADgXrEEQAAAAACJ4QRAAAAAoDdsBUAAAADAJ0gFQAAAAMC3PQVAAAAAgCtLBUAAAACgUEIFQAAAAGDM3ARAAAAAAMMYBUAAAABAgSMFQAAAAAA0AAVAAAAAgMMIBUAAAADgZRAFQAAAAOBy4ARAAAAAgFABBUAAAABARsMEQAAAAKDYRwVAAAAAYLsNBUAAAABA5vIEQAAAAABcEAVAAAAAYI/MBEAAAACgwwkFQAAAAOAsFwVAAAAAwIksBUAAAAAA6SAFQAAAAIAd/gRAAAAAgBUqBUAAAABgGPAEQAAAACBmkARAAAAAgPirBEAAAAAAExsFQAAAAEBcbQRAAAAA4DwMBUAAAABADrYEQAAAAMA9UAVAAAAAoB/RBEAAAADAoekEQAAAAICXSwVAAAAAANBwBUAAAAAAB9cEQAAAAEBPewVAAAAAYPY3BUAAAADgW0QFQAAAAMBR9ARAAAAAwIHkBEAAAADgEi0FQAAAAOBBqQRAAAAAwCf3BEAAAAAgy+oEQAAAACB5LAVAAAAAgOu3BEAAAABAoJcEQAAAAIBr1gRAAAAAAAJ0BUAAAAAgF4wEQAAAAOCRxgRAAAAAwDq5BEAAAADgzqoEQAAAAABBNAVAAAAAgFPsBEAAAABg9vUEQAAAAMDN8wRAAAAAgHQaBUAAAADAZ3cFQAAAAKC3/wRAAAAAwAArBUAAAACADUAFQAAAACB+EQVAAAAAYGULBUAAAAAg0AQFQAAAAOB42ARAAAAAgDyFBEAAAABgB6kEQAAAAGBVFQVAAAAAoLcXBUAAAABAtbEEQAAAAMBxvwRAAAAAwGSkBEAAAABgO/kEQAAAAMBDlQRAAAAAAHrfBEAAAADA5mUEQAAAAIB4qQRAAAAA4G2EBEAAAAAAPj0FQAAAACCv8wRAAAAAgIyvBEAAAAAgfVIEQAAAAAAVzgRAAAAAIGmhBEAAAAAgUqgEQAAAAMCpuQRAAAAA4I4rBUAAAAAgPfkEQAAAAACw9QRAAAAAwCpeBEAAAABAtoAEQAAAAID8dgRAAAAAIEzABEAAAACgD80EQAAAAKCBFAVAAAAA4I/5BEAAAACAOSgFQAAAAAC9FQVAAAAAgKPfBEAAAAAAP/wEQAAAAED4BQVAAAAAgP4bBUAAAACgkxYFQAAAAGCYMAVAAAAAoO5RBUAAAACglqkEQAAAACDa2wRAAAAAoIEZBEAAAABACX0EQAAAAED3WgRAAAAAINGzBEAAAABgB/QEQAAAAEC5WwRAAAAAAGkSBUAAAACgpZkEQAAAAOBhwgRAAAAAgIZaBEAAAAAgUAIFQAAAACBMygRAAAAAQBbpBEAAAADgn64EQAAAACAEJQVAAAAAIEHPBEAAAAAgf9IEQAAAAKBnlgRAAAAAAADpBEAAAADgXr8EQAAAAIBavQRAAAAAgNatBEAAAAAgSxcFQAAAAEAg/QRAAAAAACnZBEAAAADg+AkFQAAAAGDy2gRAAAAAoPCdBEAAAABA0TMFQAAAAMA8vwRAAAAAoAyMBEAAAABAL6cEQAAAACC20ARAAAAAwOeXBEAAAADAzuQEQAAAAICmagRAAAAAoAhcBEAAAACAnP8EQAAAAECTugRAAAAAAHJ0BEAAAADAKeEEQAAAAEDtVARAAAAAQChwBEAAAACAMuoEQAAAAIDD0wRAAAAAANitBEAAAADAA+EEQAAAAICf1gRAAAAAIMDYBEAAAACA9vgEQAAAAEC0mARAAAAAoEyUBEAAAAAAGl4EQAAAAEB0vARAAAAAAC7/BEAAAADAqg0FQAAAAKBh1wRAAAAAgGnABEAAAABA2PQEQAAAAKA8oARAAAAAwGadBEAAAAAgcaEEQAAAAMBiYQRAAAAAYDxnBEAAAACgLKUEQAAAAABZZARAAAAAwK2mBEAAAAAgI2MEQAAAAID6TgRAAAAAAIOBBEAAAACABaAEQAAAAIBKrARAAAAAYCy+BEAAAAAAkNAEQAAAACD3eARAAAAAIBLHBEAAAADgCcEEQAAAAACAywRAAAAAYCODBEAAAABgJ7YEQAAAAMDMfQRAAAAAQNVkBEAAAAAA/7kEQAAAAID2zwRAAAAA4PHuBEAAAACA2psEQAAAAIB1qwRAAAAAYBSsBEAAAAAgx1QEQAAAAKCd2wRAAAAAAAPcBEAAAABAF84EQAAAAIBNVgRAAAAAQHuyBEAAAAAAlYYEQAAAAMD0bARAAAAAQAxGBEAAAABA7VgEQAAAAABuPwRAAAAAYACYBEAAAAAgH34EQAAAAEClcARAAAAAYNPGBEAAAACATlYEQAAAAECiUARAAAAAAMdpBEAAAACAMb8EQAAAAKAxUQRAAAAAwNTIBEAAAABgFGsEQAAAAODaVARAAAAAAGpRBEAAAABgTrYEQAAAAIAtdgRAAAAAIKwVBEAAAADA+qIEQAAAACDMDAVAAAAAoJubBEAAAACgtocEQAAAACCmTgRAAAAAYJ6VBEAAAAAAXsgEQAAAAID7lwRAAAAAoDwYBEAAAAAggc0EQAAAAKDTzARAAAAAQC4/BEAAAADAJVgEQAAAAEAZWQRAAAAAAKQqBEAAAABgh2gEQAAAAKDBzQRAAAAAoAtpBEAAAAAAomoEQAAAAOBigARAAAAAgC4/BEAAAABgMVIEQAAAACBoiwRAAAAAwPxEBEAAAAAA+RoEQAAAACArNwRAAAAAwOt5BEAAAAAAj5IEQAAAAACvfgRAAAAAwKD+A0AAAADA2jwEQAAAACAVZQRAAAAAALzZBEAAAACA4GAEQAAAAODsYgRAAAAAYIsfBEAAAACgJUEEQAAAAIBjegRAAAAAgClgBEAAAADAmoEEQAAAAOBcmQRAAAAAgL2iBEAAAACgfqkEQAAAAKBYbgRAAAAAoLA6BEAAAACAlWQEQAAAAKCxaARAAAAAAGAZBEAAAADgW30EQAAAAMDxVARAAAAAwAloBEAAAAAAbEYEQAAAAADJGARAAAAAwAxqBEAAAABgltYEQAAAAMCM/ANAAAAAYB0/BEAAAACAjRgEQAAAAEDCaQRAAAAA4CRSBEAAAAAAnG0EQAAAAGAlbwRAAAAAwINEBEAAAACA10cEQAAAAMAImARAAAAAgH9gBEAAAADAJokEQAAAAMDSSwRAAAAAYJVIBEAAAABAmrIEQAAAACCi9gNAAAAAYI2OBEAAAAAg0mkEQAAAAODRWARAAAAAIMKBBEAAAACgCMUEQAAAAICBJARAAAAAQPU0BEAAAACgXCgEQAAAAEAUMQRAAAAAAODqA0AAAADgDWgEQAAAAABLjwRAAAAAQI1HBEAAAACgyi0EQAAAAMAVNARAAAAAIONHBEAAAAAAouEDQAAAAABhVARAAAAAICCLBEAAAADACyYEQAAAACCLLgRAAAAAALYgBEAAAABgwmsEQAAAAOD2XQRAAAAA4JhNBEAAAADgeTYEQAAAAAAxMQRAAAAAAEiZBEAAAAAA1lEEQAAAAGDCDQRAAAAAAFU2BEAAAAAgkmUEQAAAAEAGGQRAAAAAAChxBEAAAABg9ogEQAAAACBWhwRAAAAAAGpPBEAAAACgfyEEQAAAAKAaVQRAAAAAQN32A0AAAAAgOj0EQAAAAKCPaARAAAAAAHB7A0AAAADgAmUEQAAAAABJ+ANAAAAAwMY/BEAAAAAgTcsEQAAAAEAcVwRAAAAAoKP3A0AAAADgL+8DQAAAAOD2rQNAAAAAYEHdA0AAAAAAwAMEQAAAAIC3TQRAAAAAwPlyBEAAAAAgEE8EQAAAAOAAiwRAAAAAgJ9mBEAAAAAAcn4EQAAAAGC9IARAAAAAYPkgBEAAAADAyhkEQAAAAGDnWgRAAAAAoHIwBEAAAABA+4gEQAAAAAC6vQNAAAAAAIj+A0AAAABglkUEQAAAAGASwANAAAAAgH39A0AAAACgDUIEQAAAAEAKFgRAAAAAQGooBEAAAADAaAQEQAAAAIBLJQRAAAAAYFI7BEAAAABgbGYEQAAAAKDxSQRAAAAAQFH2A0AAAACAUFsEQAAAAICLyQNAAAAAQCv7A0AAAADgSaIDQAAAAEDSJARAAAAAwCqnBEAAAACgktwDQAAAAABamARAAAAA4N2dA0AAAAAAtu0DQAAAAIAEgwRAAAAAQGBSBEAAAADgPl8EQAAAAABWXQRAAAAAQP5FBEAAAACgeEwEQAAAAMCWTgRAAAAAYODlA0AAAABA/hcEQAAAAMB5DgRAAAAAgGdTBEAAAABAEdwDQAAAAMBydARAAAAAIIIMBEAAAACAYPADQAAAAICscQRAAAAAwHoMBEAAAAAgZdoDQAAAAEAmJgRAAAAAQOXwA0AAAABgTxoEQAAAAMCXNgRAAAAA4GD9A0AAAADA1iMEQAAAAEDy5QNAAAAA4MgBBEAAAABAGB0EQAAAAODHuQNAAAAAAMZmBEAAAACA0mgEQAAAAGA2gQNAAAAAoNhBBEAAAAAAkcEDQAAAACBdIwRAAAAAQN3iA0AAAACA6EQEQAAAAIBYGARAAAAAYAgaBEAAAACAdFsEQAAAAMDMSgRAAAAAAOoGBEAAAABADzwEQAAAAIBsZgRAAAAAQIPhA0AAAAAAS9QDQAAAAMBTCgRAAAAAYJ+zA0AAAAAAa8QDQAAAAOCmHgRAAAAAAB1yBEAAAAAA2fcDQAAAAACdAARAAAAAAPK3A0AAAAAg/PQDQAAAAKAxJwRAAAAAwLO9A0AAAADgyw0EQAAAAEBG2wNAAAAA4NTuA0AAAAAAKyUEQAAAACCzaQRAAAAAgKNOBEAAAABAPeEDQAAAAKDafARAAAAAoHI2BEAAAACANSAEQAAAAKAKPARAAAAAAGI9BEAAAACAtAsEQAAAAAC+VgRAAAAAAOr7A0AAAADAWucDQAAAAMCaSgRAAAAAQLNPBEAAAAAAneEDQAAAAIAacANAAAAAIAo6BEAAAAAALyAEQAAAAOD5FwRAAAAAQAQABEAAAADg9WMEQAAAAKB1GARAAAAAoFQ5BEAAAADAMa8DQAAAAMC81wNAAAAAYNMpBEAAAABgePwDQAAAACAPAQRAAAAAIIp0A0AAAAAAID8EQAAAAKCIPwRAAAAAwOcbBEAAAABAuBIEQAAAAEASrQNAAAAAYAesA0AAAAAAx5gEQAAAAAC16QNAAAAA4JNEBEAAAAAAfzQEQAAAAEBPdgRAAAAAwCj1A0AAAABA5iAEQAAAACAVrANAAAAAgNP7A0AAAACgtr4DQAAAAGBLvgNAAAAAQPmSBEAAAADgdc8DQAAAAIBJ9QNAAAAAoCb2A0AAAACgzaEDQAAAAECIFARAAAAA4HPZA0AAAADgzLMDQAAAAOC8MQRAAAAAILqHA0AAAACAReIDQAAAAICUCARAAAAAQEjQA0AAAABg8PMDQAAAAODTywNAAAAAQBdmBEAAAABAzdcDQAAAAGCZ9wNAAAAAIDclBEAAAACgC+QDQAAAAKDuZwNAAAAAgNM2BEAAAABAPj4EQAAAAGCD3QNAAAAAACrZA0AAAAAgx1wEQAAAAKCF8QNAAAAAINEzBEAAAABAwxUEQAAAAGB/TgRAAAAAoAkOBEAAAABg1hkEQAAAAAAl2QNA",
          "dtype": "f8"
         },
         "yaxis": "y"
        },
        {
         "hovertemplate": "<b>Exponentially Weighted mean trendline</b><br><br>index=%{x}<br>batch_train_loss=%{y} <b>(trend)</b><extra></extra>",
         "legendgroup": "",
         "line": {
          "color": "red"
         },
         "marker": {
          "color": "#636efa",
          "symbol": "circle"
         },
         "mode": "lines",
         "name": "",
         "showlegend": false,
         "type": "scatter",
         "x": {
          "bdata": "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",
          "dtype": "i2"
         },
         "xaxis": "x",
         "y": {
          "bdata": "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",
          "dtype": "f8"
         },
         "yaxis": "y"
        }
       ],
       "layout": {
        "legend": {
         "tracegroupgap": 0
        },
        "margin": {
         "t": 60
        },
        "template": {
         "data": {
          "bar": [
           {
            "error_x": {
             "color": "#2a3f5f"
            },
            "error_y": {
             "color": "#2a3f5f"
            },
            "marker": {
             "line": {
              "color": "#E5ECF6",
              "width": 0.5
             },
             "pattern": {
              "fillmode": "overlay",
              "size": 10,
              "solidity": 0.2
             }
            },
            "type": "bar"
           }
          ],
          "barpolar": [
           {
            "marker": {
             "line": {
              "color": "#E5ECF6",
              "width": 0.5
             },
             "pattern": {
              "fillmode": "overlay",
              "size": 10,
              "solidity": 0.2
             }
            },
            "type": "barpolar"
           }
          ],
          "carpet": [
           {
            "aaxis": {
             "endlinecolor": "#2a3f5f",
             "gridcolor": "white",
             "linecolor": "white",
             "minorgridcolor": "white",
             "startlinecolor": "#2a3f5f"
            },
            "baxis": {
             "endlinecolor": "#2a3f5f",
             "gridcolor": "white",
             "linecolor": "white",
             "minorgridcolor": "white",
             "startlinecolor": "#2a3f5f"
            },
            "type": "carpet"
           }
          ],
          "choropleth": [
           {
            "colorbar": {
             "outlinewidth": 0,
             "ticks": ""
            },
            "type": "choropleth"
           }
          ],
          "contour": [
           {
            "colorbar": {
             "outlinewidth": 0,
             "ticks": ""
            },
            "colorscale": [
             [
              0,
              "#0d0887"
             ],
             [
              0.1111111111111111,
              "#46039f"
             ],
             [
              0.2222222222222222,
              "#7201a8"
             ],
             [
              0.3333333333333333,
              "#9c179e"
             ],
             [
              0.4444444444444444,
              "#bd3786"
             ],
             [
              0.5555555555555556,
              "#d8576b"
             ],
             [
              0.6666666666666666,
              "#ed7953"
             ],
             [
              0.7777777777777778,
              "#fb9f3a"
             ],
             [
              0.8888888888888888,
              "#fdca26"
             ],
             [
              1,
              "#f0f921"
             ]
            ],
            "type": "contour"
           }
          ],
          "contourcarpet": [
           {
            "colorbar": {
             "outlinewidth": 0,
             "ticks": ""
            },
            "type": "contourcarpet"
           }
          ],
          "heatmap": [
           {
            "colorbar": {
             "outlinewidth": 0,
             "ticks": ""
            },
            "colorscale": [
             [
              0,
              "#0d0887"
             ],
             [
              0.1111111111111111,
              "#46039f"
             ],
             [
              0.2222222222222222,
              "#7201a8"
             ],
             [
              0.3333333333333333,
              "#9c179e"
             ],
             [
              0.4444444444444444,
              "#bd3786"
             ],
             [
              0.5555555555555556,
              "#d8576b"
             ],
             [
              0.6666666666666666,
              "#ed7953"
             ],
             [
              0.7777777777777778,
              "#fb9f3a"
             ],
             [
              0.8888888888888888,
              "#fdca26"
             ],
             [
              1,
              "#f0f921"
             ]
            ],
            "type": "heatmap"
           }
          ],
          "histogram": [
           {
            "marker": {
             "pattern": {
              "fillmode": "overlay",
              "size": 10,
              "solidity": 0.2
             }
            },
            "type": "histogram"
           }
          ],
          "histogram2d": [
           {
            "colorbar": {
             "outlinewidth": 0,
             "ticks": ""
            },
            "colorscale": [
             [
              0,
              "#0d0887"
             ],
             [
              0.1111111111111111,
              "#46039f"
             ],
             [
              0.2222222222222222,
              "#7201a8"
             ],
             [
              0.3333333333333333,
              "#9c179e"
             ],
             [
              0.4444444444444444,
              "#bd3786"
             ],
             [
              0.5555555555555556,
              "#d8576b"
             ],
             [
              0.6666666666666666,
              "#ed7953"
             ],
             [
              0.7777777777777778,
              "#fb9f3a"
             ],
             [
              0.8888888888888888,
              "#fdca26"
             ],
             [
              1,
              "#f0f921"
             ]
            ],
            "type": "histogram2d"
           }
          ],
          "histogram2dcontour": [
           {
            "colorbar": {
             "outlinewidth": 0,
             "ticks": ""
            },
            "colorscale": [
             [
              0,
              "#0d0887"
             ],
             [
              0.1111111111111111,
              "#46039f"
             ],
             [
              0.2222222222222222,
              "#7201a8"
             ],
             [
              0.3333333333333333,
              "#9c179e"
             ],
             [
              0.4444444444444444,
              "#bd3786"
             ],
             [
              0.5555555555555556,
              "#d8576b"
             ],
             [
              0.6666666666666666,
              "#ed7953"
             ],
             [
              0.7777777777777778,
              "#fb9f3a"
             ],
             [
              0.8888888888888888,
              "#fdca26"
             ],
             [
              1,
              "#f0f921"
             ]
            ],
            "type": "histogram2dcontour"
           }
          ],
          "mesh3d": [
           {
            "colorbar": {
             "outlinewidth": 0,
             "ticks": ""
            },
            "type": "mesh3d"
           }
          ],
          "parcoords": [
           {
            "line": {
             "colorbar": {
              "outlinewidth": 0,
              "ticks": ""
             }
            },
            "type": "parcoords"
           }
          ],
          "pie": [
           {
            "automargin": true,
            "type": "pie"
           }
          ],
          "scatter": [
           {
            "fillpattern": {
             "fillmode": "overlay",
             "size": 10,
             "solidity": 0.2
            },
            "type": "scatter"
           }
          ],
          "scatter3d": [
           {
            "line": {
             "colorbar": {
              "outlinewidth": 0,
              "ticks": ""
             }
            },
            "marker": {
             "colorbar": {
              "outlinewidth": 0,
              "ticks": ""
             }
            },
            "type": "scatter3d"
           }
          ],
          "scattercarpet": [
           {
            "marker": {
             "colorbar": {
              "outlinewidth": 0,
              "ticks": ""
             }
            },
            "type": "scattercarpet"
           }
          ],
          "scattergeo": [
           {
            "marker": {
             "colorbar": {
              "outlinewidth": 0,
              "ticks": ""
             }
            },
            "type": "scattergeo"
           }
          ],
          "scattergl": [
           {
            "marker": {
             "colorbar": {
              "outlinewidth": 0,
              "ticks": ""
             }
            },
            "type": "scattergl"
           }
          ],
          "scattermap": [
           {
            "marker": {
             "colorbar": {
              "outlinewidth": 0,
              "ticks": ""
             }
            },
            "type": "scattermap"
           }
          ],
          "scattermapbox": [
           {
            "marker": {
             "colorbar": {
              "outlinewidth": 0,
              "ticks": ""
             }
            },
            "type": "scattermapbox"
           }
          ],
          "scatterpolar": [
           {
            "marker": {
             "colorbar": {
              "outlinewidth": 0,
              "ticks": ""
             }
            },
            "type": "scatterpolar"
           }
          ],
          "scatterpolargl": [
           {
            "marker": {
             "colorbar": {
              "outlinewidth": 0,
              "ticks": ""
             }
            },
            "type": "scatterpolargl"
           }
          ],
          "scatterternary": [
           {
            "marker": {
             "colorbar": {
              "outlinewidth": 0,
              "ticks": ""
             }
            },
            "type": "scatterternary"
           }
          ],
          "surface": [
           {
            "colorbar": {
             "outlinewidth": 0,
             "ticks": ""
            },
            "colorscale": [
             [
              0,
              "#0d0887"
             ],
             [
              0.1111111111111111,
              "#46039f"
             ],
             [
              0.2222222222222222,
              "#7201a8"
             ],
             [
              0.3333333333333333,
              "#9c179e"
             ],
             [
              0.4444444444444444,
              "#bd3786"
             ],
             [
              0.5555555555555556,
              "#d8576b"
             ],
             [
              0.6666666666666666,
              "#ed7953"
             ],
             [
              0.7777777777777778,
              "#fb9f3a"
             ],
             [
              0.8888888888888888,
              "#fdca26"
             ],
             [
              1,
              "#f0f921"
             ]
            ],
            "type": "surface"
           }
          ],
          "table": [
           {
            "cells": {
             "fill": {
              "color": "#EBF0F8"
             },
             "line": {
              "color": "white"
             }
            },
            "header": {
             "fill": {
              "color": "#C8D4E3"
             },
             "line": {
              "color": "white"
             }
            },
            "type": "table"
           }
          ]
         },
         "layout": {
          "annotationdefaults": {
           "arrowcolor": "#2a3f5f",
           "arrowhead": 0,
           "arrowwidth": 1
          },
          "autotypenumbers": "strict",
          "coloraxis": {
           "colorbar": {
            "outlinewidth": 0,
            "ticks": ""
           }
          },
          "colorscale": {
           "diverging": [
            [
             0,
             "#8e0152"
            ],
            [
             0.1,
             "#c51b7d"
            ],
            [
             0.2,
             "#de77ae"
            ],
            [
             0.3,
             "#f1b6da"
            ],
            [
             0.4,
             "#fde0ef"
            ],
            [
             0.5,
             "#f7f7f7"
            ],
            [
             0.6,
             "#e6f5d0"
            ],
            [
             0.7,
             "#b8e186"
            ],
            [
             0.8,
             "#7fbc41"
            ],
            [
             0.9,
             "#4d9221"
            ],
            [
             1,
             "#276419"
            ]
           ],
           "sequential": [
            [
             0,
             "#0d0887"
            ],
            [
             0.1111111111111111,
             "#46039f"
            ],
            [
             0.2222222222222222,
             "#7201a8"
            ],
            [
             0.3333333333333333,
             "#9c179e"
            ],
            [
             0.4444444444444444,
             "#bd3786"
            ],
            [
             0.5555555555555556,
             "#d8576b"
            ],
            [
             0.6666666666666666,
             "#ed7953"
            ],
            [
             0.7777777777777778,
             "#fb9f3a"
            ],
            [
             0.8888888888888888,
             "#fdca26"
            ],
            [
             1,
             "#f0f921"
            ]
           ],
           "sequentialminus": [
            [
             0,
             "#0d0887"
            ],
            [
             0.1111111111111111,
             "#46039f"
            ],
            [
             0.2222222222222222,
             "#7201a8"
            ],
            [
             0.3333333333333333,
             "#9c179e"
            ],
            [
             0.4444444444444444,
             "#bd3786"
            ],
            [
             0.5555555555555556,
             "#d8576b"
            ],
            [
             0.6666666666666666,
             "#ed7953"
            ],
            [
             0.7777777777777778,
             "#fb9f3a"
            ],
            [
             0.8888888888888888,
             "#fdca26"
            ],
            [
             1,
             "#f0f921"
            ]
           ]
          },
          "colorway": [
           "#636efa",
           "#EF553B",
           "#00cc96",
           "#ab63fa",
           "#FFA15A",
           "#19d3f3",
           "#FF6692",
           "#B6E880",
           "#FF97FF",
           "#FECB52"
          ],
          "font": {
           "color": "#2a3f5f"
          },
          "geo": {
           "bgcolor": "white",
           "lakecolor": "white",
           "landcolor": "#E5ECF6",
           "showlakes": true,
           "showland": true,
           "subunitcolor": "white"
          },
          "hoverlabel": {
           "align": "left"
          },
          "hovermode": "closest",
          "mapbox": {
           "style": "light"
          },
          "paper_bgcolor": "white",
          "plot_bgcolor": "#E5ECF6",
          "polar": {
           "angularaxis": {
            "gridcolor": "white",
            "linecolor": "white",
            "ticks": ""
           },
           "bgcolor": "#E5ECF6",
           "radialaxis": {
            "gridcolor": "white",
            "linecolor": "white",
            "ticks": ""
           }
          },
          "scene": {
           "xaxis": {
            "backgroundcolor": "#E5ECF6",
            "gridcolor": "white",
            "gridwidth": 2,
            "linecolor": "white",
            "showbackground": true,
            "ticks": "",
            "zerolinecolor": "white"
           },
           "yaxis": {
            "backgroundcolor": "#E5ECF6",
            "gridcolor": "white",
            "gridwidth": 2,
            "linecolor": "white",
            "showbackground": true,
            "ticks": "",
            "zerolinecolor": "white"
           },
           "zaxis": {
            "backgroundcolor": "#E5ECF6",
            "gridcolor": "white",
            "gridwidth": 2,
            "linecolor": "white",
            "showbackground": true,
            "ticks": "",
            "zerolinecolor": "white"
           }
          },
          "shapedefaults": {
           "line": {
            "color": "#2a3f5f"
           }
          },
          "ternary": {
           "aaxis": {
            "gridcolor": "white",
            "linecolor": "white",
            "ticks": ""
           },
           "baxis": {
            "gridcolor": "white",
            "linecolor": "white",
            "ticks": ""
           },
           "bgcolor": "#E5ECF6",
           "caxis": {
            "gridcolor": "white",
            "linecolor": "white",
            "ticks": ""
           }
          },
          "title": {
           "x": 0.05
          },
          "xaxis": {
           "automargin": true,
           "gridcolor": "white",
           "linecolor": "white",
           "ticks": "",
           "title": {
            "standoff": 15
           },
           "zerolinecolor": "white",
           "zerolinewidth": 2
          },
          "yaxis": {
           "automargin": true,
           "gridcolor": "white",
           "linecolor": "white",
           "ticks": "",
           "title": {
            "standoff": 15
           },
           "zerolinecolor": "white",
           "zerolinewidth": 2
          }
         }
        },
        "xaxis": {
         "anchor": "y",
         "domain": [
          0,
          1
         ],
         "title": {
          "text": "index"
         }
        },
        "yaxis": {
         "anchor": "x",
         "domain": [
          0,
          1
         ],
         "title": {
          "text": "batch_train_loss"
         }
        }
       }
      }
     },
     "metadata": {},
     "output_type": "display_data"
    }
   ],
   "source": [
    "import plotly.express as px\n",
    "\n",
    "px.scatter(training_metrics, y=\"batch_train_loss\", trendline=\"ewm\", trendline_options={\"com\":60}, trendline_color_override=\"red\")"
   ]
  }
 ],
 "metadata": {
  "kernelspec": {
   "display_name": "CMI",
   "language": "python",
   "name": "python3"
  },
  "language_info": {
   "codemirror_mode": {
    "name": "ipython",
    "version": 3
   },
   "file_extension": ".py",
   "mimetype": "text/x-python",
   "name": "python",
   "nbconvert_exporter": "python",
   "pygments_lexer": "ipython3",
   "version": "3.11.5"
  }
 },
 "nbformat": 4,
 "nbformat_minor": 5
}
