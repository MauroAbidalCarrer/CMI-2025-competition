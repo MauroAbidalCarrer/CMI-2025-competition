{
 "cells": [
  {
   "cell_type": "markdown",
   "id": "53d41434",
   "metadata": {},
   "source": [
    "# Training model\n",
    "The goal of this notebook is to train a model and upload it to kaggle."
   ]
  },
  {
   "cell_type": "markdown",
   "id": "dc4c23f0",
   "metadata": {},
   "source": [
    "## Imports"
   ]
  },
  {
   "cell_type": "code",
   "execution_count": 3,
   "id": "66f429fe",
   "metadata": {},
   "outputs": [],
   "source": [
    "from os.path import join\n",
    "from typing import Optional\n",
    "\n",
    "import torch\n",
    "import numpy as np\n",
    "from torch import nn, Tensor\n",
    "from kagglehub import dataset_download\n",
    "from torch.utils.data import Dataset, DataLoader"
   ]
  },
  {
   "cell_type": "code",
   "execution_count": 34,
   "id": "e46c3b4e",
   "metadata": {},
   "outputs": [],
   "source": [
    "# TODO: Switch to TensorDataset w/ cross validation splits\n",
    "class CMIDataset(Dataset):\n",
    "    def __init__(self, use_agg_tof:bool, subset:Optional[int]=None, force_download=False):\n",
    "        super().__init__()\n",
    "        dataset_path = dataset_download(\"mauroabidalcarrer/prepocessed-cmi-2025\", force_download=force_download)\n",
    "        x_path  = join(dataset_path, \"tof_meaned_X.npy\" if use_agg_tof else \"X.npy\")\n",
    "        self.x = np.load(x_path, mmap_mode=\"r\").swapaxes(1, 2)\n",
    "        self.y = np.load(join(dataset_path, \"Y.npy\"), mmap_mode=\"r\")\n",
    "        if subset is not None:\n",
    "            self.x = self.x[:subset]\n",
    "            self.y = self.y[:subset]\n",
    "\n",
    "    def __len__(self):\n",
    "        return len(self.x)\n",
    "\n",
    "    def __getitem__(self, idx):\n",
    "        return self.x[idx].copy(), self.y[idx].copy()\n",
    "    \n",
    "dataset = CMIDataset(100, force_download=False)\n",
    "data_loader = DataLoader(dataset, 64, shuffle=True)"
   ]
  },
  {
   "cell_type": "code",
   "execution_count": 27,
   "id": "5ecc32a1",
   "metadata": {},
   "outputs": [],
   "source": [
    "from itertools import pairwise\n",
    "\n",
    "class ResidualBlock(nn.Module):\n",
    "    def __init__(self, in_chns:int, out_chns:int):\n",
    "        super().__init__()\n",
    "        self.blocks = nn.Sequential(\n",
    "            nn.Conv1d(in_chns, out_chns, kernel_size=3, padding=1),\n",
    "            nn.BatchNorm1d(out_chns),\n",
    "            nn.ReLU(),\n",
    "            nn.Conv1d(out_chns, out_chns, kernel_size=3, padding=1),\n",
    "            nn.BatchNorm1d(out_chns),\n",
    "        )\n",
    "        if in_chns == out_chns:\n",
    "            self.skip_connection = nn.Identity() \n",
    "        else:\n",
    "            # TODO: set bias to False ?\n",
    "            self.skip_connection = nn.Sequential(\n",
    "                nn.Conv1d(in_chns, out_chns, 1),\n",
    "                nn.BatchNorm1d(out_chns)\n",
    "            )\n",
    "\n",
    "    def forward(self, x:Tensor) -> Tensor:\n",
    "        activaition_maps = self.skip_connection(x) + self.blocks(x)\n",
    "        return nn.functional.relu(activaition_maps)\n",
    "\n",
    "class Resnet(nn.Module):\n",
    "    def __init__(\n",
    "            self,\n",
    "            in_channels:int,\n",
    "            depth:int,\n",
    "            # n_res_block_per_depth:int,\n",
    "            hidden_mlp_width:int,\n",
    "            n_class:int,\n",
    "        ):\n",
    "        super().__init__()\n",
    "        chs_per_depth = [in_channels * 2 ** i for i in range(depth)]\n",
    "        blocks_chns_it = pairwise(chs_per_depth)\n",
    "        self.res_blocks = [ResidualBlock(in_chns, out_chns) for in_chns, out_chns in blocks_chns_it]\n",
    "        self.res_blocks = nn.ModuleList(self.res_blocks)\n",
    "        self.mlp_head = nn.Sequential(\n",
    "            nn.LazyLinear(hidden_mlp_width),\n",
    "            nn.ReLU(),\n",
    "            nn.Linear(hidden_mlp_width, n_class),\n",
    "            nn.Softmax(),\n",
    "        )\n",
    "        \n",
    "        \n",
    "    def forward(self, x:Tensor) -> Tensor:\n",
    "        activation_maps = x\n",
    "        for res_block in self.res_blocks:\n",
    "            activation_maps = nn.functional.max_pool1d(res_block(activation_maps), 2)\n",
    "        out = activation_maps.view(activation_maps.shape[0], -1)\n",
    "        out = self.mlp_head(out)\n",
    "        return out\n",
    "\n",
    "model = Resnet(17, 4, 256, 18)"
   ]
  },
  {
   "cell_type": "code",
   "execution_count": 6,
   "id": "67d36cd2",
   "metadata": {},
   "outputs": [
    {
     "data": {
      "text/plain": [
       "Resnet(\n",
       "  (res_blocks): ModuleList(\n",
       "    (0): ResidualBlock(\n",
       "      (blocks): Sequential(\n",
       "        (0): Conv1d(17, 34, kernel_size=(3,), stride=(1,), padding=(1,))\n",
       "        (1): BatchNorm1d(34, eps=1e-05, momentum=0.1, affine=True, track_running_stats=True)\n",
       "        (2): ReLU()\n",
       "        (3): Conv1d(34, 34, kernel_size=(3,), stride=(1,), padding=(1,))\n",
       "        (4): BatchNorm1d(34, eps=1e-05, momentum=0.1, affine=True, track_running_stats=True)\n",
       "      )\n",
       "      (skip_connection): Sequential(\n",
       "        (0): Conv1d(17, 34, kernel_size=(1,), stride=(1,))\n",
       "        (1): BatchNorm1d(34, eps=1e-05, momentum=0.1, affine=True, track_running_stats=True)\n",
       "      )\n",
       "    )\n",
       "    (1): ResidualBlock(\n",
       "      (blocks): Sequential(\n",
       "        (0): Conv1d(34, 68, kernel_size=(3,), stride=(1,), padding=(1,))\n",
       "        (1): BatchNorm1d(68, eps=1e-05, momentum=0.1, affine=True, track_running_stats=True)\n",
       "        (2): ReLU()\n",
       "        (3): Conv1d(68, 68, kernel_size=(3,), stride=(1,), padding=(1,))\n",
       "        (4): BatchNorm1d(68, eps=1e-05, momentum=0.1, affine=True, track_running_stats=True)\n",
       "      )\n",
       "      (skip_connection): Sequential(\n",
       "        (0): Conv1d(34, 68, kernel_size=(1,), stride=(1,))\n",
       "        (1): BatchNorm1d(68, eps=1e-05, momentum=0.1, affine=True, track_running_stats=True)\n",
       "      )\n",
       "    )\n",
       "    (2): ResidualBlock(\n",
       "      (blocks): Sequential(\n",
       "        (0): Conv1d(68, 136, kernel_size=(3,), stride=(1,), padding=(1,))\n",
       "        (1): BatchNorm1d(136, eps=1e-05, momentum=0.1, affine=True, track_running_stats=True)\n",
       "        (2): ReLU()\n",
       "        (3): Conv1d(136, 136, kernel_size=(3,), stride=(1,), padding=(1,))\n",
       "        (4): BatchNorm1d(136, eps=1e-05, momentum=0.1, affine=True, track_running_stats=True)\n",
       "      )\n",
       "      (skip_connection): Sequential(\n",
       "        (0): Conv1d(68, 136, kernel_size=(1,), stride=(1,))\n",
       "        (1): BatchNorm1d(136, eps=1e-05, momentum=0.1, affine=True, track_running_stats=True)\n",
       "      )\n",
       "    )\n",
       "  )\n",
       ")"
      ]
     },
     "execution_count": 6,
     "metadata": {},
     "output_type": "execute_result"
    }
   ],
   "source": [
    "model"
   ]
  },
  {
   "cell_type": "code",
   "execution_count": 22,
   "id": "b61c0140",
   "metadata": {},
   "outputs": [],
   "source": [
    "x, y = next(iter(data_loader))"
   ]
  },
  {
   "cell_type": "code",
   "execution_count": 23,
   "id": "97afc726",
   "metadata": {},
   "outputs": [
    {
     "data": {
      "text/plain": [
       "torch.Size([128, 17, 114])"
      ]
     },
     "execution_count": 23,
     "metadata": {},
     "output_type": "execute_result"
    }
   ],
   "source": [
    "x.shape"
   ]
  },
  {
   "cell_type": "code",
   "execution_count": 28,
   "id": "d817e846",
   "metadata": {},
   "outputs": [
    {
     "name": "stderr",
     "output_type": "stream",
     "text": [
      "/home/mauro/miniconda3/envs/CMI/lib/python3.11/site-packages/torch/nn/modules/module.py:1736: UserWarning: Implicit dimension choice for softmax has been deprecated. Change the call to include dim=X as an argument.\n",
      "  return self._call_impl(*args, **kwargs)\n"
     ]
    },
    {
     "data": {
      "text/plain": [
       "torch.Size([128, 18])"
      ]
     },
     "execution_count": 28,
     "metadata": {},
     "output_type": "execute_result"
    }
   ],
   "source": [
    "y_pred = model(x)\n",
    "y_pred.shape"
   ]
  },
  {
   "cell_type": "code",
   "execution_count": 14,
   "id": "1d3f7641",
   "metadata": {},
   "outputs": [
    {
     "data": {
      "text/plain": [
       "1904"
      ]
     },
     "execution_count": 14,
     "metadata": {},
     "output_type": "execute_result"
    }
   ],
   "source": [
    "136 * 14"
   ]
  },
  {
   "cell_type": "code",
   "execution_count": null,
   "id": "7cc879eb",
   "metadata": {},
   "outputs": [],
   "source": [
    "import os\n",
    "from datetime import datetime\n",
    "\n",
    "import torch\n",
    "from torch import nn\n",
    "import plotly.express as px\n",
    "from rich.progress import Progress, Task, track\n",
    "from pandas import DataFrame as DF\n",
    "from torch.utils.data import DataLoader as DL\n",
    "from torch.optim.lr_scheduler import LRScheduler\n",
    "\n",
    "\n",
    "def fit(epochs:int,\n",
    "        model: nn.Module,\n",
    "        scheduler: LRScheduler,\n",
    "        optimizer: torch.optim.Optimizer,\n",
    "        train_loader: DL,\n",
    "        criterion: callable=nn.L1Loss(),\n",
    "        evaluation_func: callable=None,\n",
    "        validation_loader: DL=None,\n",
    "        save_checkpoints=True,\n",
    "    ) -> DF:\n",
    "    # Setup\n",
    "    metrics: list[dict] = []\n",
    "    checkpoints_dir = os.path.join(\"checkpoints\", mk_date_now_str())\n",
    "    step = 0\n",
    "    model_device = next(model.parameters()).device\n",
    "    # Training loop\n",
    "    with Progress() as progress:\n",
    "        task: Task = progress.add_task(\n",
    "            # f\"epoch: {epoch + 1}, batch_loss: ...\",\n",
    "            total=len(train_loader) - 10,\n",
    "        )\n",
    "        for epoch in range(epochs):\n",
    "            progress.update(\n",
    "                task,\n",
    "                description=f\"epoch: {epoch}\"\n",
    "            )\n",
    "            total_epoch_loss = 0\n",
    "            nb_samples = 0\n",
    "            for batch_idx, (x, y) in enumerate(train_loader):\n",
    "                # forward\n",
    "                x = x.to(model_device)\n",
    "                y = y.to(model_device)\n",
    "                nb_samples += len(x)\n",
    "                model.train()\n",
    "                optimizer.zero_grad()\n",
    "                y_pred = model(x)\n",
    "                loss_value = criterion(y_pred, y)\n",
    "                # Verify loss value\n",
    "                if torch.isnan(loss_value).any().item():\n",
    "                    progress.print(\"Warning: Got NaN loss, something went wrong.\")\n",
    "                    return DF.from_records(metrics) \n",
    "                if torch.isinf(loss_value).any().item():\n",
    "                    progress.print(\"Warning: Got infinite loss, something went wrong.\")\n",
    "                    return DF.from_records(metrics) \n",
    "                # TODO: Use gradient clipping?\n",
    "                loss_value.backward()\n",
    "                optimizer.step()\n",
    "                if step > 0: # If it's not the first training step\n",
    "                    # Call the scheduler step method, idk why it throws an error otherwise\n",
    "                    scheduler.step()\n",
    "                # metrics\n",
    "                total_epoch_loss += loss_value.item()\n",
    "                metrics.append({\n",
    "                    \"step\": step,\n",
    "                    \"epoch\": epoch,\n",
    "                    \"batch_train_loss\": loss_value.item(),\n",
    "                    \"lr\": optimizer.state_dict()[\"param_groups\"][-1][\"lr\"],\n",
    "                })\n",
    "                step += 1\n",
    "                progress.update(\n",
    "                    task,\n",
    "                    advance=1,\n",
    "                    description=f\"epoch: {epoch}, batch_loss: {(total_epoch_loss / (batch_idx+1)):.2f}\"\n",
    "                )\n",
    "        # Post epoch evalution\n",
    "        metrics[-1][\"train_epoch_loss\"] = total_epoch_loss / len(train_loader)\n",
    "        if evaluation_func:\n",
    "            eval_metrics = evaluation_func(model, criterion, validation_loader)\n",
    "            progress.print(\"validation loss:\", eval_metrics[\"validation_loss\"])\n",
    "            metrics[-1].update(eval_metrics)\n",
    "        # Save checkpoint\n",
    "        if save_checkpoints:\n",
    "            checkpoint = mk_checkpoint(epoch, model, scheduler, optimizer)\n",
    "            metrics_df = DF.from_records(metrics)\n",
    "            best_model_metric = \"validation_loss\" if \"validation_loss\" in metrics_df.columns else \"train_epoch_loss\"\n",
    "            is_best_checkpoint = (\n",
    "                DF.from_records(metrics)\n",
    "                .eval(f\"min_{best_model_metric} = {best_model_metric}.min()\")\n",
    "                .eval(f\"is_best_{best_model_metric} = {best_model_metric} == min_{best_model_metric}\")\n",
    "                .dropna(subset=f\"is_best_{best_model_metric}\")\n",
    "                .iloc[-1]\n",
    "                .loc[f\"is_best_{best_model_metric}\"]\n",
    "            )\n",
    "            save_checkpoint(checkpoint, checkpoints_dir, is_best_checkpoint)\n",
    "\n",
    "    return DF.from_records(metrics)\n",
    "\n",
    "def evaluate_model(model: torch.nn.Module, critirion:callable, validation_loader:DL) -> dict:\n",
    "    model = model.eval()\n",
    "    model_device = next(model.parameters()).device\n",
    "\n",
    "    total_test_loss = 0\n",
    "    for x, y in track(validation_loader, description=\"Evaluating...\", transient=True):\n",
    "        x = x.to(model_device)\n",
    "        y = y.to(model_device)\n",
    "        y_pred = model(x)\n",
    "        total_test_loss += critirion(y_pred, y).item()\n",
    "    total_test_loss /= len(validation_loader)\n",
    "\n",
    "    return {\"validation_loss\": total_test_loss}\n",
    "\n",
    "def mk_checkpoint(\n",
    "        epoch:int,\n",
    "        model: torch.nn.Module,\n",
    "        scheduler: LRScheduler,\n",
    "        optimizer: torch.optim.Optimizer\n",
    "    ) -> dict:\n",
    "    return {\n",
    "        \"epoch\": epoch,\n",
    "        \"model\": model.state_dict(),\n",
    "        \"optimizer\": optimizer.state_dict(),\n",
    "        \"scheduler\": scheduler.state_dict(),\n",
    "    }\n",
    "\n",
    "def save_checkpoint(checkpoint:dict, parent_dir:str, is_best_checkpoint=False):\n",
    "    # Create model name\n",
    "    checkpoint_filename = mk_date_now_str() + \".pth\"\n",
    "    # Save model\n",
    "    os.makedirs(parent_dir, exist_ok=True)\n",
    "    checkpoint_path = os.path.join(parent_dir, checkpoint_filename)\n",
    "    torch.save(checkpoint, checkpoint_path)\n",
    "    mk_symlink(checkpoint_path, os.path.join(parent_dir, \"latest_checkpoint.pth\"))\n",
    "    if is_best_checkpoint:\n",
    "        mk_symlink(checkpoint_path, os.path.join(parent_dir, \"best_checkpoint.pth\"))\n",
    "\n",
    "def mk_date_now_str() -> str:\n",
    "    return datetime.now().strftime(\"%d-%m-%Y_%H-%M\")\n",
    "\n",
    "def mk_symlink(dest:str, symlink_path:str):\n",
    "    if os.path.islink(symlink_path) or os.path.exists(symlink_path):\n",
    "        os.remove(symlink_path)\n",
    "    os.symlink(dest, symlink_path)"
   ]
  },
  {
   "cell_type": "code",
   "execution_count": 47,
   "id": "fe1e327c",
   "metadata": {},
   "outputs": [
    {
     "data": {
      "application/vnd.jupyter.widget-view+json": {
       "model_id": "d056ed2c0b1f4e3fad06f372f5c33c15",
       "version_major": 2,
       "version_minor": 0
      },
      "text/plain": [
       "Output()"
      ]
     },
     "metadata": {},
     "output_type": "display_data"
    },
    {
     "data": {
      "text/html": [
       "<pre style=\"white-space:pre;overflow-x:auto;line-height:normal;font-family:Menlo,'DejaVu Sans Mono',consolas,'Courier New',monospace\">/home/mauro/miniconda3/envs/CMI/lib/python3.11/site-packages/torch/nn/modules/module.py:1736: UserWarning:\n",
       "\n",
       "Implicit dimension choice for softmax has been deprecated. Change the call to include dim=X as an argument.\n",
       "\n",
       "</pre>\n"
      ],
      "text/plain": [
       "/home/mauro/miniconda3/envs/CMI/lib/python3.11/site-packages/torch/nn/modules/module.py:1736: UserWarning:\n",
       "\n",
       "Implicit dimension choice for softmax has been deprecated. Change the call to include dim=X as an argument.\n",
       "\n"
      ]
     },
     "metadata": {},
     "output_type": "display_data"
    },
    {
     "data": {
      "text/html": [
       "<pre style=\"white-space:pre;overflow-x:auto;line-height:normal;font-family:Menlo,'DejaVu Sans Mono',consolas,'Courier New',monospace\"></pre>\n"
      ],
      "text/plain": []
     },
     "metadata": {},
     "output_type": "display_data"
    },
    {
     "data": {
      "application/vnd.jupyter.widget-view+json": {
       "model_id": "3d447277e3a54ba5a5e7a362b7ec5974",
       "version_major": 2,
       "version_minor": 0
      },
      "text/plain": [
       "Output()"
      ]
     },
     "metadata": {},
     "output_type": "display_data"
    },
    {
     "data": {
      "text/html": [
       "<pre style=\"white-space:pre;overflow-x:auto;line-height:normal;font-family:Menlo,'DejaVu Sans Mono',consolas,'Courier New',monospace\">/home/mauro/miniconda3/envs/CMI/lib/python3.11/site-packages/torch/nn/modules/module.py:1736: UserWarning:\n",
       "\n",
       "Implicit dimension choice for softmax has been deprecated. Change the call to include dim=X as an argument.\n",
       "\n",
       "</pre>\n"
      ],
      "text/plain": [
       "/home/mauro/miniconda3/envs/CMI/lib/python3.11/site-packages/torch/nn/modules/module.py:1736: UserWarning:\n",
       "\n",
       "Implicit dimension choice for softmax has been deprecated. Change the call to include dim=X as an argument.\n",
       "\n"
      ]
     },
     "metadata": {},
     "output_type": "display_data"
    },
    {
     "data": {
      "text/html": [
       "<pre style=\"white-space:pre;overflow-x:auto;line-height:normal;font-family:Menlo,'DejaVu Sans Mono',consolas,'Courier New',monospace\"></pre>\n"
      ],
      "text/plain": []
     },
     "metadata": {},
     "output_type": "display_data"
    },
    {
     "data": {
      "application/vnd.jupyter.widget-view+json": {
       "model_id": "9d9b0c3ec4d0417087c251097fdad791",
       "version_major": 2,
       "version_minor": 0
      },
      "text/plain": [
       "Output()"
      ]
     },
     "metadata": {},
     "output_type": "display_data"
    },
    {
     "data": {
      "text/html": [
       "<pre style=\"white-space:pre;overflow-x:auto;line-height:normal;font-family:Menlo,'DejaVu Sans Mono',consolas,'Courier New',monospace\">/home/mauro/miniconda3/envs/CMI/lib/python3.11/site-packages/torch/nn/modules/module.py:1736: UserWarning:\n",
       "\n",
       "Implicit dimension choice for softmax has been deprecated. Change the call to include dim=X as an argument.\n",
       "\n",
       "</pre>\n"
      ],
      "text/plain": [
       "/home/mauro/miniconda3/envs/CMI/lib/python3.11/site-packages/torch/nn/modules/module.py:1736: UserWarning:\n",
       "\n",
       "Implicit dimension choice for softmax has been deprecated. Change the call to include dim=X as an argument.\n",
       "\n"
      ]
     },
     "metadata": {},
     "output_type": "display_data"
    },
    {
     "data": {
      "text/html": [
       "<pre style=\"white-space:pre;overflow-x:auto;line-height:normal;font-family:Menlo,'DejaVu Sans Mono',consolas,'Courier New',monospace\"></pre>\n"
      ],
      "text/plain": []
     },
     "metadata": {},
     "output_type": "display_data"
    },
    {
     "data": {
      "application/vnd.jupyter.widget-view+json": {
       "model_id": "368637b037e14aa49a6f2d17f11194a3",
       "version_major": 2,
       "version_minor": 0
      },
      "text/plain": [
       "Output()"
      ]
     },
     "metadata": {},
     "output_type": "display_data"
    },
    {
     "data": {
      "text/html": [
       "<pre style=\"white-space:pre;overflow-x:auto;line-height:normal;font-family:Menlo,'DejaVu Sans Mono',consolas,'Courier New',monospace\">/home/mauro/miniconda3/envs/CMI/lib/python3.11/site-packages/torch/nn/modules/module.py:1736: UserWarning:\n",
       "\n",
       "Implicit dimension choice for softmax has been deprecated. Change the call to include dim=X as an argument.\n",
       "\n",
       "</pre>\n"
      ],
      "text/plain": [
       "/home/mauro/miniconda3/envs/CMI/lib/python3.11/site-packages/torch/nn/modules/module.py:1736: UserWarning:\n",
       "\n",
       "Implicit dimension choice for softmax has been deprecated. Change the call to include dim=X as an argument.\n",
       "\n"
      ]
     },
     "metadata": {},
     "output_type": "display_data"
    },
    {
     "data": {
      "text/html": [
       "<pre style=\"white-space:pre;overflow-x:auto;line-height:normal;font-family:Menlo,'DejaVu Sans Mono',consolas,'Courier New',monospace\"></pre>\n"
      ],
      "text/plain": []
     },
     "metadata": {},
     "output_type": "display_data"
    },
    {
     "data": {
      "application/vnd.jupyter.widget-view+json": {
       "model_id": "2a034cc0264245e0b0b7c80fca58178c",
       "version_major": 2,
       "version_minor": 0
      },
      "text/plain": [
       "Output()"
      ]
     },
     "metadata": {},
     "output_type": "display_data"
    },
    {
     "data": {
      "text/html": [
       "<pre style=\"white-space:pre;overflow-x:auto;line-height:normal;font-family:Menlo,'DejaVu Sans Mono',consolas,'Courier New',monospace\">/home/mauro/miniconda3/envs/CMI/lib/python3.11/site-packages/torch/nn/modules/module.py:1736: UserWarning:\n",
       "\n",
       "Implicit dimension choice for softmax has been deprecated. Change the call to include dim=X as an argument.\n",
       "\n",
       "</pre>\n"
      ],
      "text/plain": [
       "/home/mauro/miniconda3/envs/CMI/lib/python3.11/site-packages/torch/nn/modules/module.py:1736: UserWarning:\n",
       "\n",
       "Implicit dimension choice for softmax has been deprecated. Change the call to include dim=X as an argument.\n",
       "\n"
      ]
     },
     "metadata": {},
     "output_type": "display_data"
    },
    {
     "data": {
      "text/html": [
       "<pre style=\"white-space:pre;overflow-x:auto;line-height:normal;font-family:Menlo,'DejaVu Sans Mono',consolas,'Courier New',monospace\"></pre>\n"
      ],
      "text/plain": []
     },
     "metadata": {},
     "output_type": "display_data"
    },
    {
     "data": {
      "application/vnd.jupyter.widget-view+json": {
       "model_id": "fcb60fdc92614f78be82c6c1c181cdce",
       "version_major": 2,
       "version_minor": 0
      },
      "text/plain": [
       "Output()"
      ]
     },
     "metadata": {},
     "output_type": "display_data"
    },
    {
     "data": {
      "text/html": [
       "<pre style=\"white-space:pre;overflow-x:auto;line-height:normal;font-family:Menlo,'DejaVu Sans Mono',consolas,'Courier New',monospace\">/home/mauro/miniconda3/envs/CMI/lib/python3.11/site-packages/torch/nn/modules/module.py:1736: UserWarning:\n",
       "\n",
       "Implicit dimension choice for softmax has been deprecated. Change the call to include dim=X as an argument.\n",
       "\n",
       "</pre>\n"
      ],
      "text/plain": [
       "/home/mauro/miniconda3/envs/CMI/lib/python3.11/site-packages/torch/nn/modules/module.py:1736: UserWarning:\n",
       "\n",
       "Implicit dimension choice for softmax has been deprecated. Change the call to include dim=X as an argument.\n",
       "\n"
      ]
     },
     "metadata": {},
     "output_type": "display_data"
    },
    {
     "data": {
      "text/html": [
       "<pre style=\"white-space:pre;overflow-x:auto;line-height:normal;font-family:Menlo,'DejaVu Sans Mono',consolas,'Courier New',monospace\"></pre>\n"
      ],
      "text/plain": []
     },
     "metadata": {},
     "output_type": "display_data"
    },
    {
     "data": {
      "application/vnd.jupyter.widget-view+json": {
       "model_id": "101ed6dbbdcc414cb9294a7ac431d61f",
       "version_major": 2,
       "version_minor": 0
      },
      "text/plain": [
       "Output()"
      ]
     },
     "metadata": {},
     "output_type": "display_data"
    },
    {
     "data": {
      "text/html": [
       "<pre style=\"white-space:pre;overflow-x:auto;line-height:normal;font-family:Menlo,'DejaVu Sans Mono',consolas,'Courier New',monospace\">/home/mauro/miniconda3/envs/CMI/lib/python3.11/site-packages/torch/nn/modules/module.py:1736: UserWarning:\n",
       "\n",
       "Implicit dimension choice for softmax has been deprecated. Change the call to include dim=X as an argument.\n",
       "\n",
       "</pre>\n"
      ],
      "text/plain": [
       "/home/mauro/miniconda3/envs/CMI/lib/python3.11/site-packages/torch/nn/modules/module.py:1736: UserWarning:\n",
       "\n",
       "Implicit dimension choice for softmax has been deprecated. Change the call to include dim=X as an argument.\n",
       "\n"
      ]
     },
     "metadata": {},
     "output_type": "display_data"
    },
    {
     "data": {
      "text/html": [
       "<pre style=\"white-space:pre;overflow-x:auto;line-height:normal;font-family:Menlo,'DejaVu Sans Mono',consolas,'Courier New',monospace\"></pre>\n"
      ],
      "text/plain": []
     },
     "metadata": {},
     "output_type": "display_data"
    },
    {
     "data": {
      "application/vnd.jupyter.widget-view+json": {
       "model_id": "277f0bec1bcc4099b1b7359034186518",
       "version_major": 2,
       "version_minor": 0
      },
      "text/plain": [
       "Output()"
      ]
     },
     "metadata": {},
     "output_type": "display_data"
    },
    {
     "data": {
      "text/html": [
       "<pre style=\"white-space:pre;overflow-x:auto;line-height:normal;font-family:Menlo,'DejaVu Sans Mono',consolas,'Courier New',monospace\">/home/mauro/miniconda3/envs/CMI/lib/python3.11/site-packages/torch/nn/modules/module.py:1736: UserWarning:\n",
       "\n",
       "Implicit dimension choice for softmax has been deprecated. Change the call to include dim=X as an argument.\n",
       "\n",
       "</pre>\n"
      ],
      "text/plain": [
       "/home/mauro/miniconda3/envs/CMI/lib/python3.11/site-packages/torch/nn/modules/module.py:1736: UserWarning:\n",
       "\n",
       "Implicit dimension choice for softmax has been deprecated. Change the call to include dim=X as an argument.\n",
       "\n"
      ]
     },
     "metadata": {},
     "output_type": "display_data"
    },
    {
     "data": {
      "text/html": [
       "<pre style=\"white-space:pre;overflow-x:auto;line-height:normal;font-family:Menlo,'DejaVu Sans Mono',consolas,'Courier New',monospace\"></pre>\n"
      ],
      "text/plain": []
     },
     "metadata": {},
     "output_type": "display_data"
    },
    {
     "data": {
      "application/vnd.jupyter.widget-view+json": {
       "model_id": "bdbd30b8939943f6aecf27f4a025f602",
       "version_major": 2,
       "version_minor": 0
      },
      "text/plain": [
       "Output()"
      ]
     },
     "metadata": {},
     "output_type": "display_data"
    },
    {
     "data": {
      "text/html": [
       "<pre style=\"white-space:pre;overflow-x:auto;line-height:normal;font-family:Menlo,'DejaVu Sans Mono',consolas,'Courier New',monospace\">/home/mauro/miniconda3/envs/CMI/lib/python3.11/site-packages/torch/nn/modules/module.py:1736: UserWarning:\n",
       "\n",
       "Implicit dimension choice for softmax has been deprecated. Change the call to include dim=X as an argument.\n",
       "\n",
       "</pre>\n"
      ],
      "text/plain": [
       "/home/mauro/miniconda3/envs/CMI/lib/python3.11/site-packages/torch/nn/modules/module.py:1736: UserWarning:\n",
       "\n",
       "Implicit dimension choice for softmax has been deprecated. Change the call to include dim=X as an argument.\n",
       "\n"
      ]
     },
     "metadata": {},
     "output_type": "display_data"
    },
    {
     "data": {
      "text/html": [
       "<pre style=\"white-space:pre;overflow-x:auto;line-height:normal;font-family:Menlo,'DejaVu Sans Mono',consolas,'Courier New',monospace\"></pre>\n"
      ],
      "text/plain": []
     },
     "metadata": {},
     "output_type": "display_data"
    },
    {
     "data": {
      "application/vnd.jupyter.widget-view+json": {
       "model_id": "dc67a6dfb23f40418c24f11ca2c5c02e",
       "version_major": 2,
       "version_minor": 0
      },
      "text/plain": [
       "Output()"
      ]
     },
     "metadata": {},
     "output_type": "display_data"
    },
    {
     "data": {
      "text/html": [
       "<pre style=\"white-space:pre;overflow-x:auto;line-height:normal;font-family:Menlo,'DejaVu Sans Mono',consolas,'Courier New',monospace\">/home/mauro/miniconda3/envs/CMI/lib/python3.11/site-packages/torch/nn/modules/module.py:1736: UserWarning:\n",
       "\n",
       "Implicit dimension choice for softmax has been deprecated. Change the call to include dim=X as an argument.\n",
       "\n",
       "</pre>\n"
      ],
      "text/plain": [
       "/home/mauro/miniconda3/envs/CMI/lib/python3.11/site-packages/torch/nn/modules/module.py:1736: UserWarning:\n",
       "\n",
       "Implicit dimension choice for softmax has been deprecated. Change the call to include dim=X as an argument.\n",
       "\n"
      ]
     },
     "metadata": {},
     "output_type": "display_data"
    },
    {
     "data": {
      "text/html": [
       "<pre style=\"white-space:pre;overflow-x:auto;line-height:normal;font-family:Menlo,'DejaVu Sans Mono',consolas,'Courier New',monospace\"></pre>\n"
      ],
      "text/plain": []
     },
     "metadata": {},
     "output_type": "display_data"
    },
    {
     "data": {
      "application/vnd.jupyter.widget-view+json": {
       "model_id": "452de9c66069471585a3d75f04ce1a10",
       "version_major": 2,
       "version_minor": 0
      },
      "text/plain": [
       "Output()"
      ]
     },
     "metadata": {},
     "output_type": "display_data"
    },
    {
     "data": {
      "text/html": [
       "<pre style=\"white-space:pre;overflow-x:auto;line-height:normal;font-family:Menlo,'DejaVu Sans Mono',consolas,'Courier New',monospace\">/home/mauro/miniconda3/envs/CMI/lib/python3.11/site-packages/torch/nn/modules/module.py:1736: UserWarning:\n",
       "\n",
       "Implicit dimension choice for softmax has been deprecated. Change the call to include dim=X as an argument.\n",
       "\n",
       "</pre>\n"
      ],
      "text/plain": [
       "/home/mauro/miniconda3/envs/CMI/lib/python3.11/site-packages/torch/nn/modules/module.py:1736: UserWarning:\n",
       "\n",
       "Implicit dimension choice for softmax has been deprecated. Change the call to include dim=X as an argument.\n",
       "\n"
      ]
     },
     "metadata": {},
     "output_type": "display_data"
    },
    {
     "data": {
      "text/html": [
       "<pre style=\"white-space:pre;overflow-x:auto;line-height:normal;font-family:Menlo,'DejaVu Sans Mono',consolas,'Courier New',monospace\"></pre>\n"
      ],
      "text/plain": []
     },
     "metadata": {},
     "output_type": "display_data"
    },
    {
     "data": {
      "application/vnd.jupyter.widget-view+json": {
       "model_id": "e039edc908d848908592c4696106064b",
       "version_major": 2,
       "version_minor": 0
      },
      "text/plain": [
       "Output()"
      ]
     },
     "metadata": {},
     "output_type": "display_data"
    },
    {
     "data": {
      "text/html": [
       "<pre style=\"white-space:pre;overflow-x:auto;line-height:normal;font-family:Menlo,'DejaVu Sans Mono',consolas,'Courier New',monospace\">/home/mauro/miniconda3/envs/CMI/lib/python3.11/site-packages/torch/nn/modules/module.py:1736: UserWarning:\n",
       "\n",
       "Implicit dimension choice for softmax has been deprecated. Change the call to include dim=X as an argument.\n",
       "\n",
       "</pre>\n"
      ],
      "text/plain": [
       "/home/mauro/miniconda3/envs/CMI/lib/python3.11/site-packages/torch/nn/modules/module.py:1736: UserWarning:\n",
       "\n",
       "Implicit dimension choice for softmax has been deprecated. Change the call to include dim=X as an argument.\n",
       "\n"
      ]
     },
     "metadata": {},
     "output_type": "display_data"
    },
    {
     "data": {
      "text/html": [
       "<pre style=\"white-space:pre;overflow-x:auto;line-height:normal;font-family:Menlo,'DejaVu Sans Mono',consolas,'Courier New',monospace\"></pre>\n"
      ],
      "text/plain": []
     },
     "metadata": {},
     "output_type": "display_data"
    },
    {
     "data": {
      "application/vnd.jupyter.widget-view+json": {
       "model_id": "4c6d21c02a824c5d8755438770988170",
       "version_major": 2,
       "version_minor": 0
      },
      "text/plain": [
       "Output()"
      ]
     },
     "metadata": {},
     "output_type": "display_data"
    },
    {
     "data": {
      "text/html": [
       "<pre style=\"white-space:pre;overflow-x:auto;line-height:normal;font-family:Menlo,'DejaVu Sans Mono',consolas,'Courier New',monospace\">/home/mauro/miniconda3/envs/CMI/lib/python3.11/site-packages/torch/nn/modules/module.py:1736: UserWarning:\n",
       "\n",
       "Implicit dimension choice for softmax has been deprecated. Change the call to include dim=X as an argument.\n",
       "\n",
       "</pre>\n"
      ],
      "text/plain": [
       "/home/mauro/miniconda3/envs/CMI/lib/python3.11/site-packages/torch/nn/modules/module.py:1736: UserWarning:\n",
       "\n",
       "Implicit dimension choice for softmax has been deprecated. Change the call to include dim=X as an argument.\n",
       "\n"
      ]
     },
     "metadata": {},
     "output_type": "display_data"
    },
    {
     "data": {
      "text/html": [
       "<pre style=\"white-space:pre;overflow-x:auto;line-height:normal;font-family:Menlo,'DejaVu Sans Mono',consolas,'Courier New',monospace\"></pre>\n"
      ],
      "text/plain": []
     },
     "metadata": {},
     "output_type": "display_data"
    },
    {
     "data": {
      "application/vnd.jupyter.widget-view+json": {
       "model_id": "0e05346c136042f8bc315d185f8edea7",
       "version_major": 2,
       "version_minor": 0
      },
      "text/plain": [
       "Output()"
      ]
     },
     "metadata": {},
     "output_type": "display_data"
    },
    {
     "data": {
      "text/html": [
       "<pre style=\"white-space:pre;overflow-x:auto;line-height:normal;font-family:Menlo,'DejaVu Sans Mono',consolas,'Courier New',monospace\">/home/mauro/miniconda3/envs/CMI/lib/python3.11/site-packages/torch/nn/modules/module.py:1736: UserWarning:\n",
       "\n",
       "Implicit dimension choice for softmax has been deprecated. Change the call to include dim=X as an argument.\n",
       "\n",
       "</pre>\n"
      ],
      "text/plain": [
       "/home/mauro/miniconda3/envs/CMI/lib/python3.11/site-packages/torch/nn/modules/module.py:1736: UserWarning:\n",
       "\n",
       "Implicit dimension choice for softmax has been deprecated. Change the call to include dim=X as an argument.\n",
       "\n"
      ]
     },
     "metadata": {},
     "output_type": "display_data"
    },
    {
     "data": {
      "text/html": [
       "<pre style=\"white-space:pre;overflow-x:auto;line-height:normal;font-family:Menlo,'DejaVu Sans Mono',consolas,'Courier New',monospace\"></pre>\n"
      ],
      "text/plain": []
     },
     "metadata": {},
     "output_type": "display_data"
    },
    {
     "data": {
      "application/vnd.jupyter.widget-view+json": {
       "model_id": "a60b6d2559cc46408b9ea70ec5a23cfb",
       "version_major": 2,
       "version_minor": 0
      },
      "text/plain": [
       "Output()"
      ]
     },
     "metadata": {},
     "output_type": "display_data"
    },
    {
     "data": {
      "text/html": [
       "<pre style=\"white-space:pre;overflow-x:auto;line-height:normal;font-family:Menlo,'DejaVu Sans Mono',consolas,'Courier New',monospace\">/home/mauro/miniconda3/envs/CMI/lib/python3.11/site-packages/torch/nn/modules/module.py:1736: UserWarning:\n",
       "\n",
       "Implicit dimension choice for softmax has been deprecated. Change the call to include dim=X as an argument.\n",
       "\n",
       "</pre>\n"
      ],
      "text/plain": [
       "/home/mauro/miniconda3/envs/CMI/lib/python3.11/site-packages/torch/nn/modules/module.py:1736: UserWarning:\n",
       "\n",
       "Implicit dimension choice for softmax has been deprecated. Change the call to include dim=X as an argument.\n",
       "\n"
      ]
     },
     "metadata": {},
     "output_type": "display_data"
    },
    {
     "data": {
      "text/html": [
       "<pre style=\"white-space:pre;overflow-x:auto;line-height:normal;font-family:Menlo,'DejaVu Sans Mono',consolas,'Courier New',monospace\"></pre>\n"
      ],
      "text/plain": []
     },
     "metadata": {},
     "output_type": "display_data"
    },
    {
     "data": {
      "application/vnd.jupyter.widget-view+json": {
       "model_id": "cf7fae27173c49049a610526ae278216",
       "version_major": 2,
       "version_minor": 0
      },
      "text/plain": [
       "Output()"
      ]
     },
     "metadata": {},
     "output_type": "display_data"
    },
    {
     "data": {
      "text/html": [
       "<pre style=\"white-space:pre;overflow-x:auto;line-height:normal;font-family:Menlo,'DejaVu Sans Mono',consolas,'Courier New',monospace\">/home/mauro/miniconda3/envs/CMI/lib/python3.11/site-packages/torch/nn/modules/module.py:1736: UserWarning:\n",
       "\n",
       "Implicit dimension choice for softmax has been deprecated. Change the call to include dim=X as an argument.\n",
       "\n",
       "</pre>\n"
      ],
      "text/plain": [
       "/home/mauro/miniconda3/envs/CMI/lib/python3.11/site-packages/torch/nn/modules/module.py:1736: UserWarning:\n",
       "\n",
       "Implicit dimension choice for softmax has been deprecated. Change the call to include dim=X as an argument.\n",
       "\n"
      ]
     },
     "metadata": {},
     "output_type": "display_data"
    },
    {
     "data": {
      "text/html": [
       "<pre style=\"white-space:pre;overflow-x:auto;line-height:normal;font-family:Menlo,'DejaVu Sans Mono',consolas,'Courier New',monospace\"></pre>\n"
      ],
      "text/plain": []
     },
     "metadata": {},
     "output_type": "display_data"
    },
    {
     "data": {
      "application/vnd.jupyter.widget-view+json": {
       "model_id": "1c70bdaffa5b4253984664c3e437938b",
       "version_major": 2,
       "version_minor": 0
      },
      "text/plain": [
       "Output()"
      ]
     },
     "metadata": {},
     "output_type": "display_data"
    },
    {
     "data": {
      "text/html": [
       "<pre style=\"white-space:pre;overflow-x:auto;line-height:normal;font-family:Menlo,'DejaVu Sans Mono',consolas,'Courier New',monospace\">/home/mauro/miniconda3/envs/CMI/lib/python3.11/site-packages/torch/nn/modules/module.py:1736: UserWarning:\n",
       "\n",
       "Implicit dimension choice for softmax has been deprecated. Change the call to include dim=X as an argument.\n",
       "\n",
       "</pre>\n"
      ],
      "text/plain": [
       "/home/mauro/miniconda3/envs/CMI/lib/python3.11/site-packages/torch/nn/modules/module.py:1736: UserWarning:\n",
       "\n",
       "Implicit dimension choice for softmax has been deprecated. Change the call to include dim=X as an argument.\n",
       "\n"
      ]
     },
     "metadata": {},
     "output_type": "display_data"
    },
    {
     "data": {
      "text/html": [
       "<pre style=\"white-space:pre;overflow-x:auto;line-height:normal;font-family:Menlo,'DejaVu Sans Mono',consolas,'Courier New',monospace\"></pre>\n"
      ],
      "text/plain": []
     },
     "metadata": {},
     "output_type": "display_data"
    },
    {
     "data": {
      "application/vnd.jupyter.widget-view+json": {
       "model_id": "e6e3de417d1b47059f28edaa6cd3e917",
       "version_major": 2,
       "version_minor": 0
      },
      "text/plain": [
       "Output()"
      ]
     },
     "metadata": {},
     "output_type": "display_data"
    },
    {
     "data": {
      "text/html": [
       "<pre style=\"white-space:pre;overflow-x:auto;line-height:normal;font-family:Menlo,'DejaVu Sans Mono',consolas,'Courier New',monospace\">/home/mauro/miniconda3/envs/CMI/lib/python3.11/site-packages/torch/nn/modules/module.py:1736: UserWarning:\n",
       "\n",
       "Implicit dimension choice for softmax has been deprecated. Change the call to include dim=X as an argument.\n",
       "\n",
       "</pre>\n"
      ],
      "text/plain": [
       "/home/mauro/miniconda3/envs/CMI/lib/python3.11/site-packages/torch/nn/modules/module.py:1736: UserWarning:\n",
       "\n",
       "Implicit dimension choice for softmax has been deprecated. Change the call to include dim=X as an argument.\n",
       "\n"
      ]
     },
     "metadata": {},
     "output_type": "display_data"
    },
    {
     "data": {
      "text/html": [
       "<pre style=\"white-space:pre;overflow-x:auto;line-height:normal;font-family:Menlo,'DejaVu Sans Mono',consolas,'Courier New',monospace\"></pre>\n"
      ],
      "text/plain": []
     },
     "metadata": {},
     "output_type": "display_data"
    },
    {
     "data": {
      "application/vnd.jupyter.widget-view+json": {
       "model_id": "d732c1ae73984ca4b7c6f31edaee4b48",
       "version_major": 2,
       "version_minor": 0
      },
      "text/plain": [
       "Output()"
      ]
     },
     "metadata": {},
     "output_type": "display_data"
    },
    {
     "data": {
      "text/html": [
       "<pre style=\"white-space:pre;overflow-x:auto;line-height:normal;font-family:Menlo,'DejaVu Sans Mono',consolas,'Courier New',monospace\">/home/mauro/miniconda3/envs/CMI/lib/python3.11/site-packages/torch/nn/modules/module.py:1736: UserWarning:\n",
       "\n",
       "Implicit dimension choice for softmax has been deprecated. Change the call to include dim=X as an argument.\n",
       "\n",
       "</pre>\n"
      ],
      "text/plain": [
       "/home/mauro/miniconda3/envs/CMI/lib/python3.11/site-packages/torch/nn/modules/module.py:1736: UserWarning:\n",
       "\n",
       "Implicit dimension choice for softmax has been deprecated. Change the call to include dim=X as an argument.\n",
       "\n"
      ]
     },
     "metadata": {},
     "output_type": "display_data"
    },
    {
     "data": {
      "text/html": [
       "<pre style=\"white-space:pre;overflow-x:auto;line-height:normal;font-family:Menlo,'DejaVu Sans Mono',consolas,'Courier New',monospace\"></pre>\n"
      ],
      "text/plain": []
     },
     "metadata": {},
     "output_type": "display_data"
    },
    {
     "data": {
      "application/vnd.jupyter.widget-view+json": {
       "model_id": "8a1946fb0f1e4e0c807e2e66e5db907d",
       "version_major": 2,
       "version_minor": 0
      },
      "text/plain": [
       "Output()"
      ]
     },
     "metadata": {},
     "output_type": "display_data"
    },
    {
     "data": {
      "text/html": [
       "<pre style=\"white-space:pre;overflow-x:auto;line-height:normal;font-family:Menlo,'DejaVu Sans Mono',consolas,'Courier New',monospace\">/home/mauro/miniconda3/envs/CMI/lib/python3.11/site-packages/torch/nn/modules/module.py:1736: UserWarning:\n",
       "\n",
       "Implicit dimension choice for softmax has been deprecated. Change the call to include dim=X as an argument.\n",
       "\n",
       "</pre>\n"
      ],
      "text/plain": [
       "/home/mauro/miniconda3/envs/CMI/lib/python3.11/site-packages/torch/nn/modules/module.py:1736: UserWarning:\n",
       "\n",
       "Implicit dimension choice for softmax has been deprecated. Change the call to include dim=X as an argument.\n",
       "\n"
      ]
     },
     "metadata": {},
     "output_type": "display_data"
    },
    {
     "data": {
      "text/html": [
       "<pre style=\"white-space:pre;overflow-x:auto;line-height:normal;font-family:Menlo,'DejaVu Sans Mono',consolas,'Courier New',monospace\"></pre>\n"
      ],
      "text/plain": []
     },
     "metadata": {},
     "output_type": "display_data"
    },
    {
     "data": {
      "application/vnd.jupyter.widget-view+json": {
       "model_id": "21724906c105442c90513ce3c708038b",
       "version_major": 2,
       "version_minor": 0
      },
      "text/plain": [
       "Output()"
      ]
     },
     "metadata": {},
     "output_type": "display_data"
    },
    {
     "data": {
      "text/html": [
       "<pre style=\"white-space:pre;overflow-x:auto;line-height:normal;font-family:Menlo,'DejaVu Sans Mono',consolas,'Courier New',monospace\">/home/mauro/miniconda3/envs/CMI/lib/python3.11/site-packages/torch/nn/modules/module.py:1736: UserWarning:\n",
       "\n",
       "Implicit dimension choice for softmax has been deprecated. Change the call to include dim=X as an argument.\n",
       "\n",
       "</pre>\n"
      ],
      "text/plain": [
       "/home/mauro/miniconda3/envs/CMI/lib/python3.11/site-packages/torch/nn/modules/module.py:1736: UserWarning:\n",
       "\n",
       "Implicit dimension choice for softmax has been deprecated. Change the call to include dim=X as an argument.\n",
       "\n"
      ]
     },
     "metadata": {},
     "output_type": "display_data"
    },
    {
     "data": {
      "text/html": [
       "<pre style=\"white-space:pre;overflow-x:auto;line-height:normal;font-family:Menlo,'DejaVu Sans Mono',consolas,'Courier New',monospace\"></pre>\n"
      ],
      "text/plain": []
     },
     "metadata": {},
     "output_type": "display_data"
    },
    {
     "data": {
      "application/vnd.jupyter.widget-view+json": {
       "model_id": "443185abe9974188a555c7386180dd92",
       "version_major": 2,
       "version_minor": 0
      },
      "text/plain": [
       "Output()"
      ]
     },
     "metadata": {},
     "output_type": "display_data"
    },
    {
     "data": {
      "text/html": [
       "<pre style=\"white-space:pre;overflow-x:auto;line-height:normal;font-family:Menlo,'DejaVu Sans Mono',consolas,'Courier New',monospace\">/home/mauro/miniconda3/envs/CMI/lib/python3.11/site-packages/torch/nn/modules/module.py:1736: UserWarning:\n",
       "\n",
       "Implicit dimension choice for softmax has been deprecated. Change the call to include dim=X as an argument.\n",
       "\n",
       "</pre>\n"
      ],
      "text/plain": [
       "/home/mauro/miniconda3/envs/CMI/lib/python3.11/site-packages/torch/nn/modules/module.py:1736: UserWarning:\n",
       "\n",
       "Implicit dimension choice for softmax has been deprecated. Change the call to include dim=X as an argument.\n",
       "\n"
      ]
     },
     "metadata": {},
     "output_type": "display_data"
    },
    {
     "data": {
      "text/html": [
       "<pre style=\"white-space:pre;overflow-x:auto;line-height:normal;font-family:Menlo,'DejaVu Sans Mono',consolas,'Courier New',monospace\"></pre>\n"
      ],
      "text/plain": []
     },
     "metadata": {},
     "output_type": "display_data"
    },
    {
     "data": {
      "application/vnd.jupyter.widget-view+json": {
       "model_id": "67f5f968f5e84939a41796cfa458b610",
       "version_major": 2,
       "version_minor": 0
      },
      "text/plain": [
       "Output()"
      ]
     },
     "metadata": {},
     "output_type": "display_data"
    },
    {
     "data": {
      "text/html": [
       "<pre style=\"white-space:pre;overflow-x:auto;line-height:normal;font-family:Menlo,'DejaVu Sans Mono',consolas,'Courier New',monospace\">/home/mauro/miniconda3/envs/CMI/lib/python3.11/site-packages/torch/nn/modules/module.py:1736: UserWarning:\n",
       "\n",
       "Implicit dimension choice for softmax has been deprecated. Change the call to include dim=X as an argument.\n",
       "\n",
       "</pre>\n"
      ],
      "text/plain": [
       "/home/mauro/miniconda3/envs/CMI/lib/python3.11/site-packages/torch/nn/modules/module.py:1736: UserWarning:\n",
       "\n",
       "Implicit dimension choice for softmax has been deprecated. Change the call to include dim=X as an argument.\n",
       "\n"
      ]
     },
     "metadata": {},
     "output_type": "display_data"
    },
    {
     "data": {
      "text/html": [
       "<pre style=\"white-space:pre;overflow-x:auto;line-height:normal;font-family:Menlo,'DejaVu Sans Mono',consolas,'Courier New',monospace\"></pre>\n"
      ],
      "text/plain": []
     },
     "metadata": {},
     "output_type": "display_data"
    },
    {
     "data": {
      "application/vnd.jupyter.widget-view+json": {
       "model_id": "628abb941cc1442da0c5d7445d8e9bb3",
       "version_major": 2,
       "version_minor": 0
      },
      "text/plain": [
       "Output()"
      ]
     },
     "metadata": {},
     "output_type": "display_data"
    },
    {
     "data": {
      "text/html": [
       "<pre style=\"white-space:pre;overflow-x:auto;line-height:normal;font-family:Menlo,'DejaVu Sans Mono',consolas,'Courier New',monospace\">/home/mauro/miniconda3/envs/CMI/lib/python3.11/site-packages/torch/nn/modules/module.py:1736: UserWarning:\n",
       "\n",
       "Implicit dimension choice for softmax has been deprecated. Change the call to include dim=X as an argument.\n",
       "\n",
       "</pre>\n"
      ],
      "text/plain": [
       "/home/mauro/miniconda3/envs/CMI/lib/python3.11/site-packages/torch/nn/modules/module.py:1736: UserWarning:\n",
       "\n",
       "Implicit dimension choice for softmax has been deprecated. Change the call to include dim=X as an argument.\n",
       "\n"
      ]
     },
     "metadata": {},
     "output_type": "display_data"
    },
    {
     "data": {
      "text/html": [
       "<pre style=\"white-space:pre;overflow-x:auto;line-height:normal;font-family:Menlo,'DejaVu Sans Mono',consolas,'Courier New',monospace\"></pre>\n"
      ],
      "text/plain": []
     },
     "metadata": {},
     "output_type": "display_data"
    },
    {
     "data": {
      "application/vnd.jupyter.widget-view+json": {
       "model_id": "2887592c84f34f72b024fbd4c74e68d6",
       "version_major": 2,
       "version_minor": 0
      },
      "text/plain": [
       "Output()"
      ]
     },
     "metadata": {},
     "output_type": "display_data"
    },
    {
     "data": {
      "text/html": [
       "<pre style=\"white-space:pre;overflow-x:auto;line-height:normal;font-family:Menlo,'DejaVu Sans Mono',consolas,'Courier New',monospace\">/home/mauro/miniconda3/envs/CMI/lib/python3.11/site-packages/torch/nn/modules/module.py:1736: UserWarning:\n",
       "\n",
       "Implicit dimension choice for softmax has been deprecated. Change the call to include dim=X as an argument.\n",
       "\n",
       "</pre>\n"
      ],
      "text/plain": [
       "/home/mauro/miniconda3/envs/CMI/lib/python3.11/site-packages/torch/nn/modules/module.py:1736: UserWarning:\n",
       "\n",
       "Implicit dimension choice for softmax has been deprecated. Change the call to include dim=X as an argument.\n",
       "\n"
      ]
     },
     "metadata": {},
     "output_type": "display_data"
    },
    {
     "data": {
      "text/html": [
       "<pre style=\"white-space:pre;overflow-x:auto;line-height:normal;font-family:Menlo,'DejaVu Sans Mono',consolas,'Courier New',monospace\"></pre>\n"
      ],
      "text/plain": []
     },
     "metadata": {},
     "output_type": "display_data"
    },
    {
     "data": {
      "application/vnd.jupyter.widget-view+json": {
       "model_id": "bc58259b509d4044b1ef9352c25ab6e7",
       "version_major": 2,
       "version_minor": 0
      },
      "text/plain": [
       "Output()"
      ]
     },
     "metadata": {},
     "output_type": "display_data"
    },
    {
     "data": {
      "text/html": [
       "<pre style=\"white-space:pre;overflow-x:auto;line-height:normal;font-family:Menlo,'DejaVu Sans Mono',consolas,'Courier New',monospace\">/home/mauro/miniconda3/envs/CMI/lib/python3.11/site-packages/torch/nn/modules/module.py:1736: UserWarning:\n",
       "\n",
       "Implicit dimension choice for softmax has been deprecated. Change the call to include dim=X as an argument.\n",
       "\n",
       "</pre>\n"
      ],
      "text/plain": [
       "/home/mauro/miniconda3/envs/CMI/lib/python3.11/site-packages/torch/nn/modules/module.py:1736: UserWarning:\n",
       "\n",
       "Implicit dimension choice for softmax has been deprecated. Change the call to include dim=X as an argument.\n",
       "\n"
      ]
     },
     "metadata": {},
     "output_type": "display_data"
    },
    {
     "data": {
      "text/html": [
       "<pre style=\"white-space:pre;overflow-x:auto;line-height:normal;font-family:Menlo,'DejaVu Sans Mono',consolas,'Courier New',monospace\"></pre>\n"
      ],
      "text/plain": []
     },
     "metadata": {},
     "output_type": "display_data"
    },
    {
     "data": {
      "application/vnd.jupyter.widget-view+json": {
       "model_id": "ba1292514af040b6a8ed727752655e6f",
       "version_major": 2,
       "version_minor": 0
      },
      "text/plain": [
       "Output()"
      ]
     },
     "metadata": {},
     "output_type": "display_data"
    },
    {
     "data": {
      "text/html": [
       "<pre style=\"white-space:pre;overflow-x:auto;line-height:normal;font-family:Menlo,'DejaVu Sans Mono',consolas,'Courier New',monospace\">/home/mauro/miniconda3/envs/CMI/lib/python3.11/site-packages/torch/nn/modules/module.py:1736: UserWarning:\n",
       "\n",
       "Implicit dimension choice for softmax has been deprecated. Change the call to include dim=X as an argument.\n",
       "\n",
       "</pre>\n"
      ],
      "text/plain": [
       "/home/mauro/miniconda3/envs/CMI/lib/python3.11/site-packages/torch/nn/modules/module.py:1736: UserWarning:\n",
       "\n",
       "Implicit dimension choice for softmax has been deprecated. Change the call to include dim=X as an argument.\n",
       "\n"
      ]
     },
     "metadata": {},
     "output_type": "display_data"
    },
    {
     "data": {
      "text/html": [
       "<pre style=\"white-space:pre;overflow-x:auto;line-height:normal;font-family:Menlo,'DejaVu Sans Mono',consolas,'Courier New',monospace\"></pre>\n"
      ],
      "text/plain": []
     },
     "metadata": {},
     "output_type": "display_data"
    },
    {
     "data": {
      "application/vnd.jupyter.widget-view+json": {
       "model_id": "b9a2c3fae13b42798be59145043bbe06",
       "version_major": 2,
       "version_minor": 0
      },
      "text/plain": [
       "Output()"
      ]
     },
     "metadata": {},
     "output_type": "display_data"
    },
    {
     "data": {
      "text/html": [
       "<pre style=\"white-space:pre;overflow-x:auto;line-height:normal;font-family:Menlo,'DejaVu Sans Mono',consolas,'Courier New',monospace\">/home/mauro/miniconda3/envs/CMI/lib/python3.11/site-packages/torch/nn/modules/module.py:1736: UserWarning:\n",
       "\n",
       "Implicit dimension choice for softmax has been deprecated. Change the call to include dim=X as an argument.\n",
       "\n",
       "</pre>\n"
      ],
      "text/plain": [
       "/home/mauro/miniconda3/envs/CMI/lib/python3.11/site-packages/torch/nn/modules/module.py:1736: UserWarning:\n",
       "\n",
       "Implicit dimension choice for softmax has been deprecated. Change the call to include dim=X as an argument.\n",
       "\n"
      ]
     },
     "metadata": {},
     "output_type": "display_data"
    },
    {
     "data": {
      "text/html": [
       "<pre style=\"white-space:pre;overflow-x:auto;line-height:normal;font-family:Menlo,'DejaVu Sans Mono',consolas,'Courier New',monospace\"></pre>\n"
      ],
      "text/plain": []
     },
     "metadata": {},
     "output_type": "display_data"
    },
    {
     "data": {
      "application/vnd.jupyter.widget-view+json": {
       "model_id": "9022df6ebddb4880b9680b68515bff1a",
       "version_major": 2,
       "version_minor": 0
      },
      "text/plain": [
       "Output()"
      ]
     },
     "metadata": {},
     "output_type": "display_data"
    },
    {
     "data": {
      "text/html": [
       "<pre style=\"white-space:pre;overflow-x:auto;line-height:normal;font-family:Menlo,'DejaVu Sans Mono',consolas,'Courier New',monospace\">/home/mauro/miniconda3/envs/CMI/lib/python3.11/site-packages/torch/nn/modules/module.py:1736: UserWarning:\n",
       "\n",
       "Implicit dimension choice for softmax has been deprecated. Change the call to include dim=X as an argument.\n",
       "\n",
       "</pre>\n"
      ],
      "text/plain": [
       "/home/mauro/miniconda3/envs/CMI/lib/python3.11/site-packages/torch/nn/modules/module.py:1736: UserWarning:\n",
       "\n",
       "Implicit dimension choice for softmax has been deprecated. Change the call to include dim=X as an argument.\n",
       "\n"
      ]
     },
     "metadata": {},
     "output_type": "display_data"
    },
    {
     "data": {
      "text/html": [
       "<pre style=\"white-space:pre;overflow-x:auto;line-height:normal;font-family:Menlo,'DejaVu Sans Mono',consolas,'Courier New',monospace\"></pre>\n"
      ],
      "text/plain": []
     },
     "metadata": {},
     "output_type": "display_data"
    },
    {
     "data": {
      "application/vnd.jupyter.widget-view+json": {
       "model_id": "7e397fd3e776490eb95c70bfb9d571c3",
       "version_major": 2,
       "version_minor": 0
      },
      "text/plain": [
       "Output()"
      ]
     },
     "metadata": {},
     "output_type": "display_data"
    },
    {
     "data": {
      "text/html": [
       "<pre style=\"white-space:pre;overflow-x:auto;line-height:normal;font-family:Menlo,'DejaVu Sans Mono',consolas,'Courier New',monospace\">/home/mauro/miniconda3/envs/CMI/lib/python3.11/site-packages/torch/nn/modules/module.py:1736: UserWarning:\n",
       "\n",
       "Implicit dimension choice for softmax has been deprecated. Change the call to include dim=X as an argument.\n",
       "\n",
       "</pre>\n"
      ],
      "text/plain": [
       "/home/mauro/miniconda3/envs/CMI/lib/python3.11/site-packages/torch/nn/modules/module.py:1736: UserWarning:\n",
       "\n",
       "Implicit dimension choice for softmax has been deprecated. Change the call to include dim=X as an argument.\n",
       "\n"
      ]
     },
     "metadata": {},
     "output_type": "display_data"
    },
    {
     "data": {
      "text/html": [
       "<pre style=\"white-space:pre;overflow-x:auto;line-height:normal;font-family:Menlo,'DejaVu Sans Mono',consolas,'Courier New',monospace\"></pre>\n"
      ],
      "text/plain": []
     },
     "metadata": {},
     "output_type": "display_data"
    }
   ],
   "source": [
    "TRAINING_EPOCHS = 30\n",
    "STARTING_LR = 0.0005\n",
    "model = Resnet(17, 4, 256, 18)\n",
    "optimizer = torch.optim.AdamW(model.parameters(), STARTING_LR)\n",
    "constant_lr_scheduler = torch.optim.lr_scheduler.ConstantLR(optimizer, factor=1, total_iters=len(data_loader) * TRAINING_EPOCHS)\n",
    "training_metrics = fit(TRAINING_EPOCHS, model, constant_lr_scheduler, optimizer, data_loader, nn.CrossEntropyLoss())"
   ]
  },
  {
   "cell_type": "code",
   "execution_count": 40,
   "id": "ce2e1c7a",
   "metadata": {},
   "outputs": [
    {
     "data": {
      "text/html": [
       "<div>\n",
       "<style scoped>\n",
       "    .dataframe tbody tr th:only-of-type {\n",
       "        vertical-align: middle;\n",
       "    }\n",
       "\n",
       "    .dataframe tbody tr th {\n",
       "        vertical-align: top;\n",
       "    }\n",
       "\n",
       "    .dataframe thead th {\n",
       "        text-align: right;\n",
       "    }\n",
       "</style>\n",
       "<table border=\"1\" class=\"dataframe\">\n",
       "  <thead>\n",
       "    <tr style=\"text-align: right;\">\n",
       "      <th></th>\n",
       "      <th>step</th>\n",
       "      <th>epoch</th>\n",
       "      <th>batch_train_loss</th>\n",
       "      <th>lr</th>\n",
       "      <th>train_epoch_loss</th>\n",
       "    </tr>\n",
       "  </thead>\n",
       "  <tbody>\n",
       "    <tr>\n",
       "      <th>0</th>\n",
       "      <td>0</td>\n",
       "      <td>0</td>\n",
       "      <td>2.890818</td>\n",
       "      <td>0.001</td>\n",
       "      <td>NaN</td>\n",
       "    </tr>\n",
       "    <tr>\n",
       "      <th>1</th>\n",
       "      <td>1</td>\n",
       "      <td>0</td>\n",
       "      <td>2.873779</td>\n",
       "      <td>0.001</td>\n",
       "      <td>NaN</td>\n",
       "    </tr>\n",
       "    <tr>\n",
       "      <th>2</th>\n",
       "      <td>2</td>\n",
       "      <td>0</td>\n",
       "      <td>2.846834</td>\n",
       "      <td>0.001</td>\n",
       "      <td>NaN</td>\n",
       "    </tr>\n",
       "    <tr>\n",
       "      <th>3</th>\n",
       "      <td>3</td>\n",
       "      <td>0</td>\n",
       "      <td>2.824693</td>\n",
       "      <td>0.001</td>\n",
       "      <td>NaN</td>\n",
       "    </tr>\n",
       "    <tr>\n",
       "      <th>4</th>\n",
       "      <td>4</td>\n",
       "      <td>0</td>\n",
       "      <td>2.907222</td>\n",
       "      <td>0.001</td>\n",
       "      <td>NaN</td>\n",
       "    </tr>\n",
       "    <tr>\n",
       "      <th>...</th>\n",
       "      <td>...</td>\n",
       "      <td>...</td>\n",
       "      <td>...</td>\n",
       "      <td>...</td>\n",
       "      <td>...</td>\n",
       "    </tr>\n",
       "    <tr>\n",
       "      <th>3835</th>\n",
       "      <td>3835</td>\n",
       "      <td>29</td>\n",
       "      <td>2.658956</td>\n",
       "      <td>0.001</td>\n",
       "      <td>NaN</td>\n",
       "    </tr>\n",
       "    <tr>\n",
       "      <th>3836</th>\n",
       "      <td>3836</td>\n",
       "      <td>29</td>\n",
       "      <td>2.715559</td>\n",
       "      <td>0.001</td>\n",
       "      <td>NaN</td>\n",
       "    </tr>\n",
       "    <tr>\n",
       "      <th>3837</th>\n",
       "      <td>3837</td>\n",
       "      <td>29</td>\n",
       "      <td>2.689245</td>\n",
       "      <td>0.001</td>\n",
       "      <td>NaN</td>\n",
       "    </tr>\n",
       "    <tr>\n",
       "      <th>3838</th>\n",
       "      <td>3838</td>\n",
       "      <td>29</td>\n",
       "      <td>2.735331</td>\n",
       "      <td>0.001</td>\n",
       "      <td>NaN</td>\n",
       "    </tr>\n",
       "    <tr>\n",
       "      <th>3839</th>\n",
       "      <td>3839</td>\n",
       "      <td>29</td>\n",
       "      <td>2.871957</td>\n",
       "      <td>0.001</td>\n",
       "      <td>2.697672</td>\n",
       "    </tr>\n",
       "  </tbody>\n",
       "</table>\n",
       "<p>3840 rows × 5 columns</p>\n",
       "</div>"
      ],
      "text/plain": [
       "      step  epoch  batch_train_loss     lr  train_epoch_loss\n",
       "0        0      0          2.890818  0.001               NaN\n",
       "1        1      0          2.873779  0.001               NaN\n",
       "2        2      0          2.846834  0.001               NaN\n",
       "3        3      0          2.824693  0.001               NaN\n",
       "4        4      0          2.907222  0.001               NaN\n",
       "...    ...    ...               ...    ...               ...\n",
       "3835  3835     29          2.658956  0.001               NaN\n",
       "3836  3836     29          2.715559  0.001               NaN\n",
       "3837  3837     29          2.689245  0.001               NaN\n",
       "3838  3838     29          2.735331  0.001               NaN\n",
       "3839  3839     29          2.871957  0.001          2.697672\n",
       "\n",
       "[3840 rows x 5 columns]"
      ]
     },
     "execution_count": 40,
     "metadata": {},
     "output_type": "execute_result"
    }
   ],
   "source": [
    "training_metrics"
   ]
  },
  {
   "cell_type": "code",
   "execution_count": 49,
   "id": "4619c4fe",
   "metadata": {},
   "outputs": [
    {
     "data": {
      "application/vnd.plotly.v1+json": {
       "config": {
        "plotlyServerURL": "https://plot.ly"
       },
       "data": [
        {
         "hovertemplate": "index=%{x}<br>batch_train_loss=%{y}<extra></extra>",
         "legendgroup": "",
         "marker": {
          "color": "#636efa",
          "symbol": "circle"
         },
         "mode": "markers",
         "name": "",
         "showlegend": false,
         "type": "scattergl",
         "x": {
          "bdata": "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",
          "dtype": "i2"
         },
         "xaxis": "x",
         "y": {
          "bdata": "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",
          "dtype": "f8"
         },
         "yaxis": "y"
        },
        {
         "hovertemplate": "<b>Exponentially Weighted mean trendline</b><br><br>index=%{x}<br>batch_train_loss=%{y} <b>(trend)</b><extra></extra>",
         "legendgroup": "",
         "line": {
          "color": "red"
         },
         "marker": {
          "color": "#636efa",
          "symbol": "circle"
         },
         "mode": "lines",
         "name": "",
         "showlegend": false,
         "type": "scattergl",
         "x": {
          "bdata": "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",
          "dtype": "i2"
         },
         "xaxis": "x",
         "y": {
          "bdata": "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",
          "dtype": "f8"
         },
         "yaxis": "y"
        }
       ],
       "layout": {
        "legend": {
         "tracegroupgap": 0
        },
        "margin": {
         "t": 60
        },
        "template": {
         "data": {
          "bar": [
           {
            "error_x": {
             "color": "#2a3f5f"
            },
            "error_y": {
             "color": "#2a3f5f"
            },
            "marker": {
             "line": {
              "color": "#E5ECF6",
              "width": 0.5
             },
             "pattern": {
              "fillmode": "overlay",
              "size": 10,
              "solidity": 0.2
             }
            },
            "type": "bar"
           }
          ],
          "barpolar": [
           {
            "marker": {
             "line": {
              "color": "#E5ECF6",
              "width": 0.5
             },
             "pattern": {
              "fillmode": "overlay",
              "size": 10,
              "solidity": 0.2
             }
            },
            "type": "barpolar"
           }
          ],
          "carpet": [
           {
            "aaxis": {
             "endlinecolor": "#2a3f5f",
             "gridcolor": "white",
             "linecolor": "white",
             "minorgridcolor": "white",
             "startlinecolor": "#2a3f5f"
            },
            "baxis": {
             "endlinecolor": "#2a3f5f",
             "gridcolor": "white",
             "linecolor": "white",
             "minorgridcolor": "white",
             "startlinecolor": "#2a3f5f"
            },
            "type": "carpet"
           }
          ],
          "choropleth": [
           {
            "colorbar": {
             "outlinewidth": 0,
             "ticks": ""
            },
            "type": "choropleth"
           }
          ],
          "contour": [
           {
            "colorbar": {
             "outlinewidth": 0,
             "ticks": ""
            },
            "colorscale": [
             [
              0,
              "#0d0887"
             ],
             [
              0.1111111111111111,
              "#46039f"
             ],
             [
              0.2222222222222222,
              "#7201a8"
             ],
             [
              0.3333333333333333,
              "#9c179e"
             ],
             [
              0.4444444444444444,
              "#bd3786"
             ],
             [
              0.5555555555555556,
              "#d8576b"
             ],
             [
              0.6666666666666666,
              "#ed7953"
             ],
             [
              0.7777777777777778,
              "#fb9f3a"
             ],
             [
              0.8888888888888888,
              "#fdca26"
             ],
             [
              1,
              "#f0f921"
             ]
            ],
            "type": "contour"
           }
          ],
          "contourcarpet": [
           {
            "colorbar": {
             "outlinewidth": 0,
             "ticks": ""
            },
            "type": "contourcarpet"
           }
          ],
          "heatmap": [
           {
            "colorbar": {
             "outlinewidth": 0,
             "ticks": ""
            },
            "colorscale": [
             [
              0,
              "#0d0887"
             ],
             [
              0.1111111111111111,
              "#46039f"
             ],
             [
              0.2222222222222222,
              "#7201a8"
             ],
             [
              0.3333333333333333,
              "#9c179e"
             ],
             [
              0.4444444444444444,
              "#bd3786"
             ],
             [
              0.5555555555555556,
              "#d8576b"
             ],
             [
              0.6666666666666666,
              "#ed7953"
             ],
             [
              0.7777777777777778,
              "#fb9f3a"
             ],
             [
              0.8888888888888888,
              "#fdca26"
             ],
             [
              1,
              "#f0f921"
             ]
            ],
            "type": "heatmap"
           }
          ],
          "histogram": [
           {
            "marker": {
             "pattern": {
              "fillmode": "overlay",
              "size": 10,
              "solidity": 0.2
             }
            },
            "type": "histogram"
           }
          ],
          "histogram2d": [
           {
            "colorbar": {
             "outlinewidth": 0,
             "ticks": ""
            },
            "colorscale": [
             [
              0,
              "#0d0887"
             ],
             [
              0.1111111111111111,
              "#46039f"
             ],
             [
              0.2222222222222222,
              "#7201a8"
             ],
             [
              0.3333333333333333,
              "#9c179e"
             ],
             [
              0.4444444444444444,
              "#bd3786"
             ],
             [
              0.5555555555555556,
              "#d8576b"
             ],
             [
              0.6666666666666666,
              "#ed7953"
             ],
             [
              0.7777777777777778,
              "#fb9f3a"
             ],
             [
              0.8888888888888888,
              "#fdca26"
             ],
             [
              1,
              "#f0f921"
             ]
            ],
            "type": "histogram2d"
           }
          ],
          "histogram2dcontour": [
           {
            "colorbar": {
             "outlinewidth": 0,
             "ticks": ""
            },
            "colorscale": [
             [
              0,
              "#0d0887"
             ],
             [
              0.1111111111111111,
              "#46039f"
             ],
             [
              0.2222222222222222,
              "#7201a8"
             ],
             [
              0.3333333333333333,
              "#9c179e"
             ],
             [
              0.4444444444444444,
              "#bd3786"
             ],
             [
              0.5555555555555556,
              "#d8576b"
             ],
             [
              0.6666666666666666,
              "#ed7953"
             ],
             [
              0.7777777777777778,
              "#fb9f3a"
             ],
             [
              0.8888888888888888,
              "#fdca26"
             ],
             [
              1,
              "#f0f921"
             ]
            ],
            "type": "histogram2dcontour"
           }
          ],
          "mesh3d": [
           {
            "colorbar": {
             "outlinewidth": 0,
             "ticks": ""
            },
            "type": "mesh3d"
           }
          ],
          "parcoords": [
           {
            "line": {
             "colorbar": {
              "outlinewidth": 0,
              "ticks": ""
             }
            },
            "type": "parcoords"
           }
          ],
          "pie": [
           {
            "automargin": true,
            "type": "pie"
           }
          ],
          "scatter": [
           {
            "fillpattern": {
             "fillmode": "overlay",
             "size": 10,
             "solidity": 0.2
            },
            "type": "scatter"
           }
          ],
          "scatter3d": [
           {
            "line": {
             "colorbar": {
              "outlinewidth": 0,
              "ticks": ""
             }
            },
            "marker": {
             "colorbar": {
              "outlinewidth": 0,
              "ticks": ""
             }
            },
            "type": "scatter3d"
           }
          ],
          "scattercarpet": [
           {
            "marker": {
             "colorbar": {
              "outlinewidth": 0,
              "ticks": ""
             }
            },
            "type": "scattercarpet"
           }
          ],
          "scattergeo": [
           {
            "marker": {
             "colorbar": {
              "outlinewidth": 0,
              "ticks": ""
             }
            },
            "type": "scattergeo"
           }
          ],
          "scattergl": [
           {
            "marker": {
             "colorbar": {
              "outlinewidth": 0,
              "ticks": ""
             }
            },
            "type": "scattergl"
           }
          ],
          "scattermap": [
           {
            "marker": {
             "colorbar": {
              "outlinewidth": 0,
              "ticks": ""
             }
            },
            "type": "scattermap"
           }
          ],
          "scattermapbox": [
           {
            "marker": {
             "colorbar": {
              "outlinewidth": 0,
              "ticks": ""
             }
            },
            "type": "scattermapbox"
           }
          ],
          "scatterpolar": [
           {
            "marker": {
             "colorbar": {
              "outlinewidth": 0,
              "ticks": ""
             }
            },
            "type": "scatterpolar"
           }
          ],
          "scatterpolargl": [
           {
            "marker": {
             "colorbar": {
              "outlinewidth": 0,
              "ticks": ""
             }
            },
            "type": "scatterpolargl"
           }
          ],
          "scatterternary": [
           {
            "marker": {
             "colorbar": {
              "outlinewidth": 0,
              "ticks": ""
             }
            },
            "type": "scatterternary"
           }
          ],
          "surface": [
           {
            "colorbar": {
             "outlinewidth": 0,
             "ticks": ""
            },
            "colorscale": [
             [
              0,
              "#0d0887"
             ],
             [
              0.1111111111111111,
              "#46039f"
             ],
             [
              0.2222222222222222,
              "#7201a8"
             ],
             [
              0.3333333333333333,
              "#9c179e"
             ],
             [
              0.4444444444444444,
              "#bd3786"
             ],
             [
              0.5555555555555556,
              "#d8576b"
             ],
             [
              0.6666666666666666,
              "#ed7953"
             ],
             [
              0.7777777777777778,
              "#fb9f3a"
             ],
             [
              0.8888888888888888,
              "#fdca26"
             ],
             [
              1,
              "#f0f921"
             ]
            ],
            "type": "surface"
           }
          ],
          "table": [
           {
            "cells": {
             "fill": {
              "color": "#EBF0F8"
             },
             "line": {
              "color": "white"
             }
            },
            "header": {
             "fill": {
              "color": "#C8D4E3"
             },
             "line": {
              "color": "white"
             }
            },
            "type": "table"
           }
          ]
         },
         "layout": {
          "annotationdefaults": {
           "arrowcolor": "#2a3f5f",
           "arrowhead": 0,
           "arrowwidth": 1
          },
          "autotypenumbers": "strict",
          "coloraxis": {
           "colorbar": {
            "outlinewidth": 0,
            "ticks": ""
           }
          },
          "colorscale": {
           "diverging": [
            [
             0,
             "#8e0152"
            ],
            [
             0.1,
             "#c51b7d"
            ],
            [
             0.2,
             "#de77ae"
            ],
            [
             0.3,
             "#f1b6da"
            ],
            [
             0.4,
             "#fde0ef"
            ],
            [
             0.5,
             "#f7f7f7"
            ],
            [
             0.6,
             "#e6f5d0"
            ],
            [
             0.7,
             "#b8e186"
            ],
            [
             0.8,
             "#7fbc41"
            ],
            [
             0.9,
             "#4d9221"
            ],
            [
             1,
             "#276419"
            ]
           ],
           "sequential": [
            [
             0,
             "#0d0887"
            ],
            [
             0.1111111111111111,
             "#46039f"
            ],
            [
             0.2222222222222222,
             "#7201a8"
            ],
            [
             0.3333333333333333,
             "#9c179e"
            ],
            [
             0.4444444444444444,
             "#bd3786"
            ],
            [
             0.5555555555555556,
             "#d8576b"
            ],
            [
             0.6666666666666666,
             "#ed7953"
            ],
            [
             0.7777777777777778,
             "#fb9f3a"
            ],
            [
             0.8888888888888888,
             "#fdca26"
            ],
            [
             1,
             "#f0f921"
            ]
           ],
           "sequentialminus": [
            [
             0,
             "#0d0887"
            ],
            [
             0.1111111111111111,
             "#46039f"
            ],
            [
             0.2222222222222222,
             "#7201a8"
            ],
            [
             0.3333333333333333,
             "#9c179e"
            ],
            [
             0.4444444444444444,
             "#bd3786"
            ],
            [
             0.5555555555555556,
             "#d8576b"
            ],
            [
             0.6666666666666666,
             "#ed7953"
            ],
            [
             0.7777777777777778,
             "#fb9f3a"
            ],
            [
             0.8888888888888888,
             "#fdca26"
            ],
            [
             1,
             "#f0f921"
            ]
           ]
          },
          "colorway": [
           "#636efa",
           "#EF553B",
           "#00cc96",
           "#ab63fa",
           "#FFA15A",
           "#19d3f3",
           "#FF6692",
           "#B6E880",
           "#FF97FF",
           "#FECB52"
          ],
          "font": {
           "color": "#2a3f5f"
          },
          "geo": {
           "bgcolor": "white",
           "lakecolor": "white",
           "landcolor": "#E5ECF6",
           "showlakes": true,
           "showland": true,
           "subunitcolor": "white"
          },
          "hoverlabel": {
           "align": "left"
          },
          "hovermode": "closest",
          "mapbox": {
           "style": "light"
          },
          "paper_bgcolor": "white",
          "plot_bgcolor": "#E5ECF6",
          "polar": {
           "angularaxis": {
            "gridcolor": "white",
            "linecolor": "white",
            "ticks": ""
           },
           "bgcolor": "#E5ECF6",
           "radialaxis": {
            "gridcolor": "white",
            "linecolor": "white",
            "ticks": ""
           }
          },
          "scene": {
           "xaxis": {
            "backgroundcolor": "#E5ECF6",
            "gridcolor": "white",
            "gridwidth": 2,
            "linecolor": "white",
            "showbackground": true,
            "ticks": "",
            "zerolinecolor": "white"
           },
           "yaxis": {
            "backgroundcolor": "#E5ECF6",
            "gridcolor": "white",
            "gridwidth": 2,
            "linecolor": "white",
            "showbackground": true,
            "ticks": "",
            "zerolinecolor": "white"
           },
           "zaxis": {
            "backgroundcolor": "#E5ECF6",
            "gridcolor": "white",
            "gridwidth": 2,
            "linecolor": "white",
            "showbackground": true,
            "ticks": "",
            "zerolinecolor": "white"
           }
          },
          "shapedefaults": {
           "line": {
            "color": "#2a3f5f"
           }
          },
          "ternary": {
           "aaxis": {
            "gridcolor": "white",
            "linecolor": "white",
            "ticks": ""
           },
           "baxis": {
            "gridcolor": "white",
            "linecolor": "white",
            "ticks": ""
           },
           "bgcolor": "#E5ECF6",
           "caxis": {
            "gridcolor": "white",
            "linecolor": "white",
            "ticks": ""
           }
          },
          "title": {
           "x": 0.05
          },
          "xaxis": {
           "automargin": true,
           "gridcolor": "white",
           "linecolor": "white",
           "ticks": "",
           "title": {
            "standoff": 15
           },
           "zerolinecolor": "white",
           "zerolinewidth": 2
          },
          "yaxis": {
           "automargin": true,
           "gridcolor": "white",
           "linecolor": "white",
           "ticks": "",
           "title": {
            "standoff": 15
           },
           "zerolinecolor": "white",
           "zerolinewidth": 2
          }
         }
        },
        "xaxis": {
         "anchor": "y",
         "domain": [
          0,
          1
         ],
         "title": {
          "text": "index"
         }
        },
        "yaxis": {
         "anchor": "x",
         "domain": [
          0,
          1
         ],
         "title": {
          "text": "batch_train_loss"
         }
        }
       }
      }
     },
     "metadata": {},
     "output_type": "display_data"
    }
   ],
   "source": [
    "import plotly.express as px\n",
    "\n",
    "px.scatter(training_metrics, y=\"batch_train_loss\", trendline=\"ewm\", trendline_options={\"com\":60}, trendline_color_override=\"red\")"
   ]
  }
 ],
 "metadata": {
  "kernelspec": {
   "display_name": "CMI",
   "language": "python",
   "name": "python3"
  },
  "language_info": {
   "codemirror_mode": {
    "name": "ipython",
    "version": 3
   },
   "file_extension": ".py",
   "mimetype": "text/x-python",
   "name": "python",
   "nbconvert_exporter": "python",
   "pygments_lexer": "ipython3",
   "version": "3.11.5"
  }
 },
 "nbformat": 4,
 "nbformat_minor": 5
}
