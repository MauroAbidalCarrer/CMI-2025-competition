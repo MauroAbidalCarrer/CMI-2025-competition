{
 "cells": [
  {
   "cell_type": "markdown",
   "id": "53d41434",
   "metadata": {},
   "source": [
    "# Training model\n",
    "The goal of this notebook is to train a model and upload it to kaggle."
   ]
  },
  {
   "cell_type": "markdown",
   "id": "696a0573",
   "metadata": {},
   "source": [
    "## Setup"
   ]
  },
  {
   "cell_type": "markdown",
   "id": "dc4c23f0",
   "metadata": {},
   "source": [
    "### Imports"
   ]
  },
  {
   "cell_type": "code",
   "execution_count": 1,
   "id": "66f429fe",
   "metadata": {},
   "outputs": [],
   "source": [
    "import os\n",
    "import json\n",
    "from glob import glob\n",
    "from datetime import datetime\n",
    "from itertools import pairwise\n",
    "from os.path import join, realpath\n",
    "from typing import Optional, Literal\n",
    "\n",
    "import torch\n",
    "import kagglehub\n",
    "import numpy as np\n",
    "import pandas as pd\n",
    "import plotly.express as px\n",
    "from torch import nn, Tensor\n",
    "from pandas import DataFrame as DF\n",
    "from torch.utils.data import TensorDataset\n",
    "from torch.utils.data import DataLoader as DL\n",
    "from rich.progress import Progress, Task, track\n",
    "from torch.optim.lr_scheduler import ConstantLR, LRScheduler\n",
    "metric_package = kagglehub.package_import('wasupandceacar/cmi-metric', bypass_confirmation=True)"
   ]
  },
  {
   "cell_type": "markdown",
   "id": "fbe9b25b",
   "metadata": {},
   "source": [
    "### Config"
   ]
  },
  {
   "cell_type": "code",
   "execution_count": 2,
   "id": "82515f95",
   "metadata": {},
   "outputs": [],
   "source": [
    "TRAINING_EPOCHS = 60\n",
    "STARTING_LR = 0.0005\n",
    "BATCH_SIZE = 256"
   ]
  },
  {
   "cell_type": "markdown",
   "id": "561af8f7",
   "metadata": {},
   "source": [
    "### Dataset Setup"
   ]
  },
  {
   "cell_type": "code",
   "execution_count": 3,
   "id": "63a131e0",
   "metadata": {},
   "outputs": [],
   "source": [
    "dataset_path = kagglehub.dataset_download(\n",
    "    handle=\"mauroabidalcarrer/prepocessed-cmi-2025\",\n",
    ")"
   ]
  },
  {
   "cell_type": "code",
   "execution_count": 4,
   "id": "e46c3b4e",
   "metadata": {},
   "outputs": [],
   "source": [
    "class CMIDataset(TensorDataset):\n",
    "    def __init__(\n",
    "        self,\n",
    "        parent_dir: str,\n",
    "        split: Optional[Literal[\"train\", \"validation\"]]=None,\n",
    "        subset: Optional[int]=None,\n",
    "        force_download=False\n",
    "    ):\n",
    "        dataset_path = kagglehub.dataset_download(\n",
    "            handle=\"mauroabidalcarrer/prepocessed-cmi-2025\",\n",
    "            force_download=force_download\n",
    "        )\n",
    "        parent_dir = join(dataset_path, \"preprocessed_dataset\", parent_dir)\n",
    "        split = \"\" if split is None else split + \"_\"\n",
    "        x = np.load(join(parent_dir, f\"{split}X.npy\")).swapaxes(1, 2)\n",
    "        y = np.load(join(parent_dir, f\"{split}Y.npy\"))\n",
    "        if subset is not None:\n",
    "            x = x[:subset]\n",
    "            y = y[:subset]\n",
    "        super().__init__(\n",
    "            torch.from_numpy(x), \n",
    "            torch.from_numpy(y),\n",
    "        )"
   ]
  },
  {
   "cell_type": "code",
   "execution_count": 5,
   "id": "a2de4288",
   "metadata": {},
   "outputs": [],
   "source": [
    "meta_data_path = join(\n",
    "    dataset_path,\n",
    "    \"preprocessed_dataset\",\n",
    "    \"full_dataset_meta_data.json\"\n",
    ")\n",
    "with open(meta_data_path, \"r\") as fp:\n",
    "    meta_data = json.load(fp)\n",
    "# Convert target names into a ndarray to index it batchwise.\n",
    "meta_data[\"target_names\"] = np.asarray(meta_data[\"target_names\"])\n",
    "non_imu_feats_idx = [feat_idx for feat_idx, feat in enumerate(meta_data[\"feature_cols\"]) if feat.startswith((\"thm\", \"tof\"))]"
   ]
  },
  {
   "cell_type": "markdown",
   "id": "e7cce363",
   "metadata": {},
   "source": [
    "### device setup"
   ]
  },
  {
   "cell_type": "code",
   "execution_count": 6,
   "id": "2710f791",
   "metadata": {},
   "outputs": [],
   "source": [
    "device = torch.device(\"cuda\") if torch.cuda.is_available() else torch.device(\"cpu\")"
   ]
  },
  {
   "cell_type": "markdown",
   "id": "7405a353",
   "metadata": {},
   "source": [
    "## Model definition"
   ]
  },
  {
   "cell_type": "code",
   "execution_count": 7,
   "id": "5ecc32a1",
   "metadata": {},
   "outputs": [],
   "source": [
    "class ResidualBlock(nn.Module):\n",
    "    def __init__(self, in_chns:int, out_chns:int):\n",
    "        super().__init__()\n",
    "        self.blocks = nn.Sequential(\n",
    "            nn.Conv1d(in_chns, out_chns, kernel_size=3, padding=1),\n",
    "            nn.BatchNorm1d(out_chns),\n",
    "            nn.ReLU(),\n",
    "            nn.Conv1d(out_chns, out_chns, kernel_size=3, padding=1),\n",
    "            nn.BatchNorm1d(out_chns),\n",
    "        )\n",
    "        if in_chns == out_chns:\n",
    "            self.skip_connection = nn.Identity() \n",
    "        else:\n",
    "            # TODO: set bias to False ?\n",
    "            self.skip_connection = nn.Sequential(\n",
    "                nn.Conv1d(in_chns, out_chns, 1),\n",
    "                nn.BatchNorm1d(out_chns)\n",
    "            )\n",
    "\n",
    "    def forward(self, x:Tensor) -> Tensor:\n",
    "        activaition_maps = self.skip_connection(x) + self.blocks(x)\n",
    "        return nn.functional.relu(activaition_maps)\n",
    "\n",
    "class Resnet(nn.Module):\n",
    "    def __init__(\n",
    "            self,\n",
    "            in_channels:int,\n",
    "            depth:int,\n",
    "            # n_res_block_per_depth:int,\n",
    "            mlp_width:int,\n",
    "            n_class:int,\n",
    "        ):\n",
    "        super().__init__()\n",
    "        chs_per_depth = [in_channels * 2 ** i for i in range(depth)]\n",
    "        blocks_chns_it = pairwise(chs_per_depth)\n",
    "        self.res_blocks = [ResidualBlock(in_chns, out_chns) for in_chns, out_chns in blocks_chns_it]\n",
    "        self.res_blocks = nn.ModuleList(self.res_blocks)\n",
    "        self.mlp_head = nn.Sequential(\n",
    "            nn.LazyLinear(mlp_width),\n",
    "            nn.ReLU(),\n",
    "            nn.Linear(mlp_width, n_class),\n",
    "            nn.Softmax(dim=1),\n",
    "        )\n",
    "        \n",
    "        \n",
    "    def forward(self, x:Tensor) -> Tensor:\n",
    "        activation_maps = x\n",
    "        for res_block in self.res_blocks:\n",
    "            activation_maps = nn.functional.max_pool1d(res_block(activation_maps), 2)\n",
    "        out = activation_maps.view(activation_maps.shape[0], -1)\n",
    "        out = self.mlp_head(out)\n",
    "        return out"
   ]
  },
  {
   "cell_type": "markdown",
   "id": "5a83f1e7",
   "metadata": {},
   "source": [
    "## Training functions "
   ]
  },
  {
   "cell_type": "markdown",
   "id": "c8014fc2",
   "metadata": {},
   "source": [
    "### Training"
   ]
  },
  {
   "cell_type": "code",
   "execution_count": 8,
   "id": "7cc879eb",
   "metadata": {},
   "outputs": [],
   "source": [
    "def fit(epochs:int,\n",
    "        model: nn.Module,\n",
    "        scheduler: LRScheduler,\n",
    "        optimizer: torch.optim.Optimizer,\n",
    "        train_loader: DL,\n",
    "        criterion: callable=nn.L1Loss(),\n",
    "        evaluation_func: callable=None,\n",
    "        validation_loader: DL=None,\n",
    "        save_checkpoints=True,\n",
    "    ) -> tuple[DF, str]:\n",
    "    \"\"\"\n",
    "    Returns:\n",
    "        (training_metrics, path_to_checkpoints)\n",
    "    \"\"\"\n",
    "    # Setup\n",
    "    metrics: list[dict] = []\n",
    "    checkpoints_dir = os.path.join(\"checkpoints\", mk_date_now_str())\n",
    "    step = 0\n",
    "    model_device = next(model.parameters()).device\n",
    "    last_epoch_metric = {}\n",
    "    # Training loop\n",
    "    with Progress() as progress:\n",
    "        task: Task = progress.add_task(\n",
    "            \"training...\",\n",
    "            total=len(train_loader),\n",
    "        )\n",
    "        for epoch in range(epochs):\n",
    "            progress.update(\n",
    "                task,\n",
    "                description=f\"epoch: {epoch}\",\n",
    "                completed=0,\n",
    "            )\n",
    "            total_epoch_loss = 0\n",
    "            total_accuracy = 0\n",
    "            for batch_idx, (x, y) in enumerate(train_loader):\n",
    "                # forward\n",
    "                x = x.to(model_device)\n",
    "                y = y.to(model_device)\n",
    "                model.train()\n",
    "                optimizer.zero_grad()\n",
    "                y_pred: Tensor = model(x)\n",
    "                loss_value = criterion(y_pred, y)\n",
    "                # Verify loss value\n",
    "                if torch.isnan(loss_value).any().item():\n",
    "                    progress.print(\"Warning: Got NaN loss, stopped training.\")\n",
    "                    return DF.from_records(metrics) \n",
    "                if torch.isinf(loss_value).any().item():\n",
    "                    progress.print(\"Warning: Got infinite loss, stopped training.\")\n",
    "                    return DF.from_records(metrics) \n",
    "                # TODO: Use gradient clipping?\n",
    "                loss_value.backward()\n",
    "                optimizer.step()\n",
    "                if step > 0: # If it's not the first training step, idk why it throws an error otherwise\n",
    "                    scheduler.step()\n",
    "                # metrics\n",
    "                total_epoch_loss += loss_value.item()\n",
    "                batch_accuracy = compute_accuracy(y_pred, y)\n",
    "                total_accuracy += batch_accuracy\n",
    "                metrics.append({\n",
    "                    \"step\": step,\n",
    "                    \"epoch\": epoch,\n",
    "                    \"batch_train_loss\": loss_value.item(),\n",
    "                    \"lr\": optimizer.state_dict()[\"param_groups\"][-1][\"lr\"],\n",
    "                    \"batch_accuracy\": batch_accuracy,\n",
    "                })\n",
    "                step += 1\n",
    "                if \"validation_accuracy\" in last_epoch_metric:\n",
    "                    last_validation_acc = \"%.2f\" % last_epoch_metric[\"validation_accuracy\"]\n",
    "                    val_acc_str = \"val. acc: \" + last_validation_acc\n",
    "                else:\n",
    "                    val_acc_str = \"\"\n",
    "                progress.update(\n",
    "                    task,\n",
    "                    advance=1,\n",
    "                    description=f\"epoch: {epoch}, batch_loss: {(total_epoch_loss / (batch_idx+1)):.2f}, {val_acc_str}\"\n",
    "                )\n",
    "            # Post epoch evalution\n",
    "            metrics[-1][\"train_epoch_loss\"] = total_epoch_loss / len(train_loader)\n",
    "            metrics[-1][\"train_epoch_accuracy\"] = total_accuracy / len(train_loader)\n",
    "            if evaluation_func:\n",
    "                progress.update(\n",
    "                    task,\n",
    "                    completed=0,\n",
    "                    description=f\"epoch: {epoch}, evaluating...\"\n",
    "                )\n",
    "                eval_metrics = evaluation_func(model, criterion, validation_loader)\n",
    "                metrics[-1].update(eval_metrics)\n",
    "            last_epoch_metric = metrics[-1]\n",
    "            # Save checkpoint\n",
    "            if save_checkpoints:\n",
    "                checkpoint = mk_checkpoint(epoch, model, scheduler, optimizer)\n",
    "                metrics_df = DF.from_records(metrics)\n",
    "                best_model_metric = \"validation_loss\" if \"validation_loss\" in metrics_df.columns else \"train_epoch_loss\"\n",
    "                is_best_checkpoint = (\n",
    "                    DF.from_records(metrics)\n",
    "                    .eval(f\"min_{best_model_metric} = {best_model_metric}.min()\")\n",
    "                    .eval(f\"is_best_{best_model_metric} = {best_model_metric} == min_{best_model_metric}\")\n",
    "                    .dropna(subset=f\"is_best_{best_model_metric}\")\n",
    "                    .iloc[-1]\n",
    "                    .loc[f\"is_best_{best_model_metric}\"]\n",
    "                )\n",
    "                save_checkpoint(checkpoint, checkpoints_dir, is_best_checkpoint)\n",
    "\n",
    "    return DF.from_records(metrics), checkpoints_dir\n",
    "\n",
    "def evaluate_model(\n",
    "        model: torch.nn.Module,\n",
    "        critirion:callable,\n",
    "        validation_loader:DL,\n",
    "    ) -> dict:\n",
    "    model = model.eval()\n",
    "    model_device = next(model.parameters()).device\n",
    "    competition_metric = metric_package.Metric()\n",
    "\n",
    "    total_accuracy = 0\n",
    "    total_test_loss = 0\n",
    "    for x, y in validation_loader:\n",
    "        x = x.to(model_device)\n",
    "        y = y.to(model_device)\n",
    "\n",
    "        half = BATCH_SIZE // 2         \n",
    "        x_front = x[:half]               \n",
    "        x_back  = x[half:].clone()      \n",
    "        \n",
    "        x_back[:, :, non_imu_feats_idx] = 0.0    \n",
    "        x = torch.cat([x_front, x_back], dim=0)  # (B, C, T)\n",
    "\n",
    "        y_pred = model(x)\n",
    "        total_test_loss += critirion(y_pred, y).item()\n",
    "        batch_accuracy = compute_accuracy(y_pred, y)\n",
    "        total_accuracy += batch_accuracy\n",
    "        competition_metric.add(get_str_target(y), get_str_target(y_pred))\n",
    "\n",
    "    return {\n",
    "        \"validation_loss\": total_test_loss / len(validation_loader),\n",
    "        \"validation_accuracy\": total_accuracy / len(validation_loader),\n",
    "        \"competition_score\": competition_metric.score(),\n",
    "    }\n",
    "\n",
    "def get_str_target(y:Tensor) -> str:\n",
    "    y_idx = y.max(dim=1)[1].tolist()\n",
    "    return meta_data[\"target_names\"][y_idx]\n",
    "\n",
    "def compute_accuracy(y_pred:Tensor, y:Tensor) -> float:\n",
    "    return (\n",
    "            (y.max(dim=1)[1] == y_pred.max(dim=1)[1])\n",
    "            .sum()\n",
    "            .item()\n",
    "    ) / y.shape[0]\n",
    "\n",
    "def mk_checkpoint(\n",
    "        epoch:int,\n",
    "        model: torch.nn.Module,\n",
    "        scheduler: LRScheduler,\n",
    "        optimizer: torch.optim.Optimizer\n",
    "    ) -> dict:\n",
    "    if torch.cuda.is_available():\n",
    "        model_state_dict = {k: v.detach().cpu() for k, v in model.state_dict().items()}\n",
    "    else:\n",
    "        model_state_dict = model.state_dict()\n",
    "\n",
    "    return {\n",
    "        \"epoch\": epoch,\n",
    "        \"model\": model.state_dict(),\n",
    "        \"optimizer\": optimizer.state_dict(),\n",
    "        \"scheduler\": scheduler.state_dict(),\n",
    "    }\n",
    "\n",
    "def save_checkpoint(checkpoint:dict, parent_dir:str, is_best_checkpoint=False):\n",
    "    # Create model name\n",
    "    checkpoint_filename = f\"epoch_{checkpoint['epoch']}_{mk_date_now_str()}.pth\"\n",
    "    # Save model\n",
    "    os.makedirs(parent_dir, exist_ok=True)\n",
    "    checkpoint_path = os.path.join(parent_dir, checkpoint_filename)\n",
    "    torch.save(checkpoint, checkpoint_path)\n",
    "    mk_symlink(checkpoint_path, os.path.join(parent_dir, \"latest_checkpoint.pth\"))\n",
    "    if is_best_checkpoint:\n",
    "        mk_symlink(checkpoint_path, os.path.join(parent_dir, \"best_checkpoint.pth\"))\n",
    "\n",
    "def mk_date_now_str() -> str:\n",
    "    return datetime.now().strftime(\"%d-%m-%Y_%H-%M\")\n",
    "\n",
    "def mk_symlink(dest:str, symlink_path:str):\n",
    "    if os.path.islink(symlink_path) or os.path.exists(symlink_path):\n",
    "        os.remove(symlink_path)\n",
    "    os.symlink(dest, symlink_path)"
   ]
  },
  {
   "cell_type": "code",
   "execution_count": 9,
   "id": "534c536e",
   "metadata": {},
   "outputs": [
    {
     "name": "stdout",
     "output_type": "stream",
     "text": [
      "input channels: 66\n"
     ]
    }
   ],
   "source": [
    "def mk_model() -> nn.Module:\n",
    "    nb_in_chans = len(meta_data[\"feature_cols\"])\n",
    "    return (\n",
    "        Resnet(\n",
    "            in_channels=nb_in_chans,\n",
    "            depth=4,\n",
    "            mlp_width=256,\n",
    "            n_class=18\n",
    "        )\n",
    "        .to(device)\n",
    "    )\n",
    "\n",
    "print(\"input channels:\", len(meta_data[\"feature_cols\"]))"
   ]
  },
  {
   "cell_type": "code",
   "execution_count": 10,
   "id": "fe1e327c",
   "metadata": {},
   "outputs": [],
   "source": [
    "def mk_model_and_fit(train_loader:DL, validation_loader:Optional[DL]=None) -> tuple[nn.Module, DF, list[str]]:\n",
    "    model = mk_model()\n",
    "    optimizer = torch.optim.AdamW(model.parameters(), STARTING_LR)\n",
    "    constant_lr_scheduler = ConstantLR(optimizer, factor=1, total_iters=len(train_loader) * TRAINING_EPOCHS)\n",
    "    training_metrics, model_checkpoints = fit(\n",
    "        epochs=TRAINING_EPOCHS,\n",
    "        model=model,\n",
    "        scheduler=constant_lr_scheduler,\n",
    "        optimizer=optimizer,\n",
    "        train_loader=train_loader,\n",
    "        criterion=nn.CrossEntropyLoss(),\n",
    "        evaluation_func=evaluate_model if validation_loader else None,\n",
    "        validation_loader=validation_loader,\n",
    "        save_checkpoints=True,\n",
    "    )\n",
    "\n",
    "    return model, training_metrics, model_checkpoints"
   ]
  },
  {
   "cell_type": "markdown",
   "id": "0ddd2294",
   "metadata": {},
   "source": [
    "### Training metrics plotting"
   ]
  },
  {
   "cell_type": "code",
   "execution_count": null,
   "id": "4619c4fe",
   "metadata": {},
   "outputs": [],
   "source": [
    "def plt_train_split_training_metrics(training_metrics:DF):\n",
    "    (\n",
    "        px.scatter(\n",
    "            (\n",
    "                training_metrics\n",
    "                .melt(\n",
    "                    id_vars=\"step\",\n",
    "                    value_vars=[\n",
    "                        \"batch_train_loss\",\n",
    "                        \"batch_accuracy\",\n",
    "                    ]\n",
    "                )\n",
    "            ),\n",
    "            x=\"step\",\n",
    "            y=\"value\",\n",
    "            facet_row=\"variable\",\n",
    "            trendline=\"ewm\",\n",
    "            trendline_options={\"com\": 30},\n",
    "            trendline_color_override=\"red\",\n",
    "            title=\"batch metrics\",\n",
    "        )\n",
    "        .update_yaxes(matches=None)\n",
    "        .show()\n",
    "    )\n",
    "\n",
    "def plt_validation_split_training_metrics(training_metrics:DF):\n",
    "    (\n",
    "        px.line(\n",
    "            (\n",
    "                training_metrics\n",
    "                .query(\"validation_loss.notna()\")\n",
    "                .melt(\n",
    "                    id_vars=\"epoch\",\n",
    "                    value_vars=['train_epoch_accuracy', 'validation_accuracy', \"competition_score\"]\n",
    "                )\n",
    "            ),\n",
    "            x=\"epoch\",\n",
    "            y=\"value\",\n",
    "            color=\"variable\",\n",
    "            facet_row=\"variable\",\n",
    "            title=\"epoch metrics\",\n",
    "            render_mode=\"line+marker\",\n",
    "        ).update_yaxes(matches=None)\n",
    "        .show()\n",
    "    )"
   ]
  },
  {
   "cell_type": "markdown",
   "id": "92bee315",
   "metadata": {},
   "source": [
    "## Cross validation training"
   ]
  },
  {
   "cell_type": "code",
   "execution_count": 12,
   "id": "a711c430",
   "metadata": {},
   "outputs": [
    {
     "name": "stdout",
     "output_type": "stream",
     "text": [
      "training: 1\n"
     ]
    },
    {
     "data": {
      "application/vnd.jupyter.widget-view+json": {
       "model_id": "07bd8e4a3dd44a79a3855d4f2e9dd2d5",
       "version_major": 2,
       "version_minor": 0
      },
      "text/plain": [
       "Output()"
      ]
     },
     "metadata": {},
     "output_type": "display_data"
    },
    {
     "data": {
      "text/html": [
       "<pre style=\"white-space:pre;overflow-x:auto;line-height:normal;font-family:Menlo,'DejaVu Sans Mono',consolas,'Courier New',monospace\"></pre>\n"
      ],
      "text/plain": []
     },
     "metadata": {},
     "output_type": "display_data"
    },
    {
     "data": {
      "application/vnd.plotly.v1+json": {
       "config": {
        "plotlyServerURL": "https://plot.ly"
       },
       "data": [
        {
         "hovertemplate": "variable=train_epoch_loss<br>epoch=%{x}<br>value=%{y}<extra></extra>",
         "legendgroup": "train_epoch_loss",
         "line": {
          "color": "#636efa",
          "dash": "solid"
         },
         "marker": {
          "symbol": "circle"
         },
         "mode": "lines",
         "name": "train_epoch_loss",
         "orientation": "v",
         "showlegend": true,
         "type": "scatter",
         "x": {
          "bdata": "AAECAwQFBgcICQoLDA0ODxAREhMUFRYXGBkaGxwdHh8gISIjJCUmJygpKissLS4vMDEyMzQ1Njc4OTo7",
          "dtype": "i1"
         },
         "xaxis": "x5",
         "y": {
          "bdata": "AAAAiDggBkAAAABAmV0FQM3MzNwcMAVAzczM7M0GBUCamZkZEvIEQAAAAEBLuwRAmpmZYep5BECamZkJdWoEQM3MzKRwWQRAZmZm1gJJBEAzMzMb7i8EQAAAAFiwKgRAzczMdEUeBECamZnR+hIEQDMzMxOHAARAMzMz43P4A0BmZmZ+b/cDQDMzM4vN7ANAZmZm9tLAA0DNzMx0x5oDQJqZmVnjqwNAzczMDEx5A0AzMzNLAVIDQGZmZt4bNgNAAAAAAIkpA0AzMzOLQyUDQAAAAABEBwNAMzMzCw39AkDNzMy0VPYCQJqZmTFW8gJAMzMzwwDmAkBmZmb2zc4CQDMzMzv5tAJAmpmZiS2oAkAzMzN7rJwCQJqZmbEflgJAMzMz84RzAkAzMzPjP2QCQJqZmbGaXQJAmpmZmZdUAkBmZmZuU1ICQGZmZrZrSQJAMzMzK8tCAkBmZmYG9kgCQM3MzIwyQwJAmpmZqbRDAkCamZkxpDgCQDMzMzs+MQJAMzMzW9QwAkCamZmRxzICQM3MzOw6MwJAMzMzg885AkAAAACghzwCQGZmZt55NwJAMzMzy+U3AkCamZmpUTQCQGZmZu4oNwJAZmZm3nUuAkDNzMwEYyoCQAAAALhqKQJA",
          "dtype": "f8"
         },
         "yaxis": "y5"
        },
        {
         "hovertemplate": "variable=train_epoch_accuracy<br>epoch=%{x}<br>value=%{y}<extra></extra>",
         "legendgroup": "train_epoch_accuracy",
         "line": {
          "color": "#EF553B",
          "dash": "solid"
         },
         "marker": {
          "symbol": "circle"
         },
         "mode": "lines",
         "name": "train_epoch_accuracy",
         "orientation": "v",
         "showlegend": true,
         "type": "scatter",
         "x": {
          "bdata": "AAECAwQFBgcICQoLDA0ODxAREhMUFRYXGBkaGxwdHh8gISIjJCUmJygpKissLS4vMDEyMzQ1Njc4OTo7",
          "dtype": "i1"
         },
         "xaxis": "x4",
         "y": {
          "bdata": "1TboQG0jyz/OTQ3t3LTTP1Jc4SPF9dQ/fFdFvHd11j+xvkUJ6yvXPyKRSCQSGdk/K8kXv5IM2z8wZX8MU3bbP+5dFfHe5ds/8sWvJF983D/FYrFYLFbdP/v9fr/fb90/k2NLPznW3T+SL34l+SLeP0A5tvSTw94/yv4Ypuzv3j9VxHtXRfzeP/0xTNkfU98/LkpY36Jc4D+dtMDGSfvgPy5KWN+irOA/BLUNOlCD4T9lfwxT9hfiPziCJ3ojmOI/ORwOh8PB4j/SG8ETvdHiP6eGdm5qSOM/CVF1hxBt4z+mUqlUKo3jP3XtKUjXluM/oBxb+snh4z+nhnZuajjkP7LyEiMrn+Q/Sr74leTL5D+pukOIqvPkP3xXRbx3DeU/31UR712l5T9H8ERvBOflP0ZWXmJk9eU/4YneCJ4Y5j8RVXcIUR3mP967KuK9Q+Y/Eu9dFfFW5j/li19JvkDmP0vyxa8kV+Y/Qrr2FKRT5j/mJUZWXoLmP7XAxkkLnOY/tcDGSQuc5j/iI8UVPpLmP3xXRbx3jeY/eFXEe1d15j9FIpFIJGrmPxaLxWKxgOY/4O/3+/1+5j97vV6v14vmP65Wq9VqfeY/eFXEe1ed5j9KvviV5KvmP0pY36KEreY/",
          "dtype": "f8"
         },
         "yaxis": "y4"
        },
        {
         "hovertemplate": "variable=validation_loss<br>epoch=%{x}<br>value=%{y}<extra></extra>",
         "legendgroup": "validation_loss",
         "line": {
          "color": "#00cc96",
          "dash": "solid"
         },
         "marker": {
          "symbol": "circle"
         },
         "mode": "lines",
         "name": "validation_loss",
         "orientation": "v",
         "showlegend": true,
         "type": "scatter",
         "x": {
          "bdata": "AAECAwQFBgcICQoLDA0ODxAREhMUFRYXGBkaGxwdHh8gISIjJCUmJygpKissLS4vMDEyMzQ1Njc4OTo7",
          "dtype": "i1"
         },
         "xaxis": "x3",
         "y": {
          "bdata": "xU7sROasBUAAAAAg7mUFQBQ7sRPsYQVAdmInVhpkBUCKndhp+TIFQGIndmJI/ARAdmInVi33BECe2IldSNsEQBQ7sTPQ1QRAntiJ3SXABEAndmIHlNcEQAAAAGAuxwRAntiJvUzCBEDZiZ04DLkEQNmJnfgrwwRAJ3ZiJ22jBEDFTuwEp+MEQMVO7CQCiwRAAAAAgEGHBEAndmKHS8kEQIqd2Ak9hgRAdmIndnlgBEA7sRO7rEsEQNmJnfj6QARAsRM7ccwjBEAAAAAAGSMEQMVO7ERyHARAO7ET+/8fBEA7sRO7lSEEQCd2YmeyQARAxU7shNv/A0AndmKnvfoDQOzETswyBARAO7ET2+EiBEAndmLnwOcDQE/sxE6e1QNA7MROzJz1A0DsxE5Ma/sDQE/sxM6b7ANA7MRODKAnBEAndmLHIvkDQDuxExs+/gNA7MROzGX9A0BP7MTO7gQEQNmJnXh86gNAT+zEzuzjA0A7sRObwdkDQGIndsIR+QNAO7ETmwzfA0DZiZ14i98DQHZiJ3YX/QNAsRM7UTj4A0CxEzvxOwQEQCd2YqdXDwRAip3YCW/oA0AAAAAgZ+oDQLETO9HT7ANAsRM70YzkA0DsxE5MddYDQJ7YiZ3P4ANA",
          "dtype": "f8"
         },
         "yaxis": "y3"
        },
        {
         "hovertemplate": "variable=validation_accuracy<br>epoch=%{x}<br>value=%{y}<extra></extra>",
         "legendgroup": "validation_accuracy",
         "line": {
          "color": "#ab63fa",
          "dash": "solid"
         },
         "marker": {
          "symbol": "circle"
         },
         "mode": "lines",
         "name": "validation_accuracy",
         "orientation": "v",
         "showlegend": true,
         "type": "scatter",
         "x": {
          "bdata": "AAECAwQFBgcICQoLDA0ODxAREhMUFRYXGBkaGxwdHh8gISIjJCUmJygpKissLS4vMDEyMzQ1Njc4OTo7",
          "dtype": "i1"
         },
         "xaxis": "x2",
         "y": {
          "bdata": "EBnuVTCL0T9JOSAy3CvTP2IndmInttM/AAAAAACA0z/sxE7sxA7VP1B9pq3x99Y/xL0KZkn51j+WlAMiw73XPxKqz7Q1/tc/QvWZtsbf2D/lgMhwrwLYP2pr/N08gtg/L7rooouu2D9qa/zdPALZPykHRIZ7ldg/FcySckCk2T9Qfaat8bfXP+FeBbOkXNo/heozbY1/2j+VAyLDvYrYP0/sxE7shNo/MEvKAZHh2z9edNFFF13cPwGR4V4Fs9w/W+Pv5hGq3T+u8XfzCJXdPyAy3Ktg1t0/qs+0Nf6u3T/X+Lt5hGrdPyAy3Ktgltw/iy666KLL3j/83TxC9dneP0L1mbbGn94/qs+0Nf5u3T96hOozbc3fPzRtjb+bB+A/BbOkHBAZ3z/QtDX+bt7ePy+66KKLLt8/xt/NI1Rf3T8EIsO9CubePzxC9Zm2ht4/RIZ7FczS3j+WlAMiw33eP1SfaWv8Xd8/PEL1mbaG3z8sKQdEhvvfPywpB0SG+94/UH2mrfG33z92Yid2YuffP/QI1Wfa2t4/d/MI1Wfa3j88QvWZtobePyAy3KtgVt4/B0SGexWM3z9aUg6IDHffP3fzCNVnWt8/N49Qfaat3z/ePEL1mRbgPx+h+kxb498/",
          "dtype": "f8"
         },
         "yaxis": "y2"
        },
        {
         "hovertemplate": "variable=competition_score<br>epoch=%{x}<br>value=%{y}<extra></extra>",
         "legendgroup": "competition_score",
         "line": {
          "color": "#FFA15A",
          "dash": "solid"
         },
         "marker": {
          "symbol": "circle"
         },
         "mode": "lines",
         "name": "competition_score",
         "orientation": "v",
         "showlegend": true,
         "type": "scatter",
         "x": {
          "bdata": "AAECAwQFBgcICQoLDA0ODxAREhMUFRYXGBkaGxwdHh8gISIjJCUmJygpKissLS4vMDEyMzQ1Njc4OTo7",
          "dtype": "i1"
         },
         "xaxis": "x",
         "y": {
          "bdata": "zi/6L3ac3D9q56ZRXG/dP/1dL08EQ94/Hc7CB7k23j9HgH54gsXeP9vpng/uGOA/EzMsddig3z9h3SQziVrgPwrRu+TScuA/iqkmrfLy4D+PF7aVmKHgP7Rd96NLl+A/5n7R7f6c4D+W5llEWsvgP4nUUgGtueA/0lIBphLl4D/t8UEXn6jfP1C+0rjbseA/oNp4wpIf4T90QSyb3sTgP4zEO0mw5+A/elxcn5OT4D/zIZZZ0dXgP2hZAUhaaOE/wLyVRgOI4T+aheVlHh7hP74dz/vOjuE/TLTETLdk4T9N8ybXgJrhP2u+ohf7COI/Qmn86kHL4T+6Od+XsGTiP8IgqRxWVOI/YHbi0esm4j8DOrmP+eniP+pqqwrkreI/R52Gcp8b4j+wM/iSfobiP/5oa4TMKOI/AsXwqidx4j9tfIWVd3/iP+TGdkRYeeI/WMgIAvs94j+272R/nz/iP5GvCZeRk+I/g8ciPJ1/4j+dJoQSK57iPyO2QgFmYuI/qJSFN4WZ4j/6qaRrSqHiP1BNF1QDuuI/ABLqykl24j9GMjKyLSXiP7a2WPYVo+I/vKu59sqs4j8ORloAFYHiP/LM1wDUguI/Jk3flLmn4j/k4PUqK9niP9ThvKvLzuI/",
          "dtype": "f8"
         },
         "yaxis": "y"
        }
       ],
       "layout": {
        "annotations": [
         {
          "font": {},
          "showarrow": false,
          "text": "variable=competition_score",
          "textangle": 90,
          "x": 0.98,
          "xanchor": "left",
          "xref": "paper",
          "y": 0.08800000000000001,
          "yanchor": "middle",
          "yref": "paper"
         },
         {
          "font": {},
          "showarrow": false,
          "text": "variable=validation_accuracy",
          "textangle": 90,
          "x": 0.98,
          "xanchor": "left",
          "xref": "paper",
          "y": 0.29400000000000004,
          "yanchor": "middle",
          "yref": "paper"
         },
         {
          "font": {},
          "showarrow": false,
          "text": "variable=validation_loss",
          "textangle": 90,
          "x": 0.98,
          "xanchor": "left",
          "xref": "paper",
          "y": 0.5,
          "yanchor": "middle",
          "yref": "paper"
         },
         {
          "font": {},
          "showarrow": false,
          "text": "variable=train_epoch_accuracy",
          "textangle": 90,
          "x": 0.98,
          "xanchor": "left",
          "xref": "paper",
          "y": 0.706,
          "yanchor": "middle",
          "yref": "paper"
         },
         {
          "font": {},
          "showarrow": false,
          "text": "variable=train_epoch_loss",
          "textangle": 90,
          "x": 0.98,
          "xanchor": "left",
          "xref": "paper",
          "y": 0.912,
          "yanchor": "middle",
          "yref": "paper"
         }
        ],
        "legend": {
         "title": {
          "text": "variable"
         },
         "tracegroupgap": 0
        },
        "template": {
         "data": {
          "bar": [
           {
            "error_x": {
             "color": "#2a3f5f"
            },
            "error_y": {
             "color": "#2a3f5f"
            },
            "marker": {
             "line": {
              "color": "#E5ECF6",
              "width": 0.5
             },
             "pattern": {
              "fillmode": "overlay",
              "size": 10,
              "solidity": 0.2
             }
            },
            "type": "bar"
           }
          ],
          "barpolar": [
           {
            "marker": {
             "line": {
              "color": "#E5ECF6",
              "width": 0.5
             },
             "pattern": {
              "fillmode": "overlay",
              "size": 10,
              "solidity": 0.2
             }
            },
            "type": "barpolar"
           }
          ],
          "carpet": [
           {
            "aaxis": {
             "endlinecolor": "#2a3f5f",
             "gridcolor": "white",
             "linecolor": "white",
             "minorgridcolor": "white",
             "startlinecolor": "#2a3f5f"
            },
            "baxis": {
             "endlinecolor": "#2a3f5f",
             "gridcolor": "white",
             "linecolor": "white",
             "minorgridcolor": "white",
             "startlinecolor": "#2a3f5f"
            },
            "type": "carpet"
           }
          ],
          "choropleth": [
           {
            "colorbar": {
             "outlinewidth": 0,
             "ticks": ""
            },
            "type": "choropleth"
           }
          ],
          "contour": [
           {
            "colorbar": {
             "outlinewidth": 0,
             "ticks": ""
            },
            "colorscale": [
             [
              0,
              "#0d0887"
             ],
             [
              0.1111111111111111,
              "#46039f"
             ],
             [
              0.2222222222222222,
              "#7201a8"
             ],
             [
              0.3333333333333333,
              "#9c179e"
             ],
             [
              0.4444444444444444,
              "#bd3786"
             ],
             [
              0.5555555555555556,
              "#d8576b"
             ],
             [
              0.6666666666666666,
              "#ed7953"
             ],
             [
              0.7777777777777778,
              "#fb9f3a"
             ],
             [
              0.8888888888888888,
              "#fdca26"
             ],
             [
              1,
              "#f0f921"
             ]
            ],
            "type": "contour"
           }
          ],
          "contourcarpet": [
           {
            "colorbar": {
             "outlinewidth": 0,
             "ticks": ""
            },
            "type": "contourcarpet"
           }
          ],
          "heatmap": [
           {
            "colorbar": {
             "outlinewidth": 0,
             "ticks": ""
            },
            "colorscale": [
             [
              0,
              "#0d0887"
             ],
             [
              0.1111111111111111,
              "#46039f"
             ],
             [
              0.2222222222222222,
              "#7201a8"
             ],
             [
              0.3333333333333333,
              "#9c179e"
             ],
             [
              0.4444444444444444,
              "#bd3786"
             ],
             [
              0.5555555555555556,
              "#d8576b"
             ],
             [
              0.6666666666666666,
              "#ed7953"
             ],
             [
              0.7777777777777778,
              "#fb9f3a"
             ],
             [
              0.8888888888888888,
              "#fdca26"
             ],
             [
              1,
              "#f0f921"
             ]
            ],
            "type": "heatmap"
           }
          ],
          "histogram": [
           {
            "marker": {
             "pattern": {
              "fillmode": "overlay",
              "size": 10,
              "solidity": 0.2
             }
            },
            "type": "histogram"
           }
          ],
          "histogram2d": [
           {
            "colorbar": {
             "outlinewidth": 0,
             "ticks": ""
            },
            "colorscale": [
             [
              0,
              "#0d0887"
             ],
             [
              0.1111111111111111,
              "#46039f"
             ],
             [
              0.2222222222222222,
              "#7201a8"
             ],
             [
              0.3333333333333333,
              "#9c179e"
             ],
             [
              0.4444444444444444,
              "#bd3786"
             ],
             [
              0.5555555555555556,
              "#d8576b"
             ],
             [
              0.6666666666666666,
              "#ed7953"
             ],
             [
              0.7777777777777778,
              "#fb9f3a"
             ],
             [
              0.8888888888888888,
              "#fdca26"
             ],
             [
              1,
              "#f0f921"
             ]
            ],
            "type": "histogram2d"
           }
          ],
          "histogram2dcontour": [
           {
            "colorbar": {
             "outlinewidth": 0,
             "ticks": ""
            },
            "colorscale": [
             [
              0,
              "#0d0887"
             ],
             [
              0.1111111111111111,
              "#46039f"
             ],
             [
              0.2222222222222222,
              "#7201a8"
             ],
             [
              0.3333333333333333,
              "#9c179e"
             ],
             [
              0.4444444444444444,
              "#bd3786"
             ],
             [
              0.5555555555555556,
              "#d8576b"
             ],
             [
              0.6666666666666666,
              "#ed7953"
             ],
             [
              0.7777777777777778,
              "#fb9f3a"
             ],
             [
              0.8888888888888888,
              "#fdca26"
             ],
             [
              1,
              "#f0f921"
             ]
            ],
            "type": "histogram2dcontour"
           }
          ],
          "mesh3d": [
           {
            "colorbar": {
             "outlinewidth": 0,
             "ticks": ""
            },
            "type": "mesh3d"
           }
          ],
          "parcoords": [
           {
            "line": {
             "colorbar": {
              "outlinewidth": 0,
              "ticks": ""
             }
            },
            "type": "parcoords"
           }
          ],
          "pie": [
           {
            "automargin": true,
            "type": "pie"
           }
          ],
          "scatter": [
           {
            "fillpattern": {
             "fillmode": "overlay",
             "size": 10,
             "solidity": 0.2
            },
            "type": "scatter"
           }
          ],
          "scatter3d": [
           {
            "line": {
             "colorbar": {
              "outlinewidth": 0,
              "ticks": ""
             }
            },
            "marker": {
             "colorbar": {
              "outlinewidth": 0,
              "ticks": ""
             }
            },
            "type": "scatter3d"
           }
          ],
          "scattercarpet": [
           {
            "marker": {
             "colorbar": {
              "outlinewidth": 0,
              "ticks": ""
             }
            },
            "type": "scattercarpet"
           }
          ],
          "scattergeo": [
           {
            "marker": {
             "colorbar": {
              "outlinewidth": 0,
              "ticks": ""
             }
            },
            "type": "scattergeo"
           }
          ],
          "scattergl": [
           {
            "marker": {
             "colorbar": {
              "outlinewidth": 0,
              "ticks": ""
             }
            },
            "type": "scattergl"
           }
          ],
          "scattermap": [
           {
            "marker": {
             "colorbar": {
              "outlinewidth": 0,
              "ticks": ""
             }
            },
            "type": "scattermap"
           }
          ],
          "scattermapbox": [
           {
            "marker": {
             "colorbar": {
              "outlinewidth": 0,
              "ticks": ""
             }
            },
            "type": "scattermapbox"
           }
          ],
          "scatterpolar": [
           {
            "marker": {
             "colorbar": {
              "outlinewidth": 0,
              "ticks": ""
             }
            },
            "type": "scatterpolar"
           }
          ],
          "scatterpolargl": [
           {
            "marker": {
             "colorbar": {
              "outlinewidth": 0,
              "ticks": ""
             }
            },
            "type": "scatterpolargl"
           }
          ],
          "scatterternary": [
           {
            "marker": {
             "colorbar": {
              "outlinewidth": 0,
              "ticks": ""
             }
            },
            "type": "scatterternary"
           }
          ],
          "surface": [
           {
            "colorbar": {
             "outlinewidth": 0,
             "ticks": ""
            },
            "colorscale": [
             [
              0,
              "#0d0887"
             ],
             [
              0.1111111111111111,
              "#46039f"
             ],
             [
              0.2222222222222222,
              "#7201a8"
             ],
             [
              0.3333333333333333,
              "#9c179e"
             ],
             [
              0.4444444444444444,
              "#bd3786"
             ],
             [
              0.5555555555555556,
              "#d8576b"
             ],
             [
              0.6666666666666666,
              "#ed7953"
             ],
             [
              0.7777777777777778,
              "#fb9f3a"
             ],
             [
              0.8888888888888888,
              "#fdca26"
             ],
             [
              1,
              "#f0f921"
             ]
            ],
            "type": "surface"
           }
          ],
          "table": [
           {
            "cells": {
             "fill": {
              "color": "#EBF0F8"
             },
             "line": {
              "color": "white"
             }
            },
            "header": {
             "fill": {
              "color": "#C8D4E3"
             },
             "line": {
              "color": "white"
             }
            },
            "type": "table"
           }
          ]
         },
         "layout": {
          "annotationdefaults": {
           "arrowcolor": "#2a3f5f",
           "arrowhead": 0,
           "arrowwidth": 1
          },
          "autotypenumbers": "strict",
          "coloraxis": {
           "colorbar": {
            "outlinewidth": 0,
            "ticks": ""
           }
          },
          "colorscale": {
           "diverging": [
            [
             0,
             "#8e0152"
            ],
            [
             0.1,
             "#c51b7d"
            ],
            [
             0.2,
             "#de77ae"
            ],
            [
             0.3,
             "#f1b6da"
            ],
            [
             0.4,
             "#fde0ef"
            ],
            [
             0.5,
             "#f7f7f7"
            ],
            [
             0.6,
             "#e6f5d0"
            ],
            [
             0.7,
             "#b8e186"
            ],
            [
             0.8,
             "#7fbc41"
            ],
            [
             0.9,
             "#4d9221"
            ],
            [
             1,
             "#276419"
            ]
           ],
           "sequential": [
            [
             0,
             "#0d0887"
            ],
            [
             0.1111111111111111,
             "#46039f"
            ],
            [
             0.2222222222222222,
             "#7201a8"
            ],
            [
             0.3333333333333333,
             "#9c179e"
            ],
            [
             0.4444444444444444,
             "#bd3786"
            ],
            [
             0.5555555555555556,
             "#d8576b"
            ],
            [
             0.6666666666666666,
             "#ed7953"
            ],
            [
             0.7777777777777778,
             "#fb9f3a"
            ],
            [
             0.8888888888888888,
             "#fdca26"
            ],
            [
             1,
             "#f0f921"
            ]
           ],
           "sequentialminus": [
            [
             0,
             "#0d0887"
            ],
            [
             0.1111111111111111,
             "#46039f"
            ],
            [
             0.2222222222222222,
             "#7201a8"
            ],
            [
             0.3333333333333333,
             "#9c179e"
            ],
            [
             0.4444444444444444,
             "#bd3786"
            ],
            [
             0.5555555555555556,
             "#d8576b"
            ],
            [
             0.6666666666666666,
             "#ed7953"
            ],
            [
             0.7777777777777778,
             "#fb9f3a"
            ],
            [
             0.8888888888888888,
             "#fdca26"
            ],
            [
             1,
             "#f0f921"
            ]
           ]
          },
          "colorway": [
           "#636efa",
           "#EF553B",
           "#00cc96",
           "#ab63fa",
           "#FFA15A",
           "#19d3f3",
           "#FF6692",
           "#B6E880",
           "#FF97FF",
           "#FECB52"
          ],
          "font": {
           "color": "#2a3f5f"
          },
          "geo": {
           "bgcolor": "white",
           "lakecolor": "white",
           "landcolor": "#E5ECF6",
           "showlakes": true,
           "showland": true,
           "subunitcolor": "white"
          },
          "hoverlabel": {
           "align": "left"
          },
          "hovermode": "closest",
          "mapbox": {
           "style": "light"
          },
          "paper_bgcolor": "white",
          "plot_bgcolor": "#E5ECF6",
          "polar": {
           "angularaxis": {
            "gridcolor": "white",
            "linecolor": "white",
            "ticks": ""
           },
           "bgcolor": "#E5ECF6",
           "radialaxis": {
            "gridcolor": "white",
            "linecolor": "white",
            "ticks": ""
           }
          },
          "scene": {
           "xaxis": {
            "backgroundcolor": "#E5ECF6",
            "gridcolor": "white",
            "gridwidth": 2,
            "linecolor": "white",
            "showbackground": true,
            "ticks": "",
            "zerolinecolor": "white"
           },
           "yaxis": {
            "backgroundcolor": "#E5ECF6",
            "gridcolor": "white",
            "gridwidth": 2,
            "linecolor": "white",
            "showbackground": true,
            "ticks": "",
            "zerolinecolor": "white"
           },
           "zaxis": {
            "backgroundcolor": "#E5ECF6",
            "gridcolor": "white",
            "gridwidth": 2,
            "linecolor": "white",
            "showbackground": true,
            "ticks": "",
            "zerolinecolor": "white"
           }
          },
          "shapedefaults": {
           "line": {
            "color": "#2a3f5f"
           }
          },
          "ternary": {
           "aaxis": {
            "gridcolor": "white",
            "linecolor": "white",
            "ticks": ""
           },
           "baxis": {
            "gridcolor": "white",
            "linecolor": "white",
            "ticks": ""
           },
           "bgcolor": "#E5ECF6",
           "caxis": {
            "gridcolor": "white",
            "linecolor": "white",
            "ticks": ""
           }
          },
          "title": {
           "x": 0.05
          },
          "xaxis": {
           "automargin": true,
           "gridcolor": "white",
           "linecolor": "white",
           "ticks": "",
           "title": {
            "standoff": 15
           },
           "zerolinecolor": "white",
           "zerolinewidth": 2
          },
          "yaxis": {
           "automargin": true,
           "gridcolor": "white",
           "linecolor": "white",
           "ticks": "",
           "title": {
            "standoff": 15
           },
           "zerolinecolor": "white",
           "zerolinewidth": 2
          }
         }
        },
        "title": {
         "text": "epoch metrics"
        },
        "xaxis": {
         "anchor": "y",
         "domain": [
          0,
          0.98
         ],
         "title": {
          "text": "epoch"
         }
        },
        "xaxis2": {
         "anchor": "y2",
         "domain": [
          0,
          0.98
         ],
         "matches": "x",
         "showticklabels": false
        },
        "xaxis3": {
         "anchor": "y3",
         "domain": [
          0,
          0.98
         ],
         "matches": "x",
         "showticklabels": false
        },
        "xaxis4": {
         "anchor": "y4",
         "domain": [
          0,
          0.98
         ],
         "matches": "x",
         "showticklabels": false
        },
        "xaxis5": {
         "anchor": "y5",
         "domain": [
          0,
          0.98
         ],
         "matches": "x",
         "showticklabels": false
        },
        "yaxis": {
         "anchor": "x",
         "domain": [
          0,
          0.17600000000000002
         ],
         "title": {
          "text": "value"
         }
        },
        "yaxis2": {
         "anchor": "x2",
         "domain": [
          0.20600000000000002,
          0.382
         ],
         "title": {
          "text": "value"
         }
        },
        "yaxis3": {
         "anchor": "x3",
         "domain": [
          0.41200000000000003,
          0.5880000000000001
         ],
         "title": {
          "text": "value"
         }
        },
        "yaxis4": {
         "anchor": "x4",
         "domain": [
          0.618,
          0.794
         ],
         "title": {
          "text": "value"
         }
        },
        "yaxis5": {
         "anchor": "x5",
         "domain": [
          0.8240000000000001,
          1
         ],
         "title": {
          "text": "value"
         }
        }
       }
      }
     },
     "metadata": {},
     "output_type": "display_data"
    },
    {
     "name": "stdout",
     "output_type": "stream",
     "text": [
      "=========================\n",
      "training: 2\n"
     ]
    },
    {
     "data": {
      "application/vnd.jupyter.widget-view+json": {
       "model_id": "a8e8f597ff3942b3b5f6498e955a66ff",
       "version_major": 2,
       "version_minor": 0
      },
      "text/plain": [
       "Output()"
      ]
     },
     "metadata": {},
     "output_type": "display_data"
    },
    {
     "data": {
      "text/html": [
       "<pre style=\"white-space:pre;overflow-x:auto;line-height:normal;font-family:Menlo,'DejaVu Sans Mono',consolas,'Courier New',monospace\"></pre>\n"
      ],
      "text/plain": []
     },
     "metadata": {},
     "output_type": "display_data"
    },
    {
     "data": {
      "application/vnd.plotly.v1+json": {
       "config": {
        "plotlyServerURL": "https://plot.ly"
       },
       "data": [
        {
         "hovertemplate": "variable=train_epoch_loss<br>epoch=%{x}<br>value=%{y}<extra></extra>",
         "legendgroup": "train_epoch_loss",
         "line": {
          "color": "#636efa",
          "dash": "solid"
         },
         "marker": {
          "symbol": "circle"
         },
         "mode": "lines",
         "name": "train_epoch_loss",
         "orientation": "v",
         "showlegend": true,
         "type": "scatter",
         "x": {
          "bdata": "AAECAwQFBgcICQoLDA0ODxAREhMUFRYXGBkaGxwdHh8gISIjJCUmJygpKissLS4vMDEyMzQ1Njc4OTo7",
          "dtype": "i1"
         },
         "xaxis": "x5",
         "y": {
          "bdata": "AAAAgDRGBkDNzMw8t7cFQAAAABitdwVAMzMz69pEBUDNzMx0o0AFQGZmZqYTLwVAZmZmlqQNBUBmZmYWG+0EQJqZmbll7ARAzczM/AbPBEAAAACo24EEQAAAABjIbQRAZmZm1tRVBEAAAACgP08EQM3MzJzaQgRAzczM1LU5BEAAAAB4wTcEQDMzM8M1GQRAzczMVCIZBEAAAADosQIEQJqZmQkD9QNAmpmZ6cvwA0CamZmxNvIDQGZmZm7M4gNAAAAA2A7RA0BmZmZuU9MDQGZmZg4x1QNAAAAAEPXWA0AzMzPT5dwDQDMzM1vinQNAAAAAWEB0A0BmZmbWtkwDQAAAAIi2RANAZmZmzgcjA0CamZkRwPoCQM3MzJwS/AJAmpmZoYL6AkAzMzOLtfYCQM3MzKz22QJAZmZmVvPZAkCamZnRl8wCQGZmZpYtxQJAMzMz+/rMAkAzMzOjf8ECQAAAAPgWxwJAAAAAaIK8AkAzMzNrlLwCQAAAAMgftgJAmpmZ6de4AkDNzMxcl68CQGZmZj6FrQJAZmZm7ty0AkBmZmZWPq0CQDMzMwt/qgJAAAAAwO6vAkDNzMw07rUCQGZmZr4frgJAmpmZqXGlAkAzMzOL+5ECQAAAACCGjwJA",
          "dtype": "f8"
         },
         "yaxis": "y5"
        },
        {
         "hovertemplate": "variable=train_epoch_accuracy<br>epoch=%{x}<br>value=%{y}<extra></extra>",
         "legendgroup": "train_epoch_accuracy",
         "line": {
          "color": "#EF553B",
          "dash": "solid"
         },
         "marker": {
          "symbol": "circle"
         },
         "mode": "lines",
         "name": "train_epoch_accuracy",
         "orientation": "v",
         "showlegend": true,
         "type": "scatter",
         "x": {
          "bdata": "AAECAwQFBgcICQoLDA0ODxAREhMUFRYXGBkaGxwdHh8gISIjJCUmJygpKissLS4vMDEyMzQ1Njc4OTo7",
          "dtype": "i1"
         },
         "xaxis": "x4",
         "y": {
          "bdata": "iTvijrjjxz8yGiYgo8HQP2h/c3n259I/QnjdKoRn1D+rEF63CqHUP+o9FKneM9U/sqasKWsq1j/y02IbP03XPxbb+GmxXdc/WDrJgaVT2D9WCK9bhcDaPxoNE5DRUNs/lmd/c3km3D/m2d9cni3cPy2d5MDSqdw/hdetQnj93D8lB5ZOcvDcP3WSA0sn+d0/jp8W2/gZ3j+WZ39zeabeP/UFfUFfEN8/I9V7KFIt3z8ecUfcETffP/uby7O/qd8/2t9cnv0V4D+d5MDSSQ7gP5qZmZmZAeA/xR1xR9wB4D+CpZMcWMrfPzZ+Wmzj7+A/z/7m8uyP4T8zMzMzMzPiPw4sneTAWuI/OsmBpZPk4j/cEXfEHXnjP0J43SqEd+M/c3n2N5d34z+cy7O/uYzjP0Wq91CkAuQ/aZiAjIb54z91kgNLJzHkP0Wq91CkSuQ/Pfuby7M35D8OLJ3kwGLkPw4sneTASuQ/evY3l2dv5D8PRar3UGzkP6r3UKR6h+Q/1XsoUr135D+q91Ckep/kP69bhfC6peQ/nv3N5dmH5D969jeXZ6fkP3jdKoTXreQ/evY3l2ef5D9rypqypoTkP6Ev6Av6ouQ/RJHqPRTB5D+CpZMcWBrlPxSp3kORIuU/",
          "dtype": "f8"
         },
         "yaxis": "y4"
        },
        {
         "hovertemplate": "variable=validation_loss<br>epoch=%{x}<br>value=%{y}<extra></extra>",
         "legendgroup": "validation_loss",
         "line": {
          "color": "#00cc96",
          "dash": "solid"
         },
         "marker": {
          "symbol": "circle"
         },
         "mode": "lines",
         "name": "validation_loss",
         "orientation": "v",
         "showlegend": true,
         "type": "scatter",
         "x": {
          "bdata": "AAECAwQFBgcICQoLDA0ODxAREhMUFRYXGBkaGxwdHh8gISIjJCUmJygpKissLS4vMDEyMzQ1Njc4OTo7",
          "dtype": "i1"
         },
         "xaxis": "x3",
         "y": {
          "bdata": "7MROLB0uBkCe2Imd1dcFQLETO3FdvwVAJ3ZiZyCvBUAUO7GzqKkFQOzETkz7nAVA7MRO7B6PBUDZiZ3424wFQBQ7sbPJpgVAJ3Zip2hzBUAndmLH3D4FQE/sxO75JAVAAAAAoI8bBUAAAADA/yAFQDuxEztnBwVAntiJ3TMyBUDFTuxk/joFQCd2YscjEwVAO7ETm4sGBUCe2ImdFf8EQNmJnZgG+ARAsRM7cfADBUBiJ3aiqiwFQJ7YiR2oCQVAsRM7sZILBUCKndhpqgwFQCd2Ykfa+gRAYid2ggYGBUA7sRO7xxYFQOzETmxqvQRA7MROjGWbBEA7sRNbXYMEQE/sxI7ejARAAAAAAEp9BEBP7MQuFoIEQIqd2ElIewRAdmInFpFzBECe2Ikdh4QEQAAAAACCbgRAdmInFjJ+BEBiJ3aCylYEQMVO7GSdZARAJ3Zix9NwBECe2Ik9yFsEQDuxEzvTewRAdmInljZfBEBiJ3ZiYnAEQNmJndi7XQRA7MROjPJhBEDsxE4sSF0EQMVO7ASCZQRAip3YKeN1BEDsxE6sM24EQE/sxG6xZARAxU7sxBRdBECe2IndaGUEQE/sxE4sWwRAxU7sRDBcBEBP7MRudXgEQAAAAMDLWgRA",
          "dtype": "f8"
         },
         "yaxis": "y3"
        },
        {
         "hovertemplate": "variable=validation_accuracy<br>epoch=%{x}<br>value=%{y}<extra></extra>",
         "legendgroup": "validation_accuracy",
         "line": {
          "color": "#ab63fa",
          "dash": "solid"
         },
         "marker": {
          "symbol": "circle"
         },
         "mode": "lines",
         "name": "validation_accuracy",
         "orientation": "v",
         "showlegend": true,
         "type": "scatter",
         "x": {
          "bdata": "AAECAwQFBgcICQoLDA0ODxAREhMUFRYXGBkaGxwdHh8gISIjJCUmJygpKissLS4vMDEyMzQ1Njc4OTo7",
          "dtype": "i1"
         },
         "xaxis": "x2",
         "y": {
          "bdata": "FzkyUxtByj+1Ebzw88rPP+zY/0QsltA/JNrX4noH0T8ztRG88DPRP04AdqdTzNE/Vsv8qKER0j/pKMSnyTPSPz11ADF7fdE/SeUqQ2gp0z+cMWfMGbPUP0HVd2tAgtU/CdSfzfHQ1T+rDKGlj5/VP5wxZ8wZc9Y/bqtRzXsp1T/s2P9ELNbUP8cS2boYFtY/8H2jVcs81j91uwSlo5DWP3BbjWreC9c/ifa1uN6B1j/FYp0dtjPVP/9Y3S5BadY/EORSpRk41j9B1XdrQELWP+lt8H2j1dY/n+GiaXyV1j/rHSwbBvjVP8acMWfM2dg/HJmpjeDF2T91ADF7fbLaP5oLhNtqVNo/Dr5vtGrZ2j+LMEoC9afaPy4kHwS51No/Dr5vtGoZ2z96YKi1QnfaP+n3SCpXWds/f8Af8Ae82j/czEruQw/cP9IMXHm5hds/1byXFhwo2z+fa/sVMNnbPwle+Hml1No/0Fwg3Faj2z/wB/wBf0DbPxd+Xin14ts//+I12/Ss2z/30oIDzcXbP0Gk/O3NZ9s/BvPoshwU2z8LDjQXCDfbPxIe5+4vnts/0Fwg3Fbj2z/VvJcWHGjbP7KmrClryts/izBKAvXn2z8kqVxlCO3aP6EbN7OS+9s/",
          "dtype": "f8"
         },
         "yaxis": "y2"
        },
        {
         "hovertemplate": "variable=competition_score<br>epoch=%{x}<br>value=%{y}<extra></extra>",
         "legendgroup": "competition_score",
         "line": {
          "color": "#FFA15A",
          "dash": "solid"
         },
         "marker": {
          "symbol": "circle"
         },
         "mode": "lines",
         "name": "competition_score",
         "orientation": "v",
         "showlegend": true,
         "type": "scatter",
         "x": {
          "bdata": "AAECAwQFBgcICQoLDA0ODxAREhMUFRYXGBkaGxwdHh8gISIjJCUmJygpKissLS4vMDEyMzQ1Njc4OTo7",
          "dtype": "i1"
         },
         "xaxis": "x",
         "y": {
          "bdata": "aO4VGWUJ2z/klbpFFEDcPxlvFZluPN0/xX2rIbik3D81g9qg0J/dP5aiDLAf4N0/gkl/MKvm3T8esNbWPpPeP5z2lQazpN4/iiehAiAF4D+jZ55ACV/gP8E0emYuy+A/FQC6qCQs4D/LXRW8HsLgP1rWVrzxBeE/qUnrfJud3z+xRoa/Zq3ePz0U+GmkZuA/g7F9I+qi4D9K9cFbY//gPyQisoqJPOE/cWnaTCUl4T9qigs9z/TfP9+IgJoUzuA/nrCSOgLk4D/wSAZ4aZfgPybbV/Ms6eA/sNEgdOS/4D/Igtz/dyfgP/lYq7WxueA/tcYDl5Ay4T8UFg2hH5zhPxoo+3rLo+E/NINjui7U4T8tpJ/D+s7hP19BzdDhwOE/s+ArLfOc4T/Vwbd5fkDhP1B9QVMyHeI/W0/LxV4n4T8SDXKbZvThP05ECpprQeE/x//C1CNp4T8XhrdkU93hP+7mBSCtpeE/48WJZFvh4T+iEuGHubzhP6JsHjLTBOI/lxm9Lovc4T/T7fkSru/hP2fQ6bLAGeI/6nh4xle94T8RABb0DOzhP2KGvLCT/+E/NjXcZc/j4T9rNpvCTeXhP9gRGjRmA+I/H3IGm+kS4j/iiCEVCsLhPzjHZnii5+E/",
          "dtype": "f8"
         },
         "yaxis": "y"
        }
       ],
       "layout": {
        "annotations": [
         {
          "font": {},
          "showarrow": false,
          "text": "variable=competition_score",
          "textangle": 90,
          "x": 0.98,
          "xanchor": "left",
          "xref": "paper",
          "y": 0.08800000000000001,
          "yanchor": "middle",
          "yref": "paper"
         },
         {
          "font": {},
          "showarrow": false,
          "text": "variable=validation_accuracy",
          "textangle": 90,
          "x": 0.98,
          "xanchor": "left",
          "xref": "paper",
          "y": 0.29400000000000004,
          "yanchor": "middle",
          "yref": "paper"
         },
         {
          "font": {},
          "showarrow": false,
          "text": "variable=validation_loss",
          "textangle": 90,
          "x": 0.98,
          "xanchor": "left",
          "xref": "paper",
          "y": 0.5,
          "yanchor": "middle",
          "yref": "paper"
         },
         {
          "font": {},
          "showarrow": false,
          "text": "variable=train_epoch_accuracy",
          "textangle": 90,
          "x": 0.98,
          "xanchor": "left",
          "xref": "paper",
          "y": 0.706,
          "yanchor": "middle",
          "yref": "paper"
         },
         {
          "font": {},
          "showarrow": false,
          "text": "variable=train_epoch_loss",
          "textangle": 90,
          "x": 0.98,
          "xanchor": "left",
          "xref": "paper",
          "y": 0.912,
          "yanchor": "middle",
          "yref": "paper"
         }
        ],
        "legend": {
         "title": {
          "text": "variable"
         },
         "tracegroupgap": 0
        },
        "template": {
         "data": {
          "bar": [
           {
            "error_x": {
             "color": "#2a3f5f"
            },
            "error_y": {
             "color": "#2a3f5f"
            },
            "marker": {
             "line": {
              "color": "#E5ECF6",
              "width": 0.5
             },
             "pattern": {
              "fillmode": "overlay",
              "size": 10,
              "solidity": 0.2
             }
            },
            "type": "bar"
           }
          ],
          "barpolar": [
           {
            "marker": {
             "line": {
              "color": "#E5ECF6",
              "width": 0.5
             },
             "pattern": {
              "fillmode": "overlay",
              "size": 10,
              "solidity": 0.2
             }
            },
            "type": "barpolar"
           }
          ],
          "carpet": [
           {
            "aaxis": {
             "endlinecolor": "#2a3f5f",
             "gridcolor": "white",
             "linecolor": "white",
             "minorgridcolor": "white",
             "startlinecolor": "#2a3f5f"
            },
            "baxis": {
             "endlinecolor": "#2a3f5f",
             "gridcolor": "white",
             "linecolor": "white",
             "minorgridcolor": "white",
             "startlinecolor": "#2a3f5f"
            },
            "type": "carpet"
           }
          ],
          "choropleth": [
           {
            "colorbar": {
             "outlinewidth": 0,
             "ticks": ""
            },
            "type": "choropleth"
           }
          ],
          "contour": [
           {
            "colorbar": {
             "outlinewidth": 0,
             "ticks": ""
            },
            "colorscale": [
             [
              0,
              "#0d0887"
             ],
             [
              0.1111111111111111,
              "#46039f"
             ],
             [
              0.2222222222222222,
              "#7201a8"
             ],
             [
              0.3333333333333333,
              "#9c179e"
             ],
             [
              0.4444444444444444,
              "#bd3786"
             ],
             [
              0.5555555555555556,
              "#d8576b"
             ],
             [
              0.6666666666666666,
              "#ed7953"
             ],
             [
              0.7777777777777778,
              "#fb9f3a"
             ],
             [
              0.8888888888888888,
              "#fdca26"
             ],
             [
              1,
              "#f0f921"
             ]
            ],
            "type": "contour"
           }
          ],
          "contourcarpet": [
           {
            "colorbar": {
             "outlinewidth": 0,
             "ticks": ""
            },
            "type": "contourcarpet"
           }
          ],
          "heatmap": [
           {
            "colorbar": {
             "outlinewidth": 0,
             "ticks": ""
            },
            "colorscale": [
             [
              0,
              "#0d0887"
             ],
             [
              0.1111111111111111,
              "#46039f"
             ],
             [
              0.2222222222222222,
              "#7201a8"
             ],
             [
              0.3333333333333333,
              "#9c179e"
             ],
             [
              0.4444444444444444,
              "#bd3786"
             ],
             [
              0.5555555555555556,
              "#d8576b"
             ],
             [
              0.6666666666666666,
              "#ed7953"
             ],
             [
              0.7777777777777778,
              "#fb9f3a"
             ],
             [
              0.8888888888888888,
              "#fdca26"
             ],
             [
              1,
              "#f0f921"
             ]
            ],
            "type": "heatmap"
           }
          ],
          "histogram": [
           {
            "marker": {
             "pattern": {
              "fillmode": "overlay",
              "size": 10,
              "solidity": 0.2
             }
            },
            "type": "histogram"
           }
          ],
          "histogram2d": [
           {
            "colorbar": {
             "outlinewidth": 0,
             "ticks": ""
            },
            "colorscale": [
             [
              0,
              "#0d0887"
             ],
             [
              0.1111111111111111,
              "#46039f"
             ],
             [
              0.2222222222222222,
              "#7201a8"
             ],
             [
              0.3333333333333333,
              "#9c179e"
             ],
             [
              0.4444444444444444,
              "#bd3786"
             ],
             [
              0.5555555555555556,
              "#d8576b"
             ],
             [
              0.6666666666666666,
              "#ed7953"
             ],
             [
              0.7777777777777778,
              "#fb9f3a"
             ],
             [
              0.8888888888888888,
              "#fdca26"
             ],
             [
              1,
              "#f0f921"
             ]
            ],
            "type": "histogram2d"
           }
          ],
          "histogram2dcontour": [
           {
            "colorbar": {
             "outlinewidth": 0,
             "ticks": ""
            },
            "colorscale": [
             [
              0,
              "#0d0887"
             ],
             [
              0.1111111111111111,
              "#46039f"
             ],
             [
              0.2222222222222222,
              "#7201a8"
             ],
             [
              0.3333333333333333,
              "#9c179e"
             ],
             [
              0.4444444444444444,
              "#bd3786"
             ],
             [
              0.5555555555555556,
              "#d8576b"
             ],
             [
              0.6666666666666666,
              "#ed7953"
             ],
             [
              0.7777777777777778,
              "#fb9f3a"
             ],
             [
              0.8888888888888888,
              "#fdca26"
             ],
             [
              1,
              "#f0f921"
             ]
            ],
            "type": "histogram2dcontour"
           }
          ],
          "mesh3d": [
           {
            "colorbar": {
             "outlinewidth": 0,
             "ticks": ""
            },
            "type": "mesh3d"
           }
          ],
          "parcoords": [
           {
            "line": {
             "colorbar": {
              "outlinewidth": 0,
              "ticks": ""
             }
            },
            "type": "parcoords"
           }
          ],
          "pie": [
           {
            "automargin": true,
            "type": "pie"
           }
          ],
          "scatter": [
           {
            "fillpattern": {
             "fillmode": "overlay",
             "size": 10,
             "solidity": 0.2
            },
            "type": "scatter"
           }
          ],
          "scatter3d": [
           {
            "line": {
             "colorbar": {
              "outlinewidth": 0,
              "ticks": ""
             }
            },
            "marker": {
             "colorbar": {
              "outlinewidth": 0,
              "ticks": ""
             }
            },
            "type": "scatter3d"
           }
          ],
          "scattercarpet": [
           {
            "marker": {
             "colorbar": {
              "outlinewidth": 0,
              "ticks": ""
             }
            },
            "type": "scattercarpet"
           }
          ],
          "scattergeo": [
           {
            "marker": {
             "colorbar": {
              "outlinewidth": 0,
              "ticks": ""
             }
            },
            "type": "scattergeo"
           }
          ],
          "scattergl": [
           {
            "marker": {
             "colorbar": {
              "outlinewidth": 0,
              "ticks": ""
             }
            },
            "type": "scattergl"
           }
          ],
          "scattermap": [
           {
            "marker": {
             "colorbar": {
              "outlinewidth": 0,
              "ticks": ""
             }
            },
            "type": "scattermap"
           }
          ],
          "scattermapbox": [
           {
            "marker": {
             "colorbar": {
              "outlinewidth": 0,
              "ticks": ""
             }
            },
            "type": "scattermapbox"
           }
          ],
          "scatterpolar": [
           {
            "marker": {
             "colorbar": {
              "outlinewidth": 0,
              "ticks": ""
             }
            },
            "type": "scatterpolar"
           }
          ],
          "scatterpolargl": [
           {
            "marker": {
             "colorbar": {
              "outlinewidth": 0,
              "ticks": ""
             }
            },
            "type": "scatterpolargl"
           }
          ],
          "scatterternary": [
           {
            "marker": {
             "colorbar": {
              "outlinewidth": 0,
              "ticks": ""
             }
            },
            "type": "scatterternary"
           }
          ],
          "surface": [
           {
            "colorbar": {
             "outlinewidth": 0,
             "ticks": ""
            },
            "colorscale": [
             [
              0,
              "#0d0887"
             ],
             [
              0.1111111111111111,
              "#46039f"
             ],
             [
              0.2222222222222222,
              "#7201a8"
             ],
             [
              0.3333333333333333,
              "#9c179e"
             ],
             [
              0.4444444444444444,
              "#bd3786"
             ],
             [
              0.5555555555555556,
              "#d8576b"
             ],
             [
              0.6666666666666666,
              "#ed7953"
             ],
             [
              0.7777777777777778,
              "#fb9f3a"
             ],
             [
              0.8888888888888888,
              "#fdca26"
             ],
             [
              1,
              "#f0f921"
             ]
            ],
            "type": "surface"
           }
          ],
          "table": [
           {
            "cells": {
             "fill": {
              "color": "#EBF0F8"
             },
             "line": {
              "color": "white"
             }
            },
            "header": {
             "fill": {
              "color": "#C8D4E3"
             },
             "line": {
              "color": "white"
             }
            },
            "type": "table"
           }
          ]
         },
         "layout": {
          "annotationdefaults": {
           "arrowcolor": "#2a3f5f",
           "arrowhead": 0,
           "arrowwidth": 1
          },
          "autotypenumbers": "strict",
          "coloraxis": {
           "colorbar": {
            "outlinewidth": 0,
            "ticks": ""
           }
          },
          "colorscale": {
           "diverging": [
            [
             0,
             "#8e0152"
            ],
            [
             0.1,
             "#c51b7d"
            ],
            [
             0.2,
             "#de77ae"
            ],
            [
             0.3,
             "#f1b6da"
            ],
            [
             0.4,
             "#fde0ef"
            ],
            [
             0.5,
             "#f7f7f7"
            ],
            [
             0.6,
             "#e6f5d0"
            ],
            [
             0.7,
             "#b8e186"
            ],
            [
             0.8,
             "#7fbc41"
            ],
            [
             0.9,
             "#4d9221"
            ],
            [
             1,
             "#276419"
            ]
           ],
           "sequential": [
            [
             0,
             "#0d0887"
            ],
            [
             0.1111111111111111,
             "#46039f"
            ],
            [
             0.2222222222222222,
             "#7201a8"
            ],
            [
             0.3333333333333333,
             "#9c179e"
            ],
            [
             0.4444444444444444,
             "#bd3786"
            ],
            [
             0.5555555555555556,
             "#d8576b"
            ],
            [
             0.6666666666666666,
             "#ed7953"
            ],
            [
             0.7777777777777778,
             "#fb9f3a"
            ],
            [
             0.8888888888888888,
             "#fdca26"
            ],
            [
             1,
             "#f0f921"
            ]
           ],
           "sequentialminus": [
            [
             0,
             "#0d0887"
            ],
            [
             0.1111111111111111,
             "#46039f"
            ],
            [
             0.2222222222222222,
             "#7201a8"
            ],
            [
             0.3333333333333333,
             "#9c179e"
            ],
            [
             0.4444444444444444,
             "#bd3786"
            ],
            [
             0.5555555555555556,
             "#d8576b"
            ],
            [
             0.6666666666666666,
             "#ed7953"
            ],
            [
             0.7777777777777778,
             "#fb9f3a"
            ],
            [
             0.8888888888888888,
             "#fdca26"
            ],
            [
             1,
             "#f0f921"
            ]
           ]
          },
          "colorway": [
           "#636efa",
           "#EF553B",
           "#00cc96",
           "#ab63fa",
           "#FFA15A",
           "#19d3f3",
           "#FF6692",
           "#B6E880",
           "#FF97FF",
           "#FECB52"
          ],
          "font": {
           "color": "#2a3f5f"
          },
          "geo": {
           "bgcolor": "white",
           "lakecolor": "white",
           "landcolor": "#E5ECF6",
           "showlakes": true,
           "showland": true,
           "subunitcolor": "white"
          },
          "hoverlabel": {
           "align": "left"
          },
          "hovermode": "closest",
          "mapbox": {
           "style": "light"
          },
          "paper_bgcolor": "white",
          "plot_bgcolor": "#E5ECF6",
          "polar": {
           "angularaxis": {
            "gridcolor": "white",
            "linecolor": "white",
            "ticks": ""
           },
           "bgcolor": "#E5ECF6",
           "radialaxis": {
            "gridcolor": "white",
            "linecolor": "white",
            "ticks": ""
           }
          },
          "scene": {
           "xaxis": {
            "backgroundcolor": "#E5ECF6",
            "gridcolor": "white",
            "gridwidth": 2,
            "linecolor": "white",
            "showbackground": true,
            "ticks": "",
            "zerolinecolor": "white"
           },
           "yaxis": {
            "backgroundcolor": "#E5ECF6",
            "gridcolor": "white",
            "gridwidth": 2,
            "linecolor": "white",
            "showbackground": true,
            "ticks": "",
            "zerolinecolor": "white"
           },
           "zaxis": {
            "backgroundcolor": "#E5ECF6",
            "gridcolor": "white",
            "gridwidth": 2,
            "linecolor": "white",
            "showbackground": true,
            "ticks": "",
            "zerolinecolor": "white"
           }
          },
          "shapedefaults": {
           "line": {
            "color": "#2a3f5f"
           }
          },
          "ternary": {
           "aaxis": {
            "gridcolor": "white",
            "linecolor": "white",
            "ticks": ""
           },
           "baxis": {
            "gridcolor": "white",
            "linecolor": "white",
            "ticks": ""
           },
           "bgcolor": "#E5ECF6",
           "caxis": {
            "gridcolor": "white",
            "linecolor": "white",
            "ticks": ""
           }
          },
          "title": {
           "x": 0.05
          },
          "xaxis": {
           "automargin": true,
           "gridcolor": "white",
           "linecolor": "white",
           "ticks": "",
           "title": {
            "standoff": 15
           },
           "zerolinecolor": "white",
           "zerolinewidth": 2
          },
          "yaxis": {
           "automargin": true,
           "gridcolor": "white",
           "linecolor": "white",
           "ticks": "",
           "title": {
            "standoff": 15
           },
           "zerolinecolor": "white",
           "zerolinewidth": 2
          }
         }
        },
        "title": {
         "text": "epoch metrics"
        },
        "xaxis": {
         "anchor": "y",
         "domain": [
          0,
          0.98
         ],
         "title": {
          "text": "epoch"
         }
        },
        "xaxis2": {
         "anchor": "y2",
         "domain": [
          0,
          0.98
         ],
         "matches": "x",
         "showticklabels": false
        },
        "xaxis3": {
         "anchor": "y3",
         "domain": [
          0,
          0.98
         ],
         "matches": "x",
         "showticklabels": false
        },
        "xaxis4": {
         "anchor": "y4",
         "domain": [
          0,
          0.98
         ],
         "matches": "x",
         "showticklabels": false
        },
        "xaxis5": {
         "anchor": "y5",
         "domain": [
          0,
          0.98
         ],
         "matches": "x",
         "showticklabels": false
        },
        "yaxis": {
         "anchor": "x",
         "domain": [
          0,
          0.17600000000000002
         ],
         "title": {
          "text": "value"
         }
        },
        "yaxis2": {
         "anchor": "x2",
         "domain": [
          0.20600000000000002,
          0.382
         ],
         "title": {
          "text": "value"
         }
        },
        "yaxis3": {
         "anchor": "x3",
         "domain": [
          0.41200000000000003,
          0.5880000000000001
         ],
         "title": {
          "text": "value"
         }
        },
        "yaxis4": {
         "anchor": "x4",
         "domain": [
          0.618,
          0.794
         ],
         "title": {
          "text": "value"
         }
        },
        "yaxis5": {
         "anchor": "x5",
         "domain": [
          0.8240000000000001,
          1
         ],
         "title": {
          "text": "value"
         }
        }
       }
      }
     },
     "metadata": {},
     "output_type": "display_data"
    },
    {
     "name": "stdout",
     "output_type": "stream",
     "text": [
      "=========================\n",
      "training: 3\n"
     ]
    },
    {
     "data": {
      "application/vnd.jupyter.widget-view+json": {
       "model_id": "33e9e7598dc54949b64014d143b012a6",
       "version_major": 2,
       "version_minor": 0
      },
      "text/plain": [
       "Output()"
      ]
     },
     "metadata": {},
     "output_type": "display_data"
    },
    {
     "data": {
      "text/html": [
       "<pre style=\"white-space:pre;overflow-x:auto;line-height:normal;font-family:Menlo,'DejaVu Sans Mono',consolas,'Courier New',monospace\"></pre>\n"
      ],
      "text/plain": []
     },
     "metadata": {},
     "output_type": "display_data"
    },
    {
     "data": {
      "application/vnd.plotly.v1+json": {
       "config": {
        "plotlyServerURL": "https://plot.ly"
       },
       "data": [
        {
         "hovertemplate": "variable=train_epoch_loss<br>epoch=%{x}<br>value=%{y}<extra></extra>",
         "legendgroup": "train_epoch_loss",
         "line": {
          "color": "#636efa",
          "dash": "solid"
         },
         "marker": {
          "symbol": "circle"
         },
         "mode": "lines",
         "name": "train_epoch_loss",
         "orientation": "v",
         "showlegend": true,
         "type": "scatter",
         "x": {
          "bdata": "AAECAwQFBgcICQoLDA0ODxAREhMUFRYXGBkaGxwdHh8gISIjJCUmJygpKissLS4vMDEyMzQ1Njc4OTo7",
          "dtype": "i1"
         },
         "xaxis": "x5",
         "y": {
          "bdata": "zczM7Jh4BkAzMzNrqJkFQJqZmYEU0wRAMzMz65WDBECamZmpal8EQDMzM2N4VARAAAAACMM6BEDNzMwMNh0EQM3MzCxv8ANAAAAA8ELRA0CamZnBaqkDQGZmZiYZkgNAmpmZKUCEA0BmZmaeP2IDQAAAAMCGUgNAMzMzW4VEA0BmZmYeIi0DQGZmZo5lIANAMzMzM3sHA0BmZma21RMDQM3MzMTkDgNAmpmZuXXyAkAzMzOT1uACQM3MzIQI4wJAAAAASDfRAkCamZnBxNUCQAAAACD02AJAZmZmjnDeAkAAAAAoKrwCQDMzM1OGqwJAmpmZeR+YAkAAAAA4a30CQM3MzEQ7ZAJAmpmZiSBoAkCamZmpzEYCQGZmZtYWKQJAmpmZAYUiAkBmZmZGRyICQAAAANC1IAJAmpmZCRYPAkDNzMx05B0CQAAAAPAXBgJAmpmZcXEFAkCamZkpeQICQGZmZlYZ+wFAAAAAUK32AUBmZmbmQe0BQJqZmUlD7QFAZmZmBtLvAUBmZmZu0u4BQDMzM3Ng6wFAMzMza+/pAUCamZnpTc8BQJqZmWkatQFAMzMz47KcAUAzMzPzxW4BQGZmZvaSXgFAzczMXHtaAUDNzMx8TS4BQJqZmfHWPgFA",
          "dtype": "f8"
         },
         "yaxis": "y5"
        },
        {
         "hovertemplate": "variable=train_epoch_accuracy<br>epoch=%{x}<br>value=%{y}<extra></extra>",
         "legendgroup": "train_epoch_accuracy",
         "line": {
          "color": "#EF553B",
          "dash": "solid"
         },
         "marker": {
          "symbol": "circle"
         },
         "mode": "lines",
         "name": "train_epoch_accuracy",
         "orientation": "v",
         "showlegend": true,
         "type": "scatter",
         "x": {
          "bdata": "AAECAwQFBgcICQoLDA0ODxAREhMUFRYXGBkaGxwdHh8gISIjJCUmJygpKissLS4vMDEyMzQ1Njc4OTo7",
          "dtype": "i1"
         },
         "xaxis": "x4",
         "y": {
          "bdata": "zczMzMxsxT/NzMzMzNzRP83MzMzMHNg/zczMzMys2j+amZmZmbnbP5qZmZmZCdw/AAAAAADw3D9mZmZmZtbdP5qZmZmZOd8/zczMzMwk4D8AAAAAAMDgP2ZmZmZmFuE/zczMzMxE4T+amZmZmfHhP83MzMzMFOI/ZmZmZmZe4j/NzMzMzLziP5qZmZmZ6eI/AAAAAABQ4z8AAAAAABDjPwAAAAAAMOM/AAAAAACo4z8AAAAAAODjPwAAAAAA2OM/AAAAAAAg5D8AAAAAAAjkP5qZmZmZAeQ/mpmZmZnh4z9mZmZmZn7kP83MzMzMtOQ/mpmZmZkJ5T9mZmZmZn7lP83MzMzM5OU/AAAAAADI5T9mZmZmZk7mPzMzMzMzy+Y/AAAAAADY5j8AAAAAAODmP2ZmZmZm5uY/AAAAAAAw5z9mZmZmZu7mPzMzMzMzS+c/zczMzMxM5z8zMzMzM1PnP5qZmZmZcec/ZmZmZmaG5z8AAAAAALDnPzMzMzMzs+c/MzMzMzOj5z8AAAAAAKDnP83MzMzMtOc/mpmZmZm55z9mZmZmZi7oP5qZmZmZoeg/MzMzMzML6T9mZmZmZsbpP2ZmZmZm/uk/zczMzMz86T8AAAAAAMDqP5qZmZmZceo/",
          "dtype": "f8"
         },
         "yaxis": "y4"
        },
        {
         "hovertemplate": "variable=validation_loss<br>epoch=%{x}<br>value=%{y}<extra></extra>",
         "legendgroup": "validation_loss",
         "line": {
          "color": "#00cc96",
          "dash": "solid"
         },
         "marker": {
          "symbol": "circle"
         },
         "mode": "lines",
         "name": "validation_loss",
         "orientation": "v",
         "showlegend": true,
         "type": "scatter",
         "x": {
          "bdata": "AAECAwQFBgcICQoLDA0ODxAREhMUFRYXGBkaGxwdHh8gISIjJCUmJygpKissLS4vMDEyMzQ1Njc4OTo7",
          "dtype": "i1"
         },
         "xaxis": "x3",
         "y": {
          "bdata": "FDux84ZPBkAUO7HTDmUFQAAAAKCjKgVA7MROLGreBEAUO7ETMwwFQCd2YmdL1wRAdmInNv/fBEA7sRN7a7gEQNmJnVgGngRA7MROjIbXBEDZiZ2Y/4sEQMVO7ATZpwRAsRM78Y6KBEBP7MTuUG8EQOzETmwZiARAdmIndpt3BEAUO7FTKYIEQDuxE7t4egRAO7ET2956BEDFTuyE784EQMVO7GRGcQRAip3YyXp+BEA7sRObdXAEQCd2YoerdQRAT+zEroVsBEBiJ3YCfXsEQIqd2IkZiQRA2YmdWC6BBEBP7MSOdFwEQBQ7sTMaaARAxU7sxE1zBECe2Ik9hlgEQNmJndhROQRAip3Yyf89BECxEzsx5RgEQE/sxA4+FARAYid2YgUSBECxEzuxqhYEQHZiJ3ZlKgRAntiJfXMLBECxEzuxKvUDQAAAAEC0EARAJ3ZiZ5QQBEB2Yie2DQcEQBQ7sdMX+gNA7MROzEYEBEDsxE6sKB4EQDuxE9t96wNAT+zE7jcCBECe2ImdYAAEQCd2Yiej/wNAYid2gpD1A0BP7MQODP0DQCd2Ygec0wNAdmIn9mMHBEDsxE5M3+ADQOzETszW2gNAip3Yia+8A0CxEzsRf9IDQOzETqzDqANA",
          "dtype": "f8"
         },
         "yaxis": "y3"
        },
        {
         "hovertemplate": "variable=validation_accuracy<br>epoch=%{x}<br>value=%{y}<extra></extra>",
         "legendgroup": "validation_accuracy",
         "line": {
          "color": "#ab63fa",
          "dash": "solid"
         },
         "marker": {
          "symbol": "circle"
         },
         "mode": "lines",
         "name": "validation_accuracy",
         "orientation": "v",
         "showlegend": true,
         "type": "scatter",
         "x": {
          "bdata": "AAECAwQFBgcICQoLDA0ODxAREhMUFRYXGBkaGxwdHh8gISIjJCUmJygpKissLS4vMDEyMzQ1Njc4OTo7",
          "dtype": "i1"
         },
         "xaxis": "x2",
         "y": {
          "bdata": "LusT+CghyD8nueqZCM7TP8cqiWZxYdU/YMXI29+p1z+Sq56J4GDWP+77tZQNDNg/skqiWVy41z+C/eDa68rYP14gk+IFstk/3/It3/Lt1z919Fgl0WzaP4kvCjkMXtk/61aAmzNU2j+Uk1z1TETbPyHKSa56Zto/rAxYMfL22j883FkZsKLaP0B1bkhA7No/G5ggUFrT2j8xeAddbzzYPxVm9/E5QNs/G5ggUFrT2j+215W+olPbP2fr0G+2Dts/v6LTS1Mw2z8bmCBQWtPaPymhqAV1cdo/cLYO/War2j8bmCBQWtPbP6tnIjgYf9s/4n8hRDkJ2z/sSl/R6eXbPwlRTnLV89w/C+pioWW93D/3rrGNKgzeP5LuJvxyDN4/dEMCYq1G3j/h2utKXxHeP8oGJgiUVt0/pinYD6593j/qpSnYD+7eP4y8/Z1SOd4/Rpt23BZR3j+HfrN16HfeP6HrjedD/N4/6qUp2A+u3j+0MmDFyJvdP/tHxry6Vd8/2QON82SG3j85ku4m/LLePyVXPRPBwd4/SjSLC6ca3z923BaRPdDeP0zNnzo35N8/RAJirYaH3j/EI6bmT53fP5KrnongAOA/hzsrA1aM4D+K1D8y5hXgP6bmT50bsuA/",
          "dtype": "f8"
         },
         "yaxis": "y2"
        },
        {
         "hovertemplate": "variable=competition_score<br>epoch=%{x}<br>value=%{y}<extra></extra>",
         "legendgroup": "competition_score",
         "line": {
          "color": "#FFA15A",
          "dash": "solid"
         },
         "marker": {
          "symbol": "circle"
         },
         "mode": "lines",
         "name": "competition_score",
         "orientation": "v",
         "showlegend": true,
         "type": "scatter",
         "x": {
          "bdata": "AAECAwQFBgcICQoLDA0ODxAREhMUFRYXGBkaGxwdHh8gISIjJCUmJygpKissLS4vMDEyMzQ1Njc4OTo7",
          "dtype": "i1"
         },
         "xaxis": "x",
         "y": {
          "bdata": "FYx1wsgq2T/xQ2IjzarYP9ShlYiQidc/6H0HbAyU2j/+g6vJCsvaPxqKvFgnb9o/kDQnASQO4D8GN61K5cDfP2QyHiZij+A/GAxEufIo4D/4YC/My2jgP5MqOIJzOOA/KKW9hvGM3z9QGn+vpCHgP56ECPo2HOA/Vs7JQK5W4D9dzq8BxQPgP7qrTS4WI+A/ybX7BmV+4D9KeOTg2zbcP5cFmf3mYOA/cadmAWWN3z+wqVbvZ5TgPyakGuM9rOA/6pdDaPyi4D/A4hfW5VbgP7NV0m0QV98/qXbUTLYl4D+I3ynDfq7gP5HUIYky4+A/cjriSB1z4T+Ro75JXhnhPwpC/GmsmeE/TOf7C04s4T/mLxwpX+nhP4azan837uE/vCIIMRjr4T9uu8/I03zhP6rzpwdFseE/NXpPaqpz4T9Aa9jWA87hP/ScLuldxOE/AgCyQvCa4T9IXVAVf+7hP+OW+/o4+eE/cvjQPbz74T+qO3VM+7/gP5HUWjxlAuI/lIs+M8Un4j9KN/bihw/iPwNMwXZTjuE/0kIV2lhD4j8hl+j4giTiP3iKNDvruOI/mOSSf26/4j9DRf0DjSriPzDo+MqyIeI/haAlFKL/4j/UnqzH/oLiP9WNZUVz2OI/",
          "dtype": "f8"
         },
         "yaxis": "y"
        }
       ],
       "layout": {
        "annotations": [
         {
          "font": {},
          "showarrow": false,
          "text": "variable=competition_score",
          "textangle": 90,
          "x": 0.98,
          "xanchor": "left",
          "xref": "paper",
          "y": 0.08800000000000001,
          "yanchor": "middle",
          "yref": "paper"
         },
         {
          "font": {},
          "showarrow": false,
          "text": "variable=validation_accuracy",
          "textangle": 90,
          "x": 0.98,
          "xanchor": "left",
          "xref": "paper",
          "y": 0.29400000000000004,
          "yanchor": "middle",
          "yref": "paper"
         },
         {
          "font": {},
          "showarrow": false,
          "text": "variable=validation_loss",
          "textangle": 90,
          "x": 0.98,
          "xanchor": "left",
          "xref": "paper",
          "y": 0.5,
          "yanchor": "middle",
          "yref": "paper"
         },
         {
          "font": {},
          "showarrow": false,
          "text": "variable=train_epoch_accuracy",
          "textangle": 90,
          "x": 0.98,
          "xanchor": "left",
          "xref": "paper",
          "y": 0.706,
          "yanchor": "middle",
          "yref": "paper"
         },
         {
          "font": {},
          "showarrow": false,
          "text": "variable=train_epoch_loss",
          "textangle": 90,
          "x": 0.98,
          "xanchor": "left",
          "xref": "paper",
          "y": 0.912,
          "yanchor": "middle",
          "yref": "paper"
         }
        ],
        "legend": {
         "title": {
          "text": "variable"
         },
         "tracegroupgap": 0
        },
        "template": {
         "data": {
          "bar": [
           {
            "error_x": {
             "color": "#2a3f5f"
            },
            "error_y": {
             "color": "#2a3f5f"
            },
            "marker": {
             "line": {
              "color": "#E5ECF6",
              "width": 0.5
             },
             "pattern": {
              "fillmode": "overlay",
              "size": 10,
              "solidity": 0.2
             }
            },
            "type": "bar"
           }
          ],
          "barpolar": [
           {
            "marker": {
             "line": {
              "color": "#E5ECF6",
              "width": 0.5
             },
             "pattern": {
              "fillmode": "overlay",
              "size": 10,
              "solidity": 0.2
             }
            },
            "type": "barpolar"
           }
          ],
          "carpet": [
           {
            "aaxis": {
             "endlinecolor": "#2a3f5f",
             "gridcolor": "white",
             "linecolor": "white",
             "minorgridcolor": "white",
             "startlinecolor": "#2a3f5f"
            },
            "baxis": {
             "endlinecolor": "#2a3f5f",
             "gridcolor": "white",
             "linecolor": "white",
             "minorgridcolor": "white",
             "startlinecolor": "#2a3f5f"
            },
            "type": "carpet"
           }
          ],
          "choropleth": [
           {
            "colorbar": {
             "outlinewidth": 0,
             "ticks": ""
            },
            "type": "choropleth"
           }
          ],
          "contour": [
           {
            "colorbar": {
             "outlinewidth": 0,
             "ticks": ""
            },
            "colorscale": [
             [
              0,
              "#0d0887"
             ],
             [
              0.1111111111111111,
              "#46039f"
             ],
             [
              0.2222222222222222,
              "#7201a8"
             ],
             [
              0.3333333333333333,
              "#9c179e"
             ],
             [
              0.4444444444444444,
              "#bd3786"
             ],
             [
              0.5555555555555556,
              "#d8576b"
             ],
             [
              0.6666666666666666,
              "#ed7953"
             ],
             [
              0.7777777777777778,
              "#fb9f3a"
             ],
             [
              0.8888888888888888,
              "#fdca26"
             ],
             [
              1,
              "#f0f921"
             ]
            ],
            "type": "contour"
           }
          ],
          "contourcarpet": [
           {
            "colorbar": {
             "outlinewidth": 0,
             "ticks": ""
            },
            "type": "contourcarpet"
           }
          ],
          "heatmap": [
           {
            "colorbar": {
             "outlinewidth": 0,
             "ticks": ""
            },
            "colorscale": [
             [
              0,
              "#0d0887"
             ],
             [
              0.1111111111111111,
              "#46039f"
             ],
             [
              0.2222222222222222,
              "#7201a8"
             ],
             [
              0.3333333333333333,
              "#9c179e"
             ],
             [
              0.4444444444444444,
              "#bd3786"
             ],
             [
              0.5555555555555556,
              "#d8576b"
             ],
             [
              0.6666666666666666,
              "#ed7953"
             ],
             [
              0.7777777777777778,
              "#fb9f3a"
             ],
             [
              0.8888888888888888,
              "#fdca26"
             ],
             [
              1,
              "#f0f921"
             ]
            ],
            "type": "heatmap"
           }
          ],
          "histogram": [
           {
            "marker": {
             "pattern": {
              "fillmode": "overlay",
              "size": 10,
              "solidity": 0.2
             }
            },
            "type": "histogram"
           }
          ],
          "histogram2d": [
           {
            "colorbar": {
             "outlinewidth": 0,
             "ticks": ""
            },
            "colorscale": [
             [
              0,
              "#0d0887"
             ],
             [
              0.1111111111111111,
              "#46039f"
             ],
             [
              0.2222222222222222,
              "#7201a8"
             ],
             [
              0.3333333333333333,
              "#9c179e"
             ],
             [
              0.4444444444444444,
              "#bd3786"
             ],
             [
              0.5555555555555556,
              "#d8576b"
             ],
             [
              0.6666666666666666,
              "#ed7953"
             ],
             [
              0.7777777777777778,
              "#fb9f3a"
             ],
             [
              0.8888888888888888,
              "#fdca26"
             ],
             [
              1,
              "#f0f921"
             ]
            ],
            "type": "histogram2d"
           }
          ],
          "histogram2dcontour": [
           {
            "colorbar": {
             "outlinewidth": 0,
             "ticks": ""
            },
            "colorscale": [
             [
              0,
              "#0d0887"
             ],
             [
              0.1111111111111111,
              "#46039f"
             ],
             [
              0.2222222222222222,
              "#7201a8"
             ],
             [
              0.3333333333333333,
              "#9c179e"
             ],
             [
              0.4444444444444444,
              "#bd3786"
             ],
             [
              0.5555555555555556,
              "#d8576b"
             ],
             [
              0.6666666666666666,
              "#ed7953"
             ],
             [
              0.7777777777777778,
              "#fb9f3a"
             ],
             [
              0.8888888888888888,
              "#fdca26"
             ],
             [
              1,
              "#f0f921"
             ]
            ],
            "type": "histogram2dcontour"
           }
          ],
          "mesh3d": [
           {
            "colorbar": {
             "outlinewidth": 0,
             "ticks": ""
            },
            "type": "mesh3d"
           }
          ],
          "parcoords": [
           {
            "line": {
             "colorbar": {
              "outlinewidth": 0,
              "ticks": ""
             }
            },
            "type": "parcoords"
           }
          ],
          "pie": [
           {
            "automargin": true,
            "type": "pie"
           }
          ],
          "scatter": [
           {
            "fillpattern": {
             "fillmode": "overlay",
             "size": 10,
             "solidity": 0.2
            },
            "type": "scatter"
           }
          ],
          "scatter3d": [
           {
            "line": {
             "colorbar": {
              "outlinewidth": 0,
              "ticks": ""
             }
            },
            "marker": {
             "colorbar": {
              "outlinewidth": 0,
              "ticks": ""
             }
            },
            "type": "scatter3d"
           }
          ],
          "scattercarpet": [
           {
            "marker": {
             "colorbar": {
              "outlinewidth": 0,
              "ticks": ""
             }
            },
            "type": "scattercarpet"
           }
          ],
          "scattergeo": [
           {
            "marker": {
             "colorbar": {
              "outlinewidth": 0,
              "ticks": ""
             }
            },
            "type": "scattergeo"
           }
          ],
          "scattergl": [
           {
            "marker": {
             "colorbar": {
              "outlinewidth": 0,
              "ticks": ""
             }
            },
            "type": "scattergl"
           }
          ],
          "scattermap": [
           {
            "marker": {
             "colorbar": {
              "outlinewidth": 0,
              "ticks": ""
             }
            },
            "type": "scattermap"
           }
          ],
          "scattermapbox": [
           {
            "marker": {
             "colorbar": {
              "outlinewidth": 0,
              "ticks": ""
             }
            },
            "type": "scattermapbox"
           }
          ],
          "scatterpolar": [
           {
            "marker": {
             "colorbar": {
              "outlinewidth": 0,
              "ticks": ""
             }
            },
            "type": "scatterpolar"
           }
          ],
          "scatterpolargl": [
           {
            "marker": {
             "colorbar": {
              "outlinewidth": 0,
              "ticks": ""
             }
            },
            "type": "scatterpolargl"
           }
          ],
          "scatterternary": [
           {
            "marker": {
             "colorbar": {
              "outlinewidth": 0,
              "ticks": ""
             }
            },
            "type": "scatterternary"
           }
          ],
          "surface": [
           {
            "colorbar": {
             "outlinewidth": 0,
             "ticks": ""
            },
            "colorscale": [
             [
              0,
              "#0d0887"
             ],
             [
              0.1111111111111111,
              "#46039f"
             ],
             [
              0.2222222222222222,
              "#7201a8"
             ],
             [
              0.3333333333333333,
              "#9c179e"
             ],
             [
              0.4444444444444444,
              "#bd3786"
             ],
             [
              0.5555555555555556,
              "#d8576b"
             ],
             [
              0.6666666666666666,
              "#ed7953"
             ],
             [
              0.7777777777777778,
              "#fb9f3a"
             ],
             [
              0.8888888888888888,
              "#fdca26"
             ],
             [
              1,
              "#f0f921"
             ]
            ],
            "type": "surface"
           }
          ],
          "table": [
           {
            "cells": {
             "fill": {
              "color": "#EBF0F8"
             },
             "line": {
              "color": "white"
             }
            },
            "header": {
             "fill": {
              "color": "#C8D4E3"
             },
             "line": {
              "color": "white"
             }
            },
            "type": "table"
           }
          ]
         },
         "layout": {
          "annotationdefaults": {
           "arrowcolor": "#2a3f5f",
           "arrowhead": 0,
           "arrowwidth": 1
          },
          "autotypenumbers": "strict",
          "coloraxis": {
           "colorbar": {
            "outlinewidth": 0,
            "ticks": ""
           }
          },
          "colorscale": {
           "diverging": [
            [
             0,
             "#8e0152"
            ],
            [
             0.1,
             "#c51b7d"
            ],
            [
             0.2,
             "#de77ae"
            ],
            [
             0.3,
             "#f1b6da"
            ],
            [
             0.4,
             "#fde0ef"
            ],
            [
             0.5,
             "#f7f7f7"
            ],
            [
             0.6,
             "#e6f5d0"
            ],
            [
             0.7,
             "#b8e186"
            ],
            [
             0.8,
             "#7fbc41"
            ],
            [
             0.9,
             "#4d9221"
            ],
            [
             1,
             "#276419"
            ]
           ],
           "sequential": [
            [
             0,
             "#0d0887"
            ],
            [
             0.1111111111111111,
             "#46039f"
            ],
            [
             0.2222222222222222,
             "#7201a8"
            ],
            [
             0.3333333333333333,
             "#9c179e"
            ],
            [
             0.4444444444444444,
             "#bd3786"
            ],
            [
             0.5555555555555556,
             "#d8576b"
            ],
            [
             0.6666666666666666,
             "#ed7953"
            ],
            [
             0.7777777777777778,
             "#fb9f3a"
            ],
            [
             0.8888888888888888,
             "#fdca26"
            ],
            [
             1,
             "#f0f921"
            ]
           ],
           "sequentialminus": [
            [
             0,
             "#0d0887"
            ],
            [
             0.1111111111111111,
             "#46039f"
            ],
            [
             0.2222222222222222,
             "#7201a8"
            ],
            [
             0.3333333333333333,
             "#9c179e"
            ],
            [
             0.4444444444444444,
             "#bd3786"
            ],
            [
             0.5555555555555556,
             "#d8576b"
            ],
            [
             0.6666666666666666,
             "#ed7953"
            ],
            [
             0.7777777777777778,
             "#fb9f3a"
            ],
            [
             0.8888888888888888,
             "#fdca26"
            ],
            [
             1,
             "#f0f921"
            ]
           ]
          },
          "colorway": [
           "#636efa",
           "#EF553B",
           "#00cc96",
           "#ab63fa",
           "#FFA15A",
           "#19d3f3",
           "#FF6692",
           "#B6E880",
           "#FF97FF",
           "#FECB52"
          ],
          "font": {
           "color": "#2a3f5f"
          },
          "geo": {
           "bgcolor": "white",
           "lakecolor": "white",
           "landcolor": "#E5ECF6",
           "showlakes": true,
           "showland": true,
           "subunitcolor": "white"
          },
          "hoverlabel": {
           "align": "left"
          },
          "hovermode": "closest",
          "mapbox": {
           "style": "light"
          },
          "paper_bgcolor": "white",
          "plot_bgcolor": "#E5ECF6",
          "polar": {
           "angularaxis": {
            "gridcolor": "white",
            "linecolor": "white",
            "ticks": ""
           },
           "bgcolor": "#E5ECF6",
           "radialaxis": {
            "gridcolor": "white",
            "linecolor": "white",
            "ticks": ""
           }
          },
          "scene": {
           "xaxis": {
            "backgroundcolor": "#E5ECF6",
            "gridcolor": "white",
            "gridwidth": 2,
            "linecolor": "white",
            "showbackground": true,
            "ticks": "",
            "zerolinecolor": "white"
           },
           "yaxis": {
            "backgroundcolor": "#E5ECF6",
            "gridcolor": "white",
            "gridwidth": 2,
            "linecolor": "white",
            "showbackground": true,
            "ticks": "",
            "zerolinecolor": "white"
           },
           "zaxis": {
            "backgroundcolor": "#E5ECF6",
            "gridcolor": "white",
            "gridwidth": 2,
            "linecolor": "white",
            "showbackground": true,
            "ticks": "",
            "zerolinecolor": "white"
           }
          },
          "shapedefaults": {
           "line": {
            "color": "#2a3f5f"
           }
          },
          "ternary": {
           "aaxis": {
            "gridcolor": "white",
            "linecolor": "white",
            "ticks": ""
           },
           "baxis": {
            "gridcolor": "white",
            "linecolor": "white",
            "ticks": ""
           },
           "bgcolor": "#E5ECF6",
           "caxis": {
            "gridcolor": "white",
            "linecolor": "white",
            "ticks": ""
           }
          },
          "title": {
           "x": 0.05
          },
          "xaxis": {
           "automargin": true,
           "gridcolor": "white",
           "linecolor": "white",
           "ticks": "",
           "title": {
            "standoff": 15
           },
           "zerolinecolor": "white",
           "zerolinewidth": 2
          },
          "yaxis": {
           "automargin": true,
           "gridcolor": "white",
           "linecolor": "white",
           "ticks": "",
           "title": {
            "standoff": 15
           },
           "zerolinecolor": "white",
           "zerolinewidth": 2
          }
         }
        },
        "title": {
         "text": "epoch metrics"
        },
        "xaxis": {
         "anchor": "y",
         "domain": [
          0,
          0.98
         ],
         "title": {
          "text": "epoch"
         }
        },
        "xaxis2": {
         "anchor": "y2",
         "domain": [
          0,
          0.98
         ],
         "matches": "x",
         "showticklabels": false
        },
        "xaxis3": {
         "anchor": "y3",
         "domain": [
          0,
          0.98
         ],
         "matches": "x",
         "showticklabels": false
        },
        "xaxis4": {
         "anchor": "y4",
         "domain": [
          0,
          0.98
         ],
         "matches": "x",
         "showticklabels": false
        },
        "xaxis5": {
         "anchor": "y5",
         "domain": [
          0,
          0.98
         ],
         "matches": "x",
         "showticklabels": false
        },
        "yaxis": {
         "anchor": "x",
         "domain": [
          0,
          0.17600000000000002
         ],
         "title": {
          "text": "value"
         }
        },
        "yaxis2": {
         "anchor": "x2",
         "domain": [
          0.20600000000000002,
          0.382
         ],
         "title": {
          "text": "value"
         }
        },
        "yaxis3": {
         "anchor": "x3",
         "domain": [
          0.41200000000000003,
          0.5880000000000001
         ],
         "title": {
          "text": "value"
         }
        },
        "yaxis4": {
         "anchor": "x4",
         "domain": [
          0.618,
          0.794
         ],
         "title": {
          "text": "value"
         }
        },
        "yaxis5": {
         "anchor": "x5",
         "domain": [
          0.8240000000000001,
          1
         ],
         "title": {
          "text": "value"
         }
        }
       }
      }
     },
     "metadata": {},
     "output_type": "display_data"
    },
    {
     "name": "stdout",
     "output_type": "stream",
     "text": [
      "=========================\n",
      "training: 4\n"
     ]
    },
    {
     "data": {
      "application/vnd.jupyter.widget-view+json": {
       "model_id": "f9155ea22cac4d01807051a9b6e73902",
       "version_major": 2,
       "version_minor": 0
      },
      "text/plain": [
       "Output()"
      ]
     },
     "metadata": {},
     "output_type": "display_data"
    },
    {
     "data": {
      "text/html": [
       "<pre style=\"white-space:pre;overflow-x:auto;line-height:normal;font-family:Menlo,'DejaVu Sans Mono',consolas,'Courier New',monospace\"></pre>\n"
      ],
      "text/plain": []
     },
     "metadata": {},
     "output_type": "display_data"
    },
    {
     "data": {
      "application/vnd.plotly.v1+json": {
       "config": {
        "plotlyServerURL": "https://plot.ly"
       },
       "data": [
        {
         "hovertemplate": "variable=train_epoch_loss<br>epoch=%{x}<br>value=%{y}<extra></extra>",
         "legendgroup": "train_epoch_loss",
         "line": {
          "color": "#636efa",
          "dash": "solid"
         },
         "marker": {
          "symbol": "circle"
         },
         "mode": "lines",
         "name": "train_epoch_loss",
         "orientation": "v",
         "showlegend": true,
         "type": "scatter",
         "x": {
          "bdata": "AAECAwQFBgcICQoLDA0ODxAREhMUFRYXGBkaGxwdHh8gISIjJCUmJygpKissLS4vMDEyMzQ1Njc4OTo7",
          "dtype": "i1"
         },
         "xaxis": "x5",
         "y": {
          "bdata": "ZmZmdoHMBkDNzMzM468GQDMzM0OJrQZAzczMnE9SBkCamZkBYHoFQGZmZib8QQVAzczM3Hs8BUAAAACo9zIFQGZmZl6QIgVAZmZmvkIWBUAAAAAwKh0FQAAAAJDwIQVAMzMzgyIUBUCamZnJExUFQAAAADCyGgVAMzMz8zsABUCamZkZRMAEQGZmZv4hmwRAzczM/FqXBEAzMzMDqJ8EQJqZmSGwjARAmpmZMY+BBEDNzMyEfHwEQAAAACgfbARAZmZmrmBoBEAzMzODhFoEQGZmZi7gWARAmpmZabVRBEBmZmb2bFwEQGZmZgY9UQRAMzMzi2pZBEAAAADY4lQEQDMzMwsyVARAzczMzJtQBECamZnhQlIEQDMzMxPYSwRAMzMz87lVBEAAAABY/lIEQAAAAHCmTwRAZmZmTmJQBEAAAACgsDMEQDMzMzPOGwRAZmZmLnMQBEBmZmYm8v0DQM3MzFy2/wNAzczMJG0qBEAzMzOrTQYEQAAAAADI+ANAAAAAKNjyA0DNzMxMg+8DQAAAALiW2gNAMzMzQ1DRA0AzMzMLo8UDQJqZmVF60QNAMzMzswLFA0AAAACwNsQDQAAAAHCftgNAAAAAgJ6JA0AzMzMjAmADQM3MzOS0TQNA",
          "dtype": "f8"
         },
         "yaxis": "y5"
        },
        {
         "hovertemplate": "variable=train_epoch_accuracy<br>epoch=%{x}<br>value=%{y}<extra></extra>",
         "legendgroup": "train_epoch_accuracy",
         "line": {
          "color": "#EF553B",
          "dash": "solid"
         },
         "marker": {
          "symbol": "circle"
         },
         "mode": "lines",
         "name": "train_epoch_accuracy",
         "orientation": "v",
         "showlegend": true,
         "type": "scatter",
         "x": {
          "bdata": "AAECAwQFBgcICQoLDA0ODxAREhMUFRYXGBkaGxwdHh8gISIjJCUmJygpKissLS4vMDEyMzQ1Njc4OTo7",
          "dtype": "i1"
         },
         "xaxis": "x4",
         "y": {
          "bdata": "4ONsw5v4vz/Bx9mGN7HBP4fs6F8JccE/uQC1d14/xz+FGArmi+rSP/zBMclDltQ/AbV3Xp/R1D9fVLm1LCbVP+5ST8Zvp9U/Gr9d6sn41T+6HxyTPMTVPx6yo38lpNU/au+8PoMO1j/QVSOl6QTWP1Ll1rJYx9U/Fut+cEyi1j8hhoL5otrYP4P5osqt5dk/tizW/eAI2j/b8CYuQM3ZP6PKrWWxXto/6l8JMRS82j9iKJgvquzaP7gAtXdeb9s/q5HSdIqA2z8qAh9nG+7bP5sDiVbY/Ns/XTVSmk4x3D91isDH2dbbPx5nG97ENdw/WI2UplPk2z8mLkDtnRfcPx2TPGRHD9w/eF6fQVct3D8S+Djb8CbcP4XNgUQrTNw/+8ExyUMG3D+VW8ti3R/cPwZdNVKaLtw/i8DH2YYn3D+FzYFEKzzdP5Vby2Ld/90/PWRH/0pI3j/rM+iqkdLePyYuQO2d194/2/AmLkBt3T81nSLwcZbeP7Ys1v3gGN8/HZM8ZEcv3z8av13qyVjfP65lse4H998/pH8lxFAg4D9UubUs1lXgP0bg42zDG+A/hoL5ospN4D9mse4Hx0zgP0ZK0ykCh+A/rbA5kGhF4T/EUDBfVOHhP6XpFIGPK+I/",
          "dtype": "f8"
         },
         "yaxis": "y4"
        },
        {
         "hovertemplate": "variable=validation_loss<br>epoch=%{x}<br>value=%{y}<extra></extra>",
         "legendgroup": "validation_loss",
         "line": {
          "color": "#00cc96",
          "dash": "solid"
         },
         "marker": {
          "symbol": "circle"
         },
         "mode": "lines",
         "name": "validation_loss",
         "orientation": "v",
         "showlegend": true,
         "type": "scatter",
         "x": {
          "bdata": "AAECAwQFBgcICQoLDA0ODxAREhMUFRYXGBkaGxwdHh8gISIjJCUmJygpKissLS4vMDEyMzQ1Njc4OTo7",
          "dtype": "i1"
         },
         "xaxis": "x3",
         "y": {
          "bdata": "J3Zi59LSBkAndmLH7LUGQCd2YgeqrwZAsRM7UUl/BUDZiZ0YfIAFQGIndmKgXAVAsRM7Ub1VBUA7sRM72z4FQMVO7ORqOwVAdmIndoI4BUCxEzvxkz4FQCd2YudHMwVAO7ETW6haBUAndmLHNkAFQCd2Yic7QQVAsRM7MfoCBUDsxE4sFPEEQGIndqK8AgVAntiJHcnxBECxEzsxH9IEQOzETkxGwQRAdmIndovRBEAAAAAgdsYEQJ7YiZ0+xwRAFDuxcznABEAUO7FzKMMEQJ7YiX2xwARAAAAAQDvDBEAndmIH8r0EQDuxE/uXxgRAdmIntuy+BEBiJ3biW70EQIqd2Gn8rwRAxU7sxMm2BEDFTuykc7MEQGIndmIktgRAxU7sZHS2BEAndmKnN7gEQJ7YiT1FtgRAntiJXTy8BECKndjp75sEQLETO9GmrQRAip3YKQeYBECxEzsxmJgEQE/sxO74oARA7MROzMjRBEBiJ3bCm5YEQE/sxI6ymARAAAAAIL+4BEBP7MROTZEEQDuxExv4mwRA2YmduNuVBECKndhplZUEQHZiJ3aolwRAYid2YnmKBEBP7MTugIsEQGIndkK0iARAFDuxU1N6BECxEzvR9FAEQOzETqz5QARA",
          "dtype": "f8"
         },
         "yaxis": "y3"
        },
        {
         "hovertemplate": "variable=validation_accuracy<br>epoch=%{x}<br>value=%{y}<extra></extra>",
         "legendgroup": "validation_accuracy",
         "line": {
          "color": "#ab63fa",
          "dash": "solid"
         },
         "marker": {
          "symbol": "circle"
         },
         "mode": "lines",
         "name": "validation_accuracy",
         "orientation": "v",
         "showlegend": true,
         "type": "scatter",
         "x": {
          "bdata": "AAECAwQFBgcICQoLDA0ODxAREhMUFRYXGBkaGxwdHh8gISIjJCUmJygpKissLS4vMDEyMzQ1Njc4OTo7",
          "dtype": "i1"
         },
         "xaxis": "x2",
         "y": {
          "bdata": "r/AKr/AKwD+8wiu8wivBP1qbtVmbNcE/chzHcRwH0z/ofu7nfq7SP0zJlEzJ1NM/Yid2Yif20z8apEEapMHUP3uoh3qox9Q/ztqszdrs1D8qmZIpmdLUP+EVXuEVHtU/GqRBGqTB0z87sRM7sZPUP9D93M/9nNQ/93M/93O/1j97qId6qEfXP8dxHMdxnNY/J3ZiJ3Yi1z+iHuqhHirYP3uoh3qox9g/JVMyJVMy2D8ZgREYgZHYP2uzNmuzdtg/RmAERmDE2D+HeqiHeqjYP2VKpmRKptg/Z23WZm2W2D/kOI7jOM7YP7qf+7mfe9g/QRqkQRqk2D9pkAZpkMbYPxzHcRzHMdk/Lt/yLd/y2D8wAiMwAiPZP2dt1mZtFtk/fMu3fMv32D+iHuqhHurYPwmMwAiMANk/gREYgRHY2D9GYARGYATaP8VO7MROLNk/NUiDNEgD2j/+3M/93A/aPzZrszZrs9k/tlmbtVkb2D9/7ud+7ifaP6RBGqRB2tk/PtRDPdQD2T/6lm/5li/aP9D93M/93Nk/TMmUTMkU2j81SIM0SAPaP0mDNEiD9Nk/JVMyJVNy2j+rqqqqqmraP9ZmbdZmbdo/7MRO7MTO2j+MwAiMwEjcP0ZgBEZgxNw/",
          "dtype": "f8"
         },
         "yaxis": "y2"
        },
        {
         "hovertemplate": "variable=competition_score<br>epoch=%{x}<br>value=%{y}<extra></extra>",
         "legendgroup": "competition_score",
         "line": {
          "color": "#FFA15A",
          "dash": "solid"
         },
         "marker": {
          "symbol": "circle"
         },
         "mode": "lines",
         "name": "competition_score",
         "orientation": "v",
         "showlegend": true,
         "type": "scatter",
         "x": {
          "bdata": "AAECAwQFBgcICQoLDA0ODxAREhMUFRYXGBkaGxwdHh8gISIjJCUmJygpKissLS4vMDEyMzQ1Njc4OTo7",
          "dtype": "i1"
         },
         "xaxis": "x",
         "y": {
          "bdata": "5NLp/K61oj/k0un8rrWiP+TS6fyutaI/wG1G7R/W3D+ftBZ5MU7dP9w5Rq4T/N0/dQnTX6Wp3D+XUZ6L7wTeP+opHGbkyN0/oWz9y1wC3j+PYSfrTjHeP7Di2UUXAd4/iAYlaR2j2z/87LAWtY7cPxdGgN5rC90/WeIyu7fA3z9WUY3E5L/fP9u9QuDHBeA/r5Ah7G7l3z+wlm/CYzTgP4FaJrh6d+A/P/X/MUAT4D/f56thOEfgP7pyhuo0UuA/whYRSilb4D9zR+nBQ17gP9OErRv2TuA/04HR1Lgv4D++EV9Rg2/gP3uuTWD5R+A/Z/FaJD1E4D/1sDxmuJbgP4KxF/RcqOA/ndByPPeK4D8MWswl/WngP0Y00AuIZuA/aXKqxFmG4D+OZnci0r3gP1AxhjNFZuA/9n4SS0B94D+5sfCDKUrhP7I6Yd/2/+A/2IiiYaUY4T/bdHNmvSDhPxWtaHtN++A/njAJCFR44D8/k44vImLhP6Dw1Z4XIeE/osTfcYPi4D9KoHajZiDhPxC9MVpfVuE/wdbsVSc34T/61bcWUU/hP570vT2DQ+E/2foGhfB94T+iMEMORXbhP8BqULV0KuE/Iq3uLC7u4D9sbpuYIFDhP6qaurD4c+E/",
          "dtype": "f8"
         },
         "yaxis": "y"
        }
       ],
       "layout": {
        "annotations": [
         {
          "font": {},
          "showarrow": false,
          "text": "variable=competition_score",
          "textangle": 90,
          "x": 0.98,
          "xanchor": "left",
          "xref": "paper",
          "y": 0.08800000000000001,
          "yanchor": "middle",
          "yref": "paper"
         },
         {
          "font": {},
          "showarrow": false,
          "text": "variable=validation_accuracy",
          "textangle": 90,
          "x": 0.98,
          "xanchor": "left",
          "xref": "paper",
          "y": 0.29400000000000004,
          "yanchor": "middle",
          "yref": "paper"
         },
         {
          "font": {},
          "showarrow": false,
          "text": "variable=validation_loss",
          "textangle": 90,
          "x": 0.98,
          "xanchor": "left",
          "xref": "paper",
          "y": 0.5,
          "yanchor": "middle",
          "yref": "paper"
         },
         {
          "font": {},
          "showarrow": false,
          "text": "variable=train_epoch_accuracy",
          "textangle": 90,
          "x": 0.98,
          "xanchor": "left",
          "xref": "paper",
          "y": 0.706,
          "yanchor": "middle",
          "yref": "paper"
         },
         {
          "font": {},
          "showarrow": false,
          "text": "variable=train_epoch_loss",
          "textangle": 90,
          "x": 0.98,
          "xanchor": "left",
          "xref": "paper",
          "y": 0.912,
          "yanchor": "middle",
          "yref": "paper"
         }
        ],
        "legend": {
         "title": {
          "text": "variable"
         },
         "tracegroupgap": 0
        },
        "template": {
         "data": {
          "bar": [
           {
            "error_x": {
             "color": "#2a3f5f"
            },
            "error_y": {
             "color": "#2a3f5f"
            },
            "marker": {
             "line": {
              "color": "#E5ECF6",
              "width": 0.5
             },
             "pattern": {
              "fillmode": "overlay",
              "size": 10,
              "solidity": 0.2
             }
            },
            "type": "bar"
           }
          ],
          "barpolar": [
           {
            "marker": {
             "line": {
              "color": "#E5ECF6",
              "width": 0.5
             },
             "pattern": {
              "fillmode": "overlay",
              "size": 10,
              "solidity": 0.2
             }
            },
            "type": "barpolar"
           }
          ],
          "carpet": [
           {
            "aaxis": {
             "endlinecolor": "#2a3f5f",
             "gridcolor": "white",
             "linecolor": "white",
             "minorgridcolor": "white",
             "startlinecolor": "#2a3f5f"
            },
            "baxis": {
             "endlinecolor": "#2a3f5f",
             "gridcolor": "white",
             "linecolor": "white",
             "minorgridcolor": "white",
             "startlinecolor": "#2a3f5f"
            },
            "type": "carpet"
           }
          ],
          "choropleth": [
           {
            "colorbar": {
             "outlinewidth": 0,
             "ticks": ""
            },
            "type": "choropleth"
           }
          ],
          "contour": [
           {
            "colorbar": {
             "outlinewidth": 0,
             "ticks": ""
            },
            "colorscale": [
             [
              0,
              "#0d0887"
             ],
             [
              0.1111111111111111,
              "#46039f"
             ],
             [
              0.2222222222222222,
              "#7201a8"
             ],
             [
              0.3333333333333333,
              "#9c179e"
             ],
             [
              0.4444444444444444,
              "#bd3786"
             ],
             [
              0.5555555555555556,
              "#d8576b"
             ],
             [
              0.6666666666666666,
              "#ed7953"
             ],
             [
              0.7777777777777778,
              "#fb9f3a"
             ],
             [
              0.8888888888888888,
              "#fdca26"
             ],
             [
              1,
              "#f0f921"
             ]
            ],
            "type": "contour"
           }
          ],
          "contourcarpet": [
           {
            "colorbar": {
             "outlinewidth": 0,
             "ticks": ""
            },
            "type": "contourcarpet"
           }
          ],
          "heatmap": [
           {
            "colorbar": {
             "outlinewidth": 0,
             "ticks": ""
            },
            "colorscale": [
             [
              0,
              "#0d0887"
             ],
             [
              0.1111111111111111,
              "#46039f"
             ],
             [
              0.2222222222222222,
              "#7201a8"
             ],
             [
              0.3333333333333333,
              "#9c179e"
             ],
             [
              0.4444444444444444,
              "#bd3786"
             ],
             [
              0.5555555555555556,
              "#d8576b"
             ],
             [
              0.6666666666666666,
              "#ed7953"
             ],
             [
              0.7777777777777778,
              "#fb9f3a"
             ],
             [
              0.8888888888888888,
              "#fdca26"
             ],
             [
              1,
              "#f0f921"
             ]
            ],
            "type": "heatmap"
           }
          ],
          "histogram": [
           {
            "marker": {
             "pattern": {
              "fillmode": "overlay",
              "size": 10,
              "solidity": 0.2
             }
            },
            "type": "histogram"
           }
          ],
          "histogram2d": [
           {
            "colorbar": {
             "outlinewidth": 0,
             "ticks": ""
            },
            "colorscale": [
             [
              0,
              "#0d0887"
             ],
             [
              0.1111111111111111,
              "#46039f"
             ],
             [
              0.2222222222222222,
              "#7201a8"
             ],
             [
              0.3333333333333333,
              "#9c179e"
             ],
             [
              0.4444444444444444,
              "#bd3786"
             ],
             [
              0.5555555555555556,
              "#d8576b"
             ],
             [
              0.6666666666666666,
              "#ed7953"
             ],
             [
              0.7777777777777778,
              "#fb9f3a"
             ],
             [
              0.8888888888888888,
              "#fdca26"
             ],
             [
              1,
              "#f0f921"
             ]
            ],
            "type": "histogram2d"
           }
          ],
          "histogram2dcontour": [
           {
            "colorbar": {
             "outlinewidth": 0,
             "ticks": ""
            },
            "colorscale": [
             [
              0,
              "#0d0887"
             ],
             [
              0.1111111111111111,
              "#46039f"
             ],
             [
              0.2222222222222222,
              "#7201a8"
             ],
             [
              0.3333333333333333,
              "#9c179e"
             ],
             [
              0.4444444444444444,
              "#bd3786"
             ],
             [
              0.5555555555555556,
              "#d8576b"
             ],
             [
              0.6666666666666666,
              "#ed7953"
             ],
             [
              0.7777777777777778,
              "#fb9f3a"
             ],
             [
              0.8888888888888888,
              "#fdca26"
             ],
             [
              1,
              "#f0f921"
             ]
            ],
            "type": "histogram2dcontour"
           }
          ],
          "mesh3d": [
           {
            "colorbar": {
             "outlinewidth": 0,
             "ticks": ""
            },
            "type": "mesh3d"
           }
          ],
          "parcoords": [
           {
            "line": {
             "colorbar": {
              "outlinewidth": 0,
              "ticks": ""
             }
            },
            "type": "parcoords"
           }
          ],
          "pie": [
           {
            "automargin": true,
            "type": "pie"
           }
          ],
          "scatter": [
           {
            "fillpattern": {
             "fillmode": "overlay",
             "size": 10,
             "solidity": 0.2
            },
            "type": "scatter"
           }
          ],
          "scatter3d": [
           {
            "line": {
             "colorbar": {
              "outlinewidth": 0,
              "ticks": ""
             }
            },
            "marker": {
             "colorbar": {
              "outlinewidth": 0,
              "ticks": ""
             }
            },
            "type": "scatter3d"
           }
          ],
          "scattercarpet": [
           {
            "marker": {
             "colorbar": {
              "outlinewidth": 0,
              "ticks": ""
             }
            },
            "type": "scattercarpet"
           }
          ],
          "scattergeo": [
           {
            "marker": {
             "colorbar": {
              "outlinewidth": 0,
              "ticks": ""
             }
            },
            "type": "scattergeo"
           }
          ],
          "scattergl": [
           {
            "marker": {
             "colorbar": {
              "outlinewidth": 0,
              "ticks": ""
             }
            },
            "type": "scattergl"
           }
          ],
          "scattermap": [
           {
            "marker": {
             "colorbar": {
              "outlinewidth": 0,
              "ticks": ""
             }
            },
            "type": "scattermap"
           }
          ],
          "scattermapbox": [
           {
            "marker": {
             "colorbar": {
              "outlinewidth": 0,
              "ticks": ""
             }
            },
            "type": "scattermapbox"
           }
          ],
          "scatterpolar": [
           {
            "marker": {
             "colorbar": {
              "outlinewidth": 0,
              "ticks": ""
             }
            },
            "type": "scatterpolar"
           }
          ],
          "scatterpolargl": [
           {
            "marker": {
             "colorbar": {
              "outlinewidth": 0,
              "ticks": ""
             }
            },
            "type": "scatterpolargl"
           }
          ],
          "scatterternary": [
           {
            "marker": {
             "colorbar": {
              "outlinewidth": 0,
              "ticks": ""
             }
            },
            "type": "scatterternary"
           }
          ],
          "surface": [
           {
            "colorbar": {
             "outlinewidth": 0,
             "ticks": ""
            },
            "colorscale": [
             [
              0,
              "#0d0887"
             ],
             [
              0.1111111111111111,
              "#46039f"
             ],
             [
              0.2222222222222222,
              "#7201a8"
             ],
             [
              0.3333333333333333,
              "#9c179e"
             ],
             [
              0.4444444444444444,
              "#bd3786"
             ],
             [
              0.5555555555555556,
              "#d8576b"
             ],
             [
              0.6666666666666666,
              "#ed7953"
             ],
             [
              0.7777777777777778,
              "#fb9f3a"
             ],
             [
              0.8888888888888888,
              "#fdca26"
             ],
             [
              1,
              "#f0f921"
             ]
            ],
            "type": "surface"
           }
          ],
          "table": [
           {
            "cells": {
             "fill": {
              "color": "#EBF0F8"
             },
             "line": {
              "color": "white"
             }
            },
            "header": {
             "fill": {
              "color": "#C8D4E3"
             },
             "line": {
              "color": "white"
             }
            },
            "type": "table"
           }
          ]
         },
         "layout": {
          "annotationdefaults": {
           "arrowcolor": "#2a3f5f",
           "arrowhead": 0,
           "arrowwidth": 1
          },
          "autotypenumbers": "strict",
          "coloraxis": {
           "colorbar": {
            "outlinewidth": 0,
            "ticks": ""
           }
          },
          "colorscale": {
           "diverging": [
            [
             0,
             "#8e0152"
            ],
            [
             0.1,
             "#c51b7d"
            ],
            [
             0.2,
             "#de77ae"
            ],
            [
             0.3,
             "#f1b6da"
            ],
            [
             0.4,
             "#fde0ef"
            ],
            [
             0.5,
             "#f7f7f7"
            ],
            [
             0.6,
             "#e6f5d0"
            ],
            [
             0.7,
             "#b8e186"
            ],
            [
             0.8,
             "#7fbc41"
            ],
            [
             0.9,
             "#4d9221"
            ],
            [
             1,
             "#276419"
            ]
           ],
           "sequential": [
            [
             0,
             "#0d0887"
            ],
            [
             0.1111111111111111,
             "#46039f"
            ],
            [
             0.2222222222222222,
             "#7201a8"
            ],
            [
             0.3333333333333333,
             "#9c179e"
            ],
            [
             0.4444444444444444,
             "#bd3786"
            ],
            [
             0.5555555555555556,
             "#d8576b"
            ],
            [
             0.6666666666666666,
             "#ed7953"
            ],
            [
             0.7777777777777778,
             "#fb9f3a"
            ],
            [
             0.8888888888888888,
             "#fdca26"
            ],
            [
             1,
             "#f0f921"
            ]
           ],
           "sequentialminus": [
            [
             0,
             "#0d0887"
            ],
            [
             0.1111111111111111,
             "#46039f"
            ],
            [
             0.2222222222222222,
             "#7201a8"
            ],
            [
             0.3333333333333333,
             "#9c179e"
            ],
            [
             0.4444444444444444,
             "#bd3786"
            ],
            [
             0.5555555555555556,
             "#d8576b"
            ],
            [
             0.6666666666666666,
             "#ed7953"
            ],
            [
             0.7777777777777778,
             "#fb9f3a"
            ],
            [
             0.8888888888888888,
             "#fdca26"
            ],
            [
             1,
             "#f0f921"
            ]
           ]
          },
          "colorway": [
           "#636efa",
           "#EF553B",
           "#00cc96",
           "#ab63fa",
           "#FFA15A",
           "#19d3f3",
           "#FF6692",
           "#B6E880",
           "#FF97FF",
           "#FECB52"
          ],
          "font": {
           "color": "#2a3f5f"
          },
          "geo": {
           "bgcolor": "white",
           "lakecolor": "white",
           "landcolor": "#E5ECF6",
           "showlakes": true,
           "showland": true,
           "subunitcolor": "white"
          },
          "hoverlabel": {
           "align": "left"
          },
          "hovermode": "closest",
          "mapbox": {
           "style": "light"
          },
          "paper_bgcolor": "white",
          "plot_bgcolor": "#E5ECF6",
          "polar": {
           "angularaxis": {
            "gridcolor": "white",
            "linecolor": "white",
            "ticks": ""
           },
           "bgcolor": "#E5ECF6",
           "radialaxis": {
            "gridcolor": "white",
            "linecolor": "white",
            "ticks": ""
           }
          },
          "scene": {
           "xaxis": {
            "backgroundcolor": "#E5ECF6",
            "gridcolor": "white",
            "gridwidth": 2,
            "linecolor": "white",
            "showbackground": true,
            "ticks": "",
            "zerolinecolor": "white"
           },
           "yaxis": {
            "backgroundcolor": "#E5ECF6",
            "gridcolor": "white",
            "gridwidth": 2,
            "linecolor": "white",
            "showbackground": true,
            "ticks": "",
            "zerolinecolor": "white"
           },
           "zaxis": {
            "backgroundcolor": "#E5ECF6",
            "gridcolor": "white",
            "gridwidth": 2,
            "linecolor": "white",
            "showbackground": true,
            "ticks": "",
            "zerolinecolor": "white"
           }
          },
          "shapedefaults": {
           "line": {
            "color": "#2a3f5f"
           }
          },
          "ternary": {
           "aaxis": {
            "gridcolor": "white",
            "linecolor": "white",
            "ticks": ""
           },
           "baxis": {
            "gridcolor": "white",
            "linecolor": "white",
            "ticks": ""
           },
           "bgcolor": "#E5ECF6",
           "caxis": {
            "gridcolor": "white",
            "linecolor": "white",
            "ticks": ""
           }
          },
          "title": {
           "x": 0.05
          },
          "xaxis": {
           "automargin": true,
           "gridcolor": "white",
           "linecolor": "white",
           "ticks": "",
           "title": {
            "standoff": 15
           },
           "zerolinecolor": "white",
           "zerolinewidth": 2
          },
          "yaxis": {
           "automargin": true,
           "gridcolor": "white",
           "linecolor": "white",
           "ticks": "",
           "title": {
            "standoff": 15
           },
           "zerolinecolor": "white",
           "zerolinewidth": 2
          }
         }
        },
        "title": {
         "text": "epoch metrics"
        },
        "xaxis": {
         "anchor": "y",
         "domain": [
          0,
          0.98
         ],
         "title": {
          "text": "epoch"
         }
        },
        "xaxis2": {
         "anchor": "y2",
         "domain": [
          0,
          0.98
         ],
         "matches": "x",
         "showticklabels": false
        },
        "xaxis3": {
         "anchor": "y3",
         "domain": [
          0,
          0.98
         ],
         "matches": "x",
         "showticklabels": false
        },
        "xaxis4": {
         "anchor": "y4",
         "domain": [
          0,
          0.98
         ],
         "matches": "x",
         "showticklabels": false
        },
        "xaxis5": {
         "anchor": "y5",
         "domain": [
          0,
          0.98
         ],
         "matches": "x",
         "showticklabels": false
        },
        "yaxis": {
         "anchor": "x",
         "domain": [
          0,
          0.17600000000000002
         ],
         "title": {
          "text": "value"
         }
        },
        "yaxis2": {
         "anchor": "x2",
         "domain": [
          0.20600000000000002,
          0.382
         ],
         "title": {
          "text": "value"
         }
        },
        "yaxis3": {
         "anchor": "x3",
         "domain": [
          0.41200000000000003,
          0.5880000000000001
         ],
         "title": {
          "text": "value"
         }
        },
        "yaxis4": {
         "anchor": "x4",
         "domain": [
          0.618,
          0.794
         ],
         "title": {
          "text": "value"
         }
        },
        "yaxis5": {
         "anchor": "x5",
         "domain": [
          0.8240000000000001,
          1
         ],
         "title": {
          "text": "value"
         }
        }
       }
      }
     },
     "metadata": {},
     "output_type": "display_data"
    },
    {
     "name": "stdout",
     "output_type": "stream",
     "text": [
      "=========================\n",
      "training: 5\n"
     ]
    },
    {
     "data": {
      "application/vnd.jupyter.widget-view+json": {
       "model_id": "2a8094bd83814646b2b4916990f6110f",
       "version_major": 2,
       "version_minor": 0
      },
      "text/plain": [
       "Output()"
      ]
     },
     "metadata": {},
     "output_type": "display_data"
    },
    {
     "data": {
      "text/html": [
       "<pre style=\"white-space:pre;overflow-x:auto;line-height:normal;font-family:Menlo,'DejaVu Sans Mono',consolas,'Courier New',monospace\"></pre>\n"
      ],
      "text/plain": []
     },
     "metadata": {},
     "output_type": "display_data"
    },
    {
     "data": {
      "application/vnd.plotly.v1+json": {
       "config": {
        "plotlyServerURL": "https://plot.ly"
       },
       "data": [
        {
         "hovertemplate": "variable=train_epoch_loss<br>epoch=%{x}<br>value=%{y}<extra></extra>",
         "legendgroup": "train_epoch_loss",
         "line": {
          "color": "#636efa",
          "dash": "solid"
         },
         "marker": {
          "symbol": "circle"
         },
         "mode": "lines",
         "name": "train_epoch_loss",
         "orientation": "v",
         "showlegend": true,
         "type": "scatter",
         "x": {
          "bdata": "AAECAwQFBgcICQoLDA0ODxAREhMUFRYXGBkaGxwdHh8gISIjJCUmJygpKissLS4vMDEyMzQ1Njc4OTo7",
          "dtype": "i1"
         },
         "xaxis": "x5",
         "y": {
          "bdata": "MzMzAyJ1BkAzMzMbpfMFQGZmZq7OcAVAAAAAmG5YBUAAAACwazMFQDMzM3PHDQVAAAAAAPgRBUAzMzNz/BAFQJqZmRE5zwRAAAAAKF/FBECamZnpJLUEQJqZmVH1qgRAAAAAuNaYBEAzMzOzBKQEQGZmZi5UlQRAmpmZMSd8BEDNzMy8L1gEQM3MzCzpSgRAZmZmdldBBECamZn5BTkEQM3MzGz7PQRAzczM1I0xBEAzMzMLGC4EQAAAAEhKDgRAzczMZE8HBEDNzMz87C8EQGZmZjbT/gNAmpmZ0bIZBEDNzMycnQoEQM3MzATeAgRAMzMzQ8X6A0BmZmZe1+MDQGZmZsa1/QNAMzMzewbwA0AzMzMT4OsDQAAAADiqtQNAmpmZ6aSuA0BmZmb+4aIDQJqZmXEwjANAMzMzs45uA0CamZlZyoUDQDMzM+tuVANAmpmZoXNPA0AzMzMzSQUDQDMzM7Of7QJAzczMHLvhAkCamZlhUQkDQAAAADjC9AJAAAAAiGLmAkBmZmYO29ICQAAAAHAzwgJAZmZmvrrsAkBmZma+R5gCQAAAALBBfQJAAAAAAOJ0AkAzMzO77C8CQJqZmeEfIgJAMzMzq1AAAkAzMzPj3CYCQAAAAEBgCAJA",
          "dtype": "f8"
         },
         "yaxis": "y5"
        },
        {
         "hovertemplate": "variable=train_epoch_accuracy<br>epoch=%{x}<br>value=%{y}<extra></extra>",
         "legendgroup": "train_epoch_accuracy",
         "line": {
          "color": "#EF553B",
          "dash": "solid"
         },
         "marker": {
          "symbol": "circle"
         },
         "mode": "lines",
         "name": "train_epoch_accuracy",
         "orientation": "v",
         "showlegend": true,
         "type": "scatter",
         "x": {
          "bdata": "AAECAwQFBgcICQoLDA0ODxAREhMUFRYXGBkaGxwdHh8gISIjJCUmJygpKissLS4vMDEyMzQ1Njc4OTo7",
          "dtype": "i1"
         },
         "xaxis": "x4",
         "y": {
          "bdata": "vLu7u7t7xT9mZmZmZobNP6qqqqqqStM/3t3d3d3d0z/NzMzMzBzVP6qqqqqqWtY/AAAAAABA1j+amZmZmUnWP3d3d3d3R9g/d3d3d3en2D8RERERESHZP0REREREVNk/AAAAAADg2T+rqqqqqprZP3h3d3d399k/u7u7u7vr2j/NzMzMzAzcP83MzMzMfNw/AAAAAADA3D8zMzMzM+PcP6uqqqqqutw/q6qqqqo63T/u7u7u7m7dP+7u7u7uTt4/mpmZmZmJ3j+amZmZmTndP2ZmZmZmxt4/zczMzMz83T+IiIiIiHjePxIRERERod4/3t3d3d3t3j8AAAAAALDfP6uqqqqqyt4/AAAAAAAw3z9VVVVVVWXfPzMzMzMzg+A/RERERESs4D/e3d3d3dXgPxERERERMeE/7+7u7u6e4T8REREREVHhPyIiIiIiGuI/7+7u7u4m4j/v7u7u7l7jP5qZmZmZseM/d3d3d3f34z8zMzMzM1PjP5qZmZmZmeM/qqqqqqrS4z8RERERESHkPxERERERWeQ/3t3d3d214z/NzMzMzATlP7y7u7u7g+U/d3d3d3eP5T8iIiIiIrLmPxERERER4eY/7+7u7u5u5z8REREREdHmP3d3d3d3P+c/",
          "dtype": "f8"
         },
         "yaxis": "y4"
        },
        {
         "hovertemplate": "variable=validation_loss<br>epoch=%{x}<br>value=%{y}<extra></extra>",
         "legendgroup": "validation_loss",
         "line": {
          "color": "#00cc96",
          "dash": "solid"
         },
         "marker": {
          "symbol": "circle"
         },
         "mode": "lines",
         "name": "validation_loss",
         "orientation": "v",
         "showlegend": true,
         "type": "scatter",
         "x": {
          "bdata": "AAECAwQFBgcICQoLDA0ODxAREhMUFRYXGBkaGxwdHh8gISIjJCUmJygpKissLS4vMDEyMzQ1Njc4OTo7",
          "dtype": "i1"
         },
         "xaxis": "x3",
         "y": {
          "bdata": "O7ET2wRpBkB2Yid2UBkGQCd2YqfR7QVAntiJPRu6BUCKndjpQsQFQOzETixPygVAip3Yaa6sBUB2Yif2tMQFQE/sxA7rrgVAFDuxU2WbBUAUO7GTV4MFQHZiJ3YyigVAntiJnR5uBUA7sRMbOHsFQLETO3GIhQVAO7ETmyaPBUCe2Il9R3IFQAAAAMBSkAVAO7ETu8dyBUDZiZ2YE3sFQBQ7sRMzhwVAdmIntiyBBUCe2ImdiHoFQOzETkwVfAVAdmInVphzBUBP7MTO8HAFQLETO1HHcAVAYid2AtNtBUCe2ImdJm8FQDuxE7vGZgVA2YmdGIJ9BUAndmJnX3cFQIqd2GmIfAVAT+zErlp3BUAAAAAATVsFQIqd2Ck8VwVAxU7sJFFPBUB2YieWp10FQIqd2CklUgVAxU7sZJFGBUDZiZ2YUWEFQJ7YiV13UgVA2YmdGA4uBUB2YieWhhwFQGIndoJHDwVAFDux81UeBUBiJ3ZipBYFQLETO7GIHwVAO7ETGzj/BEBP7MRuKgkFQCd2YsdzEwVAT+zEDvILBUDFTuzkt+EEQLETO3FVrgRAntiJvYedBECxEzuRfq4EQGIndiKmfwRAAAAAgAKKBECxEzsRfX0EQDuxE7vbhgRA",
          "dtype": "f8"
         },
         "yaxis": "y3"
        },
        {
         "hovertemplate": "variable=validation_accuracy<br>epoch=%{x}<br>value=%{y}<extra></extra>",
         "legendgroup": "validation_accuracy",
         "line": {
          "color": "#ab63fa",
          "dash": "solid"
         },
         "marker": {
          "symbol": "circle"
         },
         "mode": "lines",
         "name": "validation_accuracy",
         "orientation": "v",
         "showlegend": true,
         "type": "scatter",
         "x": {
          "bdata": "AAECAwQFBgcICQoLDA0ODxAREhMUFRYXGBkaGxwdHh8gISIjJCUmJygpKissLS4vMDEyMzQ1Njc4OTo7",
          "dtype": "i1"
         },
         "xaxis": "x2",
         "y": {
          "bdata": "tTi+iRimxT/BAdVatVvLP5q9a+k4SM4/4YBqrdrt0D9X45EjPVXQP37A9282UNA/PNmnzEU50T9c59TVgonQPyIBtytILNE/rAWT2mjd0T9x7Xt6NHHSPxX8QYBMftI/VxWL2TYk0z9KEBYuO7bSPyk385OHb9I/KdDvbgRX0j8V/EGATP7SP5+ZGgrqFtI/I5qzBsUT0z8IkMmvzbfSP853sk+Zi9I/KdDvbgSX0j831WQaAMXSP+9Q1elM0tI/1d/nbdLd0j/cFSTWESHTP5LGnhTo99I//e5GcMUn0z83bmH1fCzTP65phUZce9M/X+TDHPOO0j+NKV+HJdzSPzE4JY09qdI/8OnRxMm50j8+PZo4OdfTP1/kwxzzDtQ/lPiXyuEG1D9LqRIJuJ3TP9YR4SPM7NM/m8fQDZ5x1D/UFPLcW6fTP7Sfwa6b/tM/eiCnKeQ51T/e4BlniJfVP0ChjKQsNdY/JWWplzvK1T+b+cnDlwDWP8QIKcaKytU/DL+xrDfM1j+vNHvX0nHWP9YR4SPM7NU/EVzxOfpn1j8Gu2768ZfXP2cX78uiF9k/vgTmE0WW2T/kr1KqRALZP2KsqPTZyto/xdMeVwFB2j+Kuwf3zNTaP0HThVomhNo/",
          "dtype": "f8"
         },
         "yaxis": "y2"
        },
        {
         "hovertemplate": "variable=competition_score<br>epoch=%{x}<br>value=%{y}<extra></extra>",
         "legendgroup": "competition_score",
         "line": {
          "color": "#FFA15A",
          "dash": "solid"
         },
         "marker": {
          "symbol": "circle"
         },
         "mode": "lines",
         "name": "competition_score",
         "orientation": "v",
         "showlegend": true,
         "type": "scatter",
         "x": {
          "bdata": "AAECAwQFBgcICQoLDA0ODxAREhMUFRYXGBkaGxwdHh8gISIjJCUmJygpKissLS4vMDEyMzQ1Njc4OTo7",
          "dtype": "i1"
         },
         "xaxis": "x",
         "y": {
          "bdata": "8utd5U8e0T9TZq+fGmrcP61Va679S94/zhhRrdAS3T8e0fyRIvDdP8I6ebgMet4/R5SCaReV3D8xNou3kkrdP/5muGG4gd4/6XfjaFIf3j/kMtU0rDDeP5usYqEPLd8/NGAqaa6B3z8XI/cKx+zeP9gYFuwbY94/SxySNeHc3j971FOco4DfPwuM3Y7EoN4/0DFpJMBL3z8Eg40hy/HeP/ZAseXhyd8/NDgSg+rg3j86xs8TqXzePyAa9ZjcSN8/k5m9cmcj4D/kUmF+BNjfP1oQT5ZgYd8/NegDvUz83z+lavqtX/XfP/auE1uA498/nkLV6Mdn3z+AcpE7OADfP9PFm8eIqd4/XvbMtFPJ3z/Gqa5PGETgPyFIYkktXuA/LqQ3wFLY4D8hXIy6ZxPgP+c9O9FhkeA/udV/RJDv3z9XhVw128nfP7AgdVxMzeA/qJQm0XNW4D+OYmsLhDnhP8ZB5o//ZOE/mDt9UXsH4T+yTvVdvQbhP8sdLp/L/eA/eA8UEjcg4T+e45Kp2wjhP7JJDHeW6uA/9BtOmaAq4T+4D5zTkVLhP4zmqxvJ1+E/TJ8A72si4j+CmIPH+CfiP8RytvNVkeI/NoZErAFC4j/uwctZ6uniP/do+5hWhOI/",
          "dtype": "f8"
         },
         "yaxis": "y"
        }
       ],
       "layout": {
        "annotations": [
         {
          "font": {},
          "showarrow": false,
          "text": "variable=competition_score",
          "textangle": 90,
          "x": 0.98,
          "xanchor": "left",
          "xref": "paper",
          "y": 0.08800000000000001,
          "yanchor": "middle",
          "yref": "paper"
         },
         {
          "font": {},
          "showarrow": false,
          "text": "variable=validation_accuracy",
          "textangle": 90,
          "x": 0.98,
          "xanchor": "left",
          "xref": "paper",
          "y": 0.29400000000000004,
          "yanchor": "middle",
          "yref": "paper"
         },
         {
          "font": {},
          "showarrow": false,
          "text": "variable=validation_loss",
          "textangle": 90,
          "x": 0.98,
          "xanchor": "left",
          "xref": "paper",
          "y": 0.5,
          "yanchor": "middle",
          "yref": "paper"
         },
         {
          "font": {},
          "showarrow": false,
          "text": "variable=train_epoch_accuracy",
          "textangle": 90,
          "x": 0.98,
          "xanchor": "left",
          "xref": "paper",
          "y": 0.706,
          "yanchor": "middle",
          "yref": "paper"
         },
         {
          "font": {},
          "showarrow": false,
          "text": "variable=train_epoch_loss",
          "textangle": 90,
          "x": 0.98,
          "xanchor": "left",
          "xref": "paper",
          "y": 0.912,
          "yanchor": "middle",
          "yref": "paper"
         }
        ],
        "legend": {
         "title": {
          "text": "variable"
         },
         "tracegroupgap": 0
        },
        "template": {
         "data": {
          "bar": [
           {
            "error_x": {
             "color": "#2a3f5f"
            },
            "error_y": {
             "color": "#2a3f5f"
            },
            "marker": {
             "line": {
              "color": "#E5ECF6",
              "width": 0.5
             },
             "pattern": {
              "fillmode": "overlay",
              "size": 10,
              "solidity": 0.2
             }
            },
            "type": "bar"
           }
          ],
          "barpolar": [
           {
            "marker": {
             "line": {
              "color": "#E5ECF6",
              "width": 0.5
             },
             "pattern": {
              "fillmode": "overlay",
              "size": 10,
              "solidity": 0.2
             }
            },
            "type": "barpolar"
           }
          ],
          "carpet": [
           {
            "aaxis": {
             "endlinecolor": "#2a3f5f",
             "gridcolor": "white",
             "linecolor": "white",
             "minorgridcolor": "white",
             "startlinecolor": "#2a3f5f"
            },
            "baxis": {
             "endlinecolor": "#2a3f5f",
             "gridcolor": "white",
             "linecolor": "white",
             "minorgridcolor": "white",
             "startlinecolor": "#2a3f5f"
            },
            "type": "carpet"
           }
          ],
          "choropleth": [
           {
            "colorbar": {
             "outlinewidth": 0,
             "ticks": ""
            },
            "type": "choropleth"
           }
          ],
          "contour": [
           {
            "colorbar": {
             "outlinewidth": 0,
             "ticks": ""
            },
            "colorscale": [
             [
              0,
              "#0d0887"
             ],
             [
              0.1111111111111111,
              "#46039f"
             ],
             [
              0.2222222222222222,
              "#7201a8"
             ],
             [
              0.3333333333333333,
              "#9c179e"
             ],
             [
              0.4444444444444444,
              "#bd3786"
             ],
             [
              0.5555555555555556,
              "#d8576b"
             ],
             [
              0.6666666666666666,
              "#ed7953"
             ],
             [
              0.7777777777777778,
              "#fb9f3a"
             ],
             [
              0.8888888888888888,
              "#fdca26"
             ],
             [
              1,
              "#f0f921"
             ]
            ],
            "type": "contour"
           }
          ],
          "contourcarpet": [
           {
            "colorbar": {
             "outlinewidth": 0,
             "ticks": ""
            },
            "type": "contourcarpet"
           }
          ],
          "heatmap": [
           {
            "colorbar": {
             "outlinewidth": 0,
             "ticks": ""
            },
            "colorscale": [
             [
              0,
              "#0d0887"
             ],
             [
              0.1111111111111111,
              "#46039f"
             ],
             [
              0.2222222222222222,
              "#7201a8"
             ],
             [
              0.3333333333333333,
              "#9c179e"
             ],
             [
              0.4444444444444444,
              "#bd3786"
             ],
             [
              0.5555555555555556,
              "#d8576b"
             ],
             [
              0.6666666666666666,
              "#ed7953"
             ],
             [
              0.7777777777777778,
              "#fb9f3a"
             ],
             [
              0.8888888888888888,
              "#fdca26"
             ],
             [
              1,
              "#f0f921"
             ]
            ],
            "type": "heatmap"
           }
          ],
          "histogram": [
           {
            "marker": {
             "pattern": {
              "fillmode": "overlay",
              "size": 10,
              "solidity": 0.2
             }
            },
            "type": "histogram"
           }
          ],
          "histogram2d": [
           {
            "colorbar": {
             "outlinewidth": 0,
             "ticks": ""
            },
            "colorscale": [
             [
              0,
              "#0d0887"
             ],
             [
              0.1111111111111111,
              "#46039f"
             ],
             [
              0.2222222222222222,
              "#7201a8"
             ],
             [
              0.3333333333333333,
              "#9c179e"
             ],
             [
              0.4444444444444444,
              "#bd3786"
             ],
             [
              0.5555555555555556,
              "#d8576b"
             ],
             [
              0.6666666666666666,
              "#ed7953"
             ],
             [
              0.7777777777777778,
              "#fb9f3a"
             ],
             [
              0.8888888888888888,
              "#fdca26"
             ],
             [
              1,
              "#f0f921"
             ]
            ],
            "type": "histogram2d"
           }
          ],
          "histogram2dcontour": [
           {
            "colorbar": {
             "outlinewidth": 0,
             "ticks": ""
            },
            "colorscale": [
             [
              0,
              "#0d0887"
             ],
             [
              0.1111111111111111,
              "#46039f"
             ],
             [
              0.2222222222222222,
              "#7201a8"
             ],
             [
              0.3333333333333333,
              "#9c179e"
             ],
             [
              0.4444444444444444,
              "#bd3786"
             ],
             [
              0.5555555555555556,
              "#d8576b"
             ],
             [
              0.6666666666666666,
              "#ed7953"
             ],
             [
              0.7777777777777778,
              "#fb9f3a"
             ],
             [
              0.8888888888888888,
              "#fdca26"
             ],
             [
              1,
              "#f0f921"
             ]
            ],
            "type": "histogram2dcontour"
           }
          ],
          "mesh3d": [
           {
            "colorbar": {
             "outlinewidth": 0,
             "ticks": ""
            },
            "type": "mesh3d"
           }
          ],
          "parcoords": [
           {
            "line": {
             "colorbar": {
              "outlinewidth": 0,
              "ticks": ""
             }
            },
            "type": "parcoords"
           }
          ],
          "pie": [
           {
            "automargin": true,
            "type": "pie"
           }
          ],
          "scatter": [
           {
            "fillpattern": {
             "fillmode": "overlay",
             "size": 10,
             "solidity": 0.2
            },
            "type": "scatter"
           }
          ],
          "scatter3d": [
           {
            "line": {
             "colorbar": {
              "outlinewidth": 0,
              "ticks": ""
             }
            },
            "marker": {
             "colorbar": {
              "outlinewidth": 0,
              "ticks": ""
             }
            },
            "type": "scatter3d"
           }
          ],
          "scattercarpet": [
           {
            "marker": {
             "colorbar": {
              "outlinewidth": 0,
              "ticks": ""
             }
            },
            "type": "scattercarpet"
           }
          ],
          "scattergeo": [
           {
            "marker": {
             "colorbar": {
              "outlinewidth": 0,
              "ticks": ""
             }
            },
            "type": "scattergeo"
           }
          ],
          "scattergl": [
           {
            "marker": {
             "colorbar": {
              "outlinewidth": 0,
              "ticks": ""
             }
            },
            "type": "scattergl"
           }
          ],
          "scattermap": [
           {
            "marker": {
             "colorbar": {
              "outlinewidth": 0,
              "ticks": ""
             }
            },
            "type": "scattermap"
           }
          ],
          "scattermapbox": [
           {
            "marker": {
             "colorbar": {
              "outlinewidth": 0,
              "ticks": ""
             }
            },
            "type": "scattermapbox"
           }
          ],
          "scatterpolar": [
           {
            "marker": {
             "colorbar": {
              "outlinewidth": 0,
              "ticks": ""
             }
            },
            "type": "scatterpolar"
           }
          ],
          "scatterpolargl": [
           {
            "marker": {
             "colorbar": {
              "outlinewidth": 0,
              "ticks": ""
             }
            },
            "type": "scatterpolargl"
           }
          ],
          "scatterternary": [
           {
            "marker": {
             "colorbar": {
              "outlinewidth": 0,
              "ticks": ""
             }
            },
            "type": "scatterternary"
           }
          ],
          "surface": [
           {
            "colorbar": {
             "outlinewidth": 0,
             "ticks": ""
            },
            "colorscale": [
             [
              0,
              "#0d0887"
             ],
             [
              0.1111111111111111,
              "#46039f"
             ],
             [
              0.2222222222222222,
              "#7201a8"
             ],
             [
              0.3333333333333333,
              "#9c179e"
             ],
             [
              0.4444444444444444,
              "#bd3786"
             ],
             [
              0.5555555555555556,
              "#d8576b"
             ],
             [
              0.6666666666666666,
              "#ed7953"
             ],
             [
              0.7777777777777778,
              "#fb9f3a"
             ],
             [
              0.8888888888888888,
              "#fdca26"
             ],
             [
              1,
              "#f0f921"
             ]
            ],
            "type": "surface"
           }
          ],
          "table": [
           {
            "cells": {
             "fill": {
              "color": "#EBF0F8"
             },
             "line": {
              "color": "white"
             }
            },
            "header": {
             "fill": {
              "color": "#C8D4E3"
             },
             "line": {
              "color": "white"
             }
            },
            "type": "table"
           }
          ]
         },
         "layout": {
          "annotationdefaults": {
           "arrowcolor": "#2a3f5f",
           "arrowhead": 0,
           "arrowwidth": 1
          },
          "autotypenumbers": "strict",
          "coloraxis": {
           "colorbar": {
            "outlinewidth": 0,
            "ticks": ""
           }
          },
          "colorscale": {
           "diverging": [
            [
             0,
             "#8e0152"
            ],
            [
             0.1,
             "#c51b7d"
            ],
            [
             0.2,
             "#de77ae"
            ],
            [
             0.3,
             "#f1b6da"
            ],
            [
             0.4,
             "#fde0ef"
            ],
            [
             0.5,
             "#f7f7f7"
            ],
            [
             0.6,
             "#e6f5d0"
            ],
            [
             0.7,
             "#b8e186"
            ],
            [
             0.8,
             "#7fbc41"
            ],
            [
             0.9,
             "#4d9221"
            ],
            [
             1,
             "#276419"
            ]
           ],
           "sequential": [
            [
             0,
             "#0d0887"
            ],
            [
             0.1111111111111111,
             "#46039f"
            ],
            [
             0.2222222222222222,
             "#7201a8"
            ],
            [
             0.3333333333333333,
             "#9c179e"
            ],
            [
             0.4444444444444444,
             "#bd3786"
            ],
            [
             0.5555555555555556,
             "#d8576b"
            ],
            [
             0.6666666666666666,
             "#ed7953"
            ],
            [
             0.7777777777777778,
             "#fb9f3a"
            ],
            [
             0.8888888888888888,
             "#fdca26"
            ],
            [
             1,
             "#f0f921"
            ]
           ],
           "sequentialminus": [
            [
             0,
             "#0d0887"
            ],
            [
             0.1111111111111111,
             "#46039f"
            ],
            [
             0.2222222222222222,
             "#7201a8"
            ],
            [
             0.3333333333333333,
             "#9c179e"
            ],
            [
             0.4444444444444444,
             "#bd3786"
            ],
            [
             0.5555555555555556,
             "#d8576b"
            ],
            [
             0.6666666666666666,
             "#ed7953"
            ],
            [
             0.7777777777777778,
             "#fb9f3a"
            ],
            [
             0.8888888888888888,
             "#fdca26"
            ],
            [
             1,
             "#f0f921"
            ]
           ]
          },
          "colorway": [
           "#636efa",
           "#EF553B",
           "#00cc96",
           "#ab63fa",
           "#FFA15A",
           "#19d3f3",
           "#FF6692",
           "#B6E880",
           "#FF97FF",
           "#FECB52"
          ],
          "font": {
           "color": "#2a3f5f"
          },
          "geo": {
           "bgcolor": "white",
           "lakecolor": "white",
           "landcolor": "#E5ECF6",
           "showlakes": true,
           "showland": true,
           "subunitcolor": "white"
          },
          "hoverlabel": {
           "align": "left"
          },
          "hovermode": "closest",
          "mapbox": {
           "style": "light"
          },
          "paper_bgcolor": "white",
          "plot_bgcolor": "#E5ECF6",
          "polar": {
           "angularaxis": {
            "gridcolor": "white",
            "linecolor": "white",
            "ticks": ""
           },
           "bgcolor": "#E5ECF6",
           "radialaxis": {
            "gridcolor": "white",
            "linecolor": "white",
            "ticks": ""
           }
          },
          "scene": {
           "xaxis": {
            "backgroundcolor": "#E5ECF6",
            "gridcolor": "white",
            "gridwidth": 2,
            "linecolor": "white",
            "showbackground": true,
            "ticks": "",
            "zerolinecolor": "white"
           },
           "yaxis": {
            "backgroundcolor": "#E5ECF6",
            "gridcolor": "white",
            "gridwidth": 2,
            "linecolor": "white",
            "showbackground": true,
            "ticks": "",
            "zerolinecolor": "white"
           },
           "zaxis": {
            "backgroundcolor": "#E5ECF6",
            "gridcolor": "white",
            "gridwidth": 2,
            "linecolor": "white",
            "showbackground": true,
            "ticks": "",
            "zerolinecolor": "white"
           }
          },
          "shapedefaults": {
           "line": {
            "color": "#2a3f5f"
           }
          },
          "ternary": {
           "aaxis": {
            "gridcolor": "white",
            "linecolor": "white",
            "ticks": ""
           },
           "baxis": {
            "gridcolor": "white",
            "linecolor": "white",
            "ticks": ""
           },
           "bgcolor": "#E5ECF6",
           "caxis": {
            "gridcolor": "white",
            "linecolor": "white",
            "ticks": ""
           }
          },
          "title": {
           "x": 0.05
          },
          "xaxis": {
           "automargin": true,
           "gridcolor": "white",
           "linecolor": "white",
           "ticks": "",
           "title": {
            "standoff": 15
           },
           "zerolinecolor": "white",
           "zerolinewidth": 2
          },
          "yaxis": {
           "automargin": true,
           "gridcolor": "white",
           "linecolor": "white",
           "ticks": "",
           "title": {
            "standoff": 15
           },
           "zerolinecolor": "white",
           "zerolinewidth": 2
          }
         }
        },
        "title": {
         "text": "epoch metrics"
        },
        "xaxis": {
         "anchor": "y",
         "domain": [
          0,
          0.98
         ],
         "title": {
          "text": "epoch"
         }
        },
        "xaxis2": {
         "anchor": "y2",
         "domain": [
          0,
          0.98
         ],
         "matches": "x",
         "showticklabels": false
        },
        "xaxis3": {
         "anchor": "y3",
         "domain": [
          0,
          0.98
         ],
         "matches": "x",
         "showticklabels": false
        },
        "xaxis4": {
         "anchor": "y4",
         "domain": [
          0,
          0.98
         ],
         "matches": "x",
         "showticklabels": false
        },
        "xaxis5": {
         "anchor": "y5",
         "domain": [
          0,
          0.98
         ],
         "matches": "x",
         "showticklabels": false
        },
        "yaxis": {
         "anchor": "x",
         "domain": [
          0,
          0.17600000000000002
         ],
         "title": {
          "text": "value"
         }
        },
        "yaxis2": {
         "anchor": "x2",
         "domain": [
          0.20600000000000002,
          0.382
         ],
         "title": {
          "text": "value"
         }
        },
        "yaxis3": {
         "anchor": "x3",
         "domain": [
          0.41200000000000003,
          0.5880000000000001
         ],
         "title": {
          "text": "value"
         }
        },
        "yaxis4": {
         "anchor": "x4",
         "domain": [
          0.618,
          0.794
         ],
         "title": {
          "text": "value"
         }
        },
        "yaxis5": {
         "anchor": "x5",
         "domain": [
          0.8240000000000001,
          1
         ],
         "title": {
          "text": "value"
         }
        }
       }
      }
     },
     "metadata": {},
     "output_type": "display_data"
    },
    {
     "name": "stdout",
     "output_type": "stream",
     "text": [
      "=========================\n"
     ]
    }
   ],
   "source": [
    "NB_CROSS_VALIDATIONS = 5\n",
    "fold_patterns = join(dataset_path, \"preprocessed_dataset\", \"fold*\")\n",
    "fold_pths = glob(fold_patterns)[:NB_CROSS_VALIDATIONS]\n",
    "all_training_metrics = {}\n",
    "\n",
    "for fold_idx, fold_pth in enumerate(fold_pths):\n",
    "    print(\"training:\", fold_idx + 1)\n",
    "    train_dataset = CMIDataset(fold_pth, \"train\")\n",
    "    train_data_loader = DL(train_dataset, BATCH_SIZE, shuffle=True)\n",
    "    validation_dataset = CMIDataset(fold_pth, \"validation\")\n",
    "    validation_data_loader = DL(validation_dataset, BATCH_SIZE, shuffle=False)\n",
    "    _, training_metrics, _ = mk_model_and_fit(train_data_loader, validation_data_loader)\n",
    "    all_training_metrics[\"fold_\" + str(fold_idx)] = training_metrics\n",
    "    plt_validation_split_training_metrics(training_metrics)\n",
    "    print(\"=========================\")\n",
    "\n",
    "all_training_metrics = pd.concat(all_training_metrics)"
   ]
  },
  {
   "cell_type": "code",
   "execution_count": 13,
   "id": "0e54c23c",
   "metadata": {},
   "outputs": [
    {
     "data": {
      "text/html": [
       "<div>\n",
       "<style scoped>\n",
       "    .dataframe tbody tr th:only-of-type {\n",
       "        vertical-align: middle;\n",
       "    }\n",
       "\n",
       "    .dataframe tbody tr th {\n",
       "        vertical-align: top;\n",
       "    }\n",
       "\n",
       "    .dataframe thead th {\n",
       "        text-align: right;\n",
       "    }\n",
       "</style>\n",
       "<table border=\"1\" class=\"dataframe\">\n",
       "  <thead>\n",
       "    <tr style=\"text-align: right;\">\n",
       "      <th></th>\n",
       "      <th>train_epoch_loss</th>\n",
       "      <th>train_epoch_accuracy</th>\n",
       "      <th>validation_loss</th>\n",
       "      <th>validation_accuracy</th>\n",
       "    </tr>\n",
       "  </thead>\n",
       "  <tbody>\n",
       "    <tr>\n",
       "      <th>mean</th>\n",
       "      <td>2.449275</td>\n",
       "      <td>0.531326</td>\n",
       "      <td>2.594829</td>\n",
       "      <td>0.384698</td>\n",
       "    </tr>\n",
       "    <tr>\n",
       "      <th>std</th>\n",
       "      <td>0.141596</td>\n",
       "      <td>0.142584</td>\n",
       "      <td>0.074691</td>\n",
       "      <td>0.075496</td>\n",
       "    </tr>\n",
       "  </tbody>\n",
       "</table>\n",
       "</div>"
      ],
      "text/plain": [
       "      train_epoch_loss  train_epoch_accuracy  validation_loss  \\\n",
       "mean          2.449275              0.531326         2.594829   \n",
       "std           0.141596              0.142584         0.074691   \n",
       "\n",
       "      validation_accuracy  \n",
       "mean             0.384698  \n",
       "std              0.075496  "
      ]
     },
     "execution_count": 13,
     "metadata": {},
     "output_type": "execute_result"
    }
   ],
   "source": [
    "(\n",
    "    all_training_metrics\n",
    "    .loc[:, [\"train_epoch_loss\", \"train_epoch_accuracy\", \"validation_loss\", \"validation_accuracy\"]]\n",
    "    .agg([\"mean\", \"std\"])\n",
    ")"
   ]
  },
  {
   "cell_type": "markdown",
   "id": "aab08b93",
   "metadata": {},
   "source": [
    "## Full dataset training"
   ]
  },
  {
   "cell_type": "code",
   "execution_count": 14,
   "id": "e6a350f8",
   "metadata": {},
   "outputs": [
    {
     "data": {
      "application/vnd.jupyter.widget-view+json": {
       "model_id": "d51927656e244a3b804959b7bb430919",
       "version_major": 2,
       "version_minor": 0
      },
      "text/plain": [
       "Output()"
      ]
     },
     "metadata": {},
     "output_type": "display_data"
    },
    {
     "data": {
      "text/html": [
       "<pre style=\"white-space:pre;overflow-x:auto;line-height:normal;font-family:Menlo,'DejaVu Sans Mono',consolas,'Courier New',monospace\"></pre>\n"
      ],
      "text/plain": []
     },
     "metadata": {},
     "output_type": "display_data"
    },
    {
     "data": {
      "application/vnd.plotly.v1+json": {
       "config": {
        "plotlyServerURL": "https://plot.ly"
       },
       "data": [
        {
         "hovertemplate": "variable=batch_train_loss<br>step=%{x}<br>value=%{y}<extra></extra>",
         "legendgroup": "",
         "marker": {
          "color": "#636efa",
          "symbol": "circle"
         },
         "mode": "markers",
         "name": "",
         "showlegend": false,
         "type": "scattergl",
         "x": {
          "bdata": "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",
          "dtype": "i2"
         },
         "xaxis": "x2",
         "y": {
          "bdata": "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",
          "dtype": "f8"
         },
         "yaxis": "y2"
        },
        {
         "hovertemplate": "<b>Exponentially Weighted mean trendline</b><br><br>variable=batch_train_loss<br>step=%{x}<br>value=%{y} <b>(trend)</b><extra></extra>",
         "legendgroup": "",
         "line": {
          "color": "red"
         },
         "marker": {
          "color": "#636efa",
          "symbol": "circle"
         },
         "mode": "lines",
         "name": "",
         "showlegend": false,
         "type": "scattergl",
         "x": {
          "bdata": "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",
          "dtype": "i2"
         },
         "xaxis": "x2",
         "y": {
          "bdata": "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",
          "dtype": "f8"
         },
         "yaxis": "y2"
        },
        {
         "hovertemplate": "variable=batch_accuracy<br>step=%{x}<br>value=%{y}<extra></extra>",
         "legendgroup": "",
         "marker": {
          "color": "#636efa",
          "symbol": "circle"
         },
         "mode": "markers",
         "name": "",
         "showlegend": false,
         "type": "scattergl",
         "x": {
          "bdata": "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",
          "dtype": "i2"
         },
         "xaxis": "x",
         "y": {
          "bdata": "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",
          "dtype": "f8"
         },
         "yaxis": "y"
        },
        {
         "hovertemplate": "<b>Exponentially Weighted mean trendline</b><br><br>variable=batch_accuracy<br>step=%{x}<br>value=%{y} <b>(trend)</b><extra></extra>",
         "legendgroup": "",
         "line": {
          "color": "red"
         },
         "marker": {
          "color": "#636efa",
          "symbol": "circle"
         },
         "mode": "lines",
         "name": "",
         "showlegend": false,
         "type": "scattergl",
         "x": {
          "bdata": "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",
          "dtype": "i2"
         },
         "xaxis": "x",
         "y": {
          "bdata": "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",
          "dtype": "f8"
         },
         "yaxis": "y"
        }
       ],
       "layout": {
        "annotations": [
         {
          "font": {},
          "showarrow": false,
          "text": "variable=batch_accuracy",
          "textangle": 90,
          "x": 0.98,
          "xanchor": "left",
          "xref": "paper",
          "y": 0.2425,
          "yanchor": "middle",
          "yref": "paper"
         },
         {
          "font": {},
          "showarrow": false,
          "text": "variable=batch_train_loss",
          "textangle": 90,
          "x": 0.98,
          "xanchor": "left",
          "xref": "paper",
          "y": 0.7575000000000001,
          "yanchor": "middle",
          "yref": "paper"
         }
        ],
        "legend": {
         "tracegroupgap": 0
        },
        "template": {
         "data": {
          "bar": [
           {
            "error_x": {
             "color": "#2a3f5f"
            },
            "error_y": {
             "color": "#2a3f5f"
            },
            "marker": {
             "line": {
              "color": "#E5ECF6",
              "width": 0.5
             },
             "pattern": {
              "fillmode": "overlay",
              "size": 10,
              "solidity": 0.2
             }
            },
            "type": "bar"
           }
          ],
          "barpolar": [
           {
            "marker": {
             "line": {
              "color": "#E5ECF6",
              "width": 0.5
             },
             "pattern": {
              "fillmode": "overlay",
              "size": 10,
              "solidity": 0.2
             }
            },
            "type": "barpolar"
           }
          ],
          "carpet": [
           {
            "aaxis": {
             "endlinecolor": "#2a3f5f",
             "gridcolor": "white",
             "linecolor": "white",
             "minorgridcolor": "white",
             "startlinecolor": "#2a3f5f"
            },
            "baxis": {
             "endlinecolor": "#2a3f5f",
             "gridcolor": "white",
             "linecolor": "white",
             "minorgridcolor": "white",
             "startlinecolor": "#2a3f5f"
            },
            "type": "carpet"
           }
          ],
          "choropleth": [
           {
            "colorbar": {
             "outlinewidth": 0,
             "ticks": ""
            },
            "type": "choropleth"
           }
          ],
          "contour": [
           {
            "colorbar": {
             "outlinewidth": 0,
             "ticks": ""
            },
            "colorscale": [
             [
              0,
              "#0d0887"
             ],
             [
              0.1111111111111111,
              "#46039f"
             ],
             [
              0.2222222222222222,
              "#7201a8"
             ],
             [
              0.3333333333333333,
              "#9c179e"
             ],
             [
              0.4444444444444444,
              "#bd3786"
             ],
             [
              0.5555555555555556,
              "#d8576b"
             ],
             [
              0.6666666666666666,
              "#ed7953"
             ],
             [
              0.7777777777777778,
              "#fb9f3a"
             ],
             [
              0.8888888888888888,
              "#fdca26"
             ],
             [
              1,
              "#f0f921"
             ]
            ],
            "type": "contour"
           }
          ],
          "contourcarpet": [
           {
            "colorbar": {
             "outlinewidth": 0,
             "ticks": ""
            },
            "type": "contourcarpet"
           }
          ],
          "heatmap": [
           {
            "colorbar": {
             "outlinewidth": 0,
             "ticks": ""
            },
            "colorscale": [
             [
              0,
              "#0d0887"
             ],
             [
              0.1111111111111111,
              "#46039f"
             ],
             [
              0.2222222222222222,
              "#7201a8"
             ],
             [
              0.3333333333333333,
              "#9c179e"
             ],
             [
              0.4444444444444444,
              "#bd3786"
             ],
             [
              0.5555555555555556,
              "#d8576b"
             ],
             [
              0.6666666666666666,
              "#ed7953"
             ],
             [
              0.7777777777777778,
              "#fb9f3a"
             ],
             [
              0.8888888888888888,
              "#fdca26"
             ],
             [
              1,
              "#f0f921"
             ]
            ],
            "type": "heatmap"
           }
          ],
          "histogram": [
           {
            "marker": {
             "pattern": {
              "fillmode": "overlay",
              "size": 10,
              "solidity": 0.2
             }
            },
            "type": "histogram"
           }
          ],
          "histogram2d": [
           {
            "colorbar": {
             "outlinewidth": 0,
             "ticks": ""
            },
            "colorscale": [
             [
              0,
              "#0d0887"
             ],
             [
              0.1111111111111111,
              "#46039f"
             ],
             [
              0.2222222222222222,
              "#7201a8"
             ],
             [
              0.3333333333333333,
              "#9c179e"
             ],
             [
              0.4444444444444444,
              "#bd3786"
             ],
             [
              0.5555555555555556,
              "#d8576b"
             ],
             [
              0.6666666666666666,
              "#ed7953"
             ],
             [
              0.7777777777777778,
              "#fb9f3a"
             ],
             [
              0.8888888888888888,
              "#fdca26"
             ],
             [
              1,
              "#f0f921"
             ]
            ],
            "type": "histogram2d"
           }
          ],
          "histogram2dcontour": [
           {
            "colorbar": {
             "outlinewidth": 0,
             "ticks": ""
            },
            "colorscale": [
             [
              0,
              "#0d0887"
             ],
             [
              0.1111111111111111,
              "#46039f"
             ],
             [
              0.2222222222222222,
              "#7201a8"
             ],
             [
              0.3333333333333333,
              "#9c179e"
             ],
             [
              0.4444444444444444,
              "#bd3786"
             ],
             [
              0.5555555555555556,
              "#d8576b"
             ],
             [
              0.6666666666666666,
              "#ed7953"
             ],
             [
              0.7777777777777778,
              "#fb9f3a"
             ],
             [
              0.8888888888888888,
              "#fdca26"
             ],
             [
              1,
              "#f0f921"
             ]
            ],
            "type": "histogram2dcontour"
           }
          ],
          "mesh3d": [
           {
            "colorbar": {
             "outlinewidth": 0,
             "ticks": ""
            },
            "type": "mesh3d"
           }
          ],
          "parcoords": [
           {
            "line": {
             "colorbar": {
              "outlinewidth": 0,
              "ticks": ""
             }
            },
            "type": "parcoords"
           }
          ],
          "pie": [
           {
            "automargin": true,
            "type": "pie"
           }
          ],
          "scatter": [
           {
            "fillpattern": {
             "fillmode": "overlay",
             "size": 10,
             "solidity": 0.2
            },
            "type": "scatter"
           }
          ],
          "scatter3d": [
           {
            "line": {
             "colorbar": {
              "outlinewidth": 0,
              "ticks": ""
             }
            },
            "marker": {
             "colorbar": {
              "outlinewidth": 0,
              "ticks": ""
             }
            },
            "type": "scatter3d"
           }
          ],
          "scattercarpet": [
           {
            "marker": {
             "colorbar": {
              "outlinewidth": 0,
              "ticks": ""
             }
            },
            "type": "scattercarpet"
           }
          ],
          "scattergeo": [
           {
            "marker": {
             "colorbar": {
              "outlinewidth": 0,
              "ticks": ""
             }
            },
            "type": "scattergeo"
           }
          ],
          "scattergl": [
           {
            "marker": {
             "colorbar": {
              "outlinewidth": 0,
              "ticks": ""
             }
            },
            "type": "scattergl"
           }
          ],
          "scattermap": [
           {
            "marker": {
             "colorbar": {
              "outlinewidth": 0,
              "ticks": ""
             }
            },
            "type": "scattermap"
           }
          ],
          "scattermapbox": [
           {
            "marker": {
             "colorbar": {
              "outlinewidth": 0,
              "ticks": ""
             }
            },
            "type": "scattermapbox"
           }
          ],
          "scatterpolar": [
           {
            "marker": {
             "colorbar": {
              "outlinewidth": 0,
              "ticks": ""
             }
            },
            "type": "scatterpolar"
           }
          ],
          "scatterpolargl": [
           {
            "marker": {
             "colorbar": {
              "outlinewidth": 0,
              "ticks": ""
             }
            },
            "type": "scatterpolargl"
           }
          ],
          "scatterternary": [
           {
            "marker": {
             "colorbar": {
              "outlinewidth": 0,
              "ticks": ""
             }
            },
            "type": "scatterternary"
           }
          ],
          "surface": [
           {
            "colorbar": {
             "outlinewidth": 0,
             "ticks": ""
            },
            "colorscale": [
             [
              0,
              "#0d0887"
             ],
             [
              0.1111111111111111,
              "#46039f"
             ],
             [
              0.2222222222222222,
              "#7201a8"
             ],
             [
              0.3333333333333333,
              "#9c179e"
             ],
             [
              0.4444444444444444,
              "#bd3786"
             ],
             [
              0.5555555555555556,
              "#d8576b"
             ],
             [
              0.6666666666666666,
              "#ed7953"
             ],
             [
              0.7777777777777778,
              "#fb9f3a"
             ],
             [
              0.8888888888888888,
              "#fdca26"
             ],
             [
              1,
              "#f0f921"
             ]
            ],
            "type": "surface"
           }
          ],
          "table": [
           {
            "cells": {
             "fill": {
              "color": "#EBF0F8"
             },
             "line": {
              "color": "white"
             }
            },
            "header": {
             "fill": {
              "color": "#C8D4E3"
             },
             "line": {
              "color": "white"
             }
            },
            "type": "table"
           }
          ]
         },
         "layout": {
          "annotationdefaults": {
           "arrowcolor": "#2a3f5f",
           "arrowhead": 0,
           "arrowwidth": 1
          },
          "autotypenumbers": "strict",
          "coloraxis": {
           "colorbar": {
            "outlinewidth": 0,
            "ticks": ""
           }
          },
          "colorscale": {
           "diverging": [
            [
             0,
             "#8e0152"
            ],
            [
             0.1,
             "#c51b7d"
            ],
            [
             0.2,
             "#de77ae"
            ],
            [
             0.3,
             "#f1b6da"
            ],
            [
             0.4,
             "#fde0ef"
            ],
            [
             0.5,
             "#f7f7f7"
            ],
            [
             0.6,
             "#e6f5d0"
            ],
            [
             0.7,
             "#b8e186"
            ],
            [
             0.8,
             "#7fbc41"
            ],
            [
             0.9,
             "#4d9221"
            ],
            [
             1,
             "#276419"
            ]
           ],
           "sequential": [
            [
             0,
             "#0d0887"
            ],
            [
             0.1111111111111111,
             "#46039f"
            ],
            [
             0.2222222222222222,
             "#7201a8"
            ],
            [
             0.3333333333333333,
             "#9c179e"
            ],
            [
             0.4444444444444444,
             "#bd3786"
            ],
            [
             0.5555555555555556,
             "#d8576b"
            ],
            [
             0.6666666666666666,
             "#ed7953"
            ],
            [
             0.7777777777777778,
             "#fb9f3a"
            ],
            [
             0.8888888888888888,
             "#fdca26"
            ],
            [
             1,
             "#f0f921"
            ]
           ],
           "sequentialminus": [
            [
             0,
             "#0d0887"
            ],
            [
             0.1111111111111111,
             "#46039f"
            ],
            [
             0.2222222222222222,
             "#7201a8"
            ],
            [
             0.3333333333333333,
             "#9c179e"
            ],
            [
             0.4444444444444444,
             "#bd3786"
            ],
            [
             0.5555555555555556,
             "#d8576b"
            ],
            [
             0.6666666666666666,
             "#ed7953"
            ],
            [
             0.7777777777777778,
             "#fb9f3a"
            ],
            [
             0.8888888888888888,
             "#fdca26"
            ],
            [
             1,
             "#f0f921"
            ]
           ]
          },
          "colorway": [
           "#636efa",
           "#EF553B",
           "#00cc96",
           "#ab63fa",
           "#FFA15A",
           "#19d3f3",
           "#FF6692",
           "#B6E880",
           "#FF97FF",
           "#FECB52"
          ],
          "font": {
           "color": "#2a3f5f"
          },
          "geo": {
           "bgcolor": "white",
           "lakecolor": "white",
           "landcolor": "#E5ECF6",
           "showlakes": true,
           "showland": true,
           "subunitcolor": "white"
          },
          "hoverlabel": {
           "align": "left"
          },
          "hovermode": "closest",
          "mapbox": {
           "style": "light"
          },
          "paper_bgcolor": "white",
          "plot_bgcolor": "#E5ECF6",
          "polar": {
           "angularaxis": {
            "gridcolor": "white",
            "linecolor": "white",
            "ticks": ""
           },
           "bgcolor": "#E5ECF6",
           "radialaxis": {
            "gridcolor": "white",
            "linecolor": "white",
            "ticks": ""
           }
          },
          "scene": {
           "xaxis": {
            "backgroundcolor": "#E5ECF6",
            "gridcolor": "white",
            "gridwidth": 2,
            "linecolor": "white",
            "showbackground": true,
            "ticks": "",
            "zerolinecolor": "white"
           },
           "yaxis": {
            "backgroundcolor": "#E5ECF6",
            "gridcolor": "white",
            "gridwidth": 2,
            "linecolor": "white",
            "showbackground": true,
            "ticks": "",
            "zerolinecolor": "white"
           },
           "zaxis": {
            "backgroundcolor": "#E5ECF6",
            "gridcolor": "white",
            "gridwidth": 2,
            "linecolor": "white",
            "showbackground": true,
            "ticks": "",
            "zerolinecolor": "white"
           }
          },
          "shapedefaults": {
           "line": {
            "color": "#2a3f5f"
           }
          },
          "ternary": {
           "aaxis": {
            "gridcolor": "white",
            "linecolor": "white",
            "ticks": ""
           },
           "baxis": {
            "gridcolor": "white",
            "linecolor": "white",
            "ticks": ""
           },
           "bgcolor": "#E5ECF6",
           "caxis": {
            "gridcolor": "white",
            "linecolor": "white",
            "ticks": ""
           }
          },
          "title": {
           "x": 0.05
          },
          "xaxis": {
           "automargin": true,
           "gridcolor": "white",
           "linecolor": "white",
           "ticks": "",
           "title": {
            "standoff": 15
           },
           "zerolinecolor": "white",
           "zerolinewidth": 2
          },
          "yaxis": {
           "automargin": true,
           "gridcolor": "white",
           "linecolor": "white",
           "ticks": "",
           "title": {
            "standoff": 15
           },
           "zerolinecolor": "white",
           "zerolinewidth": 2
          }
         }
        },
        "title": {
         "text": "batch metrics"
        },
        "xaxis": {
         "anchor": "y",
         "domain": [
          0,
          0.98
         ],
         "title": {
          "text": "step"
         }
        },
        "xaxis2": {
         "anchor": "y2",
         "domain": [
          0,
          0.98
         ],
         "matches": "x",
         "showticklabels": false
        },
        "yaxis": {
         "anchor": "x",
         "domain": [
          0,
          0.485
         ],
         "title": {
          "text": "value"
         }
        },
        "yaxis2": {
         "anchor": "x2",
         "domain": [
          0.515,
          1
         ],
         "title": {
          "text": "value"
         }
        }
       }
      }
     },
     "metadata": {},
     "output_type": "display_data"
    }
   ],
   "source": [
    "full_dataset = CMIDataset(\"full_dataset\")\n",
    "full_dataset_loader = DL(full_dataset, BATCH_SIZE, shuffle=True)\n",
    "model, full_train_metrics, checkpoints = mk_model_and_fit(full_dataset_loader)\n",
    "plt_train_split_training_metrics(full_train_metrics)"
   ]
  },
  {
   "cell_type": "markdown",
   "id": "f0081b6e",
   "metadata": {},
   "source": [
    "## Model upload"
   ]
  },
  {
   "cell_type": "code",
   "execution_count": 18,
   "id": "87578050",
   "metadata": {},
   "outputs": [
    {
     "name": "stdout",
     "output_type": "stream",
     "text": [
      "Kaggle credentials successfully validated.\n"
     ]
    },
    {
     "data": {
      "text/plain": [
       "'/root/repos/CMI-2025-competition/notebooks/checkpoints/20-07-2025_12-42'"
      ]
     },
     "metadata": {},
     "output_type": "display_data"
    },
    {
     "name": "stdout",
     "output_type": "stream",
     "text": [
      "Uploading Model https://www.kaggle.com/models/mauroabidalcarrer/cmi-resnet/pyTorch/20-07-2025-12-47 ...\n",
      "More than 50 files detected, creating a zip archive...\n"
     ]
    },
    {
     "ename": "FileNotFoundError",
     "evalue": "[Errno 2] No such file or directory: '/root/repos/CMI-2025-competition/notebooks/checkpoints/20-07-2025_12-42/best_checkpoint.pth'",
     "output_type": "error",
     "traceback": [
      "\u001b[31m---------------------------------------------------------------------------\u001b[39m",
      "\u001b[31mFileNotFoundError\u001b[39m                         Traceback (most recent call last)",
      "\u001b[36mCell\u001b[39m\u001b[36m \u001b[39m\u001b[32mIn[18]\u001b[39m\u001b[32m, line 4\u001b[39m\n\u001b[32m      2\u001b[39m model_path = realpath(join(checkpoints))\n\u001b[32m      3\u001b[39m display(model_path)\n\u001b[32m----> \u001b[39m\u001b[32m4\u001b[39m \u001b[43mkagglehub\u001b[49m\u001b[43m.\u001b[49m\u001b[43mmodel_upload\u001b[49m\u001b[43m(\u001b[49m\u001b[43mhandle\u001b[49m\u001b[43m,\u001b[49m\u001b[43m \u001b[49m\u001b[43mmodel_path\u001b[49m\u001b[43m)\u001b[49m\n",
      "\u001b[36mFile \u001b[39m\u001b[32m/venv/CMI/lib/python3.11/site-packages/kagglehub/models.py:88\u001b[39m, in \u001b[36mmodel_upload\u001b[39m\u001b[34m(handle, local_model_dir, license_name, version_notes, ignore_patterns, sigstore)\u001b[39m\n\u001b[32m     85\u001b[39m     \u001b[38;5;28;01mraise\u001b[39;00m \u001b[38;5;167;01mImportError\u001b[39;00m(import_warning_message) \u001b[38;5;28;01mfrom\u001b[39;00m\u001b[38;5;250m \u001b[39m\u001b[38;5;28;01mNone\u001b[39;00m\n\u001b[32m     87\u001b[39m \u001b[38;5;66;03m# Upload the model files to GCS\u001b[39;00m\n\u001b[32m---> \u001b[39m\u001b[32m88\u001b[39m tokens = \u001b[43mupload_files_and_directories\u001b[49m\u001b[43m(\u001b[49m\n\u001b[32m     89\u001b[39m \u001b[43m    \u001b[49m\u001b[43mlocal_model_dir\u001b[49m\u001b[43m,\u001b[49m\n\u001b[32m     90\u001b[39m \u001b[43m    \u001b[49m\u001b[43mitem_type\u001b[49m\u001b[43m=\u001b[49m\u001b[33;43m\"\u001b[39;49m\u001b[33;43mmodel\u001b[39;49m\u001b[33;43m\"\u001b[39;49m\u001b[43m,\u001b[49m\n\u001b[32m     91\u001b[39m \u001b[43m    \u001b[49m\u001b[43mignore_patterns\u001b[49m\u001b[43m=\u001b[49m\u001b[43mnormalize_patterns\u001b[49m\u001b[43m(\u001b[49m\u001b[43mdefault\u001b[49m\u001b[43m=\u001b[49m\u001b[43mDEFAULT_IGNORE_PATTERNS\u001b[49m\u001b[43m,\u001b[49m\u001b[43m \u001b[49m\u001b[43madditional\u001b[49m\u001b[43m=\u001b[49m\u001b[43mignore_patterns\u001b[49m\u001b[43m)\u001b[49m\u001b[43m,\u001b[49m\n\u001b[32m     92\u001b[39m \u001b[43m\u001b[49m\u001b[43m)\u001b[49m\n\u001b[32m     94\u001b[39m create_model_instance_or_version(h, tokens, license_name, version_notes, sigstore=sigstore)\n",
      "\u001b[36mFile \u001b[39m\u001b[32m/venv/CMI/lib/python3.11/site-packages/kagglehub/gcs_upload.py:213\u001b[39m, in \u001b[36mupload_files_and_directories\u001b[39m\u001b[34m(folder, ignore_patterns, item_type, quiet)\u001b[39m\n\u001b[32m    211\u001b[39m         \u001b[38;5;28;01mfor\u001b[39;00m file \u001b[38;5;129;01min\u001b[39;00m files:\n\u001b[32m    212\u001b[39m             file_path = os.path.join(root, file)\n\u001b[32m--> \u001b[39m\u001b[32m213\u001b[39m             \u001b[43mzipf\u001b[49m\u001b[43m.\u001b[49m\u001b[43mwrite\u001b[49m\u001b[43m(\u001b[49m\u001b[43mfile_path\u001b[49m\u001b[43m,\u001b[49m\u001b[43m \u001b[49m\u001b[43mos\u001b[49m\u001b[43m.\u001b[49m\u001b[43mpath\u001b[49m\u001b[43m.\u001b[49m\u001b[43mrelpath\u001b[49m\u001b[43m(\u001b[49m\u001b[43mfile_path\u001b[49m\u001b[43m,\u001b[49m\u001b[43m \u001b[49m\u001b[43mfolder\u001b[49m\u001b[43m)\u001b[49m\u001b[43m)\u001b[49m\n\u001b[32m    215\u001b[39m tokens = [\n\u001b[32m    216\u001b[39m     token\n\u001b[32m    217\u001b[39m     \u001b[38;5;28;01mfor\u001b[39;00m token \u001b[38;5;129;01min\u001b[39;00m [_upload_file(file_path=zip_path, item_type=item_type, quiet=quiet)]\n\u001b[32m    218\u001b[39m     \u001b[38;5;28;01mif\u001b[39;00m token \u001b[38;5;129;01mis\u001b[39;00m \u001b[38;5;129;01mnot\u001b[39;00m \u001b[38;5;28;01mNone\u001b[39;00m\n\u001b[32m    219\u001b[39m ]\n\u001b[32m    220\u001b[39m \u001b[38;5;28;01mreturn\u001b[39;00m UploadDirectoryInfo(name=\u001b[33m\"\u001b[39m\u001b[33marchive\u001b[39m\u001b[33m\"\u001b[39m, files=tokens)\n",
      "\u001b[36mFile \u001b[39m\u001b[32m/venv/CMI/lib/python3.11/zipfile.py:1775\u001b[39m, in \u001b[36mZipFile.write\u001b[39m\u001b[34m(self, filename, arcname, compress_type, compresslevel)\u001b[39m\n\u001b[32m   1770\u001b[39m \u001b[38;5;28;01mif\u001b[39;00m \u001b[38;5;28mself\u001b[39m._writing:\n\u001b[32m   1771\u001b[39m     \u001b[38;5;28;01mraise\u001b[39;00m \u001b[38;5;167;01mValueError\u001b[39;00m(\n\u001b[32m   1772\u001b[39m         \u001b[33m\"\u001b[39m\u001b[33mCan\u001b[39m\u001b[33m'\u001b[39m\u001b[33mt write to ZIP archive while an open writing handle exists\u001b[39m\u001b[33m\"\u001b[39m\n\u001b[32m   1773\u001b[39m     )\n\u001b[32m-> \u001b[39m\u001b[32m1775\u001b[39m zinfo = \u001b[43mZipInfo\u001b[49m\u001b[43m.\u001b[49m\u001b[43mfrom_file\u001b[49m\u001b[43m(\u001b[49m\u001b[43mfilename\u001b[49m\u001b[43m,\u001b[49m\u001b[43m \u001b[49m\u001b[43marcname\u001b[49m\u001b[43m,\u001b[49m\n\u001b[32m   1776\u001b[39m \u001b[43m                          \u001b[49m\u001b[43mstrict_timestamps\u001b[49m\u001b[43m=\u001b[49m\u001b[38;5;28;43mself\u001b[39;49m\u001b[43m.\u001b[49m\u001b[43m_strict_timestamps\u001b[49m\u001b[43m)\u001b[49m\n\u001b[32m   1778\u001b[39m \u001b[38;5;28;01mif\u001b[39;00m zinfo.is_dir():\n\u001b[32m   1779\u001b[39m     zinfo.compress_size = \u001b[32m0\u001b[39m\n",
      "\u001b[36mFile \u001b[39m\u001b[32m/venv/CMI/lib/python3.11/zipfile.py:532\u001b[39m, in \u001b[36mZipInfo.from_file\u001b[39m\u001b[34m(cls, filename, arcname, strict_timestamps)\u001b[39m\n\u001b[32m    530\u001b[39m \u001b[38;5;28;01mif\u001b[39;00m \u001b[38;5;28misinstance\u001b[39m(filename, os.PathLike):\n\u001b[32m    531\u001b[39m     filename = os.fspath(filename)\n\u001b[32m--> \u001b[39m\u001b[32m532\u001b[39m st = os.stat(filename)\n\u001b[32m    533\u001b[39m isdir = stat.S_ISDIR(st.st_mode)\n\u001b[32m    534\u001b[39m mtime = time.localtime(st.st_mtime)\n",
      "\u001b[31mFileNotFoundError\u001b[39m: [Errno 2] No such file or directory: '/root/repos/CMI-2025-competition/notebooks/checkpoints/20-07-2025_12-42/best_checkpoint.pth'"
     ]
    }
   ],
   "source": [
    "handle = f\"{kagglehub.whoami()['username']}/cmi-resnet/pyTorch/{mk_date_now_str().replace('_', '-')}\"\n",
    "model_path = realpath(join(checkpoints))\n",
    "display(model_path)\n",
    "kagglehub.model_upload(handle, model_path)"
   ]
  }
 ],
 "metadata": {
  "kernelspec": {
   "display_name": "Python 3",
   "language": "python",
   "name": "python3"
  },
  "language_info": {
   "codemirror_mode": {
    "name": "ipython",
    "version": 3
   },
   "file_extension": ".py",
   "mimetype": "text/x-python",
   "name": "python",
   "nbconvert_exporter": "python",
   "pygments_lexer": "ipython3",
   "version": "3.11.5"
  }
 },
 "nbformat": 4,
 "nbformat_minor": 5
}
