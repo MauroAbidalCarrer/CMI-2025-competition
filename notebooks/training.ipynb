{
 "cells": [
  {
   "cell_type": "markdown",
   "id": "53d41434",
   "metadata": {},
   "source": [
    "# Training model\n",
    "The goal of this notebook is to train a model and upload it to kaggle."
   ]
  },
  {
   "cell_type": "markdown",
   "id": "696a0573",
   "metadata": {},
   "source": [
    "## Setup"
   ]
  },
  {
   "cell_type": "markdown",
   "id": "dc4c23f0",
   "metadata": {},
   "source": [
    "### Imports"
   ]
  },
  {
   "cell_type": "code",
   "execution_count": null,
   "id": "66f429fe",
   "metadata": {},
   "outputs": [],
   "source": [
    "import os\n",
    "import json\n",
    "from glob import glob\n",
    "from functools import partial\n",
    "from datetime import datetime\n",
    "from itertools import pairwise\n",
    "from os.path import join, realpath\n",
    "from typing import Optional, Literal\n",
    "\n",
    "import torch\n",
    "import kagglehub\n",
    "import numpy as np\n",
    "import pandas as pd\n",
    "import plotly.express as px\n",
    "from torch import nn, Tensor\n",
    "from pandas import DataFrame as DF\n",
    "from torch.utils.data import TensorDataset\n",
    "from torch.utils.data import DataLoader as DL\n",
    "from rich.progress import Progress, Task, track\n",
    "from torch.optim.lr_scheduler import ConstantLR, LRScheduler\n",
    "metric_package = kagglehub.package_import('wasupandceacar/cmi-metric', bypass_confirmation=True)"
   ]
  },
  {
   "cell_type": "markdown",
   "id": "fbe9b25b",
   "metadata": {},
   "source": [
    "### Config"
   ]
  },
  {
   "cell_type": "code",
   "execution_count": 103,
   "id": "82515f95",
   "metadata": {},
   "outputs": [],
   "source": [
    "NB_CROSS_VALIDATIONS = 5\n",
    "TRAINING_EPOCHS = 60\n",
    "STARTING_LR = 0.0005\n",
    "BATCH_SIZE = 256\n",
    "TARGET_NAMES = sorted([\n",
    "    \"Above ear - pull hair\",\n",
    "    \"Cheek - pinch skin\",\n",
    "    \"Eyebrow - pull hair\",\n",
    "    \"Eyelash - pull hair\",\n",
    "    \"Feel around in tray and pull out an object\",\n",
    "    \"Forehead - pull hairline\",\n",
    "    \"Forehead - scratch\",\n",
    "    \"Neck - pinch skin\",\n",
    "    \"Neck - scratch\",\n",
    "    \"Text on phone\",\n",
    "    \"Wave hello\",\n",
    "    \"Write name in air\",\n",
    "    \"Write name on leg\",\n",
    "    \"Drink from bottle/cup\",\n",
    "    \"Pinch knee/leg skin\",\n",
    "    \"Pull air toward your face\",\n",
    "    \"Scratch knee/leg skin\",\n",
    "    \"Glasses on/off\"\n",
    "])\n",
    "TARGET_NAMES_NDARRAY = np.asarray(TARGET_NAMES)\n",
    "MOCK_TRAINING_GAMMA = 1.01\n",
    "MAX_LR_TO_MIN_DIV_FACTOR = 10"
   ]
  },
  {
   "cell_type": "markdown",
   "id": "561af8f7",
   "metadata": {},
   "source": [
    "### Dataset Setup"
   ]
  },
  {
   "cell_type": "code",
   "execution_count": 37,
   "id": "63a131e0",
   "metadata": {},
   "outputs": [],
   "source": [
    "dataset_path = kagglehub.dataset_download(\n",
    "    handle=\"mauroabidalcarrer/prepocessed-cmi-2025\",\n",
    ")"
   ]
  },
  {
   "cell_type": "code",
   "execution_count": 38,
   "id": "e46c3b4e",
   "metadata": {},
   "outputs": [],
   "source": [
    "class CMIDataset(TensorDataset):\n",
    "    def __init__(\n",
    "        self,\n",
    "        parent_dir: str,\n",
    "        split: Optional[Literal[\"train\", \"validation\"]]=None,\n",
    "        subset: Optional[int]=None,\n",
    "        force_download=False\n",
    "    ):\n",
    "        dataset_path = kagglehub.dataset_download(\n",
    "            handle=\"mauroabidalcarrer/prepocessed-cmi-2025\",\n",
    "            force_download=force_download\n",
    "        )\n",
    "        parent_dir = join(dataset_path, \"preprocessed_dataset\", parent_dir)\n",
    "        split = \"\" if split is None else split + \"_\"\n",
    "        x = np.load(join(parent_dir, f\"{split}X.npy\")).swapaxes(1, 2)\n",
    "        y = np.load(join(parent_dir, f\"{split}Y.npy\"))\n",
    "        if subset is not None:\n",
    "            x = x[:subset]\n",
    "            y = y[:subset]\n",
    "        super().__init__(\n",
    "            torch.from_numpy(x), \n",
    "            torch.from_numpy(y),\n",
    "        )"
   ]
  },
  {
   "cell_type": "code",
   "execution_count": 39,
   "id": "a2de4288",
   "metadata": {},
   "outputs": [],
   "source": [
    "meta_data_path = join(\n",
    "    dataset_path,\n",
    "    \"preprocessed_dataset\",\n",
    "    \"full_dataset_meta_data.json\"\n",
    ")\n",
    "with open(meta_data_path, \"r\") as fp:\n",
    "    meta_data = json.load(fp)\n",
    "# Convert target names into a ndarray to index it batchwise.\n",
    "# meta_data[\"target_names\"] = np.asarray(meta_data[\"target_names\"])\n",
    "non_imu_feats_idx = [feat_idx for feat_idx, feat in enumerate(meta_data[\"feature_cols\"]) if feat.startswith((\"thm\", \"tof\"))]\n",
    "non_imu_feats = [feat for feat in meta_data[\"feature_cols\"] if feat.startswith((\"thm\", \"tof\"))]\n",
    "imu_feats_idx = [feat_idx for feat_idx, feat in enumerate(meta_data[\"feature_cols\"]) if not feat.startswith((\"thm\", \"tof\"))]\n",
    "imu_feats = [feat for feat in meta_data[\"feature_cols\"] if not feat.startswith((\"thm\", \"tof\"))]"
   ]
  },
  {
   "cell_type": "code",
   "execution_count": 40,
   "id": "e12bc6b2",
   "metadata": {},
   "outputs": [
    {
     "data": {
      "text/plain": [
       "['thm_1',\n",
       " 'thm_1_diff',\n",
       " 'thm_2',\n",
       " 'thm_2_diff',\n",
       " 'thm_3',\n",
       " 'thm_3_diff',\n",
       " 'thm_4',\n",
       " 'thm_4_diff',\n",
       " 'thm_5',\n",
       " 'thm_5_diff',\n",
       " 'tof_1',\n",
       " 'tof_1_diff',\n",
       " 'tof_2',\n",
       " 'tof_2_diff',\n",
       " 'tof_3',\n",
       " 'tof_3_diff',\n",
       " 'tof_4',\n",
       " 'tof_4_diff',\n",
       " 'tof_5',\n",
       " 'tof_5_diff']"
      ]
     },
     "metadata": {},
     "output_type": "display_data"
    },
    {
     "data": {
      "text/plain": [
       "['acc_x',\n",
       " 'acc_x_diff',\n",
       " 'acc_y',\n",
       " 'acc_y_diff',\n",
       " 'acc_z',\n",
       " 'acc_z_diff',\n",
       " 'angular_vel_x',\n",
       " 'angular_vel_x_diff',\n",
       " 'angular_vel_y',\n",
       " 'angular_vel_y_diff',\n",
       " 'angular_vel_z',\n",
       " 'angular_vel_z_diff',\n",
       " 'delta_rot_mag',\n",
       " 'delta_rot_mag_diff',\n",
       " 'euler_x',\n",
       " 'euler_x_diff',\n",
       " 'euler_y',\n",
       " 'euler_y_diff',\n",
       " 'euler_z',\n",
       " 'euler_z_diff',\n",
       " 'gravity_free_acc_x',\n",
       " 'gravity_free_acc_x_diff',\n",
       " 'gravity_free_acc_y',\n",
       " 'gravity_free_acc_y_diff',\n",
       " 'gravity_free_acc_z',\n",
       " 'gravity_free_acc_z_diff',\n",
       " 'linear_acc_mag',\n",
       " 'linear_acc_mag_diff',\n",
       " 'quat_rot_mag',\n",
       " 'quat_rot_mag_diff',\n",
       " 'raw_acc_mag',\n",
       " 'raw_acc_mag_diff',\n",
       " 'rot_w',\n",
       " 'rot_w_diff',\n",
       " 'rot_x',\n",
       " 'rot_x_diff',\n",
       " 'rot_y',\n",
       " 'rot_y_diff',\n",
       " 'rot_z',\n",
       " 'rot_z_diff',\n",
       " 'rotation_axis_x',\n",
       " 'rotation_axis_x_diff',\n",
       " 'rotation_axis_y',\n",
       " 'rotation_axis_y_diff',\n",
       " 'rotation_axis_z',\n",
       " 'rotation_axis_z_diff']"
      ]
     },
     "metadata": {},
     "output_type": "display_data"
    }
   ],
   "source": [
    "display(non_imu_feats)\n",
    "display(imu_feats)"
   ]
  },
  {
   "cell_type": "code",
   "execution_count": 41,
   "id": "058d7d3f",
   "metadata": {},
   "outputs": [
    {
     "data": {
      "text/plain": [
       "[46,\n",
       " 47,\n",
       " 48,\n",
       " 49,\n",
       " 50,\n",
       " 51,\n",
       " 52,\n",
       " 53,\n",
       " 54,\n",
       " 55,\n",
       " 56,\n",
       " 57,\n",
       " 58,\n",
       " 59,\n",
       " 60,\n",
       " 61,\n",
       " 62,\n",
       " 63,\n",
       " 64,\n",
       " 65]"
      ]
     },
     "metadata": {},
     "output_type": "display_data"
    },
    {
     "data": {
      "text/plain": [
       "[0,\n",
       " 1,\n",
       " 2,\n",
       " 3,\n",
       " 4,\n",
       " 5,\n",
       " 6,\n",
       " 7,\n",
       " 8,\n",
       " 9,\n",
       " 10,\n",
       " 11,\n",
       " 12,\n",
       " 13,\n",
       " 14,\n",
       " 15,\n",
       " 16,\n",
       " 17,\n",
       " 18,\n",
       " 19,\n",
       " 20,\n",
       " 21,\n",
       " 22,\n",
       " 23,\n",
       " 24,\n",
       " 25,\n",
       " 26,\n",
       " 27,\n",
       " 28,\n",
       " 29,\n",
       " 30,\n",
       " 31,\n",
       " 32,\n",
       " 33,\n",
       " 34,\n",
       " 35,\n",
       " 36,\n",
       " 37,\n",
       " 38,\n",
       " 39,\n",
       " 40,\n",
       " 41,\n",
       " 42,\n",
       " 43,\n",
       " 44,\n",
       " 45]"
      ]
     },
     "metadata": {},
     "output_type": "display_data"
    }
   ],
   "source": [
    "display(non_imu_feats_idx)\n",
    "display(imu_feats_idx)"
   ]
  },
  {
   "cell_type": "markdown",
   "id": "e7cce363",
   "metadata": {},
   "source": [
    "### device setup"
   ]
  },
  {
   "cell_type": "code",
   "execution_count": 42,
   "id": "2710f791",
   "metadata": {},
   "outputs": [],
   "source": [
    "device = torch.device(\"cuda\") if torch.cuda.is_available() else torch.device(\"cpu\")"
   ]
  },
  {
   "cell_type": "markdown",
   "id": "7405a353",
   "metadata": {},
   "source": [
    "## Model definition"
   ]
  },
  {
   "cell_type": "code",
   "execution_count": 43,
   "id": "5ecc32a1",
   "metadata": {},
   "outputs": [],
   "source": [
    "class ResidualBlock(nn.Module):\n",
    "    def __init__(self, in_chns:int, out_chns:int):\n",
    "        super().__init__()\n",
    "        self.blocks = nn.Sequential(\n",
    "            nn.Conv1d(in_chns, out_chns, kernel_size=3, padding=1),\n",
    "            nn.BatchNorm1d(out_chns),\n",
    "            nn.ReLU(),\n",
    "            nn.Conv1d(out_chns, out_chns, kernel_size=3, padding=1),\n",
    "            nn.BatchNorm1d(out_chns),\n",
    "        )\n",
    "        if in_chns == out_chns:\n",
    "            self.skip_connection = nn.Identity() \n",
    "        else:\n",
    "            # TODO: set bias to False ?\n",
    "            self.skip_connection = nn.Sequential(\n",
    "                nn.Conv1d(in_chns, out_chns, 1),\n",
    "                nn.BatchNorm1d(out_chns)\n",
    "            )\n",
    "\n",
    "    def forward(self, x:Tensor) -> Tensor:\n",
    "        activaition_maps = self.skip_connection(x) + self.blocks(x)\n",
    "        return nn.functional.relu(activaition_maps)\n",
    "\n",
    "class Resnet(nn.Module):\n",
    "    def __init__(\n",
    "            self,\n",
    "            in_channels:int,\n",
    "            depth:int,\n",
    "            # n_res_block_per_depth:int,\n",
    "            mlp_width:int,\n",
    "            n_class:int,\n",
    "        ):\n",
    "        super().__init__()\n",
    "        chs_per_depth = [in_channels * 2 ** i for i in range(depth)]\n",
    "        blocks_chns_it = pairwise(chs_per_depth)\n",
    "        self.res_blocks = [ResidualBlock(in_chns, out_chns) for in_chns, out_chns in blocks_chns_it]\n",
    "        self.res_blocks = nn.ModuleList(self.res_blocks)\n",
    "        self.mlp_head = nn.Sequential(\n",
    "            nn.LazyLinear(mlp_width),\n",
    "            nn.ReLU(),\n",
    "            nn.Linear(mlp_width, n_class),\n",
    "            nn.Softmax(dim=1),\n",
    "        )\n",
    "        \n",
    "        \n",
    "    def forward(self, x:Tensor) -> Tensor:\n",
    "        activation_maps = x\n",
    "        for res_block in self.res_blocks:\n",
    "            activation_maps = nn.functional.max_pool1d(res_block(activation_maps), 2)\n",
    "        out = activation_maps.view(activation_maps.shape[0], -1)\n",
    "        out = self.mlp_head(out)\n",
    "        return out"
   ]
  },
  {
   "cell_type": "markdown",
   "id": "5a83f1e7",
   "metadata": {},
   "source": [
    "## Training functions "
   ]
  },
  {
   "cell_type": "markdown",
   "id": "3047bc60",
   "metadata": {},
   "source": [
    "### Evaluation "
   ]
  },
  {
   "cell_type": "code",
   "execution_count": 44,
   "id": "bfff9c2e",
   "metadata": {},
   "outputs": [],
   "source": [
    "def evaluate_model(\n",
    "        model: torch.nn.Module,\n",
    "        critirion:callable,\n",
    "        validation_loader:DL,\n",
    "    ) -> dict:\n",
    "    model = model.eval()\n",
    "    model_device = next(model.parameters()).device\n",
    "    competition_metric = metric_package.Metric()\n",
    "\n",
    "    total_accuracy = 0\n",
    "    total_test_loss = 0\n",
    "    with torch.inference_mode():\n",
    "        for x, y in validation_loader:\n",
    "            # Additionally, clone x because we will write on it, in theory it's not necessary but we never know/\n",
    "            x = x.to(model_device).clone()\n",
    "            y = y.to(model_device)\n",
    "\n",
    "            half = BATCH_SIZE // 2\n",
    "\n",
    "            x[:half, non_imu_feats_idx, :] = 0.0\n",
    "\n",
    "            y_pred = model(x)\n",
    "            total_test_loss += critirion(y_pred, y).item()\n",
    "            batch_accuracy = compute_accuracy(y_pred, y)\n",
    "            total_accuracy += batch_accuracy\n",
    "            competition_metric.add(get_str_target(y), get_str_target(y_pred))\n",
    "\n",
    "    return {\n",
    "        \"validation_loss\": total_test_loss / len(validation_loader),\n",
    "        \"validation_accuracy\": total_accuracy / len(validation_loader),\n",
    "        \"competition_score\": competition_metric.score(),\n",
    "    }\n",
    "\n",
    "def get_str_target(y:Tensor) -> str:\n",
    "    y_idx = y.max(dim=1)[1].tolist()\n",
    "    return TARGET_NAMES_NDARRAY[y_idx]\n",
    "\n",
    "def compute_accuracy(y_pred:Tensor, y:Tensor) -> float:\n",
    "    return (\n",
    "            (y.max(dim=1)[1] == y_pred.max(dim=1)[1])\n",
    "            .sum()\n",
    "            .item()\n",
    "    ) / y.shape[0]"
   ]
  },
  {
   "cell_type": "markdown",
   "id": "83ce4d6a",
   "metadata": {},
   "source": [
    "### Checkpoints"
   ]
  },
  {
   "cell_type": "code",
   "execution_count": 45,
   "id": "0356f2f2",
   "metadata": {},
   "outputs": [],
   "source": [
    "def mk_checkpoint(\n",
    "        epoch:int,\n",
    "        model: torch.nn.Module,\n",
    "        scheduler: LRScheduler,\n",
    "        optimizer: torch.optim.Optimizer\n",
    "    ) -> dict:\n",
    "    if torch.cuda.is_available():\n",
    "        model_state_dict = {k: v.detach().cpu() for k, v in model.state_dict().items()}\n",
    "    else:\n",
    "        model_state_dict = model.state_dict()\n",
    "\n",
    "    return {\n",
    "        \"epoch\": epoch,\n",
    "        \"model\": model.state_dict(),\n",
    "        \"optimizer\": optimizer.state_dict(),\n",
    "        \"scheduler\": scheduler.state_dict(),\n",
    "    }\n",
    "\n",
    "def save_checkpoint(checkpoint:dict, parent_dir:str, is_best_checkpoint=False):\n",
    "    # Create model name\n",
    "    checkpoint_filename = f\"epoch_{checkpoint['epoch']}_{mk_date_now_str()}.pth\"\n",
    "    # Save model\n",
    "    os.makedirs(parent_dir, exist_ok=True)\n",
    "    checkpoint_path = os.path.join(parent_dir, checkpoint_filename)\n",
    "    torch.save(checkpoint, checkpoint_path)\n",
    "    mk_symlink(checkpoint_path, os.path.join(parent_dir, \"latest_checkpoint.pth\"))\n",
    "    if is_best_checkpoint:\n",
    "        mk_symlink(checkpoint_path, os.path.join(parent_dir, \"best_checkpoint.pth\"))\n",
    "\n",
    "def mk_date_now_str() -> str:\n",
    "    return datetime.now().strftime(\"%d-%m-%Y_%H-%M\")\n",
    "\n",
    "def mk_symlink(dest:str, symlink_path:str):\n",
    "    if os.path.islink(symlink_path) or os.path.exists(symlink_path):\n",
    "        os.remove(symlink_path)\n",
    "    os.symlink(dest, symlink_path)"
   ]
  },
  {
   "cell_type": "markdown",
   "id": "c8014fc2",
   "metadata": {},
   "source": [
    "### Training loop"
   ]
  },
  {
   "cell_type": "code",
   "execution_count": 53,
   "id": "7cc879eb",
   "metadata": {},
   "outputs": [],
   "source": [
    "def fit(epochs:int,\n",
    "        model: nn.Module,\n",
    "        scheduler: LRScheduler,\n",
    "        optimizer: torch.optim.Optimizer,\n",
    "        train_loader: DL,\n",
    "        criterion: callable=nn.L1Loss(),\n",
    "        evaluation_func: callable=None,\n",
    "        validation_loader: DL=None,\n",
    "        save_checkpoints=True,\n",
    "    ) -> tuple[DF, str]:\n",
    "    \"\"\"\n",
    "    Returns:\n",
    "        (training_metrics, path_to_checkpoints)\n",
    "    \"\"\"\n",
    "    # Setup\n",
    "    metrics: list[dict] = []\n",
    "    checkpoints_dir = os.path.join(\"checkpoints\", mk_date_now_str())\n",
    "    step = 0\n",
    "    model_device = next(model.parameters()).device\n",
    "    last_epoch_metric = {}\n",
    "    # Training loop\n",
    "    with Progress() as progress:\n",
    "        task: Task = progress.add_task(\n",
    "            \"training...\",\n",
    "            total=len(train_loader),\n",
    "        )\n",
    "        for epoch in range(epochs):\n",
    "            progress.update(\n",
    "                task,\n",
    "                description=f\"epoch: {epoch}\",\n",
    "                completed=0,\n",
    "            )\n",
    "            total_epoch_loss = 0\n",
    "            total_accuracy = 0\n",
    "            for batch_idx, (x, y) in enumerate(train_loader):\n",
    "                # forward\n",
    "                x = x.to(model_device)\n",
    "                y = y.to(model_device)\n",
    "                model.train()\n",
    "                optimizer.zero_grad()\n",
    "                y_pred: Tensor = model(x)\n",
    "                loss_value = criterion(y_pred, y)\n",
    "                # Verify loss value\n",
    "                if torch.isnan(loss_value).any().item():\n",
    "                    progress.print(\"Warning: Got NaN loss, stopped training.\")\n",
    "                    return DF.from_records(metrics), checkpoints_dir\n",
    "                if torch.isinf(loss_value).any().item():\n",
    "                    progress.print(\"Warning: Got infinite loss, stopped training.\")\n",
    "                    return DF.from_records(metrics), checkpoints_dir\n",
    "                # TODO: Use gradient clipping?\n",
    "                loss_value.backward()\n",
    "                optimizer.step()\n",
    "                if step > 0: # If it's not the first training step, idk why it throws an error otherwise\n",
    "                    scheduler.step()\n",
    "                # metrics\n",
    "                total_epoch_loss += loss_value.item()\n",
    "                batch_accuracy = compute_accuracy(y_pred, y)\n",
    "                total_accuracy += batch_accuracy\n",
    "                metrics.append({\n",
    "                    \"step\": step,\n",
    "                    \"epoch\": epoch,\n",
    "                    \"batch_train_loss\": loss_value.item(),\n",
    "                    \"lr\": optimizer.state_dict()[\"param_groups\"][-1][\"lr\"],\n",
    "                    \"batch_accuracy\": batch_accuracy,\n",
    "                })\n",
    "                step += 1\n",
    "                if \"validation_accuracy\" in last_epoch_metric:\n",
    "                    last_validation_acc = \"%.2f\" % last_epoch_metric[\"validation_accuracy\"]\n",
    "                    val_acc_str = \"val. acc: \" + last_validation_acc\n",
    "                else:\n",
    "                    val_acc_str = \"\"\n",
    "                progress.update(\n",
    "                    task,\n",
    "                    advance=1,\n",
    "                    description=f\"epoch: {epoch}, batch_loss: {(total_epoch_loss / (batch_idx+1)):.2f}, {val_acc_str}\"\n",
    "                )\n",
    "            # Post epoch evalution\n",
    "            metrics[-1][\"train_epoch_loss\"] = total_epoch_loss / len(train_loader)\n",
    "            metrics[-1][\"train_epoch_accuracy\"] = total_accuracy / len(train_loader)\n",
    "            if evaluation_func:\n",
    "                progress.update(\n",
    "                    task,\n",
    "                    completed=0,\n",
    "                    description=f\"epoch: {epoch}, evaluating...\"\n",
    "                )\n",
    "                eval_metrics = evaluation_func(model, criterion, validation_loader)\n",
    "                metrics[-1].update(eval_metrics)\n",
    "            last_epoch_metric = metrics[-1]\n",
    "            # Save checkpoint\n",
    "            if save_checkpoints:\n",
    "                checkpoint = mk_checkpoint(epoch, model, scheduler, optimizer)\n",
    "                metrics_df = DF.from_records(metrics)\n",
    "                best_model_metric = \"validation_loss\" if \"validation_loss\" in metrics_df.columns else \"train_epoch_loss\"\n",
    "                is_best_checkpoint = (\n",
    "                    DF.from_records(metrics)\n",
    "                    .eval(f\"min_{best_model_metric} = {best_model_metric}.min()\")\n",
    "                    .eval(f\"is_best_{best_model_metric} = {best_model_metric} == min_{best_model_metric}\")\n",
    "                    .dropna(subset=f\"is_best_{best_model_metric}\")\n",
    "                    .iloc[-1]\n",
    "                    .loc[f\"is_best_{best_model_metric}\"]\n",
    "                )\n",
    "                save_checkpoint(checkpoint, checkpoints_dir, is_best_checkpoint)\n",
    "\n",
    "    return DF.from_records(metrics), checkpoints_dir"
   ]
  },
  {
   "cell_type": "markdown",
   "id": "39e484f3",
   "metadata": {},
   "source": [
    "### Create model function"
   ]
  },
  {
   "cell_type": "code",
   "execution_count": 47,
   "id": "534c536e",
   "metadata": {},
   "outputs": [
    {
     "name": "stdout",
     "output_type": "stream",
     "text": [
      "input channels: 66\n"
     ]
    }
   ],
   "source": [
    "def mk_model() -> nn.Module:\n",
    "    nb_in_chans = len(meta_data[\"feature_cols\"])\n",
    "    return (\n",
    "        Resnet(\n",
    "            in_channels=nb_in_chans,\n",
    "            depth=4,\n",
    "            mlp_width=256,\n",
    "            n_class=18\n",
    "        )\n",
    "        .to(device)\n",
    "    )\n",
    "\n",
    "print(\"input channels:\", len(meta_data[\"feature_cols\"]))"
   ]
  },
  {
   "cell_type": "markdown",
   "id": "a1cc8634",
   "metadata": {},
   "source": [
    "### Create model and train it"
   ]
  },
  {
   "cell_type": "code",
   "execution_count": null,
   "id": "fe1e327c",
   "metadata": {},
   "outputs": [],
   "source": [
    "def mk_model_and_fit(\n",
    "        train_loader:DL,\n",
    "        starting_lr:float,\n",
    "        mk_scheduler:callable,\n",
    "        validation_loader:Optional[DL]=None,\n",
    "        save_checkpoints=False,\n",
    "    ) -> tuple[nn.Module, DF, list[str]]:\n",
    "    model = mk_model()\n",
    "    optimizer = torch.optim.AdamW(model.parameters(), STARTING_LR)\n",
    "    lr_scheduler = mk_scheduler(optimizer)\n",
    "    training_metrics, model_checkpoints = fit(\n",
    "        epochs=TRAINING_EPOCHS,\n",
    "        model=model,\n",
    "        scheduler=lr_scheduler,\n",
    "        optimizer=optimizer,\n",
    "        train_loader=train_loader,\n",
    "        criterion=nn.CrossEntropyLoss(),\n",
    "        evaluation_func=evaluate_model if validation_loader else None,\n",
    "        validation_loader=validation_loader,\n",
    "        save_checkpoints=save_checkpoints,\n",
    "    )\n",
    "\n",
    "    return model, training_metrics, model_checkpoints"
   ]
  },
  {
   "cell_type": "markdown",
   "id": "a1d1a820",
   "metadata": {},
   "source": [
    "## Search max learning rate"
   ]
  },
  {
   "cell_type": "code",
   "execution_count": 96,
   "id": "4619c4fe",
   "metadata": {},
   "outputs": [],
   "source": [
    "def post_process_mock_training_metrics(training_metrics:DF) -> DF:\n",
    "    training_metrics = (\n",
    "        training_metrics\n",
    "        .query(\"batch_train_loss.notna()\")\n",
    "        .set_index(\"lr\", drop=False)\n",
    "        .sort_index()\n",
    "    )\n",
    "    training_metrics[\"ewm_batch_train_loss\"] = (\n",
    "        training_metrics\n",
    "        .ewm(com=30, ignore_na=False)\n",
    "        [\"batch_train_loss\"]\n",
    "        .mean()\n",
    "    )\n",
    "    training_metrics[\"ewm_batch_train_loss_diff\"] = training_metrics[\"ewm_batch_train_loss\"].diff()\n",
    "    return training_metrics"
   ]
  },
  {
   "cell_type": "code",
   "execution_count": null,
   "id": "fe0602a0",
   "metadata": {},
   "outputs": [],
   "source": [
    "def plt_lr_search_training_metrics(training_metrics:DF):\n",
    "    (    \n",
    "        px.line(\n",
    "            (\n",
    "                training_metrics\n",
    "                .reset_index(drop=True)\n",
    "                .melt(\n",
    "                    id_vars=\"lr\",\n",
    "                    value_vars=[\n",
    "                        \"batch_train_loss\",\n",
    "                        \"ewm_batch_train_loss\",\n",
    "                        \"ewm_batch_train_loss_diff\",\n",
    "                    ],\n",
    "                )\n",
    "            ),\n",
    "            x=\"lr\",\n",
    "            facet_row=\"variable\",\n",
    "            y=\"value\",\n",
    "            log_x=True,\n",
    "            height=750,\n",
    "        )\n",
    "        .update_yaxes(matches=None)\n",
    "        .show()\n",
    "    )"
   ]
  },
  {
   "cell_type": "code",
   "execution_count": 100,
   "id": "fc10b5bb",
   "metadata": {},
   "outputs": [
    {
     "data": {
      "application/vnd.jupyter.widget-view+json": {
       "model_id": "0eb5d2e15349463d998956e6b00faadc",
       "version_major": 2,
       "version_minor": 0
      },
      "text/plain": [
       "Output()"
      ]
     },
     "metadata": {},
     "output_type": "display_data"
    },
    {
     "data": {
      "text/html": [
       "<pre style=\"white-space:pre;overflow-x:auto;line-height:normal;font-family:Menlo,'DejaVu Sans Mono',consolas,'Courier New',monospace\">Warning: Got NaN loss, stopped training.\n",
       "</pre>\n"
      ],
      "text/plain": [
       "Warning: Got NaN loss, stopped training.\n"
      ]
     },
     "metadata": {},
     "output_type": "display_data"
    },
    {
     "data": {
      "text/html": [
       "<pre style=\"white-space:pre;overflow-x:auto;line-height:normal;font-family:Menlo,'DejaVu Sans Mono',consolas,'Courier New',monospace\"></pre>\n"
      ],
      "text/plain": []
     },
     "metadata": {},
     "output_type": "display_data"
    },
    {
     "data": {
      "application/vnd.plotly.v1+json": {
       "config": {
        "plotlyServerURL": "https://plot.ly"
       },
       "data": [
        {
         "hovertemplate": "variable=batch_train_loss<br>lr=%{x}<br>value=%{y}<extra></extra>",
         "legendgroup": "",
         "line": {
          "color": "#636efa",
          "dash": "solid"
         },
         "marker": {
          "symbol": "circle"
         },
         "mode": "lines",
         "name": "",
         "showlegend": false,
         "type": "scattergl",
         "x": {
          "bdata": "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",
          "dtype": "f8"
         },
         "xaxis": "x3",
         "y": {
          "bdata": "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",
          "dtype": "f8"
         },
         "yaxis": "y3"
        },
        {
         "hovertemplate": "variable=ewm_batch_train_loss<br>lr=%{x}<br>value=%{y}<extra></extra>",
         "legendgroup": "",
         "line": {
          "color": "#636efa",
          "dash": "solid"
         },
         "marker": {
          "symbol": "circle"
         },
         "mode": "lines",
         "name": "",
         "showlegend": false,
         "type": "scattergl",
         "x": {
          "bdata": "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",
          "dtype": "f8"
         },
         "xaxis": "x2",
         "y": {
          "bdata": "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",
          "dtype": "f8"
         },
         "yaxis": "y2"
        },
        {
         "hovertemplate": "variable=ewm_batch_train_loss_diff<br>lr=%{x}<br>value=%{y}<extra></extra>",
         "legendgroup": "",
         "line": {
          "color": "#636efa",
          "dash": "solid"
         },
         "marker": {
          "symbol": "circle"
         },
         "mode": "lines",
         "name": "",
         "showlegend": false,
         "type": "scattergl",
         "x": {
          "bdata": "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",
          "dtype": "f8"
         },
         "xaxis": "x",
         "y": {
          "bdata": "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",
          "dtype": "f8"
         },
         "yaxis": "y"
        }
       ],
       "layout": {
        "annotations": [
         {
          "font": {},
          "showarrow": false,
          "text": "variable=ewm_batch_train_loss_diff",
          "textangle": 90,
          "x": 0.98,
          "xanchor": "left",
          "xref": "paper",
          "y": 0.15666666666666665,
          "yanchor": "middle",
          "yref": "paper"
         },
         {
          "font": {},
          "showarrow": false,
          "text": "variable=ewm_batch_train_loss",
          "textangle": 90,
          "x": 0.98,
          "xanchor": "left",
          "xref": "paper",
          "y": 0.4999999999999999,
          "yanchor": "middle",
          "yref": "paper"
         },
         {
          "font": {},
          "showarrow": false,
          "text": "variable=batch_train_loss",
          "textangle": 90,
          "x": 0.98,
          "xanchor": "left",
          "xref": "paper",
          "y": 0.8433333333333332,
          "yanchor": "middle",
          "yref": "paper"
         }
        ],
        "height": 750,
        "legend": {
         "tracegroupgap": 0
        },
        "margin": {
         "t": 60
        },
        "template": {
         "data": {
          "bar": [
           {
            "error_x": {
             "color": "#2a3f5f"
            },
            "error_y": {
             "color": "#2a3f5f"
            },
            "marker": {
             "line": {
              "color": "#E5ECF6",
              "width": 0.5
             },
             "pattern": {
              "fillmode": "overlay",
              "size": 10,
              "solidity": 0.2
             }
            },
            "type": "bar"
           }
          ],
          "barpolar": [
           {
            "marker": {
             "line": {
              "color": "#E5ECF6",
              "width": 0.5
             },
             "pattern": {
              "fillmode": "overlay",
              "size": 10,
              "solidity": 0.2
             }
            },
            "type": "barpolar"
           }
          ],
          "carpet": [
           {
            "aaxis": {
             "endlinecolor": "#2a3f5f",
             "gridcolor": "white",
             "linecolor": "white",
             "minorgridcolor": "white",
             "startlinecolor": "#2a3f5f"
            },
            "baxis": {
             "endlinecolor": "#2a3f5f",
             "gridcolor": "white",
             "linecolor": "white",
             "minorgridcolor": "white",
             "startlinecolor": "#2a3f5f"
            },
            "type": "carpet"
           }
          ],
          "choropleth": [
           {
            "colorbar": {
             "outlinewidth": 0,
             "ticks": ""
            },
            "type": "choropleth"
           }
          ],
          "contour": [
           {
            "colorbar": {
             "outlinewidth": 0,
             "ticks": ""
            },
            "colorscale": [
             [
              0,
              "#0d0887"
             ],
             [
              0.1111111111111111,
              "#46039f"
             ],
             [
              0.2222222222222222,
              "#7201a8"
             ],
             [
              0.3333333333333333,
              "#9c179e"
             ],
             [
              0.4444444444444444,
              "#bd3786"
             ],
             [
              0.5555555555555556,
              "#d8576b"
             ],
             [
              0.6666666666666666,
              "#ed7953"
             ],
             [
              0.7777777777777778,
              "#fb9f3a"
             ],
             [
              0.8888888888888888,
              "#fdca26"
             ],
             [
              1,
              "#f0f921"
             ]
            ],
            "type": "contour"
           }
          ],
          "contourcarpet": [
           {
            "colorbar": {
             "outlinewidth": 0,
             "ticks": ""
            },
            "type": "contourcarpet"
           }
          ],
          "heatmap": [
           {
            "colorbar": {
             "outlinewidth": 0,
             "ticks": ""
            },
            "colorscale": [
             [
              0,
              "#0d0887"
             ],
             [
              0.1111111111111111,
              "#46039f"
             ],
             [
              0.2222222222222222,
              "#7201a8"
             ],
             [
              0.3333333333333333,
              "#9c179e"
             ],
             [
              0.4444444444444444,
              "#bd3786"
             ],
             [
              0.5555555555555556,
              "#d8576b"
             ],
             [
              0.6666666666666666,
              "#ed7953"
             ],
             [
              0.7777777777777778,
              "#fb9f3a"
             ],
             [
              0.8888888888888888,
              "#fdca26"
             ],
             [
              1,
              "#f0f921"
             ]
            ],
            "type": "heatmap"
           }
          ],
          "histogram": [
           {
            "marker": {
             "pattern": {
              "fillmode": "overlay",
              "size": 10,
              "solidity": 0.2
             }
            },
            "type": "histogram"
           }
          ],
          "histogram2d": [
           {
            "colorbar": {
             "outlinewidth": 0,
             "ticks": ""
            },
            "colorscale": [
             [
              0,
              "#0d0887"
             ],
             [
              0.1111111111111111,
              "#46039f"
             ],
             [
              0.2222222222222222,
              "#7201a8"
             ],
             [
              0.3333333333333333,
              "#9c179e"
             ],
             [
              0.4444444444444444,
              "#bd3786"
             ],
             [
              0.5555555555555556,
              "#d8576b"
             ],
             [
              0.6666666666666666,
              "#ed7953"
             ],
             [
              0.7777777777777778,
              "#fb9f3a"
             ],
             [
              0.8888888888888888,
              "#fdca26"
             ],
             [
              1,
              "#f0f921"
             ]
            ],
            "type": "histogram2d"
           }
          ],
          "histogram2dcontour": [
           {
            "colorbar": {
             "outlinewidth": 0,
             "ticks": ""
            },
            "colorscale": [
             [
              0,
              "#0d0887"
             ],
             [
              0.1111111111111111,
              "#46039f"
             ],
             [
              0.2222222222222222,
              "#7201a8"
             ],
             [
              0.3333333333333333,
              "#9c179e"
             ],
             [
              0.4444444444444444,
              "#bd3786"
             ],
             [
              0.5555555555555556,
              "#d8576b"
             ],
             [
              0.6666666666666666,
              "#ed7953"
             ],
             [
              0.7777777777777778,
              "#fb9f3a"
             ],
             [
              0.8888888888888888,
              "#fdca26"
             ],
             [
              1,
              "#f0f921"
             ]
            ],
            "type": "histogram2dcontour"
           }
          ],
          "mesh3d": [
           {
            "colorbar": {
             "outlinewidth": 0,
             "ticks": ""
            },
            "type": "mesh3d"
           }
          ],
          "parcoords": [
           {
            "line": {
             "colorbar": {
              "outlinewidth": 0,
              "ticks": ""
             }
            },
            "type": "parcoords"
           }
          ],
          "pie": [
           {
            "automargin": true,
            "type": "pie"
           }
          ],
          "scatter": [
           {
            "fillpattern": {
             "fillmode": "overlay",
             "size": 10,
             "solidity": 0.2
            },
            "type": "scatter"
           }
          ],
          "scatter3d": [
           {
            "line": {
             "colorbar": {
              "outlinewidth": 0,
              "ticks": ""
             }
            },
            "marker": {
             "colorbar": {
              "outlinewidth": 0,
              "ticks": ""
             }
            },
            "type": "scatter3d"
           }
          ],
          "scattercarpet": [
           {
            "marker": {
             "colorbar": {
              "outlinewidth": 0,
              "ticks": ""
             }
            },
            "type": "scattercarpet"
           }
          ],
          "scattergeo": [
           {
            "marker": {
             "colorbar": {
              "outlinewidth": 0,
              "ticks": ""
             }
            },
            "type": "scattergeo"
           }
          ],
          "scattergl": [
           {
            "marker": {
             "colorbar": {
              "outlinewidth": 0,
              "ticks": ""
             }
            },
            "type": "scattergl"
           }
          ],
          "scattermap": [
           {
            "marker": {
             "colorbar": {
              "outlinewidth": 0,
              "ticks": ""
             }
            },
            "type": "scattermap"
           }
          ],
          "scattermapbox": [
           {
            "marker": {
             "colorbar": {
              "outlinewidth": 0,
              "ticks": ""
             }
            },
            "type": "scattermapbox"
           }
          ],
          "scatterpolar": [
           {
            "marker": {
             "colorbar": {
              "outlinewidth": 0,
              "ticks": ""
             }
            },
            "type": "scatterpolar"
           }
          ],
          "scatterpolargl": [
           {
            "marker": {
             "colorbar": {
              "outlinewidth": 0,
              "ticks": ""
             }
            },
            "type": "scatterpolargl"
           }
          ],
          "scatterternary": [
           {
            "marker": {
             "colorbar": {
              "outlinewidth": 0,
              "ticks": ""
             }
            },
            "type": "scatterternary"
           }
          ],
          "surface": [
           {
            "colorbar": {
             "outlinewidth": 0,
             "ticks": ""
            },
            "colorscale": [
             [
              0,
              "#0d0887"
             ],
             [
              0.1111111111111111,
              "#46039f"
             ],
             [
              0.2222222222222222,
              "#7201a8"
             ],
             [
              0.3333333333333333,
              "#9c179e"
             ],
             [
              0.4444444444444444,
              "#bd3786"
             ],
             [
              0.5555555555555556,
              "#d8576b"
             ],
             [
              0.6666666666666666,
              "#ed7953"
             ],
             [
              0.7777777777777778,
              "#fb9f3a"
             ],
             [
              0.8888888888888888,
              "#fdca26"
             ],
             [
              1,
              "#f0f921"
             ]
            ],
            "type": "surface"
           }
          ],
          "table": [
           {
            "cells": {
             "fill": {
              "color": "#EBF0F8"
             },
             "line": {
              "color": "white"
             }
            },
            "header": {
             "fill": {
              "color": "#C8D4E3"
             },
             "line": {
              "color": "white"
             }
            },
            "type": "table"
           }
          ]
         },
         "layout": {
          "annotationdefaults": {
           "arrowcolor": "#2a3f5f",
           "arrowhead": 0,
           "arrowwidth": 1
          },
          "autotypenumbers": "strict",
          "coloraxis": {
           "colorbar": {
            "outlinewidth": 0,
            "ticks": ""
           }
          },
          "colorscale": {
           "diverging": [
            [
             0,
             "#8e0152"
            ],
            [
             0.1,
             "#c51b7d"
            ],
            [
             0.2,
             "#de77ae"
            ],
            [
             0.3,
             "#f1b6da"
            ],
            [
             0.4,
             "#fde0ef"
            ],
            [
             0.5,
             "#f7f7f7"
            ],
            [
             0.6,
             "#e6f5d0"
            ],
            [
             0.7,
             "#b8e186"
            ],
            [
             0.8,
             "#7fbc41"
            ],
            [
             0.9,
             "#4d9221"
            ],
            [
             1,
             "#276419"
            ]
           ],
           "sequential": [
            [
             0,
             "#0d0887"
            ],
            [
             0.1111111111111111,
             "#46039f"
            ],
            [
             0.2222222222222222,
             "#7201a8"
            ],
            [
             0.3333333333333333,
             "#9c179e"
            ],
            [
             0.4444444444444444,
             "#bd3786"
            ],
            [
             0.5555555555555556,
             "#d8576b"
            ],
            [
             0.6666666666666666,
             "#ed7953"
            ],
            [
             0.7777777777777778,
             "#fb9f3a"
            ],
            [
             0.8888888888888888,
             "#fdca26"
            ],
            [
             1,
             "#f0f921"
            ]
           ],
           "sequentialminus": [
            [
             0,
             "#0d0887"
            ],
            [
             0.1111111111111111,
             "#46039f"
            ],
            [
             0.2222222222222222,
             "#7201a8"
            ],
            [
             0.3333333333333333,
             "#9c179e"
            ],
            [
             0.4444444444444444,
             "#bd3786"
            ],
            [
             0.5555555555555556,
             "#d8576b"
            ],
            [
             0.6666666666666666,
             "#ed7953"
            ],
            [
             0.7777777777777778,
             "#fb9f3a"
            ],
            [
             0.8888888888888888,
             "#fdca26"
            ],
            [
             1,
             "#f0f921"
            ]
           ]
          },
          "colorway": [
           "#636efa",
           "#EF553B",
           "#00cc96",
           "#ab63fa",
           "#FFA15A",
           "#19d3f3",
           "#FF6692",
           "#B6E880",
           "#FF97FF",
           "#FECB52"
          ],
          "font": {
           "color": "#2a3f5f"
          },
          "geo": {
           "bgcolor": "white",
           "lakecolor": "white",
           "landcolor": "#E5ECF6",
           "showlakes": true,
           "showland": true,
           "subunitcolor": "white"
          },
          "hoverlabel": {
           "align": "left"
          },
          "hovermode": "closest",
          "mapbox": {
           "style": "light"
          },
          "paper_bgcolor": "white",
          "plot_bgcolor": "#E5ECF6",
          "polar": {
           "angularaxis": {
            "gridcolor": "white",
            "linecolor": "white",
            "ticks": ""
           },
           "bgcolor": "#E5ECF6",
           "radialaxis": {
            "gridcolor": "white",
            "linecolor": "white",
            "ticks": ""
           }
          },
          "scene": {
           "xaxis": {
            "backgroundcolor": "#E5ECF6",
            "gridcolor": "white",
            "gridwidth": 2,
            "linecolor": "white",
            "showbackground": true,
            "ticks": "",
            "zerolinecolor": "white"
           },
           "yaxis": {
            "backgroundcolor": "#E5ECF6",
            "gridcolor": "white",
            "gridwidth": 2,
            "linecolor": "white",
            "showbackground": true,
            "ticks": "",
            "zerolinecolor": "white"
           },
           "zaxis": {
            "backgroundcolor": "#E5ECF6",
            "gridcolor": "white",
            "gridwidth": 2,
            "linecolor": "white",
            "showbackground": true,
            "ticks": "",
            "zerolinecolor": "white"
           }
          },
          "shapedefaults": {
           "line": {
            "color": "#2a3f5f"
           }
          },
          "ternary": {
           "aaxis": {
            "gridcolor": "white",
            "linecolor": "white",
            "ticks": ""
           },
           "baxis": {
            "gridcolor": "white",
            "linecolor": "white",
            "ticks": ""
           },
           "bgcolor": "#E5ECF6",
           "caxis": {
            "gridcolor": "white",
            "linecolor": "white",
            "ticks": ""
           }
          },
          "title": {
           "x": 0.05
          },
          "xaxis": {
           "automargin": true,
           "gridcolor": "white",
           "linecolor": "white",
           "ticks": "",
           "title": {
            "standoff": 15
           },
           "zerolinecolor": "white",
           "zerolinewidth": 2
          },
          "yaxis": {
           "automargin": true,
           "gridcolor": "white",
           "linecolor": "white",
           "ticks": "",
           "title": {
            "standoff": 15
           },
           "zerolinecolor": "white",
           "zerolinewidth": 2
          }
         }
        },
        "xaxis": {
         "anchor": "y",
         "domain": [
          0,
          0.98
         ],
         "title": {
          "text": "lr"
         },
         "type": "log"
        },
        "xaxis2": {
         "anchor": "y2",
         "domain": [
          0,
          0.98
         ],
         "matches": "x",
         "showticklabels": false,
         "type": "log"
        },
        "xaxis3": {
         "anchor": "y3",
         "domain": [
          0,
          0.98
         ],
         "matches": "x",
         "showticklabels": false,
         "type": "log"
        },
        "yaxis": {
         "anchor": "x",
         "domain": [
          0,
          0.3133333333333333
         ],
         "title": {
          "text": "value"
         },
         "type": "log"
        },
        "yaxis2": {
         "anchor": "x2",
         "domain": [
          0.34333333333333327,
          0.6566666666666665
         ],
         "title": {
          "text": "value"
         },
         "type": "log"
        },
        "yaxis3": {
         "anchor": "x3",
         "domain": [
          0.6866666666666665,
          0.9999999999999998
         ],
         "title": {
          "text": "value"
         },
         "type": "log"
        }
       }
      }
     },
     "metadata": {},
     "output_type": "display_data"
    },
    {
     "name": "stdout",
     "output_type": "stream",
     "text": [
      "Maximum learning rate: 0.002361045271265381\n"
     ]
    }
   ],
   "source": [
    "_, mock_training_metrics, _ = mk_model_and_fit(\n",
    "    full_dataset_loader,\n",
    "    partial(torch.optim.lr_scheduler.ExponentialLR, gamma=MOCK_TRAINING_GAMMA),\n",
    ")\n",
    "mock_training_metrics = post_process_mock_training_metrics(mock_training_metrics)\n",
    "plt_lr_search_training_metrics(mock_training_metrics)\n",
    "max_lr = mock_training_metrics[\"ewm_batch_train_loss\"].idxmin()\n",
    "print(\"Maximum learning rate:\", max_lr)"
   ]
  },
  {
   "cell_type": "markdown",
   "id": "92bee315",
   "metadata": {},
   "source": [
    "## Cross validation training"
   ]
  },
  {
   "cell_type": "code",
   "execution_count": 101,
   "id": "bebd75bd",
   "metadata": {},
   "outputs": [],
   "source": [
    "def plt_cross_validation_training_metrics(training_metrics:DF):\n",
    "    (\n",
    "        px.line(\n",
    "            (\n",
    "                training_metrics\n",
    "                .query(\"validation_loss.notna()\")\n",
    "                .melt(\n",
    "                    id_vars=\"epoch\",\n",
    "                    value_vars=['train_epoch_accuracy', 'validation_accuracy', \"competition_score\"]\n",
    "                )\n",
    "            ),\n",
    "            x=\"epoch\",\n",
    "            y=\"value\",\n",
    "            color=\"variable\",\n",
    "            facet_row=\"variable\",\n",
    "            title=\"epoch metrics\",\n",
    "            render_mode=\"line+marker\",\n",
    "        ).update_yaxes(matches=None)\n",
    "        .show()\n",
    "    )"
   ]
  },
  {
   "cell_type": "code",
   "execution_count": 108,
   "id": "a711c430",
   "metadata": {},
   "outputs": [
    {
     "name": "stdout",
     "output_type": "stream",
     "text": [
      "training: 1\n"
     ]
    },
    {
     "data": {
      "application/vnd.jupyter.widget-view+json": {
       "model_id": "674971cabbf94f66b5946f128e5678b2",
       "version_major": 2,
       "version_minor": 0
      },
      "text/plain": [
       "Output()"
      ]
     },
     "metadata": {},
     "output_type": "display_data"
    },
    {
     "data": {
      "text/html": [
       "<pre style=\"white-space:pre;overflow-x:auto;line-height:normal;font-family:Menlo,'DejaVu Sans Mono',consolas,'Courier New',monospace\"></pre>\n"
      ],
      "text/plain": []
     },
     "metadata": {},
     "output_type": "display_data"
    },
    {
     "data": {
      "application/vnd.plotly.v1+json": {
       "config": {
        "plotlyServerURL": "https://plot.ly"
       },
       "data": [
        {
         "hovertemplate": "variable=train_epoch_accuracy<br>epoch=%{x}<br>value=%{y}<extra></extra>",
         "legendgroup": "train_epoch_accuracy",
         "line": {
          "color": "#636efa",
          "dash": "solid"
         },
         "marker": {
          "symbol": "circle"
         },
         "mode": "lines",
         "name": "train_epoch_accuracy",
         "orientation": "v",
         "showlegend": true,
         "type": "scatter",
         "x": {
          "bdata": "AAECAwQFBgcICQoLDA0ODxAREhMUFRYXGBkaGxwdHh8gISIjJCUmJygpKissLS4vMDEyMzQ1Njc4OTo7",
          "dtype": "i1"
         },
         "xaxis": "x3",
         "y": {
          "bdata": "i+JVi+LVzT9Q1BdQ1DfZPzBa/S9avd8/J1/jJl+j4T+U3W+U3T/jP3y8x3u8R+Q/dcB/dMDf5D9QvZhPvfjkP7rgVrng9uQ/LEXaK0XK5D/rIqfqIofkP747Jb07peQ/yTURyDUR5D//XVj+XTjkP2v0kWr00eM/ruZqruaq4z/UdHrUdJrjP4AXln8XFuQ/pDIqozL64z9HfNNGfDPjPzualDqa9OM/i26sim4s5D/1kWr0kTrkP/51Bf11peQ/Vi64VS7Y5D8LQJcKQKfkP2T4SWP4GeU/OYRDOISz5T/czezbzdzlP4rjg4njk+U/OYRDOITT5T/mmdrlmWrmPzYRyDURyOY/K7qxKrqx5j+HcAiHcPjmP4xW/4tWD+c/tj/dtT9t5z8Hnx0Hn43nPyoviSkvuec/hf2MhP285z/kJl/jJt/nP7yw/Luw7Oc/9GNs82MM6D/0Y2zzYxzoP0y/9Eu/JOg/73117n016D+0zGGzzFHoP/nsOPjsSOg/20LE2kJU6D9uxDdtxFfoP9JeKdJeWeg/uyXUuiVk6D9sOQ9sOV/oP47hJ43hV+g/xAlvwwlv6D8f2HIe2GLoP4/Jeo7Jaug/dR2qdB1q6D9LNMxKNGzoP/xHB/xHZ+g/",
          "dtype": "f8"
         },
         "yaxis": "y3"
        },
        {
         "hovertemplate": "variable=validation_accuracy<br>epoch=%{x}<br>value=%{y}<extra></extra>",
         "legendgroup": "validation_accuracy",
         "line": {
          "color": "#EF553B",
          "dash": "solid"
         },
         "marker": {
          "symbol": "circle"
         },
         "mode": "lines",
         "name": "validation_accuracy",
         "orientation": "v",
         "showlegend": true,
         "type": "scatter",
         "x": {
          "bdata": "AAECAwQFBgcICQoLDA0ODxAREhMUFRYXGBkaGxwdHh8gISIjJCUmJygpKissLS4vMDEyMzQ1Njc4OTo7",
          "dtype": "i1"
         },
         "xaxis": "x2",
         "y": {
          "bdata": "btu2bdu2zz8NwzAMw/DTP3qe53meJ9U/YRiGYRgG1z/DMAzDMEzUP4ZhGIZh2NY/t23btm1b1z8AAAAAAADUP3qe53meJ9g/n+d5nud51j/DMAzDMAzVP0mSJEmSJNY/JUmSJEmS1T9WVVVVVZXYP2EYhmEYxtc/t23btm0b1j8YhmEYhiHVP6qqqqqq6tY/qqqqqqrq1D/oeZ7neV7YP3qe53me59Y/t23btm2b1z/oeZ7neZ7WP/M8z/M8j9g/hmEYhmGY2D/DMAzDMMzXPz3P8zzPs9k/qqqqqqpq2j8AAAAAAMDZP7dt27Ztm9k/n+d5nuf52T9JkiRJkmTbP9u2bdu2Ldo/hmEYhmGY2j/btm3btu3aP8/zPM/z/No/n+d5nue52z8xDMMwDIPbPwAAAAAAwNs/JUmSJEkS2z+SJEmSJInaP27btm3btto/SZIkSZIk2z/DMAzDMMzaP/M8z/M8j9o/MQzDMAyD2j+SJEmSJMnaP/M8z/M8D9s/wzAMwzAM2z9hGIZhGMbaPxiGYRiG4do/YRiGYRjG2j9WVVVVVdXaPxiGYRiG4do/GIZhGIbh2j/P8zzP87zaP4ZhGIZh2No/AAAAAADA2j+qqqqqquraPxiGYRiG4do/",
          "dtype": "f8"
         },
         "yaxis": "y2"
        },
        {
         "hovertemplate": "variable=competition_score<br>epoch=%{x}<br>value=%{y}<extra></extra>",
         "legendgroup": "competition_score",
         "line": {
          "color": "#00cc96",
          "dash": "solid"
         },
         "marker": {
          "symbol": "circle"
         },
         "mode": "lines",
         "name": "competition_score",
         "orientation": "v",
         "showlegend": true,
         "type": "scatter",
         "x": {
          "bdata": "AAECAwQFBgcICQoLDA0ODxAREhMUFRYXGBkaGxwdHh8gISIjJCUmJygpKissLS4vMDEyMzQ1Njc4OTo7",
          "dtype": "i1"
         },
         "xaxis": "x",
         "y": {
          "bdata": "TpyAW0+l3j+bkgJojobhP9bVmS6ZWOI/4qvxqn954j+yknbXfEfiP8JeiZ0GZOI/wipo3Hm54j+lKinavfnhP8Bde8Y0ieM/eHhdSwsc4j9AFcLFg0HgPxwryVDnYuE/DaTkLy1H4j8aNTGuXNjiP9cqggyGeOI/P11TFqKM4T9MijlcdZjhPyXsexKEyOI/YlK90A5B4j8wRccMsTLjP2BtdOwYnOI/GM1Vg71q4j+TrL0k4F/hP2TNDH03B+I/HyGBz81r4z8Ys5V0xfniP0St55BwMeM/cvsTusXq4z9kRVaoxuXiP3ljAFWmWOM/wq+k0cYb5D8j9yxyyjXkPy7k8krNqeM/ybALvomc4z/5IqB40BzkPwJZxMiC4eM/VkhkfOru4z8XZa77r+7jP3eaUJ4OK+Q/GsS7Q/v/4z/oOjJhP8fjP2fRyT+zjeM/BQBhSAav4z8M0zrkXZjjP0Fwlyl8uOM/41LNafSe4z/mS2h2VJbjP34jyJBlvOM/CmrY0a3R4z+k5QvsP7njPzaeYf8rvOM/eg/88Tq34z8h5bz308bjP89ZLfbPy+M/lxQMTqnB4z+We+Unt7LjPzxMRBI/wOM/qIpbO2G84z8e04QnwcjjP0Dr3pK9xuM/",
          "dtype": "f8"
         },
         "yaxis": "y"
        }
       ],
       "layout": {
        "annotations": [
         {
          "font": {},
          "showarrow": false,
          "text": "variable=competition_score",
          "textangle": 90,
          "x": 0.98,
          "xanchor": "left",
          "xref": "paper",
          "y": 0.15666666666666665,
          "yanchor": "middle",
          "yref": "paper"
         },
         {
          "font": {},
          "showarrow": false,
          "text": "variable=validation_accuracy",
          "textangle": 90,
          "x": 0.98,
          "xanchor": "left",
          "xref": "paper",
          "y": 0.4999999999999999,
          "yanchor": "middle",
          "yref": "paper"
         },
         {
          "font": {},
          "showarrow": false,
          "text": "variable=train_epoch_accuracy",
          "textangle": 90,
          "x": 0.98,
          "xanchor": "left",
          "xref": "paper",
          "y": 0.8433333333333332,
          "yanchor": "middle",
          "yref": "paper"
         }
        ],
        "legend": {
         "title": {
          "text": "variable"
         },
         "tracegroupgap": 0
        },
        "template": {
         "data": {
          "bar": [
           {
            "error_x": {
             "color": "#2a3f5f"
            },
            "error_y": {
             "color": "#2a3f5f"
            },
            "marker": {
             "line": {
              "color": "#E5ECF6",
              "width": 0.5
             },
             "pattern": {
              "fillmode": "overlay",
              "size": 10,
              "solidity": 0.2
             }
            },
            "type": "bar"
           }
          ],
          "barpolar": [
           {
            "marker": {
             "line": {
              "color": "#E5ECF6",
              "width": 0.5
             },
             "pattern": {
              "fillmode": "overlay",
              "size": 10,
              "solidity": 0.2
             }
            },
            "type": "barpolar"
           }
          ],
          "carpet": [
           {
            "aaxis": {
             "endlinecolor": "#2a3f5f",
             "gridcolor": "white",
             "linecolor": "white",
             "minorgridcolor": "white",
             "startlinecolor": "#2a3f5f"
            },
            "baxis": {
             "endlinecolor": "#2a3f5f",
             "gridcolor": "white",
             "linecolor": "white",
             "minorgridcolor": "white",
             "startlinecolor": "#2a3f5f"
            },
            "type": "carpet"
           }
          ],
          "choropleth": [
           {
            "colorbar": {
             "outlinewidth": 0,
             "ticks": ""
            },
            "type": "choropleth"
           }
          ],
          "contour": [
           {
            "colorbar": {
             "outlinewidth": 0,
             "ticks": ""
            },
            "colorscale": [
             [
              0,
              "#0d0887"
             ],
             [
              0.1111111111111111,
              "#46039f"
             ],
             [
              0.2222222222222222,
              "#7201a8"
             ],
             [
              0.3333333333333333,
              "#9c179e"
             ],
             [
              0.4444444444444444,
              "#bd3786"
             ],
             [
              0.5555555555555556,
              "#d8576b"
             ],
             [
              0.6666666666666666,
              "#ed7953"
             ],
             [
              0.7777777777777778,
              "#fb9f3a"
             ],
             [
              0.8888888888888888,
              "#fdca26"
             ],
             [
              1,
              "#f0f921"
             ]
            ],
            "type": "contour"
           }
          ],
          "contourcarpet": [
           {
            "colorbar": {
             "outlinewidth": 0,
             "ticks": ""
            },
            "type": "contourcarpet"
           }
          ],
          "heatmap": [
           {
            "colorbar": {
             "outlinewidth": 0,
             "ticks": ""
            },
            "colorscale": [
             [
              0,
              "#0d0887"
             ],
             [
              0.1111111111111111,
              "#46039f"
             ],
             [
              0.2222222222222222,
              "#7201a8"
             ],
             [
              0.3333333333333333,
              "#9c179e"
             ],
             [
              0.4444444444444444,
              "#bd3786"
             ],
             [
              0.5555555555555556,
              "#d8576b"
             ],
             [
              0.6666666666666666,
              "#ed7953"
             ],
             [
              0.7777777777777778,
              "#fb9f3a"
             ],
             [
              0.8888888888888888,
              "#fdca26"
             ],
             [
              1,
              "#f0f921"
             ]
            ],
            "type": "heatmap"
           }
          ],
          "histogram": [
           {
            "marker": {
             "pattern": {
              "fillmode": "overlay",
              "size": 10,
              "solidity": 0.2
             }
            },
            "type": "histogram"
           }
          ],
          "histogram2d": [
           {
            "colorbar": {
             "outlinewidth": 0,
             "ticks": ""
            },
            "colorscale": [
             [
              0,
              "#0d0887"
             ],
             [
              0.1111111111111111,
              "#46039f"
             ],
             [
              0.2222222222222222,
              "#7201a8"
             ],
             [
              0.3333333333333333,
              "#9c179e"
             ],
             [
              0.4444444444444444,
              "#bd3786"
             ],
             [
              0.5555555555555556,
              "#d8576b"
             ],
             [
              0.6666666666666666,
              "#ed7953"
             ],
             [
              0.7777777777777778,
              "#fb9f3a"
             ],
             [
              0.8888888888888888,
              "#fdca26"
             ],
             [
              1,
              "#f0f921"
             ]
            ],
            "type": "histogram2d"
           }
          ],
          "histogram2dcontour": [
           {
            "colorbar": {
             "outlinewidth": 0,
             "ticks": ""
            },
            "colorscale": [
             [
              0,
              "#0d0887"
             ],
             [
              0.1111111111111111,
              "#46039f"
             ],
             [
              0.2222222222222222,
              "#7201a8"
             ],
             [
              0.3333333333333333,
              "#9c179e"
             ],
             [
              0.4444444444444444,
              "#bd3786"
             ],
             [
              0.5555555555555556,
              "#d8576b"
             ],
             [
              0.6666666666666666,
              "#ed7953"
             ],
             [
              0.7777777777777778,
              "#fb9f3a"
             ],
             [
              0.8888888888888888,
              "#fdca26"
             ],
             [
              1,
              "#f0f921"
             ]
            ],
            "type": "histogram2dcontour"
           }
          ],
          "mesh3d": [
           {
            "colorbar": {
             "outlinewidth": 0,
             "ticks": ""
            },
            "type": "mesh3d"
           }
          ],
          "parcoords": [
           {
            "line": {
             "colorbar": {
              "outlinewidth": 0,
              "ticks": ""
             }
            },
            "type": "parcoords"
           }
          ],
          "pie": [
           {
            "automargin": true,
            "type": "pie"
           }
          ],
          "scatter": [
           {
            "fillpattern": {
             "fillmode": "overlay",
             "size": 10,
             "solidity": 0.2
            },
            "type": "scatter"
           }
          ],
          "scatter3d": [
           {
            "line": {
             "colorbar": {
              "outlinewidth": 0,
              "ticks": ""
             }
            },
            "marker": {
             "colorbar": {
              "outlinewidth": 0,
              "ticks": ""
             }
            },
            "type": "scatter3d"
           }
          ],
          "scattercarpet": [
           {
            "marker": {
             "colorbar": {
              "outlinewidth": 0,
              "ticks": ""
             }
            },
            "type": "scattercarpet"
           }
          ],
          "scattergeo": [
           {
            "marker": {
             "colorbar": {
              "outlinewidth": 0,
              "ticks": ""
             }
            },
            "type": "scattergeo"
           }
          ],
          "scattergl": [
           {
            "marker": {
             "colorbar": {
              "outlinewidth": 0,
              "ticks": ""
             }
            },
            "type": "scattergl"
           }
          ],
          "scattermap": [
           {
            "marker": {
             "colorbar": {
              "outlinewidth": 0,
              "ticks": ""
             }
            },
            "type": "scattermap"
           }
          ],
          "scattermapbox": [
           {
            "marker": {
             "colorbar": {
              "outlinewidth": 0,
              "ticks": ""
             }
            },
            "type": "scattermapbox"
           }
          ],
          "scatterpolar": [
           {
            "marker": {
             "colorbar": {
              "outlinewidth": 0,
              "ticks": ""
             }
            },
            "type": "scatterpolar"
           }
          ],
          "scatterpolargl": [
           {
            "marker": {
             "colorbar": {
              "outlinewidth": 0,
              "ticks": ""
             }
            },
            "type": "scatterpolargl"
           }
          ],
          "scatterternary": [
           {
            "marker": {
             "colorbar": {
              "outlinewidth": 0,
              "ticks": ""
             }
            },
            "type": "scatterternary"
           }
          ],
          "surface": [
           {
            "colorbar": {
             "outlinewidth": 0,
             "ticks": ""
            },
            "colorscale": [
             [
              0,
              "#0d0887"
             ],
             [
              0.1111111111111111,
              "#46039f"
             ],
             [
              0.2222222222222222,
              "#7201a8"
             ],
             [
              0.3333333333333333,
              "#9c179e"
             ],
             [
              0.4444444444444444,
              "#bd3786"
             ],
             [
              0.5555555555555556,
              "#d8576b"
             ],
             [
              0.6666666666666666,
              "#ed7953"
             ],
             [
              0.7777777777777778,
              "#fb9f3a"
             ],
             [
              0.8888888888888888,
              "#fdca26"
             ],
             [
              1,
              "#f0f921"
             ]
            ],
            "type": "surface"
           }
          ],
          "table": [
           {
            "cells": {
             "fill": {
              "color": "#EBF0F8"
             },
             "line": {
              "color": "white"
             }
            },
            "header": {
             "fill": {
              "color": "#C8D4E3"
             },
             "line": {
              "color": "white"
             }
            },
            "type": "table"
           }
          ]
         },
         "layout": {
          "annotationdefaults": {
           "arrowcolor": "#2a3f5f",
           "arrowhead": 0,
           "arrowwidth": 1
          },
          "autotypenumbers": "strict",
          "coloraxis": {
           "colorbar": {
            "outlinewidth": 0,
            "ticks": ""
           }
          },
          "colorscale": {
           "diverging": [
            [
             0,
             "#8e0152"
            ],
            [
             0.1,
             "#c51b7d"
            ],
            [
             0.2,
             "#de77ae"
            ],
            [
             0.3,
             "#f1b6da"
            ],
            [
             0.4,
             "#fde0ef"
            ],
            [
             0.5,
             "#f7f7f7"
            ],
            [
             0.6,
             "#e6f5d0"
            ],
            [
             0.7,
             "#b8e186"
            ],
            [
             0.8,
             "#7fbc41"
            ],
            [
             0.9,
             "#4d9221"
            ],
            [
             1,
             "#276419"
            ]
           ],
           "sequential": [
            [
             0,
             "#0d0887"
            ],
            [
             0.1111111111111111,
             "#46039f"
            ],
            [
             0.2222222222222222,
             "#7201a8"
            ],
            [
             0.3333333333333333,
             "#9c179e"
            ],
            [
             0.4444444444444444,
             "#bd3786"
            ],
            [
             0.5555555555555556,
             "#d8576b"
            ],
            [
             0.6666666666666666,
             "#ed7953"
            ],
            [
             0.7777777777777778,
             "#fb9f3a"
            ],
            [
             0.8888888888888888,
             "#fdca26"
            ],
            [
             1,
             "#f0f921"
            ]
           ],
           "sequentialminus": [
            [
             0,
             "#0d0887"
            ],
            [
             0.1111111111111111,
             "#46039f"
            ],
            [
             0.2222222222222222,
             "#7201a8"
            ],
            [
             0.3333333333333333,
             "#9c179e"
            ],
            [
             0.4444444444444444,
             "#bd3786"
            ],
            [
             0.5555555555555556,
             "#d8576b"
            ],
            [
             0.6666666666666666,
             "#ed7953"
            ],
            [
             0.7777777777777778,
             "#fb9f3a"
            ],
            [
             0.8888888888888888,
             "#fdca26"
            ],
            [
             1,
             "#f0f921"
            ]
           ]
          },
          "colorway": [
           "#636efa",
           "#EF553B",
           "#00cc96",
           "#ab63fa",
           "#FFA15A",
           "#19d3f3",
           "#FF6692",
           "#B6E880",
           "#FF97FF",
           "#FECB52"
          ],
          "font": {
           "color": "#2a3f5f"
          },
          "geo": {
           "bgcolor": "white",
           "lakecolor": "white",
           "landcolor": "#E5ECF6",
           "showlakes": true,
           "showland": true,
           "subunitcolor": "white"
          },
          "hoverlabel": {
           "align": "left"
          },
          "hovermode": "closest",
          "mapbox": {
           "style": "light"
          },
          "paper_bgcolor": "white",
          "plot_bgcolor": "#E5ECF6",
          "polar": {
           "angularaxis": {
            "gridcolor": "white",
            "linecolor": "white",
            "ticks": ""
           },
           "bgcolor": "#E5ECF6",
           "radialaxis": {
            "gridcolor": "white",
            "linecolor": "white",
            "ticks": ""
           }
          },
          "scene": {
           "xaxis": {
            "backgroundcolor": "#E5ECF6",
            "gridcolor": "white",
            "gridwidth": 2,
            "linecolor": "white",
            "showbackground": true,
            "ticks": "",
            "zerolinecolor": "white"
           },
           "yaxis": {
            "backgroundcolor": "#E5ECF6",
            "gridcolor": "white",
            "gridwidth": 2,
            "linecolor": "white",
            "showbackground": true,
            "ticks": "",
            "zerolinecolor": "white"
           },
           "zaxis": {
            "backgroundcolor": "#E5ECF6",
            "gridcolor": "white",
            "gridwidth": 2,
            "linecolor": "white",
            "showbackground": true,
            "ticks": "",
            "zerolinecolor": "white"
           }
          },
          "shapedefaults": {
           "line": {
            "color": "#2a3f5f"
           }
          },
          "ternary": {
           "aaxis": {
            "gridcolor": "white",
            "linecolor": "white",
            "ticks": ""
           },
           "baxis": {
            "gridcolor": "white",
            "linecolor": "white",
            "ticks": ""
           },
           "bgcolor": "#E5ECF6",
           "caxis": {
            "gridcolor": "white",
            "linecolor": "white",
            "ticks": ""
           }
          },
          "title": {
           "x": 0.05
          },
          "xaxis": {
           "automargin": true,
           "gridcolor": "white",
           "linecolor": "white",
           "ticks": "",
           "title": {
            "standoff": 15
           },
           "zerolinecolor": "white",
           "zerolinewidth": 2
          },
          "yaxis": {
           "automargin": true,
           "gridcolor": "white",
           "linecolor": "white",
           "ticks": "",
           "title": {
            "standoff": 15
           },
           "zerolinecolor": "white",
           "zerolinewidth": 2
          }
         }
        },
        "title": {
         "text": "epoch metrics"
        },
        "xaxis": {
         "anchor": "y",
         "domain": [
          0,
          0.98
         ],
         "title": {
          "text": "epoch"
         }
        },
        "xaxis2": {
         "anchor": "y2",
         "domain": [
          0,
          0.98
         ],
         "matches": "x",
         "showticklabels": false
        },
        "xaxis3": {
         "anchor": "y3",
         "domain": [
          0,
          0.98
         ],
         "matches": "x",
         "showticklabels": false
        },
        "yaxis": {
         "anchor": "x",
         "domain": [
          0,
          0.3133333333333333
         ],
         "title": {
          "text": "value"
         }
        },
        "yaxis2": {
         "anchor": "x2",
         "domain": [
          0.34333333333333327,
          0.6566666666666665
         ],
         "title": {
          "text": "value"
         }
        },
        "yaxis3": {
         "anchor": "x3",
         "domain": [
          0.6866666666666665,
          0.9999999999999998
         ],
         "title": {
          "text": "value"
         }
        }
       }
      }
     },
     "metadata": {},
     "output_type": "display_data"
    },
    {
     "name": "stdout",
     "output_type": "stream",
     "text": [
      "=========================\n",
      "training: 2\n"
     ]
    },
    {
     "data": {
      "application/vnd.jupyter.widget-view+json": {
       "model_id": "681e77cd62694db7afa36a1e6875f6f0",
       "version_major": 2,
       "version_minor": 0
      },
      "text/plain": [
       "Output()"
      ]
     },
     "metadata": {},
     "output_type": "display_data"
    },
    {
     "data": {
      "text/html": [
       "<pre style=\"white-space:pre;overflow-x:auto;line-height:normal;font-family:Menlo,'DejaVu Sans Mono',consolas,'Courier New',monospace\"></pre>\n"
      ],
      "text/plain": []
     },
     "metadata": {},
     "output_type": "display_data"
    },
    {
     "data": {
      "application/vnd.plotly.v1+json": {
       "config": {
        "plotlyServerURL": "https://plot.ly"
       },
       "data": [
        {
         "hovertemplate": "variable=train_epoch_accuracy<br>epoch=%{x}<br>value=%{y}<extra></extra>",
         "legendgroup": "train_epoch_accuracy",
         "line": {
          "color": "#636efa",
          "dash": "solid"
         },
         "marker": {
          "symbol": "circle"
         },
         "mode": "lines",
         "name": "train_epoch_accuracy",
         "orientation": "v",
         "showlegend": true,
         "type": "scatter",
         "x": {
          "bdata": "AAECAwQFBgcICQoLDA0ODxAREhMUFRYXGBkaGxwdHh8gISIjJCUmJygpKissLS4vMDEyMzQ1Njc4OTo7",
          "dtype": "i1"
         },
         "xaxis": "x3",
         "y": {
          "bdata": "Px8npYUNzT/rgNuEGpXVP2HjAvt8nNg/GxfY5+Mk2z/EOZzDOZzdPy+wz8dJ6d4/YUFJx6fP3z/O4RzO4TzgPwmTMAmTkOA/BJ020GlD4D+nry0OFtTdPxD8wA/8AN4/HkF46g3F3D9vKLrVjoDeP2FBScenD98/3mpHEJ563j+U0sLGBbbdPxAr5HWRatw/L1KJ+x7W2z+Jt6vuHXLeP7tIJe57WN4/NKbJAHOW3z+qNxTdamffPyuGL8Ufad8/Smlh4wKL4D8FsobRfrPgP+knGBxbe+A/kDWM9psi4T8KqIAKqCDhPz9OSgsbp+A/3jskqgjx4D/qPGgdcDvhP5lVJjLvv+E/hRp1HrS+4T9ZlEVZlHXiP84QQDR3ZuI/IvP+u4yo4j/mLJt/xgTjP2Gfj5PSMuM/QGOaDDC34z8HrQNuE/rjP/yR7JUrNuQ/+pZv+ZZv5D8vUon7HqbkP0ppYeMCe+Q/SYM0SIPE5D/J6yKVuO/kPxbyukglHuU/R27kRm5E5T+QZK9cMQzmPwK3CTXqfOY/CtejcD2a5j+rqqqqqrrmPyQ3ciM3Auc/10Uqcd8D5z91HrQOuP3mP17TNV3TBec//MAP/MAP5z8cLCjp+CTnP3YE4ak39OY/",
          "dtype": "f8"
         },
         "yaxis": "y3"
        },
        {
         "hovertemplate": "variable=validation_accuracy<br>epoch=%{x}<br>value=%{y}<extra></extra>",
         "legendgroup": "validation_accuracy",
         "line": {
          "color": "#EF553B",
          "dash": "solid"
         },
         "marker": {
          "symbol": "circle"
         },
         "mode": "lines",
         "name": "validation_accuracy",
         "orientation": "v",
         "showlegend": true,
         "type": "scatter",
         "x": {
          "bdata": "AAECAwQFBgcICQoLDA0ODxAREhMUFRYXGBkaGxwdHh8gISIjJCUmJygpKissLS4vMDEyMzQ1Njc4OTo7",
          "dtype": "i1"
         },
         "xaxis": "x2",
         "y": {
          "bdata": "a5UNR0x7zT/jzhJ285vSPx8a60NjfdI/QNcqG45Y1D9QZCC9P9fSP7v5LQSM0tQ/fmisD4011T9L2M1vISDWP9C1yoYjJtY/wm5+CwHj1D97IgPp/TnSP27btm3bdtM/kiRJkiQJ1T8iA+n9udbVPxuOmPZEhtM/cmcJu/mt0z/iiGlPZODTP4uv+IqvONQ/GUjvz7XK0z8ZSO/PtYrWP3MKXk7Bi9Y/yyl4OQWv1j9u27Zt23bWPz6RgfT+XNY/btu2bdu21T/ZcMS0J/LVP0dMeyID6dU/qSaPO0sY1z9wIWCUanLWP/65VtlwBNc/oGuVDUdM1j/3RAbS+3PWP/65VtlwxNc/Xk7Byym41z/QtcqGI2bWP46Y9kQGUtc/edxZwm5+1z8iA+n9udbXP5mZmZmZWdg/IgPp/blW2D953FnCbn7YPztL2M1vYdg/edxZwm6+2D/ObyFglKrXP4Xd/BYChtg/57cQMEo12T/1/lyrbLjYPzKQ3p9r1dg/edxZwm6+2D+y4YhpT+TZP8Ao1eRxZ9k/4eUUvJwC2j+Cl1PwcsrZPxcCRqkmj9k/8HIKXk4B2j8gvT/XKtvZP7UnMpDen9k/Cbv5LQSM2T/+uVbZcITZP/65VtlwhNk/",
          "dtype": "f8"
         },
         "yaxis": "y2"
        },
        {
         "hovertemplate": "variable=competition_score<br>epoch=%{x}<br>value=%{y}<extra></extra>",
         "legendgroup": "competition_score",
         "line": {
          "color": "#00cc96",
          "dash": "solid"
         },
         "marker": {
          "symbol": "circle"
         },
         "mode": "lines",
         "name": "competition_score",
         "orientation": "v",
         "showlegend": true,
         "type": "scatter",
         "x": {
          "bdata": "AAECAwQFBgcICQoLDA0ODxAREhMUFRYXGBkaGxwdHh8gISIjJCUmJygpKissLS4vMDEyMzQ1Njc4OTo7",
          "dtype": "i1"
         },
         "xaxis": "x",
         "y": {
          "bdata": "hppXP0kh3z/qgprnML/hP7+t0Gyq6uE/e2x5UXV54j9x7HhITVfiP5yBCbZTb+I/IHtjsGT94j/RMGV0XMziP300prj2gOM/yHghf/Cc4j9sg3egm+XhP5mhKVa+4+E/TrHAtvZK4z9S1wunyxXjP34VCGX2XOI/Amu+AF7r4T/BYNxikUfiP1lLsVyIReI/OhyKfTWo4j+CMHlcFc7jP47BaFEel+M/gQavYNE74z9cKWbzjn3jPxCtYiu9g+M/iYfdWciw4z+9ZTQQoc7jP+iG0DA+AOQ/BpYnn2sm5D9DwSTosYvjP5tIF7Hm/uM/6YYEZRH84z8v8bZiHtTjP3PlnlATNOQ/LBguCEx05D/t4C7zG+jjPyvseEaX6uM/K/Tl4X4n5D9CfS70ZG3kPxY4wAh0tuQ/K/TD6TlL5D+XQQ2FV23kP32SBRlasuQ/1DuSZf/a5D8iLL0YDHXkP7vPEnGnmuQ/kNrU1Qq75D8HOpsPg4fkP4HmS5GLp+Q/67nzycJb5D9V8n59qn/kP90lmrSNbOQ/Aj+Tyaxb5D9AsLkdLW7kP+adH2+KbuQ/K9u7jzxw5D/ASUjIynPkP5aNpC1ubuQ/66mNlR9W5D8rEjxm71bkP1iiiiTqV+Q/",
          "dtype": "f8"
         },
         "yaxis": "y"
        }
       ],
       "layout": {
        "annotations": [
         {
          "font": {},
          "showarrow": false,
          "text": "variable=competition_score",
          "textangle": 90,
          "x": 0.98,
          "xanchor": "left",
          "xref": "paper",
          "y": 0.15666666666666665,
          "yanchor": "middle",
          "yref": "paper"
         },
         {
          "font": {},
          "showarrow": false,
          "text": "variable=validation_accuracy",
          "textangle": 90,
          "x": 0.98,
          "xanchor": "left",
          "xref": "paper",
          "y": 0.4999999999999999,
          "yanchor": "middle",
          "yref": "paper"
         },
         {
          "font": {},
          "showarrow": false,
          "text": "variable=train_epoch_accuracy",
          "textangle": 90,
          "x": 0.98,
          "xanchor": "left",
          "xref": "paper",
          "y": 0.8433333333333332,
          "yanchor": "middle",
          "yref": "paper"
         }
        ],
        "legend": {
         "title": {
          "text": "variable"
         },
         "tracegroupgap": 0
        },
        "template": {
         "data": {
          "bar": [
           {
            "error_x": {
             "color": "#2a3f5f"
            },
            "error_y": {
             "color": "#2a3f5f"
            },
            "marker": {
             "line": {
              "color": "#E5ECF6",
              "width": 0.5
             },
             "pattern": {
              "fillmode": "overlay",
              "size": 10,
              "solidity": 0.2
             }
            },
            "type": "bar"
           }
          ],
          "barpolar": [
           {
            "marker": {
             "line": {
              "color": "#E5ECF6",
              "width": 0.5
             },
             "pattern": {
              "fillmode": "overlay",
              "size": 10,
              "solidity": 0.2
             }
            },
            "type": "barpolar"
           }
          ],
          "carpet": [
           {
            "aaxis": {
             "endlinecolor": "#2a3f5f",
             "gridcolor": "white",
             "linecolor": "white",
             "minorgridcolor": "white",
             "startlinecolor": "#2a3f5f"
            },
            "baxis": {
             "endlinecolor": "#2a3f5f",
             "gridcolor": "white",
             "linecolor": "white",
             "minorgridcolor": "white",
             "startlinecolor": "#2a3f5f"
            },
            "type": "carpet"
           }
          ],
          "choropleth": [
           {
            "colorbar": {
             "outlinewidth": 0,
             "ticks": ""
            },
            "type": "choropleth"
           }
          ],
          "contour": [
           {
            "colorbar": {
             "outlinewidth": 0,
             "ticks": ""
            },
            "colorscale": [
             [
              0,
              "#0d0887"
             ],
             [
              0.1111111111111111,
              "#46039f"
             ],
             [
              0.2222222222222222,
              "#7201a8"
             ],
             [
              0.3333333333333333,
              "#9c179e"
             ],
             [
              0.4444444444444444,
              "#bd3786"
             ],
             [
              0.5555555555555556,
              "#d8576b"
             ],
             [
              0.6666666666666666,
              "#ed7953"
             ],
             [
              0.7777777777777778,
              "#fb9f3a"
             ],
             [
              0.8888888888888888,
              "#fdca26"
             ],
             [
              1,
              "#f0f921"
             ]
            ],
            "type": "contour"
           }
          ],
          "contourcarpet": [
           {
            "colorbar": {
             "outlinewidth": 0,
             "ticks": ""
            },
            "type": "contourcarpet"
           }
          ],
          "heatmap": [
           {
            "colorbar": {
             "outlinewidth": 0,
             "ticks": ""
            },
            "colorscale": [
             [
              0,
              "#0d0887"
             ],
             [
              0.1111111111111111,
              "#46039f"
             ],
             [
              0.2222222222222222,
              "#7201a8"
             ],
             [
              0.3333333333333333,
              "#9c179e"
             ],
             [
              0.4444444444444444,
              "#bd3786"
             ],
             [
              0.5555555555555556,
              "#d8576b"
             ],
             [
              0.6666666666666666,
              "#ed7953"
             ],
             [
              0.7777777777777778,
              "#fb9f3a"
             ],
             [
              0.8888888888888888,
              "#fdca26"
             ],
             [
              1,
              "#f0f921"
             ]
            ],
            "type": "heatmap"
           }
          ],
          "histogram": [
           {
            "marker": {
             "pattern": {
              "fillmode": "overlay",
              "size": 10,
              "solidity": 0.2
             }
            },
            "type": "histogram"
           }
          ],
          "histogram2d": [
           {
            "colorbar": {
             "outlinewidth": 0,
             "ticks": ""
            },
            "colorscale": [
             [
              0,
              "#0d0887"
             ],
             [
              0.1111111111111111,
              "#46039f"
             ],
             [
              0.2222222222222222,
              "#7201a8"
             ],
             [
              0.3333333333333333,
              "#9c179e"
             ],
             [
              0.4444444444444444,
              "#bd3786"
             ],
             [
              0.5555555555555556,
              "#d8576b"
             ],
             [
              0.6666666666666666,
              "#ed7953"
             ],
             [
              0.7777777777777778,
              "#fb9f3a"
             ],
             [
              0.8888888888888888,
              "#fdca26"
             ],
             [
              1,
              "#f0f921"
             ]
            ],
            "type": "histogram2d"
           }
          ],
          "histogram2dcontour": [
           {
            "colorbar": {
             "outlinewidth": 0,
             "ticks": ""
            },
            "colorscale": [
             [
              0,
              "#0d0887"
             ],
             [
              0.1111111111111111,
              "#46039f"
             ],
             [
              0.2222222222222222,
              "#7201a8"
             ],
             [
              0.3333333333333333,
              "#9c179e"
             ],
             [
              0.4444444444444444,
              "#bd3786"
             ],
             [
              0.5555555555555556,
              "#d8576b"
             ],
             [
              0.6666666666666666,
              "#ed7953"
             ],
             [
              0.7777777777777778,
              "#fb9f3a"
             ],
             [
              0.8888888888888888,
              "#fdca26"
             ],
             [
              1,
              "#f0f921"
             ]
            ],
            "type": "histogram2dcontour"
           }
          ],
          "mesh3d": [
           {
            "colorbar": {
             "outlinewidth": 0,
             "ticks": ""
            },
            "type": "mesh3d"
           }
          ],
          "parcoords": [
           {
            "line": {
             "colorbar": {
              "outlinewidth": 0,
              "ticks": ""
             }
            },
            "type": "parcoords"
           }
          ],
          "pie": [
           {
            "automargin": true,
            "type": "pie"
           }
          ],
          "scatter": [
           {
            "fillpattern": {
             "fillmode": "overlay",
             "size": 10,
             "solidity": 0.2
            },
            "type": "scatter"
           }
          ],
          "scatter3d": [
           {
            "line": {
             "colorbar": {
              "outlinewidth": 0,
              "ticks": ""
             }
            },
            "marker": {
             "colorbar": {
              "outlinewidth": 0,
              "ticks": ""
             }
            },
            "type": "scatter3d"
           }
          ],
          "scattercarpet": [
           {
            "marker": {
             "colorbar": {
              "outlinewidth": 0,
              "ticks": ""
             }
            },
            "type": "scattercarpet"
           }
          ],
          "scattergeo": [
           {
            "marker": {
             "colorbar": {
              "outlinewidth": 0,
              "ticks": ""
             }
            },
            "type": "scattergeo"
           }
          ],
          "scattergl": [
           {
            "marker": {
             "colorbar": {
              "outlinewidth": 0,
              "ticks": ""
             }
            },
            "type": "scattergl"
           }
          ],
          "scattermap": [
           {
            "marker": {
             "colorbar": {
              "outlinewidth": 0,
              "ticks": ""
             }
            },
            "type": "scattermap"
           }
          ],
          "scattermapbox": [
           {
            "marker": {
             "colorbar": {
              "outlinewidth": 0,
              "ticks": ""
             }
            },
            "type": "scattermapbox"
           }
          ],
          "scatterpolar": [
           {
            "marker": {
             "colorbar": {
              "outlinewidth": 0,
              "ticks": ""
             }
            },
            "type": "scatterpolar"
           }
          ],
          "scatterpolargl": [
           {
            "marker": {
             "colorbar": {
              "outlinewidth": 0,
              "ticks": ""
             }
            },
            "type": "scatterpolargl"
           }
          ],
          "scatterternary": [
           {
            "marker": {
             "colorbar": {
              "outlinewidth": 0,
              "ticks": ""
             }
            },
            "type": "scatterternary"
           }
          ],
          "surface": [
           {
            "colorbar": {
             "outlinewidth": 0,
             "ticks": ""
            },
            "colorscale": [
             [
              0,
              "#0d0887"
             ],
             [
              0.1111111111111111,
              "#46039f"
             ],
             [
              0.2222222222222222,
              "#7201a8"
             ],
             [
              0.3333333333333333,
              "#9c179e"
             ],
             [
              0.4444444444444444,
              "#bd3786"
             ],
             [
              0.5555555555555556,
              "#d8576b"
             ],
             [
              0.6666666666666666,
              "#ed7953"
             ],
             [
              0.7777777777777778,
              "#fb9f3a"
             ],
             [
              0.8888888888888888,
              "#fdca26"
             ],
             [
              1,
              "#f0f921"
             ]
            ],
            "type": "surface"
           }
          ],
          "table": [
           {
            "cells": {
             "fill": {
              "color": "#EBF0F8"
             },
             "line": {
              "color": "white"
             }
            },
            "header": {
             "fill": {
              "color": "#C8D4E3"
             },
             "line": {
              "color": "white"
             }
            },
            "type": "table"
           }
          ]
         },
         "layout": {
          "annotationdefaults": {
           "arrowcolor": "#2a3f5f",
           "arrowhead": 0,
           "arrowwidth": 1
          },
          "autotypenumbers": "strict",
          "coloraxis": {
           "colorbar": {
            "outlinewidth": 0,
            "ticks": ""
           }
          },
          "colorscale": {
           "diverging": [
            [
             0,
             "#8e0152"
            ],
            [
             0.1,
             "#c51b7d"
            ],
            [
             0.2,
             "#de77ae"
            ],
            [
             0.3,
             "#f1b6da"
            ],
            [
             0.4,
             "#fde0ef"
            ],
            [
             0.5,
             "#f7f7f7"
            ],
            [
             0.6,
             "#e6f5d0"
            ],
            [
             0.7,
             "#b8e186"
            ],
            [
             0.8,
             "#7fbc41"
            ],
            [
             0.9,
             "#4d9221"
            ],
            [
             1,
             "#276419"
            ]
           ],
           "sequential": [
            [
             0,
             "#0d0887"
            ],
            [
             0.1111111111111111,
             "#46039f"
            ],
            [
             0.2222222222222222,
             "#7201a8"
            ],
            [
             0.3333333333333333,
             "#9c179e"
            ],
            [
             0.4444444444444444,
             "#bd3786"
            ],
            [
             0.5555555555555556,
             "#d8576b"
            ],
            [
             0.6666666666666666,
             "#ed7953"
            ],
            [
             0.7777777777777778,
             "#fb9f3a"
            ],
            [
             0.8888888888888888,
             "#fdca26"
            ],
            [
             1,
             "#f0f921"
            ]
           ],
           "sequentialminus": [
            [
             0,
             "#0d0887"
            ],
            [
             0.1111111111111111,
             "#46039f"
            ],
            [
             0.2222222222222222,
             "#7201a8"
            ],
            [
             0.3333333333333333,
             "#9c179e"
            ],
            [
             0.4444444444444444,
             "#bd3786"
            ],
            [
             0.5555555555555556,
             "#d8576b"
            ],
            [
             0.6666666666666666,
             "#ed7953"
            ],
            [
             0.7777777777777778,
             "#fb9f3a"
            ],
            [
             0.8888888888888888,
             "#fdca26"
            ],
            [
             1,
             "#f0f921"
            ]
           ]
          },
          "colorway": [
           "#636efa",
           "#EF553B",
           "#00cc96",
           "#ab63fa",
           "#FFA15A",
           "#19d3f3",
           "#FF6692",
           "#B6E880",
           "#FF97FF",
           "#FECB52"
          ],
          "font": {
           "color": "#2a3f5f"
          },
          "geo": {
           "bgcolor": "white",
           "lakecolor": "white",
           "landcolor": "#E5ECF6",
           "showlakes": true,
           "showland": true,
           "subunitcolor": "white"
          },
          "hoverlabel": {
           "align": "left"
          },
          "hovermode": "closest",
          "mapbox": {
           "style": "light"
          },
          "paper_bgcolor": "white",
          "plot_bgcolor": "#E5ECF6",
          "polar": {
           "angularaxis": {
            "gridcolor": "white",
            "linecolor": "white",
            "ticks": ""
           },
           "bgcolor": "#E5ECF6",
           "radialaxis": {
            "gridcolor": "white",
            "linecolor": "white",
            "ticks": ""
           }
          },
          "scene": {
           "xaxis": {
            "backgroundcolor": "#E5ECF6",
            "gridcolor": "white",
            "gridwidth": 2,
            "linecolor": "white",
            "showbackground": true,
            "ticks": "",
            "zerolinecolor": "white"
           },
           "yaxis": {
            "backgroundcolor": "#E5ECF6",
            "gridcolor": "white",
            "gridwidth": 2,
            "linecolor": "white",
            "showbackground": true,
            "ticks": "",
            "zerolinecolor": "white"
           },
           "zaxis": {
            "backgroundcolor": "#E5ECF6",
            "gridcolor": "white",
            "gridwidth": 2,
            "linecolor": "white",
            "showbackground": true,
            "ticks": "",
            "zerolinecolor": "white"
           }
          },
          "shapedefaults": {
           "line": {
            "color": "#2a3f5f"
           }
          },
          "ternary": {
           "aaxis": {
            "gridcolor": "white",
            "linecolor": "white",
            "ticks": ""
           },
           "baxis": {
            "gridcolor": "white",
            "linecolor": "white",
            "ticks": ""
           },
           "bgcolor": "#E5ECF6",
           "caxis": {
            "gridcolor": "white",
            "linecolor": "white",
            "ticks": ""
           }
          },
          "title": {
           "x": 0.05
          },
          "xaxis": {
           "automargin": true,
           "gridcolor": "white",
           "linecolor": "white",
           "ticks": "",
           "title": {
            "standoff": 15
           },
           "zerolinecolor": "white",
           "zerolinewidth": 2
          },
          "yaxis": {
           "automargin": true,
           "gridcolor": "white",
           "linecolor": "white",
           "ticks": "",
           "title": {
            "standoff": 15
           },
           "zerolinecolor": "white",
           "zerolinewidth": 2
          }
         }
        },
        "title": {
         "text": "epoch metrics"
        },
        "xaxis": {
         "anchor": "y",
         "domain": [
          0,
          0.98
         ],
         "title": {
          "text": "epoch"
         }
        },
        "xaxis2": {
         "anchor": "y2",
         "domain": [
          0,
          0.98
         ],
         "matches": "x",
         "showticklabels": false
        },
        "xaxis3": {
         "anchor": "y3",
         "domain": [
          0,
          0.98
         ],
         "matches": "x",
         "showticklabels": false
        },
        "yaxis": {
         "anchor": "x",
         "domain": [
          0,
          0.3133333333333333
         ],
         "title": {
          "text": "value"
         }
        },
        "yaxis2": {
         "anchor": "x2",
         "domain": [
          0.34333333333333327,
          0.6566666666666665
         ],
         "title": {
          "text": "value"
         }
        },
        "yaxis3": {
         "anchor": "x3",
         "domain": [
          0.6866666666666665,
          0.9999999999999998
         ],
         "title": {
          "text": "value"
         }
        }
       }
      }
     },
     "metadata": {},
     "output_type": "display_data"
    },
    {
     "name": "stdout",
     "output_type": "stream",
     "text": [
      "=========================\n",
      "training: 3\n"
     ]
    },
    {
     "data": {
      "application/vnd.jupyter.widget-view+json": {
       "model_id": "21179e3032e946cb999bec2fca8f3800",
       "version_major": 2,
       "version_minor": 0
      },
      "text/plain": [
       "Output()"
      ]
     },
     "metadata": {},
     "output_type": "display_data"
    },
    {
     "data": {
      "text/html": [
       "<pre style=\"white-space:pre;overflow-x:auto;line-height:normal;font-family:Menlo,'DejaVu Sans Mono',consolas,'Courier New',monospace\"></pre>\n"
      ],
      "text/plain": []
     },
     "metadata": {},
     "output_type": "display_data"
    },
    {
     "data": {
      "application/vnd.plotly.v1+json": {
       "config": {
        "plotlyServerURL": "https://plot.ly"
       },
       "data": [
        {
         "hovertemplate": "variable=train_epoch_accuracy<br>epoch=%{x}<br>value=%{y}<extra></extra>",
         "legendgroup": "train_epoch_accuracy",
         "line": {
          "color": "#636efa",
          "dash": "solid"
         },
         "marker": {
          "symbol": "circle"
         },
         "mode": "lines",
         "name": "train_epoch_accuracy",
         "orientation": "v",
         "showlegend": true,
         "type": "scatter",
         "x": {
          "bdata": "AAECAwQFBgcICQoLDA0ODxAREhMUFRYXGBkaGxwdHh8gISIjJCUmJygpKissLS4vMDEyMzQ1Njc4OTo7",
          "dtype": "i1"
         },
         "xaxis": "x3",
         "y": {
          "bdata": "FSMEFSPEzD8rF9wqF/zWPwv66wr6C9o/JBuUIxs03T9kD8ljD+nfP2EopGAohOA/iSkviSmf4D9ErC1ErI3gP1FIwVBIEeE/ncEKncEa4T9xZbFwZcHgP6oucqouYuA/WreEWrd04D/nx9jmx9jgP8NPGsNPCuA/ED0NED3t3z9fzKdezAffP+QmX+Mm/94/j5pOj5qu4D8D5yQD58TgP1bRjVXRreA/3uM93uMN4T8aIHoaIKrhP9EZrNAZ7OA/etR0etTU4D/m34Xl33XgP79Rdr9R9uA/nzSGnzTG4T9tZw1tZ/3hP2iBFmiBNuI/Se9OSe/u4j9at4RatwTjPxwIzRsIjeM/fBnyexky4z8nX+MmX8PjP+mvK+ivC+Q/8h7v8R5/5D8XfwAXf3DkP5Hfy5Dfq+Q/kd/LkN/b5D/VdHrUdCrlPxd/ABd/QOU/7yBL7iBb5T8B0dMA0YPlP47hJ43hp+U/FvTXFfSn5T8i1hYi1rblPxd/ABd/0OU/HGX3G2XX5T9FZoJEZtLlP7FZ5rBZ5uU/+ew4+Ozo5T//XVj+XejlP4turIpu7OU/nh41nR715T9vT2BuT/DlPwq1bgm17uU/1XR61HTq5T+kj1Sjj/TlPxxl9xtl9+U/",
          "dtype": "f8"
         },
         "yaxis": "y3"
        },
        {
         "hovertemplate": "variable=validation_accuracy<br>epoch=%{x}<br>value=%{y}<extra></extra>",
         "legendgroup": "validation_accuracy",
         "line": {
          "color": "#EF553B",
          "dash": "solid"
         },
         "marker": {
          "symbol": "circle"
         },
         "mode": "lines",
         "name": "validation_accuracy",
         "orientation": "v",
         "showlegend": true,
         "type": "scatter",
         "x": {
          "bdata": "AAECAwQFBgcICQoLDA0ODxAREhMUFRYXGBkaGxwdHh8gISIjJCUmJygpKissLS4vMDEyMzQ1Njc4OTo7",
          "dtype": "i1"
         },
         "xaxis": "x2",
         "y": {
          "bdata": "z/M8z/O80D/P8zzP87zSPyVJkiRJ0tM/qqqqqqoq0z+SJEmSJMnVPxiGYRiGodU/YRiGYRhG1T+SJEmSJAnTPz3P8zzPs9U/nud5nuc50j/oeZ7neV7WP0mSJEmSpNM/MQzDMAwD1T96nud5nqfWPw3DMAzDMNY/btu2bdu21T/oeZ7neZ7WPxiGYRiGodU/YRiGYRgG1j+3bdu2bRvUP9u2bdu27dU/YRiGYRgG2D8YhmEYhmHXPzEMwzAMw9g/Pc/zPM/z1z9u27Zt23bVP/M8z/M8D9k/kiRJkiRJ2T8xDMMwDIPZP7dt27ZtW9g/n+d5nue52D/oeZ7neV7aPwAAAAAAANg/hmEYhmFY2T8xDMMwDAPaPw3DMAzDcNo/Pc/zPM9z2j+SJEmSJEnaP4ZhGIZh2Nk/qqqqqqoq2j+3bdu2bVvaP1ZVVVVVldo/kiRJkiSJ2j9WVVVVVZXaP6qqqqqqKto/t23btm2b2j/oeZ7ned7aP9u2bdu2Lds/btu2bds22z96nud5nufaPzEMwzAMA9s/27Zt27bt2j9u27Zt2/baPyVJkiRJEts/AAAAAAAA2z/btm3btu3aP5IkSZIkydo/SZIkSZLk2j/btm3btu3aP0mSJEmS5No/",
          "dtype": "f8"
         },
         "yaxis": "y2"
        },
        {
         "hovertemplate": "variable=competition_score<br>epoch=%{x}<br>value=%{y}<extra></extra>",
         "legendgroup": "competition_score",
         "line": {
          "color": "#00cc96",
          "dash": "solid"
         },
         "marker": {
          "symbol": "circle"
         },
         "mode": "lines",
         "name": "competition_score",
         "orientation": "v",
         "showlegend": true,
         "type": "scatter",
         "x": {
          "bdata": "AAECAwQFBgcICQoLDA0ODxAREhMUFRYXGBkaGxwdHh8gISIjJCUmJygpKissLS4vMDEyMzQ1Njc4OTo7",
          "dtype": "i1"
         },
         "xaxis": "x",
         "y": {
          "bdata": "bKNIgNrI3z8go0WYgzzgP3st/fw2euE/uDcyPvrz4T9qGHutyOziP28GrvK2ruI/YJYErpeU4j/HlnAjRIbhP9BqMZk/c+I/4N1NVjR44T/2hOpaee/iPwD4WOaZNeE/AL3HRDPg4j+1jqo4QrbjP94DVytyouI/48K2bwdS4j/ScojjxFDjP77HOjXjJ+I/t6NLINGN4j9UviG+Mt3iP0MCJm+9aeM/2qvRXxNu4z+2yGD4u1fjPxCebaGHyeM/KFpAC76V4z/aCpxfTQbjPyYpzY+90eM/xigZjPvo4z8CvtqT13zkP4Mkf2xPk+M/qd5A8XYL5D/8A9SeQ6XkP/qQY9+SfuM/nOzKU6vW4z+NOdUMY3PkP8D2vQ5ji+Q/5eD/45hb5D91Aky8Rq/kP2Y42PtmjOQ/DsNgdaFQ5D8qhfbWtizkP9cxha+OQuQ/OX74OVWW5D/X74VgREPkPxnUmeqwfeQ/yAwJjqq75D/1pYh7w7DkP2EVFcaPueQ/lv9ClTve5D/7bLm4op3kP4JczEL0qOQ/Xqv+yB+s5D8DJtjwFqrkP67GsfSAs+Q/nF7Ldiyn5D+kWQOHk5/kP6NSi19MjOQ/lOclgKSU5D+rFlKLmZnkP6dZSI6Hl+Q/",
          "dtype": "f8"
         },
         "yaxis": "y"
        }
       ],
       "layout": {
        "annotations": [
         {
          "font": {},
          "showarrow": false,
          "text": "variable=competition_score",
          "textangle": 90,
          "x": 0.98,
          "xanchor": "left",
          "xref": "paper",
          "y": 0.15666666666666665,
          "yanchor": "middle",
          "yref": "paper"
         },
         {
          "font": {},
          "showarrow": false,
          "text": "variable=validation_accuracy",
          "textangle": 90,
          "x": 0.98,
          "xanchor": "left",
          "xref": "paper",
          "y": 0.4999999999999999,
          "yanchor": "middle",
          "yref": "paper"
         },
         {
          "font": {},
          "showarrow": false,
          "text": "variable=train_epoch_accuracy",
          "textangle": 90,
          "x": 0.98,
          "xanchor": "left",
          "xref": "paper",
          "y": 0.8433333333333332,
          "yanchor": "middle",
          "yref": "paper"
         }
        ],
        "legend": {
         "title": {
          "text": "variable"
         },
         "tracegroupgap": 0
        },
        "template": {
         "data": {
          "bar": [
           {
            "error_x": {
             "color": "#2a3f5f"
            },
            "error_y": {
             "color": "#2a3f5f"
            },
            "marker": {
             "line": {
              "color": "#E5ECF6",
              "width": 0.5
             },
             "pattern": {
              "fillmode": "overlay",
              "size": 10,
              "solidity": 0.2
             }
            },
            "type": "bar"
           }
          ],
          "barpolar": [
           {
            "marker": {
             "line": {
              "color": "#E5ECF6",
              "width": 0.5
             },
             "pattern": {
              "fillmode": "overlay",
              "size": 10,
              "solidity": 0.2
             }
            },
            "type": "barpolar"
           }
          ],
          "carpet": [
           {
            "aaxis": {
             "endlinecolor": "#2a3f5f",
             "gridcolor": "white",
             "linecolor": "white",
             "minorgridcolor": "white",
             "startlinecolor": "#2a3f5f"
            },
            "baxis": {
             "endlinecolor": "#2a3f5f",
             "gridcolor": "white",
             "linecolor": "white",
             "minorgridcolor": "white",
             "startlinecolor": "#2a3f5f"
            },
            "type": "carpet"
           }
          ],
          "choropleth": [
           {
            "colorbar": {
             "outlinewidth": 0,
             "ticks": ""
            },
            "type": "choropleth"
           }
          ],
          "contour": [
           {
            "colorbar": {
             "outlinewidth": 0,
             "ticks": ""
            },
            "colorscale": [
             [
              0,
              "#0d0887"
             ],
             [
              0.1111111111111111,
              "#46039f"
             ],
             [
              0.2222222222222222,
              "#7201a8"
             ],
             [
              0.3333333333333333,
              "#9c179e"
             ],
             [
              0.4444444444444444,
              "#bd3786"
             ],
             [
              0.5555555555555556,
              "#d8576b"
             ],
             [
              0.6666666666666666,
              "#ed7953"
             ],
             [
              0.7777777777777778,
              "#fb9f3a"
             ],
             [
              0.8888888888888888,
              "#fdca26"
             ],
             [
              1,
              "#f0f921"
             ]
            ],
            "type": "contour"
           }
          ],
          "contourcarpet": [
           {
            "colorbar": {
             "outlinewidth": 0,
             "ticks": ""
            },
            "type": "contourcarpet"
           }
          ],
          "heatmap": [
           {
            "colorbar": {
             "outlinewidth": 0,
             "ticks": ""
            },
            "colorscale": [
             [
              0,
              "#0d0887"
             ],
             [
              0.1111111111111111,
              "#46039f"
             ],
             [
              0.2222222222222222,
              "#7201a8"
             ],
             [
              0.3333333333333333,
              "#9c179e"
             ],
             [
              0.4444444444444444,
              "#bd3786"
             ],
             [
              0.5555555555555556,
              "#d8576b"
             ],
             [
              0.6666666666666666,
              "#ed7953"
             ],
             [
              0.7777777777777778,
              "#fb9f3a"
             ],
             [
              0.8888888888888888,
              "#fdca26"
             ],
             [
              1,
              "#f0f921"
             ]
            ],
            "type": "heatmap"
           }
          ],
          "histogram": [
           {
            "marker": {
             "pattern": {
              "fillmode": "overlay",
              "size": 10,
              "solidity": 0.2
             }
            },
            "type": "histogram"
           }
          ],
          "histogram2d": [
           {
            "colorbar": {
             "outlinewidth": 0,
             "ticks": ""
            },
            "colorscale": [
             [
              0,
              "#0d0887"
             ],
             [
              0.1111111111111111,
              "#46039f"
             ],
             [
              0.2222222222222222,
              "#7201a8"
             ],
             [
              0.3333333333333333,
              "#9c179e"
             ],
             [
              0.4444444444444444,
              "#bd3786"
             ],
             [
              0.5555555555555556,
              "#d8576b"
             ],
             [
              0.6666666666666666,
              "#ed7953"
             ],
             [
              0.7777777777777778,
              "#fb9f3a"
             ],
             [
              0.8888888888888888,
              "#fdca26"
             ],
             [
              1,
              "#f0f921"
             ]
            ],
            "type": "histogram2d"
           }
          ],
          "histogram2dcontour": [
           {
            "colorbar": {
             "outlinewidth": 0,
             "ticks": ""
            },
            "colorscale": [
             [
              0,
              "#0d0887"
             ],
             [
              0.1111111111111111,
              "#46039f"
             ],
             [
              0.2222222222222222,
              "#7201a8"
             ],
             [
              0.3333333333333333,
              "#9c179e"
             ],
             [
              0.4444444444444444,
              "#bd3786"
             ],
             [
              0.5555555555555556,
              "#d8576b"
             ],
             [
              0.6666666666666666,
              "#ed7953"
             ],
             [
              0.7777777777777778,
              "#fb9f3a"
             ],
             [
              0.8888888888888888,
              "#fdca26"
             ],
             [
              1,
              "#f0f921"
             ]
            ],
            "type": "histogram2dcontour"
           }
          ],
          "mesh3d": [
           {
            "colorbar": {
             "outlinewidth": 0,
             "ticks": ""
            },
            "type": "mesh3d"
           }
          ],
          "parcoords": [
           {
            "line": {
             "colorbar": {
              "outlinewidth": 0,
              "ticks": ""
             }
            },
            "type": "parcoords"
           }
          ],
          "pie": [
           {
            "automargin": true,
            "type": "pie"
           }
          ],
          "scatter": [
           {
            "fillpattern": {
             "fillmode": "overlay",
             "size": 10,
             "solidity": 0.2
            },
            "type": "scatter"
           }
          ],
          "scatter3d": [
           {
            "line": {
             "colorbar": {
              "outlinewidth": 0,
              "ticks": ""
             }
            },
            "marker": {
             "colorbar": {
              "outlinewidth": 0,
              "ticks": ""
             }
            },
            "type": "scatter3d"
           }
          ],
          "scattercarpet": [
           {
            "marker": {
             "colorbar": {
              "outlinewidth": 0,
              "ticks": ""
             }
            },
            "type": "scattercarpet"
           }
          ],
          "scattergeo": [
           {
            "marker": {
             "colorbar": {
              "outlinewidth": 0,
              "ticks": ""
             }
            },
            "type": "scattergeo"
           }
          ],
          "scattergl": [
           {
            "marker": {
             "colorbar": {
              "outlinewidth": 0,
              "ticks": ""
             }
            },
            "type": "scattergl"
           }
          ],
          "scattermap": [
           {
            "marker": {
             "colorbar": {
              "outlinewidth": 0,
              "ticks": ""
             }
            },
            "type": "scattermap"
           }
          ],
          "scattermapbox": [
           {
            "marker": {
             "colorbar": {
              "outlinewidth": 0,
              "ticks": ""
             }
            },
            "type": "scattermapbox"
           }
          ],
          "scatterpolar": [
           {
            "marker": {
             "colorbar": {
              "outlinewidth": 0,
              "ticks": ""
             }
            },
            "type": "scatterpolar"
           }
          ],
          "scatterpolargl": [
           {
            "marker": {
             "colorbar": {
              "outlinewidth": 0,
              "ticks": ""
             }
            },
            "type": "scatterpolargl"
           }
          ],
          "scatterternary": [
           {
            "marker": {
             "colorbar": {
              "outlinewidth": 0,
              "ticks": ""
             }
            },
            "type": "scatterternary"
           }
          ],
          "surface": [
           {
            "colorbar": {
             "outlinewidth": 0,
             "ticks": ""
            },
            "colorscale": [
             [
              0,
              "#0d0887"
             ],
             [
              0.1111111111111111,
              "#46039f"
             ],
             [
              0.2222222222222222,
              "#7201a8"
             ],
             [
              0.3333333333333333,
              "#9c179e"
             ],
             [
              0.4444444444444444,
              "#bd3786"
             ],
             [
              0.5555555555555556,
              "#d8576b"
             ],
             [
              0.6666666666666666,
              "#ed7953"
             ],
             [
              0.7777777777777778,
              "#fb9f3a"
             ],
             [
              0.8888888888888888,
              "#fdca26"
             ],
             [
              1,
              "#f0f921"
             ]
            ],
            "type": "surface"
           }
          ],
          "table": [
           {
            "cells": {
             "fill": {
              "color": "#EBF0F8"
             },
             "line": {
              "color": "white"
             }
            },
            "header": {
             "fill": {
              "color": "#C8D4E3"
             },
             "line": {
              "color": "white"
             }
            },
            "type": "table"
           }
          ]
         },
         "layout": {
          "annotationdefaults": {
           "arrowcolor": "#2a3f5f",
           "arrowhead": 0,
           "arrowwidth": 1
          },
          "autotypenumbers": "strict",
          "coloraxis": {
           "colorbar": {
            "outlinewidth": 0,
            "ticks": ""
           }
          },
          "colorscale": {
           "diverging": [
            [
             0,
             "#8e0152"
            ],
            [
             0.1,
             "#c51b7d"
            ],
            [
             0.2,
             "#de77ae"
            ],
            [
             0.3,
             "#f1b6da"
            ],
            [
             0.4,
             "#fde0ef"
            ],
            [
             0.5,
             "#f7f7f7"
            ],
            [
             0.6,
             "#e6f5d0"
            ],
            [
             0.7,
             "#b8e186"
            ],
            [
             0.8,
             "#7fbc41"
            ],
            [
             0.9,
             "#4d9221"
            ],
            [
             1,
             "#276419"
            ]
           ],
           "sequential": [
            [
             0,
             "#0d0887"
            ],
            [
             0.1111111111111111,
             "#46039f"
            ],
            [
             0.2222222222222222,
             "#7201a8"
            ],
            [
             0.3333333333333333,
             "#9c179e"
            ],
            [
             0.4444444444444444,
             "#bd3786"
            ],
            [
             0.5555555555555556,
             "#d8576b"
            ],
            [
             0.6666666666666666,
             "#ed7953"
            ],
            [
             0.7777777777777778,
             "#fb9f3a"
            ],
            [
             0.8888888888888888,
             "#fdca26"
            ],
            [
             1,
             "#f0f921"
            ]
           ],
           "sequentialminus": [
            [
             0,
             "#0d0887"
            ],
            [
             0.1111111111111111,
             "#46039f"
            ],
            [
             0.2222222222222222,
             "#7201a8"
            ],
            [
             0.3333333333333333,
             "#9c179e"
            ],
            [
             0.4444444444444444,
             "#bd3786"
            ],
            [
             0.5555555555555556,
             "#d8576b"
            ],
            [
             0.6666666666666666,
             "#ed7953"
            ],
            [
             0.7777777777777778,
             "#fb9f3a"
            ],
            [
             0.8888888888888888,
             "#fdca26"
            ],
            [
             1,
             "#f0f921"
            ]
           ]
          },
          "colorway": [
           "#636efa",
           "#EF553B",
           "#00cc96",
           "#ab63fa",
           "#FFA15A",
           "#19d3f3",
           "#FF6692",
           "#B6E880",
           "#FF97FF",
           "#FECB52"
          ],
          "font": {
           "color": "#2a3f5f"
          },
          "geo": {
           "bgcolor": "white",
           "lakecolor": "white",
           "landcolor": "#E5ECF6",
           "showlakes": true,
           "showland": true,
           "subunitcolor": "white"
          },
          "hoverlabel": {
           "align": "left"
          },
          "hovermode": "closest",
          "mapbox": {
           "style": "light"
          },
          "paper_bgcolor": "white",
          "plot_bgcolor": "#E5ECF6",
          "polar": {
           "angularaxis": {
            "gridcolor": "white",
            "linecolor": "white",
            "ticks": ""
           },
           "bgcolor": "#E5ECF6",
           "radialaxis": {
            "gridcolor": "white",
            "linecolor": "white",
            "ticks": ""
           }
          },
          "scene": {
           "xaxis": {
            "backgroundcolor": "#E5ECF6",
            "gridcolor": "white",
            "gridwidth": 2,
            "linecolor": "white",
            "showbackground": true,
            "ticks": "",
            "zerolinecolor": "white"
           },
           "yaxis": {
            "backgroundcolor": "#E5ECF6",
            "gridcolor": "white",
            "gridwidth": 2,
            "linecolor": "white",
            "showbackground": true,
            "ticks": "",
            "zerolinecolor": "white"
           },
           "zaxis": {
            "backgroundcolor": "#E5ECF6",
            "gridcolor": "white",
            "gridwidth": 2,
            "linecolor": "white",
            "showbackground": true,
            "ticks": "",
            "zerolinecolor": "white"
           }
          },
          "shapedefaults": {
           "line": {
            "color": "#2a3f5f"
           }
          },
          "ternary": {
           "aaxis": {
            "gridcolor": "white",
            "linecolor": "white",
            "ticks": ""
           },
           "baxis": {
            "gridcolor": "white",
            "linecolor": "white",
            "ticks": ""
           },
           "bgcolor": "#E5ECF6",
           "caxis": {
            "gridcolor": "white",
            "linecolor": "white",
            "ticks": ""
           }
          },
          "title": {
           "x": 0.05
          },
          "xaxis": {
           "automargin": true,
           "gridcolor": "white",
           "linecolor": "white",
           "ticks": "",
           "title": {
            "standoff": 15
           },
           "zerolinecolor": "white",
           "zerolinewidth": 2
          },
          "yaxis": {
           "automargin": true,
           "gridcolor": "white",
           "linecolor": "white",
           "ticks": "",
           "title": {
            "standoff": 15
           },
           "zerolinecolor": "white",
           "zerolinewidth": 2
          }
         }
        },
        "title": {
         "text": "epoch metrics"
        },
        "xaxis": {
         "anchor": "y",
         "domain": [
          0,
          0.98
         ],
         "title": {
          "text": "epoch"
         }
        },
        "xaxis2": {
         "anchor": "y2",
         "domain": [
          0,
          0.98
         ],
         "matches": "x",
         "showticklabels": false
        },
        "xaxis3": {
         "anchor": "y3",
         "domain": [
          0,
          0.98
         ],
         "matches": "x",
         "showticklabels": false
        },
        "yaxis": {
         "anchor": "x",
         "domain": [
          0,
          0.3133333333333333
         ],
         "title": {
          "text": "value"
         }
        },
        "yaxis2": {
         "anchor": "x2",
         "domain": [
          0.34333333333333327,
          0.6566666666666665
         ],
         "title": {
          "text": "value"
         }
        },
        "yaxis3": {
         "anchor": "x3",
         "domain": [
          0.6866666666666665,
          0.9999999999999998
         ],
         "title": {
          "text": "value"
         }
        }
       }
      }
     },
     "metadata": {},
     "output_type": "display_data"
    },
    {
     "name": "stdout",
     "output_type": "stream",
     "text": [
      "=========================\n",
      "training: 4\n"
     ]
    },
    {
     "data": {
      "application/vnd.jupyter.widget-view+json": {
       "model_id": "cd505b23486e4e9186ca75a1cd5ba490",
       "version_major": 2,
       "version_minor": 0
      },
      "text/plain": [
       "Output()"
      ]
     },
     "metadata": {},
     "output_type": "display_data"
    },
    {
     "data": {
      "text/html": [
       "<pre style=\"white-space:pre;overflow-x:auto;line-height:normal;font-family:Menlo,'DejaVu Sans Mono',consolas,'Courier New',monospace\"></pre>\n"
      ],
      "text/plain": []
     },
     "metadata": {},
     "output_type": "display_data"
    },
    {
     "data": {
      "application/vnd.plotly.v1+json": {
       "config": {
        "plotlyServerURL": "https://plot.ly"
       },
       "data": [
        {
         "hovertemplate": "variable=train_epoch_accuracy<br>epoch=%{x}<br>value=%{y}<extra></extra>",
         "legendgroup": "train_epoch_accuracy",
         "line": {
          "color": "#636efa",
          "dash": "solid"
         },
         "marker": {
          "symbol": "circle"
         },
         "mode": "lines",
         "name": "train_epoch_accuracy",
         "orientation": "v",
         "showlegend": true,
         "type": "scatter",
         "x": {
          "bdata": "AAECAwQFBgcICQoLDA0ODxAREhMUFRYXGBkaGxwdHh8gISIjJCUmJygpKissLS4vMDEyMzQ1Njc4OTo7",
          "dtype": "i1"
         },
         "xaxis": "x3",
         "y": {
          "bdata": "YqZnY4+AyD+scfSFsOXTP6SVsfp2Pdo/7iyZt1Fx3j9YYtoMyWXgP6bmVJAoWOE/Q7/eLQGy4T/uLra1gdzhP4fLJvVT6OE/puZUkCi44T9m+Sf3cLbgP2ydiyAEJ+A/sa0N5Laj3z+p0cpYfVvfP9EXwhYN494/4csNMSD93j/BYVn+yZ3ePwvgfIeZ/t8/GFzpPwZx4D8SuIUWc+DgPzHsd+VSc+A/DBQi7d+f4D85Lug96YLgP1K+duM15eA/P9JLZ3zz4D9UXIMSOWThP4JdhS831OE/jlbG6tu14T+nNdsnqkfiP27TTYR6M+I/kqujfO1W4j/NXLe3nnriP0pKfiOJn+I/3EKLOcj64j90d7GtDRTjP/Y6ZKqhT+M/X9S1zkWA4z/pilKM7qvjP3XGN0WPk+M/VUO/3i3x4z/i5u5iW/vjP9/gl2jLGeQ/bITH7Pgj5D/PknkbFUfkP5KS30jiU+Q/oELxZpVX5D83dxfb2mDkPxTuR3rpbOQ/T59btZpw5D+scfSFsHXkP6QvhC0aduQ/kPTSGd905D/ai7rWuXjkPx5/PmoBfOQ/0pjQFaV45D/hfqSXznjkP56LIASHdeQ/lpg2Q3J15D9vCRDo8H/kP+7Ga+r0eeQ/",
          "dtype": "f8"
         },
         "yaxis": "y3"
        },
        {
         "hovertemplate": "variable=validation_accuracy<br>epoch=%{x}<br>value=%{y}<extra></extra>",
         "legendgroup": "validation_accuracy",
         "line": {
          "color": "#EF553B",
          "dash": "solid"
         },
         "marker": {
          "symbol": "circle"
         },
         "mode": "lines",
         "name": "validation_accuracy",
         "orientation": "v",
         "showlegend": true,
         "type": "scatter",
         "x": {
          "bdata": "AAECAwQFBgcICQoLDA0ODxAREhMUFRYXGBkaGxwdHh8gISIjJCUmJygpKissLS4vMDEyMzQ1Njc4OTo7",
          "dtype": "i1"
         },
         "xaxis": "x2",
         "y": {
          "bdata": "VlVVVVVVzT/DMAzDMMzRPyVJkiRJEtQ/JUmSJEkS1D8AAAAAAEDVP2EYhmEYxtU/btu2bdu21j8AAAAAAADVP3qe53meJ9Q/AAAAAACA1T+SJEmSJEnUPw3DMAzD8NQ/8zzP8zwP0z+f53me5/nSP8MwDMMwjNQ/GIZhGIah1D/P8zzP87zTP27btm3bdtU/ep7neZ7n1D+3bdu2bdvVP8MwDMMwzNU/8zzP8zyP1D/DMAzDMIzUP1ZVVVVVFdU/btu2bdu21D9u27Zt2zbVP0mSJEmSZNU/qqqqqqqq1T/zPM/zPM/VP2EYhmEYRtU/VlVVVVUV1j/zPM/zPI/VP5IkSZIkidY/SZIkSZKk1T+GYRiGYdjWPyVJkiRJEtY/6Hme53me1j8xDMMwDEPWP2EYhmEYhtY/6Hme53le1j9JkiRJkmTXP+h5nud5Htc/DcMwDMOw1z8NwzAMwzDXP+h5nud5Htc/Pc/zPM9z1z/btm3btu3WPw3DMAzDMNc/YRiGYRiG1z/zPM/zPI/XP2EYhmEYhtc/hmEYhmGY1z89z/M8z7PXP+h5nud5Xtc/DcMwDMNw1z96nud5nmfXP3qe53meZ9c/ep7neZ5n1z9WVVVVVVXXP+h5nud5Xtc/",
          "dtype": "f8"
         },
         "yaxis": "y2"
        },
        {
         "hovertemplate": "variable=competition_score<br>epoch=%{x}<br>value=%{y}<extra></extra>",
         "legendgroup": "competition_score",
         "line": {
          "color": "#00cc96",
          "dash": "solid"
         },
         "marker": {
          "symbol": "circle"
         },
         "mode": "lines",
         "name": "competition_score",
         "orientation": "v",
         "showlegend": true,
         "type": "scatter",
         "x": {
          "bdata": "AAECAwQFBgcICQoLDA0ODxAREhMUFRYXGBkaGxwdHh8gISIjJCUmJygpKissLS4vMDEyMzQ1Njc4OTo7",
          "dtype": "i1"
         },
         "xaxis": "x",
         "y": {
          "bdata": "50mtQlmP4D/0t9Zj9QDiPza677KhI+M/+r1Difuv4j/eOBiiGfziP14e9wclnOI/1408Hshg4z9BOErw3ePiP/AMlcCvquM/1JR8SPbJ4j9QGL1BeDThP+yiJypjqeM/el8NEeO+4T/JAYsqnprhP/KkzchOsuI/OQzWDOsE4z9YNOTmsAnjP5e/DzrbieM/Vii63ycx4j/RqRWyG9ziPxjTNCa5vuI/8BZaqcYI4z9QerYOPaniP5Wx53qfjOM/hDSq+Knr4j9jjDNF+AXjP+4EHejxTeM/DoXG9cFs4j953htY+CbjPyxCPmXqROM/LmcIlgOd4j9QpE2sqQTkP9bxFCIx5+I/YrFezEWB4z++5cXRKkTjPwKEONHX7eI/4GMCfbY84z8zoj82XDvjP+IEvsL/sOM/ZpG6yWDK4z99g45zTczjPwEzjPVQXeM/igmd1BCx4z/Fj1UDgnTjP+S6kNz10eM/ItTcuUa44z+NZ59ACJHjP4BvwtDoeuM/8Ft24xd+4z9Qz/cTbonjPzAbQl1RjuM/u0P5rLSP4z8K9OpdfpvjP5JDvnU3oeM/dJ5dUuK74z/F4ymUNZ/jPw/EzNceo+M//X4ErbeO4z/DY+0KVp/jP9XK4OGLl+M/",
          "dtype": "f8"
         },
         "yaxis": "y"
        }
       ],
       "layout": {
        "annotations": [
         {
          "font": {},
          "showarrow": false,
          "text": "variable=competition_score",
          "textangle": 90,
          "x": 0.98,
          "xanchor": "left",
          "xref": "paper",
          "y": 0.15666666666666665,
          "yanchor": "middle",
          "yref": "paper"
         },
         {
          "font": {},
          "showarrow": false,
          "text": "variable=validation_accuracy",
          "textangle": 90,
          "x": 0.98,
          "xanchor": "left",
          "xref": "paper",
          "y": 0.4999999999999999,
          "yanchor": "middle",
          "yref": "paper"
         },
         {
          "font": {},
          "showarrow": false,
          "text": "variable=train_epoch_accuracy",
          "textangle": 90,
          "x": 0.98,
          "xanchor": "left",
          "xref": "paper",
          "y": 0.8433333333333332,
          "yanchor": "middle",
          "yref": "paper"
         }
        ],
        "legend": {
         "title": {
          "text": "variable"
         },
         "tracegroupgap": 0
        },
        "template": {
         "data": {
          "bar": [
           {
            "error_x": {
             "color": "#2a3f5f"
            },
            "error_y": {
             "color": "#2a3f5f"
            },
            "marker": {
             "line": {
              "color": "#E5ECF6",
              "width": 0.5
             },
             "pattern": {
              "fillmode": "overlay",
              "size": 10,
              "solidity": 0.2
             }
            },
            "type": "bar"
           }
          ],
          "barpolar": [
           {
            "marker": {
             "line": {
              "color": "#E5ECF6",
              "width": 0.5
             },
             "pattern": {
              "fillmode": "overlay",
              "size": 10,
              "solidity": 0.2
             }
            },
            "type": "barpolar"
           }
          ],
          "carpet": [
           {
            "aaxis": {
             "endlinecolor": "#2a3f5f",
             "gridcolor": "white",
             "linecolor": "white",
             "minorgridcolor": "white",
             "startlinecolor": "#2a3f5f"
            },
            "baxis": {
             "endlinecolor": "#2a3f5f",
             "gridcolor": "white",
             "linecolor": "white",
             "minorgridcolor": "white",
             "startlinecolor": "#2a3f5f"
            },
            "type": "carpet"
           }
          ],
          "choropleth": [
           {
            "colorbar": {
             "outlinewidth": 0,
             "ticks": ""
            },
            "type": "choropleth"
           }
          ],
          "contour": [
           {
            "colorbar": {
             "outlinewidth": 0,
             "ticks": ""
            },
            "colorscale": [
             [
              0,
              "#0d0887"
             ],
             [
              0.1111111111111111,
              "#46039f"
             ],
             [
              0.2222222222222222,
              "#7201a8"
             ],
             [
              0.3333333333333333,
              "#9c179e"
             ],
             [
              0.4444444444444444,
              "#bd3786"
             ],
             [
              0.5555555555555556,
              "#d8576b"
             ],
             [
              0.6666666666666666,
              "#ed7953"
             ],
             [
              0.7777777777777778,
              "#fb9f3a"
             ],
             [
              0.8888888888888888,
              "#fdca26"
             ],
             [
              1,
              "#f0f921"
             ]
            ],
            "type": "contour"
           }
          ],
          "contourcarpet": [
           {
            "colorbar": {
             "outlinewidth": 0,
             "ticks": ""
            },
            "type": "contourcarpet"
           }
          ],
          "heatmap": [
           {
            "colorbar": {
             "outlinewidth": 0,
             "ticks": ""
            },
            "colorscale": [
             [
              0,
              "#0d0887"
             ],
             [
              0.1111111111111111,
              "#46039f"
             ],
             [
              0.2222222222222222,
              "#7201a8"
             ],
             [
              0.3333333333333333,
              "#9c179e"
             ],
             [
              0.4444444444444444,
              "#bd3786"
             ],
             [
              0.5555555555555556,
              "#d8576b"
             ],
             [
              0.6666666666666666,
              "#ed7953"
             ],
             [
              0.7777777777777778,
              "#fb9f3a"
             ],
             [
              0.8888888888888888,
              "#fdca26"
             ],
             [
              1,
              "#f0f921"
             ]
            ],
            "type": "heatmap"
           }
          ],
          "histogram": [
           {
            "marker": {
             "pattern": {
              "fillmode": "overlay",
              "size": 10,
              "solidity": 0.2
             }
            },
            "type": "histogram"
           }
          ],
          "histogram2d": [
           {
            "colorbar": {
             "outlinewidth": 0,
             "ticks": ""
            },
            "colorscale": [
             [
              0,
              "#0d0887"
             ],
             [
              0.1111111111111111,
              "#46039f"
             ],
             [
              0.2222222222222222,
              "#7201a8"
             ],
             [
              0.3333333333333333,
              "#9c179e"
             ],
             [
              0.4444444444444444,
              "#bd3786"
             ],
             [
              0.5555555555555556,
              "#d8576b"
             ],
             [
              0.6666666666666666,
              "#ed7953"
             ],
             [
              0.7777777777777778,
              "#fb9f3a"
             ],
             [
              0.8888888888888888,
              "#fdca26"
             ],
             [
              1,
              "#f0f921"
             ]
            ],
            "type": "histogram2d"
           }
          ],
          "histogram2dcontour": [
           {
            "colorbar": {
             "outlinewidth": 0,
             "ticks": ""
            },
            "colorscale": [
             [
              0,
              "#0d0887"
             ],
             [
              0.1111111111111111,
              "#46039f"
             ],
             [
              0.2222222222222222,
              "#7201a8"
             ],
             [
              0.3333333333333333,
              "#9c179e"
             ],
             [
              0.4444444444444444,
              "#bd3786"
             ],
             [
              0.5555555555555556,
              "#d8576b"
             ],
             [
              0.6666666666666666,
              "#ed7953"
             ],
             [
              0.7777777777777778,
              "#fb9f3a"
             ],
             [
              0.8888888888888888,
              "#fdca26"
             ],
             [
              1,
              "#f0f921"
             ]
            ],
            "type": "histogram2dcontour"
           }
          ],
          "mesh3d": [
           {
            "colorbar": {
             "outlinewidth": 0,
             "ticks": ""
            },
            "type": "mesh3d"
           }
          ],
          "parcoords": [
           {
            "line": {
             "colorbar": {
              "outlinewidth": 0,
              "ticks": ""
             }
            },
            "type": "parcoords"
           }
          ],
          "pie": [
           {
            "automargin": true,
            "type": "pie"
           }
          ],
          "scatter": [
           {
            "fillpattern": {
             "fillmode": "overlay",
             "size": 10,
             "solidity": 0.2
            },
            "type": "scatter"
           }
          ],
          "scatter3d": [
           {
            "line": {
             "colorbar": {
              "outlinewidth": 0,
              "ticks": ""
             }
            },
            "marker": {
             "colorbar": {
              "outlinewidth": 0,
              "ticks": ""
             }
            },
            "type": "scatter3d"
           }
          ],
          "scattercarpet": [
           {
            "marker": {
             "colorbar": {
              "outlinewidth": 0,
              "ticks": ""
             }
            },
            "type": "scattercarpet"
           }
          ],
          "scattergeo": [
           {
            "marker": {
             "colorbar": {
              "outlinewidth": 0,
              "ticks": ""
             }
            },
            "type": "scattergeo"
           }
          ],
          "scattergl": [
           {
            "marker": {
             "colorbar": {
              "outlinewidth": 0,
              "ticks": ""
             }
            },
            "type": "scattergl"
           }
          ],
          "scattermap": [
           {
            "marker": {
             "colorbar": {
              "outlinewidth": 0,
              "ticks": ""
             }
            },
            "type": "scattermap"
           }
          ],
          "scattermapbox": [
           {
            "marker": {
             "colorbar": {
              "outlinewidth": 0,
              "ticks": ""
             }
            },
            "type": "scattermapbox"
           }
          ],
          "scatterpolar": [
           {
            "marker": {
             "colorbar": {
              "outlinewidth": 0,
              "ticks": ""
             }
            },
            "type": "scatterpolar"
           }
          ],
          "scatterpolargl": [
           {
            "marker": {
             "colorbar": {
              "outlinewidth": 0,
              "ticks": ""
             }
            },
            "type": "scatterpolargl"
           }
          ],
          "scatterternary": [
           {
            "marker": {
             "colorbar": {
              "outlinewidth": 0,
              "ticks": ""
             }
            },
            "type": "scatterternary"
           }
          ],
          "surface": [
           {
            "colorbar": {
             "outlinewidth": 0,
             "ticks": ""
            },
            "colorscale": [
             [
              0,
              "#0d0887"
             ],
             [
              0.1111111111111111,
              "#46039f"
             ],
             [
              0.2222222222222222,
              "#7201a8"
             ],
             [
              0.3333333333333333,
              "#9c179e"
             ],
             [
              0.4444444444444444,
              "#bd3786"
             ],
             [
              0.5555555555555556,
              "#d8576b"
             ],
             [
              0.6666666666666666,
              "#ed7953"
             ],
             [
              0.7777777777777778,
              "#fb9f3a"
             ],
             [
              0.8888888888888888,
              "#fdca26"
             ],
             [
              1,
              "#f0f921"
             ]
            ],
            "type": "surface"
           }
          ],
          "table": [
           {
            "cells": {
             "fill": {
              "color": "#EBF0F8"
             },
             "line": {
              "color": "white"
             }
            },
            "header": {
             "fill": {
              "color": "#C8D4E3"
             },
             "line": {
              "color": "white"
             }
            },
            "type": "table"
           }
          ]
         },
         "layout": {
          "annotationdefaults": {
           "arrowcolor": "#2a3f5f",
           "arrowhead": 0,
           "arrowwidth": 1
          },
          "autotypenumbers": "strict",
          "coloraxis": {
           "colorbar": {
            "outlinewidth": 0,
            "ticks": ""
           }
          },
          "colorscale": {
           "diverging": [
            [
             0,
             "#8e0152"
            ],
            [
             0.1,
             "#c51b7d"
            ],
            [
             0.2,
             "#de77ae"
            ],
            [
             0.3,
             "#f1b6da"
            ],
            [
             0.4,
             "#fde0ef"
            ],
            [
             0.5,
             "#f7f7f7"
            ],
            [
             0.6,
             "#e6f5d0"
            ],
            [
             0.7,
             "#b8e186"
            ],
            [
             0.8,
             "#7fbc41"
            ],
            [
             0.9,
             "#4d9221"
            ],
            [
             1,
             "#276419"
            ]
           ],
           "sequential": [
            [
             0,
             "#0d0887"
            ],
            [
             0.1111111111111111,
             "#46039f"
            ],
            [
             0.2222222222222222,
             "#7201a8"
            ],
            [
             0.3333333333333333,
             "#9c179e"
            ],
            [
             0.4444444444444444,
             "#bd3786"
            ],
            [
             0.5555555555555556,
             "#d8576b"
            ],
            [
             0.6666666666666666,
             "#ed7953"
            ],
            [
             0.7777777777777778,
             "#fb9f3a"
            ],
            [
             0.8888888888888888,
             "#fdca26"
            ],
            [
             1,
             "#f0f921"
            ]
           ],
           "sequentialminus": [
            [
             0,
             "#0d0887"
            ],
            [
             0.1111111111111111,
             "#46039f"
            ],
            [
             0.2222222222222222,
             "#7201a8"
            ],
            [
             0.3333333333333333,
             "#9c179e"
            ],
            [
             0.4444444444444444,
             "#bd3786"
            ],
            [
             0.5555555555555556,
             "#d8576b"
            ],
            [
             0.6666666666666666,
             "#ed7953"
            ],
            [
             0.7777777777777778,
             "#fb9f3a"
            ],
            [
             0.8888888888888888,
             "#fdca26"
            ],
            [
             1,
             "#f0f921"
            ]
           ]
          },
          "colorway": [
           "#636efa",
           "#EF553B",
           "#00cc96",
           "#ab63fa",
           "#FFA15A",
           "#19d3f3",
           "#FF6692",
           "#B6E880",
           "#FF97FF",
           "#FECB52"
          ],
          "font": {
           "color": "#2a3f5f"
          },
          "geo": {
           "bgcolor": "white",
           "lakecolor": "white",
           "landcolor": "#E5ECF6",
           "showlakes": true,
           "showland": true,
           "subunitcolor": "white"
          },
          "hoverlabel": {
           "align": "left"
          },
          "hovermode": "closest",
          "mapbox": {
           "style": "light"
          },
          "paper_bgcolor": "white",
          "plot_bgcolor": "#E5ECF6",
          "polar": {
           "angularaxis": {
            "gridcolor": "white",
            "linecolor": "white",
            "ticks": ""
           },
           "bgcolor": "#E5ECF6",
           "radialaxis": {
            "gridcolor": "white",
            "linecolor": "white",
            "ticks": ""
           }
          },
          "scene": {
           "xaxis": {
            "backgroundcolor": "#E5ECF6",
            "gridcolor": "white",
            "gridwidth": 2,
            "linecolor": "white",
            "showbackground": true,
            "ticks": "",
            "zerolinecolor": "white"
           },
           "yaxis": {
            "backgroundcolor": "#E5ECF6",
            "gridcolor": "white",
            "gridwidth": 2,
            "linecolor": "white",
            "showbackground": true,
            "ticks": "",
            "zerolinecolor": "white"
           },
           "zaxis": {
            "backgroundcolor": "#E5ECF6",
            "gridcolor": "white",
            "gridwidth": 2,
            "linecolor": "white",
            "showbackground": true,
            "ticks": "",
            "zerolinecolor": "white"
           }
          },
          "shapedefaults": {
           "line": {
            "color": "#2a3f5f"
           }
          },
          "ternary": {
           "aaxis": {
            "gridcolor": "white",
            "linecolor": "white",
            "ticks": ""
           },
           "baxis": {
            "gridcolor": "white",
            "linecolor": "white",
            "ticks": ""
           },
           "bgcolor": "#E5ECF6",
           "caxis": {
            "gridcolor": "white",
            "linecolor": "white",
            "ticks": ""
           }
          },
          "title": {
           "x": 0.05
          },
          "xaxis": {
           "automargin": true,
           "gridcolor": "white",
           "linecolor": "white",
           "ticks": "",
           "title": {
            "standoff": 15
           },
           "zerolinecolor": "white",
           "zerolinewidth": 2
          },
          "yaxis": {
           "automargin": true,
           "gridcolor": "white",
           "linecolor": "white",
           "ticks": "",
           "title": {
            "standoff": 15
           },
           "zerolinecolor": "white",
           "zerolinewidth": 2
          }
         }
        },
        "title": {
         "text": "epoch metrics"
        },
        "xaxis": {
         "anchor": "y",
         "domain": [
          0,
          0.98
         ],
         "title": {
          "text": "epoch"
         }
        },
        "xaxis2": {
         "anchor": "y2",
         "domain": [
          0,
          0.98
         ],
         "matches": "x",
         "showticklabels": false
        },
        "xaxis3": {
         "anchor": "y3",
         "domain": [
          0,
          0.98
         ],
         "matches": "x",
         "showticklabels": false
        },
        "yaxis": {
         "anchor": "x",
         "domain": [
          0,
          0.3133333333333333
         ],
         "title": {
          "text": "value"
         }
        },
        "yaxis2": {
         "anchor": "x2",
         "domain": [
          0.34333333333333327,
          0.6566666666666665
         ],
         "title": {
          "text": "value"
         }
        },
        "yaxis3": {
         "anchor": "x3",
         "domain": [
          0.6866666666666665,
          0.9999999999999998
         ],
         "title": {
          "text": "value"
         }
        }
       }
      }
     },
     "metadata": {},
     "output_type": "display_data"
    },
    {
     "name": "stdout",
     "output_type": "stream",
     "text": [
      "=========================\n",
      "training: 5\n"
     ]
    },
    {
     "data": {
      "application/vnd.jupyter.widget-view+json": {
       "model_id": "66827e20fad2469abd2ce8ccf9efd65e",
       "version_major": 2,
       "version_minor": 0
      },
      "text/plain": [
       "Output()"
      ]
     },
     "metadata": {},
     "output_type": "display_data"
    },
    {
     "data": {
      "text/html": [
       "<pre style=\"white-space:pre;overflow-x:auto;line-height:normal;font-family:Menlo,'DejaVu Sans Mono',consolas,'Courier New',monospace\"></pre>\n"
      ],
      "text/plain": []
     },
     "metadata": {},
     "output_type": "display_data"
    },
    {
     "data": {
      "application/vnd.plotly.v1+json": {
       "config": {
        "plotlyServerURL": "https://plot.ly"
       },
       "data": [
        {
         "hovertemplate": "variable=train_epoch_accuracy<br>epoch=%{x}<br>value=%{y}<extra></extra>",
         "legendgroup": "train_epoch_accuracy",
         "line": {
          "color": "#636efa",
          "dash": "solid"
         },
         "marker": {
          "symbol": "circle"
         },
         "mode": "lines",
         "name": "train_epoch_accuracy",
         "orientation": "v",
         "showlegend": true,
         "type": "scatter",
         "x": {
          "bdata": "AAECAwQFBgcICQoLDA0ODxAREhMUFRYXGBkaGxwdHh8gISIjJCUmJygpKissLS4vMDEyMzQ1Njc4OTo7",
          "dtype": "i1"
         },
         "xaxis": "x3",
         "y": {
          "bdata": "JUcw/KGbxz95kVmhNu7UP6HRMpCPytg//5pEnA4T2z92Yid2YgfdP+Q+D3iRueA/s0Jt3Odh4T8kGP7QzQThP4Cy3bF4NuE/HFw1JH0p4j+WHMHwh97hPy0D+ajyxuE/5tL8Blfd4T+1cZ8HvNjgP/5rEnE6POE/3Uy9kiMY4D+tUBv3ebDgP6/kCIY/xOE/3+CqIemL4T+tUBv3eSDhPwAAAAAAEOE/6pUcwfC34T/EhHX9a+LhP9ADXmRWGOI/D3iRWaF24j8uaLQM5GPiP0PSl0vzm+I/BMMfupkq4z/IR5W3BU3jP3rAi8wKdeM/3OcBLzLL4z8uaLQM5APkP9ADXmRWOOQ/CxotA/lo5D/XvyYRp2PkPxc0WgbyseQ/snj2FAX45D+cc84550zlP4nTYcK6XuU/6WbqlRwx5T8+4EVmhXrlP9ck4nSYkOU/PuBFZoXa5T9+uTS/wfXlP4F8VHlbAOY/y0A+qrwN5j/MpfkNrirmP3slRzD8MeY/7o7Fs6co5j/ko8rbgjbmP9Rhwrr+ReY/6jBhXf9K5j8h6cul+T3mP2+mXskRTOY/JeJ0mLBO5j/sxE7sxE7mP5W3BY2WQeY/SV8uzW9A5j8AAAAAAFDmPxJxOkxYN+Y/",
          "dtype": "f8"
         },
         "yaxis": "y3"
        },
        {
         "hovertemplate": "variable=validation_accuracy<br>epoch=%{x}<br>value=%{y}<extra></extra>",
         "legendgroup": "validation_accuracy",
         "line": {
          "color": "#EF553B",
          "dash": "solid"
         },
         "marker": {
          "symbol": "circle"
         },
         "mode": "lines",
         "name": "validation_accuracy",
         "orientation": "v",
         "showlegend": true,
         "type": "scatter",
         "x": {
          "bdata": "AAECAwQFBgcICQoLDA0ODxAREhMUFRYXGBkaGxwdHh8gISIjJCUmJygpKissLS4vMDEyMzQ1Njc4OTo7",
          "dtype": "i1"
         },
         "xaxis": "x2",
         "y": {
          "bdata": "A1jJJ6FbzD/v8R7v8V7QPy/S2QqJR9E/wvYina3Q0T/nP7XB9mLSP8IhHMIhXNU/52qu5mqu1T9Ct5jU22HVP54Dg8JMFdc/+U9tsL3I1j85rzxd+I7UP97jPd7jvdY/52qu5mqu1T9Ct5jU2yHXP9UG24t0dtY/eY/3eI+31D/Cdw4MCjPXPzowKMxUcdc/Xk7Byym41j8nS2kCAlfVP0K3mNTbIdc/Xk7Byyk42D8ebgawkk/XP9UG24t0dtg/58CgMFPF1z/CTBXnlefYP4t0tkLi0dk/J0tpAgIX2D86MCjMVPHZP8speDkFL9g/J3ZiJ3Yi2T9fpLMVEk/aP+fAoDBTRdo/Hpn/1Aab2T+eLnznwODYP2crJB6Z/9g/p+DlFLyc2T+oC985MKjaP81UcV55uto/J3ZiJ3Yi2j+n4OUUvJzZPwsKM1Wc19o/58CgMFOF2j/NVHFeebraP3AIh3AIB9s/uZqruZqr2j+eLnznwCDbP98ONwNYids/8cj8pzaY2z+Nn69nVl3bP03q7XAzgNs/VsdQw6KH2z8fxPj5embbP/p6ZtUxVNs/+npm1TFU2z8fxPj5embbPx/E+Pl6Zts/sehBjJ9v2z8fxPj5embbP9Yx1LDogds/",
          "dtype": "f8"
         },
         "yaxis": "y2"
        },
        {
         "hovertemplate": "variable=competition_score<br>epoch=%{x}<br>value=%{y}<extra></extra>",
         "legendgroup": "competition_score",
         "line": {
          "color": "#00cc96",
          "dash": "solid"
         },
         "marker": {
          "symbol": "circle"
         },
         "mode": "lines",
         "name": "competition_score",
         "orientation": "v",
         "showlegend": true,
         "type": "scatter",
         "x": {
          "bdata": "AAECAwQFBgcICQoLDA0ODxAREhMUFRYXGBkaGxwdHh8gISIjJCUmJygpKissLS4vMDEyMzQ1Njc4OTo7",
          "dtype": "i1"
         },
         "xaxis": "x",
         "y": {
          "bdata": "gnTLGUrQ3T8uwnGu8V/gP3TsFfgnT+E/TBz7rZql4T+Li3h9TPriP7mDEvOAgeI/CCnf14wy4z//fzFAOcTiP1pyk3qarOM/Bmac3N+Y4j/L3SvvyFviP7mDKqUtvuI/FEsBe4HG4j9SpFr8ehzjP0GVaZvqauI/i/pdC0/s4j9aDb+dmOLhP5x6c6TAOOM/hXICDxEd4j/HHFxWLXjiP24grsMbFeM/0Se2w+oY5D9AM1EHCmHiP9eOXnO0+OM/XDJy9R9F4z/yR0ff4gzkP2T0LOPkhOQ/73jTO0Dr4z8KS/l+tqbjPxAjTQIQF+Q/ZtAyExDG4z8AhQEt3fjjPwfUTCTiEuQ/QlOHvBvI4z/KcB/NQujjP97F+9q1AOQ/zkJDB7JM5D+AoJ7HLFnkP7H4no/mKeQ/wMGxNN1G5D9s5YukcDnkPwAYGCtrtuQ/BefDn4155D+xopMIC2vkPwRUhrc+tOQ/miHQmwuT5D+IMvljHa3kPy4bPLwKtuQ/vin07j6g5D9yz3bAAKTkP0gWhvH4qOQ/xuL/NIuq5D8754TK8rPkP+zrfwcwpeQ/7CjSUeqp5D/TDfpP3b7kP0r8/U9ntOQ/6YdHeHS65D90wT5Hdr3kP3TEJYyDx+Q/",
          "dtype": "f8"
         },
         "yaxis": "y"
        }
       ],
       "layout": {
        "annotations": [
         {
          "font": {},
          "showarrow": false,
          "text": "variable=competition_score",
          "textangle": 90,
          "x": 0.98,
          "xanchor": "left",
          "xref": "paper",
          "y": 0.15666666666666665,
          "yanchor": "middle",
          "yref": "paper"
         },
         {
          "font": {},
          "showarrow": false,
          "text": "variable=validation_accuracy",
          "textangle": 90,
          "x": 0.98,
          "xanchor": "left",
          "xref": "paper",
          "y": 0.4999999999999999,
          "yanchor": "middle",
          "yref": "paper"
         },
         {
          "font": {},
          "showarrow": false,
          "text": "variable=train_epoch_accuracy",
          "textangle": 90,
          "x": 0.98,
          "xanchor": "left",
          "xref": "paper",
          "y": 0.8433333333333332,
          "yanchor": "middle",
          "yref": "paper"
         }
        ],
        "legend": {
         "title": {
          "text": "variable"
         },
         "tracegroupgap": 0
        },
        "template": {
         "data": {
          "bar": [
           {
            "error_x": {
             "color": "#2a3f5f"
            },
            "error_y": {
             "color": "#2a3f5f"
            },
            "marker": {
             "line": {
              "color": "#E5ECF6",
              "width": 0.5
             },
             "pattern": {
              "fillmode": "overlay",
              "size": 10,
              "solidity": 0.2
             }
            },
            "type": "bar"
           }
          ],
          "barpolar": [
           {
            "marker": {
             "line": {
              "color": "#E5ECF6",
              "width": 0.5
             },
             "pattern": {
              "fillmode": "overlay",
              "size": 10,
              "solidity": 0.2
             }
            },
            "type": "barpolar"
           }
          ],
          "carpet": [
           {
            "aaxis": {
             "endlinecolor": "#2a3f5f",
             "gridcolor": "white",
             "linecolor": "white",
             "minorgridcolor": "white",
             "startlinecolor": "#2a3f5f"
            },
            "baxis": {
             "endlinecolor": "#2a3f5f",
             "gridcolor": "white",
             "linecolor": "white",
             "minorgridcolor": "white",
             "startlinecolor": "#2a3f5f"
            },
            "type": "carpet"
           }
          ],
          "choropleth": [
           {
            "colorbar": {
             "outlinewidth": 0,
             "ticks": ""
            },
            "type": "choropleth"
           }
          ],
          "contour": [
           {
            "colorbar": {
             "outlinewidth": 0,
             "ticks": ""
            },
            "colorscale": [
             [
              0,
              "#0d0887"
             ],
             [
              0.1111111111111111,
              "#46039f"
             ],
             [
              0.2222222222222222,
              "#7201a8"
             ],
             [
              0.3333333333333333,
              "#9c179e"
             ],
             [
              0.4444444444444444,
              "#bd3786"
             ],
             [
              0.5555555555555556,
              "#d8576b"
             ],
             [
              0.6666666666666666,
              "#ed7953"
             ],
             [
              0.7777777777777778,
              "#fb9f3a"
             ],
             [
              0.8888888888888888,
              "#fdca26"
             ],
             [
              1,
              "#f0f921"
             ]
            ],
            "type": "contour"
           }
          ],
          "contourcarpet": [
           {
            "colorbar": {
             "outlinewidth": 0,
             "ticks": ""
            },
            "type": "contourcarpet"
           }
          ],
          "heatmap": [
           {
            "colorbar": {
             "outlinewidth": 0,
             "ticks": ""
            },
            "colorscale": [
             [
              0,
              "#0d0887"
             ],
             [
              0.1111111111111111,
              "#46039f"
             ],
             [
              0.2222222222222222,
              "#7201a8"
             ],
             [
              0.3333333333333333,
              "#9c179e"
             ],
             [
              0.4444444444444444,
              "#bd3786"
             ],
             [
              0.5555555555555556,
              "#d8576b"
             ],
             [
              0.6666666666666666,
              "#ed7953"
             ],
             [
              0.7777777777777778,
              "#fb9f3a"
             ],
             [
              0.8888888888888888,
              "#fdca26"
             ],
             [
              1,
              "#f0f921"
             ]
            ],
            "type": "heatmap"
           }
          ],
          "histogram": [
           {
            "marker": {
             "pattern": {
              "fillmode": "overlay",
              "size": 10,
              "solidity": 0.2
             }
            },
            "type": "histogram"
           }
          ],
          "histogram2d": [
           {
            "colorbar": {
             "outlinewidth": 0,
             "ticks": ""
            },
            "colorscale": [
             [
              0,
              "#0d0887"
             ],
             [
              0.1111111111111111,
              "#46039f"
             ],
             [
              0.2222222222222222,
              "#7201a8"
             ],
             [
              0.3333333333333333,
              "#9c179e"
             ],
             [
              0.4444444444444444,
              "#bd3786"
             ],
             [
              0.5555555555555556,
              "#d8576b"
             ],
             [
              0.6666666666666666,
              "#ed7953"
             ],
             [
              0.7777777777777778,
              "#fb9f3a"
             ],
             [
              0.8888888888888888,
              "#fdca26"
             ],
             [
              1,
              "#f0f921"
             ]
            ],
            "type": "histogram2d"
           }
          ],
          "histogram2dcontour": [
           {
            "colorbar": {
             "outlinewidth": 0,
             "ticks": ""
            },
            "colorscale": [
             [
              0,
              "#0d0887"
             ],
             [
              0.1111111111111111,
              "#46039f"
             ],
             [
              0.2222222222222222,
              "#7201a8"
             ],
             [
              0.3333333333333333,
              "#9c179e"
             ],
             [
              0.4444444444444444,
              "#bd3786"
             ],
             [
              0.5555555555555556,
              "#d8576b"
             ],
             [
              0.6666666666666666,
              "#ed7953"
             ],
             [
              0.7777777777777778,
              "#fb9f3a"
             ],
             [
              0.8888888888888888,
              "#fdca26"
             ],
             [
              1,
              "#f0f921"
             ]
            ],
            "type": "histogram2dcontour"
           }
          ],
          "mesh3d": [
           {
            "colorbar": {
             "outlinewidth": 0,
             "ticks": ""
            },
            "type": "mesh3d"
           }
          ],
          "parcoords": [
           {
            "line": {
             "colorbar": {
              "outlinewidth": 0,
              "ticks": ""
             }
            },
            "type": "parcoords"
           }
          ],
          "pie": [
           {
            "automargin": true,
            "type": "pie"
           }
          ],
          "scatter": [
           {
            "fillpattern": {
             "fillmode": "overlay",
             "size": 10,
             "solidity": 0.2
            },
            "type": "scatter"
           }
          ],
          "scatter3d": [
           {
            "line": {
             "colorbar": {
              "outlinewidth": 0,
              "ticks": ""
             }
            },
            "marker": {
             "colorbar": {
              "outlinewidth": 0,
              "ticks": ""
             }
            },
            "type": "scatter3d"
           }
          ],
          "scattercarpet": [
           {
            "marker": {
             "colorbar": {
              "outlinewidth": 0,
              "ticks": ""
             }
            },
            "type": "scattercarpet"
           }
          ],
          "scattergeo": [
           {
            "marker": {
             "colorbar": {
              "outlinewidth": 0,
              "ticks": ""
             }
            },
            "type": "scattergeo"
           }
          ],
          "scattergl": [
           {
            "marker": {
             "colorbar": {
              "outlinewidth": 0,
              "ticks": ""
             }
            },
            "type": "scattergl"
           }
          ],
          "scattermap": [
           {
            "marker": {
             "colorbar": {
              "outlinewidth": 0,
              "ticks": ""
             }
            },
            "type": "scattermap"
           }
          ],
          "scattermapbox": [
           {
            "marker": {
             "colorbar": {
              "outlinewidth": 0,
              "ticks": ""
             }
            },
            "type": "scattermapbox"
           }
          ],
          "scatterpolar": [
           {
            "marker": {
             "colorbar": {
              "outlinewidth": 0,
              "ticks": ""
             }
            },
            "type": "scatterpolar"
           }
          ],
          "scatterpolargl": [
           {
            "marker": {
             "colorbar": {
              "outlinewidth": 0,
              "ticks": ""
             }
            },
            "type": "scatterpolargl"
           }
          ],
          "scatterternary": [
           {
            "marker": {
             "colorbar": {
              "outlinewidth": 0,
              "ticks": ""
             }
            },
            "type": "scatterternary"
           }
          ],
          "surface": [
           {
            "colorbar": {
             "outlinewidth": 0,
             "ticks": ""
            },
            "colorscale": [
             [
              0,
              "#0d0887"
             ],
             [
              0.1111111111111111,
              "#46039f"
             ],
             [
              0.2222222222222222,
              "#7201a8"
             ],
             [
              0.3333333333333333,
              "#9c179e"
             ],
             [
              0.4444444444444444,
              "#bd3786"
             ],
             [
              0.5555555555555556,
              "#d8576b"
             ],
             [
              0.6666666666666666,
              "#ed7953"
             ],
             [
              0.7777777777777778,
              "#fb9f3a"
             ],
             [
              0.8888888888888888,
              "#fdca26"
             ],
             [
              1,
              "#f0f921"
             ]
            ],
            "type": "surface"
           }
          ],
          "table": [
           {
            "cells": {
             "fill": {
              "color": "#EBF0F8"
             },
             "line": {
              "color": "white"
             }
            },
            "header": {
             "fill": {
              "color": "#C8D4E3"
             },
             "line": {
              "color": "white"
             }
            },
            "type": "table"
           }
          ]
         },
         "layout": {
          "annotationdefaults": {
           "arrowcolor": "#2a3f5f",
           "arrowhead": 0,
           "arrowwidth": 1
          },
          "autotypenumbers": "strict",
          "coloraxis": {
           "colorbar": {
            "outlinewidth": 0,
            "ticks": ""
           }
          },
          "colorscale": {
           "diverging": [
            [
             0,
             "#8e0152"
            ],
            [
             0.1,
             "#c51b7d"
            ],
            [
             0.2,
             "#de77ae"
            ],
            [
             0.3,
             "#f1b6da"
            ],
            [
             0.4,
             "#fde0ef"
            ],
            [
             0.5,
             "#f7f7f7"
            ],
            [
             0.6,
             "#e6f5d0"
            ],
            [
             0.7,
             "#b8e186"
            ],
            [
             0.8,
             "#7fbc41"
            ],
            [
             0.9,
             "#4d9221"
            ],
            [
             1,
             "#276419"
            ]
           ],
           "sequential": [
            [
             0,
             "#0d0887"
            ],
            [
             0.1111111111111111,
             "#46039f"
            ],
            [
             0.2222222222222222,
             "#7201a8"
            ],
            [
             0.3333333333333333,
             "#9c179e"
            ],
            [
             0.4444444444444444,
             "#bd3786"
            ],
            [
             0.5555555555555556,
             "#d8576b"
            ],
            [
             0.6666666666666666,
             "#ed7953"
            ],
            [
             0.7777777777777778,
             "#fb9f3a"
            ],
            [
             0.8888888888888888,
             "#fdca26"
            ],
            [
             1,
             "#f0f921"
            ]
           ],
           "sequentialminus": [
            [
             0,
             "#0d0887"
            ],
            [
             0.1111111111111111,
             "#46039f"
            ],
            [
             0.2222222222222222,
             "#7201a8"
            ],
            [
             0.3333333333333333,
             "#9c179e"
            ],
            [
             0.4444444444444444,
             "#bd3786"
            ],
            [
             0.5555555555555556,
             "#d8576b"
            ],
            [
             0.6666666666666666,
             "#ed7953"
            ],
            [
             0.7777777777777778,
             "#fb9f3a"
            ],
            [
             0.8888888888888888,
             "#fdca26"
            ],
            [
             1,
             "#f0f921"
            ]
           ]
          },
          "colorway": [
           "#636efa",
           "#EF553B",
           "#00cc96",
           "#ab63fa",
           "#FFA15A",
           "#19d3f3",
           "#FF6692",
           "#B6E880",
           "#FF97FF",
           "#FECB52"
          ],
          "font": {
           "color": "#2a3f5f"
          },
          "geo": {
           "bgcolor": "white",
           "lakecolor": "white",
           "landcolor": "#E5ECF6",
           "showlakes": true,
           "showland": true,
           "subunitcolor": "white"
          },
          "hoverlabel": {
           "align": "left"
          },
          "hovermode": "closest",
          "mapbox": {
           "style": "light"
          },
          "paper_bgcolor": "white",
          "plot_bgcolor": "#E5ECF6",
          "polar": {
           "angularaxis": {
            "gridcolor": "white",
            "linecolor": "white",
            "ticks": ""
           },
           "bgcolor": "#E5ECF6",
           "radialaxis": {
            "gridcolor": "white",
            "linecolor": "white",
            "ticks": ""
           }
          },
          "scene": {
           "xaxis": {
            "backgroundcolor": "#E5ECF6",
            "gridcolor": "white",
            "gridwidth": 2,
            "linecolor": "white",
            "showbackground": true,
            "ticks": "",
            "zerolinecolor": "white"
           },
           "yaxis": {
            "backgroundcolor": "#E5ECF6",
            "gridcolor": "white",
            "gridwidth": 2,
            "linecolor": "white",
            "showbackground": true,
            "ticks": "",
            "zerolinecolor": "white"
           },
           "zaxis": {
            "backgroundcolor": "#E5ECF6",
            "gridcolor": "white",
            "gridwidth": 2,
            "linecolor": "white",
            "showbackground": true,
            "ticks": "",
            "zerolinecolor": "white"
           }
          },
          "shapedefaults": {
           "line": {
            "color": "#2a3f5f"
           }
          },
          "ternary": {
           "aaxis": {
            "gridcolor": "white",
            "linecolor": "white",
            "ticks": ""
           },
           "baxis": {
            "gridcolor": "white",
            "linecolor": "white",
            "ticks": ""
           },
           "bgcolor": "#E5ECF6",
           "caxis": {
            "gridcolor": "white",
            "linecolor": "white",
            "ticks": ""
           }
          },
          "title": {
           "x": 0.05
          },
          "xaxis": {
           "automargin": true,
           "gridcolor": "white",
           "linecolor": "white",
           "ticks": "",
           "title": {
            "standoff": 15
           },
           "zerolinecolor": "white",
           "zerolinewidth": 2
          },
          "yaxis": {
           "automargin": true,
           "gridcolor": "white",
           "linecolor": "white",
           "ticks": "",
           "title": {
            "standoff": 15
           },
           "zerolinecolor": "white",
           "zerolinewidth": 2
          }
         }
        },
        "title": {
         "text": "epoch metrics"
        },
        "xaxis": {
         "anchor": "y",
         "domain": [
          0,
          0.98
         ],
         "title": {
          "text": "epoch"
         }
        },
        "xaxis2": {
         "anchor": "y2",
         "domain": [
          0,
          0.98
         ],
         "matches": "x",
         "showticklabels": false
        },
        "xaxis3": {
         "anchor": "y3",
         "domain": [
          0,
          0.98
         ],
         "matches": "x",
         "showticklabels": false
        },
        "yaxis": {
         "anchor": "x",
         "domain": [
          0,
          0.3133333333333333
         ],
         "title": {
          "text": "value"
         }
        },
        "yaxis2": {
         "anchor": "x2",
         "domain": [
          0.34333333333333327,
          0.6566666666666665
         ],
         "title": {
          "text": "value"
         }
        },
        "yaxis3": {
         "anchor": "x3",
         "domain": [
          0.6866666666666665,
          0.9999999999999998
         ],
         "title": {
          "text": "value"
         }
        }
       }
      }
     },
     "metadata": {},
     "output_type": "display_data"
    },
    {
     "name": "stdout",
     "output_type": "stream",
     "text": [
      "=========================\n"
     ]
    }
   ],
   "source": [
    "fold_patterns = join(dataset_path, \"preprocessed_dataset\", \"fold*\")\n",
    "fold_pths = glob(fold_patterns)[:NB_CROSS_VALIDATIONS]\n",
    "all_training_metrics = {}\n",
    "\n",
    "for fold_idx, fold_pth in enumerate(fold_pths):\n",
    "    print(\"training:\", fold_idx + 1)\n",
    "    train_dataset = CMIDataset(fold_pth, \"train\")\n",
    "    train_data_loader = DL(train_dataset, BATCH_SIZE, shuffle=True)\n",
    "    validation_dataset = CMIDataset(fold_pth, \"validation\")\n",
    "    validation_data_loader = DL(validation_dataset, BATCH_SIZE, shuffle=False)\n",
    "    _, training_metrics, _ = mk_model_and_fit(\n",
    "        train_data_loader,\n",
    "        validation_loader=validation_data_loader, \n",
    "        mk_scheduler=partial(\n",
    "            torch.optim.lr_scheduler.OneCycleLR,\n",
    "            max_lr=max_lr / 2,\n",
    "            div_factor=MAX_LR_TO_MIN_DIV_FACTOR,\n",
    "            epochs=TRAINING_EPOCHS,\n",
    "            steps_per_epoch=len(train_data_loader),\n",
    "        )\n",
    "    )\n",
    "    all_training_metrics[\"fold_\" + str(fold_idx)] = training_metrics\n",
    "    plt_cross_validation_training_metrics(training_metrics)\n",
    "    print(\"=========================\")\n",
    "\n",
    "if NB_CROSS_VALIDATIONS:\n",
    "    all_training_metrics = pd.concat(all_training_metrics)"
   ]
  },
  {
   "cell_type": "code",
   "execution_count": 106,
   "id": "0e54c23c",
   "metadata": {},
   "outputs": [
    {
     "data": {
      "text/html": [
       "<div>\n",
       "<style scoped>\n",
       "    .dataframe tbody tr th:only-of-type {\n",
       "        vertical-align: middle;\n",
       "    }\n",
       "\n",
       "    .dataframe tbody tr th {\n",
       "        vertical-align: top;\n",
       "    }\n",
       "\n",
       "    .dataframe thead th {\n",
       "        text-align: right;\n",
       "    }\n",
       "</style>\n",
       "<table border=\"1\" class=\"dataframe\">\n",
       "  <thead>\n",
       "    <tr style=\"text-align: right;\">\n",
       "      <th></th>\n",
       "      <th>train_epoch_loss</th>\n",
       "      <th>train_epoch_accuracy</th>\n",
       "      <th>validation_loss</th>\n",
       "      <th>validation_accuracy</th>\n",
       "      <th>competition_score</th>\n",
       "    </tr>\n",
       "  </thead>\n",
       "  <tbody>\n",
       "    <tr>\n",
       "      <th>mean</th>\n",
       "      <td>2.537597</td>\n",
       "      <td>0.443416</td>\n",
       "      <td>2.651108</td>\n",
       "      <td>0.329338</td>\n",
       "      <td>0.563472</td>\n",
       "    </tr>\n",
       "    <tr>\n",
       "      <th>std</th>\n",
       "      <td>0.071056</td>\n",
       "      <td>0.071189</td>\n",
       "      <td>0.055084</td>\n",
       "      <td>0.055335</td>\n",
       "      <td>0.044661</td>\n",
       "    </tr>\n",
       "  </tbody>\n",
       "</table>\n",
       "</div>"
      ],
      "text/plain": [
       "      train_epoch_loss  train_epoch_accuracy  validation_loss  \\\n",
       "mean          2.537597              0.443416         2.651108   \n",
       "std           0.071056              0.071189         0.055084   \n",
       "\n",
       "      validation_accuracy  competition_score  \n",
       "mean             0.329338           0.563472  \n",
       "std              0.055335           0.044661  "
      ]
     },
     "metadata": {},
     "output_type": "display_data"
    }
   ],
   "source": [
    "if NB_CROSS_VALIDATIONS:\n",
    "    display(\n",
    "        all_training_metrics\n",
    "        .loc[:,\n",
    "            [\n",
    "                \"train_epoch_loss\",\n",
    "                \"train_epoch_accuracy\",\n",
    "                \"validation_loss\",\n",
    "                \"validation_accuracy\",\n",
    "                \"competition_score\",\n",
    "            ],\n",
    "        ]\n",
    "        .agg([\"mean\", \"std\"])\n",
    "    )"
   ]
  },
  {
   "cell_type": "markdown",
   "id": "aab08b93",
   "metadata": {},
   "source": [
    "## Full dataset training"
   ]
  },
  {
   "cell_type": "code",
   "execution_count": 107,
   "id": "54e0f30b",
   "metadata": {},
   "outputs": [],
   "source": [
    "def plt_full_dataset_training_metrics(training_metrics:DF):\n",
    "    (\n",
    "        px.scatter(\n",
    "            (\n",
    "                training_metrics\n",
    "                .melt(\n",
    "                    id_vars=\"step\",\n",
    "                    value_vars=[\n",
    "                        \"batch_train_loss\",\n",
    "                        \"batch_accuracy\",\n",
    "                    ]\n",
    "                )\n",
    "            ),\n",
    "            x=\"step\",\n",
    "            y=\"value\",\n",
    "            facet_row=\"variable\",\n",
    "            trendline=\"ewm\",\n",
    "            trendline_options={\"com\": 30},\n",
    "            trendline_color_override=\"red\",\n",
    "            title=\"batch metrics\",\n",
    "        )\n",
    "        .update_yaxes(matches=None)\n",
    "        .show()\n",
    "    )"
   ]
  },
  {
   "cell_type": "code",
   "execution_count": 110,
   "id": "e6a350f8",
   "metadata": {},
   "outputs": [
    {
     "data": {
      "application/vnd.jupyter.widget-view+json": {
       "model_id": "df45ae2d0f364133afc234b3a1a68586",
       "version_major": 2,
       "version_minor": 0
      },
      "text/plain": [
       "Output()"
      ]
     },
     "metadata": {},
     "output_type": "display_data"
    },
    {
     "data": {
      "text/html": [
       "<pre style=\"white-space:pre;overflow-x:auto;line-height:normal;font-family:Menlo,'DejaVu Sans Mono',consolas,'Courier New',monospace\"></pre>\n"
      ],
      "text/plain": []
     },
     "metadata": {},
     "output_type": "display_data"
    },
    {
     "data": {
      "application/vnd.plotly.v1+json": {
       "config": {
        "plotlyServerURL": "https://plot.ly"
       },
       "data": [
        {
         "hovertemplate": "variable=batch_train_loss<br>step=%{x}<br>value=%{y}<extra></extra>",
         "legendgroup": "",
         "marker": {
          "color": "#636efa",
          "symbol": "circle"
         },
         "mode": "markers",
         "name": "",
         "showlegend": false,
         "type": "scattergl",
         "x": {
          "bdata": "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",
          "dtype": "i2"
         },
         "xaxis": "x2",
         "y": {
          "bdata": "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",
          "dtype": "f8"
         },
         "yaxis": "y2"
        },
        {
         "hovertemplate": "<b>Exponentially Weighted mean trendline</b><br><br>variable=batch_train_loss<br>step=%{x}<br>value=%{y} <b>(trend)</b><extra></extra>",
         "legendgroup": "",
         "line": {
          "color": "red"
         },
         "marker": {
          "color": "#636efa",
          "symbol": "circle"
         },
         "mode": "lines",
         "name": "",
         "showlegend": false,
         "type": "scattergl",
         "x": {
          "bdata": "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",
          "dtype": "i2"
         },
         "xaxis": "x2",
         "y": {
          "bdata": "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",
          "dtype": "f8"
         },
         "yaxis": "y2"
        },
        {
         "hovertemplate": "variable=batch_accuracy<br>step=%{x}<br>value=%{y}<extra></extra>",
         "legendgroup": "",
         "marker": {
          "color": "#636efa",
          "symbol": "circle"
         },
         "mode": "markers",
         "name": "",
         "showlegend": false,
         "type": "scattergl",
         "x": {
          "bdata": "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",
          "dtype": "i2"
         },
         "xaxis": "x",
         "y": {
          "bdata": "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",
          "dtype": "f8"
         },
         "yaxis": "y"
        },
        {
         "hovertemplate": "<b>Exponentially Weighted mean trendline</b><br><br>variable=batch_accuracy<br>step=%{x}<br>value=%{y} <b>(trend)</b><extra></extra>",
         "legendgroup": "",
         "line": {
          "color": "red"
         },
         "marker": {
          "color": "#636efa",
          "symbol": "circle"
         },
         "mode": "lines",
         "name": "",
         "showlegend": false,
         "type": "scattergl",
         "x": {
          "bdata": "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",
          "dtype": "i2"
         },
         "xaxis": "x",
         "y": {
          "bdata": "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",
          "dtype": "f8"
         },
         "yaxis": "y"
        }
       ],
       "layout": {
        "annotations": [
         {
          "font": {},
          "showarrow": false,
          "text": "variable=batch_accuracy",
          "textangle": 90,
          "x": 0.98,
          "xanchor": "left",
          "xref": "paper",
          "y": 0.2425,
          "yanchor": "middle",
          "yref": "paper"
         },
         {
          "font": {},
          "showarrow": false,
          "text": "variable=batch_train_loss",
          "textangle": 90,
          "x": 0.98,
          "xanchor": "left",
          "xref": "paper",
          "y": 0.7575000000000001,
          "yanchor": "middle",
          "yref": "paper"
         }
        ],
        "legend": {
         "tracegroupgap": 0
        },
        "template": {
         "data": {
          "bar": [
           {
            "error_x": {
             "color": "#2a3f5f"
            },
            "error_y": {
             "color": "#2a3f5f"
            },
            "marker": {
             "line": {
              "color": "#E5ECF6",
              "width": 0.5
             },
             "pattern": {
              "fillmode": "overlay",
              "size": 10,
              "solidity": 0.2
             }
            },
            "type": "bar"
           }
          ],
          "barpolar": [
           {
            "marker": {
             "line": {
              "color": "#E5ECF6",
              "width": 0.5
             },
             "pattern": {
              "fillmode": "overlay",
              "size": 10,
              "solidity": 0.2
             }
            },
            "type": "barpolar"
           }
          ],
          "carpet": [
           {
            "aaxis": {
             "endlinecolor": "#2a3f5f",
             "gridcolor": "white",
             "linecolor": "white",
             "minorgridcolor": "white",
             "startlinecolor": "#2a3f5f"
            },
            "baxis": {
             "endlinecolor": "#2a3f5f",
             "gridcolor": "white",
             "linecolor": "white",
             "minorgridcolor": "white",
             "startlinecolor": "#2a3f5f"
            },
            "type": "carpet"
           }
          ],
          "choropleth": [
           {
            "colorbar": {
             "outlinewidth": 0,
             "ticks": ""
            },
            "type": "choropleth"
           }
          ],
          "contour": [
           {
            "colorbar": {
             "outlinewidth": 0,
             "ticks": ""
            },
            "colorscale": [
             [
              0,
              "#0d0887"
             ],
             [
              0.1111111111111111,
              "#46039f"
             ],
             [
              0.2222222222222222,
              "#7201a8"
             ],
             [
              0.3333333333333333,
              "#9c179e"
             ],
             [
              0.4444444444444444,
              "#bd3786"
             ],
             [
              0.5555555555555556,
              "#d8576b"
             ],
             [
              0.6666666666666666,
              "#ed7953"
             ],
             [
              0.7777777777777778,
              "#fb9f3a"
             ],
             [
              0.8888888888888888,
              "#fdca26"
             ],
             [
              1,
              "#f0f921"
             ]
            ],
            "type": "contour"
           }
          ],
          "contourcarpet": [
           {
            "colorbar": {
             "outlinewidth": 0,
             "ticks": ""
            },
            "type": "contourcarpet"
           }
          ],
          "heatmap": [
           {
            "colorbar": {
             "outlinewidth": 0,
             "ticks": ""
            },
            "colorscale": [
             [
              0,
              "#0d0887"
             ],
             [
              0.1111111111111111,
              "#46039f"
             ],
             [
              0.2222222222222222,
              "#7201a8"
             ],
             [
              0.3333333333333333,
              "#9c179e"
             ],
             [
              0.4444444444444444,
              "#bd3786"
             ],
             [
              0.5555555555555556,
              "#d8576b"
             ],
             [
              0.6666666666666666,
              "#ed7953"
             ],
             [
              0.7777777777777778,
              "#fb9f3a"
             ],
             [
              0.8888888888888888,
              "#fdca26"
             ],
             [
              1,
              "#f0f921"
             ]
            ],
            "type": "heatmap"
           }
          ],
          "histogram": [
           {
            "marker": {
             "pattern": {
              "fillmode": "overlay",
              "size": 10,
              "solidity": 0.2
             }
            },
            "type": "histogram"
           }
          ],
          "histogram2d": [
           {
            "colorbar": {
             "outlinewidth": 0,
             "ticks": ""
            },
            "colorscale": [
             [
              0,
              "#0d0887"
             ],
             [
              0.1111111111111111,
              "#46039f"
             ],
             [
              0.2222222222222222,
              "#7201a8"
             ],
             [
              0.3333333333333333,
              "#9c179e"
             ],
             [
              0.4444444444444444,
              "#bd3786"
             ],
             [
              0.5555555555555556,
              "#d8576b"
             ],
             [
              0.6666666666666666,
              "#ed7953"
             ],
             [
              0.7777777777777778,
              "#fb9f3a"
             ],
             [
              0.8888888888888888,
              "#fdca26"
             ],
             [
              1,
              "#f0f921"
             ]
            ],
            "type": "histogram2d"
           }
          ],
          "histogram2dcontour": [
           {
            "colorbar": {
             "outlinewidth": 0,
             "ticks": ""
            },
            "colorscale": [
             [
              0,
              "#0d0887"
             ],
             [
              0.1111111111111111,
              "#46039f"
             ],
             [
              0.2222222222222222,
              "#7201a8"
             ],
             [
              0.3333333333333333,
              "#9c179e"
             ],
             [
              0.4444444444444444,
              "#bd3786"
             ],
             [
              0.5555555555555556,
              "#d8576b"
             ],
             [
              0.6666666666666666,
              "#ed7953"
             ],
             [
              0.7777777777777778,
              "#fb9f3a"
             ],
             [
              0.8888888888888888,
              "#fdca26"
             ],
             [
              1,
              "#f0f921"
             ]
            ],
            "type": "histogram2dcontour"
           }
          ],
          "mesh3d": [
           {
            "colorbar": {
             "outlinewidth": 0,
             "ticks": ""
            },
            "type": "mesh3d"
           }
          ],
          "parcoords": [
           {
            "line": {
             "colorbar": {
              "outlinewidth": 0,
              "ticks": ""
             }
            },
            "type": "parcoords"
           }
          ],
          "pie": [
           {
            "automargin": true,
            "type": "pie"
           }
          ],
          "scatter": [
           {
            "fillpattern": {
             "fillmode": "overlay",
             "size": 10,
             "solidity": 0.2
            },
            "type": "scatter"
           }
          ],
          "scatter3d": [
           {
            "line": {
             "colorbar": {
              "outlinewidth": 0,
              "ticks": ""
             }
            },
            "marker": {
             "colorbar": {
              "outlinewidth": 0,
              "ticks": ""
             }
            },
            "type": "scatter3d"
           }
          ],
          "scattercarpet": [
           {
            "marker": {
             "colorbar": {
              "outlinewidth": 0,
              "ticks": ""
             }
            },
            "type": "scattercarpet"
           }
          ],
          "scattergeo": [
           {
            "marker": {
             "colorbar": {
              "outlinewidth": 0,
              "ticks": ""
             }
            },
            "type": "scattergeo"
           }
          ],
          "scattergl": [
           {
            "marker": {
             "colorbar": {
              "outlinewidth": 0,
              "ticks": ""
             }
            },
            "type": "scattergl"
           }
          ],
          "scattermap": [
           {
            "marker": {
             "colorbar": {
              "outlinewidth": 0,
              "ticks": ""
             }
            },
            "type": "scattermap"
           }
          ],
          "scattermapbox": [
           {
            "marker": {
             "colorbar": {
              "outlinewidth": 0,
              "ticks": ""
             }
            },
            "type": "scattermapbox"
           }
          ],
          "scatterpolar": [
           {
            "marker": {
             "colorbar": {
              "outlinewidth": 0,
              "ticks": ""
             }
            },
            "type": "scatterpolar"
           }
          ],
          "scatterpolargl": [
           {
            "marker": {
             "colorbar": {
              "outlinewidth": 0,
              "ticks": ""
             }
            },
            "type": "scatterpolargl"
           }
          ],
          "scatterternary": [
           {
            "marker": {
             "colorbar": {
              "outlinewidth": 0,
              "ticks": ""
             }
            },
            "type": "scatterternary"
           }
          ],
          "surface": [
           {
            "colorbar": {
             "outlinewidth": 0,
             "ticks": ""
            },
            "colorscale": [
             [
              0,
              "#0d0887"
             ],
             [
              0.1111111111111111,
              "#46039f"
             ],
             [
              0.2222222222222222,
              "#7201a8"
             ],
             [
              0.3333333333333333,
              "#9c179e"
             ],
             [
              0.4444444444444444,
              "#bd3786"
             ],
             [
              0.5555555555555556,
              "#d8576b"
             ],
             [
              0.6666666666666666,
              "#ed7953"
             ],
             [
              0.7777777777777778,
              "#fb9f3a"
             ],
             [
              0.8888888888888888,
              "#fdca26"
             ],
             [
              1,
              "#f0f921"
             ]
            ],
            "type": "surface"
           }
          ],
          "table": [
           {
            "cells": {
             "fill": {
              "color": "#EBF0F8"
             },
             "line": {
              "color": "white"
             }
            },
            "header": {
             "fill": {
              "color": "#C8D4E3"
             },
             "line": {
              "color": "white"
             }
            },
            "type": "table"
           }
          ]
         },
         "layout": {
          "annotationdefaults": {
           "arrowcolor": "#2a3f5f",
           "arrowhead": 0,
           "arrowwidth": 1
          },
          "autotypenumbers": "strict",
          "coloraxis": {
           "colorbar": {
            "outlinewidth": 0,
            "ticks": ""
           }
          },
          "colorscale": {
           "diverging": [
            [
             0,
             "#8e0152"
            ],
            [
             0.1,
             "#c51b7d"
            ],
            [
             0.2,
             "#de77ae"
            ],
            [
             0.3,
             "#f1b6da"
            ],
            [
             0.4,
             "#fde0ef"
            ],
            [
             0.5,
             "#f7f7f7"
            ],
            [
             0.6,
             "#e6f5d0"
            ],
            [
             0.7,
             "#b8e186"
            ],
            [
             0.8,
             "#7fbc41"
            ],
            [
             0.9,
             "#4d9221"
            ],
            [
             1,
             "#276419"
            ]
           ],
           "sequential": [
            [
             0,
             "#0d0887"
            ],
            [
             0.1111111111111111,
             "#46039f"
            ],
            [
             0.2222222222222222,
             "#7201a8"
            ],
            [
             0.3333333333333333,
             "#9c179e"
            ],
            [
             0.4444444444444444,
             "#bd3786"
            ],
            [
             0.5555555555555556,
             "#d8576b"
            ],
            [
             0.6666666666666666,
             "#ed7953"
            ],
            [
             0.7777777777777778,
             "#fb9f3a"
            ],
            [
             0.8888888888888888,
             "#fdca26"
            ],
            [
             1,
             "#f0f921"
            ]
           ],
           "sequentialminus": [
            [
             0,
             "#0d0887"
            ],
            [
             0.1111111111111111,
             "#46039f"
            ],
            [
             0.2222222222222222,
             "#7201a8"
            ],
            [
             0.3333333333333333,
             "#9c179e"
            ],
            [
             0.4444444444444444,
             "#bd3786"
            ],
            [
             0.5555555555555556,
             "#d8576b"
            ],
            [
             0.6666666666666666,
             "#ed7953"
            ],
            [
             0.7777777777777778,
             "#fb9f3a"
            ],
            [
             0.8888888888888888,
             "#fdca26"
            ],
            [
             1,
             "#f0f921"
            ]
           ]
          },
          "colorway": [
           "#636efa",
           "#EF553B",
           "#00cc96",
           "#ab63fa",
           "#FFA15A",
           "#19d3f3",
           "#FF6692",
           "#B6E880",
           "#FF97FF",
           "#FECB52"
          ],
          "font": {
           "color": "#2a3f5f"
          },
          "geo": {
           "bgcolor": "white",
           "lakecolor": "white",
           "landcolor": "#E5ECF6",
           "showlakes": true,
           "showland": true,
           "subunitcolor": "white"
          },
          "hoverlabel": {
           "align": "left"
          },
          "hovermode": "closest",
          "mapbox": {
           "style": "light"
          },
          "paper_bgcolor": "white",
          "plot_bgcolor": "#E5ECF6",
          "polar": {
           "angularaxis": {
            "gridcolor": "white",
            "linecolor": "white",
            "ticks": ""
           },
           "bgcolor": "#E5ECF6",
           "radialaxis": {
            "gridcolor": "white",
            "linecolor": "white",
            "ticks": ""
           }
          },
          "scene": {
           "xaxis": {
            "backgroundcolor": "#E5ECF6",
            "gridcolor": "white",
            "gridwidth": 2,
            "linecolor": "white",
            "showbackground": true,
            "ticks": "",
            "zerolinecolor": "white"
           },
           "yaxis": {
            "backgroundcolor": "#E5ECF6",
            "gridcolor": "white",
            "gridwidth": 2,
            "linecolor": "white",
            "showbackground": true,
            "ticks": "",
            "zerolinecolor": "white"
           },
           "zaxis": {
            "backgroundcolor": "#E5ECF6",
            "gridcolor": "white",
            "gridwidth": 2,
            "linecolor": "white",
            "showbackground": true,
            "ticks": "",
            "zerolinecolor": "white"
           }
          },
          "shapedefaults": {
           "line": {
            "color": "#2a3f5f"
           }
          },
          "ternary": {
           "aaxis": {
            "gridcolor": "white",
            "linecolor": "white",
            "ticks": ""
           },
           "baxis": {
            "gridcolor": "white",
            "linecolor": "white",
            "ticks": ""
           },
           "bgcolor": "#E5ECF6",
           "caxis": {
            "gridcolor": "white",
            "linecolor": "white",
            "ticks": ""
           }
          },
          "title": {
           "x": 0.05
          },
          "xaxis": {
           "automargin": true,
           "gridcolor": "white",
           "linecolor": "white",
           "ticks": "",
           "title": {
            "standoff": 15
           },
           "zerolinecolor": "white",
           "zerolinewidth": 2
          },
          "yaxis": {
           "automargin": true,
           "gridcolor": "white",
           "linecolor": "white",
           "ticks": "",
           "title": {
            "standoff": 15
           },
           "zerolinecolor": "white",
           "zerolinewidth": 2
          }
         }
        },
        "title": {
         "text": "batch metrics"
        },
        "xaxis": {
         "anchor": "y",
         "domain": [
          0,
          0.98
         ],
         "title": {
          "text": "step"
         }
        },
        "xaxis2": {
         "anchor": "y2",
         "domain": [
          0,
          0.98
         ],
         "matches": "x",
         "showticklabels": false
        },
        "yaxis": {
         "anchor": "x",
         "domain": [
          0,
          0.485
         ],
         "title": {
          "text": "value"
         }
        },
        "yaxis2": {
         "anchor": "x2",
         "domain": [
          0.515,
          1
         ],
         "title": {
          "text": "value"
         }
        }
       }
      }
     },
     "metadata": {},
     "output_type": "display_data"
    }
   ],
   "source": [
    "full_dataset = CMIDataset(\"full_dataset\")\n",
    "full_dataset_loader = DL(full_dataset, BATCH_SIZE, shuffle=True)\n",
    "model, full_train_metrics, checkpoints = mk_model_and_fit(\n",
    "    full_dataset_loader,\n",
    "    mk_scheduler=partial(\n",
    "        torch.optim.lr_scheduler.OneCycleLR,\n",
    "        max_lr=max_lr / 2,\n",
    "        div_factor=MAX_LR_TO_MIN_DIV_FACTOR,\n",
    "        epochs=TRAINING_EPOCHS,\n",
    "        steps_per_epoch=len(full_dataset_loader),\n",
    "    )\n",
    ")\n",
    "plt_full_dataset_training_metrics(full_train_metrics)"
   ]
  },
  {
   "cell_type": "markdown",
   "id": "f0081b6e",
   "metadata": {},
   "source": [
    "## Model upload"
   ]
  },
  {
   "cell_type": "code",
   "execution_count": null,
   "id": "87578050",
   "metadata": {},
   "outputs": [
    {
     "ename": "UnauthenticatedError",
     "evalue": "User is not authenticated",
     "output_type": "error",
     "traceback": [
      "\u001b[31m---------------------------------------------------------------------------\u001b[39m",
      "\u001b[31mUnauthenticatedError\u001b[39m                      Traceback (most recent call last)",
      "\u001b[36mCell\u001b[39m\u001b[36m \u001b[39m\u001b[32mIn[20]\u001b[39m\u001b[32m, line 1\u001b[39m\n\u001b[32m----> \u001b[39m\u001b[32m1\u001b[39m handle = \u001b[33mf\u001b[39m\u001b[33m\"\u001b[39m\u001b[38;5;132;01m{\u001b[39;00m\u001b[43mkagglehub\u001b[49m\u001b[43m.\u001b[49m\u001b[43mwhoami\u001b[49m\u001b[43m(\u001b[49m\u001b[43m)\u001b[49m[\u001b[33m'\u001b[39m\u001b[33musername\u001b[39m\u001b[33m'\u001b[39m]\u001b[38;5;132;01m}\u001b[39;00m\u001b[33m/cmi-resnet/pyTorch/\u001b[39m\u001b[38;5;132;01m{\u001b[39;00mmk_date_now_str().replace(\u001b[33m'\u001b[39m\u001b[33m_\u001b[39m\u001b[33m'\u001b[39m,\u001b[38;5;250m \u001b[39m\u001b[33m'\u001b[39m\u001b[33m-\u001b[39m\u001b[33m'\u001b[39m)\u001b[38;5;132;01m}\u001b[39;00m\u001b[33m\"\u001b[39m\n\u001b[32m      2\u001b[39m model_path = realpath(join(checkpoints))\n\u001b[32m      3\u001b[39m display(model_path)\n",
      "\u001b[36mFile \u001b[39m\u001b[32m/venv/CMI/lib/python3.11/site-packages/kagglehub/auth.py:158\u001b[39m, in \u001b[36mwhoami\u001b[39m\u001b[34m(verbose)\u001b[39m\n\u001b[32m    156\u001b[39m api_client = KaggleApiV1Client()\n\u001b[32m    157\u001b[39m \u001b[38;5;28;01mif\u001b[39;00m \u001b[38;5;129;01mnot\u001b[39;00m api_client.has_credentials():\n\u001b[32m--> \u001b[39m\u001b[32m158\u001b[39m     \u001b[38;5;28;01mraise\u001b[39;00m UnauthenticatedError()\n\u001b[32m    159\u001b[39m \u001b[38;5;28;01mtry\u001b[39;00m:\n\u001b[32m    160\u001b[39m     username = _validate_credentials_helper(verbose=verbose)\n",
      "\u001b[31mUnauthenticatedError\u001b[39m: User is not authenticated"
     ]
    }
   ],
   "source": [
    "handle = f\"{kagglehub.whoami()['username']}/cmi-resnet/pyTorch/{mk_date_now_str().replace('_', '-')}\"\n",
    "model_path = realpath(join(checkpoints))\n",
    "display(model_path)\n",
    "kagglehub.model_upload(handle, model_path)"
   ]
  }
 ],
 "metadata": {
  "kernelspec": {
   "display_name": "Python 3",
   "language": "python",
   "name": "python3"
  },
  "language_info": {
   "codemirror_mode": {
    "name": "ipython",
    "version": 3
   },
   "file_extension": ".py",
   "mimetype": "text/x-python",
   "name": "python",
   "nbconvert_exporter": "python",
   "pygments_lexer": "ipython3",
   "version": "3.11.5"
  }
 },
 "nbformat": 4,
 "nbformat_minor": 5
}
