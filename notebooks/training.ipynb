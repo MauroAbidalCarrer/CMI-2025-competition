{
 "cells": [
  {
   "cell_type": "markdown",
   "id": "53d41434",
   "metadata": {},
   "source": [
    "# Training model\n",
    "The goal of this notebook is to train a model and upload it to kaggle."
   ]
  },
  {
   "cell_type": "markdown",
   "id": "696a0573",
   "metadata": {},
   "source": [
    "## Setup"
   ]
  },
  {
   "cell_type": "markdown",
   "id": "dc4c23f0",
   "metadata": {},
   "source": [
    "### Imports"
   ]
  },
  {
   "cell_type": "code",
   "execution_count": null,
   "id": "66f429fe",
   "metadata": {},
   "outputs": [],
   "source": [
    "import os\n",
    "from glob import glob\n",
    "from datetime import datetime\n",
    "from itertools import pairwise\n",
    "from os.path import join, realpath\n",
    "from typing import Optional, Literal\n",
    "\n",
    "import torch\n",
    "import numpy as np\n",
    "import pandas as pd\n",
    "import plotly.express as px\n",
    "from torch import nn, Tensor\n",
    "from pandas import DataFrame as DF\n",
    "from torch.utils.data import Dataset\n",
    "from torch.utils.data import DataLoader as DL\n",
    "from rich.progress import Progress, Task, track\n",
    "from torch.optim.lr_scheduler import ConstantLR, LRScheduler\n",
    "from kagglehub import dataset_download, model_upload, whoami"
   ]
  },
  {
   "cell_type": "markdown",
   "id": "561af8f7",
   "metadata": {},
   "source": [
    "### Dataset Setup"
   ]
  },
  {
   "cell_type": "code",
   "execution_count": 2,
   "id": "63a131e0",
   "metadata": {},
   "outputs": [],
   "source": [
    "BATCH_SIZE = 256\n",
    "dataset_path = dataset_download(\n",
    "    handle=\"mauroabidalcarrer/prepocessed-cmi-2025\",\n",
    ")\n",
    "# full_x_path = join(dataset_path, \"preprocessed_dataset\", \"full_dataset\", \"X.npy\")\n",
    "# x: np.ndarray = np.load(full_x_path)"
   ]
  },
  {
   "cell_type": "code",
   "execution_count": 3,
   "id": "e46c3b4e",
   "metadata": {},
   "outputs": [],
   "source": [
    "# TODO: Switch to TensorDataset w/ cross validation splits\n",
    "class CMIDataset(Dataset):\n",
    "    def __init__(\n",
    "        self,\n",
    "        parent_dir: str,\n",
    "        split: Optional[Literal[\"train\", \"validation\"]]=None,\n",
    "        subset: Optional[int]=None,\n",
    "        force_download=False\n",
    "    ):\n",
    "        super().__init__()\n",
    "        dataset_path = dataset_download(\n",
    "            handle=\"mauroabidalcarrer/prepocessed-cmi-2025\",\n",
    "            force_download=force_download\n",
    "        )\n",
    "        parent_dir = join(dataset_path, \"preprocessed_dataset\", parent_dir)\n",
    "        split = \"\" if split is None else split + \"_\"\n",
    "        self.x = np.load(join(parent_dir, f\"{split}X.npy\"), mmap_mode=\"r\").swapaxes(1, 2)\n",
    "        self.y = np.load(join(parent_dir, f\"{split}Y.npy\"), mmap_mode=\"r\")\n",
    "        if subset is not None:\n",
    "            self.x = self.x[:subset]\n",
    "            self.y = self.y[:subset]\n",
    "\n",
    "    def __len__(self):\n",
    "        return len(self.x)\n",
    "\n",
    "    def __getitem__(self, idx):\n",
    "        return self.x[idx].copy(), self.y[idx].copy()"
   ]
  },
  {
   "cell_type": "markdown",
   "id": "e7cce363",
   "metadata": {},
   "source": [
    "### device setup"
   ]
  },
  {
   "cell_type": "code",
   "execution_count": 4,
   "id": "2710f791",
   "metadata": {},
   "outputs": [],
   "source": [
    "device = torch.device(\"cuda\") if torch.cuda.is_available() else torch.device(\"cpu\")"
   ]
  },
  {
   "cell_type": "markdown",
   "id": "7405a353",
   "metadata": {},
   "source": [
    "## Model definition"
   ]
  },
  {
   "cell_type": "code",
   "execution_count": 5,
   "id": "5ecc32a1",
   "metadata": {},
   "outputs": [],
   "source": [
    "class ResidualBlock(nn.Module):\n",
    "    def __init__(self, in_chns:int, out_chns:int):\n",
    "        super().__init__()\n",
    "        self.blocks = nn.Sequential(\n",
    "            nn.Conv1d(in_chns, out_chns, kernel_size=3, padding=1),\n",
    "            nn.BatchNorm1d(out_chns),\n",
    "            nn.ReLU(),\n",
    "            nn.Conv1d(out_chns, out_chns, kernel_size=3, padding=1),\n",
    "            nn.BatchNorm1d(out_chns),\n",
    "        )\n",
    "        if in_chns == out_chns:\n",
    "            self.skip_connection = nn.Identity() \n",
    "        else:\n",
    "            # TODO: set bias to False ?\n",
    "            self.skip_connection = nn.Sequential(\n",
    "                nn.Conv1d(in_chns, out_chns, 1),\n",
    "                nn.BatchNorm1d(out_chns)\n",
    "            )\n",
    "\n",
    "    def forward(self, x:Tensor) -> Tensor:\n",
    "        activaition_maps = self.skip_connection(x) + self.blocks(x)\n",
    "        return nn.functional.relu(activaition_maps)\n",
    "\n",
    "class Resnet(nn.Module):\n",
    "    def __init__(\n",
    "            self,\n",
    "            in_channels:int,\n",
    "            depth:int,\n",
    "            # n_res_block_per_depth:int,\n",
    "            mlp_width:int,\n",
    "            n_class:int,\n",
    "        ):\n",
    "        super().__init__()\n",
    "        chs_per_depth = [in_channels * 2 ** i for i in range(depth)]\n",
    "        blocks_chns_it = pairwise(chs_per_depth)\n",
    "        self.res_blocks = [ResidualBlock(in_chns, out_chns) for in_chns, out_chns in blocks_chns_it]\n",
    "        self.res_blocks = nn.ModuleList(self.res_blocks)\n",
    "        self.mlp_head = nn.Sequential(\n",
    "            nn.LazyLinear(mlp_width),\n",
    "            nn.ReLU(),\n",
    "            nn.Linear(mlp_width, n_class),\n",
    "            nn.Softmax(dim=1),\n",
    "        )\n",
    "        \n",
    "        \n",
    "    def forward(self, x:Tensor) -> Tensor:\n",
    "        activation_maps = x\n",
    "        for res_block in self.res_blocks:\n",
    "            activation_maps = nn.functional.max_pool1d(res_block(activation_maps), 2)\n",
    "        out = activation_maps.view(activation_maps.shape[0], -1)\n",
    "        out = self.mlp_head(out)\n",
    "        return out\n",
    "\n",
    "model = Resnet(\n",
    "    in_channels=17,\n",
    "    depth=4,\n",
    "    mlp_width=256,\n",
    "    n_class=18,\n",
    ")"
   ]
  },
  {
   "cell_type": "markdown",
   "id": "5a83f1e7",
   "metadata": {},
   "source": [
    "## Training functions "
   ]
  },
  {
   "cell_type": "markdown",
   "id": "c8014fc2",
   "metadata": {},
   "source": [
    "### Training"
   ]
  },
  {
   "cell_type": "code",
   "execution_count": null,
   "id": "7cc879eb",
   "metadata": {},
   "outputs": [],
   "source": [
    "def fit(epochs:int,\n",
    "        model: nn.Module,\n",
    "        scheduler: LRScheduler,\n",
    "        optimizer: torch.optim.Optimizer,\n",
    "        train_loader: DL,\n",
    "        criterion: callable=nn.L1Loss(),\n",
    "        evaluation_func: callable=None,\n",
    "        validation_loader: DL=None,\n",
    "        save_checkpoints=True,\n",
    "    ) -> tuple[DF, str]:\n",
    "    \"\"\"\n",
    "    Returns:\n",
    "        (training_metrics, path_to_checkpoints)\n",
    "    \"\"\"\n",
    "    # Setup\n",
    "    metrics: list[dict] = []\n",
    "    checkpoints_dir = os.path.join(\"checkpoints\", mk_date_now_str())\n",
    "    step = 0\n",
    "    model_device = next(model.parameters()).device\n",
    "    # Training loop\n",
    "    with Progress() as progress:\n",
    "        task: Task = progress.add_task(\n",
    "            \"training...\",\n",
    "            total=len(train_loader),\n",
    "        )\n",
    "        for epoch in range(epochs):\n",
    "            progress.update(\n",
    "                task,\n",
    "                description=f\"epoch: {epoch}\",\n",
    "                completed=0,\n",
    "            )\n",
    "            total_epoch_loss = 0\n",
    "            total_accuracy = 0\n",
    "            for batch_idx, (x, y) in enumerate(train_loader):\n",
    "                # forward\n",
    "                x = x.to(model_device)\n",
    "                y = y.to(model_device)\n",
    "                model.train()\n",
    "                optimizer.zero_grad()\n",
    "                y_pred: Tensor = model(x)\n",
    "                loss_value = criterion(y_pred, y)\n",
    "                # Verify loss value\n",
    "                if torch.isnan(loss_value).any().item():\n",
    "                    progress.print(\"Warning: Got NaN loss, stopped training.\")\n",
    "                    return DF.from_records(metrics) \n",
    "                if torch.isinf(loss_value).any().item():\n",
    "                    progress.print(\"Warning: Got infinite loss, stopped training.\")\n",
    "                    return DF.from_records(metrics) \n",
    "                # TODO: Use gradient clipping?\n",
    "                loss_value.backward()\n",
    "                optimizer.step()\n",
    "                if step > 0: # If it's not the first training step\n",
    "                    # Call the scheduler step method, idk why it throws an error otherwise\n",
    "                    scheduler.step()\n",
    "                # metrics\n",
    "                total_epoch_loss += loss_value.item()\n",
    "                batch_accuracy = (\n",
    "                    (y.max(dim=1)[1] == y_pred.max(dim=1)[1])\n",
    "                    .sum()\n",
    "                    .item()\n",
    "                ) / y.shape[0]\n",
    "                total_accuracy += batch_accuracy\n",
    "                metrics.append({\n",
    "                    \"step\": step,\n",
    "                    \"epoch\": epoch,\n",
    "                    \"batch_train_loss\": loss_value.item(),\n",
    "                    \"lr\": optimizer.state_dict()[\"param_groups\"][-1][\"lr\"],\n",
    "                    \"batch_accuracy\": batch_accuracy,\n",
    "                })\n",
    "                step += 1\n",
    "                last_validation_acc = metrics[-1][\"validation_accuracy\"] if len(metrics) and \"validation_accuracy\" in metrics[-1] else None\n",
    "                progress.update(\n",
    "                    task,\n",
    "                    advance=1,\n",
    "                    description=f\"epoch: {epoch}, batch_loss: {(total_epoch_loss / (batch_idx+1)):.2f}, val. acc: {last_validation_acc}\"\n",
    "                )\n",
    "            # Post epoch evalution\n",
    "            metrics[-1][\"train_epoch_loss\"] = total_epoch_loss / len(train_loader)\n",
    "            metrics[-1][\"train_epoch_accuracy\"] = total_accuracy / len(train_data_loader)\n",
    "            if evaluation_func:\n",
    "                progress.update(\n",
    "                    task,\n",
    "                    completed=0,\n",
    "                    description=f\"epoch: {epoch}, evaluating...\"\n",
    "                )\n",
    "                eval_metrics = evaluation_func(model, criterion, validation_loader)\n",
    "                # progress.print(\"validation loss:\", eval_metrics[\"validation_loss\"])\n",
    "                metrics[-1].update(eval_metrics)\n",
    "            # Save checkpoint\n",
    "            if save_checkpoints:\n",
    "                checkpoint = mk_checkpoint(epoch, model, scheduler, optimizer)\n",
    "                metrics_df = DF.from_records(metrics)\n",
    "                best_model_metric = \"validation_loss\" if \"validation_loss\" in metrics_df.columns else \"train_epoch_loss\"\n",
    "                is_best_checkpoint = (\n",
    "                    DF.from_records(metrics)\n",
    "                    .eval(f\"min_{best_model_metric} = {best_model_metric}.min()\")\n",
    "                    .eval(f\"is_best_{best_model_metric} = {best_model_metric} == min_{best_model_metric}\")\n",
    "                    .dropna(subset=f\"is_best_{best_model_metric}\")\n",
    "                    .iloc[-1]\n",
    "                    .loc[f\"is_best_{best_model_metric}\"]\n",
    "                )\n",
    "                save_checkpoint(checkpoint, checkpoints_dir, is_best_checkpoint)\n",
    "\n",
    "    return DF.from_records(metrics), checkpoints_dir\n",
    "\n",
    "def evaluate_model(\n",
    "        model: torch.nn.Module,\n",
    "        critirion:callable,\n",
    "        validation_loader:DL,\n",
    "    ) -> dict:\n",
    "    model = model.eval()\n",
    "    model_device = next(model.parameters()).device\n",
    "\n",
    "    total_accuracy = 0\n",
    "    total_test_loss = 0\n",
    "    for x, y in validation_loader:\n",
    "        x = x.to(model_device)\n",
    "        y = y.to(model_device)\n",
    "        y_pred = model(x)\n",
    "        total_test_loss += critirion(y_pred, y).item()\n",
    "        batch_accuracy = (\n",
    "            (y.max(dim=1)[1] == y_pred.max(dim=1)[1])\n",
    "            .sum()\n",
    "            .item()\n",
    "        ) / y.shape[0]\n",
    "        total_accuracy += batch_accuracy\n",
    "\n",
    "    return {\n",
    "        \"validation_loss\": total_test_loss / len(validation_loader),\n",
    "        \"validation_accuracy\": total_accuracy / len(validation_loader),\n",
    "    }\n",
    "\n",
    "def mk_checkpoint(\n",
    "        epoch:int,\n",
    "        model: torch.nn.Module,\n",
    "        scheduler: LRScheduler,\n",
    "        optimizer: torch.optim.Optimizer\n",
    "    ) -> dict:\n",
    "    return {\n",
    "        \"epoch\": epoch,\n",
    "        \"model\": model.state_dict(),\n",
    "        \"optimizer\": optimizer.state_dict(),\n",
    "        \"scheduler\": scheduler.state_dict(),\n",
    "    }\n",
    "\n",
    "def save_checkpoint(checkpoint:dict, parent_dir:str, is_best_checkpoint=False):\n",
    "    # Create model name\n",
    "    checkpoint_filename = f\"epoch_{checkpoint['epoch']}_{mk_date_now_str()}.pth\"\n",
    "    # Save model\n",
    "    os.makedirs(parent_dir, exist_ok=True)\n",
    "    checkpoint_path = os.path.join(parent_dir, checkpoint_filename)\n",
    "    torch.save(checkpoint, checkpoint_path)\n",
    "    mk_symlink(checkpoint_path, os.path.join(parent_dir, \"latest_checkpoint.pth\"))\n",
    "    if is_best_checkpoint:\n",
    "        mk_symlink(checkpoint_path, os.path.join(parent_dir, \"best_checkpoint.pth\"))\n",
    "\n",
    "def mk_date_now_str() -> str:\n",
    "    return datetime.now().strftime(\"%d-%m-%Y_%H-%M\")\n",
    "\n",
    "def mk_symlink(dest:str, symlink_path:str):\n",
    "    if os.path.islink(symlink_path) or os.path.exists(symlink_path):\n",
    "        os.remove(symlink_path)\n",
    "    os.symlink(dest, symlink_path)"
   ]
  },
  {
   "cell_type": "code",
   "execution_count": 7,
   "id": "fe1e327c",
   "metadata": {},
   "outputs": [],
   "source": [
    "TRAINING_EPOCHS = 50\n",
    "STARTING_LR = 0.0005\n",
    "def mk_model() -> nn.Module:\n",
    "    return (\n",
    "        Resnet(\n",
    "            in_channels=17,\n",
    "            depth=4,\n",
    "            mlp_width=256,\n",
    "            n_class=18\n",
    "        )\n",
    "    )\n",
    "\n",
    "def mk_model_and_fit(train_loader:DL, validation_loader:Optional[DL]=None) -> tuple[nn.Module, DF, list[str]]:\n",
    "    optimizer = torch.optim.AdamW(model.parameters(), STARTING_LR)\n",
    "    constant_lr_scheduler = ConstantLR(optimizer, factor=1, total_iters=len(train_loader) * TRAINING_EPOCHS)\n",
    "    training_metrics, model_checkpoints = fit(\n",
    "        epochs=TRAINING_EPOCHS,\n",
    "        model=model,\n",
    "        scheduler=constant_lr_scheduler,\n",
    "        optimizer=optimizer,\n",
    "        train_loader=train_loader,\n",
    "        criterion=nn.CrossEntropyLoss(),\n",
    "        evaluation_func=evaluate_model,\n",
    "        validation_loader=validation_loader if validation_loader else None,\n",
    "        save_checkpoints=True,\n",
    "    )\n",
    "\n",
    "    return model, training_metrics, model_checkpoints"
   ]
  },
  {
   "cell_type": "markdown",
   "id": "0ddd2294",
   "metadata": {},
   "source": [
    "### Training metrics plotting"
   ]
  },
  {
   "cell_type": "code",
   "execution_count": 8,
   "id": "4619c4fe",
   "metadata": {},
   "outputs": [],
   "source": [
    "def plt_training_metrics(training_metrics:DF):\n",
    "    (\n",
    "        px.scatter(\n",
    "        (\n",
    "            training_metrics\n",
    "            .melt(\n",
    "                id_vars=\"step\",\n",
    "                value_vars=[\n",
    "                    \"batch_train_loss\",\n",
    "                    \"batch_accuracy\",\n",
    "                ]\n",
    "            )\n",
    "        ),\n",
    "        x=\"step\",\n",
    "        y=\"value\",\n",
    "        facet_row=\"variable\",\n",
    "        trendline=\"ewm\",\n",
    "        trendline_options={\"com\": 30},\n",
    "        trendline_color_override=\"red\",\n",
    "        title=\"batch metrics\",\n",
    "        )\n",
    "        .update_yaxes(matches=None)\n",
    "        .show()\n",
    "    )\n",
    "    if \"validation_loss\" in training_metrics.columns:\n",
    "        (\n",
    "            px.line(\n",
    "                (\n",
    "                    training_metrics\n",
    "                    .query(\"validation_loss.notna()\")\n",
    "                    .melt(\n",
    "                        id_vars=\"step\",\n",
    "                        value_vars=['train_epoch_loss', 'train_epoch_accuracy', 'validation_loss', 'validation_accuracy']\n",
    "                    )\n",
    "                ),\n",
    "                x=\"step\",\n",
    "                y=\"value\",\n",
    "                color=\"variable\",\n",
    "                facet_row=\"variable\",\n",
    "                title=\"epoch metrics\",\n",
    "                render_mode=\"line+marker\",\n",
    "            ).update_yaxes(matches=None)\n",
    "            .show()\n",
    "        )    "
   ]
  },
  {
   "cell_type": "markdown",
   "id": "92bee315",
   "metadata": {},
   "source": [
    "## Cross validation training"
   ]
  },
  {
   "cell_type": "code",
   "execution_count": 9,
   "id": "a711c430",
   "metadata": {},
   "outputs": [
    {
     "name": "stdout",
     "output_type": "stream",
     "text": [
      "training: 1\n"
     ]
    },
    {
     "data": {
      "application/vnd.jupyter.widget-view+json": {
       "model_id": "c81e897488cb49489760c66fc5b4f0a2",
       "version_major": 2,
       "version_minor": 0
      },
      "text/plain": [
       "Output()"
      ]
     },
     "metadata": {},
     "output_type": "display_data"
    },
    {
     "data": {
      "text/html": [
       "<pre style=\"white-space:pre;overflow-x:auto;line-height:normal;font-family:Menlo,'DejaVu Sans Mono',consolas,'Courier New',monospace\">validation loss: <span style=\"color: #008080; text-decoration-color: #008080; font-weight: bold\">2.71500369480678</span>\n",
       "</pre>\n"
      ],
      "text/plain": [
       "validation loss: \u001b[1;36m2.71500369480678\u001b[0m\n"
      ]
     },
     "metadata": {},
     "output_type": "display_data"
    },
    {
     "data": {
      "text/html": [
       "<pre style=\"white-space:pre;overflow-x:auto;line-height:normal;font-family:Menlo,'DejaVu Sans Mono',consolas,'Courier New',monospace\">validation loss: <span style=\"color: #008080; text-decoration-color: #008080; font-weight: bold\">2.646812609263829</span>\n",
       "</pre>\n"
      ],
      "text/plain": [
       "validation loss: \u001b[1;36m2.646812609263829\u001b[0m\n"
      ]
     },
     "metadata": {},
     "output_type": "display_data"
    },
    {
     "data": {
      "text/html": [
       "<pre style=\"white-space:pre;overflow-x:auto;line-height:normal;font-family:Menlo,'DejaVu Sans Mono',consolas,'Courier New',monospace\">validation loss: <span style=\"color: #008080; text-decoration-color: #008080; font-weight: bold\">2.6332339899880544</span>\n",
       "</pre>\n"
      ],
      "text/plain": [
       "validation loss: \u001b[1;36m2.6332339899880544\u001b[0m\n"
      ]
     },
     "metadata": {},
     "output_type": "display_data"
    },
    {
     "data": {
      "text/html": [
       "<pre style=\"white-space:pre;overflow-x:auto;line-height:normal;font-family:Menlo,'DejaVu Sans Mono',consolas,'Courier New',monospace\">validation loss: <span style=\"color: #008080; text-decoration-color: #008080; font-weight: bold\">2.6379332542419434</span>\n",
       "</pre>\n"
      ],
      "text/plain": [
       "validation loss: \u001b[1;36m2.6379332542419434\u001b[0m\n"
      ]
     },
     "metadata": {},
     "output_type": "display_data"
    },
    {
     "data": {
      "text/html": [
       "<pre style=\"white-space:pre;overflow-x:auto;line-height:normal;font-family:Menlo,'DejaVu Sans Mono',consolas,'Courier New',monospace\">validation loss: <span style=\"color: #008080; text-decoration-color: #008080; font-weight: bold\">2.6136471203395297</span>\n",
       "</pre>\n"
      ],
      "text/plain": [
       "validation loss: \u001b[1;36m2.6136471203395297\u001b[0m\n"
      ]
     },
     "metadata": {},
     "output_type": "display_data"
    },
    {
     "data": {
      "text/html": [
       "<pre style=\"white-space:pre;overflow-x:auto;line-height:normal;font-family:Menlo,'DejaVu Sans Mono',consolas,'Courier New',monospace\">validation loss: <span style=\"color: #008080; text-decoration-color: #008080; font-weight: bold\">2.5936837877546037</span>\n",
       "</pre>\n"
      ],
      "text/plain": [
       "validation loss: \u001b[1;36m2.5936837877546037\u001b[0m\n"
      ]
     },
     "metadata": {},
     "output_type": "display_data"
    },
    {
     "data": {
      "text/html": [
       "<pre style=\"white-space:pre;overflow-x:auto;line-height:normal;font-family:Menlo,'DejaVu Sans Mono',consolas,'Courier New',monospace\">validation loss: <span style=\"color: #008080; text-decoration-color: #008080; font-weight: bold\">2.578149284635271</span>\n",
       "</pre>\n"
      ],
      "text/plain": [
       "validation loss: \u001b[1;36m2.578149284635271\u001b[0m\n"
      ]
     },
     "metadata": {},
     "output_type": "display_data"
    },
    {
     "data": {
      "text/html": [
       "<pre style=\"white-space:pre;overflow-x:auto;line-height:normal;font-family:Menlo,'DejaVu Sans Mono',consolas,'Courier New',monospace\">validation loss: <span style=\"color: #008080; text-decoration-color: #008080; font-weight: bold\">2.577472073691232</span>\n",
       "</pre>\n"
      ],
      "text/plain": [
       "validation loss: \u001b[1;36m2.577472073691232\u001b[0m\n"
      ]
     },
     "metadata": {},
     "output_type": "display_data"
    },
    {
     "data": {
      "text/html": [
       "<pre style=\"white-space:pre;overflow-x:auto;line-height:normal;font-family:Menlo,'DejaVu Sans Mono',consolas,'Courier New',monospace\">validation loss: <span style=\"color: #008080; text-decoration-color: #008080; font-weight: bold\">2.5627123968941823</span>\n",
       "</pre>\n"
      ],
      "text/plain": [
       "validation loss: \u001b[1;36m2.5627123968941823\u001b[0m\n"
      ]
     },
     "metadata": {},
     "output_type": "display_data"
    },
    {
     "data": {
      "text/html": [
       "<pre style=\"white-space:pre;overflow-x:auto;line-height:normal;font-family:Menlo,'DejaVu Sans Mono',consolas,'Courier New',monospace\">validation loss: <span style=\"color: #008080; text-decoration-color: #008080; font-weight: bold\">2.552858420780727</span>\n",
       "</pre>\n"
      ],
      "text/plain": [
       "validation loss: \u001b[1;36m2.552858420780727\u001b[0m\n"
      ]
     },
     "metadata": {},
     "output_type": "display_data"
    },
    {
     "data": {
      "text/html": [
       "<pre style=\"white-space:pre;overflow-x:auto;line-height:normal;font-family:Menlo,'DejaVu Sans Mono',consolas,'Courier New',monospace\">validation loss: <span style=\"color: #008080; text-decoration-color: #008080; font-weight: bold\">2.5513861179351807</span>\n",
       "</pre>\n"
      ],
      "text/plain": [
       "validation loss: \u001b[1;36m2.5513861179351807\u001b[0m\n"
      ]
     },
     "metadata": {},
     "output_type": "display_data"
    },
    {
     "data": {
      "text/html": [
       "<pre style=\"white-space:pre;overflow-x:auto;line-height:normal;font-family:Menlo,'DejaVu Sans Mono',consolas,'Courier New',monospace\">validation loss: <span style=\"color: #008080; text-decoration-color: #008080; font-weight: bold\">2.556012119565691</span>\n",
       "</pre>\n"
      ],
      "text/plain": [
       "validation loss: \u001b[1;36m2.556012119565691\u001b[0m\n"
      ]
     },
     "metadata": {},
     "output_type": "display_data"
    },
    {
     "data": {
      "text/html": [
       "<pre style=\"white-space:pre;overflow-x:auto;line-height:normal;font-family:Menlo,'DejaVu Sans Mono',consolas,'Courier New',monospace\">validation loss: <span style=\"color: #008080; text-decoration-color: #008080; font-weight: bold\">2.5478572504861012</span>\n",
       "</pre>\n"
      ],
      "text/plain": [
       "validation loss: \u001b[1;36m2.5478572504861012\u001b[0m\n"
      ]
     },
     "metadata": {},
     "output_type": "display_data"
    },
    {
     "data": {
      "text/html": [
       "<pre style=\"white-space:pre;overflow-x:auto;line-height:normal;font-family:Menlo,'DejaVu Sans Mono',consolas,'Courier New',monospace\">validation loss: <span style=\"color: #008080; text-decoration-color: #008080; font-weight: bold\">2.5408798626491</span>\n",
       "</pre>\n"
      ],
      "text/plain": [
       "validation loss: \u001b[1;36m2.5408798626491\u001b[0m\n"
      ]
     },
     "metadata": {},
     "output_type": "display_data"
    },
    {
     "data": {
      "text/html": [
       "<pre style=\"white-space:pre;overflow-x:auto;line-height:normal;font-family:Menlo,'DejaVu Sans Mono',consolas,'Courier New',monospace\">validation loss: <span style=\"color: #008080; text-decoration-color: #008080; font-weight: bold\">2.538376501628331</span>\n",
       "</pre>\n"
      ],
      "text/plain": [
       "validation loss: \u001b[1;36m2.538376501628331\u001b[0m\n"
      ]
     },
     "metadata": {},
     "output_type": "display_data"
    },
    {
     "data": {
      "text/html": [
       "<pre style=\"white-space:pre;overflow-x:auto;line-height:normal;font-family:Menlo,'DejaVu Sans Mono',consolas,'Courier New',monospace\">validation loss: <span style=\"color: #008080; text-decoration-color: #008080; font-weight: bold\">2.537097147532872</span>\n",
       "</pre>\n"
      ],
      "text/plain": [
       "validation loss: \u001b[1;36m2.537097147532872\u001b[0m\n"
      ]
     },
     "metadata": {},
     "output_type": "display_data"
    },
    {
     "data": {
      "text/html": [
       "<pre style=\"white-space:pre;overflow-x:auto;line-height:normal;font-family:Menlo,'DejaVu Sans Mono',consolas,'Courier New',monospace\">validation loss: <span style=\"color: #008080; text-decoration-color: #008080; font-weight: bold\">2.539677926472255</span>\n",
       "</pre>\n"
      ],
      "text/plain": [
       "validation loss: \u001b[1;36m2.539677926472255\u001b[0m\n"
      ]
     },
     "metadata": {},
     "output_type": "display_data"
    },
    {
     "data": {
      "text/html": [
       "<pre style=\"white-space:pre;overflow-x:auto;line-height:normal;font-family:Menlo,'DejaVu Sans Mono',consolas,'Courier New',monospace\">validation loss: <span style=\"color: #008080; text-decoration-color: #008080; font-weight: bold\">2.535966770989554</span>\n",
       "</pre>\n"
      ],
      "text/plain": [
       "validation loss: \u001b[1;36m2.535966770989554\u001b[0m\n"
      ]
     },
     "metadata": {},
     "output_type": "display_data"
    },
    {
     "data": {
      "text/html": [
       "<pre style=\"white-space:pre;overflow-x:auto;line-height:normal;font-family:Menlo,'DejaVu Sans Mono',consolas,'Courier New',monospace\">validation loss: <span style=\"color: #008080; text-decoration-color: #008080; font-weight: bold\">2.5358814852578297</span>\n",
       "</pre>\n"
      ],
      "text/plain": [
       "validation loss: \u001b[1;36m2.5358814852578297\u001b[0m\n"
      ]
     },
     "metadata": {},
     "output_type": "display_data"
    },
    {
     "data": {
      "text/html": [
       "<pre style=\"white-space:pre;overflow-x:auto;line-height:normal;font-family:Menlo,'DejaVu Sans Mono',consolas,'Courier New',monospace\">validation loss: <span style=\"color: #008080; text-decoration-color: #008080; font-weight: bold\">2.539147819791521</span>\n",
       "</pre>\n"
      ],
      "text/plain": [
       "validation loss: \u001b[1;36m2.539147819791521\u001b[0m\n"
      ]
     },
     "metadata": {},
     "output_type": "display_data"
    },
    {
     "data": {
      "text/html": [
       "<pre style=\"white-space:pre;overflow-x:auto;line-height:normal;font-family:Menlo,'DejaVu Sans Mono',consolas,'Courier New',monospace\">validation loss: <span style=\"color: #008080; text-decoration-color: #008080; font-weight: bold\">2.545040096555437</span>\n",
       "</pre>\n"
      ],
      "text/plain": [
       "validation loss: \u001b[1;36m2.545040096555437\u001b[0m\n"
      ]
     },
     "metadata": {},
     "output_type": "display_data"
    },
    {
     "data": {
      "text/html": [
       "<pre style=\"white-space:pre;overflow-x:auto;line-height:normal;font-family:Menlo,'DejaVu Sans Mono',consolas,'Courier New',monospace\">validation loss: <span style=\"color: #008080; text-decoration-color: #008080; font-weight: bold\">2.5446835245404924</span>\n",
       "</pre>\n"
      ],
      "text/plain": [
       "validation loss: \u001b[1;36m2.5446835245404924\u001b[0m\n"
      ]
     },
     "metadata": {},
     "output_type": "display_data"
    },
    {
     "data": {
      "text/html": [
       "<pre style=\"white-space:pre;overflow-x:auto;line-height:normal;font-family:Menlo,'DejaVu Sans Mono',consolas,'Courier New',monospace\">validation loss: <span style=\"color: #008080; text-decoration-color: #008080; font-weight: bold\">2.5442776339394704</span>\n",
       "</pre>\n"
      ],
      "text/plain": [
       "validation loss: \u001b[1;36m2.5442776339394704\u001b[0m\n"
      ]
     },
     "metadata": {},
     "output_type": "display_data"
    },
    {
     "data": {
      "text/html": [
       "<pre style=\"white-space:pre;overflow-x:auto;line-height:normal;font-family:Menlo,'DejaVu Sans Mono',consolas,'Courier New',monospace\">validation loss: <span style=\"color: #008080; text-decoration-color: #008080; font-weight: bold\">2.547184331076486</span>\n",
       "</pre>\n"
      ],
      "text/plain": [
       "validation loss: \u001b[1;36m2.547184331076486\u001b[0m\n"
      ]
     },
     "metadata": {},
     "output_type": "display_data"
    },
    {
     "data": {
      "text/html": [
       "<pre style=\"white-space:pre;overflow-x:auto;line-height:normal;font-family:Menlo,'DejaVu Sans Mono',consolas,'Courier New',monospace\">validation loss: <span style=\"color: #008080; text-decoration-color: #008080; font-weight: bold\">2.541163614818028</span>\n",
       "</pre>\n"
      ],
      "text/plain": [
       "validation loss: \u001b[1;36m2.541163614818028\u001b[0m\n"
      ]
     },
     "metadata": {},
     "output_type": "display_data"
    },
    {
     "data": {
      "text/html": [
       "<pre style=\"white-space:pre;overflow-x:auto;line-height:normal;font-family:Menlo,'DejaVu Sans Mono',consolas,'Courier New',monospace\">validation loss: <span style=\"color: #008080; text-decoration-color: #008080; font-weight: bold\">2.534360272543771</span>\n",
       "</pre>\n"
      ],
      "text/plain": [
       "validation loss: \u001b[1;36m2.534360272543771\u001b[0m\n"
      ]
     },
     "metadata": {},
     "output_type": "display_data"
    },
    {
     "data": {
      "text/html": [
       "<pre style=\"white-space:pre;overflow-x:auto;line-height:normal;font-family:Menlo,'DejaVu Sans Mono',consolas,'Courier New',monospace\">validation loss: <span style=\"color: #008080; text-decoration-color: #008080; font-weight: bold\">2.5534324986594066</span>\n",
       "</pre>\n"
      ],
      "text/plain": [
       "validation loss: \u001b[1;36m2.5534324986594066\u001b[0m\n"
      ]
     },
     "metadata": {},
     "output_type": "display_data"
    },
    {
     "data": {
      "text/html": [
       "<pre style=\"white-space:pre;overflow-x:auto;line-height:normal;font-family:Menlo,'DejaVu Sans Mono',consolas,'Courier New',monospace\">validation loss: <span style=\"color: #008080; text-decoration-color: #008080; font-weight: bold\">2.5380453722817555</span>\n",
       "</pre>\n"
      ],
      "text/plain": [
       "validation loss: \u001b[1;36m2.5380453722817555\u001b[0m\n"
      ]
     },
     "metadata": {},
     "output_type": "display_data"
    },
    {
     "data": {
      "text/html": [
       "<pre style=\"white-space:pre;overflow-x:auto;line-height:normal;font-family:Menlo,'DejaVu Sans Mono',consolas,'Courier New',monospace\">validation loss: <span style=\"color: #008080; text-decoration-color: #008080; font-weight: bold\">2.5264197758265903</span>\n",
       "</pre>\n"
      ],
      "text/plain": [
       "validation loss: \u001b[1;36m2.5264197758265903\u001b[0m\n"
      ]
     },
     "metadata": {},
     "output_type": "display_data"
    },
    {
     "data": {
      "text/html": [
       "<pre style=\"white-space:pre;overflow-x:auto;line-height:normal;font-family:Menlo,'DejaVu Sans Mono',consolas,'Courier New',monospace\">validation loss: <span style=\"color: #008080; text-decoration-color: #008080; font-weight: bold\">2.5325139250074113</span>\n",
       "</pre>\n"
      ],
      "text/plain": [
       "validation loss: \u001b[1;36m2.5325139250074113\u001b[0m\n"
      ]
     },
     "metadata": {},
     "output_type": "display_data"
    },
    {
     "data": {
      "text/html": [
       "<pre style=\"white-space:pre;overflow-x:auto;line-height:normal;font-family:Menlo,'DejaVu Sans Mono',consolas,'Courier New',monospace\">validation loss: <span style=\"color: #008080; text-decoration-color: #008080; font-weight: bold\">2.5335400445120677</span>\n",
       "</pre>\n"
      ],
      "text/plain": [
       "validation loss: \u001b[1;36m2.5335400445120677\u001b[0m\n"
      ]
     },
     "metadata": {},
     "output_type": "display_data"
    },
    {
     "data": {
      "text/html": [
       "<pre style=\"white-space:pre;overflow-x:auto;line-height:normal;font-family:Menlo,'DejaVu Sans Mono',consolas,'Courier New',monospace\">validation loss: <span style=\"color: #008080; text-decoration-color: #008080; font-weight: bold\">2.5319839886256625</span>\n",
       "</pre>\n"
      ],
      "text/plain": [
       "validation loss: \u001b[1;36m2.5319839886256625\u001b[0m\n"
      ]
     },
     "metadata": {},
     "output_type": "display_data"
    },
    {
     "data": {
      "text/html": [
       "<pre style=\"white-space:pre;overflow-x:auto;line-height:normal;font-family:Menlo,'DejaVu Sans Mono',consolas,'Courier New',monospace\">validation loss: <span style=\"color: #008080; text-decoration-color: #008080; font-weight: bold\">2.549135889325823</span>\n",
       "</pre>\n"
      ],
      "text/plain": [
       "validation loss: \u001b[1;36m2.549135889325823\u001b[0m\n"
      ]
     },
     "metadata": {},
     "output_type": "display_data"
    },
    {
     "data": {
      "text/html": [
       "<pre style=\"white-space:pre;overflow-x:auto;line-height:normal;font-family:Menlo,'DejaVu Sans Mono',consolas,'Courier New',monospace\">validation loss: <span style=\"color: #008080; text-decoration-color: #008080; font-weight: bold\">2.534651585987636</span>\n",
       "</pre>\n"
      ],
      "text/plain": [
       "validation loss: \u001b[1;36m2.534651585987636\u001b[0m\n"
      ]
     },
     "metadata": {},
     "output_type": "display_data"
    },
    {
     "data": {
      "text/html": [
       "<pre style=\"white-space:pre;overflow-x:auto;line-height:normal;font-family:Menlo,'DejaVu Sans Mono',consolas,'Courier New',monospace\">validation loss: <span style=\"color: #008080; text-decoration-color: #008080; font-weight: bold\">2.5213608741760254</span>\n",
       "</pre>\n"
      ],
      "text/plain": [
       "validation loss: \u001b[1;36m2.5213608741760254\u001b[0m\n"
      ]
     },
     "metadata": {},
     "output_type": "display_data"
    },
    {
     "data": {
      "text/html": [
       "<pre style=\"white-space:pre;overflow-x:auto;line-height:normal;font-family:Menlo,'DejaVu Sans Mono',consolas,'Courier New',monospace\">validation loss: <span style=\"color: #008080; text-decoration-color: #008080; font-weight: bold\">2.511322089603969</span>\n",
       "</pre>\n"
      ],
      "text/plain": [
       "validation loss: \u001b[1;36m2.511322089603969\u001b[0m\n"
      ]
     },
     "metadata": {},
     "output_type": "display_data"
    },
    {
     "data": {
      "text/html": [
       "<pre style=\"white-space:pre;overflow-x:auto;line-height:normal;font-family:Menlo,'DejaVu Sans Mono',consolas,'Courier New',monospace\">validation loss: <span style=\"color: #008080; text-decoration-color: #008080; font-weight: bold\">2.5212747369493758</span>\n",
       "</pre>\n"
      ],
      "text/plain": [
       "validation loss: \u001b[1;36m2.5212747369493758\u001b[0m\n"
      ]
     },
     "metadata": {},
     "output_type": "display_data"
    },
    {
     "data": {
      "text/html": [
       "<pre style=\"white-space:pre;overflow-x:auto;line-height:normal;font-family:Menlo,'DejaVu Sans Mono',consolas,'Courier New',monospace\">validation loss: <span style=\"color: #008080; text-decoration-color: #008080; font-weight: bold\">2.5215866906302318</span>\n",
       "</pre>\n"
      ],
      "text/plain": [
       "validation loss: \u001b[1;36m2.5215866906302318\u001b[0m\n"
      ]
     },
     "metadata": {},
     "output_type": "display_data"
    },
    {
     "data": {
      "text/html": [
       "<pre style=\"white-space:pre;overflow-x:auto;line-height:normal;font-family:Menlo,'DejaVu Sans Mono',consolas,'Courier New',monospace\">validation loss: <span style=\"color: #008080; text-decoration-color: #008080; font-weight: bold\">2.520265919821603</span>\n",
       "</pre>\n"
      ],
      "text/plain": [
       "validation loss: \u001b[1;36m2.520265919821603\u001b[0m\n"
      ]
     },
     "metadata": {},
     "output_type": "display_data"
    },
    {
     "data": {
      "text/html": [
       "<pre style=\"white-space:pre;overflow-x:auto;line-height:normal;font-family:Menlo,'DejaVu Sans Mono',consolas,'Courier New',monospace\">validation loss: <span style=\"color: #008080; text-decoration-color: #008080; font-weight: bold\">2.514895336968558</span>\n",
       "</pre>\n"
      ],
      "text/plain": [
       "validation loss: \u001b[1;36m2.514895336968558\u001b[0m\n"
      ]
     },
     "metadata": {},
     "output_type": "display_data"
    },
    {
     "data": {
      "text/html": [
       "<pre style=\"white-space:pre;overflow-x:auto;line-height:normal;font-family:Menlo,'DejaVu Sans Mono',consolas,'Courier New',monospace\">validation loss: <span style=\"color: #008080; text-decoration-color: #008080; font-weight: bold\">2.523792709623064</span>\n",
       "</pre>\n"
      ],
      "text/plain": [
       "validation loss: \u001b[1;36m2.523792709623064\u001b[0m\n"
      ]
     },
     "metadata": {},
     "output_type": "display_data"
    },
    {
     "data": {
      "text/html": [
       "<pre style=\"white-space:pre;overflow-x:auto;line-height:normal;font-family:Menlo,'DejaVu Sans Mono',consolas,'Courier New',monospace\">validation loss: <span style=\"color: #008080; text-decoration-color: #008080; font-weight: bold\">2.525144270488194</span>\n",
       "</pre>\n"
      ],
      "text/plain": [
       "validation loss: \u001b[1;36m2.525144270488194\u001b[0m\n"
      ]
     },
     "metadata": {},
     "output_type": "display_data"
    },
    {
     "data": {
      "text/html": [
       "<pre style=\"white-space:pre;overflow-x:auto;line-height:normal;font-family:Menlo,'DejaVu Sans Mono',consolas,'Courier New',monospace\">validation loss: <span style=\"color: #008080; text-decoration-color: #008080; font-weight: bold\">2.52229905128479</span>\n",
       "</pre>\n"
      ],
      "text/plain": [
       "validation loss: \u001b[1;36m2.52229905128479\u001b[0m\n"
      ]
     },
     "metadata": {},
     "output_type": "display_data"
    },
    {
     "data": {
      "text/html": [
       "<pre style=\"white-space:pre;overflow-x:auto;line-height:normal;font-family:Menlo,'DejaVu Sans Mono',consolas,'Courier New',monospace\">validation loss: <span style=\"color: #008080; text-decoration-color: #008080; font-weight: bold\">2.520755801882063</span>\n",
       "</pre>\n"
      ],
      "text/plain": [
       "validation loss: \u001b[1;36m2.520755801882063\u001b[0m\n"
      ]
     },
     "metadata": {},
     "output_type": "display_data"
    },
    {
     "data": {
      "text/html": [
       "<pre style=\"white-space:pre;overflow-x:auto;line-height:normal;font-family:Menlo,'DejaVu Sans Mono',consolas,'Courier New',monospace\">validation loss: <span style=\"color: #008080; text-decoration-color: #008080; font-weight: bold\">2.5106589453560963</span>\n",
       "</pre>\n"
      ],
      "text/plain": [
       "validation loss: \u001b[1;36m2.5106589453560963\u001b[0m\n"
      ]
     },
     "metadata": {},
     "output_type": "display_data"
    },
    {
     "data": {
      "text/html": [
       "<pre style=\"white-space:pre;overflow-x:auto;line-height:normal;font-family:Menlo,'DejaVu Sans Mono',consolas,'Courier New',monospace\">validation loss: <span style=\"color: #008080; text-decoration-color: #008080; font-weight: bold\">2.508082934788295</span>\n",
       "</pre>\n"
      ],
      "text/plain": [
       "validation loss: \u001b[1;36m2.508082934788295\u001b[0m\n"
      ]
     },
     "metadata": {},
     "output_type": "display_data"
    },
    {
     "data": {
      "text/html": [
       "<pre style=\"white-space:pre;overflow-x:auto;line-height:normal;font-family:Menlo,'DejaVu Sans Mono',consolas,'Courier New',monospace\">validation loss: <span style=\"color: #008080; text-decoration-color: #008080; font-weight: bold\">2.5257960728236606</span>\n",
       "</pre>\n"
      ],
      "text/plain": [
       "validation loss: \u001b[1;36m2.5257960728236606\u001b[0m\n"
      ]
     },
     "metadata": {},
     "output_type": "display_data"
    },
    {
     "data": {
      "text/html": [
       "<pre style=\"white-space:pre;overflow-x:auto;line-height:normal;font-family:Menlo,'DejaVu Sans Mono',consolas,'Courier New',monospace\">validation loss: <span style=\"color: #008080; text-decoration-color: #008080; font-weight: bold\">2.524334328515189</span>\n",
       "</pre>\n"
      ],
      "text/plain": [
       "validation loss: \u001b[1;36m2.524334328515189\u001b[0m\n"
      ]
     },
     "metadata": {},
     "output_type": "display_data"
    },
    {
     "data": {
      "text/html": [
       "<pre style=\"white-space:pre;overflow-x:auto;line-height:normal;font-family:Menlo,'DejaVu Sans Mono',consolas,'Courier New',monospace\">validation loss: <span style=\"color: #008080; text-decoration-color: #008080; font-weight: bold\">2.5197104726518904</span>\n",
       "</pre>\n"
      ],
      "text/plain": [
       "validation loss: \u001b[1;36m2.5197104726518904\u001b[0m\n"
      ]
     },
     "metadata": {},
     "output_type": "display_data"
    },
    {
     "data": {
      "text/html": [
       "<pre style=\"white-space:pre;overflow-x:auto;line-height:normal;font-family:Menlo,'DejaVu Sans Mono',consolas,'Courier New',monospace\">validation loss: <span style=\"color: #008080; text-decoration-color: #008080; font-weight: bold\">2.5236517701830183</span>\n",
       "</pre>\n"
      ],
      "text/plain": [
       "validation loss: \u001b[1;36m2.5236517701830183\u001b[0m\n"
      ]
     },
     "metadata": {},
     "output_type": "display_data"
    },
    {
     "data": {
      "text/html": [
       "<pre style=\"white-space:pre;overflow-x:auto;line-height:normal;font-family:Menlo,'DejaVu Sans Mono',consolas,'Courier New',monospace\"></pre>\n"
      ],
      "text/plain": []
     },
     "metadata": {},
     "output_type": "display_data"
    },
    {
     "data": {
      "application/vnd.plotly.v1+json": {
       "config": {
        "plotlyServerURL": "https://plot.ly"
       },
       "data": [
        {
         "hovertemplate": "variable=batch_train_loss<br>step=%{x}<br>value=%{y}<extra></extra>",
         "legendgroup": "",
         "marker": {
          "color": "#636efa",
          "symbol": "circle"
         },
         "mode": "markers",
         "name": "",
         "showlegend": false,
         "type": "scattergl",
         "x": {
          "bdata": "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",
          "dtype": "i2"
         },
         "xaxis": "x2",
         "y": {
          "bdata": "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",
          "dtype": "f8"
         },
         "yaxis": "y2"
        },
        {
         "hovertemplate": "<b>Exponentially Weighted mean trendline</b><br><br>variable=batch_train_loss<br>step=%{x}<br>value=%{y} <b>(trend)</b><extra></extra>",
         "legendgroup": "",
         "line": {
          "color": "red"
         },
         "marker": {
          "color": "#636efa",
          "symbol": "circle"
         },
         "mode": "lines",
         "name": "",
         "showlegend": false,
         "type": "scattergl",
         "x": {
          "bdata": "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",
          "dtype": "i2"
         },
         "xaxis": "x2",
         "y": {
          "bdata": "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",
          "dtype": "f8"
         },
         "yaxis": "y2"
        },
        {
         "hovertemplate": "variable=batch_accuracy<br>step=%{x}<br>value=%{y}<extra></extra>",
         "legendgroup": "",
         "marker": {
          "color": "#636efa",
          "symbol": "circle"
         },
         "mode": "markers",
         "name": "",
         "showlegend": false,
         "type": "scattergl",
         "x": {
          "bdata": "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",
          "dtype": "i2"
         },
         "xaxis": "x",
         "y": {
          "bdata": "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",
          "dtype": "f8"
         },
         "yaxis": "y"
        },
        {
         "hovertemplate": "<b>Exponentially Weighted mean trendline</b><br><br>variable=batch_accuracy<br>step=%{x}<br>value=%{y} <b>(trend)</b><extra></extra>",
         "legendgroup": "",
         "line": {
          "color": "red"
         },
         "marker": {
          "color": "#636efa",
          "symbol": "circle"
         },
         "mode": "lines",
         "name": "",
         "showlegend": false,
         "type": "scattergl",
         "x": {
          "bdata": "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",
          "dtype": "i2"
         },
         "xaxis": "x",
         "y": {
          "bdata": "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",
          "dtype": "f8"
         },
         "yaxis": "y"
        }
       ],
       "layout": {
        "annotations": [
         {
          "font": {},
          "showarrow": false,
          "text": "variable=batch_accuracy",
          "textangle": 90,
          "x": 0.98,
          "xanchor": "left",
          "xref": "paper",
          "y": 0.2425,
          "yanchor": "middle",
          "yref": "paper"
         },
         {
          "font": {},
          "showarrow": false,
          "text": "variable=batch_train_loss",
          "textangle": 90,
          "x": 0.98,
          "xanchor": "left",
          "xref": "paper",
          "y": 0.7575000000000001,
          "yanchor": "middle",
          "yref": "paper"
         }
        ],
        "legend": {
         "tracegroupgap": 0
        },
        "template": {
         "data": {
          "bar": [
           {
            "error_x": {
             "color": "#2a3f5f"
            },
            "error_y": {
             "color": "#2a3f5f"
            },
            "marker": {
             "line": {
              "color": "#E5ECF6",
              "width": 0.5
             },
             "pattern": {
              "fillmode": "overlay",
              "size": 10,
              "solidity": 0.2
             }
            },
            "type": "bar"
           }
          ],
          "barpolar": [
           {
            "marker": {
             "line": {
              "color": "#E5ECF6",
              "width": 0.5
             },
             "pattern": {
              "fillmode": "overlay",
              "size": 10,
              "solidity": 0.2
             }
            },
            "type": "barpolar"
           }
          ],
          "carpet": [
           {
            "aaxis": {
             "endlinecolor": "#2a3f5f",
             "gridcolor": "white",
             "linecolor": "white",
             "minorgridcolor": "white",
             "startlinecolor": "#2a3f5f"
            },
            "baxis": {
             "endlinecolor": "#2a3f5f",
             "gridcolor": "white",
             "linecolor": "white",
             "minorgridcolor": "white",
             "startlinecolor": "#2a3f5f"
            },
            "type": "carpet"
           }
          ],
          "choropleth": [
           {
            "colorbar": {
             "outlinewidth": 0,
             "ticks": ""
            },
            "type": "choropleth"
           }
          ],
          "contour": [
           {
            "colorbar": {
             "outlinewidth": 0,
             "ticks": ""
            },
            "colorscale": [
             [
              0,
              "#0d0887"
             ],
             [
              0.1111111111111111,
              "#46039f"
             ],
             [
              0.2222222222222222,
              "#7201a8"
             ],
             [
              0.3333333333333333,
              "#9c179e"
             ],
             [
              0.4444444444444444,
              "#bd3786"
             ],
             [
              0.5555555555555556,
              "#d8576b"
             ],
             [
              0.6666666666666666,
              "#ed7953"
             ],
             [
              0.7777777777777778,
              "#fb9f3a"
             ],
             [
              0.8888888888888888,
              "#fdca26"
             ],
             [
              1,
              "#f0f921"
             ]
            ],
            "type": "contour"
           }
          ],
          "contourcarpet": [
           {
            "colorbar": {
             "outlinewidth": 0,
             "ticks": ""
            },
            "type": "contourcarpet"
           }
          ],
          "heatmap": [
           {
            "colorbar": {
             "outlinewidth": 0,
             "ticks": ""
            },
            "colorscale": [
             [
              0,
              "#0d0887"
             ],
             [
              0.1111111111111111,
              "#46039f"
             ],
             [
              0.2222222222222222,
              "#7201a8"
             ],
             [
              0.3333333333333333,
              "#9c179e"
             ],
             [
              0.4444444444444444,
              "#bd3786"
             ],
             [
              0.5555555555555556,
              "#d8576b"
             ],
             [
              0.6666666666666666,
              "#ed7953"
             ],
             [
              0.7777777777777778,
              "#fb9f3a"
             ],
             [
              0.8888888888888888,
              "#fdca26"
             ],
             [
              1,
              "#f0f921"
             ]
            ],
            "type": "heatmap"
           }
          ],
          "histogram": [
           {
            "marker": {
             "pattern": {
              "fillmode": "overlay",
              "size": 10,
              "solidity": 0.2
             }
            },
            "type": "histogram"
           }
          ],
          "histogram2d": [
           {
            "colorbar": {
             "outlinewidth": 0,
             "ticks": ""
            },
            "colorscale": [
             [
              0,
              "#0d0887"
             ],
             [
              0.1111111111111111,
              "#46039f"
             ],
             [
              0.2222222222222222,
              "#7201a8"
             ],
             [
              0.3333333333333333,
              "#9c179e"
             ],
             [
              0.4444444444444444,
              "#bd3786"
             ],
             [
              0.5555555555555556,
              "#d8576b"
             ],
             [
              0.6666666666666666,
              "#ed7953"
             ],
             [
              0.7777777777777778,
              "#fb9f3a"
             ],
             [
              0.8888888888888888,
              "#fdca26"
             ],
             [
              1,
              "#f0f921"
             ]
            ],
            "type": "histogram2d"
           }
          ],
          "histogram2dcontour": [
           {
            "colorbar": {
             "outlinewidth": 0,
             "ticks": ""
            },
            "colorscale": [
             [
              0,
              "#0d0887"
             ],
             [
              0.1111111111111111,
              "#46039f"
             ],
             [
              0.2222222222222222,
              "#7201a8"
             ],
             [
              0.3333333333333333,
              "#9c179e"
             ],
             [
              0.4444444444444444,
              "#bd3786"
             ],
             [
              0.5555555555555556,
              "#d8576b"
             ],
             [
              0.6666666666666666,
              "#ed7953"
             ],
             [
              0.7777777777777778,
              "#fb9f3a"
             ],
             [
              0.8888888888888888,
              "#fdca26"
             ],
             [
              1,
              "#f0f921"
             ]
            ],
            "type": "histogram2dcontour"
           }
          ],
          "mesh3d": [
           {
            "colorbar": {
             "outlinewidth": 0,
             "ticks": ""
            },
            "type": "mesh3d"
           }
          ],
          "parcoords": [
           {
            "line": {
             "colorbar": {
              "outlinewidth": 0,
              "ticks": ""
             }
            },
            "type": "parcoords"
           }
          ],
          "pie": [
           {
            "automargin": true,
            "type": "pie"
           }
          ],
          "scatter": [
           {
            "fillpattern": {
             "fillmode": "overlay",
             "size": 10,
             "solidity": 0.2
            },
            "type": "scatter"
           }
          ],
          "scatter3d": [
           {
            "line": {
             "colorbar": {
              "outlinewidth": 0,
              "ticks": ""
             }
            },
            "marker": {
             "colorbar": {
              "outlinewidth": 0,
              "ticks": ""
             }
            },
            "type": "scatter3d"
           }
          ],
          "scattercarpet": [
           {
            "marker": {
             "colorbar": {
              "outlinewidth": 0,
              "ticks": ""
             }
            },
            "type": "scattercarpet"
           }
          ],
          "scattergeo": [
           {
            "marker": {
             "colorbar": {
              "outlinewidth": 0,
              "ticks": ""
             }
            },
            "type": "scattergeo"
           }
          ],
          "scattergl": [
           {
            "marker": {
             "colorbar": {
              "outlinewidth": 0,
              "ticks": ""
             }
            },
            "type": "scattergl"
           }
          ],
          "scattermap": [
           {
            "marker": {
             "colorbar": {
              "outlinewidth": 0,
              "ticks": ""
             }
            },
            "type": "scattermap"
           }
          ],
          "scattermapbox": [
           {
            "marker": {
             "colorbar": {
              "outlinewidth": 0,
              "ticks": ""
             }
            },
            "type": "scattermapbox"
           }
          ],
          "scatterpolar": [
           {
            "marker": {
             "colorbar": {
              "outlinewidth": 0,
              "ticks": ""
             }
            },
            "type": "scatterpolar"
           }
          ],
          "scatterpolargl": [
           {
            "marker": {
             "colorbar": {
              "outlinewidth": 0,
              "ticks": ""
             }
            },
            "type": "scatterpolargl"
           }
          ],
          "scatterternary": [
           {
            "marker": {
             "colorbar": {
              "outlinewidth": 0,
              "ticks": ""
             }
            },
            "type": "scatterternary"
           }
          ],
          "surface": [
           {
            "colorbar": {
             "outlinewidth": 0,
             "ticks": ""
            },
            "colorscale": [
             [
              0,
              "#0d0887"
             ],
             [
              0.1111111111111111,
              "#46039f"
             ],
             [
              0.2222222222222222,
              "#7201a8"
             ],
             [
              0.3333333333333333,
              "#9c179e"
             ],
             [
              0.4444444444444444,
              "#bd3786"
             ],
             [
              0.5555555555555556,
              "#d8576b"
             ],
             [
              0.6666666666666666,
              "#ed7953"
             ],
             [
              0.7777777777777778,
              "#fb9f3a"
             ],
             [
              0.8888888888888888,
              "#fdca26"
             ],
             [
              1,
              "#f0f921"
             ]
            ],
            "type": "surface"
           }
          ],
          "table": [
           {
            "cells": {
             "fill": {
              "color": "#EBF0F8"
             },
             "line": {
              "color": "white"
             }
            },
            "header": {
             "fill": {
              "color": "#C8D4E3"
             },
             "line": {
              "color": "white"
             }
            },
            "type": "table"
           }
          ]
         },
         "layout": {
          "annotationdefaults": {
           "arrowcolor": "#2a3f5f",
           "arrowhead": 0,
           "arrowwidth": 1
          },
          "autotypenumbers": "strict",
          "coloraxis": {
           "colorbar": {
            "outlinewidth": 0,
            "ticks": ""
           }
          },
          "colorscale": {
           "diverging": [
            [
             0,
             "#8e0152"
            ],
            [
             0.1,
             "#c51b7d"
            ],
            [
             0.2,
             "#de77ae"
            ],
            [
             0.3,
             "#f1b6da"
            ],
            [
             0.4,
             "#fde0ef"
            ],
            [
             0.5,
             "#f7f7f7"
            ],
            [
             0.6,
             "#e6f5d0"
            ],
            [
             0.7,
             "#b8e186"
            ],
            [
             0.8,
             "#7fbc41"
            ],
            [
             0.9,
             "#4d9221"
            ],
            [
             1,
             "#276419"
            ]
           ],
           "sequential": [
            [
             0,
             "#0d0887"
            ],
            [
             0.1111111111111111,
             "#46039f"
            ],
            [
             0.2222222222222222,
             "#7201a8"
            ],
            [
             0.3333333333333333,
             "#9c179e"
            ],
            [
             0.4444444444444444,
             "#bd3786"
            ],
            [
             0.5555555555555556,
             "#d8576b"
            ],
            [
             0.6666666666666666,
             "#ed7953"
            ],
            [
             0.7777777777777778,
             "#fb9f3a"
            ],
            [
             0.8888888888888888,
             "#fdca26"
            ],
            [
             1,
             "#f0f921"
            ]
           ],
           "sequentialminus": [
            [
             0,
             "#0d0887"
            ],
            [
             0.1111111111111111,
             "#46039f"
            ],
            [
             0.2222222222222222,
             "#7201a8"
            ],
            [
             0.3333333333333333,
             "#9c179e"
            ],
            [
             0.4444444444444444,
             "#bd3786"
            ],
            [
             0.5555555555555556,
             "#d8576b"
            ],
            [
             0.6666666666666666,
             "#ed7953"
            ],
            [
             0.7777777777777778,
             "#fb9f3a"
            ],
            [
             0.8888888888888888,
             "#fdca26"
            ],
            [
             1,
             "#f0f921"
            ]
           ]
          },
          "colorway": [
           "#636efa",
           "#EF553B",
           "#00cc96",
           "#ab63fa",
           "#FFA15A",
           "#19d3f3",
           "#FF6692",
           "#B6E880",
           "#FF97FF",
           "#FECB52"
          ],
          "font": {
           "color": "#2a3f5f"
          },
          "geo": {
           "bgcolor": "white",
           "lakecolor": "white",
           "landcolor": "#E5ECF6",
           "showlakes": true,
           "showland": true,
           "subunitcolor": "white"
          },
          "hoverlabel": {
           "align": "left"
          },
          "hovermode": "closest",
          "mapbox": {
           "style": "light"
          },
          "paper_bgcolor": "white",
          "plot_bgcolor": "#E5ECF6",
          "polar": {
           "angularaxis": {
            "gridcolor": "white",
            "linecolor": "white",
            "ticks": ""
           },
           "bgcolor": "#E5ECF6",
           "radialaxis": {
            "gridcolor": "white",
            "linecolor": "white",
            "ticks": ""
           }
          },
          "scene": {
           "xaxis": {
            "backgroundcolor": "#E5ECF6",
            "gridcolor": "white",
            "gridwidth": 2,
            "linecolor": "white",
            "showbackground": true,
            "ticks": "",
            "zerolinecolor": "white"
           },
           "yaxis": {
            "backgroundcolor": "#E5ECF6",
            "gridcolor": "white",
            "gridwidth": 2,
            "linecolor": "white",
            "showbackground": true,
            "ticks": "",
            "zerolinecolor": "white"
           },
           "zaxis": {
            "backgroundcolor": "#E5ECF6",
            "gridcolor": "white",
            "gridwidth": 2,
            "linecolor": "white",
            "showbackground": true,
            "ticks": "",
            "zerolinecolor": "white"
           }
          },
          "shapedefaults": {
           "line": {
            "color": "#2a3f5f"
           }
          },
          "ternary": {
           "aaxis": {
            "gridcolor": "white",
            "linecolor": "white",
            "ticks": ""
           },
           "baxis": {
            "gridcolor": "white",
            "linecolor": "white",
            "ticks": ""
           },
           "bgcolor": "#E5ECF6",
           "caxis": {
            "gridcolor": "white",
            "linecolor": "white",
            "ticks": ""
           }
          },
          "title": {
           "x": 0.05
          },
          "xaxis": {
           "automargin": true,
           "gridcolor": "white",
           "linecolor": "white",
           "ticks": "",
           "title": {
            "standoff": 15
           },
           "zerolinecolor": "white",
           "zerolinewidth": 2
          },
          "yaxis": {
           "automargin": true,
           "gridcolor": "white",
           "linecolor": "white",
           "ticks": "",
           "title": {
            "standoff": 15
           },
           "zerolinecolor": "white",
           "zerolinewidth": 2
          }
         }
        },
        "title": {
         "text": "batch metrics"
        },
        "xaxis": {
         "anchor": "y",
         "domain": [
          0,
          0.98
         ],
         "title": {
          "text": "step"
         }
        },
        "xaxis2": {
         "anchor": "y2",
         "domain": [
          0,
          0.98
         ],
         "matches": "x",
         "showticklabels": false
        },
        "yaxis": {
         "anchor": "x",
         "domain": [
          0,
          0.485
         ],
         "title": {
          "text": "value"
         }
        },
        "yaxis2": {
         "anchor": "x2",
         "domain": [
          0.515,
          1
         ],
         "title": {
          "text": "value"
         }
        }
       }
      }
     },
     "metadata": {},
     "output_type": "display_data"
    },
    {
     "data": {
      "application/vnd.plotly.v1+json": {
       "config": {
        "plotlyServerURL": "https://plot.ly"
       },
       "data": [
        {
         "hovertemplate": "variable=train_epoch_loss<br>step=%{x}<br>value=%{y}<extra></extra>",
         "legendgroup": "train_epoch_loss",
         "line": {
          "color": "#636efa",
          "dash": "solid"
         },
         "marker": {
          "symbol": "circle"
         },
         "mode": "lines",
         "name": "train_epoch_loss",
         "orientation": "v",
         "showlegend": true,
         "type": "scatter",
         "x": {
          "bdata": "GQAzAE0AZwCBAJsAtQDPAOkAAwEdATcBUQFrAYUBnwG5AdMB7QEHAiECOwJVAm8CiQKjAr0C1wLxAgsDJQM/A1kDcwONA6cDwQPbA/UDDwQpBEMEXQR3BJEEqwTFBN8E+QQTBQ==",
          "dtype": "i2"
         },
         "xaxis": "x4",
         "y": {
          "bdata": "ntiJjUAeBkCe2IlNaiIFQLETOyED2QRA2YmdyDGtBECKndgpv4gEQIqd2JlMRgRAT+zEro0ZBEB2YidGM+kDQJ7YiT0dvgNAip3YuWaxA0CxEztRsZQDQIqd2LllXQNAFDuxg2REA0DZiZ0oVScDQCd2Ypc8JgNAT+zEHjsKA0DsxE6cBPwCQNmJnYh/6AJA7MRO3EHQAkAUO7GThrICQJ7Yid0FoAJAsRM7QVaNAkA7sRMrdH8CQNmJnaiEcQJA7MROPKJmAkDsxE4MDWUCQNmJnZgKUAJAO7ET2ytaAkAUO7GTW0cCQAAAACAyPQJAAAAA8JgxAkAAAAAQfTACQE/sxI65LgJAip3YSUEoAkAndmKXeBUCQLETOzE4BAJAFDuxsz/8AUBP7MR+v/oBQOzETuyO8AFAO7ET25DqAUAAAACgRO4BQCd2YgeW7QFA2YmdGJPlAUDsxE5sDd0BQBQ7sfND3wFAYid2MqTmAUBP7MROh+MBQIqd2KmM2AFAxU7sVHHPAUBiJ3YiqMwBQA==",
          "dtype": "f8"
         },
         "yaxis": "y4"
        },
        {
         "hovertemplate": "variable=train_epoch_accuracy<br>step=%{x}<br>value=%{y}<extra></extra>",
         "legendgroup": "train_epoch_accuracy",
         "line": {
          "color": "#EF553B",
          "dash": "solid"
         },
         "marker": {
          "symbol": "circle"
         },
         "mode": "lines",
         "name": "train_epoch_accuracy",
         "orientation": "v",
         "showlegend": true,
         "type": "scatter",
         "x": {
          "bdata": "GQAzAE0AZwCBAJsAtQDPAOkAAwEdATcBUQFrAYUBnwG5AdMB7QEHAiECOwJVAm8CiQKjAr0C1wLxAgsDJQM/A1kDcwONA6cDwQPbA/UDDwQpBEMEXQR3BJEEqwTFBN8E+QQTBQ==",
          "dtype": "i2"
         },
         "xaxis": "x3",
         "y": {
          "bdata": "26d92qd9yz+P6IiO6OjVPyEN0iANEtg/ZDZmYzZm2T9VRmVURqXaP4EWaIEWyNw/4h/+4R8+3j+yIiuyIuvfP87kTM7kjOA/x2zMxmzc4D/cxV3cxU3hP3iAB3iAJ+I/QQu0QAuU4j+mX/qlXxrjP67Xeq3XCuM/BlqgBVqA4z+7uIu7uLvjP3mP93iPB+Q/Lt/yLd9i5D/3eI/3eM/kP1qgBVqgJeU/pDIqozJ65T8hHMIhHKLlP4usyIqsyOU/Lt/yLd8C5j8KlmAJlhDmP+zETuzETuY/0iAN0iAt5j9mYzZmY3bmPxqkQRqkkeY/sRM7sRO75j9HdERHdMTmPw7SIA3S0OY/GqRBGqTh5j+e2Imd2DnnP1EZlVEZdec/OZMzOZOT5z/gAR7gAZ7nP5/neZ7nuec/Tt3UTd3U5z/btm3btr3nP0mDNEiDxOc/RmVURmXk5z8BD/AADwDoP9mJndiJ/ec/67Ve67Xe5z/v4i7u4u7nP+/iLu7iHug/MP3SL/0y6D/1S7/0Sz/oPw==",
          "dtype": "f8"
         },
         "yaxis": "y3"
        },
        {
         "hovertemplate": "variable=validation_loss<br>step=%{x}<br>value=%{y}<extra></extra>",
         "legendgroup": "validation_loss",
         "line": {
          "color": "#00cc96",
          "dash": "solid"
         },
         "marker": {
          "symbol": "circle"
         },
         "mode": "lines",
         "name": "validation_loss",
         "orientation": "v",
         "showlegend": true,
         "type": "scatter",
         "x": {
          "bdata": "GQAzAE0AZwCBAJsAtQDPAOkAAwEdATcBUQFrAYUBnwG5AdMB7QEHAiECOwJVAm8CiQKjAr0C1wLxAgsDJQM/A1kDcwONA6cDwQPbA/UDDwQpBEMEXQR3BJEEqwTFBN8E+QQTBQ==",
          "dtype": "i2"
         },
         "xaxis": "x2",
         "y": {
          "bdata": "27Zt21O4BUC3bdsWrCwFQNu2bfvcEAVAAAAAwHwaBUCSJEnSv+gEQEmSJEndvwRA27ZtuwygBEBu27atqZ4EQNu2bVtvgARASZIkCUFsBEAAAAAgPWkEQNu2bXu2cgRA27Zt+wJiBECSJEnSuFMEQLdt21aYTgRAt23blvlLBEBJkiSpQlEEQJIkSfKoSQRA27ZtO3xJBEDbtm27LFAEQNu2bfs9XARASZIkCYNbBEDbtm07rloEQG7bti2iYARAt23blk1UBEBu27atXkYEQCVJkgRubQRA27Ztu+pNBECSJEmSGzYEQEmSJKmWQgRAJUmSpLBEBECSJEnSgEEEQNu2bVuhZARASZIkafdGBEAAAABAvysEQEmSJAkwFwRAt23bFpIrBEAlSZKkNSwEQG7bti2BKQRAkiRJcoEeBEDbtm07ujAEQLdt29Z+MwRAAAAAIKstBEAlSZIEgioEQNu2bVvUFQRASZIkyY0QBECSJEmS1DQEQJIkSTLWMQRAt23b9l0oBEC3bdtWcDAEQA==",
          "dtype": "f8"
         },
         "yaxis": "y2"
        },
        {
         "hovertemplate": "variable=validation_accuracy<br>step=%{x}<br>value=%{y}<extra></extra>",
         "legendgroup": "validation_accuracy",
         "line": {
          "color": "#ab63fa",
          "dash": "solid"
         },
         "marker": {
          "symbol": "circle"
         },
         "mode": "lines",
         "name": "validation_accuracy",
         "orientation": "v",
         "showlegend": true,
         "type": "scatter",
         "x": {
          "bdata": "GQAzAE0AZwCBAJsAtQDPAOkAAwEdATcBUQFrAYUBnwG5AdMB7QEHAiECOwJVAm8CiQKjAr0C1wLxAgsDJQM/A1kDcwONA6cDwQPbA/UDDwQpBEMEXQR3BJEEqwTFBN8E+QQTBQ==",
          "dtype": "i2"
         },
         "xaxis": "x",
         "y": {
          "bdata": "Lp2Gu5fV0T9WAhW9pZPVP+cY4ODnJtY/U+1XF9Ii1j/oJl5PylzXP1YCFb2lk9g/MscABz+32T8Pha0Z5x/aPxCM7FDYGts/EZpqv7qQ2z+isDXj/KPbP+1Q2JpxPts/orA14/yj2z+isDXj/GPcPzbj/OMDY9w/NdV+dSEt3D/IB0Z2KCzcP1szzj8+MNw/N/F6UubY3D8Soan2q0vcP8gHRnYorNs/7VDYmnH+2z/rSZljgMPbP35u4vWkjNs/yAdGdigs3D+jvrNR39ncPzLAwc9N/No/WR4Rmmo/3D+it3Qa7h7dPxCM7FDY2tw/pcwxwMGP3D9ZHhGaan/cPw+FrRnn39s/60mZY4BD3D+it3Qa7l7dP15Ii+URod4/pcXyiNBU3T9/dSEtlkfdPzfqOxv1nd0/f3UhLZYH3j/IB0Z2KGzdP6O+s1HfGd0/o76zUd8Z3T9bM84/PrDdPxOvJ2WOgd4/7lcX0mI53j9/dSEtlgfdP8gHRnYoLN0/Ndy9rBJo3T9ZJVDRWzrdPw==",
          "dtype": "f8"
         },
         "yaxis": "y"
        }
       ],
       "layout": {
        "annotations": [
         {
          "font": {},
          "showarrow": false,
          "text": "variable=validation_accuracy",
          "textangle": 90,
          "x": 0.98,
          "xanchor": "left",
          "xref": "paper",
          "y": 0.11375,
          "yanchor": "middle",
          "yref": "paper"
         },
         {
          "font": {},
          "showarrow": false,
          "text": "variable=validation_loss",
          "textangle": 90,
          "x": 0.98,
          "xanchor": "left",
          "xref": "paper",
          "y": 0.37124999999999997,
          "yanchor": "middle",
          "yref": "paper"
         },
         {
          "font": {},
          "showarrow": false,
          "text": "variable=train_epoch_accuracy",
          "textangle": 90,
          "x": 0.98,
          "xanchor": "left",
          "xref": "paper",
          "y": 0.62875,
          "yanchor": "middle",
          "yref": "paper"
         },
         {
          "font": {},
          "showarrow": false,
          "text": "variable=train_epoch_loss",
          "textangle": 90,
          "x": 0.98,
          "xanchor": "left",
          "xref": "paper",
          "y": 0.88625,
          "yanchor": "middle",
          "yref": "paper"
         }
        ],
        "legend": {
         "title": {
          "text": "variable"
         },
         "tracegroupgap": 0
        },
        "template": {
         "data": {
          "bar": [
           {
            "error_x": {
             "color": "#2a3f5f"
            },
            "error_y": {
             "color": "#2a3f5f"
            },
            "marker": {
             "line": {
              "color": "#E5ECF6",
              "width": 0.5
             },
             "pattern": {
              "fillmode": "overlay",
              "size": 10,
              "solidity": 0.2
             }
            },
            "type": "bar"
           }
          ],
          "barpolar": [
           {
            "marker": {
             "line": {
              "color": "#E5ECF6",
              "width": 0.5
             },
             "pattern": {
              "fillmode": "overlay",
              "size": 10,
              "solidity": 0.2
             }
            },
            "type": "barpolar"
           }
          ],
          "carpet": [
           {
            "aaxis": {
             "endlinecolor": "#2a3f5f",
             "gridcolor": "white",
             "linecolor": "white",
             "minorgridcolor": "white",
             "startlinecolor": "#2a3f5f"
            },
            "baxis": {
             "endlinecolor": "#2a3f5f",
             "gridcolor": "white",
             "linecolor": "white",
             "minorgridcolor": "white",
             "startlinecolor": "#2a3f5f"
            },
            "type": "carpet"
           }
          ],
          "choropleth": [
           {
            "colorbar": {
             "outlinewidth": 0,
             "ticks": ""
            },
            "type": "choropleth"
           }
          ],
          "contour": [
           {
            "colorbar": {
             "outlinewidth": 0,
             "ticks": ""
            },
            "colorscale": [
             [
              0,
              "#0d0887"
             ],
             [
              0.1111111111111111,
              "#46039f"
             ],
             [
              0.2222222222222222,
              "#7201a8"
             ],
             [
              0.3333333333333333,
              "#9c179e"
             ],
             [
              0.4444444444444444,
              "#bd3786"
             ],
             [
              0.5555555555555556,
              "#d8576b"
             ],
             [
              0.6666666666666666,
              "#ed7953"
             ],
             [
              0.7777777777777778,
              "#fb9f3a"
             ],
             [
              0.8888888888888888,
              "#fdca26"
             ],
             [
              1,
              "#f0f921"
             ]
            ],
            "type": "contour"
           }
          ],
          "contourcarpet": [
           {
            "colorbar": {
             "outlinewidth": 0,
             "ticks": ""
            },
            "type": "contourcarpet"
           }
          ],
          "heatmap": [
           {
            "colorbar": {
             "outlinewidth": 0,
             "ticks": ""
            },
            "colorscale": [
             [
              0,
              "#0d0887"
             ],
             [
              0.1111111111111111,
              "#46039f"
             ],
             [
              0.2222222222222222,
              "#7201a8"
             ],
             [
              0.3333333333333333,
              "#9c179e"
             ],
             [
              0.4444444444444444,
              "#bd3786"
             ],
             [
              0.5555555555555556,
              "#d8576b"
             ],
             [
              0.6666666666666666,
              "#ed7953"
             ],
             [
              0.7777777777777778,
              "#fb9f3a"
             ],
             [
              0.8888888888888888,
              "#fdca26"
             ],
             [
              1,
              "#f0f921"
             ]
            ],
            "type": "heatmap"
           }
          ],
          "histogram": [
           {
            "marker": {
             "pattern": {
              "fillmode": "overlay",
              "size": 10,
              "solidity": 0.2
             }
            },
            "type": "histogram"
           }
          ],
          "histogram2d": [
           {
            "colorbar": {
             "outlinewidth": 0,
             "ticks": ""
            },
            "colorscale": [
             [
              0,
              "#0d0887"
             ],
             [
              0.1111111111111111,
              "#46039f"
             ],
             [
              0.2222222222222222,
              "#7201a8"
             ],
             [
              0.3333333333333333,
              "#9c179e"
             ],
             [
              0.4444444444444444,
              "#bd3786"
             ],
             [
              0.5555555555555556,
              "#d8576b"
             ],
             [
              0.6666666666666666,
              "#ed7953"
             ],
             [
              0.7777777777777778,
              "#fb9f3a"
             ],
             [
              0.8888888888888888,
              "#fdca26"
             ],
             [
              1,
              "#f0f921"
             ]
            ],
            "type": "histogram2d"
           }
          ],
          "histogram2dcontour": [
           {
            "colorbar": {
             "outlinewidth": 0,
             "ticks": ""
            },
            "colorscale": [
             [
              0,
              "#0d0887"
             ],
             [
              0.1111111111111111,
              "#46039f"
             ],
             [
              0.2222222222222222,
              "#7201a8"
             ],
             [
              0.3333333333333333,
              "#9c179e"
             ],
             [
              0.4444444444444444,
              "#bd3786"
             ],
             [
              0.5555555555555556,
              "#d8576b"
             ],
             [
              0.6666666666666666,
              "#ed7953"
             ],
             [
              0.7777777777777778,
              "#fb9f3a"
             ],
             [
              0.8888888888888888,
              "#fdca26"
             ],
             [
              1,
              "#f0f921"
             ]
            ],
            "type": "histogram2dcontour"
           }
          ],
          "mesh3d": [
           {
            "colorbar": {
             "outlinewidth": 0,
             "ticks": ""
            },
            "type": "mesh3d"
           }
          ],
          "parcoords": [
           {
            "line": {
             "colorbar": {
              "outlinewidth": 0,
              "ticks": ""
             }
            },
            "type": "parcoords"
           }
          ],
          "pie": [
           {
            "automargin": true,
            "type": "pie"
           }
          ],
          "scatter": [
           {
            "fillpattern": {
             "fillmode": "overlay",
             "size": 10,
             "solidity": 0.2
            },
            "type": "scatter"
           }
          ],
          "scatter3d": [
           {
            "line": {
             "colorbar": {
              "outlinewidth": 0,
              "ticks": ""
             }
            },
            "marker": {
             "colorbar": {
              "outlinewidth": 0,
              "ticks": ""
             }
            },
            "type": "scatter3d"
           }
          ],
          "scattercarpet": [
           {
            "marker": {
             "colorbar": {
              "outlinewidth": 0,
              "ticks": ""
             }
            },
            "type": "scattercarpet"
           }
          ],
          "scattergeo": [
           {
            "marker": {
             "colorbar": {
              "outlinewidth": 0,
              "ticks": ""
             }
            },
            "type": "scattergeo"
           }
          ],
          "scattergl": [
           {
            "marker": {
             "colorbar": {
              "outlinewidth": 0,
              "ticks": ""
             }
            },
            "type": "scattergl"
           }
          ],
          "scattermap": [
           {
            "marker": {
             "colorbar": {
              "outlinewidth": 0,
              "ticks": ""
             }
            },
            "type": "scattermap"
           }
          ],
          "scattermapbox": [
           {
            "marker": {
             "colorbar": {
              "outlinewidth": 0,
              "ticks": ""
             }
            },
            "type": "scattermapbox"
           }
          ],
          "scatterpolar": [
           {
            "marker": {
             "colorbar": {
              "outlinewidth": 0,
              "ticks": ""
             }
            },
            "type": "scatterpolar"
           }
          ],
          "scatterpolargl": [
           {
            "marker": {
             "colorbar": {
              "outlinewidth": 0,
              "ticks": ""
             }
            },
            "type": "scatterpolargl"
           }
          ],
          "scatterternary": [
           {
            "marker": {
             "colorbar": {
              "outlinewidth": 0,
              "ticks": ""
             }
            },
            "type": "scatterternary"
           }
          ],
          "surface": [
           {
            "colorbar": {
             "outlinewidth": 0,
             "ticks": ""
            },
            "colorscale": [
             [
              0,
              "#0d0887"
             ],
             [
              0.1111111111111111,
              "#46039f"
             ],
             [
              0.2222222222222222,
              "#7201a8"
             ],
             [
              0.3333333333333333,
              "#9c179e"
             ],
             [
              0.4444444444444444,
              "#bd3786"
             ],
             [
              0.5555555555555556,
              "#d8576b"
             ],
             [
              0.6666666666666666,
              "#ed7953"
             ],
             [
              0.7777777777777778,
              "#fb9f3a"
             ],
             [
              0.8888888888888888,
              "#fdca26"
             ],
             [
              1,
              "#f0f921"
             ]
            ],
            "type": "surface"
           }
          ],
          "table": [
           {
            "cells": {
             "fill": {
              "color": "#EBF0F8"
             },
             "line": {
              "color": "white"
             }
            },
            "header": {
             "fill": {
              "color": "#C8D4E3"
             },
             "line": {
              "color": "white"
             }
            },
            "type": "table"
           }
          ]
         },
         "layout": {
          "annotationdefaults": {
           "arrowcolor": "#2a3f5f",
           "arrowhead": 0,
           "arrowwidth": 1
          },
          "autotypenumbers": "strict",
          "coloraxis": {
           "colorbar": {
            "outlinewidth": 0,
            "ticks": ""
           }
          },
          "colorscale": {
           "diverging": [
            [
             0,
             "#8e0152"
            ],
            [
             0.1,
             "#c51b7d"
            ],
            [
             0.2,
             "#de77ae"
            ],
            [
             0.3,
             "#f1b6da"
            ],
            [
             0.4,
             "#fde0ef"
            ],
            [
             0.5,
             "#f7f7f7"
            ],
            [
             0.6,
             "#e6f5d0"
            ],
            [
             0.7,
             "#b8e186"
            ],
            [
             0.8,
             "#7fbc41"
            ],
            [
             0.9,
             "#4d9221"
            ],
            [
             1,
             "#276419"
            ]
           ],
           "sequential": [
            [
             0,
             "#0d0887"
            ],
            [
             0.1111111111111111,
             "#46039f"
            ],
            [
             0.2222222222222222,
             "#7201a8"
            ],
            [
             0.3333333333333333,
             "#9c179e"
            ],
            [
             0.4444444444444444,
             "#bd3786"
            ],
            [
             0.5555555555555556,
             "#d8576b"
            ],
            [
             0.6666666666666666,
             "#ed7953"
            ],
            [
             0.7777777777777778,
             "#fb9f3a"
            ],
            [
             0.8888888888888888,
             "#fdca26"
            ],
            [
             1,
             "#f0f921"
            ]
           ],
           "sequentialminus": [
            [
             0,
             "#0d0887"
            ],
            [
             0.1111111111111111,
             "#46039f"
            ],
            [
             0.2222222222222222,
             "#7201a8"
            ],
            [
             0.3333333333333333,
             "#9c179e"
            ],
            [
             0.4444444444444444,
             "#bd3786"
            ],
            [
             0.5555555555555556,
             "#d8576b"
            ],
            [
             0.6666666666666666,
             "#ed7953"
            ],
            [
             0.7777777777777778,
             "#fb9f3a"
            ],
            [
             0.8888888888888888,
             "#fdca26"
            ],
            [
             1,
             "#f0f921"
            ]
           ]
          },
          "colorway": [
           "#636efa",
           "#EF553B",
           "#00cc96",
           "#ab63fa",
           "#FFA15A",
           "#19d3f3",
           "#FF6692",
           "#B6E880",
           "#FF97FF",
           "#FECB52"
          ],
          "font": {
           "color": "#2a3f5f"
          },
          "geo": {
           "bgcolor": "white",
           "lakecolor": "white",
           "landcolor": "#E5ECF6",
           "showlakes": true,
           "showland": true,
           "subunitcolor": "white"
          },
          "hoverlabel": {
           "align": "left"
          },
          "hovermode": "closest",
          "mapbox": {
           "style": "light"
          },
          "paper_bgcolor": "white",
          "plot_bgcolor": "#E5ECF6",
          "polar": {
           "angularaxis": {
            "gridcolor": "white",
            "linecolor": "white",
            "ticks": ""
           },
           "bgcolor": "#E5ECF6",
           "radialaxis": {
            "gridcolor": "white",
            "linecolor": "white",
            "ticks": ""
           }
          },
          "scene": {
           "xaxis": {
            "backgroundcolor": "#E5ECF6",
            "gridcolor": "white",
            "gridwidth": 2,
            "linecolor": "white",
            "showbackground": true,
            "ticks": "",
            "zerolinecolor": "white"
           },
           "yaxis": {
            "backgroundcolor": "#E5ECF6",
            "gridcolor": "white",
            "gridwidth": 2,
            "linecolor": "white",
            "showbackground": true,
            "ticks": "",
            "zerolinecolor": "white"
           },
           "zaxis": {
            "backgroundcolor": "#E5ECF6",
            "gridcolor": "white",
            "gridwidth": 2,
            "linecolor": "white",
            "showbackground": true,
            "ticks": "",
            "zerolinecolor": "white"
           }
          },
          "shapedefaults": {
           "line": {
            "color": "#2a3f5f"
           }
          },
          "ternary": {
           "aaxis": {
            "gridcolor": "white",
            "linecolor": "white",
            "ticks": ""
           },
           "baxis": {
            "gridcolor": "white",
            "linecolor": "white",
            "ticks": ""
           },
           "bgcolor": "#E5ECF6",
           "caxis": {
            "gridcolor": "white",
            "linecolor": "white",
            "ticks": ""
           }
          },
          "title": {
           "x": 0.05
          },
          "xaxis": {
           "automargin": true,
           "gridcolor": "white",
           "linecolor": "white",
           "ticks": "",
           "title": {
            "standoff": 15
           },
           "zerolinecolor": "white",
           "zerolinewidth": 2
          },
          "yaxis": {
           "automargin": true,
           "gridcolor": "white",
           "linecolor": "white",
           "ticks": "",
           "title": {
            "standoff": 15
           },
           "zerolinecolor": "white",
           "zerolinewidth": 2
          }
         }
        },
        "title": {
         "text": "epoch metrics"
        },
        "xaxis": {
         "anchor": "y",
         "domain": [
          0,
          0.98
         ],
         "title": {
          "text": "step"
         }
        },
        "xaxis2": {
         "anchor": "y2",
         "domain": [
          0,
          0.98
         ],
         "matches": "x",
         "showticklabels": false
        },
        "xaxis3": {
         "anchor": "y3",
         "domain": [
          0,
          0.98
         ],
         "matches": "x",
         "showticklabels": false
        },
        "xaxis4": {
         "anchor": "y4",
         "domain": [
          0,
          0.98
         ],
         "matches": "x",
         "showticklabels": false
        },
        "yaxis": {
         "anchor": "x",
         "domain": [
          0,
          0.2275
         ],
         "title": {
          "text": "value"
         }
        },
        "yaxis2": {
         "anchor": "x2",
         "domain": [
          0.2575,
          0.485
         ],
         "title": {
          "text": "value"
         }
        },
        "yaxis3": {
         "anchor": "x3",
         "domain": [
          0.515,
          0.7425
         ],
         "title": {
          "text": "value"
         }
        },
        "yaxis4": {
         "anchor": "x4",
         "domain": [
          0.7725,
          1
         ],
         "title": {
          "text": "value"
         }
        }
       }
      }
     },
     "metadata": {},
     "output_type": "display_data"
    },
    {
     "name": "stdout",
     "output_type": "stream",
     "text": [
      "=========================\n",
      "training: 2\n"
     ]
    },
    {
     "data": {
      "application/vnd.jupyter.widget-view+json": {
       "model_id": "fd80669e5e15408bb8e924031946db6d",
       "version_major": 2,
       "version_minor": 0
      },
      "text/plain": [
       "Output()"
      ]
     },
     "metadata": {},
     "output_type": "display_data"
    },
    {
     "data": {
      "text/html": [
       "<pre style=\"white-space:pre;overflow-x:auto;line-height:normal;font-family:Menlo,'DejaVu Sans Mono',consolas,'Courier New',monospace\">validation loss: <span style=\"color: #008080; text-decoration-color: #008080; font-weight: bold\">2.344578572681972</span>\n",
       "</pre>\n"
      ],
      "text/plain": [
       "validation loss: \u001b[1;36m2.344578572681972\u001b[0m\n"
      ]
     },
     "metadata": {},
     "output_type": "display_data"
    },
    {
     "data": {
      "text/html": [
       "<pre style=\"white-space:pre;overflow-x:auto;line-height:normal;font-family:Menlo,'DejaVu Sans Mono',consolas,'Courier New',monospace\">validation loss: <span style=\"color: #008080; text-decoration-color: #008080; font-weight: bold\">2.343181303569249</span>\n",
       "</pre>\n"
      ],
      "text/plain": [
       "validation loss: \u001b[1;36m2.343181303569249\u001b[0m\n"
      ]
     },
     "metadata": {},
     "output_type": "display_data"
    },
    {
     "data": {
      "text/html": [
       "<pre style=\"white-space:pre;overflow-x:auto;line-height:normal;font-family:Menlo,'DejaVu Sans Mono',consolas,'Courier New',monospace\">validation loss: <span style=\"color: #008080; text-decoration-color: #008080; font-weight: bold\">2.3351108006068637</span>\n",
       "</pre>\n"
      ],
      "text/plain": [
       "validation loss: \u001b[1;36m2.3351108006068637\u001b[0m\n"
      ]
     },
     "metadata": {},
     "output_type": "display_data"
    },
    {
     "data": {
      "text/html": [
       "<pre style=\"white-space:pre;overflow-x:auto;line-height:normal;font-family:Menlo,'DejaVu Sans Mono',consolas,'Courier New',monospace\">validation loss: <span style=\"color: #008080; text-decoration-color: #008080; font-weight: bold\">2.348242623465402</span>\n",
       "</pre>\n"
      ],
      "text/plain": [
       "validation loss: \u001b[1;36m2.348242623465402\u001b[0m\n"
      ]
     },
     "metadata": {},
     "output_type": "display_data"
    },
    {
     "data": {
      "text/html": [
       "<pre style=\"white-space:pre;overflow-x:auto;line-height:normal;font-family:Menlo,'DejaVu Sans Mono',consolas,'Courier New',monospace\">validation loss: <span style=\"color: #008080; text-decoration-color: #008080; font-weight: bold\">2.3241726670946394</span>\n",
       "</pre>\n"
      ],
      "text/plain": [
       "validation loss: \u001b[1;36m2.3241726670946394\u001b[0m\n"
      ]
     },
     "metadata": {},
     "output_type": "display_data"
    },
    {
     "data": {
      "text/html": [
       "<pre style=\"white-space:pre;overflow-x:auto;line-height:normal;font-family:Menlo,'DejaVu Sans Mono',consolas,'Courier New',monospace\">validation loss: <span style=\"color: #008080; text-decoration-color: #008080; font-weight: bold\">2.3189945561545238</span>\n",
       "</pre>\n"
      ],
      "text/plain": [
       "validation loss: \u001b[1;36m2.3189945561545238\u001b[0m\n"
      ]
     },
     "metadata": {},
     "output_type": "display_data"
    },
    {
     "data": {
      "text/html": [
       "<pre style=\"white-space:pre;overflow-x:auto;line-height:normal;font-family:Menlo,'DejaVu Sans Mono',consolas,'Courier New',monospace\">validation loss: <span style=\"color: #008080; text-decoration-color: #008080; font-weight: bold\">2.3343588965279713</span>\n",
       "</pre>\n"
      ],
      "text/plain": [
       "validation loss: \u001b[1;36m2.3343588965279713\u001b[0m\n"
      ]
     },
     "metadata": {},
     "output_type": "display_data"
    },
    {
     "data": {
      "text/html": [
       "<pre style=\"white-space:pre;overflow-x:auto;line-height:normal;font-family:Menlo,'DejaVu Sans Mono',consolas,'Courier New',monospace\">validation loss: <span style=\"color: #008080; text-decoration-color: #008080; font-weight: bold\">2.343451533998762</span>\n",
       "</pre>\n"
      ],
      "text/plain": [
       "validation loss: \u001b[1;36m2.343451533998762\u001b[0m\n"
      ]
     },
     "metadata": {},
     "output_type": "display_data"
    },
    {
     "data": {
      "text/html": [
       "<pre style=\"white-space:pre;overflow-x:auto;line-height:normal;font-family:Menlo,'DejaVu Sans Mono',consolas,'Courier New',monospace\">validation loss: <span style=\"color: #008080; text-decoration-color: #008080; font-weight: bold\">2.3299806799207414</span>\n",
       "</pre>\n"
      ],
      "text/plain": [
       "validation loss: \u001b[1;36m2.3299806799207414\u001b[0m\n"
      ]
     },
     "metadata": {},
     "output_type": "display_data"
    },
    {
     "data": {
      "text/html": [
       "<pre style=\"white-space:pre;overflow-x:auto;line-height:normal;font-family:Menlo,'DejaVu Sans Mono',consolas,'Courier New',monospace\">validation loss: <span style=\"color: #008080; text-decoration-color: #008080; font-weight: bold\">2.3387775080544606</span>\n",
       "</pre>\n"
      ],
      "text/plain": [
       "validation loss: \u001b[1;36m2.3387775080544606\u001b[0m\n"
      ]
     },
     "metadata": {},
     "output_type": "display_data"
    },
    {
     "data": {
      "text/html": [
       "<pre style=\"white-space:pre;overflow-x:auto;line-height:normal;font-family:Menlo,'DejaVu Sans Mono',consolas,'Courier New',monospace\">validation loss: <span style=\"color: #008080; text-decoration-color: #008080; font-weight: bold\">2.3363334110804965</span>\n",
       "</pre>\n"
      ],
      "text/plain": [
       "validation loss: \u001b[1;36m2.3363334110804965\u001b[0m\n"
      ]
     },
     "metadata": {},
     "output_type": "display_data"
    },
    {
     "data": {
      "text/html": [
       "<pre style=\"white-space:pre;overflow-x:auto;line-height:normal;font-family:Menlo,'DejaVu Sans Mono',consolas,'Courier New',monospace\">validation loss: <span style=\"color: #008080; text-decoration-color: #008080; font-weight: bold\">2.356388194220407</span>\n",
       "</pre>\n"
      ],
      "text/plain": [
       "validation loss: \u001b[1;36m2.356388194220407\u001b[0m\n"
      ]
     },
     "metadata": {},
     "output_type": "display_data"
    },
    {
     "data": {
      "text/html": [
       "<pre style=\"white-space:pre;overflow-x:auto;line-height:normal;font-family:Menlo,'DejaVu Sans Mono',consolas,'Courier New',monospace\">validation loss: <span style=\"color: #008080; text-decoration-color: #008080; font-weight: bold\">2.3501338958740234</span>\n",
       "</pre>\n"
      ],
      "text/plain": [
       "validation loss: \u001b[1;36m2.3501338958740234\u001b[0m\n"
      ]
     },
     "metadata": {},
     "output_type": "display_data"
    },
    {
     "data": {
      "text/html": [
       "<pre style=\"white-space:pre;overflow-x:auto;line-height:normal;font-family:Menlo,'DejaVu Sans Mono',consolas,'Courier New',monospace\">validation loss: <span style=\"color: #008080; text-decoration-color: #008080; font-weight: bold\">2.3366035393306186</span>\n",
       "</pre>\n"
      ],
      "text/plain": [
       "validation loss: \u001b[1;36m2.3366035393306186\u001b[0m\n"
      ]
     },
     "metadata": {},
     "output_type": "display_data"
    },
    {
     "data": {
      "text/html": [
       "<pre style=\"white-space:pre;overflow-x:auto;line-height:normal;font-family:Menlo,'DejaVu Sans Mono',consolas,'Courier New',monospace\">validation loss: <span style=\"color: #008080; text-decoration-color: #008080; font-weight: bold\">2.3410230704716275</span>\n",
       "</pre>\n"
      ],
      "text/plain": [
       "validation loss: \u001b[1;36m2.3410230704716275\u001b[0m\n"
      ]
     },
     "metadata": {},
     "output_type": "display_data"
    },
    {
     "data": {
      "text/html": [
       "<pre style=\"white-space:pre;overflow-x:auto;line-height:normal;font-family:Menlo,'DejaVu Sans Mono',consolas,'Courier New',monospace\">validation loss: <span style=\"color: #008080; text-decoration-color: #008080; font-weight: bold\">2.33670060975211</span>\n",
       "</pre>\n"
      ],
      "text/plain": [
       "validation loss: \u001b[1;36m2.33670060975211\u001b[0m\n"
      ]
     },
     "metadata": {},
     "output_type": "display_data"
    },
    {
     "data": {
      "text/html": [
       "<pre style=\"white-space:pre;overflow-x:auto;line-height:normal;font-family:Menlo,'DejaVu Sans Mono',consolas,'Courier New',monospace\">validation loss: <span style=\"color: #008080; text-decoration-color: #008080; font-weight: bold\">2.3598313331604004</span>\n",
       "</pre>\n"
      ],
      "text/plain": [
       "validation loss: \u001b[1;36m2.3598313331604004\u001b[0m\n"
      ]
     },
     "metadata": {},
     "output_type": "display_data"
    },
    {
     "data": {
      "text/html": [
       "<pre style=\"white-space:pre;overflow-x:auto;line-height:normal;font-family:Menlo,'DejaVu Sans Mono',consolas,'Courier New',monospace\">validation loss: <span style=\"color: #008080; text-decoration-color: #008080; font-weight: bold\">2.3633805002485</span>\n",
       "</pre>\n"
      ],
      "text/plain": [
       "validation loss: \u001b[1;36m2.3633805002485\u001b[0m\n"
      ]
     },
     "metadata": {},
     "output_type": "display_data"
    },
    {
     "data": {
      "text/html": [
       "<pre style=\"white-space:pre;overflow-x:auto;line-height:normal;font-family:Menlo,'DejaVu Sans Mono',consolas,'Courier New',monospace\">validation loss: <span style=\"color: #008080; text-decoration-color: #008080; font-weight: bold\">2.363868032182966</span>\n",
       "</pre>\n"
      ],
      "text/plain": [
       "validation loss: \u001b[1;36m2.363868032182966\u001b[0m\n"
      ]
     },
     "metadata": {},
     "output_type": "display_data"
    },
    {
     "data": {
      "text/html": [
       "<pre style=\"white-space:pre;overflow-x:auto;line-height:normal;font-family:Menlo,'DejaVu Sans Mono',consolas,'Courier New',monospace\">validation loss: <span style=\"color: #008080; text-decoration-color: #008080; font-weight: bold\">2.353494814464024</span>\n",
       "</pre>\n"
      ],
      "text/plain": [
       "validation loss: \u001b[1;36m2.353494814464024\u001b[0m\n"
      ]
     },
     "metadata": {},
     "output_type": "display_data"
    },
    {
     "data": {
      "text/html": [
       "<pre style=\"white-space:pre;overflow-x:auto;line-height:normal;font-family:Menlo,'DejaVu Sans Mono',consolas,'Courier New',monospace\">validation loss: <span style=\"color: #008080; text-decoration-color: #008080; font-weight: bold\">2.361962693078177</span>\n",
       "</pre>\n"
      ],
      "text/plain": [
       "validation loss: \u001b[1;36m2.361962693078177\u001b[0m\n"
      ]
     },
     "metadata": {},
     "output_type": "display_data"
    },
    {
     "data": {
      "text/html": [
       "<pre style=\"white-space:pre;overflow-x:auto;line-height:normal;font-family:Menlo,'DejaVu Sans Mono',consolas,'Courier New',monospace\">validation loss: <span style=\"color: #008080; text-decoration-color: #008080; font-weight: bold\">2.364769220352173</span>\n",
       "</pre>\n"
      ],
      "text/plain": [
       "validation loss: \u001b[1;36m2.364769220352173\u001b[0m\n"
      ]
     },
     "metadata": {},
     "output_type": "display_data"
    },
    {
     "data": {
      "text/html": [
       "<pre style=\"white-space:pre;overflow-x:auto;line-height:normal;font-family:Menlo,'DejaVu Sans Mono',consolas,'Courier New',monospace\">validation loss: <span style=\"color: #008080; text-decoration-color: #008080; font-weight: bold\">2.362013680594308</span>\n",
       "</pre>\n"
      ],
      "text/plain": [
       "validation loss: \u001b[1;36m2.362013680594308\u001b[0m\n"
      ]
     },
     "metadata": {},
     "output_type": "display_data"
    },
    {
     "data": {
      "text/html": [
       "<pre style=\"white-space:pre;overflow-x:auto;line-height:normal;font-family:Menlo,'DejaVu Sans Mono',consolas,'Courier New',monospace\">validation loss: <span style=\"color: #008080; text-decoration-color: #008080; font-weight: bold\">2.3532238687787737</span>\n",
       "</pre>\n"
      ],
      "text/plain": [
       "validation loss: \u001b[1;36m2.3532238687787737\u001b[0m\n"
      ]
     },
     "metadata": {},
     "output_type": "display_data"
    },
    {
     "data": {
      "text/html": [
       "<pre style=\"white-space:pre;overflow-x:auto;line-height:normal;font-family:Menlo,'DejaVu Sans Mono',consolas,'Courier New',monospace\">validation loss: <span style=\"color: #008080; text-decoration-color: #008080; font-weight: bold\">2.3633760043552945</span>\n",
       "</pre>\n"
      ],
      "text/plain": [
       "validation loss: \u001b[1;36m2.3633760043552945\u001b[0m\n"
      ]
     },
     "metadata": {},
     "output_type": "display_data"
    },
    {
     "data": {
      "text/html": [
       "<pre style=\"white-space:pre;overflow-x:auto;line-height:normal;font-family:Menlo,'DejaVu Sans Mono',consolas,'Courier New',monospace\">validation loss: <span style=\"color: #008080; text-decoration-color: #008080; font-weight: bold\">2.3552420139312744</span>\n",
       "</pre>\n"
      ],
      "text/plain": [
       "validation loss: \u001b[1;36m2.3552420139312744\u001b[0m\n"
      ]
     },
     "metadata": {},
     "output_type": "display_data"
    },
    {
     "data": {
      "text/html": [
       "<pre style=\"white-space:pre;overflow-x:auto;line-height:normal;font-family:Menlo,'DejaVu Sans Mono',consolas,'Courier New',monospace\">validation loss: <span style=\"color: #008080; text-decoration-color: #008080; font-weight: bold\">2.367907932826451</span>\n",
       "</pre>\n"
      ],
      "text/plain": [
       "validation loss: \u001b[1;36m2.367907932826451\u001b[0m\n"
      ]
     },
     "metadata": {},
     "output_type": "display_data"
    },
    {
     "data": {
      "text/html": [
       "<pre style=\"white-space:pre;overflow-x:auto;line-height:normal;font-family:Menlo,'DejaVu Sans Mono',consolas,'Courier New',monospace\">validation loss: <span style=\"color: #008080; text-decoration-color: #008080; font-weight: bold\">2.3663741861070906</span>\n",
       "</pre>\n"
      ],
      "text/plain": [
       "validation loss: \u001b[1;36m2.3663741861070906\u001b[0m\n"
      ]
     },
     "metadata": {},
     "output_type": "display_data"
    },
    {
     "data": {
      "text/html": [
       "<pre style=\"white-space:pre;overflow-x:auto;line-height:normal;font-family:Menlo,'DejaVu Sans Mono',consolas,'Courier New',monospace\">validation loss: <span style=\"color: #008080; text-decoration-color: #008080; font-weight: bold\">2.3737379823412215</span>\n",
       "</pre>\n"
      ],
      "text/plain": [
       "validation loss: \u001b[1;36m2.3737379823412215\u001b[0m\n"
      ]
     },
     "metadata": {},
     "output_type": "display_data"
    },
    {
     "data": {
      "text/html": [
       "<pre style=\"white-space:pre;overflow-x:auto;line-height:normal;font-family:Menlo,'DejaVu Sans Mono',consolas,'Courier New',monospace\">validation loss: <span style=\"color: #008080; text-decoration-color: #008080; font-weight: bold\">2.3791470527648926</span>\n",
       "</pre>\n"
      ],
      "text/plain": [
       "validation loss: \u001b[1;36m2.3791470527648926\u001b[0m\n"
      ]
     },
     "metadata": {},
     "output_type": "display_data"
    },
    {
     "data": {
      "text/html": [
       "<pre style=\"white-space:pre;overflow-x:auto;line-height:normal;font-family:Menlo,'DejaVu Sans Mono',consolas,'Courier New',monospace\">validation loss: <span style=\"color: #008080; text-decoration-color: #008080; font-weight: bold\">2.377185378755842</span>\n",
       "</pre>\n"
      ],
      "text/plain": [
       "validation loss: \u001b[1;36m2.377185378755842\u001b[0m\n"
      ]
     },
     "metadata": {},
     "output_type": "display_data"
    },
    {
     "data": {
      "text/html": [
       "<pre style=\"white-space:pre;overflow-x:auto;line-height:normal;font-family:Menlo,'DejaVu Sans Mono',consolas,'Courier New',monospace\">validation loss: <span style=\"color: #008080; text-decoration-color: #008080; font-weight: bold\">2.364861488342285</span>\n",
       "</pre>\n"
      ],
      "text/plain": [
       "validation loss: \u001b[1;36m2.364861488342285\u001b[0m\n"
      ]
     },
     "metadata": {},
     "output_type": "display_data"
    },
    {
     "data": {
      "text/html": [
       "<pre style=\"white-space:pre;overflow-x:auto;line-height:normal;font-family:Menlo,'DejaVu Sans Mono',consolas,'Courier New',monospace\">validation loss: <span style=\"color: #008080; text-decoration-color: #008080; font-weight: bold\">2.371715784072876</span>\n",
       "</pre>\n"
      ],
      "text/plain": [
       "validation loss: \u001b[1;36m2.371715784072876\u001b[0m\n"
      ]
     },
     "metadata": {},
     "output_type": "display_data"
    },
    {
     "data": {
      "text/html": [
       "<pre style=\"white-space:pre;overflow-x:auto;line-height:normal;font-family:Menlo,'DejaVu Sans Mono',consolas,'Courier New',monospace\">validation loss: <span style=\"color: #008080; text-decoration-color: #008080; font-weight: bold\">2.385808604104178</span>\n",
       "</pre>\n"
      ],
      "text/plain": [
       "validation loss: \u001b[1;36m2.385808604104178\u001b[0m\n"
      ]
     },
     "metadata": {},
     "output_type": "display_data"
    },
    {
     "data": {
      "text/html": [
       "<pre style=\"white-space:pre;overflow-x:auto;line-height:normal;font-family:Menlo,'DejaVu Sans Mono',consolas,'Courier New',monospace\">validation loss: <span style=\"color: #008080; text-decoration-color: #008080; font-weight: bold\">2.357921395983015</span>\n",
       "</pre>\n"
      ],
      "text/plain": [
       "validation loss: \u001b[1;36m2.357921395983015\u001b[0m\n"
      ]
     },
     "metadata": {},
     "output_type": "display_data"
    },
    {
     "data": {
      "text/html": [
       "<pre style=\"white-space:pre;overflow-x:auto;line-height:normal;font-family:Menlo,'DejaVu Sans Mono',consolas,'Courier New',monospace\">validation loss: <span style=\"color: #008080; text-decoration-color: #008080; font-weight: bold\">2.359572104045323</span>\n",
       "</pre>\n"
      ],
      "text/plain": [
       "validation loss: \u001b[1;36m2.359572104045323\u001b[0m\n"
      ]
     },
     "metadata": {},
     "output_type": "display_data"
    },
    {
     "data": {
      "text/html": [
       "<pre style=\"white-space:pre;overflow-x:auto;line-height:normal;font-family:Menlo,'DejaVu Sans Mono',consolas,'Courier New',monospace\">validation loss: <span style=\"color: #008080; text-decoration-color: #008080; font-weight: bold\">2.37443014553615</span>\n",
       "</pre>\n"
      ],
      "text/plain": [
       "validation loss: \u001b[1;36m2.37443014553615\u001b[0m\n"
      ]
     },
     "metadata": {},
     "output_type": "display_data"
    },
    {
     "data": {
      "text/html": [
       "<pre style=\"white-space:pre;overflow-x:auto;line-height:normal;font-family:Menlo,'DejaVu Sans Mono',consolas,'Courier New',monospace\">validation loss: <span style=\"color: #008080; text-decoration-color: #008080; font-weight: bold\">2.3764113017490933</span>\n",
       "</pre>\n"
      ],
      "text/plain": [
       "validation loss: \u001b[1;36m2.3764113017490933\u001b[0m\n"
      ]
     },
     "metadata": {},
     "output_type": "display_data"
    },
    {
     "data": {
      "text/html": [
       "<pre style=\"white-space:pre;overflow-x:auto;line-height:normal;font-family:Menlo,'DejaVu Sans Mono',consolas,'Courier New',monospace\">validation loss: <span style=\"color: #008080; text-decoration-color: #008080; font-weight: bold\">2.362850938524519</span>\n",
       "</pre>\n"
      ],
      "text/plain": [
       "validation loss: \u001b[1;36m2.362850938524519\u001b[0m\n"
      ]
     },
     "metadata": {},
     "output_type": "display_data"
    },
    {
     "data": {
      "text/html": [
       "<pre style=\"white-space:pre;overflow-x:auto;line-height:normal;font-family:Menlo,'DejaVu Sans Mono',consolas,'Courier New',monospace\">validation loss: <span style=\"color: #008080; text-decoration-color: #008080; font-weight: bold\">2.36401173046657</span>\n",
       "</pre>\n"
      ],
      "text/plain": [
       "validation loss: \u001b[1;36m2.36401173046657\u001b[0m\n"
      ]
     },
     "metadata": {},
     "output_type": "display_data"
    },
    {
     "data": {
      "text/html": [
       "<pre style=\"white-space:pre;overflow-x:auto;line-height:normal;font-family:Menlo,'DejaVu Sans Mono',consolas,'Courier New',monospace\">validation loss: <span style=\"color: #008080; text-decoration-color: #008080; font-weight: bold\">2.3718460968562534</span>\n",
       "</pre>\n"
      ],
      "text/plain": [
       "validation loss: \u001b[1;36m2.3718460968562534\u001b[0m\n"
      ]
     },
     "metadata": {},
     "output_type": "display_data"
    },
    {
     "data": {
      "text/html": [
       "<pre style=\"white-space:pre;overflow-x:auto;line-height:normal;font-family:Menlo,'DejaVu Sans Mono',consolas,'Courier New',monospace\">validation loss: <span style=\"color: #008080; text-decoration-color: #008080; font-weight: bold\">2.3687855856759206</span>\n",
       "</pre>\n"
      ],
      "text/plain": [
       "validation loss: \u001b[1;36m2.3687855856759206\u001b[0m\n"
      ]
     },
     "metadata": {},
     "output_type": "display_data"
    },
    {
     "data": {
      "text/html": [
       "<pre style=\"white-space:pre;overflow-x:auto;line-height:normal;font-family:Menlo,'DejaVu Sans Mono',consolas,'Courier New',monospace\">validation loss: <span style=\"color: #008080; text-decoration-color: #008080; font-weight: bold\">2.3777078560420444</span>\n",
       "</pre>\n"
      ],
      "text/plain": [
       "validation loss: \u001b[1;36m2.3777078560420444\u001b[0m\n"
      ]
     },
     "metadata": {},
     "output_type": "display_data"
    },
    {
     "data": {
      "text/html": [
       "<pre style=\"white-space:pre;overflow-x:auto;line-height:normal;font-family:Menlo,'DejaVu Sans Mono',consolas,'Courier New',monospace\">validation loss: <span style=\"color: #008080; text-decoration-color: #008080; font-weight: bold\">2.3680266993386403</span>\n",
       "</pre>\n"
      ],
      "text/plain": [
       "validation loss: \u001b[1;36m2.3680266993386403\u001b[0m\n"
      ]
     },
     "metadata": {},
     "output_type": "display_data"
    },
    {
     "data": {
      "text/html": [
       "<pre style=\"white-space:pre;overflow-x:auto;line-height:normal;font-family:Menlo,'DejaVu Sans Mono',consolas,'Courier New',monospace\">validation loss: <span style=\"color: #008080; text-decoration-color: #008080; font-weight: bold\">2.3918003695351735</span>\n",
       "</pre>\n"
      ],
      "text/plain": [
       "validation loss: \u001b[1;36m2.3918003695351735\u001b[0m\n"
      ]
     },
     "metadata": {},
     "output_type": "display_data"
    },
    {
     "data": {
      "text/html": [
       "<pre style=\"white-space:pre;overflow-x:auto;line-height:normal;font-family:Menlo,'DejaVu Sans Mono',consolas,'Courier New',monospace\">validation loss: <span style=\"color: #008080; text-decoration-color: #008080; font-weight: bold\">2.3807239532470703</span>\n",
       "</pre>\n"
      ],
      "text/plain": [
       "validation loss: \u001b[1;36m2.3807239532470703\u001b[0m\n"
      ]
     },
     "metadata": {},
     "output_type": "display_data"
    },
    {
     "data": {
      "text/html": [
       "<pre style=\"white-space:pre;overflow-x:auto;line-height:normal;font-family:Menlo,'DejaVu Sans Mono',consolas,'Courier New',monospace\">validation loss: <span style=\"color: #008080; text-decoration-color: #008080; font-weight: bold\">2.3725371020180837</span>\n",
       "</pre>\n"
      ],
      "text/plain": [
       "validation loss: \u001b[1;36m2.3725371020180837\u001b[0m\n"
      ]
     },
     "metadata": {},
     "output_type": "display_data"
    },
    {
     "data": {
      "text/html": [
       "<pre style=\"white-space:pre;overflow-x:auto;line-height:normal;font-family:Menlo,'DejaVu Sans Mono',consolas,'Courier New',monospace\">validation loss: <span style=\"color: #008080; text-decoration-color: #008080; font-weight: bold\">2.3734573977334157</span>\n",
       "</pre>\n"
      ],
      "text/plain": [
       "validation loss: \u001b[1;36m2.3734573977334157\u001b[0m\n"
      ]
     },
     "metadata": {},
     "output_type": "display_data"
    },
    {
     "data": {
      "text/html": [
       "<pre style=\"white-space:pre;overflow-x:auto;line-height:normal;font-family:Menlo,'DejaVu Sans Mono',consolas,'Courier New',monospace\">validation loss: <span style=\"color: #008080; text-decoration-color: #008080; font-weight: bold\">2.3817488125392368</span>\n",
       "</pre>\n"
      ],
      "text/plain": [
       "validation loss: \u001b[1;36m2.3817488125392368\u001b[0m\n"
      ]
     },
     "metadata": {},
     "output_type": "display_data"
    },
    {
     "data": {
      "text/html": [
       "<pre style=\"white-space:pre;overflow-x:auto;line-height:normal;font-family:Menlo,'DejaVu Sans Mono',consolas,'Courier New',monospace\">validation loss: <span style=\"color: #008080; text-decoration-color: #008080; font-weight: bold\">2.3762481212615967</span>\n",
       "</pre>\n"
      ],
      "text/plain": [
       "validation loss: \u001b[1;36m2.3762481212615967\u001b[0m\n"
      ]
     },
     "metadata": {},
     "output_type": "display_data"
    },
    {
     "data": {
      "text/html": [
       "<pre style=\"white-space:pre;overflow-x:auto;line-height:normal;font-family:Menlo,'DejaVu Sans Mono',consolas,'Courier New',monospace\"></pre>\n"
      ],
      "text/plain": []
     },
     "metadata": {},
     "output_type": "display_data"
    },
    {
     "data": {
      "application/vnd.plotly.v1+json": {
       "config": {
        "plotlyServerURL": "https://plot.ly"
       },
       "data": [
        {
         "hovertemplate": "variable=batch_train_loss<br>step=%{x}<br>value=%{y}<extra></extra>",
         "legendgroup": "",
         "marker": {
          "color": "#636efa",
          "symbol": "circle"
         },
         "mode": "markers",
         "name": "",
         "showlegend": false,
         "type": "scattergl",
         "x": {
          "bdata": "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",
          "dtype": "i2"
         },
         "xaxis": "x2",
         "y": {
          "bdata": "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",
          "dtype": "f8"
         },
         "yaxis": "y2"
        },
        {
         "hovertemplate": "<b>Exponentially Weighted mean trendline</b><br><br>variable=batch_train_loss<br>step=%{x}<br>value=%{y} <b>(trend)</b><extra></extra>",
         "legendgroup": "",
         "line": {
          "color": "red"
         },
         "marker": {
          "color": "#636efa",
          "symbol": "circle"
         },
         "mode": "lines",
         "name": "",
         "showlegend": false,
         "type": "scattergl",
         "x": {
          "bdata": "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",
          "dtype": "i2"
         },
         "xaxis": "x2",
         "y": {
          "bdata": "AAAAIO7NAkBp8z5lgNcCQF6F3gqp8AJAikIvM4HlAkAUzn7vQ/ECQJma/tM+BQNAd6XFpzECA0DahaeUj/QCQFxua/Hj8AJAdCnipZTuAkA/GgA+5uUCQNoeI5vg6AJAzQY0jd3pAkB/5OK4t+YCQP/T+cbu6AJANLDzVP/iAkDemp3P2uMCQE9iktt/4QJATIXfblroAkC2+qh3NeoCQDPFMKJ86gJAZbDMfE/oAkBC6WqAc+gCQNqZUNOr6QJAmxa/ee3qAkBr0/B8t+4CQMIPowaR6AJAnIIBZ2PmAkCN3AMPyOQCQLpc1CVI4gJA8AZUlHvdAkC9o0Dzf90CQJ2T71tL2AJA6lFs5kfTAkDi7pRltc8CQC+U1HI8zQJAvHJgJPXJAkCLqHd8h8kCQB20RyNMxwJAWlkYQajEAkCj1R/IT8ECQG0sa7wIvwJADirRdn+9AkDhWiBkW7gCQGJhe4BjugJARKDQIH6zAkB/x9IQZLICQFhRbV4RswJAwn3SotexAkDuLQnFSrMCQOREgglAtQJAheWQUTK/AkD6KXruOLwCQNRw/mlMtwJAs+MSe5O2AkBvvIlp0rQCQIovdhQRsgJAbnuvmn6uAkBD2xkEeqsCQPvAO+F/qgJA4Zf64haqAkBhKeArtacCQI0cj9bvqgJAcTWhqNaqAkArbpNlWacCQG+cfCbVpAJAS+BPkYijAkAar0XMHaACQB+6Qc1ingJAvYvDq/6bAkCz054t4pgCQJb6M0DSmwJA3y9tlbiZAkCs6eU27pkCQESiSBi7mQJAD8USP5uYAkD144JNX5cCQI4XnbTmkAJA6jTase2RAkB6HJ/hz5ICQO3Tvw3DkQJA3iamHe+OAkA3U7xdQ5ACQCw2lzkUkQJAI1jhQOmPAkAQGQPEF48CQFnc1SkOiwJAgDZUsXaJAkAKCBem74YCQCIFIkVWhgJAM1Vrbs2CAkCjE0btZIECQFQscmrXfwJA3Xpj8JV7AkAB49gJ73oCQGi/+fc8ewJA7KHD9sx6AkDDti7UHXgCQFcaKlzvdgJAHvfHcpd2AkBCusPV4HICQNCnMtpMcwJAzOcUyDxxAkBWGW/9bnACQDW5kpc7cQJASfLKlgdxAkDIDbcU/G4CQEvTsQkEbQJAYca2YB9rAkBVaJkQGmoCQJJ817IfagJA32nxd0hnAkCeg/4nhWUCQCD7mJVmYwJACXh5m5ZgAkAGnuit+2ACQJEx2UaFYAJAx5+9LzRiAkDKeIzP4mECQBa8QGzIXQJAKlKlIPddAkDHZYP7XFgCQIMfVxFFVwJAFqMsl9JWAkABlZxl9VECQBgjBi8mUgJA20TEIRxRAkCuXOAElVACQPrP68EETgJACgln2c1LAkDsix2gpEoCQH/WddQfSAJA7W0HZ4JHAkDP7VErLkUCQGbcKGerQwJAAY4nv25EAkCgIrgIhkECQN/JMgRxPgJA0IHLPPw7AkDqbPsrnDgCQND7Q5GrOAJATfwQJ2I3AkDp3Zf/kDYCQIGx0R37OAJA+dx3UZU2AkDtlQb6ajICQC34RuR5MQJAbjyxSHs0AkDW5W0uhjMCQGJKSYX3NAJAvCHsor03AkA+7ZO7tzcCQMU3o+aENAJA6UWrqFI1AkDyOH+5kDQCQIvCRkB5MQJA6xqHHRYuAkAH2AJL8isCQNoUx9/0KQJAUV0JGzEsAkBgkv40zSgCQNWrrex2KQJA43ezfRYqAkCM1GzS/SoCQNfwsb0pLAJAH7dc8jMsAkByYNfpvywCQOpZUT7GKwJAX9BZEawtAkBW/52ekCsCQIQ9EFPzKgJARNHiqfgqAkDjRFCxwykCQIiRbpffJwJAJAqRYAMoAkBRjkcggygCQKvU/HLBJwJA4lUsrNQkAkBvcFD4PiECQFwNFSHrIgJAEIMD9WYhAkC4dJDnfSMCQN9MB8xxIwJAqnmNw8AkAkA0Oze+RCUCQNAu5F9AJQJAMVlRkLgiAkAIBA9uViECQEE1EgatIQJAtF769SIiAkBiNlbxiCQCQN8LRrODIgJAG7C6mhQiAkDAPEL1qx0CQLYXJ8ZPHwJAw7xDLpkdAkCbr6ia6hoCQKMyvo0GGgJAsi2Bh7UXAkAoy8n/YRkCQPmMzj/NFgJA9li5drkYAkBcQXZ4oBcCQIYEEf9PFgJAZjYwy6wWAkDyIlqXXRQCQBJfz24TEQJAMwkGu24TAkCUqqjQ8xICQIL+dmjCEQJAdeqkQzEQAkBThX4BEg4CQJ7V4kO/CwJA3pY2kKQLAkABNbp1bAoCQLUBxExkCQJAP4VmSeIMAkAZUoQn3wsCQO77gvbYDgJA3/I8Kc0OAkAifSUIcQwCQEf/yW1TDQJAjZvQnrwJAkAVqrjpWw0CQBj2+IpwDAJAU1fRf9UIAkAq0KJBNAkCQIllqTHUBgJAppu9eXQEAkDmsp60TwUCQCturViDBQJADhGaVpUGAkAqp5L3jQcCQN8KJ7DKCAJApTfU2ycIAkCrzytYzgcCQCp94zEyBwJAEFKRKGYEAkCX3iQhMwUCQLAm/tgsBAJAoaCfiDYCAkCe52f6igICQCXW52jD/wFAjNB49VP+AUDouT+CnPsBQCGvSknz+QFAsnGbkAX6AUA+WCYJ5foBQN8qa8Qm/AFA1KHg+EP+AUB+xCEM4/8BQMxf+pxVAQJAgmED9qgBAkCA0e3+jAECQEk0eq4AAAJASKXLi6MCAkDfjl7B3wICQP8pYd6NAwJAqIKZ1/j/AUBqbgjKy/0BQJU8m/lQ+QFA3jw4LoT3AUBVyVkiHPYBQDXjKuYX9QFAfLA5ZX71AUAFIr1o7/UBQM+8W62b9wFAYzlaFlj4AUA6uBq14/kBQA4PXttM+gFAROoghCb3AUAido+S7fYBQLgdIhFY9gFAkVV57Lf1AUBkwP4dNfQBQJ8yj8SA8gFA5HGrKZPwAUB9wTiwPfEBQL7BSJVg7wFAcIJoJJTvAUD5hynQcu0BQNmJdKDX7AFARCg5lIvtAUAUB0bPQu8BQPNACvqF7gFAtf1AuQDzAUCf1sNKw/IBQEwdh3K98QFAH2YO3IXyAUC12zzkkfABQLXPQ5uq8AFA95Lwr6PwAUCcgcSPt/ABQFTJJN8l7gFArBtjSl3uAUB6DZSy2OsBQIzAbynn6QFAMuy2o1nnAUAG4B2ygugBQDa6oehj6gFAEf1+k1/tAUCaCLfaTewBQFG6m7rw6QFASCkgeMHqAUDqdeYSpuoBQAgifFXC6wFAh781Ag3oAUCaAmMOJukBQMukWIcw6gFA7fDssCvpAUCv6XSWbucBQBaCx8Gq5AFAEd9mFjvkAUAKWYkOZ+IBQEkjvwpD4wFAfcu4R/TlAUClNcOoHOcBQEScyXq34gFAInnKMPTeAUARti7KKOABQL0WqJ3a4AFAWFllm6ndAUAMK/wNdd8BQPb1ZAQz4AFAmMML4sTeAUA6JE4yQt0BQCOF4Uqs3wFAEVPGefrgAUBZRy7BrN4BQNLaLEeN3gFAH7tPVLLdAUAIk/lPON0BQKopYBzt2wFA2Zp9cmjaAUB65fMxiNkBQP6fqFWt2QFAV81rpZ3aAUBJ0rS/Q9sBQBfhmNSQ3AFAHG0XUrXbAUA4NRNbJN0BQC88E6nJ3gFAqVHAptPeAUC7u5PsZd0BQALM9jay3AFADvtGskTaAUD5EgX2aNYBQFXE8FAU1gFABPqUOOvYAUBkz84aSdcBQAhkfmw91wFAlht3EfTVAUCfIQqJmNYBQKMLhako1gFApock6E3UAUBvnaFtXNUBQF6O7VRO1gFAvx59KXbVAUBlSIEIPtoBQFLflHQP2AFAVdFV/17aAUAha+OaodkBQHWCNOSq1AFAYiu5QBbUAUBsBJo7wdEBQGLA7ByPzwFAuTYSrVrOAUCIrg9siM8BQOuBgqaHzwFAg36bL5TPAUBbYtKzR84BQObt0uvgzQFA+OAqB2zNAUBBcvRzIMwBQLaurDjNzAFAuRRF6iXMAUBfiSQ8zsoBQHG6UNeTywFAYMF0jTTQAUDIHCdT9c8BQIs34l7NzwFADFYNKt7OAUCtJi/Ucs8BQKF2Fd540AFA0M/IrTDRAUD29XqVoNABQBzW4iAzzwFA1XMF5IrPAUBvXJrE2M0BQLDBUabBzAFA/0fVSW/KAUCqwSMA78kBQFNAGRGhzAFAzcSU1qLLAUBR62JwrMkBQBBaRNo/ygFAP3Zl8qPLAUA4Ck1rc8kBQFDY5a44yAFA9fr+n3PIAUAj0GZFXcoBQJ2bUb+rzAFAVrFk5X3LAUD2GyM/dMwBQMrm13R2zAFAHb1xYR3LAUCL/NvPNcsBQMVw4OAEywFAh6zvRUXKAUChAtFNT8gBQEL979w1yQFAs3v3AZ7GAUD0lSbNXsUBQPf/h2iTxAFAWTLM/n3CAUBO3VgvbMIBQBHrQ958wQFAvfpXggfAAUB3ldBzAcABQFa146XzwQFAtIu+6CrBAUCmMADcAcABQHH0xLNbvgFARuWyxpi9AUAMwVrn1boBQB51o9USvAFAVZ0GGN27AUB0TvxvHbsBQLtPyBnrugFALOMSwoa3AUAvSdjbL7gBQF8H7PlZuAFAtQkluzm4AUAkM4Y/ZboBQIJs6kc3vQFAgGduP+69AUApdL1pHL0BQMaiQIOkvQFAt/uT7rO/AUDCSNRi2cEBQEe/YBNzxQFAWtXPtVDEAUBrkWa9YcUBQC6FclpLxwFAb2lqdpXEAUDSu5ITtMIBQCytmWnkwAFAyANTqR/CAUAUdqNbbMMBQPdGRufoyAFA791/9IjKAUAttP/4gcoBQEYtlCR6ygFAvcX71jfJAUBG1fdM+MkBQF57RGNaygFA8gAFP7DJAUAYxpWw88gBQJVgwIfTxgFA2sCFp/fHAUAp4mEJGcoBQIRz4MTRxQFAJz+uo23FAUDln0m4Z8oBQK0hoLvqyQFANuDnYVPGAUBWTWyUMsYBQAYi/flhyAFABme+C07JAUCQy2vNrMgBQHshQ7ZpxwFA/+nBuwHJAUC5t936VskBQJO+a8eEyQFAM50gJpXHAUBw0l/U78YBQDG8OETXxQFAQjXnXfHGAUAUpsmX/8cBQHzdum39xwFAtf/R/dbJAUA+Hn3xMMgBQLIDSxzCyQFAaBsUEmTIAUBydxZE1skBQH5u5uHyygFAK50JCKHLAUDWH++LQ88BQHTOtlFBywFA2p/BJF7LAUDbRBUU0MoBQKEz1X9vzAFAPXOZeFvKAUCUbrBzZcwBQJWblqT7yQFAsCmJp8HJAUAZbY0PEMoBQLfruWSzyQFAyQ/ejVjKAUDxefWeasgBQBC3C8EUxgFAarwshmPGAUBDyBQpWsgBQNgUokPFyQFAlw2V5THKAUC5+uhVLsgBQKm6iP9CygFAKHqFHnLLAUD4sf7rMM0BQBKXBrm/zAFAMpSLQvXNAUAQa1heU9EBQDL72szf0gFAOjWp0xvRAUA0o2gfbs8BQMjtnYXqzQFANK3yVYzMAUAuAyPyN8oBQK4/i5FNxwFAEXD5MOTFAUAfJGzwIsQBQPE0zEzgxAFAaYzEGBbDAUC5PJQr6cEBQC6Yj7YowgFAUuOcDsLEAUDHxU3TRMUBQBcbMmODxAFA3s+rtWXDAUCL3hF46cMBQHrYtQSXwgFAOmSoBxjEAUC3mYLKp8UBQPCjwFwbxgFAQoW5GN3DAUCAymGmAMYBQJ1S6h0mxAFAVMEKQJnAAUDArqeTpcEBQK+2miWvwwFAIEP41gDCAUCqGBmym8ABQDu0zTrFvwFAbyABvJvAAUAFUvBVvL8BQMi1VDiIwgFAru+LVxfDAUBqLo/PMsEBQBwi9msLwgFAYQsw/y3BAUDYMfQ2Hb8BQP5ZuuZOvQFAtMC07Ca/AUCen0tsOL4BQBewzUgCwAFAaAxDwJ/AAUAxvfZWhcEBQEQ/lAEiwwFAL8TpjTXAAUC48kQHG74BQHfD7yPmuwFAkx3wJ966AUCrr2yfB7wBQPRRDpPkuwFArqaJNWC7AUBFBPl4srwBQKtPGnb1vAFADGlslqS/AUBKHP2eQrwBQO8sWIlMvQFAQKSfezO9AUBEgpq2V70BQH9w15QNvAFAxDuf4qa+AUBiH/2Q/70BQM20kTSIvAFAbirwVCa9AUCrRgHs/r0BQMaWbOX8vQFAOF15rGi7AUAkrAEqk7kBQIbqhWSGuwFA1267D+O7AUDcBwhJq7wBQKsalAP5uwFAL9JVv/C/AUDxoedQDb8BQFDPMqsEwAFAaTU5V9C8AUB4L3EVDb0BQKsUn3AFvQFA7NKyA6O+AUCi5Aeynr4BQK54SUymugFAb0RPmQS5AUAev0xyrrkBQK7U9xlXvAFATpQp+hm7AUBXzHr+r7oBQHX/PJUBugFAqcp0EQm5AUAQ5Ucdn7wBQB4OmCRLugFA9/0vnNW4AUD04XihsLsBQID5dOJ4uwFA4kKzrFq7AUD9JkKrILwBQBrs/Q0+uwFA+sU345e6AUCc79J5WLwBQOXHgWl5uwFAnZ2/2he6AUCtuOKZ+rkBQJb/TqE3uQFA6M23bzK5AUCODZl7crcBQFsLcxL5tQFA5dKg6rizAUC1m5u0m7IBQOWWdaT7swFAvWDE0ga0AUBnjIz+aLYBQL2t2uY7ugFA69t4QbS9AUB1XkM8mbsBQNspIBSZuwFAI6IOxtO8AUAMvWCWo7wBQIYdj7LLuQFAwJLtUIO4AUBBBmqxqrcBQBAimKh1tgFAVkG0tEu2AUB+FUNbLrYBQAXhH9KWtQFAQTyKUbC3AUBuE9DrB7YBQFDLlzBxtAFAYFuCXoqyAUADn20aX7EBQCapvH73sAFAVo6V+BuyAUASzNI4M7IBQMjLBbh/sQFAJpPka0+xAUD267ORWLIBQE1u+CtjsQFAtD0qHjizAUAYOHPFKrUBQDQFgKxetQFAoWuMGvC2AUCMddr+fLUBQE05DeQitgFAr+hvNAa4AUCeY88UKbcBQBZrwMcTtAFAa4XjM9C2AUDu6tMF8rUBQOzfBtLxswFAHvhQLfmyAUANrJijurEBQEWkMBpLsAFA/qeBvsywAUBQ5CrSk7ABQFS179zDsQFAINZjaNOvAUB/nmDQc7ABQBWZwEw3sAFA/dSIUjqvAUDdHDq77LIBQIngzAiNsQFASm9r5cGyAUCFtF/JX7EBQIssjvhBswFAXe/03VmxAUD+IVDH57EBQM2bj1bjsAFAMvuK7FOyAUC1ZyNMdLMBQA9TZMCKsgFA2vLcD1GvAUD5NmIQWLEBQLbJVr8ssQFA3v1TXk6yAUAYux+2PbEBQFrdw2DVrwFAf1HWY/muAUDBh1M3l60BQO6jirXZrAFAR3Wv77qsAUDWm+Ole64BQIgSFjI6rgFAkgrLWtGvAUDHn0gFerEBQDTkuRgRsAFAs5mKS/OtAUDaQQrnU60BQB8HbXrXrwFA/XInLHOxAUCw6h2XabABQCA1JW8VrwFAy/kC2oivAUBGd1U+BLMBQPNa527HswFABcx8kM+0AUDbQGhek7MBQOnD4EtvtgFA9MwCnBazAUCpEW5FFLYBQOgp/3w2tgFA72HFEte0AUAsPqZhQ7YBQDzRXpq1twFAJePfpE23AUDFy1z5BbkBQB+s1WHktwFAtqZKcnG4AUCYTorsy7cBQIau4MMptQFAWDXyqXC1AUCQ8Rt5drUBQOqWTPgutAFAJw4IiE61AUDQcJziaLUBQLGNPNnNsgFAYNMhr3GyAUAoF4xL7rMBQDQm2mDhrwFAHWf8JVGwAUCGpYDcV64BQKoTz8KFrQFAkoZMlRCtAUBzJ612ca0BQMSZyDBKrQFA8HMMynOuAUCwusHqrK8BQCnmaOo/rwFA2kFd82SvAUA9J/e5rrEBQIImzo4itgFAHyVc79+0AUAEoCeY27YBQP5gR/RdtgFAf0ULYTa6AUAN4Ok9LrkBQL0S2llHugFAxGQ+gMm6AUDQgsDQor0BQCJuPlFBvgFARBjy2FLBAUACDwN0v74BQMqz+oYBwAFAMHRNeA7AAUDJmd8CwcABQGzn6MYCwQFAG6bprWzAAUBTLSRjKMMBQCB28X8/wgFAhlmftfrBAUD/4k/hisEBQMuAExvcwAFAMDJdf7O+AUDeF/fR878BQCmb3gC4vgFAtmS23K7AAUBzozRpJb8BQFemCS05vQFAoxQB+S6+AUAw+77J8r0BQJXi+ro6vgFA6m+HhyW+AUC7Oijjmr0BQGuLmlSzvQFAvAJkQkK8AUCd4cPwVbwBQES5YlVTuwFAzcNGxye7AUDFpOni0rwBQFMb4kTVvAFA7QnCRbu8AUABt3niILwBQJD7Ox3IwAFAdTXfrte+AUCnEhrlL70BQGt9IeuXvQFAngWUxEy4AUB7R7AsfbcBQLFVopeJtwFAs2vnt2q3AUC9mXQB5bUBQD2EJjnItAFA838Mb7mzAUColPvbeLYBQDP7A7mptQFAwIe5qPy1AUCNi7NQ47EBQPpEvqJrsQFAn9+vg4ivAUDtCQWyq60BQGQiDaVQrgFAQt+xft2wAUCYx0APQbQBQI5NsswVtQFAa7ZRjcu1AUBiySU1IbsBQCaqh9bavQFAtyj/G2O4AUDpNyD8ybcBQHfCceJltQFAzi/RUJC1AUD6BB1rDLYBQIC6sMi/tgFAxbyBS025AUCq16Yb3bQBQNYzmVXxtwFAZxnv1Uu5AUCYOUIWbLcBQGXMFkfhuAFABIwFbCS7AUDU0dMRzbsBQAiqghk9vAFAC5QCA3W9AUAkCzSMvL0BQI4jS5urvQFAnOgO7/C+AUBX6f3bZLsBQFcTYUTDuAFAdArBdAu4AUB5dU9bcrgBQOA3lz9yuAFAe8I/9Ji7AUCoipgTnbsBQHKOUZ5WvAFA0Gg+Wl27AUAL2QoOtLoBQFscforsuAFANDQfaS22AUBcjYk/qrYBQB7TW1nftQFALkgGSAW2AUD+ydzqJ7kBQMsNYoaftwFA/6FWCwe4AUBBjCoxTrcBQDV3UkfttQFAG2vD/OG2AUDXLf+g3bUBQHSPas95tAFAgUDrDsu0AUACkYAQM7YBQL85tmfktQFAXifqlcy2AUDG2+pLqrYBQNt5qY9SugFAHDyLeyq4AUBsQpdYd7UBQNNx1PibswFAFiwgu7WyAUCa6DfZ87MBQJ7xkN33swFAxKcY7A62AUC2Dd6QYrYBQK+6Mey5tQFAqrSC4oO2AUA5O3bDnbYBQHjeQMA/tAFAYzoNWl6zAUAMaoDi8LEBQGZ/Y4H1sQFAnMVPgCGxAUAC2OHS2rEBQMrIwWGItwFAy7Fglx+3AUCKm36yIbcBQHVUtEuGtgFAms3Xu/e1AUCMGdm3CbYBQNJ7XkB3tQFATmc6PDyyAUBjEWreKLEBQCZbPZcjrwFAE9QJCIisAUDSH30+RrABQB5pw0U7sAFAw4ZqwCWxAUCcSC0ZYbEBQMlWPLTSsgFA/FP4X/avAUCZmxnkMq8BQHszxn2AsAFAHVvxwP2xAUDBqkxtfLIBQFDnINW8tAFAE8fdAeS0AUCWflKydrIBQLthgcpJswFAKLFscnCyAUA/5T9f/rABQOL+4hLmsQFAZ+7jJRSxAUC/B6vkQbIBQJBJvit1tAFABqKnVH+xAUCStZFGza8BQM8SzxSTrAFAyWTIqHqrAUBo3X8oGawBQKZiECPXqgFAuWdBrFWsAUA3vw3yuqsBQNvyoZZ+qgFAxOJBQa+sAUAADWkn164BQHupZS66rAFAoRc59yuwAUBiJ9QBg64BQE7sQDGjrgFAZbvb1WOuAUDexVgblq4BQNYqXnd/qgFAvlIhB5yqAUBMN/8pwqoBQAAlnAc7qgFAOdFtCYGpAUAF/EDNiqYBQNOxeGEIpwFAODABdFGoAUBPw3SWnacBQJcPs5QQpwFAP7RaHv6jAUCPMgWy36MBQP5ysln9pQFAi3fFtSymAUADvlMdiqcBQNqWgqBtqgFAiMMKssKqAUAI9zsqeqsBQK1ipYG8qwFAPFfJh/qpAUAAp/yV06gBQCnTPjTEqAFAxXnyHq6pAUAqwE1pEKoBQDrCWxQ+qAFAo3Htek6mAUDHp2GEF6UBQLgNkE6spgFAV08osLylAUDITFAlVKYBQAQh+/+NpwFAuTi5t2mmAUDcFQ76nKgBQLRGoma7qAFAbESECfimAUBHhJBUvKgBQFXKScBMpwFA3gW7LhynAUA6N5y5O6gBQEFvn9OHqQFA3DE3GqGnAUBhtF75CacBQPI6rhxCpgFAoItmcIqkAUAwyZRme6UBQFA2d2nxpQFAyRtrcQ+mAUCa8ZBncqUBQKVEjO7PoQFA6jFWtiyjAUA+7mOuo6MBQLBqN3dGowFA3NocCwCkAUBZBX9CiKQBQE6J7pJ5pAFAU1PWouqkAUCK7d9mUqQBQPEnp8b1ogFApyYuPpqjAUDb81XhiqIBQD/0a4WmpAFALSYegUaiAUDqA3itS6MBQGZ3vgM/ogFASmsbczGjAUDciBrGh6EBQEjf3wTMnwFAwo11vG6fAUAOBXp5FZ8BQBbLTK2doQFABbTWK6yiAUDbQr8UWp4BQLNAXt17nwFAroCEXxigAUBOlevLQ58BQKY1y5MAngFAmenMpxueAUDfGwBWM50BQL8zY7jimgFAZ3xP7kKbAUBbV/rxOpsBQIEzsDrlmQFAQ98VIiWbAUDOz6k2kJgBQH1VpCwdmQFAms63m4KYAUDHIrpXoZ0BQKchtC4UngFABe8hywOeAUCiMYxDVZ4BQL0G8xN0ngFASx+pPomdAUC0yycN5p8BQEtqw21rnQFAONKTdZCdAUA25Ok1Mp0BQPtgA88NnQFAd9E0xIOcAUCliODdu5sBQPp7nzPRmwFANF+7qgqdAUB8x4MOyZ0BQB0DbxrznAFATixjE6ydAUDXCaLupJwBQFRDa/bgmwFAk+7rfKGdAUD6ScNUw5oBQNlPB3LGmQFAZtH+IvqXAUD/NWrz4poBQIM8NaAZmgFAud+erS2ZAUCK+YD36ZsBQGWOdK2DmwFAnMNPVnuYAUBEnPrhH5cBQKVE6oE9mAFAC7bi4iOYAUBMNBXsj5gBQP+++5QomAFAGMF3uauXAUCs9LWaf5gBQCp5PMalmQFAAG3Xn2+YAUD4WEwuJpgBQMcL7zCylwFA0bhzEhKYAUChy6nru5UBQHtyKIcLlQFAsAvEoSWUAUA3qHs675IBQCUOBGaAlQFAbgVn2MGVAUDNNnRyUJYBQIxFqmvtlAFAqK5BSkuXAUAGqaIAGJYBQFm85wmHlgFA0ud0RfqVAUB5ZHmr15QBQAqb+WYYlQFAXeA7Vv+UAUBawHMTuJYBQFiAX2TalgFAA7aFLT6XAUDBI3mZxpMBQIG/hdSrkwFApgPUksWSAUD80WH3Y5QBQML8qBcLkwFA3fxxyHWVAUDNV48UBJQBQAiXBvjGlAFAMbNQma6XAUBIKZBaS5gBQNvEk7XEmQFAqmMb/JiZAUCdBSva/5kBQEVgIRM8nAFAXCN78UadAUBIZF4fbZwBQNJ5324onAFAYGVc7YScAUCfcnqeKZsBQHB/dnzbmQFAx0nmhuuYAUDqV85qfJkBQGefhYwllwFApibcg6+VAUCZ61AWxJUBQFtPTkyQlQFAYJ+mA/CVAUDQ7FY9k5cBQKCzpqTFmAFAODo+PHyYAUAuk6el65cBQFYrokpClQFAt0LnPbuTAUA21QDfAJUBQD1rdCwilQFAhV9HEw+TAUAFr7gUn5QBQFiI7O8QlQFA+6Tc3TeTAUAcbnJuAZMBQDP/dt1ekAFAABgx8sSQAUClxDcFdpABQH+EZ7AYjwFAMF8q2UyPAUDTMu/qA4wBQMykjEnQjAFA1gpGiliQAUAafhovvI8BQL9Qz3RdkgFAd5inBLOUAUDvH2AAyJcBQBDEVB8hlgFAnDkY93GVAUD6Hs3k75MBQI9whAA3lQFAHzOhZGuVAUCJc2qCLZMBQL8tDNm2lQFAhzS5Z+iTAUBypmDkO5QBQMl3G0C2kwFA0xAKXmmTAUCrnIXrMJEBQNd+R89zlQFAEsWXSGGaAUCmfAYfn5gBQGeRL6M0mQFAXCGR8luZAUAvvbXphJgBQDY7GyDclwFAPfeN7nyWAUD5xRWOjpgBQKcB01OPmQFAqkMOLzmbAUBKe8N0RpsBQEhWYr0EmgFABGRGVxScAUDKYExvNJwBQJL6i8aXmgFAdNHyedKcAUDLLbFrUZ8BQBdF5Z1woQFA/sZ6zlqiAUA4VYd+06ABQP1iMFJHnwFAR08ewmadAUAk+rGWt5sBQCM0i4hqmgFAlraGcAWaAUAeXoKgA5oBQE5C4YxYmQFAU+V2jF+YAUBhrObG/ZoBQANtpWUemAFALB/BThqYAUABeQ2H1JkBQDLYRjUalwFAQfLQ2yqYAUA/JIhOdZkBQBxElJ5OmgFAXRDippSbAUDN7n/hRJsBQEKMc8FHogFAcV6hSMmhAUDZKZyQkKEBQIAouCTLoAFAAGFXXQSfAUC+2X1/HaABQJdOiqCkoAFAevkJkSufAUB/MzsIV58BQA8ZczdrnQFAo6R3r3edAUARl61lMJ0BQHOaGzk3nAFAXzIK0C2bAUDHUdi5eJsBQHeZ2ZMFmgFApRjjqISZAUAkQcuuFZwBQG3LJ6lYnAFAm7wNL4KaAUAiKomtdZ0BQCm1YxZ+nQFApPlPaqidAUAKwLhBv58BQPo9gTy9ngFAA12mXaWfAUAs/6A6hZ8BQJ6sFyQFoAFAX/E3DDuhAUAqPJmk2aIBQM6MnMknpAFAIgSodJChAUBrsQX1w58BQOuSR7IboQFAsZ6wESChAUCbuuSJa58BQCoHk2nunAFA+CcKQrKdAUCuJlQt850BQKDrQFiOnQFAJ2iR2oCcAUDDQ76aQ5sBQKSDRMZbnAFA6Y9Kje+eAUDqHyfWVp0BQGcvcDXLnQFAEfT4mwydAUAhqug1d5wBQP8Pfv5xmgFA/x/+LI+aAUA5J911dZoBQN3CzanemQFAKA+FqquYAUDtFss9fZsBQMyJxHrBmgFAk2ylUY2ZAUCXeSx085oBQMTYZA+5mwFAY0UX9fiZAUDcGWkUKZoBQLPOyJQLmgFAGQqZAzKbAUAA8e7xUpwBQCmnlJhnnQFApB2YcXWfAUACZ1mbRZ8BQLiEVtY6oAFAYD5k7omeAUDhTIrBzp4BQJgQbR/dnAFAYlqjhbyeAUCAeCqcnJ4BQO++vSoenQFArVWOz8mcAUB+pSYSVZ0BQOWX63wTngFAnAYFXcycAUDQs18F8pkBQDR0t3VUlgFAv5nz8r+UAUDi99JhJZYBQOsQafZ7lgFA0t4rZRCWAUAex3TzGpkBQID6T4J0lwFAfDSHa6qXAUDrtv7FNJcBQOtNMBLqlgFAmRF5zSWWAUBrnUOUspcBQEZW3puAmQFAdjL4uieaAUDF7ueTZp0BQLd7AQvYmgFAmfMRGEKaAUDnkNfoxpkBQOhBZcN0lwFAp7tZRVqYAUBPjC3F65gBQBvSIwlMlgFA2NvoqrWVAUBWJxvcMZYBQPChhSXnlQFAZFKBitSXAUDUsq56ppkBQNbFf2+umAFAfeBiW1CZAUAmdng5YZgBQIAXhdR+mgFAUmn0dm2aAUBwdqpk7JoBQCKD1q5mmQFApXZLDCSXAUBFQTD15pgBQCIe3L8amQFA+FYfaNyZAUDgKnm7B5gBQApb2MKSlgFAdsNddrGXAUD/F8aZjZYBQNaKGp7nkwFAU2XwNliSAUBpzY2hx5IBQLmEsmeSlAFAeqEofhSYAUDa7pqqUZYBQB7G8P8NlgFABOmF8kKXAUChZbuLu5cBQKys///DlwFA+SLOGU6WAUA=",
          "dtype": "f8"
         },
         "yaxis": "y2"
        },
        {
         "hovertemplate": "variable=batch_accuracy<br>step=%{x}<br>value=%{y}<extra></extra>",
         "legendgroup": "",
         "marker": {
          "color": "#636efa",
          "symbol": "circle"
         },
         "mode": "markers",
         "name": "",
         "showlegend": false,
         "type": "scattergl",
         "x": {
          "bdata": "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",
          "dtype": "i2"
         },
         "xaxis": "x",
         "y": {
          "bdata": "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",
          "dtype": "f8"
         },
         "yaxis": "y"
        },
        {
         "hovertemplate": "<b>Exponentially Weighted mean trendline</b><br><br>variable=batch_accuracy<br>step=%{x}<br>value=%{y} <b>(trend)</b><extra></extra>",
         "legendgroup": "",
         "line": {
          "color": "red"
         },
         "marker": {
          "color": "#636efa",
          "symbol": "circle"
         },
         "mode": "lines",
         "name": "",
         "showlegend": false,
         "type": "scattergl",
         "x": {
          "bdata": "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",
          "dtype": "i2"
         },
         "xaxis": "x",
         "y": {
          "bdata": "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",
          "dtype": "f8"
         },
         "yaxis": "y"
        }
       ],
       "layout": {
        "annotations": [
         {
          "font": {},
          "showarrow": false,
          "text": "variable=batch_accuracy",
          "textangle": 90,
          "x": 0.98,
          "xanchor": "left",
          "xref": "paper",
          "y": 0.2425,
          "yanchor": "middle",
          "yref": "paper"
         },
         {
          "font": {},
          "showarrow": false,
          "text": "variable=batch_train_loss",
          "textangle": 90,
          "x": 0.98,
          "xanchor": "left",
          "xref": "paper",
          "y": 0.7575000000000001,
          "yanchor": "middle",
          "yref": "paper"
         }
        ],
        "legend": {
         "tracegroupgap": 0
        },
        "template": {
         "data": {
          "bar": [
           {
            "error_x": {
             "color": "#2a3f5f"
            },
            "error_y": {
             "color": "#2a3f5f"
            },
            "marker": {
             "line": {
              "color": "#E5ECF6",
              "width": 0.5
             },
             "pattern": {
              "fillmode": "overlay",
              "size": 10,
              "solidity": 0.2
             }
            },
            "type": "bar"
           }
          ],
          "barpolar": [
           {
            "marker": {
             "line": {
              "color": "#E5ECF6",
              "width": 0.5
             },
             "pattern": {
              "fillmode": "overlay",
              "size": 10,
              "solidity": 0.2
             }
            },
            "type": "barpolar"
           }
          ],
          "carpet": [
           {
            "aaxis": {
             "endlinecolor": "#2a3f5f",
             "gridcolor": "white",
             "linecolor": "white",
             "minorgridcolor": "white",
             "startlinecolor": "#2a3f5f"
            },
            "baxis": {
             "endlinecolor": "#2a3f5f",
             "gridcolor": "white",
             "linecolor": "white",
             "minorgridcolor": "white",
             "startlinecolor": "#2a3f5f"
            },
            "type": "carpet"
           }
          ],
          "choropleth": [
           {
            "colorbar": {
             "outlinewidth": 0,
             "ticks": ""
            },
            "type": "choropleth"
           }
          ],
          "contour": [
           {
            "colorbar": {
             "outlinewidth": 0,
             "ticks": ""
            },
            "colorscale": [
             [
              0,
              "#0d0887"
             ],
             [
              0.1111111111111111,
              "#46039f"
             ],
             [
              0.2222222222222222,
              "#7201a8"
             ],
             [
              0.3333333333333333,
              "#9c179e"
             ],
             [
              0.4444444444444444,
              "#bd3786"
             ],
             [
              0.5555555555555556,
              "#d8576b"
             ],
             [
              0.6666666666666666,
              "#ed7953"
             ],
             [
              0.7777777777777778,
              "#fb9f3a"
             ],
             [
              0.8888888888888888,
              "#fdca26"
             ],
             [
              1,
              "#f0f921"
             ]
            ],
            "type": "contour"
           }
          ],
          "contourcarpet": [
           {
            "colorbar": {
             "outlinewidth": 0,
             "ticks": ""
            },
            "type": "contourcarpet"
           }
          ],
          "heatmap": [
           {
            "colorbar": {
             "outlinewidth": 0,
             "ticks": ""
            },
            "colorscale": [
             [
              0,
              "#0d0887"
             ],
             [
              0.1111111111111111,
              "#46039f"
             ],
             [
              0.2222222222222222,
              "#7201a8"
             ],
             [
              0.3333333333333333,
              "#9c179e"
             ],
             [
              0.4444444444444444,
              "#bd3786"
             ],
             [
              0.5555555555555556,
              "#d8576b"
             ],
             [
              0.6666666666666666,
              "#ed7953"
             ],
             [
              0.7777777777777778,
              "#fb9f3a"
             ],
             [
              0.8888888888888888,
              "#fdca26"
             ],
             [
              1,
              "#f0f921"
             ]
            ],
            "type": "heatmap"
           }
          ],
          "histogram": [
           {
            "marker": {
             "pattern": {
              "fillmode": "overlay",
              "size": 10,
              "solidity": 0.2
             }
            },
            "type": "histogram"
           }
          ],
          "histogram2d": [
           {
            "colorbar": {
             "outlinewidth": 0,
             "ticks": ""
            },
            "colorscale": [
             [
              0,
              "#0d0887"
             ],
             [
              0.1111111111111111,
              "#46039f"
             ],
             [
              0.2222222222222222,
              "#7201a8"
             ],
             [
              0.3333333333333333,
              "#9c179e"
             ],
             [
              0.4444444444444444,
              "#bd3786"
             ],
             [
              0.5555555555555556,
              "#d8576b"
             ],
             [
              0.6666666666666666,
              "#ed7953"
             ],
             [
              0.7777777777777778,
              "#fb9f3a"
             ],
             [
              0.8888888888888888,
              "#fdca26"
             ],
             [
              1,
              "#f0f921"
             ]
            ],
            "type": "histogram2d"
           }
          ],
          "histogram2dcontour": [
           {
            "colorbar": {
             "outlinewidth": 0,
             "ticks": ""
            },
            "colorscale": [
             [
              0,
              "#0d0887"
             ],
             [
              0.1111111111111111,
              "#46039f"
             ],
             [
              0.2222222222222222,
              "#7201a8"
             ],
             [
              0.3333333333333333,
              "#9c179e"
             ],
             [
              0.4444444444444444,
              "#bd3786"
             ],
             [
              0.5555555555555556,
              "#d8576b"
             ],
             [
              0.6666666666666666,
              "#ed7953"
             ],
             [
              0.7777777777777778,
              "#fb9f3a"
             ],
             [
              0.8888888888888888,
              "#fdca26"
             ],
             [
              1,
              "#f0f921"
             ]
            ],
            "type": "histogram2dcontour"
           }
          ],
          "mesh3d": [
           {
            "colorbar": {
             "outlinewidth": 0,
             "ticks": ""
            },
            "type": "mesh3d"
           }
          ],
          "parcoords": [
           {
            "line": {
             "colorbar": {
              "outlinewidth": 0,
              "ticks": ""
             }
            },
            "type": "parcoords"
           }
          ],
          "pie": [
           {
            "automargin": true,
            "type": "pie"
           }
          ],
          "scatter": [
           {
            "fillpattern": {
             "fillmode": "overlay",
             "size": 10,
             "solidity": 0.2
            },
            "type": "scatter"
           }
          ],
          "scatter3d": [
           {
            "line": {
             "colorbar": {
              "outlinewidth": 0,
              "ticks": ""
             }
            },
            "marker": {
             "colorbar": {
              "outlinewidth": 0,
              "ticks": ""
             }
            },
            "type": "scatter3d"
           }
          ],
          "scattercarpet": [
           {
            "marker": {
             "colorbar": {
              "outlinewidth": 0,
              "ticks": ""
             }
            },
            "type": "scattercarpet"
           }
          ],
          "scattergeo": [
           {
            "marker": {
             "colorbar": {
              "outlinewidth": 0,
              "ticks": ""
             }
            },
            "type": "scattergeo"
           }
          ],
          "scattergl": [
           {
            "marker": {
             "colorbar": {
              "outlinewidth": 0,
              "ticks": ""
             }
            },
            "type": "scattergl"
           }
          ],
          "scattermap": [
           {
            "marker": {
             "colorbar": {
              "outlinewidth": 0,
              "ticks": ""
             }
            },
            "type": "scattermap"
           }
          ],
          "scattermapbox": [
           {
            "marker": {
             "colorbar": {
              "outlinewidth": 0,
              "ticks": ""
             }
            },
            "type": "scattermapbox"
           }
          ],
          "scatterpolar": [
           {
            "marker": {
             "colorbar": {
              "outlinewidth": 0,
              "ticks": ""
             }
            },
            "type": "scatterpolar"
           }
          ],
          "scatterpolargl": [
           {
            "marker": {
             "colorbar": {
              "outlinewidth": 0,
              "ticks": ""
             }
            },
            "type": "scatterpolargl"
           }
          ],
          "scatterternary": [
           {
            "marker": {
             "colorbar": {
              "outlinewidth": 0,
              "ticks": ""
             }
            },
            "type": "scatterternary"
           }
          ],
          "surface": [
           {
            "colorbar": {
             "outlinewidth": 0,
             "ticks": ""
            },
            "colorscale": [
             [
              0,
              "#0d0887"
             ],
             [
              0.1111111111111111,
              "#46039f"
             ],
             [
              0.2222222222222222,
              "#7201a8"
             ],
             [
              0.3333333333333333,
              "#9c179e"
             ],
             [
              0.4444444444444444,
              "#bd3786"
             ],
             [
              0.5555555555555556,
              "#d8576b"
             ],
             [
              0.6666666666666666,
              "#ed7953"
             ],
             [
              0.7777777777777778,
              "#fb9f3a"
             ],
             [
              0.8888888888888888,
              "#fdca26"
             ],
             [
              1,
              "#f0f921"
             ]
            ],
            "type": "surface"
           }
          ],
          "table": [
           {
            "cells": {
             "fill": {
              "color": "#EBF0F8"
             },
             "line": {
              "color": "white"
             }
            },
            "header": {
             "fill": {
              "color": "#C8D4E3"
             },
             "line": {
              "color": "white"
             }
            },
            "type": "table"
           }
          ]
         },
         "layout": {
          "annotationdefaults": {
           "arrowcolor": "#2a3f5f",
           "arrowhead": 0,
           "arrowwidth": 1
          },
          "autotypenumbers": "strict",
          "coloraxis": {
           "colorbar": {
            "outlinewidth": 0,
            "ticks": ""
           }
          },
          "colorscale": {
           "diverging": [
            [
             0,
             "#8e0152"
            ],
            [
             0.1,
             "#c51b7d"
            ],
            [
             0.2,
             "#de77ae"
            ],
            [
             0.3,
             "#f1b6da"
            ],
            [
             0.4,
             "#fde0ef"
            ],
            [
             0.5,
             "#f7f7f7"
            ],
            [
             0.6,
             "#e6f5d0"
            ],
            [
             0.7,
             "#b8e186"
            ],
            [
             0.8,
             "#7fbc41"
            ],
            [
             0.9,
             "#4d9221"
            ],
            [
             1,
             "#276419"
            ]
           ],
           "sequential": [
            [
             0,
             "#0d0887"
            ],
            [
             0.1111111111111111,
             "#46039f"
            ],
            [
             0.2222222222222222,
             "#7201a8"
            ],
            [
             0.3333333333333333,
             "#9c179e"
            ],
            [
             0.4444444444444444,
             "#bd3786"
            ],
            [
             0.5555555555555556,
             "#d8576b"
            ],
            [
             0.6666666666666666,
             "#ed7953"
            ],
            [
             0.7777777777777778,
             "#fb9f3a"
            ],
            [
             0.8888888888888888,
             "#fdca26"
            ],
            [
             1,
             "#f0f921"
            ]
           ],
           "sequentialminus": [
            [
             0,
             "#0d0887"
            ],
            [
             0.1111111111111111,
             "#46039f"
            ],
            [
             0.2222222222222222,
             "#7201a8"
            ],
            [
             0.3333333333333333,
             "#9c179e"
            ],
            [
             0.4444444444444444,
             "#bd3786"
            ],
            [
             0.5555555555555556,
             "#d8576b"
            ],
            [
             0.6666666666666666,
             "#ed7953"
            ],
            [
             0.7777777777777778,
             "#fb9f3a"
            ],
            [
             0.8888888888888888,
             "#fdca26"
            ],
            [
             1,
             "#f0f921"
            ]
           ]
          },
          "colorway": [
           "#636efa",
           "#EF553B",
           "#00cc96",
           "#ab63fa",
           "#FFA15A",
           "#19d3f3",
           "#FF6692",
           "#B6E880",
           "#FF97FF",
           "#FECB52"
          ],
          "font": {
           "color": "#2a3f5f"
          },
          "geo": {
           "bgcolor": "white",
           "lakecolor": "white",
           "landcolor": "#E5ECF6",
           "showlakes": true,
           "showland": true,
           "subunitcolor": "white"
          },
          "hoverlabel": {
           "align": "left"
          },
          "hovermode": "closest",
          "mapbox": {
           "style": "light"
          },
          "paper_bgcolor": "white",
          "plot_bgcolor": "#E5ECF6",
          "polar": {
           "angularaxis": {
            "gridcolor": "white",
            "linecolor": "white",
            "ticks": ""
           },
           "bgcolor": "#E5ECF6",
           "radialaxis": {
            "gridcolor": "white",
            "linecolor": "white",
            "ticks": ""
           }
          },
          "scene": {
           "xaxis": {
            "backgroundcolor": "#E5ECF6",
            "gridcolor": "white",
            "gridwidth": 2,
            "linecolor": "white",
            "showbackground": true,
            "ticks": "",
            "zerolinecolor": "white"
           },
           "yaxis": {
            "backgroundcolor": "#E5ECF6",
            "gridcolor": "white",
            "gridwidth": 2,
            "linecolor": "white",
            "showbackground": true,
            "ticks": "",
            "zerolinecolor": "white"
           },
           "zaxis": {
            "backgroundcolor": "#E5ECF6",
            "gridcolor": "white",
            "gridwidth": 2,
            "linecolor": "white",
            "showbackground": true,
            "ticks": "",
            "zerolinecolor": "white"
           }
          },
          "shapedefaults": {
           "line": {
            "color": "#2a3f5f"
           }
          },
          "ternary": {
           "aaxis": {
            "gridcolor": "white",
            "linecolor": "white",
            "ticks": ""
           },
           "baxis": {
            "gridcolor": "white",
            "linecolor": "white",
            "ticks": ""
           },
           "bgcolor": "#E5ECF6",
           "caxis": {
            "gridcolor": "white",
            "linecolor": "white",
            "ticks": ""
           }
          },
          "title": {
           "x": 0.05
          },
          "xaxis": {
           "automargin": true,
           "gridcolor": "white",
           "linecolor": "white",
           "ticks": "",
           "title": {
            "standoff": 15
           },
           "zerolinecolor": "white",
           "zerolinewidth": 2
          },
          "yaxis": {
           "automargin": true,
           "gridcolor": "white",
           "linecolor": "white",
           "ticks": "",
           "title": {
            "standoff": 15
           },
           "zerolinecolor": "white",
           "zerolinewidth": 2
          }
         }
        },
        "title": {
         "text": "batch metrics"
        },
        "xaxis": {
         "anchor": "y",
         "domain": [
          0,
          0.98
         ],
         "title": {
          "text": "step"
         }
        },
        "xaxis2": {
         "anchor": "y2",
         "domain": [
          0,
          0.98
         ],
         "matches": "x",
         "showticklabels": false
        },
        "yaxis": {
         "anchor": "x",
         "domain": [
          0,
          0.485
         ],
         "title": {
          "text": "value"
         }
        },
        "yaxis2": {
         "anchor": "x2",
         "domain": [
          0.515,
          1
         ],
         "title": {
          "text": "value"
         }
        }
       }
      }
     },
     "metadata": {},
     "output_type": "display_data"
    },
    {
     "data": {
      "application/vnd.plotly.v1+json": {
       "config": {
        "plotlyServerURL": "https://plot.ly"
       },
       "data": [
        {
         "hovertemplate": "variable=train_epoch_loss<br>step=%{x}<br>value=%{y}<extra></extra>",
         "legendgroup": "train_epoch_loss",
         "line": {
          "color": "#636efa",
          "dash": "solid"
         },
         "marker": {
          "symbol": "circle"
         },
         "mode": "lines",
         "name": "train_epoch_loss",
         "orientation": "v",
         "showlegend": true,
         "type": "scatter",
         "x": {
          "bdata": "GQAzAE0AZwCBAJsAtQDPAOkAAwEdATcBUQFrAYUBnwG5AdMB7QEHAiECOwJVAm8CiQKjAr0C1wLxAgsDJQM/A1kDcwONA6cDwQPbA/UDDwQpBEMEXQR3BJEEqwTFBN8E+QQTBQ==",
          "dtype": "i2"
         },
         "xaxis": "x4",
         "y": {
          "bdata": "2YmdqDrtAkCxEztRMqUCQJ7YiV3SdgJAsRM7sQpfAkB2Yie2PzYCQE/sxA6BHAJAdmInViUZAkAAAABQeQoCQDuxE+vY/gFAdmInBj30AUDZiZ1Id+cBQBQ7sdOY2wFAT+zEDlrUAUCxEztBbtABQCd2Yrc0xgFAip3YuXm9AUA7sRM77b8BQOzETqwXzAFAsRM7kTXOAUAAAADgjMMBQMVO7NRDvwFA7MROXKS4AUB2YieGKLoBQIqd2AkauAFA2Ymd6B6wAUDFTuwUtq4BQCd2YldorQFAFDuxU9K6AUBiJ3YSfsMBQIqd2MkpuwFAsRM7Mau0AUDZiZ2YH7oBQDuxE0szrgFAFDux4w6wAUB2YifmLawBQGInduLppwFAntiJTU2kAUDsxE7c0JoBQBQ7sWMOmwFAFDux842VAUB2Yie285QBQLETOzHjlQFAYid2cs+VAUCKndjZ4psBQLETOwHmogFAxU7sNL6aAUCKndipD5YBQOzETsyzmQFAT+zE/r+bAUAAAADwn5MBQA==",
          "dtype": "f8"
         },
         "yaxis": "y4"
        },
        {
         "hovertemplate": "variable=train_epoch_accuracy<br>step=%{x}<br>value=%{y}<extra></extra>",
         "legendgroup": "train_epoch_accuracy",
         "line": {
          "color": "#EF553B",
          "dash": "solid"
         },
         "marker": {
          "symbol": "circle"
         },
         "mode": "lines",
         "name": "train_epoch_accuracy",
         "orientation": "v",
         "showlegend": true,
         "type": "scatter",
         "x": {
          "bdata": "GQAzAE0AZwCBAJsAtQDPAOkAAwEdATcBUQFrAYUBnwG5AdMB7QEHAiECOwJVAm8CiQKjAr0C1wLxAgsDJQM/A1kDcwONA6cDwQPbA/UDDwQpBEMEXQR3BJEEqwTFBN8E+QQTBQ==",
          "dtype": "i2"
         },
         "xaxis": "x3",
         "y": {
          "bdata": "/14t4NnR4z8ggjYWqwLlP45pMsCcteU/98kur+gT5j8XNUecIMnmPwTMWTb/LOc/PwciaGMx5z/3yS6v6GPnPwQo0trLkuc/FwcLSjq+5z/kvLntk+3nP2x0ZdyxH+g/u7yiz2o66D/iBMmk+kHoP1ln8Bpdaeg/UrgeheuB6D/bJ7u8on/oP69e/6OHS+g/UuZa19FM6D/2ET5mT3joPxGGdQavgeg/yRpG+02Z6D8W2c73U5PoPz/Z5RV9lug/z/dT46W76D9ll1f0Wb3oPwpN73mKueg/hrpgKiuO6D9SuB6F63HoPzHxjfPmlug/vBgbdDew6D/W1GHL/Z3oPyrmQ7moyeg/RYi3q+696D9yf68W8LzoPwT6lYjl1+g/jDv2bbbq6D/bJ7u8ov/oP1cLeHaQA+k/z8kXkb8Q6T/87ktOpxrpPx6IoI3FGuk/yUiCTTQU6T+GumAqK/7oP2DOsvln7Og/UYriMgUH6T/VSq3USh3pP0SiihBvB+k/N86b2z4J6T8q5kO5qCnpPw==",
          "dtype": "f8"
         },
         "yaxis": "y3"
        },
        {
         "hovertemplate": "variable=validation_loss<br>step=%{x}<br>value=%{y}<extra></extra>",
         "legendgroup": "validation_loss",
         "line": {
          "color": "#00cc96",
          "dash": "solid"
         },
         "marker": {
          "symbol": "circle"
         },
         "mode": "lines",
         "name": "validation_loss",
         "orientation": "v",
         "showlegend": true,
         "type": "scatter",
         "x": {
          "bdata": "GQAzAE0AZwCBAJsAtQDPAOkAAwEdATcBUQFrAYUBnwG5AdMB7QEHAiECOwJVAm8CiQKjAr0C1wLxAgsDJQM/A1kDcwONA6cDwQPbA/UDDwQpBEMEXQR3BJEEqwTFBN8E+QQTBQ==",
          "dtype": "i2"
         },
         "xaxis": "x2",
         "y": {
          "bdata": "SZIkabLBAkC3bdvW1b4CQJIkSZJOrgJAbtu2bTPJAkC3bdvW55cCQCVJkgRNjQJA27ZtW8SsAkAlSZKEY78CQEmSJOnMowJA27Zt+9C1AkCSJEmSz7ACQG7btg3i2QJAAAAAABPNAkCSJEkyXbECQG7btk1qugJAt23bFpCxAkAAAABA7+ACQEmSJAk06AJAJUmSpDPpAkC3bdsW9dMCQJIkSbJM5QJAAAAAIAzrAkBu27ZtZ+UCQEmSJAln0wJAbtu2rTHoAkAAAAAgidcCQLdt27Z58QJAt23bllXuAkC3bdtWav0CQAAAAEB+CANAJUmSxHkEA0AAAACAPOsCQAAAACBG+QJAkiRJ0iIWA0AlSZLkBd0CQLdt21Zn4AJA27ZtO9X+AkBu27bt4wIDQCVJkmQe5wJA27Zt+37pAkCSJElyivkCQNu2bdtF8wJAkiRJsosFA0Dbtm37t/ECQNu2bTtoIgNAAAAAALkLA0Dbtm279PoCQNu2bTvX/AJAkiRJUtINA0AAAABgjgIDQA==",
          "dtype": "f8"
         },
         "yaxis": "y2"
        },
        {
         "hovertemplate": "variable=validation_accuracy<br>step=%{x}<br>value=%{y}<extra></extra>",
         "legendgroup": "validation_accuracy",
         "line": {
          "color": "#ab63fa",
          "dash": "solid"
         },
         "marker": {
          "symbol": "circle"
         },
         "mode": "lines",
         "name": "validation_accuracy",
         "orientation": "v",
         "showlegend": true,
         "type": "scatter",
         "x": {
          "bdata": "GQAzAE0AZwCBAJsAtQDPAOkAAwEdATcBUQFrAYUBnwG5AdMB7QEHAiECOwJVAm8CiQKjAr0C1wLxAgsDJQM/A1kDcwONA6cDwQPbA/UDDwQpBEMEXQR3BJEEqwTFBN8E+QQTBQ==",
          "dtype": "i2"
         },
         "xaxis": "x",
         "y": {
          "bdata": "MQzDMAxj5D/zL//yL5/kP+h5nud53uQ/+77v+75v5D+KoiiKokjlP2ZZlmVZduU/qp3aqZ265D8BDdAADbDkPw/qoA7qAOU/P+mTPumT5D+RCqmQCsnkPyMv8iIvMuQ/uHqrt3pL5D9twRZswbbkP8MwDMMwjOQ/GqABGqDh5D//5V/+5f/jP8/mbM7mzOM/8y//8i/f4z+txEqsxErkPw3DMAzD0OM/Iy/yIi+y4z+bwAmcwOnjP6qd2qmdOuQ/YQu2YAv24z9WVVVVVRXkPwmcwAmcoOM/wzAMwzDs4z/zL//yL7/jP8/mbM7mjOM/wzAMwzBs4z9IeIRHeMTjP3d3d3d3l+M/EARBEAQB4z/oeZ7nef7jPw/qoA7qAOQ/CZzACZyA4z8jL/IiL3LjP2ELtmAL1uM/PcIjPMLj4z/lUi7lUm7jP0qf9EmftOM/sizLsixr4z9v6IZu6MbjP/Mv//Iv/+I/2pzN2ZxN4z/dwz3cw33jP+h5nud5nuM/gAZogAZI4z9WVVVVVZXjPw==",
          "dtype": "f8"
         },
         "yaxis": "y"
        }
       ],
       "layout": {
        "annotations": [
         {
          "font": {},
          "showarrow": false,
          "text": "variable=validation_accuracy",
          "textangle": 90,
          "x": 0.98,
          "xanchor": "left",
          "xref": "paper",
          "y": 0.11375,
          "yanchor": "middle",
          "yref": "paper"
         },
         {
          "font": {},
          "showarrow": false,
          "text": "variable=validation_loss",
          "textangle": 90,
          "x": 0.98,
          "xanchor": "left",
          "xref": "paper",
          "y": 0.37124999999999997,
          "yanchor": "middle",
          "yref": "paper"
         },
         {
          "font": {},
          "showarrow": false,
          "text": "variable=train_epoch_accuracy",
          "textangle": 90,
          "x": 0.98,
          "xanchor": "left",
          "xref": "paper",
          "y": 0.62875,
          "yanchor": "middle",
          "yref": "paper"
         },
         {
          "font": {},
          "showarrow": false,
          "text": "variable=train_epoch_loss",
          "textangle": 90,
          "x": 0.98,
          "xanchor": "left",
          "xref": "paper",
          "y": 0.88625,
          "yanchor": "middle",
          "yref": "paper"
         }
        ],
        "legend": {
         "title": {
          "text": "variable"
         },
         "tracegroupgap": 0
        },
        "template": {
         "data": {
          "bar": [
           {
            "error_x": {
             "color": "#2a3f5f"
            },
            "error_y": {
             "color": "#2a3f5f"
            },
            "marker": {
             "line": {
              "color": "#E5ECF6",
              "width": 0.5
             },
             "pattern": {
              "fillmode": "overlay",
              "size": 10,
              "solidity": 0.2
             }
            },
            "type": "bar"
           }
          ],
          "barpolar": [
           {
            "marker": {
             "line": {
              "color": "#E5ECF6",
              "width": 0.5
             },
             "pattern": {
              "fillmode": "overlay",
              "size": 10,
              "solidity": 0.2
             }
            },
            "type": "barpolar"
           }
          ],
          "carpet": [
           {
            "aaxis": {
             "endlinecolor": "#2a3f5f",
             "gridcolor": "white",
             "linecolor": "white",
             "minorgridcolor": "white",
             "startlinecolor": "#2a3f5f"
            },
            "baxis": {
             "endlinecolor": "#2a3f5f",
             "gridcolor": "white",
             "linecolor": "white",
             "minorgridcolor": "white",
             "startlinecolor": "#2a3f5f"
            },
            "type": "carpet"
           }
          ],
          "choropleth": [
           {
            "colorbar": {
             "outlinewidth": 0,
             "ticks": ""
            },
            "type": "choropleth"
           }
          ],
          "contour": [
           {
            "colorbar": {
             "outlinewidth": 0,
             "ticks": ""
            },
            "colorscale": [
             [
              0,
              "#0d0887"
             ],
             [
              0.1111111111111111,
              "#46039f"
             ],
             [
              0.2222222222222222,
              "#7201a8"
             ],
             [
              0.3333333333333333,
              "#9c179e"
             ],
             [
              0.4444444444444444,
              "#bd3786"
             ],
             [
              0.5555555555555556,
              "#d8576b"
             ],
             [
              0.6666666666666666,
              "#ed7953"
             ],
             [
              0.7777777777777778,
              "#fb9f3a"
             ],
             [
              0.8888888888888888,
              "#fdca26"
             ],
             [
              1,
              "#f0f921"
             ]
            ],
            "type": "contour"
           }
          ],
          "contourcarpet": [
           {
            "colorbar": {
             "outlinewidth": 0,
             "ticks": ""
            },
            "type": "contourcarpet"
           }
          ],
          "heatmap": [
           {
            "colorbar": {
             "outlinewidth": 0,
             "ticks": ""
            },
            "colorscale": [
             [
              0,
              "#0d0887"
             ],
             [
              0.1111111111111111,
              "#46039f"
             ],
             [
              0.2222222222222222,
              "#7201a8"
             ],
             [
              0.3333333333333333,
              "#9c179e"
             ],
             [
              0.4444444444444444,
              "#bd3786"
             ],
             [
              0.5555555555555556,
              "#d8576b"
             ],
             [
              0.6666666666666666,
              "#ed7953"
             ],
             [
              0.7777777777777778,
              "#fb9f3a"
             ],
             [
              0.8888888888888888,
              "#fdca26"
             ],
             [
              1,
              "#f0f921"
             ]
            ],
            "type": "heatmap"
           }
          ],
          "histogram": [
           {
            "marker": {
             "pattern": {
              "fillmode": "overlay",
              "size": 10,
              "solidity": 0.2
             }
            },
            "type": "histogram"
           }
          ],
          "histogram2d": [
           {
            "colorbar": {
             "outlinewidth": 0,
             "ticks": ""
            },
            "colorscale": [
             [
              0,
              "#0d0887"
             ],
             [
              0.1111111111111111,
              "#46039f"
             ],
             [
              0.2222222222222222,
              "#7201a8"
             ],
             [
              0.3333333333333333,
              "#9c179e"
             ],
             [
              0.4444444444444444,
              "#bd3786"
             ],
             [
              0.5555555555555556,
              "#d8576b"
             ],
             [
              0.6666666666666666,
              "#ed7953"
             ],
             [
              0.7777777777777778,
              "#fb9f3a"
             ],
             [
              0.8888888888888888,
              "#fdca26"
             ],
             [
              1,
              "#f0f921"
             ]
            ],
            "type": "histogram2d"
           }
          ],
          "histogram2dcontour": [
           {
            "colorbar": {
             "outlinewidth": 0,
             "ticks": ""
            },
            "colorscale": [
             [
              0,
              "#0d0887"
             ],
             [
              0.1111111111111111,
              "#46039f"
             ],
             [
              0.2222222222222222,
              "#7201a8"
             ],
             [
              0.3333333333333333,
              "#9c179e"
             ],
             [
              0.4444444444444444,
              "#bd3786"
             ],
             [
              0.5555555555555556,
              "#d8576b"
             ],
             [
              0.6666666666666666,
              "#ed7953"
             ],
             [
              0.7777777777777778,
              "#fb9f3a"
             ],
             [
              0.8888888888888888,
              "#fdca26"
             ],
             [
              1,
              "#f0f921"
             ]
            ],
            "type": "histogram2dcontour"
           }
          ],
          "mesh3d": [
           {
            "colorbar": {
             "outlinewidth": 0,
             "ticks": ""
            },
            "type": "mesh3d"
           }
          ],
          "parcoords": [
           {
            "line": {
             "colorbar": {
              "outlinewidth": 0,
              "ticks": ""
             }
            },
            "type": "parcoords"
           }
          ],
          "pie": [
           {
            "automargin": true,
            "type": "pie"
           }
          ],
          "scatter": [
           {
            "fillpattern": {
             "fillmode": "overlay",
             "size": 10,
             "solidity": 0.2
            },
            "type": "scatter"
           }
          ],
          "scatter3d": [
           {
            "line": {
             "colorbar": {
              "outlinewidth": 0,
              "ticks": ""
             }
            },
            "marker": {
             "colorbar": {
              "outlinewidth": 0,
              "ticks": ""
             }
            },
            "type": "scatter3d"
           }
          ],
          "scattercarpet": [
           {
            "marker": {
             "colorbar": {
              "outlinewidth": 0,
              "ticks": ""
             }
            },
            "type": "scattercarpet"
           }
          ],
          "scattergeo": [
           {
            "marker": {
             "colorbar": {
              "outlinewidth": 0,
              "ticks": ""
             }
            },
            "type": "scattergeo"
           }
          ],
          "scattergl": [
           {
            "marker": {
             "colorbar": {
              "outlinewidth": 0,
              "ticks": ""
             }
            },
            "type": "scattergl"
           }
          ],
          "scattermap": [
           {
            "marker": {
             "colorbar": {
              "outlinewidth": 0,
              "ticks": ""
             }
            },
            "type": "scattermap"
           }
          ],
          "scattermapbox": [
           {
            "marker": {
             "colorbar": {
              "outlinewidth": 0,
              "ticks": ""
             }
            },
            "type": "scattermapbox"
           }
          ],
          "scatterpolar": [
           {
            "marker": {
             "colorbar": {
              "outlinewidth": 0,
              "ticks": ""
             }
            },
            "type": "scatterpolar"
           }
          ],
          "scatterpolargl": [
           {
            "marker": {
             "colorbar": {
              "outlinewidth": 0,
              "ticks": ""
             }
            },
            "type": "scatterpolargl"
           }
          ],
          "scatterternary": [
           {
            "marker": {
             "colorbar": {
              "outlinewidth": 0,
              "ticks": ""
             }
            },
            "type": "scatterternary"
           }
          ],
          "surface": [
           {
            "colorbar": {
             "outlinewidth": 0,
             "ticks": ""
            },
            "colorscale": [
             [
              0,
              "#0d0887"
             ],
             [
              0.1111111111111111,
              "#46039f"
             ],
             [
              0.2222222222222222,
              "#7201a8"
             ],
             [
              0.3333333333333333,
              "#9c179e"
             ],
             [
              0.4444444444444444,
              "#bd3786"
             ],
             [
              0.5555555555555556,
              "#d8576b"
             ],
             [
              0.6666666666666666,
              "#ed7953"
             ],
             [
              0.7777777777777778,
              "#fb9f3a"
             ],
             [
              0.8888888888888888,
              "#fdca26"
             ],
             [
              1,
              "#f0f921"
             ]
            ],
            "type": "surface"
           }
          ],
          "table": [
           {
            "cells": {
             "fill": {
              "color": "#EBF0F8"
             },
             "line": {
              "color": "white"
             }
            },
            "header": {
             "fill": {
              "color": "#C8D4E3"
             },
             "line": {
              "color": "white"
             }
            },
            "type": "table"
           }
          ]
         },
         "layout": {
          "annotationdefaults": {
           "arrowcolor": "#2a3f5f",
           "arrowhead": 0,
           "arrowwidth": 1
          },
          "autotypenumbers": "strict",
          "coloraxis": {
           "colorbar": {
            "outlinewidth": 0,
            "ticks": ""
           }
          },
          "colorscale": {
           "diverging": [
            [
             0,
             "#8e0152"
            ],
            [
             0.1,
             "#c51b7d"
            ],
            [
             0.2,
             "#de77ae"
            ],
            [
             0.3,
             "#f1b6da"
            ],
            [
             0.4,
             "#fde0ef"
            ],
            [
             0.5,
             "#f7f7f7"
            ],
            [
             0.6,
             "#e6f5d0"
            ],
            [
             0.7,
             "#b8e186"
            ],
            [
             0.8,
             "#7fbc41"
            ],
            [
             0.9,
             "#4d9221"
            ],
            [
             1,
             "#276419"
            ]
           ],
           "sequential": [
            [
             0,
             "#0d0887"
            ],
            [
             0.1111111111111111,
             "#46039f"
            ],
            [
             0.2222222222222222,
             "#7201a8"
            ],
            [
             0.3333333333333333,
             "#9c179e"
            ],
            [
             0.4444444444444444,
             "#bd3786"
            ],
            [
             0.5555555555555556,
             "#d8576b"
            ],
            [
             0.6666666666666666,
             "#ed7953"
            ],
            [
             0.7777777777777778,
             "#fb9f3a"
            ],
            [
             0.8888888888888888,
             "#fdca26"
            ],
            [
             1,
             "#f0f921"
            ]
           ],
           "sequentialminus": [
            [
             0,
             "#0d0887"
            ],
            [
             0.1111111111111111,
             "#46039f"
            ],
            [
             0.2222222222222222,
             "#7201a8"
            ],
            [
             0.3333333333333333,
             "#9c179e"
            ],
            [
             0.4444444444444444,
             "#bd3786"
            ],
            [
             0.5555555555555556,
             "#d8576b"
            ],
            [
             0.6666666666666666,
             "#ed7953"
            ],
            [
             0.7777777777777778,
             "#fb9f3a"
            ],
            [
             0.8888888888888888,
             "#fdca26"
            ],
            [
             1,
             "#f0f921"
            ]
           ]
          },
          "colorway": [
           "#636efa",
           "#EF553B",
           "#00cc96",
           "#ab63fa",
           "#FFA15A",
           "#19d3f3",
           "#FF6692",
           "#B6E880",
           "#FF97FF",
           "#FECB52"
          ],
          "font": {
           "color": "#2a3f5f"
          },
          "geo": {
           "bgcolor": "white",
           "lakecolor": "white",
           "landcolor": "#E5ECF6",
           "showlakes": true,
           "showland": true,
           "subunitcolor": "white"
          },
          "hoverlabel": {
           "align": "left"
          },
          "hovermode": "closest",
          "mapbox": {
           "style": "light"
          },
          "paper_bgcolor": "white",
          "plot_bgcolor": "#E5ECF6",
          "polar": {
           "angularaxis": {
            "gridcolor": "white",
            "linecolor": "white",
            "ticks": ""
           },
           "bgcolor": "#E5ECF6",
           "radialaxis": {
            "gridcolor": "white",
            "linecolor": "white",
            "ticks": ""
           }
          },
          "scene": {
           "xaxis": {
            "backgroundcolor": "#E5ECF6",
            "gridcolor": "white",
            "gridwidth": 2,
            "linecolor": "white",
            "showbackground": true,
            "ticks": "",
            "zerolinecolor": "white"
           },
           "yaxis": {
            "backgroundcolor": "#E5ECF6",
            "gridcolor": "white",
            "gridwidth": 2,
            "linecolor": "white",
            "showbackground": true,
            "ticks": "",
            "zerolinecolor": "white"
           },
           "zaxis": {
            "backgroundcolor": "#E5ECF6",
            "gridcolor": "white",
            "gridwidth": 2,
            "linecolor": "white",
            "showbackground": true,
            "ticks": "",
            "zerolinecolor": "white"
           }
          },
          "shapedefaults": {
           "line": {
            "color": "#2a3f5f"
           }
          },
          "ternary": {
           "aaxis": {
            "gridcolor": "white",
            "linecolor": "white",
            "ticks": ""
           },
           "baxis": {
            "gridcolor": "white",
            "linecolor": "white",
            "ticks": ""
           },
           "bgcolor": "#E5ECF6",
           "caxis": {
            "gridcolor": "white",
            "linecolor": "white",
            "ticks": ""
           }
          },
          "title": {
           "x": 0.05
          },
          "xaxis": {
           "automargin": true,
           "gridcolor": "white",
           "linecolor": "white",
           "ticks": "",
           "title": {
            "standoff": 15
           },
           "zerolinecolor": "white",
           "zerolinewidth": 2
          },
          "yaxis": {
           "automargin": true,
           "gridcolor": "white",
           "linecolor": "white",
           "ticks": "",
           "title": {
            "standoff": 15
           },
           "zerolinecolor": "white",
           "zerolinewidth": 2
          }
         }
        },
        "title": {
         "text": "epoch metrics"
        },
        "xaxis": {
         "anchor": "y",
         "domain": [
          0,
          0.98
         ],
         "title": {
          "text": "step"
         }
        },
        "xaxis2": {
         "anchor": "y2",
         "domain": [
          0,
          0.98
         ],
         "matches": "x",
         "showticklabels": false
        },
        "xaxis3": {
         "anchor": "y3",
         "domain": [
          0,
          0.98
         ],
         "matches": "x",
         "showticklabels": false
        },
        "xaxis4": {
         "anchor": "y4",
         "domain": [
          0,
          0.98
         ],
         "matches": "x",
         "showticklabels": false
        },
        "yaxis": {
         "anchor": "x",
         "domain": [
          0,
          0.2275
         ],
         "title": {
          "text": "value"
         }
        },
        "yaxis2": {
         "anchor": "x2",
         "domain": [
          0.2575,
          0.485
         ],
         "title": {
          "text": "value"
         }
        },
        "yaxis3": {
         "anchor": "x3",
         "domain": [
          0.515,
          0.7425
         ],
         "title": {
          "text": "value"
         }
        },
        "yaxis4": {
         "anchor": "x4",
         "domain": [
          0.7725,
          1
         ],
         "title": {
          "text": "value"
         }
        }
       }
      }
     },
     "metadata": {},
     "output_type": "display_data"
    },
    {
     "name": "stdout",
     "output_type": "stream",
     "text": [
      "=========================\n",
      "training: 3\n"
     ]
    },
    {
     "data": {
      "application/vnd.jupyter.widget-view+json": {
       "model_id": "6f4e724e6f934bd5b632183dda5ad01b",
       "version_major": 2,
       "version_minor": 0
      },
      "text/plain": [
       "Output()"
      ]
     },
     "metadata": {},
     "output_type": "display_data"
    },
    {
     "data": {
      "text/html": [
       "<pre style=\"white-space:pre;overflow-x:auto;line-height:normal;font-family:Menlo,'DejaVu Sans Mono',consolas,'Courier New',monospace\">validation loss: <span style=\"color: #008080; text-decoration-color: #008080; font-weight: bold\">2.2656500339508057</span>\n",
       "</pre>\n"
      ],
      "text/plain": [
       "validation loss: \u001b[1;36m2.2656500339508057\u001b[0m\n"
      ]
     },
     "metadata": {},
     "output_type": "display_data"
    },
    {
     "data": {
      "text/html": [
       "<pre style=\"white-space:pre;overflow-x:auto;line-height:normal;font-family:Menlo,'DejaVu Sans Mono',consolas,'Courier New',monospace\">validation loss: <span style=\"color: #008080; text-decoration-color: #008080; font-weight: bold\">2.253217969621931</span>\n",
       "</pre>\n"
      ],
      "text/plain": [
       "validation loss: \u001b[1;36m2.253217969621931\u001b[0m\n"
      ]
     },
     "metadata": {},
     "output_type": "display_data"
    },
    {
     "data": {
      "text/html": [
       "<pre style=\"white-space:pre;overflow-x:auto;line-height:normal;font-family:Menlo,'DejaVu Sans Mono',consolas,'Courier New',monospace\">validation loss: <span style=\"color: #008080; text-decoration-color: #008080; font-weight: bold\">2.253691162381853</span>\n",
       "</pre>\n"
      ],
      "text/plain": [
       "validation loss: \u001b[1;36m2.253691162381853\u001b[0m\n"
      ]
     },
     "metadata": {},
     "output_type": "display_data"
    },
    {
     "data": {
      "text/html": [
       "<pre style=\"white-space:pre;overflow-x:auto;line-height:normal;font-family:Menlo,'DejaVu Sans Mono',consolas,'Courier New',monospace\">validation loss: <span style=\"color: #008080; text-decoration-color: #008080; font-weight: bold\">2.251393897192819</span>\n",
       "</pre>\n"
      ],
      "text/plain": [
       "validation loss: \u001b[1;36m2.251393897192819\u001b[0m\n"
      ]
     },
     "metadata": {},
     "output_type": "display_data"
    },
    {
     "data": {
      "text/html": [
       "<pre style=\"white-space:pre;overflow-x:auto;line-height:normal;font-family:Menlo,'DejaVu Sans Mono',consolas,'Courier New',monospace\">validation loss: <span style=\"color: #008080; text-decoration-color: #008080; font-weight: bold\">2.250565733228411</span>\n",
       "</pre>\n"
      ],
      "text/plain": [
       "validation loss: \u001b[1;36m2.250565733228411\u001b[0m\n"
      ]
     },
     "metadata": {},
     "output_type": "display_data"
    },
    {
     "data": {
      "text/html": [
       "<pre style=\"white-space:pre;overflow-x:auto;line-height:normal;font-family:Menlo,'DejaVu Sans Mono',consolas,'Courier New',monospace\">validation loss: <span style=\"color: #008080; text-decoration-color: #008080; font-weight: bold\">2.2495147500719344</span>\n",
       "</pre>\n"
      ],
      "text/plain": [
       "validation loss: \u001b[1;36m2.2495147500719344\u001b[0m\n"
      ]
     },
     "metadata": {},
     "output_type": "display_data"
    },
    {
     "data": {
      "text/html": [
       "<pre style=\"white-space:pre;overflow-x:auto;line-height:normal;font-family:Menlo,'DejaVu Sans Mono',consolas,'Courier New',monospace\">validation loss: <span style=\"color: #008080; text-decoration-color: #008080; font-weight: bold\">2.2500533717019215</span>\n",
       "</pre>\n"
      ],
      "text/plain": [
       "validation loss: \u001b[1;36m2.2500533717019215\u001b[0m\n"
      ]
     },
     "metadata": {},
     "output_type": "display_data"
    },
    {
     "data": {
      "text/html": [
       "<pre style=\"white-space:pre;overflow-x:auto;line-height:normal;font-family:Menlo,'DejaVu Sans Mono',consolas,'Courier New',monospace\">validation loss: <span style=\"color: #008080; text-decoration-color: #008080; font-weight: bold\">2.2533674240112305</span>\n",
       "</pre>\n"
      ],
      "text/plain": [
       "validation loss: \u001b[1;36m2.2533674240112305\u001b[0m\n"
      ]
     },
     "metadata": {},
     "output_type": "display_data"
    },
    {
     "data": {
      "text/html": [
       "<pre style=\"white-space:pre;overflow-x:auto;line-height:normal;font-family:Menlo,'DejaVu Sans Mono',consolas,'Courier New',monospace\">validation loss: <span style=\"color: #008080; text-decoration-color: #008080; font-weight: bold\">2.256730692727225</span>\n",
       "</pre>\n"
      ],
      "text/plain": [
       "validation loss: \u001b[1;36m2.256730692727225\u001b[0m\n"
      ]
     },
     "metadata": {},
     "output_type": "display_data"
    },
    {
     "data": {
      "text/html": [
       "<pre style=\"white-space:pre;overflow-x:auto;line-height:normal;font-family:Menlo,'DejaVu Sans Mono',consolas,'Courier New',monospace\">validation loss: <span style=\"color: #008080; text-decoration-color: #008080; font-weight: bold\">2.2650131498064314</span>\n",
       "</pre>\n"
      ],
      "text/plain": [
       "validation loss: \u001b[1;36m2.2650131498064314\u001b[0m\n"
      ]
     },
     "metadata": {},
     "output_type": "display_data"
    },
    {
     "data": {
      "text/html": [
       "<pre style=\"white-space:pre;overflow-x:auto;line-height:normal;font-family:Menlo,'DejaVu Sans Mono',consolas,'Courier New',monospace\">validation loss: <span style=\"color: #008080; text-decoration-color: #008080; font-weight: bold\">2.276865243911743</span>\n",
       "</pre>\n"
      ],
      "text/plain": [
       "validation loss: \u001b[1;36m2.276865243911743\u001b[0m\n"
      ]
     },
     "metadata": {},
     "output_type": "display_data"
    },
    {
     "data": {
      "text/html": [
       "<pre style=\"white-space:pre;overflow-x:auto;line-height:normal;font-family:Menlo,'DejaVu Sans Mono',consolas,'Courier New',monospace\">validation loss: <span style=\"color: #008080; text-decoration-color: #008080; font-weight: bold\">2.2727272851126537</span>\n",
       "</pre>\n"
      ],
      "text/plain": [
       "validation loss: \u001b[1;36m2.2727272851126537\u001b[0m\n"
      ]
     },
     "metadata": {},
     "output_type": "display_data"
    },
    {
     "data": {
      "text/html": [
       "<pre style=\"white-space:pre;overflow-x:auto;line-height:normal;font-family:Menlo,'DejaVu Sans Mono',consolas,'Courier New',monospace\">validation loss: <span style=\"color: #008080; text-decoration-color: #008080; font-weight: bold\">2.275662899017334</span>\n",
       "</pre>\n"
      ],
      "text/plain": [
       "validation loss: \u001b[1;36m2.275662899017334\u001b[0m\n"
      ]
     },
     "metadata": {},
     "output_type": "display_data"
    },
    {
     "data": {
      "text/html": [
       "<pre style=\"white-space:pre;overflow-x:auto;line-height:normal;font-family:Menlo,'DejaVu Sans Mono',consolas,'Courier New',monospace\">validation loss: <span style=\"color: #008080; text-decoration-color: #008080; font-weight: bold\">2.269970042364938</span>\n",
       "</pre>\n"
      ],
      "text/plain": [
       "validation loss: \u001b[1;36m2.269970042364938\u001b[0m\n"
      ]
     },
     "metadata": {},
     "output_type": "display_data"
    },
    {
     "data": {
      "text/html": [
       "<pre style=\"white-space:pre;overflow-x:auto;line-height:normal;font-family:Menlo,'DejaVu Sans Mono',consolas,'Courier New',monospace\">validation loss: <span style=\"color: #008080; text-decoration-color: #008080; font-weight: bold\">2.281595196042742</span>\n",
       "</pre>\n"
      ],
      "text/plain": [
       "validation loss: \u001b[1;36m2.281595196042742\u001b[0m\n"
      ]
     },
     "metadata": {},
     "output_type": "display_data"
    },
    {
     "data": {
      "text/html": [
       "<pre style=\"white-space:pre;overflow-x:auto;line-height:normal;font-family:Menlo,'DejaVu Sans Mono',consolas,'Courier New',monospace\">validation loss: <span style=\"color: #008080; text-decoration-color: #008080; font-weight: bold\">2.28617262840271</span>\n",
       "</pre>\n"
      ],
      "text/plain": [
       "validation loss: \u001b[1;36m2.28617262840271\u001b[0m\n"
      ]
     },
     "metadata": {},
     "output_type": "display_data"
    },
    {
     "data": {
      "text/html": [
       "<pre style=\"white-space:pre;overflow-x:auto;line-height:normal;font-family:Menlo,'DejaVu Sans Mono',consolas,'Courier New',monospace\">validation loss: <span style=\"color: #008080; text-decoration-color: #008080; font-weight: bold\">2.2820402894701277</span>\n",
       "</pre>\n"
      ],
      "text/plain": [
       "validation loss: \u001b[1;36m2.2820402894701277\u001b[0m\n"
      ]
     },
     "metadata": {},
     "output_type": "display_data"
    },
    {
     "data": {
      "text/html": [
       "<pre style=\"white-space:pre;overflow-x:auto;line-height:normal;font-family:Menlo,'DejaVu Sans Mono',consolas,'Courier New',monospace\">validation loss: <span style=\"color: #008080; text-decoration-color: #008080; font-weight: bold\">2.289821147918701</span>\n",
       "</pre>\n"
      ],
      "text/plain": [
       "validation loss: \u001b[1;36m2.289821147918701\u001b[0m\n"
      ]
     },
     "metadata": {},
     "output_type": "display_data"
    },
    {
     "data": {
      "text/html": [
       "<pre style=\"white-space:pre;overflow-x:auto;line-height:normal;font-family:Menlo,'DejaVu Sans Mono',consolas,'Courier New',monospace\">validation loss: <span style=\"color: #008080; text-decoration-color: #008080; font-weight: bold\">2.2869527680533275</span>\n",
       "</pre>\n"
      ],
      "text/plain": [
       "validation loss: \u001b[1;36m2.2869527680533275\u001b[0m\n"
      ]
     },
     "metadata": {},
     "output_type": "display_data"
    },
    {
     "data": {
      "text/html": [
       "<pre style=\"white-space:pre;overflow-x:auto;line-height:normal;font-family:Menlo,'DejaVu Sans Mono',consolas,'Courier New',monospace\">validation loss: <span style=\"color: #008080; text-decoration-color: #008080; font-weight: bold\">2.281731605529785</span>\n",
       "</pre>\n"
      ],
      "text/plain": [
       "validation loss: \u001b[1;36m2.281731605529785\u001b[0m\n"
      ]
     },
     "metadata": {},
     "output_type": "display_data"
    },
    {
     "data": {
      "text/html": [
       "<pre style=\"white-space:pre;overflow-x:auto;line-height:normal;font-family:Menlo,'DejaVu Sans Mono',consolas,'Courier New',monospace\">validation loss: <span style=\"color: #008080; text-decoration-color: #008080; font-weight: bold\">2.288052797317505</span>\n",
       "</pre>\n"
      ],
      "text/plain": [
       "validation loss: \u001b[1;36m2.288052797317505\u001b[0m\n"
      ]
     },
     "metadata": {},
     "output_type": "display_data"
    },
    {
     "data": {
      "text/html": [
       "<pre style=\"white-space:pre;overflow-x:auto;line-height:normal;font-family:Menlo,'DejaVu Sans Mono',consolas,'Courier New',monospace\">validation loss: <span style=\"color: #008080; text-decoration-color: #008080; font-weight: bold\">2.277057375226702</span>\n",
       "</pre>\n"
      ],
      "text/plain": [
       "validation loss: \u001b[1;36m2.277057375226702\u001b[0m\n"
      ]
     },
     "metadata": {},
     "output_type": "display_data"
    },
    {
     "data": {
      "text/html": [
       "<pre style=\"white-space:pre;overflow-x:auto;line-height:normal;font-family:Menlo,'DejaVu Sans Mono',consolas,'Courier New',monospace\">validation loss: <span style=\"color: #008080; text-decoration-color: #008080; font-weight: bold\">2.2686826160975864</span>\n",
       "</pre>\n"
      ],
      "text/plain": [
       "validation loss: \u001b[1;36m2.2686826160975864\u001b[0m\n"
      ]
     },
     "metadata": {},
     "output_type": "display_data"
    },
    {
     "data": {
      "text/html": [
       "<pre style=\"white-space:pre;overflow-x:auto;line-height:normal;font-family:Menlo,'DejaVu Sans Mono',consolas,'Courier New',monospace\">validation loss: <span style=\"color: #008080; text-decoration-color: #008080; font-weight: bold\">2.271143368312291</span>\n",
       "</pre>\n"
      ],
      "text/plain": [
       "validation loss: \u001b[1;36m2.271143368312291\u001b[0m\n"
      ]
     },
     "metadata": {},
     "output_type": "display_data"
    },
    {
     "data": {
      "text/html": [
       "<pre style=\"white-space:pre;overflow-x:auto;line-height:normal;font-family:Menlo,'DejaVu Sans Mono',consolas,'Courier New',monospace\">validation loss: <span style=\"color: #008080; text-decoration-color: #008080; font-weight: bold\">2.273789746420724</span>\n",
       "</pre>\n"
      ],
      "text/plain": [
       "validation loss: \u001b[1;36m2.273789746420724\u001b[0m\n"
      ]
     },
     "metadata": {},
     "output_type": "display_data"
    },
    {
     "data": {
      "text/html": [
       "<pre style=\"white-space:pre;overflow-x:auto;line-height:normal;font-family:Menlo,'DejaVu Sans Mono',consolas,'Courier New',monospace\">validation loss: <span style=\"color: #008080; text-decoration-color: #008080; font-weight: bold\">2.2732477528708324</span>\n",
       "</pre>\n"
      ],
      "text/plain": [
       "validation loss: \u001b[1;36m2.2732477528708324\u001b[0m\n"
      ]
     },
     "metadata": {},
     "output_type": "display_data"
    },
    {
     "data": {
      "text/html": [
       "<pre style=\"white-space:pre;overflow-x:auto;line-height:normal;font-family:Menlo,'DejaVu Sans Mono',consolas,'Courier New',monospace\">validation loss: <span style=\"color: #008080; text-decoration-color: #008080; font-weight: bold\">2.2767935820988248</span>\n",
       "</pre>\n"
      ],
      "text/plain": [
       "validation loss: \u001b[1;36m2.2767935820988248\u001b[0m\n"
      ]
     },
     "metadata": {},
     "output_type": "display_data"
    },
    {
     "data": {
      "text/html": [
       "<pre style=\"white-space:pre;overflow-x:auto;line-height:normal;font-family:Menlo,'DejaVu Sans Mono',consolas,'Courier New',monospace\">validation loss: <span style=\"color: #008080; text-decoration-color: #008080; font-weight: bold\">2.2895398821149553</span>\n",
       "</pre>\n"
      ],
      "text/plain": [
       "validation loss: \u001b[1;36m2.2895398821149553\u001b[0m\n"
      ]
     },
     "metadata": {},
     "output_type": "display_data"
    },
    {
     "data": {
      "text/html": [
       "<pre style=\"white-space:pre;overflow-x:auto;line-height:normal;font-family:Menlo,'DejaVu Sans Mono',consolas,'Courier New',monospace\">validation loss: <span style=\"color: #008080; text-decoration-color: #008080; font-weight: bold\">2.2863631589072093</span>\n",
       "</pre>\n"
      ],
      "text/plain": [
       "validation loss: \u001b[1;36m2.2863631589072093\u001b[0m\n"
      ]
     },
     "metadata": {},
     "output_type": "display_data"
    },
    {
     "data": {
      "text/html": [
       "<pre style=\"white-space:pre;overflow-x:auto;line-height:normal;font-family:Menlo,'DejaVu Sans Mono',consolas,'Courier New',monospace\">validation loss: <span style=\"color: #008080; text-decoration-color: #008080; font-weight: bold\">2.30233519417899</span>\n",
       "</pre>\n"
      ],
      "text/plain": [
       "validation loss: \u001b[1;36m2.30233519417899\u001b[0m\n"
      ]
     },
     "metadata": {},
     "output_type": "display_data"
    },
    {
     "data": {
      "text/html": [
       "<pre style=\"white-space:pre;overflow-x:auto;line-height:normal;font-family:Menlo,'DejaVu Sans Mono',consolas,'Courier New',monospace\">validation loss: <span style=\"color: #008080; text-decoration-color: #008080; font-weight: bold\">2.2883071218218123</span>\n",
       "</pre>\n"
      ],
      "text/plain": [
       "validation loss: \u001b[1;36m2.2883071218218123\u001b[0m\n"
      ]
     },
     "metadata": {},
     "output_type": "display_data"
    },
    {
     "data": {
      "text/html": [
       "<pre style=\"white-space:pre;overflow-x:auto;line-height:normal;font-family:Menlo,'DejaVu Sans Mono',consolas,'Courier New',monospace\">validation loss: <span style=\"color: #008080; text-decoration-color: #008080; font-weight: bold\">2.3010185105460033</span>\n",
       "</pre>\n"
      ],
      "text/plain": [
       "validation loss: \u001b[1;36m2.3010185105460033\u001b[0m\n"
      ]
     },
     "metadata": {},
     "output_type": "display_data"
    },
    {
     "data": {
      "text/html": [
       "<pre style=\"white-space:pre;overflow-x:auto;line-height:normal;font-family:Menlo,'DejaVu Sans Mono',consolas,'Courier New',monospace\">validation loss: <span style=\"color: #008080; text-decoration-color: #008080; font-weight: bold\">2.2947117601122176</span>\n",
       "</pre>\n"
      ],
      "text/plain": [
       "validation loss: \u001b[1;36m2.2947117601122176\u001b[0m\n"
      ]
     },
     "metadata": {},
     "output_type": "display_data"
    },
    {
     "data": {
      "text/html": [
       "<pre style=\"white-space:pre;overflow-x:auto;line-height:normal;font-family:Menlo,'DejaVu Sans Mono',consolas,'Courier New',monospace\">validation loss: <span style=\"color: #008080; text-decoration-color: #008080; font-weight: bold\">2.295581442969186</span>\n",
       "</pre>\n"
      ],
      "text/plain": [
       "validation loss: \u001b[1;36m2.295581442969186\u001b[0m\n"
      ]
     },
     "metadata": {},
     "output_type": "display_data"
    },
    {
     "data": {
      "text/html": [
       "<pre style=\"white-space:pre;overflow-x:auto;line-height:normal;font-family:Menlo,'DejaVu Sans Mono',consolas,'Courier New',monospace\">validation loss: <span style=\"color: #008080; text-decoration-color: #008080; font-weight: bold\">2.3097887379782542</span>\n",
       "</pre>\n"
      ],
      "text/plain": [
       "validation loss: \u001b[1;36m2.3097887379782542\u001b[0m\n"
      ]
     },
     "metadata": {},
     "output_type": "display_data"
    },
    {
     "data": {
      "text/html": [
       "<pre style=\"white-space:pre;overflow-x:auto;line-height:normal;font-family:Menlo,'DejaVu Sans Mono',consolas,'Courier New',monospace\">validation loss: <span style=\"color: #008080; text-decoration-color: #008080; font-weight: bold\">2.310027871813093</span>\n",
       "</pre>\n"
      ],
      "text/plain": [
       "validation loss: \u001b[1;36m2.310027871813093\u001b[0m\n"
      ]
     },
     "metadata": {},
     "output_type": "display_data"
    },
    {
     "data": {
      "text/html": [
       "<pre style=\"white-space:pre;overflow-x:auto;line-height:normal;font-family:Menlo,'DejaVu Sans Mono',consolas,'Courier New',monospace\">validation loss: <span style=\"color: #008080; text-decoration-color: #008080; font-weight: bold\">2.320623057229178</span>\n",
       "</pre>\n"
      ],
      "text/plain": [
       "validation loss: \u001b[1;36m2.320623057229178\u001b[0m\n"
      ]
     },
     "metadata": {},
     "output_type": "display_data"
    },
    {
     "data": {
      "text/html": [
       "<pre style=\"white-space:pre;overflow-x:auto;line-height:normal;font-family:Menlo,'DejaVu Sans Mono',consolas,'Courier New',monospace\">validation loss: <span style=\"color: #008080; text-decoration-color: #008080; font-weight: bold\">2.3232507024492537</span>\n",
       "</pre>\n"
      ],
      "text/plain": [
       "validation loss: \u001b[1;36m2.3232507024492537\u001b[0m\n"
      ]
     },
     "metadata": {},
     "output_type": "display_data"
    },
    {
     "data": {
      "text/html": [
       "<pre style=\"white-space:pre;overflow-x:auto;line-height:normal;font-family:Menlo,'DejaVu Sans Mono',consolas,'Courier New',monospace\">validation loss: <span style=\"color: #008080; text-decoration-color: #008080; font-weight: bold\">2.320873056139265</span>\n",
       "</pre>\n"
      ],
      "text/plain": [
       "validation loss: \u001b[1;36m2.320873056139265\u001b[0m\n"
      ]
     },
     "metadata": {},
     "output_type": "display_data"
    },
    {
     "data": {
      "text/html": [
       "<pre style=\"white-space:pre;overflow-x:auto;line-height:normal;font-family:Menlo,'DejaVu Sans Mono',consolas,'Courier New',monospace\">validation loss: <span style=\"color: #008080; text-decoration-color: #008080; font-weight: bold\">2.3297390256609236</span>\n",
       "</pre>\n"
      ],
      "text/plain": [
       "validation loss: \u001b[1;36m2.3297390256609236\u001b[0m\n"
      ]
     },
     "metadata": {},
     "output_type": "display_data"
    },
    {
     "data": {
      "text/html": [
       "<pre style=\"white-space:pre;overflow-x:auto;line-height:normal;font-family:Menlo,'DejaVu Sans Mono',consolas,'Courier New',monospace\">validation loss: <span style=\"color: #008080; text-decoration-color: #008080; font-weight: bold\">2.3335723536355153</span>\n",
       "</pre>\n"
      ],
      "text/plain": [
       "validation loss: \u001b[1;36m2.3335723536355153\u001b[0m\n"
      ]
     },
     "metadata": {},
     "output_type": "display_data"
    },
    {
     "data": {
      "text/html": [
       "<pre style=\"white-space:pre;overflow-x:auto;line-height:normal;font-family:Menlo,'DejaVu Sans Mono',consolas,'Courier New',monospace\">validation loss: <span style=\"color: #008080; text-decoration-color: #008080; font-weight: bold\">2.311601298195975</span>\n",
       "</pre>\n"
      ],
      "text/plain": [
       "validation loss: \u001b[1;36m2.311601298195975\u001b[0m\n"
      ]
     },
     "metadata": {},
     "output_type": "display_data"
    },
    {
     "data": {
      "text/html": [
       "<pre style=\"white-space:pre;overflow-x:auto;line-height:normal;font-family:Menlo,'DejaVu Sans Mono',consolas,'Courier New',monospace\">validation loss: <span style=\"color: #008080; text-decoration-color: #008080; font-weight: bold\">2.322153295789446</span>\n",
       "</pre>\n"
      ],
      "text/plain": [
       "validation loss: \u001b[1;36m2.322153295789446\u001b[0m\n"
      ]
     },
     "metadata": {},
     "output_type": "display_data"
    },
    {
     "data": {
      "text/html": [
       "<pre style=\"white-space:pre;overflow-x:auto;line-height:normal;font-family:Menlo,'DejaVu Sans Mono',consolas,'Courier New',monospace\">validation loss: <span style=\"color: #008080; text-decoration-color: #008080; font-weight: bold\">2.329353468758719</span>\n",
       "</pre>\n"
      ],
      "text/plain": [
       "validation loss: \u001b[1;36m2.329353468758719\u001b[0m\n"
      ]
     },
     "metadata": {},
     "output_type": "display_data"
    },
    {
     "data": {
      "text/html": [
       "<pre style=\"white-space:pre;overflow-x:auto;line-height:normal;font-family:Menlo,'DejaVu Sans Mono',consolas,'Courier New',monospace\">validation loss: <span style=\"color: #008080; text-decoration-color: #008080; font-weight: bold\">2.3156449794769287</span>\n",
       "</pre>\n"
      ],
      "text/plain": [
       "validation loss: \u001b[1;36m2.3156449794769287\u001b[0m\n"
      ]
     },
     "metadata": {},
     "output_type": "display_data"
    },
    {
     "data": {
      "text/html": [
       "<pre style=\"white-space:pre;overflow-x:auto;line-height:normal;font-family:Menlo,'DejaVu Sans Mono',consolas,'Courier New',monospace\">validation loss: <span style=\"color: #008080; text-decoration-color: #008080; font-weight: bold\">2.3164219175066267</span>\n",
       "</pre>\n"
      ],
      "text/plain": [
       "validation loss: \u001b[1;36m2.3164219175066267\u001b[0m\n"
      ]
     },
     "metadata": {},
     "output_type": "display_data"
    },
    {
     "data": {
      "text/html": [
       "<pre style=\"white-space:pre;overflow-x:auto;line-height:normal;font-family:Menlo,'DejaVu Sans Mono',consolas,'Courier New',monospace\">validation loss: <span style=\"color: #008080; text-decoration-color: #008080; font-weight: bold\">2.3252620356423512</span>\n",
       "</pre>\n"
      ],
      "text/plain": [
       "validation loss: \u001b[1;36m2.3252620356423512\u001b[0m\n"
      ]
     },
     "metadata": {},
     "output_type": "display_data"
    },
    {
     "data": {
      "text/html": [
       "<pre style=\"white-space:pre;overflow-x:auto;line-height:normal;font-family:Menlo,'DejaVu Sans Mono',consolas,'Courier New',monospace\">validation loss: <span style=\"color: #008080; text-decoration-color: #008080; font-weight: bold\">2.33151946749006</span>\n",
       "</pre>\n"
      ],
      "text/plain": [
       "validation loss: \u001b[1;36m2.33151946749006\u001b[0m\n"
      ]
     },
     "metadata": {},
     "output_type": "display_data"
    },
    {
     "data": {
      "text/html": [
       "<pre style=\"white-space:pre;overflow-x:auto;line-height:normal;font-family:Menlo,'DejaVu Sans Mono',consolas,'Courier New',monospace\">validation loss: <span style=\"color: #008080; text-decoration-color: #008080; font-weight: bold\">2.321927649634225</span>\n",
       "</pre>\n"
      ],
      "text/plain": [
       "validation loss: \u001b[1;36m2.321927649634225\u001b[0m\n"
      ]
     },
     "metadata": {},
     "output_type": "display_data"
    },
    {
     "data": {
      "text/html": [
       "<pre style=\"white-space:pre;overflow-x:auto;line-height:normal;font-family:Menlo,'DejaVu Sans Mono',consolas,'Courier New',monospace\">validation loss: <span style=\"color: #008080; text-decoration-color: #008080; font-weight: bold\">2.320809398378645</span>\n",
       "</pre>\n"
      ],
      "text/plain": [
       "validation loss: \u001b[1;36m2.320809398378645\u001b[0m\n"
      ]
     },
     "metadata": {},
     "output_type": "display_data"
    },
    {
     "data": {
      "text/html": [
       "<pre style=\"white-space:pre;overflow-x:auto;line-height:normal;font-family:Menlo,'DejaVu Sans Mono',consolas,'Courier New',monospace\"></pre>\n"
      ],
      "text/plain": []
     },
     "metadata": {},
     "output_type": "display_data"
    },
    {
     "data": {
      "application/vnd.plotly.v1+json": {
       "config": {
        "plotlyServerURL": "https://plot.ly"
       },
       "data": [
        {
         "hovertemplate": "variable=batch_train_loss<br>step=%{x}<br>value=%{y}<extra></extra>",
         "legendgroup": "",
         "marker": {
          "color": "#636efa",
          "symbol": "circle"
         },
         "mode": "markers",
         "name": "",
         "showlegend": false,
         "type": "scattergl",
         "x": {
          "bdata": "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",
          "dtype": "i2"
         },
         "xaxis": "x2",
         "y": {
          "bdata": "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",
          "dtype": "f8"
         },
         "yaxis": "y2"
        },
        {
         "hovertemplate": "<b>Exponentially Weighted mean trendline</b><br><br>variable=batch_train_loss<br>step=%{x}<br>value=%{y} <b>(trend)</b><extra></extra>",
         "legendgroup": "",
         "line": {
          "color": "red"
         },
         "marker": {
          "color": "#636efa",
          "symbol": "circle"
         },
         "mode": "lines",
         "name": "",
         "showlegend": false,
         "type": "scattergl",
         "x": {
          "bdata": "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",
          "dtype": "i2"
         },
         "xaxis": "x2",
         "y": {
          "bdata": "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",
          "dtype": "f8"
         },
         "yaxis": "y2"
        },
        {
         "hovertemplate": "variable=batch_accuracy<br>step=%{x}<br>value=%{y}<extra></extra>",
         "legendgroup": "",
         "marker": {
          "color": "#636efa",
          "symbol": "circle"
         },
         "mode": "markers",
         "name": "",
         "showlegend": false,
         "type": "scattergl",
         "x": {
          "bdata": "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",
          "dtype": "i2"
         },
         "xaxis": "x",
         "y": {
          "bdata": "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",
          "dtype": "f8"
         },
         "yaxis": "y"
        },
        {
         "hovertemplate": "<b>Exponentially Weighted mean trendline</b><br><br>variable=batch_accuracy<br>step=%{x}<br>value=%{y} <b>(trend)</b><extra></extra>",
         "legendgroup": "",
         "line": {
          "color": "red"
         },
         "marker": {
          "color": "#636efa",
          "symbol": "circle"
         },
         "mode": "lines",
         "name": "",
         "showlegend": false,
         "type": "scattergl",
         "x": {
          "bdata": "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",
          "dtype": "i2"
         },
         "xaxis": "x",
         "y": {
          "bdata": "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",
          "dtype": "f8"
         },
         "yaxis": "y"
        }
       ],
       "layout": {
        "annotations": [
         {
          "font": {},
          "showarrow": false,
          "text": "variable=batch_accuracy",
          "textangle": 90,
          "x": 0.98,
          "xanchor": "left",
          "xref": "paper",
          "y": 0.2425,
          "yanchor": "middle",
          "yref": "paper"
         },
         {
          "font": {},
          "showarrow": false,
          "text": "variable=batch_train_loss",
          "textangle": 90,
          "x": 0.98,
          "xanchor": "left",
          "xref": "paper",
          "y": 0.7575000000000001,
          "yanchor": "middle",
          "yref": "paper"
         }
        ],
        "legend": {
         "tracegroupgap": 0
        },
        "template": {
         "data": {
          "bar": [
           {
            "error_x": {
             "color": "#2a3f5f"
            },
            "error_y": {
             "color": "#2a3f5f"
            },
            "marker": {
             "line": {
              "color": "#E5ECF6",
              "width": 0.5
             },
             "pattern": {
              "fillmode": "overlay",
              "size": 10,
              "solidity": 0.2
             }
            },
            "type": "bar"
           }
          ],
          "barpolar": [
           {
            "marker": {
             "line": {
              "color": "#E5ECF6",
              "width": 0.5
             },
             "pattern": {
              "fillmode": "overlay",
              "size": 10,
              "solidity": 0.2
             }
            },
            "type": "barpolar"
           }
          ],
          "carpet": [
           {
            "aaxis": {
             "endlinecolor": "#2a3f5f",
             "gridcolor": "white",
             "linecolor": "white",
             "minorgridcolor": "white",
             "startlinecolor": "#2a3f5f"
            },
            "baxis": {
             "endlinecolor": "#2a3f5f",
             "gridcolor": "white",
             "linecolor": "white",
             "minorgridcolor": "white",
             "startlinecolor": "#2a3f5f"
            },
            "type": "carpet"
           }
          ],
          "choropleth": [
           {
            "colorbar": {
             "outlinewidth": 0,
             "ticks": ""
            },
            "type": "choropleth"
           }
          ],
          "contour": [
           {
            "colorbar": {
             "outlinewidth": 0,
             "ticks": ""
            },
            "colorscale": [
             [
              0,
              "#0d0887"
             ],
             [
              0.1111111111111111,
              "#46039f"
             ],
             [
              0.2222222222222222,
              "#7201a8"
             ],
             [
              0.3333333333333333,
              "#9c179e"
             ],
             [
              0.4444444444444444,
              "#bd3786"
             ],
             [
              0.5555555555555556,
              "#d8576b"
             ],
             [
              0.6666666666666666,
              "#ed7953"
             ],
             [
              0.7777777777777778,
              "#fb9f3a"
             ],
             [
              0.8888888888888888,
              "#fdca26"
             ],
             [
              1,
              "#f0f921"
             ]
            ],
            "type": "contour"
           }
          ],
          "contourcarpet": [
           {
            "colorbar": {
             "outlinewidth": 0,
             "ticks": ""
            },
            "type": "contourcarpet"
           }
          ],
          "heatmap": [
           {
            "colorbar": {
             "outlinewidth": 0,
             "ticks": ""
            },
            "colorscale": [
             [
              0,
              "#0d0887"
             ],
             [
              0.1111111111111111,
              "#46039f"
             ],
             [
              0.2222222222222222,
              "#7201a8"
             ],
             [
              0.3333333333333333,
              "#9c179e"
             ],
             [
              0.4444444444444444,
              "#bd3786"
             ],
             [
              0.5555555555555556,
              "#d8576b"
             ],
             [
              0.6666666666666666,
              "#ed7953"
             ],
             [
              0.7777777777777778,
              "#fb9f3a"
             ],
             [
              0.8888888888888888,
              "#fdca26"
             ],
             [
              1,
              "#f0f921"
             ]
            ],
            "type": "heatmap"
           }
          ],
          "histogram": [
           {
            "marker": {
             "pattern": {
              "fillmode": "overlay",
              "size": 10,
              "solidity": 0.2
             }
            },
            "type": "histogram"
           }
          ],
          "histogram2d": [
           {
            "colorbar": {
             "outlinewidth": 0,
             "ticks": ""
            },
            "colorscale": [
             [
              0,
              "#0d0887"
             ],
             [
              0.1111111111111111,
              "#46039f"
             ],
             [
              0.2222222222222222,
              "#7201a8"
             ],
             [
              0.3333333333333333,
              "#9c179e"
             ],
             [
              0.4444444444444444,
              "#bd3786"
             ],
             [
              0.5555555555555556,
              "#d8576b"
             ],
             [
              0.6666666666666666,
              "#ed7953"
             ],
             [
              0.7777777777777778,
              "#fb9f3a"
             ],
             [
              0.8888888888888888,
              "#fdca26"
             ],
             [
              1,
              "#f0f921"
             ]
            ],
            "type": "histogram2d"
           }
          ],
          "histogram2dcontour": [
           {
            "colorbar": {
             "outlinewidth": 0,
             "ticks": ""
            },
            "colorscale": [
             [
              0,
              "#0d0887"
             ],
             [
              0.1111111111111111,
              "#46039f"
             ],
             [
              0.2222222222222222,
              "#7201a8"
             ],
             [
              0.3333333333333333,
              "#9c179e"
             ],
             [
              0.4444444444444444,
              "#bd3786"
             ],
             [
              0.5555555555555556,
              "#d8576b"
             ],
             [
              0.6666666666666666,
              "#ed7953"
             ],
             [
              0.7777777777777778,
              "#fb9f3a"
             ],
             [
              0.8888888888888888,
              "#fdca26"
             ],
             [
              1,
              "#f0f921"
             ]
            ],
            "type": "histogram2dcontour"
           }
          ],
          "mesh3d": [
           {
            "colorbar": {
             "outlinewidth": 0,
             "ticks": ""
            },
            "type": "mesh3d"
           }
          ],
          "parcoords": [
           {
            "line": {
             "colorbar": {
              "outlinewidth": 0,
              "ticks": ""
             }
            },
            "type": "parcoords"
           }
          ],
          "pie": [
           {
            "automargin": true,
            "type": "pie"
           }
          ],
          "scatter": [
           {
            "fillpattern": {
             "fillmode": "overlay",
             "size": 10,
             "solidity": 0.2
            },
            "type": "scatter"
           }
          ],
          "scatter3d": [
           {
            "line": {
             "colorbar": {
              "outlinewidth": 0,
              "ticks": ""
             }
            },
            "marker": {
             "colorbar": {
              "outlinewidth": 0,
              "ticks": ""
             }
            },
            "type": "scatter3d"
           }
          ],
          "scattercarpet": [
           {
            "marker": {
             "colorbar": {
              "outlinewidth": 0,
              "ticks": ""
             }
            },
            "type": "scattercarpet"
           }
          ],
          "scattergeo": [
           {
            "marker": {
             "colorbar": {
              "outlinewidth": 0,
              "ticks": ""
             }
            },
            "type": "scattergeo"
           }
          ],
          "scattergl": [
           {
            "marker": {
             "colorbar": {
              "outlinewidth": 0,
              "ticks": ""
             }
            },
            "type": "scattergl"
           }
          ],
          "scattermap": [
           {
            "marker": {
             "colorbar": {
              "outlinewidth": 0,
              "ticks": ""
             }
            },
            "type": "scattermap"
           }
          ],
          "scattermapbox": [
           {
            "marker": {
             "colorbar": {
              "outlinewidth": 0,
              "ticks": ""
             }
            },
            "type": "scattermapbox"
           }
          ],
          "scatterpolar": [
           {
            "marker": {
             "colorbar": {
              "outlinewidth": 0,
              "ticks": ""
             }
            },
            "type": "scatterpolar"
           }
          ],
          "scatterpolargl": [
           {
            "marker": {
             "colorbar": {
              "outlinewidth": 0,
              "ticks": ""
             }
            },
            "type": "scatterpolargl"
           }
          ],
          "scatterternary": [
           {
            "marker": {
             "colorbar": {
              "outlinewidth": 0,
              "ticks": ""
             }
            },
            "type": "scatterternary"
           }
          ],
          "surface": [
           {
            "colorbar": {
             "outlinewidth": 0,
             "ticks": ""
            },
            "colorscale": [
             [
              0,
              "#0d0887"
             ],
             [
              0.1111111111111111,
              "#46039f"
             ],
             [
              0.2222222222222222,
              "#7201a8"
             ],
             [
              0.3333333333333333,
              "#9c179e"
             ],
             [
              0.4444444444444444,
              "#bd3786"
             ],
             [
              0.5555555555555556,
              "#d8576b"
             ],
             [
              0.6666666666666666,
              "#ed7953"
             ],
             [
              0.7777777777777778,
              "#fb9f3a"
             ],
             [
              0.8888888888888888,
              "#fdca26"
             ],
             [
              1,
              "#f0f921"
             ]
            ],
            "type": "surface"
           }
          ],
          "table": [
           {
            "cells": {
             "fill": {
              "color": "#EBF0F8"
             },
             "line": {
              "color": "white"
             }
            },
            "header": {
             "fill": {
              "color": "#C8D4E3"
             },
             "line": {
              "color": "white"
             }
            },
            "type": "table"
           }
          ]
         },
         "layout": {
          "annotationdefaults": {
           "arrowcolor": "#2a3f5f",
           "arrowhead": 0,
           "arrowwidth": 1
          },
          "autotypenumbers": "strict",
          "coloraxis": {
           "colorbar": {
            "outlinewidth": 0,
            "ticks": ""
           }
          },
          "colorscale": {
           "diverging": [
            [
             0,
             "#8e0152"
            ],
            [
             0.1,
             "#c51b7d"
            ],
            [
             0.2,
             "#de77ae"
            ],
            [
             0.3,
             "#f1b6da"
            ],
            [
             0.4,
             "#fde0ef"
            ],
            [
             0.5,
             "#f7f7f7"
            ],
            [
             0.6,
             "#e6f5d0"
            ],
            [
             0.7,
             "#b8e186"
            ],
            [
             0.8,
             "#7fbc41"
            ],
            [
             0.9,
             "#4d9221"
            ],
            [
             1,
             "#276419"
            ]
           ],
           "sequential": [
            [
             0,
             "#0d0887"
            ],
            [
             0.1111111111111111,
             "#46039f"
            ],
            [
             0.2222222222222222,
             "#7201a8"
            ],
            [
             0.3333333333333333,
             "#9c179e"
            ],
            [
             0.4444444444444444,
             "#bd3786"
            ],
            [
             0.5555555555555556,
             "#d8576b"
            ],
            [
             0.6666666666666666,
             "#ed7953"
            ],
            [
             0.7777777777777778,
             "#fb9f3a"
            ],
            [
             0.8888888888888888,
             "#fdca26"
            ],
            [
             1,
             "#f0f921"
            ]
           ],
           "sequentialminus": [
            [
             0,
             "#0d0887"
            ],
            [
             0.1111111111111111,
             "#46039f"
            ],
            [
             0.2222222222222222,
             "#7201a8"
            ],
            [
             0.3333333333333333,
             "#9c179e"
            ],
            [
             0.4444444444444444,
             "#bd3786"
            ],
            [
             0.5555555555555556,
             "#d8576b"
            ],
            [
             0.6666666666666666,
             "#ed7953"
            ],
            [
             0.7777777777777778,
             "#fb9f3a"
            ],
            [
             0.8888888888888888,
             "#fdca26"
            ],
            [
             1,
             "#f0f921"
            ]
           ]
          },
          "colorway": [
           "#636efa",
           "#EF553B",
           "#00cc96",
           "#ab63fa",
           "#FFA15A",
           "#19d3f3",
           "#FF6692",
           "#B6E880",
           "#FF97FF",
           "#FECB52"
          ],
          "font": {
           "color": "#2a3f5f"
          },
          "geo": {
           "bgcolor": "white",
           "lakecolor": "white",
           "landcolor": "#E5ECF6",
           "showlakes": true,
           "showland": true,
           "subunitcolor": "white"
          },
          "hoverlabel": {
           "align": "left"
          },
          "hovermode": "closest",
          "mapbox": {
           "style": "light"
          },
          "paper_bgcolor": "white",
          "plot_bgcolor": "#E5ECF6",
          "polar": {
           "angularaxis": {
            "gridcolor": "white",
            "linecolor": "white",
            "ticks": ""
           },
           "bgcolor": "#E5ECF6",
           "radialaxis": {
            "gridcolor": "white",
            "linecolor": "white",
            "ticks": ""
           }
          },
          "scene": {
           "xaxis": {
            "backgroundcolor": "#E5ECF6",
            "gridcolor": "white",
            "gridwidth": 2,
            "linecolor": "white",
            "showbackground": true,
            "ticks": "",
            "zerolinecolor": "white"
           },
           "yaxis": {
            "backgroundcolor": "#E5ECF6",
            "gridcolor": "white",
            "gridwidth": 2,
            "linecolor": "white",
            "showbackground": true,
            "ticks": "",
            "zerolinecolor": "white"
           },
           "zaxis": {
            "backgroundcolor": "#E5ECF6",
            "gridcolor": "white",
            "gridwidth": 2,
            "linecolor": "white",
            "showbackground": true,
            "ticks": "",
            "zerolinecolor": "white"
           }
          },
          "shapedefaults": {
           "line": {
            "color": "#2a3f5f"
           }
          },
          "ternary": {
           "aaxis": {
            "gridcolor": "white",
            "linecolor": "white",
            "ticks": ""
           },
           "baxis": {
            "gridcolor": "white",
            "linecolor": "white",
            "ticks": ""
           },
           "bgcolor": "#E5ECF6",
           "caxis": {
            "gridcolor": "white",
            "linecolor": "white",
            "ticks": ""
           }
          },
          "title": {
           "x": 0.05
          },
          "xaxis": {
           "automargin": true,
           "gridcolor": "white",
           "linecolor": "white",
           "ticks": "",
           "title": {
            "standoff": 15
           },
           "zerolinecolor": "white",
           "zerolinewidth": 2
          },
          "yaxis": {
           "automargin": true,
           "gridcolor": "white",
           "linecolor": "white",
           "ticks": "",
           "title": {
            "standoff": 15
           },
           "zerolinecolor": "white",
           "zerolinewidth": 2
          }
         }
        },
        "title": {
         "text": "batch metrics"
        },
        "xaxis": {
         "anchor": "y",
         "domain": [
          0,
          0.98
         ],
         "title": {
          "text": "step"
         }
        },
        "xaxis2": {
         "anchor": "y2",
         "domain": [
          0,
          0.98
         ],
         "matches": "x",
         "showticklabels": false
        },
        "yaxis": {
         "anchor": "x",
         "domain": [
          0,
          0.485
         ],
         "title": {
          "text": "value"
         }
        },
        "yaxis2": {
         "anchor": "x2",
         "domain": [
          0.515,
          1
         ],
         "title": {
          "text": "value"
         }
        }
       }
      }
     },
     "metadata": {},
     "output_type": "display_data"
    },
    {
     "data": {
      "application/vnd.plotly.v1+json": {
       "config": {
        "plotlyServerURL": "https://plot.ly"
       },
       "data": [
        {
         "hovertemplate": "variable=train_epoch_loss<br>step=%{x}<br>value=%{y}<extra></extra>",
         "legendgroup": "train_epoch_loss",
         "line": {
          "color": "#636efa",
          "dash": "solid"
         },
         "marker": {
          "symbol": "circle"
         },
         "mode": "lines",
         "name": "train_epoch_loss",
         "orientation": "v",
         "showlegend": true,
         "type": "scatter",
         "x": {
          "bdata": "GQAzAE0AZwCBAJsAtQDPAOkAAwEdATcBUQFrAYUBnwG5AdMB7QEHAiECOwJVAm8CiQKjAr0C1wLxAgsDJQM/A1kDcwONA6cDwQPbA/UDDwQpBEMEXQR3BJEEqwTFBN8E+QQTBQ==",
          "dtype": "i2"
         },
         "xaxis": "x4",
         "y": {
          "bdata": "Yid24isqAkDFTuyUjAICQMVO7HQv1AFAdmInNqbDAUDsxE78d7EBQMVO7PR1rQFAYid28lyoAUCe2Ik90Z0BQGIndsJ4mAFAntiJnbieAUCe2Imdc6YBQCd2YpeunAFAxU7spOqbAUA7sRNL0JsBQMVO7GQTlgFAFDuxI/uTAUCe2Imd8JEBQHZiJ5YukwFAip3Y6e2PAUCxEzuhBosBQCd2YgeVhwFAAAAA0E2AAUDFTuwE0XwBQJ7Yic2yeQFAFDuxY5l8AUAndmKXPnoBQOzEThy0eQFAYid2QgR+AUDsxE4c43oBQOzETnzJewFAdmInFqJ4AUDsxE5MInoBQLETOyHmeQFA2YmdGMd6AUA7sRP723YBQGInduK5fAFAip3YifOEAUA7sROrPoABQLETO0HKiwFAdmInlraAAUDsxE6MSIMBQOzETuxOgAFAO7ETG4x7AUDsxE78UHgBQAAAALARggFAsRM7QX18AUCKndhpKXgBQNmJnajHdQFAip3YuahvAUBP7MQuaWsBQA==",
          "dtype": "f8"
         },
         "yaxis": "y4"
        },
        {
         "hovertemplate": "variable=train_epoch_accuracy<br>step=%{x}<br>value=%{y}<extra></extra>",
         "legendgroup": "train_epoch_accuracy",
         "line": {
          "color": "#EF553B",
          "dash": "solid"
         },
         "marker": {
          "symbol": "circle"
         },
         "mode": "lines",
         "name": "train_epoch_accuracy",
         "orientation": "v",
         "showlegend": true,
         "type": "scatter",
         "x": {
          "bdata": "GQAzAE0AZwCBAJsAtQDPAOkAAwEdATcBUQFrAYUBnwG5AdMB7QEHAiECOwJVAm8CiQKjAr0C1wLxAgsDJQM/A1kDcwONA6cDwQPbA/UDDwQpBEMEXQR3BJEEqwTFBN8E+QQTBQ==",
          "dtype": "i2"
         },
         "xaxis": "x3",
         "y": {
          "bdata": "Jk3DJU3T5j/wZcjvZXjnP//DEv/DMug/QVWQQVVw6D9vM4JuM7LoP2dTGGdTyOg/lbwylbzS6D8a3y0a3/3oP0ut1EqtFOk/Of1LOP376D+u1Eqt1NroP+7t7e3t/eg/TrDXTbAH6T/Keo7Jev7oP7unbLunHOk/ynqOyXoe6T/iHc/iHS/pP9Fa+NBaKOk/NfpINfo46T/GitnFiknpP/XgpfTgVek/tiyPtixv6T9rQ81qQ33pP5chv5chf+k/RM1qQ8166T93nhR3noTpP69MJa9Mhek/STX6SDV66T90mxF0m4HpP6IELKIEfOk/krkvkrmP6T+gjFGgjIHpP7HE/7DEf+k/nxR3nhSH6T/Uv4TTv5TpPzdyIzdyg+k/Cx9aCx9q6T+MUaCMUXDpP5BBVZBBRek/8fDw8PBw6T++H0e9H2fpP3YT7HUTbOk/8fDw8PCA6T+amZmZmZnpP+Gl9OClZOk/IEe9H0d96T/3RTL3RZLpP+r9OOr9mOk/Gt8tGt+t6T9myO9lyL/pPw==",
          "dtype": "f8"
         },
         "yaxis": "y3"
        },
        {
         "hovertemplate": "variable=validation_loss<br>step=%{x}<br>value=%{y}<extra></extra>",
         "legendgroup": "validation_loss",
         "line": {
          "color": "#00cc96",
          "dash": "solid"
         },
         "marker": {
          "symbol": "circle"
         },
         "mode": "lines",
         "name": "validation_loss",
         "orientation": "v",
         "showlegend": true,
         "type": "scatter",
         "x": {
          "bdata": "GQAzAE0AZwCBAJsAtQDPAOkAAwEdATcBUQFrAYUBnwG5AdMB7QEHAiECOwJVAm8CiQKjAr0C1wLxAgsDJQM/A1kDcwONA6cDwQPbA/UDDwQpBEMEXQR3BJEEqwTFBN8E+QQTBQ==",
          "dtype": "i2"
         },
         "xaxis": "x2",
         "y": {
          "bdata": "AAAAIA0gAkAlSZIklwYCQNu2bTuPBwJAbtu2zdoCAkDbtm2bKAECQLdt25YB/wFA27Zt+xsAAkAAAACA5QYCQJIkSdLIDQJAt23bNr8eAkAAAAAgBTcCQCVJkqSLLgJAAAAAwI40AkBu27YN5igCQNu2bfu0QAJAAAAA4BRKAkC3bdtWnkECQAAAAMCNUQJAJUmS5K1LAkAAAACA/EACQAAAAKDuTQJA27Zt22k3AkCSJEkSQyYCQLdt2zZNKwJAbtu2rbgwAkAlSZKEnC8CQG7bto3fNgJASZIkSfpQAkAlSZLEeEoCQLdt27YuawJAt23b9nNOAkAlSZJkfGgCQLdt29aRWwJAbtu2zVldAkAlSZKEcnoCQCVJkuTvegJAkiRJ0qKQAkC3bdt2BJYCQCVJkuQlkQJAt23bNk6jAkDbtm37J6sCQJIkSdIofgJA27ZtG8WTAkCSJEkShKICQAAAAOBwhgJAt23bNgiIAkDbtm37IpoCQG7btq3zpgJAbtu2zU6TAkAlSZKEBJECQA==",
          "dtype": "f8"
         },
         "yaxis": "y2"
        },
        {
         "hovertemplate": "variable=validation_accuracy<br>step=%{x}<br>value=%{y}<extra></extra>",
         "legendgroup": "validation_accuracy",
         "line": {
          "color": "#ab63fa",
          "dash": "solid"
         },
         "marker": {
          "symbol": "circle"
         },
         "mode": "lines",
         "name": "validation_accuracy",
         "orientation": "v",
         "showlegend": true,
         "type": "scatter",
         "x": {
          "bdata": "GQAzAE0AZwCBAJsAtQDPAOkAAwEdATcBUQFrAYUBnwG5AdMB7QEHAiECOwJVAm8CiQKjAr0C1wLxAgsDJQM/A1kDcwONA6cDwQPbA/UDDwQpBEMEXQR3BJEEqwTFBN8E+QQTBQ==",
          "dtype": "i2"
         },
         "xaxis": "x",
         "y": {
          "bdata": "kRd5kRf55j+ogzqogzrnP43JmIzJeOc/Fl/xFV9x5z86qIM6qGPnP6iDOqiDmuc/zczMzMxs5z+apmmapmnnP7ESK7ESS+c/jcmYjMnY5j8DNEADNMDmP3/sx37sp+Y/NlqjNVqj5j9RFEVRFOXmP1EURVEUpeY/v+/7vu875j+xEiuxEmvmP0M3dEM3VOY/AzRAAzRA5j+NyZiMyXjmP2iABmiARuY/v+/7vu+b5j92Xdd1XffmP9qpndqp3eY/dl3XdV235j+/7/u+79vmPzqogzqoo+Y/zczMzMxM5j9IhVRIhVTmPwiCIAiC4OU/mqZpmqZJ5j/xFV/xFd/lP7ESK7ESC+Y/Fl/xFV/x5T/xFV/xFZ/lP6iDOqiDmuU/ozVaozVa5T+jNVqjNfrkPwiCIAiCYOU/KH3SJ33S5D82WqM1WgPlP7ESK7ESi+U/yH7sx35M5T/NzMzMzOzkPwM0QAM0IOU/zczMzMyM5T9DN3RDNxTlP43JmIzJ+OQ/dl3XdV0X5T+/7/u+7zvlPw==",
          "dtype": "f8"
         },
         "yaxis": "y"
        }
       ],
       "layout": {
        "annotations": [
         {
          "font": {},
          "showarrow": false,
          "text": "variable=validation_accuracy",
          "textangle": 90,
          "x": 0.98,
          "xanchor": "left",
          "xref": "paper",
          "y": 0.11375,
          "yanchor": "middle",
          "yref": "paper"
         },
         {
          "font": {},
          "showarrow": false,
          "text": "variable=validation_loss",
          "textangle": 90,
          "x": 0.98,
          "xanchor": "left",
          "xref": "paper",
          "y": 0.37124999999999997,
          "yanchor": "middle",
          "yref": "paper"
         },
         {
          "font": {},
          "showarrow": false,
          "text": "variable=train_epoch_accuracy",
          "textangle": 90,
          "x": 0.98,
          "xanchor": "left",
          "xref": "paper",
          "y": 0.62875,
          "yanchor": "middle",
          "yref": "paper"
         },
         {
          "font": {},
          "showarrow": false,
          "text": "variable=train_epoch_loss",
          "textangle": 90,
          "x": 0.98,
          "xanchor": "left",
          "xref": "paper",
          "y": 0.88625,
          "yanchor": "middle",
          "yref": "paper"
         }
        ],
        "legend": {
         "title": {
          "text": "variable"
         },
         "tracegroupgap": 0
        },
        "template": {
         "data": {
          "bar": [
           {
            "error_x": {
             "color": "#2a3f5f"
            },
            "error_y": {
             "color": "#2a3f5f"
            },
            "marker": {
             "line": {
              "color": "#E5ECF6",
              "width": 0.5
             },
             "pattern": {
              "fillmode": "overlay",
              "size": 10,
              "solidity": 0.2
             }
            },
            "type": "bar"
           }
          ],
          "barpolar": [
           {
            "marker": {
             "line": {
              "color": "#E5ECF6",
              "width": 0.5
             },
             "pattern": {
              "fillmode": "overlay",
              "size": 10,
              "solidity": 0.2
             }
            },
            "type": "barpolar"
           }
          ],
          "carpet": [
           {
            "aaxis": {
             "endlinecolor": "#2a3f5f",
             "gridcolor": "white",
             "linecolor": "white",
             "minorgridcolor": "white",
             "startlinecolor": "#2a3f5f"
            },
            "baxis": {
             "endlinecolor": "#2a3f5f",
             "gridcolor": "white",
             "linecolor": "white",
             "minorgridcolor": "white",
             "startlinecolor": "#2a3f5f"
            },
            "type": "carpet"
           }
          ],
          "choropleth": [
           {
            "colorbar": {
             "outlinewidth": 0,
             "ticks": ""
            },
            "type": "choropleth"
           }
          ],
          "contour": [
           {
            "colorbar": {
             "outlinewidth": 0,
             "ticks": ""
            },
            "colorscale": [
             [
              0,
              "#0d0887"
             ],
             [
              0.1111111111111111,
              "#46039f"
             ],
             [
              0.2222222222222222,
              "#7201a8"
             ],
             [
              0.3333333333333333,
              "#9c179e"
             ],
             [
              0.4444444444444444,
              "#bd3786"
             ],
             [
              0.5555555555555556,
              "#d8576b"
             ],
             [
              0.6666666666666666,
              "#ed7953"
             ],
             [
              0.7777777777777778,
              "#fb9f3a"
             ],
             [
              0.8888888888888888,
              "#fdca26"
             ],
             [
              1,
              "#f0f921"
             ]
            ],
            "type": "contour"
           }
          ],
          "contourcarpet": [
           {
            "colorbar": {
             "outlinewidth": 0,
             "ticks": ""
            },
            "type": "contourcarpet"
           }
          ],
          "heatmap": [
           {
            "colorbar": {
             "outlinewidth": 0,
             "ticks": ""
            },
            "colorscale": [
             [
              0,
              "#0d0887"
             ],
             [
              0.1111111111111111,
              "#46039f"
             ],
             [
              0.2222222222222222,
              "#7201a8"
             ],
             [
              0.3333333333333333,
              "#9c179e"
             ],
             [
              0.4444444444444444,
              "#bd3786"
             ],
             [
              0.5555555555555556,
              "#d8576b"
             ],
             [
              0.6666666666666666,
              "#ed7953"
             ],
             [
              0.7777777777777778,
              "#fb9f3a"
             ],
             [
              0.8888888888888888,
              "#fdca26"
             ],
             [
              1,
              "#f0f921"
             ]
            ],
            "type": "heatmap"
           }
          ],
          "histogram": [
           {
            "marker": {
             "pattern": {
              "fillmode": "overlay",
              "size": 10,
              "solidity": 0.2
             }
            },
            "type": "histogram"
           }
          ],
          "histogram2d": [
           {
            "colorbar": {
             "outlinewidth": 0,
             "ticks": ""
            },
            "colorscale": [
             [
              0,
              "#0d0887"
             ],
             [
              0.1111111111111111,
              "#46039f"
             ],
             [
              0.2222222222222222,
              "#7201a8"
             ],
             [
              0.3333333333333333,
              "#9c179e"
             ],
             [
              0.4444444444444444,
              "#bd3786"
             ],
             [
              0.5555555555555556,
              "#d8576b"
             ],
             [
              0.6666666666666666,
              "#ed7953"
             ],
             [
              0.7777777777777778,
              "#fb9f3a"
             ],
             [
              0.8888888888888888,
              "#fdca26"
             ],
             [
              1,
              "#f0f921"
             ]
            ],
            "type": "histogram2d"
           }
          ],
          "histogram2dcontour": [
           {
            "colorbar": {
             "outlinewidth": 0,
             "ticks": ""
            },
            "colorscale": [
             [
              0,
              "#0d0887"
             ],
             [
              0.1111111111111111,
              "#46039f"
             ],
             [
              0.2222222222222222,
              "#7201a8"
             ],
             [
              0.3333333333333333,
              "#9c179e"
             ],
             [
              0.4444444444444444,
              "#bd3786"
             ],
             [
              0.5555555555555556,
              "#d8576b"
             ],
             [
              0.6666666666666666,
              "#ed7953"
             ],
             [
              0.7777777777777778,
              "#fb9f3a"
             ],
             [
              0.8888888888888888,
              "#fdca26"
             ],
             [
              1,
              "#f0f921"
             ]
            ],
            "type": "histogram2dcontour"
           }
          ],
          "mesh3d": [
           {
            "colorbar": {
             "outlinewidth": 0,
             "ticks": ""
            },
            "type": "mesh3d"
           }
          ],
          "parcoords": [
           {
            "line": {
             "colorbar": {
              "outlinewidth": 0,
              "ticks": ""
             }
            },
            "type": "parcoords"
           }
          ],
          "pie": [
           {
            "automargin": true,
            "type": "pie"
           }
          ],
          "scatter": [
           {
            "fillpattern": {
             "fillmode": "overlay",
             "size": 10,
             "solidity": 0.2
            },
            "type": "scatter"
           }
          ],
          "scatter3d": [
           {
            "line": {
             "colorbar": {
              "outlinewidth": 0,
              "ticks": ""
             }
            },
            "marker": {
             "colorbar": {
              "outlinewidth": 0,
              "ticks": ""
             }
            },
            "type": "scatter3d"
           }
          ],
          "scattercarpet": [
           {
            "marker": {
             "colorbar": {
              "outlinewidth": 0,
              "ticks": ""
             }
            },
            "type": "scattercarpet"
           }
          ],
          "scattergeo": [
           {
            "marker": {
             "colorbar": {
              "outlinewidth": 0,
              "ticks": ""
             }
            },
            "type": "scattergeo"
           }
          ],
          "scattergl": [
           {
            "marker": {
             "colorbar": {
              "outlinewidth": 0,
              "ticks": ""
             }
            },
            "type": "scattergl"
           }
          ],
          "scattermap": [
           {
            "marker": {
             "colorbar": {
              "outlinewidth": 0,
              "ticks": ""
             }
            },
            "type": "scattermap"
           }
          ],
          "scattermapbox": [
           {
            "marker": {
             "colorbar": {
              "outlinewidth": 0,
              "ticks": ""
             }
            },
            "type": "scattermapbox"
           }
          ],
          "scatterpolar": [
           {
            "marker": {
             "colorbar": {
              "outlinewidth": 0,
              "ticks": ""
             }
            },
            "type": "scatterpolar"
           }
          ],
          "scatterpolargl": [
           {
            "marker": {
             "colorbar": {
              "outlinewidth": 0,
              "ticks": ""
             }
            },
            "type": "scatterpolargl"
           }
          ],
          "scatterternary": [
           {
            "marker": {
             "colorbar": {
              "outlinewidth": 0,
              "ticks": ""
             }
            },
            "type": "scatterternary"
           }
          ],
          "surface": [
           {
            "colorbar": {
             "outlinewidth": 0,
             "ticks": ""
            },
            "colorscale": [
             [
              0,
              "#0d0887"
             ],
             [
              0.1111111111111111,
              "#46039f"
             ],
             [
              0.2222222222222222,
              "#7201a8"
             ],
             [
              0.3333333333333333,
              "#9c179e"
             ],
             [
              0.4444444444444444,
              "#bd3786"
             ],
             [
              0.5555555555555556,
              "#d8576b"
             ],
             [
              0.6666666666666666,
              "#ed7953"
             ],
             [
              0.7777777777777778,
              "#fb9f3a"
             ],
             [
              0.8888888888888888,
              "#fdca26"
             ],
             [
              1,
              "#f0f921"
             ]
            ],
            "type": "surface"
           }
          ],
          "table": [
           {
            "cells": {
             "fill": {
              "color": "#EBF0F8"
             },
             "line": {
              "color": "white"
             }
            },
            "header": {
             "fill": {
              "color": "#C8D4E3"
             },
             "line": {
              "color": "white"
             }
            },
            "type": "table"
           }
          ]
         },
         "layout": {
          "annotationdefaults": {
           "arrowcolor": "#2a3f5f",
           "arrowhead": 0,
           "arrowwidth": 1
          },
          "autotypenumbers": "strict",
          "coloraxis": {
           "colorbar": {
            "outlinewidth": 0,
            "ticks": ""
           }
          },
          "colorscale": {
           "diverging": [
            [
             0,
             "#8e0152"
            ],
            [
             0.1,
             "#c51b7d"
            ],
            [
             0.2,
             "#de77ae"
            ],
            [
             0.3,
             "#f1b6da"
            ],
            [
             0.4,
             "#fde0ef"
            ],
            [
             0.5,
             "#f7f7f7"
            ],
            [
             0.6,
             "#e6f5d0"
            ],
            [
             0.7,
             "#b8e186"
            ],
            [
             0.8,
             "#7fbc41"
            ],
            [
             0.9,
             "#4d9221"
            ],
            [
             1,
             "#276419"
            ]
           ],
           "sequential": [
            [
             0,
             "#0d0887"
            ],
            [
             0.1111111111111111,
             "#46039f"
            ],
            [
             0.2222222222222222,
             "#7201a8"
            ],
            [
             0.3333333333333333,
             "#9c179e"
            ],
            [
             0.4444444444444444,
             "#bd3786"
            ],
            [
             0.5555555555555556,
             "#d8576b"
            ],
            [
             0.6666666666666666,
             "#ed7953"
            ],
            [
             0.7777777777777778,
             "#fb9f3a"
            ],
            [
             0.8888888888888888,
             "#fdca26"
            ],
            [
             1,
             "#f0f921"
            ]
           ],
           "sequentialminus": [
            [
             0,
             "#0d0887"
            ],
            [
             0.1111111111111111,
             "#46039f"
            ],
            [
             0.2222222222222222,
             "#7201a8"
            ],
            [
             0.3333333333333333,
             "#9c179e"
            ],
            [
             0.4444444444444444,
             "#bd3786"
            ],
            [
             0.5555555555555556,
             "#d8576b"
            ],
            [
             0.6666666666666666,
             "#ed7953"
            ],
            [
             0.7777777777777778,
             "#fb9f3a"
            ],
            [
             0.8888888888888888,
             "#fdca26"
            ],
            [
             1,
             "#f0f921"
            ]
           ]
          },
          "colorway": [
           "#636efa",
           "#EF553B",
           "#00cc96",
           "#ab63fa",
           "#FFA15A",
           "#19d3f3",
           "#FF6692",
           "#B6E880",
           "#FF97FF",
           "#FECB52"
          ],
          "font": {
           "color": "#2a3f5f"
          },
          "geo": {
           "bgcolor": "white",
           "lakecolor": "white",
           "landcolor": "#E5ECF6",
           "showlakes": true,
           "showland": true,
           "subunitcolor": "white"
          },
          "hoverlabel": {
           "align": "left"
          },
          "hovermode": "closest",
          "mapbox": {
           "style": "light"
          },
          "paper_bgcolor": "white",
          "plot_bgcolor": "#E5ECF6",
          "polar": {
           "angularaxis": {
            "gridcolor": "white",
            "linecolor": "white",
            "ticks": ""
           },
           "bgcolor": "#E5ECF6",
           "radialaxis": {
            "gridcolor": "white",
            "linecolor": "white",
            "ticks": ""
           }
          },
          "scene": {
           "xaxis": {
            "backgroundcolor": "#E5ECF6",
            "gridcolor": "white",
            "gridwidth": 2,
            "linecolor": "white",
            "showbackground": true,
            "ticks": "",
            "zerolinecolor": "white"
           },
           "yaxis": {
            "backgroundcolor": "#E5ECF6",
            "gridcolor": "white",
            "gridwidth": 2,
            "linecolor": "white",
            "showbackground": true,
            "ticks": "",
            "zerolinecolor": "white"
           },
           "zaxis": {
            "backgroundcolor": "#E5ECF6",
            "gridcolor": "white",
            "gridwidth": 2,
            "linecolor": "white",
            "showbackground": true,
            "ticks": "",
            "zerolinecolor": "white"
           }
          },
          "shapedefaults": {
           "line": {
            "color": "#2a3f5f"
           }
          },
          "ternary": {
           "aaxis": {
            "gridcolor": "white",
            "linecolor": "white",
            "ticks": ""
           },
           "baxis": {
            "gridcolor": "white",
            "linecolor": "white",
            "ticks": ""
           },
           "bgcolor": "#E5ECF6",
           "caxis": {
            "gridcolor": "white",
            "linecolor": "white",
            "ticks": ""
           }
          },
          "title": {
           "x": 0.05
          },
          "xaxis": {
           "automargin": true,
           "gridcolor": "white",
           "linecolor": "white",
           "ticks": "",
           "title": {
            "standoff": 15
           },
           "zerolinecolor": "white",
           "zerolinewidth": 2
          },
          "yaxis": {
           "automargin": true,
           "gridcolor": "white",
           "linecolor": "white",
           "ticks": "",
           "title": {
            "standoff": 15
           },
           "zerolinecolor": "white",
           "zerolinewidth": 2
          }
         }
        },
        "title": {
         "text": "epoch metrics"
        },
        "xaxis": {
         "anchor": "y",
         "domain": [
          0,
          0.98
         ],
         "title": {
          "text": "step"
         }
        },
        "xaxis2": {
         "anchor": "y2",
         "domain": [
          0,
          0.98
         ],
         "matches": "x",
         "showticklabels": false
        },
        "xaxis3": {
         "anchor": "y3",
         "domain": [
          0,
          0.98
         ],
         "matches": "x",
         "showticklabels": false
        },
        "xaxis4": {
         "anchor": "y4",
         "domain": [
          0,
          0.98
         ],
         "matches": "x",
         "showticklabels": false
        },
        "yaxis": {
         "anchor": "x",
         "domain": [
          0,
          0.2275
         ],
         "title": {
          "text": "value"
         }
        },
        "yaxis2": {
         "anchor": "x2",
         "domain": [
          0.2575,
          0.485
         ],
         "title": {
          "text": "value"
         }
        },
        "yaxis3": {
         "anchor": "x3",
         "domain": [
          0.515,
          0.7425
         ],
         "title": {
          "text": "value"
         }
        },
        "yaxis4": {
         "anchor": "x4",
         "domain": [
          0.7725,
          1
         ],
         "title": {
          "text": "value"
         }
        }
       }
      }
     },
     "metadata": {},
     "output_type": "display_data"
    },
    {
     "name": "stdout",
     "output_type": "stream",
     "text": [
      "=========================\n",
      "training: 4\n"
     ]
    },
    {
     "data": {
      "application/vnd.jupyter.widget-view+json": {
       "model_id": "0d5a853ab73244319a9aa255e276481a",
       "version_major": 2,
       "version_minor": 0
      },
      "text/plain": [
       "Output()"
      ]
     },
     "metadata": {},
     "output_type": "display_data"
    },
    {
     "data": {
      "text/html": [
       "<pre style=\"white-space:pre;overflow-x:auto;line-height:normal;font-family:Menlo,'DejaVu Sans Mono',consolas,'Courier New',monospace\">validation loss: <span style=\"color: #008080; text-decoration-color: #008080; font-weight: bold\">2.3337864875793457</span>\n",
       "</pre>\n"
      ],
      "text/plain": [
       "validation loss: \u001b[1;36m2.3337864875793457\u001b[0m\n"
      ]
     },
     "metadata": {},
     "output_type": "display_data"
    },
    {
     "data": {
      "text/html": [
       "<pre style=\"white-space:pre;overflow-x:auto;line-height:normal;font-family:Menlo,'DejaVu Sans Mono',consolas,'Courier New',monospace\">validation loss: <span style=\"color: #008080; text-decoration-color: #008080; font-weight: bold\">2.3216093267713274</span>\n",
       "</pre>\n"
      ],
      "text/plain": [
       "validation loss: \u001b[1;36m2.3216093267713274\u001b[0m\n"
      ]
     },
     "metadata": {},
     "output_type": "display_data"
    },
    {
     "data": {
      "text/html": [
       "<pre style=\"white-space:pre;overflow-x:auto;line-height:normal;font-family:Menlo,'DejaVu Sans Mono',consolas,'Courier New',monospace\">validation loss: <span style=\"color: #008080; text-decoration-color: #008080; font-weight: bold\">2.323261226926531</span>\n",
       "</pre>\n"
      ],
      "text/plain": [
       "validation loss: \u001b[1;36m2.323261226926531\u001b[0m\n"
      ]
     },
     "metadata": {},
     "output_type": "display_data"
    },
    {
     "data": {
      "text/html": [
       "<pre style=\"white-space:pre;overflow-x:auto;line-height:normal;font-family:Menlo,'DejaVu Sans Mono',consolas,'Courier New',monospace\">validation loss: <span style=\"color: #008080; text-decoration-color: #008080; font-weight: bold\">2.3303443023136685</span>\n",
       "</pre>\n"
      ],
      "text/plain": [
       "validation loss: \u001b[1;36m2.3303443023136685\u001b[0m\n"
      ]
     },
     "metadata": {},
     "output_type": "display_data"
    },
    {
     "data": {
      "text/html": [
       "<pre style=\"white-space:pre;overflow-x:auto;line-height:normal;font-family:Menlo,'DejaVu Sans Mono',consolas,'Courier New',monospace\">validation loss: <span style=\"color: #008080; text-decoration-color: #008080; font-weight: bold\">2.322103909083775</span>\n",
       "</pre>\n"
      ],
      "text/plain": [
       "validation loss: \u001b[1;36m2.322103909083775\u001b[0m\n"
      ]
     },
     "metadata": {},
     "output_type": "display_data"
    },
    {
     "data": {
      "text/html": [
       "<pre style=\"white-space:pre;overflow-x:auto;line-height:normal;font-family:Menlo,'DejaVu Sans Mono',consolas,'Courier New',monospace\">validation loss: <span style=\"color: #008080; text-decoration-color: #008080; font-weight: bold\">2.319378444126674</span>\n",
       "</pre>\n"
      ],
      "text/plain": [
       "validation loss: \u001b[1;36m2.319378444126674\u001b[0m\n"
      ]
     },
     "metadata": {},
     "output_type": "display_data"
    },
    {
     "data": {
      "text/html": [
       "<pre style=\"white-space:pre;overflow-x:auto;line-height:normal;font-family:Menlo,'DejaVu Sans Mono',consolas,'Courier New',monospace\">validation loss: <span style=\"color: #008080; text-decoration-color: #008080; font-weight: bold\">2.3287078653063094</span>\n",
       "</pre>\n"
      ],
      "text/plain": [
       "validation loss: \u001b[1;36m2.3287078653063094\u001b[0m\n"
      ]
     },
     "metadata": {},
     "output_type": "display_data"
    },
    {
     "data": {
      "text/html": [
       "<pre style=\"white-space:pre;overflow-x:auto;line-height:normal;font-family:Menlo,'DejaVu Sans Mono',consolas,'Courier New',monospace\">validation loss: <span style=\"color: #008080; text-decoration-color: #008080; font-weight: bold\">2.319758789879935</span>\n",
       "</pre>\n"
      ],
      "text/plain": [
       "validation loss: \u001b[1;36m2.319758789879935\u001b[0m\n"
      ]
     },
     "metadata": {},
     "output_type": "display_data"
    },
    {
     "data": {
      "text/html": [
       "<pre style=\"white-space:pre;overflow-x:auto;line-height:normal;font-family:Menlo,'DejaVu Sans Mono',consolas,'Courier New',monospace\">validation loss: <span style=\"color: #008080; text-decoration-color: #008080; font-weight: bold\">2.3337857723236084</span>\n",
       "</pre>\n"
      ],
      "text/plain": [
       "validation loss: \u001b[1;36m2.3337857723236084\u001b[0m\n"
      ]
     },
     "metadata": {},
     "output_type": "display_data"
    },
    {
     "data": {
      "text/html": [
       "<pre style=\"white-space:pre;overflow-x:auto;line-height:normal;font-family:Menlo,'DejaVu Sans Mono',consolas,'Courier New',monospace\">validation loss: <span style=\"color: #008080; text-decoration-color: #008080; font-weight: bold\">2.317553860800607</span>\n",
       "</pre>\n"
      ],
      "text/plain": [
       "validation loss: \u001b[1;36m2.317553860800607\u001b[0m\n"
      ]
     },
     "metadata": {},
     "output_type": "display_data"
    },
    {
     "data": {
      "text/html": [
       "<pre style=\"white-space:pre;overflow-x:auto;line-height:normal;font-family:Menlo,'DejaVu Sans Mono',consolas,'Courier New',monospace\">validation loss: <span style=\"color: #008080; text-decoration-color: #008080; font-weight: bold\">2.317630801882063</span>\n",
       "</pre>\n"
      ],
      "text/plain": [
       "validation loss: \u001b[1;36m2.317630801882063\u001b[0m\n"
      ]
     },
     "metadata": {},
     "output_type": "display_data"
    },
    {
     "data": {
      "text/html": [
       "<pre style=\"white-space:pre;overflow-x:auto;line-height:normal;font-family:Menlo,'DejaVu Sans Mono',consolas,'Courier New',monospace\">validation loss: <span style=\"color: #008080; text-decoration-color: #008080; font-weight: bold\">2.3235999856676375</span>\n",
       "</pre>\n"
      ],
      "text/plain": [
       "validation loss: \u001b[1;36m2.3235999856676375\u001b[0m\n"
      ]
     },
     "metadata": {},
     "output_type": "display_data"
    },
    {
     "data": {
      "text/html": [
       "<pre style=\"white-space:pre;overflow-x:auto;line-height:normal;font-family:Menlo,'DejaVu Sans Mono',consolas,'Courier New',monospace\">validation loss: <span style=\"color: #008080; text-decoration-color: #008080; font-weight: bold\">2.325505086353847</span>\n",
       "</pre>\n"
      ],
      "text/plain": [
       "validation loss: \u001b[1;36m2.325505086353847\u001b[0m\n"
      ]
     },
     "metadata": {},
     "output_type": "display_data"
    },
    {
     "data": {
      "text/html": [
       "<pre style=\"white-space:pre;overflow-x:auto;line-height:normal;font-family:Menlo,'DejaVu Sans Mono',consolas,'Courier New',monospace\">validation loss: <span style=\"color: #008080; text-decoration-color: #008080; font-weight: bold\">2.328141893659319</span>\n",
       "</pre>\n"
      ],
      "text/plain": [
       "validation loss: \u001b[1;36m2.328141893659319\u001b[0m\n"
      ]
     },
     "metadata": {},
     "output_type": "display_data"
    },
    {
     "data": {
      "text/html": [
       "<pre style=\"white-space:pre;overflow-x:auto;line-height:normal;font-family:Menlo,'DejaVu Sans Mono',consolas,'Courier New',monospace\">validation loss: <span style=\"color: #008080; text-decoration-color: #008080; font-weight: bold\">2.3184770175388882</span>\n",
       "</pre>\n"
      ],
      "text/plain": [
       "validation loss: \u001b[1;36m2.3184770175388882\u001b[0m\n"
      ]
     },
     "metadata": {},
     "output_type": "display_data"
    },
    {
     "data": {
      "text/html": [
       "<pre style=\"white-space:pre;overflow-x:auto;line-height:normal;font-family:Menlo,'DejaVu Sans Mono',consolas,'Courier New',monospace\">validation loss: <span style=\"color: #008080; text-decoration-color: #008080; font-weight: bold\">2.320227929524013</span>\n",
       "</pre>\n"
      ],
      "text/plain": [
       "validation loss: \u001b[1;36m2.320227929524013\u001b[0m\n"
      ]
     },
     "metadata": {},
     "output_type": "display_data"
    },
    {
     "data": {
      "text/html": [
       "<pre style=\"white-space:pre;overflow-x:auto;line-height:normal;font-family:Menlo,'DejaVu Sans Mono',consolas,'Courier New',monospace\">validation loss: <span style=\"color: #008080; text-decoration-color: #008080; font-weight: bold\">2.326457977294922</span>\n",
       "</pre>\n"
      ],
      "text/plain": [
       "validation loss: \u001b[1;36m2.326457977294922\u001b[0m\n"
      ]
     },
     "metadata": {},
     "output_type": "display_data"
    },
    {
     "data": {
      "text/html": [
       "<pre style=\"white-space:pre;overflow-x:auto;line-height:normal;font-family:Menlo,'DejaVu Sans Mono',consolas,'Courier New',monospace\">validation loss: <span style=\"color: #008080; text-decoration-color: #008080; font-weight: bold\">2.32829863684518</span>\n",
       "</pre>\n"
      ],
      "text/plain": [
       "validation loss: \u001b[1;36m2.32829863684518\u001b[0m\n"
      ]
     },
     "metadata": {},
     "output_type": "display_data"
    },
    {
     "data": {
      "text/html": [
       "<pre style=\"white-space:pre;overflow-x:auto;line-height:normal;font-family:Menlo,'DejaVu Sans Mono',consolas,'Courier New',monospace\">validation loss: <span style=\"color: #008080; text-decoration-color: #008080; font-weight: bold\">2.3300735609872</span>\n",
       "</pre>\n"
      ],
      "text/plain": [
       "validation loss: \u001b[1;36m2.3300735609872\u001b[0m\n"
      ]
     },
     "metadata": {},
     "output_type": "display_data"
    },
    {
     "data": {
      "text/html": [
       "<pre style=\"white-space:pre;overflow-x:auto;line-height:normal;font-family:Menlo,'DejaVu Sans Mono',consolas,'Courier New',monospace\">validation loss: <span style=\"color: #008080; text-decoration-color: #008080; font-weight: bold\">2.3370277541024342</span>\n",
       "</pre>\n"
      ],
      "text/plain": [
       "validation loss: \u001b[1;36m2.3370277541024342\u001b[0m\n"
      ]
     },
     "metadata": {},
     "output_type": "display_data"
    },
    {
     "data": {
      "text/html": [
       "<pre style=\"white-space:pre;overflow-x:auto;line-height:normal;font-family:Menlo,'DejaVu Sans Mono',consolas,'Courier New',monospace\">validation loss: <span style=\"color: #008080; text-decoration-color: #008080; font-weight: bold\">2.333686453955514</span>\n",
       "</pre>\n"
      ],
      "text/plain": [
       "validation loss: \u001b[1;36m2.333686453955514\u001b[0m\n"
      ]
     },
     "metadata": {},
     "output_type": "display_data"
    },
    {
     "data": {
      "text/html": [
       "<pre style=\"white-space:pre;overflow-x:auto;line-height:normal;font-family:Menlo,'DejaVu Sans Mono',consolas,'Courier New',monospace\">validation loss: <span style=\"color: #008080; text-decoration-color: #008080; font-weight: bold\">2.3407436779567172</span>\n",
       "</pre>\n"
      ],
      "text/plain": [
       "validation loss: \u001b[1;36m2.3407436779567172\u001b[0m\n"
      ]
     },
     "metadata": {},
     "output_type": "display_data"
    },
    {
     "data": {
      "text/html": [
       "<pre style=\"white-space:pre;overflow-x:auto;line-height:normal;font-family:Menlo,'DejaVu Sans Mono',consolas,'Courier New',monospace\">validation loss: <span style=\"color: #008080; text-decoration-color: #008080; font-weight: bold\">2.3304172243390764</span>\n",
       "</pre>\n"
      ],
      "text/plain": [
       "validation loss: \u001b[1;36m2.3304172243390764\u001b[0m\n"
      ]
     },
     "metadata": {},
     "output_type": "display_data"
    },
    {
     "data": {
      "text/html": [
       "<pre style=\"white-space:pre;overflow-x:auto;line-height:normal;font-family:Menlo,'DejaVu Sans Mono',consolas,'Courier New',monospace\">validation loss: <span style=\"color: #008080; text-decoration-color: #008080; font-weight: bold\">2.328220844268799</span>\n",
       "</pre>\n"
      ],
      "text/plain": [
       "validation loss: \u001b[1;36m2.328220844268799\u001b[0m\n"
      ]
     },
     "metadata": {},
     "output_type": "display_data"
    },
    {
     "data": {
      "text/html": [
       "<pre style=\"white-space:pre;overflow-x:auto;line-height:normal;font-family:Menlo,'DejaVu Sans Mono',consolas,'Courier New',monospace\">validation loss: <span style=\"color: #008080; text-decoration-color: #008080; font-weight: bold\">2.335458414895194</span>\n",
       "</pre>\n"
      ],
      "text/plain": [
       "validation loss: \u001b[1;36m2.335458414895194\u001b[0m\n"
      ]
     },
     "metadata": {},
     "output_type": "display_data"
    },
    {
     "data": {
      "text/html": [
       "<pre style=\"white-space:pre;overflow-x:auto;line-height:normal;font-family:Menlo,'DejaVu Sans Mono',consolas,'Courier New',monospace\">validation loss: <span style=\"color: #008080; text-decoration-color: #008080; font-weight: bold\">2.340867076601301</span>\n",
       "</pre>\n"
      ],
      "text/plain": [
       "validation loss: \u001b[1;36m2.340867076601301\u001b[0m\n"
      ]
     },
     "metadata": {},
     "output_type": "display_data"
    },
    {
     "data": {
      "text/html": [
       "<pre style=\"white-space:pre;overflow-x:auto;line-height:normal;font-family:Menlo,'DejaVu Sans Mono',consolas,'Courier New',monospace\">validation loss: <span style=\"color: #008080; text-decoration-color: #008080; font-weight: bold\">2.339628594262259</span>\n",
       "</pre>\n"
      ],
      "text/plain": [
       "validation loss: \u001b[1;36m2.339628594262259\u001b[0m\n"
      ]
     },
     "metadata": {},
     "output_type": "display_data"
    },
    {
     "data": {
      "text/html": [
       "<pre style=\"white-space:pre;overflow-x:auto;line-height:normal;font-family:Menlo,'DejaVu Sans Mono',consolas,'Courier New',monospace\">validation loss: <span style=\"color: #008080; text-decoration-color: #008080; font-weight: bold\">2.3447838851383755</span>\n",
       "</pre>\n"
      ],
      "text/plain": [
       "validation loss: \u001b[1;36m2.3447838851383755\u001b[0m\n"
      ]
     },
     "metadata": {},
     "output_type": "display_data"
    },
    {
     "data": {
      "text/html": [
       "<pre style=\"white-space:pre;overflow-x:auto;line-height:normal;font-family:Menlo,'DejaVu Sans Mono',consolas,'Courier New',monospace\">validation loss: <span style=\"color: #008080; text-decoration-color: #008080; font-weight: bold\">2.340962750571115</span>\n",
       "</pre>\n"
      ],
      "text/plain": [
       "validation loss: \u001b[1;36m2.340962750571115\u001b[0m\n"
      ]
     },
     "metadata": {},
     "output_type": "display_data"
    },
    {
     "data": {
      "text/html": [
       "<pre style=\"white-space:pre;overflow-x:auto;line-height:normal;font-family:Menlo,'DejaVu Sans Mono',consolas,'Courier New',monospace\">validation loss: <span style=\"color: #008080; text-decoration-color: #008080; font-weight: bold\">2.325241838182722</span>\n",
       "</pre>\n"
      ],
      "text/plain": [
       "validation loss: \u001b[1;36m2.325241838182722\u001b[0m\n"
      ]
     },
     "metadata": {},
     "output_type": "display_data"
    },
    {
     "data": {
      "text/html": [
       "<pre style=\"white-space:pre;overflow-x:auto;line-height:normal;font-family:Menlo,'DejaVu Sans Mono',consolas,'Courier New',monospace\">validation loss: <span style=\"color: #008080; text-decoration-color: #008080; font-weight: bold\">2.3430677141462053</span>\n",
       "</pre>\n"
      ],
      "text/plain": [
       "validation loss: \u001b[1;36m2.3430677141462053\u001b[0m\n"
      ]
     },
     "metadata": {},
     "output_type": "display_data"
    },
    {
     "data": {
      "text/html": [
       "<pre style=\"white-space:pre;overflow-x:auto;line-height:normal;font-family:Menlo,'DejaVu Sans Mono',consolas,'Courier New',monospace\">validation loss: <span style=\"color: #008080; text-decoration-color: #008080; font-weight: bold\">2.3288077286311557</span>\n",
       "</pre>\n"
      ],
      "text/plain": [
       "validation loss: \u001b[1;36m2.3288077286311557\u001b[0m\n"
      ]
     },
     "metadata": {},
     "output_type": "display_data"
    },
    {
     "data": {
      "text/html": [
       "<pre style=\"white-space:pre;overflow-x:auto;line-height:normal;font-family:Menlo,'DejaVu Sans Mono',consolas,'Courier New',monospace\">validation loss: <span style=\"color: #008080; text-decoration-color: #008080; font-weight: bold\">2.3426644802093506</span>\n",
       "</pre>\n"
      ],
      "text/plain": [
       "validation loss: \u001b[1;36m2.3426644802093506\u001b[0m\n"
      ]
     },
     "metadata": {},
     "output_type": "display_data"
    },
    {
     "data": {
      "text/html": [
       "<pre style=\"white-space:pre;overflow-x:auto;line-height:normal;font-family:Menlo,'DejaVu Sans Mono',consolas,'Courier New',monospace\">validation loss: <span style=\"color: #008080; text-decoration-color: #008080; font-weight: bold\">2.336690970829555</span>\n",
       "</pre>\n"
      ],
      "text/plain": [
       "validation loss: \u001b[1;36m2.336690970829555\u001b[0m\n"
      ]
     },
     "metadata": {},
     "output_type": "display_data"
    },
    {
     "data": {
      "text/html": [
       "<pre style=\"white-space:pre;overflow-x:auto;line-height:normal;font-family:Menlo,'DejaVu Sans Mono',consolas,'Courier New',monospace\">validation loss: <span style=\"color: #008080; text-decoration-color: #008080; font-weight: bold\">2.338812896183559</span>\n",
       "</pre>\n"
      ],
      "text/plain": [
       "validation loss: \u001b[1;36m2.338812896183559\u001b[0m\n"
      ]
     },
     "metadata": {},
     "output_type": "display_data"
    },
    {
     "data": {
      "text/html": [
       "<pre style=\"white-space:pre;overflow-x:auto;line-height:normal;font-family:Menlo,'DejaVu Sans Mono',consolas,'Courier New',monospace\">validation loss: <span style=\"color: #008080; text-decoration-color: #008080; font-weight: bold\">2.3399059091295515</span>\n",
       "</pre>\n"
      ],
      "text/plain": [
       "validation loss: \u001b[1;36m2.3399059091295515\u001b[0m\n"
      ]
     },
     "metadata": {},
     "output_type": "display_data"
    },
    {
     "data": {
      "text/html": [
       "<pre style=\"white-space:pre;overflow-x:auto;line-height:normal;font-family:Menlo,'DejaVu Sans Mono',consolas,'Courier New',monospace\">validation loss: <span style=\"color: #008080; text-decoration-color: #008080; font-weight: bold\">2.3387900420597623</span>\n",
       "</pre>\n"
      ],
      "text/plain": [
       "validation loss: \u001b[1;36m2.3387900420597623\u001b[0m\n"
      ]
     },
     "metadata": {},
     "output_type": "display_data"
    },
    {
     "data": {
      "text/html": [
       "<pre style=\"white-space:pre;overflow-x:auto;line-height:normal;font-family:Menlo,'DejaVu Sans Mono',consolas,'Courier New',monospace\">validation loss: <span style=\"color: #008080; text-decoration-color: #008080; font-weight: bold\">2.3381847654070174</span>\n",
       "</pre>\n"
      ],
      "text/plain": [
       "validation loss: \u001b[1;36m2.3381847654070174\u001b[0m\n"
      ]
     },
     "metadata": {},
     "output_type": "display_data"
    },
    {
     "data": {
      "text/html": [
       "<pre style=\"white-space:pre;overflow-x:auto;line-height:normal;font-family:Menlo,'DejaVu Sans Mono',consolas,'Courier New',monospace\">validation loss: <span style=\"color: #008080; text-decoration-color: #008080; font-weight: bold\">2.3406291348593578</span>\n",
       "</pre>\n"
      ],
      "text/plain": [
       "validation loss: \u001b[1;36m2.3406291348593578\u001b[0m\n"
      ]
     },
     "metadata": {},
     "output_type": "display_data"
    },
    {
     "data": {
      "text/html": [
       "<pre style=\"white-space:pre;overflow-x:auto;line-height:normal;font-family:Menlo,'DejaVu Sans Mono',consolas,'Courier New',monospace\">validation loss: <span style=\"color: #008080; text-decoration-color: #008080; font-weight: bold\">2.351457050868443</span>\n",
       "</pre>\n"
      ],
      "text/plain": [
       "validation loss: \u001b[1;36m2.351457050868443\u001b[0m\n"
      ]
     },
     "metadata": {},
     "output_type": "display_data"
    },
    {
     "data": {
      "text/html": [
       "<pre style=\"white-space:pre;overflow-x:auto;line-height:normal;font-family:Menlo,'DejaVu Sans Mono',consolas,'Courier New',monospace\">validation loss: <span style=\"color: #008080; text-decoration-color: #008080; font-weight: bold\">2.335472413471767</span>\n",
       "</pre>\n"
      ],
      "text/plain": [
       "validation loss: \u001b[1;36m2.335472413471767\u001b[0m\n"
      ]
     },
     "metadata": {},
     "output_type": "display_data"
    },
    {
     "data": {
      "text/html": [
       "<pre style=\"white-space:pre;overflow-x:auto;line-height:normal;font-family:Menlo,'DejaVu Sans Mono',consolas,'Courier New',monospace\">validation loss: <span style=\"color: #008080; text-decoration-color: #008080; font-weight: bold\">2.340101889201573</span>\n",
       "</pre>\n"
      ],
      "text/plain": [
       "validation loss: \u001b[1;36m2.340101889201573\u001b[0m\n"
      ]
     },
     "metadata": {},
     "output_type": "display_data"
    },
    {
     "data": {
      "text/html": [
       "<pre style=\"white-space:pre;overflow-x:auto;line-height:normal;font-family:Menlo,'DejaVu Sans Mono',consolas,'Courier New',monospace\">validation loss: <span style=\"color: #008080; text-decoration-color: #008080; font-weight: bold\">2.3337599549974715</span>\n",
       "</pre>\n"
      ],
      "text/plain": [
       "validation loss: \u001b[1;36m2.3337599549974715\u001b[0m\n"
      ]
     },
     "metadata": {},
     "output_type": "display_data"
    },
    {
     "data": {
      "text/html": [
       "<pre style=\"white-space:pre;overflow-x:auto;line-height:normal;font-family:Menlo,'DejaVu Sans Mono',consolas,'Courier New',monospace\">validation loss: <span style=\"color: #008080; text-decoration-color: #008080; font-weight: bold\">2.340871913092477</span>\n",
       "</pre>\n"
      ],
      "text/plain": [
       "validation loss: \u001b[1;36m2.340871913092477\u001b[0m\n"
      ]
     },
     "metadata": {},
     "output_type": "display_data"
    },
    {
     "data": {
      "text/html": [
       "<pre style=\"white-space:pre;overflow-x:auto;line-height:normal;font-family:Menlo,'DejaVu Sans Mono',consolas,'Courier New',monospace\">validation loss: <span style=\"color: #008080; text-decoration-color: #008080; font-weight: bold\">2.338529586791992</span>\n",
       "</pre>\n"
      ],
      "text/plain": [
       "validation loss: \u001b[1;36m2.338529586791992\u001b[0m\n"
      ]
     },
     "metadata": {},
     "output_type": "display_data"
    },
    {
     "data": {
      "text/html": [
       "<pre style=\"white-space:pre;overflow-x:auto;line-height:normal;font-family:Menlo,'DejaVu Sans Mono',consolas,'Courier New',monospace\">validation loss: <span style=\"color: #008080; text-decoration-color: #008080; font-weight: bold\">2.3314815248761858</span>\n",
       "</pre>\n"
      ],
      "text/plain": [
       "validation loss: \u001b[1;36m2.3314815248761858\u001b[0m\n"
      ]
     },
     "metadata": {},
     "output_type": "display_data"
    },
    {
     "data": {
      "text/html": [
       "<pre style=\"white-space:pre;overflow-x:auto;line-height:normal;font-family:Menlo,'DejaVu Sans Mono',consolas,'Courier New',monospace\">validation loss: <span style=\"color: #008080; text-decoration-color: #008080; font-weight: bold\">2.3326937471117293</span>\n",
       "</pre>\n"
      ],
      "text/plain": [
       "validation loss: \u001b[1;36m2.3326937471117293\u001b[0m\n"
      ]
     },
     "metadata": {},
     "output_type": "display_data"
    },
    {
     "data": {
      "text/html": [
       "<pre style=\"white-space:pre;overflow-x:auto;line-height:normal;font-family:Menlo,'DejaVu Sans Mono',consolas,'Courier New',monospace\">validation loss: <span style=\"color: #008080; text-decoration-color: #008080; font-weight: bold\">2.3501975876944408</span>\n",
       "</pre>\n"
      ],
      "text/plain": [
       "validation loss: \u001b[1;36m2.3501975876944408\u001b[0m\n"
      ]
     },
     "metadata": {},
     "output_type": "display_data"
    },
    {
     "data": {
      "text/html": [
       "<pre style=\"white-space:pre;overflow-x:auto;line-height:normal;font-family:Menlo,'DejaVu Sans Mono',consolas,'Courier New',monospace\">validation loss: <span style=\"color: #008080; text-decoration-color: #008080; font-weight: bold\">2.3413177217756</span>\n",
       "</pre>\n"
      ],
      "text/plain": [
       "validation loss: \u001b[1;36m2.3413177217756\u001b[0m\n"
      ]
     },
     "metadata": {},
     "output_type": "display_data"
    },
    {
     "data": {
      "text/html": [
       "<pre style=\"white-space:pre;overflow-x:auto;line-height:normal;font-family:Menlo,'DejaVu Sans Mono',consolas,'Courier New',monospace\">validation loss: <span style=\"color: #008080; text-decoration-color: #008080; font-weight: bold\">2.3628237588065013</span>\n",
       "</pre>\n"
      ],
      "text/plain": [
       "validation loss: \u001b[1;36m2.3628237588065013\u001b[0m\n"
      ]
     },
     "metadata": {},
     "output_type": "display_data"
    },
    {
     "data": {
      "text/html": [
       "<pre style=\"white-space:pre;overflow-x:auto;line-height:normal;font-family:Menlo,'DejaVu Sans Mono',consolas,'Courier New',monospace\"></pre>\n"
      ],
      "text/plain": []
     },
     "metadata": {},
     "output_type": "display_data"
    },
    {
     "data": {
      "application/vnd.plotly.v1+json": {
       "config": {
        "plotlyServerURL": "https://plot.ly"
       },
       "data": [
        {
         "hovertemplate": "variable=batch_train_loss<br>step=%{x}<br>value=%{y}<extra></extra>",
         "legendgroup": "",
         "marker": {
          "color": "#636efa",
          "symbol": "circle"
         },
         "mode": "markers",
         "name": "",
         "showlegend": false,
         "type": "scattergl",
         "x": {
          "bdata": "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",
          "dtype": "i2"
         },
         "xaxis": "x2",
         "y": {
          "bdata": "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",
          "dtype": "f8"
         },
         "yaxis": "y2"
        },
        {
         "hovertemplate": "<b>Exponentially Weighted mean trendline</b><br><br>variable=batch_train_loss<br>step=%{x}<br>value=%{y} <b>(trend)</b><extra></extra>",
         "legendgroup": "",
         "line": {
          "color": "red"
         },
         "marker": {
          "color": "#636efa",
          "symbol": "circle"
         },
         "mode": "lines",
         "name": "",
         "showlegend": false,
         "type": "scattergl",
         "x": {
          "bdata": "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",
          "dtype": "i2"
         },
         "xaxis": "x2",
         "y": {
          "bdata": "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",
          "dtype": "f8"
         },
         "yaxis": "y2"
        },
        {
         "hovertemplate": "variable=batch_accuracy<br>step=%{x}<br>value=%{y}<extra></extra>",
         "legendgroup": "",
         "marker": {
          "color": "#636efa",
          "symbol": "circle"
         },
         "mode": "markers",
         "name": "",
         "showlegend": false,
         "type": "scattergl",
         "x": {
          "bdata": "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",
          "dtype": "i2"
         },
         "xaxis": "x",
         "y": {
          "bdata": "AAAAAAAg6D8AAAAAAKDnPwAAAAAAYOg/AAAAAABg5j8AAAAAAADoPwAAAAAAwOg/AAAAAABA6D8AAAAAAEDmPwAAAAAA4OQ/AAAAAABg5j8AAAAAAIDnPwAAAAAAgOc/AAAAAACg5z8AAAAAAMDmPwAAAAAAwOc/AAAAAADA5z8AAAAAAEDmPwAAAAAAIOc/AAAAAADA5j8AAAAAAEDnPwAAAAAA4OY/AAAAAACA5j8AAAAAACDoPwAAAAAAYOg/AAAAAAAA6D8zMzMzMzPnPwAAAAAAoOc/AAAAAABA6D8AAAAAAIDoPwAAAAAAwOk/AAAAAABg5z8AAAAAAKDnPwAAAAAAwOc/AAAAAACA6T8AAAAAAKDoPwAAAAAAoOg/AAAAAADA6D8AAAAAAEDpPwAAAAAAAOc/AAAAAACg6D8AAAAAAODoPwAAAAAAYOc/AAAAAAAg6D8AAAAAAIDnPwAAAAAAQOg/AAAAAAAA6D8AAAAAAMDoPwAAAAAAYOc/AAAAAAAA6D8AAAAAAADnPwAAAAAAwOg/7+7u7u7u5j8AAAAAAADoPwAAAAAA4Og/AAAAAACg6T8AAAAAAIDpPwAAAAAAgOo/AAAAAAAg6D8AAAAAACDnPwAAAAAAoOg/AAAAAADA5z8AAAAAAEDoPwAAAAAAIOg/AAAAAACg6T8AAAAAAIDpPwAAAAAAoOc/AAAAAADA6D8AAAAAAGDoPwAAAAAAQOg/AAAAAADg6T8AAAAAAIDoPwAAAAAAoOg/AAAAAADA6D8AAAAAACDoPwAAAAAAoOg/AAAAAAAA6T8AAAAAAMDnP97d3d3d3ek/AAAAAAAA6j8AAAAAAKDpPwAAAAAAwOk/AAAAAACA6T8AAAAAAIDoPwAAAAAAQOk/AAAAAAAA6D8AAAAAACDpPwAAAAAAgOk/AAAAAACA6D8AAAAAAADqPwAAAAAAgOg/AAAAAACg6T8AAAAAACDpPwAAAAAAwOk/AAAAAABg6D8AAAAAAGDpPwAAAAAAwOg/AAAAAACA6T8AAAAAAGDpPwAAAAAAAOo/AAAAAADA5z8AAAAAAMDoPwAAAAAAgOg/AAAAAACg6D9mZmZmZmbqPwAAAAAAoOk/AAAAAADg6D8AAAAAAMDoPwAAAAAAQOk/AAAAAADA6D8AAAAAAKDpPwAAAAAAoOg/AAAAAABg6T8AAAAAAKDpPwAAAAAAAOk/AAAAAADA6T8AAAAAAADpPwAAAAAA4Og/AAAAAABA6D8AAAAAAEDoPwAAAAAAgOk/AAAAAACg6T8AAAAAAMDnPwAAAAAAwOo/AAAAAACA5z8AAAAAAODoPwAAAAAAQOk/AAAAAADA6T8AAAAAAADrPwAAAAAAQOo/ZmZmZmZm6j8AAAAAAKDpPwAAAAAAgOk/AAAAAAAg6D8AAAAAAADpPwAAAAAAwOo/AAAAAAAA6D8AAAAAAEDoPwAAAAAAoOo/AAAAAACA6D8AAAAAAIDpPwAAAAAAQOo/AAAAAABg6T8AAAAAAODpPwAAAAAAoOg/AAAAAACg6T8AAAAAAMDpPwAAAAAAYOg/AAAAAADg6D8AAAAAAGDpPwAAAAAAwOo/AAAAAACA6T8AAAAAAGDpPwAAAAAAoOk/AAAAAADg6D8AAAAAAADqP97d3d3d3ek/AAAAAACA5z8AAAAAAODpPwAAAAAAQOk/AAAAAACA6j8AAAAAAODnPwAAAAAAYOo/AAAAAAAA6j8AAAAAACDqPwAAAAAAIOo/AAAAAABg6T8AAAAAAKDpPwAAAAAAwOg/AAAAAADA6T8AAAAAAIDpPwAAAAAAgOk/AAAAAABA6D8AAAAAAADqPwAAAAAAYOk/AAAAAAAg6T8AAAAAAIDqPwAAAAAAAOg/AAAAAADg5z8AAAAAAADpPwAAAAAAYOk/AAAAAABg6j+rqqqqqqrqPwAAAAAAIOs/AAAAAAAg6z8AAAAAAIDqPwAAAAAAwOg/AAAAAABA6T8AAAAAAIDpPwAAAAAAYOk/AAAAAABA6T8AAAAAAODoPwAAAAAAIOg/AAAAAACA6T8AAAAAAODoPwAAAAAAIOo/AAAAAAAA6j8AAAAAAODqPwAAAAAAoOo/AAAAAAAA6j8AAAAAAEDoPwAAAAAA4Og/AAAAAAAg6T8AAAAAAGDoPwAAAAAAYOg/AAAAAABg6D8AAAAAAEDqPwAAAAAAYOk/7+7u7u7u6j8AAAAAACDrPwAAAAAAgOo/AAAAAACg6T8AAAAAAMDnPwAAAAAAYOg/AAAAAAAA6j8AAAAAACDrPwAAAAAAoOg/AAAAAAAg6T8AAAAAAKDqPwAAAAAAAOo/AAAAAACA6T8AAAAAAEDqPwAAAAAAIOo/AAAAAADg6j8AAAAAAODpPwAAAAAAgOg/AAAAAACg6D8AAAAAAODoPwAAAAAAIOk/AAAAAACg6D8AAAAAAIDpPwAAAAAAYOk/AAAAAADA6T8AAAAAAODpP5qZmZmZmek/AAAAAABA6T8AAAAAAADpPwAAAAAAQOk/AAAAAABg6D8AAAAAAKDpPwAAAAAAYOo/AAAAAACg6T8AAAAAAADqPwAAAAAAYOk/AAAAAACA6T8AAAAAAADqPwAAAAAAwOg/AAAAAAAA6T8AAAAAAIDpPwAAAAAAQOo/AAAAAABA6j8AAAAAAKDpPwAAAAAAIOs/AAAAAABA6j8AAAAAAKDqPwAAAAAAIOk/AAAAAACg6T8AAAAAAEDnPwAAAAAA4Ok/AAAAAADg6T/NzMzMzMzoPwAAAAAAQOo/AAAAAACg6T8AAAAAAEDqPwAAAAAAgOk/AAAAAAAA6z8AAAAAAEDrPwAAAAAAQOg/AAAAAAAA6T8AAAAAAKDpPwAAAAAAgOk/AAAAAACA6T8AAAAAAODoPwAAAAAA4Og/AAAAAAAg6T8AAAAAAIDpPwAAAAAAAOk/AAAAAABA6T8AAAAAAMDqPwAAAAAAoOo/AAAAAAAg6T8AAAAAAODpPwAAAAAAwOk/AAAAAACA6T8AAAAAAEDqPwAAAAAAAOs/3t3d3d3d6T8AAAAAAODoPwAAAAAAgOo/AAAAAADg6z8AAAAAAGDqPwAAAAAAoOg/AAAAAABA6j8AAAAAAADqPwAAAAAAwOg/AAAAAADA6T8AAAAAAIDqPwAAAAAAAOo/AAAAAADA6j8AAAAAACDpPwAAAAAAAOg/AAAAAABA6T8AAAAAAKDpPwAAAAAAYOo/AAAAAACA6T8AAAAAAADqPwAAAAAAIOk/AAAAAABA6j8AAAAAAEDpPwAAAAAAYOo/AAAAAAAg6j8AAAAAAMDoP6uqqqqqquo/AAAAAACg6D8AAAAAAADqPwAAAAAAIOs/AAAAAAAg6T8AAAAAAADqPwAAAAAAoOo/AAAAAADA6D8AAAAAAIDpPwAAAAAAAOk/AAAAAADg6T8AAAAAAADqPwAAAAAAgOo/AAAAAAAg6T8AAAAAAGDqPwAAAAAAIOo/AAAAAAAg6z8AAAAAAADqPwAAAAAAgOo/AAAAAABA6j8AAAAAAGDqPwAAAAAA4Ok/AAAAAABg6T8AAAAAAIDpPwAAAAAA4Oc/AAAAAACg6T93d3d3d3frPwAAAAAAYOs/AAAAAADg6D8AAAAAAODpPwAAAAAAYOo/AAAAAADA6T8AAAAAAEDoPwAAAAAAwOk/AAAAAADg6T8AAAAAAODpPwAAAAAA4Ok/AAAAAADA6D8AAAAAAIDpPwAAAAAAAOs/AAAAAAAA7D8AAAAAAMDpPwAAAAAAoOk/AAAAAAAA6T8AAAAAAEDpPwAAAAAAAOo/AAAAAACg6T8AAAAAAKDqPwAAAAAAIOk/AAAAAABg6j8AAAAAAGDqPwAAAAAAYOo/ERERERER6T8AAAAAACDqPwAAAAAAwOg/AAAAAABA6T8AAAAAAKDpPwAAAAAAIOo/AAAAAACA6j8AAAAAACDqPwAAAAAAIOk/AAAAAABA6D8AAAAAAMDqPwAAAAAAQOs/AAAAAADA6D8AAAAAAIDqPwAAAAAAYOk/AAAAAAAg6j8AAAAAAEDpPwAAAAAAYOo/AAAAAADg6T8AAAAAAODpPwAAAAAA4Oo/AAAAAABg6j8AAAAAAGDoPwAAAAAAgOo/AAAAAACA6z8AAAAAACDpP4mIiIiIiOg/AAAAAAAg6D8AAAAAAKDpPwAAAAAAoOo/AAAAAADg6T8AAAAAAADrPwAAAAAA4Ok/AAAAAAAA6T8AAAAAAEDqPwAAAAAAwOo/AAAAAACA6j8AAAAAAEDpPwAAAAAA4Oo/AAAAAABA6j8AAAAAAMDqPwAAAAAAoOk/AAAAAAAg6T8AAAAAAMDoPwAAAAAAQOo/AAAAAAAg6j8AAAAAAADpPwAAAAAAIOo/AAAAAADA6j8AAAAAAADqPwAAAAAAgOk/AAAAAACA6j/e3d3d3d3pPwAAAAAAoOk/AAAAAABA6T8AAAAAAMDrPwAAAAAAAOo/AAAAAAAA6j8AAAAAAGDpPwAAAAAAYOk/AAAAAAAg6z8AAAAAAKDoPwAAAAAAgOk/AAAAAACg6T8AAAAAAGDqPwAAAAAAoOo/AAAAAACg6j8AAAAAAEDpPwAAAAAAwOg/AAAAAACA6T8AAAAAACDrPwAAAAAAQOk/AAAAAAAA6T8AAAAAAMDrPwAAAAAAgOk/AAAAAAAg6j8AAAAAAEDpPwAAAAAAAOo/d3d3d3d35z8AAAAAAGDqPwAAAAAAIOs/AAAAAACg6D8AAAAAAGDqPwAAAAAAQOo/AAAAAABA6z8AAAAAAADoPwAAAAAAIOo/AAAAAAAA6T8AAAAAAODpPwAAAAAAAOo/AAAAAAAA6j8AAAAAAODpPwAAAAAA4Oo/AAAAAABA6j8AAAAAAIDnPwAAAAAAgOk/AAAAAAAg6j8AAAAAAIDoPwAAAAAAAOs/AAAAAADg6T8AAAAAAGDqPwAAAAAA4Ok/AAAAAABg6T8AAAAAAEDqP1VVVVVVVek/AAAAAABg6T8AAAAAAIDpPwAAAAAAwOo/AAAAAAAg6T8AAAAAACDqPwAAAAAAAOo/AAAAAABA6T8AAAAAAODoPwAAAAAAwOg/AAAAAAAg6j8AAAAAAIDqPwAAAAAAIOk/AAAAAABA6j8AAAAAAIDqPwAAAAAAwOg/AAAAAABg6T8AAAAAAKDpPwAAAAAAIOo/AAAAAADg6T8AAAAAAGDqPwAAAAAAAOk/AAAAAABA6j8AAAAAAKDrPwAAAAAAQOo/AAAAAACg6D/v7u7u7u7qPwAAAAAAoOk/AAAAAACA6D8AAAAAACDpPwAAAAAAwOg/AAAAAADA6D8AAAAAAGDrPwAAAAAAIOo/AAAAAABA6j8AAAAAAADqPwAAAAAAAOs/AAAAAAAg6T8AAAAAAEDqPwAAAAAAgOo/AAAAAADA6T8AAAAAAODoPwAAAAAAAOo/AAAAAABA6D8AAAAAAIDqPwAAAAAA4Ok/AAAAAADA6j8AAAAAAEDpPwAAAAAAYOk/AAAAAADg6T8AAAAAACDrPwAAAAAAgOo/q6qqqqqq6j8AAAAAACDpPwAAAAAAAOs/AAAAAADA6T8AAAAAAEDqPwAAAAAAQOo/AAAAAAAA6j8AAAAAAADpPwAAAAAAgOo/AAAAAABA6D8AAAAAAGDpPwAAAAAAAOo/AAAAAABA6j8AAAAAAMDoPwAAAAAAgOo/AAAAAADg6T8AAAAAAGDqPwAAAAAA4Ok/AAAAAACg6T8AAAAAAMDpPwAAAAAAAOw/AAAAAABg6j8AAAAAACDqPwAAAAAAwOg/AAAAAABg6T8AAAAAAKDpP6uqqqqqquo/AAAAAAAA6j8AAAAAAODpPwAAAAAAQOo/AAAAAAAg6j8AAAAAAADqPwAAAAAAwOo/AAAAAACg6T8AAAAAAIDqPwAAAAAAQOs/AAAAAAAA6j8AAAAAAIDqPwAAAAAAIOk/AAAAAABA6T8AAAAAACDpPwAAAAAAAOo/AAAAAAAA6T8AAAAAAADqPwAAAAAA4Ok/AAAAAACA6j8AAAAAAODpPwAAAAAAwOk/AAAAAABg6T8AAAAAAODqPwAAAAAA4Ok/AAAAAAAg6T+8u7u7u7vnPwAAAAAAIOo/AAAAAADA6j8AAAAAAMDpPwAAAAAAQOk/AAAAAABA6j8AAAAAAEDpPwAAAAAAAOo/AAAAAAAg6D8AAAAAAADqPwAAAAAAYOk/AAAAAAAg6z8AAAAAAKDpPwAAAAAAwOg/AAAAAACA6j8AAAAAAEDqPwAAAAAAoOk/AAAAAAAg6j8AAAAAACDqPwAAAAAAQOk/AAAAAAAA6z8AAAAAAGDoPwAAAAAAwOk/AAAAAACA6j8AAAAAAMDpPwAAAAAAQOk/3t3d3d3d6T8AAAAAAGDpPwAAAAAAoOk/AAAAAACg6D8AAAAAAGDpPwAAAAAAIOk/AAAAAAAA6z8AAAAAAODpPwAAAAAA4Ok/AAAAAABA6T8AAAAAAKDqPwAAAAAAwOk/AAAAAACA6z8AAAAAAMDpPwAAAAAAAOk/AAAAAADA6T8AAAAAAGDpPwAAAAAAIOo/AAAAAABg6z8AAAAAAEDrPwAAAAAAwOo/AAAAAACg6T8AAAAAAEDpPwAAAAAAwOg/AAAAAAAg6j8AAAAAAODpPwAAAAAAAOw/AAAAAAAg6j8AAAAAAEDqPwAAAAAAQOo/AAAAAADg6T8AAAAAACDqPwAAAAAAIOk/AAAAAACg6T8AAAAAAADrPwAAAAAAAOk/AAAAAADg6z8AAAAAAIDpPwAAAAAAQOk/AAAAAADA6T8AAAAAAKDpPwAAAAAA4Oo/AAAAAABg6T8AAAAAAKDqPwAAAAAAIOo/AAAAAADg5z8AAAAAAADpPwAAAAAAAOs/AAAAAABg6j8AAAAAAIDpPwAAAAAA4Ok/AAAAAADg6j/NzMzMzMzoPwAAAAAAgOo/AAAAAABA6z8AAAAAAODqPwAAAAAAQOc/AAAAAABA6j8AAAAAAODpPwAAAAAAIOo/AAAAAABg6T8AAAAAAMDpPwAAAAAAAOs/AAAAAABA6j8AAAAAAIDqPwAAAAAA4Oo/AAAAAADg6j8AAAAAAIDqPwAAAAAAIOo/AAAAAADA6T8AAAAAAADoPwAAAAAAIOk/AAAAAAAA6j8AAAAAAMDpPwAAAAAAQOk/AAAAAACA6T8AAAAAAIDqPwAAAAAAIOk/q6qqqqqq6j8AAAAAAMDqPwAAAAAAIOo/AAAAAACA6T8AAAAAAODoPwAAAAAAIOo/AAAAAACA6j8AAAAAAMDoPwAAAAAAYOo/AAAAAAAA6z8AAAAAACDrPwAAAAAA4Ok/AAAAAAAA6T8AAAAAAGDqPwAAAAAAwOk/AAAAAABA6T8AAAAAAMDpPwAAAAAAAOk/AAAAAAAg6T8AAAAAACDpPwAAAAAAoOo/AAAAAABg6j8AAAAAACDpPwAAAAAAYOo/AAAAAADg6T8AAAAAAODqP6uqqqqqquo/AAAAAABA6j8AAAAAAKDrPwAAAAAAAOs/AAAAAADg6T8AAAAAAIDpPwAAAAAAwOo/AAAAAADg6T8AAAAAAADpPwAAAAAAgOk/AAAAAAAg6j8AAAAAAADpPwAAAAAAgOk/AAAAAACg6D8AAAAAAIDqPwAAAAAAoOk/AAAAAAAA6z8AAAAAAIDpPwAAAAAAwOk/AAAAAABg6j8AAAAAAIDpPwAAAAAA4Og/AAAAAABg6T8AAAAAAIDqPwAAAAAAQOo/AAAAAACA6j9mZmZmZmbqPwAAAAAAwOk/AAAAAAAA6T8AAAAAAEDqPwAAAAAAQOk/AAAAAABA6j8AAAAAAMDpPwAAAAAAIOo/AAAAAABA6j8AAAAAAMDpPwAAAAAAAOk/AAAAAAAg6j8AAAAAAIDpPwAAAAAAAOk/AAAAAACA6j8AAAAAAEDqPwAAAAAAoOk/AAAAAAAg6T8AAAAAAADpPwAAAAAAgOo/AAAAAACg6T8AAAAAACDqPwAAAAAAAOs/AAAAAABA6j8AAAAAAODpPwAAAAAAAOs/ZmZmZmZm6j8AAAAAAADqPwAAAAAA4Og/AAAAAAAg6j8AAAAAACDqPwAAAAAAoOk/AAAAAABg6z8AAAAAACDpPwAAAAAAAOo/AAAAAADg6D8AAAAAAODpPwAAAAAAoOk/AAAAAADg6T8AAAAAAADqPwAAAAAAAOo/AAAAAAAg6j8AAAAAAEDqPwAAAAAA4Ok/AAAAAACA6T8AAAAAAIDpPwAAAAAA4Og/AAAAAABA6j8AAAAAAMDqPwAAAAAAwOs/AAAAAADA6D8AAAAAAEDrP+/u7u7u7uo/AAAAAABg6j8AAAAAAIDqPwAAAAAAQOo/AAAAAAAg6j8AAAAAAIDqPwAAAAAAYOk/AAAAAADA6j8AAAAAAMDoPwAAAAAAwOk/AAAAAACA6z8AAAAAAODqPwAAAAAAIOs/AAAAAAAg6j8AAAAAAEDqPwAAAAAAIOo/AAAAAADg6j8AAAAAAGDqPwAAAAAAIOo/AAAAAABA6j8AAAAAAIDrPwAAAAAAYOo/AAAAAABA6T8AAAAAACDpPwAAAAAAQOo/AAAAAABA6j9mZmZmZmbqPwAAAAAAIOs/AAAAAAAA6j8AAAAAAEDrPwAAAAAAQOk/AAAAAAAA6j8AAAAAAKDrPwAAAAAAgOk/AAAAAABg6T8AAAAAAKDqPwAAAAAAgOo/AAAAAABg6z8AAAAAAIDqPwAAAAAAAOs/AAAAAABA6z8AAAAAAKDpPwAAAAAAgOg/AAAAAACA6T8AAAAAAIDqPwAAAAAAQOs/AAAAAADg6j8AAAAAAGDrPwAAAAAAoOk/AAAAAABA6j8AAAAAACDpPwAAAAAAQOk/q6qqqqqq6j8AAAAAAADrPwAAAAAAIOo/AAAAAAAg6T8AAAAAAKDpPwAAAAAAwOo/AAAAAADg6D8AAAAAAIDqPwAAAAAAgOs/AAAAAABg6j8AAAAAAODpPwAAAAAAIOo/AAAAAABg6j8AAAAAAKDqPwAAAAAAAOo/AAAAAAAA6j8AAAAAAKDqPwAAAAAAwOo/AAAAAADg6j8AAAAAAADrPwAAAAAAoOo/AAAAAADg6T8AAAAAAKDrPwAAAAAAwOs/AAAAAADg6j8AAAAAAODqP1VVVVVVVek/AAAAAADg6z8AAAAAACDqPwAAAAAAoOo/AAAAAAAg6j8AAAAAAADrPwAAAAAAwOo/AAAAAABg6T8AAAAAAKDqPwAAAAAAgOk/AAAAAABA6j8AAAAAAGDqPwAAAAAAQOo/AAAAAACA6T8AAAAAAMDrPwAAAAAAIOk/AAAAAACg6T8AAAAAAEDrPwAAAAAAQOo/AAAAAADg6j8AAAAAAKDqPwAAAAAA4Oo/AAAAAABA7D8AAAAAAADrPwAAAAAAwOk/AAAAAABA6j8iIiIiIiLqPwAAAAAA4Os/AAAAAADA6z8AAAAAACDpPwAAAAAAwOs/AAAAAABA6j8AAAAAACDqPwAAAAAAQOo/AAAAAABA6T8AAAAAAEDqPwAAAAAAIOs/AAAAAABg6j8AAAAAAGDpPwAAAAAAAOw/AAAAAACA7D8AAAAAAEDqPwAAAAAAAOo/AAAAAACg6j8AAAAAAADqPwAAAAAAAOs/AAAAAADg6j8AAAAAACDpPwAAAAAAIOs/AAAAAACg6T8AAAAAAODqPwAAAAAAIOo/VVVVVVVV6T8AAAAAAEDrPwAAAAAAAOs/AAAAAADA6j8AAAAAAMDqPwAAAAAAoOs/AAAAAABA6T8AAAAAAKDqPwAAAAAAgOo/AAAAAACA6j8AAAAAAGDqPwAAAAAA4Oo/AAAAAABg6j8AAAAAAIDqPwAAAAAAAOo/AAAAAAAA6j8AAAAAAMDqPwAAAAAAAOo/AAAAAACA6T8AAAAAAGDqPwAAAAAAYOk/AAAAAACA6z8AAAAAAADrPwAAAAAAgOs/AAAAAADA6j8AAAAAAADrPwAAAAAAAOg/AAAAAAAA6z8AAAAAAADrPwAAAAAAIOs/AAAAAADA6j8AAAAAAIDqPwAAAAAAgOk/AAAAAADA6T8AAAAAACDrPwAAAAAAAOs/AAAAAAAg6z8AAAAAAMDqPwAAAAAAIOs/AAAAAAAA6z8AAAAAAODqPwAAAAAAQOo/AAAAAACA6j8AAAAAAMDqPwAAAAAAIOs/AAAAAAAA6j8AAAAAAEDpPwAAAAAAoOo/AAAAAABA6j8AAAAAAODqPwAAAAAAwOk/AAAAAAAA6j/v7u7u7u7qPwAAAAAAwOo/AAAAAACg6z8AAAAAACDrPwAAAAAAgOs/AAAAAABA6j8AAAAAAGDqPwAAAAAAoOk/AAAAAADA6z8AAAAAAKDpPwAAAAAAYOo/AAAAAACA6j8AAAAAAGDqPwAAAAAAoOo/AAAAAADg6j8AAAAAAADrPwAAAAAAoOo/AAAAAABA6j8AAAAAAKDqPwAAAAAAgOk/AAAAAAAg6z8AAAAAAADtPwAAAAAAgOg/AAAAAACA6z8AAAAAAEDpPwAAAAAAQOo/7+7u7u7u6j8AAAAAAKDqPwAAAAAAAOs/AAAAAAAA6j8AAAAAAGDqPwAAAAAAwOk/AAAAAADA6j8AAAAAAODpPwAAAAAAYOs/AAAAAADA6j8AAAAAAGDqPwAAAAAAAOs/AAAAAABA6j8AAAAAAIDqPwAAAAAAIOo/AAAAAACA6z8AAAAAAIDrPwAAAAAAIOs/AAAAAACA6T8AAAAAACDqPwAAAAAAAOs/AAAAAACg6j8AAAAAAIDqPwAAAAAAIOs/AAAAAABg6T8AAAAAAKDqPxEREREREek/AAAAAAAA6z8AAAAAAMDqPwAAAAAAgOo/AAAAAABA6z8AAAAAAODpPwAAAAAAwOo/AAAAAACg6j8AAAAAAEDqPwAAAAAAAOo/AAAAAADA6T8AAAAAACDqPwAAAAAA4Oo/AAAAAABA6j8AAAAAAEDqPwAAAAAAQOo/AAAAAAAg7D8AAAAAAGDrPwAAAAAAwOo/AAAAAAAg6z8AAAAAAMDpPwAAAAAAYOs/AAAAAACg6j8AAAAAAMDqPwAAAAAAIOo/AAAAAADg6j9EREREREToPwAAAAAAIOs/AAAAAABA6z8AAAAAAMDpPwAAAAAAIOo/AAAAAAAg6z8AAAAAAMDpPwAAAAAAwOk/AAAAAADA6T8AAAAAAKDpPwAAAAAAAOs/AAAAAABA6j8AAAAAAKDrPwAAAAAA4Oo/AAAAAACg6j8AAAAAAGDqPwAAAAAA4Os/AAAAAAAA7D8AAAAAAGDrPwAAAAAAQOo/AAAAAAAA6j8AAAAAAGDpPwAAAAAAwOo/AAAAAACg6j8AAAAAAIDpPwAAAAAA4Os/q6qqqqqq6j8AAAAAAEDrPwAAAAAAwOo/AAAAAABA6T8AAAAAAODpPwAAAAAAQOw/AAAAAAAg6j8AAAAAAKDpPwAAAAAAoOo/AAAAAABA6j8AAAAAAODqPwAAAAAAAOs/AAAAAACg6j8AAAAAAIDpPwAAAAAAwOs/AAAAAADg6j8AAAAAAMDpPwAAAAAA4Oo/AAAAAAAA6j8AAAAAAEDrPwAAAAAAIOk/AAAAAABA6j8AAAAAAODqPwAAAAAAgOw/AAAAAAAg7D8AAAAAAEDrP7y7u7u7u+s/AAAAAAAg6z8AAAAAAEDqPwAAAAAA4Os/AAAAAADA6T8AAAAAAADsPwAAAAAAwOo/AAAAAAAA6j8AAAAAAEDqPwAAAAAA4Oo/AAAAAABg6j8AAAAAAMDqPwAAAAAAAOs/AAAAAADg6T8AAAAAAADrPwAAAAAAIOk/AAAAAADA6j8AAAAAAADqPwAAAAAAAOs/AAAAAADg6j8AAAAAAEDrPwAAAAAAQOs/AAAAAABg6j8AAAAAACDqPwAAAAAAgOs/AAAAAACA6z8zMzMzMzPrPwAAAAAAYOo/AAAAAADA6j8AAAAAAIDpPwAAAAAAwOo/AAAAAABA6j8AAAAAAIDqPwAAAAAAQOo/AAAAAACg6j8AAAAAAODqPwAAAAAAAOs/AAAAAACg6T8AAAAAACDqPwAAAAAAQOo/AAAAAACg6z8AAAAAAGDrPwAAAAAAQOs/AAAAAADA6z8AAAAAACDqPwAAAAAAgOo/AAAAAADg6j8AAAAAAEDqPwAAAAAAwOo/AAAAAADA7D8AAAAAACDrPwAAAAAAIOo/7+7u7u7u6j8AAAAAAADsPwAAAAAAAOs/AAAAAADA6T8AAAAAAEDqPwAAAAAAoOs/AAAAAAAg6z8AAAAAAADqPwAAAAAAAOo/AAAAAABg6z8AAAAAAADsPwAAAAAAoOg/AAAAAADA6j8AAAAAAODqPwAAAAAAoOs/AAAAAADA6T8AAAAAAODrPwAAAAAAwOk/AAAAAADA6z8AAAAAAKDqPwAAAAAAAOs/AAAAAAAg6T8AAAAAAODqPwAAAAAAAOs/AAAAAABg6z8AAAAAAIDpP4mIiIiIiOw/AAAAAADg6T8AAAAAAIDqPwAAAAAA4Ok/AAAAAAAg6z8AAAAAAEDrPwAAAAAAAOw/AAAAAACA6j8AAAAAACDrPwAAAAAAwOs/AAAAAADg6T8AAAAAAMDqPwAAAAAAIOs/AAAAAACA6j8AAAAAAEDrPwAAAAAAwOo/AAAAAABA6j8AAAAAAMDpPwAAAAAAAOs/AAAAAAAg6j8AAAAAAADqPwAAAAAAQOs/AAAAAACA6j8AAAAAACDsPwAAAAAAAOs/AAAAAADg6j93d3d3d3frPwAAAAAAYOs/AAAAAAAg6z8AAAAAAEDrPwAAAAAAYOs/AAAAAADg6T8AAAAAAGDrPwAAAAAAwOo/AAAAAACg6j8AAAAAACDrPwAAAAAAIOw/AAAAAACA6j8AAAAAAMDpPwAAAAAAgOk/AAAAAABg6T8AAAAAAADrPwAAAAAAwOs/AAAAAABg6j8AAAAAAEDrPwAAAAAAYOs/AAAAAAAA6z8AAAAAAKDrPwAAAAAAoOo/AAAAAAAA6j8AAAAAAMDpPwAAAAAAQOs/7+7u7u7u6j8AAAAAAMDqPwAAAAAAoOk/AAAAAADA6j8AAAAAAIDrPwAAAAAAgOs/AAAAAACA7D8AAAAAAGDrPwAAAAAA4Oo/AAAAAAAA6j8AAAAAAEDqPwAAAAAAAOo/AAAAAAAg6z8AAAAAAGDrPwAAAAAAoOo/AAAAAACg6T8AAAAAAGDrPwAAAAAAIOs/AAAAAAAg6j8AAAAAAODqPwAAAAAAwOs/AAAAAACg6T8AAAAAAEDqPwAAAAAA4Ok/AAAAAADg6z8AAAAAAEDrP97d3d3d3ek/AAAAAABA6z8AAAAAAADrPwAAAAAAIOo/AAAAAAAA7D8AAAAAAODoPwAAAAAAQOo/AAAAAABg6z8AAAAAAEDrPwAAAAAAQOs/AAAAAABA6z8AAAAAAEDrPwAAAAAAIOs/AAAAAADg6j8AAAAAACDpPwAAAAAAAOs/AAAAAADg6T8AAAAAACDqPwAAAAAAoOo/AAAAAACA6j8AAAAAAADrPwAAAAAAoOs/AAAAAABg6j8AAAAAACDrPwAAAAAAQOk/AAAAAAAA6z/v7u7u7u7qPwAAAAAA4Ok/AAAAAADA6z8AAAAAAEDqPwAAAAAAAOo/AAAAAAAg6z8AAAAAAGDpPwAAAAAAYOo/AAAAAABA6T8AAAAAAMDqPwAAAAAAwOo/AAAAAACA6j8AAAAAAGDqPwAAAAAAYOo/AAAAAAAA6z8AAAAAAIDqPwAAAAAAoOo/AAAAAADA6j8AAAAAAGDrPwAAAAAA4Oo/AAAAAADg6z8AAAAAAIDrPwAAAAAAYOs/AAAAAACg6j8AAAAAAKDqPwAAAAAAQOk/MzMzMzMz6z8=",
          "dtype": "f8"
         },
         "yaxis": "y"
        },
        {
         "hovertemplate": "<b>Exponentially Weighted mean trendline</b><br><br>variable=batch_accuracy<br>step=%{x}<br>value=%{y} <b>(trend)</b><extra></extra>",
         "legendgroup": "",
         "line": {
          "color": "red"
         },
         "marker": {
          "color": "#636efa",
          "symbol": "circle"
         },
         "mode": "lines",
         "name": "",
         "showlegend": false,
         "type": "scattergl",
         "x": {
          "bdata": "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",
          "dtype": "i2"
         },
         "xaxis": "x",
         "y": {
          "bdata": "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",
          "dtype": "f8"
         },
         "yaxis": "y"
        }
       ],
       "layout": {
        "annotations": [
         {
          "font": {},
          "showarrow": false,
          "text": "variable=batch_accuracy",
          "textangle": 90,
          "x": 0.98,
          "xanchor": "left",
          "xref": "paper",
          "y": 0.2425,
          "yanchor": "middle",
          "yref": "paper"
         },
         {
          "font": {},
          "showarrow": false,
          "text": "variable=batch_train_loss",
          "textangle": 90,
          "x": 0.98,
          "xanchor": "left",
          "xref": "paper",
          "y": 0.7575000000000001,
          "yanchor": "middle",
          "yref": "paper"
         }
        ],
        "legend": {
         "tracegroupgap": 0
        },
        "template": {
         "data": {
          "bar": [
           {
            "error_x": {
             "color": "#2a3f5f"
            },
            "error_y": {
             "color": "#2a3f5f"
            },
            "marker": {
             "line": {
              "color": "#E5ECF6",
              "width": 0.5
             },
             "pattern": {
              "fillmode": "overlay",
              "size": 10,
              "solidity": 0.2
             }
            },
            "type": "bar"
           }
          ],
          "barpolar": [
           {
            "marker": {
             "line": {
              "color": "#E5ECF6",
              "width": 0.5
             },
             "pattern": {
              "fillmode": "overlay",
              "size": 10,
              "solidity": 0.2
             }
            },
            "type": "barpolar"
           }
          ],
          "carpet": [
           {
            "aaxis": {
             "endlinecolor": "#2a3f5f",
             "gridcolor": "white",
             "linecolor": "white",
             "minorgridcolor": "white",
             "startlinecolor": "#2a3f5f"
            },
            "baxis": {
             "endlinecolor": "#2a3f5f",
             "gridcolor": "white",
             "linecolor": "white",
             "minorgridcolor": "white",
             "startlinecolor": "#2a3f5f"
            },
            "type": "carpet"
           }
          ],
          "choropleth": [
           {
            "colorbar": {
             "outlinewidth": 0,
             "ticks": ""
            },
            "type": "choropleth"
           }
          ],
          "contour": [
           {
            "colorbar": {
             "outlinewidth": 0,
             "ticks": ""
            },
            "colorscale": [
             [
              0,
              "#0d0887"
             ],
             [
              0.1111111111111111,
              "#46039f"
             ],
             [
              0.2222222222222222,
              "#7201a8"
             ],
             [
              0.3333333333333333,
              "#9c179e"
             ],
             [
              0.4444444444444444,
              "#bd3786"
             ],
             [
              0.5555555555555556,
              "#d8576b"
             ],
             [
              0.6666666666666666,
              "#ed7953"
             ],
             [
              0.7777777777777778,
              "#fb9f3a"
             ],
             [
              0.8888888888888888,
              "#fdca26"
             ],
             [
              1,
              "#f0f921"
             ]
            ],
            "type": "contour"
           }
          ],
          "contourcarpet": [
           {
            "colorbar": {
             "outlinewidth": 0,
             "ticks": ""
            },
            "type": "contourcarpet"
           }
          ],
          "heatmap": [
           {
            "colorbar": {
             "outlinewidth": 0,
             "ticks": ""
            },
            "colorscale": [
             [
              0,
              "#0d0887"
             ],
             [
              0.1111111111111111,
              "#46039f"
             ],
             [
              0.2222222222222222,
              "#7201a8"
             ],
             [
              0.3333333333333333,
              "#9c179e"
             ],
             [
              0.4444444444444444,
              "#bd3786"
             ],
             [
              0.5555555555555556,
              "#d8576b"
             ],
             [
              0.6666666666666666,
              "#ed7953"
             ],
             [
              0.7777777777777778,
              "#fb9f3a"
             ],
             [
              0.8888888888888888,
              "#fdca26"
             ],
             [
              1,
              "#f0f921"
             ]
            ],
            "type": "heatmap"
           }
          ],
          "histogram": [
           {
            "marker": {
             "pattern": {
              "fillmode": "overlay",
              "size": 10,
              "solidity": 0.2
             }
            },
            "type": "histogram"
           }
          ],
          "histogram2d": [
           {
            "colorbar": {
             "outlinewidth": 0,
             "ticks": ""
            },
            "colorscale": [
             [
              0,
              "#0d0887"
             ],
             [
              0.1111111111111111,
              "#46039f"
             ],
             [
              0.2222222222222222,
              "#7201a8"
             ],
             [
              0.3333333333333333,
              "#9c179e"
             ],
             [
              0.4444444444444444,
              "#bd3786"
             ],
             [
              0.5555555555555556,
              "#d8576b"
             ],
             [
              0.6666666666666666,
              "#ed7953"
             ],
             [
              0.7777777777777778,
              "#fb9f3a"
             ],
             [
              0.8888888888888888,
              "#fdca26"
             ],
             [
              1,
              "#f0f921"
             ]
            ],
            "type": "histogram2d"
           }
          ],
          "histogram2dcontour": [
           {
            "colorbar": {
             "outlinewidth": 0,
             "ticks": ""
            },
            "colorscale": [
             [
              0,
              "#0d0887"
             ],
             [
              0.1111111111111111,
              "#46039f"
             ],
             [
              0.2222222222222222,
              "#7201a8"
             ],
             [
              0.3333333333333333,
              "#9c179e"
             ],
             [
              0.4444444444444444,
              "#bd3786"
             ],
             [
              0.5555555555555556,
              "#d8576b"
             ],
             [
              0.6666666666666666,
              "#ed7953"
             ],
             [
              0.7777777777777778,
              "#fb9f3a"
             ],
             [
              0.8888888888888888,
              "#fdca26"
             ],
             [
              1,
              "#f0f921"
             ]
            ],
            "type": "histogram2dcontour"
           }
          ],
          "mesh3d": [
           {
            "colorbar": {
             "outlinewidth": 0,
             "ticks": ""
            },
            "type": "mesh3d"
           }
          ],
          "parcoords": [
           {
            "line": {
             "colorbar": {
              "outlinewidth": 0,
              "ticks": ""
             }
            },
            "type": "parcoords"
           }
          ],
          "pie": [
           {
            "automargin": true,
            "type": "pie"
           }
          ],
          "scatter": [
           {
            "fillpattern": {
             "fillmode": "overlay",
             "size": 10,
             "solidity": 0.2
            },
            "type": "scatter"
           }
          ],
          "scatter3d": [
           {
            "line": {
             "colorbar": {
              "outlinewidth": 0,
              "ticks": ""
             }
            },
            "marker": {
             "colorbar": {
              "outlinewidth": 0,
              "ticks": ""
             }
            },
            "type": "scatter3d"
           }
          ],
          "scattercarpet": [
           {
            "marker": {
             "colorbar": {
              "outlinewidth": 0,
              "ticks": ""
             }
            },
            "type": "scattercarpet"
           }
          ],
          "scattergeo": [
           {
            "marker": {
             "colorbar": {
              "outlinewidth": 0,
              "ticks": ""
             }
            },
            "type": "scattergeo"
           }
          ],
          "scattergl": [
           {
            "marker": {
             "colorbar": {
              "outlinewidth": 0,
              "ticks": ""
             }
            },
            "type": "scattergl"
           }
          ],
          "scattermap": [
           {
            "marker": {
             "colorbar": {
              "outlinewidth": 0,
              "ticks": ""
             }
            },
            "type": "scattermap"
           }
          ],
          "scattermapbox": [
           {
            "marker": {
             "colorbar": {
              "outlinewidth": 0,
              "ticks": ""
             }
            },
            "type": "scattermapbox"
           }
          ],
          "scatterpolar": [
           {
            "marker": {
             "colorbar": {
              "outlinewidth": 0,
              "ticks": ""
             }
            },
            "type": "scatterpolar"
           }
          ],
          "scatterpolargl": [
           {
            "marker": {
             "colorbar": {
              "outlinewidth": 0,
              "ticks": ""
             }
            },
            "type": "scatterpolargl"
           }
          ],
          "scatterternary": [
           {
            "marker": {
             "colorbar": {
              "outlinewidth": 0,
              "ticks": ""
             }
            },
            "type": "scatterternary"
           }
          ],
          "surface": [
           {
            "colorbar": {
             "outlinewidth": 0,
             "ticks": ""
            },
            "colorscale": [
             [
              0,
              "#0d0887"
             ],
             [
              0.1111111111111111,
              "#46039f"
             ],
             [
              0.2222222222222222,
              "#7201a8"
             ],
             [
              0.3333333333333333,
              "#9c179e"
             ],
             [
              0.4444444444444444,
              "#bd3786"
             ],
             [
              0.5555555555555556,
              "#d8576b"
             ],
             [
              0.6666666666666666,
              "#ed7953"
             ],
             [
              0.7777777777777778,
              "#fb9f3a"
             ],
             [
              0.8888888888888888,
              "#fdca26"
             ],
             [
              1,
              "#f0f921"
             ]
            ],
            "type": "surface"
           }
          ],
          "table": [
           {
            "cells": {
             "fill": {
              "color": "#EBF0F8"
             },
             "line": {
              "color": "white"
             }
            },
            "header": {
             "fill": {
              "color": "#C8D4E3"
             },
             "line": {
              "color": "white"
             }
            },
            "type": "table"
           }
          ]
         },
         "layout": {
          "annotationdefaults": {
           "arrowcolor": "#2a3f5f",
           "arrowhead": 0,
           "arrowwidth": 1
          },
          "autotypenumbers": "strict",
          "coloraxis": {
           "colorbar": {
            "outlinewidth": 0,
            "ticks": ""
           }
          },
          "colorscale": {
           "diverging": [
            [
             0,
             "#8e0152"
            ],
            [
             0.1,
             "#c51b7d"
            ],
            [
             0.2,
             "#de77ae"
            ],
            [
             0.3,
             "#f1b6da"
            ],
            [
             0.4,
             "#fde0ef"
            ],
            [
             0.5,
             "#f7f7f7"
            ],
            [
             0.6,
             "#e6f5d0"
            ],
            [
             0.7,
             "#b8e186"
            ],
            [
             0.8,
             "#7fbc41"
            ],
            [
             0.9,
             "#4d9221"
            ],
            [
             1,
             "#276419"
            ]
           ],
           "sequential": [
            [
             0,
             "#0d0887"
            ],
            [
             0.1111111111111111,
             "#46039f"
            ],
            [
             0.2222222222222222,
             "#7201a8"
            ],
            [
             0.3333333333333333,
             "#9c179e"
            ],
            [
             0.4444444444444444,
             "#bd3786"
            ],
            [
             0.5555555555555556,
             "#d8576b"
            ],
            [
             0.6666666666666666,
             "#ed7953"
            ],
            [
             0.7777777777777778,
             "#fb9f3a"
            ],
            [
             0.8888888888888888,
             "#fdca26"
            ],
            [
             1,
             "#f0f921"
            ]
           ],
           "sequentialminus": [
            [
             0,
             "#0d0887"
            ],
            [
             0.1111111111111111,
             "#46039f"
            ],
            [
             0.2222222222222222,
             "#7201a8"
            ],
            [
             0.3333333333333333,
             "#9c179e"
            ],
            [
             0.4444444444444444,
             "#bd3786"
            ],
            [
             0.5555555555555556,
             "#d8576b"
            ],
            [
             0.6666666666666666,
             "#ed7953"
            ],
            [
             0.7777777777777778,
             "#fb9f3a"
            ],
            [
             0.8888888888888888,
             "#fdca26"
            ],
            [
             1,
             "#f0f921"
            ]
           ]
          },
          "colorway": [
           "#636efa",
           "#EF553B",
           "#00cc96",
           "#ab63fa",
           "#FFA15A",
           "#19d3f3",
           "#FF6692",
           "#B6E880",
           "#FF97FF",
           "#FECB52"
          ],
          "font": {
           "color": "#2a3f5f"
          },
          "geo": {
           "bgcolor": "white",
           "lakecolor": "white",
           "landcolor": "#E5ECF6",
           "showlakes": true,
           "showland": true,
           "subunitcolor": "white"
          },
          "hoverlabel": {
           "align": "left"
          },
          "hovermode": "closest",
          "mapbox": {
           "style": "light"
          },
          "paper_bgcolor": "white",
          "plot_bgcolor": "#E5ECF6",
          "polar": {
           "angularaxis": {
            "gridcolor": "white",
            "linecolor": "white",
            "ticks": ""
           },
           "bgcolor": "#E5ECF6",
           "radialaxis": {
            "gridcolor": "white",
            "linecolor": "white",
            "ticks": ""
           }
          },
          "scene": {
           "xaxis": {
            "backgroundcolor": "#E5ECF6",
            "gridcolor": "white",
            "gridwidth": 2,
            "linecolor": "white",
            "showbackground": true,
            "ticks": "",
            "zerolinecolor": "white"
           },
           "yaxis": {
            "backgroundcolor": "#E5ECF6",
            "gridcolor": "white",
            "gridwidth": 2,
            "linecolor": "white",
            "showbackground": true,
            "ticks": "",
            "zerolinecolor": "white"
           },
           "zaxis": {
            "backgroundcolor": "#E5ECF6",
            "gridcolor": "white",
            "gridwidth": 2,
            "linecolor": "white",
            "showbackground": true,
            "ticks": "",
            "zerolinecolor": "white"
           }
          },
          "shapedefaults": {
           "line": {
            "color": "#2a3f5f"
           }
          },
          "ternary": {
           "aaxis": {
            "gridcolor": "white",
            "linecolor": "white",
            "ticks": ""
           },
           "baxis": {
            "gridcolor": "white",
            "linecolor": "white",
            "ticks": ""
           },
           "bgcolor": "#E5ECF6",
           "caxis": {
            "gridcolor": "white",
            "linecolor": "white",
            "ticks": ""
           }
          },
          "title": {
           "x": 0.05
          },
          "xaxis": {
           "automargin": true,
           "gridcolor": "white",
           "linecolor": "white",
           "ticks": "",
           "title": {
            "standoff": 15
           },
           "zerolinecolor": "white",
           "zerolinewidth": 2
          },
          "yaxis": {
           "automargin": true,
           "gridcolor": "white",
           "linecolor": "white",
           "ticks": "",
           "title": {
            "standoff": 15
           },
           "zerolinecolor": "white",
           "zerolinewidth": 2
          }
         }
        },
        "title": {
         "text": "batch metrics"
        },
        "xaxis": {
         "anchor": "y",
         "domain": [
          0,
          0.98
         ],
         "title": {
          "text": "step"
         }
        },
        "xaxis2": {
         "anchor": "y2",
         "domain": [
          0,
          0.98
         ],
         "matches": "x",
         "showticklabels": false
        },
        "yaxis": {
         "anchor": "x",
         "domain": [
          0,
          0.485
         ],
         "title": {
          "text": "value"
         }
        },
        "yaxis2": {
         "anchor": "x2",
         "domain": [
          0.515,
          1
         ],
         "title": {
          "text": "value"
         }
        }
       }
      }
     },
     "metadata": {},
     "output_type": "display_data"
    },
    {
     "data": {
      "application/vnd.plotly.v1+json": {
       "config": {
        "plotlyServerURL": "https://plot.ly"
       },
       "data": [
        {
         "hovertemplate": "variable=train_epoch_loss<br>step=%{x}<br>value=%{y}<extra></extra>",
         "legendgroup": "train_epoch_loss",
         "line": {
          "color": "#636efa",
          "dash": "solid"
         },
         "marker": {
          "symbol": "circle"
         },
         "mode": "lines",
         "name": "train_epoch_loss",
         "orientation": "v",
         "showlegend": true,
         "type": "scatter",
         "x": {
          "bdata": "GQAzAE0AZwCBAJsAtQDPAOkAAwEdATcBUQFrAYUBnwG5AdMB7QEHAiECOwJVAm8CiQKjAr0C1wLxAgsDJQM/A1kDcwONA6cDwQPbA/UDDwQpBEMEXQR3BJEEqwTFBN8E+QQTBQ==",
          "dtype": "i2"
         },
         "xaxis": "x4",
         "y": {
          "bdata": "ip3YSWkLAkB2YieGJdUBQLETOzGMsQFAFDuxg/eTAUAUO7GzGo8BQLETO7HZhQFAO7ET2/mBAUBiJ3YyJnkBQLETOyHddQFAO7ETCxd5AUAAAACAK20BQAAAAGCDaAFAntiJTYFkAUCKndiJdGQBQHZiJ/ahZgFAFDux40NgAUCe2Il9gWkBQE/sxE4xZwFAsRM70YhnAUCKndj5xmUBQNmJncjUYwFAxU7slMlkAUBiJ3ayPmcBQDuxE5tqXwFAT+zEDqphAUCxEzuhKV8BQOzETjwYYAFAAAAAwJRfAUCxEzuBVmEBQAAAABDUXQFAdmInxuhLAUDsxE7Mo0sBQBQ7sVOhQAFAip3YySw+AUCKndj5gDsBQBQ7sYPQPQFAT+zEfi04AUAUO7HjRjQBQDuxE+tdOwFA2YmdSK45AUDsxE5MwTUBQAAAAMAyLgFAT+zEHrQrAUB2YidmnywBQLETO6H3JwFA2YmdSAcnAUB2YieGJiYBQOzETuwQKgFAntiJ/W0uAUBiJ3aytTMBQA==",
          "dtype": "f8"
         },
         "yaxis": "y4"
        },
        {
         "hovertemplate": "variable=train_epoch_accuracy<br>step=%{x}<br>value=%{y}<extra></extra>",
         "legendgroup": "train_epoch_accuracy",
         "line": {
          "color": "#EF553B",
          "dash": "solid"
         },
         "marker": {
          "symbol": "circle"
         },
         "mode": "lines",
         "name": "train_epoch_accuracy",
         "orientation": "v",
         "showlegend": true,
         "type": "scatter",
         "x": {
          "bdata": "GQAzAE0AZwCBAJsAtQDPAOkAAwEdATcBUQFrAYUBnwG5AdMB7QEHAiECOwJVAm8CiQKjAr0C1wLxAgsDJQM/A1kDcwONA6cDwQPbA/UDDwQpBEMEXQR3BJEEqwTFBN8E+QQTBQ==",
          "dtype": "i2"
         },
         "xaxis": "x3",
         "y": {
          "bdata": "IPiBH/hR5z+SMAmTMCnoP+uv/uqvrug/jtzIjdwo6T/cyI3cyD3pPyZhEiZhYuk/kAZpkAZp6T9/9Vd/9YfpP3IjN3Ijl+k/zMzMzMyM6T/EOZzDObzpP7d8y7d8y+k/+6u/+qvf6T+8u7u7u9vpPxmP8RiP0ek//+qv/urv6T/UNV3TNc3pP1y+5Vu+1ek/9Vd/9VfP6T+kQRqkQdrpP2mQBmmQ5uk/wiRMwiTc6T/EOZzDOczpP2IndmIn9uk/kRu5kRvp6T9pkAZpkPbpP/It3/It7+k/P/ADP/Dz6T9SK7VSK+XpP5IwCZMw+ek/ZmZmZmZG6j/f8i3f8k3qP9IgDdIgbeo/d3d3d3d36j/6lm/5ln/qP3ZiJ3Zid+o/MAmTMAmT6j/O4RzO4ZzqP+QxHuMxfuo/ZVEWZVGG6j9pkAZpkJbqP0zCJEzCtOo/llqplVq56j9ERERERLTqP2d7tmd7xuo/rL/6q7/K6j/1V3/1V8/qPzqcwzmcw+o/V3/1V3+16j8MvdALvaDqPw==",
          "dtype": "f8"
         },
         "yaxis": "y3"
        },
        {
         "hovertemplate": "variable=validation_loss<br>step=%{x}<br>value=%{y}<extra></extra>",
         "legendgroup": "validation_loss",
         "line": {
          "color": "#00cc96",
          "dash": "solid"
         },
         "marker": {
          "symbol": "circle"
         },
         "mode": "lines",
         "name": "validation_loss",
         "orientation": "v",
         "showlegend": true,
         "type": "scatter",
         "x": {
          "bdata": "GQAzAE0AZwCBAJsAtQDPAOkAAwEdATcBUQFrAYUBnwG5AdMB7QEHAiECOwJVAm8CiQKjAr0C1wLxAgsDJQM/A1kDcwONA6cDwQPbA/UDDwQpBEMEXQR3BJEEqwTFBN8E+QQTBQ==",
          "dtype": "i2"
         },
         "xaxis": "x2",
         "y": {
          "bdata": "AAAAQJirAkBJkiTpp5ICQNu2bfsJlgJAbtu2jYukAkC3bds2q5MCQEmSJEkWjgJAt23bljGhAkCSJEmy3Y4CQAAAAOCXqwJAbtu2rVmKAkAlSZIEgooCQLdt25a7lgJASZIkaaKaAkDbtm3bCKACQG7btq09jAJASZIkqdOPAkAAAAAAlpwCQEmSJAlboAJA27Ztm/2jAkDbtm2bO7ICQG7bts1jqwJAkiRJ0te5AkBJkiTJsaQCQAAAAEAyoAJAkiRJ0gSvAkAlSZKEGLoCQJIkSTKPtwJAbtu2DR7CAkBu27atSroCQCVJkmQYmgJASZIkSZq+AkCSJEnyZaECQAAAAODGvQJASZIkCYuxAkBJkiSJ47UCQLdt25YguAJAbtu2jde1AkC3bds2mrQCQCVJksSbuQJAt23btsjPAkBJkiQpDK8CQLdt21aHuAJAt23bVoqrAkBu27YNG7oCQAAAAABPtQJASZIkyd+mAkC3bdtWW6kCQCVJkmQ0zQJASZIkyQS7AkAlSZIkEOcCQA==",
          "dtype": "f8"
         },
         "yaxis": "y2"
        },
        {
         "hovertemplate": "variable=validation_accuracy<br>step=%{x}<br>value=%{y}<extra></extra>",
         "legendgroup": "validation_accuracy",
         "line": {
          "color": "#ab63fa",
          "dash": "solid"
         },
         "marker": {
          "symbol": "circle"
         },
         "mode": "lines",
         "name": "validation_accuracy",
         "orientation": "v",
         "showlegend": true,
         "type": "scatter",
         "x": {
          "bdata": "GQAzAE0AZwCBAJsAtQDPAOkAAwEdATcBUQFrAYUBnwG5AdMB7QEHAiECOwJVAm8CiQKjAr0C1wLxAgsDJQM/A1kDcwONA6cDwQPbA/UDDwQpBEMEXQR3BJEEqwTFBN8E+QQTBQ==",
          "dtype": "i2"
         },
         "xaxis": "x",
         "y": {
          "bdata": "ysL216fM5D/FUhFLRSzlP13nP2rMFeU/QMGangTU5D9PVG2E6CTlPxNVGyE6UeU/E1UbIToR5T+BMNKOFUjlP/cudlVyz+Q/nlZ3Wt1J5T/FUhFLRUzlP+mbo2+O/uQ/xVIRS0Xs5D+RdqxAGAnlP7UMN5lCS+U/gTDSjhVI5T9PVG2E6ATlP6Z5ZLNe+uQ/T1RthOjk5D9Xd1rdabXkPwbCSDtW4OQ/bS0aHM+W5D+BMNKOFejkPyLo7QYeAuU/VcRSEUvF5D/vC4n88H7kP9WY6/xHjeQ/Jk79nltC5D/iK77iK57kP/6eW+LUD+U/BsJIO1aA5D9NoWW4yfTkPzierUWDY+Q/RzGAK2e05D9d5z9qzLXkP8KfCX8mfOQ/pnlks16a5D+IoLcbeKjkP0cxgCtndOQ/9y52VXIv5D9VxFIRS8XkP4Ew0o4ViOQ/IujtBh7C5D8i6O0GHoLkP4igtxt4qOQ/GsUArpzR5D/ZVcm9i73kP3Od/6gxV+Q/ysL216eM5D/KwvbXp8zjPw==",
          "dtype": "f8"
         },
         "yaxis": "y"
        }
       ],
       "layout": {
        "annotations": [
         {
          "font": {},
          "showarrow": false,
          "text": "variable=validation_accuracy",
          "textangle": 90,
          "x": 0.98,
          "xanchor": "left",
          "xref": "paper",
          "y": 0.11375,
          "yanchor": "middle",
          "yref": "paper"
         },
         {
          "font": {},
          "showarrow": false,
          "text": "variable=validation_loss",
          "textangle": 90,
          "x": 0.98,
          "xanchor": "left",
          "xref": "paper",
          "y": 0.37124999999999997,
          "yanchor": "middle",
          "yref": "paper"
         },
         {
          "font": {},
          "showarrow": false,
          "text": "variable=train_epoch_accuracy",
          "textangle": 90,
          "x": 0.98,
          "xanchor": "left",
          "xref": "paper",
          "y": 0.62875,
          "yanchor": "middle",
          "yref": "paper"
         },
         {
          "font": {},
          "showarrow": false,
          "text": "variable=train_epoch_loss",
          "textangle": 90,
          "x": 0.98,
          "xanchor": "left",
          "xref": "paper",
          "y": 0.88625,
          "yanchor": "middle",
          "yref": "paper"
         }
        ],
        "legend": {
         "title": {
          "text": "variable"
         },
         "tracegroupgap": 0
        },
        "template": {
         "data": {
          "bar": [
           {
            "error_x": {
             "color": "#2a3f5f"
            },
            "error_y": {
             "color": "#2a3f5f"
            },
            "marker": {
             "line": {
              "color": "#E5ECF6",
              "width": 0.5
             },
             "pattern": {
              "fillmode": "overlay",
              "size": 10,
              "solidity": 0.2
             }
            },
            "type": "bar"
           }
          ],
          "barpolar": [
           {
            "marker": {
             "line": {
              "color": "#E5ECF6",
              "width": 0.5
             },
             "pattern": {
              "fillmode": "overlay",
              "size": 10,
              "solidity": 0.2
             }
            },
            "type": "barpolar"
           }
          ],
          "carpet": [
           {
            "aaxis": {
             "endlinecolor": "#2a3f5f",
             "gridcolor": "white",
             "linecolor": "white",
             "minorgridcolor": "white",
             "startlinecolor": "#2a3f5f"
            },
            "baxis": {
             "endlinecolor": "#2a3f5f",
             "gridcolor": "white",
             "linecolor": "white",
             "minorgridcolor": "white",
             "startlinecolor": "#2a3f5f"
            },
            "type": "carpet"
           }
          ],
          "choropleth": [
           {
            "colorbar": {
             "outlinewidth": 0,
             "ticks": ""
            },
            "type": "choropleth"
           }
          ],
          "contour": [
           {
            "colorbar": {
             "outlinewidth": 0,
             "ticks": ""
            },
            "colorscale": [
             [
              0,
              "#0d0887"
             ],
             [
              0.1111111111111111,
              "#46039f"
             ],
             [
              0.2222222222222222,
              "#7201a8"
             ],
             [
              0.3333333333333333,
              "#9c179e"
             ],
             [
              0.4444444444444444,
              "#bd3786"
             ],
             [
              0.5555555555555556,
              "#d8576b"
             ],
             [
              0.6666666666666666,
              "#ed7953"
             ],
             [
              0.7777777777777778,
              "#fb9f3a"
             ],
             [
              0.8888888888888888,
              "#fdca26"
             ],
             [
              1,
              "#f0f921"
             ]
            ],
            "type": "contour"
           }
          ],
          "contourcarpet": [
           {
            "colorbar": {
             "outlinewidth": 0,
             "ticks": ""
            },
            "type": "contourcarpet"
           }
          ],
          "heatmap": [
           {
            "colorbar": {
             "outlinewidth": 0,
             "ticks": ""
            },
            "colorscale": [
             [
              0,
              "#0d0887"
             ],
             [
              0.1111111111111111,
              "#46039f"
             ],
             [
              0.2222222222222222,
              "#7201a8"
             ],
             [
              0.3333333333333333,
              "#9c179e"
             ],
             [
              0.4444444444444444,
              "#bd3786"
             ],
             [
              0.5555555555555556,
              "#d8576b"
             ],
             [
              0.6666666666666666,
              "#ed7953"
             ],
             [
              0.7777777777777778,
              "#fb9f3a"
             ],
             [
              0.8888888888888888,
              "#fdca26"
             ],
             [
              1,
              "#f0f921"
             ]
            ],
            "type": "heatmap"
           }
          ],
          "histogram": [
           {
            "marker": {
             "pattern": {
              "fillmode": "overlay",
              "size": 10,
              "solidity": 0.2
             }
            },
            "type": "histogram"
           }
          ],
          "histogram2d": [
           {
            "colorbar": {
             "outlinewidth": 0,
             "ticks": ""
            },
            "colorscale": [
             [
              0,
              "#0d0887"
             ],
             [
              0.1111111111111111,
              "#46039f"
             ],
             [
              0.2222222222222222,
              "#7201a8"
             ],
             [
              0.3333333333333333,
              "#9c179e"
             ],
             [
              0.4444444444444444,
              "#bd3786"
             ],
             [
              0.5555555555555556,
              "#d8576b"
             ],
             [
              0.6666666666666666,
              "#ed7953"
             ],
             [
              0.7777777777777778,
              "#fb9f3a"
             ],
             [
              0.8888888888888888,
              "#fdca26"
             ],
             [
              1,
              "#f0f921"
             ]
            ],
            "type": "histogram2d"
           }
          ],
          "histogram2dcontour": [
           {
            "colorbar": {
             "outlinewidth": 0,
             "ticks": ""
            },
            "colorscale": [
             [
              0,
              "#0d0887"
             ],
             [
              0.1111111111111111,
              "#46039f"
             ],
             [
              0.2222222222222222,
              "#7201a8"
             ],
             [
              0.3333333333333333,
              "#9c179e"
             ],
             [
              0.4444444444444444,
              "#bd3786"
             ],
             [
              0.5555555555555556,
              "#d8576b"
             ],
             [
              0.6666666666666666,
              "#ed7953"
             ],
             [
              0.7777777777777778,
              "#fb9f3a"
             ],
             [
              0.8888888888888888,
              "#fdca26"
             ],
             [
              1,
              "#f0f921"
             ]
            ],
            "type": "histogram2dcontour"
           }
          ],
          "mesh3d": [
           {
            "colorbar": {
             "outlinewidth": 0,
             "ticks": ""
            },
            "type": "mesh3d"
           }
          ],
          "parcoords": [
           {
            "line": {
             "colorbar": {
              "outlinewidth": 0,
              "ticks": ""
             }
            },
            "type": "parcoords"
           }
          ],
          "pie": [
           {
            "automargin": true,
            "type": "pie"
           }
          ],
          "scatter": [
           {
            "fillpattern": {
             "fillmode": "overlay",
             "size": 10,
             "solidity": 0.2
            },
            "type": "scatter"
           }
          ],
          "scatter3d": [
           {
            "line": {
             "colorbar": {
              "outlinewidth": 0,
              "ticks": ""
             }
            },
            "marker": {
             "colorbar": {
              "outlinewidth": 0,
              "ticks": ""
             }
            },
            "type": "scatter3d"
           }
          ],
          "scattercarpet": [
           {
            "marker": {
             "colorbar": {
              "outlinewidth": 0,
              "ticks": ""
             }
            },
            "type": "scattercarpet"
           }
          ],
          "scattergeo": [
           {
            "marker": {
             "colorbar": {
              "outlinewidth": 0,
              "ticks": ""
             }
            },
            "type": "scattergeo"
           }
          ],
          "scattergl": [
           {
            "marker": {
             "colorbar": {
              "outlinewidth": 0,
              "ticks": ""
             }
            },
            "type": "scattergl"
           }
          ],
          "scattermap": [
           {
            "marker": {
             "colorbar": {
              "outlinewidth": 0,
              "ticks": ""
             }
            },
            "type": "scattermap"
           }
          ],
          "scattermapbox": [
           {
            "marker": {
             "colorbar": {
              "outlinewidth": 0,
              "ticks": ""
             }
            },
            "type": "scattermapbox"
           }
          ],
          "scatterpolar": [
           {
            "marker": {
             "colorbar": {
              "outlinewidth": 0,
              "ticks": ""
             }
            },
            "type": "scatterpolar"
           }
          ],
          "scatterpolargl": [
           {
            "marker": {
             "colorbar": {
              "outlinewidth": 0,
              "ticks": ""
             }
            },
            "type": "scatterpolargl"
           }
          ],
          "scatterternary": [
           {
            "marker": {
             "colorbar": {
              "outlinewidth": 0,
              "ticks": ""
             }
            },
            "type": "scatterternary"
           }
          ],
          "surface": [
           {
            "colorbar": {
             "outlinewidth": 0,
             "ticks": ""
            },
            "colorscale": [
             [
              0,
              "#0d0887"
             ],
             [
              0.1111111111111111,
              "#46039f"
             ],
             [
              0.2222222222222222,
              "#7201a8"
             ],
             [
              0.3333333333333333,
              "#9c179e"
             ],
             [
              0.4444444444444444,
              "#bd3786"
             ],
             [
              0.5555555555555556,
              "#d8576b"
             ],
             [
              0.6666666666666666,
              "#ed7953"
             ],
             [
              0.7777777777777778,
              "#fb9f3a"
             ],
             [
              0.8888888888888888,
              "#fdca26"
             ],
             [
              1,
              "#f0f921"
             ]
            ],
            "type": "surface"
           }
          ],
          "table": [
           {
            "cells": {
             "fill": {
              "color": "#EBF0F8"
             },
             "line": {
              "color": "white"
             }
            },
            "header": {
             "fill": {
              "color": "#C8D4E3"
             },
             "line": {
              "color": "white"
             }
            },
            "type": "table"
           }
          ]
         },
         "layout": {
          "annotationdefaults": {
           "arrowcolor": "#2a3f5f",
           "arrowhead": 0,
           "arrowwidth": 1
          },
          "autotypenumbers": "strict",
          "coloraxis": {
           "colorbar": {
            "outlinewidth": 0,
            "ticks": ""
           }
          },
          "colorscale": {
           "diverging": [
            [
             0,
             "#8e0152"
            ],
            [
             0.1,
             "#c51b7d"
            ],
            [
             0.2,
             "#de77ae"
            ],
            [
             0.3,
             "#f1b6da"
            ],
            [
             0.4,
             "#fde0ef"
            ],
            [
             0.5,
             "#f7f7f7"
            ],
            [
             0.6,
             "#e6f5d0"
            ],
            [
             0.7,
             "#b8e186"
            ],
            [
             0.8,
             "#7fbc41"
            ],
            [
             0.9,
             "#4d9221"
            ],
            [
             1,
             "#276419"
            ]
           ],
           "sequential": [
            [
             0,
             "#0d0887"
            ],
            [
             0.1111111111111111,
             "#46039f"
            ],
            [
             0.2222222222222222,
             "#7201a8"
            ],
            [
             0.3333333333333333,
             "#9c179e"
            ],
            [
             0.4444444444444444,
             "#bd3786"
            ],
            [
             0.5555555555555556,
             "#d8576b"
            ],
            [
             0.6666666666666666,
             "#ed7953"
            ],
            [
             0.7777777777777778,
             "#fb9f3a"
            ],
            [
             0.8888888888888888,
             "#fdca26"
            ],
            [
             1,
             "#f0f921"
            ]
           ],
           "sequentialminus": [
            [
             0,
             "#0d0887"
            ],
            [
             0.1111111111111111,
             "#46039f"
            ],
            [
             0.2222222222222222,
             "#7201a8"
            ],
            [
             0.3333333333333333,
             "#9c179e"
            ],
            [
             0.4444444444444444,
             "#bd3786"
            ],
            [
             0.5555555555555556,
             "#d8576b"
            ],
            [
             0.6666666666666666,
             "#ed7953"
            ],
            [
             0.7777777777777778,
             "#fb9f3a"
            ],
            [
             0.8888888888888888,
             "#fdca26"
            ],
            [
             1,
             "#f0f921"
            ]
           ]
          },
          "colorway": [
           "#636efa",
           "#EF553B",
           "#00cc96",
           "#ab63fa",
           "#FFA15A",
           "#19d3f3",
           "#FF6692",
           "#B6E880",
           "#FF97FF",
           "#FECB52"
          ],
          "font": {
           "color": "#2a3f5f"
          },
          "geo": {
           "bgcolor": "white",
           "lakecolor": "white",
           "landcolor": "#E5ECF6",
           "showlakes": true,
           "showland": true,
           "subunitcolor": "white"
          },
          "hoverlabel": {
           "align": "left"
          },
          "hovermode": "closest",
          "mapbox": {
           "style": "light"
          },
          "paper_bgcolor": "white",
          "plot_bgcolor": "#E5ECF6",
          "polar": {
           "angularaxis": {
            "gridcolor": "white",
            "linecolor": "white",
            "ticks": ""
           },
           "bgcolor": "#E5ECF6",
           "radialaxis": {
            "gridcolor": "white",
            "linecolor": "white",
            "ticks": ""
           }
          },
          "scene": {
           "xaxis": {
            "backgroundcolor": "#E5ECF6",
            "gridcolor": "white",
            "gridwidth": 2,
            "linecolor": "white",
            "showbackground": true,
            "ticks": "",
            "zerolinecolor": "white"
           },
           "yaxis": {
            "backgroundcolor": "#E5ECF6",
            "gridcolor": "white",
            "gridwidth": 2,
            "linecolor": "white",
            "showbackground": true,
            "ticks": "",
            "zerolinecolor": "white"
           },
           "zaxis": {
            "backgroundcolor": "#E5ECF6",
            "gridcolor": "white",
            "gridwidth": 2,
            "linecolor": "white",
            "showbackground": true,
            "ticks": "",
            "zerolinecolor": "white"
           }
          },
          "shapedefaults": {
           "line": {
            "color": "#2a3f5f"
           }
          },
          "ternary": {
           "aaxis": {
            "gridcolor": "white",
            "linecolor": "white",
            "ticks": ""
           },
           "baxis": {
            "gridcolor": "white",
            "linecolor": "white",
            "ticks": ""
           },
           "bgcolor": "#E5ECF6",
           "caxis": {
            "gridcolor": "white",
            "linecolor": "white",
            "ticks": ""
           }
          },
          "title": {
           "x": 0.05
          },
          "xaxis": {
           "automargin": true,
           "gridcolor": "white",
           "linecolor": "white",
           "ticks": "",
           "title": {
            "standoff": 15
           },
           "zerolinecolor": "white",
           "zerolinewidth": 2
          },
          "yaxis": {
           "automargin": true,
           "gridcolor": "white",
           "linecolor": "white",
           "ticks": "",
           "title": {
            "standoff": 15
           },
           "zerolinecolor": "white",
           "zerolinewidth": 2
          }
         }
        },
        "title": {
         "text": "epoch metrics"
        },
        "xaxis": {
         "anchor": "y",
         "domain": [
          0,
          0.98
         ],
         "title": {
          "text": "step"
         }
        },
        "xaxis2": {
         "anchor": "y2",
         "domain": [
          0,
          0.98
         ],
         "matches": "x",
         "showticklabels": false
        },
        "xaxis3": {
         "anchor": "y3",
         "domain": [
          0,
          0.98
         ],
         "matches": "x",
         "showticklabels": false
        },
        "xaxis4": {
         "anchor": "y4",
         "domain": [
          0,
          0.98
         ],
         "matches": "x",
         "showticklabels": false
        },
        "yaxis": {
         "anchor": "x",
         "domain": [
          0,
          0.2275
         ],
         "title": {
          "text": "value"
         }
        },
        "yaxis2": {
         "anchor": "x2",
         "domain": [
          0.2575,
          0.485
         ],
         "title": {
          "text": "value"
         }
        },
        "yaxis3": {
         "anchor": "x3",
         "domain": [
          0.515,
          0.7425
         ],
         "title": {
          "text": "value"
         }
        },
        "yaxis4": {
         "anchor": "x4",
         "domain": [
          0.7725,
          1
         ],
         "title": {
          "text": "value"
         }
        }
       }
      }
     },
     "metadata": {},
     "output_type": "display_data"
    },
    {
     "name": "stdout",
     "output_type": "stream",
     "text": [
      "=========================\n",
      "training: 5\n"
     ]
    },
    {
     "data": {
      "application/vnd.jupyter.widget-view+json": {
       "model_id": "ea242f7fd4fd41cbb852b3b28fa3312e",
       "version_major": 2,
       "version_minor": 0
      },
      "text/plain": [
       "Output()"
      ]
     },
     "metadata": {},
     "output_type": "display_data"
    },
    {
     "data": {
      "text/html": [
       "<pre style=\"white-space:pre;overflow-x:auto;line-height:normal;font-family:Menlo,'DejaVu Sans Mono',consolas,'Courier New',monospace\"></pre>\n"
      ],
      "text/plain": []
     },
     "metadata": {},
     "output_type": "display_data"
    },
    {
     "ename": "RuntimeError",
     "evalue": "mat1 and mat2 shapes cannot be multiplied (256x2176 and 2040x256)",
     "output_type": "error",
     "traceback": [
      "\u001b[31m---------------------------------------------------------------------------\u001b[39m",
      "\u001b[31mRuntimeError\u001b[39m                              Traceback (most recent call last)",
      "\u001b[36mCell\u001b[39m\u001b[36m \u001b[39m\u001b[32mIn[9]\u001b[39m\u001b[32m, line 12\u001b[39m\n\u001b[32m     10\u001b[39m validation_dataset = CMIDataset(fold_pth, \u001b[33m\"\u001b[39m\u001b[33mvalidation\u001b[39m\u001b[33m\"\u001b[39m)\n\u001b[32m     11\u001b[39m validation_data_loader = DL(validation_dataset, BATCH_SIZE, shuffle=\u001b[38;5;28;01mFalse\u001b[39;00m)\n\u001b[32m---> \u001b[39m\u001b[32m12\u001b[39m _, training_metrics, _ = \u001b[43mmk_model_and_fit\u001b[49m\u001b[43m(\u001b[49m\u001b[43mtrain_data_loader\u001b[49m\u001b[43m,\u001b[49m\u001b[43m \u001b[49m\u001b[43mvalidation_data_loader\u001b[49m\u001b[43m)\u001b[49m\n\u001b[32m     13\u001b[39m plt_training_metrics(training_metrics)\n\u001b[32m     14\u001b[39m \u001b[38;5;28mprint\u001b[39m(\u001b[33m\"\u001b[39m\u001b[33m=========================\u001b[39m\u001b[33m\"\u001b[39m)\n",
      "\u001b[36mCell\u001b[39m\u001b[36m \u001b[39m\u001b[32mIn[7]\u001b[39m\u001b[32m, line 16\u001b[39m, in \u001b[36mmk_model_and_fit\u001b[39m\u001b[34m(train_loader, validation_loader)\u001b[39m\n\u001b[32m     14\u001b[39m optimizer = torch.optim.AdamW(model.parameters(), STARTING_LR)\n\u001b[32m     15\u001b[39m constant_lr_scheduler = ConstantLR(optimizer, factor=\u001b[32m1\u001b[39m, total_iters=\u001b[38;5;28mlen\u001b[39m(train_loader) * TRAINING_EPOCHS)\n\u001b[32m---> \u001b[39m\u001b[32m16\u001b[39m training_metrics, model_checkpoints = \u001b[43mfit\u001b[49m\u001b[43m(\u001b[49m\n\u001b[32m     17\u001b[39m \u001b[43m    \u001b[49m\u001b[43mepochs\u001b[49m\u001b[43m=\u001b[49m\u001b[43mTRAINING_EPOCHS\u001b[49m\u001b[43m,\u001b[49m\n\u001b[32m     18\u001b[39m \u001b[43m    \u001b[49m\u001b[43mmodel\u001b[49m\u001b[43m=\u001b[49m\u001b[43mmodel\u001b[49m\u001b[43m,\u001b[49m\n\u001b[32m     19\u001b[39m \u001b[43m    \u001b[49m\u001b[43mscheduler\u001b[49m\u001b[43m=\u001b[49m\u001b[43mconstant_lr_scheduler\u001b[49m\u001b[43m,\u001b[49m\n\u001b[32m     20\u001b[39m \u001b[43m    \u001b[49m\u001b[43moptimizer\u001b[49m\u001b[43m=\u001b[49m\u001b[43moptimizer\u001b[49m\u001b[43m,\u001b[49m\n\u001b[32m     21\u001b[39m \u001b[43m    \u001b[49m\u001b[43mtrain_loader\u001b[49m\u001b[43m=\u001b[49m\u001b[43mtrain_loader\u001b[49m\u001b[43m,\u001b[49m\n\u001b[32m     22\u001b[39m \u001b[43m    \u001b[49m\u001b[43mcriterion\u001b[49m\u001b[43m=\u001b[49m\u001b[43mnn\u001b[49m\u001b[43m.\u001b[49m\u001b[43mCrossEntropyLoss\u001b[49m\u001b[43m(\u001b[49m\u001b[43m)\u001b[49m\u001b[43m,\u001b[49m\n\u001b[32m     23\u001b[39m \u001b[43m    \u001b[49m\u001b[43mevaluation_func\u001b[49m\u001b[43m=\u001b[49m\u001b[43mevaluate_model\u001b[49m\u001b[43m,\u001b[49m\n\u001b[32m     24\u001b[39m \u001b[43m    \u001b[49m\u001b[43mvalidation_loader\u001b[49m\u001b[43m=\u001b[49m\u001b[43mvalidation_loader\u001b[49m\u001b[43m \u001b[49m\u001b[38;5;28;43;01mif\u001b[39;49;00m\u001b[43m \u001b[49m\u001b[43mvalidation_loader\u001b[49m\u001b[43m \u001b[49m\u001b[38;5;28;43;01melse\u001b[39;49;00m\u001b[43m \u001b[49m\u001b[38;5;28;43;01mNone\u001b[39;49;00m\u001b[43m,\u001b[49m\n\u001b[32m     25\u001b[39m \u001b[43m    \u001b[49m\u001b[43msave_checkpoints\u001b[49m\u001b[43m=\u001b[49m\u001b[38;5;28;43;01mTrue\u001b[39;49;00m\u001b[43m,\u001b[49m\n\u001b[32m     26\u001b[39m \u001b[43m\u001b[49m\u001b[43m)\u001b[49m\n\u001b[32m     28\u001b[39m \u001b[38;5;28;01mreturn\u001b[39;00m model, training_metrics, model_checkpoints\n",
      "\u001b[36mCell\u001b[39m\u001b[36m \u001b[39m\u001b[32mIn[6]\u001b[39m\u001b[32m, line 41\u001b[39m, in \u001b[36mfit\u001b[39m\u001b[34m(epochs, model, scheduler, optimizer, train_loader, criterion, evaluation_func, validation_loader, save_checkpoints)\u001b[39m\n\u001b[32m     39\u001b[39m model.train()\n\u001b[32m     40\u001b[39m optimizer.zero_grad()\n\u001b[32m---> \u001b[39m\u001b[32m41\u001b[39m y_pred: Tensor = \u001b[43mmodel\u001b[49m\u001b[43m(\u001b[49m\u001b[43mx\u001b[49m\u001b[43m)\u001b[49m\n\u001b[32m     42\u001b[39m loss_value = criterion(y_pred, y)\n\u001b[32m     43\u001b[39m \u001b[38;5;66;03m# Verify loss value\u001b[39;00m\n",
      "\u001b[36mFile \u001b[39m\u001b[32m~/miniconda3/envs/CMI/lib/python3.11/site-packages/torch/nn/modules/module.py:1736\u001b[39m, in \u001b[36mModule._wrapped_call_impl\u001b[39m\u001b[34m(self, *args, **kwargs)\u001b[39m\n\u001b[32m   1734\u001b[39m     \u001b[38;5;28;01mreturn\u001b[39;00m \u001b[38;5;28mself\u001b[39m._compiled_call_impl(*args, **kwargs)  \u001b[38;5;66;03m# type: ignore[misc]\u001b[39;00m\n\u001b[32m   1735\u001b[39m \u001b[38;5;28;01melse\u001b[39;00m:\n\u001b[32m-> \u001b[39m\u001b[32m1736\u001b[39m     \u001b[38;5;28;01mreturn\u001b[39;00m \u001b[38;5;28;43mself\u001b[39;49m\u001b[43m.\u001b[49m\u001b[43m_call_impl\u001b[49m\u001b[43m(\u001b[49m\u001b[43m*\u001b[49m\u001b[43margs\u001b[49m\u001b[43m,\u001b[49m\u001b[43m \u001b[49m\u001b[43m*\u001b[49m\u001b[43m*\u001b[49m\u001b[43mkwargs\u001b[49m\u001b[43m)\u001b[49m\n",
      "\u001b[36mFile \u001b[39m\u001b[32m~/miniconda3/envs/CMI/lib/python3.11/site-packages/torch/nn/modules/module.py:1747\u001b[39m, in \u001b[36mModule._call_impl\u001b[39m\u001b[34m(self, *args, **kwargs)\u001b[39m\n\u001b[32m   1742\u001b[39m \u001b[38;5;66;03m# If we don't have any hooks, we want to skip the rest of the logic in\u001b[39;00m\n\u001b[32m   1743\u001b[39m \u001b[38;5;66;03m# this function, and just call forward.\u001b[39;00m\n\u001b[32m   1744\u001b[39m \u001b[38;5;28;01mif\u001b[39;00m \u001b[38;5;129;01mnot\u001b[39;00m (\u001b[38;5;28mself\u001b[39m._backward_hooks \u001b[38;5;129;01mor\u001b[39;00m \u001b[38;5;28mself\u001b[39m._backward_pre_hooks \u001b[38;5;129;01mor\u001b[39;00m \u001b[38;5;28mself\u001b[39m._forward_hooks \u001b[38;5;129;01mor\u001b[39;00m \u001b[38;5;28mself\u001b[39m._forward_pre_hooks\n\u001b[32m   1745\u001b[39m         \u001b[38;5;129;01mor\u001b[39;00m _global_backward_pre_hooks \u001b[38;5;129;01mor\u001b[39;00m _global_backward_hooks\n\u001b[32m   1746\u001b[39m         \u001b[38;5;129;01mor\u001b[39;00m _global_forward_hooks \u001b[38;5;129;01mor\u001b[39;00m _global_forward_pre_hooks):\n\u001b[32m-> \u001b[39m\u001b[32m1747\u001b[39m     \u001b[38;5;28;01mreturn\u001b[39;00m \u001b[43mforward_call\u001b[49m\u001b[43m(\u001b[49m\u001b[43m*\u001b[49m\u001b[43margs\u001b[49m\u001b[43m,\u001b[49m\u001b[43m \u001b[49m\u001b[43m*\u001b[49m\u001b[43m*\u001b[49m\u001b[43mkwargs\u001b[49m\u001b[43m)\u001b[49m\n\u001b[32m   1749\u001b[39m result = \u001b[38;5;28;01mNone\u001b[39;00m\n\u001b[32m   1750\u001b[39m called_always_called_hooks = \u001b[38;5;28mset\u001b[39m()\n",
      "\u001b[36mCell\u001b[39m\u001b[36m \u001b[39m\u001b[32mIn[5]\u001b[39m\u001b[32m, line 51\u001b[39m, in \u001b[36mResnet.forward\u001b[39m\u001b[34m(self, x)\u001b[39m\n\u001b[32m     49\u001b[39m     activation_maps = nn.functional.max_pool1d(res_block(activation_maps), \u001b[32m2\u001b[39m)\n\u001b[32m     50\u001b[39m out = activation_maps.view(activation_maps.shape[\u001b[32m0\u001b[39m], -\u001b[32m1\u001b[39m)\n\u001b[32m---> \u001b[39m\u001b[32m51\u001b[39m out = \u001b[38;5;28;43mself\u001b[39;49m\u001b[43m.\u001b[49m\u001b[43mmlp_head\u001b[49m\u001b[43m(\u001b[49m\u001b[43mout\u001b[49m\u001b[43m)\u001b[49m\n\u001b[32m     52\u001b[39m \u001b[38;5;28;01mreturn\u001b[39;00m out\n",
      "\u001b[36mFile \u001b[39m\u001b[32m~/miniconda3/envs/CMI/lib/python3.11/site-packages/torch/nn/modules/module.py:1736\u001b[39m, in \u001b[36mModule._wrapped_call_impl\u001b[39m\u001b[34m(self, *args, **kwargs)\u001b[39m\n\u001b[32m   1734\u001b[39m     \u001b[38;5;28;01mreturn\u001b[39;00m \u001b[38;5;28mself\u001b[39m._compiled_call_impl(*args, **kwargs)  \u001b[38;5;66;03m# type: ignore[misc]\u001b[39;00m\n\u001b[32m   1735\u001b[39m \u001b[38;5;28;01melse\u001b[39;00m:\n\u001b[32m-> \u001b[39m\u001b[32m1736\u001b[39m     \u001b[38;5;28;01mreturn\u001b[39;00m \u001b[38;5;28;43mself\u001b[39;49m\u001b[43m.\u001b[49m\u001b[43m_call_impl\u001b[49m\u001b[43m(\u001b[49m\u001b[43m*\u001b[49m\u001b[43margs\u001b[49m\u001b[43m,\u001b[49m\u001b[43m \u001b[49m\u001b[43m*\u001b[49m\u001b[43m*\u001b[49m\u001b[43mkwargs\u001b[49m\u001b[43m)\u001b[49m\n",
      "\u001b[36mFile \u001b[39m\u001b[32m~/miniconda3/envs/CMI/lib/python3.11/site-packages/torch/nn/modules/module.py:1747\u001b[39m, in \u001b[36mModule._call_impl\u001b[39m\u001b[34m(self, *args, **kwargs)\u001b[39m\n\u001b[32m   1742\u001b[39m \u001b[38;5;66;03m# If we don't have any hooks, we want to skip the rest of the logic in\u001b[39;00m\n\u001b[32m   1743\u001b[39m \u001b[38;5;66;03m# this function, and just call forward.\u001b[39;00m\n\u001b[32m   1744\u001b[39m \u001b[38;5;28;01mif\u001b[39;00m \u001b[38;5;129;01mnot\u001b[39;00m (\u001b[38;5;28mself\u001b[39m._backward_hooks \u001b[38;5;129;01mor\u001b[39;00m \u001b[38;5;28mself\u001b[39m._backward_pre_hooks \u001b[38;5;129;01mor\u001b[39;00m \u001b[38;5;28mself\u001b[39m._forward_hooks \u001b[38;5;129;01mor\u001b[39;00m \u001b[38;5;28mself\u001b[39m._forward_pre_hooks\n\u001b[32m   1745\u001b[39m         \u001b[38;5;129;01mor\u001b[39;00m _global_backward_pre_hooks \u001b[38;5;129;01mor\u001b[39;00m _global_backward_hooks\n\u001b[32m   1746\u001b[39m         \u001b[38;5;129;01mor\u001b[39;00m _global_forward_hooks \u001b[38;5;129;01mor\u001b[39;00m _global_forward_pre_hooks):\n\u001b[32m-> \u001b[39m\u001b[32m1747\u001b[39m     \u001b[38;5;28;01mreturn\u001b[39;00m \u001b[43mforward_call\u001b[49m\u001b[43m(\u001b[49m\u001b[43m*\u001b[49m\u001b[43margs\u001b[49m\u001b[43m,\u001b[49m\u001b[43m \u001b[49m\u001b[43m*\u001b[49m\u001b[43m*\u001b[49m\u001b[43mkwargs\u001b[49m\u001b[43m)\u001b[49m\n\u001b[32m   1749\u001b[39m result = \u001b[38;5;28;01mNone\u001b[39;00m\n\u001b[32m   1750\u001b[39m called_always_called_hooks = \u001b[38;5;28mset\u001b[39m()\n",
      "\u001b[36mFile \u001b[39m\u001b[32m~/miniconda3/envs/CMI/lib/python3.11/site-packages/torch/nn/modules/container.py:250\u001b[39m, in \u001b[36mSequential.forward\u001b[39m\u001b[34m(self, input)\u001b[39m\n\u001b[32m    248\u001b[39m \u001b[38;5;28;01mdef\u001b[39;00m\u001b[38;5;250m \u001b[39m\u001b[34mforward\u001b[39m(\u001b[38;5;28mself\u001b[39m, \u001b[38;5;28minput\u001b[39m):\n\u001b[32m    249\u001b[39m     \u001b[38;5;28;01mfor\u001b[39;00m module \u001b[38;5;129;01min\u001b[39;00m \u001b[38;5;28mself\u001b[39m:\n\u001b[32m--> \u001b[39m\u001b[32m250\u001b[39m         \u001b[38;5;28minput\u001b[39m = \u001b[43mmodule\u001b[49m\u001b[43m(\u001b[49m\u001b[38;5;28;43minput\u001b[39;49m\u001b[43m)\u001b[49m\n\u001b[32m    251\u001b[39m     \u001b[38;5;28;01mreturn\u001b[39;00m \u001b[38;5;28minput\u001b[39m\n",
      "\u001b[36mFile \u001b[39m\u001b[32m~/miniconda3/envs/CMI/lib/python3.11/site-packages/torch/nn/modules/module.py:1736\u001b[39m, in \u001b[36mModule._wrapped_call_impl\u001b[39m\u001b[34m(self, *args, **kwargs)\u001b[39m\n\u001b[32m   1734\u001b[39m     \u001b[38;5;28;01mreturn\u001b[39;00m \u001b[38;5;28mself\u001b[39m._compiled_call_impl(*args, **kwargs)  \u001b[38;5;66;03m# type: ignore[misc]\u001b[39;00m\n\u001b[32m   1735\u001b[39m \u001b[38;5;28;01melse\u001b[39;00m:\n\u001b[32m-> \u001b[39m\u001b[32m1736\u001b[39m     \u001b[38;5;28;01mreturn\u001b[39;00m \u001b[38;5;28;43mself\u001b[39;49m\u001b[43m.\u001b[49m\u001b[43m_call_impl\u001b[49m\u001b[43m(\u001b[49m\u001b[43m*\u001b[49m\u001b[43margs\u001b[49m\u001b[43m,\u001b[49m\u001b[43m \u001b[49m\u001b[43m*\u001b[49m\u001b[43m*\u001b[49m\u001b[43mkwargs\u001b[49m\u001b[43m)\u001b[49m\n",
      "\u001b[36mFile \u001b[39m\u001b[32m~/miniconda3/envs/CMI/lib/python3.11/site-packages/torch/nn/modules/module.py:1747\u001b[39m, in \u001b[36mModule._call_impl\u001b[39m\u001b[34m(self, *args, **kwargs)\u001b[39m\n\u001b[32m   1742\u001b[39m \u001b[38;5;66;03m# If we don't have any hooks, we want to skip the rest of the logic in\u001b[39;00m\n\u001b[32m   1743\u001b[39m \u001b[38;5;66;03m# this function, and just call forward.\u001b[39;00m\n\u001b[32m   1744\u001b[39m \u001b[38;5;28;01mif\u001b[39;00m \u001b[38;5;129;01mnot\u001b[39;00m (\u001b[38;5;28mself\u001b[39m._backward_hooks \u001b[38;5;129;01mor\u001b[39;00m \u001b[38;5;28mself\u001b[39m._backward_pre_hooks \u001b[38;5;129;01mor\u001b[39;00m \u001b[38;5;28mself\u001b[39m._forward_hooks \u001b[38;5;129;01mor\u001b[39;00m \u001b[38;5;28mself\u001b[39m._forward_pre_hooks\n\u001b[32m   1745\u001b[39m         \u001b[38;5;129;01mor\u001b[39;00m _global_backward_pre_hooks \u001b[38;5;129;01mor\u001b[39;00m _global_backward_hooks\n\u001b[32m   1746\u001b[39m         \u001b[38;5;129;01mor\u001b[39;00m _global_forward_hooks \u001b[38;5;129;01mor\u001b[39;00m _global_forward_pre_hooks):\n\u001b[32m-> \u001b[39m\u001b[32m1747\u001b[39m     \u001b[38;5;28;01mreturn\u001b[39;00m \u001b[43mforward_call\u001b[49m\u001b[43m(\u001b[49m\u001b[43m*\u001b[49m\u001b[43margs\u001b[49m\u001b[43m,\u001b[49m\u001b[43m \u001b[49m\u001b[43m*\u001b[49m\u001b[43m*\u001b[49m\u001b[43mkwargs\u001b[49m\u001b[43m)\u001b[49m\n\u001b[32m   1749\u001b[39m result = \u001b[38;5;28;01mNone\u001b[39;00m\n\u001b[32m   1750\u001b[39m called_always_called_hooks = \u001b[38;5;28mset\u001b[39m()\n",
      "\u001b[36mFile \u001b[39m\u001b[32m~/miniconda3/envs/CMI/lib/python3.11/site-packages/torch/nn/modules/linear.py:125\u001b[39m, in \u001b[36mLinear.forward\u001b[39m\u001b[34m(self, input)\u001b[39m\n\u001b[32m    124\u001b[39m \u001b[38;5;28;01mdef\u001b[39;00m\u001b[38;5;250m \u001b[39m\u001b[34mforward\u001b[39m(\u001b[38;5;28mself\u001b[39m, \u001b[38;5;28minput\u001b[39m: Tensor) -> Tensor:\n\u001b[32m--> \u001b[39m\u001b[32m125\u001b[39m     \u001b[38;5;28;01mreturn\u001b[39;00m \u001b[43mF\u001b[49m\u001b[43m.\u001b[49m\u001b[43mlinear\u001b[49m\u001b[43m(\u001b[49m\u001b[38;5;28;43minput\u001b[39;49m\u001b[43m,\u001b[49m\u001b[43m \u001b[49m\u001b[38;5;28;43mself\u001b[39;49m\u001b[43m.\u001b[49m\u001b[43mweight\u001b[49m\u001b[43m,\u001b[49m\u001b[43m \u001b[49m\u001b[38;5;28;43mself\u001b[39;49m\u001b[43m.\u001b[49m\u001b[43mbias\u001b[49m\u001b[43m)\u001b[49m\n",
      "\u001b[31mRuntimeError\u001b[39m: mat1 and mat2 shapes cannot be multiplied (256x2176 and 2040x256)"
     ]
    }
   ],
   "source": [
    "# How many folds do we train the model on ?\n",
    "NB_CROSS_VALIDATIONS = 2\n",
    "fold_patterns = join(dataset_path, \"preprocessed_dataset\", \"fold*\")\n",
    "fold_pths = glob(fold_patterns)[:NB_CROSS_VALIDATIONS]\n",
    "all_training_metrics = {}\n",
    "\n",
    "for fold_idx, fold_pth in enumerate(fold_pths, 1):\n",
    "    print(\"training:\", fold_idx)\n",
    "    train_dataset = CMIDataset(fold_pth, \"train\")\n",
    "    train_data_loader = DL(train_dataset, BATCH_SIZE, shuffle=True)\n",
    "    validation_dataset = CMIDataset(fold_pth, \"validation\")\n",
    "    validation_data_loader = DL(validation_dataset, BATCH_SIZE, shuffle=False)\n",
    "    _, training_metrics, _ = mk_model_and_fit(train_data_loader, validation_data_loader)\n",
    "    all_training_metrics[\"fold_\" + fold_idx] = training_metrics\n",
    "    plt_training_metrics(training_metrics)\n",
    "    print(\"=========================\")\n",
    "    \n",
    "all_training_metrics = pd.concat(all_training_metrics)"
   ]
  },
  {
   "cell_type": "code",
   "execution_count": null,
   "id": "0e54c23c",
   "metadata": {},
   "outputs": [
    {
     "data": {
      "text/plain": [
       "['step',\n",
       " 'epoch',\n",
       " 'batch_train_loss',\n",
       " 'lr',\n",
       " 'batch_accuracy',\n",
       " 'train_epoch_loss',\n",
       " 'train_epoch_accuracy',\n",
       " 'validation_loss',\n",
       " 'validation_accuracy']"
      ]
     },
     "execution_count": 10,
     "metadata": {},
     "output_type": "execute_result"
    }
   ],
   "source": [
    "training_metrics.columns.to_list()"
   ]
  },
  {
   "cell_type": "markdown",
   "id": "f0081b6e",
   "metadata": {},
   "source": [
    "## Model upload"
   ]
  },
  {
   "cell_type": "code",
   "execution_count": null,
   "id": "87578050",
   "metadata": {},
   "outputs": [],
   "source": [
    "handle = f\"{whoami()}/cmi-resnet/pytorch/1\"\n",
    "model_path = join(model_checkpoints, realpath(\"best_checkpoint.pth\"))\n",
    "model_upload(handle, model_path)"
   ]
  }
 ],
 "metadata": {
  "kernelspec": {
   "display_name": "CMI",
   "language": "python",
   "name": "python3"
  },
  "language_info": {
   "codemirror_mode": {
    "name": "ipython",
    "version": 3
   },
   "file_extension": ".py",
   "mimetype": "text/x-python",
   "name": "python",
   "nbconvert_exporter": "python",
   "pygments_lexer": "ipython3",
   "version": "3.11.5"
  }
 },
 "nbformat": 4,
 "nbformat_minor": 5
}
