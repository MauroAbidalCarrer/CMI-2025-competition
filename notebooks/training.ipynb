{
 "cells": [
  {
   "cell_type": "markdown",
   "id": "53d41434",
   "metadata": {},
   "source": [
    "# Training model\n",
    "The goal of this notebook is to train a model and upload it to kaggle."
   ]
  },
  {
   "cell_type": "markdown",
   "id": "696a0573",
   "metadata": {},
   "source": [
    "## Setup"
   ]
  },
  {
   "cell_type": "markdown",
   "id": "dc4c23f0",
   "metadata": {},
   "source": [
    "### Imports"
   ]
  },
  {
   "cell_type": "code",
   "execution_count": 4,
   "id": "66f429fe",
   "metadata": {},
   "outputs": [],
   "source": [
    "import os\n",
    "import json\n",
    "from glob import glob\n",
    "from datetime import datetime\n",
    "from itertools import pairwise\n",
    "from os.path import join, realpath\n",
    "from typing import Optional, Literal\n",
    "\n",
    "import torch\n",
    "import kagglehub\n",
    "import numpy as np\n",
    "import pandas as pd\n",
    "import plotly.express as px\n",
    "from torch import nn, Tensor\n",
    "from pandas import DataFrame as DF\n",
    "from torch.utils.data import TensorDataset\n",
    "from torch.utils.data import DataLoader as DL\n",
    "from rich.progress import Progress, Task, track\n",
    "from torch.optim.lr_scheduler import ConstantLR, LRScheduler\n",
    "metric_package = kagglehub.package_import('wasupandceacar/cmi-metric', bypass_confirmation=True)"
   ]
  },
  {
   "cell_type": "markdown",
   "id": "fbe9b25b",
   "metadata": {},
   "source": [
    "### Config"
   ]
  },
  {
   "cell_type": "code",
   "execution_count": 5,
   "id": "82515f95",
   "metadata": {},
   "outputs": [],
   "source": [
    "NB_CROSS_VALIDATIONS = 5\n",
    "TRAINING_EPOCHS = 60\n",
    "STARTING_LR = 0.0005\n",
    "BATCH_SIZE = 256\n",
    "TARGET_NAMES = sorted([\n",
    "    \"Above ear - pull hair\",\n",
    "    \"Cheek - pinch skin\",\n",
    "    \"Eyebrow - pull hair\",\n",
    "    \"Eyelash - pull hair\",\n",
    "    \"Feel around in tray and pull out an object\",\n",
    "    \"Forehead - pull hairline\",\n",
    "    \"Forehead - scratch\",\n",
    "    \"Neck - pinch skin\",\n",
    "    \"Neck - scratch\",\n",
    "    \"Text on phone\",\n",
    "    \"Wave hello\",\n",
    "    \"Write name in air\",\n",
    "    \"Write name on leg\",\n",
    "    \"Drink from bottle/cup\",\n",
    "    \"Pinch knee/leg skin\",\n",
    "    \"Pull air toward your face\",\n",
    "    \"Scratch knee/leg skin\",\n",
    "    \"Glasses on/off\"\n",
    "])\n",
    "TARGET_NAMES_NDARRAY = np.asarray(TARGET_NAMES)"
   ]
  },
  {
   "cell_type": "markdown",
   "id": "561af8f7",
   "metadata": {},
   "source": [
    "### Dataset Setup"
   ]
  },
  {
   "cell_type": "code",
   "execution_count": 6,
   "id": "63a131e0",
   "metadata": {},
   "outputs": [
    {
     "name": "stdout",
     "output_type": "stream",
     "text": [
      "Downloading from https://www.kaggle.com/api/v1/datasets/download/mauroabidalcarrer/prepocessed-cmi-2025?dataset_version_number=28...\n"
     ]
    },
    {
     "name": "stderr",
     "output_type": "stream",
     "text": [
      "100%|██████████| 748M/748M [00:19<00:00, 41.0MB/s] "
     ]
    },
    {
     "name": "stdout",
     "output_type": "stream",
     "text": [
      "Extracting files...\n"
     ]
    },
    {
     "name": "stderr",
     "output_type": "stream",
     "text": [
      "\n"
     ]
    }
   ],
   "source": [
    "dataset_path = kagglehub.dataset_download(\n",
    "    handle=\"mauroabidalcarrer/prepocessed-cmi-2025\",\n",
    ")"
   ]
  },
  {
   "cell_type": "code",
   "execution_count": 7,
   "id": "e46c3b4e",
   "metadata": {},
   "outputs": [],
   "source": [
    "class CMIDataset(TensorDataset):\n",
    "    def __init__(\n",
    "        self,\n",
    "        parent_dir: str,\n",
    "        split: Optional[Literal[\"train\", \"validation\"]]=None,\n",
    "        subset: Optional[int]=None,\n",
    "        force_download=False\n",
    "    ):\n",
    "        dataset_path = kagglehub.dataset_download(\n",
    "            handle=\"mauroabidalcarrer/prepocessed-cmi-2025\",\n",
    "            force_download=force_download\n",
    "        )\n",
    "        parent_dir = join(dataset_path, \"preprocessed_dataset\", parent_dir)\n",
    "        split = \"\" if split is None else split + \"_\"\n",
    "        x = np.load(join(parent_dir, f\"{split}X.npy\")).swapaxes(1, 2)\n",
    "        y = np.load(join(parent_dir, f\"{split}Y.npy\"))\n",
    "        if subset is not None:\n",
    "            x = x[:subset]\n",
    "            y = y[:subset]\n",
    "        super().__init__(\n",
    "            torch.from_numpy(x), \n",
    "            torch.from_numpy(y),\n",
    "        )"
   ]
  },
  {
   "cell_type": "code",
   "execution_count": 8,
   "id": "a2de4288",
   "metadata": {},
   "outputs": [],
   "source": [
    "meta_data_path = join(\n",
    "    dataset_path,\n",
    "    \"preprocessed_dataset\",\n",
    "    \"full_dataset_meta_data.json\"\n",
    ")\n",
    "with open(meta_data_path, \"r\") as fp:\n",
    "    meta_data = json.load(fp)\n",
    "# Convert target names into a ndarray to index it batchwise.\n",
    "# meta_data[\"target_names\"] = np.asarray(meta_data[\"target_names\"])\n",
    "non_imu_feats_idx = [feat_idx for feat_idx, feat in enumerate(meta_data[\"feature_cols\"]) if feat.startswith((\"thm\", \"tof\"))]\n",
    "non_imu_feats = [feat for feat in meta_data[\"feature_cols\"] if feat.startswith((\"thm\", \"tof\"))]\n",
    "imu_feats_idx = [feat_idx for feat_idx, feat in enumerate(meta_data[\"feature_cols\"]) if not feat.startswith((\"thm\", \"tof\"))]\n",
    "imu_feats = [feat for feat in meta_data[\"feature_cols\"] if not feat.startswith((\"thm\", \"tof\"))]"
   ]
  },
  {
   "cell_type": "code",
   "execution_count": 9,
   "id": "e12bc6b2",
   "metadata": {},
   "outputs": [
    {
     "data": {
      "text/plain": [
       "['thm_1',\n",
       " 'thm_1_diff',\n",
       " 'thm_2',\n",
       " 'thm_2_diff',\n",
       " 'thm_3',\n",
       " 'thm_3_diff',\n",
       " 'thm_4',\n",
       " 'thm_4_diff',\n",
       " 'thm_5',\n",
       " 'thm_5_diff',\n",
       " 'tof_1',\n",
       " 'tof_1_diff',\n",
       " 'tof_2',\n",
       " 'tof_2_diff',\n",
       " 'tof_3',\n",
       " 'tof_3_diff',\n",
       " 'tof_4',\n",
       " 'tof_4_diff',\n",
       " 'tof_5',\n",
       " 'tof_5_diff']"
      ]
     },
     "metadata": {},
     "output_type": "display_data"
    },
    {
     "data": {
      "text/plain": [
       "['acc_x',\n",
       " 'acc_x_diff',\n",
       " 'acc_y',\n",
       " 'acc_y_diff',\n",
       " 'acc_z',\n",
       " 'acc_z_diff',\n",
       " 'angular_vel_x',\n",
       " 'angular_vel_x_diff',\n",
       " 'angular_vel_y',\n",
       " 'angular_vel_y_diff',\n",
       " 'angular_vel_z',\n",
       " 'angular_vel_z_diff',\n",
       " 'delta_rot_mag',\n",
       " 'delta_rot_mag_diff',\n",
       " 'euler_x',\n",
       " 'euler_x_diff',\n",
       " 'euler_y',\n",
       " 'euler_y_diff',\n",
       " 'euler_z',\n",
       " 'euler_z_diff',\n",
       " 'gravity_free_acc_x',\n",
       " 'gravity_free_acc_x_diff',\n",
       " 'gravity_free_acc_y',\n",
       " 'gravity_free_acc_y_diff',\n",
       " 'gravity_free_acc_z',\n",
       " 'gravity_free_acc_z_diff',\n",
       " 'linear_acc_mag',\n",
       " 'linear_acc_mag_diff',\n",
       " 'quat_rot_mag',\n",
       " 'quat_rot_mag_diff',\n",
       " 'raw_acc_mag',\n",
       " 'raw_acc_mag_diff',\n",
       " 'rot_w',\n",
       " 'rot_w_diff',\n",
       " 'rot_x',\n",
       " 'rot_x_diff',\n",
       " 'rot_y',\n",
       " 'rot_y_diff',\n",
       " 'rot_z',\n",
       " 'rot_z_diff',\n",
       " 'rotation_axis_x',\n",
       " 'rotation_axis_x_diff',\n",
       " 'rotation_axis_y',\n",
       " 'rotation_axis_y_diff',\n",
       " 'rotation_axis_z',\n",
       " 'rotation_axis_z_diff']"
      ]
     },
     "metadata": {},
     "output_type": "display_data"
    }
   ],
   "source": [
    "display(non_imu_feats)\n",
    "display(imu_feats)"
   ]
  },
  {
   "cell_type": "code",
   "execution_count": 10,
   "id": "058d7d3f",
   "metadata": {},
   "outputs": [
    {
     "data": {
      "text/plain": [
       "[46,\n",
       " 47,\n",
       " 48,\n",
       " 49,\n",
       " 50,\n",
       " 51,\n",
       " 52,\n",
       " 53,\n",
       " 54,\n",
       " 55,\n",
       " 56,\n",
       " 57,\n",
       " 58,\n",
       " 59,\n",
       " 60,\n",
       " 61,\n",
       " 62,\n",
       " 63,\n",
       " 64,\n",
       " 65]"
      ]
     },
     "metadata": {},
     "output_type": "display_data"
    },
    {
     "data": {
      "text/plain": [
       "[0,\n",
       " 1,\n",
       " 2,\n",
       " 3,\n",
       " 4,\n",
       " 5,\n",
       " 6,\n",
       " 7,\n",
       " 8,\n",
       " 9,\n",
       " 10,\n",
       " 11,\n",
       " 12,\n",
       " 13,\n",
       " 14,\n",
       " 15,\n",
       " 16,\n",
       " 17,\n",
       " 18,\n",
       " 19,\n",
       " 20,\n",
       " 21,\n",
       " 22,\n",
       " 23,\n",
       " 24,\n",
       " 25,\n",
       " 26,\n",
       " 27,\n",
       " 28,\n",
       " 29,\n",
       " 30,\n",
       " 31,\n",
       " 32,\n",
       " 33,\n",
       " 34,\n",
       " 35,\n",
       " 36,\n",
       " 37,\n",
       " 38,\n",
       " 39,\n",
       " 40,\n",
       " 41,\n",
       " 42,\n",
       " 43,\n",
       " 44,\n",
       " 45]"
      ]
     },
     "metadata": {},
     "output_type": "display_data"
    }
   ],
   "source": [
    "display(non_imu_feats_idx)\n",
    "display(imu_feats_idx)"
   ]
  },
  {
   "cell_type": "markdown",
   "id": "e7cce363",
   "metadata": {},
   "source": [
    "### device setup"
   ]
  },
  {
   "cell_type": "code",
   "execution_count": 11,
   "id": "2710f791",
   "metadata": {},
   "outputs": [],
   "source": [
    "device = torch.device(\"cuda\") if torch.cuda.is_available() else torch.device(\"cpu\")"
   ]
  },
  {
   "cell_type": "markdown",
   "id": "7405a353",
   "metadata": {},
   "source": [
    "## Model definition"
   ]
  },
  {
   "cell_type": "code",
   "execution_count": 12,
   "id": "5ecc32a1",
   "metadata": {},
   "outputs": [],
   "source": [
    "class ResidualBlock(nn.Module):\n",
    "    def __init__(self, in_chns:int, out_chns:int):\n",
    "        super().__init__()\n",
    "        self.blocks = nn.Sequential(\n",
    "            nn.Conv1d(in_chns, out_chns, kernel_size=3, padding=1),\n",
    "            nn.BatchNorm1d(out_chns),\n",
    "            nn.ReLU(),\n",
    "            nn.Conv1d(out_chns, out_chns, kernel_size=3, padding=1),\n",
    "            nn.BatchNorm1d(out_chns),\n",
    "        )\n",
    "        if in_chns == out_chns:\n",
    "            self.skip_connection = nn.Identity() \n",
    "        else:\n",
    "            # TODO: set bias to False ?\n",
    "            self.skip_connection = nn.Sequential(\n",
    "                nn.Conv1d(in_chns, out_chns, 1),\n",
    "                nn.BatchNorm1d(out_chns)\n",
    "            )\n",
    "\n",
    "    def forward(self, x:Tensor) -> Tensor:\n",
    "        activaition_maps = self.skip_connection(x) + self.blocks(x)\n",
    "        return nn.functional.relu(activaition_maps)\n",
    "\n",
    "class Resnet(nn.Module):\n",
    "    def __init__(\n",
    "            self,\n",
    "            in_channels:int,\n",
    "            depth:int,\n",
    "            # n_res_block_per_depth:int,\n",
    "            mlp_width:int,\n",
    "            n_class:int,\n",
    "        ):\n",
    "        super().__init__()\n",
    "        chs_per_depth = [in_channels * 2 ** i for i in range(depth)]\n",
    "        blocks_chns_it = pairwise(chs_per_depth)\n",
    "        self.res_blocks = [ResidualBlock(in_chns, out_chns) for in_chns, out_chns in blocks_chns_it]\n",
    "        self.res_blocks = nn.ModuleList(self.res_blocks)\n",
    "        self.mlp_head = nn.Sequential(\n",
    "            nn.LazyLinear(mlp_width),\n",
    "            nn.ReLU(),\n",
    "            nn.Linear(mlp_width, n_class),\n",
    "            nn.Softmax(dim=1),\n",
    "        )\n",
    "        \n",
    "        \n",
    "    def forward(self, x:Tensor) -> Tensor:\n",
    "        activation_maps = x\n",
    "        for res_block in self.res_blocks:\n",
    "            activation_maps = nn.functional.max_pool1d(res_block(activation_maps), 2)\n",
    "        out = activation_maps.view(activation_maps.shape[0], -1)\n",
    "        out = self.mlp_head(out)\n",
    "        return out"
   ]
  },
  {
   "cell_type": "markdown",
   "id": "5a83f1e7",
   "metadata": {},
   "source": [
    "## Training functions "
   ]
  },
  {
   "cell_type": "markdown",
   "id": "3047bc60",
   "metadata": {},
   "source": [
    "### Evaluation "
   ]
  },
  {
   "cell_type": "code",
   "execution_count": 13,
   "id": "bfff9c2e",
   "metadata": {},
   "outputs": [],
   "source": [
    "def evaluate_model(\n",
    "        model: torch.nn.Module,\n",
    "        critirion:callable,\n",
    "        validation_loader:DL,\n",
    "    ) -> dict:\n",
    "    model = model.eval()\n",
    "    model_device = next(model.parameters()).device\n",
    "    competition_metric = metric_package.Metric()\n",
    "\n",
    "    total_accuracy = 0\n",
    "    total_test_loss = 0\n",
    "    with torch.inference_mode():\n",
    "        for x, y in validation_loader:\n",
    "            # Additionally, clone x because we will write on it, in theory it's not necessary but we never know/\n",
    "            x = x.to(model_device).clone()\n",
    "            y = y.to(model_device)\n",
    "\n",
    "            half = BATCH_SIZE // 2\n",
    "\n",
    "            x[:half, non_imu_feats_idx, :] = 0.0\n",
    "\n",
    "            y_pred = model(x)\n",
    "            total_test_loss += critirion(y_pred, y).item()\n",
    "            batch_accuracy = compute_accuracy(y_pred, y)\n",
    "            total_accuracy += batch_accuracy\n",
    "            competition_metric.add(get_str_target(y), get_str_target(y_pred))\n",
    "\n",
    "    return {\n",
    "        \"validation_loss\": total_test_loss / len(validation_loader),\n",
    "        \"validation_accuracy\": total_accuracy / len(validation_loader),\n",
    "        \"competition_score\": competition_metric.score(),\n",
    "    }\n",
    "\n",
    "def get_str_target(y:Tensor) -> str:\n",
    "    y_idx = y.max(dim=1)[1].tolist()\n",
    "    return TARGET_NAMES_NDARRAY[y_idx]\n",
    "\n",
    "def compute_accuracy(y_pred:Tensor, y:Tensor) -> float:\n",
    "    return (\n",
    "            (y.max(dim=1)[1] == y_pred.max(dim=1)[1])\n",
    "            .sum()\n",
    "            .item()\n",
    "    ) / y.shape[0]"
   ]
  },
  {
   "cell_type": "markdown",
   "id": "83ce4d6a",
   "metadata": {},
   "source": [
    "### Checkpoints"
   ]
  },
  {
   "cell_type": "code",
   "execution_count": 14,
   "id": "0356f2f2",
   "metadata": {},
   "outputs": [],
   "source": [
    "def mk_checkpoint(\n",
    "        epoch:int,\n",
    "        model: torch.nn.Module,\n",
    "        scheduler: LRScheduler,\n",
    "        optimizer: torch.optim.Optimizer\n",
    "    ) -> dict:\n",
    "    if torch.cuda.is_available():\n",
    "        model_state_dict = {k: v.detach().cpu() for k, v in model.state_dict().items()}\n",
    "    else:\n",
    "        model_state_dict = model.state_dict()\n",
    "\n",
    "    return {\n",
    "        \"epoch\": epoch,\n",
    "        \"model\": model.state_dict(),\n",
    "        \"optimizer\": optimizer.state_dict(),\n",
    "        \"scheduler\": scheduler.state_dict(),\n",
    "    }\n",
    "\n",
    "def save_checkpoint(checkpoint:dict, parent_dir:str, is_best_checkpoint=False):\n",
    "    # Create model name\n",
    "    checkpoint_filename = f\"epoch_{checkpoint['epoch']}_{mk_date_now_str()}.pth\"\n",
    "    # Save model\n",
    "    os.makedirs(parent_dir, exist_ok=True)\n",
    "    checkpoint_path = os.path.join(parent_dir, checkpoint_filename)\n",
    "    torch.save(checkpoint, checkpoint_path)\n",
    "    mk_symlink(checkpoint_path, os.path.join(parent_dir, \"latest_checkpoint.pth\"))\n",
    "    if is_best_checkpoint:\n",
    "        mk_symlink(checkpoint_path, os.path.join(parent_dir, \"best_checkpoint.pth\"))\n",
    "\n",
    "def mk_date_now_str() -> str:\n",
    "    return datetime.now().strftime(\"%d-%m-%Y_%H-%M\")\n",
    "\n",
    "def mk_symlink(dest:str, symlink_path:str):\n",
    "    if os.path.islink(symlink_path) or os.path.exists(symlink_path):\n",
    "        os.remove(symlink_path)\n",
    "    os.symlink(dest, symlink_path)"
   ]
  },
  {
   "cell_type": "markdown",
   "id": "c8014fc2",
   "metadata": {},
   "source": [
    "### Training loop"
   ]
  },
  {
   "cell_type": "code",
   "execution_count": 15,
   "id": "7cc879eb",
   "metadata": {},
   "outputs": [],
   "source": [
    "def fit(epochs:int,\n",
    "        model: nn.Module,\n",
    "        scheduler: LRScheduler,\n",
    "        optimizer: torch.optim.Optimizer,\n",
    "        train_loader: DL,\n",
    "        criterion: callable=nn.L1Loss(),\n",
    "        evaluation_func: callable=None,\n",
    "        validation_loader: DL=None,\n",
    "        save_checkpoints=True,\n",
    "    ) -> tuple[DF, str]:\n",
    "    \"\"\"\n",
    "    Returns:\n",
    "        (training_metrics, path_to_checkpoints)\n",
    "    \"\"\"\n",
    "    # Setup\n",
    "    metrics: list[dict] = []\n",
    "    checkpoints_dir = os.path.join(\"checkpoints\", mk_date_now_str())\n",
    "    step = 0\n",
    "    model_device = next(model.parameters()).device\n",
    "    last_epoch_metric = {}\n",
    "    # Training loop\n",
    "    with Progress() as progress:\n",
    "        task: Task = progress.add_task(\n",
    "            \"training...\",\n",
    "            total=len(train_loader),\n",
    "        )\n",
    "        for epoch in range(epochs):\n",
    "            progress.update(\n",
    "                task,\n",
    "                description=f\"epoch: {epoch}\",\n",
    "                completed=0,\n",
    "            )\n",
    "            total_epoch_loss = 0\n",
    "            total_accuracy = 0\n",
    "            for batch_idx, (x, y) in enumerate(train_loader):\n",
    "                # forward\n",
    "                x = x.to(model_device)\n",
    "                y = y.to(model_device)\n",
    "                model.train()\n",
    "                optimizer.zero_grad()\n",
    "                y_pred: Tensor = model(x)\n",
    "                loss_value = criterion(y_pred, y)\n",
    "                # Verify loss value\n",
    "                if torch.isnan(loss_value).any().item():\n",
    "                    progress.print(\"Warning: Got NaN loss, stopped training.\")\n",
    "                    return DF.from_records(metrics) \n",
    "                if torch.isinf(loss_value).any().item():\n",
    "                    progress.print(\"Warning: Got infinite loss, stopped training.\")\n",
    "                    return DF.from_records(metrics) \n",
    "                # TODO: Use gradient clipping?\n",
    "                loss_value.backward()\n",
    "                optimizer.step()\n",
    "                if step > 0: # If it's not the first training step, idk why it throws an error otherwise\n",
    "                    scheduler.step()\n",
    "                # metrics\n",
    "                total_epoch_loss += loss_value.item()\n",
    "                batch_accuracy = compute_accuracy(y_pred, y)\n",
    "                total_accuracy += batch_accuracy\n",
    "                metrics.append({\n",
    "                    \"step\": step,\n",
    "                    \"epoch\": epoch,\n",
    "                    \"batch_train_loss\": loss_value.item(),\n",
    "                    \"lr\": optimizer.state_dict()[\"param_groups\"][-1][\"lr\"],\n",
    "                    \"batch_accuracy\": batch_accuracy,\n",
    "                })\n",
    "                step += 1\n",
    "                if \"validation_accuracy\" in last_epoch_metric:\n",
    "                    last_validation_acc = \"%.2f\" % last_epoch_metric[\"validation_accuracy\"]\n",
    "                    val_acc_str = \"val. acc: \" + last_validation_acc\n",
    "                else:\n",
    "                    val_acc_str = \"\"\n",
    "                progress.update(\n",
    "                    task,\n",
    "                    advance=1,\n",
    "                    description=f\"epoch: {epoch}, batch_loss: {(total_epoch_loss / (batch_idx+1)):.2f}, {val_acc_str}\"\n",
    "                )\n",
    "            # Post epoch evalution\n",
    "            metrics[-1][\"train_epoch_loss\"] = total_epoch_loss / len(train_loader)\n",
    "            metrics[-1][\"train_epoch_accuracy\"] = total_accuracy / len(train_loader)\n",
    "            if evaluation_func:\n",
    "                progress.update(\n",
    "                    task,\n",
    "                    completed=0,\n",
    "                    description=f\"epoch: {epoch}, evaluating...\"\n",
    "                )\n",
    "                eval_metrics = evaluation_func(model, criterion, validation_loader)\n",
    "                metrics[-1].update(eval_metrics)\n",
    "            last_epoch_metric = metrics[-1]\n",
    "            # Save checkpoint\n",
    "            if save_checkpoints:\n",
    "                checkpoint = mk_checkpoint(epoch, model, scheduler, optimizer)\n",
    "                metrics_df = DF.from_records(metrics)\n",
    "                best_model_metric = \"validation_loss\" if \"validation_loss\" in metrics_df.columns else \"train_epoch_loss\"\n",
    "                is_best_checkpoint = (\n",
    "                    DF.from_records(metrics)\n",
    "                    .eval(f\"min_{best_model_metric} = {best_model_metric}.min()\")\n",
    "                    .eval(f\"is_best_{best_model_metric} = {best_model_metric} == min_{best_model_metric}\")\n",
    "                    .dropna(subset=f\"is_best_{best_model_metric}\")\n",
    "                    .iloc[-1]\n",
    "                    .loc[f\"is_best_{best_model_metric}\"]\n",
    "                )\n",
    "                save_checkpoint(checkpoint, checkpoints_dir, is_best_checkpoint)\n",
    "\n",
    "    return DF.from_records(metrics), checkpoints_dir"
   ]
  },
  {
   "cell_type": "markdown",
   "id": "39e484f3",
   "metadata": {},
   "source": [
    "### Create model function"
   ]
  },
  {
   "cell_type": "code",
   "execution_count": 16,
   "id": "534c536e",
   "metadata": {},
   "outputs": [
    {
     "name": "stdout",
     "output_type": "stream",
     "text": [
      "input channels: 66\n"
     ]
    }
   ],
   "source": [
    "def mk_model() -> nn.Module:\n",
    "    nb_in_chans = len(meta_data[\"feature_cols\"])\n",
    "    return (\n",
    "        Resnet(\n",
    "            in_channels=nb_in_chans,\n",
    "            depth=4,\n",
    "            mlp_width=256,\n",
    "            n_class=18\n",
    "        )\n",
    "        .to(device)\n",
    "    )\n",
    "\n",
    "print(\"input channels:\", len(meta_data[\"feature_cols\"]))"
   ]
  },
  {
   "cell_type": "code",
   "execution_count": 17,
   "id": "fe1e327c",
   "metadata": {},
   "outputs": [],
   "source": [
    "def mk_model_and_fit(train_loader:DL, validation_loader:Optional[DL]=None) -> tuple[nn.Module, DF, list[str]]:\n",
    "    model = mk_model()\n",
    "    optimizer = torch.optim.AdamW(model.parameters(), STARTING_LR)\n",
    "    constant_lr_scheduler = ConstantLR(optimizer, factor=1, total_iters=len(train_loader) * TRAINING_EPOCHS)\n",
    "    training_metrics, model_checkpoints = fit(\n",
    "        epochs=TRAINING_EPOCHS,\n",
    "        model=model,\n",
    "        scheduler=constant_lr_scheduler,\n",
    "        optimizer=optimizer,\n",
    "        train_loader=train_loader,\n",
    "        criterion=nn.CrossEntropyLoss(),\n",
    "        evaluation_func=evaluate_model if validation_loader else None,\n",
    "        validation_loader=validation_loader,\n",
    "        save_checkpoints=True,\n",
    "    )\n",
    "\n",
    "    return model, training_metrics, model_checkpoints"
   ]
  },
  {
   "cell_type": "markdown",
   "id": "0ddd2294",
   "metadata": {},
   "source": [
    "### Training metrics plotting"
   ]
  },
  {
   "cell_type": "code",
   "execution_count": 18,
   "id": "4619c4fe",
   "metadata": {},
   "outputs": [],
   "source": [
    "def plt_train_split_training_metrics(training_metrics:DF):\n",
    "    (\n",
    "        px.scatter(\n",
    "            (\n",
    "                training_metrics\n",
    "                .melt(\n",
    "                    id_vars=\"step\",\n",
    "                    value_vars=[\n",
    "                        \"batch_train_loss\",\n",
    "                        \"batch_accuracy\",\n",
    "                    ]\n",
    "                )\n",
    "            ),\n",
    "            x=\"step\",\n",
    "            y=\"value\",\n",
    "            facet_row=\"variable\",\n",
    "            trendline=\"ewm\",\n",
    "            trendline_options={\"com\": 30},\n",
    "            trendline_color_override=\"red\",\n",
    "            title=\"batch metrics\",\n",
    "        )\n",
    "        .update_yaxes(matches=None)\n",
    "        .show()\n",
    "    )\n",
    "\n",
    "def plt_validation_split_training_metrics(training_metrics:DF):\n",
    "    (\n",
    "        px.line(\n",
    "            (\n",
    "                training_metrics\n",
    "                .query(\"validation_loss.notna()\")\n",
    "                .melt(\n",
    "                    id_vars=\"epoch\",\n",
    "                    value_vars=['train_epoch_accuracy', 'validation_accuracy', \"competition_score\"]\n",
    "                )\n",
    "            ),\n",
    "            x=\"epoch\",\n",
    "            y=\"value\",\n",
    "            color=\"variable\",\n",
    "            facet_row=\"variable\",\n",
    "            title=\"epoch metrics\",\n",
    "            render_mode=\"line+marker\",\n",
    "        ).update_yaxes(matches=None)\n",
    "        .show()\n",
    "    )"
   ]
  },
  {
   "cell_type": "markdown",
   "id": "92bee315",
   "metadata": {},
   "source": [
    "## Cross validation training"
   ]
  },
  {
   "cell_type": "code",
   "execution_count": 19,
   "id": "a711c430",
   "metadata": {},
   "outputs": [
    {
     "name": "stdout",
     "output_type": "stream",
     "text": [
      "training: 1\n"
     ]
    },
    {
     "data": {
      "application/vnd.jupyter.widget-view+json": {
       "model_id": "87e09d0c4c544fb581b4895bf4805f16",
       "version_major": 2,
       "version_minor": 0
      },
      "text/plain": [
       "Output()"
      ]
     },
     "metadata": {},
     "output_type": "display_data"
    },
    {
     "data": {
      "text/html": [
       "<pre style=\"white-space:pre;overflow-x:auto;line-height:normal;font-family:Menlo,'DejaVu Sans Mono',consolas,'Courier New',monospace\"></pre>\n"
      ],
      "text/plain": []
     },
     "metadata": {},
     "output_type": "display_data"
    },
    {
     "data": {
      "application/vnd.plotly.v1+json": {
       "config": {
        "plotlyServerURL": "https://plot.ly"
       },
       "data": [
        {
         "hovertemplate": "variable=train_epoch_accuracy<br>epoch=%{x}<br>value=%{y}<extra></extra>",
         "legendgroup": "train_epoch_accuracy",
         "line": {
          "color": "#636efa",
          "dash": "solid"
         },
         "marker": {
          "symbol": "circle"
         },
         "mode": "lines",
         "name": "train_epoch_accuracy",
         "orientation": "v",
         "showlegend": true,
         "type": "scatter",
         "x": {
          "bdata": "AAECAwQFBgcICQoLDA0ODxAREhMUFRYXGBkaGxwdHh8gISIjJCUmJygpKissLS4vMDEyMzQ1Njc4OTo7",
          "dtype": "i1"
         },
         "xaxis": "x3",
         "y": {
          "bdata": "svuNsvvNyT+IngaInibQP2r0kWr0kdM/ZmvFZWvl1j+yQTmyQRnYP/ykMfykkdo//3TX/nQ33T/SGH7SGD7fP++rc++ro+A/JneQJXfw4D+NhP2MhL3hP8bClcXCpeI/qQB0qQBU4z+nMM6mMB7kP/9dWP5daOQ/RWaCRGbS5D9/jG1+jB3lPyLWFiLWZuU/8nsZ8nvJ5T+3ygW3yjXmP7o9gbk9QeY/BERPA0Rv5j8KtW4JtZ7mPyLWFiLWtuY/zJDfy5Df5j+mAtClAsDmP9pacdlaIec/TL/0S78E5z8Pm2UOm1XnP5ogkZkggec/BrfKBbca5z8yEyQyE4TnPwudwQqdsec/UaXrUKXb5z+XrRWXrfXnP1Gl61ClC+g/bsQ3bcQH6D/Q663P6w3oP6oAdKkAFOg/OYRDOIQz6D/Keo7Jen7oP06nR02np+g/EvYzEvbD6D/6Mbb5MeboP7W0tLS05Og/sM69r87t6D8Vaa8Uaf/oPwSheQOhCek/2c9I2M/I6D/HBxPHB+PoP6l1S6h16+g/D/iPDvj/6D95G054G/7oP3UdqnQdGuk/cqoucqr+6D9/6Zd+6RfpP6V3p6R3F+k/j8l6jskK6T95G054Gw7pP8Z86sV8Ouk/",
          "dtype": "f8"
         },
         "yaxis": "y3"
        },
        {
         "hovertemplate": "variable=validation_accuracy<br>epoch=%{x}<br>value=%{y}<extra></extra>",
         "legendgroup": "validation_accuracy",
         "line": {
          "color": "#EF553B",
          "dash": "solid"
         },
         "marker": {
          "symbol": "circle"
         },
         "mode": "lines",
         "name": "validation_accuracy",
         "orientation": "v",
         "showlegend": true,
         "type": "scatter",
         "x": {
          "bdata": "AAECAwQFBgcICQoLDA0ODxAREhMUFRYXGBkaGxwdHh8gISIjJCUmJygpKissLS4vMDEyMzQ1Njc4OTo7",
          "dtype": "i1"
         },
         "xaxis": "x2",
         "y": {
          "bdata": "btu2bds2yT9WVVVVVdXNP7dt27ZtW9A/MQzDMAzD0D/btm3btq3SP7dt27Ztm9Q/JUmSJElS1T9WVVVVVZXWPwAAAAAAANc/AAAAAAAA1j/oeZ7neR7YPwAAAAAAgNg/qqqqqqpq2D8NwzAMwzDZP2EYhmEYxtg/Pc/zPM9z2D8NwzAMw3DYP/M8z/M8j9o/SZIkSZIk2T9JkiRJkqTZP8/zPM/zPNk/8zzP8zwP2j+qqqqqqmrZPyVJkiRJ0tk/t23btm2b2T9hGIZhGAbbP8/zPM/zPNk/AAAAAACA2j+GYRiGYRjaP8/zPM/z/No/kiRJkiRJ2j+3bdu2bRvaP8/zPM/zfNs/Pc/zPM8z2j+f53me57naP1ZVVVVVldk/MQzDMAwD2z+qqqqqqqraP27btm3btto/YRiGYRhG2j+SJEmSJMnaPyVJkiRJUts/t23btm3b2z8xDMMwDAPcPwAAAAAAgNo/kiRJkiTJ2z8lSZIkSVLcP/M8z/M8T9s/VlVVVVUV2z+3bdu2bRvbP5IkSZIkids/GIZhGIZh2z/btm3btm3bPw3DMAzDMNs/n+d5nuf52j/oeZ7ned7bP+h5nud5nts/SZIkSZLk2z9JkiRJkmTcP5IkSZIkids/",
          "dtype": "f8"
         },
         "yaxis": "y2"
        },
        {
         "hovertemplate": "variable=competition_score<br>epoch=%{x}<br>value=%{y}<extra></extra>",
         "legendgroup": "competition_score",
         "line": {
          "color": "#00cc96",
          "dash": "solid"
         },
         "marker": {
          "symbol": "circle"
         },
         "mode": "lines",
         "name": "competition_score",
         "orientation": "v",
         "showlegend": true,
         "type": "scatter",
         "x": {
          "bdata": "AAECAwQFBgcICQoLDA0ODxAREhMUFRYXGBkaGxwdHh8gISIjJCUmJygpKissLS4vMDEyMzQ1Njc4OTo7",
          "dtype": "i1"
         },
         "xaxis": "x",
         "y": {
          "bdata": "DN7pBLGD3T+XasjycV/ZP++Kd0tYy94/wbm88t773z+aLSTgccDeP1PQ+Qh45OA/Icx6+s3h4T+QwO8gU3/hPx9WH8YPIOE/887qoxD94T8V9z6UeBriPyl2y9ybHeM/2IofAo304j9gPYiyWmnjP6pLxPhKGuM/jghyRm4B4z+XXwk6QNfiP0yj8sSJuOM/ztjZYYdR4z9ewvA5EIPjP8Sa04fKj+M/vnQirc+U4z+AB5ioaojjP7++8HyJuuM/IP38Gfu84z+4SfWuHbfjPyQlOIusk+M/XVtfw9724z9TCV7+16LjP2kkFIrA5+M/xamP/wWh4z9s/0zAVY/jP9U2P5xGGOQ/eEyNYAOi4z8p6P+bCeTjPxKSxUcPnOM/j6zcm9u04z/UN4AzytDjP4ESEVAtq+M/ihZUSPgP4z8jbes6e+XjP+EZkLXsBOQ/X0B/Qb0U5D8QIyte8InkPz2U3ebjJuQ/eGdcb2wx5D/fGQVb76jkP8o66Al9OeQ/jEmGynw+5D+yzjPyfhbkP2BvvOXuleQ/aaW8TF1T5D+K94dRI0fkP9BBRP7QIeQ/6lBZ2Uw/5D8G6YVhLGzkP6pNQFai5uM/g4IVq8EK5D9PxdqJbWzkPyVo3oGHPuQ/",
          "dtype": "f8"
         },
         "yaxis": "y"
        }
       ],
       "layout": {
        "annotations": [
         {
          "font": {},
          "showarrow": false,
          "text": "variable=competition_score",
          "textangle": 90,
          "x": 0.98,
          "xanchor": "left",
          "xref": "paper",
          "y": 0.15666666666666665,
          "yanchor": "middle",
          "yref": "paper"
         },
         {
          "font": {},
          "showarrow": false,
          "text": "variable=validation_accuracy",
          "textangle": 90,
          "x": 0.98,
          "xanchor": "left",
          "xref": "paper",
          "y": 0.4999999999999999,
          "yanchor": "middle",
          "yref": "paper"
         },
         {
          "font": {},
          "showarrow": false,
          "text": "variable=train_epoch_accuracy",
          "textangle": 90,
          "x": 0.98,
          "xanchor": "left",
          "xref": "paper",
          "y": 0.8433333333333332,
          "yanchor": "middle",
          "yref": "paper"
         }
        ],
        "legend": {
         "title": {
          "text": "variable"
         },
         "tracegroupgap": 0
        },
        "template": {
         "data": {
          "bar": [
           {
            "error_x": {
             "color": "#2a3f5f"
            },
            "error_y": {
             "color": "#2a3f5f"
            },
            "marker": {
             "line": {
              "color": "#E5ECF6",
              "width": 0.5
             },
             "pattern": {
              "fillmode": "overlay",
              "size": 10,
              "solidity": 0.2
             }
            },
            "type": "bar"
           }
          ],
          "barpolar": [
           {
            "marker": {
             "line": {
              "color": "#E5ECF6",
              "width": 0.5
             },
             "pattern": {
              "fillmode": "overlay",
              "size": 10,
              "solidity": 0.2
             }
            },
            "type": "barpolar"
           }
          ],
          "carpet": [
           {
            "aaxis": {
             "endlinecolor": "#2a3f5f",
             "gridcolor": "white",
             "linecolor": "white",
             "minorgridcolor": "white",
             "startlinecolor": "#2a3f5f"
            },
            "baxis": {
             "endlinecolor": "#2a3f5f",
             "gridcolor": "white",
             "linecolor": "white",
             "minorgridcolor": "white",
             "startlinecolor": "#2a3f5f"
            },
            "type": "carpet"
           }
          ],
          "choropleth": [
           {
            "colorbar": {
             "outlinewidth": 0,
             "ticks": ""
            },
            "type": "choropleth"
           }
          ],
          "contour": [
           {
            "colorbar": {
             "outlinewidth": 0,
             "ticks": ""
            },
            "colorscale": [
             [
              0,
              "#0d0887"
             ],
             [
              0.1111111111111111,
              "#46039f"
             ],
             [
              0.2222222222222222,
              "#7201a8"
             ],
             [
              0.3333333333333333,
              "#9c179e"
             ],
             [
              0.4444444444444444,
              "#bd3786"
             ],
             [
              0.5555555555555556,
              "#d8576b"
             ],
             [
              0.6666666666666666,
              "#ed7953"
             ],
             [
              0.7777777777777778,
              "#fb9f3a"
             ],
             [
              0.8888888888888888,
              "#fdca26"
             ],
             [
              1,
              "#f0f921"
             ]
            ],
            "type": "contour"
           }
          ],
          "contourcarpet": [
           {
            "colorbar": {
             "outlinewidth": 0,
             "ticks": ""
            },
            "type": "contourcarpet"
           }
          ],
          "heatmap": [
           {
            "colorbar": {
             "outlinewidth": 0,
             "ticks": ""
            },
            "colorscale": [
             [
              0,
              "#0d0887"
             ],
             [
              0.1111111111111111,
              "#46039f"
             ],
             [
              0.2222222222222222,
              "#7201a8"
             ],
             [
              0.3333333333333333,
              "#9c179e"
             ],
             [
              0.4444444444444444,
              "#bd3786"
             ],
             [
              0.5555555555555556,
              "#d8576b"
             ],
             [
              0.6666666666666666,
              "#ed7953"
             ],
             [
              0.7777777777777778,
              "#fb9f3a"
             ],
             [
              0.8888888888888888,
              "#fdca26"
             ],
             [
              1,
              "#f0f921"
             ]
            ],
            "type": "heatmap"
           }
          ],
          "histogram": [
           {
            "marker": {
             "pattern": {
              "fillmode": "overlay",
              "size": 10,
              "solidity": 0.2
             }
            },
            "type": "histogram"
           }
          ],
          "histogram2d": [
           {
            "colorbar": {
             "outlinewidth": 0,
             "ticks": ""
            },
            "colorscale": [
             [
              0,
              "#0d0887"
             ],
             [
              0.1111111111111111,
              "#46039f"
             ],
             [
              0.2222222222222222,
              "#7201a8"
             ],
             [
              0.3333333333333333,
              "#9c179e"
             ],
             [
              0.4444444444444444,
              "#bd3786"
             ],
             [
              0.5555555555555556,
              "#d8576b"
             ],
             [
              0.6666666666666666,
              "#ed7953"
             ],
             [
              0.7777777777777778,
              "#fb9f3a"
             ],
             [
              0.8888888888888888,
              "#fdca26"
             ],
             [
              1,
              "#f0f921"
             ]
            ],
            "type": "histogram2d"
           }
          ],
          "histogram2dcontour": [
           {
            "colorbar": {
             "outlinewidth": 0,
             "ticks": ""
            },
            "colorscale": [
             [
              0,
              "#0d0887"
             ],
             [
              0.1111111111111111,
              "#46039f"
             ],
             [
              0.2222222222222222,
              "#7201a8"
             ],
             [
              0.3333333333333333,
              "#9c179e"
             ],
             [
              0.4444444444444444,
              "#bd3786"
             ],
             [
              0.5555555555555556,
              "#d8576b"
             ],
             [
              0.6666666666666666,
              "#ed7953"
             ],
             [
              0.7777777777777778,
              "#fb9f3a"
             ],
             [
              0.8888888888888888,
              "#fdca26"
             ],
             [
              1,
              "#f0f921"
             ]
            ],
            "type": "histogram2dcontour"
           }
          ],
          "mesh3d": [
           {
            "colorbar": {
             "outlinewidth": 0,
             "ticks": ""
            },
            "type": "mesh3d"
           }
          ],
          "parcoords": [
           {
            "line": {
             "colorbar": {
              "outlinewidth": 0,
              "ticks": ""
             }
            },
            "type": "parcoords"
           }
          ],
          "pie": [
           {
            "automargin": true,
            "type": "pie"
           }
          ],
          "scatter": [
           {
            "fillpattern": {
             "fillmode": "overlay",
             "size": 10,
             "solidity": 0.2
            },
            "type": "scatter"
           }
          ],
          "scatter3d": [
           {
            "line": {
             "colorbar": {
              "outlinewidth": 0,
              "ticks": ""
             }
            },
            "marker": {
             "colorbar": {
              "outlinewidth": 0,
              "ticks": ""
             }
            },
            "type": "scatter3d"
           }
          ],
          "scattercarpet": [
           {
            "marker": {
             "colorbar": {
              "outlinewidth": 0,
              "ticks": ""
             }
            },
            "type": "scattercarpet"
           }
          ],
          "scattergeo": [
           {
            "marker": {
             "colorbar": {
              "outlinewidth": 0,
              "ticks": ""
             }
            },
            "type": "scattergeo"
           }
          ],
          "scattergl": [
           {
            "marker": {
             "colorbar": {
              "outlinewidth": 0,
              "ticks": ""
             }
            },
            "type": "scattergl"
           }
          ],
          "scattermap": [
           {
            "marker": {
             "colorbar": {
              "outlinewidth": 0,
              "ticks": ""
             }
            },
            "type": "scattermap"
           }
          ],
          "scattermapbox": [
           {
            "marker": {
             "colorbar": {
              "outlinewidth": 0,
              "ticks": ""
             }
            },
            "type": "scattermapbox"
           }
          ],
          "scatterpolar": [
           {
            "marker": {
             "colorbar": {
              "outlinewidth": 0,
              "ticks": ""
             }
            },
            "type": "scatterpolar"
           }
          ],
          "scatterpolargl": [
           {
            "marker": {
             "colorbar": {
              "outlinewidth": 0,
              "ticks": ""
             }
            },
            "type": "scatterpolargl"
           }
          ],
          "scatterternary": [
           {
            "marker": {
             "colorbar": {
              "outlinewidth": 0,
              "ticks": ""
             }
            },
            "type": "scatterternary"
           }
          ],
          "surface": [
           {
            "colorbar": {
             "outlinewidth": 0,
             "ticks": ""
            },
            "colorscale": [
             [
              0,
              "#0d0887"
             ],
             [
              0.1111111111111111,
              "#46039f"
             ],
             [
              0.2222222222222222,
              "#7201a8"
             ],
             [
              0.3333333333333333,
              "#9c179e"
             ],
             [
              0.4444444444444444,
              "#bd3786"
             ],
             [
              0.5555555555555556,
              "#d8576b"
             ],
             [
              0.6666666666666666,
              "#ed7953"
             ],
             [
              0.7777777777777778,
              "#fb9f3a"
             ],
             [
              0.8888888888888888,
              "#fdca26"
             ],
             [
              1,
              "#f0f921"
             ]
            ],
            "type": "surface"
           }
          ],
          "table": [
           {
            "cells": {
             "fill": {
              "color": "#EBF0F8"
             },
             "line": {
              "color": "white"
             }
            },
            "header": {
             "fill": {
              "color": "#C8D4E3"
             },
             "line": {
              "color": "white"
             }
            },
            "type": "table"
           }
          ]
         },
         "layout": {
          "annotationdefaults": {
           "arrowcolor": "#2a3f5f",
           "arrowhead": 0,
           "arrowwidth": 1
          },
          "autotypenumbers": "strict",
          "coloraxis": {
           "colorbar": {
            "outlinewidth": 0,
            "ticks": ""
           }
          },
          "colorscale": {
           "diverging": [
            [
             0,
             "#8e0152"
            ],
            [
             0.1,
             "#c51b7d"
            ],
            [
             0.2,
             "#de77ae"
            ],
            [
             0.3,
             "#f1b6da"
            ],
            [
             0.4,
             "#fde0ef"
            ],
            [
             0.5,
             "#f7f7f7"
            ],
            [
             0.6,
             "#e6f5d0"
            ],
            [
             0.7,
             "#b8e186"
            ],
            [
             0.8,
             "#7fbc41"
            ],
            [
             0.9,
             "#4d9221"
            ],
            [
             1,
             "#276419"
            ]
           ],
           "sequential": [
            [
             0,
             "#0d0887"
            ],
            [
             0.1111111111111111,
             "#46039f"
            ],
            [
             0.2222222222222222,
             "#7201a8"
            ],
            [
             0.3333333333333333,
             "#9c179e"
            ],
            [
             0.4444444444444444,
             "#bd3786"
            ],
            [
             0.5555555555555556,
             "#d8576b"
            ],
            [
             0.6666666666666666,
             "#ed7953"
            ],
            [
             0.7777777777777778,
             "#fb9f3a"
            ],
            [
             0.8888888888888888,
             "#fdca26"
            ],
            [
             1,
             "#f0f921"
            ]
           ],
           "sequentialminus": [
            [
             0,
             "#0d0887"
            ],
            [
             0.1111111111111111,
             "#46039f"
            ],
            [
             0.2222222222222222,
             "#7201a8"
            ],
            [
             0.3333333333333333,
             "#9c179e"
            ],
            [
             0.4444444444444444,
             "#bd3786"
            ],
            [
             0.5555555555555556,
             "#d8576b"
            ],
            [
             0.6666666666666666,
             "#ed7953"
            ],
            [
             0.7777777777777778,
             "#fb9f3a"
            ],
            [
             0.8888888888888888,
             "#fdca26"
            ],
            [
             1,
             "#f0f921"
            ]
           ]
          },
          "colorway": [
           "#636efa",
           "#EF553B",
           "#00cc96",
           "#ab63fa",
           "#FFA15A",
           "#19d3f3",
           "#FF6692",
           "#B6E880",
           "#FF97FF",
           "#FECB52"
          ],
          "font": {
           "color": "#2a3f5f"
          },
          "geo": {
           "bgcolor": "white",
           "lakecolor": "white",
           "landcolor": "#E5ECF6",
           "showlakes": true,
           "showland": true,
           "subunitcolor": "white"
          },
          "hoverlabel": {
           "align": "left"
          },
          "hovermode": "closest",
          "mapbox": {
           "style": "light"
          },
          "paper_bgcolor": "white",
          "plot_bgcolor": "#E5ECF6",
          "polar": {
           "angularaxis": {
            "gridcolor": "white",
            "linecolor": "white",
            "ticks": ""
           },
           "bgcolor": "#E5ECF6",
           "radialaxis": {
            "gridcolor": "white",
            "linecolor": "white",
            "ticks": ""
           }
          },
          "scene": {
           "xaxis": {
            "backgroundcolor": "#E5ECF6",
            "gridcolor": "white",
            "gridwidth": 2,
            "linecolor": "white",
            "showbackground": true,
            "ticks": "",
            "zerolinecolor": "white"
           },
           "yaxis": {
            "backgroundcolor": "#E5ECF6",
            "gridcolor": "white",
            "gridwidth": 2,
            "linecolor": "white",
            "showbackground": true,
            "ticks": "",
            "zerolinecolor": "white"
           },
           "zaxis": {
            "backgroundcolor": "#E5ECF6",
            "gridcolor": "white",
            "gridwidth": 2,
            "linecolor": "white",
            "showbackground": true,
            "ticks": "",
            "zerolinecolor": "white"
           }
          },
          "shapedefaults": {
           "line": {
            "color": "#2a3f5f"
           }
          },
          "ternary": {
           "aaxis": {
            "gridcolor": "white",
            "linecolor": "white",
            "ticks": ""
           },
           "baxis": {
            "gridcolor": "white",
            "linecolor": "white",
            "ticks": ""
           },
           "bgcolor": "#E5ECF6",
           "caxis": {
            "gridcolor": "white",
            "linecolor": "white",
            "ticks": ""
           }
          },
          "title": {
           "x": 0.05
          },
          "xaxis": {
           "automargin": true,
           "gridcolor": "white",
           "linecolor": "white",
           "ticks": "",
           "title": {
            "standoff": 15
           },
           "zerolinecolor": "white",
           "zerolinewidth": 2
          },
          "yaxis": {
           "automargin": true,
           "gridcolor": "white",
           "linecolor": "white",
           "ticks": "",
           "title": {
            "standoff": 15
           },
           "zerolinecolor": "white",
           "zerolinewidth": 2
          }
         }
        },
        "title": {
         "text": "epoch metrics"
        },
        "xaxis": {
         "anchor": "y",
         "domain": [
          0,
          0.98
         ],
         "title": {
          "text": "epoch"
         }
        },
        "xaxis2": {
         "anchor": "y2",
         "domain": [
          0,
          0.98
         ],
         "matches": "x",
         "showticklabels": false
        },
        "xaxis3": {
         "anchor": "y3",
         "domain": [
          0,
          0.98
         ],
         "matches": "x",
         "showticklabels": false
        },
        "yaxis": {
         "anchor": "x",
         "domain": [
          0,
          0.3133333333333333
         ],
         "title": {
          "text": "value"
         }
        },
        "yaxis2": {
         "anchor": "x2",
         "domain": [
          0.34333333333333327,
          0.6566666666666665
         ],
         "title": {
          "text": "value"
         }
        },
        "yaxis3": {
         "anchor": "x3",
         "domain": [
          0.6866666666666665,
          0.9999999999999998
         ],
         "title": {
          "text": "value"
         }
        }
       }
      }
     },
     "metadata": {},
     "output_type": "display_data"
    },
    {
     "name": "stdout",
     "output_type": "stream",
     "text": [
      "=========================\n",
      "training: 2\n"
     ]
    },
    {
     "data": {
      "application/vnd.jupyter.widget-view+json": {
       "model_id": "ccf5eca3d6d842e4ab65116a18b058fb",
       "version_major": 2,
       "version_minor": 0
      },
      "text/plain": [
       "Output()"
      ]
     },
     "metadata": {},
     "output_type": "display_data"
    },
    {
     "data": {
      "text/html": [
       "<pre style=\"white-space:pre;overflow-x:auto;line-height:normal;font-family:Menlo,'DejaVu Sans Mono',consolas,'Courier New',monospace\"></pre>\n"
      ],
      "text/plain": []
     },
     "metadata": {},
     "output_type": "display_data"
    },
    {
     "data": {
      "application/vnd.plotly.v1+json": {
       "config": {
        "plotlyServerURL": "https://plot.ly"
       },
       "data": [
        {
         "hovertemplate": "variable=train_epoch_accuracy<br>epoch=%{x}<br>value=%{y}<extra></extra>",
         "legendgroup": "train_epoch_accuracy",
         "line": {
          "color": "#636efa",
          "dash": "solid"
         },
         "marker": {
          "symbol": "circle"
         },
         "mode": "lines",
         "name": "train_epoch_accuracy",
         "orientation": "v",
         "showlegend": true,
         "type": "scatter",
         "x": {
          "bdata": "AAECAwQFBgcICQoLDA0ODxAREhMUFRYXGBkaGxwdHh8gISIjJCUmJygpKissLS4vMDEyMzQ1Njc4OTo7",
          "dtype": "i1"
         },
         "xaxis": "x3",
         "y": {
          "bdata": "gGjuTDX7wz9RdKsdQbjQP5dv+ZZvudM/OpzDOZzj1D/5xZJfLJnWP/SgdcBtAtc/4GXErDKx1z/8keyVK4bYP+BlxKwy8dg/xAp5XaSS2T/ij2SvXNHZP4Ze6IVeiNo/WfKLJb8Y2z/BD/zADzzbP/bKFcOXAtw/z1SzmyHA3D+PfoLBsbXcP2cIIJo7E90/4r6HFfLa3j8TyBpG+23gP9n8M6bJcOA/ZpWJzPvP4D//jGkywBzhP9gWBwtKSuE/0vHpa4tj4T/L5p8xTXbhPzIe4zEek+E/ErPKROZ94T9VhHi76q7hP4UadR60zuE/Ql4XqcTt4T8vI2aViezhPwbH1tKTE+I/Uon7HlbY4T9HbuRGbjTiP8z77zJi5uI/kzAJkzDp4j+QNYz2myLjP3r/XUbMCuM/MzMzMzNj4z9k3n+XEYPjP1qplVqpNeM/exSuR+Fq4z/1hqJb7ZjjPywo6fj01eM/rJDXRSrB4z8a02SAOavjP5pqdjME0OM/BbKG0X7j4z8HrQNuE8rjP66lJ0c/seM/bs/2bM/W4z8nGBxbS9/jP3sUrkfh+uM/dgThqTcE5D+nry0OFiTkP6yQ10UqAeQ/GgKI5s704z+iihBvVw3kP/F21b1DIuQ/",
          "dtype": "f8"
         },
         "yaxis": "y3"
        },
        {
         "hovertemplate": "variable=validation_accuracy<br>epoch=%{x}<br>value=%{y}<extra></extra>",
         "legendgroup": "validation_accuracy",
         "line": {
          "color": "#EF553B",
          "dash": "solid"
         },
         "marker": {
          "symbol": "circle"
         },
         "mode": "lines",
         "name": "validation_accuracy",
         "orientation": "v",
         "showlegend": true,
         "type": "scatter",
         "x": {
          "bdata": "AAECAwQFBgcICQoLDA0ODxAREhMUFRYXGBkaGxwdHh8gISIjJCUmJygpKissLS4vMDEyMzQ1Njc4OTo7",
          "dtype": "i1"
         },
         "xaxis": "x2",
         "y": {
          "bdata": "o1STx50lyT/RWB8a60PPPwgYpZo87s8/i6/4iq+40D+k9+daZcPQPw+N9aGxvtE/SZIkSZJk0j9X2XDEtOfRP4lpT2QgvdI/mfZEBtJ70T8CRqkmj/vRPz6RgfT+nNI/AkapJo+70j/ZcMS0J/LSPzBKNXncWdM/kiRJkiQJ0z9wIWCUavLSP0DXKhuOmNI/x/rQWB9a0z/AKNXkcWfVP9u2bdu2LdQ/vuIrvuJr1T/ObyFglCrVP66y4Yhpz9U/SZIkSZLk1D9u27Zt2zbVP2uVDUdM+9U/QNcqG46Y1T/3RAbS+3PVPztL2M1vIdY/niXs5reQ1T8iA+n9uRbWPzKQ3p9rVdU/VZPHnSVs1T/AKNXkcafWP3eWsJvfQtc/B3VQB3VQ1z8GL6fg5dTXP9OeyEB6f9g/B3VQB3WQ2D/XKhuOmPbVP6EO6qAO6tY/OQUvp+Bl1z83v4WAUerXP4tSTR53ltg/T8HLKXh52D/XKhuOmLbXP/ByCl5OQdg/sJvfQsAo1z/J484SdjPYPwd1UAd1UNg/aU9kIL1/2D+1JzKQ3l/XP5Den2uVjdc/NnncWcIu2T9awm5+C0HZP3VQB3VQR9g/RQbS+3Nt2D9jfWisDw3ZP017IgPpPdk/",
          "dtype": "f8"
         },
         "yaxis": "y2"
        },
        {
         "hovertemplate": "variable=competition_score<br>epoch=%{x}<br>value=%{y}<extra></extra>",
         "legendgroup": "competition_score",
         "line": {
          "color": "#00cc96",
          "dash": "solid"
         },
         "marker": {
          "symbol": "circle"
         },
         "mode": "lines",
         "name": "competition_score",
         "orientation": "v",
         "showlegend": true,
         "type": "scatter",
         "x": {
          "bdata": "AAECAwQFBgcICQoLDA0ODxAREhMUFRYXGBkaGxwdHh8gISIjJCUmJygpKissLS4vMDEyMzQ1Njc4OTo7",
          "dtype": "i1"
         },
         "xaxis": "x",
         "y": {
          "bdata": "FBsfr02Y3z+fzbWW+GjgP9mVLTOtON8/oluDpV1E4D8xwONSmOrgP4km8wDlWuA/1NC9Ptc44T/iNQh2qYPgP+Rna1jlDOE/ytVMk++w4D9MClpyAdrgP38nDmd1PeE/jsTgUA9k4T8ZS0Uy8TrhP9a5cruT0+E/968O8j6q4T/3t/Bx1Y3hP1fcG45yEOE/YGzXUWS/4T9YHuID4qnhP9yj49eGseE/0F7N/RwN4j+Du13ffdXhPzQcKiP95OE/vrXLhoGx4T+ZgydVt8vhPwOuxfwNNuI//u4eV9Ti4T/kVB2kWPPhP8zUBpJVPOI/j32SQyQa4j/EwUO7Iz7iP9RgVMepK+I/9HqFfNIM4j+KD//porXhP7ZfNPr7y+E/HPEfTPru4T+o/58OjM3hP/DnLlXTw+E/xzs9hurT4T+5zCXv91fhP+BLg3eD5+E/1qd/8v1k4T/ifQFayIDhP9Bzn1MxpeE/9v8tl0i14T/yctoWFnfhP4YfFKc38eE/6cWo5fWv4T/2owkfB6PhPwchcMMmROE/6ENb+k884T9SW/YOtCrhPy2itTeK9OA/0GeiClW34T+okD1zJ5vhP7hdnie2ZuE/Rt5JkEmN4T8ERDzscpThP6Y1wG/+iOE/",
          "dtype": "f8"
         },
         "yaxis": "y"
        }
       ],
       "layout": {
        "annotations": [
         {
          "font": {},
          "showarrow": false,
          "text": "variable=competition_score",
          "textangle": 90,
          "x": 0.98,
          "xanchor": "left",
          "xref": "paper",
          "y": 0.15666666666666665,
          "yanchor": "middle",
          "yref": "paper"
         },
         {
          "font": {},
          "showarrow": false,
          "text": "variable=validation_accuracy",
          "textangle": 90,
          "x": 0.98,
          "xanchor": "left",
          "xref": "paper",
          "y": 0.4999999999999999,
          "yanchor": "middle",
          "yref": "paper"
         },
         {
          "font": {},
          "showarrow": false,
          "text": "variable=train_epoch_accuracy",
          "textangle": 90,
          "x": 0.98,
          "xanchor": "left",
          "xref": "paper",
          "y": 0.8433333333333332,
          "yanchor": "middle",
          "yref": "paper"
         }
        ],
        "legend": {
         "title": {
          "text": "variable"
         },
         "tracegroupgap": 0
        },
        "template": {
         "data": {
          "bar": [
           {
            "error_x": {
             "color": "#2a3f5f"
            },
            "error_y": {
             "color": "#2a3f5f"
            },
            "marker": {
             "line": {
              "color": "#E5ECF6",
              "width": 0.5
             },
             "pattern": {
              "fillmode": "overlay",
              "size": 10,
              "solidity": 0.2
             }
            },
            "type": "bar"
           }
          ],
          "barpolar": [
           {
            "marker": {
             "line": {
              "color": "#E5ECF6",
              "width": 0.5
             },
             "pattern": {
              "fillmode": "overlay",
              "size": 10,
              "solidity": 0.2
             }
            },
            "type": "barpolar"
           }
          ],
          "carpet": [
           {
            "aaxis": {
             "endlinecolor": "#2a3f5f",
             "gridcolor": "white",
             "linecolor": "white",
             "minorgridcolor": "white",
             "startlinecolor": "#2a3f5f"
            },
            "baxis": {
             "endlinecolor": "#2a3f5f",
             "gridcolor": "white",
             "linecolor": "white",
             "minorgridcolor": "white",
             "startlinecolor": "#2a3f5f"
            },
            "type": "carpet"
           }
          ],
          "choropleth": [
           {
            "colorbar": {
             "outlinewidth": 0,
             "ticks": ""
            },
            "type": "choropleth"
           }
          ],
          "contour": [
           {
            "colorbar": {
             "outlinewidth": 0,
             "ticks": ""
            },
            "colorscale": [
             [
              0,
              "#0d0887"
             ],
             [
              0.1111111111111111,
              "#46039f"
             ],
             [
              0.2222222222222222,
              "#7201a8"
             ],
             [
              0.3333333333333333,
              "#9c179e"
             ],
             [
              0.4444444444444444,
              "#bd3786"
             ],
             [
              0.5555555555555556,
              "#d8576b"
             ],
             [
              0.6666666666666666,
              "#ed7953"
             ],
             [
              0.7777777777777778,
              "#fb9f3a"
             ],
             [
              0.8888888888888888,
              "#fdca26"
             ],
             [
              1,
              "#f0f921"
             ]
            ],
            "type": "contour"
           }
          ],
          "contourcarpet": [
           {
            "colorbar": {
             "outlinewidth": 0,
             "ticks": ""
            },
            "type": "contourcarpet"
           }
          ],
          "heatmap": [
           {
            "colorbar": {
             "outlinewidth": 0,
             "ticks": ""
            },
            "colorscale": [
             [
              0,
              "#0d0887"
             ],
             [
              0.1111111111111111,
              "#46039f"
             ],
             [
              0.2222222222222222,
              "#7201a8"
             ],
             [
              0.3333333333333333,
              "#9c179e"
             ],
             [
              0.4444444444444444,
              "#bd3786"
             ],
             [
              0.5555555555555556,
              "#d8576b"
             ],
             [
              0.6666666666666666,
              "#ed7953"
             ],
             [
              0.7777777777777778,
              "#fb9f3a"
             ],
             [
              0.8888888888888888,
              "#fdca26"
             ],
             [
              1,
              "#f0f921"
             ]
            ],
            "type": "heatmap"
           }
          ],
          "histogram": [
           {
            "marker": {
             "pattern": {
              "fillmode": "overlay",
              "size": 10,
              "solidity": 0.2
             }
            },
            "type": "histogram"
           }
          ],
          "histogram2d": [
           {
            "colorbar": {
             "outlinewidth": 0,
             "ticks": ""
            },
            "colorscale": [
             [
              0,
              "#0d0887"
             ],
             [
              0.1111111111111111,
              "#46039f"
             ],
             [
              0.2222222222222222,
              "#7201a8"
             ],
             [
              0.3333333333333333,
              "#9c179e"
             ],
             [
              0.4444444444444444,
              "#bd3786"
             ],
             [
              0.5555555555555556,
              "#d8576b"
             ],
             [
              0.6666666666666666,
              "#ed7953"
             ],
             [
              0.7777777777777778,
              "#fb9f3a"
             ],
             [
              0.8888888888888888,
              "#fdca26"
             ],
             [
              1,
              "#f0f921"
             ]
            ],
            "type": "histogram2d"
           }
          ],
          "histogram2dcontour": [
           {
            "colorbar": {
             "outlinewidth": 0,
             "ticks": ""
            },
            "colorscale": [
             [
              0,
              "#0d0887"
             ],
             [
              0.1111111111111111,
              "#46039f"
             ],
             [
              0.2222222222222222,
              "#7201a8"
             ],
             [
              0.3333333333333333,
              "#9c179e"
             ],
             [
              0.4444444444444444,
              "#bd3786"
             ],
             [
              0.5555555555555556,
              "#d8576b"
             ],
             [
              0.6666666666666666,
              "#ed7953"
             ],
             [
              0.7777777777777778,
              "#fb9f3a"
             ],
             [
              0.8888888888888888,
              "#fdca26"
             ],
             [
              1,
              "#f0f921"
             ]
            ],
            "type": "histogram2dcontour"
           }
          ],
          "mesh3d": [
           {
            "colorbar": {
             "outlinewidth": 0,
             "ticks": ""
            },
            "type": "mesh3d"
           }
          ],
          "parcoords": [
           {
            "line": {
             "colorbar": {
              "outlinewidth": 0,
              "ticks": ""
             }
            },
            "type": "parcoords"
           }
          ],
          "pie": [
           {
            "automargin": true,
            "type": "pie"
           }
          ],
          "scatter": [
           {
            "fillpattern": {
             "fillmode": "overlay",
             "size": 10,
             "solidity": 0.2
            },
            "type": "scatter"
           }
          ],
          "scatter3d": [
           {
            "line": {
             "colorbar": {
              "outlinewidth": 0,
              "ticks": ""
             }
            },
            "marker": {
             "colorbar": {
              "outlinewidth": 0,
              "ticks": ""
             }
            },
            "type": "scatter3d"
           }
          ],
          "scattercarpet": [
           {
            "marker": {
             "colorbar": {
              "outlinewidth": 0,
              "ticks": ""
             }
            },
            "type": "scattercarpet"
           }
          ],
          "scattergeo": [
           {
            "marker": {
             "colorbar": {
              "outlinewidth": 0,
              "ticks": ""
             }
            },
            "type": "scattergeo"
           }
          ],
          "scattergl": [
           {
            "marker": {
             "colorbar": {
              "outlinewidth": 0,
              "ticks": ""
             }
            },
            "type": "scattergl"
           }
          ],
          "scattermap": [
           {
            "marker": {
             "colorbar": {
              "outlinewidth": 0,
              "ticks": ""
             }
            },
            "type": "scattermap"
           }
          ],
          "scattermapbox": [
           {
            "marker": {
             "colorbar": {
              "outlinewidth": 0,
              "ticks": ""
             }
            },
            "type": "scattermapbox"
           }
          ],
          "scatterpolar": [
           {
            "marker": {
             "colorbar": {
              "outlinewidth": 0,
              "ticks": ""
             }
            },
            "type": "scatterpolar"
           }
          ],
          "scatterpolargl": [
           {
            "marker": {
             "colorbar": {
              "outlinewidth": 0,
              "ticks": ""
             }
            },
            "type": "scatterpolargl"
           }
          ],
          "scatterternary": [
           {
            "marker": {
             "colorbar": {
              "outlinewidth": 0,
              "ticks": ""
             }
            },
            "type": "scatterternary"
           }
          ],
          "surface": [
           {
            "colorbar": {
             "outlinewidth": 0,
             "ticks": ""
            },
            "colorscale": [
             [
              0,
              "#0d0887"
             ],
             [
              0.1111111111111111,
              "#46039f"
             ],
             [
              0.2222222222222222,
              "#7201a8"
             ],
             [
              0.3333333333333333,
              "#9c179e"
             ],
             [
              0.4444444444444444,
              "#bd3786"
             ],
             [
              0.5555555555555556,
              "#d8576b"
             ],
             [
              0.6666666666666666,
              "#ed7953"
             ],
             [
              0.7777777777777778,
              "#fb9f3a"
             ],
             [
              0.8888888888888888,
              "#fdca26"
             ],
             [
              1,
              "#f0f921"
             ]
            ],
            "type": "surface"
           }
          ],
          "table": [
           {
            "cells": {
             "fill": {
              "color": "#EBF0F8"
             },
             "line": {
              "color": "white"
             }
            },
            "header": {
             "fill": {
              "color": "#C8D4E3"
             },
             "line": {
              "color": "white"
             }
            },
            "type": "table"
           }
          ]
         },
         "layout": {
          "annotationdefaults": {
           "arrowcolor": "#2a3f5f",
           "arrowhead": 0,
           "arrowwidth": 1
          },
          "autotypenumbers": "strict",
          "coloraxis": {
           "colorbar": {
            "outlinewidth": 0,
            "ticks": ""
           }
          },
          "colorscale": {
           "diverging": [
            [
             0,
             "#8e0152"
            ],
            [
             0.1,
             "#c51b7d"
            ],
            [
             0.2,
             "#de77ae"
            ],
            [
             0.3,
             "#f1b6da"
            ],
            [
             0.4,
             "#fde0ef"
            ],
            [
             0.5,
             "#f7f7f7"
            ],
            [
             0.6,
             "#e6f5d0"
            ],
            [
             0.7,
             "#b8e186"
            ],
            [
             0.8,
             "#7fbc41"
            ],
            [
             0.9,
             "#4d9221"
            ],
            [
             1,
             "#276419"
            ]
           ],
           "sequential": [
            [
             0,
             "#0d0887"
            ],
            [
             0.1111111111111111,
             "#46039f"
            ],
            [
             0.2222222222222222,
             "#7201a8"
            ],
            [
             0.3333333333333333,
             "#9c179e"
            ],
            [
             0.4444444444444444,
             "#bd3786"
            ],
            [
             0.5555555555555556,
             "#d8576b"
            ],
            [
             0.6666666666666666,
             "#ed7953"
            ],
            [
             0.7777777777777778,
             "#fb9f3a"
            ],
            [
             0.8888888888888888,
             "#fdca26"
            ],
            [
             1,
             "#f0f921"
            ]
           ],
           "sequentialminus": [
            [
             0,
             "#0d0887"
            ],
            [
             0.1111111111111111,
             "#46039f"
            ],
            [
             0.2222222222222222,
             "#7201a8"
            ],
            [
             0.3333333333333333,
             "#9c179e"
            ],
            [
             0.4444444444444444,
             "#bd3786"
            ],
            [
             0.5555555555555556,
             "#d8576b"
            ],
            [
             0.6666666666666666,
             "#ed7953"
            ],
            [
             0.7777777777777778,
             "#fb9f3a"
            ],
            [
             0.8888888888888888,
             "#fdca26"
            ],
            [
             1,
             "#f0f921"
            ]
           ]
          },
          "colorway": [
           "#636efa",
           "#EF553B",
           "#00cc96",
           "#ab63fa",
           "#FFA15A",
           "#19d3f3",
           "#FF6692",
           "#B6E880",
           "#FF97FF",
           "#FECB52"
          ],
          "font": {
           "color": "#2a3f5f"
          },
          "geo": {
           "bgcolor": "white",
           "lakecolor": "white",
           "landcolor": "#E5ECF6",
           "showlakes": true,
           "showland": true,
           "subunitcolor": "white"
          },
          "hoverlabel": {
           "align": "left"
          },
          "hovermode": "closest",
          "mapbox": {
           "style": "light"
          },
          "paper_bgcolor": "white",
          "plot_bgcolor": "#E5ECF6",
          "polar": {
           "angularaxis": {
            "gridcolor": "white",
            "linecolor": "white",
            "ticks": ""
           },
           "bgcolor": "#E5ECF6",
           "radialaxis": {
            "gridcolor": "white",
            "linecolor": "white",
            "ticks": ""
           }
          },
          "scene": {
           "xaxis": {
            "backgroundcolor": "#E5ECF6",
            "gridcolor": "white",
            "gridwidth": 2,
            "linecolor": "white",
            "showbackground": true,
            "ticks": "",
            "zerolinecolor": "white"
           },
           "yaxis": {
            "backgroundcolor": "#E5ECF6",
            "gridcolor": "white",
            "gridwidth": 2,
            "linecolor": "white",
            "showbackground": true,
            "ticks": "",
            "zerolinecolor": "white"
           },
           "zaxis": {
            "backgroundcolor": "#E5ECF6",
            "gridcolor": "white",
            "gridwidth": 2,
            "linecolor": "white",
            "showbackground": true,
            "ticks": "",
            "zerolinecolor": "white"
           }
          },
          "shapedefaults": {
           "line": {
            "color": "#2a3f5f"
           }
          },
          "ternary": {
           "aaxis": {
            "gridcolor": "white",
            "linecolor": "white",
            "ticks": ""
           },
           "baxis": {
            "gridcolor": "white",
            "linecolor": "white",
            "ticks": ""
           },
           "bgcolor": "#E5ECF6",
           "caxis": {
            "gridcolor": "white",
            "linecolor": "white",
            "ticks": ""
           }
          },
          "title": {
           "x": 0.05
          },
          "xaxis": {
           "automargin": true,
           "gridcolor": "white",
           "linecolor": "white",
           "ticks": "",
           "title": {
            "standoff": 15
           },
           "zerolinecolor": "white",
           "zerolinewidth": 2
          },
          "yaxis": {
           "automargin": true,
           "gridcolor": "white",
           "linecolor": "white",
           "ticks": "",
           "title": {
            "standoff": 15
           },
           "zerolinecolor": "white",
           "zerolinewidth": 2
          }
         }
        },
        "title": {
         "text": "epoch metrics"
        },
        "xaxis": {
         "anchor": "y",
         "domain": [
          0,
          0.98
         ],
         "title": {
          "text": "epoch"
         }
        },
        "xaxis2": {
         "anchor": "y2",
         "domain": [
          0,
          0.98
         ],
         "matches": "x",
         "showticklabels": false
        },
        "xaxis3": {
         "anchor": "y3",
         "domain": [
          0,
          0.98
         ],
         "matches": "x",
         "showticklabels": false
        },
        "yaxis": {
         "anchor": "x",
         "domain": [
          0,
          0.3133333333333333
         ],
         "title": {
          "text": "value"
         }
        },
        "yaxis2": {
         "anchor": "x2",
         "domain": [
          0.34333333333333327,
          0.6566666666666665
         ],
         "title": {
          "text": "value"
         }
        },
        "yaxis3": {
         "anchor": "x3",
         "domain": [
          0.6866666666666665,
          0.9999999999999998
         ],
         "title": {
          "text": "value"
         }
        }
       }
      }
     },
     "metadata": {},
     "output_type": "display_data"
    },
    {
     "name": "stdout",
     "output_type": "stream",
     "text": [
      "=========================\n",
      "training: 3\n"
     ]
    },
    {
     "data": {
      "application/vnd.jupyter.widget-view+json": {
       "model_id": "8f6efc7ca9fc43c0ae32c4ae061b1024",
       "version_major": 2,
       "version_minor": 0
      },
      "text/plain": [
       "Output()"
      ]
     },
     "metadata": {},
     "output_type": "display_data"
    },
    {
     "data": {
      "text/html": [
       "<pre style=\"white-space:pre;overflow-x:auto;line-height:normal;font-family:Menlo,'DejaVu Sans Mono',consolas,'Courier New',monospace\"></pre>\n"
      ],
      "text/plain": []
     },
     "metadata": {},
     "output_type": "display_data"
    },
    {
     "data": {
      "application/vnd.plotly.v1+json": {
       "config": {
        "plotlyServerURL": "https://plot.ly"
       },
       "data": [
        {
         "hovertemplate": "variable=train_epoch_accuracy<br>epoch=%{x}<br>value=%{y}<extra></extra>",
         "legendgroup": "train_epoch_accuracy",
         "line": {
          "color": "#636efa",
          "dash": "solid"
         },
         "marker": {
          "symbol": "circle"
         },
         "mode": "lines",
         "name": "train_epoch_accuracy",
         "orientation": "v",
         "showlegend": true,
         "type": "scatter",
         "x": {
          "bdata": "AAECAwQFBgcICQoLDA0ODxAREhMUFRYXGBkaGxwdHh8gISIjJCUmJygpKissLS4vMDEyMzQ1Njc4OTo7",
          "dtype": "i1"
         },
         "xaxis": "x3",
         "y": {
          "bdata": "t8oFt8pFxT9yB1lyB5nKP4sRgooRwss/ZA/JYw+JzT8D5yQD52TQPwF0qQB0adI/CuNsCuPs0j+P93iP9zjTP2v0kWr00dM/l60Vl6211D8m1Lol1HrWP3wZ8nsZstY/sHGTr3Hz1z+OPlKNPvLYPy7QAi3QYtk/pl/6pV/62T86ycA5yYDbPzf5Gjf5+ts/CeSaCORa3D8J5JoI5BrdP7qaq7maa90/MFr9L1o93j+EQziEQ1jgP/kaN/kat+A/qLv2p7sm4T+vFGmvFFnhP8bClcXCheE/NrSdNbTd4T8Wl60Vl+3hP9OMJ9OM5+E/mNsTmNvz4T/NGwjNGxjiP7xT0rtTIuI/Ppg4PpgY4j/INRHINTHiP3FlsXBlQeI/+gKK+gJK4j++aSO+aUPiP+FWueBWWeI/8h7v8R5f4j9G8apF8WriP84DW84De+I/RvGqRfGq4j95pnZ5ppbjPzQpdTQppeM/FQyFFAy14z/+dQX9dbXjP7rgVrng1uM/1OlR0+nx4z+R38uQ39vjP67+F63+5+M/eb4jeL7z4z+8U9K7UwLkP9vlmdrlCeQ/InnsIXkM5D/gy5DfyxDkPwa3ygW3KuQ/XxJTXhIT5D9OSh1NSh3kP1e54Fa5MOQ/",
          "dtype": "f8"
         },
         "yaxis": "y3"
        },
        {
         "hovertemplate": "variable=validation_accuracy<br>epoch=%{x}<br>value=%{y}<extra></extra>",
         "legendgroup": "validation_accuracy",
         "line": {
          "color": "#EF553B",
          "dash": "solid"
         },
         "marker": {
          "symbol": "circle"
         },
         "mode": "lines",
         "name": "validation_accuracy",
         "orientation": "v",
         "showlegend": true,
         "type": "scatter",
         "x": {
          "bdata": "AAECAwQFBgcICQoLDA0ODxAREhMUFRYXGBkaGxwdHh8gISIjJCUmJygpKissLS4vMDEyMzQ1Njc4OTo7",
          "dtype": "i1"
         },
         "xaxis": "x2",
         "y": {
          "bdata": "n+d5nud5xT8xDMMwDEPKP9u2bdu2bcs/MQzDMAzDyj8AAAAAAEDQP27btm3bNs8/SZIkSZJk0T9WVVVVVdXNP3qe53meZ9E/wzAMwzDM0T8YhmEYhiHTP5IkSZIkSdM/AAAAAACA0z8NwzAMw7DTP9u2bdu2bdQ/DcMwDMPw1D+f53me57nVP8/zPM/z/NU/MQzDMAyD1j8xDMMwDEPVP8/zPM/zPNY/YRiGYRhG1j+f53me5znXP27btm3b9tg/hmEYhmHY2D8NwzAMwzDYPzEMwzAMw9g/MQzDMAzD1z+f53me5znZP3qe53meJ9g/DcMwDMMw2T/DMAzDMMzYPz3P8zzPc9k/hmEYhmGY2D+GYRiGYRjZP/M8z/M8T9k/AAAAAACA2T96nud5nifZP8/zPM/zPNk/MQzDMAwD2T9hGIZhGAbZP2EYhmEYxtg/qqqqqqrq2T/zPM/zPA/ZP4ZhGIZh2No/t23btm2b2z89z/M8zzPbP+h5nud5ntk/hmEYhmEY2z/P8zzP87zbPw3DMAzDsNo/kiRJkiRJ2j/btm3bti3aPyVJkiRJ0to/z/M8z/O82T/zPM/zPI/aP/M8z/M8z9o/Pc/zPM+z2T+f53me57naPxiGYRiG4do/",
          "dtype": "f8"
         },
         "yaxis": "y2"
        },
        {
         "hovertemplate": "variable=competition_score<br>epoch=%{x}<br>value=%{y}<extra></extra>",
         "legendgroup": "competition_score",
         "line": {
          "color": "#00cc96",
          "dash": "solid"
         },
         "marker": {
          "symbol": "circle"
         },
         "mode": "lines",
         "name": "competition_score",
         "orientation": "v",
         "showlegend": true,
         "type": "scatter",
         "x": {
          "bdata": "AAECAwQFBgcICQoLDA0ODxAREhMUFRYXGBkaGxwdHh8gISIjJCUmJygpKissLS4vMDEyMzQ1Njc4OTo7",
          "dtype": "i1"
         },
         "xaxis": "x",
         "y": {
          "bdata": "DnCg/NWe3T9m+M0IpgbfP/r6aroRwd8/hebEEx1D4D/BvgppQrjfP3SCe+tBUt8/Njnn/9RX4D+ZpvJqGobfPxxZK/VYmeA/SVRDORNg4D+Wm7FSsevgP5TJcoU7CeE/y9yueysq4T+1S3xLSPTgP2jSJv9jOOE/seDkXvOg4T9pXKooX3LhP/PZCh8e4+E/n3wjlM8B4j9Tac5cqhHiP3/lwnwi3uE/yD5dndta4j/E5qe3pY3iP4Y3q38vAOM/C/dAlYjm4j8yoOuPhQLjP2LZ7k8f6eI/0apIgvuc4j9gnrW4WrfiP/CDJh9XFOM/rrYlNcYV4z+8WpfphwnjP5+pdqITJOM/ngyEisg44z8WBlfmnhXjP4ip0RBm/+I/R1sr2h4D4z8QVHQUkfLiP7xeZFCP/eI/HeCM5Sn64j9hqPkOIvjiP6Q8eU499+I/2scab7A54z+pBjoAApbiP0NoqU3ALOM/TvBDypxU4z+Z2ukOXDLjP662XHvoFuM/gA5ctUQb4z8mS7+ZtC/jP3oucdyNP+M/CvzwSP7o4j+UtamqncDiP72NzvwiKOM/1z2MhAib4j8LMCgXGh/jPwLfQlEXKOM/wjbNWic54z8UM96oDiTjP8nku+67fOI/",
          "dtype": "f8"
         },
         "yaxis": "y"
        }
       ],
       "layout": {
        "annotations": [
         {
          "font": {},
          "showarrow": false,
          "text": "variable=competition_score",
          "textangle": 90,
          "x": 0.98,
          "xanchor": "left",
          "xref": "paper",
          "y": 0.15666666666666665,
          "yanchor": "middle",
          "yref": "paper"
         },
         {
          "font": {},
          "showarrow": false,
          "text": "variable=validation_accuracy",
          "textangle": 90,
          "x": 0.98,
          "xanchor": "left",
          "xref": "paper",
          "y": 0.4999999999999999,
          "yanchor": "middle",
          "yref": "paper"
         },
         {
          "font": {},
          "showarrow": false,
          "text": "variable=train_epoch_accuracy",
          "textangle": 90,
          "x": 0.98,
          "xanchor": "left",
          "xref": "paper",
          "y": 0.8433333333333332,
          "yanchor": "middle",
          "yref": "paper"
         }
        ],
        "legend": {
         "title": {
          "text": "variable"
         },
         "tracegroupgap": 0
        },
        "template": {
         "data": {
          "bar": [
           {
            "error_x": {
             "color": "#2a3f5f"
            },
            "error_y": {
             "color": "#2a3f5f"
            },
            "marker": {
             "line": {
              "color": "#E5ECF6",
              "width": 0.5
             },
             "pattern": {
              "fillmode": "overlay",
              "size": 10,
              "solidity": 0.2
             }
            },
            "type": "bar"
           }
          ],
          "barpolar": [
           {
            "marker": {
             "line": {
              "color": "#E5ECF6",
              "width": 0.5
             },
             "pattern": {
              "fillmode": "overlay",
              "size": 10,
              "solidity": 0.2
             }
            },
            "type": "barpolar"
           }
          ],
          "carpet": [
           {
            "aaxis": {
             "endlinecolor": "#2a3f5f",
             "gridcolor": "white",
             "linecolor": "white",
             "minorgridcolor": "white",
             "startlinecolor": "#2a3f5f"
            },
            "baxis": {
             "endlinecolor": "#2a3f5f",
             "gridcolor": "white",
             "linecolor": "white",
             "minorgridcolor": "white",
             "startlinecolor": "#2a3f5f"
            },
            "type": "carpet"
           }
          ],
          "choropleth": [
           {
            "colorbar": {
             "outlinewidth": 0,
             "ticks": ""
            },
            "type": "choropleth"
           }
          ],
          "contour": [
           {
            "colorbar": {
             "outlinewidth": 0,
             "ticks": ""
            },
            "colorscale": [
             [
              0,
              "#0d0887"
             ],
             [
              0.1111111111111111,
              "#46039f"
             ],
             [
              0.2222222222222222,
              "#7201a8"
             ],
             [
              0.3333333333333333,
              "#9c179e"
             ],
             [
              0.4444444444444444,
              "#bd3786"
             ],
             [
              0.5555555555555556,
              "#d8576b"
             ],
             [
              0.6666666666666666,
              "#ed7953"
             ],
             [
              0.7777777777777778,
              "#fb9f3a"
             ],
             [
              0.8888888888888888,
              "#fdca26"
             ],
             [
              1,
              "#f0f921"
             ]
            ],
            "type": "contour"
           }
          ],
          "contourcarpet": [
           {
            "colorbar": {
             "outlinewidth": 0,
             "ticks": ""
            },
            "type": "contourcarpet"
           }
          ],
          "heatmap": [
           {
            "colorbar": {
             "outlinewidth": 0,
             "ticks": ""
            },
            "colorscale": [
             [
              0,
              "#0d0887"
             ],
             [
              0.1111111111111111,
              "#46039f"
             ],
             [
              0.2222222222222222,
              "#7201a8"
             ],
             [
              0.3333333333333333,
              "#9c179e"
             ],
             [
              0.4444444444444444,
              "#bd3786"
             ],
             [
              0.5555555555555556,
              "#d8576b"
             ],
             [
              0.6666666666666666,
              "#ed7953"
             ],
             [
              0.7777777777777778,
              "#fb9f3a"
             ],
             [
              0.8888888888888888,
              "#fdca26"
             ],
             [
              1,
              "#f0f921"
             ]
            ],
            "type": "heatmap"
           }
          ],
          "histogram": [
           {
            "marker": {
             "pattern": {
              "fillmode": "overlay",
              "size": 10,
              "solidity": 0.2
             }
            },
            "type": "histogram"
           }
          ],
          "histogram2d": [
           {
            "colorbar": {
             "outlinewidth": 0,
             "ticks": ""
            },
            "colorscale": [
             [
              0,
              "#0d0887"
             ],
             [
              0.1111111111111111,
              "#46039f"
             ],
             [
              0.2222222222222222,
              "#7201a8"
             ],
             [
              0.3333333333333333,
              "#9c179e"
             ],
             [
              0.4444444444444444,
              "#bd3786"
             ],
             [
              0.5555555555555556,
              "#d8576b"
             ],
             [
              0.6666666666666666,
              "#ed7953"
             ],
             [
              0.7777777777777778,
              "#fb9f3a"
             ],
             [
              0.8888888888888888,
              "#fdca26"
             ],
             [
              1,
              "#f0f921"
             ]
            ],
            "type": "histogram2d"
           }
          ],
          "histogram2dcontour": [
           {
            "colorbar": {
             "outlinewidth": 0,
             "ticks": ""
            },
            "colorscale": [
             [
              0,
              "#0d0887"
             ],
             [
              0.1111111111111111,
              "#46039f"
             ],
             [
              0.2222222222222222,
              "#7201a8"
             ],
             [
              0.3333333333333333,
              "#9c179e"
             ],
             [
              0.4444444444444444,
              "#bd3786"
             ],
             [
              0.5555555555555556,
              "#d8576b"
             ],
             [
              0.6666666666666666,
              "#ed7953"
             ],
             [
              0.7777777777777778,
              "#fb9f3a"
             ],
             [
              0.8888888888888888,
              "#fdca26"
             ],
             [
              1,
              "#f0f921"
             ]
            ],
            "type": "histogram2dcontour"
           }
          ],
          "mesh3d": [
           {
            "colorbar": {
             "outlinewidth": 0,
             "ticks": ""
            },
            "type": "mesh3d"
           }
          ],
          "parcoords": [
           {
            "line": {
             "colorbar": {
              "outlinewidth": 0,
              "ticks": ""
             }
            },
            "type": "parcoords"
           }
          ],
          "pie": [
           {
            "automargin": true,
            "type": "pie"
           }
          ],
          "scatter": [
           {
            "fillpattern": {
             "fillmode": "overlay",
             "size": 10,
             "solidity": 0.2
            },
            "type": "scatter"
           }
          ],
          "scatter3d": [
           {
            "line": {
             "colorbar": {
              "outlinewidth": 0,
              "ticks": ""
             }
            },
            "marker": {
             "colorbar": {
              "outlinewidth": 0,
              "ticks": ""
             }
            },
            "type": "scatter3d"
           }
          ],
          "scattercarpet": [
           {
            "marker": {
             "colorbar": {
              "outlinewidth": 0,
              "ticks": ""
             }
            },
            "type": "scattercarpet"
           }
          ],
          "scattergeo": [
           {
            "marker": {
             "colorbar": {
              "outlinewidth": 0,
              "ticks": ""
             }
            },
            "type": "scattergeo"
           }
          ],
          "scattergl": [
           {
            "marker": {
             "colorbar": {
              "outlinewidth": 0,
              "ticks": ""
             }
            },
            "type": "scattergl"
           }
          ],
          "scattermap": [
           {
            "marker": {
             "colorbar": {
              "outlinewidth": 0,
              "ticks": ""
             }
            },
            "type": "scattermap"
           }
          ],
          "scattermapbox": [
           {
            "marker": {
             "colorbar": {
              "outlinewidth": 0,
              "ticks": ""
             }
            },
            "type": "scattermapbox"
           }
          ],
          "scatterpolar": [
           {
            "marker": {
             "colorbar": {
              "outlinewidth": 0,
              "ticks": ""
             }
            },
            "type": "scatterpolar"
           }
          ],
          "scatterpolargl": [
           {
            "marker": {
             "colorbar": {
              "outlinewidth": 0,
              "ticks": ""
             }
            },
            "type": "scatterpolargl"
           }
          ],
          "scatterternary": [
           {
            "marker": {
             "colorbar": {
              "outlinewidth": 0,
              "ticks": ""
             }
            },
            "type": "scatterternary"
           }
          ],
          "surface": [
           {
            "colorbar": {
             "outlinewidth": 0,
             "ticks": ""
            },
            "colorscale": [
             [
              0,
              "#0d0887"
             ],
             [
              0.1111111111111111,
              "#46039f"
             ],
             [
              0.2222222222222222,
              "#7201a8"
             ],
             [
              0.3333333333333333,
              "#9c179e"
             ],
             [
              0.4444444444444444,
              "#bd3786"
             ],
             [
              0.5555555555555556,
              "#d8576b"
             ],
             [
              0.6666666666666666,
              "#ed7953"
             ],
             [
              0.7777777777777778,
              "#fb9f3a"
             ],
             [
              0.8888888888888888,
              "#fdca26"
             ],
             [
              1,
              "#f0f921"
             ]
            ],
            "type": "surface"
           }
          ],
          "table": [
           {
            "cells": {
             "fill": {
              "color": "#EBF0F8"
             },
             "line": {
              "color": "white"
             }
            },
            "header": {
             "fill": {
              "color": "#C8D4E3"
             },
             "line": {
              "color": "white"
             }
            },
            "type": "table"
           }
          ]
         },
         "layout": {
          "annotationdefaults": {
           "arrowcolor": "#2a3f5f",
           "arrowhead": 0,
           "arrowwidth": 1
          },
          "autotypenumbers": "strict",
          "coloraxis": {
           "colorbar": {
            "outlinewidth": 0,
            "ticks": ""
           }
          },
          "colorscale": {
           "diverging": [
            [
             0,
             "#8e0152"
            ],
            [
             0.1,
             "#c51b7d"
            ],
            [
             0.2,
             "#de77ae"
            ],
            [
             0.3,
             "#f1b6da"
            ],
            [
             0.4,
             "#fde0ef"
            ],
            [
             0.5,
             "#f7f7f7"
            ],
            [
             0.6,
             "#e6f5d0"
            ],
            [
             0.7,
             "#b8e186"
            ],
            [
             0.8,
             "#7fbc41"
            ],
            [
             0.9,
             "#4d9221"
            ],
            [
             1,
             "#276419"
            ]
           ],
           "sequential": [
            [
             0,
             "#0d0887"
            ],
            [
             0.1111111111111111,
             "#46039f"
            ],
            [
             0.2222222222222222,
             "#7201a8"
            ],
            [
             0.3333333333333333,
             "#9c179e"
            ],
            [
             0.4444444444444444,
             "#bd3786"
            ],
            [
             0.5555555555555556,
             "#d8576b"
            ],
            [
             0.6666666666666666,
             "#ed7953"
            ],
            [
             0.7777777777777778,
             "#fb9f3a"
            ],
            [
             0.8888888888888888,
             "#fdca26"
            ],
            [
             1,
             "#f0f921"
            ]
           ],
           "sequentialminus": [
            [
             0,
             "#0d0887"
            ],
            [
             0.1111111111111111,
             "#46039f"
            ],
            [
             0.2222222222222222,
             "#7201a8"
            ],
            [
             0.3333333333333333,
             "#9c179e"
            ],
            [
             0.4444444444444444,
             "#bd3786"
            ],
            [
             0.5555555555555556,
             "#d8576b"
            ],
            [
             0.6666666666666666,
             "#ed7953"
            ],
            [
             0.7777777777777778,
             "#fb9f3a"
            ],
            [
             0.8888888888888888,
             "#fdca26"
            ],
            [
             1,
             "#f0f921"
            ]
           ]
          },
          "colorway": [
           "#636efa",
           "#EF553B",
           "#00cc96",
           "#ab63fa",
           "#FFA15A",
           "#19d3f3",
           "#FF6692",
           "#B6E880",
           "#FF97FF",
           "#FECB52"
          ],
          "font": {
           "color": "#2a3f5f"
          },
          "geo": {
           "bgcolor": "white",
           "lakecolor": "white",
           "landcolor": "#E5ECF6",
           "showlakes": true,
           "showland": true,
           "subunitcolor": "white"
          },
          "hoverlabel": {
           "align": "left"
          },
          "hovermode": "closest",
          "mapbox": {
           "style": "light"
          },
          "paper_bgcolor": "white",
          "plot_bgcolor": "#E5ECF6",
          "polar": {
           "angularaxis": {
            "gridcolor": "white",
            "linecolor": "white",
            "ticks": ""
           },
           "bgcolor": "#E5ECF6",
           "radialaxis": {
            "gridcolor": "white",
            "linecolor": "white",
            "ticks": ""
           }
          },
          "scene": {
           "xaxis": {
            "backgroundcolor": "#E5ECF6",
            "gridcolor": "white",
            "gridwidth": 2,
            "linecolor": "white",
            "showbackground": true,
            "ticks": "",
            "zerolinecolor": "white"
           },
           "yaxis": {
            "backgroundcolor": "#E5ECF6",
            "gridcolor": "white",
            "gridwidth": 2,
            "linecolor": "white",
            "showbackground": true,
            "ticks": "",
            "zerolinecolor": "white"
           },
           "zaxis": {
            "backgroundcolor": "#E5ECF6",
            "gridcolor": "white",
            "gridwidth": 2,
            "linecolor": "white",
            "showbackground": true,
            "ticks": "",
            "zerolinecolor": "white"
           }
          },
          "shapedefaults": {
           "line": {
            "color": "#2a3f5f"
           }
          },
          "ternary": {
           "aaxis": {
            "gridcolor": "white",
            "linecolor": "white",
            "ticks": ""
           },
           "baxis": {
            "gridcolor": "white",
            "linecolor": "white",
            "ticks": ""
           },
           "bgcolor": "#E5ECF6",
           "caxis": {
            "gridcolor": "white",
            "linecolor": "white",
            "ticks": ""
           }
          },
          "title": {
           "x": 0.05
          },
          "xaxis": {
           "automargin": true,
           "gridcolor": "white",
           "linecolor": "white",
           "ticks": "",
           "title": {
            "standoff": 15
           },
           "zerolinecolor": "white",
           "zerolinewidth": 2
          },
          "yaxis": {
           "automargin": true,
           "gridcolor": "white",
           "linecolor": "white",
           "ticks": "",
           "title": {
            "standoff": 15
           },
           "zerolinecolor": "white",
           "zerolinewidth": 2
          }
         }
        },
        "title": {
         "text": "epoch metrics"
        },
        "xaxis": {
         "anchor": "y",
         "domain": [
          0,
          0.98
         ],
         "title": {
          "text": "epoch"
         }
        },
        "xaxis2": {
         "anchor": "y2",
         "domain": [
          0,
          0.98
         ],
         "matches": "x",
         "showticklabels": false
        },
        "xaxis3": {
         "anchor": "y3",
         "domain": [
          0,
          0.98
         ],
         "matches": "x",
         "showticklabels": false
        },
        "yaxis": {
         "anchor": "x",
         "domain": [
          0,
          0.3133333333333333
         ],
         "title": {
          "text": "value"
         }
        },
        "yaxis2": {
         "anchor": "x2",
         "domain": [
          0.34333333333333327,
          0.6566666666666665
         ],
         "title": {
          "text": "value"
         }
        },
        "yaxis3": {
         "anchor": "x3",
         "domain": [
          0.6866666666666665,
          0.9999999999999998
         ],
         "title": {
          "text": "value"
         }
        }
       }
      }
     },
     "metadata": {},
     "output_type": "display_data"
    },
    {
     "name": "stdout",
     "output_type": "stream",
     "text": [
      "=========================\n",
      "training: 4\n"
     ]
    },
    {
     "data": {
      "application/vnd.jupyter.widget-view+json": {
       "model_id": "346bcca88ff24c06b1e936c3614fcc67",
       "version_major": 2,
       "version_minor": 0
      },
      "text/plain": [
       "Output()"
      ]
     },
     "metadata": {},
     "output_type": "display_data"
    },
    {
     "data": {
      "text/html": [
       "<pre style=\"white-space:pre;overflow-x:auto;line-height:normal;font-family:Menlo,'DejaVu Sans Mono',consolas,'Courier New',monospace\"></pre>\n"
      ],
      "text/plain": []
     },
     "metadata": {},
     "output_type": "display_data"
    },
    {
     "data": {
      "application/vnd.plotly.v1+json": {
       "config": {
        "plotlyServerURL": "https://plot.ly"
       },
       "data": [
        {
         "hovertemplate": "variable=train_epoch_accuracy<br>epoch=%{x}<br>value=%{y}<extra></extra>",
         "legendgroup": "train_epoch_accuracy",
         "line": {
          "color": "#636efa",
          "dash": "solid"
         },
         "marker": {
          "symbol": "circle"
         },
         "mode": "lines",
         "name": "train_epoch_accuracy",
         "orientation": "v",
         "showlegend": true,
         "type": "scatter",
         "x": {
          "bdata": "AAECAwQFBgcICQoLDA0ODxAREhMUFRYXGBkaGxwdHh8gISIjJCUmJygpKissLS4vMDEyMzQ1Njc4OTo7",
          "dtype": "i1"
         },
         "xaxis": "x3",
         "y": {
          "bdata": "5DV1+twqzj91LGUS7KrXPxZzkHXhONo/4csNMSCd2z+5hzNxwKDcPySik5T8Bt0/iU5S8htJ3T/L8k/u4azeP9WcChIFD98/Zi3NXLf33z8zioQUVlLgPwQhOCzLr+A/SXwGi5/14D+yLhzjTonhP9VPoXizeuE/iWkzJFcH4j+m5lSQKOjhP3IoKxaMNOI/cigrFoyE4j98uSEGpMPiP/HMwuSE++I/tcwoElK44j/rKF+78eriP96REdFJGuM/ZJHdK+RD4z8Eue1gPj3jP4ZKGPa7guM/5uxFXeuM4z+JAelYypTjPzRxwOBKr+M/BQh0+L+84z+HmZ6NPdLjPxqSq6N83eM/1p4nEDX64z/RSUp+IxnkP8efj1oAd+Q/ye4V8oE25T/ai7rWuajlP/oOMz0by+U/EOjwf1nL5T/Q4f+ylublP8HiZ/1h8+Y/d0uAQIcP5z+PjIhOUmLnP5wj1jj6ouc/NvYI3EK75z+qoV/vlhDoPwI432GmB+g/pBbA+Q7j5z8xoStKMVroP2VfVcTNXeg/hjFUwrCf6D8ZEZ2k5OfoP3bjNXX6LOk/YVn+yT1M6T+3OK3ZPmHpP0zPxh6Bq+k/tZqgqjvi6T/0OEescUTqP7c4rdk+Ueo/",
          "dtype": "f8"
         },
         "yaxis": "y3"
        },
        {
         "hovertemplate": "variable=validation_accuracy<br>epoch=%{x}<br>value=%{y}<extra></extra>",
         "legendgroup": "validation_accuracy",
         "line": {
          "color": "#EF553B",
          "dash": "solid"
         },
         "marker": {
          "symbol": "circle"
         },
         "mode": "lines",
         "name": "validation_accuracy",
         "orientation": "v",
         "showlegend": true,
         "type": "scatter",
         "x": {
          "bdata": "AAECAwQFBgcICQoLDA0ODxAREhMUFRYXGBkaGxwdHh8gISIjJCUmJygpKissLS4vMDEyMzQ1Njc4OTo7",
          "dtype": "i1"
         },
         "xaxis": "x2",
         "y": {
          "bdata": "SZIkSZLk0D8YhmEYhmHUP2EYhmEYRtQ/AAAAAABA1D+f53me5/nUPw3DMAzDMNQ/27Zt27Zt1j/DMAzDMMzUP0mSJEmSZNY/DcMwDMOw1j+qqqqqqmrWP8/zPM/zPNc/qqqqqqqq2D9hGIZhGMbWP6qqqqqqatc/6Hme53me1j+GYRiGYZjXP0mSJEmSJNc/AAAAAAAA1j9hGIZhGIbXPwAAAAAAwNc/8zzP8zxP1z8NwzAMw3DXP0mSJEmSJNc/VlVVVVXV2D96nud5nifYPz3P8zzPM9g/qqqqqqoq2D8NwzAMw7DXP2EYhmEYBtc/qqqqqqpq1z+SJEmSJMnXP9u2bdu2rdc/MQzDMAxD2D8lSZIkSZLXP3qe53meJ9g/z/M8z/N82D8AAAAAAEDZP3qe53meJ9o/DcMwDMPw2T89z/M8z3PZP9u2bdu27do/GIZhGIbh2T8xDMMwDIPbPzEMwzAMg9s/MQzDMAxD3D/btm3btm3cP7dt27ZtG9w/DcMwDMNw3D8AAAAAAMDbP0mSJEmS5Ns/SZIkSZLk2j+SJEmSJMncP4ZhGIZh2Ns/ep7neZ5n2z9WVVVVVdXdP6qqqqqqKt0/ep7neZ6n3D9u27Zt27bcP2EYhmEYhts/",
          "dtype": "f8"
         },
         "yaxis": "y2"
        },
        {
         "hovertemplate": "variable=competition_score<br>epoch=%{x}<br>value=%{y}<extra></extra>",
         "legendgroup": "competition_score",
         "line": {
          "color": "#00cc96",
          "dash": "solid"
         },
         "marker": {
          "symbol": "circle"
         },
         "mode": "lines",
         "name": "competition_score",
         "orientation": "v",
         "showlegend": true,
         "type": "scatter",
         "x": {
          "bdata": "AAECAwQFBgcICQoLDA0ODxAREhMUFRYXGBkaGxwdHh8gISIjJCUmJygpKissLS4vMDEyMzQ1Njc4OTo7",
          "dtype": "i1"
         },
         "xaxis": "x",
         "y": {
          "bdata": "WHqLNTge4D9iLAu+HzrhP5pGcSs83eE/A1gywgXe4T8OcX8tzAbiPzmTubbr0uE/nTJYbTkz4j8Gcz+Prd/hP1777dXC8+E/Ux1ZbOLB4j9OypL+KwDjP5niEcd+5eI/KLwPuJlc4z/hk9j9pG3iPyV5ZBYi8eI/6sKDF3uk4j8qXQ+Bn2TiP67tGYrP+eI/7DpjaReH4j9oL0uJc9biP4I7sbbMIeM/FvGFlM2P4j+US59k+F/iP18HnwMEwuI/CrkogGpY4z+bWQPQmwLjP70dETtaJeM/w0cIsajY4j/Jq75wOwfjP+z3VYnM/uI/hhHA0mjQ4j8VVOZMwhnjP3Tma+k6B+M/g45D/DEW4z9HCQZWOCnjP3Jhj3ZRQeM/srmNO3uv4z9hidk30inkP3qEpqSHEeQ/rhhn+A744z+VYwOY4fjjP2Sauzea8OM/5kspAETP4z9WznUy8GvkPxBHgrg1zuM/CUwarD334z/ZMWk1BVvkPya6rb2aIuQ/SBZBvsAq5D+8xO38Z/rjPwwMTAeR7uM/Nx1KKIgZ5D9cUWzYfPbkP2KjFoCfcuQ/aAk35aA+5D+9tDXVR77kP2pZGhGK9OQ/+o6IqEi45D9NfTXKBx7lP9ojyTRYgOQ/",
          "dtype": "f8"
         },
         "yaxis": "y"
        }
       ],
       "layout": {
        "annotations": [
         {
          "font": {},
          "showarrow": false,
          "text": "variable=competition_score",
          "textangle": 90,
          "x": 0.98,
          "xanchor": "left",
          "xref": "paper",
          "y": 0.15666666666666665,
          "yanchor": "middle",
          "yref": "paper"
         },
         {
          "font": {},
          "showarrow": false,
          "text": "variable=validation_accuracy",
          "textangle": 90,
          "x": 0.98,
          "xanchor": "left",
          "xref": "paper",
          "y": 0.4999999999999999,
          "yanchor": "middle",
          "yref": "paper"
         },
         {
          "font": {},
          "showarrow": false,
          "text": "variable=train_epoch_accuracy",
          "textangle": 90,
          "x": 0.98,
          "xanchor": "left",
          "xref": "paper",
          "y": 0.8433333333333332,
          "yanchor": "middle",
          "yref": "paper"
         }
        ],
        "legend": {
         "title": {
          "text": "variable"
         },
         "tracegroupgap": 0
        },
        "template": {
         "data": {
          "bar": [
           {
            "error_x": {
             "color": "#2a3f5f"
            },
            "error_y": {
             "color": "#2a3f5f"
            },
            "marker": {
             "line": {
              "color": "#E5ECF6",
              "width": 0.5
             },
             "pattern": {
              "fillmode": "overlay",
              "size": 10,
              "solidity": 0.2
             }
            },
            "type": "bar"
           }
          ],
          "barpolar": [
           {
            "marker": {
             "line": {
              "color": "#E5ECF6",
              "width": 0.5
             },
             "pattern": {
              "fillmode": "overlay",
              "size": 10,
              "solidity": 0.2
             }
            },
            "type": "barpolar"
           }
          ],
          "carpet": [
           {
            "aaxis": {
             "endlinecolor": "#2a3f5f",
             "gridcolor": "white",
             "linecolor": "white",
             "minorgridcolor": "white",
             "startlinecolor": "#2a3f5f"
            },
            "baxis": {
             "endlinecolor": "#2a3f5f",
             "gridcolor": "white",
             "linecolor": "white",
             "minorgridcolor": "white",
             "startlinecolor": "#2a3f5f"
            },
            "type": "carpet"
           }
          ],
          "choropleth": [
           {
            "colorbar": {
             "outlinewidth": 0,
             "ticks": ""
            },
            "type": "choropleth"
           }
          ],
          "contour": [
           {
            "colorbar": {
             "outlinewidth": 0,
             "ticks": ""
            },
            "colorscale": [
             [
              0,
              "#0d0887"
             ],
             [
              0.1111111111111111,
              "#46039f"
             ],
             [
              0.2222222222222222,
              "#7201a8"
             ],
             [
              0.3333333333333333,
              "#9c179e"
             ],
             [
              0.4444444444444444,
              "#bd3786"
             ],
             [
              0.5555555555555556,
              "#d8576b"
             ],
             [
              0.6666666666666666,
              "#ed7953"
             ],
             [
              0.7777777777777778,
              "#fb9f3a"
             ],
             [
              0.8888888888888888,
              "#fdca26"
             ],
             [
              1,
              "#f0f921"
             ]
            ],
            "type": "contour"
           }
          ],
          "contourcarpet": [
           {
            "colorbar": {
             "outlinewidth": 0,
             "ticks": ""
            },
            "type": "contourcarpet"
           }
          ],
          "heatmap": [
           {
            "colorbar": {
             "outlinewidth": 0,
             "ticks": ""
            },
            "colorscale": [
             [
              0,
              "#0d0887"
             ],
             [
              0.1111111111111111,
              "#46039f"
             ],
             [
              0.2222222222222222,
              "#7201a8"
             ],
             [
              0.3333333333333333,
              "#9c179e"
             ],
             [
              0.4444444444444444,
              "#bd3786"
             ],
             [
              0.5555555555555556,
              "#d8576b"
             ],
             [
              0.6666666666666666,
              "#ed7953"
             ],
             [
              0.7777777777777778,
              "#fb9f3a"
             ],
             [
              0.8888888888888888,
              "#fdca26"
             ],
             [
              1,
              "#f0f921"
             ]
            ],
            "type": "heatmap"
           }
          ],
          "histogram": [
           {
            "marker": {
             "pattern": {
              "fillmode": "overlay",
              "size": 10,
              "solidity": 0.2
             }
            },
            "type": "histogram"
           }
          ],
          "histogram2d": [
           {
            "colorbar": {
             "outlinewidth": 0,
             "ticks": ""
            },
            "colorscale": [
             [
              0,
              "#0d0887"
             ],
             [
              0.1111111111111111,
              "#46039f"
             ],
             [
              0.2222222222222222,
              "#7201a8"
             ],
             [
              0.3333333333333333,
              "#9c179e"
             ],
             [
              0.4444444444444444,
              "#bd3786"
             ],
             [
              0.5555555555555556,
              "#d8576b"
             ],
             [
              0.6666666666666666,
              "#ed7953"
             ],
             [
              0.7777777777777778,
              "#fb9f3a"
             ],
             [
              0.8888888888888888,
              "#fdca26"
             ],
             [
              1,
              "#f0f921"
             ]
            ],
            "type": "histogram2d"
           }
          ],
          "histogram2dcontour": [
           {
            "colorbar": {
             "outlinewidth": 0,
             "ticks": ""
            },
            "colorscale": [
             [
              0,
              "#0d0887"
             ],
             [
              0.1111111111111111,
              "#46039f"
             ],
             [
              0.2222222222222222,
              "#7201a8"
             ],
             [
              0.3333333333333333,
              "#9c179e"
             ],
             [
              0.4444444444444444,
              "#bd3786"
             ],
             [
              0.5555555555555556,
              "#d8576b"
             ],
             [
              0.6666666666666666,
              "#ed7953"
             ],
             [
              0.7777777777777778,
              "#fb9f3a"
             ],
             [
              0.8888888888888888,
              "#fdca26"
             ],
             [
              1,
              "#f0f921"
             ]
            ],
            "type": "histogram2dcontour"
           }
          ],
          "mesh3d": [
           {
            "colorbar": {
             "outlinewidth": 0,
             "ticks": ""
            },
            "type": "mesh3d"
           }
          ],
          "parcoords": [
           {
            "line": {
             "colorbar": {
              "outlinewidth": 0,
              "ticks": ""
             }
            },
            "type": "parcoords"
           }
          ],
          "pie": [
           {
            "automargin": true,
            "type": "pie"
           }
          ],
          "scatter": [
           {
            "fillpattern": {
             "fillmode": "overlay",
             "size": 10,
             "solidity": 0.2
            },
            "type": "scatter"
           }
          ],
          "scatter3d": [
           {
            "line": {
             "colorbar": {
              "outlinewidth": 0,
              "ticks": ""
             }
            },
            "marker": {
             "colorbar": {
              "outlinewidth": 0,
              "ticks": ""
             }
            },
            "type": "scatter3d"
           }
          ],
          "scattercarpet": [
           {
            "marker": {
             "colorbar": {
              "outlinewidth": 0,
              "ticks": ""
             }
            },
            "type": "scattercarpet"
           }
          ],
          "scattergeo": [
           {
            "marker": {
             "colorbar": {
              "outlinewidth": 0,
              "ticks": ""
             }
            },
            "type": "scattergeo"
           }
          ],
          "scattergl": [
           {
            "marker": {
             "colorbar": {
              "outlinewidth": 0,
              "ticks": ""
             }
            },
            "type": "scattergl"
           }
          ],
          "scattermap": [
           {
            "marker": {
             "colorbar": {
              "outlinewidth": 0,
              "ticks": ""
             }
            },
            "type": "scattermap"
           }
          ],
          "scattermapbox": [
           {
            "marker": {
             "colorbar": {
              "outlinewidth": 0,
              "ticks": ""
             }
            },
            "type": "scattermapbox"
           }
          ],
          "scatterpolar": [
           {
            "marker": {
             "colorbar": {
              "outlinewidth": 0,
              "ticks": ""
             }
            },
            "type": "scatterpolar"
           }
          ],
          "scatterpolargl": [
           {
            "marker": {
             "colorbar": {
              "outlinewidth": 0,
              "ticks": ""
             }
            },
            "type": "scatterpolargl"
           }
          ],
          "scatterternary": [
           {
            "marker": {
             "colorbar": {
              "outlinewidth": 0,
              "ticks": ""
             }
            },
            "type": "scatterternary"
           }
          ],
          "surface": [
           {
            "colorbar": {
             "outlinewidth": 0,
             "ticks": ""
            },
            "colorscale": [
             [
              0,
              "#0d0887"
             ],
             [
              0.1111111111111111,
              "#46039f"
             ],
             [
              0.2222222222222222,
              "#7201a8"
             ],
             [
              0.3333333333333333,
              "#9c179e"
             ],
             [
              0.4444444444444444,
              "#bd3786"
             ],
             [
              0.5555555555555556,
              "#d8576b"
             ],
             [
              0.6666666666666666,
              "#ed7953"
             ],
             [
              0.7777777777777778,
              "#fb9f3a"
             ],
             [
              0.8888888888888888,
              "#fdca26"
             ],
             [
              1,
              "#f0f921"
             ]
            ],
            "type": "surface"
           }
          ],
          "table": [
           {
            "cells": {
             "fill": {
              "color": "#EBF0F8"
             },
             "line": {
              "color": "white"
             }
            },
            "header": {
             "fill": {
              "color": "#C8D4E3"
             },
             "line": {
              "color": "white"
             }
            },
            "type": "table"
           }
          ]
         },
         "layout": {
          "annotationdefaults": {
           "arrowcolor": "#2a3f5f",
           "arrowhead": 0,
           "arrowwidth": 1
          },
          "autotypenumbers": "strict",
          "coloraxis": {
           "colorbar": {
            "outlinewidth": 0,
            "ticks": ""
           }
          },
          "colorscale": {
           "diverging": [
            [
             0,
             "#8e0152"
            ],
            [
             0.1,
             "#c51b7d"
            ],
            [
             0.2,
             "#de77ae"
            ],
            [
             0.3,
             "#f1b6da"
            ],
            [
             0.4,
             "#fde0ef"
            ],
            [
             0.5,
             "#f7f7f7"
            ],
            [
             0.6,
             "#e6f5d0"
            ],
            [
             0.7,
             "#b8e186"
            ],
            [
             0.8,
             "#7fbc41"
            ],
            [
             0.9,
             "#4d9221"
            ],
            [
             1,
             "#276419"
            ]
           ],
           "sequential": [
            [
             0,
             "#0d0887"
            ],
            [
             0.1111111111111111,
             "#46039f"
            ],
            [
             0.2222222222222222,
             "#7201a8"
            ],
            [
             0.3333333333333333,
             "#9c179e"
            ],
            [
             0.4444444444444444,
             "#bd3786"
            ],
            [
             0.5555555555555556,
             "#d8576b"
            ],
            [
             0.6666666666666666,
             "#ed7953"
            ],
            [
             0.7777777777777778,
             "#fb9f3a"
            ],
            [
             0.8888888888888888,
             "#fdca26"
            ],
            [
             1,
             "#f0f921"
            ]
           ],
           "sequentialminus": [
            [
             0,
             "#0d0887"
            ],
            [
             0.1111111111111111,
             "#46039f"
            ],
            [
             0.2222222222222222,
             "#7201a8"
            ],
            [
             0.3333333333333333,
             "#9c179e"
            ],
            [
             0.4444444444444444,
             "#bd3786"
            ],
            [
             0.5555555555555556,
             "#d8576b"
            ],
            [
             0.6666666666666666,
             "#ed7953"
            ],
            [
             0.7777777777777778,
             "#fb9f3a"
            ],
            [
             0.8888888888888888,
             "#fdca26"
            ],
            [
             1,
             "#f0f921"
            ]
           ]
          },
          "colorway": [
           "#636efa",
           "#EF553B",
           "#00cc96",
           "#ab63fa",
           "#FFA15A",
           "#19d3f3",
           "#FF6692",
           "#B6E880",
           "#FF97FF",
           "#FECB52"
          ],
          "font": {
           "color": "#2a3f5f"
          },
          "geo": {
           "bgcolor": "white",
           "lakecolor": "white",
           "landcolor": "#E5ECF6",
           "showlakes": true,
           "showland": true,
           "subunitcolor": "white"
          },
          "hoverlabel": {
           "align": "left"
          },
          "hovermode": "closest",
          "mapbox": {
           "style": "light"
          },
          "paper_bgcolor": "white",
          "plot_bgcolor": "#E5ECF6",
          "polar": {
           "angularaxis": {
            "gridcolor": "white",
            "linecolor": "white",
            "ticks": ""
           },
           "bgcolor": "#E5ECF6",
           "radialaxis": {
            "gridcolor": "white",
            "linecolor": "white",
            "ticks": ""
           }
          },
          "scene": {
           "xaxis": {
            "backgroundcolor": "#E5ECF6",
            "gridcolor": "white",
            "gridwidth": 2,
            "linecolor": "white",
            "showbackground": true,
            "ticks": "",
            "zerolinecolor": "white"
           },
           "yaxis": {
            "backgroundcolor": "#E5ECF6",
            "gridcolor": "white",
            "gridwidth": 2,
            "linecolor": "white",
            "showbackground": true,
            "ticks": "",
            "zerolinecolor": "white"
           },
           "zaxis": {
            "backgroundcolor": "#E5ECF6",
            "gridcolor": "white",
            "gridwidth": 2,
            "linecolor": "white",
            "showbackground": true,
            "ticks": "",
            "zerolinecolor": "white"
           }
          },
          "shapedefaults": {
           "line": {
            "color": "#2a3f5f"
           }
          },
          "ternary": {
           "aaxis": {
            "gridcolor": "white",
            "linecolor": "white",
            "ticks": ""
           },
           "baxis": {
            "gridcolor": "white",
            "linecolor": "white",
            "ticks": ""
           },
           "bgcolor": "#E5ECF6",
           "caxis": {
            "gridcolor": "white",
            "linecolor": "white",
            "ticks": ""
           }
          },
          "title": {
           "x": 0.05
          },
          "xaxis": {
           "automargin": true,
           "gridcolor": "white",
           "linecolor": "white",
           "ticks": "",
           "title": {
            "standoff": 15
           },
           "zerolinecolor": "white",
           "zerolinewidth": 2
          },
          "yaxis": {
           "automargin": true,
           "gridcolor": "white",
           "linecolor": "white",
           "ticks": "",
           "title": {
            "standoff": 15
           },
           "zerolinecolor": "white",
           "zerolinewidth": 2
          }
         }
        },
        "title": {
         "text": "epoch metrics"
        },
        "xaxis": {
         "anchor": "y",
         "domain": [
          0,
          0.98
         ],
         "title": {
          "text": "epoch"
         }
        },
        "xaxis2": {
         "anchor": "y2",
         "domain": [
          0,
          0.98
         ],
         "matches": "x",
         "showticklabels": false
        },
        "xaxis3": {
         "anchor": "y3",
         "domain": [
          0,
          0.98
         ],
         "matches": "x",
         "showticklabels": false
        },
        "yaxis": {
         "anchor": "x",
         "domain": [
          0,
          0.3133333333333333
         ],
         "title": {
          "text": "value"
         }
        },
        "yaxis2": {
         "anchor": "x2",
         "domain": [
          0.34333333333333327,
          0.6566666666666665
         ],
         "title": {
          "text": "value"
         }
        },
        "yaxis3": {
         "anchor": "x3",
         "domain": [
          0.6866666666666665,
          0.9999999999999998
         ],
         "title": {
          "text": "value"
         }
        }
       }
      }
     },
     "metadata": {},
     "output_type": "display_data"
    },
    {
     "name": "stdout",
     "output_type": "stream",
     "text": [
      "=========================\n",
      "training: 5\n"
     ]
    },
    {
     "data": {
      "application/vnd.jupyter.widget-view+json": {
       "model_id": "463af100f98a4fe1846745e9825e9540",
       "version_major": 2,
       "version_minor": 0
      },
      "text/plain": [
       "Output()"
      ]
     },
     "metadata": {},
     "output_type": "display_data"
    },
    {
     "data": {
      "text/html": [
       "<pre style=\"white-space:pre;overflow-x:auto;line-height:normal;font-family:Menlo,'DejaVu Sans Mono',consolas,'Courier New',monospace\"></pre>\n"
      ],
      "text/plain": []
     },
     "metadata": {},
     "output_type": "display_data"
    },
    {
     "data": {
      "application/vnd.plotly.v1+json": {
       "config": {
        "plotlyServerURL": "https://plot.ly"
       },
       "data": [
        {
         "hovertemplate": "variable=train_epoch_accuracy<br>epoch=%{x}<br>value=%{y}<extra></extra>",
         "legendgroup": "train_epoch_accuracy",
         "line": {
          "color": "#636efa",
          "dash": "solid"
         },
         "marker": {
          "symbol": "circle"
         },
         "mode": "lines",
         "name": "train_epoch_accuracy",
         "orientation": "v",
         "showlegend": true,
         "type": "scatter",
         "x": {
          "bdata": "AAECAwQFBgcICQoLDA0ODxAREhMUFRYXGBkaGxwdHh8gISIjJCUmJygpKissLS4vMDEyMzQ1Njc4OTo7",
          "dtype": "i1"
         },
         "xaxis": "x3",
         "y": {
          "bdata": "NPVKjmD4yT8VBSjbHcvTPxZq4z4PuNc/tKcoQNlu2T/Sl0vzGzzbPzUkfbk0v9w/MJfmN7iK3z/fe++99y7gP7733nvvveE/2e5YPHs64j/vvffee5/iP3Bw1ZD0ReM/kCpvCxoN5D//NYk4HXbkP/81iTgdpuQ/FaBsdyze5D/8oZupVwLlPyHpy6X5XeU/zKX5Da4a5j9AdDP1Sv7lP4BNIk6HSeY/JhGnw4SF5j9WQ9KXS5PmPzKQjypvy+Y/oAe8yKzw5j90zjnnnCPnP49g+EM3M+c/Ai8yK9RW5z/Cuv41iVjnP6BsdyyeTec/EafDhHWN5z/sxE7sxK7nP4zMCrVxr+c/4OCqIem75z+nKEDZ7sjnP/YUBSjbvec/Z+qVHMHA5z9w1ZD05bLnP2HCuv41uec/Nu7zgBep5z/lCIY/dKPnP2x3LJ499ec/27jPA17U5z8iTocJ68rnP4sClO2O5ec/G/d5wIvc5z8Rp8OEde3nP4V1/WsSoec/W9BoGcjX5z8gH1XeFhToP9Zaa621Jug/3ky9kiMY6D97igKU7W7oP1vQaBnIx+g/TFjXvybR6D/uKQpQtivpP4JGy0A+Ouk/j8WzpyhA6T8OSV8uzT/pP0/sxE7sJOk/",
          "dtype": "f8"
         },
         "yaxis": "y3"
        },
        {
         "hovertemplate": "variable=validation_accuracy<br>epoch=%{x}<br>value=%{y}<extra></extra>",
         "legendgroup": "validation_accuracy",
         "line": {
          "color": "#EF553B",
          "dash": "solid"
         },
         "marker": {
          "symbol": "circle"
         },
         "mode": "lines",
         "name": "validation_accuracy",
         "orientation": "v",
         "showlegend": true,
         "type": "scatter",
         "x": {
          "bdata": "AAECAwQFBgcICQoLDA0ODxAREhMUFRYXGBkaGxwdHh8gISIjJCUmJygpKissLS4vMDEyMzQ1Njc4OTo7",
          "dtype": "i1"
         },
         "xaxis": "x2",
         "y": {
          "bdata": "8cj8pzbYzz+eA4PCTJXSP/kkdItJvdI/Odo1gmwa0j+VJiBw3U3UP3DdjUuUe9M/uUS5b7IU1D8L3zkwKEzWPwu0QAu0wNM/lnwSusVk2D+wvUhnKyTZP7rFpN4Od9k/lVEZlVEZ2T/xnQODwkzaP7HoQYyfb9k/lVEZlVGZ2D9oVh1DDUvaPzowKMxUsdo/Hpn/1AYb2D8ndmIndqLZP7rFpN4Ot9o/DTUsehBj2j8ooVtM6m3aP4PCTBXnFds/A1jJJ6Hb2j86MCjMVLHZP2hWHUMNi9o/CwozVZwX2j/e4z3e433ZP1bHUMOix9s/3w43A1gJ2z+6xaTeDjfbPyihW0zq7do/OjAozFTx2j+D7UU6W+HaPzowKMxU8do/Qw2LHsR42z+WpwvfObDbP1bHUMOiR9o/3uM93uO92T+x6EGMn+/aP3oQ4+frmds/ni5858Ag2j9ogRZogVbbP/HI/Kc2mNk/ehDj5+sZ2z/o65lVxxDbP5Z8ErrF5Nk/qDbYXqQz2z+oC985MCjaP42fr2dWnds/X3m68J1D2z9ogRZogZbbP43KqIzKKNw/zX9qg+0F3D+WfBK6xWTbP/HI/Kc22Nw/qDbYXqTz2z9DOIRDOMTcPzGpt8PNQN0/",
          "dtype": "f8"
         },
         "yaxis": "y2"
        },
        {
         "hovertemplate": "variable=competition_score<br>epoch=%{x}<br>value=%{y}<extra></extra>",
         "legendgroup": "competition_score",
         "line": {
          "color": "#00cc96",
          "dash": "solid"
         },
         "marker": {
          "symbol": "circle"
         },
         "mode": "lines",
         "name": "competition_score",
         "orientation": "v",
         "showlegend": true,
         "type": "scatter",
         "x": {
          "bdata": "AAECAwQFBgcICQoLDA0ODxAREhMUFRYXGBkaGxwdHh8gISIjJCUmJygpKissLS4vMDEyMzQ1Njc4OTo7",
          "dtype": "i1"
         },
         "xaxis": "x",
         "y": {
          "bdata": "mrYyXDEO4D+GdsJt87fgP3JuYsqqfeA/vDpTypGb4D/EXsHqIg7iP3oBHZSihOE/KpnUg4+h4j/nDO5xLQ3iP0qHcB0rj+I/kOPTpW4U4z/S71ZAfbfjPz+yOVFDB+M/PU/6//3Y4z+7LZ57tO3jPwAvlbF1EuQ/Vk37tuwf4z+5UBCswm7jP2TL0slHAeQ/a9t7Q/1K4z+QtWPVQEjjPzBxqFNOiuM/tzEVgIeN4z+RyuGFUkPjP5pbbWxH/eM/KlPpWmq14z+rN3k00DjjP2LY8Ovi8OM/EgproOmD4z8B0qq11WnjP97P9hQc3+M/aie6KH0S5D9/Gr1Vfa3jP09jqPDcmeM/5JzooVTO4z/GRDcI2LPjPyZl0vBq1uM/ChGR3c754z8eqLQd0izkP169NqTXsuM/ij+66+ob4z8hHHlhDlbjPwD6QNOWuuM/nrAdd8kS5D+Md5IVyCHkPw2CpIY3QOM/NUs1NN/d4z+Dik0+garjPy5P3brq/uI/b51iwVrQ4z8n+94/CH7jPywF7TPGGuQ/FRC+Sngh5D8LMIRjVrLjPxWigk7KseM/bq+LmSyL5D++5wnYLD3kPyOYDFQN0+Q/fWLmWzjs4z9QsV3aU4LkP6l/w+S0o+Q/",
          "dtype": "f8"
         },
         "yaxis": "y"
        }
       ],
       "layout": {
        "annotations": [
         {
          "font": {},
          "showarrow": false,
          "text": "variable=competition_score",
          "textangle": 90,
          "x": 0.98,
          "xanchor": "left",
          "xref": "paper",
          "y": 0.15666666666666665,
          "yanchor": "middle",
          "yref": "paper"
         },
         {
          "font": {},
          "showarrow": false,
          "text": "variable=validation_accuracy",
          "textangle": 90,
          "x": 0.98,
          "xanchor": "left",
          "xref": "paper",
          "y": 0.4999999999999999,
          "yanchor": "middle",
          "yref": "paper"
         },
         {
          "font": {},
          "showarrow": false,
          "text": "variable=train_epoch_accuracy",
          "textangle": 90,
          "x": 0.98,
          "xanchor": "left",
          "xref": "paper",
          "y": 0.8433333333333332,
          "yanchor": "middle",
          "yref": "paper"
         }
        ],
        "legend": {
         "title": {
          "text": "variable"
         },
         "tracegroupgap": 0
        },
        "template": {
         "data": {
          "bar": [
           {
            "error_x": {
             "color": "#2a3f5f"
            },
            "error_y": {
             "color": "#2a3f5f"
            },
            "marker": {
             "line": {
              "color": "#E5ECF6",
              "width": 0.5
             },
             "pattern": {
              "fillmode": "overlay",
              "size": 10,
              "solidity": 0.2
             }
            },
            "type": "bar"
           }
          ],
          "barpolar": [
           {
            "marker": {
             "line": {
              "color": "#E5ECF6",
              "width": 0.5
             },
             "pattern": {
              "fillmode": "overlay",
              "size": 10,
              "solidity": 0.2
             }
            },
            "type": "barpolar"
           }
          ],
          "carpet": [
           {
            "aaxis": {
             "endlinecolor": "#2a3f5f",
             "gridcolor": "white",
             "linecolor": "white",
             "minorgridcolor": "white",
             "startlinecolor": "#2a3f5f"
            },
            "baxis": {
             "endlinecolor": "#2a3f5f",
             "gridcolor": "white",
             "linecolor": "white",
             "minorgridcolor": "white",
             "startlinecolor": "#2a3f5f"
            },
            "type": "carpet"
           }
          ],
          "choropleth": [
           {
            "colorbar": {
             "outlinewidth": 0,
             "ticks": ""
            },
            "type": "choropleth"
           }
          ],
          "contour": [
           {
            "colorbar": {
             "outlinewidth": 0,
             "ticks": ""
            },
            "colorscale": [
             [
              0,
              "#0d0887"
             ],
             [
              0.1111111111111111,
              "#46039f"
             ],
             [
              0.2222222222222222,
              "#7201a8"
             ],
             [
              0.3333333333333333,
              "#9c179e"
             ],
             [
              0.4444444444444444,
              "#bd3786"
             ],
             [
              0.5555555555555556,
              "#d8576b"
             ],
             [
              0.6666666666666666,
              "#ed7953"
             ],
             [
              0.7777777777777778,
              "#fb9f3a"
             ],
             [
              0.8888888888888888,
              "#fdca26"
             ],
             [
              1,
              "#f0f921"
             ]
            ],
            "type": "contour"
           }
          ],
          "contourcarpet": [
           {
            "colorbar": {
             "outlinewidth": 0,
             "ticks": ""
            },
            "type": "contourcarpet"
           }
          ],
          "heatmap": [
           {
            "colorbar": {
             "outlinewidth": 0,
             "ticks": ""
            },
            "colorscale": [
             [
              0,
              "#0d0887"
             ],
             [
              0.1111111111111111,
              "#46039f"
             ],
             [
              0.2222222222222222,
              "#7201a8"
             ],
             [
              0.3333333333333333,
              "#9c179e"
             ],
             [
              0.4444444444444444,
              "#bd3786"
             ],
             [
              0.5555555555555556,
              "#d8576b"
             ],
             [
              0.6666666666666666,
              "#ed7953"
             ],
             [
              0.7777777777777778,
              "#fb9f3a"
             ],
             [
              0.8888888888888888,
              "#fdca26"
             ],
             [
              1,
              "#f0f921"
             ]
            ],
            "type": "heatmap"
           }
          ],
          "histogram": [
           {
            "marker": {
             "pattern": {
              "fillmode": "overlay",
              "size": 10,
              "solidity": 0.2
             }
            },
            "type": "histogram"
           }
          ],
          "histogram2d": [
           {
            "colorbar": {
             "outlinewidth": 0,
             "ticks": ""
            },
            "colorscale": [
             [
              0,
              "#0d0887"
             ],
             [
              0.1111111111111111,
              "#46039f"
             ],
             [
              0.2222222222222222,
              "#7201a8"
             ],
             [
              0.3333333333333333,
              "#9c179e"
             ],
             [
              0.4444444444444444,
              "#bd3786"
             ],
             [
              0.5555555555555556,
              "#d8576b"
             ],
             [
              0.6666666666666666,
              "#ed7953"
             ],
             [
              0.7777777777777778,
              "#fb9f3a"
             ],
             [
              0.8888888888888888,
              "#fdca26"
             ],
             [
              1,
              "#f0f921"
             ]
            ],
            "type": "histogram2d"
           }
          ],
          "histogram2dcontour": [
           {
            "colorbar": {
             "outlinewidth": 0,
             "ticks": ""
            },
            "colorscale": [
             [
              0,
              "#0d0887"
             ],
             [
              0.1111111111111111,
              "#46039f"
             ],
             [
              0.2222222222222222,
              "#7201a8"
             ],
             [
              0.3333333333333333,
              "#9c179e"
             ],
             [
              0.4444444444444444,
              "#bd3786"
             ],
             [
              0.5555555555555556,
              "#d8576b"
             ],
             [
              0.6666666666666666,
              "#ed7953"
             ],
             [
              0.7777777777777778,
              "#fb9f3a"
             ],
             [
              0.8888888888888888,
              "#fdca26"
             ],
             [
              1,
              "#f0f921"
             ]
            ],
            "type": "histogram2dcontour"
           }
          ],
          "mesh3d": [
           {
            "colorbar": {
             "outlinewidth": 0,
             "ticks": ""
            },
            "type": "mesh3d"
           }
          ],
          "parcoords": [
           {
            "line": {
             "colorbar": {
              "outlinewidth": 0,
              "ticks": ""
             }
            },
            "type": "parcoords"
           }
          ],
          "pie": [
           {
            "automargin": true,
            "type": "pie"
           }
          ],
          "scatter": [
           {
            "fillpattern": {
             "fillmode": "overlay",
             "size": 10,
             "solidity": 0.2
            },
            "type": "scatter"
           }
          ],
          "scatter3d": [
           {
            "line": {
             "colorbar": {
              "outlinewidth": 0,
              "ticks": ""
             }
            },
            "marker": {
             "colorbar": {
              "outlinewidth": 0,
              "ticks": ""
             }
            },
            "type": "scatter3d"
           }
          ],
          "scattercarpet": [
           {
            "marker": {
             "colorbar": {
              "outlinewidth": 0,
              "ticks": ""
             }
            },
            "type": "scattercarpet"
           }
          ],
          "scattergeo": [
           {
            "marker": {
             "colorbar": {
              "outlinewidth": 0,
              "ticks": ""
             }
            },
            "type": "scattergeo"
           }
          ],
          "scattergl": [
           {
            "marker": {
             "colorbar": {
              "outlinewidth": 0,
              "ticks": ""
             }
            },
            "type": "scattergl"
           }
          ],
          "scattermap": [
           {
            "marker": {
             "colorbar": {
              "outlinewidth": 0,
              "ticks": ""
             }
            },
            "type": "scattermap"
           }
          ],
          "scattermapbox": [
           {
            "marker": {
             "colorbar": {
              "outlinewidth": 0,
              "ticks": ""
             }
            },
            "type": "scattermapbox"
           }
          ],
          "scatterpolar": [
           {
            "marker": {
             "colorbar": {
              "outlinewidth": 0,
              "ticks": ""
             }
            },
            "type": "scatterpolar"
           }
          ],
          "scatterpolargl": [
           {
            "marker": {
             "colorbar": {
              "outlinewidth": 0,
              "ticks": ""
             }
            },
            "type": "scatterpolargl"
           }
          ],
          "scatterternary": [
           {
            "marker": {
             "colorbar": {
              "outlinewidth": 0,
              "ticks": ""
             }
            },
            "type": "scatterternary"
           }
          ],
          "surface": [
           {
            "colorbar": {
             "outlinewidth": 0,
             "ticks": ""
            },
            "colorscale": [
             [
              0,
              "#0d0887"
             ],
             [
              0.1111111111111111,
              "#46039f"
             ],
             [
              0.2222222222222222,
              "#7201a8"
             ],
             [
              0.3333333333333333,
              "#9c179e"
             ],
             [
              0.4444444444444444,
              "#bd3786"
             ],
             [
              0.5555555555555556,
              "#d8576b"
             ],
             [
              0.6666666666666666,
              "#ed7953"
             ],
             [
              0.7777777777777778,
              "#fb9f3a"
             ],
             [
              0.8888888888888888,
              "#fdca26"
             ],
             [
              1,
              "#f0f921"
             ]
            ],
            "type": "surface"
           }
          ],
          "table": [
           {
            "cells": {
             "fill": {
              "color": "#EBF0F8"
             },
             "line": {
              "color": "white"
             }
            },
            "header": {
             "fill": {
              "color": "#C8D4E3"
             },
             "line": {
              "color": "white"
             }
            },
            "type": "table"
           }
          ]
         },
         "layout": {
          "annotationdefaults": {
           "arrowcolor": "#2a3f5f",
           "arrowhead": 0,
           "arrowwidth": 1
          },
          "autotypenumbers": "strict",
          "coloraxis": {
           "colorbar": {
            "outlinewidth": 0,
            "ticks": ""
           }
          },
          "colorscale": {
           "diverging": [
            [
             0,
             "#8e0152"
            ],
            [
             0.1,
             "#c51b7d"
            ],
            [
             0.2,
             "#de77ae"
            ],
            [
             0.3,
             "#f1b6da"
            ],
            [
             0.4,
             "#fde0ef"
            ],
            [
             0.5,
             "#f7f7f7"
            ],
            [
             0.6,
             "#e6f5d0"
            ],
            [
             0.7,
             "#b8e186"
            ],
            [
             0.8,
             "#7fbc41"
            ],
            [
             0.9,
             "#4d9221"
            ],
            [
             1,
             "#276419"
            ]
           ],
           "sequential": [
            [
             0,
             "#0d0887"
            ],
            [
             0.1111111111111111,
             "#46039f"
            ],
            [
             0.2222222222222222,
             "#7201a8"
            ],
            [
             0.3333333333333333,
             "#9c179e"
            ],
            [
             0.4444444444444444,
             "#bd3786"
            ],
            [
             0.5555555555555556,
             "#d8576b"
            ],
            [
             0.6666666666666666,
             "#ed7953"
            ],
            [
             0.7777777777777778,
             "#fb9f3a"
            ],
            [
             0.8888888888888888,
             "#fdca26"
            ],
            [
             1,
             "#f0f921"
            ]
           ],
           "sequentialminus": [
            [
             0,
             "#0d0887"
            ],
            [
             0.1111111111111111,
             "#46039f"
            ],
            [
             0.2222222222222222,
             "#7201a8"
            ],
            [
             0.3333333333333333,
             "#9c179e"
            ],
            [
             0.4444444444444444,
             "#bd3786"
            ],
            [
             0.5555555555555556,
             "#d8576b"
            ],
            [
             0.6666666666666666,
             "#ed7953"
            ],
            [
             0.7777777777777778,
             "#fb9f3a"
            ],
            [
             0.8888888888888888,
             "#fdca26"
            ],
            [
             1,
             "#f0f921"
            ]
           ]
          },
          "colorway": [
           "#636efa",
           "#EF553B",
           "#00cc96",
           "#ab63fa",
           "#FFA15A",
           "#19d3f3",
           "#FF6692",
           "#B6E880",
           "#FF97FF",
           "#FECB52"
          ],
          "font": {
           "color": "#2a3f5f"
          },
          "geo": {
           "bgcolor": "white",
           "lakecolor": "white",
           "landcolor": "#E5ECF6",
           "showlakes": true,
           "showland": true,
           "subunitcolor": "white"
          },
          "hoverlabel": {
           "align": "left"
          },
          "hovermode": "closest",
          "mapbox": {
           "style": "light"
          },
          "paper_bgcolor": "white",
          "plot_bgcolor": "#E5ECF6",
          "polar": {
           "angularaxis": {
            "gridcolor": "white",
            "linecolor": "white",
            "ticks": ""
           },
           "bgcolor": "#E5ECF6",
           "radialaxis": {
            "gridcolor": "white",
            "linecolor": "white",
            "ticks": ""
           }
          },
          "scene": {
           "xaxis": {
            "backgroundcolor": "#E5ECF6",
            "gridcolor": "white",
            "gridwidth": 2,
            "linecolor": "white",
            "showbackground": true,
            "ticks": "",
            "zerolinecolor": "white"
           },
           "yaxis": {
            "backgroundcolor": "#E5ECF6",
            "gridcolor": "white",
            "gridwidth": 2,
            "linecolor": "white",
            "showbackground": true,
            "ticks": "",
            "zerolinecolor": "white"
           },
           "zaxis": {
            "backgroundcolor": "#E5ECF6",
            "gridcolor": "white",
            "gridwidth": 2,
            "linecolor": "white",
            "showbackground": true,
            "ticks": "",
            "zerolinecolor": "white"
           }
          },
          "shapedefaults": {
           "line": {
            "color": "#2a3f5f"
           }
          },
          "ternary": {
           "aaxis": {
            "gridcolor": "white",
            "linecolor": "white",
            "ticks": ""
           },
           "baxis": {
            "gridcolor": "white",
            "linecolor": "white",
            "ticks": ""
           },
           "bgcolor": "#E5ECF6",
           "caxis": {
            "gridcolor": "white",
            "linecolor": "white",
            "ticks": ""
           }
          },
          "title": {
           "x": 0.05
          },
          "xaxis": {
           "automargin": true,
           "gridcolor": "white",
           "linecolor": "white",
           "ticks": "",
           "title": {
            "standoff": 15
           },
           "zerolinecolor": "white",
           "zerolinewidth": 2
          },
          "yaxis": {
           "automargin": true,
           "gridcolor": "white",
           "linecolor": "white",
           "ticks": "",
           "title": {
            "standoff": 15
           },
           "zerolinecolor": "white",
           "zerolinewidth": 2
          }
         }
        },
        "title": {
         "text": "epoch metrics"
        },
        "xaxis": {
         "anchor": "y",
         "domain": [
          0,
          0.98
         ],
         "title": {
          "text": "epoch"
         }
        },
        "xaxis2": {
         "anchor": "y2",
         "domain": [
          0,
          0.98
         ],
         "matches": "x",
         "showticklabels": false
        },
        "xaxis3": {
         "anchor": "y3",
         "domain": [
          0,
          0.98
         ],
         "matches": "x",
         "showticklabels": false
        },
        "yaxis": {
         "anchor": "x",
         "domain": [
          0,
          0.3133333333333333
         ],
         "title": {
          "text": "value"
         }
        },
        "yaxis2": {
         "anchor": "x2",
         "domain": [
          0.34333333333333327,
          0.6566666666666665
         ],
         "title": {
          "text": "value"
         }
        },
        "yaxis3": {
         "anchor": "x3",
         "domain": [
          0.6866666666666665,
          0.9999999999999998
         ],
         "title": {
          "text": "value"
         }
        }
       }
      }
     },
     "metadata": {},
     "output_type": "display_data"
    },
    {
     "name": "stdout",
     "output_type": "stream",
     "text": [
      "=========================\n"
     ]
    }
   ],
   "source": [
    "fold_patterns = join(dataset_path, \"preprocessed_dataset\", \"fold*\")\n",
    "fold_pths = glob(fold_patterns)[:NB_CROSS_VALIDATIONS]\n",
    "all_training_metrics = {}\n",
    "\n",
    "for fold_idx, fold_pth in enumerate(fold_pths):\n",
    "    print(\"training:\", fold_idx + 1)\n",
    "    train_dataset = CMIDataset(fold_pth, \"train\")\n",
    "    train_data_loader = DL(train_dataset, BATCH_SIZE, shuffle=True)\n",
    "    validation_dataset = CMIDataset(fold_pth, \"validation\")\n",
    "    validation_data_loader = DL(validation_dataset, BATCH_SIZE, shuffle=False)\n",
    "    _, training_metrics, _ = mk_model_and_fit(train_data_loader, validation_data_loader)\n",
    "    all_training_metrics[\"fold_\" + str(fold_idx)] = training_metrics\n",
    "    plt_validation_split_training_metrics(training_metrics)\n",
    "    print(\"=========================\")\n",
    "\n",
    "if NB_CROSS_VALIDATIONS:\n",
    "    all_training_metrics = pd.concat(all_training_metrics)"
   ]
  },
  {
   "cell_type": "code",
   "execution_count": 20,
   "id": "0e54c23c",
   "metadata": {},
   "outputs": [
    {
     "data": {
      "text/html": [
       "<div>\n",
       "<style scoped>\n",
       "    .dataframe tbody tr th:only-of-type {\n",
       "        vertical-align: middle;\n",
       "    }\n",
       "\n",
       "    .dataframe tbody tr th {\n",
       "        vertical-align: top;\n",
       "    }\n",
       "\n",
       "    .dataframe thead th {\n",
       "        text-align: right;\n",
       "    }\n",
       "</style>\n",
       "<table border=\"1\" class=\"dataframe\">\n",
       "  <thead>\n",
       "    <tr style=\"text-align: right;\">\n",
       "      <th></th>\n",
       "      <th>train_epoch_loss</th>\n",
       "      <th>train_epoch_accuracy</th>\n",
       "      <th>validation_loss</th>\n",
       "      <th>validation_accuracy</th>\n",
       "      <th>competition_score</th>\n",
       "    </tr>\n",
       "  </thead>\n",
       "  <tbody>\n",
       "    <tr>\n",
       "      <th>mean</th>\n",
       "      <td>2.381697</td>\n",
       "      <td>0.599174</td>\n",
       "      <td>2.604420</td>\n",
       "      <td>0.37415</td>\n",
       "      <td>0.584358</td>\n",
       "    </tr>\n",
       "    <tr>\n",
       "      <th>std</th>\n",
       "      <td>0.147608</td>\n",
       "      <td>0.148492</td>\n",
       "      <td>0.055772</td>\n",
       "      <td>0.05655</td>\n",
       "      <td>0.042023</td>\n",
       "    </tr>\n",
       "  </tbody>\n",
       "</table>\n",
       "</div>"
      ],
      "text/plain": [
       "      train_epoch_loss  train_epoch_accuracy  validation_loss  \\\n",
       "mean          2.381697              0.599174         2.604420   \n",
       "std           0.147608              0.148492         0.055772   \n",
       "\n",
       "      validation_accuracy  competition_score  \n",
       "mean              0.37415           0.584358  \n",
       "std               0.05655           0.042023  "
      ]
     },
     "metadata": {},
     "output_type": "display_data"
    }
   ],
   "source": [
    "if NB_CROSS_VALIDATIONS:\n",
    "    display(\n",
    "        all_training_metrics\n",
    "        .loc[:,\n",
    "            [\n",
    "                \"train_epoch_loss\",\n",
    "                \"train_epoch_accuracy\",\n",
    "                \"validation_loss\",\n",
    "                \"validation_accuracy\",\n",
    "                \"competition_score\",\n",
    "            ],\n",
    "        ]\n",
    "        .agg([\"mean\", \"std\"])\n",
    "    )"
   ]
  },
  {
   "cell_type": "markdown",
   "id": "aab08b93",
   "metadata": {},
   "source": [
    "## Full dataset training"
   ]
  },
  {
   "cell_type": "code",
   "execution_count": 21,
   "id": "e6a350f8",
   "metadata": {},
   "outputs": [
    {
     "data": {
      "application/vnd.jupyter.widget-view+json": {
       "model_id": "c65f17f7f3aa452bbf239dab03f710b8",
       "version_major": 2,
       "version_minor": 0
      },
      "text/plain": [
       "Output()"
      ]
     },
     "metadata": {},
     "output_type": "display_data"
    },
    {
     "data": {
      "text/html": [
       "<pre style=\"white-space:pre;overflow-x:auto;line-height:normal;font-family:Menlo,'DejaVu Sans Mono',consolas,'Courier New',monospace\"></pre>\n"
      ],
      "text/plain": []
     },
     "metadata": {},
     "output_type": "display_data"
    },
    {
     "data": {
      "application/vnd.plotly.v1+json": {
       "config": {
        "plotlyServerURL": "https://plot.ly"
       },
       "data": [
        {
         "hovertemplate": "variable=batch_train_loss<br>step=%{x}<br>value=%{y}<extra></extra>",
         "legendgroup": "",
         "marker": {
          "color": "#636efa",
          "symbol": "circle"
         },
         "mode": "markers",
         "name": "",
         "showlegend": false,
         "type": "scattergl",
         "x": {
          "bdata": "AAABAAIAAwAEAAUABgAHAAgACQAKAAsADAANAA4ADwAQABEAEgATABQAFQAWABcAGAAZABoAGwAcAB0AHgAfACAAIQAiACMAJAAlACYAJwAoACkAKgArACwALQAuAC8AMAAxADIAMwA0ADUANgA3ADgAOQA6ADsAPAA9AD4APwBAAEEAQgBDAEQARQBGAEcASABJAEoASwBMAE0ATgBPAFAAUQBSAFMAVABVAFYAVwBYAFkAWgBbAFwAXQBeAF8AYABhAGIAYwBkAGUAZgBnAGgAaQBqAGsAbABtAG4AbwBwAHEAcgBzAHQAdQB2AHcAeAB5AHoAewB8AH0AfgB/AIAAgQCCAIMAhACFAIYAhwCIAIkAigCLAIwAjQCOAI8AkACRAJIAkwCUAJUAlgCXAJgAmQCaAJsAnACdAJ4AnwCgAKEAogCjAKQApQCmAKcAqACpAKoAqwCsAK0ArgCvALAAsQCyALMAtAC1ALYAtwC4ALkAugC7ALwAvQC+AL8AwADBAMIAwwDEAMUAxgDHAMgAyQDKAMsAzADNAM4AzwDQANEA0gDTANQA1QDWANcA2ADZANoA2wDcAN0A3gDfAOAA4QDiAOMA5ADlAOYA5wDoAOkA6gDrAOwA7QDuAO8A8ADxAPIA8wD0APUA9gD3APgA+QD6APsA/AD9AP4A/wAAAQEBAgEDAQQBBQEGAQcBCAEJAQoBCwEMAQ0BDgEPARABEQESARMBFAEVARYBFwEYARkBGgEbARwBHQEeAR8BIAEhASIBIwEkASUBJgEnASgBKQEqASsBLAEtAS4BLwEwATEBMgEzATQBNQE2ATcBOAE5AToBOwE8AT0BPgE/AUABQQFCAUMBRAFFAUYBRwFIAUkBSgFLAUwBTQFOAU8BUAFRAVIBUwFUAVUBVgFXAVgBWQFaAVsBXAFdAV4BXwFgAWEBYgFjAWQBZQFmAWcBaAFpAWoBawFsAW0BbgFvAXABcQFyAXMBdAF1AXYBdwF4AXkBegF7AXwBfQF+AX8BgAGBAYIBgwGEAYUBhgGHAYgBiQGKAYsBjAGNAY4BjwGQAZEBkgGTAZQBlQGWAZcBmAGZAZoBmwGcAZ0BngGfAaABoQGiAaMBpAGlAaYBpwGoAakBqgGrAawBrQGuAa8BsAGxAbIBswG0AbUBtgG3AbgBuQG6AbsBvAG9Ab4BvwHAAcEBwgHDAcQBxQHGAccByAHJAcoBywHMAc0BzgHPAdAB0QHSAdMB1AHVAdYB1wHYAdkB2gHbAdwB3QHeAd8B4AHhAeIB4wHkAeUB5gHnAegB6QHqAesB7AHtAe4B7wHwAfEB8gHzAfQB9QH2AfcB+AH5AfoB+wH8Af0B/gH/AQACAQICAgMCBAIFAgYCBwIIAgkCCgILAgwCDQIOAg8CEAIRAhICEwIUAhUCFgIXAhgCGQIaAhsCHAIdAh4CHwIgAiECIgIjAiQCJQImAicCKAIpAioCKwIsAi0CLgIvAjACMQIyAjMCNAI1AjYCNwI4AjkCOgI7AjwCPQI+Aj8CQAJBAkICQwJEAkUCRgJHAkgCSQJKAksCTAJNAk4CTwJQAlECUgJTAlQCVQJWAlcCWAJZAloCWwJcAl0CXgJfAmACYQJiAmMCZAJlAmYCZwJoAmkCagJrAmwCbQJuAm8CcAJxAnICcwJ0AnUCdgJ3AngCeQJ6AnsCfAJ9An4CfwKAAoECggKDAoQChQKGAocCiAKJAooCiwKMAo0CjgKPApACkQKSApMClAKVApYClwKYApkCmgKbApwCnQKeAp8CoAKhAqICowKkAqUCpgKnAqgCqQKqAqsCrAKtAq4CrwKwArECsgKzArQCtQK2ArcCuAK5AroCuwK8Ar0CvgK/AsACwQLCAsMCxALFAsYCxwLIAskCygLLAswCzQLOAs8C0ALRAtIC0wLUAtUC1gLXAtgC2QLaAtsC3ALdAt4C3wLgAuEC4gLjAuQC5QLmAucC6ALpAuoC6wLsAu0C7gLvAvAC8QLyAvMC9AL1AvYC9wL4AvkC+gL7AvwC/QL+Av8CAAMBAwIDAwMEAwUDBgMHAwgDCQMKAwsDDAMNAw4DDwMQAxEDEgMTAxQDFQMWAxcDGAMZAxoDGwMcAx0DHgMfAyADIQMiAyMDJAMlAyYDJwMoAykDKgMrAywDLQMuAy8DMAMxAzIDMwM0AzUDNgM3AzgDOQM6AzsDPAM9Az4DPwNAA0EDQgNDA0QDRQNGA0cDSANJA0oDSwNMA00DTgNPA1ADUQNSA1MDVANVA1YDVwNYA1kDWgNbA1wDXQNeA18DYANhA2IDYwNkA2UDZgNnA2gDaQNqA2sDbANtA24DbwNwA3EDcgNzA3QDdQN2A3cDeAN5A3oDewN8A30DfgN/A4ADgQOCA4MDhAOFA4YDhwOIA4kDigOLA4wDjQOOA48DkAORA5IDkwOUA5UDlgOXA5gDmQOaA5sDnAOdA54DnwOgA6EDogOjA6QDpQOmA6cDqAOpA6oDqwOsA60DrgOvA7ADsQOyA7MDtAO1A7YDtwO4A7kDugO7A7wDvQO+A78DwAPBA8IDwwPEA8UDxgPHA8gDyQPKA8sDzAPNA84DzwPQA9ED0gPTA9QD1QPWA9cD2APZA9oD2wPcA90D3gPfA+AD4QPiA+MD5APlA+YD5wPoA+kD6gPrA+wD7QPuA+8D8APxA/ID8wP0A/UD9gP3A/gD+QP6A/sD/AP9A/4D/wMABAEEAgQDBAQEBQQGBAcECAQJBAoECwQMBA0EDgQPBBAEEQQSBBMEFAQVBBYEFwQYBBkEGgQbBBwEHQQeBB8EIAQhBCIEIwQkBCUEJgQnBCgEKQQqBCsELAQtBC4ELwQwBDEEMgQzBDQENQQ2BDcEOAQ5BDoEOwQ8BD0EPgQ/BEAEQQRCBEMERARFBEYERwRIBEkESgRLBEwETQROBE8EUARRBFIEUwRUBFUEVgRXBFgEWQRaBFsEXARdBF4EXwRgBGEEYgRjBGQEZQRmBGcEaARpBGoEawRsBG0EbgRvBHAEcQRyBHMEdAR1BHYEdwR4BHkEegR7BHwEfQR+BH8EgASBBIIEgwSEBIUEhgSHBIgEiQSKBIsEjASNBI4EjwSQBJEEkgSTBJQElQSWBJcEmASZBJoEmwScBJ0EngSfBKAEoQSiBKMEpASlBKYEpwSoBKkEqgSrBKwErQSuBK8EsASxBLIEswS0BLUEtgS3BLgEuQS6BLsEvAS9BL4EvwTABMEEwgTDBMQExQTGBMcEyATJBMoEywTMBM0EzgTPBNAE0QTSBNME1ATVBNYE1wTYBNkE2gTbBNwE3QTeBN8E4AThBOIE4wTkBOUE5gTnBOgE6QTqBOsE7ATtBO4E7wTwBPEE8gTzBPQE9QT2BPcE+AT5BPoE+wT8BP0E/gT/BAAFAQUCBQMFBAUFBQYFBwUIBQkFCgULBQwFDQUOBQ8FEAURBRIFEwUUBRUFFgUXBRgFGQUaBRsFHAUdBR4FHwUgBSEFIgUjBSQFJQUmBScFKAUpBSoFKwUsBS0FLgUvBTAFMQUyBTMFNAU1BTYFNwU4BTkFOgU7BTwFPQU+BT8FQAVBBUIFQwVEBUUFRgVHBUgFSQVKBUsFTAVNBU4FTwVQBVEFUgVTBVQFVQVWBVcFWAVZBVoFWwVcBV0FXgVfBWAFYQViBWMFZAVlBWYFZwVoBWkFagVrBWwFbQVuBW8FcAVxBXIFcwV0BXUFdgV3BXgFeQV6BXsFfAV9BX4FfwWABYEFggWDBYQFhQWGBYcFiAWJBYoFiwWMBY0FjgWPBZAFkQWSBZMFlAWVBZYFlwWYBZkFmgWbBZwFnQWeBZ8FoAWhBaIFowWkBaUFpgWnBagFqQWqBasFrAWtBa4FrwWwBbEFsgWzBbQFtQW2BbcFuAW5BboFuwW8Bb0FvgW/BcAFwQXCBcMFxAXFBcYFxwXIBckFygXLBcwFzQXOBc8F0AXRBdIF0wXUBdUF1gXXBdgF2QXaBdsF3AXdBd4F3wXgBeEF4gXjBeQF5QXmBecF6AXpBeoF6wXsBe0F7gXvBfAF8QXyBfMF9AX1BfYF9wX4BfkF+gX7BfwF/QX+Bf8FAAYBBgIGAwYEBgUGBgYHBggGCQYKBgsGDAYNBg4GDwYQBhEGEgYTBhQGFQYWBhcGGAYZBhoGGwYcBh0GHgYfBiAGIQYiBiMGJAYlBiYGJwYoBikGKgYrBiwGLQYuBi8GMAYxBjIGMwY0BjUGNgY3BjgGOQY6BjsGPAY9Bj4GPwZABkEGQgZDBkQGRQZGBkcGSAZJBkoGSwZMBk0GTgZPBlAGUQZSBlMGVAZVBlYGVwZYBlkGWgZbBlwGXQZeBl8GYAZhBmIGYwZkBmUGZgZnBmgGaQZqBmsGbAZtBm4GbwZwBnEGcgZzBnQGdQZ2BncGeAZ5BnoGewZ8Bn0GfgZ/BoAGgQaCBoMGhAaFBoYGhwaIBokGigaLBowGjQaOBo8GkAaRBpIGkwaUBpUGlgaXBpgGmQaaBpsGnAadBp4GnwagBqEGogajBqQGpQamBqcGqAapBqoGqwasBq0GrgavBrAGsQayBrMGtAa1BrYGtwa4BrkGuga7BrwGvQa+Br8GwAbBBsIGwwbEBsUGxgbHBsgGyQbKBssGzAbNBs4GzwbQBtEG0gbTBtQG1QbWBtcG2AbZBtoG2wbcBt0G3gbfBuAG4QbiBuMG5AblBuYG5wboBukG6gbrBuwG7QbuBu8G8AbxBvIG8wb0BvUG9gb3BvgG+Qb6BvsG/Ab9Bv4G/wYABwEHAgcDBwQHBQcGBwcHCAcJBwoHCwcMBw0HDgcPBxAHEQcSBxMHFAcVBxYHFwcYBxkHGgcbBxwHHQceBx8HIAchByIHIwckByUHJgcnBygHKQcqBysHLActBy4HLwcwBzEHMgczBzQHNQc2BzcHOAc5BzoHOwc8Bz0HPgc/B0AHQQdCB0MHRAdFB0YHRwdIB0kHSgdLB0wHTQdOB08HUAdRB1IHUwdUB1UHVgdXB1gHWQdaB1sHXAddB14HXwdgB2EHYgdjB2QHZQdmB2cHaAdpB2oHawdsB20HbgdvB3AHcQdyB3MHdAd1B3YHdwd4B3kHegd7B3wHfQd+B38H",
          "dtype": "i2"
         },
         "xaxis": "x2",
         "y": {
          "bdata": "AAAAAOAfB0AAAADAQuoGQAAAAAC0zgZAAAAAIF4hB0AAAABg190GQAAAAODmEAdAAAAAQIvtBkAAAABgz5oGQAAAAKCKggZAAAAAAJ+EBkAAAADABrIGQAAAAEAazQZAAAAAwAtrBkAAAACAz2UGQAAAACB7dwZAAAAA4INLBkAAAACAYTkGQAAAAIBNTgZAAAAAQLWkBkAAAAAAWjwGQAAAACA0UQZAAAAAABoeBkAAAAAAPjMGQAAAAIBXIQZAAAAAQCmIBkAAAAAApDgGQAAAAABFcQZAAAAAYO89BkAAAAAAkdkFQAAAAIDBWAZAAAAA4LKeBUAAAABACQwGQAAAAAAjHAZAAAAAAFMiBkAAAADAl9cFQAAAAACYRgZAAAAAYFsGBkAAAABA40YGQAAAAMCXGAZAAAAAQKfCBUAAAABAi+8FQAAAAECQ9QVAAAAAgGJRBkAAAAAAdsIFQAAAAEB3CwZAAAAAgJ0SBkAAAACgWtcFQAAAAGD6OQZAAAAAwF7MBUAAAABgOe0FQAAAAMC09gVAAAAAADeuBUAAAABA9r8FQAAAAKCtTgZAAAAAQI0WBkAAAACAmnYFQAAAAADfkAVAAAAAwPfHBUAAAABA8XcFQAAAAGCciwVAAAAAAMzKBUAAAABAq8MFQAAAAGBatQVAAAAA4Jq7BUAAAACAewcGQAAAAMDSdAVAAAAAICZkBUAAAACgWmMFQAAAACCffAVAAAAAAL9gBUAAAACAscEFQAAAACBW4wVAAAAAwB6VBUAAAACAOlgFQAAAAAAgQwVAAAAAgJZmBUAAAAAA3DkFQAAAAECBkAVAAAAAwDFqBUAAAABgiaMFQAAAAICFcgVAAAAAgFh4BUAAAABA1MUFQAAAAABMiQVAAAAAgH5KBUAAAADAIlAFQAAAAEAtkQVAAAAAIFLHBUAAAADAsbcFQAAAACCPJgVAAAAAgOO7BUAAAABg54IFQAAAAEB73AVAAAAAwLRRBUAAAAAASHkFQAAAAEDeuQVAAAAAoN+KBUAAAABAgzIFQAAAAOB/YQVAAAAAQFwIBUAAAACAPkEFQAAAAMApTgVAAAAAINZlBUAAAABAFDgFQAAAAMAuMwVAAAAAwO/CBUAAAABA/4gFQAAAAEDJSAVAAAAAQJocBUAAAAAAHgsFQAAAAKBzOwVAAAAAwPU7BUAAAACAC0cFQAAAAODIZAVAAAAAQC9WBUAAAADgpxsFQAAAAEC8YgVAAAAAYPZmBUAAAADgyTsFQAAAAADVSwVAAAAAAI3xBEAAAACAxHwFQAAAAGAIOwVAAAAAACpBBUAAAABAL1AFQAAAAODtWAVAAAAAAIY7BUAAAAAgYxgFQAAAAKBQDwVAAAAAQDW0BEAAAADAI1gFQAAAAMDjLAVAAAAAIK5sBUAAAADAmEUFQAAAAAA1cwVAAAAAwHwfBUAAAAAgxfEEQAAAAACd7wRAAAAAAGW/BUAAAABAwzUFQAAAAOCJcQVAAAAAYG44BUAAAAAgUlwFQAAAAADKggVAAAAAwEk0BUAAAADAZ0gFQAAAAOAzHwVAAAAAQCkZBUAAAAAA42MFQAAAAMAOTgVAAAAAIBN0BUAAAABAsgEFQAAAAOCJOQVAAAAAgF8kBUAAAABgG2gFQAAAAEArVAVAAAAAwG1nBUAAAAAAUA4FQAAAAADgFAVAAAAAwFWWBUAAAADAGzcFQAAAAIDcNwVAAAAAAH4GBUAAAACAY+MEQAAAAECQOgVAAAAAgNs+BUAAAACA1ckEQAAAAIAJ+gRAAAAAQJ3oBEAAAACAxJUFQAAAAMBXbwVAAAAAYKAmBUAAAADAxB0FQAAAAIDAFAVAAAAAYBBlBUAAAAAggGcFQAAAAACbEQVAAAAAQF1MBUAAAACg4GEFQAAAAOCEZgVAAAAAgM3/BEAAAADA/90EQAAAAICsZwVAAAAAwAVXBUAAAABgyjUFQAAAAEA4kwVAAAAAgFJiBUAAAABgtoAFQAAAAADYWQVAAAAAgBr1BEAAAAAA60QFQAAAAECNKAVAAAAAAP8lBUAAAAAgiVQFQAAAAGBRcgVAAAAAoEu4BEAAAACAaLcEQAAAAADkTwVAAAAAgBA4BUAAAABgFpQEQAAAAOC50gRAAAAAwLv+BEAAAAAANYEFQAAAAEC8LgVAAAAAYHVWBUAAAAAgUIYFQAAAAMDhRwVAAAAAwMiBBUAAAABAqPYEQAAAAICiVAVAAAAAwNswBUAAAACgxhAFQAAAAEAxQQVAAAAAQL4qBUAAAABABnoFQAAAACAI/wRAAAAAwI8gBUAAAACAyvAEQAAAAICNTwVAAAAAQFUyBUAAAABABkMFQAAAAMCfMgVAAAAAwCNxBUAAAABAcwEFQAAAAIBBFQVAAAAAYMn6BEAAAABA4hQFQAAAACCOGwVAAAAAAHjeBEAAAABAVusEQAAAAABLxgRAAAAAwK0WBUAAAABArF4FQAAAAKB/JQVAAAAAgAxQBUAAAAAgGuwEQAAAAECsQwVAAAAAQAoSBUAAAAAACiIFQAAAAGB0gwRAAAAAgG8lBUAAAAAAcEMFQAAAAOD+cQVAAAAAwExXBUAAAABA81cFQAAAAMB/IgVAAAAAgO+KBEAAAADgc7MEQAAAAIDtPwVAAAAA4BbLBUAAAACAh9QEQAAAAADgYwVAAAAAALmaBUAAAABABuoEQAAAAED6NAVAAAAAYKH2BEAAAABAUyAFQAAAAADzNAVAAAAAAFcbBUAAAADAfhAFQAAAAABi5ARAAAAAAFERBUAAAAAAAzUFQAAAAMB2ngRAAAAAwJKiBEAAAAAAO8kEQAAAAMBFBAVAAAAAgDIGBUAAAADAItIEQAAAAAAsuwRAAAAA4NwZBUAAAAAgA+YEQAAAAEBRXAVAAAAAQLN5BUAAAADAs0AFQAAAAMDwPwVAAAAAwDjrBEAAAACAot0EQAAAAOCfCQVAAAAAgKeABUAAAABgjdcEQAAAAIBV+gRAAAAAQAtkBUAAAADgFvQEQAAAAECwqARAAAAAAIVTBUAAAACAu0QFQAAAAECf3ARAAAAAICz7BEAAAABAskIFQAAAAKCudQRAAAAA4CvdBEAAAAAAKQIFQAAAAIAL2QRAAAAAgHDJBEAAAADAKqQEQAAAAKC6wwRAAAAAAHqzBEAAAABAdXEEQAAAAIAYuwRAAAAAAG2eBEAAAADgnq4EQAAAAGBhDQVAAAAAgNogBUAAAADg2lgEQAAAAGD7YARAAAAAYORfBEAAAADgpp4EQAAAAODrSQRAAAAAwENzBEAAAABAzZUEQAAAAABCgQRAAAAAoFCsBEAAAACg17QEQAAAAIA82ANAAAAAwMBOBEAAAAAA2kgEQAAAAADbWgRAAAAAQIdhBEAAAAAgmEgEQAAAAABh/QNAAAAAAOJsBEAAAABAXEEEQAAAAICIkgRAAAAAwH9XBEAAAAAA0C0EQAAAAKAOOQRAAAAAgEhVBEAAAACg6R8EQAAAAIDueQRAAAAAQNXKBEAAAAAAJG4EQAAAAIDJpgRAAAAA4Nx4BEAAAADgXmcEQAAAAMAnhARAAAAAAOg0BEAAAABgslMEQAAAAGC1gwRAAAAAYKcqBEAAAABgP38EQAAAAKDqdgRAAAAAgORlBEAAAADAs0sEQAAAAEDHmwRAAAAAQHGgBEAAAACAjiQEQAAAAMBOaARAAAAAgKCgBEAAAACAK20EQAAAAICcCARAAAAAYMeLBEAAAAAAnAkEQAAAAOClpQRAAAAAAKZoBEAAAAAAHZMEQAAAAOCeRwRAAAAAIJ+YBEAAAADAzGkEQAAAAICoggRAAAAAAB1bBEAAAAAgqT0EQAAAAOC4ggRAAAAAoGUuBEAAAADAklcEQAAAAMAhwgRAAAAAAASVBEAAAABASngEQAAAAMApnQRAAAAAwL1eBEAAAACAq3QEQAAAAOCy6wNAAAAAwBo3BEAAAAAgN3QEQAAAACAlgQRAAAAAgAW0BEAAAACA4HkEQAAAAODc2QRAAAAAAEDbBEAAAACAUU4EQAAAAEBpEwRAAAAAAIwvBEAAAABA1X0EQAAAAKBD0wRAAAAAgHmIBEAAAADATJMEQAAAAIDgyQRAAAAAgCKiBEAAAABgUiYEQAAAAOCSbwRAAAAAoCqRBEAAAAAAjP4DQAAAAIC9VARAAAAA4GCCBEAAAADgpRkEQAAAAAB5ZARAAAAAgEQdBEAAAADA9R8EQAAAAMB2FQRAAAAAwM+YBEAAAADg4lAEQAAAAGDXGQRAAAAAQE1bBEAAAADAfE4EQAAAAEAYegRAAAAAwAxiBEAAAACgAzkEQAAAAMA6cQRAAAAAICo+BEAAAACAExcEQAAAAMALIARAAAAAQC21BEAAAADAkW8EQAAAAOAOJARAAAAAIPBeBEAAAAAA3XQEQAAAAIAS8gNAAAAAQGgHBEAAAADAliEEQAAAAMBgHwRAAAAAgM6GBEAAAACAcKcEQAAAAGDQUgRAAAAAIBoZBEAAAABA1+8DQAAAAEDtCQRAAAAAQP5tBEAAAADA/U0EQAAAAGDCBQRAAAAAgP6fBEAAAADAHXQEQAAAAKCGPARAAAAAwPD8A0AAAAAgCVMEQAAAAKBEMQRAAAAAIJc7BEAAAADAiWMEQAAAAEBCOwRAAAAAQDZCBEAAAABASSYEQAAAAIA7kQRAAAAAYK54BEAAAACAA4gEQAAAAOBGSARAAAAAwB4VBEAAAABgTzQEQAAAAECaJARAAAAAwHElBEAAAACgy2YEQAAAAMBJeQRAAAAA4KhxBEAAAABgBk4EQAAAAEAN3wNAAAAAIF+OA0AAAABgozUEQAAAACC19QNAAAAAwHVIBEAAAAAg8EQEQAAAAEBvdARAAAAAQEvPBEAAAADAxCoEQAAAAEBoGgRAAAAAYHQ8BEAAAAAAh1MEQAAAAMAb0ANAAAAAIEkGBEAAAADgt4wEQAAAAMDbGgRAAAAAgIYmBEAAAABAAOwDQAAAAACNCARAAAAAgK4CBEAAAACg5hYEQAAAAIDYWwRAAAAAYIxsBEAAAABgpN4DQAAAAKCkKARAAAAA4O5BBEAAAABA29wDQAAAAMAEXARAAAAAgLebBEAAAACAzvQDQAAAAMDi3ANAAAAAQJAsBEAAAADARXAEQAAAAODWJQRAAAAAQKYCBEAAAADA0SkEQAAAAEAO9wNAAAAAANFVBEAAAABAVN0DQAAAAMBEKARAAAAAgIwaBEAAAACAAHgEQAAAACDAMARAAAAAQMRLBEAAAACAcowDQAAAAEDAJgRAAAAAwB4bBEAAAADgmwgEQAAAAAAfgARAAAAAQJsWBEAAAAAAAhIEQAAAAAAQTwRAAAAAQJgIBEAAAAAAwz0EQAAAAODwjwRAAAAAIAt4BEAAAACAT4AEQAAAACAXBgRAAAAAQBINBEAAAACgodIDQAAAAGBO5wNAAAAAwJw3BEAAAADAA0UEQAAAAMACCgRAAAAAoE0RBEAAAAAgoTAEQAAAAOBmTARAAAAAQIz5A0AAAAAABiAEQAAAAGBCGgRAAAAA4OIEBEAAAABgujYEQAAAAEBR1QNAAAAA4LDoA0AAAAAgTn4EQAAAACBtvQNAAAAAYNxCBEAAAAAAhAgEQAAAAACUDQRAAAAAIEEYBEAAAACA9LYDQAAAAGCeAgRAAAAAIMOjBEAAAACAA/8DQAAAAKAfkARAAAAAABkFBEAAAADAWjwEQAAAACCjBARAAAAAgLMNBEAAAADAYkoEQAAAAKB+6gNAAAAAoOg+BEAAAADAgAkEQAAAAEDVGgRAAAAA4L4XBEAAAACAmhsDQAAAACD++gNAAAAAgENUBEAAAABANCYEQAAAAAAE0gNAAAAAwOfcA0AAAADAjAYEQAAAAKC5rQNAAAAAwJk8BEAAAAAAXdADQAAAAIBaCQRAAAAAQOsoBEAAAADg2ksEQAAAAMDAxQNAAAAAgO/WA0AAAACAHPsDQAAAAMDyPgRAAAAAgJDYA0AAAABAjTgEQAAAAADDQQRAAAAAIO5FBEAAAAAAFwUEQAAAAIDxXgRAAAAAgFO+A0AAAABg1wYEQAAAAACKbwRAAAAAoKusA0AAAABgryMEQAAAAIBf+gNAAAAAgEwvBEAAAABAVxEEQAAAAEAGwANAAAAAQNrdA0AAAADAtv8DQAAAAIC05ANAAAAAYCvEA0AAAADA2aoDQAAAAEA1wQNAAAAAQCwcBEAAAABAHqADQAAAAEA9EgRAAAAAgLFIBEAAAADAU8IDQAAAAMBU0QNAAAAAwL9hBEAAAABAbvcDQAAAAMAc9wNAAAAAQLShA0AAAABAvNYDQAAAAOAi2ANAAAAAgFaIA0AAAADAMv4DQAAAAIAyUgRAAAAAgAR5BEAAAACALPcDQAAAAAAEIARAAAAAgMIsBEAAAADgaBEEQAAAAOBo7QNAAAAAwDb0A0AAAADAN2kDQAAAAEAjyQNAAAAAYCXfA0AAAABAOdMDQAAAAEDJmANAAAAAYPPEA0AAAADgW+UDQAAAAACm5ANAAAAAoLwABEAAAAAA5PADQAAAAEAyQQRAAAAAYEcgBEAAAADASjMEQAAAAACXtANAAAAA4GcYBEAAAAAA7CwEQAAAAMCY0ANAAAAAgH4mBEAAAACAIKwDQAAAAMBUCARAAAAAwBNpBEAAAAAg0sEDQAAAAKBYaQNAAAAA4LRABEAAAADASsADQAAAAEC3xQNAAAAAAD7mA0AAAAAA8MQDQAAAAMC68gNAAAAAIImkA0AAAABg/KwDQAAAAOBcHQRAAAAAAGjhA0AAAACgnJQDQAAAAABXbANAAAAAQJ8BBEAAAADA+u0DQAAAAICiTgNAAAAAYJxyBEAAAADg82kDQAAAAMBbvQNAAAAAwIDWA0AAAACg4JoDQAAAAIAwUARAAAAAoDXRA0AAAABAwMYDQAAAACA8/wNAAAAAgCLGA0AAAADAe9cDQAAAAEDkIQRAAAAAwI27A0AAAABAo+gDQAAAAOC7JgRAAAAAwDqGA0AAAAAAI7oDQAAAAGAt2QNAAAAAABZRBEAAAAAgFaMDQAAAAID6DwRAAAAAQIjyA0AAAACAN/gDQAAAAMB1AwRAAAAAAHzbA0AAAABgPcoDQAAAACAgyQNAAAAAAIy+A0AAAABAdbsDQAAAAABAAgRAAAAA4O33A0AAAADAZkYDQAAAAOCUmQNAAAAAAAHZA0AAAADgCRYEQAAAAACTmgNAAAAAIC65A0AAAADAlngDQAAAAEBN1gNAAAAAgBN8A0AAAADAShoEQAAAAICHrgNAAAAAoJH+A0AAAABAXVwEQAAAAMDbMgNAAAAAQC3fA0AAAABg0YsDQAAAAADMTwRAAAAAwNCkA0AAAADA/pEDQAAAAEDBswNAAAAAQIu8A0AAAACA6OMDQAAAACCnqQNAAAAAICWNA0AAAAAAwrYDQAAAAKAm/ANAAAAAwPMABEAAAADgAwwEQAAAAODcuANAAAAAwBTeA0AAAAAAAKMDQAAAAMCIhgNAAAAAADy0A0AAAAAAwj4DQAAAAECj3gNAAAAAQJc4BEAAAAAg/38DQAAAAIAm4ANAAAAAgG/8A0AAAAAAyjIEQAAAAKCwqANAAAAAoBO0A0AAAAAgT24DQAAAAKCL6QNAAAAAAHPcA0AAAABA/cQEQAAAACDzuQNAAAAAoHV1A0AAAADgdp0DQAAAAEB4uwNAAAAAwJSSA0AAAABg6NYDQAAAAADn4ANAAAAAQOhpA0AAAAAAlaMDQAAAAICRkwNAAAAAAFtSA0AAAABg0pwDQAAAAOBLJANAAAAAYFZCA0AAAACAyIEDQAAAAADnkQNAAAAAwNVrA0AAAACAfA4DQAAAAKC+igNAAAAAYP+IA0AAAADAz3IDQAAAAIDlRQNAAAAAAOuSA0AAAACAqlADQAAAAMDNTQNAAAAAwC3+A0AAAABgDm0DQAAAAKDIRwNAAAAAwA9XA0AAAAAg8FsDQAAAAKCs2AJAAAAAYMwiA0AAAAAAt5gDQAAAAEBKLANAAAAAALq/A0AAAAAA69YDQAAAAACQgANAAAAAwIR+A0AAAABAJWUDQAAAAICMegNAAAAAILqjA0AAAADAPk8DQAAAAAA5VgNAAAAAABwhA0AAAABALn0DQAAAAEANawNAAAAAQDZ/A0AAAAAAHQ0DQAAAAMBzTANAAAAAoGg9A0AAAAAAYB8DQAAAAKDLXANAAAAAAAxLA0AAAABgQrcDQAAAAIDpYANAAAAAAHeAA0AAAACAWDQDQAAAAABgeANAAAAAQI1GA0AAAACAZVoDQAAAAEBsOANAAAAA4FJ7A0AAAACge/0CQAAAAIATIwNAAAAAoMdFA0AAAAAAHWMDQAAAAMDZZQNAAAAAIAMqA0AAAADA9WoDQAAAAEDssgNAAAAAQDbuAkAAAADAoG8DQAAAAECJEANAAAAAQFB4A0AAAAAgQy4DQAAAAMANNQNAAAAAgBBKA0AAAACg+0oDQAAAACA3fwNAAAAAgD4ZA0AAAADAl0MDQAAAAICVhwNAAAAAwHx+A0AAAADgAj4DQAAAAMDhHgNAAAAAYPRAA0AAAABAYmwDQAAAAACHHgNAAAAAwMx0A0AAAADAp7IDQAAAAMDsPwNAAAAAwFg5A0AAAAAANxMDQAAAAGBTYANAAAAAwOtcA0AAAADAPR0DQAAAAGDrKgNAAAAAQCX+AkAAAACg1YcDQAAAAIDIIANAAAAAINtwA0AAAACACTcDQAAAAIAJxgJAAAAAgDc4A0AAAADg+TcDQAAAAKAIMQNAAAAAAFImA0AAAAAAWBkDQAAAACBD0QJAAAAAoA4NA0AAAACAbeUCQAAAAMBwNgNAAAAAQKNJA0AAAADgXS4DQAAAAMDFUANAAAAAQKcJA0AAAACATdcCQAAAAKAEWgNAAAAAQMqCA0AAAADAHYADQAAAAMDsNQNAAAAAQLy5A0AAAABg7pUDQAAAAEAcpgNAAAAAwNCEA0AAAABAaUQDQAAAAIB9HQNAAAAAQNxKA0AAAAAAx+EDQAAAAMCz9wJAAAAAQKd5A0AAAACAc0gDQAAAAKBARANAAAAAIKjgAkAAAAAgDjMDQAAAACDGYwNAAAAAAIYMA0AAAABglCcDQAAAAIBKLANAAAAAgIH9AkAAAACAa44CQAAAAMCEKQNAAAAAgO6IA0AAAADA1vgCQAAAAMBmSgNAAAAAwMiDA0AAAACgAv8CQAAAAIA9KQNAAAAAwFuyA0AAAAAgjzUDQAAAAIBD0AJAAAAAgPwnA0AAAADAkaUCQAAAAMAA6wJAAAAAIEXtAkAAAABAzQMDQAAAAOCWwQJAAAAAgHBNA0AAAAAAJQ0DQAAAAOCuPwNAAAAAQHMlA0AAAACgEIsCQAAAAMCLYwNAAAAAgKPvAkAAAAAAh+0CQAAAAACxxgJAAAAAwOBgA0AAAACA8OMCQAAAAMCXywJAAAAAwCeXAkAAAADAwkIDQAAAAEDfDANAAAAAAGvvAkAAAACAhZ8CQAAAAIAlIQNAAAAAIOWkAkAAAADAeAcDQAAAAMAYLANAAAAA4GzLAkAAAADgKBYDQAAAAEBYIANAAAAAgFfOAkAAAACA3jcDQAAAAIBxPANAAAAAQJd4AkAAAAAANwUDQAAAAEDU9wJAAAAA4L7FAkAAAADgu8ICQAAAAIDYDQNAAAAAwKogA0AAAAAAnXADQAAAAEBCLwNAAAAAgIKeAkAAAAAADuMCQAAAAICBhQJAAAAAwDoQA0AAAAAAapcCQAAAAIBHogJAAAAAABLNAkAAAABAMGcCQAAAACA97QJAAAAAoDksA0AAAACABg4DQAAAAOCe7wJAAAAAABYzA0AAAAAATkgDQAAAACA5nAJAAAAAgPeiAkAAAABAqoUCQAAAAGBi1QJAAAAAABPzAkAAAADA59gCQAAAAEB0GgNAAAAAQLsdA0AAAAAA/O4CQAAAAIARlAJAAAAAgIjFAkAAAAAAVKwCQAAAAEAklwJAAAAAwJgBA0AAAAAA4McCQAAAAMCGwwJAAAAAwMZbAkAAAACAn60CQAAAACBxbAJAAAAAwIKMAkAAAACA58MCQAAAAICV4gJAAAAAQBSCAkAAAAAAOTIDQAAAAEA/3gJAAAAAwE/DAkAAAACgaHoCQAAAAEDuAANAAAAAQEWKAkAAAACgRMgCQAAAAOAfWwNAAAAAgHjXAkAAAAAASTQDQAAAAKB/AwNAAAAAAPebAkAAAACA3I8CQAAAAIAp4AJAAAAAAG2tAkAAAAAAA3sCQAAAAEBa1QJAAAAAQHp/AkAAAADAb/kCQAAAAOBTqQJAAAAAgKb1AkAAAABAVd0CQAAAAEBKaAJAAAAAQNfgAkAAAADAA4ECQAAAAID1+QJAAAAAICJ2AkAAAABgOYICQAAAACCqyQJAAAAAQNGWAkAAAACAjXYCQAAAAEAJSgJAAAAAgPb4AkAAAAAgNb4CQAAAAACp7wJAAAAAwGbMAkAAAAAANMQCQAAAAABMoAJAAAAAwOGXAkAAAADgODQDQAAAAMCj0AJAAAAAwGy5AkAAAADAg8oCQAAAAGA0gAJAAAAAQKTnAkAAAAAAUsMCQAAAAIB89AJAAAAAAAK5AkAAAACgTvICQAAAAEAORQJAAAAAQFBmAkAAAABg6ncCQAAAAIDNrQJAAAAAoOXYAkAAAAAgQswCQAAAACDizgJAAAAAAEXrAkAAAAAgul4CQAAAAEBm2wJAAAAAgOk4AkAAAABgaW4CQAAAAMBXAQNAAAAAwO3aAkAAAABg+PACQAAAAGDDdgJAAAAAwAljAkAAAAAAPcICQAAAAEBoswJAAAAAQIqgAkAAAADgnsoCQAAAAKCwzgJAAAAAQInYAkAAAACAEL8CQAAAAIDwVgJAAAAAgHOJAkAAAACgCLMCQAAAAMC1mQJAAAAAgJx4AkAAAACA+usCQAAAAECKnwJAAAAAwBZpAkAAAADAcoYCQAAAAICQUwJAAAAAQOxkAkAAAADA16oCQAAAAIB/wwJAAAAAYJe7AkAAAABARLwCQAAAAMAc6gJAAAAAwE3hAkAAAADgCF8CQAAAAED6wwJAAAAAYIJoAkAAAACAqOUCQAAAAED01wJAAAAAwPgvAkAAAAAAuFQCQAAAAIAIAwNAAAAA4ImhAkAAAACglAkDQAAAAECqrAJAAAAAAA6YAkAAAACAFq8CQAAAAKCQHgNAAAAAAOr/AkAAAACAarwCQAAAAAAuzAJAAAAAgEF8AkAAAADgA+0CQAAAAIAcHQJAAAAAQI1xAkAAAACAaBMCQAAAAACjpQJAAAAAQNOEAkAAAABgHPQCQAAAAAAMkQJAAAAAgOYlAkAAAAAALREDQAAAAEBr0QJAAAAAwMe3AkAAAAAgI5sCQAAAAMCtOgNAAAAAYNVcAkAAAABATTsCQAAAAEAragJAAAAAgBqUAkAAAADAqr0CQAAAAMB0agJAAAAAoDQbAkAAAADA8GkCQAAAAMCs2gJAAAAAoBiWAkAAAACAV2UCQAAAAODnhgJAAAAAwGPeAkAAAACgGl0CQAAAAMBCbQJAAAAAACVQAkAAAABAwX0CQAAAAMC4eQJAAAAAQBSiAkAAAAAAqNsCQAAAACCHyQJAAAAA4MiCAkAAAACATx4CQAAAAAAVEQJAAAAAANFLAkAAAACgDi8CQAAAAADleQJAAAAAQHAKA0AAAACA1ToCQAAAACBk/wFAAAAAgL+HAkAAAACABzICQAAAACCm1gJAAAAA4DtFAkAAAACgdFcCQAAAAECG9gJAAAAAgM6hAkAAAABAnb0CQAAAAIAIMAJAAAAAwCN7AkAAAACAOuMCQAAAAACdRAJAAAAAAPaHAkAAAABAl3UCQAAAAMBsfAJAAAAAwFhoAkAAAACAd08CQAAAAMAcQwJAAAAAgFsyAkAAAAAAeHcCQAAAAEAuTAJAAAAA4CJ6AkAAAAAA1Y0CQAAAAMBNoAJAAAAAYNNJAkAAAAAAl08CQAAAAKCSkQJAAAAAAFgHAkAAAABACikCQAAAAGBeawJAAAAAAPkSAkAAAABgMlgCQAAAAIBoLAJAAAAAoNPzAkAAAADA4eICQAAAAIDTagJAAAAA4B0uAkAAAAAAJHcCQAAAAMDqQwJAAAAAwFlAAkAAAABA4+MCQAAAACAuxQJAAAAAYB5VAkAAAAAAIIgCQAAAAKAfpwJAAAAA4D9cAkAAAACAxVsCQAAAAKCP5wJAAAAAoOdsAkAAAADAAlkCQAAAAMB7QgJAAAAA4ANCAkAAAABA7GsCQAAAAIASaQJAAAAAgKBAAkAAAADAa4QCQAAAAIDvSgJAAAAAYJ0UA0AAAAAAjIcCQAAAAECuZQJAAAAAwOpIAkAAAADgo0ACQAAAAKDcaQJAAAAAQLKEAkAAAABAklECQAAAAMC9QgJAAAAAAFZVAkAAAABAuvEBQAAAAOD5uwJAAAAA4CZ7AkAAAADATs4CQAAAAAB+vAJAAAAAAAEPAkAAAAAAbHACQAAAAADKuwJAAAAAgGpqAkAAAADAw00CQAAAAIALRAJAAAAAoB+pAkAAAAAAccYBQAAAAKCgrwFAAAAAQLdgAkAAAADAc8ACQAAAAADbOAJAAAAAoApbAkAAAABAFUsCQAAAAEDEfAJAAAAAQM0lAkAAAACAtioCQAAAAAA3cgJAAAAAICmXAkAAAABgrJACQAAAACArZwJAAAAAQEMLAkAAAADgdyoCQAAAAIC8gwJAAAAAAABdAkAAAACg6A0CQAAAAOAHvQJAAAAAgN65AkAAAABgsjICQAAAAGCWWwJAAAAAYMekAkAAAACAvHQCQAAAAIBFTwJAAAAA4N43AkAAAADAb3MCQAAAAKDUiAJAAAAAYMuBAkAAAACAHxQCQAAAAACcPQJAAAAAQAKSAkAAAADgGxACQAAAAIDrWQJAAAAAwCxFAkAAAACgfDYCQAAAAAB9oAJAAAAAIANgAkAAAADAyBQCQAAAAEA8YQJAAAAAAOQWAkAAAACguD4CQAAAAIDHPAJAAAAAYFuUAkAAAADA0NcBQAAAACCCZgJAAAAAgI5pAkAAAADAhX4CQAAAAEAcqQJAAAAAAOVTAkAAAABgOpUCQAAAAIAxLQJAAAAAwLVbAkAAAABgsLkCQAAAAIDYMwJAAAAAoDZsAkAAAACAJm0CQAAAAICeZAJAAAAAwIxlAkAAAACASIgCQAAAAED6cwJAAAAAwOokAkAAAABgKGoCQAAAAIBa0QFAAAAAQLcUAkAAAADAT6cCQAAAAAAmewJAAAAAwN4TAkAAAADAkFwCQAAAAKBkgwJAAAAAgNhUAkAAAABA15QCQAAAACCMXgJAAAAAAFV2AkAAAABAce0BQAAAAEDGPwJAAAAAoDZhAkAAAABgsJcCQAAAAIDKfQJAAAAAIB4YAkAAAACgXsMBQAAAAMBnOAJAAAAAgFEdAkAAAABA+CQCQAAAAID9tgJAAAAAYAwMAkAAAADAs38CQAAAAAAgWAJAAAAAgPg6AkAAAADACmECQAAAAKAvUAJAAAAAoOk0AkAAAAAA4XcCQAAAAICIIgJAAAAA4LU1AkAAAABA2UwCQAAAAMCuTgJAAAAAIJtdAkAAAACAczoCQAAAAMC9awJAAAAAgM2CAkAAAADAfXcCQAAAAIDnRQJAAAAAYJeYAkAAAACAuEwCQAAAAMAoRAJAAAAAQN+CAkAAAAAgQU0CQAAAAACHYAJAAAAAgAxVAkAAAADAgW8CQAAAAMAiOwJAAAAAAFtkAkAAAABgtkgCQAAAACCHSQJAAAAAABxYAkAAAAAg+W0CQAAAAEAYQQJAAAAAgNk0AkAAAADA3uUBQAAAAECrIgJAAAAAwOQhAkAAAADgwAUCQAAAACDhnAFAAAAAQFMXAkAAAABAEz8CQAAAAGDiVQJAAAAAYKG8AkAAAAAAGGICQAAAAEDVYQJAAAAAgPgeAkAAAAAAXWMCQAAAACCPqQJAAAAAwChXAkAAAACgUpACQAAAAMDPlQJAAAAAIOd6AkAAAADAwCMCQAAAAGD0HwJAAAAAwOLpAUAAAAAATAkCQAAAAIAfDgJAAAAAwGBwAkAAAAAAAlcCQAAAAGDh/QFAAAAAgJQCAkAAAABA0kwCQAAAAKD31gFAAAAAgGxUAkAAAABA1QQCQAAAAEDeXgJAAAAAgD+DAkAAAABAnPkBQAAAAACXPAJAAAAAQKvzAUAAAABglw0CQAAAAECWewJAAAAAQKxlAkAAAAAA5WUCQAAAAGDipwJAAAAA4KdeAkAAAACAn+oBQAAAAKDZBAJAAAAAYCJ0AkAAAABAUygCQAAAACCQ2QFAAAAAoONUAkAAAAAgeYcCQAAAAADYLQJAAAAAABo+AkAAAADgx0ACQAAAAKDLfQJAAAAAwD7EAUAAAABAmlcCQAAAAIBNdAJAAAAAQFFmAkAAAACAXl8CQAAAACDHBwJAAAAAwDfuAUAAAADg4zwCQAAAAGAcTAJAAAAAwDqwAkAAAAAAZxUCQAAAAMDgSgJAAAAAADSVAkAAAACAOeYBQAAAAACwcQJAAAAA4NU/AkAAAABAFJECQAAAAKB4ZQJAAAAAgOoUAkAAAADgwToCQAAAAIDalAJAAAAAgMSfAUAAAABAIWYCQAAAAICsLQJAAAAAwDcFAkAAAADAd+0BQAAAAMCbaQJAAAAAIPoRAkAAAABAjasCQAAAAEDnQwJAAAAA4PGUAkAAAABA/5wBQAAAAACHaAJAAAAA4PKaAkAAAACAHUECQAAAAEBp9QFAAAAAwNm7AUAAAADAzl8CQAAAAEAodwJAAAAA4MWxAUAAAACgMcMCQAAAAICOUwJAAAAAAE2AAkAAAABA6moCQAAAACDUpgJAAAAAIJv1AUAAAACA5xgCQAAAACANOQJAAAAAAO2ZAkAAAABgS2wCQAAAAACICAJAAAAAACQeAkAAAADgDosCQAAAAAD4RwJAAAAAIPs/AkAAAACAnB0CQAAAAEDSagJAAAAAAOL/AUAAAAAA7O8BQAAAAICWTwJAAAAAAN5zAkAAAABAllECQAAAAIDaLAJAAAAAIHFIAkAAAADANxgCQAAAAMDQIwJAAAAAgB5tAkAAAADALFICQAAAAACDWQJAAAAAIFFHAkAAAACgQUoCQAAAAIADJAJAAAAA4IsqAkAAAADAivUBQAAAAIBdPAJAAAAAQMNMAkAAAACAiEUCQAAAAGD5RgJAAAAAYL00AkAAAAAA3RUCQAAAAEAQYAJAAAAAgFksAkAAAAAg9HECQAAAAEC1wgFAAAAAwKgTAkAAAABAgr4BQAAAAEBMpwJAAAAAQLZjAkAAAADgdW8CQAAAAMBfRQJAAAAAYOksAkAAAACgFWsCQAAAAODIWAJAAAAAoEuxAkAAAAAA0mACQAAAAOAdCwJAAAAAoOFQAkAAAABA/A8CQAAAAMD5igJAAAAAgJp5AkAAAAAAQuIBQAAAAGBlbgJAAAAAwNBOAkAAAACAXRcCQAAAAEAEbAJAAAAAwO4FAkAAAACAP3wCQAAAAACA8QFAAAAAoJziAUAAAACASFoCQAAAAICCugFAAAAA4FAsAkAAAADgveYBQAAAAEA8EAJAAAAAgDkIAkAAAAAgD2ECQAAAAECLQAJAAAAAQBIyAkAAAAAAT4wCQAAAAMC2VAJAAAAAQIgHAkAAAACgNcEBQAAAACCmeAJAAAAAwD0UAkAAAADAY/YBQAAAAMBjLgJAAAAAwPZiAkAAAABAAroBQAAAAAA9iwJAAAAA4OpWAkAAAAAAj5UCQAAAAIDfQQJAAAAAIKOuAUAAAACA7OABQAAAACAzkAJAAAAAACQRAkAAAAAAjAUCQAAAAIBKFgJAAAAAAPQGAkAAAABA0TsCQAAAAMAclgJAAAAAADhJAkAAAACARmkCQAAAAMBYIgJAAAAAAG18AkAAAADAoWsCQAAAAMB3AwJAAAAAQHUkAkAAAABAAQkCQAAAAEDaAwJAAAAAYBL4AUAAAABgdU0CQAAAACCgEQJAAAAAAPgcAkAAAADAgLUBQAAAAICGbQJAAAAA4KoRAkAAAABAk38CQAAAAEDvcQJAAAAAQGopAkAAAAAAKp4CQAAAAOCMQQJAAAAAwGwnAkAAAACA9koCQAAAAGBeSwJAAAAAAOTZAUAAAADgSUoCQAAAACCWJQJAAAAAwJwcAkAAAABg3IYCQAAAAMDQHgJAAAAAAFwMAkAAAADAhkcCQAAAAID5PAJAAAAAIK9fAkAAAAAA2loCQAAAAGBskgJAAAAAwD0XAkAAAAAA1BoCQAAAAECpWgJAAAAAII5LAkAAAAAAqRkCQAAAAICGiwJAAAAAAMeyAUAAAACAM9cBQAAAAIBH/wFAAAAAQKNMAkAAAACA2EoCQAAAAEB1JwJAAAAAgGQIAkAAAACAO2QCQAAAAIBLMwJAAAAAQANJAkAAAAAAaTUCQAAAAADoZQJAAAAAQAjsAUAAAAAAx1wCQAAAAICFbAJAAAAAIHYdAkAAAAAATk0CQAAAAIDQNQJAAAAAAPfUAUAAAACAGRICQAAAAGB/EQJAAAAAAFQYAkAAAABAJiwCQAAAAICC+gFAAAAAoOh1AkAAAABAlYYCQAAAAOBzewJAAAAAoDA/AkAAAACgzTsCQAAAAMDfPwJAAAAAAK1uAkAAAABAunUCQAAAAODxRQJAAAAAwGgkAkAAAABASFACQAAAAMAm/AFAAAAAQFakAkAAAAAAebMBQAAAAEC5JwJAAAAA4O4VAkAAAACgDa0BQAAAAOCOGAJAAAAAQLUOAkAAAADgIyoCQAAAACCy6AFAAAAAwCY4AkAAAADA428CQAAAAOAcIgJAAAAAIJkIAkAAAABAU1QCQAAAAEDIUwJAAAAAYBNGAkAAAADACDACQAAAACCKwgFAAAAAQEz2AUAAAAAAbEoCQAAAAEA/GgJAAAAAgB/uAUAAAADgQAMCQAAAAEAixAFAAAAAYHpUAkAAAADAGhgCQAAAAIAK1wFAAAAAQKcrAkAAAADgjzsCQAAAAABl0AFAAAAAwPGNAUAAAACALlcCQAAAAMDdFAJAAAAAwJ/tAUAAAABATmUCQAAAAAAyPgJAAAAAALRKAkAAAAAAZ1oCQAAAAAANVwJAAAAA4CFrAkAAAAAASSsCQAAAAMDM4gFAAAAAwJnhAUAAAAAAVEsCQAAAAMD28gFAAAAAQFP+AUAAAABAQF4CQAAAAIC8VwJAAAAAQH7fAUAAAABAJC0CQAAAAOAr2wFAAAAAAG+2AUAAAAAAINABQAAAAKBZKgJAAAAAwBsrAkAAAAAAblQCQAAAAODF6AFAAAAAQGorAkAAAAAgowwCQAAAAEB23wFAAAAAACMbAkAAAABA8gECQAAAAECUqwFAAAAAgMIUAkAAAABgTQ8CQAAAAMDl0wFAAAAAYBXxAUAAAAAgdPABQAAAAGCBcAJAAAAAwDNIAkAAAACAaLoBQAAAAEBQLQJAAAAAwD+bAUAAAABAmE8CQAAAAGD1hwJAAAAAoOl8AUAAAABArUYCQAAAAGA8+AFAAAAAQL/6AUAAAABg5ScCQAAAAOAlSQJAAAAAQF38AUAAAACgEjICQAAAAEAfLgJAAAAAQNfzAUAAAAAAmVYCQAAAACDDNQJAAAAAAO31AUAAAACg5RsCQAAAAABo5QFAAAAAwBrqAUAAAAAABPMBQAAAAEBFywFAAAAAgDwRAkAAAABgd/gBQAAAAAC64QFAAAAAQNL9AUAAAAAAFgUCQAAAAAAmdwJAAAAAQN34AUAAAACAi/oBQAAAAEBfOAJAAAAAAG5aAkAAAACg1lICQAAAAADrTQJAAAAAwAADAkAAAADg4RwCQAAAAECn7QFAAAAAgL/CAUAAAACANiQCQAAAAMDJ4wFAAAAAgAU5AkAAAABAfTkCQAAAAMCuewJAAAAAAIgZAkAAAACAe/sBQAAAAEAl3gFAAAAAgIIBAkAAAABA+0QCQAAAAECFNAJAAAAAgNDVAUAAAAAg5UkCQAAAAGByNQJAAAAAgLjZAUAAAAAgVSECQAAAAAD8CQJAAAAAAFaaAUAAAACgtDwCQAAAAEAdAQJAAAAAICrJAUAAAADAsWABQAAAAAAQlQFAAAAAwFtdAkAAAABA2RYCQAAAAEDRFAJAAAAAwAHRAUAAAABgZ8gCQAAAAOA96wFAAAAAICHuAUAAAACASecBQAAAAABqEAJAAAAA4MhvAkAAAACA65gBQAAAAOAQZQJAAAAAYAe3AkAAAAAABq0CQAAAAAAVPgJAAAAA4A14AkAAAABAZTICQAAAACCFGQJAAAAAgFQAAkAAAADgW+8BQAAAAEBoHwJAAAAAgIlBAkAAAACAVToCQAAAAIAnGAJAAAAAQMVQAkAAAABgeD0CQAAAAMCjRgJAAAAAIC0EAkAAAAAAVuwBQAAAAKBl5gFAAAAAQO/zAUAAAADAaRACQAAAAOCHNQJAAAAAAOv0AUAAAABAFQQCQAAAAEDauQFAAAAAYF3hAUAAAACgyxQCQAAAAMBlAQJAAAAAgML+AUAAAADAf/UBQAAAAEB8CAJAAAAAwKZwAUAAAADATBACQAAAAMDbqwJAAAAAAED0AUAAAAAA9x4CQAAAAACN+wFAAAAAYI36AUAAAACAbVACQAAAACDH2QFAAAAAwK8xAkAAAABgARkCQAAAAMBhDwJAAAAAAEkcAkAAAACg8sUBQAAAAEB/uwFAAAAAwKE0AkAAAAAA+RwCQAAAAIAcMwJAAAAAQBNYAkAAAABAV/IBQAAAAACf4gFAAAAAAJ/vAUAAAAAgGPcBQAAAAICCHAJAAAAAwEP8AUAAAADAUyQCQAAAAODy5QFAAAAAwAEPAkAAAAAg/dsBQAAAAADa9QFAAAAAwLTUAUAAAAAA+RECQAAAAID+LAJAAAAAQISVAUAAAAAA/GwCQAAAAICaKQJAAAAAII4WAkAAAADArvcBQAAAAIBixwFAAAAAwLnMAUAAAABgD8YBQAAAAEB7gAFAAAAAQNWmAUAAAADACcsBQAAAAIBArwFAAAAAgAVUAkAAAABAjR0CQAAAAECTqwFAAAAAgCHFAUAAAAAAQBkCQAAAAEDhIwJAAAAAwEuGAUAAAABAqZgBQAAAAEBADwJAAAAAgP2GAUAAAAAgRqoBQAAAAEDmvQFAAAAAgErUAUAAAAAA0yECQAAAACDLyQFAAAAAQEHvAUAAAABgg64BQAAAAECJrAFAAAAAgHfrAUAAAAAgKXABQAAAAIDfeQFAAAAAQOGJAUAAAABgcOQBQAAAAIBHhwFAAAAAIGl5AUAAAAAA1uABQAAAAMCQ8AFAAAAAYL3TAUAAAACgitUBQAAAAGA30wFAAAAAgDgFAkAAAACAI8oBQAAAAICS8gFAAAAAwBS9AUAAAABARBcCQAAAAGC87gFAAAAAAHrjAUAAAACAdRMCQAAAAADpfwFAAAAAwEzAAUAAAABAW70BQAAAAAAI+gFAAAAAQKuRAUAAAACALHMBQAAAAIAQ5AFAAAAAgAfbAUAAAACAnkABQAAAAEC00AFAAAAAQJgjAkAAAADA2q8BQAAAAKCX2AFAAAAA4NmNAUAAAADAtaoBQAAAAIArzQFAAAAAYM+rAUAAAACAbg4CQAAAAOCMsAFAAAAAYAi8AUAAAABgTdABQAAAAMDYzQFAAAAAoPX1AUAAAAAAclkBQAAAAMAPkQFAAAAAgDnYAUAAAACAh+oBQAAAAIBtGwJAAAAAAPMaAkAAAADAArEBQAAAAIDS8QFAAAAAQFvGAUAAAACAIt4BQAAAAEB8+QFAAAAAgJz3AUAAAACg8tABQAAAACDT4AFAAAAA4GS2AUAAAADAXFkBQAAAACAznQFAAAAAwK0GAkAAAADgQZIBQAAAAMDNAwJAAAAAgHoEAkAAAADgMcABQAAAAKAKqwFAAAAAgKTbAUAAAAAAnBACQAAAAIDj+QFAAAAAgKr4AUAAAACAwIEBQAAAAID5yAFAAAAAQFoCAkAAAACA/GkBQAAAAGB97QFAAAAAIAvsAUAAAABgKuEBQAAAAKBL4wFAAAAAAGx/AUAAAACAqzECQAAAAODFUwFAAAAAgKjLAUAAAABA04sBQAAAAADfiQFAAAAAIDfVAUAAAAAgD38BQAAAAEBjvAFAAAAAIMTHAUAAAABAirUBQAAAAMDTkgFAAAAAQFPMAUAAAACAIpkBQAAAAMAMdwFAAAAAIPmJAUAAAACAkt8BQAAAAIAOkwFAAAAAgNe6AUAAAACAYa8BQAAAAGBAYgFAAAAAgKeuAUAAAABAMCgBQAAAAMCPtQFAAAAAgDX+AUAAAADAhsQBQAAAAEAnewFAAAAAgMzGAUAAAADA3fQBQAAAAEDYjwFA",
          "dtype": "f8"
         },
         "yaxis": "y2"
        },
        {
         "hovertemplate": "<b>Exponentially Weighted mean trendline</b><br><br>variable=batch_train_loss<br>step=%{x}<br>value=%{y} <b>(trend)</b><extra></extra>",
         "legendgroup": "",
         "line": {
          "color": "red"
         },
         "marker": {
          "color": "#636efa",
          "symbol": "circle"
         },
         "mode": "lines",
         "name": "",
         "showlegend": false,
         "type": "scattergl",
         "x": {
          "bdata": "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",
          "dtype": "i2"
         },
         "xaxis": "x2",
         "y": {
          "bdata": "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",
          "dtype": "f8"
         },
         "yaxis": "y2"
        },
        {
         "hovertemplate": "variable=batch_accuracy<br>step=%{x}<br>value=%{y}<extra></extra>",
         "legendgroup": "",
         "marker": {
          "color": "#636efa",
          "symbol": "circle"
         },
         "mode": "markers",
         "name": "",
         "showlegend": false,
         "type": "scattergl",
         "x": {
          "bdata": "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",
          "dtype": "i2"
         },
         "xaxis": "x",
         "y": {
          "bdata": "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",
          "dtype": "f8"
         },
         "yaxis": "y"
        },
        {
         "hovertemplate": "<b>Exponentially Weighted mean trendline</b><br><br>variable=batch_accuracy<br>step=%{x}<br>value=%{y} <b>(trend)</b><extra></extra>",
         "legendgroup": "",
         "line": {
          "color": "red"
         },
         "marker": {
          "color": "#636efa",
          "symbol": "circle"
         },
         "mode": "lines",
         "name": "",
         "showlegend": false,
         "type": "scattergl",
         "x": {
          "bdata": "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",
          "dtype": "i2"
         },
         "xaxis": "x",
         "y": {
          "bdata": "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",
          "dtype": "f8"
         },
         "yaxis": "y"
        }
       ],
       "layout": {
        "annotations": [
         {
          "font": {},
          "showarrow": false,
          "text": "variable=batch_accuracy",
          "textangle": 90,
          "x": 0.98,
          "xanchor": "left",
          "xref": "paper",
          "y": 0.2425,
          "yanchor": "middle",
          "yref": "paper"
         },
         {
          "font": {},
          "showarrow": false,
          "text": "variable=batch_train_loss",
          "textangle": 90,
          "x": 0.98,
          "xanchor": "left",
          "xref": "paper",
          "y": 0.7575000000000001,
          "yanchor": "middle",
          "yref": "paper"
         }
        ],
        "legend": {
         "tracegroupgap": 0
        },
        "template": {
         "data": {
          "bar": [
           {
            "error_x": {
             "color": "#2a3f5f"
            },
            "error_y": {
             "color": "#2a3f5f"
            },
            "marker": {
             "line": {
              "color": "#E5ECF6",
              "width": 0.5
             },
             "pattern": {
              "fillmode": "overlay",
              "size": 10,
              "solidity": 0.2
             }
            },
            "type": "bar"
           }
          ],
          "barpolar": [
           {
            "marker": {
             "line": {
              "color": "#E5ECF6",
              "width": 0.5
             },
             "pattern": {
              "fillmode": "overlay",
              "size": 10,
              "solidity": 0.2
             }
            },
            "type": "barpolar"
           }
          ],
          "carpet": [
           {
            "aaxis": {
             "endlinecolor": "#2a3f5f",
             "gridcolor": "white",
             "linecolor": "white",
             "minorgridcolor": "white",
             "startlinecolor": "#2a3f5f"
            },
            "baxis": {
             "endlinecolor": "#2a3f5f",
             "gridcolor": "white",
             "linecolor": "white",
             "minorgridcolor": "white",
             "startlinecolor": "#2a3f5f"
            },
            "type": "carpet"
           }
          ],
          "choropleth": [
           {
            "colorbar": {
             "outlinewidth": 0,
             "ticks": ""
            },
            "type": "choropleth"
           }
          ],
          "contour": [
           {
            "colorbar": {
             "outlinewidth": 0,
             "ticks": ""
            },
            "colorscale": [
             [
              0,
              "#0d0887"
             ],
             [
              0.1111111111111111,
              "#46039f"
             ],
             [
              0.2222222222222222,
              "#7201a8"
             ],
             [
              0.3333333333333333,
              "#9c179e"
             ],
             [
              0.4444444444444444,
              "#bd3786"
             ],
             [
              0.5555555555555556,
              "#d8576b"
             ],
             [
              0.6666666666666666,
              "#ed7953"
             ],
             [
              0.7777777777777778,
              "#fb9f3a"
             ],
             [
              0.8888888888888888,
              "#fdca26"
             ],
             [
              1,
              "#f0f921"
             ]
            ],
            "type": "contour"
           }
          ],
          "contourcarpet": [
           {
            "colorbar": {
             "outlinewidth": 0,
             "ticks": ""
            },
            "type": "contourcarpet"
           }
          ],
          "heatmap": [
           {
            "colorbar": {
             "outlinewidth": 0,
             "ticks": ""
            },
            "colorscale": [
             [
              0,
              "#0d0887"
             ],
             [
              0.1111111111111111,
              "#46039f"
             ],
             [
              0.2222222222222222,
              "#7201a8"
             ],
             [
              0.3333333333333333,
              "#9c179e"
             ],
             [
              0.4444444444444444,
              "#bd3786"
             ],
             [
              0.5555555555555556,
              "#d8576b"
             ],
             [
              0.6666666666666666,
              "#ed7953"
             ],
             [
              0.7777777777777778,
              "#fb9f3a"
             ],
             [
              0.8888888888888888,
              "#fdca26"
             ],
             [
              1,
              "#f0f921"
             ]
            ],
            "type": "heatmap"
           }
          ],
          "histogram": [
           {
            "marker": {
             "pattern": {
              "fillmode": "overlay",
              "size": 10,
              "solidity": 0.2
             }
            },
            "type": "histogram"
           }
          ],
          "histogram2d": [
           {
            "colorbar": {
             "outlinewidth": 0,
             "ticks": ""
            },
            "colorscale": [
             [
              0,
              "#0d0887"
             ],
             [
              0.1111111111111111,
              "#46039f"
             ],
             [
              0.2222222222222222,
              "#7201a8"
             ],
             [
              0.3333333333333333,
              "#9c179e"
             ],
             [
              0.4444444444444444,
              "#bd3786"
             ],
             [
              0.5555555555555556,
              "#d8576b"
             ],
             [
              0.6666666666666666,
              "#ed7953"
             ],
             [
              0.7777777777777778,
              "#fb9f3a"
             ],
             [
              0.8888888888888888,
              "#fdca26"
             ],
             [
              1,
              "#f0f921"
             ]
            ],
            "type": "histogram2d"
           }
          ],
          "histogram2dcontour": [
           {
            "colorbar": {
             "outlinewidth": 0,
             "ticks": ""
            },
            "colorscale": [
             [
              0,
              "#0d0887"
             ],
             [
              0.1111111111111111,
              "#46039f"
             ],
             [
              0.2222222222222222,
              "#7201a8"
             ],
             [
              0.3333333333333333,
              "#9c179e"
             ],
             [
              0.4444444444444444,
              "#bd3786"
             ],
             [
              0.5555555555555556,
              "#d8576b"
             ],
             [
              0.6666666666666666,
              "#ed7953"
             ],
             [
              0.7777777777777778,
              "#fb9f3a"
             ],
             [
              0.8888888888888888,
              "#fdca26"
             ],
             [
              1,
              "#f0f921"
             ]
            ],
            "type": "histogram2dcontour"
           }
          ],
          "mesh3d": [
           {
            "colorbar": {
             "outlinewidth": 0,
             "ticks": ""
            },
            "type": "mesh3d"
           }
          ],
          "parcoords": [
           {
            "line": {
             "colorbar": {
              "outlinewidth": 0,
              "ticks": ""
             }
            },
            "type": "parcoords"
           }
          ],
          "pie": [
           {
            "automargin": true,
            "type": "pie"
           }
          ],
          "scatter": [
           {
            "fillpattern": {
             "fillmode": "overlay",
             "size": 10,
             "solidity": 0.2
            },
            "type": "scatter"
           }
          ],
          "scatter3d": [
           {
            "line": {
             "colorbar": {
              "outlinewidth": 0,
              "ticks": ""
             }
            },
            "marker": {
             "colorbar": {
              "outlinewidth": 0,
              "ticks": ""
             }
            },
            "type": "scatter3d"
           }
          ],
          "scattercarpet": [
           {
            "marker": {
             "colorbar": {
              "outlinewidth": 0,
              "ticks": ""
             }
            },
            "type": "scattercarpet"
           }
          ],
          "scattergeo": [
           {
            "marker": {
             "colorbar": {
              "outlinewidth": 0,
              "ticks": ""
             }
            },
            "type": "scattergeo"
           }
          ],
          "scattergl": [
           {
            "marker": {
             "colorbar": {
              "outlinewidth": 0,
              "ticks": ""
             }
            },
            "type": "scattergl"
           }
          ],
          "scattermap": [
           {
            "marker": {
             "colorbar": {
              "outlinewidth": 0,
              "ticks": ""
             }
            },
            "type": "scattermap"
           }
          ],
          "scattermapbox": [
           {
            "marker": {
             "colorbar": {
              "outlinewidth": 0,
              "ticks": ""
             }
            },
            "type": "scattermapbox"
           }
          ],
          "scatterpolar": [
           {
            "marker": {
             "colorbar": {
              "outlinewidth": 0,
              "ticks": ""
             }
            },
            "type": "scatterpolar"
           }
          ],
          "scatterpolargl": [
           {
            "marker": {
             "colorbar": {
              "outlinewidth": 0,
              "ticks": ""
             }
            },
            "type": "scatterpolargl"
           }
          ],
          "scatterternary": [
           {
            "marker": {
             "colorbar": {
              "outlinewidth": 0,
              "ticks": ""
             }
            },
            "type": "scatterternary"
           }
          ],
          "surface": [
           {
            "colorbar": {
             "outlinewidth": 0,
             "ticks": ""
            },
            "colorscale": [
             [
              0,
              "#0d0887"
             ],
             [
              0.1111111111111111,
              "#46039f"
             ],
             [
              0.2222222222222222,
              "#7201a8"
             ],
             [
              0.3333333333333333,
              "#9c179e"
             ],
             [
              0.4444444444444444,
              "#bd3786"
             ],
             [
              0.5555555555555556,
              "#d8576b"
             ],
             [
              0.6666666666666666,
              "#ed7953"
             ],
             [
              0.7777777777777778,
              "#fb9f3a"
             ],
             [
              0.8888888888888888,
              "#fdca26"
             ],
             [
              1,
              "#f0f921"
             ]
            ],
            "type": "surface"
           }
          ],
          "table": [
           {
            "cells": {
             "fill": {
              "color": "#EBF0F8"
             },
             "line": {
              "color": "white"
             }
            },
            "header": {
             "fill": {
              "color": "#C8D4E3"
             },
             "line": {
              "color": "white"
             }
            },
            "type": "table"
           }
          ]
         },
         "layout": {
          "annotationdefaults": {
           "arrowcolor": "#2a3f5f",
           "arrowhead": 0,
           "arrowwidth": 1
          },
          "autotypenumbers": "strict",
          "coloraxis": {
           "colorbar": {
            "outlinewidth": 0,
            "ticks": ""
           }
          },
          "colorscale": {
           "diverging": [
            [
             0,
             "#8e0152"
            ],
            [
             0.1,
             "#c51b7d"
            ],
            [
             0.2,
             "#de77ae"
            ],
            [
             0.3,
             "#f1b6da"
            ],
            [
             0.4,
             "#fde0ef"
            ],
            [
             0.5,
             "#f7f7f7"
            ],
            [
             0.6,
             "#e6f5d0"
            ],
            [
             0.7,
             "#b8e186"
            ],
            [
             0.8,
             "#7fbc41"
            ],
            [
             0.9,
             "#4d9221"
            ],
            [
             1,
             "#276419"
            ]
           ],
           "sequential": [
            [
             0,
             "#0d0887"
            ],
            [
             0.1111111111111111,
             "#46039f"
            ],
            [
             0.2222222222222222,
             "#7201a8"
            ],
            [
             0.3333333333333333,
             "#9c179e"
            ],
            [
             0.4444444444444444,
             "#bd3786"
            ],
            [
             0.5555555555555556,
             "#d8576b"
            ],
            [
             0.6666666666666666,
             "#ed7953"
            ],
            [
             0.7777777777777778,
             "#fb9f3a"
            ],
            [
             0.8888888888888888,
             "#fdca26"
            ],
            [
             1,
             "#f0f921"
            ]
           ],
           "sequentialminus": [
            [
             0,
             "#0d0887"
            ],
            [
             0.1111111111111111,
             "#46039f"
            ],
            [
             0.2222222222222222,
             "#7201a8"
            ],
            [
             0.3333333333333333,
             "#9c179e"
            ],
            [
             0.4444444444444444,
             "#bd3786"
            ],
            [
             0.5555555555555556,
             "#d8576b"
            ],
            [
             0.6666666666666666,
             "#ed7953"
            ],
            [
             0.7777777777777778,
             "#fb9f3a"
            ],
            [
             0.8888888888888888,
             "#fdca26"
            ],
            [
             1,
             "#f0f921"
            ]
           ]
          },
          "colorway": [
           "#636efa",
           "#EF553B",
           "#00cc96",
           "#ab63fa",
           "#FFA15A",
           "#19d3f3",
           "#FF6692",
           "#B6E880",
           "#FF97FF",
           "#FECB52"
          ],
          "font": {
           "color": "#2a3f5f"
          },
          "geo": {
           "bgcolor": "white",
           "lakecolor": "white",
           "landcolor": "#E5ECF6",
           "showlakes": true,
           "showland": true,
           "subunitcolor": "white"
          },
          "hoverlabel": {
           "align": "left"
          },
          "hovermode": "closest",
          "mapbox": {
           "style": "light"
          },
          "paper_bgcolor": "white",
          "plot_bgcolor": "#E5ECF6",
          "polar": {
           "angularaxis": {
            "gridcolor": "white",
            "linecolor": "white",
            "ticks": ""
           },
           "bgcolor": "#E5ECF6",
           "radialaxis": {
            "gridcolor": "white",
            "linecolor": "white",
            "ticks": ""
           }
          },
          "scene": {
           "xaxis": {
            "backgroundcolor": "#E5ECF6",
            "gridcolor": "white",
            "gridwidth": 2,
            "linecolor": "white",
            "showbackground": true,
            "ticks": "",
            "zerolinecolor": "white"
           },
           "yaxis": {
            "backgroundcolor": "#E5ECF6",
            "gridcolor": "white",
            "gridwidth": 2,
            "linecolor": "white",
            "showbackground": true,
            "ticks": "",
            "zerolinecolor": "white"
           },
           "zaxis": {
            "backgroundcolor": "#E5ECF6",
            "gridcolor": "white",
            "gridwidth": 2,
            "linecolor": "white",
            "showbackground": true,
            "ticks": "",
            "zerolinecolor": "white"
           }
          },
          "shapedefaults": {
           "line": {
            "color": "#2a3f5f"
           }
          },
          "ternary": {
           "aaxis": {
            "gridcolor": "white",
            "linecolor": "white",
            "ticks": ""
           },
           "baxis": {
            "gridcolor": "white",
            "linecolor": "white",
            "ticks": ""
           },
           "bgcolor": "#E5ECF6",
           "caxis": {
            "gridcolor": "white",
            "linecolor": "white",
            "ticks": ""
           }
          },
          "title": {
           "x": 0.05
          },
          "xaxis": {
           "automargin": true,
           "gridcolor": "white",
           "linecolor": "white",
           "ticks": "",
           "title": {
            "standoff": 15
           },
           "zerolinecolor": "white",
           "zerolinewidth": 2
          },
          "yaxis": {
           "automargin": true,
           "gridcolor": "white",
           "linecolor": "white",
           "ticks": "",
           "title": {
            "standoff": 15
           },
           "zerolinecolor": "white",
           "zerolinewidth": 2
          }
         }
        },
        "title": {
         "text": "batch metrics"
        },
        "xaxis": {
         "anchor": "y",
         "domain": [
          0,
          0.98
         ],
         "title": {
          "text": "step"
         }
        },
        "xaxis2": {
         "anchor": "y2",
         "domain": [
          0,
          0.98
         ],
         "matches": "x",
         "showticklabels": false
        },
        "yaxis": {
         "anchor": "x",
         "domain": [
          0,
          0.485
         ],
         "title": {
          "text": "value"
         }
        },
        "yaxis2": {
         "anchor": "x2",
         "domain": [
          0.515,
          1
         ],
         "title": {
          "text": "value"
         }
        }
       }
      }
     },
     "metadata": {},
     "output_type": "display_data"
    }
   ],
   "source": [
    "full_dataset = CMIDataset(\"full_dataset\")\n",
    "full_dataset_loader = DL(full_dataset, BATCH_SIZE, shuffle=True)\n",
    "model, full_train_metrics, checkpoints = mk_model_and_fit(full_dataset_loader)\n",
    "plt_train_split_training_metrics(full_train_metrics)"
   ]
  },
  {
   "cell_type": "code",
   "execution_count": null,
   "id": "f7b39892",
   "metadata": {},
   "outputs": [
    {
     "data": {
      "text/plain": [
       "['Above ear - pull hair',\n",
       " 'Cheek - pinch skin',\n",
       " 'Drink from bottle/cup',\n",
       " 'Eyebrow - pull hair',\n",
       " 'Eyelash - pull hair',\n",
       " 'Feel around in tray and pull out an object',\n",
       " 'Forehead - pull hairline',\n",
       " 'Forehead - scratch',\n",
       " 'Glasses on/off',\n",
       " 'Neck - pinch skin',\n",
       " 'Neck - scratch',\n",
       " 'Pinch knee/leg skin',\n",
       " 'Pull air toward your face',\n",
       " 'Scratch knee/leg skin',\n",
       " 'Text on phone',\n",
       " 'Wave hello',\n",
       " 'Write name in air',\n",
       " 'Write name on leg']"
      ]
     },
     "execution_count": 22,
     "metadata": {},
     "output_type": "execute_result"
    }
   ],
   "source": [
    "TARGET_NAMES"
   ]
  },
  {
   "cell_type": "markdown",
   "id": "f0081b6e",
   "metadata": {},
   "source": [
    "## Model upload"
   ]
  },
  {
   "cell_type": "code",
   "execution_count": 23,
   "id": "87578050",
   "metadata": {},
   "outputs": [
    {
     "name": "stdout",
     "output_type": "stream",
     "text": [
      "Kaggle credentials successfully validated.\n"
     ]
    },
    {
     "data": {
      "text/plain": [
       "'/root/repos/CMI-2025-competition/notebooks/checkpoints/21-07-2025_18-05'"
      ]
     },
     "metadata": {},
     "output_type": "display_data"
    },
    {
     "name": "stdout",
     "output_type": "stream",
     "text": [
      "Uploading Model https://www.kaggle.com/models/mauroabidalcarrer/cmi-resnet/pyTorch/21-07-2025-18-08 ...\n",
      "More than 50 files detected, creating a zip archive...\n"
     ]
    },
    {
     "ename": "FileNotFoundError",
     "evalue": "[Errno 2] No such file or directory: '/root/repos/CMI-2025-competition/notebooks/checkpoints/21-07-2025_18-05/best_checkpoint.pth'",
     "output_type": "error",
     "traceback": [
      "\u001b[31m---------------------------------------------------------------------------\u001b[39m",
      "\u001b[31mFileNotFoundError\u001b[39m                         Traceback (most recent call last)",
      "\u001b[36mCell\u001b[39m\u001b[36m \u001b[39m\u001b[32mIn[23]\u001b[39m\u001b[32m, line 4\u001b[39m\n\u001b[32m      2\u001b[39m model_path = realpath(join(checkpoints))\n\u001b[32m      3\u001b[39m display(model_path)\n\u001b[32m----> \u001b[39m\u001b[32m4\u001b[39m \u001b[43mkagglehub\u001b[49m\u001b[43m.\u001b[49m\u001b[43mmodel_upload\u001b[49m\u001b[43m(\u001b[49m\u001b[43mhandle\u001b[49m\u001b[43m,\u001b[49m\u001b[43m \u001b[49m\u001b[43mmodel_path\u001b[49m\u001b[43m)\u001b[49m\n",
      "\u001b[36mFile \u001b[39m\u001b[32m/venv/CMI/lib/python3.11/site-packages/kagglehub/models.py:88\u001b[39m, in \u001b[36mmodel_upload\u001b[39m\u001b[34m(handle, local_model_dir, license_name, version_notes, ignore_patterns, sigstore)\u001b[39m\n\u001b[32m     85\u001b[39m     \u001b[38;5;28;01mraise\u001b[39;00m \u001b[38;5;167;01mImportError\u001b[39;00m(import_warning_message) \u001b[38;5;28;01mfrom\u001b[39;00m\u001b[38;5;250m \u001b[39m\u001b[38;5;28;01mNone\u001b[39;00m\n\u001b[32m     87\u001b[39m \u001b[38;5;66;03m# Upload the model files to GCS\u001b[39;00m\n\u001b[32m---> \u001b[39m\u001b[32m88\u001b[39m tokens = \u001b[43mupload_files_and_directories\u001b[49m\u001b[43m(\u001b[49m\n\u001b[32m     89\u001b[39m \u001b[43m    \u001b[49m\u001b[43mlocal_model_dir\u001b[49m\u001b[43m,\u001b[49m\n\u001b[32m     90\u001b[39m \u001b[43m    \u001b[49m\u001b[43mitem_type\u001b[49m\u001b[43m=\u001b[49m\u001b[33;43m\"\u001b[39;49m\u001b[33;43mmodel\u001b[39;49m\u001b[33;43m\"\u001b[39;49m\u001b[43m,\u001b[49m\n\u001b[32m     91\u001b[39m \u001b[43m    \u001b[49m\u001b[43mignore_patterns\u001b[49m\u001b[43m=\u001b[49m\u001b[43mnormalize_patterns\u001b[49m\u001b[43m(\u001b[49m\u001b[43mdefault\u001b[49m\u001b[43m=\u001b[49m\u001b[43mDEFAULT_IGNORE_PATTERNS\u001b[49m\u001b[43m,\u001b[49m\u001b[43m \u001b[49m\u001b[43madditional\u001b[49m\u001b[43m=\u001b[49m\u001b[43mignore_patterns\u001b[49m\u001b[43m)\u001b[49m\u001b[43m,\u001b[49m\n\u001b[32m     92\u001b[39m \u001b[43m\u001b[49m\u001b[43m)\u001b[49m\n\u001b[32m     94\u001b[39m create_model_instance_or_version(h, tokens, license_name, version_notes, sigstore=sigstore)\n",
      "\u001b[36mFile \u001b[39m\u001b[32m/venv/CMI/lib/python3.11/site-packages/kagglehub/gcs_upload.py:213\u001b[39m, in \u001b[36mupload_files_and_directories\u001b[39m\u001b[34m(folder, ignore_patterns, item_type, quiet)\u001b[39m\n\u001b[32m    211\u001b[39m         \u001b[38;5;28;01mfor\u001b[39;00m file \u001b[38;5;129;01min\u001b[39;00m files:\n\u001b[32m    212\u001b[39m             file_path = os.path.join(root, file)\n\u001b[32m--> \u001b[39m\u001b[32m213\u001b[39m             \u001b[43mzipf\u001b[49m\u001b[43m.\u001b[49m\u001b[43mwrite\u001b[49m\u001b[43m(\u001b[49m\u001b[43mfile_path\u001b[49m\u001b[43m,\u001b[49m\u001b[43m \u001b[49m\u001b[43mos\u001b[49m\u001b[43m.\u001b[49m\u001b[43mpath\u001b[49m\u001b[43m.\u001b[49m\u001b[43mrelpath\u001b[49m\u001b[43m(\u001b[49m\u001b[43mfile_path\u001b[49m\u001b[43m,\u001b[49m\u001b[43m \u001b[49m\u001b[43mfolder\u001b[49m\u001b[43m)\u001b[49m\u001b[43m)\u001b[49m\n\u001b[32m    215\u001b[39m tokens = [\n\u001b[32m    216\u001b[39m     token\n\u001b[32m    217\u001b[39m     \u001b[38;5;28;01mfor\u001b[39;00m token \u001b[38;5;129;01min\u001b[39;00m [_upload_file(file_path=zip_path, item_type=item_type, quiet=quiet)]\n\u001b[32m    218\u001b[39m     \u001b[38;5;28;01mif\u001b[39;00m token \u001b[38;5;129;01mis\u001b[39;00m \u001b[38;5;129;01mnot\u001b[39;00m \u001b[38;5;28;01mNone\u001b[39;00m\n\u001b[32m    219\u001b[39m ]\n\u001b[32m    220\u001b[39m \u001b[38;5;28;01mreturn\u001b[39;00m UploadDirectoryInfo(name=\u001b[33m\"\u001b[39m\u001b[33marchive\u001b[39m\u001b[33m\"\u001b[39m, files=tokens)\n",
      "\u001b[36mFile \u001b[39m\u001b[32m/venv/CMI/lib/python3.11/zipfile.py:1775\u001b[39m, in \u001b[36mZipFile.write\u001b[39m\u001b[34m(self, filename, arcname, compress_type, compresslevel)\u001b[39m\n\u001b[32m   1770\u001b[39m \u001b[38;5;28;01mif\u001b[39;00m \u001b[38;5;28mself\u001b[39m._writing:\n\u001b[32m   1771\u001b[39m     \u001b[38;5;28;01mraise\u001b[39;00m \u001b[38;5;167;01mValueError\u001b[39;00m(\n\u001b[32m   1772\u001b[39m         \u001b[33m\"\u001b[39m\u001b[33mCan\u001b[39m\u001b[33m'\u001b[39m\u001b[33mt write to ZIP archive while an open writing handle exists\u001b[39m\u001b[33m\"\u001b[39m\n\u001b[32m   1773\u001b[39m     )\n\u001b[32m-> \u001b[39m\u001b[32m1775\u001b[39m zinfo = \u001b[43mZipInfo\u001b[49m\u001b[43m.\u001b[49m\u001b[43mfrom_file\u001b[49m\u001b[43m(\u001b[49m\u001b[43mfilename\u001b[49m\u001b[43m,\u001b[49m\u001b[43m \u001b[49m\u001b[43marcname\u001b[49m\u001b[43m,\u001b[49m\n\u001b[32m   1776\u001b[39m \u001b[43m                          \u001b[49m\u001b[43mstrict_timestamps\u001b[49m\u001b[43m=\u001b[49m\u001b[38;5;28;43mself\u001b[39;49m\u001b[43m.\u001b[49m\u001b[43m_strict_timestamps\u001b[49m\u001b[43m)\u001b[49m\n\u001b[32m   1778\u001b[39m \u001b[38;5;28;01mif\u001b[39;00m zinfo.is_dir():\n\u001b[32m   1779\u001b[39m     zinfo.compress_size = \u001b[32m0\u001b[39m\n",
      "\u001b[36mFile \u001b[39m\u001b[32m/venv/CMI/lib/python3.11/zipfile.py:532\u001b[39m, in \u001b[36mZipInfo.from_file\u001b[39m\u001b[34m(cls, filename, arcname, strict_timestamps)\u001b[39m\n\u001b[32m    530\u001b[39m \u001b[38;5;28;01mif\u001b[39;00m \u001b[38;5;28misinstance\u001b[39m(filename, os.PathLike):\n\u001b[32m    531\u001b[39m     filename = os.fspath(filename)\n\u001b[32m--> \u001b[39m\u001b[32m532\u001b[39m st = os.stat(filename)\n\u001b[32m    533\u001b[39m isdir = stat.S_ISDIR(st.st_mode)\n\u001b[32m    534\u001b[39m mtime = time.localtime(st.st_mtime)\n",
      "\u001b[31mFileNotFoundError\u001b[39m: [Errno 2] No such file or directory: '/root/repos/CMI-2025-competition/notebooks/checkpoints/21-07-2025_18-05/best_checkpoint.pth'"
     ]
    }
   ],
   "source": [
    "handle = f\"{kagglehub.whoami()['username']}/cmi-resnet/pyTorch/{mk_date_now_str().replace('_', '-')}\"\n",
    "model_path = realpath(join(checkpoints))\n",
    "display(model_path)\n",
    "kagglehub.model_upload(handle, model_path)"
   ]
  }
 ],
 "metadata": {
  "kernelspec": {
   "display_name": "CMI",
   "language": "python",
   "name": "python3"
  },
  "language_info": {
   "codemirror_mode": {
    "name": "ipython",
    "version": 3
   },
   "file_extension": ".py",
   "mimetype": "text/x-python",
   "name": "python",
   "nbconvert_exporter": "python",
   "pygments_lexer": "ipython3",
   "version": "3.11.5"
  }
 },
 "nbformat": 4,
 "nbformat_minor": 5
}
