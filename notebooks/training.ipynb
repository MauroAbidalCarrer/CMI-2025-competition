{
 "cells": [
  {
   "cell_type": "markdown",
   "id": "53d41434",
   "metadata": {},
   "source": [
    "# Training model\n",
    "The goal of this notebook is to train a model and upload it to kaggle."
   ]
  },
  {
   "cell_type": "markdown",
   "id": "696a0573",
   "metadata": {},
   "source": [
    "## Setup"
   ]
  },
  {
   "cell_type": "markdown",
   "id": "dc4c23f0",
   "metadata": {},
   "source": [
    "### Imports"
   ]
  },
  {
   "cell_type": "code",
   "execution_count": 19,
   "id": "66f429fe",
   "metadata": {},
   "outputs": [],
   "source": [
    "import os\n",
    "from glob import glob\n",
    "from datetime import datetime\n",
    "from itertools import pairwise\n",
    "from os.path import join, realpath\n",
    "from typing import Optional, Literal\n",
    "\n",
    "import torch\n",
    "import numpy as np\n",
    "import pandas as pd\n",
    "import plotly.express as px\n",
    "from torch import nn, Tensor\n",
    "from pandas import DataFrame as DF\n",
    "from torch.utils.data import Dataset\n",
    "from torch.utils.data import DataLoader as DL\n",
    "from rich.progress import Progress, Task, track\n",
    "from torch.optim.lr_scheduler import ConstantLR, LRScheduler\n",
    "from kagglehub import dataset_download, model_upload, whoami"
   ]
  },
  {
   "cell_type": "markdown",
   "id": "561af8f7",
   "metadata": {},
   "source": [
    "### Dataset Setup"
   ]
  },
  {
   "cell_type": "code",
   "execution_count": 20,
   "id": "63a131e0",
   "metadata": {},
   "outputs": [],
   "source": [
    "BATCH_SIZE = 256\n",
    "dataset_path = dataset_download(\n",
    "    handle=\"mauroabidalcarrer/prepocessed-cmi-2025\",\n",
    ")"
   ]
  },
  {
   "cell_type": "code",
   "execution_count": 21,
   "id": "e46c3b4e",
   "metadata": {},
   "outputs": [],
   "source": [
    "from torch.utils.data import TensorDataset\n",
    "\n",
    "class CMIDataset(TensorDataset):\n",
    "    def __init__(\n",
    "        self,\n",
    "        parent_dir: str,\n",
    "        split: Optional[Literal[\"train\", \"validation\"]]=None,\n",
    "        subset: Optional[int]=None,\n",
    "        force_download=False\n",
    "    ):\n",
    "        dataset_path = dataset_download(\n",
    "            handle=\"mauroabidalcarrer/prepocessed-cmi-2025\",\n",
    "            force_download=force_download\n",
    "        )\n",
    "        parent_dir = join(dataset_path, \"preprocessed_dataset\", parent_dir)\n",
    "        split = \"\" if split is None else split + \"_\"\n",
    "        x = np.load(join(parent_dir, f\"{split}X.npy\")).swapaxes(1, 2)\n",
    "        y = np.load(join(parent_dir, f\"{split}Y.npy\"))\n",
    "        if subset is not None:\n",
    "            x = x[:subset]\n",
    "            y = y[:subset]\n",
    "        super().__init__(\n",
    "            torch.from_numpy(x), \n",
    "            torch.from_numpy(y),\n",
    "        )\n"
   ]
  },
  {
   "cell_type": "markdown",
   "id": "e7cce363",
   "metadata": {},
   "source": [
    "### device setup"
   ]
  },
  {
   "cell_type": "code",
   "execution_count": 22,
   "id": "2710f791",
   "metadata": {},
   "outputs": [],
   "source": [
    "device = torch.device(\"cuda\") if torch.cuda.is_available() else torch.device(\"cpu\")"
   ]
  },
  {
   "cell_type": "markdown",
   "id": "7405a353",
   "metadata": {},
   "source": [
    "## Model definition"
   ]
  },
  {
   "cell_type": "code",
   "execution_count": 23,
   "id": "5ecc32a1",
   "metadata": {},
   "outputs": [],
   "source": [
    "class ResidualBlock(nn.Module):\n",
    "    def __init__(self, in_chns:int, out_chns:int):\n",
    "        super().__init__()\n",
    "        self.blocks = nn.Sequential(\n",
    "            nn.Conv1d(in_chns, out_chns, kernel_size=3, padding=1),\n",
    "            nn.BatchNorm1d(out_chns),\n",
    "            nn.ReLU(),\n",
    "            nn.Conv1d(out_chns, out_chns, kernel_size=3, padding=1),\n",
    "            nn.BatchNorm1d(out_chns),\n",
    "        )\n",
    "        if in_chns == out_chns:\n",
    "            self.skip_connection = nn.Identity() \n",
    "        else:\n",
    "            # TODO: set bias to False ?\n",
    "            self.skip_connection = nn.Sequential(\n",
    "                nn.Conv1d(in_chns, out_chns, 1),\n",
    "                nn.BatchNorm1d(out_chns)\n",
    "            )\n",
    "\n",
    "    def forward(self, x:Tensor) -> Tensor:\n",
    "        activaition_maps = self.skip_connection(x) + self.blocks(x)\n",
    "        return nn.functional.relu(activaition_maps)\n",
    "\n",
    "class Resnet(nn.Module):\n",
    "    def __init__(\n",
    "            self,\n",
    "            in_channels:int,\n",
    "            depth:int,\n",
    "            # n_res_block_per_depth:int,\n",
    "            mlp_width:int,\n",
    "            n_class:int,\n",
    "        ):\n",
    "        super().__init__()\n",
    "        chs_per_depth = [in_channels * 2 ** i for i in range(depth)]\n",
    "        blocks_chns_it = pairwise(chs_per_depth)\n",
    "        self.res_blocks = [ResidualBlock(in_chns, out_chns) for in_chns, out_chns in blocks_chns_it]\n",
    "        self.res_blocks = nn.ModuleList(self.res_blocks)\n",
    "        self.mlp_head = nn.Sequential(\n",
    "            nn.LazyLinear(mlp_width),\n",
    "            nn.ReLU(),\n",
    "            nn.Linear(mlp_width, n_class),\n",
    "            nn.Softmax(dim=1),\n",
    "        )\n",
    "        \n",
    "        \n",
    "    def forward(self, x:Tensor) -> Tensor:\n",
    "        activation_maps = x\n",
    "        for res_block in self.res_blocks:\n",
    "            activation_maps = nn.functional.max_pool1d(res_block(activation_maps), 2)\n",
    "        out = activation_maps.view(activation_maps.shape[0], -1)\n",
    "        out = self.mlp_head(out)\n",
    "        return out"
   ]
  },
  {
   "cell_type": "markdown",
   "id": "5a83f1e7",
   "metadata": {},
   "source": [
    "## Training functions "
   ]
  },
  {
   "cell_type": "markdown",
   "id": "c8014fc2",
   "metadata": {},
   "source": [
    "### Training"
   ]
  },
  {
   "cell_type": "code",
   "execution_count": 24,
   "id": "7cc879eb",
   "metadata": {},
   "outputs": [],
   "source": [
    "def fit(epochs:int,\n",
    "        model: nn.Module,\n",
    "        scheduler: LRScheduler,\n",
    "        optimizer: torch.optim.Optimizer,\n",
    "        train_loader: DL,\n",
    "        criterion: callable=nn.L1Loss(),\n",
    "        evaluation_func: callable=None,\n",
    "        validation_loader: DL=None,\n",
    "        save_checkpoints=True,\n",
    "    ) -> tuple[DF, str]:\n",
    "    \"\"\"\n",
    "    Returns:\n",
    "        (training_metrics, path_to_checkpoints)\n",
    "    \"\"\"\n",
    "    # Setup\n",
    "    metrics: list[dict] = []\n",
    "    checkpoints_dir = os.path.join(\"checkpoints\", mk_date_now_str())\n",
    "    step = 0\n",
    "    model_device = next(model.parameters()).device\n",
    "    last_epoch_metric = {}\n",
    "    # Training loop\n",
    "    with Progress() as progress:\n",
    "        task: Task = progress.add_task(\n",
    "            \"training...\",\n",
    "            total=len(train_loader),\n",
    "        )\n",
    "        for epoch in range(epochs):\n",
    "            progress.update(\n",
    "                task,\n",
    "                description=f\"epoch: {epoch}\",\n",
    "                completed=0,\n",
    "            )\n",
    "            total_epoch_loss = 0\n",
    "            total_accuracy = 0\n",
    "            for batch_idx, (x, y) in enumerate(train_loader):\n",
    "                # forward\n",
    "                x = x.to(model_device)\n",
    "                y = y.to(model_device)\n",
    "                model.train()\n",
    "                optimizer.zero_grad()\n",
    "                y_pred: Tensor = model(x)\n",
    "                loss_value = criterion(y_pred, y)\n",
    "                # Verify loss value\n",
    "                if torch.isnan(loss_value).any().item():\n",
    "                    progress.print(\"Warning: Got NaN loss, stopped training.\")\n",
    "                    return DF.from_records(metrics) \n",
    "                if torch.isinf(loss_value).any().item():\n",
    "                    progress.print(\"Warning: Got infinite loss, stopped training.\")\n",
    "                    return DF.from_records(metrics) \n",
    "                # TODO: Use gradient clipping?\n",
    "                loss_value.backward()\n",
    "                optimizer.step()\n",
    "                if step > 0: # If it's not the first training step, idk why it throws an error otherwise\n",
    "                    scheduler.step()\n",
    "                # metrics\n",
    "                total_epoch_loss += loss_value.item()\n",
    "                batch_accuracy = (\n",
    "                    (y.max(dim=1)[1] == y_pred.max(dim=1)[1])\n",
    "                    .sum()\n",
    "                    .item()\n",
    "                ) / y.shape[0]\n",
    "                total_accuracy += batch_accuracy\n",
    "                metrics.append({\n",
    "                    \"step\": step,\n",
    "                    \"epoch\": epoch,\n",
    "                    \"batch_train_loss\": loss_value.item(),\n",
    "                    \"lr\": optimizer.state_dict()[\"param_groups\"][-1][\"lr\"],\n",
    "                    \"batch_accuracy\": batch_accuracy,\n",
    "                })\n",
    "                step += 1\n",
    "                if \"validation_accuracy\" in last_epoch_metric:\n",
    "                    last_validation_acc = \"%.2f\" % last_epoch_metric[\"validation_accuracy\"]\n",
    "                else:\n",
    "                    last_validation_acc = None\n",
    "                progress.update(\n",
    "                    task,\n",
    "                    advance=1,\n",
    "                    description=f\"epoch: {epoch}, batch_loss: {(total_epoch_loss / (batch_idx+1)):.2f}, val. acc: {last_validation_acc}\"\n",
    "                )\n",
    "            # Post epoch evalution\n",
    "            metrics[-1][\"train_epoch_loss\"] = total_epoch_loss / len(train_loader)\n",
    "            metrics[-1][\"train_epoch_accuracy\"] = total_accuracy / len(train_loader)\n",
    "            if evaluation_func:\n",
    "                progress.update(\n",
    "                    task,\n",
    "                    completed=0,\n",
    "                    description=f\"epoch: {epoch}, evaluating...\"\n",
    "                )\n",
    "                eval_metrics = evaluation_func(model, criterion, validation_loader)\n",
    "                metrics[-1].update(eval_metrics)\n",
    "            last_epoch_metric = metrics[-1]\n",
    "            # Save checkpoint\n",
    "            if save_checkpoints:\n",
    "                checkpoint = mk_checkpoint(epoch, model, scheduler, optimizer)\n",
    "                metrics_df = DF.from_records(metrics)\n",
    "                best_model_metric = \"validation_loss\" if \"validation_loss\" in metrics_df.columns else \"train_epoch_loss\"\n",
    "                is_best_checkpoint = (\n",
    "                    DF.from_records(metrics)\n",
    "                    .eval(f\"min_{best_model_metric} = {best_model_metric}.min()\")\n",
    "                    .eval(f\"is_best_{best_model_metric} = {best_model_metric} == min_{best_model_metric}\")\n",
    "                    .dropna(subset=f\"is_best_{best_model_metric}\")\n",
    "                    .iloc[-1]\n",
    "                    .loc[f\"is_best_{best_model_metric}\"]\n",
    "                )\n",
    "                save_checkpoint(checkpoint, checkpoints_dir, is_best_checkpoint)\n",
    "\n",
    "    return DF.from_records(metrics), checkpoints_dir\n",
    "\n",
    "def evaluate_model(\n",
    "        model: torch.nn.Module,\n",
    "        critirion:callable,\n",
    "        validation_loader:DL,\n",
    "    ) -> dict:\n",
    "    model = model.eval()\n",
    "    model_device = next(model.parameters()).device\n",
    "\n",
    "    total_accuracy = 0\n",
    "    total_test_loss = 0\n",
    "    for x, y in validation_loader:\n",
    "        x = x.to(model_device)\n",
    "        y = y.to(model_device)\n",
    "        y_pred = model(x)\n",
    "        total_test_loss += critirion(y_pred, y).item()\n",
    "        batch_accuracy = (\n",
    "            (y.max(dim=1)[1] == y_pred.max(dim=1)[1])\n",
    "            .sum()\n",
    "            .item()\n",
    "        ) / y.shape[0]\n",
    "        total_accuracy += batch_accuracy\n",
    "\n",
    "    return {\n",
    "        \"validation_loss\": total_test_loss / len(validation_loader),\n",
    "        \"validation_accuracy\": total_accuracy / len(validation_loader),\n",
    "    }\n",
    "\n",
    "def mk_checkpoint(\n",
    "        epoch:int,\n",
    "        model: torch.nn.Module,\n",
    "        scheduler: LRScheduler,\n",
    "        optimizer: torch.optim.Optimizer\n",
    "    ) -> dict:\n",
    "    return {\n",
    "        \"epoch\": epoch,\n",
    "        \"model\": model.state_dict(),\n",
    "        \"optimizer\": optimizer.state_dict(),\n",
    "        \"scheduler\": scheduler.state_dict(),\n",
    "    }\n",
    "\n",
    "def save_checkpoint(checkpoint:dict, parent_dir:str, is_best_checkpoint=False):\n",
    "    # Create model name\n",
    "    checkpoint_filename = f\"epoch_{checkpoint['epoch']}_{mk_date_now_str()}.pth\"\n",
    "    # Save model\n",
    "    os.makedirs(parent_dir, exist_ok=True)\n",
    "    checkpoint_path = os.path.join(parent_dir, checkpoint_filename)\n",
    "    torch.save(checkpoint, checkpoint_path)\n",
    "    mk_symlink(checkpoint_path, os.path.join(parent_dir, \"latest_checkpoint.pth\"))\n",
    "    if is_best_checkpoint:\n",
    "        mk_symlink(checkpoint_path, os.path.join(parent_dir, \"best_checkpoint.pth\"))\n",
    "\n",
    "def mk_date_now_str() -> str:\n",
    "    return datetime.now().strftime(\"%d-%m-%Y_%H-%M\")\n",
    "\n",
    "def mk_symlink(dest:str, symlink_path:str):\n",
    "    if os.path.islink(symlink_path) or os.path.exists(symlink_path):\n",
    "        os.remove(symlink_path)\n",
    "    os.symlink(dest, symlink_path)"
   ]
  },
  {
   "cell_type": "code",
   "execution_count": 25,
   "id": "fe1e327c",
   "metadata": {},
   "outputs": [],
   "source": [
    "TRAINING_EPOCHS = 30\n",
    "STARTING_LR = 0.0005\n",
    "def mk_model() -> nn.Module:\n",
    "    return (\n",
    "        Resnet(\n",
    "            in_channels=20,\n",
    "            depth=4,\n",
    "            mlp_width=256,\n",
    "            n_class=18\n",
    "        )\n",
    "    )\n",
    "\n",
    "def mk_model_and_fit(train_loader:DL, validation_loader:Optional[DL]=None) -> tuple[nn.Module, DF, list[str]]:\n",
    "    model = mk_model()\n",
    "    optimizer = torch.optim.AdamW(model.parameters(), STARTING_LR)\n",
    "    constant_lr_scheduler = ConstantLR(optimizer, factor=1, total_iters=len(train_loader) * TRAINING_EPOCHS)\n",
    "    training_metrics, model_checkpoints = fit(\n",
    "        epochs=TRAINING_EPOCHS,\n",
    "        model=model,\n",
    "        scheduler=constant_lr_scheduler,\n",
    "        optimizer=optimizer,\n",
    "        train_loader=train_loader,\n",
    "        criterion=nn.CrossEntropyLoss(),\n",
    "        evaluation_func=evaluate_model if validation_loader else None,\n",
    "        validation_loader=validation_loader,\n",
    "        save_checkpoints=True,\n",
    "    )\n",
    "\n",
    "    return model, training_metrics, model_checkpoints"
   ]
  },
  {
   "cell_type": "markdown",
   "id": "0ddd2294",
   "metadata": {},
   "source": [
    "### Training metrics plotting"
   ]
  },
  {
   "cell_type": "code",
   "execution_count": 26,
   "id": "4619c4fe",
   "metadata": {},
   "outputs": [],
   "source": [
    "def plt_training_metrics(training_metrics:DF):\n",
    "    (\n",
    "        px.scatter(\n",
    "        (\n",
    "            training_metrics\n",
    "            .melt(\n",
    "                id_vars=\"step\",\n",
    "                value_vars=[\n",
    "                    \"batch_train_loss\",\n",
    "                    \"batch_accuracy\",\n",
    "                ]\n",
    "            )\n",
    "        ),\n",
    "        x=\"step\",\n",
    "        y=\"value\",\n",
    "        facet_row=\"variable\",\n",
    "        trendline=\"ewm\",\n",
    "        trendline_options={\"com\": 30},\n",
    "        trendline_color_override=\"red\",\n",
    "        title=\"batch metrics\",\n",
    "        )\n",
    "        .update_yaxes(matches=None)\n",
    "        .show()\n",
    "    )\n",
    "    if \"validation_loss\" in training_metrics.columns:\n",
    "        (\n",
    "            px.line(\n",
    "                (\n",
    "                    training_metrics\n",
    "                    .query(\"validation_loss.notna()\")\n",
    "                    .melt(\n",
    "                        id_vars=\"step\",\n",
    "                        value_vars=['train_epoch_loss', 'train_epoch_accuracy', 'validation_loss', 'validation_accuracy']\n",
    "                    )\n",
    "                ),\n",
    "                x=\"step\",\n",
    "                y=\"value\",\n",
    "                color=\"variable\",\n",
    "                facet_row=\"variable\",\n",
    "                title=\"epoch metrics\",\n",
    "                render_mode=\"line+marker\",\n",
    "            ).update_yaxes(matches=None)\n",
    "            .show()\n",
    "        )    "
   ]
  },
  {
   "cell_type": "markdown",
   "id": "92bee315",
   "metadata": {},
   "source": [
    "## Cross validation training"
   ]
  },
  {
   "cell_type": "code",
   "execution_count": 27,
   "id": "a711c430",
   "metadata": {},
   "outputs": [
    {
     "name": "stdout",
     "output_type": "stream",
     "text": [
      "training: 1\n"
     ]
    },
    {
     "data": {
      "application/vnd.jupyter.widget-view+json": {
       "model_id": "75f17f55c8b2444d95c81aade865af64",
       "version_major": 2,
       "version_minor": 0
      },
      "text/plain": [
       "Output()"
      ]
     },
     "metadata": {},
     "output_type": "display_data"
    },
    {
     "data": {
      "text/html": [
       "<pre style=\"white-space:pre;overflow-x:auto;line-height:normal;font-family:Menlo,'DejaVu Sans Mono',consolas,'Courier New',monospace\"></pre>\n"
      ],
      "text/plain": []
     },
     "metadata": {},
     "output_type": "display_data"
    },
    {
     "data": {
      "application/vnd.plotly.v1+json": {
       "config": {
        "plotlyServerURL": "https://plot.ly"
       },
       "data": [
        {
         "hovertemplate": "variable=batch_train_loss<br>step=%{x}<br>value=%{y}<extra></extra>",
         "legendgroup": "",
         "marker": {
          "color": "#636efa",
          "symbol": "circle"
         },
         "mode": "markers",
         "name": "",
         "showlegend": false,
         "type": "scattergl",
         "x": {
          "bdata": "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",
          "dtype": "i2"
         },
         "xaxis": "x2",
         "y": {
          "bdata": "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",
          "dtype": "f8"
         },
         "yaxis": "y2"
        },
        {
         "hovertemplate": "<b>Exponentially Weighted mean trendline</b><br><br>variable=batch_train_loss<br>step=%{x}<br>value=%{y} <b>(trend)</b><extra></extra>",
         "legendgroup": "",
         "line": {
          "color": "red"
         },
         "marker": {
          "color": "#636efa",
          "symbol": "circle"
         },
         "mode": "lines",
         "name": "",
         "showlegend": false,
         "type": "scattergl",
         "x": {
          "bdata": "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",
          "dtype": "i2"
         },
         "xaxis": "x2",
         "y": {
          "bdata": "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",
          "dtype": "f8"
         },
         "yaxis": "y2"
        },
        {
         "hovertemplate": "variable=batch_accuracy<br>step=%{x}<br>value=%{y}<extra></extra>",
         "legendgroup": "",
         "marker": {
          "color": "#636efa",
          "symbol": "circle"
         },
         "mode": "markers",
         "name": "",
         "showlegend": false,
         "type": "scattergl",
         "x": {
          "bdata": "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",
          "dtype": "i2"
         },
         "xaxis": "x",
         "y": {
          "bdata": "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",
          "dtype": "f8"
         },
         "yaxis": "y"
        },
        {
         "hovertemplate": "<b>Exponentially Weighted mean trendline</b><br><br>variable=batch_accuracy<br>step=%{x}<br>value=%{y} <b>(trend)</b><extra></extra>",
         "legendgroup": "",
         "line": {
          "color": "red"
         },
         "marker": {
          "color": "#636efa",
          "symbol": "circle"
         },
         "mode": "lines",
         "name": "",
         "showlegend": false,
         "type": "scattergl",
         "x": {
          "bdata": "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",
          "dtype": "i2"
         },
         "xaxis": "x",
         "y": {
          "bdata": "AAAAAAAAsT/avE9xyRC1P3o1Xz7ohLk/m2HOok1VuD+E1WiWcdK6P6o1geY2Sb4/eFngPUovvz+RwjY/347AP9l364pnUcI/l5JjB8kWwz+qXgG6iO7DP9ZR3RwNyMQ/xDqjrl8axj/ie3Gm/X7HP7qJuv0Hnsg/m878XPrAyT/qkO+6XwnKPxT/pqfwwco/rzIPPr1Uyz+q4Mg5JovLP4XBEIP67cs/neYZnWIvzD/Cq8jU0d/MP1nFh2Ghl80/qJuDBn8izj9Xhawxo47OPwrAouG0YM8/LlqszHzJzz9JX4ZhGibQP0/rJvh+X9A/E29QNxSl0D8eQ3l3EtbQPyFEq4WyGdE/SYGuVotG0T+E9JQwBKfRP9yBYynG49E/iV8Aj0IL0j/r79l4aE3SP/c+EeIGhtI/HUz/v8DG0j/Nrmj2GQHTP+PDU4VdTtM/GnjixdeJ0z8j3nOzRa/TP2hyCfp43dM/+SZhYUYR1D/OUxC03lTUP2lWjwgQbtQ/45kSKq251D9sAi40CujUP7u1dgXqINU/bikh2hI11T/sCd4kmGLVP21odqZUuNU/8bYk+ADv1T9ppEqwaBnWP4aRxmxogdY/gY05EeHC1j8hXSEajuTWPyMl2xEwN9c/k20bU/FY1z8N5yMIx4LXPxXDlr+Xr9c/p9PywPbj1z82snFBY/XXP0rP0I1tFtg/SOt3C2w/2D/Chuz3M1vYP2gp9Gg5j9g/FZL8WQuh2D+CgOOblq3YP/wPKez2q9g/AXPQ6GLc2D8ycIAFJQTZP8B5/1GiLNk/wXntGJAm2T+Jk5QKrTLZP8PT62EzONk/NFEKdPNZ2T863e1b22rZP3XHCVc4mtk/1wewIr6d2T8iSrka3b3ZP/ZhcZgC39k/vN4PaYv62T/y5dmuoybaP9gBiH0iUdo/oHln/Npf2j/xROizUn3aP0honhqOl9o/ZQJlLhLA2j+H/MW9dd7aPyV2Tf6aBts/MyaeffdC2z9AxYHrwGnbP/mfmURyd9s/9hc9TkaN2z+kRNdZTb7bP6KHzYAG5ds/bAMzOUEI3D9DxxWZsCHcP+3JkGtDK9w/5sD4XE4S3D+9nbfsvjrcP1U06CS1Z9w/ou+tZpqK3D/AI2jddL/cPxJf8IE93dw/cVoq0oAC3T/6pfAvISDdP85D3rWgOt0/NdARG1hW3T+IoD+e1lndP8idr9rJZ90/0CDKUX553T+lqXDBYZndP7YHAA/bxN0/uTZkiXrA3T+XhiLEmurdP9KNVHdC/t0/ltWJEgwN3j+xy9bqKSzeP7rdLAeHO94/8B3oBTBw3j8E97qs53TeP6VqnFgJm94/Sys3/Ymi3j/FcprAyqneP2+I4BJ4v94/037D/b3r3j/t2j6G/A/fPxWMwgALSt8/Aev+17dg3z+c0H8wuo/fP7GCWWyKxd8/TrHfXcfm3z9YkZJB5g3gP30qD77hF+A/rS9NIp8j4D8p6t2n2CvgP/rW0FdKJ+A/nJ9a+fck4D9ZQZf1Li7gP9223cSCQeA/MbQwYv9O4D9U0xnjtlPgP+9fejyFXuA/I0A445tf4D82ThsH52bgP56O5KUTceA/kO5iw49x4D8RQ3LGgH7gP1xZJXL7ieA/pvUVl4qG4D/Wqxfy3pTgP45152RDpeA/1X/svQy/4D+w9pFqk8zgPzjfjY682+A/ihhR1lPo4D+2u6DknvfgP9GRzkUU/eA/OwGO99cP4T+Xu7VtjRXhP8SaKBg5H+E/qu7qgRAa4T8oYqe98y3hPw+tvrh2LOE/+JZ2Muon4T8BQxnLjCThP0dbqRjfMeE/of5YMII34T8DOcXpEUDhP5Q2S3kaQeE/Y1FvOAhA4T/l5Ibha0vhP7f02N/NQ+E/5IVhftJH4T8+PB/L/VPhP7RNIgrEX+E/Z4YhRIdY4T+2+xBFw2ThP+CdpGnIaeE/Oys2yqxv4T/+hbZCp33hP8PxxkuGleE/Hg6vfpar4T8wA9bSurrhPzUqUC9zy+E/wVOA5lHS4T/Fyeh1a8jhPzT89U4UxuE/27YfUjnQ4T91hO0/kMvhP+prDwGZ1+E/qVTxnhLe4T+D93+C1NThP4ei8COQ4OE/NL3sQGDb4T9oOhbcfdrhP3ijzwD54+E/t4a7Bx3s4T+/TL+p0u7hP7U+lzaU9eE/F64NQhX74T/kDvyCCvXhP0sr8Dl29+E/1zRutYv+4T8BTSjeKBDiP9VWujG0MOI/8fP1O1024j+PUGJ26D3iP9yAksIKQOI/FHcR3GdL4j+U+/eJK0/iP7SjhHALWuI/3Xumzqpn4j/DdoO2J1/iPyQy08YdXeI/w2QeU2hj4j9Ir1mhoG3iPzxXJIpzdeI/QjiWcux54j90kPQ6FnniP26uV8dXeuI/l+gKb1x14j8Nd+iIMoXiP2fRTdpKjeI/MmsVbeWN4j854B1qWYriPyOo6d8tj+I/xVgodrCO4j/AS3q2Lo3iP5onBpbfk+I/A/lgsfOp4j/C3KZ15LHiP5+mg1AFqOI/Gw0wDcOn4j/sYKQwzrDiP2Tkh06fu+I/jpOrBxfG4j9wc6QhBsriP8lxmt4f1+I/VaqLdD/S4j/Wod0OsdLiP7Kx+EPcyuI/rH0B5IrL4j83v4sv2MDiP3jIlTU1zeI/mUd3H5bG4j8BwNVfcMjiP3Y7wFE7yuI/JxF0ZSnS4j+WyFJtY+viP0g/jFEe7uI/8c5pv5Dq4j8mxCrmD+XiP/Xqg1GC2OI/sLUZMcDY4j8e62MKVOriP0Ft3ZUw8OI/gI/b7WkH4z8w5zGHXg3jP+pL+8znC+M//PS4EpYN4z+3R22qVxPjP6w2ZhyGDOM/Ch96+CYN4z/yYYCALhvjP1H7Etm5J+M/76XRYi8e4z+k5HeamSnjP2/ght7nPOM/fQxcg64y4z9Du4mCHDPjPyDJPAH7QeM/POajPTVL4z+MjCn24EvjP7e+wwEUXuM/ThV2TYdq4z9WtLwLnHfjP2bl+p/peOM/JdYdSkV94z/AX2CmrofjP0gPQuxmhuM/QcJ6JYF14z8sb+69S4TjPyc9oLQXguM/Dr+kecx64z809kZu93rjP2swmlbvdOM/SG2VhviK4z9ehL/9Y4PjPyqUjHeSjOM/hN/HNZaZ4z9C6LvR/J/jP6NGfGJHqeM/OGP82But4z/7V9lQp6vjP4LlmBGituM/gis39VrE4z8N8kKIR8bjP47B2vEbx+M/urRI8DPR4z/xD/WR+NrjP5IcRnNL4OM/w44sBEng4z8WibZ3X+PjP+zl58KF6+M/oKqt0on34z9giEMYnvHjPwytMcxWEOQ/7mXg7vAT5D+yumBjjhvkP3hJLwUOJ+Q/o0qAF/0r5D+0xbiLBTnkP+MJkBmaROQ/tuB79K1L5D9z3hWgj1PkP0LSuTQwW+Q/d1jCJT9Y5D+Vd+zh8mbkP5f6iiQMceQ/9C/sNbl35D+BnXozUILkPwBLQ+7ZdeQ/k/jO2W9+5D/4BLiMlYHkP/hIA7uQguQ/AFJu9+aP5D/jnygrdJHkPxTiEAjkkOQ/z2XPHoqW5D9W2NII8ZnkP19uW5cznOQ/2nfzUZ2l5D+O6JJspbXkP7eZ838svOQ/VQHYGEy85D+cTtrErMTkPz6dZdP50uQ/vfp553XV5D9GjGY/9trkPw9jf5cX2uQ/8kqIr3Hf5D+l7vqUn+TkP1mcxmZ55OQ/wA8xipbs5D8HVvmVLuzkP+awna1e/uQ/Goq+DOgN5T8ZkKXybAzlP3d+nZgODeU/PHyyd3kH5T+Tt25YjhHlPwwnwfdPG+U/rfuWdY8e5T/UkBZ4/irlP60UjEf2NOU/n/2SQIs85T+jCouSwD/lP4HqVZ7CP+U/f6MlxO9B5T91UoiN+ETlP3IDC834SeU/QofbaYVF5T8dhVvlmU3lP2I0rt9SUuU/YcsT2uRW5T+EjB2IH1XlP96L7VBYUeU/R+32hZdK5T9OhMOlklTlP6E/Hg0SWeU/NjyoDWRc5T/5S8Oiml/lP+RKQLjXZuU/lAEL9JZl5T9ysRfLaGXlP2zs1viWcOU/tx0vAi905T+oN5Hr2n3lP3O4RrQuhuU/ZK5Rf1aR5T+nqLnxOp/lP2RoTmikq+U/B1peyFSt5T/SqkSoxajlPzl0XxjIqeU/DAmTnKCu5T9W73QcUbPlP5YPElWpseU/pCIjS1G45T9BSJ1S48LlP7VOqv3bxOU/1miL5dTI5T8+IfmM3tLlP+KSWtSl3uU///FD1wvq5T8W1Sb7G/blP8V69ep19+U/9nkdP/b+5T8onB4uagzmPw7EW/MsEeY/JB3/HJ8Q5j8isy82gR3mP/iJ47ERLeY//PyLzcYw5j84sUXv8SbmPx3s/geHIOY/mJwdYlkb5j9Xg1HKfxvmP7mgPlcxDeY/sFQsGpsH5j+go+JwrPzlP9DJZzwSBuY/awhpGeAF5j9qTSwQnwPmP6JgonvLDOY/c4y3Nu4d5j87hZkL9xzmPzA+AaAgH+Y/2FYo3Ugj5j+oOT3ObyvmP9WcDDyNOuY/l0UA+LE55j+YX2FTDz/mP23FxNQOPuY/MxVPnBY95j/iwxob/TbmP+Zh70tgOuY/G0TFScBA5j9yQSvc0kPmP9OqrEizQ+Y/1UmDsXM/5j9eoFUnNjfmP2YaRR0LKeY/WYP/sMgp5j+c6nbD8xjmP+KVX2r8EuY/LVUtu5EQ5j/D3aV7WxrmP5129ByrHuY//I36sAgp5j+tyHdpCDLmPzSCUqD3QeY/res/H99A5j92XssFO03mP2ofcS97YuY/sq3E601f5j/MyLaydGPmP5bZKzF5Z+Y/dqKjsyJk5j+6dD7XKWnmPz6EprcPb+Y/1Z676+V45j/Ubo2RIHnmPxec5eerg+Y/Ldcs2JWE5j/QEGi4Z4PmPx+ZwPS2kOY/rgwoDrGg5j+iTV9HaZjmP8/5Fqh+k+Y/ZUP1BUmg5j8nUe2qRqDmP2vJ+xoRq+Y/rA6KKoSk5j/R0zspiKnmP862YPZJq+Y/dpymUT+15j+3l9vCLMjmPzZJxoLxyOY/Oled4Y7F5j8QkAxOq87mP9BpuPBK0eY/Ar3UZMTR5j/9aSoPvuLmP8/l4rPQ5+Y/QniLOtLv5j/lT6MXYPHmPwKPg2kK+OY/+UAMJEz45j+hSjpMvf7mP1iAV3vgAec/Fr4z86/95j+kKIstRw7nP10DarifB+c/DNIxiXkK5z85rMAhhhbnP54vzaTcF+c/sUIWdpMG5z++4EkZEQ7nP3ncGEoIG+c/PzjBiRgY5z9HOFZkrCLnP8xilVCWIuc/y3vvLGgf5z9yslZltyjnP6Q1F0HKM+c/IxLp20c35z+aISUfmDjnP0CJQmA4Rec/g+r/lldO5z+FcKKi0EvnP95Z7s5mSuc/agJ+rylN5z9iiFe6tEvnPzye/Ce3V+c/4e6Yoj1g5z+EC2jfIl3nP6BRwQlLX+c/yCVJZGFh5z/lfQVAXmLnPywc6PtzZ+c/6D8O/Gdt5z+Mohm6x2bnPwAqfUCgaOc/tZUJPBJk5z/0HTR8bHPnP0vkXR3tduc/IRg9VmF85z/OSI2V6onnPzp9j8r7lec/DuxtUIid5z/amv/ypJ7nP3q0fzXypuc/qzpVZeqs5z/b+27NwbTnP8poxqUetec/2TS6yaG65z+gkfy6QcnnP0x1mUn1yOc/4/MmBYLD5z8Xty/s4LLnPza9/pF2uOc/SdBIjay35z/mBTJ4lqznP2zSor4Vqec/NyiePNuq5z/SsdcAL6DnP9+zr3wtoOc/5ps/y0Sj5z8keDbVSqfnP5H6As3vouc/FX3r1gCo5z+e7UHYIbTnPzhxeZd7s+c/n15GSC295z99kz5vn8jnP7C5TQBxy+c/QOQC11zU5z9gpxvxvNTnP/5MLURk3uc/TGnj3rvn5z8Rn9t8a+XnP0/eJ8Nf6ec/d9fk3SLr5z+0ZA4hrufnPz9zcO5V5Oc/oXRsnCHi5z9aKZp+/9/nP46sYvbN2ec/ssQdpBHc5z/jIiwK8NPnP5hiIzOF2uc/RZi/Ocvd5z+J0cGz5d7nP5w6QNcP4+c/dAKiGijp5z/LlkUQcfTnP9kQRSBEA+g/Z4eu7UEG6D+jrvvEHgjoP43j48YdEOg/Zx8ndrES6D93Z1+TBhDoP/88xzNhC+g/suipY6gf6D/cjig3qx/oP3clYTW2IOg/PdJ3bRMt6D+wp7aC6TToP+AHj8D6K+g/N5LVqfI26D/w3FqkJDToPz29V8htMeg/NBV/NUk+6D8IS81UNjroP4DcGXOwQ+g/N0eld4FB6D8k0V3GbEDoPwVWnVSrSOg/KbR/xYRM6D+2UXQJsl7oP5+ownxyVeg/IL5ttpNW6D+xY7x2n07oP7Fa+LQmTug/duKdnspQ6D/C4wzLmlvoP2XJqWkJZeg/is5Zyb5g6D+CzWf0AmroP/suXEewaeg/19+jl6py6D9pHAq8OXfoP3CQO76zfeg/NCop+s5+6D/gAVn6fXPoP0jfoF1IgOg/WSIojFaC6D/qOHHBU4ToP/aDEjf2fOg/xesRTg996D+3m1NkYYToP4wPeu0Tf+g/WnSGvOF36D80fR9suYroPzq+omiSkOg/zV0yI1ya6D+zQYPwcZfoP57dW6OqmOg/krEOfRCe6D/fe+0VlKzoPzLyxEZutOg/EivwEta16D9NeGRUdL/oPxVyis1Xu+g/+QvIQn676D+EjH+8q7zoPyU3EEsJxeg/LKTucdfD6D8v1IN2r8LoP+MU83pfu+g/eM37dp6+6D8Cek4YkbvoP5O/AQcAxeg/MBHxq5S86D8KU8gy2sHoP8A0b1qZu+g/XLCMeNa+6D/MKCVkKsjoPwhQj/Xmx+g/k/SzL5XF6D+kdbZfkMroP0Wa0SI5yug/U+jKhB7R6D+vZZ3q69ToP1ZX2hwe0Og/npm6VePY6D/A2npjaOLoP26/sA2G6Og/CGQWaDfn6D+GJAWO8+XoPyBD7HgE7ug/lCP1MoDr6D/h3YH3GOroPyqEGkJ74Og/lSsqBm/f6D9kqYM3hOHoP6N8A18t2Og/QyH7fH7a6D+TmyQ/1d/oP7wHdqj34+g/JmIX5dbj6D/ae7PdbNroP8a/72KK2Og/VaQ6TxLi6D/giw/ZlfToP9y1oyQV+eg/WltcwD336D9An0Adp/voP2J22030AOk/C8zAHVEO6T+MuD7r+xHpPyQVyWdnEek/s8BGvxkZ6T8aGtmwMRXpP23Lhze0Guk/c8ju+wAf6T+kQ61v8BvpP9uHI67oFuk/zrZsRUQZ6T97eZLPORHpP/JR4MiSDek/831lwmQV6T/3aijdzBfpPzp0kgffEek/PczP9lsT6T8S0sCLigzpP2/t4xunHOk/7xTMVBUn6T8FX0EY4yfpP9WCJs38Muk/rB2hKQUn6T8IjA9BDS/pPytaOEfbN+k/err8hh446T8JtXjdZznpP8Toy4sQPOk/KdXVuOYy6T+ezUpgQjHpP50H3RKbLek/ap2sv0sx6T8DoPmotC/pP0BP6S8aLOk/ZtECw8Yt6T+y0GVyIyfpP7si1vK2IOk/LpY60skj6T83eFFHoiLpP9IRNgudJOk/VDnR6VUg6T8a97mwhCbpPxaF5SZ4K+k/XvU4eDov6T/i3y7PHzvpP/34oEwvOOk/tNC8nIg76T+YTgkDvj3pPzwKKurYPuk/D1ze6tE86T+6ct81DUHpP4y5x8gMQuk/WzNeBKFW6T8s/sTbkFrpP7B6GYLWXek/JV7vnvBe6T+I+DEmEmLpP61K7gPgXek/mv5ymBJi6T+/7gODImbpPx1tdzRbc+k/BXoQXLty6T/kFJRIlIDpP1LCXcq4hek/dWcQqw126T/dpigZiXvpP/BUJ1IZaek//UoNgRhy6T+cxKmVk3PpPyKVzW8Cdek/32+2fIZ66T9JYwvkeXPpP5NIE2lEgOk/jBzhKyF86T8Jho+N7nHpP9iKHw2te+k/bTTUkAqD6T8fp/bFO4zpP95OYvm9iOk/Gsmxg2aE6T8lqh81Y4jpP+LuR68Vh+k/mGJeoamA6T8kBRE55ojpP75XjIG1i+k//TMUVGWN6T9Jrpc4B4/pP3a5UGi0k+k/D3q5fUua6T/UNIr15afpPxwBjqtin+k/2GNoMjaZ6T88Nyu9XZfpP+WPIflij+k//mreCWif6T/k42uFv6npP+QN/fxNpek/i2gFu1Or6T/a4Jko1abpP54jfO1in+k/jqaIvF+e6T/Wf4wZK5bpP+p7mJSlm+k/duPd0fKg6T/hmVKywZvpP828fTA+m+k/",
          "dtype": "f8"
         },
         "yaxis": "y"
        }
       ],
       "layout": {
        "annotations": [
         {
          "font": {},
          "showarrow": false,
          "text": "variable=batch_accuracy",
          "textangle": 90,
          "x": 0.98,
          "xanchor": "left",
          "xref": "paper",
          "y": 0.2425,
          "yanchor": "middle",
          "yref": "paper"
         },
         {
          "font": {},
          "showarrow": false,
          "text": "variable=batch_train_loss",
          "textangle": 90,
          "x": 0.98,
          "xanchor": "left",
          "xref": "paper",
          "y": 0.7575000000000001,
          "yanchor": "middle",
          "yref": "paper"
         }
        ],
        "legend": {
         "tracegroupgap": 0
        },
        "template": {
         "data": {
          "bar": [
           {
            "error_x": {
             "color": "#2a3f5f"
            },
            "error_y": {
             "color": "#2a3f5f"
            },
            "marker": {
             "line": {
              "color": "#E5ECF6",
              "width": 0.5
             },
             "pattern": {
              "fillmode": "overlay",
              "size": 10,
              "solidity": 0.2
             }
            },
            "type": "bar"
           }
          ],
          "barpolar": [
           {
            "marker": {
             "line": {
              "color": "#E5ECF6",
              "width": 0.5
             },
             "pattern": {
              "fillmode": "overlay",
              "size": 10,
              "solidity": 0.2
             }
            },
            "type": "barpolar"
           }
          ],
          "carpet": [
           {
            "aaxis": {
             "endlinecolor": "#2a3f5f",
             "gridcolor": "white",
             "linecolor": "white",
             "minorgridcolor": "white",
             "startlinecolor": "#2a3f5f"
            },
            "baxis": {
             "endlinecolor": "#2a3f5f",
             "gridcolor": "white",
             "linecolor": "white",
             "minorgridcolor": "white",
             "startlinecolor": "#2a3f5f"
            },
            "type": "carpet"
           }
          ],
          "choropleth": [
           {
            "colorbar": {
             "outlinewidth": 0,
             "ticks": ""
            },
            "type": "choropleth"
           }
          ],
          "contour": [
           {
            "colorbar": {
             "outlinewidth": 0,
             "ticks": ""
            },
            "colorscale": [
             [
              0,
              "#0d0887"
             ],
             [
              0.1111111111111111,
              "#46039f"
             ],
             [
              0.2222222222222222,
              "#7201a8"
             ],
             [
              0.3333333333333333,
              "#9c179e"
             ],
             [
              0.4444444444444444,
              "#bd3786"
             ],
             [
              0.5555555555555556,
              "#d8576b"
             ],
             [
              0.6666666666666666,
              "#ed7953"
             ],
             [
              0.7777777777777778,
              "#fb9f3a"
             ],
             [
              0.8888888888888888,
              "#fdca26"
             ],
             [
              1,
              "#f0f921"
             ]
            ],
            "type": "contour"
           }
          ],
          "contourcarpet": [
           {
            "colorbar": {
             "outlinewidth": 0,
             "ticks": ""
            },
            "type": "contourcarpet"
           }
          ],
          "heatmap": [
           {
            "colorbar": {
             "outlinewidth": 0,
             "ticks": ""
            },
            "colorscale": [
             [
              0,
              "#0d0887"
             ],
             [
              0.1111111111111111,
              "#46039f"
             ],
             [
              0.2222222222222222,
              "#7201a8"
             ],
             [
              0.3333333333333333,
              "#9c179e"
             ],
             [
              0.4444444444444444,
              "#bd3786"
             ],
             [
              0.5555555555555556,
              "#d8576b"
             ],
             [
              0.6666666666666666,
              "#ed7953"
             ],
             [
              0.7777777777777778,
              "#fb9f3a"
             ],
             [
              0.8888888888888888,
              "#fdca26"
             ],
             [
              1,
              "#f0f921"
             ]
            ],
            "type": "heatmap"
           }
          ],
          "histogram": [
           {
            "marker": {
             "pattern": {
              "fillmode": "overlay",
              "size": 10,
              "solidity": 0.2
             }
            },
            "type": "histogram"
           }
          ],
          "histogram2d": [
           {
            "colorbar": {
             "outlinewidth": 0,
             "ticks": ""
            },
            "colorscale": [
             [
              0,
              "#0d0887"
             ],
             [
              0.1111111111111111,
              "#46039f"
             ],
             [
              0.2222222222222222,
              "#7201a8"
             ],
             [
              0.3333333333333333,
              "#9c179e"
             ],
             [
              0.4444444444444444,
              "#bd3786"
             ],
             [
              0.5555555555555556,
              "#d8576b"
             ],
             [
              0.6666666666666666,
              "#ed7953"
             ],
             [
              0.7777777777777778,
              "#fb9f3a"
             ],
             [
              0.8888888888888888,
              "#fdca26"
             ],
             [
              1,
              "#f0f921"
             ]
            ],
            "type": "histogram2d"
           }
          ],
          "histogram2dcontour": [
           {
            "colorbar": {
             "outlinewidth": 0,
             "ticks": ""
            },
            "colorscale": [
             [
              0,
              "#0d0887"
             ],
             [
              0.1111111111111111,
              "#46039f"
             ],
             [
              0.2222222222222222,
              "#7201a8"
             ],
             [
              0.3333333333333333,
              "#9c179e"
             ],
             [
              0.4444444444444444,
              "#bd3786"
             ],
             [
              0.5555555555555556,
              "#d8576b"
             ],
             [
              0.6666666666666666,
              "#ed7953"
             ],
             [
              0.7777777777777778,
              "#fb9f3a"
             ],
             [
              0.8888888888888888,
              "#fdca26"
             ],
             [
              1,
              "#f0f921"
             ]
            ],
            "type": "histogram2dcontour"
           }
          ],
          "mesh3d": [
           {
            "colorbar": {
             "outlinewidth": 0,
             "ticks": ""
            },
            "type": "mesh3d"
           }
          ],
          "parcoords": [
           {
            "line": {
             "colorbar": {
              "outlinewidth": 0,
              "ticks": ""
             }
            },
            "type": "parcoords"
           }
          ],
          "pie": [
           {
            "automargin": true,
            "type": "pie"
           }
          ],
          "scatter": [
           {
            "fillpattern": {
             "fillmode": "overlay",
             "size": 10,
             "solidity": 0.2
            },
            "type": "scatter"
           }
          ],
          "scatter3d": [
           {
            "line": {
             "colorbar": {
              "outlinewidth": 0,
              "ticks": ""
             }
            },
            "marker": {
             "colorbar": {
              "outlinewidth": 0,
              "ticks": ""
             }
            },
            "type": "scatter3d"
           }
          ],
          "scattercarpet": [
           {
            "marker": {
             "colorbar": {
              "outlinewidth": 0,
              "ticks": ""
             }
            },
            "type": "scattercarpet"
           }
          ],
          "scattergeo": [
           {
            "marker": {
             "colorbar": {
              "outlinewidth": 0,
              "ticks": ""
             }
            },
            "type": "scattergeo"
           }
          ],
          "scattergl": [
           {
            "marker": {
             "colorbar": {
              "outlinewidth": 0,
              "ticks": ""
             }
            },
            "type": "scattergl"
           }
          ],
          "scattermap": [
           {
            "marker": {
             "colorbar": {
              "outlinewidth": 0,
              "ticks": ""
             }
            },
            "type": "scattermap"
           }
          ],
          "scattermapbox": [
           {
            "marker": {
             "colorbar": {
              "outlinewidth": 0,
              "ticks": ""
             }
            },
            "type": "scattermapbox"
           }
          ],
          "scatterpolar": [
           {
            "marker": {
             "colorbar": {
              "outlinewidth": 0,
              "ticks": ""
             }
            },
            "type": "scatterpolar"
           }
          ],
          "scatterpolargl": [
           {
            "marker": {
             "colorbar": {
              "outlinewidth": 0,
              "ticks": ""
             }
            },
            "type": "scatterpolargl"
           }
          ],
          "scatterternary": [
           {
            "marker": {
             "colorbar": {
              "outlinewidth": 0,
              "ticks": ""
             }
            },
            "type": "scatterternary"
           }
          ],
          "surface": [
           {
            "colorbar": {
             "outlinewidth": 0,
             "ticks": ""
            },
            "colorscale": [
             [
              0,
              "#0d0887"
             ],
             [
              0.1111111111111111,
              "#46039f"
             ],
             [
              0.2222222222222222,
              "#7201a8"
             ],
             [
              0.3333333333333333,
              "#9c179e"
             ],
             [
              0.4444444444444444,
              "#bd3786"
             ],
             [
              0.5555555555555556,
              "#d8576b"
             ],
             [
              0.6666666666666666,
              "#ed7953"
             ],
             [
              0.7777777777777778,
              "#fb9f3a"
             ],
             [
              0.8888888888888888,
              "#fdca26"
             ],
             [
              1,
              "#f0f921"
             ]
            ],
            "type": "surface"
           }
          ],
          "table": [
           {
            "cells": {
             "fill": {
              "color": "#EBF0F8"
             },
             "line": {
              "color": "white"
             }
            },
            "header": {
             "fill": {
              "color": "#C8D4E3"
             },
             "line": {
              "color": "white"
             }
            },
            "type": "table"
           }
          ]
         },
         "layout": {
          "annotationdefaults": {
           "arrowcolor": "#2a3f5f",
           "arrowhead": 0,
           "arrowwidth": 1
          },
          "autotypenumbers": "strict",
          "coloraxis": {
           "colorbar": {
            "outlinewidth": 0,
            "ticks": ""
           }
          },
          "colorscale": {
           "diverging": [
            [
             0,
             "#8e0152"
            ],
            [
             0.1,
             "#c51b7d"
            ],
            [
             0.2,
             "#de77ae"
            ],
            [
             0.3,
             "#f1b6da"
            ],
            [
             0.4,
             "#fde0ef"
            ],
            [
             0.5,
             "#f7f7f7"
            ],
            [
             0.6,
             "#e6f5d0"
            ],
            [
             0.7,
             "#b8e186"
            ],
            [
             0.8,
             "#7fbc41"
            ],
            [
             0.9,
             "#4d9221"
            ],
            [
             1,
             "#276419"
            ]
           ],
           "sequential": [
            [
             0,
             "#0d0887"
            ],
            [
             0.1111111111111111,
             "#46039f"
            ],
            [
             0.2222222222222222,
             "#7201a8"
            ],
            [
             0.3333333333333333,
             "#9c179e"
            ],
            [
             0.4444444444444444,
             "#bd3786"
            ],
            [
             0.5555555555555556,
             "#d8576b"
            ],
            [
             0.6666666666666666,
             "#ed7953"
            ],
            [
             0.7777777777777778,
             "#fb9f3a"
            ],
            [
             0.8888888888888888,
             "#fdca26"
            ],
            [
             1,
             "#f0f921"
            ]
           ],
           "sequentialminus": [
            [
             0,
             "#0d0887"
            ],
            [
             0.1111111111111111,
             "#46039f"
            ],
            [
             0.2222222222222222,
             "#7201a8"
            ],
            [
             0.3333333333333333,
             "#9c179e"
            ],
            [
             0.4444444444444444,
             "#bd3786"
            ],
            [
             0.5555555555555556,
             "#d8576b"
            ],
            [
             0.6666666666666666,
             "#ed7953"
            ],
            [
             0.7777777777777778,
             "#fb9f3a"
            ],
            [
             0.8888888888888888,
             "#fdca26"
            ],
            [
             1,
             "#f0f921"
            ]
           ]
          },
          "colorway": [
           "#636efa",
           "#EF553B",
           "#00cc96",
           "#ab63fa",
           "#FFA15A",
           "#19d3f3",
           "#FF6692",
           "#B6E880",
           "#FF97FF",
           "#FECB52"
          ],
          "font": {
           "color": "#2a3f5f"
          },
          "geo": {
           "bgcolor": "white",
           "lakecolor": "white",
           "landcolor": "#E5ECF6",
           "showlakes": true,
           "showland": true,
           "subunitcolor": "white"
          },
          "hoverlabel": {
           "align": "left"
          },
          "hovermode": "closest",
          "mapbox": {
           "style": "light"
          },
          "paper_bgcolor": "white",
          "plot_bgcolor": "#E5ECF6",
          "polar": {
           "angularaxis": {
            "gridcolor": "white",
            "linecolor": "white",
            "ticks": ""
           },
           "bgcolor": "#E5ECF6",
           "radialaxis": {
            "gridcolor": "white",
            "linecolor": "white",
            "ticks": ""
           }
          },
          "scene": {
           "xaxis": {
            "backgroundcolor": "#E5ECF6",
            "gridcolor": "white",
            "gridwidth": 2,
            "linecolor": "white",
            "showbackground": true,
            "ticks": "",
            "zerolinecolor": "white"
           },
           "yaxis": {
            "backgroundcolor": "#E5ECF6",
            "gridcolor": "white",
            "gridwidth": 2,
            "linecolor": "white",
            "showbackground": true,
            "ticks": "",
            "zerolinecolor": "white"
           },
           "zaxis": {
            "backgroundcolor": "#E5ECF6",
            "gridcolor": "white",
            "gridwidth": 2,
            "linecolor": "white",
            "showbackground": true,
            "ticks": "",
            "zerolinecolor": "white"
           }
          },
          "shapedefaults": {
           "line": {
            "color": "#2a3f5f"
           }
          },
          "ternary": {
           "aaxis": {
            "gridcolor": "white",
            "linecolor": "white",
            "ticks": ""
           },
           "baxis": {
            "gridcolor": "white",
            "linecolor": "white",
            "ticks": ""
           },
           "bgcolor": "#E5ECF6",
           "caxis": {
            "gridcolor": "white",
            "linecolor": "white",
            "ticks": ""
           }
          },
          "title": {
           "x": 0.05
          },
          "xaxis": {
           "automargin": true,
           "gridcolor": "white",
           "linecolor": "white",
           "ticks": "",
           "title": {
            "standoff": 15
           },
           "zerolinecolor": "white",
           "zerolinewidth": 2
          },
          "yaxis": {
           "automargin": true,
           "gridcolor": "white",
           "linecolor": "white",
           "ticks": "",
           "title": {
            "standoff": 15
           },
           "zerolinecolor": "white",
           "zerolinewidth": 2
          }
         }
        },
        "title": {
         "text": "batch metrics"
        },
        "xaxis": {
         "anchor": "y",
         "domain": [
          0,
          0.98
         ],
         "title": {
          "text": "step"
         }
        },
        "xaxis2": {
         "anchor": "y2",
         "domain": [
          0,
          0.98
         ],
         "matches": "x",
         "showticklabels": false
        },
        "yaxis": {
         "anchor": "x",
         "domain": [
          0,
          0.485
         ],
         "title": {
          "text": "value"
         }
        },
        "yaxis2": {
         "anchor": "x2",
         "domain": [
          0.515,
          1
         ],
         "title": {
          "text": "value"
         }
        }
       }
      }
     },
     "metadata": {},
     "output_type": "display_data"
    },
    {
     "data": {
      "application/vnd.plotly.v1+json": {
       "config": {
        "plotlyServerURL": "https://plot.ly"
       },
       "data": [
        {
         "hovertemplate": "variable=train_epoch_loss<br>step=%{x}<br>value=%{y}<extra></extra>",
         "legendgroup": "train_epoch_loss",
         "line": {
          "color": "#636efa",
          "dash": "solid"
         },
         "marker": {
          "symbol": "circle"
         },
         "mode": "lines",
         "name": "train_epoch_loss",
         "orientation": "v",
         "showlegend": true,
         "type": "scatter",
         "x": {
          "bdata": "GQAzAE0AZwCBAJsAtQDPAOkAAwEdATcBUQFrAYUBnwG5AdMB7QEHAiECOwJVAm8CiQKjAr0C1wLxAgsD",
          "dtype": "i2"
         },
         "xaxis": "x4",
         "y": {
          "bdata": "dmInRn4JBkBiJ3ZyDvIEQAAAAEAvawRAntiJvdEZBECe2Il9o9MDQAAAAHByiQNAAAAAwIxlA0A7sRNb7EcDQLETOzHhIQNAntiJzXYbA0BP7MQ+GPECQHZiJ2ZFzQJAAAAAkGynAkDsxE58qYMCQIqd2CmkcQJA7MROvB5YAkCKndj5AVoCQCd2YjegJgJAYid2oucZAkB2YicW3PwBQGIndiL57gFAJ3Zid6/hAUBiJ3YCn8YBQMVO7NSqugFAYid2UrmqAUAndmLXsJ0BQOzETmxokwFAxU7sFFKSAUAndmKHGX0BQNmJndixeQFA",
          "dtype": "f8"
         },
         "yaxis": "y4"
        },
        {
         "hovertemplate": "variable=train_epoch_accuracy<br>step=%{x}<br>value=%{y}<extra></extra>",
         "legendgroup": "train_epoch_accuracy",
         "line": {
          "color": "#EF553B",
          "dash": "solid"
         },
         "marker": {
          "symbol": "circle"
         },
         "mode": "lines",
         "name": "train_epoch_accuracy",
         "orientation": "v",
         "showlegend": true,
         "type": "scatter",
         "x": {
          "bdata": "GQAzAE0AZwCBAJsAtQDPAOkAAwEdATcBUQFrAYUBnwG5AdMB7QEHAiECOwJVAm8CiQKjAr0C1wLxAgsD",
          "dtype": "i2"
         },
         "xaxis": "x3",
         "y": {
          "bdata": "NxCaNxCazD+Sxx6Sx17XP8Z86sV8yts/IQVDIQUj3j+Y2xOY22PgP3PYLHPYjOE/V7ngVrkA4j8vQ34vQ37iP+PJNOPJFOM/dMB/dMAv4z/RGazQGdzjP4H/6ID/aOQ/BrfKBbcq5T/aWnHZWqHlP747Jb075eU/G32kGn1U5j9vT2BuT0DmP3kbTngbHuc/Ki+JKS9Z5z/CIRzCIaznP5LHHpLH7uc/OmyWOWw26D/etT/dtZ/oP8GW88CWw+g/JjHlJTEF6T+s0Bms0CnpP7sl1LolVOk/i8vWistW6T9+AUV9AaXpP6fqIqfqsuk/",
          "dtype": "f8"
         },
         "yaxis": "y3"
        },
        {
         "hovertemplate": "variable=validation_loss<br>step=%{x}<br>value=%{y}<extra></extra>",
         "legendgroup": "validation_loss",
         "line": {
          "color": "#00cc96",
          "dash": "solid"
         },
         "marker": {
          "symbol": "circle"
         },
         "mode": "lines",
         "name": "validation_loss",
         "orientation": "v",
         "showlegend": true,
         "type": "scatter",
         "x": {
          "bdata": "GQAzAE0AZwCBAJsAtQDPAOkAAwEdATcBUQFrAYUBnwG5AdMB7QEHAiECOwJVAm8CiQKjAr0C1wLxAgsD",
          "dtype": "i2"
         },
         "xaxis": "x2",
         "y": {
          "bdata": "AAAAwFCgBUBJkiTp+yUFQG7btm2c3QRAkiRJcg7HBEC3bdvW+6IEQNu2bRuUfwRAJUmSRH1zBEC3bdv2FnMEQAAAAIBAPARAbtu2jTVPBEC3bdu2+0gEQG7btm1eKQRA27Zteyw3BEBJkiQpxEQEQAAAAMBnKwRA27Ztu5UuBEAlSZKEKxwEQG7btk1GJARAbtu2TYwYBEAAAAAgCf4DQG7btu3IEgRAt23bNkgLBEBJkiTJNP0DQAAAAEAJCQRA27ZtG2EFBEAlSZJELhMEQLdt27aEAgRAbtu2jREABEBJkiSpeCIEQG7bto1y/QNA",
          "dtype": "f8"
         },
         "yaxis": "y2"
        },
        {
         "hovertemplate": "variable=validation_accuracy<br>step=%{x}<br>value=%{y}<extra></extra>",
         "legendgroup": "validation_accuracy",
         "line": {
          "color": "#ab63fa",
          "dash": "solid"
         },
         "marker": {
          "symbol": "circle"
         },
         "mode": "lines",
         "name": "validation_accuracy",
         "orientation": "v",
         "showlegend": true,
         "type": "scatter",
         "x": {
          "bdata": "GQAzAE0AZwCBAJsAtQDPAOkAAwEdATcBUQFrAYUBnwG5AdMB7QEHAiECOwJVAm8CiQKjAr0C1wLxAgsD",
          "dtype": "i2"
         },
         "xaxis": "x",
         "y": {
          "bdata": "ep7neZ5n0j+f53me57nVPz3P8zzPs9c/z/M8z/O82D9WVVVVVVXZP2EYhmEYhto/kiRJkiQJ2z/zPM/zPE/bPwAAAAAAwNw/8zzP8zwP3D+SJEmSJEncP1ZVVVVVld0/qqqqqqoq3T9u27Zt23bcPxiGYRiGId0/t23btm0b3T89z/M8z/PdPzEMwzAMw90/qqqqqqqq3T/P8zzP8/zeP2EYhmEYht4/qqqqqqpq3j9WVVVVVdXeP3qe53mep94/Pc/zPM+z3j+3bdu2bVveP5IkSZIkid4/ep7neZ4n3z+qqqqqqurdPzEMwzAMA98/",
          "dtype": "f8"
         },
         "yaxis": "y"
        }
       ],
       "layout": {
        "annotations": [
         {
          "font": {},
          "showarrow": false,
          "text": "variable=validation_accuracy",
          "textangle": 90,
          "x": 0.98,
          "xanchor": "left",
          "xref": "paper",
          "y": 0.11375,
          "yanchor": "middle",
          "yref": "paper"
         },
         {
          "font": {},
          "showarrow": false,
          "text": "variable=validation_loss",
          "textangle": 90,
          "x": 0.98,
          "xanchor": "left",
          "xref": "paper",
          "y": 0.37124999999999997,
          "yanchor": "middle",
          "yref": "paper"
         },
         {
          "font": {},
          "showarrow": false,
          "text": "variable=train_epoch_accuracy",
          "textangle": 90,
          "x": 0.98,
          "xanchor": "left",
          "xref": "paper",
          "y": 0.62875,
          "yanchor": "middle",
          "yref": "paper"
         },
         {
          "font": {},
          "showarrow": false,
          "text": "variable=train_epoch_loss",
          "textangle": 90,
          "x": 0.98,
          "xanchor": "left",
          "xref": "paper",
          "y": 0.88625,
          "yanchor": "middle",
          "yref": "paper"
         }
        ],
        "legend": {
         "title": {
          "text": "variable"
         },
         "tracegroupgap": 0
        },
        "template": {
         "data": {
          "bar": [
           {
            "error_x": {
             "color": "#2a3f5f"
            },
            "error_y": {
             "color": "#2a3f5f"
            },
            "marker": {
             "line": {
              "color": "#E5ECF6",
              "width": 0.5
             },
             "pattern": {
              "fillmode": "overlay",
              "size": 10,
              "solidity": 0.2
             }
            },
            "type": "bar"
           }
          ],
          "barpolar": [
           {
            "marker": {
             "line": {
              "color": "#E5ECF6",
              "width": 0.5
             },
             "pattern": {
              "fillmode": "overlay",
              "size": 10,
              "solidity": 0.2
             }
            },
            "type": "barpolar"
           }
          ],
          "carpet": [
           {
            "aaxis": {
             "endlinecolor": "#2a3f5f",
             "gridcolor": "white",
             "linecolor": "white",
             "minorgridcolor": "white",
             "startlinecolor": "#2a3f5f"
            },
            "baxis": {
             "endlinecolor": "#2a3f5f",
             "gridcolor": "white",
             "linecolor": "white",
             "minorgridcolor": "white",
             "startlinecolor": "#2a3f5f"
            },
            "type": "carpet"
           }
          ],
          "choropleth": [
           {
            "colorbar": {
             "outlinewidth": 0,
             "ticks": ""
            },
            "type": "choropleth"
           }
          ],
          "contour": [
           {
            "colorbar": {
             "outlinewidth": 0,
             "ticks": ""
            },
            "colorscale": [
             [
              0,
              "#0d0887"
             ],
             [
              0.1111111111111111,
              "#46039f"
             ],
             [
              0.2222222222222222,
              "#7201a8"
             ],
             [
              0.3333333333333333,
              "#9c179e"
             ],
             [
              0.4444444444444444,
              "#bd3786"
             ],
             [
              0.5555555555555556,
              "#d8576b"
             ],
             [
              0.6666666666666666,
              "#ed7953"
             ],
             [
              0.7777777777777778,
              "#fb9f3a"
             ],
             [
              0.8888888888888888,
              "#fdca26"
             ],
             [
              1,
              "#f0f921"
             ]
            ],
            "type": "contour"
           }
          ],
          "contourcarpet": [
           {
            "colorbar": {
             "outlinewidth": 0,
             "ticks": ""
            },
            "type": "contourcarpet"
           }
          ],
          "heatmap": [
           {
            "colorbar": {
             "outlinewidth": 0,
             "ticks": ""
            },
            "colorscale": [
             [
              0,
              "#0d0887"
             ],
             [
              0.1111111111111111,
              "#46039f"
             ],
             [
              0.2222222222222222,
              "#7201a8"
             ],
             [
              0.3333333333333333,
              "#9c179e"
             ],
             [
              0.4444444444444444,
              "#bd3786"
             ],
             [
              0.5555555555555556,
              "#d8576b"
             ],
             [
              0.6666666666666666,
              "#ed7953"
             ],
             [
              0.7777777777777778,
              "#fb9f3a"
             ],
             [
              0.8888888888888888,
              "#fdca26"
             ],
             [
              1,
              "#f0f921"
             ]
            ],
            "type": "heatmap"
           }
          ],
          "histogram": [
           {
            "marker": {
             "pattern": {
              "fillmode": "overlay",
              "size": 10,
              "solidity": 0.2
             }
            },
            "type": "histogram"
           }
          ],
          "histogram2d": [
           {
            "colorbar": {
             "outlinewidth": 0,
             "ticks": ""
            },
            "colorscale": [
             [
              0,
              "#0d0887"
             ],
             [
              0.1111111111111111,
              "#46039f"
             ],
             [
              0.2222222222222222,
              "#7201a8"
             ],
             [
              0.3333333333333333,
              "#9c179e"
             ],
             [
              0.4444444444444444,
              "#bd3786"
             ],
             [
              0.5555555555555556,
              "#d8576b"
             ],
             [
              0.6666666666666666,
              "#ed7953"
             ],
             [
              0.7777777777777778,
              "#fb9f3a"
             ],
             [
              0.8888888888888888,
              "#fdca26"
             ],
             [
              1,
              "#f0f921"
             ]
            ],
            "type": "histogram2d"
           }
          ],
          "histogram2dcontour": [
           {
            "colorbar": {
             "outlinewidth": 0,
             "ticks": ""
            },
            "colorscale": [
             [
              0,
              "#0d0887"
             ],
             [
              0.1111111111111111,
              "#46039f"
             ],
             [
              0.2222222222222222,
              "#7201a8"
             ],
             [
              0.3333333333333333,
              "#9c179e"
             ],
             [
              0.4444444444444444,
              "#bd3786"
             ],
             [
              0.5555555555555556,
              "#d8576b"
             ],
             [
              0.6666666666666666,
              "#ed7953"
             ],
             [
              0.7777777777777778,
              "#fb9f3a"
             ],
             [
              0.8888888888888888,
              "#fdca26"
             ],
             [
              1,
              "#f0f921"
             ]
            ],
            "type": "histogram2dcontour"
           }
          ],
          "mesh3d": [
           {
            "colorbar": {
             "outlinewidth": 0,
             "ticks": ""
            },
            "type": "mesh3d"
           }
          ],
          "parcoords": [
           {
            "line": {
             "colorbar": {
              "outlinewidth": 0,
              "ticks": ""
             }
            },
            "type": "parcoords"
           }
          ],
          "pie": [
           {
            "automargin": true,
            "type": "pie"
           }
          ],
          "scatter": [
           {
            "fillpattern": {
             "fillmode": "overlay",
             "size": 10,
             "solidity": 0.2
            },
            "type": "scatter"
           }
          ],
          "scatter3d": [
           {
            "line": {
             "colorbar": {
              "outlinewidth": 0,
              "ticks": ""
             }
            },
            "marker": {
             "colorbar": {
              "outlinewidth": 0,
              "ticks": ""
             }
            },
            "type": "scatter3d"
           }
          ],
          "scattercarpet": [
           {
            "marker": {
             "colorbar": {
              "outlinewidth": 0,
              "ticks": ""
             }
            },
            "type": "scattercarpet"
           }
          ],
          "scattergeo": [
           {
            "marker": {
             "colorbar": {
              "outlinewidth": 0,
              "ticks": ""
             }
            },
            "type": "scattergeo"
           }
          ],
          "scattergl": [
           {
            "marker": {
             "colorbar": {
              "outlinewidth": 0,
              "ticks": ""
             }
            },
            "type": "scattergl"
           }
          ],
          "scattermap": [
           {
            "marker": {
             "colorbar": {
              "outlinewidth": 0,
              "ticks": ""
             }
            },
            "type": "scattermap"
           }
          ],
          "scattermapbox": [
           {
            "marker": {
             "colorbar": {
              "outlinewidth": 0,
              "ticks": ""
             }
            },
            "type": "scattermapbox"
           }
          ],
          "scatterpolar": [
           {
            "marker": {
             "colorbar": {
              "outlinewidth": 0,
              "ticks": ""
             }
            },
            "type": "scatterpolar"
           }
          ],
          "scatterpolargl": [
           {
            "marker": {
             "colorbar": {
              "outlinewidth": 0,
              "ticks": ""
             }
            },
            "type": "scatterpolargl"
           }
          ],
          "scatterternary": [
           {
            "marker": {
             "colorbar": {
              "outlinewidth": 0,
              "ticks": ""
             }
            },
            "type": "scatterternary"
           }
          ],
          "surface": [
           {
            "colorbar": {
             "outlinewidth": 0,
             "ticks": ""
            },
            "colorscale": [
             [
              0,
              "#0d0887"
             ],
             [
              0.1111111111111111,
              "#46039f"
             ],
             [
              0.2222222222222222,
              "#7201a8"
             ],
             [
              0.3333333333333333,
              "#9c179e"
             ],
             [
              0.4444444444444444,
              "#bd3786"
             ],
             [
              0.5555555555555556,
              "#d8576b"
             ],
             [
              0.6666666666666666,
              "#ed7953"
             ],
             [
              0.7777777777777778,
              "#fb9f3a"
             ],
             [
              0.8888888888888888,
              "#fdca26"
             ],
             [
              1,
              "#f0f921"
             ]
            ],
            "type": "surface"
           }
          ],
          "table": [
           {
            "cells": {
             "fill": {
              "color": "#EBF0F8"
             },
             "line": {
              "color": "white"
             }
            },
            "header": {
             "fill": {
              "color": "#C8D4E3"
             },
             "line": {
              "color": "white"
             }
            },
            "type": "table"
           }
          ]
         },
         "layout": {
          "annotationdefaults": {
           "arrowcolor": "#2a3f5f",
           "arrowhead": 0,
           "arrowwidth": 1
          },
          "autotypenumbers": "strict",
          "coloraxis": {
           "colorbar": {
            "outlinewidth": 0,
            "ticks": ""
           }
          },
          "colorscale": {
           "diverging": [
            [
             0,
             "#8e0152"
            ],
            [
             0.1,
             "#c51b7d"
            ],
            [
             0.2,
             "#de77ae"
            ],
            [
             0.3,
             "#f1b6da"
            ],
            [
             0.4,
             "#fde0ef"
            ],
            [
             0.5,
             "#f7f7f7"
            ],
            [
             0.6,
             "#e6f5d0"
            ],
            [
             0.7,
             "#b8e186"
            ],
            [
             0.8,
             "#7fbc41"
            ],
            [
             0.9,
             "#4d9221"
            ],
            [
             1,
             "#276419"
            ]
           ],
           "sequential": [
            [
             0,
             "#0d0887"
            ],
            [
             0.1111111111111111,
             "#46039f"
            ],
            [
             0.2222222222222222,
             "#7201a8"
            ],
            [
             0.3333333333333333,
             "#9c179e"
            ],
            [
             0.4444444444444444,
             "#bd3786"
            ],
            [
             0.5555555555555556,
             "#d8576b"
            ],
            [
             0.6666666666666666,
             "#ed7953"
            ],
            [
             0.7777777777777778,
             "#fb9f3a"
            ],
            [
             0.8888888888888888,
             "#fdca26"
            ],
            [
             1,
             "#f0f921"
            ]
           ],
           "sequentialminus": [
            [
             0,
             "#0d0887"
            ],
            [
             0.1111111111111111,
             "#46039f"
            ],
            [
             0.2222222222222222,
             "#7201a8"
            ],
            [
             0.3333333333333333,
             "#9c179e"
            ],
            [
             0.4444444444444444,
             "#bd3786"
            ],
            [
             0.5555555555555556,
             "#d8576b"
            ],
            [
             0.6666666666666666,
             "#ed7953"
            ],
            [
             0.7777777777777778,
             "#fb9f3a"
            ],
            [
             0.8888888888888888,
             "#fdca26"
            ],
            [
             1,
             "#f0f921"
            ]
           ]
          },
          "colorway": [
           "#636efa",
           "#EF553B",
           "#00cc96",
           "#ab63fa",
           "#FFA15A",
           "#19d3f3",
           "#FF6692",
           "#B6E880",
           "#FF97FF",
           "#FECB52"
          ],
          "font": {
           "color": "#2a3f5f"
          },
          "geo": {
           "bgcolor": "white",
           "lakecolor": "white",
           "landcolor": "#E5ECF6",
           "showlakes": true,
           "showland": true,
           "subunitcolor": "white"
          },
          "hoverlabel": {
           "align": "left"
          },
          "hovermode": "closest",
          "mapbox": {
           "style": "light"
          },
          "paper_bgcolor": "white",
          "plot_bgcolor": "#E5ECF6",
          "polar": {
           "angularaxis": {
            "gridcolor": "white",
            "linecolor": "white",
            "ticks": ""
           },
           "bgcolor": "#E5ECF6",
           "radialaxis": {
            "gridcolor": "white",
            "linecolor": "white",
            "ticks": ""
           }
          },
          "scene": {
           "xaxis": {
            "backgroundcolor": "#E5ECF6",
            "gridcolor": "white",
            "gridwidth": 2,
            "linecolor": "white",
            "showbackground": true,
            "ticks": "",
            "zerolinecolor": "white"
           },
           "yaxis": {
            "backgroundcolor": "#E5ECF6",
            "gridcolor": "white",
            "gridwidth": 2,
            "linecolor": "white",
            "showbackground": true,
            "ticks": "",
            "zerolinecolor": "white"
           },
           "zaxis": {
            "backgroundcolor": "#E5ECF6",
            "gridcolor": "white",
            "gridwidth": 2,
            "linecolor": "white",
            "showbackground": true,
            "ticks": "",
            "zerolinecolor": "white"
           }
          },
          "shapedefaults": {
           "line": {
            "color": "#2a3f5f"
           }
          },
          "ternary": {
           "aaxis": {
            "gridcolor": "white",
            "linecolor": "white",
            "ticks": ""
           },
           "baxis": {
            "gridcolor": "white",
            "linecolor": "white",
            "ticks": ""
           },
           "bgcolor": "#E5ECF6",
           "caxis": {
            "gridcolor": "white",
            "linecolor": "white",
            "ticks": ""
           }
          },
          "title": {
           "x": 0.05
          },
          "xaxis": {
           "automargin": true,
           "gridcolor": "white",
           "linecolor": "white",
           "ticks": "",
           "title": {
            "standoff": 15
           },
           "zerolinecolor": "white",
           "zerolinewidth": 2
          },
          "yaxis": {
           "automargin": true,
           "gridcolor": "white",
           "linecolor": "white",
           "ticks": "",
           "title": {
            "standoff": 15
           },
           "zerolinecolor": "white",
           "zerolinewidth": 2
          }
         }
        },
        "title": {
         "text": "epoch metrics"
        },
        "xaxis": {
         "anchor": "y",
         "domain": [
          0,
          0.98
         ],
         "title": {
          "text": "step"
         }
        },
        "xaxis2": {
         "anchor": "y2",
         "domain": [
          0,
          0.98
         ],
         "matches": "x",
         "showticklabels": false
        },
        "xaxis3": {
         "anchor": "y3",
         "domain": [
          0,
          0.98
         ],
         "matches": "x",
         "showticklabels": false
        },
        "xaxis4": {
         "anchor": "y4",
         "domain": [
          0,
          0.98
         ],
         "matches": "x",
         "showticklabels": false
        },
        "yaxis": {
         "anchor": "x",
         "domain": [
          0,
          0.2275
         ],
         "title": {
          "text": "value"
         }
        },
        "yaxis2": {
         "anchor": "x2",
         "domain": [
          0.2575,
          0.485
         ],
         "title": {
          "text": "value"
         }
        },
        "yaxis3": {
         "anchor": "x3",
         "domain": [
          0.515,
          0.7425
         ],
         "title": {
          "text": "value"
         }
        },
        "yaxis4": {
         "anchor": "x4",
         "domain": [
          0.7725,
          1
         ],
         "title": {
          "text": "value"
         }
        }
       }
      }
     },
     "metadata": {},
     "output_type": "display_data"
    },
    {
     "name": "stdout",
     "output_type": "stream",
     "text": [
      "=========================\n",
      "training: 2\n"
     ]
    },
    {
     "data": {
      "application/vnd.jupyter.widget-view+json": {
       "model_id": "b9e14d76d9ab4062bc760979acf45415",
       "version_major": 2,
       "version_minor": 0
      },
      "text/plain": [
       "Output()"
      ]
     },
     "metadata": {},
     "output_type": "display_data"
    },
    {
     "data": {
      "text/html": [
       "<pre style=\"white-space:pre;overflow-x:auto;line-height:normal;font-family:Menlo,'DejaVu Sans Mono',consolas,'Courier New',monospace\"></pre>\n"
      ],
      "text/plain": []
     },
     "metadata": {},
     "output_type": "display_data"
    },
    {
     "data": {
      "application/vnd.plotly.v1+json": {
       "config": {
        "plotlyServerURL": "https://plot.ly"
       },
       "data": [
        {
         "hovertemplate": "variable=batch_train_loss<br>step=%{x}<br>value=%{y}<extra></extra>",
         "legendgroup": "",
         "marker": {
          "color": "#636efa",
          "symbol": "circle"
         },
         "mode": "markers",
         "name": "",
         "showlegend": false,
         "type": "scattergl",
         "x": {
          "bdata": "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",
          "dtype": "i2"
         },
         "xaxis": "x2",
         "y": {
          "bdata": "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",
          "dtype": "f8"
         },
         "yaxis": "y2"
        },
        {
         "hovertemplate": "<b>Exponentially Weighted mean trendline</b><br><br>variable=batch_train_loss<br>step=%{x}<br>value=%{y} <b>(trend)</b><extra></extra>",
         "legendgroup": "",
         "line": {
          "color": "red"
         },
         "marker": {
          "color": "#636efa",
          "symbol": "circle"
         },
         "mode": "lines",
         "name": "",
         "showlegend": false,
         "type": "scattergl",
         "x": {
          "bdata": "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",
          "dtype": "i2"
         },
         "xaxis": "x2",
         "y": {
          "bdata": "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",
          "dtype": "f8"
         },
         "yaxis": "y2"
        },
        {
         "hovertemplate": "variable=batch_accuracy<br>step=%{x}<br>value=%{y}<extra></extra>",
         "legendgroup": "",
         "marker": {
          "color": "#636efa",
          "symbol": "circle"
         },
         "mode": "markers",
         "name": "",
         "showlegend": false,
         "type": "scattergl",
         "x": {
          "bdata": "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",
          "dtype": "i2"
         },
         "xaxis": "x",
         "y": {
          "bdata": "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",
          "dtype": "f8"
         },
         "yaxis": "y"
        },
        {
         "hovertemplate": "<b>Exponentially Weighted mean trendline</b><br><br>variable=batch_accuracy<br>step=%{x}<br>value=%{y} <b>(trend)</b><extra></extra>",
         "legendgroup": "",
         "line": {
          "color": "red"
         },
         "marker": {
          "color": "#636efa",
          "symbol": "circle"
         },
         "mode": "lines",
         "name": "",
         "showlegend": false,
         "type": "scattergl",
         "x": {
          "bdata": "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",
          "dtype": "i2"
         },
         "xaxis": "x",
         "y": {
          "bdata": "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",
          "dtype": "f8"
         },
         "yaxis": "y"
        }
       ],
       "layout": {
        "annotations": [
         {
          "font": {},
          "showarrow": false,
          "text": "variable=batch_accuracy",
          "textangle": 90,
          "x": 0.98,
          "xanchor": "left",
          "xref": "paper",
          "y": 0.2425,
          "yanchor": "middle",
          "yref": "paper"
         },
         {
          "font": {},
          "showarrow": false,
          "text": "variable=batch_train_loss",
          "textangle": 90,
          "x": 0.98,
          "xanchor": "left",
          "xref": "paper",
          "y": 0.7575000000000001,
          "yanchor": "middle",
          "yref": "paper"
         }
        ],
        "legend": {
         "tracegroupgap": 0
        },
        "template": {
         "data": {
          "bar": [
           {
            "error_x": {
             "color": "#2a3f5f"
            },
            "error_y": {
             "color": "#2a3f5f"
            },
            "marker": {
             "line": {
              "color": "#E5ECF6",
              "width": 0.5
             },
             "pattern": {
              "fillmode": "overlay",
              "size": 10,
              "solidity": 0.2
             }
            },
            "type": "bar"
           }
          ],
          "barpolar": [
           {
            "marker": {
             "line": {
              "color": "#E5ECF6",
              "width": 0.5
             },
             "pattern": {
              "fillmode": "overlay",
              "size": 10,
              "solidity": 0.2
             }
            },
            "type": "barpolar"
           }
          ],
          "carpet": [
           {
            "aaxis": {
             "endlinecolor": "#2a3f5f",
             "gridcolor": "white",
             "linecolor": "white",
             "minorgridcolor": "white",
             "startlinecolor": "#2a3f5f"
            },
            "baxis": {
             "endlinecolor": "#2a3f5f",
             "gridcolor": "white",
             "linecolor": "white",
             "minorgridcolor": "white",
             "startlinecolor": "#2a3f5f"
            },
            "type": "carpet"
           }
          ],
          "choropleth": [
           {
            "colorbar": {
             "outlinewidth": 0,
             "ticks": ""
            },
            "type": "choropleth"
           }
          ],
          "contour": [
           {
            "colorbar": {
             "outlinewidth": 0,
             "ticks": ""
            },
            "colorscale": [
             [
              0,
              "#0d0887"
             ],
             [
              0.1111111111111111,
              "#46039f"
             ],
             [
              0.2222222222222222,
              "#7201a8"
             ],
             [
              0.3333333333333333,
              "#9c179e"
             ],
             [
              0.4444444444444444,
              "#bd3786"
             ],
             [
              0.5555555555555556,
              "#d8576b"
             ],
             [
              0.6666666666666666,
              "#ed7953"
             ],
             [
              0.7777777777777778,
              "#fb9f3a"
             ],
             [
              0.8888888888888888,
              "#fdca26"
             ],
             [
              1,
              "#f0f921"
             ]
            ],
            "type": "contour"
           }
          ],
          "contourcarpet": [
           {
            "colorbar": {
             "outlinewidth": 0,
             "ticks": ""
            },
            "type": "contourcarpet"
           }
          ],
          "heatmap": [
           {
            "colorbar": {
             "outlinewidth": 0,
             "ticks": ""
            },
            "colorscale": [
             [
              0,
              "#0d0887"
             ],
             [
              0.1111111111111111,
              "#46039f"
             ],
             [
              0.2222222222222222,
              "#7201a8"
             ],
             [
              0.3333333333333333,
              "#9c179e"
             ],
             [
              0.4444444444444444,
              "#bd3786"
             ],
             [
              0.5555555555555556,
              "#d8576b"
             ],
             [
              0.6666666666666666,
              "#ed7953"
             ],
             [
              0.7777777777777778,
              "#fb9f3a"
             ],
             [
              0.8888888888888888,
              "#fdca26"
             ],
             [
              1,
              "#f0f921"
             ]
            ],
            "type": "heatmap"
           }
          ],
          "histogram": [
           {
            "marker": {
             "pattern": {
              "fillmode": "overlay",
              "size": 10,
              "solidity": 0.2
             }
            },
            "type": "histogram"
           }
          ],
          "histogram2d": [
           {
            "colorbar": {
             "outlinewidth": 0,
             "ticks": ""
            },
            "colorscale": [
             [
              0,
              "#0d0887"
             ],
             [
              0.1111111111111111,
              "#46039f"
             ],
             [
              0.2222222222222222,
              "#7201a8"
             ],
             [
              0.3333333333333333,
              "#9c179e"
             ],
             [
              0.4444444444444444,
              "#bd3786"
             ],
             [
              0.5555555555555556,
              "#d8576b"
             ],
             [
              0.6666666666666666,
              "#ed7953"
             ],
             [
              0.7777777777777778,
              "#fb9f3a"
             ],
             [
              0.8888888888888888,
              "#fdca26"
             ],
             [
              1,
              "#f0f921"
             ]
            ],
            "type": "histogram2d"
           }
          ],
          "histogram2dcontour": [
           {
            "colorbar": {
             "outlinewidth": 0,
             "ticks": ""
            },
            "colorscale": [
             [
              0,
              "#0d0887"
             ],
             [
              0.1111111111111111,
              "#46039f"
             ],
             [
              0.2222222222222222,
              "#7201a8"
             ],
             [
              0.3333333333333333,
              "#9c179e"
             ],
             [
              0.4444444444444444,
              "#bd3786"
             ],
             [
              0.5555555555555556,
              "#d8576b"
             ],
             [
              0.6666666666666666,
              "#ed7953"
             ],
             [
              0.7777777777777778,
              "#fb9f3a"
             ],
             [
              0.8888888888888888,
              "#fdca26"
             ],
             [
              1,
              "#f0f921"
             ]
            ],
            "type": "histogram2dcontour"
           }
          ],
          "mesh3d": [
           {
            "colorbar": {
             "outlinewidth": 0,
             "ticks": ""
            },
            "type": "mesh3d"
           }
          ],
          "parcoords": [
           {
            "line": {
             "colorbar": {
              "outlinewidth": 0,
              "ticks": ""
             }
            },
            "type": "parcoords"
           }
          ],
          "pie": [
           {
            "automargin": true,
            "type": "pie"
           }
          ],
          "scatter": [
           {
            "fillpattern": {
             "fillmode": "overlay",
             "size": 10,
             "solidity": 0.2
            },
            "type": "scatter"
           }
          ],
          "scatter3d": [
           {
            "line": {
             "colorbar": {
              "outlinewidth": 0,
              "ticks": ""
             }
            },
            "marker": {
             "colorbar": {
              "outlinewidth": 0,
              "ticks": ""
             }
            },
            "type": "scatter3d"
           }
          ],
          "scattercarpet": [
           {
            "marker": {
             "colorbar": {
              "outlinewidth": 0,
              "ticks": ""
             }
            },
            "type": "scattercarpet"
           }
          ],
          "scattergeo": [
           {
            "marker": {
             "colorbar": {
              "outlinewidth": 0,
              "ticks": ""
             }
            },
            "type": "scattergeo"
           }
          ],
          "scattergl": [
           {
            "marker": {
             "colorbar": {
              "outlinewidth": 0,
              "ticks": ""
             }
            },
            "type": "scattergl"
           }
          ],
          "scattermap": [
           {
            "marker": {
             "colorbar": {
              "outlinewidth": 0,
              "ticks": ""
             }
            },
            "type": "scattermap"
           }
          ],
          "scattermapbox": [
           {
            "marker": {
             "colorbar": {
              "outlinewidth": 0,
              "ticks": ""
             }
            },
            "type": "scattermapbox"
           }
          ],
          "scatterpolar": [
           {
            "marker": {
             "colorbar": {
              "outlinewidth": 0,
              "ticks": ""
             }
            },
            "type": "scatterpolar"
           }
          ],
          "scatterpolargl": [
           {
            "marker": {
             "colorbar": {
              "outlinewidth": 0,
              "ticks": ""
             }
            },
            "type": "scatterpolargl"
           }
          ],
          "scatterternary": [
           {
            "marker": {
             "colorbar": {
              "outlinewidth": 0,
              "ticks": ""
             }
            },
            "type": "scatterternary"
           }
          ],
          "surface": [
           {
            "colorbar": {
             "outlinewidth": 0,
             "ticks": ""
            },
            "colorscale": [
             [
              0,
              "#0d0887"
             ],
             [
              0.1111111111111111,
              "#46039f"
             ],
             [
              0.2222222222222222,
              "#7201a8"
             ],
             [
              0.3333333333333333,
              "#9c179e"
             ],
             [
              0.4444444444444444,
              "#bd3786"
             ],
             [
              0.5555555555555556,
              "#d8576b"
             ],
             [
              0.6666666666666666,
              "#ed7953"
             ],
             [
              0.7777777777777778,
              "#fb9f3a"
             ],
             [
              0.8888888888888888,
              "#fdca26"
             ],
             [
              1,
              "#f0f921"
             ]
            ],
            "type": "surface"
           }
          ],
          "table": [
           {
            "cells": {
             "fill": {
              "color": "#EBF0F8"
             },
             "line": {
              "color": "white"
             }
            },
            "header": {
             "fill": {
              "color": "#C8D4E3"
             },
             "line": {
              "color": "white"
             }
            },
            "type": "table"
           }
          ]
         },
         "layout": {
          "annotationdefaults": {
           "arrowcolor": "#2a3f5f",
           "arrowhead": 0,
           "arrowwidth": 1
          },
          "autotypenumbers": "strict",
          "coloraxis": {
           "colorbar": {
            "outlinewidth": 0,
            "ticks": ""
           }
          },
          "colorscale": {
           "diverging": [
            [
             0,
             "#8e0152"
            ],
            [
             0.1,
             "#c51b7d"
            ],
            [
             0.2,
             "#de77ae"
            ],
            [
             0.3,
             "#f1b6da"
            ],
            [
             0.4,
             "#fde0ef"
            ],
            [
             0.5,
             "#f7f7f7"
            ],
            [
             0.6,
             "#e6f5d0"
            ],
            [
             0.7,
             "#b8e186"
            ],
            [
             0.8,
             "#7fbc41"
            ],
            [
             0.9,
             "#4d9221"
            ],
            [
             1,
             "#276419"
            ]
           ],
           "sequential": [
            [
             0,
             "#0d0887"
            ],
            [
             0.1111111111111111,
             "#46039f"
            ],
            [
             0.2222222222222222,
             "#7201a8"
            ],
            [
             0.3333333333333333,
             "#9c179e"
            ],
            [
             0.4444444444444444,
             "#bd3786"
            ],
            [
             0.5555555555555556,
             "#d8576b"
            ],
            [
             0.6666666666666666,
             "#ed7953"
            ],
            [
             0.7777777777777778,
             "#fb9f3a"
            ],
            [
             0.8888888888888888,
             "#fdca26"
            ],
            [
             1,
             "#f0f921"
            ]
           ],
           "sequentialminus": [
            [
             0,
             "#0d0887"
            ],
            [
             0.1111111111111111,
             "#46039f"
            ],
            [
             0.2222222222222222,
             "#7201a8"
            ],
            [
             0.3333333333333333,
             "#9c179e"
            ],
            [
             0.4444444444444444,
             "#bd3786"
            ],
            [
             0.5555555555555556,
             "#d8576b"
            ],
            [
             0.6666666666666666,
             "#ed7953"
            ],
            [
             0.7777777777777778,
             "#fb9f3a"
            ],
            [
             0.8888888888888888,
             "#fdca26"
            ],
            [
             1,
             "#f0f921"
            ]
           ]
          },
          "colorway": [
           "#636efa",
           "#EF553B",
           "#00cc96",
           "#ab63fa",
           "#FFA15A",
           "#19d3f3",
           "#FF6692",
           "#B6E880",
           "#FF97FF",
           "#FECB52"
          ],
          "font": {
           "color": "#2a3f5f"
          },
          "geo": {
           "bgcolor": "white",
           "lakecolor": "white",
           "landcolor": "#E5ECF6",
           "showlakes": true,
           "showland": true,
           "subunitcolor": "white"
          },
          "hoverlabel": {
           "align": "left"
          },
          "hovermode": "closest",
          "mapbox": {
           "style": "light"
          },
          "paper_bgcolor": "white",
          "plot_bgcolor": "#E5ECF6",
          "polar": {
           "angularaxis": {
            "gridcolor": "white",
            "linecolor": "white",
            "ticks": ""
           },
           "bgcolor": "#E5ECF6",
           "radialaxis": {
            "gridcolor": "white",
            "linecolor": "white",
            "ticks": ""
           }
          },
          "scene": {
           "xaxis": {
            "backgroundcolor": "#E5ECF6",
            "gridcolor": "white",
            "gridwidth": 2,
            "linecolor": "white",
            "showbackground": true,
            "ticks": "",
            "zerolinecolor": "white"
           },
           "yaxis": {
            "backgroundcolor": "#E5ECF6",
            "gridcolor": "white",
            "gridwidth": 2,
            "linecolor": "white",
            "showbackground": true,
            "ticks": "",
            "zerolinecolor": "white"
           },
           "zaxis": {
            "backgroundcolor": "#E5ECF6",
            "gridcolor": "white",
            "gridwidth": 2,
            "linecolor": "white",
            "showbackground": true,
            "ticks": "",
            "zerolinecolor": "white"
           }
          },
          "shapedefaults": {
           "line": {
            "color": "#2a3f5f"
           }
          },
          "ternary": {
           "aaxis": {
            "gridcolor": "white",
            "linecolor": "white",
            "ticks": ""
           },
           "baxis": {
            "gridcolor": "white",
            "linecolor": "white",
            "ticks": ""
           },
           "bgcolor": "#E5ECF6",
           "caxis": {
            "gridcolor": "white",
            "linecolor": "white",
            "ticks": ""
           }
          },
          "title": {
           "x": 0.05
          },
          "xaxis": {
           "automargin": true,
           "gridcolor": "white",
           "linecolor": "white",
           "ticks": "",
           "title": {
            "standoff": 15
           },
           "zerolinecolor": "white",
           "zerolinewidth": 2
          },
          "yaxis": {
           "automargin": true,
           "gridcolor": "white",
           "linecolor": "white",
           "ticks": "",
           "title": {
            "standoff": 15
           },
           "zerolinecolor": "white",
           "zerolinewidth": 2
          }
         }
        },
        "title": {
         "text": "batch metrics"
        },
        "xaxis": {
         "anchor": "y",
         "domain": [
          0,
          0.98
         ],
         "title": {
          "text": "step"
         }
        },
        "xaxis2": {
         "anchor": "y2",
         "domain": [
          0,
          0.98
         ],
         "matches": "x",
         "showticklabels": false
        },
        "yaxis": {
         "anchor": "x",
         "domain": [
          0,
          0.485
         ],
         "title": {
          "text": "value"
         }
        },
        "yaxis2": {
         "anchor": "x2",
         "domain": [
          0.515,
          1
         ],
         "title": {
          "text": "value"
         }
        }
       }
      }
     },
     "metadata": {},
     "output_type": "display_data"
    },
    {
     "data": {
      "application/vnd.plotly.v1+json": {
       "config": {
        "plotlyServerURL": "https://plot.ly"
       },
       "data": [
        {
         "hovertemplate": "variable=train_epoch_loss<br>step=%{x}<br>value=%{y}<extra></extra>",
         "legendgroup": "train_epoch_loss",
         "line": {
          "color": "#636efa",
          "dash": "solid"
         },
         "marker": {
          "symbol": "circle"
         },
         "mode": "lines",
         "name": "train_epoch_loss",
         "orientation": "v",
         "showlegend": true,
         "type": "scatter",
         "x": {
          "bdata": "GQAzAE0AZwCBAJsAtQDPAOkAAwEdATcBUQFrAYUBnwG5AdMB7QEHAiECOwJVAm8CiQKjAr0C1wLxAgsD",
          "dtype": "i2"
         },
         "xaxis": "x4",
         "y": {
          "bdata": "xU7sBHL/BUBP7MRuggAFQDuxExuWpARAAAAAgGRaBEDsxE7cYB4EQGIndsI25QNAsRM7QQTFA0Ce2IkNVZwDQGIndgJegQNAxU7sJDtjA0AUO7Gjc0oDQGIndsItOQNA2Ymd6OkfA0DZiZ3ICBoDQIqd2Mn9BANAsRM7cVTwAkA7sRNLN9gCQLETO1FGzgJAYid2ItyoAkCxEzvhmaICQAAAALC8jQJAFDux05qBAkDZiZ0YHHUCQLETO6EyXwJAT+zEHolaAkCe2ImN/k8CQGIndkKvPAJAFDux02lDAkDsxE78pTQCQCd2YodRIgJA",
          "dtype": "f8"
         },
         "yaxis": "y4"
        },
        {
         "hovertemplate": "variable=train_epoch_accuracy<br>step=%{x}<br>value=%{y}<extra></extra>",
         "legendgroup": "train_epoch_accuracy",
         "line": {
          "color": "#EF553B",
          "dash": "solid"
         },
         "marker": {
          "symbol": "circle"
         },
         "mode": "lines",
         "name": "train_epoch_accuracy",
         "orientation": "v",
         "showlegend": true,
         "type": "scatter",
         "x": {
          "bdata": "GQAzAE0AZwCBAJsAtQDPAOkAAwEdATcBUQFrAYUBnwG5AdMB7QEHAiECOwJVAm8CiQKjAr0C1wLxAgsD",
          "dtype": "i2"
         },
         "xaxis": "x3",
         "y": {
          "bdata": "x02+xk1+zj9wN7NvN/PWP/oxtvkx1tk/5IOJ44Mp3D9Je6VIeyXeP9yHQdyH4d8/InnsIXmM4D8SPN8RPB/hP0gH/EcHjOE//I2y+43y4T/XisvWimviP+k6VOk6tOI/hxPehhMO4z/XisvWiivjP8Q3bcQ3feM/H3tIHnvI4z+WxcKVxSLkP+Y8sOU8UOQ/QICLP4D75D/U6VHT6QHlPyxF2itFWuU/HvAfHfCP5T8CXPwBXMzlPzCgqC+gCOY/hBU6gxUq5j8RDuEQDlHmPw+bZQ6bleY/4j4M4j6M5j/OeDLNeMLmP4n7MIj7AOc/",
          "dtype": "f8"
         },
         "yaxis": "y3"
        },
        {
         "hovertemplate": "variable=validation_loss<br>step=%{x}<br>value=%{y}<extra></extra>",
         "legendgroup": "validation_loss",
         "line": {
          "color": "#00cc96",
          "dash": "solid"
         },
         "marker": {
          "symbol": "circle"
         },
         "mode": "lines",
         "name": "validation_loss",
         "orientation": "v",
         "showlegend": true,
         "type": "scatter",
         "x": {
          "bdata": "GQAzAE0AZwCBAJsAtQDPAOkAAwEdATcBUQFrAYUBnwG5AdMB7QEHAiECOwJVAm8CiQKjAr0C1wLxAgsD",
          "dtype": "i2"
         },
         "xaxis": "x2",
         "y": {
          "bdata": "JUmSpGmuBUBu27YtoDUFQLdt29aJEgVAt23b9rvdBEAlSZLkxtEEQCVJkqQ+qwRAAAAAQKGdBEBu27YtM5UEQG7btm3NhwRAJUmSBICMBECSJEmS0WoEQAAAACA2iwRAkiRJ0ht4BEAAAACA6XMEQCVJksQkZwRA27ZtWwJgBEAAAAAggG0EQEmSJEnSXwRA27Ztm8xlBEAAAADAAGoEQNu2bdsmZARAbtu2zeNfBEDbtm17blEEQJIkSTILcwRAkiRJcsdnBEDbtm37EU0EQNu2bdsRVARAkiRJcoR0BEAlSZLEMlQEQJIkSTLBZARA",
          "dtype": "f8"
         },
         "yaxis": "y2"
        },
        {
         "hovertemplate": "variable=validation_accuracy<br>step=%{x}<br>value=%{y}<extra></extra>",
         "legendgroup": "validation_accuracy",
         "line": {
          "color": "#ab63fa",
          "dash": "solid"
         },
         "marker": {
          "symbol": "circle"
         },
         "mode": "lines",
         "name": "validation_accuracy",
         "orientation": "v",
         "showlegend": true,
         "type": "scatter",
         "x": {
          "bdata": "GQAzAE0AZwCBAJsAtQDPAOkAAwEdATcBUQFrAYUBnwG5AdMB7QEHAiECOwJVAm8CiQKjAr0C1wLxAgsD",
          "dtype": "i2"
         },
         "xaxis": "x",
         "y": {
          "bdata": "GIZhGIbh0j96nud5nmfVP6qqqqqq6tU/8zzP8zwP2D+f53me5znYP8MwDMMwzNg/wzAMwzDM2T9WVVVVVRXaP3qe53mep9o/btu2bdt22j/oeZ7neV7bP4ZhGIZhGNo/wzAMwzAM2z/btm3btu3aP5IkSZIkyds/27Zt27at2z/DMAzDMIzbPwAAAAAAANw/AAAAAACA2z+f53me5znbP/M8z/M8j9s/AAAAAADA2z9WVVVVVVXcP0mSJEmSZNs/kiRJkiQJ3D+SJEmSJEncP3qe53meJ9w/hmEYhmEY2z96nud5nmfcP8/zPM/zvNs/",
          "dtype": "f8"
         },
         "yaxis": "y"
        }
       ],
       "layout": {
        "annotations": [
         {
          "font": {},
          "showarrow": false,
          "text": "variable=validation_accuracy",
          "textangle": 90,
          "x": 0.98,
          "xanchor": "left",
          "xref": "paper",
          "y": 0.11375,
          "yanchor": "middle",
          "yref": "paper"
         },
         {
          "font": {},
          "showarrow": false,
          "text": "variable=validation_loss",
          "textangle": 90,
          "x": 0.98,
          "xanchor": "left",
          "xref": "paper",
          "y": 0.37124999999999997,
          "yanchor": "middle",
          "yref": "paper"
         },
         {
          "font": {},
          "showarrow": false,
          "text": "variable=train_epoch_accuracy",
          "textangle": 90,
          "x": 0.98,
          "xanchor": "left",
          "xref": "paper",
          "y": 0.62875,
          "yanchor": "middle",
          "yref": "paper"
         },
         {
          "font": {},
          "showarrow": false,
          "text": "variable=train_epoch_loss",
          "textangle": 90,
          "x": 0.98,
          "xanchor": "left",
          "xref": "paper",
          "y": 0.88625,
          "yanchor": "middle",
          "yref": "paper"
         }
        ],
        "legend": {
         "title": {
          "text": "variable"
         },
         "tracegroupgap": 0
        },
        "template": {
         "data": {
          "bar": [
           {
            "error_x": {
             "color": "#2a3f5f"
            },
            "error_y": {
             "color": "#2a3f5f"
            },
            "marker": {
             "line": {
              "color": "#E5ECF6",
              "width": 0.5
             },
             "pattern": {
              "fillmode": "overlay",
              "size": 10,
              "solidity": 0.2
             }
            },
            "type": "bar"
           }
          ],
          "barpolar": [
           {
            "marker": {
             "line": {
              "color": "#E5ECF6",
              "width": 0.5
             },
             "pattern": {
              "fillmode": "overlay",
              "size": 10,
              "solidity": 0.2
             }
            },
            "type": "barpolar"
           }
          ],
          "carpet": [
           {
            "aaxis": {
             "endlinecolor": "#2a3f5f",
             "gridcolor": "white",
             "linecolor": "white",
             "minorgridcolor": "white",
             "startlinecolor": "#2a3f5f"
            },
            "baxis": {
             "endlinecolor": "#2a3f5f",
             "gridcolor": "white",
             "linecolor": "white",
             "minorgridcolor": "white",
             "startlinecolor": "#2a3f5f"
            },
            "type": "carpet"
           }
          ],
          "choropleth": [
           {
            "colorbar": {
             "outlinewidth": 0,
             "ticks": ""
            },
            "type": "choropleth"
           }
          ],
          "contour": [
           {
            "colorbar": {
             "outlinewidth": 0,
             "ticks": ""
            },
            "colorscale": [
             [
              0,
              "#0d0887"
             ],
             [
              0.1111111111111111,
              "#46039f"
             ],
             [
              0.2222222222222222,
              "#7201a8"
             ],
             [
              0.3333333333333333,
              "#9c179e"
             ],
             [
              0.4444444444444444,
              "#bd3786"
             ],
             [
              0.5555555555555556,
              "#d8576b"
             ],
             [
              0.6666666666666666,
              "#ed7953"
             ],
             [
              0.7777777777777778,
              "#fb9f3a"
             ],
             [
              0.8888888888888888,
              "#fdca26"
             ],
             [
              1,
              "#f0f921"
             ]
            ],
            "type": "contour"
           }
          ],
          "contourcarpet": [
           {
            "colorbar": {
             "outlinewidth": 0,
             "ticks": ""
            },
            "type": "contourcarpet"
           }
          ],
          "heatmap": [
           {
            "colorbar": {
             "outlinewidth": 0,
             "ticks": ""
            },
            "colorscale": [
             [
              0,
              "#0d0887"
             ],
             [
              0.1111111111111111,
              "#46039f"
             ],
             [
              0.2222222222222222,
              "#7201a8"
             ],
             [
              0.3333333333333333,
              "#9c179e"
             ],
             [
              0.4444444444444444,
              "#bd3786"
             ],
             [
              0.5555555555555556,
              "#d8576b"
             ],
             [
              0.6666666666666666,
              "#ed7953"
             ],
             [
              0.7777777777777778,
              "#fb9f3a"
             ],
             [
              0.8888888888888888,
              "#fdca26"
             ],
             [
              1,
              "#f0f921"
             ]
            ],
            "type": "heatmap"
           }
          ],
          "histogram": [
           {
            "marker": {
             "pattern": {
              "fillmode": "overlay",
              "size": 10,
              "solidity": 0.2
             }
            },
            "type": "histogram"
           }
          ],
          "histogram2d": [
           {
            "colorbar": {
             "outlinewidth": 0,
             "ticks": ""
            },
            "colorscale": [
             [
              0,
              "#0d0887"
             ],
             [
              0.1111111111111111,
              "#46039f"
             ],
             [
              0.2222222222222222,
              "#7201a8"
             ],
             [
              0.3333333333333333,
              "#9c179e"
             ],
             [
              0.4444444444444444,
              "#bd3786"
             ],
             [
              0.5555555555555556,
              "#d8576b"
             ],
             [
              0.6666666666666666,
              "#ed7953"
             ],
             [
              0.7777777777777778,
              "#fb9f3a"
             ],
             [
              0.8888888888888888,
              "#fdca26"
             ],
             [
              1,
              "#f0f921"
             ]
            ],
            "type": "histogram2d"
           }
          ],
          "histogram2dcontour": [
           {
            "colorbar": {
             "outlinewidth": 0,
             "ticks": ""
            },
            "colorscale": [
             [
              0,
              "#0d0887"
             ],
             [
              0.1111111111111111,
              "#46039f"
             ],
             [
              0.2222222222222222,
              "#7201a8"
             ],
             [
              0.3333333333333333,
              "#9c179e"
             ],
             [
              0.4444444444444444,
              "#bd3786"
             ],
             [
              0.5555555555555556,
              "#d8576b"
             ],
             [
              0.6666666666666666,
              "#ed7953"
             ],
             [
              0.7777777777777778,
              "#fb9f3a"
             ],
             [
              0.8888888888888888,
              "#fdca26"
             ],
             [
              1,
              "#f0f921"
             ]
            ],
            "type": "histogram2dcontour"
           }
          ],
          "mesh3d": [
           {
            "colorbar": {
             "outlinewidth": 0,
             "ticks": ""
            },
            "type": "mesh3d"
           }
          ],
          "parcoords": [
           {
            "line": {
             "colorbar": {
              "outlinewidth": 0,
              "ticks": ""
             }
            },
            "type": "parcoords"
           }
          ],
          "pie": [
           {
            "automargin": true,
            "type": "pie"
           }
          ],
          "scatter": [
           {
            "fillpattern": {
             "fillmode": "overlay",
             "size": 10,
             "solidity": 0.2
            },
            "type": "scatter"
           }
          ],
          "scatter3d": [
           {
            "line": {
             "colorbar": {
              "outlinewidth": 0,
              "ticks": ""
             }
            },
            "marker": {
             "colorbar": {
              "outlinewidth": 0,
              "ticks": ""
             }
            },
            "type": "scatter3d"
           }
          ],
          "scattercarpet": [
           {
            "marker": {
             "colorbar": {
              "outlinewidth": 0,
              "ticks": ""
             }
            },
            "type": "scattercarpet"
           }
          ],
          "scattergeo": [
           {
            "marker": {
             "colorbar": {
              "outlinewidth": 0,
              "ticks": ""
             }
            },
            "type": "scattergeo"
           }
          ],
          "scattergl": [
           {
            "marker": {
             "colorbar": {
              "outlinewidth": 0,
              "ticks": ""
             }
            },
            "type": "scattergl"
           }
          ],
          "scattermap": [
           {
            "marker": {
             "colorbar": {
              "outlinewidth": 0,
              "ticks": ""
             }
            },
            "type": "scattermap"
           }
          ],
          "scattermapbox": [
           {
            "marker": {
             "colorbar": {
              "outlinewidth": 0,
              "ticks": ""
             }
            },
            "type": "scattermapbox"
           }
          ],
          "scatterpolar": [
           {
            "marker": {
             "colorbar": {
              "outlinewidth": 0,
              "ticks": ""
             }
            },
            "type": "scatterpolar"
           }
          ],
          "scatterpolargl": [
           {
            "marker": {
             "colorbar": {
              "outlinewidth": 0,
              "ticks": ""
             }
            },
            "type": "scatterpolargl"
           }
          ],
          "scatterternary": [
           {
            "marker": {
             "colorbar": {
              "outlinewidth": 0,
              "ticks": ""
             }
            },
            "type": "scatterternary"
           }
          ],
          "surface": [
           {
            "colorbar": {
             "outlinewidth": 0,
             "ticks": ""
            },
            "colorscale": [
             [
              0,
              "#0d0887"
             ],
             [
              0.1111111111111111,
              "#46039f"
             ],
             [
              0.2222222222222222,
              "#7201a8"
             ],
             [
              0.3333333333333333,
              "#9c179e"
             ],
             [
              0.4444444444444444,
              "#bd3786"
             ],
             [
              0.5555555555555556,
              "#d8576b"
             ],
             [
              0.6666666666666666,
              "#ed7953"
             ],
             [
              0.7777777777777778,
              "#fb9f3a"
             ],
             [
              0.8888888888888888,
              "#fdca26"
             ],
             [
              1,
              "#f0f921"
             ]
            ],
            "type": "surface"
           }
          ],
          "table": [
           {
            "cells": {
             "fill": {
              "color": "#EBF0F8"
             },
             "line": {
              "color": "white"
             }
            },
            "header": {
             "fill": {
              "color": "#C8D4E3"
             },
             "line": {
              "color": "white"
             }
            },
            "type": "table"
           }
          ]
         },
         "layout": {
          "annotationdefaults": {
           "arrowcolor": "#2a3f5f",
           "arrowhead": 0,
           "arrowwidth": 1
          },
          "autotypenumbers": "strict",
          "coloraxis": {
           "colorbar": {
            "outlinewidth": 0,
            "ticks": ""
           }
          },
          "colorscale": {
           "diverging": [
            [
             0,
             "#8e0152"
            ],
            [
             0.1,
             "#c51b7d"
            ],
            [
             0.2,
             "#de77ae"
            ],
            [
             0.3,
             "#f1b6da"
            ],
            [
             0.4,
             "#fde0ef"
            ],
            [
             0.5,
             "#f7f7f7"
            ],
            [
             0.6,
             "#e6f5d0"
            ],
            [
             0.7,
             "#b8e186"
            ],
            [
             0.8,
             "#7fbc41"
            ],
            [
             0.9,
             "#4d9221"
            ],
            [
             1,
             "#276419"
            ]
           ],
           "sequential": [
            [
             0,
             "#0d0887"
            ],
            [
             0.1111111111111111,
             "#46039f"
            ],
            [
             0.2222222222222222,
             "#7201a8"
            ],
            [
             0.3333333333333333,
             "#9c179e"
            ],
            [
             0.4444444444444444,
             "#bd3786"
            ],
            [
             0.5555555555555556,
             "#d8576b"
            ],
            [
             0.6666666666666666,
             "#ed7953"
            ],
            [
             0.7777777777777778,
             "#fb9f3a"
            ],
            [
             0.8888888888888888,
             "#fdca26"
            ],
            [
             1,
             "#f0f921"
            ]
           ],
           "sequentialminus": [
            [
             0,
             "#0d0887"
            ],
            [
             0.1111111111111111,
             "#46039f"
            ],
            [
             0.2222222222222222,
             "#7201a8"
            ],
            [
             0.3333333333333333,
             "#9c179e"
            ],
            [
             0.4444444444444444,
             "#bd3786"
            ],
            [
             0.5555555555555556,
             "#d8576b"
            ],
            [
             0.6666666666666666,
             "#ed7953"
            ],
            [
             0.7777777777777778,
             "#fb9f3a"
            ],
            [
             0.8888888888888888,
             "#fdca26"
            ],
            [
             1,
             "#f0f921"
            ]
           ]
          },
          "colorway": [
           "#636efa",
           "#EF553B",
           "#00cc96",
           "#ab63fa",
           "#FFA15A",
           "#19d3f3",
           "#FF6692",
           "#B6E880",
           "#FF97FF",
           "#FECB52"
          ],
          "font": {
           "color": "#2a3f5f"
          },
          "geo": {
           "bgcolor": "white",
           "lakecolor": "white",
           "landcolor": "#E5ECF6",
           "showlakes": true,
           "showland": true,
           "subunitcolor": "white"
          },
          "hoverlabel": {
           "align": "left"
          },
          "hovermode": "closest",
          "mapbox": {
           "style": "light"
          },
          "paper_bgcolor": "white",
          "plot_bgcolor": "#E5ECF6",
          "polar": {
           "angularaxis": {
            "gridcolor": "white",
            "linecolor": "white",
            "ticks": ""
           },
           "bgcolor": "#E5ECF6",
           "radialaxis": {
            "gridcolor": "white",
            "linecolor": "white",
            "ticks": ""
           }
          },
          "scene": {
           "xaxis": {
            "backgroundcolor": "#E5ECF6",
            "gridcolor": "white",
            "gridwidth": 2,
            "linecolor": "white",
            "showbackground": true,
            "ticks": "",
            "zerolinecolor": "white"
           },
           "yaxis": {
            "backgroundcolor": "#E5ECF6",
            "gridcolor": "white",
            "gridwidth": 2,
            "linecolor": "white",
            "showbackground": true,
            "ticks": "",
            "zerolinecolor": "white"
           },
           "zaxis": {
            "backgroundcolor": "#E5ECF6",
            "gridcolor": "white",
            "gridwidth": 2,
            "linecolor": "white",
            "showbackground": true,
            "ticks": "",
            "zerolinecolor": "white"
           }
          },
          "shapedefaults": {
           "line": {
            "color": "#2a3f5f"
           }
          },
          "ternary": {
           "aaxis": {
            "gridcolor": "white",
            "linecolor": "white",
            "ticks": ""
           },
           "baxis": {
            "gridcolor": "white",
            "linecolor": "white",
            "ticks": ""
           },
           "bgcolor": "#E5ECF6",
           "caxis": {
            "gridcolor": "white",
            "linecolor": "white",
            "ticks": ""
           }
          },
          "title": {
           "x": 0.05
          },
          "xaxis": {
           "automargin": true,
           "gridcolor": "white",
           "linecolor": "white",
           "ticks": "",
           "title": {
            "standoff": 15
           },
           "zerolinecolor": "white",
           "zerolinewidth": 2
          },
          "yaxis": {
           "automargin": true,
           "gridcolor": "white",
           "linecolor": "white",
           "ticks": "",
           "title": {
            "standoff": 15
           },
           "zerolinecolor": "white",
           "zerolinewidth": 2
          }
         }
        },
        "title": {
         "text": "epoch metrics"
        },
        "xaxis": {
         "anchor": "y",
         "domain": [
          0,
          0.98
         ],
         "title": {
          "text": "step"
         }
        },
        "xaxis2": {
         "anchor": "y2",
         "domain": [
          0,
          0.98
         ],
         "matches": "x",
         "showticklabels": false
        },
        "xaxis3": {
         "anchor": "y3",
         "domain": [
          0,
          0.98
         ],
         "matches": "x",
         "showticklabels": false
        },
        "xaxis4": {
         "anchor": "y4",
         "domain": [
          0,
          0.98
         ],
         "matches": "x",
         "showticklabels": false
        },
        "yaxis": {
         "anchor": "x",
         "domain": [
          0,
          0.2275
         ],
         "title": {
          "text": "value"
         }
        },
        "yaxis2": {
         "anchor": "x2",
         "domain": [
          0.2575,
          0.485
         ],
         "title": {
          "text": "value"
         }
        },
        "yaxis3": {
         "anchor": "x3",
         "domain": [
          0.515,
          0.7425
         ],
         "title": {
          "text": "value"
         }
        },
        "yaxis4": {
         "anchor": "x4",
         "domain": [
          0.7725,
          1
         ],
         "title": {
          "text": "value"
         }
        }
       }
      }
     },
     "metadata": {},
     "output_type": "display_data"
    },
    {
     "name": "stdout",
     "output_type": "stream",
     "text": [
      "=========================\n",
      "training: 3\n"
     ]
    },
    {
     "data": {
      "application/vnd.jupyter.widget-view+json": {
       "model_id": "aa3f10427b684891a8cc39e088ecef85",
       "version_major": 2,
       "version_minor": 0
      },
      "text/plain": [
       "Output()"
      ]
     },
     "metadata": {},
     "output_type": "display_data"
    },
    {
     "data": {
      "text/html": [
       "<pre style=\"white-space:pre;overflow-x:auto;line-height:normal;font-family:Menlo,'DejaVu Sans Mono',consolas,'Courier New',monospace\"></pre>\n"
      ],
      "text/plain": []
     },
     "metadata": {},
     "output_type": "display_data"
    },
    {
     "data": {
      "application/vnd.plotly.v1+json": {
       "config": {
        "plotlyServerURL": "https://plot.ly"
       },
       "data": [
        {
         "hovertemplate": "variable=batch_train_loss<br>step=%{x}<br>value=%{y}<extra></extra>",
         "legendgroup": "",
         "marker": {
          "color": "#636efa",
          "symbol": "circle"
         },
         "mode": "markers",
         "name": "",
         "showlegend": false,
         "type": "scattergl",
         "x": {
          "bdata": "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",
          "dtype": "i2"
         },
         "xaxis": "x2",
         "y": {
          "bdata": "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",
          "dtype": "f8"
         },
         "yaxis": "y2"
        },
        {
         "hovertemplate": "<b>Exponentially Weighted mean trendline</b><br><br>variable=batch_train_loss<br>step=%{x}<br>value=%{y} <b>(trend)</b><extra></extra>",
         "legendgroup": "",
         "line": {
          "color": "red"
         },
         "marker": {
          "color": "#636efa",
          "symbol": "circle"
         },
         "mode": "lines",
         "name": "",
         "showlegend": false,
         "type": "scattergl",
         "x": {
          "bdata": "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",
          "dtype": "i2"
         },
         "xaxis": "x2",
         "y": {
          "bdata": "AAAAgI8hB0CLS4ZAMw8HQAWwV5xJBwdAJaJCFJT4BkA0Az5mBuEGQOXJ+OgyygZAmfo/Z+y6BkCEf9YjV6cGQCh0iKkomAZAMhEdYYCGBkDq9AiSDn0GQNr92UVjcgZA2r+mDXZlBkDAMZLq/VMGQCwVyX3tTgZAX2g5xl5LBkDWcwrGKT4GQIu6jjSeMwZAsh25xbQqBkBmrHsSMyMGQHvDaajPHgZAcD9bxCscBkC1hOe+vhcGQLtFbG7HCwZA7ThfwXQFBkBR2Cbqmv0FQLSUvBGC7gVARe72fO/kBUBYWpTr/NoFQI8LzZIo0QVARfLbxezMBUBjfq+W8MgFQOX1C0qjvgVA56/ACqm6BUDTimuMobYFQMFsYloWsQVAQuKLRNqpBUD+Br5piqEFQI6ECOJLnwVA2OrbqyaaBUCA3rXnn5IFQMLklxbKjAVA93YUg9KJBUDFAFI/rIMFQNZ7VmMOgAVADncA5rp8BUCJxeU9mnsFQGGw7aBwcwVAgaMeOd1vBUBSbNRRNGsFQKZFoLCfZwVA/8RvQNlgBUC+hU2k01sFQNJwd6NCVgVAlsp1cJBQBUAuWH16ck0FQFPZI8MUSwVAzES/zGpGBUCt3TXJcEIFQFyMuaINPAVA4vXHEv42BUB3gJWVVjEFQMnlinriKwVAPLwPnoopBUC0WNnyUCUFQHBpoQNkIwVA2agpri8gBUCSqfwuJR8FQMzcy+XUGgVAcGEI4pgWBUCBSvXdGBEFQLUgK/joDQVALaFgDicLBUBgyORhZAkFQIgiW0ZLCAVAyI91A1kEBUB/6o4N5QEFQFCCt5uZAQVAdi1a5nL9BEBmtWGSffoEQNcSyUyB+QRAXD5ewFP3BECrLAQ9v/UEQAsBhDGI7wRAr7r11HLrBEAvUzVFzuMEQPJo8GTW3gRAboYcRw3aBECLwX9Z79cEQK4T/KrS0wRA/IoF5V/SBEC3DGjq9dMEQJKFT8Sx0QRAf5B5L0fOBEC7iJmS6MoEQGQ7TQFCxARA8LmIfCLBBEBsy33jYrsEQNcCgDpOuQRARzCJd8mzBEDLNhnMxa4EQDbc9mD8qQRA7tEDzfOnBEAFjQ3CdaEEQLOsw54BngRAfJkwXTKcBEDXEcBGmZwEQIvmmSoQngRAwkCb5kOZBEBfoTjz+JMEQFO06viEjQRAxqGjxNiNBECCxsO1P4kEQPwmr24QhwRAqB4FWhSEBEDNl6AgJ4AEQEkU+u2hfgRA2y4dDrx/BEATtAcSW4EEQI/9IL8cfgRA77TAbD+BBEBhBMM2XH0EQN8ki6E0fARAECJrwOl6BEAWAUkepHsEQIdgdWmdegRA5iN8I6B6BEBAMXKpdncEQO4nNMrJdQRAUWbpIDdzBEBFJXPuZXAEQOKdVVoDcQRAzPQ7pxluBEDRp3yhz2sEQO87+H/QawRAnECthohpBEC2q0Ep0GoEQPpOw51UaQRASfyicJllBEDlhuELUmMEQAS/GGDUYgRAvCd3jc1fBEC1TVrLYFwEQFe16vB/XARAzJZvUJhXBECapktYslkEQEH8WsGQVgRAkdqRRuJTBEDlpiRwWVEEQMUkAXu9TgRAcNAqozBNBEClqhi1pk0EQOliPwW+TQRAeH1Xm/BPBECfeGai1UwEQFnpwjocSwRAyhhfk4tIBEC0GGF1RkYEQFx/YSCDQQRAgghd8Lk+BECOL3vKuT4EQILNm3eCPARArdgeoJE9BEBtCFr7tTwEQJzqJHJcOwRA4OSaxBQ6BEBmZW2d7TUEQMIlDDZtNARAJcsFytExBEBXEp8IcTEEQAdReXWBLwRAxbWXHgYxBEC1TFM7ly4EQDVyCzLHLwRAksRymHsrBEB93NxduSkEQHSZ7HcgJgRAGpq9t7AgBED2KKnlKR8EQFo5kvNdHARAQp01YN8dBEA6yjv8SR0EQA4T3ufgGwRA2x++1e0bBEBACluCUxoEQKWlIOXlFQRAAzgz60kTBEBypfRa/xEEQF2jysFhEQRAU0sT4nAPBEDo1hhxwAwEQFyEFMfPCgRAtl0AIsgJBEBPadnyJwkEQOeixLL0BgRAdCNe3AIDBEADBFfuJP4DQL6gwYuk/gNAXaNRTpH8A0D5nK8rjvwDQNWjZxGe+QNAhyq31iz5A0AaNCTiIfsDQF5ejO5v+wNAupStWGv4A0Bhk4b0k/cDQPEuGStq9ANAv7hA85bxA0BPW/LGaO0DQI8PEaUh6QNAfJfue8znA0A+TiOW8eUDQLqGocAA5ANA+wKW8yTgA0C3dUE2Od4DQEWZRGHF2ANA8x6x2anVA0DQ6sKqztMDQCo7rIQX0wNAnyeJM/TOA0CA81EpbM0DQFIDBg+HzANAWvbU5jHLA0Az/hvdNssDQDZuVTV+ygNAfrL4/NfJA0BtyL0N6ccDQCLDQHlJxwNACVeCXGnJA0Bh1okk6s0DQL88IefoywNA6Wx5IbbLA0DqbGtE18kDQGTmd5rxyANAO0qPdbHFA0BcDZNabMUDQGzZbUBCwQNA2KyAi2S+A0ANlZCigbwDQERCl5U3vgNASa9X6gO9A0A2RSt49bwDQH2PjEtYuANAao0iOiC1A0CUWVd46rMDQNFpZUUKtQNAjP7eCBmzA0D2eBrIm7MDQHCBASydsgNAnuL7KZW0A0BetqvBAbQDQMSw+yMIsQNAvESIaCOyA0DCGr/H0q8DQD0mufZmrwNAUpwztimuA0B+xenIua4DQA0PLcq8sQNAEvsev42xA0AjyG8Fc7ADQHhF2aEpsQNA1hqzJuesA0DvFS3HQqwDQB5FXgH1qgNAiXq9BY2oA0A8d/Kpi6YDQBxCpj8VowNAxAzjhJSfA0CTayIhGp8DQBOUDDFFngNAMkKX1TydA0DtD7dCOZoDQCGaLxDgmQNApjxD+SWXA0BzFiMmcZcDQJTOr0FalgNApby6B2aUA0CHXYeqzo8DQIiSSJwIkANA+JBBOEGRA0BR+TxOlJEDQF7DV4FokQNAv/aII56SA0AmcbXFKo8DQFstZ/2hkANA1YTZtLOOA0Cstgc27owDQJoSL+NsiwNAty4SAPOHA0D0cobbUIUDQB5UsLsZhQNAesYVw3eGA0AEb3Hw8YYDQCVtjxNZhgNAZ+hv/x+DA0C06bSOSoIDQCEODVlIgANAUiyuOnN+A0DLeNpyhnwDQMZMRJI8fANAg7+1wFx5A0CNwe+xh3oDQA6V3EUveQNAKLDXa4V6A0C0vqjvzngDQKoT07ofdwNA83N3bgp6A0AICU/oE3kDQAh/kK6ZeQNA+nrzSGF4A0AedUC3oXQDQIJv35PFcQNAuivlyrxxA0CcrOP9WW4DQBd4GpGdbgNAvDWihtBtA0Cb3ibZ1GsDQNgIsc2pawNADxyY99NnA0A8oyFCqWYDQOQW0gJEaANAi3gFVX1nA0CJfdDbQ2gDQK1V+HyNaQNArjWhj4hnA0BEqYxPDWUDQJuqyTZoYANAabEcZN1gA0B3RwlTyV8DQLyFjZ4DXgNAOtN4KDdbA0D/n3ZoblsDQKQyCiyWWANAPZ0WoUZZA0CIVSKYd1sDQAPJ6tz1WANAAVG+aUlZA0AZaKQCplYDQNxAGqA/VgNAK/jJP7tTA0CTHgeIklIDQNSnIw2kUQNAtPK/pDBTA0A6Rs57TFEDQHOypdc5TQNAhw4TLY5MA0AwqyJh9koDQKCVLDD6SANAKiiuVc1FA0CVqQBe40MDQKAUBAIvRQNAhFxKFcFEA0CeABcVOEcDQJeIloDeRgNAC45BkKRDA0A7s9B9IkEDQC9sVDlYQANAGyth1yZAA0Bi64nEIEEDQDmXX/YCQgNA++wjmpdAA0D24nhFIUADQFq1/mePQQNAV8CbIgpEA0AradvoX0QDQOFwxGHbQgNAqfvkipVCA0D+X1wVaz4DQK38qBH9OANAZt3yqiI5A0Bpuch95DcDQMTN4kmwMwNAj2cmfn4zA0Bk5W5rhi8DQKq6AHYiLgNASh9o6xMsA0BODa7wyS0DQMHla28iKwNACA2edRspA0COpLBjTCYDQFpW5bt4JANAE8lG45AkA0BD5V0tBCQDQOmseoJqIwNAwn6vLRkjA0CMPiTZwCADQP2EztV6HgNAj2E899MeA0CSI4VYqh4DQL6Vtu/8HwNASLqxXTEgA0DAD9wqRx4DQPkTTkehHQNA/12HBXcaA0BOfwn9GxoDQKnxDOQPGANAzVoEiy0XA0AcDBUG+xMDQMENTwW/DwNAbdoczxwNA0CJqdsPrw4DQCTZQqzGDgNAOBYdcMUPA0C9eEjnUA8DQLCUw3vyDwNAs8ZrcX8OA0B6GWuk/A0DQM56WS3aCwNA8B6IhTUKA0AOJzZivAkDQNdh950/CQNASszxGBQKA0DW1JcHuQkDQOJC+TQyDANAFGy1KoAIA0DYaCvEfwgDQNQDvQfdAgNACDn39sQCA0ALz4plagADQKV94RVvAANA4ax1wmb+AkAABftWs/0CQGPltMzL+QJASoeq1wn6AkD8FFfrdvYCQHY6lMAr9QJAbeNTG9zzAkDjMG4A4+8CQN1iCJav7gJAE+982BbwAkAiES8Jx+4CQCqXqmHg7gJAZM6ZwZzuAkDGDCm20+0CQK/lSXJk7AJAVeAmwwrqAkAVlcY5cuoCQHVTl/Dw5wJABlYrk2ToAkAj2cNZEOgCQAVDWWXe6AJAJtlUDMDmAkDkCNDCAewCQNKklV696wJAKU34SivqAkDcTQoc6uUCQBHxC9gv5gJAlj0ET1LmAkDWgUaKfuECQAUuM5Jp4QJANPwO33niAkDfGCfFEN0CQGRPJmxd2gJAe6jEy9TaAkAWf1+sodgCQLSAKzM31wJAJjnXXmfSAkANpXw0684CQDzDlewezgJAfKOAmKvKAkBcNZM1m8YCQCDMru+UxAJAoDkLSTPIAkAeMfPtdcoCQO50Ap4LygJA5D/uOR3JAkCF4JKJnsYCQHYDwnhCxwJA2Tjp17/DAkDEHuvwqcECQCr85gE0wAJAdAHZAb/AAkCPLdKjH74CQMp2Z1mcwAJASVfu4rfCAkDplI3ZWcMCQFzPTwyFwAJAwAjlirnBAkA455WMe78CQDmVm7oIvQJAnkQwaK+7AkDE/KHeibsCQNOrVtS5uQJA/2ib0W24AkC9diVVv7UCQOoh/KU5sgJAHf4LDtOxAkAJSDvC1LACQEzLYqnnsAJAipFdEsCvAkBh47vPjbMCQCtb8KX9swJAqoUSMTmvAkAJ8t1bp60CQKAOHiCeqwJA4ZhQp0anAkBMjwHlxKUCQDn97idLpAJAvBEgFoWjAkDnvsZBCJ8CQBDqMXFhnQJAesR5y6icAkBmKCsNWZwCQEX7I7mQngJAZSmFft2dAkB7hy0yJJ0CQP/VXapdnQJAZDYACZ2dAkBBYFpd6JwCQJS822oRnQJAxruQTPuaAkAu26hcCpYCQFJwQEwxlgJAQGYBsUSSAkDYL7652ZACQLL1Q8Q2kAJAI1J07peRAkBBOUXXrY4CQMcsMmw9jgJAtL7sD5iLAkDE5dkd+YYCQKOrhZFSggJAScyKA0yEAkD51rTMEH8CQL9AEKXDewJANoCy3lt3AkAuIbs+TXMCQIW2zF8HcQJACyZr08dwAkD8PpiMsG4CQNnf/kUXbwJAkwutQbJwAkBuJStzqW8CQPzhk9O4bAJAqgIjGd9qAkBdkUP2i2wCQNffpJiTbQJAvDU8ROVsAkCFPp5UYW8CQLDjiAYocAJA8V1TBn1xAkBXeT+KWG8CQPrrHHALcQJAj0uPTgZwAkBYzifQ0HACQLNhxLM2dAJAJgiMQIByAkCigPouIXACQNiF8RybbAJA8RvpeBVqAkBMOzRbV2oCQHiESrndZgJAJxGj3WBnAkBp+HM122QCQLVoFZ/xZAJA2KfJNEthAkD+CB70hmECQFFkqBnwWwJAoh6SsCxaAkDoh7ZlPlkCQAbD8nKPWQJAWiFG8LlbAkBVOnWGjloCQB6leQ0tWgJAEgLyye5cAkCHztmww10CQDdzsVynWwJAampIDBhaAkDWo7FFpVsCQF3HSB5hWwJAx0xGXFJaAkCZgreGMlkCQJK54vKhVQJAatVWVKRRAkCuAfl8608CQL8Elk3PTgJA+ytwtg1PAkCWVAE/ZFACQOZgGoG2UwJAWza2lVhRAkAEfbBqEVMCQP699D25TgJAApJoyvRMAkAlP6d8xUwCQGmO2/94SwJAlcE/TIRKAkBUkKAkWUcCQHk5QJ3TQgJAGU5Gu0lBAkC8UdCntT8CQOnMdqRRPAJAlJFJ45A6AkAiX4nuajwCQMIYbHk6OwJAzlCimXI5AkAbKnxOlzsCQAR0PtV9PQJAHkSwuK9BAkDDGj+jPz8CQIuvE2FPPQJA3NWOEXM7AkDh2NwsUDwCQKuPMMRMPAJACWk/Kug5AkCyE1aXYTgCQEx3fDM3NQJAmL7C73M0AkAA2CfsKzUCQIiIaICoMgJAW5szunsyAkBXNTpVujICQMMHDwVrMgJA6Pn9J7gwAkBLOkg5NywCQKZH0oMLLAJAcj2iwTstAkAQ2hiSTCwCQNMdOYiVLQJAGjkWDNssAkAywj6dVCsCQNPf4W50KgJAr79/MW4qAkBZXZRlxSgCQP+Tj6q+KAJAIuiruFQlAkCEzJWODyMCQCrobxirIQJAlPFCC2AeAkCzfjiVsBwCQAMvRyxpHAJAJlgT0rccAkBOMeH98h0CQMRfh1CTHwJAia9Zm5cdAkD4ofOpcBkCQN+5qaqYGgJA8pwwRtYYAkDefNwBixoCQOUJzYGnFAJAghI6sVsXAkA+8i/hyBcCQMwO5LgxFgJAODDt0rkTAkDsSN3jPBQCQB3Ui32mFAJAU6byZ3gSAkB/8W5/sRECQCCcc19pEAJA5LrrDS4OAkBGszZlgw0CQJiGqPj3CgJAM/s/ZKgJAkC+cm+OlAcCQE0nleHQCAJAoxmppcQGAkDpBDDcCQUCQJl9T3xwAwJA0jV2fYgCAkBz9sREXwACQG7l5w3m/wFA09yuFCz/AUBatZimmP8BQMz4WcXv/gFAAm/CV4IAAkAKBTj+P/4BQIx1Pr0o/AFABNzpz1r7AUC8ZkWLNfkBQPlT6GoM+gFAowinrWv7AUDdhB0q8/sBQOzXRbnt+AFA12N9mVr3AUBuFXHRjfYBQGuxdcNX9gFANJQn3Zv3AUCPzzbcpPUBQDdEHBUZ9QFA5zaX2f7xAUBKcPXegvMBQMHF9T178QFACrBIBubyAUBABfzC9vIBQBB3Rg/g8AFAZJTQDw/xAUDdZftkcfABQPkgTrQW8QFA+h5cqrrvAUDp9JL7D/ABQCYGyN2h8AFAM1/7YRHuAUDS6Yc1PPABQMErGP3G7gFAx4y87pntAUB7sJ15rOsBQHrdoNPW7QFAy7zdjlfsAUDRYhAksukBQNwDtRy+5wFAmtFD63vmAUCrHDG0y+QBQPqls3jS3wFAW6fnlyzcAUBZqc9MB9oBQC2C+r5M2AFA2UNNyHXXAUAAYb7e2tIBQJDyjtf70gFA65eSb0fSAUDW5a6i+9IBQFkHwqfa0QFAtQ/lM+/SAUDwzGEXSNIBQDX3qBf9zwFA9VLdFTjSAUBiRzkX4c8BQMtNs32X0QFAIUvGnf3QAUD23Z72c9MBQCh8katD1AFAEnhCjevTAUCNWmEeCdABQLnjEzOuzgFAQtNlkJXKAUBExEn9/soBQJ7G04sozQFAV/LMljjQAUCo0bWqt88BQDYldo3JzAFAI27VRqjLAUDrHyHXl8kBQAurk1wnyAFAkHPAfoHFAUAEmSXKysQBQEmU6gwvxgFAjtEcgBjGAUDZPYdNA8IBQCCGF42jwQFAwpJQwRTFAUCKpgOZA8MBQHvrj+P0wgFASU+s6lLDAUBvbVxLdcABQMphF07AwQFADQzE8bXBAUD+ftYF9b4BQIxySxoFvgFAB1aTHXi9AUACEX7YiLsBQDRrJ0aAugFA3LFX0hm4AUD7QOFVnroBQCyibl35vAFATM5i+YW6AUAbnl8ySrcBQB8+Mx+wtgFA1lQpvee1AUDck3okfrEBQFWXVQRFsQFA0T8AnnGwAUAk67WS6q8BQPvSyMforgFAHyf8Vb2wAUAJywyuBLEBQLQvRiOGrgFAOk/QVxevAUAYG9qQjq4BQAszV1GArwFAebWea2OuAUDU+SVo8qsBQESfoN+jrQFAfaJhl+qvAUBTAG8wcK8BQDrfOXorrgFAI78vszyrAUCn0aHUy6gBQBmReyQlqQFAK+fBsb6mAUCYW5L9KacBQEdIIi26qwFA",
          "dtype": "f8"
         },
         "yaxis": "y2"
        },
        {
         "hovertemplate": "variable=batch_accuracy<br>step=%{x}<br>value=%{y}<extra></extra>",
         "legendgroup": "",
         "marker": {
          "color": "#636efa",
          "symbol": "circle"
         },
         "mode": "markers",
         "name": "",
         "showlegend": false,
         "type": "scattergl",
         "x": {
          "bdata": "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",
          "dtype": "i2"
         },
         "xaxis": "x",
         "y": {
          "bdata": "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",
          "dtype": "f8"
         },
         "yaxis": "y"
        },
        {
         "hovertemplate": "<b>Exponentially Weighted mean trendline</b><br><br>variable=batch_accuracy<br>step=%{x}<br>value=%{y} <b>(trend)</b><extra></extra>",
         "legendgroup": "",
         "line": {
          "color": "red"
         },
         "marker": {
          "color": "#636efa",
          "symbol": "circle"
         },
         "mode": "lines",
         "name": "",
         "showlegend": false,
         "type": "scattergl",
         "x": {
          "bdata": "AAABAAIAAwAEAAUABgAHAAgACQAKAAsADAANAA4ADwAQABEAEgATABQAFQAWABcAGAAZABoAGwAcAB0AHgAfACAAIQAiACMAJAAlACYAJwAoACkAKgArACwALQAuAC8AMAAxADIAMwA0ADUANgA3ADgAOQA6ADsAPAA9AD4APwBAAEEAQgBDAEQARQBGAEcASABJAEoASwBMAE0ATgBPAFAAUQBSAFMAVABVAFYAVwBYAFkAWgBbAFwAXQBeAF8AYABhAGIAYwBkAGUAZgBnAGgAaQBqAGsAbABtAG4AbwBwAHEAcgBzAHQAdQB2AHcAeAB5AHoAewB8AH0AfgB/AIAAgQCCAIMAhACFAIYAhwCIAIkAigCLAIwAjQCOAI8AkACRAJIAkwCUAJUAlgCXAJgAmQCaAJsAnACdAJ4AnwCgAKEAogCjAKQApQCmAKcAqACpAKoAqwCsAK0ArgCvALAAsQCyALMAtAC1ALYAtwC4ALkAugC7ALwAvQC+AL8AwADBAMIAwwDEAMUAxgDHAMgAyQDKAMsAzADNAM4AzwDQANEA0gDTANQA1QDWANcA2ADZANoA2wDcAN0A3gDfAOAA4QDiAOMA5ADlAOYA5wDoAOkA6gDrAOwA7QDuAO8A8ADxAPIA8wD0APUA9gD3APgA+QD6APsA/AD9AP4A/wAAAQEBAgEDAQQBBQEGAQcBCAEJAQoBCwEMAQ0BDgEPARABEQESARMBFAEVARYBFwEYARkBGgEbARwBHQEeAR8BIAEhASIBIwEkASUBJgEnASgBKQEqASsBLAEtAS4BLwEwATEBMgEzATQBNQE2ATcBOAE5AToBOwE8AT0BPgE/AUABQQFCAUMBRAFFAUYBRwFIAUkBSgFLAUwBTQFOAU8BUAFRAVIBUwFUAVUBVgFXAVgBWQFaAVsBXAFdAV4BXwFgAWEBYgFjAWQBZQFmAWcBaAFpAWoBawFsAW0BbgFvAXABcQFyAXMBdAF1AXYBdwF4AXkBegF7AXwBfQF+AX8BgAGBAYIBgwGEAYUBhgGHAYgBiQGKAYsBjAGNAY4BjwGQAZEBkgGTAZQBlQGWAZcBmAGZAZoBmwGcAZ0BngGfAaABoQGiAaMBpAGlAaYBpwGoAakBqgGrAawBrQGuAa8BsAGxAbIBswG0AbUBtgG3AbgBuQG6AbsBvAG9Ab4BvwHAAcEBwgHDAcQBxQHGAccByAHJAcoBywHMAc0BzgHPAdAB0QHSAdMB1AHVAdYB1wHYAdkB2gHbAdwB3QHeAd8B4AHhAeIB4wHkAeUB5gHnAegB6QHqAesB7AHtAe4B7wHwAfEB8gHzAfQB9QH2AfcB+AH5AfoB+wH8Af0B/gH/AQACAQICAgMCBAIFAgYCBwIIAgkCCgILAgwCDQIOAg8CEAIRAhICEwIUAhUCFgIXAhgCGQIaAhsCHAIdAh4CHwIgAiECIgIjAiQCJQImAicCKAIpAioCKwIsAi0CLgIvAjACMQIyAjMCNAI1AjYCNwI4AjkCOgI7AjwCPQI+Aj8CQAJBAkICQwJEAkUCRgJHAkgCSQJKAksCTAJNAk4CTwJQAlECUgJTAlQCVQJWAlcCWAJZAloCWwJcAl0CXgJfAmACYQJiAmMCZAJlAmYCZwJoAmkCagJrAmwCbQJuAm8CcAJxAnICcwJ0AnUCdgJ3AngCeQJ6AnsCfAJ9An4CfwKAAoECggKDAoQChQKGAocCiAKJAooCiwKMAo0CjgKPApACkQKSApMClAKVApYClwKYApkCmgKbApwCnQKeAp8CoAKhAqICowKkAqUCpgKnAqgCqQKqAqsCrAKtAq4CrwKwArECsgKzArQCtQK2ArcCuAK5AroCuwK8Ar0CvgK/AsACwQLCAsMCxALFAsYCxwLIAskCygLLAswCzQLOAs8C0ALRAtIC0wLUAtUC1gLXAtgC2QLaAtsC3ALdAt4C3wLgAuEC4gLjAuQC5QLmAucC6ALpAuoC6wLsAu0C7gLvAvAC8QLyAvMC9AL1AvYC9wL4AvkC+gL7AvwC/QL+Av8CAAMBAwIDAwMEAwUDBgMHAwgDCQMKAwsD",
          "dtype": "i2"
         },
         "xaxis": "x",
         "y": {
          "bdata": "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",
          "dtype": "f8"
         },
         "yaxis": "y"
        }
       ],
       "layout": {
        "annotations": [
         {
          "font": {},
          "showarrow": false,
          "text": "variable=batch_accuracy",
          "textangle": 90,
          "x": 0.98,
          "xanchor": "left",
          "xref": "paper",
          "y": 0.2425,
          "yanchor": "middle",
          "yref": "paper"
         },
         {
          "font": {},
          "showarrow": false,
          "text": "variable=batch_train_loss",
          "textangle": 90,
          "x": 0.98,
          "xanchor": "left",
          "xref": "paper",
          "y": 0.7575000000000001,
          "yanchor": "middle",
          "yref": "paper"
         }
        ],
        "legend": {
         "tracegroupgap": 0
        },
        "template": {
         "data": {
          "bar": [
           {
            "error_x": {
             "color": "#2a3f5f"
            },
            "error_y": {
             "color": "#2a3f5f"
            },
            "marker": {
             "line": {
              "color": "#E5ECF6",
              "width": 0.5
             },
             "pattern": {
              "fillmode": "overlay",
              "size": 10,
              "solidity": 0.2
             }
            },
            "type": "bar"
           }
          ],
          "barpolar": [
           {
            "marker": {
             "line": {
              "color": "#E5ECF6",
              "width": 0.5
             },
             "pattern": {
              "fillmode": "overlay",
              "size": 10,
              "solidity": 0.2
             }
            },
            "type": "barpolar"
           }
          ],
          "carpet": [
           {
            "aaxis": {
             "endlinecolor": "#2a3f5f",
             "gridcolor": "white",
             "linecolor": "white",
             "minorgridcolor": "white",
             "startlinecolor": "#2a3f5f"
            },
            "baxis": {
             "endlinecolor": "#2a3f5f",
             "gridcolor": "white",
             "linecolor": "white",
             "minorgridcolor": "white",
             "startlinecolor": "#2a3f5f"
            },
            "type": "carpet"
           }
          ],
          "choropleth": [
           {
            "colorbar": {
             "outlinewidth": 0,
             "ticks": ""
            },
            "type": "choropleth"
           }
          ],
          "contour": [
           {
            "colorbar": {
             "outlinewidth": 0,
             "ticks": ""
            },
            "colorscale": [
             [
              0,
              "#0d0887"
             ],
             [
              0.1111111111111111,
              "#46039f"
             ],
             [
              0.2222222222222222,
              "#7201a8"
             ],
             [
              0.3333333333333333,
              "#9c179e"
             ],
             [
              0.4444444444444444,
              "#bd3786"
             ],
             [
              0.5555555555555556,
              "#d8576b"
             ],
             [
              0.6666666666666666,
              "#ed7953"
             ],
             [
              0.7777777777777778,
              "#fb9f3a"
             ],
             [
              0.8888888888888888,
              "#fdca26"
             ],
             [
              1,
              "#f0f921"
             ]
            ],
            "type": "contour"
           }
          ],
          "contourcarpet": [
           {
            "colorbar": {
             "outlinewidth": 0,
             "ticks": ""
            },
            "type": "contourcarpet"
           }
          ],
          "heatmap": [
           {
            "colorbar": {
             "outlinewidth": 0,
             "ticks": ""
            },
            "colorscale": [
             [
              0,
              "#0d0887"
             ],
             [
              0.1111111111111111,
              "#46039f"
             ],
             [
              0.2222222222222222,
              "#7201a8"
             ],
             [
              0.3333333333333333,
              "#9c179e"
             ],
             [
              0.4444444444444444,
              "#bd3786"
             ],
             [
              0.5555555555555556,
              "#d8576b"
             ],
             [
              0.6666666666666666,
              "#ed7953"
             ],
             [
              0.7777777777777778,
              "#fb9f3a"
             ],
             [
              0.8888888888888888,
              "#fdca26"
             ],
             [
              1,
              "#f0f921"
             ]
            ],
            "type": "heatmap"
           }
          ],
          "histogram": [
           {
            "marker": {
             "pattern": {
              "fillmode": "overlay",
              "size": 10,
              "solidity": 0.2
             }
            },
            "type": "histogram"
           }
          ],
          "histogram2d": [
           {
            "colorbar": {
             "outlinewidth": 0,
             "ticks": ""
            },
            "colorscale": [
             [
              0,
              "#0d0887"
             ],
             [
              0.1111111111111111,
              "#46039f"
             ],
             [
              0.2222222222222222,
              "#7201a8"
             ],
             [
              0.3333333333333333,
              "#9c179e"
             ],
             [
              0.4444444444444444,
              "#bd3786"
             ],
             [
              0.5555555555555556,
              "#d8576b"
             ],
             [
              0.6666666666666666,
              "#ed7953"
             ],
             [
              0.7777777777777778,
              "#fb9f3a"
             ],
             [
              0.8888888888888888,
              "#fdca26"
             ],
             [
              1,
              "#f0f921"
             ]
            ],
            "type": "histogram2d"
           }
          ],
          "histogram2dcontour": [
           {
            "colorbar": {
             "outlinewidth": 0,
             "ticks": ""
            },
            "colorscale": [
             [
              0,
              "#0d0887"
             ],
             [
              0.1111111111111111,
              "#46039f"
             ],
             [
              0.2222222222222222,
              "#7201a8"
             ],
             [
              0.3333333333333333,
              "#9c179e"
             ],
             [
              0.4444444444444444,
              "#bd3786"
             ],
             [
              0.5555555555555556,
              "#d8576b"
             ],
             [
              0.6666666666666666,
              "#ed7953"
             ],
             [
              0.7777777777777778,
              "#fb9f3a"
             ],
             [
              0.8888888888888888,
              "#fdca26"
             ],
             [
              1,
              "#f0f921"
             ]
            ],
            "type": "histogram2dcontour"
           }
          ],
          "mesh3d": [
           {
            "colorbar": {
             "outlinewidth": 0,
             "ticks": ""
            },
            "type": "mesh3d"
           }
          ],
          "parcoords": [
           {
            "line": {
             "colorbar": {
              "outlinewidth": 0,
              "ticks": ""
             }
            },
            "type": "parcoords"
           }
          ],
          "pie": [
           {
            "automargin": true,
            "type": "pie"
           }
          ],
          "scatter": [
           {
            "fillpattern": {
             "fillmode": "overlay",
             "size": 10,
             "solidity": 0.2
            },
            "type": "scatter"
           }
          ],
          "scatter3d": [
           {
            "line": {
             "colorbar": {
              "outlinewidth": 0,
              "ticks": ""
             }
            },
            "marker": {
             "colorbar": {
              "outlinewidth": 0,
              "ticks": ""
             }
            },
            "type": "scatter3d"
           }
          ],
          "scattercarpet": [
           {
            "marker": {
             "colorbar": {
              "outlinewidth": 0,
              "ticks": ""
             }
            },
            "type": "scattercarpet"
           }
          ],
          "scattergeo": [
           {
            "marker": {
             "colorbar": {
              "outlinewidth": 0,
              "ticks": ""
             }
            },
            "type": "scattergeo"
           }
          ],
          "scattergl": [
           {
            "marker": {
             "colorbar": {
              "outlinewidth": 0,
              "ticks": ""
             }
            },
            "type": "scattergl"
           }
          ],
          "scattermap": [
           {
            "marker": {
             "colorbar": {
              "outlinewidth": 0,
              "ticks": ""
             }
            },
            "type": "scattermap"
           }
          ],
          "scattermapbox": [
           {
            "marker": {
             "colorbar": {
              "outlinewidth": 0,
              "ticks": ""
             }
            },
            "type": "scattermapbox"
           }
          ],
          "scatterpolar": [
           {
            "marker": {
             "colorbar": {
              "outlinewidth": 0,
              "ticks": ""
             }
            },
            "type": "scatterpolar"
           }
          ],
          "scatterpolargl": [
           {
            "marker": {
             "colorbar": {
              "outlinewidth": 0,
              "ticks": ""
             }
            },
            "type": "scatterpolargl"
           }
          ],
          "scatterternary": [
           {
            "marker": {
             "colorbar": {
              "outlinewidth": 0,
              "ticks": ""
             }
            },
            "type": "scatterternary"
           }
          ],
          "surface": [
           {
            "colorbar": {
             "outlinewidth": 0,
             "ticks": ""
            },
            "colorscale": [
             [
              0,
              "#0d0887"
             ],
             [
              0.1111111111111111,
              "#46039f"
             ],
             [
              0.2222222222222222,
              "#7201a8"
             ],
             [
              0.3333333333333333,
              "#9c179e"
             ],
             [
              0.4444444444444444,
              "#bd3786"
             ],
             [
              0.5555555555555556,
              "#d8576b"
             ],
             [
              0.6666666666666666,
              "#ed7953"
             ],
             [
              0.7777777777777778,
              "#fb9f3a"
             ],
             [
              0.8888888888888888,
              "#fdca26"
             ],
             [
              1,
              "#f0f921"
             ]
            ],
            "type": "surface"
           }
          ],
          "table": [
           {
            "cells": {
             "fill": {
              "color": "#EBF0F8"
             },
             "line": {
              "color": "white"
             }
            },
            "header": {
             "fill": {
              "color": "#C8D4E3"
             },
             "line": {
              "color": "white"
             }
            },
            "type": "table"
           }
          ]
         },
         "layout": {
          "annotationdefaults": {
           "arrowcolor": "#2a3f5f",
           "arrowhead": 0,
           "arrowwidth": 1
          },
          "autotypenumbers": "strict",
          "coloraxis": {
           "colorbar": {
            "outlinewidth": 0,
            "ticks": ""
           }
          },
          "colorscale": {
           "diverging": [
            [
             0,
             "#8e0152"
            ],
            [
             0.1,
             "#c51b7d"
            ],
            [
             0.2,
             "#de77ae"
            ],
            [
             0.3,
             "#f1b6da"
            ],
            [
             0.4,
             "#fde0ef"
            ],
            [
             0.5,
             "#f7f7f7"
            ],
            [
             0.6,
             "#e6f5d0"
            ],
            [
             0.7,
             "#b8e186"
            ],
            [
             0.8,
             "#7fbc41"
            ],
            [
             0.9,
             "#4d9221"
            ],
            [
             1,
             "#276419"
            ]
           ],
           "sequential": [
            [
             0,
             "#0d0887"
            ],
            [
             0.1111111111111111,
             "#46039f"
            ],
            [
             0.2222222222222222,
             "#7201a8"
            ],
            [
             0.3333333333333333,
             "#9c179e"
            ],
            [
             0.4444444444444444,
             "#bd3786"
            ],
            [
             0.5555555555555556,
             "#d8576b"
            ],
            [
             0.6666666666666666,
             "#ed7953"
            ],
            [
             0.7777777777777778,
             "#fb9f3a"
            ],
            [
             0.8888888888888888,
             "#fdca26"
            ],
            [
             1,
             "#f0f921"
            ]
           ],
           "sequentialminus": [
            [
             0,
             "#0d0887"
            ],
            [
             0.1111111111111111,
             "#46039f"
            ],
            [
             0.2222222222222222,
             "#7201a8"
            ],
            [
             0.3333333333333333,
             "#9c179e"
            ],
            [
             0.4444444444444444,
             "#bd3786"
            ],
            [
             0.5555555555555556,
             "#d8576b"
            ],
            [
             0.6666666666666666,
             "#ed7953"
            ],
            [
             0.7777777777777778,
             "#fb9f3a"
            ],
            [
             0.8888888888888888,
             "#fdca26"
            ],
            [
             1,
             "#f0f921"
            ]
           ]
          },
          "colorway": [
           "#636efa",
           "#EF553B",
           "#00cc96",
           "#ab63fa",
           "#FFA15A",
           "#19d3f3",
           "#FF6692",
           "#B6E880",
           "#FF97FF",
           "#FECB52"
          ],
          "font": {
           "color": "#2a3f5f"
          },
          "geo": {
           "bgcolor": "white",
           "lakecolor": "white",
           "landcolor": "#E5ECF6",
           "showlakes": true,
           "showland": true,
           "subunitcolor": "white"
          },
          "hoverlabel": {
           "align": "left"
          },
          "hovermode": "closest",
          "mapbox": {
           "style": "light"
          },
          "paper_bgcolor": "white",
          "plot_bgcolor": "#E5ECF6",
          "polar": {
           "angularaxis": {
            "gridcolor": "white",
            "linecolor": "white",
            "ticks": ""
           },
           "bgcolor": "#E5ECF6",
           "radialaxis": {
            "gridcolor": "white",
            "linecolor": "white",
            "ticks": ""
           }
          },
          "scene": {
           "xaxis": {
            "backgroundcolor": "#E5ECF6",
            "gridcolor": "white",
            "gridwidth": 2,
            "linecolor": "white",
            "showbackground": true,
            "ticks": "",
            "zerolinecolor": "white"
           },
           "yaxis": {
            "backgroundcolor": "#E5ECF6",
            "gridcolor": "white",
            "gridwidth": 2,
            "linecolor": "white",
            "showbackground": true,
            "ticks": "",
            "zerolinecolor": "white"
           },
           "zaxis": {
            "backgroundcolor": "#E5ECF6",
            "gridcolor": "white",
            "gridwidth": 2,
            "linecolor": "white",
            "showbackground": true,
            "ticks": "",
            "zerolinecolor": "white"
           }
          },
          "shapedefaults": {
           "line": {
            "color": "#2a3f5f"
           }
          },
          "ternary": {
           "aaxis": {
            "gridcolor": "white",
            "linecolor": "white",
            "ticks": ""
           },
           "baxis": {
            "gridcolor": "white",
            "linecolor": "white",
            "ticks": ""
           },
           "bgcolor": "#E5ECF6",
           "caxis": {
            "gridcolor": "white",
            "linecolor": "white",
            "ticks": ""
           }
          },
          "title": {
           "x": 0.05
          },
          "xaxis": {
           "automargin": true,
           "gridcolor": "white",
           "linecolor": "white",
           "ticks": "",
           "title": {
            "standoff": 15
           },
           "zerolinecolor": "white",
           "zerolinewidth": 2
          },
          "yaxis": {
           "automargin": true,
           "gridcolor": "white",
           "linecolor": "white",
           "ticks": "",
           "title": {
            "standoff": 15
           },
           "zerolinecolor": "white",
           "zerolinewidth": 2
          }
         }
        },
        "title": {
         "text": "batch metrics"
        },
        "xaxis": {
         "anchor": "y",
         "domain": [
          0,
          0.98
         ],
         "title": {
          "text": "step"
         }
        },
        "xaxis2": {
         "anchor": "y2",
         "domain": [
          0,
          0.98
         ],
         "matches": "x",
         "showticklabels": false
        },
        "yaxis": {
         "anchor": "x",
         "domain": [
          0,
          0.485
         ],
         "title": {
          "text": "value"
         }
        },
        "yaxis2": {
         "anchor": "x2",
         "domain": [
          0.515,
          1
         ],
         "title": {
          "text": "value"
         }
        }
       }
      }
     },
     "metadata": {},
     "output_type": "display_data"
    },
    {
     "data": {
      "application/vnd.plotly.v1+json": {
       "config": {
        "plotlyServerURL": "https://plot.ly"
       },
       "data": [
        {
         "hovertemplate": "variable=train_epoch_loss<br>step=%{x}<br>value=%{y}<extra></extra>",
         "legendgroup": "train_epoch_loss",
         "line": {
          "color": "#636efa",
          "dash": "solid"
         },
         "marker": {
          "symbol": "circle"
         },
         "mode": "lines",
         "name": "train_epoch_loss",
         "orientation": "v",
         "showlegend": true,
         "type": "scatter",
         "x": {
          "bdata": "GQAzAE0AZwCBAJsAtQDPAOkAAwEdATcBUQFrAYUBnwG5AdMB7QEHAiECOwJVAm8CiQKjAr0C1wLxAgsD",
          "dtype": "i2"
         },
         "xaxis": "x4",
         "y": {
          "bdata": "O7ETyzYXBkDZiZ0IZCMFQNmJnYgByQRA7MROnGRpBEBiJ3ayu1EEQDuxEwtRLwRAO7ETq439A0AUO7FDgtMDQLETO0HbpANAdmIndlGaA0B2YicGT3QDQCd2YmdUXQNAFDuxM0REA0DFTuy0jzIDQOzETkzHAwNAdmIndqj1AkBiJ3bCz8sCQJ7Yia2esgJA7MROrGqcAkCe2InNgnMCQBQ7sWNpWAJAT+zEzo1BAkAndmKHoywCQJ7Yic16FQJAYid2Mn35AUCxEzvB5eUBQAAAAHAJ0wFAO7ETW6S/AUBiJ3YicqkBQDuxEwuvnQFA",
          "dtype": "f8"
         },
         "yaxis": "y4"
        },
        {
         "hovertemplate": "variable=train_epoch_accuracy<br>step=%{x}<br>value=%{y}<extra></extra>",
         "legendgroup": "train_epoch_accuracy",
         "line": {
          "color": "#EF553B",
          "dash": "solid"
         },
         "marker": {
          "symbol": "circle"
         },
         "mode": "lines",
         "name": "train_epoch_accuracy",
         "orientation": "v",
         "showlegend": true,
         "type": "scatter",
         "x": {
          "bdata": "GQAzAE0AZwCBAJsAtQDPAOkAAwEdATcBUQFrAYUBnwG5AdMB7QEHAiECOwJVAm8CiQKjAr0C1wLxAgsD",
          "dtype": "i2"
         },
         "xaxis": "x3",
         "y": {
          "bdata": "gRZogRboyz/ECW/DCc/VP8sFt8oFt9g/fNNGfNPm2z+GQgqGQmrcP+FtOOFteN0/sp5jsp4D3z9hKKRgKCTgP7prf7pr/+A/WEQJWEQZ4T8t0AIt0MLhP1e54Fa5IOI/5jyw5TyQ4j/GwpXFwtXiP0ELtEALlOM/jPnUi/nE4z/VdHrUdGrkP67+F63+5+Q/suQOsuQ+5T/ql37pl+7lP8odZMkdVOY/h3AIh3Co5j/0BkLzBhLnP5LHHpLHbuc/Pmo6PWrK5z+mAtClAhDoP6zQGazQSeg/EIO4D4OY6D+yQTmyQfnoP7FZ5rBZNuk/",
          "dtype": "f8"
         },
         "yaxis": "y3"
        },
        {
         "hovertemplate": "variable=validation_loss<br>step=%{x}<br>value=%{y}<extra></extra>",
         "legendgroup": "validation_loss",
         "line": {
          "color": "#00cc96",
          "dash": "solid"
         },
         "marker": {
          "symbol": "circle"
         },
         "mode": "lines",
         "name": "validation_loss",
         "orientation": "v",
         "showlegend": true,
         "type": "scatter",
         "x": {
          "bdata": "GQAzAE0AZwCBAJsAtQDPAOkAAwEdATcBUQFrAYUBnwG5AdMB7QEHAiECOwJVAm8CiQKjAr0C1wLxAgsD",
          "dtype": "i2"
         },
         "xaxis": "x2",
         "y": {
          "bdata": "JUmSZHc1BUAlSZLE8rwEQJIkSVL2mwRAt23b1r5xBEC3bdvWqVEEQNu2bVv3TQRASZIkyaE0BECSJElSBgwEQG7btu1q/gNASZIkaaHrA0Dbtm0buA0EQEmSJGk08gNAkiRJEv7/A0CSJElSatwDQNu2bRut4wNAt23bNuHMA0AlSZJEos0DQLdt2/Z61QNASZIkiRixA0C3bdvWzaoDQCVJkoSprgNA27ZtW+6RA0AAAADgfM8DQJIkSVJulwNAkiRJ0penA0Bu27btJpEDQNu2bRvCfANASZIkaQqJA0C3bdu2IqQDQJIkSfLngQNA",
          "dtype": "f8"
         },
         "yaxis": "y2"
        },
        {
         "hovertemplate": "variable=validation_accuracy<br>step=%{x}<br>value=%{y}<extra></extra>",
         "legendgroup": "validation_accuracy",
         "line": {
          "color": "#ab63fa",
          "dash": "solid"
         },
         "marker": {
          "symbol": "circle"
         },
         "mode": "lines",
         "name": "validation_accuracy",
         "orientation": "v",
         "showlegend": true,
         "type": "scatter",
         "x": {
          "bdata": "GQAzAE0AZwCBAJsAtQDPAOkAAwEdATcBUQFrAYUBnwG5AdMB7QEHAiECOwJVAm8CiQKjAr0C1wLxAgsD",
          "dtype": "i2"
         },
         "xaxis": "x",
         "y": {
          "bdata": "DcMwDMMw1j/btm3bti3ZP27btm3bNto/GIZhGIah2z+f53me5zncP3qe53meJ9w/wzAMwzAM3T/zPM/zPI/eP0mSJEmSJN8/MQzDMAzD3z89z/M8z3PeP5/neZ7ned8/AAAAAACA3j9WVVVVVdXfP5IkSZIkyd8/ep7neZ5H4D+GYRiGYTjgP8/zPM/z/N8/SZIkSZLE4D89z/M8z9PgPz3P8zzPk+A/z/M8z/P84D/neZ7neR7gP27btm3bNuE/kiRJkiSJ4D8AAAAAACDhP5IkSZIkqeE/q6qqqqoq4T8lSZIkSdLgPxmGYRiGYeE/",
          "dtype": "f8"
         },
         "yaxis": "y"
        }
       ],
       "layout": {
        "annotations": [
         {
          "font": {},
          "showarrow": false,
          "text": "variable=validation_accuracy",
          "textangle": 90,
          "x": 0.98,
          "xanchor": "left",
          "xref": "paper",
          "y": 0.11375,
          "yanchor": "middle",
          "yref": "paper"
         },
         {
          "font": {},
          "showarrow": false,
          "text": "variable=validation_loss",
          "textangle": 90,
          "x": 0.98,
          "xanchor": "left",
          "xref": "paper",
          "y": 0.37124999999999997,
          "yanchor": "middle",
          "yref": "paper"
         },
         {
          "font": {},
          "showarrow": false,
          "text": "variable=train_epoch_accuracy",
          "textangle": 90,
          "x": 0.98,
          "xanchor": "left",
          "xref": "paper",
          "y": 0.62875,
          "yanchor": "middle",
          "yref": "paper"
         },
         {
          "font": {},
          "showarrow": false,
          "text": "variable=train_epoch_loss",
          "textangle": 90,
          "x": 0.98,
          "xanchor": "left",
          "xref": "paper",
          "y": 0.88625,
          "yanchor": "middle",
          "yref": "paper"
         }
        ],
        "legend": {
         "title": {
          "text": "variable"
         },
         "tracegroupgap": 0
        },
        "template": {
         "data": {
          "bar": [
           {
            "error_x": {
             "color": "#2a3f5f"
            },
            "error_y": {
             "color": "#2a3f5f"
            },
            "marker": {
             "line": {
              "color": "#E5ECF6",
              "width": 0.5
             },
             "pattern": {
              "fillmode": "overlay",
              "size": 10,
              "solidity": 0.2
             }
            },
            "type": "bar"
           }
          ],
          "barpolar": [
           {
            "marker": {
             "line": {
              "color": "#E5ECF6",
              "width": 0.5
             },
             "pattern": {
              "fillmode": "overlay",
              "size": 10,
              "solidity": 0.2
             }
            },
            "type": "barpolar"
           }
          ],
          "carpet": [
           {
            "aaxis": {
             "endlinecolor": "#2a3f5f",
             "gridcolor": "white",
             "linecolor": "white",
             "minorgridcolor": "white",
             "startlinecolor": "#2a3f5f"
            },
            "baxis": {
             "endlinecolor": "#2a3f5f",
             "gridcolor": "white",
             "linecolor": "white",
             "minorgridcolor": "white",
             "startlinecolor": "#2a3f5f"
            },
            "type": "carpet"
           }
          ],
          "choropleth": [
           {
            "colorbar": {
             "outlinewidth": 0,
             "ticks": ""
            },
            "type": "choropleth"
           }
          ],
          "contour": [
           {
            "colorbar": {
             "outlinewidth": 0,
             "ticks": ""
            },
            "colorscale": [
             [
              0,
              "#0d0887"
             ],
             [
              0.1111111111111111,
              "#46039f"
             ],
             [
              0.2222222222222222,
              "#7201a8"
             ],
             [
              0.3333333333333333,
              "#9c179e"
             ],
             [
              0.4444444444444444,
              "#bd3786"
             ],
             [
              0.5555555555555556,
              "#d8576b"
             ],
             [
              0.6666666666666666,
              "#ed7953"
             ],
             [
              0.7777777777777778,
              "#fb9f3a"
             ],
             [
              0.8888888888888888,
              "#fdca26"
             ],
             [
              1,
              "#f0f921"
             ]
            ],
            "type": "contour"
           }
          ],
          "contourcarpet": [
           {
            "colorbar": {
             "outlinewidth": 0,
             "ticks": ""
            },
            "type": "contourcarpet"
           }
          ],
          "heatmap": [
           {
            "colorbar": {
             "outlinewidth": 0,
             "ticks": ""
            },
            "colorscale": [
             [
              0,
              "#0d0887"
             ],
             [
              0.1111111111111111,
              "#46039f"
             ],
             [
              0.2222222222222222,
              "#7201a8"
             ],
             [
              0.3333333333333333,
              "#9c179e"
             ],
             [
              0.4444444444444444,
              "#bd3786"
             ],
             [
              0.5555555555555556,
              "#d8576b"
             ],
             [
              0.6666666666666666,
              "#ed7953"
             ],
             [
              0.7777777777777778,
              "#fb9f3a"
             ],
             [
              0.8888888888888888,
              "#fdca26"
             ],
             [
              1,
              "#f0f921"
             ]
            ],
            "type": "heatmap"
           }
          ],
          "histogram": [
           {
            "marker": {
             "pattern": {
              "fillmode": "overlay",
              "size": 10,
              "solidity": 0.2
             }
            },
            "type": "histogram"
           }
          ],
          "histogram2d": [
           {
            "colorbar": {
             "outlinewidth": 0,
             "ticks": ""
            },
            "colorscale": [
             [
              0,
              "#0d0887"
             ],
             [
              0.1111111111111111,
              "#46039f"
             ],
             [
              0.2222222222222222,
              "#7201a8"
             ],
             [
              0.3333333333333333,
              "#9c179e"
             ],
             [
              0.4444444444444444,
              "#bd3786"
             ],
             [
              0.5555555555555556,
              "#d8576b"
             ],
             [
              0.6666666666666666,
              "#ed7953"
             ],
             [
              0.7777777777777778,
              "#fb9f3a"
             ],
             [
              0.8888888888888888,
              "#fdca26"
             ],
             [
              1,
              "#f0f921"
             ]
            ],
            "type": "histogram2d"
           }
          ],
          "histogram2dcontour": [
           {
            "colorbar": {
             "outlinewidth": 0,
             "ticks": ""
            },
            "colorscale": [
             [
              0,
              "#0d0887"
             ],
             [
              0.1111111111111111,
              "#46039f"
             ],
             [
              0.2222222222222222,
              "#7201a8"
             ],
             [
              0.3333333333333333,
              "#9c179e"
             ],
             [
              0.4444444444444444,
              "#bd3786"
             ],
             [
              0.5555555555555556,
              "#d8576b"
             ],
             [
              0.6666666666666666,
              "#ed7953"
             ],
             [
              0.7777777777777778,
              "#fb9f3a"
             ],
             [
              0.8888888888888888,
              "#fdca26"
             ],
             [
              1,
              "#f0f921"
             ]
            ],
            "type": "histogram2dcontour"
           }
          ],
          "mesh3d": [
           {
            "colorbar": {
             "outlinewidth": 0,
             "ticks": ""
            },
            "type": "mesh3d"
           }
          ],
          "parcoords": [
           {
            "line": {
             "colorbar": {
              "outlinewidth": 0,
              "ticks": ""
             }
            },
            "type": "parcoords"
           }
          ],
          "pie": [
           {
            "automargin": true,
            "type": "pie"
           }
          ],
          "scatter": [
           {
            "fillpattern": {
             "fillmode": "overlay",
             "size": 10,
             "solidity": 0.2
            },
            "type": "scatter"
           }
          ],
          "scatter3d": [
           {
            "line": {
             "colorbar": {
              "outlinewidth": 0,
              "ticks": ""
             }
            },
            "marker": {
             "colorbar": {
              "outlinewidth": 0,
              "ticks": ""
             }
            },
            "type": "scatter3d"
           }
          ],
          "scattercarpet": [
           {
            "marker": {
             "colorbar": {
              "outlinewidth": 0,
              "ticks": ""
             }
            },
            "type": "scattercarpet"
           }
          ],
          "scattergeo": [
           {
            "marker": {
             "colorbar": {
              "outlinewidth": 0,
              "ticks": ""
             }
            },
            "type": "scattergeo"
           }
          ],
          "scattergl": [
           {
            "marker": {
             "colorbar": {
              "outlinewidth": 0,
              "ticks": ""
             }
            },
            "type": "scattergl"
           }
          ],
          "scattermap": [
           {
            "marker": {
             "colorbar": {
              "outlinewidth": 0,
              "ticks": ""
             }
            },
            "type": "scattermap"
           }
          ],
          "scattermapbox": [
           {
            "marker": {
             "colorbar": {
              "outlinewidth": 0,
              "ticks": ""
             }
            },
            "type": "scattermapbox"
           }
          ],
          "scatterpolar": [
           {
            "marker": {
             "colorbar": {
              "outlinewidth": 0,
              "ticks": ""
             }
            },
            "type": "scatterpolar"
           }
          ],
          "scatterpolargl": [
           {
            "marker": {
             "colorbar": {
              "outlinewidth": 0,
              "ticks": ""
             }
            },
            "type": "scatterpolargl"
           }
          ],
          "scatterternary": [
           {
            "marker": {
             "colorbar": {
              "outlinewidth": 0,
              "ticks": ""
             }
            },
            "type": "scatterternary"
           }
          ],
          "surface": [
           {
            "colorbar": {
             "outlinewidth": 0,
             "ticks": ""
            },
            "colorscale": [
             [
              0,
              "#0d0887"
             ],
             [
              0.1111111111111111,
              "#46039f"
             ],
             [
              0.2222222222222222,
              "#7201a8"
             ],
             [
              0.3333333333333333,
              "#9c179e"
             ],
             [
              0.4444444444444444,
              "#bd3786"
             ],
             [
              0.5555555555555556,
              "#d8576b"
             ],
             [
              0.6666666666666666,
              "#ed7953"
             ],
             [
              0.7777777777777778,
              "#fb9f3a"
             ],
             [
              0.8888888888888888,
              "#fdca26"
             ],
             [
              1,
              "#f0f921"
             ]
            ],
            "type": "surface"
           }
          ],
          "table": [
           {
            "cells": {
             "fill": {
              "color": "#EBF0F8"
             },
             "line": {
              "color": "white"
             }
            },
            "header": {
             "fill": {
              "color": "#C8D4E3"
             },
             "line": {
              "color": "white"
             }
            },
            "type": "table"
           }
          ]
         },
         "layout": {
          "annotationdefaults": {
           "arrowcolor": "#2a3f5f",
           "arrowhead": 0,
           "arrowwidth": 1
          },
          "autotypenumbers": "strict",
          "coloraxis": {
           "colorbar": {
            "outlinewidth": 0,
            "ticks": ""
           }
          },
          "colorscale": {
           "diverging": [
            [
             0,
             "#8e0152"
            ],
            [
             0.1,
             "#c51b7d"
            ],
            [
             0.2,
             "#de77ae"
            ],
            [
             0.3,
             "#f1b6da"
            ],
            [
             0.4,
             "#fde0ef"
            ],
            [
             0.5,
             "#f7f7f7"
            ],
            [
             0.6,
             "#e6f5d0"
            ],
            [
             0.7,
             "#b8e186"
            ],
            [
             0.8,
             "#7fbc41"
            ],
            [
             0.9,
             "#4d9221"
            ],
            [
             1,
             "#276419"
            ]
           ],
           "sequential": [
            [
             0,
             "#0d0887"
            ],
            [
             0.1111111111111111,
             "#46039f"
            ],
            [
             0.2222222222222222,
             "#7201a8"
            ],
            [
             0.3333333333333333,
             "#9c179e"
            ],
            [
             0.4444444444444444,
             "#bd3786"
            ],
            [
             0.5555555555555556,
             "#d8576b"
            ],
            [
             0.6666666666666666,
             "#ed7953"
            ],
            [
             0.7777777777777778,
             "#fb9f3a"
            ],
            [
             0.8888888888888888,
             "#fdca26"
            ],
            [
             1,
             "#f0f921"
            ]
           ],
           "sequentialminus": [
            [
             0,
             "#0d0887"
            ],
            [
             0.1111111111111111,
             "#46039f"
            ],
            [
             0.2222222222222222,
             "#7201a8"
            ],
            [
             0.3333333333333333,
             "#9c179e"
            ],
            [
             0.4444444444444444,
             "#bd3786"
            ],
            [
             0.5555555555555556,
             "#d8576b"
            ],
            [
             0.6666666666666666,
             "#ed7953"
            ],
            [
             0.7777777777777778,
             "#fb9f3a"
            ],
            [
             0.8888888888888888,
             "#fdca26"
            ],
            [
             1,
             "#f0f921"
            ]
           ]
          },
          "colorway": [
           "#636efa",
           "#EF553B",
           "#00cc96",
           "#ab63fa",
           "#FFA15A",
           "#19d3f3",
           "#FF6692",
           "#B6E880",
           "#FF97FF",
           "#FECB52"
          ],
          "font": {
           "color": "#2a3f5f"
          },
          "geo": {
           "bgcolor": "white",
           "lakecolor": "white",
           "landcolor": "#E5ECF6",
           "showlakes": true,
           "showland": true,
           "subunitcolor": "white"
          },
          "hoverlabel": {
           "align": "left"
          },
          "hovermode": "closest",
          "mapbox": {
           "style": "light"
          },
          "paper_bgcolor": "white",
          "plot_bgcolor": "#E5ECF6",
          "polar": {
           "angularaxis": {
            "gridcolor": "white",
            "linecolor": "white",
            "ticks": ""
           },
           "bgcolor": "#E5ECF6",
           "radialaxis": {
            "gridcolor": "white",
            "linecolor": "white",
            "ticks": ""
           }
          },
          "scene": {
           "xaxis": {
            "backgroundcolor": "#E5ECF6",
            "gridcolor": "white",
            "gridwidth": 2,
            "linecolor": "white",
            "showbackground": true,
            "ticks": "",
            "zerolinecolor": "white"
           },
           "yaxis": {
            "backgroundcolor": "#E5ECF6",
            "gridcolor": "white",
            "gridwidth": 2,
            "linecolor": "white",
            "showbackground": true,
            "ticks": "",
            "zerolinecolor": "white"
           },
           "zaxis": {
            "backgroundcolor": "#E5ECF6",
            "gridcolor": "white",
            "gridwidth": 2,
            "linecolor": "white",
            "showbackground": true,
            "ticks": "",
            "zerolinecolor": "white"
           }
          },
          "shapedefaults": {
           "line": {
            "color": "#2a3f5f"
           }
          },
          "ternary": {
           "aaxis": {
            "gridcolor": "white",
            "linecolor": "white",
            "ticks": ""
           },
           "baxis": {
            "gridcolor": "white",
            "linecolor": "white",
            "ticks": ""
           },
           "bgcolor": "#E5ECF6",
           "caxis": {
            "gridcolor": "white",
            "linecolor": "white",
            "ticks": ""
           }
          },
          "title": {
           "x": 0.05
          },
          "xaxis": {
           "automargin": true,
           "gridcolor": "white",
           "linecolor": "white",
           "ticks": "",
           "title": {
            "standoff": 15
           },
           "zerolinecolor": "white",
           "zerolinewidth": 2
          },
          "yaxis": {
           "automargin": true,
           "gridcolor": "white",
           "linecolor": "white",
           "ticks": "",
           "title": {
            "standoff": 15
           },
           "zerolinecolor": "white",
           "zerolinewidth": 2
          }
         }
        },
        "title": {
         "text": "epoch metrics"
        },
        "xaxis": {
         "anchor": "y",
         "domain": [
          0,
          0.98
         ],
         "title": {
          "text": "step"
         }
        },
        "xaxis2": {
         "anchor": "y2",
         "domain": [
          0,
          0.98
         ],
         "matches": "x",
         "showticklabels": false
        },
        "xaxis3": {
         "anchor": "y3",
         "domain": [
          0,
          0.98
         ],
         "matches": "x",
         "showticklabels": false
        },
        "xaxis4": {
         "anchor": "y4",
         "domain": [
          0,
          0.98
         ],
         "matches": "x",
         "showticklabels": false
        },
        "yaxis": {
         "anchor": "x",
         "domain": [
          0,
          0.2275
         ],
         "title": {
          "text": "value"
         }
        },
        "yaxis2": {
         "anchor": "x2",
         "domain": [
          0.2575,
          0.485
         ],
         "title": {
          "text": "value"
         }
        },
        "yaxis3": {
         "anchor": "x3",
         "domain": [
          0.515,
          0.7425
         ],
         "title": {
          "text": "value"
         }
        },
        "yaxis4": {
         "anchor": "x4",
         "domain": [
          0.7725,
          1
         ],
         "title": {
          "text": "value"
         }
        }
       }
      }
     },
     "metadata": {},
     "output_type": "display_data"
    },
    {
     "name": "stdout",
     "output_type": "stream",
     "text": [
      "=========================\n",
      "training: 4\n"
     ]
    },
    {
     "data": {
      "application/vnd.jupyter.widget-view+json": {
       "model_id": "9df6ea9792ff4a228643d932b343a653",
       "version_major": 2,
       "version_minor": 0
      },
      "text/plain": [
       "Output()"
      ]
     },
     "metadata": {},
     "output_type": "display_data"
    },
    {
     "data": {
      "text/html": [
       "<pre style=\"white-space:pre;overflow-x:auto;line-height:normal;font-family:Menlo,'DejaVu Sans Mono',consolas,'Courier New',monospace\"></pre>\n"
      ],
      "text/plain": []
     },
     "metadata": {},
     "output_type": "display_data"
    },
    {
     "data": {
      "application/vnd.plotly.v1+json": {
       "config": {
        "plotlyServerURL": "https://plot.ly"
       },
       "data": [
        {
         "hovertemplate": "variable=batch_train_loss<br>step=%{x}<br>value=%{y}<extra></extra>",
         "legendgroup": "",
         "marker": {
          "color": "#636efa",
          "symbol": "circle"
         },
         "mode": "markers",
         "name": "",
         "showlegend": false,
         "type": "scattergl",
         "x": {
          "bdata": "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",
          "dtype": "i2"
         },
         "xaxis": "x2",
         "y": {
          "bdata": "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",
          "dtype": "f8"
         },
         "yaxis": "y2"
        },
        {
         "hovertemplate": "<b>Exponentially Weighted mean trendline</b><br><br>variable=batch_train_loss<br>step=%{x}<br>value=%{y} <b>(trend)</b><extra></extra>",
         "legendgroup": "",
         "line": {
          "color": "red"
         },
         "marker": {
          "color": "#636efa",
          "symbol": "circle"
         },
         "mode": "lines",
         "name": "",
         "showlegend": false,
         "type": "scattergl",
         "x": {
          "bdata": "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",
          "dtype": "i2"
         },
         "xaxis": "x2",
         "y": {
          "bdata": "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",
          "dtype": "f8"
         },
         "yaxis": "y2"
        },
        {
         "hovertemplate": "variable=batch_accuracy<br>step=%{x}<br>value=%{y}<extra></extra>",
         "legendgroup": "",
         "marker": {
          "color": "#636efa",
          "symbol": "circle"
         },
         "mode": "markers",
         "name": "",
         "showlegend": false,
         "type": "scattergl",
         "x": {
          "bdata": "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",
          "dtype": "i2"
         },
         "xaxis": "x",
         "y": {
          "bdata": "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",
          "dtype": "f8"
         },
         "yaxis": "y"
        },
        {
         "hovertemplate": "<b>Exponentially Weighted mean trendline</b><br><br>variable=batch_accuracy<br>step=%{x}<br>value=%{y} <b>(trend)</b><extra></extra>",
         "legendgroup": "",
         "line": {
          "color": "red"
         },
         "marker": {
          "color": "#636efa",
          "symbol": "circle"
         },
         "mode": "lines",
         "name": "",
         "showlegend": false,
         "type": "scattergl",
         "x": {
          "bdata": "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",
          "dtype": "i2"
         },
         "xaxis": "x",
         "y": {
          "bdata": "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",
          "dtype": "f8"
         },
         "yaxis": "y"
        }
       ],
       "layout": {
        "annotations": [
         {
          "font": {},
          "showarrow": false,
          "text": "variable=batch_accuracy",
          "textangle": 90,
          "x": 0.98,
          "xanchor": "left",
          "xref": "paper",
          "y": 0.2425,
          "yanchor": "middle",
          "yref": "paper"
         },
         {
          "font": {},
          "showarrow": false,
          "text": "variable=batch_train_loss",
          "textangle": 90,
          "x": 0.98,
          "xanchor": "left",
          "xref": "paper",
          "y": 0.7575000000000001,
          "yanchor": "middle",
          "yref": "paper"
         }
        ],
        "legend": {
         "tracegroupgap": 0
        },
        "template": {
         "data": {
          "bar": [
           {
            "error_x": {
             "color": "#2a3f5f"
            },
            "error_y": {
             "color": "#2a3f5f"
            },
            "marker": {
             "line": {
              "color": "#E5ECF6",
              "width": 0.5
             },
             "pattern": {
              "fillmode": "overlay",
              "size": 10,
              "solidity": 0.2
             }
            },
            "type": "bar"
           }
          ],
          "barpolar": [
           {
            "marker": {
             "line": {
              "color": "#E5ECF6",
              "width": 0.5
             },
             "pattern": {
              "fillmode": "overlay",
              "size": 10,
              "solidity": 0.2
             }
            },
            "type": "barpolar"
           }
          ],
          "carpet": [
           {
            "aaxis": {
             "endlinecolor": "#2a3f5f",
             "gridcolor": "white",
             "linecolor": "white",
             "minorgridcolor": "white",
             "startlinecolor": "#2a3f5f"
            },
            "baxis": {
             "endlinecolor": "#2a3f5f",
             "gridcolor": "white",
             "linecolor": "white",
             "minorgridcolor": "white",
             "startlinecolor": "#2a3f5f"
            },
            "type": "carpet"
           }
          ],
          "choropleth": [
           {
            "colorbar": {
             "outlinewidth": 0,
             "ticks": ""
            },
            "type": "choropleth"
           }
          ],
          "contour": [
           {
            "colorbar": {
             "outlinewidth": 0,
             "ticks": ""
            },
            "colorscale": [
             [
              0,
              "#0d0887"
             ],
             [
              0.1111111111111111,
              "#46039f"
             ],
             [
              0.2222222222222222,
              "#7201a8"
             ],
             [
              0.3333333333333333,
              "#9c179e"
             ],
             [
              0.4444444444444444,
              "#bd3786"
             ],
             [
              0.5555555555555556,
              "#d8576b"
             ],
             [
              0.6666666666666666,
              "#ed7953"
             ],
             [
              0.7777777777777778,
              "#fb9f3a"
             ],
             [
              0.8888888888888888,
              "#fdca26"
             ],
             [
              1,
              "#f0f921"
             ]
            ],
            "type": "contour"
           }
          ],
          "contourcarpet": [
           {
            "colorbar": {
             "outlinewidth": 0,
             "ticks": ""
            },
            "type": "contourcarpet"
           }
          ],
          "heatmap": [
           {
            "colorbar": {
             "outlinewidth": 0,
             "ticks": ""
            },
            "colorscale": [
             [
              0,
              "#0d0887"
             ],
             [
              0.1111111111111111,
              "#46039f"
             ],
             [
              0.2222222222222222,
              "#7201a8"
             ],
             [
              0.3333333333333333,
              "#9c179e"
             ],
             [
              0.4444444444444444,
              "#bd3786"
             ],
             [
              0.5555555555555556,
              "#d8576b"
             ],
             [
              0.6666666666666666,
              "#ed7953"
             ],
             [
              0.7777777777777778,
              "#fb9f3a"
             ],
             [
              0.8888888888888888,
              "#fdca26"
             ],
             [
              1,
              "#f0f921"
             ]
            ],
            "type": "heatmap"
           }
          ],
          "histogram": [
           {
            "marker": {
             "pattern": {
              "fillmode": "overlay",
              "size": 10,
              "solidity": 0.2
             }
            },
            "type": "histogram"
           }
          ],
          "histogram2d": [
           {
            "colorbar": {
             "outlinewidth": 0,
             "ticks": ""
            },
            "colorscale": [
             [
              0,
              "#0d0887"
             ],
             [
              0.1111111111111111,
              "#46039f"
             ],
             [
              0.2222222222222222,
              "#7201a8"
             ],
             [
              0.3333333333333333,
              "#9c179e"
             ],
             [
              0.4444444444444444,
              "#bd3786"
             ],
             [
              0.5555555555555556,
              "#d8576b"
             ],
             [
              0.6666666666666666,
              "#ed7953"
             ],
             [
              0.7777777777777778,
              "#fb9f3a"
             ],
             [
              0.8888888888888888,
              "#fdca26"
             ],
             [
              1,
              "#f0f921"
             ]
            ],
            "type": "histogram2d"
           }
          ],
          "histogram2dcontour": [
           {
            "colorbar": {
             "outlinewidth": 0,
             "ticks": ""
            },
            "colorscale": [
             [
              0,
              "#0d0887"
             ],
             [
              0.1111111111111111,
              "#46039f"
             ],
             [
              0.2222222222222222,
              "#7201a8"
             ],
             [
              0.3333333333333333,
              "#9c179e"
             ],
             [
              0.4444444444444444,
              "#bd3786"
             ],
             [
              0.5555555555555556,
              "#d8576b"
             ],
             [
              0.6666666666666666,
              "#ed7953"
             ],
             [
              0.7777777777777778,
              "#fb9f3a"
             ],
             [
              0.8888888888888888,
              "#fdca26"
             ],
             [
              1,
              "#f0f921"
             ]
            ],
            "type": "histogram2dcontour"
           }
          ],
          "mesh3d": [
           {
            "colorbar": {
             "outlinewidth": 0,
             "ticks": ""
            },
            "type": "mesh3d"
           }
          ],
          "parcoords": [
           {
            "line": {
             "colorbar": {
              "outlinewidth": 0,
              "ticks": ""
             }
            },
            "type": "parcoords"
           }
          ],
          "pie": [
           {
            "automargin": true,
            "type": "pie"
           }
          ],
          "scatter": [
           {
            "fillpattern": {
             "fillmode": "overlay",
             "size": 10,
             "solidity": 0.2
            },
            "type": "scatter"
           }
          ],
          "scatter3d": [
           {
            "line": {
             "colorbar": {
              "outlinewidth": 0,
              "ticks": ""
             }
            },
            "marker": {
             "colorbar": {
              "outlinewidth": 0,
              "ticks": ""
             }
            },
            "type": "scatter3d"
           }
          ],
          "scattercarpet": [
           {
            "marker": {
             "colorbar": {
              "outlinewidth": 0,
              "ticks": ""
             }
            },
            "type": "scattercarpet"
           }
          ],
          "scattergeo": [
           {
            "marker": {
             "colorbar": {
              "outlinewidth": 0,
              "ticks": ""
             }
            },
            "type": "scattergeo"
           }
          ],
          "scattergl": [
           {
            "marker": {
             "colorbar": {
              "outlinewidth": 0,
              "ticks": ""
             }
            },
            "type": "scattergl"
           }
          ],
          "scattermap": [
           {
            "marker": {
             "colorbar": {
              "outlinewidth": 0,
              "ticks": ""
             }
            },
            "type": "scattermap"
           }
          ],
          "scattermapbox": [
           {
            "marker": {
             "colorbar": {
              "outlinewidth": 0,
              "ticks": ""
             }
            },
            "type": "scattermapbox"
           }
          ],
          "scatterpolar": [
           {
            "marker": {
             "colorbar": {
              "outlinewidth": 0,
              "ticks": ""
             }
            },
            "type": "scatterpolar"
           }
          ],
          "scatterpolargl": [
           {
            "marker": {
             "colorbar": {
              "outlinewidth": 0,
              "ticks": ""
             }
            },
            "type": "scatterpolargl"
           }
          ],
          "scatterternary": [
           {
            "marker": {
             "colorbar": {
              "outlinewidth": 0,
              "ticks": ""
             }
            },
            "type": "scatterternary"
           }
          ],
          "surface": [
           {
            "colorbar": {
             "outlinewidth": 0,
             "ticks": ""
            },
            "colorscale": [
             [
              0,
              "#0d0887"
             ],
             [
              0.1111111111111111,
              "#46039f"
             ],
             [
              0.2222222222222222,
              "#7201a8"
             ],
             [
              0.3333333333333333,
              "#9c179e"
             ],
             [
              0.4444444444444444,
              "#bd3786"
             ],
             [
              0.5555555555555556,
              "#d8576b"
             ],
             [
              0.6666666666666666,
              "#ed7953"
             ],
             [
              0.7777777777777778,
              "#fb9f3a"
             ],
             [
              0.8888888888888888,
              "#fdca26"
             ],
             [
              1,
              "#f0f921"
             ]
            ],
            "type": "surface"
           }
          ],
          "table": [
           {
            "cells": {
             "fill": {
              "color": "#EBF0F8"
             },
             "line": {
              "color": "white"
             }
            },
            "header": {
             "fill": {
              "color": "#C8D4E3"
             },
             "line": {
              "color": "white"
             }
            },
            "type": "table"
           }
          ]
         },
         "layout": {
          "annotationdefaults": {
           "arrowcolor": "#2a3f5f",
           "arrowhead": 0,
           "arrowwidth": 1
          },
          "autotypenumbers": "strict",
          "coloraxis": {
           "colorbar": {
            "outlinewidth": 0,
            "ticks": ""
           }
          },
          "colorscale": {
           "diverging": [
            [
             0,
             "#8e0152"
            ],
            [
             0.1,
             "#c51b7d"
            ],
            [
             0.2,
             "#de77ae"
            ],
            [
             0.3,
             "#f1b6da"
            ],
            [
             0.4,
             "#fde0ef"
            ],
            [
             0.5,
             "#f7f7f7"
            ],
            [
             0.6,
             "#e6f5d0"
            ],
            [
             0.7,
             "#b8e186"
            ],
            [
             0.8,
             "#7fbc41"
            ],
            [
             0.9,
             "#4d9221"
            ],
            [
             1,
             "#276419"
            ]
           ],
           "sequential": [
            [
             0,
             "#0d0887"
            ],
            [
             0.1111111111111111,
             "#46039f"
            ],
            [
             0.2222222222222222,
             "#7201a8"
            ],
            [
             0.3333333333333333,
             "#9c179e"
            ],
            [
             0.4444444444444444,
             "#bd3786"
            ],
            [
             0.5555555555555556,
             "#d8576b"
            ],
            [
             0.6666666666666666,
             "#ed7953"
            ],
            [
             0.7777777777777778,
             "#fb9f3a"
            ],
            [
             0.8888888888888888,
             "#fdca26"
            ],
            [
             1,
             "#f0f921"
            ]
           ],
           "sequentialminus": [
            [
             0,
             "#0d0887"
            ],
            [
             0.1111111111111111,
             "#46039f"
            ],
            [
             0.2222222222222222,
             "#7201a8"
            ],
            [
             0.3333333333333333,
             "#9c179e"
            ],
            [
             0.4444444444444444,
             "#bd3786"
            ],
            [
             0.5555555555555556,
             "#d8576b"
            ],
            [
             0.6666666666666666,
             "#ed7953"
            ],
            [
             0.7777777777777778,
             "#fb9f3a"
            ],
            [
             0.8888888888888888,
             "#fdca26"
            ],
            [
             1,
             "#f0f921"
            ]
           ]
          },
          "colorway": [
           "#636efa",
           "#EF553B",
           "#00cc96",
           "#ab63fa",
           "#FFA15A",
           "#19d3f3",
           "#FF6692",
           "#B6E880",
           "#FF97FF",
           "#FECB52"
          ],
          "font": {
           "color": "#2a3f5f"
          },
          "geo": {
           "bgcolor": "white",
           "lakecolor": "white",
           "landcolor": "#E5ECF6",
           "showlakes": true,
           "showland": true,
           "subunitcolor": "white"
          },
          "hoverlabel": {
           "align": "left"
          },
          "hovermode": "closest",
          "mapbox": {
           "style": "light"
          },
          "paper_bgcolor": "white",
          "plot_bgcolor": "#E5ECF6",
          "polar": {
           "angularaxis": {
            "gridcolor": "white",
            "linecolor": "white",
            "ticks": ""
           },
           "bgcolor": "#E5ECF6",
           "radialaxis": {
            "gridcolor": "white",
            "linecolor": "white",
            "ticks": ""
           }
          },
          "scene": {
           "xaxis": {
            "backgroundcolor": "#E5ECF6",
            "gridcolor": "white",
            "gridwidth": 2,
            "linecolor": "white",
            "showbackground": true,
            "ticks": "",
            "zerolinecolor": "white"
           },
           "yaxis": {
            "backgroundcolor": "#E5ECF6",
            "gridcolor": "white",
            "gridwidth": 2,
            "linecolor": "white",
            "showbackground": true,
            "ticks": "",
            "zerolinecolor": "white"
           },
           "zaxis": {
            "backgroundcolor": "#E5ECF6",
            "gridcolor": "white",
            "gridwidth": 2,
            "linecolor": "white",
            "showbackground": true,
            "ticks": "",
            "zerolinecolor": "white"
           }
          },
          "shapedefaults": {
           "line": {
            "color": "#2a3f5f"
           }
          },
          "ternary": {
           "aaxis": {
            "gridcolor": "white",
            "linecolor": "white",
            "ticks": ""
           },
           "baxis": {
            "gridcolor": "white",
            "linecolor": "white",
            "ticks": ""
           },
           "bgcolor": "#E5ECF6",
           "caxis": {
            "gridcolor": "white",
            "linecolor": "white",
            "ticks": ""
           }
          },
          "title": {
           "x": 0.05
          },
          "xaxis": {
           "automargin": true,
           "gridcolor": "white",
           "linecolor": "white",
           "ticks": "",
           "title": {
            "standoff": 15
           },
           "zerolinecolor": "white",
           "zerolinewidth": 2
          },
          "yaxis": {
           "automargin": true,
           "gridcolor": "white",
           "linecolor": "white",
           "ticks": "",
           "title": {
            "standoff": 15
           },
           "zerolinecolor": "white",
           "zerolinewidth": 2
          }
         }
        },
        "title": {
         "text": "batch metrics"
        },
        "xaxis": {
         "anchor": "y",
         "domain": [
          0,
          0.98
         ],
         "title": {
          "text": "step"
         }
        },
        "xaxis2": {
         "anchor": "y2",
         "domain": [
          0,
          0.98
         ],
         "matches": "x",
         "showticklabels": false
        },
        "yaxis": {
         "anchor": "x",
         "domain": [
          0,
          0.485
         ],
         "title": {
          "text": "value"
         }
        },
        "yaxis2": {
         "anchor": "x2",
         "domain": [
          0.515,
          1
         ],
         "title": {
          "text": "value"
         }
        }
       }
      }
     },
     "metadata": {},
     "output_type": "display_data"
    },
    {
     "data": {
      "application/vnd.plotly.v1+json": {
       "config": {
        "plotlyServerURL": "https://plot.ly"
       },
       "data": [
        {
         "hovertemplate": "variable=train_epoch_loss<br>step=%{x}<br>value=%{y}<extra></extra>",
         "legendgroup": "train_epoch_loss",
         "line": {
          "color": "#636efa",
          "dash": "solid"
         },
         "marker": {
          "symbol": "circle"
         },
         "mode": "lines",
         "name": "train_epoch_loss",
         "orientation": "v",
         "showlegend": true,
         "type": "scatter",
         "x": {
          "bdata": "GQAzAE0AZwCBAJsAtQDPAOkAAwEdATcBUQFrAYUBnwG5AdMB7QEHAiECOwJVAm8CiQKjAr0C1wLxAgsD",
          "dtype": "i2"
         },
         "xaxis": "x4",
         "y": {
          "bdata": "J3ZiJ6Q7BkCe2In9MX4FQDuxE4tmHgVAsRM7UcXRBECKndg5TpkEQJ7Yie2UVARAdmInNnAWBECxEzsRndcDQBQ7sSNiugNAT+zEjrKXA0CxEztRZn0DQDuxE0t4ZgNAdmInFgdQA0DZiZ2oFT8DQAAAAEAKJANA2YmdqPQSA0CxEzvhb/0CQGIndvIr8AJA2YmdaPXhAkAndmJ3vdYCQHZiJ0bqugJAO7ET++q/AkCe2Ikd0LMCQBQ7seNxrwJAsRM7cRGhAkDsxE58Qp0CQJ7Yie0WmQJAFDuxE+6LAkDsxE48WocCQDuxE2u9gwJA",
          "dtype": "f8"
         },
         "yaxis": "y4"
        },
        {
         "hovertemplate": "variable=train_epoch_accuracy<br>step=%{x}<br>value=%{y}<extra></extra>",
         "legendgroup": "train_epoch_accuracy",
         "line": {
          "color": "#EF553B",
          "dash": "solid"
         },
         "marker": {
          "symbol": "circle"
         },
         "mode": "lines",
         "name": "train_epoch_accuracy",
         "orientation": "v",
         "showlegend": true,
         "type": "scatter",
         "x": {
          "bdata": "GQAzAE0AZwCBAJsAtQDPAOkAAwEdATcBUQFrAYUBnwG5AdMB7QEHAiECOwJVAm8CiQKjAr0C1wLxAgsD",
          "dtype": "i2"
         },
         "xaxis": "x3",
         "y": {
          "bdata": "7k937U93yT/hVrngVvnSP9XRpNTRxNU/KaRgKKRA2D/cKhfcKhfaP7wNJ7wNZ9w/cJTdb5Rd3j8o6gso6jvgPyzoryvon+A/R3zTRnwj4T8cCM0bCJ3hPzwlvTsl7eE/GiB6GiBK4j+NhP2MhJ3iPxaXrRWXDeM/uPgDuPhT4z8/gIs/gJvjPzRBIjNB4uM/ifswiPsA5D8alVEZlSHkPyVJkiRJouQ/eb4jeL6T5D+cNuKbNsLkP49sUI5s0OQ/UL2YT70I5T87mpQ6mgTlPwXPdwTPJ+U/xh/AxR9Q5T8ZZ1MYZ2PlP/zq3PvqfOU/",
          "dtype": "f8"
         },
         "yaxis": "y3"
        },
        {
         "hovertemplate": "variable=validation_loss<br>step=%{x}<br>value=%{y}<extra></extra>",
         "legendgroup": "validation_loss",
         "line": {
          "color": "#00cc96",
          "dash": "solid"
         },
         "marker": {
          "symbol": "circle"
         },
         "mode": "lines",
         "name": "validation_loss",
         "orientation": "v",
         "showlegend": true,
         "type": "scatter",
         "x": {
          "bdata": "GQAzAE0AZwCBAJsAtQDPAOkAAwEdATcBUQFrAYUBnwG5AdMB7QEHAiECOwJVAm8CiQKjAr0C1wLxAgsD",
          "dtype": "i2"
         },
         "xaxis": "x2",
         "y": {
          "bdata": "t23bVpDsBUBu27ZNnKgFQCVJkmT4awVASZIk6cJyBUC3bdsWBS0FQEmSJAniEgVAJUmS5AwGBUCSJEkyFPcEQG7btm3p2wRAkiRJMpPbBECSJElyZ94EQLdt27aOugRAJUmSZFPDBEBJkiTp39QEQAAAAMCZvQRAJUmS5ODFBEAlSZLkYMEEQG7btm09vgRAkiRJEknEBEC3bdu25rAEQAAAAMAirQRAJUmSpCO2BEDbtm1bD8gEQNu2bRs+xARAbtu2zZLDBEC3bdt23LUEQLdt23aN0ARASZIkyUW+BEBJkiSJqMwEQG7btu1WowRA",
          "dtype": "f8"
         },
         "yaxis": "y2"
        },
        {
         "hovertemplate": "variable=validation_accuracy<br>step=%{x}<br>value=%{y}<extra></extra>",
         "legendgroup": "validation_accuracy",
         "line": {
          "color": "#ab63fa",
          "dash": "solid"
         },
         "marker": {
          "symbol": "circle"
         },
         "mode": "lines",
         "name": "validation_accuracy",
         "orientation": "v",
         "showlegend": true,
         "type": "scatter",
         "x": {
          "bdata": "GQAzAE0AZwCBAJsAtQDPAOkAAwEdATcBUQFrAYUBnwG5AdMB7QEHAiECOwJVAm8CiQKjAr0C1wLxAgsD",
          "dtype": "i2"
         },
         "xaxis": "x",
         "y": {
          "bdata": "DcMwDMMwzz9iGIZhGEbRP2EYhmEYhtM/qqqqqqrq0j9WVVVVVVXVP+h5nud5HtY/hmEYhmGY1j+f53me5znXP6qqqqqqqtc/YRiGYRjG1z8lSZIkSdLXP+h5nud53tg/MQzDMAyD2D8YhmEYhiHYP3qe53me59g/hmEYhmGY2D9hGIZhGIbYP8/zPM/zvNg/MQzDMAyD2D/zPM/zPA/ZP/M8z/M8T9k/YRiGYRgG2T9hGIZhGIbYP8/zPM/zfNg/YRiGYRiG2D/oeZ7ned7YP6qqqqqq6tc/SZIkSZLk2D9u27Zt2/bXPyVJkiRJ0tk/",
          "dtype": "f8"
         },
         "yaxis": "y"
        }
       ],
       "layout": {
        "annotations": [
         {
          "font": {},
          "showarrow": false,
          "text": "variable=validation_accuracy",
          "textangle": 90,
          "x": 0.98,
          "xanchor": "left",
          "xref": "paper",
          "y": 0.11375,
          "yanchor": "middle",
          "yref": "paper"
         },
         {
          "font": {},
          "showarrow": false,
          "text": "variable=validation_loss",
          "textangle": 90,
          "x": 0.98,
          "xanchor": "left",
          "xref": "paper",
          "y": 0.37124999999999997,
          "yanchor": "middle",
          "yref": "paper"
         },
         {
          "font": {},
          "showarrow": false,
          "text": "variable=train_epoch_accuracy",
          "textangle": 90,
          "x": 0.98,
          "xanchor": "left",
          "xref": "paper",
          "y": 0.62875,
          "yanchor": "middle",
          "yref": "paper"
         },
         {
          "font": {},
          "showarrow": false,
          "text": "variable=train_epoch_loss",
          "textangle": 90,
          "x": 0.98,
          "xanchor": "left",
          "xref": "paper",
          "y": 0.88625,
          "yanchor": "middle",
          "yref": "paper"
         }
        ],
        "legend": {
         "title": {
          "text": "variable"
         },
         "tracegroupgap": 0
        },
        "template": {
         "data": {
          "bar": [
           {
            "error_x": {
             "color": "#2a3f5f"
            },
            "error_y": {
             "color": "#2a3f5f"
            },
            "marker": {
             "line": {
              "color": "#E5ECF6",
              "width": 0.5
             },
             "pattern": {
              "fillmode": "overlay",
              "size": 10,
              "solidity": 0.2
             }
            },
            "type": "bar"
           }
          ],
          "barpolar": [
           {
            "marker": {
             "line": {
              "color": "#E5ECF6",
              "width": 0.5
             },
             "pattern": {
              "fillmode": "overlay",
              "size": 10,
              "solidity": 0.2
             }
            },
            "type": "barpolar"
           }
          ],
          "carpet": [
           {
            "aaxis": {
             "endlinecolor": "#2a3f5f",
             "gridcolor": "white",
             "linecolor": "white",
             "minorgridcolor": "white",
             "startlinecolor": "#2a3f5f"
            },
            "baxis": {
             "endlinecolor": "#2a3f5f",
             "gridcolor": "white",
             "linecolor": "white",
             "minorgridcolor": "white",
             "startlinecolor": "#2a3f5f"
            },
            "type": "carpet"
           }
          ],
          "choropleth": [
           {
            "colorbar": {
             "outlinewidth": 0,
             "ticks": ""
            },
            "type": "choropleth"
           }
          ],
          "contour": [
           {
            "colorbar": {
             "outlinewidth": 0,
             "ticks": ""
            },
            "colorscale": [
             [
              0,
              "#0d0887"
             ],
             [
              0.1111111111111111,
              "#46039f"
             ],
             [
              0.2222222222222222,
              "#7201a8"
             ],
             [
              0.3333333333333333,
              "#9c179e"
             ],
             [
              0.4444444444444444,
              "#bd3786"
             ],
             [
              0.5555555555555556,
              "#d8576b"
             ],
             [
              0.6666666666666666,
              "#ed7953"
             ],
             [
              0.7777777777777778,
              "#fb9f3a"
             ],
             [
              0.8888888888888888,
              "#fdca26"
             ],
             [
              1,
              "#f0f921"
             ]
            ],
            "type": "contour"
           }
          ],
          "contourcarpet": [
           {
            "colorbar": {
             "outlinewidth": 0,
             "ticks": ""
            },
            "type": "contourcarpet"
           }
          ],
          "heatmap": [
           {
            "colorbar": {
             "outlinewidth": 0,
             "ticks": ""
            },
            "colorscale": [
             [
              0,
              "#0d0887"
             ],
             [
              0.1111111111111111,
              "#46039f"
             ],
             [
              0.2222222222222222,
              "#7201a8"
             ],
             [
              0.3333333333333333,
              "#9c179e"
             ],
             [
              0.4444444444444444,
              "#bd3786"
             ],
             [
              0.5555555555555556,
              "#d8576b"
             ],
             [
              0.6666666666666666,
              "#ed7953"
             ],
             [
              0.7777777777777778,
              "#fb9f3a"
             ],
             [
              0.8888888888888888,
              "#fdca26"
             ],
             [
              1,
              "#f0f921"
             ]
            ],
            "type": "heatmap"
           }
          ],
          "histogram": [
           {
            "marker": {
             "pattern": {
              "fillmode": "overlay",
              "size": 10,
              "solidity": 0.2
             }
            },
            "type": "histogram"
           }
          ],
          "histogram2d": [
           {
            "colorbar": {
             "outlinewidth": 0,
             "ticks": ""
            },
            "colorscale": [
             [
              0,
              "#0d0887"
             ],
             [
              0.1111111111111111,
              "#46039f"
             ],
             [
              0.2222222222222222,
              "#7201a8"
             ],
             [
              0.3333333333333333,
              "#9c179e"
             ],
             [
              0.4444444444444444,
              "#bd3786"
             ],
             [
              0.5555555555555556,
              "#d8576b"
             ],
             [
              0.6666666666666666,
              "#ed7953"
             ],
             [
              0.7777777777777778,
              "#fb9f3a"
             ],
             [
              0.8888888888888888,
              "#fdca26"
             ],
             [
              1,
              "#f0f921"
             ]
            ],
            "type": "histogram2d"
           }
          ],
          "histogram2dcontour": [
           {
            "colorbar": {
             "outlinewidth": 0,
             "ticks": ""
            },
            "colorscale": [
             [
              0,
              "#0d0887"
             ],
             [
              0.1111111111111111,
              "#46039f"
             ],
             [
              0.2222222222222222,
              "#7201a8"
             ],
             [
              0.3333333333333333,
              "#9c179e"
             ],
             [
              0.4444444444444444,
              "#bd3786"
             ],
             [
              0.5555555555555556,
              "#d8576b"
             ],
             [
              0.6666666666666666,
              "#ed7953"
             ],
             [
              0.7777777777777778,
              "#fb9f3a"
             ],
             [
              0.8888888888888888,
              "#fdca26"
             ],
             [
              1,
              "#f0f921"
             ]
            ],
            "type": "histogram2dcontour"
           }
          ],
          "mesh3d": [
           {
            "colorbar": {
             "outlinewidth": 0,
             "ticks": ""
            },
            "type": "mesh3d"
           }
          ],
          "parcoords": [
           {
            "line": {
             "colorbar": {
              "outlinewidth": 0,
              "ticks": ""
             }
            },
            "type": "parcoords"
           }
          ],
          "pie": [
           {
            "automargin": true,
            "type": "pie"
           }
          ],
          "scatter": [
           {
            "fillpattern": {
             "fillmode": "overlay",
             "size": 10,
             "solidity": 0.2
            },
            "type": "scatter"
           }
          ],
          "scatter3d": [
           {
            "line": {
             "colorbar": {
              "outlinewidth": 0,
              "ticks": ""
             }
            },
            "marker": {
             "colorbar": {
              "outlinewidth": 0,
              "ticks": ""
             }
            },
            "type": "scatter3d"
           }
          ],
          "scattercarpet": [
           {
            "marker": {
             "colorbar": {
              "outlinewidth": 0,
              "ticks": ""
             }
            },
            "type": "scattercarpet"
           }
          ],
          "scattergeo": [
           {
            "marker": {
             "colorbar": {
              "outlinewidth": 0,
              "ticks": ""
             }
            },
            "type": "scattergeo"
           }
          ],
          "scattergl": [
           {
            "marker": {
             "colorbar": {
              "outlinewidth": 0,
              "ticks": ""
             }
            },
            "type": "scattergl"
           }
          ],
          "scattermap": [
           {
            "marker": {
             "colorbar": {
              "outlinewidth": 0,
              "ticks": ""
             }
            },
            "type": "scattermap"
           }
          ],
          "scattermapbox": [
           {
            "marker": {
             "colorbar": {
              "outlinewidth": 0,
              "ticks": ""
             }
            },
            "type": "scattermapbox"
           }
          ],
          "scatterpolar": [
           {
            "marker": {
             "colorbar": {
              "outlinewidth": 0,
              "ticks": ""
             }
            },
            "type": "scatterpolar"
           }
          ],
          "scatterpolargl": [
           {
            "marker": {
             "colorbar": {
              "outlinewidth": 0,
              "ticks": ""
             }
            },
            "type": "scatterpolargl"
           }
          ],
          "scatterternary": [
           {
            "marker": {
             "colorbar": {
              "outlinewidth": 0,
              "ticks": ""
             }
            },
            "type": "scatterternary"
           }
          ],
          "surface": [
           {
            "colorbar": {
             "outlinewidth": 0,
             "ticks": ""
            },
            "colorscale": [
             [
              0,
              "#0d0887"
             ],
             [
              0.1111111111111111,
              "#46039f"
             ],
             [
              0.2222222222222222,
              "#7201a8"
             ],
             [
              0.3333333333333333,
              "#9c179e"
             ],
             [
              0.4444444444444444,
              "#bd3786"
             ],
             [
              0.5555555555555556,
              "#d8576b"
             ],
             [
              0.6666666666666666,
              "#ed7953"
             ],
             [
              0.7777777777777778,
              "#fb9f3a"
             ],
             [
              0.8888888888888888,
              "#fdca26"
             ],
             [
              1,
              "#f0f921"
             ]
            ],
            "type": "surface"
           }
          ],
          "table": [
           {
            "cells": {
             "fill": {
              "color": "#EBF0F8"
             },
             "line": {
              "color": "white"
             }
            },
            "header": {
             "fill": {
              "color": "#C8D4E3"
             },
             "line": {
              "color": "white"
             }
            },
            "type": "table"
           }
          ]
         },
         "layout": {
          "annotationdefaults": {
           "arrowcolor": "#2a3f5f",
           "arrowhead": 0,
           "arrowwidth": 1
          },
          "autotypenumbers": "strict",
          "coloraxis": {
           "colorbar": {
            "outlinewidth": 0,
            "ticks": ""
           }
          },
          "colorscale": {
           "diverging": [
            [
             0,
             "#8e0152"
            ],
            [
             0.1,
             "#c51b7d"
            ],
            [
             0.2,
             "#de77ae"
            ],
            [
             0.3,
             "#f1b6da"
            ],
            [
             0.4,
             "#fde0ef"
            ],
            [
             0.5,
             "#f7f7f7"
            ],
            [
             0.6,
             "#e6f5d0"
            ],
            [
             0.7,
             "#b8e186"
            ],
            [
             0.8,
             "#7fbc41"
            ],
            [
             0.9,
             "#4d9221"
            ],
            [
             1,
             "#276419"
            ]
           ],
           "sequential": [
            [
             0,
             "#0d0887"
            ],
            [
             0.1111111111111111,
             "#46039f"
            ],
            [
             0.2222222222222222,
             "#7201a8"
            ],
            [
             0.3333333333333333,
             "#9c179e"
            ],
            [
             0.4444444444444444,
             "#bd3786"
            ],
            [
             0.5555555555555556,
             "#d8576b"
            ],
            [
             0.6666666666666666,
             "#ed7953"
            ],
            [
             0.7777777777777778,
             "#fb9f3a"
            ],
            [
             0.8888888888888888,
             "#fdca26"
            ],
            [
             1,
             "#f0f921"
            ]
           ],
           "sequentialminus": [
            [
             0,
             "#0d0887"
            ],
            [
             0.1111111111111111,
             "#46039f"
            ],
            [
             0.2222222222222222,
             "#7201a8"
            ],
            [
             0.3333333333333333,
             "#9c179e"
            ],
            [
             0.4444444444444444,
             "#bd3786"
            ],
            [
             0.5555555555555556,
             "#d8576b"
            ],
            [
             0.6666666666666666,
             "#ed7953"
            ],
            [
             0.7777777777777778,
             "#fb9f3a"
            ],
            [
             0.8888888888888888,
             "#fdca26"
            ],
            [
             1,
             "#f0f921"
            ]
           ]
          },
          "colorway": [
           "#636efa",
           "#EF553B",
           "#00cc96",
           "#ab63fa",
           "#FFA15A",
           "#19d3f3",
           "#FF6692",
           "#B6E880",
           "#FF97FF",
           "#FECB52"
          ],
          "font": {
           "color": "#2a3f5f"
          },
          "geo": {
           "bgcolor": "white",
           "lakecolor": "white",
           "landcolor": "#E5ECF6",
           "showlakes": true,
           "showland": true,
           "subunitcolor": "white"
          },
          "hoverlabel": {
           "align": "left"
          },
          "hovermode": "closest",
          "mapbox": {
           "style": "light"
          },
          "paper_bgcolor": "white",
          "plot_bgcolor": "#E5ECF6",
          "polar": {
           "angularaxis": {
            "gridcolor": "white",
            "linecolor": "white",
            "ticks": ""
           },
           "bgcolor": "#E5ECF6",
           "radialaxis": {
            "gridcolor": "white",
            "linecolor": "white",
            "ticks": ""
           }
          },
          "scene": {
           "xaxis": {
            "backgroundcolor": "#E5ECF6",
            "gridcolor": "white",
            "gridwidth": 2,
            "linecolor": "white",
            "showbackground": true,
            "ticks": "",
            "zerolinecolor": "white"
           },
           "yaxis": {
            "backgroundcolor": "#E5ECF6",
            "gridcolor": "white",
            "gridwidth": 2,
            "linecolor": "white",
            "showbackground": true,
            "ticks": "",
            "zerolinecolor": "white"
           },
           "zaxis": {
            "backgroundcolor": "#E5ECF6",
            "gridcolor": "white",
            "gridwidth": 2,
            "linecolor": "white",
            "showbackground": true,
            "ticks": "",
            "zerolinecolor": "white"
           }
          },
          "shapedefaults": {
           "line": {
            "color": "#2a3f5f"
           }
          },
          "ternary": {
           "aaxis": {
            "gridcolor": "white",
            "linecolor": "white",
            "ticks": ""
           },
           "baxis": {
            "gridcolor": "white",
            "linecolor": "white",
            "ticks": ""
           },
           "bgcolor": "#E5ECF6",
           "caxis": {
            "gridcolor": "white",
            "linecolor": "white",
            "ticks": ""
           }
          },
          "title": {
           "x": 0.05
          },
          "xaxis": {
           "automargin": true,
           "gridcolor": "white",
           "linecolor": "white",
           "ticks": "",
           "title": {
            "standoff": 15
           },
           "zerolinecolor": "white",
           "zerolinewidth": 2
          },
          "yaxis": {
           "automargin": true,
           "gridcolor": "white",
           "linecolor": "white",
           "ticks": "",
           "title": {
            "standoff": 15
           },
           "zerolinecolor": "white",
           "zerolinewidth": 2
          }
         }
        },
        "title": {
         "text": "epoch metrics"
        },
        "xaxis": {
         "anchor": "y",
         "domain": [
          0,
          0.98
         ],
         "title": {
          "text": "step"
         }
        },
        "xaxis2": {
         "anchor": "y2",
         "domain": [
          0,
          0.98
         ],
         "matches": "x",
         "showticklabels": false
        },
        "xaxis3": {
         "anchor": "y3",
         "domain": [
          0,
          0.98
         ],
         "matches": "x",
         "showticklabels": false
        },
        "xaxis4": {
         "anchor": "y4",
         "domain": [
          0,
          0.98
         ],
         "matches": "x",
         "showticklabels": false
        },
        "yaxis": {
         "anchor": "x",
         "domain": [
          0,
          0.2275
         ],
         "title": {
          "text": "value"
         }
        },
        "yaxis2": {
         "anchor": "x2",
         "domain": [
          0.2575,
          0.485
         ],
         "title": {
          "text": "value"
         }
        },
        "yaxis3": {
         "anchor": "x3",
         "domain": [
          0.515,
          0.7425
         ],
         "title": {
          "text": "value"
         }
        },
        "yaxis4": {
         "anchor": "x4",
         "domain": [
          0.7725,
          1
         ],
         "title": {
          "text": "value"
         }
        }
       }
      }
     },
     "metadata": {},
     "output_type": "display_data"
    },
    {
     "name": "stdout",
     "output_type": "stream",
     "text": [
      "=========================\n",
      "training: 5\n"
     ]
    },
    {
     "data": {
      "application/vnd.jupyter.widget-view+json": {
       "model_id": "7facfd5b9efd4b4791db54c32cc5cc40",
       "version_major": 2,
       "version_minor": 0
      },
      "text/plain": [
       "Output()"
      ]
     },
     "metadata": {},
     "output_type": "display_data"
    },
    {
     "data": {
      "text/html": [
       "<pre style=\"white-space:pre;overflow-x:auto;line-height:normal;font-family:Menlo,'DejaVu Sans Mono',consolas,'Courier New',monospace\"></pre>\n"
      ],
      "text/plain": []
     },
     "metadata": {},
     "output_type": "display_data"
    },
    {
     "data": {
      "application/vnd.plotly.v1+json": {
       "config": {
        "plotlyServerURL": "https://plot.ly"
       },
       "data": [
        {
         "hovertemplate": "variable=batch_train_loss<br>step=%{x}<br>value=%{y}<extra></extra>",
         "legendgroup": "",
         "marker": {
          "color": "#636efa",
          "symbol": "circle"
         },
         "mode": "markers",
         "name": "",
         "showlegend": false,
         "type": "scattergl",
         "x": {
          "bdata": "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",
          "dtype": "i2"
         },
         "xaxis": "x2",
         "y": {
          "bdata": "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",
          "dtype": "f8"
         },
         "yaxis": "y2"
        },
        {
         "hovertemplate": "<b>Exponentially Weighted mean trendline</b><br><br>variable=batch_train_loss<br>step=%{x}<br>value=%{y} <b>(trend)</b><extra></extra>",
         "legendgroup": "",
         "line": {
          "color": "red"
         },
         "marker": {
          "color": "#636efa",
          "symbol": "circle"
         },
         "mode": "lines",
         "name": "",
         "showlegend": false,
         "type": "scattergl",
         "x": {
          "bdata": "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",
          "dtype": "i2"
         },
         "xaxis": "x2",
         "y": {
          "bdata": "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",
          "dtype": "f8"
         },
         "yaxis": "y2"
        },
        {
         "hovertemplate": "variable=batch_accuracy<br>step=%{x}<br>value=%{y}<extra></extra>",
         "legendgroup": "",
         "marker": {
          "color": "#636efa",
          "symbol": "circle"
         },
         "mode": "markers",
         "name": "",
         "showlegend": false,
         "type": "scattergl",
         "x": {
          "bdata": "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",
          "dtype": "i2"
         },
         "xaxis": "x",
         "y": {
          "bdata": "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",
          "dtype": "f8"
         },
         "yaxis": "y"
        },
        {
         "hovertemplate": "<b>Exponentially Weighted mean trendline</b><br><br>variable=batch_accuracy<br>step=%{x}<br>value=%{y} <b>(trend)</b><extra></extra>",
         "legendgroup": "",
         "line": {
          "color": "red"
         },
         "marker": {
          "color": "#636efa",
          "symbol": "circle"
         },
         "mode": "lines",
         "name": "",
         "showlegend": false,
         "type": "scattergl",
         "x": {
          "bdata": "AAABAAIAAwAEAAUABgAHAAgACQAKAAsADAANAA4ADwAQABEAEgATABQAFQAWABcAGAAZABoAGwAcAB0AHgAfACAAIQAiACMAJAAlACYAJwAoACkAKgArACwALQAuAC8AMAAxADIAMwA0ADUANgA3ADgAOQA6ADsAPAA9AD4APwBAAEEAQgBDAEQARQBGAEcASABJAEoASwBMAE0ATgBPAFAAUQBSAFMAVABVAFYAVwBYAFkAWgBbAFwAXQBeAF8AYABhAGIAYwBkAGUAZgBnAGgAaQBqAGsAbABtAG4AbwBwAHEAcgBzAHQAdQB2AHcAeAB5AHoAewB8AH0AfgB/AIAAgQCCAIMAhACFAIYAhwCIAIkAigCLAIwAjQCOAI8AkACRAJIAkwCUAJUAlgCXAJgAmQCaAJsAnACdAJ4AnwCgAKEAogCjAKQApQCmAKcAqACpAKoAqwCsAK0ArgCvALAAsQCyALMAtAC1ALYAtwC4ALkAugC7ALwAvQC+AL8AwADBAMIAwwDEAMUAxgDHAMgAyQDKAMsAzADNAM4AzwDQANEA0gDTANQA1QDWANcA2ADZANoA2wDcAN0A3gDfAOAA4QDiAOMA5ADlAOYA5wDoAOkA6gDrAOwA7QDuAO8A8ADxAPIA8wD0APUA9gD3APgA+QD6APsA/AD9AP4A/wAAAQEBAgEDAQQBBQEGAQcBCAEJAQoBCwEMAQ0BDgEPARABEQESARMBFAEVARYBFwEYARkBGgEbARwBHQEeAR8BIAEhASIBIwEkASUBJgEnASgBKQEqASsBLAEtAS4BLwEwATEBMgEzATQBNQE2ATcBOAE5AToBOwE8AT0BPgE/AUABQQFCAUMBRAFFAUYBRwFIAUkBSgFLAUwBTQFOAU8BUAFRAVIBUwFUAVUBVgFXAVgBWQFaAVsBXAFdAV4BXwFgAWEBYgFjAWQBZQFmAWcBaAFpAWoBawFsAW0BbgFvAXABcQFyAXMBdAF1AXYBdwF4AXkBegF7AXwBfQF+AX8BgAGBAYIBgwGEAYUBhgGHAYgBiQGKAYsBjAGNAY4BjwGQAZEBkgGTAZQBlQGWAZcBmAGZAZoBmwGcAZ0BngGfAaABoQGiAaMBpAGlAaYBpwGoAakBqgGrAawBrQGuAa8BsAGxAbIBswG0AbUBtgG3AbgBuQG6AbsBvAG9Ab4BvwHAAcEBwgHDAcQBxQHGAccByAHJAcoBywHMAc0BzgHPAdAB0QHSAdMB1AHVAdYB1wHYAdkB2gHbAdwB3QHeAd8B4AHhAeIB4wHkAeUB5gHnAegB6QHqAesB7AHtAe4B7wHwAfEB8gHzAfQB9QH2AfcB+AH5AfoB+wH8Af0B/gH/AQACAQICAgMCBAIFAgYCBwIIAgkCCgILAgwCDQIOAg8CEAIRAhICEwIUAhUCFgIXAhgCGQIaAhsCHAIdAh4CHwIgAiECIgIjAiQCJQImAicCKAIpAioCKwIsAi0CLgIvAjACMQIyAjMCNAI1AjYCNwI4AjkCOgI7AjwCPQI+Aj8CQAJBAkICQwJEAkUCRgJHAkgCSQJKAksCTAJNAk4CTwJQAlECUgJTAlQCVQJWAlcCWAJZAloCWwJcAl0CXgJfAmACYQJiAmMCZAJlAmYCZwJoAmkCagJrAmwCbQJuAm8CcAJxAnICcwJ0AnUCdgJ3AngCeQJ6AnsCfAJ9An4CfwKAAoECggKDAoQChQKGAocCiAKJAooCiwKMAo0CjgKPApACkQKSApMClAKVApYClwKYApkCmgKbApwCnQKeAp8CoAKhAqICowKkAqUCpgKnAqgCqQKqAqsCrAKtAq4CrwKwArECsgKzArQCtQK2ArcCuAK5AroCuwK8Ar0CvgK/AsACwQLCAsMCxALFAsYCxwLIAskCygLLAswCzQLOAs8C0ALRAtIC0wLUAtUC1gLXAtgC2QLaAtsC3ALdAt4C3wLgAuEC4gLjAuQC5QLmAucC6ALpAuoC6wLsAu0C7gLvAvAC8QLyAvMC9AL1AvYC9wL4AvkC+gL7AvwC/QL+Av8CAAMBAwIDAwMEAwUDBgMHAwgDCQMKAwsD",
          "dtype": "i2"
         },
         "xaxis": "x",
         "y": {
          "bdata": "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",
          "dtype": "f8"
         },
         "yaxis": "y"
        }
       ],
       "layout": {
        "annotations": [
         {
          "font": {},
          "showarrow": false,
          "text": "variable=batch_accuracy",
          "textangle": 90,
          "x": 0.98,
          "xanchor": "left",
          "xref": "paper",
          "y": 0.2425,
          "yanchor": "middle",
          "yref": "paper"
         },
         {
          "font": {},
          "showarrow": false,
          "text": "variable=batch_train_loss",
          "textangle": 90,
          "x": 0.98,
          "xanchor": "left",
          "xref": "paper",
          "y": 0.7575000000000001,
          "yanchor": "middle",
          "yref": "paper"
         }
        ],
        "legend": {
         "tracegroupgap": 0
        },
        "template": {
         "data": {
          "bar": [
           {
            "error_x": {
             "color": "#2a3f5f"
            },
            "error_y": {
             "color": "#2a3f5f"
            },
            "marker": {
             "line": {
              "color": "#E5ECF6",
              "width": 0.5
             },
             "pattern": {
              "fillmode": "overlay",
              "size": 10,
              "solidity": 0.2
             }
            },
            "type": "bar"
           }
          ],
          "barpolar": [
           {
            "marker": {
             "line": {
              "color": "#E5ECF6",
              "width": 0.5
             },
             "pattern": {
              "fillmode": "overlay",
              "size": 10,
              "solidity": 0.2
             }
            },
            "type": "barpolar"
           }
          ],
          "carpet": [
           {
            "aaxis": {
             "endlinecolor": "#2a3f5f",
             "gridcolor": "white",
             "linecolor": "white",
             "minorgridcolor": "white",
             "startlinecolor": "#2a3f5f"
            },
            "baxis": {
             "endlinecolor": "#2a3f5f",
             "gridcolor": "white",
             "linecolor": "white",
             "minorgridcolor": "white",
             "startlinecolor": "#2a3f5f"
            },
            "type": "carpet"
           }
          ],
          "choropleth": [
           {
            "colorbar": {
             "outlinewidth": 0,
             "ticks": ""
            },
            "type": "choropleth"
           }
          ],
          "contour": [
           {
            "colorbar": {
             "outlinewidth": 0,
             "ticks": ""
            },
            "colorscale": [
             [
              0,
              "#0d0887"
             ],
             [
              0.1111111111111111,
              "#46039f"
             ],
             [
              0.2222222222222222,
              "#7201a8"
             ],
             [
              0.3333333333333333,
              "#9c179e"
             ],
             [
              0.4444444444444444,
              "#bd3786"
             ],
             [
              0.5555555555555556,
              "#d8576b"
             ],
             [
              0.6666666666666666,
              "#ed7953"
             ],
             [
              0.7777777777777778,
              "#fb9f3a"
             ],
             [
              0.8888888888888888,
              "#fdca26"
             ],
             [
              1,
              "#f0f921"
             ]
            ],
            "type": "contour"
           }
          ],
          "contourcarpet": [
           {
            "colorbar": {
             "outlinewidth": 0,
             "ticks": ""
            },
            "type": "contourcarpet"
           }
          ],
          "heatmap": [
           {
            "colorbar": {
             "outlinewidth": 0,
             "ticks": ""
            },
            "colorscale": [
             [
              0,
              "#0d0887"
             ],
             [
              0.1111111111111111,
              "#46039f"
             ],
             [
              0.2222222222222222,
              "#7201a8"
             ],
             [
              0.3333333333333333,
              "#9c179e"
             ],
             [
              0.4444444444444444,
              "#bd3786"
             ],
             [
              0.5555555555555556,
              "#d8576b"
             ],
             [
              0.6666666666666666,
              "#ed7953"
             ],
             [
              0.7777777777777778,
              "#fb9f3a"
             ],
             [
              0.8888888888888888,
              "#fdca26"
             ],
             [
              1,
              "#f0f921"
             ]
            ],
            "type": "heatmap"
           }
          ],
          "histogram": [
           {
            "marker": {
             "pattern": {
              "fillmode": "overlay",
              "size": 10,
              "solidity": 0.2
             }
            },
            "type": "histogram"
           }
          ],
          "histogram2d": [
           {
            "colorbar": {
             "outlinewidth": 0,
             "ticks": ""
            },
            "colorscale": [
             [
              0,
              "#0d0887"
             ],
             [
              0.1111111111111111,
              "#46039f"
             ],
             [
              0.2222222222222222,
              "#7201a8"
             ],
             [
              0.3333333333333333,
              "#9c179e"
             ],
             [
              0.4444444444444444,
              "#bd3786"
             ],
             [
              0.5555555555555556,
              "#d8576b"
             ],
             [
              0.6666666666666666,
              "#ed7953"
             ],
             [
              0.7777777777777778,
              "#fb9f3a"
             ],
             [
              0.8888888888888888,
              "#fdca26"
             ],
             [
              1,
              "#f0f921"
             ]
            ],
            "type": "histogram2d"
           }
          ],
          "histogram2dcontour": [
           {
            "colorbar": {
             "outlinewidth": 0,
             "ticks": ""
            },
            "colorscale": [
             [
              0,
              "#0d0887"
             ],
             [
              0.1111111111111111,
              "#46039f"
             ],
             [
              0.2222222222222222,
              "#7201a8"
             ],
             [
              0.3333333333333333,
              "#9c179e"
             ],
             [
              0.4444444444444444,
              "#bd3786"
             ],
             [
              0.5555555555555556,
              "#d8576b"
             ],
             [
              0.6666666666666666,
              "#ed7953"
             ],
             [
              0.7777777777777778,
              "#fb9f3a"
             ],
             [
              0.8888888888888888,
              "#fdca26"
             ],
             [
              1,
              "#f0f921"
             ]
            ],
            "type": "histogram2dcontour"
           }
          ],
          "mesh3d": [
           {
            "colorbar": {
             "outlinewidth": 0,
             "ticks": ""
            },
            "type": "mesh3d"
           }
          ],
          "parcoords": [
           {
            "line": {
             "colorbar": {
              "outlinewidth": 0,
              "ticks": ""
             }
            },
            "type": "parcoords"
           }
          ],
          "pie": [
           {
            "automargin": true,
            "type": "pie"
           }
          ],
          "scatter": [
           {
            "fillpattern": {
             "fillmode": "overlay",
             "size": 10,
             "solidity": 0.2
            },
            "type": "scatter"
           }
          ],
          "scatter3d": [
           {
            "line": {
             "colorbar": {
              "outlinewidth": 0,
              "ticks": ""
             }
            },
            "marker": {
             "colorbar": {
              "outlinewidth": 0,
              "ticks": ""
             }
            },
            "type": "scatter3d"
           }
          ],
          "scattercarpet": [
           {
            "marker": {
             "colorbar": {
              "outlinewidth": 0,
              "ticks": ""
             }
            },
            "type": "scattercarpet"
           }
          ],
          "scattergeo": [
           {
            "marker": {
             "colorbar": {
              "outlinewidth": 0,
              "ticks": ""
             }
            },
            "type": "scattergeo"
           }
          ],
          "scattergl": [
           {
            "marker": {
             "colorbar": {
              "outlinewidth": 0,
              "ticks": ""
             }
            },
            "type": "scattergl"
           }
          ],
          "scattermap": [
           {
            "marker": {
             "colorbar": {
              "outlinewidth": 0,
              "ticks": ""
             }
            },
            "type": "scattermap"
           }
          ],
          "scattermapbox": [
           {
            "marker": {
             "colorbar": {
              "outlinewidth": 0,
              "ticks": ""
             }
            },
            "type": "scattermapbox"
           }
          ],
          "scatterpolar": [
           {
            "marker": {
             "colorbar": {
              "outlinewidth": 0,
              "ticks": ""
             }
            },
            "type": "scatterpolar"
           }
          ],
          "scatterpolargl": [
           {
            "marker": {
             "colorbar": {
              "outlinewidth": 0,
              "ticks": ""
             }
            },
            "type": "scatterpolargl"
           }
          ],
          "scatterternary": [
           {
            "marker": {
             "colorbar": {
              "outlinewidth": 0,
              "ticks": ""
             }
            },
            "type": "scatterternary"
           }
          ],
          "surface": [
           {
            "colorbar": {
             "outlinewidth": 0,
             "ticks": ""
            },
            "colorscale": [
             [
              0,
              "#0d0887"
             ],
             [
              0.1111111111111111,
              "#46039f"
             ],
             [
              0.2222222222222222,
              "#7201a8"
             ],
             [
              0.3333333333333333,
              "#9c179e"
             ],
             [
              0.4444444444444444,
              "#bd3786"
             ],
             [
              0.5555555555555556,
              "#d8576b"
             ],
             [
              0.6666666666666666,
              "#ed7953"
             ],
             [
              0.7777777777777778,
              "#fb9f3a"
             ],
             [
              0.8888888888888888,
              "#fdca26"
             ],
             [
              1,
              "#f0f921"
             ]
            ],
            "type": "surface"
           }
          ],
          "table": [
           {
            "cells": {
             "fill": {
              "color": "#EBF0F8"
             },
             "line": {
              "color": "white"
             }
            },
            "header": {
             "fill": {
              "color": "#C8D4E3"
             },
             "line": {
              "color": "white"
             }
            },
            "type": "table"
           }
          ]
         },
         "layout": {
          "annotationdefaults": {
           "arrowcolor": "#2a3f5f",
           "arrowhead": 0,
           "arrowwidth": 1
          },
          "autotypenumbers": "strict",
          "coloraxis": {
           "colorbar": {
            "outlinewidth": 0,
            "ticks": ""
           }
          },
          "colorscale": {
           "diverging": [
            [
             0,
             "#8e0152"
            ],
            [
             0.1,
             "#c51b7d"
            ],
            [
             0.2,
             "#de77ae"
            ],
            [
             0.3,
             "#f1b6da"
            ],
            [
             0.4,
             "#fde0ef"
            ],
            [
             0.5,
             "#f7f7f7"
            ],
            [
             0.6,
             "#e6f5d0"
            ],
            [
             0.7,
             "#b8e186"
            ],
            [
             0.8,
             "#7fbc41"
            ],
            [
             0.9,
             "#4d9221"
            ],
            [
             1,
             "#276419"
            ]
           ],
           "sequential": [
            [
             0,
             "#0d0887"
            ],
            [
             0.1111111111111111,
             "#46039f"
            ],
            [
             0.2222222222222222,
             "#7201a8"
            ],
            [
             0.3333333333333333,
             "#9c179e"
            ],
            [
             0.4444444444444444,
             "#bd3786"
            ],
            [
             0.5555555555555556,
             "#d8576b"
            ],
            [
             0.6666666666666666,
             "#ed7953"
            ],
            [
             0.7777777777777778,
             "#fb9f3a"
            ],
            [
             0.8888888888888888,
             "#fdca26"
            ],
            [
             1,
             "#f0f921"
            ]
           ],
           "sequentialminus": [
            [
             0,
             "#0d0887"
            ],
            [
             0.1111111111111111,
             "#46039f"
            ],
            [
             0.2222222222222222,
             "#7201a8"
            ],
            [
             0.3333333333333333,
             "#9c179e"
            ],
            [
             0.4444444444444444,
             "#bd3786"
            ],
            [
             0.5555555555555556,
             "#d8576b"
            ],
            [
             0.6666666666666666,
             "#ed7953"
            ],
            [
             0.7777777777777778,
             "#fb9f3a"
            ],
            [
             0.8888888888888888,
             "#fdca26"
            ],
            [
             1,
             "#f0f921"
            ]
           ]
          },
          "colorway": [
           "#636efa",
           "#EF553B",
           "#00cc96",
           "#ab63fa",
           "#FFA15A",
           "#19d3f3",
           "#FF6692",
           "#B6E880",
           "#FF97FF",
           "#FECB52"
          ],
          "font": {
           "color": "#2a3f5f"
          },
          "geo": {
           "bgcolor": "white",
           "lakecolor": "white",
           "landcolor": "#E5ECF6",
           "showlakes": true,
           "showland": true,
           "subunitcolor": "white"
          },
          "hoverlabel": {
           "align": "left"
          },
          "hovermode": "closest",
          "mapbox": {
           "style": "light"
          },
          "paper_bgcolor": "white",
          "plot_bgcolor": "#E5ECF6",
          "polar": {
           "angularaxis": {
            "gridcolor": "white",
            "linecolor": "white",
            "ticks": ""
           },
           "bgcolor": "#E5ECF6",
           "radialaxis": {
            "gridcolor": "white",
            "linecolor": "white",
            "ticks": ""
           }
          },
          "scene": {
           "xaxis": {
            "backgroundcolor": "#E5ECF6",
            "gridcolor": "white",
            "gridwidth": 2,
            "linecolor": "white",
            "showbackground": true,
            "ticks": "",
            "zerolinecolor": "white"
           },
           "yaxis": {
            "backgroundcolor": "#E5ECF6",
            "gridcolor": "white",
            "gridwidth": 2,
            "linecolor": "white",
            "showbackground": true,
            "ticks": "",
            "zerolinecolor": "white"
           },
           "zaxis": {
            "backgroundcolor": "#E5ECF6",
            "gridcolor": "white",
            "gridwidth": 2,
            "linecolor": "white",
            "showbackground": true,
            "ticks": "",
            "zerolinecolor": "white"
           }
          },
          "shapedefaults": {
           "line": {
            "color": "#2a3f5f"
           }
          },
          "ternary": {
           "aaxis": {
            "gridcolor": "white",
            "linecolor": "white",
            "ticks": ""
           },
           "baxis": {
            "gridcolor": "white",
            "linecolor": "white",
            "ticks": ""
           },
           "bgcolor": "#E5ECF6",
           "caxis": {
            "gridcolor": "white",
            "linecolor": "white",
            "ticks": ""
           }
          },
          "title": {
           "x": 0.05
          },
          "xaxis": {
           "automargin": true,
           "gridcolor": "white",
           "linecolor": "white",
           "ticks": "",
           "title": {
            "standoff": 15
           },
           "zerolinecolor": "white",
           "zerolinewidth": 2
          },
          "yaxis": {
           "automargin": true,
           "gridcolor": "white",
           "linecolor": "white",
           "ticks": "",
           "title": {
            "standoff": 15
           },
           "zerolinecolor": "white",
           "zerolinewidth": 2
          }
         }
        },
        "title": {
         "text": "batch metrics"
        },
        "xaxis": {
         "anchor": "y",
         "domain": [
          0,
          0.98
         ],
         "title": {
          "text": "step"
         }
        },
        "xaxis2": {
         "anchor": "y2",
         "domain": [
          0,
          0.98
         ],
         "matches": "x",
         "showticklabels": false
        },
        "yaxis": {
         "anchor": "x",
         "domain": [
          0,
          0.485
         ],
         "title": {
          "text": "value"
         }
        },
        "yaxis2": {
         "anchor": "x2",
         "domain": [
          0.515,
          1
         ],
         "title": {
          "text": "value"
         }
        }
       }
      }
     },
     "metadata": {},
     "output_type": "display_data"
    },
    {
     "data": {
      "application/vnd.plotly.v1+json": {
       "config": {
        "plotlyServerURL": "https://plot.ly"
       },
       "data": [
        {
         "hovertemplate": "variable=train_epoch_loss<br>step=%{x}<br>value=%{y}<extra></extra>",
         "legendgroup": "train_epoch_loss",
         "line": {
          "color": "#636efa",
          "dash": "solid"
         },
         "marker": {
          "symbol": "circle"
         },
         "mode": "lines",
         "name": "train_epoch_loss",
         "orientation": "v",
         "showlegend": true,
         "type": "scatter",
         "x": {
          "bdata": "GQAzAE0AZwCBAJsAtQDPAOkAAwEdATcBUQFrAYUBnwG5AdMB7QEHAiECOwJVAm8CiQKjAr0C1wLxAgsD",
          "dtype": "i2"
         },
         "xaxis": "x4",
         "y": {
          "bdata": "2YmdWDMTBkB2YieGVRMFQDuxE6uFzgRAT+zE3j+cBEDsxE6MroEEQJ7YiQ0PSQRAip3YCQUiBEB2YifGrvoDQIqd2In84ANAsRM7Ya7OA0AndmInQbwDQHZiJ9bbggNAT+zEXgVmA0DZiZ0oQlsDQHZiJyZ5OwNAYid2otI4A0B2YieGfA4DQGIndvK+AANAip3YGdvkAkAndmK3DdkCQE/sxC4yvAJAntiJXW63AkAUO7EDRZQCQHZiJ9aClwJA7MRObBeKAkDZiZ3YfHYCQJ7YiU0oXQJAO7ETK6pQAkDsxE7sVEUCQDuxE4srQwJA",
          "dtype": "f8"
         },
         "yaxis": "y4"
        },
        {
         "hovertemplate": "variable=train_epoch_accuracy<br>step=%{x}<br>value=%{y}<extra></extra>",
         "legendgroup": "train_epoch_accuracy",
         "line": {
          "color": "#EF553B",
          "dash": "solid"
         },
         "marker": {
          "symbol": "circle"
         },
         "mode": "lines",
         "name": "train_epoch_accuracy",
         "orientation": "v",
         "showlegend": true,
         "type": "scatter",
         "x": {
          "bdata": "GQAzAE0AZwCBAJsAtQDPAOkAAwEdATcBUQFrAYUBnwG5AdMB7QEHAiECOwJVAm8CiQKjAr0C1wLxAgsD",
          "dtype": "i2"
         },
         "xaxis": "x3",
         "y": {
          "bdata": "2s4a2s4azD/6d2H5d2HWP7yw/LuwfNg/PN8RPN/x2T+Qsc2PsY3aP+6soe2sodw/0KUC0KXi3T8J5JoI5FrfP+EQDuEQ7t8/MlnPMVk/4D/uwyDuw4DgP7prf7prf+E/StehStcB4j98vMd7vCfiP5pOj5pOr+I/pL1SpL2y4j9PvZhPvVjjPwJc/AFcnOM/dzP7djML5D9gnXtfnRvkP3kbTngbnuQ/t23btm275D8qL4kpL0nlP5+pXZ6pPeU/yZI7yJJr5T9yTQRyTbTlPzmEQziEE+Y/OYRDOIRT5j8f2HIe2HLmP6UafaQafeY/",
          "dtype": "f8"
         },
         "yaxis": "y3"
        },
        {
         "hovertemplate": "variable=validation_loss<br>step=%{x}<br>value=%{y}<extra></extra>",
         "legendgroup": "validation_loss",
         "line": {
          "color": "#00cc96",
          "dash": "solid"
         },
         "marker": {
          "symbol": "circle"
         },
         "mode": "lines",
         "name": "validation_loss",
         "orientation": "v",
         "showlegend": true,
         "type": "scatter",
         "x": {
          "bdata": "GQAzAE0AZwCBAJsAtQDPAOkAAwEdATcBUQFrAYUBnwG5AdMB7QEHAiECOwJVAm8CiQKjAr0C1wLxAgsD",
          "dtype": "i2"
         },
         "xaxis": "x2",
         "y": {
          "bdata": "JUmShG53BUAAAADgVvgEQEmSJGnG5ARAt23b9ijmBEBJkiTpc7IEQEmSJKn2lgRA27Ztm4ykBEBu27ZNTncEQG7btm2EcgRASZIkiUdfBEC3bdtWqWUEQAAAAMCMRQRAbtu2jY9KBEAlSZIEpD8EQJIkSVL+OQRAkiRJMiQxBECSJEkyMiMEQAAAAMBnQARAkiRJ8pY6BEBu27bNGjAEQAAAAIBSKARAkiRJMmAiBECSJEmy3TkEQAAAAIDOOQRAAAAAQDQnBECSJElSSBkEQLdt29baNQRAkiRJcvc0BEAAAABAfzoEQAAAACD1OQRA",
          "dtype": "f8"
         },
         "yaxis": "y2"
        },
        {
         "hovertemplate": "variable=validation_accuracy<br>step=%{x}<br>value=%{y}<extra></extra>",
         "legendgroup": "validation_accuracy",
         "line": {
          "color": "#ab63fa",
          "dash": "solid"
         },
         "marker": {
          "symbol": "circle"
         },
         "mode": "lines",
         "name": "validation_accuracy",
         "orientation": "v",
         "showlegend": true,
         "type": "scatter",
         "x": {
          "bdata": "GQAzAE0AZwCBAJsAtQDPAOkAAwEdATcBUQFrAYUBnwG5AdMB7QEHAiECOwJVAm8CiQKjAr0C1wLxAgsD",
          "dtype": "i2"
         },
         "xaxis": "x",
         "y": {
          "bdata": "YRiGYRiG0z/btm3btu3WP6qqqqqqqtc/SZIkSZJk1z8lSZIkSdLYP2EYhmEYxtk/JUmSJEnS2T/P8zzP8zzbP3qe53meZ9s/qqqqqqrq2z+SJEmSJInbPyVJkiRJktw/n+d5nud53D8xDMMwDAPdPw3DMAzD8Nw/wzAMwzBM3T+GYRiGYdjdPw3DMAzDsNw/YRiGYRgG3T/DMAzDMEzdP/M8z/M8j90/VlVVVVXV3T+GYRiGYdjcP8/zPM/z/Nw/6Hme53me3T/P8zzP8/zdP8/zPM/zfNw/VlVVVVXV3D8YhmEYhuHcP27btm3b9tw/",
          "dtype": "f8"
         },
         "yaxis": "y"
        }
       ],
       "layout": {
        "annotations": [
         {
          "font": {},
          "showarrow": false,
          "text": "variable=validation_accuracy",
          "textangle": 90,
          "x": 0.98,
          "xanchor": "left",
          "xref": "paper",
          "y": 0.11375,
          "yanchor": "middle",
          "yref": "paper"
         },
         {
          "font": {},
          "showarrow": false,
          "text": "variable=validation_loss",
          "textangle": 90,
          "x": 0.98,
          "xanchor": "left",
          "xref": "paper",
          "y": 0.37124999999999997,
          "yanchor": "middle",
          "yref": "paper"
         },
         {
          "font": {},
          "showarrow": false,
          "text": "variable=train_epoch_accuracy",
          "textangle": 90,
          "x": 0.98,
          "xanchor": "left",
          "xref": "paper",
          "y": 0.62875,
          "yanchor": "middle",
          "yref": "paper"
         },
         {
          "font": {},
          "showarrow": false,
          "text": "variable=train_epoch_loss",
          "textangle": 90,
          "x": 0.98,
          "xanchor": "left",
          "xref": "paper",
          "y": 0.88625,
          "yanchor": "middle",
          "yref": "paper"
         }
        ],
        "legend": {
         "title": {
          "text": "variable"
         },
         "tracegroupgap": 0
        },
        "template": {
         "data": {
          "bar": [
           {
            "error_x": {
             "color": "#2a3f5f"
            },
            "error_y": {
             "color": "#2a3f5f"
            },
            "marker": {
             "line": {
              "color": "#E5ECF6",
              "width": 0.5
             },
             "pattern": {
              "fillmode": "overlay",
              "size": 10,
              "solidity": 0.2
             }
            },
            "type": "bar"
           }
          ],
          "barpolar": [
           {
            "marker": {
             "line": {
              "color": "#E5ECF6",
              "width": 0.5
             },
             "pattern": {
              "fillmode": "overlay",
              "size": 10,
              "solidity": 0.2
             }
            },
            "type": "barpolar"
           }
          ],
          "carpet": [
           {
            "aaxis": {
             "endlinecolor": "#2a3f5f",
             "gridcolor": "white",
             "linecolor": "white",
             "minorgridcolor": "white",
             "startlinecolor": "#2a3f5f"
            },
            "baxis": {
             "endlinecolor": "#2a3f5f",
             "gridcolor": "white",
             "linecolor": "white",
             "minorgridcolor": "white",
             "startlinecolor": "#2a3f5f"
            },
            "type": "carpet"
           }
          ],
          "choropleth": [
           {
            "colorbar": {
             "outlinewidth": 0,
             "ticks": ""
            },
            "type": "choropleth"
           }
          ],
          "contour": [
           {
            "colorbar": {
             "outlinewidth": 0,
             "ticks": ""
            },
            "colorscale": [
             [
              0,
              "#0d0887"
             ],
             [
              0.1111111111111111,
              "#46039f"
             ],
             [
              0.2222222222222222,
              "#7201a8"
             ],
             [
              0.3333333333333333,
              "#9c179e"
             ],
             [
              0.4444444444444444,
              "#bd3786"
             ],
             [
              0.5555555555555556,
              "#d8576b"
             ],
             [
              0.6666666666666666,
              "#ed7953"
             ],
             [
              0.7777777777777778,
              "#fb9f3a"
             ],
             [
              0.8888888888888888,
              "#fdca26"
             ],
             [
              1,
              "#f0f921"
             ]
            ],
            "type": "contour"
           }
          ],
          "contourcarpet": [
           {
            "colorbar": {
             "outlinewidth": 0,
             "ticks": ""
            },
            "type": "contourcarpet"
           }
          ],
          "heatmap": [
           {
            "colorbar": {
             "outlinewidth": 0,
             "ticks": ""
            },
            "colorscale": [
             [
              0,
              "#0d0887"
             ],
             [
              0.1111111111111111,
              "#46039f"
             ],
             [
              0.2222222222222222,
              "#7201a8"
             ],
             [
              0.3333333333333333,
              "#9c179e"
             ],
             [
              0.4444444444444444,
              "#bd3786"
             ],
             [
              0.5555555555555556,
              "#d8576b"
             ],
             [
              0.6666666666666666,
              "#ed7953"
             ],
             [
              0.7777777777777778,
              "#fb9f3a"
             ],
             [
              0.8888888888888888,
              "#fdca26"
             ],
             [
              1,
              "#f0f921"
             ]
            ],
            "type": "heatmap"
           }
          ],
          "histogram": [
           {
            "marker": {
             "pattern": {
              "fillmode": "overlay",
              "size": 10,
              "solidity": 0.2
             }
            },
            "type": "histogram"
           }
          ],
          "histogram2d": [
           {
            "colorbar": {
             "outlinewidth": 0,
             "ticks": ""
            },
            "colorscale": [
             [
              0,
              "#0d0887"
             ],
             [
              0.1111111111111111,
              "#46039f"
             ],
             [
              0.2222222222222222,
              "#7201a8"
             ],
             [
              0.3333333333333333,
              "#9c179e"
             ],
             [
              0.4444444444444444,
              "#bd3786"
             ],
             [
              0.5555555555555556,
              "#d8576b"
             ],
             [
              0.6666666666666666,
              "#ed7953"
             ],
             [
              0.7777777777777778,
              "#fb9f3a"
             ],
             [
              0.8888888888888888,
              "#fdca26"
             ],
             [
              1,
              "#f0f921"
             ]
            ],
            "type": "histogram2d"
           }
          ],
          "histogram2dcontour": [
           {
            "colorbar": {
             "outlinewidth": 0,
             "ticks": ""
            },
            "colorscale": [
             [
              0,
              "#0d0887"
             ],
             [
              0.1111111111111111,
              "#46039f"
             ],
             [
              0.2222222222222222,
              "#7201a8"
             ],
             [
              0.3333333333333333,
              "#9c179e"
             ],
             [
              0.4444444444444444,
              "#bd3786"
             ],
             [
              0.5555555555555556,
              "#d8576b"
             ],
             [
              0.6666666666666666,
              "#ed7953"
             ],
             [
              0.7777777777777778,
              "#fb9f3a"
             ],
             [
              0.8888888888888888,
              "#fdca26"
             ],
             [
              1,
              "#f0f921"
             ]
            ],
            "type": "histogram2dcontour"
           }
          ],
          "mesh3d": [
           {
            "colorbar": {
             "outlinewidth": 0,
             "ticks": ""
            },
            "type": "mesh3d"
           }
          ],
          "parcoords": [
           {
            "line": {
             "colorbar": {
              "outlinewidth": 0,
              "ticks": ""
             }
            },
            "type": "parcoords"
           }
          ],
          "pie": [
           {
            "automargin": true,
            "type": "pie"
           }
          ],
          "scatter": [
           {
            "fillpattern": {
             "fillmode": "overlay",
             "size": 10,
             "solidity": 0.2
            },
            "type": "scatter"
           }
          ],
          "scatter3d": [
           {
            "line": {
             "colorbar": {
              "outlinewidth": 0,
              "ticks": ""
             }
            },
            "marker": {
             "colorbar": {
              "outlinewidth": 0,
              "ticks": ""
             }
            },
            "type": "scatter3d"
           }
          ],
          "scattercarpet": [
           {
            "marker": {
             "colorbar": {
              "outlinewidth": 0,
              "ticks": ""
             }
            },
            "type": "scattercarpet"
           }
          ],
          "scattergeo": [
           {
            "marker": {
             "colorbar": {
              "outlinewidth": 0,
              "ticks": ""
             }
            },
            "type": "scattergeo"
           }
          ],
          "scattergl": [
           {
            "marker": {
             "colorbar": {
              "outlinewidth": 0,
              "ticks": ""
             }
            },
            "type": "scattergl"
           }
          ],
          "scattermap": [
           {
            "marker": {
             "colorbar": {
              "outlinewidth": 0,
              "ticks": ""
             }
            },
            "type": "scattermap"
           }
          ],
          "scattermapbox": [
           {
            "marker": {
             "colorbar": {
              "outlinewidth": 0,
              "ticks": ""
             }
            },
            "type": "scattermapbox"
           }
          ],
          "scatterpolar": [
           {
            "marker": {
             "colorbar": {
              "outlinewidth": 0,
              "ticks": ""
             }
            },
            "type": "scatterpolar"
           }
          ],
          "scatterpolargl": [
           {
            "marker": {
             "colorbar": {
              "outlinewidth": 0,
              "ticks": ""
             }
            },
            "type": "scatterpolargl"
           }
          ],
          "scatterternary": [
           {
            "marker": {
             "colorbar": {
              "outlinewidth": 0,
              "ticks": ""
             }
            },
            "type": "scatterternary"
           }
          ],
          "surface": [
           {
            "colorbar": {
             "outlinewidth": 0,
             "ticks": ""
            },
            "colorscale": [
             [
              0,
              "#0d0887"
             ],
             [
              0.1111111111111111,
              "#46039f"
             ],
             [
              0.2222222222222222,
              "#7201a8"
             ],
             [
              0.3333333333333333,
              "#9c179e"
             ],
             [
              0.4444444444444444,
              "#bd3786"
             ],
             [
              0.5555555555555556,
              "#d8576b"
             ],
             [
              0.6666666666666666,
              "#ed7953"
             ],
             [
              0.7777777777777778,
              "#fb9f3a"
             ],
             [
              0.8888888888888888,
              "#fdca26"
             ],
             [
              1,
              "#f0f921"
             ]
            ],
            "type": "surface"
           }
          ],
          "table": [
           {
            "cells": {
             "fill": {
              "color": "#EBF0F8"
             },
             "line": {
              "color": "white"
             }
            },
            "header": {
             "fill": {
              "color": "#C8D4E3"
             },
             "line": {
              "color": "white"
             }
            },
            "type": "table"
           }
          ]
         },
         "layout": {
          "annotationdefaults": {
           "arrowcolor": "#2a3f5f",
           "arrowhead": 0,
           "arrowwidth": 1
          },
          "autotypenumbers": "strict",
          "coloraxis": {
           "colorbar": {
            "outlinewidth": 0,
            "ticks": ""
           }
          },
          "colorscale": {
           "diverging": [
            [
             0,
             "#8e0152"
            ],
            [
             0.1,
             "#c51b7d"
            ],
            [
             0.2,
             "#de77ae"
            ],
            [
             0.3,
             "#f1b6da"
            ],
            [
             0.4,
             "#fde0ef"
            ],
            [
             0.5,
             "#f7f7f7"
            ],
            [
             0.6,
             "#e6f5d0"
            ],
            [
             0.7,
             "#b8e186"
            ],
            [
             0.8,
             "#7fbc41"
            ],
            [
             0.9,
             "#4d9221"
            ],
            [
             1,
             "#276419"
            ]
           ],
           "sequential": [
            [
             0,
             "#0d0887"
            ],
            [
             0.1111111111111111,
             "#46039f"
            ],
            [
             0.2222222222222222,
             "#7201a8"
            ],
            [
             0.3333333333333333,
             "#9c179e"
            ],
            [
             0.4444444444444444,
             "#bd3786"
            ],
            [
             0.5555555555555556,
             "#d8576b"
            ],
            [
             0.6666666666666666,
             "#ed7953"
            ],
            [
             0.7777777777777778,
             "#fb9f3a"
            ],
            [
             0.8888888888888888,
             "#fdca26"
            ],
            [
             1,
             "#f0f921"
            ]
           ],
           "sequentialminus": [
            [
             0,
             "#0d0887"
            ],
            [
             0.1111111111111111,
             "#46039f"
            ],
            [
             0.2222222222222222,
             "#7201a8"
            ],
            [
             0.3333333333333333,
             "#9c179e"
            ],
            [
             0.4444444444444444,
             "#bd3786"
            ],
            [
             0.5555555555555556,
             "#d8576b"
            ],
            [
             0.6666666666666666,
             "#ed7953"
            ],
            [
             0.7777777777777778,
             "#fb9f3a"
            ],
            [
             0.8888888888888888,
             "#fdca26"
            ],
            [
             1,
             "#f0f921"
            ]
           ]
          },
          "colorway": [
           "#636efa",
           "#EF553B",
           "#00cc96",
           "#ab63fa",
           "#FFA15A",
           "#19d3f3",
           "#FF6692",
           "#B6E880",
           "#FF97FF",
           "#FECB52"
          ],
          "font": {
           "color": "#2a3f5f"
          },
          "geo": {
           "bgcolor": "white",
           "lakecolor": "white",
           "landcolor": "#E5ECF6",
           "showlakes": true,
           "showland": true,
           "subunitcolor": "white"
          },
          "hoverlabel": {
           "align": "left"
          },
          "hovermode": "closest",
          "mapbox": {
           "style": "light"
          },
          "paper_bgcolor": "white",
          "plot_bgcolor": "#E5ECF6",
          "polar": {
           "angularaxis": {
            "gridcolor": "white",
            "linecolor": "white",
            "ticks": ""
           },
           "bgcolor": "#E5ECF6",
           "radialaxis": {
            "gridcolor": "white",
            "linecolor": "white",
            "ticks": ""
           }
          },
          "scene": {
           "xaxis": {
            "backgroundcolor": "#E5ECF6",
            "gridcolor": "white",
            "gridwidth": 2,
            "linecolor": "white",
            "showbackground": true,
            "ticks": "",
            "zerolinecolor": "white"
           },
           "yaxis": {
            "backgroundcolor": "#E5ECF6",
            "gridcolor": "white",
            "gridwidth": 2,
            "linecolor": "white",
            "showbackground": true,
            "ticks": "",
            "zerolinecolor": "white"
           },
           "zaxis": {
            "backgroundcolor": "#E5ECF6",
            "gridcolor": "white",
            "gridwidth": 2,
            "linecolor": "white",
            "showbackground": true,
            "ticks": "",
            "zerolinecolor": "white"
           }
          },
          "shapedefaults": {
           "line": {
            "color": "#2a3f5f"
           }
          },
          "ternary": {
           "aaxis": {
            "gridcolor": "white",
            "linecolor": "white",
            "ticks": ""
           },
           "baxis": {
            "gridcolor": "white",
            "linecolor": "white",
            "ticks": ""
           },
           "bgcolor": "#E5ECF6",
           "caxis": {
            "gridcolor": "white",
            "linecolor": "white",
            "ticks": ""
           }
          },
          "title": {
           "x": 0.05
          },
          "xaxis": {
           "automargin": true,
           "gridcolor": "white",
           "linecolor": "white",
           "ticks": "",
           "title": {
            "standoff": 15
           },
           "zerolinecolor": "white",
           "zerolinewidth": 2
          },
          "yaxis": {
           "automargin": true,
           "gridcolor": "white",
           "linecolor": "white",
           "ticks": "",
           "title": {
            "standoff": 15
           },
           "zerolinecolor": "white",
           "zerolinewidth": 2
          }
         }
        },
        "title": {
         "text": "epoch metrics"
        },
        "xaxis": {
         "anchor": "y",
         "domain": [
          0,
          0.98
         ],
         "title": {
          "text": "step"
         }
        },
        "xaxis2": {
         "anchor": "y2",
         "domain": [
          0,
          0.98
         ],
         "matches": "x",
         "showticklabels": false
        },
        "xaxis3": {
         "anchor": "y3",
         "domain": [
          0,
          0.98
         ],
         "matches": "x",
         "showticklabels": false
        },
        "xaxis4": {
         "anchor": "y4",
         "domain": [
          0,
          0.98
         ],
         "matches": "x",
         "showticklabels": false
        },
        "yaxis": {
         "anchor": "x",
         "domain": [
          0,
          0.2275
         ],
         "title": {
          "text": "value"
         }
        },
        "yaxis2": {
         "anchor": "x2",
         "domain": [
          0.2575,
          0.485
         ],
         "title": {
          "text": "value"
         }
        },
        "yaxis3": {
         "anchor": "x3",
         "domain": [
          0.515,
          0.7425
         ],
         "title": {
          "text": "value"
         }
        },
        "yaxis4": {
         "anchor": "x4",
         "domain": [
          0.7725,
          1
         ],
         "title": {
          "text": "value"
         }
        }
       }
      }
     },
     "metadata": {},
     "output_type": "display_data"
    },
    {
     "name": "stdout",
     "output_type": "stream",
     "text": [
      "=========================\n"
     ]
    }
   ],
   "source": [
    "NB_CROSS_VALIDATIONS = 5\n",
    "fold_patterns = join(dataset_path, \"preprocessed_dataset\", \"fold*\")\n",
    "fold_pths = glob(fold_patterns)[:NB_CROSS_VALIDATIONS]\n",
    "all_training_metrics = {}\n",
    "\n",
    "for fold_idx, fold_pth in enumerate(fold_pths):\n",
    "    print(\"training:\", fold_idx + 1)\n",
    "    train_dataset = CMIDataset(fold_pth, \"train\")\n",
    "    train_data_loader = DL(train_dataset, BATCH_SIZE, shuffle=True)\n",
    "    validation_dataset = CMIDataset(fold_pth, \"validation\")\n",
    "    validation_data_loader = DL(validation_dataset, BATCH_SIZE, shuffle=False)\n",
    "    _, training_metrics, _ = mk_model_and_fit(train_data_loader, validation_data_loader)\n",
    "    all_training_metrics[\"fold_\" + str(fold_idx)] = training_metrics\n",
    "    plt_training_metrics(training_metrics)\n",
    "    print(\"=========================\")\n",
    "\n",
    "all_training_metrics = pd.concat(all_training_metrics)"
   ]
  },
  {
   "cell_type": "code",
   "execution_count": 28,
   "id": "0e54c23c",
   "metadata": {},
   "outputs": [
    {
     "data": {
      "text/html": [
       "<div>\n",
       "<style scoped>\n",
       "    .dataframe tbody tr th:only-of-type {\n",
       "        vertical-align: middle;\n",
       "    }\n",
       "\n",
       "    .dataframe tbody tr th {\n",
       "        vertical-align: top;\n",
       "    }\n",
       "\n",
       "    .dataframe thead th {\n",
       "        text-align: right;\n",
       "    }\n",
       "</style>\n",
       "<table border=\"1\" class=\"dataframe\">\n",
       "  <thead>\n",
       "    <tr style=\"text-align: right;\">\n",
       "      <th></th>\n",
       "      <th>train_epoch_loss</th>\n",
       "      <th>train_epoch_accuracy</th>\n",
       "      <th>validation_loss</th>\n",
       "      <th>validation_accuracy</th>\n",
       "    </tr>\n",
       "  </thead>\n",
       "  <tbody>\n",
       "    <tr>\n",
       "      <th>mean</th>\n",
       "      <td>2.396008</td>\n",
       "      <td>0.590537</td>\n",
       "      <td>2.552679</td>\n",
       "      <td>0.428513</td>\n",
       "    </tr>\n",
       "    <tr>\n",
       "      <th>std</th>\n",
       "      <td>0.130953</td>\n",
       "      <td>0.132960</td>\n",
       "      <td>0.058315</td>\n",
       "      <td>0.058027</td>\n",
       "    </tr>\n",
       "  </tbody>\n",
       "</table>\n",
       "</div>"
      ],
      "text/plain": [
       "      train_epoch_loss  train_epoch_accuracy  validation_loss  \\\n",
       "mean          2.396008              0.590537         2.552679   \n",
       "std           0.130953              0.132960         0.058315   \n",
       "\n",
       "      validation_accuracy  \n",
       "mean             0.428513  \n",
       "std              0.058027  "
      ]
     },
     "execution_count": 28,
     "metadata": {},
     "output_type": "execute_result"
    }
   ],
   "source": [
    "all_training_metrics[[\"train_epoch_loss\", \"train_epoch_accuracy\", \"validation_loss\", \"validation_accuracy\"]].agg([\"mean\", \"std\"])"
   ]
  },
  {
   "cell_type": "markdown",
   "id": "aab08b93",
   "metadata": {},
   "source": [
    "## Full dataset training"
   ]
  },
  {
   "cell_type": "code",
   "execution_count": 29,
   "id": "e6a350f8",
   "metadata": {},
   "outputs": [
    {
     "data": {
      "application/vnd.jupyter.widget-view+json": {
       "model_id": "6b43ecedb19342158eb7d0289a92d0ef",
       "version_major": 2,
       "version_minor": 0
      },
      "text/plain": [
       "Output()"
      ]
     },
     "metadata": {},
     "output_type": "display_data"
    },
    {
     "data": {
      "text/html": [
       "<pre style=\"white-space:pre;overflow-x:auto;line-height:normal;font-family:Menlo,'DejaVu Sans Mono',consolas,'Courier New',monospace\"></pre>\n"
      ],
      "text/plain": []
     },
     "metadata": {},
     "output_type": "display_data"
    }
   ],
   "source": [
    "full_dataset = CMIDataset(\"full_dataset\")\n",
    "full_dataset_loader = DL(full_dataset, BATCH_SIZE, shuffle=True)\n",
    "model, full_train_metrics, checkpoints = mk_model_and_fit(full_dataset_loader)"
   ]
  },
  {
   "cell_type": "markdown",
   "id": "f0081b6e",
   "metadata": {},
   "source": [
    "## Model upload"
   ]
  },
  {
   "cell_type": "code",
   "execution_count": 30,
   "id": "87578050",
   "metadata": {},
   "outputs": [
    {
     "name": "stdout",
     "output_type": "stream",
     "text": [
      "Kaggle credentials successfully validated.\n",
      "Uploading Model https://www.kaggle.com/models/mauroabidalcarrer/cmi-resnet/pyTorch/16-07-2025-00-38 ...\n"
     ]
    },
    {
     "ename": "BackendError",
     "evalue": "Please upload at least one file",
     "output_type": "error",
     "traceback": [
      "\u001b[31m---------------------------------------------------------------------------\u001b[39m",
      "\u001b[31mBackendError\u001b[39m                              Traceback (most recent call last)",
      "\u001b[36mCell\u001b[39m\u001b[36m \u001b[39m\u001b[32mIn[30]\u001b[39m\u001b[32m, line 3\u001b[39m\n\u001b[32m      1\u001b[39m handle = \u001b[33mf\u001b[39m\u001b[33m\"\u001b[39m\u001b[38;5;132;01m{\u001b[39;00mwhoami()[\u001b[33m'\u001b[39m\u001b[33musername\u001b[39m\u001b[33m'\u001b[39m]\u001b[38;5;132;01m}\u001b[39;00m\u001b[33m/cmi-resnet/pyTorch/\u001b[39m\u001b[38;5;132;01m{\u001b[39;00mmk_date_now_str().replace(\u001b[33m'\u001b[39m\u001b[33m_\u001b[39m\u001b[33m'\u001b[39m,\u001b[38;5;250m \u001b[39m\u001b[33m'\u001b[39m\u001b[33m-\u001b[39m\u001b[33m'\u001b[39m)\u001b[38;5;132;01m}\u001b[39;00m\u001b[33m\"\u001b[39m\n\u001b[32m      2\u001b[39m model_path = realpath(join(checkpoints, \u001b[33m\"\u001b[39m\u001b[33mbest_checkpoint.pth\u001b[39m\u001b[33m\"\u001b[39m))\n\u001b[32m----> \u001b[39m\u001b[32m3\u001b[39m \u001b[43mmodel_upload\u001b[49m\u001b[43m(\u001b[49m\u001b[43mhandle\u001b[49m\u001b[43m,\u001b[49m\u001b[43m \u001b[49m\u001b[43mmodel_path\u001b[49m\u001b[43m)\u001b[49m\n",
      "\u001b[36mFile \u001b[39m\u001b[32m~/miniconda3/envs/CMI/lib/python3.11/site-packages/kagglehub/models.py:94\u001b[39m, in \u001b[36mmodel_upload\u001b[39m\u001b[34m(handle, local_model_dir, license_name, version_notes, ignore_patterns, sigstore)\u001b[39m\n\u001b[32m     87\u001b[39m \u001b[38;5;66;03m# Upload the model files to GCS\u001b[39;00m\n\u001b[32m     88\u001b[39m tokens = upload_files_and_directories(\n\u001b[32m     89\u001b[39m     local_model_dir,\n\u001b[32m     90\u001b[39m     item_type=\u001b[33m\"\u001b[39m\u001b[33mmodel\u001b[39m\u001b[33m\"\u001b[39m,\n\u001b[32m     91\u001b[39m     ignore_patterns=normalize_patterns(default=DEFAULT_IGNORE_PATTERNS, additional=ignore_patterns),\n\u001b[32m     92\u001b[39m )\n\u001b[32m---> \u001b[39m\u001b[32m94\u001b[39m \u001b[43mcreate_model_instance_or_version\u001b[49m\u001b[43m(\u001b[49m\u001b[43mh\u001b[49m\u001b[43m,\u001b[49m\u001b[43m \u001b[49m\u001b[43mtokens\u001b[49m\u001b[43m,\u001b[49m\u001b[43m \u001b[49m\u001b[43mlicense_name\u001b[49m\u001b[43m,\u001b[49m\u001b[43m \u001b[49m\u001b[43mversion_notes\u001b[49m\u001b[43m,\u001b[49m\u001b[43m \u001b[49m\u001b[43msigstore\u001b[49m\u001b[43m=\u001b[49m\u001b[43msigstore\u001b[49m\u001b[43m)\u001b[49m\n",
      "\u001b[36mFile \u001b[39m\u001b[32m~/miniconda3/envs/CMI/lib/python3.11/site-packages/kagglehub/models_helpers.py:82\u001b[39m, in \u001b[36mcreate_model_instance_or_version\u001b[39m\u001b[34m(model_handle, files, license_name, version_notes, sigstore)\u001b[39m\n\u001b[32m     80\u001b[39m     _create_model_instance_version(model_handle, files, version_notes, sigstore=sigstore)\n\u001b[32m     81\u001b[39m \u001b[38;5;28;01melse\u001b[39;00m:\n\u001b[32m---> \u001b[39m\u001b[32m82\u001b[39m     \u001b[38;5;28;01mraise\u001b[39;00m (e)\n",
      "\u001b[36mFile \u001b[39m\u001b[32m~/miniconda3/envs/CMI/lib/python3.11/site-packages/kagglehub/models_helpers.py:76\u001b[39m, in \u001b[36mcreate_model_instance_or_version\u001b[39m\u001b[34m(model_handle, files, license_name, version_notes, sigstore)\u001b[39m\n\u001b[32m     67\u001b[39m \u001b[38;5;28;01mdef\u001b[39;00m\u001b[38;5;250m \u001b[39m\u001b[34mcreate_model_instance_or_version\u001b[39m(\n\u001b[32m     68\u001b[39m     model_handle: ModelHandle,\n\u001b[32m     69\u001b[39m     files: UploadDirectoryInfo,\n\u001b[32m   (...)\u001b[39m\u001b[32m     73\u001b[39m     sigstore: Optional[\u001b[38;5;28mbool\u001b[39m] = \u001b[38;5;28;01mFalse\u001b[39;00m,\n\u001b[32m     74\u001b[39m ) -> \u001b[38;5;28;01mNone\u001b[39;00m:\n\u001b[32m     75\u001b[39m     \u001b[38;5;28;01mtry\u001b[39;00m:\n\u001b[32m---> \u001b[39m\u001b[32m76\u001b[39m         \u001b[43m_create_model_instance\u001b[49m\u001b[43m(\u001b[49m\u001b[43mmodel_handle\u001b[49m\u001b[43m,\u001b[49m\u001b[43m \u001b[49m\u001b[43mfiles\u001b[49m\u001b[43m,\u001b[49m\u001b[43m \u001b[49m\u001b[43mlicense_name\u001b[49m\u001b[43m,\u001b[49m\u001b[43m \u001b[49m\u001b[43msigstore\u001b[49m\u001b[43m=\u001b[49m\u001b[43msigstore\u001b[49m\u001b[43m)\u001b[49m\n\u001b[32m     77\u001b[39m     \u001b[38;5;28;01mexcept\u001b[39;00m BackendError \u001b[38;5;28;01mas\u001b[39;00m e:\n\u001b[32m     78\u001b[39m         \u001b[38;5;28;01mif\u001b[39;00m e.error_code == HTTPStatus.CONFLICT:\n\u001b[32m     79\u001b[39m             \u001b[38;5;66;03m# Instance already exist, creating a new version instead.\u001b[39;00m\n",
      "\u001b[36mFile \u001b[39m\u001b[32m~/miniconda3/envs/CMI/lib/python3.11/site-packages/kagglehub/models_helpers.py:39\u001b[39m, in \u001b[36m_create_model_instance\u001b[39m\u001b[34m(model_handle, files_and_directories, license_name, sigstore)\u001b[39m\n\u001b[32m     36\u001b[39m     data[\u001b[33m\"\u001b[39m\u001b[33mlicenseName\u001b[39m\u001b[33m\"\u001b[39m] = license_name\n\u001b[32m     38\u001b[39m api_client = KaggleApiV1Client()\n\u001b[32m---> \u001b[39m\u001b[32m39\u001b[39m \u001b[43mapi_client\u001b[49m\u001b[43m.\u001b[49m\u001b[43mpost\u001b[49m\u001b[43m(\u001b[49m\u001b[33;43mf\u001b[39;49m\u001b[33;43m\"\u001b[39;49m\u001b[33;43m/models/\u001b[39;49m\u001b[38;5;132;43;01m{\u001b[39;49;00m\u001b[43mmodel_handle\u001b[49m\u001b[43m.\u001b[49m\u001b[43mowner\u001b[49m\u001b[38;5;132;43;01m}\u001b[39;49;00m\u001b[33;43m/\u001b[39;49m\u001b[38;5;132;43;01m{\u001b[39;49;00m\u001b[43mmodel_handle\u001b[49m\u001b[43m.\u001b[49m\u001b[43mmodel\u001b[49m\u001b[38;5;132;43;01m}\u001b[39;49;00m\u001b[33;43m/create/instance\u001b[39;49m\u001b[33;43m\"\u001b[39;49m\u001b[43m,\u001b[49m\u001b[43m \u001b[49m\u001b[43mdata\u001b[49m\u001b[43m)\u001b[49m\n\u001b[32m     40\u001b[39m logger.info(\u001b[33mf\u001b[39m\u001b[33m\"\u001b[39m\u001b[33mYour model instance has been created.\u001b[39m\u001b[38;5;130;01m\\n\u001b[39;00m\u001b[33mFiles are being processed...\u001b[39m\u001b[38;5;130;01m\\n\u001b[39;00m\u001b[33mSee at: \u001b[39m\u001b[38;5;132;01m{\u001b[39;00mmodel_handle.to_url()\u001b[38;5;132;01m}\u001b[39;00m\u001b[33m\"\u001b[39m)\n",
      "\u001b[36mFile \u001b[39m\u001b[32m~/miniconda3/envs/CMI/lib/python3.11/site-packages/kagglehub/clients.py:154\u001b[39m, in \u001b[36mKaggleApiV1Client.post\u001b[39m\u001b[34m(self, path, data)\u001b[39m\n\u001b[32m    152\u001b[39m response.raise_for_status()\n\u001b[32m    153\u001b[39m response_dict = response.json()\n\u001b[32m--> \u001b[39m\u001b[32m154\u001b[39m \u001b[43mprocess_post_response\u001b[49m\u001b[43m(\u001b[49m\u001b[43mresponse_dict\u001b[49m\u001b[43m)\u001b[49m\n\u001b[32m    155\u001b[39m \u001b[38;5;28mself\u001b[39m._check_for_version_update(response)\n\u001b[32m    156\u001b[39m \u001b[38;5;28;01mreturn\u001b[39;00m response_dict\n",
      "\u001b[36mFile \u001b[39m\u001b[32m~/miniconda3/envs/CMI/lib/python3.11/site-packages/kagglehub/exceptions.py:141\u001b[39m, in \u001b[36mprocess_post_response\u001b[39m\u001b[34m(response)\u001b[39m\n\u001b[32m    139\u001b[39m \u001b[38;5;28;01melif\u001b[39;00m \u001b[33m\"\u001b[39m\u001b[33merror\u001b[39m\u001b[33m\"\u001b[39m \u001b[38;5;129;01min\u001b[39;00m response \u001b[38;5;129;01mand\u001b[39;00m response[\u001b[33m\"\u001b[39m\u001b[33merror\u001b[39m\u001b[33m\"\u001b[39m] != \u001b[33m\"\u001b[39m\u001b[33m\"\u001b[39m:\n\u001b[32m    140\u001b[39m     error_code = \u001b[38;5;28mint\u001b[39m(response[\u001b[33m\"\u001b[39m\u001b[33merrorCode\u001b[39m\u001b[33m\"\u001b[39m]) \u001b[38;5;28;01mif\u001b[39;00m \u001b[33m\"\u001b[39m\u001b[33merrorCode\u001b[39m\u001b[33m\"\u001b[39m \u001b[38;5;129;01min\u001b[39;00m response \u001b[38;5;28;01melse\u001b[39;00m \u001b[38;5;28;01mNone\u001b[39;00m\n\u001b[32m--> \u001b[39m\u001b[32m141\u001b[39m     \u001b[38;5;28;01mraise\u001b[39;00m BackendError(response[\u001b[33m\"\u001b[39m\u001b[33merror\u001b[39m\u001b[33m\"\u001b[39m], error_code)\n",
      "\u001b[31mBackendError\u001b[39m: Please upload at least one file"
     ]
    }
   ],
   "source": [
    "handle = f\"{whoami()['username']}/cmi-resnet/pyTorch/{mk_date_now_str().replace('_', '-')}\"\n",
    "model_path = realpath(join(checkpoints, \"best_checkpoint.pth\"))\n",
    "model_upload(handle, model_path)"
   ]
  }
 ],
 "metadata": {
  "kernelspec": {
   "display_name": "CMI",
   "language": "python",
   "name": "python3"
  },
  "language_info": {
   "codemirror_mode": {
    "name": "ipython",
    "version": 3
   },
   "file_extension": ".py",
   "mimetype": "text/x-python",
   "name": "python",
   "nbconvert_exporter": "python",
   "pygments_lexer": "ipython3",
   "version": "3.11.5"
  }
 },
 "nbformat": 4,
 "nbformat_minor": 5
}
