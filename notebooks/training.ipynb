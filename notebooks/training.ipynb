{
 "cells": [
  {
   "cell_type": "markdown",
   "id": "53d41434",
   "metadata": {},
   "source": [
    "# Training model\n",
    "The goal of this notebook is to train a model and upload it to kaggle."
   ]
  },
  {
   "cell_type": "markdown",
   "id": "dc4c23f0",
   "metadata": {},
   "source": [
    "## Imports"
   ]
  },
  {
   "cell_type": "code",
   "execution_count": 3,
   "id": "66f429fe",
   "metadata": {},
   "outputs": [],
   "source": [
    "from os.path import join\n",
    "from itertools import pairwise\n",
    "from typing import Optional, Literal\n",
    "\n",
    "import torch\n",
    "import numpy as np\n",
    "import plotly.express as px\n",
    "from torch import nn, Tensor\n",
    "from kagglehub import dataset_download\n",
    "from torch.optim.lr_scheduler import ConstantLR\n",
    "from torch.utils.data import Dataset, DataLoader"
   ]
  },
  {
   "cell_type": "code",
   "execution_count": 4,
   "id": "208cc864",
   "metadata": {},
   "outputs": [],
   "source": [
    "BATCH_SIZE = 256"
   ]
  },
  {
   "cell_type": "code",
   "execution_count": 5,
   "id": "e46c3b4e",
   "metadata": {},
   "outputs": [],
   "source": [
    "# TODO: Switch to TensorDataset w/ cross validation splits\n",
    "class CMIDataset(Dataset):\n",
    "    def __init__(\n",
    "        self,\n",
    "        parent_dir: str,\n",
    "        split: Optional[Literal[\"train\", \"validation\"]]=None,\n",
    "        subset: Optional[int]=None,\n",
    "        force_download=False\n",
    "    ):\n",
    "        super().__init__()\n",
    "        dataset_path = dataset_download(\n",
    "            handle=\"mauroabidalcarrer/prepocessed-cmi-2025\",\n",
    "            force_download=force_download\n",
    "        )\n",
    "        parent_dir = join(dataset_path, \"preprocessed_dataset\", parent_dir)\n",
    "        split = \"\" if split is None else split + \"_\"\n",
    "        self.x = np.load(join(parent_dir, f\"{split}X.npy\"), mmap_mode=\"r\").swapaxes(1, 2)\n",
    "        self.y = np.load(join(parent_dir, f\"{split}Y.npy\"), mmap_mode=\"r\")\n",
    "        if subset is not None:\n",
    "            self.x = self.x[:subset]\n",
    "            self.y = self.y[:subset]\n",
    "\n",
    "    def __len__(self):\n",
    "        return len(self.x)\n",
    "\n",
    "    def __getitem__(self, idx):\n",
    "        return self.x[idx].copy(), self.y[idx].copy()\n",
    "\n",
    "train_dataset = CMIDataset(\"fold_0\", \"train\", force_download=False)\n",
    "train_data_loader = DataLoader(train_dataset, BATCH_SIZE, shuffle=True)\n",
    "\n",
    "validation_dataset = CMIDataset(\"fold_0\", \"validation\", force_download=False)\n",
    "validation_data_loader = DataLoader(train_dataset, BATCH_SIZE * 4, shuffle=False)"
   ]
  },
  {
   "cell_type": "code",
   "execution_count": 6,
   "id": "5ecc32a1",
   "metadata": {},
   "outputs": [],
   "source": [
    "class ResidualBlock(nn.Module):\n",
    "    def __init__(self, in_chns:int, out_chns:int):\n",
    "        super().__init__()\n",
    "        self.blocks = nn.Sequential(\n",
    "            nn.Conv1d(in_chns, out_chns, kernel_size=3, padding=1),\n",
    "            nn.BatchNorm1d(out_chns),\n",
    "            nn.ReLU(),\n",
    "            nn.Conv1d(out_chns, out_chns, kernel_size=3, padding=1),\n",
    "            nn.BatchNorm1d(out_chns),\n",
    "        )\n",
    "        if in_chns == out_chns:\n",
    "            self.skip_connection = nn.Identity() \n",
    "        else:\n",
    "            # TODO: set bias to False ?\n",
    "            self.skip_connection = nn.Sequential(\n",
    "                nn.Conv1d(in_chns, out_chns, 1),\n",
    "                nn.BatchNorm1d(out_chns)\n",
    "            )\n",
    "\n",
    "    def forward(self, x:Tensor) -> Tensor:\n",
    "        activaition_maps = self.skip_connection(x) + self.blocks(x)\n",
    "        return nn.functional.relu(activaition_maps)\n",
    "\n",
    "class Resnet(nn.Module):\n",
    "    def __init__(\n",
    "            self,\n",
    "            in_channels:int,\n",
    "            depth:int,\n",
    "            # n_res_block_per_depth:int,\n",
    "            mlp_width:int,\n",
    "            n_class:int,\n",
    "        ):\n",
    "        super().__init__()\n",
    "        chs_per_depth = [in_channels * 2 ** i for i in range(depth)]\n",
    "        blocks_chns_it = pairwise(chs_per_depth)\n",
    "        self.res_blocks = [ResidualBlock(in_chns, out_chns) for in_chns, out_chns in blocks_chns_it]\n",
    "        self.res_blocks = nn.ModuleList(self.res_blocks)\n",
    "        self.mlp_head = nn.Sequential(\n",
    "            nn.LazyLinear(mlp_width),\n",
    "            nn.ReLU(),\n",
    "            nn.Linear(mlp_width, n_class),\n",
    "            nn.Softmax(dim=1),\n",
    "        )\n",
    "        \n",
    "        \n",
    "    def forward(self, x:Tensor) -> Tensor:\n",
    "        activation_maps = x\n",
    "        for res_block in self.res_blocks:\n",
    "            activation_maps = nn.functional.max_pool1d(res_block(activation_maps), 2)\n",
    "        out = activation_maps.view(activation_maps.shape[0], -1)\n",
    "        out = self.mlp_head(out)\n",
    "        return out\n",
    "\n",
    "model = Resnet(\n",
    "    in_channels=17,\n",
    "    depth=4,\n",
    "    mlp_width=256,\n",
    "    n_class=18,\n",
    ")"
   ]
  },
  {
   "cell_type": "code",
   "execution_count": 7,
   "id": "7cc879eb",
   "metadata": {},
   "outputs": [],
   "source": [
    "import os\n",
    "from datetime import datetime\n",
    "\n",
    "import torch\n",
    "from torch import nn\n",
    "import plotly.express as px\n",
    "from rich.progress import Progress, Task, track\n",
    "from pandas import DataFrame as DF\n",
    "from torch.utils.data import DataLoader as DL\n",
    "from torch.optim.lr_scheduler import LRScheduler\n",
    "\n",
    "\n",
    "def fit(epochs:int,\n",
    "        model: nn.Module,\n",
    "        scheduler: LRScheduler,\n",
    "        optimizer: torch.optim.Optimizer,\n",
    "        train_loader: DL,\n",
    "        criterion: callable=nn.L1Loss(),\n",
    "        evaluation_func: callable=None,\n",
    "        validation_loader: DL=None,\n",
    "        save_checkpoints=True,\n",
    "    ) -> DF:\n",
    "    # Setup\n",
    "    metrics: list[dict] = []\n",
    "    checkpoints_dir = os.path.join(\"checkpoints\", mk_date_now_str())\n",
    "    step = 0\n",
    "    model_device = next(model.parameters()).device\n",
    "    # Training loop\n",
    "    with Progress() as progress:\n",
    "        task: Task = progress.add_task(\n",
    "            \"training...\",\n",
    "            # f\"epoch: {epoch + 1}, batch_loss: ...\",\n",
    "            total=len(train_loader),\n",
    "        )\n",
    "        for epoch in range(epochs):\n",
    "            progress.update(\n",
    "                task,\n",
    "                description=f\"epoch: {epoch}\",\n",
    "                completed=0,\n",
    "            )\n",
    "            total_epoch_loss = 0\n",
    "            total_accuracy = 0\n",
    "            for batch_idx, (x, y) in enumerate(train_loader):\n",
    "                # forward\n",
    "                x = x.to(model_device)\n",
    "                y = y.to(model_device)\n",
    "                model.train()\n",
    "                optimizer.zero_grad()\n",
    "                y_pred: Tensor = model(x)\n",
    "                loss_value = criterion(y_pred, y)\n",
    "                # Verify loss value\n",
    "                if torch.isnan(loss_value).any().item():\n",
    "                    progress.print(\"Warning: Got NaN loss, something went wrong.\")\n",
    "                    return DF.from_records(metrics) \n",
    "                if torch.isinf(loss_value).any().item():\n",
    "                    progress.print(\"Warning: Got infinite loss, something went wrong.\")\n",
    "                    return DF.from_records(metrics) \n",
    "                # TODO: Use gradient clipping?\n",
    "                loss_value.backward()\n",
    "                optimizer.step()\n",
    "                if step > 0: # If it's not the first training step\n",
    "                    # Call the scheduler step method, idk why it throws an error otherwise\n",
    "                    scheduler.step()\n",
    "                # metrics\n",
    "                total_epoch_loss += loss_value.item()\n",
    "                batch_accuracy = (\n",
    "                    (y.max(dim=1)[1] == y_pred.max(dim=1)[1])\n",
    "                    .sum()\n",
    "                    .item()\n",
    "                ) / y.shape[0]\n",
    "                total_accuracy += batch_accuracy\n",
    "                metrics.append({\n",
    "                    \"step\": step,\n",
    "                    \"epoch\": epoch,\n",
    "                    \"batch_train_loss\": loss_value.item(),\n",
    "                    \"lr\": optimizer.state_dict()[\"param_groups\"][-1][\"lr\"],\n",
    "                    \"batch_accuracy\": batch_accuracy,\n",
    "                })\n",
    "                step += 1\n",
    "                progress.update(\n",
    "                    task,\n",
    "                    advance=1,\n",
    "                    description=f\"epoch: {epoch}, batch_loss: {(total_epoch_loss / (batch_idx+1)):.2f}\"\n",
    "                )\n",
    "            # Post epoch evalution\n",
    "            metrics[-1][\"train_epoch_loss\"] = total_epoch_loss / len(train_loader)\n",
    "            metrics[-1][\"train_epoch_accuracy\"] = total_accuracy / len(train_data_loader)\n",
    "            if evaluation_func:\n",
    "                progress.update(\n",
    "                    task,\n",
    "                    completed=0,\n",
    "                    description=f\"epoch: {epoch}, evaluating...\"\n",
    "                )\n",
    "                eval_metrics = evaluation_func(model, criterion, validation_loader)\n",
    "                progress.print(\"validation loss:\", eval_metrics[\"validation_loss\"])\n",
    "                metrics[-1].update(eval_metrics)\n",
    "            # Save checkpoint\n",
    "            if save_checkpoints:\n",
    "                checkpoint = mk_checkpoint(epoch, model, scheduler, optimizer)\n",
    "                metrics_df = DF.from_records(metrics)\n",
    "                best_model_metric = \"validation_loss\" if \"validation_loss\" in metrics_df.columns else \"train_epoch_loss\"\n",
    "                is_best_checkpoint = (\n",
    "                    DF.from_records(metrics)\n",
    "                    .eval(f\"min_{best_model_metric} = {best_model_metric}.min()\")\n",
    "                    .eval(f\"is_best_{best_model_metric} = {best_model_metric} == min_{best_model_metric}\")\n",
    "                    .dropna(subset=f\"is_best_{best_model_metric}\")\n",
    "                    .iloc[-1]\n",
    "                    .loc[f\"is_best_{best_model_metric}\"]\n",
    "                )\n",
    "                save_checkpoint(checkpoint, checkpoints_dir, is_best_checkpoint)\n",
    "\n",
    "    return DF.from_records(metrics)\n",
    "\n",
    "def evaluate_model(\n",
    "        model: torch.nn.Module,\n",
    "        critirion:callable,\n",
    "        validation_loader:DL,\n",
    "    ) -> dict:\n",
    "    model = model.eval()\n",
    "    model_device = next(model.parameters()).device\n",
    "\n",
    "    total_accuracy = 0\n",
    "    total_test_loss = 0\n",
    "    for x, y in validation_loader:\n",
    "        x = x.to(model_device)\n",
    "        y = y.to(model_device)\n",
    "        y_pred = model(x)\n",
    "        total_test_loss += critirion(y_pred, y).item()\n",
    "        batch_accuracy = (\n",
    "            (y.max(dim=1)[1] == y_pred.max(dim=1)[1])\n",
    "            .sum()\n",
    "            .item()\n",
    "        ) / y.shape[0]\n",
    "        total_accuracy += batch_accuracy\n",
    "\n",
    "    return {\n",
    "        \"validation_loss\": total_test_loss / len(validation_loader),\n",
    "        \"validation_accuracy\": total_accuracy / len(validation_loader),\n",
    "    }\n",
    "\n",
    "def mk_checkpoint(\n",
    "        epoch:int,\n",
    "        model: torch.nn.Module,\n",
    "        scheduler: LRScheduler,\n",
    "        optimizer: torch.optim.Optimizer\n",
    "    ) -> dict:\n",
    "    return {\n",
    "        \"epoch\": epoch,\n",
    "        \"model\": model.state_dict(),\n",
    "        \"optimizer\": optimizer.state_dict(),\n",
    "        \"scheduler\": scheduler.state_dict(),\n",
    "    }\n",
    "\n",
    "def save_checkpoint(checkpoint:dict, parent_dir:str, is_best_checkpoint=False):\n",
    "    # Create model name\n",
    "    checkpoint_filename = f\"epoch_{checkpoint['epoch']}_{mk_date_now_str()}.pth\"\n",
    "    # Save model\n",
    "    os.makedirs(parent_dir, exist_ok=True)\n",
    "    checkpoint_path = os.path.join(parent_dir, checkpoint_filename)\n",
    "    torch.save(checkpoint, checkpoint_path)\n",
    "    mk_symlink(checkpoint_path, os.path.join(parent_dir, \"latest_checkpoint.pth\"))\n",
    "    if is_best_checkpoint:\n",
    "        mk_symlink(checkpoint_path, os.path.join(parent_dir, \"best_checkpoint.pth\"))\n",
    "\n",
    "def mk_date_now_str() -> str:\n",
    "    return datetime.now().strftime(\"%d-%m-%Y_%H-%M\")\n",
    "\n",
    "def mk_symlink(dest:str, symlink_path:str):\n",
    "    if os.path.islink(symlink_path) or os.path.exists(symlink_path):\n",
    "        os.remove(symlink_path)\n",
    "    os.symlink(dest, symlink_path)"
   ]
  },
  {
   "cell_type": "code",
   "execution_count": 8,
   "id": "fe1e327c",
   "metadata": {},
   "outputs": [
    {
     "data": {
      "application/vnd.jupyter.widget-view+json": {
       "model_id": "ca69e1aac6c74e33b09617a33b76ebf8",
       "version_major": 2,
       "version_minor": 0
      },
      "text/plain": [
       "Output()"
      ]
     },
     "metadata": {},
     "output_type": "display_data"
    },
    {
     "data": {
      "text/html": [
       "<pre style=\"white-space:pre;overflow-x:auto;line-height:normal;font-family:Menlo,'DejaVu Sans Mono',consolas,'Courier New',monospace\">validation loss: <span style=\"color: #008080; text-decoration-color: #008080; font-weight: bold\">2.716258559908186</span>\n",
       "</pre>\n"
      ],
      "text/plain": [
       "validation loss: \u001b[1;36m2.716258559908186\u001b[0m\n"
      ]
     },
     "metadata": {},
     "output_type": "display_data"
    },
    {
     "data": {
      "text/html": [
       "<pre style=\"white-space:pre;overflow-x:auto;line-height:normal;font-family:Menlo,'DejaVu Sans Mono',consolas,'Courier New',monospace\">validation loss: <span style=\"color: #008080; text-decoration-color: #008080; font-weight: bold\">2.6330955369131908</span>\n",
       "</pre>\n"
      ],
      "text/plain": [
       "validation loss: \u001b[1;36m2.6330955369131908\u001b[0m\n"
      ]
     },
     "metadata": {},
     "output_type": "display_data"
    },
    {
     "data": {
      "text/html": [
       "<pre style=\"white-space:pre;overflow-x:auto;line-height:normal;font-family:Menlo,'DejaVu Sans Mono',consolas,'Courier New',monospace\">validation loss: <span style=\"color: #008080; text-decoration-color: #008080; font-weight: bold\">2.5945393357958113</span>\n",
       "</pre>\n"
      ],
      "text/plain": [
       "validation loss: \u001b[1;36m2.5945393357958113\u001b[0m\n"
      ]
     },
     "metadata": {},
     "output_type": "display_data"
    },
    {
     "data": {
      "text/html": [
       "<pre style=\"white-space:pre;overflow-x:auto;line-height:normal;font-family:Menlo,'DejaVu Sans Mono',consolas,'Courier New',monospace\">validation loss: <span style=\"color: #008080; text-decoration-color: #008080; font-weight: bold\">2.57267495564052</span>\n",
       "</pre>\n"
      ],
      "text/plain": [
       "validation loss: \u001b[1;36m2.57267495564052\u001b[0m\n"
      ]
     },
     "metadata": {},
     "output_type": "display_data"
    },
    {
     "data": {
      "text/html": [
       "<pre style=\"white-space:pre;overflow-x:auto;line-height:normal;font-family:Menlo,'DejaVu Sans Mono',consolas,'Courier New',monospace\">validation loss: <span style=\"color: #008080; text-decoration-color: #008080; font-weight: bold\">2.5274122783115933</span>\n",
       "</pre>\n"
      ],
      "text/plain": [
       "validation loss: \u001b[1;36m2.5274122783115933\u001b[0m\n"
      ]
     },
     "metadata": {},
     "output_type": "display_data"
    },
    {
     "data": {
      "text/html": [
       "<pre style=\"white-space:pre;overflow-x:auto;line-height:normal;font-family:Menlo,'DejaVu Sans Mono',consolas,'Courier New',monospace\">validation loss: <span style=\"color: #008080; text-decoration-color: #008080; font-weight: bold\">2.503281218664987</span>\n",
       "</pre>\n"
      ],
      "text/plain": [
       "validation loss: \u001b[1;36m2.503281218664987\u001b[0m\n"
      ]
     },
     "metadata": {},
     "output_type": "display_data"
    },
    {
     "data": {
      "text/html": [
       "<pre style=\"white-space:pre;overflow-x:auto;line-height:normal;font-family:Menlo,'DejaVu Sans Mono',consolas,'Courier New',monospace\">validation loss: <span style=\"color: #008080; text-decoration-color: #008080; font-weight: bold\">2.499437093734741</span>\n",
       "</pre>\n"
      ],
      "text/plain": [
       "validation loss: \u001b[1;36m2.499437093734741\u001b[0m\n"
      ]
     },
     "metadata": {},
     "output_type": "display_data"
    },
    {
     "data": {
      "text/html": [
       "<pre style=\"white-space:pre;overflow-x:auto;line-height:normal;font-family:Menlo,'DejaVu Sans Mono',consolas,'Courier New',monospace\">validation loss: <span style=\"color: #008080; text-decoration-color: #008080; font-weight: bold\">2.492863518851144</span>\n",
       "</pre>\n"
      ],
      "text/plain": [
       "validation loss: \u001b[1;36m2.492863518851144\u001b[0m\n"
      ]
     },
     "metadata": {},
     "output_type": "display_data"
    },
    {
     "data": {
      "text/html": [
       "<pre style=\"white-space:pre;overflow-x:auto;line-height:normal;font-family:Menlo,'DejaVu Sans Mono',consolas,'Courier New',monospace\">validation loss: <span style=\"color: #008080; text-decoration-color: #008080; font-weight: bold\">2.451317855290004</span>\n",
       "</pre>\n"
      ],
      "text/plain": [
       "validation loss: \u001b[1;36m2.451317855290004\u001b[0m\n"
      ]
     },
     "metadata": {},
     "output_type": "display_data"
    },
    {
     "data": {
      "text/html": [
       "<pre style=\"white-space:pre;overflow-x:auto;line-height:normal;font-family:Menlo,'DejaVu Sans Mono',consolas,'Courier New',monospace\">validation loss: <span style=\"color: #008080; text-decoration-color: #008080; font-weight: bold\">2.4305733953203474</span>\n",
       "</pre>\n"
      ],
      "text/plain": [
       "validation loss: \u001b[1;36m2.4305733953203474\u001b[0m\n"
      ]
     },
     "metadata": {},
     "output_type": "display_data"
    },
    {
     "data": {
      "text/html": [
       "<pre style=\"white-space:pre;overflow-x:auto;line-height:normal;font-family:Menlo,'DejaVu Sans Mono',consolas,'Courier New',monospace\">validation loss: <span style=\"color: #008080; text-decoration-color: #008080; font-weight: bold\">2.4280200685773576</span>\n",
       "</pre>\n"
      ],
      "text/plain": [
       "validation loss: \u001b[1;36m2.4280200685773576\u001b[0m\n"
      ]
     },
     "metadata": {},
     "output_type": "display_data"
    },
    {
     "data": {
      "text/html": [
       "<pre style=\"white-space:pre;overflow-x:auto;line-height:normal;font-family:Menlo,'DejaVu Sans Mono',consolas,'Courier New',monospace\">validation loss: <span style=\"color: #008080; text-decoration-color: #008080; font-weight: bold\">2.4179017884390697</span>\n",
       "</pre>\n"
      ],
      "text/plain": [
       "validation loss: \u001b[1;36m2.4179017884390697\u001b[0m\n"
      ]
     },
     "metadata": {},
     "output_type": "display_data"
    },
    {
     "data": {
      "text/html": [
       "<pre style=\"white-space:pre;overflow-x:auto;line-height:normal;font-family:Menlo,'DejaVu Sans Mono',consolas,'Courier New',monospace\">validation loss: <span style=\"color: #008080; text-decoration-color: #008080; font-weight: bold\">2.3996513230460033</span>\n",
       "</pre>\n"
      ],
      "text/plain": [
       "validation loss: \u001b[1;36m2.3996513230460033\u001b[0m\n"
      ]
     },
     "metadata": {},
     "output_type": "display_data"
    },
    {
     "data": {
      "text/html": [
       "<pre style=\"white-space:pre;overflow-x:auto;line-height:normal;font-family:Menlo,'DejaVu Sans Mono',consolas,'Courier New',monospace\">validation loss: <span style=\"color: #008080; text-decoration-color: #008080; font-weight: bold\">2.3795114925929477</span>\n",
       "</pre>\n"
      ],
      "text/plain": [
       "validation loss: \u001b[1;36m2.3795114925929477\u001b[0m\n"
      ]
     },
     "metadata": {},
     "output_type": "display_data"
    },
    {
     "data": {
      "text/html": [
       "<pre style=\"white-space:pre;overflow-x:auto;line-height:normal;font-family:Menlo,'DejaVu Sans Mono',consolas,'Courier New',monospace\">validation loss: <span style=\"color: #008080; text-decoration-color: #008080; font-weight: bold\">2.3607329300471713</span>\n",
       "</pre>\n"
      ],
      "text/plain": [
       "validation loss: \u001b[1;36m2.3607329300471713\u001b[0m\n"
      ]
     },
     "metadata": {},
     "output_type": "display_data"
    },
    {
     "data": {
      "text/html": [
       "<pre style=\"white-space:pre;overflow-x:auto;line-height:normal;font-family:Menlo,'DejaVu Sans Mono',consolas,'Courier New',monospace\">validation loss: <span style=\"color: #008080; text-decoration-color: #008080; font-weight: bold\">2.3599229880741666</span>\n",
       "</pre>\n"
      ],
      "text/plain": [
       "validation loss: \u001b[1;36m2.3599229880741666\u001b[0m\n"
      ]
     },
     "metadata": {},
     "output_type": "display_data"
    },
    {
     "data": {
      "text/html": [
       "<pre style=\"white-space:pre;overflow-x:auto;line-height:normal;font-family:Menlo,'DejaVu Sans Mono',consolas,'Courier New',monospace\">validation loss: <span style=\"color: #008080; text-decoration-color: #008080; font-weight: bold\">2.3532635484422957</span>\n",
       "</pre>\n"
      ],
      "text/plain": [
       "validation loss: \u001b[1;36m2.3532635484422957\u001b[0m\n"
      ]
     },
     "metadata": {},
     "output_type": "display_data"
    },
    {
     "data": {
      "text/html": [
       "<pre style=\"white-space:pre;overflow-x:auto;line-height:normal;font-family:Menlo,'DejaVu Sans Mono',consolas,'Courier New',monospace\">validation loss: <span style=\"color: #008080; text-decoration-color: #008080; font-weight: bold\">2.342696326119559</span>\n",
       "</pre>\n"
      ],
      "text/plain": [
       "validation loss: \u001b[1;36m2.342696326119559\u001b[0m\n"
      ]
     },
     "metadata": {},
     "output_type": "display_data"
    },
    {
     "data": {
      "text/html": [
       "<pre style=\"white-space:pre;overflow-x:auto;line-height:normal;font-family:Menlo,'DejaVu Sans Mono',consolas,'Courier New',monospace\">validation loss: <span style=\"color: #008080; text-decoration-color: #008080; font-weight: bold\">2.3310385090964183</span>\n",
       "</pre>\n"
      ],
      "text/plain": [
       "validation loss: \u001b[1;36m2.3310385090964183\u001b[0m\n"
      ]
     },
     "metadata": {},
     "output_type": "display_data"
    },
    {
     "data": {
      "text/html": [
       "<pre style=\"white-space:pre;overflow-x:auto;line-height:normal;font-family:Menlo,'DejaVu Sans Mono',consolas,'Courier New',monospace\">validation loss: <span style=\"color: #008080; text-decoration-color: #008080; font-weight: bold\">2.3157779489244734</span>\n",
       "</pre>\n"
      ],
      "text/plain": [
       "validation loss: \u001b[1;36m2.3157779489244734\u001b[0m\n"
      ]
     },
     "metadata": {},
     "output_type": "display_data"
    },
    {
     "data": {
      "text/html": [
       "<pre style=\"white-space:pre;overflow-x:auto;line-height:normal;font-family:Menlo,'DejaVu Sans Mono',consolas,'Courier New',monospace\">validation loss: <span style=\"color: #008080; text-decoration-color: #008080; font-weight: bold\">2.3120614801134383</span>\n",
       "</pre>\n"
      ],
      "text/plain": [
       "validation loss: \u001b[1;36m2.3120614801134383\u001b[0m\n"
      ]
     },
     "metadata": {},
     "output_type": "display_data"
    },
    {
     "data": {
      "text/html": [
       "<pre style=\"white-space:pre;overflow-x:auto;line-height:normal;font-family:Menlo,'DejaVu Sans Mono',consolas,'Courier New',monospace\">validation loss: <span style=\"color: #008080; text-decoration-color: #008080; font-weight: bold\">2.3069583688463484</span>\n",
       "</pre>\n"
      ],
      "text/plain": [
       "validation loss: \u001b[1;36m2.3069583688463484\u001b[0m\n"
      ]
     },
     "metadata": {},
     "output_type": "display_data"
    },
    {
     "data": {
      "text/html": [
       "<pre style=\"white-space:pre;overflow-x:auto;line-height:normal;font-family:Menlo,'DejaVu Sans Mono',consolas,'Courier New',monospace\">validation loss: <span style=\"color: #008080; text-decoration-color: #008080; font-weight: bold\">2.2986488001687184</span>\n",
       "</pre>\n"
      ],
      "text/plain": [
       "validation loss: \u001b[1;36m2.2986488001687184\u001b[0m\n"
      ]
     },
     "metadata": {},
     "output_type": "display_data"
    },
    {
     "data": {
      "text/html": [
       "<pre style=\"white-space:pre;overflow-x:auto;line-height:normal;font-family:Menlo,'DejaVu Sans Mono',consolas,'Courier New',monospace\">validation loss: <span style=\"color: #008080; text-decoration-color: #008080; font-weight: bold\">2.305671453475952</span>\n",
       "</pre>\n"
      ],
      "text/plain": [
       "validation loss: \u001b[1;36m2.305671453475952\u001b[0m\n"
      ]
     },
     "metadata": {},
     "output_type": "display_data"
    },
    {
     "data": {
      "text/html": [
       "<pre style=\"white-space:pre;overflow-x:auto;line-height:normal;font-family:Menlo,'DejaVu Sans Mono',consolas,'Courier New',monospace\">validation loss: <span style=\"color: #008080; text-decoration-color: #008080; font-weight: bold\">2.2839529514312744</span>\n",
       "</pre>\n"
      ],
      "text/plain": [
       "validation loss: \u001b[1;36m2.2839529514312744\u001b[0m\n"
      ]
     },
     "metadata": {},
     "output_type": "display_data"
    },
    {
     "data": {
      "text/html": [
       "<pre style=\"white-space:pre;overflow-x:auto;line-height:normal;font-family:Menlo,'DejaVu Sans Mono',consolas,'Courier New',monospace\">validation loss: <span style=\"color: #008080; text-decoration-color: #008080; font-weight: bold\">2.278990166527884</span>\n",
       "</pre>\n"
      ],
      "text/plain": [
       "validation loss: \u001b[1;36m2.278990166527884\u001b[0m\n"
      ]
     },
     "metadata": {},
     "output_type": "display_data"
    },
    {
     "data": {
      "text/html": [
       "<pre style=\"white-space:pre;overflow-x:auto;line-height:normal;font-family:Menlo,'DejaVu Sans Mono',consolas,'Courier New',monospace\">validation loss: <span style=\"color: #008080; text-decoration-color: #008080; font-weight: bold\">2.2703892503465926</span>\n",
       "</pre>\n"
      ],
      "text/plain": [
       "validation loss: \u001b[1;36m2.2703892503465926\u001b[0m\n"
      ]
     },
     "metadata": {},
     "output_type": "display_data"
    },
    {
     "data": {
      "text/html": [
       "<pre style=\"white-space:pre;overflow-x:auto;line-height:normal;font-family:Menlo,'DejaVu Sans Mono',consolas,'Courier New',monospace\">validation loss: <span style=\"color: #008080; text-decoration-color: #008080; font-weight: bold\">2.27238130569458</span>\n",
       "</pre>\n"
      ],
      "text/plain": [
       "validation loss: \u001b[1;36m2.27238130569458\u001b[0m\n"
      ]
     },
     "metadata": {},
     "output_type": "display_data"
    },
    {
     "data": {
      "text/html": [
       "<pre style=\"white-space:pre;overflow-x:auto;line-height:normal;font-family:Menlo,'DejaVu Sans Mono',consolas,'Courier New',monospace\">validation loss: <span style=\"color: #008080; text-decoration-color: #008080; font-weight: bold\">2.258258819580078</span>\n",
       "</pre>\n"
      ],
      "text/plain": [
       "validation loss: \u001b[1;36m2.258258819580078\u001b[0m\n"
      ]
     },
     "metadata": {},
     "output_type": "display_data"
    },
    {
     "data": {
      "text/html": [
       "<pre style=\"white-space:pre;overflow-x:auto;line-height:normal;font-family:Menlo,'DejaVu Sans Mono',consolas,'Courier New',monospace\">validation loss: <span style=\"color: #008080; text-decoration-color: #008080; font-weight: bold\">2.2468460627964566</span>\n",
       "</pre>\n"
      ],
      "text/plain": [
       "validation loss: \u001b[1;36m2.2468460627964566\u001b[0m\n"
      ]
     },
     "metadata": {},
     "output_type": "display_data"
    },
    {
     "data": {
      "text/html": [
       "<pre style=\"white-space:pre;overflow-x:auto;line-height:normal;font-family:Menlo,'DejaVu Sans Mono',consolas,'Courier New',monospace\">validation loss: <span style=\"color: #008080; text-decoration-color: #008080; font-weight: bold\">2.242117541176932</span>\n",
       "</pre>\n"
      ],
      "text/plain": [
       "validation loss: \u001b[1;36m2.242117541176932\u001b[0m\n"
      ]
     },
     "metadata": {},
     "output_type": "display_data"
    },
    {
     "data": {
      "text/html": [
       "<pre style=\"white-space:pre;overflow-x:auto;line-height:normal;font-family:Menlo,'DejaVu Sans Mono',consolas,'Courier New',monospace\">validation loss: <span style=\"color: #008080; text-decoration-color: #008080; font-weight: bold\">2.2413604940686906</span>\n",
       "</pre>\n"
      ],
      "text/plain": [
       "validation loss: \u001b[1;36m2.2413604940686906\u001b[0m\n"
      ]
     },
     "metadata": {},
     "output_type": "display_data"
    },
    {
     "data": {
      "text/html": [
       "<pre style=\"white-space:pre;overflow-x:auto;line-height:normal;font-family:Menlo,'DejaVu Sans Mono',consolas,'Courier New',monospace\">validation loss: <span style=\"color: #008080; text-decoration-color: #008080; font-weight: bold\">2.2400635310581754</span>\n",
       "</pre>\n"
      ],
      "text/plain": [
       "validation loss: \u001b[1;36m2.2400635310581754\u001b[0m\n"
      ]
     },
     "metadata": {},
     "output_type": "display_data"
    },
    {
     "data": {
      "text/html": [
       "<pre style=\"white-space:pre;overflow-x:auto;line-height:normal;font-family:Menlo,'DejaVu Sans Mono',consolas,'Courier New',monospace\">validation loss: <span style=\"color: #008080; text-decoration-color: #008080; font-weight: bold\">2.2358600412096297</span>\n",
       "</pre>\n"
      ],
      "text/plain": [
       "validation loss: \u001b[1;36m2.2358600412096297\u001b[0m\n"
      ]
     },
     "metadata": {},
     "output_type": "display_data"
    },
    {
     "data": {
      "text/html": [
       "<pre style=\"white-space:pre;overflow-x:auto;line-height:normal;font-family:Menlo,'DejaVu Sans Mono',consolas,'Courier New',monospace\">validation loss: <span style=\"color: #008080; text-decoration-color: #008080; font-weight: bold\">2.224409852709089</span>\n",
       "</pre>\n"
      ],
      "text/plain": [
       "validation loss: \u001b[1;36m2.224409852709089\u001b[0m\n"
      ]
     },
     "metadata": {},
     "output_type": "display_data"
    },
    {
     "data": {
      "text/html": [
       "<pre style=\"white-space:pre;overflow-x:auto;line-height:normal;font-family:Menlo,'DejaVu Sans Mono',consolas,'Courier New',monospace\">validation loss: <span style=\"color: #008080; text-decoration-color: #008080; font-weight: bold\">2.2152440547943115</span>\n",
       "</pre>\n"
      ],
      "text/plain": [
       "validation loss: \u001b[1;36m2.2152440547943115\u001b[0m\n"
      ]
     },
     "metadata": {},
     "output_type": "display_data"
    },
    {
     "data": {
      "text/html": [
       "<pre style=\"white-space:pre;overflow-x:auto;line-height:normal;font-family:Menlo,'DejaVu Sans Mono',consolas,'Courier New',monospace\">validation loss: <span style=\"color: #008080; text-decoration-color: #008080; font-weight: bold\">2.2148096902029857</span>\n",
       "</pre>\n"
      ],
      "text/plain": [
       "validation loss: \u001b[1;36m2.2148096902029857\u001b[0m\n"
      ]
     },
     "metadata": {},
     "output_type": "display_data"
    },
    {
     "data": {
      "text/html": [
       "<pre style=\"white-space:pre;overflow-x:auto;line-height:normal;font-family:Menlo,'DejaVu Sans Mono',consolas,'Courier New',monospace\">validation loss: <span style=\"color: #008080; text-decoration-color: #008080; font-weight: bold\">2.2113984312329973</span>\n",
       "</pre>\n"
      ],
      "text/plain": [
       "validation loss: \u001b[1;36m2.2113984312329973\u001b[0m\n"
      ]
     },
     "metadata": {},
     "output_type": "display_data"
    },
    {
     "data": {
      "text/html": [
       "<pre style=\"white-space:pre;overflow-x:auto;line-height:normal;font-family:Menlo,'DejaVu Sans Mono',consolas,'Courier New',monospace\">validation loss: <span style=\"color: #008080; text-decoration-color: #008080; font-weight: bold\">2.212620871407645</span>\n",
       "</pre>\n"
      ],
      "text/plain": [
       "validation loss: \u001b[1;36m2.212620871407645\u001b[0m\n"
      ]
     },
     "metadata": {},
     "output_type": "display_data"
    },
    {
     "data": {
      "text/html": [
       "<pre style=\"white-space:pre;overflow-x:auto;line-height:normal;font-family:Menlo,'DejaVu Sans Mono',consolas,'Courier New',monospace\">validation loss: <span style=\"color: #008080; text-decoration-color: #008080; font-weight: bold\">2.208136354173933</span>\n",
       "</pre>\n"
      ],
      "text/plain": [
       "validation loss: \u001b[1;36m2.208136354173933\u001b[0m\n"
      ]
     },
     "metadata": {},
     "output_type": "display_data"
    },
    {
     "data": {
      "text/html": [
       "<pre style=\"white-space:pre;overflow-x:auto;line-height:normal;font-family:Menlo,'DejaVu Sans Mono',consolas,'Courier New',monospace\">validation loss: <span style=\"color: #008080; text-decoration-color: #008080; font-weight: bold\">2.206540959221976</span>\n",
       "</pre>\n"
      ],
      "text/plain": [
       "validation loss: \u001b[1;36m2.206540959221976\u001b[0m\n"
      ]
     },
     "metadata": {},
     "output_type": "display_data"
    },
    {
     "data": {
      "text/html": [
       "<pre style=\"white-space:pre;overflow-x:auto;line-height:normal;font-family:Menlo,'DejaVu Sans Mono',consolas,'Courier New',monospace\">validation loss: <span style=\"color: #008080; text-decoration-color: #008080; font-weight: bold\">2.2053191661834717</span>\n",
       "</pre>\n"
      ],
      "text/plain": [
       "validation loss: \u001b[1;36m2.2053191661834717\u001b[0m\n"
      ]
     },
     "metadata": {},
     "output_type": "display_data"
    },
    {
     "data": {
      "text/html": [
       "<pre style=\"white-space:pre;overflow-x:auto;line-height:normal;font-family:Menlo,'DejaVu Sans Mono',consolas,'Courier New',monospace\">validation loss: <span style=\"color: #008080; text-decoration-color: #008080; font-weight: bold\">2.203902687345232</span>\n",
       "</pre>\n"
      ],
      "text/plain": [
       "validation loss: \u001b[1;36m2.203902687345232\u001b[0m\n"
      ]
     },
     "metadata": {},
     "output_type": "display_data"
    },
    {
     "data": {
      "text/html": [
       "<pre style=\"white-space:pre;overflow-x:auto;line-height:normal;font-family:Menlo,'DejaVu Sans Mono',consolas,'Courier New',monospace\">validation loss: <span style=\"color: #008080; text-decoration-color: #008080; font-weight: bold\">2.201319864818028</span>\n",
       "</pre>\n"
      ],
      "text/plain": [
       "validation loss: \u001b[1;36m2.201319864818028\u001b[0m\n"
      ]
     },
     "metadata": {},
     "output_type": "display_data"
    },
    {
     "data": {
      "text/html": [
       "<pre style=\"white-space:pre;overflow-x:auto;line-height:normal;font-family:Menlo,'DejaVu Sans Mono',consolas,'Courier New',monospace\">validation loss: <span style=\"color: #008080; text-decoration-color: #008080; font-weight: bold\">2.1991982460021973</span>\n",
       "</pre>\n"
      ],
      "text/plain": [
       "validation loss: \u001b[1;36m2.1991982460021973\u001b[0m\n"
      ]
     },
     "metadata": {},
     "output_type": "display_data"
    },
    {
     "data": {
      "text/html": [
       "<pre style=\"white-space:pre;overflow-x:auto;line-height:normal;font-family:Menlo,'DejaVu Sans Mono',consolas,'Courier New',monospace\">validation loss: <span style=\"color: #008080; text-decoration-color: #008080; font-weight: bold\">2.1843219144003734</span>\n",
       "</pre>\n"
      ],
      "text/plain": [
       "validation loss: \u001b[1;36m2.1843219144003734\u001b[0m\n"
      ]
     },
     "metadata": {},
     "output_type": "display_data"
    },
    {
     "data": {
      "text/html": [
       "<pre style=\"white-space:pre;overflow-x:auto;line-height:normal;font-family:Menlo,'DejaVu Sans Mono',consolas,'Courier New',monospace\">validation loss: <span style=\"color: #008080; text-decoration-color: #008080; font-weight: bold\">2.181180681501116</span>\n",
       "</pre>\n"
      ],
      "text/plain": [
       "validation loss: \u001b[1;36m2.181180681501116\u001b[0m\n"
      ]
     },
     "metadata": {},
     "output_type": "display_data"
    },
    {
     "data": {
      "text/html": [
       "<pre style=\"white-space:pre;overflow-x:auto;line-height:normal;font-family:Menlo,'DejaVu Sans Mono',consolas,'Courier New',monospace\">validation loss: <span style=\"color: #008080; text-decoration-color: #008080; font-weight: bold\">2.1816233566829135</span>\n",
       "</pre>\n"
      ],
      "text/plain": [
       "validation loss: \u001b[1;36m2.1816233566829135\u001b[0m\n"
      ]
     },
     "metadata": {},
     "output_type": "display_data"
    },
    {
     "data": {
      "text/html": [
       "<pre style=\"white-space:pre;overflow-x:auto;line-height:normal;font-family:Menlo,'DejaVu Sans Mono',consolas,'Courier New',monospace\">validation loss: <span style=\"color: #008080; text-decoration-color: #008080; font-weight: bold\">2.1785191127232144</span>\n",
       "</pre>\n"
      ],
      "text/plain": [
       "validation loss: \u001b[1;36m2.1785191127232144\u001b[0m\n"
      ]
     },
     "metadata": {},
     "output_type": "display_data"
    },
    {
     "data": {
      "text/html": [
       "<pre style=\"white-space:pre;overflow-x:auto;line-height:normal;font-family:Menlo,'DejaVu Sans Mono',consolas,'Courier New',monospace\">validation loss: <span style=\"color: #008080; text-decoration-color: #008080; font-weight: bold\">2.1773364203316823</span>\n",
       "</pre>\n"
      ],
      "text/plain": [
       "validation loss: \u001b[1;36m2.1773364203316823\u001b[0m\n"
      ]
     },
     "metadata": {},
     "output_type": "display_data"
    },
    {
     "data": {
      "text/html": [
       "<pre style=\"white-space:pre;overflow-x:auto;line-height:normal;font-family:Menlo,'DejaVu Sans Mono',consolas,'Courier New',monospace\">validation loss: <span style=\"color: #008080; text-decoration-color: #008080; font-weight: bold\">2.1781556946890697</span>\n",
       "</pre>\n"
      ],
      "text/plain": [
       "validation loss: \u001b[1;36m2.1781556946890697\u001b[0m\n"
      ]
     },
     "metadata": {},
     "output_type": "display_data"
    },
    {
     "data": {
      "text/html": [
       "<pre style=\"white-space:pre;overflow-x:auto;line-height:normal;font-family:Menlo,'DejaVu Sans Mono',consolas,'Courier New',monospace\">validation loss: <span style=\"color: #008080; text-decoration-color: #008080; font-weight: bold\">2.176046133041382</span>\n",
       "</pre>\n"
      ],
      "text/plain": [
       "validation loss: \u001b[1;36m2.176046133041382\u001b[0m\n"
      ]
     },
     "metadata": {},
     "output_type": "display_data"
    },
    {
     "data": {
      "text/html": [
       "<pre style=\"white-space:pre;overflow-x:auto;line-height:normal;font-family:Menlo,'DejaVu Sans Mono',consolas,'Courier New',monospace\">validation loss: <span style=\"color: #008080; text-decoration-color: #008080; font-weight: bold\">2.1758978366851807</span>\n",
       "</pre>\n"
      ],
      "text/plain": [
       "validation loss: \u001b[1;36m2.1758978366851807\u001b[0m\n"
      ]
     },
     "metadata": {},
     "output_type": "display_data"
    },
    {
     "data": {
      "text/html": [
       "<pre style=\"white-space:pre;overflow-x:auto;line-height:normal;font-family:Menlo,'DejaVu Sans Mono',consolas,'Courier New',monospace\">validation loss: <span style=\"color: #008080; text-decoration-color: #008080; font-weight: bold\">2.1817045552389964</span>\n",
       "</pre>\n"
      ],
      "text/plain": [
       "validation loss: \u001b[1;36m2.1817045552389964\u001b[0m\n"
      ]
     },
     "metadata": {},
     "output_type": "display_data"
    },
    {
     "data": {
      "text/html": [
       "<pre style=\"white-space:pre;overflow-x:auto;line-height:normal;font-family:Menlo,'DejaVu Sans Mono',consolas,'Courier New',monospace\">validation loss: <span style=\"color: #008080; text-decoration-color: #008080; font-weight: bold\">2.1809424332209995</span>\n",
       "</pre>\n"
      ],
      "text/plain": [
       "validation loss: \u001b[1;36m2.1809424332209995\u001b[0m\n"
      ]
     },
     "metadata": {},
     "output_type": "display_data"
    },
    {
     "data": {
      "text/html": [
       "<pre style=\"white-space:pre;overflow-x:auto;line-height:normal;font-family:Menlo,'DejaVu Sans Mono',consolas,'Courier New',monospace\">validation loss: <span style=\"color: #008080; text-decoration-color: #008080; font-weight: bold\">2.176667179380144</span>\n",
       "</pre>\n"
      ],
      "text/plain": [
       "validation loss: \u001b[1;36m2.176667179380144\u001b[0m\n"
      ]
     },
     "metadata": {},
     "output_type": "display_data"
    },
    {
     "data": {
      "text/html": [
       "<pre style=\"white-space:pre;overflow-x:auto;line-height:normal;font-family:Menlo,'DejaVu Sans Mono',consolas,'Courier New',monospace\">validation loss: <span style=\"color: #008080; text-decoration-color: #008080; font-weight: bold\">2.176067624773298</span>\n",
       "</pre>\n"
      ],
      "text/plain": [
       "validation loss: \u001b[1;36m2.176067624773298\u001b[0m\n"
      ]
     },
     "metadata": {},
     "output_type": "display_data"
    },
    {
     "data": {
      "text/html": [
       "<pre style=\"white-space:pre;overflow-x:auto;line-height:normal;font-family:Menlo,'DejaVu Sans Mono',consolas,'Courier New',monospace\">validation loss: <span style=\"color: #008080; text-decoration-color: #008080; font-weight: bold\">2.173950501850673</span>\n",
       "</pre>\n"
      ],
      "text/plain": [
       "validation loss: \u001b[1;36m2.173950501850673\u001b[0m\n"
      ]
     },
     "metadata": {},
     "output_type": "display_data"
    },
    {
     "data": {
      "text/html": [
       "<pre style=\"white-space:pre;overflow-x:auto;line-height:normal;font-family:Menlo,'DejaVu Sans Mono',consolas,'Courier New',monospace\">validation loss: <span style=\"color: #008080; text-decoration-color: #008080; font-weight: bold\">2.1724192074366977</span>\n",
       "</pre>\n"
      ],
      "text/plain": [
       "validation loss: \u001b[1;36m2.1724192074366977\u001b[0m\n"
      ]
     },
     "metadata": {},
     "output_type": "display_data"
    },
    {
     "data": {
      "text/html": [
       "<pre style=\"white-space:pre;overflow-x:auto;line-height:normal;font-family:Menlo,'DejaVu Sans Mono',consolas,'Courier New',monospace\">validation loss: <span style=\"color: #008080; text-decoration-color: #008080; font-weight: bold\">2.1744811875479564</span>\n",
       "</pre>\n"
      ],
      "text/plain": [
       "validation loss: \u001b[1;36m2.1744811875479564\u001b[0m\n"
      ]
     },
     "metadata": {},
     "output_type": "display_data"
    },
    {
     "data": {
      "text/html": [
       "<pre style=\"white-space:pre;overflow-x:auto;line-height:normal;font-family:Menlo,'DejaVu Sans Mono',consolas,'Courier New',monospace\"></pre>\n"
      ],
      "text/plain": []
     },
     "metadata": {},
     "output_type": "display_data"
    }
   ],
   "source": [
    "TRAINING_EPOCHS = 60\n",
    "STARTING_LR = 0.0005\n",
    "model = (\n",
    "    Resnet(\n",
    "        in_channels=17,\n",
    "        depth=4,\n",
    "        mlp_width=256,\n",
    "        n_class=18\n",
    "    )\n",
    "    .cuda()\n",
    ")\n",
    "optimizer = torch.optim.AdamW(model.parameters(), STARTING_LR)\n",
    "constant_lr_scheduler = ConstantLR(optimizer, factor=1, total_iters=len(train_data_loader) * TRAINING_EPOCHS)\n",
    "training_metrics = fit(\n",
    "    epochs=TRAINING_EPOCHS,\n",
    "    model=model,\n",
    "    scheduler=constant_lr_scheduler,\n",
    "    optimizer=optimizer,\n",
    "    train_loader=train_data_loader,\n",
    "    criterion=nn.CrossEntropyLoss(),\n",
    "    evaluation_func=evaluate_model,\n",
    "    validation_loader=validation_data_loader,\n",
    "    save_checkpoints=True,\n",
    ")"
   ]
  },
  {
   "cell_type": "code",
   "execution_count": 9,
   "id": "4619c4fe",
   "metadata": {},
   "outputs": [
    {
     "data": {
      "application/vnd.plotly.v1+json": {
       "config": {
        "plotlyServerURL": "https://plot.ly"
       },
       "data": [
        {
         "hovertemplate": "variable=batch_train_loss<br>step=%{x}<br>value=%{y}<extra></extra>",
         "legendgroup": "",
         "marker": {
          "color": "#636efa",
          "symbol": "circle"
         },
         "mode": "markers",
         "name": "",
         "showlegend": false,
         "type": "scattergl",
         "x": {
          "bdata": "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",
          "dtype": "i2"
         },
         "xaxis": "x2",
         "y": {
          "bdata": "AAAAQC8jB0AAAAAAIAgHQAAAAIDF3gZAAAAAwJXDBkAAAABA9LwGQAAAAKAnewZAAAAAgL21BkAAAADgZGwGQAAAAEDnIgZAAAAAoJlLBkAAAACAVEgGQAAAAMBeMgZAAAAAgOIxBkAAAABAozsGQAAAAAAl7wVAAAAAgKPHBUAAAADAMAIGQAAAAMAD0wVAAAAAAKbSBUAAAADATWsFQAAAAMAaxAVAAAAAADb8BUAAAAAAUxcGQAAAAID2qgVAAAAAQL9hBUAAAADAMFwFQAAAAGBcYwVAAAAAIBJqBUAAAABAt1IFQAAAAKCNawVAAAAAwG99BUAAAAAA2cUFQAAAACD5bAVAAAAAAFdXBUAAAAAASDcFQAAAACDKXgVAAAAAYC4mBUAAAAAAxNMEQAAAAIDPVwVAAAAAoJ6XBUAAAAAAQXAFQAAAAOCFeQVAAAAAQIhOBUAAAABg9VAFQAAAAIA0QwVAAAAAQOBGBUAAAAAAG1oFQAAAAKD8LwVAAAAAQB1kBUAAAACA414FQAAAAEC/xwRAAAAAoMunBEAAAAAASjwFQAAAAICc6wRAAAAAAC4KBUAAAAAAyxkFQAAAAGDJ8ARAAAAAgKwLBUAAAAAAvecEQAAAAEDRJwVAAAAAwJgyBUAAAACAu+kEQAAAAIAkBgVAAAAAQM4FBUAAAABgFCYFQAAAAOAy/ARAAAAAQJxABUAAAAAANw8FQAAAAIDZ5ARAAAAAwNoMBUAAAAAANqMEQAAAAMACLgVAAAAAQCb6BEAAAACgrgAFQAAAAADRqgRAAAAAAB36BEAAAACAJwkFQAAAAECvzQRAAAAAQPixBEAAAABAS58EQAAAAGAmnARAAAAAQICrBEAAAABACfIEQAAAAIAIxgRAAAAAgPfFBEAAAAAABOkEQAAAAMC/vARAAAAAgD3eBEAAAABAhbcEQAAAAIAPJgVAAAAAwHkbBUAAAADgH5MEQAAAAKB+xARAAAAAwHGiBEAAAAAgg8cEQAAAAEDaLQVAAAAAAMjcBEAAAACANboEQAAAAIBIqgRAAAAAQOuVBEAAAABgIp4EQAAAAOAWkARAAAAAwLQjBUAAAAAASowEQAAAACBTXgRAAAAAQCBhBEAAAACgC4cEQAAAAEBUsARAAAAAQKNpBEAAAAAAYJUEQAAAAMA6lgRAAAAAAMITBEAAAACAN1EEQAAAAGCITwRAAAAAAAm1BEAAAABgV+sEQAAAAKCDsgRAAAAAQMZvBEAAAAAARJIEQAAAAIDDlwRAAAAAgBxdBEAAAABAJGUEQAAAACD7VwRAAAAAwPNaBEAAAADApZwEQAAAACAGbwRAAAAAQJ5eBEAAAADgX9QDQAAAAIDslARAAAAAgICwBEAAAAAAwBAEQAAAAIDOHwRAAAAAwMByBEAAAABAeuoDQAAAAABwHwRAAAAAQNU8BEAAAADg64UEQAAAAAAfWQRAAAAAwCMMBEAAAABg+RUEQAAAAIDJNwRAAAAAoJRQBEAAAACALtQDQAAAAOC95ANAAAAAIFctBEAAAACAVv8DQAAAAOBtfQRAAAAAAGdNBEAAAACA7T8EQAAAAEB/HARAAAAAgNRRBEAAAACgpDkEQAAAAIDOKARAAAAAgC1GBEAAAABg51MEQAAAAEB8FgRAAAAAIOYwBEAAAACg0DAEQAAAAEBj+QNAAAAAYAbGA0AAAABALPEDQAAAAMAR1ANAAAAAgAcVBEAAAAAge9ADQAAAAMBNRgRAAAAAQGVeBEAAAABAlfYDQAAAAEBS0QNAAAAA4JD9A0AAAADAYRoEQAAAAIB55wNAAAAAgLI0BEAAAACgd0UEQAAAAICepARAAAAAAGpGBEAAAADAbooEQAAAAKC3GgRAAAAAQHI4BEAAAABAWMwDQAAAAADmEQRAAAAAQCTtA0AAAAAA2M8DQAAAAIDWFgRAAAAAQOQlBEAAAACA9RwEQAAAAADJDQRAAAAA4M4KBEAAAACAsuMDQAAAAAD4+ANAAAAAINLRA0AAAABAlhAEQAAAAMAbhgNAAAAAAEr7A0AAAADApOMDQAAAAICSDwRAAAAAYIthBEAAAAAA8/0DQAAAAGDZfgRAAAAAQOMKBEAAAACgspADQAAAAIDTEgRAAAAAQMo7BEAAAACACdkDQAAAAMBM3wNAAAAAQE63A0AAAACA6rYDQAAAAECZJwRAAAAAwEW3A0AAAAAA+wkEQAAAAACOnwNAAAAAQP69A0AAAAAAjv0DQAAAAMAPsANAAAAAAM13A0AAAABAW04DQAAAAKBL3gNAAAAA4AuyA0AAAABAB00EQAAAAEC8tANAAAAAQP/NA0AAAAAAGs8DQAAAAEC27QNAAAAAQDAlBEAAAACAo1sDQAAAAEBZrANAAAAAwNO8A0AAAACA6sUDQAAAAOCrswNAAAAA4LXTA0AAAADA+wQEQAAAAECihANAAAAAwBuOA0AAAABAXkMDQAAAAMDADQRAAAAAQDmOA0AAAACA0H0DQAAAAIBfUgNAAAAAwKtYA0AAAACABWoDQAAAAOBj8gJAAAAAQOWXA0AAAAAAqwwEQAAAAGAydwNAAAAAwEtSA0AAAADANNEDQAAAAACTgANAAAAAAMvIA0AAAABAbccDQAAAAIAZFgRAAAAAYDyrA0AAAABgl28DQAAAAIBNfANAAAAAQDpiA0AAAABAzpEDQAAAACBFbANAAAAAIKvvA0AAAAAAlPIDQAAAAKCriQNAAAAAoEPRA0AAAACgPcsDQAAAAKCYCANAAAAAgK2yA0AAAABAlUcDQAAAAKDmFgNAAAAAAOKtA0AAAAAgAEADQAAAAMAneANAAAAAgBPkA0AAAACAuH8DQAAAAKDfggNAAAAA4NVRA0AAAACAWYEDQAAAAADPsgNAAAAAgK6PA0AAAACA7DIDQAAAAEBa3QNAAAAAQFaOA0AAAAAgj3ADQAAAAEA5YgNAAAAAABHlA0AAAAAAIdADQAAAAEC1agNAAAAAYCypA0AAAAAgJJ4DQAAAAICG2wNAAAAAIDk8A0AAAAAgQXkDQAAAAMCPowNAAAAAAFveAkAAAAAAyr8DQAAAAOBUgwNAAAAAwDJCA0AAAACA2kUDQAAAACBURQNAAAAAAGMzA0AAAABAkEADQAAAAACvWANAAAAAgL9xA0AAAABgrjEDQAAAAIAZgANAAAAAQORfA0AAAACA4nkDQAAAAABOtANAAAAAgK1WA0AAAABAaP4DQAAAAACGPQNAAAAAQIGFA0AAAADAIH8DQAAAAGBEOwNAAAAAQIURA0AAAAAAsmgDQAAAACCwpgNAAAAA4JyKA0AAAAAAUy4DQAAAAMD/dwNAAAAAQC+CA0AAAADAuycDQAAAAABAlwNAAAAAwIFvA0AAAACgAi4DQAAAAABKRwNAAAAAoKrfAkAAAABAyCADQAAAAMCRYANAAAAAQBmCA0AAAABg0qADQAAAAEAWRANAAAAA4JYyA0AAAADAzCwDQAAAAABAWgNAAAAAgDpHA0AAAACgwVEDQAAAAMCpLwNAAAAAQENBA0AAAAAAPTEDQAAAAIC8ZwNAAAAAQDYIA0AAAACgUYYDQAAAAEDd1AJAAAAAgOy+AkAAAACgehcDQAAAAKCqHANAAAAAwLMgA0AAAADAaIADQAAAAAAaFwNAAAAAQB5qA0AAAADAnFkDQAAAAMAW2gJAAAAAoLHfAkAAAACgKnQDQAAAAIA8JwNAAAAAAKrWAkAAAACAOE4DQAAAAADrXQNAAAAAoBEEA0AAAACAQFMDQAAAAIDn/AJAAAAAgNv8AkAAAABgKGsDQAAAAAB4TANAAAAAwGIUA0AAAACAq3gDQAAAAIAlOwNAAAAA4BpXA0AAAABAvAYDQAAAAEDn/QJAAAAA4H1ZA0AAAADARH8DQAAAAID99AJAAAAAwDUwA0AAAACAZaICQAAAAADufQNAAAAAAG9mA0AAAABAqCwDQAAAAIBZ7AJAAAAAQCi/AkAAAAAADSoDQAAAAMBR7wJAAAAAAJ2UAkAAAABA6SMDQAAAAAAomwNAAAAAwKkkA0AAAAAAC7kCQAAAACDlTQNAAAAAADUcA0AAAAAA3cMCQAAAAICpyAJAAAAAgBMzA0AAAADAjR0DQAAAAMCrtwJAAAAAgL+6AkAAAAAAnYgCQAAAAEDV6wJAAAAAoG83A0AAAACgkPQCQAAAAIB+RgNAAAAAwLY8A0AAAADAByUDQAAAAKA0zQJAAAAAQIoYA0AAAADAJSADQAAAAMAoAQNAAAAAgHkGA0AAAACAc+8CQAAAAIDnqwJAAAAAIKbgAkAAAAAg+EUDQAAAACC89AJAAAAAYATnAkAAAAAgWyMDQAAAAECCtgJAAAAAgBRNAkAAAACAMGgDQAAAAADS8AJAAAAAQJZWA0AAAADgTuECQAAAACB4zQJAAAAAYNDgAkAAAACApCcDQAAAAMDs+gJAAAAAYAkCA0AAAAAAtvUCQAAAAIBBrAJAAAAAAIdJA0AAAAAgybICQAAAAECp7gJAAAAAoG8bA0AAAAAAHG4CQAAAAAA2+wJAAAAAIEZCA0AAAABAWe4CQAAAAAA9QgNAAAAAgLveAkAAAADAc1YDQAAAAIAH5AJAAAAAgDUqA0AAAADAXwUDQAAAAEABQANAAAAAoBeRA0AAAADAHBUDQAAAAMBb8AJAAAAAgIojA0AAAADgeCQDQAAAACAv4QJAAAAAICsnA0AAAAAAnpICQAAAAOA70QJAAAAAACb0AkAAAAAA49ACQAAAAKCsYwJAAAAAgHbLAkAAAADALwIDQAAAAEDGIgNAAAAAgG/PAkAAAACAeC0DQAAAAMCFJQNAAAAAoHZTAkAAAAAA9tECQAAAAEALRANAAAAAQOFuAkAAAAAADK8CQAAAAEBVlgJAAAAAgJSmAkAAAADAZI0CQAAAAGDw8AJAAAAAYClJA0AAAABA1QMDQAAAAKCxOQNAAAAAgGXUAkAAAAAA/wgDQAAAAKDPhgJAAAAAQHvaAkAAAAAguqACQAAAAMCdVQJAAAAAQCn0AkAAAABgz8ECQAAAAID5rAJAAAAAAHhdAkAAAACAiJoCQAAAAMCBvAJAAAAAQDvaAkAAAABA1OgCQAAAAEDc2AJAAAAAwLTVAkAAAADAWaYCQAAAAMB0vQJAAAAAANgDA0AAAADACtwCQAAAAICHrAJAAAAAIFPHAkAAAAAAWUYDQAAAAKBFBgNAAAAAQJMOA0AAAACAiQMDQAAAAIDc7QJAAAAAABxoAkAAAABAEPoCQAAAACCWcwJAAAAAYOinAkAAAADArfYCQAAAAEADkgJAAAAAYM3DAkAAAACAbbECQAAAAOC7lwJAAAAAQCbwAkAAAACAv9sCQAAAAMC6+QFAAAAAAK7UAkAAAABAXYACQAAAAKDnngJAAAAAQAC6AkAAAACAI80CQAAAAABJzQJAAAAAQJ6KAkAAAADAK6sCQAAAAICiXAJAAAAAQDubAkAAAABAYLsCQAAAAADgzQJAAAAAoPxBA0AAAABgQnQCQAAAAICxQgJAAAAAgDfAAkAAAABAxZUCQAAAAMBzMQNAAAAAgLOfAkAAAABAOasCQAAAAACTXgJAAAAAQCPhAkAAAADAlIsCQAAAAEDGhgJAAAAAIAcyAkAAAAAgw7QCQAAAAMCXhAJAAAAAoDjsAkAAAABAWg8CQAAAAAC6xAJAAAAAIK9iAkAAAAAAj6ACQAAAAEDslgJAAAAAwOlfAkAAAAAgsecCQAAAAIA1vQJAAAAAIFHIAkAAAAAAkh8DQAAAACDHmAJAAAAAQNy3AkAAAABAylsCQAAAAECckAJAAAAAQJtJAkAAAADAlzACQAAAAICrewJAAAAAQLdLAkAAAABgKrQCQAAAAEA6mgJAAAAAoPyKAkAAAADge7cCQAAAAACJfAJAAAAAwKeaAkAAAACg0IwCQAAAAOBhvQJAAAAAIM98AkAAAAAA0o4CQAAAAOBtrwJAAAAAwCC2AkAAAABArmcCQAAAAICo0wJAAAAAwPSCAkAAAACAM7kCQAAAAGBIyAJAAAAAwPWdAkAAAAAgSkcCQAAAAADNegJAAAAAAJQZAkAAAAAA3mUCQAAAACCbsgJAAAAAoFQQAkAAAADA2sYCQAAAAAADygJAAAAAQCmtAkAAAADARqkCQAAAAADIWwJAAAAAAIDlAkAAAAAgZJ8CQAAAAOAkcAJAAAAAgLUGAkAAAACg+TwCQAAAAMCybgJAAAAAAM+nAkAAAADAbroCQAAAAADYvgJAAAAAwCGOAkAAAADgu3wCQAAAAABwPgJAAAAAoDVTAkAAAAAAjXcCQAAAAMC/igJAAAAAQODWAkAAAADABWQCQAAAAACHRgJAAAAAIAl4AkAAAADAPrACQAAAAEDmdQJAAAAAwNqvAkAAAADAjmUCQAAAAOCyVgJAAAAAgDMiAkAAAADAmGoCQAAAAMAutQJAAAAAADBFAkAAAAAA6SQCQAAAAGCJewJAAAAAAGttAkAAAABAM10CQAAAAGBP9wFAAAAAwGdHAkAAAACgPmoCQAAAAOC+ZAJAAAAAoJFtAkAAAADAMLMCQAAAACB7lAJAAAAAwPOBAkAAAADAO8sCQAAAAEAjpQJAAAAAQK1DAkAAAADglEACQAAAAEB5SwJAAAAAgKNPAkAAAAAAjS4CQAAAAIASdgJAAAAAgLNsAkAAAACg6VkCQAAAAOCOXAJAAAAAQIdaAkAAAACg27ECQAAAAMDE3gJAAAAAwHt7AkAAAACA+GACQAAAACDu2gJAAAAA4BUgAkAAAACAEXkCQAAAAID7jQJAAAAAQIUPAkAAAABAOTgCQAAAAACMqQJAAAAAgBWPAkAAAAAgjZYCQAAAAODfzQJAAAAAgNYZAkAAAACAALICQAAAAACypAJAAAAAgEUSAkAAAAAA0mMCQAAAAADHfAJAAAAAYKiHAkAAAADAOp0CQAAAAED6RgJAAAAAQNAWAkAAAAAguf0BQAAAAOD0EQJAAAAAAKZNAkAAAACAUl8CQAAAAKC3IAJAAAAAwPCDAkAAAAAA/joCQAAAAADBQgJAAAAAQFxBAkAAAADgOKwCQAAAAGANRQJAAAAA4DZnAkAAAADAeN0CQAAAAGArYwJAAAAAgIULAkAAAACANA0CQAAAAGDSRgJAAAAAoN6LAkAAAADAKkgCQAAAACD+DAJAAAAAYLcaAkAAAADAnAoCQAAAAIBIIwJAAAAAAOdVAkAAAADADDQCQAAAAEBdmAJAAAAAQKSBAkAAAAAg/isCQAAAAIBgaQJAAAAAYBhSAkAAAAAAqVQCQAAAAAAoawJAAAAAoGtYAkAAAABAuS8CQAAAACCaUwJAAAAAwHNgAkAAAAAAXsACQAAAAAC3YQJAAAAAwOccAkAAAACAXjsCQAAAAEAeRAJAAAAAQGRjAkAAAADAmg8CQAAAAIAEpwJAAAAAQGTwAUAAAAAAMF0CQAAAACByPgJAAAAAwGPyAUAAAACAaG4CQAAAAMDaCAJAAAAA4Od6AkAAAAAAngQCQAAAAIApCgJAAAAAwFkaAkAAAADg5GECQAAAAEBdTAJAAAAAAIE/AkAAAABAITwCQAAAACAhDQJAAAAAgKUMAkAAAABgjwsCQAAAAECT6gFAAAAAICk5AkAAAAAA8U0CQAAAAADfXQJAAAAAYOsbAkAAAAAgpssCQAAAAECulQJAAAAAoHeHAkAAAAAgPtgBQAAAACDleQJAAAAAoND6AUAAAABA8tUBQAAAAKC6TwJAAAAAoPtGAkAAAADAhhkCQAAAAMA8fAJAAAAAgEIYAkAAAACgjyECQAAAAICW5AFAAAAAwOQNAkAAAABAQXoBQAAAAGA2JQJAAAAAgFYCAkAAAACABCECQAAAAMDt6gFAAAAAQE4qAkAAAACA2VgCQAAAAEALFgJAAAAAwHt4AkAAAABAOVsCQAAAAKDDKgJAAAAAQOA4AkAAAADgofYBQAAAAMDnBgJAAAAAwMSbAkAAAAAAiTgCQAAAAICGGAJAAAAAwAXYAUAAAACgIO8BQAAAAMDvUQJAAAAAYBQoAkAAAACgtUACQAAAAECS0gFAAAAAAEQjAkAAAADAtyACQAAAAEC8EgJAAAAAQCUGAkAAAAAAducBQAAAAEACBwJAAAAA4KJeAkAAAACAszkCQAAAAMAX4wFAAAAAoE8IAkAAAADAzQcCQAAAAKAvQwJAAAAAwKchAkAAAADgj9YBQAAAAED9gAJAAAAAwJ49AkAAAAAASO8BQAAAAOACDgJAAAAAoMYcAkAAAABA2gUCQAAAAGBETgJAAAAAYIKyAUAAAACAvBACQAAAAMAfDgJAAAAAgATdAUAAAAAAvzQCQAAAAGDVRQJAAAAAQEqGAUAAAADgMB0CQAAAAADQ4gFAAAAAAOD0AUAAAABANwkCQAAAAEDAaQJAAAAAwH0hAkAAAACAlCsCQAAAAABLbAJAAAAAwHtaAkAAAADgUe0BQAAAAIDvEAJAAAAAwPDcAUAAAABgyOQBQAAAAEC32AFAAAAAgNDmAUAAAAAAfUkCQAAAAEA7+QFAAAAAQNRHAkAAAAAAxBMCQAAAAMBIHAJAAAAAwMEcAkAAAABgJeABQAAAAIBT+AFAAAAAANLrAUAAAACA1TQCQAAAAAAj6AFAAAAAgM2xAUAAAAAgLdgBQAAAAKDc9QFAAAAAgNaXAUAAAABA6tgBQAAAAMDRVwJAAAAAYGjeAUAAAADgfAUCQAAAAAA9lwFAAAAAwDoqAkAAAABgsBwCQAAAAAAV1QFAAAAAwKjtAUAAAACgsB0CQAAAAIADiwJAAAAAIFyTAUAAAACAcfkBQAAAAEBkKgJAAAAAANLVAUAAAABA6PABQAAAAADXpAFAAAAAQNrjAUAAAABAfAcCQAAAAKCyywFAAAAAQCnBAUAAAADgcCECQAAAAMDTMwJAAAAAAM46AkAAAACg6OUBQAAAAIDvCQJAAAAAQD7TAUAAAAAAGdABQAAAAMCkSQJAAAAAgPaWAUAAAABA1NUBQAAAAOB0OQJAAAAAwJYCAkAAAADAOE0CQAAAAMCoEAJAAAAAgPf7AUAAAABAos4BQAAAAGAMbQJAAAAAQGHUAUAAAABA5z4CQAAAAODjuAFAAAAAoDPPAUAAAABAqPkBQAAAAECMzQFAAAAAQKnWAUAAAADAP0kCQAAAAIC/5QFAAAAAQPfZAUAAAADglSkCQAAAAACS6gFAAAAAANsLAkAAAAAAlHkBQAAAAADP6wFAAAAAoPsfAkAAAADAwCgCQAAAAIBREQJAAAAAYDK/AUAAAACAWPsBQAAAAGAU4QFAAAAAYAI6AkAAAADA2AQCQAAAAGB0MwJAAAAAgHnJAUAAAADAztYBQAAAAIBjyAFAAAAAQM4NAkAAAABgZgkCQAAAAMDlBwJAAAAAoB3qAUAAAACAjvABQAAAAACmxAFAAAAA4EW+AUAAAABATVoCQAAAAECV9gFAAAAAAD1GAkAAAABA/ZcBQAAAAADQpgFAAAAAAAvoAUAAAABA2K0BQAAAAIDY1gFAAAAAgLGZAUAAAADgudABQAAAAMBM6AFAAAAAQLP2AUAAAABAm/4BQAAAAADcdAFAAAAA4PLwAUAAAACA59oBQAAAAKDg0QFAAAAAAHTbAUAAAABAJ6UBQAAAAECxhAFAAAAAwMfSAUAAAADArfABQAAAAACq6wFAAAAAYIKsAUAAAAAAgLkBQAAAAKBrFwJAAAAAgC0gAkAAAABAkckBQAAAAGCtzAFAAAAAIBaJAUAAAABArhoCQAAAAABGAgJAAAAAICLTAUAAAADASw0CQAAAAKCJqQFAAAAAgNbXAUAAAAAAT9QBQAAAAECrqQFAAAAAwPTiAUAAAAAgArwBQAAAAIActgFAAAAAgINuAUAAAAAAWpgBQAAAACDolwFAAAAAQFSUAUAAAAAAkiYCQAAAAAB1vQFAAAAAQD0GAkAAAAAAF3cBQAAAAED06gFAAAAAQJnVAUAAAABg3pQBQAAAAGB2CwJAAAAAgNmZAUAAAABAg+UBQAAAAKDZ9wFAAAAAwGSxAUAAAACgBqoBQAAAAMDUkwFAAAAAwMJ3AUAAAACAtnoBQAAAAOAiOQJAAAAAQITYAUAAAACgDpYBQAAAAEAVuQFAAAAAgFKsAUAAAADAKJ8BQAAAAEAnCAJAAAAAgG+yAUAAAAAg7oUBQAAAAMDL8QFAAAAAgMcaAkAAAABA0e4BQAAAAEDbqgFAAAAAQAiTAUAAAADAe60BQAAAAAB4rAFAAAAAAIK2AUAAAABASwMCQAAAAMAP6QFAAAAAwHfYAUAAAACAuoABQAAAAECD1wFAAAAAYCOUAUAAAAAADDcBQAAAAMDAywFAAAAAoON5AUAAAACAPZcBQAAAAMC/vgFAAAAAwFHcAUAAAACg+sABQAAAAEC79wFAAAAAwEaFAUAAAACAdOoBQAAAAMCPVgFAAAAAgFgeAkAAAABgPQgCQAAAAICEgwFAAAAAQMuCAUAAAACgjSACQAAAAADhiAFAAAAAgGBeAUAAAADAjfQBQAAAAMCw2wFAAAAAgMgAAkAAAADg5XkBQAAAAEAmvQFAAAAAADbBAUAAAABg04IBQAAAAICL0wFAAAAAQJnoAUAAAABAy5gBQAAAAABMHwJAAAAAAKiQAUAAAACAp58BQAAAAIAcqwFAAAAAQJfUAUAAAAAAHicCQAAAAGDGoQFAAAAAgNiLAUAAAADgETcBQAAAAOCVlgFAAAAAANVxAUAAAACArZgBQAAAAMAI7AFAAAAAwKatAUAAAACg/LABQAAAAKBTmwFAAAAAIAltAUAAAADg9JsBQAAAAID/1QFAAAAA4C3VAUAAAACARfQBQAAAAICO1QFAAAAAQEmCAUAAAADAtqsBQAAAAEDLAgJAAAAAgFgGAkAAAAAgYkABQAAAAKBCxAFAAAAAgIQjAkAAAACgppgBQAAAAIAquAFAAAAAIM13AUAAAADAD9YBQAAAAEBDqAFAAAAAwK93AUAAAACAypYBQAAAAKB/swFAAAAAgNzAAUAAAACAq+IBQAAAAIAKhAFAAAAAgCaRAUAAAADg57gBQAAAAACItQFAAAAAQBjvAUAAAACAZNsBQAAAAIATiQFAAAAAwDFVAUAAAACAiioCQAAAAKAypAFAAAAAgLvsAUAAAABAmpUBQAAAAAD+yAFAAAAAQEvrAUAAAABAF1kBQAAAAMDnlQFAAAAA4IGAAUAAAABAtcwBQAAAAKBwsQFAAAAAAFBVAUAAAACA/NYBQAAAAICpaQFAAAAAAMbmAUAAAAAADaUBQAAAAACXiQFAAAAAQGZwAUAAAABAyN0BQAAAAOAjJwJAAAAAQBd3AUAAAABAfPoBQAAAAADtagFAAAAAwFCGAUAAAADA8rsBQAAAACC/vwFAAAAA4NOrAUAAAADgjJEBQAAAAMAAbAFAAAAAoAnJAUAAAABAJOcBQAAAAEBJvQFAAAAAwFyCAUAAAAAAJLkBQAAAAMBDfQFAAAAAQICkAUAAAABAGJMBQAAAAODUgQFAAAAAgHOJAUAAAACgM8EBQAAAAIAhJQJAAAAAQDRbAUAAAAAANosBQAAAAACO/AFAAAAA4FNZAUAAAAAgjMoBQAAAAMC+8QFAAAAAwHDcAUAAAABgq5sBQAAAAMDzvAFAAAAAgE1YAUAAAAAABsMBQAAAAEAs4AFAAAAAYLeXAUAAAADAxH4BQAAAAEAKkQFAAAAAoD+qAUAAAACADvgAQAAAAAD7lQFAAAAAYGDHAUAAAAAAHeABQAAAAOCofwFAAAAAYLqUAUAAAABAoN0BQAAAACBz1QFAAAAAgM6pAUAAAABABSACQAAAAABX4wFAAAAAwKmcAUAAAADAoZgBQAAAAECumAFAAAAAYH1dAUAAAABgGoQBQAAAAADzwgFAAAAAANvMAUAAAABA5sIBQAAAAMCYnwFAAAAAANu9AUAAAABgJX8BQAAAAMAZqAFAAAAAAGhiAUAAAACA1e4BQAAAAOCsMwFAAAAAAFiTAUAAAACA5ZwBQAAAAGDDkwFAAAAA4I1iAUAAAABA36cBQAAAAEACiwFAAAAAQJ7TAUAAAACAapsBQAAAACD9FgJAAAAAYFQ0AUAAAACAmXABQAAAAIBpxgFAAAAAgKneAUAAAABgZaABQAAAAICojgFAAAAA4DlzAUAAAAAAlugBQAAAAIDoZwFAAAAAoIHtAUAAAAAgb4gBQAAAAAA83gFAAAAAABm4AUAAAADA2vQBQAAAAKDnngFAAAAAwIhEAUAAAADg4GABQAAAAGCqnAFAAAAAILC7AUAAAABAT9kBQAAAAKA/MwFAAAAAgJwHAkAAAADAQjQBQAAAAIBNggFAAAAAQKitAUAAAADgsS4BQAAAAGDr1gFAAAAAAMooAUAAAAAA6EEBQAAAAIA9iQFAAAAAAJSvAUAAAADgfn0BQAAAAID3kgFAAAAAwF35AUAAAACASUQBQAAAAOCZkQFAAAAAQMMhAUAAAACgv/UBQAAAAIB7hgFAAAAAQAXQAUAAAADg3F8BQAAAAGCDwQFAAAAA4NzKAUAAAACgqFEBQAAAAMCUswFAAAAAIENEAUAAAACAs2EBQAAAAADP8AFAAAAAQEx2AUAAAABgk6ABQAAAAEAjhwFAAAAAYLSTAUAAAADgpmYBQAAAAECnmAFAAAAAwPGsAUAAAACAB6wBQAAAAKAPNQFAAAAAgPd0AUAAAAAAhZUBQAAAAGCuZQFAAAAAwEiBAUAAAAAgQEEBQAAAAEA6bwFAAAAAgBaJAUAAAADAw14BQAAAAEBsnwFAAAAAoLIrAUAAAAAAvocBQAAAAEBtjQFAAAAAwLSKAUAAAACA/nwBQAAAACCyTgFAAAAAIMI1AUAAAADgMbsBQAAAAABTkgFAAAAAQE+OAUAAAAAAAkEBQAAAAABmhwFAAAAAwDqiAUAAAABACLABQAAAAMDrmQFAAAAA4AWQAUAAAABAlzoBQAAAAEASaQFAAAAAwB4nAUAAAACAwG0BQAAAAOCyeQFAAAAAAOVPAUAAAAAAE4ABQAAAAIA1rQFAAAAAYMR/AUAAAACgB14BQAAAAIBi6ABAAAAAABUlAUAAAAAAV2cBQAAAAOA4cQFAAAAAAO+qAUAAAAAg6mwBQAAAACBOZgFAAAAAQJp0AUAAAAAAt3wBQAAAAEBJsQFAAAAAQOCfAUAAAACAatsBQAAAAIDtpAFAAAAAQIuaAUAAAADA8mIBQAAAAMAKWwFAAAAAYHdbAUAAAABA+ogBQAAAAKCWqAFAAAAAgJ1eAUAAAADApYUBQAAAAGDYfgFAAAAAAMyzAUAAAABgaZABQAAAAMCUMQFAAAAAoD/GAUAAAADAFDcBQAAAAEAQZwFAAAAAwAOKAUAAAADAoHUBQAAAAEAgeQFAAAAAwPBMAUAAAACAM4UBQAAAAIAtaAFAAAAAwO1jAUAAAAAA4ysBQAAAAIB/qAFAAAAAgDtlAUAAAACgJDABQAAAAIACngFAAAAAYIt+AUAAAAAAnVUBQAAAAGCYQAFAAAAAQJioAUAAAADAzHQBQAAAAIDhWAFAAAAAACZJAUAAAACAIZsBQAAAAABGjQFAAAAAIAhjAUAAAACAzAUBQAAAAIA+jAFAAAAAAFSSAUAAAADgEKUBQAAAAKB3WgFAAAAAoJKgAUAAAADA7oEBQAAAACChUwFAAAAAAItBAUAAAADg7tIBQAAAAMDLTgFAAAAAANNlAUAAAAAAW1wBQAAAAKDAiQFAAAAAgKgVAUAAAABAXF8BQAAAAADdhgFAAAAAQOpUAUAAAACAh0UBQAAAAMAylgFAAAAAwJtIAUAAAABg7ysBQAAAAEAqTAFAAAAAwIYyAUAAAADgcZsBQAAAAEAzXQFAAAAAoP/xAUAAAACgaLUBQAAAAOBghAFAAAAAwO1JAUAAAACgkJABQAAAAIAh9wBAAAAAIApgAUAAAABg+5QBQAAAAIBVqQFAAAAAALOoAUAAAAAgLGIBQAAAAMDSmgFAAAAAwA6SAUAAAADAG2gBQAAAAIDCOAFAAAAAAMjAAUAAAADAejwBQAAAAEBzuwFAAAAAAGZ8AUAAAADAIVgBQAAAAKDcYQFAAAAAYEByAUAAAADAInMBQAAAAIDMXwFAAAAAQEqUAUAAAABg+QkBQAAAAICpjQFAAAAAYMM9AUAAAAAgd1wBQAAAAGAtYAFAAAAA4I87AUAAAABAJjsBQAAAAIBBXwFAAAAA4NphAUAAAACAa40BQAAAAMBzWAFAAAAAQKSQAUAAAABAYW4BQAAAAEBtlQFAAAAAgHpwAUAAAADgIqQBQAAAAIC7UgFAAAAAYNZpAUAAAABAlS4BQAAAACBjiwFAAAAAQO1rAUAAAACAlFEBQAAAACDzwQFAAAAAwDinAUAAAADgMlcBQAAAACBUnAFAAAAAYAYdAUAAAADgIGkBQAAAAIANQgFAAAAAAKOcAUAAAABAiXEBQAAAAADOTwFAAAAAQI7HAUAAAACA5cIBQAAAAICGJAFAAAAAQGQ/AUAAAACASJ0BQAAAAEBUYAFAAAAAwP9DAUAAAACAGW0BQAAAAGDDnwFAAAAAQPWzAUAAAAAATGwBQAAAAABzdAFAAAAAQL2mAUAAAACA+rsBQAAAAACmegFAAAAAoGFnAUAAAAAgK2cBQAAAAGCwPwFAAAAAQGSbAUAAAACARlEBQAAAACAZWAFAAAAAwMC3AUAAAADg3BMBQAAAAIChgwFAAAAA4A5HAUAAAADgxGUBQAAAAOBVPAFAAAAAALKZAUAAAADAzXkBQAAAAID1LwFAAAAAQEZYAUAAAAAggloBQAAAAMAi4QFAAAAAAPYdAUAAAABgc24BQAAAAABWMgFAAAAAAMs0AUAAAACAD4cBQAAAAIBqxAFAAAAAgEZ5AUAAAADg7XkBQAAAAMB2jgFAAAAAIEshAUAAAABAhpUBQAAAAMCkVQFAAAAAgM5LAUAAAAAA0GABQAAAAACkwwFAAAAAQGc7AUAAAADAIpUBQAAAAEA9QAFAAAAAACRkAUAAAADAackBQAAAAGC4fgFAAAAAoL1AAUAAAAAAqa4BQAAAAGDyXwFAAAAAgPfbAUAAAACAYFsBQAAAAEBBEgFAAAAAoKXJAUAAAACAyhcCQAAAAKANoAFAAAAAgByRAUAAAACATLYBQAAAAMAn4wFAAAAAQHZrAUAAAACgpmoBQAAAAEBDbgFAAAAAgKVIAUAAAACgypMBQAAAAIBLewFAAAAAgJgPAUAAAAAAyzEBQAAAAGCGUgFAAAAAgJCCAUAAAACgXnwBQAAAACCSnwFAAAAAQGV/AUAAAACgCX8BQAAAAICyJwFAAAAAYKawAUAAAADAkkQBQAAAAKAyNgFAAAAAwMp/AUAAAADAo6MBQAAAAEBrLAFAAAAAwPfHAEAAAAAAsr8BQAAAAEDRTQFAAAAAACuPAUAAAABAKmwBQAAAAEDMjwFAAAAAwNGNAUAAAADggZ4BQAAAAIBogQFAAAAAwOKGAUAAAABASW4BQAAAAMAEPwFAAAAAgEZ4AUAAAADAcmkBQAAAAEClRAFAAAAAQIpbAUAAAADAkGUBQAAAAEAVNAFAAAAAQJeNAUAAAABAxk4BQAAAAIDmVQFAAAAAAF6LAUAAAABgsKUBQAAAAEDNcQFAAAAA4DhVAUAAAAAAG30BQAAAAABAewFAAAAAADadAUAAAABgppMBQAAAAOBqQgFAAAAAwJihAUAAAAAAbFABQAAAACADVwFAAAAAAENfAUAAAAAAiGoBQAAAACCIQwFAAAAAgJWNAUAAAADAgz8BQAAAAEBMBgFAAAAAQNYuAUAAAABgh1ABQAAAAMANzQFAAAAAgEmHAUAAAACAOnEBQAAAAKDaeQFAAAAAgJhuAUAAAACALIABQAAAACBmkQFAAAAAoGxsAUAAAADAKZgBQAAAACARTAFAAAAAAFlUAUAAAABAHKoBQAAAAMDXkQFAAAAAwOReAUAAAACAUg8BQAAAAKAjcQFAAAAAIGQ7AUAAAADAlkYBQAAAAADUWwFAAAAAgEZrAUAAAADAlmABQAAAAIAzRwFAAAAAYIiXAUAAAAAAyk4BQAAAACAxTwFAAAAAQHhlAUAAAADA5qcBQAAAAADtZwFAAAAAABaDAUAAAACAhrEBQAAAAADgkAFAAAAAwAlMAUAAAAAgKawBQAAAAODmzAFAAAAAQK8gAUAAAAAAs4cBQAAAAACI/ABAAAAAwBa8AUAAAAAAq1wBQAAAAEAoeAFAAAAAIKsPAUAAAACAqWMBQAAAAEB0mQFAAAAA4DlpAUAAAAAgkY0BQAAAAMArQgFAAAAAwAtQAUAAAADA6IMBQAAAAIDrQgFAAAAAALuoAUAAAAAABl0BQAAAAMDZMwFAAAAAQJFOAUAAAACArzEBQAAAAOD5jwFAAAAAICuPAUAAAABg65QBQAAAAIBAXwFAAAAA4O60AUAAAABgo2kBQAAAAAAYOgFAAAAAACF4AUAAAADAFb0BQAAAAKB4JQFA",
          "dtype": "f8"
         },
         "yaxis": "y2"
        },
        {
         "hovertemplate": "<b>Exponentially Weighted mean trendline</b><br><br>variable=batch_train_loss<br>step=%{x}<br>value=%{y} <b>(trend)</b><extra></extra>",
         "legendgroup": "",
         "line": {
          "color": "red"
         },
         "marker": {
          "color": "#636efa",
          "symbol": "circle"
         },
         "mode": "lines",
         "name": "",
         "showlegend": false,
         "type": "scattergl",
         "x": {
          "bdata": "AAABAAIAAwAEAAUABgAHAAgACQAKAAsADAANAA4ADwAQABEAEgATABQAFQAWABcAGAAZABoAGwAcAB0AHgAfACAAIQAiACMAJAAlACYAJwAoACkAKgArACwALQAuAC8AMAAxADIAMwA0ADUANgA3ADgAOQA6ADsAPAA9AD4APwBAAEEAQgBDAEQARQBGAEcASABJAEoASwBMAE0ATgBPAFAAUQBSAFMAVABVAFYAVwBYAFkAWgBbAFwAXQBeAF8AYABhAGIAYwBkAGUAZgBnAGgAaQBqAGsAbABtAG4AbwBwAHEAcgBzAHQAdQB2AHcAeAB5AHoAewB8AH0AfgB/AIAAgQCCAIMAhACFAIYAhwCIAIkAigCLAIwAjQCOAI8AkACRAJIAkwCUAJUAlgCXAJgAmQCaAJsAnACdAJ4AnwCgAKEAogCjAKQApQCmAKcAqACpAKoAqwCsAK0ArgCvALAAsQCyALMAtAC1ALYAtwC4ALkAugC7ALwAvQC+AL8AwADBAMIAwwDEAMUAxgDHAMgAyQDKAMsAzADNAM4AzwDQANEA0gDTANQA1QDWANcA2ADZANoA2wDcAN0A3gDfAOAA4QDiAOMA5ADlAOYA5wDoAOkA6gDrAOwA7QDuAO8A8ADxAPIA8wD0APUA9gD3APgA+QD6APsA/AD9AP4A/wAAAQEBAgEDAQQBBQEGAQcBCAEJAQoBCwEMAQ0BDgEPARABEQESARMBFAEVARYBFwEYARkBGgEbARwBHQEeAR8BIAEhASIBIwEkASUBJgEnASgBKQEqASsBLAEtAS4BLwEwATEBMgEzATQBNQE2ATcBOAE5AToBOwE8AT0BPgE/AUABQQFCAUMBRAFFAUYBRwFIAUkBSgFLAUwBTQFOAU8BUAFRAVIBUwFUAVUBVgFXAVgBWQFaAVsBXAFdAV4BXwFgAWEBYgFjAWQBZQFmAWcBaAFpAWoBawFsAW0BbgFvAXABcQFyAXMBdAF1AXYBdwF4AXkBegF7AXwBfQF+AX8BgAGBAYIBgwGEAYUBhgGHAYgBiQGKAYsBjAGNAY4BjwGQAZEBkgGTAZQBlQGWAZcBmAGZAZoBmwGcAZ0BngGfAaABoQGiAaMBpAGlAaYBpwGoAakBqgGrAawBrQGuAa8BsAGxAbIBswG0AbUBtgG3AbgBuQG6AbsBvAG9Ab4BvwHAAcEBwgHDAcQBxQHGAccByAHJAcoBywHMAc0BzgHPAdAB0QHSAdMB1AHVAdYB1wHYAdkB2gHbAdwB3QHeAd8B4AHhAeIB4wHkAeUB5gHnAegB6QHqAesB7AHtAe4B7wHwAfEB8gHzAfQB9QH2AfcB+AH5AfoB+wH8Af0B/gH/AQACAQICAgMCBAIFAgYCBwIIAgkCCgILAgwCDQIOAg8CEAIRAhICEwIUAhUCFgIXAhgCGQIaAhsCHAIdAh4CHwIgAiECIgIjAiQCJQImAicCKAIpAioCKwIsAi0CLgIvAjACMQIyAjMCNAI1AjYCNwI4AjkCOgI7AjwCPQI+Aj8CQAJBAkICQwJEAkUCRgJHAkgCSQJKAksCTAJNAk4CTwJQAlECUgJTAlQCVQJWAlcCWAJZAloCWwJcAl0CXgJfAmACYQJiAmMCZAJlAmYCZwJoAmkCagJrAmwCbQJuAm8CcAJxAnICcwJ0AnUCdgJ3AngCeQJ6AnsCfAJ9An4CfwKAAoECggKDAoQChQKGAocCiAKJAooCiwKMAo0CjgKPApACkQKSApMClAKVApYClwKYApkCmgKbApwCnQKeAp8CoAKhAqICowKkAqUCpgKnAqgCqQKqAqsCrAKtAq4CrwKwArECsgKzArQCtQK2ArcCuAK5AroCuwK8Ar0CvgK/AsACwQLCAsMCxALFAsYCxwLIAskCygLLAswCzQLOAs8C0ALRAtIC0wLUAtUC1gLXAtgC2QLaAtsC3ALdAt4C3wLgAuEC4gLjAuQC5QLmAucC6ALpAuoC6wLsAu0C7gLvAvAC8QLyAvMC9AL1AvYC9wL4AvkC+gL7AvwC/QL+Av8CAAMBAwIDAwMEAwUDBgMHAwgDCQMKAwsDDAMNAw4DDwMQAxEDEgMTAxQDFQMWAxcDGAMZAxoDGwMcAx0DHgMfAyADIQMiAyMDJAMlAyYDJwMoAykDKgMrAywDLQMuAy8DMAMxAzIDMwM0AzUDNgM3AzgDOQM6AzsDPAM9Az4DPwNAA0EDQgNDA0QDRQNGA0cDSANJA0oDSwNMA00DTgNPA1ADUQNSA1MDVANVA1YDVwNYA1kDWgNbA1wDXQNeA18DYANhA2IDYwNkA2UDZgNnA2gDaQNqA2sDbANtA24DbwNwA3EDcgNzA3QDdQN2A3cDeAN5A3oDewN8A30DfgN/A4ADgQOCA4MDhAOFA4YDhwOIA4kDigOLA4wDjQOOA48DkAORA5IDkwOUA5UDlgOXA5gDmQOaA5sDnAOdA54DnwOgA6EDogOjA6QDpQOmA6cDqAOpA6oDqwOsA60DrgOvA7ADsQOyA7MDtAO1A7YDtwO4A7kDugO7A7wDvQO+A78DwAPBA8IDwwPEA8UDxgPHA8gDyQPKA8sDzAPNA84DzwPQA9ED0gPTA9QD1QPWA9cD2APZA9oD2wPcA90D3gPfA+AD4QPiA+MD5APlA+YD5wPoA+kD6gPrA+wD7QPuA+8D8APxA/ID8wP0A/UD9gP3A/gD+QP6A/sD/AP9A/4D/wMABAEEAgQDBAQEBQQGBAcECAQJBAoECwQMBA0EDgQPBBAEEQQSBBMEFAQVBBYEFwQYBBkEGgQbBBwEHQQeBB8EIAQhBCIEIwQkBCUEJgQnBCgEKQQqBCsELAQtBC4ELwQwBDEEMgQzBDQENQQ2BDcEOAQ5BDoEOwQ8BD0EPgQ/BEAEQQRCBEMERARFBEYERwRIBEkESgRLBEwETQROBE8EUARRBFIEUwRUBFUEVgRXBFgEWQRaBFsEXARdBF4EXwRgBGEEYgRjBGQEZQRmBGcEaARpBGoEawRsBG0EbgRvBHAEcQRyBHMEdAR1BHYEdwR4BHkEegR7BHwEfQR+BH8EgASBBIIEgwSEBIUEhgSHBIgEiQSKBIsEjASNBI4EjwSQBJEEkgSTBJQElQSWBJcEmASZBJoEmwScBJ0EngSfBKAEoQSiBKMEpASlBKYEpwSoBKkEqgSrBKwErQSuBK8EsASxBLIEswS0BLUEtgS3BLgEuQS6BLsEvAS9BL4EvwTABMEEwgTDBMQExQTGBMcEyATJBMoEywTMBM0EzgTPBNAE0QTSBNME1ATVBNYE1wTYBNkE2gTbBNwE3QTeBN8E4AThBOIE4wTkBOUE5gTnBOgE6QTqBOsE7ATtBO4E7wTwBPEE8gTzBPQE9QT2BPcE+AT5BPoE+wT8BP0E/gT/BAAFAQUCBQMFBAUFBQYFBwUIBQkFCgULBQwFDQUOBQ8FEAURBRIFEwUUBRUFFgUXBRgFGQUaBRsFHAUdBR4FHwUgBSEFIgUjBSQFJQUmBScFKAUpBSoFKwUsBS0FLgUvBTAFMQUyBTMFNAU1BTYFNwU4BTkFOgU7BTwFPQU+BT8FQAVBBUIFQwVEBUUFRgVHBUgFSQVKBUsFTAVNBU4FTwVQBVEFUgVTBVQFVQVWBVcFWAVZBVoFWwVcBV0FXgVfBWAFYQViBWMFZAVlBWYFZwVoBWkFagVrBWwFbQVuBW8FcAVxBXIFcwV0BXUFdgV3BXgFeQV6BXsFfAV9BX4FfwWABYEFggWDBYQFhQWGBYcFiAWJBYoFiwWMBY0FjgWPBZAFkQWSBZMFlAWVBZYFlwWYBZkFmgWbBZwFnQWeBZ8FoAWhBaIFowWkBaUFpgWnBagFqQWqBasFrAWtBa4FrwWwBbEFsgWzBbQFtQW2BbcFuAW5BboFuwW8Bb0FvgW/BcAFwQXCBcMFxAXFBcYFxwXIBckFygXLBcwFzQXOBc8F0AXRBdIF0wXUBdUF1gXXBdgF2QXaBdsF3AXdBd4F3wXgBeEF4gXjBeQF5QXmBecF6AXpBeoF6wXsBe0F7gXvBfAF8QXyBfMF9AX1BfYF9wX4BfkF+gX7BfwF/QX+Bf8FAAYBBgIGAwYEBgUGBgYHBggGCQYKBgsGDAYNBg4GDwYQBhEGEgYTBhQGFQYWBhcG",
          "dtype": "i2"
         },
         "xaxis": "x2",
         "y": {
          "bdata": "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",
          "dtype": "f8"
         },
         "yaxis": "y2"
        },
        {
         "hovertemplate": "variable=batch_accuracy<br>step=%{x}<br>value=%{y}<extra></extra>",
         "legendgroup": "",
         "marker": {
          "color": "#636efa",
          "symbol": "circle"
         },
         "mode": "markers",
         "name": "",
         "showlegend": false,
         "type": "scattergl",
         "x": {
          "bdata": "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",
          "dtype": "i2"
         },
         "xaxis": "x",
         "y": {
          "bdata": "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",
          "dtype": "f8"
         },
         "yaxis": "y"
        },
        {
         "hovertemplate": "<b>Exponentially Weighted mean trendline</b><br><br>variable=batch_accuracy<br>step=%{x}<br>value=%{y} <b>(trend)</b><extra></extra>",
         "legendgroup": "",
         "line": {
          "color": "red"
         },
         "marker": {
          "color": "#636efa",
          "symbol": "circle"
         },
         "mode": "lines",
         "name": "",
         "showlegend": false,
         "type": "scattergl",
         "x": {
          "bdata": "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",
          "dtype": "i2"
         },
         "xaxis": "x",
         "y": {
          "bdata": "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",
          "dtype": "f8"
         },
         "yaxis": "y"
        }
       ],
       "layout": {
        "annotations": [
         {
          "font": {},
          "showarrow": false,
          "text": "variable=batch_accuracy",
          "textangle": 90,
          "x": 0.98,
          "xanchor": "left",
          "xref": "paper",
          "y": 0.2425,
          "yanchor": "middle",
          "yref": "paper"
         },
         {
          "font": {},
          "showarrow": false,
          "text": "variable=batch_train_loss",
          "textangle": 90,
          "x": 0.98,
          "xanchor": "left",
          "xref": "paper",
          "y": 0.7575000000000001,
          "yanchor": "middle",
          "yref": "paper"
         }
        ],
        "legend": {
         "tracegroupgap": 0
        },
        "template": {
         "data": {
          "bar": [
           {
            "error_x": {
             "color": "#2a3f5f"
            },
            "error_y": {
             "color": "#2a3f5f"
            },
            "marker": {
             "line": {
              "color": "#E5ECF6",
              "width": 0.5
             },
             "pattern": {
              "fillmode": "overlay",
              "size": 10,
              "solidity": 0.2
             }
            },
            "type": "bar"
           }
          ],
          "barpolar": [
           {
            "marker": {
             "line": {
              "color": "#E5ECF6",
              "width": 0.5
             },
             "pattern": {
              "fillmode": "overlay",
              "size": 10,
              "solidity": 0.2
             }
            },
            "type": "barpolar"
           }
          ],
          "carpet": [
           {
            "aaxis": {
             "endlinecolor": "#2a3f5f",
             "gridcolor": "white",
             "linecolor": "white",
             "minorgridcolor": "white",
             "startlinecolor": "#2a3f5f"
            },
            "baxis": {
             "endlinecolor": "#2a3f5f",
             "gridcolor": "white",
             "linecolor": "white",
             "minorgridcolor": "white",
             "startlinecolor": "#2a3f5f"
            },
            "type": "carpet"
           }
          ],
          "choropleth": [
           {
            "colorbar": {
             "outlinewidth": 0,
             "ticks": ""
            },
            "type": "choropleth"
           }
          ],
          "contour": [
           {
            "colorbar": {
             "outlinewidth": 0,
             "ticks": ""
            },
            "colorscale": [
             [
              0,
              "#0d0887"
             ],
             [
              0.1111111111111111,
              "#46039f"
             ],
             [
              0.2222222222222222,
              "#7201a8"
             ],
             [
              0.3333333333333333,
              "#9c179e"
             ],
             [
              0.4444444444444444,
              "#bd3786"
             ],
             [
              0.5555555555555556,
              "#d8576b"
             ],
             [
              0.6666666666666666,
              "#ed7953"
             ],
             [
              0.7777777777777778,
              "#fb9f3a"
             ],
             [
              0.8888888888888888,
              "#fdca26"
             ],
             [
              1,
              "#f0f921"
             ]
            ],
            "type": "contour"
           }
          ],
          "contourcarpet": [
           {
            "colorbar": {
             "outlinewidth": 0,
             "ticks": ""
            },
            "type": "contourcarpet"
           }
          ],
          "heatmap": [
           {
            "colorbar": {
             "outlinewidth": 0,
             "ticks": ""
            },
            "colorscale": [
             [
              0,
              "#0d0887"
             ],
             [
              0.1111111111111111,
              "#46039f"
             ],
             [
              0.2222222222222222,
              "#7201a8"
             ],
             [
              0.3333333333333333,
              "#9c179e"
             ],
             [
              0.4444444444444444,
              "#bd3786"
             ],
             [
              0.5555555555555556,
              "#d8576b"
             ],
             [
              0.6666666666666666,
              "#ed7953"
             ],
             [
              0.7777777777777778,
              "#fb9f3a"
             ],
             [
              0.8888888888888888,
              "#fdca26"
             ],
             [
              1,
              "#f0f921"
             ]
            ],
            "type": "heatmap"
           }
          ],
          "histogram": [
           {
            "marker": {
             "pattern": {
              "fillmode": "overlay",
              "size": 10,
              "solidity": 0.2
             }
            },
            "type": "histogram"
           }
          ],
          "histogram2d": [
           {
            "colorbar": {
             "outlinewidth": 0,
             "ticks": ""
            },
            "colorscale": [
             [
              0,
              "#0d0887"
             ],
             [
              0.1111111111111111,
              "#46039f"
             ],
             [
              0.2222222222222222,
              "#7201a8"
             ],
             [
              0.3333333333333333,
              "#9c179e"
             ],
             [
              0.4444444444444444,
              "#bd3786"
             ],
             [
              0.5555555555555556,
              "#d8576b"
             ],
             [
              0.6666666666666666,
              "#ed7953"
             ],
             [
              0.7777777777777778,
              "#fb9f3a"
             ],
             [
              0.8888888888888888,
              "#fdca26"
             ],
             [
              1,
              "#f0f921"
             ]
            ],
            "type": "histogram2d"
           }
          ],
          "histogram2dcontour": [
           {
            "colorbar": {
             "outlinewidth": 0,
             "ticks": ""
            },
            "colorscale": [
             [
              0,
              "#0d0887"
             ],
             [
              0.1111111111111111,
              "#46039f"
             ],
             [
              0.2222222222222222,
              "#7201a8"
             ],
             [
              0.3333333333333333,
              "#9c179e"
             ],
             [
              0.4444444444444444,
              "#bd3786"
             ],
             [
              0.5555555555555556,
              "#d8576b"
             ],
             [
              0.6666666666666666,
              "#ed7953"
             ],
             [
              0.7777777777777778,
              "#fb9f3a"
             ],
             [
              0.8888888888888888,
              "#fdca26"
             ],
             [
              1,
              "#f0f921"
             ]
            ],
            "type": "histogram2dcontour"
           }
          ],
          "mesh3d": [
           {
            "colorbar": {
             "outlinewidth": 0,
             "ticks": ""
            },
            "type": "mesh3d"
           }
          ],
          "parcoords": [
           {
            "line": {
             "colorbar": {
              "outlinewidth": 0,
              "ticks": ""
             }
            },
            "type": "parcoords"
           }
          ],
          "pie": [
           {
            "automargin": true,
            "type": "pie"
           }
          ],
          "scatter": [
           {
            "fillpattern": {
             "fillmode": "overlay",
             "size": 10,
             "solidity": 0.2
            },
            "type": "scatter"
           }
          ],
          "scatter3d": [
           {
            "line": {
             "colorbar": {
              "outlinewidth": 0,
              "ticks": ""
             }
            },
            "marker": {
             "colorbar": {
              "outlinewidth": 0,
              "ticks": ""
             }
            },
            "type": "scatter3d"
           }
          ],
          "scattercarpet": [
           {
            "marker": {
             "colorbar": {
              "outlinewidth": 0,
              "ticks": ""
             }
            },
            "type": "scattercarpet"
           }
          ],
          "scattergeo": [
           {
            "marker": {
             "colorbar": {
              "outlinewidth": 0,
              "ticks": ""
             }
            },
            "type": "scattergeo"
           }
          ],
          "scattergl": [
           {
            "marker": {
             "colorbar": {
              "outlinewidth": 0,
              "ticks": ""
             }
            },
            "type": "scattergl"
           }
          ],
          "scattermap": [
           {
            "marker": {
             "colorbar": {
              "outlinewidth": 0,
              "ticks": ""
             }
            },
            "type": "scattermap"
           }
          ],
          "scattermapbox": [
           {
            "marker": {
             "colorbar": {
              "outlinewidth": 0,
              "ticks": ""
             }
            },
            "type": "scattermapbox"
           }
          ],
          "scatterpolar": [
           {
            "marker": {
             "colorbar": {
              "outlinewidth": 0,
              "ticks": ""
             }
            },
            "type": "scatterpolar"
           }
          ],
          "scatterpolargl": [
           {
            "marker": {
             "colorbar": {
              "outlinewidth": 0,
              "ticks": ""
             }
            },
            "type": "scatterpolargl"
           }
          ],
          "scatterternary": [
           {
            "marker": {
             "colorbar": {
              "outlinewidth": 0,
              "ticks": ""
             }
            },
            "type": "scatterternary"
           }
          ],
          "surface": [
           {
            "colorbar": {
             "outlinewidth": 0,
             "ticks": ""
            },
            "colorscale": [
             [
              0,
              "#0d0887"
             ],
             [
              0.1111111111111111,
              "#46039f"
             ],
             [
              0.2222222222222222,
              "#7201a8"
             ],
             [
              0.3333333333333333,
              "#9c179e"
             ],
             [
              0.4444444444444444,
              "#bd3786"
             ],
             [
              0.5555555555555556,
              "#d8576b"
             ],
             [
              0.6666666666666666,
              "#ed7953"
             ],
             [
              0.7777777777777778,
              "#fb9f3a"
             ],
             [
              0.8888888888888888,
              "#fdca26"
             ],
             [
              1,
              "#f0f921"
             ]
            ],
            "type": "surface"
           }
          ],
          "table": [
           {
            "cells": {
             "fill": {
              "color": "#EBF0F8"
             },
             "line": {
              "color": "white"
             }
            },
            "header": {
             "fill": {
              "color": "#C8D4E3"
             },
             "line": {
              "color": "white"
             }
            },
            "type": "table"
           }
          ]
         },
         "layout": {
          "annotationdefaults": {
           "arrowcolor": "#2a3f5f",
           "arrowhead": 0,
           "arrowwidth": 1
          },
          "autotypenumbers": "strict",
          "coloraxis": {
           "colorbar": {
            "outlinewidth": 0,
            "ticks": ""
           }
          },
          "colorscale": {
           "diverging": [
            [
             0,
             "#8e0152"
            ],
            [
             0.1,
             "#c51b7d"
            ],
            [
             0.2,
             "#de77ae"
            ],
            [
             0.3,
             "#f1b6da"
            ],
            [
             0.4,
             "#fde0ef"
            ],
            [
             0.5,
             "#f7f7f7"
            ],
            [
             0.6,
             "#e6f5d0"
            ],
            [
             0.7,
             "#b8e186"
            ],
            [
             0.8,
             "#7fbc41"
            ],
            [
             0.9,
             "#4d9221"
            ],
            [
             1,
             "#276419"
            ]
           ],
           "sequential": [
            [
             0,
             "#0d0887"
            ],
            [
             0.1111111111111111,
             "#46039f"
            ],
            [
             0.2222222222222222,
             "#7201a8"
            ],
            [
             0.3333333333333333,
             "#9c179e"
            ],
            [
             0.4444444444444444,
             "#bd3786"
            ],
            [
             0.5555555555555556,
             "#d8576b"
            ],
            [
             0.6666666666666666,
             "#ed7953"
            ],
            [
             0.7777777777777778,
             "#fb9f3a"
            ],
            [
             0.8888888888888888,
             "#fdca26"
            ],
            [
             1,
             "#f0f921"
            ]
           ],
           "sequentialminus": [
            [
             0,
             "#0d0887"
            ],
            [
             0.1111111111111111,
             "#46039f"
            ],
            [
             0.2222222222222222,
             "#7201a8"
            ],
            [
             0.3333333333333333,
             "#9c179e"
            ],
            [
             0.4444444444444444,
             "#bd3786"
            ],
            [
             0.5555555555555556,
             "#d8576b"
            ],
            [
             0.6666666666666666,
             "#ed7953"
            ],
            [
             0.7777777777777778,
             "#fb9f3a"
            ],
            [
             0.8888888888888888,
             "#fdca26"
            ],
            [
             1,
             "#f0f921"
            ]
           ]
          },
          "colorway": [
           "#636efa",
           "#EF553B",
           "#00cc96",
           "#ab63fa",
           "#FFA15A",
           "#19d3f3",
           "#FF6692",
           "#B6E880",
           "#FF97FF",
           "#FECB52"
          ],
          "font": {
           "color": "#2a3f5f"
          },
          "geo": {
           "bgcolor": "white",
           "lakecolor": "white",
           "landcolor": "#E5ECF6",
           "showlakes": true,
           "showland": true,
           "subunitcolor": "white"
          },
          "hoverlabel": {
           "align": "left"
          },
          "hovermode": "closest",
          "mapbox": {
           "style": "light"
          },
          "paper_bgcolor": "white",
          "plot_bgcolor": "#E5ECF6",
          "polar": {
           "angularaxis": {
            "gridcolor": "white",
            "linecolor": "white",
            "ticks": ""
           },
           "bgcolor": "#E5ECF6",
           "radialaxis": {
            "gridcolor": "white",
            "linecolor": "white",
            "ticks": ""
           }
          },
          "scene": {
           "xaxis": {
            "backgroundcolor": "#E5ECF6",
            "gridcolor": "white",
            "gridwidth": 2,
            "linecolor": "white",
            "showbackground": true,
            "ticks": "",
            "zerolinecolor": "white"
           },
           "yaxis": {
            "backgroundcolor": "#E5ECF6",
            "gridcolor": "white",
            "gridwidth": 2,
            "linecolor": "white",
            "showbackground": true,
            "ticks": "",
            "zerolinecolor": "white"
           },
           "zaxis": {
            "backgroundcolor": "#E5ECF6",
            "gridcolor": "white",
            "gridwidth": 2,
            "linecolor": "white",
            "showbackground": true,
            "ticks": "",
            "zerolinecolor": "white"
           }
          },
          "shapedefaults": {
           "line": {
            "color": "#2a3f5f"
           }
          },
          "ternary": {
           "aaxis": {
            "gridcolor": "white",
            "linecolor": "white",
            "ticks": ""
           },
           "baxis": {
            "gridcolor": "white",
            "linecolor": "white",
            "ticks": ""
           },
           "bgcolor": "#E5ECF6",
           "caxis": {
            "gridcolor": "white",
            "linecolor": "white",
            "ticks": ""
           }
          },
          "title": {
           "x": 0.05
          },
          "xaxis": {
           "automargin": true,
           "gridcolor": "white",
           "linecolor": "white",
           "ticks": "",
           "title": {
            "standoff": 15
           },
           "zerolinecolor": "white",
           "zerolinewidth": 2
          },
          "yaxis": {
           "automargin": true,
           "gridcolor": "white",
           "linecolor": "white",
           "ticks": "",
           "title": {
            "standoff": 15
           },
           "zerolinecolor": "white",
           "zerolinewidth": 2
          }
         }
        },
        "title": {
         "text": "batch metrics"
        },
        "xaxis": {
         "anchor": "y",
         "domain": [
          0,
          0.98
         ],
         "title": {
          "text": "step"
         }
        },
        "xaxis2": {
         "anchor": "y2",
         "domain": [
          0,
          0.98
         ],
         "matches": "x",
         "showticklabels": false
        },
        "yaxis": {
         "anchor": "x",
         "domain": [
          0,
          0.485
         ],
         "title": {
          "text": "value"
         }
        },
        "yaxis2": {
         "anchor": "x2",
         "domain": [
          0.515,
          1
         ],
         "title": {
          "text": "value"
         }
        }
       }
      }
     },
     "metadata": {},
     "output_type": "display_data"
    },
    {
     "data": {
      "application/vnd.plotly.v1+json": {
       "config": {
        "plotlyServerURL": "https://plot.ly"
       },
       "data": [
        {
         "hovertemplate": "variable=train_epoch_loss<br>step=%{x}<br>value=%{y}<extra></extra>",
         "legendgroup": "train_epoch_loss",
         "line": {
          "color": "#636efa",
          "dash": "solid"
         },
         "marker": {
          "symbol": "circle"
         },
         "mode": "lines",
         "name": "train_epoch_loss",
         "orientation": "v",
         "showlegend": true,
         "type": "scatter",
         "x": {
          "bdata": "GQAzAE0AZwCBAJsAtQDPAOkAAwEdATcBUQFrAYUBnwG5AdMB7QEHAiECOwJVAm8CiQKjAr0C1wLxAgsDJQM/A1kDcwONA6cDwQPbA/UDDwQpBEMEXQR3BJEEqwTFBN8E+QQTBS0FRwVhBXsFlQWvBckF4wX9BRcG",
          "dtype": "i2"
         },
         "xaxis": "x4",
         "y": {
          "bdata": "dmInhqgsBkBP7MS+pE0FQNmJnTivAQVAFDuxExzHBEAndmLnoncEQOzETgw0MARAsRM7IYkUBECKndj5nPoDQCd2YufvwANAxU7slF2YA0CKndhZLIQDQCd2YidIZwNAO7ETSydPA0DFTuzU/ikDQDuxE1tuEANAJ3Zi9xj6AkAUO7HD7wUDQGIndjJe3gJAFDuxgxfNAkA7sRObirECQGIndgIHnwJAFDuxwxaOAkCKndj5ZoICQJ7Yif3bbwJAdmInlg5wAkBP7MSOH1YCQAAAAECuTgJAsRM7kfo2AkAUO7FzuyQCQNmJnVgkGAJAdmInhrkNAkCe2IndyPoBQDuxE4sI/QFAAAAAgE30AUB2Yid26t8BQCd2YocYygFAFDuxoxbBAUCxEzuh0b0BQJ7YiS28twFAntiJ7ZWyAUA7sROrvLABQOzETnwgrAFAFDuxw+mpAUBP7MSOp50BQHZiJ8bungFAT+zEfoiKAUCxEzvh+XkBQCd2YhezdgFAT+zE7plyAUB2YifG3W8BQBQ7scPjcAFAO7ETa5dtAUDFTuxEwnIBQJ7YiT0QawFAFDuxUyh9AUDZiZ2IZ2wBQOzETpxqcwFAFDuxI/dtAUAndmKnBGwBQE/sxH5OaQFA",
          "dtype": "f8"
         },
         "yaxis": "y4"
        },
        {
         "hovertemplate": "variable=train_epoch_accuracy<br>step=%{x}<br>value=%{y}<extra></extra>",
         "legendgroup": "train_epoch_accuracy",
         "line": {
          "color": "#EF553B",
          "dash": "solid"
         },
         "marker": {
          "symbol": "circle"
         },
         "mode": "lines",
         "name": "train_epoch_accuracy",
         "orientation": "v",
         "showlegend": true,
         "type": "scatter",
         "x": {
          "bdata": "GQAzAE0AZwCBAJsAtQDPAOkAAwEdATcBUQFrAYUBnwG5AdMB7QEHAiECOwJVAm8CiQKjAr0C1wLxAgsDJQM/A1kDcwONA6cDwQPbA/UDDwQpBEMEXQR3BJEEqwTFBN8E+QQTBS0FRwVhBXsFlQWvBckF4wX9BRcG",
          "dtype": "i2"
         },
         "xaxis": "x3",
         "y": {
          "bdata": "URxqZAvyyj+kKvJwAl3UP4vbX/fQzNY/BlJo0ymz2D93oK7jlVvbPzbwjMaM090/D3oqnxZx3j/30EwIiV7fP/Y4en35h+A/xpNkXgw04T8MUXa1gYfhP58dAjeW8eE/mCXlgMhg4j8vBlJo0/niPySgCC+zZ+M/z2jMOCfD4z/yHajreIXjP+XaE44LJeQ/d/r5APJt5D/5FcWhRubkPxFlVxt4FuU/Imly7Qln5T/UKVOtS5PlPwyk0KZT1uU/h8d+kdrd5T/L+p+11EHmP7L+Zy11YOY/p5ge9FTO5j8527lC7gjnP4JZUg6ILOc/iVFvxFVd5z8w/2A8SZbnPy4iFhj8l+c/HvtFare15z8G/w3iVwToP6GgAT6HXeg/R/uYxKiH6D8wrAZLd5foPxcDKbTppOg/BMh3oK6z6D8udXAJzsboP3+Yy5ljzOg/VyJpcu3Z6D+p63jlJv3oPy51cAnO9ug/wh5Hry9P6T+KpMm1J4zpP9mQjgQUoek/0GHbDJ2v6T96ffkH47npP246Zap1uek/sRos3Z2+6T+sWaVoea7pP5Wwx9Hry+k/IDLcq2CG6T+MgRTadMrpP1d1w2O/qOk/xVXd8Ni/6T8PgRvLoMTpP4F1Fr6wyuk/",
          "dtype": "f8"
         },
         "yaxis": "y3"
        },
        {
         "hovertemplate": "variable=validation_loss<br>step=%{x}<br>value=%{y}<extra></extra>",
         "legendgroup": "validation_loss",
         "line": {
          "color": "#00cc96",
          "dash": "solid"
         },
         "marker": {
          "symbol": "circle"
         },
         "mode": "lines",
         "name": "validation_loss",
         "orientation": "v",
         "showlegend": true,
         "type": "scatter",
         "x": {
          "bdata": "GQAzAE0AZwCBAJsAtQDPAOkAAwEdATcBUQFrAYUBnwG5AdMB7QEHAiECOwJVAm8CiQKjAr0C1wLxAgsDJQM/A1kDcwONA6cDwQPbA/UDDwQpBEMEXQR3BJEEqwTFBN8E+QQTBS0FRwVhBXsFlQWvBckF4wX9BRcG",
          "dtype": "i2"
         },
         "xaxis": "x2",
         "y": {
          "bdata": "JUmSxOW6BUAlSZJklBAFQLdt29adwQRA27Ztm9aUBEBu27btIzgEQG7btk24BgRAAAAA4Nj+A0Bu27ZtYvEDQEmSJIlMnANAt23bdtBxA0BJkiTJlWwDQCVJkuTcVwNAJUmSZHwyA0CSJElSPQkDQJIkSfLH4gJAbtu2TR/hAkC3bdvWe9MCQJIkSZLXvQJAJUmShPelAkC3bduWtoYCQLdt2xYafwJAt23blqZ0AkDbtm37oWMCQAAAAOADcgJAAAAAIIlFAkCSJEkyXzsCQLdt29bBKQJAAAAAQNYtAkAAAAAA6hACQG7btm2K+QFAkiRJUtvvAUBJkiRpTu4BQG7btm2m6wFAt23blgrjAUAlSZJkl8sBQAAAAODRuAFAJUmSJO63AUBJkiSp8bABQJIkSZJyswFAJUmSZEOqAUCSJEny/qYBQAAAAGB+pAFA27Ztu5ehAUC3bduWTZwBQAAAAED1lwFAJUmSxH15AUDbtm3bDnMBQJIkSfL2cwFAbtu2bZttAUDbtm1bL2sBQCVJkuTcbAFAAAAA4IpoAUAAAAAgPWgBQCVJkoQhdAFAkiRJ8pFyAUDbtm170GkBQCVJkiSWaAFASZIkKUBkAUCSJElSHWEBQCVJkmRWZQFA",
          "dtype": "f8"
         },
         "yaxis": "y2"
        },
        {
         "hovertemplate": "variable=validation_accuracy<br>step=%{x}<br>value=%{y}<extra></extra>",
         "legendgroup": "validation_accuracy",
         "line": {
          "color": "#ab63fa",
          "dash": "solid"
         },
         "marker": {
          "symbol": "circle"
         },
         "mode": "lines",
         "name": "validation_accuracy",
         "orientation": "v",
         "showlegend": true,
         "type": "scatter",
         "x": {
          "bdata": "GQAzAE0AZwCBAJsAtQDPAOkAAwEdATcBUQFrAYUBnwG5AdMB7QEHAiECOwJVAm8CiQKjAr0C1wLxAgsDJQM/A1kDcwONA6cDwQPbA/UDDwQpBEMEXQR3BJEEqwTFBN8E+QQTBS0FRwVhBXsFlQWvBckF4wX9BRcG",
          "dtype": "i2"
         },
         "xaxis": "x",
         "y": {
          "bdata": "d0hbvaDZ0T833w0/qpvWPw4/qkvMGtk/qLP8PS+n2j/pvrB+OovdP4tc2js5Ht8/mey36A803z+dDCIPXIXfP2Q3q3XNLuE/ME4GkQfG4T9d56EVj+PhP+rbS27BQuI/ME4GkQfe4j9LN1pCbITjP7iKdqb0EuQ/asiyI3Ac5D+TQeSBq1DkP21ggkBppeQ/Ql+22NoA5T+rCs4MxIXlPxv2uY1FneU/yyPB9xrG5T9dONV2mQ7mPz6nfJWVzuU/Nc/YKwR75j9+Yf10lqfmP+iUr7LS5OY/MSfU+2TZ5j8tf8/LxU/nP08wktMVmec/BY44d9275z+7+xMuS8fnP+FU22U60uc/uNupB//t5z/ajGwPT1foP0dY7mmEleg/a6GAjs2n6D/+xckg8rjoP9dsAukCtug/R1juaYTN6D+ym9W6ZtvoP0bQU2Ax3eg/IHeMKELy6D/7tZQNTPjoP/st+gP5B+k/rvPQiseJ6T8av1Ll/J/pP0AYGh3souk/ZdkROOK06T+rWwFuzsDpP4eK1D8yvuk/z5Ref3HK6T/z3fCjuszpP9I8Y68QpOk/9/1aygau6T+r02Zke8jpPxmvHdJWz+k/qkvMWijY6T/yVVaaZ+TpP2AxDQhD2+k/",
          "dtype": "f8"
         },
         "yaxis": "y"
        }
       ],
       "layout": {
        "annotations": [
         {
          "font": {},
          "showarrow": false,
          "text": "variable=validation_accuracy",
          "textangle": 90,
          "x": 0.98,
          "xanchor": "left",
          "xref": "paper",
          "y": 0.11375,
          "yanchor": "middle",
          "yref": "paper"
         },
         {
          "font": {},
          "showarrow": false,
          "text": "variable=validation_loss",
          "textangle": 90,
          "x": 0.98,
          "xanchor": "left",
          "xref": "paper",
          "y": 0.37124999999999997,
          "yanchor": "middle",
          "yref": "paper"
         },
         {
          "font": {},
          "showarrow": false,
          "text": "variable=train_epoch_accuracy",
          "textangle": 90,
          "x": 0.98,
          "xanchor": "left",
          "xref": "paper",
          "y": 0.62875,
          "yanchor": "middle",
          "yref": "paper"
         },
         {
          "font": {},
          "showarrow": false,
          "text": "variable=train_epoch_loss",
          "textangle": 90,
          "x": 0.98,
          "xanchor": "left",
          "xref": "paper",
          "y": 0.88625,
          "yanchor": "middle",
          "yref": "paper"
         }
        ],
        "legend": {
         "title": {
          "text": "variable"
         },
         "tracegroupgap": 0
        },
        "template": {
         "data": {
          "bar": [
           {
            "error_x": {
             "color": "#2a3f5f"
            },
            "error_y": {
             "color": "#2a3f5f"
            },
            "marker": {
             "line": {
              "color": "#E5ECF6",
              "width": 0.5
             },
             "pattern": {
              "fillmode": "overlay",
              "size": 10,
              "solidity": 0.2
             }
            },
            "type": "bar"
           }
          ],
          "barpolar": [
           {
            "marker": {
             "line": {
              "color": "#E5ECF6",
              "width": 0.5
             },
             "pattern": {
              "fillmode": "overlay",
              "size": 10,
              "solidity": 0.2
             }
            },
            "type": "barpolar"
           }
          ],
          "carpet": [
           {
            "aaxis": {
             "endlinecolor": "#2a3f5f",
             "gridcolor": "white",
             "linecolor": "white",
             "minorgridcolor": "white",
             "startlinecolor": "#2a3f5f"
            },
            "baxis": {
             "endlinecolor": "#2a3f5f",
             "gridcolor": "white",
             "linecolor": "white",
             "minorgridcolor": "white",
             "startlinecolor": "#2a3f5f"
            },
            "type": "carpet"
           }
          ],
          "choropleth": [
           {
            "colorbar": {
             "outlinewidth": 0,
             "ticks": ""
            },
            "type": "choropleth"
           }
          ],
          "contour": [
           {
            "colorbar": {
             "outlinewidth": 0,
             "ticks": ""
            },
            "colorscale": [
             [
              0,
              "#0d0887"
             ],
             [
              0.1111111111111111,
              "#46039f"
             ],
             [
              0.2222222222222222,
              "#7201a8"
             ],
             [
              0.3333333333333333,
              "#9c179e"
             ],
             [
              0.4444444444444444,
              "#bd3786"
             ],
             [
              0.5555555555555556,
              "#d8576b"
             ],
             [
              0.6666666666666666,
              "#ed7953"
             ],
             [
              0.7777777777777778,
              "#fb9f3a"
             ],
             [
              0.8888888888888888,
              "#fdca26"
             ],
             [
              1,
              "#f0f921"
             ]
            ],
            "type": "contour"
           }
          ],
          "contourcarpet": [
           {
            "colorbar": {
             "outlinewidth": 0,
             "ticks": ""
            },
            "type": "contourcarpet"
           }
          ],
          "heatmap": [
           {
            "colorbar": {
             "outlinewidth": 0,
             "ticks": ""
            },
            "colorscale": [
             [
              0,
              "#0d0887"
             ],
             [
              0.1111111111111111,
              "#46039f"
             ],
             [
              0.2222222222222222,
              "#7201a8"
             ],
             [
              0.3333333333333333,
              "#9c179e"
             ],
             [
              0.4444444444444444,
              "#bd3786"
             ],
             [
              0.5555555555555556,
              "#d8576b"
             ],
             [
              0.6666666666666666,
              "#ed7953"
             ],
             [
              0.7777777777777778,
              "#fb9f3a"
             ],
             [
              0.8888888888888888,
              "#fdca26"
             ],
             [
              1,
              "#f0f921"
             ]
            ],
            "type": "heatmap"
           }
          ],
          "histogram": [
           {
            "marker": {
             "pattern": {
              "fillmode": "overlay",
              "size": 10,
              "solidity": 0.2
             }
            },
            "type": "histogram"
           }
          ],
          "histogram2d": [
           {
            "colorbar": {
             "outlinewidth": 0,
             "ticks": ""
            },
            "colorscale": [
             [
              0,
              "#0d0887"
             ],
             [
              0.1111111111111111,
              "#46039f"
             ],
             [
              0.2222222222222222,
              "#7201a8"
             ],
             [
              0.3333333333333333,
              "#9c179e"
             ],
             [
              0.4444444444444444,
              "#bd3786"
             ],
             [
              0.5555555555555556,
              "#d8576b"
             ],
             [
              0.6666666666666666,
              "#ed7953"
             ],
             [
              0.7777777777777778,
              "#fb9f3a"
             ],
             [
              0.8888888888888888,
              "#fdca26"
             ],
             [
              1,
              "#f0f921"
             ]
            ],
            "type": "histogram2d"
           }
          ],
          "histogram2dcontour": [
           {
            "colorbar": {
             "outlinewidth": 0,
             "ticks": ""
            },
            "colorscale": [
             [
              0,
              "#0d0887"
             ],
             [
              0.1111111111111111,
              "#46039f"
             ],
             [
              0.2222222222222222,
              "#7201a8"
             ],
             [
              0.3333333333333333,
              "#9c179e"
             ],
             [
              0.4444444444444444,
              "#bd3786"
             ],
             [
              0.5555555555555556,
              "#d8576b"
             ],
             [
              0.6666666666666666,
              "#ed7953"
             ],
             [
              0.7777777777777778,
              "#fb9f3a"
             ],
             [
              0.8888888888888888,
              "#fdca26"
             ],
             [
              1,
              "#f0f921"
             ]
            ],
            "type": "histogram2dcontour"
           }
          ],
          "mesh3d": [
           {
            "colorbar": {
             "outlinewidth": 0,
             "ticks": ""
            },
            "type": "mesh3d"
           }
          ],
          "parcoords": [
           {
            "line": {
             "colorbar": {
              "outlinewidth": 0,
              "ticks": ""
             }
            },
            "type": "parcoords"
           }
          ],
          "pie": [
           {
            "automargin": true,
            "type": "pie"
           }
          ],
          "scatter": [
           {
            "fillpattern": {
             "fillmode": "overlay",
             "size": 10,
             "solidity": 0.2
            },
            "type": "scatter"
           }
          ],
          "scatter3d": [
           {
            "line": {
             "colorbar": {
              "outlinewidth": 0,
              "ticks": ""
             }
            },
            "marker": {
             "colorbar": {
              "outlinewidth": 0,
              "ticks": ""
             }
            },
            "type": "scatter3d"
           }
          ],
          "scattercarpet": [
           {
            "marker": {
             "colorbar": {
              "outlinewidth": 0,
              "ticks": ""
             }
            },
            "type": "scattercarpet"
           }
          ],
          "scattergeo": [
           {
            "marker": {
             "colorbar": {
              "outlinewidth": 0,
              "ticks": ""
             }
            },
            "type": "scattergeo"
           }
          ],
          "scattergl": [
           {
            "marker": {
             "colorbar": {
              "outlinewidth": 0,
              "ticks": ""
             }
            },
            "type": "scattergl"
           }
          ],
          "scattermap": [
           {
            "marker": {
             "colorbar": {
              "outlinewidth": 0,
              "ticks": ""
             }
            },
            "type": "scattermap"
           }
          ],
          "scattermapbox": [
           {
            "marker": {
             "colorbar": {
              "outlinewidth": 0,
              "ticks": ""
             }
            },
            "type": "scattermapbox"
           }
          ],
          "scatterpolar": [
           {
            "marker": {
             "colorbar": {
              "outlinewidth": 0,
              "ticks": ""
             }
            },
            "type": "scatterpolar"
           }
          ],
          "scatterpolargl": [
           {
            "marker": {
             "colorbar": {
              "outlinewidth": 0,
              "ticks": ""
             }
            },
            "type": "scatterpolargl"
           }
          ],
          "scatterternary": [
           {
            "marker": {
             "colorbar": {
              "outlinewidth": 0,
              "ticks": ""
             }
            },
            "type": "scatterternary"
           }
          ],
          "surface": [
           {
            "colorbar": {
             "outlinewidth": 0,
             "ticks": ""
            },
            "colorscale": [
             [
              0,
              "#0d0887"
             ],
             [
              0.1111111111111111,
              "#46039f"
             ],
             [
              0.2222222222222222,
              "#7201a8"
             ],
             [
              0.3333333333333333,
              "#9c179e"
             ],
             [
              0.4444444444444444,
              "#bd3786"
             ],
             [
              0.5555555555555556,
              "#d8576b"
             ],
             [
              0.6666666666666666,
              "#ed7953"
             ],
             [
              0.7777777777777778,
              "#fb9f3a"
             ],
             [
              0.8888888888888888,
              "#fdca26"
             ],
             [
              1,
              "#f0f921"
             ]
            ],
            "type": "surface"
           }
          ],
          "table": [
           {
            "cells": {
             "fill": {
              "color": "#EBF0F8"
             },
             "line": {
              "color": "white"
             }
            },
            "header": {
             "fill": {
              "color": "#C8D4E3"
             },
             "line": {
              "color": "white"
             }
            },
            "type": "table"
           }
          ]
         },
         "layout": {
          "annotationdefaults": {
           "arrowcolor": "#2a3f5f",
           "arrowhead": 0,
           "arrowwidth": 1
          },
          "autotypenumbers": "strict",
          "coloraxis": {
           "colorbar": {
            "outlinewidth": 0,
            "ticks": ""
           }
          },
          "colorscale": {
           "diverging": [
            [
             0,
             "#8e0152"
            ],
            [
             0.1,
             "#c51b7d"
            ],
            [
             0.2,
             "#de77ae"
            ],
            [
             0.3,
             "#f1b6da"
            ],
            [
             0.4,
             "#fde0ef"
            ],
            [
             0.5,
             "#f7f7f7"
            ],
            [
             0.6,
             "#e6f5d0"
            ],
            [
             0.7,
             "#b8e186"
            ],
            [
             0.8,
             "#7fbc41"
            ],
            [
             0.9,
             "#4d9221"
            ],
            [
             1,
             "#276419"
            ]
           ],
           "sequential": [
            [
             0,
             "#0d0887"
            ],
            [
             0.1111111111111111,
             "#46039f"
            ],
            [
             0.2222222222222222,
             "#7201a8"
            ],
            [
             0.3333333333333333,
             "#9c179e"
            ],
            [
             0.4444444444444444,
             "#bd3786"
            ],
            [
             0.5555555555555556,
             "#d8576b"
            ],
            [
             0.6666666666666666,
             "#ed7953"
            ],
            [
             0.7777777777777778,
             "#fb9f3a"
            ],
            [
             0.8888888888888888,
             "#fdca26"
            ],
            [
             1,
             "#f0f921"
            ]
           ],
           "sequentialminus": [
            [
             0,
             "#0d0887"
            ],
            [
             0.1111111111111111,
             "#46039f"
            ],
            [
             0.2222222222222222,
             "#7201a8"
            ],
            [
             0.3333333333333333,
             "#9c179e"
            ],
            [
             0.4444444444444444,
             "#bd3786"
            ],
            [
             0.5555555555555556,
             "#d8576b"
            ],
            [
             0.6666666666666666,
             "#ed7953"
            ],
            [
             0.7777777777777778,
             "#fb9f3a"
            ],
            [
             0.8888888888888888,
             "#fdca26"
            ],
            [
             1,
             "#f0f921"
            ]
           ]
          },
          "colorway": [
           "#636efa",
           "#EF553B",
           "#00cc96",
           "#ab63fa",
           "#FFA15A",
           "#19d3f3",
           "#FF6692",
           "#B6E880",
           "#FF97FF",
           "#FECB52"
          ],
          "font": {
           "color": "#2a3f5f"
          },
          "geo": {
           "bgcolor": "white",
           "lakecolor": "white",
           "landcolor": "#E5ECF6",
           "showlakes": true,
           "showland": true,
           "subunitcolor": "white"
          },
          "hoverlabel": {
           "align": "left"
          },
          "hovermode": "closest",
          "mapbox": {
           "style": "light"
          },
          "paper_bgcolor": "white",
          "plot_bgcolor": "#E5ECF6",
          "polar": {
           "angularaxis": {
            "gridcolor": "white",
            "linecolor": "white",
            "ticks": ""
           },
           "bgcolor": "#E5ECF6",
           "radialaxis": {
            "gridcolor": "white",
            "linecolor": "white",
            "ticks": ""
           }
          },
          "scene": {
           "xaxis": {
            "backgroundcolor": "#E5ECF6",
            "gridcolor": "white",
            "gridwidth": 2,
            "linecolor": "white",
            "showbackground": true,
            "ticks": "",
            "zerolinecolor": "white"
           },
           "yaxis": {
            "backgroundcolor": "#E5ECF6",
            "gridcolor": "white",
            "gridwidth": 2,
            "linecolor": "white",
            "showbackground": true,
            "ticks": "",
            "zerolinecolor": "white"
           },
           "zaxis": {
            "backgroundcolor": "#E5ECF6",
            "gridcolor": "white",
            "gridwidth": 2,
            "linecolor": "white",
            "showbackground": true,
            "ticks": "",
            "zerolinecolor": "white"
           }
          },
          "shapedefaults": {
           "line": {
            "color": "#2a3f5f"
           }
          },
          "ternary": {
           "aaxis": {
            "gridcolor": "white",
            "linecolor": "white",
            "ticks": ""
           },
           "baxis": {
            "gridcolor": "white",
            "linecolor": "white",
            "ticks": ""
           },
           "bgcolor": "#E5ECF6",
           "caxis": {
            "gridcolor": "white",
            "linecolor": "white",
            "ticks": ""
           }
          },
          "title": {
           "x": 0.05
          },
          "xaxis": {
           "automargin": true,
           "gridcolor": "white",
           "linecolor": "white",
           "ticks": "",
           "title": {
            "standoff": 15
           },
           "zerolinecolor": "white",
           "zerolinewidth": 2
          },
          "yaxis": {
           "automargin": true,
           "gridcolor": "white",
           "linecolor": "white",
           "ticks": "",
           "title": {
            "standoff": 15
           },
           "zerolinecolor": "white",
           "zerolinewidth": 2
          }
         }
        },
        "title": {
         "text": "epoch metrics"
        },
        "xaxis": {
         "anchor": "y",
         "domain": [
          0,
          0.98
         ],
         "title": {
          "text": "step"
         }
        },
        "xaxis2": {
         "anchor": "y2",
         "domain": [
          0,
          0.98
         ],
         "matches": "x",
         "showticklabels": false
        },
        "xaxis3": {
         "anchor": "y3",
         "domain": [
          0,
          0.98
         ],
         "matches": "x",
         "showticklabels": false
        },
        "xaxis4": {
         "anchor": "y4",
         "domain": [
          0,
          0.98
         ],
         "matches": "x",
         "showticklabels": false
        },
        "yaxis": {
         "anchor": "x",
         "domain": [
          0,
          0.2275
         ],
         "title": {
          "text": "value"
         }
        },
        "yaxis2": {
         "anchor": "x2",
         "domain": [
          0.2575,
          0.485
         ],
         "title": {
          "text": "value"
         }
        },
        "yaxis3": {
         "anchor": "x3",
         "domain": [
          0.515,
          0.7425
         ],
         "title": {
          "text": "value"
         }
        },
        "yaxis4": {
         "anchor": "x4",
         "domain": [
          0.7725,
          1
         ],
         "title": {
          "text": "value"
         }
        }
       }
      }
     },
     "metadata": {},
     "output_type": "display_data"
    }
   ],
   "source": [
    "(\n",
    "    px.scatter(\n",
    "    (\n",
    "        training_metrics\n",
    "        .melt(\n",
    "            id_vars=\"step\",\n",
    "            value_vars=[\n",
    "                \"batch_train_loss\",\n",
    "                \"batch_accuracy\",\n",
    "            ]\n",
    "        )\n",
    "    ),\n",
    "    x=\"step\",\n",
    "    y=\"value\",\n",
    "    facet_row=\"variable\",\n",
    "    trendline=\"ewm\",\n",
    "    trendline_options={\"com\": 30},\n",
    "    trendline_color_override=\"red\",\n",
    "    title=\"batch metrics\",\n",
    "    )\n",
    "    .update_yaxes(matches=None)\n",
    "    .show()\n",
    ")\n",
    "px.line(\n",
    "    (\n",
    "        training_metrics\n",
    "        .query(\"validation_loss.notna()\")\n",
    "        .melt(\n",
    "            id_vars=\"step\",\n",
    "            value_vars=['train_epoch_loss', 'train_epoch_accuracy', 'validation_loss', 'validation_accuracy']\n",
    "        )\n",
    "    ),\n",
    "    x=\"step\",\n",
    "    y=\"value\",\n",
    "    color=\"variable\",\n",
    "    facet_row=\"variable\",\n",
    "    title=\"epoch metrics\",\n",
    "    render_mode=\"line+marker\",\n",
    ").update_yaxes(matches=None)"
   ]
  },
  {
   "cell_type": "code",
   "execution_count": 10,
   "id": "ce2e1c7a",
   "metadata": {},
   "outputs": [
    {
     "data": {
      "text/plain": [
       "25      0.278908\n",
       "51      0.353251\n",
       "77      0.392261\n",
       "103     0.416454\n",
       "129     0.461623\n",
       "155     0.486220\n",
       "181     0.487553\n",
       "207     0.492515\n",
       "233     0.536963\n",
       "259     0.555424\n",
       "285     0.559028\n",
       "311     0.570649\n",
       "337     0.589603\n",
       "363     0.609915\n",
       "389     0.627314\n",
       "415     0.628471\n",
       "441     0.634847\n",
       "467     0.645192\n",
       "493     0.656354\n",
       "519     0.672579\n",
       "545     0.675448\n",
       "571     0.680433\n",
       "597     0.689282\n",
       "623     0.681468\n",
       "649     0.702517\n",
       "675     0.707957\n",
       "701     0.715432\n",
       "727     0.714037\n",
       "753     0.728488\n",
       "779     0.737437\n",
       "805     0.741683\n",
       "831     0.743078\n",
       "857     0.744413\n",
       "883     0.747802\n",
       "909     0.760658\n",
       "935     0.768252\n",
       "961     0.770484\n",
       "987     0.772576\n",
       "1013    0.772218\n",
       "1039    0.775088\n",
       "1065    0.776782\n",
       "1091    0.777001\n",
       "1117    0.779573\n",
       "1143    0.780310\n",
       "1169    0.782223\n",
       "1195    0.798069\n",
       "1221    0.800780\n",
       "1247    0.801138\n",
       "1273    0.803331\n",
       "1299    0.804786\n",
       "1325    0.804467\n",
       "1351    0.805962\n",
       "1377    0.806241\n",
       "1403    0.801277\n",
       "1429    0.802493\n",
       "1455    0.805723\n",
       "1481    0.806560\n",
       "1507    0.807636\n",
       "1533    0.809131\n",
       "1559    0.808015\n",
       "Name: validation_accuracy, dtype: float64"
      ]
     },
     "execution_count": 10,
     "metadata": {},
     "output_type": "execute_result"
    }
   ],
   "source": [
    "training_metrics.query(\"validation_accuracy.notna()\")[\"validation_accuracy\"]"
   ]
  }
 ],
 "metadata": {
  "kernelspec": {
   "display_name": "Python 3",
   "language": "python",
   "name": "python3"
  },
  "language_info": {
   "codemirror_mode": {
    "name": "ipython",
    "version": 3
   },
   "file_extension": ".py",
   "mimetype": "text/x-python",
   "name": "python",
   "nbconvert_exporter": "python",
   "pygments_lexer": "ipython3",
   "version": "3.11.5"
  }
 },
 "nbformat": 4,
 "nbformat_minor": 5
}
