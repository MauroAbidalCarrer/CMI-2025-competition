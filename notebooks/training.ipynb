{
 "cells": [
  {
   "cell_type": "markdown",
   "id": "53d41434",
   "metadata": {},
   "source": [
    "# Training model\n",
    "The goal of this notebook is to train a model and upload it to kaggle."
   ]
  },
  {
   "cell_type": "markdown",
   "id": "dc4c23f0",
   "metadata": {},
   "source": [
    "## Imports"
   ]
  },
  {
   "cell_type": "code",
   "execution_count": 35,
   "id": "66f429fe",
   "metadata": {},
   "outputs": [],
   "source": [
    "from os.path import join\n",
    "from itertools import pairwise\n",
    "from typing import Optional, Literal\n",
    "\n",
    "import torch\n",
    "import numpy as np\n",
    "import plotly.express as px\n",
    "from torch import nn, Tensor\n",
    "from kagglehub import dataset_download\n",
    "from torch.optim.lr_scheduler import ConstantLR\n",
    "from torch.utils.data import Dataset, DataLoader"
   ]
  },
  {
   "cell_type": "code",
   "execution_count": 36,
   "id": "b39c5f73",
   "metadata": {},
   "outputs": [
    {
     "data": {
      "text/plain": [
       "['preprocessed_dataset']"
      ]
     },
     "execution_count": 36,
     "metadata": {},
     "output_type": "execute_result"
    }
   ],
   "source": [
    "import os\n",
    "\n",
    "os.listdir(dataset_download(\n",
    "            handle=\"mauroabidalcarrer/prepocessed-cmi-2025\",\n",
    "        ))"
   ]
  },
  {
   "cell_type": "code",
   "execution_count": 37,
   "id": "208cc864",
   "metadata": {},
   "outputs": [],
   "source": [
    "BATCH_SIZE = 256"
   ]
  },
  {
   "cell_type": "code",
   "execution_count": 38,
   "id": "e46c3b4e",
   "metadata": {},
   "outputs": [],
   "source": [
    "# TODO: Switch to TensorDataset w/ cross validation splits\n",
    "class CMIDataset(Dataset):\n",
    "    def __init__(\n",
    "        self,\n",
    "        parent_dir: str,\n",
    "        split: Optional[Literal[\"train\", \"validation\"]]=None,\n",
    "        subset: Optional[int]=None,\n",
    "        force_download=False\n",
    "    ):\n",
    "        super().__init__()\n",
    "        dataset_path = dataset_download(\n",
    "            handle=\"mauroabidalcarrer/prepocessed-cmi-2025\",\n",
    "            force_download=force_download\n",
    "        )\n",
    "        parent_dir = join(dataset_path, \"preprocessed_dataset\", parent_dir)\n",
    "        split = \"\" if split is None else split + \"_\"\n",
    "        self.x = np.load(join(parent_dir, f\"{split}X.npy\"), mmap_mode=\"r\").swapaxes(1, 2)\n",
    "        self.y = np.load(join(parent_dir, f\"{split}Y.npy\"), mmap_mode=\"r\")\n",
    "        if subset is not None:\n",
    "            self.x = self.x[:subset]\n",
    "            self.y = self.y[:subset]\n",
    "\n",
    "    def __len__(self):\n",
    "        return len(self.x)\n",
    "\n",
    "    def __getitem__(self, idx):\n",
    "        return self.x[idx].copy(), self.y[idx].copy()\n",
    "\n",
    "train_dataset = CMIDataset(\"fold_0\", \"train\", force_download=False)\n",
    "train_data_loader = DataLoader(train_dataset, BATCH_SIZE, shuffle=True)\n",
    "\n",
    "validation_dataset = CMIDataset(\"fold_0\", \"validation\", force_download=False)\n",
    "validation_data_loader = DataLoader(train_dataset, BATCH_SIZE * 4, shuffle=False)"
   ]
  },
  {
   "cell_type": "code",
   "execution_count": 40,
   "id": "5ecc32a1",
   "metadata": {},
   "outputs": [],
   "source": [
    "class ResidualBlock(nn.Module):\n",
    "    def __init__(self, in_chns:int, out_chns:int):\n",
    "        super().__init__()\n",
    "        self.blocks = nn.Sequential(\n",
    "            nn.Conv1d(in_chns, out_chns, kernel_size=3, padding=1),\n",
    "            nn.BatchNorm1d(out_chns),\n",
    "            nn.ReLU(),\n",
    "            nn.Conv1d(out_chns, out_chns, kernel_size=3, padding=1),\n",
    "            nn.BatchNorm1d(out_chns),\n",
    "        )\n",
    "        if in_chns == out_chns:\n",
    "            self.skip_connection = nn.Identity() \n",
    "        else:\n",
    "            # TODO: set bias to False ?\n",
    "            self.skip_connection = nn.Sequential(\n",
    "                nn.Conv1d(in_chns, out_chns, 1),\n",
    "                nn.BatchNorm1d(out_chns)\n",
    "            )\n",
    "\n",
    "    def forward(self, x:Tensor) -> Tensor:\n",
    "        activaition_maps = self.skip_connection(x) + self.blocks(x)\n",
    "        return nn.functional.relu(activaition_maps)\n",
    "\n",
    "class Resnet(nn.Module):\n",
    "    def __init__(\n",
    "            self,\n",
    "            in_channels:int,\n",
    "            depth:int,\n",
    "            # n_res_block_per_depth:int,\n",
    "            mlp_width:int,\n",
    "            n_class:int,\n",
    "        ):\n",
    "        super().__init__()\n",
    "        chs_per_depth = [in_channels * 2 ** i for i in range(depth)]\n",
    "        blocks_chns_it = pairwise(chs_per_depth)\n",
    "        self.res_blocks = [ResidualBlock(in_chns, out_chns) for in_chns, out_chns in blocks_chns_it]\n",
    "        self.res_blocks = nn.ModuleList(self.res_blocks)\n",
    "        self.mlp_head = nn.Sequential(\n",
    "            nn.LazyLinear(mlp_width),\n",
    "            nn.ReLU(),\n",
    "            nn.Linear(mlp_width, n_class),\n",
    "            nn.Softmax(dim=1),\n",
    "        )\n",
    "        \n",
    "        \n",
    "    def forward(self, x:Tensor) -> Tensor:\n",
    "        activation_maps = x\n",
    "        for res_block in self.res_blocks:\n",
    "            activation_maps = nn.functional.max_pool1d(res_block(activation_maps), 2)\n",
    "        out = activation_maps.view(activation_maps.shape[0], -1)\n",
    "        out = self.mlp_head(out)\n",
    "        return out\n",
    "\n",
    "model = Resnet(\n",
    "    in_channels=17,\n",
    "    depth=4,\n",
    "    mlp_width=256,\n",
    "    n_class=18,\n",
    ")"
   ]
  },
  {
   "cell_type": "code",
   "execution_count": null,
   "id": "0769218c",
   "metadata": {},
   "outputs": [
    {
     "data": {
      "text/plain": [
       "0.390625"
      ]
     },
     "execution_count": 55,
     "metadata": {},
     "output_type": "execute_result"
    }
   ],
   "source": [
    "# x, y = next(iter(train_data_loader))\n",
    "# y_pred = model(x)\n",
    "\n",
    "# (\n",
    "#     (y.max(dim=1)[1] == y_pred.max(dim=1)[1])\n",
    "#     .sum()\n",
    "#     .item()\n",
    "# ) / BATCH_SIZE"
   ]
  },
  {
   "cell_type": "code",
   "execution_count": 57,
   "id": "06505f2e",
   "metadata": {},
   "outputs": [
    {
     "data": {
      "text/plain": [
       "256"
      ]
     },
     "execution_count": 57,
     "metadata": {},
     "output_type": "execute_result"
    }
   ],
   "source": [
    "y.shape[0]"
   ]
  },
  {
   "cell_type": "code",
   "execution_count": 86,
   "id": "7cc879eb",
   "metadata": {},
   "outputs": [],
   "source": [
    "import os\n",
    "from datetime import datetime\n",
    "\n",
    "import torch\n",
    "from torch import nn\n",
    "import plotly.express as px\n",
    "from rich.progress import Progress, Task, track\n",
    "from pandas import DataFrame as DF\n",
    "from torch.utils.data import DataLoader as DL\n",
    "from torch.optim.lr_scheduler import LRScheduler\n",
    "\n",
    "\n",
    "def fit(epochs:int,\n",
    "        model: nn.Module,\n",
    "        scheduler: LRScheduler,\n",
    "        optimizer: torch.optim.Optimizer,\n",
    "        train_loader: DL,\n",
    "        criterion: callable=nn.L1Loss(),\n",
    "        evaluation_func: callable=None,\n",
    "        validation_loader: DL=None,\n",
    "        save_checkpoints=True,\n",
    "    ) -> DF:\n",
    "    # Setup\n",
    "    metrics: list[dict] = []\n",
    "    checkpoints_dir = os.path.join(\"checkpoints\", mk_date_now_str())\n",
    "    step = 0\n",
    "    model_device = next(model.parameters()).device\n",
    "    # Training loop\n",
    "    with Progress() as progress:\n",
    "        task: Task = progress.add_task(\n",
    "            \"training...\",\n",
    "            # f\"epoch: {epoch + 1}, batch_loss: ...\",\n",
    "            total=len(train_loader),\n",
    "        )\n",
    "        for epoch in range(epochs):\n",
    "            progress.update(\n",
    "                task,\n",
    "                description=f\"epoch: {epoch}\",\n",
    "                completed=0,\n",
    "            )\n",
    "            total_epoch_loss = 0\n",
    "            total_accuracy = 0\n",
    "            for batch_idx, (x, y) in enumerate(train_loader):\n",
    "                # forward\n",
    "                x = x.to(model_device)\n",
    "                y = y.to(model_device)\n",
    "                model.train()\n",
    "                optimizer.zero_grad()\n",
    "                y_pred: Tensor = model(x)\n",
    "                loss_value = criterion(y_pred, y)\n",
    "                # Verify loss value\n",
    "                if torch.isnan(loss_value).any().item():\n",
    "                    progress.print(\"Warning: Got NaN loss, something went wrong.\")\n",
    "                    return DF.from_records(metrics) \n",
    "                if torch.isinf(loss_value).any().item():\n",
    "                    progress.print(\"Warning: Got infinite loss, something went wrong.\")\n",
    "                    return DF.from_records(metrics) \n",
    "                # TODO: Use gradient clipping?\n",
    "                loss_value.backward()\n",
    "                optimizer.step()\n",
    "                if step > 0: # If it's not the first training step\n",
    "                    # Call the scheduler step method, idk why it throws an error otherwise\n",
    "                    scheduler.step()\n",
    "                # metrics\n",
    "                total_epoch_loss += loss_value.item()\n",
    "                batch_accuracy = (\n",
    "                    (y.max(dim=1)[1] == y_pred.max(dim=1)[1])\n",
    "                    .sum()\n",
    "                    .item()\n",
    "                ) / y.shape[0]\n",
    "                total_accuracy += batch_accuracy\n",
    "                metrics.append({\n",
    "                    \"step\": step,\n",
    "                    \"epoch\": epoch,\n",
    "                    \"batch_train_loss\": loss_value.item(),\n",
    "                    \"lr\": optimizer.state_dict()[\"param_groups\"][-1][\"lr\"],\n",
    "                    \"batch_accuracy\": batch_accuracy,\n",
    "                })\n",
    "                step += 1\n",
    "                progress.update(\n",
    "                    task,\n",
    "                    advance=1,\n",
    "                    description=f\"epoch: {epoch}, batch_loss: {(total_epoch_loss / (batch_idx+1)):.2f}\"\n",
    "                )\n",
    "            # Post epoch evalution\n",
    "            metrics[-1][\"train_epoch_loss\"] = total_epoch_loss / len(train_loader)\n",
    "            metrics[-1][\"train_epoch_accuracy\"] = total_accuracy / len(train_data_loader)\n",
    "            if evaluation_func:\n",
    "                progress.update(\n",
    "                    task,\n",
    "                    completed=0,\n",
    "                    description=f\"epoch: {epoch}, evaluating...\"\n",
    "                )\n",
    "                eval_metrics = evaluation_func(model, criterion, validation_loader)\n",
    "                progress.print(\"validation loss:\", eval_metrics[\"validation_loss\"])\n",
    "                metrics[-1].update(eval_metrics)\n",
    "            # Save checkpoint\n",
    "            if save_checkpoints:\n",
    "                checkpoint = mk_checkpoint(epoch, model, scheduler, optimizer)\n",
    "                metrics_df = DF.from_records(metrics)\n",
    "                best_model_metric = \"validation_loss\" if \"validation_loss\" in metrics_df.columns else \"train_epoch_loss\"\n",
    "                is_best_checkpoint = (\n",
    "                    DF.from_records(metrics)\n",
    "                    .eval(f\"min_{best_model_metric} = {best_model_metric}.min()\")\n",
    "                    .eval(f\"is_best_{best_model_metric} = {best_model_metric} == min_{best_model_metric}\")\n",
    "                    .dropna(subset=f\"is_best_{best_model_metric}\")\n",
    "                    .iloc[-1]\n",
    "                    .loc[f\"is_best_{best_model_metric}\"]\n",
    "                )\n",
    "                save_checkpoint(checkpoint, checkpoints_dir, is_best_checkpoint)\n",
    "\n",
    "    return DF.from_records(metrics)\n",
    "\n",
    "def evaluate_model(\n",
    "        model: torch.nn.Module,\n",
    "        critirion:callable,\n",
    "        validation_loader:DL,\n",
    "    ) -> dict:\n",
    "    model = model.eval()\n",
    "    model_device = next(model.parameters()).device\n",
    "\n",
    "    total_accuracy = 0\n",
    "    total_test_loss = 0\n",
    "    for x, y in validation_loader:\n",
    "        x = x.to(model_device)\n",
    "        y = y.to(model_device)\n",
    "        y_pred = model(x)\n",
    "        total_test_loss += critirion(y_pred, y).item()\n",
    "        batch_accuracy = (\n",
    "            (y.max(dim=1)[1] == y_pred.max(dim=1)[1])\n",
    "            .sum()\n",
    "            .item()\n",
    "        ) / y.shape[0]\n",
    "        total_accuracy += batch_accuracy\n",
    "\n",
    "    return {\n",
    "        \"validation_loss\": total_test_loss / len(validation_loader),\n",
    "        \"validation_accuracy\": total_accuracy / len(validation_loader),\n",
    "    }\n",
    "\n",
    "def mk_checkpoint(\n",
    "        epoch:int,\n",
    "        model: torch.nn.Module,\n",
    "        scheduler: LRScheduler,\n",
    "        optimizer: torch.optim.Optimizer\n",
    "    ) -> dict:\n",
    "    return {\n",
    "        \"epoch\": epoch,\n",
    "        \"model\": model.state_dict(),\n",
    "        \"optimizer\": optimizer.state_dict(),\n",
    "        \"scheduler\": scheduler.state_dict(),\n",
    "    }\n",
    "\n",
    "def save_checkpoint(checkpoint:dict, parent_dir:str, is_best_checkpoint=False):\n",
    "    # Create model name\n",
    "    checkpoint_filename = mk_date_now_str() + \".pth\"\n",
    "    # Save model\n",
    "    os.makedirs(parent_dir, exist_ok=True)\n",
    "    checkpoint_path = os.path.join(parent_dir, checkpoint_filename)\n",
    "    torch.save(checkpoint, checkpoint_path)\n",
    "    mk_symlink(checkpoint_path, os.path.join(parent_dir, \"latest_checkpoint.pth\"))\n",
    "    if is_best_checkpoint:\n",
    "        mk_symlink(checkpoint_path, os.path.join(parent_dir, \"best_checkpoint.pth\"))\n",
    "\n",
    "def mk_date_now_str() -> str:\n",
    "    return datetime.now().strftime(\"%d-%m-%Y_%H-%M\")\n",
    "\n",
    "def mk_symlink(dest:str, symlink_path:str):\n",
    "    if os.path.islink(symlink_path) or os.path.exists(symlink_path):\n",
    "        os.remove(symlink_path)\n",
    "    os.symlink(dest, symlink_path)"
   ]
  },
  {
   "cell_type": "code",
   "execution_count": 87,
   "id": "fe1e327c",
   "metadata": {},
   "outputs": [
    {
     "data": {
      "application/vnd.jupyter.widget-view+json": {
       "model_id": "a4b519f1a9714f3f8372c84e0d91a278",
       "version_major": 2,
       "version_minor": 0
      },
      "text/plain": [
       "Output()"
      ]
     },
     "metadata": {},
     "output_type": "display_data"
    },
    {
     "data": {
      "text/html": [
       "<pre style=\"white-space:pre;overflow-x:auto;line-height:normal;font-family:Menlo,'DejaVu Sans Mono',consolas,'Courier New',monospace\">validation loss: <span style=\"color: #008080; text-decoration-color: #008080; font-weight: bold\">2.7407733372279575</span>\n",
       "</pre>\n"
      ],
      "text/plain": [
       "validation loss: \u001b[1;36m2.7407733372279575\u001b[0m\n"
      ]
     },
     "metadata": {},
     "output_type": "display_data"
    },
    {
     "data": {
      "text/html": [
       "<pre style=\"white-space:pre;overflow-x:auto;line-height:normal;font-family:Menlo,'DejaVu Sans Mono',consolas,'Courier New',monospace\">validation loss: <span style=\"color: #008080; text-decoration-color: #008080; font-weight: bold\">2.596947227205549</span>\n",
       "</pre>\n"
      ],
      "text/plain": [
       "validation loss: \u001b[1;36m2.596947227205549\u001b[0m\n"
      ]
     },
     "metadata": {},
     "output_type": "display_data"
    },
    {
     "data": {
      "text/html": [
       "<pre style=\"white-space:pre;overflow-x:auto;line-height:normal;font-family:Menlo,'DejaVu Sans Mono',consolas,'Courier New',monospace\">validation loss: <span style=\"color: #008080; text-decoration-color: #008080; font-weight: bold\">2.57002626146589</span>\n",
       "</pre>\n"
      ],
      "text/plain": [
       "validation loss: \u001b[1;36m2.57002626146589\u001b[0m\n"
      ]
     },
     "metadata": {},
     "output_type": "display_data"
    },
    {
     "data": {
      "text/html": [
       "<pre style=\"white-space:pre;overflow-x:auto;line-height:normal;font-family:Menlo,'DejaVu Sans Mono',consolas,'Courier New',monospace\">validation loss: <span style=\"color: #008080; text-decoration-color: #008080; font-weight: bold\">2.5241240092686246</span>\n",
       "</pre>\n"
      ],
      "text/plain": [
       "validation loss: \u001b[1;36m2.5241240092686246\u001b[0m\n"
      ]
     },
     "metadata": {},
     "output_type": "display_data"
    },
    {
     "data": {
      "text/html": [
       "<pre style=\"white-space:pre;overflow-x:auto;line-height:normal;font-family:Menlo,'DejaVu Sans Mono',consolas,'Courier New',monospace\">validation loss: <span style=\"color: #008080; text-decoration-color: #008080; font-weight: bold\">2.516265426363264</span>\n",
       "</pre>\n"
      ],
      "text/plain": [
       "validation loss: \u001b[1;36m2.516265426363264\u001b[0m\n"
      ]
     },
     "metadata": {},
     "output_type": "display_data"
    },
    {
     "data": {
      "text/html": [
       "<pre style=\"white-space:pre;overflow-x:auto;line-height:normal;font-family:Menlo,'DejaVu Sans Mono',consolas,'Courier New',monospace\">validation loss: <span style=\"color: #008080; text-decoration-color: #008080; font-weight: bold\">2.4869319030216763</span>\n",
       "</pre>\n"
      ],
      "text/plain": [
       "validation loss: \u001b[1;36m2.4869319030216763\u001b[0m\n"
      ]
     },
     "metadata": {},
     "output_type": "display_data"
    },
    {
     "data": {
      "text/html": [
       "<pre style=\"white-space:pre;overflow-x:auto;line-height:normal;font-family:Menlo,'DejaVu Sans Mono',consolas,'Courier New',monospace\">validation loss: <span style=\"color: #008080; text-decoration-color: #008080; font-weight: bold\">2.4669032778058733</span>\n",
       "</pre>\n"
      ],
      "text/plain": [
       "validation loss: \u001b[1;36m2.4669032778058733\u001b[0m\n"
      ]
     },
     "metadata": {},
     "output_type": "display_data"
    },
    {
     "data": {
      "text/html": [
       "<pre style=\"white-space:pre;overflow-x:auto;line-height:normal;font-family:Menlo,'DejaVu Sans Mono',consolas,'Courier New',monospace\">validation loss: <span style=\"color: #008080; text-decoration-color: #008080; font-weight: bold\">2.441894497190203</span>\n",
       "</pre>\n"
      ],
      "text/plain": [
       "validation loss: \u001b[1;36m2.441894497190203\u001b[0m\n"
      ]
     },
     "metadata": {},
     "output_type": "display_data"
    },
    {
     "data": {
      "text/html": [
       "<pre style=\"white-space:pre;overflow-x:auto;line-height:normal;font-family:Menlo,'DejaVu Sans Mono',consolas,'Courier New',monospace\">validation loss: <span style=\"color: #008080; text-decoration-color: #008080; font-weight: bold\">2.4571663992745534</span>\n",
       "</pre>\n"
      ],
      "text/plain": [
       "validation loss: \u001b[1;36m2.4571663992745534\u001b[0m\n"
      ]
     },
     "metadata": {},
     "output_type": "display_data"
    },
    {
     "data": {
      "text/html": [
       "<pre style=\"white-space:pre;overflow-x:auto;line-height:normal;font-family:Menlo,'DejaVu Sans Mono',consolas,'Courier New',monospace\">validation loss: <span style=\"color: #008080; text-decoration-color: #008080; font-weight: bold\">2.413111141749791</span>\n",
       "</pre>\n"
      ],
      "text/plain": [
       "validation loss: \u001b[1;36m2.413111141749791\u001b[0m\n"
      ]
     },
     "metadata": {},
     "output_type": "display_data"
    },
    {
     "data": {
      "text/html": [
       "<pre style=\"white-space:pre;overflow-x:auto;line-height:normal;font-family:Menlo,'DejaVu Sans Mono',consolas,'Courier New',monospace\">validation loss: <span style=\"color: #008080; text-decoration-color: #008080; font-weight: bold\">2.405571290424892</span>\n",
       "</pre>\n"
      ],
      "text/plain": [
       "validation loss: \u001b[1;36m2.405571290424892\u001b[0m\n"
      ]
     },
     "metadata": {},
     "output_type": "display_data"
    },
    {
     "data": {
      "text/html": [
       "<pre style=\"white-space:pre;overflow-x:auto;line-height:normal;font-family:Menlo,'DejaVu Sans Mono',consolas,'Courier New',monospace\">validation loss: <span style=\"color: #008080; text-decoration-color: #008080; font-weight: bold\">2.397955962589809</span>\n",
       "</pre>\n"
      ],
      "text/plain": [
       "validation loss: \u001b[1;36m2.397955962589809\u001b[0m\n"
      ]
     },
     "metadata": {},
     "output_type": "display_data"
    },
    {
     "data": {
      "text/html": [
       "<pre style=\"white-space:pre;overflow-x:auto;line-height:normal;font-family:Menlo,'DejaVu Sans Mono',consolas,'Courier New',monospace\">validation loss: <span style=\"color: #008080; text-decoration-color: #008080; font-weight: bold\">2.393768923623221</span>\n",
       "</pre>\n"
      ],
      "text/plain": [
       "validation loss: \u001b[1;36m2.393768923623221\u001b[0m\n"
      ]
     },
     "metadata": {},
     "output_type": "display_data"
    },
    {
     "data": {
      "text/html": [
       "<pre style=\"white-space:pre;overflow-x:auto;line-height:normal;font-family:Menlo,'DejaVu Sans Mono',consolas,'Courier New',monospace\">validation loss: <span style=\"color: #008080; text-decoration-color: #008080; font-weight: bold\">2.3600327287401472</span>\n",
       "</pre>\n"
      ],
      "text/plain": [
       "validation loss: \u001b[1;36m2.3600327287401472\u001b[0m\n"
      ]
     },
     "metadata": {},
     "output_type": "display_data"
    },
    {
     "data": {
      "text/html": [
       "<pre style=\"white-space:pre;overflow-x:auto;line-height:normal;font-family:Menlo,'DejaVu Sans Mono',consolas,'Courier New',monospace\">validation loss: <span style=\"color: #008080; text-decoration-color: #008080; font-weight: bold\">2.3559910569872176</span>\n",
       "</pre>\n"
      ],
      "text/plain": [
       "validation loss: \u001b[1;36m2.3559910569872176\u001b[0m\n"
      ]
     },
     "metadata": {},
     "output_type": "display_data"
    },
    {
     "data": {
      "text/html": [
       "<pre style=\"white-space:pre;overflow-x:auto;line-height:normal;font-family:Menlo,'DejaVu Sans Mono',consolas,'Courier New',monospace\">validation loss: <span style=\"color: #008080; text-decoration-color: #008080; font-weight: bold\">2.339557954243251</span>\n",
       "</pre>\n"
      ],
      "text/plain": [
       "validation loss: \u001b[1;36m2.339557954243251\u001b[0m\n"
      ]
     },
     "metadata": {},
     "output_type": "display_data"
    },
    {
     "data": {
      "text/html": [
       "<pre style=\"white-space:pre;overflow-x:auto;line-height:normal;font-family:Menlo,'DejaVu Sans Mono',consolas,'Courier New',monospace\">validation loss: <span style=\"color: #008080; text-decoration-color: #008080; font-weight: bold\">2.3207413809640065</span>\n",
       "</pre>\n"
      ],
      "text/plain": [
       "validation loss: \u001b[1;36m2.3207413809640065\u001b[0m\n"
      ]
     },
     "metadata": {},
     "output_type": "display_data"
    },
    {
     "data": {
      "text/html": [
       "<pre style=\"white-space:pre;overflow-x:auto;line-height:normal;font-family:Menlo,'DejaVu Sans Mono',consolas,'Courier New',monospace\">validation loss: <span style=\"color: #008080; text-decoration-color: #008080; font-weight: bold\">2.32950268472944</span>\n",
       "</pre>\n"
      ],
      "text/plain": [
       "validation loss: \u001b[1;36m2.32950268472944\u001b[0m\n"
      ]
     },
     "metadata": {},
     "output_type": "display_data"
    },
    {
     "data": {
      "text/html": [
       "<pre style=\"white-space:pre;overflow-x:auto;line-height:normal;font-family:Menlo,'DejaVu Sans Mono',consolas,'Courier New',monospace\">validation loss: <span style=\"color: #008080; text-decoration-color: #008080; font-weight: bold\">2.306776762008667</span>\n",
       "</pre>\n"
      ],
      "text/plain": [
       "validation loss: \u001b[1;36m2.306776762008667\u001b[0m\n"
      ]
     },
     "metadata": {},
     "output_type": "display_data"
    },
    {
     "data": {
      "text/html": [
       "<pre style=\"white-space:pre;overflow-x:auto;line-height:normal;font-family:Menlo,'DejaVu Sans Mono',consolas,'Courier New',monospace\">validation loss: <span style=\"color: #008080; text-decoration-color: #008080; font-weight: bold\">2.3009189537593295</span>\n",
       "</pre>\n"
      ],
      "text/plain": [
       "validation loss: \u001b[1;36m2.3009189537593295\u001b[0m\n"
      ]
     },
     "metadata": {},
     "output_type": "display_data"
    },
    {
     "data": {
      "text/html": [
       "<pre style=\"white-space:pre;overflow-x:auto;line-height:normal;font-family:Menlo,'DejaVu Sans Mono',consolas,'Courier New',monospace\">validation loss: <span style=\"color: #008080; text-decoration-color: #008080; font-weight: bold\">2.3036399568830217</span>\n",
       "</pre>\n"
      ],
      "text/plain": [
       "validation loss: \u001b[1;36m2.3036399568830217\u001b[0m\n"
      ]
     },
     "metadata": {},
     "output_type": "display_data"
    },
    {
     "data": {
      "text/html": [
       "<pre style=\"white-space:pre;overflow-x:auto;line-height:normal;font-family:Menlo,'DejaVu Sans Mono',consolas,'Courier New',monospace\">validation loss: <span style=\"color: #008080; text-decoration-color: #008080; font-weight: bold\">2.2961507865360806</span>\n",
       "</pre>\n"
      ],
      "text/plain": [
       "validation loss: \u001b[1;36m2.2961507865360806\u001b[0m\n"
      ]
     },
     "metadata": {},
     "output_type": "display_data"
    },
    {
     "data": {
      "text/html": [
       "<pre style=\"white-space:pre;overflow-x:auto;line-height:normal;font-family:Menlo,'DejaVu Sans Mono',consolas,'Courier New',monospace\">validation loss: <span style=\"color: #008080; text-decoration-color: #008080; font-weight: bold\">2.301912307739258</span>\n",
       "</pre>\n"
      ],
      "text/plain": [
       "validation loss: \u001b[1;36m2.301912307739258\u001b[0m\n"
      ]
     },
     "metadata": {},
     "output_type": "display_data"
    },
    {
     "data": {
      "text/html": [
       "<pre style=\"white-space:pre;overflow-x:auto;line-height:normal;font-family:Menlo,'DejaVu Sans Mono',consolas,'Courier New',monospace\">validation loss: <span style=\"color: #008080; text-decoration-color: #008080; font-weight: bold\">2.2768143585750034</span>\n",
       "</pre>\n"
      ],
      "text/plain": [
       "validation loss: \u001b[1;36m2.2768143585750034\u001b[0m\n"
      ]
     },
     "metadata": {},
     "output_type": "display_data"
    },
    {
     "data": {
      "text/html": [
       "<pre style=\"white-space:pre;overflow-x:auto;line-height:normal;font-family:Menlo,'DejaVu Sans Mono',consolas,'Courier New',monospace\">validation loss: <span style=\"color: #008080; text-decoration-color: #008080; font-weight: bold\">2.2805140699659074</span>\n",
       "</pre>\n"
      ],
      "text/plain": [
       "validation loss: \u001b[1;36m2.2805140699659074\u001b[0m\n"
      ]
     },
     "metadata": {},
     "output_type": "display_data"
    },
    {
     "data": {
      "text/html": [
       "<pre style=\"white-space:pre;overflow-x:auto;line-height:normal;font-family:Menlo,'DejaVu Sans Mono',consolas,'Courier New',monospace\">validation loss: <span style=\"color: #008080; text-decoration-color: #008080; font-weight: bold\">2.2695486886160716</span>\n",
       "</pre>\n"
      ],
      "text/plain": [
       "validation loss: \u001b[1;36m2.2695486886160716\u001b[0m\n"
      ]
     },
     "metadata": {},
     "output_type": "display_data"
    },
    {
     "data": {
      "text/html": [
       "<pre style=\"white-space:pre;overflow-x:auto;line-height:normal;font-family:Menlo,'DejaVu Sans Mono',consolas,'Courier New',monospace\">validation loss: <span style=\"color: #008080; text-decoration-color: #008080; font-weight: bold\">2.268125465938023</span>\n",
       "</pre>\n"
      ],
      "text/plain": [
       "validation loss: \u001b[1;36m2.268125465938023\u001b[0m\n"
      ]
     },
     "metadata": {},
     "output_type": "display_data"
    },
    {
     "data": {
      "text/html": [
       "<pre style=\"white-space:pre;overflow-x:auto;line-height:normal;font-family:Menlo,'DejaVu Sans Mono',consolas,'Courier New',monospace\">validation loss: <span style=\"color: #008080; text-decoration-color: #008080; font-weight: bold\">2.2540092127663747</span>\n",
       "</pre>\n"
      ],
      "text/plain": [
       "validation loss: \u001b[1;36m2.2540092127663747\u001b[0m\n"
      ]
     },
     "metadata": {},
     "output_type": "display_data"
    },
    {
     "data": {
      "text/html": [
       "<pre style=\"white-space:pre;overflow-x:auto;line-height:normal;font-family:Menlo,'DejaVu Sans Mono',consolas,'Courier New',monospace\">validation loss: <span style=\"color: #008080; text-decoration-color: #008080; font-weight: bold\">2.2505605901990617</span>\n",
       "</pre>\n"
      ],
      "text/plain": [
       "validation loss: \u001b[1;36m2.2505605901990617\u001b[0m\n"
      ]
     },
     "metadata": {},
     "output_type": "display_data"
    },
    {
     "data": {
      "text/html": [
       "<pre style=\"white-space:pre;overflow-x:auto;line-height:normal;font-family:Menlo,'DejaVu Sans Mono',consolas,'Courier New',monospace\">validation loss: <span style=\"color: #008080; text-decoration-color: #008080; font-weight: bold\">2.2476230348859514</span>\n",
       "</pre>\n"
      ],
      "text/plain": [
       "validation loss: \u001b[1;36m2.2476230348859514\u001b[0m\n"
      ]
     },
     "metadata": {},
     "output_type": "display_data"
    },
    {
     "data": {
      "text/html": [
       "<pre style=\"white-space:pre;overflow-x:auto;line-height:normal;font-family:Menlo,'DejaVu Sans Mono',consolas,'Courier New',monospace\">validation loss: <span style=\"color: #008080; text-decoration-color: #008080; font-weight: bold\">2.2515627316066196</span>\n",
       "</pre>\n"
      ],
      "text/plain": [
       "validation loss: \u001b[1;36m2.2515627316066196\u001b[0m\n"
      ]
     },
     "metadata": {},
     "output_type": "display_data"
    },
    {
     "data": {
      "text/html": [
       "<pre style=\"white-space:pre;overflow-x:auto;line-height:normal;font-family:Menlo,'DejaVu Sans Mono',consolas,'Courier New',monospace\">validation loss: <span style=\"color: #008080; text-decoration-color: #008080; font-weight: bold\">2.243558406829834</span>\n",
       "</pre>\n"
      ],
      "text/plain": [
       "validation loss: \u001b[1;36m2.243558406829834\u001b[0m\n"
      ]
     },
     "metadata": {},
     "output_type": "display_data"
    },
    {
     "data": {
      "text/html": [
       "<pre style=\"white-space:pre;overflow-x:auto;line-height:normal;font-family:Menlo,'DejaVu Sans Mono',consolas,'Courier New',monospace\">validation loss: <span style=\"color: #008080; text-decoration-color: #008080; font-weight: bold\">2.21914849962507</span>\n",
       "</pre>\n"
      ],
      "text/plain": [
       "validation loss: \u001b[1;36m2.21914849962507\u001b[0m\n"
      ]
     },
     "metadata": {},
     "output_type": "display_data"
    },
    {
     "data": {
      "text/html": [
       "<pre style=\"white-space:pre;overflow-x:auto;line-height:normal;font-family:Menlo,'DejaVu Sans Mono',consolas,'Courier New',monospace\">validation loss: <span style=\"color: #008080; text-decoration-color: #008080; font-weight: bold\">2.2196124621800015</span>\n",
       "</pre>\n"
      ],
      "text/plain": [
       "validation loss: \u001b[1;36m2.2196124621800015\u001b[0m\n"
      ]
     },
     "metadata": {},
     "output_type": "display_data"
    },
    {
     "data": {
      "text/html": [
       "<pre style=\"white-space:pre;overflow-x:auto;line-height:normal;font-family:Menlo,'DejaVu Sans Mono',consolas,'Courier New',monospace\">validation loss: <span style=\"color: #008080; text-decoration-color: #008080; font-weight: bold\">2.205437013081142</span>\n",
       "</pre>\n"
      ],
      "text/plain": [
       "validation loss: \u001b[1;36m2.205437013081142\u001b[0m\n"
      ]
     },
     "metadata": {},
     "output_type": "display_data"
    },
    {
     "data": {
      "text/html": [
       "<pre style=\"white-space:pre;overflow-x:auto;line-height:normal;font-family:Menlo,'DejaVu Sans Mono',consolas,'Courier New',monospace\">validation loss: <span style=\"color: #008080; text-decoration-color: #008080; font-weight: bold\">2.1957058225359236</span>\n",
       "</pre>\n"
      ],
      "text/plain": [
       "validation loss: \u001b[1;36m2.1957058225359236\u001b[0m\n"
      ]
     },
     "metadata": {},
     "output_type": "display_data"
    },
    {
     "data": {
      "text/html": [
       "<pre style=\"white-space:pre;overflow-x:auto;line-height:normal;font-family:Menlo,'DejaVu Sans Mono',consolas,'Courier New',monospace\">validation loss: <span style=\"color: #008080; text-decoration-color: #008080; font-weight: bold\">2.1931280067988803</span>\n",
       "</pre>\n"
      ],
      "text/plain": [
       "validation loss: \u001b[1;36m2.1931280067988803\u001b[0m\n"
      ]
     },
     "metadata": {},
     "output_type": "display_data"
    },
    {
     "data": {
      "text/html": [
       "<pre style=\"white-space:pre;overflow-x:auto;line-height:normal;font-family:Menlo,'DejaVu Sans Mono',consolas,'Courier New',monospace\">validation loss: <span style=\"color: #008080; text-decoration-color: #008080; font-weight: bold\">2.1870532035827637</span>\n",
       "</pre>\n"
      ],
      "text/plain": [
       "validation loss: \u001b[1;36m2.1870532035827637\u001b[0m\n"
      ]
     },
     "metadata": {},
     "output_type": "display_data"
    },
    {
     "data": {
      "text/html": [
       "<pre style=\"white-space:pre;overflow-x:auto;line-height:normal;font-family:Menlo,'DejaVu Sans Mono',consolas,'Courier New',monospace\">validation loss: <span style=\"color: #008080; text-decoration-color: #008080; font-weight: bold\">2.182466779436384</span>\n",
       "</pre>\n"
      ],
      "text/plain": [
       "validation loss: \u001b[1;36m2.182466779436384\u001b[0m\n"
      ]
     },
     "metadata": {},
     "output_type": "display_data"
    },
    {
     "data": {
      "text/html": [
       "<pre style=\"white-space:pre;overflow-x:auto;line-height:normal;font-family:Menlo,'DejaVu Sans Mono',consolas,'Courier New',monospace\">validation loss: <span style=\"color: #008080; text-decoration-color: #008080; font-weight: bold\">2.1785126754215787</span>\n",
       "</pre>\n"
      ],
      "text/plain": [
       "validation loss: \u001b[1;36m2.1785126754215787\u001b[0m\n"
      ]
     },
     "metadata": {},
     "output_type": "display_data"
    },
    {
     "data": {
      "text/html": [
       "<pre style=\"white-space:pre;overflow-x:auto;line-height:normal;font-family:Menlo,'DejaVu Sans Mono',consolas,'Courier New',monospace\">validation loss: <span style=\"color: #008080; text-decoration-color: #008080; font-weight: bold\">2.1744114671434676</span>\n",
       "</pre>\n"
      ],
      "text/plain": [
       "validation loss: \u001b[1;36m2.1744114671434676\u001b[0m\n"
      ]
     },
     "metadata": {},
     "output_type": "display_data"
    },
    {
     "data": {
      "text/html": [
       "<pre style=\"white-space:pre;overflow-x:auto;line-height:normal;font-family:Menlo,'DejaVu Sans Mono',consolas,'Courier New',monospace\">validation loss: <span style=\"color: #008080; text-decoration-color: #008080; font-weight: bold\">2.1715975488935197</span>\n",
       "</pre>\n"
      ],
      "text/plain": [
       "validation loss: \u001b[1;36m2.1715975488935197\u001b[0m\n"
      ]
     },
     "metadata": {},
     "output_type": "display_data"
    },
    {
     "data": {
      "text/html": [
       "<pre style=\"white-space:pre;overflow-x:auto;line-height:normal;font-family:Menlo,'DejaVu Sans Mono',consolas,'Courier New',monospace\">validation loss: <span style=\"color: #008080; text-decoration-color: #008080; font-weight: bold\">2.1752933093479703</span>\n",
       "</pre>\n"
      ],
      "text/plain": [
       "validation loss: \u001b[1;36m2.1752933093479703\u001b[0m\n"
      ]
     },
     "metadata": {},
     "output_type": "display_data"
    },
    {
     "data": {
      "text/html": [
       "<pre style=\"white-space:pre;overflow-x:auto;line-height:normal;font-family:Menlo,'DejaVu Sans Mono',consolas,'Courier New',monospace\">validation loss: <span style=\"color: #008080; text-decoration-color: #008080; font-weight: bold\">2.175880125590733</span>\n",
       "</pre>\n"
      ],
      "text/plain": [
       "validation loss: \u001b[1;36m2.175880125590733\u001b[0m\n"
      ]
     },
     "metadata": {},
     "output_type": "display_data"
    },
    {
     "data": {
      "text/html": [
       "<pre style=\"white-space:pre;overflow-x:auto;line-height:normal;font-family:Menlo,'DejaVu Sans Mono',consolas,'Courier New',monospace\">validation loss: <span style=\"color: #008080; text-decoration-color: #008080; font-weight: bold\">2.172002213341849</span>\n",
       "</pre>\n"
      ],
      "text/plain": [
       "validation loss: \u001b[1;36m2.172002213341849\u001b[0m\n"
      ]
     },
     "metadata": {},
     "output_type": "display_data"
    },
    {
     "data": {
      "text/html": [
       "<pre style=\"white-space:pre;overflow-x:auto;line-height:normal;font-family:Menlo,'DejaVu Sans Mono',consolas,'Courier New',monospace\">validation loss: <span style=\"color: #008080; text-decoration-color: #008080; font-weight: bold\">2.1694673470088413</span>\n",
       "</pre>\n"
      ],
      "text/plain": [
       "validation loss: \u001b[1;36m2.1694673470088413\u001b[0m\n"
      ]
     },
     "metadata": {},
     "output_type": "display_data"
    },
    {
     "data": {
      "text/html": [
       "<pre style=\"white-space:pre;overflow-x:auto;line-height:normal;font-family:Menlo,'DejaVu Sans Mono',consolas,'Courier New',monospace\">validation loss: <span style=\"color: #008080; text-decoration-color: #008080; font-weight: bold\">2.164555413382394</span>\n",
       "</pre>\n"
      ],
      "text/plain": [
       "validation loss: \u001b[1;36m2.164555413382394\u001b[0m\n"
      ]
     },
     "metadata": {},
     "output_type": "display_data"
    },
    {
     "data": {
      "text/html": [
       "<pre style=\"white-space:pre;overflow-x:auto;line-height:normal;font-family:Menlo,'DejaVu Sans Mono',consolas,'Courier New',monospace\">validation loss: <span style=\"color: #008080; text-decoration-color: #008080; font-weight: bold\">2.178189720426287</span>\n",
       "</pre>\n"
      ],
      "text/plain": [
       "validation loss: \u001b[1;36m2.178189720426287\u001b[0m\n"
      ]
     },
     "metadata": {},
     "output_type": "display_data"
    },
    {
     "data": {
      "text/html": [
       "<pre style=\"white-space:pre;overflow-x:auto;line-height:normal;font-family:Menlo,'DejaVu Sans Mono',consolas,'Courier New',monospace\">validation loss: <span style=\"color: #008080; text-decoration-color: #008080; font-weight: bold\">2.1681059088025774</span>\n",
       "</pre>\n"
      ],
      "text/plain": [
       "validation loss: \u001b[1;36m2.1681059088025774\u001b[0m\n"
      ]
     },
     "metadata": {},
     "output_type": "display_data"
    },
    {
     "data": {
      "text/html": [
       "<pre style=\"white-space:pre;overflow-x:auto;line-height:normal;font-family:Menlo,'DejaVu Sans Mono',consolas,'Courier New',monospace\">validation loss: <span style=\"color: #008080; text-decoration-color: #008080; font-weight: bold\">2.1693382944379533</span>\n",
       "</pre>\n"
      ],
      "text/plain": [
       "validation loss: \u001b[1;36m2.1693382944379533\u001b[0m\n"
      ]
     },
     "metadata": {},
     "output_type": "display_data"
    },
    {
     "data": {
      "text/html": [
       "<pre style=\"white-space:pre;overflow-x:auto;line-height:normal;font-family:Menlo,'DejaVu Sans Mono',consolas,'Courier New',monospace\">validation loss: <span style=\"color: #008080; text-decoration-color: #008080; font-weight: bold\">2.158807175500052</span>\n",
       "</pre>\n"
      ],
      "text/plain": [
       "validation loss: \u001b[1;36m2.158807175500052\u001b[0m\n"
      ]
     },
     "metadata": {},
     "output_type": "display_data"
    },
    {
     "data": {
      "text/html": [
       "<pre style=\"white-space:pre;overflow-x:auto;line-height:normal;font-family:Menlo,'DejaVu Sans Mono',consolas,'Courier New',monospace\">validation loss: <span style=\"color: #008080; text-decoration-color: #008080; font-weight: bold\">2.16321131161281</span>\n",
       "</pre>\n"
      ],
      "text/plain": [
       "validation loss: \u001b[1;36m2.16321131161281\u001b[0m\n"
      ]
     },
     "metadata": {},
     "output_type": "display_data"
    },
    {
     "data": {
      "text/html": [
       "<pre style=\"white-space:pre;overflow-x:auto;line-height:normal;font-family:Menlo,'DejaVu Sans Mono',consolas,'Courier New',monospace\">validation loss: <span style=\"color: #008080; text-decoration-color: #008080; font-weight: bold\">2.1636871610369</span>\n",
       "</pre>\n"
      ],
      "text/plain": [
       "validation loss: \u001b[1;36m2.1636871610369\u001b[0m\n"
      ]
     },
     "metadata": {},
     "output_type": "display_data"
    },
    {
     "data": {
      "text/html": [
       "<pre style=\"white-space:pre;overflow-x:auto;line-height:normal;font-family:Menlo,'DejaVu Sans Mono',consolas,'Courier New',monospace\">validation loss: <span style=\"color: #008080; text-decoration-color: #008080; font-weight: bold\">2.161569050380162</span>\n",
       "</pre>\n"
      ],
      "text/plain": [
       "validation loss: \u001b[1;36m2.161569050380162\u001b[0m\n"
      ]
     },
     "metadata": {},
     "output_type": "display_data"
    },
    {
     "data": {
      "text/html": [
       "<pre style=\"white-space:pre;overflow-x:auto;line-height:normal;font-family:Menlo,'DejaVu Sans Mono',consolas,'Courier New',monospace\">validation loss: <span style=\"color: #008080; text-decoration-color: #008080; font-weight: bold\">2.156634603227888</span>\n",
       "</pre>\n"
      ],
      "text/plain": [
       "validation loss: \u001b[1;36m2.156634603227888\u001b[0m\n"
      ]
     },
     "metadata": {},
     "output_type": "display_data"
    },
    {
     "data": {
      "text/html": [
       "<pre style=\"white-space:pre;overflow-x:auto;line-height:normal;font-family:Menlo,'DejaVu Sans Mono',consolas,'Courier New',monospace\">validation loss: <span style=\"color: #008080; text-decoration-color: #008080; font-weight: bold\">2.155914238521031</span>\n",
       "</pre>\n"
      ],
      "text/plain": [
       "validation loss: \u001b[1;36m2.155914238521031\u001b[0m\n"
      ]
     },
     "metadata": {},
     "output_type": "display_data"
    },
    {
     "data": {
      "text/html": [
       "<pre style=\"white-space:pre;overflow-x:auto;line-height:normal;font-family:Menlo,'DejaVu Sans Mono',consolas,'Courier New',monospace\">validation loss: <span style=\"color: #008080; text-decoration-color: #008080; font-weight: bold\">2.158379316329956</span>\n",
       "</pre>\n"
      ],
      "text/plain": [
       "validation loss: \u001b[1;36m2.158379316329956\u001b[0m\n"
      ]
     },
     "metadata": {},
     "output_type": "display_data"
    },
    {
     "data": {
      "text/html": [
       "<pre style=\"white-space:pre;overflow-x:auto;line-height:normal;font-family:Menlo,'DejaVu Sans Mono',consolas,'Courier New',monospace\">validation loss: <span style=\"color: #008080; text-decoration-color: #008080; font-weight: bold\">2.154609305518014</span>\n",
       "</pre>\n"
      ],
      "text/plain": [
       "validation loss: \u001b[1;36m2.154609305518014\u001b[0m\n"
      ]
     },
     "metadata": {},
     "output_type": "display_data"
    },
    {
     "data": {
      "text/html": [
       "<pre style=\"white-space:pre;overflow-x:auto;line-height:normal;font-family:Menlo,'DejaVu Sans Mono',consolas,'Courier New',monospace\">validation loss: <span style=\"color: #008080; text-decoration-color: #008080; font-weight: bold\">2.1527751173291887</span>\n",
       "</pre>\n"
      ],
      "text/plain": [
       "validation loss: \u001b[1;36m2.1527751173291887\u001b[0m\n"
      ]
     },
     "metadata": {},
     "output_type": "display_data"
    },
    {
     "data": {
      "text/html": [
       "<pre style=\"white-space:pre;overflow-x:auto;line-height:normal;font-family:Menlo,'DejaVu Sans Mono',consolas,'Courier New',monospace\">validation loss: <span style=\"color: #008080; text-decoration-color: #008080; font-weight: bold\">2.1516406195504323</span>\n",
       "</pre>\n"
      ],
      "text/plain": [
       "validation loss: \u001b[1;36m2.1516406195504323\u001b[0m\n"
      ]
     },
     "metadata": {},
     "output_type": "display_data"
    },
    {
     "data": {
      "text/html": [
       "<pre style=\"white-space:pre;overflow-x:auto;line-height:normal;font-family:Menlo,'DejaVu Sans Mono',consolas,'Courier New',monospace\"></pre>\n"
      ],
      "text/plain": []
     },
     "metadata": {},
     "output_type": "display_data"
    }
   ],
   "source": [
    "TRAINING_EPOCHS = 60\n",
    "STARTING_LR = 0.0005\n",
    "model = Resnet(in_channels=17, depth=4, mlp_width=256, n_class=18)\n",
    "optimizer = torch.optim.AdamW(model.parameters(), STARTING_LR)\n",
    "constant_lr_scheduler = ConstantLR(optimizer, factor=1, total_iters=len(train_data_loader) * TRAINING_EPOCHS)\n",
    "training_metrics = fit(\n",
    "    epochs=TRAINING_EPOCHS,\n",
    "    model=model,\n",
    "    scheduler=constant_lr_scheduler,\n",
    "    optimizer=optimizer,\n",
    "    train_loader=train_data_loader,\n",
    "    criterion=nn.CrossEntropyLoss(),\n",
    "    evaluation_func=evaluate_model,\n",
    "    validation_loader=validation_data_loader,\n",
    "    save_checkpoints=True,\n",
    ")"
   ]
  },
  {
   "cell_type": "code",
   "execution_count": 88,
   "id": "4619c4fe",
   "metadata": {},
   "outputs": [
    {
     "data": {
      "application/vnd.plotly.v1+json": {
       "config": {
        "plotlyServerURL": "https://plot.ly"
       },
       "data": [
        {
         "hovertemplate": "variable=batch_train_loss<br>step=%{x}<br>value=%{y}<extra></extra>",
         "legendgroup": "",
         "marker": {
          "color": "#636efa",
          "symbol": "circle"
         },
         "mode": "markers",
         "name": "",
         "showlegend": false,
         "type": "scattergl",
         "x": {
          "bdata": "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",
          "dtype": "i2"
         },
         "xaxis": "x2",
         "y": {
          "bdata": "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",
          "dtype": "f8"
         },
         "yaxis": "y2"
        },
        {
         "hovertemplate": "<b>Exponentially Weighted mean trendline</b><br><br>variable=batch_train_loss<br>step=%{x}<br>value=%{y} <b>(trend)</b><extra></extra>",
         "legendgroup": "",
         "line": {
          "color": "red"
         },
         "marker": {
          "color": "#636efa",
          "symbol": "circle"
         },
         "mode": "lines",
         "name": "",
         "showlegend": false,
         "type": "scattergl",
         "x": {
          "bdata": "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",
          "dtype": "i2"
         },
         "xaxis": "x2",
         "y": {
          "bdata": "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",
          "dtype": "f8"
         },
         "yaxis": "y2"
        },
        {
         "hovertemplate": "variable=batch_accuracy<br>step=%{x}<br>value=%{y}<extra></extra>",
         "legendgroup": "",
         "marker": {
          "color": "#636efa",
          "symbol": "circle"
         },
         "mode": "markers",
         "name": "",
         "showlegend": false,
         "type": "scattergl",
         "x": {
          "bdata": "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",
          "dtype": "i2"
         },
         "xaxis": "x",
         "y": {
          "bdata": "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",
          "dtype": "f8"
         },
         "yaxis": "y"
        },
        {
         "hovertemplate": "<b>Exponentially Weighted mean trendline</b><br><br>variable=batch_accuracy<br>step=%{x}<br>value=%{y} <b>(trend)</b><extra></extra>",
         "legendgroup": "",
         "line": {
          "color": "red"
         },
         "marker": {
          "color": "#636efa",
          "symbol": "circle"
         },
         "mode": "lines",
         "name": "",
         "showlegend": false,
         "type": "scattergl",
         "x": {
          "bdata": "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",
          "dtype": "i2"
         },
         "xaxis": "x",
         "y": {
          "bdata": "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",
          "dtype": "f8"
         },
         "yaxis": "y"
        }
       ],
       "layout": {
        "annotations": [
         {
          "font": {},
          "showarrow": false,
          "text": "variable=batch_accuracy",
          "textangle": 90,
          "x": 0.98,
          "xanchor": "left",
          "xref": "paper",
          "y": 0.2425,
          "yanchor": "middle",
          "yref": "paper"
         },
         {
          "font": {},
          "showarrow": false,
          "text": "variable=batch_train_loss",
          "textangle": 90,
          "x": 0.98,
          "xanchor": "left",
          "xref": "paper",
          "y": 0.7575000000000001,
          "yanchor": "middle",
          "yref": "paper"
         }
        ],
        "legend": {
         "tracegroupgap": 0
        },
        "template": {
         "data": {
          "bar": [
           {
            "error_x": {
             "color": "#2a3f5f"
            },
            "error_y": {
             "color": "#2a3f5f"
            },
            "marker": {
             "line": {
              "color": "#E5ECF6",
              "width": 0.5
             },
             "pattern": {
              "fillmode": "overlay",
              "size": 10,
              "solidity": 0.2
             }
            },
            "type": "bar"
           }
          ],
          "barpolar": [
           {
            "marker": {
             "line": {
              "color": "#E5ECF6",
              "width": 0.5
             },
             "pattern": {
              "fillmode": "overlay",
              "size": 10,
              "solidity": 0.2
             }
            },
            "type": "barpolar"
           }
          ],
          "carpet": [
           {
            "aaxis": {
             "endlinecolor": "#2a3f5f",
             "gridcolor": "white",
             "linecolor": "white",
             "minorgridcolor": "white",
             "startlinecolor": "#2a3f5f"
            },
            "baxis": {
             "endlinecolor": "#2a3f5f",
             "gridcolor": "white",
             "linecolor": "white",
             "minorgridcolor": "white",
             "startlinecolor": "#2a3f5f"
            },
            "type": "carpet"
           }
          ],
          "choropleth": [
           {
            "colorbar": {
             "outlinewidth": 0,
             "ticks": ""
            },
            "type": "choropleth"
           }
          ],
          "contour": [
           {
            "colorbar": {
             "outlinewidth": 0,
             "ticks": ""
            },
            "colorscale": [
             [
              0,
              "#0d0887"
             ],
             [
              0.1111111111111111,
              "#46039f"
             ],
             [
              0.2222222222222222,
              "#7201a8"
             ],
             [
              0.3333333333333333,
              "#9c179e"
             ],
             [
              0.4444444444444444,
              "#bd3786"
             ],
             [
              0.5555555555555556,
              "#d8576b"
             ],
             [
              0.6666666666666666,
              "#ed7953"
             ],
             [
              0.7777777777777778,
              "#fb9f3a"
             ],
             [
              0.8888888888888888,
              "#fdca26"
             ],
             [
              1,
              "#f0f921"
             ]
            ],
            "type": "contour"
           }
          ],
          "contourcarpet": [
           {
            "colorbar": {
             "outlinewidth": 0,
             "ticks": ""
            },
            "type": "contourcarpet"
           }
          ],
          "heatmap": [
           {
            "colorbar": {
             "outlinewidth": 0,
             "ticks": ""
            },
            "colorscale": [
             [
              0,
              "#0d0887"
             ],
             [
              0.1111111111111111,
              "#46039f"
             ],
             [
              0.2222222222222222,
              "#7201a8"
             ],
             [
              0.3333333333333333,
              "#9c179e"
             ],
             [
              0.4444444444444444,
              "#bd3786"
             ],
             [
              0.5555555555555556,
              "#d8576b"
             ],
             [
              0.6666666666666666,
              "#ed7953"
             ],
             [
              0.7777777777777778,
              "#fb9f3a"
             ],
             [
              0.8888888888888888,
              "#fdca26"
             ],
             [
              1,
              "#f0f921"
             ]
            ],
            "type": "heatmap"
           }
          ],
          "histogram": [
           {
            "marker": {
             "pattern": {
              "fillmode": "overlay",
              "size": 10,
              "solidity": 0.2
             }
            },
            "type": "histogram"
           }
          ],
          "histogram2d": [
           {
            "colorbar": {
             "outlinewidth": 0,
             "ticks": ""
            },
            "colorscale": [
             [
              0,
              "#0d0887"
             ],
             [
              0.1111111111111111,
              "#46039f"
             ],
             [
              0.2222222222222222,
              "#7201a8"
             ],
             [
              0.3333333333333333,
              "#9c179e"
             ],
             [
              0.4444444444444444,
              "#bd3786"
             ],
             [
              0.5555555555555556,
              "#d8576b"
             ],
             [
              0.6666666666666666,
              "#ed7953"
             ],
             [
              0.7777777777777778,
              "#fb9f3a"
             ],
             [
              0.8888888888888888,
              "#fdca26"
             ],
             [
              1,
              "#f0f921"
             ]
            ],
            "type": "histogram2d"
           }
          ],
          "histogram2dcontour": [
           {
            "colorbar": {
             "outlinewidth": 0,
             "ticks": ""
            },
            "colorscale": [
             [
              0,
              "#0d0887"
             ],
             [
              0.1111111111111111,
              "#46039f"
             ],
             [
              0.2222222222222222,
              "#7201a8"
             ],
             [
              0.3333333333333333,
              "#9c179e"
             ],
             [
              0.4444444444444444,
              "#bd3786"
             ],
             [
              0.5555555555555556,
              "#d8576b"
             ],
             [
              0.6666666666666666,
              "#ed7953"
             ],
             [
              0.7777777777777778,
              "#fb9f3a"
             ],
             [
              0.8888888888888888,
              "#fdca26"
             ],
             [
              1,
              "#f0f921"
             ]
            ],
            "type": "histogram2dcontour"
           }
          ],
          "mesh3d": [
           {
            "colorbar": {
             "outlinewidth": 0,
             "ticks": ""
            },
            "type": "mesh3d"
           }
          ],
          "parcoords": [
           {
            "line": {
             "colorbar": {
              "outlinewidth": 0,
              "ticks": ""
             }
            },
            "type": "parcoords"
           }
          ],
          "pie": [
           {
            "automargin": true,
            "type": "pie"
           }
          ],
          "scatter": [
           {
            "fillpattern": {
             "fillmode": "overlay",
             "size": 10,
             "solidity": 0.2
            },
            "type": "scatter"
           }
          ],
          "scatter3d": [
           {
            "line": {
             "colorbar": {
              "outlinewidth": 0,
              "ticks": ""
             }
            },
            "marker": {
             "colorbar": {
              "outlinewidth": 0,
              "ticks": ""
             }
            },
            "type": "scatter3d"
           }
          ],
          "scattercarpet": [
           {
            "marker": {
             "colorbar": {
              "outlinewidth": 0,
              "ticks": ""
             }
            },
            "type": "scattercarpet"
           }
          ],
          "scattergeo": [
           {
            "marker": {
             "colorbar": {
              "outlinewidth": 0,
              "ticks": ""
             }
            },
            "type": "scattergeo"
           }
          ],
          "scattergl": [
           {
            "marker": {
             "colorbar": {
              "outlinewidth": 0,
              "ticks": ""
             }
            },
            "type": "scattergl"
           }
          ],
          "scattermap": [
           {
            "marker": {
             "colorbar": {
              "outlinewidth": 0,
              "ticks": ""
             }
            },
            "type": "scattermap"
           }
          ],
          "scattermapbox": [
           {
            "marker": {
             "colorbar": {
              "outlinewidth": 0,
              "ticks": ""
             }
            },
            "type": "scattermapbox"
           }
          ],
          "scatterpolar": [
           {
            "marker": {
             "colorbar": {
              "outlinewidth": 0,
              "ticks": ""
             }
            },
            "type": "scatterpolar"
           }
          ],
          "scatterpolargl": [
           {
            "marker": {
             "colorbar": {
              "outlinewidth": 0,
              "ticks": ""
             }
            },
            "type": "scatterpolargl"
           }
          ],
          "scatterternary": [
           {
            "marker": {
             "colorbar": {
              "outlinewidth": 0,
              "ticks": ""
             }
            },
            "type": "scatterternary"
           }
          ],
          "surface": [
           {
            "colorbar": {
             "outlinewidth": 0,
             "ticks": ""
            },
            "colorscale": [
             [
              0,
              "#0d0887"
             ],
             [
              0.1111111111111111,
              "#46039f"
             ],
             [
              0.2222222222222222,
              "#7201a8"
             ],
             [
              0.3333333333333333,
              "#9c179e"
             ],
             [
              0.4444444444444444,
              "#bd3786"
             ],
             [
              0.5555555555555556,
              "#d8576b"
             ],
             [
              0.6666666666666666,
              "#ed7953"
             ],
             [
              0.7777777777777778,
              "#fb9f3a"
             ],
             [
              0.8888888888888888,
              "#fdca26"
             ],
             [
              1,
              "#f0f921"
             ]
            ],
            "type": "surface"
           }
          ],
          "table": [
           {
            "cells": {
             "fill": {
              "color": "#EBF0F8"
             },
             "line": {
              "color": "white"
             }
            },
            "header": {
             "fill": {
              "color": "#C8D4E3"
             },
             "line": {
              "color": "white"
             }
            },
            "type": "table"
           }
          ]
         },
         "layout": {
          "annotationdefaults": {
           "arrowcolor": "#2a3f5f",
           "arrowhead": 0,
           "arrowwidth": 1
          },
          "autotypenumbers": "strict",
          "coloraxis": {
           "colorbar": {
            "outlinewidth": 0,
            "ticks": ""
           }
          },
          "colorscale": {
           "diverging": [
            [
             0,
             "#8e0152"
            ],
            [
             0.1,
             "#c51b7d"
            ],
            [
             0.2,
             "#de77ae"
            ],
            [
             0.3,
             "#f1b6da"
            ],
            [
             0.4,
             "#fde0ef"
            ],
            [
             0.5,
             "#f7f7f7"
            ],
            [
             0.6,
             "#e6f5d0"
            ],
            [
             0.7,
             "#b8e186"
            ],
            [
             0.8,
             "#7fbc41"
            ],
            [
             0.9,
             "#4d9221"
            ],
            [
             1,
             "#276419"
            ]
           ],
           "sequential": [
            [
             0,
             "#0d0887"
            ],
            [
             0.1111111111111111,
             "#46039f"
            ],
            [
             0.2222222222222222,
             "#7201a8"
            ],
            [
             0.3333333333333333,
             "#9c179e"
            ],
            [
             0.4444444444444444,
             "#bd3786"
            ],
            [
             0.5555555555555556,
             "#d8576b"
            ],
            [
             0.6666666666666666,
             "#ed7953"
            ],
            [
             0.7777777777777778,
             "#fb9f3a"
            ],
            [
             0.8888888888888888,
             "#fdca26"
            ],
            [
             1,
             "#f0f921"
            ]
           ],
           "sequentialminus": [
            [
             0,
             "#0d0887"
            ],
            [
             0.1111111111111111,
             "#46039f"
            ],
            [
             0.2222222222222222,
             "#7201a8"
            ],
            [
             0.3333333333333333,
             "#9c179e"
            ],
            [
             0.4444444444444444,
             "#bd3786"
            ],
            [
             0.5555555555555556,
             "#d8576b"
            ],
            [
             0.6666666666666666,
             "#ed7953"
            ],
            [
             0.7777777777777778,
             "#fb9f3a"
            ],
            [
             0.8888888888888888,
             "#fdca26"
            ],
            [
             1,
             "#f0f921"
            ]
           ]
          },
          "colorway": [
           "#636efa",
           "#EF553B",
           "#00cc96",
           "#ab63fa",
           "#FFA15A",
           "#19d3f3",
           "#FF6692",
           "#B6E880",
           "#FF97FF",
           "#FECB52"
          ],
          "font": {
           "color": "#2a3f5f"
          },
          "geo": {
           "bgcolor": "white",
           "lakecolor": "white",
           "landcolor": "#E5ECF6",
           "showlakes": true,
           "showland": true,
           "subunitcolor": "white"
          },
          "hoverlabel": {
           "align": "left"
          },
          "hovermode": "closest",
          "mapbox": {
           "style": "light"
          },
          "paper_bgcolor": "white",
          "plot_bgcolor": "#E5ECF6",
          "polar": {
           "angularaxis": {
            "gridcolor": "white",
            "linecolor": "white",
            "ticks": ""
           },
           "bgcolor": "#E5ECF6",
           "radialaxis": {
            "gridcolor": "white",
            "linecolor": "white",
            "ticks": ""
           }
          },
          "scene": {
           "xaxis": {
            "backgroundcolor": "#E5ECF6",
            "gridcolor": "white",
            "gridwidth": 2,
            "linecolor": "white",
            "showbackground": true,
            "ticks": "",
            "zerolinecolor": "white"
           },
           "yaxis": {
            "backgroundcolor": "#E5ECF6",
            "gridcolor": "white",
            "gridwidth": 2,
            "linecolor": "white",
            "showbackground": true,
            "ticks": "",
            "zerolinecolor": "white"
           },
           "zaxis": {
            "backgroundcolor": "#E5ECF6",
            "gridcolor": "white",
            "gridwidth": 2,
            "linecolor": "white",
            "showbackground": true,
            "ticks": "",
            "zerolinecolor": "white"
           }
          },
          "shapedefaults": {
           "line": {
            "color": "#2a3f5f"
           }
          },
          "ternary": {
           "aaxis": {
            "gridcolor": "white",
            "linecolor": "white",
            "ticks": ""
           },
           "baxis": {
            "gridcolor": "white",
            "linecolor": "white",
            "ticks": ""
           },
           "bgcolor": "#E5ECF6",
           "caxis": {
            "gridcolor": "white",
            "linecolor": "white",
            "ticks": ""
           }
          },
          "title": {
           "x": 0.05
          },
          "xaxis": {
           "automargin": true,
           "gridcolor": "white",
           "linecolor": "white",
           "ticks": "",
           "title": {
            "standoff": 15
           },
           "zerolinecolor": "white",
           "zerolinewidth": 2
          },
          "yaxis": {
           "automargin": true,
           "gridcolor": "white",
           "linecolor": "white",
           "ticks": "",
           "title": {
            "standoff": 15
           },
           "zerolinecolor": "white",
           "zerolinewidth": 2
          }
         }
        },
        "title": {
         "text": "batch metrics"
        },
        "xaxis": {
         "anchor": "y",
         "domain": [
          0,
          0.98
         ],
         "title": {
          "text": "step"
         }
        },
        "xaxis2": {
         "anchor": "y2",
         "domain": [
          0,
          0.98
         ],
         "matches": "x",
         "showticklabels": false
        },
        "yaxis": {
         "anchor": "x",
         "domain": [
          0,
          0.485
         ],
         "title": {
          "text": "value"
         }
        },
        "yaxis2": {
         "anchor": "x2",
         "domain": [
          0.515,
          1
         ],
         "title": {
          "text": "value"
         }
        }
       }
      }
     },
     "metadata": {},
     "output_type": "display_data"
    },
    {
     "data": {
      "application/vnd.plotly.v1+json": {
       "config": {
        "plotlyServerURL": "https://plot.ly"
       },
       "data": [
        {
         "hovertemplate": "variable=train_epoch_loss<br>step=%{x}<br>value=%{y}<extra></extra>",
         "legendgroup": "train_epoch_loss",
         "line": {
          "color": "#636efa",
          "dash": "solid"
         },
         "marker": {
          "symbol": "circle"
         },
         "mode": "lines",
         "name": "train_epoch_loss",
         "orientation": "v",
         "showlegend": true,
         "type": "scatter",
         "x": {
          "bdata": "GQAzAE0AZwCBAJsAtQDPAOkAAwEdATcBUQFrAYUBnwG5AdMB7QEHAiECOwJVAm8CiQKjAr0C1wLxAgsDJQM/A1kDcwONA6cDwQPbA/UDDwQpBEMEXQR3BJEEqwTFBN8E+QQTBS0FRwVhBXsFlQWvBckF4wX9BRcG",
          "dtype": "i2"
         },
         "xaxis": "x4",
         "y": {
          "bdata": "sRM74Vw/BkDFTuxk9SoFQBQ7sfNZtQRAsRM7YSxxBEA7sRM7YjMEQLETOxFBIgRAFDuxE87iA0B2YidWhb8DQJ7YiR3RsQNAip3YWUqMA0AUO7EzdWgDQMVO7HRuUQNAntiJbbA6A0BiJ3biVBsDQOzETpz3+AJAJ3ZiV8/bAkAndmLnz74CQHZiJ1b9sAJAAAAAYM+fAkA7sRObbI4CQMVO7PRThgJAdmInZklrAkBP7MTOx2kCQNmJnWgLXQJA7MROvFRWAkBP7MSuc0wCQCd2YtemNgJAxU7stLYkAkAAAADQeBcCQOzETowODQJAO7ETC50QAkAndmKHyP8BQOzETuzT7QFAdmInZlDSAUBiJ3biWbYBQGIndqLFpwFAFDuxE+2aAUDZiZ0ot4oBQE/sxG7/hgFAip3Yqb9+AUB2YicWxm8BQE/sxA5tbAFAYid2MvpqAUCKndhJymsBQIqd2OlEZwFAsRM7EflkAUAndmLXr1wBQCd2YgcRYAFAsRM7sXVdAUAndmKHdlUBQGIndoJhXgFAsRM7Ub5YAUBP7MReNFUBQGIndiItUgFAO7ETWwxRAUCe2IkNREYBQHZiJ0YPRwFAYid2EjZDAUCe2Il9STsBQDuxE+t1OgFA",
          "dtype": "f8"
         },
         "yaxis": "y4"
        },
        {
         "hovertemplate": "variable=train_epoch_accuracy<br>step=%{x}<br>value=%{y}<extra></extra>",
         "legendgroup": "train_epoch_accuracy",
         "line": {
          "color": "#EF553B",
          "dash": "solid"
         },
         "marker": {
          "symbol": "circle"
         },
         "mode": "lines",
         "name": "train_epoch_accuracy",
         "orientation": "v",
         "showlegend": true,
         "type": "scatter",
         "x": {
          "bdata": "GQAzAE0AZwCBAJsAtQDPAOkAAwEdATcBUQFrAYUBnwG5AdMB7QEHAiECOwJVAm8CiQKjAr0C1wLxAgsDJQM/A1kDcwONA6cDwQPbA/UDDwQpBEMEXQR3BJEEqwTFBN8E+QQTBS0FRwVhBXsFlQWvBckF4wX9BRcG",
          "dtype": "i2"
         },
         "xaxis": "x3",
         "y": {
          "bdata": "3vDYL1I7yT9eGoYou5rVP6p1aRiibNk/1CJigcGf2z9ietBT+XTdP5CV9T9rCd4/+cJqsHQH4D/RTAiJ/qTgPxG/ojjUyOA/dXAJznZu4T/Xl38wngTiP0dV5OEEauI/Yoiyqw2s4j8HPZVPi0jjP0wWa1Yp2uM/eoTqM2095D/fNVHJD7PkP8DuoZkQ8uQ/RR5OoFsp5T9vHqH6THvlPyVNrj3hiOU/1Hytnh0C5j+ss/CF1QDmP8QCg/8GMeY/9jGJUW9E5j+JUW/EVW3mP4AivMzey+Y/zoSQ6E8B5z9kZf3PWjrnP+WAyHCvYuc/YKR2WzZK5z93oK7jlavnP/X68g/G4+c/RXGokS1Y6D/nCrmjKsLoP3rXRCU//Og/V3XDY78o6T/1TU0BmHLpP+zLPxhPcuk/OS4UNMCX6T/A57Bths7pP3ZpGKLs2uk/LsjK+p/l6T/fiKu64dHpP8bfzSNU7+k/F1aDpbvz6T9kuFfBLBnqP+ddE5X8EOo/1CJigcEP6j8Mnd96yTLqPys+2sckBuo/XsA6C18o6j8g2JCOBDTqP6HzWy9ZPOo/r+OVm/Q96j8g2JCOBGTqP5Wwx9HrW+o/JUa9EVdl6j8cFwoa4IPqP5Y6uARni+o/",
          "dtype": "f8"
         },
         "yaxis": "y3"
        },
        {
         "hovertemplate": "variable=validation_loss<br>step=%{x}<br>value=%{y}<extra></extra>",
         "legendgroup": "validation_loss",
         "line": {
          "color": "#00cc96",
          "dash": "solid"
         },
         "marker": {
          "symbol": "circle"
         },
         "mode": "lines",
         "name": "validation_loss",
         "orientation": "v",
         "showlegend": true,
         "type": "scatter",
         "x": {
          "bdata": "GQAzAE0AZwCBAJsAtQDPAOkAAwEdATcBUQFrAYUBnwG5AdMB7QEHAiECOwJVAm8CiQKjAr0C1wLxAgsDJQM/A1kDcwONA6cDwQPbA/UDDwQpBEMEXQR3BJEEqwTFBN8E+QQTBS0FRwVhBXsFlQWvBckF4wX9BRcG",
          "dtype": "i2"
         },
         "xaxis": "x2",
         "y": {
          "bdata": "kiRJkhrtBUAlSZJEjMYEQG7btu1pjwRAbtu27WcxBEAlSZLETyEEQG7bto085QNASZIkyTe8A0Dbtm37/4gDQNu2bdtGqANAt23bNg1OA0BJkiQpnD4DQEmSJIkDLwNAkiRJUnAmA0C3bdvWWOECQLdt29YR2QJASZIkKWq3AkDbtm3b4JACQG7btk3SogJAAAAAYEd0AkCSJEkySGgCQEmSJMnabQJAbtu2TYReAkAAAAAAUWoCQJIkSXLqNgJASZIkKX4+AkAlSZIkCSgCQLdt2/YeJQJA27Zt+zUIAkBJkiTpJQECQEmSJMkh+wFAkiRJUjMDAkAAAADAzvIBQG7btu3QwAFAbtu2LcTBAUBJkiQpvKQBQLdt2zbOkAFAkiRJsoaLAUAAAADAFX8BQCVJkiSxdQFAbtu2DZhtAUC3bdvWMWUBQEmSJIluXwFAbtu2LQBnAUC3bdvWM2gBQJIkSbJCYAFAkiRJshFbAUBu27ZtAlEBQNu2bbvubAFASZIk6UdYAUBJkiQJzloBQJIkSbI8RQFA27Ztu0FOAUC3bds2O08BQLdt27bkSgFAJUmSpMlAAUC3bdv2Tz8BQAAAAGBcRAFAbtu2zaM8AUBJkiQp4jgBQNu2bVuPNgFA",
          "dtype": "f8"
         },
         "yaxis": "y2"
        },
        {
         "hovertemplate": "variable=validation_accuracy<br>step=%{x}<br>value=%{y}<extra></extra>",
         "legendgroup": "validation_accuracy",
         "line": {
          "color": "#ab63fa",
          "dash": "solid"
         },
         "marker": {
          "symbol": "circle"
         },
         "mode": "lines",
         "name": "validation_accuracy",
         "orientation": "v",
         "showlegend": true,
         "type": "scatter",
         "x": {
          "bdata": "GQAzAE0AZwCBAJsAtQDPAOkAAwEdATcBUQFrAYUBnwG5AdMB7QEHAiECOwJVAm8CiQKjAr0C1wLxAgsDJQM/A1kDcwONA6cDwQPbA/UDDwQpBEMEXQR3BJEEqwTFBN8E+QQTBS0FRwVhBXsFlQWvBckF4wX9BRcG",
          "dtype": "i2"
         },
         "xaxis": "x",
         "y": {
          "bdata": "Q9rqBU3azz+fU77KSjPZP3oKLKYBsdo/vjVKDVnW3T9VijLZbyHeP8huVuua7d8/ZDerdc2u4D+oEZZ7GpHhP85qXbMJ7OA/vspK84x94j9WHzO/o7jiP5bZs56k2eI/cqBWjQEQ4z9r2Oc2FjXkP/+Ey9KNPuQ/9ZzyVVbq5D/QU2AxDXDlP1/QpJOSJ+U/hrEG1dTi5T8zRz4isQLmPxOmsC0H8uU/yyPB9xoW5j83Z6hI/fvlP8Zrh7TVs+Y/oSL1j4yZ5j9WcGYgruPmP78bflSXCOc/K2+auB9n5z/hVNtlOoLnP5g6HBNVnec/TiBdwG+I5z+7+xMuS9/nP45SQ5Ydmeg//sXJIPKI6D+JIqRcKw/pP4eK1D8yTuk/z5Ref3Fq6T/z3fCjupzpPxcXTrVdtuk/FxdOtV3O6T/OhClsy+npP/A17HMb++k/OVCrxgDw6T/N/I5ieOHpPzlQq8YAAOo/XYkI2KMR6j8S5657azTqP/A17HMb4+k/gEoA85kj6j+CWjUGQBzqPzWYcYO7Xeo/NqimlmFG6j81IAyNDj7qPzMQ13loVeo/6n2yMNZw6j8Px0RVH3PqP1fRzpReZ+o/oGPz3fB76j8zENd5aIXqP+n1FyeDkOo/",
          "dtype": "f8"
         },
         "yaxis": "y"
        }
       ],
       "layout": {
        "annotations": [
         {
          "font": {},
          "showarrow": false,
          "text": "variable=validation_accuracy",
          "textangle": 90,
          "x": 0.98,
          "xanchor": "left",
          "xref": "paper",
          "y": 0.11375,
          "yanchor": "middle",
          "yref": "paper"
         },
         {
          "font": {},
          "showarrow": false,
          "text": "variable=validation_loss",
          "textangle": 90,
          "x": 0.98,
          "xanchor": "left",
          "xref": "paper",
          "y": 0.37124999999999997,
          "yanchor": "middle",
          "yref": "paper"
         },
         {
          "font": {},
          "showarrow": false,
          "text": "variable=train_epoch_accuracy",
          "textangle": 90,
          "x": 0.98,
          "xanchor": "left",
          "xref": "paper",
          "y": 0.62875,
          "yanchor": "middle",
          "yref": "paper"
         },
         {
          "font": {},
          "showarrow": false,
          "text": "variable=train_epoch_loss",
          "textangle": 90,
          "x": 0.98,
          "xanchor": "left",
          "xref": "paper",
          "y": 0.88625,
          "yanchor": "middle",
          "yref": "paper"
         }
        ],
        "legend": {
         "title": {
          "text": "variable"
         },
         "tracegroupgap": 0
        },
        "template": {
         "data": {
          "bar": [
           {
            "error_x": {
             "color": "#2a3f5f"
            },
            "error_y": {
             "color": "#2a3f5f"
            },
            "marker": {
             "line": {
              "color": "#E5ECF6",
              "width": 0.5
             },
             "pattern": {
              "fillmode": "overlay",
              "size": 10,
              "solidity": 0.2
             }
            },
            "type": "bar"
           }
          ],
          "barpolar": [
           {
            "marker": {
             "line": {
              "color": "#E5ECF6",
              "width": 0.5
             },
             "pattern": {
              "fillmode": "overlay",
              "size": 10,
              "solidity": 0.2
             }
            },
            "type": "barpolar"
           }
          ],
          "carpet": [
           {
            "aaxis": {
             "endlinecolor": "#2a3f5f",
             "gridcolor": "white",
             "linecolor": "white",
             "minorgridcolor": "white",
             "startlinecolor": "#2a3f5f"
            },
            "baxis": {
             "endlinecolor": "#2a3f5f",
             "gridcolor": "white",
             "linecolor": "white",
             "minorgridcolor": "white",
             "startlinecolor": "#2a3f5f"
            },
            "type": "carpet"
           }
          ],
          "choropleth": [
           {
            "colorbar": {
             "outlinewidth": 0,
             "ticks": ""
            },
            "type": "choropleth"
           }
          ],
          "contour": [
           {
            "colorbar": {
             "outlinewidth": 0,
             "ticks": ""
            },
            "colorscale": [
             [
              0,
              "#0d0887"
             ],
             [
              0.1111111111111111,
              "#46039f"
             ],
             [
              0.2222222222222222,
              "#7201a8"
             ],
             [
              0.3333333333333333,
              "#9c179e"
             ],
             [
              0.4444444444444444,
              "#bd3786"
             ],
             [
              0.5555555555555556,
              "#d8576b"
             ],
             [
              0.6666666666666666,
              "#ed7953"
             ],
             [
              0.7777777777777778,
              "#fb9f3a"
             ],
             [
              0.8888888888888888,
              "#fdca26"
             ],
             [
              1,
              "#f0f921"
             ]
            ],
            "type": "contour"
           }
          ],
          "contourcarpet": [
           {
            "colorbar": {
             "outlinewidth": 0,
             "ticks": ""
            },
            "type": "contourcarpet"
           }
          ],
          "heatmap": [
           {
            "colorbar": {
             "outlinewidth": 0,
             "ticks": ""
            },
            "colorscale": [
             [
              0,
              "#0d0887"
             ],
             [
              0.1111111111111111,
              "#46039f"
             ],
             [
              0.2222222222222222,
              "#7201a8"
             ],
             [
              0.3333333333333333,
              "#9c179e"
             ],
             [
              0.4444444444444444,
              "#bd3786"
             ],
             [
              0.5555555555555556,
              "#d8576b"
             ],
             [
              0.6666666666666666,
              "#ed7953"
             ],
             [
              0.7777777777777778,
              "#fb9f3a"
             ],
             [
              0.8888888888888888,
              "#fdca26"
             ],
             [
              1,
              "#f0f921"
             ]
            ],
            "type": "heatmap"
           }
          ],
          "histogram": [
           {
            "marker": {
             "pattern": {
              "fillmode": "overlay",
              "size": 10,
              "solidity": 0.2
             }
            },
            "type": "histogram"
           }
          ],
          "histogram2d": [
           {
            "colorbar": {
             "outlinewidth": 0,
             "ticks": ""
            },
            "colorscale": [
             [
              0,
              "#0d0887"
             ],
             [
              0.1111111111111111,
              "#46039f"
             ],
             [
              0.2222222222222222,
              "#7201a8"
             ],
             [
              0.3333333333333333,
              "#9c179e"
             ],
             [
              0.4444444444444444,
              "#bd3786"
             ],
             [
              0.5555555555555556,
              "#d8576b"
             ],
             [
              0.6666666666666666,
              "#ed7953"
             ],
             [
              0.7777777777777778,
              "#fb9f3a"
             ],
             [
              0.8888888888888888,
              "#fdca26"
             ],
             [
              1,
              "#f0f921"
             ]
            ],
            "type": "histogram2d"
           }
          ],
          "histogram2dcontour": [
           {
            "colorbar": {
             "outlinewidth": 0,
             "ticks": ""
            },
            "colorscale": [
             [
              0,
              "#0d0887"
             ],
             [
              0.1111111111111111,
              "#46039f"
             ],
             [
              0.2222222222222222,
              "#7201a8"
             ],
             [
              0.3333333333333333,
              "#9c179e"
             ],
             [
              0.4444444444444444,
              "#bd3786"
             ],
             [
              0.5555555555555556,
              "#d8576b"
             ],
             [
              0.6666666666666666,
              "#ed7953"
             ],
             [
              0.7777777777777778,
              "#fb9f3a"
             ],
             [
              0.8888888888888888,
              "#fdca26"
             ],
             [
              1,
              "#f0f921"
             ]
            ],
            "type": "histogram2dcontour"
           }
          ],
          "mesh3d": [
           {
            "colorbar": {
             "outlinewidth": 0,
             "ticks": ""
            },
            "type": "mesh3d"
           }
          ],
          "parcoords": [
           {
            "line": {
             "colorbar": {
              "outlinewidth": 0,
              "ticks": ""
             }
            },
            "type": "parcoords"
           }
          ],
          "pie": [
           {
            "automargin": true,
            "type": "pie"
           }
          ],
          "scatter": [
           {
            "fillpattern": {
             "fillmode": "overlay",
             "size": 10,
             "solidity": 0.2
            },
            "type": "scatter"
           }
          ],
          "scatter3d": [
           {
            "line": {
             "colorbar": {
              "outlinewidth": 0,
              "ticks": ""
             }
            },
            "marker": {
             "colorbar": {
              "outlinewidth": 0,
              "ticks": ""
             }
            },
            "type": "scatter3d"
           }
          ],
          "scattercarpet": [
           {
            "marker": {
             "colorbar": {
              "outlinewidth": 0,
              "ticks": ""
             }
            },
            "type": "scattercarpet"
           }
          ],
          "scattergeo": [
           {
            "marker": {
             "colorbar": {
              "outlinewidth": 0,
              "ticks": ""
             }
            },
            "type": "scattergeo"
           }
          ],
          "scattergl": [
           {
            "marker": {
             "colorbar": {
              "outlinewidth": 0,
              "ticks": ""
             }
            },
            "type": "scattergl"
           }
          ],
          "scattermap": [
           {
            "marker": {
             "colorbar": {
              "outlinewidth": 0,
              "ticks": ""
             }
            },
            "type": "scattermap"
           }
          ],
          "scattermapbox": [
           {
            "marker": {
             "colorbar": {
              "outlinewidth": 0,
              "ticks": ""
             }
            },
            "type": "scattermapbox"
           }
          ],
          "scatterpolar": [
           {
            "marker": {
             "colorbar": {
              "outlinewidth": 0,
              "ticks": ""
             }
            },
            "type": "scatterpolar"
           }
          ],
          "scatterpolargl": [
           {
            "marker": {
             "colorbar": {
              "outlinewidth": 0,
              "ticks": ""
             }
            },
            "type": "scatterpolargl"
           }
          ],
          "scatterternary": [
           {
            "marker": {
             "colorbar": {
              "outlinewidth": 0,
              "ticks": ""
             }
            },
            "type": "scatterternary"
           }
          ],
          "surface": [
           {
            "colorbar": {
             "outlinewidth": 0,
             "ticks": ""
            },
            "colorscale": [
             [
              0,
              "#0d0887"
             ],
             [
              0.1111111111111111,
              "#46039f"
             ],
             [
              0.2222222222222222,
              "#7201a8"
             ],
             [
              0.3333333333333333,
              "#9c179e"
             ],
             [
              0.4444444444444444,
              "#bd3786"
             ],
             [
              0.5555555555555556,
              "#d8576b"
             ],
             [
              0.6666666666666666,
              "#ed7953"
             ],
             [
              0.7777777777777778,
              "#fb9f3a"
             ],
             [
              0.8888888888888888,
              "#fdca26"
             ],
             [
              1,
              "#f0f921"
             ]
            ],
            "type": "surface"
           }
          ],
          "table": [
           {
            "cells": {
             "fill": {
              "color": "#EBF0F8"
             },
             "line": {
              "color": "white"
             }
            },
            "header": {
             "fill": {
              "color": "#C8D4E3"
             },
             "line": {
              "color": "white"
             }
            },
            "type": "table"
           }
          ]
         },
         "layout": {
          "annotationdefaults": {
           "arrowcolor": "#2a3f5f",
           "arrowhead": 0,
           "arrowwidth": 1
          },
          "autotypenumbers": "strict",
          "coloraxis": {
           "colorbar": {
            "outlinewidth": 0,
            "ticks": ""
           }
          },
          "colorscale": {
           "diverging": [
            [
             0,
             "#8e0152"
            ],
            [
             0.1,
             "#c51b7d"
            ],
            [
             0.2,
             "#de77ae"
            ],
            [
             0.3,
             "#f1b6da"
            ],
            [
             0.4,
             "#fde0ef"
            ],
            [
             0.5,
             "#f7f7f7"
            ],
            [
             0.6,
             "#e6f5d0"
            ],
            [
             0.7,
             "#b8e186"
            ],
            [
             0.8,
             "#7fbc41"
            ],
            [
             0.9,
             "#4d9221"
            ],
            [
             1,
             "#276419"
            ]
           ],
           "sequential": [
            [
             0,
             "#0d0887"
            ],
            [
             0.1111111111111111,
             "#46039f"
            ],
            [
             0.2222222222222222,
             "#7201a8"
            ],
            [
             0.3333333333333333,
             "#9c179e"
            ],
            [
             0.4444444444444444,
             "#bd3786"
            ],
            [
             0.5555555555555556,
             "#d8576b"
            ],
            [
             0.6666666666666666,
             "#ed7953"
            ],
            [
             0.7777777777777778,
             "#fb9f3a"
            ],
            [
             0.8888888888888888,
             "#fdca26"
            ],
            [
             1,
             "#f0f921"
            ]
           ],
           "sequentialminus": [
            [
             0,
             "#0d0887"
            ],
            [
             0.1111111111111111,
             "#46039f"
            ],
            [
             0.2222222222222222,
             "#7201a8"
            ],
            [
             0.3333333333333333,
             "#9c179e"
            ],
            [
             0.4444444444444444,
             "#bd3786"
            ],
            [
             0.5555555555555556,
             "#d8576b"
            ],
            [
             0.6666666666666666,
             "#ed7953"
            ],
            [
             0.7777777777777778,
             "#fb9f3a"
            ],
            [
             0.8888888888888888,
             "#fdca26"
            ],
            [
             1,
             "#f0f921"
            ]
           ]
          },
          "colorway": [
           "#636efa",
           "#EF553B",
           "#00cc96",
           "#ab63fa",
           "#FFA15A",
           "#19d3f3",
           "#FF6692",
           "#B6E880",
           "#FF97FF",
           "#FECB52"
          ],
          "font": {
           "color": "#2a3f5f"
          },
          "geo": {
           "bgcolor": "white",
           "lakecolor": "white",
           "landcolor": "#E5ECF6",
           "showlakes": true,
           "showland": true,
           "subunitcolor": "white"
          },
          "hoverlabel": {
           "align": "left"
          },
          "hovermode": "closest",
          "mapbox": {
           "style": "light"
          },
          "paper_bgcolor": "white",
          "plot_bgcolor": "#E5ECF6",
          "polar": {
           "angularaxis": {
            "gridcolor": "white",
            "linecolor": "white",
            "ticks": ""
           },
           "bgcolor": "#E5ECF6",
           "radialaxis": {
            "gridcolor": "white",
            "linecolor": "white",
            "ticks": ""
           }
          },
          "scene": {
           "xaxis": {
            "backgroundcolor": "#E5ECF6",
            "gridcolor": "white",
            "gridwidth": 2,
            "linecolor": "white",
            "showbackground": true,
            "ticks": "",
            "zerolinecolor": "white"
           },
           "yaxis": {
            "backgroundcolor": "#E5ECF6",
            "gridcolor": "white",
            "gridwidth": 2,
            "linecolor": "white",
            "showbackground": true,
            "ticks": "",
            "zerolinecolor": "white"
           },
           "zaxis": {
            "backgroundcolor": "#E5ECF6",
            "gridcolor": "white",
            "gridwidth": 2,
            "linecolor": "white",
            "showbackground": true,
            "ticks": "",
            "zerolinecolor": "white"
           }
          },
          "shapedefaults": {
           "line": {
            "color": "#2a3f5f"
           }
          },
          "ternary": {
           "aaxis": {
            "gridcolor": "white",
            "linecolor": "white",
            "ticks": ""
           },
           "baxis": {
            "gridcolor": "white",
            "linecolor": "white",
            "ticks": ""
           },
           "bgcolor": "#E5ECF6",
           "caxis": {
            "gridcolor": "white",
            "linecolor": "white",
            "ticks": ""
           }
          },
          "title": {
           "x": 0.05
          },
          "xaxis": {
           "automargin": true,
           "gridcolor": "white",
           "linecolor": "white",
           "ticks": "",
           "title": {
            "standoff": 15
           },
           "zerolinecolor": "white",
           "zerolinewidth": 2
          },
          "yaxis": {
           "automargin": true,
           "gridcolor": "white",
           "linecolor": "white",
           "ticks": "",
           "title": {
            "standoff": 15
           },
           "zerolinecolor": "white",
           "zerolinewidth": 2
          }
         }
        },
        "title": {
         "text": "epoch metrics"
        },
        "xaxis": {
         "anchor": "y",
         "domain": [
          0,
          0.98
         ],
         "title": {
          "text": "step"
         }
        },
        "xaxis2": {
         "anchor": "y2",
         "domain": [
          0,
          0.98
         ],
         "matches": "x",
         "showticklabels": false
        },
        "xaxis3": {
         "anchor": "y3",
         "domain": [
          0,
          0.98
         ],
         "matches": "x",
         "showticklabels": false
        },
        "xaxis4": {
         "anchor": "y4",
         "domain": [
          0,
          0.98
         ],
         "matches": "x",
         "showticklabels": false
        },
        "yaxis": {
         "anchor": "x",
         "domain": [
          0,
          0.2275
         ],
         "title": {
          "text": "value"
         }
        },
        "yaxis2": {
         "anchor": "x2",
         "domain": [
          0.2575,
          0.485
         ],
         "title": {
          "text": "value"
         }
        },
        "yaxis3": {
         "anchor": "x3",
         "domain": [
          0.515,
          0.7425
         ],
         "title": {
          "text": "value"
         }
        },
        "yaxis4": {
         "anchor": "x4",
         "domain": [
          0.7725,
          1
         ],
         "title": {
          "text": "value"
         }
        }
       }
      }
     },
     "metadata": {},
     "output_type": "display_data"
    }
   ],
   "source": [
    "(\n",
    "    px.scatter(\n",
    "    (\n",
    "        training_metrics\n",
    "        .melt(\n",
    "            id_vars=\"step\",\n",
    "            value_vars=[\n",
    "                \"batch_train_loss\",\n",
    "                \"batch_accuracy\",\n",
    "            ]\n",
    "        )\n",
    "    ),\n",
    "    x=\"step\",\n",
    "    y=\"value\",\n",
    "    facet_row=\"variable\",\n",
    "    trendline=\"ewm\",\n",
    "    trendline_options={\"com\": 30},\n",
    "    trendline_color_override=\"red\",\n",
    "    title=\"batch metrics\",\n",
    "    )\n",
    "    .update_yaxes(matches=None)\n",
    "    .show()\n",
    ")\n",
    "px.line(\n",
    "    (\n",
    "        training_metrics\n",
    "        .query(\"validation_loss.notna()\")\n",
    "        .melt(\n",
    "            id_vars=\"step\",\n",
    "            value_vars=['train_epoch_loss', 'train_epoch_accuracy', 'validation_loss', 'validation_accuracy']\n",
    "        )\n",
    "    ),\n",
    "    x=\"step\",\n",
    "    y=\"value\",\n",
    "    color=\"variable\",\n",
    "    facet_row=\"variable\",\n",
    "    title=\"epoch metrics\",\n",
    "    render_mode=\"line+marker\",\n",
    ").update_yaxes(matches=None)"
   ]
  },
  {
   "cell_type": "code",
   "execution_count": 89,
   "id": "ce2e1c7a",
   "metadata": {},
   "outputs": [
    {
     "data": {
      "text/plain": [
       "25      0.248850\n",
       "51      0.393756\n",
       "77      0.417054\n",
       "103     0.466208\n",
       "129     0.470791\n",
       "155     0.498877\n",
       "181     0.521338\n",
       "207     0.548963\n",
       "233     0.528813\n",
       "259     0.577826\n",
       "285     0.585039\n",
       "311     0.589068\n",
       "337     0.595704\n",
       "363     0.631480\n",
       "389     0.632636\n",
       "415     0.653606\n",
       "441     0.669928\n",
       "467     0.661081\n",
       "493     0.683939\n",
       "519     0.687829\n",
       "545     0.685794\n",
       "571     0.690198\n",
       "597     0.687010\n",
       "623     0.709452\n",
       "649     0.706244\n",
       "675     0.715293\n",
       "701     0.719799\n",
       "727     0.731338\n",
       "753     0.734647\n",
       "779     0.737956\n",
       "805     0.735405\n",
       "831     0.746008\n",
       "857     0.768691\n",
       "883     0.766717\n",
       "909     0.783102\n",
       "935     0.790795\n",
       "961     0.794244\n",
       "987     0.800382\n",
       "1013    0.803511\n",
       "1039    0.806441\n",
       "1065    0.809789\n",
       "1091    0.811903\n",
       "1117    0.810547\n",
       "1143    0.808773\n",
       "1169    0.812500\n",
       "1195    0.814653\n",
       "1221    0.818899\n",
       "1247    0.808973\n",
       "1273    0.816846\n",
       "1299    0.815948\n",
       "1325    0.823942\n",
       "1351    0.821091\n",
       "1377    0.820075\n",
       "1403    0.822926\n",
       "1429    0.826274\n",
       "1455    0.826553\n",
       "1481    0.825118\n",
       "1507    0.827630\n",
       "1533    0.828785\n",
       "1559    0.830141\n",
       "Name: validation_accuracy, dtype: float64"
      ]
     },
     "execution_count": 89,
     "metadata": {},
     "output_type": "execute_result"
    }
   ],
   "source": [
    "training_metrics.query(\"validation_accuracy.notna()\")[\"validation_accuracy\"]"
   ]
  }
 ],
 "metadata": {
  "kernelspec": {
   "display_name": "CMI",
   "language": "python",
   "name": "python3"
  },
  "language_info": {
   "codemirror_mode": {
    "name": "ipython",
    "version": 3
   },
   "file_extension": ".py",
   "mimetype": "text/x-python",
   "name": "python",
   "nbconvert_exporter": "python",
   "pygments_lexer": "ipython3",
   "version": "3.11.5"
  }
 },
 "nbformat": 4,
 "nbformat_minor": 5
}
