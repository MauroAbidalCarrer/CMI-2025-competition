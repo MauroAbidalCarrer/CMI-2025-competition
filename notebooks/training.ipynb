{
 "cells": [
  {
   "cell_type": "markdown",
   "id": "53d41434",
   "metadata": {},
   "source": [
    "# Training model\n",
    "The goal of this notebook is to train a model and upload it to kaggle."
   ]
  },
  {
   "cell_type": "markdown",
   "id": "696a0573",
   "metadata": {},
   "source": [
    "## Setup"
   ]
  },
  {
   "cell_type": "markdown",
   "id": "dc4c23f0",
   "metadata": {},
   "source": [
    "### Imports"
   ]
  },
  {
   "cell_type": "code",
   "execution_count": 30,
   "id": "66f429fe",
   "metadata": {},
   "outputs": [],
   "source": [
    "import os\n",
    "from glob import glob\n",
    "from datetime import datetime\n",
    "from itertools import pairwise\n",
    "from os.path import join, realpath\n",
    "from typing import Optional, Literal\n",
    "\n",
    "import torch\n",
    "import numpy as np\n",
    "import pandas as pd\n",
    "import plotly.express as px\n",
    "from torch import nn, Tensor\n",
    "from pandas import DataFrame as DF\n",
    "from torch.utils.data import Dataset\n",
    "from torch.utils.data import DataLoader as DL\n",
    "from rich.progress import Progress, Task, track\n",
    "from torch.optim.lr_scheduler import ConstantLR, LRScheduler\n",
    "from kagglehub import dataset_download, model_upload, whoami"
   ]
  },
  {
   "cell_type": "markdown",
   "id": "561af8f7",
   "metadata": {},
   "source": [
    "### Dataset Setup"
   ]
  },
  {
   "cell_type": "code",
   "execution_count": 31,
   "id": "63a131e0",
   "metadata": {},
   "outputs": [],
   "source": [
    "BATCH_SIZE = 256\n",
    "dataset_path = dataset_download(\n",
    "    handle=\"mauroabidalcarrer/prepocessed-cmi-2025\",\n",
    ")"
   ]
  },
  {
   "cell_type": "code",
   "execution_count": 32,
   "id": "e46c3b4e",
   "metadata": {},
   "outputs": [],
   "source": [
    "from torch.utils.data import TensorDataset\n",
    "\n",
    "class CMIDataset(TensorDataset):\n",
    "    def __init__(\n",
    "        self,\n",
    "        parent_dir: str,\n",
    "        split: Optional[Literal[\"train\", \"validation\"]]=None,\n",
    "        subset: Optional[int]=None,\n",
    "        force_download=False\n",
    "    ):\n",
    "        dataset_path = dataset_download(\n",
    "            handle=\"mauroabidalcarrer/prepocessed-cmi-2025\",\n",
    "            force_download=force_download\n",
    "        )\n",
    "        parent_dir = join(dataset_path, \"preprocessed_dataset\", parent_dir)\n",
    "        split = \"\" if split is None else split + \"_\"\n",
    "        x = np.load(join(parent_dir, f\"{split}X.npy\")).swapaxes(1, 2)\n",
    "        y = np.load(join(parent_dir, f\"{split}Y.npy\"))\n",
    "        if subset is not None:\n",
    "            x = x[:subset]\n",
    "            y = y[:subset]\n",
    "        super().__init__(\n",
    "            torch.from_numpy(x), \n",
    "            torch.from_numpy(y),\n",
    "        )\n"
   ]
  },
  {
   "cell_type": "markdown",
   "id": "e7cce363",
   "metadata": {},
   "source": [
    "### device setup"
   ]
  },
  {
   "cell_type": "code",
   "execution_count": 33,
   "id": "2710f791",
   "metadata": {},
   "outputs": [],
   "source": [
    "device = torch.device(\"cuda\") if torch.cuda.is_available() else torch.device(\"cpu\")"
   ]
  },
  {
   "cell_type": "markdown",
   "id": "7405a353",
   "metadata": {},
   "source": [
    "## Model definition"
   ]
  },
  {
   "cell_type": "code",
   "execution_count": 34,
   "id": "5ecc32a1",
   "metadata": {},
   "outputs": [],
   "source": [
    "class ResidualBlock(nn.Module):\n",
    "    def __init__(self, in_chns:int, out_chns:int):\n",
    "        super().__init__()\n",
    "        self.blocks = nn.Sequential(\n",
    "            nn.Conv1d(in_chns, out_chns, kernel_size=3, padding=1),\n",
    "            nn.BatchNorm1d(out_chns),\n",
    "            nn.ReLU(),\n",
    "            nn.Conv1d(out_chns, out_chns, kernel_size=3, padding=1),\n",
    "            nn.BatchNorm1d(out_chns),\n",
    "        )\n",
    "        if in_chns == out_chns:\n",
    "            self.skip_connection = nn.Identity() \n",
    "        else:\n",
    "            # TODO: set bias to False ?\n",
    "            self.skip_connection = nn.Sequential(\n",
    "                nn.Conv1d(in_chns, out_chns, 1),\n",
    "                nn.BatchNorm1d(out_chns)\n",
    "            )\n",
    "\n",
    "    def forward(self, x:Tensor) -> Tensor:\n",
    "        activaition_maps = self.skip_connection(x) + self.blocks(x)\n",
    "        return nn.functional.relu(activaition_maps)\n",
    "\n",
    "class Resnet(nn.Module):\n",
    "    def __init__(\n",
    "            self,\n",
    "            in_channels:int,\n",
    "            depth:int,\n",
    "            # n_res_block_per_depth:int,\n",
    "            mlp_width:int,\n",
    "            n_class:int,\n",
    "        ):\n",
    "        super().__init__()\n",
    "        chs_per_depth = [in_channels * 2 ** i for i in range(depth)]\n",
    "        blocks_chns_it = pairwise(chs_per_depth)\n",
    "        self.res_blocks = [ResidualBlock(in_chns, out_chns) for in_chns, out_chns in blocks_chns_it]\n",
    "        self.res_blocks = nn.ModuleList(self.res_blocks)\n",
    "        self.mlp_head = nn.Sequential(\n",
    "            nn.LazyLinear(mlp_width),\n",
    "            nn.ReLU(),\n",
    "            nn.Linear(mlp_width, n_class),\n",
    "            nn.Softmax(dim=1),\n",
    "        )\n",
    "        \n",
    "        \n",
    "    def forward(self, x:Tensor) -> Tensor:\n",
    "        activation_maps = x\n",
    "        for res_block in self.res_blocks:\n",
    "            activation_maps = nn.functional.max_pool1d(res_block(activation_maps), 2)\n",
    "        out = activation_maps.view(activation_maps.shape[0], -1)\n",
    "        out = self.mlp_head(out)\n",
    "        return out"
   ]
  },
  {
   "cell_type": "markdown",
   "id": "5a83f1e7",
   "metadata": {},
   "source": [
    "## Training functions "
   ]
  },
  {
   "cell_type": "markdown",
   "id": "c8014fc2",
   "metadata": {},
   "source": [
    "### Training"
   ]
  },
  {
   "cell_type": "code",
   "execution_count": 35,
   "id": "7cc879eb",
   "metadata": {},
   "outputs": [],
   "source": [
    "def fit(epochs:int,\n",
    "        model: nn.Module,\n",
    "        scheduler: LRScheduler,\n",
    "        optimizer: torch.optim.Optimizer,\n",
    "        train_loader: DL,\n",
    "        criterion: callable=nn.L1Loss(),\n",
    "        evaluation_func: callable=None,\n",
    "        validation_loader: DL=None,\n",
    "        save_checkpoints=True,\n",
    "    ) -> tuple[DF, str]:\n",
    "    \"\"\"\n",
    "    Returns:\n",
    "        (training_metrics, path_to_checkpoints)\n",
    "    \"\"\"\n",
    "    # Setup\n",
    "    metrics: list[dict] = []\n",
    "    checkpoints_dir = os.path.join(\"checkpoints\", mk_date_now_str())\n",
    "    step = 0\n",
    "    model_device = next(model.parameters()).device\n",
    "    last_epoch_metric = {}\n",
    "    # Training loop\n",
    "    with Progress() as progress:\n",
    "        task: Task = progress.add_task(\n",
    "            \"training...\",\n",
    "            total=len(train_loader),\n",
    "        )\n",
    "        for epoch in range(epochs):\n",
    "            progress.update(\n",
    "                task,\n",
    "                description=f\"epoch: {epoch}\",\n",
    "                completed=0,\n",
    "            )\n",
    "            total_epoch_loss = 0\n",
    "            total_accuracy = 0\n",
    "            for batch_idx, (x, y) in enumerate(train_loader):\n",
    "                # forward\n",
    "                x = x.to(model_device)\n",
    "                y = y.to(model_device)\n",
    "                model.train()\n",
    "                optimizer.zero_grad()\n",
    "                y_pred: Tensor = model(x)\n",
    "                loss_value = criterion(y_pred, y)\n",
    "                # Verify loss value\n",
    "                if torch.isnan(loss_value).any().item():\n",
    "                    progress.print(\"Warning: Got NaN loss, stopped training.\")\n",
    "                    return DF.from_records(metrics) \n",
    "                if torch.isinf(loss_value).any().item():\n",
    "                    progress.print(\"Warning: Got infinite loss, stopped training.\")\n",
    "                    return DF.from_records(metrics) \n",
    "                # TODO: Use gradient clipping?\n",
    "                loss_value.backward()\n",
    "                optimizer.step()\n",
    "                if step > 0: # If it's not the first training step, idk why it throws an error otherwise\n",
    "                    scheduler.step()\n",
    "                # metrics\n",
    "                total_epoch_loss += loss_value.item()\n",
    "                batch_accuracy = (\n",
    "                    (y.max(dim=1)[1] == y_pred.max(dim=1)[1])\n",
    "                    .sum()\n",
    "                    .item()\n",
    "                ) / y.shape[0]\n",
    "                total_accuracy += batch_accuracy\n",
    "                metrics.append({\n",
    "                    \"step\": step,\n",
    "                    \"epoch\": epoch,\n",
    "                    \"batch_train_loss\": loss_value.item(),\n",
    "                    \"lr\": optimizer.state_dict()[\"param_groups\"][-1][\"lr\"],\n",
    "                    \"batch_accuracy\": batch_accuracy,\n",
    "                })\n",
    "                step += 1\n",
    "                if \"validation_accuracy\" in last_epoch_metric:\n",
    "                    last_validation_acc = \"%.2f\" % last_epoch_metric[\"validation_accuracy\"]\n",
    "                else:\n",
    "                    last_validation_acc = None\n",
    "                progress.update(\n",
    "                    task,\n",
    "                    advance=1,\n",
    "                    description=f\"epoch: {epoch}, batch_loss: {(total_epoch_loss / (batch_idx+1)):.2f}, val. acc: {last_validation_acc}\"\n",
    "                )\n",
    "            # Post epoch evalution\n",
    "            metrics[-1][\"train_epoch_loss\"] = total_epoch_loss / len(train_loader)\n",
    "            metrics[-1][\"train_epoch_accuracy\"] = total_accuracy / len(train_loader)\n",
    "            if evaluation_func:\n",
    "                progress.update(\n",
    "                    task,\n",
    "                    completed=0,\n",
    "                    description=f\"epoch: {epoch}, evaluating...\"\n",
    "                )\n",
    "                eval_metrics = evaluation_func(model, criterion, validation_loader)\n",
    "                metrics[-1].update(eval_metrics)\n",
    "            last_epoch_metric = metrics[-1]\n",
    "            # Save checkpoint\n",
    "            if save_checkpoints:\n",
    "                checkpoint = mk_checkpoint(epoch, model, scheduler, optimizer)\n",
    "                metrics_df = DF.from_records(metrics)\n",
    "                best_model_metric = \"validation_loss\" if \"validation_loss\" in metrics_df.columns else \"train_epoch_loss\"\n",
    "                is_best_checkpoint = (\n",
    "                    DF.from_records(metrics)\n",
    "                    .eval(f\"min_{best_model_metric} = {best_model_metric}.min()\")\n",
    "                    .eval(f\"is_best_{best_model_metric} = {best_model_metric} == min_{best_model_metric}\")\n",
    "                    .dropna(subset=f\"is_best_{best_model_metric}\")\n",
    "                    .iloc[-1]\n",
    "                    .loc[f\"is_best_{best_model_metric}\"]\n",
    "                )\n",
    "                save_checkpoint(checkpoint, checkpoints_dir, is_best_checkpoint)\n",
    "\n",
    "    return DF.from_records(metrics), checkpoints_dir\n",
    "\n",
    "def evaluate_model(\n",
    "        model: torch.nn.Module,\n",
    "        critirion:callable,\n",
    "        validation_loader:DL,\n",
    "    ) -> dict:\n",
    "    model = model.eval()\n",
    "    model_device = next(model.parameters()).device\n",
    "\n",
    "    total_accuracy = 0\n",
    "    total_test_loss = 0\n",
    "    for x, y in validation_loader:\n",
    "        x = x.to(model_device)\n",
    "        y = y.to(model_device)\n",
    "        y_pred = model(x)\n",
    "        total_test_loss += critirion(y_pred, y).item()\n",
    "        batch_accuracy = (\n",
    "            (y.max(dim=1)[1] == y_pred.max(dim=1)[1])\n",
    "            .sum()\n",
    "            .item()\n",
    "        ) / y.shape[0]\n",
    "        total_accuracy += batch_accuracy\n",
    "\n",
    "    return {\n",
    "        \"validation_loss\": total_test_loss / len(validation_loader),\n",
    "        \"validation_accuracy\": total_accuracy / len(validation_loader),\n",
    "    }\n",
    "\n",
    "def mk_checkpoint(\n",
    "        epoch:int,\n",
    "        model: torch.nn.Module,\n",
    "        scheduler: LRScheduler,\n",
    "        optimizer: torch.optim.Optimizer\n",
    "    ) -> dict:\n",
    "    return {\n",
    "        \"epoch\": epoch,\n",
    "        \"model\": model.state_dict(),\n",
    "        \"optimizer\": optimizer.state_dict(),\n",
    "        \"scheduler\": scheduler.state_dict(),\n",
    "    }\n",
    "\n",
    "def save_checkpoint(checkpoint:dict, parent_dir:str, is_best_checkpoint=False):\n",
    "    # Create model name\n",
    "    checkpoint_filename = f\"epoch_{checkpoint['epoch']}_{mk_date_now_str()}.pth\"\n",
    "    # Save model\n",
    "    os.makedirs(parent_dir, exist_ok=True)\n",
    "    checkpoint_path = os.path.join(parent_dir, checkpoint_filename)\n",
    "    torch.save(checkpoint, checkpoint_path)\n",
    "    mk_symlink(checkpoint_path, os.path.join(parent_dir, \"latest_checkpoint.pth\"))\n",
    "    if is_best_checkpoint:\n",
    "        mk_symlink(checkpoint_path, os.path.join(parent_dir, \"best_checkpoint.pth\"))\n",
    "\n",
    "def mk_date_now_str() -> str:\n",
    "    return datetime.now().strftime(\"%d-%m-%Y_%H-%M\")\n",
    "\n",
    "def mk_symlink(dest:str, symlink_path:str):\n",
    "    if os.path.islink(symlink_path) or os.path.exists(symlink_path):\n",
    "        os.remove(symlink_path)\n",
    "    os.symlink(dest, symlink_path)"
   ]
  },
  {
   "cell_type": "code",
   "execution_count": 36,
   "id": "fe1e327c",
   "metadata": {},
   "outputs": [],
   "source": [
    "TRAINING_EPOCHS = 30\n",
    "STARTING_LR = 0.0005\n",
    "def mk_model() -> nn.Module:\n",
    "    return (\n",
    "        Resnet(\n",
    "            in_channels=17,\n",
    "            depth=4,\n",
    "            mlp_width=256,\n",
    "            n_class=18\n",
    "        )\n",
    "    )\n",
    "\n",
    "def mk_model_and_fit(train_loader:DL, validation_loader:Optional[DL]=None) -> tuple[nn.Module, DF, list[str]]:\n",
    "    model = mk_model()\n",
    "    optimizer = torch.optim.AdamW(model.parameters(), STARTING_LR)\n",
    "    constant_lr_scheduler = ConstantLR(optimizer, factor=1, total_iters=len(train_loader) * TRAINING_EPOCHS)\n",
    "    training_metrics, model_checkpoints = fit(\n",
    "        epochs=TRAINING_EPOCHS,\n",
    "        model=model,\n",
    "        scheduler=constant_lr_scheduler,\n",
    "        optimizer=optimizer,\n",
    "        train_loader=train_loader,\n",
    "        criterion=nn.CrossEntropyLoss(),\n",
    "        evaluation_func=evaluate_model if validation_loader else None,\n",
    "        validation_loader=validation_loader,\n",
    "        save_checkpoints=True,\n",
    "    )\n",
    "\n",
    "    return model, training_metrics, model_checkpoints"
   ]
  },
  {
   "cell_type": "markdown",
   "id": "0ddd2294",
   "metadata": {},
   "source": [
    "### Training metrics plotting"
   ]
  },
  {
   "cell_type": "code",
   "execution_count": 37,
   "id": "4619c4fe",
   "metadata": {},
   "outputs": [],
   "source": [
    "def plt_training_metrics(training_metrics:DF):\n",
    "    (\n",
    "        px.scatter(\n",
    "        (\n",
    "            training_metrics\n",
    "            .melt(\n",
    "                id_vars=\"step\",\n",
    "                value_vars=[\n",
    "                    \"batch_train_loss\",\n",
    "                    \"batch_accuracy\",\n",
    "                ]\n",
    "            )\n",
    "        ),\n",
    "        x=\"step\",\n",
    "        y=\"value\",\n",
    "        facet_row=\"variable\",\n",
    "        trendline=\"ewm\",\n",
    "        trendline_options={\"com\": 30},\n",
    "        trendline_color_override=\"red\",\n",
    "        title=\"batch metrics\",\n",
    "        )\n",
    "        .update_yaxes(matches=None)\n",
    "        .show()\n",
    "    )\n",
    "    if \"validation_loss\" in training_metrics.columns:\n",
    "        (\n",
    "            px.line(\n",
    "                (\n",
    "                    training_metrics\n",
    "                    .query(\"validation_loss.notna()\")\n",
    "                    .melt(\n",
    "                        id_vars=\"step\",\n",
    "                        value_vars=['train_epoch_loss', 'train_epoch_accuracy', 'validation_loss', 'validation_accuracy']\n",
    "                    )\n",
    "                ),\n",
    "                x=\"step\",\n",
    "                y=\"value\",\n",
    "                color=\"variable\",\n",
    "                facet_row=\"variable\",\n",
    "                title=\"epoch metrics\",\n",
    "                render_mode=\"line+marker\",\n",
    "            ).update_yaxes(matches=None)\n",
    "            .show()\n",
    "        )    "
   ]
  },
  {
   "cell_type": "markdown",
   "id": "92bee315",
   "metadata": {},
   "source": [
    "## Cross validation training"
   ]
  },
  {
   "cell_type": "code",
   "execution_count": 42,
   "id": "a711c430",
   "metadata": {},
   "outputs": [
    {
     "name": "stdout",
     "output_type": "stream",
     "text": [
      "training: 1\n"
     ]
    },
    {
     "data": {
      "application/vnd.jupyter.widget-view+json": {
       "model_id": "954bd2e29a2943fe9cd465e9cb65e0bd",
       "version_major": 2,
       "version_minor": 0
      },
      "text/plain": [
       "Output()"
      ]
     },
     "metadata": {},
     "output_type": "display_data"
    },
    {
     "data": {
      "text/html": [
       "<pre style=\"white-space:pre;overflow-x:auto;line-height:normal;font-family:Menlo,'DejaVu Sans Mono',consolas,'Courier New',monospace\"></pre>\n"
      ],
      "text/plain": []
     },
     "metadata": {},
     "output_type": "display_data"
    },
    {
     "data": {
      "application/vnd.plotly.v1+json": {
       "config": {
        "plotlyServerURL": "https://plot.ly"
       },
       "data": [
        {
         "hovertemplate": "variable=batch_train_loss<br>step=%{x}<br>value=%{y}<extra></extra>",
         "legendgroup": "",
         "marker": {
          "color": "#636efa",
          "symbol": "circle"
         },
         "mode": "markers",
         "name": "",
         "showlegend": false,
         "type": "scattergl",
         "x": {
          "bdata": "AAABAAIAAwAEAAUABgAHAAgACQAKAAsADAANAA4ADwAQABEAEgATABQAFQAWABcAGAAZABoAGwAcAB0AHgAfACAAIQAiACMAJAAlACYAJwAoACkAKgArACwALQAuAC8AMAAxADIAMwA0ADUANgA3ADgAOQA6ADsAPAA9AD4APwBAAEEAQgBDAEQARQBGAEcASABJAEoASwBMAE0ATgBPAFAAUQBSAFMAVABVAFYAVwBYAFkAWgBbAFwAXQBeAF8AYABhAGIAYwBkAGUAZgBnAGgAaQBqAGsAbABtAG4AbwBwAHEAcgBzAHQAdQB2AHcAeAB5AHoAewB8AH0AfgB/AIAAgQCCAIMAhACFAIYAhwCIAIkAigCLAIwAjQCOAI8AkACRAJIAkwCUAJUAlgCXAJgAmQCaAJsAnACdAJ4AnwCgAKEAogCjAKQApQCmAKcAqACpAKoAqwCsAK0ArgCvALAAsQCyALMAtAC1ALYAtwC4ALkAugC7ALwAvQC+AL8AwADBAMIAwwDEAMUAxgDHAMgAyQDKAMsAzADNAM4AzwDQANEA0gDTANQA1QDWANcA2ADZANoA2wDcAN0A3gDfAOAA4QDiAOMA5ADlAOYA5wDoAOkA6gDrAOwA7QDuAO8A8ADxAPIA8wD0APUA9gD3APgA+QD6APsA/AD9AP4A/wAAAQEBAgEDAQQBBQEGAQcBCAEJAQoBCwEMAQ0BDgEPARABEQESARMBFAEVARYBFwEYARkBGgEbARwBHQEeAR8BIAEhASIBIwEkASUBJgEnASgBKQEqASsBLAEtAS4BLwEwATEBMgEzATQBNQE2ATcBOAE5AToBOwE8AT0BPgE/AUABQQFCAUMBRAFFAUYBRwFIAUkBSgFLAUwBTQFOAU8BUAFRAVIBUwFUAVUBVgFXAVgBWQFaAVsBXAFdAV4BXwFgAWEBYgFjAWQBZQFmAWcBaAFpAWoBawFsAW0BbgFvAXABcQFyAXMBdAF1AXYBdwF4AXkBegF7AXwBfQF+AX8BgAGBAYIBgwGEAYUBhgGHAYgBiQGKAYsBjAGNAY4BjwGQAZEBkgGTAZQBlQGWAZcBmAGZAZoBmwGcAZ0BngGfAaABoQGiAaMBpAGlAaYBpwGoAakBqgGrAawBrQGuAa8BsAGxAbIBswG0AbUBtgG3AbgBuQG6AbsBvAG9Ab4BvwHAAcEBwgHDAcQBxQHGAccByAHJAcoBywHMAc0BzgHPAdAB0QHSAdMB1AHVAdYB1wHYAdkB2gHbAdwB3QHeAd8B4AHhAeIB4wHkAeUB5gHnAegB6QHqAesB7AHtAe4B7wHwAfEB8gHzAfQB9QH2AfcB+AH5AfoB+wH8Af0B/gH/AQACAQICAgMCBAIFAgYCBwIIAgkCCgILAgwCDQIOAg8CEAIRAhICEwIUAhUCFgIXAhgCGQIaAhsCHAIdAh4CHwIgAiECIgIjAiQCJQImAicCKAIpAioCKwIsAi0CLgIvAjACMQIyAjMCNAI1AjYCNwI4AjkCOgI7AjwCPQI+Aj8CQAJBAkICQwJEAkUCRgJHAkgCSQJKAksCTAJNAk4CTwJQAlECUgJTAlQCVQJWAlcCWAJZAloCWwJcAl0CXgJfAmACYQJiAmMCZAJlAmYCZwJoAmkCagJrAmwCbQJuAm8CcAJxAnICcwJ0AnUCdgJ3AngCeQJ6AnsCfAJ9An4CfwKAAoECggKDAoQChQKGAocCiAKJAooCiwKMAo0CjgKPApACkQKSApMClAKVApYClwKYApkCmgKbApwCnQKeAp8CoAKhAqICowKkAqUCpgKnAqgCqQKqAqsCrAKtAq4CrwKwArECsgKzArQCtQK2ArcCuAK5AroCuwK8Ar0CvgK/AsACwQLCAsMCxALFAsYCxwLIAskCygLLAswCzQLOAs8C0ALRAtIC0wLUAtUC1gLXAtgC2QLaAtsC3ALdAt4C3wLgAuEC4gLjAuQC5QLmAucC6ALpAuoC6wLsAu0C7gLvAvAC8QLyAvMC9AL1AvYC9wL4AvkC+gL7AvwC/QL+Av8CAAMBAwIDAwMEAwUDBgMHAwgDCQMKAwsD",
          "dtype": "i2"
         },
         "xaxis": "x2",
         "y": {
          "bdata": "AAAAwLMlB0AAAABAF/0GQAAAAMDF5AZAAAAAgJDLBkAAAADgmqoGQAAAAEDQlAZAAAAAQEB9BkAAAABANFIGQAAAAOBzRAZAAAAAQEwRBkAAAADAjIQGQAAAAGB3IwZAAAAAoE0TBkAAAADgo/wFQAAAAED8zAVAAAAAgKniBUAAAADATPYFQAAAACCV8QVAAAAAYCjJBUAAAABgGLsFQAAAAGB40wVAAAAAAKCWBUAAAADAbrIFQAAAAOD51gVAAAAAQE6sBUAAAACAQcsFQAAAAGBTnwVAAAAAQEqqBUAAAAAgqG8FQAAAAKAaxQVAAAAAgI8cBUAAAAAgr8AFQAAAAEAkfwVAAAAAgN+rBUAAAAAAWWkFQAAAAIDBZgVAAAAAIHVBBUAAAACghW0FQAAAAAB4LwVAAAAAAHhrBUAAAADARO0EQAAAAKAYmwVAAAAAoCAoBUAAAAAgSScFQAAAAKAWIQVAAAAAIKZ+BUAAAAAApB0FQAAAAIDv/ARAAAAAQN3UBEAAAABgLPwEQAAAACAI6QRAAAAAIDT+BEAAAAAAGJQEQAAAAGBxDwVAAAAAYDvXBEAAAADACNUEQAAAAEBmZAVAAAAAwHLZBEAAAACgOvIEQAAAAKBsUAVAAAAAID0IBUAAAADAPOQEQAAAAIBFAgVAAAAA4G6IBEAAAAAgvNMEQAAAACAWugRAAAAAYKGEBEAAAABg6tUEQAAAAEAePgVAAAAAoKdsBEAAAACA0NUEQAAAAEBDiwRAAAAAQOH5BEAAAADgBHgEQAAAAKBf9gRAAAAAAKJeBUAAAACAYNkEQAAAACCq2QRAAAAAgHGRBEAAAACgZ7EEQAAAAIAc1gRAAAAAIK+dBEAAAACAHQAFQAAAAEDjnwRAAAAAwKSsBEAAAAAAr34EQAAAAIAi3QRAAAAAwGDxBEAAAACAUX4EQAAAAODgqQRAAAAAgK41BEAAAADA7EAEQAAAAIAxWgRAAAAAgFMhBEAAAABAuzsEQAAAAABMYgRAAAAAwJ5UBEAAAAAAr64EQAAAAIBHvQRAAAAAYKR0BEAAAADgVokEQAAAAIAQhgRAAAAAQA2nBEAAAAAgP5gEQAAAAGBaigRAAAAAYO5JBEAAAADgtPEDQAAAAICyYARAAAAAYNE4BEAAAAAAvXMEQAAAAACgSwRAAAAAwLkYBEAAAADAMlMEQAAAAIBZrARAAAAAQKfzBEAAAAAATIcEQAAAAGBSVwRAAAAAIMNhBEAAAACgmlIEQAAAAMDfkQRAAAAAYKuzBEAAAAAgFd0EQAAAAABVeARAAAAAgIlbBEAAAAAg2o8EQAAAAMAmwwRAAAAAwKVeBEAAAADgSVMEQAAAAEA6RgRAAAAAADBiBEAAAABAclMEQAAAAGC7GQRAAAAAAMftA0AAAABgWAYEQAAAAAC/cwRAAAAAQMNRBEAAAADA3F4EQAAAAGDxxQNAAAAAIGczBEAAAADg02wEQAAAAKBFTwRAAAAA4AVEBEAAAADgZUcEQAAAAAC5TgRAAAAAwFvgA0AAAAAA5BcEQAAAAOB7IgRAAAAAwJkoBEAAAADg/YYEQAAAACANEQRAAAAAgA0HBEAAAACAZTQEQAAAAOBoigRAAAAAwIvGBEAAAAAAbwwEQAAAAEATGQRAAAAAQK3qA0AAAACAmzMEQAAAACCjLgRAAAAAwHfTA0AAAACAZq0DQAAAAOCp4ANAAAAAoAZ5BEAAAACAarUEQAAAAEAF0ANAAAAAIH08BEAAAAAAHbQDQAAAACD13gNAAAAAwNINBEAAAABAoQIEQAAAAACNIwRAAAAAQIJnBEAAAADAguADQAAAAOALQQRAAAAAwK8IBEAAAABArVEEQAAAAOB2FgRAAAAAwFItBEAAAABghI8DQAAAAABcZARAAAAAYILxA0AAAADgM8QDQAAAAID7lANAAAAAgFfkA0AAAACgzuMDQAAAAMA0jgNAAAAAAE4rBEAAAABgSzoEQAAAAOBUaQRAAAAAYFPDA0AAAABAnw8EQAAAAOADyQNAAAAAwJAbBEAAAAAAMfwDQAAAAAAzPgRAAAAAAHJMBEAAAADAWQ0EQAAAAOAu9gNAAAAAIEQvBEAAAABgUuYDQAAAACBiuQNAAAAA4PzVA0AAAADAa4QDQAAAAMAyyANAAAAAgFXvA0AAAAAA5CwEQAAAAABUAgRAAAAAYA2GBEAAAADAbykEQAAAAKBO7ANAAAAAAK/eA0AAAABgUIcDQAAAAAAL/gNAAAAAYMzBA0AAAACAaJcDQAAAAEABaANAAAAAIFniA0AAAADgxiYEQAAAAIBQEgRAAAAAAFz5A0AAAABAexcEQAAAAGAV9gNAAAAAoC4rBEAAAACAe+UDQAAAAIDQpQNAAAAAgEm+A0AAAABA4gAEQAAAAIAuhQNAAAAAwAy9A0AAAADATt8DQAAAAEA4IwRAAAAAoDf6A0AAAACANO4DQAAAAIClkgNAAAAAAL/DA0AAAACAsYgDQAAAAECsCgRAAAAAILTdA0AAAACAWwYEQAAAAGCb8ANAAAAAYPVzA0AAAABAIsYDQAAAACAvzwNAAAAAwOOPA0AAAAAA7osDQAAAAKBy4wNAAAAAwDkhBEAAAACgdqUDQAAAAGBjgQNAAAAAQK8lBEAAAABAeJQDQAAAAMCo8gNAAAAAYD63A0AAAADAeaQDQAAAAODkEARAAAAAQOK0A0AAAAAgkJQDQAAAAKDthgNAAAAAAMIRBEAAAADg1kkEQAAAAGDkggNAAAAAoHmSA0AAAADg7uUDQAAAAMBftwNAAAAAQFKTA0AAAACg+yEDQAAAAGAlngNAAAAAQE7IA0AAAADg3d4DQAAAAAALoQNAAAAAoHbmA0AAAABArvADQAAAAABngQNAAAAAQLPpA0AAAAAAUpwDQAAAAAB/bQNAAAAAQHbDA0AAAACAQIwDQAAAAICtNARAAAAAoETpA0AAAADATuYDQAAAAOBO6wNAAAAAAGQFBEAAAABgYHADQAAAAECixgNAAAAAoHuuA0AAAABgNJsDQAAAAGAUfANAAAAAoMO4A0AAAACg41YDQAAAAADAxQNAAAAAAI7EA0AAAADAo4QDQAAAAMAqBARAAAAAYC8xA0AAAACgbTgDQAAAACAqHQRAAAAAoBW6A0AAAADAMg4EQAAAAOBq4wNAAAAAIMMzA0AAAADgLKkDQAAAAMCHrQNAAAAAYNGoA0AAAAAAAP4DQAAAAMAplQNAAAAAQKiSA0AAAADA+GkDQAAAACBCdwNAAAAAYLJYA0AAAADg150DQAAAAKBIeANAAAAAIKmJA0AAAACAXecDQAAAAGCJwgNAAAAAgFySA0AAAACADIgDQAAAAKBwgANAAAAAYDrwA0AAAABgBD4DQAAAAKA0LgNAAAAAYBjJA0AAAAAgIzIDQAAAAGDwxwNAAAAAgG2bA0AAAAAAaj0DQAAAAABwXgNAAAAAwNVjA0AAAADAIl8DQAAAAOBYhQNAAAAAQL5dA0AAAACAKN4DQAAAAODJagNAAAAAoG6WA0AAAADAnG4DQAAAAGAsBwRAAAAAQKttA0AAAABACR4DQAAAAEC4TwNAAAAAIP12A0AAAABgQVgDQAAAACAi7QJAAAAAQFXqA0AAAACAFJ0DQAAAAEBL2QNAAAAAIMteA0AAAACgLIADQAAAAIANTwNAAAAA4M1XA0AAAABACSEDQAAAAECHlwNAAAAAAKi5A0AAAACAeeMDQAAAAABtdQNAAAAAQBFqA0AAAADAaagDQAAAAAAGIgNAAAAAQMA+A0AAAAAgBawCQAAAAAAVwQNAAAAAIARQA0AAAACATL8DQAAAAKDtRANAAAAAQDaTA0AAAACAuLIDQAAAAKDZbwNAAAAAgCOGA0AAAADAZX4DQAAAACC2YANAAAAAACuHA0AAAABA00oDQAAAAMA8XwNAAAAAoDdNA0AAAADAcYYDQAAAAMDKYwNAAAAAoNluA0AAAAAgcdYDQAAAAMByQANAAAAAQH1CA0AAAACAC4kDQAAAAKC05wJAAAAAwKBxA0AAAADAvVgDQAAAAMDE9AJAAAAAQD0sA0AAAAAA5foCQAAAAKDeQgNAAAAAgLWsA0AAAADAnmYDQAAAAMDxSANAAAAAoChpA0AAAABguyMDQAAAAGDwGwNAAAAA4HVVA0AAAADAK8oCQAAAAEAMYgNAAAAAwKpUA0AAAACgFVkDQAAAAOCxawNAAAAAQJkfA0AAAACAvBkDQAAAAIBEjwNAAAAAgAxGA0AAAADgxpoDQAAAAKAnUwNAAAAAgL12A0AAAACAq6IDQAAAAEDfYgNAAAAAIOfZA0AAAAAgADYDQAAAAKAxHwNAAAAAwL0hA0AAAABA6GADQAAAAKBomgNAAAAA4OQ4A0AAAAAgik0DQAAAAOCrngNAAAAAwCsfA0AAAADA200DQAAAAAD/EQNAAAAAAJY4A0AAAADA40sDQAAAAGCgZQNAAAAAQH8TA0AAAABgQ7UCQAAAAGA1hwNAAAAA4Fr0AkAAAADAN6kDQAAAAOD3ZANAAAAAgD6RA0AAAAAgvbQDQAAAAMCxpQNAAAAAwAz7AkAAAABgCoADQAAAAOBvqQNAAAAAoPA5A0AAAADgPgYDQAAAAOAjQgNAAAAA4GlKA0AAAABAygUDQAAAAKCX4QJAAAAAQJY6A0AAAABAgg4DQAAAAOCWBgNAAAAAQMbbAkAAAABAkIwDQAAAACDIiwNAAAAAwN3iAkAAAABgAy4DQAAAACBFqQNAAAAA4Fi4AkAAAABgqHADQAAAAAC3GANAAAAAgGkFA0AAAAAgleQCQAAAAOBS9gJAAAAAIB4zA0AAAACAB/kCQAAAAKB3RwNAAAAAIGtRA0AAAABgqdUCQAAAAGBuUQNAAAAAoJAPA0AAAADgYzADQAAAAMDuZwNAAAAAwKOXA0AAAADAt64DQAAAAMDDMANAAAAAgHVMA0AAAAAAFycDQAAAAOBDmgNAAAAAgCbMAkAAAAAg6XADQAAAAKC30AJAAAAAQIONA0AAAAAABj4DQAAAAEABrQNAAAAAQPj9AkAAAACAmCcDQAAAAKDO1gJAAAAAgHPlAkAAAACAhAADQAAAAEDoMANAAAAA4M39AkAAAAAAQugCQAAAAACTKwNAAAAAgP3TAkAAAAAgUa0DQAAAAIDK+QJAAAAAwH4PA0AAAAAA2UQDQAAAAGCTSANAAAAAQBd9A0AAAAAgg6UCQAAAAMD4LANAAAAAIAEbA0AAAADAYQcDQAAAAAC3AANAAAAA4M4eA0AAAAAAIdUCQAAAAIC+KwNAAAAAQDISA0AAAABArncDQAAAAGByFwNAAAAAAMjuAkAAAADgveMCQAAAAMDPWANAAAAAQOFGA0AAAADgCMkCQAAAAMAlPANAAAAAoCfjAkAAAAAgrbUCQAAAAIBRRQNAAAAAYB8cA0AAAACg7UYDQAAAAIDo/gJAAAAA4L8SA0AAAABAku4CQAAAAMC6QgNAAAAA4JYAA0AAAAAAZMwCQAAAAEDgtAJAAAAAAEWBAkAAAABAvX4CQAAAACBHqQJAAAAAQCW7AkAAAAAA+EUDQAAAAAB3yQJAAAAAgK/pAkAAAADgNaUCQAAAAKAJ2AJAAAAAoKLHAkAAAAAA8zcDQAAAAMBKIANAAAAAAOm9AkAAAACA0f0CQAAAAGBgQQNAAAAAwI5tA0AAAADgHiwDQAAAAEDOqwNAAAAAQD4XA0AAAAAgZD0DQAAAAKADVgNAAAAAIEdwA0AAAADgYSQDQAAAAGAPeANAAAAAgGc2A0AAAAAASuECQAAAAKDLWgNAAAAAgN/7AkAAAADAkFsDQAAAAIDq6QJAAAAAgCjsAkAAAACgFNoCQAAAAIAjCANAAAAAgCmsAkAAAAAgP7cCQAAAAGD5ywJAAAAAQLECA0AAAADAj/cCQAAAAECJPwNAAAAAAEvJAkAAAADA+M0CQAAAAKBukAJAAAAAQDI7A0AAAADgdOYCQAAAACCNGANAAAAAQIHzAkAAAAAAe/UCQAAAAIBHygJAAAAAALccA0AAAADgZQsDQAAAAEAo0wJAAAAAYDLWAkAAAACgDp4CQAAAAIDx1AJAAAAAIL66AkAAAABA1vYCQAAAAEDp8wJAAAAAoKNOA0AAAAAgzjQDQAAAAIDymAJAAAAAgDrEAkAAAABgKiMDQAAAACAzJgNAAAAAIOP2AkAAAACgcAADQAAAACDBFwNAAAAAwAeUAkAAAADge0oDQAAAAGArBgNAAAAAwJruAkAAAAAg5gwDQAAAAKCjtAJAAAAAQJDKAkAAAADgZIUCQAAAAMCgEwNAAAAAAAIfA0AAAACAJgMDQAAAAEAx7AJAAAAAoK/JAkAAAACAGg8DQAAAAAD2mgJAAAAAgIzdAkAAAACgKcICQAAAAKAXzAJAAAAAYFvCAkAAAAAgZM0CQAAAAGBgxwJAAAAAwNQcA0AAAADgXL0CQAAAAADMhQJAAAAAwLe1AkAAAAAgK88CQAAAAIDH+gJAAAAAYFzAAkAAAACAKWkCQAAAAMBiVANAAAAAwLrDAkAAAADApccCQAAAAMC8iwJAAAAAoCYMA0AAAACAjOACQAAAAOAw2wJAAAAAILreAkAAAADgWuICQAAAAADsDwNAAAAA4IY9A0AAAAAgJXQCQAAAAEA+PQJAAAAA4AN0AkAAAADAXZUCQAAAAOC9gQJAAAAAIL42A0AAAADAycMCQAAAAGAROQNAAAAAwKSqAkAAAABgD4wCQAAAAIB1oAJAAAAAoHcOA0AAAAAgyLsCQAAAAGA4ewJAAAAAwLyhAkAAAACA2vICQAAAAGDNfAJAAAAAQAzUAkAAAADAhc4CQAAAAKBPeQJAAAAAYIj7AkAAAABgRyYDQAAAACDjogJAAAAA4IptAkAAAACg2uUCQAAAAMB6fwJAAAAAABVoAkAAAADAtOcCQAAAAADI1wJAAAAAQJx/AkAAAACghWsCQAAAACAQ9AJAAAAAoDGVAkAAAAAAUsgCQAAAAABKdQJAAAAAQBLRAkAAAADgxfUCQAAAAGAisAJAAAAAAI2ZAkAAAAAAs6wCQAAAAGBetAJAAAAAQAx8AkAAAABAiawCQAAAACCitAJAAAAA4H27AkAAAAAgMqECQAAAAODonwJAAAAAAE9jAkAAAADgTG8CQAAAAIBneAJAAAAAAOE8AkAAAACAHNsCQAAAAAA6igJAAAAAgN6jAkAAAACAnM0CQAAAAIASowJAAAAAwBE9AkAAAACAkmgCQAAAAGA0rAJAAAAAgGCfAkAAAACgvXYCQAAAAMApVwJAAAAAwJJQAkAAAACAP8MCQAAAACDAcAJAAAAAgPOxAkAAAABAxM4CQAAAAEDVswJAAAAAwK7vAkAAAADgGbICQAAAAAC+3wJAAAAAgFjAAkAAAABABV0CQAAAAEALjQJAAAAAQGKSAkAAAABANqUCQAAAAKDcogJAAAAAwMMuAkAAAADAItUCQAAAAAAiVQJAAAAAQOioAkAAAADAtXMCQAAAAGBAtgJAAAAAgG+kAkAAAADAIJkCQAAAAACd9QJAAAAA4NOWAkAAAACA5ocCQAAAAMAhcgJAAAAAwCv8AkAAAAAgwjcCQAAAAMBnfgJAAAAAYDyGAkAAAAAAE6gCQAAAAKAuPAJAAAAAAKp2AkAAAAAg45ECQAAAAICiTgJAAAAAQKSHAkAAAAAA48ICQAAAAEDWhQJAAAAAYDsfA0AAAAAAvp4CQAAAACDVhAJAAAAA4C3iAkAAAADA5qECQAAAAIBCAgJAAAAAgPSaAkAAAAAAWl0CQAAAAOAxggJAAAAA4N5/AkAAAACgLqwCQAAAAOBolwJAAAAAADWpAkAAAADg4k4CQAAAAGCMsAJAAAAAgHeKAkAAAAAAQ0ACQAAAAMAY6AJAAAAAoKiUAkAAAAAg8B8CQAAAAEBAVAJAAAAA4KBEAkAAAADge+4CQAAAAMCxnwJAAAAAABSxAkAAAACAvaoCQAAAAEDpWAJAAAAAoEttAkAAAAAgazgDQAAAAIC0jgJAAAAAYHFhAkAAAAAA7jADQAAAAODJJQJAAAAAIG5zAkAAAACgVMUCQAAAAMD3kgJAAAAAwOB0AkAAAABAb+sCQAAAAAD1BQJAAAAAQFEnAkAAAADAh0ACQAAAACCkVQJAAAAA4IOoAkAAAAAgBFwCQAAAAIDFogJAAAAAwJljAkAAAABgbMICQAAAAOD+0QJAAAAAYGesAkAAAADgZ5wCQAAAAAAPHgJA",
          "dtype": "f8"
         },
         "yaxis": "y2"
        },
        {
         "hovertemplate": "<b>Exponentially Weighted mean trendline</b><br><br>variable=batch_train_loss<br>step=%{x}<br>value=%{y} <b>(trend)</b><extra></extra>",
         "legendgroup": "",
         "line": {
          "color": "red"
         },
         "marker": {
          "color": "#636efa",
          "symbol": "circle"
         },
         "mode": "lines",
         "name": "",
         "showlegend": false,
         "type": "scattergl",
         "x": {
          "bdata": "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",
          "dtype": "i2"
         },
         "xaxis": "x2",
         "y": {
          "bdata": "AAAAwLMlB0CouGRIEBEHQE2I/i/QAQdA7BkprpPzBkB36peTAuQGQAWom5m01QZAZMp/9srHBkAN5HlqWrcGQACWMWjZqAZAnMlUtlyXBkDgc0+pW5UGQNtHulkQigZAmXitgQZ/BkBmvnySmXMGQOhwkgHEZQZAsLM562dbBkAwossDxlMGQJVh7xSrTAZAjswv2oRDBkCWj5aEXjoGQLn8YDizMwZASq22M9cpBkD3l6RCkSIGQCdZe2MXHgZAEwDjz4cXBkCmVHHSPRMGQE9rUUHgDAZAl6sXBZUHBkCGrQxhmP8FQAHTXd2U/AVAyMIQ00HxBUCPxyGJ2O4FQGqKCzRl6QVADoTpNXHmBUD76q3bh+AFQK42kG/c2gVA7tXGz9HTBUB9SR3oL88FQLR4+iUMyAVAFhqku/XDBUBUeMWal7oFQHrhSb87uQVAhJfVYQqzBUAfYfM5I60FQEJUCNpHpwVAzf5g95ilBUDIaXdJBKAFQLoIUoJhmQVAXyU+j3ORBUAAnDfyeYsFQIhU2D8GhQVA9Lg0k7V/BUA38yyNfHYFQJPc6gt7cgVAJaKRJXxsBUAjbxFDrGYFQL58BhCWZgVAswKM/DthBUCZPgx8DF0FQAKQ4UiTXAVAKxu+121ZBUC7nHw+FFUFQB8qsy4FUgVAD1OVxptKBUBQHDzrQUYFQDsKCy8mQQVAnzNit046BUC1oQjBrTYFQBMqwlPyNgVAz2tFqbAvBUBAw7tLeiwFQBWIUUu8JgVApUSBqCQlBUBhDFpvBB8FQPjGbGqVHQVAcv99Dd8fBUDCZvE7Zh0FQI1x4+MHGwVAzrZykjsWBUDi7TXGuRIFQKUdSWifEAVAmC/NBaUMBUC9SgtFNgwFQLIeVul6CAVAJ9/bvFIFBUAQVDFltAAFQNY8oKx8/wRAi+l+RQH/BEB4X33gnfoEQPXwQFre9wRA3yGUSEXxBEDEbBMISusEQD5uPDhg5gRAnX3Nw7bfBED27q+zLdoEQHW9v0kj1gRAXlTuV8fRBED2KpRhmdAEQIyCFGDzzwRAWj1e1OPMBEDaQZnjoMoEQMk2tfpVyARA3Gf7ZjnHBECYliE0qMUEQBK690quwwRA/2GfxqC/BEAND4rGx7gEQHWEg6zatQRA04ugU7SxBEDXgThVpq8EQJgRlwtWrARA9RoASHOnBEBWd6v6qaQEQBtYuf7qpARA/yujhoSnBEC+i9dgdKYEQOYKv3zYowRAncCNIauhBEDtHt6/EJ8EQGPgUKShngRAA0e6uVKfBED4qBpAWqEEQC7q1mMBoARAZe4jHMKdBECsfH1VTZ0EQP+UN/+KngRAGjivA3OcBEAyJqyfDZoEQIWihilPlwRAWOlvNpKVBECwuYCaaJMEQHXcx1tujwRA1V+HJiaKBEBo8pUX2IUEQMLMSNRAhQRArSTdo5KDBEDr2r4MYIIEQDrrQ+s6fARAxrMtItt5BECcdg5xbnkEQHyqZNUOeARAOr+nAF12BEANGVSP1XQEQOPtiAGYcwRA2W1ZkM1uBECBJLjN+WsEQCWwtveVaQRA5MrwF3lnBEBvCKFbf2gEQJqlSuenZQRA7AUzGZViBEDraxUQFWEEQEPlkZ9sYgRABQ7yxKxlBEA79i01x2IEQNQPG+NiYARA95gXJ5FcBEBJGTH+PFsEQLG4wajKWQRA7hv5h29VBEBccr3G/E8EQHobbeZgTARARHOFXtNNBEDcPoDLLlEEQBxw/l//TARAM2q2c3ZMBEBNdS0Nh0cEQFE2Hv4jRARAObq8q2FCBEDW4lQzUUAEQDVoKsViPwRAvDUxSq9ABEAQr5tWkj0EQNmr/CCvPQRA2aa0Dvg7BEDofdXhqzwEQD4xS2lvOwRALvReiPo6BEA9kM+UbjUEQCZzUyzzNgRAyYACNbQ0BEAqypbHEDEEQIuzSqIELARAIQzMTbMpBEAhN0fHcCcEQIGCr4J8IgRALKLGfcUiBEANpqsniCMEQPx3m73JJQRAkDoUB5siBEAHcBf2/SEEQLN0n9MdHwRAPnn8cgAfBEDDalV84B0EQKdWN9rrHgRAwt/ZZmQgBEBu/4voxh8EQG+k/OZuHgRAsd0SHfoeBEAU4heWJR0EQN++mZnsGQRANvCG1LoXBEBGrQnH+BIEQEM6/YWOEARAGatG1nsPBECKrd32bhAEQOEQn1n6DwRAhlcTe8oTBEBKHJ5rfRQEQBr5rT8xEwRAo0LPMn8RBED5uVP7CA0EQHpfow+NDARALzPZMSMKBEBaAibubgYEQF1oxYRRAQRA5DVYjlEABEAGLppljwEEQMXPQ9wZAgRAEyZAntEBBEDqTxijhAIEQLmpXuEdAgRA3ZFFOnEDBECwiTuoeQIEQIA93/p7/wNANz1kQGH9A0CaizM0fv0DQJ7tGBqc+QNAwocxuKf3A0DRl5uM3vYDQJa+XPxM+ANAQEob0lz4A0AoFCnmCPgDQDEgBT3D9ANA4vcsRi7zA0Ah8cyCvu8DQJKdwvuc8ANAyFJRwwDwA0DFpLhwufADQBtSWHi48ANALg+ly7HsA0ADaZg+c+sDQD4JjL2J6gNA//W36JznA0Cf5omJp+QDQB9duJGd5ANAZ3ZIPpLmA0Bg8IhreOQDQB9ZvfVF4QNA0QN0D3vjA0CsaKBo7uADQMV/NdiA4QNATtpJxiPgA0B+UPDxNt4DQH3/iI7Z3wNA7E4AqXbeA0AEYlBAFNwDQDGqtutU2QNAnESR/CbbA0CAP5c6ud4DQJabrrvC2wNAErVzbGXZA0ArCBP5zNkDQPPUPqCw2ANA7gG8rXPWA0D8cogcodADQF7HpiYAzwNAtYT82sjOA0AiFJ+uTc8DQHN0ApvPzQNA/VgGN5vOA0D1zQ2ktM8DQB8JauwtzQNAKmLMehnOA0BIwY1ZfswDQOgYN8NtyQNARhh8ezzJA0C2Mo3QRMcDQHSGsWrMygNAQP7yD8jLA0DJeXkjo8wDQIeX33GgzQNAUrxU/WzPA0Bn3uH+W8wDQG81mrUszANAFUkMfjfLA0CEUeb4qskDQDsXTDEqxwNADfsMQ7PGA0Ch3qzZF8MDQDl0zMotwwNAxTuOJznDA0DiQt5MNMEDQJvjiFFdwwNAr7lAFaa+A0BfcRWdUboDQHaUse+BvQNA3DqlqmW9A0A2C9X2AMADQNuutW0lwQNAKndbz5W8A0DCjoSD9bsDQLR4s1p+uwNA1QM3H+S6A0BQHzFWDr0DQIk6SuLEuwNAR9l9XXG6A0Cny0nN2LcDQH9abWfDtQNA+a0508KyA0An4g0UFrIDQFXeUrk4sANAvKYtRvquA0BA9jrxy7ADQNhs5nFesQNA5QTEX16wA0BfcHRmEa8DQMAc4FSQrQNANR1n3bavA0Bs73brC6wDQMA1V7D8pwNADA3sGg6pA0CDAoIMOKUDQMQMqsZWpgNAeUcRq/ylA0AEDCAUnaIDQBxRTBBqoANA9iDpyHWeA0Cl/1/WapwDQPTylFGsmwNAPMIg46yZA0Ap3wZv4psDQK6vLf1MmgNAXKWLCi2aA0Avq6RIxZgDQMK35wJVnANAJmF4qNOaA0BobuoczZYDQNLfzxuClANArunaVI6TA0AOZsqdpJEDQEYu6hBWjANA0zfVTl6PA0BQZZeKz48DQGoNy2AukgNA1WaUAoaQA0AiEQH//o8DQFluEK/mjQNA3Uh78SeMA0CIL8NUs4gDQHQtBcgtiQNAePJmHb6KA0CLEEjgmo0DQLaaazPTjANAPdPrKrSLA0AbbcNAoYwDQCo5+uEwiQNALcDRJcqGA0BCSiiFu38DQJpKUC/XgQNAuPBxujuAA0AAwfGHRIIDQD1/dPtJgANAmy3+P+aAA0B1mRSugYIDQMw43pzngQNAj1+7kwqCA0CwaVd87IEDQGhZ6DbagANAEqR/Xg6BA0CBNDWGTn8DQHJHBbFFfgNAXgAxl7B8A0AJBv4kAX0DQBRK8e8wfANAvt7yw8J7A0ABuHKer34DQChfPqetfANA0opKH816A0C3Sm6/QnsDQOT8HTmAdgNAs8Nd+1d2A0CITJ6FY3UDQIBRSV09cQNATO5ojQNvA0AiKNegRGsDQJSWpQP3aQNA45deMR5sA0ATBJXK8GsDQKS1CMrPagNAc+GBI8JqA0CmwK2Yd2gDQK/hsp7/ZQNAawwTDHdlA0DDqnyddGADQCXyxMOBYANA5Alm/R9gA0CgTFLZ5V8DQM6R8URHYANAcQZ6IzFeA0BERpnT+1sDQNJDPFWjXQNAtIMSiOBcA0DuF260314DQAv/iO1+XgNAIZjkI0dfA0CUnDirc2EDQLzYs2V/YQNANohqtmFlA0Drrlpv2mMDQExBuHCjYQNA1qKsxZNfA0DNsF3Bnl8DQHiWUTyEYQNA8j+fxTRgA0CAPTOfml8DQAZS5W+jYQNA4uMYi35fA0CSK5rn7F4DQPyR5Z1xXANAj9Xzf0lbA0BJRLJYyloDQPYZ09QjWwNA11f7MtRYA0CVHzF2jVMDQIgDNwo4VQNAug51IRhSA0DAHFWa51QDQLV7xEFsVQNAfMXeQ1pXA0AGwWd0XVoDQATjeIfLXANALjmbV6RZA0CIc7Rw4VoDQDMdFCpqXQNAiRwYNkVcA0CwghzQflkDQMaooPG9WANAbRl2nkdYA0Cob8VpnlUDQHf8GULgUQNA95Vt7x9RA0BG+uzQ+U4DQCJIJQukTANAYYM5/P9IA0AzXfXtLUsDQBKmgGtDTQNAvh/5yNRJA0CNwOIP70gDQB9K35wKTANAmQ+A8UZHA0AmMMaqnEgDQLO2GSERRwNAnNaQ8vJEA0BvIYMl10EDQOjAUIZnPwNAmttkDwI/A0Dck8ErwDwDQGIuYqsYPQNAfOqbfcA9A0DO5fLnZDoDQKQGpCUjOwNAvsjaUrs5A0AazRwubjkDQMiP1zLuOgNAkQMWzOs9A0AM1Z5Hj0EDQA+M0ZUEQQNAHqL9EGNBA0A7HSTniUADQF6bsN5uQwNAGVRU05U/A0CyB2coLUEDQFRuinaMPQNADzCmzyBAA0ASghxuD0ADQF2TFBqTQwNAyjrUTFRBA0AZq1fKf0ADQGsIfvoWPQNA6VvWQEM6A0Bl8eNjZjgDQGVHw4MoOANAdyB/n0Y2A0AGPkRYwjMDQHCjxcB+MwNA3mM9EWowA0C4x1uFcTQDQBVeVSqNMgNAYUsGq2sxA0C47x8ZDDIDQLd+rCPGMgNAjatH2is1A0BXiamBiTADQAJADxBsMANApySaMbsvA0Cty2H8bS4DQE+jXHj0LANACDb+pH8sA0CiIskjrikDQCTLBC+/KQNAOiexs/woA0D/bfCOhisDQKZ3+L7gKgNAks+8dvAoA0Dm1oIGtSYDQKu8b8pSKANAoTHQIE8pA0DT9HMWNCYDQGMfeU3pJgNAgJm9w7kkA0CuRzC2JCEDQH09YXJPIgNAsRoDWRwiA0CmUJBjTCMDQEk6WeAfIgNAdg2Y6KAhA0DrZz9G+x8DQOp6qTkaIQNAlmLlug0gA0DxhOTVWh0DQFYQ2wr8GQNA9jV26Q4VA0DhVGeRNRADQO/5vI3jDANAyoP3gkAKA0DNUAmoLQwDQMbCYrsGCgNAGbXzqPsIA0BK5Ty7wwUDQAsPdB1KBANAf3FvOlUCA0C1LL/+DwQDQEulwR35BANA8U8VRq4CA0BrNakehgIDQBqdBymNBANAU9XvTvAHA0BfvM8ZGwkDQBgPsq9aDgNAkJpyF6QOA0Cr1z0oJhADQN1ilxtnEgNAoyeLVW4VA0CYlJ/N6RUDQCE6OE4UGQNAk+UdeQYaA0AcMRTxMRgDQHIvd+5XGgNALnz/TVwZA0DD2VoHfxsDQG7foZflGQNAU/cw4WsYA0BkkKIQaRYDQIZiQjXzFQNAMa7DmokSA0B/kNW3lw8DQAQJ51FpDQNAfRkyzRANA0AN2B84XwwDQJQygrwFDgNA9QMKKs4LA0BLyraJzwkDQD+Cly/lBQNANJdpWZ0HA0CEMAuHiwYDQNm/ZTkgBwNAXR9aMX4GA0Cfh+Oz8QUDQOJcifwEBANADO8h7NAEA0A/epRGBwUDQHpGqG9rAwNAr+iJ+/UBA0A6oJX4vP4CQHluqdNj/QJAA9gGcz37AkDyvIoWGfsCQJteCr3d+gJA3mmOipH9AkBN8miwWf8CQB6ZrwkM/AJApY7CFT/6AkChjGH/kPsCQM4n8xDx/AJADW1vEb/8AkAYtueR3fwCQB5Ev567/QJAY9SXuFL6AkCoXJux6PwCQBtv2Co1/QJAJOjAkrz8AkCJQ+wKQv0CQMzLDVrq+gJAAvnjDlv5AkBPUXlwnfUCQCXHv0mV9gJAOH8UHuP3AkDiJD0hQPgCQOP9lY3c9wJAoVeZO1/2AkCMsJx3K/cCQKDkIwAy9AJAGqwB/HbzAkC8jQHY3/ECQAMBM9an8AJAfDTOfynvAkBJQb+dEu4CQMgzXg/T7AJAq7trgF/uAkDNfpHFyuwCQNTSEDt46QJA68ZB3MznAkBAVxZzAecCQAaT072k5wJAcPCzV2DmAkA/ir5QVuICQOQBySIE5gJATPKQ/ujkAkD99GJX9+MCQDqR270e4QJAHL67F4LiAkAIZYzpceICQE67AwI24gJAbs3JPBniAkAaz9NaG+ICQFJ9vLKV4wJAz9EhcnzmAkAkDK01zOICQL7itwx13QJAZg5XTQ7aAkBBX/kO19cCQGlpdQ0Q1QJACt43szbYAkAeDjYGjtcCQIMZLEuz2gJASxv5bybZAkCb8I3SqdYCQGTz/DLq1AJA3reReMXWAkAejr6W5tUCQIzCRL750gJAStBrIWPRAkDlkk9/d9ICQE8j8hK0zwJAAfFd89fPAkBg8XsKzc8CQE4cPs0CzQJAJmFE+4LOAkAc0LXEV9ECQNlifiLYzwJAbbMnWqzMAkDPXORLfM0CQC3IFh74ygJA2w03gMfHAkCuF28nz8gCQP68UstKyQJAMEc3U+rGAkCS3MGX98MCQLtLccWExQJAH/S3s/XDAkA35C22GcQCQKXQ2eGOwQJAWICp/Q7CAkAusDgNusMCQJupcEEYwwJALh7QLsHBAkC7yVVOE8ECQPXKa1+qwAJAvQM/uXO+AkDl4dnF370CQPmwLXaTvQJAzR7JP4K9AkALBE9wmLwCQFSPr4yruwJAyGa62tG4AkB1q925crYCQKMXKV1ytAJAjvoO95awAkD7HIIc9rECQIZtjvqtsAJAvsxoMESwAkBito6FNrECQMlEL7/BsAJAAUhfZAatAkC22PAa0aoCQI8LyJDcqgJA3siHuX2qAkAnPd5d0qgCQOjmMQYwpgJAlTjuA22jAkBoWCDOc6QCQCKGBtnIogJA7Nw3GEajAkCHtcpCraQCQED6/WsqpQJARm+KyZGnAkA11wHC6KcCQObphdS1qQJA6slHwXCqAkB6iIdq8acCQBYQIEgTpwJAlDjlaGimAkAgw5uIXqYCQNr+npFBpgJACnHszGaiAkDNpz/ECaQCQErbRSl+oQJAlv3PY7uhAkB2JkVWP6ACQKTrQgz1oAJA4h2sxRGhAkDXHNgw0KACQIRWl3mMowJAQehgbCOjAkASEod9QqICQFUZDwy1oAJAqKUvXKijAkDvjvxRLaACQL0/T24WnwJAl6AKNEmeAkD3ihIJmp4CQIFcv0dtmwJAHLTJsD2aAkCZGWC0+JkCQBpSp5GKlwJAZHCyRAeXAkDNhQd0cZgCQOWRMM3XlwJAjwEv2jWcAkBLGqHCSpwCQPittAeJmwJA8Y+FadCdAkB7MD8q8p0CQKL8l3/smAJA+uPMRf2YAkCFga3HEJcCQIumn21klgJAdi1QcaqVAkBwl01iZJYCQAJhdMlslgJAHAP94weXAkDghqodtJQCQAswSg+alQJAKgUvGz6VAkB2/BxUgJICQMCZTS5DlQJARoT4MT6VAkA0sbZ7dZECQE+rLAZ8jwJAMBmn2xGNAkAY52dPNpACQM9jvym2kAJAYTe5csGRAkD6f7vFj5ICQNf/5rCzkAJA7aRCTY+PAkBGyWm/AZUCQBcNHLXNlAJAyfNUkSWTAkA1y6SMPJgCQHblTG6LlAJAIGIp+HmTAkAlwv6qFZUCQAJAzS8ElQJAoTUZyfqTAkBdfnv+zJYCQGDEf90gkgJAdRAp0K6OAkAB1opsKYwCQOVKRDBnigJAp8wY21+LAkCynIvE2IkCQNY8C5mmigJAwvhtHmSJAkBrZEkYO4sCQAFZkXmDjQJAr2aEkYKOAkBKAPxR9Y4CQLxSwvxQiwJA",
          "dtype": "f8"
         },
         "yaxis": "y2"
        },
        {
         "hovertemplate": "variable=batch_accuracy<br>step=%{x}<br>value=%{y}<extra></extra>",
         "legendgroup": "",
         "marker": {
          "color": "#636efa",
          "symbol": "circle"
         },
         "mode": "markers",
         "name": "",
         "showlegend": false,
         "type": "scattergl",
         "x": {
          "bdata": "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",
          "dtype": "i2"
         },
         "xaxis": "x",
         "y": {
          "bdata": "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",
          "dtype": "f8"
         },
         "yaxis": "y"
        },
        {
         "hovertemplate": "<b>Exponentially Weighted mean trendline</b><br><br>variable=batch_accuracy<br>step=%{x}<br>value=%{y} <b>(trend)</b><extra></extra>",
         "legendgroup": "",
         "line": {
          "color": "red"
         },
         "marker": {
          "color": "#636efa",
          "symbol": "circle"
         },
         "mode": "lines",
         "name": "",
         "showlegend": false,
         "type": "scattergl",
         "x": {
          "bdata": "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",
          "dtype": "i2"
         },
         "xaxis": "x",
         "y": {
          "bdata": "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",
          "dtype": "f8"
         },
         "yaxis": "y"
        }
       ],
       "layout": {
        "annotations": [
         {
          "font": {},
          "showarrow": false,
          "text": "variable=batch_accuracy",
          "textangle": 90,
          "x": 0.98,
          "xanchor": "left",
          "xref": "paper",
          "y": 0.2425,
          "yanchor": "middle",
          "yref": "paper"
         },
         {
          "font": {},
          "showarrow": false,
          "text": "variable=batch_train_loss",
          "textangle": 90,
          "x": 0.98,
          "xanchor": "left",
          "xref": "paper",
          "y": 0.7575000000000001,
          "yanchor": "middle",
          "yref": "paper"
         }
        ],
        "legend": {
         "tracegroupgap": 0
        },
        "template": {
         "data": {
          "bar": [
           {
            "error_x": {
             "color": "#2a3f5f"
            },
            "error_y": {
             "color": "#2a3f5f"
            },
            "marker": {
             "line": {
              "color": "#E5ECF6",
              "width": 0.5
             },
             "pattern": {
              "fillmode": "overlay",
              "size": 10,
              "solidity": 0.2
             }
            },
            "type": "bar"
           }
          ],
          "barpolar": [
           {
            "marker": {
             "line": {
              "color": "#E5ECF6",
              "width": 0.5
             },
             "pattern": {
              "fillmode": "overlay",
              "size": 10,
              "solidity": 0.2
             }
            },
            "type": "barpolar"
           }
          ],
          "carpet": [
           {
            "aaxis": {
             "endlinecolor": "#2a3f5f",
             "gridcolor": "white",
             "linecolor": "white",
             "minorgridcolor": "white",
             "startlinecolor": "#2a3f5f"
            },
            "baxis": {
             "endlinecolor": "#2a3f5f",
             "gridcolor": "white",
             "linecolor": "white",
             "minorgridcolor": "white",
             "startlinecolor": "#2a3f5f"
            },
            "type": "carpet"
           }
          ],
          "choropleth": [
           {
            "colorbar": {
             "outlinewidth": 0,
             "ticks": ""
            },
            "type": "choropleth"
           }
          ],
          "contour": [
           {
            "colorbar": {
             "outlinewidth": 0,
             "ticks": ""
            },
            "colorscale": [
             [
              0,
              "#0d0887"
             ],
             [
              0.1111111111111111,
              "#46039f"
             ],
             [
              0.2222222222222222,
              "#7201a8"
             ],
             [
              0.3333333333333333,
              "#9c179e"
             ],
             [
              0.4444444444444444,
              "#bd3786"
             ],
             [
              0.5555555555555556,
              "#d8576b"
             ],
             [
              0.6666666666666666,
              "#ed7953"
             ],
             [
              0.7777777777777778,
              "#fb9f3a"
             ],
             [
              0.8888888888888888,
              "#fdca26"
             ],
             [
              1,
              "#f0f921"
             ]
            ],
            "type": "contour"
           }
          ],
          "contourcarpet": [
           {
            "colorbar": {
             "outlinewidth": 0,
             "ticks": ""
            },
            "type": "contourcarpet"
           }
          ],
          "heatmap": [
           {
            "colorbar": {
             "outlinewidth": 0,
             "ticks": ""
            },
            "colorscale": [
             [
              0,
              "#0d0887"
             ],
             [
              0.1111111111111111,
              "#46039f"
             ],
             [
              0.2222222222222222,
              "#7201a8"
             ],
             [
              0.3333333333333333,
              "#9c179e"
             ],
             [
              0.4444444444444444,
              "#bd3786"
             ],
             [
              0.5555555555555556,
              "#d8576b"
             ],
             [
              0.6666666666666666,
              "#ed7953"
             ],
             [
              0.7777777777777778,
              "#fb9f3a"
             ],
             [
              0.8888888888888888,
              "#fdca26"
             ],
             [
              1,
              "#f0f921"
             ]
            ],
            "type": "heatmap"
           }
          ],
          "histogram": [
           {
            "marker": {
             "pattern": {
              "fillmode": "overlay",
              "size": 10,
              "solidity": 0.2
             }
            },
            "type": "histogram"
           }
          ],
          "histogram2d": [
           {
            "colorbar": {
             "outlinewidth": 0,
             "ticks": ""
            },
            "colorscale": [
             [
              0,
              "#0d0887"
             ],
             [
              0.1111111111111111,
              "#46039f"
             ],
             [
              0.2222222222222222,
              "#7201a8"
             ],
             [
              0.3333333333333333,
              "#9c179e"
             ],
             [
              0.4444444444444444,
              "#bd3786"
             ],
             [
              0.5555555555555556,
              "#d8576b"
             ],
             [
              0.6666666666666666,
              "#ed7953"
             ],
             [
              0.7777777777777778,
              "#fb9f3a"
             ],
             [
              0.8888888888888888,
              "#fdca26"
             ],
             [
              1,
              "#f0f921"
             ]
            ],
            "type": "histogram2d"
           }
          ],
          "histogram2dcontour": [
           {
            "colorbar": {
             "outlinewidth": 0,
             "ticks": ""
            },
            "colorscale": [
             [
              0,
              "#0d0887"
             ],
             [
              0.1111111111111111,
              "#46039f"
             ],
             [
              0.2222222222222222,
              "#7201a8"
             ],
             [
              0.3333333333333333,
              "#9c179e"
             ],
             [
              0.4444444444444444,
              "#bd3786"
             ],
             [
              0.5555555555555556,
              "#d8576b"
             ],
             [
              0.6666666666666666,
              "#ed7953"
             ],
             [
              0.7777777777777778,
              "#fb9f3a"
             ],
             [
              0.8888888888888888,
              "#fdca26"
             ],
             [
              1,
              "#f0f921"
             ]
            ],
            "type": "histogram2dcontour"
           }
          ],
          "mesh3d": [
           {
            "colorbar": {
             "outlinewidth": 0,
             "ticks": ""
            },
            "type": "mesh3d"
           }
          ],
          "parcoords": [
           {
            "line": {
             "colorbar": {
              "outlinewidth": 0,
              "ticks": ""
             }
            },
            "type": "parcoords"
           }
          ],
          "pie": [
           {
            "automargin": true,
            "type": "pie"
           }
          ],
          "scatter": [
           {
            "fillpattern": {
             "fillmode": "overlay",
             "size": 10,
             "solidity": 0.2
            },
            "type": "scatter"
           }
          ],
          "scatter3d": [
           {
            "line": {
             "colorbar": {
              "outlinewidth": 0,
              "ticks": ""
             }
            },
            "marker": {
             "colorbar": {
              "outlinewidth": 0,
              "ticks": ""
             }
            },
            "type": "scatter3d"
           }
          ],
          "scattercarpet": [
           {
            "marker": {
             "colorbar": {
              "outlinewidth": 0,
              "ticks": ""
             }
            },
            "type": "scattercarpet"
           }
          ],
          "scattergeo": [
           {
            "marker": {
             "colorbar": {
              "outlinewidth": 0,
              "ticks": ""
             }
            },
            "type": "scattergeo"
           }
          ],
          "scattergl": [
           {
            "marker": {
             "colorbar": {
              "outlinewidth": 0,
              "ticks": ""
             }
            },
            "type": "scattergl"
           }
          ],
          "scattermap": [
           {
            "marker": {
             "colorbar": {
              "outlinewidth": 0,
              "ticks": ""
             }
            },
            "type": "scattermap"
           }
          ],
          "scattermapbox": [
           {
            "marker": {
             "colorbar": {
              "outlinewidth": 0,
              "ticks": ""
             }
            },
            "type": "scattermapbox"
           }
          ],
          "scatterpolar": [
           {
            "marker": {
             "colorbar": {
              "outlinewidth": 0,
              "ticks": ""
             }
            },
            "type": "scatterpolar"
           }
          ],
          "scatterpolargl": [
           {
            "marker": {
             "colorbar": {
              "outlinewidth": 0,
              "ticks": ""
             }
            },
            "type": "scatterpolargl"
           }
          ],
          "scatterternary": [
           {
            "marker": {
             "colorbar": {
              "outlinewidth": 0,
              "ticks": ""
             }
            },
            "type": "scatterternary"
           }
          ],
          "surface": [
           {
            "colorbar": {
             "outlinewidth": 0,
             "ticks": ""
            },
            "colorscale": [
             [
              0,
              "#0d0887"
             ],
             [
              0.1111111111111111,
              "#46039f"
             ],
             [
              0.2222222222222222,
              "#7201a8"
             ],
             [
              0.3333333333333333,
              "#9c179e"
             ],
             [
              0.4444444444444444,
              "#bd3786"
             ],
             [
              0.5555555555555556,
              "#d8576b"
             ],
             [
              0.6666666666666666,
              "#ed7953"
             ],
             [
              0.7777777777777778,
              "#fb9f3a"
             ],
             [
              0.8888888888888888,
              "#fdca26"
             ],
             [
              1,
              "#f0f921"
             ]
            ],
            "type": "surface"
           }
          ],
          "table": [
           {
            "cells": {
             "fill": {
              "color": "#EBF0F8"
             },
             "line": {
              "color": "white"
             }
            },
            "header": {
             "fill": {
              "color": "#C8D4E3"
             },
             "line": {
              "color": "white"
             }
            },
            "type": "table"
           }
          ]
         },
         "layout": {
          "annotationdefaults": {
           "arrowcolor": "#2a3f5f",
           "arrowhead": 0,
           "arrowwidth": 1
          },
          "autotypenumbers": "strict",
          "coloraxis": {
           "colorbar": {
            "outlinewidth": 0,
            "ticks": ""
           }
          },
          "colorscale": {
           "diverging": [
            [
             0,
             "#8e0152"
            ],
            [
             0.1,
             "#c51b7d"
            ],
            [
             0.2,
             "#de77ae"
            ],
            [
             0.3,
             "#f1b6da"
            ],
            [
             0.4,
             "#fde0ef"
            ],
            [
             0.5,
             "#f7f7f7"
            ],
            [
             0.6,
             "#e6f5d0"
            ],
            [
             0.7,
             "#b8e186"
            ],
            [
             0.8,
             "#7fbc41"
            ],
            [
             0.9,
             "#4d9221"
            ],
            [
             1,
             "#276419"
            ]
           ],
           "sequential": [
            [
             0,
             "#0d0887"
            ],
            [
             0.1111111111111111,
             "#46039f"
            ],
            [
             0.2222222222222222,
             "#7201a8"
            ],
            [
             0.3333333333333333,
             "#9c179e"
            ],
            [
             0.4444444444444444,
             "#bd3786"
            ],
            [
             0.5555555555555556,
             "#d8576b"
            ],
            [
             0.6666666666666666,
             "#ed7953"
            ],
            [
             0.7777777777777778,
             "#fb9f3a"
            ],
            [
             0.8888888888888888,
             "#fdca26"
            ],
            [
             1,
             "#f0f921"
            ]
           ],
           "sequentialminus": [
            [
             0,
             "#0d0887"
            ],
            [
             0.1111111111111111,
             "#46039f"
            ],
            [
             0.2222222222222222,
             "#7201a8"
            ],
            [
             0.3333333333333333,
             "#9c179e"
            ],
            [
             0.4444444444444444,
             "#bd3786"
            ],
            [
             0.5555555555555556,
             "#d8576b"
            ],
            [
             0.6666666666666666,
             "#ed7953"
            ],
            [
             0.7777777777777778,
             "#fb9f3a"
            ],
            [
             0.8888888888888888,
             "#fdca26"
            ],
            [
             1,
             "#f0f921"
            ]
           ]
          },
          "colorway": [
           "#636efa",
           "#EF553B",
           "#00cc96",
           "#ab63fa",
           "#FFA15A",
           "#19d3f3",
           "#FF6692",
           "#B6E880",
           "#FF97FF",
           "#FECB52"
          ],
          "font": {
           "color": "#2a3f5f"
          },
          "geo": {
           "bgcolor": "white",
           "lakecolor": "white",
           "landcolor": "#E5ECF6",
           "showlakes": true,
           "showland": true,
           "subunitcolor": "white"
          },
          "hoverlabel": {
           "align": "left"
          },
          "hovermode": "closest",
          "mapbox": {
           "style": "light"
          },
          "paper_bgcolor": "white",
          "plot_bgcolor": "#E5ECF6",
          "polar": {
           "angularaxis": {
            "gridcolor": "white",
            "linecolor": "white",
            "ticks": ""
           },
           "bgcolor": "#E5ECF6",
           "radialaxis": {
            "gridcolor": "white",
            "linecolor": "white",
            "ticks": ""
           }
          },
          "scene": {
           "xaxis": {
            "backgroundcolor": "#E5ECF6",
            "gridcolor": "white",
            "gridwidth": 2,
            "linecolor": "white",
            "showbackground": true,
            "ticks": "",
            "zerolinecolor": "white"
           },
           "yaxis": {
            "backgroundcolor": "#E5ECF6",
            "gridcolor": "white",
            "gridwidth": 2,
            "linecolor": "white",
            "showbackground": true,
            "ticks": "",
            "zerolinecolor": "white"
           },
           "zaxis": {
            "backgroundcolor": "#E5ECF6",
            "gridcolor": "white",
            "gridwidth": 2,
            "linecolor": "white",
            "showbackground": true,
            "ticks": "",
            "zerolinecolor": "white"
           }
          },
          "shapedefaults": {
           "line": {
            "color": "#2a3f5f"
           }
          },
          "ternary": {
           "aaxis": {
            "gridcolor": "white",
            "linecolor": "white",
            "ticks": ""
           },
           "baxis": {
            "gridcolor": "white",
            "linecolor": "white",
            "ticks": ""
           },
           "bgcolor": "#E5ECF6",
           "caxis": {
            "gridcolor": "white",
            "linecolor": "white",
            "ticks": ""
           }
          },
          "title": {
           "x": 0.05
          },
          "xaxis": {
           "automargin": true,
           "gridcolor": "white",
           "linecolor": "white",
           "ticks": "",
           "title": {
            "standoff": 15
           },
           "zerolinecolor": "white",
           "zerolinewidth": 2
          },
          "yaxis": {
           "automargin": true,
           "gridcolor": "white",
           "linecolor": "white",
           "ticks": "",
           "title": {
            "standoff": 15
           },
           "zerolinecolor": "white",
           "zerolinewidth": 2
          }
         }
        },
        "title": {
         "text": "batch metrics"
        },
        "xaxis": {
         "anchor": "y",
         "domain": [
          0,
          0.98
         ],
         "title": {
          "text": "step"
         }
        },
        "xaxis2": {
         "anchor": "y2",
         "domain": [
          0,
          0.98
         ],
         "matches": "x",
         "showticklabels": false
        },
        "yaxis": {
         "anchor": "x",
         "domain": [
          0,
          0.485
         ],
         "title": {
          "text": "value"
         }
        },
        "yaxis2": {
         "anchor": "x2",
         "domain": [
          0.515,
          1
         ],
         "title": {
          "text": "value"
         }
        }
       }
      }
     },
     "metadata": {},
     "output_type": "display_data"
    },
    {
     "data": {
      "application/vnd.plotly.v1+json": {
       "config": {
        "plotlyServerURL": "https://plot.ly"
       },
       "data": [
        {
         "hovertemplate": "variable=train_epoch_loss<br>step=%{x}<br>value=%{y}<extra></extra>",
         "legendgroup": "train_epoch_loss",
         "line": {
          "color": "#636efa",
          "dash": "solid"
         },
         "marker": {
          "symbol": "circle"
         },
         "mode": "lines",
         "name": "train_epoch_loss",
         "orientation": "v",
         "showlegend": true,
         "type": "scatter",
         "x": {
          "bdata": "GQAzAE0AZwCBAJsAtQDPAOkAAwEdATcBUQFrAYUBnwG5AdMB7QEHAiECOwJVAm8CiQKjAr0C1wLxAgsD",
          "dtype": "i2"
         },
         "xaxis": "x4",
         "y": {
          "bdata": "dmIn1vErBkA7sRNb9k0FQBQ7sROa3wRAO7ETm0KPBECe2IkNEHAEQBQ7sZN7NwRAsRM7kdEOBEDsxE5cyPsDQLETO1FD3gNAntiJfWDMA0DFTux0yrgDQAAAAGBfngNAYid28p+GA0AndmLXcXEDQIqd2JlXXwNAsRM78UhUA0DsxE7MWkgDQOzETtyiMANAntiJvegmA0A7sRNrMxQDQOzETtyIBANA2Ymd2Lf3AkAUO7FDA+0CQDuxE6uP0gJA2YmdOBfEAkB2YidGT6cCQGIndpJBlgJAO7ET6xyPAkAAAAAQWo4CQCd2YrfXiAJA",
          "dtype": "f8"
         },
         "yaxis": "y4"
        },
        {
         "hovertemplate": "variable=train_epoch_accuracy<br>step=%{x}<br>value=%{y}<extra></extra>",
         "legendgroup": "train_epoch_accuracy",
         "line": {
          "color": "#EF553B",
          "dash": "solid"
         },
         "marker": {
          "symbol": "circle"
         },
         "mode": "lines",
         "name": "train_epoch_accuracy",
         "orientation": "v",
         "showlegend": true,
         "type": "scatter",
         "x": {
          "bdata": "GQAzAE0AZwCBAJsAtQDPAOkAAwEdATcBUQFrAYUBnwG5AdMB7QEHAiECOwJVAm8CiQKjAr0C1wLxAgsD",
          "dtype": "i2"
         },
         "xaxis": "x3",
         "y": {
          "bdata": "4scEJiJ0yz/VPhhT9mzUP3fEMjKP5tc/JWNRDbNj2j8nGYtqmF3bP0sa0bseYt0/WSosnIS73j9gFGVIZDffP9mXevP9EeA/FuMNVqxm4D+idz3EJLXgPw+4tyLXHuE/8X+8SPly4T8SbvF/vNjhP2xzusozEeI/WhOmZetM4j/fH6jjsH7iP6ckzgXl1OI/4vGbdn4B4z/EneZmuDzjP3WVZ+LjfuM/YJvTVZ7J4z9pvYBtTtfjP66s+/WXUeQ/8lpZ9+uP5D93qHj8pu3kP5B0ABy6NeU/IjSGvQdM5T+XuxCFd1blP75ykDPjdOU/",
          "dtype": "f8"
         },
         "yaxis": "y3"
        },
        {
         "hovertemplate": "variable=validation_loss<br>step=%{x}<br>value=%{y}<extra></extra>",
         "legendgroup": "validation_loss",
         "line": {
          "color": "#00cc96",
          "dash": "solid"
         },
         "marker": {
          "symbol": "circle"
         },
         "mode": "lines",
         "name": "validation_loss",
         "orientation": "v",
         "showlegend": true,
         "type": "scatter",
         "x": {
          "bdata": "GQAzAE0AZwCBAJsAtQDPAOkAAwEdATcBUQFrAYUBnwG5AdMB7QEHAiECOwJVAm8CiQKjAr0C1wLxAgsD",
          "dtype": "i2"
         },
         "xaxis": "x2",
         "y": {
          "bdata": "kiRJ8rK5BUAlSZLElzAFQNu2bbuL/QRASZIkSbnhBECSJEky0OAEQAAAAMAezARAJUmSZNm8BEAlSZIEF8IEQG7btm0c0gRA27Zt22rhBEAlSZLkTugEQLdt2za+2ARAAAAAYKizBEAlSZLkE8MEQNu2bTuUzgRASZIk6czsBEC3bdv2GMIEQG7bts1mygRAkiRJctzlBEAAAAAg38sEQEmSJCk5ygRAbtu2zWy7BEDbtm2b0vcEQG7bts3rtARAkiRJMjS6BEAlSZLk3qEEQJIkSdJzxARAAAAAwIOvBEC3bduWQbkEQEmSJMms0gRA",
          "dtype": "f8"
         },
         "yaxis": "y2"
        },
        {
         "hovertemplate": "variable=validation_accuracy<br>step=%{x}<br>value=%{y}<extra></extra>",
         "legendgroup": "validation_accuracy",
         "line": {
          "color": "#ab63fa",
          "dash": "solid"
         },
         "marker": {
          "symbol": "circle"
         },
         "mode": "lines",
         "name": "validation_accuracy",
         "orientation": "v",
         "showlegend": true,
         "type": "scatter",
         "x": {
          "bdata": "GQAzAE0AZwCBAJsAtQDPAOkAAwEdATcBUQFrAYUBnwG5AdMB7QEHAiECOwJVAm8CiQKjAr0C1wLxAgsD",
          "dtype": "i2"
         },
         "xaxis": "x",
         "y": {
          "bdata": "NNaHxvoQ0j96nud5nmfVP01c6d6A8tY/GutDY32o1z8NwzAMw3DXPxHy1+yoxdg/yF+zoxbh2D9Si5C/ZsfYPxrrQ2N9KNg/VlVVVVWV1z/+mh21CDnXP7UI+Wt21Nc/caV7A8pE2T96nud5nmfYP3qe53meJ9g/IuSv2VFL1z+xPjTWh8bYP3/NjlqE/Nc/a3bUIuTv1j9WVVVVVRXYP9FYHxrrQ9g/f82OWoT82D+1CPlrdtTWPxchf82Omtk/jfWhsT602D9ahPw1O2rZP1ZVVVVVVdg/DcMwDMMw2T82O2oR8hfZP9lRi5C/ptc/",
          "dtype": "f8"
         },
         "yaxis": "y"
        }
       ],
       "layout": {
        "annotations": [
         {
          "font": {},
          "showarrow": false,
          "text": "variable=validation_accuracy",
          "textangle": 90,
          "x": 0.98,
          "xanchor": "left",
          "xref": "paper",
          "y": 0.11375,
          "yanchor": "middle",
          "yref": "paper"
         },
         {
          "font": {},
          "showarrow": false,
          "text": "variable=validation_loss",
          "textangle": 90,
          "x": 0.98,
          "xanchor": "left",
          "xref": "paper",
          "y": 0.37124999999999997,
          "yanchor": "middle",
          "yref": "paper"
         },
         {
          "font": {},
          "showarrow": false,
          "text": "variable=train_epoch_accuracy",
          "textangle": 90,
          "x": 0.98,
          "xanchor": "left",
          "xref": "paper",
          "y": 0.62875,
          "yanchor": "middle",
          "yref": "paper"
         },
         {
          "font": {},
          "showarrow": false,
          "text": "variable=train_epoch_loss",
          "textangle": 90,
          "x": 0.98,
          "xanchor": "left",
          "xref": "paper",
          "y": 0.88625,
          "yanchor": "middle",
          "yref": "paper"
         }
        ],
        "legend": {
         "title": {
          "text": "variable"
         },
         "tracegroupgap": 0
        },
        "template": {
         "data": {
          "bar": [
           {
            "error_x": {
             "color": "#2a3f5f"
            },
            "error_y": {
             "color": "#2a3f5f"
            },
            "marker": {
             "line": {
              "color": "#E5ECF6",
              "width": 0.5
             },
             "pattern": {
              "fillmode": "overlay",
              "size": 10,
              "solidity": 0.2
             }
            },
            "type": "bar"
           }
          ],
          "barpolar": [
           {
            "marker": {
             "line": {
              "color": "#E5ECF6",
              "width": 0.5
             },
             "pattern": {
              "fillmode": "overlay",
              "size": 10,
              "solidity": 0.2
             }
            },
            "type": "barpolar"
           }
          ],
          "carpet": [
           {
            "aaxis": {
             "endlinecolor": "#2a3f5f",
             "gridcolor": "white",
             "linecolor": "white",
             "minorgridcolor": "white",
             "startlinecolor": "#2a3f5f"
            },
            "baxis": {
             "endlinecolor": "#2a3f5f",
             "gridcolor": "white",
             "linecolor": "white",
             "minorgridcolor": "white",
             "startlinecolor": "#2a3f5f"
            },
            "type": "carpet"
           }
          ],
          "choropleth": [
           {
            "colorbar": {
             "outlinewidth": 0,
             "ticks": ""
            },
            "type": "choropleth"
           }
          ],
          "contour": [
           {
            "colorbar": {
             "outlinewidth": 0,
             "ticks": ""
            },
            "colorscale": [
             [
              0,
              "#0d0887"
             ],
             [
              0.1111111111111111,
              "#46039f"
             ],
             [
              0.2222222222222222,
              "#7201a8"
             ],
             [
              0.3333333333333333,
              "#9c179e"
             ],
             [
              0.4444444444444444,
              "#bd3786"
             ],
             [
              0.5555555555555556,
              "#d8576b"
             ],
             [
              0.6666666666666666,
              "#ed7953"
             ],
             [
              0.7777777777777778,
              "#fb9f3a"
             ],
             [
              0.8888888888888888,
              "#fdca26"
             ],
             [
              1,
              "#f0f921"
             ]
            ],
            "type": "contour"
           }
          ],
          "contourcarpet": [
           {
            "colorbar": {
             "outlinewidth": 0,
             "ticks": ""
            },
            "type": "contourcarpet"
           }
          ],
          "heatmap": [
           {
            "colorbar": {
             "outlinewidth": 0,
             "ticks": ""
            },
            "colorscale": [
             [
              0,
              "#0d0887"
             ],
             [
              0.1111111111111111,
              "#46039f"
             ],
             [
              0.2222222222222222,
              "#7201a8"
             ],
             [
              0.3333333333333333,
              "#9c179e"
             ],
             [
              0.4444444444444444,
              "#bd3786"
             ],
             [
              0.5555555555555556,
              "#d8576b"
             ],
             [
              0.6666666666666666,
              "#ed7953"
             ],
             [
              0.7777777777777778,
              "#fb9f3a"
             ],
             [
              0.8888888888888888,
              "#fdca26"
             ],
             [
              1,
              "#f0f921"
             ]
            ],
            "type": "heatmap"
           }
          ],
          "histogram": [
           {
            "marker": {
             "pattern": {
              "fillmode": "overlay",
              "size": 10,
              "solidity": 0.2
             }
            },
            "type": "histogram"
           }
          ],
          "histogram2d": [
           {
            "colorbar": {
             "outlinewidth": 0,
             "ticks": ""
            },
            "colorscale": [
             [
              0,
              "#0d0887"
             ],
             [
              0.1111111111111111,
              "#46039f"
             ],
             [
              0.2222222222222222,
              "#7201a8"
             ],
             [
              0.3333333333333333,
              "#9c179e"
             ],
             [
              0.4444444444444444,
              "#bd3786"
             ],
             [
              0.5555555555555556,
              "#d8576b"
             ],
             [
              0.6666666666666666,
              "#ed7953"
             ],
             [
              0.7777777777777778,
              "#fb9f3a"
             ],
             [
              0.8888888888888888,
              "#fdca26"
             ],
             [
              1,
              "#f0f921"
             ]
            ],
            "type": "histogram2d"
           }
          ],
          "histogram2dcontour": [
           {
            "colorbar": {
             "outlinewidth": 0,
             "ticks": ""
            },
            "colorscale": [
             [
              0,
              "#0d0887"
             ],
             [
              0.1111111111111111,
              "#46039f"
             ],
             [
              0.2222222222222222,
              "#7201a8"
             ],
             [
              0.3333333333333333,
              "#9c179e"
             ],
             [
              0.4444444444444444,
              "#bd3786"
             ],
             [
              0.5555555555555556,
              "#d8576b"
             ],
             [
              0.6666666666666666,
              "#ed7953"
             ],
             [
              0.7777777777777778,
              "#fb9f3a"
             ],
             [
              0.8888888888888888,
              "#fdca26"
             ],
             [
              1,
              "#f0f921"
             ]
            ],
            "type": "histogram2dcontour"
           }
          ],
          "mesh3d": [
           {
            "colorbar": {
             "outlinewidth": 0,
             "ticks": ""
            },
            "type": "mesh3d"
           }
          ],
          "parcoords": [
           {
            "line": {
             "colorbar": {
              "outlinewidth": 0,
              "ticks": ""
             }
            },
            "type": "parcoords"
           }
          ],
          "pie": [
           {
            "automargin": true,
            "type": "pie"
           }
          ],
          "scatter": [
           {
            "fillpattern": {
             "fillmode": "overlay",
             "size": 10,
             "solidity": 0.2
            },
            "type": "scatter"
           }
          ],
          "scatter3d": [
           {
            "line": {
             "colorbar": {
              "outlinewidth": 0,
              "ticks": ""
             }
            },
            "marker": {
             "colorbar": {
              "outlinewidth": 0,
              "ticks": ""
             }
            },
            "type": "scatter3d"
           }
          ],
          "scattercarpet": [
           {
            "marker": {
             "colorbar": {
              "outlinewidth": 0,
              "ticks": ""
             }
            },
            "type": "scattercarpet"
           }
          ],
          "scattergeo": [
           {
            "marker": {
             "colorbar": {
              "outlinewidth": 0,
              "ticks": ""
             }
            },
            "type": "scattergeo"
           }
          ],
          "scattergl": [
           {
            "marker": {
             "colorbar": {
              "outlinewidth": 0,
              "ticks": ""
             }
            },
            "type": "scattergl"
           }
          ],
          "scattermap": [
           {
            "marker": {
             "colorbar": {
              "outlinewidth": 0,
              "ticks": ""
             }
            },
            "type": "scattermap"
           }
          ],
          "scattermapbox": [
           {
            "marker": {
             "colorbar": {
              "outlinewidth": 0,
              "ticks": ""
             }
            },
            "type": "scattermapbox"
           }
          ],
          "scatterpolar": [
           {
            "marker": {
             "colorbar": {
              "outlinewidth": 0,
              "ticks": ""
             }
            },
            "type": "scatterpolar"
           }
          ],
          "scatterpolargl": [
           {
            "marker": {
             "colorbar": {
              "outlinewidth": 0,
              "ticks": ""
             }
            },
            "type": "scatterpolargl"
           }
          ],
          "scatterternary": [
           {
            "marker": {
             "colorbar": {
              "outlinewidth": 0,
              "ticks": ""
             }
            },
            "type": "scatterternary"
           }
          ],
          "surface": [
           {
            "colorbar": {
             "outlinewidth": 0,
             "ticks": ""
            },
            "colorscale": [
             [
              0,
              "#0d0887"
             ],
             [
              0.1111111111111111,
              "#46039f"
             ],
             [
              0.2222222222222222,
              "#7201a8"
             ],
             [
              0.3333333333333333,
              "#9c179e"
             ],
             [
              0.4444444444444444,
              "#bd3786"
             ],
             [
              0.5555555555555556,
              "#d8576b"
             ],
             [
              0.6666666666666666,
              "#ed7953"
             ],
             [
              0.7777777777777778,
              "#fb9f3a"
             ],
             [
              0.8888888888888888,
              "#fdca26"
             ],
             [
              1,
              "#f0f921"
             ]
            ],
            "type": "surface"
           }
          ],
          "table": [
           {
            "cells": {
             "fill": {
              "color": "#EBF0F8"
             },
             "line": {
              "color": "white"
             }
            },
            "header": {
             "fill": {
              "color": "#C8D4E3"
             },
             "line": {
              "color": "white"
             }
            },
            "type": "table"
           }
          ]
         },
         "layout": {
          "annotationdefaults": {
           "arrowcolor": "#2a3f5f",
           "arrowhead": 0,
           "arrowwidth": 1
          },
          "autotypenumbers": "strict",
          "coloraxis": {
           "colorbar": {
            "outlinewidth": 0,
            "ticks": ""
           }
          },
          "colorscale": {
           "diverging": [
            [
             0,
             "#8e0152"
            ],
            [
             0.1,
             "#c51b7d"
            ],
            [
             0.2,
             "#de77ae"
            ],
            [
             0.3,
             "#f1b6da"
            ],
            [
             0.4,
             "#fde0ef"
            ],
            [
             0.5,
             "#f7f7f7"
            ],
            [
             0.6,
             "#e6f5d0"
            ],
            [
             0.7,
             "#b8e186"
            ],
            [
             0.8,
             "#7fbc41"
            ],
            [
             0.9,
             "#4d9221"
            ],
            [
             1,
             "#276419"
            ]
           ],
           "sequential": [
            [
             0,
             "#0d0887"
            ],
            [
             0.1111111111111111,
             "#46039f"
            ],
            [
             0.2222222222222222,
             "#7201a8"
            ],
            [
             0.3333333333333333,
             "#9c179e"
            ],
            [
             0.4444444444444444,
             "#bd3786"
            ],
            [
             0.5555555555555556,
             "#d8576b"
            ],
            [
             0.6666666666666666,
             "#ed7953"
            ],
            [
             0.7777777777777778,
             "#fb9f3a"
            ],
            [
             0.8888888888888888,
             "#fdca26"
            ],
            [
             1,
             "#f0f921"
            ]
           ],
           "sequentialminus": [
            [
             0,
             "#0d0887"
            ],
            [
             0.1111111111111111,
             "#46039f"
            ],
            [
             0.2222222222222222,
             "#7201a8"
            ],
            [
             0.3333333333333333,
             "#9c179e"
            ],
            [
             0.4444444444444444,
             "#bd3786"
            ],
            [
             0.5555555555555556,
             "#d8576b"
            ],
            [
             0.6666666666666666,
             "#ed7953"
            ],
            [
             0.7777777777777778,
             "#fb9f3a"
            ],
            [
             0.8888888888888888,
             "#fdca26"
            ],
            [
             1,
             "#f0f921"
            ]
           ]
          },
          "colorway": [
           "#636efa",
           "#EF553B",
           "#00cc96",
           "#ab63fa",
           "#FFA15A",
           "#19d3f3",
           "#FF6692",
           "#B6E880",
           "#FF97FF",
           "#FECB52"
          ],
          "font": {
           "color": "#2a3f5f"
          },
          "geo": {
           "bgcolor": "white",
           "lakecolor": "white",
           "landcolor": "#E5ECF6",
           "showlakes": true,
           "showland": true,
           "subunitcolor": "white"
          },
          "hoverlabel": {
           "align": "left"
          },
          "hovermode": "closest",
          "mapbox": {
           "style": "light"
          },
          "paper_bgcolor": "white",
          "plot_bgcolor": "#E5ECF6",
          "polar": {
           "angularaxis": {
            "gridcolor": "white",
            "linecolor": "white",
            "ticks": ""
           },
           "bgcolor": "#E5ECF6",
           "radialaxis": {
            "gridcolor": "white",
            "linecolor": "white",
            "ticks": ""
           }
          },
          "scene": {
           "xaxis": {
            "backgroundcolor": "#E5ECF6",
            "gridcolor": "white",
            "gridwidth": 2,
            "linecolor": "white",
            "showbackground": true,
            "ticks": "",
            "zerolinecolor": "white"
           },
           "yaxis": {
            "backgroundcolor": "#E5ECF6",
            "gridcolor": "white",
            "gridwidth": 2,
            "linecolor": "white",
            "showbackground": true,
            "ticks": "",
            "zerolinecolor": "white"
           },
           "zaxis": {
            "backgroundcolor": "#E5ECF6",
            "gridcolor": "white",
            "gridwidth": 2,
            "linecolor": "white",
            "showbackground": true,
            "ticks": "",
            "zerolinecolor": "white"
           }
          },
          "shapedefaults": {
           "line": {
            "color": "#2a3f5f"
           }
          },
          "ternary": {
           "aaxis": {
            "gridcolor": "white",
            "linecolor": "white",
            "ticks": ""
           },
           "baxis": {
            "gridcolor": "white",
            "linecolor": "white",
            "ticks": ""
           },
           "bgcolor": "#E5ECF6",
           "caxis": {
            "gridcolor": "white",
            "linecolor": "white",
            "ticks": ""
           }
          },
          "title": {
           "x": 0.05
          },
          "xaxis": {
           "automargin": true,
           "gridcolor": "white",
           "linecolor": "white",
           "ticks": "",
           "title": {
            "standoff": 15
           },
           "zerolinecolor": "white",
           "zerolinewidth": 2
          },
          "yaxis": {
           "automargin": true,
           "gridcolor": "white",
           "linecolor": "white",
           "ticks": "",
           "title": {
            "standoff": 15
           },
           "zerolinecolor": "white",
           "zerolinewidth": 2
          }
         }
        },
        "title": {
         "text": "epoch metrics"
        },
        "xaxis": {
         "anchor": "y",
         "domain": [
          0,
          0.98
         ],
         "title": {
          "text": "step"
         }
        },
        "xaxis2": {
         "anchor": "y2",
         "domain": [
          0,
          0.98
         ],
         "matches": "x",
         "showticklabels": false
        },
        "xaxis3": {
         "anchor": "y3",
         "domain": [
          0,
          0.98
         ],
         "matches": "x",
         "showticklabels": false
        },
        "xaxis4": {
         "anchor": "y4",
         "domain": [
          0,
          0.98
         ],
         "matches": "x",
         "showticklabels": false
        },
        "yaxis": {
         "anchor": "x",
         "domain": [
          0,
          0.2275
         ],
         "title": {
          "text": "value"
         }
        },
        "yaxis2": {
         "anchor": "x2",
         "domain": [
          0.2575,
          0.485
         ],
         "title": {
          "text": "value"
         }
        },
        "yaxis3": {
         "anchor": "x3",
         "domain": [
          0.515,
          0.7425
         ],
         "title": {
          "text": "value"
         }
        },
        "yaxis4": {
         "anchor": "x4",
         "domain": [
          0.7725,
          1
         ],
         "title": {
          "text": "value"
         }
        }
       }
      }
     },
     "metadata": {},
     "output_type": "display_data"
    },
    {
     "name": "stdout",
     "output_type": "stream",
     "text": [
      "=========================\n",
      "training: 2\n"
     ]
    },
    {
     "data": {
      "application/vnd.jupyter.widget-view+json": {
       "model_id": "eed2afb6164f4b728130e4db49104d97",
       "version_major": 2,
       "version_minor": 0
      },
      "text/plain": [
       "Output()"
      ]
     },
     "metadata": {},
     "output_type": "display_data"
    },
    {
     "data": {
      "text/html": [
       "<pre style=\"white-space:pre;overflow-x:auto;line-height:normal;font-family:Menlo,'DejaVu Sans Mono',consolas,'Courier New',monospace\"></pre>\n"
      ],
      "text/plain": []
     },
     "metadata": {},
     "output_type": "display_data"
    },
    {
     "data": {
      "application/vnd.plotly.v1+json": {
       "config": {
        "plotlyServerURL": "https://plot.ly"
       },
       "data": [
        {
         "hovertemplate": "variable=batch_train_loss<br>step=%{x}<br>value=%{y}<extra></extra>",
         "legendgroup": "",
         "marker": {
          "color": "#636efa",
          "symbol": "circle"
         },
         "mode": "markers",
         "name": "",
         "showlegend": false,
         "type": "scattergl",
         "x": {
          "bdata": "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",
          "dtype": "i2"
         },
         "xaxis": "x2",
         "y": {
          "bdata": "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",
          "dtype": "f8"
         },
         "yaxis": "y2"
        },
        {
         "hovertemplate": "<b>Exponentially Weighted mean trendline</b><br><br>variable=batch_train_loss<br>step=%{x}<br>value=%{y} <b>(trend)</b><extra></extra>",
         "legendgroup": "",
         "line": {
          "color": "red"
         },
         "marker": {
          "color": "#636efa",
          "symbol": "circle"
         },
         "mode": "lines",
         "name": "",
         "showlegend": false,
         "type": "scattergl",
         "x": {
          "bdata": "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",
          "dtype": "i2"
         },
         "xaxis": "x2",
         "y": {
          "bdata": "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",
          "dtype": "f8"
         },
         "yaxis": "y2"
        },
        {
         "hovertemplate": "variable=batch_accuracy<br>step=%{x}<br>value=%{y}<extra></extra>",
         "legendgroup": "",
         "marker": {
          "color": "#636efa",
          "symbol": "circle"
         },
         "mode": "markers",
         "name": "",
         "showlegend": false,
         "type": "scattergl",
         "x": {
          "bdata": "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",
          "dtype": "i2"
         },
         "xaxis": "x",
         "y": {
          "bdata": "AAAAAAAApj8AAAAAAAC8PwAAAAAAALI/AAAAAAAAsz8AAAAAAIDDPwAAAAAAgMU/AAAAAACAyD8AAAAAAADBPwAAAAAAgMM/AAAAAAAAyz8AAAAAAIDJPwAAAAAAgMU/AAAAAAAAxz8AAAAAAIDLPwAAAAAAgMw/AAAAAAAAzD8AAAAAAADQPwAAAAAAAM8/AAAAAAAAzT8AAAAAAIDLPwAAAAAAgNI/AAAAAACA0z8AAAAAAIDSPwAAAAAAQNA/AAAAAACAzz+1tLS0tLTUPwAAAAAAwNQ/AAAAAAAA1D8AAAAAAIDRPwAAAAAAgNU/AAAAAADA0D8AAAAAAEDSPwAAAAAAwNI/AAAAAACA1T8AAAAAAMDUPwAAAAAAQNg/AAAAAACA1D8AAAAAAIDWPwAAAAAAwNU/AAAAAAAA1z8AAAAAAADUPwAAAAAAwNE/AAAAAABA1j8AAAAAAMDTPwAAAAAAQNU/AAAAAABA2T8AAAAAAMDWPwAAAAAAwNM/AAAAAAAA1j8AAAAAAMDZPwAAAAAAwNU/mpmZmZmZ2T8AAAAAAEDYPwAAAAAAwNU/AAAAAABA2T8AAAAAAMDWPwAAAAAAANU/AAAAAABA2T8AAAAAAEDYPwAAAAAAQNc/AAAAAACA1z8AAAAAAADZPwAAAAAAwNw/AAAAAADA2T8AAAAAAIDZPwAAAAAAANw/AAAAAADA2j8AAAAAAMDXPwAAAAAAgNg/AAAAAADA2z8AAAAAAIDbPwAAAAAAgNc/AAAAAACA2z8AAAAAAIDZPwAAAAAAANs/AAAAAADA1j8AAAAAAEDaPz8/Pz8/P98/AAAAAADA2z8AAAAAAADePwAAAAAAQNo/AAAAAABA2z8AAAAAAIDbPwAAAAAAwNY/AAAAAAAA3D8AAAAAAIDcPwAAAAAAQNg/AAAAAADA2z8AAAAAAEDYPwAAAAAAwNo/AAAAAACA2j8AAAAAAEDcPwAAAAAAQN0/AAAAAABA2z8AAAAAAEDcPwAAAAAAAN0/AAAAAAAA2z8AAAAAAEDaPwAAAAAAANs/AAAAAABA2j8AAAAAAEDcPwAAAAAAAN0/AAAAAACA3D8eHh4eHh7ePwAAAAAAwN0/AAAAAACA3D8AAAAAAIDcPwAAAAAAgN8/AAAAAAAA4D8AAAAAAIDfPwAAAAAAAN8/AAAAAABA3z8AAAAAAEDePwAAAAAAwNs/AAAAAACA3T8AAAAAAEDcPwAAAAAAwN0/AAAAAABA3D8AAAAAAIDcPwAAAAAAQN4/AAAAAAAA2z8AAAAAAMDaPwAAAAAAYOA/AAAAAAAA4D8AAAAAAMDfPwAAAAAAQNo/AAAAAACA2D8AAAAAAIDbPwAAAAAAAN4/fn5+fn5+3j8AAAAAAIDdPwAAAAAAwNs/AAAAAAAA3D8AAAAAAMDdPwAAAAAAwNw/AAAAAABg4D8AAAAAAMDePwAAAAAAIOA/AAAAAACA3z8AAAAAAADfPwAAAAAAANw/AAAAAAAA3T8AAAAAAIDgPwAAAAAAQOA/AAAAAAAA2z8AAAAAAMDdPwAAAAAAQOA/AAAAAACA4D8AAAAAAADcPwAAAAAAgNw/AAAAAACA3T8AAAAAAKDgPwAAAAAAgOE/AAAAAABA3z8AAAAAAMDfPwAAAAAAAOA/AAAAAADg4D8AAAAAAODhPwAAAAAAQOA/AAAAAABA4T8AAAAAAMDdPwAAAAAAgN0/AAAAAAAA4D8AAAAAAIDfPwAAAAAAAN8/AAAAAABg4D8AAAAAAEDhPwAAAAAAIOA/AAAAAADA4D8AAAAAAEDfPwAAAAAAQNs/AAAAAABA3j8AAAAAAEDdPwAAAAAAIOM/AAAAAABA4T8AAAAAAIDgPwAAAAAAAN8/AAAAAAAA3T8AAAAAAMDePwAAAAAAIOE/AAAAAADA3j+dnJycnJzcPwAAAAAAgN0/AAAAAABg4D8AAAAAAEDePwAAAAAAwOA/AAAAAAAA4T8AAAAAAGDhPwAAAAAAQOE/AAAAAAAA4D8AAAAAAGDgPwAAAAAA4OA/AAAAAAAg4D8AAAAAAGDhPwAAAAAAwOA/AAAAAAAA4D8AAAAAAIDgPwAAAAAAoOA/AAAAAAAA2z8AAAAAACDhPwAAAAAAQN8/AAAAAAAg4z8AAAAAAKDgPwAAAAAA4OA/AAAAAACA3z8AAAAAAADhPwAAAAAAoOE/8fDw8PDw4D8AAAAAAEDgPwAAAAAAwOE/AAAAAACA4D8AAAAAAODhPwAAAAAAQOE/AAAAAABA4j8AAAAAAGDhPwAAAAAAwOE/AAAAAACA3z8AAAAAAADgPwAAAAAAgOA/AAAAAAAg4D8AAAAAAODhPwAAAAAAIOI/AAAAAADA3z8AAAAAAGDhPwAAAAAAgOM/AAAAAACA4z8AAAAAAADhPwAAAAAA4OE/AAAAAAAA4z8AAAAAAIDiPwAAAAAAgOE/AAAAAABg4D8AAAAAAGDhP9/e3t7e3t4/AAAAAABA4D8AAAAAAODhPwAAAAAAAOI/AAAAAAAA4z8AAAAAAMDfPwAAAAAAYOE/AAAAAACA4j8AAAAAAODiPwAAAAAAwOI/AAAAAADg4T8AAAAAAEDiPwAAAAAA4OA/AAAAAAAA4z8AAAAAAEDhPwAAAAAAwOE/AAAAAACA4D8AAAAAAEDkPwAAAAAAwOI/AAAAAAAA4T8AAAAAAIDhPwAAAAAAoOI/AAAAAACg4T8AAAAAAMDgPwAAAAAAoOI/AAAAAADg4j9CQkJCQkLiPwAAAAAAwOE/AAAAAACg4T8AAAAAAMDhPwAAAAAAgOM/AAAAAABA4j8AAAAAAIDgPwAAAAAAoOM/AAAAAADA4T8AAAAAAKDhPwAAAAAAgOM/AAAAAACA4z8AAAAAAMDhPwAAAAAA4OE/AAAAAACA4z8AAAAAAADjPwAAAAAAgOE/AAAAAADg4T8AAAAAAGDhPwAAAAAAQOM/AAAAAACA4T8AAAAAACDiPwAAAAAAQOI/AAAAAADg4z8AAAAAAADkPwAAAAAAgOI/JCQkJCQk5D8AAAAAAMDjPwAAAAAAoOI/AAAAAACA4j8AAAAAACDiPwAAAAAAoOI/AAAAAADA4z8AAAAAACDjPwAAAAAA4OE/AAAAAAAg4z8AAAAAACDlPwAAAAAAIOM/AAAAAAAg4j8AAAAAAIDlPwAAAAAAwOM/AAAAAAAA5D8AAAAAAADiPwAAAAAAoOI/AAAAAACg4T8AAAAAACDjPwAAAAAAgOI/AAAAAADA4z8AAAAAAIDjPwAAAAAAAOM/AAAAAACg4T8AAAAAAKDiP6OioqKiouI/AAAAAACA4j8AAAAAAODjPwAAAAAAwOM/AAAAAAAg5D8AAAAAAODjPwAAAAAAwOM/AAAAAABA5D8AAAAAAGDlPwAAAAAAoOI/AAAAAACA4z8AAAAAAGDjPwAAAAAAYOU/AAAAAADg4z8AAAAAAODiPwAAAAAAIOI/AAAAAAAA4j8AAAAAAEDjPwAAAAAAgOM/AAAAAABA5D8AAAAAAIDjPwAAAAAAQOM/AAAAAACA4z8AAAAAAODjPwAAAAAAIOM/AAAAAAAA4j/x8PDw8PDgPwAAAAAAgOM/AAAAAAAg4z8AAAAAAMDkPwAAAAAAoOM/AAAAAAAg5T8AAAAAAIDjPwAAAAAAwOI/AAAAAACg4z8AAAAAAKDkPwAAAAAAwOI/AAAAAADA4j8AAAAAACDjPwAAAAAAAOQ/AAAAAAAA5T8AAAAAAODiPwAAAAAAgOI/AAAAAADA5D8AAAAAAGDjPwAAAAAAIOQ/AAAAAAAg5D8AAAAAAKDkPwAAAAAAYOU/AAAAAACg4j8AAAAAAODjPwAAAAAAYOM/MzMzMzMz4z8AAAAAAEDjPwAAAAAAgOQ/AAAAAADg4z8AAAAAAGDkPwAAAAAAAOQ/AAAAAACg4T8AAAAAAADiPwAAAAAA4OY/AAAAAAAg5D8AAAAAAIDmPwAAAAAA4OM/AAAAAABg5T8AAAAAACDkPwAAAAAAgOQ/AAAAAADA4z8AAAAAAGDlPwAAAAAAYOQ/AAAAAABg5D8AAAAAAEDkPwAAAAAAoOU/AAAAAACg4z8AAAAAAIDlPwAAAAAAIOQ/AAAAAADg4z8AAAAAAMDlPzMzMzMzM+M/AAAAAAAA5T8AAAAAAADlPwAAAAAAwOQ/AAAAAABg5T8AAAAAAIDkPwAAAAAAoOM/AAAAAADg5T8AAAAAAODjPwAAAAAAwOU/AAAAAAAg5T8AAAAAAODkPwAAAAAAgOM/AAAAAAAA5j8AAAAAAODhPwAAAAAAIOQ/AAAAAAAA5T8AAAAAAADmPwAAAAAAAOU/AAAAAADA5j8AAAAAAKDmPwAAAAAAYOU/AAAAAAAA5T8AAAAAAKDlPwAAAAAAQOQ/AAAAAADA5D8VFRUVFRXlPwAAAAAAAOc/AAAAAAAg5j8AAAAAAEDnPwAAAAAAwOU/AAAAAABA5T8AAAAAACDlPwAAAAAA4OU/AAAAAAAA5T8AAAAAAGDlPwAAAAAAgOY/AAAAAACA5j8AAAAAAIDlPwAAAAAAIOU/AAAAAAAA5T8AAAAAACDkPwAAAAAAIOU/AAAAAACA5z8AAAAAAODlPwAAAAAAgOU/AAAAAABA5T8AAAAAAADmPwAAAAAAIOU/AAAAAADA5j8AAAAAAKDkPwAAAAAAoOQ/NjY2NjY25j8AAAAAAODoPwAAAAAAYOc/AAAAAABg5z8AAAAAAGDnPwAAAAAAIOY/AAAAAADg5T8AAAAAAODmPwAAAAAAgOU/AAAAAAAg5j8AAAAAAODkPwAAAAAAAOY/AAAAAAAA5T8AAAAAAODlPwAAAAAAwOU/AAAAAAAg5z8AAAAAAODlPwAAAAAAwOU/AAAAAABA5z8AAAAAAKDnPwAAAAAAwOQ/AAAAAABg5T8AAAAAAEDlPwAAAAAAgOY/AAAAAADg5T8AAAAAAGDlP9bV1dXV1eU/AAAAAADg5T8AAAAAAADoPwAAAAAAYOY/AAAAAAAg5j8AAAAAAKDkPwAAAAAA4OY/AAAAAACA5j8AAAAAACDnPwAAAAAAYOY/AAAAAADg5z8AAAAAAKDlPwAAAAAAYOY/AAAAAABA5j8AAAAAACDlPwAAAAAAAOY/AAAAAAAA6D8AAAAAAGDkPwAAAAAAAOY/AAAAAAAg5z8AAAAAAKDnPwAAAAAAwOc/AAAAAACA5j8AAAAAAODmPwAAAAAAgOU/AAAAAAAA5j/39vb29vbmPwAAAAAAQOU/AAAAAADA5T8AAAAAACDnPwAAAAAAoOg/AAAAAADg5z8AAAAAAIDlPwAAAAAAIOc/AAAAAAAA6D8AAAAAAMDmPwAAAAAAIOg/AAAAAAAg5z8AAAAAAIDoPwAAAAAA4OQ/AAAAAAAA5z8AAAAAAODmPwAAAAAAAOg/AAAAAACA6D8AAAAAAMDmPwAAAAAAoOg/AAAAAADg5j8AAAAAAMDmPwAAAAAAIOY/AAAAAAAg5z8AAAAAAIDmPwAAAAAAgOU/RUVFRUVF5T8AAAAAAADnPwAAAAAAAOg/AAAAAABg5j8AAAAAAMDnPwAAAAAAwOY/AAAAAABA5z8AAAAAAGDnPwAAAAAAwOY/AAAAAACg5z8AAAAAAADnPwAAAAAAAOg/AAAAAAAA6D8AAAAAAKDmPwAAAAAAAOg/AAAAAABA5T8AAAAAAIDnPwAAAAAAQOc/AAAAAAAA6T8AAAAAAEDnPwAAAAAAgOc/AAAAAACA5z8AAAAAAMDnPwAAAAAAIOc/AAAAAABg5z8AAAAAAADoP1dXV1dXV+c/AAAAAABA5z8AAAAAAKDnPwAAAAAAYOg/AAAAAACA6T8AAAAAAODmPwAAAAAA4Oc/AAAAAACA5z8AAAAAAIDmPwAAAAAAIOc/AAAAAACA6D8AAAAAAGDoPwAAAAAAoOc/AAAAAADA6D8AAAAAAMDnPwAAAAAAgOg/AAAAAABg5z8AAAAAAIDoPwAAAAAAIOc/AAAAAABA6D8AAAAAAGDnPwAAAAAAYOc/AAAAAAAg6D8AAAAAACDoPwAAAAAAAOc/AAAAAADA5j8nJycnJyfnPwAAAAAAgOg/AAAAAADA5z8AAAAAAGDoPwAAAAAAQOc/AAAAAABg5z8AAAAAAEDnPwAAAAAA4Ok/AAAAAABA5j8AAAAAAGDnPwAAAAAAQOc/AAAAAABg5z8AAAAAACDnPwAAAAAAYOg/AAAAAAAA6D8AAAAAAODoPwAAAAAAQOg/AAAAAAAg5z8AAAAAAADoPwAAAAAAAOk/AAAAAAAA6T8AAAAAAIDoPwAAAAAAYOg/AAAAAABA5z8AAAAAAMDnPwAAAAAAAOc/GBgYGBgY6D8AAAAAAEDnPwAAAAAAIOk/AAAAAACA6D8AAAAAAIDnPwAAAAAAoOY/AAAAAADg5z8AAAAAAKDnPwAAAAAAQOc/AAAAAACA5z8AAAAAACDoPwAAAAAAYOk/AAAAAACg5z8AAAAAAKDnPwAAAAAA4Og/AAAAAACA5z8AAAAAAADnPwAAAAAAwOg/AAAAAADg6D8AAAAAAMDnPwAAAAAAQOg/AAAAAAAg6T8AAAAAAIDoPwAAAAAAQOk/AAAAAAAA6T8AAAAAACDnP+jn5+fn5+c/AAAAAAAA6T8AAAAAAADnPwAAAAAAwOg/AAAAAAAg6D8AAAAAAMDmPwAAAAAAIOg/AAAAAABA6D8AAAAAAGDpPwAAAAAA4Og/AAAAAABA6D8AAAAAAMDnPwAAAAAAoOg/AAAAAAAg6T8AAAAAAADoPwAAAAAAIOo/AAAAAAAg5z8AAAAAAKDoPwAAAAAAgOc/AAAAAABg6D8AAAAAAGDoPwAAAAAAAOg/AAAAAADg5z8AAAAAAEDnPwAAAAAAAOg/AAAAAABg6D8JCQkJCQnpPwAAAAAAoOk/AAAAAADA5z8AAAAAAKDnPwAAAAAAgOc/AAAAAABA6T8AAAAAAMDnPwAAAAAAQOc/AAAAAADg5z8AAAAAAGDoPwAAAAAA4Ok/AAAAAABg6D8AAAAAAADnPwAAAAAAIOc/AAAAAACg6D8AAAAAAIDoPwAAAAAA4Ok/AAAAAACA6D8AAAAAAADqPwAAAAAAQOg/AAAAAAAg6D8AAAAAAIDoPwAAAAAAgOk/AAAAAAAg5j8AAAAAAGDpPwAAAAAAgOk/uLe3t7e35z8AAAAAAADpPwAAAAAAoOk/AAAAAADg5z8AAAAAAIDoPwAAAAAAwOY/AAAAAADg6D8AAAAAAGDpPwAAAAAAgOk/AAAAAABg6D8AAAAAAADpPwAAAAAAQOg/AAAAAACg5z8AAAAAAMDoPwAAAAAAgOg/AAAAAAAg6T8AAAAAAEDpPwAAAAAAgOk/AAAAAAAA6j8AAAAAAKDoPwAAAAAAIOk/AAAAAACA6D8AAAAAAADpPwAAAAAA4Og/AAAAAADA6D8AAAAAAGDoP/f29vb29uY/AAAAAACA6j8AAAAAAGDoPwAAAAAAoOg/AAAAAAAg6D8AAAAAAODoPwAAAAAAQOk/AAAAAACA6D8AAAAAAADpPwAAAAAAwOg/AAAAAADA6D8AAAAAAMDpPwAAAAAAYOg/AAAAAACA5z8AAAAAAODpPwAAAAAAIOk/AAAAAABg5z8AAAAAAIDoPwAAAAAAoOo/AAAAAADA5z8AAAAAACDoPwAAAAAAoOg/AAAAAAAg6T8AAAAAAGDpPwAAAAAAIOk/AAAAAACA6T9ISEhISEjoPwAAAAAAAOo/AAAAAABA6D8AAAAAAIDpPwAAAAAAwOg/AAAAAABA6j8AAAAAAGDqPwAAAAAAYOk/AAAAAACg6D8AAAAAACDoPwAAAAAA4Ok/AAAAAADA6j8AAAAAAKDpPwAAAAAAQOo/AAAAAADg5z8AAAAAAEDnPwAAAAAAwOg/AAAAAACg6T8AAAAAACDoPwAAAAAA4Og/AAAAAACA6T8AAAAAAODmPwAAAAAA4Og/AAAAAACA6T8AAAAAACDoPwAAAAAAwOk/OTk5OTk56T8AAAAAAEDpPwAAAAAA4Og/AAAAAADg5j8AAAAAAADqPwAAAAAAAOg/AAAAAACA6j8AAAAAACDoPwAAAAAAYOg/AAAAAAAg6D8AAAAAAMDqPwAAAAAAYOk/AAAAAACA6j8AAAAAAGDpPwAAAAAAgOc/AAAAAADA6D8AAAAAAKDpPwAAAAAAAOo/AAAAAABg6T8AAAAAAKDoPwAAAAAAoOk/AAAAAADg6D8AAAAAAGDpPwAAAAAA4Og/AAAAAAAg6T8AAAAAAADpP1dXV1dXV+c/",
          "dtype": "f8"
         },
         "yaxis": "y"
        },
        {
         "hovertemplate": "<b>Exponentially Weighted mean trendline</b><br><br>variable=batch_accuracy<br>step=%{x}<br>value=%{y} <b>(trend)</b><extra></extra>",
         "legendgroup": "",
         "line": {
          "color": "red"
         },
         "marker": {
          "color": "#636efa",
          "symbol": "circle"
         },
         "mode": "lines",
         "name": "",
         "showlegend": false,
         "type": "scattergl",
         "x": {
          "bdata": "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",
          "dtype": "i2"
         },
         "xaxis": "x",
         "y": {
          "bdata": "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",
          "dtype": "f8"
         },
         "yaxis": "y"
        }
       ],
       "layout": {
        "annotations": [
         {
          "font": {},
          "showarrow": false,
          "text": "variable=batch_accuracy",
          "textangle": 90,
          "x": 0.98,
          "xanchor": "left",
          "xref": "paper",
          "y": 0.2425,
          "yanchor": "middle",
          "yref": "paper"
         },
         {
          "font": {},
          "showarrow": false,
          "text": "variable=batch_train_loss",
          "textangle": 90,
          "x": 0.98,
          "xanchor": "left",
          "xref": "paper",
          "y": 0.7575000000000001,
          "yanchor": "middle",
          "yref": "paper"
         }
        ],
        "legend": {
         "tracegroupgap": 0
        },
        "template": {
         "data": {
          "bar": [
           {
            "error_x": {
             "color": "#2a3f5f"
            },
            "error_y": {
             "color": "#2a3f5f"
            },
            "marker": {
             "line": {
              "color": "#E5ECF6",
              "width": 0.5
             },
             "pattern": {
              "fillmode": "overlay",
              "size": 10,
              "solidity": 0.2
             }
            },
            "type": "bar"
           }
          ],
          "barpolar": [
           {
            "marker": {
             "line": {
              "color": "#E5ECF6",
              "width": 0.5
             },
             "pattern": {
              "fillmode": "overlay",
              "size": 10,
              "solidity": 0.2
             }
            },
            "type": "barpolar"
           }
          ],
          "carpet": [
           {
            "aaxis": {
             "endlinecolor": "#2a3f5f",
             "gridcolor": "white",
             "linecolor": "white",
             "minorgridcolor": "white",
             "startlinecolor": "#2a3f5f"
            },
            "baxis": {
             "endlinecolor": "#2a3f5f",
             "gridcolor": "white",
             "linecolor": "white",
             "minorgridcolor": "white",
             "startlinecolor": "#2a3f5f"
            },
            "type": "carpet"
           }
          ],
          "choropleth": [
           {
            "colorbar": {
             "outlinewidth": 0,
             "ticks": ""
            },
            "type": "choropleth"
           }
          ],
          "contour": [
           {
            "colorbar": {
             "outlinewidth": 0,
             "ticks": ""
            },
            "colorscale": [
             [
              0,
              "#0d0887"
             ],
             [
              0.1111111111111111,
              "#46039f"
             ],
             [
              0.2222222222222222,
              "#7201a8"
             ],
             [
              0.3333333333333333,
              "#9c179e"
             ],
             [
              0.4444444444444444,
              "#bd3786"
             ],
             [
              0.5555555555555556,
              "#d8576b"
             ],
             [
              0.6666666666666666,
              "#ed7953"
             ],
             [
              0.7777777777777778,
              "#fb9f3a"
             ],
             [
              0.8888888888888888,
              "#fdca26"
             ],
             [
              1,
              "#f0f921"
             ]
            ],
            "type": "contour"
           }
          ],
          "contourcarpet": [
           {
            "colorbar": {
             "outlinewidth": 0,
             "ticks": ""
            },
            "type": "contourcarpet"
           }
          ],
          "heatmap": [
           {
            "colorbar": {
             "outlinewidth": 0,
             "ticks": ""
            },
            "colorscale": [
             [
              0,
              "#0d0887"
             ],
             [
              0.1111111111111111,
              "#46039f"
             ],
             [
              0.2222222222222222,
              "#7201a8"
             ],
             [
              0.3333333333333333,
              "#9c179e"
             ],
             [
              0.4444444444444444,
              "#bd3786"
             ],
             [
              0.5555555555555556,
              "#d8576b"
             ],
             [
              0.6666666666666666,
              "#ed7953"
             ],
             [
              0.7777777777777778,
              "#fb9f3a"
             ],
             [
              0.8888888888888888,
              "#fdca26"
             ],
             [
              1,
              "#f0f921"
             ]
            ],
            "type": "heatmap"
           }
          ],
          "histogram": [
           {
            "marker": {
             "pattern": {
              "fillmode": "overlay",
              "size": 10,
              "solidity": 0.2
             }
            },
            "type": "histogram"
           }
          ],
          "histogram2d": [
           {
            "colorbar": {
             "outlinewidth": 0,
             "ticks": ""
            },
            "colorscale": [
             [
              0,
              "#0d0887"
             ],
             [
              0.1111111111111111,
              "#46039f"
             ],
             [
              0.2222222222222222,
              "#7201a8"
             ],
             [
              0.3333333333333333,
              "#9c179e"
             ],
             [
              0.4444444444444444,
              "#bd3786"
             ],
             [
              0.5555555555555556,
              "#d8576b"
             ],
             [
              0.6666666666666666,
              "#ed7953"
             ],
             [
              0.7777777777777778,
              "#fb9f3a"
             ],
             [
              0.8888888888888888,
              "#fdca26"
             ],
             [
              1,
              "#f0f921"
             ]
            ],
            "type": "histogram2d"
           }
          ],
          "histogram2dcontour": [
           {
            "colorbar": {
             "outlinewidth": 0,
             "ticks": ""
            },
            "colorscale": [
             [
              0,
              "#0d0887"
             ],
             [
              0.1111111111111111,
              "#46039f"
             ],
             [
              0.2222222222222222,
              "#7201a8"
             ],
             [
              0.3333333333333333,
              "#9c179e"
             ],
             [
              0.4444444444444444,
              "#bd3786"
             ],
             [
              0.5555555555555556,
              "#d8576b"
             ],
             [
              0.6666666666666666,
              "#ed7953"
             ],
             [
              0.7777777777777778,
              "#fb9f3a"
             ],
             [
              0.8888888888888888,
              "#fdca26"
             ],
             [
              1,
              "#f0f921"
             ]
            ],
            "type": "histogram2dcontour"
           }
          ],
          "mesh3d": [
           {
            "colorbar": {
             "outlinewidth": 0,
             "ticks": ""
            },
            "type": "mesh3d"
           }
          ],
          "parcoords": [
           {
            "line": {
             "colorbar": {
              "outlinewidth": 0,
              "ticks": ""
             }
            },
            "type": "parcoords"
           }
          ],
          "pie": [
           {
            "automargin": true,
            "type": "pie"
           }
          ],
          "scatter": [
           {
            "fillpattern": {
             "fillmode": "overlay",
             "size": 10,
             "solidity": 0.2
            },
            "type": "scatter"
           }
          ],
          "scatter3d": [
           {
            "line": {
             "colorbar": {
              "outlinewidth": 0,
              "ticks": ""
             }
            },
            "marker": {
             "colorbar": {
              "outlinewidth": 0,
              "ticks": ""
             }
            },
            "type": "scatter3d"
           }
          ],
          "scattercarpet": [
           {
            "marker": {
             "colorbar": {
              "outlinewidth": 0,
              "ticks": ""
             }
            },
            "type": "scattercarpet"
           }
          ],
          "scattergeo": [
           {
            "marker": {
             "colorbar": {
              "outlinewidth": 0,
              "ticks": ""
             }
            },
            "type": "scattergeo"
           }
          ],
          "scattergl": [
           {
            "marker": {
             "colorbar": {
              "outlinewidth": 0,
              "ticks": ""
             }
            },
            "type": "scattergl"
           }
          ],
          "scattermap": [
           {
            "marker": {
             "colorbar": {
              "outlinewidth": 0,
              "ticks": ""
             }
            },
            "type": "scattermap"
           }
          ],
          "scattermapbox": [
           {
            "marker": {
             "colorbar": {
              "outlinewidth": 0,
              "ticks": ""
             }
            },
            "type": "scattermapbox"
           }
          ],
          "scatterpolar": [
           {
            "marker": {
             "colorbar": {
              "outlinewidth": 0,
              "ticks": ""
             }
            },
            "type": "scatterpolar"
           }
          ],
          "scatterpolargl": [
           {
            "marker": {
             "colorbar": {
              "outlinewidth": 0,
              "ticks": ""
             }
            },
            "type": "scatterpolargl"
           }
          ],
          "scatterternary": [
           {
            "marker": {
             "colorbar": {
              "outlinewidth": 0,
              "ticks": ""
             }
            },
            "type": "scatterternary"
           }
          ],
          "surface": [
           {
            "colorbar": {
             "outlinewidth": 0,
             "ticks": ""
            },
            "colorscale": [
             [
              0,
              "#0d0887"
             ],
             [
              0.1111111111111111,
              "#46039f"
             ],
             [
              0.2222222222222222,
              "#7201a8"
             ],
             [
              0.3333333333333333,
              "#9c179e"
             ],
             [
              0.4444444444444444,
              "#bd3786"
             ],
             [
              0.5555555555555556,
              "#d8576b"
             ],
             [
              0.6666666666666666,
              "#ed7953"
             ],
             [
              0.7777777777777778,
              "#fb9f3a"
             ],
             [
              0.8888888888888888,
              "#fdca26"
             ],
             [
              1,
              "#f0f921"
             ]
            ],
            "type": "surface"
           }
          ],
          "table": [
           {
            "cells": {
             "fill": {
              "color": "#EBF0F8"
             },
             "line": {
              "color": "white"
             }
            },
            "header": {
             "fill": {
              "color": "#C8D4E3"
             },
             "line": {
              "color": "white"
             }
            },
            "type": "table"
           }
          ]
         },
         "layout": {
          "annotationdefaults": {
           "arrowcolor": "#2a3f5f",
           "arrowhead": 0,
           "arrowwidth": 1
          },
          "autotypenumbers": "strict",
          "coloraxis": {
           "colorbar": {
            "outlinewidth": 0,
            "ticks": ""
           }
          },
          "colorscale": {
           "diverging": [
            [
             0,
             "#8e0152"
            ],
            [
             0.1,
             "#c51b7d"
            ],
            [
             0.2,
             "#de77ae"
            ],
            [
             0.3,
             "#f1b6da"
            ],
            [
             0.4,
             "#fde0ef"
            ],
            [
             0.5,
             "#f7f7f7"
            ],
            [
             0.6,
             "#e6f5d0"
            ],
            [
             0.7,
             "#b8e186"
            ],
            [
             0.8,
             "#7fbc41"
            ],
            [
             0.9,
             "#4d9221"
            ],
            [
             1,
             "#276419"
            ]
           ],
           "sequential": [
            [
             0,
             "#0d0887"
            ],
            [
             0.1111111111111111,
             "#46039f"
            ],
            [
             0.2222222222222222,
             "#7201a8"
            ],
            [
             0.3333333333333333,
             "#9c179e"
            ],
            [
             0.4444444444444444,
             "#bd3786"
            ],
            [
             0.5555555555555556,
             "#d8576b"
            ],
            [
             0.6666666666666666,
             "#ed7953"
            ],
            [
             0.7777777777777778,
             "#fb9f3a"
            ],
            [
             0.8888888888888888,
             "#fdca26"
            ],
            [
             1,
             "#f0f921"
            ]
           ],
           "sequentialminus": [
            [
             0,
             "#0d0887"
            ],
            [
             0.1111111111111111,
             "#46039f"
            ],
            [
             0.2222222222222222,
             "#7201a8"
            ],
            [
             0.3333333333333333,
             "#9c179e"
            ],
            [
             0.4444444444444444,
             "#bd3786"
            ],
            [
             0.5555555555555556,
             "#d8576b"
            ],
            [
             0.6666666666666666,
             "#ed7953"
            ],
            [
             0.7777777777777778,
             "#fb9f3a"
            ],
            [
             0.8888888888888888,
             "#fdca26"
            ],
            [
             1,
             "#f0f921"
            ]
           ]
          },
          "colorway": [
           "#636efa",
           "#EF553B",
           "#00cc96",
           "#ab63fa",
           "#FFA15A",
           "#19d3f3",
           "#FF6692",
           "#B6E880",
           "#FF97FF",
           "#FECB52"
          ],
          "font": {
           "color": "#2a3f5f"
          },
          "geo": {
           "bgcolor": "white",
           "lakecolor": "white",
           "landcolor": "#E5ECF6",
           "showlakes": true,
           "showland": true,
           "subunitcolor": "white"
          },
          "hoverlabel": {
           "align": "left"
          },
          "hovermode": "closest",
          "mapbox": {
           "style": "light"
          },
          "paper_bgcolor": "white",
          "plot_bgcolor": "#E5ECF6",
          "polar": {
           "angularaxis": {
            "gridcolor": "white",
            "linecolor": "white",
            "ticks": ""
           },
           "bgcolor": "#E5ECF6",
           "radialaxis": {
            "gridcolor": "white",
            "linecolor": "white",
            "ticks": ""
           }
          },
          "scene": {
           "xaxis": {
            "backgroundcolor": "#E5ECF6",
            "gridcolor": "white",
            "gridwidth": 2,
            "linecolor": "white",
            "showbackground": true,
            "ticks": "",
            "zerolinecolor": "white"
           },
           "yaxis": {
            "backgroundcolor": "#E5ECF6",
            "gridcolor": "white",
            "gridwidth": 2,
            "linecolor": "white",
            "showbackground": true,
            "ticks": "",
            "zerolinecolor": "white"
           },
           "zaxis": {
            "backgroundcolor": "#E5ECF6",
            "gridcolor": "white",
            "gridwidth": 2,
            "linecolor": "white",
            "showbackground": true,
            "ticks": "",
            "zerolinecolor": "white"
           }
          },
          "shapedefaults": {
           "line": {
            "color": "#2a3f5f"
           }
          },
          "ternary": {
           "aaxis": {
            "gridcolor": "white",
            "linecolor": "white",
            "ticks": ""
           },
           "baxis": {
            "gridcolor": "white",
            "linecolor": "white",
            "ticks": ""
           },
           "bgcolor": "#E5ECF6",
           "caxis": {
            "gridcolor": "white",
            "linecolor": "white",
            "ticks": ""
           }
          },
          "title": {
           "x": 0.05
          },
          "xaxis": {
           "automargin": true,
           "gridcolor": "white",
           "linecolor": "white",
           "ticks": "",
           "title": {
            "standoff": 15
           },
           "zerolinecolor": "white",
           "zerolinewidth": 2
          },
          "yaxis": {
           "automargin": true,
           "gridcolor": "white",
           "linecolor": "white",
           "ticks": "",
           "title": {
            "standoff": 15
           },
           "zerolinecolor": "white",
           "zerolinewidth": 2
          }
         }
        },
        "title": {
         "text": "batch metrics"
        },
        "xaxis": {
         "anchor": "y",
         "domain": [
          0,
          0.98
         ],
         "title": {
          "text": "step"
         }
        },
        "xaxis2": {
         "anchor": "y2",
         "domain": [
          0,
          0.98
         ],
         "matches": "x",
         "showticklabels": false
        },
        "yaxis": {
         "anchor": "x",
         "domain": [
          0,
          0.485
         ],
         "title": {
          "text": "value"
         }
        },
        "yaxis2": {
         "anchor": "x2",
         "domain": [
          0.515,
          1
         ],
         "title": {
          "text": "value"
         }
        }
       }
      }
     },
     "metadata": {},
     "output_type": "display_data"
    },
    {
     "data": {
      "application/vnd.plotly.v1+json": {
       "config": {
        "plotlyServerURL": "https://plot.ly"
       },
       "data": [
        {
         "hovertemplate": "variable=train_epoch_loss<br>step=%{x}<br>value=%{y}<extra></extra>",
         "legendgroup": "train_epoch_loss",
         "line": {
          "color": "#636efa",
          "dash": "solid"
         },
         "marker": {
          "symbol": "circle"
         },
         "mode": "lines",
         "name": "train_epoch_loss",
         "orientation": "v",
         "showlegend": true,
         "type": "scatter",
         "x": {
          "bdata": "GQAzAE0AZwCBAJsAtQDPAOkAAwEdATcBUQFrAYUBnwG5AdMB7QEHAiECOwJVAm8CiQKjAr0C1wLxAgsD",
          "dtype": "i2"
         },
         "xaxis": "x4",
         "y": {
          "bdata": "2Ymd6EU4BkCe2IlduDIFQOzETixYtwRAJ3ZiZyd7BEDsxE68eDkEQMVO7DSyCwRAAAAAcEHkA0DZiZ0ow78DQAAAADB/mwNAsRM7oflpA0AndmLX00oDQBQ7sfOFKwNA7MROrEYQA0CxEzvBS/4CQCd2YsfM1AJAAAAAgBKwAkAUO7GTCoMCQMVO7IToXQJAip3YyWRRAkDFTuyE+jECQNmJnYjNFAJA7MRO3PUAAkCxEzvBHvQBQBQ7sRPn6AFAsRM7gSTeAUB2YidGps4BQJ7YiX0xuwFAip3Yici1AUDsxE5cIqEBQLETOwGgpgFA",
          "dtype": "f8"
         },
         "yaxis": "y4"
        },
        {
         "hovertemplate": "variable=train_epoch_accuracy<br>step=%{x}<br>value=%{y}<extra></extra>",
         "legendgroup": "train_epoch_accuracy",
         "line": {
          "color": "#EF553B",
          "dash": "solid"
         },
         "marker": {
          "symbol": "circle"
         },
         "mode": "lines",
         "name": "train_epoch_accuracy",
         "orientation": "v",
         "showlegend": true,
         "type": "scatter",
         "x": {
          "bdata": "GQAzAE0AZwCBAJsAtQDPAOkAAwEdATcBUQFrAYUBnwG5AdMB7QEHAiECOwJVAm8CiQKjAr0C1wLxAgsD",
          "dtype": "i2"
         },
         "xaxis": "x3",
         "y": {
          "bdata": "Ib+XIb9XyT9yIzdyIzfVP6oz0akzUdk/iygBiyhh2z9ALPE/LHHdP9mJndiJnd4/QbcZQbf53z8JWEQJWITgP0mENUmEVeE/KtvuKdvu4T8VFRUVFXXiPwZVQQZVAeM/Mc6mMM5m4z++0Au90LvjP2/kRm7kVuQ/vEXju0Xz5D/HFQLHFbLlP2H+1mD+NuY/WZNEWJN05j/5btH4bvHmP4T5W4P5W+c/RtBtRtC95z+L2cWK2eXnP//DEv/DEug/CpQxCpRB6D+bJMKaJGLoPzEd4jAdsug/73gW73jW6D+WqeSVqRTpP+Yg0uUgAuk/",
          "dtype": "f8"
         },
         "yaxis": "y3"
        },
        {
         "hovertemplate": "variable=validation_loss<br>step=%{x}<br>value=%{y}<extra></extra>",
         "legendgroup": "validation_loss",
         "line": {
          "color": "#00cc96",
          "dash": "solid"
         },
         "marker": {
          "symbol": "circle"
         },
         "mode": "lines",
         "name": "validation_loss",
         "orientation": "v",
         "showlegend": true,
         "type": "scatter",
         "x": {
          "bdata": "GQAzAE0AZwCBAJsAtQDPAOkAAwEdATcBUQFrAYUBnwG5AdMB7QEHAiECOwJVAm8CiQKjAr0C1wLxAgsD",
          "dtype": "i2"
         },
         "xaxis": "x2",
         "y": {
          "bdata": "SZIkqQHsBUAlSZJkTH8FQEmSJKk2LQVAkiRJUkccBUCSJEmSsPAEQEmSJIkR9wRAJUmSxIDcBEC3bduWuvcEQG7btm2jzARAAAAAYMy0BEBu27bNk5MEQG7bto2yswRA27ZtGwqgBEC3bdv2OYwEQLdt23aphgRAt23bdnuKBEBu27atLoAEQG7btu2udQRASZIkqXxwBEBJkiSpPl0EQNu2bXvqeQRAt23bVkp7BEAlSZIkaWIEQCVJksRMZgRAkiRJcpt8BEC3bds2RlgEQLdt2zbPegRAAAAAwAhvBECSJEnyf2YEQAAAAIAjfwRA",
          "dtype": "f8"
         },
         "yaxis": "y2"
        },
        {
         "hovertemplate": "variable=validation_accuracy<br>step=%{x}<br>value=%{y}<extra></extra>",
         "legendgroup": "validation_accuracy",
         "line": {
          "color": "#ab63fa",
          "dash": "solid"
         },
         "marker": {
          "symbol": "circle"
         },
         "mode": "lines",
         "name": "validation_accuracy",
         "orientation": "v",
         "showlegend": true,
         "type": "scatter",
         "x": {
          "bdata": "GQAzAE0AZwCBAJsAtQDPAOkAAwEdATcBUQFrAYUBnwG5AdMB7QEHAiECOwJVAm8CiQKjAr0C1wLxAgsD",
          "dtype": "i2"
         },
         "xaxis": "x",
         "y": {
          "bdata": "uZRLuZRL0D/VTu3UTi3SP5dlWZZlmdU/gzqogzqo1T+XZVmWZRnXP1ZiJVZiJdc/l2VZlmUZ2D+xEiuxEuvWPzu1Uzu109g/+7Ef+7Hf2D/gBE7gBE7aPyD7sR/7sdg/F2zBFmyB2T+XZVmWZRnaP87ZnM3ZXNo/YP7lX/4l2j8XbMEWbIHaP3Ipl3Ip19o/MiZjMiYj2z+pkAqpkMrbP2D+5V/+5do/hUd4hEe42j+7u7u7u7vbP87ZnM3ZnNs/V2/1Vm/12j9YfMVXfEXcPxdswRZswdo/4ARO4AQO2z/GV3zFV7zbPyD7sR/7cdo/",
          "dtype": "f8"
         },
         "yaxis": "y"
        }
       ],
       "layout": {
        "annotations": [
         {
          "font": {},
          "showarrow": false,
          "text": "variable=validation_accuracy",
          "textangle": 90,
          "x": 0.98,
          "xanchor": "left",
          "xref": "paper",
          "y": 0.11375,
          "yanchor": "middle",
          "yref": "paper"
         },
         {
          "font": {},
          "showarrow": false,
          "text": "variable=validation_loss",
          "textangle": 90,
          "x": 0.98,
          "xanchor": "left",
          "xref": "paper",
          "y": 0.37124999999999997,
          "yanchor": "middle",
          "yref": "paper"
         },
         {
          "font": {},
          "showarrow": false,
          "text": "variable=train_epoch_accuracy",
          "textangle": 90,
          "x": 0.98,
          "xanchor": "left",
          "xref": "paper",
          "y": 0.62875,
          "yanchor": "middle",
          "yref": "paper"
         },
         {
          "font": {},
          "showarrow": false,
          "text": "variable=train_epoch_loss",
          "textangle": 90,
          "x": 0.98,
          "xanchor": "left",
          "xref": "paper",
          "y": 0.88625,
          "yanchor": "middle",
          "yref": "paper"
         }
        ],
        "legend": {
         "title": {
          "text": "variable"
         },
         "tracegroupgap": 0
        },
        "template": {
         "data": {
          "bar": [
           {
            "error_x": {
             "color": "#2a3f5f"
            },
            "error_y": {
             "color": "#2a3f5f"
            },
            "marker": {
             "line": {
              "color": "#E5ECF6",
              "width": 0.5
             },
             "pattern": {
              "fillmode": "overlay",
              "size": 10,
              "solidity": 0.2
             }
            },
            "type": "bar"
           }
          ],
          "barpolar": [
           {
            "marker": {
             "line": {
              "color": "#E5ECF6",
              "width": 0.5
             },
             "pattern": {
              "fillmode": "overlay",
              "size": 10,
              "solidity": 0.2
             }
            },
            "type": "barpolar"
           }
          ],
          "carpet": [
           {
            "aaxis": {
             "endlinecolor": "#2a3f5f",
             "gridcolor": "white",
             "linecolor": "white",
             "minorgridcolor": "white",
             "startlinecolor": "#2a3f5f"
            },
            "baxis": {
             "endlinecolor": "#2a3f5f",
             "gridcolor": "white",
             "linecolor": "white",
             "minorgridcolor": "white",
             "startlinecolor": "#2a3f5f"
            },
            "type": "carpet"
           }
          ],
          "choropleth": [
           {
            "colorbar": {
             "outlinewidth": 0,
             "ticks": ""
            },
            "type": "choropleth"
           }
          ],
          "contour": [
           {
            "colorbar": {
             "outlinewidth": 0,
             "ticks": ""
            },
            "colorscale": [
             [
              0,
              "#0d0887"
             ],
             [
              0.1111111111111111,
              "#46039f"
             ],
             [
              0.2222222222222222,
              "#7201a8"
             ],
             [
              0.3333333333333333,
              "#9c179e"
             ],
             [
              0.4444444444444444,
              "#bd3786"
             ],
             [
              0.5555555555555556,
              "#d8576b"
             ],
             [
              0.6666666666666666,
              "#ed7953"
             ],
             [
              0.7777777777777778,
              "#fb9f3a"
             ],
             [
              0.8888888888888888,
              "#fdca26"
             ],
             [
              1,
              "#f0f921"
             ]
            ],
            "type": "contour"
           }
          ],
          "contourcarpet": [
           {
            "colorbar": {
             "outlinewidth": 0,
             "ticks": ""
            },
            "type": "contourcarpet"
           }
          ],
          "heatmap": [
           {
            "colorbar": {
             "outlinewidth": 0,
             "ticks": ""
            },
            "colorscale": [
             [
              0,
              "#0d0887"
             ],
             [
              0.1111111111111111,
              "#46039f"
             ],
             [
              0.2222222222222222,
              "#7201a8"
             ],
             [
              0.3333333333333333,
              "#9c179e"
             ],
             [
              0.4444444444444444,
              "#bd3786"
             ],
             [
              0.5555555555555556,
              "#d8576b"
             ],
             [
              0.6666666666666666,
              "#ed7953"
             ],
             [
              0.7777777777777778,
              "#fb9f3a"
             ],
             [
              0.8888888888888888,
              "#fdca26"
             ],
             [
              1,
              "#f0f921"
             ]
            ],
            "type": "heatmap"
           }
          ],
          "histogram": [
           {
            "marker": {
             "pattern": {
              "fillmode": "overlay",
              "size": 10,
              "solidity": 0.2
             }
            },
            "type": "histogram"
           }
          ],
          "histogram2d": [
           {
            "colorbar": {
             "outlinewidth": 0,
             "ticks": ""
            },
            "colorscale": [
             [
              0,
              "#0d0887"
             ],
             [
              0.1111111111111111,
              "#46039f"
             ],
             [
              0.2222222222222222,
              "#7201a8"
             ],
             [
              0.3333333333333333,
              "#9c179e"
             ],
             [
              0.4444444444444444,
              "#bd3786"
             ],
             [
              0.5555555555555556,
              "#d8576b"
             ],
             [
              0.6666666666666666,
              "#ed7953"
             ],
             [
              0.7777777777777778,
              "#fb9f3a"
             ],
             [
              0.8888888888888888,
              "#fdca26"
             ],
             [
              1,
              "#f0f921"
             ]
            ],
            "type": "histogram2d"
           }
          ],
          "histogram2dcontour": [
           {
            "colorbar": {
             "outlinewidth": 0,
             "ticks": ""
            },
            "colorscale": [
             [
              0,
              "#0d0887"
             ],
             [
              0.1111111111111111,
              "#46039f"
             ],
             [
              0.2222222222222222,
              "#7201a8"
             ],
             [
              0.3333333333333333,
              "#9c179e"
             ],
             [
              0.4444444444444444,
              "#bd3786"
             ],
             [
              0.5555555555555556,
              "#d8576b"
             ],
             [
              0.6666666666666666,
              "#ed7953"
             ],
             [
              0.7777777777777778,
              "#fb9f3a"
             ],
             [
              0.8888888888888888,
              "#fdca26"
             ],
             [
              1,
              "#f0f921"
             ]
            ],
            "type": "histogram2dcontour"
           }
          ],
          "mesh3d": [
           {
            "colorbar": {
             "outlinewidth": 0,
             "ticks": ""
            },
            "type": "mesh3d"
           }
          ],
          "parcoords": [
           {
            "line": {
             "colorbar": {
              "outlinewidth": 0,
              "ticks": ""
             }
            },
            "type": "parcoords"
           }
          ],
          "pie": [
           {
            "automargin": true,
            "type": "pie"
           }
          ],
          "scatter": [
           {
            "fillpattern": {
             "fillmode": "overlay",
             "size": 10,
             "solidity": 0.2
            },
            "type": "scatter"
           }
          ],
          "scatter3d": [
           {
            "line": {
             "colorbar": {
              "outlinewidth": 0,
              "ticks": ""
             }
            },
            "marker": {
             "colorbar": {
              "outlinewidth": 0,
              "ticks": ""
             }
            },
            "type": "scatter3d"
           }
          ],
          "scattercarpet": [
           {
            "marker": {
             "colorbar": {
              "outlinewidth": 0,
              "ticks": ""
             }
            },
            "type": "scattercarpet"
           }
          ],
          "scattergeo": [
           {
            "marker": {
             "colorbar": {
              "outlinewidth": 0,
              "ticks": ""
             }
            },
            "type": "scattergeo"
           }
          ],
          "scattergl": [
           {
            "marker": {
             "colorbar": {
              "outlinewidth": 0,
              "ticks": ""
             }
            },
            "type": "scattergl"
           }
          ],
          "scattermap": [
           {
            "marker": {
             "colorbar": {
              "outlinewidth": 0,
              "ticks": ""
             }
            },
            "type": "scattermap"
           }
          ],
          "scattermapbox": [
           {
            "marker": {
             "colorbar": {
              "outlinewidth": 0,
              "ticks": ""
             }
            },
            "type": "scattermapbox"
           }
          ],
          "scatterpolar": [
           {
            "marker": {
             "colorbar": {
              "outlinewidth": 0,
              "ticks": ""
             }
            },
            "type": "scatterpolar"
           }
          ],
          "scatterpolargl": [
           {
            "marker": {
             "colorbar": {
              "outlinewidth": 0,
              "ticks": ""
             }
            },
            "type": "scatterpolargl"
           }
          ],
          "scatterternary": [
           {
            "marker": {
             "colorbar": {
              "outlinewidth": 0,
              "ticks": ""
             }
            },
            "type": "scatterternary"
           }
          ],
          "surface": [
           {
            "colorbar": {
             "outlinewidth": 0,
             "ticks": ""
            },
            "colorscale": [
             [
              0,
              "#0d0887"
             ],
             [
              0.1111111111111111,
              "#46039f"
             ],
             [
              0.2222222222222222,
              "#7201a8"
             ],
             [
              0.3333333333333333,
              "#9c179e"
             ],
             [
              0.4444444444444444,
              "#bd3786"
             ],
             [
              0.5555555555555556,
              "#d8576b"
             ],
             [
              0.6666666666666666,
              "#ed7953"
             ],
             [
              0.7777777777777778,
              "#fb9f3a"
             ],
             [
              0.8888888888888888,
              "#fdca26"
             ],
             [
              1,
              "#f0f921"
             ]
            ],
            "type": "surface"
           }
          ],
          "table": [
           {
            "cells": {
             "fill": {
              "color": "#EBF0F8"
             },
             "line": {
              "color": "white"
             }
            },
            "header": {
             "fill": {
              "color": "#C8D4E3"
             },
             "line": {
              "color": "white"
             }
            },
            "type": "table"
           }
          ]
         },
         "layout": {
          "annotationdefaults": {
           "arrowcolor": "#2a3f5f",
           "arrowhead": 0,
           "arrowwidth": 1
          },
          "autotypenumbers": "strict",
          "coloraxis": {
           "colorbar": {
            "outlinewidth": 0,
            "ticks": ""
           }
          },
          "colorscale": {
           "diverging": [
            [
             0,
             "#8e0152"
            ],
            [
             0.1,
             "#c51b7d"
            ],
            [
             0.2,
             "#de77ae"
            ],
            [
             0.3,
             "#f1b6da"
            ],
            [
             0.4,
             "#fde0ef"
            ],
            [
             0.5,
             "#f7f7f7"
            ],
            [
             0.6,
             "#e6f5d0"
            ],
            [
             0.7,
             "#b8e186"
            ],
            [
             0.8,
             "#7fbc41"
            ],
            [
             0.9,
             "#4d9221"
            ],
            [
             1,
             "#276419"
            ]
           ],
           "sequential": [
            [
             0,
             "#0d0887"
            ],
            [
             0.1111111111111111,
             "#46039f"
            ],
            [
             0.2222222222222222,
             "#7201a8"
            ],
            [
             0.3333333333333333,
             "#9c179e"
            ],
            [
             0.4444444444444444,
             "#bd3786"
            ],
            [
             0.5555555555555556,
             "#d8576b"
            ],
            [
             0.6666666666666666,
             "#ed7953"
            ],
            [
             0.7777777777777778,
             "#fb9f3a"
            ],
            [
             0.8888888888888888,
             "#fdca26"
            ],
            [
             1,
             "#f0f921"
            ]
           ],
           "sequentialminus": [
            [
             0,
             "#0d0887"
            ],
            [
             0.1111111111111111,
             "#46039f"
            ],
            [
             0.2222222222222222,
             "#7201a8"
            ],
            [
             0.3333333333333333,
             "#9c179e"
            ],
            [
             0.4444444444444444,
             "#bd3786"
            ],
            [
             0.5555555555555556,
             "#d8576b"
            ],
            [
             0.6666666666666666,
             "#ed7953"
            ],
            [
             0.7777777777777778,
             "#fb9f3a"
            ],
            [
             0.8888888888888888,
             "#fdca26"
            ],
            [
             1,
             "#f0f921"
            ]
           ]
          },
          "colorway": [
           "#636efa",
           "#EF553B",
           "#00cc96",
           "#ab63fa",
           "#FFA15A",
           "#19d3f3",
           "#FF6692",
           "#B6E880",
           "#FF97FF",
           "#FECB52"
          ],
          "font": {
           "color": "#2a3f5f"
          },
          "geo": {
           "bgcolor": "white",
           "lakecolor": "white",
           "landcolor": "#E5ECF6",
           "showlakes": true,
           "showland": true,
           "subunitcolor": "white"
          },
          "hoverlabel": {
           "align": "left"
          },
          "hovermode": "closest",
          "mapbox": {
           "style": "light"
          },
          "paper_bgcolor": "white",
          "plot_bgcolor": "#E5ECF6",
          "polar": {
           "angularaxis": {
            "gridcolor": "white",
            "linecolor": "white",
            "ticks": ""
           },
           "bgcolor": "#E5ECF6",
           "radialaxis": {
            "gridcolor": "white",
            "linecolor": "white",
            "ticks": ""
           }
          },
          "scene": {
           "xaxis": {
            "backgroundcolor": "#E5ECF6",
            "gridcolor": "white",
            "gridwidth": 2,
            "linecolor": "white",
            "showbackground": true,
            "ticks": "",
            "zerolinecolor": "white"
           },
           "yaxis": {
            "backgroundcolor": "#E5ECF6",
            "gridcolor": "white",
            "gridwidth": 2,
            "linecolor": "white",
            "showbackground": true,
            "ticks": "",
            "zerolinecolor": "white"
           },
           "zaxis": {
            "backgroundcolor": "#E5ECF6",
            "gridcolor": "white",
            "gridwidth": 2,
            "linecolor": "white",
            "showbackground": true,
            "ticks": "",
            "zerolinecolor": "white"
           }
          },
          "shapedefaults": {
           "line": {
            "color": "#2a3f5f"
           }
          },
          "ternary": {
           "aaxis": {
            "gridcolor": "white",
            "linecolor": "white",
            "ticks": ""
           },
           "baxis": {
            "gridcolor": "white",
            "linecolor": "white",
            "ticks": ""
           },
           "bgcolor": "#E5ECF6",
           "caxis": {
            "gridcolor": "white",
            "linecolor": "white",
            "ticks": ""
           }
          },
          "title": {
           "x": 0.05
          },
          "xaxis": {
           "automargin": true,
           "gridcolor": "white",
           "linecolor": "white",
           "ticks": "",
           "title": {
            "standoff": 15
           },
           "zerolinecolor": "white",
           "zerolinewidth": 2
          },
          "yaxis": {
           "automargin": true,
           "gridcolor": "white",
           "linecolor": "white",
           "ticks": "",
           "title": {
            "standoff": 15
           },
           "zerolinecolor": "white",
           "zerolinewidth": 2
          }
         }
        },
        "title": {
         "text": "epoch metrics"
        },
        "xaxis": {
         "anchor": "y",
         "domain": [
          0,
          0.98
         ],
         "title": {
          "text": "step"
         }
        },
        "xaxis2": {
         "anchor": "y2",
         "domain": [
          0,
          0.98
         ],
         "matches": "x",
         "showticklabels": false
        },
        "xaxis3": {
         "anchor": "y3",
         "domain": [
          0,
          0.98
         ],
         "matches": "x",
         "showticklabels": false
        },
        "xaxis4": {
         "anchor": "y4",
         "domain": [
          0,
          0.98
         ],
         "matches": "x",
         "showticklabels": false
        },
        "yaxis": {
         "anchor": "x",
         "domain": [
          0,
          0.2275
         ],
         "title": {
          "text": "value"
         }
        },
        "yaxis2": {
         "anchor": "x2",
         "domain": [
          0.2575,
          0.485
         ],
         "title": {
          "text": "value"
         }
        },
        "yaxis3": {
         "anchor": "x3",
         "domain": [
          0.515,
          0.7425
         ],
         "title": {
          "text": "value"
         }
        },
        "yaxis4": {
         "anchor": "x4",
         "domain": [
          0.7725,
          1
         ],
         "title": {
          "text": "value"
         }
        }
       }
      }
     },
     "metadata": {},
     "output_type": "display_data"
    },
    {
     "name": "stdout",
     "output_type": "stream",
     "text": [
      "=========================\n",
      "training: 3\n"
     ]
    },
    {
     "data": {
      "application/vnd.jupyter.widget-view+json": {
       "model_id": "a044a6ac953a4dc094a9507e6eeff00d",
       "version_major": 2,
       "version_minor": 0
      },
      "text/plain": [
       "Output()"
      ]
     },
     "metadata": {},
     "output_type": "display_data"
    },
    {
     "data": {
      "text/html": [
       "<pre style=\"white-space:pre;overflow-x:auto;line-height:normal;font-family:Menlo,'DejaVu Sans Mono',consolas,'Courier New',monospace\"></pre>\n"
      ],
      "text/plain": []
     },
     "metadata": {},
     "output_type": "display_data"
    },
    {
     "data": {
      "application/vnd.plotly.v1+json": {
       "config": {
        "plotlyServerURL": "https://plot.ly"
       },
       "data": [
        {
         "hovertemplate": "variable=batch_train_loss<br>step=%{x}<br>value=%{y}<extra></extra>",
         "legendgroup": "",
         "marker": {
          "color": "#636efa",
          "symbol": "circle"
         },
         "mode": "markers",
         "name": "",
         "showlegend": false,
         "type": "scattergl",
         "x": {
          "bdata": "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",
          "dtype": "i2"
         },
         "xaxis": "x2",
         "y": {
          "bdata": "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",
          "dtype": "f8"
         },
         "yaxis": "y2"
        },
        {
         "hovertemplate": "<b>Exponentially Weighted mean trendline</b><br><br>variable=batch_train_loss<br>step=%{x}<br>value=%{y} <b>(trend)</b><extra></extra>",
         "legendgroup": "",
         "line": {
          "color": "red"
         },
         "marker": {
          "color": "#636efa",
          "symbol": "circle"
         },
         "mode": "lines",
         "name": "",
         "showlegend": false,
         "type": "scattergl",
         "x": {
          "bdata": "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",
          "dtype": "i2"
         },
         "xaxis": "x2",
         "y": {
          "bdata": "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",
          "dtype": "f8"
         },
         "yaxis": "y2"
        },
        {
         "hovertemplate": "variable=batch_accuracy<br>step=%{x}<br>value=%{y}<extra></extra>",
         "legendgroup": "",
         "marker": {
          "color": "#636efa",
          "symbol": "circle"
         },
         "mode": "markers",
         "name": "",
         "showlegend": false,
         "type": "scattergl",
         "x": {
          "bdata": "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",
          "dtype": "i2"
         },
         "xaxis": "x",
         "y": {
          "bdata": "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",
          "dtype": "f8"
         },
         "yaxis": "y"
        },
        {
         "hovertemplate": "<b>Exponentially Weighted mean trendline</b><br><br>variable=batch_accuracy<br>step=%{x}<br>value=%{y} <b>(trend)</b><extra></extra>",
         "legendgroup": "",
         "line": {
          "color": "red"
         },
         "marker": {
          "color": "#636efa",
          "symbol": "circle"
         },
         "mode": "lines",
         "name": "",
         "showlegend": false,
         "type": "scattergl",
         "x": {
          "bdata": "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",
          "dtype": "i2"
         },
         "xaxis": "x",
         "y": {
          "bdata": "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",
          "dtype": "f8"
         },
         "yaxis": "y"
        }
       ],
       "layout": {
        "annotations": [
         {
          "font": {},
          "showarrow": false,
          "text": "variable=batch_accuracy",
          "textangle": 90,
          "x": 0.98,
          "xanchor": "left",
          "xref": "paper",
          "y": 0.2425,
          "yanchor": "middle",
          "yref": "paper"
         },
         {
          "font": {},
          "showarrow": false,
          "text": "variable=batch_train_loss",
          "textangle": 90,
          "x": 0.98,
          "xanchor": "left",
          "xref": "paper",
          "y": 0.7575000000000001,
          "yanchor": "middle",
          "yref": "paper"
         }
        ],
        "legend": {
         "tracegroupgap": 0
        },
        "template": {
         "data": {
          "bar": [
           {
            "error_x": {
             "color": "#2a3f5f"
            },
            "error_y": {
             "color": "#2a3f5f"
            },
            "marker": {
             "line": {
              "color": "#E5ECF6",
              "width": 0.5
             },
             "pattern": {
              "fillmode": "overlay",
              "size": 10,
              "solidity": 0.2
             }
            },
            "type": "bar"
           }
          ],
          "barpolar": [
           {
            "marker": {
             "line": {
              "color": "#E5ECF6",
              "width": 0.5
             },
             "pattern": {
              "fillmode": "overlay",
              "size": 10,
              "solidity": 0.2
             }
            },
            "type": "barpolar"
           }
          ],
          "carpet": [
           {
            "aaxis": {
             "endlinecolor": "#2a3f5f",
             "gridcolor": "white",
             "linecolor": "white",
             "minorgridcolor": "white",
             "startlinecolor": "#2a3f5f"
            },
            "baxis": {
             "endlinecolor": "#2a3f5f",
             "gridcolor": "white",
             "linecolor": "white",
             "minorgridcolor": "white",
             "startlinecolor": "#2a3f5f"
            },
            "type": "carpet"
           }
          ],
          "choropleth": [
           {
            "colorbar": {
             "outlinewidth": 0,
             "ticks": ""
            },
            "type": "choropleth"
           }
          ],
          "contour": [
           {
            "colorbar": {
             "outlinewidth": 0,
             "ticks": ""
            },
            "colorscale": [
             [
              0,
              "#0d0887"
             ],
             [
              0.1111111111111111,
              "#46039f"
             ],
             [
              0.2222222222222222,
              "#7201a8"
             ],
             [
              0.3333333333333333,
              "#9c179e"
             ],
             [
              0.4444444444444444,
              "#bd3786"
             ],
             [
              0.5555555555555556,
              "#d8576b"
             ],
             [
              0.6666666666666666,
              "#ed7953"
             ],
             [
              0.7777777777777778,
              "#fb9f3a"
             ],
             [
              0.8888888888888888,
              "#fdca26"
             ],
             [
              1,
              "#f0f921"
             ]
            ],
            "type": "contour"
           }
          ],
          "contourcarpet": [
           {
            "colorbar": {
             "outlinewidth": 0,
             "ticks": ""
            },
            "type": "contourcarpet"
           }
          ],
          "heatmap": [
           {
            "colorbar": {
             "outlinewidth": 0,
             "ticks": ""
            },
            "colorscale": [
             [
              0,
              "#0d0887"
             ],
             [
              0.1111111111111111,
              "#46039f"
             ],
             [
              0.2222222222222222,
              "#7201a8"
             ],
             [
              0.3333333333333333,
              "#9c179e"
             ],
             [
              0.4444444444444444,
              "#bd3786"
             ],
             [
              0.5555555555555556,
              "#d8576b"
             ],
             [
              0.6666666666666666,
              "#ed7953"
             ],
             [
              0.7777777777777778,
              "#fb9f3a"
             ],
             [
              0.8888888888888888,
              "#fdca26"
             ],
             [
              1,
              "#f0f921"
             ]
            ],
            "type": "heatmap"
           }
          ],
          "histogram": [
           {
            "marker": {
             "pattern": {
              "fillmode": "overlay",
              "size": 10,
              "solidity": 0.2
             }
            },
            "type": "histogram"
           }
          ],
          "histogram2d": [
           {
            "colorbar": {
             "outlinewidth": 0,
             "ticks": ""
            },
            "colorscale": [
             [
              0,
              "#0d0887"
             ],
             [
              0.1111111111111111,
              "#46039f"
             ],
             [
              0.2222222222222222,
              "#7201a8"
             ],
             [
              0.3333333333333333,
              "#9c179e"
             ],
             [
              0.4444444444444444,
              "#bd3786"
             ],
             [
              0.5555555555555556,
              "#d8576b"
             ],
             [
              0.6666666666666666,
              "#ed7953"
             ],
             [
              0.7777777777777778,
              "#fb9f3a"
             ],
             [
              0.8888888888888888,
              "#fdca26"
             ],
             [
              1,
              "#f0f921"
             ]
            ],
            "type": "histogram2d"
           }
          ],
          "histogram2dcontour": [
           {
            "colorbar": {
             "outlinewidth": 0,
             "ticks": ""
            },
            "colorscale": [
             [
              0,
              "#0d0887"
             ],
             [
              0.1111111111111111,
              "#46039f"
             ],
             [
              0.2222222222222222,
              "#7201a8"
             ],
             [
              0.3333333333333333,
              "#9c179e"
             ],
             [
              0.4444444444444444,
              "#bd3786"
             ],
             [
              0.5555555555555556,
              "#d8576b"
             ],
             [
              0.6666666666666666,
              "#ed7953"
             ],
             [
              0.7777777777777778,
              "#fb9f3a"
             ],
             [
              0.8888888888888888,
              "#fdca26"
             ],
             [
              1,
              "#f0f921"
             ]
            ],
            "type": "histogram2dcontour"
           }
          ],
          "mesh3d": [
           {
            "colorbar": {
             "outlinewidth": 0,
             "ticks": ""
            },
            "type": "mesh3d"
           }
          ],
          "parcoords": [
           {
            "line": {
             "colorbar": {
              "outlinewidth": 0,
              "ticks": ""
             }
            },
            "type": "parcoords"
           }
          ],
          "pie": [
           {
            "automargin": true,
            "type": "pie"
           }
          ],
          "scatter": [
           {
            "fillpattern": {
             "fillmode": "overlay",
             "size": 10,
             "solidity": 0.2
            },
            "type": "scatter"
           }
          ],
          "scatter3d": [
           {
            "line": {
             "colorbar": {
              "outlinewidth": 0,
              "ticks": ""
             }
            },
            "marker": {
             "colorbar": {
              "outlinewidth": 0,
              "ticks": ""
             }
            },
            "type": "scatter3d"
           }
          ],
          "scattercarpet": [
           {
            "marker": {
             "colorbar": {
              "outlinewidth": 0,
              "ticks": ""
             }
            },
            "type": "scattercarpet"
           }
          ],
          "scattergeo": [
           {
            "marker": {
             "colorbar": {
              "outlinewidth": 0,
              "ticks": ""
             }
            },
            "type": "scattergeo"
           }
          ],
          "scattergl": [
           {
            "marker": {
             "colorbar": {
              "outlinewidth": 0,
              "ticks": ""
             }
            },
            "type": "scattergl"
           }
          ],
          "scattermap": [
           {
            "marker": {
             "colorbar": {
              "outlinewidth": 0,
              "ticks": ""
             }
            },
            "type": "scattermap"
           }
          ],
          "scattermapbox": [
           {
            "marker": {
             "colorbar": {
              "outlinewidth": 0,
              "ticks": ""
             }
            },
            "type": "scattermapbox"
           }
          ],
          "scatterpolar": [
           {
            "marker": {
             "colorbar": {
              "outlinewidth": 0,
              "ticks": ""
             }
            },
            "type": "scatterpolar"
           }
          ],
          "scatterpolargl": [
           {
            "marker": {
             "colorbar": {
              "outlinewidth": 0,
              "ticks": ""
             }
            },
            "type": "scatterpolargl"
           }
          ],
          "scatterternary": [
           {
            "marker": {
             "colorbar": {
              "outlinewidth": 0,
              "ticks": ""
             }
            },
            "type": "scatterternary"
           }
          ],
          "surface": [
           {
            "colorbar": {
             "outlinewidth": 0,
             "ticks": ""
            },
            "colorscale": [
             [
              0,
              "#0d0887"
             ],
             [
              0.1111111111111111,
              "#46039f"
             ],
             [
              0.2222222222222222,
              "#7201a8"
             ],
             [
              0.3333333333333333,
              "#9c179e"
             ],
             [
              0.4444444444444444,
              "#bd3786"
             ],
             [
              0.5555555555555556,
              "#d8576b"
             ],
             [
              0.6666666666666666,
              "#ed7953"
             ],
             [
              0.7777777777777778,
              "#fb9f3a"
             ],
             [
              0.8888888888888888,
              "#fdca26"
             ],
             [
              1,
              "#f0f921"
             ]
            ],
            "type": "surface"
           }
          ],
          "table": [
           {
            "cells": {
             "fill": {
              "color": "#EBF0F8"
             },
             "line": {
              "color": "white"
             }
            },
            "header": {
             "fill": {
              "color": "#C8D4E3"
             },
             "line": {
              "color": "white"
             }
            },
            "type": "table"
           }
          ]
         },
         "layout": {
          "annotationdefaults": {
           "arrowcolor": "#2a3f5f",
           "arrowhead": 0,
           "arrowwidth": 1
          },
          "autotypenumbers": "strict",
          "coloraxis": {
           "colorbar": {
            "outlinewidth": 0,
            "ticks": ""
           }
          },
          "colorscale": {
           "diverging": [
            [
             0,
             "#8e0152"
            ],
            [
             0.1,
             "#c51b7d"
            ],
            [
             0.2,
             "#de77ae"
            ],
            [
             0.3,
             "#f1b6da"
            ],
            [
             0.4,
             "#fde0ef"
            ],
            [
             0.5,
             "#f7f7f7"
            ],
            [
             0.6,
             "#e6f5d0"
            ],
            [
             0.7,
             "#b8e186"
            ],
            [
             0.8,
             "#7fbc41"
            ],
            [
             0.9,
             "#4d9221"
            ],
            [
             1,
             "#276419"
            ]
           ],
           "sequential": [
            [
             0,
             "#0d0887"
            ],
            [
             0.1111111111111111,
             "#46039f"
            ],
            [
             0.2222222222222222,
             "#7201a8"
            ],
            [
             0.3333333333333333,
             "#9c179e"
            ],
            [
             0.4444444444444444,
             "#bd3786"
            ],
            [
             0.5555555555555556,
             "#d8576b"
            ],
            [
             0.6666666666666666,
             "#ed7953"
            ],
            [
             0.7777777777777778,
             "#fb9f3a"
            ],
            [
             0.8888888888888888,
             "#fdca26"
            ],
            [
             1,
             "#f0f921"
            ]
           ],
           "sequentialminus": [
            [
             0,
             "#0d0887"
            ],
            [
             0.1111111111111111,
             "#46039f"
            ],
            [
             0.2222222222222222,
             "#7201a8"
            ],
            [
             0.3333333333333333,
             "#9c179e"
            ],
            [
             0.4444444444444444,
             "#bd3786"
            ],
            [
             0.5555555555555556,
             "#d8576b"
            ],
            [
             0.6666666666666666,
             "#ed7953"
            ],
            [
             0.7777777777777778,
             "#fb9f3a"
            ],
            [
             0.8888888888888888,
             "#fdca26"
            ],
            [
             1,
             "#f0f921"
            ]
           ]
          },
          "colorway": [
           "#636efa",
           "#EF553B",
           "#00cc96",
           "#ab63fa",
           "#FFA15A",
           "#19d3f3",
           "#FF6692",
           "#B6E880",
           "#FF97FF",
           "#FECB52"
          ],
          "font": {
           "color": "#2a3f5f"
          },
          "geo": {
           "bgcolor": "white",
           "lakecolor": "white",
           "landcolor": "#E5ECF6",
           "showlakes": true,
           "showland": true,
           "subunitcolor": "white"
          },
          "hoverlabel": {
           "align": "left"
          },
          "hovermode": "closest",
          "mapbox": {
           "style": "light"
          },
          "paper_bgcolor": "white",
          "plot_bgcolor": "#E5ECF6",
          "polar": {
           "angularaxis": {
            "gridcolor": "white",
            "linecolor": "white",
            "ticks": ""
           },
           "bgcolor": "#E5ECF6",
           "radialaxis": {
            "gridcolor": "white",
            "linecolor": "white",
            "ticks": ""
           }
          },
          "scene": {
           "xaxis": {
            "backgroundcolor": "#E5ECF6",
            "gridcolor": "white",
            "gridwidth": 2,
            "linecolor": "white",
            "showbackground": true,
            "ticks": "",
            "zerolinecolor": "white"
           },
           "yaxis": {
            "backgroundcolor": "#E5ECF6",
            "gridcolor": "white",
            "gridwidth": 2,
            "linecolor": "white",
            "showbackground": true,
            "ticks": "",
            "zerolinecolor": "white"
           },
           "zaxis": {
            "backgroundcolor": "#E5ECF6",
            "gridcolor": "white",
            "gridwidth": 2,
            "linecolor": "white",
            "showbackground": true,
            "ticks": "",
            "zerolinecolor": "white"
           }
          },
          "shapedefaults": {
           "line": {
            "color": "#2a3f5f"
           }
          },
          "ternary": {
           "aaxis": {
            "gridcolor": "white",
            "linecolor": "white",
            "ticks": ""
           },
           "baxis": {
            "gridcolor": "white",
            "linecolor": "white",
            "ticks": ""
           },
           "bgcolor": "#E5ECF6",
           "caxis": {
            "gridcolor": "white",
            "linecolor": "white",
            "ticks": ""
           }
          },
          "title": {
           "x": 0.05
          },
          "xaxis": {
           "automargin": true,
           "gridcolor": "white",
           "linecolor": "white",
           "ticks": "",
           "title": {
            "standoff": 15
           },
           "zerolinecolor": "white",
           "zerolinewidth": 2
          },
          "yaxis": {
           "automargin": true,
           "gridcolor": "white",
           "linecolor": "white",
           "ticks": "",
           "title": {
            "standoff": 15
           },
           "zerolinecolor": "white",
           "zerolinewidth": 2
          }
         }
        },
        "title": {
         "text": "batch metrics"
        },
        "xaxis": {
         "anchor": "y",
         "domain": [
          0,
          0.98
         ],
         "title": {
          "text": "step"
         }
        },
        "xaxis2": {
         "anchor": "y2",
         "domain": [
          0,
          0.98
         ],
         "matches": "x",
         "showticklabels": false
        },
        "yaxis": {
         "anchor": "x",
         "domain": [
          0,
          0.485
         ],
         "title": {
          "text": "value"
         }
        },
        "yaxis2": {
         "anchor": "x2",
         "domain": [
          0.515,
          1
         ],
         "title": {
          "text": "value"
         }
        }
       }
      }
     },
     "metadata": {},
     "output_type": "display_data"
    },
    {
     "data": {
      "application/vnd.plotly.v1+json": {
       "config": {
        "plotlyServerURL": "https://plot.ly"
       },
       "data": [
        {
         "hovertemplate": "variable=train_epoch_loss<br>step=%{x}<br>value=%{y}<extra></extra>",
         "legendgroup": "train_epoch_loss",
         "line": {
          "color": "#636efa",
          "dash": "solid"
         },
         "marker": {
          "symbol": "circle"
         },
         "mode": "lines",
         "name": "train_epoch_loss",
         "orientation": "v",
         "showlegend": true,
         "type": "scatter",
         "x": {
          "bdata": "GQAzAE0AZwCBAJsAtQDPAOkAAwEdATcBUQFrAYUBnwG5AdMB7QEHAiECOwJVAm8CiQKjAr0C1wLxAgsD",
          "dtype": "i2"
         },
         "xaxis": "x4",
         "y": {
          "bdata": "7MROXIsgBkAndmKHFRQFQCd2YpcWpQRAYid2csdjBEA7sRPr6yAEQBQ7sePX7gNAO7ETK87BA0DZiZ1476cDQDuxEyu1oANA7MRO3CV1A0BP7MQeX1MDQAAAAEDbOQNAntiJjeUdA0BiJ3byXxwDQE/sxM6O8wJAdmInVm7oAkCe2Ik9rMgCQOzETowZwgJAO7ET28ieAkDsxE4MEo8CQGIndmImggJAdmInpqltAkB2YifmSGICQHZiJxYVSwJAAAAAQPcyAkCxEzsBEzECQAAAAJBVKwJAJ3Zit38dAkCe2IlN2xICQHZiJ4ZxDgJA",
          "dtype": "f8"
         },
         "yaxis": "y4"
        },
        {
         "hovertemplate": "variable=train_epoch_accuracy<br>step=%{x}<br>value=%{y}<extra></extra>",
         "legendgroup": "train_epoch_accuracy",
         "line": {
          "color": "#EF553B",
          "dash": "solid"
         },
         "marker": {
          "symbol": "circle"
         },
         "mode": "lines",
         "name": "train_epoch_accuracy",
         "orientation": "v",
         "showlegend": true,
         "type": "scatter",
         "x": {
          "bdata": "GQAzAE0AZwCBAJsAtQDPAOkAAwEdATcBUQFrAYUBnwG5AdMB7QEHAiECOwJVAm8CiQKjAr0C1wLxAgsD",
          "dtype": "i2"
         },
         "xaxis": "x3",
         "y": {
          "bdata": "pzyXQNawyz9yf68W8KzWP6lnHlev/9k/m1GK4jIF3D/fOG9u+0TeP6Jz8kXkr98/Xes6mvWx4D9iEFg5tAjhP0FJx6evDeE/Qb8SsfzM4T8nA8xZNl/iP2mR7Xw/peI/xH/dUkIz4z8NdcFUVhzjP6K4TME96OM/qWceV6//4z8l72Js0H3kP9ZeFsKwnuQ/OSoUgAsv5T+iXNQccWLlPyVL2xCdk+U/jsWqZGnr5T+pZx5Xrw/mP/clp1O1aeY/FwcLSjrO5j+AC4+UudbmP1IUlym45+Y/erg1oxQV5z+h0h8mvkHnP2CgdqeBUec/",
          "dtype": "f8"
         },
         "yaxis": "y3"
        },
        {
         "hovertemplate": "variable=validation_loss<br>step=%{x}<br>value=%{y}<extra></extra>",
         "legendgroup": "validation_loss",
         "line": {
          "color": "#00cc96",
          "dash": "solid"
         },
         "marker": {
          "symbol": "circle"
         },
         "mode": "lines",
         "name": "validation_loss",
         "orientation": "v",
         "showlegend": true,
         "type": "scatter",
         "x": {
          "bdata": "GQAzAE0AZwCBAJsAtQDPAOkAAwEdATcBUQFrAYUBnwG5AdMB7QEHAiECOwJVAm8CiQKjAr0C1wLxAgsD",
          "dtype": "i2"
         },
         "xaxis": "x2",
         "y": {
          "bdata": "kiRJ0g2UBUC3bds2OuQEQNu2bduNqwRA27Zte16DBEBJkiRp7YcEQAAAAGA5YQRAJUmShI5YBEDbtm1b8VUEQJIkSbI1PwRAbtu2bRwvBEAAAAAgpyAEQLdt25ZFDgRAJUmShIodBECSJEmyGSAEQNu2bRt6MgRASZIkKbgUBEC3bduWDx8EQJIkSRIBGwRAt23bVhUnBEBJkiSpVg4EQAAAAADw/ANAt23b9nz7A0BJkiRJ5f8DQLdt2xac+ANAbtu2rSDtA0AAAADAKekDQJIkSbKM7gNASZIkCWjkA0AlSZKEnekDQEmSJAn/+gNA",
          "dtype": "f8"
         },
         "yaxis": "y2"
        },
        {
         "hovertemplate": "variable=validation_accuracy<br>step=%{x}<br>value=%{y}<extra></extra>",
         "legendgroup": "validation_accuracy",
         "line": {
          "color": "#ab63fa",
          "dash": "solid"
         },
         "marker": {
          "symbol": "circle"
         },
         "mode": "lines",
         "name": "validation_accuracy",
         "orientation": "v",
         "showlegend": true,
         "type": "scatter",
         "x": {
          "bdata": "GQAzAE0AZwCBAJsAtQDPAOkAAwEdATcBUQFrAYUBnwG5AdMB7QEHAiECOwJVAm8CiQKjAr0C1wLxAgsD",
          "dtype": "i2"
         },
         "xaxis": "x",
         "y": {
          "bdata": "q7d6q7c61D/oeZ7ned7XPyh90id9ktk/l2VZlmXZ2j9DN3RDN3TaPxut0Rqt0ds/92M/9mM/3D+O1miN1ujbP/IiL/Iir9w/sh/7sR973T8XbMEWbAHePwAAAAAAgN4/27Zt27Yt3j9lTMZkTAbeP4mIiIiISN0/CY/wCI8w3j8XbMEWbMHdP87ZnM3Z3N0/CY/wCI/w3T8yJmMyJqPeP6VCKqRCqt4/AAAAAAAA3z/yIi/yIq/eP3dqp3Zq594/e7iHe7jH3z8pl3Ipl7LfPy7Ygi3Ygt8/yZiMyZjM3z+gARqgAZrfP/IiL/IiL98/",
          "dtype": "f8"
         },
         "yaxis": "y"
        }
       ],
       "layout": {
        "annotations": [
         {
          "font": {},
          "showarrow": false,
          "text": "variable=validation_accuracy",
          "textangle": 90,
          "x": 0.98,
          "xanchor": "left",
          "xref": "paper",
          "y": 0.11375,
          "yanchor": "middle",
          "yref": "paper"
         },
         {
          "font": {},
          "showarrow": false,
          "text": "variable=validation_loss",
          "textangle": 90,
          "x": 0.98,
          "xanchor": "left",
          "xref": "paper",
          "y": 0.37124999999999997,
          "yanchor": "middle",
          "yref": "paper"
         },
         {
          "font": {},
          "showarrow": false,
          "text": "variable=train_epoch_accuracy",
          "textangle": 90,
          "x": 0.98,
          "xanchor": "left",
          "xref": "paper",
          "y": 0.62875,
          "yanchor": "middle",
          "yref": "paper"
         },
         {
          "font": {},
          "showarrow": false,
          "text": "variable=train_epoch_loss",
          "textangle": 90,
          "x": 0.98,
          "xanchor": "left",
          "xref": "paper",
          "y": 0.88625,
          "yanchor": "middle",
          "yref": "paper"
         }
        ],
        "legend": {
         "title": {
          "text": "variable"
         },
         "tracegroupgap": 0
        },
        "template": {
         "data": {
          "bar": [
           {
            "error_x": {
             "color": "#2a3f5f"
            },
            "error_y": {
             "color": "#2a3f5f"
            },
            "marker": {
             "line": {
              "color": "#E5ECF6",
              "width": 0.5
             },
             "pattern": {
              "fillmode": "overlay",
              "size": 10,
              "solidity": 0.2
             }
            },
            "type": "bar"
           }
          ],
          "barpolar": [
           {
            "marker": {
             "line": {
              "color": "#E5ECF6",
              "width": 0.5
             },
             "pattern": {
              "fillmode": "overlay",
              "size": 10,
              "solidity": 0.2
             }
            },
            "type": "barpolar"
           }
          ],
          "carpet": [
           {
            "aaxis": {
             "endlinecolor": "#2a3f5f",
             "gridcolor": "white",
             "linecolor": "white",
             "minorgridcolor": "white",
             "startlinecolor": "#2a3f5f"
            },
            "baxis": {
             "endlinecolor": "#2a3f5f",
             "gridcolor": "white",
             "linecolor": "white",
             "minorgridcolor": "white",
             "startlinecolor": "#2a3f5f"
            },
            "type": "carpet"
           }
          ],
          "choropleth": [
           {
            "colorbar": {
             "outlinewidth": 0,
             "ticks": ""
            },
            "type": "choropleth"
           }
          ],
          "contour": [
           {
            "colorbar": {
             "outlinewidth": 0,
             "ticks": ""
            },
            "colorscale": [
             [
              0,
              "#0d0887"
             ],
             [
              0.1111111111111111,
              "#46039f"
             ],
             [
              0.2222222222222222,
              "#7201a8"
             ],
             [
              0.3333333333333333,
              "#9c179e"
             ],
             [
              0.4444444444444444,
              "#bd3786"
             ],
             [
              0.5555555555555556,
              "#d8576b"
             ],
             [
              0.6666666666666666,
              "#ed7953"
             ],
             [
              0.7777777777777778,
              "#fb9f3a"
             ],
             [
              0.8888888888888888,
              "#fdca26"
             ],
             [
              1,
              "#f0f921"
             ]
            ],
            "type": "contour"
           }
          ],
          "contourcarpet": [
           {
            "colorbar": {
             "outlinewidth": 0,
             "ticks": ""
            },
            "type": "contourcarpet"
           }
          ],
          "heatmap": [
           {
            "colorbar": {
             "outlinewidth": 0,
             "ticks": ""
            },
            "colorscale": [
             [
              0,
              "#0d0887"
             ],
             [
              0.1111111111111111,
              "#46039f"
             ],
             [
              0.2222222222222222,
              "#7201a8"
             ],
             [
              0.3333333333333333,
              "#9c179e"
             ],
             [
              0.4444444444444444,
              "#bd3786"
             ],
             [
              0.5555555555555556,
              "#d8576b"
             ],
             [
              0.6666666666666666,
              "#ed7953"
             ],
             [
              0.7777777777777778,
              "#fb9f3a"
             ],
             [
              0.8888888888888888,
              "#fdca26"
             ],
             [
              1,
              "#f0f921"
             ]
            ],
            "type": "heatmap"
           }
          ],
          "histogram": [
           {
            "marker": {
             "pattern": {
              "fillmode": "overlay",
              "size": 10,
              "solidity": 0.2
             }
            },
            "type": "histogram"
           }
          ],
          "histogram2d": [
           {
            "colorbar": {
             "outlinewidth": 0,
             "ticks": ""
            },
            "colorscale": [
             [
              0,
              "#0d0887"
             ],
             [
              0.1111111111111111,
              "#46039f"
             ],
             [
              0.2222222222222222,
              "#7201a8"
             ],
             [
              0.3333333333333333,
              "#9c179e"
             ],
             [
              0.4444444444444444,
              "#bd3786"
             ],
             [
              0.5555555555555556,
              "#d8576b"
             ],
             [
              0.6666666666666666,
              "#ed7953"
             ],
             [
              0.7777777777777778,
              "#fb9f3a"
             ],
             [
              0.8888888888888888,
              "#fdca26"
             ],
             [
              1,
              "#f0f921"
             ]
            ],
            "type": "histogram2d"
           }
          ],
          "histogram2dcontour": [
           {
            "colorbar": {
             "outlinewidth": 0,
             "ticks": ""
            },
            "colorscale": [
             [
              0,
              "#0d0887"
             ],
             [
              0.1111111111111111,
              "#46039f"
             ],
             [
              0.2222222222222222,
              "#7201a8"
             ],
             [
              0.3333333333333333,
              "#9c179e"
             ],
             [
              0.4444444444444444,
              "#bd3786"
             ],
             [
              0.5555555555555556,
              "#d8576b"
             ],
             [
              0.6666666666666666,
              "#ed7953"
             ],
             [
              0.7777777777777778,
              "#fb9f3a"
             ],
             [
              0.8888888888888888,
              "#fdca26"
             ],
             [
              1,
              "#f0f921"
             ]
            ],
            "type": "histogram2dcontour"
           }
          ],
          "mesh3d": [
           {
            "colorbar": {
             "outlinewidth": 0,
             "ticks": ""
            },
            "type": "mesh3d"
           }
          ],
          "parcoords": [
           {
            "line": {
             "colorbar": {
              "outlinewidth": 0,
              "ticks": ""
             }
            },
            "type": "parcoords"
           }
          ],
          "pie": [
           {
            "automargin": true,
            "type": "pie"
           }
          ],
          "scatter": [
           {
            "fillpattern": {
             "fillmode": "overlay",
             "size": 10,
             "solidity": 0.2
            },
            "type": "scatter"
           }
          ],
          "scatter3d": [
           {
            "line": {
             "colorbar": {
              "outlinewidth": 0,
              "ticks": ""
             }
            },
            "marker": {
             "colorbar": {
              "outlinewidth": 0,
              "ticks": ""
             }
            },
            "type": "scatter3d"
           }
          ],
          "scattercarpet": [
           {
            "marker": {
             "colorbar": {
              "outlinewidth": 0,
              "ticks": ""
             }
            },
            "type": "scattercarpet"
           }
          ],
          "scattergeo": [
           {
            "marker": {
             "colorbar": {
              "outlinewidth": 0,
              "ticks": ""
             }
            },
            "type": "scattergeo"
           }
          ],
          "scattergl": [
           {
            "marker": {
             "colorbar": {
              "outlinewidth": 0,
              "ticks": ""
             }
            },
            "type": "scattergl"
           }
          ],
          "scattermap": [
           {
            "marker": {
             "colorbar": {
              "outlinewidth": 0,
              "ticks": ""
             }
            },
            "type": "scattermap"
           }
          ],
          "scattermapbox": [
           {
            "marker": {
             "colorbar": {
              "outlinewidth": 0,
              "ticks": ""
             }
            },
            "type": "scattermapbox"
           }
          ],
          "scatterpolar": [
           {
            "marker": {
             "colorbar": {
              "outlinewidth": 0,
              "ticks": ""
             }
            },
            "type": "scatterpolar"
           }
          ],
          "scatterpolargl": [
           {
            "marker": {
             "colorbar": {
              "outlinewidth": 0,
              "ticks": ""
             }
            },
            "type": "scatterpolargl"
           }
          ],
          "scatterternary": [
           {
            "marker": {
             "colorbar": {
              "outlinewidth": 0,
              "ticks": ""
             }
            },
            "type": "scatterternary"
           }
          ],
          "surface": [
           {
            "colorbar": {
             "outlinewidth": 0,
             "ticks": ""
            },
            "colorscale": [
             [
              0,
              "#0d0887"
             ],
             [
              0.1111111111111111,
              "#46039f"
             ],
             [
              0.2222222222222222,
              "#7201a8"
             ],
             [
              0.3333333333333333,
              "#9c179e"
             ],
             [
              0.4444444444444444,
              "#bd3786"
             ],
             [
              0.5555555555555556,
              "#d8576b"
             ],
             [
              0.6666666666666666,
              "#ed7953"
             ],
             [
              0.7777777777777778,
              "#fb9f3a"
             ],
             [
              0.8888888888888888,
              "#fdca26"
             ],
             [
              1,
              "#f0f921"
             ]
            ],
            "type": "surface"
           }
          ],
          "table": [
           {
            "cells": {
             "fill": {
              "color": "#EBF0F8"
             },
             "line": {
              "color": "white"
             }
            },
            "header": {
             "fill": {
              "color": "#C8D4E3"
             },
             "line": {
              "color": "white"
             }
            },
            "type": "table"
           }
          ]
         },
         "layout": {
          "annotationdefaults": {
           "arrowcolor": "#2a3f5f",
           "arrowhead": 0,
           "arrowwidth": 1
          },
          "autotypenumbers": "strict",
          "coloraxis": {
           "colorbar": {
            "outlinewidth": 0,
            "ticks": ""
           }
          },
          "colorscale": {
           "diverging": [
            [
             0,
             "#8e0152"
            ],
            [
             0.1,
             "#c51b7d"
            ],
            [
             0.2,
             "#de77ae"
            ],
            [
             0.3,
             "#f1b6da"
            ],
            [
             0.4,
             "#fde0ef"
            ],
            [
             0.5,
             "#f7f7f7"
            ],
            [
             0.6,
             "#e6f5d0"
            ],
            [
             0.7,
             "#b8e186"
            ],
            [
             0.8,
             "#7fbc41"
            ],
            [
             0.9,
             "#4d9221"
            ],
            [
             1,
             "#276419"
            ]
           ],
           "sequential": [
            [
             0,
             "#0d0887"
            ],
            [
             0.1111111111111111,
             "#46039f"
            ],
            [
             0.2222222222222222,
             "#7201a8"
            ],
            [
             0.3333333333333333,
             "#9c179e"
            ],
            [
             0.4444444444444444,
             "#bd3786"
            ],
            [
             0.5555555555555556,
             "#d8576b"
            ],
            [
             0.6666666666666666,
             "#ed7953"
            ],
            [
             0.7777777777777778,
             "#fb9f3a"
            ],
            [
             0.8888888888888888,
             "#fdca26"
            ],
            [
             1,
             "#f0f921"
            ]
           ],
           "sequentialminus": [
            [
             0,
             "#0d0887"
            ],
            [
             0.1111111111111111,
             "#46039f"
            ],
            [
             0.2222222222222222,
             "#7201a8"
            ],
            [
             0.3333333333333333,
             "#9c179e"
            ],
            [
             0.4444444444444444,
             "#bd3786"
            ],
            [
             0.5555555555555556,
             "#d8576b"
            ],
            [
             0.6666666666666666,
             "#ed7953"
            ],
            [
             0.7777777777777778,
             "#fb9f3a"
            ],
            [
             0.8888888888888888,
             "#fdca26"
            ],
            [
             1,
             "#f0f921"
            ]
           ]
          },
          "colorway": [
           "#636efa",
           "#EF553B",
           "#00cc96",
           "#ab63fa",
           "#FFA15A",
           "#19d3f3",
           "#FF6692",
           "#B6E880",
           "#FF97FF",
           "#FECB52"
          ],
          "font": {
           "color": "#2a3f5f"
          },
          "geo": {
           "bgcolor": "white",
           "lakecolor": "white",
           "landcolor": "#E5ECF6",
           "showlakes": true,
           "showland": true,
           "subunitcolor": "white"
          },
          "hoverlabel": {
           "align": "left"
          },
          "hovermode": "closest",
          "mapbox": {
           "style": "light"
          },
          "paper_bgcolor": "white",
          "plot_bgcolor": "#E5ECF6",
          "polar": {
           "angularaxis": {
            "gridcolor": "white",
            "linecolor": "white",
            "ticks": ""
           },
           "bgcolor": "#E5ECF6",
           "radialaxis": {
            "gridcolor": "white",
            "linecolor": "white",
            "ticks": ""
           }
          },
          "scene": {
           "xaxis": {
            "backgroundcolor": "#E5ECF6",
            "gridcolor": "white",
            "gridwidth": 2,
            "linecolor": "white",
            "showbackground": true,
            "ticks": "",
            "zerolinecolor": "white"
           },
           "yaxis": {
            "backgroundcolor": "#E5ECF6",
            "gridcolor": "white",
            "gridwidth": 2,
            "linecolor": "white",
            "showbackground": true,
            "ticks": "",
            "zerolinecolor": "white"
           },
           "zaxis": {
            "backgroundcolor": "#E5ECF6",
            "gridcolor": "white",
            "gridwidth": 2,
            "linecolor": "white",
            "showbackground": true,
            "ticks": "",
            "zerolinecolor": "white"
           }
          },
          "shapedefaults": {
           "line": {
            "color": "#2a3f5f"
           }
          },
          "ternary": {
           "aaxis": {
            "gridcolor": "white",
            "linecolor": "white",
            "ticks": ""
           },
           "baxis": {
            "gridcolor": "white",
            "linecolor": "white",
            "ticks": ""
           },
           "bgcolor": "#E5ECF6",
           "caxis": {
            "gridcolor": "white",
            "linecolor": "white",
            "ticks": ""
           }
          },
          "title": {
           "x": 0.05
          },
          "xaxis": {
           "automargin": true,
           "gridcolor": "white",
           "linecolor": "white",
           "ticks": "",
           "title": {
            "standoff": 15
           },
           "zerolinecolor": "white",
           "zerolinewidth": 2
          },
          "yaxis": {
           "automargin": true,
           "gridcolor": "white",
           "linecolor": "white",
           "ticks": "",
           "title": {
            "standoff": 15
           },
           "zerolinecolor": "white",
           "zerolinewidth": 2
          }
         }
        },
        "title": {
         "text": "epoch metrics"
        },
        "xaxis": {
         "anchor": "y",
         "domain": [
          0,
          0.98
         ],
         "title": {
          "text": "step"
         }
        },
        "xaxis2": {
         "anchor": "y2",
         "domain": [
          0,
          0.98
         ],
         "matches": "x",
         "showticklabels": false
        },
        "xaxis3": {
         "anchor": "y3",
         "domain": [
          0,
          0.98
         ],
         "matches": "x",
         "showticklabels": false
        },
        "xaxis4": {
         "anchor": "y4",
         "domain": [
          0,
          0.98
         ],
         "matches": "x",
         "showticklabels": false
        },
        "yaxis": {
         "anchor": "x",
         "domain": [
          0,
          0.2275
         ],
         "title": {
          "text": "value"
         }
        },
        "yaxis2": {
         "anchor": "x2",
         "domain": [
          0.2575,
          0.485
         ],
         "title": {
          "text": "value"
         }
        },
        "yaxis3": {
         "anchor": "x3",
         "domain": [
          0.515,
          0.7425
         ],
         "title": {
          "text": "value"
         }
        },
        "yaxis4": {
         "anchor": "x4",
         "domain": [
          0.7725,
          1
         ],
         "title": {
          "text": "value"
         }
        }
       }
      }
     },
     "metadata": {},
     "output_type": "display_data"
    },
    {
     "name": "stdout",
     "output_type": "stream",
     "text": [
      "=========================\n",
      "training: 4\n"
     ]
    },
    {
     "data": {
      "application/vnd.jupyter.widget-view+json": {
       "model_id": "bd321ebe6dc54a9caa28a727e7bdda16",
       "version_major": 2,
       "version_minor": 0
      },
      "text/plain": [
       "Output()"
      ]
     },
     "metadata": {},
     "output_type": "display_data"
    },
    {
     "data": {
      "text/html": [
       "<pre style=\"white-space:pre;overflow-x:auto;line-height:normal;font-family:Menlo,'DejaVu Sans Mono',consolas,'Courier New',monospace\"></pre>\n"
      ],
      "text/plain": []
     },
     "metadata": {},
     "output_type": "display_data"
    },
    {
     "data": {
      "application/vnd.plotly.v1+json": {
       "config": {
        "plotlyServerURL": "https://plot.ly"
       },
       "data": [
        {
         "hovertemplate": "variable=batch_train_loss<br>step=%{x}<br>value=%{y}<extra></extra>",
         "legendgroup": "",
         "marker": {
          "color": "#636efa",
          "symbol": "circle"
         },
         "mode": "markers",
         "name": "",
         "showlegend": false,
         "type": "scattergl",
         "x": {
          "bdata": "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",
          "dtype": "i2"
         },
         "xaxis": "x2",
         "y": {
          "bdata": "AAAAAE0fB0AAAADAdgQHQAAAACDf5AZAAAAAAJ/bBkAAAADAB6sGQAAAAKAOlwZAAAAAIAZVBkAAAADAVEUGQAAAAEAq7gVAAAAAgLp0BkAAAACg2TEGQAAAAGBGDQZAAAAAwCLEBUAAAAAgvKIFQAAAAADRCQZAAAAAoKmFBUAAAABAWbIFQAAAAID9pAVAAAAAYCCXBUAAAABAxH4FQAAAAMBOlAVAAAAAYKxeBUAAAADAK7oFQAAAAEBfHAVAAAAAgH1LBUAAAAAAQIsFQAAAAAA5HAVAAAAAAFg9BUAAAABgDGgFQAAAAABc4QRAAAAAIDkFBUAAAABABeEEQAAAAADqNgVAAAAAQAUKBUAAAAAALQsFQAAAAKAIJgVAAAAAgBQZBUAAAADAo/sEQAAAACBqMQVAAAAAwO9WBUAAAABArJYFQAAAAIAnPwVAAAAAAGJdBUAAAACAHjQFQAAAAACOAwVAAAAAIBxYBUAAAACAxjQFQAAAAMDJWwVAAAAAgDb9BEAAAACgddIEQAAAAIDDIgVAAAAA4OQsBUAAAAAARPcEQAAAAAAcNQVAAAAAAAfgBEAAAAAARjEFQAAAAEA+ywRAAAAAID1uBUAAAAAgHN8EQAAAAABTpARAAAAAYJ8pBUAAAADgNRUFQAAAAEDDtwRAAAAAgLEjBUAAAABAcvcEQAAAAGCfVgVAAAAAwA/WBEAAAABA0PQEQAAAAGCWqARAAAAAwAnJBEAAAABACWYEQAAAAMD4/wRAAAAAoGCOBEAAAADA884EQAAAAACEigRAAAAAwJW0BEAAAAAgdlMEQAAAACBZ/ARAAAAAoNVRBEAAAACAsHYEQAAAACCi1gRAAAAAgJBgBEAAAABgFwkFQAAAACCnxARAAAAAAPFeBEAAAABgZa4EQAAAAOB5hQRAAAAAYF9OBEAAAAAAzswEQAAAAODNuwRAAAAA4KB4BEAAAABAqzEEQAAAAEA1tARAAAAAgDDIBEAAAACA04YEQAAAAGDLvgRAAAAAwJM0BEAAAAAAW3oEQAAAAMCYQwRAAAAAgP7cBEAAAACgRYwEQAAAAKC72QRAAAAAwB4xBEAAAACgWAgFQAAAAAACJwRAAAAA4A8JBEAAAABgcHMEQAAAACAFiwRAAAAA4P2VBEAAAABAszUEQAAAAOBUbgRAAAAAIAn7A0AAAADgvyUEQAAAAEAM7gRAAAAAYPXQBEAAAACA4ZoEQAAAAMC5HQRAAAAAAGJkBEAAAACgIPADQAAAAMCPOARAAAAAAJtcBEAAAAAA8ZAEQAAAAMAstwRAAAAAoGZuBEAAAAAA/UcEQAAAAAB4nARAAAAAIIuiBEAAAADATo4EQAAAAED1nARAAAAAwFXsA0AAAACA3ngEQAAAAMCKHARAAAAAgD44BEAAAACArwcEQAAAAKAjVgRAAAAAoPyrBEAAAAAAbLIEQAAAAGD9PgRAAAAAoOx7BEAAAADgOjIEQAAAAECuXARAAAAAoCr5A0AAAADgQOgDQAAAAIBX9QNAAAAAoOAWBEAAAABg0xQEQAAAAEALGQRAAAAAAN1PBEAAAACgMGEEQAAAAODGhwRAAAAAAJInBEAAAADgXTwEQAAAAACxvwRAAAAAABwRBEAAAADAc0IEQAAAAIDdegRAAAAAoLH2A0AAAABAMzkEQAAAAGAu3ANAAAAAoE5NBEAAAAAgtVMEQAAAAIARfQRAAAAAoK8vBEAAAABgDS4EQAAAAGC0mgRAAAAAgPhbBEAAAAAAb14EQAAAAGCxVgRAAAAAwFHUA0AAAADg3PADQAAAAOApZQRAAAAAACP4A0AAAABAA3QDQAAAAIDErANAAAAAID9RBEAAAACgQfgDQAAAAEBoVwRAAAAA4DUwBEAAAABAevkDQAAAAMCx+gNAAAAAwLLTA0AAAACgsjQEQAAAAMCpbwRAAAAA4Kb+A0AAAADgEv8DQAAAAAB8GQRAAAAAwComBEAAAABA6CIEQAAAAGCmeARAAAAAgOU0BEAAAABgf6MDQAAAAACRBARAAAAAICzgA0AAAABgOcQDQAAAAIA39ANAAAAAgAbnA0AAAACgXzwEQAAAAKBJTwRAAAAAYODjA0AAAADgJgwEQAAAAEAKLgRAAAAAoMz+A0AAAACA28kDQAAAAEBA+QNAAAAAgLWnA0AAAABgeM4DQAAAAMB/AQRAAAAAoJn9A0AAAACgok0EQAAAAAA0KARAAAAAYOvlA0AAAACA8aIDQAAAAGDF0QNAAAAAoJH/A0AAAADAlQ8EQAAAAEDwwANAAAAAQHlyBEAAAAAg/r8DQAAAAICNlwNAAAAAAGSsA0AAAABgCJMDQAAAAKDoowNAAAAAwLeoA0AAAADgXtgDQAAAAKDMBgRAAAAA4AIQBEAAAAAglA4EQAAAAOBAFwRAAAAAgDFCBEAAAAAgTsQDQAAAAID8BwRAAAAAwPYRBEAAAAAgQssDQAAAAGC8XQNAAAAAYLfiA0AAAACAbbgDQAAAAMBnzgNAAAAAAMP7A0AAAACgro8DQAAAACDw2gNAAAAA4KrFA0AAAABg+iQEQAAAAEBzGgRAAAAAYLgeBEAAAADgXbkDQAAAAEDXwwNAAAAAAD6jA0AAAACA/+UDQAAAACDuCgRAAAAA4BwpBEAAAADAaAkEQAAAAOAvvQNAAAAAIG/PA0AAAABghrcDQAAAAIB5+QNAAAAAAAOPA0AAAADAmpUDQAAAAIAy4gNAAAAAwAGnA0AAAADARCcEQAAAAADvmwNAAAAAwHHBA0AAAACgAmcDQAAAAEBizQNAAAAAwKjaA0AAAABA0fYDQAAAACCJ9wNAAAAAoMd9A0AAAADgHL0DQAAAAIBwaANAAAAAgCl+A0AAAABAxY4DQAAAAIDO7ANAAAAAQEDAA0AAAACA45EDQAAAAIDbGARAAAAAIIq2A0AAAADA5bwDQAAAAACV1gNAAAAAAOeuA0AAAABAMusDQAAAAIADdQNAAAAAYBqgA0AAAADgVJsDQAAAAMAk+wNAAAAAwFBBA0AAAABAC6oDQAAAAKBNpgNAAAAAoLe0A0AAAACgskQEQAAAAODUwgNAAAAAIEG0A0AAAACAVFkEQAAAAMAIJwNAAAAA4MkVBEAAAAAAsK4DQAAAAOBOZQNAAAAAgG78A0AAAAAA0LsDQAAAAMDZIgNAAAAAABKyA0AAAAAgwskDQAAAAGCAcQNAAAAAgOefA0AAAABAzekDQAAAAMCauANAAAAAAI1sA0AAAACANcEDQAAAAEA99AJAAAAAAIwvA0AAAABgDJkDQAAAAGC2MwRAAAAAIO+OA0AAAAAgaeMDQAAAAIB+1gNAAAAAwOO7A0AAAACgMI4DQAAAAIBSqQNAAAAAYBiBA0AAAABArqMDQAAAAGDIrwNAAAAAgLVQA0AAAADgMn0DQAAAAECGZgNAAAAAwCt7A0AAAAAgohQEQAAAAEA3cQNAAAAAYLqSA0AAAACgookDQAAAAKCxqgNAAAAAYDFyA0AAAACAB74DQAAAAADuZwNAAAAAoBeDA0AAAADAkokDQAAAACDj7QNAAAAAwAHqA0AAAABAMksEQAAAAICjTwNAAAAAgGLFA0AAAAAgFwMDQAAAAABPCgRAAAAAAMnWA0AAAABA4aIDQAAAAEASYQNAAAAAwMOGA0AAAADAID8DQAAAAKDZbQNAAAAA4I13A0AAAADgV7oDQAAAAOBcnwNAAAAAwDftA0AAAAAgSI4DQAAAAGCK1QNAAAAAoKusA0AAAACgJXEDQAAAAED9QgNAAAAAQIjBA0AAAADAJVMDQAAAACCsfANAAAAAAGbXA0AAAACgznYDQAAAACC1BARAAAAAAFTHA0AAAAAAxMIDQAAAAMCtnANAAAAAILfNA0AAAACgJVEDQAAAAIDakwNAAAAAAHq5A0AAAACATpUDQAAAAOBIvwNAAAAA4HkeA0AAAACAtEMDQAAAAOCzFANAAAAAYGNGA0AAAADAXoEDQAAAAEDFwANAAAAAAJ9rA0AAAACAX54DQAAAAEDcyANAAAAAQC1oA0AAAAAgQXEDQAAAAOApyQNAAAAAAB/QA0AAAAAAZbUDQAAAAACQHANAAAAAQG9jA0AAAAAgOYsDQAAAAOAoPQNAAAAAQAepAkAAAAAgJmADQAAAAADjQANAAAAAwO10A0AAAADgEgUDQAAAAKABEANAAAAA4NipA0AAAABAsgcDQAAAAKDayANAAAAA4JBsA0AAAADA36oDQAAAAGBf3wNAAAAAoHPKA0AAAAAgCE0DQAAAAODrlgNAAAAAIPkmA0AAAADAxIUDQAAAAKDtpANAAAAAYKNDA0AAAABg2XADQAAAAADHiQNAAAAAwB+ZA0AAAADgwRAEQAAAAIDG4QNAAAAAgD+bA0AAAACA234DQAAAACBDZANAAAAAAF3rA0AAAADAs1sDQAAAAADvcgNAAAAAYBTtAkAAAAAAbEYDQAAAACBSeQNAAAAAADGhA0AAAAAA66oDQAAAAAB7TwNAAAAAAHJ3A0AAAABAlY4DQAAAAABALQNAAAAAoG16A0AAAABg5nYDQAAAAIBGcwNAAAAAQHkpA0AAAAAARO0CQAAAAGBpiANAAAAAgPWdA0AAAACAGIkDQAAAAGDICwNAAAAAIEetA0AAAACAvmsDQAAAAICEVANAAAAAYLLQAkAAAABg4GQDQAAAACBH/QJAAAAAANsmA0AAAADg0oMDQAAAAIBKWQNAAAAAIN5rA0AAAAAAQBsDQAAAAMB6VwNAAAAAABuwA0AAAADAPrQCQAAAAADiTwNAAAAAwCpVA0AAAABAPHADQAAAAEALBgNAAAAAgGwrA0AAAADg6kkDQAAAAADxfQNAAAAA4J4hA0AAAAAAlWwDQAAAAMA1awNAAAAA4DE2A0AAAADg71ADQAAAAGDf2gNAAAAAYMBrA0AAAACgWuwCQAAAAOA6HANAAAAA4AcZA0AAAADACy0DQAAAAMD1KQNAAAAAANn+AkAAAAAAljgDQAAAACA4WwNAAAAAQP+6AkAAAADAOisDQAAAAKBWbgNAAAAAwKBRA0AAAAAAktgCQAAAAMAqUQNAAAAAYLlDA0AAAACAbfgCQAAAAMAvbANAAAAAgEPvAkAAAADggJ4DQAAAAABtSwNAAAAAQLAnA0AAAABA02sDQAAAAKC1RwNAAAAAINhBA0AAAABACjwDQAAAAMBhegNAAAAAIPRqA0AAAACANDYDQAAAACDq+QJAAAAAYLZFA0AAAABgyXsDQAAAAGCbRgNAAAAAIOhsA0AAAAAgFQsDQAAAACDvKgNAAAAA4OMZA0AAAABgyjIDQAAAACDdZgNAAAAAoPg1A0AAAADABzsDQAAAAOAILwNAAAAA4JsfA0AAAADAKQcDQAAAAEDpgQNAAAAAYBp8A0AAAACg/AMDQAAAAIBOJgNAAAAAgH1EA0AAAAAAy/ECQAAAAEARaANAAAAAwDklA0AAAADAZUwDQAAAACAs4AJAAAAAwMlXA0AAAACABGEDQAAAAIA5MQNAAAAAILP9AkAAAADAqgkDQAAAAGBF9gJAAAAAIBwlA0AAAADgI0sDQAAAAAAG6AJAAAAAIFFCA0AAAABgPTkDQAAAAECPYANAAAAAYLzmAkAAAABA5eMCQAAAAMAnIQNAAAAAQGrkAkAAAABgYUYDQAAAAACTIQNAAAAAgKl2AkAAAABAqAUDQAAAAEA2HgNAAAAAoMI9A0AAAAAAU90CQAAAAIBv+AJAAAAA4PlGA0AAAACAavgCQAAAACBfiANAAAAAwHktA0AAAADgESQDQAAAAKBaBwNAAAAAwNHFAkAAAAAAfO8CQAAAACAiVANAAAAAIGtWA0AAAAAgA9cCQAAAAAB8QANAAAAAgIeOAkAAAACADMsCQAAAAABo+QJAAAAA4B7UAkAAAADguQkDQAAAAACFSwNAAAAA4NPEAkAAAACgnlcDQAAAACAy0gJAAAAAgI+gAkAAAABgS6oCQAAAAMBvLQNAAAAAoNsHA0AAAABAVP4CQAAAAOAN9wJAAAAAoBPuAkAAAADgFg8DQAAAAADDKANAAAAA4DnRAkAAAADAuu0CQAAAACBQ9wJAAAAA4COMA0AAAADgI9ICQAAAAED/BANAAAAAoH2OAkAAAADgH9ECQAAAACAXCgNAAAAAoF8HA0AAAABAmmgDQAAAAKAklQJAAAAA4NsdA0AAAACA8u4CQAAAAKDJAwNAAAAAwI0UA0AAAADg9HUCQAAAAOCtcQJAAAAAYJMQA0AAAAAAnl8DQAAAAMCDnQJAAAAAwHiaAkAAAABgEtQCQAAAACBbUANAAAAAIAZXA0AAAACgNswCQAAAAKDRmgJAAAAAwJbmAkAAAADg9v4CQAAAAICwHANAAAAAgG4RA0AAAACAGBgDQAAAAICf4AJAAAAAwBPHAkAAAAAA3RIDQAAAAOA6qgJAAAAAwMATA0AAAABAOh4DQAAAAEC35QJAAAAAAMNRA0AAAACAZMQCQAAAAADElAJAAAAAAB6/AkAAAAAguuoCQAAAAGBOmwJAAAAAQGfWAkAAAACApMoCQAAAAEBx4gJAAAAAAIIvA0AAAAAgUroCQAAAAEAa2gJAAAAA4IscA0AAAAAAJ9ICQAAAAOB8FgNAAAAAACGlAkAAAABANYYCQAAAAMBgiAJAAAAAIBD5AkAAAACAyM0CQAAAAMBrqgJAAAAAgFaTAkAAAAAgs7wCQAAAAOB20QJAAAAAIHrUAkAAAABgNHsDQAAAAMDGuAJAAAAAQJaSAkAAAAAgSYgCQAAAAEBLqQJAAAAAwF3mAkAAAAAghdECQAAAAIDR7wJAAAAA4IVoA0AAAADAP/sCQAAAAOBGIwNAAAAAAI7gAkAAAACg6EoDQAAAAAAbFQNAAAAAYASsAkAAAABAnZ8CQAAAAEB91QJAAAAA4GjhAkAAAABAm9sCQAAAAMBEbgJAAAAAQORKA0AAAAAgz8QCQAAAAOBLnQJAAAAAAPbbAkAAAADgU7MCQAAAAKB80wJAAAAAoONZAkAAAADAtrMCQAAAAKAKDANAAAAAYBkyA0AAAABAO/ICQAAAAOB2lgJAAAAAAGwSA0AAAACgmr0CQAAAAICY3wJAAAAAAEreAkAAAADAVxIDQAAAAMDbdQJAAAAAALLdAkAAAAAA9dYCQAAAAGAWWgJAAAAA4I2NAkAAAABAl54CQAAAAKDmpAJAAAAAoHCgAkAAAAAAm/UCQAAAAGCfVAJAAAAAACN8AkAAAADg3/ICQAAAACDX0QJAAAAA4NFgAkAAAAAgEZYCQAAAAKABtAJAAAAAAMbzAkAAAABgc+gCQAAAACB31AJAAAAAYNzKAkAAAAAAhPICQAAAAABksQJAAAAAoBX4AkAAAADA8toCQAAAAMCsFQNAAAAAAFzOAkAAAAAgw8wCQAAAAEDvAgNAAAAA4PO7AkAAAACA3hoDQAAAAABTrgJAAAAAABxpAkAAAAAAo5sCQAAAACB3dwJAAAAAIJ96AkAAAAAAvrkCQAAAAKCV6gJAAAAA4HrDAkAAAABACKICQAAAAEDLyQJAAAAAALLGAkAAAABA8HgCQAAAAKATzQJAAAAAAOnsAkAAAACgBL0CQAAAAKDm+AJAAAAAoP2qAkAAAACAjsICQAAAAGBijwJAAAAA4O5TAkAAAADgdZ0CQAAAAMDWAwNAAAAAwF+JAkAAAAAgVYkCQAAAAMB/agJAAAAAoFKCAkAAAADAb44CQAAAACCtpgJAAAAA4EK8AkAAAACgDcACQAAAACDiVwJAAAAAgDzmAkAAAADA+YQCQAAAAABO1AJAAAAAYFWzAkAAAAAAmEwCQAAAAMB1wAJAAAAAILziAkAAAADAr4QCQAAAAGDk/gJAAAAAwJW4AkAAAAAAgLkCQAAAAICOzgJAAAAAwP2kAkAAAAAAmXACQAAAAMCVVQJAAAAAwKjPAkAAAADgPv0CQAAAAMCLhwJAAAAA4LejAkAAAACgUPECQAAAACBasQJAAAAAgFbGAkAAAADgBuUCQAAAAGB6cQJAAAAAwE21AkAAAADgVGwCQAAAACD6kQJAAAAAoOvbAkAAAAAg84wCQAAAAMAAzAJAAAAAoIYwAkAAAACg8lkCQAAAAADIcQJAAAAAAGc2AkAAAAAAqHsCQAAAAAAJpAJAAAAAICXHAkAAAADAXVICQAAAACBiyQJAAAAAYMioAkAAAABAM8QCQAAAAMCMqQJAAAAAoCKfAkAAAACg03QDQAAAAICgOQJA",
          "dtype": "f8"
         },
         "yaxis": "y2"
        },
        {
         "hovertemplate": "<b>Exponentially Weighted mean trendline</b><br><br>variable=batch_train_loss<br>step=%{x}<br>value=%{y} <b>(trend)</b><extra></extra>",
         "legendgroup": "",
         "line": {
          "color": "red"
         },
         "marker": {
          "color": "#636efa",
          "symbol": "circle"
         },
         "mode": "lines",
         "name": "",
         "showlegend": false,
         "type": "scattergl",
         "x": {
          "bdata": "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",
          "dtype": "i2"
         },
         "xaxis": "x2",
         "y": {
          "bdata": "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",
          "dtype": "f8"
         },
         "yaxis": "y2"
        },
        {
         "hovertemplate": "variable=batch_accuracy<br>step=%{x}<br>value=%{y}<extra></extra>",
         "legendgroup": "",
         "marker": {
          "color": "#636efa",
          "symbol": "circle"
         },
         "mode": "markers",
         "name": "",
         "showlegend": false,
         "type": "scattergl",
         "x": {
          "bdata": "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",
          "dtype": "i2"
         },
         "xaxis": "x",
         "y": {
          "bdata": "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",
          "dtype": "f8"
         },
         "yaxis": "y"
        },
        {
         "hovertemplate": "<b>Exponentially Weighted mean trendline</b><br><br>variable=batch_accuracy<br>step=%{x}<br>value=%{y} <b>(trend)</b><extra></extra>",
         "legendgroup": "",
         "line": {
          "color": "red"
         },
         "marker": {
          "color": "#636efa",
          "symbol": "circle"
         },
         "mode": "lines",
         "name": "",
         "showlegend": false,
         "type": "scattergl",
         "x": {
          "bdata": "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",
          "dtype": "i2"
         },
         "xaxis": "x",
         "y": {
          "bdata": "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",
          "dtype": "f8"
         },
         "yaxis": "y"
        }
       ],
       "layout": {
        "annotations": [
         {
          "font": {},
          "showarrow": false,
          "text": "variable=batch_accuracy",
          "textangle": 90,
          "x": 0.98,
          "xanchor": "left",
          "xref": "paper",
          "y": 0.2425,
          "yanchor": "middle",
          "yref": "paper"
         },
         {
          "font": {},
          "showarrow": false,
          "text": "variable=batch_train_loss",
          "textangle": 90,
          "x": 0.98,
          "xanchor": "left",
          "xref": "paper",
          "y": 0.7575000000000001,
          "yanchor": "middle",
          "yref": "paper"
         }
        ],
        "legend": {
         "tracegroupgap": 0
        },
        "template": {
         "data": {
          "bar": [
           {
            "error_x": {
             "color": "#2a3f5f"
            },
            "error_y": {
             "color": "#2a3f5f"
            },
            "marker": {
             "line": {
              "color": "#E5ECF6",
              "width": 0.5
             },
             "pattern": {
              "fillmode": "overlay",
              "size": 10,
              "solidity": 0.2
             }
            },
            "type": "bar"
           }
          ],
          "barpolar": [
           {
            "marker": {
             "line": {
              "color": "#E5ECF6",
              "width": 0.5
             },
             "pattern": {
              "fillmode": "overlay",
              "size": 10,
              "solidity": 0.2
             }
            },
            "type": "barpolar"
           }
          ],
          "carpet": [
           {
            "aaxis": {
             "endlinecolor": "#2a3f5f",
             "gridcolor": "white",
             "linecolor": "white",
             "minorgridcolor": "white",
             "startlinecolor": "#2a3f5f"
            },
            "baxis": {
             "endlinecolor": "#2a3f5f",
             "gridcolor": "white",
             "linecolor": "white",
             "minorgridcolor": "white",
             "startlinecolor": "#2a3f5f"
            },
            "type": "carpet"
           }
          ],
          "choropleth": [
           {
            "colorbar": {
             "outlinewidth": 0,
             "ticks": ""
            },
            "type": "choropleth"
           }
          ],
          "contour": [
           {
            "colorbar": {
             "outlinewidth": 0,
             "ticks": ""
            },
            "colorscale": [
             [
              0,
              "#0d0887"
             ],
             [
              0.1111111111111111,
              "#46039f"
             ],
             [
              0.2222222222222222,
              "#7201a8"
             ],
             [
              0.3333333333333333,
              "#9c179e"
             ],
             [
              0.4444444444444444,
              "#bd3786"
             ],
             [
              0.5555555555555556,
              "#d8576b"
             ],
             [
              0.6666666666666666,
              "#ed7953"
             ],
             [
              0.7777777777777778,
              "#fb9f3a"
             ],
             [
              0.8888888888888888,
              "#fdca26"
             ],
             [
              1,
              "#f0f921"
             ]
            ],
            "type": "contour"
           }
          ],
          "contourcarpet": [
           {
            "colorbar": {
             "outlinewidth": 0,
             "ticks": ""
            },
            "type": "contourcarpet"
           }
          ],
          "heatmap": [
           {
            "colorbar": {
             "outlinewidth": 0,
             "ticks": ""
            },
            "colorscale": [
             [
              0,
              "#0d0887"
             ],
             [
              0.1111111111111111,
              "#46039f"
             ],
             [
              0.2222222222222222,
              "#7201a8"
             ],
             [
              0.3333333333333333,
              "#9c179e"
             ],
             [
              0.4444444444444444,
              "#bd3786"
             ],
             [
              0.5555555555555556,
              "#d8576b"
             ],
             [
              0.6666666666666666,
              "#ed7953"
             ],
             [
              0.7777777777777778,
              "#fb9f3a"
             ],
             [
              0.8888888888888888,
              "#fdca26"
             ],
             [
              1,
              "#f0f921"
             ]
            ],
            "type": "heatmap"
           }
          ],
          "histogram": [
           {
            "marker": {
             "pattern": {
              "fillmode": "overlay",
              "size": 10,
              "solidity": 0.2
             }
            },
            "type": "histogram"
           }
          ],
          "histogram2d": [
           {
            "colorbar": {
             "outlinewidth": 0,
             "ticks": ""
            },
            "colorscale": [
             [
              0,
              "#0d0887"
             ],
             [
              0.1111111111111111,
              "#46039f"
             ],
             [
              0.2222222222222222,
              "#7201a8"
             ],
             [
              0.3333333333333333,
              "#9c179e"
             ],
             [
              0.4444444444444444,
              "#bd3786"
             ],
             [
              0.5555555555555556,
              "#d8576b"
             ],
             [
              0.6666666666666666,
              "#ed7953"
             ],
             [
              0.7777777777777778,
              "#fb9f3a"
             ],
             [
              0.8888888888888888,
              "#fdca26"
             ],
             [
              1,
              "#f0f921"
             ]
            ],
            "type": "histogram2d"
           }
          ],
          "histogram2dcontour": [
           {
            "colorbar": {
             "outlinewidth": 0,
             "ticks": ""
            },
            "colorscale": [
             [
              0,
              "#0d0887"
             ],
             [
              0.1111111111111111,
              "#46039f"
             ],
             [
              0.2222222222222222,
              "#7201a8"
             ],
             [
              0.3333333333333333,
              "#9c179e"
             ],
             [
              0.4444444444444444,
              "#bd3786"
             ],
             [
              0.5555555555555556,
              "#d8576b"
             ],
             [
              0.6666666666666666,
              "#ed7953"
             ],
             [
              0.7777777777777778,
              "#fb9f3a"
             ],
             [
              0.8888888888888888,
              "#fdca26"
             ],
             [
              1,
              "#f0f921"
             ]
            ],
            "type": "histogram2dcontour"
           }
          ],
          "mesh3d": [
           {
            "colorbar": {
             "outlinewidth": 0,
             "ticks": ""
            },
            "type": "mesh3d"
           }
          ],
          "parcoords": [
           {
            "line": {
             "colorbar": {
              "outlinewidth": 0,
              "ticks": ""
             }
            },
            "type": "parcoords"
           }
          ],
          "pie": [
           {
            "automargin": true,
            "type": "pie"
           }
          ],
          "scatter": [
           {
            "fillpattern": {
             "fillmode": "overlay",
             "size": 10,
             "solidity": 0.2
            },
            "type": "scatter"
           }
          ],
          "scatter3d": [
           {
            "line": {
             "colorbar": {
              "outlinewidth": 0,
              "ticks": ""
             }
            },
            "marker": {
             "colorbar": {
              "outlinewidth": 0,
              "ticks": ""
             }
            },
            "type": "scatter3d"
           }
          ],
          "scattercarpet": [
           {
            "marker": {
             "colorbar": {
              "outlinewidth": 0,
              "ticks": ""
             }
            },
            "type": "scattercarpet"
           }
          ],
          "scattergeo": [
           {
            "marker": {
             "colorbar": {
              "outlinewidth": 0,
              "ticks": ""
             }
            },
            "type": "scattergeo"
           }
          ],
          "scattergl": [
           {
            "marker": {
             "colorbar": {
              "outlinewidth": 0,
              "ticks": ""
             }
            },
            "type": "scattergl"
           }
          ],
          "scattermap": [
           {
            "marker": {
             "colorbar": {
              "outlinewidth": 0,
              "ticks": ""
             }
            },
            "type": "scattermap"
           }
          ],
          "scattermapbox": [
           {
            "marker": {
             "colorbar": {
              "outlinewidth": 0,
              "ticks": ""
             }
            },
            "type": "scattermapbox"
           }
          ],
          "scatterpolar": [
           {
            "marker": {
             "colorbar": {
              "outlinewidth": 0,
              "ticks": ""
             }
            },
            "type": "scatterpolar"
           }
          ],
          "scatterpolargl": [
           {
            "marker": {
             "colorbar": {
              "outlinewidth": 0,
              "ticks": ""
             }
            },
            "type": "scatterpolargl"
           }
          ],
          "scatterternary": [
           {
            "marker": {
             "colorbar": {
              "outlinewidth": 0,
              "ticks": ""
             }
            },
            "type": "scatterternary"
           }
          ],
          "surface": [
           {
            "colorbar": {
             "outlinewidth": 0,
             "ticks": ""
            },
            "colorscale": [
             [
              0,
              "#0d0887"
             ],
             [
              0.1111111111111111,
              "#46039f"
             ],
             [
              0.2222222222222222,
              "#7201a8"
             ],
             [
              0.3333333333333333,
              "#9c179e"
             ],
             [
              0.4444444444444444,
              "#bd3786"
             ],
             [
              0.5555555555555556,
              "#d8576b"
             ],
             [
              0.6666666666666666,
              "#ed7953"
             ],
             [
              0.7777777777777778,
              "#fb9f3a"
             ],
             [
              0.8888888888888888,
              "#fdca26"
             ],
             [
              1,
              "#f0f921"
             ]
            ],
            "type": "surface"
           }
          ],
          "table": [
           {
            "cells": {
             "fill": {
              "color": "#EBF0F8"
             },
             "line": {
              "color": "white"
             }
            },
            "header": {
             "fill": {
              "color": "#C8D4E3"
             },
             "line": {
              "color": "white"
             }
            },
            "type": "table"
           }
          ]
         },
         "layout": {
          "annotationdefaults": {
           "arrowcolor": "#2a3f5f",
           "arrowhead": 0,
           "arrowwidth": 1
          },
          "autotypenumbers": "strict",
          "coloraxis": {
           "colorbar": {
            "outlinewidth": 0,
            "ticks": ""
           }
          },
          "colorscale": {
           "diverging": [
            [
             0,
             "#8e0152"
            ],
            [
             0.1,
             "#c51b7d"
            ],
            [
             0.2,
             "#de77ae"
            ],
            [
             0.3,
             "#f1b6da"
            ],
            [
             0.4,
             "#fde0ef"
            ],
            [
             0.5,
             "#f7f7f7"
            ],
            [
             0.6,
             "#e6f5d0"
            ],
            [
             0.7,
             "#b8e186"
            ],
            [
             0.8,
             "#7fbc41"
            ],
            [
             0.9,
             "#4d9221"
            ],
            [
             1,
             "#276419"
            ]
           ],
           "sequential": [
            [
             0,
             "#0d0887"
            ],
            [
             0.1111111111111111,
             "#46039f"
            ],
            [
             0.2222222222222222,
             "#7201a8"
            ],
            [
             0.3333333333333333,
             "#9c179e"
            ],
            [
             0.4444444444444444,
             "#bd3786"
            ],
            [
             0.5555555555555556,
             "#d8576b"
            ],
            [
             0.6666666666666666,
             "#ed7953"
            ],
            [
             0.7777777777777778,
             "#fb9f3a"
            ],
            [
             0.8888888888888888,
             "#fdca26"
            ],
            [
             1,
             "#f0f921"
            ]
           ],
           "sequentialminus": [
            [
             0,
             "#0d0887"
            ],
            [
             0.1111111111111111,
             "#46039f"
            ],
            [
             0.2222222222222222,
             "#7201a8"
            ],
            [
             0.3333333333333333,
             "#9c179e"
            ],
            [
             0.4444444444444444,
             "#bd3786"
            ],
            [
             0.5555555555555556,
             "#d8576b"
            ],
            [
             0.6666666666666666,
             "#ed7953"
            ],
            [
             0.7777777777777778,
             "#fb9f3a"
            ],
            [
             0.8888888888888888,
             "#fdca26"
            ],
            [
             1,
             "#f0f921"
            ]
           ]
          },
          "colorway": [
           "#636efa",
           "#EF553B",
           "#00cc96",
           "#ab63fa",
           "#FFA15A",
           "#19d3f3",
           "#FF6692",
           "#B6E880",
           "#FF97FF",
           "#FECB52"
          ],
          "font": {
           "color": "#2a3f5f"
          },
          "geo": {
           "bgcolor": "white",
           "lakecolor": "white",
           "landcolor": "#E5ECF6",
           "showlakes": true,
           "showland": true,
           "subunitcolor": "white"
          },
          "hoverlabel": {
           "align": "left"
          },
          "hovermode": "closest",
          "mapbox": {
           "style": "light"
          },
          "paper_bgcolor": "white",
          "plot_bgcolor": "#E5ECF6",
          "polar": {
           "angularaxis": {
            "gridcolor": "white",
            "linecolor": "white",
            "ticks": ""
           },
           "bgcolor": "#E5ECF6",
           "radialaxis": {
            "gridcolor": "white",
            "linecolor": "white",
            "ticks": ""
           }
          },
          "scene": {
           "xaxis": {
            "backgroundcolor": "#E5ECF6",
            "gridcolor": "white",
            "gridwidth": 2,
            "linecolor": "white",
            "showbackground": true,
            "ticks": "",
            "zerolinecolor": "white"
           },
           "yaxis": {
            "backgroundcolor": "#E5ECF6",
            "gridcolor": "white",
            "gridwidth": 2,
            "linecolor": "white",
            "showbackground": true,
            "ticks": "",
            "zerolinecolor": "white"
           },
           "zaxis": {
            "backgroundcolor": "#E5ECF6",
            "gridcolor": "white",
            "gridwidth": 2,
            "linecolor": "white",
            "showbackground": true,
            "ticks": "",
            "zerolinecolor": "white"
           }
          },
          "shapedefaults": {
           "line": {
            "color": "#2a3f5f"
           }
          },
          "ternary": {
           "aaxis": {
            "gridcolor": "white",
            "linecolor": "white",
            "ticks": ""
           },
           "baxis": {
            "gridcolor": "white",
            "linecolor": "white",
            "ticks": ""
           },
           "bgcolor": "#E5ECF6",
           "caxis": {
            "gridcolor": "white",
            "linecolor": "white",
            "ticks": ""
           }
          },
          "title": {
           "x": 0.05
          },
          "xaxis": {
           "automargin": true,
           "gridcolor": "white",
           "linecolor": "white",
           "ticks": "",
           "title": {
            "standoff": 15
           },
           "zerolinecolor": "white",
           "zerolinewidth": 2
          },
          "yaxis": {
           "automargin": true,
           "gridcolor": "white",
           "linecolor": "white",
           "ticks": "",
           "title": {
            "standoff": 15
           },
           "zerolinecolor": "white",
           "zerolinewidth": 2
          }
         }
        },
        "title": {
         "text": "batch metrics"
        },
        "xaxis": {
         "anchor": "y",
         "domain": [
          0,
          0.98
         ],
         "title": {
          "text": "step"
         }
        },
        "xaxis2": {
         "anchor": "y2",
         "domain": [
          0,
          0.98
         ],
         "matches": "x",
         "showticklabels": false
        },
        "yaxis": {
         "anchor": "x",
         "domain": [
          0,
          0.485
         ],
         "title": {
          "text": "value"
         }
        },
        "yaxis2": {
         "anchor": "x2",
         "domain": [
          0.515,
          1
         ],
         "title": {
          "text": "value"
         }
        }
       }
      }
     },
     "metadata": {},
     "output_type": "display_data"
    },
    {
     "data": {
      "application/vnd.plotly.v1+json": {
       "config": {
        "plotlyServerURL": "https://plot.ly"
       },
       "data": [
        {
         "hovertemplate": "variable=train_epoch_loss<br>step=%{x}<br>value=%{y}<extra></extra>",
         "legendgroup": "train_epoch_loss",
         "line": {
          "color": "#636efa",
          "dash": "solid"
         },
         "marker": {
          "symbol": "circle"
         },
         "mode": "lines",
         "name": "train_epoch_loss",
         "orientation": "v",
         "showlegend": true,
         "type": "scatter",
         "x": {
          "bdata": "GQAzAE0AZwCBAJsAtQDPAOkAAwEdATcBUQFrAYUBnwG5AdMB7QEHAiECOwJVAm8CiQKjAr0C1wLxAgsD",
          "dtype": "i2"
         },
         "xaxis": "x4",
         "y": {
          "bdata": "7MRO3PEDBkA7sRPr0ScFQMVO7FTp4QRAxU7sFGiUBECe2InN6WQEQJ7YiV3tRQRAJ3Zixy0gBEDsxE58KAUEQMVO7PS75QNAip3YqXnbA0BP7MTeObMDQGIndhIUrQNAxU7sNL2lA0CKndiJXpcDQAAAAKDOgwNA7MRO3L53A0Ce2ImtB2MDQHZiJ9YhSgNA7MROLPQ4A0AAAABgwDYDQAAAABAWGANAAAAAENj8AkDZiZ2I+/QCQMVO7BQv5QJAip3YCQXdAkBP7MRe+9ACQJ7YiW3zvwJAntiJrWKxAkAAAADAZacCQBQ7sWMNoAJA",
          "dtype": "f8"
         },
         "yaxis": "y4"
        },
        {
         "hovertemplate": "variable=train_epoch_accuracy<br>step=%{x}<br>value=%{y}<extra></extra>",
         "legendgroup": "train_epoch_accuracy",
         "line": {
          "color": "#EF553B",
          "dash": "solid"
         },
         "marker": {
          "symbol": "circle"
         },
         "mode": "lines",
         "name": "train_epoch_accuracy",
         "orientation": "v",
         "showlegend": true,
         "type": "scatter",
         "x": {
          "bdata": "GQAzAE0AZwCBAJsAtQDPAOkAAwEdATcBUQFrAYUBnwG5AdMB7QEHAiECOwJVAm8CiQKjAr0C1wLxAgsD",
          "dtype": "i2"
         },
         "xaxis": "x3",
         "y": {
          "bdata": "vtALvdBLzj8WZVEWZZHVP8D6q7/6C9g/jtzIjdxI2j9LrdRKrdTbP1VVVVVV9dw/66/+6q8+3j/JjdzIjfzeP8zMzMzM7N8/bLqma7om4D8dzuEczsHgP9/yLd/y3eA/13RN13T94D8v9EIv9DLhP5/t2Z7tieE/S63USq204T87sRM7sQPiP9/yLd/ybeI/RERERES04j+LsiiLsqjiPx7jMR7jIeM/sRM7sRO74z9QARVQAcXjP3ZiJ3ZiB+Q/Uiu1Uis15D+xEzuxE0vkP0qYhEmYlOQ/mpmZmZnZ5D/MzMzMzOzkPxqkQRqkEeU/",
          "dtype": "f8"
         },
         "yaxis": "y3"
        },
        {
         "hovertemplate": "variable=validation_loss<br>step=%{x}<br>value=%{y}<extra></extra>",
         "legendgroup": "validation_loss",
         "line": {
          "color": "#00cc96",
          "dash": "solid"
         },
         "marker": {
          "symbol": "circle"
         },
         "mode": "lines",
         "name": "validation_loss",
         "orientation": "v",
         "showlegend": true,
         "type": "scatter",
         "x": {
          "bdata": "GQAzAE0AZwCBAJsAtQDPAOkAAwEdATcBUQFrAYUBnwG5AdMB7QEHAiECOwJVAm8CiQKjAr0C1wLxAgsD",
          "dtype": "i2"
         },
         "xaxis": "x2",
         "y": {
          "bdata": "JUmSROauBUAAAACAR2AFQCVJkoTFKAVAt23bdo8MBUC3bduW3QcFQCVJkmQ6BAVAAAAAwJLgBEBu27ZtSPcEQAAAAECi7gRAt23bNnrvBECSJEmyetwEQAAAAMBa2ARAkiRJkiDKBEAlSZKEINoEQEmSJGn+tQRAkiRJUj/dBEBu27atMsoEQG7btu1H2QRAJUmSJLHpBEAAAABgd9EEQEmSJAkYxgRAAAAAgMy2BEBJkiSJg6oEQNu2bVu2wARAkiRJElPHBEBJkiRpTrcEQCVJkkRc0gRA27Zt+4y7BEBJkiRJJrkEQCVJkmQruARA",
          "dtype": "f8"
         },
         "yaxis": "y2"
        },
        {
         "hovertemplate": "variable=validation_accuracy<br>step=%{x}<br>value=%{y}<extra></extra>",
         "legendgroup": "validation_accuracy",
         "line": {
          "color": "#ab63fa",
          "dash": "solid"
         },
         "marker": {
          "symbol": "circle"
         },
         "mode": "lines",
         "name": "validation_accuracy",
         "orientation": "v",
         "showlegend": true,
         "type": "scatter",
         "x": {
          "bdata": "GQAzAE0AZwCBAJsAtQDPAOkAAwEdATcBUQFrAYUBnwG5AdMB7QEHAiECOwJVAm8CiQKjAr0C1wLxAgsD",
          "dtype": "i2"
         },
         "xaxis": "x",
         "y": {
          "bdata": "Jk79nlvi0T/2e26JU//TP2NXJfcuttU/Fl/xFV+x1j+1DDeZQsvWP9XvuSVOvdY/HoLebuDh1z/A7AGzBwzXP3sXuyq5d9c/+ThMSpcP1z9f8RVf8ZXXP7CmJwEF69c/KmKpiKUi2D+bo2+OvrnXP/71KQvbH9k/X/EVX/HV1z/V77klTn3YP+nycZiU7tc/xanfc0tc1z/20jyyWS/YPy8fh0npstg/jbRjBcJI2T9wjr45+mbZP8lmvTSP7Ng/pR0rEEaa2D/JZr00jyzZP+nycZiULtg/J/yZ8GcC2T/ZrJfmkQ3ZP9msl+aRzdg/",
          "dtype": "f8"
         },
         "yaxis": "y"
        }
       ],
       "layout": {
        "annotations": [
         {
          "font": {},
          "showarrow": false,
          "text": "variable=validation_accuracy",
          "textangle": 90,
          "x": 0.98,
          "xanchor": "left",
          "xref": "paper",
          "y": 0.11375,
          "yanchor": "middle",
          "yref": "paper"
         },
         {
          "font": {},
          "showarrow": false,
          "text": "variable=validation_loss",
          "textangle": 90,
          "x": 0.98,
          "xanchor": "left",
          "xref": "paper",
          "y": 0.37124999999999997,
          "yanchor": "middle",
          "yref": "paper"
         },
         {
          "font": {},
          "showarrow": false,
          "text": "variable=train_epoch_accuracy",
          "textangle": 90,
          "x": 0.98,
          "xanchor": "left",
          "xref": "paper",
          "y": 0.62875,
          "yanchor": "middle",
          "yref": "paper"
         },
         {
          "font": {},
          "showarrow": false,
          "text": "variable=train_epoch_loss",
          "textangle": 90,
          "x": 0.98,
          "xanchor": "left",
          "xref": "paper",
          "y": 0.88625,
          "yanchor": "middle",
          "yref": "paper"
         }
        ],
        "legend": {
         "title": {
          "text": "variable"
         },
         "tracegroupgap": 0
        },
        "template": {
         "data": {
          "bar": [
           {
            "error_x": {
             "color": "#2a3f5f"
            },
            "error_y": {
             "color": "#2a3f5f"
            },
            "marker": {
             "line": {
              "color": "#E5ECF6",
              "width": 0.5
             },
             "pattern": {
              "fillmode": "overlay",
              "size": 10,
              "solidity": 0.2
             }
            },
            "type": "bar"
           }
          ],
          "barpolar": [
           {
            "marker": {
             "line": {
              "color": "#E5ECF6",
              "width": 0.5
             },
             "pattern": {
              "fillmode": "overlay",
              "size": 10,
              "solidity": 0.2
             }
            },
            "type": "barpolar"
           }
          ],
          "carpet": [
           {
            "aaxis": {
             "endlinecolor": "#2a3f5f",
             "gridcolor": "white",
             "linecolor": "white",
             "minorgridcolor": "white",
             "startlinecolor": "#2a3f5f"
            },
            "baxis": {
             "endlinecolor": "#2a3f5f",
             "gridcolor": "white",
             "linecolor": "white",
             "minorgridcolor": "white",
             "startlinecolor": "#2a3f5f"
            },
            "type": "carpet"
           }
          ],
          "choropleth": [
           {
            "colorbar": {
             "outlinewidth": 0,
             "ticks": ""
            },
            "type": "choropleth"
           }
          ],
          "contour": [
           {
            "colorbar": {
             "outlinewidth": 0,
             "ticks": ""
            },
            "colorscale": [
             [
              0,
              "#0d0887"
             ],
             [
              0.1111111111111111,
              "#46039f"
             ],
             [
              0.2222222222222222,
              "#7201a8"
             ],
             [
              0.3333333333333333,
              "#9c179e"
             ],
             [
              0.4444444444444444,
              "#bd3786"
             ],
             [
              0.5555555555555556,
              "#d8576b"
             ],
             [
              0.6666666666666666,
              "#ed7953"
             ],
             [
              0.7777777777777778,
              "#fb9f3a"
             ],
             [
              0.8888888888888888,
              "#fdca26"
             ],
             [
              1,
              "#f0f921"
             ]
            ],
            "type": "contour"
           }
          ],
          "contourcarpet": [
           {
            "colorbar": {
             "outlinewidth": 0,
             "ticks": ""
            },
            "type": "contourcarpet"
           }
          ],
          "heatmap": [
           {
            "colorbar": {
             "outlinewidth": 0,
             "ticks": ""
            },
            "colorscale": [
             [
              0,
              "#0d0887"
             ],
             [
              0.1111111111111111,
              "#46039f"
             ],
             [
              0.2222222222222222,
              "#7201a8"
             ],
             [
              0.3333333333333333,
              "#9c179e"
             ],
             [
              0.4444444444444444,
              "#bd3786"
             ],
             [
              0.5555555555555556,
              "#d8576b"
             ],
             [
              0.6666666666666666,
              "#ed7953"
             ],
             [
              0.7777777777777778,
              "#fb9f3a"
             ],
             [
              0.8888888888888888,
              "#fdca26"
             ],
             [
              1,
              "#f0f921"
             ]
            ],
            "type": "heatmap"
           }
          ],
          "histogram": [
           {
            "marker": {
             "pattern": {
              "fillmode": "overlay",
              "size": 10,
              "solidity": 0.2
             }
            },
            "type": "histogram"
           }
          ],
          "histogram2d": [
           {
            "colorbar": {
             "outlinewidth": 0,
             "ticks": ""
            },
            "colorscale": [
             [
              0,
              "#0d0887"
             ],
             [
              0.1111111111111111,
              "#46039f"
             ],
             [
              0.2222222222222222,
              "#7201a8"
             ],
             [
              0.3333333333333333,
              "#9c179e"
             ],
             [
              0.4444444444444444,
              "#bd3786"
             ],
             [
              0.5555555555555556,
              "#d8576b"
             ],
             [
              0.6666666666666666,
              "#ed7953"
             ],
             [
              0.7777777777777778,
              "#fb9f3a"
             ],
             [
              0.8888888888888888,
              "#fdca26"
             ],
             [
              1,
              "#f0f921"
             ]
            ],
            "type": "histogram2d"
           }
          ],
          "histogram2dcontour": [
           {
            "colorbar": {
             "outlinewidth": 0,
             "ticks": ""
            },
            "colorscale": [
             [
              0,
              "#0d0887"
             ],
             [
              0.1111111111111111,
              "#46039f"
             ],
             [
              0.2222222222222222,
              "#7201a8"
             ],
             [
              0.3333333333333333,
              "#9c179e"
             ],
             [
              0.4444444444444444,
              "#bd3786"
             ],
             [
              0.5555555555555556,
              "#d8576b"
             ],
             [
              0.6666666666666666,
              "#ed7953"
             ],
             [
              0.7777777777777778,
              "#fb9f3a"
             ],
             [
              0.8888888888888888,
              "#fdca26"
             ],
             [
              1,
              "#f0f921"
             ]
            ],
            "type": "histogram2dcontour"
           }
          ],
          "mesh3d": [
           {
            "colorbar": {
             "outlinewidth": 0,
             "ticks": ""
            },
            "type": "mesh3d"
           }
          ],
          "parcoords": [
           {
            "line": {
             "colorbar": {
              "outlinewidth": 0,
              "ticks": ""
             }
            },
            "type": "parcoords"
           }
          ],
          "pie": [
           {
            "automargin": true,
            "type": "pie"
           }
          ],
          "scatter": [
           {
            "fillpattern": {
             "fillmode": "overlay",
             "size": 10,
             "solidity": 0.2
            },
            "type": "scatter"
           }
          ],
          "scatter3d": [
           {
            "line": {
             "colorbar": {
              "outlinewidth": 0,
              "ticks": ""
             }
            },
            "marker": {
             "colorbar": {
              "outlinewidth": 0,
              "ticks": ""
             }
            },
            "type": "scatter3d"
           }
          ],
          "scattercarpet": [
           {
            "marker": {
             "colorbar": {
              "outlinewidth": 0,
              "ticks": ""
             }
            },
            "type": "scattercarpet"
           }
          ],
          "scattergeo": [
           {
            "marker": {
             "colorbar": {
              "outlinewidth": 0,
              "ticks": ""
             }
            },
            "type": "scattergeo"
           }
          ],
          "scattergl": [
           {
            "marker": {
             "colorbar": {
              "outlinewidth": 0,
              "ticks": ""
             }
            },
            "type": "scattergl"
           }
          ],
          "scattermap": [
           {
            "marker": {
             "colorbar": {
              "outlinewidth": 0,
              "ticks": ""
             }
            },
            "type": "scattermap"
           }
          ],
          "scattermapbox": [
           {
            "marker": {
             "colorbar": {
              "outlinewidth": 0,
              "ticks": ""
             }
            },
            "type": "scattermapbox"
           }
          ],
          "scatterpolar": [
           {
            "marker": {
             "colorbar": {
              "outlinewidth": 0,
              "ticks": ""
             }
            },
            "type": "scatterpolar"
           }
          ],
          "scatterpolargl": [
           {
            "marker": {
             "colorbar": {
              "outlinewidth": 0,
              "ticks": ""
             }
            },
            "type": "scatterpolargl"
           }
          ],
          "scatterternary": [
           {
            "marker": {
             "colorbar": {
              "outlinewidth": 0,
              "ticks": ""
             }
            },
            "type": "scatterternary"
           }
          ],
          "surface": [
           {
            "colorbar": {
             "outlinewidth": 0,
             "ticks": ""
            },
            "colorscale": [
             [
              0,
              "#0d0887"
             ],
             [
              0.1111111111111111,
              "#46039f"
             ],
             [
              0.2222222222222222,
              "#7201a8"
             ],
             [
              0.3333333333333333,
              "#9c179e"
             ],
             [
              0.4444444444444444,
              "#bd3786"
             ],
             [
              0.5555555555555556,
              "#d8576b"
             ],
             [
              0.6666666666666666,
              "#ed7953"
             ],
             [
              0.7777777777777778,
              "#fb9f3a"
             ],
             [
              0.8888888888888888,
              "#fdca26"
             ],
             [
              1,
              "#f0f921"
             ]
            ],
            "type": "surface"
           }
          ],
          "table": [
           {
            "cells": {
             "fill": {
              "color": "#EBF0F8"
             },
             "line": {
              "color": "white"
             }
            },
            "header": {
             "fill": {
              "color": "#C8D4E3"
             },
             "line": {
              "color": "white"
             }
            },
            "type": "table"
           }
          ]
         },
         "layout": {
          "annotationdefaults": {
           "arrowcolor": "#2a3f5f",
           "arrowhead": 0,
           "arrowwidth": 1
          },
          "autotypenumbers": "strict",
          "coloraxis": {
           "colorbar": {
            "outlinewidth": 0,
            "ticks": ""
           }
          },
          "colorscale": {
           "diverging": [
            [
             0,
             "#8e0152"
            ],
            [
             0.1,
             "#c51b7d"
            ],
            [
             0.2,
             "#de77ae"
            ],
            [
             0.3,
             "#f1b6da"
            ],
            [
             0.4,
             "#fde0ef"
            ],
            [
             0.5,
             "#f7f7f7"
            ],
            [
             0.6,
             "#e6f5d0"
            ],
            [
             0.7,
             "#b8e186"
            ],
            [
             0.8,
             "#7fbc41"
            ],
            [
             0.9,
             "#4d9221"
            ],
            [
             1,
             "#276419"
            ]
           ],
           "sequential": [
            [
             0,
             "#0d0887"
            ],
            [
             0.1111111111111111,
             "#46039f"
            ],
            [
             0.2222222222222222,
             "#7201a8"
            ],
            [
             0.3333333333333333,
             "#9c179e"
            ],
            [
             0.4444444444444444,
             "#bd3786"
            ],
            [
             0.5555555555555556,
             "#d8576b"
            ],
            [
             0.6666666666666666,
             "#ed7953"
            ],
            [
             0.7777777777777778,
             "#fb9f3a"
            ],
            [
             0.8888888888888888,
             "#fdca26"
            ],
            [
             1,
             "#f0f921"
            ]
           ],
           "sequentialminus": [
            [
             0,
             "#0d0887"
            ],
            [
             0.1111111111111111,
             "#46039f"
            ],
            [
             0.2222222222222222,
             "#7201a8"
            ],
            [
             0.3333333333333333,
             "#9c179e"
            ],
            [
             0.4444444444444444,
             "#bd3786"
            ],
            [
             0.5555555555555556,
             "#d8576b"
            ],
            [
             0.6666666666666666,
             "#ed7953"
            ],
            [
             0.7777777777777778,
             "#fb9f3a"
            ],
            [
             0.8888888888888888,
             "#fdca26"
            ],
            [
             1,
             "#f0f921"
            ]
           ]
          },
          "colorway": [
           "#636efa",
           "#EF553B",
           "#00cc96",
           "#ab63fa",
           "#FFA15A",
           "#19d3f3",
           "#FF6692",
           "#B6E880",
           "#FF97FF",
           "#FECB52"
          ],
          "font": {
           "color": "#2a3f5f"
          },
          "geo": {
           "bgcolor": "white",
           "lakecolor": "white",
           "landcolor": "#E5ECF6",
           "showlakes": true,
           "showland": true,
           "subunitcolor": "white"
          },
          "hoverlabel": {
           "align": "left"
          },
          "hovermode": "closest",
          "mapbox": {
           "style": "light"
          },
          "paper_bgcolor": "white",
          "plot_bgcolor": "#E5ECF6",
          "polar": {
           "angularaxis": {
            "gridcolor": "white",
            "linecolor": "white",
            "ticks": ""
           },
           "bgcolor": "#E5ECF6",
           "radialaxis": {
            "gridcolor": "white",
            "linecolor": "white",
            "ticks": ""
           }
          },
          "scene": {
           "xaxis": {
            "backgroundcolor": "#E5ECF6",
            "gridcolor": "white",
            "gridwidth": 2,
            "linecolor": "white",
            "showbackground": true,
            "ticks": "",
            "zerolinecolor": "white"
           },
           "yaxis": {
            "backgroundcolor": "#E5ECF6",
            "gridcolor": "white",
            "gridwidth": 2,
            "linecolor": "white",
            "showbackground": true,
            "ticks": "",
            "zerolinecolor": "white"
           },
           "zaxis": {
            "backgroundcolor": "#E5ECF6",
            "gridcolor": "white",
            "gridwidth": 2,
            "linecolor": "white",
            "showbackground": true,
            "ticks": "",
            "zerolinecolor": "white"
           }
          },
          "shapedefaults": {
           "line": {
            "color": "#2a3f5f"
           }
          },
          "ternary": {
           "aaxis": {
            "gridcolor": "white",
            "linecolor": "white",
            "ticks": ""
           },
           "baxis": {
            "gridcolor": "white",
            "linecolor": "white",
            "ticks": ""
           },
           "bgcolor": "#E5ECF6",
           "caxis": {
            "gridcolor": "white",
            "linecolor": "white",
            "ticks": ""
           }
          },
          "title": {
           "x": 0.05
          },
          "xaxis": {
           "automargin": true,
           "gridcolor": "white",
           "linecolor": "white",
           "ticks": "",
           "title": {
            "standoff": 15
           },
           "zerolinecolor": "white",
           "zerolinewidth": 2
          },
          "yaxis": {
           "automargin": true,
           "gridcolor": "white",
           "linecolor": "white",
           "ticks": "",
           "title": {
            "standoff": 15
           },
           "zerolinecolor": "white",
           "zerolinewidth": 2
          }
         }
        },
        "title": {
         "text": "epoch metrics"
        },
        "xaxis": {
         "anchor": "y",
         "domain": [
          0,
          0.98
         ],
         "title": {
          "text": "step"
         }
        },
        "xaxis2": {
         "anchor": "y2",
         "domain": [
          0,
          0.98
         ],
         "matches": "x",
         "showticklabels": false
        },
        "xaxis3": {
         "anchor": "y3",
         "domain": [
          0,
          0.98
         ],
         "matches": "x",
         "showticklabels": false
        },
        "xaxis4": {
         "anchor": "y4",
         "domain": [
          0,
          0.98
         ],
         "matches": "x",
         "showticklabels": false
        },
        "yaxis": {
         "anchor": "x",
         "domain": [
          0,
          0.2275
         ],
         "title": {
          "text": "value"
         }
        },
        "yaxis2": {
         "anchor": "x2",
         "domain": [
          0.2575,
          0.485
         ],
         "title": {
          "text": "value"
         }
        },
        "yaxis3": {
         "anchor": "x3",
         "domain": [
          0.515,
          0.7425
         ],
         "title": {
          "text": "value"
         }
        },
        "yaxis4": {
         "anchor": "x4",
         "domain": [
          0.7725,
          1
         ],
         "title": {
          "text": "value"
         }
        }
       }
      }
     },
     "metadata": {},
     "output_type": "display_data"
    },
    {
     "name": "stdout",
     "output_type": "stream",
     "text": [
      "=========================\n",
      "training: 5\n"
     ]
    },
    {
     "data": {
      "application/vnd.jupyter.widget-view+json": {
       "model_id": "1fc252131e02417eae257e6b11837c10",
       "version_major": 2,
       "version_minor": 0
      },
      "text/plain": [
       "Output()"
      ]
     },
     "metadata": {},
     "output_type": "display_data"
    },
    {
     "data": {
      "text/html": [
       "<pre style=\"white-space:pre;overflow-x:auto;line-height:normal;font-family:Menlo,'DejaVu Sans Mono',consolas,'Courier New',monospace\"></pre>\n"
      ],
      "text/plain": []
     },
     "metadata": {},
     "output_type": "display_data"
    },
    {
     "data": {
      "application/vnd.plotly.v1+json": {
       "config": {
        "plotlyServerURL": "https://plot.ly"
       },
       "data": [
        {
         "hovertemplate": "variable=batch_train_loss<br>step=%{x}<br>value=%{y}<extra></extra>",
         "legendgroup": "",
         "marker": {
          "color": "#636efa",
          "symbol": "circle"
         },
         "mode": "markers",
         "name": "",
         "showlegend": false,
         "type": "scattergl",
         "x": {
          "bdata": "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",
          "dtype": "i2"
         },
         "xaxis": "x2",
         "y": {
          "bdata": "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",
          "dtype": "f8"
         },
         "yaxis": "y2"
        },
        {
         "hovertemplate": "<b>Exponentially Weighted mean trendline</b><br><br>variable=batch_train_loss<br>step=%{x}<br>value=%{y} <b>(trend)</b><extra></extra>",
         "legendgroup": "",
         "line": {
          "color": "red"
         },
         "marker": {
          "color": "#636efa",
          "symbol": "circle"
         },
         "mode": "lines",
         "name": "",
         "showlegend": false,
         "type": "scattergl",
         "x": {
          "bdata": "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",
          "dtype": "i2"
         },
         "xaxis": "x2",
         "y": {
          "bdata": "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",
          "dtype": "f8"
         },
         "yaxis": "y2"
        },
        {
         "hovertemplate": "variable=batch_accuracy<br>step=%{x}<br>value=%{y}<extra></extra>",
         "legendgroup": "",
         "marker": {
          "color": "#636efa",
          "symbol": "circle"
         },
         "mode": "markers",
         "name": "",
         "showlegend": false,
         "type": "scattergl",
         "x": {
          "bdata": "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",
          "dtype": "i2"
         },
         "xaxis": "x",
         "y": {
          "bdata": "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",
          "dtype": "f8"
         },
         "yaxis": "y"
        },
        {
         "hovertemplate": "<b>Exponentially Weighted mean trendline</b><br><br>variable=batch_accuracy<br>step=%{x}<br>value=%{y} <b>(trend)</b><extra></extra>",
         "legendgroup": "",
         "line": {
          "color": "red"
         },
         "marker": {
          "color": "#636efa",
          "symbol": "circle"
         },
         "mode": "lines",
         "name": "",
         "showlegend": false,
         "type": "scattergl",
         "x": {
          "bdata": "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",
          "dtype": "i2"
         },
         "xaxis": "x",
         "y": {
          "bdata": "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",
          "dtype": "f8"
         },
         "yaxis": "y"
        }
       ],
       "layout": {
        "annotations": [
         {
          "font": {},
          "showarrow": false,
          "text": "variable=batch_accuracy",
          "textangle": 90,
          "x": 0.98,
          "xanchor": "left",
          "xref": "paper",
          "y": 0.2425,
          "yanchor": "middle",
          "yref": "paper"
         },
         {
          "font": {},
          "showarrow": false,
          "text": "variable=batch_train_loss",
          "textangle": 90,
          "x": 0.98,
          "xanchor": "left",
          "xref": "paper",
          "y": 0.7575000000000001,
          "yanchor": "middle",
          "yref": "paper"
         }
        ],
        "legend": {
         "tracegroupgap": 0
        },
        "template": {
         "data": {
          "bar": [
           {
            "error_x": {
             "color": "#2a3f5f"
            },
            "error_y": {
             "color": "#2a3f5f"
            },
            "marker": {
             "line": {
              "color": "#E5ECF6",
              "width": 0.5
             },
             "pattern": {
              "fillmode": "overlay",
              "size": 10,
              "solidity": 0.2
             }
            },
            "type": "bar"
           }
          ],
          "barpolar": [
           {
            "marker": {
             "line": {
              "color": "#E5ECF6",
              "width": 0.5
             },
             "pattern": {
              "fillmode": "overlay",
              "size": 10,
              "solidity": 0.2
             }
            },
            "type": "barpolar"
           }
          ],
          "carpet": [
           {
            "aaxis": {
             "endlinecolor": "#2a3f5f",
             "gridcolor": "white",
             "linecolor": "white",
             "minorgridcolor": "white",
             "startlinecolor": "#2a3f5f"
            },
            "baxis": {
             "endlinecolor": "#2a3f5f",
             "gridcolor": "white",
             "linecolor": "white",
             "minorgridcolor": "white",
             "startlinecolor": "#2a3f5f"
            },
            "type": "carpet"
           }
          ],
          "choropleth": [
           {
            "colorbar": {
             "outlinewidth": 0,
             "ticks": ""
            },
            "type": "choropleth"
           }
          ],
          "contour": [
           {
            "colorbar": {
             "outlinewidth": 0,
             "ticks": ""
            },
            "colorscale": [
             [
              0,
              "#0d0887"
             ],
             [
              0.1111111111111111,
              "#46039f"
             ],
             [
              0.2222222222222222,
              "#7201a8"
             ],
             [
              0.3333333333333333,
              "#9c179e"
             ],
             [
              0.4444444444444444,
              "#bd3786"
             ],
             [
              0.5555555555555556,
              "#d8576b"
             ],
             [
              0.6666666666666666,
              "#ed7953"
             ],
             [
              0.7777777777777778,
              "#fb9f3a"
             ],
             [
              0.8888888888888888,
              "#fdca26"
             ],
             [
              1,
              "#f0f921"
             ]
            ],
            "type": "contour"
           }
          ],
          "contourcarpet": [
           {
            "colorbar": {
             "outlinewidth": 0,
             "ticks": ""
            },
            "type": "contourcarpet"
           }
          ],
          "heatmap": [
           {
            "colorbar": {
             "outlinewidth": 0,
             "ticks": ""
            },
            "colorscale": [
             [
              0,
              "#0d0887"
             ],
             [
              0.1111111111111111,
              "#46039f"
             ],
             [
              0.2222222222222222,
              "#7201a8"
             ],
             [
              0.3333333333333333,
              "#9c179e"
             ],
             [
              0.4444444444444444,
              "#bd3786"
             ],
             [
              0.5555555555555556,
              "#d8576b"
             ],
             [
              0.6666666666666666,
              "#ed7953"
             ],
             [
              0.7777777777777778,
              "#fb9f3a"
             ],
             [
              0.8888888888888888,
              "#fdca26"
             ],
             [
              1,
              "#f0f921"
             ]
            ],
            "type": "heatmap"
           }
          ],
          "histogram": [
           {
            "marker": {
             "pattern": {
              "fillmode": "overlay",
              "size": 10,
              "solidity": 0.2
             }
            },
            "type": "histogram"
           }
          ],
          "histogram2d": [
           {
            "colorbar": {
             "outlinewidth": 0,
             "ticks": ""
            },
            "colorscale": [
             [
              0,
              "#0d0887"
             ],
             [
              0.1111111111111111,
              "#46039f"
             ],
             [
              0.2222222222222222,
              "#7201a8"
             ],
             [
              0.3333333333333333,
              "#9c179e"
             ],
             [
              0.4444444444444444,
              "#bd3786"
             ],
             [
              0.5555555555555556,
              "#d8576b"
             ],
             [
              0.6666666666666666,
              "#ed7953"
             ],
             [
              0.7777777777777778,
              "#fb9f3a"
             ],
             [
              0.8888888888888888,
              "#fdca26"
             ],
             [
              1,
              "#f0f921"
             ]
            ],
            "type": "histogram2d"
           }
          ],
          "histogram2dcontour": [
           {
            "colorbar": {
             "outlinewidth": 0,
             "ticks": ""
            },
            "colorscale": [
             [
              0,
              "#0d0887"
             ],
             [
              0.1111111111111111,
              "#46039f"
             ],
             [
              0.2222222222222222,
              "#7201a8"
             ],
             [
              0.3333333333333333,
              "#9c179e"
             ],
             [
              0.4444444444444444,
              "#bd3786"
             ],
             [
              0.5555555555555556,
              "#d8576b"
             ],
             [
              0.6666666666666666,
              "#ed7953"
             ],
             [
              0.7777777777777778,
              "#fb9f3a"
             ],
             [
              0.8888888888888888,
              "#fdca26"
             ],
             [
              1,
              "#f0f921"
             ]
            ],
            "type": "histogram2dcontour"
           }
          ],
          "mesh3d": [
           {
            "colorbar": {
             "outlinewidth": 0,
             "ticks": ""
            },
            "type": "mesh3d"
           }
          ],
          "parcoords": [
           {
            "line": {
             "colorbar": {
              "outlinewidth": 0,
              "ticks": ""
             }
            },
            "type": "parcoords"
           }
          ],
          "pie": [
           {
            "automargin": true,
            "type": "pie"
           }
          ],
          "scatter": [
           {
            "fillpattern": {
             "fillmode": "overlay",
             "size": 10,
             "solidity": 0.2
            },
            "type": "scatter"
           }
          ],
          "scatter3d": [
           {
            "line": {
             "colorbar": {
              "outlinewidth": 0,
              "ticks": ""
             }
            },
            "marker": {
             "colorbar": {
              "outlinewidth": 0,
              "ticks": ""
             }
            },
            "type": "scatter3d"
           }
          ],
          "scattercarpet": [
           {
            "marker": {
             "colorbar": {
              "outlinewidth": 0,
              "ticks": ""
             }
            },
            "type": "scattercarpet"
           }
          ],
          "scattergeo": [
           {
            "marker": {
             "colorbar": {
              "outlinewidth": 0,
              "ticks": ""
             }
            },
            "type": "scattergeo"
           }
          ],
          "scattergl": [
           {
            "marker": {
             "colorbar": {
              "outlinewidth": 0,
              "ticks": ""
             }
            },
            "type": "scattergl"
           }
          ],
          "scattermap": [
           {
            "marker": {
             "colorbar": {
              "outlinewidth": 0,
              "ticks": ""
             }
            },
            "type": "scattermap"
           }
          ],
          "scattermapbox": [
           {
            "marker": {
             "colorbar": {
              "outlinewidth": 0,
              "ticks": ""
             }
            },
            "type": "scattermapbox"
           }
          ],
          "scatterpolar": [
           {
            "marker": {
             "colorbar": {
              "outlinewidth": 0,
              "ticks": ""
             }
            },
            "type": "scatterpolar"
           }
          ],
          "scatterpolargl": [
           {
            "marker": {
             "colorbar": {
              "outlinewidth": 0,
              "ticks": ""
             }
            },
            "type": "scatterpolargl"
           }
          ],
          "scatterternary": [
           {
            "marker": {
             "colorbar": {
              "outlinewidth": 0,
              "ticks": ""
             }
            },
            "type": "scatterternary"
           }
          ],
          "surface": [
           {
            "colorbar": {
             "outlinewidth": 0,
             "ticks": ""
            },
            "colorscale": [
             [
              0,
              "#0d0887"
             ],
             [
              0.1111111111111111,
              "#46039f"
             ],
             [
              0.2222222222222222,
              "#7201a8"
             ],
             [
              0.3333333333333333,
              "#9c179e"
             ],
             [
              0.4444444444444444,
              "#bd3786"
             ],
             [
              0.5555555555555556,
              "#d8576b"
             ],
             [
              0.6666666666666666,
              "#ed7953"
             ],
             [
              0.7777777777777778,
              "#fb9f3a"
             ],
             [
              0.8888888888888888,
              "#fdca26"
             ],
             [
              1,
              "#f0f921"
             ]
            ],
            "type": "surface"
           }
          ],
          "table": [
           {
            "cells": {
             "fill": {
              "color": "#EBF0F8"
             },
             "line": {
              "color": "white"
             }
            },
            "header": {
             "fill": {
              "color": "#C8D4E3"
             },
             "line": {
              "color": "white"
             }
            },
            "type": "table"
           }
          ]
         },
         "layout": {
          "annotationdefaults": {
           "arrowcolor": "#2a3f5f",
           "arrowhead": 0,
           "arrowwidth": 1
          },
          "autotypenumbers": "strict",
          "coloraxis": {
           "colorbar": {
            "outlinewidth": 0,
            "ticks": ""
           }
          },
          "colorscale": {
           "diverging": [
            [
             0,
             "#8e0152"
            ],
            [
             0.1,
             "#c51b7d"
            ],
            [
             0.2,
             "#de77ae"
            ],
            [
             0.3,
             "#f1b6da"
            ],
            [
             0.4,
             "#fde0ef"
            ],
            [
             0.5,
             "#f7f7f7"
            ],
            [
             0.6,
             "#e6f5d0"
            ],
            [
             0.7,
             "#b8e186"
            ],
            [
             0.8,
             "#7fbc41"
            ],
            [
             0.9,
             "#4d9221"
            ],
            [
             1,
             "#276419"
            ]
           ],
           "sequential": [
            [
             0,
             "#0d0887"
            ],
            [
             0.1111111111111111,
             "#46039f"
            ],
            [
             0.2222222222222222,
             "#7201a8"
            ],
            [
             0.3333333333333333,
             "#9c179e"
            ],
            [
             0.4444444444444444,
             "#bd3786"
            ],
            [
             0.5555555555555556,
             "#d8576b"
            ],
            [
             0.6666666666666666,
             "#ed7953"
            ],
            [
             0.7777777777777778,
             "#fb9f3a"
            ],
            [
             0.8888888888888888,
             "#fdca26"
            ],
            [
             1,
             "#f0f921"
            ]
           ],
           "sequentialminus": [
            [
             0,
             "#0d0887"
            ],
            [
             0.1111111111111111,
             "#46039f"
            ],
            [
             0.2222222222222222,
             "#7201a8"
            ],
            [
             0.3333333333333333,
             "#9c179e"
            ],
            [
             0.4444444444444444,
             "#bd3786"
            ],
            [
             0.5555555555555556,
             "#d8576b"
            ],
            [
             0.6666666666666666,
             "#ed7953"
            ],
            [
             0.7777777777777778,
             "#fb9f3a"
            ],
            [
             0.8888888888888888,
             "#fdca26"
            ],
            [
             1,
             "#f0f921"
            ]
           ]
          },
          "colorway": [
           "#636efa",
           "#EF553B",
           "#00cc96",
           "#ab63fa",
           "#FFA15A",
           "#19d3f3",
           "#FF6692",
           "#B6E880",
           "#FF97FF",
           "#FECB52"
          ],
          "font": {
           "color": "#2a3f5f"
          },
          "geo": {
           "bgcolor": "white",
           "lakecolor": "white",
           "landcolor": "#E5ECF6",
           "showlakes": true,
           "showland": true,
           "subunitcolor": "white"
          },
          "hoverlabel": {
           "align": "left"
          },
          "hovermode": "closest",
          "mapbox": {
           "style": "light"
          },
          "paper_bgcolor": "white",
          "plot_bgcolor": "#E5ECF6",
          "polar": {
           "angularaxis": {
            "gridcolor": "white",
            "linecolor": "white",
            "ticks": ""
           },
           "bgcolor": "#E5ECF6",
           "radialaxis": {
            "gridcolor": "white",
            "linecolor": "white",
            "ticks": ""
           }
          },
          "scene": {
           "xaxis": {
            "backgroundcolor": "#E5ECF6",
            "gridcolor": "white",
            "gridwidth": 2,
            "linecolor": "white",
            "showbackground": true,
            "ticks": "",
            "zerolinecolor": "white"
           },
           "yaxis": {
            "backgroundcolor": "#E5ECF6",
            "gridcolor": "white",
            "gridwidth": 2,
            "linecolor": "white",
            "showbackground": true,
            "ticks": "",
            "zerolinecolor": "white"
           },
           "zaxis": {
            "backgroundcolor": "#E5ECF6",
            "gridcolor": "white",
            "gridwidth": 2,
            "linecolor": "white",
            "showbackground": true,
            "ticks": "",
            "zerolinecolor": "white"
           }
          },
          "shapedefaults": {
           "line": {
            "color": "#2a3f5f"
           }
          },
          "ternary": {
           "aaxis": {
            "gridcolor": "white",
            "linecolor": "white",
            "ticks": ""
           },
           "baxis": {
            "gridcolor": "white",
            "linecolor": "white",
            "ticks": ""
           },
           "bgcolor": "#E5ECF6",
           "caxis": {
            "gridcolor": "white",
            "linecolor": "white",
            "ticks": ""
           }
          },
          "title": {
           "x": 0.05
          },
          "xaxis": {
           "automargin": true,
           "gridcolor": "white",
           "linecolor": "white",
           "ticks": "",
           "title": {
            "standoff": 15
           },
           "zerolinecolor": "white",
           "zerolinewidth": 2
          },
          "yaxis": {
           "automargin": true,
           "gridcolor": "white",
           "linecolor": "white",
           "ticks": "",
           "title": {
            "standoff": 15
           },
           "zerolinecolor": "white",
           "zerolinewidth": 2
          }
         }
        },
        "title": {
         "text": "batch metrics"
        },
        "xaxis": {
         "anchor": "y",
         "domain": [
          0,
          0.98
         ],
         "title": {
          "text": "step"
         }
        },
        "xaxis2": {
         "anchor": "y2",
         "domain": [
          0,
          0.98
         ],
         "matches": "x",
         "showticklabels": false
        },
        "yaxis": {
         "anchor": "x",
         "domain": [
          0,
          0.485
         ],
         "title": {
          "text": "value"
         }
        },
        "yaxis2": {
         "anchor": "x2",
         "domain": [
          0.515,
          1
         ],
         "title": {
          "text": "value"
         }
        }
       }
      }
     },
     "metadata": {},
     "output_type": "display_data"
    },
    {
     "data": {
      "application/vnd.plotly.v1+json": {
       "config": {
        "plotlyServerURL": "https://plot.ly"
       },
       "data": [
        {
         "hovertemplate": "variable=train_epoch_loss<br>step=%{x}<br>value=%{y}<extra></extra>",
         "legendgroup": "train_epoch_loss",
         "line": {
          "color": "#636efa",
          "dash": "solid"
         },
         "marker": {
          "symbol": "circle"
         },
         "mode": "lines",
         "name": "train_epoch_loss",
         "orientation": "v",
         "showlegend": true,
         "type": "scatter",
         "x": {
          "bdata": "GQAzAE0AZwCBAJsAtQDPAOkAAwEdATcBUQFrAYUBnwG5AdMB7QEHAiECOwJVAm8CiQKjAr0C1wLxAgsD",
          "dtype": "i2"
         },
         "xaxis": "x4",
         "y": {
          "bdata": "J3ZiN18OBkB2YifW0TUFQAAAANCDAgVAAAAAYKS4BEBiJ3ZyAIcEQNmJnWi2VwRAntiJbfQZBECe2IldnPADQLETOyEz1QNAsRM7kYCfA0AAAACgpXQDQMVO7MSNWQNA2YmdeAJBA0B2YidG6ToDQHZiJzZ+CgNAxU7spNPkAkCe2Ild/tcCQDuxE0t7xQJA7MROnKW1AkBP7MRuhK0CQMVO7BQZjAJAAAAA0P6AAkCe2IkN7XACQOzETgwLfAJAsRM7MaBjAkCe2ImNOU4CQMVO7KRfTQJAT+zELqxBAkA7sRMrPiECQAAAAHCYFQJA",
          "dtype": "f8"
         },
         "yaxis": "y4"
        },
        {
         "hovertemplate": "variable=train_epoch_accuracy<br>step=%{x}<br>value=%{y}<extra></extra>",
         "legendgroup": "train_epoch_accuracy",
         "line": {
          "color": "#EF553B",
          "dash": "solid"
         },
         "marker": {
          "symbol": "circle"
         },
         "mode": "lines",
         "name": "train_epoch_accuracy",
         "orientation": "v",
         "showlegend": true,
         "type": "scatter",
         "x": {
          "bdata": "GQAzAE0AZwCBAJsAtQDPAOkAAwEdATcBUQFrAYUBnwG5AdMB7QEHAiECOwJVAm8CiQKjAr0C1wLxAgsD",
          "dtype": "i2"
         },
         "xaxis": "x3",
         "y": {
          "bdata": "P+3TPu3TzD81SIM0SGPVP9u2bdu2rdY/0iAN0iAN2T9mYzZmY7baP+Q93uM9Ptw/kAZpkAZJ3j8rsiIrsoLfP/mWb/mWP+A/GZVRGZUh4T9CKZRCKeThP/Mt3/ItP+I/hEM4hEOY4j/UPu3TPq3iP3/4h3/4d+M/tDEbszEb5D+BFmiBFkjkP5AGaZAGmeQ/tDEbszHL5D/bp33ap+3kP7u4i7u4W+U//uEf/uGf5T8LtEALtODlP7qaq7maq+U/wAM8wAMM5j8GaZAGaWDmP3ut13qtZ+Y/BUuwBEuQ5j8qlEIplBLnP2y91mu9Nuc/",
          "dtype": "f8"
         },
         "yaxis": "y3"
        },
        {
         "hovertemplate": "variable=validation_loss<br>step=%{x}<br>value=%{y}<extra></extra>",
         "legendgroup": "validation_loss",
         "line": {
          "color": "#00cc96",
          "dash": "solid"
         },
         "marker": {
          "symbol": "circle"
         },
         "mode": "lines",
         "name": "validation_loss",
         "orientation": "v",
         "showlegend": true,
         "type": "scatter",
         "x": {
          "bdata": "GQAzAE0AZwCBAJsAtQDPAOkAAwEdATcBUQFrAYUBnwG5AdMB7QEHAiECOwJVAm8CiQKjAr0C1wLxAgsD",
          "dtype": "i2"
         },
         "xaxis": "x2",
         "y": {
          "bdata": "27ZtW16sBUC3bdu27V8FQCVJkoSKJwVAJUmSpIYFBUBu27btcekEQLdt29Y6zQRA27ZtO0GlBEBJkiTpfa0EQG7btg0ldwRAbtu2LYdjBEAlSZJE0YMEQLdt23aQWARAAAAAoPBIBEAAAADgSUAEQJIkSZJSOgRAAAAA4EdGBECSJElSl1AEQJIkSfKmJARAAAAA4GNGBEAAAACADi8EQCVJksQtLwRASZIkqcdDBEAlSZKkrlYEQAAAAAAJUARA27Zt22IxBEDbtm3bZDYEQCVJkuRtOQRAt23blmEqBEDbtm1bVSoEQCVJkmQgEwRA",
          "dtype": "f8"
         },
         "yaxis": "y2"
        },
        {
         "hovertemplate": "variable=validation_accuracy<br>step=%{x}<br>value=%{y}<extra></extra>",
         "legendgroup": "validation_accuracy",
         "line": {
          "color": "#ab63fa",
          "dash": "solid"
         },
         "marker": {
          "symbol": "circle"
         },
         "mode": "lines",
         "name": "validation_accuracy",
         "orientation": "v",
         "showlegend": true,
         "type": "scatter",
         "x": {
          "bdata": "GQAzAE0AZwCBAJsAtQDPAOkAAwEdATcBUQFrAYUBnwG5AdMB7QEHAiECOwJVAm8CiQKjAr0C1wLxAgsD",
          "dtype": "i2"
         },
         "xaxis": "x",
         "y": {
          "bdata": "dRruXlZJ0j+aar+6kNbTPy6WR4SmmtU/m3H+8YGR1j8IRnYobI3XP+YRoan2a9g/eT0pcwyw2T8KWzPOP37ZP1cJVPSWTts/MsDBz0282z8LYnIFMbnaP6CbeD0p89s/xeQKYnJF3D8ywMHPTTzdP6Cit3Qabt0/ekun4e7l3D/nGODg5ybcP1cJVPSWzt0/eT0pcwww3D/F5ApicoXdP6CbeD0pc90/ekun4e6l3D/F5ApicgXcPwticgUxuds/MsDBz0183T8ywMHPTXzdP1YCFb2l09w/ws9NvJ5U3T9WAhW9pZPdP1cJVPSWjt4/",
          "dtype": "f8"
         },
         "yaxis": "y"
        }
       ],
       "layout": {
        "annotations": [
         {
          "font": {},
          "showarrow": false,
          "text": "variable=validation_accuracy",
          "textangle": 90,
          "x": 0.98,
          "xanchor": "left",
          "xref": "paper",
          "y": 0.11375,
          "yanchor": "middle",
          "yref": "paper"
         },
         {
          "font": {},
          "showarrow": false,
          "text": "variable=validation_loss",
          "textangle": 90,
          "x": 0.98,
          "xanchor": "left",
          "xref": "paper",
          "y": 0.37124999999999997,
          "yanchor": "middle",
          "yref": "paper"
         },
         {
          "font": {},
          "showarrow": false,
          "text": "variable=train_epoch_accuracy",
          "textangle": 90,
          "x": 0.98,
          "xanchor": "left",
          "xref": "paper",
          "y": 0.62875,
          "yanchor": "middle",
          "yref": "paper"
         },
         {
          "font": {},
          "showarrow": false,
          "text": "variable=train_epoch_loss",
          "textangle": 90,
          "x": 0.98,
          "xanchor": "left",
          "xref": "paper",
          "y": 0.88625,
          "yanchor": "middle",
          "yref": "paper"
         }
        ],
        "legend": {
         "title": {
          "text": "variable"
         },
         "tracegroupgap": 0
        },
        "template": {
         "data": {
          "bar": [
           {
            "error_x": {
             "color": "#2a3f5f"
            },
            "error_y": {
             "color": "#2a3f5f"
            },
            "marker": {
             "line": {
              "color": "#E5ECF6",
              "width": 0.5
             },
             "pattern": {
              "fillmode": "overlay",
              "size": 10,
              "solidity": 0.2
             }
            },
            "type": "bar"
           }
          ],
          "barpolar": [
           {
            "marker": {
             "line": {
              "color": "#E5ECF6",
              "width": 0.5
             },
             "pattern": {
              "fillmode": "overlay",
              "size": 10,
              "solidity": 0.2
             }
            },
            "type": "barpolar"
           }
          ],
          "carpet": [
           {
            "aaxis": {
             "endlinecolor": "#2a3f5f",
             "gridcolor": "white",
             "linecolor": "white",
             "minorgridcolor": "white",
             "startlinecolor": "#2a3f5f"
            },
            "baxis": {
             "endlinecolor": "#2a3f5f",
             "gridcolor": "white",
             "linecolor": "white",
             "minorgridcolor": "white",
             "startlinecolor": "#2a3f5f"
            },
            "type": "carpet"
           }
          ],
          "choropleth": [
           {
            "colorbar": {
             "outlinewidth": 0,
             "ticks": ""
            },
            "type": "choropleth"
           }
          ],
          "contour": [
           {
            "colorbar": {
             "outlinewidth": 0,
             "ticks": ""
            },
            "colorscale": [
             [
              0,
              "#0d0887"
             ],
             [
              0.1111111111111111,
              "#46039f"
             ],
             [
              0.2222222222222222,
              "#7201a8"
             ],
             [
              0.3333333333333333,
              "#9c179e"
             ],
             [
              0.4444444444444444,
              "#bd3786"
             ],
             [
              0.5555555555555556,
              "#d8576b"
             ],
             [
              0.6666666666666666,
              "#ed7953"
             ],
             [
              0.7777777777777778,
              "#fb9f3a"
             ],
             [
              0.8888888888888888,
              "#fdca26"
             ],
             [
              1,
              "#f0f921"
             ]
            ],
            "type": "contour"
           }
          ],
          "contourcarpet": [
           {
            "colorbar": {
             "outlinewidth": 0,
             "ticks": ""
            },
            "type": "contourcarpet"
           }
          ],
          "heatmap": [
           {
            "colorbar": {
             "outlinewidth": 0,
             "ticks": ""
            },
            "colorscale": [
             [
              0,
              "#0d0887"
             ],
             [
              0.1111111111111111,
              "#46039f"
             ],
             [
              0.2222222222222222,
              "#7201a8"
             ],
             [
              0.3333333333333333,
              "#9c179e"
             ],
             [
              0.4444444444444444,
              "#bd3786"
             ],
             [
              0.5555555555555556,
              "#d8576b"
             ],
             [
              0.6666666666666666,
              "#ed7953"
             ],
             [
              0.7777777777777778,
              "#fb9f3a"
             ],
             [
              0.8888888888888888,
              "#fdca26"
             ],
             [
              1,
              "#f0f921"
             ]
            ],
            "type": "heatmap"
           }
          ],
          "histogram": [
           {
            "marker": {
             "pattern": {
              "fillmode": "overlay",
              "size": 10,
              "solidity": 0.2
             }
            },
            "type": "histogram"
           }
          ],
          "histogram2d": [
           {
            "colorbar": {
             "outlinewidth": 0,
             "ticks": ""
            },
            "colorscale": [
             [
              0,
              "#0d0887"
             ],
             [
              0.1111111111111111,
              "#46039f"
             ],
             [
              0.2222222222222222,
              "#7201a8"
             ],
             [
              0.3333333333333333,
              "#9c179e"
             ],
             [
              0.4444444444444444,
              "#bd3786"
             ],
             [
              0.5555555555555556,
              "#d8576b"
             ],
             [
              0.6666666666666666,
              "#ed7953"
             ],
             [
              0.7777777777777778,
              "#fb9f3a"
             ],
             [
              0.8888888888888888,
              "#fdca26"
             ],
             [
              1,
              "#f0f921"
             ]
            ],
            "type": "histogram2d"
           }
          ],
          "histogram2dcontour": [
           {
            "colorbar": {
             "outlinewidth": 0,
             "ticks": ""
            },
            "colorscale": [
             [
              0,
              "#0d0887"
             ],
             [
              0.1111111111111111,
              "#46039f"
             ],
             [
              0.2222222222222222,
              "#7201a8"
             ],
             [
              0.3333333333333333,
              "#9c179e"
             ],
             [
              0.4444444444444444,
              "#bd3786"
             ],
             [
              0.5555555555555556,
              "#d8576b"
             ],
             [
              0.6666666666666666,
              "#ed7953"
             ],
             [
              0.7777777777777778,
              "#fb9f3a"
             ],
             [
              0.8888888888888888,
              "#fdca26"
             ],
             [
              1,
              "#f0f921"
             ]
            ],
            "type": "histogram2dcontour"
           }
          ],
          "mesh3d": [
           {
            "colorbar": {
             "outlinewidth": 0,
             "ticks": ""
            },
            "type": "mesh3d"
           }
          ],
          "parcoords": [
           {
            "line": {
             "colorbar": {
              "outlinewidth": 0,
              "ticks": ""
             }
            },
            "type": "parcoords"
           }
          ],
          "pie": [
           {
            "automargin": true,
            "type": "pie"
           }
          ],
          "scatter": [
           {
            "fillpattern": {
             "fillmode": "overlay",
             "size": 10,
             "solidity": 0.2
            },
            "type": "scatter"
           }
          ],
          "scatter3d": [
           {
            "line": {
             "colorbar": {
              "outlinewidth": 0,
              "ticks": ""
             }
            },
            "marker": {
             "colorbar": {
              "outlinewidth": 0,
              "ticks": ""
             }
            },
            "type": "scatter3d"
           }
          ],
          "scattercarpet": [
           {
            "marker": {
             "colorbar": {
              "outlinewidth": 0,
              "ticks": ""
             }
            },
            "type": "scattercarpet"
           }
          ],
          "scattergeo": [
           {
            "marker": {
             "colorbar": {
              "outlinewidth": 0,
              "ticks": ""
             }
            },
            "type": "scattergeo"
           }
          ],
          "scattergl": [
           {
            "marker": {
             "colorbar": {
              "outlinewidth": 0,
              "ticks": ""
             }
            },
            "type": "scattergl"
           }
          ],
          "scattermap": [
           {
            "marker": {
             "colorbar": {
              "outlinewidth": 0,
              "ticks": ""
             }
            },
            "type": "scattermap"
           }
          ],
          "scattermapbox": [
           {
            "marker": {
             "colorbar": {
              "outlinewidth": 0,
              "ticks": ""
             }
            },
            "type": "scattermapbox"
           }
          ],
          "scatterpolar": [
           {
            "marker": {
             "colorbar": {
              "outlinewidth": 0,
              "ticks": ""
             }
            },
            "type": "scatterpolar"
           }
          ],
          "scatterpolargl": [
           {
            "marker": {
             "colorbar": {
              "outlinewidth": 0,
              "ticks": ""
             }
            },
            "type": "scatterpolargl"
           }
          ],
          "scatterternary": [
           {
            "marker": {
             "colorbar": {
              "outlinewidth": 0,
              "ticks": ""
             }
            },
            "type": "scatterternary"
           }
          ],
          "surface": [
           {
            "colorbar": {
             "outlinewidth": 0,
             "ticks": ""
            },
            "colorscale": [
             [
              0,
              "#0d0887"
             ],
             [
              0.1111111111111111,
              "#46039f"
             ],
             [
              0.2222222222222222,
              "#7201a8"
             ],
             [
              0.3333333333333333,
              "#9c179e"
             ],
             [
              0.4444444444444444,
              "#bd3786"
             ],
             [
              0.5555555555555556,
              "#d8576b"
             ],
             [
              0.6666666666666666,
              "#ed7953"
             ],
             [
              0.7777777777777778,
              "#fb9f3a"
             ],
             [
              0.8888888888888888,
              "#fdca26"
             ],
             [
              1,
              "#f0f921"
             ]
            ],
            "type": "surface"
           }
          ],
          "table": [
           {
            "cells": {
             "fill": {
              "color": "#EBF0F8"
             },
             "line": {
              "color": "white"
             }
            },
            "header": {
             "fill": {
              "color": "#C8D4E3"
             },
             "line": {
              "color": "white"
             }
            },
            "type": "table"
           }
          ]
         },
         "layout": {
          "annotationdefaults": {
           "arrowcolor": "#2a3f5f",
           "arrowhead": 0,
           "arrowwidth": 1
          },
          "autotypenumbers": "strict",
          "coloraxis": {
           "colorbar": {
            "outlinewidth": 0,
            "ticks": ""
           }
          },
          "colorscale": {
           "diverging": [
            [
             0,
             "#8e0152"
            ],
            [
             0.1,
             "#c51b7d"
            ],
            [
             0.2,
             "#de77ae"
            ],
            [
             0.3,
             "#f1b6da"
            ],
            [
             0.4,
             "#fde0ef"
            ],
            [
             0.5,
             "#f7f7f7"
            ],
            [
             0.6,
             "#e6f5d0"
            ],
            [
             0.7,
             "#b8e186"
            ],
            [
             0.8,
             "#7fbc41"
            ],
            [
             0.9,
             "#4d9221"
            ],
            [
             1,
             "#276419"
            ]
           ],
           "sequential": [
            [
             0,
             "#0d0887"
            ],
            [
             0.1111111111111111,
             "#46039f"
            ],
            [
             0.2222222222222222,
             "#7201a8"
            ],
            [
             0.3333333333333333,
             "#9c179e"
            ],
            [
             0.4444444444444444,
             "#bd3786"
            ],
            [
             0.5555555555555556,
             "#d8576b"
            ],
            [
             0.6666666666666666,
             "#ed7953"
            ],
            [
             0.7777777777777778,
             "#fb9f3a"
            ],
            [
             0.8888888888888888,
             "#fdca26"
            ],
            [
             1,
             "#f0f921"
            ]
           ],
           "sequentialminus": [
            [
             0,
             "#0d0887"
            ],
            [
             0.1111111111111111,
             "#46039f"
            ],
            [
             0.2222222222222222,
             "#7201a8"
            ],
            [
             0.3333333333333333,
             "#9c179e"
            ],
            [
             0.4444444444444444,
             "#bd3786"
            ],
            [
             0.5555555555555556,
             "#d8576b"
            ],
            [
             0.6666666666666666,
             "#ed7953"
            ],
            [
             0.7777777777777778,
             "#fb9f3a"
            ],
            [
             0.8888888888888888,
             "#fdca26"
            ],
            [
             1,
             "#f0f921"
            ]
           ]
          },
          "colorway": [
           "#636efa",
           "#EF553B",
           "#00cc96",
           "#ab63fa",
           "#FFA15A",
           "#19d3f3",
           "#FF6692",
           "#B6E880",
           "#FF97FF",
           "#FECB52"
          ],
          "font": {
           "color": "#2a3f5f"
          },
          "geo": {
           "bgcolor": "white",
           "lakecolor": "white",
           "landcolor": "#E5ECF6",
           "showlakes": true,
           "showland": true,
           "subunitcolor": "white"
          },
          "hoverlabel": {
           "align": "left"
          },
          "hovermode": "closest",
          "mapbox": {
           "style": "light"
          },
          "paper_bgcolor": "white",
          "plot_bgcolor": "#E5ECF6",
          "polar": {
           "angularaxis": {
            "gridcolor": "white",
            "linecolor": "white",
            "ticks": ""
           },
           "bgcolor": "#E5ECF6",
           "radialaxis": {
            "gridcolor": "white",
            "linecolor": "white",
            "ticks": ""
           }
          },
          "scene": {
           "xaxis": {
            "backgroundcolor": "#E5ECF6",
            "gridcolor": "white",
            "gridwidth": 2,
            "linecolor": "white",
            "showbackground": true,
            "ticks": "",
            "zerolinecolor": "white"
           },
           "yaxis": {
            "backgroundcolor": "#E5ECF6",
            "gridcolor": "white",
            "gridwidth": 2,
            "linecolor": "white",
            "showbackground": true,
            "ticks": "",
            "zerolinecolor": "white"
           },
           "zaxis": {
            "backgroundcolor": "#E5ECF6",
            "gridcolor": "white",
            "gridwidth": 2,
            "linecolor": "white",
            "showbackground": true,
            "ticks": "",
            "zerolinecolor": "white"
           }
          },
          "shapedefaults": {
           "line": {
            "color": "#2a3f5f"
           }
          },
          "ternary": {
           "aaxis": {
            "gridcolor": "white",
            "linecolor": "white",
            "ticks": ""
           },
           "baxis": {
            "gridcolor": "white",
            "linecolor": "white",
            "ticks": ""
           },
           "bgcolor": "#E5ECF6",
           "caxis": {
            "gridcolor": "white",
            "linecolor": "white",
            "ticks": ""
           }
          },
          "title": {
           "x": 0.05
          },
          "xaxis": {
           "automargin": true,
           "gridcolor": "white",
           "linecolor": "white",
           "ticks": "",
           "title": {
            "standoff": 15
           },
           "zerolinecolor": "white",
           "zerolinewidth": 2
          },
          "yaxis": {
           "automargin": true,
           "gridcolor": "white",
           "linecolor": "white",
           "ticks": "",
           "title": {
            "standoff": 15
           },
           "zerolinecolor": "white",
           "zerolinewidth": 2
          }
         }
        },
        "title": {
         "text": "epoch metrics"
        },
        "xaxis": {
         "anchor": "y",
         "domain": [
          0,
          0.98
         ],
         "title": {
          "text": "step"
         }
        },
        "xaxis2": {
         "anchor": "y2",
         "domain": [
          0,
          0.98
         ],
         "matches": "x",
         "showticklabels": false
        },
        "xaxis3": {
         "anchor": "y3",
         "domain": [
          0,
          0.98
         ],
         "matches": "x",
         "showticklabels": false
        },
        "xaxis4": {
         "anchor": "y4",
         "domain": [
          0,
          0.98
         ],
         "matches": "x",
         "showticklabels": false
        },
        "yaxis": {
         "anchor": "x",
         "domain": [
          0,
          0.2275
         ],
         "title": {
          "text": "value"
         }
        },
        "yaxis2": {
         "anchor": "x2",
         "domain": [
          0.2575,
          0.485
         ],
         "title": {
          "text": "value"
         }
        },
        "yaxis3": {
         "anchor": "x3",
         "domain": [
          0.515,
          0.7425
         ],
         "title": {
          "text": "value"
         }
        },
        "yaxis4": {
         "anchor": "x4",
         "domain": [
          0.7725,
          1
         ],
         "title": {
          "text": "value"
         }
        }
       }
      }
     },
     "metadata": {},
     "output_type": "display_data"
    },
    {
     "name": "stdout",
     "output_type": "stream",
     "text": [
      "=========================\n"
     ]
    }
   ],
   "source": [
    "NB_CROSS_VALIDATIONS = 5\n",
    "fold_patterns = join(dataset_path, \"preprocessed_dataset\", \"fold*\")\n",
    "fold_pths = glob(fold_patterns)[:NB_CROSS_VALIDATIONS]\n",
    "all_training_metrics = {}\n",
    "\n",
    "for fold_idx, fold_pth in fold_pths:\n",
    "    print(\"training:\", fold_idx + 1)\n",
    "    train_dataset = CMIDataset(fold_pth, \"train\")\n",
    "    train_data_loader = DL(train_dataset, BATCH_SIZE, shuffle=True)\n",
    "    validation_dataset = CMIDataset(fold_pth, \"validation\")\n",
    "    validation_data_loader = DL(validation_dataset, BATCH_SIZE, shuffle=False)\n",
    "    _, training_metrics, _ = mk_model_and_fit(train_data_loader, validation_data_loader)\n",
    "    all_training_metrics[\"fold_\" + str(fold_idx)] = training_metrics\n",
    "    plt_training_metrics(training_metrics)\n",
    "    print(\"=========================\")\n",
    "\n",
    "all_training_metrics = pd.concat(all_training_metrics)"
   ]
  },
  {
   "cell_type": "code",
   "execution_count": 43,
   "id": "0e54c23c",
   "metadata": {},
   "outputs": [
    {
     "data": {
      "text/html": [
       "<div>\n",
       "<style scoped>\n",
       "    .dataframe tbody tr th:only-of-type {\n",
       "        vertical-align: middle;\n",
       "    }\n",
       "\n",
       "    .dataframe tbody tr th {\n",
       "        vertical-align: top;\n",
       "    }\n",
       "\n",
       "    .dataframe thead th {\n",
       "        text-align: right;\n",
       "    }\n",
       "</style>\n",
       "<table border=\"1\" class=\"dataframe\">\n",
       "  <thead>\n",
       "    <tr style=\"text-align: right;\">\n",
       "      <th></th>\n",
       "      <th>train_epoch_loss</th>\n",
       "      <th>train_epoch_accuracy</th>\n",
       "      <th>validation_loss</th>\n",
       "      <th>validation_accuracy</th>\n",
       "    </tr>\n",
       "  </thead>\n",
       "  <tbody>\n",
       "    <tr>\n",
       "      <th>mean</th>\n",
       "      <td>2.414634</td>\n",
       "      <td>0.572562</td>\n",
       "      <td>2.577595</td>\n",
       "      <td>0.403832</td>\n",
       "    </tr>\n",
       "    <tr>\n",
       "      <th>std</th>\n",
       "      <td>0.125304</td>\n",
       "      <td>0.126802</td>\n",
       "      <td>0.050271</td>\n",
       "      <td>0.049726</td>\n",
       "    </tr>\n",
       "  </tbody>\n",
       "</table>\n",
       "</div>"
      ],
      "text/plain": [
       "      train_epoch_loss  train_epoch_accuracy  validation_loss  \\\n",
       "mean          2.414634              0.572562         2.577595   \n",
       "std           0.125304              0.126802         0.050271   \n",
       "\n",
       "      validation_accuracy  \n",
       "mean             0.403832  \n",
       "std              0.049726  "
      ]
     },
     "execution_count": 43,
     "metadata": {},
     "output_type": "execute_result"
    }
   ],
   "source": [
    "all_training_metrics[[\"train_epoch_loss\", \"train_epoch_accuracy\", \"validation_loss\", \"validation_accuracy\"]].agg([\"mean\", \"std\"])"
   ]
  },
  {
   "cell_type": "markdown",
   "id": "aab08b93",
   "metadata": {},
   "source": [
    "## Full dataset training"
   ]
  },
  {
   "cell_type": "code",
   "execution_count": 40,
   "id": "e6a350f8",
   "metadata": {},
   "outputs": [
    {
     "data": {
      "application/vnd.jupyter.widget-view+json": {
       "model_id": "a474c34e1faf4ac68bd4be585bd7880b",
       "version_major": 2,
       "version_minor": 0
      },
      "text/plain": [
       "Output()"
      ]
     },
     "metadata": {},
     "output_type": "display_data"
    },
    {
     "data": {
      "text/html": [
       "<pre style=\"white-space:pre;overflow-x:auto;line-height:normal;font-family:Menlo,'DejaVu Sans Mono',consolas,'Courier New',monospace\"></pre>\n"
      ],
      "text/plain": []
     },
     "metadata": {},
     "output_type": "display_data"
    }
   ],
   "source": [
    "full_dataset = CMIDataset(\"full_dataset\")\n",
    "full_dataset_loader = DL(full_dataset, BATCH_SIZE, shuffle=True)\n",
    "model, full_train_metrics, checkpoints = mk_model_and_fit(full_dataset_loader)"
   ]
  },
  {
   "cell_type": "markdown",
   "id": "f0081b6e",
   "metadata": {},
   "source": [
    "## Model upload"
   ]
  },
  {
   "cell_type": "code",
   "execution_count": 41,
   "id": "87578050",
   "metadata": {},
   "outputs": [
    {
     "name": "stdout",
     "output_type": "stream",
     "text": [
      "Kaggle credentials successfully validated.\n",
      "Uploading Model https://www.kaggle.com/models/mauroabidalcarrer/cmi-resnet/pyTorch/15-07-2025-15-32 ...\n"
     ]
    },
    {
     "ename": "BackendError",
     "evalue": "Please upload at least one file",
     "output_type": "error",
     "traceback": [
      "\u001b[31m---------------------------------------------------------------------------\u001b[39m",
      "\u001b[31mBackendError\u001b[39m                              Traceback (most recent call last)",
      "\u001b[36mCell\u001b[39m\u001b[36m \u001b[39m\u001b[32mIn[41]\u001b[39m\u001b[32m, line 3\u001b[39m\n\u001b[32m      1\u001b[39m handle = \u001b[33mf\u001b[39m\u001b[33m\"\u001b[39m\u001b[38;5;132;01m{\u001b[39;00mwhoami()[\u001b[33m'\u001b[39m\u001b[33musername\u001b[39m\u001b[33m'\u001b[39m]\u001b[38;5;132;01m}\u001b[39;00m\u001b[33m/cmi-resnet/pyTorch/\u001b[39m\u001b[38;5;132;01m{\u001b[39;00mmk_date_now_str().replace(\u001b[33m'\u001b[39m\u001b[33m_\u001b[39m\u001b[33m'\u001b[39m,\u001b[38;5;250m \u001b[39m\u001b[33m'\u001b[39m\u001b[33m-\u001b[39m\u001b[33m'\u001b[39m)\u001b[38;5;132;01m}\u001b[39;00m\u001b[33m\"\u001b[39m\n\u001b[32m      2\u001b[39m model_path = realpath(join(checkpoints, \u001b[33m\"\u001b[39m\u001b[33mbest_checkpoint.pth\u001b[39m\u001b[33m\"\u001b[39m))\n\u001b[32m----> \u001b[39m\u001b[32m3\u001b[39m \u001b[43mmodel_upload\u001b[49m\u001b[43m(\u001b[49m\u001b[43mhandle\u001b[49m\u001b[43m,\u001b[49m\u001b[43m \u001b[49m\u001b[43mmodel_path\u001b[49m\u001b[43m)\u001b[49m\n",
      "\u001b[36mFile \u001b[39m\u001b[32m~/miniconda3/envs/CMI/lib/python3.11/site-packages/kagglehub/models.py:94\u001b[39m, in \u001b[36mmodel_upload\u001b[39m\u001b[34m(handle, local_model_dir, license_name, version_notes, ignore_patterns, sigstore)\u001b[39m\n\u001b[32m     87\u001b[39m \u001b[38;5;66;03m# Upload the model files to GCS\u001b[39;00m\n\u001b[32m     88\u001b[39m tokens = upload_files_and_directories(\n\u001b[32m     89\u001b[39m     local_model_dir,\n\u001b[32m     90\u001b[39m     item_type=\u001b[33m\"\u001b[39m\u001b[33mmodel\u001b[39m\u001b[33m\"\u001b[39m,\n\u001b[32m     91\u001b[39m     ignore_patterns=normalize_patterns(default=DEFAULT_IGNORE_PATTERNS, additional=ignore_patterns),\n\u001b[32m     92\u001b[39m )\n\u001b[32m---> \u001b[39m\u001b[32m94\u001b[39m \u001b[43mcreate_model_instance_or_version\u001b[49m\u001b[43m(\u001b[49m\u001b[43mh\u001b[49m\u001b[43m,\u001b[49m\u001b[43m \u001b[49m\u001b[43mtokens\u001b[49m\u001b[43m,\u001b[49m\u001b[43m \u001b[49m\u001b[43mlicense_name\u001b[49m\u001b[43m,\u001b[49m\u001b[43m \u001b[49m\u001b[43mversion_notes\u001b[49m\u001b[43m,\u001b[49m\u001b[43m \u001b[49m\u001b[43msigstore\u001b[49m\u001b[43m=\u001b[49m\u001b[43msigstore\u001b[49m\u001b[43m)\u001b[49m\n",
      "\u001b[36mFile \u001b[39m\u001b[32m~/miniconda3/envs/CMI/lib/python3.11/site-packages/kagglehub/models_helpers.py:82\u001b[39m, in \u001b[36mcreate_model_instance_or_version\u001b[39m\u001b[34m(model_handle, files, license_name, version_notes, sigstore)\u001b[39m\n\u001b[32m     80\u001b[39m     _create_model_instance_version(model_handle, files, version_notes, sigstore=sigstore)\n\u001b[32m     81\u001b[39m \u001b[38;5;28;01melse\u001b[39;00m:\n\u001b[32m---> \u001b[39m\u001b[32m82\u001b[39m     \u001b[38;5;28;01mraise\u001b[39;00m (e)\n",
      "\u001b[36mFile \u001b[39m\u001b[32m~/miniconda3/envs/CMI/lib/python3.11/site-packages/kagglehub/models_helpers.py:76\u001b[39m, in \u001b[36mcreate_model_instance_or_version\u001b[39m\u001b[34m(model_handle, files, license_name, version_notes, sigstore)\u001b[39m\n\u001b[32m     67\u001b[39m \u001b[38;5;28;01mdef\u001b[39;00m\u001b[38;5;250m \u001b[39m\u001b[34mcreate_model_instance_or_version\u001b[39m(\n\u001b[32m     68\u001b[39m     model_handle: ModelHandle,\n\u001b[32m     69\u001b[39m     files: UploadDirectoryInfo,\n\u001b[32m   (...)\u001b[39m\u001b[32m     73\u001b[39m     sigstore: Optional[\u001b[38;5;28mbool\u001b[39m] = \u001b[38;5;28;01mFalse\u001b[39;00m,\n\u001b[32m     74\u001b[39m ) -> \u001b[38;5;28;01mNone\u001b[39;00m:\n\u001b[32m     75\u001b[39m     \u001b[38;5;28;01mtry\u001b[39;00m:\n\u001b[32m---> \u001b[39m\u001b[32m76\u001b[39m         \u001b[43m_create_model_instance\u001b[49m\u001b[43m(\u001b[49m\u001b[43mmodel_handle\u001b[49m\u001b[43m,\u001b[49m\u001b[43m \u001b[49m\u001b[43mfiles\u001b[49m\u001b[43m,\u001b[49m\u001b[43m \u001b[49m\u001b[43mlicense_name\u001b[49m\u001b[43m,\u001b[49m\u001b[43m \u001b[49m\u001b[43msigstore\u001b[49m\u001b[43m=\u001b[49m\u001b[43msigstore\u001b[49m\u001b[43m)\u001b[49m\n\u001b[32m     77\u001b[39m     \u001b[38;5;28;01mexcept\u001b[39;00m BackendError \u001b[38;5;28;01mas\u001b[39;00m e:\n\u001b[32m     78\u001b[39m         \u001b[38;5;28;01mif\u001b[39;00m e.error_code == HTTPStatus.CONFLICT:\n\u001b[32m     79\u001b[39m             \u001b[38;5;66;03m# Instance already exist, creating a new version instead.\u001b[39;00m\n",
      "\u001b[36mFile \u001b[39m\u001b[32m~/miniconda3/envs/CMI/lib/python3.11/site-packages/kagglehub/models_helpers.py:39\u001b[39m, in \u001b[36m_create_model_instance\u001b[39m\u001b[34m(model_handle, files_and_directories, license_name, sigstore)\u001b[39m\n\u001b[32m     36\u001b[39m     data[\u001b[33m\"\u001b[39m\u001b[33mlicenseName\u001b[39m\u001b[33m\"\u001b[39m] = license_name\n\u001b[32m     38\u001b[39m api_client = KaggleApiV1Client()\n\u001b[32m---> \u001b[39m\u001b[32m39\u001b[39m \u001b[43mapi_client\u001b[49m\u001b[43m.\u001b[49m\u001b[43mpost\u001b[49m\u001b[43m(\u001b[49m\u001b[33;43mf\u001b[39;49m\u001b[33;43m\"\u001b[39;49m\u001b[33;43m/models/\u001b[39;49m\u001b[38;5;132;43;01m{\u001b[39;49;00m\u001b[43mmodel_handle\u001b[49m\u001b[43m.\u001b[49m\u001b[43mowner\u001b[49m\u001b[38;5;132;43;01m}\u001b[39;49;00m\u001b[33;43m/\u001b[39;49m\u001b[38;5;132;43;01m{\u001b[39;49;00m\u001b[43mmodel_handle\u001b[49m\u001b[43m.\u001b[49m\u001b[43mmodel\u001b[49m\u001b[38;5;132;43;01m}\u001b[39;49;00m\u001b[33;43m/create/instance\u001b[39;49m\u001b[33;43m\"\u001b[39;49m\u001b[43m,\u001b[49m\u001b[43m \u001b[49m\u001b[43mdata\u001b[49m\u001b[43m)\u001b[49m\n\u001b[32m     40\u001b[39m logger.info(\u001b[33mf\u001b[39m\u001b[33m\"\u001b[39m\u001b[33mYour model instance has been created.\u001b[39m\u001b[38;5;130;01m\\n\u001b[39;00m\u001b[33mFiles are being processed...\u001b[39m\u001b[38;5;130;01m\\n\u001b[39;00m\u001b[33mSee at: \u001b[39m\u001b[38;5;132;01m{\u001b[39;00mmodel_handle.to_url()\u001b[38;5;132;01m}\u001b[39;00m\u001b[33m\"\u001b[39m)\n",
      "\u001b[36mFile \u001b[39m\u001b[32m~/miniconda3/envs/CMI/lib/python3.11/site-packages/kagglehub/clients.py:154\u001b[39m, in \u001b[36mKaggleApiV1Client.post\u001b[39m\u001b[34m(self, path, data)\u001b[39m\n\u001b[32m    152\u001b[39m response.raise_for_status()\n\u001b[32m    153\u001b[39m response_dict = response.json()\n\u001b[32m--> \u001b[39m\u001b[32m154\u001b[39m \u001b[43mprocess_post_response\u001b[49m\u001b[43m(\u001b[49m\u001b[43mresponse_dict\u001b[49m\u001b[43m)\u001b[49m\n\u001b[32m    155\u001b[39m \u001b[38;5;28mself\u001b[39m._check_for_version_update(response)\n\u001b[32m    156\u001b[39m \u001b[38;5;28;01mreturn\u001b[39;00m response_dict\n",
      "\u001b[36mFile \u001b[39m\u001b[32m~/miniconda3/envs/CMI/lib/python3.11/site-packages/kagglehub/exceptions.py:141\u001b[39m, in \u001b[36mprocess_post_response\u001b[39m\u001b[34m(response)\u001b[39m\n\u001b[32m    139\u001b[39m \u001b[38;5;28;01melif\u001b[39;00m \u001b[33m\"\u001b[39m\u001b[33merror\u001b[39m\u001b[33m\"\u001b[39m \u001b[38;5;129;01min\u001b[39;00m response \u001b[38;5;129;01mand\u001b[39;00m response[\u001b[33m\"\u001b[39m\u001b[33merror\u001b[39m\u001b[33m\"\u001b[39m] != \u001b[33m\"\u001b[39m\u001b[33m\"\u001b[39m:\n\u001b[32m    140\u001b[39m     error_code = \u001b[38;5;28mint\u001b[39m(response[\u001b[33m\"\u001b[39m\u001b[33merrorCode\u001b[39m\u001b[33m\"\u001b[39m]) \u001b[38;5;28;01mif\u001b[39;00m \u001b[33m\"\u001b[39m\u001b[33merrorCode\u001b[39m\u001b[33m\"\u001b[39m \u001b[38;5;129;01min\u001b[39;00m response \u001b[38;5;28;01melse\u001b[39;00m \u001b[38;5;28;01mNone\u001b[39;00m\n\u001b[32m--> \u001b[39m\u001b[32m141\u001b[39m     \u001b[38;5;28;01mraise\u001b[39;00m BackendError(response[\u001b[33m\"\u001b[39m\u001b[33merror\u001b[39m\u001b[33m\"\u001b[39m], error_code)\n",
      "\u001b[31mBackendError\u001b[39m: Please upload at least one file"
     ]
    }
   ],
   "source": [
    "handle = f\"{whoami()['username']}/cmi-resnet/pyTorch/{mk_date_now_str().replace('_', '-')}\"\n",
    "model_path = realpath(join(checkpoints, \"best_checkpoint.pth\"))\n",
    "model_upload(handle, model_path)"
   ]
  }
 ],
 "metadata": {
  "kernelspec": {
   "display_name": "CMI",
   "language": "python",
   "name": "python3"
  },
  "language_info": {
   "codemirror_mode": {
    "name": "ipython",
    "version": 3
   },
   "file_extension": ".py",
   "mimetype": "text/x-python",
   "name": "python",
   "nbconvert_exporter": "python",
   "pygments_lexer": "ipython3",
   "version": "3.11.5"
  }
 },
 "nbformat": 4,
 "nbformat_minor": 5
}
