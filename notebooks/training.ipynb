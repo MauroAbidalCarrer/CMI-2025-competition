{
 "cells": [
  {
   "cell_type": "markdown",
   "id": "53d41434",
   "metadata": {},
   "source": [
    "# Training model\n",
    "The goal of this notebook is to train a model and upload it to kaggle."
   ]
  },
  {
   "cell_type": "markdown",
   "id": "696a0573",
   "metadata": {},
   "source": [
    "## Setup"
   ]
  },
  {
   "cell_type": "markdown",
   "id": "dc4c23f0",
   "metadata": {},
   "source": [
    "### Imports"
   ]
  },
  {
   "cell_type": "code",
   "execution_count": 1,
   "id": "66f429fe",
   "metadata": {},
   "outputs": [],
   "source": [
    "import os\n",
    "import json\n",
    "from glob import glob\n",
    "from datetime import datetime\n",
    "from itertools import pairwise\n",
    "from os.path import join, realpath\n",
    "from typing import Optional, Literal\n",
    "\n",
    "import torch\n",
    "import kagglehub\n",
    "import numpy as np\n",
    "import pandas as pd\n",
    "import plotly.express as px\n",
    "from torch import nn, Tensor\n",
    "from pandas import DataFrame as DF\n",
    "from torch.utils.data import TensorDataset\n",
    "from torch.utils.data import DataLoader as DL\n",
    "from rich.progress import Progress, Task, track\n",
    "from torch.optim.lr_scheduler import ConstantLR, LRScheduler\n",
    "metric_package = kagglehub.package_import('wasupandceacar/cmi-metric', bypass_confirmation=True)"
   ]
  },
  {
   "cell_type": "markdown",
   "id": "fbe9b25b",
   "metadata": {},
   "source": [
    "### Config"
   ]
  },
  {
   "cell_type": "code",
   "execution_count": 2,
   "id": "82515f95",
   "metadata": {},
   "outputs": [],
   "source": [
    "NB_CROSS_VALIDATIONS = 5\n",
    "TRAINING_EPOCHS = 60\n",
    "STARTING_LR = 0.0005\n",
    "BATCH_SIZE = 256"
   ]
  },
  {
   "cell_type": "markdown",
   "id": "561af8f7",
   "metadata": {},
   "source": [
    "### Dataset Setup"
   ]
  },
  {
   "cell_type": "code",
   "execution_count": 3,
   "id": "63a131e0",
   "metadata": {},
   "outputs": [],
   "source": [
    "dataset_path = kagglehub.dataset_download(\n",
    "    handle=\"mauroabidalcarrer/prepocessed-cmi-2025\",\n",
    ")"
   ]
  },
  {
   "cell_type": "code",
   "execution_count": 4,
   "id": "e46c3b4e",
   "metadata": {},
   "outputs": [],
   "source": [
    "class CMIDataset(TensorDataset):\n",
    "    def __init__(\n",
    "        self,\n",
    "        parent_dir: str,\n",
    "        split: Optional[Literal[\"train\", \"validation\"]]=None,\n",
    "        subset: Optional[int]=None,\n",
    "        force_download=False\n",
    "    ):\n",
    "        dataset_path = kagglehub.dataset_download(\n",
    "            handle=\"mauroabidalcarrer/prepocessed-cmi-2025\",\n",
    "            force_download=force_download\n",
    "        )\n",
    "        parent_dir = join(dataset_path, \"preprocessed_dataset\", parent_dir)\n",
    "        split = \"\" if split is None else split + \"_\"\n",
    "        x = np.load(join(parent_dir, f\"{split}X.npy\")).swapaxes(1, 2)\n",
    "        y = np.load(join(parent_dir, f\"{split}Y.npy\"))\n",
    "        if subset is not None:\n",
    "            x = x[:subset]\n",
    "            y = y[:subset]\n",
    "        super().__init__(\n",
    "            torch.from_numpy(x), \n",
    "            torch.from_numpy(y),\n",
    "        )"
   ]
  },
  {
   "cell_type": "code",
   "execution_count": 5,
   "id": "a2de4288",
   "metadata": {},
   "outputs": [],
   "source": [
    "meta_data_path = join(\n",
    "    dataset_path,\n",
    "    \"preprocessed_dataset\",\n",
    "    \"full_dataset_meta_data.json\"\n",
    ")\n",
    "with open(meta_data_path, \"r\") as fp:\n",
    "    meta_data = json.load(fp)\n",
    "# Convert target names into a ndarray to index it batchwise.\n",
    "meta_data[\"target_names\"] = np.asarray(meta_data[\"target_names\"])\n",
    "non_imu_feats_idx = [feat_idx for feat_idx, feat in enumerate(meta_data[\"feature_cols\"]) if feat.startswith((\"thm\", \"tof\"))]\n",
    "non_imu_feats = [feat for feat in meta_data[\"feature_cols\"] if feat.startswith((\"thm\", \"tof\"))]\n",
    "imu_feats_idx = [feat_idx for feat_idx, feat in enumerate(meta_data[\"feature_cols\"]) if not feat.startswith((\"thm\", \"tof\"))]\n",
    "imu_feats = [feat for feat in meta_data[\"feature_cols\"] if not feat.startswith((\"thm\", \"tof\"))]"
   ]
  },
  {
   "cell_type": "code",
   "execution_count": 6,
   "id": "e12bc6b2",
   "metadata": {},
   "outputs": [
    {
     "data": {
      "text/plain": [
       "['tof_5_diff',\n",
       " 'thm_3',\n",
       " 'thm_3_diff',\n",
       " 'thm_1_diff',\n",
       " 'thm_2_diff',\n",
       " 'tof_5',\n",
       " 'tof_2',\n",
       " 'thm_2',\n",
       " 'tof_2_diff',\n",
       " 'thm_1',\n",
       " 'tof_1_diff',\n",
       " 'thm_4',\n",
       " 'tof_1',\n",
       " 'thm_5_diff',\n",
       " 'tof_4',\n",
       " 'tof_3',\n",
       " 'thm_5',\n",
       " 'tof_4_diff',\n",
       " 'thm_4_diff',\n",
       " 'tof_3_diff']"
      ]
     },
     "metadata": {},
     "output_type": "display_data"
    },
    {
     "data": {
      "text/plain": [
       "['quat_rot_mag_diff',\n",
       " 'rot_y_diff',\n",
       " 'gravity_free_acc_z_diff',\n",
       " 'rotation_axis_z',\n",
       " 'rot_z_diff',\n",
       " 'gravity_free_acc_x_diff',\n",
       " 'gravity_free_acc_x',\n",
       " 'euler_z_diff',\n",
       " 'euler_y',\n",
       " 'angular_vel_x_diff',\n",
       " 'euler_y_diff',\n",
       " 'rotation_axis_y',\n",
       " 'rot_x',\n",
       " 'gravity_free_acc_y',\n",
       " 'linear_acc_mag',\n",
       " 'euler_x',\n",
       " 'euler_z',\n",
       " 'delta_rot_mag',\n",
       " 'linear_acc_mag_diff',\n",
       " 'acc_z',\n",
       " 'acc_x',\n",
       " 'euler_x_diff',\n",
       " 'acc_y',\n",
       " 'rot_w_diff',\n",
       " 'raw_acc_mag',\n",
       " 'acc_x_diff',\n",
       " 'angular_vel_x',\n",
       " 'rot_z',\n",
       " 'angular_vel_z_diff',\n",
       " 'acc_z_diff',\n",
       " 'gravity_free_acc_z',\n",
       " 'rot_w',\n",
       " 'quat_rot_mag',\n",
       " 'rotation_axis_x_diff',\n",
       " 'rotation_axis_z_diff',\n",
       " 'delta_rot_mag_diff',\n",
       " 'angular_vel_z',\n",
       " 'acc_y_diff',\n",
       " 'rotation_axis_y_diff',\n",
       " 'rot_x_diff',\n",
       " 'rot_y',\n",
       " 'gravity_free_acc_y_diff',\n",
       " 'angular_vel_y',\n",
       " 'angular_vel_y_diff',\n",
       " 'raw_acc_mag_diff',\n",
       " 'rotation_axis_x']"
      ]
     },
     "metadata": {},
     "output_type": "display_data"
    }
   ],
   "source": [
    "display(non_imu_feats)\n",
    "display(imu_feats)"
   ]
  },
  {
   "cell_type": "code",
   "execution_count": 7,
   "id": "058d7d3f",
   "metadata": {},
   "outputs": [
    {
     "data": {
      "text/plain": [
       "[2, 4, 5, 7, 8, 10, 16, 22, 24, 26, 32, 33, 39, 41, 44, 45, 50, 55, 58, 61]"
      ]
     },
     "metadata": {},
     "output_type": "display_data"
    },
    {
     "data": {
      "text/plain": [
       "[0,\n",
       " 1,\n",
       " 3,\n",
       " 6,\n",
       " 9,\n",
       " 11,\n",
       " 12,\n",
       " 13,\n",
       " 14,\n",
       " 15,\n",
       " 17,\n",
       " 18,\n",
       " 19,\n",
       " 20,\n",
       " 21,\n",
       " 23,\n",
       " 25,\n",
       " 27,\n",
       " 28,\n",
       " 29,\n",
       " 30,\n",
       " 31,\n",
       " 34,\n",
       " 35,\n",
       " 36,\n",
       " 37,\n",
       " 38,\n",
       " 40,\n",
       " 42,\n",
       " 43,\n",
       " 46,\n",
       " 47,\n",
       " 48,\n",
       " 49,\n",
       " 51,\n",
       " 52,\n",
       " 53,\n",
       " 54,\n",
       " 56,\n",
       " 57,\n",
       " 59,\n",
       " 60,\n",
       " 62,\n",
       " 63,\n",
       " 64,\n",
       " 65]"
      ]
     },
     "metadata": {},
     "output_type": "display_data"
    }
   ],
   "source": [
    "display(non_imu_feats_idx)\n",
    "display(imu_feats_idx)"
   ]
  },
  {
   "cell_type": "markdown",
   "id": "e7cce363",
   "metadata": {},
   "source": [
    "### device setup"
   ]
  },
  {
   "cell_type": "code",
   "execution_count": 8,
   "id": "2710f791",
   "metadata": {},
   "outputs": [],
   "source": [
    "device = torch.device(\"cuda\") if torch.cuda.is_available() else torch.device(\"cpu\")"
   ]
  },
  {
   "cell_type": "markdown",
   "id": "7405a353",
   "metadata": {},
   "source": [
    "## Model definition"
   ]
  },
  {
   "cell_type": "code",
   "execution_count": 9,
   "id": "5ecc32a1",
   "metadata": {},
   "outputs": [],
   "source": [
    "class ResidualBlock(nn.Module):\n",
    "    def __init__(self, in_chns:int, out_chns:int):\n",
    "        super().__init__()\n",
    "        self.blocks = nn.Sequential(\n",
    "            nn.Conv1d(in_chns, out_chns, kernel_size=3, padding=1),\n",
    "            nn.BatchNorm1d(out_chns),\n",
    "            nn.ReLU(),\n",
    "            nn.Conv1d(out_chns, out_chns, kernel_size=3, padding=1),\n",
    "            nn.BatchNorm1d(out_chns),\n",
    "        )\n",
    "        if in_chns == out_chns:\n",
    "            self.skip_connection = nn.Identity() \n",
    "        else:\n",
    "            # TODO: set bias to False ?\n",
    "            self.skip_connection = nn.Sequential(\n",
    "                nn.Conv1d(in_chns, out_chns, 1),\n",
    "                nn.BatchNorm1d(out_chns)\n",
    "            )\n",
    "\n",
    "    def forward(self, x:Tensor) -> Tensor:\n",
    "        activaition_maps = self.skip_connection(x) + self.blocks(x)\n",
    "        return nn.functional.relu(activaition_maps)\n",
    "\n",
    "class Resnet(nn.Module):\n",
    "    def __init__(\n",
    "            self,\n",
    "            in_channels:int,\n",
    "            depth:int,\n",
    "            # n_res_block_per_depth:int,\n",
    "            mlp_width:int,\n",
    "            n_class:int,\n",
    "        ):\n",
    "        super().__init__()\n",
    "        chs_per_depth = [in_channels * 2 ** i for i in range(depth)]\n",
    "        blocks_chns_it = pairwise(chs_per_depth)\n",
    "        self.res_blocks = [ResidualBlock(in_chns, out_chns) for in_chns, out_chns in blocks_chns_it]\n",
    "        self.res_blocks = nn.ModuleList(self.res_blocks)\n",
    "        self.mlp_head = nn.Sequential(\n",
    "            nn.LazyLinear(mlp_width),\n",
    "            nn.ReLU(),\n",
    "            nn.Linear(mlp_width, n_class),\n",
    "            nn.Softmax(dim=1),\n",
    "        )\n",
    "        \n",
    "        \n",
    "    def forward(self, x:Tensor) -> Tensor:\n",
    "        activation_maps = x\n",
    "        for res_block in self.res_blocks:\n",
    "            activation_maps = nn.functional.max_pool1d(res_block(activation_maps), 2)\n",
    "        out = activation_maps.view(activation_maps.shape[0], -1)\n",
    "        out = self.mlp_head(out)\n",
    "        return out"
   ]
  },
  {
   "cell_type": "markdown",
   "id": "5a83f1e7",
   "metadata": {},
   "source": [
    "## Training functions "
   ]
  },
  {
   "cell_type": "markdown",
   "id": "3047bc60",
   "metadata": {},
   "source": [
    "### Evaluation "
   ]
  },
  {
   "cell_type": "code",
   "execution_count": 10,
   "id": "bfff9c2e",
   "metadata": {},
   "outputs": [],
   "source": [
    "def evaluate_model(\n",
    "        model: torch.nn.Module,\n",
    "        critirion:callable,\n",
    "        validation_loader:DL,\n",
    "    ) -> dict:\n",
    "    model = model.eval()\n",
    "    model_device = next(model.parameters()).device\n",
    "    competition_metric = metric_package.Metric()\n",
    "\n",
    "    total_accuracy = 0\n",
    "    total_test_loss = 0\n",
    "    with torch.inference_mode():\n",
    "        for x, y in validation_loader:\n",
    "            # Additionally, clone x because we will write on it, in theory it's not necessary but we never know/\n",
    "            x = x.to(model_device).clone()\n",
    "            y = y.to(model_device)\n",
    "\n",
    "            half = BATCH_SIZE // 2         \n",
    "\n",
    "            x[:half, non_imu_feats_idx, :] = 0.0    \n",
    "\n",
    "            y_pred = model(x)\n",
    "            total_test_loss += critirion(y_pred, y).item()\n",
    "            batch_accuracy = compute_accuracy(y_pred, y)\n",
    "            total_accuracy += batch_accuracy\n",
    "            competition_metric.add(get_str_target(y), get_str_target(y_pred))\n",
    "\n",
    "    return {\n",
    "        \"validation_loss\": total_test_loss / len(validation_loader),\n",
    "        \"validation_accuracy\": total_accuracy / len(validation_loader),\n",
    "        \"competition_score\": competition_metric.score(),\n",
    "    }\n",
    "\n",
    "def get_str_target(y:Tensor) -> str:\n",
    "    y_idx = y.max(dim=1)[1].tolist()\n",
    "    return meta_data[\"target_names\"][y_idx]\n",
    "\n",
    "def compute_accuracy(y_pred:Tensor, y:Tensor) -> float:\n",
    "    return (\n",
    "            (y.max(dim=1)[1] == y_pred.max(dim=1)[1])\n",
    "            .sum()\n",
    "            .item()\n",
    "    ) / y.shape[0]"
   ]
  },
  {
   "cell_type": "markdown",
   "id": "83ce4d6a",
   "metadata": {},
   "source": [
    "### Checkpoints"
   ]
  },
  {
   "cell_type": "code",
   "execution_count": 11,
   "id": "0356f2f2",
   "metadata": {},
   "outputs": [],
   "source": [
    "def mk_checkpoint(\n",
    "        epoch:int,\n",
    "        model: torch.nn.Module,\n",
    "        scheduler: LRScheduler,\n",
    "        optimizer: torch.optim.Optimizer\n",
    "    ) -> dict:\n",
    "    if torch.cuda.is_available():\n",
    "        model_state_dict = {k: v.detach().cpu() for k, v in model.state_dict().items()}\n",
    "    else:\n",
    "        model_state_dict = model.state_dict()\n",
    "\n",
    "    return {\n",
    "        \"epoch\": epoch,\n",
    "        \"model\": model.state_dict(),\n",
    "        \"optimizer\": optimizer.state_dict(),\n",
    "        \"scheduler\": scheduler.state_dict(),\n",
    "    }\n",
    "\n",
    "def save_checkpoint(checkpoint:dict, parent_dir:str, is_best_checkpoint=False):\n",
    "    # Create model name\n",
    "    checkpoint_filename = f\"epoch_{checkpoint['epoch']}_{mk_date_now_str()}.pth\"\n",
    "    # Save model\n",
    "    os.makedirs(parent_dir, exist_ok=True)\n",
    "    checkpoint_path = os.path.join(parent_dir, checkpoint_filename)\n",
    "    torch.save(checkpoint, checkpoint_path)\n",
    "    mk_symlink(checkpoint_path, os.path.join(parent_dir, \"latest_checkpoint.pth\"))\n",
    "    if is_best_checkpoint:\n",
    "        mk_symlink(checkpoint_path, os.path.join(parent_dir, \"best_checkpoint.pth\"))\n",
    "\n",
    "def mk_date_now_str() -> str:\n",
    "    return datetime.now().strftime(\"%d-%m-%Y_%H-%M\")\n",
    "\n",
    "def mk_symlink(dest:str, symlink_path:str):\n",
    "    if os.path.islink(symlink_path) or os.path.exists(symlink_path):\n",
    "        os.remove(symlink_path)\n",
    "    os.symlink(dest, symlink_path)"
   ]
  },
  {
   "cell_type": "markdown",
   "id": "c8014fc2",
   "metadata": {},
   "source": [
    "### Training loop"
   ]
  },
  {
   "cell_type": "code",
   "execution_count": 12,
   "id": "7cc879eb",
   "metadata": {},
   "outputs": [],
   "source": [
    "def fit(epochs:int,\n",
    "        model: nn.Module,\n",
    "        scheduler: LRScheduler,\n",
    "        optimizer: torch.optim.Optimizer,\n",
    "        train_loader: DL,\n",
    "        criterion: callable=nn.L1Loss(),\n",
    "        evaluation_func: callable=None,\n",
    "        validation_loader: DL=None,\n",
    "        save_checkpoints=True,\n",
    "    ) -> tuple[DF, str]:\n",
    "    \"\"\"\n",
    "    Returns:\n",
    "        (training_metrics, path_to_checkpoints)\n",
    "    \"\"\"\n",
    "    # Setup\n",
    "    metrics: list[dict] = []\n",
    "    checkpoints_dir = os.path.join(\"checkpoints\", mk_date_now_str())\n",
    "    step = 0\n",
    "    model_device = next(model.parameters()).device\n",
    "    last_epoch_metric = {}\n",
    "    # Training loop\n",
    "    with Progress() as progress:\n",
    "        task: Task = progress.add_task(\n",
    "            \"training...\",\n",
    "            total=len(train_loader),\n",
    "        )\n",
    "        for epoch in range(epochs):\n",
    "            progress.update(\n",
    "                task,\n",
    "                description=f\"epoch: {epoch}\",\n",
    "                completed=0,\n",
    "            )\n",
    "            total_epoch_loss = 0\n",
    "            total_accuracy = 0\n",
    "            for batch_idx, (x, y) in enumerate(train_loader):\n",
    "                # forward\n",
    "                x = x.to(model_device)\n",
    "                y = y.to(model_device)\n",
    "                model.train()\n",
    "                optimizer.zero_grad()\n",
    "                y_pred: Tensor = model(x)\n",
    "                loss_value = criterion(y_pred, y)\n",
    "                # Verify loss value\n",
    "                if torch.isnan(loss_value).any().item():\n",
    "                    progress.print(\"Warning: Got NaN loss, stopped training.\")\n",
    "                    return DF.from_records(metrics) \n",
    "                if torch.isinf(loss_value).any().item():\n",
    "                    progress.print(\"Warning: Got infinite loss, stopped training.\")\n",
    "                    return DF.from_records(metrics) \n",
    "                # TODO: Use gradient clipping?\n",
    "                loss_value.backward()\n",
    "                optimizer.step()\n",
    "                if step > 0: # If it's not the first training step, idk why it throws an error otherwise\n",
    "                    scheduler.step()\n",
    "                # metrics\n",
    "                total_epoch_loss += loss_value.item()\n",
    "                batch_accuracy = compute_accuracy(y_pred, y)\n",
    "                total_accuracy += batch_accuracy\n",
    "                metrics.append({\n",
    "                    \"step\": step,\n",
    "                    \"epoch\": epoch,\n",
    "                    \"batch_train_loss\": loss_value.item(),\n",
    "                    \"lr\": optimizer.state_dict()[\"param_groups\"][-1][\"lr\"],\n",
    "                    \"batch_accuracy\": batch_accuracy,\n",
    "                })\n",
    "                step += 1\n",
    "                if \"validation_accuracy\" in last_epoch_metric:\n",
    "                    last_validation_acc = \"%.2f\" % last_epoch_metric[\"validation_accuracy\"]\n",
    "                    val_acc_str = \"val. acc: \" + last_validation_acc\n",
    "                else:\n",
    "                    val_acc_str = \"\"\n",
    "                progress.update(\n",
    "                    task,\n",
    "                    advance=1,\n",
    "                    description=f\"epoch: {epoch}, batch_loss: {(total_epoch_loss / (batch_idx+1)):.2f}, {val_acc_str}\"\n",
    "                )\n",
    "            # Post epoch evalution\n",
    "            metrics[-1][\"train_epoch_loss\"] = total_epoch_loss / len(train_loader)\n",
    "            metrics[-1][\"train_epoch_accuracy\"] = total_accuracy / len(train_loader)\n",
    "            if evaluation_func:\n",
    "                progress.update(\n",
    "                    task,\n",
    "                    completed=0,\n",
    "                    description=f\"epoch: {epoch}, evaluating...\"\n",
    "                )\n",
    "                eval_metrics = evaluation_func(model, criterion, validation_loader)\n",
    "                metrics[-1].update(eval_metrics)\n",
    "            last_epoch_metric = metrics[-1]\n",
    "            # Save checkpoint\n",
    "            if save_checkpoints:\n",
    "                checkpoint = mk_checkpoint(epoch, model, scheduler, optimizer)\n",
    "                metrics_df = DF.from_records(metrics)\n",
    "                best_model_metric = \"validation_loss\" if \"validation_loss\" in metrics_df.columns else \"train_epoch_loss\"\n",
    "                is_best_checkpoint = (\n",
    "                    DF.from_records(metrics)\n",
    "                    .eval(f\"min_{best_model_metric} = {best_model_metric}.min()\")\n",
    "                    .eval(f\"is_best_{best_model_metric} = {best_model_metric} == min_{best_model_metric}\")\n",
    "                    .dropna(subset=f\"is_best_{best_model_metric}\")\n",
    "                    .iloc[-1]\n",
    "                    .loc[f\"is_best_{best_model_metric}\"]\n",
    "                )\n",
    "                save_checkpoint(checkpoint, checkpoints_dir, is_best_checkpoint)\n",
    "\n",
    "    return DF.from_records(metrics), checkpoints_dir"
   ]
  },
  {
   "cell_type": "markdown",
   "id": "39e484f3",
   "metadata": {},
   "source": [
    "### Create model function"
   ]
  },
  {
   "cell_type": "code",
   "execution_count": 13,
   "id": "534c536e",
   "metadata": {},
   "outputs": [
    {
     "name": "stdout",
     "output_type": "stream",
     "text": [
      "input channels: 66\n"
     ]
    }
   ],
   "source": [
    "def mk_model() -> nn.Module:\n",
    "    nb_in_chans = len(meta_data[\"feature_cols\"])\n",
    "    return (\n",
    "        Resnet(\n",
    "            in_channels=nb_in_chans,\n",
    "            depth=4,\n",
    "            mlp_width=256,\n",
    "            n_class=18\n",
    "        )\n",
    "        .to(device)\n",
    "    )\n",
    "\n",
    "print(\"input channels:\", len(meta_data[\"feature_cols\"]))"
   ]
  },
  {
   "cell_type": "code",
   "execution_count": 14,
   "id": "fe1e327c",
   "metadata": {},
   "outputs": [],
   "source": [
    "def mk_model_and_fit(train_loader:DL, validation_loader:Optional[DL]=None) -> tuple[nn.Module, DF, list[str]]:\n",
    "    model = mk_model()\n",
    "    optimizer = torch.optim.AdamW(model.parameters(), STARTING_LR)\n",
    "    constant_lr_scheduler = ConstantLR(optimizer, factor=1, total_iters=len(train_loader) * TRAINING_EPOCHS)\n",
    "    training_metrics, model_checkpoints = fit(\n",
    "        epochs=TRAINING_EPOCHS,\n",
    "        model=model,\n",
    "        scheduler=constant_lr_scheduler,\n",
    "        optimizer=optimizer,\n",
    "        train_loader=train_loader,\n",
    "        criterion=nn.CrossEntropyLoss(),\n",
    "        evaluation_func=evaluate_model if validation_loader else None,\n",
    "        validation_loader=validation_loader,\n",
    "        save_checkpoints=True,\n",
    "    )\n",
    "\n",
    "    return model, training_metrics, model_checkpoints"
   ]
  },
  {
   "cell_type": "markdown",
   "id": "0ddd2294",
   "metadata": {},
   "source": [
    "### Training metrics plotting"
   ]
  },
  {
   "cell_type": "code",
   "execution_count": 15,
   "id": "4619c4fe",
   "metadata": {},
   "outputs": [],
   "source": [
    "def plt_train_split_training_metrics(training_metrics:DF):\n",
    "    (\n",
    "        px.scatter(\n",
    "            (\n",
    "                training_metrics\n",
    "                .melt(\n",
    "                    id_vars=\"step\",\n",
    "                    value_vars=[\n",
    "                        \"batch_train_loss\",\n",
    "                        \"batch_accuracy\",\n",
    "                    ]\n",
    "                )\n",
    "            ),\n",
    "            x=\"step\",\n",
    "            y=\"value\",\n",
    "            facet_row=\"variable\",\n",
    "            trendline=\"ewm\",\n",
    "            trendline_options={\"com\": 30},\n",
    "            trendline_color_override=\"red\",\n",
    "            title=\"batch metrics\",\n",
    "        )\n",
    "        .update_yaxes(matches=None)\n",
    "        .show()\n",
    "    )\n",
    "\n",
    "def plt_validation_split_training_metrics(training_metrics:DF):\n",
    "    (\n",
    "        px.line(\n",
    "            (\n",
    "                training_metrics\n",
    "                .query(\"validation_loss.notna()\")\n",
    "                .melt(\n",
    "                    id_vars=\"epoch\",\n",
    "                    value_vars=['train_epoch_accuracy', 'validation_accuracy', \"competition_score\"]\n",
    "                )\n",
    "            ),\n",
    "            x=\"epoch\",\n",
    "            y=\"value\",\n",
    "            color=\"variable\",\n",
    "            facet_row=\"variable\",\n",
    "            title=\"epoch metrics\",\n",
    "            render_mode=\"line+marker\",\n",
    "        ).update_yaxes(matches=None)\n",
    "        .show()\n",
    "    )"
   ]
  },
  {
   "cell_type": "markdown",
   "id": "92bee315",
   "metadata": {},
   "source": [
    "## Cross validation training"
   ]
  },
  {
   "cell_type": "code",
   "execution_count": null,
   "id": "a711c430",
   "metadata": {},
   "outputs": [
    {
     "name": "stdout",
     "output_type": "stream",
     "text": [
      "training: 1\n"
     ]
    },
    {
     "data": {
      "application/vnd.jupyter.widget-view+json": {
       "model_id": "7936ebf83b274a99a3687bcdf39437c6",
       "version_major": 2,
       "version_minor": 0
      },
      "text/plain": [
       "Output()"
      ]
     },
     "metadata": {},
     "output_type": "display_data"
    }
   ],
   "source": [
    "fold_patterns = join(dataset_path, \"preprocessed_dataset\", \"fold*\")\n",
    "fold_pths = glob(fold_patterns)[:NB_CROSS_VALIDATIONS]\n",
    "all_training_metrics = {}\n",
    "\n",
    "for fold_idx, fold_pth in enumerate(fold_pths):\n",
    "    print(\"training:\", fold_idx + 1)\n",
    "    train_dataset = CMIDataset(fold_pth, \"train\")\n",
    "    train_data_loader = DL(train_dataset, BATCH_SIZE, shuffle=True)\n",
    "    validation_dataset = CMIDataset(fold_pth, \"validation\")\n",
    "    validation_data_loader = DL(validation_dataset, BATCH_SIZE, shuffle=False)\n",
    "    _, training_metrics, _ = mk_model_and_fit(train_data_loader, validation_data_loader)\n",
    "    all_training_metrics[\"fold_\" + str(fold_idx)] = training_metrics\n",
    "    plt_validation_split_training_metrics(training_metrics)\n",
    "    print(\"=========================\")\n",
    "\n",
    "all_training_metrics = pd.concat(all_training_metrics)"
   ]
  },
  {
   "cell_type": "code",
   "execution_count": null,
   "id": "0e54c23c",
   "metadata": {},
   "outputs": [
    {
     "data": {
      "text/html": [
       "<div>\n",
       "<style scoped>\n",
       "    .dataframe tbody tr th:only-of-type {\n",
       "        vertical-align: middle;\n",
       "    }\n",
       "\n",
       "    .dataframe tbody tr th {\n",
       "        vertical-align: top;\n",
       "    }\n",
       "\n",
       "    .dataframe thead th {\n",
       "        text-align: right;\n",
       "    }\n",
       "</style>\n",
       "<table border=\"1\" class=\"dataframe\">\n",
       "  <thead>\n",
       "    <tr style=\"text-align: right;\">\n",
       "      <th></th>\n",
       "      <th>train_epoch_loss</th>\n",
       "      <th>train_epoch_accuracy</th>\n",
       "      <th>validation_loss</th>\n",
       "      <th>validation_accuracy</th>\n",
       "      <th>competition_score</th>\n",
       "    </tr>\n",
       "  </thead>\n",
       "  <tbody>\n",
       "    <tr>\n",
       "      <th>mean</th>\n",
       "      <td>2.495769</td>\n",
       "      <td>0.485506</td>\n",
       "      <td>2.672637</td>\n",
       "      <td>0.306681</td>\n",
       "      <td>0.481600</td>\n",
       "    </tr>\n",
       "    <tr>\n",
       "      <th>std</th>\n",
       "      <td>0.242468</td>\n",
       "      <td>0.242812</td>\n",
       "      <td>0.126478</td>\n",
       "      <td>0.125577</td>\n",
       "      <td>0.080968</td>\n",
       "    </tr>\n",
       "  </tbody>\n",
       "</table>\n",
       "</div>"
      ],
      "text/plain": [
       "      train_epoch_loss  train_epoch_accuracy  validation_loss  \\\n",
       "mean          2.495769              0.485506         2.672637   \n",
       "std           0.242468              0.242812         0.126478   \n",
       "\n",
       "      validation_accuracy  competition_score  \n",
       "mean             0.306681           0.481600  \n",
       "std              0.125577           0.080968  "
      ]
     },
     "execution_count": 15,
     "metadata": {},
     "output_type": "execute_result"
    }
   ],
   "source": [
    "(\n",
    "    all_training_metrics\n",
    "    .loc[:,\n",
    "        [\n",
    "            \"train_epoch_loss\",\n",
    "            \"train_epoch_accuracy\",\n",
    "            \"validation_loss\",\n",
    "            \"validation_accuracy\",\n",
    "            \"competition_score\",\n",
    "        ],\n",
    "    ]\n",
    "    .agg([\"mean\", \"std\"])\n",
    ")"
   ]
  },
  {
   "cell_type": "markdown",
   "id": "aab08b93",
   "metadata": {},
   "source": [
    "## Full dataset training"
   ]
  },
  {
   "cell_type": "code",
   "execution_count": null,
   "id": "e6a350f8",
   "metadata": {},
   "outputs": [
    {
     "data": {
      "application/vnd.jupyter.widget-view+json": {
       "model_id": "a8bdc66ddefc4cf69eb9db2209320adc",
       "version_major": 2,
       "version_minor": 0
      },
      "text/plain": [
       "Output()"
      ]
     },
     "metadata": {},
     "output_type": "display_data"
    },
    {
     "data": {
      "text/html": [
       "<pre style=\"white-space:pre;overflow-x:auto;line-height:normal;font-family:Menlo,'DejaVu Sans Mono',consolas,'Courier New',monospace\"></pre>\n"
      ],
      "text/plain": []
     },
     "metadata": {},
     "output_type": "display_data"
    },
    {
     "data": {
      "application/vnd.plotly.v1+json": {
       "config": {
        "plotlyServerURL": "https://plot.ly"
       },
       "data": [
        {
         "hovertemplate": "variable=batch_train_loss<br>step=%{x}<br>value=%{y}<extra></extra>",
         "legendgroup": "",
         "marker": {
          "color": "#636efa",
          "symbol": "circle"
         },
         "mode": "markers",
         "name": "",
         "showlegend": false,
         "type": "scattergl",
         "x": {
          "bdata": "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",
          "dtype": "i2"
         },
         "xaxis": "x2",
         "y": {
          "bdata": "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",
          "dtype": "f8"
         },
         "yaxis": "y2"
        },
        {
         "hovertemplate": "<b>Exponentially Weighted mean trendline</b><br><br>variable=batch_train_loss<br>step=%{x}<br>value=%{y} <b>(trend)</b><extra></extra>",
         "legendgroup": "",
         "line": {
          "color": "red"
         },
         "marker": {
          "color": "#636efa",
          "symbol": "circle"
         },
         "mode": "lines",
         "name": "",
         "showlegend": false,
         "type": "scattergl",
         "x": {
          "bdata": "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",
          "dtype": "i2"
         },
         "xaxis": "x2",
         "y": {
          "bdata": "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",
          "dtype": "f8"
         },
         "yaxis": "y2"
        },
        {
         "hovertemplate": "variable=batch_accuracy<br>step=%{x}<br>value=%{y}<extra></extra>",
         "legendgroup": "",
         "marker": {
          "color": "#636efa",
          "symbol": "circle"
         },
         "mode": "markers",
         "name": "",
         "showlegend": false,
         "type": "scattergl",
         "x": {
          "bdata": "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",
          "dtype": "i2"
         },
         "xaxis": "x",
         "y": {
          "bdata": "AAAAAAAAnD8AAAAAAIDBPwAAAAAAAMA/AAAAAAAAuT8AAAAAAIDIPwAAAAAAgMk/AAAAAAAAyD8AAAAAAADLPwAAAAAAAMo/AAAAAAAA0D8AAAAAAIDPPwAAAAAAgMw/AAAAAACAzz8AAAAAAADLPwAAAAAAgM8/AAAAAABA0D8AAAAAAADOPwAAAAAAwNA/AAAAAACA0D8AAAAAAIDNPwAAAAAAgM4/AAAAAABA0D8AAAAAAMDQPwAAAAAAgNM/AAAAAACA0D8AAAAAAADTPwAAAAAAgNI/AAAAAABA0j8AAAAAAEDSPwAAAAAAgNE/AAAAAAAA0j+p3kOR6j3UPwAAAAAAANQ/AAAAAACA1z8AAAAAAEDVPwAAAAAAgNI/AAAAAABA1T8AAAAAAADSPwAAAAAAQNM/AAAAAABA1z8AAAAAAEDTPwAAAAAAgNU/AAAAAABA1T8AAAAAAEDTPwAAAAAAwNU/AAAAAACA1D8AAAAAAEDTPwAAAAAAgNI/AAAAAAAA0z8AAAAAAADUPwAAAAAAwNU/AAAAAADA0z8AAAAAAADVPwAAAAAAgNU/AAAAAAAA1T8AAAAAAADWPwAAAAAAQNg/AAAAAAAA1j8AAAAAAADVPwAAAAAAANg/AAAAAABA1j8AAAAAAADVPwAAAAAAANk/wutWIbxu1T8AAAAAAMDWPwAAAAAAQNo/AAAAAACA1z8AAAAAAIDWPwAAAAAAANY/AAAAAABA1D8AAAAAAADXPwAAAAAAQNU/AAAAAAAA2j8AAAAAAMDXPwAAAAAAQNc/AAAAAACA2D8AAAAAAIDXPwAAAAAAwNc/AAAAAAAA1z8AAAAAAMDWPwAAAAAAwNg/AAAAAAAA2z8AAAAAAIDYPwAAAAAAwNc/AAAAAAAA1T8AAAAAAEDUPwAAAAAAgNY/AAAAAABA2D8AAAAAAEDYPwAAAAAAgNY/AAAAAADA1j8AAAAAAIDWPwAAAAAAANo/AAAAAABA1z8AAAAAAMDXP4GMhgnIaNg/AAAAAADA3D8AAAAAAEDaPwAAAAAAwNg/AAAAAADA2D8AAAAAAIDaPwAAAAAAgNs/AAAAAAAA3j8AAAAAAEDUPwAAAAAAANY/AAAAAAAA2j8AAAAAAIDaPwAAAAAAQNg/AAAAAAAA2T8AAAAAAADaPwAAAAAAANk/AAAAAADA3D8AAAAAAIDbPwAAAAAAwNg/AAAAAABA1z8AAAAAAIDaPwAAAAAAwNk/AAAAAABA2D8AAAAAAMDXPwAAAAAAQNg/AAAAAAAA3D8AAAAAAADYPwAAAAAAQNk/AAAAAAAA2T8AAAAAAEDcPwAAAAAAQNc/AAAAAAAA1j+VNWVNWVPWPwAAAAAAQNo/AAAAAACA1z8AAAAAAADcPwAAAAAAANo/AAAAAACA2T8AAAAAAMDaPwAAAAAAwN0/AAAAAADA2T8AAAAAAEDdPwAAAAAAwNg/AAAAAACA2z8AAAAAAIDbPwAAAAAAQNs/AAAAAABA3D8AAAAAAMDbPwAAAAAAwN0/AAAAAABA2D8AAAAAAADfPwAAAAAAgNs/AAAAAABA3D8AAAAAAADZPwAAAAAAwNk/AAAAAADA1z8AAAAAAMDZPwAAAAAAgNk/AAAAAAAA3T8AAAAAAEDbPwAAAAAAANk/AAAAAADA2z8AAAAAAIDcPwAAAAAAwNo/DROQ0TAB2T8AAAAAAIDaPwAAAAAAANs/AAAAAABA2j8AAAAAAIDbPwAAAAAAANw/AAAAAADA2z8AAAAAAIDZPwAAAAAAgNs/AAAAAABA3j8AAAAAAEDfPwAAAAAAwNg/AAAAAAAA3j8AAAAAAEDcPwAAAAAAANo/AAAAAAAA2z8AAAAAAEDePwAAAAAAANw/AAAAAAAA2D8AAAAAAEDbPwAAAAAAQNk/AAAAAAAA2z8AAAAAAEDWPwAAAAAAwNw/AAAAAACA2j8AAAAAAIDaPwAAAAAAQNk/AAAAAABA3j8AAAAAAADdPwAAAAAAwNw/AAAAAAAA3T8AAAAAAIDcP/QFfUFf0Nc/AAAAAAAA2z8AAAAAAEDdPwAAAAAAQNo/AAAAAABA3j8AAAAAAADbPwAAAAAAgNw/AAAAAADA2j8AAAAAAEDePwAAAAAAAN0/AAAAAABA3T8AAAAAAEDfPwAAAAAAAN0/AAAAAAAA3D8AAAAAAMDdPwAAAAAAgNs/AAAAAADA3T8AAAAAAEDbPwAAAAAAANo/AAAAAAAA3j8AAAAAAIDXPwAAAAAAgNo/AAAAAAAA2z8AAAAAAEDZPwAAAAAAANw/AAAAAAAA2z8AAAAAAIDdPwAAAAAAgNs/AAAAAADA3T8AAAAAAIDcPwAAAAAAwNo/AAAAAACA3D8/Lbbx02LbPwAAAAAAAN4/AAAAAADA4D8AAAAAAIDcPwAAAAAAQNo/AAAAAADA3D8AAAAAAEDaPwAAAAAAQNs/AAAAAACA3D8AAAAAAIDcPwAAAAAAwNo/AAAAAACA3T8AAAAAAEDbPwAAAAAAQN0/AAAAAADA3T8AAAAAAIDbPwAAAAAAgN0/AAAAAAAA2z8AAAAAAADgPwAAAAAAAN8/AAAAAADA3j8AAAAAAMDZPwAAAAAAAN4/AAAAAAAA3j8AAAAAAEDePwAAAAAAAOA/AAAAAADA2z8AAAAAAEDePwAAAAAAwN4/AAAAAADA3T8AAAAAAIDbPwAAAAAAQN0/dZIDSyc54D8AAAAAAADcPwAAAAAAANw/AAAAAAAA3j8AAAAAAMDdPwAAAAAAwNs/AAAAAAAA4D8AAAAAAEDePwAAAAAAQN8/AAAAAAAA3D8AAAAAAEDdPwAAAAAAgN0/AAAAAABA3T8AAAAAAADhPwAAAAAAAN4/AAAAAACA3D8AAAAAAADdPwAAAAAAwNw/AAAAAACA3j8AAAAAACDhPwAAAAAAAN8/AAAAAADA2j8AAAAAAADcPwAAAAAAgN4/AAAAAACA3j8AAAAAAMDaPwAAAAAAgNo/AAAAAABA3z8AAAAAAEDbPwAAAAAAIOA/AAAAAAAA4D8AAAAAAEDdPxJ3xB1xR9w/AAAAAACA3j8AAAAAAMDePwAAAAAAIOA/AAAAAAAA3j8AAAAAAIDePwAAAAAAwNo/AAAAAACA3T8AAAAAAMDfPwAAAAAAgN0/AAAAAACA2z8AAAAAAEDcPwAAAAAAgN8/AAAAAABg4D8AAAAAAMDePwAAAAAAAN8/AAAAAAAg4D8AAAAAAADcPwAAAAAAQN4/AAAAAAAA3j8AAAAAAADePwAAAAAAAN0/AAAAAACA3z8AAAAAAIDePwAAAAAAgN0/AAAAAABA2z8AAAAAAIDcPwAAAAAAgOA/AAAAAADA3j8AAAAAAADdPwAAAAAAwNk/AAAAAACA3T8Sd8QdcUfcPwAAAAAAgOA/AAAAAADA3j8AAAAAAADgPwAAAAAAQN8/AAAAAACA2j8AAAAAAADdPwAAAAAAIOA/AAAAAACg4D8AAAAAAIDdPwAAAAAAgN0/AAAAAADA3z8AAAAAACDgPwAAAAAAgNs/AAAAAACA3T8AAAAAACDgPwAAAAAAQOE/AAAAAACA3T8AAAAAAADcPwAAAAAAYOA/AAAAAACA3j8AAAAAAIDcPwAAAAAAwN0/AAAAAADA2j8AAAAAAIDePwAAAAAAgOA/AAAAAAAA3T8AAAAAAIDfPwAAAAAAwNw/AAAAAABA3j8AAAAAAMDdPwAAAAAAwN0/F9v4abGN3z8AAAAAAEDcPwAAAAAAwN0/AAAAAACA4D8AAAAAAMDfPwAAAAAAQN4/AAAAAACA3D8AAAAAAMDfPwAAAAAAQOA/AAAAAADA3j8AAAAAAEDcPwAAAAAAgN0/AAAAAACA3j8AAAAAAMDfPwAAAAAAAOA/AAAAAACA3z8AAAAAAKDhPwAAAAAAgOA/AAAAAADA3T8AAAAAAIDgPwAAAAAAYOA/AAAAAACA3D8AAAAAAADbPwAAAAAAwN0/AAAAAABA3T8AAAAAACDgPwAAAAAAgNw/AAAAAABg4D8AAAAAAEDgPwAAAAAAAN8/AAAAAAAg4D8AAAAAACDgP3FH3BF3xN0/AAAAAABA3T8AAAAAAIDhPwAAAAAAwN4/AAAAAAAA4T8AAAAAAMDcPwAAAAAAAOA/AAAAAABg4D8AAAAAAGDgPwAAAAAAwN0/AAAAAAAA3z8AAAAAAADgPwAAAAAAAOA/AAAAAAAA3z8AAAAAAADhPwAAAAAAAN8/AAAAAAAg4D8AAAAAAEDePwAAAAAAAN4/AAAAAADA4D8AAAAAAIDgPwAAAAAAwN0/AAAAAACA4D8AAAAAAEDfPwAAAAAAQN8/AAAAAAAA3j8AAAAAAMDgPwAAAAAAAN0/AAAAAABA4T8AAAAAAMDgPwAAAAAAAOA/AAAAAABA4D9Ekeo9FKnePwAAAAAAQN4/AAAAAABA4T8AAAAAAEDfPwAAAAAAAOA/AAAAAABg4D8AAAAAAIDaPwAAAAAAIOE/AAAAAAAA4T8AAAAAAMDfPwAAAAAAQOA/AAAAAABA4D8AAAAAAGDhPwAAAAAAYOA/AAAAAAAA4D8AAAAAAADfPwAAAAAAgOA/AAAAAADA4D8AAAAAAMDcPwAAAAAAwNo/AAAAAACA4T8AAAAAAIDfPwAAAAAAQOE/AAAAAACg4T8AAAAAAADgPwAAAAAAIOA/AAAAAABg4D8AAAAAAMDgPwAAAAAAgN4/AAAAAAAA4T8AAAAAAGDgPwAAAAAAAOE/F9v4abGN3z8AAAAAAGDhPwAAAAAAYOE/AAAAAAAg4j8AAAAAAEDfPwAAAAAAIOE/AAAAAADA3z8AAAAAAADgPwAAAAAAYOE/AAAAAAAA4T8AAAAAAADePwAAAAAAIOA/AAAAAABA3z8AAAAAAODgPwAAAAAAgN0/AAAAAABg4D8AAAAAAMDcPwAAAAAAgN4/AAAAAAAA3j8AAAAAAMDgPwAAAAAAAN8/AAAAAAAA4D8AAAAAAMDfPwAAAAAAAOE/AAAAAAAA3z8AAAAAAIDhPwAAAAAAIOA/AAAAAABA3j8AAAAAAIDdPwAAAAAAwOA/AAAAAAAA3z8AAAAAACDgP/7N5dnfXN4/AAAAAAAg4T8AAAAAAADiPwAAAAAAQOA/AAAAAABA4T8AAAAAAGDhPwAAAAAAoOA/AAAAAABA3j8AAAAAACDgPwAAAAAAgN4/AAAAAABg4D8AAAAAAADgPwAAAAAAAOA/AAAAAACA4D8AAAAAAEDhPwAAAAAAwN4/AAAAAABg4T8AAAAAAIDhPwAAAAAAAOE/AAAAAAAA4T8AAAAAAADdPwAAAAAAgN4/AAAAAAAA4D8AAAAAAIDgPwAAAAAAwNw/AAAAAABA3D8AAAAAAMDfPwAAAAAAgN0/AAAAAAAA4T8AAAAAAADfPwAAAAAA4OA/AAAAAADg4D91kgNLJzngPwAAAAAAQN4/AAAAAABA3z8AAAAAAODgPwAAAAAAgN8/AAAAAABA4D8AAAAAAADiPwAAAAAAgOE/AAAAAAAA4T8AAAAAAEDgPwAAAAAAwOA/AAAAAADg4T8AAAAAAMDhPwAAAAAAwOA/AAAAAAAg4T8AAAAAAMDgPwAAAAAAgOA/AAAAAABg4D8AAAAAAKDgPwAAAAAAgOA/AAAAAADg4D8AAAAAAMDgPwAAAAAAQN0/AAAAAACA3T8AAAAAAADfPwAAAAAAQN8/AAAAAABA3D8AAAAAACDhPwAAAAAAIOA/AAAAAABA3z8AAAAAAIDgPwAAAAAAAOE/6z0Uqd5D4T8AAAAAAADePwAAAAAAQOE/AAAAAAAg4D8AAAAAAADePwAAAAAAIOA/AAAAAADA4D8AAAAAAODgPwAAAAAAgNw/AAAAAADA3T8AAAAAAMDfPwAAAAAAoOA/AAAAAAAg4j8AAAAAAODhPwAAAAAAgOA/AAAAAAAA4T8AAAAAACDgPwAAAAAAAOA/AAAAAACA4j8AAAAAAMDhPwAAAAAAgN8/AAAAAACA3j8AAAAAAEDgPwAAAAAAAOA/AAAAAABg4D8AAAAAACDgPwAAAAAAwOA/AAAAAACg4D8AAAAAAMDhPwAAAAAAwOA/AAAAAABg4T8AAAAAAGDiPxj0BX1BX+A/AAAAAACA4D8AAAAAAIDgPwAAAAAAYOE/AAAAAABg4T8AAAAAAEDdPwAAAAAAoOI/AAAAAABA4D8AAAAAAODgPwAAAAAAQOE/AAAAAAAg4D8AAAAAAIDePwAAAAAAwN4/AAAAAADg4T8AAAAAAADhPwAAAAAAoOE/AAAAAAAA3j8AAAAAAEDgPwAAAAAAQOE/AAAAAABg4T8AAAAAAADhPwAAAAAAoOA/AAAAAACA4T8AAAAAAADiPwAAAAAAoOA/AAAAAACA4D8AAAAAAGDgPwAAAAAAwOA/AAAAAACA4j8AAAAAAGDgPwAAAAAAIOA/AAAAAABg4D+7VQivW4XgPwAAAAAAoOE/AAAAAAAA4D8AAAAAAMDhPwAAAAAAAOQ/AAAAAACg4T8AAAAAAEDhPwAAAAAAoOA/AAAAAAAA4T8AAAAAAADhPwAAAAAAQN8/AAAAAABA3j8AAAAAAMDgPwAAAAAAIOE/AAAAAADA4D8AAAAAAEDhPwAAAAAAIOI/AAAAAACg4T8AAAAAAIDhPwAAAAAAQN4/AAAAAAAg4T8AAAAAAEDhPwAAAAAAIOI/AAAAAABA4j8AAAAAAKDgPwAAAAAAgOA/AAAAAABA3z8AAAAAACDiPwAAAAAA4OI/AAAAAACg4T8AAAAAAADiPwAAAAAAYOE/YOkkB5ZO4j8AAAAAAIDgPwAAAAAAQOA/AAAAAAAA4j8AAAAAAGDiPwAAAAAAIOI/AAAAAADg4D8AAAAAAEDePwAAAAAAoOA/AAAAAABA4T8AAAAAAADiPwAAAAAAoOI/AAAAAADg4T8AAAAAAMDhPwAAAAAA4OA/AAAAAABg4T8AAAAAACDhPwAAAAAAQOM/AAAAAABg4T8AAAAAAODhPwAAAAAA4OA/AAAAAABg4T8AAAAAAEDiPwAAAAAAAOI/AAAAAAAA4T8AAAAAAEDhPwAAAAAAYOE/AAAAAAAA4T8AAAAAACDhPwAAAAAAwOE/AAAAAAAA4T8AAAAAAODhP46fFtv4aeE/AAAAAADg4T8AAAAAAEDhPwAAAAAAYOE/AAAAAABg4j8AAAAAAMDiPwAAAAAAgOA/AAAAAABA4j8AAAAAACDhPwAAAAAAoOE/AAAAAADA3T8AAAAAAODiPwAAAAAAwOI/AAAAAADA4T8AAAAAACDgPwAAAAAAIOI/AAAAAACA4D8AAAAAAIDgPwAAAAAAgN8/AAAAAABg4D8AAAAAAIDjPwAAAAAAIOI/AAAAAADA4z8AAAAAAMDhPwAAAAAA4OE/AAAAAABg4D8AAAAAAKDiPwAAAAAAQOE/AAAAAABA4T8AAAAAAIDiPwAAAAAAQOM/AAAAAACA4T+9hyLVeyjiPwAAAAAAIOA/AAAAAAAA4z8AAAAAAMDhPwAAAAAAQOM/AAAAAABA4D8AAAAAAKDgPwAAAAAAAOE/AAAAAACA4D8AAAAAAKDhPwAAAAAAoOA/AAAAAADg4T8AAAAAAGDiPwAAAAAAoOE/AAAAAACA4j8AAAAAAEDgPwAAAAAAwOI/AAAAAABg4T8AAAAAAMDhPwAAAAAAYOM/AAAAAAAg5D8AAAAAAADiPwAAAAAAAOI/AAAAAACg4z8AAAAAAIDhPwAAAAAAQOA/AAAAAACg4D8AAAAAAGDiPwAAAAAAIOA/AAAAAACg4D8AAAAAAIDiPwAAAAAAQN8/dZIDSyc54D8AAAAAAADjPwAAAAAAQOI/AAAAAABg4z8AAAAAAMDhPwAAAAAAYOE/AAAAAADg4D8AAAAAACDjPwAAAAAAgOI/AAAAAABg4T8AAAAAAGDiPwAAAAAA4OA/AAAAAABA4j8AAAAAAEDgPwAAAAAA4OE/AAAAAACg4D8AAAAAAADhPwAAAAAA4OI/AAAAAABg4T8AAAAAAMDfPwAAAAAAoOE/AAAAAACg4T8AAAAAAMDhPwAAAAAAQOE/AAAAAADg4j8AAAAAAEDhPwAAAAAAYOI/AAAAAABg4T8AAAAAAEDiPwAAAAAAAOE/AAAAAAAA4T8AAAAAACDiP163CuF1q+A/AAAAAABg4D8AAAAAAMDiPwAAAAAAoOE/AAAAAABA4D8AAAAAAODgPwAAAAAAIOI/AAAAAADg4T8AAAAAACDiPwAAAAAAoOA/AAAAAADg4j8AAAAAAEDkPwAAAAAAwOI/AAAAAACA4j8AAAAAAGDhPwAAAAAAYOI/AAAAAABg4j8AAAAAAADiPwAAAAAAoOI/AAAAAADg4T8AAAAAAODhPwAAAAAAAOE/AAAAAADg4D8AAAAAAIDiPwAAAAAAoOI/AAAAAAAg4j8AAAAAAADiPwAAAAAAIOE/AAAAAAAg4j8AAAAAACDhPwAAAAAAYOE/AAAAAACA4D+9hyLVeyjiPwAAAAAAIOI/AAAAAAAA4j8AAAAAAKDgPwAAAAAAgOI/AAAAAAAA4z8AAAAAAKDiPwAAAAAAgOE/AAAAAABg4T8AAAAAAEDiPwAAAAAA4OA/AAAAAADg4j8AAAAAAMDhPwAAAAAAAOI/AAAAAABA4j8AAAAAAODhPwAAAAAAQOM/AAAAAAAg4j8AAAAAAEDgPwAAAAAAgN4/AAAAAABA4j8AAAAAAGDiPwAAAAAAwOI/AAAAAABg4T8AAAAAACDhPwAAAAAAoOA/AAAAAABg4j8AAAAAACDjPwAAAAAAwOI/AAAAAABg4j8AAAAAAADhPwAAAAAAAOI/MQEZDROQ4T8AAAAAAODgPwAAAAAA4OE/AAAAAAAg4T8AAAAAACDiPwAAAAAAgOM/AAAAAADA4D8AAAAAAIDiPwAAAAAAIOM/AAAAAADA3j8AAAAAAKDgPwAAAAAA4OA/AAAAAADg4j8AAAAAAGDhPwAAAAAAYOM/AAAAAABA4T8AAAAAAEDgPwAAAAAAQOM/AAAAAACg4j8AAAAAACDiPwAAAAAAYOI/AAAAAABg4T8AAAAAACDhPwAAAAAA4OE/AAAAAABg4z8AAAAAAEDiPwAAAAAAoOE/AAAAAABA4j8AAAAAACDjPwAAAAAAIOQ/AAAAAABg4j8AAAAAAMDhP163CuF1q+A/AAAAAACA4j8AAAAAAKDiPwAAAAAAAOM/AAAAAABA4T8AAAAAACDjPwAAAAAA4OE/AAAAAACg4z8AAAAAAIDhPwAAAAAAQOE/AAAAAABA4T8AAAAAAMDjPwAAAAAAoOE/AAAAAABg4T8AAAAAAKDhPwAAAAAAwOE/AAAAAACg4T8AAAAAAADfPwAAAAAAgOM/AAAAAAAA4D8AAAAAAMDgPwAAAAAAYOI/AAAAAAAg4j8AAAAAACDiPwAAAAAAAOA/AAAAAABg4j8AAAAAACDiPwAAAAAAoOE/AAAAAAAg4T8AAAAAAADiPwAAAAAAIOI/AAAAAACg5D9KDiyd5MDiPwAAAAAAIOI/AAAAAABg4T8AAAAAAODhPwAAAAAAgOM/AAAAAADA4D8AAAAAAODgPwAAAAAAIOE/AAAAAADg4j8AAAAAAADgPwAAAAAAIOM/AAAAAABg4j8AAAAAAMDgPwAAAAAA4OE/AAAAAACg4T8AAAAAAEDiPwAAAAAAgOM/AAAAAABA4j8AAAAAACDhPwAAAAAAgOM/AAAAAAAA4z8AAAAAAODhPwAAAAAAIOI/AAAAAABg4T8AAAAAAKDiPwAAAAAAAOM/AAAAAABg4z8AAAAAAODhPwAAAAAAQOE/AAAAAABA4T8AAAAAAGDjPwAAAAAAAOM/jp8W2/hp4T8AAAAAAODiPwAAAAAAYOA/AAAAAAAg5T8AAAAAAADkPwAAAAAAoOE/AAAAAACA4j8AAAAAAADiPwAAAAAA4OM/AAAAAADg4T8AAAAAAMDhPwAAAAAAoOI/AAAAAAAA4z8AAAAAACDiPwAAAAAAoOA/AAAAAAAg4z8AAAAAACDjPwAAAAAAQOI/AAAAAABA5T8AAAAAAGDjPwAAAAAAwOI/AAAAAAAA5D8AAAAAAMDkPwAAAAAAQOQ/AAAAAAAA4z8AAAAAAEDiPwAAAAAA4OQ/AAAAAAAg4z8AAAAAAMDhPwAAAAAAoOE/AAAAAADg4T8AAAAAAGDjP9aUNWVNWeM/AAAAAADA4z8AAAAAAKDhPwAAAAAAQOI/AAAAAACg5D8AAAAAAIDiPwAAAAAA4OM/AAAAAAAA4z8AAAAAAADjPwAAAAAAYOM/AAAAAABg5D8AAAAAAIDjPwAAAAAAAOQ/AAAAAADA4T8AAAAAAEDlPwAAAAAAIOI/AAAAAABg5D8AAAAAAEDkPwAAAAAAYOI/AAAAAAAA5D8AAAAAAGDiPwAAAAAAQOQ/AAAAAABg4z8AAAAAAADjPwAAAAAAoOI/AAAAAACA5D8AAAAAAMDiPwAAAAAAwOM/AAAAAACg4T8AAAAAAADiPwAAAAAA4OM/AAAAAAAg4z9jGz8ttvHjPwAAAAAAIOQ/AAAAAACA4z8AAAAAAMDiPwAAAAAA4OM/AAAAAABA4z8AAAAAAODjPwAAAAAAgOM/AAAAAADA4j8AAAAAAODjPwAAAAAAwOI/AAAAAAAA4j8AAAAAACDjPwAAAAAAAOM/AAAAAABA5T8AAAAAACDjPwAAAAAAgOM/AAAAAACA4z8AAAAAAODjPwAAAAAAYOQ/AAAAAADA5D8AAAAAAADkPwAAAAAAAOM/AAAAAADA4z8AAAAAAIDjPwAAAAAAAOQ/AAAAAACg4T8AAAAAAODjPwAAAAAA4OM/AAAAAADg4j8AAAAAAGDjPwAAAAAAoOQ/1GIbPy224T8AAAAAAMDjPwAAAAAAIOQ/AAAAAACg5D8AAAAAAODjPwAAAAAA4OI/AAAAAAAA4j8AAAAAAODjPwAAAAAAQOQ/AAAAAADA4z8AAAAAAEDjPwAAAAAAQOM/AAAAAACg5D8AAAAAAEDjPwAAAAAAgOM/AAAAAABA4j8AAAAAAGDjPwAAAAAAoOM/AAAAAACg4z8AAAAAACDlPwAAAAAAoOE/AAAAAAAg4z8AAAAAAKDjPwAAAAAAwOI/AAAAAAAA4z8AAAAAAKDiPwAAAAAAIOI/AAAAAABA5D8AAAAAAMDmPwAAAAAAIOM/AAAAAADg4T8AAAAAACDkPzMzMzMzM+M/AAAAAAAA5T8AAAAAAEDjPwAAAAAAwOM/AAAAAABg4D8AAAAAACDiPwAAAAAAgOI/AAAAAAAA4j8AAAAAAIDiPwAAAAAAQOM/AAAAAABA5D8AAAAAAMDlPwAAAAAAgOQ/AAAAAACA4z8AAAAAACDkPwAAAAAA4OM/AAAAAACg4z8AAAAAACDkPwAAAAAA4OM/AAAAAABg4z8AAAAAAADjPwAAAAAAwOQ/AAAAAABA5D8AAAAAAODjPwAAAAAAQOM/AAAAAADg5D8AAAAAAADmPwAAAAAAQOQ/AAAAAACg5D8AAAAAAKDkPwAAAAAAIOM/AAAAAAAA4z/Zxk+LbfzkPwAAAAAA4OQ/AAAAAADg4j8AAAAAAKDkPwAAAAAAwOQ/AAAAAAAg5D8AAAAAAODjPwAAAAAAwOU/AAAAAABA4j8AAAAAAKDkPwAAAAAAYOQ/AAAAAABg4j8AAAAAAADlPwAAAAAAgOM/AAAAAABA5D8AAAAAAIDlPwAAAAAAwOM/AAAAAADg4z8AAAAAACDkPwAAAAAAQOU/AAAAAACg4z8AAAAAACDlPwAAAAAAAOM/AAAAAAAg5D8AAAAAAMDjPwAAAAAA4OM/AAAAAACA4z8AAAAAAADkPwAAAAAAQOQ/AAAAAADA4j8AAAAAAODlPwAAAAAAYOM/XrcK4XWr4D8AAAAAAIDjPwAAAAAAAOQ/AAAAAAAg5T8AAAAAAGDkPwAAAAAAAOQ/AAAAAABg5D8AAAAAAKDkPwAAAAAAQOU/AAAAAADg4z8AAAAAACDiPwAAAAAAAOI/AAAAAABA5T8AAAAAAMDmPwAAAAAAIOQ/AAAAAADA4j8AAAAAAADkPwAAAAAAwOM/AAAAAACg5D8AAAAAAODhPwAAAAAAQOQ/AAAAAACg4z8AAAAAAADkPwAAAAAAwOM/AAAAAACA4z8AAAAAAADmPwAAAAAAgOU/AAAAAACg4T8AAAAAAMDiPwAAAAAAoOI/AAAAAADA4j8AAAAAAKDlP8C5PPuby+M/AAAAAABA5D8AAAAAACDjPwAAAAAAIOU/AAAAAADA5D8AAAAAAMDkPwAAAAAAYOU/AAAAAADA5D8AAAAAAODiPwAAAAAAYOQ/AAAAAABg5D8AAAAAAEDjPwAAAAAAIOI/AAAAAACA5D8AAAAAAADkPwAAAAAAAOU/AAAAAABA5T8AAAAAACDkPwAAAAAAAOM/AAAAAAAg5T8AAAAAAKDkPwAAAAAAwOQ/AAAAAAAg5D8AAAAAAKDiPwAAAAAAIOU/AAAAAACA5D8AAAAAAEDlPwAAAAAAoOU/AAAAAABg5D8AAAAAAODjPwAAAAAAoOQ/AAAAAAAA4j9jGz8ttvHjPwAAAAAAYOQ/AAAAAABg5T8AAAAAAODjPwAAAAAAwOM/AAAAAACg5D8AAAAAAGDjPwAAAAAAIOc/AAAAAADA5D8AAAAAAIDlPwAAAAAAYOQ/AAAAAABA5D8AAAAAAADmPwAAAAAAAOQ/AAAAAABg5T8AAAAAAADjPwAAAAAAIOU/AAAAAAAA5T8AAAAAAKDkPwAAAAAAQOU/AAAAAABA5D8AAAAAACDkPwAAAAAAwOI/AAAAAAAg5T8AAAAAAKDiPwAAAAAAoOM/AAAAAAAg5D8AAAAAACDkPwAAAAAAIOQ/AAAAAADA4z8AAAAAAODkPwAAAAAA4OI/qd5Dkeo95D8AAAAAAODhPwAAAAAAAOU/AAAAAADA4z8AAAAAAMDkPwAAAAAAQOQ/AAAAAACg5D8AAAAAAGDkPwAAAAAAIOU/AAAAAAAg5D8AAAAAAKDkPwAAAAAAQOQ/AAAAAAAA5D8AAAAAAEDkPwAAAAAA4OU/AAAAAAAA5j8AAAAAAMDkPwAAAAAAgOQ/AAAAAAAA5T8AAAAAAADkPwAAAAAA4OQ/AAAAAADg5D8AAAAAAODjPwAAAAAAoOM/AAAAAAAg5D8AAAAAAADlPwAAAAAA4OQ/AAAAAAAA5D8AAAAAAIDjPwAAAAAAIOU/AAAAAAAA5j8AAAAAAKDjP8C5PPuby+M/AAAAAADA4z8AAAAAACDiPwAAAAAA4OI/AAAAAAAA5T8AAAAAAODhPwAAAAAAAOU/AAAAAAAA5T8AAAAAAGDmPwAAAAAAgOQ/AAAAAABg5D8AAAAAAKDkPwAAAAAAgOU/AAAAAABg5T8AAAAAAODjPwAAAAAAAOQ/AAAAAABg5T8AAAAAAMDkPwAAAAAAIOU/AAAAAAAA4z8AAAAAAADjPwAAAAAAgOU/AAAAAABg5T8AAAAAAMDjPwAAAAAAYOQ/AAAAAABA5T8AAAAAAKDlPwAAAAAAgOU/AAAAAABg5T8AAAAAAEDkPwAAAAAAwOM/AAAAAACg5D98KFK9hyLlPwAAAAAAgOY/AAAAAADg4z8AAAAAACDjPwAAAAAAIOY/AAAAAABA5T8AAAAAAIDlPwAAAAAAIOQ/AAAAAACg5D8AAAAAAIDlPwAAAAAAYOM/AAAAAAAA5j8AAAAAAIDlPwAAAAAAYOQ/AAAAAADg5T8AAAAAAMDlPwAAAAAAQOM/AAAAAAAg5T8AAAAAAKDkPwAAAAAAoOQ/AAAAAACg4j8AAAAAAKDkPwAAAAAAAOc/AAAAAACA5D8AAAAAAGDkPwAAAAAAwOM/AAAAAABA4z8AAAAAAGDkPwAAAAAAAOQ/AAAAAACA5D8AAAAAAIDjPwAAAAAAgOU/kNEwARkN4z8AAAAAAGDlPwAAAAAAoOQ/AAAAAACg5T8AAAAAAEDkPwAAAAAAAOQ/AAAAAADA4z8AAAAAAMDlPwAAAAAAwOU/AAAAAADA4z8AAAAAAIDlPwAAAAAAgOQ/AAAAAAAg5j8AAAAAAADlPwAAAAAAAOQ/AAAAAACg4z8AAAAAACDkPwAAAAAAgOM/AAAAAADg5D8AAAAAAGDkPwAAAAAA4OQ/AAAAAAAA5D8AAAAAAGDkPwAAAAAAAOU/AAAAAABA4z8AAAAAAEDkPwAAAAAAgOU/AAAAAABA4z8AAAAAAADlPwAAAAAAQOQ/AAAAAAAA5D8AAAAAAMDjP9aUNWVNWeM/AAAAAAAA5T8AAAAAAADmPwAAAAAA4OQ/AAAAAADg5T8AAAAAAIDjPwAAAAAAoOU/AAAAAABA5T8AAAAAAODlPwAAAAAAQOQ/AAAAAABg4z8AAAAAAADmPwAAAAAAYOQ/AAAAAAAg5T8AAAAAAGDlPwAAAAAAoOE/AAAAAACA5D8AAAAAAEDlPwAAAAAAAOQ/AAAAAABA5j8AAAAAAGDkPwAAAAAAoOQ/AAAAAAAg5D8AAAAAACDkPwAAAAAAQOQ/AAAAAABA5D8AAAAAAADkPwAAAAAAwOM/AAAAAABg5T8AAAAAAKDlPwAAAAAA4OI/AAAAAABA5D+p3kOR6j3kPwAAAAAAwOM/AAAAAAAg5D8AAAAAAKDmPwAAAAAAoOQ/AAAAAAAA5D8AAAAAAODlPwAAAAAAIOU/AAAAAADA5D8AAAAAAODjPwAAAAAAwOM/AAAAAAAA5D8AAAAAACDlPwAAAAAAoOQ/AAAAAACg5T8AAAAAAIDjPwAAAAAAoOU/AAAAAAAg5T8AAAAAAKDlPwAAAAAAAOU/AAAAAAAA5T8AAAAAACDkPwAAAAAAYOM/AAAAAABg5T8AAAAAAIDlPwAAAAAAoOQ/AAAAAADg4j8AAAAAACDlPwAAAAAAgOQ/AAAAAABg5D8AAAAAACDkPwAAAAAAIOU/2cZPi2385D8AAAAAAADkPwAAAAAAYOM/AAAAAABA5T8AAAAAAEDnPwAAAAAAoOM/AAAAAACg4j8AAAAAAIDlPwAAAAAAwOM/AAAAAABg5T8AAAAAAGDjPwAAAAAAIOQ/AAAAAACg4z8AAAAAAADlPwAAAAAAAOU/AAAAAABA5T8AAAAAAKDjPwAAAAAAAOU/AAAAAADg5D8AAAAAAEDjPwAAAAAAQOU/AAAAAABA5T8AAAAAAGDlPwAAAAAAYOM/AAAAAADA5T8AAAAAAIDlPwAAAAAAQOU/AAAAAADg5D8AAAAAAODlPwAAAAAAoOQ/AAAAAAAA5j8AAAAAAIDkP5IDSyc5sOQ/AAAAAAAA5j8AAAAAAGDkPwAAAAAAIOQ/AAAAAABA5T8AAAAAAIDmPwAAAAAAoOM/AAAAAADA5D8AAAAAAIDjPwAAAAAAYOQ/AAAAAADA5D8AAAAAAEDjPwAAAAAAQOU/AAAAAABA5D8AAAAAAMDkPwAAAAAAAOQ/AAAAAABA5D8AAAAAAKDlPwAAAAAAoOY/AAAAAABA5T8AAAAAACDmPwAAAAAAQOQ/AAAAAABg5T8AAAAAAMDjPwAAAAAAIOM/AAAAAADA5D8AAAAAAGDlPwAAAAAAgOM/AAAAAACA5T8AAAAAAGDlPwAAAAAAoOM/AAAAAAAg5T9PcmDpJAfmPwAAAAAAgOU/AAAAAADA5D8AAAAAAEDlPwAAAAAAIOU/AAAAAAAg5T8AAAAAACDjPwAAAAAA4OQ/AAAAAABg4z8AAAAAAKDkPwAAAAAA4OI/AAAAAAAg4z8AAAAAAIDlPwAAAAAAoOU/AAAAAACg5T8AAAAAACDlPwAAAAAAIOQ/AAAAAACA5D8AAAAAAEDlPwAAAAAAQOc/AAAAAABg4z8AAAAAACDlPwAAAAAAAOc/AAAAAADg5T8AAAAAAGDkPwAAAAAAAOY/AAAAAACg4z8AAAAAAMDlPwAAAAAA4OQ/AAAAAABA5D8AAAAAACDlPwAAAAAAIOQ/fChSvYci5T8AAAAAAGDkPwAAAAAAwOQ/AAAAAABg5D8AAAAAAEDlPwAAAAAAgOQ/AAAAAADA4z8AAAAAACDlPwAAAAAAgOM/AAAAAABA5j8AAAAAAIDkPwAAAAAAYOU/AAAAAADg5T8AAAAAAADlPwAAAAAAAOU/AAAAAACA5D8AAAAAAIDkPwAAAAAAgOQ/AAAAAAAA5D8AAAAAAGDlPwAAAAAAQOU/AAAAAACA5z8AAAAAACDkPwAAAAAAIOU/AAAAAADg5D8AAAAAACDkPwAAAAAAwOQ/AAAAAACg5T8AAAAAAEDlPwAAAAAAwOU/AAAAAADA4z8AAAAAAGDnP5IDSyc5sOQ/AAAAAAAg5j8AAAAAAADmPwAAAAAAoOU/AAAAAABA5T8AAAAAAKDlPwAAAAAAoOU/AAAAAAAA5z8AAAAAAGDnPwAAAAAAIOY/AAAAAACg5T8AAAAAACDmPwAAAAAAoOU/AAAAAACA5j8AAAAAACDlPwAAAAAAYOY/AAAAAAAA5j8AAAAAAEDmPwAAAAAAQOc/AAAAAAAA5z8AAAAAAIDmPwAAAAAAYOY/AAAAAACg5j8AAAAAAMDkPwAAAAAAoOU/AAAAAAAA5j8AAAAAAMDlPwAAAAAAoOQ/AAAAAAAA5D8AAAAAAODkPwAAAAAA4OU/AAAAAACg5j8filTvoUjlPwAAAAAAIOY/AAAAAAAA5D8AAAAAAMDkPwAAAAAAIOU/AAAAAABA5j8AAAAAACDmPwAAAAAAAOc/AAAAAACg5D8AAAAAAGDlPwAAAAAAoOc/AAAAAADA5D8AAAAAAKDmPwAAAAAAgOY/AAAAAACg5T8AAAAAAMDnPwAAAAAA4OM/AAAAAABA5D8AAAAAAGDlPwAAAAAAYOY/AAAAAAAg5j8AAAAAAADmPwAAAAAAAOY/AAAAAABA5j8AAAAAAIDmPwAAAAAAwOY/AAAAAACg5j8AAAAAAADoPwAAAAAA4OY/AAAAAAAg5T8AAAAAAGDnPwAAAAAAIOY/9AV9QV/Q5z8AAAAAAMDmPwAAAAAAwOY/AAAAAADg5j8AAAAAAEDnPwAAAAAAQOc/AAAAAAAA5z8AAAAAAKDmPwAAAAAAYOU/AAAAAADg4z8AAAAAAKDlPwAAAAAAQOY/AAAAAACg5j8AAAAAAKDlPwAAAAAAoOY/AAAAAABg5T8AAAAAAADmPwAAAAAAAOc/AAAAAADA5T8AAAAAAODlPwAAAAAAQOY/AAAAAADg5T8AAAAAAMDlPwAAAAAA4OY/AAAAAACg5T8AAAAAACDmPwAAAAAA4OU/AAAAAACg5T8AAAAAAEDmPwAAAAAAwOc/AAAAAADA5j8AAAAAAADmP35abOOnxeY/AAAAAABA5j8AAAAAAADmPwAAAAAAwOU/AAAAAAAA5z8AAAAAAADmPwAAAAAAAOU/AAAAAACg5D8AAAAAAEDnPwAAAAAA4OU/AAAAAABA5z8AAAAAAGDlPwAAAAAAgOU/AAAAAADA5T8AAAAAAADmPwAAAAAAYOY/AAAAAACg5T8AAAAAACDoPwAAAAAAQOg/AAAAAADA5T8AAAAAAIDoPwAAAAAAQOY/AAAAAACA5j8AAAAAAODlPwAAAAAAgOc/AAAAAABg5T8AAAAAACDnPwAAAAAAIOU/AAAAAAAg5j8AAAAAAODmPwAAAAAAwOc/AAAAAABA5j84l2d/c3nmPwAAAAAAYOc/AAAAAADg5T8AAAAAAKDnPwAAAAAAQOc/AAAAAADg5D8AAAAAAMDlPwAAAAAAIOU/AAAAAADg5j8AAAAAAGDnPwAAAAAAIOY/AAAAAABA5j8AAAAAAGDmPwAAAAAAYOY/AAAAAADg5T8AAAAAAADnPwAAAAAAgOY/AAAAAAAg5j8AAAAAAMDmPwAAAAAAAOY/AAAAAACg5T8AAAAAACDnPwAAAAAAQOc/AAAAAAAA5j8AAAAAAMDlPwAAAAAAgOY/AAAAAACg5T8AAAAAACDnPwAAAAAAgOU/AAAAAADA5j8AAAAAAODmPwAAAAAAoOY/ZU1ZU9aU5T8AAAAAAIDmPwAAAAAAQOk/AAAAAACA5j8AAAAAAGDlPwAAAAAAgOU/AAAAAACg5T8AAAAAAMDmPwAAAAAAIOY/AAAAAAAA5z8AAAAAAEDnPwAAAAAAwOU/AAAAAABg6D8AAAAAAIDmPwAAAAAAoOY/AAAAAACg6D8AAAAAAODlPwAAAAAA4OU/AAAAAACg5T8AAAAAAEDmPwAAAAAAoOY/AAAAAABA5j8AAAAAAADnPwAAAAAAQOY/AAAAAADA5j8AAAAAACDnPwAAAAAAoOc/AAAAAABg5z8AAAAAAIDnPwAAAAAAoOU/AAAAAABA5z8AAAAAAADnP6sQXrcK4eU/AAAAAADg5T8AAAAAAODnPwAAAAAAYOY/AAAAAADg5T8AAAAAAMDmPwAAAAAAoOg/AAAAAABg6D8AAAAAAADnPwAAAAAAAOc/AAAAAABg5j8AAAAAAODoPwAAAAAAIOc/AAAAAADg5D8AAAAAAGDnPwAAAAAAYOc/AAAAAAAg5z8AAAAAACDmPwAAAAAAgOc/AAAAAABg5z8AAAAAAADnPwAAAAAAoOY/AAAAAAAA5j8AAAAAAGDoPwAAAAAAgOc/AAAAAACA5T8AAAAAAADoPwAAAAAAoOc/AAAAAACg5z8AAAAAACDmPwAAAAAAIOU/AAAAAACA5T/b+GmxjZ/mPwAAAAAAoOY/AAAAAACg5T8AAAAAAKDmPwAAAAAAQOg/AAAAAAAA6D8AAAAAAGDmPwAAAAAA4OY/AAAAAABg5z8AAAAAAODlPwAAAAAA4Oc/AAAAAAAg5j8AAAAAAMDnPwAAAAAAQOg/AAAAAACA5j8AAAAAAEDnPwAAAAAA4OY/AAAAAADg5j8AAAAAAIDoPwAAAAAAYOY/AAAAAABg5z8AAAAAAODnPwAAAAAAQOc/AAAAAACg6D8AAAAAAEDmPwAAAAAAYOc/AAAAAABg6D8AAAAAAIDmPwAAAAAAgOg/AAAAAACA6D8AAAAAAKDnPwAAAAAAwOc/flps46fF5j8AAAAAAODmPwAAAAAAgOc/AAAAAACg5z8AAAAAAGDoPwAAAAAAgOg/AAAAAADA6D8AAAAAAIDnPwAAAAAAoOc/AAAAAAAA5z8AAAAAAMDoPwAAAAAAgOU/AAAAAADA5j8AAAAAAEDmPwAAAAAAQOc/AAAAAABg5j8AAAAAAADpPwAAAAAA4OY/AAAAAADg5z8AAAAAAMDmPwAAAAAAIOc/AAAAAAAA6D8AAAAAAODnPwAAAAAAgOc/AAAAAAAA6j8AAAAAAODmPwAAAAAAAOg/AAAAAAAg6D8AAAAAAKDoPwAAAAAAwOg/AAAAAAAA6T8AAAAAAODnP1Gkeg9Fquc/AAAAAAAg5z8AAAAAAEDnPwAAAAAAAOc/AAAAAAAA6D8AAAAAAODoPwAAAAAAYOY/AAAAAAAA5z8AAAAAAODmPwAAAAAAQOc/AAAAAADg5z8AAAAAAGDpPwAAAAAAQOc/AAAAAACA5z8AAAAAACDpPwAAAAAAoOg/AAAAAADg5j8AAAAAAODmPwAAAAAAYOg/AAAAAABA5z8AAAAAAKDpPwAAAAAAAOg/AAAAAAAg5z8AAAAAACDpPwAAAAAAAOg/AAAAAADA5j8AAAAAAIDoPwAAAAAA4Og/AAAAAADg5T8AAAAAAKDnPwAAAAAAQOg/AAAAAADA5z9qsY2fFtvoPwAAAAAAYOg/AAAAAACA6D8AAAAAAGDnPwAAAAAAIOg/AAAAAAAg5z8AAAAAAKDnPwAAAAAAYOc/AAAAAADg6D8AAAAAAMDoPwAAAAAAoOc/AAAAAADA6D8AAAAAAIDnPwAAAAAAoOg/AAAAAAAg6D8AAAAAAGDnPwAAAAAA4OY/AAAAAABA6D8AAAAAAODnPwAAAAAAoOk/AAAAAACg5z8AAAAAAADnPwAAAAAAgOc/AAAAAABA5z8AAAAAAADoPwAAAAAAoOc/AAAAAADA5z8AAAAAACDnPwAAAAAAwOc/AAAAAAAA6D8AAAAAAMDoPwAAAAAAYOc/gYyGCcho6D8AAAAAAEDpPwAAAAAA4Oc/AAAAAADA5z8AAAAAAEDpPwAAAAAAoOc/AAAAAADA5T8AAAAAAIDmPwAAAAAAIOc/AAAAAACg6T8AAAAAAMDnPwAAAAAAgOk/AAAAAABA5z8AAAAAAGDnPwAAAAAAoOk/AAAAAACg5z8AAAAAAEDoPwAAAAAAwOg/AAAAAACA6D8AAAAAAGDmPwAAAAAAAOg/AAAAAAAg5z8AAAAAAIDmPwAAAAAAgOc/AAAAAACg6D8AAAAAAKDoPwAAAAAAAOg/AAAAAABA5z8AAAAAAADpPwAAAAAAwOk/AAAAAABg5z8AAAAAAKDmP4GMhgnIaOg/",
          "dtype": "f8"
         },
         "yaxis": "y"
        },
        {
         "hovertemplate": "<b>Exponentially Weighted mean trendline</b><br><br>variable=batch_accuracy<br>step=%{x}<br>value=%{y} <b>(trend)</b><extra></extra>",
         "legendgroup": "",
         "line": {
          "color": "red"
         },
         "marker": {
          "color": "#636efa",
          "symbol": "circle"
         },
         "mode": "lines",
         "name": "",
         "showlegend": false,
         "type": "scattergl",
         "x": {
          "bdata": "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",
          "dtype": "i2"
         },
         "xaxis": "x",
         "y": {
          "bdata": "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",
          "dtype": "f8"
         },
         "yaxis": "y"
        }
       ],
       "layout": {
        "annotations": [
         {
          "font": {},
          "showarrow": false,
          "text": "variable=batch_accuracy",
          "textangle": 90,
          "x": 0.98,
          "xanchor": "left",
          "xref": "paper",
          "y": 0.2425,
          "yanchor": "middle",
          "yref": "paper"
         },
         {
          "font": {},
          "showarrow": false,
          "text": "variable=batch_train_loss",
          "textangle": 90,
          "x": 0.98,
          "xanchor": "left",
          "xref": "paper",
          "y": 0.7575000000000001,
          "yanchor": "middle",
          "yref": "paper"
         }
        ],
        "legend": {
         "tracegroupgap": 0
        },
        "template": {
         "data": {
          "bar": [
           {
            "error_x": {
             "color": "#2a3f5f"
            },
            "error_y": {
             "color": "#2a3f5f"
            },
            "marker": {
             "line": {
              "color": "#E5ECF6",
              "width": 0.5
             },
             "pattern": {
              "fillmode": "overlay",
              "size": 10,
              "solidity": 0.2
             }
            },
            "type": "bar"
           }
          ],
          "barpolar": [
           {
            "marker": {
             "line": {
              "color": "#E5ECF6",
              "width": 0.5
             },
             "pattern": {
              "fillmode": "overlay",
              "size": 10,
              "solidity": 0.2
             }
            },
            "type": "barpolar"
           }
          ],
          "carpet": [
           {
            "aaxis": {
             "endlinecolor": "#2a3f5f",
             "gridcolor": "white",
             "linecolor": "white",
             "minorgridcolor": "white",
             "startlinecolor": "#2a3f5f"
            },
            "baxis": {
             "endlinecolor": "#2a3f5f",
             "gridcolor": "white",
             "linecolor": "white",
             "minorgridcolor": "white",
             "startlinecolor": "#2a3f5f"
            },
            "type": "carpet"
           }
          ],
          "choropleth": [
           {
            "colorbar": {
             "outlinewidth": 0,
             "ticks": ""
            },
            "type": "choropleth"
           }
          ],
          "contour": [
           {
            "colorbar": {
             "outlinewidth": 0,
             "ticks": ""
            },
            "colorscale": [
             [
              0,
              "#0d0887"
             ],
             [
              0.1111111111111111,
              "#46039f"
             ],
             [
              0.2222222222222222,
              "#7201a8"
             ],
             [
              0.3333333333333333,
              "#9c179e"
             ],
             [
              0.4444444444444444,
              "#bd3786"
             ],
             [
              0.5555555555555556,
              "#d8576b"
             ],
             [
              0.6666666666666666,
              "#ed7953"
             ],
             [
              0.7777777777777778,
              "#fb9f3a"
             ],
             [
              0.8888888888888888,
              "#fdca26"
             ],
             [
              1,
              "#f0f921"
             ]
            ],
            "type": "contour"
           }
          ],
          "contourcarpet": [
           {
            "colorbar": {
             "outlinewidth": 0,
             "ticks": ""
            },
            "type": "contourcarpet"
           }
          ],
          "heatmap": [
           {
            "colorbar": {
             "outlinewidth": 0,
             "ticks": ""
            },
            "colorscale": [
             [
              0,
              "#0d0887"
             ],
             [
              0.1111111111111111,
              "#46039f"
             ],
             [
              0.2222222222222222,
              "#7201a8"
             ],
             [
              0.3333333333333333,
              "#9c179e"
             ],
             [
              0.4444444444444444,
              "#bd3786"
             ],
             [
              0.5555555555555556,
              "#d8576b"
             ],
             [
              0.6666666666666666,
              "#ed7953"
             ],
             [
              0.7777777777777778,
              "#fb9f3a"
             ],
             [
              0.8888888888888888,
              "#fdca26"
             ],
             [
              1,
              "#f0f921"
             ]
            ],
            "type": "heatmap"
           }
          ],
          "histogram": [
           {
            "marker": {
             "pattern": {
              "fillmode": "overlay",
              "size": 10,
              "solidity": 0.2
             }
            },
            "type": "histogram"
           }
          ],
          "histogram2d": [
           {
            "colorbar": {
             "outlinewidth": 0,
             "ticks": ""
            },
            "colorscale": [
             [
              0,
              "#0d0887"
             ],
             [
              0.1111111111111111,
              "#46039f"
             ],
             [
              0.2222222222222222,
              "#7201a8"
             ],
             [
              0.3333333333333333,
              "#9c179e"
             ],
             [
              0.4444444444444444,
              "#bd3786"
             ],
             [
              0.5555555555555556,
              "#d8576b"
             ],
             [
              0.6666666666666666,
              "#ed7953"
             ],
             [
              0.7777777777777778,
              "#fb9f3a"
             ],
             [
              0.8888888888888888,
              "#fdca26"
             ],
             [
              1,
              "#f0f921"
             ]
            ],
            "type": "histogram2d"
           }
          ],
          "histogram2dcontour": [
           {
            "colorbar": {
             "outlinewidth": 0,
             "ticks": ""
            },
            "colorscale": [
             [
              0,
              "#0d0887"
             ],
             [
              0.1111111111111111,
              "#46039f"
             ],
             [
              0.2222222222222222,
              "#7201a8"
             ],
             [
              0.3333333333333333,
              "#9c179e"
             ],
             [
              0.4444444444444444,
              "#bd3786"
             ],
             [
              0.5555555555555556,
              "#d8576b"
             ],
             [
              0.6666666666666666,
              "#ed7953"
             ],
             [
              0.7777777777777778,
              "#fb9f3a"
             ],
             [
              0.8888888888888888,
              "#fdca26"
             ],
             [
              1,
              "#f0f921"
             ]
            ],
            "type": "histogram2dcontour"
           }
          ],
          "mesh3d": [
           {
            "colorbar": {
             "outlinewidth": 0,
             "ticks": ""
            },
            "type": "mesh3d"
           }
          ],
          "parcoords": [
           {
            "line": {
             "colorbar": {
              "outlinewidth": 0,
              "ticks": ""
             }
            },
            "type": "parcoords"
           }
          ],
          "pie": [
           {
            "automargin": true,
            "type": "pie"
           }
          ],
          "scatter": [
           {
            "fillpattern": {
             "fillmode": "overlay",
             "size": 10,
             "solidity": 0.2
            },
            "type": "scatter"
           }
          ],
          "scatter3d": [
           {
            "line": {
             "colorbar": {
              "outlinewidth": 0,
              "ticks": ""
             }
            },
            "marker": {
             "colorbar": {
              "outlinewidth": 0,
              "ticks": ""
             }
            },
            "type": "scatter3d"
           }
          ],
          "scattercarpet": [
           {
            "marker": {
             "colorbar": {
              "outlinewidth": 0,
              "ticks": ""
             }
            },
            "type": "scattercarpet"
           }
          ],
          "scattergeo": [
           {
            "marker": {
             "colorbar": {
              "outlinewidth": 0,
              "ticks": ""
             }
            },
            "type": "scattergeo"
           }
          ],
          "scattergl": [
           {
            "marker": {
             "colorbar": {
              "outlinewidth": 0,
              "ticks": ""
             }
            },
            "type": "scattergl"
           }
          ],
          "scattermap": [
           {
            "marker": {
             "colorbar": {
              "outlinewidth": 0,
              "ticks": ""
             }
            },
            "type": "scattermap"
           }
          ],
          "scattermapbox": [
           {
            "marker": {
             "colorbar": {
              "outlinewidth": 0,
              "ticks": ""
             }
            },
            "type": "scattermapbox"
           }
          ],
          "scatterpolar": [
           {
            "marker": {
             "colorbar": {
              "outlinewidth": 0,
              "ticks": ""
             }
            },
            "type": "scatterpolar"
           }
          ],
          "scatterpolargl": [
           {
            "marker": {
             "colorbar": {
              "outlinewidth": 0,
              "ticks": ""
             }
            },
            "type": "scatterpolargl"
           }
          ],
          "scatterternary": [
           {
            "marker": {
             "colorbar": {
              "outlinewidth": 0,
              "ticks": ""
             }
            },
            "type": "scatterternary"
           }
          ],
          "surface": [
           {
            "colorbar": {
             "outlinewidth": 0,
             "ticks": ""
            },
            "colorscale": [
             [
              0,
              "#0d0887"
             ],
             [
              0.1111111111111111,
              "#46039f"
             ],
             [
              0.2222222222222222,
              "#7201a8"
             ],
             [
              0.3333333333333333,
              "#9c179e"
             ],
             [
              0.4444444444444444,
              "#bd3786"
             ],
             [
              0.5555555555555556,
              "#d8576b"
             ],
             [
              0.6666666666666666,
              "#ed7953"
             ],
             [
              0.7777777777777778,
              "#fb9f3a"
             ],
             [
              0.8888888888888888,
              "#fdca26"
             ],
             [
              1,
              "#f0f921"
             ]
            ],
            "type": "surface"
           }
          ],
          "table": [
           {
            "cells": {
             "fill": {
              "color": "#EBF0F8"
             },
             "line": {
              "color": "white"
             }
            },
            "header": {
             "fill": {
              "color": "#C8D4E3"
             },
             "line": {
              "color": "white"
             }
            },
            "type": "table"
           }
          ]
         },
         "layout": {
          "annotationdefaults": {
           "arrowcolor": "#2a3f5f",
           "arrowhead": 0,
           "arrowwidth": 1
          },
          "autotypenumbers": "strict",
          "coloraxis": {
           "colorbar": {
            "outlinewidth": 0,
            "ticks": ""
           }
          },
          "colorscale": {
           "diverging": [
            [
             0,
             "#8e0152"
            ],
            [
             0.1,
             "#c51b7d"
            ],
            [
             0.2,
             "#de77ae"
            ],
            [
             0.3,
             "#f1b6da"
            ],
            [
             0.4,
             "#fde0ef"
            ],
            [
             0.5,
             "#f7f7f7"
            ],
            [
             0.6,
             "#e6f5d0"
            ],
            [
             0.7,
             "#b8e186"
            ],
            [
             0.8,
             "#7fbc41"
            ],
            [
             0.9,
             "#4d9221"
            ],
            [
             1,
             "#276419"
            ]
           ],
           "sequential": [
            [
             0,
             "#0d0887"
            ],
            [
             0.1111111111111111,
             "#46039f"
            ],
            [
             0.2222222222222222,
             "#7201a8"
            ],
            [
             0.3333333333333333,
             "#9c179e"
            ],
            [
             0.4444444444444444,
             "#bd3786"
            ],
            [
             0.5555555555555556,
             "#d8576b"
            ],
            [
             0.6666666666666666,
             "#ed7953"
            ],
            [
             0.7777777777777778,
             "#fb9f3a"
            ],
            [
             0.8888888888888888,
             "#fdca26"
            ],
            [
             1,
             "#f0f921"
            ]
           ],
           "sequentialminus": [
            [
             0,
             "#0d0887"
            ],
            [
             0.1111111111111111,
             "#46039f"
            ],
            [
             0.2222222222222222,
             "#7201a8"
            ],
            [
             0.3333333333333333,
             "#9c179e"
            ],
            [
             0.4444444444444444,
             "#bd3786"
            ],
            [
             0.5555555555555556,
             "#d8576b"
            ],
            [
             0.6666666666666666,
             "#ed7953"
            ],
            [
             0.7777777777777778,
             "#fb9f3a"
            ],
            [
             0.8888888888888888,
             "#fdca26"
            ],
            [
             1,
             "#f0f921"
            ]
           ]
          },
          "colorway": [
           "#636efa",
           "#EF553B",
           "#00cc96",
           "#ab63fa",
           "#FFA15A",
           "#19d3f3",
           "#FF6692",
           "#B6E880",
           "#FF97FF",
           "#FECB52"
          ],
          "font": {
           "color": "#2a3f5f"
          },
          "geo": {
           "bgcolor": "white",
           "lakecolor": "white",
           "landcolor": "#E5ECF6",
           "showlakes": true,
           "showland": true,
           "subunitcolor": "white"
          },
          "hoverlabel": {
           "align": "left"
          },
          "hovermode": "closest",
          "mapbox": {
           "style": "light"
          },
          "paper_bgcolor": "white",
          "plot_bgcolor": "#E5ECF6",
          "polar": {
           "angularaxis": {
            "gridcolor": "white",
            "linecolor": "white",
            "ticks": ""
           },
           "bgcolor": "#E5ECF6",
           "radialaxis": {
            "gridcolor": "white",
            "linecolor": "white",
            "ticks": ""
           }
          },
          "scene": {
           "xaxis": {
            "backgroundcolor": "#E5ECF6",
            "gridcolor": "white",
            "gridwidth": 2,
            "linecolor": "white",
            "showbackground": true,
            "ticks": "",
            "zerolinecolor": "white"
           },
           "yaxis": {
            "backgroundcolor": "#E5ECF6",
            "gridcolor": "white",
            "gridwidth": 2,
            "linecolor": "white",
            "showbackground": true,
            "ticks": "",
            "zerolinecolor": "white"
           },
           "zaxis": {
            "backgroundcolor": "#E5ECF6",
            "gridcolor": "white",
            "gridwidth": 2,
            "linecolor": "white",
            "showbackground": true,
            "ticks": "",
            "zerolinecolor": "white"
           }
          },
          "shapedefaults": {
           "line": {
            "color": "#2a3f5f"
           }
          },
          "ternary": {
           "aaxis": {
            "gridcolor": "white",
            "linecolor": "white",
            "ticks": ""
           },
           "baxis": {
            "gridcolor": "white",
            "linecolor": "white",
            "ticks": ""
           },
           "bgcolor": "#E5ECF6",
           "caxis": {
            "gridcolor": "white",
            "linecolor": "white",
            "ticks": ""
           }
          },
          "title": {
           "x": 0.05
          },
          "xaxis": {
           "automargin": true,
           "gridcolor": "white",
           "linecolor": "white",
           "ticks": "",
           "title": {
            "standoff": 15
           },
           "zerolinecolor": "white",
           "zerolinewidth": 2
          },
          "yaxis": {
           "automargin": true,
           "gridcolor": "white",
           "linecolor": "white",
           "ticks": "",
           "title": {
            "standoff": 15
           },
           "zerolinecolor": "white",
           "zerolinewidth": 2
          }
         }
        },
        "title": {
         "text": "batch metrics"
        },
        "xaxis": {
         "anchor": "y",
         "domain": [
          0,
          0.98
         ],
         "title": {
          "text": "step"
         }
        },
        "xaxis2": {
         "anchor": "y2",
         "domain": [
          0,
          0.98
         ],
         "matches": "x",
         "showticklabels": false
        },
        "yaxis": {
         "anchor": "x",
         "domain": [
          0,
          0.485
         ],
         "title": {
          "text": "value"
         }
        },
        "yaxis2": {
         "anchor": "x2",
         "domain": [
          0.515,
          1
         ],
         "title": {
          "text": "value"
         }
        }
       }
      }
     },
     "metadata": {},
     "output_type": "display_data"
    }
   ],
   "source": [
    "full_dataset = CMIDataset(\"full_dataset\")\n",
    "full_dataset_loader = DL(full_dataset, BATCH_SIZE, shuffle=True)\n",
    "model, full_train_metrics, checkpoints = mk_model_and_fit(full_dataset_loader)\n",
    "plt_train_split_training_metrics(full_train_metrics)"
   ]
  },
  {
   "cell_type": "markdown",
   "id": "f0081b6e",
   "metadata": {},
   "source": [
    "## Model upload"
   ]
  },
  {
   "cell_type": "code",
   "execution_count": null,
   "id": "87578050",
   "metadata": {},
   "outputs": [
    {
     "ename": "UnauthenticatedError",
     "evalue": "User is not authenticated",
     "output_type": "error",
     "traceback": [
      "\u001b[31m---------------------------------------------------------------------------\u001b[39m",
      "\u001b[31mUnauthenticatedError\u001b[39m                      Traceback (most recent call last)",
      "\u001b[36mCell\u001b[39m\u001b[36m \u001b[39m\u001b[32mIn[17]\u001b[39m\u001b[32m, line 1\u001b[39m\n\u001b[32m----> \u001b[39m\u001b[32m1\u001b[39m handle = \u001b[33mf\u001b[39m\u001b[33m\"\u001b[39m\u001b[38;5;132;01m{\u001b[39;00m\u001b[43mkagglehub\u001b[49m\u001b[43m.\u001b[49m\u001b[43mwhoami\u001b[49m\u001b[43m(\u001b[49m\u001b[43m)\u001b[49m[\u001b[33m'\u001b[39m\u001b[33musername\u001b[39m\u001b[33m'\u001b[39m]\u001b[38;5;132;01m}\u001b[39;00m\u001b[33m/cmi-resnet/pyTorch/\u001b[39m\u001b[38;5;132;01m{\u001b[39;00mmk_date_now_str().replace(\u001b[33m'\u001b[39m\u001b[33m_\u001b[39m\u001b[33m'\u001b[39m,\u001b[38;5;250m \u001b[39m\u001b[33m'\u001b[39m\u001b[33m-\u001b[39m\u001b[33m'\u001b[39m)\u001b[38;5;132;01m}\u001b[39;00m\u001b[33m\"\u001b[39m\n\u001b[32m      2\u001b[39m model_path = realpath(join(checkpoints))\n\u001b[32m      3\u001b[39m display(model_path)\n",
      "\u001b[36mFile \u001b[39m\u001b[32m/venv/CMI/lib/python3.11/site-packages/kagglehub/auth.py:158\u001b[39m, in \u001b[36mwhoami\u001b[39m\u001b[34m(verbose)\u001b[39m\n\u001b[32m    156\u001b[39m api_client = KaggleApiV1Client()\n\u001b[32m    157\u001b[39m \u001b[38;5;28;01mif\u001b[39;00m \u001b[38;5;129;01mnot\u001b[39;00m api_client.has_credentials():\n\u001b[32m--> \u001b[39m\u001b[32m158\u001b[39m     \u001b[38;5;28;01mraise\u001b[39;00m UnauthenticatedError()\n\u001b[32m    159\u001b[39m \u001b[38;5;28;01mtry\u001b[39;00m:\n\u001b[32m    160\u001b[39m     username = _validate_credentials_helper(verbose=verbose)\n",
      "\u001b[31mUnauthenticatedError\u001b[39m: User is not authenticated"
     ]
    }
   ],
   "source": [
    "handle = f\"{kagglehub.whoami()['username']}/cmi-resnet/pyTorch/{mk_date_now_str().replace('_', '-')}\"\n",
    "model_path = realpath(join(checkpoints))\n",
    "display(model_path)\n",
    "kagglehub.model_upload(handle, model_path)"
   ]
  }
 ],
 "metadata": {
  "kernelspec": {
   "display_name": "Python 3",
   "language": "python",
   "name": "python3"
  },
  "language_info": {
   "codemirror_mode": {
    "name": "ipython",
    "version": 3
   },
   "file_extension": ".py",
   "mimetype": "text/x-python",
   "name": "python",
   "nbconvert_exporter": "python",
   "pygments_lexer": "ipython3",
   "version": "3.11.5"
  }
 },
 "nbformat": 4,
 "nbformat_minor": 5
}
