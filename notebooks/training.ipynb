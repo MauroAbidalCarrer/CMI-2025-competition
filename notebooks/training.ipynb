{
 "cells": [
  {
   "cell_type": "markdown",
   "id": "53d41434",
   "metadata": {},
   "source": [
    "# Training model\n",
    "The goal of this notebook is to train a model and upload it to kaggle."
   ]
  },
  {
   "cell_type": "markdown",
   "id": "dc4c23f0",
   "metadata": {},
   "source": [
    "## Imports"
   ]
  },
  {
   "cell_type": "code",
   "execution_count": 71,
   "id": "66f429fe",
   "metadata": {},
   "outputs": [],
   "source": [
    "from os.path import join\n",
    "from typing import Optional\n",
    "\n",
    "import torch\n",
    "import numpy as np\n",
    "from torch import nn, Tensor\n",
    "from kagglehub import dataset_download\n",
    "from torch.utils.data import Dataset, DataLoader"
   ]
  },
  {
   "cell_type": "code",
   "execution_count": 72,
   "id": "e46c3b4e",
   "metadata": {},
   "outputs": [],
   "source": [
    "# TODO: Switch to TensorDataset w/ cross validation splits\n",
    "class CMIDataset(Dataset):\n",
    "    def __init__(self, use_agg_tof:bool, subset:Optional[int]=None, force_download=False):\n",
    "        super().__init__()\n",
    "        dataset_path = dataset_download(\"mauroabidalcarrer/prepocessed-cmi-2025\", force_download=force_download)\n",
    "        x_path  = join(dataset_path, \"tof_meaned_X.npy\" if use_agg_tof else \"X.npy\")\n",
    "        self.x = np.load(x_path, mmap_mode=\"r\").swapaxes(1, 2)\n",
    "        self.y = np.load(join(dataset_path, \"Y.npy\"), mmap_mode=\"r\")\n",
    "        if subset is not None:\n",
    "            self.x = self.x[:subset]\n",
    "            self.y = self.y[:subset]\n",
    "\n",
    "    def __len__(self):\n",
    "        return len(self.x)\n",
    "\n",
    "    def __getitem__(self, idx):\n",
    "        return self.x[idx].copy(), self.y[idx].copy()\n",
    "    \n",
    "dataset = CMIDataset(use_agg_tof=True)\n",
    "data_loader = DataLoader(dataset, 256, shuffle=True)"
   ]
  },
  {
   "cell_type": "code",
   "execution_count": 73,
   "id": "5ecc32a1",
   "metadata": {},
   "outputs": [],
   "source": [
    "from itertools import pairwise\n",
    "\n",
    "class ResidualBlock(nn.Module):\n",
    "    def __init__(self, in_chns:int, out_chns:int):\n",
    "        super().__init__()\n",
    "        self.blocks = nn.Sequential(\n",
    "            nn.Conv1d(in_chns, out_chns, kernel_size=3, padding=1),\n",
    "            nn.BatchNorm1d(out_chns),\n",
    "            nn.ReLU(),\n",
    "            nn.Conv1d(out_chns, out_chns, kernel_size=3, padding=1),\n",
    "            nn.BatchNorm1d(out_chns),\n",
    "        )\n",
    "        if in_chns == out_chns:\n",
    "            self.skip_connection = nn.Identity() \n",
    "        else:\n",
    "            # TODO: set bias to False ?\n",
    "            self.skip_connection = nn.Sequential(\n",
    "                nn.Conv1d(in_chns, out_chns, 1),\n",
    "                nn.BatchNorm1d(out_chns)\n",
    "            )\n",
    "\n",
    "    def forward(self, x:Tensor) -> Tensor:\n",
    "        activaition_maps = self.skip_connection(x) + self.blocks(x)\n",
    "        return nn.functional.relu(activaition_maps)\n",
    "\n",
    "class Resnet(nn.Module):\n",
    "    def __init__(\n",
    "            self,\n",
    "            in_channels:int,\n",
    "            depth:int,\n",
    "            # n_res_block_per_depth:int,\n",
    "            mlp_width:int,\n",
    "            n_class:int,\n",
    "        ):\n",
    "        super().__init__()\n",
    "        chs_per_depth = [in_channels * 2 ** i for i in range(depth)]\n",
    "        blocks_chns_it = pairwise(chs_per_depth)\n",
    "        self.res_blocks = [ResidualBlock(in_chns, out_chns) for in_chns, out_chns in blocks_chns_it]\n",
    "        self.res_blocks = nn.ModuleList(self.res_blocks)\n",
    "        self.mlp_head = nn.Sequential(\n",
    "            nn.LazyLinear(mlp_width),\n",
    "            nn.ReLU(),\n",
    "            nn.Linear(mlp_width, n_class),\n",
    "            nn.Softmax(dim=1),\n",
    "        )\n",
    "        \n",
    "        \n",
    "    def forward(self, x:Tensor) -> Tensor:\n",
    "        activation_maps = x\n",
    "        for res_block in self.res_blocks:\n",
    "            activation_maps = nn.functional.max_pool1d(res_block(activation_maps), 2)\n",
    "        out = activation_maps.view(activation_maps.shape[0], -1)\n",
    "        out = self.mlp_head(out)\n",
    "        return out\n",
    "\n",
    "model = Resnet(17, 4, 256, 18)"
   ]
  },
  {
   "cell_type": "code",
   "execution_count": 74,
   "id": "7cc879eb",
   "metadata": {},
   "outputs": [],
   "source": [
    "import os\n",
    "from datetime import datetime\n",
    "\n",
    "import torch\n",
    "from torch import nn\n",
    "import plotly.express as px\n",
    "from rich.progress import Progress, Task, track\n",
    "from pandas import DataFrame as DF\n",
    "from torch.utils.data import DataLoader as DL\n",
    "from torch.optim.lr_scheduler import LRScheduler\n",
    "\n",
    "\n",
    "def fit(epochs:int,\n",
    "        model: nn.Module,\n",
    "        scheduler: LRScheduler,\n",
    "        optimizer: torch.optim.Optimizer,\n",
    "        train_loader: DL,\n",
    "        criterion: callable=nn.L1Loss(),\n",
    "        evaluation_func: callable=None,\n",
    "        validation_loader: DL=None,\n",
    "        save_checkpoints=True,\n",
    "    ) -> DF:\n",
    "    # Setup\n",
    "    metrics: list[dict] = []\n",
    "    checkpoints_dir = os.path.join(\"checkpoints\", mk_date_now_str())\n",
    "    step = 0\n",
    "    model_device = next(model.parameters()).device\n",
    "    # Training loop\n",
    "    with Progress() as progress:\n",
    "        task: Task = progress.add_task(\n",
    "            \"training...\",\n",
    "            # f\"epoch: {epoch + 1}, batch_loss: ...\",\n",
    "            total=len(train_loader),\n",
    "        )\n",
    "        for epoch in range(epochs):\n",
    "            progress.update(\n",
    "                task,\n",
    "                description=f\"epoch: {epoch}\",\n",
    "                completed=0,\n",
    "            )\n",
    "            total_epoch_loss = 0\n",
    "            nb_samples = 0\n",
    "            for batch_idx, (x, y) in enumerate(train_loader):\n",
    "                # forward\n",
    "                x = x.to(model_device)\n",
    "                y = y.to(model_device)\n",
    "                nb_samples += len(x)\n",
    "                model.train()\n",
    "                optimizer.zero_grad()\n",
    "                y_pred = model(x)\n",
    "                loss_value = criterion(y_pred, y)\n",
    "                # Verify loss value\n",
    "                if torch.isnan(loss_value).any().item():\n",
    "                    progress.print(\"Warning: Got NaN loss, something went wrong.\")\n",
    "                    return DF.from_records(metrics) \n",
    "                if torch.isinf(loss_value).any().item():\n",
    "                    progress.print(\"Warning: Got infinite loss, something went wrong.\")\n",
    "                    return DF.from_records(metrics) \n",
    "                # TODO: Use gradient clipping?\n",
    "                loss_value.backward()\n",
    "                optimizer.step()\n",
    "                if step > 0: # If it's not the first training step\n",
    "                    # Call the scheduler step method, idk why it throws an error otherwise\n",
    "                    scheduler.step()\n",
    "                # metrics\n",
    "                total_epoch_loss += loss_value.item()\n",
    "                metrics.append({\n",
    "                    \"step\": step,\n",
    "                    \"epoch\": epoch,\n",
    "                    \"batch_train_loss\": loss_value.item(),\n",
    "                    \"lr\": optimizer.state_dict()[\"param_groups\"][-1][\"lr\"],\n",
    "                })\n",
    "                step += 1\n",
    "                progress.update(\n",
    "                    task,\n",
    "                    advance=1,\n",
    "                    description=f\"epoch: {epoch}, batch_loss: {(total_epoch_loss / (batch_idx+1)):.2f}\"\n",
    "                )\n",
    "        # Post epoch evalution\n",
    "        metrics[-1][\"train_epoch_loss\"] = total_epoch_loss / len(train_loader)\n",
    "        if evaluation_func:\n",
    "            eval_metrics = evaluation_func(model, criterion, validation_loader)\n",
    "            progress.print(\"validation loss:\", eval_metrics[\"validation_loss\"])\n",
    "            metrics[-1].update(eval_metrics)\n",
    "        # Save checkpoint\n",
    "        if save_checkpoints:\n",
    "            checkpoint = mk_checkpoint(epoch, model, scheduler, optimizer)\n",
    "            metrics_df = DF.from_records(metrics)\n",
    "            best_model_metric = \"validation_loss\" if \"validation_loss\" in metrics_df.columns else \"train_epoch_loss\"\n",
    "            is_best_checkpoint = (\n",
    "                DF.from_records(metrics)\n",
    "                .eval(f\"min_{best_model_metric} = {best_model_metric}.min()\")\n",
    "                .eval(f\"is_best_{best_model_metric} = {best_model_metric} == min_{best_model_metric}\")\n",
    "                .dropna(subset=f\"is_best_{best_model_metric}\")\n",
    "                .iloc[-1]\n",
    "                .loc[f\"is_best_{best_model_metric}\"]\n",
    "            )\n",
    "            save_checkpoint(checkpoint, checkpoints_dir, is_best_checkpoint)\n",
    "\n",
    "    return DF.from_records(metrics)\n",
    "\n",
    "def evaluate_model(model: torch.nn.Module, critirion:callable, validation_loader:DL) -> dict:\n",
    "    model = model.eval()\n",
    "    model_device = next(model.parameters()).device\n",
    "\n",
    "    total_test_loss = 0\n",
    "    for x, y in track(validation_loader, description=\"Evaluating...\", transient=True):\n",
    "        x = x.to(model_device)\n",
    "        y = y.to(model_device)\n",
    "        y_pred = model(x)\n",
    "        total_test_loss += critirion(y_pred, y).item()\n",
    "    total_test_loss /= len(validation_loader)\n",
    "\n",
    "    return {\"validation_loss\": total_test_loss}\n",
    "\n",
    "def mk_checkpoint(\n",
    "        epoch:int,\n",
    "        model: torch.nn.Module,\n",
    "        scheduler: LRScheduler,\n",
    "        optimizer: torch.optim.Optimizer\n",
    "    ) -> dict:\n",
    "    return {\n",
    "        \"epoch\": epoch,\n",
    "        \"model\": model.state_dict(),\n",
    "        \"optimizer\": optimizer.state_dict(),\n",
    "        \"scheduler\": scheduler.state_dict(),\n",
    "    }\n",
    "\n",
    "def save_checkpoint(checkpoint:dict, parent_dir:str, is_best_checkpoint=False):\n",
    "    # Create model name\n",
    "    checkpoint_filename = mk_date_now_str() + \".pth\"\n",
    "    # Save model\n",
    "    os.makedirs(parent_dir, exist_ok=True)\n",
    "    checkpoint_path = os.path.join(parent_dir, checkpoint_filename)\n",
    "    torch.save(checkpoint, checkpoint_path)\n",
    "    mk_symlink(checkpoint_path, os.path.join(parent_dir, \"latest_checkpoint.pth\"))\n",
    "    if is_best_checkpoint:\n",
    "        mk_symlink(checkpoint_path, os.path.join(parent_dir, \"best_checkpoint.pth\"))\n",
    "\n",
    "def mk_date_now_str() -> str:\n",
    "    return datetime.now().strftime(\"%d-%m-%Y_%H-%M\")\n",
    "\n",
    "def mk_symlink(dest:str, symlink_path:str):\n",
    "    if os.path.islink(symlink_path) or os.path.exists(symlink_path):\n",
    "        os.remove(symlink_path)\n",
    "    os.symlink(dest, symlink_path)"
   ]
  },
  {
   "cell_type": "code",
   "execution_count": 75,
   "id": "fe1e327c",
   "metadata": {},
   "outputs": [
    {
     "data": {
      "application/vnd.jupyter.widget-view+json": {
       "model_id": "70d6fc2fd6da4974a143d6ca959a0ce7",
       "version_major": 2,
       "version_minor": 0
      },
      "text/plain": [
       "Output()"
      ]
     },
     "metadata": {},
     "output_type": "display_data"
    },
    {
     "data": {
      "text/html": [
       "<pre style=\"white-space:pre;overflow-x:auto;line-height:normal;font-family:Menlo,'DejaVu Sans Mono',consolas,'Courier New',monospace\"></pre>\n"
      ],
      "text/plain": []
     },
     "metadata": {},
     "output_type": "display_data"
    }
   ],
   "source": [
    "TRAINING_EPOCHS = 60\n",
    "STARTING_LR = 0.0005\n",
    "model = Resnet(in_channels=17, depth=4, mlp_width=256, n_class=18)\n",
    "optimizer = torch.optim.AdamW(model.parameters(), STARTING_LR)\n",
    "constant_lr_scheduler = torch.optim.lr_scheduler.ConstantLR(optimizer, factor=1, total_iters=len(data_loader) * TRAINING_EPOCHS)\n",
    "training_metrics = fit(TRAINING_EPOCHS, model, constant_lr_scheduler, optimizer, data_loader, nn.CrossEntropyLoss())"
   ]
  },
  {
   "cell_type": "code",
   "execution_count": 76,
   "id": "ce2e1c7a",
   "metadata": {},
   "outputs": [
    {
     "data": {
      "text/html": [
       "<div>\n",
       "<style scoped>\n",
       "    .dataframe tbody tr th:only-of-type {\n",
       "        vertical-align: middle;\n",
       "    }\n",
       "\n",
       "    .dataframe tbody tr th {\n",
       "        vertical-align: top;\n",
       "    }\n",
       "\n",
       "    .dataframe thead th {\n",
       "        text-align: right;\n",
       "    }\n",
       "</style>\n",
       "<table border=\"1\" class=\"dataframe\">\n",
       "  <thead>\n",
       "    <tr style=\"text-align: right;\">\n",
       "      <th></th>\n",
       "      <th>step</th>\n",
       "      <th>epoch</th>\n",
       "      <th>batch_train_loss</th>\n",
       "      <th>lr</th>\n",
       "      <th>train_epoch_loss</th>\n",
       "    </tr>\n",
       "  </thead>\n",
       "  <tbody>\n",
       "    <tr>\n",
       "      <th>0</th>\n",
       "      <td>0</td>\n",
       "      <td>0</td>\n",
       "      <td>2.891094</td>\n",
       "      <td>0.0005</td>\n",
       "      <td>NaN</td>\n",
       "    </tr>\n",
       "    <tr>\n",
       "      <th>1</th>\n",
       "      <td>1</td>\n",
       "      <td>0</td>\n",
       "      <td>2.874937</td>\n",
       "      <td>0.0005</td>\n",
       "      <td>NaN</td>\n",
       "    </tr>\n",
       "    <tr>\n",
       "      <th>2</th>\n",
       "      <td>2</td>\n",
       "      <td>0</td>\n",
       "      <td>2.870658</td>\n",
       "      <td>0.0005</td>\n",
       "      <td>NaN</td>\n",
       "    </tr>\n",
       "    <tr>\n",
       "      <th>3</th>\n",
       "      <td>3</td>\n",
       "      <td>0</td>\n",
       "      <td>2.855846</td>\n",
       "      <td>0.0005</td>\n",
       "      <td>NaN</td>\n",
       "    </tr>\n",
       "    <tr>\n",
       "      <th>4</th>\n",
       "      <td>4</td>\n",
       "      <td>0</td>\n",
       "      <td>2.860808</td>\n",
       "      <td>0.0005</td>\n",
       "      <td>NaN</td>\n",
       "    </tr>\n",
       "    <tr>\n",
       "      <th>...</th>\n",
       "      <td>...</td>\n",
       "      <td>...</td>\n",
       "      <td>...</td>\n",
       "      <td>...</td>\n",
       "      <td>...</td>\n",
       "    </tr>\n",
       "    <tr>\n",
       "      <th>1915</th>\n",
       "      <td>1915</td>\n",
       "      <td>59</td>\n",
       "      <td>2.330890</td>\n",
       "      <td>0.0005</td>\n",
       "      <td>NaN</td>\n",
       "    </tr>\n",
       "    <tr>\n",
       "      <th>1916</th>\n",
       "      <td>1916</td>\n",
       "      <td>59</td>\n",
       "      <td>2.360522</td>\n",
       "      <td>0.0005</td>\n",
       "      <td>NaN</td>\n",
       "    </tr>\n",
       "    <tr>\n",
       "      <th>1917</th>\n",
       "      <td>1917</td>\n",
       "      <td>59</td>\n",
       "      <td>2.307202</td>\n",
       "      <td>0.0005</td>\n",
       "      <td>NaN</td>\n",
       "    </tr>\n",
       "    <tr>\n",
       "      <th>1918</th>\n",
       "      <td>1918</td>\n",
       "      <td>59</td>\n",
       "      <td>2.403211</td>\n",
       "      <td>0.0005</td>\n",
       "      <td>NaN</td>\n",
       "    </tr>\n",
       "    <tr>\n",
       "      <th>1919</th>\n",
       "      <td>1919</td>\n",
       "      <td>59</td>\n",
       "      <td>2.386735</td>\n",
       "      <td>0.0005</td>\n",
       "      <td>2.352086</td>\n",
       "    </tr>\n",
       "  </tbody>\n",
       "</table>\n",
       "<p>1920 rows × 5 columns</p>\n",
       "</div>"
      ],
      "text/plain": [
       "      step  epoch  batch_train_loss      lr  train_epoch_loss\n",
       "0        0      0          2.891094  0.0005               NaN\n",
       "1        1      0          2.874937  0.0005               NaN\n",
       "2        2      0          2.870658  0.0005               NaN\n",
       "3        3      0          2.855846  0.0005               NaN\n",
       "4        4      0          2.860808  0.0005               NaN\n",
       "...    ...    ...               ...     ...               ...\n",
       "1915  1915     59          2.330890  0.0005               NaN\n",
       "1916  1916     59          2.360522  0.0005               NaN\n",
       "1917  1917     59          2.307202  0.0005               NaN\n",
       "1918  1918     59          2.403211  0.0005               NaN\n",
       "1919  1919     59          2.386735  0.0005          2.352086\n",
       "\n",
       "[1920 rows x 5 columns]"
      ]
     },
     "execution_count": 76,
     "metadata": {},
     "output_type": "execute_result"
    }
   ],
   "source": [
    "training_metrics"
   ]
  },
  {
   "cell_type": "code",
   "execution_count": 78,
   "id": "4619c4fe",
   "metadata": {},
   "outputs": [
    {
     "data": {
      "application/vnd.plotly.v1+json": {
       "config": {
        "plotlyServerURL": "https://plot.ly"
       },
       "data": [
        {
         "hovertemplate": "index=%{x}<br>batch_train_loss=%{y}<extra></extra>",
         "legendgroup": "",
         "marker": {
          "color": "#636efa",
          "symbol": "circle"
         },
         "mode": "markers",
         "name": "",
         "showlegend": false,
         "type": "scattergl",
         "x": {
          "bdata": "AAABAAIAAwAEAAUABgAHAAgACQAKAAsADAANAA4ADwAQABEAEgATABQAFQAWABcAGAAZABoAGwAcAB0AHgAfACAAIQAiACMAJAAlACYAJwAoACkAKgArACwALQAuAC8AMAAxADIAMwA0ADUANgA3ADgAOQA6ADsAPAA9AD4APwBAAEEAQgBDAEQARQBGAEcASABJAEoASwBMAE0ATgBPAFAAUQBSAFMAVABVAFYAVwBYAFkAWgBbAFwAXQBeAF8AYABhAGIAYwBkAGUAZgBnAGgAaQBqAGsAbABtAG4AbwBwAHEAcgBzAHQAdQB2AHcAeAB5AHoAewB8AH0AfgB/AIAAgQCCAIMAhACFAIYAhwCIAIkAigCLAIwAjQCOAI8AkACRAJIAkwCUAJUAlgCXAJgAmQCaAJsAnACdAJ4AnwCgAKEAogCjAKQApQCmAKcAqACpAKoAqwCsAK0ArgCvALAAsQCyALMAtAC1ALYAtwC4ALkAugC7ALwAvQC+AL8AwADBAMIAwwDEAMUAxgDHAMgAyQDKAMsAzADNAM4AzwDQANEA0gDTANQA1QDWANcA2ADZANoA2wDcAN0A3gDfAOAA4QDiAOMA5ADlAOYA5wDoAOkA6gDrAOwA7QDuAO8A8ADxAPIA8wD0APUA9gD3APgA+QD6APsA/AD9AP4A/wAAAQEBAgEDAQQBBQEGAQcBCAEJAQoBCwEMAQ0BDgEPARABEQESARMBFAEVARYBFwEYARkBGgEbARwBHQEeAR8BIAEhASIBIwEkASUBJgEnASgBKQEqASsBLAEtAS4BLwEwATEBMgEzATQBNQE2ATcBOAE5AToBOwE8AT0BPgE/AUABQQFCAUMBRAFFAUYBRwFIAUkBSgFLAUwBTQFOAU8BUAFRAVIBUwFUAVUBVgFXAVgBWQFaAVsBXAFdAV4BXwFgAWEBYgFjAWQBZQFmAWcBaAFpAWoBawFsAW0BbgFvAXABcQFyAXMBdAF1AXYBdwF4AXkBegF7AXwBfQF+AX8BgAGBAYIBgwGEAYUBhgGHAYgBiQGKAYsBjAGNAY4BjwGQAZEBkgGTAZQBlQGWAZcBmAGZAZoBmwGcAZ0BngGfAaABoQGiAaMBpAGlAaYBpwGoAakBqgGrAawBrQGuAa8BsAGxAbIBswG0AbUBtgG3AbgBuQG6AbsBvAG9Ab4BvwHAAcEBwgHDAcQBxQHGAccByAHJAcoBywHMAc0BzgHPAdAB0QHSAdMB1AHVAdYB1wHYAdkB2gHbAdwB3QHeAd8B4AHhAeIB4wHkAeUB5gHnAegB6QHqAesB7AHtAe4B7wHwAfEB8gHzAfQB9QH2AfcB+AH5AfoB+wH8Af0B/gH/AQACAQICAgMCBAIFAgYCBwIIAgkCCgILAgwCDQIOAg8CEAIRAhICEwIUAhUCFgIXAhgCGQIaAhsCHAIdAh4CHwIgAiECIgIjAiQCJQImAicCKAIpAioCKwIsAi0CLgIvAjACMQIyAjMCNAI1AjYCNwI4AjkCOgI7AjwCPQI+Aj8CQAJBAkICQwJEAkUCRgJHAkgCSQJKAksCTAJNAk4CTwJQAlECUgJTAlQCVQJWAlcCWAJZAloCWwJcAl0CXgJfAmACYQJiAmMCZAJlAmYCZwJoAmkCagJrAmwCbQJuAm8CcAJxAnICcwJ0AnUCdgJ3AngCeQJ6AnsCfAJ9An4CfwKAAoECggKDAoQChQKGAocCiAKJAooCiwKMAo0CjgKPApACkQKSApMClAKVApYClwKYApkCmgKbApwCnQKeAp8CoAKhAqICowKkAqUCpgKnAqgCqQKqAqsCrAKtAq4CrwKwArECsgKzArQCtQK2ArcCuAK5AroCuwK8Ar0CvgK/AsACwQLCAsMCxALFAsYCxwLIAskCygLLAswCzQLOAs8C0ALRAtIC0wLUAtUC1gLXAtgC2QLaAtsC3ALdAt4C3wLgAuEC4gLjAuQC5QLmAucC6ALpAuoC6wLsAu0C7gLvAvAC8QLyAvMC9AL1AvYC9wL4AvkC+gL7AvwC/QL+Av8CAAMBAwIDAwMEAwUDBgMHAwgDCQMKAwsDDAMNAw4DDwMQAxEDEgMTAxQDFQMWAxcDGAMZAxoDGwMcAx0DHgMfAyADIQMiAyMDJAMlAyYDJwMoAykDKgMrAywDLQMuAy8DMAMxAzIDMwM0AzUDNgM3AzgDOQM6AzsDPAM9Az4DPwNAA0EDQgNDA0QDRQNGA0cDSANJA0oDSwNMA00DTgNPA1ADUQNSA1MDVANVA1YDVwNYA1kDWgNbA1wDXQNeA18DYANhA2IDYwNkA2UDZgNnA2gDaQNqA2sDbANtA24DbwNwA3EDcgNzA3QDdQN2A3cDeAN5A3oDewN8A30DfgN/A4ADgQOCA4MDhAOFA4YDhwOIA4kDigOLA4wDjQOOA48DkAORA5IDkwOUA5UDlgOXA5gDmQOaA5sDnAOdA54DnwOgA6EDogOjA6QDpQOmA6cDqAOpA6oDqwOsA60DrgOvA7ADsQOyA7MDtAO1A7YDtwO4A7kDugO7A7wDvQO+A78DwAPBA8IDwwPEA8UDxgPHA8gDyQPKA8sDzAPNA84DzwPQA9ED0gPTA9QD1QPWA9cD2APZA9oD2wPcA90D3gPfA+AD4QPiA+MD5APlA+YD5wPoA+kD6gPrA+wD7QPuA+8D8APxA/ID8wP0A/UD9gP3A/gD+QP6A/sD/AP9A/4D/wMABAEEAgQDBAQEBQQGBAcECAQJBAoECwQMBA0EDgQPBBAEEQQSBBMEFAQVBBYEFwQYBBkEGgQbBBwEHQQeBB8EIAQhBCIEIwQkBCUEJgQnBCgEKQQqBCsELAQtBC4ELwQwBDEEMgQzBDQENQQ2BDcEOAQ5BDoEOwQ8BD0EPgQ/BEAEQQRCBEMERARFBEYERwRIBEkESgRLBEwETQROBE8EUARRBFIEUwRUBFUEVgRXBFgEWQRaBFsEXARdBF4EXwRgBGEEYgRjBGQEZQRmBGcEaARpBGoEawRsBG0EbgRvBHAEcQRyBHMEdAR1BHYEdwR4BHkEegR7BHwEfQR+BH8EgASBBIIEgwSEBIUEhgSHBIgEiQSKBIsEjASNBI4EjwSQBJEEkgSTBJQElQSWBJcEmASZBJoEmwScBJ0EngSfBKAEoQSiBKMEpASlBKYEpwSoBKkEqgSrBKwErQSuBK8EsASxBLIEswS0BLUEtgS3BLgEuQS6BLsEvAS9BL4EvwTABMEEwgTDBMQExQTGBMcEyATJBMoEywTMBM0EzgTPBNAE0QTSBNME1ATVBNYE1wTYBNkE2gTbBNwE3QTeBN8E4AThBOIE4wTkBOUE5gTnBOgE6QTqBOsE7ATtBO4E7wTwBPEE8gTzBPQE9QT2BPcE+AT5BPoE+wT8BP0E/gT/BAAFAQUCBQMFBAUFBQYFBwUIBQkFCgULBQwFDQUOBQ8FEAURBRIFEwUUBRUFFgUXBRgFGQUaBRsFHAUdBR4FHwUgBSEFIgUjBSQFJQUmBScFKAUpBSoFKwUsBS0FLgUvBTAFMQUyBTMFNAU1BTYFNwU4BTkFOgU7BTwFPQU+BT8FQAVBBUIFQwVEBUUFRgVHBUgFSQVKBUsFTAVNBU4FTwVQBVEFUgVTBVQFVQVWBVcFWAVZBVoFWwVcBV0FXgVfBWAFYQViBWMFZAVlBWYFZwVoBWkFagVrBWwFbQVuBW8FcAVxBXIFcwV0BXUFdgV3BXgFeQV6BXsFfAV9BX4FfwWABYEFggWDBYQFhQWGBYcFiAWJBYoFiwWMBY0FjgWPBZAFkQWSBZMFlAWVBZYFlwWYBZkFmgWbBZwFnQWeBZ8FoAWhBaIFowWkBaUFpgWnBagFqQWqBasFrAWtBa4FrwWwBbEFsgWzBbQFtQW2BbcFuAW5BboFuwW8Bb0FvgW/BcAFwQXCBcMFxAXFBcYFxwXIBckFygXLBcwFzQXOBc8F0AXRBdIF0wXUBdUF1gXXBdgF2QXaBdsF3AXdBd4F3wXgBeEF4gXjBeQF5QXmBecF6AXpBeoF6wXsBe0F7gXvBfAF8QXyBfMF9AX1BfYF9wX4BfkF+gX7BfwF/QX+Bf8FAAYBBgIGAwYEBgUGBgYHBggGCQYKBgsGDAYNBg4GDwYQBhEGEgYTBhQGFQYWBhcGGAYZBhoGGwYcBh0GHgYfBiAGIQYiBiMGJAYlBiYGJwYoBikGKgYrBiwGLQYuBi8GMAYxBjIGMwY0BjUGNgY3BjgGOQY6BjsGPAY9Bj4GPwZABkEGQgZDBkQGRQZGBkcGSAZJBkoGSwZMBk0GTgZPBlAGUQZSBlMGVAZVBlYGVwZYBlkGWgZbBlwGXQZeBl8GYAZhBmIGYwZkBmUGZgZnBmgGaQZqBmsGbAZtBm4GbwZwBnEGcgZzBnQGdQZ2BncGeAZ5BnoGewZ8Bn0GfgZ/BoAGgQaCBoMGhAaFBoYGhwaIBokGigaLBowGjQaOBo8GkAaRBpIGkwaUBpUGlgaXBpgGmQaaBpsGnAadBp4GnwagBqEGogajBqQGpQamBqcGqAapBqoGqwasBq0GrgavBrAGsQayBrMGtAa1BrYGtwa4BrkGuga7BrwGvQa+Br8GwAbBBsIGwwbEBsUGxgbHBsgGyQbKBssGzAbNBs4GzwbQBtEG0gbTBtQG1QbWBtcG2AbZBtoG2wbcBt0G3gbfBuAG4QbiBuMG5AblBuYG5wboBukG6gbrBuwG7QbuBu8G8AbxBvIG8wb0BvUG9gb3BvgG+Qb6BvsG/Ab9Bv4G/wYABwEHAgcDBwQHBQcGBwcHCAcJBwoHCwcMBw0HDgcPBxAHEQcSBxMHFAcVBxYHFwcYBxkHGgcbBxwHHQceBx8HIAchByIHIwckByUHJgcnBygHKQcqBysHLActBy4HLwcwBzEHMgczBzQHNQc2BzcHOAc5BzoHOwc8Bz0HPgc/B0AHQQdCB0MHRAdFB0YHRwdIB0kHSgdLB0wHTQdOB08HUAdRB1IHUwdUB1UHVgdXB1gHWQdaB1sHXAddB14HXwdgB2EHYgdjB2QHZQdmB2cHaAdpB2oHawdsB20HbgdvB3AHcQdyB3MHdAd1B3YHdwd4B3kHegd7B3wHfQd+B38H",
          "dtype": "i2"
         },
         "xaxis": "x",
         "y": {
          "bdata": "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",
          "dtype": "f8"
         },
         "yaxis": "y"
        },
        {
         "hovertemplate": "<b>Exponentially Weighted mean trendline</b><br><br>index=%{x}<br>batch_train_loss=%{y} <b>(trend)</b><extra></extra>",
         "legendgroup": "",
         "line": {
          "color": "red"
         },
         "marker": {
          "color": "#636efa",
          "symbol": "circle"
         },
         "mode": "lines",
         "name": "",
         "showlegend": false,
         "type": "scattergl",
         "x": {
          "bdata": "AAABAAIAAwAEAAUABgAHAAgACQAKAAsADAANAA4ADwAQABEAEgATABQAFQAWABcAGAAZABoAGwAcAB0AHgAfACAAIQAiACMAJAAlACYAJwAoACkAKgArACwALQAuAC8AMAAxADIAMwA0ADUANgA3ADgAOQA6ADsAPAA9AD4APwBAAEEAQgBDAEQARQBGAEcASABJAEoASwBMAE0ATgBPAFAAUQBSAFMAVABVAFYAVwBYAFkAWgBbAFwAXQBeAF8AYABhAGIAYwBkAGUAZgBnAGgAaQBqAGsAbABtAG4AbwBwAHEAcgBzAHQAdQB2AHcAeAB5AHoAewB8AH0AfgB/AIAAgQCCAIMAhACFAIYAhwCIAIkAigCLAIwAjQCOAI8AkACRAJIAkwCUAJUAlgCXAJgAmQCaAJsAnACdAJ4AnwCgAKEAogCjAKQApQCmAKcAqACpAKoAqwCsAK0ArgCvALAAsQCyALMAtAC1ALYAtwC4ALkAugC7ALwAvQC+AL8AwADBAMIAwwDEAMUAxgDHAMgAyQDKAMsAzADNAM4AzwDQANEA0gDTANQA1QDWANcA2ADZANoA2wDcAN0A3gDfAOAA4QDiAOMA5ADlAOYA5wDoAOkA6gDrAOwA7QDuAO8A8ADxAPIA8wD0APUA9gD3APgA+QD6APsA/AD9AP4A/wAAAQEBAgEDAQQBBQEGAQcBCAEJAQoBCwEMAQ0BDgEPARABEQESARMBFAEVARYBFwEYARkBGgEbARwBHQEeAR8BIAEhASIBIwEkASUBJgEnASgBKQEqASsBLAEtAS4BLwEwATEBMgEzATQBNQE2ATcBOAE5AToBOwE8AT0BPgE/AUABQQFCAUMBRAFFAUYBRwFIAUkBSgFLAUwBTQFOAU8BUAFRAVIBUwFUAVUBVgFXAVgBWQFaAVsBXAFdAV4BXwFgAWEBYgFjAWQBZQFmAWcBaAFpAWoBawFsAW0BbgFvAXABcQFyAXMBdAF1AXYBdwF4AXkBegF7AXwBfQF+AX8BgAGBAYIBgwGEAYUBhgGHAYgBiQGKAYsBjAGNAY4BjwGQAZEBkgGTAZQBlQGWAZcBmAGZAZoBmwGcAZ0BngGfAaABoQGiAaMBpAGlAaYBpwGoAakBqgGrAawBrQGuAa8BsAGxAbIBswG0AbUBtgG3AbgBuQG6AbsBvAG9Ab4BvwHAAcEBwgHDAcQBxQHGAccByAHJAcoBywHMAc0BzgHPAdAB0QHSAdMB1AHVAdYB1wHYAdkB2gHbAdwB3QHeAd8B4AHhAeIB4wHkAeUB5gHnAegB6QHqAesB7AHtAe4B7wHwAfEB8gHzAfQB9QH2AfcB+AH5AfoB+wH8Af0B/gH/AQACAQICAgMCBAIFAgYCBwIIAgkCCgILAgwCDQIOAg8CEAIRAhICEwIUAhUCFgIXAhgCGQIaAhsCHAIdAh4CHwIgAiECIgIjAiQCJQImAicCKAIpAioCKwIsAi0CLgIvAjACMQIyAjMCNAI1AjYCNwI4AjkCOgI7AjwCPQI+Aj8CQAJBAkICQwJEAkUCRgJHAkgCSQJKAksCTAJNAk4CTwJQAlECUgJTAlQCVQJWAlcCWAJZAloCWwJcAl0CXgJfAmACYQJiAmMCZAJlAmYCZwJoAmkCagJrAmwCbQJuAm8CcAJxAnICcwJ0AnUCdgJ3AngCeQJ6AnsCfAJ9An4CfwKAAoECggKDAoQChQKGAocCiAKJAooCiwKMAo0CjgKPApACkQKSApMClAKVApYClwKYApkCmgKbApwCnQKeAp8CoAKhAqICowKkAqUCpgKnAqgCqQKqAqsCrAKtAq4CrwKwArECsgKzArQCtQK2ArcCuAK5AroCuwK8Ar0CvgK/AsACwQLCAsMCxALFAsYCxwLIAskCygLLAswCzQLOAs8C0ALRAtIC0wLUAtUC1gLXAtgC2QLaAtsC3ALdAt4C3wLgAuEC4gLjAuQC5QLmAucC6ALpAuoC6wLsAu0C7gLvAvAC8QLyAvMC9AL1AvYC9wL4AvkC+gL7AvwC/QL+Av8CAAMBAwIDAwMEAwUDBgMHAwgDCQMKAwsDDAMNAw4DDwMQAxEDEgMTAxQDFQMWAxcDGAMZAxoDGwMcAx0DHgMfAyADIQMiAyMDJAMlAyYDJwMoAykDKgMrAywDLQMuAy8DMAMxAzIDMwM0AzUDNgM3AzgDOQM6AzsDPAM9Az4DPwNAA0EDQgNDA0QDRQNGA0cDSANJA0oDSwNMA00DTgNPA1ADUQNSA1MDVANVA1YDVwNYA1kDWgNbA1wDXQNeA18DYANhA2IDYwNkA2UDZgNnA2gDaQNqA2sDbANtA24DbwNwA3EDcgNzA3QDdQN2A3cDeAN5A3oDewN8A30DfgN/A4ADgQOCA4MDhAOFA4YDhwOIA4kDigOLA4wDjQOOA48DkAORA5IDkwOUA5UDlgOXA5gDmQOaA5sDnAOdA54DnwOgA6EDogOjA6QDpQOmA6cDqAOpA6oDqwOsA60DrgOvA7ADsQOyA7MDtAO1A7YDtwO4A7kDugO7A7wDvQO+A78DwAPBA8IDwwPEA8UDxgPHA8gDyQPKA8sDzAPNA84DzwPQA9ED0gPTA9QD1QPWA9cD2APZA9oD2wPcA90D3gPfA+AD4QPiA+MD5APlA+YD5wPoA+kD6gPrA+wD7QPuA+8D8APxA/ID8wP0A/UD9gP3A/gD+QP6A/sD/AP9A/4D/wMABAEEAgQDBAQEBQQGBAcECAQJBAoECwQMBA0EDgQPBBAEEQQSBBMEFAQVBBYEFwQYBBkEGgQbBBwEHQQeBB8EIAQhBCIEIwQkBCUEJgQnBCgEKQQqBCsELAQtBC4ELwQwBDEEMgQzBDQENQQ2BDcEOAQ5BDoEOwQ8BD0EPgQ/BEAEQQRCBEMERARFBEYERwRIBEkESgRLBEwETQROBE8EUARRBFIEUwRUBFUEVgRXBFgEWQRaBFsEXARdBF4EXwRgBGEEYgRjBGQEZQRmBGcEaARpBGoEawRsBG0EbgRvBHAEcQRyBHMEdAR1BHYEdwR4BHkEegR7BHwEfQR+BH8EgASBBIIEgwSEBIUEhgSHBIgEiQSKBIsEjASNBI4EjwSQBJEEkgSTBJQElQSWBJcEmASZBJoEmwScBJ0EngSfBKAEoQSiBKMEpASlBKYEpwSoBKkEqgSrBKwErQSuBK8EsASxBLIEswS0BLUEtgS3BLgEuQS6BLsEvAS9BL4EvwTABMEEwgTDBMQExQTGBMcEyATJBMoEywTMBM0EzgTPBNAE0QTSBNME1ATVBNYE1wTYBNkE2gTbBNwE3QTeBN8E4AThBOIE4wTkBOUE5gTnBOgE6QTqBOsE7ATtBO4E7wTwBPEE8gTzBPQE9QT2BPcE+AT5BPoE+wT8BP0E/gT/BAAFAQUCBQMFBAUFBQYFBwUIBQkFCgULBQwFDQUOBQ8FEAURBRIFEwUUBRUFFgUXBRgFGQUaBRsFHAUdBR4FHwUgBSEFIgUjBSQFJQUmBScFKAUpBSoFKwUsBS0FLgUvBTAFMQUyBTMFNAU1BTYFNwU4BTkFOgU7BTwFPQU+BT8FQAVBBUIFQwVEBUUFRgVHBUgFSQVKBUsFTAVNBU4FTwVQBVEFUgVTBVQFVQVWBVcFWAVZBVoFWwVcBV0FXgVfBWAFYQViBWMFZAVlBWYFZwVoBWkFagVrBWwFbQVuBW8FcAVxBXIFcwV0BXUFdgV3BXgFeQV6BXsFfAV9BX4FfwWABYEFggWDBYQFhQWGBYcFiAWJBYoFiwWMBY0FjgWPBZAFkQWSBZMFlAWVBZYFlwWYBZkFmgWbBZwFnQWeBZ8FoAWhBaIFowWkBaUFpgWnBagFqQWqBasFrAWtBa4FrwWwBbEFsgWzBbQFtQW2BbcFuAW5BboFuwW8Bb0FvgW/BcAFwQXCBcMFxAXFBcYFxwXIBckFygXLBcwFzQXOBc8F0AXRBdIF0wXUBdUF1gXXBdgF2QXaBdsF3AXdBd4F3wXgBeEF4gXjBeQF5QXmBecF6AXpBeoF6wXsBe0F7gXvBfAF8QXyBfMF9AX1BfYF9wX4BfkF+gX7BfwF/QX+Bf8FAAYBBgIGAwYEBgUGBgYHBggGCQYKBgsGDAYNBg4GDwYQBhEGEgYTBhQGFQYWBhcGGAYZBhoGGwYcBh0GHgYfBiAGIQYiBiMGJAYlBiYGJwYoBikGKgYrBiwGLQYuBi8GMAYxBjIGMwY0BjUGNgY3BjgGOQY6BjsGPAY9Bj4GPwZABkEGQgZDBkQGRQZGBkcGSAZJBkoGSwZMBk0GTgZPBlAGUQZSBlMGVAZVBlYGVwZYBlkGWgZbBlwGXQZeBl8GYAZhBmIGYwZkBmUGZgZnBmgGaQZqBmsGbAZtBm4GbwZwBnEGcgZzBnQGdQZ2BncGeAZ5BnoGewZ8Bn0GfgZ/BoAGgQaCBoMGhAaFBoYGhwaIBokGigaLBowGjQaOBo8GkAaRBpIGkwaUBpUGlgaXBpgGmQaaBpsGnAadBp4GnwagBqEGogajBqQGpQamBqcGqAapBqoGqwasBq0GrgavBrAGsQayBrMGtAa1BrYGtwa4BrkGuga7BrwGvQa+Br8GwAbBBsIGwwbEBsUGxgbHBsgGyQbKBssGzAbNBs4GzwbQBtEG0gbTBtQG1QbWBtcG2AbZBtoG2wbcBt0G3gbfBuAG4QbiBuMG5AblBuYG5wboBukG6gbrBuwG7QbuBu8G8AbxBvIG8wb0BvUG9gb3BvgG+Qb6BvsG/Ab9Bv4G/wYABwEHAgcDBwQHBQcGBwcHCAcJBwoHCwcMBw0HDgcPBxAHEQcSBxMHFAcVBxYHFwcYBxkHGgcbBxwHHQceBx8HIAchByIHIwckByUHJgcnBygHKQcqBysHLActBy4HLwcwBzEHMgczBzQHNQc2BzcHOAc5BzoHOwc8Bz0HPgc/B0AHQQdCB0MHRAdFB0YHRwdIB0kHSgdLB0wHTQdOB08HUAdRB1IHUwdUB1UHVgdXB1gHWQdaB1sHXAddB14HXwdgB2EHYgdjB2QHZQdmB2cHaAdpB2oHawdsB20HbgdvB3AHcQdyB3MHdAd1B3YHdwd4B3kHegd7B3wHfQd+B38H",
          "dtype": "i2"
         },
         "xaxis": "x",
         "y": {
          "bdata": "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",
          "dtype": "f8"
         },
         "yaxis": "y"
        }
       ],
       "layout": {
        "legend": {
         "tracegroupgap": 0
        },
        "margin": {
         "t": 60
        },
        "template": {
         "data": {
          "bar": [
           {
            "error_x": {
             "color": "#2a3f5f"
            },
            "error_y": {
             "color": "#2a3f5f"
            },
            "marker": {
             "line": {
              "color": "#E5ECF6",
              "width": 0.5
             },
             "pattern": {
              "fillmode": "overlay",
              "size": 10,
              "solidity": 0.2
             }
            },
            "type": "bar"
           }
          ],
          "barpolar": [
           {
            "marker": {
             "line": {
              "color": "#E5ECF6",
              "width": 0.5
             },
             "pattern": {
              "fillmode": "overlay",
              "size": 10,
              "solidity": 0.2
             }
            },
            "type": "barpolar"
           }
          ],
          "carpet": [
           {
            "aaxis": {
             "endlinecolor": "#2a3f5f",
             "gridcolor": "white",
             "linecolor": "white",
             "minorgridcolor": "white",
             "startlinecolor": "#2a3f5f"
            },
            "baxis": {
             "endlinecolor": "#2a3f5f",
             "gridcolor": "white",
             "linecolor": "white",
             "minorgridcolor": "white",
             "startlinecolor": "#2a3f5f"
            },
            "type": "carpet"
           }
          ],
          "choropleth": [
           {
            "colorbar": {
             "outlinewidth": 0,
             "ticks": ""
            },
            "type": "choropleth"
           }
          ],
          "contour": [
           {
            "colorbar": {
             "outlinewidth": 0,
             "ticks": ""
            },
            "colorscale": [
             [
              0,
              "#0d0887"
             ],
             [
              0.1111111111111111,
              "#46039f"
             ],
             [
              0.2222222222222222,
              "#7201a8"
             ],
             [
              0.3333333333333333,
              "#9c179e"
             ],
             [
              0.4444444444444444,
              "#bd3786"
             ],
             [
              0.5555555555555556,
              "#d8576b"
             ],
             [
              0.6666666666666666,
              "#ed7953"
             ],
             [
              0.7777777777777778,
              "#fb9f3a"
             ],
             [
              0.8888888888888888,
              "#fdca26"
             ],
             [
              1,
              "#f0f921"
             ]
            ],
            "type": "contour"
           }
          ],
          "contourcarpet": [
           {
            "colorbar": {
             "outlinewidth": 0,
             "ticks": ""
            },
            "type": "contourcarpet"
           }
          ],
          "heatmap": [
           {
            "colorbar": {
             "outlinewidth": 0,
             "ticks": ""
            },
            "colorscale": [
             [
              0,
              "#0d0887"
             ],
             [
              0.1111111111111111,
              "#46039f"
             ],
             [
              0.2222222222222222,
              "#7201a8"
             ],
             [
              0.3333333333333333,
              "#9c179e"
             ],
             [
              0.4444444444444444,
              "#bd3786"
             ],
             [
              0.5555555555555556,
              "#d8576b"
             ],
             [
              0.6666666666666666,
              "#ed7953"
             ],
             [
              0.7777777777777778,
              "#fb9f3a"
             ],
             [
              0.8888888888888888,
              "#fdca26"
             ],
             [
              1,
              "#f0f921"
             ]
            ],
            "type": "heatmap"
           }
          ],
          "histogram": [
           {
            "marker": {
             "pattern": {
              "fillmode": "overlay",
              "size": 10,
              "solidity": 0.2
             }
            },
            "type": "histogram"
           }
          ],
          "histogram2d": [
           {
            "colorbar": {
             "outlinewidth": 0,
             "ticks": ""
            },
            "colorscale": [
             [
              0,
              "#0d0887"
             ],
             [
              0.1111111111111111,
              "#46039f"
             ],
             [
              0.2222222222222222,
              "#7201a8"
             ],
             [
              0.3333333333333333,
              "#9c179e"
             ],
             [
              0.4444444444444444,
              "#bd3786"
             ],
             [
              0.5555555555555556,
              "#d8576b"
             ],
             [
              0.6666666666666666,
              "#ed7953"
             ],
             [
              0.7777777777777778,
              "#fb9f3a"
             ],
             [
              0.8888888888888888,
              "#fdca26"
             ],
             [
              1,
              "#f0f921"
             ]
            ],
            "type": "histogram2d"
           }
          ],
          "histogram2dcontour": [
           {
            "colorbar": {
             "outlinewidth": 0,
             "ticks": ""
            },
            "colorscale": [
             [
              0,
              "#0d0887"
             ],
             [
              0.1111111111111111,
              "#46039f"
             ],
             [
              0.2222222222222222,
              "#7201a8"
             ],
             [
              0.3333333333333333,
              "#9c179e"
             ],
             [
              0.4444444444444444,
              "#bd3786"
             ],
             [
              0.5555555555555556,
              "#d8576b"
             ],
             [
              0.6666666666666666,
              "#ed7953"
             ],
             [
              0.7777777777777778,
              "#fb9f3a"
             ],
             [
              0.8888888888888888,
              "#fdca26"
             ],
             [
              1,
              "#f0f921"
             ]
            ],
            "type": "histogram2dcontour"
           }
          ],
          "mesh3d": [
           {
            "colorbar": {
             "outlinewidth": 0,
             "ticks": ""
            },
            "type": "mesh3d"
           }
          ],
          "parcoords": [
           {
            "line": {
             "colorbar": {
              "outlinewidth": 0,
              "ticks": ""
             }
            },
            "type": "parcoords"
           }
          ],
          "pie": [
           {
            "automargin": true,
            "type": "pie"
           }
          ],
          "scatter": [
           {
            "fillpattern": {
             "fillmode": "overlay",
             "size": 10,
             "solidity": 0.2
            },
            "type": "scatter"
           }
          ],
          "scatter3d": [
           {
            "line": {
             "colorbar": {
              "outlinewidth": 0,
              "ticks": ""
             }
            },
            "marker": {
             "colorbar": {
              "outlinewidth": 0,
              "ticks": ""
             }
            },
            "type": "scatter3d"
           }
          ],
          "scattercarpet": [
           {
            "marker": {
             "colorbar": {
              "outlinewidth": 0,
              "ticks": ""
             }
            },
            "type": "scattercarpet"
           }
          ],
          "scattergeo": [
           {
            "marker": {
             "colorbar": {
              "outlinewidth": 0,
              "ticks": ""
             }
            },
            "type": "scattergeo"
           }
          ],
          "scattergl": [
           {
            "marker": {
             "colorbar": {
              "outlinewidth": 0,
              "ticks": ""
             }
            },
            "type": "scattergl"
           }
          ],
          "scattermap": [
           {
            "marker": {
             "colorbar": {
              "outlinewidth": 0,
              "ticks": ""
             }
            },
            "type": "scattermap"
           }
          ],
          "scattermapbox": [
           {
            "marker": {
             "colorbar": {
              "outlinewidth": 0,
              "ticks": ""
             }
            },
            "type": "scattermapbox"
           }
          ],
          "scatterpolar": [
           {
            "marker": {
             "colorbar": {
              "outlinewidth": 0,
              "ticks": ""
             }
            },
            "type": "scatterpolar"
           }
          ],
          "scatterpolargl": [
           {
            "marker": {
             "colorbar": {
              "outlinewidth": 0,
              "ticks": ""
             }
            },
            "type": "scatterpolargl"
           }
          ],
          "scatterternary": [
           {
            "marker": {
             "colorbar": {
              "outlinewidth": 0,
              "ticks": ""
             }
            },
            "type": "scatterternary"
           }
          ],
          "surface": [
           {
            "colorbar": {
             "outlinewidth": 0,
             "ticks": ""
            },
            "colorscale": [
             [
              0,
              "#0d0887"
             ],
             [
              0.1111111111111111,
              "#46039f"
             ],
             [
              0.2222222222222222,
              "#7201a8"
             ],
             [
              0.3333333333333333,
              "#9c179e"
             ],
             [
              0.4444444444444444,
              "#bd3786"
             ],
             [
              0.5555555555555556,
              "#d8576b"
             ],
             [
              0.6666666666666666,
              "#ed7953"
             ],
             [
              0.7777777777777778,
              "#fb9f3a"
             ],
             [
              0.8888888888888888,
              "#fdca26"
             ],
             [
              1,
              "#f0f921"
             ]
            ],
            "type": "surface"
           }
          ],
          "table": [
           {
            "cells": {
             "fill": {
              "color": "#EBF0F8"
             },
             "line": {
              "color": "white"
             }
            },
            "header": {
             "fill": {
              "color": "#C8D4E3"
             },
             "line": {
              "color": "white"
             }
            },
            "type": "table"
           }
          ]
         },
         "layout": {
          "annotationdefaults": {
           "arrowcolor": "#2a3f5f",
           "arrowhead": 0,
           "arrowwidth": 1
          },
          "autotypenumbers": "strict",
          "coloraxis": {
           "colorbar": {
            "outlinewidth": 0,
            "ticks": ""
           }
          },
          "colorscale": {
           "diverging": [
            [
             0,
             "#8e0152"
            ],
            [
             0.1,
             "#c51b7d"
            ],
            [
             0.2,
             "#de77ae"
            ],
            [
             0.3,
             "#f1b6da"
            ],
            [
             0.4,
             "#fde0ef"
            ],
            [
             0.5,
             "#f7f7f7"
            ],
            [
             0.6,
             "#e6f5d0"
            ],
            [
             0.7,
             "#b8e186"
            ],
            [
             0.8,
             "#7fbc41"
            ],
            [
             0.9,
             "#4d9221"
            ],
            [
             1,
             "#276419"
            ]
           ],
           "sequential": [
            [
             0,
             "#0d0887"
            ],
            [
             0.1111111111111111,
             "#46039f"
            ],
            [
             0.2222222222222222,
             "#7201a8"
            ],
            [
             0.3333333333333333,
             "#9c179e"
            ],
            [
             0.4444444444444444,
             "#bd3786"
            ],
            [
             0.5555555555555556,
             "#d8576b"
            ],
            [
             0.6666666666666666,
             "#ed7953"
            ],
            [
             0.7777777777777778,
             "#fb9f3a"
            ],
            [
             0.8888888888888888,
             "#fdca26"
            ],
            [
             1,
             "#f0f921"
            ]
           ],
           "sequentialminus": [
            [
             0,
             "#0d0887"
            ],
            [
             0.1111111111111111,
             "#46039f"
            ],
            [
             0.2222222222222222,
             "#7201a8"
            ],
            [
             0.3333333333333333,
             "#9c179e"
            ],
            [
             0.4444444444444444,
             "#bd3786"
            ],
            [
             0.5555555555555556,
             "#d8576b"
            ],
            [
             0.6666666666666666,
             "#ed7953"
            ],
            [
             0.7777777777777778,
             "#fb9f3a"
            ],
            [
             0.8888888888888888,
             "#fdca26"
            ],
            [
             1,
             "#f0f921"
            ]
           ]
          },
          "colorway": [
           "#636efa",
           "#EF553B",
           "#00cc96",
           "#ab63fa",
           "#FFA15A",
           "#19d3f3",
           "#FF6692",
           "#B6E880",
           "#FF97FF",
           "#FECB52"
          ],
          "font": {
           "color": "#2a3f5f"
          },
          "geo": {
           "bgcolor": "white",
           "lakecolor": "white",
           "landcolor": "#E5ECF6",
           "showlakes": true,
           "showland": true,
           "subunitcolor": "white"
          },
          "hoverlabel": {
           "align": "left"
          },
          "hovermode": "closest",
          "mapbox": {
           "style": "light"
          },
          "paper_bgcolor": "white",
          "plot_bgcolor": "#E5ECF6",
          "polar": {
           "angularaxis": {
            "gridcolor": "white",
            "linecolor": "white",
            "ticks": ""
           },
           "bgcolor": "#E5ECF6",
           "radialaxis": {
            "gridcolor": "white",
            "linecolor": "white",
            "ticks": ""
           }
          },
          "scene": {
           "xaxis": {
            "backgroundcolor": "#E5ECF6",
            "gridcolor": "white",
            "gridwidth": 2,
            "linecolor": "white",
            "showbackground": true,
            "ticks": "",
            "zerolinecolor": "white"
           },
           "yaxis": {
            "backgroundcolor": "#E5ECF6",
            "gridcolor": "white",
            "gridwidth": 2,
            "linecolor": "white",
            "showbackground": true,
            "ticks": "",
            "zerolinecolor": "white"
           },
           "zaxis": {
            "backgroundcolor": "#E5ECF6",
            "gridcolor": "white",
            "gridwidth": 2,
            "linecolor": "white",
            "showbackground": true,
            "ticks": "",
            "zerolinecolor": "white"
           }
          },
          "shapedefaults": {
           "line": {
            "color": "#2a3f5f"
           }
          },
          "ternary": {
           "aaxis": {
            "gridcolor": "white",
            "linecolor": "white",
            "ticks": ""
           },
           "baxis": {
            "gridcolor": "white",
            "linecolor": "white",
            "ticks": ""
           },
           "bgcolor": "#E5ECF6",
           "caxis": {
            "gridcolor": "white",
            "linecolor": "white",
            "ticks": ""
           }
          },
          "title": {
           "x": 0.05
          },
          "xaxis": {
           "automargin": true,
           "gridcolor": "white",
           "linecolor": "white",
           "ticks": "",
           "title": {
            "standoff": 15
           },
           "zerolinecolor": "white",
           "zerolinewidth": 2
          },
          "yaxis": {
           "automargin": true,
           "gridcolor": "white",
           "linecolor": "white",
           "ticks": "",
           "title": {
            "standoff": 15
           },
           "zerolinecolor": "white",
           "zerolinewidth": 2
          }
         }
        },
        "xaxis": {
         "anchor": "y",
         "domain": [
          0,
          1
         ],
         "title": {
          "text": "index"
         }
        },
        "yaxis": {
         "anchor": "x",
         "domain": [
          0,
          1
         ],
         "title": {
          "text": "batch_train_loss"
         }
        }
       }
      }
     },
     "metadata": {},
     "output_type": "display_data"
    }
   ],
   "source": [
    "import plotly.express as px\n",
    "\n",
    "px.scatter(training_metrics, y=\"batch_train_loss\", trendline=\"ewm\", trendline_options={\"com\":60}, trendline_color_override=\"red\")"
   ]
  }
 ],
 "metadata": {
  "kernelspec": {
   "display_name": "CMI",
   "language": "python",
   "name": "python3"
  },
  "language_info": {
   "codemirror_mode": {
    "name": "ipython",
    "version": 3
   },
   "file_extension": ".py",
   "mimetype": "text/x-python",
   "name": "python",
   "nbconvert_exporter": "python",
   "pygments_lexer": "ipython3",
   "version": "3.11.5"
  }
 },
 "nbformat": 4,
 "nbformat_minor": 5
}
