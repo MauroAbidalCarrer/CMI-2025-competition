{
 "cells": [
  {
   "cell_type": "markdown",
   "id": "53d41434",
   "metadata": {},
   "source": [
    "# Training model\n",
    "The goal of this notebook is to train a model and upload it to kaggle."
   ]
  },
  {
   "cell_type": "markdown",
   "id": "696a0573",
   "metadata": {},
   "source": [
    "## Setup"
   ]
  },
  {
   "cell_type": "markdown",
   "id": "dc4c23f0",
   "metadata": {},
   "source": [
    "### Imports"
   ]
  },
  {
   "cell_type": "code",
   "execution_count": 1,
   "id": "66f429fe",
   "metadata": {},
   "outputs": [],
   "source": [
    "import os\n",
    "import json\n",
    "from glob import glob\n",
    "from datetime import datetime\n",
    "from itertools import pairwise\n",
    "from os.path import join, realpath\n",
    "from typing import Optional, Literal\n",
    "\n",
    "import torch\n",
    "import numpy as np\n",
    "import pandas as pd\n",
    "import plotly.express as px\n",
    "from torch import nn, Tensor\n",
    "from pandas import DataFrame as DF\n",
    "from torch.utils.data import TensorDataset\n",
    "from torch.utils.data import DataLoader as DL\n",
    "from rich.progress import Progress, Task, track\n",
    "from torch.optim.lr_scheduler import ConstantLR, LRScheduler\n",
    "from kagglehub import dataset_download, model_upload, whoami"
   ]
  },
  {
   "cell_type": "markdown",
   "id": "fbe9b25b",
   "metadata": {},
   "source": [
    "### Config"
   ]
  },
  {
   "cell_type": "code",
   "execution_count": null,
   "id": "82515f95",
   "metadata": {},
   "outputs": [],
   "source": [
    "TRAINING_EPOCHS = 60\n",
    "STARTING_LR = 0.0005"
   ]
  },
  {
   "cell_type": "markdown",
   "id": "0ca49598",
   "metadata": {},
   "source": [
    "### Make plotly renders a bit more github frendly"
   ]
  },
  {
   "cell_type": "code",
   "execution_count": null,
   "id": "24b48ecc",
   "metadata": {},
   "outputs": [],
   "source": []
  },
  {
   "cell_type": "markdown",
   "id": "561af8f7",
   "metadata": {},
   "source": [
    "### Dataset Setup"
   ]
  },
  {
   "cell_type": "code",
   "execution_count": 2,
   "id": "63a131e0",
   "metadata": {},
   "outputs": [
    {
     "name": "stdout",
     "output_type": "stream",
     "text": [
      "Downloading from https://www.kaggle.com/api/v1/datasets/download/mauroabidalcarrer/prepocessed-cmi-2025?dataset_version_number=24...\n"
     ]
    },
    {
     "name": "stderr",
     "output_type": "stream",
     "text": [
      "100%|██████████| 753M/753M [00:19<00:00, 40.5MB/s] "
     ]
    },
    {
     "name": "stdout",
     "output_type": "stream",
     "text": [
      "Extracting files...\n"
     ]
    },
    {
     "name": "stderr",
     "output_type": "stream",
     "text": [
      "\n"
     ]
    }
   ],
   "source": [
    "BATCH_SIZE = 256\n",
    "dataset_path = dataset_download(\n",
    "    handle=\"mauroabidalcarrer/prepocessed-cmi-2025\",\n",
    ")"
   ]
  },
  {
   "cell_type": "code",
   "execution_count": 3,
   "id": "e46c3b4e",
   "metadata": {},
   "outputs": [],
   "source": [
    "\n",
    "class CMIDataset(TensorDataset):\n",
    "    def __init__(\n",
    "        self,\n",
    "        parent_dir: str,\n",
    "        split: Optional[Literal[\"train\", \"validation\"]]=None,\n",
    "        subset: Optional[int]=None,\n",
    "        force_download=False\n",
    "    ):\n",
    "        dataset_path = dataset_download(\n",
    "            handle=\"mauroabidalcarrer/prepocessed-cmi-2025\",\n",
    "            force_download=force_download\n",
    "        )\n",
    "        parent_dir = join(dataset_path, \"preprocessed_dataset\", parent_dir)\n",
    "        split = \"\" if split is None else split + \"_\"\n",
    "        x = np.load(join(parent_dir, f\"{split}X.npy\")).swapaxes(1, 2)\n",
    "        y = np.load(join(parent_dir, f\"{split}Y.npy\"))\n",
    "        if subset is not None:\n",
    "            x = x[:subset]\n",
    "            y = y[:subset]\n",
    "        super().__init__(\n",
    "            torch.from_numpy(x), \n",
    "            torch.from_numpy(y),\n",
    "        )\n"
   ]
  },
  {
   "cell_type": "code",
   "execution_count": 4,
   "id": "a2de4288",
   "metadata": {},
   "outputs": [],
   "source": [
    "meta_data_path = join(\n",
    "    dataset_path,\n",
    "    \"preprocessed_dataset\",\n",
    "    \"full_dataset_meta_data.json\"\n",
    ")\n",
    "with open(meta_data_path, \"r\") as fp:\n",
    "    dataset_meta_data = json.load(fp)"
   ]
  },
  {
   "cell_type": "markdown",
   "id": "e7cce363",
   "metadata": {},
   "source": [
    "### device setup"
   ]
  },
  {
   "cell_type": "code",
   "execution_count": 5,
   "id": "2710f791",
   "metadata": {},
   "outputs": [],
   "source": [
    "device = torch.device(\"cuda\") if torch.cuda.is_available() else torch.device(\"cpu\")"
   ]
  },
  {
   "cell_type": "markdown",
   "id": "7405a353",
   "metadata": {},
   "source": [
    "## Model definition"
   ]
  },
  {
   "cell_type": "code",
   "execution_count": 6,
   "id": "5ecc32a1",
   "metadata": {},
   "outputs": [],
   "source": [
    "class ResidualBlock(nn.Module):\n",
    "    def __init__(self, in_chns:int, out_chns:int):\n",
    "        super().__init__()\n",
    "        self.blocks = nn.Sequential(\n",
    "            nn.Conv1d(in_chns, out_chns, kernel_size=3, padding=1),\n",
    "            nn.BatchNorm1d(out_chns),\n",
    "            nn.ReLU(),\n",
    "            nn.Conv1d(out_chns, out_chns, kernel_size=3, padding=1),\n",
    "            nn.BatchNorm1d(out_chns),\n",
    "        )\n",
    "        if in_chns == out_chns:\n",
    "            self.skip_connection = nn.Identity() \n",
    "        else:\n",
    "            # TODO: set bias to False ?\n",
    "            self.skip_connection = nn.Sequential(\n",
    "                nn.Conv1d(in_chns, out_chns, 1),\n",
    "                nn.BatchNorm1d(out_chns)\n",
    "            )\n",
    "\n",
    "    def forward(self, x:Tensor) -> Tensor:\n",
    "        activaition_maps = self.skip_connection(x) + self.blocks(x)\n",
    "        return nn.functional.relu(activaition_maps)\n",
    "\n",
    "class Resnet(nn.Module):\n",
    "    def __init__(\n",
    "            self,\n",
    "            in_channels:int,\n",
    "            depth:int,\n",
    "            # n_res_block_per_depth:int,\n",
    "            mlp_width:int,\n",
    "            n_class:int,\n",
    "        ):\n",
    "        super().__init__()\n",
    "        chs_per_depth = [in_channels * 2 ** i for i in range(depth)]\n",
    "        blocks_chns_it = pairwise(chs_per_depth)\n",
    "        self.res_blocks = [ResidualBlock(in_chns, out_chns) for in_chns, out_chns in blocks_chns_it]\n",
    "        self.res_blocks = nn.ModuleList(self.res_blocks)\n",
    "        self.mlp_head = nn.Sequential(\n",
    "            nn.LazyLinear(mlp_width),\n",
    "            nn.ReLU(),\n",
    "            nn.Linear(mlp_width, n_class),\n",
    "            nn.Softmax(dim=1),\n",
    "        )\n",
    "        \n",
    "        \n",
    "    def forward(self, x:Tensor) -> Tensor:\n",
    "        activation_maps = x\n",
    "        for res_block in self.res_blocks:\n",
    "            activation_maps = nn.functional.max_pool1d(res_block(activation_maps), 2)\n",
    "        out = activation_maps.view(activation_maps.shape[0], -1)\n",
    "        out = self.mlp_head(out)\n",
    "        return out"
   ]
  },
  {
   "cell_type": "markdown",
   "id": "5a83f1e7",
   "metadata": {},
   "source": [
    "## Training functions "
   ]
  },
  {
   "cell_type": "markdown",
   "id": "c8014fc2",
   "metadata": {},
   "source": [
    "### Training"
   ]
  },
  {
   "cell_type": "code",
   "execution_count": 7,
   "id": "7cc879eb",
   "metadata": {},
   "outputs": [],
   "source": [
    "def fit(epochs:int,\n",
    "        model: nn.Module,\n",
    "        scheduler: LRScheduler,\n",
    "        optimizer: torch.optim.Optimizer,\n",
    "        train_loader: DL,\n",
    "        criterion: callable=nn.L1Loss(),\n",
    "        evaluation_func: callable=None,\n",
    "        validation_loader: DL=None,\n",
    "        save_checkpoints=True,\n",
    "    ) -> tuple[DF, str]:\n",
    "    \"\"\"\n",
    "    Returns:\n",
    "        (training_metrics, path_to_checkpoints)\n",
    "    \"\"\"\n",
    "    # Setup\n",
    "    metrics: list[dict] = []\n",
    "    checkpoints_dir = os.path.join(\"checkpoints\", mk_date_now_str())\n",
    "    step = 0\n",
    "    model_device = next(model.parameters()).device\n",
    "    last_epoch_metric = {}\n",
    "    # Training loop\n",
    "    with Progress() as progress:\n",
    "        task: Task = progress.add_task(\n",
    "            \"training...\",\n",
    "            total=len(train_loader),\n",
    "        )\n",
    "        for epoch in range(epochs):\n",
    "            progress.update(\n",
    "                task,\n",
    "                description=f\"epoch: {epoch}\",\n",
    "                completed=0,\n",
    "            )\n",
    "            total_epoch_loss = 0\n",
    "            total_accuracy = 0\n",
    "            for batch_idx, (x, y) in enumerate(train_loader):\n",
    "                # forward\n",
    "                x = x.to(model_device)\n",
    "                y = y.to(model_device)\n",
    "                model.train()\n",
    "                optimizer.zero_grad()\n",
    "                y_pred: Tensor = model(x)\n",
    "                loss_value = criterion(y_pred, y)\n",
    "                # Verify loss value\n",
    "                if torch.isnan(loss_value).any().item():\n",
    "                    progress.print(\"Warning: Got NaN loss, stopped training.\")\n",
    "                    return DF.from_records(metrics) \n",
    "                if torch.isinf(loss_value).any().item():\n",
    "                    progress.print(\"Warning: Got infinite loss, stopped training.\")\n",
    "                    return DF.from_records(metrics) \n",
    "                # TODO: Use gradient clipping?\n",
    "                loss_value.backward()\n",
    "                optimizer.step()\n",
    "                if step > 0: # If it's not the first training step, idk why it throws an error otherwise\n",
    "                    scheduler.step()\n",
    "                # metrics\n",
    "                total_epoch_loss += loss_value.item()\n",
    "                batch_accuracy = compute_accuracy(y_pred, y)\n",
    "                total_accuracy += batch_accuracy\n",
    "                metrics.append({\n",
    "                    \"step\": step,\n",
    "                    \"epoch\": epoch,\n",
    "                    \"batch_train_loss\": loss_value.item(),\n",
    "                    \"lr\": optimizer.state_dict()[\"param_groups\"][-1][\"lr\"],\n",
    "                    \"batch_accuracy\": batch_accuracy,\n",
    "                })\n",
    "                step += 1\n",
    "                if \"validation_accuracy\" in last_epoch_metric:\n",
    "                    last_validation_acc = \"%.2f\" % last_epoch_metric[\"validation_accuracy\"]\n",
    "                    val_acc_str = \"val. acc: \" + last_validation_acc\n",
    "                else:\n",
    "                    val_acc_str = \"\"\n",
    "                progress.update(\n",
    "                    task,\n",
    "                    advance=1,\n",
    "                    description=f\"epoch: {epoch}, batch_loss: {(total_epoch_loss / (batch_idx+1)):.2f}, {val_acc_str}\"\n",
    "                )\n",
    "            # Post epoch evalution\n",
    "            metrics[-1][\"train_epoch_loss\"] = total_epoch_loss / len(train_loader)\n",
    "            metrics[-1][\"train_epoch_accuracy\"] = total_accuracy / len(train_loader)\n",
    "            if evaluation_func:\n",
    "                progress.update(\n",
    "                    task,\n",
    "                    completed=0,\n",
    "                    description=f\"epoch: {epoch}, evaluating...\"\n",
    "                )\n",
    "                eval_metrics = evaluation_func(model, criterion, validation_loader)\n",
    "                metrics[-1].update(eval_metrics)\n",
    "            last_epoch_metric = metrics[-1]\n",
    "            # Save checkpoint\n",
    "            if save_checkpoints:\n",
    "                checkpoint = mk_checkpoint(epoch, model, scheduler, optimizer)\n",
    "                metrics_df = DF.from_records(metrics)\n",
    "                best_model_metric = \"validation_loss\" if \"validation_loss\" in metrics_df.columns else \"train_epoch_loss\"\n",
    "                is_best_checkpoint = (\n",
    "                    DF.from_records(metrics)\n",
    "                    .eval(f\"min_{best_model_metric} = {best_model_metric}.min()\")\n",
    "                    .eval(f\"is_best_{best_model_metric} = {best_model_metric} == min_{best_model_metric}\")\n",
    "                    .dropna(subset=f\"is_best_{best_model_metric}\")\n",
    "                    .iloc[-1]\n",
    "                    .loc[f\"is_best_{best_model_metric}\"]\n",
    "                )\n",
    "                save_checkpoint(checkpoint, checkpoints_dir, is_best_checkpoint)\n",
    "\n",
    "    return DF.from_records(metrics), checkpoints_dir\n",
    "\n",
    "def evaluate_model(\n",
    "        model: torch.nn.Module,\n",
    "        critirion:callable,\n",
    "        validation_loader:DL,\n",
    "    ) -> dict:\n",
    "    model = model.eval()\n",
    "    model_device = next(model.parameters()).device\n",
    "\n",
    "    total_accuracy = 0\n",
    "    total_test_loss = 0\n",
    "    for x, y in validation_loader:\n",
    "        x = x.to(model_device)\n",
    "        y = y.to(model_device)\n",
    "        y_pred = model(x)\n",
    "        total_test_loss += critirion(y_pred, y).item()\n",
    "        batch_accuracy = compute_accuracy(y_pred, y)\n",
    "        total_accuracy += batch_accuracy\n",
    "\n",
    "    return {\n",
    "        \"validation_loss\": total_test_loss / len(validation_loader),\n",
    "        \"validation_accuracy\": total_accuracy / len(validation_loader),\n",
    "    }\n",
    "\n",
    "def compute_accuracy(y_pred:Tensor, y:Tensor) -> float:\n",
    "    return (\n",
    "            (y.max(dim=1)[1] == y_pred.max(dim=1)[1])\n",
    "            .sum()\n",
    "            .item()\n",
    "    ) / y.shape[0]\n",
    "\n",
    "def mk_checkpoint(\n",
    "        epoch:int,\n",
    "        model: torch.nn.Module,\n",
    "        scheduler: LRScheduler,\n",
    "        optimizer: torch.optim.Optimizer\n",
    "    ) -> dict:\n",
    "    if torch.cuda.is_available():\n",
    "        model_state_dict = {k: v.detach().cpu() for k, v in model.state_dict().items()}\n",
    "    else:\n",
    "        model_state_dict = model.state_dict()\n",
    "\n",
    "    return {\n",
    "        \"epoch\": epoch,\n",
    "        \"model\": model.state_dict(),\n",
    "        \"optimizer\": optimizer.state_dict(),\n",
    "        \"scheduler\": scheduler.state_dict(),\n",
    "    }\n",
    "\n",
    "def save_checkpoint(checkpoint:dict, parent_dir:str, is_best_checkpoint=False):\n",
    "    # Create model name\n",
    "    checkpoint_filename = f\"epoch_{checkpoint['epoch']}_{mk_date_now_str()}.pth\"\n",
    "    # Save model\n",
    "    os.makedirs(parent_dir, exist_ok=True)\n",
    "    checkpoint_path = os.path.join(parent_dir, checkpoint_filename)\n",
    "    torch.save(checkpoint, checkpoint_path)\n",
    "    mk_symlink(checkpoint_path, os.path.join(parent_dir, \"latest_checkpoint.pth\"))\n",
    "    if is_best_checkpoint:\n",
    "        mk_symlink(checkpoint_path, os.path.join(parent_dir, \"best_checkpoint.pth\"))\n",
    "\n",
    "def mk_date_now_str() -> str:\n",
    "    return datetime.now().strftime(\"%d-%m-%Y_%H-%M\")\n",
    "\n",
    "def mk_symlink(dest:str, symlink_path:str):\n",
    "    if os.path.islink(symlink_path) or os.path.exists(symlink_path):\n",
    "        os.remove(symlink_path)\n",
    "    os.symlink(dest, symlink_path)"
   ]
  },
  {
   "cell_type": "code",
   "execution_count": null,
   "id": "534c536e",
   "metadata": {},
   "outputs": [],
   "source": [
    "def mk_model() -> nn.Module:\n",
    "    nb_in_chans = len(dataset_meta_data[\"feature_cols\"])\n",
    "    return (\n",
    "        Resnet(\n",
    "            in_channels=nb_in_chans,\n",
    "            depth=4,\n",
    "            mlp_width=256,\n",
    "            n_class=18\n",
    "        )\n",
    "        .to(device)\n",
    "    )\n",
    "\n",
    "print(\"input channels:\", len(dataset_meta_data[\"feature_cols\"]))"
   ]
  },
  {
   "cell_type": "code",
   "execution_count": null,
   "id": "fe1e327c",
   "metadata": {},
   "outputs": [],
   "source": [
    "def mk_model_and_fit(train_loader:DL, validation_loader:Optional[DL]=None) -> tuple[nn.Module, DF, list[str]]:\n",
    "    model = mk_model()\n",
    "    optimizer = torch.optim.AdamW(model.parameters(), STARTING_LR)\n",
    "    constant_lr_scheduler = ConstantLR(optimizer, factor=1, total_iters=len(train_loader) * TRAINING_EPOCHS)\n",
    "    training_metrics, model_checkpoints = fit(\n",
    "        epochs=TRAINING_EPOCHS,\n",
    "        model=model,\n",
    "        scheduler=constant_lr_scheduler,\n",
    "        optimizer=optimizer,\n",
    "        train_loader=train_loader,\n",
    "        criterion=nn.CrossEntropyLoss(),\n",
    "        evaluation_func=evaluate_model if validation_loader else None,\n",
    "        validation_loader=validation_loader,\n",
    "        save_checkpoints=True,\n",
    "    )\n",
    "\n",
    "    return model, training_metrics, model_checkpoints"
   ]
  },
  {
   "cell_type": "markdown",
   "id": "0ddd2294",
   "metadata": {},
   "source": [
    "### Training metrics plotting"
   ]
  },
  {
   "cell_type": "code",
   "execution_count": 9,
   "id": "4619c4fe",
   "metadata": {},
   "outputs": [],
   "source": [
    "def plt_train_split_training_metrics(training_metrics:DF):\n",
    "    (\n",
    "        px.scatter(\n",
    "            (\n",
    "                training_metrics\n",
    "                .melt(\n",
    "                    id_vars=\"step\",\n",
    "                    value_vars=[\n",
    "                        \"batch_train_loss\",\n",
    "                        \"batch_accuracy\",\n",
    "                    ]\n",
    "                )\n",
    "            ),\n",
    "            x=\"step\",\n",
    "            y=\"value\",\n",
    "            facet_row=\"variable\",\n",
    "            trendline=\"ewm\",\n",
    "            trendline_options={\"com\": 30},\n",
    "            trendline_color_override=\"red\",\n",
    "            title=\"batch metrics\",\n",
    "        )\n",
    "        .update_yaxes(matches=None)\n",
    "        .show()\n",
    "    )\n",
    "\n",
    "def plt_validation_split_training_metrics(training_metrics:DF):\n",
    "    (\n",
    "        px.line(\n",
    "            (\n",
    "                training_metrics\n",
    "                .query(\"validation_loss.notna()\")\n",
    "                .melt(\n",
    "                    id_vars=\"epoch\",\n",
    "                    value_vars=['train_epoch_loss', 'train_epoch_accuracy', 'validation_loss', 'validation_accuracy']\n",
    "                )\n",
    "            ),\n",
    "            x=\"epoch\",\n",
    "            y=\"value\",\n",
    "            color=\"variable\",\n",
    "            facet_row=\"variable\",\n",
    "            title=\"epoch metrics\",\n",
    "            render_mode=\"line+marker\",\n",
    "        ).update_yaxes(matches=None)\n",
    "        .show()\n",
    "    )"
   ]
  },
  {
   "cell_type": "markdown",
   "id": "92bee315",
   "metadata": {},
   "source": [
    "## Cross validation training"
   ]
  },
  {
   "cell_type": "code",
   "execution_count": null,
   "id": "a711c430",
   "metadata": {},
   "outputs": [
    {
     "name": "stdout",
     "output_type": "stream",
     "text": [
      "training: 1\n"
     ]
    },
    {
     "data": {
      "application/vnd.jupyter.widget-view+json": {
       "model_id": "e50250ebb3814318a2a2818e08a10b63",
       "version_major": 2,
       "version_minor": 0
      },
      "text/plain": [
       "Output()"
      ]
     },
     "metadata": {},
     "output_type": "display_data"
    },
    {
     "data": {
      "text/html": [
       "<pre style=\"white-space:pre;overflow-x:auto;line-height:normal;font-family:Menlo,'DejaVu Sans Mono',consolas,'Courier New',monospace\"></pre>\n"
      ],
      "text/plain": []
     },
     "metadata": {},
     "output_type": "display_data"
    },
    {
     "data": {
      "application/vnd.plotly.v1+json": {
       "config": {
        "plotlyServerURL": "https://plot.ly"
       },
       "data": [
        {
         "hovertemplate": "variable=train_epoch_loss<br>epoch=%{x}<br>value=%{y}<extra></extra>",
         "legendgroup": "train_epoch_loss",
         "line": {
          "color": "#636efa",
          "dash": "solid"
         },
         "marker": {
          "symbol": "circle"
         },
         "mode": "lines",
         "name": "train_epoch_loss",
         "orientation": "v",
         "showlegend": true,
         "type": "scatter",
         "x": {
          "bdata": "AAECAwQFBgcICQoLDA0ODxAREhMUFRYXGBkaGxwdHh8gISIjJCUmJygpKissLS4vMDEyMzQ1Njc4OTo7",
          "dtype": "i1"
         },
         "xaxis": "x4",
         "y": {
          "bdata": "Yid2goEvBkAndmKXp4MFQJ7Yia3gWwVA2YmdmMdABUBiJ3aiPDIFQOzETmxrMAVAO7ET2zAJBUA7sRPba/MEQIqd2BnT1ARAsRM7sSHLBEDsxE4s6L4EQGIndlJ3sQRAxU7sJN6nBEAUO7GDOqoEQIqd2MlabwRAYid2cvdIBEBP7MQO1y4EQDuxE5vdJwRAdmInpkchBEDZiZ2o6hQEQDuxE9sxDQRAntiJ/R4EBEB2YieGJQUEQHZiJ3bF/QNAO7ETyxsABECe2Il9cO8DQCd2Ytdu9QNAYid2EhrwA0AndmJXTugDQNmJnWje6QNAdmInBrPpA0CKndjZgewDQDuxExuv5ANA2YmdGK7pA0BP7MSezucDQAAAAMCJ4wNAJ3Zix9rgA0CxEzvxV94DQIqd2Ekf3QNAxU7sdHTZA0AAAAAw+tYDQDuxE8syuwNAip3Y2dGqA0Ce2Il9uocDQCd2Yuc/fgNAO7ETWwp6A0BP7MQuEF4DQHZiJwbIPwNAAAAAIKsqA0AndmIHlBwDQLETO4EuBgNAdmInFo3+AkAndmIXRegCQE/sxN4UzQJAO7ETW0fAAkDFTuzEMLMCQLETO6FTjQJAAAAAEHhkAkDZiZ0YwlsCQJ7YiR0vSwJA",
          "dtype": "f8"
         },
         "yaxis": "y4"
        },
        {
         "hovertemplate": "variable=train_epoch_accuracy<br>epoch=%{x}<br>value=%{y}<extra></extra>",
         "legendgroup": "train_epoch_accuracy",
         "line": {
          "color": "#EF553B",
          "dash": "solid"
         },
         "marker": {
          "symbol": "circle"
         },
         "mode": "lines",
         "name": "train_epoch_accuracy",
         "orientation": "v",
         "showlegend": true,
         "type": "scatter",
         "x": {
          "bdata": "AAECAwQFBgcICQoLDA0ODxAREhMUFRYXGBkaGxwdHh8gISIjJCUmJygpKissLS4vMDEyMzQ1Njc4OTo7",
          "dtype": "i1"
         },
         "xaxis": "x3",
         "y": {
          "bdata": "aZiVaJgVyj8h7sMg7qPSPw6zEg2z0tM/2lpx2Vqx1D+J+zCI+zDVP4GivoCiPtU/HGX3G2V31j9SMBRSMDTXP9JeKdJeKdg/Mrb5MbZZ2D/LvwvLv8vYP3/pl37pN9k/S9ehSteB2T8cwiEcwoHZP39Gwn5GQts/xGaZw2Z53D9mJRpmJVrdP+SDieODid0/Jo4PJo6v3T9S6mhS6ijePwmHcAiHUN4/KQGLKAGr3j8rdAYrdKbePzLNeDLN2N4/dR2qdB3K3j/u8kzt8kzfP6tF8apFEd8/EvYzEvYz3z8B6FIB6HLfP1LqaFLqaN8/biFibSFi3z/mPLDlPFDfP84yh80yh98/v4CivoBi3z/6Mbb5MXbfPzJwTjJwjt8/0hh+0hie3z+kSamjSanfP0YIKkYIqt8/xMPDw8PD3z8GcR8Gcd/fPzTMSjTMauA/AXSpAHS54D8zQSIzQVLhP1xCrVtCfeE/zJDfy5B/4T9OeBtOePvhP/Yck/Ucc+I/A+ckA+fE4j+fNIafNPbiP4cT3oYTTuM/ncEKncF64z/3BOb2BMbjP88DW84DO+Q/nDbimzZy5D83nPA2nKDkP8IhHMIhPOU/8nsZ8nvZ5T8RDuEQDgHmP5uruZqrSeY/",
          "dtype": "f8"
         },
         "yaxis": "y3"
        },
        {
         "hovertemplate": "variable=validation_loss<br>epoch=%{x}<br>value=%{y}<extra></extra>",
         "legendgroup": "validation_loss",
         "line": {
          "color": "#00cc96",
          "dash": "solid"
         },
         "marker": {
          "symbol": "circle"
         },
         "mode": "lines",
         "name": "validation_loss",
         "orientation": "v",
         "showlegend": true,
         "type": "scatter",
         "x": {
          "bdata": "AAECAwQFBgcICQoLDA0ODxAREhMUFRYXGBkaGxwdHh8gISIjJCUmJygpKissLS4vMDEyMzQ1Njc4OTo7",
          "dtype": "i1"
         },
         "xaxis": "x2",
         "y": {
          "bdata": "27Zt+0PsBUAlSZJEWa4FQCVJksQ6rwVAt23bNrmABUC3bduW2n0FQAAAAEBOjAVAt23b9iY/BUDbtm37vjsFQJIkSZLbOgVASZIkaUM9BUBu27btAT0FQCVJkoSzUAVAAAAA4GU3BUBJkiQJHzwFQJIkSXLi9ARAkiRJ8ursBEC3bdv2/t0EQNu2bTubzwRAkiRJctIqBUCSJEkyRdgEQCVJkmRjygRAkiRJ8onbBEC3bduWQdMEQG7bti3azwRA27ZtuwvYBEBu27YNwM8EQCVJkmTUwQRAbtu2TeHABECSJEmySLYEQAAAAIC/uQRAkiRJ8pTIBEC3bdt2+KkEQG7bts1j1gRAkiRJUjasBEC3bdv2/LUEQAAAAMAvzQRA27Zt+5CwBEAAAAAA2r4EQNu2bVvlswRAt23bFgm8BEAlSZIk3bwEQEmSJEmrqwRAJUmSRL+iBECSJElS5XoEQG7btm3DgwRASZIkafGEBEAAAADgNIoEQJIkSZKdcARAJUmSpMSiBEAlSZJkFl0EQLdt29ZrYQRAJUmSBLp4BEC3bdtWaWAEQJIkSdJYVQRA27Ztu2NTBEC3bduW70sEQEmSJOmQIQRAbtu2LX4sBEBJkiSJ1ycEQNu2bZtxKQRA",
          "dtype": "f8"
         },
         "yaxis": "y2"
        },
        {
         "hovertemplate": "variable=validation_accuracy<br>epoch=%{x}<br>value=%{y}<extra></extra>",
         "legendgroup": "validation_accuracy",
         "line": {
          "color": "#ab63fa",
          "dash": "solid"
         },
         "marker": {
          "symbol": "circle"
         },
         "mode": "lines",
         "name": "validation_accuracy",
         "orientation": "v",
         "showlegend": true,
         "type": "scatter",
         "x": {
          "bdata": "AAECAwQFBgcICQoLDA0ODxAREhMUFRYXGBkaGxwdHh8gISIjJCUmJygpKissLS4vMDEyMzQ1Njc4OTo7",
          "dtype": "i1"
         },
         "xaxis": "x",
         "y": {
          "bdata": "z/M8z/O8zT8ZhmEYhmHRP0mSJEmSJNE/27Zt27at0j8lSZIkSdLSP27btm3bNtI/6Hme53me1D/P8zzP87zUP0mSJEmS5NQ/SZIkSZLk1D+3bdu2bdvUP0mSJEmSJNQ/Pc/zPM/z1D/btm3btu3UP+h5nud5Htc/wzAMwzBM1z+f53me57nXPzEMwzAMA9g/z/M8z/M81T+qqqqqqqrXP27btm3bdtg/GIZhGIbh1z96nud5nifYPzEMwzAMQ9g/Pc/zPM/z1z+SJEmSJEnYP0mSJEmSpNg/MQzDMAzD2D/zPM/zPE/ZPzEMwzAMw9g/z/M8z/M82D/DMAzDMIzZP3qe53me59c/hmEYhmFY2T+qqqqqqirZP/M8z/M8T9g/27Zt27Zt2T+f53me57nYP27btm3bNtk/qqqqqqrq2D8NwzAMw/DYPyVJkiRJktk/n+d5nue52T+SJEmSJAnbP9u2bdu2bdo/GIZhGIbh2j8lSZIkSRLaP/M8z/M8D9s/qqqqqqqq2T/DMAzDMMzbPw3DMAzDcNs/qqqqqqoq2z/DMAzDMIzbP7dt27ZtG9w/YRiGYRgG3D+f53me5zncP3qe53mep90/6Hme53le3T9u27Zt23bdPzEMwzAMQ90/",
          "dtype": "f8"
         },
         "yaxis": "y"
        }
       ],
       "layout": {
        "annotations": [
         {
          "font": {},
          "showarrow": false,
          "text": "variable=validation_accuracy",
          "textangle": 90,
          "x": 0.98,
          "xanchor": "left",
          "xref": "paper",
          "y": 0.11375,
          "yanchor": "middle",
          "yref": "paper"
         },
         {
          "font": {},
          "showarrow": false,
          "text": "variable=validation_loss",
          "textangle": 90,
          "x": 0.98,
          "xanchor": "left",
          "xref": "paper",
          "y": 0.37124999999999997,
          "yanchor": "middle",
          "yref": "paper"
         },
         {
          "font": {},
          "showarrow": false,
          "text": "variable=train_epoch_accuracy",
          "textangle": 90,
          "x": 0.98,
          "xanchor": "left",
          "xref": "paper",
          "y": 0.62875,
          "yanchor": "middle",
          "yref": "paper"
         },
         {
          "font": {},
          "showarrow": false,
          "text": "variable=train_epoch_loss",
          "textangle": 90,
          "x": 0.98,
          "xanchor": "left",
          "xref": "paper",
          "y": 0.88625,
          "yanchor": "middle",
          "yref": "paper"
         }
        ],
        "legend": {
         "title": {
          "text": "variable"
         },
         "tracegroupgap": 0
        },
        "template": {
         "data": {
          "bar": [
           {
            "error_x": {
             "color": "#2a3f5f"
            },
            "error_y": {
             "color": "#2a3f5f"
            },
            "marker": {
             "line": {
              "color": "#E5ECF6",
              "width": 0.5
             },
             "pattern": {
              "fillmode": "overlay",
              "size": 10,
              "solidity": 0.2
             }
            },
            "type": "bar"
           }
          ],
          "barpolar": [
           {
            "marker": {
             "line": {
              "color": "#E5ECF6",
              "width": 0.5
             },
             "pattern": {
              "fillmode": "overlay",
              "size": 10,
              "solidity": 0.2
             }
            },
            "type": "barpolar"
           }
          ],
          "carpet": [
           {
            "aaxis": {
             "endlinecolor": "#2a3f5f",
             "gridcolor": "white",
             "linecolor": "white",
             "minorgridcolor": "white",
             "startlinecolor": "#2a3f5f"
            },
            "baxis": {
             "endlinecolor": "#2a3f5f",
             "gridcolor": "white",
             "linecolor": "white",
             "minorgridcolor": "white",
             "startlinecolor": "#2a3f5f"
            },
            "type": "carpet"
           }
          ],
          "choropleth": [
           {
            "colorbar": {
             "outlinewidth": 0,
             "ticks": ""
            },
            "type": "choropleth"
           }
          ],
          "contour": [
           {
            "colorbar": {
             "outlinewidth": 0,
             "ticks": ""
            },
            "colorscale": [
             [
              0,
              "#0d0887"
             ],
             [
              0.1111111111111111,
              "#46039f"
             ],
             [
              0.2222222222222222,
              "#7201a8"
             ],
             [
              0.3333333333333333,
              "#9c179e"
             ],
             [
              0.4444444444444444,
              "#bd3786"
             ],
             [
              0.5555555555555556,
              "#d8576b"
             ],
             [
              0.6666666666666666,
              "#ed7953"
             ],
             [
              0.7777777777777778,
              "#fb9f3a"
             ],
             [
              0.8888888888888888,
              "#fdca26"
             ],
             [
              1,
              "#f0f921"
             ]
            ],
            "type": "contour"
           }
          ],
          "contourcarpet": [
           {
            "colorbar": {
             "outlinewidth": 0,
             "ticks": ""
            },
            "type": "contourcarpet"
           }
          ],
          "heatmap": [
           {
            "colorbar": {
             "outlinewidth": 0,
             "ticks": ""
            },
            "colorscale": [
             [
              0,
              "#0d0887"
             ],
             [
              0.1111111111111111,
              "#46039f"
             ],
             [
              0.2222222222222222,
              "#7201a8"
             ],
             [
              0.3333333333333333,
              "#9c179e"
             ],
             [
              0.4444444444444444,
              "#bd3786"
             ],
             [
              0.5555555555555556,
              "#d8576b"
             ],
             [
              0.6666666666666666,
              "#ed7953"
             ],
             [
              0.7777777777777778,
              "#fb9f3a"
             ],
             [
              0.8888888888888888,
              "#fdca26"
             ],
             [
              1,
              "#f0f921"
             ]
            ],
            "type": "heatmap"
           }
          ],
          "histogram": [
           {
            "marker": {
             "pattern": {
              "fillmode": "overlay",
              "size": 10,
              "solidity": 0.2
             }
            },
            "type": "histogram"
           }
          ],
          "histogram2d": [
           {
            "colorbar": {
             "outlinewidth": 0,
             "ticks": ""
            },
            "colorscale": [
             [
              0,
              "#0d0887"
             ],
             [
              0.1111111111111111,
              "#46039f"
             ],
             [
              0.2222222222222222,
              "#7201a8"
             ],
             [
              0.3333333333333333,
              "#9c179e"
             ],
             [
              0.4444444444444444,
              "#bd3786"
             ],
             [
              0.5555555555555556,
              "#d8576b"
             ],
             [
              0.6666666666666666,
              "#ed7953"
             ],
             [
              0.7777777777777778,
              "#fb9f3a"
             ],
             [
              0.8888888888888888,
              "#fdca26"
             ],
             [
              1,
              "#f0f921"
             ]
            ],
            "type": "histogram2d"
           }
          ],
          "histogram2dcontour": [
           {
            "colorbar": {
             "outlinewidth": 0,
             "ticks": ""
            },
            "colorscale": [
             [
              0,
              "#0d0887"
             ],
             [
              0.1111111111111111,
              "#46039f"
             ],
             [
              0.2222222222222222,
              "#7201a8"
             ],
             [
              0.3333333333333333,
              "#9c179e"
             ],
             [
              0.4444444444444444,
              "#bd3786"
             ],
             [
              0.5555555555555556,
              "#d8576b"
             ],
             [
              0.6666666666666666,
              "#ed7953"
             ],
             [
              0.7777777777777778,
              "#fb9f3a"
             ],
             [
              0.8888888888888888,
              "#fdca26"
             ],
             [
              1,
              "#f0f921"
             ]
            ],
            "type": "histogram2dcontour"
           }
          ],
          "mesh3d": [
           {
            "colorbar": {
             "outlinewidth": 0,
             "ticks": ""
            },
            "type": "mesh3d"
           }
          ],
          "parcoords": [
           {
            "line": {
             "colorbar": {
              "outlinewidth": 0,
              "ticks": ""
             }
            },
            "type": "parcoords"
           }
          ],
          "pie": [
           {
            "automargin": true,
            "type": "pie"
           }
          ],
          "scatter": [
           {
            "fillpattern": {
             "fillmode": "overlay",
             "size": 10,
             "solidity": 0.2
            },
            "type": "scatter"
           }
          ],
          "scatter3d": [
           {
            "line": {
             "colorbar": {
              "outlinewidth": 0,
              "ticks": ""
             }
            },
            "marker": {
             "colorbar": {
              "outlinewidth": 0,
              "ticks": ""
             }
            },
            "type": "scatter3d"
           }
          ],
          "scattercarpet": [
           {
            "marker": {
             "colorbar": {
              "outlinewidth": 0,
              "ticks": ""
             }
            },
            "type": "scattercarpet"
           }
          ],
          "scattergeo": [
           {
            "marker": {
             "colorbar": {
              "outlinewidth": 0,
              "ticks": ""
             }
            },
            "type": "scattergeo"
           }
          ],
          "scattergl": [
           {
            "marker": {
             "colorbar": {
              "outlinewidth": 0,
              "ticks": ""
             }
            },
            "type": "scattergl"
           }
          ],
          "scattermap": [
           {
            "marker": {
             "colorbar": {
              "outlinewidth": 0,
              "ticks": ""
             }
            },
            "type": "scattermap"
           }
          ],
          "scattermapbox": [
           {
            "marker": {
             "colorbar": {
              "outlinewidth": 0,
              "ticks": ""
             }
            },
            "type": "scattermapbox"
           }
          ],
          "scatterpolar": [
           {
            "marker": {
             "colorbar": {
              "outlinewidth": 0,
              "ticks": ""
             }
            },
            "type": "scatterpolar"
           }
          ],
          "scatterpolargl": [
           {
            "marker": {
             "colorbar": {
              "outlinewidth": 0,
              "ticks": ""
             }
            },
            "type": "scatterpolargl"
           }
          ],
          "scatterternary": [
           {
            "marker": {
             "colorbar": {
              "outlinewidth": 0,
              "ticks": ""
             }
            },
            "type": "scatterternary"
           }
          ],
          "surface": [
           {
            "colorbar": {
             "outlinewidth": 0,
             "ticks": ""
            },
            "colorscale": [
             [
              0,
              "#0d0887"
             ],
             [
              0.1111111111111111,
              "#46039f"
             ],
             [
              0.2222222222222222,
              "#7201a8"
             ],
             [
              0.3333333333333333,
              "#9c179e"
             ],
             [
              0.4444444444444444,
              "#bd3786"
             ],
             [
              0.5555555555555556,
              "#d8576b"
             ],
             [
              0.6666666666666666,
              "#ed7953"
             ],
             [
              0.7777777777777778,
              "#fb9f3a"
             ],
             [
              0.8888888888888888,
              "#fdca26"
             ],
             [
              1,
              "#f0f921"
             ]
            ],
            "type": "surface"
           }
          ],
          "table": [
           {
            "cells": {
             "fill": {
              "color": "#EBF0F8"
             },
             "line": {
              "color": "white"
             }
            },
            "header": {
             "fill": {
              "color": "#C8D4E3"
             },
             "line": {
              "color": "white"
             }
            },
            "type": "table"
           }
          ]
         },
         "layout": {
          "annotationdefaults": {
           "arrowcolor": "#2a3f5f",
           "arrowhead": 0,
           "arrowwidth": 1
          },
          "autotypenumbers": "strict",
          "coloraxis": {
           "colorbar": {
            "outlinewidth": 0,
            "ticks": ""
           }
          },
          "colorscale": {
           "diverging": [
            [
             0,
             "#8e0152"
            ],
            [
             0.1,
             "#c51b7d"
            ],
            [
             0.2,
             "#de77ae"
            ],
            [
             0.3,
             "#f1b6da"
            ],
            [
             0.4,
             "#fde0ef"
            ],
            [
             0.5,
             "#f7f7f7"
            ],
            [
             0.6,
             "#e6f5d0"
            ],
            [
             0.7,
             "#b8e186"
            ],
            [
             0.8,
             "#7fbc41"
            ],
            [
             0.9,
             "#4d9221"
            ],
            [
             1,
             "#276419"
            ]
           ],
           "sequential": [
            [
             0,
             "#0d0887"
            ],
            [
             0.1111111111111111,
             "#46039f"
            ],
            [
             0.2222222222222222,
             "#7201a8"
            ],
            [
             0.3333333333333333,
             "#9c179e"
            ],
            [
             0.4444444444444444,
             "#bd3786"
            ],
            [
             0.5555555555555556,
             "#d8576b"
            ],
            [
             0.6666666666666666,
             "#ed7953"
            ],
            [
             0.7777777777777778,
             "#fb9f3a"
            ],
            [
             0.8888888888888888,
             "#fdca26"
            ],
            [
             1,
             "#f0f921"
            ]
           ],
           "sequentialminus": [
            [
             0,
             "#0d0887"
            ],
            [
             0.1111111111111111,
             "#46039f"
            ],
            [
             0.2222222222222222,
             "#7201a8"
            ],
            [
             0.3333333333333333,
             "#9c179e"
            ],
            [
             0.4444444444444444,
             "#bd3786"
            ],
            [
             0.5555555555555556,
             "#d8576b"
            ],
            [
             0.6666666666666666,
             "#ed7953"
            ],
            [
             0.7777777777777778,
             "#fb9f3a"
            ],
            [
             0.8888888888888888,
             "#fdca26"
            ],
            [
             1,
             "#f0f921"
            ]
           ]
          },
          "colorway": [
           "#636efa",
           "#EF553B",
           "#00cc96",
           "#ab63fa",
           "#FFA15A",
           "#19d3f3",
           "#FF6692",
           "#B6E880",
           "#FF97FF",
           "#FECB52"
          ],
          "font": {
           "color": "#2a3f5f"
          },
          "geo": {
           "bgcolor": "white",
           "lakecolor": "white",
           "landcolor": "#E5ECF6",
           "showlakes": true,
           "showland": true,
           "subunitcolor": "white"
          },
          "hoverlabel": {
           "align": "left"
          },
          "hovermode": "closest",
          "mapbox": {
           "style": "light"
          },
          "paper_bgcolor": "white",
          "plot_bgcolor": "#E5ECF6",
          "polar": {
           "angularaxis": {
            "gridcolor": "white",
            "linecolor": "white",
            "ticks": ""
           },
           "bgcolor": "#E5ECF6",
           "radialaxis": {
            "gridcolor": "white",
            "linecolor": "white",
            "ticks": ""
           }
          },
          "scene": {
           "xaxis": {
            "backgroundcolor": "#E5ECF6",
            "gridcolor": "white",
            "gridwidth": 2,
            "linecolor": "white",
            "showbackground": true,
            "ticks": "",
            "zerolinecolor": "white"
           },
           "yaxis": {
            "backgroundcolor": "#E5ECF6",
            "gridcolor": "white",
            "gridwidth": 2,
            "linecolor": "white",
            "showbackground": true,
            "ticks": "",
            "zerolinecolor": "white"
           },
           "zaxis": {
            "backgroundcolor": "#E5ECF6",
            "gridcolor": "white",
            "gridwidth": 2,
            "linecolor": "white",
            "showbackground": true,
            "ticks": "",
            "zerolinecolor": "white"
           }
          },
          "shapedefaults": {
           "line": {
            "color": "#2a3f5f"
           }
          },
          "ternary": {
           "aaxis": {
            "gridcolor": "white",
            "linecolor": "white",
            "ticks": ""
           },
           "baxis": {
            "gridcolor": "white",
            "linecolor": "white",
            "ticks": ""
           },
           "bgcolor": "#E5ECF6",
           "caxis": {
            "gridcolor": "white",
            "linecolor": "white",
            "ticks": ""
           }
          },
          "title": {
           "x": 0.05
          },
          "xaxis": {
           "automargin": true,
           "gridcolor": "white",
           "linecolor": "white",
           "ticks": "",
           "title": {
            "standoff": 15
           },
           "zerolinecolor": "white",
           "zerolinewidth": 2
          },
          "yaxis": {
           "automargin": true,
           "gridcolor": "white",
           "linecolor": "white",
           "ticks": "",
           "title": {
            "standoff": 15
           },
           "zerolinecolor": "white",
           "zerolinewidth": 2
          }
         }
        },
        "title": {
         "text": "epoch metrics"
        },
        "xaxis": {
         "anchor": "y",
         "domain": [
          0,
          0.98
         ],
         "title": {
          "text": "epoch"
         }
        },
        "xaxis2": {
         "anchor": "y2",
         "domain": [
          0,
          0.98
         ],
         "matches": "x",
         "showticklabels": false
        },
        "xaxis3": {
         "anchor": "y3",
         "domain": [
          0,
          0.98
         ],
         "matches": "x",
         "showticklabels": false
        },
        "xaxis4": {
         "anchor": "y4",
         "domain": [
          0,
          0.98
         ],
         "matches": "x",
         "showticklabels": false
        },
        "yaxis": {
         "anchor": "x",
         "domain": [
          0,
          0.2275
         ],
         "title": {
          "text": "value"
         }
        },
        "yaxis2": {
         "anchor": "x2",
         "domain": [
          0.2575,
          0.485
         ],
         "title": {
          "text": "value"
         }
        },
        "yaxis3": {
         "anchor": "x3",
         "domain": [
          0.515,
          0.7425
         ],
         "title": {
          "text": "value"
         }
        },
        "yaxis4": {
         "anchor": "x4",
         "domain": [
          0.7725,
          1
         ],
         "title": {
          "text": "value"
         }
        }
       }
      }
     },
     "metadata": {},
     "output_type": "display_data"
    },
    {
     "name": "stdout",
     "output_type": "stream",
     "text": [
      "=========================\n",
      "training: 2\n"
     ]
    },
    {
     "data": {
      "application/vnd.jupyter.widget-view+json": {
       "model_id": "29d4d2ee4f3d464da06bfd510fb282cb",
       "version_major": 2,
       "version_minor": 0
      },
      "text/plain": [
       "Output()"
      ]
     },
     "metadata": {},
     "output_type": "display_data"
    },
    {
     "data": {
      "text/html": [
       "<pre style=\"white-space:pre;overflow-x:auto;line-height:normal;font-family:Menlo,'DejaVu Sans Mono',consolas,'Courier New',monospace\"></pre>\n"
      ],
      "text/plain": []
     },
     "metadata": {},
     "output_type": "display_data"
    },
    {
     "data": {
      "application/vnd.plotly.v1+json": {
       "config": {
        "plotlyServerURL": "https://plot.ly"
       },
       "data": [
        {
         "hovertemplate": "variable=train_epoch_loss<br>epoch=%{x}<br>value=%{y}<extra></extra>",
         "legendgroup": "train_epoch_loss",
         "line": {
          "color": "#636efa",
          "dash": "solid"
         },
         "marker": {
          "symbol": "circle"
         },
         "mode": "lines",
         "name": "train_epoch_loss",
         "orientation": "v",
         "showlegend": true,
         "type": "scatter",
         "x": {
          "bdata": "AAECAwQFBgcICQoLDA0ODxAREhMUFRYXGBkaGxwdHh8gISIjJCUmJygpKissLS4vMDEyMzQ1Njc4OTo7",
          "dtype": "i1"
         },
         "xaxis": "x4",
         "y": {
          "bdata": "O7ETm2xeBkAAAADQT6UFQIqd2MnHKwVAxU7sZKPrBEAUO7HTlq4EQGInduKNjwRA2YmdiHdwBEAAAACQ2lsEQJ7Yid2TQQRAAAAA8BMqBEDFTuzUuhMEQBQ7saMh7gNAT+zEbifTA0DsxE78ea4DQOzETnxulwNAip3YmbJ2A0A7sRO7c2wDQLETO7HxUQNA7MROXFBFA0Ce2IkdJUMDQOzETtypNgNAT+zEPqsdA0Ce2IndBgQDQJ7Yia0j5QJAJ3ZiVwLnAkDFTuyEBNQCQCd2YscTwwJA2YmduOe7AkAndmKX178CQMVO7GQXwgJAT+zE3j+1AkCe2Ikd7bACQLETO1F0oQJAxU7sVAiYAkBiJ3ZCKIICQLETO3GSgQJAsRM78RN8AkB2YieW3HsCQNmJnbh+dwJA7MRO7K1xAkCKndhpDHECQCd2YvdJSQJAxU7s9K8nAkAAAABQWC4CQNmJndh6HgJA7MROvCkkAkAndmK3qRgCQAAAAKBeCgJAFDuxg0gPAkBP7MTepwsCQBQ7sQO1+gFAO7ETO6T3AUDFTuzklPQBQMVO7BSX7gFAip3YaRbuAUA7sRPb1fYBQBQ7sQOb+gFA2YmdaLv3AUAndmLHVvUBQE/sxJ6h7QFA",
          "dtype": "f8"
         },
         "yaxis": "y4"
        },
        {
         "hovertemplate": "variable=train_epoch_accuracy<br>epoch=%{x}<br>value=%{y}<extra></extra>",
         "legendgroup": "train_epoch_accuracy",
         "line": {
          "color": "#EF553B",
          "dash": "solid"
         },
         "marker": {
          "symbol": "circle"
         },
         "mode": "lines",
         "name": "train_epoch_accuracy",
         "orientation": "v",
         "showlegend": true,
         "type": "scatter",
         "x": {
          "bdata": "AAECAwQFBgcICQoLDA0ODxAREhMUFRYXGBkaGxwdHh8gISIjJCUmJygpKissLS4vMDEyMzQ1Njc4OTo7",
          "dtype": "i1"
         },
         "xaxis": "x3",
         "y": {
          "bdata": "Ge035bmExj+vjDv2bXbRP0sJTe95StU/BPqViOVH1z8JH7MnpD7ZP0ut1EqtVNo/uR6F61E42z8qFIALj9TbP16MDbobsNw/f4HanQZm3T8Uae1lISzeP4rLFNyDU98/b277ZJcX4D+QB1CktafgP0Ebi1XJEuE/yoonjYCg4T8hsHJokb3hP2cHOYaMJOI/xH/dUkJT4j+crQKH/2riP2K035TnkuI/bojOyRcB4z+c2z7Z5WXjP/7UeOkm0eM/r+izmjrM4z/xSJlrXRfkPxHi7ap7V+Q/LPqspg575D+CH/iBH2jkP94N6FciZuQ/jyEjCTaR5D9uiM7JF6HkP2ZPSD3z6OQ/OrTIdr4P5T96ivlQLlrlP1rxpBEQauU/qQumsuJ55T9UzIdyUXPlP0A1XrpJjOU/C2FYZ/Ca5T/3yS6v6KPlP/fJLq/oQ+Y/YKB2p4HR5j+h0h8mvrHmPyvMcFQo8OY/vEZXxh3b5j9ZlSxtQxTnP+LWjFIUR+c/1jDab8oz5z96ivlQLjrnPxeRv0Dtfuc/WZUsbUOE5z/Q3YB+JZLnP/CQqCLEq+c/JJPqxwOo5z9s/hnTZJDnP7U7DYzffec/EYZ1Bq+R5z9ZObTIdo7nP0w3iUFgtec/",
          "dtype": "f8"
         },
         "yaxis": "y3"
        },
        {
         "hovertemplate": "variable=validation_loss<br>epoch=%{x}<br>value=%{y}<extra></extra>",
         "legendgroup": "validation_loss",
         "line": {
          "color": "#00cc96",
          "dash": "solid"
         },
         "marker": {
          "symbol": "circle"
         },
         "mode": "lines",
         "name": "validation_loss",
         "orientation": "v",
         "showlegend": true,
         "type": "scatter",
         "x": {
          "bdata": "AAECAwQFBgcICQoLDA0ODxAREhMUFRYXGBkaGxwdHh8gISIjJCUmJygpKissLS4vMDEyMzQ1Njc4OTo7",
          "dtype": "i1"
         },
         "xaxis": "x2",
         "y": {
          "bdata": "t23b1m/zBUCSJElyZFkFQNu2bdtyDQVAbtu2rRfNBEAAAADAzbAEQLdt21ZVzwRAJUmS5EmeBECSJEmSK5kEQLdt2/ZRrQRA27Ztm9afBEDbtm07XH0EQAAAACBmpgRAkiRJ0pCSBEBJkiTpwEcEQEmSJIkkNwRAJUmShFVKBEDbtm2bQEoEQJIkSVIGPwRAkiRJ8kZIBECSJElyjS4EQLdt23YhOgRA27ZtmwQ2BEAlSZJEjCAEQAAAAEDKEQRASZIkSUYxBECSJEnSyBMEQLdt2/a3BQRAt23bdvn2A0Dbtm17KRgEQEmSJIkgFwRASZIkCaP/A0C3bds2PhkEQLdt29a9CQRASZIkaYXtA0Dbtm0b/NUDQNu2bZv84wNA27ZtG5nTA0BJkiSJLfwDQLdt29bMAgRAAAAAIIkKBEAlSZJkBg8EQG7btu1O3wNAAAAAIE8tBEAlSZIkXJ0DQNu2bfvU2QNAJUmSxAznA0AAAAAAXbYDQEmSJCkfugNAkiRJ8uCgA0AAAABgTowDQLdt2/ZfoANAbtu2LSWYA0AAAACgTIwDQG7btq0NjgNASZIkqU22A0C3bdu2YbIDQG7bts2X0gNAAAAAYJmNA0AlSZKEkJwDQLdt2/YhggNA",
          "dtype": "f8"
         },
         "yaxis": "y2"
        },
        {
         "hovertemplate": "variable=validation_accuracy<br>epoch=%{x}<br>value=%{y}<extra></extra>",
         "legendgroup": "validation_accuracy",
         "line": {
          "color": "#ab63fa",
          "dash": "solid"
         },
         "marker": {
          "symbol": "circle"
         },
         "mode": "lines",
         "name": "validation_accuracy",
         "orientation": "v",
         "showlegend": true,
         "type": "scatter",
         "x": {
          "bdata": "AAECAwQFBgcICQoLDA0ODxAREhMUFRYXGBkaGxwdHh8gISIjJCUmJygpKissLS4vMDEyMzQ1Njc4OTo7",
          "dtype": "i1"
         },
         "xaxis": "x",
         "y": {
          "bdata": "l2VZlmXZzT+f53me57nTP0IqpEIqZNY/8RVf8RUf2D+RF3mRFznZPzqogzqoQ9g/0hqt0Rrt2T8piqIoiiLaP0iFVEiFVNk/Eh7hER6h2T+lQiqkQuraP3qrt3qrd9k/yYu8yIt82j8AAAAAAEDcP0mSJEmSJN0/ztmczdlc3D9g/uVf/mXcPwVBEARBkNw/+7Ef+7Ef3D/btm3btu3cP4VHeIRHuNw/4ARO4AQO3T9pmqZpmubdPwVO4AROYN4/JUmSJElS3T/SJ33SJz3eP5IkSZIkSd4/G7qhG7rh3j9lTMZkTMbdP7dt27ZtG94/rt7qrd6q3j/JmIzJmAzePw7d0A3dUN4/4ARO4ARO3z/ruq7rug7gP07gBE7gxN8/S7mUS7kU4D8pl3Ipl/LeP4D5l3/5l94/O7VTO7VT3j+bszmbszneP5MxGZMx2d8/cimXcikX3T8e4REe4dHgPyEIgiAIAuA/BU7gBE5g3z/VTu3UTo3gP/dwD/dwb+A/syzLsizr4D9RB3VQBzXhP47jOI7j2OA/B3VQB3UQ4T91UAd1UCfhPyMv8iIvEuE/vuIrvuJr4D+7u7u7u5vgP3ACJ3ACJ+A/+Zd/+Zf/4D/HcRzHcfzgP6VP+qRPWuE/",
          "dtype": "f8"
         },
         "yaxis": "y"
        }
       ],
       "layout": {
        "annotations": [
         {
          "font": {},
          "showarrow": false,
          "text": "variable=validation_accuracy",
          "textangle": 90,
          "x": 0.98,
          "xanchor": "left",
          "xref": "paper",
          "y": 0.11375,
          "yanchor": "middle",
          "yref": "paper"
         },
         {
          "font": {},
          "showarrow": false,
          "text": "variable=validation_loss",
          "textangle": 90,
          "x": 0.98,
          "xanchor": "left",
          "xref": "paper",
          "y": 0.37124999999999997,
          "yanchor": "middle",
          "yref": "paper"
         },
         {
          "font": {},
          "showarrow": false,
          "text": "variable=train_epoch_accuracy",
          "textangle": 90,
          "x": 0.98,
          "xanchor": "left",
          "xref": "paper",
          "y": 0.62875,
          "yanchor": "middle",
          "yref": "paper"
         },
         {
          "font": {},
          "showarrow": false,
          "text": "variable=train_epoch_loss",
          "textangle": 90,
          "x": 0.98,
          "xanchor": "left",
          "xref": "paper",
          "y": 0.88625,
          "yanchor": "middle",
          "yref": "paper"
         }
        ],
        "legend": {
         "title": {
          "text": "variable"
         },
         "tracegroupgap": 0
        },
        "template": {
         "data": {
          "bar": [
           {
            "error_x": {
             "color": "#2a3f5f"
            },
            "error_y": {
             "color": "#2a3f5f"
            },
            "marker": {
             "line": {
              "color": "#E5ECF6",
              "width": 0.5
             },
             "pattern": {
              "fillmode": "overlay",
              "size": 10,
              "solidity": 0.2
             }
            },
            "type": "bar"
           }
          ],
          "barpolar": [
           {
            "marker": {
             "line": {
              "color": "#E5ECF6",
              "width": 0.5
             },
             "pattern": {
              "fillmode": "overlay",
              "size": 10,
              "solidity": 0.2
             }
            },
            "type": "barpolar"
           }
          ],
          "carpet": [
           {
            "aaxis": {
             "endlinecolor": "#2a3f5f",
             "gridcolor": "white",
             "linecolor": "white",
             "minorgridcolor": "white",
             "startlinecolor": "#2a3f5f"
            },
            "baxis": {
             "endlinecolor": "#2a3f5f",
             "gridcolor": "white",
             "linecolor": "white",
             "minorgridcolor": "white",
             "startlinecolor": "#2a3f5f"
            },
            "type": "carpet"
           }
          ],
          "choropleth": [
           {
            "colorbar": {
             "outlinewidth": 0,
             "ticks": ""
            },
            "type": "choropleth"
           }
          ],
          "contour": [
           {
            "colorbar": {
             "outlinewidth": 0,
             "ticks": ""
            },
            "colorscale": [
             [
              0,
              "#0d0887"
             ],
             [
              0.1111111111111111,
              "#46039f"
             ],
             [
              0.2222222222222222,
              "#7201a8"
             ],
             [
              0.3333333333333333,
              "#9c179e"
             ],
             [
              0.4444444444444444,
              "#bd3786"
             ],
             [
              0.5555555555555556,
              "#d8576b"
             ],
             [
              0.6666666666666666,
              "#ed7953"
             ],
             [
              0.7777777777777778,
              "#fb9f3a"
             ],
             [
              0.8888888888888888,
              "#fdca26"
             ],
             [
              1,
              "#f0f921"
             ]
            ],
            "type": "contour"
           }
          ],
          "contourcarpet": [
           {
            "colorbar": {
             "outlinewidth": 0,
             "ticks": ""
            },
            "type": "contourcarpet"
           }
          ],
          "heatmap": [
           {
            "colorbar": {
             "outlinewidth": 0,
             "ticks": ""
            },
            "colorscale": [
             [
              0,
              "#0d0887"
             ],
             [
              0.1111111111111111,
              "#46039f"
             ],
             [
              0.2222222222222222,
              "#7201a8"
             ],
             [
              0.3333333333333333,
              "#9c179e"
             ],
             [
              0.4444444444444444,
              "#bd3786"
             ],
             [
              0.5555555555555556,
              "#d8576b"
             ],
             [
              0.6666666666666666,
              "#ed7953"
             ],
             [
              0.7777777777777778,
              "#fb9f3a"
             ],
             [
              0.8888888888888888,
              "#fdca26"
             ],
             [
              1,
              "#f0f921"
             ]
            ],
            "type": "heatmap"
           }
          ],
          "histogram": [
           {
            "marker": {
             "pattern": {
              "fillmode": "overlay",
              "size": 10,
              "solidity": 0.2
             }
            },
            "type": "histogram"
           }
          ],
          "histogram2d": [
           {
            "colorbar": {
             "outlinewidth": 0,
             "ticks": ""
            },
            "colorscale": [
             [
              0,
              "#0d0887"
             ],
             [
              0.1111111111111111,
              "#46039f"
             ],
             [
              0.2222222222222222,
              "#7201a8"
             ],
             [
              0.3333333333333333,
              "#9c179e"
             ],
             [
              0.4444444444444444,
              "#bd3786"
             ],
             [
              0.5555555555555556,
              "#d8576b"
             ],
             [
              0.6666666666666666,
              "#ed7953"
             ],
             [
              0.7777777777777778,
              "#fb9f3a"
             ],
             [
              0.8888888888888888,
              "#fdca26"
             ],
             [
              1,
              "#f0f921"
             ]
            ],
            "type": "histogram2d"
           }
          ],
          "histogram2dcontour": [
           {
            "colorbar": {
             "outlinewidth": 0,
             "ticks": ""
            },
            "colorscale": [
             [
              0,
              "#0d0887"
             ],
             [
              0.1111111111111111,
              "#46039f"
             ],
             [
              0.2222222222222222,
              "#7201a8"
             ],
             [
              0.3333333333333333,
              "#9c179e"
             ],
             [
              0.4444444444444444,
              "#bd3786"
             ],
             [
              0.5555555555555556,
              "#d8576b"
             ],
             [
              0.6666666666666666,
              "#ed7953"
             ],
             [
              0.7777777777777778,
              "#fb9f3a"
             ],
             [
              0.8888888888888888,
              "#fdca26"
             ],
             [
              1,
              "#f0f921"
             ]
            ],
            "type": "histogram2dcontour"
           }
          ],
          "mesh3d": [
           {
            "colorbar": {
             "outlinewidth": 0,
             "ticks": ""
            },
            "type": "mesh3d"
           }
          ],
          "parcoords": [
           {
            "line": {
             "colorbar": {
              "outlinewidth": 0,
              "ticks": ""
             }
            },
            "type": "parcoords"
           }
          ],
          "pie": [
           {
            "automargin": true,
            "type": "pie"
           }
          ],
          "scatter": [
           {
            "fillpattern": {
             "fillmode": "overlay",
             "size": 10,
             "solidity": 0.2
            },
            "type": "scatter"
           }
          ],
          "scatter3d": [
           {
            "line": {
             "colorbar": {
              "outlinewidth": 0,
              "ticks": ""
             }
            },
            "marker": {
             "colorbar": {
              "outlinewidth": 0,
              "ticks": ""
             }
            },
            "type": "scatter3d"
           }
          ],
          "scattercarpet": [
           {
            "marker": {
             "colorbar": {
              "outlinewidth": 0,
              "ticks": ""
             }
            },
            "type": "scattercarpet"
           }
          ],
          "scattergeo": [
           {
            "marker": {
             "colorbar": {
              "outlinewidth": 0,
              "ticks": ""
             }
            },
            "type": "scattergeo"
           }
          ],
          "scattergl": [
           {
            "marker": {
             "colorbar": {
              "outlinewidth": 0,
              "ticks": ""
             }
            },
            "type": "scattergl"
           }
          ],
          "scattermap": [
           {
            "marker": {
             "colorbar": {
              "outlinewidth": 0,
              "ticks": ""
             }
            },
            "type": "scattermap"
           }
          ],
          "scattermapbox": [
           {
            "marker": {
             "colorbar": {
              "outlinewidth": 0,
              "ticks": ""
             }
            },
            "type": "scattermapbox"
           }
          ],
          "scatterpolar": [
           {
            "marker": {
             "colorbar": {
              "outlinewidth": 0,
              "ticks": ""
             }
            },
            "type": "scatterpolar"
           }
          ],
          "scatterpolargl": [
           {
            "marker": {
             "colorbar": {
              "outlinewidth": 0,
              "ticks": ""
             }
            },
            "type": "scatterpolargl"
           }
          ],
          "scatterternary": [
           {
            "marker": {
             "colorbar": {
              "outlinewidth": 0,
              "ticks": ""
             }
            },
            "type": "scatterternary"
           }
          ],
          "surface": [
           {
            "colorbar": {
             "outlinewidth": 0,
             "ticks": ""
            },
            "colorscale": [
             [
              0,
              "#0d0887"
             ],
             [
              0.1111111111111111,
              "#46039f"
             ],
             [
              0.2222222222222222,
              "#7201a8"
             ],
             [
              0.3333333333333333,
              "#9c179e"
             ],
             [
              0.4444444444444444,
              "#bd3786"
             ],
             [
              0.5555555555555556,
              "#d8576b"
             ],
             [
              0.6666666666666666,
              "#ed7953"
             ],
             [
              0.7777777777777778,
              "#fb9f3a"
             ],
             [
              0.8888888888888888,
              "#fdca26"
             ],
             [
              1,
              "#f0f921"
             ]
            ],
            "type": "surface"
           }
          ],
          "table": [
           {
            "cells": {
             "fill": {
              "color": "#EBF0F8"
             },
             "line": {
              "color": "white"
             }
            },
            "header": {
             "fill": {
              "color": "#C8D4E3"
             },
             "line": {
              "color": "white"
             }
            },
            "type": "table"
           }
          ]
         },
         "layout": {
          "annotationdefaults": {
           "arrowcolor": "#2a3f5f",
           "arrowhead": 0,
           "arrowwidth": 1
          },
          "autotypenumbers": "strict",
          "coloraxis": {
           "colorbar": {
            "outlinewidth": 0,
            "ticks": ""
           }
          },
          "colorscale": {
           "diverging": [
            [
             0,
             "#8e0152"
            ],
            [
             0.1,
             "#c51b7d"
            ],
            [
             0.2,
             "#de77ae"
            ],
            [
             0.3,
             "#f1b6da"
            ],
            [
             0.4,
             "#fde0ef"
            ],
            [
             0.5,
             "#f7f7f7"
            ],
            [
             0.6,
             "#e6f5d0"
            ],
            [
             0.7,
             "#b8e186"
            ],
            [
             0.8,
             "#7fbc41"
            ],
            [
             0.9,
             "#4d9221"
            ],
            [
             1,
             "#276419"
            ]
           ],
           "sequential": [
            [
             0,
             "#0d0887"
            ],
            [
             0.1111111111111111,
             "#46039f"
            ],
            [
             0.2222222222222222,
             "#7201a8"
            ],
            [
             0.3333333333333333,
             "#9c179e"
            ],
            [
             0.4444444444444444,
             "#bd3786"
            ],
            [
             0.5555555555555556,
             "#d8576b"
            ],
            [
             0.6666666666666666,
             "#ed7953"
            ],
            [
             0.7777777777777778,
             "#fb9f3a"
            ],
            [
             0.8888888888888888,
             "#fdca26"
            ],
            [
             1,
             "#f0f921"
            ]
           ],
           "sequentialminus": [
            [
             0,
             "#0d0887"
            ],
            [
             0.1111111111111111,
             "#46039f"
            ],
            [
             0.2222222222222222,
             "#7201a8"
            ],
            [
             0.3333333333333333,
             "#9c179e"
            ],
            [
             0.4444444444444444,
             "#bd3786"
            ],
            [
             0.5555555555555556,
             "#d8576b"
            ],
            [
             0.6666666666666666,
             "#ed7953"
            ],
            [
             0.7777777777777778,
             "#fb9f3a"
            ],
            [
             0.8888888888888888,
             "#fdca26"
            ],
            [
             1,
             "#f0f921"
            ]
           ]
          },
          "colorway": [
           "#636efa",
           "#EF553B",
           "#00cc96",
           "#ab63fa",
           "#FFA15A",
           "#19d3f3",
           "#FF6692",
           "#B6E880",
           "#FF97FF",
           "#FECB52"
          ],
          "font": {
           "color": "#2a3f5f"
          },
          "geo": {
           "bgcolor": "white",
           "lakecolor": "white",
           "landcolor": "#E5ECF6",
           "showlakes": true,
           "showland": true,
           "subunitcolor": "white"
          },
          "hoverlabel": {
           "align": "left"
          },
          "hovermode": "closest",
          "mapbox": {
           "style": "light"
          },
          "paper_bgcolor": "white",
          "plot_bgcolor": "#E5ECF6",
          "polar": {
           "angularaxis": {
            "gridcolor": "white",
            "linecolor": "white",
            "ticks": ""
           },
           "bgcolor": "#E5ECF6",
           "radialaxis": {
            "gridcolor": "white",
            "linecolor": "white",
            "ticks": ""
           }
          },
          "scene": {
           "xaxis": {
            "backgroundcolor": "#E5ECF6",
            "gridcolor": "white",
            "gridwidth": 2,
            "linecolor": "white",
            "showbackground": true,
            "ticks": "",
            "zerolinecolor": "white"
           },
           "yaxis": {
            "backgroundcolor": "#E5ECF6",
            "gridcolor": "white",
            "gridwidth": 2,
            "linecolor": "white",
            "showbackground": true,
            "ticks": "",
            "zerolinecolor": "white"
           },
           "zaxis": {
            "backgroundcolor": "#E5ECF6",
            "gridcolor": "white",
            "gridwidth": 2,
            "linecolor": "white",
            "showbackground": true,
            "ticks": "",
            "zerolinecolor": "white"
           }
          },
          "shapedefaults": {
           "line": {
            "color": "#2a3f5f"
           }
          },
          "ternary": {
           "aaxis": {
            "gridcolor": "white",
            "linecolor": "white",
            "ticks": ""
           },
           "baxis": {
            "gridcolor": "white",
            "linecolor": "white",
            "ticks": ""
           },
           "bgcolor": "#E5ECF6",
           "caxis": {
            "gridcolor": "white",
            "linecolor": "white",
            "ticks": ""
           }
          },
          "title": {
           "x": 0.05
          },
          "xaxis": {
           "automargin": true,
           "gridcolor": "white",
           "linecolor": "white",
           "ticks": "",
           "title": {
            "standoff": 15
           },
           "zerolinecolor": "white",
           "zerolinewidth": 2
          },
          "yaxis": {
           "automargin": true,
           "gridcolor": "white",
           "linecolor": "white",
           "ticks": "",
           "title": {
            "standoff": 15
           },
           "zerolinecolor": "white",
           "zerolinewidth": 2
          }
         }
        },
        "title": {
         "text": "epoch metrics"
        },
        "xaxis": {
         "anchor": "y",
         "domain": [
          0,
          0.98
         ],
         "title": {
          "text": "epoch"
         }
        },
        "xaxis2": {
         "anchor": "y2",
         "domain": [
          0,
          0.98
         ],
         "matches": "x",
         "showticklabels": false
        },
        "xaxis3": {
         "anchor": "y3",
         "domain": [
          0,
          0.98
         ],
         "matches": "x",
         "showticklabels": false
        },
        "xaxis4": {
         "anchor": "y4",
         "domain": [
          0,
          0.98
         ],
         "matches": "x",
         "showticklabels": false
        },
        "yaxis": {
         "anchor": "x",
         "domain": [
          0,
          0.2275
         ],
         "title": {
          "text": "value"
         }
        },
        "yaxis2": {
         "anchor": "x2",
         "domain": [
          0.2575,
          0.485
         ],
         "title": {
          "text": "value"
         }
        },
        "yaxis3": {
         "anchor": "x3",
         "domain": [
          0.515,
          0.7425
         ],
         "title": {
          "text": "value"
         }
        },
        "yaxis4": {
         "anchor": "x4",
         "domain": [
          0.7725,
          1
         ],
         "title": {
          "text": "value"
         }
        }
       }
      }
     },
     "metadata": {},
     "output_type": "display_data"
    },
    {
     "name": "stdout",
     "output_type": "stream",
     "text": [
      "=========================\n",
      "training: 3\n"
     ]
    },
    {
     "data": {
      "application/vnd.jupyter.widget-view+json": {
       "model_id": "693ac80a91514abca4d68a1357e4e74e",
       "version_major": 2,
       "version_minor": 0
      },
      "text/plain": [
       "Output()"
      ]
     },
     "metadata": {},
     "output_type": "display_data"
    }
   ],
   "source": [
    "NB_CROSS_VALIDATIONS = 5\n",
    "fold_patterns = join(dataset_path, \"preprocessed_dataset\", \"fold*\")\n",
    "fold_pths = glob(fold_patterns)[:NB_CROSS_VALIDATIONS]\n",
    "all_training_metrics = {}\n",
    "\n",
    "for fold_idx, fold_pth in enumerate(fold_pths):\n",
    "    print(\"training:\", fold_idx + 1)\n",
    "    train_dataset = CMIDataset(fold_pth, \"train\")\n",
    "    train_data_loader = DL(train_dataset, BATCH_SIZE, shuffle=True)\n",
    "    validation_dataset = CMIDataset(fold_pth, \"validation\")\n",
    "    validation_data_loader = DL(validation_dataset, BATCH_SIZE, shuffle=False)\n",
    "    _, training_metrics, _ = mk_model_and_fit(train_data_loader, validation_data_loader)\n",
    "    all_training_metrics[\"fold_\" + str(fold_idx)] = training_metrics\n",
    "    plt_validation_split_training_metrics(training_metrics)\n",
    "    print(\"=========================\")\n",
    "\n",
    "all_training_metrics = pd.concat(all_training_metrics)"
   ]
  },
  {
   "cell_type": "code",
   "execution_count": null,
   "id": "0e54c23c",
   "metadata": {},
   "outputs": [
    {
     "ename": "NameError",
     "evalue": "name 'all_training_metrics' is not defined",
     "output_type": "error",
     "traceback": [
      "\u001b[31m---------------------------------------------------------------------------\u001b[39m",
      "\u001b[31mNameError\u001b[39m                                 Traceback (most recent call last)",
      "\u001b[36mCell\u001b[39m\u001b[36m \u001b[39m\u001b[32mIn[11]\u001b[39m\u001b[32m, line 3\u001b[39m\n\u001b[32m      1\u001b[39m \u001b[38;5;66;03m# Depth 4\u001b[39;00m\n\u001b[32m      2\u001b[39m (\n\u001b[32m----> \u001b[39m\u001b[32m3\u001b[39m     \u001b[43mall_training_metrics\u001b[49m\n\u001b[32m      4\u001b[39m     .loc[:, [\u001b[33m\"\u001b[39m\u001b[33mtrain_epoch_loss\u001b[39m\u001b[33m\"\u001b[39m, \u001b[33m\"\u001b[39m\u001b[33mtrain_epoch_accuracy\u001b[39m\u001b[33m\"\u001b[39m, \u001b[33m\"\u001b[39m\u001b[33mvalidation_loss\u001b[39m\u001b[33m\"\u001b[39m, \u001b[33m\"\u001b[39m\u001b[33mvalidation_accuracy\u001b[39m\u001b[33m\"\u001b[39m]]\n\u001b[32m      5\u001b[39m     .agg([\u001b[33m\"\u001b[39m\u001b[33mmean\u001b[39m\u001b[33m\"\u001b[39m, \u001b[33m\"\u001b[39m\u001b[33mstd\u001b[39m\u001b[33m\"\u001b[39m])\n\u001b[32m      6\u001b[39m )\n",
      "\u001b[31mNameError\u001b[39m: name 'all_training_metrics' is not defined"
     ]
    }
   ],
   "source": [
    "(\n",
    "    all_training_metrics\n",
    "    .loc[:, [\"train_epoch_loss\", \"train_epoch_accuracy\", \"validation_loss\", \"validation_accuracy\"]]\n",
    "    .agg([\"mean\", \"std\"])\n",
    ")"
   ]
  },
  {
   "cell_type": "markdown",
   "id": "aab08b93",
   "metadata": {},
   "source": [
    "## Full dataset training"
   ]
  },
  {
   "cell_type": "code",
   "execution_count": null,
   "id": "e6a350f8",
   "metadata": {},
   "outputs": [
    {
     "data": {
      "application/vnd.jupyter.widget-view+json": {
       "model_id": "edb7afbc878b493ca25704bcacc3a93a",
       "version_major": 2,
       "version_minor": 0
      },
      "text/plain": [
       "Output()"
      ]
     },
     "metadata": {},
     "output_type": "display_data"
    },
    {
     "data": {
      "text/html": [
       "<pre style=\"white-space:pre;overflow-x:auto;line-height:normal;font-family:Menlo,'DejaVu Sans Mono',consolas,'Courier New',monospace\"></pre>\n"
      ],
      "text/plain": []
     },
     "metadata": {},
     "output_type": "display_data"
    },
    {
     "data": {
      "application/vnd.plotly.v1+json": {
       "config": {
        "plotlyServerURL": "https://plot.ly"
       },
       "data": [
        {
         "hovertemplate": "variable=batch_train_loss<br>step=%{x}<br>value=%{y}<extra></extra>",
         "legendgroup": "",
         "marker": {
          "color": "#636efa",
          "symbol": "circle"
         },
         "mode": "markers",
         "name": "",
         "showlegend": false,
         "type": "scattergl",
         "x": {
          "bdata": "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",
          "dtype": "i2"
         },
         "xaxis": "x2",
         "y": {
          "bdata": "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",
          "dtype": "f8"
         },
         "yaxis": "y2"
        },
        {
         "hovertemplate": "<b>Exponentially Weighted mean trendline</b><br><br>variable=batch_train_loss<br>step=%{x}<br>value=%{y} <b>(trend)</b><extra></extra>",
         "legendgroup": "",
         "line": {
          "color": "red"
         },
         "marker": {
          "color": "#636efa",
          "symbol": "circle"
         },
         "mode": "lines",
         "name": "",
         "showlegend": false,
         "type": "scattergl",
         "x": {
          "bdata": "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",
          "dtype": "i2"
         },
         "xaxis": "x2",
         "y": {
          "bdata": "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",
          "dtype": "f8"
         },
         "yaxis": "y2"
        },
        {
         "hovertemplate": "variable=batch_accuracy<br>step=%{x}<br>value=%{y}<extra></extra>",
         "legendgroup": "",
         "marker": {
          "color": "#636efa",
          "symbol": "circle"
         },
         "mode": "markers",
         "name": "",
         "showlegend": false,
         "type": "scattergl",
         "x": {
          "bdata": "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",
          "dtype": "i2"
         },
         "xaxis": "x",
         "y": {
          "bdata": "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",
          "dtype": "f8"
         },
         "yaxis": "y"
        },
        {
         "hovertemplate": "<b>Exponentially Weighted mean trendline</b><br><br>variable=batch_accuracy<br>step=%{x}<br>value=%{y} <b>(trend)</b><extra></extra>",
         "legendgroup": "",
         "line": {
          "color": "red"
         },
         "marker": {
          "color": "#636efa",
          "symbol": "circle"
         },
         "mode": "lines",
         "name": "",
         "showlegend": false,
         "type": "scattergl",
         "x": {
          "bdata": "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",
          "dtype": "i2"
         },
         "xaxis": "x",
         "y": {
          "bdata": "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",
          "dtype": "f8"
         },
         "yaxis": "y"
        }
       ],
       "layout": {
        "annotations": [
         {
          "font": {},
          "showarrow": false,
          "text": "variable=batch_accuracy",
          "textangle": 90,
          "x": 0.98,
          "xanchor": "left",
          "xref": "paper",
          "y": 0.2425,
          "yanchor": "middle",
          "yref": "paper"
         },
         {
          "font": {},
          "showarrow": false,
          "text": "variable=batch_train_loss",
          "textangle": 90,
          "x": 0.98,
          "xanchor": "left",
          "xref": "paper",
          "y": 0.7575000000000001,
          "yanchor": "middle",
          "yref": "paper"
         }
        ],
        "legend": {
         "tracegroupgap": 0
        },
        "template": {
         "data": {
          "bar": [
           {
            "error_x": {
             "color": "#2a3f5f"
            },
            "error_y": {
             "color": "#2a3f5f"
            },
            "marker": {
             "line": {
              "color": "#E5ECF6",
              "width": 0.5
             },
             "pattern": {
              "fillmode": "overlay",
              "size": 10,
              "solidity": 0.2
             }
            },
            "type": "bar"
           }
          ],
          "barpolar": [
           {
            "marker": {
             "line": {
              "color": "#E5ECF6",
              "width": 0.5
             },
             "pattern": {
              "fillmode": "overlay",
              "size": 10,
              "solidity": 0.2
             }
            },
            "type": "barpolar"
           }
          ],
          "carpet": [
           {
            "aaxis": {
             "endlinecolor": "#2a3f5f",
             "gridcolor": "white",
             "linecolor": "white",
             "minorgridcolor": "white",
             "startlinecolor": "#2a3f5f"
            },
            "baxis": {
             "endlinecolor": "#2a3f5f",
             "gridcolor": "white",
             "linecolor": "white",
             "minorgridcolor": "white",
             "startlinecolor": "#2a3f5f"
            },
            "type": "carpet"
           }
          ],
          "choropleth": [
           {
            "colorbar": {
             "outlinewidth": 0,
             "ticks": ""
            },
            "type": "choropleth"
           }
          ],
          "contour": [
           {
            "colorbar": {
             "outlinewidth": 0,
             "ticks": ""
            },
            "colorscale": [
             [
              0,
              "#0d0887"
             ],
             [
              0.1111111111111111,
              "#46039f"
             ],
             [
              0.2222222222222222,
              "#7201a8"
             ],
             [
              0.3333333333333333,
              "#9c179e"
             ],
             [
              0.4444444444444444,
              "#bd3786"
             ],
             [
              0.5555555555555556,
              "#d8576b"
             ],
             [
              0.6666666666666666,
              "#ed7953"
             ],
             [
              0.7777777777777778,
              "#fb9f3a"
             ],
             [
              0.8888888888888888,
              "#fdca26"
             ],
             [
              1,
              "#f0f921"
             ]
            ],
            "type": "contour"
           }
          ],
          "contourcarpet": [
           {
            "colorbar": {
             "outlinewidth": 0,
             "ticks": ""
            },
            "type": "contourcarpet"
           }
          ],
          "heatmap": [
           {
            "colorbar": {
             "outlinewidth": 0,
             "ticks": ""
            },
            "colorscale": [
             [
              0,
              "#0d0887"
             ],
             [
              0.1111111111111111,
              "#46039f"
             ],
             [
              0.2222222222222222,
              "#7201a8"
             ],
             [
              0.3333333333333333,
              "#9c179e"
             ],
             [
              0.4444444444444444,
              "#bd3786"
             ],
             [
              0.5555555555555556,
              "#d8576b"
             ],
             [
              0.6666666666666666,
              "#ed7953"
             ],
             [
              0.7777777777777778,
              "#fb9f3a"
             ],
             [
              0.8888888888888888,
              "#fdca26"
             ],
             [
              1,
              "#f0f921"
             ]
            ],
            "type": "heatmap"
           }
          ],
          "histogram": [
           {
            "marker": {
             "pattern": {
              "fillmode": "overlay",
              "size": 10,
              "solidity": 0.2
             }
            },
            "type": "histogram"
           }
          ],
          "histogram2d": [
           {
            "colorbar": {
             "outlinewidth": 0,
             "ticks": ""
            },
            "colorscale": [
             [
              0,
              "#0d0887"
             ],
             [
              0.1111111111111111,
              "#46039f"
             ],
             [
              0.2222222222222222,
              "#7201a8"
             ],
             [
              0.3333333333333333,
              "#9c179e"
             ],
             [
              0.4444444444444444,
              "#bd3786"
             ],
             [
              0.5555555555555556,
              "#d8576b"
             ],
             [
              0.6666666666666666,
              "#ed7953"
             ],
             [
              0.7777777777777778,
              "#fb9f3a"
             ],
             [
              0.8888888888888888,
              "#fdca26"
             ],
             [
              1,
              "#f0f921"
             ]
            ],
            "type": "histogram2d"
           }
          ],
          "histogram2dcontour": [
           {
            "colorbar": {
             "outlinewidth": 0,
             "ticks": ""
            },
            "colorscale": [
             [
              0,
              "#0d0887"
             ],
             [
              0.1111111111111111,
              "#46039f"
             ],
             [
              0.2222222222222222,
              "#7201a8"
             ],
             [
              0.3333333333333333,
              "#9c179e"
             ],
             [
              0.4444444444444444,
              "#bd3786"
             ],
             [
              0.5555555555555556,
              "#d8576b"
             ],
             [
              0.6666666666666666,
              "#ed7953"
             ],
             [
              0.7777777777777778,
              "#fb9f3a"
             ],
             [
              0.8888888888888888,
              "#fdca26"
             ],
             [
              1,
              "#f0f921"
             ]
            ],
            "type": "histogram2dcontour"
           }
          ],
          "mesh3d": [
           {
            "colorbar": {
             "outlinewidth": 0,
             "ticks": ""
            },
            "type": "mesh3d"
           }
          ],
          "parcoords": [
           {
            "line": {
             "colorbar": {
              "outlinewidth": 0,
              "ticks": ""
             }
            },
            "type": "parcoords"
           }
          ],
          "pie": [
           {
            "automargin": true,
            "type": "pie"
           }
          ],
          "scatter": [
           {
            "fillpattern": {
             "fillmode": "overlay",
             "size": 10,
             "solidity": 0.2
            },
            "type": "scatter"
           }
          ],
          "scatter3d": [
           {
            "line": {
             "colorbar": {
              "outlinewidth": 0,
              "ticks": ""
             }
            },
            "marker": {
             "colorbar": {
              "outlinewidth": 0,
              "ticks": ""
             }
            },
            "type": "scatter3d"
           }
          ],
          "scattercarpet": [
           {
            "marker": {
             "colorbar": {
              "outlinewidth": 0,
              "ticks": ""
             }
            },
            "type": "scattercarpet"
           }
          ],
          "scattergeo": [
           {
            "marker": {
             "colorbar": {
              "outlinewidth": 0,
              "ticks": ""
             }
            },
            "type": "scattergeo"
           }
          ],
          "scattergl": [
           {
            "marker": {
             "colorbar": {
              "outlinewidth": 0,
              "ticks": ""
             }
            },
            "type": "scattergl"
           }
          ],
          "scattermap": [
           {
            "marker": {
             "colorbar": {
              "outlinewidth": 0,
              "ticks": ""
             }
            },
            "type": "scattermap"
           }
          ],
          "scattermapbox": [
           {
            "marker": {
             "colorbar": {
              "outlinewidth": 0,
              "ticks": ""
             }
            },
            "type": "scattermapbox"
           }
          ],
          "scatterpolar": [
           {
            "marker": {
             "colorbar": {
              "outlinewidth": 0,
              "ticks": ""
             }
            },
            "type": "scatterpolar"
           }
          ],
          "scatterpolargl": [
           {
            "marker": {
             "colorbar": {
              "outlinewidth": 0,
              "ticks": ""
             }
            },
            "type": "scatterpolargl"
           }
          ],
          "scatterternary": [
           {
            "marker": {
             "colorbar": {
              "outlinewidth": 0,
              "ticks": ""
             }
            },
            "type": "scatterternary"
           }
          ],
          "surface": [
           {
            "colorbar": {
             "outlinewidth": 0,
             "ticks": ""
            },
            "colorscale": [
             [
              0,
              "#0d0887"
             ],
             [
              0.1111111111111111,
              "#46039f"
             ],
             [
              0.2222222222222222,
              "#7201a8"
             ],
             [
              0.3333333333333333,
              "#9c179e"
             ],
             [
              0.4444444444444444,
              "#bd3786"
             ],
             [
              0.5555555555555556,
              "#d8576b"
             ],
             [
              0.6666666666666666,
              "#ed7953"
             ],
             [
              0.7777777777777778,
              "#fb9f3a"
             ],
             [
              0.8888888888888888,
              "#fdca26"
             ],
             [
              1,
              "#f0f921"
             ]
            ],
            "type": "surface"
           }
          ],
          "table": [
           {
            "cells": {
             "fill": {
              "color": "#EBF0F8"
             },
             "line": {
              "color": "white"
             }
            },
            "header": {
             "fill": {
              "color": "#C8D4E3"
             },
             "line": {
              "color": "white"
             }
            },
            "type": "table"
           }
          ]
         },
         "layout": {
          "annotationdefaults": {
           "arrowcolor": "#2a3f5f",
           "arrowhead": 0,
           "arrowwidth": 1
          },
          "autotypenumbers": "strict",
          "coloraxis": {
           "colorbar": {
            "outlinewidth": 0,
            "ticks": ""
           }
          },
          "colorscale": {
           "diverging": [
            [
             0,
             "#8e0152"
            ],
            [
             0.1,
             "#c51b7d"
            ],
            [
             0.2,
             "#de77ae"
            ],
            [
             0.3,
             "#f1b6da"
            ],
            [
             0.4,
             "#fde0ef"
            ],
            [
             0.5,
             "#f7f7f7"
            ],
            [
             0.6,
             "#e6f5d0"
            ],
            [
             0.7,
             "#b8e186"
            ],
            [
             0.8,
             "#7fbc41"
            ],
            [
             0.9,
             "#4d9221"
            ],
            [
             1,
             "#276419"
            ]
           ],
           "sequential": [
            [
             0,
             "#0d0887"
            ],
            [
             0.1111111111111111,
             "#46039f"
            ],
            [
             0.2222222222222222,
             "#7201a8"
            ],
            [
             0.3333333333333333,
             "#9c179e"
            ],
            [
             0.4444444444444444,
             "#bd3786"
            ],
            [
             0.5555555555555556,
             "#d8576b"
            ],
            [
             0.6666666666666666,
             "#ed7953"
            ],
            [
             0.7777777777777778,
             "#fb9f3a"
            ],
            [
             0.8888888888888888,
             "#fdca26"
            ],
            [
             1,
             "#f0f921"
            ]
           ],
           "sequentialminus": [
            [
             0,
             "#0d0887"
            ],
            [
             0.1111111111111111,
             "#46039f"
            ],
            [
             0.2222222222222222,
             "#7201a8"
            ],
            [
             0.3333333333333333,
             "#9c179e"
            ],
            [
             0.4444444444444444,
             "#bd3786"
            ],
            [
             0.5555555555555556,
             "#d8576b"
            ],
            [
             0.6666666666666666,
             "#ed7953"
            ],
            [
             0.7777777777777778,
             "#fb9f3a"
            ],
            [
             0.8888888888888888,
             "#fdca26"
            ],
            [
             1,
             "#f0f921"
            ]
           ]
          },
          "colorway": [
           "#636efa",
           "#EF553B",
           "#00cc96",
           "#ab63fa",
           "#FFA15A",
           "#19d3f3",
           "#FF6692",
           "#B6E880",
           "#FF97FF",
           "#FECB52"
          ],
          "font": {
           "color": "#2a3f5f"
          },
          "geo": {
           "bgcolor": "white",
           "lakecolor": "white",
           "landcolor": "#E5ECF6",
           "showlakes": true,
           "showland": true,
           "subunitcolor": "white"
          },
          "hoverlabel": {
           "align": "left"
          },
          "hovermode": "closest",
          "mapbox": {
           "style": "light"
          },
          "paper_bgcolor": "white",
          "plot_bgcolor": "#E5ECF6",
          "polar": {
           "angularaxis": {
            "gridcolor": "white",
            "linecolor": "white",
            "ticks": ""
           },
           "bgcolor": "#E5ECF6",
           "radialaxis": {
            "gridcolor": "white",
            "linecolor": "white",
            "ticks": ""
           }
          },
          "scene": {
           "xaxis": {
            "backgroundcolor": "#E5ECF6",
            "gridcolor": "white",
            "gridwidth": 2,
            "linecolor": "white",
            "showbackground": true,
            "ticks": "",
            "zerolinecolor": "white"
           },
           "yaxis": {
            "backgroundcolor": "#E5ECF6",
            "gridcolor": "white",
            "gridwidth": 2,
            "linecolor": "white",
            "showbackground": true,
            "ticks": "",
            "zerolinecolor": "white"
           },
           "zaxis": {
            "backgroundcolor": "#E5ECF6",
            "gridcolor": "white",
            "gridwidth": 2,
            "linecolor": "white",
            "showbackground": true,
            "ticks": "",
            "zerolinecolor": "white"
           }
          },
          "shapedefaults": {
           "line": {
            "color": "#2a3f5f"
           }
          },
          "ternary": {
           "aaxis": {
            "gridcolor": "white",
            "linecolor": "white",
            "ticks": ""
           },
           "baxis": {
            "gridcolor": "white",
            "linecolor": "white",
            "ticks": ""
           },
           "bgcolor": "#E5ECF6",
           "caxis": {
            "gridcolor": "white",
            "linecolor": "white",
            "ticks": ""
           }
          },
          "title": {
           "x": 0.05
          },
          "xaxis": {
           "automargin": true,
           "gridcolor": "white",
           "linecolor": "white",
           "ticks": "",
           "title": {
            "standoff": 15
           },
           "zerolinecolor": "white",
           "zerolinewidth": 2
          },
          "yaxis": {
           "automargin": true,
           "gridcolor": "white",
           "linecolor": "white",
           "ticks": "",
           "title": {
            "standoff": 15
           },
           "zerolinecolor": "white",
           "zerolinewidth": 2
          }
         }
        },
        "title": {
         "text": "batch metrics"
        },
        "xaxis": {
         "anchor": "y",
         "domain": [
          0,
          0.98
         ],
         "title": {
          "text": "step"
         }
        },
        "xaxis2": {
         "anchor": "y2",
         "domain": [
          0,
          0.98
         ],
         "matches": "x",
         "showticklabels": false
        },
        "yaxis": {
         "anchor": "x",
         "domain": [
          0,
          0.485
         ],
         "title": {
          "text": "value"
         }
        },
        "yaxis2": {
         "anchor": "x2",
         "domain": [
          0.515,
          1
         ],
         "title": {
          "text": "value"
         }
        }
       }
      }
     },
     "metadata": {},
     "output_type": "display_data"
    }
   ],
   "source": [
    "full_dataset = CMIDataset(\"full_dataset\")\n",
    "full_dataset_loader = DL(full_dataset, BATCH_SIZE, shuffle=True)\n",
    "model, full_train_metrics, checkpoints = mk_model_and_fit(full_dataset_loader)\n",
    "plt_train_split_training_metrics(full_train_metrics)"
   ]
  },
  {
   "cell_type": "markdown",
   "id": "f0081b6e",
   "metadata": {},
   "source": [
    "## Model upload"
   ]
  },
  {
   "cell_type": "code",
   "execution_count": null,
   "id": "87578050",
   "metadata": {},
   "outputs": [
    {
     "name": "stdout",
     "output_type": "stream",
     "text": [
      "Kaggle credentials successfully validated.\n",
      "Uploading Model https://www.kaggle.com/models/mauroabidalcarrer/cmi-resnet/pyTorch/16-07-2025-00-38 ...\n"
     ]
    },
    {
     "ename": "BackendError",
     "evalue": "Please upload at least one file",
     "output_type": "error",
     "traceback": [
      "\u001b[31m---------------------------------------------------------------------------\u001b[39m",
      "\u001b[31mBackendError\u001b[39m                              Traceback (most recent call last)",
      "\u001b[36mCell\u001b[39m\u001b[36m \u001b[39m\u001b[32mIn[30]\u001b[39m\u001b[32m, line 3\u001b[39m\n\u001b[32m      1\u001b[39m handle = \u001b[33mf\u001b[39m\u001b[33m\"\u001b[39m\u001b[38;5;132;01m{\u001b[39;00mwhoami()[\u001b[33m'\u001b[39m\u001b[33musername\u001b[39m\u001b[33m'\u001b[39m]\u001b[38;5;132;01m}\u001b[39;00m\u001b[33m/cmi-resnet/pyTorch/\u001b[39m\u001b[38;5;132;01m{\u001b[39;00mmk_date_now_str().replace(\u001b[33m'\u001b[39m\u001b[33m_\u001b[39m\u001b[33m'\u001b[39m,\u001b[38;5;250m \u001b[39m\u001b[33m'\u001b[39m\u001b[33m-\u001b[39m\u001b[33m'\u001b[39m)\u001b[38;5;132;01m}\u001b[39;00m\u001b[33m\"\u001b[39m\n\u001b[32m      2\u001b[39m model_path = realpath(join(checkpoints, \u001b[33m\"\u001b[39m\u001b[33mbest_checkpoint.pth\u001b[39m\u001b[33m\"\u001b[39m))\n\u001b[32m----> \u001b[39m\u001b[32m3\u001b[39m \u001b[43mmodel_upload\u001b[49m\u001b[43m(\u001b[49m\u001b[43mhandle\u001b[49m\u001b[43m,\u001b[49m\u001b[43m \u001b[49m\u001b[43mmodel_path\u001b[49m\u001b[43m)\u001b[49m\n",
      "\u001b[36mFile \u001b[39m\u001b[32m~/miniconda3/envs/CMI/lib/python3.11/site-packages/kagglehub/models.py:94\u001b[39m, in \u001b[36mmodel_upload\u001b[39m\u001b[34m(handle, local_model_dir, license_name, version_notes, ignore_patterns, sigstore)\u001b[39m\n\u001b[32m     87\u001b[39m \u001b[38;5;66;03m# Upload the model files to GCS\u001b[39;00m\n\u001b[32m     88\u001b[39m tokens = upload_files_and_directories(\n\u001b[32m     89\u001b[39m     local_model_dir,\n\u001b[32m     90\u001b[39m     item_type=\u001b[33m\"\u001b[39m\u001b[33mmodel\u001b[39m\u001b[33m\"\u001b[39m,\n\u001b[32m     91\u001b[39m     ignore_patterns=normalize_patterns(default=DEFAULT_IGNORE_PATTERNS, additional=ignore_patterns),\n\u001b[32m     92\u001b[39m )\n\u001b[32m---> \u001b[39m\u001b[32m94\u001b[39m \u001b[43mcreate_model_instance_or_version\u001b[49m\u001b[43m(\u001b[49m\u001b[43mh\u001b[49m\u001b[43m,\u001b[49m\u001b[43m \u001b[49m\u001b[43mtokens\u001b[49m\u001b[43m,\u001b[49m\u001b[43m \u001b[49m\u001b[43mlicense_name\u001b[49m\u001b[43m,\u001b[49m\u001b[43m \u001b[49m\u001b[43mversion_notes\u001b[49m\u001b[43m,\u001b[49m\u001b[43m \u001b[49m\u001b[43msigstore\u001b[49m\u001b[43m=\u001b[49m\u001b[43msigstore\u001b[49m\u001b[43m)\u001b[49m\n",
      "\u001b[36mFile \u001b[39m\u001b[32m~/miniconda3/envs/CMI/lib/python3.11/site-packages/kagglehub/models_helpers.py:82\u001b[39m, in \u001b[36mcreate_model_instance_or_version\u001b[39m\u001b[34m(model_handle, files, license_name, version_notes, sigstore)\u001b[39m\n\u001b[32m     80\u001b[39m     _create_model_instance_version(model_handle, files, version_notes, sigstore=sigstore)\n\u001b[32m     81\u001b[39m \u001b[38;5;28;01melse\u001b[39;00m:\n\u001b[32m---> \u001b[39m\u001b[32m82\u001b[39m     \u001b[38;5;28;01mraise\u001b[39;00m (e)\n",
      "\u001b[36mFile \u001b[39m\u001b[32m~/miniconda3/envs/CMI/lib/python3.11/site-packages/kagglehub/models_helpers.py:76\u001b[39m, in \u001b[36mcreate_model_instance_or_version\u001b[39m\u001b[34m(model_handle, files, license_name, version_notes, sigstore)\u001b[39m\n\u001b[32m     67\u001b[39m \u001b[38;5;28;01mdef\u001b[39;00m\u001b[38;5;250m \u001b[39m\u001b[34mcreate_model_instance_or_version\u001b[39m(\n\u001b[32m     68\u001b[39m     model_handle: ModelHandle,\n\u001b[32m     69\u001b[39m     files: UploadDirectoryInfo,\n\u001b[32m   (...)\u001b[39m\u001b[32m     73\u001b[39m     sigstore: Optional[\u001b[38;5;28mbool\u001b[39m] = \u001b[38;5;28;01mFalse\u001b[39;00m,\n\u001b[32m     74\u001b[39m ) -> \u001b[38;5;28;01mNone\u001b[39;00m:\n\u001b[32m     75\u001b[39m     \u001b[38;5;28;01mtry\u001b[39;00m:\n\u001b[32m---> \u001b[39m\u001b[32m76\u001b[39m         \u001b[43m_create_model_instance\u001b[49m\u001b[43m(\u001b[49m\u001b[43mmodel_handle\u001b[49m\u001b[43m,\u001b[49m\u001b[43m \u001b[49m\u001b[43mfiles\u001b[49m\u001b[43m,\u001b[49m\u001b[43m \u001b[49m\u001b[43mlicense_name\u001b[49m\u001b[43m,\u001b[49m\u001b[43m \u001b[49m\u001b[43msigstore\u001b[49m\u001b[43m=\u001b[49m\u001b[43msigstore\u001b[49m\u001b[43m)\u001b[49m\n\u001b[32m     77\u001b[39m     \u001b[38;5;28;01mexcept\u001b[39;00m BackendError \u001b[38;5;28;01mas\u001b[39;00m e:\n\u001b[32m     78\u001b[39m         \u001b[38;5;28;01mif\u001b[39;00m e.error_code == HTTPStatus.CONFLICT:\n\u001b[32m     79\u001b[39m             \u001b[38;5;66;03m# Instance already exist, creating a new version instead.\u001b[39;00m\n",
      "\u001b[36mFile \u001b[39m\u001b[32m~/miniconda3/envs/CMI/lib/python3.11/site-packages/kagglehub/models_helpers.py:39\u001b[39m, in \u001b[36m_create_model_instance\u001b[39m\u001b[34m(model_handle, files_and_directories, license_name, sigstore)\u001b[39m\n\u001b[32m     36\u001b[39m     data[\u001b[33m\"\u001b[39m\u001b[33mlicenseName\u001b[39m\u001b[33m\"\u001b[39m] = license_name\n\u001b[32m     38\u001b[39m api_client = KaggleApiV1Client()\n\u001b[32m---> \u001b[39m\u001b[32m39\u001b[39m \u001b[43mapi_client\u001b[49m\u001b[43m.\u001b[49m\u001b[43mpost\u001b[49m\u001b[43m(\u001b[49m\u001b[33;43mf\u001b[39;49m\u001b[33;43m\"\u001b[39;49m\u001b[33;43m/models/\u001b[39;49m\u001b[38;5;132;43;01m{\u001b[39;49;00m\u001b[43mmodel_handle\u001b[49m\u001b[43m.\u001b[49m\u001b[43mowner\u001b[49m\u001b[38;5;132;43;01m}\u001b[39;49;00m\u001b[33;43m/\u001b[39;49m\u001b[38;5;132;43;01m{\u001b[39;49;00m\u001b[43mmodel_handle\u001b[49m\u001b[43m.\u001b[49m\u001b[43mmodel\u001b[49m\u001b[38;5;132;43;01m}\u001b[39;49;00m\u001b[33;43m/create/instance\u001b[39;49m\u001b[33;43m\"\u001b[39;49m\u001b[43m,\u001b[49m\u001b[43m \u001b[49m\u001b[43mdata\u001b[49m\u001b[43m)\u001b[49m\n\u001b[32m     40\u001b[39m logger.info(\u001b[33mf\u001b[39m\u001b[33m\"\u001b[39m\u001b[33mYour model instance has been created.\u001b[39m\u001b[38;5;130;01m\\n\u001b[39;00m\u001b[33mFiles are being processed...\u001b[39m\u001b[38;5;130;01m\\n\u001b[39;00m\u001b[33mSee at: \u001b[39m\u001b[38;5;132;01m{\u001b[39;00mmodel_handle.to_url()\u001b[38;5;132;01m}\u001b[39;00m\u001b[33m\"\u001b[39m)\n",
      "\u001b[36mFile \u001b[39m\u001b[32m~/miniconda3/envs/CMI/lib/python3.11/site-packages/kagglehub/clients.py:154\u001b[39m, in \u001b[36mKaggleApiV1Client.post\u001b[39m\u001b[34m(self, path, data)\u001b[39m\n\u001b[32m    152\u001b[39m response.raise_for_status()\n\u001b[32m    153\u001b[39m response_dict = response.json()\n\u001b[32m--> \u001b[39m\u001b[32m154\u001b[39m \u001b[43mprocess_post_response\u001b[49m\u001b[43m(\u001b[49m\u001b[43mresponse_dict\u001b[49m\u001b[43m)\u001b[49m\n\u001b[32m    155\u001b[39m \u001b[38;5;28mself\u001b[39m._check_for_version_update(response)\n\u001b[32m    156\u001b[39m \u001b[38;5;28;01mreturn\u001b[39;00m response_dict\n",
      "\u001b[36mFile \u001b[39m\u001b[32m~/miniconda3/envs/CMI/lib/python3.11/site-packages/kagglehub/exceptions.py:141\u001b[39m, in \u001b[36mprocess_post_response\u001b[39m\u001b[34m(response)\u001b[39m\n\u001b[32m    139\u001b[39m \u001b[38;5;28;01melif\u001b[39;00m \u001b[33m\"\u001b[39m\u001b[33merror\u001b[39m\u001b[33m\"\u001b[39m \u001b[38;5;129;01min\u001b[39;00m response \u001b[38;5;129;01mand\u001b[39;00m response[\u001b[33m\"\u001b[39m\u001b[33merror\u001b[39m\u001b[33m\"\u001b[39m] != \u001b[33m\"\u001b[39m\u001b[33m\"\u001b[39m:\n\u001b[32m    140\u001b[39m     error_code = \u001b[38;5;28mint\u001b[39m(response[\u001b[33m\"\u001b[39m\u001b[33merrorCode\u001b[39m\u001b[33m\"\u001b[39m]) \u001b[38;5;28;01mif\u001b[39;00m \u001b[33m\"\u001b[39m\u001b[33merrorCode\u001b[39m\u001b[33m\"\u001b[39m \u001b[38;5;129;01min\u001b[39;00m response \u001b[38;5;28;01melse\u001b[39;00m \u001b[38;5;28;01mNone\u001b[39;00m\n\u001b[32m--> \u001b[39m\u001b[32m141\u001b[39m     \u001b[38;5;28;01mraise\u001b[39;00m BackendError(response[\u001b[33m\"\u001b[39m\u001b[33merror\u001b[39m\u001b[33m\"\u001b[39m], error_code)\n",
      "\u001b[31mBackendError\u001b[39m: Please upload at least one file"
     ]
    }
   ],
   "source": [
    "handle = f\"{whoami()['username']}/cmi-resnet/pyTorch/{mk_date_now_str().replace('_', '-')}\"\n",
    "model_path = realpath(join(checkpoints, \"best_checkpoint.pth\"))\n",
    "model_upload(handle, model_path)"
   ]
  }
 ],
 "metadata": {
  "kernelspec": {
   "display_name": "Python 3",
   "language": "python",
   "name": "python3"
  },
  "language_info": {
   "codemirror_mode": {
    "name": "ipython",
    "version": 3
   },
   "file_extension": ".py",
   "mimetype": "text/x-python",
   "name": "python",
   "nbconvert_exporter": "python",
   "pygments_lexer": "ipython3",
   "version": "3.11.5"
  }
 },
 "nbformat": 4,
 "nbformat_minor": 5
}
