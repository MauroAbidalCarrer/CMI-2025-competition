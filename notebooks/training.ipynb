{
 "cells": [
  {
   "cell_type": "markdown",
   "id": "53d41434",
   "metadata": {},
   "source": [
    "# Training model\n",
    "The goal of this notebook is to train a model and upload it to kaggle."
   ]
  },
  {
   "cell_type": "markdown",
   "id": "dc4c23f0",
   "metadata": {},
   "source": [
    "## Imports"
   ]
  },
  {
   "cell_type": "code",
   "execution_count": 28,
   "id": "66f429fe",
   "metadata": {},
   "outputs": [],
   "source": [
    "from itertools import pairwise\n",
    "from os.path import join, realpath\n",
    "from typing import Optional, Literal\n",
    "\n",
    "import torch\n",
    "import numpy as np\n",
    "import plotly.express as px\n",
    "from torch import nn, Tensor\n",
    "from kagglehub import dataset_download, model_upload, whoami\n",
    "from torch.optim.lr_scheduler import ConstantLR\n",
    "from torch.utils.data import Dataset, DataLoader"
   ]
  },
  {
   "cell_type": "code",
   "execution_count": 29,
   "id": "208cc864",
   "metadata": {},
   "outputs": [],
   "source": [
    "BATCH_SIZE = 256"
   ]
  },
  {
   "cell_type": "code",
   "execution_count": 30,
   "id": "63a131e0",
   "metadata": {},
   "outputs": [
    {
     "name": "stdout",
     "output_type": "stream",
     "text": [
      "Downloading from https://www.kaggle.com/api/v1/datasets/download/mauroabidalcarrer/prepocessed-cmi-2025?dataset_version_number=13...\n"
     ]
    },
    {
     "name": "stderr",
     "output_type": "stream",
     "text": [
      "100%|██████████| 176M/176M [18:31<00:00, 166kB/s]  "
     ]
    },
    {
     "name": "stdout",
     "output_type": "stream",
     "text": [
      "Extracting files...\n"
     ]
    },
    {
     "name": "stderr",
     "output_type": "stream",
     "text": [
      "\n"
     ]
    }
   ],
   "source": [
    "dataset_path = dataset_download(\n",
    "    handle=\"mauroabidalcarrer/prepocessed-cmi-2025\",\n",
    ")\n",
    "full_x_path = join(dataset_path, \"preprocessed_dataset\", \"full_dataset\", \"X.npy\")\n",
    "x: np.ndarray = np.load(full_x_path)"
   ]
  },
  {
   "cell_type": "code",
   "execution_count": 31,
   "id": "a7cfb3fa",
   "metadata": {},
   "outputs": [
    {
     "data": {
      "text/plain": [
       "array([ 6.4446457e+01, -3.0497862e-02,  1.4113952e+01,  1.3401699e+01,\n",
       "        5.9695896e+01,  8.3941728e-01,  1.4301484e+01,  6.1570068e+01,\n",
       "       -6.2056877e-02,  5.8092087e+01,  1.4542258e+01, -2.9764616e-01,\n",
       "        9.7670269e-01,  1.8990780e-01,  1.4288339e+01,  6.6097824e+01,\n",
       "       -9.5329255e-02], dtype=float32)"
      ]
     },
     "metadata": {},
     "output_type": "display_data"
    },
    {
     "data": {
      "text/plain": [
       "array([71.30227   ,  0.39861286, 13.652445  , 13.413476  , 69.607704  ,\n",
       "        4.3106303 , 13.777177  , 69.31686   ,  0.3440398 , 65.47377   ,\n",
       "       13.823348  ,  4.441307  ,  3.7715688 ,  0.24189492, 13.784251  ,\n",
       "       73.41992   ,  0.37745503], dtype=float32)"
      ]
     },
     "metadata": {},
     "output_type": "display_data"
    }
   ],
   "source": [
    "x_flatten = x.reshape(-1, x.shape[-1])\n",
    "display(x_flatten.mean(axis=0))\n",
    "display(x_flatten.std(axis=0))"
   ]
  },
  {
   "cell_type": "code",
   "execution_count": 32,
   "id": "e46c3b4e",
   "metadata": {},
   "outputs": [],
   "source": [
    "# TODO: Switch to TensorDataset w/ cross validation splits\n",
    "class CMIDataset(Dataset):\n",
    "    def __init__(\n",
    "        self,\n",
    "        parent_dir: str,\n",
    "        split: Optional[Literal[\"train\", \"validation\"]]=None,\n",
    "        subset: Optional[int]=None,\n",
    "        force_download=False\n",
    "    ):\n",
    "        super().__init__()\n",
    "        dataset_path = dataset_download(\n",
    "            handle=\"mauroabidalcarrer/prepocessed-cmi-2025\",\n",
    "            force_download=force_download\n",
    "        )\n",
    "        parent_dir = join(dataset_path, \"preprocessed_dataset\", parent_dir)\n",
    "        split = \"\" if split is None else split + \"_\"\n",
    "        self.x = np.load(join(parent_dir, f\"{split}X.npy\"), mmap_mode=\"r\").swapaxes(1, 2)\n",
    "        self.y = np.load(join(parent_dir, f\"{split}Y.npy\"), mmap_mode=\"r\")\n",
    "        if subset is not None:\n",
    "            self.x = self.x[:subset]\n",
    "            self.y = self.y[:subset]\n",
    "\n",
    "    def __len__(self):\n",
    "        return len(self.x)\n",
    "\n",
    "    def __getitem__(self, idx):\n",
    "        return self.x[idx].copy(), self.y[idx].copy()\n",
    "\n",
    "train_dataset = CMIDataset(\"full_dataset\")\n",
    "train_data_loader = DataLoader(train_dataset, BATCH_SIZE, shuffle=True)\n",
    "\n",
    "# validation_dataset = CMIDataset(\"fold_0\", \"validation\", force_download=False)\n",
    "# validation_data_loader = DataLoader(train_dataset, BATCH_SIZE * 4, shuffle=False)"
   ]
  },
  {
   "cell_type": "code",
   "execution_count": 33,
   "id": "5ecc32a1",
   "metadata": {},
   "outputs": [],
   "source": [
    "class ResidualBlock(nn.Module):\n",
    "    def __init__(self, in_chns:int, out_chns:int):\n",
    "        super().__init__()\n",
    "        self.blocks = nn.Sequential(\n",
    "            nn.Conv1d(in_chns, out_chns, kernel_size=3, padding=1),\n",
    "            nn.BatchNorm1d(out_chns),\n",
    "            nn.ReLU(),\n",
    "            nn.Conv1d(out_chns, out_chns, kernel_size=3, padding=1),\n",
    "            nn.BatchNorm1d(out_chns),\n",
    "        )\n",
    "        if in_chns == out_chns:\n",
    "            self.skip_connection = nn.Identity() \n",
    "        else:\n",
    "            # TODO: set bias to False ?\n",
    "            self.skip_connection = nn.Sequential(\n",
    "                nn.Conv1d(in_chns, out_chns, 1),\n",
    "                nn.BatchNorm1d(out_chns)\n",
    "            )\n",
    "\n",
    "    def forward(self, x:Tensor) -> Tensor:\n",
    "        activaition_maps = self.skip_connection(x) + self.blocks(x)\n",
    "        return nn.functional.relu(activaition_maps)\n",
    "\n",
    "class Resnet(nn.Module):\n",
    "    def __init__(\n",
    "            self,\n",
    "            in_channels:int,\n",
    "            depth:int,\n",
    "            # n_res_block_per_depth:int,\n",
    "            mlp_width:int,\n",
    "            n_class:int,\n",
    "        ):\n",
    "        super().__init__()\n",
    "        chs_per_depth = [in_channels * 2 ** i for i in range(depth)]\n",
    "        blocks_chns_it = pairwise(chs_per_depth)\n",
    "        self.res_blocks = [ResidualBlock(in_chns, out_chns) for in_chns, out_chns in blocks_chns_it]\n",
    "        self.res_blocks = nn.ModuleList(self.res_blocks)\n",
    "        self.mlp_head = nn.Sequential(\n",
    "            nn.LazyLinear(mlp_width),\n",
    "            nn.ReLU(),\n",
    "            nn.Linear(mlp_width, n_class),\n",
    "            nn.Softmax(dim=1),\n",
    "        )\n",
    "        \n",
    "        \n",
    "    def forward(self, x:Tensor) -> Tensor:\n",
    "        activation_maps = x\n",
    "        for res_block in self.res_blocks:\n",
    "            activation_maps = nn.functional.max_pool1d(res_block(activation_maps), 2)\n",
    "        out = activation_maps.view(activation_maps.shape[0], -1)\n",
    "        out = self.mlp_head(out)\n",
    "        return out\n",
    "\n",
    "model = Resnet(\n",
    "    in_channels=17,\n",
    "    depth=4,\n",
    "    mlp_width=256,\n",
    "    n_class=18,\n",
    ")"
   ]
  },
  {
   "cell_type": "code",
   "execution_count": 34,
   "id": "7cc879eb",
   "metadata": {},
   "outputs": [],
   "source": [
    "import os\n",
    "from datetime import datetime\n",
    "\n",
    "import torch\n",
    "from torch import nn\n",
    "import plotly.express as px\n",
    "from rich.progress import Progress, Task, track\n",
    "from pandas import DataFrame as DF\n",
    "from torch.utils.data import DataLoader as DL\n",
    "from torch.optim.lr_scheduler import LRScheduler\n",
    "\n",
    "\n",
    "def fit(epochs:int,\n",
    "        model: nn.Module,\n",
    "        scheduler: LRScheduler,\n",
    "        optimizer: torch.optim.Optimizer,\n",
    "        train_loader: DL,\n",
    "        criterion: callable=nn.L1Loss(),\n",
    "        evaluation_func: callable=None,\n",
    "        validation_loader: DL=None,\n",
    "        save_checkpoints=True,\n",
    "    ) -> tuple[DF, str]:\n",
    "    \"\"\"\n",
    "    Returns:\n",
    "        (training_metrics, path_to_checkpoints)\n",
    "    \"\"\"\n",
    "    # Setup\n",
    "    metrics: list[dict] = []\n",
    "    checkpoints_dir = os.path.join(\"checkpoints\", mk_date_now_str())\n",
    "    step = 0\n",
    "    model_device = next(model.parameters()).device\n",
    "    # Training loop\n",
    "    with Progress() as progress:\n",
    "        task: Task = progress.add_task(\n",
    "            \"training...\",\n",
    "            # f\"epoch: {epoch + 1}, batch_loss: ...\",\n",
    "            total=len(train_loader),\n",
    "        )\n",
    "        for epoch in range(epochs):\n",
    "            progress.update(\n",
    "                task,\n",
    "                description=f\"epoch: {epoch}\",\n",
    "                completed=0,\n",
    "            )\n",
    "            total_epoch_loss = 0\n",
    "            total_accuracy = 0\n",
    "            for batch_idx, (x, y) in enumerate(train_loader):\n",
    "                # forward\n",
    "                x = x.to(model_device)\n",
    "                y = y.to(model_device)\n",
    "                model.train()\n",
    "                optimizer.zero_grad()\n",
    "                y_pred: Tensor = model(x)\n",
    "                loss_value = criterion(y_pred, y)\n",
    "                # Verify loss value\n",
    "                if torch.isnan(loss_value).any().item():\n",
    "                    progress.print(\"Warning: Got NaN loss, something went wrong.\")\n",
    "                    return DF.from_records(metrics) \n",
    "                if torch.isinf(loss_value).any().item():\n",
    "                    progress.print(\"Warning: Got infinite loss, something went wrong.\")\n",
    "                    return DF.from_records(metrics) \n",
    "                # TODO: Use gradient clipping?\n",
    "                loss_value.backward()\n",
    "                optimizer.step()\n",
    "                if step > 0: # If it's not the first training step\n",
    "                    # Call the scheduler step method, idk why it throws an error otherwise\n",
    "                    scheduler.step()\n",
    "                # metrics\n",
    "                total_epoch_loss += loss_value.item()\n",
    "                batch_accuracy = (\n",
    "                    (y.max(dim=1)[1] == y_pred.max(dim=1)[1])\n",
    "                    .sum()\n",
    "                    .item()\n",
    "                ) / y.shape[0]\n",
    "                total_accuracy += batch_accuracy\n",
    "                metrics.append({\n",
    "                    \"step\": step,\n",
    "                    \"epoch\": epoch,\n",
    "                    \"batch_train_loss\": loss_value.item(),\n",
    "                    \"lr\": optimizer.state_dict()[\"param_groups\"][-1][\"lr\"],\n",
    "                    \"batch_accuracy\": batch_accuracy,\n",
    "                })\n",
    "                step += 1\n",
    "                progress.update(\n",
    "                    task,\n",
    "                    advance=1,\n",
    "                    description=f\"epoch: {epoch}, batch_loss: {(total_epoch_loss / (batch_idx+1)):.2f}\"\n",
    "                )\n",
    "            # Post epoch evalution\n",
    "            metrics[-1][\"train_epoch_loss\"] = total_epoch_loss / len(train_loader)\n",
    "            metrics[-1][\"train_epoch_accuracy\"] = total_accuracy / len(train_data_loader)\n",
    "            if evaluation_func:\n",
    "                progress.update(\n",
    "                    task,\n",
    "                    completed=0,\n",
    "                    description=f\"epoch: {epoch}, evaluating...\"\n",
    "                )\n",
    "                eval_metrics = evaluation_func(model, criterion, validation_loader)\n",
    "                progress.print(\"validation loss:\", eval_metrics[\"validation_loss\"])\n",
    "                metrics[-1].update(eval_metrics)\n",
    "            # Save checkpoint\n",
    "            if save_checkpoints:\n",
    "                checkpoint = mk_checkpoint(epoch, model, scheduler, optimizer)\n",
    "                metrics_df = DF.from_records(metrics)\n",
    "                best_model_metric = \"validation_loss\" if \"validation_loss\" in metrics_df.columns else \"train_epoch_loss\"\n",
    "                is_best_checkpoint = (\n",
    "                    DF.from_records(metrics)\n",
    "                    .eval(f\"min_{best_model_metric} = {best_model_metric}.min()\")\n",
    "                    .eval(f\"is_best_{best_model_metric} = {best_model_metric} == min_{best_model_metric}\")\n",
    "                    .dropna(subset=f\"is_best_{best_model_metric}\")\n",
    "                    .iloc[-1]\n",
    "                    .loc[f\"is_best_{best_model_metric}\"]\n",
    "                )\n",
    "                save_checkpoint(checkpoint, checkpoints_dir, is_best_checkpoint)\n",
    "\n",
    "    return DF.from_records(metrics), checkpoints_dir\n",
    "\n",
    "def evaluate_model(\n",
    "        model: torch.nn.Module,\n",
    "        critirion:callable,\n",
    "        validation_loader:DL,\n",
    "    ) -> dict:\n",
    "    model = model.eval()\n",
    "    model_device = next(model.parameters()).device\n",
    "\n",
    "    total_accuracy = 0\n",
    "    total_test_loss = 0\n",
    "    for x, y in validation_loader:\n",
    "        x = x.to(model_device)\n",
    "        y = y.to(model_device)\n",
    "        y_pred = model(x)\n",
    "        total_test_loss += critirion(y_pred, y).item()\n",
    "        batch_accuracy = (\n",
    "            (y.max(dim=1)[1] == y_pred.max(dim=1)[1])\n",
    "            .sum()\n",
    "            .item()\n",
    "        ) / y.shape[0]\n",
    "        total_accuracy += batch_accuracy\n",
    "\n",
    "    return {\n",
    "        \"validation_loss\": total_test_loss / len(validation_loader),\n",
    "        \"validation_accuracy\": total_accuracy / len(validation_loader),\n",
    "    }\n",
    "\n",
    "def mk_checkpoint(\n",
    "        epoch:int,\n",
    "        model: torch.nn.Module,\n",
    "        scheduler: LRScheduler,\n",
    "        optimizer: torch.optim.Optimizer\n",
    "    ) -> dict:\n",
    "    return {\n",
    "        \"epoch\": epoch,\n",
    "        \"model\": model.state_dict(),\n",
    "        \"optimizer\": optimizer.state_dict(),\n",
    "        \"scheduler\": scheduler.state_dict(),\n",
    "    }\n",
    "\n",
    "def save_checkpoint(checkpoint:dict, parent_dir:str, is_best_checkpoint=False):\n",
    "    # Create model name\n",
    "    checkpoint_filename = f\"epoch_{checkpoint['epoch']}_{mk_date_now_str()}.pth\"\n",
    "    # Save model\n",
    "    os.makedirs(parent_dir, exist_ok=True)\n",
    "    checkpoint_path = os.path.join(parent_dir, checkpoint_filename)\n",
    "    torch.save(checkpoint, checkpoint_path)\n",
    "    mk_symlink(checkpoint_path, os.path.join(parent_dir, \"latest_checkpoint.pth\"))\n",
    "    if is_best_checkpoint:\n",
    "        mk_symlink(checkpoint_path, os.path.join(parent_dir, \"best_checkpoint.pth\"))\n",
    "\n",
    "def mk_date_now_str() -> str:\n",
    "    return datetime.now().strftime(\"%d-%m-%Y_%H-%M\")\n",
    "\n",
    "def mk_symlink(dest:str, symlink_path:str):\n",
    "    if os.path.islink(symlink_path) or os.path.exists(symlink_path):\n",
    "        os.remove(symlink_path)\n",
    "    os.symlink(dest, symlink_path)"
   ]
  },
  {
   "cell_type": "code",
   "execution_count": 35,
   "id": "fe1e327c",
   "metadata": {},
   "outputs": [
    {
     "data": {
      "application/vnd.jupyter.widget-view+json": {
       "model_id": "517b5cd9c3b24c3da4377154d3f826aa",
       "version_major": 2,
       "version_minor": 0
      },
      "text/plain": [
       "Output()"
      ]
     },
     "metadata": {},
     "output_type": "display_data"
    },
    {
     "data": {
      "text/html": [
       "<pre style=\"white-space:pre;overflow-x:auto;line-height:normal;font-family:Menlo,'DejaVu Sans Mono',consolas,'Courier New',monospace\"></pre>\n"
      ],
      "text/plain": []
     },
     "metadata": {},
     "output_type": "display_data"
    }
   ],
   "source": [
    "device = torch.device(\"cuda\") if torch.cuda.is_available() else torch.device(\"cpu\")\n",
    "TRAINING_EPOCHS = 60\n",
    "STARTING_LR = 0.0005\n",
    "model = (\n",
    "    Resnet(\n",
    "        in_channels=17,\n",
    "        depth=4,\n",
    "        mlp_width=256,\n",
    "        n_class=18\n",
    "    )\n",
    ")\n",
    "optimizer = torch.optim.AdamW(model.parameters(), STARTING_LR)\n",
    "constant_lr_scheduler = ConstantLR(optimizer, factor=1, total_iters=len(train_data_loader) * TRAINING_EPOCHS)\n",
    "training_metrics, model_checkpoints = fit(\n",
    "    epochs=TRAINING_EPOCHS,\n",
    "    model=model,\n",
    "    scheduler=constant_lr_scheduler,\n",
    "    optimizer=optimizer,\n",
    "    train_loader=train_data_loader,\n",
    "    criterion=nn.CrossEntropyLoss(),\n",
    "    # evaluation_func=evaluate_model,\n",
    "    # validation_loader=validation_data_loader,\n",
    "    save_checkpoints=True,\n",
    ")"
   ]
  },
  {
   "cell_type": "code",
   "execution_count": 36,
   "id": "4619c4fe",
   "metadata": {},
   "outputs": [
    {
     "data": {
      "application/vnd.plotly.v1+json": {
       "config": {
        "plotlyServerURL": "https://plot.ly"
       },
       "data": [
        {
         "hovertemplate": "variable=batch_train_loss<br>step=%{x}<br>value=%{y}<extra></extra>",
         "legendgroup": "",
         "marker": {
          "color": "#636efa",
          "symbol": "circle"
         },
         "mode": "markers",
         "name": "",
         "showlegend": false,
         "type": "scattergl",
         "x": {
          "bdata": "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",
          "dtype": "i2"
         },
         "xaxis": "x2",
         "y": {
          "bdata": "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",
          "dtype": "f8"
         },
         "yaxis": "y2"
        },
        {
         "hovertemplate": "<b>Exponentially Weighted mean trendline</b><br><br>variable=batch_train_loss<br>step=%{x}<br>value=%{y} <b>(trend)</b><extra></extra>",
         "legendgroup": "",
         "line": {
          "color": "red"
         },
         "marker": {
          "color": "#636efa",
          "symbol": "circle"
         },
         "mode": "lines",
         "name": "",
         "showlegend": false,
         "type": "scattergl",
         "x": {
          "bdata": "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",
          "dtype": "i2"
         },
         "xaxis": "x2",
         "y": {
          "bdata": "AAAAoI0hB0DBOtp8PxEHQA4GkjgBBAdAmRRyRFX3BkD1euJfReEGQGnN0sZezgZAz9Ern1HHBkCZoqabVcEGQD1+UE3ivAZAbXKbtumwBkCdlh7xoKYGQHV5a2GtmgZAP5SeE+CQBkBEeCQpvYUGQMliA5t9gAZAzT6TjRZ/BkCQpEUGK3kGQAnkJDywdAZA3nPoa/VpBkAbf2wKuV4GQMzbAeW0WgZAk2y91IxaBkAj8itQwloGQHc5SnKIUAZAeVTinDtNBkC7bQvTYEkGQNUBwmYhSAZAv9HTooBEBkAX6V8DJEUGQF89yW4cRAZA0COvEb4/BkCd8zGSBDsGQH3xdQEHMwZAfi9Wb7QtBkCDJAbInikGQPcpGg+hIgZAPK4BofIdBkCblwnaaxkGQIQgOeFZFgZASHvI0SMTBkBu7o3MJg0GQBvcOVssBgZACHcLvzUCBkAmjsXcD/wFQJCxaIzd9AVApJ9b41LyBUCT1NXVgO8FQNyPvsG17QVA2kN8KczrBUA3g1GloeYFQKt1sO/p4QVAIAby/9XfBUDZChXVGN0FQFHroQn43AVAGReVOFPaBUA4IIff39cFQNKoQPsj0wVAYWTo/f7SBUAwfnSe6NEFQAnQDli2zQVAnXkDgFHJBUCNJpI7uMgFQFZANkZzyQVAp5a2wgzGBUDl9eQyacAFQLmaoM3DuQVAzcmS59u3BUAYQ8tY5LQFQOYV1VCXsQVALfg5KiWtBUBBQayrAKwFQCDmCt/zpwVA/OEfDI2lBUBisv3eGKYFQHBqNpbMpQVAe3G3OdSgBUDvy6oq8p4FQPrj6n8toAVA3mOEOW6bBUDubikyvpcFQGv5FriOlgVAZJWEM3KWBUDJw3B3BpMFQD64vFD5jwVA5nwjz/yNBUADza37tIwFQEXXmHkTjQVAI9wxVt+KBUDg+uXkOIoFQKQFkBErjAVArw8YunqNBUAsWpro0IwFQOAMXTQ7iQVAsG19mWiHBUBZVlITsoUFQNQXWvU7iAVAteylZHmFBUAyUxuYPYYFQKvlsFhigQVANnuv5n9/BUDqSD1fWXwFQLokBVibegVAhhiNxUV4BUCP9DwhyncFQNnJPzv4dAVAWq2GRQt0BUD/w68FRnMFQGnjlrnTcAVAdfgcYQRwBUAZ1feheG0FQIssaIWXagVAtjQEhv5nBUBBiGvPYWUFQMsNZx+oZAVAgxzUTNhdBUBEDycZ1FoFQCB/UNd6WwVAiEvjE6BdBUB24x85yF4FQGPWyhOdXQVAHTnUClJdBUCHJ8+gRV0FQHlSdui6XAVAQwAUQ2ZcBUDkfDdUYVwFQGgR3n/hWwVA7CXd6HVaBUAZJbN/cFcFQDXjApBsVwVAKgbUekZSBUBiNCFeiU8FQINZLo3STQVANS6+7NxLBUDC5DdHbEgFQFvFx7+vSQVAqqQIMwlIBUD1yCXIy0QFQOb/H3aPRQVA20FLD1pCBUClHAXhaD8FQHPFCjxdPgVAEt+kQa8+BUB1oL+yGD4FQLv9ZOZhQAVAMcQ/0qg/BUAcNRFXKj0FQNlP4nzUPQVAlRitU989BUCWPZA+gTwFQKuqxJqgNwVA9UsDJ344BUDPupnm2jcFQEA2CH1CNgVAvt2vITY3BUDRDq902TUFQJ+eubLsMQVA2ZPeG50vBUDsBi2joDAFQLvXeFsHMQVA5TQNKRIuBUBXEEo0HyoFQGAIuMKnJwVANQJU3igoBUBAx2j5iSQFQLZtdi3DJQVAQ6NTaYQgBUBJBejMTh4FQOmtjVehHQVAmls+73MfBUC/hKLvvR0FQE7vt1MKHQVAq7x3GgIcBUBEB8FlxhoFQPfGNx8CHQVAfjS64hQgBUB/8OzmYB0FQBb216OMHAVAdghrB8AaBUCCdLnCdhcFQLbt47hJGQVAXanOMrEZBUBqkPvzzRgFQDo81a8yGAVAgJxRWyoWBUDqP6iokxAFQLOqAbO0DgVAQy18cuwNBUAd0z4gBwwFQA2Wp1GtDAVAYsTdm74MBUAr4xIOawwFQHGHHfd+DQVAbweQgawMBUB0zjlRvQkFQHJJfbxlBwVAa1Q1EJcDBUDIC8W3IgMFQKpe34a/AAVAXKhvLFMABUCMD1zl3AEFQPDAz4DlAAVAPift7/H8BECpwfcauP0EQBGWTNsZ/QRApGPkEJv5BEBtMG3nEfkEQIAtjiQ69gRA0+d1gFr0BED0WqdVpfMEQAhlxnuG7wRAdIeNryDvBEApwmD3IO8EQH4ruNKu8QRAL6DcmnHwBED7krbNbe8EQLVO6o2C8ARANN+471ryBECR7tytNvUEQBCZzCHp8gRAI4GMKiT0BED18Ns7KvAEQHjZ1CJa7gRAP6tsE8TtBEB1zg56R+sEQMu7HZle6gRACzRexkboBEBO1Setb+cEQHrg5SVV5ARAxIIrukbgBEA6AXGS/dwEQHh48RaE2wRAxGneqw7aBECd4u9cd9cEQBM6Wh4F1gRAgo1C4R3WBEAgrjIbXdUEQMpNZrDm1QRAB5o8QhTUBECu/Jm9x9QEQB6XYut20ARAqAl5HqbPBED4haATfs8EQIw05WVHzgRAhzTfwYHMBEAVN9mhjswEQL06vsrJywRA7+NUP8DLBECKjDPz580EQFPRGldo0wRAT+/81E3UBEB/Zyr6OtUEQBaE7flJ1ARAD6B2TlDSBEAbf6XPBtIEQGH4Rr8l0wRARUMpduzTBEDCAh8ghtQEQHLUbGbS0gRAksqZuZLTBED5M1UyDNcEQBY53sB90wRAlFe6XI/SBECwv0+ButMEQAbctnMY0ARACu8/tezMBEDS/ma94skEQEuZckD5yARAmQPrbVLKBED5xDm9k8cEQCvpfAZWyARA6b2QWfXHBEAqFi+U2cQEQCkghqauwwRALj0ZWHTCBEDsywGYtcMEQPMYqv3+wQRAndNbSNG/BEA585YnCL8EQKBfks9SvwRAmc8DDEi6BEBkgciGpLcEQJpzGfmxtARAgkqNJlq2BECZiQfJJLMEQL2Y0WjlsQRAjFOovkezBEA7p2s9MrQEQJaZzxK9sQRAp8cUnBazBEBSFy4Z1LEEQJbM2WFVsARA+ZGS4jyuBED7AF2QS6sEQKJFAHnopgRAD8MVhgWmBEBTFRUsgaUEQBoRwRNRowRAN4G4wyGhBEAp/gJGOqEEQLufHWBuowRAY3t/HwiiBEBbPSUMeqEEQFq5QK0FnwRAlrPAJw+gBEDw/IRMZqEEQLsskUXXnwRALky2RGiaBECW19rsL5sEQNu5kCPunARA+XLW//OdBEB7y7/YAZ4EQL9bsG9imwRAi22ojkCaBEA9PSNSPZkEQJSyDaYZmwRAyMLpZCaZBEAremn5NpsEQLFPArfNmARANwQWTK6WBEDJDtXsvJYEQD3kPJAKkwRAykMY/pKQBEAhFNoz8ooEQG1ecitQiQRA5iggITeIBECM9Au4ioMEQECtW3G8gwRAvem1WnGDBECAamjvWoMEQB7Bvl6QhwRA2P+/aiiDBED39KrFWIQEQOW/BOfEhARAfEnJzvGABECP9fNKyH8EQJPXw3ldggRA8V+j1x6BBEDXFFnr8oAEQBrZPpuwgARAgQvuPvZ+BEDv2jjsyH4EQOrGHIZ+gARAsh/ZNpF+BED+KdO4Gn4EQOeMZgVXfwRAwroVRX2ABEAKaFQfaXoEQEkLCQFPewRAi2LBoWF8BEDDz4+Q/HwEQPjZex6QfgRAYw2k7z98BECMuFEW230EQCDEWUK8fARA4jkPyDx6BEDO+jglK3sEQLHtvxwseQRAp7TIpYh0BEB65sdLeXIEQGL1jwjJbgRAN0sQcMVtBEDtBZvfxmwEQAAJRtw3bARApkwKW3hrBECqydgSRmYEQEIPmZIqZwRAg60BAfJlBEDyHhAkL2MEQMwxPP6LZARATHG+OIZgBEAr8wtbiWAEQK9U2lFYYARAR0T9OqphBEDloTN8Y14EQDIJu++yXQRAkgRXFzZdBEDzww359loEQLuRhFywVwRAkjxTlIJXBECnxqln8lQEQBsK7ANVUwRALhmoHm1TBECEPWmUklMEQNR+ZOkIWARAreeNVItYBEBNMZ/zQFcEQNzWPeFEVgRAkfNk4+xWBEBq7rgdzlQEQGeaZvv/UgRAtoyBHJNSBEDuCd5C5VIEQFWmdXwpUgRALMW46XhQBEACr88lQU0EQK8zpdutSARA4vbxrAFGBECMjrPtAkcEQNYc0sSvRQRAXa8++vFEBECwTP5mUkYEQDdJRIi+QQRAcn3kR9hABEAsL9PFBEMEQPNrP3BfPARAA7OCJWI9BEAocGJxLzoEQNpyW72gOwRAakjDTk45BEBIN5xkPjUEQAqlE9MFNwRAStJZ7Zc3BECB3vrOiTcEQFctNmtHNQRAd5X0yGI3BEBa28GJIjgEQBnMaYx3NgRAcekO0nA0BEDt99ODNjEEQGMbs0MkMQRAamV4ZgUuBECRgW8wtCsEQDJucQIDKwRAwa6SjB0pBECj+Y76EigEQOGerTZgKQRAFFADGjkoBEBd07Vn1SkEQAQGnotbKgRAFzs1ak8qBEDOW8AK+CYEQFhCca7+JARAIgXm7T8jBEDgMboXMyIEQCn7RwTPHwRAa+mSFegcBEBYHzwBIxwEQMqMY6b+HARApubPOXEdBECI6w0bvB0EQMnoiAnvGQRA2As0KC8aBECROnjWpRwEQEfH4VnoHARAGM2hrekaBECNRfijPB0EQPeYwKI2GwRAAFZzPVIZBEAat9ZnsRgEQD5eLL0tFQRAjKYimSwVBECwFGQe3w8EQG1vCpABEgRAUYz0XSERBEAF3bPVVw4EQNvro6p1DARAV/Tv/6EKBEDRR2BsJw0EQLPoiR3cDQRAnp/yJz4OBEAHNcQrOAsEQPQya4sQDQRAR1O4Ir0IBEDQf51irwcEQIcg3w65BARA0elxUdcBBECuyNNOfgIEQAkt61/+AwRAXmAVJGkGBEDpvzmOvQIEQAkti6b0AgRATSXhmD4ABEDH5Jno6gAEQDTdoNJh/wNAmr+TYlsCBEBPNntCMQEEQA1O3bE8/wNAnXfMwa/+A0BBBRFMA/8DQNNay62BBARAt70Xxi0BBEB2hiDOJP4DQBIAOP8H/gNAVURS4ZD/A0BgJWbGhPoDQALUgXB/+QNAAHT+sMv3A0CqTwdjFvgDQPg9kdfe9gNAZk2N7kr3A0BxTVv33PQDQM9RVa4G8wNAMQHnbuXyA0AcpKIV5PADQJpR1zH48ANAlATrZULyA0Di/z0WEPIDQKWD0H738QNAXuPaPmnyA0BIiewfXPIDQAJTWo3T8wNADYMVMvfzA0C1py+Il+4DQIJsnr6g6wNAWYFFsn3qA0CgcHaqDOwDQJrsLaxy6QNA/W8MVH/qA0AM8X22segDQNvxjW+O4wNAesl5/JzkA0C1/xsNweUDQDPF+bVm5QNA+pht+mrlA0Br9P+GBecDQMeZadu/5ANAGXoSbDDjA0BcoeaSaOADQKXtY/VM4QNAMLxHJwHhA0BDEhJoL94DQKlttsTT3QNAABBeXv7dA0A5NFr8kdwDQD8ikR+h3ANAxMUyU8TeA0BBLJPyv9wDQALUO5q33ANAZZu1I2PcA0AXOKbFttkDQNDUwW6W2QNABq3MXuTaA0Cwc9aektoDQBzjSsxU2QNAYB7MSCPYA0BnOZxrFtgDQGd0yfz+2QNA3ruZky7aA0BZ+Ai109sDQPnzk9uS2ANAlwJd0LLWA0DGTnLjNtUDQGflEzuV1QNAGwPiD5rWA0ADL9Ldo9UDQKH8iJJj1ANAsdQYV/zSA0Ab98zEK9ADQADFpCQCzgNArLY8PHPPA0CUuho0qdMDQCpcAYXR1ANAkVjXpMfRA0B8gdCIRdIDQDtMFDo00wNA8kyXBOHQA0DHdWijd80DQI8y8Tf+ywNALnFMe5rLA0A5Tc4mtcwDQIvXEbb3ywNATsJKUxXKA0AC/P0c1ckDQKdsu1E9xgNA5E5qWUnBA0AX18n+W8ADQGrgR41RwwNAt6ZVPDrAA0DIx/fMMb4DQKhm39Y0vwNAbp6NYyq9A0BZR/QzHLwDQCzyV1TEvQNAkazANaO/A0A88aloor8DQFb4vDMfvQNApKS2Rtq6A0CoIsEOg7kDQOG+mVgtuANAIHwxZPa1A0Blb4KylLUDQEY1yO2fsQNAQO5/0o60A0BT/oNFtrMDQFAWTmRvsgNAd3um022zA0Dc6ZgFPrQDQEo+UuLYuANA7wYenqG4A0BpuBR7bbcDQOBaf2OftgNAqVeD5wO0A0AqGwMf4rEDQKeENIRDsQNAIeX4wBevA0C7A1xuUKsDQLcN3YwCqQNAmsq0dBKnA0AWXJ5GYqUDQOrHDBulowNA0pMUF5WiA0C1UySwSqADQDD8nu9YnwNAp7T0SZifA0CSrUd+RKADQOlbA/S7oQNA+mBm1I6iA0BcoLXyuqEDQBqH6WtvoANAAXI0AaycA0ArT6aw9ZoDQD/IXvjvlwNAYuiE9YGUA0DCkqGu4pEDQGIZ1uOLjwNA0cpCFROPA0Cm3eXegpEDQOajgzGSkgNAMfjy0B+RA0Cvtz1LVJEDQKQKhv8CkQNA47LDZm6NA0DSClJ/7Y0DQJH0oWj2jANAiom1s3uOA0DF4XVf1Y4DQFOlxIgejgNAmV5CQeKKA0DiD5vtmYoDQNzUrn1yigNAq+V/9TKKA0AWyFomuowDQA4yw7n1iwNACDwHvMmMA0DFKKyMlIwDQE0TlladiwNA13uZLQOLA0AkrRgLE4wDQHTrOFqcjANA+ocFzkuMA0BXe4lsTIwDQOparr3HjQNAO9Ys69CLA0D4eo6CNIsDQLCtw4sXigNAgJKDb0SLA0ARYOIqcYYDQOSbDJs0hQNAveDBTAaFA0DFvj8JNYQDQNt4VtU0hQNAFMS2lqeDA0AyaeLSvIIDQPwNuuA6gANAnM/MozF+A0Aw9t5JAnwDQJcKARiIeQNAAeqdQ/Z5A0BOSGcghHsDQJ5V8NEBewNAIGhDjuV4A0AHns3tjngDQLYKCaNhdwNAoTj4ozJ1A0AGaLa/+HQDQKflPPC8cgNAxTFDQW5zA0C84byxUXADQOZKpoBOdANA5XnSJjJ0A0BtoYlEA3YDQMDAti4JeQNAtyLaITR2A0BSAXBW53YDQAW2tjUDdgNAcx37s8tvA0Cs327WuGwDQJ7Mey7zaANA8xmhwWtqA0AwGWJ7gWoDQORmTvTJZQNAPhkzZchlA0AG/mLwwmMDQC5ZkWYWZANAvPW1kW5nA0CeJvKKEmYDQEvyXaPpYwNAG2dKJAVlA0C/k5ryoGIDQPMRhQLSYANAN60deB5fA0Cu8gNNVmADQJdG0rPjYQNAV37LZkhiA0AahBdXMGUDQCZXaZhTZgNArMfAm8dlA0B7cDYGfmkDQLoIoDlWZwNAnhqCb+1qA0A0wNipzW0DQGrrdid7bQNAA/Xu3RhvA0DGkTFk320DQF8AUSwRbQNAJAjjys5rA0AlIIkKbWoDQBcWEQZLaANA1GeMG+xnA0CwpaBZWmUDQN+4o5OYZANAWssJNItjA0Au1HQVy18DQJxQeYvbXANAZqFcE7ZfA0D2vbwyaGIDQDcbhf56YwNAQ566g69iA0Df4t0rOWADQHXC95rhXgNAqLOtDLddA0BPa/JBiFsDQH3jE+h7WgNACqKfQQdZA0CexcPHp1YDQAiOIDteWANAH2CbZSdYA0DFtwHYq1cDQL5vGpN1VwNAK6Zbrr5YA0A+4h4191QDQLIU5CKhVANA/l1xF1dSA0CrOX5Qn1ADQLT+1MtsVQNAs93FFVhVA0AFKXUhilQDQJMGBtXcUwNAzwXMQpBPA0DciShRa1ADQJT4HqGyTANAnlOJj1xMA0BjBgmPhEoDQAQ4+LsiTQNAgme2D8ZKA0Df1/rnpksDQOeOLLY8TANAC0Cv3ANNA0ByLfwi3EwDQEf6sXwwSwNAR3aTtZBKA0AbD/o3fEcDQFvtr4amRANAcydHQK5AA0AbaHbm6T4DQLiekzAiQQNAck9dWodDA0CDPBhMqUUDQMlj1a+sRANAzyZjkWhFA0AO09uRpEYDQE3tmrsGRwNASB9cTx9EA0Bs3C8Z6UcDQLujeDtHRwNAxCoizPlFA0C3tbXq1UQDQCi4K6TIRQNABuydFtVFA0CHDYAJGkIDQG42pTckQwNAzlVuCGpFA0A8fEFrMEMDQKJG3IkTQgNAY+nMUcI+A0CUuHP4DD8DQAOBgDJePQNAEKaliSo7A0CWXuJ6hjkDQPMIupBaOQNANxn2iIs6A0BeGKxIYDkDQLGb6Pi9OANA231tAmc3A0BVaTheLTkDQGJVLhvVNwNAojGY4zI5A0D+zKOoVDsDQFmlIqFqOwNAgW6+FRc9A0BA1umwLzsDQFXP8sL4OgNAUBtv1QM/A0Dk6PfbRD8DQIjIa4a7OwNApBSB76c7A0ASVio0ZT0DQGeVnFa1PwNAYcqfzSI/A0Bq1GATz0EDQA7/hiuXPgNA8FlZ8WQ/A0BFHesU6kEDQLHJ62mAPgNAxzYFdwU9A0Dw0R3xtT4DQBuJ0rgDPwNADhEWutU9A0AGQrInhzsDQN4eIP3zOwNAa3CKx0Q5A0AWlvm8tDkDQNHC2LXNOwNA2QbaayU7A0DsUB1AWDgDQAQEsVKzOgNAU9K7ZiQ5A0CnT+dyWjcDQL3hAMkTOANAAgzHCqM4A0CR6umZTjYDQMkc2vEJNANAbm4+sAgzA0Dcajyg6jEDQI4MjSqKLwNAntrzQc0xA0C/mV+xBjADQImMfQbvMANAJwyrcvUzA0A+2u9NIzgDQKKAdIxOOgNAb1vk5k43A0DPonF/tjcDQI2dAlFSNgNAvaBlDkw4A0BWtM2paDoDQJTwQgKPOQNAg78fAN02A0CCfzdjXzMDQALvHGOmMwNAEQAcZsgyA0AAvq/+GjIDQPIay8AELQNAtq5I8bYqA0Ak65jMgSoDQKRGvf1LKANAx/HPvfMnA0DLI2buxSkDQOQqrYVNKANAHZ3ILqElA0ArHKGYpCMDQBBVSQaeIQNAEEqRtXMhA0AfFnxIlx8DQP1nwplkIANAJXUG/CMfA0C//f0Wth0DQKM3o0LCIQNA+rm2ZyIkA0A9vE3iHyUDQJZj8JhqJQNAPtzP7ZwjA0AEUW5vhCYDQD2pB9ITJQNAg5vNfN8gA0CxXFOqkSMDQAakLzC3IQNABsjj9jgjA0DlC1BbdyMDQNVVyUX8IgNAvgiJww4kA0AJW3ylOSIDQGuioW9mIQNAqYwgD1AhA0AgiEDiniIDQMzFiE2mIANAgiKdXVscA0C2awOIhBkDQNK6sEW5GQNAgYu7bAQaA0D6ZVIMNB0DQDRzJnM8HQNA8T1GihUeA0Da2L/DXh8DQCX7A5CVHgNAbX+YMnsaA0CSg1GcLRgDQH0kV7nqGANASAIK6VoYA0D7GrdHUhcDQDZ92vOiGgNAdqKZ/+kZA0DmUilxTRsDQIR5F0D2GgNARivlOZMaA0AiMouInBkDQHsP8n1nFwNA8+2fkdMWA0A+xZpC7BcDQHYRvwl2GANAi6Ww0XoYA0DpdrsEMBgDQPLuxUrrFwNAbq1DZdgTA0DVp+YeOA8DQO+yzprMDgNAtd4iQEYPA0AaKs8VHA8DQJWD6Q6SCwNAyU0s5g0JA0Cy+I3YZAcDQMVTR4giCANAjUAszcAFA0CJgOBQRwUDQJ1jXVG2AgNAoEf3dUgEA0DVVRAP/gMDQHPfUUYeAwNAkCLs/xEBA0BJfMMaHgIDQCX01Zfw/gJA2j6VB2gAA0AVReuZnwADQIDXiKedAgNAjNAQABAAA0A9d9Z4Tv4CQKd7jYhSAQNA/cHj28kAA0DkYLvSeQIDQEhuGBGmAwNAZyAHQGMBA0CExIIv4/4CQBx8PNZB+wJALLoABUH6AkCuxEJScvcCQG8hUUYp+AJApUlnTxP4AkBWibYIGvgCQOiELAD99QJA8coBe5b0AkB1Biv7S/YCQGqrSpo/9wJA68ZYNur3AkDL6VVMfPcCQPa4peLu9gJASdyPIjb3AkDTaVH9WvcCQHKHRhkT+AJA2puv3xL1AkCq8al+cfUCQMaG5gSi9AJAjgadwBzzAkD1eahCqvICQO0SxKiB8QJAtJ45YBLxAkBcsvW3MPACQHooeiCO8QJAVczIytXxAkDvi6kRFvICQMbyHxIV8wJAtwOCsGDzAkDzbvFur/QCQBVCXevE9AJAFMRq+FvyAkADxjUqXvQCQANMPFWu8AJAfwfwoCXvAkCkkxFmmu8CQJZlnb0m7QJADVq5XhXtAkB4obu9g+wCQEq9Wm/Y6QJAs8c2OtHnAkAxfyQSf+cCQOW0r/VT5QJAD68+nVvkAkByysAKieQCQNFg9DtY5QJAXxM/wd3nAkAafgucDeYCQHQnLDw35QJA07oqWG3lAkBxSeen3OYCQBJHriiT5gJA6MgsYZHnAkA7/L+0gesCQK1GqYaj7QJAPJ/d887rAkCdqpz/EeoCQPsgqGBd7AJAuVk3c2LpAkCbb7HVv+kCQJ7fUP+46QJAFY53o+bmAkDT0/d2kecCQEj2c52+5wJAyryA3JvmAkBICUvyM+MCQNqE5Xc64gJAT3hJ/GHjAkAbKokAPeMCQLcHrqXy4wJA0nLJ7jzfAkCywfxjw94CQOaJsn4y3AJAhMesnHjbAkCpEyNoS9oCQP7xIfAv2AJAJ8nel8vXAkCIPmzh2tgCQCGwJtoK1wJAUSb8zjbUAkCqd8LWatICQBB85RFq1AJAMfx6dr/VAkAWFbl0LNYCQGgUkoRB1QJAZai2rX7VAkAgSME8i9UCQGGY7P7C1gJAwbz9f/fXAkCqtpoTadcCQP+XEbbs1gJAORdTNPPVAkBo1P39FNICQJ8PoxBszQJADc2d4GPOAkCZa2+bvs0CQLa6CEqTywJA8rwxmYnLAkAsAazBscwCQGQJ+YyozAJA3SF1qerMAkBBEEhtWMsCQCa9RVroyQJAcENcV4XHAkABORcmWckCQCIWijrmxwJA8CWW9nbIAkCWoNvVlsgCQIH+oqS8yAJAt6M6vDDHAkCohVHbC8gCQOSyiJ2oygJAm5zOQ9TKAkCOl1z5wsoCQP3cYXOQyQJALyAMXBrIAkCIq8mPT8gCQP+lsjzoxgJAnH8gR2rDAkA0UptdasECQK/TppyFwQJAukj8Q7bBAkDudz5QrMICQMVKl6ulwgJAImFxsgzDAkApA5cpiMMCQP7ABSHAwQJA3R03qNjCAkAoJW/3m8ICQCbq1vulwAJAskX5G2vDAkBiAQpanMMCQBX5MhmpwgJAqWRz2jPEAkBhQMJ+k8QCQBx4qxqQwgJApyFszejCAkBPGDf0FcACQNFA8/8svQJARnAMI/XAAkCwjRzI9b0CQA5HsILNvQJAPzQe8/K8AkBFCVftXbwCQMdCdV4yvgJAp2EOENa/AkA+Vrt1ZcECQOEAjEUJwgJARa5NQ8q9AkA7+4QNArsCQHteNrFqugJA2gjit8y6AkChSgz1HbkCQKT1TfLiugJAsMy20TS6AkAFhCTxAbgCQJraM0TQuAJA3x3wfxm5AkASwnQQILkCQPlg/ZFsugJAv/oNhoO3AkD7POSmuLYCQJBsDrPLtQJAxT83yxm1AkBc0qCDBbUCQNXTYR+TtQJAGTBvYJe0AkCLLr7K3bICQHba8Rs/sgJAKMvhdU+wAkAOkxxzIK8CQKLY4R7hqwJAGaAcpf+oAkCcUI94DKsCQKfiUKmiqwJA4wxnlSerAkDcmN/ZLqwCQLzNhajRrAJAKQmzVgutAkDdCMbvea0CQM7v6APvqwJAdXQC63OrAkDM09DP06kCQLXEf7UDqQJANBlK5K6mAkDY5g3BXKcCQAJTiRGJpwJAXXG2iBimAkCDpxOdRqMCQLkVVcKcpQJAaKF7SaCiAkCeSQwlHKACQCXkC6qeogJAJEgkt2qhAkBtuZY8Lp0CQMwemhk4nAJAWk8655WbAkBfn/7m0p0CQJ4m7ssXngJAwrHNU4ecAkDdBqbinZsCQGL+6k3EmAJA26vr++qXAkDk+IDqhJkCQDhcrtrTlgJAZ/6wtaqUAkAy9mAhmJMCQGJy0ZClkgJAmQs27rCSAkDNXXYEbZACQEpr7vfIjgJAL9NJe2aQAkDj3PRLWY8CQLu05BWjjwJAOflxXSeRAkC7IsllOZMCQCAy9FBZkQJA/h8mCPaOAkDdu3+7n5ACQKwxziBrkwJA+czPYRKUAkCFaxMsi5UCQB6qjicxkgJA/A+KjqOOAkBXi0PUHZICQHb6tFb6jwJA3uGmK46OAkB8d4ASbo4CQHCt5/GgjgJA4Mgy7ayMAkBlwqToMYsCQGrlbUpwiAJAJGKLGNyEAkACgPqedIECQPK9POZegQJAJAIiScx/AkBdKynzKH4CQM2E3bw1gAJACJGcEfF+AkC9GOoM034CQK4P85owfwJA0qOYap99AkA3VAfj0nwCQGfuYZHeeAJAvwdng7J4AkCQSbZQLHgCQCgmqD9heQJAgXea/bZ4AkAiYzJOJXgCQDqJSZ/BdwJAYdf89AZ4AkBmr/RIfHsCQBH0kWUcfQJA36EZHNl7AkBcc60qTnkCQJMt8t3JdQJAsH5ua+BzAkBHMHNXIHQCQFaiFEORcAJAx1J/U0FuAkDB5DCdyW4CQFi83I8mcAJATNe8O6FxAkDWv7bWA3ECQCrKbmSScAJASVjv2FdwAkAlLBl3wW8CQDUaEM0JbwJA+ozudcNvAkA8woP+RG8CQBEf80pScQJAGT/KkNRxAkA54mgVuW4CQJJvI0JwbwJA4AgaY65vAkDZEJV1Y3ACQD3OwfAdcwJA6BHMAhh1AkDQANbGJ3gCQNpCdEG3dQJA08R4Y6dzAkCTIX3nhHQCQMhJP0dWcwJAC9ywvDRwAkAKOO2AanECQK4EtFrNcAJAhwToG+FxAkDuNZbtn3ECQFK4/OficQJAJsvbC3JyAkCZxBa/e3ACQEG+7Fh9cQJA/TNInSdyAkBxtqAlqHMCQLhV1TG4cQJAV997+BFyAkDRjS1HgHQCQHBPE4tCcwJAGjQj+KtwAkAAhfCplm8CQBkNEtiKcQJAOT4q8/drAkANl/9gMWoCQGd5e5F6awJAQ465Kh1sAkB7w3mNRWoCQGakr+GnaAJApdAEjoNpAkCgoOM3fWoCQGl6oqesZwJARLBrCN5qAkARmvRhRWoCQBmVaNKzZAJApPt9p6NkAkAC41gqmmUCQLj8NJDkYwJARstDAnxhAkBVOLXSbGECQPgERDd6YAJA+KmcuYxdAkDXD2bsHV4CQMC8QfRzXAJAX439H3FeAkDxDKtVgV4CQKeQxo4dXAJA5CjAHC5dAkDMDh2l91sCQBAGuZ3EXgJA5iYWx2JdAkCtRnC5p14CQEzhUy+QXAJAnCxR/vZdAkCnGoCCFl8CQDfHtYufYAJALU08SFJfAkBV30oyqF0CQM6Nq7BsXAJA2PyEPDpcAkDhuqH8WFoCQCTeB8ayWAJAAvhymQlcAkATMi1qOVwCQJe0CpBSXQJAoypEB05aAkDHOUrPt1oCQJDMJnoEXgJASRA2VildAkDbcrh8aF0CQMPiPqp6XgJAYpk0M9FaAkAdSr83EFwCQGb9NJ4EXgJAvgUru5hcAkB2oikWNl0CQOZSSdBzXgJACIqZqmdiAkCkx1rtLGACQBM95KsHYAJAZWTtWDNhAkBzih+YfV8CQB0KL3JnXwJAwei5FYJhAkCSK7zLzF8CQAmm51wDXQJAdLkRfy1bAkAWJxFe5VgCQOyIzhMRVwJA5BCO/65WAkBR71cYR1QCQJnnjteJVAJAzZWzM4hSAkAI086qJVICQFIv6fiHUgJAwwxuIhtTAkBaDJxKclQCQKHBjhNjVgJAatxgoUtWAkAU7iObh1MCQPs48a+uVgJAsWjIui1YAkD+GmcpNlkCQIKm30EHWgJAXYg7jxdZAkBBrXtmR1oCQA00iK6bWgJAmRmtQX9XAkBaa0T25VQCQLrCcxI1VQJAYXo+nhFXAkB/uET901MCQP+AQroJVAJAvRk4U15UAkCNrcJXplYCQB1NWaJzWAJATQCpbghXAkAyneXk2FkCQCCYanqpUwJAOJMUiu5SAkAEwG7/91QCQBXCvWg1WAJAofUBmh1WAkBqxH3jr1UCQBzfHvtZVAJAREOqhxBWAkAZQZRsh1ICQFqqVfHHUAJA04PGEIZPAkAfsRKrx08CQOy7pohVTAJAiWvjGDhNAkBjsk+fFE4CQBZ7uEtDTwJAP/uAEG5PAkDayVtcwE8CQOsVYbnSTwJAZ9v6RTRPAkDHom76UE0CQD109wUBTgJAQ4kxs9xOAkCkvmnN1E4CQH648mtCTwJADsNmZjZOAkDU/pRS2E4CQIu0oAaDTAJATAGLahdMAkBSQ37zpE4CQOQ4m2qPTwJAm2hcDbZNAkBLp0A3R00CQHr0yv8PTgJAZSa8/QxOAkC9d0Ks6UwCQJ5royQrTQJA64AJNgFOAkAd6N/mRE8CQHc7CnOgTQJArb1kkUxPAkCOt0ifP1ACQNyYLXu6UAJAUSAsNm5PAkCRSH32BVACQJWxR0bwTwJAgEDBe/5SAkClJT9HXlACQFbB0aBjUwJAfUf0ZdBSAkC7di7zDlQCQA8YsdacUgJAJ5NxJYZRAkBojgK9+1MCQHUel2wTVQJAYbqB1khXAkCYm7+0OVgCQEhtuQgVWAJAC5M3QWpSAkA8TEZkilMCQPgPZeywUgJAdA9qGc9TAkDDSPvkCVQCQEnCRdOjUAJAoS/53OFPAkAxkZ4utFACQB8AyyKcUwJAs1JAdHBUAkD4DXhvFFICQGuqY3xKVAJAsr2JvSBVAkDuIuCl1lECQDGu8Y0FUQJAxG4bYaVRAkBCrZ6yNlECQOWOmeQRUQJAlLP3VMpRAkAc+PeJBEsCQGUZdMPxSgJArHv09rBJAkCud2jcokgCQLHvvyNkSgJAq765JixKAkCM2RY5+UYCQNL7kaGTRwJAiU6uhrZJAkBbt8mw00gCQKqYT3KbSQJAGP8rgJxJAkD+esdzJEsCQJvJuAVxTAJAKgV5wyVNAkA57K5NdksCQHlgDEdUTgJAt8hF9bRLAkAdPhrl1EoCQEXhCMiUSAJAGj2dYm1GAkDfMrlI8UUCQGz3qq/fSAJAy1pCkuFJAkDMFbyTgUkCQJwlOpcJSgJAE9qKeAdJAkCO45byMkwCQKqqJrfrSAJAGGME6p9HAkA5qrGJREcCQFgYUec1SAJACweAtBhJAkCG3VqkvEQCQEBS5DnqRAJA0zblc6RFAkD20d0mgEcCQN6AMTjSRwJA+ISjnu5CAkAJ7FMzDUACQCnc5ZhjOQJAaUAYWKo3AkDIDGp6uDkCQBXjblUDOgJA64Axw8I3AkA2S7x3sjgCQCS0pQydNwJARGziIOY1AkD4Lh3JRTUCQFSpySc7NQJAc/b81R04AkAVQcNkwjoCQB3D9k/2OgJAj7SLUk85AkCrbG7BRzgCQKVYWsB9OgJAZsnC7f43AkBr0wbEnzkCQOsW9uXgOQJAqQVq+g48AkCbiSQMhD0CQDvH0G0xPwJAtV0UJIRAAkB+lI/XpEECQMzyig7XQgJAe/uWXspDAkDiAy8Q+EMCQJE9JX+eQQJA10ML+1E+AkBV90w+fjsCQFvvGPZgOwJA1K1JEhw7AkDePAV8RDoCQAi/ui51OAJAdAv/xbU4AkBYE/+L5zgCQPsa//clOgJAf6YP8rs3AkCLTrT4NDUCQPoqZGeXNAJAp2tQjAY0AkA/qqhDGTMCQBwQ/hEZMwJANIOKFSAyAkAzZvG3OTACQMbe8Q93NAJAAoW42Ik0AkArT6rPNzUCQMbxKK9nNQJATDR6iLs3AkCsdDzJbDYCQGRgtqEiOAJA3a92Gzg6AkDuoYsZ5zgCQFIQRcpjOAJALpxblyQ5AkCHI0hswTgCQGpDFJKhOgJAdyhFink5AkApJyoRzDwCQLRfeyzNOQJAIm2Y3GM4AkDOL0kvODUCQNiA/JS2NgJAsHx4GcU1AkANBSJIGTUCQLI+axnQNAJA92XbgCQ1AkApUtRAWjYCQGHLF+ovNAJAwYIGEjo0AkBHdquYzzICQPuC+NrcLwJATbC2zY4wAkDGT8Ec9zECQBPJkbP/MAJAryXPrtwuAkAVmExN2i0CQATugyGWLAJAV+Zm/38sAkAThCHWKS0CQBupB8nxMAJAQxe9qLgyAkAoq2zH9zQCQHoAxHmrNAJAdgAIHDE0AkAYlWKDujQCQIuYJZ9/NAJAI6QsHykyAkAzCobJfDICQOcqUKyzMwJA8NZVuWszAkB9vwipdDECQIF/KZY4MAJAjSAHqNAxAkDKSJPBETICQJrrGjQZNQJAQuyVN0s2AkDdy2dpcjQCQAe9jbdJNQJAlEsNn4gzAkAcKDZj2TICQET1ZUxfLQJAxpogEGYrAkA8ZHprAywCQFvM4WOOLAJAs4Pa5oMuAkCtZpGkqC8CQIYI19EKMAJAQAiOWn0wAkC6/7q6XS0CQBdrg449KwJAxOt2O3IsAkCdsubk6CwCQHcgW3iVKgJAneUuaworAkALOYih3S4CQKcFSrvOLgJA5LKJXrosAkD+KCJwVDACQGH+3tc7LgJAXryVBsouAkAhETaBNTACQHOMG/95LgJALZC3UXUxAkB+asolIDICQC/r5C7qMAJA9E72/7IvAkBoTKxWgDACQKcgM76NLgJAmh/GLmgsAkDnaHVTDSwCQDMbYYQDLAJAzgmg0KMvAkD5+P2sey0CQKbH9XgyLgJAb6gneEkrAkB8kuzonisCQFfgoiicLAJAl8hC5VMtAkBZqWHuVi0CQMEf0ipwLAJAJsyZ7gssAkCQxVIUVisCQCB93Nn7KwJAWYFZIxMrAkC5rpgOvioCQD9OxeL9KAJA6hFDFUkmAkDBvpv1qCgCQHATAvi2KAJACfrga0wlAkAQVU3FzCMCQO7FCGJ9JQJAg56M9GskAkAccPP1QyQCQBvgFHBLJAJAtzMUYDkjAkC6536NnigCQLSu9inGJwJArhx7JGsoAkB/EzUATiYCQJTpZMaXJAJA4jy0VkojAkAEnnRFpCYCQKFvw/QBJwJAOTL/cJsjAkA3pKwXpiICQPzg4DVaIgJAiBOoRHYiAkAAdtzvbSECQHR6WQ8wJAJA3OF/I+YlAkBQ0r2uaiQCQF4mhlauJAJAlfMFvZImAkA222jGZCUCQLAFl9IWJAJADTfUzKomAkCIPUmIGyUCQBltePbLIgJAQR/HlgQjAkB5BQtWPSMCQJYuG46MJQJADQwSOzIiAkDTsPiSGx8CQB+r8EQ3HAJAR1u34j4eAkDzyxzyFBwCQC3/n3RrHAJAuA+CJU0bAkB5F2UnsRsCQNiaevGhHAJAyVMs2RUYAkBOOHWbsRgCQPklSPGwFwJAEm+5cLUXAkDg98MCVRoCQAqVe/xJGAJA+Yc18OIZAkDHSSM+axoCQEXDlQpvGQJAv9UtyJ4cAkCg510WmhsCQA59zvo1GwJAeUeWrgsbAkAiJGh3JRsCQL47MwinGwJAp5QxEB4aAkD9E5NMPRkCQMPAO07yFwJAWvS97IIZAkC69DvJvxgCQBf19ym2FwJAm5qERQcbAkCu15BMuBkCQNIzrVzfGgJAw6XI/KkbAkCDAx3Ecx4CQNrRE6f1HwJATrIjkAYgAkCe7q7x1SECQJmc84taIgJAYvKxj84gAkDCsJs8Wh8CQEBxrzu0HAJA/Plvb+cdAkAMds9KxSECQLBAuNI6IQJATxXLh00hAkBMyswv8x4CQP+qtfyDHgJA5lLAmjYgAkApDnisXiACQGHDxmKOIQJA6he44xcgAkBFm4BgwCECQFz5jAJzIwJAUPGYpv8lAkDaM1pFOiQCQLJCNuaiJQJAe/4jinsgAkDqivnOox8CQF5ECsCCHQJAfIx9LpsfAkA2kLvE+x4CQMFR70/IHAJAmj58UcUcAkD4yKkoRBwCQCp4SUUZHQJAi3zTmy0cAkCvHZsQ1hsCQKG5CQ+jGwJAWoqNzhobAkCyv6F/qxgCQO5mGK4BGAJAWlsP+zkXAkBnWP5zRxcCQDPqDqqiFgJAAE6KI54SAkCMjVwBahQCQCQuzTCrFgJA2fJSshMYAkAskHmp9BgCQJ7unrcFFwJAPjEmwOAXAkBlJ+sY4RcCQA/kLdqCGAJA/gWgonAXAkAG7dyMdxoCQLxQ5lo9HAJAxuLe1B8eAkATT0s3Eh8CQMAzk/cxHgJAb50zQykbAkDGRXyPjhwCQOGuJfTQHQJATevyYXYfAkC24yTKJB0CQG4e0amiHwJAOTYl/hQeAkCq+gI4kx8CQHuPuMYKHwJAZrw2HbgeAkA6U6BH3B4CQGGrq/CEHgJAFI1T9hkdAkDSsatXIx4CQGDVWyXwHQJAVSmC74kdAkB8FwJPAB8CQG/tnpGeHAJArYJwvQkbAkBV+s+GxhoCQMYCwWuJGgJAyGUuRbIbAkCh5izq0x4CQDDf2In0HAJAw/ATmyAgAkCLGk19+SECQLg6vugzIgJAec2OyyshAkDHhNQ/+h8CQJjjtNsrIgJAIFjYW9ohAkD2CodN/yACQPd1mx2AIAJA52l1NqMhAkABd8y3pyICQAnvB9dTIwJASsZqejQfAkCit/MlHRwCQNc1V3jwHQJAXTyvu00dAkAgEZnUGBsCQHKMQd42HAJAjxz1kvIdAkAnLMxAchoCQLMJlLp0HQJArTJNDBEbAkCOQXy+ZhwCQDdY2wiEHgJAJW55BX4eAkCwzZ4Pkh4CQEeumf4XIAJAySxjVscfAkD8v3gPoh0CQEaproUNGQJA8icteyocAkDBiYZBDRoCQNy2ksTBGgJAFzV15e8bAkCK2B6AChsCQGQsaKkFGwJAxGS3nPUbAkAZtJjVshsCQIu2USKMGQJAXYcd3k0cAkAwSfN2ABsCQJpfqaQTGwJArQEH9UgZAkAjEjDvPhoCQKZ07PU8HAJAmUezZDgbAkBiqFLdrhkCQD7MiWFMGwJAwCi/CfoWAkB4SOJ39RYCQLeYTt2QFQJA9DjxbhQXAkD1kW1tnRoCQEiu/ox1GQJAkEUwAPAVAkBihWhnoxUCQEZH6X6SFwJAbRMsxmcXAkBIApYZqRUCQNN1uldwFgJA/lAw/pkWAkDM+xWZxBYCQL0102khGAJACVWKyq0VAkA6EEyt9BUCQFmkaj6mFwJAoPFemw0YAkDEp3QZihUCQHwmeRPQFAJAPiUS2jYXAkCvuLZoPxgCQOt4RcONFgJA9DIiInsXAkCJGCGEuxcCQFuLMOr8FwJABSz1zE8ZAkAWGkikRBwCQLPnyZgtHQJAOuCyTgkaAkDdVJQ5oRwCQP/Nl/NKGwJAMCJ6YxseAkANALAt8h8CQJAQohkvHwJAapy11bsjAkALTeGweyQCQCu+sDvrJgJAa0SS07wpAkC6UqapqScCQA5QDOAeJAJADaDiOlEjAkCZcV+ltCICQKxlfc79IwJAfcUm8mciAkBwCTYGjyQCQDNLNEyWIgJAdP6+yVYhAkD1zJcuGCICQFClivvCIgJAmBMjChAiAkD/MyqVHCMCQKydQW15IQJACWfcrdoeAkAQz+Xc/BoCQCDASaavGAJAii2Bc1MXAkCun/AUdhUCQHdY2AZ1FgJAvtnA6tEXAkDQNQ3/DBkCQMHpkC5JGAJAYIe1gUYXAkA0SSOR8xYCQPCpMkQPFQJAx+7NO48VAkDzYipDuxYCQDYuzloTFgJAyW5kCAMWAkBfEN2/pxYCQCI5/wPuFQJAlWCDuCMXAkDb6ZczxRQCQDd/gkQUFAJA01GfLBMUAkCKusueFBUCQDNqzV0NFgJA5+pKy8wVAkCNynEbtBYCQPyifviJGQJAJUtyr0AaAkDi7bgnKhwCQEYoeefgHQJAZdTHmNAcAkD/m6itASACQDmfcfQxHgJA9RXyuNIdAkBpurgKDhwCQApJw9aRHgJAKjakCX4dAkDeAgLfOxkCQEoThu7PGQJAFsCB3AAXAkBoymQ1xBkCQG31DiCKGAJAtLP1PEwYAkB9ANUV3hYCQA1TlMO8FwJABOX6E4saAkCIeqjdWxkCQMY8afMPGQJAPOinblUdAkApjuSE2x4CQDgem2DiHgJAs+vP5w8gAkB0TyybvyACQD+4hQFOHgJAqB1Yfa0gAkAGZ9nKAh8CQDh0FP2mIAJAmvS47vMdAkDfkQUnpB0CQI0Z3ChLGwJABELdkX4XAkAdJ/dmNRkCQKhftSWXGAJAUFTp0cAZAkBWSdEAqRsCQDMuX9PUGwJAlaiNrA4aAkCy1IB3shoCQFreQsfOFwJANvhIb64VAkBWdKEJnxQCQDPkMOXXFAJAKSeKdRwYAkAX7GynGRkCQA43o/UWGAJA",
          "dtype": "f8"
         },
         "yaxis": "y2"
        },
        {
         "hovertemplate": "variable=batch_accuracy<br>step=%{x}<br>value=%{y}<extra></extra>",
         "legendgroup": "",
         "marker": {
          "color": "#636efa",
          "symbol": "circle"
         },
         "mode": "markers",
         "name": "",
         "showlegend": false,
         "type": "scattergl",
         "x": {
          "bdata": "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",
          "dtype": "i2"
         },
         "xaxis": "x",
         "y": {
          "bdata": "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",
          "dtype": "f8"
         },
         "yaxis": "y"
        },
        {
         "hovertemplate": "<b>Exponentially Weighted mean trendline</b><br><br>variable=batch_accuracy<br>step=%{x}<br>value=%{y} <b>(trend)</b><extra></extra>",
         "legendgroup": "",
         "line": {
          "color": "red"
         },
         "marker": {
          "color": "#636efa",
          "symbol": "circle"
         },
         "mode": "lines",
         "name": "",
         "showlegend": false,
         "type": "scattergl",
         "x": {
          "bdata": "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",
          "dtype": "i2"
         },
         "xaxis": "x",
         "y": {
          "bdata": "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",
          "dtype": "f8"
         },
         "yaxis": "y"
        }
       ],
       "layout": {
        "annotations": [
         {
          "font": {},
          "showarrow": false,
          "text": "variable=batch_accuracy",
          "textangle": 90,
          "x": 0.98,
          "xanchor": "left",
          "xref": "paper",
          "y": 0.2425,
          "yanchor": "middle",
          "yref": "paper"
         },
         {
          "font": {},
          "showarrow": false,
          "text": "variable=batch_train_loss",
          "textangle": 90,
          "x": 0.98,
          "xanchor": "left",
          "xref": "paper",
          "y": 0.7575000000000001,
          "yanchor": "middle",
          "yref": "paper"
         }
        ],
        "legend": {
         "tracegroupgap": 0
        },
        "template": {
         "data": {
          "bar": [
           {
            "error_x": {
             "color": "#2a3f5f"
            },
            "error_y": {
             "color": "#2a3f5f"
            },
            "marker": {
             "line": {
              "color": "#E5ECF6",
              "width": 0.5
             },
             "pattern": {
              "fillmode": "overlay",
              "size": 10,
              "solidity": 0.2
             }
            },
            "type": "bar"
           }
          ],
          "barpolar": [
           {
            "marker": {
             "line": {
              "color": "#E5ECF6",
              "width": 0.5
             },
             "pattern": {
              "fillmode": "overlay",
              "size": 10,
              "solidity": 0.2
             }
            },
            "type": "barpolar"
           }
          ],
          "carpet": [
           {
            "aaxis": {
             "endlinecolor": "#2a3f5f",
             "gridcolor": "white",
             "linecolor": "white",
             "minorgridcolor": "white",
             "startlinecolor": "#2a3f5f"
            },
            "baxis": {
             "endlinecolor": "#2a3f5f",
             "gridcolor": "white",
             "linecolor": "white",
             "minorgridcolor": "white",
             "startlinecolor": "#2a3f5f"
            },
            "type": "carpet"
           }
          ],
          "choropleth": [
           {
            "colorbar": {
             "outlinewidth": 0,
             "ticks": ""
            },
            "type": "choropleth"
           }
          ],
          "contour": [
           {
            "colorbar": {
             "outlinewidth": 0,
             "ticks": ""
            },
            "colorscale": [
             [
              0,
              "#0d0887"
             ],
             [
              0.1111111111111111,
              "#46039f"
             ],
             [
              0.2222222222222222,
              "#7201a8"
             ],
             [
              0.3333333333333333,
              "#9c179e"
             ],
             [
              0.4444444444444444,
              "#bd3786"
             ],
             [
              0.5555555555555556,
              "#d8576b"
             ],
             [
              0.6666666666666666,
              "#ed7953"
             ],
             [
              0.7777777777777778,
              "#fb9f3a"
             ],
             [
              0.8888888888888888,
              "#fdca26"
             ],
             [
              1,
              "#f0f921"
             ]
            ],
            "type": "contour"
           }
          ],
          "contourcarpet": [
           {
            "colorbar": {
             "outlinewidth": 0,
             "ticks": ""
            },
            "type": "contourcarpet"
           }
          ],
          "heatmap": [
           {
            "colorbar": {
             "outlinewidth": 0,
             "ticks": ""
            },
            "colorscale": [
             [
              0,
              "#0d0887"
             ],
             [
              0.1111111111111111,
              "#46039f"
             ],
             [
              0.2222222222222222,
              "#7201a8"
             ],
             [
              0.3333333333333333,
              "#9c179e"
             ],
             [
              0.4444444444444444,
              "#bd3786"
             ],
             [
              0.5555555555555556,
              "#d8576b"
             ],
             [
              0.6666666666666666,
              "#ed7953"
             ],
             [
              0.7777777777777778,
              "#fb9f3a"
             ],
             [
              0.8888888888888888,
              "#fdca26"
             ],
             [
              1,
              "#f0f921"
             ]
            ],
            "type": "heatmap"
           }
          ],
          "histogram": [
           {
            "marker": {
             "pattern": {
              "fillmode": "overlay",
              "size": 10,
              "solidity": 0.2
             }
            },
            "type": "histogram"
           }
          ],
          "histogram2d": [
           {
            "colorbar": {
             "outlinewidth": 0,
             "ticks": ""
            },
            "colorscale": [
             [
              0,
              "#0d0887"
             ],
             [
              0.1111111111111111,
              "#46039f"
             ],
             [
              0.2222222222222222,
              "#7201a8"
             ],
             [
              0.3333333333333333,
              "#9c179e"
             ],
             [
              0.4444444444444444,
              "#bd3786"
             ],
             [
              0.5555555555555556,
              "#d8576b"
             ],
             [
              0.6666666666666666,
              "#ed7953"
             ],
             [
              0.7777777777777778,
              "#fb9f3a"
             ],
             [
              0.8888888888888888,
              "#fdca26"
             ],
             [
              1,
              "#f0f921"
             ]
            ],
            "type": "histogram2d"
           }
          ],
          "histogram2dcontour": [
           {
            "colorbar": {
             "outlinewidth": 0,
             "ticks": ""
            },
            "colorscale": [
             [
              0,
              "#0d0887"
             ],
             [
              0.1111111111111111,
              "#46039f"
             ],
             [
              0.2222222222222222,
              "#7201a8"
             ],
             [
              0.3333333333333333,
              "#9c179e"
             ],
             [
              0.4444444444444444,
              "#bd3786"
             ],
             [
              0.5555555555555556,
              "#d8576b"
             ],
             [
              0.6666666666666666,
              "#ed7953"
             ],
             [
              0.7777777777777778,
              "#fb9f3a"
             ],
             [
              0.8888888888888888,
              "#fdca26"
             ],
             [
              1,
              "#f0f921"
             ]
            ],
            "type": "histogram2dcontour"
           }
          ],
          "mesh3d": [
           {
            "colorbar": {
             "outlinewidth": 0,
             "ticks": ""
            },
            "type": "mesh3d"
           }
          ],
          "parcoords": [
           {
            "line": {
             "colorbar": {
              "outlinewidth": 0,
              "ticks": ""
             }
            },
            "type": "parcoords"
           }
          ],
          "pie": [
           {
            "automargin": true,
            "type": "pie"
           }
          ],
          "scatter": [
           {
            "fillpattern": {
             "fillmode": "overlay",
             "size": 10,
             "solidity": 0.2
            },
            "type": "scatter"
           }
          ],
          "scatter3d": [
           {
            "line": {
             "colorbar": {
              "outlinewidth": 0,
              "ticks": ""
             }
            },
            "marker": {
             "colorbar": {
              "outlinewidth": 0,
              "ticks": ""
             }
            },
            "type": "scatter3d"
           }
          ],
          "scattercarpet": [
           {
            "marker": {
             "colorbar": {
              "outlinewidth": 0,
              "ticks": ""
             }
            },
            "type": "scattercarpet"
           }
          ],
          "scattergeo": [
           {
            "marker": {
             "colorbar": {
              "outlinewidth": 0,
              "ticks": ""
             }
            },
            "type": "scattergeo"
           }
          ],
          "scattergl": [
           {
            "marker": {
             "colorbar": {
              "outlinewidth": 0,
              "ticks": ""
             }
            },
            "type": "scattergl"
           }
          ],
          "scattermap": [
           {
            "marker": {
             "colorbar": {
              "outlinewidth": 0,
              "ticks": ""
             }
            },
            "type": "scattermap"
           }
          ],
          "scattermapbox": [
           {
            "marker": {
             "colorbar": {
              "outlinewidth": 0,
              "ticks": ""
             }
            },
            "type": "scattermapbox"
           }
          ],
          "scatterpolar": [
           {
            "marker": {
             "colorbar": {
              "outlinewidth": 0,
              "ticks": ""
             }
            },
            "type": "scatterpolar"
           }
          ],
          "scatterpolargl": [
           {
            "marker": {
             "colorbar": {
              "outlinewidth": 0,
              "ticks": ""
             }
            },
            "type": "scatterpolargl"
           }
          ],
          "scatterternary": [
           {
            "marker": {
             "colorbar": {
              "outlinewidth": 0,
              "ticks": ""
             }
            },
            "type": "scatterternary"
           }
          ],
          "surface": [
           {
            "colorbar": {
             "outlinewidth": 0,
             "ticks": ""
            },
            "colorscale": [
             [
              0,
              "#0d0887"
             ],
             [
              0.1111111111111111,
              "#46039f"
             ],
             [
              0.2222222222222222,
              "#7201a8"
             ],
             [
              0.3333333333333333,
              "#9c179e"
             ],
             [
              0.4444444444444444,
              "#bd3786"
             ],
             [
              0.5555555555555556,
              "#d8576b"
             ],
             [
              0.6666666666666666,
              "#ed7953"
             ],
             [
              0.7777777777777778,
              "#fb9f3a"
             ],
             [
              0.8888888888888888,
              "#fdca26"
             ],
             [
              1,
              "#f0f921"
             ]
            ],
            "type": "surface"
           }
          ],
          "table": [
           {
            "cells": {
             "fill": {
              "color": "#EBF0F8"
             },
             "line": {
              "color": "white"
             }
            },
            "header": {
             "fill": {
              "color": "#C8D4E3"
             },
             "line": {
              "color": "white"
             }
            },
            "type": "table"
           }
          ]
         },
         "layout": {
          "annotationdefaults": {
           "arrowcolor": "#2a3f5f",
           "arrowhead": 0,
           "arrowwidth": 1
          },
          "autotypenumbers": "strict",
          "coloraxis": {
           "colorbar": {
            "outlinewidth": 0,
            "ticks": ""
           }
          },
          "colorscale": {
           "diverging": [
            [
             0,
             "#8e0152"
            ],
            [
             0.1,
             "#c51b7d"
            ],
            [
             0.2,
             "#de77ae"
            ],
            [
             0.3,
             "#f1b6da"
            ],
            [
             0.4,
             "#fde0ef"
            ],
            [
             0.5,
             "#f7f7f7"
            ],
            [
             0.6,
             "#e6f5d0"
            ],
            [
             0.7,
             "#b8e186"
            ],
            [
             0.8,
             "#7fbc41"
            ],
            [
             0.9,
             "#4d9221"
            ],
            [
             1,
             "#276419"
            ]
           ],
           "sequential": [
            [
             0,
             "#0d0887"
            ],
            [
             0.1111111111111111,
             "#46039f"
            ],
            [
             0.2222222222222222,
             "#7201a8"
            ],
            [
             0.3333333333333333,
             "#9c179e"
            ],
            [
             0.4444444444444444,
             "#bd3786"
            ],
            [
             0.5555555555555556,
             "#d8576b"
            ],
            [
             0.6666666666666666,
             "#ed7953"
            ],
            [
             0.7777777777777778,
             "#fb9f3a"
            ],
            [
             0.8888888888888888,
             "#fdca26"
            ],
            [
             1,
             "#f0f921"
            ]
           ],
           "sequentialminus": [
            [
             0,
             "#0d0887"
            ],
            [
             0.1111111111111111,
             "#46039f"
            ],
            [
             0.2222222222222222,
             "#7201a8"
            ],
            [
             0.3333333333333333,
             "#9c179e"
            ],
            [
             0.4444444444444444,
             "#bd3786"
            ],
            [
             0.5555555555555556,
             "#d8576b"
            ],
            [
             0.6666666666666666,
             "#ed7953"
            ],
            [
             0.7777777777777778,
             "#fb9f3a"
            ],
            [
             0.8888888888888888,
             "#fdca26"
            ],
            [
             1,
             "#f0f921"
            ]
           ]
          },
          "colorway": [
           "#636efa",
           "#EF553B",
           "#00cc96",
           "#ab63fa",
           "#FFA15A",
           "#19d3f3",
           "#FF6692",
           "#B6E880",
           "#FF97FF",
           "#FECB52"
          ],
          "font": {
           "color": "#2a3f5f"
          },
          "geo": {
           "bgcolor": "white",
           "lakecolor": "white",
           "landcolor": "#E5ECF6",
           "showlakes": true,
           "showland": true,
           "subunitcolor": "white"
          },
          "hoverlabel": {
           "align": "left"
          },
          "hovermode": "closest",
          "mapbox": {
           "style": "light"
          },
          "paper_bgcolor": "white",
          "plot_bgcolor": "#E5ECF6",
          "polar": {
           "angularaxis": {
            "gridcolor": "white",
            "linecolor": "white",
            "ticks": ""
           },
           "bgcolor": "#E5ECF6",
           "radialaxis": {
            "gridcolor": "white",
            "linecolor": "white",
            "ticks": ""
           }
          },
          "scene": {
           "xaxis": {
            "backgroundcolor": "#E5ECF6",
            "gridcolor": "white",
            "gridwidth": 2,
            "linecolor": "white",
            "showbackground": true,
            "ticks": "",
            "zerolinecolor": "white"
           },
           "yaxis": {
            "backgroundcolor": "#E5ECF6",
            "gridcolor": "white",
            "gridwidth": 2,
            "linecolor": "white",
            "showbackground": true,
            "ticks": "",
            "zerolinecolor": "white"
           },
           "zaxis": {
            "backgroundcolor": "#E5ECF6",
            "gridcolor": "white",
            "gridwidth": 2,
            "linecolor": "white",
            "showbackground": true,
            "ticks": "",
            "zerolinecolor": "white"
           }
          },
          "shapedefaults": {
           "line": {
            "color": "#2a3f5f"
           }
          },
          "ternary": {
           "aaxis": {
            "gridcolor": "white",
            "linecolor": "white",
            "ticks": ""
           },
           "baxis": {
            "gridcolor": "white",
            "linecolor": "white",
            "ticks": ""
           },
           "bgcolor": "#E5ECF6",
           "caxis": {
            "gridcolor": "white",
            "linecolor": "white",
            "ticks": ""
           }
          },
          "title": {
           "x": 0.05
          },
          "xaxis": {
           "automargin": true,
           "gridcolor": "white",
           "linecolor": "white",
           "ticks": "",
           "title": {
            "standoff": 15
           },
           "zerolinecolor": "white",
           "zerolinewidth": 2
          },
          "yaxis": {
           "automargin": true,
           "gridcolor": "white",
           "linecolor": "white",
           "ticks": "",
           "title": {
            "standoff": 15
           },
           "zerolinecolor": "white",
           "zerolinewidth": 2
          }
         }
        },
        "title": {
         "text": "batch metrics"
        },
        "xaxis": {
         "anchor": "y",
         "domain": [
          0,
          0.98
         ],
         "title": {
          "text": "step"
         }
        },
        "xaxis2": {
         "anchor": "y2",
         "domain": [
          0,
          0.98
         ],
         "matches": "x",
         "showticklabels": false
        },
        "yaxis": {
         "anchor": "x",
         "domain": [
          0,
          0.485
         ],
         "title": {
          "text": "value"
         }
        },
        "yaxis2": {
         "anchor": "x2",
         "domain": [
          0.515,
          1
         ],
         "title": {
          "text": "value"
         }
        }
       }
      }
     },
     "metadata": {},
     "output_type": "display_data"
    },
    {
     "ename": "UndefinedVariableError",
     "evalue": "name 'validation_loss' is not defined",
     "output_type": "error",
     "traceback": [
      "\u001b[31m---------------------------------------------------------------------------\u001b[39m",
      "\u001b[31mKeyError\u001b[39m                                  Traceback (most recent call last)",
      "\u001b[36mFile \u001b[39m\u001b[32m~/miniconda3/envs/CMI/lib/python3.11/site-packages/pandas/core/computation/scope.py:231\u001b[39m, in \u001b[36mScope.resolve\u001b[39m\u001b[34m(self, key, is_local)\u001b[39m\n\u001b[32m    230\u001b[39m \u001b[38;5;28;01mif\u001b[39;00m \u001b[38;5;28mself\u001b[39m.has_resolvers:\n\u001b[32m--> \u001b[39m\u001b[32m231\u001b[39m     \u001b[38;5;28;01mreturn\u001b[39;00m \u001b[38;5;28;43mself\u001b[39;49m\u001b[43m.\u001b[49m\u001b[43mresolvers\u001b[49m\u001b[43m[\u001b[49m\u001b[43mkey\u001b[49m\u001b[43m]\u001b[49m\n\u001b[32m    233\u001b[39m \u001b[38;5;66;03m# if we're here that means that we have no locals and we also have\u001b[39;00m\n\u001b[32m    234\u001b[39m \u001b[38;5;66;03m# no resolvers\u001b[39;00m\n",
      "\u001b[36mFile \u001b[39m\u001b[32m~/miniconda3/envs/CMI/lib/python3.11/collections/__init__.py:1006\u001b[39m, in \u001b[36mChainMap.__getitem__\u001b[39m\u001b[34m(self, key)\u001b[39m\n\u001b[32m   1005\u001b[39m         \u001b[38;5;28;01mpass\u001b[39;00m\n\u001b[32m-> \u001b[39m\u001b[32m1006\u001b[39m \u001b[38;5;28;01mreturn\u001b[39;00m \u001b[38;5;28;43mself\u001b[39;49m\u001b[43m.\u001b[49m\u001b[34;43m__missing__\u001b[39;49m\u001b[43m(\u001b[49m\u001b[43mkey\u001b[49m\u001b[43m)\u001b[49m\n",
      "\u001b[36mFile \u001b[39m\u001b[32m~/miniconda3/envs/CMI/lib/python3.11/collections/__init__.py:998\u001b[39m, in \u001b[36mChainMap.__missing__\u001b[39m\u001b[34m(self, key)\u001b[39m\n\u001b[32m    997\u001b[39m \u001b[38;5;28;01mdef\u001b[39;00m\u001b[38;5;250m \u001b[39m\u001b[34m__missing__\u001b[39m(\u001b[38;5;28mself\u001b[39m, key):\n\u001b[32m--> \u001b[39m\u001b[32m998\u001b[39m     \u001b[38;5;28;01mraise\u001b[39;00m \u001b[38;5;167;01mKeyError\u001b[39;00m(key)\n",
      "\u001b[31mKeyError\u001b[39m: 'validation_loss'",
      "\nDuring handling of the above exception, another exception occurred:\n",
      "\u001b[31mKeyError\u001b[39m                                  Traceback (most recent call last)",
      "\u001b[36mFile \u001b[39m\u001b[32m~/miniconda3/envs/CMI/lib/python3.11/site-packages/pandas/core/computation/scope.py:242\u001b[39m, in \u001b[36mScope.resolve\u001b[39m\u001b[34m(self, key, is_local)\u001b[39m\n\u001b[32m    238\u001b[39m \u001b[38;5;28;01mtry\u001b[39;00m:\n\u001b[32m    239\u001b[39m     \u001b[38;5;66;03m# last ditch effort we look in temporaries\u001b[39;00m\n\u001b[32m    240\u001b[39m     \u001b[38;5;66;03m# these are created when parsing indexing expressions\u001b[39;00m\n\u001b[32m    241\u001b[39m     \u001b[38;5;66;03m# e.g., df[df > 0]\u001b[39;00m\n\u001b[32m--> \u001b[39m\u001b[32m242\u001b[39m     \u001b[38;5;28;01mreturn\u001b[39;00m \u001b[38;5;28;43mself\u001b[39;49m\u001b[43m.\u001b[49m\u001b[43mtemps\u001b[49m\u001b[43m[\u001b[49m\u001b[43mkey\u001b[49m\u001b[43m]\u001b[49m\n\u001b[32m    243\u001b[39m \u001b[38;5;28;01mexcept\u001b[39;00m \u001b[38;5;167;01mKeyError\u001b[39;00m \u001b[38;5;28;01mas\u001b[39;00m err:\n",
      "\u001b[31mKeyError\u001b[39m: 'validation_loss'",
      "\nThe above exception was the direct cause of the following exception:\n",
      "\u001b[31mUndefinedVariableError\u001b[39m                    Traceback (most recent call last)",
      "\u001b[36mCell\u001b[39m\u001b[36m \u001b[39m\u001b[32mIn[36]\u001b[39m\u001b[32m, line 27\u001b[39m\n\u001b[32m      1\u001b[39m (\n\u001b[32m      2\u001b[39m     px.scatter(\n\u001b[32m      3\u001b[39m     (\n\u001b[32m   (...)\u001b[39m\u001b[32m     22\u001b[39m     .show()\n\u001b[32m     23\u001b[39m )\n\u001b[32m     24\u001b[39m px.line(\n\u001b[32m     25\u001b[39m     (\n\u001b[32m     26\u001b[39m         \u001b[43mtraining_metrics\u001b[49m\n\u001b[32m---> \u001b[39m\u001b[32m27\u001b[39m \u001b[43m        \u001b[49m\u001b[43m.\u001b[49m\u001b[43mquery\u001b[49m\u001b[43m(\u001b[49m\u001b[33;43m\"\u001b[39;49m\u001b[33;43mvalidation_loss.notna()\u001b[39;49m\u001b[33;43m\"\u001b[39;49m\u001b[43m)\u001b[49m\n\u001b[32m     28\u001b[39m         .melt(\n\u001b[32m     29\u001b[39m             id_vars=\u001b[33m\"\u001b[39m\u001b[33mstep\u001b[39m\u001b[33m\"\u001b[39m,\n\u001b[32m     30\u001b[39m             value_vars=[\u001b[33m'\u001b[39m\u001b[33mtrain_epoch_loss\u001b[39m\u001b[33m'\u001b[39m, \u001b[33m'\u001b[39m\u001b[33mtrain_epoch_accuracy\u001b[39m\u001b[33m'\u001b[39m, \u001b[33m'\u001b[39m\u001b[33mvalidation_loss\u001b[39m\u001b[33m'\u001b[39m, \u001b[33m'\u001b[39m\u001b[33mvalidation_accuracy\u001b[39m\u001b[33m'\u001b[39m]\n\u001b[32m     31\u001b[39m         )\n\u001b[32m     32\u001b[39m     ),\n\u001b[32m     33\u001b[39m     x=\u001b[33m\"\u001b[39m\u001b[33mstep\u001b[39m\u001b[33m\"\u001b[39m,\n\u001b[32m     34\u001b[39m     y=\u001b[33m\"\u001b[39m\u001b[33mvalue\u001b[39m\u001b[33m\"\u001b[39m,\n\u001b[32m     35\u001b[39m     color=\u001b[33m\"\u001b[39m\u001b[33mvariable\u001b[39m\u001b[33m\"\u001b[39m,\n\u001b[32m     36\u001b[39m     facet_row=\u001b[33m\"\u001b[39m\u001b[33mvariable\u001b[39m\u001b[33m\"\u001b[39m,\n\u001b[32m     37\u001b[39m     title=\u001b[33m\"\u001b[39m\u001b[33mepoch metrics\u001b[39m\u001b[33m\"\u001b[39m,\n\u001b[32m     38\u001b[39m     render_mode=\u001b[33m\"\u001b[39m\u001b[33mline+marker\u001b[39m\u001b[33m\"\u001b[39m,\n\u001b[32m     39\u001b[39m ).update_yaxes(matches=\u001b[38;5;28;01mNone\u001b[39;00m)\n",
      "\u001b[36mFile \u001b[39m\u001b[32m~/miniconda3/envs/CMI/lib/python3.11/site-packages/pandas/core/frame.py:4823\u001b[39m, in \u001b[36mDataFrame.query\u001b[39m\u001b[34m(self, expr, inplace, **kwargs)\u001b[39m\n\u001b[32m   4821\u001b[39m kwargs[\u001b[33m\"\u001b[39m\u001b[33mlevel\u001b[39m\u001b[33m\"\u001b[39m] = kwargs.pop(\u001b[33m\"\u001b[39m\u001b[33mlevel\u001b[39m\u001b[33m\"\u001b[39m, \u001b[32m0\u001b[39m) + \u001b[32m1\u001b[39m\n\u001b[32m   4822\u001b[39m kwargs[\u001b[33m\"\u001b[39m\u001b[33mtarget\u001b[39m\u001b[33m\"\u001b[39m] = \u001b[38;5;28;01mNone\u001b[39;00m\n\u001b[32m-> \u001b[39m\u001b[32m4823\u001b[39m res = \u001b[38;5;28;43mself\u001b[39;49m\u001b[43m.\u001b[49m\u001b[43meval\u001b[49m\u001b[43m(\u001b[49m\u001b[43mexpr\u001b[49m\u001b[43m,\u001b[49m\u001b[43m \u001b[49m\u001b[43m*\u001b[49m\u001b[43m*\u001b[49m\u001b[43mkwargs\u001b[49m\u001b[43m)\u001b[49m\n\u001b[32m   4825\u001b[39m \u001b[38;5;28;01mtry\u001b[39;00m:\n\u001b[32m   4826\u001b[39m     result = \u001b[38;5;28mself\u001b[39m.loc[res]\n",
      "\u001b[36mFile \u001b[39m\u001b[32m~/miniconda3/envs/CMI/lib/python3.11/site-packages/pandas/core/frame.py:4949\u001b[39m, in \u001b[36mDataFrame.eval\u001b[39m\u001b[34m(self, expr, inplace, **kwargs)\u001b[39m\n\u001b[32m   4946\u001b[39m     kwargs[\u001b[33m\"\u001b[39m\u001b[33mtarget\u001b[39m\u001b[33m\"\u001b[39m] = \u001b[38;5;28mself\u001b[39m\n\u001b[32m   4947\u001b[39m kwargs[\u001b[33m\"\u001b[39m\u001b[33mresolvers\u001b[39m\u001b[33m\"\u001b[39m] = \u001b[38;5;28mtuple\u001b[39m(kwargs.get(\u001b[33m\"\u001b[39m\u001b[33mresolvers\u001b[39m\u001b[33m\"\u001b[39m, ())) + resolvers\n\u001b[32m-> \u001b[39m\u001b[32m4949\u001b[39m \u001b[38;5;28;01mreturn\u001b[39;00m \u001b[43m_eval\u001b[49m\u001b[43m(\u001b[49m\u001b[43mexpr\u001b[49m\u001b[43m,\u001b[49m\u001b[43m \u001b[49m\u001b[43minplace\u001b[49m\u001b[43m=\u001b[49m\u001b[43minplace\u001b[49m\u001b[43m,\u001b[49m\u001b[43m \u001b[49m\u001b[43m*\u001b[49m\u001b[43m*\u001b[49m\u001b[43mkwargs\u001b[49m\u001b[43m)\u001b[49m\n",
      "\u001b[36mFile \u001b[39m\u001b[32m~/miniconda3/envs/CMI/lib/python3.11/site-packages/pandas/core/computation/eval.py:336\u001b[39m, in \u001b[36meval\u001b[39m\u001b[34m(expr, parser, engine, local_dict, global_dict, resolvers, level, target, inplace)\u001b[39m\n\u001b[32m    327\u001b[39m \u001b[38;5;66;03m# get our (possibly passed-in) scope\u001b[39;00m\n\u001b[32m    328\u001b[39m env = ensure_scope(\n\u001b[32m    329\u001b[39m     level + \u001b[32m1\u001b[39m,\n\u001b[32m    330\u001b[39m     global_dict=global_dict,\n\u001b[32m   (...)\u001b[39m\u001b[32m    333\u001b[39m     target=target,\n\u001b[32m    334\u001b[39m )\n\u001b[32m--> \u001b[39m\u001b[32m336\u001b[39m parsed_expr = \u001b[43mExpr\u001b[49m\u001b[43m(\u001b[49m\u001b[43mexpr\u001b[49m\u001b[43m,\u001b[49m\u001b[43m \u001b[49m\u001b[43mengine\u001b[49m\u001b[43m=\u001b[49m\u001b[43mengine\u001b[49m\u001b[43m,\u001b[49m\u001b[43m \u001b[49m\u001b[43mparser\u001b[49m\u001b[43m=\u001b[49m\u001b[43mparser\u001b[49m\u001b[43m,\u001b[49m\u001b[43m \u001b[49m\u001b[43menv\u001b[49m\u001b[43m=\u001b[49m\u001b[43menv\u001b[49m\u001b[43m)\u001b[49m\n\u001b[32m    338\u001b[39m \u001b[38;5;28;01mif\u001b[39;00m engine == \u001b[33m\"\u001b[39m\u001b[33mnumexpr\u001b[39m\u001b[33m\"\u001b[39m \u001b[38;5;129;01mand\u001b[39;00m (\n\u001b[32m    339\u001b[39m     is_extension_array_dtype(parsed_expr.terms.return_type)\n\u001b[32m    340\u001b[39m     \u001b[38;5;129;01mor\u001b[39;00m \u001b[38;5;28mgetattr\u001b[39m(parsed_expr.terms, \u001b[33m\"\u001b[39m\u001b[33moperand_types\u001b[39m\u001b[33m\"\u001b[39m, \u001b[38;5;28;01mNone\u001b[39;00m) \u001b[38;5;129;01mis\u001b[39;00m \u001b[38;5;129;01mnot\u001b[39;00m \u001b[38;5;28;01mNone\u001b[39;00m\n\u001b[32m   (...)\u001b[39m\u001b[32m    344\u001b[39m     )\n\u001b[32m    345\u001b[39m ):\n\u001b[32m    346\u001b[39m     warnings.warn(\n\u001b[32m    347\u001b[39m         \u001b[33m\"\u001b[39m\u001b[33mEngine has switched to \u001b[39m\u001b[33m'\u001b[39m\u001b[33mpython\u001b[39m\u001b[33m'\u001b[39m\u001b[33m because numexpr does not support \u001b[39m\u001b[33m\"\u001b[39m\n\u001b[32m    348\u001b[39m         \u001b[33m\"\u001b[39m\u001b[33mextension array dtypes. Please set your engine to python manually.\u001b[39m\u001b[33m\"\u001b[39m,\n\u001b[32m    349\u001b[39m         \u001b[38;5;167;01mRuntimeWarning\u001b[39;00m,\n\u001b[32m    350\u001b[39m         stacklevel=find_stack_level(),\n\u001b[32m    351\u001b[39m     )\n",
      "\u001b[36mFile \u001b[39m\u001b[32m~/miniconda3/envs/CMI/lib/python3.11/site-packages/pandas/core/computation/expr.py:805\u001b[39m, in \u001b[36mExpr.__init__\u001b[39m\u001b[34m(self, expr, engine, parser, env, level)\u001b[39m\n\u001b[32m    803\u001b[39m \u001b[38;5;28mself\u001b[39m.parser = parser\n\u001b[32m    804\u001b[39m \u001b[38;5;28mself\u001b[39m._visitor = PARSERS[parser](\u001b[38;5;28mself\u001b[39m.env, \u001b[38;5;28mself\u001b[39m.engine, \u001b[38;5;28mself\u001b[39m.parser)\n\u001b[32m--> \u001b[39m\u001b[32m805\u001b[39m \u001b[38;5;28mself\u001b[39m.terms = \u001b[38;5;28;43mself\u001b[39;49m\u001b[43m.\u001b[49m\u001b[43mparse\u001b[49m\u001b[43m(\u001b[49m\u001b[43m)\u001b[49m\n",
      "\u001b[36mFile \u001b[39m\u001b[32m~/miniconda3/envs/CMI/lib/python3.11/site-packages/pandas/core/computation/expr.py:824\u001b[39m, in \u001b[36mExpr.parse\u001b[39m\u001b[34m(self)\u001b[39m\n\u001b[32m    820\u001b[39m \u001b[38;5;28;01mdef\u001b[39;00m\u001b[38;5;250m \u001b[39m\u001b[34mparse\u001b[39m(\u001b[38;5;28mself\u001b[39m):\n\u001b[32m    821\u001b[39m \u001b[38;5;250m    \u001b[39m\u001b[33;03m\"\"\"\u001b[39;00m\n\u001b[32m    822\u001b[39m \u001b[33;03m    Parse an expression.\u001b[39;00m\n\u001b[32m    823\u001b[39m \u001b[33;03m    \"\"\"\u001b[39;00m\n\u001b[32m--> \u001b[39m\u001b[32m824\u001b[39m     \u001b[38;5;28;01mreturn\u001b[39;00m \u001b[38;5;28;43mself\u001b[39;49m\u001b[43m.\u001b[49m\u001b[43m_visitor\u001b[49m\u001b[43m.\u001b[49m\u001b[43mvisit\u001b[49m\u001b[43m(\u001b[49m\u001b[38;5;28;43mself\u001b[39;49m\u001b[43m.\u001b[49m\u001b[43mexpr\u001b[49m\u001b[43m)\u001b[49m\n",
      "\u001b[36mFile \u001b[39m\u001b[32m~/miniconda3/envs/CMI/lib/python3.11/site-packages/pandas/core/computation/expr.py:411\u001b[39m, in \u001b[36mBaseExprVisitor.visit\u001b[39m\u001b[34m(self, node, **kwargs)\u001b[39m\n\u001b[32m    409\u001b[39m method = \u001b[33mf\u001b[39m\u001b[33m\"\u001b[39m\u001b[33mvisit_\u001b[39m\u001b[38;5;132;01m{\u001b[39;00m\u001b[38;5;28mtype\u001b[39m(node).\u001b[34m__name__\u001b[39m\u001b[38;5;132;01m}\u001b[39;00m\u001b[33m\"\u001b[39m\n\u001b[32m    410\u001b[39m visitor = \u001b[38;5;28mgetattr\u001b[39m(\u001b[38;5;28mself\u001b[39m, method)\n\u001b[32m--> \u001b[39m\u001b[32m411\u001b[39m \u001b[38;5;28;01mreturn\u001b[39;00m \u001b[43mvisitor\u001b[49m\u001b[43m(\u001b[49m\u001b[43mnode\u001b[49m\u001b[43m,\u001b[49m\u001b[43m \u001b[49m\u001b[43m*\u001b[49m\u001b[43m*\u001b[49m\u001b[43mkwargs\u001b[49m\u001b[43m)\u001b[49m\n",
      "\u001b[36mFile \u001b[39m\u001b[32m~/miniconda3/envs/CMI/lib/python3.11/site-packages/pandas/core/computation/expr.py:417\u001b[39m, in \u001b[36mBaseExprVisitor.visit_Module\u001b[39m\u001b[34m(self, node, **kwargs)\u001b[39m\n\u001b[32m    415\u001b[39m     \u001b[38;5;28;01mraise\u001b[39;00m \u001b[38;5;167;01mSyntaxError\u001b[39;00m(\u001b[33m\"\u001b[39m\u001b[33monly a single expression is allowed\u001b[39m\u001b[33m\"\u001b[39m)\n\u001b[32m    416\u001b[39m expr = node.body[\u001b[32m0\u001b[39m]\n\u001b[32m--> \u001b[39m\u001b[32m417\u001b[39m \u001b[38;5;28;01mreturn\u001b[39;00m \u001b[38;5;28;43mself\u001b[39;49m\u001b[43m.\u001b[49m\u001b[43mvisit\u001b[49m\u001b[43m(\u001b[49m\u001b[43mexpr\u001b[49m\u001b[43m,\u001b[49m\u001b[43m \u001b[49m\u001b[43m*\u001b[49m\u001b[43m*\u001b[49m\u001b[43mkwargs\u001b[49m\u001b[43m)\u001b[49m\n",
      "\u001b[36mFile \u001b[39m\u001b[32m~/miniconda3/envs/CMI/lib/python3.11/site-packages/pandas/core/computation/expr.py:411\u001b[39m, in \u001b[36mBaseExprVisitor.visit\u001b[39m\u001b[34m(self, node, **kwargs)\u001b[39m\n\u001b[32m    409\u001b[39m method = \u001b[33mf\u001b[39m\u001b[33m\"\u001b[39m\u001b[33mvisit_\u001b[39m\u001b[38;5;132;01m{\u001b[39;00m\u001b[38;5;28mtype\u001b[39m(node).\u001b[34m__name__\u001b[39m\u001b[38;5;132;01m}\u001b[39;00m\u001b[33m\"\u001b[39m\n\u001b[32m    410\u001b[39m visitor = \u001b[38;5;28mgetattr\u001b[39m(\u001b[38;5;28mself\u001b[39m, method)\n\u001b[32m--> \u001b[39m\u001b[32m411\u001b[39m \u001b[38;5;28;01mreturn\u001b[39;00m \u001b[43mvisitor\u001b[49m\u001b[43m(\u001b[49m\u001b[43mnode\u001b[49m\u001b[43m,\u001b[49m\u001b[43m \u001b[49m\u001b[43m*\u001b[49m\u001b[43m*\u001b[49m\u001b[43mkwargs\u001b[49m\u001b[43m)\u001b[49m\n",
      "\u001b[36mFile \u001b[39m\u001b[32m~/miniconda3/envs/CMI/lib/python3.11/site-packages/pandas/core/computation/expr.py:420\u001b[39m, in \u001b[36mBaseExprVisitor.visit_Expr\u001b[39m\u001b[34m(self, node, **kwargs)\u001b[39m\n\u001b[32m    419\u001b[39m \u001b[38;5;28;01mdef\u001b[39;00m\u001b[38;5;250m \u001b[39m\u001b[34mvisit_Expr\u001b[39m(\u001b[38;5;28mself\u001b[39m, node, **kwargs):\n\u001b[32m--> \u001b[39m\u001b[32m420\u001b[39m     \u001b[38;5;28;01mreturn\u001b[39;00m \u001b[38;5;28;43mself\u001b[39;49m\u001b[43m.\u001b[49m\u001b[43mvisit\u001b[49m\u001b[43m(\u001b[49m\u001b[43mnode\u001b[49m\u001b[43m.\u001b[49m\u001b[43mvalue\u001b[49m\u001b[43m,\u001b[49m\u001b[43m \u001b[49m\u001b[43m*\u001b[49m\u001b[43m*\u001b[49m\u001b[43mkwargs\u001b[49m\u001b[43m)\u001b[49m\n",
      "\u001b[36mFile \u001b[39m\u001b[32m~/miniconda3/envs/CMI/lib/python3.11/site-packages/pandas/core/computation/expr.py:411\u001b[39m, in \u001b[36mBaseExprVisitor.visit\u001b[39m\u001b[34m(self, node, **kwargs)\u001b[39m\n\u001b[32m    409\u001b[39m method = \u001b[33mf\u001b[39m\u001b[33m\"\u001b[39m\u001b[33mvisit_\u001b[39m\u001b[38;5;132;01m{\u001b[39;00m\u001b[38;5;28mtype\u001b[39m(node).\u001b[34m__name__\u001b[39m\u001b[38;5;132;01m}\u001b[39;00m\u001b[33m\"\u001b[39m\n\u001b[32m    410\u001b[39m visitor = \u001b[38;5;28mgetattr\u001b[39m(\u001b[38;5;28mself\u001b[39m, method)\n\u001b[32m--> \u001b[39m\u001b[32m411\u001b[39m \u001b[38;5;28;01mreturn\u001b[39;00m \u001b[43mvisitor\u001b[49m\u001b[43m(\u001b[49m\u001b[43mnode\u001b[49m\u001b[43m,\u001b[49m\u001b[43m \u001b[49m\u001b[43m*\u001b[49m\u001b[43m*\u001b[49m\u001b[43mkwargs\u001b[49m\u001b[43m)\u001b[49m\n",
      "\u001b[36mFile \u001b[39m\u001b[32m~/miniconda3/envs/CMI/lib/python3.11/site-packages/pandas/core/computation/expr.py:655\u001b[39m, in \u001b[36mBaseExprVisitor.visit_Call\u001b[39m\u001b[34m(self, node, side, **kwargs)\u001b[39m\n\u001b[32m    653\u001b[39m \u001b[38;5;28;01mdef\u001b[39;00m\u001b[38;5;250m \u001b[39m\u001b[34mvisit_Call\u001b[39m(\u001b[38;5;28mself\u001b[39m, node, side=\u001b[38;5;28;01mNone\u001b[39;00m, **kwargs):\n\u001b[32m    654\u001b[39m     \u001b[38;5;28;01mif\u001b[39;00m \u001b[38;5;28misinstance\u001b[39m(node.func, ast.Attribute) \u001b[38;5;129;01mand\u001b[39;00m node.func.attr != \u001b[33m\"\u001b[39m\u001b[33m__call__\u001b[39m\u001b[33m\"\u001b[39m:\n\u001b[32m--> \u001b[39m\u001b[32m655\u001b[39m         res = \u001b[38;5;28;43mself\u001b[39;49m\u001b[43m.\u001b[49m\u001b[43mvisit_Attribute\u001b[49m\u001b[43m(\u001b[49m\u001b[43mnode\u001b[49m\u001b[43m.\u001b[49m\u001b[43mfunc\u001b[49m\u001b[43m)\u001b[49m\n\u001b[32m    656\u001b[39m     \u001b[38;5;28;01melif\u001b[39;00m \u001b[38;5;129;01mnot\u001b[39;00m \u001b[38;5;28misinstance\u001b[39m(node.func, ast.Name):\n\u001b[32m    657\u001b[39m         \u001b[38;5;28;01mraise\u001b[39;00m \u001b[38;5;167;01mTypeError\u001b[39;00m(\u001b[33m\"\u001b[39m\u001b[33mOnly named functions are supported\u001b[39m\u001b[33m\"\u001b[39m)\n",
      "\u001b[36mFile \u001b[39m\u001b[32m~/miniconda3/envs/CMI/lib/python3.11/site-packages/pandas/core/computation/expr.py:640\u001b[39m, in \u001b[36mBaseExprVisitor.visit_Attribute\u001b[39m\u001b[34m(self, node, **kwargs)\u001b[39m\n\u001b[32m    637\u001b[39m ctx = node.ctx\n\u001b[32m    638\u001b[39m \u001b[38;5;28;01mif\u001b[39;00m \u001b[38;5;28misinstance\u001b[39m(ctx, ast.Load):\n\u001b[32m    639\u001b[39m     \u001b[38;5;66;03m# resolve the value\u001b[39;00m\n\u001b[32m--> \u001b[39m\u001b[32m640\u001b[39m     resolved = \u001b[38;5;28;43mself\u001b[39;49m\u001b[43m.\u001b[49m\u001b[43mvisit\u001b[49m\u001b[43m(\u001b[49m\u001b[43mvalue\u001b[49m\u001b[43m)\u001b[49m.value\n\u001b[32m    641\u001b[39m     \u001b[38;5;28;01mtry\u001b[39;00m:\n\u001b[32m    642\u001b[39m         v = \u001b[38;5;28mgetattr\u001b[39m(resolved, attr)\n",
      "\u001b[36mFile \u001b[39m\u001b[32m~/miniconda3/envs/CMI/lib/python3.11/site-packages/pandas/core/computation/expr.py:411\u001b[39m, in \u001b[36mBaseExprVisitor.visit\u001b[39m\u001b[34m(self, node, **kwargs)\u001b[39m\n\u001b[32m    409\u001b[39m method = \u001b[33mf\u001b[39m\u001b[33m\"\u001b[39m\u001b[33mvisit_\u001b[39m\u001b[38;5;132;01m{\u001b[39;00m\u001b[38;5;28mtype\u001b[39m(node).\u001b[34m__name__\u001b[39m\u001b[38;5;132;01m}\u001b[39;00m\u001b[33m\"\u001b[39m\n\u001b[32m    410\u001b[39m visitor = \u001b[38;5;28mgetattr\u001b[39m(\u001b[38;5;28mself\u001b[39m, method)\n\u001b[32m--> \u001b[39m\u001b[32m411\u001b[39m \u001b[38;5;28;01mreturn\u001b[39;00m \u001b[43mvisitor\u001b[49m\u001b[43m(\u001b[49m\u001b[43mnode\u001b[49m\u001b[43m,\u001b[49m\u001b[43m \u001b[49m\u001b[43m*\u001b[49m\u001b[43m*\u001b[49m\u001b[43mkwargs\u001b[49m\u001b[43m)\u001b[49m\n",
      "\u001b[36mFile \u001b[39m\u001b[32m~/miniconda3/envs/CMI/lib/python3.11/site-packages/pandas/core/computation/expr.py:541\u001b[39m, in \u001b[36mBaseExprVisitor.visit_Name\u001b[39m\u001b[34m(self, node, **kwargs)\u001b[39m\n\u001b[32m    540\u001b[39m \u001b[38;5;28;01mdef\u001b[39;00m\u001b[38;5;250m \u001b[39m\u001b[34mvisit_Name\u001b[39m(\u001b[38;5;28mself\u001b[39m, node, **kwargs) -> Term:\n\u001b[32m--> \u001b[39m\u001b[32m541\u001b[39m     \u001b[38;5;28;01mreturn\u001b[39;00m \u001b[38;5;28;43mself\u001b[39;49m\u001b[43m.\u001b[49m\u001b[43mterm_type\u001b[49m\u001b[43m(\u001b[49m\u001b[43mnode\u001b[49m\u001b[43m.\u001b[49m\u001b[43mid\u001b[49m\u001b[43m,\u001b[49m\u001b[43m \u001b[49m\u001b[38;5;28;43mself\u001b[39;49m\u001b[43m.\u001b[49m\u001b[43menv\u001b[49m\u001b[43m,\u001b[49m\u001b[43m \u001b[49m\u001b[43m*\u001b[49m\u001b[43m*\u001b[49m\u001b[43mkwargs\u001b[49m\u001b[43m)\u001b[49m\n",
      "\u001b[36mFile \u001b[39m\u001b[32m~/miniconda3/envs/CMI/lib/python3.11/site-packages/pandas/core/computation/ops.py:91\u001b[39m, in \u001b[36mTerm.__init__\u001b[39m\u001b[34m(self, name, env, side, encoding)\u001b[39m\n\u001b[32m     89\u001b[39m tname = \u001b[38;5;28mstr\u001b[39m(name)\n\u001b[32m     90\u001b[39m \u001b[38;5;28mself\u001b[39m.is_local = tname.startswith(LOCAL_TAG) \u001b[38;5;129;01mor\u001b[39;00m tname \u001b[38;5;129;01min\u001b[39;00m DEFAULT_GLOBALS\n\u001b[32m---> \u001b[39m\u001b[32m91\u001b[39m \u001b[38;5;28mself\u001b[39m._value = \u001b[38;5;28;43mself\u001b[39;49m\u001b[43m.\u001b[49m\u001b[43m_resolve_name\u001b[49m\u001b[43m(\u001b[49m\u001b[43m)\u001b[49m\n\u001b[32m     92\u001b[39m \u001b[38;5;28mself\u001b[39m.encoding = encoding\n",
      "\u001b[36mFile \u001b[39m\u001b[32m~/miniconda3/envs/CMI/lib/python3.11/site-packages/pandas/core/computation/ops.py:115\u001b[39m, in \u001b[36mTerm._resolve_name\u001b[39m\u001b[34m(self)\u001b[39m\n\u001b[32m    110\u001b[39m \u001b[38;5;28;01mif\u001b[39;00m local_name \u001b[38;5;129;01min\u001b[39;00m \u001b[38;5;28mself\u001b[39m.env.scope \u001b[38;5;129;01mand\u001b[39;00m \u001b[38;5;28misinstance\u001b[39m(\n\u001b[32m    111\u001b[39m     \u001b[38;5;28mself\u001b[39m.env.scope[local_name], \u001b[38;5;28mtype\u001b[39m\n\u001b[32m    112\u001b[39m ):\n\u001b[32m    113\u001b[39m     is_local = \u001b[38;5;28;01mFalse\u001b[39;00m\n\u001b[32m--> \u001b[39m\u001b[32m115\u001b[39m res = \u001b[38;5;28;43mself\u001b[39;49m\u001b[43m.\u001b[49m\u001b[43menv\u001b[49m\u001b[43m.\u001b[49m\u001b[43mresolve\u001b[49m\u001b[43m(\u001b[49m\u001b[43mlocal_name\u001b[49m\u001b[43m,\u001b[49m\u001b[43m \u001b[49m\u001b[43mis_local\u001b[49m\u001b[43m=\u001b[49m\u001b[43mis_local\u001b[49m\u001b[43m)\u001b[49m\n\u001b[32m    116\u001b[39m \u001b[38;5;28mself\u001b[39m.update(res)\n\u001b[32m    118\u001b[39m \u001b[38;5;28;01mif\u001b[39;00m \u001b[38;5;28mhasattr\u001b[39m(res, \u001b[33m\"\u001b[39m\u001b[33mndim\u001b[39m\u001b[33m\"\u001b[39m) \u001b[38;5;129;01mand\u001b[39;00m res.ndim > \u001b[32m2\u001b[39m:\n",
      "\u001b[36mFile \u001b[39m\u001b[32m~/miniconda3/envs/CMI/lib/python3.11/site-packages/pandas/core/computation/scope.py:244\u001b[39m, in \u001b[36mScope.resolve\u001b[39m\u001b[34m(self, key, is_local)\u001b[39m\n\u001b[32m    242\u001b[39m     \u001b[38;5;28;01mreturn\u001b[39;00m \u001b[38;5;28mself\u001b[39m.temps[key]\n\u001b[32m    243\u001b[39m \u001b[38;5;28;01mexcept\u001b[39;00m \u001b[38;5;167;01mKeyError\u001b[39;00m \u001b[38;5;28;01mas\u001b[39;00m err:\n\u001b[32m--> \u001b[39m\u001b[32m244\u001b[39m     \u001b[38;5;28;01mraise\u001b[39;00m UndefinedVariableError(key, is_local) \u001b[38;5;28;01mfrom\u001b[39;00m\u001b[38;5;250m \u001b[39m\u001b[34;01merr\u001b[39;00m\n",
      "\u001b[31mUndefinedVariableError\u001b[39m: name 'validation_loss' is not defined"
     ]
    }
   ],
   "source": [
    "(\n",
    "    px.scatter(\n",
    "    (\n",
    "        training_metrics\n",
    "        .melt(\n",
    "            id_vars=\"step\",\n",
    "            value_vars=[\n",
    "                \"batch_train_loss\",\n",
    "                \"batch_accuracy\",\n",
    "            ]\n",
    "        )\n",
    "    ),\n",
    "    x=\"step\",\n",
    "    y=\"value\",\n",
    "    facet_row=\"variable\",\n",
    "    trendline=\"ewm\",\n",
    "    trendline_options={\"com\": 30},\n",
    "    trendline_color_override=\"red\",\n",
    "    title=\"batch metrics\",\n",
    "    )\n",
    "    .update_yaxes(matches=None)\n",
    "    .show()\n",
    ")\n",
    "px.line(\n",
    "    (\n",
    "        training_metrics\n",
    "        .query(\"validation_loss.notna()\")\n",
    "        .melt(\n",
    "            id_vars=\"step\",\n",
    "            value_vars=['train_epoch_loss', 'train_epoch_accuracy', 'validation_loss', 'validation_accuracy']\n",
    "        )\n",
    "    ),\n",
    "    x=\"step\",\n",
    "    y=\"value\",\n",
    "    color=\"variable\",\n",
    "    facet_row=\"variable\",\n",
    "    title=\"epoch metrics\",\n",
    "    render_mode=\"line+marker\",\n",
    ").update_yaxes(matches=None)"
   ]
  },
  {
   "cell_type": "code",
   "execution_count": null,
   "id": "449b7e61",
   "metadata": {},
   "outputs": [
    {
     "data": {
      "text/plain": [
       "Index(['step', 'epoch', 'batch_train_loss', 'lr', 'batch_accuracy',\n",
       "       'train_epoch_loss', 'train_epoch_accuracy'],\n",
       "      dtype='object')"
      ]
     },
     "execution_count": 21,
     "metadata": {},
     "output_type": "execute_result"
    }
   ],
   "source": [
    "training_metrics.columns"
   ]
  },
  {
   "cell_type": "code",
   "execution_count": null,
   "id": "d6b60fd7",
   "metadata": {},
   "outputs": [],
   "source": []
  },
  {
   "cell_type": "code",
   "execution_count": null,
   "id": "ce2e1c7a",
   "metadata": {},
   "outputs": [
    {
     "data": {
      "text/html": [
       "<div>\n",
       "<style scoped>\n",
       "    .dataframe tbody tr th:only-of-type {\n",
       "        vertical-align: middle;\n",
       "    }\n",
       "\n",
       "    .dataframe tbody tr th {\n",
       "        vertical-align: top;\n",
       "    }\n",
       "\n",
       "    .dataframe thead th {\n",
       "        text-align: right;\n",
       "    }\n",
       "</style>\n",
       "<table border=\"1\" class=\"dataframe\">\n",
       "  <thead>\n",
       "    <tr style=\"text-align: right;\">\n",
       "      <th></th>\n",
       "      <th>step</th>\n",
       "      <th>epoch</th>\n",
       "      <th>batch_train_loss</th>\n",
       "      <th>lr</th>\n",
       "      <th>batch_accuracy</th>\n",
       "      <th>train_epoch_loss</th>\n",
       "      <th>train_epoch_accuracy</th>\n",
       "    </tr>\n",
       "  </thead>\n",
       "  <tbody>\n",
       "    <tr>\n",
       "      <th>31</th>\n",
       "      <td>31</td>\n",
       "      <td>0</td>\n",
       "      <td>2.707193</td>\n",
       "      <td>0.0005</td>\n",
       "      <td>0.260465</td>\n",
       "      <td>2.769618</td>\n",
       "      <td>0.208945</td>\n",
       "    </tr>\n",
       "    <tr>\n",
       "      <th>63</th>\n",
       "      <td>63</td>\n",
       "      <td>1</td>\n",
       "      <td>2.662001</td>\n",
       "      <td>0.0005</td>\n",
       "      <td>0.325581</td>\n",
       "      <td>2.695913</td>\n",
       "      <td>0.282269</td>\n",
       "    </tr>\n",
       "    <tr>\n",
       "      <th>95</th>\n",
       "      <td>95</td>\n",
       "      <td>2</td>\n",
       "      <td>2.666434</td>\n",
       "      <td>0.0005</td>\n",
       "      <td>0.306977</td>\n",
       "      <td>2.659598</td>\n",
       "      <td>0.322703</td>\n",
       "    </tr>\n",
       "    <tr>\n",
       "      <th>127</th>\n",
       "      <td>127</td>\n",
       "      <td>3</td>\n",
       "      <td>2.642977</td>\n",
       "      <td>0.0005</td>\n",
       "      <td>0.344186</td>\n",
       "      <td>2.642536</td>\n",
       "      <td>0.338026</td>\n",
       "    </tr>\n",
       "    <tr>\n",
       "      <th>159</th>\n",
       "      <td>159</td>\n",
       "      <td>4</td>\n",
       "      <td>2.626102</td>\n",
       "      <td>0.0005</td>\n",
       "      <td>0.367442</td>\n",
       "      <td>2.623182</td>\n",
       "      <td>0.357796</td>\n",
       "    </tr>\n",
       "    <tr>\n",
       "      <th>191</th>\n",
       "      <td>191</td>\n",
       "      <td>5</td>\n",
       "      <td>2.635614</td>\n",
       "      <td>0.0005</td>\n",
       "      <td>0.348837</td>\n",
       "      <td>2.603108</td>\n",
       "      <td>0.380652</td>\n",
       "    </tr>\n",
       "    <tr>\n",
       "      <th>223</th>\n",
       "      <td>223</td>\n",
       "      <td>6</td>\n",
       "      <td>2.577752</td>\n",
       "      <td>0.0005</td>\n",
       "      <td>0.404651</td>\n",
       "      <td>2.591906</td>\n",
       "      <td>0.390331</td>\n",
       "    </tr>\n",
       "    <tr>\n",
       "      <th>255</th>\n",
       "      <td>255</td>\n",
       "      <td>7</td>\n",
       "      <td>2.559795</td>\n",
       "      <td>0.0005</td>\n",
       "      <td>0.418605</td>\n",
       "      <td>2.565200</td>\n",
       "      <td>0.419698</td>\n",
       "    </tr>\n",
       "    <tr>\n",
       "      <th>287</th>\n",
       "      <td>287</td>\n",
       "      <td>8</td>\n",
       "      <td>2.558343</td>\n",
       "      <td>0.0005</td>\n",
       "      <td>0.427907</td>\n",
       "      <td>2.549402</td>\n",
       "      <td>0.433782</td>\n",
       "    </tr>\n",
       "    <tr>\n",
       "      <th>319</th>\n",
       "      <td>319</td>\n",
       "      <td>9</td>\n",
       "      <td>2.560930</td>\n",
       "      <td>0.0005</td>\n",
       "      <td>0.423256</td>\n",
       "      <td>2.543824</td>\n",
       "      <td>0.440839</td>\n",
       "    </tr>\n",
       "    <tr>\n",
       "      <th>351</th>\n",
       "      <td>351</td>\n",
       "      <td>10</td>\n",
       "      <td>2.540812</td>\n",
       "      <td>0.0005</td>\n",
       "      <td>0.441860</td>\n",
       "      <td>2.530121</td>\n",
       "      <td>0.453872</td>\n",
       "    </tr>\n",
       "    <tr>\n",
       "      <th>383</th>\n",
       "      <td>383</td>\n",
       "      <td>11</td>\n",
       "      <td>2.516837</td>\n",
       "      <td>0.0005</td>\n",
       "      <td>0.479070</td>\n",
       "      <td>2.516537</td>\n",
       "      <td>0.472002</td>\n",
       "    </tr>\n",
       "    <tr>\n",
       "      <th>415</th>\n",
       "      <td>415</td>\n",
       "      <td>12</td>\n",
       "      <td>2.556353</td>\n",
       "      <td>0.0005</td>\n",
       "      <td>0.437209</td>\n",
       "      <td>2.501164</td>\n",
       "      <td>0.485587</td>\n",
       "    </tr>\n",
       "    <tr>\n",
       "      <th>447</th>\n",
       "      <td>447</td>\n",
       "      <td>13</td>\n",
       "      <td>2.523399</td>\n",
       "      <td>0.0005</td>\n",
       "      <td>0.455814</td>\n",
       "      <td>2.485541</td>\n",
       "      <td>0.502159</td>\n",
       "    </tr>\n",
       "    <tr>\n",
       "      <th>479</th>\n",
       "      <td>479</td>\n",
       "      <td>14</td>\n",
       "      <td>2.484733</td>\n",
       "      <td>0.0005</td>\n",
       "      <td>0.502326</td>\n",
       "      <td>2.469963</td>\n",
       "      <td>0.519604</td>\n",
       "    </tr>\n",
       "    <tr>\n",
       "      <th>511</th>\n",
       "      <td>511</td>\n",
       "      <td>15</td>\n",
       "      <td>2.444642</td>\n",
       "      <td>0.0005</td>\n",
       "      <td>0.539535</td>\n",
       "      <td>2.460971</td>\n",
       "      <td>0.526992</td>\n",
       "    </tr>\n",
       "    <tr>\n",
       "      <th>543</th>\n",
       "      <td>543</td>\n",
       "      <td>16</td>\n",
       "      <td>2.456547</td>\n",
       "      <td>0.0005</td>\n",
       "      <td>0.534884</td>\n",
       "      <td>2.443316</td>\n",
       "      <td>0.545768</td>\n",
       "    </tr>\n",
       "    <tr>\n",
       "      <th>575</th>\n",
       "      <td>575</td>\n",
       "      <td>17</td>\n",
       "      <td>2.453119</td>\n",
       "      <td>0.0005</td>\n",
       "      <td>0.530233</td>\n",
       "      <td>2.432554</td>\n",
       "      <td>0.557952</td>\n",
       "    </tr>\n",
       "    <tr>\n",
       "      <th>607</th>\n",
       "      <td>607</td>\n",
       "      <td>18</td>\n",
       "      <td>2.392127</td>\n",
       "      <td>0.0005</td>\n",
       "      <td>0.595349</td>\n",
       "      <td>2.421649</td>\n",
       "      <td>0.567067</td>\n",
       "    </tr>\n",
       "    <tr>\n",
       "      <th>639</th>\n",
       "      <td>639</td>\n",
       "      <td>19</td>\n",
       "      <td>2.426819</td>\n",
       "      <td>0.0005</td>\n",
       "      <td>0.558140</td>\n",
       "      <td>2.408122</td>\n",
       "      <td>0.583238</td>\n",
       "    </tr>\n",
       "    <tr>\n",
       "      <th>671</th>\n",
       "      <td>671</td>\n",
       "      <td>20</td>\n",
       "      <td>2.407722</td>\n",
       "      <td>0.0005</td>\n",
       "      <td>0.581395</td>\n",
       "      <td>2.400735</td>\n",
       "      <td>0.589214</td>\n",
       "    </tr>\n",
       "    <tr>\n",
       "      <th>703</th>\n",
       "      <td>703</td>\n",
       "      <td>21</td>\n",
       "      <td>2.399141</td>\n",
       "      <td>0.0005</td>\n",
       "      <td>0.590698</td>\n",
       "      <td>2.385729</td>\n",
       "      <td>0.604885</td>\n",
       "    </tr>\n",
       "    <tr>\n",
       "      <th>735</th>\n",
       "      <td>735</td>\n",
       "      <td>22</td>\n",
       "      <td>2.406512</td>\n",
       "      <td>0.0005</td>\n",
       "      <td>0.572093</td>\n",
       "      <td>2.378784</td>\n",
       "      <td>0.612604</td>\n",
       "    </tr>\n",
       "    <tr>\n",
       "      <th>767</th>\n",
       "      <td>767</td>\n",
       "      <td>23</td>\n",
       "      <td>2.358733</td>\n",
       "      <td>0.0005</td>\n",
       "      <td>0.641860</td>\n",
       "      <td>2.362500</td>\n",
       "      <td>0.630776</td>\n",
       "    </tr>\n",
       "    <tr>\n",
       "      <th>799</th>\n",
       "      <td>799</td>\n",
       "      <td>24</td>\n",
       "      <td>2.413510</td>\n",
       "      <td>0.0005</td>\n",
       "      <td>0.576744</td>\n",
       "      <td>2.353190</td>\n",
       "      <td>0.638263</td>\n",
       "    </tr>\n",
       "    <tr>\n",
       "      <th>831</th>\n",
       "      <td>831</td>\n",
       "      <td>25</td>\n",
       "      <td>2.396305</td>\n",
       "      <td>0.0005</td>\n",
       "      <td>0.595349</td>\n",
       "      <td>2.345116</td>\n",
       "      <td>0.646168</td>\n",
       "    </tr>\n",
       "    <tr>\n",
       "      <th>863</th>\n",
       "      <td>863</td>\n",
       "      <td>26</td>\n",
       "      <td>2.363743</td>\n",
       "      <td>0.0005</td>\n",
       "      <td>0.623256</td>\n",
       "      <td>2.335677</td>\n",
       "      <td>0.654731</td>\n",
       "    </tr>\n",
       "    <tr>\n",
       "      <th>895</th>\n",
       "      <td>895</td>\n",
       "      <td>27</td>\n",
       "      <td>2.326293</td>\n",
       "      <td>0.0005</td>\n",
       "      <td>0.660465</td>\n",
       "      <td>2.334531</td>\n",
       "      <td>0.657724</td>\n",
       "    </tr>\n",
       "    <tr>\n",
       "      <th>927</th>\n",
       "      <td>927</td>\n",
       "      <td>28</td>\n",
       "      <td>2.359036</td>\n",
       "      <td>0.0005</td>\n",
       "      <td>0.623256</td>\n",
       "      <td>2.324504</td>\n",
       "      <td>0.665839</td>\n",
       "    </tr>\n",
       "    <tr>\n",
       "      <th>959</th>\n",
       "      <td>959</td>\n",
       "      <td>29</td>\n",
       "      <td>2.327369</td>\n",
       "      <td>0.0005</td>\n",
       "      <td>0.665116</td>\n",
       "      <td>2.309921</td>\n",
       "      <td>0.681307</td>\n",
       "    </tr>\n",
       "    <tr>\n",
       "      <th>991</th>\n",
       "      <td>991</td>\n",
       "      <td>30</td>\n",
       "      <td>2.331817</td>\n",
       "      <td>0.0005</td>\n",
       "      <td>0.660465</td>\n",
       "      <td>2.301786</td>\n",
       "      <td>0.686899</td>\n",
       "    </tr>\n",
       "    <tr>\n",
       "      <th>1023</th>\n",
       "      <td>1023</td>\n",
       "      <td>31</td>\n",
       "      <td>2.289317</td>\n",
       "      <td>0.0005</td>\n",
       "      <td>0.706977</td>\n",
       "      <td>2.295831</td>\n",
       "      <td>0.694945</td>\n",
       "    </tr>\n",
       "    <tr>\n",
       "      <th>1055</th>\n",
       "      <td>1055</td>\n",
       "      <td>32</td>\n",
       "      <td>2.285818</td>\n",
       "      <td>0.0005</td>\n",
       "      <td>0.711628</td>\n",
       "      <td>2.290815</td>\n",
       "      <td>0.698386</td>\n",
       "    </tr>\n",
       "    <tr>\n",
       "      <th>1087</th>\n",
       "      <td>1087</td>\n",
       "      <td>33</td>\n",
       "      <td>2.298069</td>\n",
       "      <td>0.0005</td>\n",
       "      <td>0.688372</td>\n",
       "      <td>2.283324</td>\n",
       "      <td>0.705960</td>\n",
       "    </tr>\n",
       "    <tr>\n",
       "      <th>1119</th>\n",
       "      <td>1119</td>\n",
       "      <td>34</td>\n",
       "      <td>2.280038</td>\n",
       "      <td>0.0005</td>\n",
       "      <td>0.711628</td>\n",
       "      <td>2.277733</td>\n",
       "      <td>0.710959</td>\n",
       "    </tr>\n",
       "    <tr>\n",
       "      <th>1151</th>\n",
       "      <td>1151</td>\n",
       "      <td>35</td>\n",
       "      <td>2.285801</td>\n",
       "      <td>0.0005</td>\n",
       "      <td>0.706977</td>\n",
       "      <td>2.276329</td>\n",
       "      <td>0.713621</td>\n",
       "    </tr>\n",
       "    <tr>\n",
       "      <th>1183</th>\n",
       "      <td>1183</td>\n",
       "      <td>36</td>\n",
       "      <td>2.236873</td>\n",
       "      <td>0.0005</td>\n",
       "      <td>0.758140</td>\n",
       "      <td>2.271144</td>\n",
       "      <td>0.717417</td>\n",
       "    </tr>\n",
       "    <tr>\n",
       "      <th>1215</th>\n",
       "      <td>1215</td>\n",
       "      <td>37</td>\n",
       "      <td>2.310429</td>\n",
       "      <td>0.0005</td>\n",
       "      <td>0.679070</td>\n",
       "      <td>2.268205</td>\n",
       "      <td>0.719585</td>\n",
       "    </tr>\n",
       "    <tr>\n",
       "      <th>1247</th>\n",
       "      <td>1247</td>\n",
       "      <td>38</td>\n",
       "      <td>2.256746</td>\n",
       "      <td>0.0005</td>\n",
       "      <td>0.734884</td>\n",
       "      <td>2.263585</td>\n",
       "      <td>0.724015</td>\n",
       "    </tr>\n",
       "    <tr>\n",
       "      <th>1279</th>\n",
       "      <td>1279</td>\n",
       "      <td>39</td>\n",
       "      <td>2.263200</td>\n",
       "      <td>0.0005</td>\n",
       "      <td>0.725581</td>\n",
       "      <td>2.259429</td>\n",
       "      <td>0.727142</td>\n",
       "    </tr>\n",
       "    <tr>\n",
       "      <th>1311</th>\n",
       "      <td>1311</td>\n",
       "      <td>40</td>\n",
       "      <td>2.227176</td>\n",
       "      <td>0.0005</td>\n",
       "      <td>0.762791</td>\n",
       "      <td>2.253950</td>\n",
       "      <td>0.732577</td>\n",
       "    </tr>\n",
       "    <tr>\n",
       "      <th>1343</th>\n",
       "      <td>1343</td>\n",
       "      <td>41</td>\n",
       "      <td>2.306708</td>\n",
       "      <td>0.0005</td>\n",
       "      <td>0.674419</td>\n",
       "      <td>2.254308</td>\n",
       "      <td>0.732868</td>\n",
       "    </tr>\n",
       "    <tr>\n",
       "      <th>1375</th>\n",
       "      <td>1375</td>\n",
       "      <td>42</td>\n",
       "      <td>2.261644</td>\n",
       "      <td>0.0005</td>\n",
       "      <td>0.720930</td>\n",
       "      <td>2.248429</td>\n",
       "      <td>0.737861</td>\n",
       "    </tr>\n",
       "    <tr>\n",
       "      <th>1407</th>\n",
       "      <td>1407</td>\n",
       "      <td>43</td>\n",
       "      <td>2.209248</td>\n",
       "      <td>0.0005</td>\n",
       "      <td>0.781395</td>\n",
       "      <td>2.244767</td>\n",
       "      <td>0.741948</td>\n",
       "    </tr>\n",
       "    <tr>\n",
       "      <th>1439</th>\n",
       "      <td>1439</td>\n",
       "      <td>44</td>\n",
       "      <td>2.224185</td>\n",
       "      <td>0.0005</td>\n",
       "      <td>0.758140</td>\n",
       "      <td>2.243153</td>\n",
       "      <td>0.742930</td>\n",
       "    </tr>\n",
       "    <tr>\n",
       "      <th>1471</th>\n",
       "      <td>1471</td>\n",
       "      <td>45</td>\n",
       "      <td>2.216248</td>\n",
       "      <td>0.0005</td>\n",
       "      <td>0.772093</td>\n",
       "      <td>2.241534</td>\n",
       "      <td>0.744587</td>\n",
       "    </tr>\n",
       "    <tr>\n",
       "      <th>1503</th>\n",
       "      <td>1503</td>\n",
       "      <td>46</td>\n",
       "      <td>2.255065</td>\n",
       "      <td>0.0005</td>\n",
       "      <td>0.730233</td>\n",
       "      <td>2.241973</td>\n",
       "      <td>0.743889</td>\n",
       "    </tr>\n",
       "    <tr>\n",
       "      <th>1535</th>\n",
       "      <td>1535</td>\n",
       "      <td>47</td>\n",
       "      <td>2.253912</td>\n",
       "      <td>0.0005</td>\n",
       "      <td>0.734884</td>\n",
       "      <td>2.239702</td>\n",
       "      <td>0.746110</td>\n",
       "    </tr>\n",
       "    <tr>\n",
       "      <th>1567</th>\n",
       "      <td>1567</td>\n",
       "      <td>48</td>\n",
       "      <td>2.178921</td>\n",
       "      <td>0.0005</td>\n",
       "      <td>0.809302</td>\n",
       "      <td>2.235242</td>\n",
       "      <td>0.749656</td>\n",
       "    </tr>\n",
       "    <tr>\n",
       "      <th>1599</th>\n",
       "      <td>1599</td>\n",
       "      <td>49</td>\n",
       "      <td>2.285108</td>\n",
       "      <td>0.0005</td>\n",
       "      <td>0.702326</td>\n",
       "      <td>2.237572</td>\n",
       "      <td>0.747778</td>\n",
       "    </tr>\n",
       "    <tr>\n",
       "      <th>1631</th>\n",
       "      <td>1631</td>\n",
       "      <td>50</td>\n",
       "      <td>2.192588</td>\n",
       "      <td>0.0005</td>\n",
       "      <td>0.790698</td>\n",
       "      <td>2.237468</td>\n",
       "      <td>0.747732</td>\n",
       "    </tr>\n",
       "    <tr>\n",
       "      <th>1663</th>\n",
       "      <td>1663</td>\n",
       "      <td>51</td>\n",
       "      <td>2.229051</td>\n",
       "      <td>0.0005</td>\n",
       "      <td>0.753488</td>\n",
       "      <td>2.232367</td>\n",
       "      <td>0.751574</td>\n",
       "    </tr>\n",
       "    <tr>\n",
       "      <th>1695</th>\n",
       "      <td>1695</td>\n",
       "      <td>52</td>\n",
       "      <td>2.215802</td>\n",
       "      <td>0.0005</td>\n",
       "      <td>0.767442</td>\n",
       "      <td>2.229238</td>\n",
       "      <td>0.754451</td>\n",
       "    </tr>\n",
       "    <tr>\n",
       "      <th>1727</th>\n",
       "      <td>1727</td>\n",
       "      <td>53</td>\n",
       "      <td>2.211476</td>\n",
       "      <td>0.0005</td>\n",
       "      <td>0.772093</td>\n",
       "      <td>2.229741</td>\n",
       "      <td>0.754108</td>\n",
       "    </tr>\n",
       "    <tr>\n",
       "      <th>1759</th>\n",
       "      <td>1759</td>\n",
       "      <td>54</td>\n",
       "      <td>2.228990</td>\n",
       "      <td>0.0005</td>\n",
       "      <td>0.753488</td>\n",
       "      <td>2.228412</td>\n",
       "      <td>0.755602</td>\n",
       "    </tr>\n",
       "    <tr>\n",
       "      <th>1791</th>\n",
       "      <td>1791</td>\n",
       "      <td>55</td>\n",
       "      <td>2.241439</td>\n",
       "      <td>0.0005</td>\n",
       "      <td>0.744186</td>\n",
       "      <td>2.226805</td>\n",
       "      <td>0.757265</td>\n",
       "    </tr>\n",
       "    <tr>\n",
       "      <th>1823</th>\n",
       "      <td>1823</td>\n",
       "      <td>56</td>\n",
       "      <td>2.210979</td>\n",
       "      <td>0.0005</td>\n",
       "      <td>0.776744</td>\n",
       "      <td>2.225968</td>\n",
       "      <td>0.757550</td>\n",
       "    </tr>\n",
       "    <tr>\n",
       "      <th>1855</th>\n",
       "      <td>1855</td>\n",
       "      <td>57</td>\n",
       "      <td>2.234022</td>\n",
       "      <td>0.0005</td>\n",
       "      <td>0.748837</td>\n",
       "      <td>2.222151</td>\n",
       "      <td>0.761316</td>\n",
       "    </tr>\n",
       "    <tr>\n",
       "      <th>1887</th>\n",
       "      <td>1887</td>\n",
       "      <td>58</td>\n",
       "      <td>2.218169</td>\n",
       "      <td>0.0005</td>\n",
       "      <td>0.762791</td>\n",
       "      <td>2.221960</td>\n",
       "      <td>0.761630</td>\n",
       "    </tr>\n",
       "    <tr>\n",
       "      <th>1919</th>\n",
       "      <td>1919</td>\n",
       "      <td>59</td>\n",
       "      <td>2.223971</td>\n",
       "      <td>0.0005</td>\n",
       "      <td>0.758140</td>\n",
       "      <td>2.223126</td>\n",
       "      <td>0.760752</td>\n",
       "    </tr>\n",
       "  </tbody>\n",
       "</table>\n",
       "</div>"
      ],
      "text/plain": [
       "      step  epoch  batch_train_loss      lr  batch_accuracy  train_epoch_loss  \\\n",
       "31      31      0          2.707193  0.0005        0.260465          2.769618   \n",
       "63      63      1          2.662001  0.0005        0.325581          2.695913   \n",
       "95      95      2          2.666434  0.0005        0.306977          2.659598   \n",
       "127    127      3          2.642977  0.0005        0.344186          2.642536   \n",
       "159    159      4          2.626102  0.0005        0.367442          2.623182   \n",
       "191    191      5          2.635614  0.0005        0.348837          2.603108   \n",
       "223    223      6          2.577752  0.0005        0.404651          2.591906   \n",
       "255    255      7          2.559795  0.0005        0.418605          2.565200   \n",
       "287    287      8          2.558343  0.0005        0.427907          2.549402   \n",
       "319    319      9          2.560930  0.0005        0.423256          2.543824   \n",
       "351    351     10          2.540812  0.0005        0.441860          2.530121   \n",
       "383    383     11          2.516837  0.0005        0.479070          2.516537   \n",
       "415    415     12          2.556353  0.0005        0.437209          2.501164   \n",
       "447    447     13          2.523399  0.0005        0.455814          2.485541   \n",
       "479    479     14          2.484733  0.0005        0.502326          2.469963   \n",
       "511    511     15          2.444642  0.0005        0.539535          2.460971   \n",
       "543    543     16          2.456547  0.0005        0.534884          2.443316   \n",
       "575    575     17          2.453119  0.0005        0.530233          2.432554   \n",
       "607    607     18          2.392127  0.0005        0.595349          2.421649   \n",
       "639    639     19          2.426819  0.0005        0.558140          2.408122   \n",
       "671    671     20          2.407722  0.0005        0.581395          2.400735   \n",
       "703    703     21          2.399141  0.0005        0.590698          2.385729   \n",
       "735    735     22          2.406512  0.0005        0.572093          2.378784   \n",
       "767    767     23          2.358733  0.0005        0.641860          2.362500   \n",
       "799    799     24          2.413510  0.0005        0.576744          2.353190   \n",
       "831    831     25          2.396305  0.0005        0.595349          2.345116   \n",
       "863    863     26          2.363743  0.0005        0.623256          2.335677   \n",
       "895    895     27          2.326293  0.0005        0.660465          2.334531   \n",
       "927    927     28          2.359036  0.0005        0.623256          2.324504   \n",
       "959    959     29          2.327369  0.0005        0.665116          2.309921   \n",
       "991    991     30          2.331817  0.0005        0.660465          2.301786   \n",
       "1023  1023     31          2.289317  0.0005        0.706977          2.295831   \n",
       "1055  1055     32          2.285818  0.0005        0.711628          2.290815   \n",
       "1087  1087     33          2.298069  0.0005        0.688372          2.283324   \n",
       "1119  1119     34          2.280038  0.0005        0.711628          2.277733   \n",
       "1151  1151     35          2.285801  0.0005        0.706977          2.276329   \n",
       "1183  1183     36          2.236873  0.0005        0.758140          2.271144   \n",
       "1215  1215     37          2.310429  0.0005        0.679070          2.268205   \n",
       "1247  1247     38          2.256746  0.0005        0.734884          2.263585   \n",
       "1279  1279     39          2.263200  0.0005        0.725581          2.259429   \n",
       "1311  1311     40          2.227176  0.0005        0.762791          2.253950   \n",
       "1343  1343     41          2.306708  0.0005        0.674419          2.254308   \n",
       "1375  1375     42          2.261644  0.0005        0.720930          2.248429   \n",
       "1407  1407     43          2.209248  0.0005        0.781395          2.244767   \n",
       "1439  1439     44          2.224185  0.0005        0.758140          2.243153   \n",
       "1471  1471     45          2.216248  0.0005        0.772093          2.241534   \n",
       "1503  1503     46          2.255065  0.0005        0.730233          2.241973   \n",
       "1535  1535     47          2.253912  0.0005        0.734884          2.239702   \n",
       "1567  1567     48          2.178921  0.0005        0.809302          2.235242   \n",
       "1599  1599     49          2.285108  0.0005        0.702326          2.237572   \n",
       "1631  1631     50          2.192588  0.0005        0.790698          2.237468   \n",
       "1663  1663     51          2.229051  0.0005        0.753488          2.232367   \n",
       "1695  1695     52          2.215802  0.0005        0.767442          2.229238   \n",
       "1727  1727     53          2.211476  0.0005        0.772093          2.229741   \n",
       "1759  1759     54          2.228990  0.0005        0.753488          2.228412   \n",
       "1791  1791     55          2.241439  0.0005        0.744186          2.226805   \n",
       "1823  1823     56          2.210979  0.0005        0.776744          2.225968   \n",
       "1855  1855     57          2.234022  0.0005        0.748837          2.222151   \n",
       "1887  1887     58          2.218169  0.0005        0.762791          2.221960   \n",
       "1919  1919     59          2.223971  0.0005        0.758140          2.223126   \n",
       "\n",
       "      train_epoch_accuracy  \n",
       "31                0.208945  \n",
       "63                0.282269  \n",
       "95                0.322703  \n",
       "127               0.338026  \n",
       "159               0.357796  \n",
       "191               0.380652  \n",
       "223               0.390331  \n",
       "255               0.419698  \n",
       "287               0.433782  \n",
       "319               0.440839  \n",
       "351               0.453872  \n",
       "383               0.472002  \n",
       "415               0.485587  \n",
       "447               0.502159  \n",
       "479               0.519604  \n",
       "511               0.526992  \n",
       "543               0.545768  \n",
       "575               0.557952  \n",
       "607               0.567067  \n",
       "639               0.583238  \n",
       "671               0.589214  \n",
       "703               0.604885  \n",
       "735               0.612604  \n",
       "767               0.630776  \n",
       "799               0.638263  \n",
       "831               0.646168  \n",
       "863               0.654731  \n",
       "895               0.657724  \n",
       "927               0.665839  \n",
       "959               0.681307  \n",
       "991               0.686899  \n",
       "1023              0.694945  \n",
       "1055              0.698386  \n",
       "1087              0.705960  \n",
       "1119              0.710959  \n",
       "1151              0.713621  \n",
       "1183              0.717417  \n",
       "1215              0.719585  \n",
       "1247              0.724015  \n",
       "1279              0.727142  \n",
       "1311              0.732577  \n",
       "1343              0.732868  \n",
       "1375              0.737861  \n",
       "1407              0.741948  \n",
       "1439              0.742930  \n",
       "1471              0.744587  \n",
       "1503              0.743889  \n",
       "1535              0.746110  \n",
       "1567              0.749656  \n",
       "1599              0.747778  \n",
       "1631              0.747732  \n",
       "1663              0.751574  \n",
       "1695              0.754451  \n",
       "1727              0.754108  \n",
       "1759              0.755602  \n",
       "1791              0.757265  \n",
       "1823              0.757550  \n",
       "1855              0.761316  \n",
       "1887              0.761630  \n",
       "1919              0.760752  "
      ]
     },
     "execution_count": 22,
     "metadata": {},
     "output_type": "execute_result"
    }
   ],
   "source": [
    "training_metrics.query(\"train_epoch_loss.notna()\")"
   ]
  },
  {
   "cell_type": "code",
   "execution_count": null,
   "id": "87578050",
   "metadata": {},
   "outputs": [
    {
     "name": "stdout",
     "output_type": "stream",
     "text": [
      "Kaggle credentials successfully validated.\n",
      "Uploading Model https://www.kaggle.com/models/{'username': 'mauroabidalcarrer'}/cmi-resnet/pytorch/1 ...\n",
      "Model 'cmi-resnet' does not exist or access is forbidden for user '{'username': 'mauroabidalcarrer'}'. Creating or handling Model...\n"
     ]
    },
    {
     "ename": "BackendError",
     "evalue": "Permission 'models.create' was denied",
     "output_type": "error",
     "traceback": [
      "\u001b[31m---------------------------------------------------------------------------\u001b[39m",
      "\u001b[31mHTTPError\u001b[39m                                 Traceback (most recent call last)",
      "\u001b[36mFile \u001b[39m\u001b[32m~/miniconda3/envs/CMI/lib/python3.11/site-packages/kagglehub/exceptions.py:66\u001b[39m, in \u001b[36mkaggle_api_raise_for_status\u001b[39m\u001b[34m(response, resource_handle)\u001b[39m\n\u001b[32m     65\u001b[39m \u001b[38;5;28;01mtry\u001b[39;00m:\n\u001b[32m---> \u001b[39m\u001b[32m66\u001b[39m     \u001b[43mresponse\u001b[49m\u001b[43m.\u001b[49m\u001b[43mraise_for_status\u001b[49m\u001b[43m(\u001b[49m\u001b[43m)\u001b[49m\n\u001b[32m     67\u001b[39m \u001b[38;5;28;01mexcept\u001b[39;00m requests.HTTPError \u001b[38;5;28;01mas\u001b[39;00m e:\n",
      "\u001b[36mFile \u001b[39m\u001b[32m~/miniconda3/envs/CMI/lib/python3.11/site-packages/requests/models.py:1026\u001b[39m, in \u001b[36mResponse.raise_for_status\u001b[39m\u001b[34m(self)\u001b[39m\n\u001b[32m   1025\u001b[39m \u001b[38;5;28;01mif\u001b[39;00m http_error_msg:\n\u001b[32m-> \u001b[39m\u001b[32m1026\u001b[39m     \u001b[38;5;28;01mraise\u001b[39;00m HTTPError(http_error_msg, response=\u001b[38;5;28mself\u001b[39m)\n",
      "\u001b[31mHTTPError\u001b[39m: 403 Client Error: Forbidden for url: https://www.kaggle.com/api/v1/models/%7B'username':%20'mauroabidalcarrer'%7D/cmi-resnet/get",
      "\nThe above exception was the direct cause of the following exception:\n",
      "\u001b[31mKaggleApiHTTPError\u001b[39m                        Traceback (most recent call last)",
      "\u001b[36mFile \u001b[39m\u001b[32m~/miniconda3/envs/CMI/lib/python3.11/site-packages/kagglehub/models_helpers.py:88\u001b[39m, in \u001b[36mcreate_model_if_missing\u001b[39m\u001b[34m(owner_slug, model_slug)\u001b[39m\n\u001b[32m     87\u001b[39m     api_client = KaggleApiV1Client()\n\u001b[32m---> \u001b[39m\u001b[32m88\u001b[39m     \u001b[43mapi_client\u001b[49m\u001b[43m.\u001b[49m\u001b[43mget\u001b[49m\u001b[43m(\u001b[49m\u001b[33;43mf\u001b[39;49m\u001b[33;43m\"\u001b[39;49m\u001b[33;43m/models/\u001b[39;49m\u001b[38;5;132;43;01m{\u001b[39;49;00m\u001b[43mowner_slug\u001b[49m\u001b[38;5;132;43;01m}\u001b[39;49;00m\u001b[33;43m/\u001b[39;49m\u001b[38;5;132;43;01m{\u001b[39;49;00m\u001b[43mmodel_slug\u001b[49m\u001b[38;5;132;43;01m}\u001b[39;49;00m\u001b[33;43m/get\u001b[39;49m\u001b[33;43m\"\u001b[39;49m\u001b[43m)\u001b[49m\n\u001b[32m     89\u001b[39m \u001b[38;5;28;01mexcept\u001b[39;00m KaggleApiHTTPError \u001b[38;5;28;01mas\u001b[39;00m e:\n",
      "\u001b[36mFile \u001b[39m\u001b[32m~/miniconda3/envs/CMI/lib/python3.11/site-packages/kagglehub/clients.py:139\u001b[39m, in \u001b[36mKaggleApiV1Client.get\u001b[39m\u001b[34m(self, path, resource_handle)\u001b[39m\n\u001b[32m    133\u001b[39m \u001b[38;5;28;01mwith\u001b[39;00m requests.get(\n\u001b[32m    134\u001b[39m     url,\n\u001b[32m    135\u001b[39m     headers={\u001b[33m\"\u001b[39m\u001b[33mUser-Agent\u001b[39m\u001b[33m\"\u001b[39m: get_user_agent()},\n\u001b[32m    136\u001b[39m     auth=\u001b[38;5;28mself\u001b[39m._get_auth(),\n\u001b[32m    137\u001b[39m     timeout=(DEFAULT_CONNECT_TIMEOUT, DEFAULT_READ_TIMEOUT),\n\u001b[32m    138\u001b[39m ) \u001b[38;5;28;01mas\u001b[39;00m response:\n\u001b[32m--> \u001b[39m\u001b[32m139\u001b[39m     \u001b[43mkaggle_api_raise_for_status\u001b[49m\u001b[43m(\u001b[49m\u001b[43mresponse\u001b[49m\u001b[43m,\u001b[49m\u001b[43m \u001b[49m\u001b[43mresource_handle\u001b[49m\u001b[43m)\u001b[49m\n\u001b[32m    140\u001b[39m     \u001b[38;5;28mself\u001b[39m._check_for_version_update(response)\n",
      "\u001b[36mFile \u001b[39m\u001b[32m~/miniconda3/envs/CMI/lib/python3.11/site-packages/kagglehub/exceptions.py:106\u001b[39m, in \u001b[36mkaggle_api_raise_for_status\u001b[39m\u001b[34m(response, resource_handle)\u001b[39m\n\u001b[32m    105\u001b[39m \u001b[38;5;66;03m# Default handling\u001b[39;00m\n\u001b[32m--> \u001b[39m\u001b[32m106\u001b[39m \u001b[38;5;28;01mraise\u001b[39;00m KaggleApiHTTPError(message, response=response) \u001b[38;5;28;01mfrom\u001b[39;00m\u001b[38;5;250m \u001b[39m\u001b[34;01me\u001b[39;00m\n",
      "\u001b[31mKaggleApiHTTPError\u001b[39m: 403 Client Error.\n\nYou don't have permission to access resource at URL: https://www.kaggle.com/api/v1/models/%7B'username':%20'mauroabidalcarrer'%7D/cmi-resnet/get. The server reported the following issues: Permission 'models.get' was denied\nPlease make sure you are authenticated if you are trying to access a private resource or a resource requiring consent.",
      "\nDuring handling of the above exception, another exception occurred:\n",
      "\u001b[31mBackendError\u001b[39m                              Traceback (most recent call last)",
      "\u001b[36mCell\u001b[39m\u001b[36m \u001b[39m\u001b[32mIn[11]\u001b[39m\u001b[32m, line 3\u001b[39m\n\u001b[32m      1\u001b[39m handle = \u001b[33mf\u001b[39m\u001b[33m\"\u001b[39m\u001b[38;5;132;01m{\u001b[39;00mwhoami()\u001b[38;5;132;01m}\u001b[39;00m\u001b[33m/cmi-resnet/pytorch/1\u001b[39m\u001b[33m\"\u001b[39m\n\u001b[32m      2\u001b[39m model_path = join(model_checkpoints, realpath(\u001b[33m\"\u001b[39m\u001b[33mbest_checkpoint.pth\u001b[39m\u001b[33m\"\u001b[39m))\n\u001b[32m----> \u001b[39m\u001b[32m3\u001b[39m \u001b[43mmodel_upload\u001b[49m\u001b[43m(\u001b[49m\u001b[43mhandle\u001b[49m\u001b[43m,\u001b[49m\u001b[43m \u001b[49m\u001b[43mmodel_path\u001b[49m\u001b[43m)\u001b[49m\n",
      "\u001b[36mFile \u001b[39m\u001b[32m~/miniconda3/envs/CMI/lib/python3.11/site-packages/kagglehub/models.py:73\u001b[39m, in \u001b[36mmodel_upload\u001b[39m\u001b[34m(handle, local_model_dir, license_name, version_notes, ignore_patterns, sigstore)\u001b[39m\n\u001b[32m     70\u001b[39m     \u001b[38;5;28;01mraise\u001b[39;00m \u001b[38;5;167;01mValueError\u001b[39;00m(is_versioned_exception)\n\u001b[32m     72\u001b[39m \u001b[38;5;66;03m# Create the model if it doesn't already exist\u001b[39;00m\n\u001b[32m---> \u001b[39m\u001b[32m73\u001b[39m \u001b[43mcreate_model_if_missing\u001b[49m\u001b[43m(\u001b[49m\u001b[43mh\u001b[49m\u001b[43m.\u001b[49m\u001b[43mowner\u001b[49m\u001b[43m,\u001b[49m\u001b[43m \u001b[49m\u001b[43mh\u001b[49m\u001b[43m.\u001b[49m\u001b[43mmodel\u001b[49m\u001b[43m)\u001b[49m\n\u001b[32m     75\u001b[39m \u001b[38;5;66;03m# Model can be non-existent. Get token after model creation so signing token can be authorized.\u001b[39;00m\n\u001b[32m     76\u001b[39m \u001b[38;5;28;01mtry\u001b[39;00m:\n",
      "\u001b[36mFile \u001b[39m\u001b[32m~/miniconda3/envs/CMI/lib/python3.11/site-packages/kagglehub/models_helpers.py:97\u001b[39m, in \u001b[36mcreate_model_if_missing\u001b[39m\u001b[34m(owner_slug, model_slug)\u001b[39m\n\u001b[32m     90\u001b[39m \u001b[38;5;28;01mif\u001b[39;00m e.response \u001b[38;5;129;01mis\u001b[39;00m \u001b[38;5;129;01mnot\u001b[39;00m \u001b[38;5;28;01mNone\u001b[39;00m \u001b[38;5;129;01mand\u001b[39;00m (\n\u001b[32m     91\u001b[39m     e.response.status_code == HTTPStatus.NOT_FOUND  \u001b[38;5;66;03m# noqa: PLR1714\u001b[39;00m\n\u001b[32m     92\u001b[39m     \u001b[38;5;129;01mor\u001b[39;00m e.response.status_code == HTTPStatus.FORBIDDEN\n\u001b[32m     93\u001b[39m ):\n\u001b[32m     94\u001b[39m     logger.info(\n\u001b[32m     95\u001b[39m         \u001b[33mf\u001b[39m\u001b[33m\"\u001b[39m\u001b[33mModel \u001b[39m\u001b[33m'\u001b[39m\u001b[38;5;132;01m{\u001b[39;00mmodel_slug\u001b[38;5;132;01m}\u001b[39;00m\u001b[33m'\u001b[39m\u001b[33m does not exist or access is forbidden for user \u001b[39m\u001b[33m'\u001b[39m\u001b[38;5;132;01m{\u001b[39;00mowner_slug\u001b[38;5;132;01m}\u001b[39;00m\u001b[33m'\u001b[39m\u001b[33m. Creating or handling Model...\u001b[39m\u001b[33m\"\u001b[39m  \u001b[38;5;66;03m# noqa: E501\u001b[39;00m\n\u001b[32m     96\u001b[39m     )\n\u001b[32m---> \u001b[39m\u001b[32m97\u001b[39m     \u001b[43m_create_model\u001b[49m\u001b[43m(\u001b[49m\u001b[43mowner_slug\u001b[49m\u001b[43m,\u001b[49m\u001b[43m \u001b[49m\u001b[43mmodel_slug\u001b[49m\u001b[43m)\u001b[49m\n\u001b[32m     98\u001b[39m \u001b[38;5;28;01melse\u001b[39;00m:\n\u001b[32m     99\u001b[39m     \u001b[38;5;28;01mraise\u001b[39;00m (e)\n",
      "\u001b[36mFile \u001b[39m\u001b[32m~/miniconda3/envs/CMI/lib/python3.11/site-packages/kagglehub/models_helpers.py:16\u001b[39m, in \u001b[36m_create_model\u001b[39m\u001b[34m(owner_slug, model_slug)\u001b[39m\n\u001b[32m     14\u001b[39m data = {\u001b[33m\"\u001b[39m\u001b[33mownerSlug\u001b[39m\u001b[33m\"\u001b[39m: owner_slug, \u001b[33m\"\u001b[39m\u001b[33mslug\u001b[39m\u001b[33m\"\u001b[39m: model_slug, \u001b[33m\"\u001b[39m\u001b[33mtitle\u001b[39m\u001b[33m\"\u001b[39m: model_slug, \u001b[33m\"\u001b[39m\u001b[33misPrivate\u001b[39m\u001b[33m\"\u001b[39m: \u001b[38;5;28;01mTrue\u001b[39;00m}\n\u001b[32m     15\u001b[39m api_client = KaggleApiV1Client()\n\u001b[32m---> \u001b[39m\u001b[32m16\u001b[39m \u001b[43mapi_client\u001b[49m\u001b[43m.\u001b[49m\u001b[43mpost\u001b[49m\u001b[43m(\u001b[49m\u001b[33;43m\"\u001b[39;49m\u001b[33;43m/models/create/new\u001b[39;49m\u001b[33;43m\"\u001b[39;49m\u001b[43m,\u001b[49m\u001b[43m \u001b[49m\u001b[43mdata\u001b[49m\u001b[43m)\u001b[49m\n\u001b[32m     17\u001b[39m logger.info(\u001b[33mf\u001b[39m\u001b[33m\"\u001b[39m\u001b[33mModel \u001b[39m\u001b[33m'\u001b[39m\u001b[38;5;132;01m{\u001b[39;00mmodel_slug\u001b[38;5;132;01m}\u001b[39;00m\u001b[33m'\u001b[39m\u001b[33m Created.\u001b[39m\u001b[33m\"\u001b[39m)\n",
      "\u001b[36mFile \u001b[39m\u001b[32m~/miniconda3/envs/CMI/lib/python3.11/site-packages/kagglehub/clients.py:154\u001b[39m, in \u001b[36mKaggleApiV1Client.post\u001b[39m\u001b[34m(self, path, data)\u001b[39m\n\u001b[32m    152\u001b[39m response.raise_for_status()\n\u001b[32m    153\u001b[39m response_dict = response.json()\n\u001b[32m--> \u001b[39m\u001b[32m154\u001b[39m \u001b[43mprocess_post_response\u001b[49m\u001b[43m(\u001b[49m\u001b[43mresponse_dict\u001b[49m\u001b[43m)\u001b[49m\n\u001b[32m    155\u001b[39m \u001b[38;5;28mself\u001b[39m._check_for_version_update(response)\n\u001b[32m    156\u001b[39m \u001b[38;5;28;01mreturn\u001b[39;00m response_dict\n",
      "\u001b[36mFile \u001b[39m\u001b[32m~/miniconda3/envs/CMI/lib/python3.11/site-packages/kagglehub/exceptions.py:141\u001b[39m, in \u001b[36mprocess_post_response\u001b[39m\u001b[34m(response)\u001b[39m\n\u001b[32m    139\u001b[39m \u001b[38;5;28;01melif\u001b[39;00m \u001b[33m\"\u001b[39m\u001b[33merror\u001b[39m\u001b[33m\"\u001b[39m \u001b[38;5;129;01min\u001b[39;00m response \u001b[38;5;129;01mand\u001b[39;00m response[\u001b[33m\"\u001b[39m\u001b[33merror\u001b[39m\u001b[33m\"\u001b[39m] != \u001b[33m\"\u001b[39m\u001b[33m\"\u001b[39m:\n\u001b[32m    140\u001b[39m     error_code = \u001b[38;5;28mint\u001b[39m(response[\u001b[33m\"\u001b[39m\u001b[33merrorCode\u001b[39m\u001b[33m\"\u001b[39m]) \u001b[38;5;28;01mif\u001b[39;00m \u001b[33m\"\u001b[39m\u001b[33merrorCode\u001b[39m\u001b[33m\"\u001b[39m \u001b[38;5;129;01min\u001b[39;00m response \u001b[38;5;28;01melse\u001b[39;00m \u001b[38;5;28;01mNone\u001b[39;00m\n\u001b[32m--> \u001b[39m\u001b[32m141\u001b[39m     \u001b[38;5;28;01mraise\u001b[39;00m BackendError(response[\u001b[33m\"\u001b[39m\u001b[33merror\u001b[39m\u001b[33m\"\u001b[39m], error_code)\n",
      "\u001b[31mBackendError\u001b[39m: Permission 'models.create' was denied"
     ]
    }
   ],
   "source": [
    "handle = f\"{whoami()}/cmi-resnet/pytorch/1\"\n",
    "model_path = join(model_checkpoints, realpath(\"best_checkpoint.pth\"))\n",
    "model_upload(handle, model_path)"
   ]
  }
 ],
 "metadata": {
  "kernelspec": {
   "display_name": "CMI",
   "language": "python",
   "name": "python3"
  },
  "language_info": {
   "codemirror_mode": {
    "name": "ipython",
    "version": 3
   },
   "file_extension": ".py",
   "mimetype": "text/x-python",
   "name": "python",
   "nbconvert_exporter": "python",
   "pygments_lexer": "ipython3",
   "version": "3.11.5"
  }
 },
 "nbformat": 4,
 "nbformat_minor": 5
}
