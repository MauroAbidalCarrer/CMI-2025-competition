{
 "cells": [
  {
   "cell_type": "markdown",
   "id": "53d41434",
   "metadata": {},
   "source": [
    "# Training model\n",
    "The goal of this notebook is to train a model and upload it to kaggle."
   ]
  },
  {
   "cell_type": "markdown",
   "id": "696a0573",
   "metadata": {},
   "source": [
    "## Setup"
   ]
  },
  {
   "cell_type": "markdown",
   "id": "dc4c23f0",
   "metadata": {},
   "source": [
    "### Imports"
   ]
  },
  {
   "cell_type": "code",
   "execution_count": 1,
   "id": "66f429fe",
   "metadata": {},
   "outputs": [],
   "source": [
    "import os\n",
    "import json\n",
    "from glob import glob\n",
    "from datetime import datetime\n",
    "from itertools import pairwise\n",
    "from os.path import join, realpath\n",
    "from typing import Optional, Literal\n",
    "\n",
    "import torch\n",
    "import numpy as np\n",
    "import pandas as pd\n",
    "import plotly.express as px\n",
    "from torch import nn, Tensor\n",
    "from pandas import DataFrame as DF\n",
    "from torch.utils.data import TensorDataset\n",
    "from torch.utils.data import DataLoader as DL\n",
    "from rich.progress import Progress, Task, track\n",
    "from torch.optim.lr_scheduler import ConstantLR, LRScheduler\n",
    "from kagglehub import dataset_download, model_upload, whoami"
   ]
  },
  {
   "cell_type": "markdown",
   "id": "0ca49598",
   "metadata": {},
   "source": [
    "### Make plotly renders a bit more github frendly"
   ]
  },
  {
   "cell_type": "code",
   "execution_count": null,
   "id": "24b48ecc",
   "metadata": {},
   "outputs": [],
   "source": []
  },
  {
   "cell_type": "markdown",
   "id": "561af8f7",
   "metadata": {},
   "source": [
    "### Dataset Setup"
   ]
  },
  {
   "cell_type": "code",
   "execution_count": 2,
   "id": "63a131e0",
   "metadata": {},
   "outputs": [],
   "source": [
    "BATCH_SIZE = 256\n",
    "dataset_path = dataset_download(\n",
    "    handle=\"mauroabidalcarrer/prepocessed-cmi-2025\",\n",
    ")"
   ]
  },
  {
   "cell_type": "code",
   "execution_count": 3,
   "id": "e46c3b4e",
   "metadata": {},
   "outputs": [],
   "source": [
    "\n",
    "class CMIDataset(TensorDataset):\n",
    "    def __init__(\n",
    "        self,\n",
    "        parent_dir: str,\n",
    "        split: Optional[Literal[\"train\", \"validation\"]]=None,\n",
    "        subset: Optional[int]=None,\n",
    "        force_download=False\n",
    "    ):\n",
    "        dataset_path = dataset_download(\n",
    "            handle=\"mauroabidalcarrer/prepocessed-cmi-2025\",\n",
    "            force_download=force_download\n",
    "        )\n",
    "        parent_dir = join(dataset_path, \"preprocessed_dataset\", parent_dir)\n",
    "        split = \"\" if split is None else split + \"_\"\n",
    "        x = np.load(join(parent_dir, f\"{split}X.npy\")).swapaxes(1, 2)\n",
    "        y = np.load(join(parent_dir, f\"{split}Y.npy\"))\n",
    "        if subset is not None:\n",
    "            x = x[:subset]\n",
    "            y = y[:subset]\n",
    "        super().__init__(\n",
    "            torch.from_numpy(x), \n",
    "            torch.from_numpy(y),\n",
    "        )\n"
   ]
  },
  {
   "cell_type": "code",
   "execution_count": 4,
   "id": "a2de4288",
   "metadata": {},
   "outputs": [],
   "source": [
    "meta_data_path = join(\n",
    "    dataset_path,\n",
    "    \"preprocessed_dataset\",\n",
    "    \"full_dataset_meta_data.json\"\n",
    ")\n",
    "with open(meta_data_path, \"r\") as fp:\n",
    "    dataset_meta_data = json.load(fp)"
   ]
  },
  {
   "cell_type": "markdown",
   "id": "e7cce363",
   "metadata": {},
   "source": [
    "### device setup"
   ]
  },
  {
   "cell_type": "code",
   "execution_count": 5,
   "id": "2710f791",
   "metadata": {},
   "outputs": [],
   "source": [
    "device = torch.device(\"cuda\") if torch.cuda.is_available() else torch.device(\"cpu\")"
   ]
  },
  {
   "cell_type": "markdown",
   "id": "7405a353",
   "metadata": {},
   "source": [
    "## Model definition"
   ]
  },
  {
   "cell_type": "code",
   "execution_count": 6,
   "id": "5ecc32a1",
   "metadata": {},
   "outputs": [],
   "source": [
    "class ResidualBlock(nn.Module):\n",
    "    def __init__(self, in_chns:int, out_chns:int):\n",
    "        super().__init__()\n",
    "        self.blocks = nn.Sequential(\n",
    "            nn.Conv1d(in_chns, out_chns, kernel_size=3, padding=1),\n",
    "            nn.BatchNorm1d(out_chns),\n",
    "            nn.ReLU(),\n",
    "            nn.Conv1d(out_chns, out_chns, kernel_size=3, padding=1),\n",
    "            nn.BatchNorm1d(out_chns),\n",
    "        )\n",
    "        if in_chns == out_chns:\n",
    "            self.skip_connection = nn.Identity() \n",
    "        else:\n",
    "            # TODO: set bias to False ?\n",
    "            self.skip_connection = nn.Sequential(\n",
    "                nn.Conv1d(in_chns, out_chns, 1),\n",
    "                nn.BatchNorm1d(out_chns)\n",
    "            )\n",
    "\n",
    "    def forward(self, x:Tensor) -> Tensor:\n",
    "        activaition_maps = self.skip_connection(x) + self.blocks(x)\n",
    "        return nn.functional.relu(activaition_maps)\n",
    "\n",
    "class Resnet(nn.Module):\n",
    "    def __init__(\n",
    "            self,\n",
    "            in_channels:int,\n",
    "            depth:int,\n",
    "            # n_res_block_per_depth:int,\n",
    "            mlp_width:int,\n",
    "            n_class:int,\n",
    "        ):\n",
    "        super().__init__()\n",
    "        chs_per_depth = [in_channels * 2 ** i for i in range(depth)]\n",
    "        blocks_chns_it = pairwise(chs_per_depth)\n",
    "        self.res_blocks = [ResidualBlock(in_chns, out_chns) for in_chns, out_chns in blocks_chns_it]\n",
    "        self.res_blocks = nn.ModuleList(self.res_blocks)\n",
    "        self.mlp_head = nn.Sequential(\n",
    "            nn.LazyLinear(mlp_width),\n",
    "            nn.ReLU(),\n",
    "            nn.Linear(mlp_width, n_class),\n",
    "            nn.Softmax(dim=1),\n",
    "        )\n",
    "        \n",
    "        \n",
    "    def forward(self, x:Tensor) -> Tensor:\n",
    "        activation_maps = x\n",
    "        for res_block in self.res_blocks:\n",
    "            activation_maps = nn.functional.max_pool1d(res_block(activation_maps), 2)\n",
    "        out = activation_maps.view(activation_maps.shape[0], -1)\n",
    "        out = self.mlp_head(out)\n",
    "        return out"
   ]
  },
  {
   "cell_type": "markdown",
   "id": "5a83f1e7",
   "metadata": {},
   "source": [
    "## Training functions "
   ]
  },
  {
   "cell_type": "markdown",
   "id": "c8014fc2",
   "metadata": {},
   "source": [
    "### Training"
   ]
  },
  {
   "cell_type": "code",
   "execution_count": null,
   "id": "7cc879eb",
   "metadata": {},
   "outputs": [],
   "source": [
    "def fit(epochs:int,\n",
    "        model: nn.Module,\n",
    "        scheduler: LRScheduler,\n",
    "        optimizer: torch.optim.Optimizer,\n",
    "        train_loader: DL,\n",
    "        criterion: callable=nn.L1Loss(),\n",
    "        evaluation_func: callable=None,\n",
    "        validation_loader: DL=None,\n",
    "        save_checkpoints=True,\n",
    "    ) -> tuple[DF, str]:\n",
    "    \"\"\"\n",
    "    Returns:\n",
    "        (training_metrics, path_to_checkpoints)\n",
    "    \"\"\"\n",
    "    # Setup\n",
    "    metrics: list[dict] = []\n",
    "    checkpoints_dir = os.path.join(\"checkpoints\", mk_date_now_str())\n",
    "    step = 0\n",
    "    model_device = next(model.parameters()).device\n",
    "    last_epoch_metric = {}\n",
    "    # Training loop\n",
    "    with Progress() as progress:\n",
    "        task: Task = progress.add_task(\n",
    "            \"training...\",\n",
    "            total=len(train_loader),\n",
    "        )\n",
    "        for epoch in range(epochs):\n",
    "            progress.update(\n",
    "                task,\n",
    "                description=f\"epoch: {epoch}\",\n",
    "                completed=0,\n",
    "            )\n",
    "            total_epoch_loss = 0\n",
    "            total_accuracy = 0\n",
    "            for batch_idx, (x, y) in enumerate(train_loader):\n",
    "                # forward\n",
    "                x = x.to(model_device)\n",
    "                y = y.to(model_device)\n",
    "                model.train()\n",
    "                optimizer.zero_grad()\n",
    "                y_pred: Tensor = model(x)\n",
    "                loss_value = criterion(y_pred, y)\n",
    "                # Verify loss value\n",
    "                if torch.isnan(loss_value).any().item():\n",
    "                    progress.print(\"Warning: Got NaN loss, stopped training.\")\n",
    "                    return DF.from_records(metrics) \n",
    "                if torch.isinf(loss_value).any().item():\n",
    "                    progress.print(\"Warning: Got infinite loss, stopped training.\")\n",
    "                    return DF.from_records(metrics) \n",
    "                # TODO: Use gradient clipping?\n",
    "                loss_value.backward()\n",
    "                optimizer.step()\n",
    "                if step > 0: # If it's not the first training step, idk why it throws an error otherwise\n",
    "                    scheduler.step()\n",
    "                # metrics\n",
    "                total_epoch_loss += loss_value.item()\n",
    "                batch_accuracy = compute_accuracy(y_pred, y)\n",
    "                total_accuracy += batch_accuracy\n",
    "                metrics.append({\n",
    "                    \"step\": step,\n",
    "                    \"epoch\": epoch,\n",
    "                    \"batch_train_loss\": loss_value.item(),\n",
    "                    \"lr\": optimizer.state_dict()[\"param_groups\"][-1][\"lr\"],\n",
    "                    \"batch_accuracy\": batch_accuracy,\n",
    "                })\n",
    "                step += 1\n",
    "                if \"validation_accuracy\" in last_epoch_metric:\n",
    "                    last_validation_acc = \"%.2f\" % last_epoch_metric[\"validation_accuracy\"]\n",
    "                    val_acc_str = \"val. acc: \" + last_validation_acc\n",
    "                else:\n",
    "                    val_acc_str = \"\"\n",
    "                progress.update(\n",
    "                    task,\n",
    "                    advance=1,\n",
    "                    description=f\"epoch: {epoch}, batch_loss: {(total_epoch_loss / (batch_idx+1)):.2f}, {val_acc_str}\"\n",
    "                )\n",
    "            # Post epoch evalution\n",
    "            metrics[-1][\"train_epoch_loss\"] = total_epoch_loss / len(train_loader)\n",
    "            metrics[-1][\"train_epoch_accuracy\"] = total_accuracy / len(train_loader)\n",
    "            if evaluation_func:\n",
    "                progress.update(\n",
    "                    task,\n",
    "                    completed=0,\n",
    "                    description=f\"epoch: {epoch}, evaluating...\"\n",
    "                )\n",
    "                eval_metrics = evaluation_func(model, criterion, validation_loader)\n",
    "                metrics[-1].update(eval_metrics)\n",
    "            last_epoch_metric = metrics[-1]\n",
    "            # Save checkpoint\n",
    "            if save_checkpoints:\n",
    "                checkpoint = mk_checkpoint(epoch, model, scheduler, optimizer)\n",
    "                metrics_df = DF.from_records(metrics)\n",
    "                best_model_metric = \"validation_loss\" if \"validation_loss\" in metrics_df.columns else \"train_epoch_loss\"\n",
    "                is_best_checkpoint = (\n",
    "                    DF.from_records(metrics)\n",
    "                    .eval(f\"min_{best_model_metric} = {best_model_metric}.min()\")\n",
    "                    .eval(f\"is_best_{best_model_metric} = {best_model_metric} == min_{best_model_metric}\")\n",
    "                    .dropna(subset=f\"is_best_{best_model_metric}\")\n",
    "                    .iloc[-1]\n",
    "                    .loc[f\"is_best_{best_model_metric}\"]\n",
    "                )\n",
    "                save_checkpoint(checkpoint, checkpoints_dir, is_best_checkpoint)\n",
    "\n",
    "    return DF.from_records(metrics), checkpoints_dir\n",
    "\n",
    "def evaluate_model(\n",
    "        model: torch.nn.Module,\n",
    "        critirion:callable,\n",
    "        validation_loader:DL,\n",
    "    ) -> dict:\n",
    "    model = model.eval()\n",
    "    model_device = next(model.parameters()).device\n",
    "\n",
    "    total_accuracy = 0\n",
    "    total_test_loss = 0\n",
    "    for x, y in validation_loader:\n",
    "        x = x.to(model_device)\n",
    "        y = y.to(model_device)\n",
    "        y_pred = model(x)\n",
    "        total_test_loss += critirion(y_pred, y).item()\n",
    "        batch_accuracy = compute_accuracy(y_pred, y)\n",
    "        total_accuracy += batch_accuracy\n",
    "\n",
    "    return {\n",
    "        \"validation_loss\": total_test_loss / len(validation_loader),\n",
    "        \"validation_accuracy\": total_accuracy / len(validation_loader),\n",
    "    }\n",
    "\n",
    "def compute_accuracy(y_pred:Tensor, y:Tensor) -> float:\n",
    "    return (\n",
    "            (y.max(dim=1)[1] == y_pred.max(dim=1)[1])\n",
    "            .sum()\n",
    "            .item()\n",
    "    ) / y.shape[0]\n",
    "\n",
    "def mk_checkpoint(\n",
    "        epoch:int,\n",
    "        model: torch.nn.Module,\n",
    "        scheduler: LRScheduler,\n",
    "        optimizer: torch.optim.Optimizer\n",
    "    ) -> dict:\n",
    "    return {\n",
    "        \"epoch\": epoch,\n",
    "        \"model\": model.state_dict(),\n",
    "        \"optimizer\": optimizer.state_dict(),\n",
    "        \"scheduler\": scheduler.state_dict(),\n",
    "    }\n",
    "\n",
    "def save_checkpoint(checkpoint:dict, parent_dir:str, is_best_checkpoint=False):\n",
    "    # Create model name\n",
    "    checkpoint_filename = f\"epoch_{checkpoint['epoch']}_{mk_date_now_str()}.pth\"\n",
    "    # Save model\n",
    "    os.makedirs(parent_dir, exist_ok=True)\n",
    "    checkpoint_path = os.path.join(parent_dir, checkpoint_filename)\n",
    "    torch.save(checkpoint, checkpoint_path)\n",
    "    mk_symlink(checkpoint_path, os.path.join(parent_dir, \"latest_checkpoint.pth\"))\n",
    "    if is_best_checkpoint:\n",
    "        mk_symlink(checkpoint_path, os.path.join(parent_dir, \"best_checkpoint.pth\"))\n",
    "\n",
    "def mk_date_now_str() -> str:\n",
    "    return datetime.now().strftime(\"%d-%m-%Y_%H-%M\")\n",
    "\n",
    "def mk_symlink(dest:str, symlink_path:str):\n",
    "    if os.path.islink(symlink_path) or os.path.exists(symlink_path):\n",
    "        os.remove(symlink_path)\n",
    "    os.symlink(dest, symlink_path)"
   ]
  },
  {
   "cell_type": "code",
   "execution_count": 11,
   "id": "fe1e327c",
   "metadata": {},
   "outputs": [],
   "source": [
    "TRAINING_EPOCHS = 60\n",
    "STARTING_LR = 0.0005\n",
    "def mk_model() -> nn.Module:\n",
    "    nb_in_chans = len(dataset_meta_data[\"feature_cols\"])\n",
    "    return (\n",
    "        Resnet(\n",
    "            in_channels=nb_in_chans,\n",
    "            depth=4,\n",
    "            mlp_width=256,\n",
    "            n_class=18\n",
    "        )\n",
    "    )\n",
    "\n",
    "def mk_model_and_fit(train_loader:DL, validation_loader:Optional[DL]=None) -> tuple[nn.Module, DF, list[str]]:\n",
    "    model = mk_model()\n",
    "    optimizer = torch.optim.AdamW(model.parameters(), STARTING_LR)\n",
    "    constant_lr_scheduler = ConstantLR(optimizer, factor=1, total_iters=len(train_loader) * TRAINING_EPOCHS)\n",
    "    training_metrics, model_checkpoints = fit(\n",
    "        epochs=TRAINING_EPOCHS,\n",
    "        model=model,\n",
    "        scheduler=constant_lr_scheduler,\n",
    "        optimizer=optimizer,\n",
    "        train_loader=train_loader,\n",
    "        criterion=nn.CrossEntropyLoss(),\n",
    "        evaluation_func=evaluate_model if validation_loader else None,\n",
    "        validation_loader=validation_loader,\n",
    "        save_checkpoints=True,\n",
    "    )\n",
    "\n",
    "    return model, training_metrics, model_checkpoints"
   ]
  },
  {
   "cell_type": "markdown",
   "id": "0ddd2294",
   "metadata": {},
   "source": [
    "### Training metrics plotting"
   ]
  },
  {
   "cell_type": "code",
   "execution_count": 15,
   "id": "4619c4fe",
   "metadata": {},
   "outputs": [],
   "source": [
    "def plt_train_split_training_metrics(training_metrics:DF):\n",
    "    (\n",
    "        px.scatter(\n",
    "            (\n",
    "                training_metrics\n",
    "                .melt(\n",
    "                    id_vars=\"step\",\n",
    "                    value_vars=[\n",
    "                        \"batch_train_loss\",\n",
    "                        \"batch_accuracy\",\n",
    "                    ]\n",
    "                )\n",
    "            ),\n",
    "            x=\"step\",\n",
    "            y=\"value\",\n",
    "            facet_row=\"variable\",\n",
    "            trendline=\"ewm\",\n",
    "            trendline_options={\"com\": 30},\n",
    "            trendline_color_override=\"red\",\n",
    "            title=\"batch metrics\",\n",
    "        )\n",
    "        .update_yaxes(matches=None)\n",
    "        .show()\n",
    "    )\n",
    "\n",
    "def plt_validation_split_training_metrics(training_metrics:DF):\n",
    "    (\n",
    "        px.line(\n",
    "            (\n",
    "                training_metrics\n",
    "                .query(\"validation_loss.notna()\")\n",
    "                .melt(\n",
    "                    id_vars=\"epoch\",\n",
    "                    value_vars=['train_epoch_loss', 'train_epoch_accuracy', 'validation_loss', 'validation_accuracy']\n",
    "                )\n",
    "            ),\n",
    "            x=\"step\",\n",
    "            y=\"value\",\n",
    "            color=\"variable\",\n",
    "            facet_row=\"variable\",\n",
    "            title=\"epoch metrics\",\n",
    "            render_mode=\"line+marker\",\n",
    "        ).update_yaxes(matches=None)\n",
    "        .show()\n",
    "    )"
   ]
  },
  {
   "cell_type": "markdown",
   "id": "92bee315",
   "metadata": {},
   "source": [
    "## Cross validation training"
   ]
  },
  {
   "cell_type": "code",
   "execution_count": 13,
   "id": "a711c430",
   "metadata": {},
   "outputs": [
    {
     "name": "stdout",
     "output_type": "stream",
     "text": [
      "training: 1\n"
     ]
    },
    {
     "data": {
      "application/vnd.jupyter.widget-view+json": {
       "model_id": "ed4ef42a26ed48b7a2a31dc8f5c84207",
       "version_major": 2,
       "version_minor": 0
      },
      "text/plain": [
       "Output()"
      ]
     },
     "metadata": {},
     "output_type": "display_data"
    },
    {
     "data": {
      "text/html": [
       "<pre style=\"white-space:pre;overflow-x:auto;line-height:normal;font-family:Menlo,'DejaVu Sans Mono',consolas,'Courier New',monospace\"></pre>\n"
      ],
      "text/plain": []
     },
     "metadata": {},
     "output_type": "display_data"
    },
    {
     "data": {
      "application/vnd.plotly.v1+json": {
       "config": {
        "plotlyServerURL": "https://plot.ly"
       },
       "data": [
        {
         "hovertemplate": "variable=batch_train_loss<br>step=%{x}<br>value=%{y}<extra></extra>",
         "legendgroup": "",
         "marker": {
          "color": "#636efa",
          "symbol": "circle"
         },
         "mode": "markers",
         "name": "",
         "showlegend": false,
         "type": "scattergl",
         "x": {
          "bdata": "AAABAAIAAwAEAAUABgAHAAgACQAKAAsADAANAA4ADwAQABEAEgATABQAFQAWABcAGAAZABoAGwAcAB0AHgAfACAAIQAiACMAJAAlACYAJwAoACkAKgArACwALQAuAC8AMAAxADIAMwA0ADUANgA3ADgAOQA6ADsAPAA9AD4APwBAAEEAQgBDAEQARQBGAEcASABJAEoASwBMAE0ATgBPAFAAUQBSAFMAVABVAFYAVwBYAFkAWgBbAFwAXQBeAF8AYABhAGIAYwBkAGUAZgBnAGgAaQBqAGsAbABtAG4AbwBwAHEAcgBzAHQAdQB2AHcAeAB5AHoAewB8AH0AfgB/AIAAgQCCAIMAhACFAIYAhwCIAIkAigCLAIwAjQCOAI8AkACRAJIAkwCUAJUAlgCXAJgAmQCaAJsAnACdAJ4AnwCgAKEAogCjAKQApQCmAKcAqACpAKoAqwCsAK0ArgCvALAAsQCyALMAtAC1ALYAtwC4ALkAugC7ALwAvQC+AL8AwADBAMIAwwDEAMUAxgDHAMgAyQDKAMsAzADNAM4AzwDQANEA0gDTANQA1QDWANcA2ADZANoA2wDcAN0A3gDfAOAA4QDiAOMA5ADlAOYA5wDoAOkA6gDrAOwA7QDuAO8A8ADxAPIA8wD0APUA9gD3APgA+QD6APsA/AD9AP4A/wAAAQEBAgEDAQQBBQEGAQcBCAEJAQoBCwEMAQ0BDgEPARABEQESARMBFAEVARYBFwEYARkBGgEbARwBHQEeAR8BIAEhASIBIwEkASUBJgEnASgBKQEqASsBLAEtAS4BLwEwATEBMgEzATQBNQE2ATcBOAE5AToBOwE8AT0BPgE/AUABQQFCAUMBRAFFAUYBRwFIAUkBSgFLAUwBTQFOAU8BUAFRAVIBUwFUAVUBVgFXAVgBWQFaAVsBXAFdAV4BXwFgAWEBYgFjAWQBZQFmAWcBaAFpAWoBawFsAW0BbgFvAXABcQFyAXMBdAF1AXYBdwF4AXkBegF7AXwBfQF+AX8BgAGBAYIBgwGEAYUBhgGHAYgBiQGKAYsBjAGNAY4BjwGQAZEBkgGTAZQBlQGWAZcBmAGZAZoBmwGcAZ0BngGfAaABoQGiAaMBpAGlAaYBpwGoAakBqgGrAawBrQGuAa8BsAGxAbIBswG0AbUBtgG3AbgBuQG6AbsBvAG9Ab4BvwHAAcEBwgHDAcQBxQHGAccByAHJAcoBywHMAc0BzgHPAdAB0QHSAdMB1AHVAdYB1wHYAdkB2gHbAdwB3QHeAd8B4AHhAeIB4wHkAeUB5gHnAegB6QHqAesB7AHtAe4B7wHwAfEB8gHzAfQB9QH2AfcB+AH5AfoB+wH8Af0B/gH/AQACAQICAgMCBAIFAgYCBwIIAgkCCgILAgwCDQIOAg8CEAIRAhICEwIUAhUCFgIXAhgCGQIaAhsCHAIdAh4CHwIgAiECIgIjAiQCJQImAicCKAIpAioCKwIsAi0CLgIvAjACMQIyAjMCNAI1AjYCNwI4AjkCOgI7AjwCPQI+Aj8CQAJBAkICQwJEAkUCRgJHAkgCSQJKAksCTAJNAk4CTwJQAlECUgJTAlQCVQJWAlcCWAJZAloCWwJcAl0CXgJfAmACYQJiAmMCZAJlAmYCZwJoAmkCagJrAmwCbQJuAm8CcAJxAnICcwJ0AnUCdgJ3AngCeQJ6AnsCfAJ9An4CfwKAAoECggKDAoQChQKGAocCiAKJAooCiwKMAo0CjgKPApACkQKSApMClAKVApYClwKYApkCmgKbApwCnQKeAp8CoAKhAqICowKkAqUCpgKnAqgCqQKqAqsCrAKtAq4CrwKwArECsgKzArQCtQK2ArcCuAK5AroCuwK8Ar0CvgK/AsACwQLCAsMCxALFAsYCxwLIAskCygLLAswCzQLOAs8C0ALRAtIC0wLUAtUC1gLXAtgC2QLaAtsC3ALdAt4C3wLgAuEC4gLjAuQC5QLmAucC6ALpAuoC6wLsAu0C7gLvAvAC8QLyAvMC9AL1AvYC9wL4AvkC+gL7AvwC/QL+Av8CAAMBAwIDAwMEAwUDBgMHAwgDCQMKAwsDDAMNAw4DDwMQAxEDEgMTAxQDFQMWAxcDGAMZAxoDGwMcAx0DHgMfAyADIQMiAyMDJAMlAyYDJwMoAykDKgMrAywDLQMuAy8DMAMxAzIDMwM0AzUDNgM3AzgDOQM6AzsDPAM9Az4DPwNAA0EDQgNDA0QDRQNGA0cDSANJA0oDSwNMA00DTgNPA1ADUQNSA1MDVANVA1YDVwNYA1kDWgNbA1wDXQNeA18DYANhA2IDYwNkA2UDZgNnA2gDaQNqA2sDbANtA24DbwNwA3EDcgNzA3QDdQN2A3cDeAN5A3oDewN8A30DfgN/A4ADgQOCA4MDhAOFA4YDhwOIA4kDigOLA4wDjQOOA48DkAORA5IDkwOUA5UDlgOXA5gDmQOaA5sDnAOdA54DnwOgA6EDogOjA6QDpQOmA6cDqAOpA6oDqwOsA60DrgOvA7ADsQOyA7MDtAO1A7YDtwO4A7kDugO7A7wDvQO+A78DwAPBA8IDwwPEA8UDxgPHA8gDyQPKA8sDzAPNA84DzwPQA9ED0gPTA9QD1QPWA9cD2APZA9oD2wPcA90D3gPfA+AD4QPiA+MD5APlA+YD5wPoA+kD6gPrA+wD7QPuA+8D8APxA/ID8wP0A/UD9gP3A/gD+QP6A/sD/AP9A/4D/wMABAEEAgQDBAQEBQQGBAcECAQJBAoECwQMBA0EDgQPBBAEEQQSBBMEFAQVBBYEFwQYBBkEGgQbBBwEHQQeBB8EIAQhBCIEIwQkBCUEJgQnBCgEKQQqBCsELAQtBC4ELwQwBDEEMgQzBDQENQQ2BDcEOAQ5BDoEOwQ8BD0EPgQ/BEAEQQRCBEMERARFBEYERwRIBEkESgRLBEwETQROBE8EUARRBFIEUwRUBFUEVgRXBFgEWQRaBFsEXARdBF4EXwRgBGEEYgRjBGQEZQRmBGcEaARpBGoEawRsBG0EbgRvBHAEcQRyBHMEdAR1BHYEdwR4BHkEegR7BHwEfQR+BH8EgASBBIIEgwSEBIUEhgSHBIgEiQSKBIsEjASNBI4EjwSQBJEEkgSTBJQElQSWBJcEmASZBJoEmwScBJ0EngSfBKAEoQSiBKMEpASlBKYEpwSoBKkEqgSrBKwErQSuBK8EsASxBLIEswS0BLUEtgS3BLgEuQS6BLsEvAS9BL4EvwTABMEEwgTDBMQExQTGBMcEyATJBMoEywTMBM0EzgTPBNAE0QTSBNME1ATVBNYE1wTYBNkE2gTbBNwE3QTeBN8E4AThBOIE4wTkBOUE5gTnBOgE6QTqBOsE7ATtBO4E7wTwBPEE8gTzBPQE9QT2BPcE+AT5BPoE+wT8BP0E/gT/BAAFAQUCBQMFBAUFBQYFBwUIBQkFCgULBQwFDQUOBQ8FEAURBRIFEwUUBRUFFgUXBRgFGQUaBRsFHAUdBR4FHwUgBSEFIgUjBSQFJQUmBScFKAUpBSoFKwUsBS0FLgUvBTAFMQUyBTMFNAU1BTYFNwU4BTkFOgU7BTwFPQU+BT8FQAVBBUIFQwVEBUUFRgVHBUgFSQVKBUsFTAVNBU4FTwVQBVEFUgVTBVQFVQVWBVcFWAVZBVoFWwVcBV0FXgVfBWAFYQViBWMFZAVlBWYFZwVoBWkFagVrBWwFbQVuBW8FcAVxBXIFcwV0BXUFdgV3BXgFeQV6BXsFfAV9BX4FfwWABYEFggWDBYQFhQWGBYcFiAWJBYoFiwWMBY0FjgWPBZAFkQWSBZMFlAWVBZYFlwWYBZkFmgWbBZwFnQWeBZ8FoAWhBaIFowWkBaUFpgWnBagFqQWqBasFrAWtBa4FrwWwBbEFsgWzBbQFtQW2BbcFuAW5BboFuwW8Bb0FvgW/BcAFwQXCBcMFxAXFBcYFxwXIBckFygXLBcwFzQXOBc8F0AXRBdIF0wXUBdUF1gXXBdgF2QXaBdsF3AXdBd4F3wXgBeEF4gXjBeQF5QXmBecF6AXpBeoF6wXsBe0F7gXvBfAF8QXyBfMF9AX1BfYF9wX4BfkF+gX7BfwF/QX+Bf8FAAYBBgIGAwYEBgUGBgYHBggGCQYKBgsGDAYNBg4GDwYQBhEGEgYTBhQGFQYWBhcG",
          "dtype": "i2"
         },
         "xaxis": "x2",
         "y": {
          "bdata": "AAAA4PsgB0AAAACA0/oGQAAAAAAX4gZAAAAAYL+0BkAAAACAaa0GQAAAAKAYYAZAAAAAIKxvBkAAAABARlEGQAAAAGDVHQZAAAAAIAYLBkAAAAAAsTMGQAAAAABK4AVAAAAAALHMBUAAAACAnpsFQAAAAACq6gVAAAAAAKWzBUAAAACga/4FQAAAAODR+gVAAAAAwHTbBUAAAABgbvAFQAAAAECI6gVAAAAAIEGABUAAAABgCccFQAAAAOAowgVAAAAAgEZ+BUAAAACgJ6UFQAAAAMCmZwVAAAAAQBezBUAAAAAAapgFQAAAAIAYbAVAAAAAIJlgBUAAAAAAFwYFQAAAAAD1tAVAAAAA4J/gBEAAAACghwgFQAAAAOB5HgVAAAAA4Ag/BUAAAABAxB4FQAAAAECBawVAAAAAgBYZBUAAAADgZ04FQAAAAIBSRQVAAAAA4A8IBUAAAABAulwFQAAAAMBVCgVAAAAAQJWNBUAAAACgg9MEQAAAAAD9MgVAAAAA4EF7BUAAAABACt0EQAAAAODWQAVAAAAAoOhdBEAAAACA9tkEQAAAAMCc/ARAAAAAYPvBBEAAAADgJDYFQAAAAMAm6wRAAAAAAKMeBUAAAADAu+kEQAAAAED6IAVAAAAAgMVHBUAAAABgH80EQAAAAEC9AwVAAAAAQJZTBEAAAACAS+MEQAAAAKDOiARAAAAA4KTBBEAAAADAHNoEQAAAACAx0ARAAAAAQK/NBEAAAAAAa/0EQAAAAEDMNQVAAAAAoP7KBEAAAAAAH2cFQAAAAABe2gRAAAAA4NhJBUAAAACAl8UEQAAAAICxrQRAAAAAAOnCBEAAAABg6XMEQAAAAEDyhQRAAAAAwOOxBEAAAACgyegEQAAAAOB3YwRAAAAAgGjcBEAAAABA16cEQAAAAGAEyQRAAAAAQMeRBEAAAAAgQ7YEQAAAAAAv5ARAAAAAIJThBEAAAACA9IQEQAAAAMCscQRAAAAAQN6JBEAAAABgfUsEQAAAAOBZbgRAAAAAYGd9BEAAAACg2aEEQAAAAACsagRAAAAAoMznBEAAAABAtwEFQAAAAKBE2QRAAAAAQApcBEAAAACATNkEQAAAAIDrhARAAAAAQIsGBEAAAACAIX8EQAAAAGBdUwRAAAAAwI9jBEAAAADABHkEQAAAAEBiXQRAAAAAoByVBEAAAACgYf0EQAAAAAB4ogRAAAAAIIEJBEAAAADAQ3cEQAAAAIB/wARAAAAAADB1BEAAAADA4CUEQAAAAMC3kgRAAAAA4L59BEAAAAAAMJUEQAAAAECKNwRAAAAAgPmrBEAAAADgsJ4EQAAAACDitwRAAAAAQACHBEAAAAAAezIEQAAAAOAsNgRAAAAAIP1zBEAAAADAOB4EQAAAAIABQwRAAAAAAK3BA0AAAABgJYAEQAAAAMDGUARAAAAAwIhFBEAAAACA618EQAAAACAICgRAAAAAgGU9BEAAAADAVo0EQAAAAIBSZQRAAAAAwB+zBEAAAABAlDoEQAAAAOB9KQRAAAAAIF9CBEAAAAAAClMEQAAAAEDkCwRAAAAAoEQLBEAAAADAqXUEQAAAAECUPgRAAAAAALmcBEAAAAAgqD4EQAAAACB0/wNAAAAAYIM/BEAAAABAf0sEQAAAAECkKARAAAAAIAB1BEAAAACgLPMDQAAAAABa8QNAAAAAAAfZA0AAAACAZu8DQAAAAMBeRgRAAAAAILpVBEAAAADghLkDQAAAAMDqagRAAAAAAFnQA0AAAADAlEgEQAAAAMDDagRAAAAAIK6nBEAAAADA3ssDQAAAAMDW/wNAAAAAgEttBEAAAADASjoEQAAAAOCNAwRAAAAAQBsdBEAAAABgGsoDQAAAAGCOLgRAAAAAoKTzA0AAAABgDhoEQAAAAMDjlgNAAAAAwHwtBEAAAADAIiYEQAAAAKAnPARAAAAA4DsgBEAAAADAUq0DQAAAAABoUQRAAAAAANTcA0AAAACgmhEEQAAAAMA0VQRAAAAAQPn6A0AAAAAA6owDQAAAAKBNHgRAAAAA4HzmA0AAAADAQf8DQAAAAKDGCwRAAAAAwIPSA0AAAADAdNkDQAAAACDERwRAAAAAIAX2A0AAAACgWJMDQAAAAEDdsgNAAAAAwIv3A0AAAAAg1UMEQAAAAECM8QNAAAAAALdBBEAAAABAFNMDQAAAAGBmNgRAAAAAoJ0NBEAAAABAx+sDQAAAAIA+FQRAAAAAQMDkA0AAAACgLOMDQAAAAMAM2ANAAAAAgOUbBEAAAAAgNioEQAAAAMDlfgNAAAAAwIOPA0AAAABgWeEDQAAAAGCyvwNAAAAAYJsABEAAAACAS/oDQAAAAGCC4wNAAAAAoFzFA0AAAACARkkDQAAAAEBQEQRAAAAAgDDSA0AAAABgVtkDQAAAAECU0ANAAAAAIEQJBEAAAAAAdNIDQAAAAKAUvgRAAAAAAMXEA0AAAADAFfEDQAAAAGCL+gJAAAAAoCmTA0AAAADAP+EDQAAAAMAPswNAAAAAoKCWA0AAAACANZkDQAAAAMC5rANAAAAAIGSaA0AAAACgcbwDQAAAAGCRrQNAAAAAYHVABEAAAADAMzoEQAAAAMC3tANAAAAAoDw/BEAAAACANgsEQAAAAMBn2gNAAAAAgEvUA0AAAADgtQ0EQAAAAEDm4QNAAAAAgDb5A0AAAADgYC4EQAAAACCKCwRAAAAAgDdpBEAAAADAxpwDQAAAAEC4pANAAAAAQJnFA0AAAABgdToEQAAAAKBrpQNAAAAAgEIYBEAAAADAAgIEQAAAAADgnwNAAAAAwF6OA0AAAADA49sDQAAAAMC1mANAAAAAwBtpA0AAAACgdBAEQAAAAIDcHwRAAAAAgKI/A0AAAABAQlADQAAAAIBjmwNAAAAA4I01BEAAAADAYOUDQAAAAGCGRARAAAAAgLjnA0AAAAAgh88DQAAAAICxowNAAAAAwJCRA0AAAACAtGQDQAAAAEAYLQRAAAAAoKvxA0AAAACgBZsDQAAAAODi6gNAAAAAoLaABEAAAADAKI0DQAAAACBCwgNAAAAAgP6XA0AAAADg0csDQAAAAIBHwwNAAAAAYJvjA0AAAADgUZYDQAAAAOCxpgNAAAAAoPp5A0AAAAAgnLsDQAAAAECMHgRAAAAAgJlyA0AAAAAgsdkDQAAAAMCyMARAAAAAQC9oA0AAAACANsADQAAAAMAWqwNAAAAAYArZA0AAAACgJxcEQAAAAGDPjANAAAAAwE9hA0AAAADgrYkDQAAAAIAQEgRAAAAAAIGyA0AAAABAqYYDQAAAAGAf2gNAAAAAAMqlA0AAAACAz4oDQAAAAGDgjQNAAAAAIM3FA0AAAADAdlUDQAAAAOAmmQNAAAAAIElYA0AAAACgfMoDQAAAAIDx6wNAAAAAQNZ1A0AAAADAOE8DQAAAAMAOHARAAAAAwC+WA0AAAABgbf8DQAAAAODTCgRAAAAA4MKlA0AAAACg7+0DQAAAAACoogNAAAAAAMNKA0AAAADAK/EDQAAAAOAhCARAAAAA4O6QA0AAAACgGIEDQAAAAGCtrgNAAAAAYICaA0AAAADA1HADQAAAAAAHXwNAAAAAYMh9A0AAAADArc0DQAAAAEBwYQNAAAAAwAKUA0AAAAAAOAMEQAAAAICt0QNAAAAA4I6fA0AAAAAAfJ0DQAAAAABnvANAAAAAgGtkA0AAAABAQcIDQAAAAOA4wANAAAAAAAFeA0AAAAAgY1IDQAAAAIB1LwNAAAAAIKVsA0AAAADASoUDQAAAAICfrwNAAAAAoN2XA0AAAADAlXcDQAAAAABF5QJAAAAAYJM1A0AAAACALMUDQAAAACCktgNAAAAAwN4+A0AAAACArxoDQAAAAOCnmQNAAAAAQItjA0AAAACAqlgDQAAAAAC1iANAAAAAgFXZAkAAAADAqUEDQAAAAGBX0QNAAAAAwCqCA0AAAABAv4cDQAAAACAMOANAAAAAIIsSA0AAAAAANU4DQAAAAAB2LQNAAAAAoDCVA0AAAABAl9QDQAAAACCdlgNAAAAAQL/gA0AAAACAz/ACQAAAACDoeQNAAAAA4OCYA0AAAACAL8wDQAAAAGA4WANAAAAAwAX8A0AAAABga9QDQAAAAGCiwwJAAAAAgJQHBEAAAABgiCsDQAAAACCilQNAAAAAgCGXA0AAAABA/6MDQAAAAIBjOQNAAAAAwP9VA0AAAAAgYnwDQAAAAMAbmQNAAAAAwAuoA0AAAABAkrsDQAAAAECFkQNAAAAAgG09A0AAAABASocDQAAAACDnlQNAAAAAAEF9A0AAAABgEMMDQAAAAKBZJANAAAAAgFEQA0AAAADApmgDQAAAAADqvgNAAAAA4KjpA0AAAAAgKFYDQAAAAKAXSQNAAAAAwDB2A0AAAADg8owDQAAAAKC+agNAAAAAwLWMA0AAAADARUMDQAAAAKCAngNAAAAAYEdgA0AAAAAAL6gDQAAAAIDdjANAAAAAAAKHA0AAAABASpIDQAAAAEANwQNAAAAAgBZ7A0AAAAAAjxMDQAAAAMACoANAAAAAgNdZA0AAAACg/B4DQAAAAIDwtwNAAAAAgNvCAkAAAABAZAUDQAAAAEDRnANAAAAAQChJA0AAAAAAg4gDQAAAAOCPrwNAAAAAIH+IA0AAAABA5SoDQAAAAICpQgNAAAAAoDA4A0AAAAAAn8ADQAAAAACVhQNAAAAAAG8mA0AAAACAHD8DQAAAAMC0ZANAAAAAwGatA0AAAABAIZEDQAAAAOC1CANAAAAA4C0pA0AAAACAiKcDQAAAAKBpuANAAAAAgN2nA0AAAABA4k0DQAAAAID4YgNAAAAAYP5PA0AAAACgVu8CQAAAAKC1gwNAAAAAwEA9A0AAAAAgOvwCQAAAAGAWEwNAAAAAQLlqA0AAAADAyzwDQAAAAEDgaANAAAAAgME3A0AAAABAtpADQAAAAMDPRANAAAAAwJFuA0AAAABAdicDQAAAAADfWgNAAAAA4Md7A0AAAABgOyMDQAAAAGCYggNAAAAAgIp7A0AAAAAAllIDQAAAAOBwnwNAAAAAANE8A0AAAACAmxYDQAAAAOB4cgNAAAAAQEdmA0AAAABgbloDQAAAAEAgRANAAAAAICN4A0AAAADgUHADQAAAAGB/CANAAAAA4HOeA0AAAAAgRTwDQAAAAADOAgNAAAAAwJZxA0AAAADAQtsCQAAAAMCsjwNAAAAAAPyNA0AAAABAuEsDQAAAAEB6WwNAAAAAAA5eA0AAAAAAYWsDQAAAAEDz4gJAAAAAgE7qAkAAAADADvMCQAAAAGDb5wJAAAAAAIwlA0AAAADgAVcDQAAAAACfYANAAAAAAO5MA0AAAAAgdkMDQAAAAIDDcwNAAAAAoKVOA0AAAABgZFUDQAAAAAC2XANAAAAAwEqoA0AAAABAZnoDQAAAAGArLANAAAAAgGTiAkAAAACAbSIDQAAAAGC2hgNAAAAAQANBA0AAAABgQUwDQAAAAEBTBANAAAAAQBXRA0AAAABg7GADQAAAAGAkpQNAAAAAYElRA0AAAABA/yoDQAAAAIBAZgNAAAAAwHdYA0AAAABgZNkCQAAAAIDwgwJAAAAAYH8wA0AAAABg7HIDQAAAAIBsZQNAAAAAwGRNA0AAAADg1z8DQAAAAOCE6QJAAAAAINsCA0AAAAAA/4YDQAAAAECh6wJAAAAAgJvkAkAAAAAgdKMDQAAAAKD0PQNAAAAAIPcPA0AAAABAF7kDQAAAAEA8BQNAAAAAAJ+uA0AAAACArwgDQAAAAECxygJAAAAAYPNwA0AAAACA/EwDQAAAAMBWRgNAAAAAwCXkAkAAAAAg3RcDQAAAAEAPUwNAAAAAgDAkA0AAAACgZPYCQAAAAGAMyQJAAAAAABEKA0AAAACAw80CQAAAAAAypwNAAAAAYCfuAkAAAAAA+uMCQAAAAMAV7AJAAAAAwFAPA0AAAACgNQsDQAAAAODjYwNAAAAAgJqMA0AAAACg600DQAAAAOB+0QJAAAAA4EvcAkAAAABgojwDQAAAAOC/WQNAAAAAQFQPA0AAAACg2IkDQAAAACDzeAJAAAAAAFXwAkAAAABgYw8DQAAAAGBuHwNAAAAA4PnSAkAAAABAseUCQAAAACC5tQJAAAAAIBZjA0AAAADgKNkCQAAAAAAEMgNAAAAAwJirAkAAAAAAt8QCQAAAAMA8wQJAAAAAwMboAkAAAAAgkuMCQAAAAADOLANAAAAAACoTA0AAAAAgIcECQAAAAGDhvgJAAAAAQLZBA0AAAABAjN0CQAAAAIDhPgNAAAAAgEPdAkAAAACg2iYDQAAAAEDFRANAAAAAgPo/A0AAAAAAcncDQAAAAKDJHgNAAAAAgBCIAkAAAADgBFwDQAAAAMBvngJAAAAAgBLjAkAAAADgPxQDQAAAAICK2wJAAAAA4JS1AkAAAACA+isDQAAAAKACUQNAAAAAYBBxA0AAAADgR8gCQAAAAAAxpQJAAAAAgIbsAkAAAAAgutkCQAAAACA7UgNAAAAAQLs6A0AAAAAAtLoCQAAAAEDm6QJAAAAAoISoAkAAAAAAU/4CQAAAAACuAwNAAAAA4Eq3AkAAAACAd+QCQAAAAMCHeQJAAAAAAO/bAkAAAAAAqb8CQAAAAGD29AJAAAAAIILDAkAAAAAg3MUCQAAAAKC2AANAAAAAQCyhAkAAAACgGOcCQAAAAADG8QJAAAAAoBa6AkAAAACAXXsCQAAAAACF5QJAAAAA4CUyA0AAAADg28sCQAAAACDYDgNAAAAAAL3EAkAAAAAAHN8CQAAAAICHAQNAAAAAgIL+AkAAAABAc7YCQAAAAOBLnAJAAAAAoCifAkAAAACAmscCQAAAAODvmwJAAAAAwKQXA0AAAACAwx0DQAAAAADDwgJAAAAAAEZjAkAAAADgY7QCQAAAAABI2wJAAAAAgB5MA0AAAACAXRMCQAAAACB5EgNAAAAA4Hi2AkAAAADgfUsDQAAAAACslgJAAAAAYPbBAkAAAACADVwCQAAAAICu7QJAAAAA4BgPA0AAAADAgvgCQAAAAABjgwJAAAAA4GvdAkAAAACgHQ4DQAAAACCAtgJAAAAAILwyA0AAAABAn/ECQAAAACAHFwNAAAAAoJXoAkAAAABg984CQAAAAEAy5gJAAAAA4PqMAkAAAAAA3m4CQAAAACDvkAJAAAAAgODRAkAAAACgqN8CQAAAAMChIANAAAAAwEgKA0AAAADACoQCQAAAACCMuAJAAAAAgKb5AkAAAADAANkCQAAAAGAixQJAAAAAoHuYAkAAAABAP7wCQAAAAEAOQQNAAAAA4KpsAkAAAABgYtICQAAAAEAl0gJAAAAAQLi5AkAAAABgeTQDQAAAAADl3wJAAAAAQFDeAkAAAACAW/cCQAAAAADGlwJAAAAA4OwOA0AAAADAsPcCQAAAACCaFANAAAAAoMPcAkAAAADgHGoCQAAAAEAD1AJAAAAAgPXpAkAAAADAXMsCQAAAACA4+AJAAAAAQNQZA0AAAABATIICQAAAAOC8KwJAAAAAYINrAkAAAACg4OcCQAAAAEAzPwNAAAAAwLOSAkAAAADAixwDQAAAACCnTAJAAAAAQEkTA0AAAACgpmwCQAAAAOAzAQNAAAAAYAGqAkAAAAAgfQwDQAAAAACpvgJAAAAA4MPEAkAAAACAkSUDQAAAAMCQwAJAAAAAQKmAAkAAAADAFkwCQAAAAIAVrAJAAAAAAALTAkAAAADgyX8CQAAAAOA/lQJAAAAAQJ2FAkAAAACgbL8CQAAAAIDOugJAAAAAwMzUAkAAAADgo28CQAAAACCYeQJAAAAAIA9JAkAAAACA2twCQAAAAGBl1QJAAAAAwHfPAkAAAABAdqUCQAAAAKAckwJAAAAAYPuHAkAAAACgJuICQAAAAIAhjwJAAAAAwMXoAkAAAACAjqQCQAAAAOAztgJAAAAAoFSTAkAAAADA67sCQAAAAAAivwJAAAAAYI90AkAAAAAgM7ECQAAAAGD6EANAAAAA4PSsAkAAAADAM4QCQAAAAKDxuQJAAAAAoBHJAkAAAAAgO6gCQAAAAEAXpwJAAAAAwDy7AkAAAAAARJMCQAAAACDUxgJAAAAAIKiLAkAAAABg86kCQAAAACDNuwJAAAAAoFqkAkAAAACAZ6oCQAAAAOAxTwJAAAAAQOHNAkAAAADgdW8CQAAAAKB5kQJAAAAAgNZjAkAAAADA5oECQAAAAOBt3wJAAAAAQBtEAkAAAABgdOACQAAAAKBgiAJAAAAAIHt0AkAAAABg8IsCQAAAAGD+4QJAAAAAQLp4AkAAAADAXekCQAAAAKACjAJAAAAAwBgdAkAAAAAATeYCQAAAAACAuAJAAAAA4CIlAkAAAACAIcMCQAAAAECixgJAAAAAoMm+AkAAAABAh50CQAAAAMATfwJAAAAAgIJPAkAAAACgoFICQAAAAMB3bAJAAAAA4HKGAkAAAADAYGgCQAAAAGD/cAJAAAAAAF//AkAAAABAGoUCQAAAAKCA3gJAAAAAgJS6AkAAAAAAq3ECQAAAAIAzYAJAAAAA4Fl5AkAAAABAFk4CQAAAAABOZgJAAAAAAFCgAkAAAACAD5YCQAAAAABOiAJAAAAAYJotAkAAAADArKkCQAAAACCuMgJAAAAAAAj7AkAAAACAAe0CQAAAAIB+swJAAAAAIE7JAkAAAACgxq4CQAAAAED0cAJAAAAAQOG3AkAAAAAgm7QCQAAAAICWewJAAAAA4Cs2A0AAAADg8wEDQAAAAECW3gJAAAAAAIyXAkAAAAAgrTwCQAAAAEAjOAJAAAAAoDd5AkAAAABAcY0CQAAAAICHkwJAAAAA4OwrAkAAAABAHkACQAAAAOAWuAJAAAAAwOV/AkAAAADgXWECQAAAAABLHQJAAAAAoOK0AkAAAABAomYCQAAAAEDhRQJAAAAAwEKRAkAAAAAAeQcCQAAAAEBVTwJAAAAAgF1MAkAAAADAnFYCQAAAACCaNgJAAAAAwCHaAkAAAADgroQCQAAAAKCHjgJAAAAAYL+cAkAAAACApCYCQAAAAABZXQJAAAAAIMt7AkAAAAAgE6ECQAAAAACsTQJAAAAAQEGAAkAAAABgVysCQAAAAADVFAJAAAAAQBxBAkAAAACADGwCQAAAAGCOMgJAAAAAIFU+AkAAAADA7UICQAAAAADNcQJAAAAAAPmdAkAAAACg+zMCQAAAAMC9SQJAAAAAwFNlAkAAAABgL3cCQAAAAIBbZQJAAAAA4NNZAkAAAACABmMCQAAAAID1QAJAAAAAoJRpAkAAAABAPhMCQAAAAIDciAJAAAAAoF9cAkAAAACAF3YCQAAAAGBhhAJAAAAAAMxmAkAAAABA6/wBQAAAAIDvFAJAAAAAILAdAkAAAABAeGwCQAAAAOBENAJAAAAA4MRHAkAAAADAoaACQAAAAKDdIgJAAAAAAKsvAkAAAACgoA4CQAAAAACgXAJAAAAAwHk9AkAAAAAAdPMBQAAAAACIjQJAAAAAwNZEAkAAAABAMDsCQAAAAKC4SgJAAAAA4MAsAkAAAABAxHACQAAAAEB7PgJAAAAAwDd7AkAAAABAq0YCQAAAAGDWTQJAAAAAIOU3AkAAAABAR6kCQAAAAKATCgJAAAAAIBfIAUAAAACAaEUCQAAAAMDbAQJAAAAAYDW0AkAAAADAVxcCQAAAAMAZVwJAAAAAYOBTAkAAAABgXB8CQAAAAAAhrwFAAAAAAIEhAkAAAACAQWICQAAAAEAsOQJAAAAAQLMIAkAAAACAFjICQAAAAIC5PgJAAAAAoI82AkAAAABAGnECQAAAAODuBgJAAAAAQF5pAkAAAADArEQCQAAAAOC4vQFAAAAAwPJ1AkAAAACgVyQCQAAAACCSUQJAAAAAwCX7AUAAAAAAOMIBQAAAAGDvDgJAAAAA4CrfAUAAAADgXg0CQAAAAGBNZAJAAAAAwFB1AkAAAADABQ0CQAAAAGA8GQJAAAAAAEdWAkAAAAAg9PsBQAAAAIAiIAJAAAAAoHfJAUAAAAAgriACQAAAACBwIwJAAAAAAJXOAUAAAABgtPMBQAAAAICoLwJAAAAAIF6JAkAAAAAgg7ACQAAAAIAk8gFAAAAA4IvwAUAAAADgKAECQAAAAMARmQJAAAAAAEYNAkAAAACglQcCQAAAACAx9QFAAAAAwET8AUAAAACAJWUCQAAAAGAh9wFAAAAAIANyAkAAAACAJlACQAAAAKCwCQJAAAAAwPPWAUAAAACAThoCQAAAAGAb3AFAAAAAAIa/AUAAAACgSSACQAAAAABkugFAAAAAwCwtAkAAAABgUE4CQAAAAKAnWgJAAAAAgI1vAkAAAACgFi0CQAAAACBNHQJAAAAAwPWQAUAAAADgyCoCQAAAAOAh5QFAAAAAANcoAkAAAAAADggCQAAAAOAeSQJAAAAAgFaeAUAAAACgLiECQAAAAEBQdQJAAAAA4B7WAUAAAACgrdkBQAAAAABL/QFAAAAA4LVKAkAAAADAr3oCQAAAACAQ2gFAAAAAQDuTAUAAAAAg7+YBQAAAAOAU5wFAAAAAgGQrAkAAAACAeMQBQAAAAGBm6QFAAAAAgPFaAkAAAABAVsABQAAAAOCA6QFAAAAAgIiDAkAAAADAxSwCQAAAAMAK5AFAAAAAoGw2AkAAAAAgtS4CQAAAAIDjBwJAAAAAYMwJAkAAAAAAQCcCQAAAAEC7bgJAAAAAoAX2AUAAAABAgPQBQAAAAOADhwFAAAAAoJt5AkAAAACAu/QBQAAAAIDVbAJAAAAAYG9HAkAAAABA+E0CQAAAAIDJ9QFAAAAAAGO1AUAAAADABScCQAAAAEBYyAFAAAAAAEfqAUAAAABgIp0BQAAAAAD89QFAAAAAoNKZAUAAAACAT/MBQAAAAMAMJgJAAAAAgPUIAkAAAAAAS1kCQAAAAKDr6wFAAAAAwFBdAkAAAADAa6kBQAAAAIDM3wFAAAAAQLwEAkAAAAAgal0CQAAAACAx1gFAAAAAgB0mAkAAAACAQ0sCQAAAACCM3AFAAAAAgMnLAUAAAABAcK8BQAAAAIBaJQJAAAAAoIJvAkAAAADg5KIBQAAAAAByIQJAAAAAYKFLAkAAAACAwt8BQAAAAOBWugFAAAAAgKyHAUAAAABgU9cBQAAAAEAGiAFAAAAAIIrxAUAAAABgKQ0CQAAAAMDz+gFAAAAAALyXAUAAAAAg/UACQAAAAAC5uAFAAAAAAJ2fAUAAAAAgUzcCQAAAAMDF5AFAAAAAYGE2AkAAAADAvL8BQAAAACB9iwJAAAAAoIwZAkAAAACgYcYBQAAAAIDOCwJAAAAAYAv2AUAAAADAwxMCQAAAAMD7hwFAAAAAgFR8AUAAAABgPzECQAAAAKAnzQFAAAAAgPeZAUAAAABAmvYBQAAAAGBmDgJAAAAAAHbEAUAAAACAPdoBQAAAAMCq0wFAAAAAgLOqAUAAAAAAWYgBQAAAAEB/UgJAAAAA4GUXAkAAAACApfYBQAAAAIAP6QFAAAAAoHgMAkAAAACAiroBQAAAAGBdrAFAAAAAwGwHAkAAAAAAUy0CQAAAAID/kgFAAAAAoBAuAkAAAADAzd8BQAAAAACqAQJAAAAA4EpwAUAAAACgONcBQAAAAMCUTwJAAAAAgD+DAUAAAADgj9UBQAAAAMB+GQJAAAAAwI/KAUAAAACAAfcBQAAAACC6/wFAAAAAoGcZAkAAAABAD6cBQAAAAOAjgAFAAAAAwDHaAUAAAABg/PUBQAAAAAB9iAFAAAAA4COfAUAAAAAApzgCQAAAAEAuAgJAAAAAICWwAUAAAADgEG4BQAAAACBRqgFAAAAAoImnAUAAAADgq2cBQAAAAGCK1wFAAAAAgALaAUAAAAAgJcUBQAAAAIAwxgFAAAAAAHqiAUAAAADAQekBQAAAAADuagFAAAAAIN+vAUAAAADAC8IBQAAAAGDKdAFAAAAAQOrgAUAAAABgwNYBQAAAAKCpmwFAAAAAwCCiAUAAAABADsMBQAAAAMCh/AFAAAAAYCrEAUAAAABAG/UBQAAAAABZ6AFAAAAAQNXMAUAAAABAUB0CQAAAAMD/rAFAAAAA4JIRAkAAAACAP+YBQAAAAOCm2AFAAAAAAIIGAkAAAADAG5UBQAAAAGAlzgFAAAAAALL/AUAAAACAGpgBQAAAAEB2DgJAAAAAwC0EAkAAAADgYc4BQAAAAMBI2gFAAAAAAJXEAUAAAADAyn8BQAAAAADQ2QFAAAAAwNSvAUAAAACApw8CQAAAAADGGgJAAAAA4DJSAUAAAAAA9dYBQAAAAEDzvgFAAAAAwPLuAUAAAABgpmkBQAAAAKDG4QFAAAAAAMCiAUAAAADAuYwBQAAAAKBm+wFAAAAAQCvWAUAAAAAg/NMBQAAAAEC/4QFAAAAAQBqEAUAAAACgKdMBQAAAACB9vgFAAAAAAKJiAUAAAAAgSMgBQAAAAKBsGgJAAAAAoKO5AUAAAABABrwBQAAAAKDT9AFAAAAAwDeJAUAAAABAmH4BQAAAAEAZlQFAAAAAQADtAUAAAABAuMIBQAAAACDwFQJAAAAAQAuvAUAAAACAwrgBQAAAAACuogFAAAAAQO3xAUAAAAAgorIBQAAAAMBvGAJAAAAAgNm1AUAAAADAKn4BQAAAAIB4OwJAAAAAANBJAUAAAACgE0ICQAAAAEB90wFAAAAAQGi/AUAAAABA4qgBQAAAAIBiYgJAAAAAQLGhAUAAAABAHcwBQAAAACDg0gFAAAAAYAPNAUAAAACAGKcBQAAAAEAg3AFAAAAAoMLvAUAAAACgprQBQAAAACA0pgFAAAAAYHRbAUAAAACAILMBQAAAACCmkgFAAAAAwOqUAUAAAACgts4BQAAAAOCAfQFAAAAAwP/3AUAAAADgYloBQAAAAEAIJwJAAAAAoIOYAUAAAADAmQUCQAAAAKBM0AFAAAAA4KZ0AUAAAAAgbnoBQAAAAMD/lgFAAAAAAJ3CAUAAAACAjuwBQAAAAMDKFwJAAAAAoEyiAUAAAADA/9gBQAAAAMBG6QFAAAAAQNJLAUAAAABgDNsBQAAAAOD8twFAAAAAYAXkAUAAAADgpZMBQAAAACB7igFAAAAAoCWMAUAAAADALJMBQAAAAOC/uQFAAAAAAPyyAUAAAADAlZUBQAAAAOAC4AFAAAAAwHbDAUAAAAAgFvMBQAAAACCgFQJAAAAAgF/hAUAAAACACtQBQAAAACA+6wFAAAAAQExXAUAAAAAAOskBQAAAAIDz9wFAAAAAQCqPAUAAAACAvOoBQAAAAEDpoQFAAAAAIC0DAkAAAADgYgkCQAAAAOBD1gFAAAAAQPVnAUAAAAAAHBsCQAAAAIBdmAFAAAAAgE+PAUAAAAAgQs4BQAAAACCwOgJAAAAAIJ2ZAUAAAABg43ABQAAAAKBsrgFAAAAAwEOlAUAAAABApWkBQAAAAABAvAFAAAAAIESiAUAAAAAAps4BQAAAAICA9QFAAAAAQLvTAUAAAADgrx8CQAAAAKDCowFAAAAAoNNJAUAAAABAqZUBQAAAAEDuyQFAAAAAgBoEAkAAAAAAytYBQAAAAOAL3wFAAAAAYN6EAUAAAABgnGYBQAAAACBNqwFAAAAA4C+0AUAAAADgNdIBQAAAAMDAlgFAAAAAoGP3AUAAAACA+64BQAAAAACCvgFAAAAAIEWiAUAAAADAodgBQAAAAGBjCwJAAAAAgGiqAUAAAABAsTECQAAAAADstgFAAAAAIKrEAUAAAACg5cwBQAAAAICd8wFAAAAAgEr3AUAAAABgTcABQAAAAKCu6wFAAAAAINIaAkAAAAAAkZkBQAAAACBk+gFAAAAAAApCAUAAAABA8sYBQAAAAID41QFAAAAAACSsAUAAAADA9u8BQAAAAIBqugFAAAAAwEuOAUAAAADgxl0BQAAAAECrgQFAAAAAgFeSAUAAAAAAzdkBQAAAAGBnywFAAAAAwFZIAUAAAACgyaoBQAAAAEBAywFAAAAAwBjRAUAAAACgEd8BQAAAAECWtQFAAAAAAJXHAUAAAAAg+JcBQAAAACBHzgFAAAAA4NyJAUAAAADAca0BQAAAACDtnAFAAAAAIDeqAUAAAABgFHABQAAAAEBq9QFAAAAA4FQMAkAAAAAgKKYBQAAAAGAodgFAAAAAwJiZAUAAAABANIsBQAAAAKD9hAFAAAAAINVwAUAAAACAQ4IBQAAAAOCE6wFAAAAAAAUUAkAAAAAAt0UBQAAAAIBm3AFAAAAAYL6eAUAAAADA+7kBQAAAAMC+CQJAAAAA4EF1AUAAAADg88kBQAAAAAC6qwFAAAAAwGKbAUAAAAAgNSQBQAAAAABkbwFAAAAAQI3XAUAAAABg2pABQAAAAIBr0wFAAAAAwBMaAUAAAABgzvMBQAAAAOAWcwFAAAAAgGU4AUAAAACg7DsBQAAAAOBplgFAAAAAgOOkAUAAAADgzsMBQAAAAACH2AFAAAAAINNsAUAAAADgzJABQAAAAAC8jgFAAAAAYA1tAUAAAACA7sIBQAAAAMD7bAFAAAAAAJSwAUAAAADAT+EBQAAAAEA+8QFAAAAA4PjhAUAAAAAAp2kBQAAAAEDSJAJAAAAAQLCmAUAAAAAARX4BQAAAAGDnTAFAAAAAAKOqAUAAAAAAv60BQAAAAEDObwFAAAAA4MDGAUAAAACA8LMBQAAAAMD8qgFAAAAAYCBOAUAAAABAIpYBQAAAAIAiqwFAAAAAYEOdAUAAAACAmtABQAAAAACEqwFAAAAAgOm9AUAAAABgln4BQAAAAMDKgQFAAAAAADadAUAAAAAg/m0BQAAAAIADQgFAAAAAAK6jAUAAAADgo8cBQAAAAMBJRgFAAAAAgAN2AUAAAADAE7gBQAAAAKB8MQFAAAAAQEKPAUAAAACACLQBQAAAAEA+cQFAAAAAoD++AUAAAACgM6gBQAAAAGCfagFAAAAAoINxAUAAAACAGmUBQAAAAEDjngFAAAAAIMeyAUAAAADA2ZsBQAAAAACwcwFAAAAAIFO+AUAAAABg9FkBQAAAAMC5UwFAAAAA4FGMAUAAAACARmoBQAAAAOArxQFAAAAAgJlVAUAAAADAAogBQAAAAMC6owFAAAAAgD7eAUAAAABgFJcBQAAAAODJwAFAAAAAYDE3AUAAAADAhxcBQAAAAEDdCgFAAAAAIPxsAUAAAABACp8BQAAAACC08wFAAAAAwCGHAUAAAAAg0owBQAAAAADmmAFAAAAAYMGQAUAAAACgmHwBQAAAACAXeAFAAAAAYJ11AUAAAAAgGHsBQAAAAOCVaAFAAAAAAAaKAUAAAACAZ2kBQAAAAMB6PQFAAAAA4KuGAUAAAAAAwHYBQAAAACAVkQFAAAAAAAxnAUAAAAAguSgBQAAAAGAupAFAAAAAgNK+AUAAAACg6xMBQAAAAMA/nAFAAAAAwJSEAUAAAACgB2UBQAAAAED19wBAAAAAoDWhAUAAAACArncBQAAAAIBmTgFAAAAAQHaXAUAAAABgRWQBQAAAAIANcgFAAAAAwPMoAUAAAAAAr2QBQAAAAECGPQFAAAAAwH1hAUAAAACAW54BQAAAAKBgjQFAAAAAYDVYAUAAAABALpoBQAAAAOBsRAFAAAAAQCrCAUAAAADAiNIBQAAAAODysgFAAAAAQJVhAUAAAAAAzmMBQAAAAEANlQFAAAAAYBhIAUAAAAAAlXwBQAAAAIBP9QFAAAAAICJ9AUAAAADgKrYBQAAAACAeSwFAAAAAgKpSAUAAAAAgHT8BQAAAAIDtpAFAAAAAYFiPAUAAAADgz/gAQAAAAOD3ngFAAAAAIFrSAUAAAABgKi8BQAAAAGDHNgFAAAAAgD9CAUAAAAAASk0BQAAAAABNFQFAAAAAwBtvAUAAAABgCTEBQAAAAEAvZgFAAAAAAHI4AUAAAAAgqUkBQAAAAOBZkQFAAAAA4NVmAUAAAAAAo1sBQAAAAMAVgQFAAAAAgH1oAUAAAADAzgECQAAAAMDi/gBAAAAAgJYXAUAAAACgmFcBQAAAAAC1nwFAAAAAYDReAUAAAADgCYYBQAAAAMCcMgFAAAAAQKpQAUAAAACgfGwBQAAAAMBclwFAAAAAYJBeAUAAAAAA0OwAQAAAAMCc2QFAAAAAoE1oAUAAAADg1RoBQAAAAICeMgFAAAAAYDhNAUAAAADAxpIBQAAAAODG9gBAAAAA4FcmAUAAAACgJH8BQAAAAMAFNwFAAAAAAEZ0AUAAAABAy3MBQAAAAAB/TAFAAAAAoGFMAUAAAAAAMDABQAAAAGA/dQFAAAAAQIJ7AUAAAADgZ0oBQAAAAMCmawFAAAAA4E2uAUAAAACgtlEBQAAAAMDObwFAAAAAIABKAUAAAADAAmMBQAAAACAmCwFAAAAAABghAUAAAADgj2MBQAAAAGDjRwFAAAAAYJMzAUAAAACAiVEBQAAAAIBoYgFAAAAAoPkxAUAAAAAAUTEBQAAAAKBAZgFAAAAAAL4zAUAAAABAahkBQAAAAEAL3gBAAAAAYApjAUAAAADgxDcBQAAAAAAhGQFA",
          "dtype": "f8"
         },
         "yaxis": "y2"
        },
        {
         "hovertemplate": "<b>Exponentially Weighted mean trendline</b><br><br>variable=batch_train_loss<br>step=%{x}<br>value=%{y} <b>(trend)</b><extra></extra>",
         "legendgroup": "",
         "line": {
          "color": "red"
         },
         "marker": {
          "color": "#636efa",
          "symbol": "circle"
         },
         "mode": "lines",
         "name": "",
         "showlegend": false,
         "type": "scattergl",
         "x": {
          "bdata": "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",
          "dtype": "i2"
         },
         "xaxis": "x2",
         "y": {
          "bdata": "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",
          "dtype": "f8"
         },
         "yaxis": "y2"
        },
        {
         "hovertemplate": "variable=batch_accuracy<br>step=%{x}<br>value=%{y}<extra></extra>",
         "legendgroup": "",
         "marker": {
          "color": "#636efa",
          "symbol": "circle"
         },
         "mode": "markers",
         "name": "",
         "showlegend": false,
         "type": "scattergl",
         "x": {
          "bdata": "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",
          "dtype": "i2"
         },
         "xaxis": "x",
         "y": {
          "bdata": "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",
          "dtype": "f8"
         },
         "yaxis": "y"
        },
        {
         "hovertemplate": "<b>Exponentially Weighted mean trendline</b><br><br>variable=batch_accuracy<br>step=%{x}<br>value=%{y} <b>(trend)</b><extra></extra>",
         "legendgroup": "",
         "line": {
          "color": "red"
         },
         "marker": {
          "color": "#636efa",
          "symbol": "circle"
         },
         "mode": "lines",
         "name": "",
         "showlegend": false,
         "type": "scattergl",
         "x": {
          "bdata": "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",
          "dtype": "i2"
         },
         "xaxis": "x",
         "y": {
          "bdata": "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",
          "dtype": "f8"
         },
         "yaxis": "y"
        }
       ],
       "layout": {
        "annotations": [
         {
          "font": {},
          "showarrow": false,
          "text": "variable=batch_accuracy",
          "textangle": 90,
          "x": 0.98,
          "xanchor": "left",
          "xref": "paper",
          "y": 0.2425,
          "yanchor": "middle",
          "yref": "paper"
         },
         {
          "font": {},
          "showarrow": false,
          "text": "variable=batch_train_loss",
          "textangle": 90,
          "x": 0.98,
          "xanchor": "left",
          "xref": "paper",
          "y": 0.7575000000000001,
          "yanchor": "middle",
          "yref": "paper"
         }
        ],
        "legend": {
         "tracegroupgap": 0
        },
        "template": {
         "data": {
          "bar": [
           {
            "error_x": {
             "color": "#2a3f5f"
            },
            "error_y": {
             "color": "#2a3f5f"
            },
            "marker": {
             "line": {
              "color": "#E5ECF6",
              "width": 0.5
             },
             "pattern": {
              "fillmode": "overlay",
              "size": 10,
              "solidity": 0.2
             }
            },
            "type": "bar"
           }
          ],
          "barpolar": [
           {
            "marker": {
             "line": {
              "color": "#E5ECF6",
              "width": 0.5
             },
             "pattern": {
              "fillmode": "overlay",
              "size": 10,
              "solidity": 0.2
             }
            },
            "type": "barpolar"
           }
          ],
          "carpet": [
           {
            "aaxis": {
             "endlinecolor": "#2a3f5f",
             "gridcolor": "white",
             "linecolor": "white",
             "minorgridcolor": "white",
             "startlinecolor": "#2a3f5f"
            },
            "baxis": {
             "endlinecolor": "#2a3f5f",
             "gridcolor": "white",
             "linecolor": "white",
             "minorgridcolor": "white",
             "startlinecolor": "#2a3f5f"
            },
            "type": "carpet"
           }
          ],
          "choropleth": [
           {
            "colorbar": {
             "outlinewidth": 0,
             "ticks": ""
            },
            "type": "choropleth"
           }
          ],
          "contour": [
           {
            "colorbar": {
             "outlinewidth": 0,
             "ticks": ""
            },
            "colorscale": [
             [
              0,
              "#0d0887"
             ],
             [
              0.1111111111111111,
              "#46039f"
             ],
             [
              0.2222222222222222,
              "#7201a8"
             ],
             [
              0.3333333333333333,
              "#9c179e"
             ],
             [
              0.4444444444444444,
              "#bd3786"
             ],
             [
              0.5555555555555556,
              "#d8576b"
             ],
             [
              0.6666666666666666,
              "#ed7953"
             ],
             [
              0.7777777777777778,
              "#fb9f3a"
             ],
             [
              0.8888888888888888,
              "#fdca26"
             ],
             [
              1,
              "#f0f921"
             ]
            ],
            "type": "contour"
           }
          ],
          "contourcarpet": [
           {
            "colorbar": {
             "outlinewidth": 0,
             "ticks": ""
            },
            "type": "contourcarpet"
           }
          ],
          "heatmap": [
           {
            "colorbar": {
             "outlinewidth": 0,
             "ticks": ""
            },
            "colorscale": [
             [
              0,
              "#0d0887"
             ],
             [
              0.1111111111111111,
              "#46039f"
             ],
             [
              0.2222222222222222,
              "#7201a8"
             ],
             [
              0.3333333333333333,
              "#9c179e"
             ],
             [
              0.4444444444444444,
              "#bd3786"
             ],
             [
              0.5555555555555556,
              "#d8576b"
             ],
             [
              0.6666666666666666,
              "#ed7953"
             ],
             [
              0.7777777777777778,
              "#fb9f3a"
             ],
             [
              0.8888888888888888,
              "#fdca26"
             ],
             [
              1,
              "#f0f921"
             ]
            ],
            "type": "heatmap"
           }
          ],
          "histogram": [
           {
            "marker": {
             "pattern": {
              "fillmode": "overlay",
              "size": 10,
              "solidity": 0.2
             }
            },
            "type": "histogram"
           }
          ],
          "histogram2d": [
           {
            "colorbar": {
             "outlinewidth": 0,
             "ticks": ""
            },
            "colorscale": [
             [
              0,
              "#0d0887"
             ],
             [
              0.1111111111111111,
              "#46039f"
             ],
             [
              0.2222222222222222,
              "#7201a8"
             ],
             [
              0.3333333333333333,
              "#9c179e"
             ],
             [
              0.4444444444444444,
              "#bd3786"
             ],
             [
              0.5555555555555556,
              "#d8576b"
             ],
             [
              0.6666666666666666,
              "#ed7953"
             ],
             [
              0.7777777777777778,
              "#fb9f3a"
             ],
             [
              0.8888888888888888,
              "#fdca26"
             ],
             [
              1,
              "#f0f921"
             ]
            ],
            "type": "histogram2d"
           }
          ],
          "histogram2dcontour": [
           {
            "colorbar": {
             "outlinewidth": 0,
             "ticks": ""
            },
            "colorscale": [
             [
              0,
              "#0d0887"
             ],
             [
              0.1111111111111111,
              "#46039f"
             ],
             [
              0.2222222222222222,
              "#7201a8"
             ],
             [
              0.3333333333333333,
              "#9c179e"
             ],
             [
              0.4444444444444444,
              "#bd3786"
             ],
             [
              0.5555555555555556,
              "#d8576b"
             ],
             [
              0.6666666666666666,
              "#ed7953"
             ],
             [
              0.7777777777777778,
              "#fb9f3a"
             ],
             [
              0.8888888888888888,
              "#fdca26"
             ],
             [
              1,
              "#f0f921"
             ]
            ],
            "type": "histogram2dcontour"
           }
          ],
          "mesh3d": [
           {
            "colorbar": {
             "outlinewidth": 0,
             "ticks": ""
            },
            "type": "mesh3d"
           }
          ],
          "parcoords": [
           {
            "line": {
             "colorbar": {
              "outlinewidth": 0,
              "ticks": ""
             }
            },
            "type": "parcoords"
           }
          ],
          "pie": [
           {
            "automargin": true,
            "type": "pie"
           }
          ],
          "scatter": [
           {
            "fillpattern": {
             "fillmode": "overlay",
             "size": 10,
             "solidity": 0.2
            },
            "type": "scatter"
           }
          ],
          "scatter3d": [
           {
            "line": {
             "colorbar": {
              "outlinewidth": 0,
              "ticks": ""
             }
            },
            "marker": {
             "colorbar": {
              "outlinewidth": 0,
              "ticks": ""
             }
            },
            "type": "scatter3d"
           }
          ],
          "scattercarpet": [
           {
            "marker": {
             "colorbar": {
              "outlinewidth": 0,
              "ticks": ""
             }
            },
            "type": "scattercarpet"
           }
          ],
          "scattergeo": [
           {
            "marker": {
             "colorbar": {
              "outlinewidth": 0,
              "ticks": ""
             }
            },
            "type": "scattergeo"
           }
          ],
          "scattergl": [
           {
            "marker": {
             "colorbar": {
              "outlinewidth": 0,
              "ticks": ""
             }
            },
            "type": "scattergl"
           }
          ],
          "scattermap": [
           {
            "marker": {
             "colorbar": {
              "outlinewidth": 0,
              "ticks": ""
             }
            },
            "type": "scattermap"
           }
          ],
          "scattermapbox": [
           {
            "marker": {
             "colorbar": {
              "outlinewidth": 0,
              "ticks": ""
             }
            },
            "type": "scattermapbox"
           }
          ],
          "scatterpolar": [
           {
            "marker": {
             "colorbar": {
              "outlinewidth": 0,
              "ticks": ""
             }
            },
            "type": "scatterpolar"
           }
          ],
          "scatterpolargl": [
           {
            "marker": {
             "colorbar": {
              "outlinewidth": 0,
              "ticks": ""
             }
            },
            "type": "scatterpolargl"
           }
          ],
          "scatterternary": [
           {
            "marker": {
             "colorbar": {
              "outlinewidth": 0,
              "ticks": ""
             }
            },
            "type": "scatterternary"
           }
          ],
          "surface": [
           {
            "colorbar": {
             "outlinewidth": 0,
             "ticks": ""
            },
            "colorscale": [
             [
              0,
              "#0d0887"
             ],
             [
              0.1111111111111111,
              "#46039f"
             ],
             [
              0.2222222222222222,
              "#7201a8"
             ],
             [
              0.3333333333333333,
              "#9c179e"
             ],
             [
              0.4444444444444444,
              "#bd3786"
             ],
             [
              0.5555555555555556,
              "#d8576b"
             ],
             [
              0.6666666666666666,
              "#ed7953"
             ],
             [
              0.7777777777777778,
              "#fb9f3a"
             ],
             [
              0.8888888888888888,
              "#fdca26"
             ],
             [
              1,
              "#f0f921"
             ]
            ],
            "type": "surface"
           }
          ],
          "table": [
           {
            "cells": {
             "fill": {
              "color": "#EBF0F8"
             },
             "line": {
              "color": "white"
             }
            },
            "header": {
             "fill": {
              "color": "#C8D4E3"
             },
             "line": {
              "color": "white"
             }
            },
            "type": "table"
           }
          ]
         },
         "layout": {
          "annotationdefaults": {
           "arrowcolor": "#2a3f5f",
           "arrowhead": 0,
           "arrowwidth": 1
          },
          "autotypenumbers": "strict",
          "coloraxis": {
           "colorbar": {
            "outlinewidth": 0,
            "ticks": ""
           }
          },
          "colorscale": {
           "diverging": [
            [
             0,
             "#8e0152"
            ],
            [
             0.1,
             "#c51b7d"
            ],
            [
             0.2,
             "#de77ae"
            ],
            [
             0.3,
             "#f1b6da"
            ],
            [
             0.4,
             "#fde0ef"
            ],
            [
             0.5,
             "#f7f7f7"
            ],
            [
             0.6,
             "#e6f5d0"
            ],
            [
             0.7,
             "#b8e186"
            ],
            [
             0.8,
             "#7fbc41"
            ],
            [
             0.9,
             "#4d9221"
            ],
            [
             1,
             "#276419"
            ]
           ],
           "sequential": [
            [
             0,
             "#0d0887"
            ],
            [
             0.1111111111111111,
             "#46039f"
            ],
            [
             0.2222222222222222,
             "#7201a8"
            ],
            [
             0.3333333333333333,
             "#9c179e"
            ],
            [
             0.4444444444444444,
             "#bd3786"
            ],
            [
             0.5555555555555556,
             "#d8576b"
            ],
            [
             0.6666666666666666,
             "#ed7953"
            ],
            [
             0.7777777777777778,
             "#fb9f3a"
            ],
            [
             0.8888888888888888,
             "#fdca26"
            ],
            [
             1,
             "#f0f921"
            ]
           ],
           "sequentialminus": [
            [
             0,
             "#0d0887"
            ],
            [
             0.1111111111111111,
             "#46039f"
            ],
            [
             0.2222222222222222,
             "#7201a8"
            ],
            [
             0.3333333333333333,
             "#9c179e"
            ],
            [
             0.4444444444444444,
             "#bd3786"
            ],
            [
             0.5555555555555556,
             "#d8576b"
            ],
            [
             0.6666666666666666,
             "#ed7953"
            ],
            [
             0.7777777777777778,
             "#fb9f3a"
            ],
            [
             0.8888888888888888,
             "#fdca26"
            ],
            [
             1,
             "#f0f921"
            ]
           ]
          },
          "colorway": [
           "#636efa",
           "#EF553B",
           "#00cc96",
           "#ab63fa",
           "#FFA15A",
           "#19d3f3",
           "#FF6692",
           "#B6E880",
           "#FF97FF",
           "#FECB52"
          ],
          "font": {
           "color": "#2a3f5f"
          },
          "geo": {
           "bgcolor": "white",
           "lakecolor": "white",
           "landcolor": "#E5ECF6",
           "showlakes": true,
           "showland": true,
           "subunitcolor": "white"
          },
          "hoverlabel": {
           "align": "left"
          },
          "hovermode": "closest",
          "mapbox": {
           "style": "light"
          },
          "paper_bgcolor": "white",
          "plot_bgcolor": "#E5ECF6",
          "polar": {
           "angularaxis": {
            "gridcolor": "white",
            "linecolor": "white",
            "ticks": ""
           },
           "bgcolor": "#E5ECF6",
           "radialaxis": {
            "gridcolor": "white",
            "linecolor": "white",
            "ticks": ""
           }
          },
          "scene": {
           "xaxis": {
            "backgroundcolor": "#E5ECF6",
            "gridcolor": "white",
            "gridwidth": 2,
            "linecolor": "white",
            "showbackground": true,
            "ticks": "",
            "zerolinecolor": "white"
           },
           "yaxis": {
            "backgroundcolor": "#E5ECF6",
            "gridcolor": "white",
            "gridwidth": 2,
            "linecolor": "white",
            "showbackground": true,
            "ticks": "",
            "zerolinecolor": "white"
           },
           "zaxis": {
            "backgroundcolor": "#E5ECF6",
            "gridcolor": "white",
            "gridwidth": 2,
            "linecolor": "white",
            "showbackground": true,
            "ticks": "",
            "zerolinecolor": "white"
           }
          },
          "shapedefaults": {
           "line": {
            "color": "#2a3f5f"
           }
          },
          "ternary": {
           "aaxis": {
            "gridcolor": "white",
            "linecolor": "white",
            "ticks": ""
           },
           "baxis": {
            "gridcolor": "white",
            "linecolor": "white",
            "ticks": ""
           },
           "bgcolor": "#E5ECF6",
           "caxis": {
            "gridcolor": "white",
            "linecolor": "white",
            "ticks": ""
           }
          },
          "title": {
           "x": 0.05
          },
          "xaxis": {
           "automargin": true,
           "gridcolor": "white",
           "linecolor": "white",
           "ticks": "",
           "title": {
            "standoff": 15
           },
           "zerolinecolor": "white",
           "zerolinewidth": 2
          },
          "yaxis": {
           "automargin": true,
           "gridcolor": "white",
           "linecolor": "white",
           "ticks": "",
           "title": {
            "standoff": 15
           },
           "zerolinecolor": "white",
           "zerolinewidth": 2
          }
         }
        },
        "title": {
         "text": "batch metrics"
        },
        "xaxis": {
         "anchor": "y",
         "domain": [
          0,
          0.98
         ],
         "title": {
          "text": "step"
         }
        },
        "xaxis2": {
         "anchor": "y2",
         "domain": [
          0,
          0.98
         ],
         "matches": "x",
         "showticklabels": false
        },
        "yaxis": {
         "anchor": "x",
         "domain": [
          0,
          0.485
         ],
         "title": {
          "text": "value"
         }
        },
        "yaxis2": {
         "anchor": "x2",
         "domain": [
          0.515,
          1
         ],
         "title": {
          "text": "value"
         }
        }
       }
      }
     },
     "metadata": {},
     "output_type": "display_data"
    },
    {
     "data": {
      "application/vnd.plotly.v1+json": {
       "config": {
        "plotlyServerURL": "https://plot.ly"
       },
       "data": [
        {
         "hovertemplate": "variable=train_epoch_loss<br>step=%{x}<br>value=%{y}<extra></extra>",
         "legendgroup": "train_epoch_loss",
         "line": {
          "color": "#636efa",
          "dash": "solid"
         },
         "marker": {
          "symbol": "circle"
         },
         "mode": "lines",
         "name": "train_epoch_loss",
         "orientation": "v",
         "showlegend": true,
         "type": "scatter",
         "x": {
          "bdata": "GQAzAE0AZwCBAJsAtQDPAOkAAwEdATcBUQFrAYUBnwG5AdMB7QEHAiECOwJVAm8CiQKjAr0C1wLxAgsDJQM/A1kDcwONA6cDwQPbA/UDDwQpBEMEXQR3BJEEqwTFBN8E+QQTBS0FRwVhBXsFlQWvBckF4wX9BRcG",
          "dtype": "i2"
         },
         "xaxis": "x4",
         "y": {
          "bdata": "Yid2cuMZBkCKndiZHDgFQIqd2MnE6wRA7MROLKGlBEB2YidmaHUEQIqd2Ml0QwRA7MROjFUZBEBiJ3bCPP8DQJ7Yic0f3ANA2YmdKGfiA0DFTuxUqs4DQGIndhL3uANAAAAAYDeqA0CxEzvRNocDQBQ7seN/bwNAxU7sBEaBA0DFTuzUuWkDQHZiJ/aRXANA2YmdKMBWA0DsxE6sKUQDQDuxE9vCNwNAYid2shgkA0Ce2InNI/cCQNmJnYg+8wJA7MROLNHXAkCxEzuxbdICQDuxE7t51QJAdmInVn3AAkDFTuw0MqgCQOzETlwgpAJA2YmduHmUAkAAAACgXZcCQHZiJxYNawJAxU7sVH5VAkDZiZ0ITUECQDuxEwsgLQJAO7ETy3siAkA7sRP7dRICQCd2Yke1BwJAT+zE3tkKAkBP7MT+/O8BQNmJnfgR3wFA7MROTDPQAUBiJ3Zygc0BQLETOwEoygFAsRM7oR3EAUAUO7GDe74BQNmJnah6wAFAAAAAAJHBAUBiJ3bSEMIBQNmJnRhxtgFA7MRO7NmlAUBP7MQO1p8BQIqd2Em2jgFA7MROjA2JAUCKndhJ93oBQCd2YkdIdwFAFDuxk2xnAUBP7MQuAVQBQDuxE4tzSAFA",
          "dtype": "f8"
         },
         "yaxis": "y4"
        },
        {
         "hovertemplate": "variable=train_epoch_accuracy<br>step=%{x}<br>value=%{y}<extra></extra>",
         "legendgroup": "train_epoch_accuracy",
         "line": {
          "color": "#EF553B",
          "dash": "solid"
         },
         "marker": {
          "symbol": "circle"
         },
         "mode": "lines",
         "name": "train_epoch_accuracy",
         "orientation": "v",
         "showlegend": true,
         "type": "scatter",
         "x": {
          "bdata": "GQAzAE0AZwCBAJsAtQDPAOkAAwEdATcBUQFrAYUBnwG5AdMB7QEHAiECOwJVAm8CiQKjAr0C1wLxAgsDJQM/A1kDcwONA6cDwQPbA/UDDwQpBEMEXQR3BJEEqwTFBN8E+QQTBS0FRwVhBXsFlQWvBckF4wX9BRcG",
          "dtype": "i2"
         },
         "xaxis": "x3",
         "y": {
          "bdata": "C7RAC7TAyz+BXBOBXBPVP4vL1orLVtc/0l4p0l6p2T8uilctijfbP2E/I2E/49w/UHftT3ct3j8arNAZrPDePyHuwyDuA+A/JBuUIxvU3z8XxasWxTvgP44PJo4PpuA/InnsIXnM4D+dwQqdwWrhP1YuuFUuyOE/lmiYlWh44T/9dQX9ddXhP1+de1+dC+I/Dj47Dj4b4j9KendKemfiP9R0etR0quI/vd76vN7q4j9BC7RAC7TjP3qmdnmmtuM/MEN+L0Me5D+cNuKbNjLkP/cE5vYENuQ/D5tlDpuF5D9bFK9aFN/kP+I+DOI+7OQ/8Aie7wgu5T/aWnHZWiHlP3HC23DC2+U/7Ar66wo65j+G5d+F5Y/mP7o9gbk90eY/b09gbk8A5z8W9NcV9EfnPyYx5SUxZec/fBnyexli5z9XFgtXFsvnP4B0wH90EOg/liLtlSI96D/FlJfElEfoP1Gl61ClW+g/1OlR0+lh6D9Z/l1Y/n3oP4H/6ID/eOg/JUmSJEly6D9uxDdtxHfoP3A3s283o+g/RDiEQzjk6D/0Y2zzY/zoPxFrCxFrS+k/h80yh81i6T8KEpkJEpnpP5U6mpQ6quk/Ym0hYm3h6T+OPlKNPjLqP3SSgXOSYeo/",
          "dtype": "f8"
         },
         "yaxis": "y3"
        },
        {
         "hovertemplate": "variable=validation_loss<br>step=%{x}<br>value=%{y}<extra></extra>",
         "legendgroup": "validation_loss",
         "line": {
          "color": "#00cc96",
          "dash": "solid"
         },
         "marker": {
          "symbol": "circle"
         },
         "mode": "lines",
         "name": "validation_loss",
         "orientation": "v",
         "showlegend": true,
         "type": "scatter",
         "x": {
          "bdata": "GQAzAE0AZwCBAJsAtQDPAOkAAwEdATcBUQFrAYUBnwG5AdMB7QEHAiECOwJVAm8CiQKjAr0C1wLxAgsDJQM/A1kDcwONA6cDwQPbA/UDDwQpBEMEXQR3BJEEqwTFBN8E+QQTBS0FRwVhBXsFlQWvBckF4wX9BRcG",
          "dtype": "i2"
         },
         "xaxis": "x2",
         "y": {
          "bdata": "SZIkiZyUBUC3bdv23xsFQEmSJMnd4wRASZIkyU26BECSJEnSeqUEQAAAAOC4qwRAAAAA4CBwBEC3bdtWFW0EQEmSJElfeQRA27Ztu96eBEBu27bN7HwEQEmSJCnVfgRAt23btkFrBEBu27bNElQEQLdt2zYCXQRAAAAAwENkBEC3bduWc3UEQLdt25YbZgRAAAAAgHBjBEBu27aNeVoEQNu2bXuBbQRASZIkqRtGBEBu27ZtYEwEQJIkSfLSOwRAt23bljRDBEAAAADgEzcEQG7btk3OXARA27Zt+xlBBEC3bdv2lDQEQEmSJMlbYwRA27Zt+zgpBEAlSZLEySsEQNu2bVsQHARAt23b1vEMBEBJkiTJuvkDQJIkSRIxBgRAJUmSZLgfBEBJkiTJsv0DQLdt25ZaEQRAAAAAoCTvA0BJkiQJy+UDQAAAAECl7gNASZIkCWv1A0Dbtm0b1wQEQNu2bfvpAQRAkiRJcrb7A0Dbtm37nfYDQJIkSTJHBQRAt23bdrv1A0C3bdv24Q8EQG7bto0pEwRAt23bNnwHBEBu27aN5uUDQNu2bZtPFQRA27ZtW7PvA0AlSZKEqfcDQG7bts3b3gNAbtu27WPjA0Bu27YN0O0DQEmSJGlR5ANA",
          "dtype": "f8"
         },
         "yaxis": "y2"
        },
        {
         "hovertemplate": "variable=validation_accuracy<br>step=%{x}<br>value=%{y}<extra></extra>",
         "legendgroup": "validation_accuracy",
         "line": {
          "color": "#ab63fa",
          "dash": "solid"
         },
         "marker": {
          "symbol": "circle"
         },
         "mode": "lines",
         "name": "validation_accuracy",
         "orientation": "v",
         "showlegend": true,
         "type": "scatter",
         "x": {
          "bdata": "GQAzAE0AZwCBAJsAtQDPAOkAAwEdATcBUQFrAYUBnwG5AdMB7QEHAiECOwJVAm8CiQKjAr0C1wLxAgsDJQM/A1kDcwONA6cDwQPbA/UDDwQpBEMEXQR3BJEEqwTFBN8E+QQTBS0FRwVhBXsFlQWvBckF4wX9BRcG",
          "dtype": "i2"
         },
         "xaxis": "x",
         "y": {
          "bdata": "z/M8z/M80z89z/M8z7PVP6qqqqqqqtc/qqqqqqpq2T/DMAzDMMzZP1ZVVVVVFdk/qqqqqqoq2z/btm3btq3bP27btm3b9to/YRiGYRgG2j9JkiRJkqTaPz3P8zzPM9s/n+d5nud52z/btm3btm3cP27btm3btts/n+d5nud52z8xDMMwDAPbP0mSJEmSZNs/8zzP8zzP2z/DMAzDMAzcP27btm3bNts/hmEYhmHY3D/oeZ7neZ7cP27btm3b9tw/27Zt27at3D9JkiRJkuTcPzEMwzAMg9s/VlVVVVXV3D/oeZ7neR7dPwAAAAAAgNs/n+d5nuc53T9hGIZhGMbdP3qe53meJ94/Pc/zPM8z3j/zPM/zPA/fPz3P8zzPs94/JUmSJEmS3T8AAAAAAEDfPw3DMAzDMN4/VlVVVVVV3z8NwzAMw/DfP0mSJEmSZN8/n+d5nuc53z+f53me53neP2EYhmEYht4/GIZhGIah3j9u27Zt2/beP5/neZ7nud4/hmEYhmEY3z89z/M8zzPeP9u2bdu2Ld4/qqqqqqqq3j+f53me5znfP9u2bdu2rd0/kiRJkiQJ3z+qqqqqqureP9u2bdu2bd8/hmEYhmGY3z+SJEmSJAnfP8/zPM/zfN8/",
          "dtype": "f8"
         },
         "yaxis": "y"
        }
       ],
       "layout": {
        "annotations": [
         {
          "font": {},
          "showarrow": false,
          "text": "variable=validation_accuracy",
          "textangle": 90,
          "x": 0.98,
          "xanchor": "left",
          "xref": "paper",
          "y": 0.11375,
          "yanchor": "middle",
          "yref": "paper"
         },
         {
          "font": {},
          "showarrow": false,
          "text": "variable=validation_loss",
          "textangle": 90,
          "x": 0.98,
          "xanchor": "left",
          "xref": "paper",
          "y": 0.37124999999999997,
          "yanchor": "middle",
          "yref": "paper"
         },
         {
          "font": {},
          "showarrow": false,
          "text": "variable=train_epoch_accuracy",
          "textangle": 90,
          "x": 0.98,
          "xanchor": "left",
          "xref": "paper",
          "y": 0.62875,
          "yanchor": "middle",
          "yref": "paper"
         },
         {
          "font": {},
          "showarrow": false,
          "text": "variable=train_epoch_loss",
          "textangle": 90,
          "x": 0.98,
          "xanchor": "left",
          "xref": "paper",
          "y": 0.88625,
          "yanchor": "middle",
          "yref": "paper"
         }
        ],
        "legend": {
         "title": {
          "text": "variable"
         },
         "tracegroupgap": 0
        },
        "template": {
         "data": {
          "bar": [
           {
            "error_x": {
             "color": "#2a3f5f"
            },
            "error_y": {
             "color": "#2a3f5f"
            },
            "marker": {
             "line": {
              "color": "#E5ECF6",
              "width": 0.5
             },
             "pattern": {
              "fillmode": "overlay",
              "size": 10,
              "solidity": 0.2
             }
            },
            "type": "bar"
           }
          ],
          "barpolar": [
           {
            "marker": {
             "line": {
              "color": "#E5ECF6",
              "width": 0.5
             },
             "pattern": {
              "fillmode": "overlay",
              "size": 10,
              "solidity": 0.2
             }
            },
            "type": "barpolar"
           }
          ],
          "carpet": [
           {
            "aaxis": {
             "endlinecolor": "#2a3f5f",
             "gridcolor": "white",
             "linecolor": "white",
             "minorgridcolor": "white",
             "startlinecolor": "#2a3f5f"
            },
            "baxis": {
             "endlinecolor": "#2a3f5f",
             "gridcolor": "white",
             "linecolor": "white",
             "minorgridcolor": "white",
             "startlinecolor": "#2a3f5f"
            },
            "type": "carpet"
           }
          ],
          "choropleth": [
           {
            "colorbar": {
             "outlinewidth": 0,
             "ticks": ""
            },
            "type": "choropleth"
           }
          ],
          "contour": [
           {
            "colorbar": {
             "outlinewidth": 0,
             "ticks": ""
            },
            "colorscale": [
             [
              0,
              "#0d0887"
             ],
             [
              0.1111111111111111,
              "#46039f"
             ],
             [
              0.2222222222222222,
              "#7201a8"
             ],
             [
              0.3333333333333333,
              "#9c179e"
             ],
             [
              0.4444444444444444,
              "#bd3786"
             ],
             [
              0.5555555555555556,
              "#d8576b"
             ],
             [
              0.6666666666666666,
              "#ed7953"
             ],
             [
              0.7777777777777778,
              "#fb9f3a"
             ],
             [
              0.8888888888888888,
              "#fdca26"
             ],
             [
              1,
              "#f0f921"
             ]
            ],
            "type": "contour"
           }
          ],
          "contourcarpet": [
           {
            "colorbar": {
             "outlinewidth": 0,
             "ticks": ""
            },
            "type": "contourcarpet"
           }
          ],
          "heatmap": [
           {
            "colorbar": {
             "outlinewidth": 0,
             "ticks": ""
            },
            "colorscale": [
             [
              0,
              "#0d0887"
             ],
             [
              0.1111111111111111,
              "#46039f"
             ],
             [
              0.2222222222222222,
              "#7201a8"
             ],
             [
              0.3333333333333333,
              "#9c179e"
             ],
             [
              0.4444444444444444,
              "#bd3786"
             ],
             [
              0.5555555555555556,
              "#d8576b"
             ],
             [
              0.6666666666666666,
              "#ed7953"
             ],
             [
              0.7777777777777778,
              "#fb9f3a"
             ],
             [
              0.8888888888888888,
              "#fdca26"
             ],
             [
              1,
              "#f0f921"
             ]
            ],
            "type": "heatmap"
           }
          ],
          "histogram": [
           {
            "marker": {
             "pattern": {
              "fillmode": "overlay",
              "size": 10,
              "solidity": 0.2
             }
            },
            "type": "histogram"
           }
          ],
          "histogram2d": [
           {
            "colorbar": {
             "outlinewidth": 0,
             "ticks": ""
            },
            "colorscale": [
             [
              0,
              "#0d0887"
             ],
             [
              0.1111111111111111,
              "#46039f"
             ],
             [
              0.2222222222222222,
              "#7201a8"
             ],
             [
              0.3333333333333333,
              "#9c179e"
             ],
             [
              0.4444444444444444,
              "#bd3786"
             ],
             [
              0.5555555555555556,
              "#d8576b"
             ],
             [
              0.6666666666666666,
              "#ed7953"
             ],
             [
              0.7777777777777778,
              "#fb9f3a"
             ],
             [
              0.8888888888888888,
              "#fdca26"
             ],
             [
              1,
              "#f0f921"
             ]
            ],
            "type": "histogram2d"
           }
          ],
          "histogram2dcontour": [
           {
            "colorbar": {
             "outlinewidth": 0,
             "ticks": ""
            },
            "colorscale": [
             [
              0,
              "#0d0887"
             ],
             [
              0.1111111111111111,
              "#46039f"
             ],
             [
              0.2222222222222222,
              "#7201a8"
             ],
             [
              0.3333333333333333,
              "#9c179e"
             ],
             [
              0.4444444444444444,
              "#bd3786"
             ],
             [
              0.5555555555555556,
              "#d8576b"
             ],
             [
              0.6666666666666666,
              "#ed7953"
             ],
             [
              0.7777777777777778,
              "#fb9f3a"
             ],
             [
              0.8888888888888888,
              "#fdca26"
             ],
             [
              1,
              "#f0f921"
             ]
            ],
            "type": "histogram2dcontour"
           }
          ],
          "mesh3d": [
           {
            "colorbar": {
             "outlinewidth": 0,
             "ticks": ""
            },
            "type": "mesh3d"
           }
          ],
          "parcoords": [
           {
            "line": {
             "colorbar": {
              "outlinewidth": 0,
              "ticks": ""
             }
            },
            "type": "parcoords"
           }
          ],
          "pie": [
           {
            "automargin": true,
            "type": "pie"
           }
          ],
          "scatter": [
           {
            "fillpattern": {
             "fillmode": "overlay",
             "size": 10,
             "solidity": 0.2
            },
            "type": "scatter"
           }
          ],
          "scatter3d": [
           {
            "line": {
             "colorbar": {
              "outlinewidth": 0,
              "ticks": ""
             }
            },
            "marker": {
             "colorbar": {
              "outlinewidth": 0,
              "ticks": ""
             }
            },
            "type": "scatter3d"
           }
          ],
          "scattercarpet": [
           {
            "marker": {
             "colorbar": {
              "outlinewidth": 0,
              "ticks": ""
             }
            },
            "type": "scattercarpet"
           }
          ],
          "scattergeo": [
           {
            "marker": {
             "colorbar": {
              "outlinewidth": 0,
              "ticks": ""
             }
            },
            "type": "scattergeo"
           }
          ],
          "scattergl": [
           {
            "marker": {
             "colorbar": {
              "outlinewidth": 0,
              "ticks": ""
             }
            },
            "type": "scattergl"
           }
          ],
          "scattermap": [
           {
            "marker": {
             "colorbar": {
              "outlinewidth": 0,
              "ticks": ""
             }
            },
            "type": "scattermap"
           }
          ],
          "scattermapbox": [
           {
            "marker": {
             "colorbar": {
              "outlinewidth": 0,
              "ticks": ""
             }
            },
            "type": "scattermapbox"
           }
          ],
          "scatterpolar": [
           {
            "marker": {
             "colorbar": {
              "outlinewidth": 0,
              "ticks": ""
             }
            },
            "type": "scatterpolar"
           }
          ],
          "scatterpolargl": [
           {
            "marker": {
             "colorbar": {
              "outlinewidth": 0,
              "ticks": ""
             }
            },
            "type": "scatterpolargl"
           }
          ],
          "scatterternary": [
           {
            "marker": {
             "colorbar": {
              "outlinewidth": 0,
              "ticks": ""
             }
            },
            "type": "scatterternary"
           }
          ],
          "surface": [
           {
            "colorbar": {
             "outlinewidth": 0,
             "ticks": ""
            },
            "colorscale": [
             [
              0,
              "#0d0887"
             ],
             [
              0.1111111111111111,
              "#46039f"
             ],
             [
              0.2222222222222222,
              "#7201a8"
             ],
             [
              0.3333333333333333,
              "#9c179e"
             ],
             [
              0.4444444444444444,
              "#bd3786"
             ],
             [
              0.5555555555555556,
              "#d8576b"
             ],
             [
              0.6666666666666666,
              "#ed7953"
             ],
             [
              0.7777777777777778,
              "#fb9f3a"
             ],
             [
              0.8888888888888888,
              "#fdca26"
             ],
             [
              1,
              "#f0f921"
             ]
            ],
            "type": "surface"
           }
          ],
          "table": [
           {
            "cells": {
             "fill": {
              "color": "#EBF0F8"
             },
             "line": {
              "color": "white"
             }
            },
            "header": {
             "fill": {
              "color": "#C8D4E3"
             },
             "line": {
              "color": "white"
             }
            },
            "type": "table"
           }
          ]
         },
         "layout": {
          "annotationdefaults": {
           "arrowcolor": "#2a3f5f",
           "arrowhead": 0,
           "arrowwidth": 1
          },
          "autotypenumbers": "strict",
          "coloraxis": {
           "colorbar": {
            "outlinewidth": 0,
            "ticks": ""
           }
          },
          "colorscale": {
           "diverging": [
            [
             0,
             "#8e0152"
            ],
            [
             0.1,
             "#c51b7d"
            ],
            [
             0.2,
             "#de77ae"
            ],
            [
             0.3,
             "#f1b6da"
            ],
            [
             0.4,
             "#fde0ef"
            ],
            [
             0.5,
             "#f7f7f7"
            ],
            [
             0.6,
             "#e6f5d0"
            ],
            [
             0.7,
             "#b8e186"
            ],
            [
             0.8,
             "#7fbc41"
            ],
            [
             0.9,
             "#4d9221"
            ],
            [
             1,
             "#276419"
            ]
           ],
           "sequential": [
            [
             0,
             "#0d0887"
            ],
            [
             0.1111111111111111,
             "#46039f"
            ],
            [
             0.2222222222222222,
             "#7201a8"
            ],
            [
             0.3333333333333333,
             "#9c179e"
            ],
            [
             0.4444444444444444,
             "#bd3786"
            ],
            [
             0.5555555555555556,
             "#d8576b"
            ],
            [
             0.6666666666666666,
             "#ed7953"
            ],
            [
             0.7777777777777778,
             "#fb9f3a"
            ],
            [
             0.8888888888888888,
             "#fdca26"
            ],
            [
             1,
             "#f0f921"
            ]
           ],
           "sequentialminus": [
            [
             0,
             "#0d0887"
            ],
            [
             0.1111111111111111,
             "#46039f"
            ],
            [
             0.2222222222222222,
             "#7201a8"
            ],
            [
             0.3333333333333333,
             "#9c179e"
            ],
            [
             0.4444444444444444,
             "#bd3786"
            ],
            [
             0.5555555555555556,
             "#d8576b"
            ],
            [
             0.6666666666666666,
             "#ed7953"
            ],
            [
             0.7777777777777778,
             "#fb9f3a"
            ],
            [
             0.8888888888888888,
             "#fdca26"
            ],
            [
             1,
             "#f0f921"
            ]
           ]
          },
          "colorway": [
           "#636efa",
           "#EF553B",
           "#00cc96",
           "#ab63fa",
           "#FFA15A",
           "#19d3f3",
           "#FF6692",
           "#B6E880",
           "#FF97FF",
           "#FECB52"
          ],
          "font": {
           "color": "#2a3f5f"
          },
          "geo": {
           "bgcolor": "white",
           "lakecolor": "white",
           "landcolor": "#E5ECF6",
           "showlakes": true,
           "showland": true,
           "subunitcolor": "white"
          },
          "hoverlabel": {
           "align": "left"
          },
          "hovermode": "closest",
          "mapbox": {
           "style": "light"
          },
          "paper_bgcolor": "white",
          "plot_bgcolor": "#E5ECF6",
          "polar": {
           "angularaxis": {
            "gridcolor": "white",
            "linecolor": "white",
            "ticks": ""
           },
           "bgcolor": "#E5ECF6",
           "radialaxis": {
            "gridcolor": "white",
            "linecolor": "white",
            "ticks": ""
           }
          },
          "scene": {
           "xaxis": {
            "backgroundcolor": "#E5ECF6",
            "gridcolor": "white",
            "gridwidth": 2,
            "linecolor": "white",
            "showbackground": true,
            "ticks": "",
            "zerolinecolor": "white"
           },
           "yaxis": {
            "backgroundcolor": "#E5ECF6",
            "gridcolor": "white",
            "gridwidth": 2,
            "linecolor": "white",
            "showbackground": true,
            "ticks": "",
            "zerolinecolor": "white"
           },
           "zaxis": {
            "backgroundcolor": "#E5ECF6",
            "gridcolor": "white",
            "gridwidth": 2,
            "linecolor": "white",
            "showbackground": true,
            "ticks": "",
            "zerolinecolor": "white"
           }
          },
          "shapedefaults": {
           "line": {
            "color": "#2a3f5f"
           }
          },
          "ternary": {
           "aaxis": {
            "gridcolor": "white",
            "linecolor": "white",
            "ticks": ""
           },
           "baxis": {
            "gridcolor": "white",
            "linecolor": "white",
            "ticks": ""
           },
           "bgcolor": "#E5ECF6",
           "caxis": {
            "gridcolor": "white",
            "linecolor": "white",
            "ticks": ""
           }
          },
          "title": {
           "x": 0.05
          },
          "xaxis": {
           "automargin": true,
           "gridcolor": "white",
           "linecolor": "white",
           "ticks": "",
           "title": {
            "standoff": 15
           },
           "zerolinecolor": "white",
           "zerolinewidth": 2
          },
          "yaxis": {
           "automargin": true,
           "gridcolor": "white",
           "linecolor": "white",
           "ticks": "",
           "title": {
            "standoff": 15
           },
           "zerolinecolor": "white",
           "zerolinewidth": 2
          }
         }
        },
        "title": {
         "text": "epoch metrics"
        },
        "xaxis": {
         "anchor": "y",
         "domain": [
          0,
          0.98
         ],
         "title": {
          "text": "step"
         }
        },
        "xaxis2": {
         "anchor": "y2",
         "domain": [
          0,
          0.98
         ],
         "matches": "x",
         "showticklabels": false
        },
        "xaxis3": {
         "anchor": "y3",
         "domain": [
          0,
          0.98
         ],
         "matches": "x",
         "showticklabels": false
        },
        "xaxis4": {
         "anchor": "y4",
         "domain": [
          0,
          0.98
         ],
         "matches": "x",
         "showticklabels": false
        },
        "yaxis": {
         "anchor": "x",
         "domain": [
          0,
          0.2275
         ],
         "title": {
          "text": "value"
         }
        },
        "yaxis2": {
         "anchor": "x2",
         "domain": [
          0.2575,
          0.485
         ],
         "title": {
          "text": "value"
         }
        },
        "yaxis3": {
         "anchor": "x3",
         "domain": [
          0.515,
          0.7425
         ],
         "title": {
          "text": "value"
         }
        },
        "yaxis4": {
         "anchor": "x4",
         "domain": [
          0.7725,
          1
         ],
         "title": {
          "text": "value"
         }
        }
       }
      }
     },
     "metadata": {},
     "output_type": "display_data"
    },
    {
     "name": "stdout",
     "output_type": "stream",
     "text": [
      "=========================\n",
      "training: 2\n"
     ]
    },
    {
     "data": {
      "application/vnd.jupyter.widget-view+json": {
       "model_id": "f3df372f7b424afa9631785f5a76f487",
       "version_major": 2,
       "version_minor": 0
      },
      "text/plain": [
       "Output()"
      ]
     },
     "metadata": {},
     "output_type": "display_data"
    },
    {
     "data": {
      "text/html": [
       "<pre style=\"white-space:pre;overflow-x:auto;line-height:normal;font-family:Menlo,'DejaVu Sans Mono',consolas,'Courier New',monospace\"></pre>\n"
      ],
      "text/plain": []
     },
     "metadata": {},
     "output_type": "display_data"
    },
    {
     "data": {
      "application/vnd.plotly.v1+json": {
       "config": {
        "plotlyServerURL": "https://plot.ly"
       },
       "data": [
        {
         "hovertemplate": "variable=batch_train_loss<br>step=%{x}<br>value=%{y}<extra></extra>",
         "legendgroup": "",
         "marker": {
          "color": "#636efa",
          "symbol": "circle"
         },
         "mode": "markers",
         "name": "",
         "showlegend": false,
         "type": "scattergl",
         "x": {
          "bdata": "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",
          "dtype": "i2"
         },
         "xaxis": "x2",
         "y": {
          "bdata": "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",
          "dtype": "f8"
         },
         "yaxis": "y2"
        },
        {
         "hovertemplate": "<b>Exponentially Weighted mean trendline</b><br><br>variable=batch_train_loss<br>step=%{x}<br>value=%{y} <b>(trend)</b><extra></extra>",
         "legendgroup": "",
         "line": {
          "color": "red"
         },
         "marker": {
          "color": "#636efa",
          "symbol": "circle"
         },
         "mode": "lines",
         "name": "",
         "showlegend": false,
         "type": "scattergl",
         "x": {
          "bdata": "AAABAAIAAwAEAAUABgAHAAgACQAKAAsADAANAA4ADwAQABEAEgATABQAFQAWABcAGAAZABoAGwAcAB0AHgAfACAAIQAiACMAJAAlACYAJwAoACkAKgArACwALQAuAC8AMAAxADIAMwA0ADUANgA3ADgAOQA6ADsAPAA9AD4APwBAAEEAQgBDAEQARQBGAEcASABJAEoASwBMAE0ATgBPAFAAUQBSAFMAVABVAFYAVwBYAFkAWgBbAFwAXQBeAF8AYABhAGIAYwBkAGUAZgBnAGgAaQBqAGsAbABtAG4AbwBwAHEAcgBzAHQAdQB2AHcAeAB5AHoAewB8AH0AfgB/AIAAgQCCAIMAhACFAIYAhwCIAIkAigCLAIwAjQCOAI8AkACRAJIAkwCUAJUAlgCXAJgAmQCaAJsAnACdAJ4AnwCgAKEAogCjAKQApQCmAKcAqACpAKoAqwCsAK0ArgCvALAAsQCyALMAtAC1ALYAtwC4ALkAugC7ALwAvQC+AL8AwADBAMIAwwDEAMUAxgDHAMgAyQDKAMsAzADNAM4AzwDQANEA0gDTANQA1QDWANcA2ADZANoA2wDcAN0A3gDfAOAA4QDiAOMA5ADlAOYA5wDoAOkA6gDrAOwA7QDuAO8A8ADxAPIA8wD0APUA9gD3APgA+QD6APsA/AD9AP4A/wAAAQEBAgEDAQQBBQEGAQcBCAEJAQoBCwEMAQ0BDgEPARABEQESARMBFAEVARYBFwEYARkBGgEbARwBHQEeAR8BIAEhASIBIwEkASUBJgEnASgBKQEqASsBLAEtAS4BLwEwATEBMgEzATQBNQE2ATcBOAE5AToBOwE8AT0BPgE/AUABQQFCAUMBRAFFAUYBRwFIAUkBSgFLAUwBTQFOAU8BUAFRAVIBUwFUAVUBVgFXAVgBWQFaAVsBXAFdAV4BXwFgAWEBYgFjAWQBZQFmAWcBaAFpAWoBawFsAW0BbgFvAXABcQFyAXMBdAF1AXYBdwF4AXkBegF7AXwBfQF+AX8BgAGBAYIBgwGEAYUBhgGHAYgBiQGKAYsBjAGNAY4BjwGQAZEBkgGTAZQBlQGWAZcBmAGZAZoBmwGcAZ0BngGfAaABoQGiAaMBpAGlAaYBpwGoAakBqgGrAawBrQGuAa8BsAGxAbIBswG0AbUBtgG3AbgBuQG6AbsBvAG9Ab4BvwHAAcEBwgHDAcQBxQHGAccByAHJAcoBywHMAc0BzgHPAdAB0QHSAdMB1AHVAdYB1wHYAdkB2gHbAdwB3QHeAd8B4AHhAeIB4wHkAeUB5gHnAegB6QHqAesB7AHtAe4B7wHwAfEB8gHzAfQB9QH2AfcB+AH5AfoB+wH8Af0B/gH/AQACAQICAgMCBAIFAgYCBwIIAgkCCgILAgwCDQIOAg8CEAIRAhICEwIUAhUCFgIXAhgCGQIaAhsCHAIdAh4CHwIgAiECIgIjAiQCJQImAicCKAIpAioCKwIsAi0CLgIvAjACMQIyAjMCNAI1AjYCNwI4AjkCOgI7AjwCPQI+Aj8CQAJBAkICQwJEAkUCRgJHAkgCSQJKAksCTAJNAk4CTwJQAlECUgJTAlQCVQJWAlcCWAJZAloCWwJcAl0CXgJfAmACYQJiAmMCZAJlAmYCZwJoAmkCagJrAmwCbQJuAm8CcAJxAnICcwJ0AnUCdgJ3AngCeQJ6AnsCfAJ9An4CfwKAAoECggKDAoQChQKGAocCiAKJAooCiwKMAo0CjgKPApACkQKSApMClAKVApYClwKYApkCmgKbApwCnQKeAp8CoAKhAqICowKkAqUCpgKnAqgCqQKqAqsCrAKtAq4CrwKwArECsgKzArQCtQK2ArcCuAK5AroCuwK8Ar0CvgK/AsACwQLCAsMCxALFAsYCxwLIAskCygLLAswCzQLOAs8C0ALRAtIC0wLUAtUC1gLXAtgC2QLaAtsC3ALdAt4C3wLgAuEC4gLjAuQC5QLmAucC6ALpAuoC6wLsAu0C7gLvAvAC8QLyAvMC9AL1AvYC9wL4AvkC+gL7AvwC/QL+Av8CAAMBAwIDAwMEAwUDBgMHAwgDCQMKAwsDDAMNAw4DDwMQAxEDEgMTAxQDFQMWAxcDGAMZAxoDGwMcAx0DHgMfAyADIQMiAyMDJAMlAyYDJwMoAykDKgMrAywDLQMuAy8DMAMxAzIDMwM0AzUDNgM3AzgDOQM6AzsDPAM9Az4DPwNAA0EDQgNDA0QDRQNGA0cDSANJA0oDSwNMA00DTgNPA1ADUQNSA1MDVANVA1YDVwNYA1kDWgNbA1wDXQNeA18DYANhA2IDYwNkA2UDZgNnA2gDaQNqA2sDbANtA24DbwNwA3EDcgNzA3QDdQN2A3cDeAN5A3oDewN8A30DfgN/A4ADgQOCA4MDhAOFA4YDhwOIA4kDigOLA4wDjQOOA48DkAORA5IDkwOUA5UDlgOXA5gDmQOaA5sDnAOdA54DnwOgA6EDogOjA6QDpQOmA6cDqAOpA6oDqwOsA60DrgOvA7ADsQOyA7MDtAO1A7YDtwO4A7kDugO7A7wDvQO+A78DwAPBA8IDwwPEA8UDxgPHA8gDyQPKA8sDzAPNA84DzwPQA9ED0gPTA9QD1QPWA9cD2APZA9oD2wPcA90D3gPfA+AD4QPiA+MD5APlA+YD5wPoA+kD6gPrA+wD7QPuA+8D8APxA/ID8wP0A/UD9gP3A/gD+QP6A/sD/AP9A/4D/wMABAEEAgQDBAQEBQQGBAcECAQJBAoECwQMBA0EDgQPBBAEEQQSBBMEFAQVBBYEFwQYBBkEGgQbBBwEHQQeBB8EIAQhBCIEIwQkBCUEJgQnBCgEKQQqBCsELAQtBC4ELwQwBDEEMgQzBDQENQQ2BDcEOAQ5BDoEOwQ8BD0EPgQ/BEAEQQRCBEMERARFBEYERwRIBEkESgRLBEwETQROBE8EUARRBFIEUwRUBFUEVgRXBFgEWQRaBFsEXARdBF4EXwRgBGEEYgRjBGQEZQRmBGcEaARpBGoEawRsBG0EbgRvBHAEcQRyBHMEdAR1BHYEdwR4BHkEegR7BHwEfQR+BH8EgASBBIIEgwSEBIUEhgSHBIgEiQSKBIsEjASNBI4EjwSQBJEEkgSTBJQElQSWBJcEmASZBJoEmwScBJ0EngSfBKAEoQSiBKMEpASlBKYEpwSoBKkEqgSrBKwErQSuBK8EsASxBLIEswS0BLUEtgS3BLgEuQS6BLsEvAS9BL4EvwTABMEEwgTDBMQExQTGBMcEyATJBMoEywTMBM0EzgTPBNAE0QTSBNME1ATVBNYE1wTYBNkE2gTbBNwE3QTeBN8E4AThBOIE4wTkBOUE5gTnBOgE6QTqBOsE7ATtBO4E7wTwBPEE8gTzBPQE9QT2BPcE+AT5BPoE+wT8BP0E/gT/BAAFAQUCBQMFBAUFBQYFBwUIBQkFCgULBQwFDQUOBQ8FEAURBRIFEwUUBRUFFgUXBRgFGQUaBRsFHAUdBR4FHwUgBSEFIgUjBSQFJQUmBScFKAUpBSoFKwUsBS0FLgUvBTAFMQUyBTMFNAU1BTYFNwU4BTkFOgU7BTwFPQU+BT8FQAVBBUIFQwVEBUUFRgVHBUgFSQVKBUsFTAVNBU4FTwVQBVEFUgVTBVQFVQVWBVcFWAVZBVoFWwVcBV0FXgVfBWAFYQViBWMFZAVlBWYFZwVoBWkFagVrBWwFbQVuBW8FcAVxBXIFcwV0BXUFdgV3BXgFeQV6BXsFfAV9BX4FfwWABYEFggWDBYQFhQWGBYcFiAWJBYoFiwWMBY0FjgWPBZAFkQWSBZMFlAWVBZYFlwWYBZkFmgWbBZwFnQWeBZ8FoAWhBaIFowWkBaUFpgWnBagFqQWqBasFrAWtBa4FrwWwBbEFsgWzBbQFtQW2BbcFuAW5BboFuwW8Bb0FvgW/BcAFwQXCBcMFxAXFBcYFxwXIBckFygXLBcwFzQXOBc8F0AXRBdIF0wXUBdUF1gXXBdgF2QXaBdsF3AXdBd4F3wXgBeEF4gXjBeQF5QXmBecF6AXpBeoF6wXsBe0F7gXvBfAF8QXyBfMF9AX1BfYF9wX4BfkF+gX7BfwF/QX+Bf8FAAYBBgIGAwYEBgUGBgYHBggGCQYKBgsGDAYNBg4GDwYQBhEGEgYTBhQGFQYWBhcG",
          "dtype": "i2"
         },
         "xaxis": "x2",
         "y": {
          "bdata": "AAAAAG8VB0BUXDIkcQEHQMGwn9Up5wZAlW0w7crRBkArIhA937sGQIt8o0MqrgZAEEzbYUqUBkC86C++H3sGQEe/hf+oZQZAMm3beaBXBkCUAxst200GQJGiOrZbMwZAlN+qSaYpBkDk8JdW2SIGQN6/+rjPGQZAJbwMBaQJBkDGbtcRXgEGQO3+/i3w9QVAjyrKS8vpBUA/Nn3G2uYFQPCmVFMN3AVAllYPIL7VBUAAIiQuidIFQBD4Sbf9zgVAqQcgJ9/PBUCT2hJLYMsFQFQLUA3twgVA0fGiRbG+BUDjpd9Y67gFQEzGPHw4qwVABvwi9falBUCrylG9KKAFQJ8PlPUlmwVAyWa+Mc2UBUCSAdfJ44sFQOiI9CIthAVA7wBvPYuABUAHEQ+7qn0FQJ7DUe6KfAVAiS2QBPx5BUB2OLiHeXsFQO34++V2dwVAkKmn1hZ0BUA1Ag7MDnkFQMLqTEPDdwVAS10VdQlzBUAwmNBNmnEFQMUhjXXkcgVAwXyB1jlxBUCRcd3LTmwFQENHv9VtbQVAHoPIC81oBUBkvwDXymMFQPcIFEszXwVALx81MQteBUBcxcU641oFQFkmR3xjWAVAyRX2N2lUBUAYFmUJOlIFQAGBxV8ITwVAK5JRi19PBUD4KNUfd0wFQJ1xLJAiSgVAJKY31BBGBUDXM9GIvkMFQMjSnC2MQAVA8oZKJWlABUCw8HRkhjsFQH+9NepwNQVAiSzZRzA0BUDiqpawijAFQDqGX6qrMAVAi4YmQmQqBUC4lnFbqigFQOaOoU6YLQVAB/E7KDQoBUD9N0V8EicFQBg0nM+CJwVA0bH/4tIjBUA6EcUzVx8FQDea+uaCGgVAiJ3fj30dBUDC3GFyLRoFQCivImP1FAVAPQuZ2E4UBUBYNWMK2xMFQAdpxas4EAVAaHih2mYOBUBAaBFjNw8FQLu59EFxDgVAEAayqfsGBUBf9CBAjgcFQGmGgE9lBwVAufGbP2gGBUDyNV6G6wMFQIxsc41yAgVATtnq1BAABUA8oYJVr/oEQKtFZ/M89wRAqEV0BoDzBEDNI4ao3fIEQMGtMXTP8ARAn5rOIMfxBEC36Xb/5PEEQAqVsfYG7QRAMzzYEdzpBEDpBKNVyuoEQESSAxfo5wRABVogYq3mBEBpQLsmNegEQP3aDVbJ5ARABZQjqIvmBEAMVr7oSegEQCFYb5Es5gRAWlfO96PlBEDxSQM4ruAEQLqrVDSV4ARAhlTNjhPYBED4Q77kT9cEQEBXTQeq1QRA0bDJfcPSBEDJobBXmdMEQIhDDDGb0QRAEczwjV7QBEC8FwoHgNAEQF/C+VtTywRAH6eANzzJBECGFYiWSsgEQO3rd/JTxgRA6AJq9UbKBEAlxVO+3sUEQE0gVgsswwRAp/5u+ifFBEDLslSfZcQEQHME7e9iwwRAvC1LgNDBBECY3T1vO78EQEYFz6PguwRA8Y4sIWO4BEAflNmYgrcEQFhZBN7BtARADYD6b3u1BECKpfAr47UEQHeoFF+dtARA+mUZvvSyBEB/wfMKp7IEQFBbpbL+rARA9dTY0RKrBEBivckNBaoEQP4MVqoepwRAHiXYJNykBECXgU11GKMEQFgSq0lToQRAy2VtjsSeBEAE56tfXZ8EQFELthVEnwRAM0u+gJKaBEBBcfL9V5cEQBckP+kRlARAn26u9bqQBEC1nG/a+ooEQORe+7BTiwRAIqWqOsOIBEA+rhghOYkEQImpBydlhARA07gngRSBBEC0ikWJC4AEQPEXIsWdfQRA4EyeMDN+BEB4F+m24HsEQCiad/+IegRAwt8mLCh7BECpNY8+HnoEQILzsP4cfgRA4IxmdcZ7BEDgfG2PfHsEQN9AXNX7eQRATODGN8p8BEAusJiteHwEQB4bXfobfwRAbPSaqDB+BECcKx1lkX0EQF6kwrGdeQRAUbyLRJd3BEDjSt6odnQEQM7CwrxSdQRAPPWxaBR0BED9RUiY23MEQOzzySt+cgRAEBRn1LBxBED1wkBYrW4EQKClbCPabwRA2Qq3vxZvBED55vs5am0EQHlrdtshbwRAtXUxqUJvBEDhm6VQIGwEQAsHdmMJbgRAu6jjantsBEBzRQukY20EQKznKpMBbgRA8xSMD51oBEC0XiPngWgEQG37DjWEZwRACkWdLX1mBEDScJouk2QEQPBStYPwYgRAGt5wUFNiBEDzZvAvHmEEQFe2VliqYARAtW8y0pZdBEDjPYpqvFwEQIHRDJWxXARAhEkl8wBbBECw/OXiq1wEQOjyL1DbWQRA58OYUlpXBECrcsWTFFMEQDKsre+7UARA9cLHqn9RBEADiRM6dVEEQKOUWA9DUQRAC+/k+WlPBEDqYyRhp04EQCE0f5i6TwRAbbjvwtVRBEDgihWyqVIEQJdVNUGsVgRAhgFioA1XBEDyM0WmXFYEQANEnz6CVgRAlAdWjMlVBED3a7lMa1UEQKnIMNvwVQRAL9cLUoVVBECDtZfj4FYEQBmAbhJGUwRAl8lPRMhLBEC74Kd3TEsEQF+a6QUOSQRAFQvreVpGBEBW2nrU7EQEQEtd/56NQwRAKy8fxm5BBEDvyiI5OEEEQJQxE8t4PwRAJRJTBNk6BECJRYz6mDkEQKAdERpJOQRAG8RmW5M3BEB8OI80ojQEQETq2zXfNARAuGuQcQU0BEDP8jiHSzUEQFCKHZQyNARADXCVw1o1BEBNmdSq7jQEQJq3KzCdOARANynZdGM2BEApkVEicTEEQLhWKaB8LgRA34fjRTEpBEDoNMtZFCYEQGMX4svvIwRAuUN9EK0hBECYuj4fXiEEQEIi0h2IHQRA+nWU4+QdBEDPt940GxsEQNM7WhCaGARAOrcKYKgXBEB4Hx3mOhAEQM3oziHeDwRAVOg1x6UOBEC1E+fXfQwEQObkFeEsDARAVU3PGIsJBED3bO9hNAoEQN4/XlpjCARAxetWlFAHBECRkVMGUwcEQIw07eMjBwRA4qsuksoGBEDsyI33dQsEQOUNqJtoCwRAm69jZEgLBED2zM9BewkEQNTXei4mCQRA+RuPIKYFBEDPh85MxgQEQN0+3zlN/wNAtRrD0Af9A0C6dGjPCPoDQKv4Gmym+ANASIMULD35A0ABzsPQofYDQMEY3yaM9QNAbZtwC3z4A0BWnd7p3vUDQCauTGHf9QNA9iZxSI71A0AgHSR4VfYDQPTEsCvc9wNARi21+IH2A0AJTOg4dPUDQCrG4fp48gNAEgCBD43wA0CswH5J+ewDQJ4bjjIL6QNAhAxkZoHmA0CuqFsbdOUDQIGjdbpU3wNAOkDXU8/cA0DjJewC/NsDQBaC0tGl3gNAWrG3dFLgA0AhZBgv+OEDQF3tbmFf3gNALs+mAcTbA0Ct5wOUkNYDQP5PnBc31wNAcc1cJnrbA0ClqfSX3tcDQB1LsVKz1QNA/lZwx8/SA0APfIfoUdIDQLDIiHyj0ANA7Nv0ciPOA0CJg8eIpcsDQEiz7WV5ygNAzEZkiE/JA0BhzMkDJckDQHuy/jn0xwNAD3IuOznFA0AxRwAxNsUDQKTng+KbxwNABnIPSQbIA0AEFHVG58wDQETEUiElzQNAR4Bgm0PLA0DddZw6AMgDQKh9/WmExgNADX3BZfrHA0BLoP7dTsYDQBVuarspyANA9WblN8PEA0D5iQOPNMIDQFqo+akKwwNATaV3ZInBA0DwlbiXs78DQJIlt1FxvANAmayfLlm9A0DuCp0JArsDQO6e8yldugNAqJyVMaC7A0DTz0YC9bwDQIZHYvYYvANAqBhmQsS8A0AdulwErroDQAf42NTLuANAa37wVVe6A0CB67EdCr0DQKT7cnSlugNAn98Qtc+4A0BPSH4FRLUDQCSBZrTWtgNAvEk4DpC4A0DWWccpNrYDQATCxV11sgNAnqN+EoyvA0BqU72PP6wDQMwg3JVQpwNA9nrf3NqoA0BzwFL69aYDQHofXT6AqQNAq1Tvuw+oA0DWQS3AUKQDQOrFGVWPoQNAaUOOCk6jA0CFV+mwOKEDQN8DtMMZoANA11C7sgajA0BTcRH6paEDQLRA+HQSoQNA9KZi+mKlA0CDpmD38aQDQIvPAdUppwNAB7OFFfynA0CWbha2L6kDQL4bvaO0qANAGh5aa7+lA0C2+m9sLKIDQImCcW02ngNAyPrBTXGcA0B6/b0nzZkDQHp64rB6mgNAMyaWAi+YA0ArPXY9CZkDQGTdh1wtmQNAm4aeXcGYA0By0PbgGJoDQPjTAQsWmANA4HPSkZ6XA0BQb4GG/5MDQCgh/XzZkwNAtuHIFtuSA0DcXqV5xo0DQEZ1rF5wigNA78Bgl0qJA0AqDSaMr4cDQEkAytYthANAJo9K5guBA0A8D5cdQn4DQA9j4UiNfANAj0sjnuV6A0CsG19qKXgDQAaGqcXodANAfQ6gT31yA0DW714CW20DQMY30zlFagNACGfvHHdnA0Cwjs9a/WQDQEmLh4oTZgNAM4HSfPBmA0Dd+fP7+mcDQJW7wZB6aANAxTkrFaVkA0DTTPdHH2IDQGIIfT/bYgNAJyJ85YZeA0BAbMvTQl8DQFuoCmoRYwNAWWa/xZ9mA0CqgumQgmYDQNnYtXx5ZQNAzHX1IjZkA0BGj47a+WIDQOFMFCR3ZANA4gEFZ8ljA0DoHgmRiGEDQAQgUkcrZQNA/FnaHe5mA0BXvqe3pmQDQI3bNMJZYwNAh8+us1JjA0BwWw51ZGEDQOXT4Ya5XgNAMG8PlqlbA0ANVYV8olkDQEkKSG9HXANAcRhjZBlZA0ARpWUICVoDQHeRC2fvVwNAWFmevxxZA0B8gMeB+VwDQNoNo8B3WgNAcRjtTRVVA0A7v8VYElIDQHfw6zYNUQNABLJMOmtQA0BAYiyRT08DQLn4AJ0nTwNAYQTYlU9NA0B4cm4ca1EDQBq+bboCTgNAKeYICVhMA0C6EhWzdk0DQEpBqHqzSANAbs47STxFA0As6MsFCkIDQAzvo8btQQNAMaxpB0M+A0AdZuvf6DsDQHwDJCYOPgNASqr8J0U8A0A0sVf8VzkDQADOHHH9OQNAzPWQkWU3A0Awf7fnJzgDQPP2OKAdNgNAmDfgVUo0A0Ap2JdjGDEDQM68IvnoLgNACed2HCswA0B5Uy/QXC8DQM7GhevwLQNAHn1w9LQtA0Cm9l6mGC8DQKg6Tyo0MQNA3qBWNSoyA0DauHpPwjADQI0k1KlLMgNAn5D7eD4wA0AnRp/lizQDQDzc3JL8NANAKeBIE6k0A0BtjEBFSTYDQK/dnPbTMgNALH0sX9syA0BgxXIHzzADQHay+j8xMANASv4kpeQwA0CtKUyvFjADQMweObwGMANAXF1mHr8tA0CPqbPG2SsDQB81e4bAKgNAz/oso9IqA0DpwgIBYCsDQLMYjFMkKANA421lQuImA0CVRolpWiQDQAn21TyWIgNAn02l8wEiA0DzjwvUTyIDQJneQ8/QIANAxFPfMdYhA0D7kZXaJCEDQD2s4X64HgNAhL0Kw+YcA0B/117w0h8DQNU6rsqbHwNAAozQ+VgdA0D7AfK3cRsDQO7bS3vgGANAHzcQTwAaA0A55ux5pRYDQAA7SB9nFgNAebNGHggYA0DST7DpKBkDQK0W5JlqGANAqqoF2J4XA0CMBg1x9RUDQBneNId+EwNA9w5FsOkWA0DHHbduohgDQLrbdrUxFwNAQUEwokQVA0ANI2mrDRcDQHLan93uFwNA7TNo9BQVA0CmjI/NfxkDQLfQ/UgxFwNAcLU2mesTA0B0Am+5zxQDQP+nP03+CwNAD0VNPOAIA0Aq13KdOAQDQBgnVtdmAwNA7jatOVz/AkCasZhQ/AUDQJ3u7mtkBwNA770xQEMIA0B0QzBg2AgDQENOBvsWDQNAxNUm2pwLA0DAxIA/Yg0DQBPhpWM/DQNA9k9vgA4PA0AN1HOhNA4DQKzP0i4DDANAxxhYTjQKA0DEA02bUAoDQEzz/yyqCANAk+8YvQ0KA0B8jg+Z4gcDQJkUOHcDBgNAbweJmE4HA0BtTXRO5AgDQFGiDRBMCgNAT24uBPILA0DeFG/wpAwDQDc+fAKdDgNAtGxXAJYQA0AENrcMFAwDQEZlDISCDgNAc8bi4jEPA0CPD9Ojww0DQId/edzxCwNADxkSbMgHA0A508ZurgMDQBDVTI4SBANAiAK+qpYEA0ClN8C1jwUDQJ2381E1BANAPZNXUAUJA0C9IiPaHggDQPYUZDxVCANAs5LUxuIJA0DfZc0MGwUDQBBffK/jAwNAS4U+N18DA0BqM2401gUDQCaZD91AAgNA1dhIoUkBA0CtWl8lzgIDQDNhntKAAwNAOPZWHLr+AkC0dTtVSgADQDcpjLQYAQNADoDJkLL8AkDeDuSkRP0CQJ3W5Ml6+gJAxzY4Poz4AkD2MRX4SfQCQDn44ql09AJA+RKqDMnzAkClmQeFfvECQD7sOPAJ8gJAoAPUc77yAkAbDIs+2vACQG+epwCe8QJATpUukh3xAkDqJtIYJu4CQDd/09GS6QJAuPCzX/zqAkAHnp1c5uoCQLrb4gEC6wJAdtwlDPHqAkAMlH/j8+4CQD5P91Xx7QJA0s0gkavqAkBCZfbcAugCQEBdasge6gJAys3ivxvqAkCzZXhSbOoCQN+q+JSv6wJAtwJcNjPsAkCeiorSh+kCQIAj6RDU5wJAF6IjafrkAkDoBTP0XOYCQFKX90Ce5wJArKQQhQvoAkDcGjEO1OUCQKCVkqiS4wJARUE7BiXiAkCg1kkumuACQA7O042z3QJAW7nlffLbAkBBj+b7+toCQPrlGL552AJA1AK1r47ZAkAEeNijIdoCQJxqsEK71gJARniiw/LWAkC7GRm2A9cCQOyyxWHh1QJAiKHoJ9/XAkBECH7CHtgCQAkjH/kZ2QJALFbk6lHaAkARCP6Yrt0CQOCvcYAe2wJAJLhEG9jZAkCIHteoHtYCQMOIO34L1gJAO83/9EHVAkDSNK1fNdICQBNVn/3uzQJAOd9P8TzOAkDxA0UBvMoCQBUprq91zQJA7is98b3KAkDAbCJf3MoCQBNlY0bDzQJAFRP9P4fKAkAt5/S+AskCQLWZYGvrxQJAIhfRBILEAkBdtjU2FMcCQJYfuPxRygJAx+WI8znLAkAgpCk708oCQEqnk4MEywJAezbZT/bKAkCb0UVN8coCQI422AxRywJAhs4j493HAkBw8ksrUMkCQASezQarxgJAyDvPrejDAkCK3RLEFMICQNDux16gwQJAHTq5ey/CAkBEoT8IAb8CQHrsqL3wuwJAwz+8fQy8AkCkssYcC74CQLVT4RylwAJA+O1VKLzAAkBfOJW45b8CQExwsTTKvwJA8Tu8aj3BAkCxY52R9cECQBS6RfidvwJAne4R6g3BAkBIgrZo8b0CQKARf4qjuwJAkxDeQJi6AkDaIb5df70CQMKtbdHpvgJAWtpAPXbAAkAD9ARTqL8CQKL0qdpAwAJA/6pqbRjBAkBh/38dib4CQNr33maKwAJAnYTPa93AAkAxZxtBwb8CQI/OQwe1vQJAomx7NVa8AkCVWBS+PbwCQNu3NCDvuAJAVKGmzqS4AkC2MF9Ua7gCQNaRKmLotgJAAkNrrLC3AkCevCUQR7cCQO6ch4zTswJAnrBRErezAkB+5KlPsLICQFPFD6wttwJAFY04fZ+1AkBRDIFj87MCQEOgdCVusgJAwSeaD9+zAkDcFTJSWbMCQLZfzXentAJANFw6HTqyAkDVUJOFZrECQFRm6RU/rQJANt7hSt6oAkCyc1ZkN6cCQOmQ8FujpgJAQu9spxmmAkDCxtSb76cCQBHZi+6LpwJA6G7qSBSnAkBrMS36N6YCQJRIXboOpgJA0PMPK2ynAkDOZ+5xS6cCQJ7gi7fvqQJAySvBlVaoAkDNlU/dCKkCQEM+NBfCpwJAa0QJKcCmAkC39wgS66QCQMxzIUdJpAJANRX3aCKkAkCMLTH5F6cCQNuODk4gowJAkjeSTOGhAkBCJSLr1KECQJLyvWmiogJAroeOTRGjAkDo/suCL58CQHvNUfZ9oAJA7M7jPpKdAkA06ar2V5wCQEdVY+QbnAJAXK2R7g2cAkCzRLbhjZwCQFV8E69anQJAB0/h91OdAkDjniwZAZoCQMlf8eqQlgJAEwq4DrSVAkAKdR3KSJQCQNIFLdZOkgJAzCZ+NlWVAkD80nFLwpUCQPoF6mWQlQJAfLvq6y+WAkDGnLHwCpkCQEws1YVHlwJA0se9aKyYAkCwTUzjpJYCQINTOWTgmAJAvKv9IFebAkBWKqtXtZsCQBRrvlEznQJA4LFl+MWaAkAvze6BLZsCQOZzUpAMmAJAol+iiqCXAkCwARnkxJYCQDIzGOhZlwJAQ4ybgGGSAkDf6iKy75MCQLzzxpikkAJAOVf6N26QAkAAyAKxdY8CQMyHXU0DkgJAr0lznbCVAkA4R0ZV9pACQIV2EiSfkwJAcWpDTq2TAkD1ZuYQupACQGedc7NEjgJAPDW6z8GOAkAORPamGJACQPCDtKXykAJAcnfHzXOSAkDj3hsmKo4CQFuu8eaLigJA302XArmIAkAvpnnhqIcCQHw1ZSA/iQJAtxLmUD+IAkC6hVqQOYgCQD/cX8HIhwJAcR/Iz+yFAkCUwyTrJ4UCQCYYNLjQiAJARLRbFROIAkBlbA5BRIkCQELUiVEGigJAlHLHarCKAkCYRcn12YoCQHKmPrr4igJAPUbRBkCLAkC0O6GnkYkCQBqEi8zgiQJAcvNEkN+IAkBCgFsDuYsCQOOUeSq6igJACW+Ot5qIAkCKzmiqC4cCQN7H0OFhhQJAyixOU8GHAkDdO56wDIgCQBsAFdDwhAJA5zmxE0GEAkBoxLNnQ4ECQFnna4btfgJAMipgy4h8AkCqgyvQBnsCQA0UCXzeeAJAkbjGb4l4AkAPgYb3eHcCQP7fWElNdwJAnTMcy7l5AkBe323gDnkCQI9krEjAewJANN3HNNOAAkDX7tEqKYACQPtBLiFzggJAG0g9ZGaBAkCv4o1SiYECQCf0HbfhgwJASuzaRSOIAkBHWMMofIcCQIe4ckcohwJAipGgdJGFAkDHSjj8zoQCQPm7PvnCggJAdecCy2aCAkAOIk3/94ECQBzGzm6MfwJAn1zQHUZ+AkA/zW6v538CQFad928BgQJA1uoYJDd/AkCULVrw5XwCQLJ+Pj2WgQJA34JdHmCCAkAibhg0eYACQFJiD8cVfwJAmi04s92AAkBjNJHRl4ACQOwZ30xEgQJAoUpkKuV/AkAf5bt/gH4CQOyj7yWlfQJA9ejnanF9AkCahkOBX30CQIWKBxt9fAJAgVQouqx+AkDFUVB5iXoCQJ4+XtT1egJADQu2U+J7AkADVVX7GHkCQCTOOfPndgJAK31pzCp1AkCeaLBBm3UCQJGviR5HdwJAa7p0uu50AkDLQJo5kHMCQPZGlRJrcQJAajyph/ZxAkBvGe7X+XACQFPv9pCdbwJAOVt70rZyAkDlyyT6vHMCQPZZG3O1cQJA1m/5AUVyAkAJpvnjJXECQJY9hjk+cQJAzAHl/uVxAkAw0KO1WW4CQKuPvw5RcgJAIu7q4qBzAkBjpAwqqnYCQF/IPdrtdQJArtp9fG1zAkCQkZJb9XMCQLXnz146cQJAAvnhn+lxAkAKM+vgMnICQNj/bzLAcgJA8mJsRJJvAkALif16KG0CQJdjFnkmagJADhbDB6dqAkD9qTg+42wCQP2TLpt8bAJAHiyQAoBrAkD8U8XrXmoCQMJA6Ft3agJAzMLglutoAkCcH007BmUCQG55pSHVZwJAg3Xq63hqAkDqNy2A22oCQMLKTORwZwJA9rv3PfNnAkBy55QPjWgCQHbPZrnoZQJA3SsZKeplAkCcz+ZrKGQCQApNna6JZAJAGnygPWFmAkBswmkU12YCQJqKLIFxZAJACSNMpnxjAkAyS70aeWQCQBeTQ+b0YQJA9QG1umRiAkBY0EOnjWACQGXiSQ/3YAJA3vMVOCBjAkCdX5lgN2MCQC3xpOLQZAJA0JZ+AAxlAkAkWNUrYWUCQBJurRILYgJAMyDRKb9jAkBTxFZkEGMCQJoxO8VHYAJAtwYxaaFgAkAcelBWD10CQBMTFIWLXQJA8QFmtJ9eAkAa6Sjh0mICQDJVH+EMYQJAclIeQo9fAkA9HjYHk1sCQJZnVTJTWwJAy5UQnDdbAkCsZ3sF+1gCQBp9udK/VAJAfCZI9w9TAkDTd9pAuVECQD+dmVlfVQJATRxjzFhVAkBjGyYR3lICQGCW+7xQUgJAfXDSlHFRAkD1z3A9908CQN08r+LzUQJAOYVnPChVAkCzmRGO9lECQJXvrc8iTwJAPnQsTyVRAkDRugEZaFACQJDNheKmTwJA/wizSqxLAkCkxr0WlEwCQH7IOz1ySwJA7V5KHGBJAkCKEatEMEoCQMhKnUcJTwJAqXF/q3FMAkCjAjGtKE4CQPCOs2qzTQJAEoKl889KAkB10DR5C0YCQIoD0IVqRgJA8RPiDUxCAkCG+qATgUECQIE0Sfz3QwJAt88lNDVDAkBF0QsFv0QCQKZOh1n3QgJA64XVfBNCAkCZgUoIAkQCQOdskpmkRAJAAN0yBwNEAkCEaveGrEMCQE9Oa/zUQwJAuAku8aJAAkAe4HYLgkICQB3ASZEPRQJA8to2IAJEAkDzFTXAGEECQOvK4HVeRAJAgEjR6bpBAkBS61YkxkACQBZPGuG3PgJALuHG925BAkDiuMgvoEICQB15qfuTQgJAXhoHY3NDAkBbdFlwwUICQAYeiKanQwJAQOMowfY/AkAu5HGL5kECQPJgEwv+PwJAoJdt4W4+AkCrUHIjyT0CQFt3ybHNPQJA5f/jRs1AAkB7UpLDsUECQLns149hRAJABqOGtWZDAkCa+DchxUICQAm/iGzaQwJAOiS+vxZAAkCD8XWWcUICQCSXQEa5QwJAAopf8DBBAkA8O3XDPkACQPjN3NMpQAJAXOi845dDAkBZ0LZGcUQCQLksuQ06QwJA5J5gsAhBAkC0V7grOz4CQL/QX2wePQJAFAynwdo6AkAk2mfbiTgCQER4Q1JGNwJAUzLe16E5AkA4Qb5L2TcCQBYeuHa/NAJAJj701Nc3AkD0dU8VVDUCQJIfNEcyNAJAVDdLsUo4AkD34quuNDUCQABHZNRjNQJA5wphyNQ0AkDYM4c1RTQCQMGEOCFbNAJAy8qZjus1AkB6q+/HWjcCQCNs16xsNQJAGjfIdzE4AkB0uaCKbjsCQAXlBiIqOgJAgVm82qo8AkC/2gg/aDwCQLn0lK9VPAJA1OyowRs9AkAPYUDWnT4CQLyXZ3GSQAJAfCcBduo6AkDbunT6SzwCQHEoNy3wPAJAZS9v4ds4AkBzgAgWtzkCQBWVc5kjNwJAHeuxWtY3AkCgRg9BZTkCQO2WSEmoNgJAgmDKAlI7AkBdPFBWQDoCQCAR+6FXNwJAL4QkyeA5AkD0oEw3izgCQHlyc3N+OQJAlqgt/vI1AkCSULCspDgCQDM1/SKPNgJAAETcYcg0AkAIKdWCmjUCQK0GxmP0NQJAXaO/huo0AkCkzyQaoDMCQGWXAnAyMgJA1txtTTEzAkAigzBz0zACQKV2P+ijMgJA2pPipGowAkAMboA92C8CQAN7QvPVLgJAqOqSsIcvAkAOwuBKDy4CQJr1p66hLgJAIbxolXYqAkCLpY7vESwCQH7JgR38LAJAcpFctmQuAkDzUlHL6S8CQE5xRtXMMAJACfp9sY0wAkC+Cv4yqC4CQEynL+xGMQJAlFcV1RgyAkA1IwRIoTICQKd00qnPMwJA5HDktRUyAkBAbUg45S8CQMKKFIp5LwJAgm1FGpcvAkDySKagoTECQCR40qZ+MQJAPFNgn8cxAkBKSJ/moDICQOQDFlyTMAJA3WZ4BPMvAkCkxnwJrSwCQETh/MIXLwJAnU1Hz6IwAkD7xl3hxTECQI/AWoKHMgJAxGeqjko2AkAAt96jMDMCQHQcKhF9MgJAFk1aiBEyAkDkc5m47TECQPapOQV1MwJA7nLMnMwxAkA5bxjDFjMCQORzUa0UNAJAkx14P5UvAkCvXvjuEy8CQG+V1zkQLAJAOgRdJNIsAkD+oM1WOysCQN3dQtyGKgJAc86jBAwtAkCZAY7GECsCQCBUJoBnKQJAUO5/61kpAkDBau8krioCQNR3AIzaKAJAB7YIOUIpAkD/Cnzg5SgCQL1tBPJhKQJAKkkEJMEnAkDWZwxJBCMCQI2moCT/IgJAsrGCBcElAkD3q0QjPSgCQHTHjE/0KgJAw7h3nKEtAkAHmmv30S0CQN7OHWVBKgJAnXWQGGYsAkCgqwcAYywCQJOVrBRXJwJAr07QLVQoAkChO16NiygCQDApOjZvJgJAeZuClVEmAkDoZH6KVicCQCNRetRjJQJAx1ZVxDYgAkCoCSHC1yICQHJs7p2YHwJAsGB7zSEfAkDchvtKMSACQCcXqWvgIQJA3OSrlzMfAkBpm66vCSACQKeePXH/IAJAR5H5OS0iAkD7GEQd5yICQCT3gwKsIgJAG61eQIohAkC3bZUHpyECQD6s0rZoIAJAbZ7Dq8ggAkD2LTkGzx8CQNaXP20qIAJAzw5OfIohAkA8q8+obx8CQFs60dF4IwJA3MTzBzgmAkBQ+C03HSgCQBwq4kSlKQJA+g+h4SAuAkDQeg9RKisCQMETcm4ULAJAYBtF95UrAkA8EgmHESoCQFvojP6bKQJAqhqA250nAkCkdGsULCoCQNlPsvFdKQJAHKgPjx8qAkDA5AadISoCQAyTo62vKQJAXtCuHJkqAkAANcq8HCsCQCmvwxioLwJAq057KFssAkBrdfvgaSwCQAwfDCTrKAJAsLLqo6snAkCqpPNI4CQCQINE2w60IwJACzr1IJwlAkCvSMx8KCcCQG+ppNR5KQJAGSjZr8IoAkCLHrE6zCcCQOmIL2VUKAJAKzoVh/IoAkBKOMokBSoCQGj0y2mBKQJAr5GLK+koAkCyY9E/ZCcCQKwm2yBUKgJAx5DDXqArAkCovaxa1ikCQFnxv9dsKwJAsG1vxXQrAkDsgiFBPS0CQJL6UcimLAJA8MD8pa4tAkCeV+wpKCwCQB2fgUYcLgJALGA7JLQrAkAz4ea9rCsCQJ2PYyt0KAJA6kgerhoqAkC565BKGCcCQB7kICdaJgJANqt62dcmAkBunRMmvSYCQP8s2aTxJgJAGF2Y4dYmAkA53kCYfSMCQKIpy4H1IgJA33pAkqciAkBD4i1COCACQBhfC0BtIgJArPDIt3siAkBs+dIQTCMCQOQBJyzIIgJAxL8luJ4iAkAyLbnitCQCQObQJtPXJgJACEb8IIkmAkCdnuO+1yYCQKAdN6gFKAJAaRQtL5coAkCGLF2EnCcCQA4K1reMKQJAFnUZ2BIkAkAWirXD2iUCQHC/8c5hJQJAO5h+b+ckAkBSk7xmnyMCQHkrbKP4HgJA2EK7cCseAkD7aXu55x0CQLkL60DXHAJAaE0+bKgbAkCnQhtUOh0CQKLEprkxHwJA5zHbWSwdAkCuvEehZR0CQGbwVaQOHAJA5/BrK18ZAkCFdWj25RoCQNz14LunGgJAJ9VdZ2kcAkCzexDlsRoCQO9evX9/GQJAtraFWEkbAkDa0S6mjBkCQMqhd7V9FwJA1KTv+RwaAkBqPDJ8xxgCQKgAvUk/GAJASJVsqXIXAkDK2oH1ShsCQB5gVKVYGwJAZ+lZi3McAkD5RF83KhwCQENT4F4eGwJA1ljhHQwZAkCWybAVUxoCQFjLgUUGFQJAmP4JvI4VAkCk/lPh/BgCQOHEQACmGwJAC8/CMKkZAkDh2AbqIhkCQD09euJ+GgJAnqbhcSUaAkA+oeKDERcCQPI4eJq6FQJAXj8R6OAVAkCMJN9JwhYCQFYCGlu9FAJAjSsZFmgSAkBX8Go25BECQI7HkHGmEAJABV6UQ6URAkBYxlXfQxECQKiWpUiuEwJAgmhF5asUAkBVK0NqEBcCQCkRgzxqGgJAq1JuViUWAkDfy4sQGBUCQDNi6gz3EQJAthTreX4TAkA92k4g9hMCQLfjnopvEAJA9C5HSsQNAkAmBMmktg0CQIgU9A6BCwJA1/Lj+78MAkAC6ybAEQkCQCO6ZyjXCQJA6MwRZsUHAkDpORGMhwgCQExAY6KRCwJAWsI2/48MAkC6UH+noQoCQJMcGAIZDAJA+mVZLA0LAkA0cxQQygsCQH1vqDIqDQJABfBg3MgOAkBgS00WdQ4CQAKLQkshEQJAwG1hutEOAkDb/jRv5w4CQJG04POwDgJAhMcjEP0NAkCxNHUq0xACQEhcLwwzEQJA46uIAxoQAkDk19YQhA0CQEAblnk+CwJAHRLLefQKAkCwtoorXAsCQLNNyD5NCgJASq4c6PcNAkDDC0VVHwwCQLVVUwz5EAJAr0rlKsARAkBOae7WHhQCQOhlnCOPEgJAdr0j2OkRAkBRliJw4Q8CQBUFU6ZsDgJALQ0np1YMAkC466m+/QwCQHAunHuuDQJAS5hlsH8MAkD25bRK6goCQO5qGqLeDAJAMD7PmrAOAkD9dWWo2A4CQOxpSQ1pDgJA9TTsTswMAkAObT8IwQoCQAVZHGyVCgJA9Y+fKLIJAkC0F1AHQwkCQH1IZpHOCwJAqlbO7w4MAkDNEVTQbgkCQJ2dWQFKCAJA0cF35jUJAkDKomvr7AsCQD90kduXDAJAHOQQZ5EIAkDxojnTfwkCQGV07RwUCAJAKIG8c6MHAkCTz0JYWwYCQLgjMM7nBAJAgeBXoQMGAkDPClUiLgQCQGXIQcKrAwJA9+Im4cwEAkD4JTbEMAUCQKbBn3XDBAJA46rcUrIIAkBPYzAwEgkCQMD0shDRCgJA2+ykf2MMAkANQDTRbQoCQIBOKsEqBwJAGdCkEQwGAkAPf5/CoQYCQCdBNxg6BgJAgQ2IegYGAkABywcF8wUCQI0ne/ivCAJABB41KLkIAkA+4yKOsgcCQBuinWsjBgJAS0qQVcsGAkA4kkmiMAQCQAWe9JkoBgJALqGJZoMFAkCHzfi6pgYCQItbQz9xBgJAAgacCbkDAkA8s23tewMCQKVzkx/9BQJAVh08VCYJAkAiFNdbQAgCQEpNdeuHBwJAYJ3UwncIAkATsYt8YAcCQHYOA2izBQJAteTARykDAkAb9uOTjwMCQHUXzMSbAQJAF6NJmdMBAkBp8PzIAv8BQCTYNlms/wFAAiyYXjsCAkAC2OVGUgICQNkKUhuCBwJAHH6yQmQHAkCfzO5M9AQCQMO9e2u6AwJA3p7zBf8GAkDO206XDAgCQJ5x0D6GBgJAV/rRnb4IAkBtl1fsIQkCQGkOfr0ZBwJATHlpGEEJAkD/6MC7YggCQFE87Nz0CQJAb3xg6NMIAkB8usgdOwcCQLGbLShWCAJAkzNuuPIEAkDhEBgmfAECQBwpk9sLAAJA+u2eOCn7AUDpWct2WPcBQDUdD3Z09QFARBz+KcnzAUB0fkjdKvABQLvlPfnT8wFAakGnXwD0AUC57OOG5PQBQKMW7e789AFAEbsOwqb1AUAItdw9jPYBQFMzSal28gFAxJQ+sfXzAUAhNdE0VPIBQAenkAHc8gFA7srFiRj0AUBzBjOhgvIBQG/M3reG9AFAlb1b/970AUBfVIrE9vUBQL+04LOd9AFA6q7Ag+z1AUAcBOzstPYBQG3SkY6S+QFAeiauQD36AUAboQsN8f0BQJ5y0TJG/wFAb38EzFEBAkDfrE7h8f4BQOD5pi3t/wFAZURX0Y/9AUBBhJbK2PwBQA3C9CDs/gFA2/1w0XACAkCzFmVB9wICQL4uzQ/gAwJAfjVbERMDAkDt2KrsxQQCQHoDW+/iBQJATMENNU8FAkAHmjZPKgECQEl8ydCgAQJAJfSh3On+AUDRHSnqdP4BQNsccn3h/wFAovJ+nEj+AUCM4pvcgf4BQIcEPA2V/QFAxZAp2JX6AUC/IMVjLPgBQOoGx6eP9wFAh2HZkar4AUAPFKndCPkBQBfJSG+X+gFAej6AJa/4AUDQp63wW/YBQD39ZXhH9gFA2A3OfV/4AUA1R0PKKvkBQEzRF++j9wFAOYDldxj5AUBZhItkHPoBQB2h+jbB+QFAZovyLDP4AUAxsMmUD/cBQHqJLnbe+AFAflNWkb76AUDls/i2+fgBQBiu8Kyk+QFAWiTQNTb4AUAVwBOUn/UBQLHzbXMr9wFAzMr2d/X3AUCUDtZr/PgBQFb1CJ6T+QFArvUxYcP5AUB3xN2XzfgBQGPGe2P8+wFAFiPjs9T6AUC7Ool8j/wBQHvNhDjb+wFAuUJ4j7r6AUBheteqsfoBQF40huvh+wFAtlNQ0AP8AUDizI8IQ/sBQLqUOMb5+gFADhSBdTP9AUDDfs804P0BQFowVboF/QFAyi5Kc9f+AUANRjfkuv4BQEYzDOM2/wFA6Vo9rIT/AUDa0wmSDgECQATNMonaAgJAV4ScPz8DAkBlyuHniQECQGLUJBjGAgJADN4KzZIAAkBuCBt8Bv4BQCgIloeh/QFAzKRfqCH8AUCDwCIp8fwBQI/CpYIv/QFA",
          "dtype": "f8"
         },
         "yaxis": "y2"
        },
        {
         "hovertemplate": "variable=batch_accuracy<br>step=%{x}<br>value=%{y}<extra></extra>",
         "legendgroup": "",
         "marker": {
          "color": "#636efa",
          "symbol": "circle"
         },
         "mode": "markers",
         "name": "",
         "showlegend": false,
         "type": "scattergl",
         "x": {
          "bdata": "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",
          "dtype": "i2"
         },
         "xaxis": "x",
         "y": {
          "bdata": "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",
          "dtype": "f8"
         },
         "yaxis": "y"
        },
        {
         "hovertemplate": "<b>Exponentially Weighted mean trendline</b><br><br>variable=batch_accuracy<br>step=%{x}<br>value=%{y} <b>(trend)</b><extra></extra>",
         "legendgroup": "",
         "line": {
          "color": "red"
         },
         "marker": {
          "color": "#636efa",
          "symbol": "circle"
         },
         "mode": "lines",
         "name": "",
         "showlegend": false,
         "type": "scattergl",
         "x": {
          "bdata": "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",
          "dtype": "i2"
         },
         "xaxis": "x",
         "y": {
          "bdata": "AAAAAAAAvz+f4pIhWEfBP6elPmNKY8I/lRib2Ix3wz/QCXR3zFPEP+gaQ0xhz8Q/H1ro/WlBxj/IXAdiEbDHP5Qq+HatvMg/muFvMq51yT/P4G3RI//JPz6WjpEuyMs/ertGPowszD9A/xV08WvMP3TcSymoF80/bInYpGv+zT+6SAIR0YXOP3nBgYDaIs8/4asB3YfSzz93qHuoVe/PP9eYmO0ER9A/tBhkBsl20D9yZkSB1orQP3ZI+le5pNA/LBxZLYmX0D9bOq3FwcTQP8+IkzY+ANE/1pHHyJgi0T+Kw7cJP1PRP9eJSy1fwtE/2jGd5tbl0T9ksiYlnhPSP34ak2siONI/EyLdOIVj0j/8++4FYaTSP80a/G1C4dI/hR9SGSz60j8vczQenxHTP1abjD+OFtM/tSCepYMm0z80AYQcFBTTP7sDkNPSLtM/XgzrnSNI0z/Sz7ks1xnTP//BUEZ3I9M/TwctosNJ0z/VZAUYnk7TP7Dm3841RtM/KfgE9LRN0z9et0pflXPTPzflcPBdZ9M/0zNRHF+Q0z+JQoDkTrXTPxVIGSqC4tM/C8D6/A/r0z91Mgnu4QbUP8mIqP0HH9Q/lDHIjNQ/1D/u/vZfJFPUP9iW928GaNQ/vwLrvcFh1D8eqpkugnPUPy7jmfvhhtQ/MM2U4N2i1D+8yxEIBLnUP2vWlDTt0tQ/biBKkuLW1D9zOwU+EvvUPyEkmiwIJ9U//H7NfP831T+c3I2JBVbVPzfS+7w8VdU/wQUc4byI1T8YfczvOI/VPyigW9LKY9U/wdysywyU1T+dImRokZ7VP5zsZwrIoNU/4plwduK+1T/nKtr4N+nVPz5ot8DBD9Y/KlUMh9j21T+i4/QlrhHWP/9Yy/iTQdY/yZ4eS7lD1j9BM2ucykXWP7Bjfw5EZNY/nQ2TOVVy1j8jYF4I42fWP2utp9HiatY/1But5FCm1j8HRcUvBKXWP34/eBrupdY/QYZhZ3ev1j8q6J798snWP+xB+YiO1tY/yqwmpwfn1j+puhLF4xLXP9flGWwuLtc/Z3W/XvVO1z+ik9etmVDXP2P/o3gGX9c/l90bbHBV1z+OanYABVLXP5vEltlocdc/fzloelSJ1z8s5iPoYH7XP1Yy9keRkdc/XWtJ15qb1z+oVnv49I3XP4H69yZMrdc/heKW1jSh1z8zOWamaJPXP7o7v0aSodc/ACVOb82m1z9qF9ZvpM3XP3UpQHZNz9c/pDvHfUUS2D+f/m8lGRrYP3Sx57X6J9g/sOHaZQVC2D8qAigoVjXYPxJRySZmRNg/m4rGWPVS2D8bkzwlVlLYP07bHBaze9g/MVe8UGyI2D8ny9lzb47YPzqY+AUCpdg/qg0sp1aA2D9NvxwHSKzYP2hDcZcfyNg/+m+Rik+72D8K2AqjGMrYP8Nql8421Ng/1fqIu+jb2D9KRuamDfTYP38mR1uTD9k/HRD3/0Ys2T8x1+wkbznZP1O7Tnp/Ttk/d7v918VH2T9nnTYPhUfZP3lUp/nFU9k/CAGl6Z9f2T+IoHaErWDZP4+RQC98j9k/xTE8XrWh2T9WpN71xaTZP888t1qdvtk/vN9kaV/R2T9Arrc7cOHZPxXS22CW5tk/gTQ4AQn42T8nJIEwS/jZP9h5VrrxBto/dBEQjCwu2j/kWHejg0PaP/AjwpSJYto/+9f68WV82j/XZsrCKqraPyytUa65pto/RuxJ6Um82j9eUJW7VbraP2UFYp/r4do/Iaujqdn92j9GmThxNgbbP/VmfEHQHNs/O/pux84Z2z8vx/4TjSnbP+ptrmTIONs/ngeCZ9802z9M6ZP9u0PbP2UtxW4vGts/Vxj5gfor2z9RULIGfCjbP9zinWGZM9s/P080VCcb2z/Hx3V4WBzbP5Xq8SKoBNs/HgoQQMkM2z+fROJJBw7bP+eYfJWeLNs/yiyvhLs72z8t8I6HxVbbP0gnYqXlUds/eZG/h4ZX2z9Sw4DYw1bbPzeyv29fYNs/WlLVP4hl2z/CB/iKNX/bP4ltVJ/kdNs/g3U0bmN52z/2gx61AobbP2Ccby5Xd9s/lT2wsGpx2z8U0V7KxIzbP/V/qPXhfds/rAr+DRaC2z+Syr5E4n3bP3HlFwrAd9s/TNZw/Cib2z+oUJ8xjaLbPyaz1tuRpds/yBeyiX2o2z95w3Aa2rvbPxKdyy90yts/etSYsDTX2z9/05pz/ebbP6Qi7UDd6ds/7J6qqk8B3D/vsQ3URAHcP+HmHFc6Adw/8QkkIpYN3D+qYkEDr/7bP8yrTWqFF9w/h18iemwr3D9nYq1OR1HcP1lj1oiDadw/3kR2jRtm3D8b5qSG8WbcPwxEV5bAZ9w/QHe3LO503D9xoi7KOHPcP9BWc0w9Z9w/MllqC5RZ3D/4aHI3jlLcP2v8AEsaN9w/gvcWMkIz3D/Fk6/giS/cP5pvbRkBLtw/AM+THsg03D/LLinOJDXcPzHkiLLRLNw/bWCkbaIz3D+TphOaxSvcP+d+nRBXSdw/WwVPZd6C3D9Qu/ve+IjcP24SMA8Tldw/+AlyNj6v3D+p3ICUPb7cP5Ujd0+wytw/9irCow/h3D8qFbkn3dvcPznaHnB869w/R+G/wGIT3T/5epH5FR3dP5cKurYlHN0/bsQI0+Mv3T8FSeVoc1HdP8ohKvXBTN0/rIimhYpS3T9CRziCjUXdP9DqFOyASd0/Rc3hm8483T/gr22CK0XdPwXAxsH2I90/hhdIE0Ix3T/3AK6REVrdP+wwoqkBct0/ytr5JNKd3T+Wvc5kxLndP80vIpCu0N0/+63WObri3T+jJVo0zefdP4NUdQ+OB94/KtPddy4D3j8ovvWJqRXePzPVnbm9Ld4/+tobtXUy3j/NvYv4tWzeP6U1vLJEa94/n0SiQDJ03j/b18thGIXePx/03+D+ht4/nbuFcHud3j9+WGrMZpjeP8iRnbMApN4/0bX3NSqt3j9FUvgytavePxVh7jhMqt4/9NCxliCv3j+LnkU5cYjeP4aEGKBMjN4/L/wGB6yG3j+qGEzX6JTeP5DSYUVdmN4/+rInSmuy3j8YY64dDbnePyZkZ7Gy5t4/Tv1P+Obz3j8PmDaAEQ3fPxXngvopHd8/K/EmegcW3z/eSEGUByzfP2CnxCXeMt8/oZ5ll5Qc3z+sjS8DTjDfP+1MZha/Lt8/YnjQNH813z/fzo3Gky3fP7Dh6TXZI98/yBe43AMt3z+D4u/O4jXfP+yaaM78Tt8/5EqbzfRc3z/g9SBaL4HfP9y5obI+pN8/3Af3IIex3z+QNjHcYb7fP52aJSyL7N8/DEIKmegA4D/POpApAgXgP+gJeDPr8N8/mqDBjATl3z9PLMimb9ffPy/ikwWF8d8/7NV+9VAD4D9l1Vzh2hfgP7x/PFkFFeA/v7jfTuwG4D81tlLIBRHgP6qcs9nLGuA/ChzT/lkn4D8DCaYTNirgP4ZSE6c8NeA/VDF6LOg/4D8wB8caTEzgP8yVQVf/TuA/YxeciqRS4D97gEEP+k/gP/diP6WGUeA/hcTXU2Fe4D+DSoH3dl/gP2cyZ8MoVeA/PJySw3FT4D+cyi+XIj/gP4xqjnghPuA/uF2RemJE4D9k6gjvsVLgP0Hxw6NZWuA/pWVS/V5V4D86PTzb+F3gPyqhR4PHVeA/7TEqynZh4D9oRVGSxWzgPxlFbg47aOA/N02Q6TBv4D9lpjzP/XfgPxbpa5izhuA/96Ut81KB4D/vo3wkq43gP1pawoZCjuA/7ThANJuH4D8DwsUWM4LgP/1DFqoYgeA/Yy+4WQeA4D9WlrYxSYjgP5AUL9lGkOA/Xdv0nIaI4D+NRNTd9X7gP1fPxYdAh+A/hSmL3X6J4D+W7hGbtJngPzFmRQe3k+A/UlCbJNKK4D9fRv1gy5TgP4Px/c6jpOA/b66nWNiv4D9SAZWl2b/gP9wTaxKA1OA/MzKH9pzM4D8hkrhbZtLgP947fJiUyuA/urmJS3/S4D9Zl6mwauLgP8qDjxCh6+A/owdSNwfk4D+0/LnDH+vgP//2NDLt7+A/Xir+C/bg4D+8NLig/uLgP5UK1uXl4uA/tKyU0knS4D8+1/ENu9LgP4/sfgvWyOA/xGvLjnzG4D9hZXayHcHgP5f9yu+xw+A/TNphyf7Q4D8J8FnN3d3gPw+n6NF77+A/MaYwBj734D824BYx4QLhP/YaFCfBAeE/7RhNgg0N4T8iostseAfhP8b3Cf5CCOE//ZdDDygN4T+bX8VgmgjhP2YHR+ulEuE/w77f6wsS4T/OMVNJAyPhP9BaV+z6JOE/IZah1PIo4T+w8GZcVj7hP8oVkHPPS+E/9GzUuqdS4T8U6sm9T1rhP/pv6lXyaOE/eAbfSwN04T9vDyUhwX/hPwNNFnPshOE/dCo8mf2L4T/Ys539PJXhP+KQrnoJpOE/hg5BNSqs4T8xvcgsc8HhP1oUWo/SzuE/s7IxQbva4T9brczcSefhP8h//OX04+E/XHbkMLPf4T85MtDknNzhP5Wz8tSX2OE/YpA1W0Dm4T/uMKmSZ/HhP+xdwc+27OE/WRJ8uer/4T8IY9ai0vzhP4yI+P9w7eE/8jISnHXb4T8wDxDZktrhPwj/UPPo3+E/el4x/BLl4T/Cv5tfEurhP/QCtOiV5OE/713+VJnp4T/YUBZjlPLhP6MTN5mP5OE/zJhBUInb4T/mAoV/+OThP5Yeuf8A6+E/SuzAIKbq4T8Ynd3+h/HhPxgZ6ZNi/uE/IhVHh+MM4j/XWkgouxTiP3SssOTNC+I/MoSuQMcW4j/sQXId6hHiP+BRnvuPGOI/YXiuHKQT4j8VFfpMjgTiP78ec0K7DuI/zywai/8l4j++qFSXIDDiP5NPfHG8M+I/pTISdhkz4j+/UhJJrTjiP+XnlsLpOOI/m6Yx1VU/4j97wBDvzi3iPyfleYTQO+I/xi5AXxxB4j+DL33o6TviP1y5zIQaUeI/B/v1ZxFh4j9aGCzxc27iP8Qg9hoNcOI/3TG06PN84j88MISnX4fiP67MrjbxgOI/FJBVfyuJ4j9OMGGcOpTiP66o/kyLkuI/BJ5fQlWe4j+r7EaCUpziP2eFxPGypOI/2N03sL2q4j8G5CSa2LjiP8+EYzpFv+I/NUCLejK84j96WWJug8LiPzO1UjmgyOI/E928P2HJ4j9lurR/6sPiP2wNbhiIu+I/XFZwcnu14j+odO4T67jiPzIXzkT8s+I/TyTkSpm74j+XYQ92b6niP5Mb9EgZqOI/6o7F6+ap4j+H0c6ZY6PiPxBvFTq7seI/ng7sDjGy4j9j7FNp7bviP5buTNEnv+I/SU9XBBa84j8DquvaRr7iP9622tNMveI/V584cq3G4j/iPh+gwM/iP02LtpJf0+I/q+cqVLfR4j8BvP2CFM/iP2Z0qNkT3uI/x5siwkTi4j9AXvHcjO3iP9qwYwdf9eI/r4eMk8/44j9jstGvAvjiP0Yja7Jl/OI/MpOnrGr54j+fMVGOsfviPxGcHPUvB+M/cT4pqzYP4z8XI+7vVQLjP5deMehKA+M/m9sUTIIN4z9OIsbNVBXjP3o81nz/H+M/ERbNeN4b4z9Klc3waynjPy9Q1yIeKeM/MLr+SqEi4z+07rLMch/jP5qo8CCQIuM/YSjrQKQn4z/ie4P0ni7jP7cSrQ2BOeM//2GJV0ss4z8Rt0CGvCbjP24tanG2LOM/onGsCqA24z8lEzmnsy/jPzwQeDYZLOM/Teck4gc24z8584CQxSPjP+sGVnvoK+M/llGywfk54z97dz/1+TPjP7fkIY4vV+M/1zXasuNk4z9BrGz3T3fjP0vx9v/AfOM/gDV371+N4z+z6a7GGnLjP5bJ8XVLauM/S7vgadVl4z+czfl2jGLjP6LCxAfrUOM/8G073pBW4z81r/VzlE3jP4y9L08kTeM/1HccPIZG4z/eFXdjcUrjPyFuCXllU+M/W/pcXAdb4z9BZOZpMFvjPxNvz7CJYeM/2Zlcs1Nc4z/a0N7Wq2PjPwIaI5bPa+M/buPWwkRm4z/qdjpy31/jP/6/mrCmWOM/m1jvy5BO4z96AkTPrk3jP7YMMDzrQuM/Vh/jzog54z/ijJtUQkrjPyrHnUmjQOM/whYMgY0+4z8ncPO+wkPjPxwq7DzVSeM/29+0Mile4z8zQ6iDvG7jP+QG7Y86beM/DslYzbxq4z+P5l1bS2fjP8IYEe1IbuM/CJejzC1Z4z9OKxLnflzjPwFTS5WTW+M/fTObFJdX4z8Ne7gscWrjPwJzqrczbeM/LgUAuudw4z/ZMtYOGmjjP+F/GgZTd+M/Ho0yL6t54z+98pvrrXPjPzchAuT6cOM/2BRlNgKF4z8zoUjJlnzjP1GtNXCieuM/6thVZGON4z/Vd4QO3InjPwF2eLvtleM/ZaJstXqd4z/jB1GnE67jPzxLDCaXrOM/NEA1sT+u4z8zielYFLfjPzdyNPs8s+M/w7pT2pWx4z/1xECyRrnjPygzsnJltuM/p8i0RcW44z//I+kRZMXjP917TfDD1uM/l118pt7Q4z8oAuzaY9LjP9D8Nj/U0uM/14NeA0HT4z+sjEokJsPjP495UOkkxuM/HFnzhl3T4z+tfQQwEN3jP4Wa6PEt0+M/ZKUzTYfR4z8ancaM9tDjP7HKdW9JzOM/FNQOMsvI4z92kS8o1dLjP+zxRrN72uM/HQnqWgzn4z8tqwuaoODjPx2QdiFy2+M/uGIoOYfZ4z/mEIL9BuPjP8fkGg4w6+M/hVkBeQ3y4z/hpwkzsvjjPwGprlpJBOQ/+bocw18L5D/NQcmbGg7kPw4z7DsJGuQ/hsLLcxkW5D+iiDD0YhXkPzU3kvQlI+Q/Y4rPcPsg5D/OOFUS6x/kPzo8SkP8IeQ/gZ6iUbob5D8/BPzWbRbkP/ijLVSLEOQ/gKI8atkK5D9CVlN3FP3jP3txJyl/B+Q/5PkdUYMP5D+CuJCQbhzkPxDcxQeMHOQ/N8zok8kg5D/dOzzyPjDkP/aDnbBVQ+Q/tu+ooilB5D/W1aulk0/kPz5Cx27AROQ/8rD6g+NN5D8m6zyQaEzkPyurU4OvQeQ/wqjENBVQ5D+9aADxwVXkP/Up11xxYeQ/Gs0B/5Zn5D9w38f27FnkPyCPh8WzTOQ/bYXu1ylI5D8YIRA0/0rkP+ciICq9TeQ/RM1MsaJP5D/afe8WMlHkPw6RIdSbT+Q/4k45i45d5D+WYPVteVjkPznkeawaZeQ/PIKGGkNv5D97lg6mF3nkP2FyWDVhe+Q/cDPJ2HZ55D+7MpHqD4bkPz1KhPNAkuQ/gl/r86GQ5D/mygTL3ojkP7oX9LM6feQ/9NRflVF95D8Wpvk9eH/kPwMcAl10fuQ/Cva/UUd35D8uYC2RdnTkP65Bdmsof+Q/HiNJkfV35D+m5anOkoPkP4RupFy3i+Q/SQIbKIiR5D8fFvnLpIbkPzMnkKaAhOQ/DjyD6yl+5D8CVclfYoPkP7juJSs+guQ/Xot/IRuA5D8dWRjWbIrkPyEIByrEf+Q/11EX1r1+5D+LxNyE8YPkP8qftAQTjOQ/tO4ymdiQ5D+EnHt7TZDkP9vlf3c6nuQ/wN7eWlGf5D81Qyo/X6DkP+shEPuVp+Q/dA/ejz6k5D9GcgjFI6XkP/U3Ka5ksuQ/pMKjC9Wy5D+jrGSPWrbkP+8WF9UdpeQ/S4vcYi2s5D+LoJsd8rDkP7/envuft+Q/ykGqmLOx5D9ek60gx7TkP510l/7preQ/LHsvMNq55D9NqQS7Jb3kPxUzuqzJzuQ/XeFpr9Pe5D8QV+ItF+bkP+rgNWb15+Q/j25dMcTp5D+S3Si8OeLkP43WUJ0v4+Q/PjMtVjbn5D9mADSNE+rkP/0QKpnI6uQ/rQ+U/z3k5D8Ag3Z7K+bkPzltajWu3OQ/FEFvK/vi5D9HTwAJ0uDkP61+xkrs5OQ/S8V1q+To5D/DIhdL3fDkP5OV3A5z9OQ/FB1qL8rz5D/4faAls+TkPyVzH/sg9+Q/UIWnrV785D8tgS4sjf7kP/eEPRp4+uQ/gKGeAI335D8gU9PnVgjlP90mYQHxA+U/sNOXCSMO5T/2QN1b8BXlP4fTrHFDFuU/8XFtG5wX5T+ufrzg0BXlP/fMQvIDEuU//TmTbncS5T+u1flJSh/lP3ZshgXMLuU/1v0eHnsz5T8Rm5HKCznlPxRMGQZ/QOU/f5N7WCg25T+ibdIbaTTlP7SbqhLRNeU/sxqlZAwz5T9Jtl1AFCflPzfiIJkTLuU/1cHdSV0l5T+BUK0Ncy3lP+iXI6q5I+U/ge0RUkgZ5T+YHypHbxflP8DLSfJzD+U/23JoqD4Y5T9aVm1xdhflPyVcm8gXI+U/Urwiwg4l5T88lQBA7SXlP9ugQoijIuU/ZqTlpCo25T/3v+4KQi/lP60ta2UvPOU/fTRXKFc95T8BlhpplkLlP1k+KjQmN+U/dOlJbPMn5T/qNP0uXz3lPx91otIyNeU/wv21R5Q25T/0mp8sRUPlP4xD1L98TeU/Nt6bmPRJ5T9opdAXeUTlPzeHPd0qP+U/cDjxMAA55T9HUdJqVEnlP0HbFT6DWOU/L3E+4fpf5T/UVNlVJGXlP9BqNdfYYOU/wtK3nupj5T9geQRHymPlP1jxdzyzZOU/D5eEOsZr5T9T9RQHhm/lP5pYVvaJX+U/PEUqB5Zg5T+Z1+blZ1vlP7gzGVJ9WeU/SDpzT5pW5T8pUall11TlP/8crIszVeU/zhO3uIxV5T8ObrmRFFzlP5vNHvA0XOU/+aV4S3Vg5T/KqBFqDlTlP/0WERSSWOU/VjfGfhFh5T9fTq96QmjlP6lkoRM4b+U/VXwBT5Nl5T9ReCICXWTlP390hNCTb+U/2dMU8yty5T9Gk8H7+H3lPx7AaAxUh+U/qW+noHqT5T9KMkfVG5vlP4VqVYyOpOU/ctL3LHGl5T+CJjoCXajlPyKho/EXqOU/OObPyIqe5T/FvfpWp6DlPw+GblxPluU/RfVqOPqB5T9/cSVo+oPlP9WObvmGeeU/LUiUt+V+5T8tkNFW/4DlPxv/kIWkduU/Z0lrJl1k5T+4/AyhSWblP8O6sfYdZ+U/+psfewxs5T+pbXnBwW7lP7A56g6LdOU/m1B3L/p25T+o4iD0THjlP1W6vNvWgeU/4+W+N/mH5T+uxdnShYHlP3VkZzdYfeU/t1Bsb5eC5T/vhz8ZxIrlP97uC4zWd+U/ejGg6vhz5T84emlOnnzlP+bpwMfrguU/XwMFmJF65T9dZjb2znzlPzDnPM3YeuU/9saVpSyA5T9kGzZ/VIXlPwgrbsVRiuU/1++0UxWN5T/pIdCKsY3lP7q9E35hkeU/iHV+aaCK5T8Nm2GP5Z3lP7lLuWnmm+U/ce4mwfeZ5T9Wak5496TlPzWQAccYruU/Lf/wK9605T/RctBTIbLlP4492khBqOU/IG26LT+w5T8pm3oT+7flPxlULF1/wOU/OaxDvWq+5T9A+TDYmMLlP9RkL7Csx+U/ugbT9AG65T/ts7smCrXlP/cIQj63v+U/7xDl0KC85T8ySlFv1b/lP+7L0s7Wv+U/B3u7Gre75T8ANc7XRcnlP2m3bCN1uOU/nzVpppq15T9WAiwlhajlPzvhU49Xq+U/SyQweky15T+sVCYTjLLlP8CL879NveU/GO3dJ/O55T9BH0LcHLnlPxV5L/Y8tuU/LnU+7vjD5T/SHvJyIs3lP1guZhQZ2eU/HDWt0UnY5T+X+RJwR9DlPzinO4XR0eU/uz5K7G/X5T+l+stoz9rlPyRFQcDp2OU/K0vDkE3e5T/Zq3L35+/lP35sPQgS5eU/YPVLUo3Z5T/QWKRPutjlPxz7XHZZ5eU/0SwgxRzj5T9P6TeN8uDlP8DAygw16uU/2wT+f9jo5T+aoS/G2fHlP41B0+BW8+U/yqqzXX3r5T8FnaU5FurlPzkNJhC09OU/3U4U3iH35T9RTKjOQfLlP6Fis579++U//5CMeBb75T/GWtIZgQPmP9A2YKVTAeY/fgP6Xf735T/NsOk5OPflP8ZgyS9P8eU/6WXTgMjx5T9dWuVjLfDlPzlwzeQK/OU/T0OVgunz5T/6mzXZXfblPxw8n38QA+Y/C7YNreYA5j/BAgXZUg/mP9vIwsnDDOY/xE72mUEJ5j8YyJsIcfjlP70kI0Lp/+U/6I5TihsG5j80J3r5ZBXmPzMuVY68FeY/39HeDQkV5j+oaV04RB7mP/5dOezeL+Y/aSnMqpU25j9dUb1zBDvmP1GhZPy5LOY/47SroUgr5j8/dc8HPjXmP0arZWKnN+Y/uITmFAU75j+hRqXBX0HmPyBdTVgSOeY/guZrNOAr5j/AlA196TjmP7qoHdx+ROY/Jx/K7R895j9fBXEwSD/mPwpgbWBWQOY/TMgnuNdQ5j9a0nCZK0zmP9PTAaX4UeY/Dw8rj65a5j+0ksZxuVbmP8/ot+FgQuY/Ctkt0p9M5j9dHCTD/UTmP75EbQ/lRuY/QMISPLhQ5j8E3ehS02TmPy3/dTejY+Y/wDByTgl05j/jBX+efHbmP7omYpl4bOY/WaHzpDJw5j8UWj4Tc2jmP5cE8lxvcOY/WaGX7hB15j/z1fUoKW3mPyUyF/arauY/j1GSm2xt5j8X9PhDDm/mP3r0EWuBbOY/2fRjgIV55j9fmtzveHHmP+ilelOeZ+Y/6Avis4hs5j91yftKhHjmP6N4LbxWa+Y/fWzZrUt15j8Oq9obxXnmP8utFZ86guY/5X4lYM125j/l3XYK8HHmPzN/G8OQceY/paxc7uZt5j8cyLwolXHmPxNvri/rbeY/pxCxX/x95j/cB2F123fmPzBaLMRggOY/osKFc5eH5j/n7XAEYYjmP9dZr5ATh+Y/O4DjB3Z65j+LSmD/infmP25xZf91bOY/1q9yIDBw5j8aaBz2unHmP+8q0YIHbeY/33PryBd85j/wqR145XHmP3Wk2uc4buY/kkyqCRZ45j/5xYOugH3mP8Bk+wuNfOY/9C+Q6jVu5j+a9DjKp2rmP4QmWFiBcOY/iC3Rn0t65j96nVQUqoTmP449vVWch+Y/7KbHjJ+P5j9wPuIccZnmP2QbgE3IneY/ghoAS5CU5j/xQqWKKJzmP7j+4VyrqOY/yx+I7gid5j/dgZz/c6fmP1ozj71frOY/07UOK22a5j+jZbNK/qbmP4UHW4rEpuY/N8UNK52o5j8tCeQQd6zmPysy7WIYreY/W2ph9IKn5j+BuSyiG6LmP43UXEpMquY/X4MPq6Sf5j/ol2EANJHmP7hpPXzXluY/WIeeBMCK5j+wWVeAb4vmP2Cp2BARi+Y/blIEha6H5j/NcAzLRYLmPxAKDPbweeY/gyL7adCP5j/qMZiHJIrmPxxqF/+3huY/RLlY5gyY5j8QzBOELZTmP4sHj3fZneY/uLSzc9Ka5j8FM9fr05XmP4nWIoF6oOY/Gb9CptmM5j8poGGQkJDmP9b1Td5qnOY/XLx0IT6T5j9pOnmDyJfmP2W0AZjzlOY/UaYBMLqi5j8MBK8VUZjmP6j7HJnSoOY/1RxeWv2m5j8Z4pTbqqPmPzmIXlCEouY/y2L4E6Go5j8GDaZdi67mP5+1SZgGteY/y9A27jew5j+8fwPWDLvmP3TW0aXzsuY/YCoud6G75j8jrSzOzbzmPyL6IjsJweY/dH62KPC+5j8ecgu8MsbmP4CwfsbmwuY/vmi0M1vU5j9tp/DOic7mP+Ud0Pn4yuY/QWfJEnXF5j8WCUd1Fr/mP08ZsDcFvOY/l3vsVi695j+02uRsf8TmP30utLMHuuY/osE6+Be25j+2Bd6EYbXmP26i7+uPsOY/g+fnNkm45j93jWQ908HmP2N4Bq/Uw+Y/3N95DLXD5j8N6LYCS7zmPyUzd11hu+Y/PSmtQX+65j/Ho+mqi7bmP9oJoIwTvuY/65Vx8zPA5j+6JVXjpc7mP6vJ3lfaw+Y/lXAy+oi95j94feYKdLjmPzOS75aZteY/5zp0HoSo5j+mzbolqbXmPxUJvQsPuOY/usYR4li55j/V0ITSj7nmP60c0y6LsuY/K8m72iu55j9rurX0OrTmPwxJXR57sOY/Zh21Z3/B5j+tA6eNg8PmP8jqyl/BzuY/BB28fSbK5j9fRZ03BNDmP3WNA/yg0+Y/C1TGtn/J5j/RQApWc9HmP9Oh4MYU1+Y/vCDRK1bW5j86UYiufNHmPx9fUlYu2eY/PyL9IVbX5j+gEFjvpdjmP5P/bSHS1uY/wKQwe0/d5j8MEy9W+u/mP8l962N27+Y/sliyYKzl5j/ediiwItrmPyn3YEf4zuY/vCCHEyrE5j9rF82vB8TmP0aKCEdi0+Y/PDPGZYjL5j9bSq8oKcvmP1jUb2l64OY/lzBLblXc5j9ZeR/3e93mP251Hs7S5eY/lC/0tqLl5j+xwrpmW+LmP8LrPoJe6eY/q/R+TLb95j+E5JucdvPmP2fltzxBAOc/nlEdpk8C5z8+V/uHG/7mP10STlrx9uY/Bxp9uo4B5z//UoHVYP3mP73917Vd+uY/hdQK8mL15j/s1XXRofLmPw3wDjYQ8+Y/Z0tpl6z55j9DcpfU4PnmP70To2o0/uY/niPoPUP+5j/brgGfcgLnP3mxQyZWAec/t4pikBn75j+yVD6clAXnP82sp2Xi9OY/GSMeWuPp5j8xCZnjV+LmP7RCObsK2+Y/8MzDB5/I5j+/c5xqqtLmP3c+8n/3zuY/5wperZTR5j9UI98KNdfmP+4ZfemF2OY/95SJNPXe5j8ZTip9s9XmP/fXxQ0Z2OY/744iRznU5j/4HtdEktPmP41w2CkB1eY/62yw7jrR5j8+xMsgnM7mP/LeeheXvOY/6nzJWBbJ5j/SNqpNy8jmPzfaKEv21uY/24gn9mHb5j/Dzldy8+jmP71c4VXj7+Y/VKwslS7p5j9BlpZ3uePmP/3jNmNQ2uY/Lg7zHZjd5j9WgRSAvN/mP5YqXimu3eY/ABwUI9XZ5j8hPCwJ59XmP5TGCa5C1+Y/2nUJHJPY5j+6Jwm4+d3mP7QuU5mv0uY/v17MQfTN5j8DpkGSstPmP3/7DZ7mzeY/lLnTFHzO5j9Fad3q0sfmP7fAxdKiyeY/0wRUNzLF5j/EZ7TaOMvmP4zo+B2awuY/uZbHNdfM5j+SaMkrbczmP2xMT+hx2eY/JhCX+WXR5j/T1SZlOd3mP/bvkBdp4OY//wCE7Uzd5j/FOm84Y93mP6ZRIUdo2+Y/48pRNI7b5j8/YTaFJurmP9ShocSB7OY/i1paACvu5j+wmfyUCPjmPwW+HU4I8OY/UGWQKozw5j+Yk+b/8u3mP7QKfFKQ7+Y/0Nixyw/v5j81XrQXSeXmP+ExQ2Hb3OY/VnLul/3d5j8J+82r/dvmP4xmCb/91+Y/yZT4GyfV5j8M0vi3odnmPz2qbD6U0eY/Q7WaAsHo5j8ghs8rR+LmPxerIyJN5eY/ODr53jHn5j94vCJDMO7mPynP5/5XAec/1TNcrGUE5z/wSpvgUQbnPyK8ZPpGC+c/W9/tZRsR5z9RGyHwZQnnPx3QOEPWAOc/FH9HKAkI5z9FpBOKvgbnP/mehiKwC+c/GqLtMaIV5z9078T+vQ7nP4kh8IJMD+c/Mhi/n5wI5z85UUVQjw/nP4kMIhw4FOc/CKn3Ek8L5z9BWaU7IxHnP8PiG8bXGOc/e/waTMAO5z93eIXFbxPnPzLoeAnoFec/OfEyKlQZ5z9x6aRiDwrnP12wApHECuc/1k/ZnEoG5z99NG8sJwjnP4kqnZ78Cuc/QoxmNuwT5z8GsTFmHg7nP4JxmzlXI+c/vf/dsHIf5z+33vfkCxLnP8rf70gkB+c/y79bXysP5z8fylievhDnP8uJycoCCuc/YaY2o8AL5z+5d4fwyhjnPxZbiwE4H+c/L3n68C0d5z/rCYczJBnnP5HoaWOOH+c/lfE0YNwo5z/8rwH6qyvnPwSBfSN9Mec/PgnM8NMt5z+fvu6FejDnP2h2lGCwJ+c/0FlFl0ci5z9N41tx6hjnP6WR7VSxCuc/6mv2auUb5z/zeO4UIB/nP4BD1maKK+c/W2LwEAon5z8FukutxyXnPxfFB8GgNec/ebbNukA/5z/o+mMoT0DnPxL7R+2WSec/IpgDch5E5z/GxCzJZ1HnP34A4YjHTuc/J7a4jI9W5z/bAru5xFPnP4kbOaPGR+c/z78mZGVD5z/hwS1pi0vnP5B58goLR+c/e9CP6fFK5z/iTQ8Dh0jnP/SdSE0XQ+c/JsI1+MM75z9XikQy7zznP9hkhKytMec/G3LKAWY65z87qLsBjDnnP0FxEI7JOuc/mm0gHgU95z9CMFnjwjHnP8Rw2jYwMec/8KbbTcM05z/D33UmuT/nP7V9H8IFSec/hvUNgsNJ5z/Ms9NcYkfnP+ZKeu5WTec/pe3I5mw95z8USR34u0TnP8FnXvj3MOc/WCJ0U1su5z8jvtuzoiXnP5YKYfitLOc/5J40S2Yw5z/V2/DtIDjnP66S2DiLPec/RdjZkeFF5z/HwJA6mELnP4+6IAdqP+c/xJvd5Y9D5z+lM85JrErnP0VbAZoiROc/KrONpcY85z+s1l9F4TznP2yFdY0LP+c/L8OSPk1G5z/bm+CGY0/nP3krE7TsT+c/lP6k/mZT5z/SxAJJ11TnP6qEXR3pS+c/tcqDf35K5z8jo+JqelTnP6/X61byV+c/RgL9zxNU5z/AM2AsE0jnP19bZfm/Rec/Q7PV4BxX5z9Bxq08RVPnPw6GE6bXWOc/cVjhRSNb5z8rqCx1bF/nPyEvCgarZuc/GB0S7VJi5z/NsLYOimvnP9eiC0g7bec/dRlm+6xo5z8wSlIUXWfnP9RoaAs5auc/QZ+3wGha5z95BfypjlnnPxIe2w+KUuc/S+Muar9L5z8nojU1mFLnP9wpCzT/YOc/OP/QABhl5z8EGCVs3WLnP4hAjwXOY+c/pAQX3LZk5z8KNtQvmGXnPwksByYPWuc/Qr9A8zdZ5z/Nj9u5iFznP88faeXWYuc/0T92rKZf5z/0A8Ui/GnnP6peld9vYuc/nFvKhXRl5z/pYPVwJmHnP5eXcfEcYec/1BYTl25s5z9iPytxGG7nP5lF17dZZOc/EBrpsdJX5z/WjMD+LlvnP4VvHUlnXec/UPgLcFNY5z/zhMnXs1znP7KhNl34Yec/tYPJrDps5z+hkWG5Y2rnP3u+qLtHcec/8ysfxrBv5z9npg0KinrnPzJGT1yed+c/70N+/pBt5z+2IDi0GGznP/NIFWQHVuc/iATC/WFX5z9iBMS7+2HnP3DKIGMMZuc/vx6sV3dZ5z+5/FNEjFXnP5L0Bt8LW+c/jmi8dOpR5z8WAmw/TlDnP8sau6gJWOc/MCL3WAlQ5z95rf/ypVPnPzPyB2faTec/Y+ruSpFS5z9gFGPEMVnnP5+wme9IVec/1EfGhARi5z9BPSs2X2/nP4EiU9ERdec/ts0dXveI5z/yQsoxKZjnP2a0ov6roOc/5vit/tem5z/mEX8XE7XnP95CpLP5puc/bBcj17el5z9oDoUaeKPnP57DgHRbo+c/LjnwNi+h5z8kcceoDJ7nP24rZuWgruc/xSFri/an5z8Ba19V5q3nP8dOO8Zaquc/2b+k+duk5z+gmESn7avnP5swfBVJo+c/ff2xsSWi5z9YFgfu8p3nP7h4emo1pOc//BnJXume5z/TzoiV2ZvnP4pUQsKYj+c/nourcQeN5z+6+oR+MH/nP0e40jeJeuc/fld5BGxx5z9pTPF3JnrnP5feVHwtdec/Fo3/LdF+5z94RtZ264DnP+cax4uZd+c/GVx2TWtp5z8QF6QADWfnP95Hjr6xYuc/a8HLRLRl5z8VWGqdU1/nP4h+uSQ4W+c/YjiKI3Bd5z9XT7dsCW7nP+Cv2v2Ea+c/ftOZs4B25z8fm4yl33jnP4EiyvLocuc/fYRgmIZ55z8/oUTNs3jnP28oOhkRfec/lfXtKISI5z/s9ZsniJHnP3ndVCYQlOc/2OZqb0mP5z/E8/+5hI7nP3QdpUjbh+c/YJjZd9yP5z+XF+MQrJnnPzejVxDYmOc/2joC1siP5z8VvVS2LYznP5EJc7D6kec/W2zS7DyM5z+JHrsWv4jnP2N4QR5/iec/3N9PPmKP5z+CVG7AFJXnPzT/UR01juc/IpxX+4WG5z8Rdgotko7nP1vV4FQJjOc/1Dlue9eR5z/m9ZP7npznPyi0n5iRl+c/UI2aMLaT5z8DkZVg8o7nP7kY/G1mjOc/qg9XBwCM5z85UZb2vY/nP/3aHd7Yguc/5LJWY+KG5z84EPm6b3/nP4hqfeaEgec/YpA/paGG5z8V9wskc4fnPy4xf5YUg+c/b4pJJvuC5z8ApzbK6oPnP52hLLPShOc/b71cjGB75z9CdTDzbXjnP5PU7D3Fe+c/8rT1XK505z/SheUXFHbnP8OJi8Rddec/9xnJEKVz5z/W7wxK0WznP+ghgKItZec/VDFCnfpj5z/v9dxNC2rnP8YGnFOXZec/huUzerNu5z8vIM+njHjnP9v12HDSeec/HrTJvy5/5z/8Y4l3FHvnP40i06D2euc/",
          "dtype": "f8"
         },
         "yaxis": "y"
        }
       ],
       "layout": {
        "annotations": [
         {
          "font": {},
          "showarrow": false,
          "text": "variable=batch_accuracy",
          "textangle": 90,
          "x": 0.98,
          "xanchor": "left",
          "xref": "paper",
          "y": 0.2425,
          "yanchor": "middle",
          "yref": "paper"
         },
         {
          "font": {},
          "showarrow": false,
          "text": "variable=batch_train_loss",
          "textangle": 90,
          "x": 0.98,
          "xanchor": "left",
          "xref": "paper",
          "y": 0.7575000000000001,
          "yanchor": "middle",
          "yref": "paper"
         }
        ],
        "legend": {
         "tracegroupgap": 0
        },
        "template": {
         "data": {
          "bar": [
           {
            "error_x": {
             "color": "#2a3f5f"
            },
            "error_y": {
             "color": "#2a3f5f"
            },
            "marker": {
             "line": {
              "color": "#E5ECF6",
              "width": 0.5
             },
             "pattern": {
              "fillmode": "overlay",
              "size": 10,
              "solidity": 0.2
             }
            },
            "type": "bar"
           }
          ],
          "barpolar": [
           {
            "marker": {
             "line": {
              "color": "#E5ECF6",
              "width": 0.5
             },
             "pattern": {
              "fillmode": "overlay",
              "size": 10,
              "solidity": 0.2
             }
            },
            "type": "barpolar"
           }
          ],
          "carpet": [
           {
            "aaxis": {
             "endlinecolor": "#2a3f5f",
             "gridcolor": "white",
             "linecolor": "white",
             "minorgridcolor": "white",
             "startlinecolor": "#2a3f5f"
            },
            "baxis": {
             "endlinecolor": "#2a3f5f",
             "gridcolor": "white",
             "linecolor": "white",
             "minorgridcolor": "white",
             "startlinecolor": "#2a3f5f"
            },
            "type": "carpet"
           }
          ],
          "choropleth": [
           {
            "colorbar": {
             "outlinewidth": 0,
             "ticks": ""
            },
            "type": "choropleth"
           }
          ],
          "contour": [
           {
            "colorbar": {
             "outlinewidth": 0,
             "ticks": ""
            },
            "colorscale": [
             [
              0,
              "#0d0887"
             ],
             [
              0.1111111111111111,
              "#46039f"
             ],
             [
              0.2222222222222222,
              "#7201a8"
             ],
             [
              0.3333333333333333,
              "#9c179e"
             ],
             [
              0.4444444444444444,
              "#bd3786"
             ],
             [
              0.5555555555555556,
              "#d8576b"
             ],
             [
              0.6666666666666666,
              "#ed7953"
             ],
             [
              0.7777777777777778,
              "#fb9f3a"
             ],
             [
              0.8888888888888888,
              "#fdca26"
             ],
             [
              1,
              "#f0f921"
             ]
            ],
            "type": "contour"
           }
          ],
          "contourcarpet": [
           {
            "colorbar": {
             "outlinewidth": 0,
             "ticks": ""
            },
            "type": "contourcarpet"
           }
          ],
          "heatmap": [
           {
            "colorbar": {
             "outlinewidth": 0,
             "ticks": ""
            },
            "colorscale": [
             [
              0,
              "#0d0887"
             ],
             [
              0.1111111111111111,
              "#46039f"
             ],
             [
              0.2222222222222222,
              "#7201a8"
             ],
             [
              0.3333333333333333,
              "#9c179e"
             ],
             [
              0.4444444444444444,
              "#bd3786"
             ],
             [
              0.5555555555555556,
              "#d8576b"
             ],
             [
              0.6666666666666666,
              "#ed7953"
             ],
             [
              0.7777777777777778,
              "#fb9f3a"
             ],
             [
              0.8888888888888888,
              "#fdca26"
             ],
             [
              1,
              "#f0f921"
             ]
            ],
            "type": "heatmap"
           }
          ],
          "histogram": [
           {
            "marker": {
             "pattern": {
              "fillmode": "overlay",
              "size": 10,
              "solidity": 0.2
             }
            },
            "type": "histogram"
           }
          ],
          "histogram2d": [
           {
            "colorbar": {
             "outlinewidth": 0,
             "ticks": ""
            },
            "colorscale": [
             [
              0,
              "#0d0887"
             ],
             [
              0.1111111111111111,
              "#46039f"
             ],
             [
              0.2222222222222222,
              "#7201a8"
             ],
             [
              0.3333333333333333,
              "#9c179e"
             ],
             [
              0.4444444444444444,
              "#bd3786"
             ],
             [
              0.5555555555555556,
              "#d8576b"
             ],
             [
              0.6666666666666666,
              "#ed7953"
             ],
             [
              0.7777777777777778,
              "#fb9f3a"
             ],
             [
              0.8888888888888888,
              "#fdca26"
             ],
             [
              1,
              "#f0f921"
             ]
            ],
            "type": "histogram2d"
           }
          ],
          "histogram2dcontour": [
           {
            "colorbar": {
             "outlinewidth": 0,
             "ticks": ""
            },
            "colorscale": [
             [
              0,
              "#0d0887"
             ],
             [
              0.1111111111111111,
              "#46039f"
             ],
             [
              0.2222222222222222,
              "#7201a8"
             ],
             [
              0.3333333333333333,
              "#9c179e"
             ],
             [
              0.4444444444444444,
              "#bd3786"
             ],
             [
              0.5555555555555556,
              "#d8576b"
             ],
             [
              0.6666666666666666,
              "#ed7953"
             ],
             [
              0.7777777777777778,
              "#fb9f3a"
             ],
             [
              0.8888888888888888,
              "#fdca26"
             ],
             [
              1,
              "#f0f921"
             ]
            ],
            "type": "histogram2dcontour"
           }
          ],
          "mesh3d": [
           {
            "colorbar": {
             "outlinewidth": 0,
             "ticks": ""
            },
            "type": "mesh3d"
           }
          ],
          "parcoords": [
           {
            "line": {
             "colorbar": {
              "outlinewidth": 0,
              "ticks": ""
             }
            },
            "type": "parcoords"
           }
          ],
          "pie": [
           {
            "automargin": true,
            "type": "pie"
           }
          ],
          "scatter": [
           {
            "fillpattern": {
             "fillmode": "overlay",
             "size": 10,
             "solidity": 0.2
            },
            "type": "scatter"
           }
          ],
          "scatter3d": [
           {
            "line": {
             "colorbar": {
              "outlinewidth": 0,
              "ticks": ""
             }
            },
            "marker": {
             "colorbar": {
              "outlinewidth": 0,
              "ticks": ""
             }
            },
            "type": "scatter3d"
           }
          ],
          "scattercarpet": [
           {
            "marker": {
             "colorbar": {
              "outlinewidth": 0,
              "ticks": ""
             }
            },
            "type": "scattercarpet"
           }
          ],
          "scattergeo": [
           {
            "marker": {
             "colorbar": {
              "outlinewidth": 0,
              "ticks": ""
             }
            },
            "type": "scattergeo"
           }
          ],
          "scattergl": [
           {
            "marker": {
             "colorbar": {
              "outlinewidth": 0,
              "ticks": ""
             }
            },
            "type": "scattergl"
           }
          ],
          "scattermap": [
           {
            "marker": {
             "colorbar": {
              "outlinewidth": 0,
              "ticks": ""
             }
            },
            "type": "scattermap"
           }
          ],
          "scattermapbox": [
           {
            "marker": {
             "colorbar": {
              "outlinewidth": 0,
              "ticks": ""
             }
            },
            "type": "scattermapbox"
           }
          ],
          "scatterpolar": [
           {
            "marker": {
             "colorbar": {
              "outlinewidth": 0,
              "ticks": ""
             }
            },
            "type": "scatterpolar"
           }
          ],
          "scatterpolargl": [
           {
            "marker": {
             "colorbar": {
              "outlinewidth": 0,
              "ticks": ""
             }
            },
            "type": "scatterpolargl"
           }
          ],
          "scatterternary": [
           {
            "marker": {
             "colorbar": {
              "outlinewidth": 0,
              "ticks": ""
             }
            },
            "type": "scatterternary"
           }
          ],
          "surface": [
           {
            "colorbar": {
             "outlinewidth": 0,
             "ticks": ""
            },
            "colorscale": [
             [
              0,
              "#0d0887"
             ],
             [
              0.1111111111111111,
              "#46039f"
             ],
             [
              0.2222222222222222,
              "#7201a8"
             ],
             [
              0.3333333333333333,
              "#9c179e"
             ],
             [
              0.4444444444444444,
              "#bd3786"
             ],
             [
              0.5555555555555556,
              "#d8576b"
             ],
             [
              0.6666666666666666,
              "#ed7953"
             ],
             [
              0.7777777777777778,
              "#fb9f3a"
             ],
             [
              0.8888888888888888,
              "#fdca26"
             ],
             [
              1,
              "#f0f921"
             ]
            ],
            "type": "surface"
           }
          ],
          "table": [
           {
            "cells": {
             "fill": {
              "color": "#EBF0F8"
             },
             "line": {
              "color": "white"
             }
            },
            "header": {
             "fill": {
              "color": "#C8D4E3"
             },
             "line": {
              "color": "white"
             }
            },
            "type": "table"
           }
          ]
         },
         "layout": {
          "annotationdefaults": {
           "arrowcolor": "#2a3f5f",
           "arrowhead": 0,
           "arrowwidth": 1
          },
          "autotypenumbers": "strict",
          "coloraxis": {
           "colorbar": {
            "outlinewidth": 0,
            "ticks": ""
           }
          },
          "colorscale": {
           "diverging": [
            [
             0,
             "#8e0152"
            ],
            [
             0.1,
             "#c51b7d"
            ],
            [
             0.2,
             "#de77ae"
            ],
            [
             0.3,
             "#f1b6da"
            ],
            [
             0.4,
             "#fde0ef"
            ],
            [
             0.5,
             "#f7f7f7"
            ],
            [
             0.6,
             "#e6f5d0"
            ],
            [
             0.7,
             "#b8e186"
            ],
            [
             0.8,
             "#7fbc41"
            ],
            [
             0.9,
             "#4d9221"
            ],
            [
             1,
             "#276419"
            ]
           ],
           "sequential": [
            [
             0,
             "#0d0887"
            ],
            [
             0.1111111111111111,
             "#46039f"
            ],
            [
             0.2222222222222222,
             "#7201a8"
            ],
            [
             0.3333333333333333,
             "#9c179e"
            ],
            [
             0.4444444444444444,
             "#bd3786"
            ],
            [
             0.5555555555555556,
             "#d8576b"
            ],
            [
             0.6666666666666666,
             "#ed7953"
            ],
            [
             0.7777777777777778,
             "#fb9f3a"
            ],
            [
             0.8888888888888888,
             "#fdca26"
            ],
            [
             1,
             "#f0f921"
            ]
           ],
           "sequentialminus": [
            [
             0,
             "#0d0887"
            ],
            [
             0.1111111111111111,
             "#46039f"
            ],
            [
             0.2222222222222222,
             "#7201a8"
            ],
            [
             0.3333333333333333,
             "#9c179e"
            ],
            [
             0.4444444444444444,
             "#bd3786"
            ],
            [
             0.5555555555555556,
             "#d8576b"
            ],
            [
             0.6666666666666666,
             "#ed7953"
            ],
            [
             0.7777777777777778,
             "#fb9f3a"
            ],
            [
             0.8888888888888888,
             "#fdca26"
            ],
            [
             1,
             "#f0f921"
            ]
           ]
          },
          "colorway": [
           "#636efa",
           "#EF553B",
           "#00cc96",
           "#ab63fa",
           "#FFA15A",
           "#19d3f3",
           "#FF6692",
           "#B6E880",
           "#FF97FF",
           "#FECB52"
          ],
          "font": {
           "color": "#2a3f5f"
          },
          "geo": {
           "bgcolor": "white",
           "lakecolor": "white",
           "landcolor": "#E5ECF6",
           "showlakes": true,
           "showland": true,
           "subunitcolor": "white"
          },
          "hoverlabel": {
           "align": "left"
          },
          "hovermode": "closest",
          "mapbox": {
           "style": "light"
          },
          "paper_bgcolor": "white",
          "plot_bgcolor": "#E5ECF6",
          "polar": {
           "angularaxis": {
            "gridcolor": "white",
            "linecolor": "white",
            "ticks": ""
           },
           "bgcolor": "#E5ECF6",
           "radialaxis": {
            "gridcolor": "white",
            "linecolor": "white",
            "ticks": ""
           }
          },
          "scene": {
           "xaxis": {
            "backgroundcolor": "#E5ECF6",
            "gridcolor": "white",
            "gridwidth": 2,
            "linecolor": "white",
            "showbackground": true,
            "ticks": "",
            "zerolinecolor": "white"
           },
           "yaxis": {
            "backgroundcolor": "#E5ECF6",
            "gridcolor": "white",
            "gridwidth": 2,
            "linecolor": "white",
            "showbackground": true,
            "ticks": "",
            "zerolinecolor": "white"
           },
           "zaxis": {
            "backgroundcolor": "#E5ECF6",
            "gridcolor": "white",
            "gridwidth": 2,
            "linecolor": "white",
            "showbackground": true,
            "ticks": "",
            "zerolinecolor": "white"
           }
          },
          "shapedefaults": {
           "line": {
            "color": "#2a3f5f"
           }
          },
          "ternary": {
           "aaxis": {
            "gridcolor": "white",
            "linecolor": "white",
            "ticks": ""
           },
           "baxis": {
            "gridcolor": "white",
            "linecolor": "white",
            "ticks": ""
           },
           "bgcolor": "#E5ECF6",
           "caxis": {
            "gridcolor": "white",
            "linecolor": "white",
            "ticks": ""
           }
          },
          "title": {
           "x": 0.05
          },
          "xaxis": {
           "automargin": true,
           "gridcolor": "white",
           "linecolor": "white",
           "ticks": "",
           "title": {
            "standoff": 15
           },
           "zerolinecolor": "white",
           "zerolinewidth": 2
          },
          "yaxis": {
           "automargin": true,
           "gridcolor": "white",
           "linecolor": "white",
           "ticks": "",
           "title": {
            "standoff": 15
           },
           "zerolinecolor": "white",
           "zerolinewidth": 2
          }
         }
        },
        "title": {
         "text": "batch metrics"
        },
        "xaxis": {
         "anchor": "y",
         "domain": [
          0,
          0.98
         ],
         "title": {
          "text": "step"
         }
        },
        "xaxis2": {
         "anchor": "y2",
         "domain": [
          0,
          0.98
         ],
         "matches": "x",
         "showticklabels": false
        },
        "yaxis": {
         "anchor": "x",
         "domain": [
          0,
          0.485
         ],
         "title": {
          "text": "value"
         }
        },
        "yaxis2": {
         "anchor": "x2",
         "domain": [
          0.515,
          1
         ],
         "title": {
          "text": "value"
         }
        }
       }
      }
     },
     "metadata": {},
     "output_type": "display_data"
    },
    {
     "data": {
      "application/vnd.plotly.v1+json": {
       "config": {
        "plotlyServerURL": "https://plot.ly"
       },
       "data": [
        {
         "hovertemplate": "variable=train_epoch_loss<br>step=%{x}<br>value=%{y}<extra></extra>",
         "legendgroup": "train_epoch_loss",
         "line": {
          "color": "#636efa",
          "dash": "solid"
         },
         "marker": {
          "symbol": "circle"
         },
         "mode": "lines",
         "name": "train_epoch_loss",
         "orientation": "v",
         "showlegend": true,
         "type": "scatter",
         "x": {
          "bdata": "GQAzAE0AZwCBAJsAtQDPAOkAAwEdATcBUQFrAYUBnwG5AdMB7QEHAiECOwJVAm8CiQKjAr0C1wLxAgsDJQM/A1kDcwONA6cDwQPbA/UDDwQpBEMEXQR3BJEEqwTFBN8E+QQTBS0FRwVhBXsFlQWvBckF4wX9BRcG",
          "dtype": "i2"
         },
         "xaxis": "x4",
         "y": {
          "bdata": "dmInpujiBUDsxE7M2jsFQJ7YiX3CAAVAYid24iDOBEB2YicGna4EQNmJnUjSgQRAAAAAMGFcBEDFTux0m04EQDuxE0stSARAxU7sdPgUBEAndmJXM+gDQHZiJ4bRwwNAT+zEPm+9A0CxEzuBG6kDQBQ7sZOMlgNAAAAA0ARZA0CKndgZZFIDQMVO7LTZMwNAsRM70eoeA0BP7MQuBQ8DQMVO7BQyBANAntiJnRoKA0AndmL3RvcCQCd2Yqcl2gJAT+zEbtvLAkCKndiJFMACQAAAAGBsswJAFDux01isAkCxEzuBHpQCQNmJnajyjwJA2YmdKOGHAkAndmJXfYECQIqd2Ol2egJA2YmdqLFzAkDsxE4MxWoCQCd2YkcNWgJAdmInNpRTAkDFTuwEkD8CQE/sxO6IOQJAT+zE7o88AkDsxE5MzzYCQGIndtLyKwJA2Ymd6FsvAkDsxE58PisCQDuxEyvtHwJAntiJbVopAkAndmKX0SYCQGIndsKIIgJA2YmdKJwcAkBP7MTuehECQGIndiKrDwJAxU7sxKMJAkDsxE6MOwkCQHZiJ8ZrBQJAT+zEPigCAkDZiZ0YU/sBQNmJnZhh+gFAAAAA0Ar4AUAUO7ED3PoBQE/sxI7OAAJA",
          "dtype": "f8"
         },
         "yaxis": "y4"
        },
        {
         "hovertemplate": "variable=train_epoch_accuracy<br>step=%{x}<br>value=%{y}<extra></extra>",
         "legendgroup": "train_epoch_accuracy",
         "line": {
          "color": "#EF553B",
          "dash": "solid"
         },
         "marker": {
          "symbol": "circle"
         },
         "mode": "lines",
         "name": "train_epoch_accuracy",
         "orientation": "v",
         "showlegend": true,
         "type": "scatter",
         "x": {
          "bdata": "GQAzAE0AZwCBAJsAtQDPAOkAAwEdATcBUQFrAYUBnwG5AdMB7QEHAiECOwJVAm8CiQKjAr0C1wLxAgsDJQM/A1kDcwONA6cDwQPbA/UDDwQpBEMEXQR3BJEEqwTFBN8E+QQTBS0FRwVhBXsFlQWvBckF4wX9BRcG",
          "dtype": "i2"
         },
         "xaxis": "x3",
         "y": {
          "bdata": "r+maruka0D/UNV3TNd3UP5zDOZzD2dY/f/VXf/V32D/v7u7u7k7ZP4dzOIdzGNs/qpVaqZUa3D9cvuVbvmXcP4If+IEfmNw/siiLsihL3j86nMM5nKPfP1ZVVVVVZeA/13RN13R94D+SG7mRG8ngP7y7u7u7C+E/8y3f8i0f4j8IfuAHfjDiP0Mv9EIvpOI/j/EYj/EI4z+xEzuxE0vjP6y/+qu/euM/R27kRm5U4z//6q/+6p/jPwZpkAZpEOQ/XtM1XdNF5D/KoizKonzkP2VRFmVRtuQ/Mh7jMR7T5D9LrdRKrTTlP8VO7MROTOU/0Qu90Atd5T8CKqACKoDlP1ABFVABleU/4RzO4Ry+5T8O0iAN0tDlPwy90Au9IOY/DL3QC70w5j+sv/qrv3rmP2ZmZmZmluY/1l/91V+N5j8BFVABFaDmP9Q1XdM1zeY/dU3XdE3H5j/VSq3USs3mP+qaruma/uY/sRM7sRPb5j8EP/ADP+DmP6qVWqmV6uY/7tme7dkO5z+QBmmQBinnP4EKqIAKOOc/3t3d3d1N5z90OIdzOFfnP5VFWZRFaec/0Qu90Att5z9O13RN14TnP/VXf/VXj+c/1DVd0zWN5z9iJ3ZiJ4bnP6y/+qu/auc/",
          "dtype": "f8"
         },
         "yaxis": "y3"
        },
        {
         "hovertemplate": "variable=validation_loss<br>step=%{x}<br>value=%{y}<extra></extra>",
         "legendgroup": "validation_loss",
         "line": {
          "color": "#00cc96",
          "dash": "solid"
         },
         "marker": {
          "symbol": "circle"
         },
         "mode": "lines",
         "name": "validation_loss",
         "orientation": "v",
         "showlegend": true,
         "type": "scatter",
         "x": {
          "bdata": "GQAzAE0AZwCBAJsAtQDPAOkAAwEdATcBUQFrAYUBnwG5AdMB7QEHAiECOwJVAm8CiQKjAr0C1wLxAgsDJQM/A1kDcwONA6cDwQPbA/UDDwQpBEMEXQR3BJEEqwTFBN8E+QQTBS0FRwVhBXsFlQWvBckF4wX9BRcG",
          "dtype": "i2"
         },
         "xaxis": "x2",
         "y": {
          "bdata": "SZIkiQh9BUBu27btjUkFQG7btg0aHgVAJUmShKkkBUAAAACAxgIFQLdt2xaY4wRAbtu2zW7fBEBJkiRJ+bEEQAAAAIAH6QRAkiRJMvquBEAlSZLkQLkEQCVJkmS9fwRASZIkiZp2BEDbtm07q4wEQAAAAMD7eARAJUmSxGptBEBJkiRpEmwEQEmSJEnRUgRASZIkSRxeBEAlSZJE44EEQG7bts0pZgRAkiRJMhlEBEDbtm2bmV0EQCVJkmTsTARASZIkyexjBEAAAACAg2YEQNu2bTvlWARAbtu2TUdRBEBu27bt8k8EQG7bti0DWQRAt23blvk8BEDbtm2bmVkEQNu2bbv0TgRA27ZtO6duBEC3bdt2QFMEQCVJkoR2UQRAAAAAoF9BBEBJkiSJMzgEQEmSJMmjQgRA27ZtG2dZBEAlSZLkKkkEQG7btu0mOQRAt23b1kBFBEBu27Yt5UYEQNu2bTsNNwRAJUmSBHhIBEAlSZIEdV8EQAAAAECmTARA27ZtWy4yBEBJkiSJPU0EQLdt29ZlQwRAAAAAYMM9BEAAAACgu1kEQNu2bTtqTwRAkiRJUq9RBEBJkiRpPFoEQCVJkmTGTQRASZIkiZdXBEAAAADAfEwEQNu2bZuIaARA",
          "dtype": "f8"
         },
         "yaxis": "y2"
        },
        {
         "hovertemplate": "variable=validation_accuracy<br>step=%{x}<br>value=%{y}<extra></extra>",
         "legendgroup": "validation_accuracy",
         "line": {
          "color": "#ab63fa",
          "dash": "solid"
         },
         "marker": {
          "symbol": "circle"
         },
         "mode": "lines",
         "name": "validation_accuracy",
         "orientation": "v",
         "showlegend": true,
         "type": "scatter",
         "x": {
          "bdata": "GQAzAE0AZwCBAJsAtQDPAOkAAwEdATcBUQFrAYUBnwG5AdMB7QEHAiECOwJVAm8CiQKjAr0C1wLxAgsDJQM/A1kDcwONA6cDwQPbA/UDDwQpBEMEXQR3BJEEqwTFBN8E+QQTBS0FRwVhBXsFlQWvBckF4wX9BRcG",
          "dtype": "i2"
         },
         "xaxis": "x",
         "y": {
          "bdata": "iKC3G3gI0z9SEUtFLNXUP8kP7wuJfNU/k4CCNT2J1T/V77klTv3WP0eITlRtxNc/k4CCNT3J1z9jrvMfNabZP1IRS0UsVdc/vYbyGspr2T8366V5ZLPYP2vR4Hi21to/exe7Krl32z9vN/AQ9DbaP72G8hrK69o/MoWW4SZT2z/p8nGYlC7bP+nycZiUbtw/kBpznf/o2z9XzigGcKXaP5Aac53/qNs/9tI8slmv3D/JZr00j+zbP9msl+aRjdw/V84oBnCl2z+9hvIaymvbPzdCdKJq49s/tWMFwkg73D/RiaqNEF3cP+nycZiUrts/U2gZbjLF3D+A1Jjr/MfbPzdCdKJqI9w/2ayX5pEN2z/ybC0aHE/cP8lmvTSPLNw/jbRjBcLI3D/uBh6C3i7dP2Ou8x81Ztw/jbRjBcLI2z/BQ9DbDTzcPzdCdKJq49w/3ml1p9Wd3D9jrvMfNWbcPzv/UWOuM90/MtxkCi3D3D+A1Jjr/IfbP8lmvTSPLNw/cI6+Ofpm3T+d+j23xKncPzLcZAotg9w/DpPS5eOw3D8K1vQkoODbP9ZGiE5ULdw/F7a/PmUh3D83QnSiauPbP2hr0eB4Ntw/J/yZ8GfC2z8/vC8k8oPcPzdCdKJqY9s/",
          "dtype": "f8"
         },
         "yaxis": "y"
        }
       ],
       "layout": {
        "annotations": [
         {
          "font": {},
          "showarrow": false,
          "text": "variable=validation_accuracy",
          "textangle": 90,
          "x": 0.98,
          "xanchor": "left",
          "xref": "paper",
          "y": 0.11375,
          "yanchor": "middle",
          "yref": "paper"
         },
         {
          "font": {},
          "showarrow": false,
          "text": "variable=validation_loss",
          "textangle": 90,
          "x": 0.98,
          "xanchor": "left",
          "xref": "paper",
          "y": 0.37124999999999997,
          "yanchor": "middle",
          "yref": "paper"
         },
         {
          "font": {},
          "showarrow": false,
          "text": "variable=train_epoch_accuracy",
          "textangle": 90,
          "x": 0.98,
          "xanchor": "left",
          "xref": "paper",
          "y": 0.62875,
          "yanchor": "middle",
          "yref": "paper"
         },
         {
          "font": {},
          "showarrow": false,
          "text": "variable=train_epoch_loss",
          "textangle": 90,
          "x": 0.98,
          "xanchor": "left",
          "xref": "paper",
          "y": 0.88625,
          "yanchor": "middle",
          "yref": "paper"
         }
        ],
        "legend": {
         "title": {
          "text": "variable"
         },
         "tracegroupgap": 0
        },
        "template": {
         "data": {
          "bar": [
           {
            "error_x": {
             "color": "#2a3f5f"
            },
            "error_y": {
             "color": "#2a3f5f"
            },
            "marker": {
             "line": {
              "color": "#E5ECF6",
              "width": 0.5
             },
             "pattern": {
              "fillmode": "overlay",
              "size": 10,
              "solidity": 0.2
             }
            },
            "type": "bar"
           }
          ],
          "barpolar": [
           {
            "marker": {
             "line": {
              "color": "#E5ECF6",
              "width": 0.5
             },
             "pattern": {
              "fillmode": "overlay",
              "size": 10,
              "solidity": 0.2
             }
            },
            "type": "barpolar"
           }
          ],
          "carpet": [
           {
            "aaxis": {
             "endlinecolor": "#2a3f5f",
             "gridcolor": "white",
             "linecolor": "white",
             "minorgridcolor": "white",
             "startlinecolor": "#2a3f5f"
            },
            "baxis": {
             "endlinecolor": "#2a3f5f",
             "gridcolor": "white",
             "linecolor": "white",
             "minorgridcolor": "white",
             "startlinecolor": "#2a3f5f"
            },
            "type": "carpet"
           }
          ],
          "choropleth": [
           {
            "colorbar": {
             "outlinewidth": 0,
             "ticks": ""
            },
            "type": "choropleth"
           }
          ],
          "contour": [
           {
            "colorbar": {
             "outlinewidth": 0,
             "ticks": ""
            },
            "colorscale": [
             [
              0,
              "#0d0887"
             ],
             [
              0.1111111111111111,
              "#46039f"
             ],
             [
              0.2222222222222222,
              "#7201a8"
             ],
             [
              0.3333333333333333,
              "#9c179e"
             ],
             [
              0.4444444444444444,
              "#bd3786"
             ],
             [
              0.5555555555555556,
              "#d8576b"
             ],
             [
              0.6666666666666666,
              "#ed7953"
             ],
             [
              0.7777777777777778,
              "#fb9f3a"
             ],
             [
              0.8888888888888888,
              "#fdca26"
             ],
             [
              1,
              "#f0f921"
             ]
            ],
            "type": "contour"
           }
          ],
          "contourcarpet": [
           {
            "colorbar": {
             "outlinewidth": 0,
             "ticks": ""
            },
            "type": "contourcarpet"
           }
          ],
          "heatmap": [
           {
            "colorbar": {
             "outlinewidth": 0,
             "ticks": ""
            },
            "colorscale": [
             [
              0,
              "#0d0887"
             ],
             [
              0.1111111111111111,
              "#46039f"
             ],
             [
              0.2222222222222222,
              "#7201a8"
             ],
             [
              0.3333333333333333,
              "#9c179e"
             ],
             [
              0.4444444444444444,
              "#bd3786"
             ],
             [
              0.5555555555555556,
              "#d8576b"
             ],
             [
              0.6666666666666666,
              "#ed7953"
             ],
             [
              0.7777777777777778,
              "#fb9f3a"
             ],
             [
              0.8888888888888888,
              "#fdca26"
             ],
             [
              1,
              "#f0f921"
             ]
            ],
            "type": "heatmap"
           }
          ],
          "histogram": [
           {
            "marker": {
             "pattern": {
              "fillmode": "overlay",
              "size": 10,
              "solidity": 0.2
             }
            },
            "type": "histogram"
           }
          ],
          "histogram2d": [
           {
            "colorbar": {
             "outlinewidth": 0,
             "ticks": ""
            },
            "colorscale": [
             [
              0,
              "#0d0887"
             ],
             [
              0.1111111111111111,
              "#46039f"
             ],
             [
              0.2222222222222222,
              "#7201a8"
             ],
             [
              0.3333333333333333,
              "#9c179e"
             ],
             [
              0.4444444444444444,
              "#bd3786"
             ],
             [
              0.5555555555555556,
              "#d8576b"
             ],
             [
              0.6666666666666666,
              "#ed7953"
             ],
             [
              0.7777777777777778,
              "#fb9f3a"
             ],
             [
              0.8888888888888888,
              "#fdca26"
             ],
             [
              1,
              "#f0f921"
             ]
            ],
            "type": "histogram2d"
           }
          ],
          "histogram2dcontour": [
           {
            "colorbar": {
             "outlinewidth": 0,
             "ticks": ""
            },
            "colorscale": [
             [
              0,
              "#0d0887"
             ],
             [
              0.1111111111111111,
              "#46039f"
             ],
             [
              0.2222222222222222,
              "#7201a8"
             ],
             [
              0.3333333333333333,
              "#9c179e"
             ],
             [
              0.4444444444444444,
              "#bd3786"
             ],
             [
              0.5555555555555556,
              "#d8576b"
             ],
             [
              0.6666666666666666,
              "#ed7953"
             ],
             [
              0.7777777777777778,
              "#fb9f3a"
             ],
             [
              0.8888888888888888,
              "#fdca26"
             ],
             [
              1,
              "#f0f921"
             ]
            ],
            "type": "histogram2dcontour"
           }
          ],
          "mesh3d": [
           {
            "colorbar": {
             "outlinewidth": 0,
             "ticks": ""
            },
            "type": "mesh3d"
           }
          ],
          "parcoords": [
           {
            "line": {
             "colorbar": {
              "outlinewidth": 0,
              "ticks": ""
             }
            },
            "type": "parcoords"
           }
          ],
          "pie": [
           {
            "automargin": true,
            "type": "pie"
           }
          ],
          "scatter": [
           {
            "fillpattern": {
             "fillmode": "overlay",
             "size": 10,
             "solidity": 0.2
            },
            "type": "scatter"
           }
          ],
          "scatter3d": [
           {
            "line": {
             "colorbar": {
              "outlinewidth": 0,
              "ticks": ""
             }
            },
            "marker": {
             "colorbar": {
              "outlinewidth": 0,
              "ticks": ""
             }
            },
            "type": "scatter3d"
           }
          ],
          "scattercarpet": [
           {
            "marker": {
             "colorbar": {
              "outlinewidth": 0,
              "ticks": ""
             }
            },
            "type": "scattercarpet"
           }
          ],
          "scattergeo": [
           {
            "marker": {
             "colorbar": {
              "outlinewidth": 0,
              "ticks": ""
             }
            },
            "type": "scattergeo"
           }
          ],
          "scattergl": [
           {
            "marker": {
             "colorbar": {
              "outlinewidth": 0,
              "ticks": ""
             }
            },
            "type": "scattergl"
           }
          ],
          "scattermap": [
           {
            "marker": {
             "colorbar": {
              "outlinewidth": 0,
              "ticks": ""
             }
            },
            "type": "scattermap"
           }
          ],
          "scattermapbox": [
           {
            "marker": {
             "colorbar": {
              "outlinewidth": 0,
              "ticks": ""
             }
            },
            "type": "scattermapbox"
           }
          ],
          "scatterpolar": [
           {
            "marker": {
             "colorbar": {
              "outlinewidth": 0,
              "ticks": ""
             }
            },
            "type": "scatterpolar"
           }
          ],
          "scatterpolargl": [
           {
            "marker": {
             "colorbar": {
              "outlinewidth": 0,
              "ticks": ""
             }
            },
            "type": "scatterpolargl"
           }
          ],
          "scatterternary": [
           {
            "marker": {
             "colorbar": {
              "outlinewidth": 0,
              "ticks": ""
             }
            },
            "type": "scatterternary"
           }
          ],
          "surface": [
           {
            "colorbar": {
             "outlinewidth": 0,
             "ticks": ""
            },
            "colorscale": [
             [
              0,
              "#0d0887"
             ],
             [
              0.1111111111111111,
              "#46039f"
             ],
             [
              0.2222222222222222,
              "#7201a8"
             ],
             [
              0.3333333333333333,
              "#9c179e"
             ],
             [
              0.4444444444444444,
              "#bd3786"
             ],
             [
              0.5555555555555556,
              "#d8576b"
             ],
             [
              0.6666666666666666,
              "#ed7953"
             ],
             [
              0.7777777777777778,
              "#fb9f3a"
             ],
             [
              0.8888888888888888,
              "#fdca26"
             ],
             [
              1,
              "#f0f921"
             ]
            ],
            "type": "surface"
           }
          ],
          "table": [
           {
            "cells": {
             "fill": {
              "color": "#EBF0F8"
             },
             "line": {
              "color": "white"
             }
            },
            "header": {
             "fill": {
              "color": "#C8D4E3"
             },
             "line": {
              "color": "white"
             }
            },
            "type": "table"
           }
          ]
         },
         "layout": {
          "annotationdefaults": {
           "arrowcolor": "#2a3f5f",
           "arrowhead": 0,
           "arrowwidth": 1
          },
          "autotypenumbers": "strict",
          "coloraxis": {
           "colorbar": {
            "outlinewidth": 0,
            "ticks": ""
           }
          },
          "colorscale": {
           "diverging": [
            [
             0,
             "#8e0152"
            ],
            [
             0.1,
             "#c51b7d"
            ],
            [
             0.2,
             "#de77ae"
            ],
            [
             0.3,
             "#f1b6da"
            ],
            [
             0.4,
             "#fde0ef"
            ],
            [
             0.5,
             "#f7f7f7"
            ],
            [
             0.6,
             "#e6f5d0"
            ],
            [
             0.7,
             "#b8e186"
            ],
            [
             0.8,
             "#7fbc41"
            ],
            [
             0.9,
             "#4d9221"
            ],
            [
             1,
             "#276419"
            ]
           ],
           "sequential": [
            [
             0,
             "#0d0887"
            ],
            [
             0.1111111111111111,
             "#46039f"
            ],
            [
             0.2222222222222222,
             "#7201a8"
            ],
            [
             0.3333333333333333,
             "#9c179e"
            ],
            [
             0.4444444444444444,
             "#bd3786"
            ],
            [
             0.5555555555555556,
             "#d8576b"
            ],
            [
             0.6666666666666666,
             "#ed7953"
            ],
            [
             0.7777777777777778,
             "#fb9f3a"
            ],
            [
             0.8888888888888888,
             "#fdca26"
            ],
            [
             1,
             "#f0f921"
            ]
           ],
           "sequentialminus": [
            [
             0,
             "#0d0887"
            ],
            [
             0.1111111111111111,
             "#46039f"
            ],
            [
             0.2222222222222222,
             "#7201a8"
            ],
            [
             0.3333333333333333,
             "#9c179e"
            ],
            [
             0.4444444444444444,
             "#bd3786"
            ],
            [
             0.5555555555555556,
             "#d8576b"
            ],
            [
             0.6666666666666666,
             "#ed7953"
            ],
            [
             0.7777777777777778,
             "#fb9f3a"
            ],
            [
             0.8888888888888888,
             "#fdca26"
            ],
            [
             1,
             "#f0f921"
            ]
           ]
          },
          "colorway": [
           "#636efa",
           "#EF553B",
           "#00cc96",
           "#ab63fa",
           "#FFA15A",
           "#19d3f3",
           "#FF6692",
           "#B6E880",
           "#FF97FF",
           "#FECB52"
          ],
          "font": {
           "color": "#2a3f5f"
          },
          "geo": {
           "bgcolor": "white",
           "lakecolor": "white",
           "landcolor": "#E5ECF6",
           "showlakes": true,
           "showland": true,
           "subunitcolor": "white"
          },
          "hoverlabel": {
           "align": "left"
          },
          "hovermode": "closest",
          "mapbox": {
           "style": "light"
          },
          "paper_bgcolor": "white",
          "plot_bgcolor": "#E5ECF6",
          "polar": {
           "angularaxis": {
            "gridcolor": "white",
            "linecolor": "white",
            "ticks": ""
           },
           "bgcolor": "#E5ECF6",
           "radialaxis": {
            "gridcolor": "white",
            "linecolor": "white",
            "ticks": ""
           }
          },
          "scene": {
           "xaxis": {
            "backgroundcolor": "#E5ECF6",
            "gridcolor": "white",
            "gridwidth": 2,
            "linecolor": "white",
            "showbackground": true,
            "ticks": "",
            "zerolinecolor": "white"
           },
           "yaxis": {
            "backgroundcolor": "#E5ECF6",
            "gridcolor": "white",
            "gridwidth": 2,
            "linecolor": "white",
            "showbackground": true,
            "ticks": "",
            "zerolinecolor": "white"
           },
           "zaxis": {
            "backgroundcolor": "#E5ECF6",
            "gridcolor": "white",
            "gridwidth": 2,
            "linecolor": "white",
            "showbackground": true,
            "ticks": "",
            "zerolinecolor": "white"
           }
          },
          "shapedefaults": {
           "line": {
            "color": "#2a3f5f"
           }
          },
          "ternary": {
           "aaxis": {
            "gridcolor": "white",
            "linecolor": "white",
            "ticks": ""
           },
           "baxis": {
            "gridcolor": "white",
            "linecolor": "white",
            "ticks": ""
           },
           "bgcolor": "#E5ECF6",
           "caxis": {
            "gridcolor": "white",
            "linecolor": "white",
            "ticks": ""
           }
          },
          "title": {
           "x": 0.05
          },
          "xaxis": {
           "automargin": true,
           "gridcolor": "white",
           "linecolor": "white",
           "ticks": "",
           "title": {
            "standoff": 15
           },
           "zerolinecolor": "white",
           "zerolinewidth": 2
          },
          "yaxis": {
           "automargin": true,
           "gridcolor": "white",
           "linecolor": "white",
           "ticks": "",
           "title": {
            "standoff": 15
           },
           "zerolinecolor": "white",
           "zerolinewidth": 2
          }
         }
        },
        "title": {
         "text": "epoch metrics"
        },
        "xaxis": {
         "anchor": "y",
         "domain": [
          0,
          0.98
         ],
         "title": {
          "text": "step"
         }
        },
        "xaxis2": {
         "anchor": "y2",
         "domain": [
          0,
          0.98
         ],
         "matches": "x",
         "showticklabels": false
        },
        "xaxis3": {
         "anchor": "y3",
         "domain": [
          0,
          0.98
         ],
         "matches": "x",
         "showticklabels": false
        },
        "xaxis4": {
         "anchor": "y4",
         "domain": [
          0,
          0.98
         ],
         "matches": "x",
         "showticklabels": false
        },
        "yaxis": {
         "anchor": "x",
         "domain": [
          0,
          0.2275
         ],
         "title": {
          "text": "value"
         }
        },
        "yaxis2": {
         "anchor": "x2",
         "domain": [
          0.2575,
          0.485
         ],
         "title": {
          "text": "value"
         }
        },
        "yaxis3": {
         "anchor": "x3",
         "domain": [
          0.515,
          0.7425
         ],
         "title": {
          "text": "value"
         }
        },
        "yaxis4": {
         "anchor": "x4",
         "domain": [
          0.7725,
          1
         ],
         "title": {
          "text": "value"
         }
        }
       }
      }
     },
     "metadata": {},
     "output_type": "display_data"
    },
    {
     "name": "stdout",
     "output_type": "stream",
     "text": [
      "=========================\n",
      "training: 3\n"
     ]
    },
    {
     "data": {
      "application/vnd.jupyter.widget-view+json": {
       "model_id": "d36288b18e8d4600b095e9ff7887f8d9",
       "version_major": 2,
       "version_minor": 0
      },
      "text/plain": [
       "Output()"
      ]
     },
     "metadata": {},
     "output_type": "display_data"
    },
    {
     "data": {
      "text/html": [
       "<pre style=\"white-space:pre;overflow-x:auto;line-height:normal;font-family:Menlo,'DejaVu Sans Mono',consolas,'Courier New',monospace\"></pre>\n"
      ],
      "text/plain": []
     },
     "metadata": {},
     "output_type": "display_data"
    },
    {
     "data": {
      "application/vnd.plotly.v1+json": {
       "config": {
        "plotlyServerURL": "https://plot.ly"
       },
       "data": [
        {
         "hovertemplate": "variable=batch_train_loss<br>step=%{x}<br>value=%{y}<extra></extra>",
         "legendgroup": "",
         "marker": {
          "color": "#636efa",
          "symbol": "circle"
         },
         "mode": "markers",
         "name": "",
         "showlegend": false,
         "type": "scattergl",
         "x": {
          "bdata": "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",
          "dtype": "i2"
         },
         "xaxis": "x2",
         "y": {
          "bdata": "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",
          "dtype": "f8"
         },
         "yaxis": "y2"
        },
        {
         "hovertemplate": "<b>Exponentially Weighted mean trendline</b><br><br>variable=batch_train_loss<br>step=%{x}<br>value=%{y} <b>(trend)</b><extra></extra>",
         "legendgroup": "",
         "line": {
          "color": "red"
         },
         "marker": {
          "color": "#636efa",
          "symbol": "circle"
         },
         "mode": "lines",
         "name": "",
         "showlegend": false,
         "type": "scattergl",
         "x": {
          "bdata": "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",
          "dtype": "i2"
         },
         "xaxis": "x2",
         "y": {
          "bdata": "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",
          "dtype": "f8"
         },
         "yaxis": "y2"
        },
        {
         "hovertemplate": "variable=batch_accuracy<br>step=%{x}<br>value=%{y}<extra></extra>",
         "legendgroup": "",
         "marker": {
          "color": "#636efa",
          "symbol": "circle"
         },
         "mode": "markers",
         "name": "",
         "showlegend": false,
         "type": "scattergl",
         "x": {
          "bdata": "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",
          "dtype": "i2"
         },
         "xaxis": "x",
         "y": {
          "bdata": "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",
          "dtype": "f8"
         },
         "yaxis": "y"
        },
        {
         "hovertemplate": "<b>Exponentially Weighted mean trendline</b><br><br>variable=batch_accuracy<br>step=%{x}<br>value=%{y} <b>(trend)</b><extra></extra>",
         "legendgroup": "",
         "line": {
          "color": "red"
         },
         "marker": {
          "color": "#636efa",
          "symbol": "circle"
         },
         "mode": "lines",
         "name": "",
         "showlegend": false,
         "type": "scattergl",
         "x": {
          "bdata": "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",
          "dtype": "i2"
         },
         "xaxis": "x",
         "y": {
          "bdata": "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",
          "dtype": "f8"
         },
         "yaxis": "y"
        }
       ],
       "layout": {
        "annotations": [
         {
          "font": {},
          "showarrow": false,
          "text": "variable=batch_accuracy",
          "textangle": 90,
          "x": 0.98,
          "xanchor": "left",
          "xref": "paper",
          "y": 0.2425,
          "yanchor": "middle",
          "yref": "paper"
         },
         {
          "font": {},
          "showarrow": false,
          "text": "variable=batch_train_loss",
          "textangle": 90,
          "x": 0.98,
          "xanchor": "left",
          "xref": "paper",
          "y": 0.7575000000000001,
          "yanchor": "middle",
          "yref": "paper"
         }
        ],
        "legend": {
         "tracegroupgap": 0
        },
        "template": {
         "data": {
          "bar": [
           {
            "error_x": {
             "color": "#2a3f5f"
            },
            "error_y": {
             "color": "#2a3f5f"
            },
            "marker": {
             "line": {
              "color": "#E5ECF6",
              "width": 0.5
             },
             "pattern": {
              "fillmode": "overlay",
              "size": 10,
              "solidity": 0.2
             }
            },
            "type": "bar"
           }
          ],
          "barpolar": [
           {
            "marker": {
             "line": {
              "color": "#E5ECF6",
              "width": 0.5
             },
             "pattern": {
              "fillmode": "overlay",
              "size": 10,
              "solidity": 0.2
             }
            },
            "type": "barpolar"
           }
          ],
          "carpet": [
           {
            "aaxis": {
             "endlinecolor": "#2a3f5f",
             "gridcolor": "white",
             "linecolor": "white",
             "minorgridcolor": "white",
             "startlinecolor": "#2a3f5f"
            },
            "baxis": {
             "endlinecolor": "#2a3f5f",
             "gridcolor": "white",
             "linecolor": "white",
             "minorgridcolor": "white",
             "startlinecolor": "#2a3f5f"
            },
            "type": "carpet"
           }
          ],
          "choropleth": [
           {
            "colorbar": {
             "outlinewidth": 0,
             "ticks": ""
            },
            "type": "choropleth"
           }
          ],
          "contour": [
           {
            "colorbar": {
             "outlinewidth": 0,
             "ticks": ""
            },
            "colorscale": [
             [
              0,
              "#0d0887"
             ],
             [
              0.1111111111111111,
              "#46039f"
             ],
             [
              0.2222222222222222,
              "#7201a8"
             ],
             [
              0.3333333333333333,
              "#9c179e"
             ],
             [
              0.4444444444444444,
              "#bd3786"
             ],
             [
              0.5555555555555556,
              "#d8576b"
             ],
             [
              0.6666666666666666,
              "#ed7953"
             ],
             [
              0.7777777777777778,
              "#fb9f3a"
             ],
             [
              0.8888888888888888,
              "#fdca26"
             ],
             [
              1,
              "#f0f921"
             ]
            ],
            "type": "contour"
           }
          ],
          "contourcarpet": [
           {
            "colorbar": {
             "outlinewidth": 0,
             "ticks": ""
            },
            "type": "contourcarpet"
           }
          ],
          "heatmap": [
           {
            "colorbar": {
             "outlinewidth": 0,
             "ticks": ""
            },
            "colorscale": [
             [
              0,
              "#0d0887"
             ],
             [
              0.1111111111111111,
              "#46039f"
             ],
             [
              0.2222222222222222,
              "#7201a8"
             ],
             [
              0.3333333333333333,
              "#9c179e"
             ],
             [
              0.4444444444444444,
              "#bd3786"
             ],
             [
              0.5555555555555556,
              "#d8576b"
             ],
             [
              0.6666666666666666,
              "#ed7953"
             ],
             [
              0.7777777777777778,
              "#fb9f3a"
             ],
             [
              0.8888888888888888,
              "#fdca26"
             ],
             [
              1,
              "#f0f921"
             ]
            ],
            "type": "heatmap"
           }
          ],
          "histogram": [
           {
            "marker": {
             "pattern": {
              "fillmode": "overlay",
              "size": 10,
              "solidity": 0.2
             }
            },
            "type": "histogram"
           }
          ],
          "histogram2d": [
           {
            "colorbar": {
             "outlinewidth": 0,
             "ticks": ""
            },
            "colorscale": [
             [
              0,
              "#0d0887"
             ],
             [
              0.1111111111111111,
              "#46039f"
             ],
             [
              0.2222222222222222,
              "#7201a8"
             ],
             [
              0.3333333333333333,
              "#9c179e"
             ],
             [
              0.4444444444444444,
              "#bd3786"
             ],
             [
              0.5555555555555556,
              "#d8576b"
             ],
             [
              0.6666666666666666,
              "#ed7953"
             ],
             [
              0.7777777777777778,
              "#fb9f3a"
             ],
             [
              0.8888888888888888,
              "#fdca26"
             ],
             [
              1,
              "#f0f921"
             ]
            ],
            "type": "histogram2d"
           }
          ],
          "histogram2dcontour": [
           {
            "colorbar": {
             "outlinewidth": 0,
             "ticks": ""
            },
            "colorscale": [
             [
              0,
              "#0d0887"
             ],
             [
              0.1111111111111111,
              "#46039f"
             ],
             [
              0.2222222222222222,
              "#7201a8"
             ],
             [
              0.3333333333333333,
              "#9c179e"
             ],
             [
              0.4444444444444444,
              "#bd3786"
             ],
             [
              0.5555555555555556,
              "#d8576b"
             ],
             [
              0.6666666666666666,
              "#ed7953"
             ],
             [
              0.7777777777777778,
              "#fb9f3a"
             ],
             [
              0.8888888888888888,
              "#fdca26"
             ],
             [
              1,
              "#f0f921"
             ]
            ],
            "type": "histogram2dcontour"
           }
          ],
          "mesh3d": [
           {
            "colorbar": {
             "outlinewidth": 0,
             "ticks": ""
            },
            "type": "mesh3d"
           }
          ],
          "parcoords": [
           {
            "line": {
             "colorbar": {
              "outlinewidth": 0,
              "ticks": ""
             }
            },
            "type": "parcoords"
           }
          ],
          "pie": [
           {
            "automargin": true,
            "type": "pie"
           }
          ],
          "scatter": [
           {
            "fillpattern": {
             "fillmode": "overlay",
             "size": 10,
             "solidity": 0.2
            },
            "type": "scatter"
           }
          ],
          "scatter3d": [
           {
            "line": {
             "colorbar": {
              "outlinewidth": 0,
              "ticks": ""
             }
            },
            "marker": {
             "colorbar": {
              "outlinewidth": 0,
              "ticks": ""
             }
            },
            "type": "scatter3d"
           }
          ],
          "scattercarpet": [
           {
            "marker": {
             "colorbar": {
              "outlinewidth": 0,
              "ticks": ""
             }
            },
            "type": "scattercarpet"
           }
          ],
          "scattergeo": [
           {
            "marker": {
             "colorbar": {
              "outlinewidth": 0,
              "ticks": ""
             }
            },
            "type": "scattergeo"
           }
          ],
          "scattergl": [
           {
            "marker": {
             "colorbar": {
              "outlinewidth": 0,
              "ticks": ""
             }
            },
            "type": "scattergl"
           }
          ],
          "scattermap": [
           {
            "marker": {
             "colorbar": {
              "outlinewidth": 0,
              "ticks": ""
             }
            },
            "type": "scattermap"
           }
          ],
          "scattermapbox": [
           {
            "marker": {
             "colorbar": {
              "outlinewidth": 0,
              "ticks": ""
             }
            },
            "type": "scattermapbox"
           }
          ],
          "scatterpolar": [
           {
            "marker": {
             "colorbar": {
              "outlinewidth": 0,
              "ticks": ""
             }
            },
            "type": "scatterpolar"
           }
          ],
          "scatterpolargl": [
           {
            "marker": {
             "colorbar": {
              "outlinewidth": 0,
              "ticks": ""
             }
            },
            "type": "scatterpolargl"
           }
          ],
          "scatterternary": [
           {
            "marker": {
             "colorbar": {
              "outlinewidth": 0,
              "ticks": ""
             }
            },
            "type": "scatterternary"
           }
          ],
          "surface": [
           {
            "colorbar": {
             "outlinewidth": 0,
             "ticks": ""
            },
            "colorscale": [
             [
              0,
              "#0d0887"
             ],
             [
              0.1111111111111111,
              "#46039f"
             ],
             [
              0.2222222222222222,
              "#7201a8"
             ],
             [
              0.3333333333333333,
              "#9c179e"
             ],
             [
              0.4444444444444444,
              "#bd3786"
             ],
             [
              0.5555555555555556,
              "#d8576b"
             ],
             [
              0.6666666666666666,
              "#ed7953"
             ],
             [
              0.7777777777777778,
              "#fb9f3a"
             ],
             [
              0.8888888888888888,
              "#fdca26"
             ],
             [
              1,
              "#f0f921"
             ]
            ],
            "type": "surface"
           }
          ],
          "table": [
           {
            "cells": {
             "fill": {
              "color": "#EBF0F8"
             },
             "line": {
              "color": "white"
             }
            },
            "header": {
             "fill": {
              "color": "#C8D4E3"
             },
             "line": {
              "color": "white"
             }
            },
            "type": "table"
           }
          ]
         },
         "layout": {
          "annotationdefaults": {
           "arrowcolor": "#2a3f5f",
           "arrowhead": 0,
           "arrowwidth": 1
          },
          "autotypenumbers": "strict",
          "coloraxis": {
           "colorbar": {
            "outlinewidth": 0,
            "ticks": ""
           }
          },
          "colorscale": {
           "diverging": [
            [
             0,
             "#8e0152"
            ],
            [
             0.1,
             "#c51b7d"
            ],
            [
             0.2,
             "#de77ae"
            ],
            [
             0.3,
             "#f1b6da"
            ],
            [
             0.4,
             "#fde0ef"
            ],
            [
             0.5,
             "#f7f7f7"
            ],
            [
             0.6,
             "#e6f5d0"
            ],
            [
             0.7,
             "#b8e186"
            ],
            [
             0.8,
             "#7fbc41"
            ],
            [
             0.9,
             "#4d9221"
            ],
            [
             1,
             "#276419"
            ]
           ],
           "sequential": [
            [
             0,
             "#0d0887"
            ],
            [
             0.1111111111111111,
             "#46039f"
            ],
            [
             0.2222222222222222,
             "#7201a8"
            ],
            [
             0.3333333333333333,
             "#9c179e"
            ],
            [
             0.4444444444444444,
             "#bd3786"
            ],
            [
             0.5555555555555556,
             "#d8576b"
            ],
            [
             0.6666666666666666,
             "#ed7953"
            ],
            [
             0.7777777777777778,
             "#fb9f3a"
            ],
            [
             0.8888888888888888,
             "#fdca26"
            ],
            [
             1,
             "#f0f921"
            ]
           ],
           "sequentialminus": [
            [
             0,
             "#0d0887"
            ],
            [
             0.1111111111111111,
             "#46039f"
            ],
            [
             0.2222222222222222,
             "#7201a8"
            ],
            [
             0.3333333333333333,
             "#9c179e"
            ],
            [
             0.4444444444444444,
             "#bd3786"
            ],
            [
             0.5555555555555556,
             "#d8576b"
            ],
            [
             0.6666666666666666,
             "#ed7953"
            ],
            [
             0.7777777777777778,
             "#fb9f3a"
            ],
            [
             0.8888888888888888,
             "#fdca26"
            ],
            [
             1,
             "#f0f921"
            ]
           ]
          },
          "colorway": [
           "#636efa",
           "#EF553B",
           "#00cc96",
           "#ab63fa",
           "#FFA15A",
           "#19d3f3",
           "#FF6692",
           "#B6E880",
           "#FF97FF",
           "#FECB52"
          ],
          "font": {
           "color": "#2a3f5f"
          },
          "geo": {
           "bgcolor": "white",
           "lakecolor": "white",
           "landcolor": "#E5ECF6",
           "showlakes": true,
           "showland": true,
           "subunitcolor": "white"
          },
          "hoverlabel": {
           "align": "left"
          },
          "hovermode": "closest",
          "mapbox": {
           "style": "light"
          },
          "paper_bgcolor": "white",
          "plot_bgcolor": "#E5ECF6",
          "polar": {
           "angularaxis": {
            "gridcolor": "white",
            "linecolor": "white",
            "ticks": ""
           },
           "bgcolor": "#E5ECF6",
           "radialaxis": {
            "gridcolor": "white",
            "linecolor": "white",
            "ticks": ""
           }
          },
          "scene": {
           "xaxis": {
            "backgroundcolor": "#E5ECF6",
            "gridcolor": "white",
            "gridwidth": 2,
            "linecolor": "white",
            "showbackground": true,
            "ticks": "",
            "zerolinecolor": "white"
           },
           "yaxis": {
            "backgroundcolor": "#E5ECF6",
            "gridcolor": "white",
            "gridwidth": 2,
            "linecolor": "white",
            "showbackground": true,
            "ticks": "",
            "zerolinecolor": "white"
           },
           "zaxis": {
            "backgroundcolor": "#E5ECF6",
            "gridcolor": "white",
            "gridwidth": 2,
            "linecolor": "white",
            "showbackground": true,
            "ticks": "",
            "zerolinecolor": "white"
           }
          },
          "shapedefaults": {
           "line": {
            "color": "#2a3f5f"
           }
          },
          "ternary": {
           "aaxis": {
            "gridcolor": "white",
            "linecolor": "white",
            "ticks": ""
           },
           "baxis": {
            "gridcolor": "white",
            "linecolor": "white",
            "ticks": ""
           },
           "bgcolor": "#E5ECF6",
           "caxis": {
            "gridcolor": "white",
            "linecolor": "white",
            "ticks": ""
           }
          },
          "title": {
           "x": 0.05
          },
          "xaxis": {
           "automargin": true,
           "gridcolor": "white",
           "linecolor": "white",
           "ticks": "",
           "title": {
            "standoff": 15
           },
           "zerolinecolor": "white",
           "zerolinewidth": 2
          },
          "yaxis": {
           "automargin": true,
           "gridcolor": "white",
           "linecolor": "white",
           "ticks": "",
           "title": {
            "standoff": 15
           },
           "zerolinecolor": "white",
           "zerolinewidth": 2
          }
         }
        },
        "title": {
         "text": "batch metrics"
        },
        "xaxis": {
         "anchor": "y",
         "domain": [
          0,
          0.98
         ],
         "title": {
          "text": "step"
         }
        },
        "xaxis2": {
         "anchor": "y2",
         "domain": [
          0,
          0.98
         ],
         "matches": "x",
         "showticklabels": false
        },
        "yaxis": {
         "anchor": "x",
         "domain": [
          0,
          0.485
         ],
         "title": {
          "text": "value"
         }
        },
        "yaxis2": {
         "anchor": "x2",
         "domain": [
          0.515,
          1
         ],
         "title": {
          "text": "value"
         }
        }
       }
      }
     },
     "metadata": {},
     "output_type": "display_data"
    },
    {
     "data": {
      "application/vnd.plotly.v1+json": {
       "config": {
        "plotlyServerURL": "https://plot.ly"
       },
       "data": [
        {
         "hovertemplate": "variable=train_epoch_loss<br>step=%{x}<br>value=%{y}<extra></extra>",
         "legendgroup": "train_epoch_loss",
         "line": {
          "color": "#636efa",
          "dash": "solid"
         },
         "marker": {
          "symbol": "circle"
         },
         "mode": "lines",
         "name": "train_epoch_loss",
         "orientation": "v",
         "showlegend": true,
         "type": "scatter",
         "x": {
          "bdata": "GQAzAE0AZwCBAJsAtQDPAOkAAwEdATcBUQFrAYUBnwG5AdMB7QEHAiECOwJVAm8CiQKjAr0C1wLxAgsDJQM/A1kDcwONA6cDwQPbA/UDDwQpBEMEXQR3BJEEqwTFBN8E+QQTBS0FRwVhBXsFlQWvBckF4wX9BRcG",
          "dtype": "i2"
         },
         "xaxis": "x4",
         "y": {
          "bdata": "J3ZiR9gcBkBP7MQOQjMFQBQ7scOLxwRAFDuxo6iCBEDsxE7Mw0QEQJ7Yib06EARAFDuxUy/tA0CKndgpNcMDQDuxE6sPvwNAT+zEbpuXA0DZiZ2IzngDQIqd2IkRTwNAO7ETix0oA0BiJ3YibhkDQJ7Yib22EgNAYid24kTzAkAndmLXqeQCQOzETnyj0wJA7MROzODdAkCe2Ind274CQLETOxHfsgJAdmInhsyhAkA7sRPLi44CQBQ7sXPigAJAip3YSbh2AkAAAADwwmACQJ7Yia1jVQJAip3YCaJPAkCKndg5HUcCQIqd2AlrOgJAip3YCR45AkBiJ3bScjcCQDuxE5ujLwJAdmIn5nAmAkA7sRPrlxYCQOzETrxsEAJAdmInlhsEAkCxEzux8gYCQHZiJyatAwJA7MRO7Af2AUBP7MR+4/YBQJ7YiR3v6gFA7MROnPvmAUAUO7FDg+EBQDuxE2tZ3QFAYid20nKzAUAAAADwvq0BQCd2YhfUqQFAT+zEPpiSAUCxEzuBiJMBQAAAAPD3hgFAxU7spPx4AUAAAADQaHABQGIndqJEZQFAsRM7YR1mAUBiJ3bSE2MBQBQ7sWMnXAFAdmIntitUAUA7sROr71IBQE/sxB5oUgFA",
          "dtype": "f8"
         },
         "yaxis": "y4"
        },
        {
         "hovertemplate": "variable=train_epoch_accuracy<br>step=%{x}<br>value=%{y}<extra></extra>",
         "legendgroup": "train_epoch_accuracy",
         "line": {
          "color": "#EF553B",
          "dash": "solid"
         },
         "marker": {
          "symbol": "circle"
         },
         "mode": "lines",
         "name": "train_epoch_accuracy",
         "orientation": "v",
         "showlegend": true,
         "type": "scatter",
         "x": {
          "bdata": "GQAzAE0AZwCBAJsAtQDPAOkAAwEdATcBUQFrAYUBnwG5AdMB7QEHAiECOwJVAm8CiQKjAr0C1wLxAgsDJQM/A1kDcwONA6cDwQPbA/UDDwQpBEMEXQR3BJEEqwTFBN8E+QQTBS0FRwVhBXsFlQWvBckF4wX9BRcG",
          "dtype": "i2"
         },
         "xaxis": "x3",
         "y": {
          "bdata": "hPl0YAo4yz9Ah//LWjrVP+cJRI1Wxtg/1ZwKEgXP2j8h68Ix7vTcP1Wp7KuKmN4/HGRdOMa93z+SxGew+HngP6SXzvimeOA/LeYg68Ih4T8GcL7DTK/hPwgOy/JPTuI/L53xTdHj4j8U7kd66SzjP0wBT4aXMeM/Ep/B4me94z8CUaOVsfrjP8pWYL0OOeQ/JYvsXiEP5D+1s2TeRpXkP79dHwJqx+Q/hkoY9rvy5D/RSUp+I0nlP/oOMz0bi+U/bwkQ6PCv5T/kHLHG0QfmP7ymTp9bNeY/XoUvN8RQ5j+RKpV9VWHmP1VDv94tkeY/HBf0nnSZ5j//SkybIanmP5EqlX1VweY/ebPKCxTi5j/Ak+Fl4CPnPz4Ct9BiPuc/qwmquiNz5z8aeedvcWrnP7tXyAfaZec/EM8sTE6o5z+PjIhOUqLnPzr8X9bSzOc/Ovxf1tLc5z/B4mf9YfPnP9TOknkbBeg/6VjKJNjF6D8PmWro18voP/r1bgkQ6Og/Jqjqjow46T/73KrVBDXpP95fiWkzZOk/UnMqSBSc6T9v8Eu05bzpPxpgIzxm5+k/tEsaE7ri6T+26SZCveHpPypG972PB+o/JKKTlPwm6j8MydVRvibqP0zPxh6BK+o/",
          "dtype": "f8"
         },
         "yaxis": "y3"
        },
        {
         "hovertemplate": "variable=validation_loss<br>step=%{x}<br>value=%{y}<extra></extra>",
         "legendgroup": "validation_loss",
         "line": {
          "color": "#00cc96",
          "dash": "solid"
         },
         "marker": {
          "symbol": "circle"
         },
         "mode": "lines",
         "name": "validation_loss",
         "orientation": "v",
         "showlegend": true,
         "type": "scatter",
         "x": {
          "bdata": "GQAzAE0AZwCBAJsAtQDPAOkAAwEdATcBUQFrAYUBnwG5AdMB7QEHAiECOwJVAm8CiQKjAr0C1wLxAgsDJQM/A1kDcwONA6cDwQPbA/UDDwQpBEMEXQR3BJEEqwTFBN8E+QQTBS0FRwVhBXsFlQWvBckF4wX9BRcG",
          "dtype": "i2"
         },
         "xaxis": "x2",
         "y": {
          "bdata": "27Zt++OWBUC3bdv22jMFQCVJkqSC+wRAkiRJctuhBEDbtm37HJsEQJIkSZLBzwRAt23bFh9rBECSJEmy6kEEQAAAAGCLQgRAt23bdhVLBEDbtm3b8B4EQNu2bfsFNwRAAAAAwAchBEAlSZLEWSkEQNu2bbsgJgRAAAAAABQoBEC3bdsWQyAEQG7bti1XHgRASZIkyQv+A0Dbtm37jiAEQNu2bfvxHgRAbtu2rRMPBEC3bdtWPwwEQNu2bTukFgRAbtu2jaD7A0AAAAAATBMEQCVJkkTIEwRAbtu2jfH8A0C3bdtWgu0DQNu2bTvbEwRA27ZtuwkeBEBJkiTpPhAEQAAAAIAoBARA27ZtuxwfBEC3bdt2oQYEQJIkSVKV+wNAAAAAYHAXBEAAAABAzhMEQG7btm1c/QNAAAAAwEADBEDbtm170BIEQAAAAKCO/QNAAAAAIM0LBEDbtm17dPwDQJIkSdL57gNASZIk6brUA0BJkiTpy/ADQCVJkgSf1QNAAAAAQH7aA0Bu27bNzr4DQG7btg0xxwNAJUmS5GvKA0Bu27bNKdADQCVJkqQ/zANAkiRJkhrWA0AlSZIkjL8DQCVJkmQPswNAbtu2rS3BA0Dbtm2bJtIDQLdt27arzwNA",
          "dtype": "f8"
         },
         "yaxis": "y2"
        },
        {
         "hovertemplate": "variable=validation_accuracy<br>step=%{x}<br>value=%{y}<extra></extra>",
         "legendgroup": "validation_accuracy",
         "line": {
          "color": "#ab63fa",
          "dash": "solid"
         },
         "marker": {
          "symbol": "circle"
         },
         "mode": "lines",
         "name": "validation_accuracy",
         "orientation": "v",
         "showlegend": true,
         "type": "scatter",
         "x": {
          "bdata": "GQAzAE0AZwCBAJsAtQDPAOkAAwEdATcBUQFrAYUBnwG5AdMB7QEHAiECOwJVAm8CiQKjAr0C1wLxAgsDJQM/A1kDcwONA6cDwQPbA/UDDwQpBEMEXQR3BJEEqwTFBN8E+QQTBS0FRwVhBXsFlQWvBckF4wX9BRcG",
          "dtype": "i2"
         },
         "xaxis": "x",
         "y": {
          "bdata": "MQzDMAxD0j8xDMMwDAPVP9u2bdu2Ldc/z/M8z/P82T89z/M8z/PZPzEMwzAMQ9g/DcMwDMNw2z/P8zzP8/zcPyVJkiRJktw/qqqqqqqq3D96nud5nqfdPwAAAAAAAN0/AAAAAAAA3j+f53me53ndPyVJkiRJUt0/Pc/zPM9z3T/P8zzP83zdP8/zPM/zvN0/hmEYhmHY3j/zPM/zPM/dPzEMwzAMw90/8zzP8zxP3j+GYRiGYdjdPz3P8zzP890/MQzDMAzD3j96nud5nifeP6qqqqqqKt4/27Zt27bt3j9hGIZhGEbfP/M8z/M8D94/hmEYhmHY3T+GYRiGYZjePz3P8zzP894/Pc/zPM+z3T8AAAAAAIDeP9u2bdu2Ld8/kiRJkiTJ3T/btm3btu3dP+h5nud53t4/JUmSJEnS3j9WVVVVVdXdP6qqqqqq6t4/27Zt27Yt3j/DMAzDMMzeP8/zPM/zPN8/SZIkSZJE4D9u27Zt23bfP+d5nud5HuA/GIZhGIbh3z+SJEmSJIngPz3P8zzPM+A/hmEYhmFY4D8ZhmEYhgHgP6uqqqqqSuA/q6qqqqoK4D/neZ7neX7gP4ZhGIZhmOA/ep7neZ5n4D8AAAAAACDgP6uqqqqqKuA/",
          "dtype": "f8"
         },
         "yaxis": "y"
        }
       ],
       "layout": {
        "annotations": [
         {
          "font": {},
          "showarrow": false,
          "text": "variable=validation_accuracy",
          "textangle": 90,
          "x": 0.98,
          "xanchor": "left",
          "xref": "paper",
          "y": 0.11375,
          "yanchor": "middle",
          "yref": "paper"
         },
         {
          "font": {},
          "showarrow": false,
          "text": "variable=validation_loss",
          "textangle": 90,
          "x": 0.98,
          "xanchor": "left",
          "xref": "paper",
          "y": 0.37124999999999997,
          "yanchor": "middle",
          "yref": "paper"
         },
         {
          "font": {},
          "showarrow": false,
          "text": "variable=train_epoch_accuracy",
          "textangle": 90,
          "x": 0.98,
          "xanchor": "left",
          "xref": "paper",
          "y": 0.62875,
          "yanchor": "middle",
          "yref": "paper"
         },
         {
          "font": {},
          "showarrow": false,
          "text": "variable=train_epoch_loss",
          "textangle": 90,
          "x": 0.98,
          "xanchor": "left",
          "xref": "paper",
          "y": 0.88625,
          "yanchor": "middle",
          "yref": "paper"
         }
        ],
        "legend": {
         "title": {
          "text": "variable"
         },
         "tracegroupgap": 0
        },
        "template": {
         "data": {
          "bar": [
           {
            "error_x": {
             "color": "#2a3f5f"
            },
            "error_y": {
             "color": "#2a3f5f"
            },
            "marker": {
             "line": {
              "color": "#E5ECF6",
              "width": 0.5
             },
             "pattern": {
              "fillmode": "overlay",
              "size": 10,
              "solidity": 0.2
             }
            },
            "type": "bar"
           }
          ],
          "barpolar": [
           {
            "marker": {
             "line": {
              "color": "#E5ECF6",
              "width": 0.5
             },
             "pattern": {
              "fillmode": "overlay",
              "size": 10,
              "solidity": 0.2
             }
            },
            "type": "barpolar"
           }
          ],
          "carpet": [
           {
            "aaxis": {
             "endlinecolor": "#2a3f5f",
             "gridcolor": "white",
             "linecolor": "white",
             "minorgridcolor": "white",
             "startlinecolor": "#2a3f5f"
            },
            "baxis": {
             "endlinecolor": "#2a3f5f",
             "gridcolor": "white",
             "linecolor": "white",
             "minorgridcolor": "white",
             "startlinecolor": "#2a3f5f"
            },
            "type": "carpet"
           }
          ],
          "choropleth": [
           {
            "colorbar": {
             "outlinewidth": 0,
             "ticks": ""
            },
            "type": "choropleth"
           }
          ],
          "contour": [
           {
            "colorbar": {
             "outlinewidth": 0,
             "ticks": ""
            },
            "colorscale": [
             [
              0,
              "#0d0887"
             ],
             [
              0.1111111111111111,
              "#46039f"
             ],
             [
              0.2222222222222222,
              "#7201a8"
             ],
             [
              0.3333333333333333,
              "#9c179e"
             ],
             [
              0.4444444444444444,
              "#bd3786"
             ],
             [
              0.5555555555555556,
              "#d8576b"
             ],
             [
              0.6666666666666666,
              "#ed7953"
             ],
             [
              0.7777777777777778,
              "#fb9f3a"
             ],
             [
              0.8888888888888888,
              "#fdca26"
             ],
             [
              1,
              "#f0f921"
             ]
            ],
            "type": "contour"
           }
          ],
          "contourcarpet": [
           {
            "colorbar": {
             "outlinewidth": 0,
             "ticks": ""
            },
            "type": "contourcarpet"
           }
          ],
          "heatmap": [
           {
            "colorbar": {
             "outlinewidth": 0,
             "ticks": ""
            },
            "colorscale": [
             [
              0,
              "#0d0887"
             ],
             [
              0.1111111111111111,
              "#46039f"
             ],
             [
              0.2222222222222222,
              "#7201a8"
             ],
             [
              0.3333333333333333,
              "#9c179e"
             ],
             [
              0.4444444444444444,
              "#bd3786"
             ],
             [
              0.5555555555555556,
              "#d8576b"
             ],
             [
              0.6666666666666666,
              "#ed7953"
             ],
             [
              0.7777777777777778,
              "#fb9f3a"
             ],
             [
              0.8888888888888888,
              "#fdca26"
             ],
             [
              1,
              "#f0f921"
             ]
            ],
            "type": "heatmap"
           }
          ],
          "histogram": [
           {
            "marker": {
             "pattern": {
              "fillmode": "overlay",
              "size": 10,
              "solidity": 0.2
             }
            },
            "type": "histogram"
           }
          ],
          "histogram2d": [
           {
            "colorbar": {
             "outlinewidth": 0,
             "ticks": ""
            },
            "colorscale": [
             [
              0,
              "#0d0887"
             ],
             [
              0.1111111111111111,
              "#46039f"
             ],
             [
              0.2222222222222222,
              "#7201a8"
             ],
             [
              0.3333333333333333,
              "#9c179e"
             ],
             [
              0.4444444444444444,
              "#bd3786"
             ],
             [
              0.5555555555555556,
              "#d8576b"
             ],
             [
              0.6666666666666666,
              "#ed7953"
             ],
             [
              0.7777777777777778,
              "#fb9f3a"
             ],
             [
              0.8888888888888888,
              "#fdca26"
             ],
             [
              1,
              "#f0f921"
             ]
            ],
            "type": "histogram2d"
           }
          ],
          "histogram2dcontour": [
           {
            "colorbar": {
             "outlinewidth": 0,
             "ticks": ""
            },
            "colorscale": [
             [
              0,
              "#0d0887"
             ],
             [
              0.1111111111111111,
              "#46039f"
             ],
             [
              0.2222222222222222,
              "#7201a8"
             ],
             [
              0.3333333333333333,
              "#9c179e"
             ],
             [
              0.4444444444444444,
              "#bd3786"
             ],
             [
              0.5555555555555556,
              "#d8576b"
             ],
             [
              0.6666666666666666,
              "#ed7953"
             ],
             [
              0.7777777777777778,
              "#fb9f3a"
             ],
             [
              0.8888888888888888,
              "#fdca26"
             ],
             [
              1,
              "#f0f921"
             ]
            ],
            "type": "histogram2dcontour"
           }
          ],
          "mesh3d": [
           {
            "colorbar": {
             "outlinewidth": 0,
             "ticks": ""
            },
            "type": "mesh3d"
           }
          ],
          "parcoords": [
           {
            "line": {
             "colorbar": {
              "outlinewidth": 0,
              "ticks": ""
             }
            },
            "type": "parcoords"
           }
          ],
          "pie": [
           {
            "automargin": true,
            "type": "pie"
           }
          ],
          "scatter": [
           {
            "fillpattern": {
             "fillmode": "overlay",
             "size": 10,
             "solidity": 0.2
            },
            "type": "scatter"
           }
          ],
          "scatter3d": [
           {
            "line": {
             "colorbar": {
              "outlinewidth": 0,
              "ticks": ""
             }
            },
            "marker": {
             "colorbar": {
              "outlinewidth": 0,
              "ticks": ""
             }
            },
            "type": "scatter3d"
           }
          ],
          "scattercarpet": [
           {
            "marker": {
             "colorbar": {
              "outlinewidth": 0,
              "ticks": ""
             }
            },
            "type": "scattercarpet"
           }
          ],
          "scattergeo": [
           {
            "marker": {
             "colorbar": {
              "outlinewidth": 0,
              "ticks": ""
             }
            },
            "type": "scattergeo"
           }
          ],
          "scattergl": [
           {
            "marker": {
             "colorbar": {
              "outlinewidth": 0,
              "ticks": ""
             }
            },
            "type": "scattergl"
           }
          ],
          "scattermap": [
           {
            "marker": {
             "colorbar": {
              "outlinewidth": 0,
              "ticks": ""
             }
            },
            "type": "scattermap"
           }
          ],
          "scattermapbox": [
           {
            "marker": {
             "colorbar": {
              "outlinewidth": 0,
              "ticks": ""
             }
            },
            "type": "scattermapbox"
           }
          ],
          "scatterpolar": [
           {
            "marker": {
             "colorbar": {
              "outlinewidth": 0,
              "ticks": ""
             }
            },
            "type": "scatterpolar"
           }
          ],
          "scatterpolargl": [
           {
            "marker": {
             "colorbar": {
              "outlinewidth": 0,
              "ticks": ""
             }
            },
            "type": "scatterpolargl"
           }
          ],
          "scatterternary": [
           {
            "marker": {
             "colorbar": {
              "outlinewidth": 0,
              "ticks": ""
             }
            },
            "type": "scatterternary"
           }
          ],
          "surface": [
           {
            "colorbar": {
             "outlinewidth": 0,
             "ticks": ""
            },
            "colorscale": [
             [
              0,
              "#0d0887"
             ],
             [
              0.1111111111111111,
              "#46039f"
             ],
             [
              0.2222222222222222,
              "#7201a8"
             ],
             [
              0.3333333333333333,
              "#9c179e"
             ],
             [
              0.4444444444444444,
              "#bd3786"
             ],
             [
              0.5555555555555556,
              "#d8576b"
             ],
             [
              0.6666666666666666,
              "#ed7953"
             ],
             [
              0.7777777777777778,
              "#fb9f3a"
             ],
             [
              0.8888888888888888,
              "#fdca26"
             ],
             [
              1,
              "#f0f921"
             ]
            ],
            "type": "surface"
           }
          ],
          "table": [
           {
            "cells": {
             "fill": {
              "color": "#EBF0F8"
             },
             "line": {
              "color": "white"
             }
            },
            "header": {
             "fill": {
              "color": "#C8D4E3"
             },
             "line": {
              "color": "white"
             }
            },
            "type": "table"
           }
          ]
         },
         "layout": {
          "annotationdefaults": {
           "arrowcolor": "#2a3f5f",
           "arrowhead": 0,
           "arrowwidth": 1
          },
          "autotypenumbers": "strict",
          "coloraxis": {
           "colorbar": {
            "outlinewidth": 0,
            "ticks": ""
           }
          },
          "colorscale": {
           "diverging": [
            [
             0,
             "#8e0152"
            ],
            [
             0.1,
             "#c51b7d"
            ],
            [
             0.2,
             "#de77ae"
            ],
            [
             0.3,
             "#f1b6da"
            ],
            [
             0.4,
             "#fde0ef"
            ],
            [
             0.5,
             "#f7f7f7"
            ],
            [
             0.6,
             "#e6f5d0"
            ],
            [
             0.7,
             "#b8e186"
            ],
            [
             0.8,
             "#7fbc41"
            ],
            [
             0.9,
             "#4d9221"
            ],
            [
             1,
             "#276419"
            ]
           ],
           "sequential": [
            [
             0,
             "#0d0887"
            ],
            [
             0.1111111111111111,
             "#46039f"
            ],
            [
             0.2222222222222222,
             "#7201a8"
            ],
            [
             0.3333333333333333,
             "#9c179e"
            ],
            [
             0.4444444444444444,
             "#bd3786"
            ],
            [
             0.5555555555555556,
             "#d8576b"
            ],
            [
             0.6666666666666666,
             "#ed7953"
            ],
            [
             0.7777777777777778,
             "#fb9f3a"
            ],
            [
             0.8888888888888888,
             "#fdca26"
            ],
            [
             1,
             "#f0f921"
            ]
           ],
           "sequentialminus": [
            [
             0,
             "#0d0887"
            ],
            [
             0.1111111111111111,
             "#46039f"
            ],
            [
             0.2222222222222222,
             "#7201a8"
            ],
            [
             0.3333333333333333,
             "#9c179e"
            ],
            [
             0.4444444444444444,
             "#bd3786"
            ],
            [
             0.5555555555555556,
             "#d8576b"
            ],
            [
             0.6666666666666666,
             "#ed7953"
            ],
            [
             0.7777777777777778,
             "#fb9f3a"
            ],
            [
             0.8888888888888888,
             "#fdca26"
            ],
            [
             1,
             "#f0f921"
            ]
           ]
          },
          "colorway": [
           "#636efa",
           "#EF553B",
           "#00cc96",
           "#ab63fa",
           "#FFA15A",
           "#19d3f3",
           "#FF6692",
           "#B6E880",
           "#FF97FF",
           "#FECB52"
          ],
          "font": {
           "color": "#2a3f5f"
          },
          "geo": {
           "bgcolor": "white",
           "lakecolor": "white",
           "landcolor": "#E5ECF6",
           "showlakes": true,
           "showland": true,
           "subunitcolor": "white"
          },
          "hoverlabel": {
           "align": "left"
          },
          "hovermode": "closest",
          "mapbox": {
           "style": "light"
          },
          "paper_bgcolor": "white",
          "plot_bgcolor": "#E5ECF6",
          "polar": {
           "angularaxis": {
            "gridcolor": "white",
            "linecolor": "white",
            "ticks": ""
           },
           "bgcolor": "#E5ECF6",
           "radialaxis": {
            "gridcolor": "white",
            "linecolor": "white",
            "ticks": ""
           }
          },
          "scene": {
           "xaxis": {
            "backgroundcolor": "#E5ECF6",
            "gridcolor": "white",
            "gridwidth": 2,
            "linecolor": "white",
            "showbackground": true,
            "ticks": "",
            "zerolinecolor": "white"
           },
           "yaxis": {
            "backgroundcolor": "#E5ECF6",
            "gridcolor": "white",
            "gridwidth": 2,
            "linecolor": "white",
            "showbackground": true,
            "ticks": "",
            "zerolinecolor": "white"
           },
           "zaxis": {
            "backgroundcolor": "#E5ECF6",
            "gridcolor": "white",
            "gridwidth": 2,
            "linecolor": "white",
            "showbackground": true,
            "ticks": "",
            "zerolinecolor": "white"
           }
          },
          "shapedefaults": {
           "line": {
            "color": "#2a3f5f"
           }
          },
          "ternary": {
           "aaxis": {
            "gridcolor": "white",
            "linecolor": "white",
            "ticks": ""
           },
           "baxis": {
            "gridcolor": "white",
            "linecolor": "white",
            "ticks": ""
           },
           "bgcolor": "#E5ECF6",
           "caxis": {
            "gridcolor": "white",
            "linecolor": "white",
            "ticks": ""
           }
          },
          "title": {
           "x": 0.05
          },
          "xaxis": {
           "automargin": true,
           "gridcolor": "white",
           "linecolor": "white",
           "ticks": "",
           "title": {
            "standoff": 15
           },
           "zerolinecolor": "white",
           "zerolinewidth": 2
          },
          "yaxis": {
           "automargin": true,
           "gridcolor": "white",
           "linecolor": "white",
           "ticks": "",
           "title": {
            "standoff": 15
           },
           "zerolinecolor": "white",
           "zerolinewidth": 2
          }
         }
        },
        "title": {
         "text": "epoch metrics"
        },
        "xaxis": {
         "anchor": "y",
         "domain": [
          0,
          0.98
         ],
         "title": {
          "text": "step"
         }
        },
        "xaxis2": {
         "anchor": "y2",
         "domain": [
          0,
          0.98
         ],
         "matches": "x",
         "showticklabels": false
        },
        "xaxis3": {
         "anchor": "y3",
         "domain": [
          0,
          0.98
         ],
         "matches": "x",
         "showticklabels": false
        },
        "xaxis4": {
         "anchor": "y4",
         "domain": [
          0,
          0.98
         ],
         "matches": "x",
         "showticklabels": false
        },
        "yaxis": {
         "anchor": "x",
         "domain": [
          0,
          0.2275
         ],
         "title": {
          "text": "value"
         }
        },
        "yaxis2": {
         "anchor": "x2",
         "domain": [
          0.2575,
          0.485
         ],
         "title": {
          "text": "value"
         }
        },
        "yaxis3": {
         "anchor": "x3",
         "domain": [
          0.515,
          0.7425
         ],
         "title": {
          "text": "value"
         }
        },
        "yaxis4": {
         "anchor": "x4",
         "domain": [
          0.7725,
          1
         ],
         "title": {
          "text": "value"
         }
        }
       }
      }
     },
     "metadata": {},
     "output_type": "display_data"
    },
    {
     "name": "stdout",
     "output_type": "stream",
     "text": [
      "=========================\n",
      "training: 4\n"
     ]
    },
    {
     "data": {
      "application/vnd.jupyter.widget-view+json": {
       "model_id": "a9c6bfdaac9c4ed7b40b06f8c6c7e7bc",
       "version_major": 2,
       "version_minor": 0
      },
      "text/plain": [
       "Output()"
      ]
     },
     "metadata": {},
     "output_type": "display_data"
    },
    {
     "data": {
      "text/html": [
       "<pre style=\"white-space:pre;overflow-x:auto;line-height:normal;font-family:Menlo,'DejaVu Sans Mono',consolas,'Courier New',monospace\"></pre>\n"
      ],
      "text/plain": []
     },
     "metadata": {},
     "output_type": "display_data"
    },
    {
     "data": {
      "application/vnd.plotly.v1+json": {
       "config": {
        "plotlyServerURL": "https://plot.ly"
       },
       "data": [
        {
         "hovertemplate": "variable=batch_train_loss<br>step=%{x}<br>value=%{y}<extra></extra>",
         "legendgroup": "",
         "marker": {
          "color": "#636efa",
          "symbol": "circle"
         },
         "mode": "markers",
         "name": "",
         "showlegend": false,
         "type": "scattergl",
         "x": {
          "bdata": "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",
          "dtype": "i2"
         },
         "xaxis": "x2",
         "y": {
          "bdata": "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",
          "dtype": "f8"
         },
         "yaxis": "y2"
        },
        {
         "hovertemplate": "<b>Exponentially Weighted mean trendline</b><br><br>variable=batch_train_loss<br>step=%{x}<br>value=%{y} <b>(trend)</b><extra></extra>",
         "legendgroup": "",
         "line": {
          "color": "red"
         },
         "marker": {
          "color": "#636efa",
          "symbol": "circle"
         },
         "mode": "lines",
         "name": "",
         "showlegend": false,
         "type": "scattergl",
         "x": {
          "bdata": "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",
          "dtype": "i2"
         },
         "xaxis": "x2",
         "y": {
          "bdata": "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",
          "dtype": "f8"
         },
         "yaxis": "y2"
        },
        {
         "hovertemplate": "variable=batch_accuracy<br>step=%{x}<br>value=%{y}<extra></extra>",
         "legendgroup": "",
         "marker": {
          "color": "#636efa",
          "symbol": "circle"
         },
         "mode": "markers",
         "name": "",
         "showlegend": false,
         "type": "scattergl",
         "x": {
          "bdata": "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",
          "dtype": "i2"
         },
         "xaxis": "x",
         "y": {
          "bdata": "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",
          "dtype": "f8"
         },
         "yaxis": "y"
        },
        {
         "hovertemplate": "<b>Exponentially Weighted mean trendline</b><br><br>variable=batch_accuracy<br>step=%{x}<br>value=%{y} <b>(trend)</b><extra></extra>",
         "legendgroup": "",
         "line": {
          "color": "red"
         },
         "marker": {
          "color": "#636efa",
          "symbol": "circle"
         },
         "mode": "lines",
         "name": "",
         "showlegend": false,
         "type": "scattergl",
         "x": {
          "bdata": "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",
          "dtype": "i2"
         },
         "xaxis": "x",
         "y": {
          "bdata": "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",
          "dtype": "f8"
         },
         "yaxis": "y"
        }
       ],
       "layout": {
        "annotations": [
         {
          "font": {},
          "showarrow": false,
          "text": "variable=batch_accuracy",
          "textangle": 90,
          "x": 0.98,
          "xanchor": "left",
          "xref": "paper",
          "y": 0.2425,
          "yanchor": "middle",
          "yref": "paper"
         },
         {
          "font": {},
          "showarrow": false,
          "text": "variable=batch_train_loss",
          "textangle": 90,
          "x": 0.98,
          "xanchor": "left",
          "xref": "paper",
          "y": 0.7575000000000001,
          "yanchor": "middle",
          "yref": "paper"
         }
        ],
        "legend": {
         "tracegroupgap": 0
        },
        "template": {
         "data": {
          "bar": [
           {
            "error_x": {
             "color": "#2a3f5f"
            },
            "error_y": {
             "color": "#2a3f5f"
            },
            "marker": {
             "line": {
              "color": "#E5ECF6",
              "width": 0.5
             },
             "pattern": {
              "fillmode": "overlay",
              "size": 10,
              "solidity": 0.2
             }
            },
            "type": "bar"
           }
          ],
          "barpolar": [
           {
            "marker": {
             "line": {
              "color": "#E5ECF6",
              "width": 0.5
             },
             "pattern": {
              "fillmode": "overlay",
              "size": 10,
              "solidity": 0.2
             }
            },
            "type": "barpolar"
           }
          ],
          "carpet": [
           {
            "aaxis": {
             "endlinecolor": "#2a3f5f",
             "gridcolor": "white",
             "linecolor": "white",
             "minorgridcolor": "white",
             "startlinecolor": "#2a3f5f"
            },
            "baxis": {
             "endlinecolor": "#2a3f5f",
             "gridcolor": "white",
             "linecolor": "white",
             "minorgridcolor": "white",
             "startlinecolor": "#2a3f5f"
            },
            "type": "carpet"
           }
          ],
          "choropleth": [
           {
            "colorbar": {
             "outlinewidth": 0,
             "ticks": ""
            },
            "type": "choropleth"
           }
          ],
          "contour": [
           {
            "colorbar": {
             "outlinewidth": 0,
             "ticks": ""
            },
            "colorscale": [
             [
              0,
              "#0d0887"
             ],
             [
              0.1111111111111111,
              "#46039f"
             ],
             [
              0.2222222222222222,
              "#7201a8"
             ],
             [
              0.3333333333333333,
              "#9c179e"
             ],
             [
              0.4444444444444444,
              "#bd3786"
             ],
             [
              0.5555555555555556,
              "#d8576b"
             ],
             [
              0.6666666666666666,
              "#ed7953"
             ],
             [
              0.7777777777777778,
              "#fb9f3a"
             ],
             [
              0.8888888888888888,
              "#fdca26"
             ],
             [
              1,
              "#f0f921"
             ]
            ],
            "type": "contour"
           }
          ],
          "contourcarpet": [
           {
            "colorbar": {
             "outlinewidth": 0,
             "ticks": ""
            },
            "type": "contourcarpet"
           }
          ],
          "heatmap": [
           {
            "colorbar": {
             "outlinewidth": 0,
             "ticks": ""
            },
            "colorscale": [
             [
              0,
              "#0d0887"
             ],
             [
              0.1111111111111111,
              "#46039f"
             ],
             [
              0.2222222222222222,
              "#7201a8"
             ],
             [
              0.3333333333333333,
              "#9c179e"
             ],
             [
              0.4444444444444444,
              "#bd3786"
             ],
             [
              0.5555555555555556,
              "#d8576b"
             ],
             [
              0.6666666666666666,
              "#ed7953"
             ],
             [
              0.7777777777777778,
              "#fb9f3a"
             ],
             [
              0.8888888888888888,
              "#fdca26"
             ],
             [
              1,
              "#f0f921"
             ]
            ],
            "type": "heatmap"
           }
          ],
          "histogram": [
           {
            "marker": {
             "pattern": {
              "fillmode": "overlay",
              "size": 10,
              "solidity": 0.2
             }
            },
            "type": "histogram"
           }
          ],
          "histogram2d": [
           {
            "colorbar": {
             "outlinewidth": 0,
             "ticks": ""
            },
            "colorscale": [
             [
              0,
              "#0d0887"
             ],
             [
              0.1111111111111111,
              "#46039f"
             ],
             [
              0.2222222222222222,
              "#7201a8"
             ],
             [
              0.3333333333333333,
              "#9c179e"
             ],
             [
              0.4444444444444444,
              "#bd3786"
             ],
             [
              0.5555555555555556,
              "#d8576b"
             ],
             [
              0.6666666666666666,
              "#ed7953"
             ],
             [
              0.7777777777777778,
              "#fb9f3a"
             ],
             [
              0.8888888888888888,
              "#fdca26"
             ],
             [
              1,
              "#f0f921"
             ]
            ],
            "type": "histogram2d"
           }
          ],
          "histogram2dcontour": [
           {
            "colorbar": {
             "outlinewidth": 0,
             "ticks": ""
            },
            "colorscale": [
             [
              0,
              "#0d0887"
             ],
             [
              0.1111111111111111,
              "#46039f"
             ],
             [
              0.2222222222222222,
              "#7201a8"
             ],
             [
              0.3333333333333333,
              "#9c179e"
             ],
             [
              0.4444444444444444,
              "#bd3786"
             ],
             [
              0.5555555555555556,
              "#d8576b"
             ],
             [
              0.6666666666666666,
              "#ed7953"
             ],
             [
              0.7777777777777778,
              "#fb9f3a"
             ],
             [
              0.8888888888888888,
              "#fdca26"
             ],
             [
              1,
              "#f0f921"
             ]
            ],
            "type": "histogram2dcontour"
           }
          ],
          "mesh3d": [
           {
            "colorbar": {
             "outlinewidth": 0,
             "ticks": ""
            },
            "type": "mesh3d"
           }
          ],
          "parcoords": [
           {
            "line": {
             "colorbar": {
              "outlinewidth": 0,
              "ticks": ""
             }
            },
            "type": "parcoords"
           }
          ],
          "pie": [
           {
            "automargin": true,
            "type": "pie"
           }
          ],
          "scatter": [
           {
            "fillpattern": {
             "fillmode": "overlay",
             "size": 10,
             "solidity": 0.2
            },
            "type": "scatter"
           }
          ],
          "scatter3d": [
           {
            "line": {
             "colorbar": {
              "outlinewidth": 0,
              "ticks": ""
             }
            },
            "marker": {
             "colorbar": {
              "outlinewidth": 0,
              "ticks": ""
             }
            },
            "type": "scatter3d"
           }
          ],
          "scattercarpet": [
           {
            "marker": {
             "colorbar": {
              "outlinewidth": 0,
              "ticks": ""
             }
            },
            "type": "scattercarpet"
           }
          ],
          "scattergeo": [
           {
            "marker": {
             "colorbar": {
              "outlinewidth": 0,
              "ticks": ""
             }
            },
            "type": "scattergeo"
           }
          ],
          "scattergl": [
           {
            "marker": {
             "colorbar": {
              "outlinewidth": 0,
              "ticks": ""
             }
            },
            "type": "scattergl"
           }
          ],
          "scattermap": [
           {
            "marker": {
             "colorbar": {
              "outlinewidth": 0,
              "ticks": ""
             }
            },
            "type": "scattermap"
           }
          ],
          "scattermapbox": [
           {
            "marker": {
             "colorbar": {
              "outlinewidth": 0,
              "ticks": ""
             }
            },
            "type": "scattermapbox"
           }
          ],
          "scatterpolar": [
           {
            "marker": {
             "colorbar": {
              "outlinewidth": 0,
              "ticks": ""
             }
            },
            "type": "scatterpolar"
           }
          ],
          "scatterpolargl": [
           {
            "marker": {
             "colorbar": {
              "outlinewidth": 0,
              "ticks": ""
             }
            },
            "type": "scatterpolargl"
           }
          ],
          "scatterternary": [
           {
            "marker": {
             "colorbar": {
              "outlinewidth": 0,
              "ticks": ""
             }
            },
            "type": "scatterternary"
           }
          ],
          "surface": [
           {
            "colorbar": {
             "outlinewidth": 0,
             "ticks": ""
            },
            "colorscale": [
             [
              0,
              "#0d0887"
             ],
             [
              0.1111111111111111,
              "#46039f"
             ],
             [
              0.2222222222222222,
              "#7201a8"
             ],
             [
              0.3333333333333333,
              "#9c179e"
             ],
             [
              0.4444444444444444,
              "#bd3786"
             ],
             [
              0.5555555555555556,
              "#d8576b"
             ],
             [
              0.6666666666666666,
              "#ed7953"
             ],
             [
              0.7777777777777778,
              "#fb9f3a"
             ],
             [
              0.8888888888888888,
              "#fdca26"
             ],
             [
              1,
              "#f0f921"
             ]
            ],
            "type": "surface"
           }
          ],
          "table": [
           {
            "cells": {
             "fill": {
              "color": "#EBF0F8"
             },
             "line": {
              "color": "white"
             }
            },
            "header": {
             "fill": {
              "color": "#C8D4E3"
             },
             "line": {
              "color": "white"
             }
            },
            "type": "table"
           }
          ]
         },
         "layout": {
          "annotationdefaults": {
           "arrowcolor": "#2a3f5f",
           "arrowhead": 0,
           "arrowwidth": 1
          },
          "autotypenumbers": "strict",
          "coloraxis": {
           "colorbar": {
            "outlinewidth": 0,
            "ticks": ""
           }
          },
          "colorscale": {
           "diverging": [
            [
             0,
             "#8e0152"
            ],
            [
             0.1,
             "#c51b7d"
            ],
            [
             0.2,
             "#de77ae"
            ],
            [
             0.3,
             "#f1b6da"
            ],
            [
             0.4,
             "#fde0ef"
            ],
            [
             0.5,
             "#f7f7f7"
            ],
            [
             0.6,
             "#e6f5d0"
            ],
            [
             0.7,
             "#b8e186"
            ],
            [
             0.8,
             "#7fbc41"
            ],
            [
             0.9,
             "#4d9221"
            ],
            [
             1,
             "#276419"
            ]
           ],
           "sequential": [
            [
             0,
             "#0d0887"
            ],
            [
             0.1111111111111111,
             "#46039f"
            ],
            [
             0.2222222222222222,
             "#7201a8"
            ],
            [
             0.3333333333333333,
             "#9c179e"
            ],
            [
             0.4444444444444444,
             "#bd3786"
            ],
            [
             0.5555555555555556,
             "#d8576b"
            ],
            [
             0.6666666666666666,
             "#ed7953"
            ],
            [
             0.7777777777777778,
             "#fb9f3a"
            ],
            [
             0.8888888888888888,
             "#fdca26"
            ],
            [
             1,
             "#f0f921"
            ]
           ],
           "sequentialminus": [
            [
             0,
             "#0d0887"
            ],
            [
             0.1111111111111111,
             "#46039f"
            ],
            [
             0.2222222222222222,
             "#7201a8"
            ],
            [
             0.3333333333333333,
             "#9c179e"
            ],
            [
             0.4444444444444444,
             "#bd3786"
            ],
            [
             0.5555555555555556,
             "#d8576b"
            ],
            [
             0.6666666666666666,
             "#ed7953"
            ],
            [
             0.7777777777777778,
             "#fb9f3a"
            ],
            [
             0.8888888888888888,
             "#fdca26"
            ],
            [
             1,
             "#f0f921"
            ]
           ]
          },
          "colorway": [
           "#636efa",
           "#EF553B",
           "#00cc96",
           "#ab63fa",
           "#FFA15A",
           "#19d3f3",
           "#FF6692",
           "#B6E880",
           "#FF97FF",
           "#FECB52"
          ],
          "font": {
           "color": "#2a3f5f"
          },
          "geo": {
           "bgcolor": "white",
           "lakecolor": "white",
           "landcolor": "#E5ECF6",
           "showlakes": true,
           "showland": true,
           "subunitcolor": "white"
          },
          "hoverlabel": {
           "align": "left"
          },
          "hovermode": "closest",
          "mapbox": {
           "style": "light"
          },
          "paper_bgcolor": "white",
          "plot_bgcolor": "#E5ECF6",
          "polar": {
           "angularaxis": {
            "gridcolor": "white",
            "linecolor": "white",
            "ticks": ""
           },
           "bgcolor": "#E5ECF6",
           "radialaxis": {
            "gridcolor": "white",
            "linecolor": "white",
            "ticks": ""
           }
          },
          "scene": {
           "xaxis": {
            "backgroundcolor": "#E5ECF6",
            "gridcolor": "white",
            "gridwidth": 2,
            "linecolor": "white",
            "showbackground": true,
            "ticks": "",
            "zerolinecolor": "white"
           },
           "yaxis": {
            "backgroundcolor": "#E5ECF6",
            "gridcolor": "white",
            "gridwidth": 2,
            "linecolor": "white",
            "showbackground": true,
            "ticks": "",
            "zerolinecolor": "white"
           },
           "zaxis": {
            "backgroundcolor": "#E5ECF6",
            "gridcolor": "white",
            "gridwidth": 2,
            "linecolor": "white",
            "showbackground": true,
            "ticks": "",
            "zerolinecolor": "white"
           }
          },
          "shapedefaults": {
           "line": {
            "color": "#2a3f5f"
           }
          },
          "ternary": {
           "aaxis": {
            "gridcolor": "white",
            "linecolor": "white",
            "ticks": ""
           },
           "baxis": {
            "gridcolor": "white",
            "linecolor": "white",
            "ticks": ""
           },
           "bgcolor": "#E5ECF6",
           "caxis": {
            "gridcolor": "white",
            "linecolor": "white",
            "ticks": ""
           }
          },
          "title": {
           "x": 0.05
          },
          "xaxis": {
           "automargin": true,
           "gridcolor": "white",
           "linecolor": "white",
           "ticks": "",
           "title": {
            "standoff": 15
           },
           "zerolinecolor": "white",
           "zerolinewidth": 2
          },
          "yaxis": {
           "automargin": true,
           "gridcolor": "white",
           "linecolor": "white",
           "ticks": "",
           "title": {
            "standoff": 15
           },
           "zerolinecolor": "white",
           "zerolinewidth": 2
          }
         }
        },
        "title": {
         "text": "batch metrics"
        },
        "xaxis": {
         "anchor": "y",
         "domain": [
          0,
          0.98
         ],
         "title": {
          "text": "step"
         }
        },
        "xaxis2": {
         "anchor": "y2",
         "domain": [
          0,
          0.98
         ],
         "matches": "x",
         "showticklabels": false
        },
        "yaxis": {
         "anchor": "x",
         "domain": [
          0,
          0.485
         ],
         "title": {
          "text": "value"
         }
        },
        "yaxis2": {
         "anchor": "x2",
         "domain": [
          0.515,
          1
         ],
         "title": {
          "text": "value"
         }
        }
       }
      }
     },
     "metadata": {},
     "output_type": "display_data"
    },
    {
     "data": {
      "application/vnd.plotly.v1+json": {
       "config": {
        "plotlyServerURL": "https://plot.ly"
       },
       "data": [
        {
         "hovertemplate": "variable=train_epoch_loss<br>step=%{x}<br>value=%{y}<extra></extra>",
         "legendgroup": "train_epoch_loss",
         "line": {
          "color": "#636efa",
          "dash": "solid"
         },
         "marker": {
          "symbol": "circle"
         },
         "mode": "lines",
         "name": "train_epoch_loss",
         "orientation": "v",
         "showlegend": true,
         "type": "scatter",
         "x": {
          "bdata": "GQAzAE0AZwCBAJsAtQDPAOkAAwEdATcBUQFrAYUBnwG5AdMB7QEHAiECOwJVAm8CiQKjAr0C1wLxAgsDJQM/A1kDcwONA6cDwQPbA/UDDwQpBEMEXQR3BJEEqwTFBN8E+QQTBS0FRwVhBXsFlQWvBckF4wX9BRcG",
          "dtype": "i2"
         },
         "xaxis": "x4",
         "y": {
          "bdata": "xU7slLoPBkA7sROb+wsFQMVO7NSGwARAAAAA4CKeBECe2ImtZ2MEQAAAAPCeLwRAO7ET+1gJBEAAAAAwwPcDQDuxE+vs5QNAT+zEToXKA0DZiZ0YfaMDQGIndpLakQNAJ3ZiNwp6A0CKndjZPGIDQBQ7sdPnXQNAsRM7cedOA0AndmKHxTgDQCd2YucpFwNA2Ymd6ID5AkAndmInwfICQCd2Yoee0wJAip3YmQe4AkDZiZ04j60CQJ7YiY0EmQJAntiJbbx+AkAAAAAAMnECQMVO7PQhXgJAJ3Zit9RQAkB2Yid2o2ECQJ7Yib13WQJAAAAAYP9BAkCxEzvhRykCQCd2YseoEwJAdmInFnEQAkDsxE6s4v4BQDuxE+u4+AFAYid2UoTdAUAndmJHJ88BQAAAAMBBwgFAFDuxIxatAUDFTuykoqUBQHZiJ8YlmQFAdmInBjaVAUAUO7FjzH4BQLETOzF8fgFAdmIndt6FAUB2YicmPnwBQDuxEzv0cQFAYid2suJqAUAAAADgoVcBQIqd2NnbVAFAxU7sRKxQAUA7sRObKFIBQDuxE6vCUwFA2Ymd+INUAUBiJ3YSFE0BQE/sxB5hSQFAdmInNh1JAUDZiZ2IX0QBQAAAACCvQAFA",
          "dtype": "f8"
         },
         "yaxis": "y4"
        },
        {
         "hovertemplate": "variable=train_epoch_accuracy<br>step=%{x}<br>value=%{y}<extra></extra>",
         "legendgroup": "train_epoch_accuracy",
         "line": {
          "color": "#EF553B",
          "dash": "solid"
         },
         "marker": {
          "symbol": "circle"
         },
         "mode": "lines",
         "name": "train_epoch_accuracy",
         "orientation": "v",
         "showlegend": true,
         "type": "scatter",
         "x": {
          "bdata": "GQAzAE0AZwCBAJsAtQDPAOkAAwEdATcBUQFrAYUBnwG5AdMB7QEHAiECOwJVAm8CiQKjAr0C1wLxAgsDJQM/A1kDcwONA6cDwQPbA/UDDwQpBEMEXQR3BJEEqwTFBN8E+QQTBS0FRwVhBXsFlQWvBckF4wX9BRcG",
          "dtype": "i2"
         },
         "xaxis": "x3",
         "y": {
          "bdata": "VRc5VRc5zD/SAf/RAX/WP0ZO1UVO1dg/IagYIai42T+6mqu5msvbPwmHcAiHcN0/rhWXrRWX3j/QSNjPSDjfPzJwTjJwzt8/ihGCihFS4D8Ur1oUr+rgP7T6X7T6P+E/mk6Pmk6f4T8sRdorRfrhP9IB/9EBD+I/PbDlPLA14j8xzqYwzqbiP9rlmdrlKeM/jmxQjmyg4z8XItYWIrbjP6UafaQaTeQ/EpkJEpm55D/aWnHZWuHkPxAmjg8mLuU/Ym0hYm2h5T9g+qVf+sXlP0nBUEjBIOY/jPnUi/lU5j+5VS64VQ7mP9V0etR0KuY/gooRgoqB5j+EcmSDcuTmP9pacdlaQec/xZSXxJRH5z/ulSLtlZLnP4bl34Xln+c/uj2BuT0h6D8ZZ1MYZ2PoP5etFZetleg/B58dB5/t6D+XrRWXrfXoP/rUi/nUK+k/XuRUXeQ06T+yQTmyQZnpP5ogkZkgkek/hHJkg3J06T86bJY5bJbpP/rUi/nUy+k/ZeCcZODc6T/ngS3ngR3qP2+sim6sKuo/Uo0+Uo0+6j/etT/dtS/qP9HTANHTMOo/xnzqxXwq6j8BLv4ALk7qP3A3s283U+o/DIUUDIVU6j8ppGAopHDqP8nvZcjvdeo/",
          "dtype": "f8"
         },
         "yaxis": "y3"
        },
        {
         "hovertemplate": "variable=validation_loss<br>step=%{x}<br>value=%{y}<extra></extra>",
         "legendgroup": "validation_loss",
         "line": {
          "color": "#00cc96",
          "dash": "solid"
         },
         "marker": {
          "symbol": "circle"
         },
         "mode": "lines",
         "name": "validation_loss",
         "orientation": "v",
         "showlegend": true,
         "type": "scatter",
         "x": {
          "bdata": "GQAzAE0AZwCBAJsAtQDPAOkAAwEdATcBUQFrAYUBnwG5AdMB7QEHAiECOwJVAm8CiQKjAr0C1wLxAgsDJQM/A1kDcwONA6cDwQPbA/UDDwQpBEMEXQR3BJEEqwTFBN8E+QQTBS0FRwVhBXsFlQWvBckF4wX9BRcG",
          "dtype": "i2"
         },
         "xaxis": "x2",
         "y": {
          "bdata": "JUmShCV8BUAAAABANRkFQJIkSRIRJwVAbtu2TQzlBECSJElScLEEQAAAAGBNqQRAkiRJ8o2XBECSJEny2W8EQEmSJGnEgwRAkiRJcvtYBEC3bdt2n1MEQCVJksTbZgRAAAAAIBRRBEAAAAAA8UYEQG7btg1OQQRAt23b9lhmBEBu27aNuUoEQLdt2/ZbQgRAkiRJ8u49BECSJEkSoFMEQG7btm3wNwRAkiRJsgYzBECSJEmSQ0AEQCVJkqQoMgRAbtu2zSEwBEBu27ZNs0sEQCVJkuRILgRAJUmSJN8qBEBu27ZNjEUEQEmSJIkUUQRAJUmSpI5NBEDbtm37MkgEQEmSJMnqQwRAAAAAYFUxBECSJEnS0j8EQNu2bVs0MARASZIkqY4JBEBJkiRJuisEQLdt29Z4LwRAkiRJch4oBEC3bdu2yTQEQEmSJElMKARAt23blt0SBEDbtm0bAO8DQG7bto08CgRAbtu2LUwWBEBJkiSpKSUEQAAAAKBq+wNAkiRJ8nARBECSJEkSYfQDQG7btq12/gNAJUmSJB8JBEBJkiQpkhkEQAAAAAC7BARAbtu2jY0HBEDbtm0b0wwEQAAAAID5/wNA27ZtGygJBEAAAACgF+MDQLdt2xbY6gNA",
          "dtype": "f8"
         },
         "yaxis": "y2"
        },
        {
         "hovertemplate": "variable=validation_accuracy<br>step=%{x}<br>value=%{y}<extra></extra>",
         "legendgroup": "validation_accuracy",
         "line": {
          "color": "#ab63fa",
          "dash": "solid"
         },
         "marker": {
          "symbol": "circle"
         },
         "mode": "lines",
         "name": "validation_accuracy",
         "orientation": "v",
         "showlegend": true,
         "type": "scatter",
         "x": {
          "bdata": "GQAzAE0AZwCBAJsAtQDPAOkAAwEdATcBUQFrAYUBnwG5AdMB7QEHAiECOwJVAm8CiQKjAr0C1wLxAgsDJQM/A1kDcwONA6cDwQPbA/UDDwQpBEMEXQR3BJEEqwTFBN8E+QQTBS0FRwVhBXsFlQWvBckF4wX9BRcG",
          "dtype": "i2"
         },
         "xaxis": "x",
         "y": {
          "bdata": "6Hme53le0z89z/M8z/PVP+h5nud5XtU/n+d5nud51z8AAAAAAEDZP7dt27Ztm9k/btu2bds22j/zPM/zPI/bP+h5nud5nto/6Hme53ke3D+SJEmSJAncPzEMwzAMg9s/6Hme53le3D9u27Zt27bcP8/zPM/z/Nw/YRiGYRiG2z/DMAzDMEzcP27btm3bttw/VlVVVVXV3D9JkiRJkuTbP/M8z/M8D90/ep7neZ4n3T8lSZIkSZLcP9u2bdu27dw/kiRJkiTJ3T+f53me5zncP6qqqqqqKt0/kiRJkiSJ3T/DMAzDMIzcP8MwDMMwDNw/t23btm1b3D+qqqqqqmrcPxiGYRiGodw/wzAMwzBM3T+f53me53ncP6qqqqqqKt0/AAAAAACA3j9hGIZhGEbdP+h5nud5Ht0/Pc/zPM8z3T+3bdu2bdvcP/M8z/M8j90/qqqqqqoq3j8lSZIkSZLfPyVJkiRJkt4/VlVVVVUV3j96nud5nufdP7dt27Zt294/z/M8z/P83T/DMAzDMEzfP/M8z/M8z94/wzAMwzBM3j9WVVVVVZXdPz3P8zzPc94/JUmSJElS3j96nud5nifePw3DMAzD8N4/Pc/zPM9z3j8YhmEYhuHfP1ZVVVVVld8/",
          "dtype": "f8"
         },
         "yaxis": "y"
        }
       ],
       "layout": {
        "annotations": [
         {
          "font": {},
          "showarrow": false,
          "text": "variable=validation_accuracy",
          "textangle": 90,
          "x": 0.98,
          "xanchor": "left",
          "xref": "paper",
          "y": 0.11375,
          "yanchor": "middle",
          "yref": "paper"
         },
         {
          "font": {},
          "showarrow": false,
          "text": "variable=validation_loss",
          "textangle": 90,
          "x": 0.98,
          "xanchor": "left",
          "xref": "paper",
          "y": 0.37124999999999997,
          "yanchor": "middle",
          "yref": "paper"
         },
         {
          "font": {},
          "showarrow": false,
          "text": "variable=train_epoch_accuracy",
          "textangle": 90,
          "x": 0.98,
          "xanchor": "left",
          "xref": "paper",
          "y": 0.62875,
          "yanchor": "middle",
          "yref": "paper"
         },
         {
          "font": {},
          "showarrow": false,
          "text": "variable=train_epoch_loss",
          "textangle": 90,
          "x": 0.98,
          "xanchor": "left",
          "xref": "paper",
          "y": 0.88625,
          "yanchor": "middle",
          "yref": "paper"
         }
        ],
        "legend": {
         "title": {
          "text": "variable"
         },
         "tracegroupgap": 0
        },
        "template": {
         "data": {
          "bar": [
           {
            "error_x": {
             "color": "#2a3f5f"
            },
            "error_y": {
             "color": "#2a3f5f"
            },
            "marker": {
             "line": {
              "color": "#E5ECF6",
              "width": 0.5
             },
             "pattern": {
              "fillmode": "overlay",
              "size": 10,
              "solidity": 0.2
             }
            },
            "type": "bar"
           }
          ],
          "barpolar": [
           {
            "marker": {
             "line": {
              "color": "#E5ECF6",
              "width": 0.5
             },
             "pattern": {
              "fillmode": "overlay",
              "size": 10,
              "solidity": 0.2
             }
            },
            "type": "barpolar"
           }
          ],
          "carpet": [
           {
            "aaxis": {
             "endlinecolor": "#2a3f5f",
             "gridcolor": "white",
             "linecolor": "white",
             "minorgridcolor": "white",
             "startlinecolor": "#2a3f5f"
            },
            "baxis": {
             "endlinecolor": "#2a3f5f",
             "gridcolor": "white",
             "linecolor": "white",
             "minorgridcolor": "white",
             "startlinecolor": "#2a3f5f"
            },
            "type": "carpet"
           }
          ],
          "choropleth": [
           {
            "colorbar": {
             "outlinewidth": 0,
             "ticks": ""
            },
            "type": "choropleth"
           }
          ],
          "contour": [
           {
            "colorbar": {
             "outlinewidth": 0,
             "ticks": ""
            },
            "colorscale": [
             [
              0,
              "#0d0887"
             ],
             [
              0.1111111111111111,
              "#46039f"
             ],
             [
              0.2222222222222222,
              "#7201a8"
             ],
             [
              0.3333333333333333,
              "#9c179e"
             ],
             [
              0.4444444444444444,
              "#bd3786"
             ],
             [
              0.5555555555555556,
              "#d8576b"
             ],
             [
              0.6666666666666666,
              "#ed7953"
             ],
             [
              0.7777777777777778,
              "#fb9f3a"
             ],
             [
              0.8888888888888888,
              "#fdca26"
             ],
             [
              1,
              "#f0f921"
             ]
            ],
            "type": "contour"
           }
          ],
          "contourcarpet": [
           {
            "colorbar": {
             "outlinewidth": 0,
             "ticks": ""
            },
            "type": "contourcarpet"
           }
          ],
          "heatmap": [
           {
            "colorbar": {
             "outlinewidth": 0,
             "ticks": ""
            },
            "colorscale": [
             [
              0,
              "#0d0887"
             ],
             [
              0.1111111111111111,
              "#46039f"
             ],
             [
              0.2222222222222222,
              "#7201a8"
             ],
             [
              0.3333333333333333,
              "#9c179e"
             ],
             [
              0.4444444444444444,
              "#bd3786"
             ],
             [
              0.5555555555555556,
              "#d8576b"
             ],
             [
              0.6666666666666666,
              "#ed7953"
             ],
             [
              0.7777777777777778,
              "#fb9f3a"
             ],
             [
              0.8888888888888888,
              "#fdca26"
             ],
             [
              1,
              "#f0f921"
             ]
            ],
            "type": "heatmap"
           }
          ],
          "histogram": [
           {
            "marker": {
             "pattern": {
              "fillmode": "overlay",
              "size": 10,
              "solidity": 0.2
             }
            },
            "type": "histogram"
           }
          ],
          "histogram2d": [
           {
            "colorbar": {
             "outlinewidth": 0,
             "ticks": ""
            },
            "colorscale": [
             [
              0,
              "#0d0887"
             ],
             [
              0.1111111111111111,
              "#46039f"
             ],
             [
              0.2222222222222222,
              "#7201a8"
             ],
             [
              0.3333333333333333,
              "#9c179e"
             ],
             [
              0.4444444444444444,
              "#bd3786"
             ],
             [
              0.5555555555555556,
              "#d8576b"
             ],
             [
              0.6666666666666666,
              "#ed7953"
             ],
             [
              0.7777777777777778,
              "#fb9f3a"
             ],
             [
              0.8888888888888888,
              "#fdca26"
             ],
             [
              1,
              "#f0f921"
             ]
            ],
            "type": "histogram2d"
           }
          ],
          "histogram2dcontour": [
           {
            "colorbar": {
             "outlinewidth": 0,
             "ticks": ""
            },
            "colorscale": [
             [
              0,
              "#0d0887"
             ],
             [
              0.1111111111111111,
              "#46039f"
             ],
             [
              0.2222222222222222,
              "#7201a8"
             ],
             [
              0.3333333333333333,
              "#9c179e"
             ],
             [
              0.4444444444444444,
              "#bd3786"
             ],
             [
              0.5555555555555556,
              "#d8576b"
             ],
             [
              0.6666666666666666,
              "#ed7953"
             ],
             [
              0.7777777777777778,
              "#fb9f3a"
             ],
             [
              0.8888888888888888,
              "#fdca26"
             ],
             [
              1,
              "#f0f921"
             ]
            ],
            "type": "histogram2dcontour"
           }
          ],
          "mesh3d": [
           {
            "colorbar": {
             "outlinewidth": 0,
             "ticks": ""
            },
            "type": "mesh3d"
           }
          ],
          "parcoords": [
           {
            "line": {
             "colorbar": {
              "outlinewidth": 0,
              "ticks": ""
             }
            },
            "type": "parcoords"
           }
          ],
          "pie": [
           {
            "automargin": true,
            "type": "pie"
           }
          ],
          "scatter": [
           {
            "fillpattern": {
             "fillmode": "overlay",
             "size": 10,
             "solidity": 0.2
            },
            "type": "scatter"
           }
          ],
          "scatter3d": [
           {
            "line": {
             "colorbar": {
              "outlinewidth": 0,
              "ticks": ""
             }
            },
            "marker": {
             "colorbar": {
              "outlinewidth": 0,
              "ticks": ""
             }
            },
            "type": "scatter3d"
           }
          ],
          "scattercarpet": [
           {
            "marker": {
             "colorbar": {
              "outlinewidth": 0,
              "ticks": ""
             }
            },
            "type": "scattercarpet"
           }
          ],
          "scattergeo": [
           {
            "marker": {
             "colorbar": {
              "outlinewidth": 0,
              "ticks": ""
             }
            },
            "type": "scattergeo"
           }
          ],
          "scattergl": [
           {
            "marker": {
             "colorbar": {
              "outlinewidth": 0,
              "ticks": ""
             }
            },
            "type": "scattergl"
           }
          ],
          "scattermap": [
           {
            "marker": {
             "colorbar": {
              "outlinewidth": 0,
              "ticks": ""
             }
            },
            "type": "scattermap"
           }
          ],
          "scattermapbox": [
           {
            "marker": {
             "colorbar": {
              "outlinewidth": 0,
              "ticks": ""
             }
            },
            "type": "scattermapbox"
           }
          ],
          "scatterpolar": [
           {
            "marker": {
             "colorbar": {
              "outlinewidth": 0,
              "ticks": ""
             }
            },
            "type": "scatterpolar"
           }
          ],
          "scatterpolargl": [
           {
            "marker": {
             "colorbar": {
              "outlinewidth": 0,
              "ticks": ""
             }
            },
            "type": "scatterpolargl"
           }
          ],
          "scatterternary": [
           {
            "marker": {
             "colorbar": {
              "outlinewidth": 0,
              "ticks": ""
             }
            },
            "type": "scatterternary"
           }
          ],
          "surface": [
           {
            "colorbar": {
             "outlinewidth": 0,
             "ticks": ""
            },
            "colorscale": [
             [
              0,
              "#0d0887"
             ],
             [
              0.1111111111111111,
              "#46039f"
             ],
             [
              0.2222222222222222,
              "#7201a8"
             ],
             [
              0.3333333333333333,
              "#9c179e"
             ],
             [
              0.4444444444444444,
              "#bd3786"
             ],
             [
              0.5555555555555556,
              "#d8576b"
             ],
             [
              0.6666666666666666,
              "#ed7953"
             ],
             [
              0.7777777777777778,
              "#fb9f3a"
             ],
             [
              0.8888888888888888,
              "#fdca26"
             ],
             [
              1,
              "#f0f921"
             ]
            ],
            "type": "surface"
           }
          ],
          "table": [
           {
            "cells": {
             "fill": {
              "color": "#EBF0F8"
             },
             "line": {
              "color": "white"
             }
            },
            "header": {
             "fill": {
              "color": "#C8D4E3"
             },
             "line": {
              "color": "white"
             }
            },
            "type": "table"
           }
          ]
         },
         "layout": {
          "annotationdefaults": {
           "arrowcolor": "#2a3f5f",
           "arrowhead": 0,
           "arrowwidth": 1
          },
          "autotypenumbers": "strict",
          "coloraxis": {
           "colorbar": {
            "outlinewidth": 0,
            "ticks": ""
           }
          },
          "colorscale": {
           "diverging": [
            [
             0,
             "#8e0152"
            ],
            [
             0.1,
             "#c51b7d"
            ],
            [
             0.2,
             "#de77ae"
            ],
            [
             0.3,
             "#f1b6da"
            ],
            [
             0.4,
             "#fde0ef"
            ],
            [
             0.5,
             "#f7f7f7"
            ],
            [
             0.6,
             "#e6f5d0"
            ],
            [
             0.7,
             "#b8e186"
            ],
            [
             0.8,
             "#7fbc41"
            ],
            [
             0.9,
             "#4d9221"
            ],
            [
             1,
             "#276419"
            ]
           ],
           "sequential": [
            [
             0,
             "#0d0887"
            ],
            [
             0.1111111111111111,
             "#46039f"
            ],
            [
             0.2222222222222222,
             "#7201a8"
            ],
            [
             0.3333333333333333,
             "#9c179e"
            ],
            [
             0.4444444444444444,
             "#bd3786"
            ],
            [
             0.5555555555555556,
             "#d8576b"
            ],
            [
             0.6666666666666666,
             "#ed7953"
            ],
            [
             0.7777777777777778,
             "#fb9f3a"
            ],
            [
             0.8888888888888888,
             "#fdca26"
            ],
            [
             1,
             "#f0f921"
            ]
           ],
           "sequentialminus": [
            [
             0,
             "#0d0887"
            ],
            [
             0.1111111111111111,
             "#46039f"
            ],
            [
             0.2222222222222222,
             "#7201a8"
            ],
            [
             0.3333333333333333,
             "#9c179e"
            ],
            [
             0.4444444444444444,
             "#bd3786"
            ],
            [
             0.5555555555555556,
             "#d8576b"
            ],
            [
             0.6666666666666666,
             "#ed7953"
            ],
            [
             0.7777777777777778,
             "#fb9f3a"
            ],
            [
             0.8888888888888888,
             "#fdca26"
            ],
            [
             1,
             "#f0f921"
            ]
           ]
          },
          "colorway": [
           "#636efa",
           "#EF553B",
           "#00cc96",
           "#ab63fa",
           "#FFA15A",
           "#19d3f3",
           "#FF6692",
           "#B6E880",
           "#FF97FF",
           "#FECB52"
          ],
          "font": {
           "color": "#2a3f5f"
          },
          "geo": {
           "bgcolor": "white",
           "lakecolor": "white",
           "landcolor": "#E5ECF6",
           "showlakes": true,
           "showland": true,
           "subunitcolor": "white"
          },
          "hoverlabel": {
           "align": "left"
          },
          "hovermode": "closest",
          "mapbox": {
           "style": "light"
          },
          "paper_bgcolor": "white",
          "plot_bgcolor": "#E5ECF6",
          "polar": {
           "angularaxis": {
            "gridcolor": "white",
            "linecolor": "white",
            "ticks": ""
           },
           "bgcolor": "#E5ECF6",
           "radialaxis": {
            "gridcolor": "white",
            "linecolor": "white",
            "ticks": ""
           }
          },
          "scene": {
           "xaxis": {
            "backgroundcolor": "#E5ECF6",
            "gridcolor": "white",
            "gridwidth": 2,
            "linecolor": "white",
            "showbackground": true,
            "ticks": "",
            "zerolinecolor": "white"
           },
           "yaxis": {
            "backgroundcolor": "#E5ECF6",
            "gridcolor": "white",
            "gridwidth": 2,
            "linecolor": "white",
            "showbackground": true,
            "ticks": "",
            "zerolinecolor": "white"
           },
           "zaxis": {
            "backgroundcolor": "#E5ECF6",
            "gridcolor": "white",
            "gridwidth": 2,
            "linecolor": "white",
            "showbackground": true,
            "ticks": "",
            "zerolinecolor": "white"
           }
          },
          "shapedefaults": {
           "line": {
            "color": "#2a3f5f"
           }
          },
          "ternary": {
           "aaxis": {
            "gridcolor": "white",
            "linecolor": "white",
            "ticks": ""
           },
           "baxis": {
            "gridcolor": "white",
            "linecolor": "white",
            "ticks": ""
           },
           "bgcolor": "#E5ECF6",
           "caxis": {
            "gridcolor": "white",
            "linecolor": "white",
            "ticks": ""
           }
          },
          "title": {
           "x": 0.05
          },
          "xaxis": {
           "automargin": true,
           "gridcolor": "white",
           "linecolor": "white",
           "ticks": "",
           "title": {
            "standoff": 15
           },
           "zerolinecolor": "white",
           "zerolinewidth": 2
          },
          "yaxis": {
           "automargin": true,
           "gridcolor": "white",
           "linecolor": "white",
           "ticks": "",
           "title": {
            "standoff": 15
           },
           "zerolinecolor": "white",
           "zerolinewidth": 2
          }
         }
        },
        "title": {
         "text": "epoch metrics"
        },
        "xaxis": {
         "anchor": "y",
         "domain": [
          0,
          0.98
         ],
         "title": {
          "text": "step"
         }
        },
        "xaxis2": {
         "anchor": "y2",
         "domain": [
          0,
          0.98
         ],
         "matches": "x",
         "showticklabels": false
        },
        "xaxis3": {
         "anchor": "y3",
         "domain": [
          0,
          0.98
         ],
         "matches": "x",
         "showticklabels": false
        },
        "xaxis4": {
         "anchor": "y4",
         "domain": [
          0,
          0.98
         ],
         "matches": "x",
         "showticklabels": false
        },
        "yaxis": {
         "anchor": "x",
         "domain": [
          0,
          0.2275
         ],
         "title": {
          "text": "value"
         }
        },
        "yaxis2": {
         "anchor": "x2",
         "domain": [
          0.2575,
          0.485
         ],
         "title": {
          "text": "value"
         }
        },
        "yaxis3": {
         "anchor": "x3",
         "domain": [
          0.515,
          0.7425
         ],
         "title": {
          "text": "value"
         }
        },
        "yaxis4": {
         "anchor": "x4",
         "domain": [
          0.7725,
          1
         ],
         "title": {
          "text": "value"
         }
        }
       }
      }
     },
     "metadata": {},
     "output_type": "display_data"
    },
    {
     "name": "stdout",
     "output_type": "stream",
     "text": [
      "=========================\n",
      "training: 5\n"
     ]
    },
    {
     "data": {
      "application/vnd.jupyter.widget-view+json": {
       "model_id": "47afdd506424476b9399819a41d0d32d",
       "version_major": 2,
       "version_minor": 0
      },
      "text/plain": [
       "Output()"
      ]
     },
     "metadata": {},
     "output_type": "display_data"
    },
    {
     "data": {
      "text/html": [
       "<pre style=\"white-space:pre;overflow-x:auto;line-height:normal;font-family:Menlo,'DejaVu Sans Mono',consolas,'Courier New',monospace\"></pre>\n"
      ],
      "text/plain": []
     },
     "metadata": {},
     "output_type": "display_data"
    },
    {
     "data": {
      "application/vnd.plotly.v1+json": {
       "config": {
        "plotlyServerURL": "https://plot.ly"
       },
       "data": [
        {
         "hovertemplate": "variable=batch_train_loss<br>step=%{x}<br>value=%{y}<extra></extra>",
         "legendgroup": "",
         "marker": {
          "color": "#636efa",
          "symbol": "circle"
         },
         "mode": "markers",
         "name": "",
         "showlegend": false,
         "type": "scattergl",
         "x": {
          "bdata": "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",
          "dtype": "i2"
         },
         "xaxis": "x2",
         "y": {
          "bdata": "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",
          "dtype": "f8"
         },
         "yaxis": "y2"
        },
        {
         "hovertemplate": "<b>Exponentially Weighted mean trendline</b><br><br>variable=batch_train_loss<br>step=%{x}<br>value=%{y} <b>(trend)</b><extra></extra>",
         "legendgroup": "",
         "line": {
          "color": "red"
         },
         "marker": {
          "color": "#636efa",
          "symbol": "circle"
         },
         "mode": "lines",
         "name": "",
         "showlegend": false,
         "type": "scattergl",
         "x": {
          "bdata": "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",
          "dtype": "i2"
         },
         "xaxis": "x2",
         "y": {
          "bdata": "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",
          "dtype": "f8"
         },
         "yaxis": "y2"
        },
        {
         "hovertemplate": "variable=batch_accuracy<br>step=%{x}<br>value=%{y}<extra></extra>",
         "legendgroup": "",
         "marker": {
          "color": "#636efa",
          "symbol": "circle"
         },
         "mode": "markers",
         "name": "",
         "showlegend": false,
         "type": "scattergl",
         "x": {
          "bdata": "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",
          "dtype": "i2"
         },
         "xaxis": "x",
         "y": {
          "bdata": "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",
          "dtype": "f8"
         },
         "yaxis": "y"
        },
        {
         "hovertemplate": "<b>Exponentially Weighted mean trendline</b><br><br>variable=batch_accuracy<br>step=%{x}<br>value=%{y} <b>(trend)</b><extra></extra>",
         "legendgroup": "",
         "line": {
          "color": "red"
         },
         "marker": {
          "color": "#636efa",
          "symbol": "circle"
         },
         "mode": "lines",
         "name": "",
         "showlegend": false,
         "type": "scattergl",
         "x": {
          "bdata": "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",
          "dtype": "i2"
         },
         "xaxis": "x",
         "y": {
          "bdata": "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",
          "dtype": "f8"
         },
         "yaxis": "y"
        }
       ],
       "layout": {
        "annotations": [
         {
          "font": {},
          "showarrow": false,
          "text": "variable=batch_accuracy",
          "textangle": 90,
          "x": 0.98,
          "xanchor": "left",
          "xref": "paper",
          "y": 0.2425,
          "yanchor": "middle",
          "yref": "paper"
         },
         {
          "font": {},
          "showarrow": false,
          "text": "variable=batch_train_loss",
          "textangle": 90,
          "x": 0.98,
          "xanchor": "left",
          "xref": "paper",
          "y": 0.7575000000000001,
          "yanchor": "middle",
          "yref": "paper"
         }
        ],
        "legend": {
         "tracegroupgap": 0
        },
        "template": {
         "data": {
          "bar": [
           {
            "error_x": {
             "color": "#2a3f5f"
            },
            "error_y": {
             "color": "#2a3f5f"
            },
            "marker": {
             "line": {
              "color": "#E5ECF6",
              "width": 0.5
             },
             "pattern": {
              "fillmode": "overlay",
              "size": 10,
              "solidity": 0.2
             }
            },
            "type": "bar"
           }
          ],
          "barpolar": [
           {
            "marker": {
             "line": {
              "color": "#E5ECF6",
              "width": 0.5
             },
             "pattern": {
              "fillmode": "overlay",
              "size": 10,
              "solidity": 0.2
             }
            },
            "type": "barpolar"
           }
          ],
          "carpet": [
           {
            "aaxis": {
             "endlinecolor": "#2a3f5f",
             "gridcolor": "white",
             "linecolor": "white",
             "minorgridcolor": "white",
             "startlinecolor": "#2a3f5f"
            },
            "baxis": {
             "endlinecolor": "#2a3f5f",
             "gridcolor": "white",
             "linecolor": "white",
             "minorgridcolor": "white",
             "startlinecolor": "#2a3f5f"
            },
            "type": "carpet"
           }
          ],
          "choropleth": [
           {
            "colorbar": {
             "outlinewidth": 0,
             "ticks": ""
            },
            "type": "choropleth"
           }
          ],
          "contour": [
           {
            "colorbar": {
             "outlinewidth": 0,
             "ticks": ""
            },
            "colorscale": [
             [
              0,
              "#0d0887"
             ],
             [
              0.1111111111111111,
              "#46039f"
             ],
             [
              0.2222222222222222,
              "#7201a8"
             ],
             [
              0.3333333333333333,
              "#9c179e"
             ],
             [
              0.4444444444444444,
              "#bd3786"
             ],
             [
              0.5555555555555556,
              "#d8576b"
             ],
             [
              0.6666666666666666,
              "#ed7953"
             ],
             [
              0.7777777777777778,
              "#fb9f3a"
             ],
             [
              0.8888888888888888,
              "#fdca26"
             ],
             [
              1,
              "#f0f921"
             ]
            ],
            "type": "contour"
           }
          ],
          "contourcarpet": [
           {
            "colorbar": {
             "outlinewidth": 0,
             "ticks": ""
            },
            "type": "contourcarpet"
           }
          ],
          "heatmap": [
           {
            "colorbar": {
             "outlinewidth": 0,
             "ticks": ""
            },
            "colorscale": [
             [
              0,
              "#0d0887"
             ],
             [
              0.1111111111111111,
              "#46039f"
             ],
             [
              0.2222222222222222,
              "#7201a8"
             ],
             [
              0.3333333333333333,
              "#9c179e"
             ],
             [
              0.4444444444444444,
              "#bd3786"
             ],
             [
              0.5555555555555556,
              "#d8576b"
             ],
             [
              0.6666666666666666,
              "#ed7953"
             ],
             [
              0.7777777777777778,
              "#fb9f3a"
             ],
             [
              0.8888888888888888,
              "#fdca26"
             ],
             [
              1,
              "#f0f921"
             ]
            ],
            "type": "heatmap"
           }
          ],
          "histogram": [
           {
            "marker": {
             "pattern": {
              "fillmode": "overlay",
              "size": 10,
              "solidity": 0.2
             }
            },
            "type": "histogram"
           }
          ],
          "histogram2d": [
           {
            "colorbar": {
             "outlinewidth": 0,
             "ticks": ""
            },
            "colorscale": [
             [
              0,
              "#0d0887"
             ],
             [
              0.1111111111111111,
              "#46039f"
             ],
             [
              0.2222222222222222,
              "#7201a8"
             ],
             [
              0.3333333333333333,
              "#9c179e"
             ],
             [
              0.4444444444444444,
              "#bd3786"
             ],
             [
              0.5555555555555556,
              "#d8576b"
             ],
             [
              0.6666666666666666,
              "#ed7953"
             ],
             [
              0.7777777777777778,
              "#fb9f3a"
             ],
             [
              0.8888888888888888,
              "#fdca26"
             ],
             [
              1,
              "#f0f921"
             ]
            ],
            "type": "histogram2d"
           }
          ],
          "histogram2dcontour": [
           {
            "colorbar": {
             "outlinewidth": 0,
             "ticks": ""
            },
            "colorscale": [
             [
              0,
              "#0d0887"
             ],
             [
              0.1111111111111111,
              "#46039f"
             ],
             [
              0.2222222222222222,
              "#7201a8"
             ],
             [
              0.3333333333333333,
              "#9c179e"
             ],
             [
              0.4444444444444444,
              "#bd3786"
             ],
             [
              0.5555555555555556,
              "#d8576b"
             ],
             [
              0.6666666666666666,
              "#ed7953"
             ],
             [
              0.7777777777777778,
              "#fb9f3a"
             ],
             [
              0.8888888888888888,
              "#fdca26"
             ],
             [
              1,
              "#f0f921"
             ]
            ],
            "type": "histogram2dcontour"
           }
          ],
          "mesh3d": [
           {
            "colorbar": {
             "outlinewidth": 0,
             "ticks": ""
            },
            "type": "mesh3d"
           }
          ],
          "parcoords": [
           {
            "line": {
             "colorbar": {
              "outlinewidth": 0,
              "ticks": ""
             }
            },
            "type": "parcoords"
           }
          ],
          "pie": [
           {
            "automargin": true,
            "type": "pie"
           }
          ],
          "scatter": [
           {
            "fillpattern": {
             "fillmode": "overlay",
             "size": 10,
             "solidity": 0.2
            },
            "type": "scatter"
           }
          ],
          "scatter3d": [
           {
            "line": {
             "colorbar": {
              "outlinewidth": 0,
              "ticks": ""
             }
            },
            "marker": {
             "colorbar": {
              "outlinewidth": 0,
              "ticks": ""
             }
            },
            "type": "scatter3d"
           }
          ],
          "scattercarpet": [
           {
            "marker": {
             "colorbar": {
              "outlinewidth": 0,
              "ticks": ""
             }
            },
            "type": "scattercarpet"
           }
          ],
          "scattergeo": [
           {
            "marker": {
             "colorbar": {
              "outlinewidth": 0,
              "ticks": ""
             }
            },
            "type": "scattergeo"
           }
          ],
          "scattergl": [
           {
            "marker": {
             "colorbar": {
              "outlinewidth": 0,
              "ticks": ""
             }
            },
            "type": "scattergl"
           }
          ],
          "scattermap": [
           {
            "marker": {
             "colorbar": {
              "outlinewidth": 0,
              "ticks": ""
             }
            },
            "type": "scattermap"
           }
          ],
          "scattermapbox": [
           {
            "marker": {
             "colorbar": {
              "outlinewidth": 0,
              "ticks": ""
             }
            },
            "type": "scattermapbox"
           }
          ],
          "scatterpolar": [
           {
            "marker": {
             "colorbar": {
              "outlinewidth": 0,
              "ticks": ""
             }
            },
            "type": "scatterpolar"
           }
          ],
          "scatterpolargl": [
           {
            "marker": {
             "colorbar": {
              "outlinewidth": 0,
              "ticks": ""
             }
            },
            "type": "scatterpolargl"
           }
          ],
          "scatterternary": [
           {
            "marker": {
             "colorbar": {
              "outlinewidth": 0,
              "ticks": ""
             }
            },
            "type": "scatterternary"
           }
          ],
          "surface": [
           {
            "colorbar": {
             "outlinewidth": 0,
             "ticks": ""
            },
            "colorscale": [
             [
              0,
              "#0d0887"
             ],
             [
              0.1111111111111111,
              "#46039f"
             ],
             [
              0.2222222222222222,
              "#7201a8"
             ],
             [
              0.3333333333333333,
              "#9c179e"
             ],
             [
              0.4444444444444444,
              "#bd3786"
             ],
             [
              0.5555555555555556,
              "#d8576b"
             ],
             [
              0.6666666666666666,
              "#ed7953"
             ],
             [
              0.7777777777777778,
              "#fb9f3a"
             ],
             [
              0.8888888888888888,
              "#fdca26"
             ],
             [
              1,
              "#f0f921"
             ]
            ],
            "type": "surface"
           }
          ],
          "table": [
           {
            "cells": {
             "fill": {
              "color": "#EBF0F8"
             },
             "line": {
              "color": "white"
             }
            },
            "header": {
             "fill": {
              "color": "#C8D4E3"
             },
             "line": {
              "color": "white"
             }
            },
            "type": "table"
           }
          ]
         },
         "layout": {
          "annotationdefaults": {
           "arrowcolor": "#2a3f5f",
           "arrowhead": 0,
           "arrowwidth": 1
          },
          "autotypenumbers": "strict",
          "coloraxis": {
           "colorbar": {
            "outlinewidth": 0,
            "ticks": ""
           }
          },
          "colorscale": {
           "diverging": [
            [
             0,
             "#8e0152"
            ],
            [
             0.1,
             "#c51b7d"
            ],
            [
             0.2,
             "#de77ae"
            ],
            [
             0.3,
             "#f1b6da"
            ],
            [
             0.4,
             "#fde0ef"
            ],
            [
             0.5,
             "#f7f7f7"
            ],
            [
             0.6,
             "#e6f5d0"
            ],
            [
             0.7,
             "#b8e186"
            ],
            [
             0.8,
             "#7fbc41"
            ],
            [
             0.9,
             "#4d9221"
            ],
            [
             1,
             "#276419"
            ]
           ],
           "sequential": [
            [
             0,
             "#0d0887"
            ],
            [
             0.1111111111111111,
             "#46039f"
            ],
            [
             0.2222222222222222,
             "#7201a8"
            ],
            [
             0.3333333333333333,
             "#9c179e"
            ],
            [
             0.4444444444444444,
             "#bd3786"
            ],
            [
             0.5555555555555556,
             "#d8576b"
            ],
            [
             0.6666666666666666,
             "#ed7953"
            ],
            [
             0.7777777777777778,
             "#fb9f3a"
            ],
            [
             0.8888888888888888,
             "#fdca26"
            ],
            [
             1,
             "#f0f921"
            ]
           ],
           "sequentialminus": [
            [
             0,
             "#0d0887"
            ],
            [
             0.1111111111111111,
             "#46039f"
            ],
            [
             0.2222222222222222,
             "#7201a8"
            ],
            [
             0.3333333333333333,
             "#9c179e"
            ],
            [
             0.4444444444444444,
             "#bd3786"
            ],
            [
             0.5555555555555556,
             "#d8576b"
            ],
            [
             0.6666666666666666,
             "#ed7953"
            ],
            [
             0.7777777777777778,
             "#fb9f3a"
            ],
            [
             0.8888888888888888,
             "#fdca26"
            ],
            [
             1,
             "#f0f921"
            ]
           ]
          },
          "colorway": [
           "#636efa",
           "#EF553B",
           "#00cc96",
           "#ab63fa",
           "#FFA15A",
           "#19d3f3",
           "#FF6692",
           "#B6E880",
           "#FF97FF",
           "#FECB52"
          ],
          "font": {
           "color": "#2a3f5f"
          },
          "geo": {
           "bgcolor": "white",
           "lakecolor": "white",
           "landcolor": "#E5ECF6",
           "showlakes": true,
           "showland": true,
           "subunitcolor": "white"
          },
          "hoverlabel": {
           "align": "left"
          },
          "hovermode": "closest",
          "mapbox": {
           "style": "light"
          },
          "paper_bgcolor": "white",
          "plot_bgcolor": "#E5ECF6",
          "polar": {
           "angularaxis": {
            "gridcolor": "white",
            "linecolor": "white",
            "ticks": ""
           },
           "bgcolor": "#E5ECF6",
           "radialaxis": {
            "gridcolor": "white",
            "linecolor": "white",
            "ticks": ""
           }
          },
          "scene": {
           "xaxis": {
            "backgroundcolor": "#E5ECF6",
            "gridcolor": "white",
            "gridwidth": 2,
            "linecolor": "white",
            "showbackground": true,
            "ticks": "",
            "zerolinecolor": "white"
           },
           "yaxis": {
            "backgroundcolor": "#E5ECF6",
            "gridcolor": "white",
            "gridwidth": 2,
            "linecolor": "white",
            "showbackground": true,
            "ticks": "",
            "zerolinecolor": "white"
           },
           "zaxis": {
            "backgroundcolor": "#E5ECF6",
            "gridcolor": "white",
            "gridwidth": 2,
            "linecolor": "white",
            "showbackground": true,
            "ticks": "",
            "zerolinecolor": "white"
           }
          },
          "shapedefaults": {
           "line": {
            "color": "#2a3f5f"
           }
          },
          "ternary": {
           "aaxis": {
            "gridcolor": "white",
            "linecolor": "white",
            "ticks": ""
           },
           "baxis": {
            "gridcolor": "white",
            "linecolor": "white",
            "ticks": ""
           },
           "bgcolor": "#E5ECF6",
           "caxis": {
            "gridcolor": "white",
            "linecolor": "white",
            "ticks": ""
           }
          },
          "title": {
           "x": 0.05
          },
          "xaxis": {
           "automargin": true,
           "gridcolor": "white",
           "linecolor": "white",
           "ticks": "",
           "title": {
            "standoff": 15
           },
           "zerolinecolor": "white",
           "zerolinewidth": 2
          },
          "yaxis": {
           "automargin": true,
           "gridcolor": "white",
           "linecolor": "white",
           "ticks": "",
           "title": {
            "standoff": 15
           },
           "zerolinecolor": "white",
           "zerolinewidth": 2
          }
         }
        },
        "title": {
         "text": "batch metrics"
        },
        "xaxis": {
         "anchor": "y",
         "domain": [
          0,
          0.98
         ],
         "title": {
          "text": "step"
         }
        },
        "xaxis2": {
         "anchor": "y2",
         "domain": [
          0,
          0.98
         ],
         "matches": "x",
         "showticklabels": false
        },
        "yaxis": {
         "anchor": "x",
         "domain": [
          0,
          0.485
         ],
         "title": {
          "text": "value"
         }
        },
        "yaxis2": {
         "anchor": "x2",
         "domain": [
          0.515,
          1
         ],
         "title": {
          "text": "value"
         }
        }
       }
      }
     },
     "metadata": {},
     "output_type": "display_data"
    },
    {
     "data": {
      "application/vnd.plotly.v1+json": {
       "config": {
        "plotlyServerURL": "https://plot.ly"
       },
       "data": [
        {
         "hovertemplate": "variable=train_epoch_loss<br>step=%{x}<br>value=%{y}<extra></extra>",
         "legendgroup": "train_epoch_loss",
         "line": {
          "color": "#636efa",
          "dash": "solid"
         },
         "marker": {
          "symbol": "circle"
         },
         "mode": "lines",
         "name": "train_epoch_loss",
         "orientation": "v",
         "showlegend": true,
         "type": "scatter",
         "x": {
          "bdata": "GQAzAE0AZwCBAJsAtQDPAOkAAwEdATcBUQFrAYUBnwG5AdMB7QEHAiECOwJVAm8CiQKjAr0C1wLxAgsDJQM/A1kDcwONA6cDwQPbA/UDDwQpBEMEXQR3BJEEqwTFBN8E+QQTBS0FRwVhBXsFlQWvBckF4wX9BRcG",
          "dtype": "i2"
         },
         "xaxis": "x4",
         "y": {
          "bdata": "2YmdiJQEBkB2YidWGzsFQIqd2Bkp+gRA7MRO/FS2BEAUO7FjRaEEQNmJnejnaQRAip3YudwxBEAUO7GjZRkEQIqd2MnC/QNAsRM7cTrqA0BP7MReN7kDQOzETtwjogNAT+zEvumwA0AAAADw9oMDQMVO7NQtYwNAFDuxo2hOA0AAAABQCDkDQIqd2Nm1MANAdmInBuYUA0DsxE5cCQcDQAAAACCx/gJAJ3Zi1wneAkAndmJ3Ar4CQHZiJ6YomgJAsRM7QVacAkCe2IltwocCQLETO1FAaAJAFDuxs+paAkDZiZ3YDlQCQNmJnUiYVwJAdmInBpxOAkAUO7ETNUICQLETO8FuRwJAip3YmdkzAkDZiZ2odisCQNmJndjMKwJAntiJ7W8SAkBiJ3bSO/ABQIqd2Mnm0gFAYid2cuvCAUA7sRPbLsIBQMVO7ISvsQFAdmInNrieAUB2YidGUKMBQAAAAMCeogFAFDuxYz6cAUBP7MRuv4sBQCd2YtfxhQFAFDux80yIAUA7sRM7R3UBQE/sxO7OaQFAntiJzYdqAUAUO7GTo2cBQHZiJ0byYAFA7MROzKdlAUCxEzsBaWgBQCd2Yie2XAFAYid2cgNWAUBiJ3ai6VUBQIqd2PkWVQFA",
          "dtype": "f8"
         },
         "yaxis": "y4"
        },
        {
         "hovertemplate": "variable=train_epoch_accuracy<br>step=%{x}<br>value=%{y}<extra></extra>",
         "legendgroup": "train_epoch_accuracy",
         "line": {
          "color": "#EF553B",
          "dash": "solid"
         },
         "marker": {
          "symbol": "circle"
         },
         "mode": "lines",
         "name": "train_epoch_accuracy",
         "orientation": "v",
         "showlegend": true,
         "type": "scatter",
         "x": {
          "bdata": "GQAzAE0AZwCBAJsAtQDPAOkAAwEdATcBUQFrAYUBnwG5AdMB7QEHAiECOwJVAm8CiQKjAr0C1wLxAgsDJQM/A1kDcwONA6cDwQPbA/UDDwQpBEMEXQR3BJEEqwTFBN8E+QQTBS0FRwVhBXsFlQWvBckF4wX9BRcG",
          "dtype": "i2"
         },
         "xaxis": "x3",
         "y": {
          "bdata": "cYw75bigzT8efz5qAdzUP0+Gl4GP7dY/+0T1oJE32T/bwXw6MMXZP7pubz21jds/smLBSJWK3T9JYSVZZBfeP+Hk0WQrEN8/ZHb8+aiF3z8432GmZ5PgP2b5J/dw9uA/On1u1Wqi4D/x5YYYkG7hPyLt3y8eAOI/+Sf3cCZu4j9ehS83xKDiPw7L8k/uweI/sHdLgEBH4z+VSbCr8HXjPxalGN33juM/2ou61rkY5D9RPWjknZ/kP+x35VJzOuU/+b+spZkr5T9OUNUdGXHlPy8c40457uU/lOFl4GMj5j+ixzlijUPmPy8c4045LuY/PJpsBdZb5j9pZay+XX/mP0pKfiOJb+Y/GSph2O/K5j/F6L738eTmP5EqlX1V4eY/YsFIlcpO5z95mgbYCM/nPweNvPO3SOg/zNuouAaF6D9XyAfaJX3oP+Fl4GPDxeg/YXLC/UgP6T/5jSQ+gwXpPwzJ1VG+Buk/OZQVC0Ya6T/8k3s4E1fpP9W1zkUQcuk/mmwF1utg6T8eZno29rjpP5wKEgXvz+k/tzit2T7R6T+irnUuguDpP0V0kpLf+Ok/8Zo6fW7l6T8645uix9npPxpgIzxmB+o/kMJKssge6j+VFyhE2h/qP6Ff75YAIeo/",
          "dtype": "f8"
         },
         "yaxis": "y3"
        },
        {
         "hovertemplate": "variable=validation_loss<br>step=%{x}<br>value=%{y}<extra></extra>",
         "legendgroup": "validation_loss",
         "line": {
          "color": "#00cc96",
          "dash": "solid"
         },
         "marker": {
          "symbol": "circle"
         },
         "mode": "lines",
         "name": "validation_loss",
         "orientation": "v",
         "showlegend": true,
         "type": "scatter",
         "x": {
          "bdata": "GQAzAE0AZwCBAJsAtQDPAOkAAwEdATcBUQFrAYUBnwG5AdMB7QEHAiECOwJVAm8CiQKjAr0C1wLxAgsDJQM/A1kDcwONA6cDwQPbA/UDDwQpBEMEXQR3BJEEqwTFBN8E+QQTBS0FRwVhBXsFlQWvBckF4wX9BRcG",
          "dtype": "i2"
         },
         "xaxis": "x2",
         "y": {
          "bdata": "t23bljA3BUAlSZJEiuIEQNu2bft+vgRA27ZtW+WgBEDbtm3bnoUEQLdt21bPhARA27Zt23hFBECSJEny4U4EQLdt2/YXNQRAAAAAoNAkBECSJEmyCB8EQJIkSfIeJARAkiRJEsA0BEDbtm07GhMEQAAAAICVNQRAJUmSpMUgBEDbtm0b1w8EQLdt2xZ4JwRAAAAAIB0xBEDbtm17bjAEQLdt23aQLgRAJUmSRGIUBEAAAAAgivwDQNu2bdt7CwRAAAAAAEAABEBu27YNWtADQJIkSTLUAARAAAAAQDL4A0AlSZKkqeQDQNu2bVvc8QNAbtu2jfUGBEDbtm3brv8DQAAAAGDI9ANAbtu2LR3MA0CSJEkSANwDQAAAAMBw/ANAbtu2zY3mA0C3bds2DsQDQLdt23bGvANAkiRJMovPA0AAAABAVs4DQEmSJMmquANASZIkCfnNA0AlSZJEp7oDQG7btg3a0QNASZIkicK7A0Dbtm1bUsQDQEmSJAng2gNA27Zt++7SA0AAAACAr84DQJIkSTK20QNAkiRJsnHYA0BJkiRpZ6YDQAAAAOCOuANA27Ztm0yuA0C3bdu23tgDQJIkSXKT1wNAJUmSBI28A0CSJElSCNMDQAAAACAjuQNA",
          "dtype": "f8"
         },
         "yaxis": "y2"
        },
        {
         "hovertemplate": "variable=validation_accuracy<br>step=%{x}<br>value=%{y}<extra></extra>",
         "legendgroup": "validation_accuracy",
         "line": {
          "color": "#ab63fa",
          "dash": "solid"
         },
         "marker": {
          "symbol": "circle"
         },
         "mode": "lines",
         "name": "validation_accuracy",
         "orientation": "v",
         "showlegend": true,
         "type": "scatter",
         "x": {
          "bdata": "GQAzAE0AZwCBAJsAtQDPAOkAAwEdATcBUQFrAYUBnwG5AdMB7QEHAiECOwJVAm8CiQKjAr0C1wLxAgsDJQM/A1kDcwONA6cDwQPbA/UDDwQpBEMEXQR3BJEEqwTFBN8E+QQTBS0FRwVhBXsFlQWvBckF4wX9BRcG",
          "dtype": "i2"
         },
         "xaxis": "x",
         "y": {
          "bdata": "SZIkSZIk1T9u27Zt2zbYP+h5nud53tg/n+d5nue52T9hGIZhGIbaPw3DMAzDsNo/DcMwDMOw3D/btm3btm3cP8/zPM/z/Nw/ep7neZ6n3T9u27Zt2/bdP0mSJEmSZN0/VlVVVVUV3T+GYRiGYVjeP3qe53me59w/qqqqqqqq3T+3bdu2bVvePwAAAAAAgN0/MQzDMAwD3T9WVVVVVVXdP9u2bdu2Ld0/GIZhGIah3T96nud5nqfeP6qqqqqqat4/z/M8z/M83z9iGIZhGCbgP/M8z/M8j94/SZIkSZIk3z8xDMMwDMPfP5IkSZIkCd8/wzAMwzCM3j8xDMMwDIPeP7dt27Zt294/hmEYhmFY4D8MwzAMwxDgP0mSJEmSpN4/VlVVVVVV3z/DMAzDMEzgP7dt27Zte+A/nud5nuc54D9VVVVVVRXgP27btm3btuA/SZIkSZIE4D/neZ7neV7gP2IYhmEYJuA/kiRJkiRp4D9VVVVVVVXgP0mSJEmSZN8/JUmSJEky4D+SJEmSJCngP5IkSZIkCeA/YRiGYRiG3z9JkiRJkgThP+d5nud5XuA/9DzP8zyv4D+GYRiGYdjfPwzDMAzDEOA/GYZhGIZB4D+qqqqqqurfP0mSJEmSZOA/",
          "dtype": "f8"
         },
         "yaxis": "y"
        }
       ],
       "layout": {
        "annotations": [
         {
          "font": {},
          "showarrow": false,
          "text": "variable=validation_accuracy",
          "textangle": 90,
          "x": 0.98,
          "xanchor": "left",
          "xref": "paper",
          "y": 0.11375,
          "yanchor": "middle",
          "yref": "paper"
         },
         {
          "font": {},
          "showarrow": false,
          "text": "variable=validation_loss",
          "textangle": 90,
          "x": 0.98,
          "xanchor": "left",
          "xref": "paper",
          "y": 0.37124999999999997,
          "yanchor": "middle",
          "yref": "paper"
         },
         {
          "font": {},
          "showarrow": false,
          "text": "variable=train_epoch_accuracy",
          "textangle": 90,
          "x": 0.98,
          "xanchor": "left",
          "xref": "paper",
          "y": 0.62875,
          "yanchor": "middle",
          "yref": "paper"
         },
         {
          "font": {},
          "showarrow": false,
          "text": "variable=train_epoch_loss",
          "textangle": 90,
          "x": 0.98,
          "xanchor": "left",
          "xref": "paper",
          "y": 0.88625,
          "yanchor": "middle",
          "yref": "paper"
         }
        ],
        "legend": {
         "title": {
          "text": "variable"
         },
         "tracegroupgap": 0
        },
        "template": {
         "data": {
          "bar": [
           {
            "error_x": {
             "color": "#2a3f5f"
            },
            "error_y": {
             "color": "#2a3f5f"
            },
            "marker": {
             "line": {
              "color": "#E5ECF6",
              "width": 0.5
             },
             "pattern": {
              "fillmode": "overlay",
              "size": 10,
              "solidity": 0.2
             }
            },
            "type": "bar"
           }
          ],
          "barpolar": [
           {
            "marker": {
             "line": {
              "color": "#E5ECF6",
              "width": 0.5
             },
             "pattern": {
              "fillmode": "overlay",
              "size": 10,
              "solidity": 0.2
             }
            },
            "type": "barpolar"
           }
          ],
          "carpet": [
           {
            "aaxis": {
             "endlinecolor": "#2a3f5f",
             "gridcolor": "white",
             "linecolor": "white",
             "minorgridcolor": "white",
             "startlinecolor": "#2a3f5f"
            },
            "baxis": {
             "endlinecolor": "#2a3f5f",
             "gridcolor": "white",
             "linecolor": "white",
             "minorgridcolor": "white",
             "startlinecolor": "#2a3f5f"
            },
            "type": "carpet"
           }
          ],
          "choropleth": [
           {
            "colorbar": {
             "outlinewidth": 0,
             "ticks": ""
            },
            "type": "choropleth"
           }
          ],
          "contour": [
           {
            "colorbar": {
             "outlinewidth": 0,
             "ticks": ""
            },
            "colorscale": [
             [
              0,
              "#0d0887"
             ],
             [
              0.1111111111111111,
              "#46039f"
             ],
             [
              0.2222222222222222,
              "#7201a8"
             ],
             [
              0.3333333333333333,
              "#9c179e"
             ],
             [
              0.4444444444444444,
              "#bd3786"
             ],
             [
              0.5555555555555556,
              "#d8576b"
             ],
             [
              0.6666666666666666,
              "#ed7953"
             ],
             [
              0.7777777777777778,
              "#fb9f3a"
             ],
             [
              0.8888888888888888,
              "#fdca26"
             ],
             [
              1,
              "#f0f921"
             ]
            ],
            "type": "contour"
           }
          ],
          "contourcarpet": [
           {
            "colorbar": {
             "outlinewidth": 0,
             "ticks": ""
            },
            "type": "contourcarpet"
           }
          ],
          "heatmap": [
           {
            "colorbar": {
             "outlinewidth": 0,
             "ticks": ""
            },
            "colorscale": [
             [
              0,
              "#0d0887"
             ],
             [
              0.1111111111111111,
              "#46039f"
             ],
             [
              0.2222222222222222,
              "#7201a8"
             ],
             [
              0.3333333333333333,
              "#9c179e"
             ],
             [
              0.4444444444444444,
              "#bd3786"
             ],
             [
              0.5555555555555556,
              "#d8576b"
             ],
             [
              0.6666666666666666,
              "#ed7953"
             ],
             [
              0.7777777777777778,
              "#fb9f3a"
             ],
             [
              0.8888888888888888,
              "#fdca26"
             ],
             [
              1,
              "#f0f921"
             ]
            ],
            "type": "heatmap"
           }
          ],
          "histogram": [
           {
            "marker": {
             "pattern": {
              "fillmode": "overlay",
              "size": 10,
              "solidity": 0.2
             }
            },
            "type": "histogram"
           }
          ],
          "histogram2d": [
           {
            "colorbar": {
             "outlinewidth": 0,
             "ticks": ""
            },
            "colorscale": [
             [
              0,
              "#0d0887"
             ],
             [
              0.1111111111111111,
              "#46039f"
             ],
             [
              0.2222222222222222,
              "#7201a8"
             ],
             [
              0.3333333333333333,
              "#9c179e"
             ],
             [
              0.4444444444444444,
              "#bd3786"
             ],
             [
              0.5555555555555556,
              "#d8576b"
             ],
             [
              0.6666666666666666,
              "#ed7953"
             ],
             [
              0.7777777777777778,
              "#fb9f3a"
             ],
             [
              0.8888888888888888,
              "#fdca26"
             ],
             [
              1,
              "#f0f921"
             ]
            ],
            "type": "histogram2d"
           }
          ],
          "histogram2dcontour": [
           {
            "colorbar": {
             "outlinewidth": 0,
             "ticks": ""
            },
            "colorscale": [
             [
              0,
              "#0d0887"
             ],
             [
              0.1111111111111111,
              "#46039f"
             ],
             [
              0.2222222222222222,
              "#7201a8"
             ],
             [
              0.3333333333333333,
              "#9c179e"
             ],
             [
              0.4444444444444444,
              "#bd3786"
             ],
             [
              0.5555555555555556,
              "#d8576b"
             ],
             [
              0.6666666666666666,
              "#ed7953"
             ],
             [
              0.7777777777777778,
              "#fb9f3a"
             ],
             [
              0.8888888888888888,
              "#fdca26"
             ],
             [
              1,
              "#f0f921"
             ]
            ],
            "type": "histogram2dcontour"
           }
          ],
          "mesh3d": [
           {
            "colorbar": {
             "outlinewidth": 0,
             "ticks": ""
            },
            "type": "mesh3d"
           }
          ],
          "parcoords": [
           {
            "line": {
             "colorbar": {
              "outlinewidth": 0,
              "ticks": ""
             }
            },
            "type": "parcoords"
           }
          ],
          "pie": [
           {
            "automargin": true,
            "type": "pie"
           }
          ],
          "scatter": [
           {
            "fillpattern": {
             "fillmode": "overlay",
             "size": 10,
             "solidity": 0.2
            },
            "type": "scatter"
           }
          ],
          "scatter3d": [
           {
            "line": {
             "colorbar": {
              "outlinewidth": 0,
              "ticks": ""
             }
            },
            "marker": {
             "colorbar": {
              "outlinewidth": 0,
              "ticks": ""
             }
            },
            "type": "scatter3d"
           }
          ],
          "scattercarpet": [
           {
            "marker": {
             "colorbar": {
              "outlinewidth": 0,
              "ticks": ""
             }
            },
            "type": "scattercarpet"
           }
          ],
          "scattergeo": [
           {
            "marker": {
             "colorbar": {
              "outlinewidth": 0,
              "ticks": ""
             }
            },
            "type": "scattergeo"
           }
          ],
          "scattergl": [
           {
            "marker": {
             "colorbar": {
              "outlinewidth": 0,
              "ticks": ""
             }
            },
            "type": "scattergl"
           }
          ],
          "scattermap": [
           {
            "marker": {
             "colorbar": {
              "outlinewidth": 0,
              "ticks": ""
             }
            },
            "type": "scattermap"
           }
          ],
          "scattermapbox": [
           {
            "marker": {
             "colorbar": {
              "outlinewidth": 0,
              "ticks": ""
             }
            },
            "type": "scattermapbox"
           }
          ],
          "scatterpolar": [
           {
            "marker": {
             "colorbar": {
              "outlinewidth": 0,
              "ticks": ""
             }
            },
            "type": "scatterpolar"
           }
          ],
          "scatterpolargl": [
           {
            "marker": {
             "colorbar": {
              "outlinewidth": 0,
              "ticks": ""
             }
            },
            "type": "scatterpolargl"
           }
          ],
          "scatterternary": [
           {
            "marker": {
             "colorbar": {
              "outlinewidth": 0,
              "ticks": ""
             }
            },
            "type": "scatterternary"
           }
          ],
          "surface": [
           {
            "colorbar": {
             "outlinewidth": 0,
             "ticks": ""
            },
            "colorscale": [
             [
              0,
              "#0d0887"
             ],
             [
              0.1111111111111111,
              "#46039f"
             ],
             [
              0.2222222222222222,
              "#7201a8"
             ],
             [
              0.3333333333333333,
              "#9c179e"
             ],
             [
              0.4444444444444444,
              "#bd3786"
             ],
             [
              0.5555555555555556,
              "#d8576b"
             ],
             [
              0.6666666666666666,
              "#ed7953"
             ],
             [
              0.7777777777777778,
              "#fb9f3a"
             ],
             [
              0.8888888888888888,
              "#fdca26"
             ],
             [
              1,
              "#f0f921"
             ]
            ],
            "type": "surface"
           }
          ],
          "table": [
           {
            "cells": {
             "fill": {
              "color": "#EBF0F8"
             },
             "line": {
              "color": "white"
             }
            },
            "header": {
             "fill": {
              "color": "#C8D4E3"
             },
             "line": {
              "color": "white"
             }
            },
            "type": "table"
           }
          ]
         },
         "layout": {
          "annotationdefaults": {
           "arrowcolor": "#2a3f5f",
           "arrowhead": 0,
           "arrowwidth": 1
          },
          "autotypenumbers": "strict",
          "coloraxis": {
           "colorbar": {
            "outlinewidth": 0,
            "ticks": ""
           }
          },
          "colorscale": {
           "diverging": [
            [
             0,
             "#8e0152"
            ],
            [
             0.1,
             "#c51b7d"
            ],
            [
             0.2,
             "#de77ae"
            ],
            [
             0.3,
             "#f1b6da"
            ],
            [
             0.4,
             "#fde0ef"
            ],
            [
             0.5,
             "#f7f7f7"
            ],
            [
             0.6,
             "#e6f5d0"
            ],
            [
             0.7,
             "#b8e186"
            ],
            [
             0.8,
             "#7fbc41"
            ],
            [
             0.9,
             "#4d9221"
            ],
            [
             1,
             "#276419"
            ]
           ],
           "sequential": [
            [
             0,
             "#0d0887"
            ],
            [
             0.1111111111111111,
             "#46039f"
            ],
            [
             0.2222222222222222,
             "#7201a8"
            ],
            [
             0.3333333333333333,
             "#9c179e"
            ],
            [
             0.4444444444444444,
             "#bd3786"
            ],
            [
             0.5555555555555556,
             "#d8576b"
            ],
            [
             0.6666666666666666,
             "#ed7953"
            ],
            [
             0.7777777777777778,
             "#fb9f3a"
            ],
            [
             0.8888888888888888,
             "#fdca26"
            ],
            [
             1,
             "#f0f921"
            ]
           ],
           "sequentialminus": [
            [
             0,
             "#0d0887"
            ],
            [
             0.1111111111111111,
             "#46039f"
            ],
            [
             0.2222222222222222,
             "#7201a8"
            ],
            [
             0.3333333333333333,
             "#9c179e"
            ],
            [
             0.4444444444444444,
             "#bd3786"
            ],
            [
             0.5555555555555556,
             "#d8576b"
            ],
            [
             0.6666666666666666,
             "#ed7953"
            ],
            [
             0.7777777777777778,
             "#fb9f3a"
            ],
            [
             0.8888888888888888,
             "#fdca26"
            ],
            [
             1,
             "#f0f921"
            ]
           ]
          },
          "colorway": [
           "#636efa",
           "#EF553B",
           "#00cc96",
           "#ab63fa",
           "#FFA15A",
           "#19d3f3",
           "#FF6692",
           "#B6E880",
           "#FF97FF",
           "#FECB52"
          ],
          "font": {
           "color": "#2a3f5f"
          },
          "geo": {
           "bgcolor": "white",
           "lakecolor": "white",
           "landcolor": "#E5ECF6",
           "showlakes": true,
           "showland": true,
           "subunitcolor": "white"
          },
          "hoverlabel": {
           "align": "left"
          },
          "hovermode": "closest",
          "mapbox": {
           "style": "light"
          },
          "paper_bgcolor": "white",
          "plot_bgcolor": "#E5ECF6",
          "polar": {
           "angularaxis": {
            "gridcolor": "white",
            "linecolor": "white",
            "ticks": ""
           },
           "bgcolor": "#E5ECF6",
           "radialaxis": {
            "gridcolor": "white",
            "linecolor": "white",
            "ticks": ""
           }
          },
          "scene": {
           "xaxis": {
            "backgroundcolor": "#E5ECF6",
            "gridcolor": "white",
            "gridwidth": 2,
            "linecolor": "white",
            "showbackground": true,
            "ticks": "",
            "zerolinecolor": "white"
           },
           "yaxis": {
            "backgroundcolor": "#E5ECF6",
            "gridcolor": "white",
            "gridwidth": 2,
            "linecolor": "white",
            "showbackground": true,
            "ticks": "",
            "zerolinecolor": "white"
           },
           "zaxis": {
            "backgroundcolor": "#E5ECF6",
            "gridcolor": "white",
            "gridwidth": 2,
            "linecolor": "white",
            "showbackground": true,
            "ticks": "",
            "zerolinecolor": "white"
           }
          },
          "shapedefaults": {
           "line": {
            "color": "#2a3f5f"
           }
          },
          "ternary": {
           "aaxis": {
            "gridcolor": "white",
            "linecolor": "white",
            "ticks": ""
           },
           "baxis": {
            "gridcolor": "white",
            "linecolor": "white",
            "ticks": ""
           },
           "bgcolor": "#E5ECF6",
           "caxis": {
            "gridcolor": "white",
            "linecolor": "white",
            "ticks": ""
           }
          },
          "title": {
           "x": 0.05
          },
          "xaxis": {
           "automargin": true,
           "gridcolor": "white",
           "linecolor": "white",
           "ticks": "",
           "title": {
            "standoff": 15
           },
           "zerolinecolor": "white",
           "zerolinewidth": 2
          },
          "yaxis": {
           "automargin": true,
           "gridcolor": "white",
           "linecolor": "white",
           "ticks": "",
           "title": {
            "standoff": 15
           },
           "zerolinecolor": "white",
           "zerolinewidth": 2
          }
         }
        },
        "title": {
         "text": "epoch metrics"
        },
        "xaxis": {
         "anchor": "y",
         "domain": [
          0,
          0.98
         ],
         "title": {
          "text": "step"
         }
        },
        "xaxis2": {
         "anchor": "y2",
         "domain": [
          0,
          0.98
         ],
         "matches": "x",
         "showticklabels": false
        },
        "xaxis3": {
         "anchor": "y3",
         "domain": [
          0,
          0.98
         ],
         "matches": "x",
         "showticklabels": false
        },
        "xaxis4": {
         "anchor": "y4",
         "domain": [
          0,
          0.98
         ],
         "matches": "x",
         "showticklabels": false
        },
        "yaxis": {
         "anchor": "x",
         "domain": [
          0,
          0.2275
         ],
         "title": {
          "text": "value"
         }
        },
        "yaxis2": {
         "anchor": "x2",
         "domain": [
          0.2575,
          0.485
         ],
         "title": {
          "text": "value"
         }
        },
        "yaxis3": {
         "anchor": "x3",
         "domain": [
          0.515,
          0.7425
         ],
         "title": {
          "text": "value"
         }
        },
        "yaxis4": {
         "anchor": "x4",
         "domain": [
          0.7725,
          1
         ],
         "title": {
          "text": "value"
         }
        }
       }
      }
     },
     "metadata": {},
     "output_type": "display_data"
    },
    {
     "name": "stdout",
     "output_type": "stream",
     "text": [
      "=========================\n"
     ]
    }
   ],
   "source": [
    "NB_CROSS_VALIDATIONS = 5\n",
    "fold_patterns = join(dataset_path, \"preprocessed_dataset\", \"fold*\")\n",
    "fold_pths = glob(fold_patterns)[:NB_CROSS_VALIDATIONS]\n",
    "all_training_metrics = {}\n",
    "\n",
    "for fold_idx, fold_pth in enumerate(fold_pths):\n",
    "    print(\"training:\", fold_idx + 1)\n",
    "    train_dataset = CMIDataset(fold_pth, \"train\")\n",
    "    train_data_loader = DL(train_dataset, BATCH_SIZE, shuffle=True)\n",
    "    validation_dataset = CMIDataset(fold_pth, \"validation\")\n",
    "    validation_data_loader = DL(validation_dataset, BATCH_SIZE, shuffle=False)\n",
    "    _, training_metrics, _ = mk_model_and_fit(train_data_loader, validation_data_loader)\n",
    "    all_training_metrics[\"fold_\" + str(fold_idx)] = training_metrics\n",
    "    plt_validation_split_training_metrics(training_metrics)\n",
    "    print(\"=========================\")\n",
    "\n",
    "all_training_metrics = pd.concat(all_training_metrics)"
   ]
  },
  {
   "cell_type": "code",
   "execution_count": 14,
   "id": "0e54c23c",
   "metadata": {},
   "outputs": [
    {
     "data": {
      "text/html": [
       "<div>\n",
       "<style scoped>\n",
       "    .dataframe tbody tr th:only-of-type {\n",
       "        vertical-align: middle;\n",
       "    }\n",
       "\n",
       "    .dataframe tbody tr th {\n",
       "        vertical-align: top;\n",
       "    }\n",
       "\n",
       "    .dataframe thead th {\n",
       "        text-align: right;\n",
       "    }\n",
       "</style>\n",
       "<table border=\"1\" class=\"dataframe\">\n",
       "  <thead>\n",
       "    <tr style=\"text-align: right;\">\n",
       "      <th></th>\n",
       "      <th>train_epoch_loss</th>\n",
       "      <th>train_epoch_accuracy</th>\n",
       "      <th>validation_loss</th>\n",
       "      <th>validation_accuracy</th>\n",
       "    </tr>\n",
       "  </thead>\n",
       "  <tbody>\n",
       "    <tr>\n",
       "      <th>mean</th>\n",
       "      <td>2.332746</td>\n",
       "      <td>0.651783</td>\n",
       "      <td>2.527277</td>\n",
       "      <td>0.453358</td>\n",
       "    </tr>\n",
       "    <tr>\n",
       "      <th>std</th>\n",
       "      <td>0.136494</td>\n",
       "      <td>0.137201</td>\n",
       "      <td>0.043000</td>\n",
       "      <td>0.042547</td>\n",
       "    </tr>\n",
       "  </tbody>\n",
       "</table>\n",
       "</div>"
      ],
      "text/plain": [
       "      train_epoch_loss  train_epoch_accuracy  validation_loss  \\\n",
       "mean          2.332746              0.651783         2.527277   \n",
       "std           0.136494              0.137201         0.043000   \n",
       "\n",
       "      validation_accuracy  \n",
       "mean             0.453358  \n",
       "std              0.042547  "
      ]
     },
     "execution_count": 14,
     "metadata": {},
     "output_type": "execute_result"
    }
   ],
   "source": [
    "(\n",
    "    all_training_metrics\n",
    "    .loc[:, [\"train_epoch_loss\", \"train_epoch_accuracy\", \"validation_loss\", \"validation_accuracy\"]]\n",
    "    .agg([\"mean\", \"std\"])\n",
    ")"
   ]
  },
  {
   "cell_type": "markdown",
   "id": "aab08b93",
   "metadata": {},
   "source": [
    "## Full dataset training"
   ]
  },
  {
   "cell_type": "code",
   "execution_count": 16,
   "id": "e6a350f8",
   "metadata": {},
   "outputs": [
    {
     "data": {
      "application/vnd.jupyter.widget-view+json": {
       "model_id": "927ab6e70d8e48978380d4df628f41bf",
       "version_major": 2,
       "version_minor": 0
      },
      "text/plain": [
       "Output()"
      ]
     },
     "metadata": {},
     "output_type": "display_data"
    },
    {
     "data": {
      "text/html": [
       "<pre style=\"white-space:pre;overflow-x:auto;line-height:normal;font-family:Menlo,'DejaVu Sans Mono',consolas,'Courier New',monospace\"></pre>\n"
      ],
      "text/plain": []
     },
     "metadata": {},
     "output_type": "display_data"
    },
    {
     "data": {
      "application/vnd.plotly.v1+json": {
       "config": {
        "plotlyServerURL": "https://plot.ly"
       },
       "data": [
        {
         "hovertemplate": "variable=batch_train_loss<br>step=%{x}<br>value=%{y}<extra></extra>",
         "legendgroup": "",
         "marker": {
          "color": "#636efa",
          "symbol": "circle"
         },
         "mode": "markers",
         "name": "",
         "showlegend": false,
         "type": "scattergl",
         "x": {
          "bdata": "AAABAAIAAwAEAAUABgAHAAgACQAKAAsADAANAA4ADwAQABEAEgATABQAFQAWABcAGAAZABoAGwAcAB0AHgAfACAAIQAiACMAJAAlACYAJwAoACkAKgArACwALQAuAC8AMAAxADIAMwA0ADUANgA3ADgAOQA6ADsAPAA9AD4APwBAAEEAQgBDAEQARQBGAEcASABJAEoASwBMAE0ATgBPAFAAUQBSAFMAVABVAFYAVwBYAFkAWgBbAFwAXQBeAF8AYABhAGIAYwBkAGUAZgBnAGgAaQBqAGsAbABtAG4AbwBwAHEAcgBzAHQAdQB2AHcAeAB5AHoAewB8AH0AfgB/AIAAgQCCAIMAhACFAIYAhwCIAIkAigCLAIwAjQCOAI8AkACRAJIAkwCUAJUAlgCXAJgAmQCaAJsAnACdAJ4AnwCgAKEAogCjAKQApQCmAKcAqACpAKoAqwCsAK0ArgCvALAAsQCyALMAtAC1ALYAtwC4ALkAugC7ALwAvQC+AL8AwADBAMIAwwDEAMUAxgDHAMgAyQDKAMsAzADNAM4AzwDQANEA0gDTANQA1QDWANcA2ADZANoA2wDcAN0A3gDfAOAA4QDiAOMA5ADlAOYA5wDoAOkA6gDrAOwA7QDuAO8A8ADxAPIA8wD0APUA9gD3APgA+QD6APsA/AD9AP4A/wAAAQEBAgEDAQQBBQEGAQcBCAEJAQoBCwEMAQ0BDgEPARABEQESARMBFAEVARYBFwEYARkBGgEbARwBHQEeAR8BIAEhASIBIwEkASUBJgEnASgBKQEqASsBLAEtAS4BLwEwATEBMgEzATQBNQE2ATcBOAE5AToBOwE8AT0BPgE/AUABQQFCAUMBRAFFAUYBRwFIAUkBSgFLAUwBTQFOAU8BUAFRAVIBUwFUAVUBVgFXAVgBWQFaAVsBXAFdAV4BXwFgAWEBYgFjAWQBZQFmAWcBaAFpAWoBawFsAW0BbgFvAXABcQFyAXMBdAF1AXYBdwF4AXkBegF7AXwBfQF+AX8BgAGBAYIBgwGEAYUBhgGHAYgBiQGKAYsBjAGNAY4BjwGQAZEBkgGTAZQBlQGWAZcBmAGZAZoBmwGcAZ0BngGfAaABoQGiAaMBpAGlAaYBpwGoAakBqgGrAawBrQGuAa8BsAGxAbIBswG0AbUBtgG3AbgBuQG6AbsBvAG9Ab4BvwHAAcEBwgHDAcQBxQHGAccByAHJAcoBywHMAc0BzgHPAdAB0QHSAdMB1AHVAdYB1wHYAdkB2gHbAdwB3QHeAd8B4AHhAeIB4wHkAeUB5gHnAegB6QHqAesB7AHtAe4B7wHwAfEB8gHzAfQB9QH2AfcB+AH5AfoB+wH8Af0B/gH/AQACAQICAgMCBAIFAgYCBwIIAgkCCgILAgwCDQIOAg8CEAIRAhICEwIUAhUCFgIXAhgCGQIaAhsCHAIdAh4CHwIgAiECIgIjAiQCJQImAicCKAIpAioCKwIsAi0CLgIvAjACMQIyAjMCNAI1AjYCNwI4AjkCOgI7AjwCPQI+Aj8CQAJBAkICQwJEAkUCRgJHAkgCSQJKAksCTAJNAk4CTwJQAlECUgJTAlQCVQJWAlcCWAJZAloCWwJcAl0CXgJfAmACYQJiAmMCZAJlAmYCZwJoAmkCagJrAmwCbQJuAm8CcAJxAnICcwJ0AnUCdgJ3AngCeQJ6AnsCfAJ9An4CfwKAAoECggKDAoQChQKGAocCiAKJAooCiwKMAo0CjgKPApACkQKSApMClAKVApYClwKYApkCmgKbApwCnQKeAp8CoAKhAqICowKkAqUCpgKnAqgCqQKqAqsCrAKtAq4CrwKwArECsgKzArQCtQK2ArcCuAK5AroCuwK8Ar0CvgK/AsACwQLCAsMCxALFAsYCxwLIAskCygLLAswCzQLOAs8C0ALRAtIC0wLUAtUC1gLXAtgC2QLaAtsC3ALdAt4C3wLgAuEC4gLjAuQC5QLmAucC6ALpAuoC6wLsAu0C7gLvAvAC8QLyAvMC9AL1AvYC9wL4AvkC+gL7AvwC/QL+Av8CAAMBAwIDAwMEAwUDBgMHAwgDCQMKAwsDDAMNAw4DDwMQAxEDEgMTAxQDFQMWAxcDGAMZAxoDGwMcAx0DHgMfAyADIQMiAyMDJAMlAyYDJwMoAykDKgMrAywDLQMuAy8DMAMxAzIDMwM0AzUDNgM3AzgDOQM6AzsDPAM9Az4DPwNAA0EDQgNDA0QDRQNGA0cDSANJA0oDSwNMA00DTgNPA1ADUQNSA1MDVANVA1YDVwNYA1kDWgNbA1wDXQNeA18DYANhA2IDYwNkA2UDZgNnA2gDaQNqA2sDbANtA24DbwNwA3EDcgNzA3QDdQN2A3cDeAN5A3oDewN8A30DfgN/A4ADgQOCA4MDhAOFA4YDhwOIA4kDigOLA4wDjQOOA48DkAORA5IDkwOUA5UDlgOXA5gDmQOaA5sDnAOdA54DnwOgA6EDogOjA6QDpQOmA6cDqAOpA6oDqwOsA60DrgOvA7ADsQOyA7MDtAO1A7YDtwO4A7kDugO7A7wDvQO+A78DwAPBA8IDwwPEA8UDxgPHA8gDyQPKA8sDzAPNA84DzwPQA9ED0gPTA9QD1QPWA9cD2APZA9oD2wPcA90D3gPfA+AD4QPiA+MD5APlA+YD5wPoA+kD6gPrA+wD7QPuA+8D8APxA/ID8wP0A/UD9gP3A/gD+QP6A/sD/AP9A/4D/wMABAEEAgQDBAQEBQQGBAcECAQJBAoECwQMBA0EDgQPBBAEEQQSBBMEFAQVBBYEFwQYBBkEGgQbBBwEHQQeBB8EIAQhBCIEIwQkBCUEJgQnBCgEKQQqBCsELAQtBC4ELwQwBDEEMgQzBDQENQQ2BDcEOAQ5BDoEOwQ8BD0EPgQ/BEAEQQRCBEMERARFBEYERwRIBEkESgRLBEwETQROBE8EUARRBFIEUwRUBFUEVgRXBFgEWQRaBFsEXARdBF4EXwRgBGEEYgRjBGQEZQRmBGcEaARpBGoEawRsBG0EbgRvBHAEcQRyBHMEdAR1BHYEdwR4BHkEegR7BHwEfQR+BH8EgASBBIIEgwSEBIUEhgSHBIgEiQSKBIsEjASNBI4EjwSQBJEEkgSTBJQElQSWBJcEmASZBJoEmwScBJ0EngSfBKAEoQSiBKMEpASlBKYEpwSoBKkEqgSrBKwErQSuBK8EsASxBLIEswS0BLUEtgS3BLgEuQS6BLsEvAS9BL4EvwTABMEEwgTDBMQExQTGBMcEyATJBMoEywTMBM0EzgTPBNAE0QTSBNME1ATVBNYE1wTYBNkE2gTbBNwE3QTeBN8E4AThBOIE4wTkBOUE5gTnBOgE6QTqBOsE7ATtBO4E7wTwBPEE8gTzBPQE9QT2BPcE+AT5BPoE+wT8BP0E/gT/BAAFAQUCBQMFBAUFBQYFBwUIBQkFCgULBQwFDQUOBQ8FEAURBRIFEwUUBRUFFgUXBRgFGQUaBRsFHAUdBR4FHwUgBSEFIgUjBSQFJQUmBScFKAUpBSoFKwUsBS0FLgUvBTAFMQUyBTMFNAU1BTYFNwU4BTkFOgU7BTwFPQU+BT8FQAVBBUIFQwVEBUUFRgVHBUgFSQVKBUsFTAVNBU4FTwVQBVEFUgVTBVQFVQVWBVcFWAVZBVoFWwVcBV0FXgVfBWAFYQViBWMFZAVlBWYFZwVoBWkFagVrBWwFbQVuBW8FcAVxBXIFcwV0BXUFdgV3BXgFeQV6BXsFfAV9BX4FfwWABYEFggWDBYQFhQWGBYcFiAWJBYoFiwWMBY0FjgWPBZAFkQWSBZMFlAWVBZYFlwWYBZkFmgWbBZwFnQWeBZ8FoAWhBaIFowWkBaUFpgWnBagFqQWqBasFrAWtBa4FrwWwBbEFsgWzBbQFtQW2BbcFuAW5BboFuwW8Bb0FvgW/BcAFwQXCBcMFxAXFBcYFxwXIBckFygXLBcwFzQXOBc8F0AXRBdIF0wXUBdUF1gXXBdgF2QXaBdsF3AXdBd4F3wXgBeEF4gXjBeQF5QXmBecF6AXpBeoF6wXsBe0F7gXvBfAF8QXyBfMF9AX1BfYF9wX4BfkF+gX7BfwF/QX+Bf8FAAYBBgIGAwYEBgUGBgYHBggGCQYKBgsGDAYNBg4GDwYQBhEGEgYTBhQGFQYWBhcGGAYZBhoGGwYcBh0GHgYfBiAGIQYiBiMGJAYlBiYGJwYoBikGKgYrBiwGLQYuBi8GMAYxBjIGMwY0BjUGNgY3BjgGOQY6BjsGPAY9Bj4GPwZABkEGQgZDBkQGRQZGBkcGSAZJBkoGSwZMBk0GTgZPBlAGUQZSBlMGVAZVBlYGVwZYBlkGWgZbBlwGXQZeBl8GYAZhBmIGYwZkBmUGZgZnBmgGaQZqBmsGbAZtBm4GbwZwBnEGcgZzBnQGdQZ2BncGeAZ5BnoGewZ8Bn0GfgZ/BoAGgQaCBoMGhAaFBoYGhwaIBokGigaLBowGjQaOBo8GkAaRBpIGkwaUBpUGlgaXBpgGmQaaBpsGnAadBp4GnwagBqEGogajBqQGpQamBqcGqAapBqoGqwasBq0GrgavBrAGsQayBrMGtAa1BrYGtwa4BrkGuga7BrwGvQa+Br8GwAbBBsIGwwbEBsUGxgbHBsgGyQbKBssGzAbNBs4GzwbQBtEG0gbTBtQG1QbWBtcG2AbZBtoG2wbcBt0G3gbfBuAG4QbiBuMG5AblBuYG5wboBukG6gbrBuwG7QbuBu8G8AbxBvIG8wb0BvUG9gb3BvgG+Qb6BvsG/Ab9Bv4G/wYABwEHAgcDBwQHBQcGBwcHCAcJBwoHCwcMBw0HDgcPBxAHEQcSBxMHFAcVBxYHFwcYBxkHGgcbBxwHHQceBx8HIAchByIHIwckByUHJgcnBygHKQcqBysHLActBy4HLwcwBzEHMgczBzQHNQc2BzcHOAc5BzoHOwc8Bz0HPgc/B0AHQQdCB0MHRAdFB0YHRwdIB0kHSgdLB0wHTQdOB08HUAdRB1IHUwdUB1UHVgdXB1gHWQdaB1sHXAddB14HXwdgB2EHYgdjB2QHZQdmB2cHaAdpB2oHawdsB20HbgdvB3AHcQdyB3MHdAd1B3YHdwd4B3kHegd7B3wHfQd+B38H",
          "dtype": "i2"
         },
         "xaxis": "x2",
         "y": {
          "bdata": "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",
          "dtype": "f8"
         },
         "yaxis": "y2"
        },
        {
         "hovertemplate": "<b>Exponentially Weighted mean trendline</b><br><br>variable=batch_train_loss<br>step=%{x}<br>value=%{y} <b>(trend)</b><extra></extra>",
         "legendgroup": "",
         "line": {
          "color": "red"
         },
         "marker": {
          "color": "#636efa",
          "symbol": "circle"
         },
         "mode": "lines",
         "name": "",
         "showlegend": false,
         "type": "scattergl",
         "x": {
          "bdata": "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",
          "dtype": "i2"
         },
         "xaxis": "x2",
         "y": {
          "bdata": "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",
          "dtype": "f8"
         },
         "yaxis": "y2"
        },
        {
         "hovertemplate": "variable=batch_accuracy<br>step=%{x}<br>value=%{y}<extra></extra>",
         "legendgroup": "",
         "marker": {
          "color": "#636efa",
          "symbol": "circle"
         },
         "mode": "markers",
         "name": "",
         "showlegend": false,
         "type": "scattergl",
         "x": {
          "bdata": "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",
          "dtype": "i2"
         },
         "xaxis": "x",
         "y": {
          "bdata": "AAAAAAAArj8AAAAAAAC+PwAAAAAAALs/AAAAAAAAvD8AAAAAAAC/PwAAAAAAAMY/AAAAAAAAwT8AAAAAAADIPwAAAAAAAMw/AAAAAACAyj8AAAAAAIDNPwAAAAAAAMg/AAAAAACAxT8AAAAAAIDNPwAAAAAAAMo/AAAAAAAAzz8AAAAAAMDRPwAAAAAAAM4/AAAAAADA0D8AAAAAAMDVPwAAAAAAQNI/AAAAAABA0D8AAAAAAMDSPwAAAAAAQNE/AAAAAABA0j8AAAAAAMDSPwAAAAAAgNM/AAAAAAAA1j8AAAAAAIDVPwAAAAAAQNU/AAAAAADA0z9KDiyd5MDSPwAAAAAAwNQ/AAAAAADA1j8AAAAAAADXPwAAAAAAgNY/AAAAAABA1D8AAAAAAIDZPwAAAAAAgNM/AAAAAABA1D8AAAAAAMDXPwAAAAAAANQ/AAAAAACA2z8AAAAAAADWPwAAAAAAANQ/AAAAAAAA1j8AAAAAAIDWPwAAAAAAwNI/AAAAAADA1z8AAAAAAMDTPwAAAAAAwNU/AAAAAADA1D8AAAAAAADVPwAAAAAAANQ/AAAAAACA2j8AAAAAAADXPwAAAAAAgNc/AAAAAAAA1z8AAAAAAADXPwAAAAAAANQ/AAAAAAAA2T8AAAAAAIDTPwAAAAAAQNU/1pQ1ZU1Z0z8AAAAAAMDVPwAAAAAAQNY/AAAAAADA1z8AAAAAAEDZPwAAAAAAQNs/AAAAAABA2T8AAAAAAADYPwAAAAAAANo/AAAAAABA1T8AAAAAAEDbPwAAAAAAANg/AAAAAAAA2j8AAAAAAEDaPwAAAAAAQNU/AAAAAACA2D8AAAAAAEDZPwAAAAAAANQ/AAAAAACA2D8AAAAAAEDaPwAAAAAAgNM/AAAAAADA2j8AAAAAAIDVPwAAAAAAQNU/AAAAAADA1D8AAAAAAIDYPwAAAAAAANk/AAAAAABA2D8AAAAAAIDUPwAAAAAAgNg/AAAAAABA1z8AAAAAAIDWP8LrViG8btU/AAAAAABA2z8AAAAAAADYPwAAAAAAwNc/AAAAAACA2j8AAAAAAMDUPwAAAAAAwNc/AAAAAABA2j8AAAAAAADYPwAAAAAAgNg/AAAAAAAA2j8AAAAAAMDZPwAAAAAAQNo/AAAAAACA1z8AAAAAAMDcPwAAAAAAQNo/AAAAAACA2j8AAAAAAIDYPwAAAAAAwNY/AAAAAAAA1z8AAAAAAIDZPwAAAAAAgNc/AAAAAACA2D8AAAAAAADXPwAAAAAAANg/AAAAAAAA2z8AAAAAAIDYPwAAAAAAQNk/AAAAAABA1z8AAAAAAEDYPwAAAAAAgNY/AAAAAADA1z8mIKNhAjLaPwAAAAAAgNo/AAAAAAAA2j8AAAAAAADXPwAAAAAAQNo/AAAAAADA3T8AAAAAAIDcPwAAAAAAQNk/AAAAAACA2j8AAAAAAADYPwAAAAAAgNs/AAAAAADA2z8AAAAAAIDdPwAAAAAAQNw/AAAAAACA2D8AAAAAAADfPwAAAAAAQNY/AAAAAADA2T8AAAAAAMDZPwAAAAAAgNw/AAAAAAAA2D8AAAAAAIDbPwAAAAAAANg/AAAAAADA2j8AAAAAAEDaPwAAAAAAwNo/AAAAAAAA2j8AAAAAAMDaPwAAAAAAANc/AAAAAACA3T8AAAAAAEDWPwAAAAAAANg/4Fye/c3l2T8AAAAAAEDcPwAAAAAAANo/AAAAAAAA2T8AAAAAAEDYPwAAAAAAQNw/AAAAAAAA2D8AAAAAAMDbPwAAAAAAAN0/AAAAAABA2j8AAAAAAMDbPwAAAAAAANw/AAAAAAAA4D8AAAAAAMDaPwAAAAAAANs/AAAAAAAA3j8AAAAAAMDWPwAAAAAAgN0/AAAAAABA2j8AAAAAAMDbPwAAAAAAgNc/AAAAAAAA3z8AAAAAAIDZPwAAAAAAQNw/AAAAAABA2T8AAAAAAMDbPwAAAAAAwNw/AAAAAAAA3T8AAAAAAADePwAAAAAAgNg/AAAAAAAA3D8AAAAAAEDbP1g6yYGlk9w/AAAAAABA3D8AAAAAAADbPwAAAAAAwNs/AAAAAACA3T8AAAAAAIDZPwAAAAAAQN0/AAAAAADA2j8AAAAAAIDcPwAAAAAAQNo/AAAAAACA3z8AAAAAAMDdPwAAAAAAQN0/AAAAAACA3D8AAAAAAIDcPwAAAAAAwNs/AAAAAACA2z8AAAAAAEDePwAAAAAAQN0/AAAAAAAg4D8AAAAAAADZPwAAAAAAwNs/AAAAAACA3z8AAAAAAEDcPwAAAAAA4OA/AAAAAAAA2j8AAAAAAADdPwAAAAAAgNw/AAAAAADA2z8AAAAAAADbPwAAAAAAANs/AAAAAAAA3D+zpqwpa8raPwAAAAAAANs/AAAAAABA3j8AAAAAAIDaPwAAAAAAgNw/AAAAAAAA3D8AAAAAAEDYPwAAAAAAANs/AAAAAAAA3T8AAAAAAEDePwAAAAAAQN8/AAAAAACA3D8AAAAAAEDePwAAAAAAQNo/AAAAAAAA2j8AAAAAAMDcPwAAAAAAAN4/AAAAAAAA3j8AAAAAAADcPwAAAAAAwNw/AAAAAAAA3D8AAAAAAMDaPwAAAAAAgNw/AAAAAABA3T8AAAAAAEDbPwAAAAAAAN8/AAAAAACA3D8AAAAAAMDbPwAAAAAAQN4/AAAAAADA3T8AAAAAAMDdPwAAAAAAgN4/nv3N5dnf3D8AAAAAAIDcPwAAAAAAwNw/AAAAAAAA3z8AAAAAAMDcPwAAAAAAQN4/AAAAAADA3j8AAAAAAADePwAAAAAAAN0/AAAAAABA3D8AAAAAAIDePwAAAAAAwN0/AAAAAADA3T8AAAAAAMDcPwAAAAAAQN4/AAAAAACA3T8AAAAAAADePwAAAAAAAOA/AAAAAACA2z8AAAAAAIDePwAAAAAAwN0/AAAAAAAg4D8AAAAAAIDePwAAAAAAAN0/AAAAAAAA2z8AAAAAAMDfPwAAAAAAgNk/AAAAAADA2T8AAAAAAEDePwAAAAAAAN4/AAAAAADA3j8AAAAAAEDZP9IwARkNE+A/AAAAAACA3z8AAAAAAMDaPwAAAAAAwN4/AAAAAABA3D8AAAAAAIDePwAAAAAAgN0/AAAAAABA3j8AAAAAAADePwAAAAAAwN4/AAAAAABA3j8AAAAAAIDePwAAAAAAQOA/AAAAAADA2z8AAAAAAIDgPwAAAAAAgNw/AAAAAACA2j8AAAAAAMDePwAAAAAAAOA/AAAAAABA3z8AAAAAAADePwAAAAAAIOA/AAAAAABA4D8AAAAAAEDePwAAAAAAwNo/AAAAAABg4D8AAAAAAADePwAAAAAAQN0/AAAAAACg4D8AAAAAAEDcPwAAAAAAQOA/AAAAAAAA3j+3CuF1qxDePwAAAAAAQN0/AAAAAABA3z8AAAAAAIDgPwAAAAAAwN8/AAAAAAAg4T8AAAAAAADgPwAAAAAAANs/AAAAAACA3T8AAAAAAMDfPwAAAAAAwN0/AAAAAADg4T8AAAAAAMDcPwAAAAAAQN0/AAAAAAAA4D8AAAAAAADdPwAAAAAAwN8/AAAAAADA4D8AAAAAAIDfPwAAAAAAAN0/AAAAAABg4D8AAAAAAEDaPwAAAAAAQNw/AAAAAACA3T8AAAAAAEDZPwAAAAAAgOA/AAAAAABg4D8AAAAAAEDfPwAAAAAAoOA/AAAAAACA2z8AAAAAAADfPwAAAAAAQN4/hfC6VQiv2z8AAAAAAADePwAAAAAAAN0/AAAAAAAA4T8AAAAAAMDbPwAAAAAAYOA/AAAAAAAA3T8AAAAAACDhPwAAAAAAAOE/AAAAAACA3j8AAAAAAEDcPwAAAAAAgOE/AAAAAABA3z8AAAAAAADhPwAAAAAAwN4/AAAAAAAA4D8AAAAAACDhPwAAAAAAQOE/AAAAAACA4D8AAAAAAIDfPwAAAAAAIOA/AAAAAADA3D8AAAAAAEDbPwAAAAAAQN8/AAAAAAAA3D8AAAAAAIDcPwAAAAAAIOA/AAAAAADA3T8AAAAAACDgPwAAAAAAQN8/AAAAAACA3j8AAAAAAIDcP6R6D0Wq9+A/AAAAAACA3j8AAAAAAKDgPwAAAAAAwOA/AAAAAABA3z8AAAAAAMDgPwAAAAAAQN8/AAAAAABA3j8AAAAAAKDgPwAAAAAAwNw/AAAAAAAA3j8AAAAAAMDePwAAAAAAAN8/AAAAAAAg4T8AAAAAAGDgPwAAAAAAAOA/AAAAAACA3T8AAAAAAADdPwAAAAAAgNw/AAAAAABA3j8AAAAAAADgPwAAAAAAwN4/AAAAAADg4D8AAAAAAKDgPwAAAAAAAOA/AAAAAADA3T8AAAAAAIDgPwAAAAAAwN4/AAAAAAAg4T8AAAAAAMDbPwAAAAAAwN4/AAAAAADg4D+e/c3l2d/cPwAAAAAAQN8/AAAAAAAA4j8AAAAAAMDfPwAAAAAAQN4/AAAAAACA3T8AAAAAAIDiPwAAAAAAAN8/AAAAAABA4T8AAAAAAADgPwAAAAAAIOE/AAAAAABA3j8AAAAAAADhPwAAAAAAAOA/AAAAAAAA3T8AAAAAAIDfPwAAAAAAgN0/AAAAAADA3z8AAAAAAKDgPwAAAAAAAN4/AAAAAAAA3D8AAAAAAIDePwAAAAAAAN4/AAAAAAAg4T8AAAAAAADfPwAAAAAAQOE/AAAAAABA4T8AAAAAAMDfPwAAAAAAYOE/AAAAAADA3D8AAAAAAADhPwAAAAAAIOA/0jABGQ0T4D8AAAAAAEDhPwAAAAAAAOA/AAAAAAAA4D8AAAAAAEDgPwAAAAAAgOA/AAAAAAAg4D8AAAAAAIDgPwAAAAAAIOE/AAAAAADA3z8AAAAAAKDhPwAAAAAAQN8/AAAAAADg4D8AAAAAAKDhPwAAAAAAIOA/AAAAAADA3j8AAAAAACDgPwAAAAAAYOA/AAAAAAAA3z8AAAAAAEDhPwAAAAAAIOA/AAAAAACA3j8AAAAAAEDgPwAAAAAAQOA/AAAAAACA4D8AAAAAAADfPwAAAAAAQOA/AAAAAAAA3z8AAAAAAEDgPwAAAAAAIOE/AAAAAADg4T8AAAAAAKDgP2DpJAeWTuI/AAAAAADg4D8AAAAAAKDgPwAAAAAAYOE/AAAAAACA4T8AAAAAAGDgPwAAAAAAwN8/AAAAAACA4T8AAAAAAMDgPwAAAAAAQOE/AAAAAAAA4T8AAAAAAMDePwAAAAAAIOE/AAAAAACg4D8AAAAAACDiPwAAAAAAYOE/AAAAAABg4D8AAAAAAMDgPwAAAAAAgOA/AAAAAACA3j8AAAAAAIDfPwAAAAAAYOA/AAAAAADA3z8AAAAAAGDhPwAAAAAAwN4/AAAAAAAA4T8AAAAAAGDgPwAAAAAAAOE/AAAAAADA4D8AAAAAAADdPwAAAAAAAN8/AAAAAADA3z9T1pQ1ZU3ZPwAAAAAAgOE/AAAAAABA4D8AAAAAAEDhPwAAAAAA4OA/AAAAAACA3z8AAAAAAKDgPwAAAAAAgOA/AAAAAAAA4T8AAAAAAGDhPwAAAAAAIOA/AAAAAABg4j8AAAAAAADhPwAAAAAAwOA/AAAAAACA3j8AAAAAAKDgPwAAAAAA4OE/AAAAAAAg4j8AAAAAAADfPwAAAAAAAOE/AAAAAAAg4T8AAAAAAEDgPwAAAAAAoOA/AAAAAADA3j8AAAAAAKDhPwAAAAAA4OE/AAAAAACg4j8AAAAAAEDgPwAAAAAAgOA/AAAAAADA4D8AAAAAAMDfPwAAAAAAQOE/GPQFfUFf4D8AAAAAACDhPwAAAAAAAOI/AAAAAACA4D8AAAAAAIDfPwAAAAAAYOA/AAAAAABg4T8AAAAAAEDhPwAAAAAAIOI/AAAAAADA4j8AAAAAAODiPwAAAAAAoOA/AAAAAABA3z8AAAAAAGDiPwAAAAAA4OE/AAAAAABg4T8AAAAAAEDhPwAAAAAAoOE/AAAAAACA3z8AAAAAAADiPwAAAAAAgOA/AAAAAAAg4D8AAAAAAKDhPwAAAAAAAOE/AAAAAAAA4T8AAAAAAEDiPwAAAAAAoOA/AAAAAABA4T8AAAAAAIDhPwAAAAAAwOA/AAAAAAAA4j8AAAAAAIDhP7cK4XWrEN4/AAAAAAAA4T8AAAAAACDiPwAAAAAAIOE/AAAAAABA4D8AAAAAAEDiPwAAAAAAoOE/AAAAAABA4j8AAAAAAADhPwAAAAAAoOE/AAAAAABg4T8AAAAAAIDiPwAAAAAAQOQ/AAAAAADA4T8AAAAAAEDgPwAAAAAAwOA/AAAAAAAA4j8AAAAAAKDgPwAAAAAAAN8/AAAAAADA3T8AAAAAAODhPwAAAAAAAOI/AAAAAAAA4T8AAAAAAIDgPwAAAAAAoOI/AAAAAAAA4j8AAAAAAODhPwAAAAAAAOI/AAAAAABA4D8AAAAAAGDiPwAAAAAAoOI/AAAAAABA4T/SMAEZDRPgPwAAAAAAYOI/AAAAAACA4T8AAAAAAKDiPwAAAAAAQOM/AAAAAACA4D8AAAAAAMDfPwAAAAAAwOA/AAAAAAAg4j8AAAAAAGDiPwAAAAAAgOE/AAAAAAAg4T8AAAAAAKDiPwAAAAAAQN8/AAAAAABA4D8AAAAAACDhPwAAAAAAwOE/AAAAAAAg4D8AAAAAAGDjPwAAAAAAgOE/AAAAAADg4D8AAAAAAADjPwAAAAAAAOE/AAAAAAAA4T8AAAAAAADcPwAAAAAA4OE/AAAAAADA4j8AAAAAAMDePwAAAAAAAOI/AAAAAADg4D8AAAAAAADiPwAAAAAAwOA/MQEZDROQ4T8AAAAAAEDhPwAAAAAAYOA/AAAAAABg4j8AAAAAAADiPwAAAAAAAOE/AAAAAACA4T8AAAAAAKDgPwAAAAAAgOA/AAAAAACg4j8AAAAAAMDdPwAAAAAAIOI/AAAAAABA4j8AAAAAAKDiPwAAAAAAAOQ/AAAAAABg4T8AAAAAAKDiPwAAAAAAgOA/AAAAAABg4T8AAAAAAKDhPwAAAAAAYOE/AAAAAACA4T8AAAAAACDhPwAAAAAAQOE/AAAAAACg4j8AAAAAACDjPwAAAAAAAOI/AAAAAABA4j8AAAAAAKDgPwAAAAAA4OE/AAAAAADg4T8AAAAAAMDhPzEBGQ0TkOE/AAAAAAAg4T8AAAAAAIDePwAAAAAAAOQ/AAAAAAAA4j8AAAAAAKDjPwAAAAAA4OA/AAAAAABg4j8AAAAAAEDhPwAAAAAAQOI/AAAAAACg4T8AAAAAAGDhPwAAAAAAYOI/AAAAAAAg4T8AAAAAAADiPwAAAAAAAOM/AAAAAAAg4D8AAAAAAMDgPwAAAAAAoOE/AAAAAAAA4T8AAAAAAMDfPwAAAAAAoOE/AAAAAACA4D8AAAAAAODhPwAAAAAAAOA/AAAAAAAA4T8AAAAAAODiPwAAAAAA4OE/AAAAAABA4j8AAAAAAEDhPwAAAAAAwOA/AAAAAAAg4D/WlDVlTVnjPwAAAAAAYOA/AAAAAABA4T8AAAAAAEDiPwAAAAAAIOE/AAAAAACg4D8AAAAAAKDhPwAAAAAAAOI/AAAAAABg4j8AAAAAACDhPwAAAAAAgOA/AAAAAAAg4j8AAAAAAMDiPwAAAAAAIOM/AAAAAADA4T8AAAAAAKDkPwAAAAAAAOI/AAAAAADA4j8AAAAAAEDjPwAAAAAAoOI/AAAAAADg4D8AAAAAAEDiPwAAAAAAIOI/AAAAAACA4j8AAAAAAADhPwAAAAAAIOM/AAAAAADg4D8AAAAAAEDjPwAAAAAA4OA/AAAAAACA4T8AAAAAAMDhPwAAAAAAYOI/BEsnObB04j8AAAAAAIDkPwAAAAAAgOE/AAAAAACA4D8AAAAAAIDjPwAAAAAAAOI/AAAAAABg4T8AAAAAAADjPwAAAAAAgOI/AAAAAACg4z8AAAAAACDjPwAAAAAAwOE/AAAAAABg4T8AAAAAAEDjPwAAAAAAQOI/AAAAAACA4T8AAAAAAIDiPwAAAAAAYOE/AAAAAABg4T8AAAAAAIDiPwAAAAAA4OE/AAAAAABA4j8AAAAAAGDhPwAAAAAAQOE/AAAAAABA4j8AAAAAAODhPwAAAAAAQOI/AAAAAABg4j8AAAAAAGDiPwAAAAAA4OI/AAAAAABg4T8AAAAAAADiP9aUNWVNWeM/AAAAAAAA4z8AAAAAAODiPwAAAAAA4OQ/AAAAAAAg4j8AAAAAAKDiPwAAAAAAIOI/AAAAAACA4j8AAAAAAEDiPwAAAAAA4OE/AAAAAABg4D8AAAAAAADjPwAAAAAAoOE/AAAAAADA4j8AAAAAACDhPwAAAAAAwOM/AAAAAABg4z8AAAAAAKDiPwAAAAAAgOI/AAAAAADA4T8AAAAAAADiPwAAAAAAoOI/AAAAAACA4z8AAAAAACDhPwAAAAAAIOI/AAAAAACg4j8AAAAAAMDjPwAAAAAAgOA/AAAAAABA4T8AAAAAAIDiPwAAAAAAQOE/AAAAAADA4z/WlDVlTVnjPwAAAAAAgOI/AAAAAABA4j8AAAAAAMDjPwAAAAAA4OE/AAAAAAAA4j8AAAAAAKDjPwAAAAAAIOM/AAAAAAAA4z8AAAAAAODiPwAAAAAA4OE/AAAAAACg4j8AAAAAAODiPwAAAAAAYOM/AAAAAADg4j8AAAAAAMDiPwAAAAAAQOM/AAAAAAAA4j8AAAAAAMDiPwAAAAAAoOI/AAAAAACA4z8AAAAAAADhPwAAAAAAQOU/AAAAAADg4j8AAAAAAMDiPwAAAAAAoOI/AAAAAACA4j8AAAAAAADhPwAAAAAA4OI/AAAAAABA4T8AAAAAAIDiPwAAAAAA4OE/vYci1Xso4j8AAAAAAEDjPwAAAAAAgOE/AAAAAAAA4z8AAAAAAKDjPwAAAAAAwOI/AAAAAACg4z8AAAAAAEDiPwAAAAAAIOI/AAAAAAAA4z8AAAAAAIDlPwAAAAAAYOI/AAAAAAAg4z8AAAAAACDkPwAAAAAAAOI/AAAAAACA4j8AAAAAACDjPwAAAAAAwOI/AAAAAABA4j8AAAAAAADiPwAAAAAAQOQ/AAAAAABA4j8AAAAAAMDjPwAAAAAAgOM/AAAAAACA4z8AAAAAAIDgPwAAAAAAYOI/AAAAAADg4j8AAAAAAMDgPwAAAAAAIOE/AAAAAADg4j8AAAAAAGDiP0fcEXfEHeE/AAAAAAAA4z8AAAAAACDjPwAAAAAAIOE/AAAAAACg4j8AAAAAAODhPwAAAAAAIOI/AAAAAACA4j8AAAAAAMDhPwAAAAAAAOM/AAAAAACg4j8AAAAAACDkPwAAAAAAAOM/AAAAAAAg4j8AAAAAAIDjPwAAAAAAgOM/AAAAAACA4T8AAAAAAGDiPwAAAAAAAOI/AAAAAABA4z8AAAAAAEDiPwAAAAAAYOA/AAAAAADA4z8AAAAAAEDjPwAAAAAAAOM/AAAAAADg4T8AAAAAAODiPwAAAAAA4OE/AAAAAABg4z8AAAAAAGDjPwAAAAAAoOI/AAAAAABg4j/UYhs/LbbhPwAAAAAAQOI/AAAAAABA4j8AAAAAACDkPwAAAAAA4OI/AAAAAABg4z8AAAAAAGDiPwAAAAAAAOM/AAAAAADA4z8AAAAAACDiPwAAAAAAAOI/AAAAAACg4T8AAAAAAODiPwAAAAAAgOE/AAAAAACg4T8AAAAAAMDjPwAAAAAAoOE/AAAAAABg4z8AAAAAAGDjPwAAAAAAwOM/AAAAAACg4j8AAAAAAEDiPwAAAAAAoOI/AAAAAACg5D8AAAAAAADkPwAAAAAA4OI/AAAAAACg4z8AAAAAAKDkPwAAAAAAgOM/AAAAAACg4D8AAAAAAIDiPwAAAAAA4OA/efY3l2d/4z8AAAAAAKDjPwAAAAAAoOE/AAAAAAAA5D8AAAAAAODiPwAAAAAAQOM/AAAAAADA4j8AAAAAAEDjPwAAAAAAgOQ/AAAAAADA4z8AAAAAAIDiPwAAAAAAAOI/AAAAAABA4j8AAAAAAGDkPwAAAAAAgOM/AAAAAACA4j8AAAAAAEDjPwAAAAAAwOM/AAAAAAAg4z8AAAAAAMDiPwAAAAAAYOM/AAAAAAAA5D8AAAAAAIDiPwAAAAAAgOM/AAAAAACA4T8AAAAAACDiPwAAAAAAQOQ/AAAAAABA5T8AAAAAAMDiPwAAAAAAQOM/AAAAAADA4j8AAAAAAMDhP6R6D0Wq9+A/AAAAAABg5D8AAAAAAEDmPwAAAAAAIOM/AAAAAACg4z8AAAAAAMDjPwAAAAAAQOI/AAAAAADA4T8AAAAAAIDjPwAAAAAA4OQ/AAAAAABg4j8AAAAAAKDjPwAAAAAA4OM/AAAAAABA4j8AAAAAAADjPwAAAAAAQOM/AAAAAADg4T8AAAAAAADlPwAAAAAAIOM/AAAAAAAg4z8AAAAAAEDkPwAAAAAAIOQ/AAAAAACA4j8AAAAAACDiPwAAAAAAAOQ/AAAAAABA5D8AAAAAAMDjPwAAAAAAYOI/AAAAAACA4T8AAAAAAODhPwAAAAAA4OQ/AAAAAACA4j+7VQivW4XgPwAAAAAAgOI/AAAAAADA4z8AAAAAAGDjPwAAAAAAgOM/AAAAAAAA4z8AAAAAAEDlPwAAAAAAoOI/AAAAAACg4z8AAAAAAADiPwAAAAAAAOM/AAAAAACg4j8AAAAAAODiPwAAAAAAoOI/AAAAAAAg4z8AAAAAAADkPwAAAAAAoOQ/AAAAAADg4z8AAAAAAEDkPwAAAAAAAOI/AAAAAACA4z8AAAAAAEDjPwAAAAAAIOM/AAAAAACg4z8AAAAAACDhPwAAAAAA4OM/AAAAAACg4j8AAAAAAIDjPwAAAAAAwOI/AAAAAAAg5T8AAAAAAEDhPwAAAAAAgOM/76FI9R6K5D8AAAAAAKDiPwAAAAAAgOM/AAAAAAAg4z8AAAAAAIDjPwAAAAAAoOI/AAAAAAAg5D8AAAAAACDiPwAAAAAAAOQ/AAAAAADg4z8AAAAAAGDjPwAAAAAAwOI/AAAAAABA4j8AAAAAAEDjPwAAAAAAQOI/AAAAAABA4z8AAAAAAADkPwAAAAAAAOQ/AAAAAAAA5D8AAAAAAIDiPwAAAAAAIOM/AAAAAACA4j8AAAAAAEDjPwAAAAAAAOM/AAAAAABg4j8AAAAAAKDiPwAAAAAAAOI/AAAAAACA4z8AAAAAAKDiPwAAAAAAwOE/AAAAAACA4z8AAAAAAODiPxj0BX1BX+A/AAAAAAAg5T8AAAAAAMDiPwAAAAAAAOI/AAAAAADg4D8AAAAAACDjPwAAAAAAwOI/AAAAAADg4T8AAAAAAIDjPwAAAAAA4OI/AAAAAADg4T8AAAAAAEDkPwAAAAAAoOQ/AAAAAADg4z8AAAAAAGDhPwAAAAAAgOQ/AAAAAABA4T8AAAAAAMDlPwAAAAAAIOI/AAAAAABA4j8AAAAAAODiPwAAAAAA4OE/AAAAAADA4j8AAAAAAKDhPwAAAAAAoOQ/AAAAAACg4j8AAAAAACDjPwAAAAAAIOM/AAAAAADg4j8AAAAAAGDiPwAAAAAAoOM/AAAAAAAA5T/AuTz7m8vjPwAAAAAAAOI/AAAAAADA5D8AAAAAAEDjPwAAAAAAAOI/AAAAAAAA5T8AAAAAAKDiPwAAAAAAgOQ/AAAAAADA5D8AAAAAAEDmPwAAAAAAwOI/AAAAAABA4z8AAAAAAIDiPwAAAAAA4OM/AAAAAACg4T8AAAAAAADlPwAAAAAAAOM/AAAAAAAg5D8AAAAAAKDjPwAAAAAAoOE/AAAAAACg5D8AAAAAACDkPwAAAAAAQOM/AAAAAABg4z8AAAAAAMDkPwAAAAAAoOE/AAAAAACA5T8AAAAAAEDjPwAAAAAAYOE/AAAAAAAg4j8AAAAAAADjPwAAAAAAwOM/YOkkB5ZO4j8AAAAAAODiPwAAAAAAwOM/AAAAAAAg5D8AAAAAAEDkPwAAAAAAAOQ/AAAAAAAA5D8AAAAAAODkPwAAAAAAIOQ/AAAAAAAA5D8AAAAAAADjPwAAAAAAwOI/AAAAAABg4z8AAAAAAADkPwAAAAAAYOM/AAAAAACA4z8AAAAAAADkPwAAAAAAQOM/AAAAAADg4z8AAAAAAMDiPwAAAAAAgOM/AAAAAACg4j8AAAAAAEDkPwAAAAAAYOI/AAAAAABA4T8AAAAAAODjPwAAAAAAoOM/AAAAAACA4z8AAAAAAMDjPwAAAAAAgOQ/AAAAAACA4z8AAAAAAEDjP2DpJAeWTuI/AAAAAACg5D8AAAAAAADlPwAAAAAAYOI/AAAAAACA4D8AAAAAAODkPwAAAAAAwOQ/AAAAAADA4z8AAAAAAADkPwAAAAAAgOM/AAAAAADA4z8AAAAAAODjPwAAAAAAIOU/AAAAAADg4z8AAAAAAADjPwAAAAAAoOM/AAAAAABg5D8AAAAAAODjPwAAAAAA4OM/AAAAAAAg4j8AAAAAAMDiPwAAAAAA4OI/AAAAAACg5D8AAAAAACDkPwAAAAAAIOQ/AAAAAABA5D8AAAAAACDjPwAAAAAA4OI/AAAAAADg4z8AAAAAAMDiPwAAAAAAAOQ/AAAAAACA4j8dWDrJgaXjPwAAAAAAgOM/AAAAAACA4z8AAAAAAADlPwAAAAAAgOQ/AAAAAACA4z8AAAAAAODiPwAAAAAAIOU/AAAAAABg5D8AAAAAAMDjPwAAAAAAgOE/AAAAAAAA5j8AAAAAACDkPwAAAAAAQOQ/AAAAAAAg4z8AAAAAAIDiPwAAAAAAIOM/AAAAAABg5D8AAAAAAADlPwAAAAAAYOM/AAAAAACg4z8AAAAAAIDkPwAAAAAAYOM/AAAAAADg4j8AAAAAAIDjPwAAAAAAAOM/AAAAAABg4z8AAAAAAEDiPwAAAAAAgOQ/AAAAAABA4z8AAAAAAKDjPwAAAAAAQOQ/efY3l2d/4z8AAAAAAGDkPwAAAAAAYOQ/AAAAAADA4z8AAAAAAADkPwAAAAAAAOI/AAAAAAAA4T8AAAAAACDkPwAAAAAAYOM/AAAAAABA4z8AAAAAAIDkPwAAAAAAAOI/AAAAAADA4j8AAAAAAGDiPwAAAAAAYOI/AAAAAAAA5j8AAAAAAEDlPwAAAAAAgOM/AAAAAAAA5D8AAAAAAEDjPwAAAAAAwOQ/AAAAAAAg5D8AAAAAAADjPwAAAAAAgOM/AAAAAAAA5T8AAAAAAKDjPwAAAAAAgOM/AAAAAADg4z8AAAAAAKDkPwAAAAAAAOM/AAAAAADg5D8AAAAAAKDjP5DRMAEZDeM/AAAAAADg4j8AAAAAAKDkPwAAAAAAAOQ/AAAAAAAA5D8AAAAAAEDkPwAAAAAAYOU/AAAAAAAg5D8AAAAAAIDiPwAAAAAA4OQ/AAAAAAAA5j8AAAAAAADkPwAAAAAAYOM/AAAAAADA4j8AAAAAAKDkPwAAAAAA4OM/AAAAAABA5D8AAAAAAODiPwAAAAAAQOI/AAAAAAAA5D8AAAAAAKDjPwAAAAAAAOQ/AAAAAADg5D8AAAAAAADjPwAAAAAAQOQ/AAAAAAAg5T8AAAAAAIDiPwAAAAAAAOQ/AAAAAACg5D8AAAAAAGDjPwAAAAAAgOM/AAAAAACA4j/Zxk+LbfzkPwAAAAAAoOM/AAAAAAAg5D8AAAAAAMDkPwAAAAAAAOU/AAAAAAAg4z8AAAAAAODlPwAAAAAAYOM/AAAAAADA5D8AAAAAAODiPwAAAAAAgOM/AAAAAACg4z8AAAAAAIDkPwAAAAAAoOE/AAAAAAAA5T8AAAAAAIDjPwAAAAAAwOM/AAAAAADA5T8AAAAAAADiPwAAAAAAgOQ/AAAAAABg4z8AAAAAAEDlPwAAAAAAwOQ/AAAAAAAg5D8AAAAAAEDkPwAAAAAAAOQ/AAAAAABg4j8AAAAAACDkPwAAAAAAAOQ/AAAAAAAA4z8AAAAAAMDiPwAAAAAAgOI/1pQ1ZU1Z4z8AAAAAAEDkPwAAAAAAgOI/AAAAAABg5T8AAAAAAADkPwAAAAAAQOI/AAAAAADA4j8AAAAAAMDjPwAAAAAAwOM/AAAAAACA5T8AAAAAAODiPwAAAAAAYOM/AAAAAADg4T8AAAAAAMDjPwAAAAAAYOQ/AAAAAADg4z8AAAAAAEDkPwAAAAAAAOQ/AAAAAAAg4z8AAAAAAEDkPwAAAAAAwOM/AAAAAAAg5T8AAAAAAODjPwAAAAAAIOc/AAAAAABg4z8AAAAAAMDkPwAAAAAAwOI/AAAAAAAg5D8AAAAAAODjPwAAAAAAoOM/AAAAAABA4z8AAAAAAKDkP++hSPUeiuQ/AAAAAABA5D8AAAAAAMDiPwAAAAAAYOM/AAAAAACA5D8AAAAAACDkPwAAAAAAwOM/AAAAAACA5T8AAAAAACDlPwAAAAAAgOQ/AAAAAABA4z8AAAAAAADjPwAAAAAAgOQ/AAAAAAAg5T8AAAAAAIDjPwAAAAAAIOQ/AAAAAACA5D8AAAAAAADlPwAAAAAAAOQ/AAAAAACA4z8AAAAAACDjPwAAAAAAwOI/AAAAAADA4j8AAAAAAODjPwAAAAAAgOQ/AAAAAACg4z8AAAAAAGDjPwAAAAAAoOU/AAAAAACA4z8AAAAAAKDkPwAAAAAAQOQ/AAAAAABg4z9jGz8ttvHjPwAAAAAAQOM/AAAAAADg4z8AAAAAAODkPwAAAAAAwOU/AAAAAAAg5T8AAAAAACDkPwAAAAAAIOM/AAAAAAAg5T8AAAAAAIDkPwAAAAAA4OQ/AAAAAAAg5D8AAAAAACDlPwAAAAAAQOM/AAAAAADA4z8AAAAAAIDkPwAAAAAAIOQ/AAAAAADg4j8AAAAAAIDlPwAAAAAA4OM/AAAAAADg4T8AAAAAAGDjPwAAAAAAwOM/AAAAAABg5D8AAAAAACDkPwAAAAAAIOQ/AAAAAADg5D8AAAAAAMDjPwAAAAAAAOU/AAAAAABg4j8AAAAAAGDkPwAAAAAAAOE/fChSvYci5T8AAAAAACDmPwAAAAAAIOQ/AAAAAABA4z8AAAAAAEDlPwAAAAAAQOQ/AAAAAADg4z8AAAAAAMDjPwAAAAAAwOM/AAAAAAAA5D8AAAAAAEDjPwAAAAAAgOU/AAAAAADA4j8AAAAAAODiPwAAAAAAYOQ/AAAAAACA4z8AAAAAAODjPwAAAAAAgOQ/AAAAAABg5D8AAAAAAODjPwAAAAAAYOQ/AAAAAADA4z8AAAAAAGDiPwAAAAAA4OQ/AAAAAADA5D8AAAAAAGDlPwAAAAAAoOQ/AAAAAACA5T8AAAAAAIDjPwAAAAAAYOU/AAAAAAAg4z8AAAAAAIDjPzZlTVlT1uQ/AAAAAAAg5j8AAAAAAKDkPwAAAAAAoOI/AAAAAABg4j8AAAAAAADkPwAAAAAAgOM/AAAAAAAg5D8AAAAAAMDlPwAAAAAAQOY/AAAAAAAA4z8AAAAAAEDkPwAAAAAAAOQ/AAAAAACg4j8AAAAAAMDmPwAAAAAAoOU/AAAAAACg4z8AAAAAACDlPwAAAAAAwOQ/AAAAAADg4z8AAAAAACDiPwAAAAAA4OU/AAAAAAAA5j8AAAAAAIDkPwAAAAAAgOU/AAAAAAAg5T8AAAAAAEDjPwAAAAAAwOM/AAAAAABg4j8AAAAAACDkPwAAAAAAwOQ/AAAAAABA5D93xB1xR9zhPwAAAAAAIOY/AAAAAADg4z8AAAAAAGDlPwAAAAAAgOM/AAAAAABA4z8AAAAAAODkPwAAAAAAAOU/AAAAAAAA5D8AAAAAAIDlPwAAAAAAAOU/AAAAAACg4z8AAAAAAEDkPwAAAAAAQOQ/AAAAAABA5T8AAAAAAGDlPwAAAAAAIOU/AAAAAAAg5D8AAAAAACDiPwAAAAAAIOQ/AAAAAAAA5D8AAAAAAEDjPwAAAAAAgOQ/AAAAAADg5D8AAAAAAIDjPwAAAAAAQOQ/AAAAAABg4z8AAAAAAADiPwAAAAAAIOM/AAAAAABA5D8AAAAAAGDlPwAAAAAAoOM/TEBGwwRk5D8AAAAAACDkPwAAAAAAIOQ/AAAAAAAg5D8AAAAAAGDlPwAAAAAAgOQ/AAAAAADg5D8AAAAAAKDkPwAAAAAA4OM/AAAAAADg5D8AAAAAACDjPwAAAAAAAOU/AAAAAACA5T8AAAAAAIDkPwAAAAAAgOQ/AAAAAADg4z8AAAAAAGDkPwAAAAAAoOQ/AAAAAABg5T8AAAAAAADlPwAAAAAAgOQ/AAAAAAAg5D8AAAAAAGDkPwAAAAAAAOQ/AAAAAAAA5T8AAAAAAMDkPwAAAAAAYOI/AAAAAACg4z8AAAAAACDkPwAAAAAAAOU/AAAAAADA4z8AAAAAAEDkP72HItV7KOI/AAAAAAAg5D8AAAAAAADkPwAAAAAAIOU/AAAAAACA5T8AAAAAACDjPwAAAAAAwOM/AAAAAAAg5D8AAAAAAMDkPwAAAAAA4OQ/AAAAAACA5T8AAAAAAADlPwAAAAAAwOQ/AAAAAAAA5D8AAAAAAKDkPwAAAAAAAOQ/AAAAAADg5D8AAAAAAGDjPwAAAAAAoOM/AAAAAAAg4j8AAAAAAODkPwAAAAAAgOQ/AAAAAAAg4z8AAAAAAADlPwAAAAAAIOU/AAAAAADg4z8AAAAAAMDlPwAAAAAAYOY/AAAAAADg5T8AAAAAACDlPwAAAAAAYOI/AAAAAACA5T/tby7P/ubiPwAAAAAAgOQ/AAAAAABg4j8AAAAAACDmPwAAAAAAoOQ/AAAAAABg4j8AAAAAAIDjPwAAAAAAIOQ/AAAAAADA5D8AAAAAAEDlPwAAAAAAYOU/AAAAAABA4z8AAAAAAEDlPwAAAAAAQOQ/AAAAAACA5D8AAAAAACDkPwAAAAAAgOQ/AAAAAACA5T8AAAAAAADkPwAAAAAA4OY/AAAAAABA5D8AAAAAAIDlPwAAAAAAAOU/AAAAAACg4j8AAAAAAMDlPwAAAAAAAOQ/AAAAAADA5D8AAAAAAADlPwAAAAAAoOM/AAAAAACA5D8AAAAAAMDkPwAAAAAAAOQ/qd5Dkeo95D8AAAAAAEDkPwAAAAAAgOU/AAAAAACA5D8AAAAAAEDlPwAAAAAAAOQ/AAAAAABA5T8AAAAAAKDkPwAAAAAA4OQ/AAAAAABg4z8AAAAAAODjPwAAAAAAIOQ/AAAAAADg5D8AAAAAAKDkPwAAAAAAAOI/AAAAAADg4z8AAAAAAADlPwAAAAAA4OQ/AAAAAABg5T8AAAAAAIDjPwAAAAAAIOY/AAAAAABA4j8AAAAAAGDkPwAAAAAA4OM/AAAAAACA5j8AAAAAAMDmPwAAAAAAIOM/AAAAAADA5T8AAAAAAODiPwAAAAAAwOU/AAAAAABA5D8AAAAAAKDlPzMzMzMzM+M/AAAAAADA5T8AAAAAAMDiPwAAAAAA4OQ/AAAAAACg4j8AAAAAAEDkPwAAAAAAgOU/AAAAAAAg5D8AAAAAAGDlPwAAAAAAIOU/AAAAAADg5T8AAAAAAGDkPwAAAAAAgOM/AAAAAAAA5T8AAAAAAEDkPwAAAAAAYOY/AAAAAADg4z8AAAAAAADkPwAAAAAA4OM/AAAAAACg5D8AAAAAAADmPwAAAAAAIOI/AAAAAADg5D8AAAAAAEDiPwAAAAAA4OQ/AAAAAABA5D8AAAAAAADkPwAAAAAAwOM/AAAAAACA5D8AAAAAAIDlPwAAAAAAoOU/AAAAAABg5T8dWDrJgaXjPwAAAAAAgOQ/AAAAAADg5D8AAAAAAIDkPwAAAAAAoOQ/AAAAAABg5T8AAAAAAKDlPwAAAAAAQOQ/AAAAAADg4z8AAAAAAMDjPwAAAAAAYOM/AAAAAACA4z8AAAAAAKDkPwAAAAAAoOM/AAAAAAAg5T8AAAAAAMDkPwAAAAAAwOQ/AAAAAABA5D8AAAAAAMDkPwAAAAAAQOM/AAAAAABA5D8AAAAAAKDiPwAAAAAAwOU/AAAAAADA5T8AAAAAAADkPwAAAAAAQOY/AAAAAACA5T8AAAAAAODlPwAAAAAAIOU/AAAAAABg5D8AAAAAAMDjPwAAAAAA4OQ/kNEwARkN4z8AAAAAAADjPwAAAAAAoOM/AAAAAAAg5T8AAAAAAADkPwAAAAAAgOM/AAAAAAAA5D8AAAAAACDkPwAAAAAA4OM/AAAAAACg4z8AAAAAAIDlPwAAAAAAwOU/AAAAAACA5D8AAAAAAMDjPwAAAAAA4OQ/AAAAAADA5j8AAAAAAADlPwAAAAAAYOM/AAAAAABA5D8AAAAAAGDkPwAAAAAAQOU/AAAAAABA5D8AAAAAAODkPwAAAAAA4OQ/AAAAAABg4z8AAAAAAEDjPwAAAAAAQOU/AAAAAAAg5z8AAAAAAEDjPwAAAAAAQOU/AAAAAABg4z8AAAAAAGDmP6neQ5HqPeQ/AAAAAACg5j8AAAAAAADlPwAAAAAAgOQ/AAAAAACg5T8AAAAAAMDlPwAAAAAAwOM/AAAAAAAg5D8AAAAAAGDkPwAAAAAAQOU/AAAAAACg5T8AAAAAAGDkPwAAAAAAYOU/AAAAAACg5D8AAAAAAIDkPwAAAAAA4OQ/AAAAAADg5D8AAAAAAMDmPwAAAAAAYOU/AAAAAADg4z8AAAAAACDjPwAAAAAAIOM/AAAAAACg4j8AAAAAAODkPwAAAAAAQOM/AAAAAADA5D8AAAAAAMDiPwAAAAAAQOQ/AAAAAACA4z8AAAAAAGDkPwAAAAAAAOQ/AAAAAABA5D/Zxk+LbfzkPwAAAAAAgOQ/AAAAAADg4z8AAAAAACDlPwAAAAAAAOU/AAAAAACg4z8AAAAAAMDjPwAAAAAAQOM/AAAAAABA5T8AAAAAAIDkPwAAAAAAQOM/AAAAAAAg5j8AAAAAAADlPwAAAAAAgOQ/AAAAAACA5T8AAAAAACDkPwAAAAAAwOM/AAAAAACA5D8AAAAAAADjPwAAAAAAYOU/AAAAAABA5D8AAAAAAKDlPwAAAAAAQOc/AAAAAAAg5D8AAAAAAIDlPwAAAAAAQOM/AAAAAAAg5T8AAAAAAADmPwAAAAAAAOM/AAAAAABg5T8AAAAAAADkPwAAAAAAoOM/2cZPi2385D8AAAAAAEDjPwAAAAAA4OQ/AAAAAADg5D8AAAAAAIDkPwAAAAAAQOQ/AAAAAADg5D8AAAAAAMDlPwAAAAAAoOU/AAAAAACg5D8AAAAAAIDkPwAAAAAAIOU/AAAAAADg4z8AAAAAAODlPwAAAAAA4OQ/AAAAAACA5D8AAAAAAMDjPwAAAAAAwOM/AAAAAABg5j8AAAAAAMDkPwAAAAAAYOQ/AAAAAACA4z8AAAAAAMDkPwAAAAAAwOQ/AAAAAADA5T8AAAAAACDmPwAAAAAAgOQ/AAAAAADg5D8AAAAAAODjPwAAAAAAAOQ/AAAAAACA5D8AAAAAAIDjP5IDSyc5sOQ/AAAAAACA5D8AAAAAACDlPwAAAAAAQOQ/AAAAAAAg5T8AAAAAAEDjPwAAAAAAoOQ/AAAAAADA4z8AAAAAAMDlPwAAAAAAIOQ/AAAAAABg5T8AAAAAAKDlPwAAAAAAwOI/AAAAAABg5T8AAAAAAKDkPwAAAAAA4OQ/AAAAAAAg5D8AAAAAAMDjPwAAAAAAQOU/AAAAAABA5D8AAAAAAEDlPwAAAAAAgOQ/AAAAAABg5T8AAAAAAADkPwAAAAAAgOM/AAAAAABg5T8AAAAAACDmPwAAAAAAwOU/AAAAAABA5j8AAAAAAMDlPwAAAAAAwOM/AAAAAAAg4z9jGz8ttvHjPwAAAAAAAOU/AAAAAAAg5T8AAAAAAADlPwAAAAAAIOQ/AAAAAAAg5T8AAAAAAKDjPwAAAAAAoOY/AAAAAADg5D8AAAAAAIDjPwAAAAAAwOQ/AAAAAACg5D8AAAAAAGDkPwAAAAAAQOU/AAAAAADA5D8AAAAAAODkPwAAAAAAAOM/AAAAAABg5D8AAAAAAGDkPwAAAAAAAOU/AAAAAABA5T8AAAAAAKDkPwAAAAAAYOU/AAAAAACg5D8AAAAAAEDkPwAAAAAAwOM/AAAAAABg5T8AAAAAAKDkPwAAAAAAAOQ/AAAAAACA5T8AAAAAAIDjPwAAAAAA4OQ/TEBGwwRk5D8AAAAAAODjPwAAAAAAAOc/AAAAAADg5D8AAAAAACDkPwAAAAAAoOQ/AAAAAABg5D8AAAAAAEDlPwAAAAAAwOQ/AAAAAAAg5T8AAAAAAIDkPwAAAAAAgOQ/AAAAAACA5D8AAAAAAIDmPwAAAAAAIOQ/AAAAAACA5T8AAAAAACDkPwAAAAAAAOU/AAAAAABg4z8AAAAAAODkPwAAAAAAYOQ/AAAAAACg4z8AAAAAAADlPwAAAAAA4OM/AAAAAACg5D8AAAAAAGDlPwAAAAAAgOQ/AAAAAACA5D8AAAAAAEDkPwAAAAAAIOQ/AAAAAACg4z8AAAAAACDkP9nGT4tt/OQ/",
          "dtype": "f8"
         },
         "yaxis": "y"
        },
        {
         "hovertemplate": "<b>Exponentially Weighted mean trendline</b><br><br>variable=batch_accuracy<br>step=%{x}<br>value=%{y} <b>(trend)</b><extra></extra>",
         "legendgroup": "",
         "line": {
          "color": "red"
         },
         "marker": {
          "color": "#636efa",
          "symbol": "circle"
         },
         "mode": "lines",
         "name": "",
         "showlegend": false,
         "type": "scattergl",
         "x": {
          "bdata": "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",
          "dtype": "i2"
         },
         "xaxis": "x",
         "y": {
          "bdata": "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",
          "dtype": "f8"
         },
         "yaxis": "y"
        }
       ],
       "layout": {
        "annotations": [
         {
          "font": {},
          "showarrow": false,
          "text": "variable=batch_accuracy",
          "textangle": 90,
          "x": 0.98,
          "xanchor": "left",
          "xref": "paper",
          "y": 0.2425,
          "yanchor": "middle",
          "yref": "paper"
         },
         {
          "font": {},
          "showarrow": false,
          "text": "variable=batch_train_loss",
          "textangle": 90,
          "x": 0.98,
          "xanchor": "left",
          "xref": "paper",
          "y": 0.7575000000000001,
          "yanchor": "middle",
          "yref": "paper"
         }
        ],
        "legend": {
         "tracegroupgap": 0
        },
        "template": {
         "data": {
          "bar": [
           {
            "error_x": {
             "color": "#2a3f5f"
            },
            "error_y": {
             "color": "#2a3f5f"
            },
            "marker": {
             "line": {
              "color": "#E5ECF6",
              "width": 0.5
             },
             "pattern": {
              "fillmode": "overlay",
              "size": 10,
              "solidity": 0.2
             }
            },
            "type": "bar"
           }
          ],
          "barpolar": [
           {
            "marker": {
             "line": {
              "color": "#E5ECF6",
              "width": 0.5
             },
             "pattern": {
              "fillmode": "overlay",
              "size": 10,
              "solidity": 0.2
             }
            },
            "type": "barpolar"
           }
          ],
          "carpet": [
           {
            "aaxis": {
             "endlinecolor": "#2a3f5f",
             "gridcolor": "white",
             "linecolor": "white",
             "minorgridcolor": "white",
             "startlinecolor": "#2a3f5f"
            },
            "baxis": {
             "endlinecolor": "#2a3f5f",
             "gridcolor": "white",
             "linecolor": "white",
             "minorgridcolor": "white",
             "startlinecolor": "#2a3f5f"
            },
            "type": "carpet"
           }
          ],
          "choropleth": [
           {
            "colorbar": {
             "outlinewidth": 0,
             "ticks": ""
            },
            "type": "choropleth"
           }
          ],
          "contour": [
           {
            "colorbar": {
             "outlinewidth": 0,
             "ticks": ""
            },
            "colorscale": [
             [
              0,
              "#0d0887"
             ],
             [
              0.1111111111111111,
              "#46039f"
             ],
             [
              0.2222222222222222,
              "#7201a8"
             ],
             [
              0.3333333333333333,
              "#9c179e"
             ],
             [
              0.4444444444444444,
              "#bd3786"
             ],
             [
              0.5555555555555556,
              "#d8576b"
             ],
             [
              0.6666666666666666,
              "#ed7953"
             ],
             [
              0.7777777777777778,
              "#fb9f3a"
             ],
             [
              0.8888888888888888,
              "#fdca26"
             ],
             [
              1,
              "#f0f921"
             ]
            ],
            "type": "contour"
           }
          ],
          "contourcarpet": [
           {
            "colorbar": {
             "outlinewidth": 0,
             "ticks": ""
            },
            "type": "contourcarpet"
           }
          ],
          "heatmap": [
           {
            "colorbar": {
             "outlinewidth": 0,
             "ticks": ""
            },
            "colorscale": [
             [
              0,
              "#0d0887"
             ],
             [
              0.1111111111111111,
              "#46039f"
             ],
             [
              0.2222222222222222,
              "#7201a8"
             ],
             [
              0.3333333333333333,
              "#9c179e"
             ],
             [
              0.4444444444444444,
              "#bd3786"
             ],
             [
              0.5555555555555556,
              "#d8576b"
             ],
             [
              0.6666666666666666,
              "#ed7953"
             ],
             [
              0.7777777777777778,
              "#fb9f3a"
             ],
             [
              0.8888888888888888,
              "#fdca26"
             ],
             [
              1,
              "#f0f921"
             ]
            ],
            "type": "heatmap"
           }
          ],
          "histogram": [
           {
            "marker": {
             "pattern": {
              "fillmode": "overlay",
              "size": 10,
              "solidity": 0.2
             }
            },
            "type": "histogram"
           }
          ],
          "histogram2d": [
           {
            "colorbar": {
             "outlinewidth": 0,
             "ticks": ""
            },
            "colorscale": [
             [
              0,
              "#0d0887"
             ],
             [
              0.1111111111111111,
              "#46039f"
             ],
             [
              0.2222222222222222,
              "#7201a8"
             ],
             [
              0.3333333333333333,
              "#9c179e"
             ],
             [
              0.4444444444444444,
              "#bd3786"
             ],
             [
              0.5555555555555556,
              "#d8576b"
             ],
             [
              0.6666666666666666,
              "#ed7953"
             ],
             [
              0.7777777777777778,
              "#fb9f3a"
             ],
             [
              0.8888888888888888,
              "#fdca26"
             ],
             [
              1,
              "#f0f921"
             ]
            ],
            "type": "histogram2d"
           }
          ],
          "histogram2dcontour": [
           {
            "colorbar": {
             "outlinewidth": 0,
             "ticks": ""
            },
            "colorscale": [
             [
              0,
              "#0d0887"
             ],
             [
              0.1111111111111111,
              "#46039f"
             ],
             [
              0.2222222222222222,
              "#7201a8"
             ],
             [
              0.3333333333333333,
              "#9c179e"
             ],
             [
              0.4444444444444444,
              "#bd3786"
             ],
             [
              0.5555555555555556,
              "#d8576b"
             ],
             [
              0.6666666666666666,
              "#ed7953"
             ],
             [
              0.7777777777777778,
              "#fb9f3a"
             ],
             [
              0.8888888888888888,
              "#fdca26"
             ],
             [
              1,
              "#f0f921"
             ]
            ],
            "type": "histogram2dcontour"
           }
          ],
          "mesh3d": [
           {
            "colorbar": {
             "outlinewidth": 0,
             "ticks": ""
            },
            "type": "mesh3d"
           }
          ],
          "parcoords": [
           {
            "line": {
             "colorbar": {
              "outlinewidth": 0,
              "ticks": ""
             }
            },
            "type": "parcoords"
           }
          ],
          "pie": [
           {
            "automargin": true,
            "type": "pie"
           }
          ],
          "scatter": [
           {
            "fillpattern": {
             "fillmode": "overlay",
             "size": 10,
             "solidity": 0.2
            },
            "type": "scatter"
           }
          ],
          "scatter3d": [
           {
            "line": {
             "colorbar": {
              "outlinewidth": 0,
              "ticks": ""
             }
            },
            "marker": {
             "colorbar": {
              "outlinewidth": 0,
              "ticks": ""
             }
            },
            "type": "scatter3d"
           }
          ],
          "scattercarpet": [
           {
            "marker": {
             "colorbar": {
              "outlinewidth": 0,
              "ticks": ""
             }
            },
            "type": "scattercarpet"
           }
          ],
          "scattergeo": [
           {
            "marker": {
             "colorbar": {
              "outlinewidth": 0,
              "ticks": ""
             }
            },
            "type": "scattergeo"
           }
          ],
          "scattergl": [
           {
            "marker": {
             "colorbar": {
              "outlinewidth": 0,
              "ticks": ""
             }
            },
            "type": "scattergl"
           }
          ],
          "scattermap": [
           {
            "marker": {
             "colorbar": {
              "outlinewidth": 0,
              "ticks": ""
             }
            },
            "type": "scattermap"
           }
          ],
          "scattermapbox": [
           {
            "marker": {
             "colorbar": {
              "outlinewidth": 0,
              "ticks": ""
             }
            },
            "type": "scattermapbox"
           }
          ],
          "scatterpolar": [
           {
            "marker": {
             "colorbar": {
              "outlinewidth": 0,
              "ticks": ""
             }
            },
            "type": "scatterpolar"
           }
          ],
          "scatterpolargl": [
           {
            "marker": {
             "colorbar": {
              "outlinewidth": 0,
              "ticks": ""
             }
            },
            "type": "scatterpolargl"
           }
          ],
          "scatterternary": [
           {
            "marker": {
             "colorbar": {
              "outlinewidth": 0,
              "ticks": ""
             }
            },
            "type": "scatterternary"
           }
          ],
          "surface": [
           {
            "colorbar": {
             "outlinewidth": 0,
             "ticks": ""
            },
            "colorscale": [
             [
              0,
              "#0d0887"
             ],
             [
              0.1111111111111111,
              "#46039f"
             ],
             [
              0.2222222222222222,
              "#7201a8"
             ],
             [
              0.3333333333333333,
              "#9c179e"
             ],
             [
              0.4444444444444444,
              "#bd3786"
             ],
             [
              0.5555555555555556,
              "#d8576b"
             ],
             [
              0.6666666666666666,
              "#ed7953"
             ],
             [
              0.7777777777777778,
              "#fb9f3a"
             ],
             [
              0.8888888888888888,
              "#fdca26"
             ],
             [
              1,
              "#f0f921"
             ]
            ],
            "type": "surface"
           }
          ],
          "table": [
           {
            "cells": {
             "fill": {
              "color": "#EBF0F8"
             },
             "line": {
              "color": "white"
             }
            },
            "header": {
             "fill": {
              "color": "#C8D4E3"
             },
             "line": {
              "color": "white"
             }
            },
            "type": "table"
           }
          ]
         },
         "layout": {
          "annotationdefaults": {
           "arrowcolor": "#2a3f5f",
           "arrowhead": 0,
           "arrowwidth": 1
          },
          "autotypenumbers": "strict",
          "coloraxis": {
           "colorbar": {
            "outlinewidth": 0,
            "ticks": ""
           }
          },
          "colorscale": {
           "diverging": [
            [
             0,
             "#8e0152"
            ],
            [
             0.1,
             "#c51b7d"
            ],
            [
             0.2,
             "#de77ae"
            ],
            [
             0.3,
             "#f1b6da"
            ],
            [
             0.4,
             "#fde0ef"
            ],
            [
             0.5,
             "#f7f7f7"
            ],
            [
             0.6,
             "#e6f5d0"
            ],
            [
             0.7,
             "#b8e186"
            ],
            [
             0.8,
             "#7fbc41"
            ],
            [
             0.9,
             "#4d9221"
            ],
            [
             1,
             "#276419"
            ]
           ],
           "sequential": [
            [
             0,
             "#0d0887"
            ],
            [
             0.1111111111111111,
             "#46039f"
            ],
            [
             0.2222222222222222,
             "#7201a8"
            ],
            [
             0.3333333333333333,
             "#9c179e"
            ],
            [
             0.4444444444444444,
             "#bd3786"
            ],
            [
             0.5555555555555556,
             "#d8576b"
            ],
            [
             0.6666666666666666,
             "#ed7953"
            ],
            [
             0.7777777777777778,
             "#fb9f3a"
            ],
            [
             0.8888888888888888,
             "#fdca26"
            ],
            [
             1,
             "#f0f921"
            ]
           ],
           "sequentialminus": [
            [
             0,
             "#0d0887"
            ],
            [
             0.1111111111111111,
             "#46039f"
            ],
            [
             0.2222222222222222,
             "#7201a8"
            ],
            [
             0.3333333333333333,
             "#9c179e"
            ],
            [
             0.4444444444444444,
             "#bd3786"
            ],
            [
             0.5555555555555556,
             "#d8576b"
            ],
            [
             0.6666666666666666,
             "#ed7953"
            ],
            [
             0.7777777777777778,
             "#fb9f3a"
            ],
            [
             0.8888888888888888,
             "#fdca26"
            ],
            [
             1,
             "#f0f921"
            ]
           ]
          },
          "colorway": [
           "#636efa",
           "#EF553B",
           "#00cc96",
           "#ab63fa",
           "#FFA15A",
           "#19d3f3",
           "#FF6692",
           "#B6E880",
           "#FF97FF",
           "#FECB52"
          ],
          "font": {
           "color": "#2a3f5f"
          },
          "geo": {
           "bgcolor": "white",
           "lakecolor": "white",
           "landcolor": "#E5ECF6",
           "showlakes": true,
           "showland": true,
           "subunitcolor": "white"
          },
          "hoverlabel": {
           "align": "left"
          },
          "hovermode": "closest",
          "mapbox": {
           "style": "light"
          },
          "paper_bgcolor": "white",
          "plot_bgcolor": "#E5ECF6",
          "polar": {
           "angularaxis": {
            "gridcolor": "white",
            "linecolor": "white",
            "ticks": ""
           },
           "bgcolor": "#E5ECF6",
           "radialaxis": {
            "gridcolor": "white",
            "linecolor": "white",
            "ticks": ""
           }
          },
          "scene": {
           "xaxis": {
            "backgroundcolor": "#E5ECF6",
            "gridcolor": "white",
            "gridwidth": 2,
            "linecolor": "white",
            "showbackground": true,
            "ticks": "",
            "zerolinecolor": "white"
           },
           "yaxis": {
            "backgroundcolor": "#E5ECF6",
            "gridcolor": "white",
            "gridwidth": 2,
            "linecolor": "white",
            "showbackground": true,
            "ticks": "",
            "zerolinecolor": "white"
           },
           "zaxis": {
            "backgroundcolor": "#E5ECF6",
            "gridcolor": "white",
            "gridwidth": 2,
            "linecolor": "white",
            "showbackground": true,
            "ticks": "",
            "zerolinecolor": "white"
           }
          },
          "shapedefaults": {
           "line": {
            "color": "#2a3f5f"
           }
          },
          "ternary": {
           "aaxis": {
            "gridcolor": "white",
            "linecolor": "white",
            "ticks": ""
           },
           "baxis": {
            "gridcolor": "white",
            "linecolor": "white",
            "ticks": ""
           },
           "bgcolor": "#E5ECF6",
           "caxis": {
            "gridcolor": "white",
            "linecolor": "white",
            "ticks": ""
           }
          },
          "title": {
           "x": 0.05
          },
          "xaxis": {
           "automargin": true,
           "gridcolor": "white",
           "linecolor": "white",
           "ticks": "",
           "title": {
            "standoff": 15
           },
           "zerolinecolor": "white",
           "zerolinewidth": 2
          },
          "yaxis": {
           "automargin": true,
           "gridcolor": "white",
           "linecolor": "white",
           "ticks": "",
           "title": {
            "standoff": 15
           },
           "zerolinecolor": "white",
           "zerolinewidth": 2
          }
         }
        },
        "title": {
         "text": "batch metrics"
        },
        "xaxis": {
         "anchor": "y",
         "domain": [
          0,
          0.98
         ],
         "title": {
          "text": "step"
         }
        },
        "xaxis2": {
         "anchor": "y2",
         "domain": [
          0,
          0.98
         ],
         "matches": "x",
         "showticklabels": false
        },
        "yaxis": {
         "anchor": "x",
         "domain": [
          0,
          0.485
         ],
         "title": {
          "text": "value"
         }
        },
        "yaxis2": {
         "anchor": "x2",
         "domain": [
          0.515,
          1
         ],
         "title": {
          "text": "value"
         }
        }
       }
      }
     },
     "metadata": {},
     "output_type": "display_data"
    }
   ],
   "source": [
    "full_dataset = CMIDataset(\"full_dataset\")\n",
    "full_dataset_loader = DL(full_dataset, BATCH_SIZE, shuffle=True)\n",
    "model, full_train_metrics, checkpoints = mk_model_and_fit(full_dataset_loader)\n",
    "plt_train_split_training_metrics(full_train_metrics)"
   ]
  },
  {
   "cell_type": "markdown",
   "id": "f0081b6e",
   "metadata": {},
   "source": [
    "## Model upload"
   ]
  },
  {
   "cell_type": "code",
   "execution_count": null,
   "id": "87578050",
   "metadata": {},
   "outputs": [
    {
     "name": "stdout",
     "output_type": "stream",
     "text": [
      "Kaggle credentials successfully validated.\n",
      "Uploading Model https://www.kaggle.com/models/mauroabidalcarrer/cmi-resnet/pyTorch/16-07-2025-00-38 ...\n"
     ]
    },
    {
     "ename": "BackendError",
     "evalue": "Please upload at least one file",
     "output_type": "error",
     "traceback": [
      "\u001b[31m---------------------------------------------------------------------------\u001b[39m",
      "\u001b[31mBackendError\u001b[39m                              Traceback (most recent call last)",
      "\u001b[36mCell\u001b[39m\u001b[36m \u001b[39m\u001b[32mIn[30]\u001b[39m\u001b[32m, line 3\u001b[39m\n\u001b[32m      1\u001b[39m handle = \u001b[33mf\u001b[39m\u001b[33m\"\u001b[39m\u001b[38;5;132;01m{\u001b[39;00mwhoami()[\u001b[33m'\u001b[39m\u001b[33musername\u001b[39m\u001b[33m'\u001b[39m]\u001b[38;5;132;01m}\u001b[39;00m\u001b[33m/cmi-resnet/pyTorch/\u001b[39m\u001b[38;5;132;01m{\u001b[39;00mmk_date_now_str().replace(\u001b[33m'\u001b[39m\u001b[33m_\u001b[39m\u001b[33m'\u001b[39m,\u001b[38;5;250m \u001b[39m\u001b[33m'\u001b[39m\u001b[33m-\u001b[39m\u001b[33m'\u001b[39m)\u001b[38;5;132;01m}\u001b[39;00m\u001b[33m\"\u001b[39m\n\u001b[32m      2\u001b[39m model_path = realpath(join(checkpoints, \u001b[33m\"\u001b[39m\u001b[33mbest_checkpoint.pth\u001b[39m\u001b[33m\"\u001b[39m))\n\u001b[32m----> \u001b[39m\u001b[32m3\u001b[39m \u001b[43mmodel_upload\u001b[49m\u001b[43m(\u001b[49m\u001b[43mhandle\u001b[49m\u001b[43m,\u001b[49m\u001b[43m \u001b[49m\u001b[43mmodel_path\u001b[49m\u001b[43m)\u001b[49m\n",
      "\u001b[36mFile \u001b[39m\u001b[32m~/miniconda3/envs/CMI/lib/python3.11/site-packages/kagglehub/models.py:94\u001b[39m, in \u001b[36mmodel_upload\u001b[39m\u001b[34m(handle, local_model_dir, license_name, version_notes, ignore_patterns, sigstore)\u001b[39m\n\u001b[32m     87\u001b[39m \u001b[38;5;66;03m# Upload the model files to GCS\u001b[39;00m\n\u001b[32m     88\u001b[39m tokens = upload_files_and_directories(\n\u001b[32m     89\u001b[39m     local_model_dir,\n\u001b[32m     90\u001b[39m     item_type=\u001b[33m\"\u001b[39m\u001b[33mmodel\u001b[39m\u001b[33m\"\u001b[39m,\n\u001b[32m     91\u001b[39m     ignore_patterns=normalize_patterns(default=DEFAULT_IGNORE_PATTERNS, additional=ignore_patterns),\n\u001b[32m     92\u001b[39m )\n\u001b[32m---> \u001b[39m\u001b[32m94\u001b[39m \u001b[43mcreate_model_instance_or_version\u001b[49m\u001b[43m(\u001b[49m\u001b[43mh\u001b[49m\u001b[43m,\u001b[49m\u001b[43m \u001b[49m\u001b[43mtokens\u001b[49m\u001b[43m,\u001b[49m\u001b[43m \u001b[49m\u001b[43mlicense_name\u001b[49m\u001b[43m,\u001b[49m\u001b[43m \u001b[49m\u001b[43mversion_notes\u001b[49m\u001b[43m,\u001b[49m\u001b[43m \u001b[49m\u001b[43msigstore\u001b[49m\u001b[43m=\u001b[49m\u001b[43msigstore\u001b[49m\u001b[43m)\u001b[49m\n",
      "\u001b[36mFile \u001b[39m\u001b[32m~/miniconda3/envs/CMI/lib/python3.11/site-packages/kagglehub/models_helpers.py:82\u001b[39m, in \u001b[36mcreate_model_instance_or_version\u001b[39m\u001b[34m(model_handle, files, license_name, version_notes, sigstore)\u001b[39m\n\u001b[32m     80\u001b[39m     _create_model_instance_version(model_handle, files, version_notes, sigstore=sigstore)\n\u001b[32m     81\u001b[39m \u001b[38;5;28;01melse\u001b[39;00m:\n\u001b[32m---> \u001b[39m\u001b[32m82\u001b[39m     \u001b[38;5;28;01mraise\u001b[39;00m (e)\n",
      "\u001b[36mFile \u001b[39m\u001b[32m~/miniconda3/envs/CMI/lib/python3.11/site-packages/kagglehub/models_helpers.py:76\u001b[39m, in \u001b[36mcreate_model_instance_or_version\u001b[39m\u001b[34m(model_handle, files, license_name, version_notes, sigstore)\u001b[39m\n\u001b[32m     67\u001b[39m \u001b[38;5;28;01mdef\u001b[39;00m\u001b[38;5;250m \u001b[39m\u001b[34mcreate_model_instance_or_version\u001b[39m(\n\u001b[32m     68\u001b[39m     model_handle: ModelHandle,\n\u001b[32m     69\u001b[39m     files: UploadDirectoryInfo,\n\u001b[32m   (...)\u001b[39m\u001b[32m     73\u001b[39m     sigstore: Optional[\u001b[38;5;28mbool\u001b[39m] = \u001b[38;5;28;01mFalse\u001b[39;00m,\n\u001b[32m     74\u001b[39m ) -> \u001b[38;5;28;01mNone\u001b[39;00m:\n\u001b[32m     75\u001b[39m     \u001b[38;5;28;01mtry\u001b[39;00m:\n\u001b[32m---> \u001b[39m\u001b[32m76\u001b[39m         \u001b[43m_create_model_instance\u001b[49m\u001b[43m(\u001b[49m\u001b[43mmodel_handle\u001b[49m\u001b[43m,\u001b[49m\u001b[43m \u001b[49m\u001b[43mfiles\u001b[49m\u001b[43m,\u001b[49m\u001b[43m \u001b[49m\u001b[43mlicense_name\u001b[49m\u001b[43m,\u001b[49m\u001b[43m \u001b[49m\u001b[43msigstore\u001b[49m\u001b[43m=\u001b[49m\u001b[43msigstore\u001b[49m\u001b[43m)\u001b[49m\n\u001b[32m     77\u001b[39m     \u001b[38;5;28;01mexcept\u001b[39;00m BackendError \u001b[38;5;28;01mas\u001b[39;00m e:\n\u001b[32m     78\u001b[39m         \u001b[38;5;28;01mif\u001b[39;00m e.error_code == HTTPStatus.CONFLICT:\n\u001b[32m     79\u001b[39m             \u001b[38;5;66;03m# Instance already exist, creating a new version instead.\u001b[39;00m\n",
      "\u001b[36mFile \u001b[39m\u001b[32m~/miniconda3/envs/CMI/lib/python3.11/site-packages/kagglehub/models_helpers.py:39\u001b[39m, in \u001b[36m_create_model_instance\u001b[39m\u001b[34m(model_handle, files_and_directories, license_name, sigstore)\u001b[39m\n\u001b[32m     36\u001b[39m     data[\u001b[33m\"\u001b[39m\u001b[33mlicenseName\u001b[39m\u001b[33m\"\u001b[39m] = license_name\n\u001b[32m     38\u001b[39m api_client = KaggleApiV1Client()\n\u001b[32m---> \u001b[39m\u001b[32m39\u001b[39m \u001b[43mapi_client\u001b[49m\u001b[43m.\u001b[49m\u001b[43mpost\u001b[49m\u001b[43m(\u001b[49m\u001b[33;43mf\u001b[39;49m\u001b[33;43m\"\u001b[39;49m\u001b[33;43m/models/\u001b[39;49m\u001b[38;5;132;43;01m{\u001b[39;49;00m\u001b[43mmodel_handle\u001b[49m\u001b[43m.\u001b[49m\u001b[43mowner\u001b[49m\u001b[38;5;132;43;01m}\u001b[39;49;00m\u001b[33;43m/\u001b[39;49m\u001b[38;5;132;43;01m{\u001b[39;49;00m\u001b[43mmodel_handle\u001b[49m\u001b[43m.\u001b[49m\u001b[43mmodel\u001b[49m\u001b[38;5;132;43;01m}\u001b[39;49;00m\u001b[33;43m/create/instance\u001b[39;49m\u001b[33;43m\"\u001b[39;49m\u001b[43m,\u001b[49m\u001b[43m \u001b[49m\u001b[43mdata\u001b[49m\u001b[43m)\u001b[49m\n\u001b[32m     40\u001b[39m logger.info(\u001b[33mf\u001b[39m\u001b[33m\"\u001b[39m\u001b[33mYour model instance has been created.\u001b[39m\u001b[38;5;130;01m\\n\u001b[39;00m\u001b[33mFiles are being processed...\u001b[39m\u001b[38;5;130;01m\\n\u001b[39;00m\u001b[33mSee at: \u001b[39m\u001b[38;5;132;01m{\u001b[39;00mmodel_handle.to_url()\u001b[38;5;132;01m}\u001b[39;00m\u001b[33m\"\u001b[39m)\n",
      "\u001b[36mFile \u001b[39m\u001b[32m~/miniconda3/envs/CMI/lib/python3.11/site-packages/kagglehub/clients.py:154\u001b[39m, in \u001b[36mKaggleApiV1Client.post\u001b[39m\u001b[34m(self, path, data)\u001b[39m\n\u001b[32m    152\u001b[39m response.raise_for_status()\n\u001b[32m    153\u001b[39m response_dict = response.json()\n\u001b[32m--> \u001b[39m\u001b[32m154\u001b[39m \u001b[43mprocess_post_response\u001b[49m\u001b[43m(\u001b[49m\u001b[43mresponse_dict\u001b[49m\u001b[43m)\u001b[49m\n\u001b[32m    155\u001b[39m \u001b[38;5;28mself\u001b[39m._check_for_version_update(response)\n\u001b[32m    156\u001b[39m \u001b[38;5;28;01mreturn\u001b[39;00m response_dict\n",
      "\u001b[36mFile \u001b[39m\u001b[32m~/miniconda3/envs/CMI/lib/python3.11/site-packages/kagglehub/exceptions.py:141\u001b[39m, in \u001b[36mprocess_post_response\u001b[39m\u001b[34m(response)\u001b[39m\n\u001b[32m    139\u001b[39m \u001b[38;5;28;01melif\u001b[39;00m \u001b[33m\"\u001b[39m\u001b[33merror\u001b[39m\u001b[33m\"\u001b[39m \u001b[38;5;129;01min\u001b[39;00m response \u001b[38;5;129;01mand\u001b[39;00m response[\u001b[33m\"\u001b[39m\u001b[33merror\u001b[39m\u001b[33m\"\u001b[39m] != \u001b[33m\"\u001b[39m\u001b[33m\"\u001b[39m:\n\u001b[32m    140\u001b[39m     error_code = \u001b[38;5;28mint\u001b[39m(response[\u001b[33m\"\u001b[39m\u001b[33merrorCode\u001b[39m\u001b[33m\"\u001b[39m]) \u001b[38;5;28;01mif\u001b[39;00m \u001b[33m\"\u001b[39m\u001b[33merrorCode\u001b[39m\u001b[33m\"\u001b[39m \u001b[38;5;129;01min\u001b[39;00m response \u001b[38;5;28;01melse\u001b[39;00m \u001b[38;5;28;01mNone\u001b[39;00m\n\u001b[32m--> \u001b[39m\u001b[32m141\u001b[39m     \u001b[38;5;28;01mraise\u001b[39;00m BackendError(response[\u001b[33m\"\u001b[39m\u001b[33merror\u001b[39m\u001b[33m\"\u001b[39m], error_code)\n",
      "\u001b[31mBackendError\u001b[39m: Please upload at least one file"
     ]
    }
   ],
   "source": [
    "handle = f\"{whoami()['username']}/cmi-resnet/pyTorch/{mk_date_now_str().replace('_', '-')}\"\n",
    "model_path = realpath(join(checkpoints, \"best_checkpoint.pth\"))\n",
    "model_upload(handle, model_path)"
   ]
  }
 ],
 "metadata": {
  "kernelspec": {
   "display_name": "CMI",
   "language": "python",
   "name": "python3"
  },
  "language_info": {
   "codemirror_mode": {
    "name": "ipython",
    "version": 3
   },
   "file_extension": ".py",
   "mimetype": "text/x-python",
   "name": "python",
   "nbconvert_exporter": "python",
   "pygments_lexer": "ipython3",
   "version": "3.11.5"
  }
 },
 "nbformat": 4,
 "nbformat_minor": 5
}
