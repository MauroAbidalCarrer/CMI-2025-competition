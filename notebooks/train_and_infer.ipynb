{
 "cells": [
  {
   "cell_type": "markdown",
   "id": "0a0d2e35",
   "metadata": {
    "papermill": {
     "duration": 0.008511,
     "end_time": "2025-08-02T11:24:41.877382",
     "exception": false,
     "start_time": "2025-08-02T11:24:41.868871",
     "status": "completed"
    },
    "tags": []
   },
   "source": [
    "# Training & inference notebook\n",
    "Credit to [Tarun Mishra](https://www.kaggle.com/tarundirector) – this code is heavily based on his [notebook](https://www.kaggle.com/code/tarundirector/sensor-pulse-viz-eda-for-bfrb-detection?scriptVersionId=243465321)."
   ]
  },
  {
   "cell_type": "markdown",
   "id": "6d8a75d1",
   "metadata": {
    "papermill": {
     "duration": 0.006874,
     "end_time": "2025-08-02T11:24:41.891565",
     "exception": false,
     "start_time": "2025-08-02T11:24:41.884691",
     "status": "completed"
    },
    "tags": []
   },
   "source": [
    "## Setup"
   ]
  },
  {
   "cell_type": "markdown",
   "id": "0b1bea84",
   "metadata": {
    "papermill": {
     "duration": 0.007515,
     "end_time": "2025-08-02T11:24:41.906119",
     "exception": false,
     "start_time": "2025-08-02T11:24:41.898604",
     "status": "completed"
    },
    "tags": []
   },
   "source": [
    "### imports"
   ]
  },
  {
   "cell_type": "code",
   "execution_count": 1,
   "id": "26d92a56",
   "metadata": {},
   "outputs": [],
   "source": [
    "import re\n",
    "import os\n",
    "import gc\n",
    "import json \n",
    "import math\n",
    "import shutil\n",
    "import random\n",
    "import warnings\n",
    "from glob import glob\n",
    "from os.path import join\n",
    "from functools import partial\n",
    "from datetime import datetime\n",
    "from tqdm.notebook import tqdm\n",
    "from collections import Counter\n",
    "from operator import methodcaller\n",
    "from os.path import join, realpath\n",
    "from typing import Optional, Literal\n",
    "from itertools import pairwise, starmap, product\n",
    "\n",
    "import torch\n",
    "import optuna\n",
    "import numpy as np\n",
    "import pandas as pd\n",
    "import polars as pl\n",
    "from numpy import ndarray\n",
    "from torch import nn, Tensor\n",
    "from numpy.linalg import norm\n",
    "import torch.nn.functional as F\n",
    "from torch.optim import Optimizer\n",
    "from pandas import DataFrame as DF\n",
    "from optuna.trial import TrialState\n",
    "from sklearn.metrics import f1_score\n",
    "from kagglehub import competition_download\n",
    "from torch.utils.data import TensorDataset\n",
    "from scipy.spatial.transform import Rotation\n",
    "import kaggle_evaluation.cmi_inference_server\n",
    "from torch.utils.data import DataLoader as DL\n",
    "from sklearn.model_selection import GroupKFold\n",
    "from rich.progress import Progress, Task, track\n",
    "from torch.utils.data import Dataset, DataLoader\n",
    "from sklearn.model_selection import train_test_split\n",
    "from numpy.lib.stride_tricks import sliding_window_view\n",
    "from sklearn.model_selection import StratifiedGroupKFold\n",
    "from sklearn.utils.class_weight import compute_class_weight\n",
    "from torch.optim.lr_scheduler import ConstantLR, LRScheduler, _LRScheduler"
   ]
  },
  {
   "cell_type": "markdown",
   "id": "0d32d892",
   "metadata": {
    "papermill": {
     "duration": 0.006769,
     "end_time": "2025-08-02T11:24:51.225973",
     "exception": false,
     "start_time": "2025-08-02T11:24:51.219204",
     "status": "completed"
    },
    "tags": []
   },
   "source": [
    "### Configs"
   ]
  },
  {
   "cell_type": "markdown",
   "id": "b85a8694",
   "metadata": {
    "papermill": {
     "duration": 0.006774,
     "end_time": "2025-08-02T11:24:51.239642",
     "exception": false,
     "start_time": "2025-08-02T11:24:51.232868",
     "status": "completed"
    },
    "tags": []
   },
   "source": [
    "#### Training config"
   ]
  },
  {
   "cell_type": "code",
   "execution_count": 2,
   "id": "315f4a8d",
   "metadata": {
    "execution": {
     "iopub.execute_input": "2025-08-02T11:24:51.254502Z",
     "iopub.status.busy": "2025-08-02T11:24:51.254086Z",
     "iopub.status.idle": "2025-08-02T11:24:51.259267Z",
     "shell.execute_reply": "2025-08-02T11:24:51.258717Z"
    },
    "papermill": {
     "duration": 0.013777,
     "end_time": "2025-08-02T11:24:51.260297",
     "exception": false,
     "start_time": "2025-08-02T11:24:51.246520",
     "status": "completed"
    },
    "tags": []
   },
   "outputs": [],
   "source": [
    "# Dataset\n",
    "DATASET_HANDLE = \"mauroabidalcarrer/prepocessed-cmi-2025\" #+ \"/versions/43\"\n",
    "COMPETITION_HANDLE = \"cmi-detect-behavior-with-sensor-data\"\n",
    "TARGET_NAMES = sorted([\n",
    "    \"Above ear - pull hair\",\n",
    "    \"Cheek - pinch skin\",\n",
    "    \"Eyebrow - pull hair\",\n",
    "    \"Eyelash - pull hair\",\n",
    "    \"Feel around in tray and pull out an object\",\n",
    "    \"Forehead - pull hairline\",\n",
    "    \"Forehead - scratch\",\n",
    "    \"Neck - pinch skin\",\n",
    "    \"Neck - scratch\",\n",
    "    \"Text on phone\",\n",
    "    \"Wave hello\",\n",
    "    \"Write name in air\",\n",
    "    \"Write name on leg\",\n",
    "    \"Drink from bottle/cup\",\n",
    "    \"Pinch knee/leg skin\",\n",
    "    \"Pull air toward your face\",\n",
    "    \"Scratch knee/leg skin\",\n",
    "    \"Glasses on/off\"\n",
    "])\n",
    "BFRB_GESTURES = [\n",
    "    'Above ear - pull hair',\n",
    "    'Forehead - pull hairline',\n",
    "    'Forehead - scratch',\n",
    "    'Eyebrow - pull hair',\n",
    "    'Eyelash - pull hair',\n",
    "    'Neck - pinch skin',\n",
    "    'Neck - scratch',\n",
    "    'Cheek - pinch skin'\n",
    "]\n",
    "BFRB_INDICES = [idx for idx, gesture in enumerate(TARGET_NAMES) if gesture in BFRB_GESTURES]\n",
    "IMU_FEATS_PREFIXES = (\n",
    "    \"acc\",\n",
    "    \"linear_acc\",\n",
    "    \"rot\",\n",
    "    \"angular\",\n",
    "    \"euler\",\n",
    "    \"quat_rot_mag\",\n",
    "    \"delta_rot_mag\",\n",
    ")\n",
    "# Data augmentation\n",
    "JITTER = 0.25\n",
    "SCALING = 0.2\n",
    "MIXUP = 0.3\n",
    "# Training loop\n",
    "NB_CROSS_VALIDATIONS = 5\n",
    "TRAIN_BATCH_SIZE = 256\n",
    "VALIDATION_BATCH_SIZE = 4 * TRAIN_BATCH_SIZE\n",
    "PATIENCE = 8\n",
    "# Optimizer\n",
    "WEIGHT_DECAY = 3e-3\n",
    "# Scheduler\n",
    "TRAINING_EPOCHS = 25 # Including warmup epochs\n",
    "WARMUP_EPOCHS = 3\n",
    "WARMUP_LR_INIT = 1.822126131809773e-05\n",
    "MAX_TO_MIN_LR_DIV_FACTOR = 100\n",
    "LR_CYCLE_FACTOR = 0.5\n",
    "CYCLE_LENGTH_FACTOR = 0.9\n",
    "INIT_CYCLE_EPOCHS = 6\n",
    "# MIN_LR = 3.810323058740104e-09\n",
    "# MAX_LR = 1e-3\n",
    "# Mock training loop\n",
    "MOCK_TRAINING_EPOCHS = 20\n",
    "MOCK_TRAINING_GAMMA = 1.01\n",
    "CHANNELS_DIMENSION = 1\n",
    "SEED = 42"
   ]
  },
  {
   "cell_type": "markdown",
   "id": "ba5b1887",
   "metadata": {
    "papermill": {
     "duration": 0.006754,
     "end_time": "2025-08-02T11:24:51.273987",
     "exception": false,
     "start_time": "2025-08-02T11:24:51.267233",
     "status": "completed"
    },
    "tags": []
   },
   "source": [
    "#### Preprocessing (for inference) config "
   ]
  },
  {
   "cell_type": "code",
   "execution_count": 3,
   "id": "9c199973",
   "metadata": {
    "execution": {
     "iopub.execute_input": "2025-08-02T11:24:51.288765Z",
     "iopub.status.busy": "2025-08-02T11:24:51.288386Z",
     "iopub.status.idle": "2025-08-02T11:24:51.295185Z",
     "shell.execute_reply": "2025-08-02T11:24:51.294653Z"
    },
    "papermill": {
     "duration": 0.015378,
     "end_time": "2025-08-02T11:24:51.296287",
     "exception": false,
     "start_time": "2025-08-02T11:24:51.280909",
     "status": "completed"
    },
    "tags": []
   },
   "outputs": [],
   "source": [
    "QUATERNION_COLS = ['rot_w', 'rot_x', 'rot_y', 'rot_z']\n",
    "GRAVITY_WORLD = np.array([0, 0, 9.81], \"float32\")\n",
    "RAW_ACCELRATION_COLS = [\"acc_x\", \"acc_y\", \"acc_z\"]\n",
    "LINEAR_ACC_COLS = [\"linear_\" + col for col in RAW_ACCELRATION_COLS] # Acceleration without gravity\n",
    "COMPETITION_HANDLE = \"cmi-detect-behavior-with-sensor-data\"\n",
    "CATEGORY_COLUMNS = [\n",
    "    'row_id',\n",
    "    'sequence_type',\n",
    "    'sequence_id',\n",
    "    'subject',\n",
    "    'orientation',\n",
    "    'behavior',\n",
    "    'phase',\n",
    "    'gesture',\n",
    "]\n",
    "META_DATA_COLUMNS = [\n",
    "    'row_id',\n",
    "    'sequence_type',\n",
    "    'sequence_id',\n",
    "    'sequence_counter',\n",
    "    'subject',\n",
    "    'orientation',\n",
    "    'behavior',\n",
    "    'phase',\n",
    "    'gesture',\n",
    "]\n",
    "DATASET_DF_DTYPES = {\n",
    "    \"acc_x\": \"float32\", \"acc_y\": \"float32\", \"acc_z\": \"float32\",\n",
    "    \"thm_1\":\"float32\", \"thm_2\":\"float32\", \"thm_3\":\"float32\", \"thm_4\":\"float32\", \"thm_5\":\"float32\",\n",
    "    \"sequence_counter\": \"int32\",\n",
    "    **{col: \"category\" for col in CATEGORY_COLUMNS},\n",
    "    **{f\"tof_{i_1}_v{i_2}\": \"float32\" for i_1, i_2 in product(range(1, 5), range(64))},\n",
    "}\n",
    "PREPROCESSED_DATASET_HANDLE = \"mauroabidalcarrer/prepocessed-cmi-2025\"\n",
    "# The quantile of the sequences len used to pad/truncate during preprocessing\n",
    "SEQUENCE_NORMED_LEN_QUANTILE = 0.95\n",
    "# SAMPLING_FREQUENCY = 10 #Hz\n",
    "N_FOLDS = 5\n",
    "VALIDATION_FRACTION = 0.2\n",
    "TARGET_NAMES = sorted([\n",
    "    \"Above ear - pull hair\",\n",
    "    \"Cheek - pinch skin\",\n",
    "    \"Eyebrow - pull hair\",\n",
    "    \"Eyelash - pull hair\",\n",
    "    \"Feel around in tray and pull out an object\",\n",
    "    \"Forehead - pull hairline\",\n",
    "    \"Forehead - scratch\",\n",
    "    \"Neck - pinch skin\",\n",
    "    \"Neck - scratch\",\n",
    "    \"Text on phone\",\n",
    "    \"Wave hello\",\n",
    "    \"Write name in air\",\n",
    "    \"Write name on leg\",\n",
    "    \"Drink from bottle/cup\",\n",
    "    \"Pinch knee/leg skin\",\n",
    "    \"Pull air toward your face\",\n",
    "    \"Scratch knee/leg skin\",\n",
    "    \"Glasses on/off\"\n",
    "])\n",
    "EPSILON=1e-8\n",
    "DELTA_ROTATION_ANGULAR_VELOCITY_COLS = [\"angular_vel_x\", \"angular_vel_y\", \"angular_vel_z\"]\n",
    "DELTA_ROTATION_AXES_COLS = [\"rotation_axis_x\", \"rotation_axis_y\", \"rotation_axis_z\"]\n",
    "EULER_ANGLES_COLS = [\"euler_x\", \"euler_y\", \"euler_z\"]\n",
    "pad_trunc_mode_type = Literal[\"pre\", \"center\", \"post\"]\n",
    "SEQ_PAD_TRUNC_MODE: pad_trunc_mode_type = \"center\"\n",
    "DEFAULT_VERSION_NOTES = \"Preprocessed Child Mind Institue 2025 competition dataset.\"\n",
    "NB_COLS_PER_TOF_SENSOR = 64\n",
    "TOF_PATCH_SIZE = 2\n",
    "assert ((NB_COLS_PER_TOF_SENSOR // 2) % TOF_PATCH_SIZE) == 0, \"tof side len should be dividable by TOF_PATCH_SIZE!\"\n",
    "TOF_AGG_FUNCTIONS = [\n",
    "    \"mean\",\n",
    "    \"std\",\n",
    "    \"median\",\n",
    "    \"min\",\n",
    "    \"max\",\n",
    "]"
   ]
  },
  {
   "cell_type": "markdown",
   "id": "f837904f",
   "metadata": {},
   "source": [
    "### Seed everything"
   ]
  },
  {
   "cell_type": "code",
   "execution_count": 4,
   "id": "ad837064",
   "metadata": {},
   "outputs": [],
   "source": [
    "def seed_everything(seed=42):\n",
    "    \"\"\"Set all random seeds for reproducibility\"\"\"\n",
    "    random.seed(seed)\n",
    "    np.random.seed(seed)\n",
    "    torch.manual_seed(seed)\n",
    "    torch.cuda.manual_seed(seed)\n",
    "    torch.backends.cudnn.deterministic = True\n",
    "    torch.backends.cudnn.benchmark = False\n",
    "    os.environ['PYTHONHASHSEED'] = str(seed)\n",
    "    os.environ['CUBLAS_WORKSPACE_CONFIG'] = ':4096:8'\n",
    "    torch.use_deterministic_algorithms(True, warn_only=True)\n",
    "seed_everything(seed=SEED)"
   ]
  },
  {
   "cell_type": "markdown",
   "id": "a35036a5",
   "metadata": {
    "papermill": {
     "duration": 0.006863,
     "end_time": "2025-08-02T11:24:51.388547",
     "exception": false,
     "start_time": "2025-08-02T11:24:51.381684",
     "status": "completed"
    },
    "tags": []
   },
   "source": [
    "### Supress performance warngings"
   ]
  },
  {
   "cell_type": "code",
   "execution_count": 5,
   "id": "3b96515f",
   "metadata": {
    "execution": {
     "iopub.execute_input": "2025-08-02T11:24:51.403658Z",
     "iopub.status.busy": "2025-08-02T11:24:51.402937Z",
     "iopub.status.idle": "2025-08-02T11:24:51.406433Z",
     "shell.execute_reply": "2025-08-02T11:24:51.405940Z"
    },
    "papermill": {
     "duration": 0.011979,
     "end_time": "2025-08-02T11:24:51.407463",
     "exception": false,
     "start_time": "2025-08-02T11:24:51.395484",
     "status": "completed"
    },
    "tags": []
   },
   "outputs": [],
   "source": [
    "warnings.filterwarnings(\n",
    "    \"ignore\",\n",
    "    message=(\n",
    "        \"DataFrame is highly fragmented.  This is usually the result of \"\n",
    "        \"calling `frame.insert` many times.*\"\n",
    "    ),\n",
    "    category=pd.errors.PerformanceWarning,\n",
    ")"
   ]
  },
  {
   "cell_type": "markdown",
   "id": "e37a42bf",
   "metadata": {
    "papermill": {
     "duration": 0.006809,
     "end_time": "2025-08-02T11:24:51.421256",
     "exception": false,
     "start_time": "2025-08-02T11:24:51.414447",
     "status": "completed"
    },
    "tags": []
   },
   "source": [
    "### device setup"
   ]
  },
  {
   "cell_type": "code",
   "execution_count": 6,
   "id": "bf88774f",
   "metadata": {
    "execution": {
     "iopub.execute_input": "2025-08-02T11:24:51.435856Z",
     "iopub.status.busy": "2025-08-02T11:24:51.435651Z",
     "iopub.status.idle": "2025-08-02T11:24:51.489135Z",
     "shell.execute_reply": "2025-08-02T11:24:51.488505Z"
    },
    "papermill": {
     "duration": 0.062045,
     "end_time": "2025-08-02T11:24:51.490238",
     "exception": false,
     "start_time": "2025-08-02T11:24:51.428193",
     "status": "completed"
    },
    "tags": []
   },
   "outputs": [
    {
     "data": {
      "text/plain": [
       "device(type='cuda')"
      ]
     },
     "execution_count": 6,
     "metadata": {},
     "output_type": "execute_result"
    }
   ],
   "source": [
    "device = torch.device(\"cuda\") if torch.cuda.is_available() else torch.device(\"cpu\")\n",
    "device"
   ]
  },
  {
   "cell_type": "markdown",
   "id": "4888397a",
   "metadata": {
    "papermill": {
     "duration": 0.00725,
     "end_time": "2025-08-02T11:24:51.504769",
     "exception": false,
     "start_time": "2025-08-02T11:24:51.497519",
     "status": "completed"
    },
    "tags": []
   },
   "source": [
    "## Dataset Setup"
   ]
  },
  {
   "cell_type": "markdown",
   "id": "b24bbad1",
   "metadata": {},
   "source": [
    "### Preprocessing"
   ]
  },
  {
   "cell_type": "code",
   "execution_count": 7,
   "id": "a782b24b",
   "metadata": {},
   "outputs": [],
   "source": [
    "def get_feature_cols(df:DF) -> list[str]:\n",
    "    return sorted(list(set(df.columns) - set(META_DATA_COLUMNS) - set(TARGET_NAMES)))\n",
    "\n",
    "# Missing ToF values are already imputed by -1 which is inconvinient since we want all missing values to be NaN.    \n",
    "# So we replace them by NaN and then perform imputing.\n",
    "def get_fillna_val_per_feature_col(df:DF) -> dict:\n",
    "    return {col: 1.0 if col == 'rot_w' else 0 for col in get_feature_cols(df)}\n",
    "\n",
    "def imputed_features(df:DF) -> DF:\n",
    "    # Missing ToF values are already imputed by -1 which is inconvinient since we want all missing values to be NaN.    \n",
    "    # So we replace them by NaN and then perform imputing.  \n",
    "    tof_vals_to_nan = {col: -1.0 for col in df.columns if col.startswith(\"tof\")}\n",
    "    # fillna_val_per_col = {col: 1.0 if col == 'rot_w' else 0 for col in df.columns}\n",
    "\n",
    "    df[get_feature_cols(df)] = (\n",
    "        df\n",
    "        .loc[:, get_feature_cols(df)]\n",
    "        # df.replace with np.nan sets dtype to floar64 so we set it back to float32\n",
    "        .replace(tof_vals_to_nan, value=np.nan)\n",
    "        .astype(\"float32\")\n",
    "        .groupby(df[\"sequence_id\"], observed=True, as_index=False)\n",
    "        .ffill()\n",
    "        .groupby(df[\"sequence_id\"], observed=True, as_index=False)\n",
    "        .bfill()\n",
    "        # In case there are only nan in the column in the sequence\n",
    "        .fillna(get_fillna_val_per_feature_col(df))\n",
    "    )\n",
    "    return df\n",
    "\n",
    "def standardize_tof_cols_names(df: DF) -> DF:\n",
    "    renamed_cols = {}\n",
    "    pattern = re.compile(r\"^(tof_\\d_v)(\\d)$\")  # match 'tof_X_vY' where Y is a single digit\n",
    "\n",
    "    for col in df.columns:\n",
    "        match = pattern.match(col)\n",
    "        if match:\n",
    "            prefix, version = match.groups()\n",
    "            new_col = f\"{prefix}0{version}\"\n",
    "            renamed_cols[col] = new_col\n",
    "\n",
    "    return df.rename(columns=renamed_cols)\n",
    "\n",
    "def norm_quat_rotations(df:DF) -> DF:\n",
    "    df[QUATERNION_COLS] /= np.linalg.norm(df[QUATERNION_COLS], axis=1, keepdims=True)\n",
    "    return df\n",
    "\n",
    "def add_linear_acc_cols(df:DF) -> DF:\n",
    "    # Vectorized version of https://www.kaggle.com/code/wasupandceacar/lb-0-82-5fold-single-bert-model#Dataset `remove_gravity_from_acc`\n",
    "    rotations:Rotation = Rotation.from_quat(df[QUATERNION_COLS])\n",
    "    gravity_sensor_frame = rotations.apply(GRAVITY_WORLD, inverse=True).astype(\"float32\")\n",
    "    df[LINEAR_ACC_COLS] = df[RAW_ACCELRATION_COLS] - gravity_sensor_frame\n",
    "    return df\n",
    "\n",
    "def add_acc_magnitude(df:DF, acc_cols:list[str], acc_mag_col_name:str) -> DF:\n",
    "    return df.assign(**{acc_mag_col_name: np.linalg.norm(df.loc[:, acc_cols], axis=1)})\n",
    "\n",
    "def add_quat_angle_mag(df:DF) -> DF:\n",
    "    return df.assign(quat_rot_mag=np.arccos(df[\"rot_w\"]) * 2)\n",
    "\n",
    "def add_angular_velocity_features(df:DF) -> DF:\n",
    "    rotations = Rotation.from_quat(df[QUATERNION_COLS])\n",
    "    delta_rotations = rotations[1:] * rotations[:-1].inv()\n",
    "    delta_rot_velocity = delta_rotations.as_rotvec()\n",
    "    # Add extra line to avoid shape mismatch\n",
    "    delta_rot_velocity = np.vstack((np.zeros((1, 3)), delta_rot_velocity))\n",
    "    delta_rot_magnitude = norm(delta_rot_velocity, axis=1, keepdims=True)\n",
    "    delta_rot_axes = delta_rot_velocity / (delta_rot_magnitude + EPSILON)\n",
    "    df[DELTA_ROTATION_ANGULAR_VELOCITY_COLS] = delta_rot_velocity\n",
    "    df[DELTA_ROTATION_AXES_COLS] = delta_rot_axes\n",
    "    df[\"delta_rot_mag\"] = delta_rot_magnitude.squeeze()\n",
    "\n",
    "    return df\n",
    "\n",
    "def rot_euler_angles(df:DF) -> ndarray:\n",
    "    df[EULER_ANGLES_COLS] = (\n",
    "        Rotation\n",
    "        .from_quat(df[QUATERNION_COLS])\n",
    "        .as_euler(\"xyz\")\n",
    "        .squeeze()\n",
    "    )\n",
    "    return df\n",
    "\n",
    "def agg_tof_patch(tof_views:np.ndarray, f_name:str) -> ndarray:\n",
    "    views_agg_func = methodcaller(f_name, tof_views, axis=(1, 2))\n",
    "    return (\n",
    "        views_agg_func(np)\n",
    "        .reshape(tof_views.shape[0], -1)\n",
    "    )\n",
    "\n",
    "def agg_tof_cols_per_sensor(df:DF) -> DF:\n",
    "    \"\"\"\n",
    "    ## Description:\n",
    "    Computes the sensor and patch sensor wise stats.\n",
    "    ## Resturns:\n",
    "    The dataframe with the added stats.\n",
    "    \"\"\"\n",
    "    for tof_idx in tqdm(range(1, 6)):\n",
    "        tof_name = f\"tof_{tof_idx}\"\n",
    "        all_tof_cols = [f\"{tof_name}_v{v_idx:02d}\" for v_idx in range(64)]\n",
    "        tof_feats = (\n",
    "            df\n",
    "            .loc[:, all_tof_cols]\n",
    "            .values\n",
    "            .reshape(-1, 8, 8)\n",
    "        )\n",
    "        agg_func = partial(df[all_tof_cols].agg, axis=\"columns\")\n",
    "        mk_fe_col_name = lambda f_name: tof_name + \"_\" + f_name\n",
    "        engineered_feats = DF({mk_fe_col_name(f_name): agg_func(f_name) for f_name in TOF_AGG_FUNCTIONS})\n",
    "        stats_cols_names = list(map(mk_fe_col_name, TOF_AGG_FUNCTIONS))\n",
    "        # Patch Feature engineering\n",
    "        tof_views:np.ndarray = sliding_window_view(tof_feats, (TOF_PATCH_SIZE, TOF_PATCH_SIZE), (1, 2))\n",
    "        patch_fe = {}\n",
    "        for f_name in TOF_AGG_FUNCTIONS:\n",
    "            tof_patch_stats = agg_tof_patch(tof_views, f_name)\n",
    "            for patch_idx in range(tof_patch_stats.shape[1]):\n",
    "                key = mk_fe_col_name(f_name) + f\"_{patch_idx:02d}\"\n",
    "                patch_fe[key] = tof_patch_stats[:, patch_idx]\n",
    "        patch_df = DF(patch_fe)\n",
    "        # concat results\n",
    "        df = pd.concat(\n",
    "            (\n",
    "                df.drop(columns=filter(df.columns.__contains__, stats_cols_names)),\n",
    "                engineered_feats,\n",
    "                patch_df,\n",
    "            ),\n",
    "            axis=\"columns\",\n",
    "        )\n",
    "    return df\n",
    "\n",
    "def add_diff_features(df:DF) -> DF:\n",
    "    return pd.concat(\n",
    "        (\n",
    "            df,\n",
    "            (\n",
    "                df\n",
    "                .groupby(\"sequence_id\", as_index=False, observed=True)\n",
    "                [get_feature_cols(df)]\n",
    "                .diff()\n",
    "                .fillna(get_fillna_val_per_feature_col(df))\n",
    "                .add_suffix(\"_diff\")\n",
    "            )\n",
    "        ),\n",
    "        axis=\"columns\",\n",
    "    )\n",
    "\n",
    "def one_hot_encode_targets(df:DF) -> DF:\n",
    "    one_hot_target = pd.get_dummies(df[\"gesture\"])\n",
    "    df[TARGET_NAMES] = one_hot_target[TARGET_NAMES]\n",
    "    return df\n",
    "\n",
    "def length_normed_sequence_feat_arr(\n",
    "        sequence: DF,\n",
    "        normed_sequence_len: int,\n",
    "        SEQ_PAD_TRUNC_MODE:Literal[\"pre\", \"center\", \"post\"]\n",
    "    ) -> ndarray:\n",
    "    features = (\n",
    "        sequence\n",
    "        .loc[:, get_feature_cols(sequence)]\n",
    "        .values\n",
    "    )\n",
    "    len_diff = abs(normed_sequence_len - len(features))\n",
    "    len_diff_h = len_diff // 2 # half len diff\n",
    "    len_diff_r = len_diff % 2 # len diff remainder\n",
    "    if len(features) < normed_sequence_len:\n",
    "        padding_dict = {\n",
    "            \"pre\": (len_diff, 0),\n",
    "            \"center\": (len_diff_h + len_diff_r, len_diff_h),\n",
    "            \"post\": (0, len_diff),\n",
    "        }\n",
    "        padded_features = np.pad(\n",
    "            features,\n",
    "            (padding_dict[SEQ_PAD_TRUNC_MODE], (0, 0)),\n",
    "        )\n",
    "        return padded_features\n",
    "    elif len(features) > normed_sequence_len:\n",
    "        truncating_dict = {\n",
    "            \"pre\": slice(len_diff),\n",
    "            \"center\": slice(len_diff_h, -len_diff_h),\n",
    "            \"post\": slice(0, -len_diff),\n",
    "        }\n",
    "        return features[len_diff // 2:-len_diff // 2]\n",
    "    else:\n",
    "        return features\n",
    "\n",
    "def df_to_ndarrays(df:DF, normed_sequence_len:int, seq_pad_trunc_mode:str) -> tuple[np.ndarray, np.ndarray]:\n",
    "    sequence_it = df.groupby(\"sequence_id\", observed=True, as_index=False)\n",
    "    x = np.empty(\n",
    "        shape=(len(sequence_it), normed_sequence_len, len(get_feature_cols(df))),\n",
    "        dtype=\"float32\"\n",
    "    )\n",
    "    y = np.empty(\n",
    "        shape=(len(sequence_it), len(TARGET_NAMES)),\n",
    "        dtype=\"float32\"\n",
    "    )\n",
    "    for sequence_idx, (_, sequence) in tqdm(enumerate(sequence_it), total=len(sequence_it)):\n",
    "        normed_seq_feat_arr = length_normed_sequence_feat_arr(sequence, normed_sequence_len, seq_pad_trunc_mode)\n",
    "        x[sequence_idx] = normed_seq_feat_arr\n",
    "        # Take the first value as they are(or at least should be) all the same in a single sequence\n",
    "        y[sequence_idx] = sequence[TARGET_NAMES].iloc[0].values\n",
    "\n",
    "    return x, y\n",
    "\n",
    "def get_normed_seq_len(dataset:DF) -> int:\n",
    "    return int(\n",
    "        dataset\n",
    "        .groupby(\"sequence_id\", observed=True)\n",
    "        .size()\n",
    "        .quantile(SEQUENCE_NORMED_LEN_QUANTILE)\n",
    "    )\n",
    "\n",
    "def fold_dfs_to_ndarrays(train:DF, validation:DF, dataset_normed_seq_len:int, seq_pad_trunc_mode:str) -> tuple[ndarray, ndarray, ndarray, ndarray]:\n",
    "    \"\"\"\n",
    "    Returns:\n",
    "        (train X, train Y, validation X, validation Y)\n",
    "    \"\"\"\n",
    "    # full_dataset_normed_seq_len = get_normed_seq_len(df)\n",
    "    return (\n",
    "        *df_to_ndarrays(train, dataset_normed_seq_len, seq_pad_trunc_mode),\n",
    "        *df_to_ndarrays(validation, dataset_normed_seq_len, seq_pad_trunc_mode),\n",
    "    )"
   ]
  },
  {
   "cell_type": "code",
   "execution_count": 8,
   "id": "100b535b",
   "metadata": {},
   "outputs": [],
   "source": [
    "def preprocess_competitino_dataset() -> DF:\n",
    "    csv_path = competition_download(COMPETITION_HANDLE, path=\"train.csv\")\n",
    "    return (\n",
    "        pd.read_csv(csv_path, dtype=DATASET_DF_DTYPES)\n",
    "        .pipe(imputed_features)\n",
    "        .pipe(standardize_tof_cols_names)\n",
    "        .pipe(norm_quat_rotations)\n",
    "        .pipe(add_linear_acc_cols)\n",
    "        .pipe(add_acc_magnitude, RAW_ACCELRATION_COLS, \"acc_mag\")\n",
    "        .pipe(add_acc_magnitude, LINEAR_ACC_COLS, \"linear_acc_mag\")\n",
    "        .pipe(add_quat_angle_mag)\n",
    "        .pipe(add_angular_velocity_features)\n",
    "        .pipe(rot_euler_angles)\n",
    "        .pipe(add_quat_angle_mag)\n",
    "        .pipe(one_hot_encode_targets)\n",
    "        .pipe(agg_tof_cols_per_sensor)\n",
    "        .pipe(add_diff_features)\n",
    "    )\n",
    "\n",
    "def split_dataset_stratified_groupkfold(df: pd.DataFrame, target_col: str, group_col: str) -> list[tuple[pd.DataFrame, pd.DataFrame]]:\n",
    "    sgkf = StratifiedGroupKFold(n_splits=N_FOLDS, shuffle=True)\n",
    "\n",
    "    folds = []\n",
    "    X = df.drop(columns=[target_col])\n",
    "    y = df[target_col]\n",
    "    groups = df[group_col]\n",
    "\n",
    "    for train_idx, valid_idx in sgkf.split(X, y, groups):\n",
    "        train_df = df.iloc[train_idx].copy()\n",
    "        valid_df = df.iloc[valid_idx].copy()\n",
    "        folds.append((train_df, valid_df))\n",
    "\n",
    "    return folds\n",
    "\n",
    "def create_preprocessed_dataset():\n",
    "    shutil.rmtree(\"preprocessed_dataset\", ignore_errors=True)\n",
    "    os.makedirs(\"preprocessed_dataset\")\n",
    "    df = preprocess_competitino_dataset()\n",
    "    folds = split_dataset_stratified_groupkfold(df, target_col=\"gesture\", group_col=\"subject\")\n",
    "    full_dataset_sequence_length_norm = get_normed_seq_len(df)\n",
    "    folds_it = enumerate(starmap(partial(fold_dfs_to_ndarrays, dataset_normed_seq_len=full_dataset_sequence_length_norm, seq_pad_trunc_mode=SEQ_PAD_TRUNC_MODE), folds))\n",
    "    for fold_i, (train_x, train_y, val_x, val_y) in folds_it:\n",
    "        fold_dir_path = join(\"preprocessed_dataset\", SEQ_PAD_TRUNC_MODE, f\"fold_{fold_i}\")\n",
    "        os.makedirs(fold_dir_path)\n",
    "        # save features (X)\n",
    "        np.save(join(fold_dir_path, \"train_X.npy\"), train_x, allow_pickle=False)\n",
    "        np.save(join(fold_dir_path, \"validation_X.npy\"), val_x, allow_pickle=False)\n",
    "        # Save targets (Y)\n",
    "        np.save(join(fold_dir_path, \"train_Y.npy\"), train_y, allow_pickle=False)\n",
    "        np.save(join(fold_dir_path, \"validation_Y.npy\"), val_y, allow_pickle=False)\n",
    "    # Save full dataset\n",
    "    full_dataset_dir_path = join(\"preprocessed_dataset/full_dataset\", SEQ_PAD_TRUNC_MODE)\n",
    "    full_x, full_y = df_to_ndarrays(df, full_dataset_sequence_length_norm, SEQ_PAD_TRUNC_MODE)\n",
    "    os.makedirs(full_dataset_dir_path)\n",
    "    np.save(join(full_dataset_dir_path, \"X.npy\"), full_x, allow_pickle=False)\n",
    "    np.save(join(full_dataset_dir_path, \"Y.npy\"), full_y, allow_pickle=False)\n",
    "    # Save dataset meta data\n",
    "    full_dataset_meta_data = {\n",
    "        \"mean\": df[get_feature_cols(df)].mean().astype(\"float32\").to_dict(),\n",
    "        \"std\": df[get_feature_cols(df)].std().astype(\"float32\").to_dict(),\n",
    "        \"pad_seq_len\": full_dataset_sequence_length_norm,\n",
    "        \"feature_cols\": get_feature_cols(df),\n",
    "    }\n",
    "\n",
    "    with open(\"preprocessed_dataset/full_dataset_meta_data.json\", \"w\") as fp:\n",
    "        json.dump(full_dataset_meta_data, fp, indent=4)\n"
   ]
  },
  {
   "cell_type": "code",
   "execution_count": 9,
   "id": "9587aae6",
   "metadata": {},
   "outputs": [
    {
     "data": {
      "application/vnd.jupyter.widget-view+json": {
       "model_id": "1edb8dea4f60432f8756fc25ce932381",
       "version_major": 2,
       "version_minor": 0
      },
      "text/plain": [
       "  0%|          | 0/5 [00:00<?, ?it/s]"
      ]
     },
     "metadata": {},
     "output_type": "display_data"
    },
    {
     "data": {
      "application/vnd.jupyter.widget-view+json": {
       "model_id": "fdce68da0158430f91999bcd0f906759",
       "version_major": 2,
       "version_minor": 0
      },
      "text/plain": [
       "  0%|          | 0/6525 [00:00<?, ?it/s]"
      ]
     },
     "metadata": {},
     "output_type": "display_data"
    },
    {
     "data": {
      "application/vnd.jupyter.widget-view+json": {
       "model_id": "031ba44a1fec4671ad50dcb975ed441b",
       "version_major": 2,
       "version_minor": 0
      },
      "text/plain": [
       "  0%|          | 0/1626 [00:00<?, ?it/s]"
      ]
     },
     "metadata": {},
     "output_type": "display_data"
    },
    {
     "data": {
      "application/vnd.jupyter.widget-view+json": {
       "model_id": "9f4e3a5b63a5469aba495c9a35453778",
       "version_major": 2,
       "version_minor": 0
      },
      "text/plain": [
       "  0%|          | 0/6417 [00:00<?, ?it/s]"
      ]
     },
     "metadata": {},
     "output_type": "display_data"
    },
    {
     "data": {
      "application/vnd.jupyter.widget-view+json": {
       "model_id": "2f7264c7609d4d75aaf483d98503b51f",
       "version_major": 2,
       "version_minor": 0
      },
      "text/plain": [
       "  0%|          | 0/1734 [00:00<?, ?it/s]"
      ]
     },
     "metadata": {},
     "output_type": "display_data"
    },
    {
     "data": {
      "application/vnd.jupyter.widget-view+json": {
       "model_id": "4204c134b82743e5b9dd8c946c2bd907",
       "version_major": 2,
       "version_minor": 0
      },
      "text/plain": [
       "  0%|          | 0/6519 [00:00<?, ?it/s]"
      ]
     },
     "metadata": {},
     "output_type": "display_data"
    },
    {
     "data": {
      "application/vnd.jupyter.widget-view+json": {
       "model_id": "5eeaae4264244cadaed7684b188986e7",
       "version_major": 2,
       "version_minor": 0
      },
      "text/plain": [
       "  0%|          | 0/1632 [00:00<?, ?it/s]"
      ]
     },
     "metadata": {},
     "output_type": "display_data"
    },
    {
     "data": {
      "application/vnd.jupyter.widget-view+json": {
       "model_id": "2dacc38cf38e4cc38f2ad885be298af3",
       "version_major": 2,
       "version_minor": 0
      },
      "text/plain": [
       "  0%|          | 0/6573 [00:00<?, ?it/s]"
      ]
     },
     "metadata": {},
     "output_type": "display_data"
    },
    {
     "data": {
      "application/vnd.jupyter.widget-view+json": {
       "model_id": "5fc97761e100418daf5a470dc7175666",
       "version_major": 2,
       "version_minor": 0
      },
      "text/plain": [
       "  0%|          | 0/1578 [00:00<?, ?it/s]"
      ]
     },
     "metadata": {},
     "output_type": "display_data"
    },
    {
     "data": {
      "application/vnd.jupyter.widget-view+json": {
       "model_id": "e99129d8781847f3b587c9f09bbad998",
       "version_major": 2,
       "version_minor": 0
      },
      "text/plain": [
       "  0%|          | 0/6570 [00:00<?, ?it/s]"
      ]
     },
     "metadata": {},
     "output_type": "display_data"
    },
    {
     "data": {
      "application/vnd.jupyter.widget-view+json": {
       "model_id": "41c2e89e99834240b3ac80449ac7016a",
       "version_major": 2,
       "version_minor": 0
      },
      "text/plain": [
       "  0%|          | 0/1581 [00:00<?, ?it/s]"
      ]
     },
     "metadata": {},
     "output_type": "display_data"
    },
    {
     "data": {
      "application/vnd.jupyter.widget-view+json": {
       "model_id": "7ee5b46f87984380a89140b01a2eb68c",
       "version_major": 2,
       "version_minor": 0
      },
      "text/plain": [
       "  0%|          | 0/8151 [00:00<?, ?it/s]"
      ]
     },
     "metadata": {},
     "output_type": "display_data"
    }
   ],
   "source": [
    "create_preprocessed_dataset()"
   ]
  },
  {
   "cell_type": "markdown",
   "id": "d64f7616",
   "metadata": {
    "papermill": {
     "duration": 0.007032,
     "end_time": "2025-08-02T11:24:51.518918",
     "exception": false,
     "start_time": "2025-08-02T11:24:51.511886",
     "status": "completed"
    },
    "tags": []
   },
   "source": [
    "### Dataset class"
   ]
  },
  {
   "cell_type": "code",
   "execution_count": 10,
   "id": "ef222587",
   "metadata": {
    "execution": {
     "iopub.execute_input": "2025-08-02T11:24:51.534263Z",
     "iopub.status.busy": "2025-08-02T11:24:51.533771Z",
     "iopub.status.idle": "2025-08-02T11:24:51.538733Z",
     "shell.execute_reply": "2025-08-02T11:24:51.538254Z"
    },
    "papermill": {
     "duration": 0.013617,
     "end_time": "2025-08-02T11:24:51.539757",
     "exception": false,
     "start_time": "2025-08-02T11:24:51.526140",
     "status": "completed"
    },
    "tags": []
   },
   "outputs": [],
   "source": [
    "class CMIDataset(TensorDataset):\n",
    "    def __init__(\n",
    "        self,\n",
    "        padding_mode:Literal[\"pre\", \"center\", \"post\"],\n",
    "        parent_dir: str,\n",
    "        split: Optional[Literal[\"train\", \"validation\"]]=None,\n",
    "        subset: Optional[int]=None,\n",
    "        force_download=False\n",
    "    ):\n",
    "        # Quick fix, will need to recompute and upload dataset with properly orederd folders\n",
    "        if parent_dir == \"full_dataset\":\n",
    "            parent_dir = join(\n",
    "                \"preprocessed_dataset\",\n",
    "                parent_dir,\n",
    "                padding_mode,\n",
    "            )\n",
    "        else:\n",
    "            parent_dir = join(\n",
    "                \"preprocessed_dataset\",\n",
    "                padding_mode,\n",
    "                parent_dir,\n",
    "            )\n",
    "        split = \"\" if split is None else split + \"_\"\n",
    "        x = np.load(join(parent_dir, f\"{split}X.npy\")).swapaxes(1, 2)\n",
    "        y = np.load(join(parent_dir, f\"{split}Y.npy\"))\n",
    "        if subset is not None:\n",
    "            x = x[:subset]\n",
    "            y = y[:subset]\n",
    "        super().__init__(\n",
    "            torch.from_numpy(x).to(device),\n",
    "            torch.from_numpy(y).to(device),\n",
    "        )"
   ]
  },
  {
   "cell_type": "markdown",
   "id": "55d2261e",
   "metadata": {
    "papermill": {
     "duration": 0.00713,
     "end_time": "2025-08-02T11:24:51.554030",
     "exception": false,
     "start_time": "2025-08-02T11:24:51.546900",
     "status": "completed"
    },
    "tags": []
   },
   "source": [
    "#### Meta data loading"
   ]
  },
  {
   "cell_type": "code",
   "execution_count": 11,
   "id": "890b47f6",
   "metadata": {
    "execution": {
     "iopub.execute_input": "2025-08-02T11:24:51.568885Z",
     "iopub.status.busy": "2025-08-02T11:24:51.568712Z",
     "iopub.status.idle": "2025-08-02T11:24:51.754759Z",
     "shell.execute_reply": "2025-08-02T11:24:51.753849Z"
    },
    "papermill": {
     "duration": 0.194808,
     "end_time": "2025-08-02T11:24:51.755943",
     "exception": false,
     "start_time": "2025-08-02T11:24:51.561135",
     "status": "completed"
    },
    "tags": []
   },
   "outputs": [
    {
     "name": "stdout",
     "output_type": "stream",
     "text": [
      "['acc_mag', 'acc_mag_diff', 'acc_x', 'acc_x_diff', 'acc_y', 'acc_y_diff', 'acc_z', 'acc_z_diff', 'angular_vel_x', 'angular_vel_x_diff', 'angular_vel_y', 'angular_vel_y_diff', 'angular_vel_z', 'angular_vel_z_diff', 'delta_rot_mag', 'delta_rot_mag_diff', 'euler_x', 'euler_x_diff', 'euler_y', 'euler_y_diff', 'euler_z', 'euler_z_diff', 'linear_acc_mag', 'linear_acc_mag_diff', 'linear_acc_x', 'linear_acc_x_diff', 'linear_acc_y', 'linear_acc_y_diff', 'linear_acc_z', 'linear_acc_z_diff', 'quat_rot_mag', 'quat_rot_mag_diff', 'rot_w', 'rot_w_diff', 'rot_x', 'rot_x_diff', 'rot_y', 'rot_y_diff', 'rot_z', 'rot_z_diff', 'rotation_axis_x', 'rotation_axis_x_diff', 'rotation_axis_y', 'rotation_axis_y_diff', 'rotation_axis_z', 'rotation_axis_z_diff', 'thm_1', 'thm_1_diff', 'thm_2', 'thm_2_diff', 'thm_3', 'thm_3_diff', 'thm_4', 'thm_4_diff', 'thm_5', 'thm_5_diff', 'tof_1_max', 'tof_1_max_00', 'tof_1_max_00_diff', 'tof_1_max_01', 'tof_1_max_01_diff', 'tof_1_max_02', 'tof_1_max_02_diff', 'tof_1_max_03', 'tof_1_max_03_diff', 'tof_1_max_diff', 'tof_1_mean', 'tof_1_mean_00', 'tof_1_mean_00_diff', 'tof_1_mean_01', 'tof_1_mean_01_diff', 'tof_1_mean_02', 'tof_1_mean_02_diff', 'tof_1_mean_03', 'tof_1_mean_03_diff', 'tof_1_mean_diff', 'tof_1_median', 'tof_1_median_00', 'tof_1_median_00_diff', 'tof_1_median_01', 'tof_1_median_01_diff', 'tof_1_median_02', 'tof_1_median_02_diff', 'tof_1_median_03', 'tof_1_median_03_diff', 'tof_1_median_diff', 'tof_1_min', 'tof_1_min_00', 'tof_1_min_00_diff', 'tof_1_min_01', 'tof_1_min_01_diff', 'tof_1_min_02', 'tof_1_min_02_diff', 'tof_1_min_03', 'tof_1_min_03_diff', 'tof_1_min_diff', 'tof_1_std', 'tof_1_std_00', 'tof_1_std_00_diff', 'tof_1_std_01', 'tof_1_std_01_diff', 'tof_1_std_02', 'tof_1_std_02_diff', 'tof_1_std_03', 'tof_1_std_03_diff', 'tof_1_std_diff', 'tof_1_v00', 'tof_1_v00_diff', 'tof_1_v01', 'tof_1_v01_diff', 'tof_1_v02', 'tof_1_v02_diff', 'tof_1_v03', 'tof_1_v03_diff', 'tof_1_v04', 'tof_1_v04_diff', 'tof_1_v05', 'tof_1_v05_diff', 'tof_1_v06', 'tof_1_v06_diff', 'tof_1_v07', 'tof_1_v07_diff', 'tof_1_v08', 'tof_1_v08_diff', 'tof_1_v09', 'tof_1_v09_diff', 'tof_1_v10', 'tof_1_v10_diff', 'tof_1_v11', 'tof_1_v11_diff', 'tof_1_v12', 'tof_1_v12_diff', 'tof_1_v13', 'tof_1_v13_diff', 'tof_1_v14', 'tof_1_v14_diff', 'tof_1_v15', 'tof_1_v15_diff', 'tof_1_v16', 'tof_1_v16_diff', 'tof_1_v17', 'tof_1_v17_diff', 'tof_1_v18', 'tof_1_v18_diff', 'tof_1_v19', 'tof_1_v19_diff', 'tof_1_v20', 'tof_1_v20_diff', 'tof_1_v21', 'tof_1_v21_diff', 'tof_1_v22', 'tof_1_v22_diff', 'tof_1_v23', 'tof_1_v23_diff', 'tof_1_v24', 'tof_1_v24_diff', 'tof_1_v25', 'tof_1_v25_diff', 'tof_1_v26', 'tof_1_v26_diff', 'tof_1_v27', 'tof_1_v27_diff', 'tof_1_v28', 'tof_1_v28_diff', 'tof_1_v29', 'tof_1_v29_diff', 'tof_1_v30', 'tof_1_v30_diff', 'tof_1_v31', 'tof_1_v31_diff', 'tof_1_v32', 'tof_1_v32_diff', 'tof_1_v33', 'tof_1_v33_diff', 'tof_1_v34', 'tof_1_v34_diff', 'tof_1_v35', 'tof_1_v35_diff', 'tof_1_v36', 'tof_1_v36_diff', 'tof_1_v37', 'tof_1_v37_diff', 'tof_1_v38', 'tof_1_v38_diff', 'tof_1_v39', 'tof_1_v39_diff', 'tof_1_v40', 'tof_1_v40_diff', 'tof_1_v41', 'tof_1_v41_diff', 'tof_1_v42', 'tof_1_v42_diff', 'tof_1_v43', 'tof_1_v43_diff', 'tof_1_v44', 'tof_1_v44_diff', 'tof_1_v45', 'tof_1_v45_diff', 'tof_1_v46', 'tof_1_v46_diff', 'tof_1_v47', 'tof_1_v47_diff', 'tof_1_v48', 'tof_1_v48_diff', 'tof_1_v49', 'tof_1_v49_diff', 'tof_1_v50', 'tof_1_v50_diff', 'tof_1_v51', 'tof_1_v51_diff', 'tof_1_v52', 'tof_1_v52_diff', 'tof_1_v53', 'tof_1_v53_diff', 'tof_1_v54', 'tof_1_v54_diff', 'tof_1_v55', 'tof_1_v55_diff', 'tof_1_v56', 'tof_1_v56_diff', 'tof_1_v57', 'tof_1_v57_diff', 'tof_1_v58', 'tof_1_v58_diff', 'tof_1_v59', 'tof_1_v59_diff', 'tof_1_v60', 'tof_1_v60_diff', 'tof_1_v61', 'tof_1_v61_diff', 'tof_1_v62', 'tof_1_v62_diff', 'tof_1_v63', 'tof_1_v63_diff', 'tof_2_max', 'tof_2_max_00', 'tof_2_max_00_diff', 'tof_2_max_01', 'tof_2_max_01_diff', 'tof_2_max_02', 'tof_2_max_02_diff', 'tof_2_max_03', 'tof_2_max_03_diff', 'tof_2_max_diff', 'tof_2_mean', 'tof_2_mean_00', 'tof_2_mean_00_diff', 'tof_2_mean_01', 'tof_2_mean_01_diff', 'tof_2_mean_02', 'tof_2_mean_02_diff', 'tof_2_mean_03', 'tof_2_mean_03_diff', 'tof_2_mean_diff', 'tof_2_median', 'tof_2_median_00', 'tof_2_median_00_diff', 'tof_2_median_01', 'tof_2_median_01_diff', 'tof_2_median_02', 'tof_2_median_02_diff', 'tof_2_median_03', 'tof_2_median_03_diff', 'tof_2_median_diff', 'tof_2_min', 'tof_2_min_00', 'tof_2_min_00_diff', 'tof_2_min_01', 'tof_2_min_01_diff', 'tof_2_min_02', 'tof_2_min_02_diff', 'tof_2_min_03', 'tof_2_min_03_diff', 'tof_2_min_diff', 'tof_2_std', 'tof_2_std_00', 'tof_2_std_00_diff', 'tof_2_std_01', 'tof_2_std_01_diff', 'tof_2_std_02', 'tof_2_std_02_diff', 'tof_2_std_03', 'tof_2_std_03_diff', 'tof_2_std_diff', 'tof_2_v00', 'tof_2_v00_diff', 'tof_2_v01', 'tof_2_v01_diff', 'tof_2_v02', 'tof_2_v02_diff', 'tof_2_v03', 'tof_2_v03_diff', 'tof_2_v04', 'tof_2_v04_diff', 'tof_2_v05', 'tof_2_v05_diff', 'tof_2_v06', 'tof_2_v06_diff', 'tof_2_v07', 'tof_2_v07_diff', 'tof_2_v08', 'tof_2_v08_diff', 'tof_2_v09', 'tof_2_v09_diff', 'tof_2_v10', 'tof_2_v10_diff', 'tof_2_v11', 'tof_2_v11_diff', 'tof_2_v12', 'tof_2_v12_diff', 'tof_2_v13', 'tof_2_v13_diff', 'tof_2_v14', 'tof_2_v14_diff', 'tof_2_v15', 'tof_2_v15_diff', 'tof_2_v16', 'tof_2_v16_diff', 'tof_2_v17', 'tof_2_v17_diff', 'tof_2_v18', 'tof_2_v18_diff', 'tof_2_v19', 'tof_2_v19_diff', 'tof_2_v20', 'tof_2_v20_diff', 'tof_2_v21', 'tof_2_v21_diff', 'tof_2_v22', 'tof_2_v22_diff', 'tof_2_v23', 'tof_2_v23_diff', 'tof_2_v24', 'tof_2_v24_diff', 'tof_2_v25', 'tof_2_v25_diff', 'tof_2_v26', 'tof_2_v26_diff', 'tof_2_v27', 'tof_2_v27_diff', 'tof_2_v28', 'tof_2_v28_diff', 'tof_2_v29', 'tof_2_v29_diff', 'tof_2_v30', 'tof_2_v30_diff', 'tof_2_v31', 'tof_2_v31_diff', 'tof_2_v32', 'tof_2_v32_diff', 'tof_2_v33', 'tof_2_v33_diff', 'tof_2_v34', 'tof_2_v34_diff', 'tof_2_v35', 'tof_2_v35_diff', 'tof_2_v36', 'tof_2_v36_diff', 'tof_2_v37', 'tof_2_v37_diff', 'tof_2_v38', 'tof_2_v38_diff', 'tof_2_v39', 'tof_2_v39_diff', 'tof_2_v40', 'tof_2_v40_diff', 'tof_2_v41', 'tof_2_v41_diff', 'tof_2_v42', 'tof_2_v42_diff', 'tof_2_v43', 'tof_2_v43_diff', 'tof_2_v44', 'tof_2_v44_diff', 'tof_2_v45', 'tof_2_v45_diff', 'tof_2_v46', 'tof_2_v46_diff', 'tof_2_v47', 'tof_2_v47_diff', 'tof_2_v48', 'tof_2_v48_diff', 'tof_2_v49', 'tof_2_v49_diff', 'tof_2_v50', 'tof_2_v50_diff', 'tof_2_v51', 'tof_2_v51_diff', 'tof_2_v52', 'tof_2_v52_diff', 'tof_2_v53', 'tof_2_v53_diff', 'tof_2_v54', 'tof_2_v54_diff', 'tof_2_v55', 'tof_2_v55_diff', 'tof_2_v56', 'tof_2_v56_diff', 'tof_2_v57', 'tof_2_v57_diff', 'tof_2_v58', 'tof_2_v58_diff', 'tof_2_v59', 'tof_2_v59_diff', 'tof_2_v60', 'tof_2_v60_diff', 'tof_2_v61', 'tof_2_v61_diff', 'tof_2_v62', 'tof_2_v62_diff', 'tof_2_v63', 'tof_2_v63_diff', 'tof_3_max', 'tof_3_max_00', 'tof_3_max_00_diff', 'tof_3_max_01', 'tof_3_max_01_diff', 'tof_3_max_02', 'tof_3_max_02_diff', 'tof_3_max_03', 'tof_3_max_03_diff', 'tof_3_max_diff', 'tof_3_mean', 'tof_3_mean_00', 'tof_3_mean_00_diff', 'tof_3_mean_01', 'tof_3_mean_01_diff', 'tof_3_mean_02', 'tof_3_mean_02_diff', 'tof_3_mean_03', 'tof_3_mean_03_diff', 'tof_3_mean_diff', 'tof_3_median', 'tof_3_median_00', 'tof_3_median_00_diff', 'tof_3_median_01', 'tof_3_median_01_diff', 'tof_3_median_02', 'tof_3_median_02_diff', 'tof_3_median_03', 'tof_3_median_03_diff', 'tof_3_median_diff', 'tof_3_min', 'tof_3_min_00', 'tof_3_min_00_diff', 'tof_3_min_01', 'tof_3_min_01_diff', 'tof_3_min_02', 'tof_3_min_02_diff', 'tof_3_min_03', 'tof_3_min_03_diff', 'tof_3_min_diff', 'tof_3_std', 'tof_3_std_00', 'tof_3_std_00_diff', 'tof_3_std_01', 'tof_3_std_01_diff', 'tof_3_std_02', 'tof_3_std_02_diff', 'tof_3_std_03', 'tof_3_std_03_diff', 'tof_3_std_diff', 'tof_3_v00', 'tof_3_v00_diff', 'tof_3_v01', 'tof_3_v01_diff', 'tof_3_v02', 'tof_3_v02_diff', 'tof_3_v03', 'tof_3_v03_diff', 'tof_3_v04', 'tof_3_v04_diff', 'tof_3_v05', 'tof_3_v05_diff', 'tof_3_v06', 'tof_3_v06_diff', 'tof_3_v07', 'tof_3_v07_diff', 'tof_3_v08', 'tof_3_v08_diff', 'tof_3_v09', 'tof_3_v09_diff', 'tof_3_v10', 'tof_3_v10_diff', 'tof_3_v11', 'tof_3_v11_diff', 'tof_3_v12', 'tof_3_v12_diff', 'tof_3_v13', 'tof_3_v13_diff', 'tof_3_v14', 'tof_3_v14_diff', 'tof_3_v15', 'tof_3_v15_diff', 'tof_3_v16', 'tof_3_v16_diff', 'tof_3_v17', 'tof_3_v17_diff', 'tof_3_v18', 'tof_3_v18_diff', 'tof_3_v19', 'tof_3_v19_diff', 'tof_3_v20', 'tof_3_v20_diff', 'tof_3_v21', 'tof_3_v21_diff', 'tof_3_v22', 'tof_3_v22_diff', 'tof_3_v23', 'tof_3_v23_diff', 'tof_3_v24', 'tof_3_v24_diff', 'tof_3_v25', 'tof_3_v25_diff', 'tof_3_v26', 'tof_3_v26_diff', 'tof_3_v27', 'tof_3_v27_diff', 'tof_3_v28', 'tof_3_v28_diff', 'tof_3_v29', 'tof_3_v29_diff', 'tof_3_v30', 'tof_3_v30_diff', 'tof_3_v31', 'tof_3_v31_diff', 'tof_3_v32', 'tof_3_v32_diff', 'tof_3_v33', 'tof_3_v33_diff', 'tof_3_v34', 'tof_3_v34_diff', 'tof_3_v35', 'tof_3_v35_diff', 'tof_3_v36', 'tof_3_v36_diff', 'tof_3_v37', 'tof_3_v37_diff', 'tof_3_v38', 'tof_3_v38_diff', 'tof_3_v39', 'tof_3_v39_diff', 'tof_3_v40', 'tof_3_v40_diff', 'tof_3_v41', 'tof_3_v41_diff', 'tof_3_v42', 'tof_3_v42_diff', 'tof_3_v43', 'tof_3_v43_diff', 'tof_3_v44', 'tof_3_v44_diff', 'tof_3_v45', 'tof_3_v45_diff', 'tof_3_v46', 'tof_3_v46_diff', 'tof_3_v47', 'tof_3_v47_diff', 'tof_3_v48', 'tof_3_v48_diff', 'tof_3_v49', 'tof_3_v49_diff', 'tof_3_v50', 'tof_3_v50_diff', 'tof_3_v51', 'tof_3_v51_diff', 'tof_3_v52', 'tof_3_v52_diff', 'tof_3_v53', 'tof_3_v53_diff', 'tof_3_v54', 'tof_3_v54_diff', 'tof_3_v55', 'tof_3_v55_diff', 'tof_3_v56', 'tof_3_v56_diff', 'tof_3_v57', 'tof_3_v57_diff', 'tof_3_v58', 'tof_3_v58_diff', 'tof_3_v59', 'tof_3_v59_diff', 'tof_3_v60', 'tof_3_v60_diff', 'tof_3_v61', 'tof_3_v61_diff', 'tof_3_v62', 'tof_3_v62_diff', 'tof_3_v63', 'tof_3_v63_diff', 'tof_4_max', 'tof_4_max_00', 'tof_4_max_00_diff', 'tof_4_max_01', 'tof_4_max_01_diff', 'tof_4_max_02', 'tof_4_max_02_diff', 'tof_4_max_03', 'tof_4_max_03_diff', 'tof_4_max_diff', 'tof_4_mean', 'tof_4_mean_00', 'tof_4_mean_00_diff', 'tof_4_mean_01', 'tof_4_mean_01_diff', 'tof_4_mean_02', 'tof_4_mean_02_diff', 'tof_4_mean_03', 'tof_4_mean_03_diff', 'tof_4_mean_diff', 'tof_4_median', 'tof_4_median_00', 'tof_4_median_00_diff', 'tof_4_median_01', 'tof_4_median_01_diff', 'tof_4_median_02', 'tof_4_median_02_diff', 'tof_4_median_03', 'tof_4_median_03_diff', 'tof_4_median_diff', 'tof_4_min', 'tof_4_min_00', 'tof_4_min_00_diff', 'tof_4_min_01', 'tof_4_min_01_diff', 'tof_4_min_02', 'tof_4_min_02_diff', 'tof_4_min_03', 'tof_4_min_03_diff', 'tof_4_min_diff', 'tof_4_std', 'tof_4_std_00', 'tof_4_std_00_diff', 'tof_4_std_01', 'tof_4_std_01_diff', 'tof_4_std_02', 'tof_4_std_02_diff', 'tof_4_std_03', 'tof_4_std_03_diff', 'tof_4_std_diff', 'tof_4_v00', 'tof_4_v00_diff', 'tof_4_v01', 'tof_4_v01_diff', 'tof_4_v02', 'tof_4_v02_diff', 'tof_4_v03', 'tof_4_v03_diff', 'tof_4_v04', 'tof_4_v04_diff', 'tof_4_v05', 'tof_4_v05_diff', 'tof_4_v06', 'tof_4_v06_diff', 'tof_4_v07', 'tof_4_v07_diff', 'tof_4_v08', 'tof_4_v08_diff', 'tof_4_v09', 'tof_4_v09_diff', 'tof_4_v10', 'tof_4_v10_diff', 'tof_4_v11', 'tof_4_v11_diff', 'tof_4_v12', 'tof_4_v12_diff', 'tof_4_v13', 'tof_4_v13_diff', 'tof_4_v14', 'tof_4_v14_diff', 'tof_4_v15', 'tof_4_v15_diff', 'tof_4_v16', 'tof_4_v16_diff', 'tof_4_v17', 'tof_4_v17_diff', 'tof_4_v18', 'tof_4_v18_diff', 'tof_4_v19', 'tof_4_v19_diff', 'tof_4_v20', 'tof_4_v20_diff', 'tof_4_v21', 'tof_4_v21_diff', 'tof_4_v22', 'tof_4_v22_diff', 'tof_4_v23', 'tof_4_v23_diff', 'tof_4_v24', 'tof_4_v24_diff', 'tof_4_v25', 'tof_4_v25_diff', 'tof_4_v26', 'tof_4_v26_diff', 'tof_4_v27', 'tof_4_v27_diff', 'tof_4_v28', 'tof_4_v28_diff', 'tof_4_v29', 'tof_4_v29_diff', 'tof_4_v30', 'tof_4_v30_diff', 'tof_4_v31', 'tof_4_v31_diff', 'tof_4_v32', 'tof_4_v32_diff', 'tof_4_v33', 'tof_4_v33_diff', 'tof_4_v34', 'tof_4_v34_diff', 'tof_4_v35', 'tof_4_v35_diff', 'tof_4_v36', 'tof_4_v36_diff', 'tof_4_v37', 'tof_4_v37_diff', 'tof_4_v38', 'tof_4_v38_diff', 'tof_4_v39', 'tof_4_v39_diff', 'tof_4_v40', 'tof_4_v40_diff', 'tof_4_v41', 'tof_4_v41_diff', 'tof_4_v42', 'tof_4_v42_diff', 'tof_4_v43', 'tof_4_v43_diff', 'tof_4_v44', 'tof_4_v44_diff', 'tof_4_v45', 'tof_4_v45_diff', 'tof_4_v46', 'tof_4_v46_diff', 'tof_4_v47', 'tof_4_v47_diff', 'tof_4_v48', 'tof_4_v48_diff', 'tof_4_v49', 'tof_4_v49_diff', 'tof_4_v50', 'tof_4_v50_diff', 'tof_4_v51', 'tof_4_v51_diff', 'tof_4_v52', 'tof_4_v52_diff', 'tof_4_v53', 'tof_4_v53_diff', 'tof_4_v54', 'tof_4_v54_diff', 'tof_4_v55', 'tof_4_v55_diff', 'tof_4_v56', 'tof_4_v56_diff', 'tof_4_v57', 'tof_4_v57_diff', 'tof_4_v58', 'tof_4_v58_diff', 'tof_4_v59', 'tof_4_v59_diff', 'tof_4_v60', 'tof_4_v60_diff', 'tof_4_v61', 'tof_4_v61_diff', 'tof_4_v62', 'tof_4_v62_diff', 'tof_4_v63', 'tof_4_v63_diff', 'tof_5_max', 'tof_5_max_00', 'tof_5_max_00_diff', 'tof_5_max_01', 'tof_5_max_01_diff', 'tof_5_max_02', 'tof_5_max_02_diff', 'tof_5_max_03', 'tof_5_max_03_diff', 'tof_5_max_diff', 'tof_5_mean', 'tof_5_mean_00', 'tof_5_mean_00_diff', 'tof_5_mean_01', 'tof_5_mean_01_diff', 'tof_5_mean_02', 'tof_5_mean_02_diff', 'tof_5_mean_03', 'tof_5_mean_03_diff', 'tof_5_mean_diff', 'tof_5_median', 'tof_5_median_00', 'tof_5_median_00_diff', 'tof_5_median_01', 'tof_5_median_01_diff', 'tof_5_median_02', 'tof_5_median_02_diff', 'tof_5_median_03', 'tof_5_median_03_diff', 'tof_5_median_diff', 'tof_5_min', 'tof_5_min_00', 'tof_5_min_00_diff', 'tof_5_min_01', 'tof_5_min_01_diff', 'tof_5_min_02', 'tof_5_min_02_diff', 'tof_5_min_03', 'tof_5_min_03_diff', 'tof_5_min_diff', 'tof_5_std', 'tof_5_std_00', 'tof_5_std_00_diff', 'tof_5_std_01', 'tof_5_std_01_diff', 'tof_5_std_02', 'tof_5_std_02_diff', 'tof_5_std_03', 'tof_5_std_03_diff', 'tof_5_std_diff', 'tof_5_v00', 'tof_5_v00_diff', 'tof_5_v01', 'tof_5_v01_diff', 'tof_5_v02', 'tof_5_v02_diff', 'tof_5_v03', 'tof_5_v03_diff', 'tof_5_v04', 'tof_5_v04_diff', 'tof_5_v05', 'tof_5_v05_diff', 'tof_5_v06', 'tof_5_v06_diff', 'tof_5_v07', 'tof_5_v07_diff', 'tof_5_v08', 'tof_5_v08_diff', 'tof_5_v09', 'tof_5_v09_diff', 'tof_5_v10', 'tof_5_v10_diff', 'tof_5_v11', 'tof_5_v11_diff', 'tof_5_v12', 'tof_5_v12_diff', 'tof_5_v13', 'tof_5_v13_diff', 'tof_5_v14', 'tof_5_v14_diff', 'tof_5_v15', 'tof_5_v15_diff', 'tof_5_v16', 'tof_5_v16_diff', 'tof_5_v17', 'tof_5_v17_diff', 'tof_5_v18', 'tof_5_v18_diff', 'tof_5_v19', 'tof_5_v19_diff', 'tof_5_v20', 'tof_5_v20_diff', 'tof_5_v21', 'tof_5_v21_diff', 'tof_5_v22', 'tof_5_v22_diff', 'tof_5_v23', 'tof_5_v23_diff', 'tof_5_v24', 'tof_5_v24_diff', 'tof_5_v25', 'tof_5_v25_diff', 'tof_5_v26', 'tof_5_v26_diff', 'tof_5_v27', 'tof_5_v27_diff', 'tof_5_v28', 'tof_5_v28_diff', 'tof_5_v29', 'tof_5_v29_diff', 'tof_5_v30', 'tof_5_v30_diff', 'tof_5_v31', 'tof_5_v31_diff', 'tof_5_v32', 'tof_5_v32_diff', 'tof_5_v33', 'tof_5_v33_diff', 'tof_5_v34', 'tof_5_v34_diff', 'tof_5_v35', 'tof_5_v35_diff', 'tof_5_v36', 'tof_5_v36_diff', 'tof_5_v37', 'tof_5_v37_diff', 'tof_5_v38', 'tof_5_v38_diff', 'tof_5_v39', 'tof_5_v39_diff', 'tof_5_v40', 'tof_5_v40_diff', 'tof_5_v41', 'tof_5_v41_diff', 'tof_5_v42', 'tof_5_v42_diff', 'tof_5_v43', 'tof_5_v43_diff', 'tof_5_v44', 'tof_5_v44_diff', 'tof_5_v45', 'tof_5_v45_diff', 'tof_5_v46', 'tof_5_v46_diff', 'tof_5_v47', 'tof_5_v47_diff', 'tof_5_v48', 'tof_5_v48_diff', 'tof_5_v49', 'tof_5_v49_diff', 'tof_5_v50', 'tof_5_v50_diff', 'tof_5_v51', 'tof_5_v51_diff', 'tof_5_v52', 'tof_5_v52_diff', 'tof_5_v53', 'tof_5_v53_diff', 'tof_5_v54', 'tof_5_v54_diff', 'tof_5_v55', 'tof_5_v55_diff', 'tof_5_v56', 'tof_5_v56_diff', 'tof_5_v57', 'tof_5_v57_diff', 'tof_5_v58', 'tof_5_v58_diff', 'tof_5_v59', 'tof_5_v59_diff', 'tof_5_v60', 'tof_5_v60_diff', 'tof_5_v61', 'tof_5_v61_diff', 'tof_5_v62', 'tof_5_v62_diff', 'tof_5_v63', 'tof_5_v63_diff']\n",
      "tof_feats_idx: [56, 57, 58, 59, 60, 61, 62, 63, 64, 65, 66, 67, 68, 69, 70, 71, 72, 73, 74, 75, 76, 77, 78, 79, 80, 81, 82, 83, 84, 85, 86, 87, 88, 89, 90, 91, 92, 93, 94, 95, 96, 97, 98, 99, 100, 101, 102, 103, 104, 105, 106, 107, 108, 109, 110, 111, 112, 113, 114, 115, 116, 117, 118, 119, 120, 121, 122, 123, 124, 125, 126, 127, 128, 129, 130, 131, 132, 133, 134, 135, 136, 137, 138, 139, 140, 141, 142, 143, 144, 145, 146, 147, 148, 149, 150, 151, 152, 153, 154, 155, 156, 157, 158, 159, 160, 161, 162, 163, 164, 165, 166, 167, 168, 169, 170, 171, 172, 173, 174, 175, 176, 177, 178, 179, 180, 181, 182, 183, 184, 185, 186, 187, 188, 189, 190, 191, 192, 193, 194, 195, 196, 197, 198, 199, 200, 201, 202, 203, 204, 205, 206, 207, 208, 209, 210, 211, 212, 213, 214, 215, 216, 217, 218, 219, 220, 221, 222, 223, 224, 225, 226, 227, 228, 229, 230, 231, 232, 233, 234, 235, 236, 237, 238, 239, 240, 241, 242, 243, 244, 245, 246, 247, 248, 249, 250, 251, 252, 253, 254, 255, 256, 257, 258, 259, 260, 261, 262, 263, 264, 265, 266, 267, 268, 269, 270, 271, 272, 273, 274, 275, 276, 277, 278, 279, 280, 281, 282, 283, 284, 285, 286, 287, 288, 289, 290, 291, 292, 293, 294, 295, 296, 297, 298, 299, 300, 301, 302, 303, 304, 305, 306, 307, 308, 309, 310, 311, 312, 313, 314, 315, 316, 317, 318, 319, 320, 321, 322, 323, 324, 325, 326, 327, 328, 329, 330, 331, 332, 333, 334, 335, 336, 337, 338, 339, 340, 341, 342, 343, 344, 345, 346, 347, 348, 349, 350, 351, 352, 353, 354, 355, 356, 357, 358, 359, 360, 361, 362, 363, 364, 365, 366, 367, 368, 369, 370, 371, 372, 373, 374, 375, 376, 377, 378, 379, 380, 381, 382, 383, 384, 385, 386, 387, 388, 389, 390, 391, 392, 393, 394, 395, 396, 397, 398, 399, 400, 401, 402, 403, 404, 405, 406, 407, 408, 409, 410, 411, 412, 413, 414, 415, 416, 417, 418, 419, 420, 421, 422, 423, 424, 425, 426, 427, 428, 429, 430, 431, 432, 433, 434, 435, 436, 437, 438, 439, 440, 441, 442, 443, 444, 445, 446, 447, 448, 449, 450, 451, 452, 453, 454, 455, 456, 457, 458, 459, 460, 461, 462, 463, 464, 465, 466, 467, 468, 469, 470, 471, 472, 473, 474, 475, 476, 477, 478, 479, 480, 481, 482, 483, 484, 485, 486, 487, 488, 489, 490, 491, 492, 493, 494, 495, 496, 497, 498, 499, 500, 501, 502, 503, 504, 505, 506, 507, 508, 509, 510, 511, 512, 513, 514, 515, 516, 517, 518, 519, 520, 521, 522, 523, 524, 525, 526, 527, 528, 529, 530, 531, 532, 533, 534, 535, 536, 537, 538, 539, 540, 541, 542, 543, 544, 545, 546, 547, 548, 549, 550, 551, 552, 553, 554, 555, 556, 557, 558, 559, 560, 561, 562, 563, 564, 565, 566, 567, 568, 569, 570, 571, 572, 573, 574, 575, 576, 577, 578, 579, 580, 581, 582, 583, 584, 585, 586, 587, 588, 589, 590, 591, 592, 593, 594, 595, 596, 597, 598, 599, 600, 601, 602, 603, 604, 605, 606, 607, 608, 609, 610, 611, 612, 613, 614, 615, 616, 617, 618, 619, 620, 621, 622, 623, 624, 625, 626, 627, 628, 629, 630, 631, 632, 633, 634, 635, 636, 637, 638, 639, 640, 641, 642, 643, 644, 645, 646, 647, 648, 649, 650, 651, 652, 653, 654, 655, 656, 657, 658, 659, 660, 661, 662, 663, 664, 665, 666, 667, 668, 669, 670, 671, 672, 673, 674, 675, 676, 677, 678, 679, 680, 681, 682, 683, 684, 685, 686, 687, 688, 689, 690, 691, 692, 693, 694, 695, 696, 697, 698, 699, 700, 701, 702, 703, 704, 705, 706, 707, 708, 709, 710, 711, 712, 713, 714, 715, 716, 717, 718, 719, 720, 721, 722, 723, 724, 725, 726, 727, 728, 729, 730, 731, 732, 733, 734, 735, 736, 737, 738, 739, 740, 741, 742, 743, 744, 745, 746, 747, 748, 749, 750, 751, 752, 753, 754, 755, 756, 757, 758, 759, 760, 761, 762, 763, 764, 765, 766, 767, 768, 769, 770, 771, 772, 773, 774, 775, 776, 777, 778, 779, 780, 781, 782, 783, 784, 785, 786, 787, 788, 789, 790, 791, 792, 793, 794, 795, 796, 797, 798, 799, 800, 801, 802, 803, 804, 805, 806, 807, 808, 809, 810, 811, 812, 813, 814, 815, 816, 817, 818, 819, 820, 821, 822, 823, 824, 825, 826, 827, 828, 829, 830, 831, 832, 833, 834, 835, 836, 837, 838, 839, 840, 841, 842, 843, 844, 845, 846, 847, 848, 849, 850, 851, 852, 853, 854, 855, 856, 857, 858, 859, 860, 861, 862, 863, 864, 865, 866, 867, 868, 869, 870, 871, 872, 873, 874, 875, 876, 877, 878, 879, 880, 881, 882, 883, 884, 885, 886, 887, 888, 889, 890, 891, 892, 893, 894, 895, 896, 897, 898, 899, 900, 901, 902, 903, 904, 905, 906, 907, 908, 909, 910, 911, 912, 913, 914, 915, 916, 917, 918, 919, 920, 921, 922, 923, 924, 925, 926, 927, 928, 929, 930, 931, 932, 933, 934, 935, 936, 937, 938, 939, 940, 941, 942, 943, 944, 945]\n",
      "thm_feats_idx: [46, 47, 48, 49, 50, 51, 52, 53, 54, 55]\n",
      "imu_feats_idx: [0, 1, 2, 3, 4, 5, 6, 7, 8, 9, 10, 11, 12, 13, 14, 15, 16, 17, 18, 19, 20, 21, 22, 23, 24, 25, 26, 27, 28, 29, 30, 31, 32, 33, 34, 35, 36, 37, 38, 39, 40, 41, 42, 43, 44, 45]\n"
     ]
    }
   ],
   "source": [
    "# dataset_path = kagglehub.dataset_download(DATASET_HANDLE)\n",
    "meta_data_path = join(\n",
    "    # dataset_path,\n",
    "    \"preprocessed_dataset\",\n",
    "    \"full_dataset_meta_data.json\"\n",
    ")\n",
    "with open(meta_data_path, \"r\") as fp:\n",
    "    meta_data = json.load(fp)\n",
    "# Convert target names into a ndarray to index it batchwise.\n",
    "def get_sensor_indices(sensor_prefix: str) -> list[int]:\n",
    "    is_sensor_feat = methodcaller(\"startswith\", sensor_prefix)\n",
    "    return [feat_idx for feat_idx, feat in enumerate(meta_data[\"feature_cols\"]) if is_sensor_feat(feat)]\n",
    "\n",
    "tof_idx = get_sensor_indices(\"tof\")\n",
    "thm_idx = get_sensor_indices(\"thm\")\n",
    "imu_idx = list(filter(lambda idx: idx not in tof_idx + thm_idx, range(len(meta_data[\"feature_cols\"]))))\n",
    "\n",
    "print(meta_data[\"feature_cols\"])\n",
    "print(\"tof_feats_idx:\", tof_idx)\n",
    "print(\"thm_feats_idx:\", thm_idx)\n",
    "print(\"imu_feats_idx:\", imu_idx)"
   ]
  },
  {
   "cell_type": "markdown",
   "id": "86df0ba2",
   "metadata": {
    "papermill": {
     "duration": 0.007266,
     "end_time": "2025-08-02T11:25:20.565558",
     "exception": false,
     "start_time": "2025-08-02T11:25:20.558292",
     "status": "completed"
    },
    "tags": []
   },
   "source": [
    "## Model definition"
   ]
  },
  {
   "cell_type": "code",
   "execution_count": 12,
   "id": "f99a499a",
   "metadata": {
    "execution": {
     "iopub.execute_input": "2025-08-02T11:25:20.581200Z",
     "iopub.status.busy": "2025-08-02T11:25:20.581013Z",
     "iopub.status.idle": "2025-08-02T11:25:20.601366Z",
     "shell.execute_reply": "2025-08-02T11:25:20.600664Z"
    },
    "papermill": {
     "duration": 0.029642,
     "end_time": "2025-08-02T11:25:20.602493",
     "exception": false,
     "start_time": "2025-08-02T11:25:20.572851",
     "status": "completed"
    },
    "tags": []
   },
   "outputs": [],
   "source": [
    "class MultiScaleConvs(nn.Module):\n",
    "    def __init__(self, in_channels:int, kernel_sizes:list[int]):\n",
    "        super().__init__()\n",
    "        def mk_conv_block(k_size) -> nn.Sequential:\n",
    "            return nn.Sequential(\n",
    "                nn.Conv1d(in_channels, in_channels, k_size, padding=k_size // 2, groups=in_channels),\n",
    "                nn.BatchNorm1d(in_channels),\n",
    "                nn.ReLU(),\n",
    "            )\n",
    "        self.convs = nn.ModuleList(map(mk_conv_block, kernel_sizes))\n",
    "\n",
    "    def forward(self, x:Tensor) -> Tensor:\n",
    "        yes = torch.cat([conv(x) for conv in self.convs] + [x], dim=1)\n",
    "        # print(\"stem output shape:\", yes.shape)\n",
    "        return yes\n",
    "\n",
    "class ImuFeatureExtractor(nn.Module):\n",
    "    def __init__(self, in_channels:int, kernel_size:int=15):\n",
    "        super().__init__()\n",
    "\n",
    "        self.lpf = nn.Conv1d(\n",
    "            in_channels,\n",
    "            in_channels,\n",
    "            kernel_size=kernel_size,\n",
    "            padding=kernel_size//2,\n",
    "            groups=in_channels,\n",
    "            bias=False,\n",
    "        )\n",
    "        nn.init.kaiming_uniform_(self.lpf.weight, a=math.sqrt(5))\n",
    "\n",
    "    def forward(self, x:Tensor) -> Tensor:\n",
    "        lpf_output = self.lpf(x)\n",
    "        hpf_output = x - lpf_output\n",
    "        return torch.cat((lpf_output, hpf_output, x), dim=1)  # (B, C_out, T)\n",
    "\n",
    "class SqueezeExcitationBlock(nn.Module):\n",
    "    # Copy/paste of https://www.kaggle.com/code/wasupandceacar/lb-0-82-5fold-single-bert-model#Model implementation\n",
    "    def __init__(self, channels:int, reduction:int=8):\n",
    "        super().__init__()\n",
    "        self.fc1 = nn.Linear(channels, channels // reduction, bias=True)\n",
    "        self.fc2 = nn.Linear(channels // reduction, channels, bias=True)\n",
    "        self.sigmoid = nn.Sigmoid()\n",
    "\n",
    "    def forward(self, x):\n",
    "        # x: (B, C, L)\n",
    "        se = F.adaptive_avg_pool1d(x, 1).squeeze(-1)      # -> (B, C)\n",
    "        se = F.relu(self.fc1(se), inplace=True)          # -> (B, C//r)\n",
    "        se = self.sigmoid(self.fc2(se)).unsqueeze(-1)    # -> (B, C, 1)\n",
    "        return x * se\n",
    "\n",
    "class ResidualBlock(nn.Module):\n",
    "    def __init__(self, in_chns:int, out_chns:int, dropout_ratio:float=0.3, se_reduction:int=8, kernel_size:int=3):\n",
    "        super().__init__()\n",
    "        self.blocks = nn.Sequential(\n",
    "            nn.Conv1d(in_chns, out_chns, kernel_size=kernel_size, padding=kernel_size // 2, bias=False),\n",
    "            nn.BatchNorm1d(out_chns),\n",
    "            nn.ReLU(),\n",
    "            nn.Conv1d(out_chns, out_chns, kernel_size=kernel_size, padding=kernel_size // 2, bias=False),\n",
    "            nn.BatchNorm1d(out_chns),\n",
    "            SqueezeExcitationBlock(out_chns, se_reduction),\n",
    "        )\n",
    "        self.head = nn.Sequential(nn.ReLU(), nn.Dropout(dropout_ratio))\n",
    "        if in_chns == out_chns:\n",
    "            self.skip_connection = nn.Identity() \n",
    "        else:\n",
    "            # TODO: set bias to False ?\n",
    "            self.skip_connection = nn.Sequential(\n",
    "                nn.Conv1d(in_chns, out_chns, 1, bias=False),\n",
    "                nn.BatchNorm1d(out_chns)\n",
    "            )\n",
    "            self.head.insert(1, nn.MaxPool1d(2))\n",
    "\n",
    "    def forward(self, x:Tensor) -> Tensor:\n",
    "        activaition_maps = self.skip_connection(x) + self.blocks(x)\n",
    "        return self.head(activaition_maps)\n",
    "\n",
    "class MBConvBlock(nn.Module):\n",
    "    # From this schema: https://media.licdn.com/dms/image/v2/D5612AQFjbDOm5uyxdw/article-inline_image-shrink_1500_2232/article-inline_image-shrink_1500_2232/0/1683677500817?e=1758153600&v=beta&t=n48_UW5TZTyDPhRFlJXSidUQQPQpuC756M0kNeKmYTY\n",
    "    def __init__(self, in_chns:int, out_chns:int, se_reduction:int=8, expansion_ratio:int=4, dropout_ratio:float=0.3):\n",
    "        super().__init__()\n",
    "        expanded_channels = in_chns * expansion_ratio\n",
    "        self.blocks = nn.Sequential(\n",
    "            nn.Conv1d(in_chns, expanded_channels, kernel_size=1, bias=False),\n",
    "            nn.BatchNorm1d(expanded_channels),\n",
    "            nn.ReLU(),\n",
    "            nn.Conv1d(\n",
    "                expanded_channels,\n",
    "                expanded_channels,\n",
    "                kernel_size=3,\n",
    "                padding=1,\n",
    "                groups=expanded_channels,\n",
    "                bias=False,\n",
    "            ),\n",
    "            nn.BatchNorm1d(expanded_channels),\n",
    "            nn.ReLU(),\n",
    "            SqueezeExcitationBlock(expanded_channels, se_reduction),\n",
    "            nn.Conv1d(expanded_channels, out_chns, kernel_size=1, bias=False)\n",
    "        )\n",
    "        self.head = nn.Sequential(\n",
    "            nn.BatchNorm1d(out_chns)\n",
    "            # nn.ReLU(),\n",
    "            # nn.Dropout(dropout_ratio),\n",
    "        )\n",
    "        if in_chns == out_chns:\n",
    "            self.skip_connection = nn.Identity() \n",
    "        else:\n",
    "            # TODO: set bias to False ?\n",
    "            self.skip_connection = nn.Sequential(\n",
    "                nn.Conv1d(in_chns, out_chns, 1, bias=False),\n",
    "                nn.BatchNorm1d(out_chns)\n",
    "            )\n",
    "            self.head.add_module(\"max_pool\", nn.MaxPool1d(2))\n",
    "            \n",
    "    def forward(self, x:Tensor) -> Tensor:\n",
    "        activaition_maps = self.skip_connection(x) + self.blocks(x)\n",
    "        return self.head(activaition_maps)\n",
    "\n",
    "class AdditiveAttentionLayer(nn.Module):\n",
    "    # Copied (and slightly modified) from https://www.kaggle.com/code/myso1987/cmi3-pyroch-baseline-model-add-aug-folds\n",
    "    def __init__(self, hidden_dim):\n",
    "        super().__init__()\n",
    "        self.attention = nn.Linear(hidden_dim, 1, bias=True)\n",
    "\n",
    "    def forward(self, x: Tensor) -> Tensor:\n",
    "        # x shape: (batch, channels, seq_len)\n",
    "        x = x.swapaxes(1, 2)\n",
    "        # x shape: (batch, seq_len, hidden_dim)\n",
    "        scores = torch.tanh(self.attention(x))  # (batch, seq_len, 1)\n",
    "        weights = F.softmax(scores.squeeze(-1), dim=1)  # (batch, seq_len)\n",
    "        context = torch.sum(x * weights.unsqueeze(-1), dim=1)  # (batch, hidden_dim)\n",
    "        return context\n",
    "\n",
    "class AlexNet(nn.Sequential):\n",
    "    def __init__(self, channels:list[int], dropout_ratio:float):\n",
    "        def mk_conv_block(in_channels:int, out_channels:int) -> nn.Module:\n",
    "            return nn.Sequential(\n",
    "                nn.Conv1d(in_channels, out_channels, 3, padding=1, bias=False),\n",
    "                nn.BatchNorm1d(out_channels),\n",
    "                nn.MaxPool1d(2),\n",
    "                nn.Dropout(dropout_ratio),\n",
    "            )\n",
    "        return super().__init__(*list(starmap(mk_conv_block, pairwise(channels))))\n",
    "\n",
    "class CMIHARModule(nn.Module):\n",
    "    def __init__(\n",
    "            self,\n",
    "            imu_idx:list[int],\n",
    "            thm_idx:list[int],\n",
    "            tof_idx:list[int],\n",
    "            mlp_width:int,\n",
    "            n_class:int,            \n",
    "            dataset_x:Tensor,\n",
    "            tof_dropout_ratio:float=0,\n",
    "            thm_dropout_ratio:float=0,\n",
    "        ):\n",
    "        super().__init__()\n",
    "        self.imu_idx = imu_idx\n",
    "        self.tof_idx = tof_idx\n",
    "        self.thm_idx = thm_idx\n",
    "        self.x_mean = dataset_x.mean(dim=(0, 2), keepdim=True)\n",
    "        # print(dataset_x.shape)\n",
    "        # print(self.x_mean.shape)\n",
    "        self.x_std = dataset_x.std(dim=(0, 2), keepdim=True)\n",
    "        # print(self.x_std.shape)\n",
    "        self.imu_branch = nn.Sequential(\n",
    "            # ImuFeatureExtractor(len(imu_idx)),\n",
    "            ResidualBlock(len(imu_idx), 219),\n",
    "            ResidualBlock(219, 500),\n",
    "        )\n",
    "        self.tof_branch = AlexNet([len(tof_idx), 82, 500], tof_dropout_ratio)\n",
    "        self.thm_branch = AlexNet([len(thm_idx), 82, 500], thm_dropout_ratio)\n",
    "        self.rnn = nn.GRU(500 * 3, mlp_width // 2, bidirectional=True)\n",
    "        self.attention = AdditiveAttentionLayer(mlp_width)\n",
    "        self.head = nn.Sequential(\n",
    "            # Head\n",
    "            nn.LazyLinear(mlp_width, bias=False),\n",
    "            nn.BatchNorm1d(mlp_width),\n",
    "            nn.ReLU(),\n",
    "            nn.Linear(mlp_width, mlp_width // 2, bias=False),\n",
    "            nn.BatchNorm1d(mlp_width // 2),\n",
    "            nn.ReLU(),\n",
    "            nn.Linear(mlp_width // 2, n_class),\n",
    "        )\n",
    "\n",
    "    def forward(self, x:Tensor) -> Tensor:\n",
    "        x = (x - self.x_mean) / self.x_std\n",
    "        concatenated_activation_maps = torch.cat(\n",
    "            (\n",
    "                self.imu_branch(x[:, self.imu_idx]),\n",
    "                self.thm_branch(x[:, self.thm_idx]),\n",
    "                self.tof_branch(x[:, self.tof_idx]),\n",
    "            ),\n",
    "            dim=CHANNELS_DIMENSION,\n",
    "        )\n",
    "        lstm_output, _  = self.rnn(concatenated_activation_maps.swapaxes(1, 2))\n",
    "        lstm_output = lstm_output.swapaxes(1, 2) # redundant\n",
    "        attended = self.attention(lstm_output)\n",
    "        return self.head(attended)"
   ]
  },
  {
   "cell_type": "markdown",
   "id": "999a5ac6",
   "metadata": {
    "papermill": {
     "duration": 0.007331,
     "end_time": "2025-08-02T11:25:20.617266",
     "exception": false,
     "start_time": "2025-08-02T11:25:20.609935",
     "status": "completed"
    },
    "tags": []
   },
   "source": [
    "### Create model function"
   ]
  },
  {
   "cell_type": "code",
   "execution_count": 13,
   "id": "d55cb1b1",
   "metadata": {
    "execution": {
     "iopub.execute_input": "2025-08-02T11:25:20.632982Z",
     "iopub.status.busy": "2025-08-02T11:25:20.632760Z",
     "iopub.status.idle": "2025-08-02T11:25:20.929218Z",
     "shell.execute_reply": "2025-08-02T11:25:20.928490Z"
    },
    "papermill": {
     "duration": 0.305529,
     "end_time": "2025-08-02T11:25:20.930258",
     "exception": false,
     "start_time": "2025-08-02T11:25:20.624729",
     "status": "completed"
    },
    "tags": []
   },
   "outputs": [
    {
     "data": {
      "text/plain": [
       "CMIHARModule(\n",
       "  (imu_branch): Sequential(\n",
       "    (0): ResidualBlock(\n",
       "      (blocks): Sequential(\n",
       "        (0): Conv1d(46, 219, kernel_size=(3,), stride=(1,), padding=(1,), bias=False)\n",
       "        (1): BatchNorm1d(219, eps=1e-05, momentum=0.1, affine=True, track_running_stats=True)\n",
       "        (2): ReLU()\n",
       "        (3): Conv1d(219, 219, kernel_size=(3,), stride=(1,), padding=(1,), bias=False)\n",
       "        (4): BatchNorm1d(219, eps=1e-05, momentum=0.1, affine=True, track_running_stats=True)\n",
       "        (5): SqueezeExcitationBlock(\n",
       "          (fc1): Linear(in_features=219, out_features=27, bias=True)\n",
       "          (fc2): Linear(in_features=27, out_features=219, bias=True)\n",
       "          (sigmoid): Sigmoid()\n",
       "        )\n",
       "      )\n",
       "      (head): Sequential(\n",
       "        (0): ReLU()\n",
       "        (1): MaxPool1d(kernel_size=2, stride=2, padding=0, dilation=1, ceil_mode=False)\n",
       "        (2): Dropout(p=0.3, inplace=False)\n",
       "      )\n",
       "      (skip_connection): Sequential(\n",
       "        (0): Conv1d(46, 219, kernel_size=(1,), stride=(1,), bias=False)\n",
       "        (1): BatchNorm1d(219, eps=1e-05, momentum=0.1, affine=True, track_running_stats=True)\n",
       "      )\n",
       "    )\n",
       "    (1): ResidualBlock(\n",
       "      (blocks): Sequential(\n",
       "        (0): Conv1d(219, 500, kernel_size=(3,), stride=(1,), padding=(1,), bias=False)\n",
       "        (1): BatchNorm1d(500, eps=1e-05, momentum=0.1, affine=True, track_running_stats=True)\n",
       "        (2): ReLU()\n",
       "        (3): Conv1d(500, 500, kernel_size=(3,), stride=(1,), padding=(1,), bias=False)\n",
       "        (4): BatchNorm1d(500, eps=1e-05, momentum=0.1, affine=True, track_running_stats=True)\n",
       "        (5): SqueezeExcitationBlock(\n",
       "          (fc1): Linear(in_features=500, out_features=62, bias=True)\n",
       "          (fc2): Linear(in_features=62, out_features=500, bias=True)\n",
       "          (sigmoid): Sigmoid()\n",
       "        )\n",
       "      )\n",
       "      (head): Sequential(\n",
       "        (0): ReLU()\n",
       "        (1): MaxPool1d(kernel_size=2, stride=2, padding=0, dilation=1, ceil_mode=False)\n",
       "        (2): Dropout(p=0.3, inplace=False)\n",
       "      )\n",
       "      (skip_connection): Sequential(\n",
       "        (0): Conv1d(219, 500, kernel_size=(1,), stride=(1,), bias=False)\n",
       "        (1): BatchNorm1d(500, eps=1e-05, momentum=0.1, affine=True, track_running_stats=True)\n",
       "      )\n",
       "    )\n",
       "  )\n",
       "  (tof_branch): AlexNet(\n",
       "    (0): Sequential(\n",
       "      (0): Conv1d(890, 82, kernel_size=(3,), stride=(1,), padding=(1,), bias=False)\n",
       "      (1): BatchNorm1d(82, eps=1e-05, momentum=0.1, affine=True, track_running_stats=True)\n",
       "      (2): MaxPool1d(kernel_size=2, stride=2, padding=0, dilation=1, ceil_mode=False)\n",
       "      (3): Dropout(p=0, inplace=False)\n",
       "    )\n",
       "    (1): Sequential(\n",
       "      (0): Conv1d(82, 500, kernel_size=(3,), stride=(1,), padding=(1,), bias=False)\n",
       "      (1): BatchNorm1d(500, eps=1e-05, momentum=0.1, affine=True, track_running_stats=True)\n",
       "      (2): MaxPool1d(kernel_size=2, stride=2, padding=0, dilation=1, ceil_mode=False)\n",
       "      (3): Dropout(p=0, inplace=False)\n",
       "    )\n",
       "  )\n",
       "  (thm_branch): AlexNet(\n",
       "    (0): Sequential(\n",
       "      (0): Conv1d(10, 82, kernel_size=(3,), stride=(1,), padding=(1,), bias=False)\n",
       "      (1): BatchNorm1d(82, eps=1e-05, momentum=0.1, affine=True, track_running_stats=True)\n",
       "      (2): MaxPool1d(kernel_size=2, stride=2, padding=0, dilation=1, ceil_mode=False)\n",
       "      (3): Dropout(p=0, inplace=False)\n",
       "    )\n",
       "    (1): Sequential(\n",
       "      (0): Conv1d(82, 500, kernel_size=(3,), stride=(1,), padding=(1,), bias=False)\n",
       "      (1): BatchNorm1d(500, eps=1e-05, momentum=0.1, affine=True, track_running_stats=True)\n",
       "      (2): MaxPool1d(kernel_size=2, stride=2, padding=0, dilation=1, ceil_mode=False)\n",
       "      (3): Dropout(p=0, inplace=False)\n",
       "    )\n",
       "  )\n",
       "  (rnn): GRU(1500, 128, bidirectional=True)\n",
       "  (attention): AdditiveAttentionLayer(\n",
       "    (attention): Linear(in_features=256, out_features=1, bias=True)\n",
       "  )\n",
       "  (head): Sequential(\n",
       "    (0): LazyLinear(in_features=0, out_features=256, bias=False)\n",
       "    (1): BatchNorm1d(256, eps=1e-05, momentum=0.1, affine=True, track_running_stats=True)\n",
       "    (2): ReLU()\n",
       "    (3): Linear(in_features=256, out_features=128, bias=False)\n",
       "    (4): BatchNorm1d(128, eps=1e-05, momentum=0.1, affine=True, track_running_stats=True)\n",
       "    (5): ReLU()\n",
       "    (6): Linear(in_features=128, out_features=18, bias=True)\n",
       "  )\n",
       ")"
      ]
     },
     "metadata": {},
     "output_type": "display_data"
    },
    {
     "name": "stdout",
     "output_type": "stream",
     "text": [
      "input channels: 946\n"
     ]
    }
   ],
   "source": [
    "def mk_model(dataset_x:Tensor) -> nn.Module:\n",
    "    return (\n",
    "        CMIHARModule(\n",
    "            imu_idx=imu_idx,\n",
    "            thm_idx=thm_idx,\n",
    "            tof_idx=tof_idx,\n",
    "            mlp_width=256,\n",
    "            n_class=18,\n",
    "            dataset_x=dataset_x,\n",
    "        )\n",
    "        .to(device)\n",
    "    )\n",
    "\n",
    "display(mk_model(torch.arange(12).view(2, 2, -1).float()))\n",
    "print(\"input channels:\", len(meta_data[\"feature_cols\"]))"
   ]
  },
  {
   "cell_type": "markdown",
   "id": "a21c1bcb",
   "metadata": {
    "papermill": {
     "duration": 0.015047,
     "end_time": "2025-08-02T11:26:29.351055",
     "exception": false,
     "start_time": "2025-08-02T11:26:29.336008",
     "status": "completed"
    },
    "tags": []
   },
   "source": [
    "## Training"
   ]
  },
  {
   "cell_type": "code",
   "execution_count": 14,
   "id": "a54f9ce8",
   "metadata": {
    "execution": {
     "iopub.execute_input": "2025-08-02T11:25:20.542848Z",
     "iopub.status.busy": "2025-08-02T11:25:20.542635Z",
     "iopub.status.idle": "2025-08-02T11:25:20.549658Z",
     "shell.execute_reply": "2025-08-02T11:25:20.549107Z"
    },
    "papermill": {
     "duration": 0.016225,
     "end_time": "2025-08-02T11:25:20.550737",
     "exception": false,
     "start_time": "2025-08-02T11:25:20.534512",
     "status": "completed"
    },
    "tags": []
   },
   "outputs": [],
   "source": [
    "class CosineAnnealingWarmupRestarts(_LRScheduler):\n",
    "    def __init__(\n",
    "        self,\n",
    "        optimizer: Optimizer,\n",
    "        warmup_steps: int,\n",
    "        max_lr: float,\n",
    "        min_lr: float,\n",
    "        cycle_length: int,\n",
    "        cycle_mult: float = 1.0,\n",
    "        gamma: float = 1.0,\n",
    "        last_epoch: int = -1,\n",
    "    ) -> None:\n",
    "        \"\"\"\n",
    "        Args:\n",
    "            optimizer: Wrapped optimizer.\n",
    "            warmup_steps: Number of steps for linear warmup.\n",
    "            max_lr: Initial maximum learning rate.\n",
    "            min_lr: Minimum learning rate after decay.\n",
    "            cycle_length: Initial number of steps per cosine cycle.\n",
    "            cycle_mult: Multiplicative factor for increasing cycle lengths.\n",
    "            gamma: Multiplicative decay factor for max_lr after each cycle.\n",
    "            last_epoch: The index of last epoch. Default: -1.\n",
    "        \"\"\"\n",
    "        self.warmup_steps = warmup_steps\n",
    "        self.max_lr = max_lr\n",
    "        self.min_lr = min_lr\n",
    "        self.cycle_length = cycle_length\n",
    "        self.cycle_mult = cycle_mult\n",
    "        self.gamma = gamma\n",
    "\n",
    "        self.current_cycle = 0\n",
    "        self.cycle_step = 0\n",
    "        self.lr = max_lr\n",
    "\n",
    "        super().__init__(optimizer, last_epoch)\n",
    "\n",
    "    def get_lr(self) -> list[float]:\n",
    "        if self.last_epoch < self.warmup_steps:\n",
    "            # Linear warmup\n",
    "            scale = (self.last_epoch + 1) / self.warmup_steps\n",
    "            return [self.min_lr + scale * (self.max_lr - self.min_lr) for _ in self.base_lrs]\n",
    "\n",
    "        # Adjust for post-warmup step index\n",
    "        t = self.cycle_step\n",
    "        T = self.cycle_length\n",
    "\n",
    "        cosine_decay = 0.5 * (1 + math.cos(math.pi * t / T))\n",
    "        lr = self.min_lr + (self.max_lr - self.min_lr) * cosine_decay\n",
    "\n",
    "        return [lr for _ in self.base_lrs]\n",
    "\n",
    "    def step(self, epoch: Optional[int] = None) -> None:\n",
    "        if self.last_epoch >= self.warmup_steps:\n",
    "            self.cycle_step += 1\n",
    "            if self.cycle_step >= self.cycle_length:\n",
    "                self.current_cycle += 1\n",
    "                self.cycle_step = 0\n",
    "                self.cycle_length = max(int(self.cycle_length * self.cycle_mult), 1)\n",
    "                self.max_lr *= self.gamma\n",
    "        super().step(epoch)"
   ]
  },
  {
   "cell_type": "code",
   "execution_count": 15,
   "id": "eccfd5f4",
   "metadata": {
    "execution": {
     "iopub.execute_input": "2025-08-02T11:26:30.302707Z",
     "iopub.status.busy": "2025-08-02T11:26:30.302531Z",
     "iopub.status.idle": "2025-08-02T11:26:30.306635Z",
     "shell.execute_reply": "2025-08-02T11:26:30.306194Z"
    },
    "jupyter": {
     "source_hidden": true
    },
    "papermill": {
     "duration": 0.941075,
     "end_time": "2025-08-02T11:26:30.307624",
     "exception": false,
     "start_time": "2025-08-02T11:26:29.366549",
     "status": "completed"
    },
    "tags": []
   },
   "outputs": [],
   "source": [
    "def mixup_data(x, y, alpha=0.2):\n",
    "    \"\"\"\n",
    "    Return mixed inputs and mixed targets (one-hot) for mixup.\n",
    "    x: Tensor of shape (batch_size, features, seq_len)\n",
    "    y: Tensor of shape (batch_size, num_classes)\n",
    "    \"\"\"\n",
    "    if alpha > 0:\n",
    "        lam = np.random.beta(alpha, alpha)\n",
    "    else:\n",
    "        lam = 1.0\n",
    "    batch_size = x.size(0)\n",
    "    index = torch.randperm(batch_size).to(x.device)\n",
    "\n",
    "    mixed_x = lam * x + (1 - lam) * x[index, :]\n",
    "    mixed_y = lam * y + (1 - lam) * y[index, :]\n",
    "    return mixed_x, mixed_y"
   ]
  },
  {
   "cell_type": "code",
   "execution_count": 16,
   "id": "941ea005",
   "metadata": {
    "execution": {
     "iopub.execute_input": "2025-08-02T11:26:30.326271Z",
     "iopub.status.busy": "2025-08-02T11:26:30.326049Z",
     "iopub.status.idle": "2025-08-02T11:26:30.343798Z",
     "shell.execute_reply": "2025-08-02T11:26:30.343286Z"
    },
    "jupyter": {
     "source_hidden": true
    },
    "papermill": {
     "duration": 0.027971,
     "end_time": "2025-08-02T11:26:30.344749",
     "exception": false,
     "start_time": "2025-08-02T11:26:30.316778",
     "status": "completed"
    },
    "tags": []
   },
   "outputs": [],
   "source": [
    "def train_model(\n",
    "        model:nn.Module,\n",
    "        train_loader:DL,\n",
    "        criterion:callable,\n",
    "        optimizer:torch.optim.Optimizer,\n",
    "        scheduler:_LRScheduler,\n",
    "    ) -> dict:\n",
    "    \"Train model on a single epoch\"\n",
    "    train_metrics = {}\n",
    "    model.train()\n",
    "    train_metrics[\"train_loss\"] = 0.0\n",
    "    total = 0\n",
    "    for batch_x, batch_y in train_loader:\n",
    "        batch_x = batch_x.to(device).clone()\n",
    "        add_noise = torch.randn_like(batch_x, device=device) * 0.04\n",
    "        scale_noise = torch.rand_like(batch_x, device=device) * (1.1 - 0.9) + 0.9\n",
    "        batch_x = (add_noise + batch_x) * scale_noise\n",
    "        batch_x[:TRAIN_BATCH_SIZE // 2, tof_idx + thm_idx] = 0.0\n",
    "        batch_y = batch_y.to(device)\n",
    "        batch_x = batch_x.float()\n",
    "        \n",
    "        batch_x, batch_y = mixup_data(batch_x, batch_y)\n",
    "\n",
    "        optimizer.zero_grad()\n",
    "        outputs = model(batch_x)\n",
    "        loss = criterion(outputs, batch_y)\n",
    "        loss.backward()\n",
    "        optimizer.step()\n",
    "        scheduler.step()\n",
    "\n",
    "        train_metrics[\"train_loss\"] += loss.item() * batch_x.size(0)\n",
    "        total += batch_x.size(0)\n",
    "    train_metrics[\"train_loss\"] /= total\n",
    "\n",
    "    return train_metrics"
   ]
  },
  {
   "cell_type": "code",
   "execution_count": 17,
   "id": "d8b67aa5",
   "metadata": {},
   "outputs": [],
   "source": [
    "def evaluate_model(model:nn.Module, validation_loader:DL, criterion:callable) -> dict:\n",
    "    model.eval()\n",
    "    eval_metrics = {}\n",
    "    eval_metrics[\"val_loss\"] = 0.0\n",
    "    total = 0\n",
    "    all_true = []\n",
    "    all_pred = []\n",
    "\n",
    "    with torch.no_grad():\n",
    "        for batch_x, batch_y in validation_loader:\n",
    "            batch_x = batch_x.to(device).clone()\n",
    "            batch_y = batch_y.to(device)\n",
    "            batch_x[:VALIDATION_BATCH_SIZE // 2, tof_idx + thm_idx] = 0.0\n",
    "\n",
    "            outputs = model(batch_x)\n",
    "            loss = criterion(outputs, batch_y)\n",
    "            eval_metrics[\"val_loss\"] += loss.item() * batch_x.size(0)\n",
    "            total += batch_x.size(0)\n",
    "\n",
    "            # Get predicted class indices\n",
    "            preds = torch.argmax(outputs, dim=1).cpu().numpy()\n",
    "            # Get true class indices from one-hot\n",
    "            trues = torch.argmax(batch_y, dim=1).cpu().numpy()\n",
    "\n",
    "            all_true.append(trues)\n",
    "            all_pred.append(preds)\n",
    "\n",
    "    eval_metrics[\"val_loss\"] /= total\n",
    "    all_true = np.concatenate(all_true)\n",
    "    all_pred = np.concatenate(all_pred)\n",
    "\n",
    "    # Compute competition metrics\n",
    "    # Binary classification: BFRB (1) vs non-BFRB (0)\n",
    "    binary_true = np.isin(all_true, BFRB_INDICES).astype(int)\n",
    "    binary_pred = np.isin(all_pred, BFRB_INDICES).astype(int)\n",
    "    eval_metrics[\"binary_f1\"] = f1_score(binary_true, binary_pred)\n",
    "\n",
    "    # Collapse non-BFRB gestures into a single class\n",
    "    collapsed_true = np.where(\n",
    "        np.isin(all_true, BFRB_INDICES),\n",
    "        all_true,\n",
    "        len(BFRB_GESTURES)  # Single non-BFRB class\n",
    "    )\n",
    "    collapsed_pred = np.where(\n",
    "        np.isin(all_pred, BFRB_INDICES),\n",
    "        all_pred,\n",
    "        len(BFRB_GESTURES)  # Single non-BFRB class\n",
    "    )\n",
    "\n",
    "    # Macro F1 on collapsed classes\n",
    "    eval_metrics[\"macro_f1\"] = f1_score(collapsed_true, collapsed_pred, average='macro')\n",
    "    eval_metrics[\"final_metric\"] = (eval_metrics[\"binary_f1\"] + eval_metrics[\"macro_f1\"]) / 2\n",
    "\n",
    "    return eval_metrics"
   ]
  },
  {
   "cell_type": "code",
   "execution_count": 18,
   "id": "02d96f8f",
   "metadata": {},
   "outputs": [],
   "source": [
    "def train_model_on_all_epochs(\n",
    "        model:nn.Module,\n",
    "        train_loader:DL,\n",
    "        validation_loader:DL,\n",
    "        criterion:callable,\n",
    "        optimizer:torch.optim.Optimizer,\n",
    "        scheduler:_LRScheduler,\n",
    "        fold:int,\n",
    "    ) -> DF:\n",
    "\n",
    "    metrics:list[dict] = []\n",
    "    # Early stopping\n",
    "    best_metric = -np.inf\n",
    "    best_binary_f1 = -np.inf\n",
    "    best_macro_f1 = -np.inf\n",
    "    epochs_no_improve = 0\n",
    "\n",
    "    for epoch in range(1, TRAINING_EPOCHS + 1):\n",
    "        train_metrics = train_model(model, train_loader, criterion, optimizer, scheduler)\n",
    "        validation_metrics = evaluate_model(model, validation_loader, criterion)\n",
    "        metrics.append({\"fold\": fold, \"epoch\": epoch} | train_metrics | validation_metrics)\n",
    "\n",
    "        print(f\"Epoch {epoch:02d}: Binary F1 = {validation_metrics['binary_f1']:.4f}, Macro F1 = {validation_metrics['macro_f1']:.4f}, Final Metric = {validation_metrics['final_metric']:.4f}\")\n",
    "\n",
    "        if validation_metrics[\"final_metric\"] > best_metric:\n",
    "            best_metric = validation_metrics[\"final_metric\"]\n",
    "            best_binary_f1 = validation_metrics[\"binary_f1\"]\n",
    "            best_macro_f1 = validation_metrics[\"macro_f1\"]\n",
    "            epochs_no_improve = 0\n",
    "            best_model_state = model.state_dict()\n",
    "            print(f\"  New best metric! Saving model...\")\n",
    "        else:\n",
    "            epochs_no_improve += 1\n",
    "            if epochs_no_improve >= PATIENCE:\n",
    "                print(f\"Early stopping triggered at epoch {epoch}\")\n",
    "                model.load_state_dict(best_model_state)\n",
    "                break\n",
    "\n",
    "    torch.save(best_model_state, f\"best_model_fold{fold}.pth\")\n",
    "\n",
    "    return DF.from_records(metrics).set_index([\"fold\", \"epoch\"])"
   ]
  },
  {
   "cell_type": "code",
   "execution_count": 19,
   "id": "941ea005",
   "metadata": {
    "execution": {
     "iopub.execute_input": "2025-08-02T11:26:30.326271Z",
     "iopub.status.busy": "2025-08-02T11:26:30.326049Z",
     "iopub.status.idle": "2025-08-02T11:26:30.343798Z",
     "shell.execute_reply": "2025-08-02T11:26:30.343286Z"
    },
    "jupyter": {
     "source_hidden": true
    },
    "papermill": {
     "duration": 0.027971,
     "end_time": "2025-08-02T11:26:30.344749",
     "exception": false,
     "start_time": "2025-08-02T11:26:30.316778",
     "status": "completed"
    },
    "tags": []
   },
   "outputs": [],
   "source": [
    "def train_on_all_folds(lr_scheduler_kw:dict, optimizer_kw:dict) -> tuple[float, DF]:\n",
    "    seed_everything(seed=SEED)\n",
    "\n",
    "    metrics:DF = DF()\n",
    "\n",
    "    for fold in range(NB_CROSS_VALIDATIONS):\n",
    "        seed_everything(seed=SEED + fold)\n",
    "        # Debugging\n",
    "        print(f\"\\n{'='*50}\")\n",
    "        print(\"training:\", fold + 1)\n",
    "        train_dataset = CMIDataset(SEQ_PAD_TRUNC_MODE, f\"fold_{fold}\", \"train\")\n",
    "        print(f\"Fold {fold + 1}/{NB_CROSS_VALIDATIONS}\")\n",
    "        criterion = torch.nn.CrossEntropyLoss(label_smoothing=0.1)\n",
    "        train_loader = DL(train_dataset, TRAIN_BATCH_SIZE, shuffle=True, drop_last=True)\n",
    "        validation_dataset = CMIDataset(SEQ_PAD_TRUNC_MODE, f\"fold_{fold}\", \"validation\")\n",
    "        validation_loader = DL(validation_dataset, VALIDATION_BATCH_SIZE, shuffle=False, drop_last=True)\n",
    "\n",
    "        model = mk_model(train_dataset.tensors[0])\n",
    "\n",
    "        # Optimizer et scheduler\n",
    "        # min_lr = max_lr / 100\n",
    "        optimizer = torch.optim.AdamW(\n",
    "            model.parameters(),\n",
    "            WARMUP_LR_INIT,\n",
    "            weight_decay=optimizer_kw[\"weight_decay\"],\n",
    "            betas=(optimizer_kw[\"beta_0\"], optimizer_kw[\"beta_1\"]),\n",
    "        )\n",
    "        steps_per_epoch = len(train_loader)\n",
    "        scheduler = CosineAnnealingWarmupRestarts(\n",
    "            optimizer,\n",
    "            warmup_steps=lr_scheduler_kw[\"warmup_epochs\"] * steps_per_epoch,\n",
    "            cycle_mult=lr_scheduler_kw[\"cycle_mult\"],\n",
    "            max_lr=lr_scheduler_kw[\"max_lr\"],\n",
    "            min_lr=lr_scheduler_kw[\"max_lr\"] / lr_scheduler_kw[\"max_to_min_div_factor\"],\n",
    "            cycle_length=lr_scheduler_kw[\"init_cycle_epochs\"] * steps_per_epoch,\n",
    "            gamma=lr_scheduler_kw[\"lr_cycle_factor\"],\n",
    "        ) \n",
    "        fold_metrics = train_model_on_all_epochs(\n",
    "            model,\n",
    "            train_loader,\n",
    "            validation_loader,\n",
    "            criterion,\n",
    "            optimizer,\n",
    "            scheduler,\n",
    "            fold,\n",
    "        )\n",
    "        # Free memory used by datasets and data loaders\n",
    "        del train_dataset\n",
    "        del validation_dataset\n",
    "        del train_loader\n",
    "        del validation_loader\n",
    "        gc.collect()\n",
    "        torch.cuda.empty_cache()\n",
    "\n",
    "        best_fold_metrics = fold_metrics.loc[fold_metrics[\"final_metric\"].idxmax()]\n",
    "        final_fold_metrics = fold_metrics.iloc[-1]\n",
    "        print(f\"Best  validation metrics - Binary F1: {best_fold_metrics['binary_f1']:.4f}, Macro F1: {best_fold_metrics['macro_f1']:.4f}, Final: {best_fold_metrics['final_metric']:.4f}\")\n",
    "        print(f\"Final validation metrics - Binary F1: {final_fold_metrics['binary_f1']:.4f}, Macro F1: {final_fold_metrics['macro_f1']:.4f}, Final: {final_fold_metrics['final_metric']:.4f}\")\n",
    "\n",
    "        metrics = pd.concat((metrics, fold_metrics))\n",
    "\n",
    "    print(\"\\n\" + \"=\"*50)\n",
    "    print(\"Cross-Validation Results\")\n",
    "    print(\"=\"*50)\n",
    "\n",
    "    # Statistiques pour les meilleures métriques\n",
    "    best_metrics:DF = (\n",
    "        metrics\n",
    "        .loc[:, [\"binary_f1\", \"macro_f1\", \"final_metric\"]]\n",
    "        .groupby(level=0)\n",
    "        .max()\n",
    "    )\n",
    "\n",
    "    print(\"\\nBest Fold-wise Metrics:\")\n",
    "    display(best_metrics)\n",
    "    \n",
    "    print(\"\\nGlobal Statistics (Best Metrics):\")\n",
    "    print(f\"Mean Best Final Metric: {best_metrics['final_metric'].mean():.4f} ± {best_metrics['final_metric'].std():.4f}\")\n",
    "    print(f\"Mean Best Binary F1: {best_metrics['binary_f1'].mean():.4f} ± {best_metrics['binary_f1'].std():.4f}\")\n",
    "    print(f\"Mean Best Macro F1: {best_metrics['macro_f1'].mean():.4f} ± {best_metrics['macro_f1'].std():.4f}\")\n",
    "    \n",
    "    return best_metrics[\"final_metric\"].mean(), metrics"
   ]
  },
  {
   "cell_type": "code",
   "execution_count": null,
   "id": "d0936698",
   "metadata": {
    "execution": {
     "iopub.execute_input": "2025-08-02T11:26:30.385055Z",
     "iopub.status.busy": "2025-08-02T11:26:30.384637Z",
     "iopub.status.idle": "2025-08-02T11:33:13.504786Z",
     "shell.execute_reply": "2025-08-02T11:33:13.503986Z"
    },
    "papermill": {
     "duration": 403.130501,
     "end_time": "2025-08-02T11:33:13.506236",
     "exception": false,
     "start_time": "2025-08-02T11:26:30.375735",
     "status": "completed"
    },
    "tags": []
   },
   "outputs": [
    {
     "name": "stdout",
     "output_type": "stream",
     "text": [
      "\n",
      "==================================================\n",
      "training: 1\n",
      "Fold 1/5\n",
      "Epoch 01: Binary F1 = 0.7711, Macro F1 = 0.2216, Final Metric = 0.4964\n",
      "  New best metric! Saving model...\n",
      "Epoch 02: Binary F1 = 0.8970, Macro F1 = 0.2517, Final Metric = 0.5744\n",
      "  New best metric! Saving model...\n",
      "Epoch 03: Binary F1 = 0.9376, Macro F1 = 0.4043, Final Metric = 0.6710\n",
      "  New best metric! Saving model...\n",
      "Epoch 04: Binary F1 = 0.9153, Macro F1 = 0.4244, Final Metric = 0.6698\n",
      "Epoch 05: Binary F1 = 0.9160, Macro F1 = 0.4560, Final Metric = 0.6860\n",
      "  New best metric! Saving model...\n",
      "Epoch 06: Binary F1 = 0.9369, Macro F1 = 0.4617, Final Metric = 0.6993\n",
      "  New best metric! Saving model...\n",
      "Epoch 07: Binary F1 = 0.9497, Macro F1 = 0.4378, Final Metric = 0.6937\n",
      "Epoch 08: Binary F1 = 0.9397, Macro F1 = 0.4748, Final Metric = 0.7072\n",
      "  New best metric! Saving model...\n",
      "Epoch 09: Binary F1 = 0.9490, Macro F1 = 0.4746, Final Metric = 0.7118\n",
      "  New best metric! Saving model...\n",
      "Epoch 10: Binary F1 = 0.9549, Macro F1 = 0.4830, Final Metric = 0.7190\n",
      "  New best metric! Saving model...\n",
      "Epoch 11: Binary F1 = 0.9674, Macro F1 = 0.5604, Final Metric = 0.7639\n",
      "  New best metric! Saving model...\n",
      "Epoch 12: Binary F1 = 0.9713, Macro F1 = 0.5632, Final Metric = 0.7673\n",
      "  New best metric! Saving model...\n",
      "Epoch 13: Binary F1 = 0.9697, Macro F1 = 0.5816, Final Metric = 0.7757\n",
      "  New best metric! Saving model...\n",
      "Epoch 14: Binary F1 = 0.9558, Macro F1 = 0.5516, Final Metric = 0.7537\n",
      "Epoch 15: Binary F1 = 0.9658, Macro F1 = 0.5567, Final Metric = 0.7612\n",
      "Epoch 16: Binary F1 = 0.9722, Macro F1 = 0.5875, Final Metric = 0.7798\n",
      "  New best metric! Saving model...\n",
      "Epoch 17: Binary F1 = 0.9681, Macro F1 = 0.5847, Final Metric = 0.7764\n",
      "Epoch 18: Binary F1 = 0.9594, Macro F1 = 0.5743, Final Metric = 0.7669\n",
      "Epoch 19: Binary F1 = 0.9696, Macro F1 = 0.5836, Final Metric = 0.7766\n",
      "Epoch 20: Binary F1 = 0.9690, Macro F1 = 0.5844, Final Metric = 0.7767\n",
      "Epoch 21: Binary F1 = 0.9675, Macro F1 = 0.5905, Final Metric = 0.7790\n",
      "Epoch 22: Binary F1 = 0.9681, Macro F1 = 0.5903, Final Metric = 0.7792\n",
      "Epoch 23: Binary F1 = 0.9672, Macro F1 = 0.5902, Final Metric = 0.7787\n",
      "Epoch 24: Binary F1 = 0.9704, Macro F1 = 0.5822, Final Metric = 0.7763\n",
      "Early stopping triggered at epoch 24\n",
      "Best  validation metrics - Binary F1: 0.9722, Macro F1: 0.5875, Final: 0.7798\n",
      "Final validation metrics - Binary F1: 0.9704, Macro F1: 0.5822, Final: 0.7763\n",
      "\n",
      "==================================================\n",
      "training: 2\n",
      "Fold 2/5\n",
      "Epoch 01: Binary F1 = 0.7914, Macro F1 = 0.2162, Final Metric = 0.5038\n",
      "  New best metric! Saving model...\n",
      "Epoch 02: Binary F1 = 0.9102, Macro F1 = 0.3213, Final Metric = 0.6157\n",
      "  New best metric! Saving model...\n",
      "Epoch 03: Binary F1 = 0.9138, Macro F1 = 0.3796, Final Metric = 0.6467\n",
      "  New best metric! Saving model...\n",
      "Epoch 04: Binary F1 = 0.8650, Macro F1 = 0.4200, Final Metric = 0.6425\n",
      "Epoch 05: Binary F1 = 0.9505, Macro F1 = 0.4602, Final Metric = 0.7053\n",
      "  New best metric! Saving model...\n",
      "Epoch 06: Binary F1 = 0.9134, Macro F1 = 0.4156, Final Metric = 0.6645\n",
      "Epoch 07: Binary F1 = 0.9485, Macro F1 = 0.4739, Final Metric = 0.7112\n",
      "  New best metric! Saving model...\n",
      "Epoch 08: Binary F1 = 0.9627, Macro F1 = 0.5087, Final Metric = 0.7357\n",
      "  New best metric! Saving model...\n",
      "Epoch 09: Binary F1 = 0.9298, Macro F1 = 0.5014, Final Metric = 0.7156\n",
      "Epoch 10: Binary F1 = 0.9580, Macro F1 = 0.5358, Final Metric = 0.7469\n",
      "  New best metric! Saving model...\n",
      "Epoch 11: Binary F1 = 0.9628, Macro F1 = 0.5311, Final Metric = 0.7470\n",
      "  New best metric! Saving model...\n",
      "Epoch 12: Binary F1 = 0.9719, Macro F1 = 0.5738, Final Metric = 0.7728\n",
      "  New best metric! Saving model...\n",
      "Epoch 13: Binary F1 = 0.9710, Macro F1 = 0.5760, Final Metric = 0.7735\n",
      "  New best metric! Saving model...\n",
      "Epoch 14: Binary F1 = 0.9586, Macro F1 = 0.5628, Final Metric = 0.7607\n",
      "Epoch 15: Binary F1 = 0.9673, Macro F1 = 0.5695, Final Metric = 0.7684\n",
      "Epoch 16: Binary F1 = 0.9653, Macro F1 = 0.5868, Final Metric = 0.7760\n",
      "  New best metric! Saving model...\n",
      "Epoch 17: Binary F1 = 0.9653, Macro F1 = 0.5998, Final Metric = 0.7826\n",
      "  New best metric! Saving model...\n",
      "Epoch 18: Binary F1 = 0.9613, Macro F1 = 0.5874, Final Metric = 0.7743\n",
      "Epoch 19: Binary F1 = 0.9637, Macro F1 = 0.5767, Final Metric = 0.7702\n",
      "Epoch 20: Binary F1 = 0.9630, Macro F1 = 0.5957, Final Metric = 0.7793\n",
      "Epoch 21: Binary F1 = 0.9695, Macro F1 = 0.6055, Final Metric = 0.7875\n",
      "  New best metric! Saving model...\n",
      "Epoch 22: Binary F1 = 0.9742, Macro F1 = 0.6047, Final Metric = 0.7895\n",
      "  New best metric! Saving model...\n",
      "Epoch 23: Binary F1 = 0.9703, Macro F1 = 0.5954, Final Metric = 0.7829\n",
      "Epoch 24: Binary F1 = 0.9670, Macro F1 = 0.5965, Final Metric = 0.7817\n",
      "Epoch 25: Binary F1 = 0.9710, Macro F1 = 0.5993, Final Metric = 0.7851\n",
      "Best  validation metrics - Binary F1: 0.9742, Macro F1: 0.6047, Final: 0.7895\n",
      "Final validation metrics - Binary F1: 0.9710, Macro F1: 0.5993, Final: 0.7851\n",
      "\n",
      "==================================================\n",
      "training: 3\n",
      "Fold 3/5\n",
      "Epoch 01: Binary F1 = 0.7565, Macro F1 = 0.1284, Final Metric = 0.4424\n",
      "  New best metric! Saving model...\n",
      "Epoch 02: Binary F1 = 0.8871, Macro F1 = 0.2708, Final Metric = 0.5790\n",
      "  New best metric! Saving model...\n",
      "Epoch 03: Binary F1 = 0.8902, Macro F1 = 0.3583, Final Metric = 0.6242\n",
      "  New best metric! Saving model...\n",
      "Epoch 04: Binary F1 = 0.9058, Macro F1 = 0.4026, Final Metric = 0.6542\n",
      "  New best metric! Saving model...\n",
      "Epoch 05: Binary F1 = 0.9216, Macro F1 = 0.3746, Final Metric = 0.6481\n",
      "Epoch 06: Binary F1 = 0.9282, Macro F1 = 0.3441, Final Metric = 0.6361\n",
      "Epoch 07: Binary F1 = 0.9277, Macro F1 = 0.4142, Final Metric = 0.6709\n",
      "  New best metric! Saving model...\n",
      "Epoch 08: Binary F1 = 0.9232, Macro F1 = 0.4532, Final Metric = 0.6882\n",
      "  New best metric! Saving model...\n",
      "Epoch 09: Binary F1 = 0.9307, Macro F1 = 0.3893, Final Metric = 0.6600\n",
      "Epoch 10: Binary F1 = 0.9405, Macro F1 = 0.4840, Final Metric = 0.7123\n",
      "  New best metric! Saving model...\n",
      "Epoch 11: Binary F1 = 0.9467, Macro F1 = 0.5199, Final Metric = 0.7333\n",
      "  New best metric! Saving model...\n",
      "Epoch 12: Binary F1 = 0.9506, Macro F1 = 0.5441, Final Metric = 0.7474\n",
      "  New best metric! Saving model...\n",
      "Epoch 13: Binary F1 = 0.9482, Macro F1 = 0.5400, Final Metric = 0.7441\n",
      "Epoch 14: Binary F1 = 0.9408, Macro F1 = 0.5102, Final Metric = 0.7255\n",
      "Epoch 15: Binary F1 = 0.9393, Macro F1 = 0.5297, Final Metric = 0.7345\n",
      "Epoch 16: Binary F1 = 0.9540, Macro F1 = 0.5575, Final Metric = 0.7557\n",
      "  New best metric! Saving model...\n",
      "Epoch 17: Binary F1 = 0.9554, Macro F1 = 0.5509, Final Metric = 0.7532\n",
      "Epoch 18: Binary F1 = 0.9574, Macro F1 = 0.5312, Final Metric = 0.7443\n",
      "Epoch 19: Binary F1 = 0.9545, Macro F1 = 0.5566, Final Metric = 0.7556\n",
      "Epoch 20: Binary F1 = 0.9530, Macro F1 = 0.5456, Final Metric = 0.7493\n",
      "Epoch 21: Binary F1 = 0.9511, Macro F1 = 0.5501, Final Metric = 0.7506\n",
      "Epoch 22: Binary F1 = 0.9536, Macro F1 = 0.5516, Final Metric = 0.7526\n",
      "Epoch 23: Binary F1 = 0.9506, Macro F1 = 0.5518, Final Metric = 0.7512\n",
      "Epoch 24: Binary F1 = 0.9529, Macro F1 = 0.5501, Final Metric = 0.7515\n",
      "Early stopping triggered at epoch 24\n",
      "Best  validation metrics - Binary F1: 0.9540, Macro F1: 0.5575, Final: 0.7557\n",
      "Final validation metrics - Binary F1: 0.9529, Macro F1: 0.5501, Final: 0.7515\n",
      "\n",
      "==================================================\n",
      "training: 4\n",
      "Fold 4/5\n",
      "Epoch 01: Binary F1 = 0.7839, Macro F1 = 0.2009, Final Metric = 0.4924\n",
      "  New best metric! Saving model...\n",
      "Epoch 02: Binary F1 = 0.9161, Macro F1 = 0.3388, Final Metric = 0.6274\n",
      "  New best metric! Saving model...\n",
      "Epoch 03: Binary F1 = 0.9358, Macro F1 = 0.4019, Final Metric = 0.6689\n",
      "  New best metric! Saving model...\n",
      "Epoch 04: Binary F1 = 0.9541, Macro F1 = 0.4390, Final Metric = 0.6965\n",
      "  New best metric! Saving model...\n",
      "Epoch 05: Binary F1 = 0.9502, Macro F1 = 0.4143, Final Metric = 0.6823\n",
      "Epoch 06: Binary F1 = 0.9441, Macro F1 = 0.5139, Final Metric = 0.7290\n",
      "  New best metric! Saving model...\n",
      "Epoch 07: Binary F1 = 0.9493, Macro F1 = 0.4687, Final Metric = 0.7090\n",
      "Epoch 08: Binary F1 = 0.9632, Macro F1 = 0.5362, Final Metric = 0.7497\n",
      "  New best metric! Saving model...\n",
      "Epoch 09: Binary F1 = 0.9557, Macro F1 = 0.5376, Final Metric = 0.7467\n",
      "Epoch 10: Binary F1 = 0.9662, Macro F1 = 0.5804, Final Metric = 0.7733\n",
      "  New best metric! Saving model...\n",
      "Epoch 11: Binary F1 = 0.9745, Macro F1 = 0.5864, Final Metric = 0.7804\n",
      "  New best metric! Saving model...\n",
      "Epoch 12: Binary F1 = 0.9721, Macro F1 = 0.6357, Final Metric = 0.8039\n",
      "  New best metric! Saving model...\n",
      "Epoch 13: Binary F1 = 0.9720, Macro F1 = 0.6248, Final Metric = 0.7984\n",
      "Epoch 14: Binary F1 = 0.9703, Macro F1 = 0.5901, Final Metric = 0.7802\n",
      "Epoch 15: Binary F1 = 0.9761, Macro F1 = 0.5975, Final Metric = 0.7868\n",
      "Epoch 16: Binary F1 = 0.9800, Macro F1 = 0.6490, Final Metric = 0.8145\n",
      "  New best metric! Saving model...\n",
      "Epoch 17: Binary F1 = 0.9768, Macro F1 = 0.6601, Final Metric = 0.8184\n",
      "  New best metric! Saving model...\n",
      "Epoch 18: Binary F1 = 0.9800, Macro F1 = 0.6586, Final Metric = 0.8193\n",
      "  New best metric! Saving model...\n",
      "Epoch 19: Binary F1 = 0.9707, Macro F1 = 0.6262, Final Metric = 0.7984\n",
      "Epoch 20: Binary F1 = 0.9760, Macro F1 = 0.6435, Final Metric = 0.8097\n",
      "Epoch 21: Binary F1 = 0.9768, Macro F1 = 0.6585, Final Metric = 0.8177\n"
     ]
    }
   ],
   "source": [
    "mean_best_cv_score, metrics = train_on_all_folds(\n",
    "        lr_scheduler_kw={\n",
    "            \"warmup_epochs\": 8,\n",
    "            \"cycle_mult\": 0.7994284370327427,\n",
    "            \"max_lr\": 0.005581907927062619,\n",
    "            \"max_to_min_div_factor\": 275.0,\n",
    "            \"init_cycle_epochs\": 5,\n",
    "            \"lr_cycle_factor\": 0.5033112105827083,\n",
    "        },\n",
    "        optimizer_kw={\n",
    "            \"weight_decay\": 0.0006702308864102119,\n",
    "            \"beta_0\": 0.9089203414971434,\n",
    "            \"beta_1\": 0.9969898035522793,\n",
    "    }\n",
    ")\n",
    "print(\"mean best CV:\", mean_best_cv_score)\n",
    "display(metrics)"
   ]
  },
  {
   "cell_type": "markdown",
   "id": "f9c55c18",
   "metadata": {},
   "source": [
    "## Hyperparameter tuning"
   ]
  },
  {
   "cell_type": "code",
   "execution_count": null,
   "id": "8f14d2b5",
   "metadata": {
    "execution": {
     "iopub.execute_input": "2025-08-02T11:26:30.362466Z",
     "iopub.status.busy": "2025-08-02T11:26:30.361893Z",
     "iopub.status.idle": "2025-08-02T11:26:30.366500Z",
     "shell.execute_reply": "2025-08-02T11:26:30.365927Z"
    },
    "jupyter": {
     "source_hidden": true
    },
    "papermill": {
     "duration": 0.014357,
     "end_time": "2025-08-02T11:26:30.367454",
     "exception": false,
     "start_time": "2025-08-02T11:26:30.353097",
     "status": "completed"
    },
    "tags": []
   },
   "outputs": [],
   "source": [
    "def objective(trial: optuna.trial.Trial) -> float:\n",
    "    return train_on_all_folds(\n",
    "        lr_scheduler_kw={\n",
    "            \"warmup_epochs\": trial.suggest_int(\"warmup_epochs\", 1, 10),\n",
    "            \"cycle_mult\": trial.suggest_float(\"cycle_mult\", 0.5, 2),\n",
    "            \"max_lr\": trial.suggest_float(\"max_lr\", 0.005581907927062619 / 3, 0.005581907927062619 * 3),\n",
    "            \"max_to_min_div_factor\": trial.suggest_float(\"max_to_min_div_factor\", 100, 300, step=25),\n",
    "            \"init_cycle_epochs\": trial.suggest_int(\"init_cycle_epochs\", 2, 10),\n",
    "            \"lr_cycle_factor\": trial.suggest_float(\"lr_cycle_factor\", 0.3, 1),\n",
    "        },\n",
    "        optimizer_kw={\n",
    "            \"weight_decay\": trial.suggest_float(\"weight_decay\", 5e-4, 1e-3),\n",
    "            \"beta_0\":trial.suggest_float(\"beta_0\", 0.8, 0.999),\n",
    "            \"beta_1\":trial.suggest_float(\"beta_1\", 0.99, 0.9999),\n",
    "        }\n",
    "    )[0]"
   ]
  },
  {
   "cell_type": "code",
   "execution_count": null,
   "id": "df9ccf8c",
   "metadata": {
    "execution": {
     "iopub.execute_input": "2025-08-02T11:33:13.535922Z",
     "iopub.status.busy": "2025-08-02T11:33:13.535715Z",
     "iopub.status.idle": "2025-08-02T11:33:13.539697Z",
     "shell.execute_reply": "2025-08-02T11:33:13.538846Z"
    },
    "papermill": {
     "duration": 0.01955,
     "end_time": "2025-08-02T11:33:13.541052",
     "exception": false,
     "start_time": "2025-08-02T11:33:13.521502",
     "status": "completed"
    },
    "tags": []
   },
   "outputs": [],
   "source": [
    "# study = optuna.create_study(direction=\"maximize\")\n",
    "# study.optimize(objective, n_trials=100, timeout=60 * 60 * 2)\n",
    "\n",
    "# pruned_trials = study.get_trials(deepcopy=False, states=[TrialState.PRUNED])\n",
    "# complete_trials = study.get_trials(deepcopy=False, states=[TrialState.COMPLETE])\n",
    "\n",
    "# print(\"Study statistics: \")\n",
    "# print(\"  Number of finished trials: \", len(study.trials))\n",
    "# print(\"  Number of pruned trials: \", len(pruned_trials))\n",
    "# print(\"  Number of complete trials: \", len(complete_trials))\n",
    "\n",
    "# print(\"Best trial:\")\n",
    "# trial = study.best_trial\n",
    "\n",
    "# print(\"  Value: \", trial.value)\n",
    "\n",
    "# print(\"  Params: \")\n",
    "# for key, value in trial.params.items():\n",
    "#     print(\"    {}: {}\".format(key, value))"
   ]
  },
  {
   "cell_type": "markdown",
   "id": "ac2b2f05",
   "metadata": {
    "papermill": {
     "duration": 0.023297,
     "end_time": "2025-08-02T11:33:13.582486",
     "exception": false,
     "start_time": "2025-08-02T11:33:13.559189",
     "status": "completed"
    },
    "tags": []
   },
   "source": [
    "## Submission"
   ]
  },
  {
   "cell_type": "markdown",
   "id": "338e1e1b",
   "metadata": {
    "papermill": {
     "duration": 0.017349,
     "end_time": "2025-08-02T11:33:13.615231",
     "exception": false,
     "start_time": "2025-08-02T11:33:13.597882",
     "status": "completed"
    },
    "tags": []
   },
   "source": [
    "### Reloading best model"
   ]
  },
  {
   "cell_type": "code",
   "execution_count": null,
   "id": "2486858b",
   "metadata": {
    "execution": {
     "iopub.execute_input": "2025-08-02T11:33:13.644699Z",
     "iopub.status.busy": "2025-08-02T11:33:13.644430Z",
     "iopub.status.idle": "2025-08-02T11:33:13.934618Z",
     "shell.execute_reply": "2025-08-02T11:33:13.933984Z"
    },
    "papermill": {
     "duration": 0.305935,
     "end_time": "2025-08-02T11:33:13.935976",
     "exception": false,
     "start_time": "2025-08-02T11:33:13.630041",
     "status": "completed"
    },
    "tags": []
   },
   "outputs": [],
   "source": [
    "model_ensemble = []\n",
    "for fold in range(5):\n",
    "    train_dataset = CMIDataset(SEQ_PAD_TRUNC_MODE, f\"fold_{fold}\", \"train\")\n",
    "    model = mk_model(dataset_x=train_dataset.tensors[0])\n",
    "    checkpoint = torch.load(f\"best_model_fold{fold}.pth\", map_location=device, weights_only=True)\n",
    "    model.load_state_dict(checkpoint)\n",
    "    model.eval()\n",
    "    model_ensemble.append(model)"
   ]
  },
  {
   "cell_type": "markdown",
   "id": "6e6df209",
   "metadata": {
    "papermill": {
     "duration": 0.013789,
     "end_time": "2025-08-02T11:33:14.040022",
     "exception": false,
     "start_time": "2025-08-02T11:33:14.026233",
     "status": "completed"
    },
    "tags": []
   },
   "source": [
    "### Define prediction function"
   ]
  },
  {
   "cell_type": "code",
   "execution_count": null,
   "id": "95f9148b",
   "metadata": {
    "execution": {
     "iopub.execute_input": "2025-08-02T11:33:14.068055Z",
     "iopub.status.busy": "2025-08-02T11:33:14.067800Z",
     "iopub.status.idle": "2025-08-02T11:33:14.073586Z",
     "shell.execute_reply": "2025-08-02T11:33:14.072760Z"
    },
    "papermill": {
     "duration": 0.02134,
     "end_time": "2025-08-02T11:33:14.074819",
     "exception": false,
     "start_time": "2025-08-02T11:33:14.053479",
     "status": "completed"
    },
    "tags": []
   },
   "outputs": [],
   "source": [
    "def preprocess_sequence_at_inference(sequence_df:pl.DataFrame) -> ndarray:\n",
    "    return (\n",
    "        sequence_df                     \n",
    "        .to_pandas()                            # Convert to pandas dataframe.\n",
    "        .pipe(imputed_features)                 # Impute missing data.\n",
    "        .pipe(standardize_tof_cols_names)\n",
    "        .pipe(norm_quat_rotations)              # Norm quaternions\n",
    "        .pipe(add_linear_acc_cols)              # Add gravity free acceleration.\n",
    "        .pipe(add_acc_magnitude, RAW_ACCELRATION_COLS, \"acc_mag\")\n",
    "        .pipe(add_acc_magnitude, LINEAR_ACC_COLS, \"linear_acc_mag\")\n",
    "        .pipe(add_quat_angle_mag)\n",
    "        .pipe(add_angular_velocity_features)\n",
    "        .pipe(rot_euler_angles)                 # Add rotation acc expressed as euler angles.\n",
    "        .pipe(agg_tof_cols_per_sensor)          # Aggregate ToF columns.\n",
    "        .pipe(add_diff_features)                # \n",
    "        .loc[:, sorted(meta_data[\"feature_cols\"])]      # Retain only the usefull columns a.k.a features.\n",
    "        # .sub(meta_data[\"mean\"])                 # Subtract features by their mean, std norm pt.1.\n",
    "        # .div(meta_data[\"std\"])                  # Divide by Standard deviation, std norm pt.2.\n",
    "        .pipe(length_normed_sequence_feat_arr, meta_data[\"pad_seq_len\"], SEQ_PAD_TRUNC_MODE)  # get feature ndarray of sequence.\n",
    "        .T                                      # Transpose to swap channel and X dimensions.\n",
    "    )\n",
    "\n",
    "def predict(sequence: pl.DataFrame, _: pl.DataFrame) -> str:\n",
    "    \"\"\"\n",
    "    Kaggle evaluation API will call this for each sequence.\n",
    "    sequence: polars DataFrame for a single sequence\n",
    "    demographics: unused in this model\n",
    "    Returns: predicted gesture string\n",
    "    \"\"\"\n",
    "    x_tensor = (\n",
    "        torch.unsqueeze(Tensor(preprocess_sequence_at_inference(sequence)), dim=0)\n",
    "        .float()\n",
    "        .to(device)\n",
    "    )\n",
    "    print(x_tensor.shape)\n",
    "\n",
    "    all_outputs = []\n",
    "    with torch.no_grad():\n",
    "        for model_idx, model in enumerate(model_ensemble): # Only take the first one bc it's the only one that takes in the correct input shape\n",
    "            outputs = model(x_tensor)\n",
    "            all_outputs.append(outputs)\n",
    "\n",
    "    avg_outputs = torch.mean(torch.stack(all_outputs), dim=0)\n",
    "    pred_idx = torch.argmax(avg_outputs, dim=1).item()\n",
    "\n",
    "    return str(TARGET_NAMES[pred_idx])"
   ]
  },
  {
   "cell_type": "markdown",
   "id": "0ac4beee",
   "metadata": {
    "papermill": {
     "duration": 0.015954,
     "end_time": "2025-08-02T11:33:14.106655",
     "exception": false,
     "start_time": "2025-08-02T11:33:14.090701",
     "status": "completed"
    },
    "tags": []
   },
   "source": [
    "### Run inference server"
   ]
  },
  {
   "cell_type": "code",
   "execution_count": null,
   "id": "a5eebc2a",
   "metadata": {
    "execution": {
     "iopub.execute_input": "2025-08-02T11:33:14.139851Z",
     "iopub.status.busy": "2025-08-02T11:33:14.139570Z",
     "iopub.status.idle": "2025-08-02T11:33:16.046743Z",
     "shell.execute_reply": "2025-08-02T11:33:16.045996Z"
    },
    "papermill": {
     "duration": 1.924797,
     "end_time": "2025-08-02T11:33:16.047890",
     "exception": false,
     "start_time": "2025-08-02T11:33:14.123093",
     "status": "completed"
    },
    "tags": []
   },
   "outputs": [
    {
     "data": {
      "application/vnd.jupyter.widget-view+json": {
       "model_id": "d801d6790700477a8cef6d6d85a150e1",
       "version_major": 2,
       "version_minor": 0
      },
      "text/plain": [
       "  0%|          | 0/5 [00:00<?, ?it/s]"
      ]
     },
     "metadata": {},
     "output_type": "display_data"
    },
    {
     "name": "stdout",
     "output_type": "stream",
     "text": [
      "torch.Size([1, 946, 127])\n"
     ]
    },
    {
     "data": {
      "application/vnd.jupyter.widget-view+json": {
       "model_id": "94f3f14b6be441eabd739349c989e769",
       "version_major": 2,
       "version_minor": 0
      },
      "text/plain": [
       "  0%|          | 0/5 [00:00<?, ?it/s]"
      ]
     },
     "metadata": {},
     "output_type": "display_data"
    },
    {
     "name": "stdout",
     "output_type": "stream",
     "text": [
      "torch.Size([1, 946, 127])\n"
     ]
    }
   ],
   "source": [
    "inference_server = kaggle_evaluation.cmi_inference_server.CMIInferenceServer(predict)\n",
    "\n",
    "if os.getenv('KAGGLE_IS_COMPETITION_RERUN'):\n",
    "    inference_server.serve()\n",
    "else:\n",
    "    competition_dataset_path = competition_download(COMPETITION_HANDLE)\n",
    "    inference_server.run_local_gateway(\n",
    "        data_paths=(\n",
    "            join(competition_dataset_path, 'test.csv'),\n",
    "            join(competition_dataset_path, 'test_demographics.csv'),\n",
    "        )\n",
    "    )\n",
    "    inference_server = kaggle_evaluation.cmi_inference_server.CMIInferenceServer(predict)"
   ]
  }
 ],
 "metadata": {
  "kaggle": {
   "accelerator": "gpu",
   "dataSources": [
    {
     "databundleVersionId": 12518947,
     "isSourceIdPinned": false,
     "sourceId": 102335,
     "sourceType": "competition"
    },
    {
     "datasetId": 7827890,
     "sourceId": 12633323,
     "sourceType": "datasetVersion"
    },
    {
     "sourceId": 251413288,
     "sourceType": "kernelVersion"
    }
   ],
   "dockerImageVersionId": 31090,
   "isGpuEnabled": true,
   "isInternetEnabled": false,
   "language": "python",
   "sourceType": "notebook"
  },
  "kernelspec": {
   "display_name": "CMI",
   "language": "python",
   "name": "python3"
  },
  "language_info": {
   "codemirror_mode": {
    "name": "ipython",
    "version": 3
   },
   "file_extension": ".py",
   "mimetype": "text/x-python",
   "name": "python",
   "nbconvert_exporter": "python",
   "pygments_lexer": "ipython3",
   "version": "3.11.5"
  },
  "papermill": {
   "default_parameters": {},
   "duration": 520.311851,
   "end_time": "2025-08-02T11:33:18.085561",
   "environment_variables": {},
   "exception": null,
   "input_path": "__notebook__.ipynb",
   "output_path": "__notebook__.ipynb",
   "parameters": {},
   "start_time": "2025-08-02T11:24:37.773710",
   "version": "2.6.0"
  },
  "widgets": {
   "application/vnd.jupyter.widget-state+json": {
    "state": {
     "425cbf555f1849f7a521e356d70d429b": {
      "model_module": "@jupyter-widgets/base",
      "model_module_version": "2.0.0",
      "model_name": "LayoutModel",
      "state": {
       "_model_module": "@jupyter-widgets/base",
       "_model_module_version": "2.0.0",
       "_model_name": "LayoutModel",
       "_view_count": null,
       "_view_module": "@jupyter-widgets/base",
       "_view_module_version": "2.0.0",
       "_view_name": "LayoutView",
       "align_content": null,
       "align_items": null,
       "align_self": null,
       "border_bottom": null,
       "border_left": null,
       "border_right": null,
       "border_top": null,
       "bottom": null,
       "display": null,
       "flex": null,
       "flex_flow": null,
       "grid_area": null,
       "grid_auto_columns": null,
       "grid_auto_flow": null,
       "grid_auto_rows": null,
       "grid_column": null,
       "grid_gap": null,
       "grid_row": null,
       "grid_template_areas": null,
       "grid_template_columns": null,
       "grid_template_rows": null,
       "height": null,
       "justify_content": null,
       "justify_items": null,
       "left": null,
       "margin": null,
       "max_height": null,
       "max_width": null,
       "min_height": null,
       "min_width": null,
       "object_fit": null,
       "object_position": null,
       "order": null,
       "overflow": null,
       "padding": null,
       "right": null,
       "top": null,
       "visibility": null,
       "width": null
      }
     },
     "7f82f6965842469988401e5a9260b41f": {
      "model_module": "@jupyter-widgets/output",
      "model_module_version": "1.0.0",
      "model_name": "OutputModel",
      "state": {
       "_dom_classes": [],
       "_model_module": "@jupyter-widgets/output",
       "_model_module_version": "1.0.0",
       "_model_name": "OutputModel",
       "_view_count": null,
       "_view_module": "@jupyter-widgets/output",
       "_view_module_version": "1.0.0",
       "_view_name": "OutputView",
       "layout": "IPY_MODEL_425cbf555f1849f7a521e356d70d429b",
       "msg_id": "",
       "outputs": [
        {
         "data": {
          "text/html": "<pre style=\"white-space:pre;overflow-x:auto;line-height:normal;font-family:Menlo,'DejaVu Sans Mono',consolas,'Courier New',monospace\">epoch: 14, batch_loss: 1.06,  <span style=\"color: #f92672; text-decoration-color: #f92672\">━━━━━━━━━━━━━━━━━━━━━━━━━━━━━━━━━━━━━━╸</span><span style=\"color: #3a3a3a; text-decoration-color: #3a3a3a\">━</span> <span style=\"color: #800080; text-decoration-color: #800080\"> 97%</span> <span style=\"color: #008080; text-decoration-color: #008080\">0:00:00</span>\n</pre>\n",
          "text/plain": "epoch: 14, batch_loss: 1.06,  \u001b[38;2;249;38;114m━━━━━━━━━━━━━━━━━━━━━━━━━━━━━━━━━━━━━━\u001b[0m\u001b[38;2;249;38;114m╸\u001b[0m\u001b[38;5;237m━\u001b[0m \u001b[35m 97%\u001b[0m \u001b[36m0:00:00\u001b[0m\n"
         },
         "metadata": {},
         "output_type": "display_data"
        }
       ],
       "tabbable": null,
       "tooltip": null
      }
     }
    },
    "version_major": 2,
    "version_minor": 0
   }
  }
 },
 "nbformat": 4,
 "nbformat_minor": 5
}
