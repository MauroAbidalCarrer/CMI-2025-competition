{
 "cells": [
  {
   "cell_type": "markdown",
   "id": "7c1fbf88",
   "metadata": {},
   "source": [
    "# Dataset preprocessing\n",
    "\n",
    "The goal of this notebook is to create a preprocessed kaggle dataset out of the competition dataset.  \n",
    "For now, the preprocessing will be based on [this notebook](https://www.kaggle.com/code/vonmainstein/imu-tof).  \n",
    "It consists of the following steps:\n",
    "-   Set the appropriate dtypes (helps with RAM usage).\n",
    "-   Impute missing feature values with forward, backward and then 0 filling.\n",
    "-   Split the dataset into multiple cross validation folds.\n",
    "-   Standardize feature values.\n",
    "-   Pad/Truncate the sequences to the same length.  \n",
    "\n",
    "> Note:  \n",
    "> - Demographics data set will be ignored for now.  "
   ]
  },
  {
   "cell_type": "markdown",
   "id": "3e390dcd",
   "metadata": {},
   "source": [
    "## Setup"
   ]
  },
  {
   "cell_type": "markdown",
   "id": "67848297",
   "metadata": {},
   "source": [
    "### Imports"
   ]
  },
  {
   "cell_type": "code",
   "execution_count": 14,
   "id": "3b58565a",
   "metadata": {},
   "outputs": [],
   "source": [
    "import os\n",
    "import json\n",
    "import warnings\n",
    "from os.path import join\n",
    "from tqdm.notebook import tqdm\n",
    "from itertools import repeat, starmap\n",
    "\n",
    "import numpy as np\n",
    "import pandas as pd\n",
    "from numpy import ndarray\n",
    "import plotly.express as px\n",
    "from pandas import DataFrame as DF\n",
    "from scipy.spatial.transform import Rotation\n",
    "from kagglehub import whoami, competition_download, dataset_upload\n",
    "\n",
    "from config import *"
   ]
  },
  {
   "cell_type": "markdown",
   "id": "2102ea8c",
   "metadata": {},
   "source": [
    "### Supress performance warngings"
   ]
  },
  {
   "cell_type": "code",
   "execution_count": 15,
   "id": "fb820d2b",
   "metadata": {},
   "outputs": [],
   "source": [
    "warnings.filterwarnings(\n",
    "    \"ignore\",\n",
    "    message=(\n",
    "        \"DataFrame is highly fragmented.  This is usually the result of \"\n",
    "        \"calling `frame.insert` many times.*\"\n",
    "    ),\n",
    "    category=pd.errors.PerformanceWarning,\n",
    ")"
   ]
  },
  {
   "cell_type": "markdown",
   "id": "f27f6677",
   "metadata": {},
   "source": [
    "### Define function to get the feature columns\n",
    "Feature columns change over time so it's better to have a function to get them than manually update a variable every time we add/remove features."
   ]
  },
  {
   "cell_type": "code",
   "execution_count": 16,
   "id": "e2db0953",
   "metadata": {},
   "outputs": [],
   "source": [
    "def get_feature_cols(df:DF) -> list[str]:\n",
    "    return list(set(df.columns) - set(META_DATA_COLUMNS) - set(df[\"gesture\"].unique().tolist()))"
   ]
  },
  {
   "cell_type": "markdown",
   "id": "c1924ec0",
   "metadata": {},
   "source": [
    "## Data preprocessing"
   ]
  },
  {
   "cell_type": "markdown",
   "id": "1b3b38be",
   "metadata": {},
   "source": [
    "### Load dataset\n",
    "Requires to be logged in if this notebook is not running on kaggle, go to [your settings](https://www.kaggle.com/settings) to create an access token and put it in `~/.kaggle/`."
   ]
  },
  {
   "cell_type": "code",
   "execution_count": null,
   "id": "a0bb6cf4",
   "metadata": {},
   "outputs": [],
   "source": [
    "competition_dataset_path = competition_download(COMPETITION_HANDLE)\n",
    "df = pd.read_csv(join(competition_dataset_path, \"train.csv\"), dtype=DATASET_DF_DTYPES)"
   ]
  },
  {
   "cell_type": "markdown",
   "id": "7aea88de",
   "metadata": {},
   "source": [
    "### Impute missing data\n",
    "Perform forward, backward and then filling of all NaN sequences."
   ]
  },
  {
   "cell_type": "code",
   "execution_count": null,
   "id": "c2f0db28",
   "metadata": {},
   "outputs": [],
   "source": [
    "# Missing ToF values are already imputed by -1 which is inconvinient since we want all missing values to be NaN.    \n",
    "# So we replace them by NaN and then perform imputing.\n",
    "tof_vals_to_nan = {col: -1.0 for col in df.columns if col.startswith(\"tof\")}\n",
    "fillna_val_per_col = {col: 1.0 if col == 'rot_w' else 0 for col in df.columns}\n",
    "\n",
    "def imputed_features(df:DF) -> DF:\n",
    "    # Missing ToF values are already imputed by -1 which is inconvinient since we want all missing values to be NaN.    \n",
    "    # So we replace them by NaN and then perform imputing.  \n",
    "    tof_vals_to_nan = {col: -1.0 for col in df.columns if col.startswith(\"tof\")}\n",
    "    fillna_val_per_col = {col: 1.0 if col == 'rot_w' else 0 for col in df.columns}\n",
    "\n",
    "    df[get_feature_cols(df)] = (\n",
    "        df\n",
    "        .loc[:, get_feature_cols(df)]\n",
    "        # df.replace with np.nan sets dtype to floar64 so we set it back to float32\n",
    "        .replace(tof_vals_to_nan, value=np.nan)\n",
    "        .astype(\"float32\")\n",
    "        .groupby(df[\"sequence_id\"], observed=True, as_index=False)\n",
    "        .ffill()\n",
    "        .groupby(df[\"sequence_id\"], observed=True, as_index=False)\n",
    "        .bfill()\n",
    "        # In case there are only nan in the column in the sequence\n",
    "        .fillna(fillna_val_per_col)\n",
    "    )\n",
    "    return df\n",
    "\n",
    "df = imputed_features(df)"
   ]
  },
  {
   "cell_type": "markdown",
   "id": "ad044a52",
   "metadata": {},
   "source": [
    "### Norm quaternions\n",
    "This allows us to parse quaternions with `scipy.spatial.transform.Rotation`."
   ]
  },
  {
   "cell_type": "code",
   "execution_count": null,
   "id": "c99bce0b",
   "metadata": {},
   "outputs": [],
   "source": [
    "QUATERNION_COLS = ['rot_w', 'rot_x', 'rot_y', 'rot_z']\n",
    "def norm_quat_rotations(df:DF) -> DF:\n",
    "    df[QUATERNION_COLS] /= np.linalg.norm(df[QUATERNION_COLS], axis=1, keepdims=True)\n",
    "    return df"
   ]
  },
  {
   "cell_type": "markdown",
   "id": "606a87c4",
   "metadata": {},
   "source": [
    "### Add gravity free acceleration features"
   ]
  },
  {
   "cell_type": "code",
   "execution_count": null,
   "id": "5d87de25",
   "metadata": {},
   "outputs": [
    {
     "data": {
      "text/plain": [
       "tof_3_v43    float32\n",
       "tof_3_v46    float32\n",
       "tof_4_v25    float32\n",
       "tof_4_v29    float32\n",
       "tof_1_v56    float32\n",
       "              ...   \n",
       "tof_1_v40    float32\n",
       "tof_3_v49    float32\n",
       "tof_3_v23    float32\n",
       "tof_3_v26    float32\n",
       "tof_5_v1     float32\n",
       "Length: 335, dtype: object"
      ]
     },
     "execution_count": 7,
     "metadata": {},
     "output_type": "execute_result"
    }
   ],
   "source": [
    "GRAVITY_WORLD = np.array([0, 0, 9.81], \"float32\")\n",
    "ACCELRATION_COLS = [\"acc_x\", \"acc_y\", \"acc_z\"]\n",
    "GRAVITY_FREE_ACC_COLS = [\"gravity_free_\" + col for col in ACCELRATION_COLS]\n",
    "def add_gravity_free_acc_cols(df:DF) -> DF:\n",
    "    # Vectorized version of https://www.kaggle.com/code/wasupandceacar/lb-0-82-5fold-single-bert-model#Dataset `remove_gravity_from_acc`\n",
    "    rotations:Rotation = Rotation.from_quat(df[QUATERNION_COLS])\n",
    "    gravity_sensor_frame = rotations.apply(GRAVITY_WORLD, inverse=True).astype(\"float32\")\n",
    "    df[GRAVITY_FREE_ACC_COLS] = df[ACCELRATION_COLS] - gravity_sensor_frame\n",
    "    return df\n",
    "\n",
    "df = add_gravity_free_acc_cols(df)\n",
    "df[get_feature_cols(df)].dtypes"
   ]
  },
  {
   "cell_type": "markdown",
   "id": "6ae43d1a",
   "metadata": {},
   "source": [
    "### Euler angles from quaternions"
   ]
  },
  {
   "cell_type": "code",
   "execution_count": null,
   "id": "c99bce0b",
   "metadata": {},
   "outputs": [],
   "source": [
    "EULER_ANGLES_COLS = [\"euler_x\", \"euler_y\", \"euler_z\"]\n",
    "def rot_euler_angles(df:DF) -> ndarray:\n",
    "    df[EULER_ANGLES_COLS] = (\n",
    "        Rotation\n",
    "        .from_quat(df[QUATERNION_COLS])\n",
    "        .as_euler(\"xyz\")\n",
    "        .squeeze()\n",
    "    )\n",
    "    return df\n",
    "\n",
    "df = rot_euler_angles(df)"
   ]
  },
  {
   "cell_type": "markdown",
   "id": "18979983",
   "metadata": {},
   "source": [
    "### One hot encode target values."
   ]
  },
  {
   "cell_type": "code",
   "execution_count": null,
   "id": "05661625",
   "metadata": {},
   "outputs": [
    {
     "data": {
      "text/html": [
       "<div>\n",
       "<style scoped>\n",
       "    .dataframe tbody tr th:only-of-type {\n",
       "        vertical-align: middle;\n",
       "    }\n",
       "\n",
       "    .dataframe tbody tr th {\n",
       "        vertical-align: top;\n",
       "    }\n",
       "\n",
       "    .dataframe thead th {\n",
       "        text-align: right;\n",
       "    }\n",
       "</style>\n",
       "<table border=\"1\" class=\"dataframe\">\n",
       "  <thead>\n",
       "    <tr style=\"text-align: right;\">\n",
       "      <th></th>\n",
       "      <th>row_id</th>\n",
       "      <th>sequence_type</th>\n",
       "      <th>sequence_id</th>\n",
       "      <th>sequence_counter</th>\n",
       "      <th>subject</th>\n",
       "      <th>orientation</th>\n",
       "      <th>behavior</th>\n",
       "      <th>phase</th>\n",
       "      <th>gesture</th>\n",
       "      <th>acc_x</th>\n",
       "      <th>...</th>\n",
       "      <th>Neck - scratch</th>\n",
       "      <th>Text on phone</th>\n",
       "      <th>Wave hello</th>\n",
       "      <th>Write name in air</th>\n",
       "      <th>Write name on leg</th>\n",
       "      <th>Drink from bottle/cup</th>\n",
       "      <th>Pinch knee/leg skin</th>\n",
       "      <th>Pull air toward your face</th>\n",
       "      <th>Scratch knee/leg skin</th>\n",
       "      <th>Glasses on/off</th>\n",
       "    </tr>\n",
       "  </thead>\n",
       "  <tbody>\n",
       "    <tr>\n",
       "      <th>0</th>\n",
       "      <td>SEQ_000007_000000</td>\n",
       "      <td>Target</td>\n",
       "      <td>SEQ_000007</td>\n",
       "      <td>0</td>\n",
       "      <td>SUBJ_059520</td>\n",
       "      <td>Seated Lean Non Dom - FACE DOWN</td>\n",
       "      <td>Relaxes and moves hand to target location</td>\n",
       "      <td>Transition</td>\n",
       "      <td>Cheek - pinch skin</td>\n",
       "      <td>6.683594</td>\n",
       "      <td>...</td>\n",
       "      <td>False</td>\n",
       "      <td>False</td>\n",
       "      <td>False</td>\n",
       "      <td>False</td>\n",
       "      <td>False</td>\n",
       "      <td>False</td>\n",
       "      <td>False</td>\n",
       "      <td>False</td>\n",
       "      <td>False</td>\n",
       "      <td>False</td>\n",
       "    </tr>\n",
       "    <tr>\n",
       "      <th>1</th>\n",
       "      <td>SEQ_000007_000001</td>\n",
       "      <td>Target</td>\n",
       "      <td>SEQ_000007</td>\n",
       "      <td>1</td>\n",
       "      <td>SUBJ_059520</td>\n",
       "      <td>Seated Lean Non Dom - FACE DOWN</td>\n",
       "      <td>Relaxes and moves hand to target location</td>\n",
       "      <td>Transition</td>\n",
       "      <td>Cheek - pinch skin</td>\n",
       "      <td>6.949219</td>\n",
       "      <td>...</td>\n",
       "      <td>False</td>\n",
       "      <td>False</td>\n",
       "      <td>False</td>\n",
       "      <td>False</td>\n",
       "      <td>False</td>\n",
       "      <td>False</td>\n",
       "      <td>False</td>\n",
       "      <td>False</td>\n",
       "      <td>False</td>\n",
       "      <td>False</td>\n",
       "    </tr>\n",
       "    <tr>\n",
       "      <th>2</th>\n",
       "      <td>SEQ_000007_000002</td>\n",
       "      <td>Target</td>\n",
       "      <td>SEQ_000007</td>\n",
       "      <td>2</td>\n",
       "      <td>SUBJ_059520</td>\n",
       "      <td>Seated Lean Non Dom - FACE DOWN</td>\n",
       "      <td>Relaxes and moves hand to target location</td>\n",
       "      <td>Transition</td>\n",
       "      <td>Cheek - pinch skin</td>\n",
       "      <td>5.722656</td>\n",
       "      <td>...</td>\n",
       "      <td>False</td>\n",
       "      <td>False</td>\n",
       "      <td>False</td>\n",
       "      <td>False</td>\n",
       "      <td>False</td>\n",
       "      <td>False</td>\n",
       "      <td>False</td>\n",
       "      <td>False</td>\n",
       "      <td>False</td>\n",
       "      <td>False</td>\n",
       "    </tr>\n",
       "    <tr>\n",
       "      <th>3</th>\n",
       "      <td>SEQ_000007_000003</td>\n",
       "      <td>Target</td>\n",
       "      <td>SEQ_000007</td>\n",
       "      <td>3</td>\n",
       "      <td>SUBJ_059520</td>\n",
       "      <td>Seated Lean Non Dom - FACE DOWN</td>\n",
       "      <td>Relaxes and moves hand to target location</td>\n",
       "      <td>Transition</td>\n",
       "      <td>Cheek - pinch skin</td>\n",
       "      <td>6.601562</td>\n",
       "      <td>...</td>\n",
       "      <td>False</td>\n",
       "      <td>False</td>\n",
       "      <td>False</td>\n",
       "      <td>False</td>\n",
       "      <td>False</td>\n",
       "      <td>False</td>\n",
       "      <td>False</td>\n",
       "      <td>False</td>\n",
       "      <td>False</td>\n",
       "      <td>False</td>\n",
       "    </tr>\n",
       "    <tr>\n",
       "      <th>4</th>\n",
       "      <td>SEQ_000007_000004</td>\n",
       "      <td>Target</td>\n",
       "      <td>SEQ_000007</td>\n",
       "      <td>4</td>\n",
       "      <td>SUBJ_059520</td>\n",
       "      <td>Seated Lean Non Dom - FACE DOWN</td>\n",
       "      <td>Relaxes and moves hand to target location</td>\n",
       "      <td>Transition</td>\n",
       "      <td>Cheek - pinch skin</td>\n",
       "      <td>5.566406</td>\n",
       "      <td>...</td>\n",
       "      <td>False</td>\n",
       "      <td>False</td>\n",
       "      <td>False</td>\n",
       "      <td>False</td>\n",
       "      <td>False</td>\n",
       "      <td>False</td>\n",
       "      <td>False</td>\n",
       "      <td>False</td>\n",
       "      <td>False</td>\n",
       "      <td>False</td>\n",
       "    </tr>\n",
       "    <tr>\n",
       "      <th>...</th>\n",
       "      <td>...</td>\n",
       "      <td>...</td>\n",
       "      <td>...</td>\n",
       "      <td>...</td>\n",
       "      <td>...</td>\n",
       "      <td>...</td>\n",
       "      <td>...</td>\n",
       "      <td>...</td>\n",
       "      <td>...</td>\n",
       "      <td>...</td>\n",
       "      <td>...</td>\n",
       "      <td>...</td>\n",
       "      <td>...</td>\n",
       "      <td>...</td>\n",
       "      <td>...</td>\n",
       "      <td>...</td>\n",
       "      <td>...</td>\n",
       "      <td>...</td>\n",
       "      <td>...</td>\n",
       "      <td>...</td>\n",
       "      <td>...</td>\n",
       "    </tr>\n",
       "    <tr>\n",
       "      <th>574940</th>\n",
       "      <td>SEQ_065531_000048</td>\n",
       "      <td>Non-Target</td>\n",
       "      <td>SEQ_065531</td>\n",
       "      <td>48</td>\n",
       "      <td>SUBJ_039498</td>\n",
       "      <td>Seated Lean Non Dom - FACE DOWN</td>\n",
       "      <td>Performs gesture</td>\n",
       "      <td>Gesture</td>\n",
       "      <td>Write name on leg</td>\n",
       "      <td>3.503906</td>\n",
       "      <td>...</td>\n",
       "      <td>False</td>\n",
       "      <td>False</td>\n",
       "      <td>False</td>\n",
       "      <td>False</td>\n",
       "      <td>True</td>\n",
       "      <td>False</td>\n",
       "      <td>False</td>\n",
       "      <td>False</td>\n",
       "      <td>False</td>\n",
       "      <td>False</td>\n",
       "    </tr>\n",
       "    <tr>\n",
       "      <th>574941</th>\n",
       "      <td>SEQ_065531_000049</td>\n",
       "      <td>Non-Target</td>\n",
       "      <td>SEQ_065531</td>\n",
       "      <td>49</td>\n",
       "      <td>SUBJ_039498</td>\n",
       "      <td>Seated Lean Non Dom - FACE DOWN</td>\n",
       "      <td>Performs gesture</td>\n",
       "      <td>Gesture</td>\n",
       "      <td>Write name on leg</td>\n",
       "      <td>3.773438</td>\n",
       "      <td>...</td>\n",
       "      <td>False</td>\n",
       "      <td>False</td>\n",
       "      <td>False</td>\n",
       "      <td>False</td>\n",
       "      <td>True</td>\n",
       "      <td>False</td>\n",
       "      <td>False</td>\n",
       "      <td>False</td>\n",
       "      <td>False</td>\n",
       "      <td>False</td>\n",
       "    </tr>\n",
       "    <tr>\n",
       "      <th>574942</th>\n",
       "      <td>SEQ_065531_000050</td>\n",
       "      <td>Non-Target</td>\n",
       "      <td>SEQ_065531</td>\n",
       "      <td>50</td>\n",
       "      <td>SUBJ_039498</td>\n",
       "      <td>Seated Lean Non Dom - FACE DOWN</td>\n",
       "      <td>Performs gesture</td>\n",
       "      <td>Gesture</td>\n",
       "      <td>Write name on leg</td>\n",
       "      <td>3.082031</td>\n",
       "      <td>...</td>\n",
       "      <td>False</td>\n",
       "      <td>False</td>\n",
       "      <td>False</td>\n",
       "      <td>False</td>\n",
       "      <td>True</td>\n",
       "      <td>False</td>\n",
       "      <td>False</td>\n",
       "      <td>False</td>\n",
       "      <td>False</td>\n",
       "      <td>False</td>\n",
       "    </tr>\n",
       "    <tr>\n",
       "      <th>574943</th>\n",
       "      <td>SEQ_065531_000051</td>\n",
       "      <td>Non-Target</td>\n",
       "      <td>SEQ_065531</td>\n",
       "      <td>51</td>\n",
       "      <td>SUBJ_039498</td>\n",
       "      <td>Seated Lean Non Dom - FACE DOWN</td>\n",
       "      <td>Performs gesture</td>\n",
       "      <td>Gesture</td>\n",
       "      <td>Write name on leg</td>\n",
       "      <td>3.964844</td>\n",
       "      <td>...</td>\n",
       "      <td>False</td>\n",
       "      <td>False</td>\n",
       "      <td>False</td>\n",
       "      <td>False</td>\n",
       "      <td>True</td>\n",
       "      <td>False</td>\n",
       "      <td>False</td>\n",
       "      <td>False</td>\n",
       "      <td>False</td>\n",
       "      <td>False</td>\n",
       "    </tr>\n",
       "    <tr>\n",
       "      <th>574944</th>\n",
       "      <td>SEQ_065531_000052</td>\n",
       "      <td>Non-Target</td>\n",
       "      <td>SEQ_065531</td>\n",
       "      <td>52</td>\n",
       "      <td>SUBJ_039498</td>\n",
       "      <td>Seated Lean Non Dom - FACE DOWN</td>\n",
       "      <td>Performs gesture</td>\n",
       "      <td>Gesture</td>\n",
       "      <td>Write name on leg</td>\n",
       "      <td>4.269531</td>\n",
       "      <td>...</td>\n",
       "      <td>False</td>\n",
       "      <td>False</td>\n",
       "      <td>False</td>\n",
       "      <td>False</td>\n",
       "      <td>True</td>\n",
       "      <td>False</td>\n",
       "      <td>False</td>\n",
       "      <td>False</td>\n",
       "      <td>False</td>\n",
       "      <td>False</td>\n",
       "    </tr>\n",
       "  </tbody>\n",
       "</table>\n",
       "<p>574945 rows × 365 columns</p>\n",
       "</div>"
      ],
      "text/plain": [
       "                   row_id sequence_type sequence_id  sequence_counter  \\\n",
       "0       SEQ_000007_000000        Target  SEQ_000007                 0   \n",
       "1       SEQ_000007_000001        Target  SEQ_000007                 1   \n",
       "2       SEQ_000007_000002        Target  SEQ_000007                 2   \n",
       "3       SEQ_000007_000003        Target  SEQ_000007                 3   \n",
       "4       SEQ_000007_000004        Target  SEQ_000007                 4   \n",
       "...                   ...           ...         ...               ...   \n",
       "574940  SEQ_065531_000048    Non-Target  SEQ_065531                48   \n",
       "574941  SEQ_065531_000049    Non-Target  SEQ_065531                49   \n",
       "574942  SEQ_065531_000050    Non-Target  SEQ_065531                50   \n",
       "574943  SEQ_065531_000051    Non-Target  SEQ_065531                51   \n",
       "574944  SEQ_065531_000052    Non-Target  SEQ_065531                52   \n",
       "\n",
       "            subject                      orientation  \\\n",
       "0       SUBJ_059520  Seated Lean Non Dom - FACE DOWN   \n",
       "1       SUBJ_059520  Seated Lean Non Dom - FACE DOWN   \n",
       "2       SUBJ_059520  Seated Lean Non Dom - FACE DOWN   \n",
       "3       SUBJ_059520  Seated Lean Non Dom - FACE DOWN   \n",
       "4       SUBJ_059520  Seated Lean Non Dom - FACE DOWN   \n",
       "...             ...                              ...   \n",
       "574940  SUBJ_039498  Seated Lean Non Dom - FACE DOWN   \n",
       "574941  SUBJ_039498  Seated Lean Non Dom - FACE DOWN   \n",
       "574942  SUBJ_039498  Seated Lean Non Dom - FACE DOWN   \n",
       "574943  SUBJ_039498  Seated Lean Non Dom - FACE DOWN   \n",
       "574944  SUBJ_039498  Seated Lean Non Dom - FACE DOWN   \n",
       "\n",
       "                                         behavior       phase  \\\n",
       "0       Relaxes and moves hand to target location  Transition   \n",
       "1       Relaxes and moves hand to target location  Transition   \n",
       "2       Relaxes and moves hand to target location  Transition   \n",
       "3       Relaxes and moves hand to target location  Transition   \n",
       "4       Relaxes and moves hand to target location  Transition   \n",
       "...                                           ...         ...   \n",
       "574940                           Performs gesture     Gesture   \n",
       "574941                           Performs gesture     Gesture   \n",
       "574942                           Performs gesture     Gesture   \n",
       "574943                           Performs gesture     Gesture   \n",
       "574944                           Performs gesture     Gesture   \n",
       "\n",
       "                   gesture     acc_x  ...  Neck - scratch  Text on phone  \\\n",
       "0       Cheek - pinch skin  6.683594  ...           False          False   \n",
       "1       Cheek - pinch skin  6.949219  ...           False          False   \n",
       "2       Cheek - pinch skin  5.722656  ...           False          False   \n",
       "3       Cheek - pinch skin  6.601562  ...           False          False   \n",
       "4       Cheek - pinch skin  5.566406  ...           False          False   \n",
       "...                    ...       ...  ...             ...            ...   \n",
       "574940   Write name on leg  3.503906  ...           False          False   \n",
       "574941   Write name on leg  3.773438  ...           False          False   \n",
       "574942   Write name on leg  3.082031  ...           False          False   \n",
       "574943   Write name on leg  3.964844  ...           False          False   \n",
       "574944   Write name on leg  4.269531  ...           False          False   \n",
       "\n",
       "        Wave hello  Write name in air  Write name on leg  \\\n",
       "0            False              False              False   \n",
       "1            False              False              False   \n",
       "2            False              False              False   \n",
       "3            False              False              False   \n",
       "4            False              False              False   \n",
       "...            ...                ...                ...   \n",
       "574940       False              False               True   \n",
       "574941       False              False               True   \n",
       "574942       False              False               True   \n",
       "574943       False              False               True   \n",
       "574944       False              False               True   \n",
       "\n",
       "        Drink from bottle/cup  Pinch knee/leg skin  Pull air toward your face  \\\n",
       "0                       False                False                      False   \n",
       "1                       False                False                      False   \n",
       "2                       False                False                      False   \n",
       "3                       False                False                      False   \n",
       "4                       False                False                      False   \n",
       "...                       ...                  ...                        ...   \n",
       "574940                  False                False                      False   \n",
       "574941                  False                False                      False   \n",
       "574942                  False                False                      False   \n",
       "574943                  False                False                      False   \n",
       "574944                  False                False                      False   \n",
       "\n",
       "        Scratch knee/leg skin  Glasses on/off  \n",
       "0                       False           False  \n",
       "1                       False           False  \n",
       "2                       False           False  \n",
       "3                       False           False  \n",
       "4                       False           False  \n",
       "...                       ...             ...  \n",
       "574940                  False           False  \n",
       "574941                  False           False  \n",
       "574942                  False           False  \n",
       "574943                  False           False  \n",
       "574944                  False           False  \n",
       "\n",
       "[574945 rows x 365 columns]"
      ]
     },
     "execution_count": 9,
     "metadata": {},
     "output_type": "execute_result"
    }
   ],
   "source": [
    "one_hot_target = pd.get_dummies(df[\"gesture\"])\n",
    "df[one_hot_target.columns] = one_hot_target\n",
    "df"
   ]
  },
  {
   "cell_type": "markdown",
   "id": "8812dc08",
   "metadata": {},
   "source": [
    "### ToF data aggregation.\n",
    "Time of Flight columns take most of the data, let's reduce their size by aggregating by mean for each Time of Flight sensor."
   ]
  },
  {
   "cell_type": "code",
   "execution_count": null,
   "id": "2b4f83f2",
   "metadata": {},
   "outputs": [
    {
     "data": {
      "text/html": [
       "<div>\n",
       "<style scoped>\n",
       "    .dataframe tbody tr th:only-of-type {\n",
       "        vertical-align: middle;\n",
       "    }\n",
       "\n",
       "    .dataframe tbody tr th {\n",
       "        vertical-align: top;\n",
       "    }\n",
       "\n",
       "    .dataframe thead th {\n",
       "        text-align: right;\n",
       "    }\n",
       "</style>\n",
       "<table border=\"1\" class=\"dataframe\">\n",
       "  <thead>\n",
       "    <tr style=\"text-align: right;\">\n",
       "      <th></th>\n",
       "      <th>row_id</th>\n",
       "      <th>sequence_type</th>\n",
       "      <th>sequence_id</th>\n",
       "      <th>sequence_counter</th>\n",
       "      <th>subject</th>\n",
       "      <th>orientation</th>\n",
       "      <th>behavior</th>\n",
       "      <th>phase</th>\n",
       "      <th>gesture</th>\n",
       "      <th>acc_x</th>\n",
       "      <th>...</th>\n",
       "      <th>Drink from bottle/cup</th>\n",
       "      <th>Pinch knee/leg skin</th>\n",
       "      <th>Pull air toward your face</th>\n",
       "      <th>Scratch knee/leg skin</th>\n",
       "      <th>Glasses on/off</th>\n",
       "      <th>tof_1</th>\n",
       "      <th>tof_2</th>\n",
       "      <th>tof_3</th>\n",
       "      <th>tof_4</th>\n",
       "      <th>tof_5</th>\n",
       "    </tr>\n",
       "  </thead>\n",
       "  <tbody>\n",
       "    <tr>\n",
       "      <th>0</th>\n",
       "      <td>SEQ_000007_000000</td>\n",
       "      <td>Target</td>\n",
       "      <td>SEQ_000007</td>\n",
       "      <td>0</td>\n",
       "      <td>SUBJ_059520</td>\n",
       "      <td>Seated Lean Non Dom - FACE DOWN</td>\n",
       "      <td>Relaxes and moves hand to target location</td>\n",
       "      <td>Transition</td>\n",
       "      <td>Cheek - pinch skin</td>\n",
       "      <td>6.683594</td>\n",
       "      <td>...</td>\n",
       "      <td>False</td>\n",
       "      <td>False</td>\n",
       "      <td>False</td>\n",
       "      <td>False</td>\n",
       "      <td>False</td>\n",
       "      <td>139.250000</td>\n",
       "      <td>117.109375</td>\n",
       "      <td>91.687500</td>\n",
       "      <td>123.359375</td>\n",
       "      <td>135.343750</td>\n",
       "    </tr>\n",
       "    <tr>\n",
       "      <th>1</th>\n",
       "      <td>SEQ_000007_000001</td>\n",
       "      <td>Target</td>\n",
       "      <td>SEQ_000007</td>\n",
       "      <td>1</td>\n",
       "      <td>SUBJ_059520</td>\n",
       "      <td>Seated Lean Non Dom - FACE DOWN</td>\n",
       "      <td>Relaxes and moves hand to target location</td>\n",
       "      <td>Transition</td>\n",
       "      <td>Cheek - pinch skin</td>\n",
       "      <td>6.949219</td>\n",
       "      <td>...</td>\n",
       "      <td>False</td>\n",
       "      <td>False</td>\n",
       "      <td>False</td>\n",
       "      <td>False</td>\n",
       "      <td>False</td>\n",
       "      <td>139.796875</td>\n",
       "      <td>119.671875</td>\n",
       "      <td>97.921875</td>\n",
       "      <td>124.406250</td>\n",
       "      <td>137.000000</td>\n",
       "    </tr>\n",
       "    <tr>\n",
       "      <th>2</th>\n",
       "      <td>SEQ_000007_000002</td>\n",
       "      <td>Target</td>\n",
       "      <td>SEQ_000007</td>\n",
       "      <td>2</td>\n",
       "      <td>SUBJ_059520</td>\n",
       "      <td>Seated Lean Non Dom - FACE DOWN</td>\n",
       "      <td>Relaxes and moves hand to target location</td>\n",
       "      <td>Transition</td>\n",
       "      <td>Cheek - pinch skin</td>\n",
       "      <td>5.722656</td>\n",
       "      <td>...</td>\n",
       "      <td>False</td>\n",
       "      <td>False</td>\n",
       "      <td>False</td>\n",
       "      <td>False</td>\n",
       "      <td>False</td>\n",
       "      <td>142.375000</td>\n",
       "      <td>128.359375</td>\n",
       "      <td>116.953125</td>\n",
       "      <td>125.687500</td>\n",
       "      <td>140.234375</td>\n",
       "    </tr>\n",
       "    <tr>\n",
       "      <th>3</th>\n",
       "      <td>SEQ_000007_000003</td>\n",
       "      <td>Target</td>\n",
       "      <td>SEQ_000007</td>\n",
       "      <td>3</td>\n",
       "      <td>SUBJ_059520</td>\n",
       "      <td>Seated Lean Non Dom - FACE DOWN</td>\n",
       "      <td>Relaxes and moves hand to target location</td>\n",
       "      <td>Transition</td>\n",
       "      <td>Cheek - pinch skin</td>\n",
       "      <td>6.601562</td>\n",
       "      <td>...</td>\n",
       "      <td>False</td>\n",
       "      <td>False</td>\n",
       "      <td>False</td>\n",
       "      <td>False</td>\n",
       "      <td>False</td>\n",
       "      <td>154.109375</td>\n",
       "      <td>142.093750</td>\n",
       "      <td>144.515625</td>\n",
       "      <td>149.078125</td>\n",
       "      <td>142.609375</td>\n",
       "    </tr>\n",
       "    <tr>\n",
       "      <th>4</th>\n",
       "      <td>SEQ_000007_000004</td>\n",
       "      <td>Target</td>\n",
       "      <td>SEQ_000007</td>\n",
       "      <td>4</td>\n",
       "      <td>SUBJ_059520</td>\n",
       "      <td>Seated Lean Non Dom - FACE DOWN</td>\n",
       "      <td>Relaxes and moves hand to target location</td>\n",
       "      <td>Transition</td>\n",
       "      <td>Cheek - pinch skin</td>\n",
       "      <td>5.566406</td>\n",
       "      <td>...</td>\n",
       "      <td>False</td>\n",
       "      <td>False</td>\n",
       "      <td>False</td>\n",
       "      <td>False</td>\n",
       "      <td>False</td>\n",
       "      <td>177.953125</td>\n",
       "      <td>149.453125</td>\n",
       "      <td>161.828125</td>\n",
       "      <td>163.765625</td>\n",
       "      <td>151.265625</td>\n",
       "    </tr>\n",
       "    <tr>\n",
       "      <th>...</th>\n",
       "      <td>...</td>\n",
       "      <td>...</td>\n",
       "      <td>...</td>\n",
       "      <td>...</td>\n",
       "      <td>...</td>\n",
       "      <td>...</td>\n",
       "      <td>...</td>\n",
       "      <td>...</td>\n",
       "      <td>...</td>\n",
       "      <td>...</td>\n",
       "      <td>...</td>\n",
       "      <td>...</td>\n",
       "      <td>...</td>\n",
       "      <td>...</td>\n",
       "      <td>...</td>\n",
       "      <td>...</td>\n",
       "      <td>...</td>\n",
       "      <td>...</td>\n",
       "      <td>...</td>\n",
       "      <td>...</td>\n",
       "      <td>...</td>\n",
       "    </tr>\n",
       "    <tr>\n",
       "      <th>574940</th>\n",
       "      <td>SEQ_065531_000048</td>\n",
       "      <td>Non-Target</td>\n",
       "      <td>SEQ_065531</td>\n",
       "      <td>48</td>\n",
       "      <td>SUBJ_039498</td>\n",
       "      <td>Seated Lean Non Dom - FACE DOWN</td>\n",
       "      <td>Performs gesture</td>\n",
       "      <td>Gesture</td>\n",
       "      <td>Write name on leg</td>\n",
       "      <td>3.503906</td>\n",
       "      <td>...</td>\n",
       "      <td>False</td>\n",
       "      <td>False</td>\n",
       "      <td>False</td>\n",
       "      <td>False</td>\n",
       "      <td>False</td>\n",
       "      <td>68.562500</td>\n",
       "      <td>67.750000</td>\n",
       "      <td>144.437500</td>\n",
       "      <td>74.062500</td>\n",
       "      <td>52.843750</td>\n",
       "    </tr>\n",
       "    <tr>\n",
       "      <th>574941</th>\n",
       "      <td>SEQ_065531_000049</td>\n",
       "      <td>Non-Target</td>\n",
       "      <td>SEQ_065531</td>\n",
       "      <td>49</td>\n",
       "      <td>SUBJ_039498</td>\n",
       "      <td>Seated Lean Non Dom - FACE DOWN</td>\n",
       "      <td>Performs gesture</td>\n",
       "      <td>Gesture</td>\n",
       "      <td>Write name on leg</td>\n",
       "      <td>3.773438</td>\n",
       "      <td>...</td>\n",
       "      <td>False</td>\n",
       "      <td>False</td>\n",
       "      <td>False</td>\n",
       "      <td>False</td>\n",
       "      <td>False</td>\n",
       "      <td>70.234375</td>\n",
       "      <td>66.656250</td>\n",
       "      <td>144.000000</td>\n",
       "      <td>70.406250</td>\n",
       "      <td>54.531250</td>\n",
       "    </tr>\n",
       "    <tr>\n",
       "      <th>574942</th>\n",
       "      <td>SEQ_065531_000050</td>\n",
       "      <td>Non-Target</td>\n",
       "      <td>SEQ_065531</td>\n",
       "      <td>50</td>\n",
       "      <td>SUBJ_039498</td>\n",
       "      <td>Seated Lean Non Dom - FACE DOWN</td>\n",
       "      <td>Performs gesture</td>\n",
       "      <td>Gesture</td>\n",
       "      <td>Write name on leg</td>\n",
       "      <td>3.082031</td>\n",
       "      <td>...</td>\n",
       "      <td>False</td>\n",
       "      <td>False</td>\n",
       "      <td>False</td>\n",
       "      <td>False</td>\n",
       "      <td>False</td>\n",
       "      <td>66.671875</td>\n",
       "      <td>62.906250</td>\n",
       "      <td>136.906250</td>\n",
       "      <td>70.109375</td>\n",
       "      <td>57.468750</td>\n",
       "    </tr>\n",
       "    <tr>\n",
       "      <th>574943</th>\n",
       "      <td>SEQ_065531_000051</td>\n",
       "      <td>Non-Target</td>\n",
       "      <td>SEQ_065531</td>\n",
       "      <td>51</td>\n",
       "      <td>SUBJ_039498</td>\n",
       "      <td>Seated Lean Non Dom - FACE DOWN</td>\n",
       "      <td>Performs gesture</td>\n",
       "      <td>Gesture</td>\n",
       "      <td>Write name on leg</td>\n",
       "      <td>3.964844</td>\n",
       "      <td>...</td>\n",
       "      <td>False</td>\n",
       "      <td>False</td>\n",
       "      <td>False</td>\n",
       "      <td>False</td>\n",
       "      <td>False</td>\n",
       "      <td>67.218750</td>\n",
       "      <td>64.500000</td>\n",
       "      <td>140.531250</td>\n",
       "      <td>75.609375</td>\n",
       "      <td>54.937500</td>\n",
       "    </tr>\n",
       "    <tr>\n",
       "      <th>574944</th>\n",
       "      <td>SEQ_065531_000052</td>\n",
       "      <td>Non-Target</td>\n",
       "      <td>SEQ_065531</td>\n",
       "      <td>52</td>\n",
       "      <td>SUBJ_039498</td>\n",
       "      <td>Seated Lean Non Dom - FACE DOWN</td>\n",
       "      <td>Performs gesture</td>\n",
       "      <td>Gesture</td>\n",
       "      <td>Write name on leg</td>\n",
       "      <td>4.269531</td>\n",
       "      <td>...</td>\n",
       "      <td>False</td>\n",
       "      <td>False</td>\n",
       "      <td>False</td>\n",
       "      <td>False</td>\n",
       "      <td>False</td>\n",
       "      <td>68.937500</td>\n",
       "      <td>65.156250</td>\n",
       "      <td>143.906250</td>\n",
       "      <td>75.890625</td>\n",
       "      <td>55.281250</td>\n",
       "    </tr>\n",
       "  </tbody>\n",
       "</table>\n",
       "<p>574945 rows × 50 columns</p>\n",
       "</div>"
      ],
      "text/plain": [
       "                   row_id sequence_type sequence_id  sequence_counter  \\\n",
       "0       SEQ_000007_000000        Target  SEQ_000007                 0   \n",
       "1       SEQ_000007_000001        Target  SEQ_000007                 1   \n",
       "2       SEQ_000007_000002        Target  SEQ_000007                 2   \n",
       "3       SEQ_000007_000003        Target  SEQ_000007                 3   \n",
       "4       SEQ_000007_000004        Target  SEQ_000007                 4   \n",
       "...                   ...           ...         ...               ...   \n",
       "574940  SEQ_065531_000048    Non-Target  SEQ_065531                48   \n",
       "574941  SEQ_065531_000049    Non-Target  SEQ_065531                49   \n",
       "574942  SEQ_065531_000050    Non-Target  SEQ_065531                50   \n",
       "574943  SEQ_065531_000051    Non-Target  SEQ_065531                51   \n",
       "574944  SEQ_065531_000052    Non-Target  SEQ_065531                52   \n",
       "\n",
       "            subject                      orientation  \\\n",
       "0       SUBJ_059520  Seated Lean Non Dom - FACE DOWN   \n",
       "1       SUBJ_059520  Seated Lean Non Dom - FACE DOWN   \n",
       "2       SUBJ_059520  Seated Lean Non Dom - FACE DOWN   \n",
       "3       SUBJ_059520  Seated Lean Non Dom - FACE DOWN   \n",
       "4       SUBJ_059520  Seated Lean Non Dom - FACE DOWN   \n",
       "...             ...                              ...   \n",
       "574940  SUBJ_039498  Seated Lean Non Dom - FACE DOWN   \n",
       "574941  SUBJ_039498  Seated Lean Non Dom - FACE DOWN   \n",
       "574942  SUBJ_039498  Seated Lean Non Dom - FACE DOWN   \n",
       "574943  SUBJ_039498  Seated Lean Non Dom - FACE DOWN   \n",
       "574944  SUBJ_039498  Seated Lean Non Dom - FACE DOWN   \n",
       "\n",
       "                                         behavior       phase  \\\n",
       "0       Relaxes and moves hand to target location  Transition   \n",
       "1       Relaxes and moves hand to target location  Transition   \n",
       "2       Relaxes and moves hand to target location  Transition   \n",
       "3       Relaxes and moves hand to target location  Transition   \n",
       "4       Relaxes and moves hand to target location  Transition   \n",
       "...                                           ...         ...   \n",
       "574940                           Performs gesture     Gesture   \n",
       "574941                           Performs gesture     Gesture   \n",
       "574942                           Performs gesture     Gesture   \n",
       "574943                           Performs gesture     Gesture   \n",
       "574944                           Performs gesture     Gesture   \n",
       "\n",
       "                   gesture     acc_x  ...  Drink from bottle/cup  \\\n",
       "0       Cheek - pinch skin  6.683594  ...                  False   \n",
       "1       Cheek - pinch skin  6.949219  ...                  False   \n",
       "2       Cheek - pinch skin  5.722656  ...                  False   \n",
       "3       Cheek - pinch skin  6.601562  ...                  False   \n",
       "4       Cheek - pinch skin  5.566406  ...                  False   \n",
       "...                    ...       ...  ...                    ...   \n",
       "574940   Write name on leg  3.503906  ...                  False   \n",
       "574941   Write name on leg  3.773438  ...                  False   \n",
       "574942   Write name on leg  3.082031  ...                  False   \n",
       "574943   Write name on leg  3.964844  ...                  False   \n",
       "574944   Write name on leg  4.269531  ...                  False   \n",
       "\n",
       "        Pinch knee/leg skin  Pull air toward your face  Scratch knee/leg skin  \\\n",
       "0                     False                      False                  False   \n",
       "1                     False                      False                  False   \n",
       "2                     False                      False                  False   \n",
       "3                     False                      False                  False   \n",
       "4                     False                      False                  False   \n",
       "...                     ...                        ...                    ...   \n",
       "574940                False                      False                  False   \n",
       "574941                False                      False                  False   \n",
       "574942                False                      False                  False   \n",
       "574943                False                      False                  False   \n",
       "574944                False                      False                  False   \n",
       "\n",
       "        Glasses on/off       tof_1       tof_2       tof_3       tof_4  \\\n",
       "0                False  139.250000  117.109375   91.687500  123.359375   \n",
       "1                False  139.796875  119.671875   97.921875  124.406250   \n",
       "2                False  142.375000  128.359375  116.953125  125.687500   \n",
       "3                False  154.109375  142.093750  144.515625  149.078125   \n",
       "4                False  177.953125  149.453125  161.828125  163.765625   \n",
       "...                ...         ...         ...         ...         ...   \n",
       "574940           False   68.562500   67.750000  144.437500   74.062500   \n",
       "574941           False   70.234375   66.656250  144.000000   70.406250   \n",
       "574942           False   66.671875   62.906250  136.906250   70.109375   \n",
       "574943           False   67.218750   64.500000  140.531250   75.609375   \n",
       "574944           False   68.937500   65.156250  143.906250   75.890625   \n",
       "\n",
       "             tof_5  \n",
       "0       135.343750  \n",
       "1       137.000000  \n",
       "2       140.234375  \n",
       "3       142.609375  \n",
       "4       151.265625  \n",
       "...            ...  \n",
       "574940   52.843750  \n",
       "574941   54.531250  \n",
       "574942   57.468750  \n",
       "574943   54.937500  \n",
       "574944   55.281250  \n",
       "\n",
       "[574945 rows x 50 columns]"
      ]
     },
     "execution_count": 10,
     "metadata": {},
     "output_type": "execute_result"
    }
   ],
   "source": [
    "def agg_tof_cols_per_sensor(df:DF) -> DF:\n",
    "    for tof_idx in range(1, 6):\n",
    "        tof_name = f\"tof_{tof_idx}\"\n",
    "        tof_cols = [f\"{tof_name}_v{v_idx}\" for v_idx in range(64)]\n",
    "        if any(map(lambda col: col not in df.columns, tof_cols)):\n",
    "            print(f\"Some (or) all ToF {tof_idx} columns are not in the df. Maybe you already ran this cell?\")\n",
    "            continue\n",
    "        df = (\n",
    "            df\n",
    "            # Need to use a dict otherwise the name of the col will be \"tof_preffix\" instead of the value it contains\n",
    "            .assign(**{tof_name:df[tof_cols].mean(axis=\"columns\")})\n",
    "            .drop(columns=tof_cols)\n",
    "        )\n",
    "    return df\n",
    "\n",
    "df = agg_tof_cols_per_sensor(df)\n",
    "df"
   ]
  },
  {
   "cell_type": "markdown",
   "id": "daaafef8",
   "metadata": {},
   "source": [
    "### Add derivative w.r.t time features"
   ]
  },
  {
   "cell_type": "code",
   "execution_count": null,
   "id": "8bd05775",
   "metadata": {},
   "outputs": [],
   "source": [
    "def add_diff_features(df:DF) -> DF:\n",
    "    df[[col + \"_diff\" for col in get_feature_cols(df)]] = (\n",
    "        df\n",
    "        .groupby(\"sequence_id\", observed=True)\n",
    "        [get_feature_cols(df)]\n",
    "        .diff()\n",
    "        .values\n",
    "    )\n",
    "    return df\n",
    "\n",
    "df = add_diff_features(df)"
   ]
  },
  {
   "cell_type": "code",
   "execution_count": null,
   "id": "343e0255",
   "metadata": {},
   "outputs": [
    {
     "ename": "AttributeError",
     "evalue": "'NoneType' object has no attribute 'columns'",
     "output_type": "error",
     "traceback": [
      "\u001b[31m---------------------------------------------------------------------------\u001b[39m",
      "\u001b[31mAttributeError\u001b[39m                            Traceback (most recent call last)",
      "\u001b[36mCell\u001b[39m\u001b[36m \u001b[39m\u001b[32mIn[13]\u001b[39m\u001b[32m, line 1\u001b[39m\n\u001b[32m----> \u001b[39m\u001b[32m1\u001b[39m \u001b[43mget_feature_cols\u001b[49m\u001b[43m(\u001b[49m\u001b[43mdf\u001b[49m\u001b[43m)\u001b[49m\n",
      "\u001b[36mCell\u001b[39m\u001b[36m \u001b[39m\u001b[32mIn[3]\u001b[39m\u001b[32m, line 2\u001b[39m, in \u001b[36mget_feature_cols\u001b[39m\u001b[34m(df)\u001b[39m\n\u001b[32m      1\u001b[39m \u001b[38;5;28;01mdef\u001b[39;00m\u001b[38;5;250m \u001b[39m\u001b[34mget_feature_cols\u001b[39m(df:DF) -> \u001b[38;5;28mlist\u001b[39m[\u001b[38;5;28mstr\u001b[39m]:\n\u001b[32m----> \u001b[39m\u001b[32m2\u001b[39m     \u001b[38;5;28;01mreturn\u001b[39;00m \u001b[38;5;28mlist\u001b[39m(\u001b[38;5;28mset\u001b[39m(\u001b[43mdf\u001b[49m\u001b[43m.\u001b[49m\u001b[43mcolumns\u001b[49m) - \u001b[38;5;28mset\u001b[39m(META_DATA_COLUMNS) - \u001b[38;5;28mset\u001b[39m(df[\u001b[33m\"\u001b[39m\u001b[33mgesture\u001b[39m\u001b[33m\"\u001b[39m].unique().tolist()))\n",
      "\u001b[31mAttributeError\u001b[39m: 'NoneType' object has no attribute 'columns'"
     ]
    }
   ],
   "source": [
    "get_feature_cols(df)"
   ]
  },
  {
   "cell_type": "markdown",
   "id": "05e480d3",
   "metadata": {},
   "source": [
    "### Split into folds"
   ]
  },
  {
   "cell_type": "code",
   "execution_count": null,
   "id": "4bae51e8",
   "metadata": {},
   "outputs": [
    {
     "ename": "TypeError",
     "evalue": "'NoneType' object is not subscriptable",
     "output_type": "error",
     "traceback": [
      "\u001b[31m---------------------------------------------------------------------------\u001b[39m",
      "\u001b[31mTypeError\u001b[39m                                 Traceback (most recent call last)",
      "\u001b[36mCell\u001b[39m\u001b[36m \u001b[39m\u001b[32mIn[12]\u001b[39m\u001b[32m, line 12\u001b[39m\n\u001b[32m      8\u001b[39m     train_set = df[~df[by].isin(validation_sequences)].copy()\n\u001b[32m     10\u001b[39m     \u001b[38;5;28;01mreturn\u001b[39;00m train_set, validation_set\n\u001b[32m---> \u001b[39m\u001b[32m12\u001b[39m folds = \u001b[38;5;28;43mlist\u001b[39;49m\u001b[43m(\u001b[49m\u001b[38;5;28;43mmap\u001b[39;49m\u001b[43m(\u001b[49m\u001b[43msplit_dataset\u001b[49m\u001b[43m,\u001b[49m\u001b[43m \u001b[49m\u001b[43mrepeat\u001b[49m\u001b[43m(\u001b[49m\u001b[43mdf\u001b[49m\u001b[43m,\u001b[49m\u001b[43m \u001b[49m\u001b[43mN_FOLDS\u001b[49m\u001b[43m)\u001b[49m\u001b[43m)\u001b[49m\u001b[43m)\u001b[49m\n",
      "\u001b[36mCell\u001b[39m\u001b[36m \u001b[39m\u001b[32mIn[12]\u001b[39m\u001b[32m, line 2\u001b[39m, in \u001b[36msplit_dataset\u001b[39m\u001b[34m(df, by)\u001b[39m\n\u001b[32m      1\u001b[39m \u001b[38;5;28;01mdef\u001b[39;00m\u001b[38;5;250m \u001b[39m\u001b[34msplit_dataset\u001b[39m(df:DF, by=\u001b[33m\"\u001b[39m\u001b[33msubject\u001b[39m\u001b[33m\"\u001b[39m) -> \u001b[38;5;28mtuple\u001b[39m[DF, DF]:\n\u001b[32m----> \u001b[39m\u001b[32m2\u001b[39m     unique_sequences = \u001b[43mdf\u001b[49m\u001b[43m[\u001b[49m\u001b[43mby\u001b[49m\u001b[43m]\u001b[49m.unique()\n\u001b[32m      3\u001b[39m     validation_sequences = pd.Series(unique_sequences).sample(\n\u001b[32m      4\u001b[39m         frac=VALIDATION_FRACTION, replace=\u001b[38;5;28;01mFalse\u001b[39;00m\n\u001b[32m      5\u001b[39m     )\n\u001b[32m      7\u001b[39m     validation_set = df[df[by].isin(validation_sequences)].copy()\n",
      "\u001b[31mTypeError\u001b[39m: 'NoneType' object is not subscriptable"
     ]
    }
   ],
   "source": [
    "def split_dataset(df:DF, by=\"subject\") -> tuple[DF, DF]:\n",
    "    unique_sequences = df[by].unique()\n",
    "    validation_sequences = pd.Series(unique_sequences).sample(\n",
    "        frac=VALIDATION_FRACTION, replace=False\n",
    "    )\n",
    "\n",
    "    validation_set = df[df[by].isin(validation_sequences)].copy()\n",
    "    train_set = df[~df[by].isin(validation_sequences)].copy()\n",
    "\n",
    "    return train_set, validation_set\n",
    "\n",
    "folds = list(map(split_dataset, repeat(df, N_FOLDS)))"
   ]
  },
  {
   "cell_type": "markdown",
   "id": "d81b9c0d",
   "metadata": {},
   "source": [
    "### Std norm\n",
    "Standard scale the feature cols (should probably do something different for IMU cols).  \n",
    "<!-- *Deprecated, std norm is now performed at dataset creation to avoid target leakage.*   -->"
   ]
  },
  {
   "cell_type": "code",
   "execution_count": null,
   "id": "c9d5755e",
   "metadata": {},
   "outputs": [],
   "source": [
    "def std_norm_dataset(train:DF, val:DF) -> tuple[DF, DF]:\n",
    "    means = train[get_feature_cols(df)].mean().astype(\"float32\")\n",
    "    stds = train[get_feature_cols(df)cols(df)].std().astype(\"float32\")\n",
    "    train.loc[:, get_feature_cols(df)cols(df)] = (train[get_feature_cols(df)] - means) / stds\n",
    "    val.loc[:, get_feature_cols(df)] = (val[get_feature_cols(df)] - means) / stds\n",
    "    return train, val\n",
    "\n",
    "folds = list(starmap(std_norm_dataset, folds))"
   ]
  },
  {
   "cell_type": "markdown",
   "id": "b36ccf25",
   "metadata": {},
   "source": [
    "Normalize full dataset."
   ]
  },
  {
   "cell_type": "code",
   "execution_count": null,
   "id": "9b2c7cac",
   "metadata": {},
   "outputs": [],
   "source": [
    "# Retain full dataset meta data for inference\n",
    "full_dataset_meta_data = {\n",
    "    \"mean\": df[get_feature_cols(df)].mean().astype(\"float32\").to_dict(),\n",
    "    \"std\": df[get_feature_cols(df)].std().astype(\"float32\").to_dict(),\n",
    "}\n",
    "df.loc[:, get_feature_cols(df)] = (df[get_feature_cols(df)] - full_dataset_meta_data[\"mean\"]) / full_dataset_meta_data['std']"
   ]
  },
  {
   "cell_type": "markdown",
   "id": "7d8a04ce",
   "metadata": {},
   "source": [
    "Verify the mean and std of the full dataset."
   ]
  },
  {
   "cell_type": "code",
   "execution_count": null,
   "id": "b02ca859",
   "metadata": {},
   "outputs": [
    {
     "data": {
      "text/html": [
       "<div>\n",
       "<style scoped>\n",
       "    .dataframe tbody tr th:only-of-type {\n",
       "        vertical-align: middle;\n",
       "    }\n",
       "\n",
       "    .dataframe tbody tr th {\n",
       "        vertical-align: top;\n",
       "    }\n",
       "\n",
       "    .dataframe thead th {\n",
       "        text-align: right;\n",
       "    }\n",
       "</style>\n",
       "<table border=\"1\" class=\"dataframe\">\n",
       "  <thead>\n",
       "    <tr style=\"text-align: right;\">\n",
       "      <th></th>\n",
       "      <th>gravity_free_acc_y</th>\n",
       "      <th>tof_5</th>\n",
       "      <th>thm_3</th>\n",
       "      <th>thm_1</th>\n",
       "      <th>rot_z</th>\n",
       "      <th>thm_5</th>\n",
       "      <th>tof_2</th>\n",
       "      <th>acc_y</th>\n",
       "      <th>tof_4</th>\n",
       "      <th>thm_4</th>\n",
       "      <th>...</th>\n",
       "      <th>tof_1</th>\n",
       "      <th>rot_x</th>\n",
       "      <th>tof_3</th>\n",
       "      <th>gravity_free_acc_z</th>\n",
       "      <th>euler_x</th>\n",
       "      <th>rot_w</th>\n",
       "      <th>gravity_free_acc_x</th>\n",
       "      <th>euler_y</th>\n",
       "      <th>acc_x</th>\n",
       "      <th>acc_z</th>\n",
       "    </tr>\n",
       "  </thead>\n",
       "  <tbody>\n",
       "    <tr>\n",
       "      <th>mean</th>\n",
       "      <td>2.548818e-08</td>\n",
       "      <td>-5.993022e-08</td>\n",
       "      <td>1.823665e-07</td>\n",
       "      <td>3.772558e-08</td>\n",
       "      <td>1.855411e-08</td>\n",
       "      <td>-3.565034e-09</td>\n",
       "      <td>1.687596e-08</td>\n",
       "      <td>1.186949e-08</td>\n",
       "      <td>1.404808e-08</td>\n",
       "      <td>-1.427808e-07</td>\n",
       "      <td>...</td>\n",
       "      <td>1.908273e-07</td>\n",
       "      <td>-2.663767e-08</td>\n",
       "      <td>2.663846e-09</td>\n",
       "      <td>-8.419120e-09</td>\n",
       "      <td>1.581881e-17</td>\n",
       "      <td>-6.315844e-08</td>\n",
       "      <td>1.358779e-09</td>\n",
       "      <td>1.581881e-18</td>\n",
       "      <td>-1.749467e-08</td>\n",
       "      <td>-2.971537e-09</td>\n",
       "    </tr>\n",
       "    <tr>\n",
       "      <th>std</th>\n",
       "      <td>1.000000e+00</td>\n",
       "      <td>1.000000e+00</td>\n",
       "      <td>1.000000e+00</td>\n",
       "      <td>1.000000e+00</td>\n",
       "      <td>1.000000e+00</td>\n",
       "      <td>1.000000e+00</td>\n",
       "      <td>1.000000e+00</td>\n",
       "      <td>1.000000e+00</td>\n",
       "      <td>1.000000e+00</td>\n",
       "      <td>1.000000e+00</td>\n",
       "      <td>...</td>\n",
       "      <td>1.000000e+00</td>\n",
       "      <td>1.000000e+00</td>\n",
       "      <td>1.000000e+00</td>\n",
       "      <td>1.000000e+00</td>\n",
       "      <td>1.000000e+00</td>\n",
       "      <td>1.000000e+00</td>\n",
       "      <td>1.000000e+00</td>\n",
       "      <td>1.000000e+00</td>\n",
       "      <td>1.000000e+00</td>\n",
       "      <td>1.000000e+00</td>\n",
       "    </tr>\n",
       "  </tbody>\n",
       "</table>\n",
       "<p>2 rows × 23 columns</p>\n",
       "</div>"
      ],
      "text/plain": [
       "      gravity_free_acc_y         tof_5         thm_3         thm_1  \\\n",
       "mean        2.548818e-08 -5.993022e-08  1.823665e-07  3.772558e-08   \n",
       "std         1.000000e+00  1.000000e+00  1.000000e+00  1.000000e+00   \n",
       "\n",
       "             rot_z         thm_5         tof_2         acc_y         tof_4  \\\n",
       "mean  1.855411e-08 -3.565034e-09  1.687596e-08  1.186949e-08  1.404808e-08   \n",
       "std   1.000000e+00  1.000000e+00  1.000000e+00  1.000000e+00  1.000000e+00   \n",
       "\n",
       "             thm_4  ...         tof_1         rot_x         tof_3  \\\n",
       "mean -1.427808e-07  ...  1.908273e-07 -2.663767e-08  2.663846e-09   \n",
       "std   1.000000e+00  ...  1.000000e+00  1.000000e+00  1.000000e+00   \n",
       "\n",
       "      gravity_free_acc_z       euler_x         rot_w  gravity_free_acc_x  \\\n",
       "mean       -8.419120e-09  1.581881e-17 -6.315844e-08        1.358779e-09   \n",
       "std         1.000000e+00  1.000000e+00  1.000000e+00        1.000000e+00   \n",
       "\n",
       "           euler_y         acc_x         acc_z  \n",
       "mean  1.581881e-18 -1.749467e-08 -2.971537e-09  \n",
       "std   1.000000e+00  1.000000e+00  1.000000e+00  \n",
       "\n",
       "[2 rows x 23 columns]"
      ]
     },
     "execution_count": 14,
     "metadata": {},
     "output_type": "execute_result"
    }
   ],
   "source": [
    "df[get_feature_cols(df)].agg([\"mean\", \"std\"])"
   ]
  },
  {
   "cell_type": "markdown",
   "id": "f840652f",
   "metadata": {},
   "source": [
    "Let's compare the train to validation mean/std skews."
   ]
  },
  {
   "cell_type": "code",
   "execution_count": null,
   "id": "9ce0ae47",
   "metadata": {},
   "outputs": [
    {
     "data": {
      "text/html": [
       "<div>\n",
       "<style scoped>\n",
       "    .dataframe tbody tr th:only-of-type {\n",
       "        vertical-align: middle;\n",
       "    }\n",
       "\n",
       "    .dataframe tbody tr th {\n",
       "        vertical-align: top;\n",
       "    }\n",
       "\n",
       "    .dataframe thead th {\n",
       "        text-align: right;\n",
       "    }\n",
       "</style>\n",
       "<table border=\"1\" class=\"dataframe\">\n",
       "  <thead>\n",
       "    <tr style=\"text-align: right;\">\n",
       "      <th></th>\n",
       "      <th></th>\n",
       "      <th>gravity_free_acc_y</th>\n",
       "      <th>tof_5</th>\n",
       "      <th>thm_3</th>\n",
       "      <th>thm_1</th>\n",
       "      <th>rot_z</th>\n",
       "      <th>thm_5</th>\n",
       "      <th>tof_2</th>\n",
       "      <th>acc_y</th>\n",
       "      <th>tof_4</th>\n",
       "      <th>thm_4</th>\n",
       "      <th>...</th>\n",
       "      <th>tof_1</th>\n",
       "      <th>rot_x</th>\n",
       "      <th>tof_3</th>\n",
       "      <th>gravity_free_acc_z</th>\n",
       "      <th>euler_x</th>\n",
       "      <th>rot_w</th>\n",
       "      <th>gravity_free_acc_x</th>\n",
       "      <th>euler_y</th>\n",
       "      <th>acc_x</th>\n",
       "      <th>acc_z</th>\n",
       "    </tr>\n",
       "  </thead>\n",
       "  <tbody>\n",
       "    <tr>\n",
       "      <th rowspan=\"2\" valign=\"top\">train</th>\n",
       "      <th>mean</th>\n",
       "      <td>2.122192e-09</td>\n",
       "      <td>8.064328e-08</td>\n",
       "      <td>-5.485865e-07</td>\n",
       "      <td>3.374284e-07</td>\n",
       "      <td>1.008041e-08</td>\n",
       "      <td>9.125424e-08</td>\n",
       "      <td>1.119456e-07</td>\n",
       "      <td>2.055873e-08</td>\n",
       "      <td>-1.671226e-08</td>\n",
       "      <td>2.440520e-08</td>\n",
       "      <td>...</td>\n",
       "      <td>2.551935e-07</td>\n",
       "      <td>1.697753e-08</td>\n",
       "      <td>1.830390e-08</td>\n",
       "      <td>2.918013e-09</td>\n",
       "      <td>2.385624e-10</td>\n",
       "      <td>-3.448561e-08</td>\n",
       "      <td>1.671226e-08</td>\n",
       "      <td>-1.046622e-08</td>\n",
       "      <td>2.732322e-08</td>\n",
       "      <td>-9.019314e-09</td>\n",
       "    </tr>\n",
       "    <tr>\n",
       "      <th>std</th>\n",
       "      <td>1.000000e+00</td>\n",
       "      <td>1.000000e+00</td>\n",
       "      <td>9.999999e-01</td>\n",
       "      <td>1.000000e+00</td>\n",
       "      <td>1.000000e+00</td>\n",
       "      <td>1.000000e+00</td>\n",
       "      <td>9.999999e-01</td>\n",
       "      <td>9.999999e-01</td>\n",
       "      <td>1.000000e+00</td>\n",
       "      <td>1.000000e+00</td>\n",
       "      <td>...</td>\n",
       "      <td>1.000000e+00</td>\n",
       "      <td>9.999999e-01</td>\n",
       "      <td>1.000000e+00</td>\n",
       "      <td>1.000000e+00</td>\n",
       "      <td>1.000000e+00</td>\n",
       "      <td>1.000000e+00</td>\n",
       "      <td>9.999999e-01</td>\n",
       "      <td>1.000000e+00</td>\n",
       "      <td>9.999999e-01</td>\n",
       "      <td>1.000000e+00</td>\n",
       "    </tr>\n",
       "    <tr>\n",
       "      <th rowspan=\"2\" valign=\"top\">validation</th>\n",
       "      <th>mean</th>\n",
       "      <td>-4.839994e-02</td>\n",
       "      <td>7.867061e-02</td>\n",
       "      <td>1.439791e-01</td>\n",
       "      <td>1.279001e-01</td>\n",
       "      <td>6.550998e-03</td>\n",
       "      <td>2.419055e-01</td>\n",
       "      <td>-1.180771e-02</td>\n",
       "      <td>1.990715e-02</td>\n",
       "      <td>-1.203539e-02</td>\n",
       "      <td>1.086784e-01</td>\n",
       "      <td>...</td>\n",
       "      <td>-1.693127e-02</td>\n",
       "      <td>1.458404e-01</td>\n",
       "      <td>-1.934037e-02</td>\n",
       "      <td>1.285326e-02</td>\n",
       "      <td>-2.707513e-03</td>\n",
       "      <td>-1.051750e-01</td>\n",
       "      <td>-2.170409e-02</td>\n",
       "      <td>-1.806605e-02</td>\n",
       "      <td>-2.172979e-02</td>\n",
       "      <td>3.759031e-02</td>\n",
       "    </tr>\n",
       "    <tr>\n",
       "      <th>std</th>\n",
       "      <td>9.832454e-01</td>\n",
       "      <td>8.796210e-01</td>\n",
       "      <td>4.859858e-01</td>\n",
       "      <td>5.892192e-01</td>\n",
       "      <td>1.056812e+00</td>\n",
       "      <td>3.386279e-01</td>\n",
       "      <td>9.516543e-01</td>\n",
       "      <td>1.009363e+00</td>\n",
       "      <td>9.791272e-01</td>\n",
       "      <td>6.438745e-01</td>\n",
       "      <td>...</td>\n",
       "      <td>9.645705e-01</td>\n",
       "      <td>1.064583e+00</td>\n",
       "      <td>9.729294e-01</td>\n",
       "      <td>9.447199e-01</td>\n",
       "      <td>9.868742e-01</td>\n",
       "      <td>9.654092e-01</td>\n",
       "      <td>9.949074e-01</td>\n",
       "      <td>9.939340e-01</td>\n",
       "      <td>9.884086e-01</td>\n",
       "      <td>1.001982e+00</td>\n",
       "    </tr>\n",
       "  </tbody>\n",
       "</table>\n",
       "<p>4 rows × 23 columns</p>\n",
       "</div>"
      ],
      "text/plain": [
       "                 gravity_free_acc_y         tof_5         thm_3         thm_1  \\\n",
       "train      mean        2.122192e-09  8.064328e-08 -5.485865e-07  3.374284e-07   \n",
       "           std         1.000000e+00  1.000000e+00  9.999999e-01  1.000000e+00   \n",
       "validation mean       -4.839994e-02  7.867061e-02  1.439791e-01  1.279001e-01   \n",
       "           std         9.832454e-01  8.796210e-01  4.859858e-01  5.892192e-01   \n",
       "\n",
       "                        rot_z         thm_5         tof_2         acc_y  \\\n",
       "train      mean  1.008041e-08  9.125424e-08  1.119456e-07  2.055873e-08   \n",
       "           std   1.000000e+00  1.000000e+00  9.999999e-01  9.999999e-01   \n",
       "validation mean  6.550998e-03  2.419055e-01 -1.180771e-02  1.990715e-02   \n",
       "           std   1.056812e+00  3.386279e-01  9.516543e-01  1.009363e+00   \n",
       "\n",
       "                        tof_4         thm_4  ...         tof_1         rot_x  \\\n",
       "train      mean -1.671226e-08  2.440520e-08  ...  2.551935e-07  1.697753e-08   \n",
       "           std   1.000000e+00  1.000000e+00  ...  1.000000e+00  9.999999e-01   \n",
       "validation mean -1.203539e-02  1.086784e-01  ... -1.693127e-02  1.458404e-01   \n",
       "           std   9.791272e-01  6.438745e-01  ...  9.645705e-01  1.064583e+00   \n",
       "\n",
       "                        tof_3  gravity_free_acc_z       euler_x         rot_w  \\\n",
       "train      mean  1.830390e-08        2.918013e-09  2.385624e-10 -3.448561e-08   \n",
       "           std   1.000000e+00        1.000000e+00  1.000000e+00  1.000000e+00   \n",
       "validation mean -1.934037e-02        1.285326e-02 -2.707513e-03 -1.051750e-01   \n",
       "           std   9.729294e-01        9.447199e-01  9.868742e-01  9.654092e-01   \n",
       "\n",
       "                 gravity_free_acc_x       euler_y         acc_x         acc_z  \n",
       "train      mean        1.671226e-08 -1.046622e-08  2.732322e-08 -9.019314e-09  \n",
       "           std         9.999999e-01  1.000000e+00  9.999999e-01  1.000000e+00  \n",
       "validation mean       -2.170409e-02 -1.806605e-02 -2.172979e-02  3.759031e-02  \n",
       "           std         9.949074e-01  9.939340e-01  9.884086e-01  1.001982e+00  \n",
       "\n",
       "[4 rows x 23 columns]"
      ]
     },
     "execution_count": 15,
     "metadata": {},
     "output_type": "execute_result"
    }
   ],
   "source": [
    "pd.concat({\n",
    "    \"train\": folds[0][0][get_feature_cols(df)].agg([\"mean\", \"std\"]),\n",
    "    \"validation\": folds[0][1][get_feature_cols(df)].agg([\"mean\", \"std\"]),\n",
    "})"
   ]
  },
  {
   "cell_type": "markdown",
   "id": "9bc09714",
   "metadata": {},
   "source": [
    "### Normalize sequences lengths.  \n",
    "And turn the Dataframes into ndarrays."
   ]
  },
  {
   "cell_type": "markdown",
   "id": "76699499",
   "metadata": {},
   "source": [
    "#### Visualize histogram of sequences lengths."
   ]
  },
  {
   "cell_type": "markdown",
   "id": "b3477111",
   "metadata": {},
   "source": [
    "Entire dataset sequences lengths."
   ]
  },
  {
   "cell_type": "code",
   "execution_count": null,
   "id": "876907d8",
   "metadata": {},
   "outputs": [
    {
     "data": {
      "application/vnd.plotly.v1+json": {
       "config": {
        "plotlyServerURL": "https://plot.ly"
       },
       "data": [
        {
         "bingroup": "x",
         "hovertemplate": "variable=0<br>value=%{x}<br>count=%{y}<extra></extra>",
         "legendgroup": "0",
         "marker": {
          "color": "#636efa",
          "pattern": {
           "shape": ""
          }
         },
         "name": "0",
         "orientation": "v",
         "showlegend": true,
         "type": "histogram",
         "x": {
          "bdata": "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",
          "dtype": "i2"
         },
         "xaxis": "x",
         "yaxis": "y"
        }
       ],
       "layout": {
        "barmode": "relative",
        "legend": {
         "title": {
          "text": "variable"
         },
         "tracegroupgap": 0
        },
        "template": {
         "data": {
          "bar": [
           {
            "error_x": {
             "color": "#2a3f5f"
            },
            "error_y": {
             "color": "#2a3f5f"
            },
            "marker": {
             "line": {
              "color": "#E5ECF6",
              "width": 0.5
             },
             "pattern": {
              "fillmode": "overlay",
              "size": 10,
              "solidity": 0.2
             }
            },
            "type": "bar"
           }
          ],
          "barpolar": [
           {
            "marker": {
             "line": {
              "color": "#E5ECF6",
              "width": 0.5
             },
             "pattern": {
              "fillmode": "overlay",
              "size": 10,
              "solidity": 0.2
             }
            },
            "type": "barpolar"
           }
          ],
          "carpet": [
           {
            "aaxis": {
             "endlinecolor": "#2a3f5f",
             "gridcolor": "white",
             "linecolor": "white",
             "minorgridcolor": "white",
             "startlinecolor": "#2a3f5f"
            },
            "baxis": {
             "endlinecolor": "#2a3f5f",
             "gridcolor": "white",
             "linecolor": "white",
             "minorgridcolor": "white",
             "startlinecolor": "#2a3f5f"
            },
            "type": "carpet"
           }
          ],
          "choropleth": [
           {
            "colorbar": {
             "outlinewidth": 0,
             "ticks": ""
            },
            "type": "choropleth"
           }
          ],
          "contour": [
           {
            "colorbar": {
             "outlinewidth": 0,
             "ticks": ""
            },
            "colorscale": [
             [
              0,
              "#0d0887"
             ],
             [
              0.1111111111111111,
              "#46039f"
             ],
             [
              0.2222222222222222,
              "#7201a8"
             ],
             [
              0.3333333333333333,
              "#9c179e"
             ],
             [
              0.4444444444444444,
              "#bd3786"
             ],
             [
              0.5555555555555556,
              "#d8576b"
             ],
             [
              0.6666666666666666,
              "#ed7953"
             ],
             [
              0.7777777777777778,
              "#fb9f3a"
             ],
             [
              0.8888888888888888,
              "#fdca26"
             ],
             [
              1,
              "#f0f921"
             ]
            ],
            "type": "contour"
           }
          ],
          "contourcarpet": [
           {
            "colorbar": {
             "outlinewidth": 0,
             "ticks": ""
            },
            "type": "contourcarpet"
           }
          ],
          "heatmap": [
           {
            "colorbar": {
             "outlinewidth": 0,
             "ticks": ""
            },
            "colorscale": [
             [
              0,
              "#0d0887"
             ],
             [
              0.1111111111111111,
              "#46039f"
             ],
             [
              0.2222222222222222,
              "#7201a8"
             ],
             [
              0.3333333333333333,
              "#9c179e"
             ],
             [
              0.4444444444444444,
              "#bd3786"
             ],
             [
              0.5555555555555556,
              "#d8576b"
             ],
             [
              0.6666666666666666,
              "#ed7953"
             ],
             [
              0.7777777777777778,
              "#fb9f3a"
             ],
             [
              0.8888888888888888,
              "#fdca26"
             ],
             [
              1,
              "#f0f921"
             ]
            ],
            "type": "heatmap"
           }
          ],
          "histogram": [
           {
            "marker": {
             "pattern": {
              "fillmode": "overlay",
              "size": 10,
              "solidity": 0.2
             }
            },
            "type": "histogram"
           }
          ],
          "histogram2d": [
           {
            "colorbar": {
             "outlinewidth": 0,
             "ticks": ""
            },
            "colorscale": [
             [
              0,
              "#0d0887"
             ],
             [
              0.1111111111111111,
              "#46039f"
             ],
             [
              0.2222222222222222,
              "#7201a8"
             ],
             [
              0.3333333333333333,
              "#9c179e"
             ],
             [
              0.4444444444444444,
              "#bd3786"
             ],
             [
              0.5555555555555556,
              "#d8576b"
             ],
             [
              0.6666666666666666,
              "#ed7953"
             ],
             [
              0.7777777777777778,
              "#fb9f3a"
             ],
             [
              0.8888888888888888,
              "#fdca26"
             ],
             [
              1,
              "#f0f921"
             ]
            ],
            "type": "histogram2d"
           }
          ],
          "histogram2dcontour": [
           {
            "colorbar": {
             "outlinewidth": 0,
             "ticks": ""
            },
            "colorscale": [
             [
              0,
              "#0d0887"
             ],
             [
              0.1111111111111111,
              "#46039f"
             ],
             [
              0.2222222222222222,
              "#7201a8"
             ],
             [
              0.3333333333333333,
              "#9c179e"
             ],
             [
              0.4444444444444444,
              "#bd3786"
             ],
             [
              0.5555555555555556,
              "#d8576b"
             ],
             [
              0.6666666666666666,
              "#ed7953"
             ],
             [
              0.7777777777777778,
              "#fb9f3a"
             ],
             [
              0.8888888888888888,
              "#fdca26"
             ],
             [
              1,
              "#f0f921"
             ]
            ],
            "type": "histogram2dcontour"
           }
          ],
          "mesh3d": [
           {
            "colorbar": {
             "outlinewidth": 0,
             "ticks": ""
            },
            "type": "mesh3d"
           }
          ],
          "parcoords": [
           {
            "line": {
             "colorbar": {
              "outlinewidth": 0,
              "ticks": ""
             }
            },
            "type": "parcoords"
           }
          ],
          "pie": [
           {
            "automargin": true,
            "type": "pie"
           }
          ],
          "scatter": [
           {
            "fillpattern": {
             "fillmode": "overlay",
             "size": 10,
             "solidity": 0.2
            },
            "type": "scatter"
           }
          ],
          "scatter3d": [
           {
            "line": {
             "colorbar": {
              "outlinewidth": 0,
              "ticks": ""
             }
            },
            "marker": {
             "colorbar": {
              "outlinewidth": 0,
              "ticks": ""
             }
            },
            "type": "scatter3d"
           }
          ],
          "scattercarpet": [
           {
            "marker": {
             "colorbar": {
              "outlinewidth": 0,
              "ticks": ""
             }
            },
            "type": "scattercarpet"
           }
          ],
          "scattergeo": [
           {
            "marker": {
             "colorbar": {
              "outlinewidth": 0,
              "ticks": ""
             }
            },
            "type": "scattergeo"
           }
          ],
          "scattergl": [
           {
            "marker": {
             "colorbar": {
              "outlinewidth": 0,
              "ticks": ""
             }
            },
            "type": "scattergl"
           }
          ],
          "scattermap": [
           {
            "marker": {
             "colorbar": {
              "outlinewidth": 0,
              "ticks": ""
             }
            },
            "type": "scattermap"
           }
          ],
          "scattermapbox": [
           {
            "marker": {
             "colorbar": {
              "outlinewidth": 0,
              "ticks": ""
             }
            },
            "type": "scattermapbox"
           }
          ],
          "scatterpolar": [
           {
            "marker": {
             "colorbar": {
              "outlinewidth": 0,
              "ticks": ""
             }
            },
            "type": "scatterpolar"
           }
          ],
          "scatterpolargl": [
           {
            "marker": {
             "colorbar": {
              "outlinewidth": 0,
              "ticks": ""
             }
            },
            "type": "scatterpolargl"
           }
          ],
          "scatterternary": [
           {
            "marker": {
             "colorbar": {
              "outlinewidth": 0,
              "ticks": ""
             }
            },
            "type": "scatterternary"
           }
          ],
          "surface": [
           {
            "colorbar": {
             "outlinewidth": 0,
             "ticks": ""
            },
            "colorscale": [
             [
              0,
              "#0d0887"
             ],
             [
              0.1111111111111111,
              "#46039f"
             ],
             [
              0.2222222222222222,
              "#7201a8"
             ],
             [
              0.3333333333333333,
              "#9c179e"
             ],
             [
              0.4444444444444444,
              "#bd3786"
             ],
             [
              0.5555555555555556,
              "#d8576b"
             ],
             [
              0.6666666666666666,
              "#ed7953"
             ],
             [
              0.7777777777777778,
              "#fb9f3a"
             ],
             [
              0.8888888888888888,
              "#fdca26"
             ],
             [
              1,
              "#f0f921"
             ]
            ],
            "type": "surface"
           }
          ],
          "table": [
           {
            "cells": {
             "fill": {
              "color": "#EBF0F8"
             },
             "line": {
              "color": "white"
             }
            },
            "header": {
             "fill": {
              "color": "#C8D4E3"
             },
             "line": {
              "color": "white"
             }
            },
            "type": "table"
           }
          ]
         },
         "layout": {
          "annotationdefaults": {
           "arrowcolor": "#2a3f5f",
           "arrowhead": 0,
           "arrowwidth": 1
          },
          "autotypenumbers": "strict",
          "coloraxis": {
           "colorbar": {
            "outlinewidth": 0,
            "ticks": ""
           }
          },
          "colorscale": {
           "diverging": [
            [
             0,
             "#8e0152"
            ],
            [
             0.1,
             "#c51b7d"
            ],
            [
             0.2,
             "#de77ae"
            ],
            [
             0.3,
             "#f1b6da"
            ],
            [
             0.4,
             "#fde0ef"
            ],
            [
             0.5,
             "#f7f7f7"
            ],
            [
             0.6,
             "#e6f5d0"
            ],
            [
             0.7,
             "#b8e186"
            ],
            [
             0.8,
             "#7fbc41"
            ],
            [
             0.9,
             "#4d9221"
            ],
            [
             1,
             "#276419"
            ]
           ],
           "sequential": [
            [
             0,
             "#0d0887"
            ],
            [
             0.1111111111111111,
             "#46039f"
            ],
            [
             0.2222222222222222,
             "#7201a8"
            ],
            [
             0.3333333333333333,
             "#9c179e"
            ],
            [
             0.4444444444444444,
             "#bd3786"
            ],
            [
             0.5555555555555556,
             "#d8576b"
            ],
            [
             0.6666666666666666,
             "#ed7953"
            ],
            [
             0.7777777777777778,
             "#fb9f3a"
            ],
            [
             0.8888888888888888,
             "#fdca26"
            ],
            [
             1,
             "#f0f921"
            ]
           ],
           "sequentialminus": [
            [
             0,
             "#0d0887"
            ],
            [
             0.1111111111111111,
             "#46039f"
            ],
            [
             0.2222222222222222,
             "#7201a8"
            ],
            [
             0.3333333333333333,
             "#9c179e"
            ],
            [
             0.4444444444444444,
             "#bd3786"
            ],
            [
             0.5555555555555556,
             "#d8576b"
            ],
            [
             0.6666666666666666,
             "#ed7953"
            ],
            [
             0.7777777777777778,
             "#fb9f3a"
            ],
            [
             0.8888888888888888,
             "#fdca26"
            ],
            [
             1,
             "#f0f921"
            ]
           ]
          },
          "colorway": [
           "#636efa",
           "#EF553B",
           "#00cc96",
           "#ab63fa",
           "#FFA15A",
           "#19d3f3",
           "#FF6692",
           "#B6E880",
           "#FF97FF",
           "#FECB52"
          ],
          "font": {
           "color": "#2a3f5f"
          },
          "geo": {
           "bgcolor": "white",
           "lakecolor": "white",
           "landcolor": "#E5ECF6",
           "showlakes": true,
           "showland": true,
           "subunitcolor": "white"
          },
          "hoverlabel": {
           "align": "left"
          },
          "hovermode": "closest",
          "mapbox": {
           "style": "light"
          },
          "paper_bgcolor": "white",
          "plot_bgcolor": "#E5ECF6",
          "polar": {
           "angularaxis": {
            "gridcolor": "white",
            "linecolor": "white",
            "ticks": ""
           },
           "bgcolor": "#E5ECF6",
           "radialaxis": {
            "gridcolor": "white",
            "linecolor": "white",
            "ticks": ""
           }
          },
          "scene": {
           "xaxis": {
            "backgroundcolor": "#E5ECF6",
            "gridcolor": "white",
            "gridwidth": 2,
            "linecolor": "white",
            "showbackground": true,
            "ticks": "",
            "zerolinecolor": "white"
           },
           "yaxis": {
            "backgroundcolor": "#E5ECF6",
            "gridcolor": "white",
            "gridwidth": 2,
            "linecolor": "white",
            "showbackground": true,
            "ticks": "",
            "zerolinecolor": "white"
           },
           "zaxis": {
            "backgroundcolor": "#E5ECF6",
            "gridcolor": "white",
            "gridwidth": 2,
            "linecolor": "white",
            "showbackground": true,
            "ticks": "",
            "zerolinecolor": "white"
           }
          },
          "shapedefaults": {
           "line": {
            "color": "#2a3f5f"
           }
          },
          "ternary": {
           "aaxis": {
            "gridcolor": "white",
            "linecolor": "white",
            "ticks": ""
           },
           "baxis": {
            "gridcolor": "white",
            "linecolor": "white",
            "ticks": ""
           },
           "bgcolor": "#E5ECF6",
           "caxis": {
            "gridcolor": "white",
            "linecolor": "white",
            "ticks": ""
           }
          },
          "title": {
           "x": 0.05
          },
          "xaxis": {
           "automargin": true,
           "gridcolor": "white",
           "linecolor": "white",
           "ticks": "",
           "title": {
            "standoff": 15
           },
           "zerolinecolor": "white",
           "zerolinewidth": 2
          },
          "yaxis": {
           "automargin": true,
           "gridcolor": "white",
           "linecolor": "white",
           "ticks": "",
           "title": {
            "standoff": 15
           },
           "zerolinecolor": "white",
           "zerolinewidth": 2
          }
         }
        },
        "title": {
         "text": "Sequence length frequency"
        },
        "xaxis": {
         "anchor": "y",
         "domain": [
          0,
          1
         ],
         "title": {
          "text": "value"
         }
        },
        "yaxis": {
         "anchor": "x",
         "domain": [
          0,
          1
         ],
         "title": {
          "text": "count"
         }
        }
       }
      }
     },
     "metadata": {},
     "output_type": "display_data"
    }
   ],
   "source": [
    "px.histogram(\n",
    "    (\n",
    "        df\n",
    "        .groupby(\"sequence_id\", observed=True)\n",
    "        .size()\n",
    "    ),\n",
    "    title=\"Sequence length frequency\",\n",
    ")"
   ]
  },
  {
   "cell_type": "markdown",
   "id": "24e72f4e",
   "metadata": {},
   "source": [
    "Second(to avoid always look at the first one) Train/validation split sequences lengths comparaison."
   ]
  },
  {
   "cell_type": "code",
   "execution_count": null,
   "id": "1a39bfce",
   "metadata": {},
   "outputs": [
    {
     "data": {
      "application/vnd.plotly.v1+json": {
       "config": {
        "plotlyServerURL": "https://plot.ly"
       },
       "data": [
        {
         "bingroup": "x",
         "hovertemplate": "set=Train<br>length=%{x}<br>count=%{y}<extra></extra>",
         "legendgroup": "Train",
         "marker": {
          "color": "#636efa",
          "opacity": 0.5,
          "pattern": {
           "shape": ""
          }
         },
         "name": "Train",
         "nbinsx": 50,
         "opacity": 0.8,
         "orientation": "v",
         "showlegend": true,
         "type": "histogram",
         "x": {
          "bdata": "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",
          "dtype": "i2"
         },
         "xaxis": "x",
         "yaxis": "y"
        },
        {
         "bingroup": "x",
         "hovertemplate": "set=Validation<br>length=%{x}<br>count=%{y}<extra></extra>",
         "legendgroup": "Validation",
         "marker": {
          "color": "#EF553B",
          "opacity": 0.5,
          "pattern": {
           "shape": ""
          }
         },
         "name": "Validation",
         "nbinsx": 50,
         "opacity": 0.8,
         "orientation": "v",
         "showlegend": true,
         "type": "histogram",
         "x": {
          "bdata": "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",
          "dtype": "i2"
         },
         "xaxis": "x",
         "yaxis": "y"
        }
       ],
       "layout": {
        "barmode": "overlay",
        "legend": {
         "title": {
          "text": "set"
         },
         "tracegroupgap": 0
        },
        "template": {
         "data": {
          "bar": [
           {
            "error_x": {
             "color": "#2a3f5f"
            },
            "error_y": {
             "color": "#2a3f5f"
            },
            "marker": {
             "line": {
              "color": "#E5ECF6",
              "width": 0.5
             },
             "pattern": {
              "fillmode": "overlay",
              "size": 10,
              "solidity": 0.2
             }
            },
            "type": "bar"
           }
          ],
          "barpolar": [
           {
            "marker": {
             "line": {
              "color": "#E5ECF6",
              "width": 0.5
             },
             "pattern": {
              "fillmode": "overlay",
              "size": 10,
              "solidity": 0.2
             }
            },
            "type": "barpolar"
           }
          ],
          "carpet": [
           {
            "aaxis": {
             "endlinecolor": "#2a3f5f",
             "gridcolor": "white",
             "linecolor": "white",
             "minorgridcolor": "white",
             "startlinecolor": "#2a3f5f"
            },
            "baxis": {
             "endlinecolor": "#2a3f5f",
             "gridcolor": "white",
             "linecolor": "white",
             "minorgridcolor": "white",
             "startlinecolor": "#2a3f5f"
            },
            "type": "carpet"
           }
          ],
          "choropleth": [
           {
            "colorbar": {
             "outlinewidth": 0,
             "ticks": ""
            },
            "type": "choropleth"
           }
          ],
          "contour": [
           {
            "colorbar": {
             "outlinewidth": 0,
             "ticks": ""
            },
            "colorscale": [
             [
              0,
              "#0d0887"
             ],
             [
              0.1111111111111111,
              "#46039f"
             ],
             [
              0.2222222222222222,
              "#7201a8"
             ],
             [
              0.3333333333333333,
              "#9c179e"
             ],
             [
              0.4444444444444444,
              "#bd3786"
             ],
             [
              0.5555555555555556,
              "#d8576b"
             ],
             [
              0.6666666666666666,
              "#ed7953"
             ],
             [
              0.7777777777777778,
              "#fb9f3a"
             ],
             [
              0.8888888888888888,
              "#fdca26"
             ],
             [
              1,
              "#f0f921"
             ]
            ],
            "type": "contour"
           }
          ],
          "contourcarpet": [
           {
            "colorbar": {
             "outlinewidth": 0,
             "ticks": ""
            },
            "type": "contourcarpet"
           }
          ],
          "heatmap": [
           {
            "colorbar": {
             "outlinewidth": 0,
             "ticks": ""
            },
            "colorscale": [
             [
              0,
              "#0d0887"
             ],
             [
              0.1111111111111111,
              "#46039f"
             ],
             [
              0.2222222222222222,
              "#7201a8"
             ],
             [
              0.3333333333333333,
              "#9c179e"
             ],
             [
              0.4444444444444444,
              "#bd3786"
             ],
             [
              0.5555555555555556,
              "#d8576b"
             ],
             [
              0.6666666666666666,
              "#ed7953"
             ],
             [
              0.7777777777777778,
              "#fb9f3a"
             ],
             [
              0.8888888888888888,
              "#fdca26"
             ],
             [
              1,
              "#f0f921"
             ]
            ],
            "type": "heatmap"
           }
          ],
          "histogram": [
           {
            "marker": {
             "pattern": {
              "fillmode": "overlay",
              "size": 10,
              "solidity": 0.2
             }
            },
            "type": "histogram"
           }
          ],
          "histogram2d": [
           {
            "colorbar": {
             "outlinewidth": 0,
             "ticks": ""
            },
            "colorscale": [
             [
              0,
              "#0d0887"
             ],
             [
              0.1111111111111111,
              "#46039f"
             ],
             [
              0.2222222222222222,
              "#7201a8"
             ],
             [
              0.3333333333333333,
              "#9c179e"
             ],
             [
              0.4444444444444444,
              "#bd3786"
             ],
             [
              0.5555555555555556,
              "#d8576b"
             ],
             [
              0.6666666666666666,
              "#ed7953"
             ],
             [
              0.7777777777777778,
              "#fb9f3a"
             ],
             [
              0.8888888888888888,
              "#fdca26"
             ],
             [
              1,
              "#f0f921"
             ]
            ],
            "type": "histogram2d"
           }
          ],
          "histogram2dcontour": [
           {
            "colorbar": {
             "outlinewidth": 0,
             "ticks": ""
            },
            "colorscale": [
             [
              0,
              "#0d0887"
             ],
             [
              0.1111111111111111,
              "#46039f"
             ],
             [
              0.2222222222222222,
              "#7201a8"
             ],
             [
              0.3333333333333333,
              "#9c179e"
             ],
             [
              0.4444444444444444,
              "#bd3786"
             ],
             [
              0.5555555555555556,
              "#d8576b"
             ],
             [
              0.6666666666666666,
              "#ed7953"
             ],
             [
              0.7777777777777778,
              "#fb9f3a"
             ],
             [
              0.8888888888888888,
              "#fdca26"
             ],
             [
              1,
              "#f0f921"
             ]
            ],
            "type": "histogram2dcontour"
           }
          ],
          "mesh3d": [
           {
            "colorbar": {
             "outlinewidth": 0,
             "ticks": ""
            },
            "type": "mesh3d"
           }
          ],
          "parcoords": [
           {
            "line": {
             "colorbar": {
              "outlinewidth": 0,
              "ticks": ""
             }
            },
            "type": "parcoords"
           }
          ],
          "pie": [
           {
            "automargin": true,
            "type": "pie"
           }
          ],
          "scatter": [
           {
            "fillpattern": {
             "fillmode": "overlay",
             "size": 10,
             "solidity": 0.2
            },
            "type": "scatter"
           }
          ],
          "scatter3d": [
           {
            "line": {
             "colorbar": {
              "outlinewidth": 0,
              "ticks": ""
             }
            },
            "marker": {
             "colorbar": {
              "outlinewidth": 0,
              "ticks": ""
             }
            },
            "type": "scatter3d"
           }
          ],
          "scattercarpet": [
           {
            "marker": {
             "colorbar": {
              "outlinewidth": 0,
              "ticks": ""
             }
            },
            "type": "scattercarpet"
           }
          ],
          "scattergeo": [
           {
            "marker": {
             "colorbar": {
              "outlinewidth": 0,
              "ticks": ""
             }
            },
            "type": "scattergeo"
           }
          ],
          "scattergl": [
           {
            "marker": {
             "colorbar": {
              "outlinewidth": 0,
              "ticks": ""
             }
            },
            "type": "scattergl"
           }
          ],
          "scattermap": [
           {
            "marker": {
             "colorbar": {
              "outlinewidth": 0,
              "ticks": ""
             }
            },
            "type": "scattermap"
           }
          ],
          "scattermapbox": [
           {
            "marker": {
             "colorbar": {
              "outlinewidth": 0,
              "ticks": ""
             }
            },
            "type": "scattermapbox"
           }
          ],
          "scatterpolar": [
           {
            "marker": {
             "colorbar": {
              "outlinewidth": 0,
              "ticks": ""
             }
            },
            "type": "scatterpolar"
           }
          ],
          "scatterpolargl": [
           {
            "marker": {
             "colorbar": {
              "outlinewidth": 0,
              "ticks": ""
             }
            },
            "type": "scatterpolargl"
           }
          ],
          "scatterternary": [
           {
            "marker": {
             "colorbar": {
              "outlinewidth": 0,
              "ticks": ""
             }
            },
            "type": "scatterternary"
           }
          ],
          "surface": [
           {
            "colorbar": {
             "outlinewidth": 0,
             "ticks": ""
            },
            "colorscale": [
             [
              0,
              "#0d0887"
             ],
             [
              0.1111111111111111,
              "#46039f"
             ],
             [
              0.2222222222222222,
              "#7201a8"
             ],
             [
              0.3333333333333333,
              "#9c179e"
             ],
             [
              0.4444444444444444,
              "#bd3786"
             ],
             [
              0.5555555555555556,
              "#d8576b"
             ],
             [
              0.6666666666666666,
              "#ed7953"
             ],
             [
              0.7777777777777778,
              "#fb9f3a"
             ],
             [
              0.8888888888888888,
              "#fdca26"
             ],
             [
              1,
              "#f0f921"
             ]
            ],
            "type": "surface"
           }
          ],
          "table": [
           {
            "cells": {
             "fill": {
              "color": "#EBF0F8"
             },
             "line": {
              "color": "white"
             }
            },
            "header": {
             "fill": {
              "color": "#C8D4E3"
             },
             "line": {
              "color": "white"
             }
            },
            "type": "table"
           }
          ]
         },
         "layout": {
          "annotationdefaults": {
           "arrowcolor": "#2a3f5f",
           "arrowhead": 0,
           "arrowwidth": 1
          },
          "autotypenumbers": "strict",
          "coloraxis": {
           "colorbar": {
            "outlinewidth": 0,
            "ticks": ""
           }
          },
          "colorscale": {
           "diverging": [
            [
             0,
             "#8e0152"
            ],
            [
             0.1,
             "#c51b7d"
            ],
            [
             0.2,
             "#de77ae"
            ],
            [
             0.3,
             "#f1b6da"
            ],
            [
             0.4,
             "#fde0ef"
            ],
            [
             0.5,
             "#f7f7f7"
            ],
            [
             0.6,
             "#e6f5d0"
            ],
            [
             0.7,
             "#b8e186"
            ],
            [
             0.8,
             "#7fbc41"
            ],
            [
             0.9,
             "#4d9221"
            ],
            [
             1,
             "#276419"
            ]
           ],
           "sequential": [
            [
             0,
             "#0d0887"
            ],
            [
             0.1111111111111111,
             "#46039f"
            ],
            [
             0.2222222222222222,
             "#7201a8"
            ],
            [
             0.3333333333333333,
             "#9c179e"
            ],
            [
             0.4444444444444444,
             "#bd3786"
            ],
            [
             0.5555555555555556,
             "#d8576b"
            ],
            [
             0.6666666666666666,
             "#ed7953"
            ],
            [
             0.7777777777777778,
             "#fb9f3a"
            ],
            [
             0.8888888888888888,
             "#fdca26"
            ],
            [
             1,
             "#f0f921"
            ]
           ],
           "sequentialminus": [
            [
             0,
             "#0d0887"
            ],
            [
             0.1111111111111111,
             "#46039f"
            ],
            [
             0.2222222222222222,
             "#7201a8"
            ],
            [
             0.3333333333333333,
             "#9c179e"
            ],
            [
             0.4444444444444444,
             "#bd3786"
            ],
            [
             0.5555555555555556,
             "#d8576b"
            ],
            [
             0.6666666666666666,
             "#ed7953"
            ],
            [
             0.7777777777777778,
             "#fb9f3a"
            ],
            [
             0.8888888888888888,
             "#fdca26"
            ],
            [
             1,
             "#f0f921"
            ]
           ]
          },
          "colorway": [
           "#636efa",
           "#EF553B",
           "#00cc96",
           "#ab63fa",
           "#FFA15A",
           "#19d3f3",
           "#FF6692",
           "#B6E880",
           "#FF97FF",
           "#FECB52"
          ],
          "font": {
           "color": "#2a3f5f"
          },
          "geo": {
           "bgcolor": "white",
           "lakecolor": "white",
           "landcolor": "#E5ECF6",
           "showlakes": true,
           "showland": true,
           "subunitcolor": "white"
          },
          "hoverlabel": {
           "align": "left"
          },
          "hovermode": "closest",
          "mapbox": {
           "style": "light"
          },
          "paper_bgcolor": "white",
          "plot_bgcolor": "#E5ECF6",
          "polar": {
           "angularaxis": {
            "gridcolor": "white",
            "linecolor": "white",
            "ticks": ""
           },
           "bgcolor": "#E5ECF6",
           "radialaxis": {
            "gridcolor": "white",
            "linecolor": "white",
            "ticks": ""
           }
          },
          "scene": {
           "xaxis": {
            "backgroundcolor": "#E5ECF6",
            "gridcolor": "white",
            "gridwidth": 2,
            "linecolor": "white",
            "showbackground": true,
            "ticks": "",
            "zerolinecolor": "white"
           },
           "yaxis": {
            "backgroundcolor": "#E5ECF6",
            "gridcolor": "white",
            "gridwidth": 2,
            "linecolor": "white",
            "showbackground": true,
            "ticks": "",
            "zerolinecolor": "white"
           },
           "zaxis": {
            "backgroundcolor": "#E5ECF6",
            "gridcolor": "white",
            "gridwidth": 2,
            "linecolor": "white",
            "showbackground": true,
            "ticks": "",
            "zerolinecolor": "white"
           }
          },
          "shapedefaults": {
           "line": {
            "color": "#2a3f5f"
           }
          },
          "ternary": {
           "aaxis": {
            "gridcolor": "white",
            "linecolor": "white",
            "ticks": ""
           },
           "baxis": {
            "gridcolor": "white",
            "linecolor": "white",
            "ticks": ""
           },
           "bgcolor": "#E5ECF6",
           "caxis": {
            "gridcolor": "white",
            "linecolor": "white",
            "ticks": ""
           }
          },
          "title": {
           "x": 0.05
          },
          "xaxis": {
           "automargin": true,
           "gridcolor": "white",
           "linecolor": "white",
           "ticks": "",
           "title": {
            "standoff": 15
           },
           "zerolinecolor": "white",
           "zerolinewidth": 2
          },
          "yaxis": {
           "automargin": true,
           "gridcolor": "white",
           "linecolor": "white",
           "ticks": "",
           "title": {
            "standoff": 15
           },
           "zerolinecolor": "white",
           "zerolinewidth": 2
          }
         }
        },
        "title": {
         "text": "Sequence Length Distribution: Train vs Validation"
        },
        "xaxis": {
         "anchor": "y",
         "domain": [
          0,
          1
         ],
         "title": {
          "text": "length"
         }
        },
        "yaxis": {
         "anchor": "x",
         "domain": [
          0,
          1
         ],
         "title": {
          "text": "count"
         }
        }
       }
      }
     },
     "metadata": {},
     "output_type": "display_data"
    }
   ],
   "source": [
    "def get_set_sequences_lengths(set:DF, name:str) -> DF:\n",
    "    return (\n",
    "        set\n",
    "        .groupby(\"sequence_id\", observed=True)\n",
    "        .size()\n",
    "        .reset_index(name=\"length\")\n",
    "        .assign(set=name)\n",
    "    )\n",
    "\n",
    "full_se_lengths = pd.concat((\n",
    "    get_set_sequences_lengths(folds[2][0], \"Train\"),\n",
    "    get_set_sequences_lengths(folds[2][1], \"Validation\"),\n",
    "))\n",
    "\n",
    "fig = px.histogram(\n",
    "    full_se_lengths,\n",
    "    x=\"length\",\n",
    "    color=\"set\",\n",
    "    barmode=\"overlay\",  # or 'group' if you want side-by-side bars\n",
    "    nbins=50,           # adjust bin size if needed\n",
    "    title=\"Sequence Length Distribution: Train vs Validation\"\n",
    ")\n",
    "\n",
    "fig.update_traces(opacity=0.8)  # better visibility with overlay\n",
    "fig.show()\n"
   ]
  },
  {
   "cell_type": "code",
   "execution_count": null,
   "id": "c1d46756",
   "metadata": {},
   "outputs": [
    {
     "name": "stdout",
     "output_type": "stream",
     "text": [
      "train normed sequence len: 129\n",
      "validation normed sequence len: 124\n",
      "\n",
      "train normed sequence len: 124\n",
      "validation normed sequence len: 141\n",
      "\n",
      "train normed sequence len: 124\n",
      "validation normed sequence len: 136\n",
      "\n",
      "train normed sequence len: 127\n",
      "validation normed sequence len: 124\n",
      "\n",
      "train normed sequence len: 126\n",
      "validation normed sequence len: 131\n",
      "\n"
     ]
    }
   ],
   "source": [
    "for train, val in folds:\n",
    "    print(\"train normed sequence len:\", int(train.groupby(\"sequence_id\", observed=True).size().quantile(SEQUENCE_NORMED_LEN_QUANTILE)))\n",
    "    print(\"validation normed sequence len:\", int(val.groupby(\"sequence_id\", observed=True).size().quantile(SEQUENCE_NORMED_LEN_QUANTILE)))\n",
    "    print()"
   ]
  },
  {
   "cell_type": "markdown",
   "id": "c89d5f21",
   "metadata": {},
   "source": [
    "#### Sequence length norm implementation"
   ]
  },
  {
   "cell_type": "code",
   "execution_count": null,
   "id": "5d128055",
   "metadata": {},
   "outputs": [
    {
     "data": {
      "application/vnd.jupyter.widget-view+json": {
       "model_id": "cc4c94b4ff0b4750bbfe073ec2edb9d2",
       "version_major": 2,
       "version_minor": 0
      },
      "text/plain": [
       "  0%|          | 0/6519 [00:00<?, ?it/s]"
      ]
     },
     "metadata": {},
     "output_type": "display_data"
    },
    {
     "data": {
      "application/vnd.jupyter.widget-view+json": {
       "model_id": "dadb71d17da0407bbaf7a4992ce114c0",
       "version_major": 2,
       "version_minor": 0
      },
      "text/plain": [
       "  0%|          | 0/1632 [00:00<?, ?it/s]"
      ]
     },
     "metadata": {},
     "output_type": "display_data"
    },
    {
     "data": {
      "application/vnd.jupyter.widget-view+json": {
       "model_id": "ccc7d6ec307c4eff930c801a3afeb581",
       "version_major": 2,
       "version_minor": 0
      },
      "text/plain": [
       "  0%|          | 0/6519 [00:00<?, ?it/s]"
      ]
     },
     "metadata": {},
     "output_type": "display_data"
    },
    {
     "data": {
      "application/vnd.jupyter.widget-view+json": {
       "model_id": "2a1d80fa0a3143349c727a2e8c5e3616",
       "version_major": 2,
       "version_minor": 0
      },
      "text/plain": [
       "  0%|          | 0/1632 [00:00<?, ?it/s]"
      ]
     },
     "metadata": {},
     "output_type": "display_data"
    },
    {
     "data": {
      "application/vnd.jupyter.widget-view+json": {
       "model_id": "a2acaf719ccd4813b35d9463bf330a3b",
       "version_major": 2,
       "version_minor": 0
      },
      "text/plain": [
       "  0%|          | 0/6519 [00:00<?, ?it/s]"
      ]
     },
     "metadata": {},
     "output_type": "display_data"
    },
    {
     "data": {
      "application/vnd.jupyter.widget-view+json": {
       "model_id": "adbbd87577814895b1ba3f484386c5b9",
       "version_major": 2,
       "version_minor": 0
      },
      "text/plain": [
       "  0%|          | 0/1632 [00:00<?, ?it/s]"
      ]
     },
     "metadata": {},
     "output_type": "display_data"
    },
    {
     "data": {
      "application/vnd.jupyter.widget-view+json": {
       "model_id": "7f503b54a19c4f2cbe71affa66990d50",
       "version_major": 2,
       "version_minor": 0
      },
      "text/plain": [
       "  0%|          | 0/6519 [00:00<?, ?it/s]"
      ]
     },
     "metadata": {},
     "output_type": "display_data"
    },
    {
     "data": {
      "application/vnd.jupyter.widget-view+json": {
       "model_id": "c9b62351878c47bea0c9da9c1b29c23b",
       "version_major": 2,
       "version_minor": 0
      },
      "text/plain": [
       "  0%|          | 0/1632 [00:00<?, ?it/s]"
      ]
     },
     "metadata": {},
     "output_type": "display_data"
    },
    {
     "data": {
      "application/vnd.jupyter.widget-view+json": {
       "model_id": "05e8386a4b8a4d2b97892d9f577d43d9",
       "version_major": 2,
       "version_minor": 0
      },
      "text/plain": [
       "  0%|          | 0/6519 [00:00<?, ?it/s]"
      ]
     },
     "metadata": {},
     "output_type": "display_data"
    },
    {
     "data": {
      "application/vnd.jupyter.widget-view+json": {
       "model_id": "9182951520904863a7736bb2690db17b",
       "version_major": 2,
       "version_minor": 0
      },
      "text/plain": [
       "  0%|          | 0/1632 [00:00<?, ?it/s]"
      ]
     },
     "metadata": {},
     "output_type": "display_data"
    }
   ],
   "source": [
    "gesture_cols = df[\"gesture\"].unique()\n",
    "\n",
    "def length_normed_sequence_feat_arr(sequence: DF, normed_sequence_len: int) -> ndarray:\n",
    "    features = (\n",
    "        sequence\n",
    "        .loc[:, get_feature_cols(df)]\n",
    "        .values\n",
    "    )\n",
    "    len_diff = abs(normed_sequence_len - len(features))\n",
    "    if len(features) < normed_sequence_len:\n",
    "        padded_features = np.pad(\n",
    "            features,\n",
    "            ((len_diff // 2 + len_diff % 2, len_diff // 2), (0, 0)),\n",
    "        )\n",
    "        return padded_features\n",
    "    elif len(features) > normed_sequence_len:\n",
    "        return features[len_diff // 2:-len_diff // 2]\n",
    "    else:\n",
    "        return features\n",
    "\n",
    "def df_to_ndarrays(df:DF, normed_sequence_len:int) -> tuple[np.ndarray, np.ndarray]:\n",
    "    sequence_it = df.groupby(\"sequence_id\", observed=True, as_index=False)\n",
    "    x = np.empty(\n",
    "        shape=(len(sequence_it), normed_sequence_len, len(get_feature_cols(df))),\n",
    "        dtype=\"float32\"\n",
    "    )\n",
    "    y = np.empty(\n",
    "        shape=(len(sequence_it), df[\"gesture\"].nunique()),\n",
    "        dtype=\"float32\"\n",
    "    )\n",
    "    for sequence_idx, (_, sequence) in tqdm(enumerate(sequence_it), total=len(sequence_it)):\n",
    "        normed_seq_feat_arr = length_normed_sequence_feat_arr(sequence, normed_sequence_len)\n",
    "        x[sequence_idx] = normed_seq_feat_arr\n",
    "        # Take the first value as they are(or at least should be) all the same in a single sequence\n",
    "        y[sequence_idx] = sequence[gesture_cols].iloc[0].values\n",
    "\n",
    "    return x, y\n",
    "\n",
    "def get_normed_seq_len(dataset:DF) -> int:\n",
    "    return int(\n",
    "        dataset\n",
    "        .groupby(\"sequence_id\", observed=True)\n",
    "        .size()\n",
    "        .quantile(SEQUENCE_NORMED_LEN_QUANTILE)\n",
    "    )\n",
    "\n",
    "def fold_dfs_to_ndarrays(train:DF, validation:DF) -> tuple[ndarray, ndarray, ndarray, ndarray]:\n",
    "    \"\"\"\n",
    "    Returns:\n",
    "        (train X, train Y, validation X, validation Y)\n",
    "    \"\"\"\n",
    "    normed_sequence_len = get_normed_seq_len(train)\n",
    "    return (\n",
    "        *df_to_ndarrays(train, normed_sequence_len),\n",
    "        *df_to_ndarrays(validation, normed_sequence_len),\n",
    "    )\n",
    "\n",
    "folds_arrs = list(starmap(fold_dfs_to_ndarrays, folds))"
   ]
  },
  {
   "cell_type": "code",
   "execution_count": null,
   "id": "80490c33",
   "metadata": {},
   "outputs": [
    {
     "data": {
      "application/vnd.jupyter.widget-view+json": {
       "model_id": "1664d796906b461bb1b6d357409f38de",
       "version_major": 2,
       "version_minor": 0
      },
      "text/plain": [
       "  0%|          | 0/8151 [00:00<?, ?it/s]"
      ]
     },
     "metadata": {},
     "output_type": "display_data"
    }
   ],
   "source": [
    "full_dataset_sequence_length_norm = get_normed_seq_len(df)\n",
    "full_x, full_y = df_to_ndarrays(df, full_dataset_sequence_length_norm)"
   ]
  },
  {
   "cell_type": "markdown",
   "id": "b99f60c2",
   "metadata": {},
   "source": [
    "## Create dataset"
   ]
  },
  {
   "cell_type": "code",
   "execution_count": null,
   "id": "a46b79b2",
   "metadata": {},
   "outputs": [],
   "source": [
    "# Clean dataset directory if it already exists\n",
    "! rm -rf preprocessed_dataset\n",
    "# Create dataset direcory\n",
    "! mkdir preprocessed_dataset\n",
    "# Save folds\n",
    "for fold_i, (train_x, train_y, val_x, val_y) in enumerate(folds_arrs):\n",
    "    fold_dir_path = join(\"preprocessed_dataset\", f\"fold_{fold_i}\")\n",
    "    os.makedirs(fold_dir_path)\n",
    "    # save features (X)\n",
    "    np.save(join(fold_dir_path, \"train_X.npy\"), train_x, allow_pickle=False)\n",
    "    np.save(join(fold_dir_path, \"validation_X.npy\"), val_x, allow_pickle=False)\n",
    "    # Save targets (Y)\n",
    "    np.save(join(fold_dir_path, \"train_Y.npy\"), train_y, allow_pickle=False)\n",
    "    np.save(join(fold_dir_path, \"validation_Y.npy\"), val_y, allow_pickle=False)\n",
    "# Save full dataset\n",
    "full_dataset_dir_path = \"preprocessed_dataset/full_dataset\"\n",
    "os.makedirs(full_dataset_dir_path)\n",
    "np.save(join(full_dataset_dir_path, \"X.npy\"), full_x, allow_pickle=False)\n",
    "np.save(join(full_dataset_dir_path, \"Y.npy\"), full_y, allow_pickle=False)\n",
    "# Save dataset meta data\n",
    "full_dataset_meta_data[\"target_names\"] = one_hot_target.columns.to_list()\n",
    "full_dataset_meta_data[\"pad_seq_len\"] = full_dataset_sequence_length_norm\n",
    "full_dataset_meta_data[\"get_feature_cols(df)\"] = get_feature_cols(df)\n",
    "\n",
    "with open(\"preprocessed_dataset/full_dataset_meta_data.json\", \"w\") as fp:\n",
    "    json.dump(full_dataset_meta_data, fp, indent=4)"
   ]
  },
  {
   "cell_type": "code",
   "execution_count": null,
   "id": "0b77ea50",
   "metadata": {},
   "outputs": [
    {
     "data": {
      "text/html": [
       "<div>\n",
       "<style scoped>\n",
       "    .dataframe tbody tr th:only-of-type {\n",
       "        vertical-align: middle;\n",
       "    }\n",
       "\n",
       "    .dataframe tbody tr th {\n",
       "        vertical-align: top;\n",
       "    }\n",
       "\n",
       "    .dataframe thead th {\n",
       "        text-align: right;\n",
       "    }\n",
       "</style>\n",
       "<table border=\"1\" class=\"dataframe\">\n",
       "  <thead>\n",
       "    <tr style=\"text-align: right;\">\n",
       "      <th></th>\n",
       "      <th>gravity_free_acc_y</th>\n",
       "      <th>tof_5</th>\n",
       "      <th>thm_3</th>\n",
       "      <th>thm_1</th>\n",
       "      <th>rot_z</th>\n",
       "      <th>thm_5</th>\n",
       "      <th>tof_2</th>\n",
       "      <th>acc_y</th>\n",
       "      <th>tof_4</th>\n",
       "      <th>thm_4</th>\n",
       "      <th>...</th>\n",
       "      <th>tof_1</th>\n",
       "      <th>rot_x</th>\n",
       "      <th>tof_3</th>\n",
       "      <th>gravity_free_acc_z</th>\n",
       "      <th>euler_x</th>\n",
       "      <th>rot_w</th>\n",
       "      <th>gravity_free_acc_x</th>\n",
       "      <th>euler_y</th>\n",
       "      <th>acc_x</th>\n",
       "      <th>acc_z</th>\n",
       "    </tr>\n",
       "  </thead>\n",
       "  <tbody>\n",
       "    <tr>\n",
       "      <th>0</th>\n",
       "      <td>0.378283</td>\n",
       "      <td>0.404678</td>\n",
       "      <td>0.633442</td>\n",
       "      <td>0.502318</td>\n",
       "      <td>-1.238540</td>\n",
       "      <td>0.477938</td>\n",
       "      <td>0.148727</td>\n",
       "      <td>0.884130</td>\n",
       "      <td>-0.016778</td>\n",
       "      <td>0.367246</td>\n",
       "      <td>...</td>\n",
       "      <td>0.339571</td>\n",
       "      <td>-0.508525</td>\n",
       "      <td>-0.454938</td>\n",
       "      <td>-0.191143</td>\n",
       "      <td>0.191240</td>\n",
       "      <td>-0.997151</td>\n",
       "      <td>0.921929</td>\n",
       "      <td>0.883372</td>\n",
       "      <td>0.872408</td>\n",
       "      <td>0.625816</td>\n",
       "    </tr>\n",
       "    <tr>\n",
       "      <th>1</th>\n",
       "      <td>0.441917</td>\n",
       "      <td>0.433771</td>\n",
       "      <td>0.681437</td>\n",
       "      <td>0.593105</td>\n",
       "      <td>-1.267920</td>\n",
       "      <td>0.492298</td>\n",
       "      <td>0.199531</td>\n",
       "      <td>0.884130</td>\n",
       "      <td>0.002596</td>\n",
       "      <td>0.386687</td>\n",
       "      <td>...</td>\n",
       "      <td>0.349948</td>\n",
       "      <td>-0.476437</td>\n",
       "      <td>-0.337148</td>\n",
       "      <td>-0.239702</td>\n",
       "      <td>0.150843</td>\n",
       "      <td>-0.957737</td>\n",
       "      <td>0.935809</td>\n",
       "      <td>0.860138</td>\n",
       "      <td>0.918353</td>\n",
       "      <td>0.588012</td>\n",
       "    </tr>\n",
       "    <tr>\n",
       "      <th>2</th>\n",
       "      <td>0.663317</td>\n",
       "      <td>0.490583</td>\n",
       "      <td>0.741405</td>\n",
       "      <td>0.821468</td>\n",
       "      <td>-1.349747</td>\n",
       "      <td>0.510858</td>\n",
       "      <td>0.371769</td>\n",
       "      <td>0.723320</td>\n",
       "      <td>0.026308</td>\n",
       "      <td>0.423273</td>\n",
       "      <td>...</td>\n",
       "      <td>0.398864</td>\n",
       "      <td>-0.334147</td>\n",
       "      <td>0.022423</td>\n",
       "      <td>0.018062</td>\n",
       "      <td>-0.047236</td>\n",
       "      <td>-0.630264</td>\n",
       "      <td>0.779645</td>\n",
       "      <td>0.754947</td>\n",
       "      <td>0.706192</td>\n",
       "      <td>0.964766</td>\n",
       "    </tr>\n",
       "    <tr>\n",
       "      <th>3</th>\n",
       "      <td>0.700636</td>\n",
       "      <td>0.532300</td>\n",
       "      <td>0.584725</td>\n",
       "      <td>0.868207</td>\n",
       "      <td>-1.390175</td>\n",
       "      <td>0.341522</td>\n",
       "      <td>0.644067</td>\n",
       "      <td>0.347835</td>\n",
       "      <td>0.459197</td>\n",
       "      <td>0.484648</td>\n",
       "      <td>...</td>\n",
       "      <td>0.621508</td>\n",
       "      <td>-0.312448</td>\n",
       "      <td>0.543179</td>\n",
       "      <td>0.236127</td>\n",
       "      <td>-0.231340</td>\n",
       "      <td>-0.290093</td>\n",
       "      <td>0.839486</td>\n",
       "      <td>0.714206</td>\n",
       "      <td>0.858218</td>\n",
       "      <td>1.134561</td>\n",
       "    </tr>\n",
       "    <tr>\n",
       "      <th>4</th>\n",
       "      <td>0.487647</td>\n",
       "      <td>0.684347</td>\n",
       "      <td>0.081696</td>\n",
       "      <td>0.587718</td>\n",
       "      <td>-1.447599</td>\n",
       "      <td>0.334854</td>\n",
       "      <td>0.789974</td>\n",
       "      <td>-0.302433</td>\n",
       "      <td>0.731018</td>\n",
       "      <td>0.592139</td>\n",
       "      <td>...</td>\n",
       "      <td>1.073910</td>\n",
       "      <td>-0.214344</td>\n",
       "      <td>0.870276</td>\n",
       "      <td>0.639598</td>\n",
       "      <td>-0.342103</td>\n",
       "      <td>-0.134027</td>\n",
       "      <td>0.600054</td>\n",
       "      <td>0.418963</td>\n",
       "      <td>0.679165</td>\n",
       "      <td>1.655481</td>\n",
       "    </tr>\n",
       "    <tr>\n",
       "      <th>...</th>\n",
       "      <td>...</td>\n",
       "      <td>...</td>\n",
       "      <td>...</td>\n",
       "      <td>...</td>\n",
       "      <td>...</td>\n",
       "      <td>...</td>\n",
       "      <td>...</td>\n",
       "      <td>...</td>\n",
       "      <td>...</td>\n",
       "      <td>...</td>\n",
       "      <td>...</td>\n",
       "      <td>...</td>\n",
       "      <td>...</td>\n",
       "      <td>...</td>\n",
       "      <td>...</td>\n",
       "      <td>...</td>\n",
       "      <td>...</td>\n",
       "      <td>...</td>\n",
       "      <td>...</td>\n",
       "      <td>...</td>\n",
       "      <td>...</td>\n",
       "    </tr>\n",
       "    <tr>\n",
       "      <th>574940</th>\n",
       "      <td>-1.541394</td>\n",
       "      <td>-1.044439</td>\n",
       "      <td>0.292463</td>\n",
       "      <td>0.590561</td>\n",
       "      <td>0.070326</td>\n",
       "      <td>0.656701</td>\n",
       "      <td>-0.829872</td>\n",
       "      <td>-0.444509</td>\n",
       "      <td>-0.929112</td>\n",
       "      <td>0.854270</td>\n",
       "      <td>...</td>\n",
       "      <td>-1.001627</td>\n",
       "      <td>-1.601608</td>\n",
       "      <td>0.541703</td>\n",
       "      <td>-0.166781</td>\n",
       "      <td>1.457859</td>\n",
       "      <td>-1.117506</td>\n",
       "      <td>0.345242</td>\n",
       "      <td>0.287935</td>\n",
       "      <td>0.322408</td>\n",
       "      <td>-1.309212</td>\n",
       "    </tr>\n",
       "    <tr>\n",
       "      <th>574941</th>\n",
       "      <td>-1.547135</td>\n",
       "      <td>-1.014798</td>\n",
       "      <td>0.314339</td>\n",
       "      <td>0.599804</td>\n",
       "      <td>0.045559</td>\n",
       "      <td>0.618153</td>\n",
       "      <td>-0.851557</td>\n",
       "      <td>-0.490566</td>\n",
       "      <td>-0.996778</td>\n",
       "      <td>0.870208</td>\n",
       "      <td>...</td>\n",
       "      <td>-0.969906</td>\n",
       "      <td>-1.607920</td>\n",
       "      <td>0.533437</td>\n",
       "      <td>-0.249065</td>\n",
       "      <td>1.471826</td>\n",
       "      <td>-1.100313</td>\n",
       "      <td>0.390242</td>\n",
       "      <td>0.326326</td>\n",
       "      <td>0.369030</td>\n",
       "      <td>-1.434796</td>\n",
       "    </tr>\n",
       "    <tr>\n",
       "      <th>574942</th>\n",
       "      <td>-1.418637</td>\n",
       "      <td>-0.963200</td>\n",
       "      <td>0.299698</td>\n",
       "      <td>0.620099</td>\n",
       "      <td>0.041674</td>\n",
       "      <td>0.618153</td>\n",
       "      <td>-0.925905</td>\n",
       "      <td>-0.314143</td>\n",
       "      <td>-1.002272</td>\n",
       "      <td>0.848956</td>\n",
       "      <td>...</td>\n",
       "      <td>-1.037499</td>\n",
       "      <td>-1.605422</td>\n",
       "      <td>0.399410</td>\n",
       "      <td>-0.024379</td>\n",
       "      <td>1.470549</td>\n",
       "      <td>-1.089203</td>\n",
       "      <td>0.333282</td>\n",
       "      <td>0.335326</td>\n",
       "      <td>0.249436</td>\n",
       "      <td>-1.138775</td>\n",
       "    </tr>\n",
       "    <tr>\n",
       "      <th>574943</th>\n",
       "      <td>-1.473273</td>\n",
       "      <td>-1.007662</td>\n",
       "      <td>0.330572</td>\n",
       "      <td>0.695652</td>\n",
       "      <td>0.017150</td>\n",
       "      <td>0.561656</td>\n",
       "      <td>-0.894307</td>\n",
       "      <td>-0.429677</td>\n",
       "      <td>-0.900484</td>\n",
       "      <td>0.864896</td>\n",
       "      <td>...</td>\n",
       "      <td>-1.027123</td>\n",
       "      <td>-1.610813</td>\n",
       "      <td>0.467900</td>\n",
       "      <td>-0.223986</td>\n",
       "      <td>1.484620</td>\n",
       "      <td>-1.070422</td>\n",
       "      <td>0.433050</td>\n",
       "      <td>0.374099</td>\n",
       "      <td>0.402138</td>\n",
       "      <td>-1.414933</td>\n",
       "    </tr>\n",
       "    <tr>\n",
       "      <th>574944</th>\n",
       "      <td>-1.565205</td>\n",
       "      <td>-1.001624</td>\n",
       "      <td>0.314339</td>\n",
       "      <td>0.674440</td>\n",
       "      <td>0.030262</td>\n",
       "      <td>0.560475</td>\n",
       "      <td>-0.881296</td>\n",
       "      <td>-0.544430</td>\n",
       "      <td>-0.895279</td>\n",
       "      <td>0.872298</td>\n",
       "      <td>...</td>\n",
       "      <td>-0.994512</td>\n",
       "      <td>-1.613970</td>\n",
       "      <td>0.531666</td>\n",
       "      <td>-0.289351</td>\n",
       "      <td>1.483514</td>\n",
       "      <td>-1.092377</td>\n",
       "      <td>0.446904</td>\n",
       "      <td>0.349115</td>\n",
       "      <td>0.454841</td>\n",
       "      <td>-1.503996</td>\n",
       "    </tr>\n",
       "  </tbody>\n",
       "</table>\n",
       "<p>574945 rows × 23 columns</p>\n",
       "</div>"
      ],
      "text/plain": [
       "        gravity_free_acc_y     tof_5     thm_3     thm_1     rot_z     thm_5  \\\n",
       "0                 0.378283  0.404678  0.633442  0.502318 -1.238540  0.477938   \n",
       "1                 0.441917  0.433771  0.681437  0.593105 -1.267920  0.492298   \n",
       "2                 0.663317  0.490583  0.741405  0.821468 -1.349747  0.510858   \n",
       "3                 0.700636  0.532300  0.584725  0.868207 -1.390175  0.341522   \n",
       "4                 0.487647  0.684347  0.081696  0.587718 -1.447599  0.334854   \n",
       "...                    ...       ...       ...       ...       ...       ...   \n",
       "574940           -1.541394 -1.044439  0.292463  0.590561  0.070326  0.656701   \n",
       "574941           -1.547135 -1.014798  0.314339  0.599804  0.045559  0.618153   \n",
       "574942           -1.418637 -0.963200  0.299698  0.620099  0.041674  0.618153   \n",
       "574943           -1.473273 -1.007662  0.330572  0.695652  0.017150  0.561656   \n",
       "574944           -1.565205 -1.001624  0.314339  0.674440  0.030262  0.560475   \n",
       "\n",
       "           tof_2     acc_y     tof_4     thm_4  ...     tof_1     rot_x  \\\n",
       "0       0.148727  0.884130 -0.016778  0.367246  ...  0.339571 -0.508525   \n",
       "1       0.199531  0.884130  0.002596  0.386687  ...  0.349948 -0.476437   \n",
       "2       0.371769  0.723320  0.026308  0.423273  ...  0.398864 -0.334147   \n",
       "3       0.644067  0.347835  0.459197  0.484648  ...  0.621508 -0.312448   \n",
       "4       0.789974 -0.302433  0.731018  0.592139  ...  1.073910 -0.214344   \n",
       "...          ...       ...       ...       ...  ...       ...       ...   \n",
       "574940 -0.829872 -0.444509 -0.929112  0.854270  ... -1.001627 -1.601608   \n",
       "574941 -0.851557 -0.490566 -0.996778  0.870208  ... -0.969906 -1.607920   \n",
       "574942 -0.925905 -0.314143 -1.002272  0.848956  ... -1.037499 -1.605422   \n",
       "574943 -0.894307 -0.429677 -0.900484  0.864896  ... -1.027123 -1.610813   \n",
       "574944 -0.881296 -0.544430 -0.895279  0.872298  ... -0.994512 -1.613970   \n",
       "\n",
       "           tof_3  gravity_free_acc_z   euler_x     rot_w  gravity_free_acc_x  \\\n",
       "0      -0.454938           -0.191143  0.191240 -0.997151            0.921929   \n",
       "1      -0.337148           -0.239702  0.150843 -0.957737            0.935809   \n",
       "2       0.022423            0.018062 -0.047236 -0.630264            0.779645   \n",
       "3       0.543179            0.236127 -0.231340 -0.290093            0.839486   \n",
       "4       0.870276            0.639598 -0.342103 -0.134027            0.600054   \n",
       "...          ...                 ...       ...       ...                 ...   \n",
       "574940  0.541703           -0.166781  1.457859 -1.117506            0.345242   \n",
       "574941  0.533437           -0.249065  1.471826 -1.100313            0.390242   \n",
       "574942  0.399410           -0.024379  1.470549 -1.089203            0.333282   \n",
       "574943  0.467900           -0.223986  1.484620 -1.070422            0.433050   \n",
       "574944  0.531666           -0.289351  1.483514 -1.092377            0.446904   \n",
       "\n",
       "         euler_y     acc_x     acc_z  \n",
       "0       0.883372  0.872408  0.625816  \n",
       "1       0.860138  0.918353  0.588012  \n",
       "2       0.754947  0.706192  0.964766  \n",
       "3       0.714206  0.858218  1.134561  \n",
       "4       0.418963  0.679165  1.655481  \n",
       "...          ...       ...       ...  \n",
       "574940  0.287935  0.322408 -1.309212  \n",
       "574941  0.326326  0.369030 -1.434796  \n",
       "574942  0.335326  0.249436 -1.138775  \n",
       "574943  0.374099  0.402138 -1.414933  \n",
       "574944  0.349115  0.454841 -1.503996  \n",
       "\n",
       "[574945 rows x 23 columns]"
      ]
     },
     "execution_count": 22,
     "metadata": {},
     "output_type": "execute_result"
    }
   ],
   "source": [
    "df[get_feature_cols(df)]"
   ]
  },
  {
   "cell_type": "markdown",
   "id": "b2775c75",
   "metadata": {},
   "source": [
    "## Dataset upload\n",
    "Optionally upload the dataset to kaggle."
   ]
  },
  {
   "cell_type": "code",
   "execution_count": null,
   "id": "d0b40895",
   "metadata": {},
   "outputs": [
    {
     "name": "stdout",
     "output_type": "stream",
     "text": [
      "Dataset has not been uploaded.\n"
     ]
    }
   ],
   "source": [
    "if input(\"Do you want to upload the  dataset to kaggle?[yes/no]\").lower() == \"yes\":\n",
    "    # Updaload the dataset\n",
    "    dataset_upload(\n",
    "        join(whoami()[\"username\"], \"prepocessed-cmi-2025\"),\n",
    "        \"preprocessed_dataset\",\n",
    "        version_notes=\"Preprocessed Child Mind Institue 2025 competition dataset.\"\n",
    "    )\n",
    "else:\n",
    "    print(\"Dataset has not been uploaded.\")"
   ]
  }
 ],
 "metadata": {
  "kernelspec": {
   "display_name": "CMI",
   "language": "python",
   "name": "python3"
  },
  "language_info": {
   "codemirror_mode": {
    "name": "ipython",
    "version": 3
   },
   "file_extension": ".py",
   "mimetype": "text/x-python",
   "name": "python",
   "nbconvert_exporter": "python",
   "pygments_lexer": "ipython3",
   "version": "3.11.5"
  }
 },
 "nbformat": 4,
 "nbformat_minor": 5
}
