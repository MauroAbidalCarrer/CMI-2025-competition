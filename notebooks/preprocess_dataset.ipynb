{
 "cells": [
  {
   "cell_type": "markdown",
   "id": "7c1fbf88",
   "metadata": {},
   "source": [
    "# Dataset preprocessing\n",
    "\n",
    "The goal of this notebook is to create a preprocessed kaggle dataset out of the competition dataset.  \n",
    "For now, the preprocessing will be based on [this notebook](https://www.kaggle.com/code/vonmainstein/imu-tof).  \n",
    "It consists of the following steps:\n",
    "-   Set the appropriate dtypes (helps with RAM usage).\n",
    "-   Impute missing feature values with forward, backward and then 0 filling.\n",
    "-   Split the dataset into multiple cross validation folds.\n",
    "-   Standardize feature values.\n",
    "-   Pad/Truncate the sequences to the same length.  \n",
    "\n",
    "> Note:  \n",
    "> - Demographics data set will be ignored for now.  "
   ]
  },
  {
   "cell_type": "markdown",
   "id": "3e390dcd",
   "metadata": {},
   "source": [
    "## Setup"
   ]
  },
  {
   "cell_type": "markdown",
   "id": "67848297",
   "metadata": {},
   "source": [
    "### Imports"
   ]
  },
  {
   "cell_type": "code",
   "execution_count": 1,
   "id": "3b58565a",
   "metadata": {},
   "outputs": [],
   "source": [
    "import os\n",
    "import json\n",
    "import warnings\n",
    "from os.path import join\n",
    "from tqdm.notebook import tqdm\n",
    "from itertools import repeat, starmap, product\n",
    "\n",
    "import numpy as np\n",
    "import pandas as pd\n",
    "from numpy import ndarray\n",
    "import plotly.express as px\n",
    "from numpy.linalg import norm\n",
    "from pandas import DataFrame as DF\n",
    "from scipy.spatial.transform import Rotation\n",
    "from sklearn.model_selection import StratifiedGroupKFold\n",
    "from kagglehub import whoami, competition_download, dataset_upload"
   ]
  },
  {
   "cell_type": "markdown",
   "id": "2102ea8c",
   "metadata": {},
   "source": [
    "### Supress performance warngings"
   ]
  },
  {
   "cell_type": "code",
   "execution_count": 2,
   "id": "fb820d2b",
   "metadata": {},
   "outputs": [],
   "source": [
    "warnings.filterwarnings(\n",
    "    \"ignore\",\n",
    "    message=(\n",
    "        \"DataFrame is highly fragmented.  This is usually the result of \"\n",
    "        \"calling `frame.insert` many times.*\"\n",
    "    ),\n",
    "    category=pd.errors.PerformanceWarning,\n",
    ")"
   ]
  },
  {
   "cell_type": "markdown",
   "id": "4386f64d",
   "metadata": {},
   "source": [
    "### Config"
   ]
  },
  {
   "cell_type": "code",
   "execution_count": 3,
   "id": "a522c427",
   "metadata": {},
   "outputs": [],
   "source": [
    "QUATERNION_COLS = ['rot_w', 'rot_x', 'rot_y', 'rot_z']\n",
    "GRAVITY_WORLD = np.array([0, 0, 9.81], \"float32\")\n",
    "RAW_ACCELRATION_COLS = [\"acc_x\", \"acc_y\", \"acc_z\"]\n",
    "LINEAR_ACC_COLS = [\"gravity_free_\" + col for col in RAW_ACCELRATION_COLS]\n",
    "COMPETITION_HANDLE = \"cmi-detect-behavior-with-sensor-data\"\n",
    "CATEGORY_COLUMNS = [\n",
    "    'row_id',\n",
    "    'sequence_type',\n",
    "    'sequence_id',\n",
    "    'subject',\n",
    "    'orientation',\n",
    "    'behavior',\n",
    "    'phase',\n",
    "    'gesture',\n",
    "]\n",
    "META_DATA_COLUMNS = [\n",
    "    'row_id',\n",
    "    'sequence_type',\n",
    "    'sequence_id',\n",
    "    'sequence_counter',\n",
    "    'subject',\n",
    "    'orientation',\n",
    "    'behavior',\n",
    "    'phase',\n",
    "    'gesture',\n",
    "]\n",
    "DATASET_DF_DTYPES = {\n",
    "    \"acc_x\": \"float32\", \"acc_y\": \"float32\", \"acc_z\": \"float32\",\n",
    "    \"thm_1\":\"float32\", \"thm_2\":\"float32\", \"thm_3\":\"float32\", \"thm_4\":\"float32\", \"thm_5\":\"float32\",\n",
    "    \"sequence_counter\": \"int32\",\n",
    "    **{col: \"category\" for col in CATEGORY_COLUMNS},\n",
    "    **{f\"tof_{i_1}_v{i_2}\": \"float32\" for i_1, i_2 in product(range(1, 5), range(64))},\n",
    "}\n",
    "PREPROCESSED_DATASET_HANDLE = \"mauroabidalcarrer/prepocessed-cmi-2025\"\n",
    "# The quantile of the sequences len used to pad/truncate during preprocessing\n",
    "SEQUENCE_NORMED_LEN_QUANTILE = 0.95\n",
    "# SAMPLING_FREQUENCY = 10 #Hz\n",
    "N_FOLDS = 5\n",
    "VALIDATION_FRACTION = 0.2\n",
    "TARGET_NAMES = sorted([\n",
    "    \"Above ear - pull hair\",\n",
    "    \"Cheek - pinch skin\",\n",
    "    \"Eyebrow - pull hair\",\n",
    "    \"Eyelash - pull hair\",\n",
    "    \"Feel around in tray and pull out an object\",\n",
    "    \"Forehead - pull hairline\",\n",
    "    \"Forehead - scratch\",\n",
    "    \"Neck - pinch skin\",\n",
    "    \"Neck - scratch\",\n",
    "    \"Text on phone\",\n",
    "    \"Wave hello\",\n",
    "    \"Write name in air\",\n",
    "    \"Write name on leg\",\n",
    "    \"Drink from bottle/cup\",\n",
    "    \"Pinch knee/leg skin\",\n",
    "    \"Pull air toward your face\",\n",
    "    \"Scratch knee/leg skin\",\n",
    "    \"Glasses on/off\"\n",
    "])\n",
    "EPSILON=1e-8\n",
    "DELTA_ROTATION_ANGULAR_VELOCITY_COLS = [\"angular_vel_x\", \"angular_vel_y\", \"angular_vel_z\"]\n",
    "DELTA_ROTATION_AXES_COLS = [\"rotation_axis_x\", \"rotation_axis_y\", \"rotation_axis_z\"]\n",
    "EULER_ANGLES_COLS = [\"euler_x\", \"euler_y\", \"euler_z\"]"
   ]
  },
  {
   "cell_type": "markdown",
   "id": "f27f6677",
   "metadata": {},
   "source": [
    "### Define function to get the feature columns\n",
    "Feature columns change over time so it's better to have a function to get them than manually update a variable every time we add/remove features."
   ]
  },
  {
   "cell_type": "code",
   "execution_count": 4,
   "id": "e2db0953",
   "metadata": {},
   "outputs": [],
   "source": [
    "def get_feature_cols(df:DF) -> list[str]:\n",
    "    return sorted(list(set(df.columns) - set(META_DATA_COLUMNS) - set(TARGET_NAMES)))"
   ]
  },
  {
   "cell_type": "markdown",
   "id": "773eda72",
   "metadata": {},
   "source": [
    "### Load dataset\n",
    "Requires to be logged in if this notebook is not running on kaggle, go to [your settings](https://www.kaggle.com/settings) to create an access token and put it in `~/.kaggle/`."
   ]
  },
  {
   "cell_type": "code",
   "execution_count": 5,
   "id": "58b8bc22",
   "metadata": {},
   "outputs": [],
   "source": [
    "competition_dataset_path = competition_download(COMPETITION_HANDLE)\n",
    "df = pd.read_csv(join(competition_dataset_path, \"train.csv\"), dtype=DATASET_DF_DTYPES)"
   ]
  },
  {
   "cell_type": "markdown",
   "id": "c1924ec0",
   "metadata": {},
   "source": [
    "## Data preprocessing"
   ]
  },
  {
   "cell_type": "markdown",
   "id": "7aea88de",
   "metadata": {},
   "source": [
    "### Impute missing data\n",
    "Perform forward, backward and then filling of all NaN sequences."
   ]
  },
  {
   "cell_type": "code",
   "execution_count": 6,
   "id": "c2f0db28",
   "metadata": {},
   "outputs": [],
   "source": [
    "# Missing ToF values are already imputed by -1 which is inconvinient since we want all missing values to be NaN.    \n",
    "# So we replace them by NaN and then perform imputing.\n",
    "def get_fillna_val_per_feature_col(df:DF) -> dict:\n",
    "    return {col: 1.0 if col == 'rot_w' else 0 for col in get_feature_cols(df)}\n",
    "\n",
    "def imputed_features(df:DF) -> DF:\n",
    "    # Missing ToF values are already imputed by -1 which is inconvinient since we want all missing values to be NaN.    \n",
    "    # So we replace them by NaN and then perform imputing.  \n",
    "    tof_vals_to_nan = {col: -1.0 for col in df.columns if col.startswith(\"tof\")}\n",
    "    # fillna_val_per_col = {col: 1.0 if col == 'rot_w' else 0 for col in df.columns}\n",
    "\n",
    "    df[get_feature_cols(df)] = (\n",
    "        df\n",
    "        .loc[:, get_feature_cols(df)]\n",
    "        # df.replace with np.nan sets dtype to floar64 so we set it back to float32\n",
    "        .replace(tof_vals_to_nan, value=np.nan)\n",
    "        .astype(\"float32\")\n",
    "        .groupby(df[\"sequence_id\"], observed=True, as_index=False)\n",
    "        .ffill()\n",
    "        .groupby(df[\"sequence_id\"], observed=True, as_index=False)\n",
    "        .bfill()\n",
    "        # In case there are only nan in the column in the sequence\n",
    "        .fillna(get_fillna_val_per_feature_col(df))\n",
    "    )\n",
    "    return df\n",
    "\n",
    "df = imputed_features(df)"
   ]
  },
  {
   "cell_type": "markdown",
   "id": "ad044a52",
   "metadata": {},
   "source": [
    "### Norm quaternions\n",
    "This allows us to parse quaternions with `scipy.spatial.transform.Rotation`."
   ]
  },
  {
   "cell_type": "code",
   "execution_count": 7,
   "id": "c99bce0b",
   "metadata": {},
   "outputs": [],
   "source": [
    "def norm_quat_rotations(df:DF) -> DF:\n",
    "    df[QUATERNION_COLS] /= np.linalg.norm(df[QUATERNION_COLS], axis=1, keepdims=True)\n",
    "    return df"
   ]
  },
  {
   "cell_type": "markdown",
   "id": "606a87c4",
   "metadata": {},
   "source": [
    "### Linear acceleration\n",
    "Remove gravity from the acceleration features."
   ]
  },
  {
   "cell_type": "code",
   "execution_count": 8,
   "id": "5d87de25",
   "metadata": {},
   "outputs": [],
   "source": [
    "def add_linear_acc_cols(df:DF) -> DF:\n",
    "    # Vectorized version of https://www.kaggle.com/code/wasupandceacar/lb-0-82-5fold-single-bert-model#Dataset `remove_gravity_from_acc`\n",
    "    rotations:Rotation = Rotation.from_quat(df[QUATERNION_COLS])\n",
    "    gravity_sensor_frame = rotations.apply(GRAVITY_WORLD, inverse=True).astype(\"float32\")\n",
    "    df[LINEAR_ACC_COLS] = df[RAW_ACCELRATION_COLS] - gravity_sensor_frame\n",
    "    return df\n",
    "\n",
    "df = add_linear_acc_cols(df)"
   ]
  },
  {
   "cell_type": "markdown",
   "id": "f1d709e7",
   "metadata": {},
   "source": [
    "### Accelerations magnitudes\n",
    "Add magnitue (norm) of both  raw acceleration and linear accelration."
   ]
  },
  {
   "cell_type": "code",
   "execution_count": 9,
   "id": "9fdf04ef",
   "metadata": {},
   "outputs": [],
   "source": [
    "def add_acc_magnitude(df:DF, acc_cols:list[str], acc_mag_col_name:str) -> DF:\n",
    "    return df.assign(**{acc_mag_col_name: np.linalg.norm(df.loc[:, acc_cols], axis=1)})\n",
    "\n",
    "df = add_acc_magnitude(df, RAW_ACCELRATION_COLS, \"raw_acc_mag\")\n",
    "df = add_acc_magnitude(df, LINEAR_ACC_COLS, \"linear_acc_mag\")"
   ]
  },
  {
   "cell_type": "markdown",
   "id": "7d92b38a",
   "metadata": {},
   "source": [
    "### Quaternion angle magnitude\n",
    "Refered to as \"rotation angle\" in top notebooks."
   ]
  },
  {
   "cell_type": "code",
   "execution_count": 10,
   "id": "79aac44c",
   "metadata": {},
   "outputs": [],
   "source": [
    "def add_quat_angle_mag(df:DF) -> DF:\n",
    "    return df.assign(quat_rot_mag=np.arccos(df[\"rot_w\"]) * 2)\n",
    "\n",
    "df = add_quat_angle_mag(df)"
   ]
  },
  {
   "cell_type": "markdown",
   "id": "7127f2da",
   "metadata": {},
   "source": [
    "### Angular velocity\n",
    "Compute the axis of the rotation difference and its angular magnutide.  \n",
    "Top notebooks scale the vector by the angular magnitude.  \n",
    "I will also include the magnitude and unit axis vector in case they turn out to be more informative.   "
   ]
  },
  {
   "cell_type": "code",
   "execution_count": 11,
   "id": "9c6cf592",
   "metadata": {},
   "outputs": [],
   "source": [
    "def add_angular_velocity_features(df:DF) -> DF:\n",
    "    rotations = Rotation.from_quat(df[QUATERNION_COLS])\n",
    "    delta_rotations = rotations[1:] * rotations[:-1].inv()\n",
    "    delta_rot_velocity = delta_rotations.as_rotvec()\n",
    "    # Add extra line to avoid shape mismatch\n",
    "    delta_rot_velocity = np.vstack((np.zeros((1, 3)), delta_rot_velocity))\n",
    "    delta_rot_magnitude = norm(delta_rot_velocity, axis=1, keepdims=True)\n",
    "    delta_rot_axes = delta_rot_velocity / (delta_rot_magnitude + EPSILON)\n",
    "    df[DELTA_ROTATION_ANGULAR_VELOCITY_COLS] = delta_rot_velocity\n",
    "    df[DELTA_ROTATION_AXES_COLS] = delta_rot_axes\n",
    "    df[\"delta_rot_mag\"] = delta_rot_magnitude.squeeze()\n",
    "\n",
    "    return df\n",
    "\n",
    "df = add_angular_velocity_features(df)"
   ]
  },
  {
   "cell_type": "markdown",
   "id": "6ae43d1a",
   "metadata": {},
   "source": [
    "### Euler angles from quaternions"
   ]
  },
  {
   "cell_type": "code",
   "execution_count": 12,
   "id": "c99bce0b",
   "metadata": {},
   "outputs": [],
   "source": [
    "def rot_euler_angles(df:DF) -> ndarray:\n",
    "    df[EULER_ANGLES_COLS] = (\n",
    "        Rotation\n",
    "        .from_quat(df[QUATERNION_COLS])\n",
    "        .as_euler(\"xyz\")\n",
    "        .squeeze()\n",
    "    )\n",
    "    return df\n",
    "\n",
    "df = rot_euler_angles(df)"
   ]
  },
  {
   "cell_type": "markdown",
   "id": "18979983",
   "metadata": {},
   "source": [
    "### One hot encode target values."
   ]
  },
  {
   "cell_type": "code",
   "execution_count": 13,
   "id": "05661625",
   "metadata": {},
   "outputs": [
    {
     "data": {
      "text/html": [
       "<div>\n",
       "<style scoped>\n",
       "    .dataframe tbody tr th:only-of-type {\n",
       "        vertical-align: middle;\n",
       "    }\n",
       "\n",
       "    .dataframe tbody tr th {\n",
       "        vertical-align: top;\n",
       "    }\n",
       "\n",
       "    .dataframe thead th {\n",
       "        text-align: right;\n",
       "    }\n",
       "</style>\n",
       "<table border=\"1\" class=\"dataframe\">\n",
       "  <thead>\n",
       "    <tr style=\"text-align: right;\">\n",
       "      <th></th>\n",
       "      <th>row_id</th>\n",
       "      <th>sequence_type</th>\n",
       "      <th>sequence_id</th>\n",
       "      <th>sequence_counter</th>\n",
       "      <th>subject</th>\n",
       "      <th>orientation</th>\n",
       "      <th>behavior</th>\n",
       "      <th>phase</th>\n",
       "      <th>gesture</th>\n",
       "      <th>acc_x</th>\n",
       "      <th>...</th>\n",
       "      <th>Glasses on/off</th>\n",
       "      <th>Neck - pinch skin</th>\n",
       "      <th>Neck - scratch</th>\n",
       "      <th>Pinch knee/leg skin</th>\n",
       "      <th>Pull air toward your face</th>\n",
       "      <th>Scratch knee/leg skin</th>\n",
       "      <th>Text on phone</th>\n",
       "      <th>Wave hello</th>\n",
       "      <th>Write name in air</th>\n",
       "      <th>Write name on leg</th>\n",
       "    </tr>\n",
       "  </thead>\n",
       "  <tbody>\n",
       "    <tr>\n",
       "      <th>0</th>\n",
       "      <td>SEQ_000007_000000</td>\n",
       "      <td>Target</td>\n",
       "      <td>SEQ_000007</td>\n",
       "      <td>0</td>\n",
       "      <td>SUBJ_059520</td>\n",
       "      <td>Seated Lean Non Dom - FACE DOWN</td>\n",
       "      <td>Relaxes and moves hand to target location</td>\n",
       "      <td>Transition</td>\n",
       "      <td>Cheek - pinch skin</td>\n",
       "      <td>6.683594</td>\n",
       "      <td>...</td>\n",
       "      <td>False</td>\n",
       "      <td>False</td>\n",
       "      <td>False</td>\n",
       "      <td>False</td>\n",
       "      <td>False</td>\n",
       "      <td>False</td>\n",
       "      <td>False</td>\n",
       "      <td>False</td>\n",
       "      <td>False</td>\n",
       "      <td>False</td>\n",
       "    </tr>\n",
       "    <tr>\n",
       "      <th>1</th>\n",
       "      <td>SEQ_000007_000001</td>\n",
       "      <td>Target</td>\n",
       "      <td>SEQ_000007</td>\n",
       "      <td>1</td>\n",
       "      <td>SUBJ_059520</td>\n",
       "      <td>Seated Lean Non Dom - FACE DOWN</td>\n",
       "      <td>Relaxes and moves hand to target location</td>\n",
       "      <td>Transition</td>\n",
       "      <td>Cheek - pinch skin</td>\n",
       "      <td>6.949219</td>\n",
       "      <td>...</td>\n",
       "      <td>False</td>\n",
       "      <td>False</td>\n",
       "      <td>False</td>\n",
       "      <td>False</td>\n",
       "      <td>False</td>\n",
       "      <td>False</td>\n",
       "      <td>False</td>\n",
       "      <td>False</td>\n",
       "      <td>False</td>\n",
       "      <td>False</td>\n",
       "    </tr>\n",
       "    <tr>\n",
       "      <th>2</th>\n",
       "      <td>SEQ_000007_000002</td>\n",
       "      <td>Target</td>\n",
       "      <td>SEQ_000007</td>\n",
       "      <td>2</td>\n",
       "      <td>SUBJ_059520</td>\n",
       "      <td>Seated Lean Non Dom - FACE DOWN</td>\n",
       "      <td>Relaxes and moves hand to target location</td>\n",
       "      <td>Transition</td>\n",
       "      <td>Cheek - pinch skin</td>\n",
       "      <td>5.722656</td>\n",
       "      <td>...</td>\n",
       "      <td>False</td>\n",
       "      <td>False</td>\n",
       "      <td>False</td>\n",
       "      <td>False</td>\n",
       "      <td>False</td>\n",
       "      <td>False</td>\n",
       "      <td>False</td>\n",
       "      <td>False</td>\n",
       "      <td>False</td>\n",
       "      <td>False</td>\n",
       "    </tr>\n",
       "    <tr>\n",
       "      <th>3</th>\n",
       "      <td>SEQ_000007_000003</td>\n",
       "      <td>Target</td>\n",
       "      <td>SEQ_000007</td>\n",
       "      <td>3</td>\n",
       "      <td>SUBJ_059520</td>\n",
       "      <td>Seated Lean Non Dom - FACE DOWN</td>\n",
       "      <td>Relaxes and moves hand to target location</td>\n",
       "      <td>Transition</td>\n",
       "      <td>Cheek - pinch skin</td>\n",
       "      <td>6.601562</td>\n",
       "      <td>...</td>\n",
       "      <td>False</td>\n",
       "      <td>False</td>\n",
       "      <td>False</td>\n",
       "      <td>False</td>\n",
       "      <td>False</td>\n",
       "      <td>False</td>\n",
       "      <td>False</td>\n",
       "      <td>False</td>\n",
       "      <td>False</td>\n",
       "      <td>False</td>\n",
       "    </tr>\n",
       "    <tr>\n",
       "      <th>4</th>\n",
       "      <td>SEQ_000007_000004</td>\n",
       "      <td>Target</td>\n",
       "      <td>SEQ_000007</td>\n",
       "      <td>4</td>\n",
       "      <td>SUBJ_059520</td>\n",
       "      <td>Seated Lean Non Dom - FACE DOWN</td>\n",
       "      <td>Relaxes and moves hand to target location</td>\n",
       "      <td>Transition</td>\n",
       "      <td>Cheek - pinch skin</td>\n",
       "      <td>5.566406</td>\n",
       "      <td>...</td>\n",
       "      <td>False</td>\n",
       "      <td>False</td>\n",
       "      <td>False</td>\n",
       "      <td>False</td>\n",
       "      <td>False</td>\n",
       "      <td>False</td>\n",
       "      <td>False</td>\n",
       "      <td>False</td>\n",
       "      <td>False</td>\n",
       "      <td>False</td>\n",
       "    </tr>\n",
       "    <tr>\n",
       "      <th>...</th>\n",
       "      <td>...</td>\n",
       "      <td>...</td>\n",
       "      <td>...</td>\n",
       "      <td>...</td>\n",
       "      <td>...</td>\n",
       "      <td>...</td>\n",
       "      <td>...</td>\n",
       "      <td>...</td>\n",
       "      <td>...</td>\n",
       "      <td>...</td>\n",
       "      <td>...</td>\n",
       "      <td>...</td>\n",
       "      <td>...</td>\n",
       "      <td>...</td>\n",
       "      <td>...</td>\n",
       "      <td>...</td>\n",
       "      <td>...</td>\n",
       "      <td>...</td>\n",
       "      <td>...</td>\n",
       "      <td>...</td>\n",
       "      <td>...</td>\n",
       "    </tr>\n",
       "    <tr>\n",
       "      <th>574940</th>\n",
       "      <td>SEQ_065531_000048</td>\n",
       "      <td>Non-Target</td>\n",
       "      <td>SEQ_065531</td>\n",
       "      <td>48</td>\n",
       "      <td>SUBJ_039498</td>\n",
       "      <td>Seated Lean Non Dom - FACE DOWN</td>\n",
       "      <td>Performs gesture</td>\n",
       "      <td>Gesture</td>\n",
       "      <td>Write name on leg</td>\n",
       "      <td>3.503906</td>\n",
       "      <td>...</td>\n",
       "      <td>False</td>\n",
       "      <td>False</td>\n",
       "      <td>False</td>\n",
       "      <td>False</td>\n",
       "      <td>False</td>\n",
       "      <td>False</td>\n",
       "      <td>False</td>\n",
       "      <td>False</td>\n",
       "      <td>False</td>\n",
       "      <td>True</td>\n",
       "    </tr>\n",
       "    <tr>\n",
       "      <th>574941</th>\n",
       "      <td>SEQ_065531_000049</td>\n",
       "      <td>Non-Target</td>\n",
       "      <td>SEQ_065531</td>\n",
       "      <td>49</td>\n",
       "      <td>SUBJ_039498</td>\n",
       "      <td>Seated Lean Non Dom - FACE DOWN</td>\n",
       "      <td>Performs gesture</td>\n",
       "      <td>Gesture</td>\n",
       "      <td>Write name on leg</td>\n",
       "      <td>3.773438</td>\n",
       "      <td>...</td>\n",
       "      <td>False</td>\n",
       "      <td>False</td>\n",
       "      <td>False</td>\n",
       "      <td>False</td>\n",
       "      <td>False</td>\n",
       "      <td>False</td>\n",
       "      <td>False</td>\n",
       "      <td>False</td>\n",
       "      <td>False</td>\n",
       "      <td>True</td>\n",
       "    </tr>\n",
       "    <tr>\n",
       "      <th>574942</th>\n",
       "      <td>SEQ_065531_000050</td>\n",
       "      <td>Non-Target</td>\n",
       "      <td>SEQ_065531</td>\n",
       "      <td>50</td>\n",
       "      <td>SUBJ_039498</td>\n",
       "      <td>Seated Lean Non Dom - FACE DOWN</td>\n",
       "      <td>Performs gesture</td>\n",
       "      <td>Gesture</td>\n",
       "      <td>Write name on leg</td>\n",
       "      <td>3.082031</td>\n",
       "      <td>...</td>\n",
       "      <td>False</td>\n",
       "      <td>False</td>\n",
       "      <td>False</td>\n",
       "      <td>False</td>\n",
       "      <td>False</td>\n",
       "      <td>False</td>\n",
       "      <td>False</td>\n",
       "      <td>False</td>\n",
       "      <td>False</td>\n",
       "      <td>True</td>\n",
       "    </tr>\n",
       "    <tr>\n",
       "      <th>574943</th>\n",
       "      <td>SEQ_065531_000051</td>\n",
       "      <td>Non-Target</td>\n",
       "      <td>SEQ_065531</td>\n",
       "      <td>51</td>\n",
       "      <td>SUBJ_039498</td>\n",
       "      <td>Seated Lean Non Dom - FACE DOWN</td>\n",
       "      <td>Performs gesture</td>\n",
       "      <td>Gesture</td>\n",
       "      <td>Write name on leg</td>\n",
       "      <td>3.964844</td>\n",
       "      <td>...</td>\n",
       "      <td>False</td>\n",
       "      <td>False</td>\n",
       "      <td>False</td>\n",
       "      <td>False</td>\n",
       "      <td>False</td>\n",
       "      <td>False</td>\n",
       "      <td>False</td>\n",
       "      <td>False</td>\n",
       "      <td>False</td>\n",
       "      <td>True</td>\n",
       "    </tr>\n",
       "    <tr>\n",
       "      <th>574944</th>\n",
       "      <td>SEQ_065531_000052</td>\n",
       "      <td>Non-Target</td>\n",
       "      <td>SEQ_065531</td>\n",
       "      <td>52</td>\n",
       "      <td>SUBJ_039498</td>\n",
       "      <td>Seated Lean Non Dom - FACE DOWN</td>\n",
       "      <td>Performs gesture</td>\n",
       "      <td>Gesture</td>\n",
       "      <td>Write name on leg</td>\n",
       "      <td>4.269531</td>\n",
       "      <td>...</td>\n",
       "      <td>False</td>\n",
       "      <td>False</td>\n",
       "      <td>False</td>\n",
       "      <td>False</td>\n",
       "      <td>False</td>\n",
       "      <td>False</td>\n",
       "      <td>False</td>\n",
       "      <td>False</td>\n",
       "      <td>False</td>\n",
       "      <td>True</td>\n",
       "    </tr>\n",
       "  </tbody>\n",
       "</table>\n",
       "<p>574945 rows × 375 columns</p>\n",
       "</div>"
      ],
      "text/plain": [
       "                   row_id sequence_type sequence_id  sequence_counter  \\\n",
       "0       SEQ_000007_000000        Target  SEQ_000007                 0   \n",
       "1       SEQ_000007_000001        Target  SEQ_000007                 1   \n",
       "2       SEQ_000007_000002        Target  SEQ_000007                 2   \n",
       "3       SEQ_000007_000003        Target  SEQ_000007                 3   \n",
       "4       SEQ_000007_000004        Target  SEQ_000007                 4   \n",
       "...                   ...           ...         ...               ...   \n",
       "574940  SEQ_065531_000048    Non-Target  SEQ_065531                48   \n",
       "574941  SEQ_065531_000049    Non-Target  SEQ_065531                49   \n",
       "574942  SEQ_065531_000050    Non-Target  SEQ_065531                50   \n",
       "574943  SEQ_065531_000051    Non-Target  SEQ_065531                51   \n",
       "574944  SEQ_065531_000052    Non-Target  SEQ_065531                52   \n",
       "\n",
       "            subject                      orientation  \\\n",
       "0       SUBJ_059520  Seated Lean Non Dom - FACE DOWN   \n",
       "1       SUBJ_059520  Seated Lean Non Dom - FACE DOWN   \n",
       "2       SUBJ_059520  Seated Lean Non Dom - FACE DOWN   \n",
       "3       SUBJ_059520  Seated Lean Non Dom - FACE DOWN   \n",
       "4       SUBJ_059520  Seated Lean Non Dom - FACE DOWN   \n",
       "...             ...                              ...   \n",
       "574940  SUBJ_039498  Seated Lean Non Dom - FACE DOWN   \n",
       "574941  SUBJ_039498  Seated Lean Non Dom - FACE DOWN   \n",
       "574942  SUBJ_039498  Seated Lean Non Dom - FACE DOWN   \n",
       "574943  SUBJ_039498  Seated Lean Non Dom - FACE DOWN   \n",
       "574944  SUBJ_039498  Seated Lean Non Dom - FACE DOWN   \n",
       "\n",
       "                                         behavior       phase  \\\n",
       "0       Relaxes and moves hand to target location  Transition   \n",
       "1       Relaxes and moves hand to target location  Transition   \n",
       "2       Relaxes and moves hand to target location  Transition   \n",
       "3       Relaxes and moves hand to target location  Transition   \n",
       "4       Relaxes and moves hand to target location  Transition   \n",
       "...                                           ...         ...   \n",
       "574940                           Performs gesture     Gesture   \n",
       "574941                           Performs gesture     Gesture   \n",
       "574942                           Performs gesture     Gesture   \n",
       "574943                           Performs gesture     Gesture   \n",
       "574944                           Performs gesture     Gesture   \n",
       "\n",
       "                   gesture     acc_x  ...  Glasses on/off  Neck - pinch skin  \\\n",
       "0       Cheek - pinch skin  6.683594  ...           False              False   \n",
       "1       Cheek - pinch skin  6.949219  ...           False              False   \n",
       "2       Cheek - pinch skin  5.722656  ...           False              False   \n",
       "3       Cheek - pinch skin  6.601562  ...           False              False   \n",
       "4       Cheek - pinch skin  5.566406  ...           False              False   \n",
       "...                    ...       ...  ...             ...                ...   \n",
       "574940   Write name on leg  3.503906  ...           False              False   \n",
       "574941   Write name on leg  3.773438  ...           False              False   \n",
       "574942   Write name on leg  3.082031  ...           False              False   \n",
       "574943   Write name on leg  3.964844  ...           False              False   \n",
       "574944   Write name on leg  4.269531  ...           False              False   \n",
       "\n",
       "        Neck - scratch  Pinch knee/leg skin  Pull air toward your face  \\\n",
       "0                False                False                      False   \n",
       "1                False                False                      False   \n",
       "2                False                False                      False   \n",
       "3                False                False                      False   \n",
       "4                False                False                      False   \n",
       "...                ...                  ...                        ...   \n",
       "574940           False                False                      False   \n",
       "574941           False                False                      False   \n",
       "574942           False                False                      False   \n",
       "574943           False                False                      False   \n",
       "574944           False                False                      False   \n",
       "\n",
       "        Scratch knee/leg skin  Text on phone  Wave hello  Write name in air  \\\n",
       "0                       False          False       False              False   \n",
       "1                       False          False       False              False   \n",
       "2                       False          False       False              False   \n",
       "3                       False          False       False              False   \n",
       "4                       False          False       False              False   \n",
       "...                       ...            ...         ...                ...   \n",
       "574940                  False          False       False              False   \n",
       "574941                  False          False       False              False   \n",
       "574942                  False          False       False              False   \n",
       "574943                  False          False       False              False   \n",
       "574944                  False          False       False              False   \n",
       "\n",
       "        Write name on leg  \n",
       "0                   False  \n",
       "1                   False  \n",
       "2                   False  \n",
       "3                   False  \n",
       "4                   False  \n",
       "...                   ...  \n",
       "574940               True  \n",
       "574941               True  \n",
       "574942               True  \n",
       "574943               True  \n",
       "574944               True  \n",
       "\n",
       "[574945 rows x 375 columns]"
      ]
     },
     "execution_count": 13,
     "metadata": {},
     "output_type": "execute_result"
    }
   ],
   "source": [
    "one_hot_target = pd.get_dummies(df[\"gesture\"])\n",
    "df[TARGET_NAMES] = one_hot_target[TARGET_NAMES]\n",
    "df"
   ]
  },
  {
   "cell_type": "markdown",
   "id": "8812dc08",
   "metadata": {},
   "source": [
    "### ToF data aggregation.\n",
    "Time of Flight columns take most of the data, let's reduce their size by aggregating by mean for each Time of Flight sensor."
   ]
  },
  {
   "cell_type": "code",
   "execution_count": 14,
   "id": "2b4f83f2",
   "metadata": {},
   "outputs": [
    {
     "data": {
      "text/html": [
       "<div>\n",
       "<style scoped>\n",
       "    .dataframe tbody tr th:only-of-type {\n",
       "        vertical-align: middle;\n",
       "    }\n",
       "\n",
       "    .dataframe tbody tr th {\n",
       "        vertical-align: top;\n",
       "    }\n",
       "\n",
       "    .dataframe thead th {\n",
       "        text-align: right;\n",
       "    }\n",
       "</style>\n",
       "<table border=\"1\" class=\"dataframe\">\n",
       "  <thead>\n",
       "    <tr style=\"text-align: right;\">\n",
       "      <th></th>\n",
       "      <th>row_id</th>\n",
       "      <th>sequence_type</th>\n",
       "      <th>sequence_id</th>\n",
       "      <th>sequence_counter</th>\n",
       "      <th>subject</th>\n",
       "      <th>orientation</th>\n",
       "      <th>behavior</th>\n",
       "      <th>phase</th>\n",
       "      <th>gesture</th>\n",
       "      <th>acc_x</th>\n",
       "      <th>...</th>\n",
       "      <th>Scratch knee/leg skin</th>\n",
       "      <th>Text on phone</th>\n",
       "      <th>Wave hello</th>\n",
       "      <th>Write name in air</th>\n",
       "      <th>Write name on leg</th>\n",
       "      <th>tof_1</th>\n",
       "      <th>tof_2</th>\n",
       "      <th>tof_3</th>\n",
       "      <th>tof_4</th>\n",
       "      <th>tof_5</th>\n",
       "    </tr>\n",
       "  </thead>\n",
       "  <tbody>\n",
       "    <tr>\n",
       "      <th>0</th>\n",
       "      <td>SEQ_000007_000000</td>\n",
       "      <td>Target</td>\n",
       "      <td>SEQ_000007</td>\n",
       "      <td>0</td>\n",
       "      <td>SUBJ_059520</td>\n",
       "      <td>Seated Lean Non Dom - FACE DOWN</td>\n",
       "      <td>Relaxes and moves hand to target location</td>\n",
       "      <td>Transition</td>\n",
       "      <td>Cheek - pinch skin</td>\n",
       "      <td>6.683594</td>\n",
       "      <td>...</td>\n",
       "      <td>False</td>\n",
       "      <td>False</td>\n",
       "      <td>False</td>\n",
       "      <td>False</td>\n",
       "      <td>False</td>\n",
       "      <td>139.250000</td>\n",
       "      <td>117.109375</td>\n",
       "      <td>91.687500</td>\n",
       "      <td>123.359375</td>\n",
       "      <td>135.343750</td>\n",
       "    </tr>\n",
       "    <tr>\n",
       "      <th>1</th>\n",
       "      <td>SEQ_000007_000001</td>\n",
       "      <td>Target</td>\n",
       "      <td>SEQ_000007</td>\n",
       "      <td>1</td>\n",
       "      <td>SUBJ_059520</td>\n",
       "      <td>Seated Lean Non Dom - FACE DOWN</td>\n",
       "      <td>Relaxes and moves hand to target location</td>\n",
       "      <td>Transition</td>\n",
       "      <td>Cheek - pinch skin</td>\n",
       "      <td>6.949219</td>\n",
       "      <td>...</td>\n",
       "      <td>False</td>\n",
       "      <td>False</td>\n",
       "      <td>False</td>\n",
       "      <td>False</td>\n",
       "      <td>False</td>\n",
       "      <td>139.796875</td>\n",
       "      <td>119.671875</td>\n",
       "      <td>97.921875</td>\n",
       "      <td>124.406250</td>\n",
       "      <td>137.000000</td>\n",
       "    </tr>\n",
       "    <tr>\n",
       "      <th>2</th>\n",
       "      <td>SEQ_000007_000002</td>\n",
       "      <td>Target</td>\n",
       "      <td>SEQ_000007</td>\n",
       "      <td>2</td>\n",
       "      <td>SUBJ_059520</td>\n",
       "      <td>Seated Lean Non Dom - FACE DOWN</td>\n",
       "      <td>Relaxes and moves hand to target location</td>\n",
       "      <td>Transition</td>\n",
       "      <td>Cheek - pinch skin</td>\n",
       "      <td>5.722656</td>\n",
       "      <td>...</td>\n",
       "      <td>False</td>\n",
       "      <td>False</td>\n",
       "      <td>False</td>\n",
       "      <td>False</td>\n",
       "      <td>False</td>\n",
       "      <td>142.375000</td>\n",
       "      <td>128.359375</td>\n",
       "      <td>116.953125</td>\n",
       "      <td>125.687500</td>\n",
       "      <td>140.234375</td>\n",
       "    </tr>\n",
       "    <tr>\n",
       "      <th>3</th>\n",
       "      <td>SEQ_000007_000003</td>\n",
       "      <td>Target</td>\n",
       "      <td>SEQ_000007</td>\n",
       "      <td>3</td>\n",
       "      <td>SUBJ_059520</td>\n",
       "      <td>Seated Lean Non Dom - FACE DOWN</td>\n",
       "      <td>Relaxes and moves hand to target location</td>\n",
       "      <td>Transition</td>\n",
       "      <td>Cheek - pinch skin</td>\n",
       "      <td>6.601562</td>\n",
       "      <td>...</td>\n",
       "      <td>False</td>\n",
       "      <td>False</td>\n",
       "      <td>False</td>\n",
       "      <td>False</td>\n",
       "      <td>False</td>\n",
       "      <td>154.109375</td>\n",
       "      <td>142.093750</td>\n",
       "      <td>144.515625</td>\n",
       "      <td>149.078125</td>\n",
       "      <td>142.609375</td>\n",
       "    </tr>\n",
       "    <tr>\n",
       "      <th>4</th>\n",
       "      <td>SEQ_000007_000004</td>\n",
       "      <td>Target</td>\n",
       "      <td>SEQ_000007</td>\n",
       "      <td>4</td>\n",
       "      <td>SUBJ_059520</td>\n",
       "      <td>Seated Lean Non Dom - FACE DOWN</td>\n",
       "      <td>Relaxes and moves hand to target location</td>\n",
       "      <td>Transition</td>\n",
       "      <td>Cheek - pinch skin</td>\n",
       "      <td>5.566406</td>\n",
       "      <td>...</td>\n",
       "      <td>False</td>\n",
       "      <td>False</td>\n",
       "      <td>False</td>\n",
       "      <td>False</td>\n",
       "      <td>False</td>\n",
       "      <td>177.953125</td>\n",
       "      <td>149.453125</td>\n",
       "      <td>161.828125</td>\n",
       "      <td>163.765625</td>\n",
       "      <td>151.265625</td>\n",
       "    </tr>\n",
       "    <tr>\n",
       "      <th>...</th>\n",
       "      <td>...</td>\n",
       "      <td>...</td>\n",
       "      <td>...</td>\n",
       "      <td>...</td>\n",
       "      <td>...</td>\n",
       "      <td>...</td>\n",
       "      <td>...</td>\n",
       "      <td>...</td>\n",
       "      <td>...</td>\n",
       "      <td>...</td>\n",
       "      <td>...</td>\n",
       "      <td>...</td>\n",
       "      <td>...</td>\n",
       "      <td>...</td>\n",
       "      <td>...</td>\n",
       "      <td>...</td>\n",
       "      <td>...</td>\n",
       "      <td>...</td>\n",
       "      <td>...</td>\n",
       "      <td>...</td>\n",
       "      <td>...</td>\n",
       "    </tr>\n",
       "    <tr>\n",
       "      <th>574940</th>\n",
       "      <td>SEQ_065531_000048</td>\n",
       "      <td>Non-Target</td>\n",
       "      <td>SEQ_065531</td>\n",
       "      <td>48</td>\n",
       "      <td>SUBJ_039498</td>\n",
       "      <td>Seated Lean Non Dom - FACE DOWN</td>\n",
       "      <td>Performs gesture</td>\n",
       "      <td>Gesture</td>\n",
       "      <td>Write name on leg</td>\n",
       "      <td>3.503906</td>\n",
       "      <td>...</td>\n",
       "      <td>False</td>\n",
       "      <td>False</td>\n",
       "      <td>False</td>\n",
       "      <td>False</td>\n",
       "      <td>True</td>\n",
       "      <td>68.562500</td>\n",
       "      <td>67.750000</td>\n",
       "      <td>144.437500</td>\n",
       "      <td>74.062500</td>\n",
       "      <td>52.843750</td>\n",
       "    </tr>\n",
       "    <tr>\n",
       "      <th>574941</th>\n",
       "      <td>SEQ_065531_000049</td>\n",
       "      <td>Non-Target</td>\n",
       "      <td>SEQ_065531</td>\n",
       "      <td>49</td>\n",
       "      <td>SUBJ_039498</td>\n",
       "      <td>Seated Lean Non Dom - FACE DOWN</td>\n",
       "      <td>Performs gesture</td>\n",
       "      <td>Gesture</td>\n",
       "      <td>Write name on leg</td>\n",
       "      <td>3.773438</td>\n",
       "      <td>...</td>\n",
       "      <td>False</td>\n",
       "      <td>False</td>\n",
       "      <td>False</td>\n",
       "      <td>False</td>\n",
       "      <td>True</td>\n",
       "      <td>70.234375</td>\n",
       "      <td>66.656250</td>\n",
       "      <td>144.000000</td>\n",
       "      <td>70.406250</td>\n",
       "      <td>54.531250</td>\n",
       "    </tr>\n",
       "    <tr>\n",
       "      <th>574942</th>\n",
       "      <td>SEQ_065531_000050</td>\n",
       "      <td>Non-Target</td>\n",
       "      <td>SEQ_065531</td>\n",
       "      <td>50</td>\n",
       "      <td>SUBJ_039498</td>\n",
       "      <td>Seated Lean Non Dom - FACE DOWN</td>\n",
       "      <td>Performs gesture</td>\n",
       "      <td>Gesture</td>\n",
       "      <td>Write name on leg</td>\n",
       "      <td>3.082031</td>\n",
       "      <td>...</td>\n",
       "      <td>False</td>\n",
       "      <td>False</td>\n",
       "      <td>False</td>\n",
       "      <td>False</td>\n",
       "      <td>True</td>\n",
       "      <td>66.671875</td>\n",
       "      <td>62.906250</td>\n",
       "      <td>136.906250</td>\n",
       "      <td>70.109375</td>\n",
       "      <td>57.468750</td>\n",
       "    </tr>\n",
       "    <tr>\n",
       "      <th>574943</th>\n",
       "      <td>SEQ_065531_000051</td>\n",
       "      <td>Non-Target</td>\n",
       "      <td>SEQ_065531</td>\n",
       "      <td>51</td>\n",
       "      <td>SUBJ_039498</td>\n",
       "      <td>Seated Lean Non Dom - FACE DOWN</td>\n",
       "      <td>Performs gesture</td>\n",
       "      <td>Gesture</td>\n",
       "      <td>Write name on leg</td>\n",
       "      <td>3.964844</td>\n",
       "      <td>...</td>\n",
       "      <td>False</td>\n",
       "      <td>False</td>\n",
       "      <td>False</td>\n",
       "      <td>False</td>\n",
       "      <td>True</td>\n",
       "      <td>67.218750</td>\n",
       "      <td>64.500000</td>\n",
       "      <td>140.531250</td>\n",
       "      <td>75.609375</td>\n",
       "      <td>54.937500</td>\n",
       "    </tr>\n",
       "    <tr>\n",
       "      <th>574944</th>\n",
       "      <td>SEQ_065531_000052</td>\n",
       "      <td>Non-Target</td>\n",
       "      <td>SEQ_065531</td>\n",
       "      <td>52</td>\n",
       "      <td>SUBJ_039498</td>\n",
       "      <td>Seated Lean Non Dom - FACE DOWN</td>\n",
       "      <td>Performs gesture</td>\n",
       "      <td>Gesture</td>\n",
       "      <td>Write name on leg</td>\n",
       "      <td>4.269531</td>\n",
       "      <td>...</td>\n",
       "      <td>False</td>\n",
       "      <td>False</td>\n",
       "      <td>False</td>\n",
       "      <td>False</td>\n",
       "      <td>True</td>\n",
       "      <td>68.937500</td>\n",
       "      <td>65.156250</td>\n",
       "      <td>143.906250</td>\n",
       "      <td>75.890625</td>\n",
       "      <td>55.281250</td>\n",
       "    </tr>\n",
       "  </tbody>\n",
       "</table>\n",
       "<p>574945 rows × 60 columns</p>\n",
       "</div>"
      ],
      "text/plain": [
       "                   row_id sequence_type sequence_id  sequence_counter  \\\n",
       "0       SEQ_000007_000000        Target  SEQ_000007                 0   \n",
       "1       SEQ_000007_000001        Target  SEQ_000007                 1   \n",
       "2       SEQ_000007_000002        Target  SEQ_000007                 2   \n",
       "3       SEQ_000007_000003        Target  SEQ_000007                 3   \n",
       "4       SEQ_000007_000004        Target  SEQ_000007                 4   \n",
       "...                   ...           ...         ...               ...   \n",
       "574940  SEQ_065531_000048    Non-Target  SEQ_065531                48   \n",
       "574941  SEQ_065531_000049    Non-Target  SEQ_065531                49   \n",
       "574942  SEQ_065531_000050    Non-Target  SEQ_065531                50   \n",
       "574943  SEQ_065531_000051    Non-Target  SEQ_065531                51   \n",
       "574944  SEQ_065531_000052    Non-Target  SEQ_065531                52   \n",
       "\n",
       "            subject                      orientation  \\\n",
       "0       SUBJ_059520  Seated Lean Non Dom - FACE DOWN   \n",
       "1       SUBJ_059520  Seated Lean Non Dom - FACE DOWN   \n",
       "2       SUBJ_059520  Seated Lean Non Dom - FACE DOWN   \n",
       "3       SUBJ_059520  Seated Lean Non Dom - FACE DOWN   \n",
       "4       SUBJ_059520  Seated Lean Non Dom - FACE DOWN   \n",
       "...             ...                              ...   \n",
       "574940  SUBJ_039498  Seated Lean Non Dom - FACE DOWN   \n",
       "574941  SUBJ_039498  Seated Lean Non Dom - FACE DOWN   \n",
       "574942  SUBJ_039498  Seated Lean Non Dom - FACE DOWN   \n",
       "574943  SUBJ_039498  Seated Lean Non Dom - FACE DOWN   \n",
       "574944  SUBJ_039498  Seated Lean Non Dom - FACE DOWN   \n",
       "\n",
       "                                         behavior       phase  \\\n",
       "0       Relaxes and moves hand to target location  Transition   \n",
       "1       Relaxes and moves hand to target location  Transition   \n",
       "2       Relaxes and moves hand to target location  Transition   \n",
       "3       Relaxes and moves hand to target location  Transition   \n",
       "4       Relaxes and moves hand to target location  Transition   \n",
       "...                                           ...         ...   \n",
       "574940                           Performs gesture     Gesture   \n",
       "574941                           Performs gesture     Gesture   \n",
       "574942                           Performs gesture     Gesture   \n",
       "574943                           Performs gesture     Gesture   \n",
       "574944                           Performs gesture     Gesture   \n",
       "\n",
       "                   gesture     acc_x  ...  Scratch knee/leg skin  \\\n",
       "0       Cheek - pinch skin  6.683594  ...                  False   \n",
       "1       Cheek - pinch skin  6.949219  ...                  False   \n",
       "2       Cheek - pinch skin  5.722656  ...                  False   \n",
       "3       Cheek - pinch skin  6.601562  ...                  False   \n",
       "4       Cheek - pinch skin  5.566406  ...                  False   \n",
       "...                    ...       ...  ...                    ...   \n",
       "574940   Write name on leg  3.503906  ...                  False   \n",
       "574941   Write name on leg  3.773438  ...                  False   \n",
       "574942   Write name on leg  3.082031  ...                  False   \n",
       "574943   Write name on leg  3.964844  ...                  False   \n",
       "574944   Write name on leg  4.269531  ...                  False   \n",
       "\n",
       "        Text on phone  Wave hello  Write name in air  Write name on leg  \\\n",
       "0               False       False              False              False   \n",
       "1               False       False              False              False   \n",
       "2               False       False              False              False   \n",
       "3               False       False              False              False   \n",
       "4               False       False              False              False   \n",
       "...               ...         ...                ...                ...   \n",
       "574940          False       False              False               True   \n",
       "574941          False       False              False               True   \n",
       "574942          False       False              False               True   \n",
       "574943          False       False              False               True   \n",
       "574944          False       False              False               True   \n",
       "\n",
       "             tof_1       tof_2       tof_3       tof_4       tof_5  \n",
       "0       139.250000  117.109375   91.687500  123.359375  135.343750  \n",
       "1       139.796875  119.671875   97.921875  124.406250  137.000000  \n",
       "2       142.375000  128.359375  116.953125  125.687500  140.234375  \n",
       "3       154.109375  142.093750  144.515625  149.078125  142.609375  \n",
       "4       177.953125  149.453125  161.828125  163.765625  151.265625  \n",
       "...            ...         ...         ...         ...         ...  \n",
       "574940   68.562500   67.750000  144.437500   74.062500   52.843750  \n",
       "574941   70.234375   66.656250  144.000000   70.406250   54.531250  \n",
       "574942   66.671875   62.906250  136.906250   70.109375   57.468750  \n",
       "574943   67.218750   64.500000  140.531250   75.609375   54.937500  \n",
       "574944   68.937500   65.156250  143.906250   75.890625   55.281250  \n",
       "\n",
       "[574945 rows x 60 columns]"
      ]
     },
     "execution_count": 14,
     "metadata": {},
     "output_type": "execute_result"
    }
   ],
   "source": [
    "def agg_tof_cols_per_sensor(df:DF) -> DF:\n",
    "    for tof_idx in range(1, 6):\n",
    "        tof_name = f\"tof_{tof_idx}\"\n",
    "        tof_cols = [f\"{tof_name}_v{v_idx}\" for v_idx in range(64)]\n",
    "        if any(map(lambda col: col not in df.columns, tof_cols)):\n",
    "            print(f\"Some (or) all ToF {tof_idx} columns are not in the df. Maybe you already ran this cell?\")\n",
    "            continue\n",
    "        df = (\n",
    "            df\n",
    "            # Need to use a dict otherwise the name of the col will be \"tof_preffix\" instead of the value it contains\n",
    "            .assign(**{tof_name:df[tof_cols].mean(axis=\"columns\")})\n",
    "            .drop(columns=tof_cols)\n",
    "        )\n",
    "    return df\n",
    "\n",
    "df = agg_tof_cols_per_sensor(df)\n",
    "df"
   ]
  },
  {
   "cell_type": "markdown",
   "id": "daaafef8",
   "metadata": {},
   "source": [
    "### Add derivatives w.r.t time features"
   ]
  },
  {
   "cell_type": "code",
   "execution_count": 15,
   "id": "8bd05775",
   "metadata": {},
   "outputs": [],
   "source": [
    "def add_diff_features(df:DF) -> DF:\n",
    "    df[[col + \"_diff\" for col in get_feature_cols(df)]] = (\n",
    "        df\n",
    "        .groupby(\"sequence_id\", observed=True)\n",
    "        [get_feature_cols(df)]\n",
    "        .diff()\n",
    "        .fillna(get_fillna_val_per_feature_col(df))\n",
    "        .values\n",
    "    )\n",
    "    return df\n",
    "\n",
    "df = add_diff_features(df)"
   ]
  },
  {
   "cell_type": "code",
   "execution_count": 16,
   "id": "343e0255",
   "metadata": {},
   "outputs": [
    {
     "data": {
      "text/plain": [
       "66"
      ]
     },
     "execution_count": 16,
     "metadata": {},
     "output_type": "execute_result"
    }
   ],
   "source": [
    "len(get_feature_cols(df))"
   ]
  },
  {
   "cell_type": "markdown",
   "id": "05e480d3",
   "metadata": {},
   "source": [
    "### Split into folds"
   ]
  },
  {
   "cell_type": "code",
   "execution_count": 17,
   "id": "6a97fd1c",
   "metadata": {},
   "outputs": [
    {
     "data": {
      "text/plain": [
       "['Cheek - pinch skin',\n",
       " 'Forehead - pull hairline',\n",
       " 'Write name on leg',\n",
       " 'Feel around in tray and pull out an object',\n",
       " 'Neck - scratch',\n",
       " 'Neck - pinch skin',\n",
       " 'Eyelash - pull hair',\n",
       " 'Eyebrow - pull hair',\n",
       " 'Forehead - scratch',\n",
       " 'Above ear - pull hair',\n",
       " 'Wave hello',\n",
       " 'Write name in air',\n",
       " 'Text on phone',\n",
       " 'Pull air toward your face',\n",
       " 'Pinch knee/leg skin',\n",
       " 'Scratch knee/leg skin',\n",
       " 'Drink from bottle/cup',\n",
       " 'Glasses on/off']"
      ]
     },
     "execution_count": 17,
     "metadata": {},
     "output_type": "execute_result"
    }
   ],
   "source": [
    "df[\"gesture\"].unique().tolist()"
   ]
  },
  {
   "cell_type": "code",
   "execution_count": 18,
   "id": "4bae51e8",
   "metadata": {},
   "outputs": [],
   "source": [
    "def split_dataset_stratified_groupkfold(df: pd.DataFrame, target_col: str, group_col: str) -> list[tuple[pd.DataFrame, pd.DataFrame]]:\n",
    "    sgkf = StratifiedGroupKFold(n_splits=N_FOLDS, shuffle=True)\n",
    "\n",
    "    folds = []\n",
    "    X = df.drop(columns=[target_col])\n",
    "    y = df[target_col]\n",
    "    groups = df[group_col]\n",
    "\n",
    "    for train_idx, valid_idx in sgkf.split(X, y, groups):\n",
    "        train_df = df.iloc[train_idx].copy()\n",
    "        valid_df = df.iloc[valid_idx].copy()\n",
    "        folds.append((train_df, valid_df))\n",
    "\n",
    "    return folds\n",
    "\n",
    "# Example usage:\n",
    "folds = split_dataset_stratified_groupkfold(df, target_col=\"gesture\", group_col=\"subject\")"
   ]
  },
  {
   "cell_type": "markdown",
   "id": "d81b9c0d",
   "metadata": {},
   "source": [
    "### Std norm\n",
    "Standard scale the feature cols (should probably do something different for IMU cols).  \n",
    "<!-- *Deprecated, std norm is now performed at dataset creation to avoid target leakage.*   -->"
   ]
  },
  {
   "cell_type": "code",
   "execution_count": 19,
   "id": "c9d5755e",
   "metadata": {},
   "outputs": [],
   "source": [
    "def std_norm_dataset(train:DF, val:DF) -> tuple[DF, DF]:\n",
    "    means = train[get_feature_cols(df)].mean().astype(\"float32\")\n",
    "    stds = train[get_feature_cols(df)].std().astype(\"float32\")\n",
    "    train.loc[:, get_feature_cols(df)] = (train[get_feature_cols(df)] - means) / stds\n",
    "    val.loc[:, get_feature_cols(df)] = (val[get_feature_cols(df)] - means) / stds\n",
    "    return train, val\n",
    "\n",
    "folds = list(starmap(std_norm_dataset, folds))"
   ]
  },
  {
   "cell_type": "markdown",
   "id": "b36ccf25",
   "metadata": {},
   "source": [
    "Normalize full dataset."
   ]
  },
  {
   "cell_type": "code",
   "execution_count": 20,
   "id": "9b2c7cac",
   "metadata": {},
   "outputs": [
    {
     "name": "stderr",
     "output_type": "stream",
     "text": [
      "/tmp/ipykernel_14379/629001182.py:6: FutureWarning: Setting an item of incompatible dtype is deprecated and will raise in a future error of pandas. Value '[0.87240755 0.91835342 0.70619159 ... 0.24943555 0.40213801 0.45484063]' has dtype incompatible with float32, please explicitly cast to a compatible dtype first.\n",
      "  df.loc[:, get_feature_cols(df)] = (df[get_feature_cols(df)] - full_dataset_meta_data[\"mean\"]) / full_dataset_meta_data['std']\n",
      "/tmp/ipykernel_14379/629001182.py:6: FutureWarning: Setting an item of incompatible dtype is deprecated and will raise in a future error of pandas. Value '[ 0.8841304   0.8841304   0.72331979 ... -0.31414283 -0.42967666\n",
      " -0.54442986]' has dtype incompatible with float32, please explicitly cast to a compatible dtype first.\n",
      "  df.loc[:, get_feature_cols(df)] = (df[get_feature_cols(df)] - full_dataset_meta_data[\"mean\"]) / full_dataset_meta_data['std']\n",
      "/tmp/ipykernel_14379/629001182.py:6: FutureWarning: Setting an item of incompatible dtype is deprecated and will raise in a future error of pandas. Value '[ 0.62581574  0.58801223  0.96476591 ... -1.13877547 -1.41493335\n",
      " -1.50399587]' has dtype incompatible with float32, please explicitly cast to a compatible dtype first.\n",
      "  df.loc[:, get_feature_cols(df)] = (df[get_feature_cols(df)] - full_dataset_meta_data[\"mean\"]) / full_dataset_meta_data['std']\n",
      "/tmp/ipykernel_14379/629001182.py:6: FutureWarning: Setting an item of incompatible dtype is deprecated and will raise in a future error of pandas. Value '[0.92192948 0.93580851 0.7796449  ... 0.3332821  0.43304996 0.44690426]' has dtype incompatible with float32, please explicitly cast to a compatible dtype first.\n",
      "  df.loc[:, get_feature_cols(df)] = (df[get_feature_cols(df)] - full_dataset_meta_data[\"mean\"]) / full_dataset_meta_data['std']\n",
      "/tmp/ipykernel_14379/629001182.py:6: FutureWarning: Setting an item of incompatible dtype is deprecated and will raise in a future error of pandas. Value '[ 0.37828318  0.44191741  0.66331731 ... -1.41863723 -1.47327315\n",
      " -1.56520538]' has dtype incompatible with float32, please explicitly cast to a compatible dtype first.\n",
      "  df.loc[:, get_feature_cols(df)] = (df[get_feature_cols(df)] - full_dataset_meta_data[\"mean\"]) / full_dataset_meta_data['std']\n",
      "/tmp/ipykernel_14379/629001182.py:6: FutureWarning: Setting an item of incompatible dtype is deprecated and will raise in a future error of pandas. Value '[-0.19114313 -0.23970151  0.01806238 ... -0.02437902 -0.22398579\n",
      " -0.28935106]' has dtype incompatible with float32, please explicitly cast to a compatible dtype first.\n",
      "  df.loc[:, get_feature_cols(df)] = (df[get_feature_cols(df)] - full_dataset_meta_data[\"mean\"]) / full_dataset_meta_data['std']\n",
      "/tmp/ipykernel_14379/629001182.py:6: FutureWarning: Setting an item of incompatible dtype is deprecated and will raise in a future error of pandas. Value '[-0.1543143  -0.05438018 -0.3731254  ... -1.33143173 -0.96283624\n",
      " -0.78592757]' has dtype incompatible with float32, please explicitly cast to a compatible dtype first.\n",
      "  df.loc[:, get_feature_cols(df)] = (df[get_feature_cols(df)] - full_dataset_meta_data[\"mean\"]) / full_dataset_meta_data['std']\n",
      "/tmp/ipykernel_14379/629001182.py:6: FutureWarning: Setting an item of incompatible dtype is deprecated and will raise in a future error of pandas. Value '[0.91867394 0.88599032 0.61246329 ... 0.99485484 0.97932846 0.99747807]' has dtype incompatible with float32, please explicitly cast to a compatible dtype first.\n",
      "  df.loc[:, get_feature_cols(df)] = (df[get_feature_cols(df)] - full_dataset_meta_data[\"mean\"]) / full_dataset_meta_data['std']\n",
      "/tmp/ipykernel_14379/629001182.py:6: FutureWarning: Setting an item of incompatible dtype is deprecated and will raise in a future error of pandas. Value '[-0.23869022 -0.14896993 -0.37290141 ... -1.64273835 -0.07708343\n",
      "  0.46263901]' has dtype incompatible with float32, please explicitly cast to a compatible dtype first.\n",
      "  df.loc[:, get_feature_cols(df)] = (df[get_feature_cols(df)] - full_dataset_meta_data[\"mean\"]) / full_dataset_meta_data['std']\n",
      "/tmp/ipykernel_14379/629001182.py:6: FutureWarning: Setting an item of incompatible dtype is deprecated and will raise in a future error of pandas. Value '[-0.99715055 -0.95773732 -0.63026367 ... -1.08920292 -1.07042212\n",
      " -1.09237714]' has dtype incompatible with float32, please explicitly cast to a compatible dtype first.\n",
      "  df.loc[:, get_feature_cols(df)] = (df[get_feature_cols(df)] - full_dataset_meta_data[\"mean\"]) / full_dataset_meta_data['std']\n",
      "/tmp/ipykernel_14379/629001182.py:6: FutureWarning: Setting an item of incompatible dtype is deprecated and will raise in a future error of pandas. Value '[-0.50852472 -0.4764371  -0.3341469  ... -1.60542168 -1.61081346\n",
      " -1.61396961]' has dtype incompatible with float32, please explicitly cast to a compatible dtype first.\n",
      "  df.loc[:, get_feature_cols(df)] = (df[get_feature_cols(df)] - full_dataset_meta_data[\"mean\"]) / full_dataset_meta_data['std']\n",
      "/tmp/ipykernel_14379/629001182.py:6: FutureWarning: Setting an item of incompatible dtype is deprecated and will raise in a future error of pandas. Value '[-0.7163434  -0.68184003 -0.54935162 ... -0.74193903 -0.72243223\n",
      " -0.72446184]' has dtype incompatible with float32, please explicitly cast to a compatible dtype first.\n",
      "  df.loc[:, get_feature_cols(df)] = (df[get_feature_cols(df)] - full_dataset_meta_data[\"mean\"]) / full_dataset_meta_data['std']\n",
      "/tmp/ipykernel_14379/629001182.py:6: FutureWarning: Setting an item of incompatible dtype is deprecated and will raise in a future error of pandas. Value '[-1.23853993 -1.2679199  -1.34974677 ...  0.0416742   0.01715042\n",
      "  0.03026214]' has dtype incompatible with float32, please explicitly cast to a compatible dtype first.\n",
      "  df.loc[:, get_feature_cols(df)] = (df[get_feature_cols(df)] - full_dataset_meta_data[\"mean\"]) / full_dataset_meta_data['std']\n",
      "/tmp/ipykernel_14379/629001182.py:6: FutureWarning: Setting an item of incompatible dtype is deprecated and will raise in a future error of pandas. Value '[0.50231783 0.59310455 0.82146787 ... 0.62009948 0.69565178 0.67444004]' has dtype incompatible with float32, please explicitly cast to a compatible dtype first.\n",
      "  df.loc[:, get_feature_cols(df)] = (df[get_feature_cols(df)] - full_dataset_meta_data[\"mean\"]) / full_dataset_meta_data['std']\n",
      "/tmp/ipykernel_14379/629001182.py:6: FutureWarning: Setting an item of incompatible dtype is deprecated and will raise in a future error of pandas. Value '[1.18477426 1.19708885 0.97652363 ... 0.30165955 0.38943235 0.37884916]' has dtype incompatible with float32, please explicitly cast to a compatible dtype first.\n",
      "  df.loc[:, get_feature_cols(df)] = (df[get_feature_cols(df)] - full_dataset_meta_data[\"mean\"]) / full_dataset_meta_data['std']\n",
      "/tmp/ipykernel_14379/629001182.py:6: FutureWarning: Setting an item of incompatible dtype is deprecated and will raise in a future error of pandas. Value '[0.63344209 0.68143673 0.74140548 ... 0.29969805 0.33057229 0.31433888]' has dtype incompatible with float32, please explicitly cast to a compatible dtype first.\n",
      "  df.loc[:, get_feature_cols(df)] = (df[get_feature_cols(df)] - full_dataset_meta_data[\"mean\"]) / full_dataset_meta_data['std']\n",
      "/tmp/ipykernel_14379/629001182.py:6: FutureWarning: Setting an item of incompatible dtype is deprecated and will raise in a future error of pandas. Value '[0.36724552 0.38668742 0.42327279 ... 0.84895603 0.86489636 0.87229757]' has dtype incompatible with float32, please explicitly cast to a compatible dtype first.\n",
      "  df.loc[:, get_feature_cols(df)] = (df[get_feature_cols(df)] - full_dataset_meta_data[\"mean\"]) / full_dataset_meta_data['std']\n",
      "/tmp/ipykernel_14379/629001182.py:6: FutureWarning: Setting an item of incompatible dtype is deprecated and will raise in a future error of pandas. Value '[0.47793803 0.49229795 0.5108575  ... 0.61815265 0.56165606 0.56047498]' has dtype incompatible with float32, please explicitly cast to a compatible dtype first.\n",
      "  df.loc[:, get_feature_cols(df)] = (df[get_feature_cols(df)] - full_dataset_meta_data[\"mean\"]) / full_dataset_meta_data['std']\n",
      "/tmp/ipykernel_14379/629001182.py:6: FutureWarning: Setting an item of incompatible dtype is deprecated and will raise in a future error of pandas. Value '[ 0.33957131  0.34994752  0.39886392 ... -1.03749939 -1.02712318\n",
      " -0.99451225]' has dtype incompatible with float32, please explicitly cast to a compatible dtype first.\n",
      "  df.loc[:, get_feature_cols(df)] = (df[get_feature_cols(df)] - full_dataset_meta_data[\"mean\"]) / full_dataset_meta_data['std']\n",
      "/tmp/ipykernel_14379/629001182.py:6: FutureWarning: Setting an item of incompatible dtype is deprecated and will raise in a future error of pandas. Value '[ 0.14872681  0.19953096  0.37176939 ... -0.9259047  -0.894307\n",
      " -0.88129619]' has dtype incompatible with float32, please explicitly cast to a compatible dtype first.\n",
      "  df.loc[:, get_feature_cols(df)] = (df[get_feature_cols(df)] - full_dataset_meta_data[\"mean\"]) / full_dataset_meta_data['std']\n",
      "/tmp/ipykernel_14379/629001182.py:6: FutureWarning: Setting an item of incompatible dtype is deprecated and will raise in a future error of pandas. Value '[-0.45493793 -0.33714769  0.02242254 ...  0.39941038  0.46789995\n",
      "  0.5316661 ]' has dtype incompatible with float32, please explicitly cast to a compatible dtype first.\n",
      "  df.loc[:, get_feature_cols(df)] = (df[get_feature_cols(df)] - full_dataset_meta_data[\"mean\"]) / full_dataset_meta_data['std']\n",
      "/tmp/ipykernel_14379/629001182.py:6: FutureWarning: Setting an item of incompatible dtype is deprecated and will raise in a future error of pandas. Value '[-0.01677826  0.00259618  0.02630819 ... -1.00227249 -0.90048435\n",
      " -0.89527928]' has dtype incompatible with float32, please explicitly cast to a compatible dtype first.\n",
      "  df.loc[:, get_feature_cols(df)] = (df[get_feature_cols(df)] - full_dataset_meta_data[\"mean\"]) / full_dataset_meta_data['std']\n",
      "/tmp/ipykernel_14379/629001182.py:6: FutureWarning: Setting an item of incompatible dtype is deprecated and will raise in a future error of pandas. Value '[ 0.40467845  0.43377058  0.49058256 ... -0.96320044 -1.007662\n",
      " -1.00162401]' has dtype incompatible with float32, please explicitly cast to a compatible dtype first.\n",
      "  df.loc[:, get_feature_cols(df)] = (df[get_feature_cols(df)] - full_dataset_meta_data[\"mean\"]) / full_dataset_meta_data['std']\n"
     ]
    }
   ],
   "source": [
    "# Retain full dataset meta data for inference\n",
    "full_dataset_meta_data = {\n",
    "    \"mean\": df[get_feature_cols(df)].mean().astype(\"float32\").to_dict(),\n",
    "    \"std\": df[get_feature_cols(df)].std().astype(\"float32\").to_dict(),\n",
    "}\n",
    "df.loc[:, get_feature_cols(df)] = (df[get_feature_cols(df)] - full_dataset_meta_data[\"mean\"]) / full_dataset_meta_data['std']"
   ]
  },
  {
   "cell_type": "markdown",
   "id": "7d8a04ce",
   "metadata": {},
   "source": [
    "Verify the mean and std of the full dataset."
   ]
  },
  {
   "cell_type": "code",
   "execution_count": 21,
   "id": "b02ca859",
   "metadata": {},
   "outputs": [
    {
     "data": {
      "text/html": [
       "<div>\n",
       "<style scoped>\n",
       "    .dataframe tbody tr th:only-of-type {\n",
       "        vertical-align: middle;\n",
       "    }\n",
       "\n",
       "    .dataframe tbody tr th {\n",
       "        vertical-align: top;\n",
       "    }\n",
       "\n",
       "    .dataframe thead th {\n",
       "        text-align: right;\n",
       "    }\n",
       "</style>\n",
       "<table border=\"1\" class=\"dataframe\">\n",
       "  <thead>\n",
       "    <tr style=\"text-align: right;\">\n",
       "      <th></th>\n",
       "      <th>acc_x</th>\n",
       "      <th>acc_x_diff</th>\n",
       "      <th>acc_y</th>\n",
       "      <th>acc_y_diff</th>\n",
       "      <th>acc_z</th>\n",
       "      <th>acc_z_diff</th>\n",
       "      <th>angular_vel_x</th>\n",
       "      <th>angular_vel_x_diff</th>\n",
       "      <th>angular_vel_y</th>\n",
       "      <th>angular_vel_y_diff</th>\n",
       "      <th>...</th>\n",
       "      <th>tof_1</th>\n",
       "      <th>tof_1_diff</th>\n",
       "      <th>tof_2</th>\n",
       "      <th>tof_2_diff</th>\n",
       "      <th>tof_3</th>\n",
       "      <th>tof_3_diff</th>\n",
       "      <th>tof_4</th>\n",
       "      <th>tof_4_diff</th>\n",
       "      <th>tof_5</th>\n",
       "      <th>tof_5_diff</th>\n",
       "    </tr>\n",
       "  </thead>\n",
       "  <tbody>\n",
       "    <tr>\n",
       "      <th>mean</th>\n",
       "      <td>-1.749467e-08</td>\n",
       "      <td>-3.192562e-10</td>\n",
       "      <td>1.186949e-08</td>\n",
       "      <td>-1.666452e-10</td>\n",
       "      <td>-2.971537e-09</td>\n",
       "      <td>-3.622585e-10</td>\n",
       "      <td>8.305834e-10</td>\n",
       "      <td>4.009440e-10</td>\n",
       "      <td>-5.170893e-10</td>\n",
       "      <td>-1.785537e-10</td>\n",
       "      <td>...</td>\n",
       "      <td>1.908273e-07</td>\n",
       "      <td>-2.311552e-10</td>\n",
       "      <td>1.687596e-08</td>\n",
       "      <td>8.222476e-10</td>\n",
       "      <td>2.663846e-09</td>\n",
       "      <td>-6.040385e-10</td>\n",
       "      <td>1.404808e-08</td>\n",
       "      <td>6.444108e-11</td>\n",
       "      <td>-5.993022e-08</td>\n",
       "      <td>-8.028372e-11</td>\n",
       "    </tr>\n",
       "    <tr>\n",
       "      <th>std</th>\n",
       "      <td>1.000000e+00</td>\n",
       "      <td>1.000000e+00</td>\n",
       "      <td>1.000000e+00</td>\n",
       "      <td>1.000000e+00</td>\n",
       "      <td>1.000000e+00</td>\n",
       "      <td>1.000000e+00</td>\n",
       "      <td>1.000000e+00</td>\n",
       "      <td>1.000000e+00</td>\n",
       "      <td>1.000000e+00</td>\n",
       "      <td>1.000000e+00</td>\n",
       "      <td>...</td>\n",
       "      <td>1.000000e+00</td>\n",
       "      <td>1.000000e+00</td>\n",
       "      <td>1.000000e+00</td>\n",
       "      <td>1.000000e+00</td>\n",
       "      <td>1.000000e+00</td>\n",
       "      <td>1.000000e+00</td>\n",
       "      <td>1.000000e+00</td>\n",
       "      <td>1.000000e+00</td>\n",
       "      <td>1.000000e+00</td>\n",
       "      <td>1.000000e+00</td>\n",
       "    </tr>\n",
       "  </tbody>\n",
       "</table>\n",
       "<p>2 rows × 66 columns</p>\n",
       "</div>"
      ],
      "text/plain": [
       "             acc_x    acc_x_diff         acc_y    acc_y_diff         acc_z  \\\n",
       "mean -1.749467e-08 -3.192562e-10  1.186949e-08 -1.666452e-10 -2.971537e-09   \n",
       "std   1.000000e+00  1.000000e+00  1.000000e+00  1.000000e+00  1.000000e+00   \n",
       "\n",
       "        acc_z_diff  angular_vel_x  angular_vel_x_diff  angular_vel_y  \\\n",
       "mean -3.622585e-10   8.305834e-10        4.009440e-10  -5.170893e-10   \n",
       "std   1.000000e+00   1.000000e+00        1.000000e+00   1.000000e+00   \n",
       "\n",
       "      angular_vel_y_diff  ...         tof_1    tof_1_diff         tof_2  \\\n",
       "mean       -1.785537e-10  ...  1.908273e-07 -2.311552e-10  1.687596e-08   \n",
       "std         1.000000e+00  ...  1.000000e+00  1.000000e+00  1.000000e+00   \n",
       "\n",
       "        tof_2_diff         tof_3    tof_3_diff         tof_4    tof_4_diff  \\\n",
       "mean  8.222476e-10  2.663846e-09 -6.040385e-10  1.404808e-08  6.444108e-11   \n",
       "std   1.000000e+00  1.000000e+00  1.000000e+00  1.000000e+00  1.000000e+00   \n",
       "\n",
       "             tof_5    tof_5_diff  \n",
       "mean -5.993022e-08 -8.028372e-11  \n",
       "std   1.000000e+00  1.000000e+00  \n",
       "\n",
       "[2 rows x 66 columns]"
      ]
     },
     "execution_count": 21,
     "metadata": {},
     "output_type": "execute_result"
    }
   ],
   "source": [
    "df[get_feature_cols(df)].agg([\"mean\", \"std\"])"
   ]
  },
  {
   "cell_type": "markdown",
   "id": "f840652f",
   "metadata": {},
   "source": [
    "Let's compare the train to validation mean/std skews."
   ]
  },
  {
   "cell_type": "code",
   "execution_count": 22,
   "id": "9ce0ae47",
   "metadata": {},
   "outputs": [
    {
     "data": {
      "text/html": [
       "<div>\n",
       "<style scoped>\n",
       "    .dataframe tbody tr th:only-of-type {\n",
       "        vertical-align: middle;\n",
       "    }\n",
       "\n",
       "    .dataframe tbody tr th {\n",
       "        vertical-align: top;\n",
       "    }\n",
       "\n",
       "    .dataframe thead th {\n",
       "        text-align: right;\n",
       "    }\n",
       "</style>\n",
       "<table border=\"1\" class=\"dataframe\">\n",
       "  <thead>\n",
       "    <tr style=\"text-align: right;\">\n",
       "      <th></th>\n",
       "      <th></th>\n",
       "      <th>acc_x</th>\n",
       "      <th>acc_x_diff</th>\n",
       "      <th>acc_y</th>\n",
       "      <th>acc_y_diff</th>\n",
       "      <th>acc_z</th>\n",
       "      <th>acc_z_diff</th>\n",
       "      <th>angular_vel_x</th>\n",
       "      <th>angular_vel_x_diff</th>\n",
       "      <th>angular_vel_y</th>\n",
       "      <th>angular_vel_y_diff</th>\n",
       "      <th>...</th>\n",
       "      <th>tof_1</th>\n",
       "      <th>tof_1_diff</th>\n",
       "      <th>tof_2</th>\n",
       "      <th>tof_2_diff</th>\n",
       "      <th>tof_3</th>\n",
       "      <th>tof_3_diff</th>\n",
       "      <th>tof_4</th>\n",
       "      <th>tof_4_diff</th>\n",
       "      <th>tof_5</th>\n",
       "      <th>tof_5_diff</th>\n",
       "    </tr>\n",
       "  </thead>\n",
       "  <tbody>\n",
       "    <tr>\n",
       "      <th rowspan=\"2\" valign=\"top\">train</th>\n",
       "      <th>mean</th>\n",
       "      <td>-2.227653e-08</td>\n",
       "      <td>-1.987916e-10</td>\n",
       "      <td>6.575604e-09</td>\n",
       "      <td>-1.249467e-10</td>\n",
       "      <td>-9.662112e-09</td>\n",
       "      <td>2.309660e-10</td>\n",
       "      <td>-7.092990e-10</td>\n",
       "      <td>-2.264879e-10</td>\n",
       "      <td>-1.991792e-10</td>\n",
       "      <td>5.600445e-11</td>\n",
       "      <td>...</td>\n",
       "      <td>-8.051759e-08</td>\n",
       "      <td>4.045103e-11</td>\n",
       "      <td>6.334051e-08</td>\n",
       "      <td>8.224579e-12</td>\n",
       "      <td>6.870835e-08</td>\n",
       "      <td>1.391628e-09</td>\n",
       "      <td>-8.669061e-08</td>\n",
       "      <td>1.180676e-10</td>\n",
       "      <td>-1.449317e-08</td>\n",
       "      <td>1.366897e-10</td>\n",
       "    </tr>\n",
       "    <tr>\n",
       "      <th>std</th>\n",
       "      <td>9.999999e-01</td>\n",
       "      <td>1.000000e+00</td>\n",
       "      <td>9.999999e-01</td>\n",
       "      <td>1.000000e+00</td>\n",
       "      <td>1.000000e+00</td>\n",
       "      <td>1.000000e+00</td>\n",
       "      <td>1.000000e+00</td>\n",
       "      <td>1.000000e+00</td>\n",
       "      <td>1.000000e+00</td>\n",
       "      <td>1.000000e+00</td>\n",
       "      <td>...</td>\n",
       "      <td>1.000000e+00</td>\n",
       "      <td>1.000000e+00</td>\n",
       "      <td>1.000000e+00</td>\n",
       "      <td>1.000000e+00</td>\n",
       "      <td>9.999999e-01</td>\n",
       "      <td>1.000000e+00</td>\n",
       "      <td>9.999999e-01</td>\n",
       "      <td>1.000000e+00</td>\n",
       "      <td>1.000000e+00</td>\n",
       "      <td>1.000000e+00</td>\n",
       "    </tr>\n",
       "    <tr>\n",
       "      <th rowspan=\"2\" valign=\"top\">validation</th>\n",
       "      <th>mean</th>\n",
       "      <td>-7.743166e-02</td>\n",
       "      <td>2.817478e-03</td>\n",
       "      <td>-6.266434e-02</td>\n",
       "      <td>-7.735135e-03</td>\n",
       "      <td>4.156362e-02</td>\n",
       "      <td>3.091230e-03</td>\n",
       "      <td>5.517944e-05</td>\n",
       "      <td>-1.419058e-04</td>\n",
       "      <td>7.427084e-03</td>\n",
       "      <td>-6.600895e-03</td>\n",
       "      <td>...</td>\n",
       "      <td>6.545995e-02</td>\n",
       "      <td>6.982643e-03</td>\n",
       "      <td>1.055459e-01</td>\n",
       "      <td>3.550361e-03</td>\n",
       "      <td>5.902488e-02</td>\n",
       "      <td>7.954743e-03</td>\n",
       "      <td>3.898906e-02</td>\n",
       "      <td>8.083069e-03</td>\n",
       "      <td>6.483005e-03</td>\n",
       "      <td>1.000682e-03</td>\n",
       "    </tr>\n",
       "    <tr>\n",
       "      <th>std</th>\n",
       "      <td>1.017771e+00</td>\n",
       "      <td>8.922371e-01</td>\n",
       "      <td>9.859619e-01</td>\n",
       "      <td>8.944728e-01</td>\n",
       "      <td>1.012796e+00</td>\n",
       "      <td>9.408101e-01</td>\n",
       "      <td>9.460963e-01</td>\n",
       "      <td>9.452869e-01</td>\n",
       "      <td>9.993870e-01</td>\n",
       "      <td>9.800724e-01</td>\n",
       "      <td>...</td>\n",
       "      <td>9.920573e-01</td>\n",
       "      <td>9.767832e-01</td>\n",
       "      <td>1.017935e+00</td>\n",
       "      <td>9.302995e-01</td>\n",
       "      <td>9.917102e-01</td>\n",
       "      <td>9.971819e-01</td>\n",
       "      <td>9.506398e-01</td>\n",
       "      <td>9.925537e-01</td>\n",
       "      <td>1.029092e+00</td>\n",
       "      <td>9.720325e-01</td>\n",
       "    </tr>\n",
       "  </tbody>\n",
       "</table>\n",
       "<p>4 rows × 66 columns</p>\n",
       "</div>"
      ],
      "text/plain": [
       "                        acc_x    acc_x_diff         acc_y    acc_y_diff  \\\n",
       "train      mean -2.227653e-08 -1.987916e-10  6.575604e-09 -1.249467e-10   \n",
       "           std   9.999999e-01  1.000000e+00  9.999999e-01  1.000000e+00   \n",
       "validation mean -7.743166e-02  2.817478e-03 -6.266434e-02 -7.735135e-03   \n",
       "           std   1.017771e+00  8.922371e-01  9.859619e-01  8.944728e-01   \n",
       "\n",
       "                        acc_z    acc_z_diff  angular_vel_x  \\\n",
       "train      mean -9.662112e-09  2.309660e-10  -7.092990e-10   \n",
       "           std   1.000000e+00  1.000000e+00   1.000000e+00   \n",
       "validation mean  4.156362e-02  3.091230e-03   5.517944e-05   \n",
       "           std   1.012796e+00  9.408101e-01   9.460963e-01   \n",
       "\n",
       "                 angular_vel_x_diff  angular_vel_y  angular_vel_y_diff  ...  \\\n",
       "train      mean       -2.264879e-10  -1.991792e-10        5.600445e-11  ...   \n",
       "           std         1.000000e+00   1.000000e+00        1.000000e+00  ...   \n",
       "validation mean       -1.419058e-04   7.427084e-03       -6.600895e-03  ...   \n",
       "           std         9.452869e-01   9.993870e-01        9.800724e-01  ...   \n",
       "\n",
       "                        tof_1    tof_1_diff         tof_2    tof_2_diff  \\\n",
       "train      mean -8.051759e-08  4.045103e-11  6.334051e-08  8.224579e-12   \n",
       "           std   1.000000e+00  1.000000e+00  1.000000e+00  1.000000e+00   \n",
       "validation mean  6.545995e-02  6.982643e-03  1.055459e-01  3.550361e-03   \n",
       "           std   9.920573e-01  9.767832e-01  1.017935e+00  9.302995e-01   \n",
       "\n",
       "                        tof_3    tof_3_diff         tof_4    tof_4_diff  \\\n",
       "train      mean  6.870835e-08  1.391628e-09 -8.669061e-08  1.180676e-10   \n",
       "           std   9.999999e-01  1.000000e+00  9.999999e-01  1.000000e+00   \n",
       "validation mean  5.902488e-02  7.954743e-03  3.898906e-02  8.083069e-03   \n",
       "           std   9.917102e-01  9.971819e-01  9.506398e-01  9.925537e-01   \n",
       "\n",
       "                        tof_5    tof_5_diff  \n",
       "train      mean -1.449317e-08  1.366897e-10  \n",
       "           std   1.000000e+00  1.000000e+00  \n",
       "validation mean  6.483005e-03  1.000682e-03  \n",
       "           std   1.029092e+00  9.720325e-01  \n",
       "\n",
       "[4 rows x 66 columns]"
      ]
     },
     "execution_count": 22,
     "metadata": {},
     "output_type": "execute_result"
    }
   ],
   "source": [
    "pd.concat({\n",
    "    \"train\": folds[0][0][get_feature_cols(df)].agg([\"mean\", \"std\"]),\n",
    "    \"validation\": folds[0][1][get_feature_cols(df)].agg([\"mean\", \"std\"]),\n",
    "})"
   ]
  },
  {
   "cell_type": "markdown",
   "id": "9bc09714",
   "metadata": {},
   "source": [
    "### Normalize sequences lengths.  \n",
    "And turn the Dataframes into ndarrays."
   ]
  },
  {
   "cell_type": "markdown",
   "id": "76699499",
   "metadata": {},
   "source": [
    "#### Visualize histogram of sequences lengths."
   ]
  },
  {
   "cell_type": "markdown",
   "id": "b3477111",
   "metadata": {},
   "source": [
    "Entire dataset sequences lengths."
   ]
  },
  {
   "cell_type": "code",
   "execution_count": 23,
   "id": "876907d8",
   "metadata": {},
   "outputs": [
    {
     "data": {
      "application/vnd.plotly.v1+json": {
       "config": {
        "plotlyServerURL": "https://plot.ly"
       },
       "data": [
        {
         "bingroup": "x",
         "hovertemplate": "variable=0<br>value=%{x}<br>count=%{y}<extra></extra>",
         "legendgroup": "0",
         "marker": {
          "color": "#636efa",
          "pattern": {
           "shape": ""
          }
         },
         "name": "0",
         "orientation": "v",
         "showlegend": true,
         "type": "histogram",
         "x": {
          "bdata": "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",
          "dtype": "i2"
         },
         "xaxis": "x",
         "yaxis": "y"
        }
       ],
       "layout": {
        "barmode": "relative",
        "legend": {
         "title": {
          "text": "variable"
         },
         "tracegroupgap": 0
        },
        "template": {
         "data": {
          "bar": [
           {
            "error_x": {
             "color": "#2a3f5f"
            },
            "error_y": {
             "color": "#2a3f5f"
            },
            "marker": {
             "line": {
              "color": "#E5ECF6",
              "width": 0.5
             },
             "pattern": {
              "fillmode": "overlay",
              "size": 10,
              "solidity": 0.2
             }
            },
            "type": "bar"
           }
          ],
          "barpolar": [
           {
            "marker": {
             "line": {
              "color": "#E5ECF6",
              "width": 0.5
             },
             "pattern": {
              "fillmode": "overlay",
              "size": 10,
              "solidity": 0.2
             }
            },
            "type": "barpolar"
           }
          ],
          "carpet": [
           {
            "aaxis": {
             "endlinecolor": "#2a3f5f",
             "gridcolor": "white",
             "linecolor": "white",
             "minorgridcolor": "white",
             "startlinecolor": "#2a3f5f"
            },
            "baxis": {
             "endlinecolor": "#2a3f5f",
             "gridcolor": "white",
             "linecolor": "white",
             "minorgridcolor": "white",
             "startlinecolor": "#2a3f5f"
            },
            "type": "carpet"
           }
          ],
          "choropleth": [
           {
            "colorbar": {
             "outlinewidth": 0,
             "ticks": ""
            },
            "type": "choropleth"
           }
          ],
          "contour": [
           {
            "colorbar": {
             "outlinewidth": 0,
             "ticks": ""
            },
            "colorscale": [
             [
              0,
              "#0d0887"
             ],
             [
              0.1111111111111111,
              "#46039f"
             ],
             [
              0.2222222222222222,
              "#7201a8"
             ],
             [
              0.3333333333333333,
              "#9c179e"
             ],
             [
              0.4444444444444444,
              "#bd3786"
             ],
             [
              0.5555555555555556,
              "#d8576b"
             ],
             [
              0.6666666666666666,
              "#ed7953"
             ],
             [
              0.7777777777777778,
              "#fb9f3a"
             ],
             [
              0.8888888888888888,
              "#fdca26"
             ],
             [
              1,
              "#f0f921"
             ]
            ],
            "type": "contour"
           }
          ],
          "contourcarpet": [
           {
            "colorbar": {
             "outlinewidth": 0,
             "ticks": ""
            },
            "type": "contourcarpet"
           }
          ],
          "heatmap": [
           {
            "colorbar": {
             "outlinewidth": 0,
             "ticks": ""
            },
            "colorscale": [
             [
              0,
              "#0d0887"
             ],
             [
              0.1111111111111111,
              "#46039f"
             ],
             [
              0.2222222222222222,
              "#7201a8"
             ],
             [
              0.3333333333333333,
              "#9c179e"
             ],
             [
              0.4444444444444444,
              "#bd3786"
             ],
             [
              0.5555555555555556,
              "#d8576b"
             ],
             [
              0.6666666666666666,
              "#ed7953"
             ],
             [
              0.7777777777777778,
              "#fb9f3a"
             ],
             [
              0.8888888888888888,
              "#fdca26"
             ],
             [
              1,
              "#f0f921"
             ]
            ],
            "type": "heatmap"
           }
          ],
          "histogram": [
           {
            "marker": {
             "pattern": {
              "fillmode": "overlay",
              "size": 10,
              "solidity": 0.2
             }
            },
            "type": "histogram"
           }
          ],
          "histogram2d": [
           {
            "colorbar": {
             "outlinewidth": 0,
             "ticks": ""
            },
            "colorscale": [
             [
              0,
              "#0d0887"
             ],
             [
              0.1111111111111111,
              "#46039f"
             ],
             [
              0.2222222222222222,
              "#7201a8"
             ],
             [
              0.3333333333333333,
              "#9c179e"
             ],
             [
              0.4444444444444444,
              "#bd3786"
             ],
             [
              0.5555555555555556,
              "#d8576b"
             ],
             [
              0.6666666666666666,
              "#ed7953"
             ],
             [
              0.7777777777777778,
              "#fb9f3a"
             ],
             [
              0.8888888888888888,
              "#fdca26"
             ],
             [
              1,
              "#f0f921"
             ]
            ],
            "type": "histogram2d"
           }
          ],
          "histogram2dcontour": [
           {
            "colorbar": {
             "outlinewidth": 0,
             "ticks": ""
            },
            "colorscale": [
             [
              0,
              "#0d0887"
             ],
             [
              0.1111111111111111,
              "#46039f"
             ],
             [
              0.2222222222222222,
              "#7201a8"
             ],
             [
              0.3333333333333333,
              "#9c179e"
             ],
             [
              0.4444444444444444,
              "#bd3786"
             ],
             [
              0.5555555555555556,
              "#d8576b"
             ],
             [
              0.6666666666666666,
              "#ed7953"
             ],
             [
              0.7777777777777778,
              "#fb9f3a"
             ],
             [
              0.8888888888888888,
              "#fdca26"
             ],
             [
              1,
              "#f0f921"
             ]
            ],
            "type": "histogram2dcontour"
           }
          ],
          "mesh3d": [
           {
            "colorbar": {
             "outlinewidth": 0,
             "ticks": ""
            },
            "type": "mesh3d"
           }
          ],
          "parcoords": [
           {
            "line": {
             "colorbar": {
              "outlinewidth": 0,
              "ticks": ""
             }
            },
            "type": "parcoords"
           }
          ],
          "pie": [
           {
            "automargin": true,
            "type": "pie"
           }
          ],
          "scatter": [
           {
            "fillpattern": {
             "fillmode": "overlay",
             "size": 10,
             "solidity": 0.2
            },
            "type": "scatter"
           }
          ],
          "scatter3d": [
           {
            "line": {
             "colorbar": {
              "outlinewidth": 0,
              "ticks": ""
             }
            },
            "marker": {
             "colorbar": {
              "outlinewidth": 0,
              "ticks": ""
             }
            },
            "type": "scatter3d"
           }
          ],
          "scattercarpet": [
           {
            "marker": {
             "colorbar": {
              "outlinewidth": 0,
              "ticks": ""
             }
            },
            "type": "scattercarpet"
           }
          ],
          "scattergeo": [
           {
            "marker": {
             "colorbar": {
              "outlinewidth": 0,
              "ticks": ""
             }
            },
            "type": "scattergeo"
           }
          ],
          "scattergl": [
           {
            "marker": {
             "colorbar": {
              "outlinewidth": 0,
              "ticks": ""
             }
            },
            "type": "scattergl"
           }
          ],
          "scattermap": [
           {
            "marker": {
             "colorbar": {
              "outlinewidth": 0,
              "ticks": ""
             }
            },
            "type": "scattermap"
           }
          ],
          "scattermapbox": [
           {
            "marker": {
             "colorbar": {
              "outlinewidth": 0,
              "ticks": ""
             }
            },
            "type": "scattermapbox"
           }
          ],
          "scatterpolar": [
           {
            "marker": {
             "colorbar": {
              "outlinewidth": 0,
              "ticks": ""
             }
            },
            "type": "scatterpolar"
           }
          ],
          "scatterpolargl": [
           {
            "marker": {
             "colorbar": {
              "outlinewidth": 0,
              "ticks": ""
             }
            },
            "type": "scatterpolargl"
           }
          ],
          "scatterternary": [
           {
            "marker": {
             "colorbar": {
              "outlinewidth": 0,
              "ticks": ""
             }
            },
            "type": "scatterternary"
           }
          ],
          "surface": [
           {
            "colorbar": {
             "outlinewidth": 0,
             "ticks": ""
            },
            "colorscale": [
             [
              0,
              "#0d0887"
             ],
             [
              0.1111111111111111,
              "#46039f"
             ],
             [
              0.2222222222222222,
              "#7201a8"
             ],
             [
              0.3333333333333333,
              "#9c179e"
             ],
             [
              0.4444444444444444,
              "#bd3786"
             ],
             [
              0.5555555555555556,
              "#d8576b"
             ],
             [
              0.6666666666666666,
              "#ed7953"
             ],
             [
              0.7777777777777778,
              "#fb9f3a"
             ],
             [
              0.8888888888888888,
              "#fdca26"
             ],
             [
              1,
              "#f0f921"
             ]
            ],
            "type": "surface"
           }
          ],
          "table": [
           {
            "cells": {
             "fill": {
              "color": "#EBF0F8"
             },
             "line": {
              "color": "white"
             }
            },
            "header": {
             "fill": {
              "color": "#C8D4E3"
             },
             "line": {
              "color": "white"
             }
            },
            "type": "table"
           }
          ]
         },
         "layout": {
          "annotationdefaults": {
           "arrowcolor": "#2a3f5f",
           "arrowhead": 0,
           "arrowwidth": 1
          },
          "autotypenumbers": "strict",
          "coloraxis": {
           "colorbar": {
            "outlinewidth": 0,
            "ticks": ""
           }
          },
          "colorscale": {
           "diverging": [
            [
             0,
             "#8e0152"
            ],
            [
             0.1,
             "#c51b7d"
            ],
            [
             0.2,
             "#de77ae"
            ],
            [
             0.3,
             "#f1b6da"
            ],
            [
             0.4,
             "#fde0ef"
            ],
            [
             0.5,
             "#f7f7f7"
            ],
            [
             0.6,
             "#e6f5d0"
            ],
            [
             0.7,
             "#b8e186"
            ],
            [
             0.8,
             "#7fbc41"
            ],
            [
             0.9,
             "#4d9221"
            ],
            [
             1,
             "#276419"
            ]
           ],
           "sequential": [
            [
             0,
             "#0d0887"
            ],
            [
             0.1111111111111111,
             "#46039f"
            ],
            [
             0.2222222222222222,
             "#7201a8"
            ],
            [
             0.3333333333333333,
             "#9c179e"
            ],
            [
             0.4444444444444444,
             "#bd3786"
            ],
            [
             0.5555555555555556,
             "#d8576b"
            ],
            [
             0.6666666666666666,
             "#ed7953"
            ],
            [
             0.7777777777777778,
             "#fb9f3a"
            ],
            [
             0.8888888888888888,
             "#fdca26"
            ],
            [
             1,
             "#f0f921"
            ]
           ],
           "sequentialminus": [
            [
             0,
             "#0d0887"
            ],
            [
             0.1111111111111111,
             "#46039f"
            ],
            [
             0.2222222222222222,
             "#7201a8"
            ],
            [
             0.3333333333333333,
             "#9c179e"
            ],
            [
             0.4444444444444444,
             "#bd3786"
            ],
            [
             0.5555555555555556,
             "#d8576b"
            ],
            [
             0.6666666666666666,
             "#ed7953"
            ],
            [
             0.7777777777777778,
             "#fb9f3a"
            ],
            [
             0.8888888888888888,
             "#fdca26"
            ],
            [
             1,
             "#f0f921"
            ]
           ]
          },
          "colorway": [
           "#636efa",
           "#EF553B",
           "#00cc96",
           "#ab63fa",
           "#FFA15A",
           "#19d3f3",
           "#FF6692",
           "#B6E880",
           "#FF97FF",
           "#FECB52"
          ],
          "font": {
           "color": "#2a3f5f"
          },
          "geo": {
           "bgcolor": "white",
           "lakecolor": "white",
           "landcolor": "#E5ECF6",
           "showlakes": true,
           "showland": true,
           "subunitcolor": "white"
          },
          "hoverlabel": {
           "align": "left"
          },
          "hovermode": "closest",
          "mapbox": {
           "style": "light"
          },
          "paper_bgcolor": "white",
          "plot_bgcolor": "#E5ECF6",
          "polar": {
           "angularaxis": {
            "gridcolor": "white",
            "linecolor": "white",
            "ticks": ""
           },
           "bgcolor": "#E5ECF6",
           "radialaxis": {
            "gridcolor": "white",
            "linecolor": "white",
            "ticks": ""
           }
          },
          "scene": {
           "xaxis": {
            "backgroundcolor": "#E5ECF6",
            "gridcolor": "white",
            "gridwidth": 2,
            "linecolor": "white",
            "showbackground": true,
            "ticks": "",
            "zerolinecolor": "white"
           },
           "yaxis": {
            "backgroundcolor": "#E5ECF6",
            "gridcolor": "white",
            "gridwidth": 2,
            "linecolor": "white",
            "showbackground": true,
            "ticks": "",
            "zerolinecolor": "white"
           },
           "zaxis": {
            "backgroundcolor": "#E5ECF6",
            "gridcolor": "white",
            "gridwidth": 2,
            "linecolor": "white",
            "showbackground": true,
            "ticks": "",
            "zerolinecolor": "white"
           }
          },
          "shapedefaults": {
           "line": {
            "color": "#2a3f5f"
           }
          },
          "ternary": {
           "aaxis": {
            "gridcolor": "white",
            "linecolor": "white",
            "ticks": ""
           },
           "baxis": {
            "gridcolor": "white",
            "linecolor": "white",
            "ticks": ""
           },
           "bgcolor": "#E5ECF6",
           "caxis": {
            "gridcolor": "white",
            "linecolor": "white",
            "ticks": ""
           }
          },
          "title": {
           "x": 0.05
          },
          "xaxis": {
           "automargin": true,
           "gridcolor": "white",
           "linecolor": "white",
           "ticks": "",
           "title": {
            "standoff": 15
           },
           "zerolinecolor": "white",
           "zerolinewidth": 2
          },
          "yaxis": {
           "automargin": true,
           "gridcolor": "white",
           "linecolor": "white",
           "ticks": "",
           "title": {
            "standoff": 15
           },
           "zerolinecolor": "white",
           "zerolinewidth": 2
          }
         }
        },
        "title": {
         "text": "Sequence length frequency"
        },
        "xaxis": {
         "anchor": "y",
         "domain": [
          0,
          1
         ],
         "title": {
          "text": "value"
         }
        },
        "yaxis": {
         "anchor": "x",
         "domain": [
          0,
          1
         ],
         "title": {
          "text": "count"
         }
        }
       }
      }
     },
     "metadata": {},
     "output_type": "display_data"
    }
   ],
   "source": [
    "px.histogram(\n",
    "    (\n",
    "        df\n",
    "        .groupby(\"sequence_id\", observed=True)\n",
    "        .size()\n",
    "    ),\n",
    "    title=\"Sequence length frequency\",\n",
    ")"
   ]
  },
  {
   "cell_type": "markdown",
   "id": "24e72f4e",
   "metadata": {},
   "source": [
    "Second(to avoid always look at the first one) Train/validation split sequences lengths comparaison."
   ]
  },
  {
   "cell_type": "code",
   "execution_count": 24,
   "id": "1a39bfce",
   "metadata": {},
   "outputs": [
    {
     "data": {
      "application/vnd.plotly.v1+json": {
       "config": {
        "plotlyServerURL": "https://plot.ly"
       },
       "data": [
        {
         "bingroup": "x",
         "hovertemplate": "set=Train<br>length=%{x}<br>count=%{y}<extra></extra>",
         "legendgroup": "Train",
         "marker": {
          "color": "#636efa",
          "opacity": 0.5,
          "pattern": {
           "shape": ""
          }
         },
         "name": "Train",
         "nbinsx": 50,
         "opacity": 0.8,
         "orientation": "v",
         "showlegend": true,
         "type": "histogram",
         "x": {
          "bdata": "OQBEAD0ANgCfADgAKABOADIANgBYAEMAPQA3AFcASQAuAFEA6gAtAKEASQA9AFYAMgBNAE0ANgA3ADcALQAyAEEAOQCpAFMAPQBsAGsANQBcADQANACpAD0AQwBBAGAANgA1AC8AawAzADEAOAA6AFQAQwBRADsANgBVADAAfQA7ADYAOABWADEASwBeAE8ALgA3AIQANQAtAEEAOgA4ADYAZwA3ADYAWAA1ADIAeQBMAFQAUQA2AEIAMAAvAD4AMAAqAFcAQQAwAEIAYgAvADEAMABLADcAUwA4ADEAOwBDAC4ARQBJAC8AMAA1AD0ANwAxAFwANAAvADcANABFAEQAUAA6ADkAOgAxADUAdQA8AEAANQAsAC4AMQA/ADgALwA2ACsAfQA8ADMANAA3AC8AOwAvAEkANwA6ADMAOAA5ADwAOAA7ADMAOQA6ADgAYwA5ADAAMgBCADIALQA1ADgAXwAsADUALwA3ADQAtABAAGAAMQAzAEUANwAvADgAZgCbAFEAYAA0ADYAPABcAFAAPABYAEYAMAA2AEIALwBFAEgAMgBLADMANgBZADAAMgBiADoASAA7ADIAPABLAEQAMQBCAC8AYgBGADMALgA0AEQAWgA7AFwAMQA8AEsAYQAyADMAQABZAG4ANAA5AJEAMAA3AEIAjgFGADcANAAyAJcAdQB/AIIARQA6ADEARwA5AHsANABeAI0ALwBaADgARwBCAD4AOgAvAGAANAAxAFgALQBLADwATwA1ADYAPwAtADEANACSADUANwA4ADoAMAA4AFUAMAA7AFAASQA3AF4APwB8ACwAQAA4ADEAPAA/AEIBUQAtADEAOwBKADsAOAA0ADYAMgBGADkAMQB0AFAAkwAvAD4AWwBXADYAQABHAFUAiAA0AEcAXAA/AGwAfQBaADkATwA/AF4AiABkADQAOwCaAE8AWAAuAM4AOgA3AC8ANgAwADgANwAyADUAMQAtADAALwBCADEAUwBlADUAPgAtADMAWwBTAC0AVAA3ADQAPAA/AD4ASgA5AFwATQCLADsANQA/ADEANwAzADAALAA0AE4ANAAzAGAA1wA3AFQATABzADQAZQA4AFQAPQA/ADQALwBEAFEAMQA3AEwAhwBBAEEALAA2AD0AMgAuADgAMABCADgAUQAyAC4AMwBPADUAMgByAIUBOQA1ADIAMQBAADUASwAvAEAAfwBQAGIAQQBYAGEAUAAxAGEANwBTAEQA/ABqAGUASgA6ADEAcQA8ADQAMABUAEAAQAAyAD8AMwBUADQALwAxADYAuwA3ADIAXQBYADEAMwA3ACoAMgBKAIoAMwBQADQALwBjAFMAOABoAFkALwBxADkANABAAHUAiQAsAJEANABRAFMAlgA+ADMAXAAuADAANABoAEoARAA9AHAALQAzAHcAYwAwADMBOwA7AEMANgBnAD8AMwA+AEIAUABIADMAAAErADIANQAyACsAUQA1AEUANAAwADoAOABzADUAaQBHAEEAOQBTAF0ALwBXAE4AYABDADoASwAzADcAMgBJADUAMABpADYAPQAyAC4BMABHAHQAXwBEADQAMAAwAFkAMwA/AHQANgBLADQAQgAzADsAOgCjAGgAMwA9ADYATAA8AEgALwA2ADcAvwBCADgANwA9ADYAVwBaAGgANABLADAAMAA8ADwAOQBOAG0AQQBJAFwAZgArAGYAUwA9AD4AVgBqAEAAOgA8ADYARgBgADEAMgAvADAANwA0AHUALgAtAKAAMQA3AE4ANAA9ADQAVwA+ADwALAA0AC8AQwAyAD8ALABAAKIAYAA7AGkAcAA0AD0ALwA7ADYAZgA/ADEASgA5AEIARAAzADIANgAuAC0ANgBjADgANQBuADsAOwA1ADkAPQBFADEALQA9AEgAMAA2AHQARwA2AHMAtAAtAMkAMgA9AFcANABAAE0AOABGADoALgA3AEQAWABcADIARABuAEQASgA5AFYAZgA0AEUALwA5ADgAbQAvADYALQBNADwASgA6AC8ANwA0ADUAWwA4AG8AMgA4ADoAZgA6AEYAMgAzADkAVgA1AC8AOQA8AC4AXwAsAEEAXgA3AFMAWQBZAD8APQAwAIYALgA8AEYAOABzAIkBRgBUADMAXQBFADYANgA1AFAAhQA6ADkAMACrAGAAjgBOAEAALwAvADMANgB5AFAATAAxAIYALgA8ADEAOgAzAC8AWwBfAC0AbAAwACsAOABIAHwAWgBeAGsAMwBbAE4AWAA4ADgARgAqAEUALQBUADAAOQA2AE8ARwD/ACwAeAAvAFIAPABLADwANQBQAPEAQgA0ADQAOwAsADQAOACeAIQALQArAFgAcwA+AFkANAA+ADkAOwAzADgANAAtADMANQAvAEwAXwA1ADEAMQBiAF0AVABTACsA5QA4AEgAhwAdADMAXQBfADMAMAA+AC4ANQBRADIANgCIAC8AOQAzADkAMQBMAEQALwAyADIAQAAyADIAYQA9ADcANgAtAFgANQA4AGkAcgArADMAPwAxADwAMwBUAEoAMgA+AFUARABlAGgAPQBVADIAOgBKAF8AawA4AGEAMgA5ADkANgBJADQATAA3AEEAOQBHADQAXgAvAE8AWAAyADUANgBGADoANQA3ADIAZgBDAFkAWwAyADYARwBGADgAMQAuAD4AOgA6ADsAMgAvADYAOgA4AE4AOABGAFAANAAwADAAOAAxAPMASQBBADwAOwBdAJoANQAvAEUASQA1ADgANQAwAJoAOQA1AE0ARADBAD8AMgAwADQANwBGAEYANgA0ADwAWAA5AEoAMAAqAC8AOQBNAEQAUAA/AD4ALwAxADkALwBaAD8ANABJADYAKgBnADcAUQAzAD0ANgBbAD0ALgBgADIANABAADAAMwCLADYAMQAvADcAOQBEAEoAOgA1AGIAvgBMAF4ANABAAG4AMQBKAF0APQA3ACIAcAA2ADMAQQA8ADQAhQA/AE4APQBGADMA9QBbADMAMwA4ADEAegA+AEkAVwAwAEoAQAA+ADgALwAzAEAAkgBIAEoAMwArADAAMQAjADkAOwA2AFgAMQAsADAAMwA8ADwALQAwACsARAAzAC4AMABUAIAAOwAyADcALgA0ADEAbQA1ADAAOABNADsAMABBAEQAMwAtADUAMAAxADoAqwBZADEAMwBAAFoAMgBAAFgAMgBOAO0ARQA1ADcANAAzADoAeQBUAF4APgBFABcBVAA0AFoANAAsAFYAMgBTAE4ASwA3AG4ARAAwAEIAOQAvAE8ANAAvAHQAMgBAAF4AWABDAGsAYQAzAFwANwBAADIAOgBSADgAMQA7AEIAMQBbAD0AQQBnAEQAVAAvADgAUgA4AEAATwAvACsANQAyAG0AZgAzAC4ALgBYAHEAMQA7AGEAOABXAG0AWgBAADcAMwA4AC8AWgBLADIAPgAzADgAMQBAAFsASwAzAE0ASAAvAIIAVwBFACwAfAA7AEwALwBaADQARQBaADgANQBKACoALwBXADQAQAAtADoAbABdAD0AcgBAAKMARgCAADoAOgAoADMAMwBDAEkAPQBIAD8ARgBRAGMALwBwADUAkwDWAF4ASAA3ADIAMQAyAFUAQwB0AGoAMABkADYAMAA7AEkAOQBfAGMALAB7AF0APABFADAALgA9ADkAOQA9ADAARgBRADAAMQCfAj4APgA5ADwALwA1AEAAOwBYAD4AOwA/ADcAOgBnADoAcQAkAC8AhwA0AGMAaAA2AEAAMgA4AHUAagAzAC0AUABbAD0AawBWADQAqgBmADUALQBAADIAUwB8AD4ALwBPAEQASAAxAE8APwA5AFQAMAA6ADIANQBaAC8ALwAvAFUAZQAyAEgATgBCADoAMQAtADMAXAAxAC8AOgA1AHYAMgA0ADoAPwA4ADMAMwA7AEgAOgA2AGQANQBcAGQAdQA5ACkAUgArAE4APQAoAFEAbQArAC4AvAJkAGAANgA1AEgAOgB3ADQAPwBSACUAtwBCAEIAMQA5AEAALABJAC0AOABRACoAMgAyADYAKwBdADIAZwA3AEYAMABZADAAMAA7ADwAUwAzADYARwBHADkAOQApAEoARAA+AC4AOQA5AC8ALwDMAEwANQA2ADQAOwBUAGcANAAtAFQANgBEAC4AagBSADgANQAwAE4AjgAyAC8AMwA9ADcCOgBNADAANgA3AFoAUgAxAEwAQwA6ADcAUQAxAK4AMQBBAD8AOAA3AEAAMAA/AGAAPQBoADIAMQAzAFcATwBBAEgANQBBAKMAaQBDAFcANgAvADIAQQAzADcAOQBLADQAnABKADAAOAAtADMAMgAqADIANQA8ADMAMgAxADgAPgBFAEIAUQA5AFsALwBFAEMARABgAGcAOAAtAGIATAAyADMAZAA0ADYARABEAEMAUwA1ADsATgA1ADQAeQA4ADMAOQBtADUANQA1AEUANABNADgAMwCDAFYAPwA0AE0AQwAyADcApgBPAD4AMQA0AFwAWQA5AC0ANQBBAF8AXgArADQANAA7AD4AbwAyACMASAA9ACsAPAAzADwANADvADgARwBBAMcAMQBfAD0AYgBvAF8AMAA5ADAAQgC/AGYAPABPAC4AMAA4ADoAQwAxADEAYgBEAEIAPwBYADEANABGADYARQA7AEEAXwA5AEMAMwBAADQASQA5ADYAMwA9ADsAMgBYAGkAWAA8ADEALwAvADwAmQCEADQAVABLAEEAPgA0ADQALQAvAGAAmgA2ADAAMgAyADIALAA4AFwAVABsAE8AMABVAEIAWwBoADMARwA5ADAANQBXAGYAZgAzALUAYgArAEAAZgA0ADUALgA6ADMA5gBAADMANAAtADEAKgBnAEEANgAxAD4ATgA+AFYAQAAxADwAZQA0AFAAdgBEADgAMQAyAFYARQAwAGEALQBYAD0AVgBSADIAVQBBADgAQgA7ADMAXAAxAF4AMgArAIUALgAwADUAOwBUAC0ANgAwADIANgBDADMANgArAC8AQwAqAEkAbQA2AEUANgBIAGsAOQAxADkAiwAwAFcANQA9ADcAcAAvAHcANwBGADIALwBvADUARgA5AGEAPwBeADkAYwBPADUAWQA/ADIAOAAzAEoANAB5AEEARwBGAEEAPgBbAD8AUQA0AEIANABdAEMARQBXACwAZQA3AFkANAAyAFkAOQAzADsAXgAzADEAMgBCAEgARwAxADMARAAxAFwAMgA+AEMAOAAzAHkAOgA5ADYAMAA2AHwAuwA6AC8AUQBHADwAOgBLAC4AkwCbADgAMgAxAE4AUwA3AFQANgAyADoANwBqADEAPwA/AD0ALwBBANUATgBDAD0ALgBdADMASQA/AE4ANAAxADIANQAyADkAiQBsADQANQAwADoAUwAyAMAANwArADkAhwAvAEkANABTADIARQAxAFkAQQA7ADkAOABGADAAMgA4ADAANgA2ADYAOwBIADMAOwBeADUAMgBjAEEALQA7AEgANQAvAF8AXwA3AHQALwA1ADUAOAAuAJ0ANgA2ADAAOwA1ADkAOwBTAC4ALgA0ADMAMwA1ADMAVwAuADIATQBOADYAaAEyAC8ANAA2ADYAOwAtAGoANQBHADABLwAvAFIARAC9AEcANQAuADIAVwAzAFsALAA0AG0AOwA9AD8AUwBgAEYARAAvADMAZAA4ADQATAAuAEAAOwAyADMANABpAD0AWQA7AEAAOAA0ADAARQBEACkAWgA8ADsARAA2AFUALwA2ADMASQAwADQAOwA1ADwANgAyADsANABKAO4AQQBiAD8A9wCyADUALABBAEYANgAzADcAdgA0ADsANwA0ADoAnAAzADoAMQA7AFkAZgA1AGMATQBGAFUAPAAxAEIAOAB/ADUAZwBQADIAXgBRADkALwA+ADgANQAyAFAALwAvADgANABUADQAPwBBADoAWwBkADYAMgChADoALQBSADAAPwA2AC8AVwAzADoAWQBgADoAPgBEAD8ARwBPAFUAOgAzADMAegBlAHAANgBNAGAAUQA0ADIAOAA3ADQALQA1ADgARAA4AEUAMwA1AD0AQwA2AF4AMgBTAC0APABkAFUAOwAzAGwALAA2ADEAMABGADAALwBhAFgAcgA9AC0ASwBdAHMANgAvADMARAA0AGgASQAzAC8AMwA/AEUANwAqAC8ArQAxADQAOAAzADQAKQAyALMAbgBoAFAAPQBBADQAbwA4AEEATgA8AGcAMAA1ADcAkABFADgASQCLAFgAMwBDAEAARQBWAGEAMwAtADgAPwAwADAAOwBcADQAWQA1AEAAPABCAFMAUQCLAD4ASABsAEIANwBLADIANQBQAGkAUgA4AEMAPABaADgANABgAEQAWQA8AD0ARwC/AJkALwBiADkATAA2ADoAVgBVADwAYgA0AEgAPQBRAGgASQA5ADcATQBGADAAMQAzADAAiwBYAEgASAA9AEwANwAyADcANAAxADkASgBVAEEANQA3AF4AbgBEAE8ANgAvADcAMwA2AD8ANQBNAEQATABYAE4ALgBFAFoANQA9ADEAOAA2ADIAKAA5AEQAOgAsADIASgA+AD0ANAA1ADoAuQBHACcAZwAzADAAMgAyAEMAWgCtADoAOQA5ADEAMABTAEMALQBAADAANQA3AIEALwAxADEANgBWADkATgBAAFcASgBCAEMAOAAzAC4ASgA6AEgAOwBDADkALwA4AEoAMABPADkAWABEADcAWAA1ADcAMwBkAGoANwA4AC0AKwAvAFEAhQB8ADIAMgBGAD4ALgA6ADMALQA4ADMANgAvAGUAPgAyADUAOgAxADwAXAA1ADQAUwBEAFwALwBcADAAPABiAEMANQArAFYARwBHADAAOwBeADUAOgA6AEIA3ABXAC8AQAA4AE0AjwAyAEIAPQAuADkALgA1AFIAgQBEAC4AWQAyADIAPQA3AE8ASABrADgASwBAAD0AMABOAEoANwA8AFcAMAA9ADoASwA+AFYAPQA6AGgAMQA3ADQAPQBAAEgAVQAxADYAPAAtADIASwA/ADgALgA0ADUAQwA/ADQAZgBIADEAOAAyAD8ASgA/AAsBMAA1ADQAUAAyAC8AMAAyADUANAA2ADEANABUALMASAA1AD0AbAA2AI8APgBLADIARwA3AFoAPgBSAC0AOQBAAFAAVAAzAEEAZABGADgAZgAwAEMALwAzAEAARwB1ADIARQBOADcANAA9ADgAPwAtAC4ANgA3AE0AOgA6ACwATAA8ADUAUwBXAFYAMgBAADcALQCDAEcAMgA/AEsANwAsADYAOAAzAE8ALgAxAEMANwA6AEoARgAyAD4AJwAxAI8AMwA2ADwAMQA1ADYASQAwAGIALgA1ADAASACIADEANAA4ADQAPwAtADYAWgAuAD0AbQA5AGsAaABVADcAMQBZAIcCOgBFAEYALwAtAFQANQBKAEMANwBfAD8ANQAyAFIARAA0ADcAXQA6ADEARQAwADgAewA7AEgAWQBGAEAAVwBWADAALgBJAGcASwA8ACwAMwA5ADwANQA4ADQAWgAxADIAOAAwAFwAQgCUADIAOgA/AIYAOQBGADsAMQA+AGMALAAzADsAjAAuAHUANAA1AGEAQQA3ADgAMwA7ADEARgA1ADUAawA3ADAARQBSAD0AMwBSADgAKgByADYAWgBMADgAggC5ADcAMwBwADkANgBfAJMAPgAzADsANQBYAD8AcwA4AC0ANgA3AEMAMwA5ADsAOQAzAEEAbwBpAC8AcwAyAC8ANwCwADYAOgA2AHAALABZACwASwBJADEAMgBQADAAPwA7ADUAOQBgADgAOABHAC4AYAA+ADMAMgA3AD4A1gCUADIALgA2ADcAPAAtAC4AUABIADcAMQAuAEMAYQBKAC8AQwAtAE8ANAA+AGAAOQA1AEgAdQA9ADkAXwBBADUANAAuADEAMQA5AFkAPAA3ADQAOABtAEcALQA2ACsAOABBAFIAPQBjAEcAOwA+AD4AQwA0ADoASQA/ADAAOgAvAFkAMQA7ADwAMgBaALQAMwA2ADYAOABAAC8APgA0AEkANwBCADIAPQBWADMAYgBnADQALwAzADEAOQA4AGoAfAApAEwALgA2AEkANQA2ADAASgA5AC8ARQAyAC0AMQAuAFUAWwA7AEgAOABPAEYAewBlADMANwBzADkASAA3AFsASAAyAFkATgA/ADIASwCKAEEAPABdAEsATQB9AC4APABlAD4AQwA1AC8AOAA0AIcARABBADEANwBXAEEARAA2AFoAQgAzAEQAMwA3ADAALgBCADQAUwCIAFEAVABBADIANQBJADIAMwA5AGYAeQA/AH0AbwArAEgA1wBAAGIAMgAtADkANgBoADAASABDAD8AXgA9AEMAMQBQAFQALgA8ACoALwAuADkAMwAvAD0AMgCBADcAWQBPAFEAMABaADUAOABHAEkAMQBIAFYAOABCADUAMgA3AEEASwA6AFYARAA7AD0ALgBBADAANwBWAEcAhgAwAC8ASgA1ADUAMQBiADIASgAwADQAQwBfAEYAywA2ADAAMgAyADUAVwA2ADQAMwBLADoALwA4AEwARQAyAHUAZQAxADUAPgBRAEEAXQA9ADYANwAvAFMAPQBJAMQARAAxADIANgDGAC8ANgA2AF0AXQBMADMANAAvAEIAPwBNADEANQBHADIAUQA0AEMAMgBEAGMASwAvADIANwAyADIAugAzAEEANAA5AEoASwBMAEEAQgAxAD8AXABbADQANgB2ADsAOQA8AF0ARgA1ADoALgBWAG4AOQBiADoAbQA5AEMAMwBOADUAOgA1AIoANABQAFAAXAAtADUALQA0ADgAOAA7ADkAPAA8ADoAYwAvAEAAPABAAFgAMQBUADQAMgCJAF8ALwA2AFMATgBQAFEASQAyAFsAPQBcAEYAMwAuAFoAcgAyADMAOAAzAEwAMgA1AKAASwA2ADsAXABUAE8AWgBmADIAVAA1AEEASgBYAFUAaAA6AC0APABBAFkAYQA0ADEAUwA3AGQALwA6ADYAWwA0AGkANQAwACwAYQB/ADEAXgAsACoAVAAxADsAMQB8AFoAOwAvANUANwAvADAAXQAyAHwATABFADUAOwA8ADcAtgBGADgAPgAxADEAPwA3ADEAQAAwADkANwDlAFcANABgAC8APwA+AEgAOQA9ADwAYgAyADsAQABeADwAOgBfADIAeQA8AGAATgAxAGYAMwBLADMAMgA9AFcALQBBAGUARACLAC4AbABAAEMANgBKADEAZQA1ADsASAA0ADAAMAA1ADIAOAAtADcAMgAyAC8AOQBUAD8AOQAxAJQAXgA9AD8AfwBHAEAAPwBMADUAPgBfADEALgAyAFgASABXADMAMgCUADsANgAyACwAMQBiAC0ALgEyAFwAPwBZADYAPAA2AGsAMQA7AFkAWAA6ADUANgBiAGkATwA8ADUA1AAzADoAPQBnAEIAMwA0ADUAOAA5ADYARgBIADQAOwA4AC4ALwBYADUAPgA/ADQANwAwAHgAMQA1ADcASgA2AEsAMwAvAIMAeQAxAD4ARwAuAF4AOQAyAFoAVQAuAFUASABtAFgAUABQAEwALgA+AEYALwBkAFsAMwBGADEAYABQADMAMwA3ADkANABIABwBMgBRADAAMQA3AE8AMwAyAEYAMwA9ADwATQA+ADkA3ABKAFwAYgBwADYANgBfAEQARAC/ADMALgA2ACwAMABbAEcANQBdADoANQBEAKEAUgBMADYAMQA9ADgANwBQADIALgAzAC8AfgA2ADAAMgA1ADsAMABDAFgAVQAzAFwAMwAzAFkAOABGAJMAOgA2ADkAPQBmADIANgBtAC8AQAA9ADUAOwBPADAALwA5ADQANQA0ADQAOgAyADEANQBOAEgAWwBfADoARwA3ADQANQA8AC8AWgBJAC0AOQBqAEgAUwA3AC8A5AAyADwAMwBhAKwApQA5AFUAMAAxAFcAQAA8ADEAUQBOADkAMwA4ADEAbQBHAE0ANQAxAEkAegA7AFcAQgBlADUAMwA2AEIAZABRADYAOAA1AD4AagAsADoAZwA7AMgAOQAyAFQAMAAwADMASQBBAG4AUQBDADoAMgBIAIQAOwA2ADEAMwBPADAANAA5AEQAYgA1ADQAOgBbADoALwAwAF8AJABHAE4ANgA0AEUAXAA4AI8ASwA2ADQATAB5ADsAUQBKAEsAPACNADYAMACXADcAQgBAAEwAQwA/ADwAOwA2ADIAPABvADEASABCAHUAPwCLADsARgAyADQARABXAD0AMQBpAEEANABFAEkAVQA9ADgANgA2AD8AOwBeAC0ARwAzADAANAA8ADcANQC0ADIAMwA0AGIAKwA2ADQAOwBTAE8AMAA2AIoAfwBCADcAOgA0AEQAMAA3AD0ANQAtADYAVQBQADoAxAA3AG0ARAAyADAARwBFADwAOABoAEUAVABeAHwAfAAyADQATQA1ADYAUAAyAGwALwA/ADEAMwBJAEYANAAyAEwAOQA5ADEAkAB2ADEAMwAyADsATgBBADIAXgAvAGsAOQA1ADgAUAAtADcANgAxAEoALQA8AFQAQQBEAKsANQBfAEkAZQA0AE0APQAyAEsAZABBAEYAMwAzAGgAMABGAEcANAAsADIAZgBMAD0ASABsACsAYAA3AEIAaQAsAC0AegA2AC4AaABLADYALwBtADIAOgAzAFAAPACfADMAKgBQAEgAWgA+ADoALwArADgANQA3AE8AvABAADIALQAsADAAOAA4AJ0AOgBxAE8APABmADMATgBOADIALQA4AFoANwBSAJYAMAA0AE8APAA+AE4ANAAyAHMBOgA1AEEANwA4ADwANADJAF4ANgAzAEUAMABMADAASQAyADYAYgBWAEkAUwA6AEEANQA5ADcAQwA1AEgAbwA1AD4ANAAxAD4ANABcAC0ARQB+ADQAMAAuAD4AOQBNAE0AWQA1ADsAQwBSAC0AMQBTADAAMQAxAD4AMgBIAGEAMgAxAEUAMwA2AFEANgA4AD4AMAAsADcAVgBaADsANwA+ADYAtQBFAC8APABKAFUATgAzAEgARAA+AFoAMwAyADwAMwA+ADsAbQBTADUANAAyAD8ATwBYAD0AwgA+ADkAfAD1AC0AtwBQAEkATgBSADAAdgF+ADgAMgBbADgAUgA9AEEAMQA9ADkAXAAuAFgATwA1AGIALgAvADkAPQBMADEALgAyAD0AMABDADsANgBoADEArgChAE4APgA0AEEAegAtADIASwBiADAAVAAzAC0APwBFAFwALQBMADcAPQA4AF0AMwAzADAAMQA7ADEAUQA3AC8APgBMAC0APQA+ADYAMQBAADwARwA7ADEAMgC6AC4AQQBbAC4AMwA2AEYAWwAwADoAMACPADoAMgAvADMAUwCwAEIAkABLADEAMgAyADQAeQA3ADkAPAAtADMAWAAwADkAQAAtAIIARQAxADkAMAA3AD0A9gA1AD8ARwA1ADAARgAvADEAKwAtAHsAMgBFAFAARQBjADIAMABKADYAMQBbAGYAPgA0AEMALwA2AFoAQQBOADQANQA0AGoATwAzADsAOwA0AD4AMgBlADYAYAAwAGAAMwA1AGgAPwA6AE4ALAAwADMANwBUAC8ANwBZADEALgAuADEASQAsAC4AOgAsADYASgA3ADEAMAAzADoAOABWAEcAeQA5AC0AYAAzAGkASgAzAFoAQwBJADIAOgBgAFoAUABEADkAOABDAKQAPACbAGAANABAADwAMgBiADYAMQBVADMAQgA1AFAAYgAxAEgAxwBrADEAZwBHAFYAUwBkAFYANgAwADcATgA4AD4ATAAxAEgAPAAxAHcATAA+ADgAVwChAHUAXABUAF0ARQA6AD4APwAtADQAVgDWAD4AOwA4ADoANgBFAFwAXwA0ADYALAA9ADUATgA0AJcAWwAyAEEAMwBNADoALgAvAEYAOABKADUAPwBHADEATwAxACwAMQBMAC8AQQApAE0AMQBTAGsAMgBSAGsArQAyADUAOQBFADcAMQBjAMwAMAAtAEsAVABQAGEAMgA7ADMAWQA3AC0AQQAtAEAAOwBbAGoAcQA0ADsAMABiAEYANQAxAD4ANQA7ADgAQAAyAC8ALgBCADcANABIAEQANwAvAKUASwAyADQAtQBMAC4AOAAyAC8ANQBTAEAAbwAuACwAUgBTACcASwAzADMAQABBAGcAWAAvADUAQQA+AEMAWABYAOsAPQA+AMgARAA9AG8APAA3AEEAXADyAC4AZwA0AE8ANwAwAF4ASgBIAC0AMAA8AEoAMQA5AEcAMgBJADsALwA4ADoAMQCSAJUAPAA3ADkAMABOAFAANABBAEIAOADQACwAMQA0AEMAVQA8AC4AOgBiAEgAMQA7AC4AXgA+ADgAMwA/ADsAVgAzADUAOAAzADQALAAtAIYARwBEAEEAYwBVAEQAQwA1AC4AXwAvAEIANAAzAD0ARwAyADYAOQAzAGAASwA8APYATQDxAGIASABPADgAOwCjADIAjAAzAFEAMABTADoANwAtAFwAZQBHADYAOgAzAFMAUQBEADIAOABAAEUALgA9AC8AMQAyAEAAOABSAD0AXQA/ADcANgBBAFAAVwAwAC8AOAA7AFMAPwA/ADsAQQBqACwALwAzAFYAPABmACwAUgAuADMANAA1AEAATAA2ACoAPgA7ADkAMgBZADcANwBHAE8ARwA2ADMAgwA2AC8AVgA7AEoAQABqAC4ANwA5AEgALwBYAAYBNQAsAJIA0gCCAD4AOgBKAC8ALQArADgANgBbAEUANQBWAD8APwAwAIIAcwAyAGIAKQAyAEYANQAwADUAQQBrADIALgBAADQAQABUADsAQQBEADoAMAAzADUAMQBAAEoARAAvAC8AMAAzAEIAngBhAE8AMQA2AD4AMQA/AGsANwA0AGAAwABOADEAPwBYAD4AUwBHADkAPQA9ADQAMgBnADoAdwAuACsAOwArAGYANAA4AGYANwA6ADoAUwA9ADMAXQBBADIAMwCPADUANQCMADEAYQA5ADIA+QBaADkAOwAvADEALwBgAJQASQBIAFAATQAxADMASwAvADEANABZAGkA3ABCANIATAAsAEIAQQBCAF8ARAAxADUARQAwAD0AQQAvADQAPgAsAC0AMgBjADwAOAA8AC8AOwBcADQAQgA+AC4ASwA5AD8ANQBIAGAAYwA3ADoAOQA8AJEANQA+ADUAOQA4ADoAOQBYACwAMQA6AFgAUwA6ADAAZgA8ADYAQQBFAEAAPwBZAC8ARABBADUALwA+ADoASQB6AGIAMABDADwAVQA1AFQAMgA+AFkARQAwAH4ALQA3AGMANwBLADwAMABCAC4AOAA0ADcAggAvAEwAOQA3AC8ATwBUADAAygBeAC8ANAAwAFgANwBNAEAANABPADYANgAvADEALwAtAFcAMwBZADAANQBNAD0APgBnADQALwBhADUALgAuADMAQgA+ADsAXAA0AD8AMwBMADUASAArAHgAOwA3AEAAOAB3ADkAQQBWADUALABDAEEANwA3AFEANQB3ADoALwA2AC0AQwAwADIAQwArADsAPABDAC4APgA0AFkATABIADEAUwAsADoAOwA5ADcAPgA7AEEAMwA2AFIAMgA1ADcAOQBBADYAVgBSADgASwBVAD0APwA7ADAAYgA1ADQAOQBMADAANgA+AC0APQA0ADQANAAuADkAOgAyADcAOQA3ADUAYAB+AJgAOwBCADIAxgBAAD4AKwBfAC0AMQA6AIoANQBhACYAPQAyADQAPwA0ADEAWwA2AIAAVwBHADYANgA+ADIAMgAsAFEANABnADEAVgA8AGkANwA9AEUALQA2AC8ARAAuAEEAbQBIAJ4ANQBaAFYAQQBIADMAMABVADcALwA6AF4AMAA8ADAANAByAEoANwA0ADkAOwA1ACcALQBkAFYAJwBLAF8AOwA3AC0AWQBGAD0ARABSADcANAA4AEsAPgA8AEgAjQAyACsAOgA9AD8APAAxADMAQABCADQAPwAvAF4ALwBrADIAcQA6ADMAMgB4ADYAMgBXAFUAMwBaAC8ANQAzADcAMQAzAFQAPwAxAD0AlQAyAF0AMAA5AMUAWAA9ADEAQgA5ADIAPQBlAHsAPQBuADAAYAAuAEsAOgA5AEYALABHAEYAKgAwACsATgBzAEcARgA2ACwANABHAGEAPQA6ADAAQgBgAD8ANgBbADsASwA/AIYBUwBCAFoAPwA4AHMAqwAxADgANQBlAFUAMgA2AHMANgAyALcASgAxAFYAGgEsAEEAVQAxADMAMwBkADAAOQArAFoAQABOADkAMgCcADEAMABEADMAoAAsAD8ALwBIAC4ANQBiAD8AMwAyAD4AWwBCAEgALABEAEIAMQA5AEsAKwA1AD4AfAA8AEQANgAvADYATgA5AMkALgBDAF4ANgA0ADkALgA9AC0AvABFADcAOwA6AFIAVAA2AEoALwBfADAAQgAxAFgAQAAxADgAOgBaAFoALgBAAFYAVgCBAEUAPwAwADgANwAyAEUANAA6AD8APQBRAC8ATgAxAFUAMQBDACwAOQAwAC4AMgBIAHAAQAA9AD0ANwAzAHMALwBfAC4AUwB6AE8AXwBuAHgATwA+ADsARQA8ADUANQAzADIASADDAD4ARACBAFQA7gBFAC8AYABdAFEAdgAzADgANQA3AE0ANQAyADcAQgBVAEEAMQAsADIAMgA4ADYAQQA1ADUATwBKADIANAA1ADQAOgA0ADoALgA3ADEAmAA8ADoAQADjAEwAMABDADIAMgAvAEAANQCUAJcARwBGAFQAMQBjAEoARwBYAE8ANABmAG8AMwA4ADIAMABfADkAYwCfADsASAAvAFAAMAA4AEYANAA9ADQAcAA0AC4APQA+AFMAQQBLADYAKwA3ADEAVgBKADAAMAA0AD4AMgA8AFoAUABgAGsAMQA2AGUAMwA9ADMAXwCHADsAUwBUADQAPgA5AD0AMAAyADcAXgAxAE0ANABQAEQAWQA1ACwAbQAyAEMAQgA3AD4AUwA5AFEAXgA8AFEAMAAwAGsAPgAtAE8ANwA3ADcAXQBVADEAUgBPAF4AMAAzAC4AZABAAFgANAAuADkARwBzAD0APwAzADEAOgAzAEMAMwA6AC0AWwAuADgAZwBCADcAZQBCAK4ANQBXADsAPQBnAC4AVAAxAEYAWQA/AFQANwAvAD0ANAA1ADYAOwA1AEsApQBZAEAAMwAtADMAhwA3ADEARgAzADsASwBOADQATgA1ADkANABMADEAMwA4AEAANABtADgAOAAyACwA0wA0ADEAMAAyACwAOAAwAHYAMwBIADYALgA6AEYANAA2AEkAigA5ADAAVwBGAFIAMAAvAG8AWQBbAEQAOwA0ADMATgAwADIAMAA0AD8ATAA1AD4AMgAvADkANgBkADsAOABpAEsAWwBDAEwASAAwADkAUwCVADsAVAAvAFcAWQBPAC8ANwAwACIAMQBwADQAqwAvADgANgA5ADMAOwAwAFgAPQAzAFIAhwAzAEAALABIAF8AKAB0AC8AeQA3AEEANwAsADIALwBCAFsAOwA8AF4ANAA0AFEAaAA4AC4APgAvADkAngCPAGYANQBbAHwANgA5AD8AXQBKADUAQACbAGgAMwBIAFQALwBnADUALwBmAEwATwAuADYATwA1AFIAOQBCADcALwA/ADcAQgA1AD0APwA6AEAAPAB/ADMAdQA1ADIANQA1ADoANwA0AFsANgAxADgAMQA5ADYALgAxADIALwAuADkAVAAwAFsAPgA1ADcAMgA6ADIAMQBIADgANAAzADMAPgBaADQALABsADoANwAtAD8AMgBGAHYAcwBdAEUARAAwAEQANgBWADMAMgAzAGoAfQAzAD0AKwAyAHYCNgA8ADcANQA6AEYAcQA1AD0ARQA2AGYARwBrAEcAOABJAD0AnAAvADQAQABGADQATwBKADUALAA9ADMALwBHADgANgAqAEMAYQA7ACwAkgA+AD0AZAA1AIMANABMAD4ANgBIADIARQBQAEUAaABDACwAPwCIAC8AOgA9AEUAPwA3AGoAMwBDADIAQAAzADIASQBVADMATQA4AEoAcQB0ADQAMgA3ADkAVQA0ADUASQA7AEMANgA1ADUARQA8AF0ALwA7AGgBLwA0AFEARgAsAFYANQAxAEsAMABEAC4ARwBGAC4AMQAzADYANQBDADoALwAyADMANABGACoAMgBYAPYAQQA4AGkALwA/ADcAOQA0AEoATgBNAC4AgQA4AHQAMABIADcANABHAEsALwBDADUAMgAxADIAUwA6AC0AWwBvACYALwA0ADMAWABOAD8ALgA0AEIARwA0AEkARAA0AGcASAA2ADUANAA2ADQAPwAyAC8AQwAyAC4ASAA2AEsAWAA1AFYATAAtALsAiAAvAEQAWwBHADMAQgAyADoAVAA0AFUAMgA3AGEANgBoADMAMAA6AEEANQAxADUAQQAvAIcAUAA4ADUARABYADQATwBQAGkAUgA7ADQAPwAyADsAVwBDAFYAUQA0ADMARwAsAEQAPwA4AEIALQAyAHMANAA6ADQALwBwADIAMAAtAEIAUwA1AEIAbQBQAC4ASAAuADUAYgBeADEATwBRAEAAiQA3ADUALAA7ADEAMgA/ADUAMAA0AFAANQA9ADQATgAvADQAPgA1ADUASQBIADcAegBNADYAMQBxAKsAOwBGADQAKgBSAEQAMQBAAGgAMwBAADkAPAAzADEAcgA/ADYAPAAyADwAMACcADgAOgAxADkAQQA7AEIANABbAEIAbQA4ADMAlgBiAGQAQwAtAEwAOwAwAGkALgAuADQANAA0ADYANQAxADoARQArAC8APgBBADQAOQA0ADYAkQBWAEoAOQAzADMASAA5ADYAMABXAEkARABZAEsAtQA6ADYASAA7ACwAugA9ADQALQAxACsANwAzAEUAMgBBADEAQwBEADMAPgA1ADMApgC9ADsANwAyAD4ARgAxADsAXgAxAD4AMAA1AEoAOAA3ADoAMABOAGUAhQBCAD8AQAAwAG8AOQAvADoANQAzAGcAMgArAD8APgA+AC4ANgA0ADsATgBWAFsATwBEADEAaABOADUAPAAzADkANAA2AGIANgAzADQALAAxAD8AKwAzAFgAYQAoAC4AqgBOADoANAA0AC8ALwA0ADEAPgAtAD4AVgAwADQAVwBxAD0ALACqAT4ATABUADUA",
          "dtype": "i2"
         },
         "xaxis": "x",
         "yaxis": "y"
        },
        {
         "bingroup": "x",
         "hovertemplate": "set=Validation<br>length=%{x}<br>count=%{y}<extra></extra>",
         "legendgroup": "Validation",
         "marker": {
          "color": "#EF553B",
          "opacity": 0.5,
          "pattern": {
           "shape": ""
          }
         },
         "name": "Validation",
         "nbinsx": 50,
         "opacity": 0.8,
         "orientation": "v",
         "showlegend": true,
         "type": "histogram",
         "x": {
          "bdata": "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",
          "dtype": "i2"
         },
         "xaxis": "x",
         "yaxis": "y"
        }
       ],
       "layout": {
        "barmode": "overlay",
        "legend": {
         "title": {
          "text": "set"
         },
         "tracegroupgap": 0
        },
        "template": {
         "data": {
          "bar": [
           {
            "error_x": {
             "color": "#2a3f5f"
            },
            "error_y": {
             "color": "#2a3f5f"
            },
            "marker": {
             "line": {
              "color": "#E5ECF6",
              "width": 0.5
             },
             "pattern": {
              "fillmode": "overlay",
              "size": 10,
              "solidity": 0.2
             }
            },
            "type": "bar"
           }
          ],
          "barpolar": [
           {
            "marker": {
             "line": {
              "color": "#E5ECF6",
              "width": 0.5
             },
             "pattern": {
              "fillmode": "overlay",
              "size": 10,
              "solidity": 0.2
             }
            },
            "type": "barpolar"
           }
          ],
          "carpet": [
           {
            "aaxis": {
             "endlinecolor": "#2a3f5f",
             "gridcolor": "white",
             "linecolor": "white",
             "minorgridcolor": "white",
             "startlinecolor": "#2a3f5f"
            },
            "baxis": {
             "endlinecolor": "#2a3f5f",
             "gridcolor": "white",
             "linecolor": "white",
             "minorgridcolor": "white",
             "startlinecolor": "#2a3f5f"
            },
            "type": "carpet"
           }
          ],
          "choropleth": [
           {
            "colorbar": {
             "outlinewidth": 0,
             "ticks": ""
            },
            "type": "choropleth"
           }
          ],
          "contour": [
           {
            "colorbar": {
             "outlinewidth": 0,
             "ticks": ""
            },
            "colorscale": [
             [
              0,
              "#0d0887"
             ],
             [
              0.1111111111111111,
              "#46039f"
             ],
             [
              0.2222222222222222,
              "#7201a8"
             ],
             [
              0.3333333333333333,
              "#9c179e"
             ],
             [
              0.4444444444444444,
              "#bd3786"
             ],
             [
              0.5555555555555556,
              "#d8576b"
             ],
             [
              0.6666666666666666,
              "#ed7953"
             ],
             [
              0.7777777777777778,
              "#fb9f3a"
             ],
             [
              0.8888888888888888,
              "#fdca26"
             ],
             [
              1,
              "#f0f921"
             ]
            ],
            "type": "contour"
           }
          ],
          "contourcarpet": [
           {
            "colorbar": {
             "outlinewidth": 0,
             "ticks": ""
            },
            "type": "contourcarpet"
           }
          ],
          "heatmap": [
           {
            "colorbar": {
             "outlinewidth": 0,
             "ticks": ""
            },
            "colorscale": [
             [
              0,
              "#0d0887"
             ],
             [
              0.1111111111111111,
              "#46039f"
             ],
             [
              0.2222222222222222,
              "#7201a8"
             ],
             [
              0.3333333333333333,
              "#9c179e"
             ],
             [
              0.4444444444444444,
              "#bd3786"
             ],
             [
              0.5555555555555556,
              "#d8576b"
             ],
             [
              0.6666666666666666,
              "#ed7953"
             ],
             [
              0.7777777777777778,
              "#fb9f3a"
             ],
             [
              0.8888888888888888,
              "#fdca26"
             ],
             [
              1,
              "#f0f921"
             ]
            ],
            "type": "heatmap"
           }
          ],
          "histogram": [
           {
            "marker": {
             "pattern": {
              "fillmode": "overlay",
              "size": 10,
              "solidity": 0.2
             }
            },
            "type": "histogram"
           }
          ],
          "histogram2d": [
           {
            "colorbar": {
             "outlinewidth": 0,
             "ticks": ""
            },
            "colorscale": [
             [
              0,
              "#0d0887"
             ],
             [
              0.1111111111111111,
              "#46039f"
             ],
             [
              0.2222222222222222,
              "#7201a8"
             ],
             [
              0.3333333333333333,
              "#9c179e"
             ],
             [
              0.4444444444444444,
              "#bd3786"
             ],
             [
              0.5555555555555556,
              "#d8576b"
             ],
             [
              0.6666666666666666,
              "#ed7953"
             ],
             [
              0.7777777777777778,
              "#fb9f3a"
             ],
             [
              0.8888888888888888,
              "#fdca26"
             ],
             [
              1,
              "#f0f921"
             ]
            ],
            "type": "histogram2d"
           }
          ],
          "histogram2dcontour": [
           {
            "colorbar": {
             "outlinewidth": 0,
             "ticks": ""
            },
            "colorscale": [
             [
              0,
              "#0d0887"
             ],
             [
              0.1111111111111111,
              "#46039f"
             ],
             [
              0.2222222222222222,
              "#7201a8"
             ],
             [
              0.3333333333333333,
              "#9c179e"
             ],
             [
              0.4444444444444444,
              "#bd3786"
             ],
             [
              0.5555555555555556,
              "#d8576b"
             ],
             [
              0.6666666666666666,
              "#ed7953"
             ],
             [
              0.7777777777777778,
              "#fb9f3a"
             ],
             [
              0.8888888888888888,
              "#fdca26"
             ],
             [
              1,
              "#f0f921"
             ]
            ],
            "type": "histogram2dcontour"
           }
          ],
          "mesh3d": [
           {
            "colorbar": {
             "outlinewidth": 0,
             "ticks": ""
            },
            "type": "mesh3d"
           }
          ],
          "parcoords": [
           {
            "line": {
             "colorbar": {
              "outlinewidth": 0,
              "ticks": ""
             }
            },
            "type": "parcoords"
           }
          ],
          "pie": [
           {
            "automargin": true,
            "type": "pie"
           }
          ],
          "scatter": [
           {
            "fillpattern": {
             "fillmode": "overlay",
             "size": 10,
             "solidity": 0.2
            },
            "type": "scatter"
           }
          ],
          "scatter3d": [
           {
            "line": {
             "colorbar": {
              "outlinewidth": 0,
              "ticks": ""
             }
            },
            "marker": {
             "colorbar": {
              "outlinewidth": 0,
              "ticks": ""
             }
            },
            "type": "scatter3d"
           }
          ],
          "scattercarpet": [
           {
            "marker": {
             "colorbar": {
              "outlinewidth": 0,
              "ticks": ""
             }
            },
            "type": "scattercarpet"
           }
          ],
          "scattergeo": [
           {
            "marker": {
             "colorbar": {
              "outlinewidth": 0,
              "ticks": ""
             }
            },
            "type": "scattergeo"
           }
          ],
          "scattergl": [
           {
            "marker": {
             "colorbar": {
              "outlinewidth": 0,
              "ticks": ""
             }
            },
            "type": "scattergl"
           }
          ],
          "scattermap": [
           {
            "marker": {
             "colorbar": {
              "outlinewidth": 0,
              "ticks": ""
             }
            },
            "type": "scattermap"
           }
          ],
          "scattermapbox": [
           {
            "marker": {
             "colorbar": {
              "outlinewidth": 0,
              "ticks": ""
             }
            },
            "type": "scattermapbox"
           }
          ],
          "scatterpolar": [
           {
            "marker": {
             "colorbar": {
              "outlinewidth": 0,
              "ticks": ""
             }
            },
            "type": "scatterpolar"
           }
          ],
          "scatterpolargl": [
           {
            "marker": {
             "colorbar": {
              "outlinewidth": 0,
              "ticks": ""
             }
            },
            "type": "scatterpolargl"
           }
          ],
          "scatterternary": [
           {
            "marker": {
             "colorbar": {
              "outlinewidth": 0,
              "ticks": ""
             }
            },
            "type": "scatterternary"
           }
          ],
          "surface": [
           {
            "colorbar": {
             "outlinewidth": 0,
             "ticks": ""
            },
            "colorscale": [
             [
              0,
              "#0d0887"
             ],
             [
              0.1111111111111111,
              "#46039f"
             ],
             [
              0.2222222222222222,
              "#7201a8"
             ],
             [
              0.3333333333333333,
              "#9c179e"
             ],
             [
              0.4444444444444444,
              "#bd3786"
             ],
             [
              0.5555555555555556,
              "#d8576b"
             ],
             [
              0.6666666666666666,
              "#ed7953"
             ],
             [
              0.7777777777777778,
              "#fb9f3a"
             ],
             [
              0.8888888888888888,
              "#fdca26"
             ],
             [
              1,
              "#f0f921"
             ]
            ],
            "type": "surface"
           }
          ],
          "table": [
           {
            "cells": {
             "fill": {
              "color": "#EBF0F8"
             },
             "line": {
              "color": "white"
             }
            },
            "header": {
             "fill": {
              "color": "#C8D4E3"
             },
             "line": {
              "color": "white"
             }
            },
            "type": "table"
           }
          ]
         },
         "layout": {
          "annotationdefaults": {
           "arrowcolor": "#2a3f5f",
           "arrowhead": 0,
           "arrowwidth": 1
          },
          "autotypenumbers": "strict",
          "coloraxis": {
           "colorbar": {
            "outlinewidth": 0,
            "ticks": ""
           }
          },
          "colorscale": {
           "diverging": [
            [
             0,
             "#8e0152"
            ],
            [
             0.1,
             "#c51b7d"
            ],
            [
             0.2,
             "#de77ae"
            ],
            [
             0.3,
             "#f1b6da"
            ],
            [
             0.4,
             "#fde0ef"
            ],
            [
             0.5,
             "#f7f7f7"
            ],
            [
             0.6,
             "#e6f5d0"
            ],
            [
             0.7,
             "#b8e186"
            ],
            [
             0.8,
             "#7fbc41"
            ],
            [
             0.9,
             "#4d9221"
            ],
            [
             1,
             "#276419"
            ]
           ],
           "sequential": [
            [
             0,
             "#0d0887"
            ],
            [
             0.1111111111111111,
             "#46039f"
            ],
            [
             0.2222222222222222,
             "#7201a8"
            ],
            [
             0.3333333333333333,
             "#9c179e"
            ],
            [
             0.4444444444444444,
             "#bd3786"
            ],
            [
             0.5555555555555556,
             "#d8576b"
            ],
            [
             0.6666666666666666,
             "#ed7953"
            ],
            [
             0.7777777777777778,
             "#fb9f3a"
            ],
            [
             0.8888888888888888,
             "#fdca26"
            ],
            [
             1,
             "#f0f921"
            ]
           ],
           "sequentialminus": [
            [
             0,
             "#0d0887"
            ],
            [
             0.1111111111111111,
             "#46039f"
            ],
            [
             0.2222222222222222,
             "#7201a8"
            ],
            [
             0.3333333333333333,
             "#9c179e"
            ],
            [
             0.4444444444444444,
             "#bd3786"
            ],
            [
             0.5555555555555556,
             "#d8576b"
            ],
            [
             0.6666666666666666,
             "#ed7953"
            ],
            [
             0.7777777777777778,
             "#fb9f3a"
            ],
            [
             0.8888888888888888,
             "#fdca26"
            ],
            [
             1,
             "#f0f921"
            ]
           ]
          },
          "colorway": [
           "#636efa",
           "#EF553B",
           "#00cc96",
           "#ab63fa",
           "#FFA15A",
           "#19d3f3",
           "#FF6692",
           "#B6E880",
           "#FF97FF",
           "#FECB52"
          ],
          "font": {
           "color": "#2a3f5f"
          },
          "geo": {
           "bgcolor": "white",
           "lakecolor": "white",
           "landcolor": "#E5ECF6",
           "showlakes": true,
           "showland": true,
           "subunitcolor": "white"
          },
          "hoverlabel": {
           "align": "left"
          },
          "hovermode": "closest",
          "mapbox": {
           "style": "light"
          },
          "paper_bgcolor": "white",
          "plot_bgcolor": "#E5ECF6",
          "polar": {
           "angularaxis": {
            "gridcolor": "white",
            "linecolor": "white",
            "ticks": ""
           },
           "bgcolor": "#E5ECF6",
           "radialaxis": {
            "gridcolor": "white",
            "linecolor": "white",
            "ticks": ""
           }
          },
          "scene": {
           "xaxis": {
            "backgroundcolor": "#E5ECF6",
            "gridcolor": "white",
            "gridwidth": 2,
            "linecolor": "white",
            "showbackground": true,
            "ticks": "",
            "zerolinecolor": "white"
           },
           "yaxis": {
            "backgroundcolor": "#E5ECF6",
            "gridcolor": "white",
            "gridwidth": 2,
            "linecolor": "white",
            "showbackground": true,
            "ticks": "",
            "zerolinecolor": "white"
           },
           "zaxis": {
            "backgroundcolor": "#E5ECF6",
            "gridcolor": "white",
            "gridwidth": 2,
            "linecolor": "white",
            "showbackground": true,
            "ticks": "",
            "zerolinecolor": "white"
           }
          },
          "shapedefaults": {
           "line": {
            "color": "#2a3f5f"
           }
          },
          "ternary": {
           "aaxis": {
            "gridcolor": "white",
            "linecolor": "white",
            "ticks": ""
           },
           "baxis": {
            "gridcolor": "white",
            "linecolor": "white",
            "ticks": ""
           },
           "bgcolor": "#E5ECF6",
           "caxis": {
            "gridcolor": "white",
            "linecolor": "white",
            "ticks": ""
           }
          },
          "title": {
           "x": 0.05
          },
          "xaxis": {
           "automargin": true,
           "gridcolor": "white",
           "linecolor": "white",
           "ticks": "",
           "title": {
            "standoff": 15
           },
           "zerolinecolor": "white",
           "zerolinewidth": 2
          },
          "yaxis": {
           "automargin": true,
           "gridcolor": "white",
           "linecolor": "white",
           "ticks": "",
           "title": {
            "standoff": 15
           },
           "zerolinecolor": "white",
           "zerolinewidth": 2
          }
         }
        },
        "title": {
         "text": "Sequence Length Distribution: Train vs Validation"
        },
        "xaxis": {
         "anchor": "y",
         "domain": [
          0,
          1
         ],
         "title": {
          "text": "length"
         }
        },
        "yaxis": {
         "anchor": "x",
         "domain": [
          0,
          1
         ],
         "title": {
          "text": "count"
         }
        }
       }
      }
     },
     "metadata": {},
     "output_type": "display_data"
    }
   ],
   "source": [
    "def get_set_sequences_lengths(set:DF, name:str) -> DF:\n",
    "    return (\n",
    "        set\n",
    "        .groupby(\"sequence_id\", observed=True)\n",
    "        .size()\n",
    "        .reset_index(name=\"length\")\n",
    "        .assign(set=name)\n",
    "    )\n",
    "\n",
    "full_se_lengths = pd.concat((\n",
    "    get_set_sequences_lengths(folds[2][0], \"Train\"),\n",
    "    get_set_sequences_lengths(folds[2][1], \"Validation\"),\n",
    "))\n",
    "\n",
    "fig = px.histogram(\n",
    "    full_se_lengths,\n",
    "    x=\"length\",\n",
    "    color=\"set\",\n",
    "    barmode=\"overlay\",  # or 'group' if you want side-by-side bars\n",
    "    nbins=50,           # adjust bin size if needed\n",
    "    title=\"Sequence Length Distribution: Train vs Validation\"\n",
    ")\n",
    "\n",
    "fig.update_traces(opacity=0.8)  # better visibility with overlay\n",
    "fig.show()\n"
   ]
  },
  {
   "cell_type": "code",
   "execution_count": 25,
   "id": "c1d46756",
   "metadata": {},
   "outputs": [
    {
     "name": "stdout",
     "output_type": "stream",
     "text": [
      "train normed sequence len: 126\n",
      "validation normed sequence len: 130\n",
      "\n",
      "train normed sequence len: 130\n",
      "validation normed sequence len: 116\n",
      "\n",
      "train normed sequence len: 124\n",
      "validation normed sequence len: 136\n",
      "\n",
      "train normed sequence len: 125\n",
      "validation normed sequence len: 130\n",
      "\n",
      "train normed sequence len: 129\n",
      "validation normed sequence len: 120\n",
      "\n"
     ]
    }
   ],
   "source": [
    "for train, val in folds:\n",
    "    print(\"train normed sequence len:\", int(train.groupby(\"sequence_id\", observed=True).size().quantile(SEQUENCE_NORMED_LEN_QUANTILE)))\n",
    "    print(\"validation normed sequence len:\", int(val.groupby(\"sequence_id\", observed=True).size().quantile(SEQUENCE_NORMED_LEN_QUANTILE)))\n",
    "    print()"
   ]
  },
  {
   "cell_type": "markdown",
   "id": "c89d5f21",
   "metadata": {},
   "source": [
    "#### Sequence length norm implementation"
   ]
  },
  {
   "cell_type": "code",
   "execution_count": 26,
   "id": "5d128055",
   "metadata": {},
   "outputs": [
    {
     "data": {
      "application/vnd.jupyter.widget-view+json": {
       "model_id": "367de60d7da341ceb9beea7abfaed21e",
       "version_major": 2,
       "version_minor": 0
      },
      "text/plain": [
       "  0%|          | 0/6519 [00:00<?, ?it/s]"
      ]
     },
     "metadata": {},
     "output_type": "display_data"
    },
    {
     "data": {
      "application/vnd.jupyter.widget-view+json": {
       "model_id": "e23f4e0d3346421f8a4451b1ce0071d8",
       "version_major": 2,
       "version_minor": 0
      },
      "text/plain": [
       "  0%|          | 0/1632 [00:00<?, ?it/s]"
      ]
     },
     "metadata": {},
     "output_type": "display_data"
    },
    {
     "data": {
      "application/vnd.jupyter.widget-view+json": {
       "model_id": "2333b4bf25e84401a6de50fc5bff51f0",
       "version_major": 2,
       "version_minor": 0
      },
      "text/plain": [
       "  0%|          | 0/6475 [00:00<?, ?it/s]"
      ]
     },
     "metadata": {},
     "output_type": "display_data"
    },
    {
     "data": {
      "application/vnd.jupyter.widget-view+json": {
       "model_id": "beea0779a42e4fad8c3dee49d5a5c3d3",
       "version_major": 2,
       "version_minor": 0
      },
      "text/plain": [
       "  0%|          | 0/1676 [00:00<?, ?it/s]"
      ]
     },
     "metadata": {},
     "output_type": "display_data"
    },
    {
     "data": {
      "application/vnd.jupyter.widget-view+json": {
       "model_id": "35e9a39dfd2b49668f6b345c1650d4a5",
       "version_major": 2,
       "version_minor": 0
      },
      "text/plain": [
       "  0%|          | 0/6519 [00:00<?, ?it/s]"
      ]
     },
     "metadata": {},
     "output_type": "display_data"
    },
    {
     "data": {
      "application/vnd.jupyter.widget-view+json": {
       "model_id": "e2f7e49390354f7d833e8624abd915a4",
       "version_major": 2,
       "version_minor": 0
      },
      "text/plain": [
       "  0%|          | 0/1632 [00:00<?, ?it/s]"
      ]
     },
     "metadata": {},
     "output_type": "display_data"
    },
    {
     "data": {
      "application/vnd.jupyter.widget-view+json": {
       "model_id": "5c521d4603634a14bc4ec259ccf79e1a",
       "version_major": 2,
       "version_minor": 0
      },
      "text/plain": [
       "  0%|          | 0/6567 [00:00<?, ?it/s]"
      ]
     },
     "metadata": {},
     "output_type": "display_data"
    },
    {
     "data": {
      "application/vnd.jupyter.widget-view+json": {
       "model_id": "8410804b581c4c96926e8440a45080d9",
       "version_major": 2,
       "version_minor": 0
      },
      "text/plain": [
       "  0%|          | 0/1584 [00:00<?, ?it/s]"
      ]
     },
     "metadata": {},
     "output_type": "display_data"
    },
    {
     "data": {
      "application/vnd.jupyter.widget-view+json": {
       "model_id": "520d1bec642f4830a2bc5467c8188c89",
       "version_major": 2,
       "version_minor": 0
      },
      "text/plain": [
       "  0%|          | 0/6524 [00:00<?, ?it/s]"
      ]
     },
     "metadata": {},
     "output_type": "display_data"
    },
    {
     "data": {
      "application/vnd.jupyter.widget-view+json": {
       "model_id": "09f10e4e7aa241f8b7810f8a118ffa96",
       "version_major": 2,
       "version_minor": 0
      },
      "text/plain": [
       "  0%|          | 0/1627 [00:00<?, ?it/s]"
      ]
     },
     "metadata": {},
     "output_type": "display_data"
    }
   ],
   "source": [
    "def length_normed_sequence_feat_arr(sequence: DF, normed_sequence_len: int) -> ndarray:\n",
    "    features = (\n",
    "        sequence\n",
    "        .loc[:, get_feature_cols(df)]\n",
    "        .values\n",
    "    )\n",
    "    len_diff = abs(normed_sequence_len - len(features))\n",
    "    if len(features) < normed_sequence_len:\n",
    "        padded_features = np.pad(\n",
    "            features,\n",
    "            ((len_diff // 2 + len_diff % 2, len_diff // 2), (0, 0)),\n",
    "        )\n",
    "        return padded_features\n",
    "    elif len(features) > normed_sequence_len:\n",
    "        return features[len_diff // 2:-len_diff // 2]\n",
    "    else:\n",
    "        return features\n",
    "\n",
    "def df_to_ndarrays(df:DF, normed_sequence_len:int) -> tuple[np.ndarray, np.ndarray]:\n",
    "    sequence_it = df.groupby(\"sequence_id\", observed=True, as_index=False)\n",
    "    x = np.empty(\n",
    "        shape=(len(sequence_it), normed_sequence_len, len(get_feature_cols(df))),\n",
    "        dtype=\"float32\"\n",
    "    )\n",
    "    y = np.empty(\n",
    "        shape=(len(sequence_it), len(TARGET_NAMES)),\n",
    "        dtype=\"float32\"\n",
    "    )\n",
    "    for sequence_idx, (_, sequence) in tqdm(enumerate(sequence_it), total=len(sequence_it)):\n",
    "        normed_seq_feat_arr = length_normed_sequence_feat_arr(sequence, normed_sequence_len)\n",
    "        x[sequence_idx] = normed_seq_feat_arr\n",
    "        # Take the first value as they are(or at least should be) all the same in a single sequence\n",
    "        y[sequence_idx] = sequence[TARGET_NAMES].iloc[0].values\n",
    "\n",
    "    return x, y\n",
    "\n",
    "def get_normed_seq_len(dataset:DF) -> int:\n",
    "    return int(\n",
    "        dataset\n",
    "        .groupby(\"sequence_id\", observed=True)\n",
    "        .size()\n",
    "        .quantile(SEQUENCE_NORMED_LEN_QUANTILE)\n",
    "    )\n",
    "\n",
    "def fold_dfs_to_ndarrays(train:DF, validation:DF) -> tuple[ndarray, ndarray, ndarray, ndarray]:\n",
    "    \"\"\"\n",
    "    Returns:\n",
    "        (train X, train Y, validation X, validation Y)\n",
    "    \"\"\"\n",
    "    normed_sequence_len = get_normed_seq_len(train)\n",
    "    return (\n",
    "        *df_to_ndarrays(train, normed_sequence_len),\n",
    "        *df_to_ndarrays(validation, normed_sequence_len),\n",
    "    )\n",
    "\n",
    "folds_arrs = list(starmap(fold_dfs_to_ndarrays, folds))"
   ]
  },
  {
   "cell_type": "code",
   "execution_count": 27,
   "id": "80490c33",
   "metadata": {},
   "outputs": [
    {
     "data": {
      "application/vnd.jupyter.widget-view+json": {
       "model_id": "b9229bab1caa4a7988a2a4fc6e04e135",
       "version_major": 2,
       "version_minor": 0
      },
      "text/plain": [
       "  0%|          | 0/8151 [00:00<?, ?it/s]"
      ]
     },
     "metadata": {},
     "output_type": "display_data"
    }
   ],
   "source": [
    "full_dataset_sequence_length_norm = get_normed_seq_len(df)\n",
    "full_x, full_y = df_to_ndarrays(df, full_dataset_sequence_length_norm)"
   ]
  },
  {
   "cell_type": "markdown",
   "id": "b99f60c2",
   "metadata": {},
   "source": [
    "## Create dataset"
   ]
  },
  {
   "cell_type": "code",
   "execution_count": 28,
   "id": "a46b79b2",
   "metadata": {},
   "outputs": [],
   "source": [
    "# Clean dataset directory if it already exists\n",
    "! rm -rf preprocessed_dataset\n",
    "# Create dataset direcory\n",
    "! mkdir preprocessed_dataset\n",
    "# Save folds\n",
    "for fold_i, (train_x, train_y, val_x, val_y) in enumerate(folds_arrs):\n",
    "    fold_dir_path = join(\"preprocessed_dataset\", f\"fold_{fold_i}\")\n",
    "    os.makedirs(fold_dir_path)\n",
    "    # save features (X)\n",
    "    np.save(join(fold_dir_path, \"train_X.npy\"), train_x, allow_pickle=False)\n",
    "    np.save(join(fold_dir_path, \"validation_X.npy\"), val_x, allow_pickle=False)\n",
    "    # Save targets (Y)\n",
    "    np.save(join(fold_dir_path, \"train_Y.npy\"), train_y, allow_pickle=False)\n",
    "    np.save(join(fold_dir_path, \"validation_Y.npy\"), val_y, allow_pickle=False)\n",
    "# Save full dataset\n",
    "full_dataset_dir_path = \"preprocessed_dataset/full_dataset\"\n",
    "os.makedirs(full_dataset_dir_path)\n",
    "np.save(join(full_dataset_dir_path, \"X.npy\"), full_x, allow_pickle=False)\n",
    "np.save(join(full_dataset_dir_path, \"Y.npy\"), full_y, allow_pickle=False)\n",
    "# Save dataset meta data\n",
    "# full_dataset_meta_data[\"target_names\"] = TARGET_NAMES\n",
    "full_dataset_meta_data[\"pad_seq_len\"] = full_dataset_sequence_length_norm\n",
    "full_dataset_meta_data[\"feature_cols\"] = get_feature_cols(df)\n",
    "\n",
    "with open(\"preprocessed_dataset/full_dataset_meta_data.json\", \"w\") as fp:\n",
    "    json.dump(full_dataset_meta_data, fp, indent=4)"
   ]
  },
  {
   "cell_type": "code",
   "execution_count": 29,
   "id": "0b77ea50",
   "metadata": {},
   "outputs": [
    {
     "data": {
      "text/html": [
       "<div>\n",
       "<style scoped>\n",
       "    .dataframe tbody tr th:only-of-type {\n",
       "        vertical-align: middle;\n",
       "    }\n",
       "\n",
       "    .dataframe tbody tr th {\n",
       "        vertical-align: top;\n",
       "    }\n",
       "\n",
       "    .dataframe thead th {\n",
       "        text-align: right;\n",
       "    }\n",
       "</style>\n",
       "<table border=\"1\" class=\"dataframe\">\n",
       "  <thead>\n",
       "    <tr style=\"text-align: right;\">\n",
       "      <th></th>\n",
       "      <th>acc_x</th>\n",
       "      <th>acc_x_diff</th>\n",
       "      <th>acc_y</th>\n",
       "      <th>acc_y_diff</th>\n",
       "      <th>acc_z</th>\n",
       "      <th>acc_z_diff</th>\n",
       "      <th>angular_vel_x</th>\n",
       "      <th>angular_vel_x_diff</th>\n",
       "      <th>angular_vel_y</th>\n",
       "      <th>angular_vel_y_diff</th>\n",
       "      <th>...</th>\n",
       "      <th>tof_1</th>\n",
       "      <th>tof_1_diff</th>\n",
       "      <th>tof_2</th>\n",
       "      <th>tof_2_diff</th>\n",
       "      <th>tof_3</th>\n",
       "      <th>tof_3_diff</th>\n",
       "      <th>tof_4</th>\n",
       "      <th>tof_4_diff</th>\n",
       "      <th>tof_5</th>\n",
       "      <th>tof_5_diff</th>\n",
       "    </tr>\n",
       "  </thead>\n",
       "  <tbody>\n",
       "    <tr>\n",
       "      <th>0</th>\n",
       "      <td>0.872408</td>\n",
       "      <td>0.015724</td>\n",
       "      <td>0.884130</td>\n",
       "      <td>-0.027387</td>\n",
       "      <td>0.625816</td>\n",
       "      <td>0.036749</td>\n",
       "      <td>-0.021278</td>\n",
       "      <td>-0.011243</td>\n",
       "      <td>-0.010010</td>\n",
       "      <td>-0.007949</td>\n",
       "      <td>...</td>\n",
       "      <td>0.339571</td>\n",
       "      <td>0.022522</td>\n",
       "      <td>0.148727</td>\n",
       "      <td>0.026558</td>\n",
       "      <td>-0.454938</td>\n",
       "      <td>0.034665</td>\n",
       "      <td>-0.016778</td>\n",
       "      <td>0.018485</td>\n",
       "      <td>0.404678</td>\n",
       "      <td>0.004162</td>\n",
       "    </tr>\n",
       "    <tr>\n",
       "      <th>1</th>\n",
       "      <td>0.918353</td>\n",
       "      <td>0.139234</td>\n",
       "      <td>0.884130</td>\n",
       "      <td>-0.027387</td>\n",
       "      <td>0.588012</td>\n",
       "      <td>-0.075917</td>\n",
       "      <td>-0.075474</td>\n",
       "      <td>-0.067267</td>\n",
       "      <td>-0.238310</td>\n",
       "      <td>-0.213256</td>\n",
       "      <td>...</td>\n",
       "      <td>0.349948</td>\n",
       "      <td>0.089104</td>\n",
       "      <td>0.199531</td>\n",
       "      <td>0.363426</td>\n",
       "      <td>-0.337148</td>\n",
       "      <td>0.824043</td>\n",
       "      <td>0.002596</td>\n",
       "      <td>0.140912</td>\n",
       "      <td>0.433771</td>\n",
       "      <td>0.218816</td>\n",
       "    </tr>\n",
       "    <tr>\n",
       "      <th>2</th>\n",
       "      <td>0.706192</td>\n",
       "      <td>-0.554598</td>\n",
       "      <td>0.723320</td>\n",
       "      <td>-0.549341</td>\n",
       "      <td>0.964766</td>\n",
       "      <td>1.159588</td>\n",
       "      <td>-0.554449</td>\n",
       "      <td>-0.506371</td>\n",
       "      <td>-1.075163</td>\n",
       "      <td>-0.760519</td>\n",
       "      <td>...</td>\n",
       "      <td>0.398864</td>\n",
       "      <td>0.336407</td>\n",
       "      <td>0.371769</td>\n",
       "      <td>1.168622</td>\n",
       "      <td>0.022423</td>\n",
       "      <td>2.444347</td>\n",
       "      <td>0.026308</td>\n",
       "      <td>0.168322</td>\n",
       "      <td>0.490583</td>\n",
       "      <td>0.423344</td>\n",
       "    </tr>\n",
       "    <tr>\n",
       "      <th>3</th>\n",
       "      <td>0.858218</td>\n",
       "      <td>0.424395</td>\n",
       "      <td>0.347835</td>\n",
       "      <td>-1.246124</td>\n",
       "      <td>1.134561</td>\n",
       "      <td>0.542790</td>\n",
       "      <td>-0.961076</td>\n",
       "      <td>-0.431583</td>\n",
       "      <td>-0.665305</td>\n",
       "      <td>0.360630</td>\n",
       "      <td>...</td>\n",
       "      <td>0.621508</td>\n",
       "      <td>1.451174</td>\n",
       "      <td>0.644067</td>\n",
       "      <td>1.832088</td>\n",
       "      <td>0.543179</td>\n",
       "      <td>3.524549</td>\n",
       "      <td>0.459197</td>\n",
       "      <td>2.753924</td>\n",
       "      <td>0.532300</td>\n",
       "      <td>0.311967</td>\n",
       "    </tr>\n",
       "    <tr>\n",
       "      <th>4</th>\n",
       "      <td>0.679165</td>\n",
       "      <td>-0.465599</td>\n",
       "      <td>-0.302433</td>\n",
       "      <td>-2.138006</td>\n",
       "      <td>1.655481</td>\n",
       "      <td>1.589246</td>\n",
       "      <td>-0.618189</td>\n",
       "      <td>0.343207</td>\n",
       "      <td>-1.052999</td>\n",
       "      <td>-0.356597</td>\n",
       "      <td>...</td>\n",
       "      <td>1.073910</td>\n",
       "      <td>2.925483</td>\n",
       "      <td>0.789974</td>\n",
       "      <td>0.994026</td>\n",
       "      <td>0.870276</td>\n",
       "      <td>2.226724</td>\n",
       "      <td>0.731018</td>\n",
       "      <td>1.736129</td>\n",
       "      <td>0.684347</td>\n",
       "      <td>1.126032</td>\n",
       "    </tr>\n",
       "    <tr>\n",
       "      <th>...</th>\n",
       "      <td>...</td>\n",
       "      <td>...</td>\n",
       "      <td>...</td>\n",
       "      <td>...</td>\n",
       "      <td>...</td>\n",
       "      <td>...</td>\n",
       "      <td>...</td>\n",
       "      <td>...</td>\n",
       "      <td>...</td>\n",
       "      <td>...</td>\n",
       "      <td>...</td>\n",
       "      <td>...</td>\n",
       "      <td>...</td>\n",
       "      <td>...</td>\n",
       "      <td>...</td>\n",
       "      <td>...</td>\n",
       "      <td>...</td>\n",
       "      <td>...</td>\n",
       "      <td>...</td>\n",
       "      <td>...</td>\n",
       "      <td>...</td>\n",
       "    </tr>\n",
       "    <tr>\n",
       "      <th>574940</th>\n",
       "      <td>0.322408</td>\n",
       "      <td>-0.020602</td>\n",
       "      <td>-0.444509</td>\n",
       "      <td>0.172780</td>\n",
       "      <td>-1.309212</td>\n",
       "      <td>0.409119</td>\n",
       "      <td>-0.231978</td>\n",
       "      <td>-0.291376</td>\n",
       "      <td>0.171270</td>\n",
       "      <td>0.428464</td>\n",
       "      <td>...</td>\n",
       "      <td>-1.001627</td>\n",
       "      <td>-0.004111</td>\n",
       "      <td>-0.829872</td>\n",
       "      <td>0.186776</td>\n",
       "      <td>0.541703</td>\n",
       "      <td>0.155347</td>\n",
       "      <td>-0.929112</td>\n",
       "      <td>0.404041</td>\n",
       "      <td>-1.044439</td>\n",
       "      <td>0.334243</td>\n",
       "    </tr>\n",
       "    <tr>\n",
       "      <th>574941</th>\n",
       "      <td>0.369030</td>\n",
       "      <td>0.141050</td>\n",
       "      <td>-0.490566</td>\n",
       "      <td>-0.176879</td>\n",
       "      <td>-1.434796</td>\n",
       "      <td>-0.337531</td>\n",
       "      <td>-0.119604</td>\n",
       "      <td>0.104920</td>\n",
       "      <td>-0.136954</td>\n",
       "      <td>-0.285131</td>\n",
       "      <td>...</td>\n",
       "      <td>-0.969906</td>\n",
       "      <td>0.226072</td>\n",
       "      <td>-0.851557</td>\n",
       "      <td>-0.117227</td>\n",
       "      <td>0.533437</td>\n",
       "      <td>-0.020730</td>\n",
       "      <td>-0.996778</td>\n",
       "      <td>-0.409099</td>\n",
       "      <td>-1.014798</td>\n",
       "      <td>0.222866</td>\n",
       "    </tr>\n",
       "    <tr>\n",
       "      <th>574942</th>\n",
       "      <td>0.249436</td>\n",
       "      <td>-0.305763</td>\n",
       "      <td>-0.314143</td>\n",
       "      <td>0.545242</td>\n",
       "      <td>-1.138775</td>\n",
       "      <td>0.918980</td>\n",
       "      <td>-0.010458</td>\n",
       "      <td>0.101584</td>\n",
       "      <td>-0.038358</td>\n",
       "      <td>0.080717</td>\n",
       "      <td>...</td>\n",
       "      <td>-1.037499</td>\n",
       "      <td>-0.411210</td>\n",
       "      <td>-0.925905</td>\n",
       "      <td>-0.466419</td>\n",
       "      <td>0.399410</td>\n",
       "      <td>-0.863526</td>\n",
       "      <td>-1.002272</td>\n",
       "      <td>-0.016234</td>\n",
       "      <td>-0.963200</td>\n",
       "      <td>0.384869</td>\n",
       "    </tr>\n",
       "    <tr>\n",
       "      <th>574943</th>\n",
       "      <td>0.402138</td>\n",
       "      <td>0.426211</td>\n",
       "      <td>-0.429677</td>\n",
       "      <td>-0.402383</td>\n",
       "      <td>-1.414933</td>\n",
       "      <td>-0.786284</td>\n",
       "      <td>-0.118555</td>\n",
       "      <td>-0.122986</td>\n",
       "      <td>-0.138399</td>\n",
       "      <td>-0.097915</td>\n",
       "      <td>...</td>\n",
       "      <td>-1.027123</td>\n",
       "      <td>0.089104</td>\n",
       "      <td>-0.894307</td>\n",
       "      <td>0.236073</td>\n",
       "      <td>0.467900</td>\n",
       "      <td>0.493652</td>\n",
       "      <td>-0.900484</td>\n",
       "      <td>0.661688</td>\n",
       "      <td>-1.007662</td>\n",
       "      <td>-0.323895</td>\n",
       "    </tr>\n",
       "    <tr>\n",
       "      <th>574944</th>\n",
       "      <td>0.454841</td>\n",
       "      <td>0.157397</td>\n",
       "      <td>-0.544430</td>\n",
       "      <td>-0.399849</td>\n",
       "      <td>-1.503996</td>\n",
       "      <td>-0.228684</td>\n",
       "      <td>-0.017007</td>\n",
       "      <td>0.093729</td>\n",
       "      <td>0.070146</td>\n",
       "      <td>0.179592</td>\n",
       "      <td>...</td>\n",
       "      <td>-0.994512</td>\n",
       "      <td>0.231779</td>\n",
       "      <td>-0.881296</td>\n",
       "      <td>0.112829</td>\n",
       "      <td>0.531666</td>\n",
       "      <td>0.461997</td>\n",
       "      <td>-0.895279</td>\n",
       "      <td>0.051376</td>\n",
       "      <td>-1.001624</td>\n",
       "      <td>0.048712</td>\n",
       "    </tr>\n",
       "  </tbody>\n",
       "</table>\n",
       "<p>574945 rows × 66 columns</p>\n",
       "</div>"
      ],
      "text/plain": [
       "           acc_x  acc_x_diff     acc_y  acc_y_diff     acc_z  acc_z_diff  \\\n",
       "0       0.872408    0.015724  0.884130   -0.027387  0.625816    0.036749   \n",
       "1       0.918353    0.139234  0.884130   -0.027387  0.588012   -0.075917   \n",
       "2       0.706192   -0.554598  0.723320   -0.549341  0.964766    1.159588   \n",
       "3       0.858218    0.424395  0.347835   -1.246124  1.134561    0.542790   \n",
       "4       0.679165   -0.465599 -0.302433   -2.138006  1.655481    1.589246   \n",
       "...          ...         ...       ...         ...       ...         ...   \n",
       "574940  0.322408   -0.020602 -0.444509    0.172780 -1.309212    0.409119   \n",
       "574941  0.369030    0.141050 -0.490566   -0.176879 -1.434796   -0.337531   \n",
       "574942  0.249436   -0.305763 -0.314143    0.545242 -1.138775    0.918980   \n",
       "574943  0.402138    0.426211 -0.429677   -0.402383 -1.414933   -0.786284   \n",
       "574944  0.454841    0.157397 -0.544430   -0.399849 -1.503996   -0.228684   \n",
       "\n",
       "        angular_vel_x  angular_vel_x_diff  angular_vel_y  angular_vel_y_diff  \\\n",
       "0           -0.021278           -0.011243      -0.010010           -0.007949   \n",
       "1           -0.075474           -0.067267      -0.238310           -0.213256   \n",
       "2           -0.554449           -0.506371      -1.075163           -0.760519   \n",
       "3           -0.961076           -0.431583      -0.665305            0.360630   \n",
       "4           -0.618189            0.343207      -1.052999           -0.356597   \n",
       "...               ...                 ...            ...                 ...   \n",
       "574940      -0.231978           -0.291376       0.171270            0.428464   \n",
       "574941      -0.119604            0.104920      -0.136954           -0.285131   \n",
       "574942      -0.010458            0.101584      -0.038358            0.080717   \n",
       "574943      -0.118555           -0.122986      -0.138399           -0.097915   \n",
       "574944      -0.017007            0.093729       0.070146            0.179592   \n",
       "\n",
       "        ...     tof_1  tof_1_diff     tof_2  tof_2_diff     tof_3  tof_3_diff  \\\n",
       "0       ...  0.339571    0.022522  0.148727    0.026558 -0.454938    0.034665   \n",
       "1       ...  0.349948    0.089104  0.199531    0.363426 -0.337148    0.824043   \n",
       "2       ...  0.398864    0.336407  0.371769    1.168622  0.022423    2.444347   \n",
       "3       ...  0.621508    1.451174  0.644067    1.832088  0.543179    3.524549   \n",
       "4       ...  1.073910    2.925483  0.789974    0.994026  0.870276    2.226724   \n",
       "...     ...       ...         ...       ...         ...       ...         ...   \n",
       "574940  ... -1.001627   -0.004111 -0.829872    0.186776  0.541703    0.155347   \n",
       "574941  ... -0.969906    0.226072 -0.851557   -0.117227  0.533437   -0.020730   \n",
       "574942  ... -1.037499   -0.411210 -0.925905   -0.466419  0.399410   -0.863526   \n",
       "574943  ... -1.027123    0.089104 -0.894307    0.236073  0.467900    0.493652   \n",
       "574944  ... -0.994512    0.231779 -0.881296    0.112829  0.531666    0.461997   \n",
       "\n",
       "           tof_4  tof_4_diff     tof_5  tof_5_diff  \n",
       "0      -0.016778    0.018485  0.404678    0.004162  \n",
       "1       0.002596    0.140912  0.433771    0.218816  \n",
       "2       0.026308    0.168322  0.490583    0.423344  \n",
       "3       0.459197    2.753924  0.532300    0.311967  \n",
       "4       0.731018    1.736129  0.684347    1.126032  \n",
       "...          ...         ...       ...         ...  \n",
       "574940 -0.929112    0.404041 -1.044439    0.334243  \n",
       "574941 -0.996778   -0.409099 -1.014798    0.222866  \n",
       "574942 -1.002272   -0.016234 -0.963200    0.384869  \n",
       "574943 -0.900484    0.661688 -1.007662   -0.323895  \n",
       "574944 -0.895279    0.051376 -1.001624    0.048712  \n",
       "\n",
       "[574945 rows x 66 columns]"
      ]
     },
     "execution_count": 29,
     "metadata": {},
     "output_type": "execute_result"
    }
   ],
   "source": [
    "df[get_feature_cols(df)]"
   ]
  },
  {
   "cell_type": "markdown",
   "id": "b2775c75",
   "metadata": {},
   "source": [
    "## Dataset upload\n",
    "Optionally upload the dataset to kaggle."
   ]
  },
  {
   "cell_type": "code",
   "execution_count": 30,
   "id": "d0b40895",
   "metadata": {},
   "outputs": [
    {
     "name": "stdout",
     "output_type": "stream",
     "text": [
      "Dataset has not been uploaded.\n"
     ]
    }
   ],
   "source": [
    "if input(\"Do you want to upload the  dataset to kaggle?[yes/no]\").lower() == \"yes\":\n",
    "    # Updaload the dataset\n",
    "    dataset_upload(\n",
    "        join(whoami()[\"username\"], \"prepocessed-cmi-2025\"),\n",
    "        \"preprocessed_dataset\",\n",
    "        version_notes=\"Preprocessed Child Mind Institue 2025 competition dataset.\"\n",
    "    )\n",
    "else:\n",
    "    print(\"Dataset has not been uploaded.\")"
   ]
  }
 ],
 "metadata": {
  "kernelspec": {
   "display_name": "Python 3",
   "language": "python",
   "name": "python3"
  },
  "language_info": {
   "codemirror_mode": {
    "name": "ipython",
    "version": 3
   },
   "file_extension": ".py",
   "mimetype": "text/x-python",
   "name": "python",
   "nbconvert_exporter": "python",
   "pygments_lexer": "ipython3",
   "version": "3.11.5"
  }
 },
 "nbformat": 4,
 "nbformat_minor": 5
}
