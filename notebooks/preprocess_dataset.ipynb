{
 "cells": [
  {
   "cell_type": "markdown",
   "id": "7c1fbf88",
   "metadata": {},
   "source": [
    "# Dataset preprocessing\n",
    "\n",
    "The goal of this notebook is to create a preprocessed kaggle dataset out of the competition dataset.  \n",
    "For now, the preprocessing will be based on [this notebook](https://www.kaggle.com/code/vonmainstein/imu-tof).  \n",
    "It consists of the following steps:\n",
    "-   Set the appropriate dtypes (helps with RAM usage).\n",
    "-   Impute missing feature values with forward, backward and then 0 filling.\n",
    "-   Split the dataset into multiple cross validation folds.\n",
    "-   Standardize feature values.\n",
    "-   Pad/Truncate the sequences to the same length.  \n",
    "\n",
    "> Note:  \n",
    "> - Demographics data set will be ignored for now.  "
   ]
  },
  {
   "cell_type": "markdown",
   "id": "3e390dcd",
   "metadata": {},
   "source": [
    "## Setup"
   ]
  },
  {
   "cell_type": "markdown",
   "id": "67848297",
   "metadata": {},
   "source": [
    "### Imports"
   ]
  },
  {
   "cell_type": "code",
   "execution_count": 1,
   "id": "3b58565a",
   "metadata": {},
   "outputs": [],
   "source": [
    "import os\n",
    "import json\n",
    "import warnings\n",
    "from os.path import join\n",
    "from tqdm.notebook import tqdm\n",
    "from itertools import repeat, starmap, product\n",
    "\n",
    "import numpy as np\n",
    "import pandas as pd\n",
    "from numpy import ndarray\n",
    "import plotly.express as px\n",
    "from numpy.linalg import norm\n",
    "from pandas import DataFrame as DF\n",
    "from scipy.spatial.transform import Rotation\n",
    "from sklearn.model_selection import StratifiedGroupKFold\n",
    "from kagglehub import whoami, competition_download, dataset_upload"
   ]
  },
  {
   "cell_type": "markdown",
   "id": "2102ea8c",
   "metadata": {},
   "source": [
    "### Supress performance warngings"
   ]
  },
  {
   "cell_type": "code",
   "execution_count": 2,
   "id": "fb820d2b",
   "metadata": {},
   "outputs": [],
   "source": [
    "warnings.filterwarnings(\n",
    "    \"ignore\",\n",
    "    message=(\n",
    "        \"DataFrame is highly fragmented.  This is usually the result of \"\n",
    "        \"calling `frame.insert` many times.*\"\n",
    "    ),\n",
    "    category=pd.errors.PerformanceWarning,\n",
    ")"
   ]
  },
  {
   "cell_type": "markdown",
   "id": "4386f64d",
   "metadata": {},
   "source": [
    "### Config"
   ]
  },
  {
   "cell_type": "code",
   "execution_count": 3,
   "id": "a522c427",
   "metadata": {},
   "outputs": [],
   "source": [
    "QUATERNION_COLS = ['rot_w', 'rot_x', 'rot_y', 'rot_z']\n",
    "GRAVITY_WORLD = np.array([0, 0, 9.81], \"float32\")\n",
    "RAW_ACCELRATION_COLS = [\"acc_x\", \"acc_y\", \"acc_z\"]\n",
    "LINEAR_ACC_COLS = [\"gravity_free_\" + col for col in RAW_ACCELRATION_COLS]\n",
    "COMPETITION_HANDLE = \"cmi-detect-behavior-with-sensor-data\"\n",
    "CATEGORY_COLUMNS = [\n",
    "    'row_id',\n",
    "    'sequence_type',\n",
    "    'sequence_id',\n",
    "    'subject',\n",
    "    'orientation',\n",
    "    'behavior',\n",
    "    'phase',\n",
    "    'gesture',\n",
    "]\n",
    "META_DATA_COLUMNS = [\n",
    "    'row_id',\n",
    "    'sequence_type',\n",
    "    'sequence_id',\n",
    "    'sequence_counter',\n",
    "    'subject',\n",
    "    'orientation',\n",
    "    'behavior',\n",
    "    'phase',\n",
    "    'gesture',\n",
    "]\n",
    "DATASET_DF_DTYPES = {\n",
    "    \"acc_x\": \"float32\", \"acc_y\": \"float32\", \"acc_z\": \"float32\",\n",
    "    \"thm_1\":\"float32\", \"thm_2\":\"float32\", \"thm_3\":\"float32\", \"thm_4\":\"float32\", \"thm_5\":\"float32\",\n",
    "    \"sequence_counter\": \"int32\",\n",
    "    **{col: \"category\" for col in CATEGORY_COLUMNS},\n",
    "    **{f\"tof_{i_1}_v{i_2}\": \"float32\" for i_1, i_2 in product(range(1, 5), range(64))},\n",
    "}\n",
    "PREPROCESSED_DATASET_HANDLE = \"mauroabidalcarrer/prepocessed-cmi-2025\"\n",
    "# The quantile of the sequences len used to pad/truncate during preprocessing\n",
    "SEQUENCE_NORMED_LEN_QUANTILE = 0.95\n",
    "# SAMPLING_FREQUENCY = 10 #Hz\n",
    "N_FOLDS = 5\n",
    "VALIDATION_FRACTION = 0.2\n",
    "TARGET_NAMES = [\n",
    "    \"Above ear - pull hair\",\n",
    "    \"Cheek - pinch skin\",\n",
    "    \"Eyebrow - pull hair\",\n",
    "    \"Eyelash - pull hair\",\n",
    "    \"Feel around in tray and pull out an object\",\n",
    "    \"Forehead - pull hairline\",\n",
    "    \"Forehead - scratch\",\n",
    "    \"Neck - pinch skin\",\n",
    "    \"Neck - scratch\",\n",
    "    \"Text on phone\",\n",
    "    \"Wave hello\",\n",
    "    \"Write name in air\",\n",
    "    \"Write name on leg\",\n",
    "    \"Drink from bottle/cup\",\n",
    "    \"Pinch knee/leg skin\",\n",
    "    \"Pull air toward your face\",\n",
    "    \"Scratch knee/leg skin\",\n",
    "    \"Glasses on/off\"\n",
    "]\n",
    "EPSILON=1e-8\n",
    "DELTA_ROTATION_ANGULAR_VELOCITY_COLS = [\"angular_vel_x\", \"angular_vel_y\", \"angular_vel_z\"]\n",
    "DELTA_ROTATION_AXES_COLS = [\"rotation_axis_x\", \"rotation_axis_y\", \"rotation_axis_z\"]\n",
    "EULER_ANGLES_COLS = [\"euler_x\", \"euler_y\", \"euler_z\"]"
   ]
  },
  {
   "cell_type": "markdown",
   "id": "f27f6677",
   "metadata": {},
   "source": [
    "### Define function to get the feature columns\n",
    "Feature columns change over time so it's better to have a function to get them than manually update a variable every time we add/remove features."
   ]
  },
  {
   "cell_type": "code",
   "execution_count": 4,
   "id": "e2db0953",
   "metadata": {},
   "outputs": [],
   "source": [
    "def get_feature_cols(df:DF) -> list[str]:\n",
    "    return sorted(list(set(df.columns) - set(META_DATA_COLUMNS) - set(TARGET_NAMES)))"
   ]
  },
  {
   "cell_type": "markdown",
   "id": "773eda72",
   "metadata": {},
   "source": [
    "### Load dataset\n",
    "Requires to be logged in if this notebook is not running on kaggle, go to [your settings](https://www.kaggle.com/settings) to create an access token and put it in `~/.kaggle/`."
   ]
  },
  {
   "cell_type": "code",
   "execution_count": 5,
   "id": "58b8bc22",
   "metadata": {},
   "outputs": [],
   "source": [
    "competition_dataset_path = competition_download(COMPETITION_HANDLE)\n",
    "df = pd.read_csv(join(competition_dataset_path, \"train.csv\"), dtype=DATASET_DF_DTYPES)"
   ]
  },
  {
   "cell_type": "markdown",
   "id": "c1924ec0",
   "metadata": {},
   "source": [
    "## Data preprocessing"
   ]
  },
  {
   "cell_type": "markdown",
   "id": "7aea88de",
   "metadata": {},
   "source": [
    "### Impute missing data\n",
    "Perform forward, backward and then filling of all NaN sequences."
   ]
  },
  {
   "cell_type": "code",
   "execution_count": 6,
   "id": "c2f0db28",
   "metadata": {},
   "outputs": [],
   "source": [
    "# Missing ToF values are already imputed by -1 which is inconvinient since we want all missing values to be NaN.    \n",
    "# So we replace them by NaN and then perform imputing.\n",
    "def get_fillna_val_per_feature_col(df:DF) -> dict:\n",
    "    return {col: 1.0 if col == 'rot_w' else 0 for col in get_feature_cols(df)}\n",
    "\n",
    "def imputed_features(df:DF) -> DF:\n",
    "    # Missing ToF values are already imputed by -1 which is inconvinient since we want all missing values to be NaN.    \n",
    "    # So we replace them by NaN and then perform imputing.  \n",
    "    tof_vals_to_nan = {col: -1.0 for col in df.columns if col.startswith(\"tof\")}\n",
    "    # fillna_val_per_col = {col: 1.0 if col == 'rot_w' else 0 for col in df.columns}\n",
    "\n",
    "    df[get_feature_cols(df)] = (\n",
    "        df\n",
    "        .loc[:, get_feature_cols(df)]\n",
    "        # df.replace with np.nan sets dtype to floar64 so we set it back to float32\n",
    "        .replace(tof_vals_to_nan, value=np.nan)\n",
    "        .astype(\"float32\")\n",
    "        .groupby(df[\"sequence_id\"], observed=True, as_index=False)\n",
    "        .ffill()\n",
    "        .groupby(df[\"sequence_id\"], observed=True, as_index=False)\n",
    "        .bfill()\n",
    "        # In case there are only nan in the column in the sequence\n",
    "        .fillna(get_fillna_val_per_feature_col(df))\n",
    "    )\n",
    "    return df\n",
    "\n",
    "df = imputed_features(df)"
   ]
  },
  {
   "cell_type": "markdown",
   "id": "ad044a52",
   "metadata": {},
   "source": [
    "### Norm quaternions\n",
    "This allows us to parse quaternions with `scipy.spatial.transform.Rotation`."
   ]
  },
  {
   "cell_type": "code",
   "execution_count": 7,
   "id": "c99bce0b",
   "metadata": {},
   "outputs": [],
   "source": [
    "def norm_quat_rotations(df:DF) -> DF:\n",
    "    df[QUATERNION_COLS] /= np.linalg.norm(df[QUATERNION_COLS], axis=1, keepdims=True)\n",
    "    return df"
   ]
  },
  {
   "cell_type": "markdown",
   "id": "606a87c4",
   "metadata": {},
   "source": [
    "### Linear acceleration\n",
    "Remove gravity from the acceleration features."
   ]
  },
  {
   "cell_type": "code",
   "execution_count": 8,
   "id": "5d87de25",
   "metadata": {},
   "outputs": [],
   "source": [
    "def add_linear_acc_cols(df:DF) -> DF:\n",
    "    # Vectorized version of https://www.kaggle.com/code/wasupandceacar/lb-0-82-5fold-single-bert-model#Dataset `remove_gravity_from_acc`\n",
    "    rotations:Rotation = Rotation.from_quat(df[QUATERNION_COLS])\n",
    "    gravity_sensor_frame = rotations.apply(GRAVITY_WORLD, inverse=True).astype(\"float32\")\n",
    "    df[LINEAR_ACC_COLS] = df[RAW_ACCELRATION_COLS] - gravity_sensor_frame\n",
    "    return df\n",
    "\n",
    "df = add_linear_acc_cols(df)"
   ]
  },
  {
   "cell_type": "markdown",
   "id": "f1d709e7",
   "metadata": {},
   "source": [
    "### Accelerations magnitudes\n",
    "Add magnitue (norm) of both  raw acceleration and linear accelration."
   ]
  },
  {
   "cell_type": "code",
   "execution_count": 9,
   "id": "9fdf04ef",
   "metadata": {},
   "outputs": [],
   "source": [
    "def add_acc_magnitude(df:DF, acc_cols:list[str], acc_mag_col_name:str) -> DF:\n",
    "    return df.assign(**{acc_mag_col_name: np.linalg.norm(df.loc[:, acc_cols], axis=1)})\n",
    "\n",
    "df = add_acc_magnitude(df, RAW_ACCELRATION_COLS, \"raw_acc_mag\")\n",
    "df = add_acc_magnitude(df, LINEAR_ACC_COLS, \"linear_acc_mag\")"
   ]
  },
  {
   "cell_type": "markdown",
   "id": "7d92b38a",
   "metadata": {},
   "source": [
    "### Quaternion angle magnitude\n",
    "Refered to as \"rotation angle\" in top notebooks."
   ]
  },
  {
   "cell_type": "code",
   "execution_count": 10,
   "id": "79aac44c",
   "metadata": {},
   "outputs": [],
   "source": [
    "def add_quat_angle_mag(df:DF) -> DF:\n",
    "    return df.assign(quat_rot_mag=np.arccos(df[\"rot_w\"]) * 2)\n",
    "\n",
    "df = add_quat_angle_mag(df)"
   ]
  },
  {
   "cell_type": "markdown",
   "id": "7127f2da",
   "metadata": {},
   "source": [
    "### Angular velocity\n",
    "Compute the axis of the rotation difference and its angular magnutide.  \n",
    "Top notebooks scale the vector by the angular magnitude.  \n",
    "I will also include the magnitude and unit axis vector in case they turn out to be more informative.   "
   ]
  },
  {
   "cell_type": "code",
   "execution_count": 11,
   "id": "9c6cf592",
   "metadata": {},
   "outputs": [],
   "source": [
    "def add_angular_velocity_features(df:DF) -> DF:\n",
    "    rotations = Rotation.from_quat(df[QUATERNION_COLS])\n",
    "    delta_rotations = rotations[1:] * rotations[:-1].inv()\n",
    "    delta_rot_velocity = delta_rotations.as_rotvec()\n",
    "    # Add extra line to avoid shape mismatch\n",
    "    delta_rot_velocity = np.vstack((np.zeros((1, 3)), delta_rot_velocity))\n",
    "    delta_rot_magnitude = norm(delta_rot_velocity, axis=1, keepdims=True)\n",
    "    delta_rot_axes = delta_rot_velocity / (delta_rot_magnitude + EPSILON)\n",
    "    df[DELTA_ROTATION_ANGULAR_VELOCITY_COLS] = delta_rot_velocity\n",
    "    df[DELTA_ROTATION_AXES_COLS] = delta_rot_axes\n",
    "    df[\"delta_rot_mag\"] = delta_rot_magnitude.squeeze()\n",
    "\n",
    "    return df\n",
    "\n",
    "df = add_angular_velocity_features(df)"
   ]
  },
  {
   "cell_type": "markdown",
   "id": "6ae43d1a",
   "metadata": {},
   "source": [
    "### Euler angles from quaternions"
   ]
  },
  {
   "cell_type": "code",
   "execution_count": 12,
   "id": "c99bce0b",
   "metadata": {},
   "outputs": [],
   "source": [
    "def rot_euler_angles(df:DF) -> ndarray:\n",
    "    df[EULER_ANGLES_COLS] = (\n",
    "        Rotation\n",
    "        .from_quat(df[QUATERNION_COLS])\n",
    "        .as_euler(\"xyz\")\n",
    "        .squeeze()\n",
    "    )\n",
    "    return df\n",
    "\n",
    "df = rot_euler_angles(df)"
   ]
  },
  {
   "cell_type": "markdown",
   "id": "18979983",
   "metadata": {},
   "source": [
    "### One hot encode target values."
   ]
  },
  {
   "cell_type": "code",
   "execution_count": 13,
   "id": "05661625",
   "metadata": {},
   "outputs": [
    {
     "data": {
      "text/html": [
       "<div>\n",
       "<style scoped>\n",
       "    .dataframe tbody tr th:only-of-type {\n",
       "        vertical-align: middle;\n",
       "    }\n",
       "\n",
       "    .dataframe tbody tr th {\n",
       "        vertical-align: top;\n",
       "    }\n",
       "\n",
       "    .dataframe thead th {\n",
       "        text-align: right;\n",
       "    }\n",
       "</style>\n",
       "<table border=\"1\" class=\"dataframe\">\n",
       "  <thead>\n",
       "    <tr style=\"text-align: right;\">\n",
       "      <th></th>\n",
       "      <th>row_id</th>\n",
       "      <th>sequence_type</th>\n",
       "      <th>sequence_id</th>\n",
       "      <th>sequence_counter</th>\n",
       "      <th>subject</th>\n",
       "      <th>orientation</th>\n",
       "      <th>behavior</th>\n",
       "      <th>phase</th>\n",
       "      <th>gesture</th>\n",
       "      <th>acc_x</th>\n",
       "      <th>...</th>\n",
       "      <th>Neck - scratch</th>\n",
       "      <th>Text on phone</th>\n",
       "      <th>Wave hello</th>\n",
       "      <th>Write name in air</th>\n",
       "      <th>Write name on leg</th>\n",
       "      <th>Drink from bottle/cup</th>\n",
       "      <th>Pinch knee/leg skin</th>\n",
       "      <th>Pull air toward your face</th>\n",
       "      <th>Scratch knee/leg skin</th>\n",
       "      <th>Glasses on/off</th>\n",
       "    </tr>\n",
       "  </thead>\n",
       "  <tbody>\n",
       "    <tr>\n",
       "      <th>0</th>\n",
       "      <td>SEQ_000007_000000</td>\n",
       "      <td>Target</td>\n",
       "      <td>SEQ_000007</td>\n",
       "      <td>0</td>\n",
       "      <td>SUBJ_059520</td>\n",
       "      <td>Seated Lean Non Dom - FACE DOWN</td>\n",
       "      <td>Relaxes and moves hand to target location</td>\n",
       "      <td>Transition</td>\n",
       "      <td>Cheek - pinch skin</td>\n",
       "      <td>6.683594</td>\n",
       "      <td>...</td>\n",
       "      <td>False</td>\n",
       "      <td>False</td>\n",
       "      <td>False</td>\n",
       "      <td>False</td>\n",
       "      <td>False</td>\n",
       "      <td>False</td>\n",
       "      <td>False</td>\n",
       "      <td>False</td>\n",
       "      <td>False</td>\n",
       "      <td>False</td>\n",
       "    </tr>\n",
       "    <tr>\n",
       "      <th>1</th>\n",
       "      <td>SEQ_000007_000001</td>\n",
       "      <td>Target</td>\n",
       "      <td>SEQ_000007</td>\n",
       "      <td>1</td>\n",
       "      <td>SUBJ_059520</td>\n",
       "      <td>Seated Lean Non Dom - FACE DOWN</td>\n",
       "      <td>Relaxes and moves hand to target location</td>\n",
       "      <td>Transition</td>\n",
       "      <td>Cheek - pinch skin</td>\n",
       "      <td>6.949219</td>\n",
       "      <td>...</td>\n",
       "      <td>False</td>\n",
       "      <td>False</td>\n",
       "      <td>False</td>\n",
       "      <td>False</td>\n",
       "      <td>False</td>\n",
       "      <td>False</td>\n",
       "      <td>False</td>\n",
       "      <td>False</td>\n",
       "      <td>False</td>\n",
       "      <td>False</td>\n",
       "    </tr>\n",
       "    <tr>\n",
       "      <th>2</th>\n",
       "      <td>SEQ_000007_000002</td>\n",
       "      <td>Target</td>\n",
       "      <td>SEQ_000007</td>\n",
       "      <td>2</td>\n",
       "      <td>SUBJ_059520</td>\n",
       "      <td>Seated Lean Non Dom - FACE DOWN</td>\n",
       "      <td>Relaxes and moves hand to target location</td>\n",
       "      <td>Transition</td>\n",
       "      <td>Cheek - pinch skin</td>\n",
       "      <td>5.722656</td>\n",
       "      <td>...</td>\n",
       "      <td>False</td>\n",
       "      <td>False</td>\n",
       "      <td>False</td>\n",
       "      <td>False</td>\n",
       "      <td>False</td>\n",
       "      <td>False</td>\n",
       "      <td>False</td>\n",
       "      <td>False</td>\n",
       "      <td>False</td>\n",
       "      <td>False</td>\n",
       "    </tr>\n",
       "    <tr>\n",
       "      <th>3</th>\n",
       "      <td>SEQ_000007_000003</td>\n",
       "      <td>Target</td>\n",
       "      <td>SEQ_000007</td>\n",
       "      <td>3</td>\n",
       "      <td>SUBJ_059520</td>\n",
       "      <td>Seated Lean Non Dom - FACE DOWN</td>\n",
       "      <td>Relaxes and moves hand to target location</td>\n",
       "      <td>Transition</td>\n",
       "      <td>Cheek - pinch skin</td>\n",
       "      <td>6.601562</td>\n",
       "      <td>...</td>\n",
       "      <td>False</td>\n",
       "      <td>False</td>\n",
       "      <td>False</td>\n",
       "      <td>False</td>\n",
       "      <td>False</td>\n",
       "      <td>False</td>\n",
       "      <td>False</td>\n",
       "      <td>False</td>\n",
       "      <td>False</td>\n",
       "      <td>False</td>\n",
       "    </tr>\n",
       "    <tr>\n",
       "      <th>4</th>\n",
       "      <td>SEQ_000007_000004</td>\n",
       "      <td>Target</td>\n",
       "      <td>SEQ_000007</td>\n",
       "      <td>4</td>\n",
       "      <td>SUBJ_059520</td>\n",
       "      <td>Seated Lean Non Dom - FACE DOWN</td>\n",
       "      <td>Relaxes and moves hand to target location</td>\n",
       "      <td>Transition</td>\n",
       "      <td>Cheek - pinch skin</td>\n",
       "      <td>5.566406</td>\n",
       "      <td>...</td>\n",
       "      <td>False</td>\n",
       "      <td>False</td>\n",
       "      <td>False</td>\n",
       "      <td>False</td>\n",
       "      <td>False</td>\n",
       "      <td>False</td>\n",
       "      <td>False</td>\n",
       "      <td>False</td>\n",
       "      <td>False</td>\n",
       "      <td>False</td>\n",
       "    </tr>\n",
       "    <tr>\n",
       "      <th>...</th>\n",
       "      <td>...</td>\n",
       "      <td>...</td>\n",
       "      <td>...</td>\n",
       "      <td>...</td>\n",
       "      <td>...</td>\n",
       "      <td>...</td>\n",
       "      <td>...</td>\n",
       "      <td>...</td>\n",
       "      <td>...</td>\n",
       "      <td>...</td>\n",
       "      <td>...</td>\n",
       "      <td>...</td>\n",
       "      <td>...</td>\n",
       "      <td>...</td>\n",
       "      <td>...</td>\n",
       "      <td>...</td>\n",
       "      <td>...</td>\n",
       "      <td>...</td>\n",
       "      <td>...</td>\n",
       "      <td>...</td>\n",
       "      <td>...</td>\n",
       "    </tr>\n",
       "    <tr>\n",
       "      <th>574940</th>\n",
       "      <td>SEQ_065531_000048</td>\n",
       "      <td>Non-Target</td>\n",
       "      <td>SEQ_065531</td>\n",
       "      <td>48</td>\n",
       "      <td>SUBJ_039498</td>\n",
       "      <td>Seated Lean Non Dom - FACE DOWN</td>\n",
       "      <td>Performs gesture</td>\n",
       "      <td>Gesture</td>\n",
       "      <td>Write name on leg</td>\n",
       "      <td>3.503906</td>\n",
       "      <td>...</td>\n",
       "      <td>False</td>\n",
       "      <td>False</td>\n",
       "      <td>False</td>\n",
       "      <td>False</td>\n",
       "      <td>True</td>\n",
       "      <td>False</td>\n",
       "      <td>False</td>\n",
       "      <td>False</td>\n",
       "      <td>False</td>\n",
       "      <td>False</td>\n",
       "    </tr>\n",
       "    <tr>\n",
       "      <th>574941</th>\n",
       "      <td>SEQ_065531_000049</td>\n",
       "      <td>Non-Target</td>\n",
       "      <td>SEQ_065531</td>\n",
       "      <td>49</td>\n",
       "      <td>SUBJ_039498</td>\n",
       "      <td>Seated Lean Non Dom - FACE DOWN</td>\n",
       "      <td>Performs gesture</td>\n",
       "      <td>Gesture</td>\n",
       "      <td>Write name on leg</td>\n",
       "      <td>3.773438</td>\n",
       "      <td>...</td>\n",
       "      <td>False</td>\n",
       "      <td>False</td>\n",
       "      <td>False</td>\n",
       "      <td>False</td>\n",
       "      <td>True</td>\n",
       "      <td>False</td>\n",
       "      <td>False</td>\n",
       "      <td>False</td>\n",
       "      <td>False</td>\n",
       "      <td>False</td>\n",
       "    </tr>\n",
       "    <tr>\n",
       "      <th>574942</th>\n",
       "      <td>SEQ_065531_000050</td>\n",
       "      <td>Non-Target</td>\n",
       "      <td>SEQ_065531</td>\n",
       "      <td>50</td>\n",
       "      <td>SUBJ_039498</td>\n",
       "      <td>Seated Lean Non Dom - FACE DOWN</td>\n",
       "      <td>Performs gesture</td>\n",
       "      <td>Gesture</td>\n",
       "      <td>Write name on leg</td>\n",
       "      <td>3.082031</td>\n",
       "      <td>...</td>\n",
       "      <td>False</td>\n",
       "      <td>False</td>\n",
       "      <td>False</td>\n",
       "      <td>False</td>\n",
       "      <td>True</td>\n",
       "      <td>False</td>\n",
       "      <td>False</td>\n",
       "      <td>False</td>\n",
       "      <td>False</td>\n",
       "      <td>False</td>\n",
       "    </tr>\n",
       "    <tr>\n",
       "      <th>574943</th>\n",
       "      <td>SEQ_065531_000051</td>\n",
       "      <td>Non-Target</td>\n",
       "      <td>SEQ_065531</td>\n",
       "      <td>51</td>\n",
       "      <td>SUBJ_039498</td>\n",
       "      <td>Seated Lean Non Dom - FACE DOWN</td>\n",
       "      <td>Performs gesture</td>\n",
       "      <td>Gesture</td>\n",
       "      <td>Write name on leg</td>\n",
       "      <td>3.964844</td>\n",
       "      <td>...</td>\n",
       "      <td>False</td>\n",
       "      <td>False</td>\n",
       "      <td>False</td>\n",
       "      <td>False</td>\n",
       "      <td>True</td>\n",
       "      <td>False</td>\n",
       "      <td>False</td>\n",
       "      <td>False</td>\n",
       "      <td>False</td>\n",
       "      <td>False</td>\n",
       "    </tr>\n",
       "    <tr>\n",
       "      <th>574944</th>\n",
       "      <td>SEQ_065531_000052</td>\n",
       "      <td>Non-Target</td>\n",
       "      <td>SEQ_065531</td>\n",
       "      <td>52</td>\n",
       "      <td>SUBJ_039498</td>\n",
       "      <td>Seated Lean Non Dom - FACE DOWN</td>\n",
       "      <td>Performs gesture</td>\n",
       "      <td>Gesture</td>\n",
       "      <td>Write name on leg</td>\n",
       "      <td>4.269531</td>\n",
       "      <td>...</td>\n",
       "      <td>False</td>\n",
       "      <td>False</td>\n",
       "      <td>False</td>\n",
       "      <td>False</td>\n",
       "      <td>True</td>\n",
       "      <td>False</td>\n",
       "      <td>False</td>\n",
       "      <td>False</td>\n",
       "      <td>False</td>\n",
       "      <td>False</td>\n",
       "    </tr>\n",
       "  </tbody>\n",
       "</table>\n",
       "<p>574945 rows × 375 columns</p>\n",
       "</div>"
      ],
      "text/plain": [
       "                   row_id sequence_type sequence_id  sequence_counter  \\\n",
       "0       SEQ_000007_000000        Target  SEQ_000007                 0   \n",
       "1       SEQ_000007_000001        Target  SEQ_000007                 1   \n",
       "2       SEQ_000007_000002        Target  SEQ_000007                 2   \n",
       "3       SEQ_000007_000003        Target  SEQ_000007                 3   \n",
       "4       SEQ_000007_000004        Target  SEQ_000007                 4   \n",
       "...                   ...           ...         ...               ...   \n",
       "574940  SEQ_065531_000048    Non-Target  SEQ_065531                48   \n",
       "574941  SEQ_065531_000049    Non-Target  SEQ_065531                49   \n",
       "574942  SEQ_065531_000050    Non-Target  SEQ_065531                50   \n",
       "574943  SEQ_065531_000051    Non-Target  SEQ_065531                51   \n",
       "574944  SEQ_065531_000052    Non-Target  SEQ_065531                52   \n",
       "\n",
       "            subject                      orientation  \\\n",
       "0       SUBJ_059520  Seated Lean Non Dom - FACE DOWN   \n",
       "1       SUBJ_059520  Seated Lean Non Dom - FACE DOWN   \n",
       "2       SUBJ_059520  Seated Lean Non Dom - FACE DOWN   \n",
       "3       SUBJ_059520  Seated Lean Non Dom - FACE DOWN   \n",
       "4       SUBJ_059520  Seated Lean Non Dom - FACE DOWN   \n",
       "...             ...                              ...   \n",
       "574940  SUBJ_039498  Seated Lean Non Dom - FACE DOWN   \n",
       "574941  SUBJ_039498  Seated Lean Non Dom - FACE DOWN   \n",
       "574942  SUBJ_039498  Seated Lean Non Dom - FACE DOWN   \n",
       "574943  SUBJ_039498  Seated Lean Non Dom - FACE DOWN   \n",
       "574944  SUBJ_039498  Seated Lean Non Dom - FACE DOWN   \n",
       "\n",
       "                                         behavior       phase  \\\n",
       "0       Relaxes and moves hand to target location  Transition   \n",
       "1       Relaxes and moves hand to target location  Transition   \n",
       "2       Relaxes and moves hand to target location  Transition   \n",
       "3       Relaxes and moves hand to target location  Transition   \n",
       "4       Relaxes and moves hand to target location  Transition   \n",
       "...                                           ...         ...   \n",
       "574940                           Performs gesture     Gesture   \n",
       "574941                           Performs gesture     Gesture   \n",
       "574942                           Performs gesture     Gesture   \n",
       "574943                           Performs gesture     Gesture   \n",
       "574944                           Performs gesture     Gesture   \n",
       "\n",
       "                   gesture     acc_x  ...  Neck - scratch  Text on phone  \\\n",
       "0       Cheek - pinch skin  6.683594  ...           False          False   \n",
       "1       Cheek - pinch skin  6.949219  ...           False          False   \n",
       "2       Cheek - pinch skin  5.722656  ...           False          False   \n",
       "3       Cheek - pinch skin  6.601562  ...           False          False   \n",
       "4       Cheek - pinch skin  5.566406  ...           False          False   \n",
       "...                    ...       ...  ...             ...            ...   \n",
       "574940   Write name on leg  3.503906  ...           False          False   \n",
       "574941   Write name on leg  3.773438  ...           False          False   \n",
       "574942   Write name on leg  3.082031  ...           False          False   \n",
       "574943   Write name on leg  3.964844  ...           False          False   \n",
       "574944   Write name on leg  4.269531  ...           False          False   \n",
       "\n",
       "        Wave hello  Write name in air  Write name on leg  \\\n",
       "0            False              False              False   \n",
       "1            False              False              False   \n",
       "2            False              False              False   \n",
       "3            False              False              False   \n",
       "4            False              False              False   \n",
       "...            ...                ...                ...   \n",
       "574940       False              False               True   \n",
       "574941       False              False               True   \n",
       "574942       False              False               True   \n",
       "574943       False              False               True   \n",
       "574944       False              False               True   \n",
       "\n",
       "        Drink from bottle/cup  Pinch knee/leg skin  Pull air toward your face  \\\n",
       "0                       False                False                      False   \n",
       "1                       False                False                      False   \n",
       "2                       False                False                      False   \n",
       "3                       False                False                      False   \n",
       "4                       False                False                      False   \n",
       "...                       ...                  ...                        ...   \n",
       "574940                  False                False                      False   \n",
       "574941                  False                False                      False   \n",
       "574942                  False                False                      False   \n",
       "574943                  False                False                      False   \n",
       "574944                  False                False                      False   \n",
       "\n",
       "        Scratch knee/leg skin  Glasses on/off  \n",
       "0                       False           False  \n",
       "1                       False           False  \n",
       "2                       False           False  \n",
       "3                       False           False  \n",
       "4                       False           False  \n",
       "...                       ...             ...  \n",
       "574940                  False           False  \n",
       "574941                  False           False  \n",
       "574942                  False           False  \n",
       "574943                  False           False  \n",
       "574944                  False           False  \n",
       "\n",
       "[574945 rows x 375 columns]"
      ]
     },
     "execution_count": 13,
     "metadata": {},
     "output_type": "execute_result"
    }
   ],
   "source": [
    "one_hot_target = pd.get_dummies(df[\"gesture\"])\n",
    "df[one_hot_target.columns] = one_hot_target\n",
    "df"
   ]
  },
  {
   "cell_type": "markdown",
   "id": "8812dc08",
   "metadata": {},
   "source": [
    "### ToF data aggregation.\n",
    "Time of Flight columns take most of the data, let's reduce their size by aggregating by mean for each Time of Flight sensor."
   ]
  },
  {
   "cell_type": "code",
   "execution_count": 14,
   "id": "2b4f83f2",
   "metadata": {},
   "outputs": [
    {
     "data": {
      "text/html": [
       "<div>\n",
       "<style scoped>\n",
       "    .dataframe tbody tr th:only-of-type {\n",
       "        vertical-align: middle;\n",
       "    }\n",
       "\n",
       "    .dataframe tbody tr th {\n",
       "        vertical-align: top;\n",
       "    }\n",
       "\n",
       "    .dataframe thead th {\n",
       "        text-align: right;\n",
       "    }\n",
       "</style>\n",
       "<table border=\"1\" class=\"dataframe\">\n",
       "  <thead>\n",
       "    <tr style=\"text-align: right;\">\n",
       "      <th></th>\n",
       "      <th>row_id</th>\n",
       "      <th>sequence_type</th>\n",
       "      <th>sequence_id</th>\n",
       "      <th>sequence_counter</th>\n",
       "      <th>subject</th>\n",
       "      <th>orientation</th>\n",
       "      <th>behavior</th>\n",
       "      <th>phase</th>\n",
       "      <th>gesture</th>\n",
       "      <th>acc_x</th>\n",
       "      <th>...</th>\n",
       "      <th>Drink from bottle/cup</th>\n",
       "      <th>Pinch knee/leg skin</th>\n",
       "      <th>Pull air toward your face</th>\n",
       "      <th>Scratch knee/leg skin</th>\n",
       "      <th>Glasses on/off</th>\n",
       "      <th>tof_1</th>\n",
       "      <th>tof_2</th>\n",
       "      <th>tof_3</th>\n",
       "      <th>tof_4</th>\n",
       "      <th>tof_5</th>\n",
       "    </tr>\n",
       "  </thead>\n",
       "  <tbody>\n",
       "    <tr>\n",
       "      <th>0</th>\n",
       "      <td>SEQ_000007_000000</td>\n",
       "      <td>Target</td>\n",
       "      <td>SEQ_000007</td>\n",
       "      <td>0</td>\n",
       "      <td>SUBJ_059520</td>\n",
       "      <td>Seated Lean Non Dom - FACE DOWN</td>\n",
       "      <td>Relaxes and moves hand to target location</td>\n",
       "      <td>Transition</td>\n",
       "      <td>Cheek - pinch skin</td>\n",
       "      <td>6.683594</td>\n",
       "      <td>...</td>\n",
       "      <td>False</td>\n",
       "      <td>False</td>\n",
       "      <td>False</td>\n",
       "      <td>False</td>\n",
       "      <td>False</td>\n",
       "      <td>139.250000</td>\n",
       "      <td>117.109375</td>\n",
       "      <td>91.687500</td>\n",
       "      <td>123.359375</td>\n",
       "      <td>135.343750</td>\n",
       "    </tr>\n",
       "    <tr>\n",
       "      <th>1</th>\n",
       "      <td>SEQ_000007_000001</td>\n",
       "      <td>Target</td>\n",
       "      <td>SEQ_000007</td>\n",
       "      <td>1</td>\n",
       "      <td>SUBJ_059520</td>\n",
       "      <td>Seated Lean Non Dom - FACE DOWN</td>\n",
       "      <td>Relaxes and moves hand to target location</td>\n",
       "      <td>Transition</td>\n",
       "      <td>Cheek - pinch skin</td>\n",
       "      <td>6.949219</td>\n",
       "      <td>...</td>\n",
       "      <td>False</td>\n",
       "      <td>False</td>\n",
       "      <td>False</td>\n",
       "      <td>False</td>\n",
       "      <td>False</td>\n",
       "      <td>139.796875</td>\n",
       "      <td>119.671875</td>\n",
       "      <td>97.921875</td>\n",
       "      <td>124.406250</td>\n",
       "      <td>137.000000</td>\n",
       "    </tr>\n",
       "    <tr>\n",
       "      <th>2</th>\n",
       "      <td>SEQ_000007_000002</td>\n",
       "      <td>Target</td>\n",
       "      <td>SEQ_000007</td>\n",
       "      <td>2</td>\n",
       "      <td>SUBJ_059520</td>\n",
       "      <td>Seated Lean Non Dom - FACE DOWN</td>\n",
       "      <td>Relaxes and moves hand to target location</td>\n",
       "      <td>Transition</td>\n",
       "      <td>Cheek - pinch skin</td>\n",
       "      <td>5.722656</td>\n",
       "      <td>...</td>\n",
       "      <td>False</td>\n",
       "      <td>False</td>\n",
       "      <td>False</td>\n",
       "      <td>False</td>\n",
       "      <td>False</td>\n",
       "      <td>142.375000</td>\n",
       "      <td>128.359375</td>\n",
       "      <td>116.953125</td>\n",
       "      <td>125.687500</td>\n",
       "      <td>140.234375</td>\n",
       "    </tr>\n",
       "    <tr>\n",
       "      <th>3</th>\n",
       "      <td>SEQ_000007_000003</td>\n",
       "      <td>Target</td>\n",
       "      <td>SEQ_000007</td>\n",
       "      <td>3</td>\n",
       "      <td>SUBJ_059520</td>\n",
       "      <td>Seated Lean Non Dom - FACE DOWN</td>\n",
       "      <td>Relaxes and moves hand to target location</td>\n",
       "      <td>Transition</td>\n",
       "      <td>Cheek - pinch skin</td>\n",
       "      <td>6.601562</td>\n",
       "      <td>...</td>\n",
       "      <td>False</td>\n",
       "      <td>False</td>\n",
       "      <td>False</td>\n",
       "      <td>False</td>\n",
       "      <td>False</td>\n",
       "      <td>154.109375</td>\n",
       "      <td>142.093750</td>\n",
       "      <td>144.515625</td>\n",
       "      <td>149.078125</td>\n",
       "      <td>142.609375</td>\n",
       "    </tr>\n",
       "    <tr>\n",
       "      <th>4</th>\n",
       "      <td>SEQ_000007_000004</td>\n",
       "      <td>Target</td>\n",
       "      <td>SEQ_000007</td>\n",
       "      <td>4</td>\n",
       "      <td>SUBJ_059520</td>\n",
       "      <td>Seated Lean Non Dom - FACE DOWN</td>\n",
       "      <td>Relaxes and moves hand to target location</td>\n",
       "      <td>Transition</td>\n",
       "      <td>Cheek - pinch skin</td>\n",
       "      <td>5.566406</td>\n",
       "      <td>...</td>\n",
       "      <td>False</td>\n",
       "      <td>False</td>\n",
       "      <td>False</td>\n",
       "      <td>False</td>\n",
       "      <td>False</td>\n",
       "      <td>177.953125</td>\n",
       "      <td>149.453125</td>\n",
       "      <td>161.828125</td>\n",
       "      <td>163.765625</td>\n",
       "      <td>151.265625</td>\n",
       "    </tr>\n",
       "    <tr>\n",
       "      <th>...</th>\n",
       "      <td>...</td>\n",
       "      <td>...</td>\n",
       "      <td>...</td>\n",
       "      <td>...</td>\n",
       "      <td>...</td>\n",
       "      <td>...</td>\n",
       "      <td>...</td>\n",
       "      <td>...</td>\n",
       "      <td>...</td>\n",
       "      <td>...</td>\n",
       "      <td>...</td>\n",
       "      <td>...</td>\n",
       "      <td>...</td>\n",
       "      <td>...</td>\n",
       "      <td>...</td>\n",
       "      <td>...</td>\n",
       "      <td>...</td>\n",
       "      <td>...</td>\n",
       "      <td>...</td>\n",
       "      <td>...</td>\n",
       "      <td>...</td>\n",
       "    </tr>\n",
       "    <tr>\n",
       "      <th>574940</th>\n",
       "      <td>SEQ_065531_000048</td>\n",
       "      <td>Non-Target</td>\n",
       "      <td>SEQ_065531</td>\n",
       "      <td>48</td>\n",
       "      <td>SUBJ_039498</td>\n",
       "      <td>Seated Lean Non Dom - FACE DOWN</td>\n",
       "      <td>Performs gesture</td>\n",
       "      <td>Gesture</td>\n",
       "      <td>Write name on leg</td>\n",
       "      <td>3.503906</td>\n",
       "      <td>...</td>\n",
       "      <td>False</td>\n",
       "      <td>False</td>\n",
       "      <td>False</td>\n",
       "      <td>False</td>\n",
       "      <td>False</td>\n",
       "      <td>68.562500</td>\n",
       "      <td>67.750000</td>\n",
       "      <td>144.437500</td>\n",
       "      <td>74.062500</td>\n",
       "      <td>52.843750</td>\n",
       "    </tr>\n",
       "    <tr>\n",
       "      <th>574941</th>\n",
       "      <td>SEQ_065531_000049</td>\n",
       "      <td>Non-Target</td>\n",
       "      <td>SEQ_065531</td>\n",
       "      <td>49</td>\n",
       "      <td>SUBJ_039498</td>\n",
       "      <td>Seated Lean Non Dom - FACE DOWN</td>\n",
       "      <td>Performs gesture</td>\n",
       "      <td>Gesture</td>\n",
       "      <td>Write name on leg</td>\n",
       "      <td>3.773438</td>\n",
       "      <td>...</td>\n",
       "      <td>False</td>\n",
       "      <td>False</td>\n",
       "      <td>False</td>\n",
       "      <td>False</td>\n",
       "      <td>False</td>\n",
       "      <td>70.234375</td>\n",
       "      <td>66.656250</td>\n",
       "      <td>144.000000</td>\n",
       "      <td>70.406250</td>\n",
       "      <td>54.531250</td>\n",
       "    </tr>\n",
       "    <tr>\n",
       "      <th>574942</th>\n",
       "      <td>SEQ_065531_000050</td>\n",
       "      <td>Non-Target</td>\n",
       "      <td>SEQ_065531</td>\n",
       "      <td>50</td>\n",
       "      <td>SUBJ_039498</td>\n",
       "      <td>Seated Lean Non Dom - FACE DOWN</td>\n",
       "      <td>Performs gesture</td>\n",
       "      <td>Gesture</td>\n",
       "      <td>Write name on leg</td>\n",
       "      <td>3.082031</td>\n",
       "      <td>...</td>\n",
       "      <td>False</td>\n",
       "      <td>False</td>\n",
       "      <td>False</td>\n",
       "      <td>False</td>\n",
       "      <td>False</td>\n",
       "      <td>66.671875</td>\n",
       "      <td>62.906250</td>\n",
       "      <td>136.906250</td>\n",
       "      <td>70.109375</td>\n",
       "      <td>57.468750</td>\n",
       "    </tr>\n",
       "    <tr>\n",
       "      <th>574943</th>\n",
       "      <td>SEQ_065531_000051</td>\n",
       "      <td>Non-Target</td>\n",
       "      <td>SEQ_065531</td>\n",
       "      <td>51</td>\n",
       "      <td>SUBJ_039498</td>\n",
       "      <td>Seated Lean Non Dom - FACE DOWN</td>\n",
       "      <td>Performs gesture</td>\n",
       "      <td>Gesture</td>\n",
       "      <td>Write name on leg</td>\n",
       "      <td>3.964844</td>\n",
       "      <td>...</td>\n",
       "      <td>False</td>\n",
       "      <td>False</td>\n",
       "      <td>False</td>\n",
       "      <td>False</td>\n",
       "      <td>False</td>\n",
       "      <td>67.218750</td>\n",
       "      <td>64.500000</td>\n",
       "      <td>140.531250</td>\n",
       "      <td>75.609375</td>\n",
       "      <td>54.937500</td>\n",
       "    </tr>\n",
       "    <tr>\n",
       "      <th>574944</th>\n",
       "      <td>SEQ_065531_000052</td>\n",
       "      <td>Non-Target</td>\n",
       "      <td>SEQ_065531</td>\n",
       "      <td>52</td>\n",
       "      <td>SUBJ_039498</td>\n",
       "      <td>Seated Lean Non Dom - FACE DOWN</td>\n",
       "      <td>Performs gesture</td>\n",
       "      <td>Gesture</td>\n",
       "      <td>Write name on leg</td>\n",
       "      <td>4.269531</td>\n",
       "      <td>...</td>\n",
       "      <td>False</td>\n",
       "      <td>False</td>\n",
       "      <td>False</td>\n",
       "      <td>False</td>\n",
       "      <td>False</td>\n",
       "      <td>68.937500</td>\n",
       "      <td>65.156250</td>\n",
       "      <td>143.906250</td>\n",
       "      <td>75.890625</td>\n",
       "      <td>55.281250</td>\n",
       "    </tr>\n",
       "  </tbody>\n",
       "</table>\n",
       "<p>574945 rows × 60 columns</p>\n",
       "</div>"
      ],
      "text/plain": [
       "                   row_id sequence_type sequence_id  sequence_counter  \\\n",
       "0       SEQ_000007_000000        Target  SEQ_000007                 0   \n",
       "1       SEQ_000007_000001        Target  SEQ_000007                 1   \n",
       "2       SEQ_000007_000002        Target  SEQ_000007                 2   \n",
       "3       SEQ_000007_000003        Target  SEQ_000007                 3   \n",
       "4       SEQ_000007_000004        Target  SEQ_000007                 4   \n",
       "...                   ...           ...         ...               ...   \n",
       "574940  SEQ_065531_000048    Non-Target  SEQ_065531                48   \n",
       "574941  SEQ_065531_000049    Non-Target  SEQ_065531                49   \n",
       "574942  SEQ_065531_000050    Non-Target  SEQ_065531                50   \n",
       "574943  SEQ_065531_000051    Non-Target  SEQ_065531                51   \n",
       "574944  SEQ_065531_000052    Non-Target  SEQ_065531                52   \n",
       "\n",
       "            subject                      orientation  \\\n",
       "0       SUBJ_059520  Seated Lean Non Dom - FACE DOWN   \n",
       "1       SUBJ_059520  Seated Lean Non Dom - FACE DOWN   \n",
       "2       SUBJ_059520  Seated Lean Non Dom - FACE DOWN   \n",
       "3       SUBJ_059520  Seated Lean Non Dom - FACE DOWN   \n",
       "4       SUBJ_059520  Seated Lean Non Dom - FACE DOWN   \n",
       "...             ...                              ...   \n",
       "574940  SUBJ_039498  Seated Lean Non Dom - FACE DOWN   \n",
       "574941  SUBJ_039498  Seated Lean Non Dom - FACE DOWN   \n",
       "574942  SUBJ_039498  Seated Lean Non Dom - FACE DOWN   \n",
       "574943  SUBJ_039498  Seated Lean Non Dom - FACE DOWN   \n",
       "574944  SUBJ_039498  Seated Lean Non Dom - FACE DOWN   \n",
       "\n",
       "                                         behavior       phase  \\\n",
       "0       Relaxes and moves hand to target location  Transition   \n",
       "1       Relaxes and moves hand to target location  Transition   \n",
       "2       Relaxes and moves hand to target location  Transition   \n",
       "3       Relaxes and moves hand to target location  Transition   \n",
       "4       Relaxes and moves hand to target location  Transition   \n",
       "...                                           ...         ...   \n",
       "574940                           Performs gesture     Gesture   \n",
       "574941                           Performs gesture     Gesture   \n",
       "574942                           Performs gesture     Gesture   \n",
       "574943                           Performs gesture     Gesture   \n",
       "574944                           Performs gesture     Gesture   \n",
       "\n",
       "                   gesture     acc_x  ...  Drink from bottle/cup  \\\n",
       "0       Cheek - pinch skin  6.683594  ...                  False   \n",
       "1       Cheek - pinch skin  6.949219  ...                  False   \n",
       "2       Cheek - pinch skin  5.722656  ...                  False   \n",
       "3       Cheek - pinch skin  6.601562  ...                  False   \n",
       "4       Cheek - pinch skin  5.566406  ...                  False   \n",
       "...                    ...       ...  ...                    ...   \n",
       "574940   Write name on leg  3.503906  ...                  False   \n",
       "574941   Write name on leg  3.773438  ...                  False   \n",
       "574942   Write name on leg  3.082031  ...                  False   \n",
       "574943   Write name on leg  3.964844  ...                  False   \n",
       "574944   Write name on leg  4.269531  ...                  False   \n",
       "\n",
       "        Pinch knee/leg skin  Pull air toward your face  Scratch knee/leg skin  \\\n",
       "0                     False                      False                  False   \n",
       "1                     False                      False                  False   \n",
       "2                     False                      False                  False   \n",
       "3                     False                      False                  False   \n",
       "4                     False                      False                  False   \n",
       "...                     ...                        ...                    ...   \n",
       "574940                False                      False                  False   \n",
       "574941                False                      False                  False   \n",
       "574942                False                      False                  False   \n",
       "574943                False                      False                  False   \n",
       "574944                False                      False                  False   \n",
       "\n",
       "        Glasses on/off       tof_1       tof_2       tof_3       tof_4  \\\n",
       "0                False  139.250000  117.109375   91.687500  123.359375   \n",
       "1                False  139.796875  119.671875   97.921875  124.406250   \n",
       "2                False  142.375000  128.359375  116.953125  125.687500   \n",
       "3                False  154.109375  142.093750  144.515625  149.078125   \n",
       "4                False  177.953125  149.453125  161.828125  163.765625   \n",
       "...                ...         ...         ...         ...         ...   \n",
       "574940           False   68.562500   67.750000  144.437500   74.062500   \n",
       "574941           False   70.234375   66.656250  144.000000   70.406250   \n",
       "574942           False   66.671875   62.906250  136.906250   70.109375   \n",
       "574943           False   67.218750   64.500000  140.531250   75.609375   \n",
       "574944           False   68.937500   65.156250  143.906250   75.890625   \n",
       "\n",
       "             tof_5  \n",
       "0       135.343750  \n",
       "1       137.000000  \n",
       "2       140.234375  \n",
       "3       142.609375  \n",
       "4       151.265625  \n",
       "...            ...  \n",
       "574940   52.843750  \n",
       "574941   54.531250  \n",
       "574942   57.468750  \n",
       "574943   54.937500  \n",
       "574944   55.281250  \n",
       "\n",
       "[574945 rows x 60 columns]"
      ]
     },
     "execution_count": 14,
     "metadata": {},
     "output_type": "execute_result"
    }
   ],
   "source": [
    "def agg_tof_cols_per_sensor(df:DF) -> DF:\n",
    "    for tof_idx in range(1, 6):\n",
    "        tof_name = f\"tof_{tof_idx}\"\n",
    "        tof_cols = [f\"{tof_name}_v{v_idx}\" for v_idx in range(64)]\n",
    "        if any(map(lambda col: col not in df.columns, tof_cols)):\n",
    "            print(f\"Some (or) all ToF {tof_idx} columns are not in the df. Maybe you already ran this cell?\")\n",
    "            continue\n",
    "        df = (\n",
    "            df\n",
    "            # Need to use a dict otherwise the name of the col will be \"tof_preffix\" instead of the value it contains\n",
    "            .assign(**{tof_name:df[tof_cols].mean(axis=\"columns\")})\n",
    "            .drop(columns=tof_cols)\n",
    "        )\n",
    "    return df\n",
    "\n",
    "df = agg_tof_cols_per_sensor(df)\n",
    "df"
   ]
  },
  {
   "cell_type": "markdown",
   "id": "daaafef8",
   "metadata": {},
   "source": [
    "### Add derivatives w.r.t time features"
   ]
  },
  {
   "cell_type": "code",
   "execution_count": 15,
   "id": "8bd05775",
   "metadata": {},
   "outputs": [],
   "source": [
    "def add_diff_features(df:DF) -> DF:\n",
    "    df[[col + \"_diff\" for col in get_feature_cols(df)]] = (\n",
    "        df\n",
    "        .groupby(\"sequence_id\", observed=True)\n",
    "        [get_feature_cols(df)]\n",
    "        .diff()\n",
    "        .fillna(get_fillna_val_per_feature_col(df))\n",
    "        .values\n",
    "    )\n",
    "    return df\n",
    "\n",
    "df = add_diff_features(df)"
   ]
  },
  {
   "cell_type": "code",
   "execution_count": 16,
   "id": "343e0255",
   "metadata": {},
   "outputs": [
    {
     "data": {
      "text/plain": [
       "66"
      ]
     },
     "execution_count": 16,
     "metadata": {},
     "output_type": "execute_result"
    }
   ],
   "source": [
    "len(get_feature_cols(df))"
   ]
  },
  {
   "cell_type": "markdown",
   "id": "05e480d3",
   "metadata": {},
   "source": [
    "### Split into folds"
   ]
  },
  {
   "cell_type": "code",
   "execution_count": 17,
   "id": "6a97fd1c",
   "metadata": {},
   "outputs": [
    {
     "data": {
      "text/plain": [
       "['Cheek - pinch skin',\n",
       " 'Forehead - pull hairline',\n",
       " 'Write name on leg',\n",
       " 'Feel around in tray and pull out an object',\n",
       " 'Neck - scratch',\n",
       " 'Neck - pinch skin',\n",
       " 'Eyelash - pull hair',\n",
       " 'Eyebrow - pull hair',\n",
       " 'Forehead - scratch',\n",
       " 'Above ear - pull hair',\n",
       " 'Wave hello',\n",
       " 'Write name in air',\n",
       " 'Text on phone',\n",
       " 'Pull air toward your face',\n",
       " 'Pinch knee/leg skin',\n",
       " 'Scratch knee/leg skin',\n",
       " 'Drink from bottle/cup',\n",
       " 'Glasses on/off']"
      ]
     },
     "execution_count": 17,
     "metadata": {},
     "output_type": "execute_result"
    }
   ],
   "source": [
    "df[\"gesture\"].unique().tolist()"
   ]
  },
  {
   "cell_type": "code",
   "execution_count": 18,
   "id": "4bae51e8",
   "metadata": {},
   "outputs": [],
   "source": [
    "def split_dataset_stratified_groupkfold(df: pd.DataFrame, target_col: str, group_col: str) -> list[tuple[pd.DataFrame, pd.DataFrame]]:\n",
    "    sgkf = StratifiedGroupKFold(n_splits=N_FOLDS, shuffle=True)\n",
    "\n",
    "    folds = []\n",
    "    X = df.drop(columns=[target_col])\n",
    "    y = df[target_col]\n",
    "    groups = df[group_col]\n",
    "\n",
    "    for train_idx, valid_idx in sgkf.split(X, y, groups):\n",
    "        train_df = df.iloc[train_idx].copy()\n",
    "        valid_df = df.iloc[valid_idx].copy()\n",
    "        folds.append((train_df, valid_df))\n",
    "\n",
    "    return folds\n",
    "\n",
    "# Example usage:\n",
    "folds = split_dataset_stratified_groupkfold(df, target_col=\"gesture\", group_col=\"subject\")"
   ]
  },
  {
   "cell_type": "markdown",
   "id": "d81b9c0d",
   "metadata": {},
   "source": [
    "### Std norm\n",
    "Standard scale the feature cols (should probably do something different for IMU cols).  \n",
    "<!-- *Deprecated, std norm is now performed at dataset creation to avoid target leakage.*   -->"
   ]
  },
  {
   "cell_type": "code",
   "execution_count": 19,
   "id": "c9d5755e",
   "metadata": {},
   "outputs": [],
   "source": [
    "def std_norm_dataset(train:DF, val:DF) -> tuple[DF, DF]:\n",
    "    means = train[get_feature_cols(df)].mean().astype(\"float32\")\n",
    "    stds = train[get_feature_cols(df)].std().astype(\"float32\")\n",
    "    train.loc[:, get_feature_cols(df)] = (train[get_feature_cols(df)] - means) / stds\n",
    "    val.loc[:, get_feature_cols(df)] = (val[get_feature_cols(df)] - means) / stds\n",
    "    return train, val\n",
    "\n",
    "folds = list(starmap(std_norm_dataset, folds))"
   ]
  },
  {
   "cell_type": "markdown",
   "id": "b36ccf25",
   "metadata": {},
   "source": [
    "Normalize full dataset."
   ]
  },
  {
   "cell_type": "code",
   "execution_count": 20,
   "id": "9b2c7cac",
   "metadata": {},
   "outputs": [
    {
     "name": "stderr",
     "output_type": "stream",
     "text": [
      "/tmp/ipykernel_7687/629001182.py:6: FutureWarning: Setting an item of incompatible dtype is deprecated and will raise in a future error of pandas. Value '[0.87240755 0.91835342 0.70619159 ... 0.24943555 0.40213801 0.45484063]' has dtype incompatible with float32, please explicitly cast to a compatible dtype first.\n",
      "  df.loc[:, get_feature_cols(df)] = (df[get_feature_cols(df)] - full_dataset_meta_data[\"mean\"]) / full_dataset_meta_data['std']\n",
      "/tmp/ipykernel_7687/629001182.py:6: FutureWarning: Setting an item of incompatible dtype is deprecated and will raise in a future error of pandas. Value '[ 0.8841304   0.8841304   0.72331979 ... -0.31414283 -0.42967666\n",
      " -0.54442986]' has dtype incompatible with float32, please explicitly cast to a compatible dtype first.\n",
      "  df.loc[:, get_feature_cols(df)] = (df[get_feature_cols(df)] - full_dataset_meta_data[\"mean\"]) / full_dataset_meta_data['std']\n",
      "/tmp/ipykernel_7687/629001182.py:6: FutureWarning: Setting an item of incompatible dtype is deprecated and will raise in a future error of pandas. Value '[ 0.62581574  0.58801223  0.96476591 ... -1.13877547 -1.41493335\n",
      " -1.50399587]' has dtype incompatible with float32, please explicitly cast to a compatible dtype first.\n",
      "  df.loc[:, get_feature_cols(df)] = (df[get_feature_cols(df)] - full_dataset_meta_data[\"mean\"]) / full_dataset_meta_data['std']\n",
      "/tmp/ipykernel_7687/629001182.py:6: FutureWarning: Setting an item of incompatible dtype is deprecated and will raise in a future error of pandas. Value '[0.92192948 0.93580851 0.7796449  ... 0.3332821  0.43304996 0.44690426]' has dtype incompatible with float32, please explicitly cast to a compatible dtype first.\n",
      "  df.loc[:, get_feature_cols(df)] = (df[get_feature_cols(df)] - full_dataset_meta_data[\"mean\"]) / full_dataset_meta_data['std']\n",
      "/tmp/ipykernel_7687/629001182.py:6: FutureWarning: Setting an item of incompatible dtype is deprecated and will raise in a future error of pandas. Value '[ 0.37828318  0.44191741  0.66331731 ... -1.41863723 -1.47327315\n",
      " -1.56520538]' has dtype incompatible with float32, please explicitly cast to a compatible dtype first.\n",
      "  df.loc[:, get_feature_cols(df)] = (df[get_feature_cols(df)] - full_dataset_meta_data[\"mean\"]) / full_dataset_meta_data['std']\n",
      "/tmp/ipykernel_7687/629001182.py:6: FutureWarning: Setting an item of incompatible dtype is deprecated and will raise in a future error of pandas. Value '[-0.19114313 -0.23970151  0.01806238 ... -0.02437902 -0.22398579\n",
      " -0.28935106]' has dtype incompatible with float32, please explicitly cast to a compatible dtype first.\n",
      "  df.loc[:, get_feature_cols(df)] = (df[get_feature_cols(df)] - full_dataset_meta_data[\"mean\"]) / full_dataset_meta_data['std']\n",
      "/tmp/ipykernel_7687/629001182.py:6: FutureWarning: Setting an item of incompatible dtype is deprecated and will raise in a future error of pandas. Value '[-0.1543143  -0.05438018 -0.3731254  ... -1.33143173 -0.96283624\n",
      " -0.78592757]' has dtype incompatible with float32, please explicitly cast to a compatible dtype first.\n",
      "  df.loc[:, get_feature_cols(df)] = (df[get_feature_cols(df)] - full_dataset_meta_data[\"mean\"]) / full_dataset_meta_data['std']\n",
      "/tmp/ipykernel_7687/629001182.py:6: FutureWarning: Setting an item of incompatible dtype is deprecated and will raise in a future error of pandas. Value '[0.91867394 0.88599032 0.61246329 ... 0.99485484 0.97932846 0.99747807]' has dtype incompatible with float32, please explicitly cast to a compatible dtype first.\n",
      "  df.loc[:, get_feature_cols(df)] = (df[get_feature_cols(df)] - full_dataset_meta_data[\"mean\"]) / full_dataset_meta_data['std']\n",
      "/tmp/ipykernel_7687/629001182.py:6: FutureWarning: Setting an item of incompatible dtype is deprecated and will raise in a future error of pandas. Value '[-0.23869022 -0.14896993 -0.37290141 ... -1.64273835 -0.07708343\n",
      "  0.46263901]' has dtype incompatible with float32, please explicitly cast to a compatible dtype first.\n",
      "  df.loc[:, get_feature_cols(df)] = (df[get_feature_cols(df)] - full_dataset_meta_data[\"mean\"]) / full_dataset_meta_data['std']\n",
      "/tmp/ipykernel_7687/629001182.py:6: FutureWarning: Setting an item of incompatible dtype is deprecated and will raise in a future error of pandas. Value '[-0.99715055 -0.95773732 -0.63026367 ... -1.08920292 -1.07042212\n",
      " -1.09237714]' has dtype incompatible with float32, please explicitly cast to a compatible dtype first.\n",
      "  df.loc[:, get_feature_cols(df)] = (df[get_feature_cols(df)] - full_dataset_meta_data[\"mean\"]) / full_dataset_meta_data['std']\n",
      "/tmp/ipykernel_7687/629001182.py:6: FutureWarning: Setting an item of incompatible dtype is deprecated and will raise in a future error of pandas. Value '[-0.50852472 -0.4764371  -0.3341469  ... -1.60542168 -1.61081346\n",
      " -1.61396961]' has dtype incompatible with float32, please explicitly cast to a compatible dtype first.\n",
      "  df.loc[:, get_feature_cols(df)] = (df[get_feature_cols(df)] - full_dataset_meta_data[\"mean\"]) / full_dataset_meta_data['std']\n",
      "/tmp/ipykernel_7687/629001182.py:6: FutureWarning: Setting an item of incompatible dtype is deprecated and will raise in a future error of pandas. Value '[-0.7163434  -0.68184003 -0.54935162 ... -0.74193903 -0.72243223\n",
      " -0.72446184]' has dtype incompatible with float32, please explicitly cast to a compatible dtype first.\n",
      "  df.loc[:, get_feature_cols(df)] = (df[get_feature_cols(df)] - full_dataset_meta_data[\"mean\"]) / full_dataset_meta_data['std']\n",
      "/tmp/ipykernel_7687/629001182.py:6: FutureWarning: Setting an item of incompatible dtype is deprecated and will raise in a future error of pandas. Value '[-1.23853993 -1.2679199  -1.34974677 ...  0.0416742   0.01715042\n",
      "  0.03026214]' has dtype incompatible with float32, please explicitly cast to a compatible dtype first.\n",
      "  df.loc[:, get_feature_cols(df)] = (df[get_feature_cols(df)] - full_dataset_meta_data[\"mean\"]) / full_dataset_meta_data['std']\n",
      "/tmp/ipykernel_7687/629001182.py:6: FutureWarning: Setting an item of incompatible dtype is deprecated and will raise in a future error of pandas. Value '[0.50231783 0.59310455 0.82146787 ... 0.62009948 0.69565178 0.67444004]' has dtype incompatible with float32, please explicitly cast to a compatible dtype first.\n",
      "  df.loc[:, get_feature_cols(df)] = (df[get_feature_cols(df)] - full_dataset_meta_data[\"mean\"]) / full_dataset_meta_data['std']\n",
      "/tmp/ipykernel_7687/629001182.py:6: FutureWarning: Setting an item of incompatible dtype is deprecated and will raise in a future error of pandas. Value '[1.18477426 1.19708885 0.97652363 ... 0.30165955 0.38943235 0.37884916]' has dtype incompatible with float32, please explicitly cast to a compatible dtype first.\n",
      "  df.loc[:, get_feature_cols(df)] = (df[get_feature_cols(df)] - full_dataset_meta_data[\"mean\"]) / full_dataset_meta_data['std']\n",
      "/tmp/ipykernel_7687/629001182.py:6: FutureWarning: Setting an item of incompatible dtype is deprecated and will raise in a future error of pandas. Value '[0.63344209 0.68143673 0.74140548 ... 0.29969805 0.33057229 0.31433888]' has dtype incompatible with float32, please explicitly cast to a compatible dtype first.\n",
      "  df.loc[:, get_feature_cols(df)] = (df[get_feature_cols(df)] - full_dataset_meta_data[\"mean\"]) / full_dataset_meta_data['std']\n",
      "/tmp/ipykernel_7687/629001182.py:6: FutureWarning: Setting an item of incompatible dtype is deprecated and will raise in a future error of pandas. Value '[0.36724552 0.38668742 0.42327279 ... 0.84895603 0.86489636 0.87229757]' has dtype incompatible with float32, please explicitly cast to a compatible dtype first.\n",
      "  df.loc[:, get_feature_cols(df)] = (df[get_feature_cols(df)] - full_dataset_meta_data[\"mean\"]) / full_dataset_meta_data['std']\n",
      "/tmp/ipykernel_7687/629001182.py:6: FutureWarning: Setting an item of incompatible dtype is deprecated and will raise in a future error of pandas. Value '[0.47793803 0.49229795 0.5108575  ... 0.61815265 0.56165606 0.56047498]' has dtype incompatible with float32, please explicitly cast to a compatible dtype first.\n",
      "  df.loc[:, get_feature_cols(df)] = (df[get_feature_cols(df)] - full_dataset_meta_data[\"mean\"]) / full_dataset_meta_data['std']\n",
      "/tmp/ipykernel_7687/629001182.py:6: FutureWarning: Setting an item of incompatible dtype is deprecated and will raise in a future error of pandas. Value '[ 0.33957131  0.34994752  0.39886392 ... -1.03749939 -1.02712318\n",
      " -0.99451225]' has dtype incompatible with float32, please explicitly cast to a compatible dtype first.\n",
      "  df.loc[:, get_feature_cols(df)] = (df[get_feature_cols(df)] - full_dataset_meta_data[\"mean\"]) / full_dataset_meta_data['std']\n",
      "/tmp/ipykernel_7687/629001182.py:6: FutureWarning: Setting an item of incompatible dtype is deprecated and will raise in a future error of pandas. Value '[ 0.14872681  0.19953096  0.37176939 ... -0.9259047  -0.894307\n",
      " -0.88129619]' has dtype incompatible with float32, please explicitly cast to a compatible dtype first.\n",
      "  df.loc[:, get_feature_cols(df)] = (df[get_feature_cols(df)] - full_dataset_meta_data[\"mean\"]) / full_dataset_meta_data['std']\n",
      "/tmp/ipykernel_7687/629001182.py:6: FutureWarning: Setting an item of incompatible dtype is deprecated and will raise in a future error of pandas. Value '[-0.45493793 -0.33714769  0.02242254 ...  0.39941038  0.46789995\n",
      "  0.5316661 ]' has dtype incompatible with float32, please explicitly cast to a compatible dtype first.\n",
      "  df.loc[:, get_feature_cols(df)] = (df[get_feature_cols(df)] - full_dataset_meta_data[\"mean\"]) / full_dataset_meta_data['std']\n",
      "/tmp/ipykernel_7687/629001182.py:6: FutureWarning: Setting an item of incompatible dtype is deprecated and will raise in a future error of pandas. Value '[-0.01677826  0.00259618  0.02630819 ... -1.00227249 -0.90048435\n",
      " -0.89527928]' has dtype incompatible with float32, please explicitly cast to a compatible dtype first.\n",
      "  df.loc[:, get_feature_cols(df)] = (df[get_feature_cols(df)] - full_dataset_meta_data[\"mean\"]) / full_dataset_meta_data['std']\n",
      "/tmp/ipykernel_7687/629001182.py:6: FutureWarning: Setting an item of incompatible dtype is deprecated and will raise in a future error of pandas. Value '[ 0.40467845  0.43377058  0.49058256 ... -0.96320044 -1.007662\n",
      " -1.00162401]' has dtype incompatible with float32, please explicitly cast to a compatible dtype first.\n",
      "  df.loc[:, get_feature_cols(df)] = (df[get_feature_cols(df)] - full_dataset_meta_data[\"mean\"]) / full_dataset_meta_data['std']\n"
     ]
    }
   ],
   "source": [
    "# Retain full dataset meta data for inference\n",
    "full_dataset_meta_data = {\n",
    "    \"mean\": df[get_feature_cols(df)].mean().astype(\"float32\").to_dict(),\n",
    "    \"std\": df[get_feature_cols(df)].std().astype(\"float32\").to_dict(),\n",
    "}\n",
    "df.loc[:, get_feature_cols(df)] = (df[get_feature_cols(df)] - full_dataset_meta_data[\"mean\"]) / full_dataset_meta_data['std']"
   ]
  },
  {
   "cell_type": "markdown",
   "id": "7d8a04ce",
   "metadata": {},
   "source": [
    "Verify the mean and std of the full dataset."
   ]
  },
  {
   "cell_type": "code",
   "execution_count": 21,
   "id": "b02ca859",
   "metadata": {},
   "outputs": [
    {
     "data": {
      "text/html": [
       "<div>\n",
       "<style scoped>\n",
       "    .dataframe tbody tr th:only-of-type {\n",
       "        vertical-align: middle;\n",
       "    }\n",
       "\n",
       "    .dataframe tbody tr th {\n",
       "        vertical-align: top;\n",
       "    }\n",
       "\n",
       "    .dataframe thead th {\n",
       "        text-align: right;\n",
       "    }\n",
       "</style>\n",
       "<table border=\"1\" class=\"dataframe\">\n",
       "  <thead>\n",
       "    <tr style=\"text-align: right;\">\n",
       "      <th></th>\n",
       "      <th>acc_x</th>\n",
       "      <th>acc_x_diff</th>\n",
       "      <th>acc_y</th>\n",
       "      <th>acc_y_diff</th>\n",
       "      <th>acc_z</th>\n",
       "      <th>acc_z_diff</th>\n",
       "      <th>angular_vel_x</th>\n",
       "      <th>angular_vel_x_diff</th>\n",
       "      <th>angular_vel_y</th>\n",
       "      <th>angular_vel_y_diff</th>\n",
       "      <th>...</th>\n",
       "      <th>tof_1</th>\n",
       "      <th>tof_1_diff</th>\n",
       "      <th>tof_2</th>\n",
       "      <th>tof_2_diff</th>\n",
       "      <th>tof_3</th>\n",
       "      <th>tof_3_diff</th>\n",
       "      <th>tof_4</th>\n",
       "      <th>tof_4_diff</th>\n",
       "      <th>tof_5</th>\n",
       "      <th>tof_5_diff</th>\n",
       "    </tr>\n",
       "  </thead>\n",
       "  <tbody>\n",
       "    <tr>\n",
       "      <th>mean</th>\n",
       "      <td>-1.749467e-08</td>\n",
       "      <td>-3.192562e-10</td>\n",
       "      <td>1.186949e-08</td>\n",
       "      <td>-1.666452e-10</td>\n",
       "      <td>-2.971537e-09</td>\n",
       "      <td>-3.622585e-10</td>\n",
       "      <td>8.305834e-10</td>\n",
       "      <td>4.009440e-10</td>\n",
       "      <td>-5.170893e-10</td>\n",
       "      <td>-1.785537e-10</td>\n",
       "      <td>...</td>\n",
       "      <td>1.908273e-07</td>\n",
       "      <td>-2.311552e-10</td>\n",
       "      <td>1.687596e-08</td>\n",
       "      <td>8.222476e-10</td>\n",
       "      <td>2.663846e-09</td>\n",
       "      <td>-6.040385e-10</td>\n",
       "      <td>1.404808e-08</td>\n",
       "      <td>6.444108e-11</td>\n",
       "      <td>-5.993022e-08</td>\n",
       "      <td>-8.028372e-11</td>\n",
       "    </tr>\n",
       "    <tr>\n",
       "      <th>std</th>\n",
       "      <td>1.000000e+00</td>\n",
       "      <td>1.000000e+00</td>\n",
       "      <td>1.000000e+00</td>\n",
       "      <td>1.000000e+00</td>\n",
       "      <td>1.000000e+00</td>\n",
       "      <td>1.000000e+00</td>\n",
       "      <td>1.000000e+00</td>\n",
       "      <td>1.000000e+00</td>\n",
       "      <td>1.000000e+00</td>\n",
       "      <td>1.000000e+00</td>\n",
       "      <td>...</td>\n",
       "      <td>1.000000e+00</td>\n",
       "      <td>1.000000e+00</td>\n",
       "      <td>1.000000e+00</td>\n",
       "      <td>1.000000e+00</td>\n",
       "      <td>1.000000e+00</td>\n",
       "      <td>1.000000e+00</td>\n",
       "      <td>1.000000e+00</td>\n",
       "      <td>1.000000e+00</td>\n",
       "      <td>1.000000e+00</td>\n",
       "      <td>1.000000e+00</td>\n",
       "    </tr>\n",
       "  </tbody>\n",
       "</table>\n",
       "<p>2 rows × 66 columns</p>\n",
       "</div>"
      ],
      "text/plain": [
       "             acc_x    acc_x_diff         acc_y    acc_y_diff         acc_z  \\\n",
       "mean -1.749467e-08 -3.192562e-10  1.186949e-08 -1.666452e-10 -2.971537e-09   \n",
       "std   1.000000e+00  1.000000e+00  1.000000e+00  1.000000e+00  1.000000e+00   \n",
       "\n",
       "        acc_z_diff  angular_vel_x  angular_vel_x_diff  angular_vel_y  \\\n",
       "mean -3.622585e-10   8.305834e-10        4.009440e-10  -5.170893e-10   \n",
       "std   1.000000e+00   1.000000e+00        1.000000e+00   1.000000e+00   \n",
       "\n",
       "      angular_vel_y_diff  ...         tof_1    tof_1_diff         tof_2  \\\n",
       "mean       -1.785537e-10  ...  1.908273e-07 -2.311552e-10  1.687596e-08   \n",
       "std         1.000000e+00  ...  1.000000e+00  1.000000e+00  1.000000e+00   \n",
       "\n",
       "        tof_2_diff         tof_3    tof_3_diff         tof_4    tof_4_diff  \\\n",
       "mean  8.222476e-10  2.663846e-09 -6.040385e-10  1.404808e-08  6.444108e-11   \n",
       "std   1.000000e+00  1.000000e+00  1.000000e+00  1.000000e+00  1.000000e+00   \n",
       "\n",
       "             tof_5    tof_5_diff  \n",
       "mean -5.993022e-08 -8.028372e-11  \n",
       "std   1.000000e+00  1.000000e+00  \n",
       "\n",
       "[2 rows x 66 columns]"
      ]
     },
     "execution_count": 21,
     "metadata": {},
     "output_type": "execute_result"
    }
   ],
   "source": [
    "df[get_feature_cols(df)].agg([\"mean\", \"std\"])"
   ]
  },
  {
   "cell_type": "markdown",
   "id": "f840652f",
   "metadata": {},
   "source": [
    "Let's compare the train to validation mean/std skews."
   ]
  },
  {
   "cell_type": "code",
   "execution_count": 22,
   "id": "9ce0ae47",
   "metadata": {},
   "outputs": [
    {
     "data": {
      "text/html": [
       "<div>\n",
       "<style scoped>\n",
       "    .dataframe tbody tr th:only-of-type {\n",
       "        vertical-align: middle;\n",
       "    }\n",
       "\n",
       "    .dataframe tbody tr th {\n",
       "        vertical-align: top;\n",
       "    }\n",
       "\n",
       "    .dataframe thead th {\n",
       "        text-align: right;\n",
       "    }\n",
       "</style>\n",
       "<table border=\"1\" class=\"dataframe\">\n",
       "  <thead>\n",
       "    <tr style=\"text-align: right;\">\n",
       "      <th></th>\n",
       "      <th></th>\n",
       "      <th>acc_x</th>\n",
       "      <th>acc_x_diff</th>\n",
       "      <th>acc_y</th>\n",
       "      <th>acc_y_diff</th>\n",
       "      <th>acc_z</th>\n",
       "      <th>acc_z_diff</th>\n",
       "      <th>angular_vel_x</th>\n",
       "      <th>angular_vel_x_diff</th>\n",
       "      <th>angular_vel_y</th>\n",
       "      <th>angular_vel_y_diff</th>\n",
       "      <th>...</th>\n",
       "      <th>tof_1</th>\n",
       "      <th>tof_1_diff</th>\n",
       "      <th>tof_2</th>\n",
       "      <th>tof_2_diff</th>\n",
       "      <th>tof_3</th>\n",
       "      <th>tof_3_diff</th>\n",
       "      <th>tof_4</th>\n",
       "      <th>tof_4_diff</th>\n",
       "      <th>tof_5</th>\n",
       "      <th>tof_5_diff</th>\n",
       "    </tr>\n",
       "  </thead>\n",
       "  <tbody>\n",
       "    <tr>\n",
       "      <th rowspan=\"2\" valign=\"top\">train</th>\n",
       "      <th>mean</th>\n",
       "      <td>-3.960707e-09</td>\n",
       "      <td>-7.119836e-10</td>\n",
       "      <td>-2.587662e-08</td>\n",
       "      <td>-1.499695e-10</td>\n",
       "      <td>-1.901139e-08</td>\n",
       "      <td>1.550206e-09</td>\n",
       "      <td>1.647441e-10</td>\n",
       "      <td>-2.924493e-10</td>\n",
       "      <td>2.390111e-10</td>\n",
       "      <td>3.607899e-10</td>\n",
       "      <td>...</td>\n",
       "      <td>-7.261296e-08</td>\n",
       "      <td>3.671856e-10</td>\n",
       "      <td>-1.241022e-08</td>\n",
       "      <td>1.935463e-10</td>\n",
       "      <td>-5.544990e-08</td>\n",
       "      <td>2.354477e-10</td>\n",
       "      <td>-1.953949e-08</td>\n",
       "      <td>4.316228e-10</td>\n",
       "      <td>-6.020274e-08</td>\n",
       "      <td>-7.631861e-12</td>\n",
       "    </tr>\n",
       "    <tr>\n",
       "      <th>std</th>\n",
       "      <td>9.999999e-01</td>\n",
       "      <td>1.000000e+00</td>\n",
       "      <td>1.000000e+00</td>\n",
       "      <td>1.000000e+00</td>\n",
       "      <td>1.000000e+00</td>\n",
       "      <td>1.000000e+00</td>\n",
       "      <td>1.000000e+00</td>\n",
       "      <td>1.000000e+00</td>\n",
       "      <td>1.000000e+00</td>\n",
       "      <td>1.000000e+00</td>\n",
       "      <td>...</td>\n",
       "      <td>1.000000e+00</td>\n",
       "      <td>1.000000e+00</td>\n",
       "      <td>1.000000e+00</td>\n",
       "      <td>1.000000e+00</td>\n",
       "      <td>1.000000e+00</td>\n",
       "      <td>1.000000e+00</td>\n",
       "      <td>1.000000e+00</td>\n",
       "      <td>1.000000e+00</td>\n",
       "      <td>9.999999e-01</td>\n",
       "      <td>1.000000e+00</td>\n",
       "    </tr>\n",
       "    <tr>\n",
       "      <th rowspan=\"2\" valign=\"top\">validation</th>\n",
       "      <th>mean</th>\n",
       "      <td>-1.151082e-02</td>\n",
       "      <td>-1.362219e-03</td>\n",
       "      <td>7.247336e-02</td>\n",
       "      <td>1.321800e-03</td>\n",
       "      <td>-2.688467e-02</td>\n",
       "      <td>6.080548e-03</td>\n",
       "      <td>3.185224e-03</td>\n",
       "      <td>-1.696636e-03</td>\n",
       "      <td>1.361521e-02</td>\n",
       "      <td>-6.836507e-03</td>\n",
       "      <td>...</td>\n",
       "      <td>-1.762115e-01</td>\n",
       "      <td>1.460750e-03</td>\n",
       "      <td>-1.797978e-01</td>\n",
       "      <td>2.075302e-03</td>\n",
       "      <td>-1.596343e-01</td>\n",
       "      <td>3.929143e-03</td>\n",
       "      <td>-1.796857e-01</td>\n",
       "      <td>1.246480e-03</td>\n",
       "      <td>-4.049730e-02</td>\n",
       "      <td>3.301809e-03</td>\n",
       "    </tr>\n",
       "    <tr>\n",
       "      <th>std</th>\n",
       "      <td>1.006927e+00</td>\n",
       "      <td>9.908973e-01</td>\n",
       "      <td>9.593747e-01</td>\n",
       "      <td>9.422414e-01</td>\n",
       "      <td>9.903418e-01</td>\n",
       "      <td>9.999893e-01</td>\n",
       "      <td>1.005739e+00</td>\n",
       "      <td>1.026171e+00</td>\n",
       "      <td>1.036483e+00</td>\n",
       "      <td>1.039976e+00</td>\n",
       "      <td>...</td>\n",
       "      <td>1.134178e+00</td>\n",
       "      <td>1.010892e+00</td>\n",
       "      <td>1.102369e+00</td>\n",
       "      <td>9.921692e-01</td>\n",
       "      <td>1.112410e+00</td>\n",
       "      <td>1.016164e+00</td>\n",
       "      <td>1.152484e+00</td>\n",
       "      <td>9.828607e-01</td>\n",
       "      <td>9.982337e-01</td>\n",
       "      <td>9.963560e-01</td>\n",
       "    </tr>\n",
       "  </tbody>\n",
       "</table>\n",
       "<p>4 rows × 66 columns</p>\n",
       "</div>"
      ],
      "text/plain": [
       "                        acc_x    acc_x_diff         acc_y    acc_y_diff  \\\n",
       "train      mean -3.960707e-09 -7.119836e-10 -2.587662e-08 -1.499695e-10   \n",
       "           std   9.999999e-01  1.000000e+00  1.000000e+00  1.000000e+00   \n",
       "validation mean -1.151082e-02 -1.362219e-03  7.247336e-02  1.321800e-03   \n",
       "           std   1.006927e+00  9.908973e-01  9.593747e-01  9.422414e-01   \n",
       "\n",
       "                        acc_z    acc_z_diff  angular_vel_x  \\\n",
       "train      mean -1.901139e-08  1.550206e-09   1.647441e-10   \n",
       "           std   1.000000e+00  1.000000e+00   1.000000e+00   \n",
       "validation mean -2.688467e-02  6.080548e-03   3.185224e-03   \n",
       "           std   9.903418e-01  9.999893e-01   1.005739e+00   \n",
       "\n",
       "                 angular_vel_x_diff  angular_vel_y  angular_vel_y_diff  ...  \\\n",
       "train      mean       -2.924493e-10   2.390111e-10        3.607899e-10  ...   \n",
       "           std         1.000000e+00   1.000000e+00        1.000000e+00  ...   \n",
       "validation mean       -1.696636e-03   1.361521e-02       -6.836507e-03  ...   \n",
       "           std         1.026171e+00   1.036483e+00        1.039976e+00  ...   \n",
       "\n",
       "                        tof_1    tof_1_diff         tof_2    tof_2_diff  \\\n",
       "train      mean -7.261296e-08  3.671856e-10 -1.241022e-08  1.935463e-10   \n",
       "           std   1.000000e+00  1.000000e+00  1.000000e+00  1.000000e+00   \n",
       "validation mean -1.762115e-01  1.460750e-03 -1.797978e-01  2.075302e-03   \n",
       "           std   1.134178e+00  1.010892e+00  1.102369e+00  9.921692e-01   \n",
       "\n",
       "                        tof_3    tof_3_diff         tof_4    tof_4_diff  \\\n",
       "train      mean -5.544990e-08  2.354477e-10 -1.953949e-08  4.316228e-10   \n",
       "           std   1.000000e+00  1.000000e+00  1.000000e+00  1.000000e+00   \n",
       "validation mean -1.596343e-01  3.929143e-03 -1.796857e-01  1.246480e-03   \n",
       "           std   1.112410e+00  1.016164e+00  1.152484e+00  9.828607e-01   \n",
       "\n",
       "                        tof_5    tof_5_diff  \n",
       "train      mean -6.020274e-08 -7.631861e-12  \n",
       "           std   9.999999e-01  1.000000e+00  \n",
       "validation mean -4.049730e-02  3.301809e-03  \n",
       "           std   9.982337e-01  9.963560e-01  \n",
       "\n",
       "[4 rows x 66 columns]"
      ]
     },
     "execution_count": 22,
     "metadata": {},
     "output_type": "execute_result"
    }
   ],
   "source": [
    "pd.concat({\n",
    "    \"train\": folds[0][0][get_feature_cols(df)].agg([\"mean\", \"std\"]),\n",
    "    \"validation\": folds[0][1][get_feature_cols(df)].agg([\"mean\", \"std\"]),\n",
    "})"
   ]
  },
  {
   "cell_type": "markdown",
   "id": "9bc09714",
   "metadata": {},
   "source": [
    "### Normalize sequences lengths.  \n",
    "And turn the Dataframes into ndarrays."
   ]
  },
  {
   "cell_type": "markdown",
   "id": "76699499",
   "metadata": {},
   "source": [
    "#### Visualize histogram of sequences lengths."
   ]
  },
  {
   "cell_type": "markdown",
   "id": "b3477111",
   "metadata": {},
   "source": [
    "Entire dataset sequences lengths."
   ]
  },
  {
   "cell_type": "code",
   "execution_count": 23,
   "id": "876907d8",
   "metadata": {},
   "outputs": [
    {
     "data": {
      "application/vnd.plotly.v1+json": {
       "config": {
        "plotlyServerURL": "https://plot.ly"
       },
       "data": [
        {
         "bingroup": "x",
         "hovertemplate": "variable=0<br>value=%{x}<br>count=%{y}<extra></extra>",
         "legendgroup": "0",
         "marker": {
          "color": "#636efa",
          "pattern": {
           "shape": ""
          }
         },
         "name": "0",
         "orientation": "v",
         "showlegend": true,
         "type": "histogram",
         "x": {
          "bdata": "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",
          "dtype": "i2"
         },
         "xaxis": "x",
         "yaxis": "y"
        }
       ],
       "layout": {
        "barmode": "relative",
        "legend": {
         "title": {
          "text": "variable"
         },
         "tracegroupgap": 0
        },
        "template": {
         "data": {
          "bar": [
           {
            "error_x": {
             "color": "#2a3f5f"
            },
            "error_y": {
             "color": "#2a3f5f"
            },
            "marker": {
             "line": {
              "color": "#E5ECF6",
              "width": 0.5
             },
             "pattern": {
              "fillmode": "overlay",
              "size": 10,
              "solidity": 0.2
             }
            },
            "type": "bar"
           }
          ],
          "barpolar": [
           {
            "marker": {
             "line": {
              "color": "#E5ECF6",
              "width": 0.5
             },
             "pattern": {
              "fillmode": "overlay",
              "size": 10,
              "solidity": 0.2
             }
            },
            "type": "barpolar"
           }
          ],
          "carpet": [
           {
            "aaxis": {
             "endlinecolor": "#2a3f5f",
             "gridcolor": "white",
             "linecolor": "white",
             "minorgridcolor": "white",
             "startlinecolor": "#2a3f5f"
            },
            "baxis": {
             "endlinecolor": "#2a3f5f",
             "gridcolor": "white",
             "linecolor": "white",
             "minorgridcolor": "white",
             "startlinecolor": "#2a3f5f"
            },
            "type": "carpet"
           }
          ],
          "choropleth": [
           {
            "colorbar": {
             "outlinewidth": 0,
             "ticks": ""
            },
            "type": "choropleth"
           }
          ],
          "contour": [
           {
            "colorbar": {
             "outlinewidth": 0,
             "ticks": ""
            },
            "colorscale": [
             [
              0,
              "#0d0887"
             ],
             [
              0.1111111111111111,
              "#46039f"
             ],
             [
              0.2222222222222222,
              "#7201a8"
             ],
             [
              0.3333333333333333,
              "#9c179e"
             ],
             [
              0.4444444444444444,
              "#bd3786"
             ],
             [
              0.5555555555555556,
              "#d8576b"
             ],
             [
              0.6666666666666666,
              "#ed7953"
             ],
             [
              0.7777777777777778,
              "#fb9f3a"
             ],
             [
              0.8888888888888888,
              "#fdca26"
             ],
             [
              1,
              "#f0f921"
             ]
            ],
            "type": "contour"
           }
          ],
          "contourcarpet": [
           {
            "colorbar": {
             "outlinewidth": 0,
             "ticks": ""
            },
            "type": "contourcarpet"
           }
          ],
          "heatmap": [
           {
            "colorbar": {
             "outlinewidth": 0,
             "ticks": ""
            },
            "colorscale": [
             [
              0,
              "#0d0887"
             ],
             [
              0.1111111111111111,
              "#46039f"
             ],
             [
              0.2222222222222222,
              "#7201a8"
             ],
             [
              0.3333333333333333,
              "#9c179e"
             ],
             [
              0.4444444444444444,
              "#bd3786"
             ],
             [
              0.5555555555555556,
              "#d8576b"
             ],
             [
              0.6666666666666666,
              "#ed7953"
             ],
             [
              0.7777777777777778,
              "#fb9f3a"
             ],
             [
              0.8888888888888888,
              "#fdca26"
             ],
             [
              1,
              "#f0f921"
             ]
            ],
            "type": "heatmap"
           }
          ],
          "histogram": [
           {
            "marker": {
             "pattern": {
              "fillmode": "overlay",
              "size": 10,
              "solidity": 0.2
             }
            },
            "type": "histogram"
           }
          ],
          "histogram2d": [
           {
            "colorbar": {
             "outlinewidth": 0,
             "ticks": ""
            },
            "colorscale": [
             [
              0,
              "#0d0887"
             ],
             [
              0.1111111111111111,
              "#46039f"
             ],
             [
              0.2222222222222222,
              "#7201a8"
             ],
             [
              0.3333333333333333,
              "#9c179e"
             ],
             [
              0.4444444444444444,
              "#bd3786"
             ],
             [
              0.5555555555555556,
              "#d8576b"
             ],
             [
              0.6666666666666666,
              "#ed7953"
             ],
             [
              0.7777777777777778,
              "#fb9f3a"
             ],
             [
              0.8888888888888888,
              "#fdca26"
             ],
             [
              1,
              "#f0f921"
             ]
            ],
            "type": "histogram2d"
           }
          ],
          "histogram2dcontour": [
           {
            "colorbar": {
             "outlinewidth": 0,
             "ticks": ""
            },
            "colorscale": [
             [
              0,
              "#0d0887"
             ],
             [
              0.1111111111111111,
              "#46039f"
             ],
             [
              0.2222222222222222,
              "#7201a8"
             ],
             [
              0.3333333333333333,
              "#9c179e"
             ],
             [
              0.4444444444444444,
              "#bd3786"
             ],
             [
              0.5555555555555556,
              "#d8576b"
             ],
             [
              0.6666666666666666,
              "#ed7953"
             ],
             [
              0.7777777777777778,
              "#fb9f3a"
             ],
             [
              0.8888888888888888,
              "#fdca26"
             ],
             [
              1,
              "#f0f921"
             ]
            ],
            "type": "histogram2dcontour"
           }
          ],
          "mesh3d": [
           {
            "colorbar": {
             "outlinewidth": 0,
             "ticks": ""
            },
            "type": "mesh3d"
           }
          ],
          "parcoords": [
           {
            "line": {
             "colorbar": {
              "outlinewidth": 0,
              "ticks": ""
             }
            },
            "type": "parcoords"
           }
          ],
          "pie": [
           {
            "automargin": true,
            "type": "pie"
           }
          ],
          "scatter": [
           {
            "fillpattern": {
             "fillmode": "overlay",
             "size": 10,
             "solidity": 0.2
            },
            "type": "scatter"
           }
          ],
          "scatter3d": [
           {
            "line": {
             "colorbar": {
              "outlinewidth": 0,
              "ticks": ""
             }
            },
            "marker": {
             "colorbar": {
              "outlinewidth": 0,
              "ticks": ""
             }
            },
            "type": "scatter3d"
           }
          ],
          "scattercarpet": [
           {
            "marker": {
             "colorbar": {
              "outlinewidth": 0,
              "ticks": ""
             }
            },
            "type": "scattercarpet"
           }
          ],
          "scattergeo": [
           {
            "marker": {
             "colorbar": {
              "outlinewidth": 0,
              "ticks": ""
             }
            },
            "type": "scattergeo"
           }
          ],
          "scattergl": [
           {
            "marker": {
             "colorbar": {
              "outlinewidth": 0,
              "ticks": ""
             }
            },
            "type": "scattergl"
           }
          ],
          "scattermap": [
           {
            "marker": {
             "colorbar": {
              "outlinewidth": 0,
              "ticks": ""
             }
            },
            "type": "scattermap"
           }
          ],
          "scattermapbox": [
           {
            "marker": {
             "colorbar": {
              "outlinewidth": 0,
              "ticks": ""
             }
            },
            "type": "scattermapbox"
           }
          ],
          "scatterpolar": [
           {
            "marker": {
             "colorbar": {
              "outlinewidth": 0,
              "ticks": ""
             }
            },
            "type": "scatterpolar"
           }
          ],
          "scatterpolargl": [
           {
            "marker": {
             "colorbar": {
              "outlinewidth": 0,
              "ticks": ""
             }
            },
            "type": "scatterpolargl"
           }
          ],
          "scatterternary": [
           {
            "marker": {
             "colorbar": {
              "outlinewidth": 0,
              "ticks": ""
             }
            },
            "type": "scatterternary"
           }
          ],
          "surface": [
           {
            "colorbar": {
             "outlinewidth": 0,
             "ticks": ""
            },
            "colorscale": [
             [
              0,
              "#0d0887"
             ],
             [
              0.1111111111111111,
              "#46039f"
             ],
             [
              0.2222222222222222,
              "#7201a8"
             ],
             [
              0.3333333333333333,
              "#9c179e"
             ],
             [
              0.4444444444444444,
              "#bd3786"
             ],
             [
              0.5555555555555556,
              "#d8576b"
             ],
             [
              0.6666666666666666,
              "#ed7953"
             ],
             [
              0.7777777777777778,
              "#fb9f3a"
             ],
             [
              0.8888888888888888,
              "#fdca26"
             ],
             [
              1,
              "#f0f921"
             ]
            ],
            "type": "surface"
           }
          ],
          "table": [
           {
            "cells": {
             "fill": {
              "color": "#EBF0F8"
             },
             "line": {
              "color": "white"
             }
            },
            "header": {
             "fill": {
              "color": "#C8D4E3"
             },
             "line": {
              "color": "white"
             }
            },
            "type": "table"
           }
          ]
         },
         "layout": {
          "annotationdefaults": {
           "arrowcolor": "#2a3f5f",
           "arrowhead": 0,
           "arrowwidth": 1
          },
          "autotypenumbers": "strict",
          "coloraxis": {
           "colorbar": {
            "outlinewidth": 0,
            "ticks": ""
           }
          },
          "colorscale": {
           "diverging": [
            [
             0,
             "#8e0152"
            ],
            [
             0.1,
             "#c51b7d"
            ],
            [
             0.2,
             "#de77ae"
            ],
            [
             0.3,
             "#f1b6da"
            ],
            [
             0.4,
             "#fde0ef"
            ],
            [
             0.5,
             "#f7f7f7"
            ],
            [
             0.6,
             "#e6f5d0"
            ],
            [
             0.7,
             "#b8e186"
            ],
            [
             0.8,
             "#7fbc41"
            ],
            [
             0.9,
             "#4d9221"
            ],
            [
             1,
             "#276419"
            ]
           ],
           "sequential": [
            [
             0,
             "#0d0887"
            ],
            [
             0.1111111111111111,
             "#46039f"
            ],
            [
             0.2222222222222222,
             "#7201a8"
            ],
            [
             0.3333333333333333,
             "#9c179e"
            ],
            [
             0.4444444444444444,
             "#bd3786"
            ],
            [
             0.5555555555555556,
             "#d8576b"
            ],
            [
             0.6666666666666666,
             "#ed7953"
            ],
            [
             0.7777777777777778,
             "#fb9f3a"
            ],
            [
             0.8888888888888888,
             "#fdca26"
            ],
            [
             1,
             "#f0f921"
            ]
           ],
           "sequentialminus": [
            [
             0,
             "#0d0887"
            ],
            [
             0.1111111111111111,
             "#46039f"
            ],
            [
             0.2222222222222222,
             "#7201a8"
            ],
            [
             0.3333333333333333,
             "#9c179e"
            ],
            [
             0.4444444444444444,
             "#bd3786"
            ],
            [
             0.5555555555555556,
             "#d8576b"
            ],
            [
             0.6666666666666666,
             "#ed7953"
            ],
            [
             0.7777777777777778,
             "#fb9f3a"
            ],
            [
             0.8888888888888888,
             "#fdca26"
            ],
            [
             1,
             "#f0f921"
            ]
           ]
          },
          "colorway": [
           "#636efa",
           "#EF553B",
           "#00cc96",
           "#ab63fa",
           "#FFA15A",
           "#19d3f3",
           "#FF6692",
           "#B6E880",
           "#FF97FF",
           "#FECB52"
          ],
          "font": {
           "color": "#2a3f5f"
          },
          "geo": {
           "bgcolor": "white",
           "lakecolor": "white",
           "landcolor": "#E5ECF6",
           "showlakes": true,
           "showland": true,
           "subunitcolor": "white"
          },
          "hoverlabel": {
           "align": "left"
          },
          "hovermode": "closest",
          "mapbox": {
           "style": "light"
          },
          "paper_bgcolor": "white",
          "plot_bgcolor": "#E5ECF6",
          "polar": {
           "angularaxis": {
            "gridcolor": "white",
            "linecolor": "white",
            "ticks": ""
           },
           "bgcolor": "#E5ECF6",
           "radialaxis": {
            "gridcolor": "white",
            "linecolor": "white",
            "ticks": ""
           }
          },
          "scene": {
           "xaxis": {
            "backgroundcolor": "#E5ECF6",
            "gridcolor": "white",
            "gridwidth": 2,
            "linecolor": "white",
            "showbackground": true,
            "ticks": "",
            "zerolinecolor": "white"
           },
           "yaxis": {
            "backgroundcolor": "#E5ECF6",
            "gridcolor": "white",
            "gridwidth": 2,
            "linecolor": "white",
            "showbackground": true,
            "ticks": "",
            "zerolinecolor": "white"
           },
           "zaxis": {
            "backgroundcolor": "#E5ECF6",
            "gridcolor": "white",
            "gridwidth": 2,
            "linecolor": "white",
            "showbackground": true,
            "ticks": "",
            "zerolinecolor": "white"
           }
          },
          "shapedefaults": {
           "line": {
            "color": "#2a3f5f"
           }
          },
          "ternary": {
           "aaxis": {
            "gridcolor": "white",
            "linecolor": "white",
            "ticks": ""
           },
           "baxis": {
            "gridcolor": "white",
            "linecolor": "white",
            "ticks": ""
           },
           "bgcolor": "#E5ECF6",
           "caxis": {
            "gridcolor": "white",
            "linecolor": "white",
            "ticks": ""
           }
          },
          "title": {
           "x": 0.05
          },
          "xaxis": {
           "automargin": true,
           "gridcolor": "white",
           "linecolor": "white",
           "ticks": "",
           "title": {
            "standoff": 15
           },
           "zerolinecolor": "white",
           "zerolinewidth": 2
          },
          "yaxis": {
           "automargin": true,
           "gridcolor": "white",
           "linecolor": "white",
           "ticks": "",
           "title": {
            "standoff": 15
           },
           "zerolinecolor": "white",
           "zerolinewidth": 2
          }
         }
        },
        "title": {
         "text": "Sequence length frequency"
        },
        "xaxis": {
         "anchor": "y",
         "domain": [
          0,
          1
         ],
         "title": {
          "text": "value"
         }
        },
        "yaxis": {
         "anchor": "x",
         "domain": [
          0,
          1
         ],
         "title": {
          "text": "count"
         }
        }
       }
      }
     },
     "metadata": {},
     "output_type": "display_data"
    }
   ],
   "source": [
    "px.histogram(\n",
    "    (\n",
    "        df\n",
    "        .groupby(\"sequence_id\", observed=True)\n",
    "        .size()\n",
    "    ),\n",
    "    title=\"Sequence length frequency\",\n",
    ")"
   ]
  },
  {
   "cell_type": "markdown",
   "id": "24e72f4e",
   "metadata": {},
   "source": [
    "Second(to avoid always look at the first one) Train/validation split sequences lengths comparaison."
   ]
  },
  {
   "cell_type": "code",
   "execution_count": 24,
   "id": "1a39bfce",
   "metadata": {},
   "outputs": [
    {
     "data": {
      "application/vnd.plotly.v1+json": {
       "config": {
        "plotlyServerURL": "https://plot.ly"
       },
       "data": [
        {
         "bingroup": "x",
         "hovertemplate": "set=Train<br>length=%{x}<br>count=%{y}<extra></extra>",
         "legendgroup": "Train",
         "marker": {
          "color": "#636efa",
          "opacity": 0.5,
          "pattern": {
           "shape": ""
          }
         },
         "name": "Train",
         "nbinsx": 50,
         "opacity": 0.8,
         "orientation": "v",
         "showlegend": true,
         "type": "histogram",
         "x": {
          "bdata": "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",
          "dtype": "i2"
         },
         "xaxis": "x",
         "yaxis": "y"
        },
        {
         "bingroup": "x",
         "hovertemplate": "set=Validation<br>length=%{x}<br>count=%{y}<extra></extra>",
         "legendgroup": "Validation",
         "marker": {
          "color": "#EF553B",
          "opacity": 0.5,
          "pattern": {
           "shape": ""
          }
         },
         "name": "Validation",
         "nbinsx": 50,
         "opacity": 0.8,
         "orientation": "v",
         "showlegend": true,
         "type": "histogram",
         "x": {
          "bdata": "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",
          "dtype": "i2"
         },
         "xaxis": "x",
         "yaxis": "y"
        }
       ],
       "layout": {
        "barmode": "overlay",
        "legend": {
         "title": {
          "text": "set"
         },
         "tracegroupgap": 0
        },
        "template": {
         "data": {
          "bar": [
           {
            "error_x": {
             "color": "#2a3f5f"
            },
            "error_y": {
             "color": "#2a3f5f"
            },
            "marker": {
             "line": {
              "color": "#E5ECF6",
              "width": 0.5
             },
             "pattern": {
              "fillmode": "overlay",
              "size": 10,
              "solidity": 0.2
             }
            },
            "type": "bar"
           }
          ],
          "barpolar": [
           {
            "marker": {
             "line": {
              "color": "#E5ECF6",
              "width": 0.5
             },
             "pattern": {
              "fillmode": "overlay",
              "size": 10,
              "solidity": 0.2
             }
            },
            "type": "barpolar"
           }
          ],
          "carpet": [
           {
            "aaxis": {
             "endlinecolor": "#2a3f5f",
             "gridcolor": "white",
             "linecolor": "white",
             "minorgridcolor": "white",
             "startlinecolor": "#2a3f5f"
            },
            "baxis": {
             "endlinecolor": "#2a3f5f",
             "gridcolor": "white",
             "linecolor": "white",
             "minorgridcolor": "white",
             "startlinecolor": "#2a3f5f"
            },
            "type": "carpet"
           }
          ],
          "choropleth": [
           {
            "colorbar": {
             "outlinewidth": 0,
             "ticks": ""
            },
            "type": "choropleth"
           }
          ],
          "contour": [
           {
            "colorbar": {
             "outlinewidth": 0,
             "ticks": ""
            },
            "colorscale": [
             [
              0,
              "#0d0887"
             ],
             [
              0.1111111111111111,
              "#46039f"
             ],
             [
              0.2222222222222222,
              "#7201a8"
             ],
             [
              0.3333333333333333,
              "#9c179e"
             ],
             [
              0.4444444444444444,
              "#bd3786"
             ],
             [
              0.5555555555555556,
              "#d8576b"
             ],
             [
              0.6666666666666666,
              "#ed7953"
             ],
             [
              0.7777777777777778,
              "#fb9f3a"
             ],
             [
              0.8888888888888888,
              "#fdca26"
             ],
             [
              1,
              "#f0f921"
             ]
            ],
            "type": "contour"
           }
          ],
          "contourcarpet": [
           {
            "colorbar": {
             "outlinewidth": 0,
             "ticks": ""
            },
            "type": "contourcarpet"
           }
          ],
          "heatmap": [
           {
            "colorbar": {
             "outlinewidth": 0,
             "ticks": ""
            },
            "colorscale": [
             [
              0,
              "#0d0887"
             ],
             [
              0.1111111111111111,
              "#46039f"
             ],
             [
              0.2222222222222222,
              "#7201a8"
             ],
             [
              0.3333333333333333,
              "#9c179e"
             ],
             [
              0.4444444444444444,
              "#bd3786"
             ],
             [
              0.5555555555555556,
              "#d8576b"
             ],
             [
              0.6666666666666666,
              "#ed7953"
             ],
             [
              0.7777777777777778,
              "#fb9f3a"
             ],
             [
              0.8888888888888888,
              "#fdca26"
             ],
             [
              1,
              "#f0f921"
             ]
            ],
            "type": "heatmap"
           }
          ],
          "histogram": [
           {
            "marker": {
             "pattern": {
              "fillmode": "overlay",
              "size": 10,
              "solidity": 0.2
             }
            },
            "type": "histogram"
           }
          ],
          "histogram2d": [
           {
            "colorbar": {
             "outlinewidth": 0,
             "ticks": ""
            },
            "colorscale": [
             [
              0,
              "#0d0887"
             ],
             [
              0.1111111111111111,
              "#46039f"
             ],
             [
              0.2222222222222222,
              "#7201a8"
             ],
             [
              0.3333333333333333,
              "#9c179e"
             ],
             [
              0.4444444444444444,
              "#bd3786"
             ],
             [
              0.5555555555555556,
              "#d8576b"
             ],
             [
              0.6666666666666666,
              "#ed7953"
             ],
             [
              0.7777777777777778,
              "#fb9f3a"
             ],
             [
              0.8888888888888888,
              "#fdca26"
             ],
             [
              1,
              "#f0f921"
             ]
            ],
            "type": "histogram2d"
           }
          ],
          "histogram2dcontour": [
           {
            "colorbar": {
             "outlinewidth": 0,
             "ticks": ""
            },
            "colorscale": [
             [
              0,
              "#0d0887"
             ],
             [
              0.1111111111111111,
              "#46039f"
             ],
             [
              0.2222222222222222,
              "#7201a8"
             ],
             [
              0.3333333333333333,
              "#9c179e"
             ],
             [
              0.4444444444444444,
              "#bd3786"
             ],
             [
              0.5555555555555556,
              "#d8576b"
             ],
             [
              0.6666666666666666,
              "#ed7953"
             ],
             [
              0.7777777777777778,
              "#fb9f3a"
             ],
             [
              0.8888888888888888,
              "#fdca26"
             ],
             [
              1,
              "#f0f921"
             ]
            ],
            "type": "histogram2dcontour"
           }
          ],
          "mesh3d": [
           {
            "colorbar": {
             "outlinewidth": 0,
             "ticks": ""
            },
            "type": "mesh3d"
           }
          ],
          "parcoords": [
           {
            "line": {
             "colorbar": {
              "outlinewidth": 0,
              "ticks": ""
             }
            },
            "type": "parcoords"
           }
          ],
          "pie": [
           {
            "automargin": true,
            "type": "pie"
           }
          ],
          "scatter": [
           {
            "fillpattern": {
             "fillmode": "overlay",
             "size": 10,
             "solidity": 0.2
            },
            "type": "scatter"
           }
          ],
          "scatter3d": [
           {
            "line": {
             "colorbar": {
              "outlinewidth": 0,
              "ticks": ""
             }
            },
            "marker": {
             "colorbar": {
              "outlinewidth": 0,
              "ticks": ""
             }
            },
            "type": "scatter3d"
           }
          ],
          "scattercarpet": [
           {
            "marker": {
             "colorbar": {
              "outlinewidth": 0,
              "ticks": ""
             }
            },
            "type": "scattercarpet"
           }
          ],
          "scattergeo": [
           {
            "marker": {
             "colorbar": {
              "outlinewidth": 0,
              "ticks": ""
             }
            },
            "type": "scattergeo"
           }
          ],
          "scattergl": [
           {
            "marker": {
             "colorbar": {
              "outlinewidth": 0,
              "ticks": ""
             }
            },
            "type": "scattergl"
           }
          ],
          "scattermap": [
           {
            "marker": {
             "colorbar": {
              "outlinewidth": 0,
              "ticks": ""
             }
            },
            "type": "scattermap"
           }
          ],
          "scattermapbox": [
           {
            "marker": {
             "colorbar": {
              "outlinewidth": 0,
              "ticks": ""
             }
            },
            "type": "scattermapbox"
           }
          ],
          "scatterpolar": [
           {
            "marker": {
             "colorbar": {
              "outlinewidth": 0,
              "ticks": ""
             }
            },
            "type": "scatterpolar"
           }
          ],
          "scatterpolargl": [
           {
            "marker": {
             "colorbar": {
              "outlinewidth": 0,
              "ticks": ""
             }
            },
            "type": "scatterpolargl"
           }
          ],
          "scatterternary": [
           {
            "marker": {
             "colorbar": {
              "outlinewidth": 0,
              "ticks": ""
             }
            },
            "type": "scatterternary"
           }
          ],
          "surface": [
           {
            "colorbar": {
             "outlinewidth": 0,
             "ticks": ""
            },
            "colorscale": [
             [
              0,
              "#0d0887"
             ],
             [
              0.1111111111111111,
              "#46039f"
             ],
             [
              0.2222222222222222,
              "#7201a8"
             ],
             [
              0.3333333333333333,
              "#9c179e"
             ],
             [
              0.4444444444444444,
              "#bd3786"
             ],
             [
              0.5555555555555556,
              "#d8576b"
             ],
             [
              0.6666666666666666,
              "#ed7953"
             ],
             [
              0.7777777777777778,
              "#fb9f3a"
             ],
             [
              0.8888888888888888,
              "#fdca26"
             ],
             [
              1,
              "#f0f921"
             ]
            ],
            "type": "surface"
           }
          ],
          "table": [
           {
            "cells": {
             "fill": {
              "color": "#EBF0F8"
             },
             "line": {
              "color": "white"
             }
            },
            "header": {
             "fill": {
              "color": "#C8D4E3"
             },
             "line": {
              "color": "white"
             }
            },
            "type": "table"
           }
          ]
         },
         "layout": {
          "annotationdefaults": {
           "arrowcolor": "#2a3f5f",
           "arrowhead": 0,
           "arrowwidth": 1
          },
          "autotypenumbers": "strict",
          "coloraxis": {
           "colorbar": {
            "outlinewidth": 0,
            "ticks": ""
           }
          },
          "colorscale": {
           "diverging": [
            [
             0,
             "#8e0152"
            ],
            [
             0.1,
             "#c51b7d"
            ],
            [
             0.2,
             "#de77ae"
            ],
            [
             0.3,
             "#f1b6da"
            ],
            [
             0.4,
             "#fde0ef"
            ],
            [
             0.5,
             "#f7f7f7"
            ],
            [
             0.6,
             "#e6f5d0"
            ],
            [
             0.7,
             "#b8e186"
            ],
            [
             0.8,
             "#7fbc41"
            ],
            [
             0.9,
             "#4d9221"
            ],
            [
             1,
             "#276419"
            ]
           ],
           "sequential": [
            [
             0,
             "#0d0887"
            ],
            [
             0.1111111111111111,
             "#46039f"
            ],
            [
             0.2222222222222222,
             "#7201a8"
            ],
            [
             0.3333333333333333,
             "#9c179e"
            ],
            [
             0.4444444444444444,
             "#bd3786"
            ],
            [
             0.5555555555555556,
             "#d8576b"
            ],
            [
             0.6666666666666666,
             "#ed7953"
            ],
            [
             0.7777777777777778,
             "#fb9f3a"
            ],
            [
             0.8888888888888888,
             "#fdca26"
            ],
            [
             1,
             "#f0f921"
            ]
           ],
           "sequentialminus": [
            [
             0,
             "#0d0887"
            ],
            [
             0.1111111111111111,
             "#46039f"
            ],
            [
             0.2222222222222222,
             "#7201a8"
            ],
            [
             0.3333333333333333,
             "#9c179e"
            ],
            [
             0.4444444444444444,
             "#bd3786"
            ],
            [
             0.5555555555555556,
             "#d8576b"
            ],
            [
             0.6666666666666666,
             "#ed7953"
            ],
            [
             0.7777777777777778,
             "#fb9f3a"
            ],
            [
             0.8888888888888888,
             "#fdca26"
            ],
            [
             1,
             "#f0f921"
            ]
           ]
          },
          "colorway": [
           "#636efa",
           "#EF553B",
           "#00cc96",
           "#ab63fa",
           "#FFA15A",
           "#19d3f3",
           "#FF6692",
           "#B6E880",
           "#FF97FF",
           "#FECB52"
          ],
          "font": {
           "color": "#2a3f5f"
          },
          "geo": {
           "bgcolor": "white",
           "lakecolor": "white",
           "landcolor": "#E5ECF6",
           "showlakes": true,
           "showland": true,
           "subunitcolor": "white"
          },
          "hoverlabel": {
           "align": "left"
          },
          "hovermode": "closest",
          "mapbox": {
           "style": "light"
          },
          "paper_bgcolor": "white",
          "plot_bgcolor": "#E5ECF6",
          "polar": {
           "angularaxis": {
            "gridcolor": "white",
            "linecolor": "white",
            "ticks": ""
           },
           "bgcolor": "#E5ECF6",
           "radialaxis": {
            "gridcolor": "white",
            "linecolor": "white",
            "ticks": ""
           }
          },
          "scene": {
           "xaxis": {
            "backgroundcolor": "#E5ECF6",
            "gridcolor": "white",
            "gridwidth": 2,
            "linecolor": "white",
            "showbackground": true,
            "ticks": "",
            "zerolinecolor": "white"
           },
           "yaxis": {
            "backgroundcolor": "#E5ECF6",
            "gridcolor": "white",
            "gridwidth": 2,
            "linecolor": "white",
            "showbackground": true,
            "ticks": "",
            "zerolinecolor": "white"
           },
           "zaxis": {
            "backgroundcolor": "#E5ECF6",
            "gridcolor": "white",
            "gridwidth": 2,
            "linecolor": "white",
            "showbackground": true,
            "ticks": "",
            "zerolinecolor": "white"
           }
          },
          "shapedefaults": {
           "line": {
            "color": "#2a3f5f"
           }
          },
          "ternary": {
           "aaxis": {
            "gridcolor": "white",
            "linecolor": "white",
            "ticks": ""
           },
           "baxis": {
            "gridcolor": "white",
            "linecolor": "white",
            "ticks": ""
           },
           "bgcolor": "#E5ECF6",
           "caxis": {
            "gridcolor": "white",
            "linecolor": "white",
            "ticks": ""
           }
          },
          "title": {
           "x": 0.05
          },
          "xaxis": {
           "automargin": true,
           "gridcolor": "white",
           "linecolor": "white",
           "ticks": "",
           "title": {
            "standoff": 15
           },
           "zerolinecolor": "white",
           "zerolinewidth": 2
          },
          "yaxis": {
           "automargin": true,
           "gridcolor": "white",
           "linecolor": "white",
           "ticks": "",
           "title": {
            "standoff": 15
           },
           "zerolinecolor": "white",
           "zerolinewidth": 2
          }
         }
        },
        "title": {
         "text": "Sequence Length Distribution: Train vs Validation"
        },
        "xaxis": {
         "anchor": "y",
         "domain": [
          0,
          1
         ],
         "title": {
          "text": "length"
         }
        },
        "yaxis": {
         "anchor": "x",
         "domain": [
          0,
          1
         ],
         "title": {
          "text": "count"
         }
        }
       }
      }
     },
     "metadata": {},
     "output_type": "display_data"
    }
   ],
   "source": [
    "def get_set_sequences_lengths(set:DF, name:str) -> DF:\n",
    "    return (\n",
    "        set\n",
    "        .groupby(\"sequence_id\", observed=True)\n",
    "        .size()\n",
    "        .reset_index(name=\"length\")\n",
    "        .assign(set=name)\n",
    "    )\n",
    "\n",
    "full_se_lengths = pd.concat((\n",
    "    get_set_sequences_lengths(folds[2][0], \"Train\"),\n",
    "    get_set_sequences_lengths(folds[2][1], \"Validation\"),\n",
    "))\n",
    "\n",
    "fig = px.histogram(\n",
    "    full_se_lengths,\n",
    "    x=\"length\",\n",
    "    color=\"set\",\n",
    "    barmode=\"overlay\",  # or 'group' if you want side-by-side bars\n",
    "    nbins=50,           # adjust bin size if needed\n",
    "    title=\"Sequence Length Distribution: Train vs Validation\"\n",
    ")\n",
    "\n",
    "fig.update_traces(opacity=0.8)  # better visibility with overlay\n",
    "fig.show()\n"
   ]
  },
  {
   "cell_type": "code",
   "execution_count": 25,
   "id": "c1d46756",
   "metadata": {},
   "outputs": [
    {
     "name": "stdout",
     "output_type": "stream",
     "text": [
      "train normed sequence len: 130\n",
      "validation normed sequence len: 116\n",
      "\n",
      "train normed sequence len: 129\n",
      "validation normed sequence len: 118\n",
      "\n",
      "train normed sequence len: 127\n",
      "validation normed sequence len: 119\n",
      "\n",
      "train normed sequence len: 122\n",
      "validation normed sequence len: 146\n",
      "\n",
      "train normed sequence len: 125\n",
      "validation normed sequence len: 133\n",
      "\n"
     ]
    }
   ],
   "source": [
    "for train, val in folds:\n",
    "    print(\"train normed sequence len:\", int(train.groupby(\"sequence_id\", observed=True).size().quantile(SEQUENCE_NORMED_LEN_QUANTILE)))\n",
    "    print(\"validation normed sequence len:\", int(val.groupby(\"sequence_id\", observed=True).size().quantile(SEQUENCE_NORMED_LEN_QUANTILE)))\n",
    "    print()"
   ]
  },
  {
   "cell_type": "markdown",
   "id": "c89d5f21",
   "metadata": {},
   "source": [
    "#### Sequence length norm implementation"
   ]
  },
  {
   "cell_type": "code",
   "execution_count": 26,
   "id": "5d128055",
   "metadata": {},
   "outputs": [
    {
     "data": {
      "application/vnd.jupyter.widget-view+json": {
       "model_id": "45e81deca6364c119c43d38c3146f155",
       "version_major": 2,
       "version_minor": 0
      },
      "text/plain": [
       "  0%|          | 0/6520 [00:00<?, ?it/s]"
      ]
     },
     "metadata": {},
     "output_type": "display_data"
    },
    {
     "data": {
      "application/vnd.jupyter.widget-view+json": {
       "model_id": "1a654445ec4e43fe81995d6ad011d9c8",
       "version_major": 2,
       "version_minor": 0
      },
      "text/plain": [
       "  0%|          | 0/1631 [00:00<?, ?it/s]"
      ]
     },
     "metadata": {},
     "output_type": "display_data"
    },
    {
     "data": {
      "application/vnd.jupyter.widget-view+json": {
       "model_id": "bd80e5e39a504dffbb7e129b7678280f",
       "version_major": 2,
       "version_minor": 0
      },
      "text/plain": [
       "  0%|          | 0/6417 [00:00<?, ?it/s]"
      ]
     },
     "metadata": {},
     "output_type": "display_data"
    },
    {
     "data": {
      "application/vnd.jupyter.widget-view+json": {
       "model_id": "1b7af30a2df843ce92f56e31669a9a21",
       "version_major": 2,
       "version_minor": 0
      },
      "text/plain": [
       "  0%|          | 0/1734 [00:00<?, ?it/s]"
      ]
     },
     "metadata": {},
     "output_type": "display_data"
    },
    {
     "data": {
      "application/vnd.jupyter.widget-view+json": {
       "model_id": "b9ab1cea220b43ef828afa47a34da0e6",
       "version_major": 2,
       "version_minor": 0
      },
      "text/plain": [
       "  0%|          | 0/6581 [00:00<?, ?it/s]"
      ]
     },
     "metadata": {},
     "output_type": "display_data"
    },
    {
     "data": {
      "application/vnd.jupyter.widget-view+json": {
       "model_id": "956005f55f1d432abbbe479753003588",
       "version_major": 2,
       "version_minor": 0
      },
      "text/plain": [
       "  0%|          | 0/1570 [00:00<?, ?it/s]"
      ]
     },
     "metadata": {},
     "output_type": "display_data"
    },
    {
     "data": {
      "application/vnd.jupyter.widget-view+json": {
       "model_id": "c624942bbb58402b804c993c9e98f5da",
       "version_major": 2,
       "version_minor": 0
      },
      "text/plain": [
       "  0%|          | 0/6567 [00:00<?, ?it/s]"
      ]
     },
     "metadata": {},
     "output_type": "display_data"
    },
    {
     "data": {
      "application/vnd.jupyter.widget-view+json": {
       "model_id": "673ede913dc84c0ca1fff08170af839c",
       "version_major": 2,
       "version_minor": 0
      },
      "text/plain": [
       "  0%|          | 0/1584 [00:00<?, ?it/s]"
      ]
     },
     "metadata": {},
     "output_type": "display_data"
    },
    {
     "data": {
      "application/vnd.jupyter.widget-view+json": {
       "model_id": "d52fba7d2112495c961fa1aa8cee729e",
       "version_major": 2,
       "version_minor": 0
      },
      "text/plain": [
       "  0%|          | 0/6519 [00:00<?, ?it/s]"
      ]
     },
     "metadata": {},
     "output_type": "display_data"
    },
    {
     "data": {
      "application/vnd.jupyter.widget-view+json": {
       "model_id": "4c6a4fcef7da43df811019e4721bd077",
       "version_major": 2,
       "version_minor": 0
      },
      "text/plain": [
       "  0%|          | 0/1632 [00:00<?, ?it/s]"
      ]
     },
     "metadata": {},
     "output_type": "display_data"
    }
   ],
   "source": [
    "gesture_cols = df[\"gesture\"].unique()\n",
    "\n",
    "def length_normed_sequence_feat_arr(sequence: DF, normed_sequence_len: int) -> ndarray:\n",
    "    features = (\n",
    "        sequence\n",
    "        .loc[:, get_feature_cols(df)]\n",
    "        .values\n",
    "    )\n",
    "    len_diff = abs(normed_sequence_len - len(features))\n",
    "    if len(features) < normed_sequence_len:\n",
    "        padded_features = np.pad(\n",
    "            features,\n",
    "            ((len_diff // 2 + len_diff % 2, len_diff // 2), (0, 0)),\n",
    "        )\n",
    "        return padded_features\n",
    "    elif len(features) > normed_sequence_len:\n",
    "        return features[len_diff // 2:-len_diff // 2]\n",
    "    else:\n",
    "        return features\n",
    "\n",
    "def df_to_ndarrays(df:DF, normed_sequence_len:int) -> tuple[np.ndarray, np.ndarray]:\n",
    "    sequence_it = df.groupby(\"sequence_id\", observed=True, as_index=False)\n",
    "    x = np.empty(\n",
    "        shape=(len(sequence_it), normed_sequence_len, len(get_feature_cols(df))),\n",
    "        dtype=\"float32\"\n",
    "    )\n",
    "    y = np.empty(\n",
    "        shape=(len(sequence_it), df[\"gesture\"].nunique()),\n",
    "        dtype=\"float32\"\n",
    "    )\n",
    "    for sequence_idx, (_, sequence) in tqdm(enumerate(sequence_it), total=len(sequence_it)):\n",
    "        normed_seq_feat_arr = length_normed_sequence_feat_arr(sequence, normed_sequence_len)\n",
    "        x[sequence_idx] = normed_seq_feat_arr\n",
    "        # Take the first value as they are(or at least should be) all the same in a single sequence\n",
    "        y[sequence_idx] = sequence[gesture_cols].iloc[0].values\n",
    "\n",
    "    return x, y\n",
    "\n",
    "def get_normed_seq_len(dataset:DF) -> int:\n",
    "    return int(\n",
    "        dataset\n",
    "        .groupby(\"sequence_id\", observed=True)\n",
    "        .size()\n",
    "        .quantile(SEQUENCE_NORMED_LEN_QUANTILE)\n",
    "    )\n",
    "\n",
    "def fold_dfs_to_ndarrays(train:DF, validation:DF) -> tuple[ndarray, ndarray, ndarray, ndarray]:\n",
    "    \"\"\"\n",
    "    Returns:\n",
    "        (train X, train Y, validation X, validation Y)\n",
    "    \"\"\"\n",
    "    normed_sequence_len = get_normed_seq_len(train)\n",
    "    return (\n",
    "        *df_to_ndarrays(train, normed_sequence_len),\n",
    "        *df_to_ndarrays(validation, normed_sequence_len),\n",
    "    )\n",
    "\n",
    "folds_arrs = list(starmap(fold_dfs_to_ndarrays, folds))"
   ]
  },
  {
   "cell_type": "code",
   "execution_count": 27,
   "id": "80490c33",
   "metadata": {},
   "outputs": [
    {
     "data": {
      "application/vnd.jupyter.widget-view+json": {
       "model_id": "4da7790e0d134199814a98f08578d175",
       "version_major": 2,
       "version_minor": 0
      },
      "text/plain": [
       "  0%|          | 0/8151 [00:00<?, ?it/s]"
      ]
     },
     "metadata": {},
     "output_type": "display_data"
    }
   ],
   "source": [
    "full_dataset_sequence_length_norm = get_normed_seq_len(df)\n",
    "full_x, full_y = df_to_ndarrays(df, full_dataset_sequence_length_norm)"
   ]
  },
  {
   "cell_type": "markdown",
   "id": "b99f60c2",
   "metadata": {},
   "source": [
    "## Create dataset"
   ]
  },
  {
   "cell_type": "code",
   "execution_count": null,
   "id": "a46b79b2",
   "metadata": {},
   "outputs": [],
   "source": [
    "# Clean dataset directory if it already exists\n",
    "! rm -rf preprocessed_dataset\n",
    "# Create dataset direcory\n",
    "! mkdir preprocessed_dataset\n",
    "# Save folds\n",
    "for fold_i, (train_x, train_y, val_x, val_y) in enumerate(folds_arrs):\n",
    "    fold_dir_path = join(\"preprocessed_dataset\", f\"fold_{fold_i}\")\n",
    "    os.makedirs(fold_dir_path)\n",
    "    # save features (X)\n",
    "    np.save(join(fold_dir_path, \"train_X.npy\"), train_x, allow_pickle=False)\n",
    "    np.save(join(fold_dir_path, \"validation_X.npy\"), val_x, allow_pickle=False)\n",
    "    # Save targets (Y)\n",
    "    np.save(join(fold_dir_path, \"train_Y.npy\"), train_y, allow_pickle=False)\n",
    "    np.save(join(fold_dir_path, \"validation_Y.npy\"), val_y, allow_pickle=False)\n",
    "# Save full dataset\n",
    "full_dataset_dir_path = \"preprocessed_dataset/full_dataset\"\n",
    "os.makedirs(full_dataset_dir_path)\n",
    "np.save(join(full_dataset_dir_path, \"X.npy\"), full_x, allow_pickle=False)\n",
    "np.save(join(full_dataset_dir_path, \"Y.npy\"), full_y, allow_pickle=False)\n",
    "# Save dataset meta data\n",
    "full_dataset_meta_data[\"target_names\"] = one_hot_target.columns.to_list()\n",
    "full_dataset_meta_data[\"pad_seq_len\"] = full_dataset_sequence_length_norm\n",
    "full_dataset_meta_data[\"feature_cols\"] = get_feature_cols(df)\n",
    "\n",
    "with open(\"preprocessed_dataset/full_dataset_meta_data.json\", \"w\") as fp:\n",
    "    json.dump(full_dataset_meta_data, fp, indent=4)"
   ]
  },
  {
   "cell_type": "code",
   "execution_count": 30,
   "id": "0b77ea50",
   "metadata": {},
   "outputs": [
    {
     "data": {
      "text/html": [
       "<div>\n",
       "<style scoped>\n",
       "    .dataframe tbody tr th:only-of-type {\n",
       "        vertical-align: middle;\n",
       "    }\n",
       "\n",
       "    .dataframe tbody tr th {\n",
       "        vertical-align: top;\n",
       "    }\n",
       "\n",
       "    .dataframe thead th {\n",
       "        text-align: right;\n",
       "    }\n",
       "</style>\n",
       "<table border=\"1\" class=\"dataframe\">\n",
       "  <thead>\n",
       "    <tr style=\"text-align: right;\">\n",
       "      <th></th>\n",
       "      <th>acc_x</th>\n",
       "      <th>acc_x_diff</th>\n",
       "      <th>acc_y</th>\n",
       "      <th>acc_y_diff</th>\n",
       "      <th>acc_z</th>\n",
       "      <th>acc_z_diff</th>\n",
       "      <th>angular_vel_x</th>\n",
       "      <th>angular_vel_x_diff</th>\n",
       "      <th>angular_vel_y</th>\n",
       "      <th>angular_vel_y_diff</th>\n",
       "      <th>...</th>\n",
       "      <th>tof_1</th>\n",
       "      <th>tof_1_diff</th>\n",
       "      <th>tof_2</th>\n",
       "      <th>tof_2_diff</th>\n",
       "      <th>tof_3</th>\n",
       "      <th>tof_3_diff</th>\n",
       "      <th>tof_4</th>\n",
       "      <th>tof_4_diff</th>\n",
       "      <th>tof_5</th>\n",
       "      <th>tof_5_diff</th>\n",
       "    </tr>\n",
       "  </thead>\n",
       "  <tbody>\n",
       "    <tr>\n",
       "      <th>0</th>\n",
       "      <td>0.872408</td>\n",
       "      <td>0.015724</td>\n",
       "      <td>0.884130</td>\n",
       "      <td>-0.027387</td>\n",
       "      <td>0.625816</td>\n",
       "      <td>0.036749</td>\n",
       "      <td>-0.021278</td>\n",
       "      <td>-0.011243</td>\n",
       "      <td>-0.010010</td>\n",
       "      <td>-0.007949</td>\n",
       "      <td>...</td>\n",
       "      <td>0.339571</td>\n",
       "      <td>0.022522</td>\n",
       "      <td>0.148727</td>\n",
       "      <td>0.026558</td>\n",
       "      <td>-0.454938</td>\n",
       "      <td>0.034665</td>\n",
       "      <td>-0.016778</td>\n",
       "      <td>0.018485</td>\n",
       "      <td>0.404678</td>\n",
       "      <td>0.004162</td>\n",
       "    </tr>\n",
       "    <tr>\n",
       "      <th>1</th>\n",
       "      <td>0.918353</td>\n",
       "      <td>0.139234</td>\n",
       "      <td>0.884130</td>\n",
       "      <td>-0.027387</td>\n",
       "      <td>0.588012</td>\n",
       "      <td>-0.075917</td>\n",
       "      <td>-0.075474</td>\n",
       "      <td>-0.067267</td>\n",
       "      <td>-0.238310</td>\n",
       "      <td>-0.213256</td>\n",
       "      <td>...</td>\n",
       "      <td>0.349948</td>\n",
       "      <td>0.089104</td>\n",
       "      <td>0.199531</td>\n",
       "      <td>0.363426</td>\n",
       "      <td>-0.337148</td>\n",
       "      <td>0.824043</td>\n",
       "      <td>0.002596</td>\n",
       "      <td>0.140912</td>\n",
       "      <td>0.433771</td>\n",
       "      <td>0.218816</td>\n",
       "    </tr>\n",
       "    <tr>\n",
       "      <th>2</th>\n",
       "      <td>0.706192</td>\n",
       "      <td>-0.554598</td>\n",
       "      <td>0.723320</td>\n",
       "      <td>-0.549341</td>\n",
       "      <td>0.964766</td>\n",
       "      <td>1.159588</td>\n",
       "      <td>-0.554449</td>\n",
       "      <td>-0.506371</td>\n",
       "      <td>-1.075163</td>\n",
       "      <td>-0.760519</td>\n",
       "      <td>...</td>\n",
       "      <td>0.398864</td>\n",
       "      <td>0.336407</td>\n",
       "      <td>0.371769</td>\n",
       "      <td>1.168622</td>\n",
       "      <td>0.022423</td>\n",
       "      <td>2.444347</td>\n",
       "      <td>0.026308</td>\n",
       "      <td>0.168322</td>\n",
       "      <td>0.490583</td>\n",
       "      <td>0.423344</td>\n",
       "    </tr>\n",
       "    <tr>\n",
       "      <th>3</th>\n",
       "      <td>0.858218</td>\n",
       "      <td>0.424395</td>\n",
       "      <td>0.347835</td>\n",
       "      <td>-1.246124</td>\n",
       "      <td>1.134561</td>\n",
       "      <td>0.542790</td>\n",
       "      <td>-0.961076</td>\n",
       "      <td>-0.431583</td>\n",
       "      <td>-0.665305</td>\n",
       "      <td>0.360630</td>\n",
       "      <td>...</td>\n",
       "      <td>0.621508</td>\n",
       "      <td>1.451174</td>\n",
       "      <td>0.644067</td>\n",
       "      <td>1.832088</td>\n",
       "      <td>0.543179</td>\n",
       "      <td>3.524549</td>\n",
       "      <td>0.459197</td>\n",
       "      <td>2.753924</td>\n",
       "      <td>0.532300</td>\n",
       "      <td>0.311967</td>\n",
       "    </tr>\n",
       "    <tr>\n",
       "      <th>4</th>\n",
       "      <td>0.679165</td>\n",
       "      <td>-0.465599</td>\n",
       "      <td>-0.302433</td>\n",
       "      <td>-2.138006</td>\n",
       "      <td>1.655481</td>\n",
       "      <td>1.589246</td>\n",
       "      <td>-0.618189</td>\n",
       "      <td>0.343207</td>\n",
       "      <td>-1.052999</td>\n",
       "      <td>-0.356597</td>\n",
       "      <td>...</td>\n",
       "      <td>1.073910</td>\n",
       "      <td>2.925483</td>\n",
       "      <td>0.789974</td>\n",
       "      <td>0.994026</td>\n",
       "      <td>0.870276</td>\n",
       "      <td>2.226724</td>\n",
       "      <td>0.731018</td>\n",
       "      <td>1.736129</td>\n",
       "      <td>0.684347</td>\n",
       "      <td>1.126032</td>\n",
       "    </tr>\n",
       "    <tr>\n",
       "      <th>...</th>\n",
       "      <td>...</td>\n",
       "      <td>...</td>\n",
       "      <td>...</td>\n",
       "      <td>...</td>\n",
       "      <td>...</td>\n",
       "      <td>...</td>\n",
       "      <td>...</td>\n",
       "      <td>...</td>\n",
       "      <td>...</td>\n",
       "      <td>...</td>\n",
       "      <td>...</td>\n",
       "      <td>...</td>\n",
       "      <td>...</td>\n",
       "      <td>...</td>\n",
       "      <td>...</td>\n",
       "      <td>...</td>\n",
       "      <td>...</td>\n",
       "      <td>...</td>\n",
       "      <td>...</td>\n",
       "      <td>...</td>\n",
       "      <td>...</td>\n",
       "    </tr>\n",
       "    <tr>\n",
       "      <th>574940</th>\n",
       "      <td>0.322408</td>\n",
       "      <td>-0.020602</td>\n",
       "      <td>-0.444509</td>\n",
       "      <td>0.172780</td>\n",
       "      <td>-1.309212</td>\n",
       "      <td>0.409119</td>\n",
       "      <td>-0.231978</td>\n",
       "      <td>-0.291376</td>\n",
       "      <td>0.171270</td>\n",
       "      <td>0.428464</td>\n",
       "      <td>...</td>\n",
       "      <td>-1.001627</td>\n",
       "      <td>-0.004111</td>\n",
       "      <td>-0.829872</td>\n",
       "      <td>0.186776</td>\n",
       "      <td>0.541703</td>\n",
       "      <td>0.155347</td>\n",
       "      <td>-0.929112</td>\n",
       "      <td>0.404041</td>\n",
       "      <td>-1.044439</td>\n",
       "      <td>0.334243</td>\n",
       "    </tr>\n",
       "    <tr>\n",
       "      <th>574941</th>\n",
       "      <td>0.369030</td>\n",
       "      <td>0.141050</td>\n",
       "      <td>-0.490566</td>\n",
       "      <td>-0.176879</td>\n",
       "      <td>-1.434796</td>\n",
       "      <td>-0.337531</td>\n",
       "      <td>-0.119604</td>\n",
       "      <td>0.104920</td>\n",
       "      <td>-0.136954</td>\n",
       "      <td>-0.285131</td>\n",
       "      <td>...</td>\n",
       "      <td>-0.969906</td>\n",
       "      <td>0.226072</td>\n",
       "      <td>-0.851557</td>\n",
       "      <td>-0.117227</td>\n",
       "      <td>0.533437</td>\n",
       "      <td>-0.020730</td>\n",
       "      <td>-0.996778</td>\n",
       "      <td>-0.409099</td>\n",
       "      <td>-1.014798</td>\n",
       "      <td>0.222866</td>\n",
       "    </tr>\n",
       "    <tr>\n",
       "      <th>574942</th>\n",
       "      <td>0.249436</td>\n",
       "      <td>-0.305763</td>\n",
       "      <td>-0.314143</td>\n",
       "      <td>0.545242</td>\n",
       "      <td>-1.138775</td>\n",
       "      <td>0.918980</td>\n",
       "      <td>-0.010458</td>\n",
       "      <td>0.101584</td>\n",
       "      <td>-0.038358</td>\n",
       "      <td>0.080717</td>\n",
       "      <td>...</td>\n",
       "      <td>-1.037499</td>\n",
       "      <td>-0.411210</td>\n",
       "      <td>-0.925905</td>\n",
       "      <td>-0.466419</td>\n",
       "      <td>0.399410</td>\n",
       "      <td>-0.863526</td>\n",
       "      <td>-1.002272</td>\n",
       "      <td>-0.016234</td>\n",
       "      <td>-0.963200</td>\n",
       "      <td>0.384869</td>\n",
       "    </tr>\n",
       "    <tr>\n",
       "      <th>574943</th>\n",
       "      <td>0.402138</td>\n",
       "      <td>0.426211</td>\n",
       "      <td>-0.429677</td>\n",
       "      <td>-0.402383</td>\n",
       "      <td>-1.414933</td>\n",
       "      <td>-0.786284</td>\n",
       "      <td>-0.118555</td>\n",
       "      <td>-0.122986</td>\n",
       "      <td>-0.138399</td>\n",
       "      <td>-0.097915</td>\n",
       "      <td>...</td>\n",
       "      <td>-1.027123</td>\n",
       "      <td>0.089104</td>\n",
       "      <td>-0.894307</td>\n",
       "      <td>0.236073</td>\n",
       "      <td>0.467900</td>\n",
       "      <td>0.493652</td>\n",
       "      <td>-0.900484</td>\n",
       "      <td>0.661688</td>\n",
       "      <td>-1.007662</td>\n",
       "      <td>-0.323895</td>\n",
       "    </tr>\n",
       "    <tr>\n",
       "      <th>574944</th>\n",
       "      <td>0.454841</td>\n",
       "      <td>0.157397</td>\n",
       "      <td>-0.544430</td>\n",
       "      <td>-0.399849</td>\n",
       "      <td>-1.503996</td>\n",
       "      <td>-0.228684</td>\n",
       "      <td>-0.017007</td>\n",
       "      <td>0.093729</td>\n",
       "      <td>0.070146</td>\n",
       "      <td>0.179592</td>\n",
       "      <td>...</td>\n",
       "      <td>-0.994512</td>\n",
       "      <td>0.231779</td>\n",
       "      <td>-0.881296</td>\n",
       "      <td>0.112829</td>\n",
       "      <td>0.531666</td>\n",
       "      <td>0.461997</td>\n",
       "      <td>-0.895279</td>\n",
       "      <td>0.051376</td>\n",
       "      <td>-1.001624</td>\n",
       "      <td>0.048712</td>\n",
       "    </tr>\n",
       "  </tbody>\n",
       "</table>\n",
       "<p>574945 rows × 66 columns</p>\n",
       "</div>"
      ],
      "text/plain": [
       "           acc_x  acc_x_diff     acc_y  acc_y_diff     acc_z  acc_z_diff  \\\n",
       "0       0.872408    0.015724  0.884130   -0.027387  0.625816    0.036749   \n",
       "1       0.918353    0.139234  0.884130   -0.027387  0.588012   -0.075917   \n",
       "2       0.706192   -0.554598  0.723320   -0.549341  0.964766    1.159588   \n",
       "3       0.858218    0.424395  0.347835   -1.246124  1.134561    0.542790   \n",
       "4       0.679165   -0.465599 -0.302433   -2.138006  1.655481    1.589246   \n",
       "...          ...         ...       ...         ...       ...         ...   \n",
       "574940  0.322408   -0.020602 -0.444509    0.172780 -1.309212    0.409119   \n",
       "574941  0.369030    0.141050 -0.490566   -0.176879 -1.434796   -0.337531   \n",
       "574942  0.249436   -0.305763 -0.314143    0.545242 -1.138775    0.918980   \n",
       "574943  0.402138    0.426211 -0.429677   -0.402383 -1.414933   -0.786284   \n",
       "574944  0.454841    0.157397 -0.544430   -0.399849 -1.503996   -0.228684   \n",
       "\n",
       "        angular_vel_x  angular_vel_x_diff  angular_vel_y  angular_vel_y_diff  \\\n",
       "0           -0.021278           -0.011243      -0.010010           -0.007949   \n",
       "1           -0.075474           -0.067267      -0.238310           -0.213256   \n",
       "2           -0.554449           -0.506371      -1.075163           -0.760519   \n",
       "3           -0.961076           -0.431583      -0.665305            0.360630   \n",
       "4           -0.618189            0.343207      -1.052999           -0.356597   \n",
       "...               ...                 ...            ...                 ...   \n",
       "574940      -0.231978           -0.291376       0.171270            0.428464   \n",
       "574941      -0.119604            0.104920      -0.136954           -0.285131   \n",
       "574942      -0.010458            0.101584      -0.038358            0.080717   \n",
       "574943      -0.118555           -0.122986      -0.138399           -0.097915   \n",
       "574944      -0.017007            0.093729       0.070146            0.179592   \n",
       "\n",
       "        ...     tof_1  tof_1_diff     tof_2  tof_2_diff     tof_3  tof_3_diff  \\\n",
       "0       ...  0.339571    0.022522  0.148727    0.026558 -0.454938    0.034665   \n",
       "1       ...  0.349948    0.089104  0.199531    0.363426 -0.337148    0.824043   \n",
       "2       ...  0.398864    0.336407  0.371769    1.168622  0.022423    2.444347   \n",
       "3       ...  0.621508    1.451174  0.644067    1.832088  0.543179    3.524549   \n",
       "4       ...  1.073910    2.925483  0.789974    0.994026  0.870276    2.226724   \n",
       "...     ...       ...         ...       ...         ...       ...         ...   \n",
       "574940  ... -1.001627   -0.004111 -0.829872    0.186776  0.541703    0.155347   \n",
       "574941  ... -0.969906    0.226072 -0.851557   -0.117227  0.533437   -0.020730   \n",
       "574942  ... -1.037499   -0.411210 -0.925905   -0.466419  0.399410   -0.863526   \n",
       "574943  ... -1.027123    0.089104 -0.894307    0.236073  0.467900    0.493652   \n",
       "574944  ... -0.994512    0.231779 -0.881296    0.112829  0.531666    0.461997   \n",
       "\n",
       "           tof_4  tof_4_diff     tof_5  tof_5_diff  \n",
       "0      -0.016778    0.018485  0.404678    0.004162  \n",
       "1       0.002596    0.140912  0.433771    0.218816  \n",
       "2       0.026308    0.168322  0.490583    0.423344  \n",
       "3       0.459197    2.753924  0.532300    0.311967  \n",
       "4       0.731018    1.736129  0.684347    1.126032  \n",
       "...          ...         ...       ...         ...  \n",
       "574940 -0.929112    0.404041 -1.044439    0.334243  \n",
       "574941 -0.996778   -0.409099 -1.014798    0.222866  \n",
       "574942 -1.002272   -0.016234 -0.963200    0.384869  \n",
       "574943 -0.900484    0.661688 -1.007662   -0.323895  \n",
       "574944 -0.895279    0.051376 -1.001624    0.048712  \n",
       "\n",
       "[574945 rows x 66 columns]"
      ]
     },
     "execution_count": 30,
     "metadata": {},
     "output_type": "execute_result"
    }
   ],
   "source": [
    "df[get_feature_cols(df)]"
   ]
  },
  {
   "cell_type": "markdown",
   "id": "b2775c75",
   "metadata": {},
   "source": [
    "## Dataset upload\n",
    "Optionally upload the dataset to kaggle."
   ]
  },
  {
   "cell_type": "code",
   "execution_count": null,
   "id": "d0b40895",
   "metadata": {},
   "outputs": [
    {
     "name": "stdout",
     "output_type": "stream",
     "text": [
      "Dataset has not been uploaded.\n"
     ]
    }
   ],
   "source": [
    "if input(\"Do you want to upload the  dataset to kaggle?[yes/no]\").lower() == \"yes\":\n",
    "    # Updaload the dataset\n",
    "    dataset_upload(\n",
    "        join(whoami()[\"username\"], \"prepocessed-cmi-2025\"),\n",
    "        \"preprocessed_dataset\",\n",
    "        version_notes=\"Preprocessed Child Mind Institue 2025 competition dataset.\"\n",
    "    )\n",
    "else:\n",
    "    print(\"Dataset has not been uploaded.\")"
   ]
  }
 ],
 "metadata": {
  "kernelspec": {
   "display_name": "Python 3",
   "language": "python",
   "name": "python3"
  },
  "language_info": {
   "codemirror_mode": {
    "name": "ipython",
    "version": 3
   },
   "file_extension": ".py",
   "mimetype": "text/x-python",
   "name": "python",
   "nbconvert_exporter": "python",
   "pygments_lexer": "ipython3",
   "version": "3.11.5"
  }
 },
 "nbformat": 4,
 "nbformat_minor": 5
}
