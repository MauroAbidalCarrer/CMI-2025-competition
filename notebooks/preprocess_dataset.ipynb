{
 "cells": [
  {
   "cell_type": "markdown",
   "id": "7c1fbf88",
   "metadata": {},
   "source": [
    "# Dataset preprocessing\n",
    "\n",
    "The goal of this notebook is to create a preprocessed kaggle dataset out of the competition dataset.  \n",
    "For now, the preprocessing will be based on [this notebook](https://www.kaggle.com/code/vonmainstein/imu-tof).  \n",
    "It consists of the following steps:\n",
    "-   Set the appropriate dtypes (helps with RAM usage).\n",
    "-   Impute missing feature values with forward, backward and then 0 filling.\n",
    "-   Split the dataset into multiple cross validation folds.\n",
    "-   Standardize feature values.\n",
    "-   Pad/Truncate the sequences to the same length.  \n",
    "\n",
    "> Note:  \n",
    "> - Demographics data set will be ignored for now.  "
   ]
  },
  {
   "cell_type": "markdown",
   "id": "3e390dcd",
   "metadata": {},
   "source": [
    "## Setup"
   ]
  },
  {
   "cell_type": "markdown",
   "id": "67848297",
   "metadata": {},
   "source": [
    "### Imports"
   ]
  },
  {
   "cell_type": "code",
   "execution_count": 49,
   "id": "3b58565a",
   "metadata": {},
   "outputs": [],
   "source": [
    "import os\n",
    "import json\n",
    "import warnings\n",
    "from os.path import join\n",
    "from tqdm.notebook import tqdm\n",
    "from itertools import repeat, starmap, product\n",
    "\n",
    "import numpy as np\n",
    "import pandas as pd\n",
    "from numpy import ndarray\n",
    "import plotly.express as px\n",
    "from numpy.linalg import norm\n",
    "from pandas import DataFrame as DF\n",
    "from scipy.spatial.transform import Rotation\n",
    "from sklearn.model_selection import StratifiedGroupKFold\n",
    "from kagglehub import whoami, competition_download, dataset_upload"
   ]
  },
  {
   "cell_type": "markdown",
   "id": "2102ea8c",
   "metadata": {},
   "source": [
    "### Supress performance warngings"
   ]
  },
  {
   "cell_type": "code",
   "execution_count": 50,
   "id": "fb820d2b",
   "metadata": {},
   "outputs": [],
   "source": [
    "warnings.filterwarnings(\n",
    "    \"ignore\",\n",
    "    message=(\n",
    "        \"DataFrame is highly fragmented.  This is usually the result of \"\n",
    "        \"calling `frame.insert` many times.*\"\n",
    "    ),\n",
    "    category=pd.errors.PerformanceWarning,\n",
    ")"
   ]
  },
  {
   "cell_type": "markdown",
   "id": "4386f64d",
   "metadata": {},
   "source": [
    "### Config"
   ]
  },
  {
   "cell_type": "code",
   "execution_count": 51,
   "id": "a522c427",
   "metadata": {},
   "outputs": [],
   "source": [
    "QUATERNION_COLS = ['rot_w', 'rot_x', 'rot_y', 'rot_z']\n",
    "GRAVITY_WORLD = np.array([0, 0, 9.81], \"float32\")\n",
    "RAW_ACCELRATION_COLS = [\"acc_x\", \"acc_y\", \"acc_z\"]\n",
    "LINEAR_ACC_COLS = [\"gravity_free_\" + col for col in RAW_ACCELRATION_COLS]\n",
    "COMPETITION_HANDLE = \"cmi-detect-behavior-with-sensor-data\"\n",
    "CATEGORY_COLUMNS = [\n",
    "    'row_id',\n",
    "    'sequence_type',\n",
    "    'sequence_id',\n",
    "    'subject',\n",
    "    'orientation',\n",
    "    'behavior',\n",
    "    'phase',\n",
    "    'gesture',\n",
    "]\n",
    "META_DATA_COLUMNS = [\n",
    "    'row_id',\n",
    "    'sequence_type',\n",
    "    'sequence_id',\n",
    "    'sequence_counter',\n",
    "    'subject',\n",
    "    'orientation',\n",
    "    'behavior',\n",
    "    'phase',\n",
    "    'gesture',\n",
    "]\n",
    "DATASET_DF_DTYPES = {\n",
    "    \"acc_x\": \"float32\", \"acc_y\": \"float32\", \"acc_z\": \"float32\",\n",
    "    \"thm_1\":\"float32\", \"thm_2\":\"float32\", \"thm_3\":\"float32\", \"thm_4\":\"float32\", \"thm_5\":\"float32\",\n",
    "    \"sequence_counter\": \"int32\",\n",
    "    **{col: \"category\" for col in CATEGORY_COLUMNS},\n",
    "    **{f\"tof_{i_1}_v{i_2}\": \"float32\" for i_1, i_2 in product(range(1, 5), range(64))},\n",
    "}\n",
    "PREPROCESSED_DATASET_HANDLE = \"mauroabidalcarrer/prepocessed-cmi-2025\"\n",
    "# The quantile of the sequences len used to pad/truncate during preprocessing\n",
    "SEQUENCE_NORMED_LEN_QUANTILE = 0.95\n",
    "# SAMPLING_FREQUENCY = 10 #Hz\n",
    "N_FOLDS = 5\n",
    "VALIDATION_FRACTION = 0.2\n",
    "TARGET_NAMES = [\n",
    "    \"Above ear - pull hair\",\n",
    "    \"Cheek - pinch skin\",\n",
    "    \"Eyebrow - pull hair\",\n",
    "    \"Eyelash - pull hair\",\n",
    "    \"Feel around in tray and pull out an object\",\n",
    "    \"Forehead - pull hairline\",\n",
    "    \"Forehead - scratch\",\n",
    "    \"Neck - pinch skin\",\n",
    "    \"Neck - scratch\",\n",
    "    \"Text on phone\",\n",
    "    \"Wave hello\",\n",
    "    \"Write name in air\",\n",
    "    \"Write name on leg\",\n",
    "    \"Drink from bottle/cup\",\n",
    "    \"Pinch knee/leg skin\",\n",
    "    \"Pull air toward your face\",\n",
    "    \"Scratch knee/leg skin\",\n",
    "    \"Glasses on/off\"\n",
    "]\n",
    "EPSILON=1e-8\n",
    "DELTA_ROTATION_ANGULAR_VELOCITY_COLS = [\"angular_vel_x\", \"angular_vel_y\", \"angular_vel_z\"]\n",
    "DELTA_ROTATION_AXES_COLS = [\"rotation_axis_x\", \"rotation_axis_y\", \"rotation_axis_z\"]\n",
    "EULER_ANGLES_COLS = [\"euler_x\", \"euler_y\", \"euler_z\"]"
   ]
  },
  {
   "cell_type": "markdown",
   "id": "f27f6677",
   "metadata": {},
   "source": [
    "### Define function to get the feature columns\n",
    "Feature columns change over time so it's better to have a function to get them than manually update a variable every time we add/remove features."
   ]
  },
  {
   "cell_type": "code",
   "execution_count": 97,
   "id": "e2db0953",
   "metadata": {},
   "outputs": [],
   "source": [
    "def get_feature_cols(df:DF) -> list[str]:\n",
    "    return list(set(df.columns) - set(META_DATA_COLUMNS) - set(TARGET_NAMES))"
   ]
  },
  {
   "cell_type": "markdown",
   "id": "773eda72",
   "metadata": {},
   "source": [
    "### Load dataset\n",
    "Requires to be logged in if this notebook is not running on kaggle, go to [your settings](https://www.kaggle.com/settings) to create an access token and put it in `~/.kaggle/`."
   ]
  },
  {
   "cell_type": "code",
   "execution_count": 98,
   "id": "58b8bc22",
   "metadata": {},
   "outputs": [],
   "source": [
    "competition_dataset_path = competition_download(COMPETITION_HANDLE)\n",
    "df = pd.read_csv(join(competition_dataset_path, \"train.csv\"), dtype=DATASET_DF_DTYPES)"
   ]
  },
  {
   "cell_type": "markdown",
   "id": "c1924ec0",
   "metadata": {},
   "source": [
    "## Data preprocessing"
   ]
  },
  {
   "cell_type": "markdown",
   "id": "7aea88de",
   "metadata": {},
   "source": [
    "### Impute missing data\n",
    "Perform forward, backward and then filling of all NaN sequences."
   ]
  },
  {
   "cell_type": "code",
   "execution_count": null,
   "id": "c2f0db28",
   "metadata": {},
   "outputs": [],
   "source": [
    "# Missing ToF values are already imputed by -1 which is inconvinient since we want all missing values to be NaN.    \n",
    "# So we replace them by NaN and then perform imputing.\n",
    "def get_fillna_val_per_feature_col(df:DF) -> dict:\n",
    "    return {col: 1.0 if col == 'rot_w' else 0 for col in get_feature_cols(df)}\n",
    "\n",
    "def imputed_features(df:DF) -> DF:\n",
    "    # Missing ToF values are already imputed by -1 which is inconvinient since we want all missing values to be NaN.    \n",
    "    # So we replace them by NaN and then perform imputing.  \n",
    "    tof_vals_to_nan = {col: -1.0 for col in df.columns if col.startswith(\"tof\")}\n",
    "    # fillna_val_per_col = {col: 1.0 if col == 'rot_w' else 0 for col in df.columns}\n",
    "\n",
    "    df[get_feature_cols(df)] = (\n",
    "        df\n",
    "        .loc[:, get_feature_cols(df)]\n",
    "        # df.replace with np.nan sets dtype to floar64 so we set it back to float32\n",
    "        .replace(tof_vals_to_nan, value=np.nan)\n",
    "        .astype(\"float32\")\n",
    "        .groupby(df[\"sequence_id\"], observed=True, as_index=False)\n",
    "        .ffill()\n",
    "        .groupby(df[\"sequence_id\"], observed=True, as_index=False)\n",
    "        .bfill()\n",
    "        # In case there are only nan in the column in the sequence\n",
    "        .fillna(get_fillna_val_per_feature_col(df))\n",
    "    )\n",
    "    return df\n",
    "\n",
    "df = imputed_features(df)"
   ]
  },
  {
   "cell_type": "markdown",
   "id": "ad044a52",
   "metadata": {},
   "source": [
    "### Norm quaternions\n",
    "This allows us to parse quaternions with `scipy.spatial.transform.Rotation`."
   ]
  },
  {
   "cell_type": "code",
   "execution_count": 100,
   "id": "c99bce0b",
   "metadata": {},
   "outputs": [],
   "source": [
    "def norm_quat_rotations(df:DF) -> DF:\n",
    "    df[QUATERNION_COLS] /= np.linalg.norm(df[QUATERNION_COLS], axis=1, keepdims=True)\n",
    "    return df"
   ]
  },
  {
   "cell_type": "markdown",
   "id": "606a87c4",
   "metadata": {},
   "source": [
    "### Linear acceleration\n",
    "Remove gravity from the acceleration features."
   ]
  },
  {
   "cell_type": "code",
   "execution_count": 101,
   "id": "5d87de25",
   "metadata": {},
   "outputs": [],
   "source": [
    "def add_linear_acc_cols(df:DF) -> DF:\n",
    "    # Vectorized version of https://www.kaggle.com/code/wasupandceacar/lb-0-82-5fold-single-bert-model#Dataset `remove_gravity_from_acc`\n",
    "    rotations:Rotation = Rotation.from_quat(df[QUATERNION_COLS])\n",
    "    gravity_sensor_frame = rotations.apply(GRAVITY_WORLD, inverse=True).astype(\"float32\")\n",
    "    df[LINEAR_ACC_COLS] = df[RAW_ACCELRATION_COLS] - gravity_sensor_frame\n",
    "    return df\n",
    "\n",
    "df = add_linear_acc_cols(df)"
   ]
  },
  {
   "cell_type": "markdown",
   "id": "f1d709e7",
   "metadata": {},
   "source": [
    "### Accelerations magnitudes\n",
    "Add magnitue (norm) of both  raw acceleration and linear accelration."
   ]
  },
  {
   "cell_type": "code",
   "execution_count": 102,
   "id": "9fdf04ef",
   "metadata": {},
   "outputs": [],
   "source": [
    "def add_acc_magnitude(df:DF, acc_cols:list[str], acc_mag_col_name:str) -> DF:\n",
    "    return df.assign(**{acc_mag_col_name: np.linalg.norm(df.loc[:, acc_cols], axis=1)})\n",
    "\n",
    "df = add_acc_magnitude(df, RAW_ACCELRATION_COLS, \"raw_acc_mag\")\n",
    "df = add_acc_magnitude(df, LINEAR_ACC_COLS, \"linear_acc_mag\")"
   ]
  },
  {
   "cell_type": "markdown",
   "id": "7d92b38a",
   "metadata": {},
   "source": [
    "### Quaternion angle magnitude\n",
    "Refered to as \"rotation angle\" in top notebooks."
   ]
  },
  {
   "cell_type": "code",
   "execution_count": 103,
   "id": "79aac44c",
   "metadata": {},
   "outputs": [],
   "source": [
    "def add_quat_angle_mag(df:DF) -> DF:\n",
    "    return df.assign(quat_rot_mag=np.arccos(df[\"rot_w\"]) * 2)\n",
    "\n",
    "df = add_quat_angle_mag(df)"
   ]
  },
  {
   "cell_type": "markdown",
   "id": "7127f2da",
   "metadata": {},
   "source": [
    "### Angular velocity\n",
    "Compute the axis of the rotation difference and its angular magnutide.  \n",
    "Top notebooks scale the vector by the angular magnitude.  \n",
    "I will also include the magnitude and unit axis vector in case they turn out to be more informative.   "
   ]
  },
  {
   "cell_type": "code",
   "execution_count": 104,
   "id": "9c6cf592",
   "metadata": {},
   "outputs": [],
   "source": [
    "def add_angular_velocity_features(df:DF) -> DF:\n",
    "    rotations = Rotation.from_quat(df[QUATERNION_COLS])\n",
    "    delta_rotations = rotations[1:] * rotations[:-1].inv()\n",
    "    delta_rot_velocity = delta_rotations.as_rotvec()\n",
    "    # Add extra line to avoid shape mismatch\n",
    "    delta_rot_velocity = np.vstack((np.zeros((1, 3)), delta_rot_velocity))\n",
    "    delta_rot_magnitude = norm(delta_rot_velocity, axis=1, keepdims=True)\n",
    "    delta_rot_axes = delta_rot_velocity / (delta_rot_magnitude + EPSILON)\n",
    "    df[DELTA_ROTATION_ANGULAR_VELOCITY_COLS] = delta_rot_velocity\n",
    "    df[DELTA_ROTATION_AXES_COLS] = delta_rot_axes\n",
    "    df[\"delta_rot_mag\"] = delta_rot_magnitude.squeeze()\n",
    "\n",
    "    return df\n",
    "\n",
    "df = add_angular_velocity_features(df)"
   ]
  },
  {
   "cell_type": "markdown",
   "id": "6ae43d1a",
   "metadata": {},
   "source": [
    "### Euler angles from quaternions"
   ]
  },
  {
   "cell_type": "code",
   "execution_count": 105,
   "id": "c99bce0b",
   "metadata": {},
   "outputs": [],
   "source": [
    "def rot_euler_angles(df:DF) -> ndarray:\n",
    "    df[EULER_ANGLES_COLS] = (\n",
    "        Rotation\n",
    "        .from_quat(df[QUATERNION_COLS])\n",
    "        .as_euler(\"xyz\")\n",
    "        .squeeze()\n",
    "    )\n",
    "    return df\n",
    "\n",
    "df = rot_euler_angles(df)"
   ]
  },
  {
   "cell_type": "markdown",
   "id": "18979983",
   "metadata": {},
   "source": [
    "### One hot encode target values."
   ]
  },
  {
   "cell_type": "code",
   "execution_count": 106,
   "id": "05661625",
   "metadata": {},
   "outputs": [
    {
     "data": {
      "text/html": [
       "<div>\n",
       "<style scoped>\n",
       "    .dataframe tbody tr th:only-of-type {\n",
       "        vertical-align: middle;\n",
       "    }\n",
       "\n",
       "    .dataframe tbody tr th {\n",
       "        vertical-align: top;\n",
       "    }\n",
       "\n",
       "    .dataframe thead th {\n",
       "        text-align: right;\n",
       "    }\n",
       "</style>\n",
       "<table border=\"1\" class=\"dataframe\">\n",
       "  <thead>\n",
       "    <tr style=\"text-align: right;\">\n",
       "      <th></th>\n",
       "      <th>row_id</th>\n",
       "      <th>sequence_type</th>\n",
       "      <th>sequence_id</th>\n",
       "      <th>sequence_counter</th>\n",
       "      <th>subject</th>\n",
       "      <th>orientation</th>\n",
       "      <th>behavior</th>\n",
       "      <th>phase</th>\n",
       "      <th>gesture</th>\n",
       "      <th>acc_x</th>\n",
       "      <th>...</th>\n",
       "      <th>Neck - scratch</th>\n",
       "      <th>Text on phone</th>\n",
       "      <th>Wave hello</th>\n",
       "      <th>Write name in air</th>\n",
       "      <th>Write name on leg</th>\n",
       "      <th>Drink from bottle/cup</th>\n",
       "      <th>Pinch knee/leg skin</th>\n",
       "      <th>Pull air toward your face</th>\n",
       "      <th>Scratch knee/leg skin</th>\n",
       "      <th>Glasses on/off</th>\n",
       "    </tr>\n",
       "  </thead>\n",
       "  <tbody>\n",
       "    <tr>\n",
       "      <th>0</th>\n",
       "      <td>SEQ_000007_000000</td>\n",
       "      <td>Target</td>\n",
       "      <td>SEQ_000007</td>\n",
       "      <td>0</td>\n",
       "      <td>SUBJ_059520</td>\n",
       "      <td>Seated Lean Non Dom - FACE DOWN</td>\n",
       "      <td>Relaxes and moves hand to target location</td>\n",
       "      <td>Transition</td>\n",
       "      <td>Cheek - pinch skin</td>\n",
       "      <td>6.683594</td>\n",
       "      <td>...</td>\n",
       "      <td>False</td>\n",
       "      <td>False</td>\n",
       "      <td>False</td>\n",
       "      <td>False</td>\n",
       "      <td>False</td>\n",
       "      <td>False</td>\n",
       "      <td>False</td>\n",
       "      <td>False</td>\n",
       "      <td>False</td>\n",
       "      <td>False</td>\n",
       "    </tr>\n",
       "    <tr>\n",
       "      <th>1</th>\n",
       "      <td>SEQ_000007_000001</td>\n",
       "      <td>Target</td>\n",
       "      <td>SEQ_000007</td>\n",
       "      <td>1</td>\n",
       "      <td>SUBJ_059520</td>\n",
       "      <td>Seated Lean Non Dom - FACE DOWN</td>\n",
       "      <td>Relaxes and moves hand to target location</td>\n",
       "      <td>Transition</td>\n",
       "      <td>Cheek - pinch skin</td>\n",
       "      <td>6.949219</td>\n",
       "      <td>...</td>\n",
       "      <td>False</td>\n",
       "      <td>False</td>\n",
       "      <td>False</td>\n",
       "      <td>False</td>\n",
       "      <td>False</td>\n",
       "      <td>False</td>\n",
       "      <td>False</td>\n",
       "      <td>False</td>\n",
       "      <td>False</td>\n",
       "      <td>False</td>\n",
       "    </tr>\n",
       "    <tr>\n",
       "      <th>2</th>\n",
       "      <td>SEQ_000007_000002</td>\n",
       "      <td>Target</td>\n",
       "      <td>SEQ_000007</td>\n",
       "      <td>2</td>\n",
       "      <td>SUBJ_059520</td>\n",
       "      <td>Seated Lean Non Dom - FACE DOWN</td>\n",
       "      <td>Relaxes and moves hand to target location</td>\n",
       "      <td>Transition</td>\n",
       "      <td>Cheek - pinch skin</td>\n",
       "      <td>5.722656</td>\n",
       "      <td>...</td>\n",
       "      <td>False</td>\n",
       "      <td>False</td>\n",
       "      <td>False</td>\n",
       "      <td>False</td>\n",
       "      <td>False</td>\n",
       "      <td>False</td>\n",
       "      <td>False</td>\n",
       "      <td>False</td>\n",
       "      <td>False</td>\n",
       "      <td>False</td>\n",
       "    </tr>\n",
       "    <tr>\n",
       "      <th>3</th>\n",
       "      <td>SEQ_000007_000003</td>\n",
       "      <td>Target</td>\n",
       "      <td>SEQ_000007</td>\n",
       "      <td>3</td>\n",
       "      <td>SUBJ_059520</td>\n",
       "      <td>Seated Lean Non Dom - FACE DOWN</td>\n",
       "      <td>Relaxes and moves hand to target location</td>\n",
       "      <td>Transition</td>\n",
       "      <td>Cheek - pinch skin</td>\n",
       "      <td>6.601562</td>\n",
       "      <td>...</td>\n",
       "      <td>False</td>\n",
       "      <td>False</td>\n",
       "      <td>False</td>\n",
       "      <td>False</td>\n",
       "      <td>False</td>\n",
       "      <td>False</td>\n",
       "      <td>False</td>\n",
       "      <td>False</td>\n",
       "      <td>False</td>\n",
       "      <td>False</td>\n",
       "    </tr>\n",
       "    <tr>\n",
       "      <th>4</th>\n",
       "      <td>SEQ_000007_000004</td>\n",
       "      <td>Target</td>\n",
       "      <td>SEQ_000007</td>\n",
       "      <td>4</td>\n",
       "      <td>SUBJ_059520</td>\n",
       "      <td>Seated Lean Non Dom - FACE DOWN</td>\n",
       "      <td>Relaxes and moves hand to target location</td>\n",
       "      <td>Transition</td>\n",
       "      <td>Cheek - pinch skin</td>\n",
       "      <td>5.566406</td>\n",
       "      <td>...</td>\n",
       "      <td>False</td>\n",
       "      <td>False</td>\n",
       "      <td>False</td>\n",
       "      <td>False</td>\n",
       "      <td>False</td>\n",
       "      <td>False</td>\n",
       "      <td>False</td>\n",
       "      <td>False</td>\n",
       "      <td>False</td>\n",
       "      <td>False</td>\n",
       "    </tr>\n",
       "    <tr>\n",
       "      <th>...</th>\n",
       "      <td>...</td>\n",
       "      <td>...</td>\n",
       "      <td>...</td>\n",
       "      <td>...</td>\n",
       "      <td>...</td>\n",
       "      <td>...</td>\n",
       "      <td>...</td>\n",
       "      <td>...</td>\n",
       "      <td>...</td>\n",
       "      <td>...</td>\n",
       "      <td>...</td>\n",
       "      <td>...</td>\n",
       "      <td>...</td>\n",
       "      <td>...</td>\n",
       "      <td>...</td>\n",
       "      <td>...</td>\n",
       "      <td>...</td>\n",
       "      <td>...</td>\n",
       "      <td>...</td>\n",
       "      <td>...</td>\n",
       "      <td>...</td>\n",
       "    </tr>\n",
       "    <tr>\n",
       "      <th>574940</th>\n",
       "      <td>SEQ_065531_000048</td>\n",
       "      <td>Non-Target</td>\n",
       "      <td>SEQ_065531</td>\n",
       "      <td>48</td>\n",
       "      <td>SUBJ_039498</td>\n",
       "      <td>Seated Lean Non Dom - FACE DOWN</td>\n",
       "      <td>Performs gesture</td>\n",
       "      <td>Gesture</td>\n",
       "      <td>Write name on leg</td>\n",
       "      <td>3.503906</td>\n",
       "      <td>...</td>\n",
       "      <td>False</td>\n",
       "      <td>False</td>\n",
       "      <td>False</td>\n",
       "      <td>False</td>\n",
       "      <td>True</td>\n",
       "      <td>False</td>\n",
       "      <td>False</td>\n",
       "      <td>False</td>\n",
       "      <td>False</td>\n",
       "      <td>False</td>\n",
       "    </tr>\n",
       "    <tr>\n",
       "      <th>574941</th>\n",
       "      <td>SEQ_065531_000049</td>\n",
       "      <td>Non-Target</td>\n",
       "      <td>SEQ_065531</td>\n",
       "      <td>49</td>\n",
       "      <td>SUBJ_039498</td>\n",
       "      <td>Seated Lean Non Dom - FACE DOWN</td>\n",
       "      <td>Performs gesture</td>\n",
       "      <td>Gesture</td>\n",
       "      <td>Write name on leg</td>\n",
       "      <td>3.773438</td>\n",
       "      <td>...</td>\n",
       "      <td>False</td>\n",
       "      <td>False</td>\n",
       "      <td>False</td>\n",
       "      <td>False</td>\n",
       "      <td>True</td>\n",
       "      <td>False</td>\n",
       "      <td>False</td>\n",
       "      <td>False</td>\n",
       "      <td>False</td>\n",
       "      <td>False</td>\n",
       "    </tr>\n",
       "    <tr>\n",
       "      <th>574942</th>\n",
       "      <td>SEQ_065531_000050</td>\n",
       "      <td>Non-Target</td>\n",
       "      <td>SEQ_065531</td>\n",
       "      <td>50</td>\n",
       "      <td>SUBJ_039498</td>\n",
       "      <td>Seated Lean Non Dom - FACE DOWN</td>\n",
       "      <td>Performs gesture</td>\n",
       "      <td>Gesture</td>\n",
       "      <td>Write name on leg</td>\n",
       "      <td>3.082031</td>\n",
       "      <td>...</td>\n",
       "      <td>False</td>\n",
       "      <td>False</td>\n",
       "      <td>False</td>\n",
       "      <td>False</td>\n",
       "      <td>True</td>\n",
       "      <td>False</td>\n",
       "      <td>False</td>\n",
       "      <td>False</td>\n",
       "      <td>False</td>\n",
       "      <td>False</td>\n",
       "    </tr>\n",
       "    <tr>\n",
       "      <th>574943</th>\n",
       "      <td>SEQ_065531_000051</td>\n",
       "      <td>Non-Target</td>\n",
       "      <td>SEQ_065531</td>\n",
       "      <td>51</td>\n",
       "      <td>SUBJ_039498</td>\n",
       "      <td>Seated Lean Non Dom - FACE DOWN</td>\n",
       "      <td>Performs gesture</td>\n",
       "      <td>Gesture</td>\n",
       "      <td>Write name on leg</td>\n",
       "      <td>3.964844</td>\n",
       "      <td>...</td>\n",
       "      <td>False</td>\n",
       "      <td>False</td>\n",
       "      <td>False</td>\n",
       "      <td>False</td>\n",
       "      <td>True</td>\n",
       "      <td>False</td>\n",
       "      <td>False</td>\n",
       "      <td>False</td>\n",
       "      <td>False</td>\n",
       "      <td>False</td>\n",
       "    </tr>\n",
       "    <tr>\n",
       "      <th>574944</th>\n",
       "      <td>SEQ_065531_000052</td>\n",
       "      <td>Non-Target</td>\n",
       "      <td>SEQ_065531</td>\n",
       "      <td>52</td>\n",
       "      <td>SUBJ_039498</td>\n",
       "      <td>Seated Lean Non Dom - FACE DOWN</td>\n",
       "      <td>Performs gesture</td>\n",
       "      <td>Gesture</td>\n",
       "      <td>Write name on leg</td>\n",
       "      <td>4.269531</td>\n",
       "      <td>...</td>\n",
       "      <td>False</td>\n",
       "      <td>False</td>\n",
       "      <td>False</td>\n",
       "      <td>False</td>\n",
       "      <td>True</td>\n",
       "      <td>False</td>\n",
       "      <td>False</td>\n",
       "      <td>False</td>\n",
       "      <td>False</td>\n",
       "      <td>False</td>\n",
       "    </tr>\n",
       "  </tbody>\n",
       "</table>\n",
       "<p>574945 rows × 375 columns</p>\n",
       "</div>"
      ],
      "text/plain": [
       "                   row_id sequence_type sequence_id  sequence_counter  \\\n",
       "0       SEQ_000007_000000        Target  SEQ_000007                 0   \n",
       "1       SEQ_000007_000001        Target  SEQ_000007                 1   \n",
       "2       SEQ_000007_000002        Target  SEQ_000007                 2   \n",
       "3       SEQ_000007_000003        Target  SEQ_000007                 3   \n",
       "4       SEQ_000007_000004        Target  SEQ_000007                 4   \n",
       "...                   ...           ...         ...               ...   \n",
       "574940  SEQ_065531_000048    Non-Target  SEQ_065531                48   \n",
       "574941  SEQ_065531_000049    Non-Target  SEQ_065531                49   \n",
       "574942  SEQ_065531_000050    Non-Target  SEQ_065531                50   \n",
       "574943  SEQ_065531_000051    Non-Target  SEQ_065531                51   \n",
       "574944  SEQ_065531_000052    Non-Target  SEQ_065531                52   \n",
       "\n",
       "            subject                      orientation  \\\n",
       "0       SUBJ_059520  Seated Lean Non Dom - FACE DOWN   \n",
       "1       SUBJ_059520  Seated Lean Non Dom - FACE DOWN   \n",
       "2       SUBJ_059520  Seated Lean Non Dom - FACE DOWN   \n",
       "3       SUBJ_059520  Seated Lean Non Dom - FACE DOWN   \n",
       "4       SUBJ_059520  Seated Lean Non Dom - FACE DOWN   \n",
       "...             ...                              ...   \n",
       "574940  SUBJ_039498  Seated Lean Non Dom - FACE DOWN   \n",
       "574941  SUBJ_039498  Seated Lean Non Dom - FACE DOWN   \n",
       "574942  SUBJ_039498  Seated Lean Non Dom - FACE DOWN   \n",
       "574943  SUBJ_039498  Seated Lean Non Dom - FACE DOWN   \n",
       "574944  SUBJ_039498  Seated Lean Non Dom - FACE DOWN   \n",
       "\n",
       "                                         behavior       phase  \\\n",
       "0       Relaxes and moves hand to target location  Transition   \n",
       "1       Relaxes and moves hand to target location  Transition   \n",
       "2       Relaxes and moves hand to target location  Transition   \n",
       "3       Relaxes and moves hand to target location  Transition   \n",
       "4       Relaxes and moves hand to target location  Transition   \n",
       "...                                           ...         ...   \n",
       "574940                           Performs gesture     Gesture   \n",
       "574941                           Performs gesture     Gesture   \n",
       "574942                           Performs gesture     Gesture   \n",
       "574943                           Performs gesture     Gesture   \n",
       "574944                           Performs gesture     Gesture   \n",
       "\n",
       "                   gesture     acc_x  ...  Neck - scratch  Text on phone  \\\n",
       "0       Cheek - pinch skin  6.683594  ...           False          False   \n",
       "1       Cheek - pinch skin  6.949219  ...           False          False   \n",
       "2       Cheek - pinch skin  5.722656  ...           False          False   \n",
       "3       Cheek - pinch skin  6.601562  ...           False          False   \n",
       "4       Cheek - pinch skin  5.566406  ...           False          False   \n",
       "...                    ...       ...  ...             ...            ...   \n",
       "574940   Write name on leg  3.503906  ...           False          False   \n",
       "574941   Write name on leg  3.773438  ...           False          False   \n",
       "574942   Write name on leg  3.082031  ...           False          False   \n",
       "574943   Write name on leg  3.964844  ...           False          False   \n",
       "574944   Write name on leg  4.269531  ...           False          False   \n",
       "\n",
       "        Wave hello  Write name in air  Write name on leg  \\\n",
       "0            False              False              False   \n",
       "1            False              False              False   \n",
       "2            False              False              False   \n",
       "3            False              False              False   \n",
       "4            False              False              False   \n",
       "...            ...                ...                ...   \n",
       "574940       False              False               True   \n",
       "574941       False              False               True   \n",
       "574942       False              False               True   \n",
       "574943       False              False               True   \n",
       "574944       False              False               True   \n",
       "\n",
       "        Drink from bottle/cup  Pinch knee/leg skin  Pull air toward your face  \\\n",
       "0                       False                False                      False   \n",
       "1                       False                False                      False   \n",
       "2                       False                False                      False   \n",
       "3                       False                False                      False   \n",
       "4                       False                False                      False   \n",
       "...                       ...                  ...                        ...   \n",
       "574940                  False                False                      False   \n",
       "574941                  False                False                      False   \n",
       "574942                  False                False                      False   \n",
       "574943                  False                False                      False   \n",
       "574944                  False                False                      False   \n",
       "\n",
       "        Scratch knee/leg skin  Glasses on/off  \n",
       "0                       False           False  \n",
       "1                       False           False  \n",
       "2                       False           False  \n",
       "3                       False           False  \n",
       "4                       False           False  \n",
       "...                       ...             ...  \n",
       "574940                  False           False  \n",
       "574941                  False           False  \n",
       "574942                  False           False  \n",
       "574943                  False           False  \n",
       "574944                  False           False  \n",
       "\n",
       "[574945 rows x 375 columns]"
      ]
     },
     "execution_count": 106,
     "metadata": {},
     "output_type": "execute_result"
    }
   ],
   "source": [
    "one_hot_target = pd.get_dummies(df[\"gesture\"])\n",
    "df[one_hot_target.columns] = one_hot_target\n",
    "df"
   ]
  },
  {
   "cell_type": "markdown",
   "id": "8812dc08",
   "metadata": {},
   "source": [
    "### ToF data aggregation.\n",
    "Time of Flight columns take most of the data, let's reduce their size by aggregating by mean for each Time of Flight sensor."
   ]
  },
  {
   "cell_type": "code",
   "execution_count": 107,
   "id": "2b4f83f2",
   "metadata": {},
   "outputs": [
    {
     "data": {
      "text/html": [
       "<div>\n",
       "<style scoped>\n",
       "    .dataframe tbody tr th:only-of-type {\n",
       "        vertical-align: middle;\n",
       "    }\n",
       "\n",
       "    .dataframe tbody tr th {\n",
       "        vertical-align: top;\n",
       "    }\n",
       "\n",
       "    .dataframe thead th {\n",
       "        text-align: right;\n",
       "    }\n",
       "</style>\n",
       "<table border=\"1\" class=\"dataframe\">\n",
       "  <thead>\n",
       "    <tr style=\"text-align: right;\">\n",
       "      <th></th>\n",
       "      <th>row_id</th>\n",
       "      <th>sequence_type</th>\n",
       "      <th>sequence_id</th>\n",
       "      <th>sequence_counter</th>\n",
       "      <th>subject</th>\n",
       "      <th>orientation</th>\n",
       "      <th>behavior</th>\n",
       "      <th>phase</th>\n",
       "      <th>gesture</th>\n",
       "      <th>acc_x</th>\n",
       "      <th>...</th>\n",
       "      <th>Drink from bottle/cup</th>\n",
       "      <th>Pinch knee/leg skin</th>\n",
       "      <th>Pull air toward your face</th>\n",
       "      <th>Scratch knee/leg skin</th>\n",
       "      <th>Glasses on/off</th>\n",
       "      <th>tof_1</th>\n",
       "      <th>tof_2</th>\n",
       "      <th>tof_3</th>\n",
       "      <th>tof_4</th>\n",
       "      <th>tof_5</th>\n",
       "    </tr>\n",
       "  </thead>\n",
       "  <tbody>\n",
       "    <tr>\n",
       "      <th>0</th>\n",
       "      <td>SEQ_000007_000000</td>\n",
       "      <td>Target</td>\n",
       "      <td>SEQ_000007</td>\n",
       "      <td>0</td>\n",
       "      <td>SUBJ_059520</td>\n",
       "      <td>Seated Lean Non Dom - FACE DOWN</td>\n",
       "      <td>Relaxes and moves hand to target location</td>\n",
       "      <td>Transition</td>\n",
       "      <td>Cheek - pinch skin</td>\n",
       "      <td>6.683594</td>\n",
       "      <td>...</td>\n",
       "      <td>False</td>\n",
       "      <td>False</td>\n",
       "      <td>False</td>\n",
       "      <td>False</td>\n",
       "      <td>False</td>\n",
       "      <td>139.250000</td>\n",
       "      <td>117.109375</td>\n",
       "      <td>91.687500</td>\n",
       "      <td>123.359375</td>\n",
       "      <td>135.343750</td>\n",
       "    </tr>\n",
       "    <tr>\n",
       "      <th>1</th>\n",
       "      <td>SEQ_000007_000001</td>\n",
       "      <td>Target</td>\n",
       "      <td>SEQ_000007</td>\n",
       "      <td>1</td>\n",
       "      <td>SUBJ_059520</td>\n",
       "      <td>Seated Lean Non Dom - FACE DOWN</td>\n",
       "      <td>Relaxes and moves hand to target location</td>\n",
       "      <td>Transition</td>\n",
       "      <td>Cheek - pinch skin</td>\n",
       "      <td>6.949219</td>\n",
       "      <td>...</td>\n",
       "      <td>False</td>\n",
       "      <td>False</td>\n",
       "      <td>False</td>\n",
       "      <td>False</td>\n",
       "      <td>False</td>\n",
       "      <td>139.796875</td>\n",
       "      <td>119.671875</td>\n",
       "      <td>97.921875</td>\n",
       "      <td>124.406250</td>\n",
       "      <td>137.000000</td>\n",
       "    </tr>\n",
       "    <tr>\n",
       "      <th>2</th>\n",
       "      <td>SEQ_000007_000002</td>\n",
       "      <td>Target</td>\n",
       "      <td>SEQ_000007</td>\n",
       "      <td>2</td>\n",
       "      <td>SUBJ_059520</td>\n",
       "      <td>Seated Lean Non Dom - FACE DOWN</td>\n",
       "      <td>Relaxes and moves hand to target location</td>\n",
       "      <td>Transition</td>\n",
       "      <td>Cheek - pinch skin</td>\n",
       "      <td>5.722656</td>\n",
       "      <td>...</td>\n",
       "      <td>False</td>\n",
       "      <td>False</td>\n",
       "      <td>False</td>\n",
       "      <td>False</td>\n",
       "      <td>False</td>\n",
       "      <td>142.375000</td>\n",
       "      <td>128.359375</td>\n",
       "      <td>116.953125</td>\n",
       "      <td>125.687500</td>\n",
       "      <td>140.234375</td>\n",
       "    </tr>\n",
       "    <tr>\n",
       "      <th>3</th>\n",
       "      <td>SEQ_000007_000003</td>\n",
       "      <td>Target</td>\n",
       "      <td>SEQ_000007</td>\n",
       "      <td>3</td>\n",
       "      <td>SUBJ_059520</td>\n",
       "      <td>Seated Lean Non Dom - FACE DOWN</td>\n",
       "      <td>Relaxes and moves hand to target location</td>\n",
       "      <td>Transition</td>\n",
       "      <td>Cheek - pinch skin</td>\n",
       "      <td>6.601562</td>\n",
       "      <td>...</td>\n",
       "      <td>False</td>\n",
       "      <td>False</td>\n",
       "      <td>False</td>\n",
       "      <td>False</td>\n",
       "      <td>False</td>\n",
       "      <td>154.109375</td>\n",
       "      <td>142.093750</td>\n",
       "      <td>144.515625</td>\n",
       "      <td>149.078125</td>\n",
       "      <td>142.609375</td>\n",
       "    </tr>\n",
       "    <tr>\n",
       "      <th>4</th>\n",
       "      <td>SEQ_000007_000004</td>\n",
       "      <td>Target</td>\n",
       "      <td>SEQ_000007</td>\n",
       "      <td>4</td>\n",
       "      <td>SUBJ_059520</td>\n",
       "      <td>Seated Lean Non Dom - FACE DOWN</td>\n",
       "      <td>Relaxes and moves hand to target location</td>\n",
       "      <td>Transition</td>\n",
       "      <td>Cheek - pinch skin</td>\n",
       "      <td>5.566406</td>\n",
       "      <td>...</td>\n",
       "      <td>False</td>\n",
       "      <td>False</td>\n",
       "      <td>False</td>\n",
       "      <td>False</td>\n",
       "      <td>False</td>\n",
       "      <td>177.953125</td>\n",
       "      <td>149.453125</td>\n",
       "      <td>161.828125</td>\n",
       "      <td>163.765625</td>\n",
       "      <td>151.265625</td>\n",
       "    </tr>\n",
       "    <tr>\n",
       "      <th>...</th>\n",
       "      <td>...</td>\n",
       "      <td>...</td>\n",
       "      <td>...</td>\n",
       "      <td>...</td>\n",
       "      <td>...</td>\n",
       "      <td>...</td>\n",
       "      <td>...</td>\n",
       "      <td>...</td>\n",
       "      <td>...</td>\n",
       "      <td>...</td>\n",
       "      <td>...</td>\n",
       "      <td>...</td>\n",
       "      <td>...</td>\n",
       "      <td>...</td>\n",
       "      <td>...</td>\n",
       "      <td>...</td>\n",
       "      <td>...</td>\n",
       "      <td>...</td>\n",
       "      <td>...</td>\n",
       "      <td>...</td>\n",
       "      <td>...</td>\n",
       "    </tr>\n",
       "    <tr>\n",
       "      <th>574940</th>\n",
       "      <td>SEQ_065531_000048</td>\n",
       "      <td>Non-Target</td>\n",
       "      <td>SEQ_065531</td>\n",
       "      <td>48</td>\n",
       "      <td>SUBJ_039498</td>\n",
       "      <td>Seated Lean Non Dom - FACE DOWN</td>\n",
       "      <td>Performs gesture</td>\n",
       "      <td>Gesture</td>\n",
       "      <td>Write name on leg</td>\n",
       "      <td>3.503906</td>\n",
       "      <td>...</td>\n",
       "      <td>False</td>\n",
       "      <td>False</td>\n",
       "      <td>False</td>\n",
       "      <td>False</td>\n",
       "      <td>False</td>\n",
       "      <td>68.562500</td>\n",
       "      <td>67.750000</td>\n",
       "      <td>144.437500</td>\n",
       "      <td>74.062500</td>\n",
       "      <td>52.843750</td>\n",
       "    </tr>\n",
       "    <tr>\n",
       "      <th>574941</th>\n",
       "      <td>SEQ_065531_000049</td>\n",
       "      <td>Non-Target</td>\n",
       "      <td>SEQ_065531</td>\n",
       "      <td>49</td>\n",
       "      <td>SUBJ_039498</td>\n",
       "      <td>Seated Lean Non Dom - FACE DOWN</td>\n",
       "      <td>Performs gesture</td>\n",
       "      <td>Gesture</td>\n",
       "      <td>Write name on leg</td>\n",
       "      <td>3.773438</td>\n",
       "      <td>...</td>\n",
       "      <td>False</td>\n",
       "      <td>False</td>\n",
       "      <td>False</td>\n",
       "      <td>False</td>\n",
       "      <td>False</td>\n",
       "      <td>70.234375</td>\n",
       "      <td>66.656250</td>\n",
       "      <td>144.000000</td>\n",
       "      <td>70.406250</td>\n",
       "      <td>54.531250</td>\n",
       "    </tr>\n",
       "    <tr>\n",
       "      <th>574942</th>\n",
       "      <td>SEQ_065531_000050</td>\n",
       "      <td>Non-Target</td>\n",
       "      <td>SEQ_065531</td>\n",
       "      <td>50</td>\n",
       "      <td>SUBJ_039498</td>\n",
       "      <td>Seated Lean Non Dom - FACE DOWN</td>\n",
       "      <td>Performs gesture</td>\n",
       "      <td>Gesture</td>\n",
       "      <td>Write name on leg</td>\n",
       "      <td>3.082031</td>\n",
       "      <td>...</td>\n",
       "      <td>False</td>\n",
       "      <td>False</td>\n",
       "      <td>False</td>\n",
       "      <td>False</td>\n",
       "      <td>False</td>\n",
       "      <td>66.671875</td>\n",
       "      <td>62.906250</td>\n",
       "      <td>136.906250</td>\n",
       "      <td>70.109375</td>\n",
       "      <td>57.468750</td>\n",
       "    </tr>\n",
       "    <tr>\n",
       "      <th>574943</th>\n",
       "      <td>SEQ_065531_000051</td>\n",
       "      <td>Non-Target</td>\n",
       "      <td>SEQ_065531</td>\n",
       "      <td>51</td>\n",
       "      <td>SUBJ_039498</td>\n",
       "      <td>Seated Lean Non Dom - FACE DOWN</td>\n",
       "      <td>Performs gesture</td>\n",
       "      <td>Gesture</td>\n",
       "      <td>Write name on leg</td>\n",
       "      <td>3.964844</td>\n",
       "      <td>...</td>\n",
       "      <td>False</td>\n",
       "      <td>False</td>\n",
       "      <td>False</td>\n",
       "      <td>False</td>\n",
       "      <td>False</td>\n",
       "      <td>67.218750</td>\n",
       "      <td>64.500000</td>\n",
       "      <td>140.531250</td>\n",
       "      <td>75.609375</td>\n",
       "      <td>54.937500</td>\n",
       "    </tr>\n",
       "    <tr>\n",
       "      <th>574944</th>\n",
       "      <td>SEQ_065531_000052</td>\n",
       "      <td>Non-Target</td>\n",
       "      <td>SEQ_065531</td>\n",
       "      <td>52</td>\n",
       "      <td>SUBJ_039498</td>\n",
       "      <td>Seated Lean Non Dom - FACE DOWN</td>\n",
       "      <td>Performs gesture</td>\n",
       "      <td>Gesture</td>\n",
       "      <td>Write name on leg</td>\n",
       "      <td>4.269531</td>\n",
       "      <td>...</td>\n",
       "      <td>False</td>\n",
       "      <td>False</td>\n",
       "      <td>False</td>\n",
       "      <td>False</td>\n",
       "      <td>False</td>\n",
       "      <td>68.937500</td>\n",
       "      <td>65.156250</td>\n",
       "      <td>143.906250</td>\n",
       "      <td>75.890625</td>\n",
       "      <td>55.281250</td>\n",
       "    </tr>\n",
       "  </tbody>\n",
       "</table>\n",
       "<p>574945 rows × 60 columns</p>\n",
       "</div>"
      ],
      "text/plain": [
       "                   row_id sequence_type sequence_id  sequence_counter  \\\n",
       "0       SEQ_000007_000000        Target  SEQ_000007                 0   \n",
       "1       SEQ_000007_000001        Target  SEQ_000007                 1   \n",
       "2       SEQ_000007_000002        Target  SEQ_000007                 2   \n",
       "3       SEQ_000007_000003        Target  SEQ_000007                 3   \n",
       "4       SEQ_000007_000004        Target  SEQ_000007                 4   \n",
       "...                   ...           ...         ...               ...   \n",
       "574940  SEQ_065531_000048    Non-Target  SEQ_065531                48   \n",
       "574941  SEQ_065531_000049    Non-Target  SEQ_065531                49   \n",
       "574942  SEQ_065531_000050    Non-Target  SEQ_065531                50   \n",
       "574943  SEQ_065531_000051    Non-Target  SEQ_065531                51   \n",
       "574944  SEQ_065531_000052    Non-Target  SEQ_065531                52   \n",
       "\n",
       "            subject                      orientation  \\\n",
       "0       SUBJ_059520  Seated Lean Non Dom - FACE DOWN   \n",
       "1       SUBJ_059520  Seated Lean Non Dom - FACE DOWN   \n",
       "2       SUBJ_059520  Seated Lean Non Dom - FACE DOWN   \n",
       "3       SUBJ_059520  Seated Lean Non Dom - FACE DOWN   \n",
       "4       SUBJ_059520  Seated Lean Non Dom - FACE DOWN   \n",
       "...             ...                              ...   \n",
       "574940  SUBJ_039498  Seated Lean Non Dom - FACE DOWN   \n",
       "574941  SUBJ_039498  Seated Lean Non Dom - FACE DOWN   \n",
       "574942  SUBJ_039498  Seated Lean Non Dom - FACE DOWN   \n",
       "574943  SUBJ_039498  Seated Lean Non Dom - FACE DOWN   \n",
       "574944  SUBJ_039498  Seated Lean Non Dom - FACE DOWN   \n",
       "\n",
       "                                         behavior       phase  \\\n",
       "0       Relaxes and moves hand to target location  Transition   \n",
       "1       Relaxes and moves hand to target location  Transition   \n",
       "2       Relaxes and moves hand to target location  Transition   \n",
       "3       Relaxes and moves hand to target location  Transition   \n",
       "4       Relaxes and moves hand to target location  Transition   \n",
       "...                                           ...         ...   \n",
       "574940                           Performs gesture     Gesture   \n",
       "574941                           Performs gesture     Gesture   \n",
       "574942                           Performs gesture     Gesture   \n",
       "574943                           Performs gesture     Gesture   \n",
       "574944                           Performs gesture     Gesture   \n",
       "\n",
       "                   gesture     acc_x  ...  Drink from bottle/cup  \\\n",
       "0       Cheek - pinch skin  6.683594  ...                  False   \n",
       "1       Cheek - pinch skin  6.949219  ...                  False   \n",
       "2       Cheek - pinch skin  5.722656  ...                  False   \n",
       "3       Cheek - pinch skin  6.601562  ...                  False   \n",
       "4       Cheek - pinch skin  5.566406  ...                  False   \n",
       "...                    ...       ...  ...                    ...   \n",
       "574940   Write name on leg  3.503906  ...                  False   \n",
       "574941   Write name on leg  3.773438  ...                  False   \n",
       "574942   Write name on leg  3.082031  ...                  False   \n",
       "574943   Write name on leg  3.964844  ...                  False   \n",
       "574944   Write name on leg  4.269531  ...                  False   \n",
       "\n",
       "        Pinch knee/leg skin  Pull air toward your face  Scratch knee/leg skin  \\\n",
       "0                     False                      False                  False   \n",
       "1                     False                      False                  False   \n",
       "2                     False                      False                  False   \n",
       "3                     False                      False                  False   \n",
       "4                     False                      False                  False   \n",
       "...                     ...                        ...                    ...   \n",
       "574940                False                      False                  False   \n",
       "574941                False                      False                  False   \n",
       "574942                False                      False                  False   \n",
       "574943                False                      False                  False   \n",
       "574944                False                      False                  False   \n",
       "\n",
       "        Glasses on/off       tof_1       tof_2       tof_3       tof_4  \\\n",
       "0                False  139.250000  117.109375   91.687500  123.359375   \n",
       "1                False  139.796875  119.671875   97.921875  124.406250   \n",
       "2                False  142.375000  128.359375  116.953125  125.687500   \n",
       "3                False  154.109375  142.093750  144.515625  149.078125   \n",
       "4                False  177.953125  149.453125  161.828125  163.765625   \n",
       "...                ...         ...         ...         ...         ...   \n",
       "574940           False   68.562500   67.750000  144.437500   74.062500   \n",
       "574941           False   70.234375   66.656250  144.000000   70.406250   \n",
       "574942           False   66.671875   62.906250  136.906250   70.109375   \n",
       "574943           False   67.218750   64.500000  140.531250   75.609375   \n",
       "574944           False   68.937500   65.156250  143.906250   75.890625   \n",
       "\n",
       "             tof_5  \n",
       "0       135.343750  \n",
       "1       137.000000  \n",
       "2       140.234375  \n",
       "3       142.609375  \n",
       "4       151.265625  \n",
       "...            ...  \n",
       "574940   52.843750  \n",
       "574941   54.531250  \n",
       "574942   57.468750  \n",
       "574943   54.937500  \n",
       "574944   55.281250  \n",
       "\n",
       "[574945 rows x 60 columns]"
      ]
     },
     "execution_count": 107,
     "metadata": {},
     "output_type": "execute_result"
    }
   ],
   "source": [
    "def agg_tof_cols_per_sensor(df:DF) -> DF:\n",
    "    for tof_idx in range(1, 6):\n",
    "        tof_name = f\"tof_{tof_idx}\"\n",
    "        tof_cols = [f\"{tof_name}_v{v_idx}\" for v_idx in range(64)]\n",
    "        if any(map(lambda col: col not in df.columns, tof_cols)):\n",
    "            print(f\"Some (or) all ToF {tof_idx} columns are not in the df. Maybe you already ran this cell?\")\n",
    "            continue\n",
    "        df = (\n",
    "            df\n",
    "            # Need to use a dict otherwise the name of the col will be \"tof_preffix\" instead of the value it contains\n",
    "            .assign(**{tof_name:df[tof_cols].mean(axis=\"columns\")})\n",
    "            .drop(columns=tof_cols)\n",
    "        )\n",
    "    return df\n",
    "\n",
    "df = agg_tof_cols_per_sensor(df)\n",
    "df"
   ]
  },
  {
   "cell_type": "markdown",
   "id": "daaafef8",
   "metadata": {},
   "source": [
    "### Add derivatives w.r.t time features"
   ]
  },
  {
   "cell_type": "code",
   "execution_count": 108,
   "id": "8bd05775",
   "metadata": {},
   "outputs": [],
   "source": [
    "def add_diff_features(df:DF) -> DF:\n",
    "    df[[col + \"_diff\" for col in get_feature_cols(df)]] = (\n",
    "        df\n",
    "        .groupby(\"sequence_id\", observed=True)\n",
    "        [get_feature_cols(df)]\n",
    "        .diff()\n",
    "        .fillna(get_fillna_val_per_feature_col(df))\n",
    "        .values\n",
    "    )\n",
    "    return df\n",
    "\n",
    "df = add_diff_features(df)"
   ]
  },
  {
   "cell_type": "code",
   "execution_count": 109,
   "id": "343e0255",
   "metadata": {},
   "outputs": [
    {
     "data": {
      "text/plain": [
       "66"
      ]
     },
     "execution_count": 109,
     "metadata": {},
     "output_type": "execute_result"
    }
   ],
   "source": [
    "len(get_feature_cols(df))"
   ]
  },
  {
   "cell_type": "markdown",
   "id": "05e480d3",
   "metadata": {},
   "source": [
    "### Split into folds"
   ]
  },
  {
   "cell_type": "code",
   "execution_count": 110,
   "id": "6a97fd1c",
   "metadata": {},
   "outputs": [
    {
     "data": {
      "text/plain": [
       "['Cheek - pinch skin',\n",
       " 'Forehead - pull hairline',\n",
       " 'Write name on leg',\n",
       " 'Feel around in tray and pull out an object',\n",
       " 'Neck - scratch',\n",
       " 'Neck - pinch skin',\n",
       " 'Eyelash - pull hair',\n",
       " 'Eyebrow - pull hair',\n",
       " 'Forehead - scratch',\n",
       " 'Above ear - pull hair',\n",
       " 'Wave hello',\n",
       " 'Write name in air',\n",
       " 'Text on phone',\n",
       " 'Pull air toward your face',\n",
       " 'Pinch knee/leg skin',\n",
       " 'Scratch knee/leg skin',\n",
       " 'Drink from bottle/cup',\n",
       " 'Glasses on/off']"
      ]
     },
     "execution_count": 110,
     "metadata": {},
     "output_type": "execute_result"
    }
   ],
   "source": [
    "df[\"gesture\"].unique().tolist()"
   ]
  },
  {
   "cell_type": "code",
   "execution_count": null,
   "id": "4bae51e8",
   "metadata": {},
   "outputs": [],
   "source": [
    "def split_dataset_stratified_groupkfold(df: pd.DataFrame, target_col: str, group_col: str) -> list[tuple[pd.DataFrame, pd.DataFrame]]:\n",
    "    sgkf = StratifiedGroupKFold(n_splits=N_FOLDS, shuffle=True)\n",
    "\n",
    "    folds = []\n",
    "    X = df.drop(columns=[target_col])\n",
    "    y = df[target_col]\n",
    "    groups = df[group_col]\n",
    "\n",
    "    for train_idx, valid_idx in sgkf.split(X, y, groups):\n",
    "        train_df = df.iloc[train_idx].copy()\n",
    "        valid_df = df.iloc[valid_idx].copy()\n",
    "        folds.append((train_df, valid_df))\n",
    "\n",
    "    return folds\n",
    "\n",
    "# Example usage:\n",
    "folds = split_dataset_stratified_groupkfold(df, target_col=\"gesture\", group_col=\"subject\")"
   ]
  },
  {
   "cell_type": "markdown",
   "id": "d81b9c0d",
   "metadata": {},
   "source": [
    "### Std norm\n",
    "Standard scale the feature cols (should probably do something different for IMU cols).  \n",
    "<!-- *Deprecated, std norm is now performed at dataset creation to avoid target leakage.*   -->"
   ]
  },
  {
   "cell_type": "code",
   "execution_count": 112,
   "id": "c9d5755e",
   "metadata": {},
   "outputs": [],
   "source": [
    "def std_norm_dataset(train:DF, val:DF) -> tuple[DF, DF]:\n",
    "    means = train[get_feature_cols(df)].mean().astype(\"float32\")\n",
    "    stds = train[get_feature_cols(df)].std().astype(\"float32\")\n",
    "    train.loc[:, get_feature_cols(df)] = (train[get_feature_cols(df)] - means) / stds\n",
    "    val.loc[:, get_feature_cols(df)] = (val[get_feature_cols(df)] - means) / stds\n",
    "    return train, val\n",
    "\n",
    "folds = list(starmap(std_norm_dataset, folds))"
   ]
  },
  {
   "cell_type": "markdown",
   "id": "b36ccf25",
   "metadata": {},
   "source": [
    "Normalize full dataset."
   ]
  },
  {
   "cell_type": "code",
   "execution_count": 113,
   "id": "9b2c7cac",
   "metadata": {},
   "outputs": [
    {
     "name": "stderr",
     "output_type": "stream",
     "text": [
      "/tmp/ipykernel_17519/629001182.py:6: FutureWarning:\n",
      "\n",
      "Setting an item of incompatible dtype is deprecated and will raise in a future error of pandas. Value '[0.63344209 0.68143673 0.74140548 ... 0.29969805 0.33057229 0.31433888]' has dtype incompatible with float32, please explicitly cast to a compatible dtype first.\n",
      "\n",
      "/tmp/ipykernel_17519/629001182.py:6: FutureWarning:\n",
      "\n",
      "Setting an item of incompatible dtype is deprecated and will raise in a future error of pandas. Value '[ 0.40467845  0.43377058  0.49058256 ... -0.96320044 -1.007662\n",
      " -1.00162401]' has dtype incompatible with float32, please explicitly cast to a compatible dtype first.\n",
      "\n",
      "/tmp/ipykernel_17519/629001182.py:6: FutureWarning:\n",
      "\n",
      "Setting an item of incompatible dtype is deprecated and will raise in a future error of pandas. Value '[0.92192948 0.93580851 0.7796449  ... 0.3332821  0.43304996 0.44690426]' has dtype incompatible with float32, please explicitly cast to a compatible dtype first.\n",
      "\n",
      "/tmp/ipykernel_17519/629001182.py:6: FutureWarning:\n",
      "\n",
      "Setting an item of incompatible dtype is deprecated and will raise in a future error of pandas. Value '[ 0.14872681  0.19953096  0.37176939 ... -0.9259047  -0.894307\n",
      " -0.88129619]' has dtype incompatible with float32, please explicitly cast to a compatible dtype first.\n",
      "\n",
      "/tmp/ipykernel_17519/629001182.py:6: FutureWarning:\n",
      "\n",
      "Setting an item of incompatible dtype is deprecated and will raise in a future error of pandas. Value '[-0.50852472 -0.4764371  -0.3341469  ... -1.60542168 -1.61081346\n",
      " -1.61396961]' has dtype incompatible with float32, please explicitly cast to a compatible dtype first.\n",
      "\n",
      "/tmp/ipykernel_17519/629001182.py:6: FutureWarning:\n",
      "\n",
      "Setting an item of incompatible dtype is deprecated and will raise in a future error of pandas. Value '[ 0.37828318  0.44191741  0.66331731 ... -1.41863723 -1.47327315\n",
      " -1.56520538]' has dtype incompatible with float32, please explicitly cast to a compatible dtype first.\n",
      "\n",
      "/tmp/ipykernel_17519/629001182.py:6: FutureWarning:\n",
      "\n",
      "Setting an item of incompatible dtype is deprecated and will raise in a future error of pandas. Value '[-0.1543143  -0.05438018 -0.3731254  ... -1.33143173 -0.96283624\n",
      " -0.78592757]' has dtype incompatible with float32, please explicitly cast to a compatible dtype first.\n",
      "\n",
      "/tmp/ipykernel_17519/629001182.py:6: FutureWarning:\n",
      "\n",
      "Setting an item of incompatible dtype is deprecated and will raise in a future error of pandas. Value '[1.18477426 1.19708885 0.97652363 ... 0.30165955 0.38943235 0.37884916]' has dtype incompatible with float32, please explicitly cast to a compatible dtype first.\n",
      "\n",
      "/tmp/ipykernel_17519/629001182.py:6: FutureWarning:\n",
      "\n",
      "Setting an item of incompatible dtype is deprecated and will raise in a future error of pandas. Value '[0.50231783 0.59310455 0.82146787 ... 0.62009948 0.69565178 0.67444004]' has dtype incompatible with float32, please explicitly cast to a compatible dtype first.\n",
      "\n",
      "/tmp/ipykernel_17519/629001182.py:6: FutureWarning:\n",
      "\n",
      "Setting an item of incompatible dtype is deprecated and will raise in a future error of pandas. Value '[ 0.62581574  0.58801223  0.96476591 ... -1.13877547 -1.41493335\n",
      " -1.50399587]' has dtype incompatible with float32, please explicitly cast to a compatible dtype first.\n",
      "\n",
      "/tmp/ipykernel_17519/629001182.py:6: FutureWarning:\n",
      "\n",
      "Setting an item of incompatible dtype is deprecated and will raise in a future error of pandas. Value '[0.87240755 0.91835342 0.70619159 ... 0.24943555 0.40213801 0.45484063]' has dtype incompatible with float32, please explicitly cast to a compatible dtype first.\n",
      "\n",
      "/tmp/ipykernel_17519/629001182.py:6: FutureWarning:\n",
      "\n",
      "Setting an item of incompatible dtype is deprecated and will raise in a future error of pandas. Value '[0.36724552 0.38668742 0.42327279 ... 0.84895603 0.86489636 0.87229757]' has dtype incompatible with float32, please explicitly cast to a compatible dtype first.\n",
      "\n",
      "/tmp/ipykernel_17519/629001182.py:6: FutureWarning:\n",
      "\n",
      "Setting an item of incompatible dtype is deprecated and will raise in a future error of pandas. Value '[ 0.8841304   0.8841304   0.72331979 ... -0.31414283 -0.42967666\n",
      " -0.54442986]' has dtype incompatible with float32, please explicitly cast to a compatible dtype first.\n",
      "\n",
      "/tmp/ipykernel_17519/629001182.py:6: FutureWarning:\n",
      "\n",
      "Setting an item of incompatible dtype is deprecated and will raise in a future error of pandas. Value '[-0.23869022 -0.14896993 -0.37290141 ... -1.64273835 -0.07708343\n",
      "  0.46263901]' has dtype incompatible with float32, please explicitly cast to a compatible dtype first.\n",
      "\n",
      "/tmp/ipykernel_17519/629001182.py:6: FutureWarning:\n",
      "\n",
      "Setting an item of incompatible dtype is deprecated and will raise in a future error of pandas. Value '[ 0.33957131  0.34994752  0.39886392 ... -1.03749939 -1.02712318\n",
      " -0.99451225]' has dtype incompatible with float32, please explicitly cast to a compatible dtype first.\n",
      "\n",
      "/tmp/ipykernel_17519/629001182.py:6: FutureWarning:\n",
      "\n",
      "Setting an item of incompatible dtype is deprecated and will raise in a future error of pandas. Value '[-1.23853993 -1.2679199  -1.34974677 ...  0.0416742   0.01715042\n",
      "  0.03026214]' has dtype incompatible with float32, please explicitly cast to a compatible dtype first.\n",
      "\n",
      "/tmp/ipykernel_17519/629001182.py:6: FutureWarning:\n",
      "\n",
      "Setting an item of incompatible dtype is deprecated and will raise in a future error of pandas. Value '[-0.01677826  0.00259618  0.02630819 ... -1.00227249 -0.90048435\n",
      " -0.89527928]' has dtype incompatible with float32, please explicitly cast to a compatible dtype first.\n",
      "\n",
      "/tmp/ipykernel_17519/629001182.py:6: FutureWarning:\n",
      "\n",
      "Setting an item of incompatible dtype is deprecated and will raise in a future error of pandas. Value '[-0.45493793 -0.33714769  0.02242254 ...  0.39941038  0.46789995\n",
      "  0.5316661 ]' has dtype incompatible with float32, please explicitly cast to a compatible dtype first.\n",
      "\n",
      "/tmp/ipykernel_17519/629001182.py:6: FutureWarning:\n",
      "\n",
      "Setting an item of incompatible dtype is deprecated and will raise in a future error of pandas. Value '[-0.19114313 -0.23970151  0.01806238 ... -0.02437902 -0.22398579\n",
      " -0.28935106]' has dtype incompatible with float32, please explicitly cast to a compatible dtype first.\n",
      "\n",
      "/tmp/ipykernel_17519/629001182.py:6: FutureWarning:\n",
      "\n",
      "Setting an item of incompatible dtype is deprecated and will raise in a future error of pandas. Value '[-0.99715055 -0.95773732 -0.63026367 ... -1.08920292 -1.07042212\n",
      " -1.09237714]' has dtype incompatible with float32, please explicitly cast to a compatible dtype first.\n",
      "\n",
      "/tmp/ipykernel_17519/629001182.py:6: FutureWarning:\n",
      "\n",
      "Setting an item of incompatible dtype is deprecated and will raise in a future error of pandas. Value '[0.91867394 0.88599032 0.61246329 ... 0.99485484 0.97932846 0.99747807]' has dtype incompatible with float32, please explicitly cast to a compatible dtype first.\n",
      "\n",
      "/tmp/ipykernel_17519/629001182.py:6: FutureWarning:\n",
      "\n",
      "Setting an item of incompatible dtype is deprecated and will raise in a future error of pandas. Value '[0.47793803 0.49229795 0.5108575  ... 0.61815265 0.56165606 0.56047498]' has dtype incompatible with float32, please explicitly cast to a compatible dtype first.\n",
      "\n",
      "/tmp/ipykernel_17519/629001182.py:6: FutureWarning:\n",
      "\n",
      "Setting an item of incompatible dtype is deprecated and will raise in a future error of pandas. Value '[-0.7163434  -0.68184003 -0.54935162 ... -0.74193903 -0.72243223\n",
      " -0.72446184]' has dtype incompatible with float32, please explicitly cast to a compatible dtype first.\n",
      "\n"
     ]
    }
   ],
   "source": [
    "# Retain full dataset meta data for inference\n",
    "full_dataset_meta_data = {\n",
    "    \"mean\": df[get_feature_cols(df)].mean().astype(\"float32\").to_dict(),\n",
    "    \"std\": df[get_feature_cols(df)].std().astype(\"float32\").to_dict(),\n",
    "}\n",
    "df.loc[:, get_feature_cols(df)] = (df[get_feature_cols(df)] - full_dataset_meta_data[\"mean\"]) / full_dataset_meta_data['std']"
   ]
  },
  {
   "cell_type": "markdown",
   "id": "7d8a04ce",
   "metadata": {},
   "source": [
    "Verify the mean and std of the full dataset."
   ]
  },
  {
   "cell_type": "code",
   "execution_count": 114,
   "id": "b02ca859",
   "metadata": {},
   "outputs": [
    {
     "data": {
      "text/html": [
       "<div>\n",
       "<style scoped>\n",
       "    .dataframe tbody tr th:only-of-type {\n",
       "        vertical-align: middle;\n",
       "    }\n",
       "\n",
       "    .dataframe tbody tr th {\n",
       "        vertical-align: top;\n",
       "    }\n",
       "\n",
       "    .dataframe thead th {\n",
       "        text-align: right;\n",
       "    }\n",
       "</style>\n",
       "<table border=\"1\" class=\"dataframe\">\n",
       "  <thead>\n",
       "    <tr style=\"text-align: right;\">\n",
       "      <th></th>\n",
       "      <th>quat_rot_mag_diff</th>\n",
       "      <th>rot_y_diff</th>\n",
       "      <th>tof_5_diff</th>\n",
       "      <th>gravity_free_acc_z_diff</th>\n",
       "      <th>thm_3</th>\n",
       "      <th>thm_3_diff</th>\n",
       "      <th>rotation_axis_z</th>\n",
       "      <th>thm_1_diff</th>\n",
       "      <th>thm_2_diff</th>\n",
       "      <th>rot_z_diff</th>\n",
       "      <th>...</th>\n",
       "      <th>rotation_axis_y_diff</th>\n",
       "      <th>rot_x_diff</th>\n",
       "      <th>thm_4_diff</th>\n",
       "      <th>rot_y</th>\n",
       "      <th>gravity_free_acc_y_diff</th>\n",
       "      <th>tof_3_diff</th>\n",
       "      <th>angular_vel_y</th>\n",
       "      <th>angular_vel_y_diff</th>\n",
       "      <th>raw_acc_mag_diff</th>\n",
       "      <th>rotation_axis_x</th>\n",
       "    </tr>\n",
       "  </thead>\n",
       "  <tbody>\n",
       "    <tr>\n",
       "      <th>mean</th>\n",
       "      <td>9.645060e-10</td>\n",
       "      <td>-3.692246e-11</td>\n",
       "      <td>-8.028372e-11</td>\n",
       "      <td>-1.165675e-09</td>\n",
       "      <td>1.823665e-07</td>\n",
       "      <td>-3.880065e-10</td>\n",
       "      <td>2.590368e-09</td>\n",
       "      <td>1.079359e-10</td>\n",
       "      <td>1.297276e-09</td>\n",
       "      <td>-5.801730e-10</td>\n",
       "      <td>...</td>\n",
       "      <td>2.600327e-11</td>\n",
       "      <td>-2.359640e-10</td>\n",
       "      <td>5.100067e-10</td>\n",
       "      <td>-8.728876e-10</td>\n",
       "      <td>1.018720e-10</td>\n",
       "      <td>-6.040385e-10</td>\n",
       "      <td>-5.170893e-10</td>\n",
       "      <td>-1.785537e-10</td>\n",
       "      <td>1.399540e-11</td>\n",
       "      <td>1.557940e-11</td>\n",
       "    </tr>\n",
       "    <tr>\n",
       "      <th>std</th>\n",
       "      <td>1.000000e+00</td>\n",
       "      <td>1.000000e+00</td>\n",
       "      <td>1.000000e+00</td>\n",
       "      <td>1.000000e+00</td>\n",
       "      <td>1.000000e+00</td>\n",
       "      <td>1.000000e+00</td>\n",
       "      <td>1.000000e+00</td>\n",
       "      <td>1.000000e+00</td>\n",
       "      <td>1.000000e+00</td>\n",
       "      <td>1.000000e+00</td>\n",
       "      <td>...</td>\n",
       "      <td>1.000000e+00</td>\n",
       "      <td>1.000000e+00</td>\n",
       "      <td>1.000000e+00</td>\n",
       "      <td>1.000000e+00</td>\n",
       "      <td>1.000000e+00</td>\n",
       "      <td>1.000000e+00</td>\n",
       "      <td>1.000000e+00</td>\n",
       "      <td>1.000000e+00</td>\n",
       "      <td>1.000000e+00</td>\n",
       "      <td>1.000000e+00</td>\n",
       "    </tr>\n",
       "  </tbody>\n",
       "</table>\n",
       "<p>2 rows × 66 columns</p>\n",
       "</div>"
      ],
      "text/plain": [
       "      quat_rot_mag_diff    rot_y_diff    tof_5_diff  gravity_free_acc_z_diff  \\\n",
       "mean       9.645060e-10 -3.692246e-11 -8.028372e-11            -1.165675e-09   \n",
       "std        1.000000e+00  1.000000e+00  1.000000e+00             1.000000e+00   \n",
       "\n",
       "             thm_3    thm_3_diff  rotation_axis_z    thm_1_diff    thm_2_diff  \\\n",
       "mean  1.823665e-07 -3.880065e-10     2.590368e-09  1.079359e-10  1.297276e-09   \n",
       "std   1.000000e+00  1.000000e+00     1.000000e+00  1.000000e+00  1.000000e+00   \n",
       "\n",
       "        rot_z_diff  ...  rotation_axis_y_diff    rot_x_diff    thm_4_diff  \\\n",
       "mean -5.801730e-10  ...          2.600327e-11 -2.359640e-10  5.100067e-10   \n",
       "std   1.000000e+00  ...          1.000000e+00  1.000000e+00  1.000000e+00   \n",
       "\n",
       "             rot_y  gravity_free_acc_y_diff    tof_3_diff  angular_vel_y  \\\n",
       "mean -8.728876e-10             1.018720e-10 -6.040385e-10  -5.170893e-10   \n",
       "std   1.000000e+00             1.000000e+00  1.000000e+00   1.000000e+00   \n",
       "\n",
       "      angular_vel_y_diff  raw_acc_mag_diff  rotation_axis_x  \n",
       "mean       -1.785537e-10      1.399540e-11     1.557940e-11  \n",
       "std         1.000000e+00      1.000000e+00     1.000000e+00  \n",
       "\n",
       "[2 rows x 66 columns]"
      ]
     },
     "execution_count": 114,
     "metadata": {},
     "output_type": "execute_result"
    }
   ],
   "source": [
    "df[get_feature_cols(df)].agg([\"mean\", \"std\"])"
   ]
  },
  {
   "cell_type": "markdown",
   "id": "f840652f",
   "metadata": {},
   "source": [
    "Let's compare the train to validation mean/std skews."
   ]
  },
  {
   "cell_type": "code",
   "execution_count": 115,
   "id": "9ce0ae47",
   "metadata": {},
   "outputs": [
    {
     "data": {
      "text/html": [
       "<div>\n",
       "<style scoped>\n",
       "    .dataframe tbody tr th:only-of-type {\n",
       "        vertical-align: middle;\n",
       "    }\n",
       "\n",
       "    .dataframe tbody tr th {\n",
       "        vertical-align: top;\n",
       "    }\n",
       "\n",
       "    .dataframe thead th {\n",
       "        text-align: right;\n",
       "    }\n",
       "</style>\n",
       "<table border=\"1\" class=\"dataframe\">\n",
       "  <thead>\n",
       "    <tr style=\"text-align: right;\">\n",
       "      <th></th>\n",
       "      <th></th>\n",
       "      <th>quat_rot_mag_diff</th>\n",
       "      <th>rot_y_diff</th>\n",
       "      <th>tof_5_diff</th>\n",
       "      <th>gravity_free_acc_z_diff</th>\n",
       "      <th>thm_3</th>\n",
       "      <th>thm_3_diff</th>\n",
       "      <th>rotation_axis_z</th>\n",
       "      <th>thm_1_diff</th>\n",
       "      <th>thm_2_diff</th>\n",
       "      <th>rot_z_diff</th>\n",
       "      <th>...</th>\n",
       "      <th>rotation_axis_y_diff</th>\n",
       "      <th>rot_x_diff</th>\n",
       "      <th>thm_4_diff</th>\n",
       "      <th>rot_y</th>\n",
       "      <th>gravity_free_acc_y_diff</th>\n",
       "      <th>tof_3_diff</th>\n",
       "      <th>angular_vel_y</th>\n",
       "      <th>angular_vel_y_diff</th>\n",
       "      <th>raw_acc_mag_diff</th>\n",
       "      <th>rotation_axis_x</th>\n",
       "    </tr>\n",
       "  </thead>\n",
       "  <tbody>\n",
       "    <tr>\n",
       "      <th rowspan=\"2\" valign=\"top\">train</th>\n",
       "      <th>mean</th>\n",
       "      <td>-8.396934e-10</td>\n",
       "      <td>8.319012e-11</td>\n",
       "      <td>1.921220e-11</td>\n",
       "      <td>1.126881e-09</td>\n",
       "      <td>-9.541278e-09</td>\n",
       "      <td>1.327260e-09</td>\n",
       "      <td>4.662625e-10</td>\n",
       "      <td>1.336252e-09</td>\n",
       "      <td>-1.102790e-09</td>\n",
       "      <td>-1.069041e-11</td>\n",
       "      <td>...</td>\n",
       "      <td>4.600722e-12</td>\n",
       "      <td>-3.250518e-10</td>\n",
       "      <td>5.249766e-10</td>\n",
       "      <td>5.300710e-09</td>\n",
       "      <td>1.960102e-11</td>\n",
       "      <td>3.610124e-10</td>\n",
       "      <td>1.436723e-10</td>\n",
       "      <td>-6.625125e-13</td>\n",
       "      <td>4.610853e-12</td>\n",
       "      <td>4.119005e-11</td>\n",
       "    </tr>\n",
       "    <tr>\n",
       "      <th>std</th>\n",
       "      <td>1.000000e+00</td>\n",
       "      <td>1.000000e+00</td>\n",
       "      <td>1.000000e+00</td>\n",
       "      <td>1.000000e+00</td>\n",
       "      <td>1.000000e+00</td>\n",
       "      <td>1.000000e+00</td>\n",
       "      <td>1.000000e+00</td>\n",
       "      <td>1.000000e+00</td>\n",
       "      <td>1.000000e+00</td>\n",
       "      <td>1.000000e+00</td>\n",
       "      <td>...</td>\n",
       "      <td>1.000000e+00</td>\n",
       "      <td>1.000000e+00</td>\n",
       "      <td>1.000000e+00</td>\n",
       "      <td>1.000000e+00</td>\n",
       "      <td>1.000000e+00</td>\n",
       "      <td>1.000000e+00</td>\n",
       "      <td>1.000000e+00</td>\n",
       "      <td>1.000000e+00</td>\n",
       "      <td>1.000000e+00</td>\n",
       "      <td>1.000000e+00</td>\n",
       "    </tr>\n",
       "    <tr>\n",
       "      <th rowspan=\"2\" valign=\"top\">validation</th>\n",
       "      <th>mean</th>\n",
       "      <td>8.399087e-03</td>\n",
       "      <td>-4.691051e-03</td>\n",
       "      <td>-1.539899e-03</td>\n",
       "      <td>-1.000036e-02</td>\n",
       "      <td>1.187420e-01</td>\n",
       "      <td>-5.515520e-04</td>\n",
       "      <td>8.623340e-04</td>\n",
       "      <td>6.382858e-04</td>\n",
       "      <td>-2.109877e-03</td>\n",
       "      <td>-1.282891e-03</td>\n",
       "      <td>...</td>\n",
       "      <td>-3.209863e-05</td>\n",
       "      <td>-1.291472e-03</td>\n",
       "      <td>5.808236e-03</td>\n",
       "      <td>-5.103903e-02</td>\n",
       "      <td>9.911836e-04</td>\n",
       "      <td>-4.843285e-03</td>\n",
       "      <td>-5.214137e-03</td>\n",
       "      <td>1.040067e-03</td>\n",
       "      <td>-9.354840e-04</td>\n",
       "      <td>1.314881e-02</td>\n",
       "    </tr>\n",
       "    <tr>\n",
       "      <th>std</th>\n",
       "      <td>1.027542e+00</td>\n",
       "      <td>9.968926e-01</td>\n",
       "      <td>9.713859e-01</td>\n",
       "      <td>1.075816e+00</td>\n",
       "      <td>5.015092e-01</td>\n",
       "      <td>9.381459e-01</td>\n",
       "      <td>9.988498e-01</td>\n",
       "      <td>9.452561e-01</td>\n",
       "      <td>9.012590e-01</td>\n",
       "      <td>9.247457e-01</td>\n",
       "      <td>...</td>\n",
       "      <td>9.926278e-01</td>\n",
       "      <td>9.549724e-01</td>\n",
       "      <td>9.870661e-01</td>\n",
       "      <td>1.016217e+00</td>\n",
       "      <td>1.084252e+00</td>\n",
       "      <td>9.368650e-01</td>\n",
       "      <td>9.872053e-01</td>\n",
       "      <td>9.323741e-01</td>\n",
       "      <td>1.088176e+00</td>\n",
       "      <td>9.869612e-01</td>\n",
       "    </tr>\n",
       "  </tbody>\n",
       "</table>\n",
       "<p>4 rows × 66 columns</p>\n",
       "</div>"
      ],
      "text/plain": [
       "                 quat_rot_mag_diff    rot_y_diff    tof_5_diff  \\\n",
       "train      mean      -8.396934e-10  8.319012e-11  1.921220e-11   \n",
       "           std        1.000000e+00  1.000000e+00  1.000000e+00   \n",
       "validation mean       8.399087e-03 -4.691051e-03 -1.539899e-03   \n",
       "           std        1.027542e+00  9.968926e-01  9.713859e-01   \n",
       "\n",
       "                 gravity_free_acc_z_diff         thm_3    thm_3_diff  \\\n",
       "train      mean             1.126881e-09 -9.541278e-09  1.327260e-09   \n",
       "           std              1.000000e+00  1.000000e+00  1.000000e+00   \n",
       "validation mean            -1.000036e-02  1.187420e-01 -5.515520e-04   \n",
       "           std              1.075816e+00  5.015092e-01  9.381459e-01   \n",
       "\n",
       "                 rotation_axis_z    thm_1_diff    thm_2_diff    rot_z_diff  \\\n",
       "train      mean     4.662625e-10  1.336252e-09 -1.102790e-09 -1.069041e-11   \n",
       "           std      1.000000e+00  1.000000e+00  1.000000e+00  1.000000e+00   \n",
       "validation mean     8.623340e-04  6.382858e-04 -2.109877e-03 -1.282891e-03   \n",
       "           std      9.988498e-01  9.452561e-01  9.012590e-01  9.247457e-01   \n",
       "\n",
       "                 ...  rotation_axis_y_diff    rot_x_diff    thm_4_diff  \\\n",
       "train      mean  ...          4.600722e-12 -3.250518e-10  5.249766e-10   \n",
       "           std   ...          1.000000e+00  1.000000e+00  1.000000e+00   \n",
       "validation mean  ...         -3.209863e-05 -1.291472e-03  5.808236e-03   \n",
       "           std   ...          9.926278e-01  9.549724e-01  9.870661e-01   \n",
       "\n",
       "                        rot_y  gravity_free_acc_y_diff    tof_3_diff  \\\n",
       "train      mean  5.300710e-09             1.960102e-11  3.610124e-10   \n",
       "           std   1.000000e+00             1.000000e+00  1.000000e+00   \n",
       "validation mean -5.103903e-02             9.911836e-04 -4.843285e-03   \n",
       "           std   1.016217e+00             1.084252e+00  9.368650e-01   \n",
       "\n",
       "                 angular_vel_y  angular_vel_y_diff  raw_acc_mag_diff  \\\n",
       "train      mean   1.436723e-10       -6.625125e-13      4.610853e-12   \n",
       "           std    1.000000e+00        1.000000e+00      1.000000e+00   \n",
       "validation mean  -5.214137e-03        1.040067e-03     -9.354840e-04   \n",
       "           std    9.872053e-01        9.323741e-01      1.088176e+00   \n",
       "\n",
       "                 rotation_axis_x  \n",
       "train      mean     4.119005e-11  \n",
       "           std      1.000000e+00  \n",
       "validation mean     1.314881e-02  \n",
       "           std      9.869612e-01  \n",
       "\n",
       "[4 rows x 66 columns]"
      ]
     },
     "execution_count": 115,
     "metadata": {},
     "output_type": "execute_result"
    }
   ],
   "source": [
    "pd.concat({\n",
    "    \"train\": folds[0][0][get_feature_cols(df)].agg([\"mean\", \"std\"]),\n",
    "    \"validation\": folds[0][1][get_feature_cols(df)].agg([\"mean\", \"std\"]),\n",
    "})"
   ]
  },
  {
   "cell_type": "markdown",
   "id": "9bc09714",
   "metadata": {},
   "source": [
    "### Normalize sequences lengths.  \n",
    "And turn the Dataframes into ndarrays."
   ]
  },
  {
   "cell_type": "markdown",
   "id": "76699499",
   "metadata": {},
   "source": [
    "#### Visualize histogram of sequences lengths."
   ]
  },
  {
   "cell_type": "markdown",
   "id": "b3477111",
   "metadata": {},
   "source": [
    "Entire dataset sequences lengths."
   ]
  },
  {
   "cell_type": "code",
   "execution_count": 116,
   "id": "876907d8",
   "metadata": {},
   "outputs": [
    {
     "data": {
      "application/vnd.plotly.v1+json": {
       "config": {
        "plotlyServerURL": "https://plot.ly"
       },
       "data": [
        {
         "bingroup": "x",
         "hovertemplate": "variable=0<br>value=%{x}<br>count=%{y}<extra></extra>",
         "legendgroup": "0",
         "marker": {
          "color": "#636efa",
          "pattern": {
           "shape": ""
          }
         },
         "name": "0",
         "orientation": "v",
         "showlegend": true,
         "type": "histogram",
         "x": {
          "bdata": "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",
          "dtype": "i2"
         },
         "xaxis": "x",
         "yaxis": "y"
        }
       ],
       "layout": {
        "barmode": "relative",
        "legend": {
         "title": {
          "text": "variable"
         },
         "tracegroupgap": 0
        },
        "template": {
         "data": {
          "bar": [
           {
            "error_x": {
             "color": "#2a3f5f"
            },
            "error_y": {
             "color": "#2a3f5f"
            },
            "marker": {
             "line": {
              "color": "#E5ECF6",
              "width": 0.5
             },
             "pattern": {
              "fillmode": "overlay",
              "size": 10,
              "solidity": 0.2
             }
            },
            "type": "bar"
           }
          ],
          "barpolar": [
           {
            "marker": {
             "line": {
              "color": "#E5ECF6",
              "width": 0.5
             },
             "pattern": {
              "fillmode": "overlay",
              "size": 10,
              "solidity": 0.2
             }
            },
            "type": "barpolar"
           }
          ],
          "carpet": [
           {
            "aaxis": {
             "endlinecolor": "#2a3f5f",
             "gridcolor": "white",
             "linecolor": "white",
             "minorgridcolor": "white",
             "startlinecolor": "#2a3f5f"
            },
            "baxis": {
             "endlinecolor": "#2a3f5f",
             "gridcolor": "white",
             "linecolor": "white",
             "minorgridcolor": "white",
             "startlinecolor": "#2a3f5f"
            },
            "type": "carpet"
           }
          ],
          "choropleth": [
           {
            "colorbar": {
             "outlinewidth": 0,
             "ticks": ""
            },
            "type": "choropleth"
           }
          ],
          "contour": [
           {
            "colorbar": {
             "outlinewidth": 0,
             "ticks": ""
            },
            "colorscale": [
             [
              0,
              "#0d0887"
             ],
             [
              0.1111111111111111,
              "#46039f"
             ],
             [
              0.2222222222222222,
              "#7201a8"
             ],
             [
              0.3333333333333333,
              "#9c179e"
             ],
             [
              0.4444444444444444,
              "#bd3786"
             ],
             [
              0.5555555555555556,
              "#d8576b"
             ],
             [
              0.6666666666666666,
              "#ed7953"
             ],
             [
              0.7777777777777778,
              "#fb9f3a"
             ],
             [
              0.8888888888888888,
              "#fdca26"
             ],
             [
              1,
              "#f0f921"
             ]
            ],
            "type": "contour"
           }
          ],
          "contourcarpet": [
           {
            "colorbar": {
             "outlinewidth": 0,
             "ticks": ""
            },
            "type": "contourcarpet"
           }
          ],
          "heatmap": [
           {
            "colorbar": {
             "outlinewidth": 0,
             "ticks": ""
            },
            "colorscale": [
             [
              0,
              "#0d0887"
             ],
             [
              0.1111111111111111,
              "#46039f"
             ],
             [
              0.2222222222222222,
              "#7201a8"
             ],
             [
              0.3333333333333333,
              "#9c179e"
             ],
             [
              0.4444444444444444,
              "#bd3786"
             ],
             [
              0.5555555555555556,
              "#d8576b"
             ],
             [
              0.6666666666666666,
              "#ed7953"
             ],
             [
              0.7777777777777778,
              "#fb9f3a"
             ],
             [
              0.8888888888888888,
              "#fdca26"
             ],
             [
              1,
              "#f0f921"
             ]
            ],
            "type": "heatmap"
           }
          ],
          "histogram": [
           {
            "marker": {
             "pattern": {
              "fillmode": "overlay",
              "size": 10,
              "solidity": 0.2
             }
            },
            "type": "histogram"
           }
          ],
          "histogram2d": [
           {
            "colorbar": {
             "outlinewidth": 0,
             "ticks": ""
            },
            "colorscale": [
             [
              0,
              "#0d0887"
             ],
             [
              0.1111111111111111,
              "#46039f"
             ],
             [
              0.2222222222222222,
              "#7201a8"
             ],
             [
              0.3333333333333333,
              "#9c179e"
             ],
             [
              0.4444444444444444,
              "#bd3786"
             ],
             [
              0.5555555555555556,
              "#d8576b"
             ],
             [
              0.6666666666666666,
              "#ed7953"
             ],
             [
              0.7777777777777778,
              "#fb9f3a"
             ],
             [
              0.8888888888888888,
              "#fdca26"
             ],
             [
              1,
              "#f0f921"
             ]
            ],
            "type": "histogram2d"
           }
          ],
          "histogram2dcontour": [
           {
            "colorbar": {
             "outlinewidth": 0,
             "ticks": ""
            },
            "colorscale": [
             [
              0,
              "#0d0887"
             ],
             [
              0.1111111111111111,
              "#46039f"
             ],
             [
              0.2222222222222222,
              "#7201a8"
             ],
             [
              0.3333333333333333,
              "#9c179e"
             ],
             [
              0.4444444444444444,
              "#bd3786"
             ],
             [
              0.5555555555555556,
              "#d8576b"
             ],
             [
              0.6666666666666666,
              "#ed7953"
             ],
             [
              0.7777777777777778,
              "#fb9f3a"
             ],
             [
              0.8888888888888888,
              "#fdca26"
             ],
             [
              1,
              "#f0f921"
             ]
            ],
            "type": "histogram2dcontour"
           }
          ],
          "mesh3d": [
           {
            "colorbar": {
             "outlinewidth": 0,
             "ticks": ""
            },
            "type": "mesh3d"
           }
          ],
          "parcoords": [
           {
            "line": {
             "colorbar": {
              "outlinewidth": 0,
              "ticks": ""
             }
            },
            "type": "parcoords"
           }
          ],
          "pie": [
           {
            "automargin": true,
            "type": "pie"
           }
          ],
          "scatter": [
           {
            "fillpattern": {
             "fillmode": "overlay",
             "size": 10,
             "solidity": 0.2
            },
            "type": "scatter"
           }
          ],
          "scatter3d": [
           {
            "line": {
             "colorbar": {
              "outlinewidth": 0,
              "ticks": ""
             }
            },
            "marker": {
             "colorbar": {
              "outlinewidth": 0,
              "ticks": ""
             }
            },
            "type": "scatter3d"
           }
          ],
          "scattercarpet": [
           {
            "marker": {
             "colorbar": {
              "outlinewidth": 0,
              "ticks": ""
             }
            },
            "type": "scattercarpet"
           }
          ],
          "scattergeo": [
           {
            "marker": {
             "colorbar": {
              "outlinewidth": 0,
              "ticks": ""
             }
            },
            "type": "scattergeo"
           }
          ],
          "scattergl": [
           {
            "marker": {
             "colorbar": {
              "outlinewidth": 0,
              "ticks": ""
             }
            },
            "type": "scattergl"
           }
          ],
          "scattermap": [
           {
            "marker": {
             "colorbar": {
              "outlinewidth": 0,
              "ticks": ""
             }
            },
            "type": "scattermap"
           }
          ],
          "scattermapbox": [
           {
            "marker": {
             "colorbar": {
              "outlinewidth": 0,
              "ticks": ""
             }
            },
            "type": "scattermapbox"
           }
          ],
          "scatterpolar": [
           {
            "marker": {
             "colorbar": {
              "outlinewidth": 0,
              "ticks": ""
             }
            },
            "type": "scatterpolar"
           }
          ],
          "scatterpolargl": [
           {
            "marker": {
             "colorbar": {
              "outlinewidth": 0,
              "ticks": ""
             }
            },
            "type": "scatterpolargl"
           }
          ],
          "scatterternary": [
           {
            "marker": {
             "colorbar": {
              "outlinewidth": 0,
              "ticks": ""
             }
            },
            "type": "scatterternary"
           }
          ],
          "surface": [
           {
            "colorbar": {
             "outlinewidth": 0,
             "ticks": ""
            },
            "colorscale": [
             [
              0,
              "#0d0887"
             ],
             [
              0.1111111111111111,
              "#46039f"
             ],
             [
              0.2222222222222222,
              "#7201a8"
             ],
             [
              0.3333333333333333,
              "#9c179e"
             ],
             [
              0.4444444444444444,
              "#bd3786"
             ],
             [
              0.5555555555555556,
              "#d8576b"
             ],
             [
              0.6666666666666666,
              "#ed7953"
             ],
             [
              0.7777777777777778,
              "#fb9f3a"
             ],
             [
              0.8888888888888888,
              "#fdca26"
             ],
             [
              1,
              "#f0f921"
             ]
            ],
            "type": "surface"
           }
          ],
          "table": [
           {
            "cells": {
             "fill": {
              "color": "#EBF0F8"
             },
             "line": {
              "color": "white"
             }
            },
            "header": {
             "fill": {
              "color": "#C8D4E3"
             },
             "line": {
              "color": "white"
             }
            },
            "type": "table"
           }
          ]
         },
         "layout": {
          "annotationdefaults": {
           "arrowcolor": "#2a3f5f",
           "arrowhead": 0,
           "arrowwidth": 1
          },
          "autotypenumbers": "strict",
          "coloraxis": {
           "colorbar": {
            "outlinewidth": 0,
            "ticks": ""
           }
          },
          "colorscale": {
           "diverging": [
            [
             0,
             "#8e0152"
            ],
            [
             0.1,
             "#c51b7d"
            ],
            [
             0.2,
             "#de77ae"
            ],
            [
             0.3,
             "#f1b6da"
            ],
            [
             0.4,
             "#fde0ef"
            ],
            [
             0.5,
             "#f7f7f7"
            ],
            [
             0.6,
             "#e6f5d0"
            ],
            [
             0.7,
             "#b8e186"
            ],
            [
             0.8,
             "#7fbc41"
            ],
            [
             0.9,
             "#4d9221"
            ],
            [
             1,
             "#276419"
            ]
           ],
           "sequential": [
            [
             0,
             "#0d0887"
            ],
            [
             0.1111111111111111,
             "#46039f"
            ],
            [
             0.2222222222222222,
             "#7201a8"
            ],
            [
             0.3333333333333333,
             "#9c179e"
            ],
            [
             0.4444444444444444,
             "#bd3786"
            ],
            [
             0.5555555555555556,
             "#d8576b"
            ],
            [
             0.6666666666666666,
             "#ed7953"
            ],
            [
             0.7777777777777778,
             "#fb9f3a"
            ],
            [
             0.8888888888888888,
             "#fdca26"
            ],
            [
             1,
             "#f0f921"
            ]
           ],
           "sequentialminus": [
            [
             0,
             "#0d0887"
            ],
            [
             0.1111111111111111,
             "#46039f"
            ],
            [
             0.2222222222222222,
             "#7201a8"
            ],
            [
             0.3333333333333333,
             "#9c179e"
            ],
            [
             0.4444444444444444,
             "#bd3786"
            ],
            [
             0.5555555555555556,
             "#d8576b"
            ],
            [
             0.6666666666666666,
             "#ed7953"
            ],
            [
             0.7777777777777778,
             "#fb9f3a"
            ],
            [
             0.8888888888888888,
             "#fdca26"
            ],
            [
             1,
             "#f0f921"
            ]
           ]
          },
          "colorway": [
           "#636efa",
           "#EF553B",
           "#00cc96",
           "#ab63fa",
           "#FFA15A",
           "#19d3f3",
           "#FF6692",
           "#B6E880",
           "#FF97FF",
           "#FECB52"
          ],
          "font": {
           "color": "#2a3f5f"
          },
          "geo": {
           "bgcolor": "white",
           "lakecolor": "white",
           "landcolor": "#E5ECF6",
           "showlakes": true,
           "showland": true,
           "subunitcolor": "white"
          },
          "hoverlabel": {
           "align": "left"
          },
          "hovermode": "closest",
          "mapbox": {
           "style": "light"
          },
          "paper_bgcolor": "white",
          "plot_bgcolor": "#E5ECF6",
          "polar": {
           "angularaxis": {
            "gridcolor": "white",
            "linecolor": "white",
            "ticks": ""
           },
           "bgcolor": "#E5ECF6",
           "radialaxis": {
            "gridcolor": "white",
            "linecolor": "white",
            "ticks": ""
           }
          },
          "scene": {
           "xaxis": {
            "backgroundcolor": "#E5ECF6",
            "gridcolor": "white",
            "gridwidth": 2,
            "linecolor": "white",
            "showbackground": true,
            "ticks": "",
            "zerolinecolor": "white"
           },
           "yaxis": {
            "backgroundcolor": "#E5ECF6",
            "gridcolor": "white",
            "gridwidth": 2,
            "linecolor": "white",
            "showbackground": true,
            "ticks": "",
            "zerolinecolor": "white"
           },
           "zaxis": {
            "backgroundcolor": "#E5ECF6",
            "gridcolor": "white",
            "gridwidth": 2,
            "linecolor": "white",
            "showbackground": true,
            "ticks": "",
            "zerolinecolor": "white"
           }
          },
          "shapedefaults": {
           "line": {
            "color": "#2a3f5f"
           }
          },
          "ternary": {
           "aaxis": {
            "gridcolor": "white",
            "linecolor": "white",
            "ticks": ""
           },
           "baxis": {
            "gridcolor": "white",
            "linecolor": "white",
            "ticks": ""
           },
           "bgcolor": "#E5ECF6",
           "caxis": {
            "gridcolor": "white",
            "linecolor": "white",
            "ticks": ""
           }
          },
          "title": {
           "x": 0.05
          },
          "xaxis": {
           "automargin": true,
           "gridcolor": "white",
           "linecolor": "white",
           "ticks": "",
           "title": {
            "standoff": 15
           },
           "zerolinecolor": "white",
           "zerolinewidth": 2
          },
          "yaxis": {
           "automargin": true,
           "gridcolor": "white",
           "linecolor": "white",
           "ticks": "",
           "title": {
            "standoff": 15
           },
           "zerolinecolor": "white",
           "zerolinewidth": 2
          }
         }
        },
        "title": {
         "text": "Sequence length frequency"
        },
        "xaxis": {
         "anchor": "y",
         "domain": [
          0,
          1
         ],
         "title": {
          "text": "value"
         }
        },
        "yaxis": {
         "anchor": "x",
         "domain": [
          0,
          1
         ],
         "title": {
          "text": "count"
         }
        }
       }
      }
     },
     "metadata": {},
     "output_type": "display_data"
    }
   ],
   "source": [
    "px.histogram(\n",
    "    (\n",
    "        df\n",
    "        .groupby(\"sequence_id\", observed=True)\n",
    "        .size()\n",
    "    ),\n",
    "    title=\"Sequence length frequency\",\n",
    ")"
   ]
  },
  {
   "cell_type": "markdown",
   "id": "24e72f4e",
   "metadata": {},
   "source": [
    "Second(to avoid always look at the first one) Train/validation split sequences lengths comparaison."
   ]
  },
  {
   "cell_type": "code",
   "execution_count": 117,
   "id": "1a39bfce",
   "metadata": {},
   "outputs": [
    {
     "data": {
      "application/vnd.plotly.v1+json": {
       "config": {
        "plotlyServerURL": "https://plot.ly"
       },
       "data": [
        {
         "bingroup": "x",
         "hovertemplate": "set=Train<br>length=%{x}<br>count=%{y}<extra></extra>",
         "legendgroup": "Train",
         "marker": {
          "color": "#636efa",
          "opacity": 0.5,
          "pattern": {
           "shape": ""
          }
         },
         "name": "Train",
         "nbinsx": 50,
         "opacity": 0.8,
         "orientation": "v",
         "showlegend": true,
         "type": "histogram",
         "x": {
          "bdata": "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",
          "dtype": "i2"
         },
         "xaxis": "x",
         "yaxis": "y"
        },
        {
         "bingroup": "x",
         "hovertemplate": "set=Validation<br>length=%{x}<br>count=%{y}<extra></extra>",
         "legendgroup": "Validation",
         "marker": {
          "color": "#EF553B",
          "opacity": 0.5,
          "pattern": {
           "shape": ""
          }
         },
         "name": "Validation",
         "nbinsx": 50,
         "opacity": 0.8,
         "orientation": "v",
         "showlegend": true,
         "type": "histogram",
         "x": {
          "bdata": "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",
          "dtype": "i2"
         },
         "xaxis": "x",
         "yaxis": "y"
        }
       ],
       "layout": {
        "barmode": "overlay",
        "legend": {
         "title": {
          "text": "set"
         },
         "tracegroupgap": 0
        },
        "template": {
         "data": {
          "bar": [
           {
            "error_x": {
             "color": "#2a3f5f"
            },
            "error_y": {
             "color": "#2a3f5f"
            },
            "marker": {
             "line": {
              "color": "#E5ECF6",
              "width": 0.5
             },
             "pattern": {
              "fillmode": "overlay",
              "size": 10,
              "solidity": 0.2
             }
            },
            "type": "bar"
           }
          ],
          "barpolar": [
           {
            "marker": {
             "line": {
              "color": "#E5ECF6",
              "width": 0.5
             },
             "pattern": {
              "fillmode": "overlay",
              "size": 10,
              "solidity": 0.2
             }
            },
            "type": "barpolar"
           }
          ],
          "carpet": [
           {
            "aaxis": {
             "endlinecolor": "#2a3f5f",
             "gridcolor": "white",
             "linecolor": "white",
             "minorgridcolor": "white",
             "startlinecolor": "#2a3f5f"
            },
            "baxis": {
             "endlinecolor": "#2a3f5f",
             "gridcolor": "white",
             "linecolor": "white",
             "minorgridcolor": "white",
             "startlinecolor": "#2a3f5f"
            },
            "type": "carpet"
           }
          ],
          "choropleth": [
           {
            "colorbar": {
             "outlinewidth": 0,
             "ticks": ""
            },
            "type": "choropleth"
           }
          ],
          "contour": [
           {
            "colorbar": {
             "outlinewidth": 0,
             "ticks": ""
            },
            "colorscale": [
             [
              0,
              "#0d0887"
             ],
             [
              0.1111111111111111,
              "#46039f"
             ],
             [
              0.2222222222222222,
              "#7201a8"
             ],
             [
              0.3333333333333333,
              "#9c179e"
             ],
             [
              0.4444444444444444,
              "#bd3786"
             ],
             [
              0.5555555555555556,
              "#d8576b"
             ],
             [
              0.6666666666666666,
              "#ed7953"
             ],
             [
              0.7777777777777778,
              "#fb9f3a"
             ],
             [
              0.8888888888888888,
              "#fdca26"
             ],
             [
              1,
              "#f0f921"
             ]
            ],
            "type": "contour"
           }
          ],
          "contourcarpet": [
           {
            "colorbar": {
             "outlinewidth": 0,
             "ticks": ""
            },
            "type": "contourcarpet"
           }
          ],
          "heatmap": [
           {
            "colorbar": {
             "outlinewidth": 0,
             "ticks": ""
            },
            "colorscale": [
             [
              0,
              "#0d0887"
             ],
             [
              0.1111111111111111,
              "#46039f"
             ],
             [
              0.2222222222222222,
              "#7201a8"
             ],
             [
              0.3333333333333333,
              "#9c179e"
             ],
             [
              0.4444444444444444,
              "#bd3786"
             ],
             [
              0.5555555555555556,
              "#d8576b"
             ],
             [
              0.6666666666666666,
              "#ed7953"
             ],
             [
              0.7777777777777778,
              "#fb9f3a"
             ],
             [
              0.8888888888888888,
              "#fdca26"
             ],
             [
              1,
              "#f0f921"
             ]
            ],
            "type": "heatmap"
           }
          ],
          "histogram": [
           {
            "marker": {
             "pattern": {
              "fillmode": "overlay",
              "size": 10,
              "solidity": 0.2
             }
            },
            "type": "histogram"
           }
          ],
          "histogram2d": [
           {
            "colorbar": {
             "outlinewidth": 0,
             "ticks": ""
            },
            "colorscale": [
             [
              0,
              "#0d0887"
             ],
             [
              0.1111111111111111,
              "#46039f"
             ],
             [
              0.2222222222222222,
              "#7201a8"
             ],
             [
              0.3333333333333333,
              "#9c179e"
             ],
             [
              0.4444444444444444,
              "#bd3786"
             ],
             [
              0.5555555555555556,
              "#d8576b"
             ],
             [
              0.6666666666666666,
              "#ed7953"
             ],
             [
              0.7777777777777778,
              "#fb9f3a"
             ],
             [
              0.8888888888888888,
              "#fdca26"
             ],
             [
              1,
              "#f0f921"
             ]
            ],
            "type": "histogram2d"
           }
          ],
          "histogram2dcontour": [
           {
            "colorbar": {
             "outlinewidth": 0,
             "ticks": ""
            },
            "colorscale": [
             [
              0,
              "#0d0887"
             ],
             [
              0.1111111111111111,
              "#46039f"
             ],
             [
              0.2222222222222222,
              "#7201a8"
             ],
             [
              0.3333333333333333,
              "#9c179e"
             ],
             [
              0.4444444444444444,
              "#bd3786"
             ],
             [
              0.5555555555555556,
              "#d8576b"
             ],
             [
              0.6666666666666666,
              "#ed7953"
             ],
             [
              0.7777777777777778,
              "#fb9f3a"
             ],
             [
              0.8888888888888888,
              "#fdca26"
             ],
             [
              1,
              "#f0f921"
             ]
            ],
            "type": "histogram2dcontour"
           }
          ],
          "mesh3d": [
           {
            "colorbar": {
             "outlinewidth": 0,
             "ticks": ""
            },
            "type": "mesh3d"
           }
          ],
          "parcoords": [
           {
            "line": {
             "colorbar": {
              "outlinewidth": 0,
              "ticks": ""
             }
            },
            "type": "parcoords"
           }
          ],
          "pie": [
           {
            "automargin": true,
            "type": "pie"
           }
          ],
          "scatter": [
           {
            "fillpattern": {
             "fillmode": "overlay",
             "size": 10,
             "solidity": 0.2
            },
            "type": "scatter"
           }
          ],
          "scatter3d": [
           {
            "line": {
             "colorbar": {
              "outlinewidth": 0,
              "ticks": ""
             }
            },
            "marker": {
             "colorbar": {
              "outlinewidth": 0,
              "ticks": ""
             }
            },
            "type": "scatter3d"
           }
          ],
          "scattercarpet": [
           {
            "marker": {
             "colorbar": {
              "outlinewidth": 0,
              "ticks": ""
             }
            },
            "type": "scattercarpet"
           }
          ],
          "scattergeo": [
           {
            "marker": {
             "colorbar": {
              "outlinewidth": 0,
              "ticks": ""
             }
            },
            "type": "scattergeo"
           }
          ],
          "scattergl": [
           {
            "marker": {
             "colorbar": {
              "outlinewidth": 0,
              "ticks": ""
             }
            },
            "type": "scattergl"
           }
          ],
          "scattermap": [
           {
            "marker": {
             "colorbar": {
              "outlinewidth": 0,
              "ticks": ""
             }
            },
            "type": "scattermap"
           }
          ],
          "scattermapbox": [
           {
            "marker": {
             "colorbar": {
              "outlinewidth": 0,
              "ticks": ""
             }
            },
            "type": "scattermapbox"
           }
          ],
          "scatterpolar": [
           {
            "marker": {
             "colorbar": {
              "outlinewidth": 0,
              "ticks": ""
             }
            },
            "type": "scatterpolar"
           }
          ],
          "scatterpolargl": [
           {
            "marker": {
             "colorbar": {
              "outlinewidth": 0,
              "ticks": ""
             }
            },
            "type": "scatterpolargl"
           }
          ],
          "scatterternary": [
           {
            "marker": {
             "colorbar": {
              "outlinewidth": 0,
              "ticks": ""
             }
            },
            "type": "scatterternary"
           }
          ],
          "surface": [
           {
            "colorbar": {
             "outlinewidth": 0,
             "ticks": ""
            },
            "colorscale": [
             [
              0,
              "#0d0887"
             ],
             [
              0.1111111111111111,
              "#46039f"
             ],
             [
              0.2222222222222222,
              "#7201a8"
             ],
             [
              0.3333333333333333,
              "#9c179e"
             ],
             [
              0.4444444444444444,
              "#bd3786"
             ],
             [
              0.5555555555555556,
              "#d8576b"
             ],
             [
              0.6666666666666666,
              "#ed7953"
             ],
             [
              0.7777777777777778,
              "#fb9f3a"
             ],
             [
              0.8888888888888888,
              "#fdca26"
             ],
             [
              1,
              "#f0f921"
             ]
            ],
            "type": "surface"
           }
          ],
          "table": [
           {
            "cells": {
             "fill": {
              "color": "#EBF0F8"
             },
             "line": {
              "color": "white"
             }
            },
            "header": {
             "fill": {
              "color": "#C8D4E3"
             },
             "line": {
              "color": "white"
             }
            },
            "type": "table"
           }
          ]
         },
         "layout": {
          "annotationdefaults": {
           "arrowcolor": "#2a3f5f",
           "arrowhead": 0,
           "arrowwidth": 1
          },
          "autotypenumbers": "strict",
          "coloraxis": {
           "colorbar": {
            "outlinewidth": 0,
            "ticks": ""
           }
          },
          "colorscale": {
           "diverging": [
            [
             0,
             "#8e0152"
            ],
            [
             0.1,
             "#c51b7d"
            ],
            [
             0.2,
             "#de77ae"
            ],
            [
             0.3,
             "#f1b6da"
            ],
            [
             0.4,
             "#fde0ef"
            ],
            [
             0.5,
             "#f7f7f7"
            ],
            [
             0.6,
             "#e6f5d0"
            ],
            [
             0.7,
             "#b8e186"
            ],
            [
             0.8,
             "#7fbc41"
            ],
            [
             0.9,
             "#4d9221"
            ],
            [
             1,
             "#276419"
            ]
           ],
           "sequential": [
            [
             0,
             "#0d0887"
            ],
            [
             0.1111111111111111,
             "#46039f"
            ],
            [
             0.2222222222222222,
             "#7201a8"
            ],
            [
             0.3333333333333333,
             "#9c179e"
            ],
            [
             0.4444444444444444,
             "#bd3786"
            ],
            [
             0.5555555555555556,
             "#d8576b"
            ],
            [
             0.6666666666666666,
             "#ed7953"
            ],
            [
             0.7777777777777778,
             "#fb9f3a"
            ],
            [
             0.8888888888888888,
             "#fdca26"
            ],
            [
             1,
             "#f0f921"
            ]
           ],
           "sequentialminus": [
            [
             0,
             "#0d0887"
            ],
            [
             0.1111111111111111,
             "#46039f"
            ],
            [
             0.2222222222222222,
             "#7201a8"
            ],
            [
             0.3333333333333333,
             "#9c179e"
            ],
            [
             0.4444444444444444,
             "#bd3786"
            ],
            [
             0.5555555555555556,
             "#d8576b"
            ],
            [
             0.6666666666666666,
             "#ed7953"
            ],
            [
             0.7777777777777778,
             "#fb9f3a"
            ],
            [
             0.8888888888888888,
             "#fdca26"
            ],
            [
             1,
             "#f0f921"
            ]
           ]
          },
          "colorway": [
           "#636efa",
           "#EF553B",
           "#00cc96",
           "#ab63fa",
           "#FFA15A",
           "#19d3f3",
           "#FF6692",
           "#B6E880",
           "#FF97FF",
           "#FECB52"
          ],
          "font": {
           "color": "#2a3f5f"
          },
          "geo": {
           "bgcolor": "white",
           "lakecolor": "white",
           "landcolor": "#E5ECF6",
           "showlakes": true,
           "showland": true,
           "subunitcolor": "white"
          },
          "hoverlabel": {
           "align": "left"
          },
          "hovermode": "closest",
          "mapbox": {
           "style": "light"
          },
          "paper_bgcolor": "white",
          "plot_bgcolor": "#E5ECF6",
          "polar": {
           "angularaxis": {
            "gridcolor": "white",
            "linecolor": "white",
            "ticks": ""
           },
           "bgcolor": "#E5ECF6",
           "radialaxis": {
            "gridcolor": "white",
            "linecolor": "white",
            "ticks": ""
           }
          },
          "scene": {
           "xaxis": {
            "backgroundcolor": "#E5ECF6",
            "gridcolor": "white",
            "gridwidth": 2,
            "linecolor": "white",
            "showbackground": true,
            "ticks": "",
            "zerolinecolor": "white"
           },
           "yaxis": {
            "backgroundcolor": "#E5ECF6",
            "gridcolor": "white",
            "gridwidth": 2,
            "linecolor": "white",
            "showbackground": true,
            "ticks": "",
            "zerolinecolor": "white"
           },
           "zaxis": {
            "backgroundcolor": "#E5ECF6",
            "gridcolor": "white",
            "gridwidth": 2,
            "linecolor": "white",
            "showbackground": true,
            "ticks": "",
            "zerolinecolor": "white"
           }
          },
          "shapedefaults": {
           "line": {
            "color": "#2a3f5f"
           }
          },
          "ternary": {
           "aaxis": {
            "gridcolor": "white",
            "linecolor": "white",
            "ticks": ""
           },
           "baxis": {
            "gridcolor": "white",
            "linecolor": "white",
            "ticks": ""
           },
           "bgcolor": "#E5ECF6",
           "caxis": {
            "gridcolor": "white",
            "linecolor": "white",
            "ticks": ""
           }
          },
          "title": {
           "x": 0.05
          },
          "xaxis": {
           "automargin": true,
           "gridcolor": "white",
           "linecolor": "white",
           "ticks": "",
           "title": {
            "standoff": 15
           },
           "zerolinecolor": "white",
           "zerolinewidth": 2
          },
          "yaxis": {
           "automargin": true,
           "gridcolor": "white",
           "linecolor": "white",
           "ticks": "",
           "title": {
            "standoff": 15
           },
           "zerolinecolor": "white",
           "zerolinewidth": 2
          }
         }
        },
        "title": {
         "text": "Sequence Length Distribution: Train vs Validation"
        },
        "xaxis": {
         "anchor": "y",
         "domain": [
          0,
          1
         ],
         "title": {
          "text": "length"
         }
        },
        "yaxis": {
         "anchor": "x",
         "domain": [
          0,
          1
         ],
         "title": {
          "text": "count"
         }
        }
       }
      }
     },
     "metadata": {},
     "output_type": "display_data"
    }
   ],
   "source": [
    "def get_set_sequences_lengths(set:DF, name:str) -> DF:\n",
    "    return (\n",
    "        set\n",
    "        .groupby(\"sequence_id\", observed=True)\n",
    "        .size()\n",
    "        .reset_index(name=\"length\")\n",
    "        .assign(set=name)\n",
    "    )\n",
    "\n",
    "full_se_lengths = pd.concat((\n",
    "    get_set_sequences_lengths(folds[2][0], \"Train\"),\n",
    "    get_set_sequences_lengths(folds[2][1], \"Validation\"),\n",
    "))\n",
    "\n",
    "fig = px.histogram(\n",
    "    full_se_lengths,\n",
    "    x=\"length\",\n",
    "    color=\"set\",\n",
    "    barmode=\"overlay\",  # or 'group' if you want side-by-side bars\n",
    "    nbins=50,           # adjust bin size if needed\n",
    "    title=\"Sequence Length Distribution: Train vs Validation\"\n",
    ")\n",
    "\n",
    "fig.update_traces(opacity=0.8)  # better visibility with overlay\n",
    "fig.show()\n"
   ]
  },
  {
   "cell_type": "code",
   "execution_count": 118,
   "id": "c1d46756",
   "metadata": {},
   "outputs": [
    {
     "name": "stdout",
     "output_type": "stream",
     "text": [
      "train normed sequence len: 124\n",
      "validation normed sequence len: 135\n",
      "\n",
      "train normed sequence len: 126\n",
      "validation normed sequence len: 127\n",
      "\n",
      "train normed sequence len: 130\n",
      "validation normed sequence len: 119\n",
      "\n",
      "train normed sequence len: 126\n",
      "validation normed sequence len: 131\n",
      "\n",
      "train normed sequence len: 128\n",
      "validation normed sequence len: 121\n",
      "\n"
     ]
    }
   ],
   "source": [
    "for train, val in folds:\n",
    "    print(\"train normed sequence len:\", int(train.groupby(\"sequence_id\", observed=True).size().quantile(SEQUENCE_NORMED_LEN_QUANTILE)))\n",
    "    print(\"validation normed sequence len:\", int(val.groupby(\"sequence_id\", observed=True).size().quantile(SEQUENCE_NORMED_LEN_QUANTILE)))\n",
    "    print()"
   ]
  },
  {
   "cell_type": "markdown",
   "id": "c89d5f21",
   "metadata": {},
   "source": [
    "#### Sequence length norm implementation"
   ]
  },
  {
   "cell_type": "code",
   "execution_count": 119,
   "id": "5d128055",
   "metadata": {},
   "outputs": [
    {
     "data": {
      "application/vnd.jupyter.widget-view+json": {
       "model_id": "e204afdaa03048f59da41350883dbcfc",
       "version_major": 2,
       "version_minor": 0
      },
      "text/plain": [
       "  0%|          | 0/6567 [00:00<?, ?it/s]"
      ]
     },
     "metadata": {},
     "output_type": "display_data"
    },
    {
     "data": {
      "application/vnd.jupyter.widget-view+json": {
       "model_id": "5b29c656925a4ec99e7a660bdb2de5f5",
       "version_major": 2,
       "version_minor": 0
      },
      "text/plain": [
       "  0%|          | 0/1584 [00:00<?, ?it/s]"
      ]
     },
     "metadata": {},
     "output_type": "display_data"
    },
    {
     "data": {
      "application/vnd.jupyter.widget-view+json": {
       "model_id": "faa962c88dd14386b799214eefd892ec",
       "version_major": 2,
       "version_minor": 0
      },
      "text/plain": [
       "  0%|          | 0/6417 [00:00<?, ?it/s]"
      ]
     },
     "metadata": {},
     "output_type": "display_data"
    },
    {
     "data": {
      "application/vnd.jupyter.widget-view+json": {
       "model_id": "c4839c8113e040b5bdd9c9e25865fafe",
       "version_major": 2,
       "version_minor": 0
      },
      "text/plain": [
       "  0%|          | 0/1734 [00:00<?, ?it/s]"
      ]
     },
     "metadata": {},
     "output_type": "display_data"
    },
    {
     "data": {
      "application/vnd.jupyter.widget-view+json": {
       "model_id": "6c82e18ed9954426bf37c132677f6583",
       "version_major": 2,
       "version_minor": 0
      },
      "text/plain": [
       "  0%|          | 0/6525 [00:00<?, ?it/s]"
      ]
     },
     "metadata": {},
     "output_type": "display_data"
    },
    {
     "data": {
      "application/vnd.jupyter.widget-view+json": {
       "model_id": "bfac5393f83043639460e8810315bb33",
       "version_major": 2,
       "version_minor": 0
      },
      "text/plain": [
       "  0%|          | 0/1626 [00:00<?, ?it/s]"
      ]
     },
     "metadata": {},
     "output_type": "display_data"
    },
    {
     "data": {
      "application/vnd.jupyter.widget-view+json": {
       "model_id": "1aca4f0adddf44069ec09b1178e1598b",
       "version_major": 2,
       "version_minor": 0
      },
      "text/plain": [
       "  0%|          | 0/6570 [00:00<?, ?it/s]"
      ]
     },
     "metadata": {},
     "output_type": "display_data"
    },
    {
     "data": {
      "application/vnd.jupyter.widget-view+json": {
       "model_id": "d8b307b86cda435f8bb1270e39ff7665",
       "version_major": 2,
       "version_minor": 0
      },
      "text/plain": [
       "  0%|          | 0/1581 [00:00<?, ?it/s]"
      ]
     },
     "metadata": {},
     "output_type": "display_data"
    },
    {
     "data": {
      "application/vnd.jupyter.widget-view+json": {
       "model_id": "32547c84cfa44998a069a098f3f45bf8",
       "version_major": 2,
       "version_minor": 0
      },
      "text/plain": [
       "  0%|          | 0/6525 [00:00<?, ?it/s]"
      ]
     },
     "metadata": {},
     "output_type": "display_data"
    },
    {
     "data": {
      "application/vnd.jupyter.widget-view+json": {
       "model_id": "beeacab8de4b417dbc4fd81ea8d23d29",
       "version_major": 2,
       "version_minor": 0
      },
      "text/plain": [
       "  0%|          | 0/1626 [00:00<?, ?it/s]"
      ]
     },
     "metadata": {},
     "output_type": "display_data"
    }
   ],
   "source": [
    "gesture_cols = df[\"gesture\"].unique()\n",
    "\n",
    "def length_normed_sequence_feat_arr(sequence: DF, normed_sequence_len: int) -> ndarray:\n",
    "    features = (\n",
    "        sequence\n",
    "        .loc[:, get_feature_cols(df)]\n",
    "        .values\n",
    "    )\n",
    "    len_diff = abs(normed_sequence_len - len(features))\n",
    "    if len(features) < normed_sequence_len:\n",
    "        padded_features = np.pad(\n",
    "            features,\n",
    "            ((len_diff // 2 + len_diff % 2, len_diff // 2), (0, 0)),\n",
    "        )\n",
    "        return padded_features\n",
    "    elif len(features) > normed_sequence_len:\n",
    "        return features[len_diff // 2:-len_diff // 2]\n",
    "    else:\n",
    "        return features\n",
    "\n",
    "def df_to_ndarrays(df:DF, normed_sequence_len:int) -> tuple[np.ndarray, np.ndarray]:\n",
    "    sequence_it = df.groupby(\"sequence_id\", observed=True, as_index=False)\n",
    "    x = np.empty(\n",
    "        shape=(len(sequence_it), normed_sequence_len, len(get_feature_cols(df))),\n",
    "        dtype=\"float32\"\n",
    "    )\n",
    "    y = np.empty(\n",
    "        shape=(len(sequence_it), df[\"gesture\"].nunique()),\n",
    "        dtype=\"float32\"\n",
    "    )\n",
    "    for sequence_idx, (_, sequence) in tqdm(enumerate(sequence_it), total=len(sequence_it)):\n",
    "        normed_seq_feat_arr = length_normed_sequence_feat_arr(sequence, normed_sequence_len)\n",
    "        x[sequence_idx] = normed_seq_feat_arr\n",
    "        # Take the first value as they are(or at least should be) all the same in a single sequence\n",
    "        y[sequence_idx] = sequence[gesture_cols].iloc[0].values\n",
    "\n",
    "    return x, y\n",
    "\n",
    "def get_normed_seq_len(dataset:DF) -> int:\n",
    "    return int(\n",
    "        dataset\n",
    "        .groupby(\"sequence_id\", observed=True)\n",
    "        .size()\n",
    "        .quantile(SEQUENCE_NORMED_LEN_QUANTILE)\n",
    "    )\n",
    "\n",
    "def fold_dfs_to_ndarrays(train:DF, validation:DF) -> tuple[ndarray, ndarray, ndarray, ndarray]:\n",
    "    \"\"\"\n",
    "    Returns:\n",
    "        (train X, train Y, validation X, validation Y)\n",
    "    \"\"\"\n",
    "    normed_sequence_len = get_normed_seq_len(train)\n",
    "    return (\n",
    "        *df_to_ndarrays(train, normed_sequence_len),\n",
    "        *df_to_ndarrays(validation, normed_sequence_len),\n",
    "    )\n",
    "\n",
    "folds_arrs = list(starmap(fold_dfs_to_ndarrays, folds))"
   ]
  },
  {
   "cell_type": "code",
   "execution_count": 120,
   "id": "80490c33",
   "metadata": {},
   "outputs": [
    {
     "data": {
      "application/vnd.jupyter.widget-view+json": {
       "model_id": "34a3acc3cbc14882b4968265e55f8fa4",
       "version_major": 2,
       "version_minor": 0
      },
      "text/plain": [
       "  0%|          | 0/8151 [00:00<?, ?it/s]"
      ]
     },
     "metadata": {},
     "output_type": "display_data"
    }
   ],
   "source": [
    "full_dataset_sequence_length_norm = get_normed_seq_len(df)\n",
    "full_x, full_y = df_to_ndarrays(df, full_dataset_sequence_length_norm)"
   ]
  },
  {
   "cell_type": "markdown",
   "id": "b99f60c2",
   "metadata": {},
   "source": [
    "## Create dataset"
   ]
  },
  {
   "cell_type": "code",
   "execution_count": 121,
   "id": "a46b79b2",
   "metadata": {},
   "outputs": [],
   "source": [
    "# Clean dataset directory if it already exists\n",
    "! rm -rf preprocessed_dataset\n",
    "# Create dataset direcory\n",
    "! mkdir preprocessed_dataset\n",
    "# Save folds\n",
    "for fold_i, (train_x, train_y, val_x, val_y) in enumerate(folds_arrs):\n",
    "    fold_dir_path = join(\"preprocessed_dataset\", f\"fold_{fold_i}\")\n",
    "    os.makedirs(fold_dir_path)\n",
    "    # save features (X)\n",
    "    np.save(join(fold_dir_path, \"train_X.npy\"), train_x, allow_pickle=False)\n",
    "    np.save(join(fold_dir_path, \"validation_X.npy\"), val_x, allow_pickle=False)\n",
    "    # Save targets (Y)\n",
    "    np.save(join(fold_dir_path, \"train_Y.npy\"), train_y, allow_pickle=False)\n",
    "    np.save(join(fold_dir_path, \"validation_Y.npy\"), val_y, allow_pickle=False)\n",
    "# Save full dataset\n",
    "full_dataset_dir_path = \"preprocessed_dataset/full_dataset\"\n",
    "os.makedirs(full_dataset_dir_path)\n",
    "np.save(join(full_dataset_dir_path, \"X.npy\"), full_x, allow_pickle=False)\n",
    "np.save(join(full_dataset_dir_path, \"Y.npy\"), full_y, allow_pickle=False)\n",
    "# Save dataset meta data\n",
    "full_dataset_meta_data[\"target_names\"] = one_hot_target.columns.to_list()\n",
    "full_dataset_meta_data[\"pad_seq_len\"] = full_dataset_sequence_length_norm\n",
    "full_dataset_meta_data[\"feature_cols\"] = get_feature_cols(df)\n",
    "\n",
    "with open(\"preprocessed_dataset/full_dataset_meta_data.json\", \"w\") as fp:\n",
    "    json.dump(full_dataset_meta_data, fp, indent=4)"
   ]
  },
  {
   "cell_type": "code",
   "execution_count": 122,
   "id": "0b77ea50",
   "metadata": {},
   "outputs": [
    {
     "data": {
      "text/html": [
       "<div>\n",
       "<style scoped>\n",
       "    .dataframe tbody tr th:only-of-type {\n",
       "        vertical-align: middle;\n",
       "    }\n",
       "\n",
       "    .dataframe tbody tr th {\n",
       "        vertical-align: top;\n",
       "    }\n",
       "\n",
       "    .dataframe thead th {\n",
       "        text-align: right;\n",
       "    }\n",
       "</style>\n",
       "<table border=\"1\" class=\"dataframe\">\n",
       "  <thead>\n",
       "    <tr style=\"text-align: right;\">\n",
       "      <th></th>\n",
       "      <th>quat_rot_mag_diff</th>\n",
       "      <th>rot_y_diff</th>\n",
       "      <th>tof_5_diff</th>\n",
       "      <th>gravity_free_acc_z_diff</th>\n",
       "      <th>thm_3</th>\n",
       "      <th>thm_3_diff</th>\n",
       "      <th>rotation_axis_z</th>\n",
       "      <th>thm_1_diff</th>\n",
       "      <th>thm_2_diff</th>\n",
       "      <th>rot_z_diff</th>\n",
       "      <th>...</th>\n",
       "      <th>rotation_axis_y_diff</th>\n",
       "      <th>rot_x_diff</th>\n",
       "      <th>thm_4_diff</th>\n",
       "      <th>rot_y</th>\n",
       "      <th>gravity_free_acc_y_diff</th>\n",
       "      <th>tof_3_diff</th>\n",
       "      <th>angular_vel_y</th>\n",
       "      <th>angular_vel_y_diff</th>\n",
       "      <th>raw_acc_mag_diff</th>\n",
       "      <th>rotation_axis_x</th>\n",
       "    </tr>\n",
       "  </thead>\n",
       "  <tbody>\n",
       "    <tr>\n",
       "      <th>0</th>\n",
       "      <td>-0.031599</td>\n",
       "      <td>-0.003358</td>\n",
       "      <td>0.004162</td>\n",
       "      <td>0.040062</td>\n",
       "      <td>0.633442</td>\n",
       "      <td>-0.036447</td>\n",
       "      <td>-0.063881</td>\n",
       "      <td>-0.031457</td>\n",
       "      <td>-0.031901</td>\n",
       "      <td>-0.017050</td>\n",
       "      <td>...</td>\n",
       "      <td>0.000835</td>\n",
       "      <td>-0.006843</td>\n",
       "      <td>-0.022836</td>\n",
       "      <td>-0.716343</td>\n",
       "      <td>-0.006132</td>\n",
       "      <td>0.034665</td>\n",
       "      <td>-0.010010</td>\n",
       "      <td>-0.007949</td>\n",
       "      <td>-0.000488</td>\n",
       "      <td>-0.000930</td>\n",
       "    </tr>\n",
       "    <tr>\n",
       "      <th>1</th>\n",
       "      <td>-0.175892</td>\n",
       "      <td>0.084852</td>\n",
       "      <td>0.218816</td>\n",
       "      <td>-0.126511</td>\n",
       "      <td>0.681437</td>\n",
       "      <td>0.383583</td>\n",
       "      <td>-1.139422</td>\n",
       "      <td>0.708143</td>\n",
       "      <td>0.047365</td>\n",
       "      <td>-0.105488</td>\n",
       "      <td>...</td>\n",
       "      <td>-0.975351</td>\n",
       "      <td>0.083221</td>\n",
       "      <td>0.131625</td>\n",
       "      <td>-0.681840</td>\n",
       "      <td>0.234224</td>\n",
       "      <td>0.824043</td>\n",
       "      <td>-0.238310</td>\n",
       "      <td>-0.213256</td>\n",
       "      <td>0.062364</td>\n",
       "      <td>-0.346745</td>\n",
       "    </tr>\n",
       "    <tr>\n",
       "      <th>2</th>\n",
       "      <td>-1.239175</td>\n",
       "      <td>0.335354</td>\n",
       "      <td>0.423344</td>\n",
       "      <td>0.924289</td>\n",
       "      <td>0.741405</td>\n",
       "      <td>0.488376</td>\n",
       "      <td>-0.680482</td>\n",
       "      <td>1.828919</td>\n",
       "      <td>-1.451626</td>\n",
       "      <td>-0.263360</td>\n",
       "      <td>...</td>\n",
       "      <td>-0.056328</td>\n",
       "      <td>0.392540</td>\n",
       "      <td>0.267826</td>\n",
       "      <td>-0.549352</td>\n",
       "      <td>0.830128</td>\n",
       "      <td>2.444347</td>\n",
       "      <td>-1.075163</td>\n",
       "      <td>-0.760519</td>\n",
       "      <td>-0.157361</td>\n",
       "      <td>-0.772812</td>\n",
       "    </tr>\n",
       "    <tr>\n",
       "      <th>3</th>\n",
       "      <td>-1.308628</td>\n",
       "      <td>0.557607</td>\n",
       "      <td>0.311967</td>\n",
       "      <td>0.788105</td>\n",
       "      <td>0.584725</td>\n",
       "      <td>-1.407649</td>\n",
       "      <td>-1.219317</td>\n",
       "      <td>0.349304</td>\n",
       "      <td>-5.911228</td>\n",
       "      <td>-0.138743</td>\n",
       "      <td>...</td>\n",
       "      <td>0.460885</td>\n",
       "      <td>0.054061</td>\n",
       "      <td>0.464780</td>\n",
       "      <td>-0.329928</td>\n",
       "      <td>0.134826</td>\n",
       "      <td>3.524549</td>\n",
       "      <td>-0.665305</td>\n",
       "      <td>0.360630</td>\n",
       "      <td>0.187499</td>\n",
       "      <td>-1.227882</td>\n",
       "    </tr>\n",
       "    <tr>\n",
       "      <th>4</th>\n",
       "      <td>-0.627924</td>\n",
       "      <td>0.821370</td>\n",
       "      <td>1.126032</td>\n",
       "      <td>1.424118</td>\n",
       "      <td>0.081696</td>\n",
       "      <td>-4.438758</td>\n",
       "      <td>-1.501087</td>\n",
       "      <td>-2.316473</td>\n",
       "      <td>-2.711105</td>\n",
       "      <td>-0.189905</td>\n",
       "      <td>...</td>\n",
       "      <td>-0.131683</td>\n",
       "      <td>0.268517</td>\n",
       "      <td>0.831151</td>\n",
       "      <td>-0.007333</td>\n",
       "      <td>-0.810621</td>\n",
       "      <td>2.226724</td>\n",
       "      <td>-1.052999</td>\n",
       "      <td>-0.356597</td>\n",
       "      <td>0.717248</td>\n",
       "      <td>-0.603727</td>\n",
       "    </tr>\n",
       "    <tr>\n",
       "      <th>...</th>\n",
       "      <td>...</td>\n",
       "      <td>...</td>\n",
       "      <td>...</td>\n",
       "      <td>...</td>\n",
       "      <td>...</td>\n",
       "      <td>...</td>\n",
       "      <td>...</td>\n",
       "      <td>...</td>\n",
       "      <td>...</td>\n",
       "      <td>...</td>\n",
       "      <td>...</td>\n",
       "      <td>...</td>\n",
       "      <td>...</td>\n",
       "      <td>...</td>\n",
       "      <td>...</td>\n",
       "      <td>...</td>\n",
       "      <td>...</td>\n",
       "      <td>...</td>\n",
       "      <td>...</td>\n",
       "      <td>...</td>\n",
       "      <td>...</td>\n",
       "    </tr>\n",
       "    <tr>\n",
       "      <th>574940</th>\n",
       "      <td>0.130531</td>\n",
       "      <td>0.074762</td>\n",
       "      <td>0.334243</td>\n",
       "      <td>0.548920</td>\n",
       "      <td>0.292463</td>\n",
       "      <td>0.376693</td>\n",
       "      <td>-0.416056</td>\n",
       "      <td>0.761030</td>\n",
       "      <td>1.049440</td>\n",
       "      <td>0.079061</td>\n",
       "      <td>...</td>\n",
       "      <td>1.979492</td>\n",
       "      <td>-0.088787</td>\n",
       "      <td>0.500950</td>\n",
       "      <td>-0.759754</td>\n",
       "      <td>0.206750</td>\n",
       "      <td>0.155347</td>\n",
       "      <td>0.171270</td>\n",
       "      <td>0.428464</td>\n",
       "      <td>-0.435785</td>\n",
       "      <td>-1.386937</td>\n",
       "    </tr>\n",
       "    <tr>\n",
       "      <th>574941</th>\n",
       "      <td>-0.094305</td>\n",
       "      <td>0.046224</td>\n",
       "      <td>0.222866</td>\n",
       "      <td>-0.242204</td>\n",
       "      <td>0.314339</td>\n",
       "      <td>0.154999</td>\n",
       "      <td>-0.555313</td>\n",
       "      <td>0.043840</td>\n",
       "      <td>0.171812</td>\n",
       "      <td>-0.091601</td>\n",
       "      <td>...</td>\n",
       "      <td>-1.739969</td>\n",
       "      <td>-0.024561</td>\n",
       "      <td>0.103785</td>\n",
       "      <td>-0.740360</td>\n",
       "      <td>-0.027819</td>\n",
       "      <td>-0.020730</td>\n",
       "      <td>-0.136954</td>\n",
       "      <td>-0.285131</td>\n",
       "      <td>0.474626</td>\n",
       "      <td>-1.089402</td>\n",
       "    </tr>\n",
       "    <tr>\n",
       "      <th>574942</th>\n",
       "      <td>-0.072132</td>\n",
       "      <td>-0.007393</td>\n",
       "      <td>0.384869</td>\n",
       "      <td>0.810820</td>\n",
       "      <td>0.299698</td>\n",
       "      <td>-0.164578</td>\n",
       "      <td>0.801664</td>\n",
       "      <td>0.133883</td>\n",
       "      <td>-0.093691</td>\n",
       "      <td>-0.028745</td>\n",
       "      <td>...</td>\n",
       "      <td>-0.071204</td>\n",
       "      <td>0.000170</td>\n",
       "      <td>-0.191678</td>\n",
       "      <td>-0.741939</td>\n",
       "      <td>0.479225</td>\n",
       "      <td>-0.863526</td>\n",
       "      <td>-0.038358</td>\n",
       "      <td>0.080717</td>\n",
       "      <td>-1.127662</td>\n",
       "      <td>0.576502</td>\n",
       "    </tr>\n",
       "    <tr>\n",
       "      <th>574943</th>\n",
       "      <td>-0.100145</td>\n",
       "      <td>0.046512</td>\n",
       "      <td>-0.323895</td>\n",
       "      <td>-0.644663</td>\n",
       "      <td>0.330572</td>\n",
       "      <td>0.233752</td>\n",
       "      <td>-0.514518</td>\n",
       "      <td>0.584035</td>\n",
       "      <td>0.533072</td>\n",
       "      <td>-0.090870</td>\n",
       "      <td>...</td>\n",
       "      <td>0.060466</td>\n",
       "      <td>-0.021977</td>\n",
       "      <td>0.103806</td>\n",
       "      <td>-0.722432</td>\n",
       "      <td>-0.212499</td>\n",
       "      <td>0.493652</td>\n",
       "      <td>-0.138399</td>\n",
       "      <td>-0.097915</td>\n",
       "      <td>1.096312</td>\n",
       "      <td>-1.079692</td>\n",
       "    </tr>\n",
       "    <tr>\n",
       "      <th>574944</th>\n",
       "      <td>0.048528</td>\n",
       "      <td>-0.008546</td>\n",
       "      <td>0.048712</td>\n",
       "      <td>-0.184165</td>\n",
       "      <td>0.314339</td>\n",
       "      <td>-0.178515</td>\n",
       "      <td>-0.379547</td>\n",
       "      <td>-0.204260</td>\n",
       "      <td>-0.100022</td>\n",
       "      <td>0.022418</td>\n",
       "      <td>...</td>\n",
       "      <td>2.143557</td>\n",
       "      <td>-0.015702</td>\n",
       "      <td>0.035965</td>\n",
       "      <td>-0.724462</td>\n",
       "      <td>-0.353373</td>\n",
       "      <td>0.461997</td>\n",
       "      <td>0.070146</td>\n",
       "      <td>0.179592</td>\n",
       "      <td>0.377608</td>\n",
       "      <td>0.093594</td>\n",
       "    </tr>\n",
       "  </tbody>\n",
       "</table>\n",
       "<p>574945 rows × 66 columns</p>\n",
       "</div>"
      ],
      "text/plain": [
       "        quat_rot_mag_diff  rot_y_diff  tof_5_diff  gravity_free_acc_z_diff  \\\n",
       "0               -0.031599   -0.003358    0.004162                 0.040062   \n",
       "1               -0.175892    0.084852    0.218816                -0.126511   \n",
       "2               -1.239175    0.335354    0.423344                 0.924289   \n",
       "3               -1.308628    0.557607    0.311967                 0.788105   \n",
       "4               -0.627924    0.821370    1.126032                 1.424118   \n",
       "...                   ...         ...         ...                      ...   \n",
       "574940           0.130531    0.074762    0.334243                 0.548920   \n",
       "574941          -0.094305    0.046224    0.222866                -0.242204   \n",
       "574942          -0.072132   -0.007393    0.384869                 0.810820   \n",
       "574943          -0.100145    0.046512   -0.323895                -0.644663   \n",
       "574944           0.048528   -0.008546    0.048712                -0.184165   \n",
       "\n",
       "           thm_3  thm_3_diff  rotation_axis_z  thm_1_diff  thm_2_diff  \\\n",
       "0       0.633442   -0.036447        -0.063881   -0.031457   -0.031901   \n",
       "1       0.681437    0.383583        -1.139422    0.708143    0.047365   \n",
       "2       0.741405    0.488376        -0.680482    1.828919   -1.451626   \n",
       "3       0.584725   -1.407649        -1.219317    0.349304   -5.911228   \n",
       "4       0.081696   -4.438758        -1.501087   -2.316473   -2.711105   \n",
       "...          ...         ...              ...         ...         ...   \n",
       "574940  0.292463    0.376693        -0.416056    0.761030    1.049440   \n",
       "574941  0.314339    0.154999        -0.555313    0.043840    0.171812   \n",
       "574942  0.299698   -0.164578         0.801664    0.133883   -0.093691   \n",
       "574943  0.330572    0.233752        -0.514518    0.584035    0.533072   \n",
       "574944  0.314339   -0.178515        -0.379547   -0.204260   -0.100022   \n",
       "\n",
       "        rot_z_diff  ...  rotation_axis_y_diff  rot_x_diff  thm_4_diff  \\\n",
       "0        -0.017050  ...              0.000835   -0.006843   -0.022836   \n",
       "1        -0.105488  ...             -0.975351    0.083221    0.131625   \n",
       "2        -0.263360  ...             -0.056328    0.392540    0.267826   \n",
       "3        -0.138743  ...              0.460885    0.054061    0.464780   \n",
       "4        -0.189905  ...             -0.131683    0.268517    0.831151   \n",
       "...            ...  ...                   ...         ...         ...   \n",
       "574940    0.079061  ...              1.979492   -0.088787    0.500950   \n",
       "574941   -0.091601  ...             -1.739969   -0.024561    0.103785   \n",
       "574942   -0.028745  ...             -0.071204    0.000170   -0.191678   \n",
       "574943   -0.090870  ...              0.060466   -0.021977    0.103806   \n",
       "574944    0.022418  ...              2.143557   -0.015702    0.035965   \n",
       "\n",
       "           rot_y  gravity_free_acc_y_diff  tof_3_diff  angular_vel_y  \\\n",
       "0      -0.716343                -0.006132    0.034665      -0.010010   \n",
       "1      -0.681840                 0.234224    0.824043      -0.238310   \n",
       "2      -0.549352                 0.830128    2.444347      -1.075163   \n",
       "3      -0.329928                 0.134826    3.524549      -0.665305   \n",
       "4      -0.007333                -0.810621    2.226724      -1.052999   \n",
       "...          ...                      ...         ...            ...   \n",
       "574940 -0.759754                 0.206750    0.155347       0.171270   \n",
       "574941 -0.740360                -0.027819   -0.020730      -0.136954   \n",
       "574942 -0.741939                 0.479225   -0.863526      -0.038358   \n",
       "574943 -0.722432                -0.212499    0.493652      -0.138399   \n",
       "574944 -0.724462                -0.353373    0.461997       0.070146   \n",
       "\n",
       "        angular_vel_y_diff  raw_acc_mag_diff  rotation_axis_x  \n",
       "0                -0.007949         -0.000488        -0.000930  \n",
       "1                -0.213256          0.062364        -0.346745  \n",
       "2                -0.760519         -0.157361        -0.772812  \n",
       "3                 0.360630          0.187499        -1.227882  \n",
       "4                -0.356597          0.717248        -0.603727  \n",
       "...                    ...               ...              ...  \n",
       "574940            0.428464         -0.435785        -1.386937  \n",
       "574941           -0.285131          0.474626        -1.089402  \n",
       "574942            0.080717         -1.127662         0.576502  \n",
       "574943           -0.097915          1.096312        -1.079692  \n",
       "574944            0.179592          0.377608         0.093594  \n",
       "\n",
       "[574945 rows x 66 columns]"
      ]
     },
     "execution_count": 122,
     "metadata": {},
     "output_type": "execute_result"
    }
   ],
   "source": [
    "df[get_feature_cols(df)]"
   ]
  },
  {
   "cell_type": "markdown",
   "id": "b2775c75",
   "metadata": {},
   "source": [
    "## Dataset upload\n",
    "Optionally upload the dataset to kaggle."
   ]
  },
  {
   "cell_type": "code",
   "execution_count": 123,
   "id": "d0b40895",
   "metadata": {},
   "outputs": [
    {
     "name": "stdout",
     "output_type": "stream",
     "text": [
      "Dataset has not been uploaded.\n"
     ]
    }
   ],
   "source": [
    "if input(\"Do you want to upload the  dataset to kaggle?[yes/no]\").lower() == \"yes\":\n",
    "    # Updaload the dataset\n",
    "    dataset_upload(\n",
    "        join(whoami()[\"username\"], \"prepocessed-cmi-2025\"),\n",
    "        \"preprocessed_dataset\",\n",
    "        version_notes=\"Preprocessed Child Mind Institue 2025 competition dataset.\"\n",
    "    )\n",
    "else:\n",
    "    print(\"Dataset has not been uploaded.\")"
   ]
  }
 ],
 "metadata": {
  "kernelspec": {
   "display_name": "CMI",
   "language": "python",
   "name": "python3"
  },
  "language_info": {
   "codemirror_mode": {
    "name": "ipython",
    "version": 3
   },
   "file_extension": ".py",
   "mimetype": "text/x-python",
   "name": "python",
   "nbconvert_exporter": "python",
   "pygments_lexer": "ipython3",
   "version": "3.11.5"
  }
 },
 "nbformat": 4,
 "nbformat_minor": 5
}
