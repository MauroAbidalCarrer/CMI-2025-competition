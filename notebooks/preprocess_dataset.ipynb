{
 "cells": [
  {
   "cell_type": "markdown",
   "id": "7c1fbf88",
   "metadata": {},
   "source": [
    "# Dataset preprocessing\n",
    "\n",
    "The goal of this notebook is to create a preprocessed kaggle dataset out of the competition dataset.  \n",
    "For now, the preprocessing will be based on [this notebook](https://www.kaggle.com/code/vonmainstein/imu-tof).  \n",
    "It consists of the following steps:\n",
    "-   Set the appropriate dtypes (helps with RAM usage).\n",
    "-   Impute missing feature values with forward, backward and then 0 filling.\n",
    "-   Split the dataset into multiple cross validation folds.\n",
    "-   Standardize feature values.\n",
    "-   Pad/Truncate the sequences to the same length.  \n",
    "\n",
    "> Note:  \n",
    "> - Demographics data set will be ignored for now.  "
   ]
  },
  {
   "cell_type": "markdown",
   "id": "67848297",
   "metadata": {},
   "source": [
    "## Imports"
   ]
  },
  {
   "cell_type": "code",
   "execution_count": null,
   "id": "3b58565a",
   "metadata": {},
   "outputs": [],
   "source": [
    "import os\n",
    "import json\n",
    "from os.path import join\n",
    "from itertools import repeat\n",
    "\n",
    "import numpy as np\n",
    "from numpy import ndarray\n",
    "import pandas as pd\n",
    "import plotly.express as px\n",
    "from pandas import DataFrame as DF\n",
    "from kagglehub import whoami, competition_download, dataset_upload\n",
    "\n",
    "from config import *"
   ]
  },
  {
   "cell_type": "markdown",
   "id": "c1924ec0",
   "metadata": {},
   "source": [
    "## Data preprocessing"
   ]
  },
  {
   "cell_type": "markdown",
   "id": "1b3b38be",
   "metadata": {},
   "source": [
    "### Load dataset\n",
    "Requires to be logged in if this notebook is not running on laggle, go to [your settings](https://www.kaggle.com/settings) to create an access token and put it in `~/.kaggle/`."
   ]
  },
  {
   "cell_type": "code",
   "execution_count": 2,
   "id": "a0bb6cf4",
   "metadata": {},
   "outputs": [],
   "source": [
    "competition_dataset_path = competition_download(COMPETITION_HANDLE)\n",
    "df = pd.read_csv(join(competition_dataset_path, \"train.csv\"), dtype=DATASET_DF_DTYPES)"
   ]
  },
  {
   "cell_type": "markdown",
   "id": "7aea88de",
   "metadata": {},
   "source": [
    "### Impute missing data\n",
    "Perform forward, backward and then 0 filling of NaN values."
   ]
  },
  {
   "cell_type": "code",
   "execution_count": 3,
   "id": "c2f0db28",
   "metadata": {},
   "outputs": [],
   "source": [
    "feature_cols = list(set(df.columns) - set(META_DATA_COLUMNS))\n",
    "# Missing ToF values are already imputed by -1 which is inconvinient since we want all missing values to be NaN.    \n",
    "# So we replace them by NaN and then perform imputing.  \n",
    "to_replace = {col: -1.0 for col in df.columns if col.startswith(\"tof\")}\n",
    "\n",
    "df[feature_cols] = (\n",
    "    df\n",
    "    .loc[:, feature_cols]\n",
    "     # df.replace with np.nan sets dtype to floar64 so we set it back to float32\n",
    "    .replace(to_replace, value=np.nan)\n",
    "    .astype(\"float32\")\n",
    "    .groupby(df[\"sequence_id\"], observed=True, as_index=False)\n",
    "    .ffill()\n",
    "    .groupby(df[\"sequence_id\"], observed=True, as_index=False)\n",
    "    .bfill()\n",
    "    # In case there are only nan in the column in the sequence\n",
    "    .fillna(0)\n",
    ")"
   ]
  },
  {
   "cell_type": "markdown",
   "id": "18979983",
   "metadata": {},
   "source": [
    "### One hot encode target values."
   ]
  },
  {
   "cell_type": "code",
   "execution_count": 4,
   "id": "05661625",
   "metadata": {},
   "outputs": [
    {
     "name": "stderr",
     "output_type": "stream",
     "text": [
      "/tmp/ipykernel_13543/1507406683.py:2: PerformanceWarning: DataFrame is highly fragmented.  This is usually the result of calling `frame.insert` many times, which has poor performance.  Consider joining all columns at once using pd.concat(axis=1) instead. To get a de-fragmented frame, use `newframe = frame.copy()`\n",
      "  df[one_hot_target.columns] = one_hot_target\n",
      "/tmp/ipykernel_13543/1507406683.py:2: PerformanceWarning: DataFrame is highly fragmented.  This is usually the result of calling `frame.insert` many times, which has poor performance.  Consider joining all columns at once using pd.concat(axis=1) instead. To get a de-fragmented frame, use `newframe = frame.copy()`\n",
      "  df[one_hot_target.columns] = one_hot_target\n",
      "/tmp/ipykernel_13543/1507406683.py:2: PerformanceWarning: DataFrame is highly fragmented.  This is usually the result of calling `frame.insert` many times, which has poor performance.  Consider joining all columns at once using pd.concat(axis=1) instead. To get a de-fragmented frame, use `newframe = frame.copy()`\n",
      "  df[one_hot_target.columns] = one_hot_target\n",
      "/tmp/ipykernel_13543/1507406683.py:2: PerformanceWarning: DataFrame is highly fragmented.  This is usually the result of calling `frame.insert` many times, which has poor performance.  Consider joining all columns at once using pd.concat(axis=1) instead. To get a de-fragmented frame, use `newframe = frame.copy()`\n",
      "  df[one_hot_target.columns] = one_hot_target\n",
      "/tmp/ipykernel_13543/1507406683.py:2: PerformanceWarning: DataFrame is highly fragmented.  This is usually the result of calling `frame.insert` many times, which has poor performance.  Consider joining all columns at once using pd.concat(axis=1) instead. To get a de-fragmented frame, use `newframe = frame.copy()`\n",
      "  df[one_hot_target.columns] = one_hot_target\n",
      "/tmp/ipykernel_13543/1507406683.py:2: PerformanceWarning: DataFrame is highly fragmented.  This is usually the result of calling `frame.insert` many times, which has poor performance.  Consider joining all columns at once using pd.concat(axis=1) instead. To get a de-fragmented frame, use `newframe = frame.copy()`\n",
      "  df[one_hot_target.columns] = one_hot_target\n",
      "/tmp/ipykernel_13543/1507406683.py:2: PerformanceWarning: DataFrame is highly fragmented.  This is usually the result of calling `frame.insert` many times, which has poor performance.  Consider joining all columns at once using pd.concat(axis=1) instead. To get a de-fragmented frame, use `newframe = frame.copy()`\n",
      "  df[one_hot_target.columns] = one_hot_target\n",
      "/tmp/ipykernel_13543/1507406683.py:2: PerformanceWarning: DataFrame is highly fragmented.  This is usually the result of calling `frame.insert` many times, which has poor performance.  Consider joining all columns at once using pd.concat(axis=1) instead. To get a de-fragmented frame, use `newframe = frame.copy()`\n",
      "  df[one_hot_target.columns] = one_hot_target\n",
      "/tmp/ipykernel_13543/1507406683.py:2: PerformanceWarning: DataFrame is highly fragmented.  This is usually the result of calling `frame.insert` many times, which has poor performance.  Consider joining all columns at once using pd.concat(axis=1) instead. To get a de-fragmented frame, use `newframe = frame.copy()`\n",
      "  df[one_hot_target.columns] = one_hot_target\n",
      "/tmp/ipykernel_13543/1507406683.py:2: PerformanceWarning: DataFrame is highly fragmented.  This is usually the result of calling `frame.insert` many times, which has poor performance.  Consider joining all columns at once using pd.concat(axis=1) instead. To get a de-fragmented frame, use `newframe = frame.copy()`\n",
      "  df[one_hot_target.columns] = one_hot_target\n",
      "/tmp/ipykernel_13543/1507406683.py:2: PerformanceWarning: DataFrame is highly fragmented.  This is usually the result of calling `frame.insert` many times, which has poor performance.  Consider joining all columns at once using pd.concat(axis=1) instead. To get a de-fragmented frame, use `newframe = frame.copy()`\n",
      "  df[one_hot_target.columns] = one_hot_target\n",
      "/tmp/ipykernel_13543/1507406683.py:2: PerformanceWarning: DataFrame is highly fragmented.  This is usually the result of calling `frame.insert` many times, which has poor performance.  Consider joining all columns at once using pd.concat(axis=1) instead. To get a de-fragmented frame, use `newframe = frame.copy()`\n",
      "  df[one_hot_target.columns] = one_hot_target\n",
      "/tmp/ipykernel_13543/1507406683.py:2: PerformanceWarning: DataFrame is highly fragmented.  This is usually the result of calling `frame.insert` many times, which has poor performance.  Consider joining all columns at once using pd.concat(axis=1) instead. To get a de-fragmented frame, use `newframe = frame.copy()`\n",
      "  df[one_hot_target.columns] = one_hot_target\n",
      "/tmp/ipykernel_13543/1507406683.py:2: PerformanceWarning: DataFrame is highly fragmented.  This is usually the result of calling `frame.insert` many times, which has poor performance.  Consider joining all columns at once using pd.concat(axis=1) instead. To get a de-fragmented frame, use `newframe = frame.copy()`\n",
      "  df[one_hot_target.columns] = one_hot_target\n",
      "/tmp/ipykernel_13543/1507406683.py:2: PerformanceWarning: DataFrame is highly fragmented.  This is usually the result of calling `frame.insert` many times, which has poor performance.  Consider joining all columns at once using pd.concat(axis=1) instead. To get a de-fragmented frame, use `newframe = frame.copy()`\n",
      "  df[one_hot_target.columns] = one_hot_target\n",
      "/tmp/ipykernel_13543/1507406683.py:2: PerformanceWarning: DataFrame is highly fragmented.  This is usually the result of calling `frame.insert` many times, which has poor performance.  Consider joining all columns at once using pd.concat(axis=1) instead. To get a de-fragmented frame, use `newframe = frame.copy()`\n",
      "  df[one_hot_target.columns] = one_hot_target\n",
      "/tmp/ipykernel_13543/1507406683.py:2: PerformanceWarning: DataFrame is highly fragmented.  This is usually the result of calling `frame.insert` many times, which has poor performance.  Consider joining all columns at once using pd.concat(axis=1) instead. To get a de-fragmented frame, use `newframe = frame.copy()`\n",
      "  df[one_hot_target.columns] = one_hot_target\n",
      "/tmp/ipykernel_13543/1507406683.py:2: PerformanceWarning: DataFrame is highly fragmented.  This is usually the result of calling `frame.insert` many times, which has poor performance.  Consider joining all columns at once using pd.concat(axis=1) instead. To get a de-fragmented frame, use `newframe = frame.copy()`\n",
      "  df[one_hot_target.columns] = one_hot_target\n"
     ]
    },
    {
     "data": {
      "text/html": [
       "<div>\n",
       "<style scoped>\n",
       "    .dataframe tbody tr th:only-of-type {\n",
       "        vertical-align: middle;\n",
       "    }\n",
       "\n",
       "    .dataframe tbody tr th {\n",
       "        vertical-align: top;\n",
       "    }\n",
       "\n",
       "    .dataframe thead th {\n",
       "        text-align: right;\n",
       "    }\n",
       "</style>\n",
       "<table border=\"1\" class=\"dataframe\">\n",
       "  <thead>\n",
       "    <tr style=\"text-align: right;\">\n",
       "      <th></th>\n",
       "      <th>row_id</th>\n",
       "      <th>sequence_type</th>\n",
       "      <th>sequence_id</th>\n",
       "      <th>sequence_counter</th>\n",
       "      <th>subject</th>\n",
       "      <th>orientation</th>\n",
       "      <th>behavior</th>\n",
       "      <th>phase</th>\n",
       "      <th>gesture</th>\n",
       "      <th>acc_x</th>\n",
       "      <th>...</th>\n",
       "      <th>Neck - scratch</th>\n",
       "      <th>Text on phone</th>\n",
       "      <th>Wave hello</th>\n",
       "      <th>Write name in air</th>\n",
       "      <th>Write name on leg</th>\n",
       "      <th>Drink from bottle/cup</th>\n",
       "      <th>Pinch knee/leg skin</th>\n",
       "      <th>Pull air toward your face</th>\n",
       "      <th>Scratch knee/leg skin</th>\n",
       "      <th>Glasses on/off</th>\n",
       "    </tr>\n",
       "  </thead>\n",
       "  <tbody>\n",
       "    <tr>\n",
       "      <th>0</th>\n",
       "      <td>SEQ_000007_000000</td>\n",
       "      <td>Target</td>\n",
       "      <td>SEQ_000007</td>\n",
       "      <td>0</td>\n",
       "      <td>SUBJ_059520</td>\n",
       "      <td>Seated Lean Non Dom - FACE DOWN</td>\n",
       "      <td>Relaxes and moves hand to target location</td>\n",
       "      <td>Transition</td>\n",
       "      <td>Cheek - pinch skin</td>\n",
       "      <td>6.683594</td>\n",
       "      <td>...</td>\n",
       "      <td>False</td>\n",
       "      <td>False</td>\n",
       "      <td>False</td>\n",
       "      <td>False</td>\n",
       "      <td>False</td>\n",
       "      <td>False</td>\n",
       "      <td>False</td>\n",
       "      <td>False</td>\n",
       "      <td>False</td>\n",
       "      <td>False</td>\n",
       "    </tr>\n",
       "    <tr>\n",
       "      <th>1</th>\n",
       "      <td>SEQ_000007_000001</td>\n",
       "      <td>Target</td>\n",
       "      <td>SEQ_000007</td>\n",
       "      <td>1</td>\n",
       "      <td>SUBJ_059520</td>\n",
       "      <td>Seated Lean Non Dom - FACE DOWN</td>\n",
       "      <td>Relaxes and moves hand to target location</td>\n",
       "      <td>Transition</td>\n",
       "      <td>Cheek - pinch skin</td>\n",
       "      <td>6.949219</td>\n",
       "      <td>...</td>\n",
       "      <td>False</td>\n",
       "      <td>False</td>\n",
       "      <td>False</td>\n",
       "      <td>False</td>\n",
       "      <td>False</td>\n",
       "      <td>False</td>\n",
       "      <td>False</td>\n",
       "      <td>False</td>\n",
       "      <td>False</td>\n",
       "      <td>False</td>\n",
       "    </tr>\n",
       "    <tr>\n",
       "      <th>2</th>\n",
       "      <td>SEQ_000007_000002</td>\n",
       "      <td>Target</td>\n",
       "      <td>SEQ_000007</td>\n",
       "      <td>2</td>\n",
       "      <td>SUBJ_059520</td>\n",
       "      <td>Seated Lean Non Dom - FACE DOWN</td>\n",
       "      <td>Relaxes and moves hand to target location</td>\n",
       "      <td>Transition</td>\n",
       "      <td>Cheek - pinch skin</td>\n",
       "      <td>5.722656</td>\n",
       "      <td>...</td>\n",
       "      <td>False</td>\n",
       "      <td>False</td>\n",
       "      <td>False</td>\n",
       "      <td>False</td>\n",
       "      <td>False</td>\n",
       "      <td>False</td>\n",
       "      <td>False</td>\n",
       "      <td>False</td>\n",
       "      <td>False</td>\n",
       "      <td>False</td>\n",
       "    </tr>\n",
       "    <tr>\n",
       "      <th>3</th>\n",
       "      <td>SEQ_000007_000003</td>\n",
       "      <td>Target</td>\n",
       "      <td>SEQ_000007</td>\n",
       "      <td>3</td>\n",
       "      <td>SUBJ_059520</td>\n",
       "      <td>Seated Lean Non Dom - FACE DOWN</td>\n",
       "      <td>Relaxes and moves hand to target location</td>\n",
       "      <td>Transition</td>\n",
       "      <td>Cheek - pinch skin</td>\n",
       "      <td>6.601562</td>\n",
       "      <td>...</td>\n",
       "      <td>False</td>\n",
       "      <td>False</td>\n",
       "      <td>False</td>\n",
       "      <td>False</td>\n",
       "      <td>False</td>\n",
       "      <td>False</td>\n",
       "      <td>False</td>\n",
       "      <td>False</td>\n",
       "      <td>False</td>\n",
       "      <td>False</td>\n",
       "    </tr>\n",
       "    <tr>\n",
       "      <th>4</th>\n",
       "      <td>SEQ_000007_000004</td>\n",
       "      <td>Target</td>\n",
       "      <td>SEQ_000007</td>\n",
       "      <td>4</td>\n",
       "      <td>SUBJ_059520</td>\n",
       "      <td>Seated Lean Non Dom - FACE DOWN</td>\n",
       "      <td>Relaxes and moves hand to target location</td>\n",
       "      <td>Transition</td>\n",
       "      <td>Cheek - pinch skin</td>\n",
       "      <td>5.566406</td>\n",
       "      <td>...</td>\n",
       "      <td>False</td>\n",
       "      <td>False</td>\n",
       "      <td>False</td>\n",
       "      <td>False</td>\n",
       "      <td>False</td>\n",
       "      <td>False</td>\n",
       "      <td>False</td>\n",
       "      <td>False</td>\n",
       "      <td>False</td>\n",
       "      <td>False</td>\n",
       "    </tr>\n",
       "    <tr>\n",
       "      <th>...</th>\n",
       "      <td>...</td>\n",
       "      <td>...</td>\n",
       "      <td>...</td>\n",
       "      <td>...</td>\n",
       "      <td>...</td>\n",
       "      <td>...</td>\n",
       "      <td>...</td>\n",
       "      <td>...</td>\n",
       "      <td>...</td>\n",
       "      <td>...</td>\n",
       "      <td>...</td>\n",
       "      <td>...</td>\n",
       "      <td>...</td>\n",
       "      <td>...</td>\n",
       "      <td>...</td>\n",
       "      <td>...</td>\n",
       "      <td>...</td>\n",
       "      <td>...</td>\n",
       "      <td>...</td>\n",
       "      <td>...</td>\n",
       "      <td>...</td>\n",
       "    </tr>\n",
       "    <tr>\n",
       "      <th>574940</th>\n",
       "      <td>SEQ_065531_000048</td>\n",
       "      <td>Non-Target</td>\n",
       "      <td>SEQ_065531</td>\n",
       "      <td>48</td>\n",
       "      <td>SUBJ_039498</td>\n",
       "      <td>Seated Lean Non Dom - FACE DOWN</td>\n",
       "      <td>Performs gesture</td>\n",
       "      <td>Gesture</td>\n",
       "      <td>Write name on leg</td>\n",
       "      <td>3.503906</td>\n",
       "      <td>...</td>\n",
       "      <td>False</td>\n",
       "      <td>False</td>\n",
       "      <td>False</td>\n",
       "      <td>False</td>\n",
       "      <td>True</td>\n",
       "      <td>False</td>\n",
       "      <td>False</td>\n",
       "      <td>False</td>\n",
       "      <td>False</td>\n",
       "      <td>False</td>\n",
       "    </tr>\n",
       "    <tr>\n",
       "      <th>574941</th>\n",
       "      <td>SEQ_065531_000049</td>\n",
       "      <td>Non-Target</td>\n",
       "      <td>SEQ_065531</td>\n",
       "      <td>49</td>\n",
       "      <td>SUBJ_039498</td>\n",
       "      <td>Seated Lean Non Dom - FACE DOWN</td>\n",
       "      <td>Performs gesture</td>\n",
       "      <td>Gesture</td>\n",
       "      <td>Write name on leg</td>\n",
       "      <td>3.773438</td>\n",
       "      <td>...</td>\n",
       "      <td>False</td>\n",
       "      <td>False</td>\n",
       "      <td>False</td>\n",
       "      <td>False</td>\n",
       "      <td>True</td>\n",
       "      <td>False</td>\n",
       "      <td>False</td>\n",
       "      <td>False</td>\n",
       "      <td>False</td>\n",
       "      <td>False</td>\n",
       "    </tr>\n",
       "    <tr>\n",
       "      <th>574942</th>\n",
       "      <td>SEQ_065531_000050</td>\n",
       "      <td>Non-Target</td>\n",
       "      <td>SEQ_065531</td>\n",
       "      <td>50</td>\n",
       "      <td>SUBJ_039498</td>\n",
       "      <td>Seated Lean Non Dom - FACE DOWN</td>\n",
       "      <td>Performs gesture</td>\n",
       "      <td>Gesture</td>\n",
       "      <td>Write name on leg</td>\n",
       "      <td>3.082031</td>\n",
       "      <td>...</td>\n",
       "      <td>False</td>\n",
       "      <td>False</td>\n",
       "      <td>False</td>\n",
       "      <td>False</td>\n",
       "      <td>True</td>\n",
       "      <td>False</td>\n",
       "      <td>False</td>\n",
       "      <td>False</td>\n",
       "      <td>False</td>\n",
       "      <td>False</td>\n",
       "    </tr>\n",
       "    <tr>\n",
       "      <th>574943</th>\n",
       "      <td>SEQ_065531_000051</td>\n",
       "      <td>Non-Target</td>\n",
       "      <td>SEQ_065531</td>\n",
       "      <td>51</td>\n",
       "      <td>SUBJ_039498</td>\n",
       "      <td>Seated Lean Non Dom - FACE DOWN</td>\n",
       "      <td>Performs gesture</td>\n",
       "      <td>Gesture</td>\n",
       "      <td>Write name on leg</td>\n",
       "      <td>3.964844</td>\n",
       "      <td>...</td>\n",
       "      <td>False</td>\n",
       "      <td>False</td>\n",
       "      <td>False</td>\n",
       "      <td>False</td>\n",
       "      <td>True</td>\n",
       "      <td>False</td>\n",
       "      <td>False</td>\n",
       "      <td>False</td>\n",
       "      <td>False</td>\n",
       "      <td>False</td>\n",
       "    </tr>\n",
       "    <tr>\n",
       "      <th>574944</th>\n",
       "      <td>SEQ_065531_000052</td>\n",
       "      <td>Non-Target</td>\n",
       "      <td>SEQ_065531</td>\n",
       "      <td>52</td>\n",
       "      <td>SUBJ_039498</td>\n",
       "      <td>Seated Lean Non Dom - FACE DOWN</td>\n",
       "      <td>Performs gesture</td>\n",
       "      <td>Gesture</td>\n",
       "      <td>Write name on leg</td>\n",
       "      <td>4.269531</td>\n",
       "      <td>...</td>\n",
       "      <td>False</td>\n",
       "      <td>False</td>\n",
       "      <td>False</td>\n",
       "      <td>False</td>\n",
       "      <td>True</td>\n",
       "      <td>False</td>\n",
       "      <td>False</td>\n",
       "      <td>False</td>\n",
       "      <td>False</td>\n",
       "      <td>False</td>\n",
       "    </tr>\n",
       "  </tbody>\n",
       "</table>\n",
       "<p>574945 rows × 359 columns</p>\n",
       "</div>"
      ],
      "text/plain": [
       "                   row_id sequence_type sequence_id  sequence_counter  \\\n",
       "0       SEQ_000007_000000        Target  SEQ_000007                 0   \n",
       "1       SEQ_000007_000001        Target  SEQ_000007                 1   \n",
       "2       SEQ_000007_000002        Target  SEQ_000007                 2   \n",
       "3       SEQ_000007_000003        Target  SEQ_000007                 3   \n",
       "4       SEQ_000007_000004        Target  SEQ_000007                 4   \n",
       "...                   ...           ...         ...               ...   \n",
       "574940  SEQ_065531_000048    Non-Target  SEQ_065531                48   \n",
       "574941  SEQ_065531_000049    Non-Target  SEQ_065531                49   \n",
       "574942  SEQ_065531_000050    Non-Target  SEQ_065531                50   \n",
       "574943  SEQ_065531_000051    Non-Target  SEQ_065531                51   \n",
       "574944  SEQ_065531_000052    Non-Target  SEQ_065531                52   \n",
       "\n",
       "            subject                      orientation  \\\n",
       "0       SUBJ_059520  Seated Lean Non Dom - FACE DOWN   \n",
       "1       SUBJ_059520  Seated Lean Non Dom - FACE DOWN   \n",
       "2       SUBJ_059520  Seated Lean Non Dom - FACE DOWN   \n",
       "3       SUBJ_059520  Seated Lean Non Dom - FACE DOWN   \n",
       "4       SUBJ_059520  Seated Lean Non Dom - FACE DOWN   \n",
       "...             ...                              ...   \n",
       "574940  SUBJ_039498  Seated Lean Non Dom - FACE DOWN   \n",
       "574941  SUBJ_039498  Seated Lean Non Dom - FACE DOWN   \n",
       "574942  SUBJ_039498  Seated Lean Non Dom - FACE DOWN   \n",
       "574943  SUBJ_039498  Seated Lean Non Dom - FACE DOWN   \n",
       "574944  SUBJ_039498  Seated Lean Non Dom - FACE DOWN   \n",
       "\n",
       "                                         behavior       phase  \\\n",
       "0       Relaxes and moves hand to target location  Transition   \n",
       "1       Relaxes and moves hand to target location  Transition   \n",
       "2       Relaxes and moves hand to target location  Transition   \n",
       "3       Relaxes and moves hand to target location  Transition   \n",
       "4       Relaxes and moves hand to target location  Transition   \n",
       "...                                           ...         ...   \n",
       "574940                           Performs gesture     Gesture   \n",
       "574941                           Performs gesture     Gesture   \n",
       "574942                           Performs gesture     Gesture   \n",
       "574943                           Performs gesture     Gesture   \n",
       "574944                           Performs gesture     Gesture   \n",
       "\n",
       "                   gesture     acc_x  ...  Neck - scratch  Text on phone  \\\n",
       "0       Cheek - pinch skin  6.683594  ...           False          False   \n",
       "1       Cheek - pinch skin  6.949219  ...           False          False   \n",
       "2       Cheek - pinch skin  5.722656  ...           False          False   \n",
       "3       Cheek - pinch skin  6.601562  ...           False          False   \n",
       "4       Cheek - pinch skin  5.566406  ...           False          False   \n",
       "...                    ...       ...  ...             ...            ...   \n",
       "574940   Write name on leg  3.503906  ...           False          False   \n",
       "574941   Write name on leg  3.773438  ...           False          False   \n",
       "574942   Write name on leg  3.082031  ...           False          False   \n",
       "574943   Write name on leg  3.964844  ...           False          False   \n",
       "574944   Write name on leg  4.269531  ...           False          False   \n",
       "\n",
       "        Wave hello  Write name in air  Write name on leg  \\\n",
       "0            False              False              False   \n",
       "1            False              False              False   \n",
       "2            False              False              False   \n",
       "3            False              False              False   \n",
       "4            False              False              False   \n",
       "...            ...                ...                ...   \n",
       "574940       False              False               True   \n",
       "574941       False              False               True   \n",
       "574942       False              False               True   \n",
       "574943       False              False               True   \n",
       "574944       False              False               True   \n",
       "\n",
       "        Drink from bottle/cup  Pinch knee/leg skin  Pull air toward your face  \\\n",
       "0                       False                False                      False   \n",
       "1                       False                False                      False   \n",
       "2                       False                False                      False   \n",
       "3                       False                False                      False   \n",
       "4                       False                False                      False   \n",
       "...                       ...                  ...                        ...   \n",
       "574940                  False                False                      False   \n",
       "574941                  False                False                      False   \n",
       "574942                  False                False                      False   \n",
       "574943                  False                False                      False   \n",
       "574944                  False                False                      False   \n",
       "\n",
       "        Scratch knee/leg skin  Glasses on/off  \n",
       "0                       False           False  \n",
       "1                       False           False  \n",
       "2                       False           False  \n",
       "3                       False           False  \n",
       "4                       False           False  \n",
       "...                       ...             ...  \n",
       "574940                  False           False  \n",
       "574941                  False           False  \n",
       "574942                  False           False  \n",
       "574943                  False           False  \n",
       "574944                  False           False  \n",
       "\n",
       "[574945 rows x 359 columns]"
      ]
     },
     "execution_count": 4,
     "metadata": {},
     "output_type": "execute_result"
    }
   ],
   "source": [
    "one_hot_target = pd.get_dummies(df[\"gesture\"])\n",
    "df[one_hot_target.columns] = one_hot_target\n",
    "df"
   ]
  },
  {
   "cell_type": "markdown",
   "id": "8812dc08",
   "metadata": {},
   "source": [
    "### ToF data aggregation.\n",
    "Time of Flight columns take most of the data, let's reduce their size by aggregating by mean for each Time of Flight sensor."
   ]
  },
  {
   "cell_type": "code",
   "execution_count": 5,
   "id": "2b4f83f2",
   "metadata": {},
   "outputs": [
    {
     "data": {
      "text/html": [
       "<div>\n",
       "<style scoped>\n",
       "    .dataframe tbody tr th:only-of-type {\n",
       "        vertical-align: middle;\n",
       "    }\n",
       "\n",
       "    .dataframe tbody tr th {\n",
       "        vertical-align: top;\n",
       "    }\n",
       "\n",
       "    .dataframe thead th {\n",
       "        text-align: right;\n",
       "    }\n",
       "</style>\n",
       "<table border=\"1\" class=\"dataframe\">\n",
       "  <thead>\n",
       "    <tr style=\"text-align: right;\">\n",
       "      <th></th>\n",
       "      <th>row_id</th>\n",
       "      <th>sequence_type</th>\n",
       "      <th>sequence_id</th>\n",
       "      <th>sequence_counter</th>\n",
       "      <th>subject</th>\n",
       "      <th>orientation</th>\n",
       "      <th>behavior</th>\n",
       "      <th>phase</th>\n",
       "      <th>gesture</th>\n",
       "      <th>acc_x</th>\n",
       "      <th>...</th>\n",
       "      <th>Drink from bottle/cup</th>\n",
       "      <th>Pinch knee/leg skin</th>\n",
       "      <th>Pull air toward your face</th>\n",
       "      <th>Scratch knee/leg skin</th>\n",
       "      <th>Glasses on/off</th>\n",
       "      <th>tof_1</th>\n",
       "      <th>tof_2</th>\n",
       "      <th>tof_3</th>\n",
       "      <th>tof_4</th>\n",
       "      <th>tof_5</th>\n",
       "    </tr>\n",
       "  </thead>\n",
       "  <tbody>\n",
       "    <tr>\n",
       "      <th>0</th>\n",
       "      <td>SEQ_000007_000000</td>\n",
       "      <td>Target</td>\n",
       "      <td>SEQ_000007</td>\n",
       "      <td>0</td>\n",
       "      <td>SUBJ_059520</td>\n",
       "      <td>Seated Lean Non Dom - FACE DOWN</td>\n",
       "      <td>Relaxes and moves hand to target location</td>\n",
       "      <td>Transition</td>\n",
       "      <td>Cheek - pinch skin</td>\n",
       "      <td>6.683594</td>\n",
       "      <td>...</td>\n",
       "      <td>False</td>\n",
       "      <td>False</td>\n",
       "      <td>False</td>\n",
       "      <td>False</td>\n",
       "      <td>False</td>\n",
       "      <td>139.250000</td>\n",
       "      <td>117.109375</td>\n",
       "      <td>91.687500</td>\n",
       "      <td>123.359375</td>\n",
       "      <td>135.343750</td>\n",
       "    </tr>\n",
       "    <tr>\n",
       "      <th>1</th>\n",
       "      <td>SEQ_000007_000001</td>\n",
       "      <td>Target</td>\n",
       "      <td>SEQ_000007</td>\n",
       "      <td>1</td>\n",
       "      <td>SUBJ_059520</td>\n",
       "      <td>Seated Lean Non Dom - FACE DOWN</td>\n",
       "      <td>Relaxes and moves hand to target location</td>\n",
       "      <td>Transition</td>\n",
       "      <td>Cheek - pinch skin</td>\n",
       "      <td>6.949219</td>\n",
       "      <td>...</td>\n",
       "      <td>False</td>\n",
       "      <td>False</td>\n",
       "      <td>False</td>\n",
       "      <td>False</td>\n",
       "      <td>False</td>\n",
       "      <td>139.796875</td>\n",
       "      <td>119.671875</td>\n",
       "      <td>97.921875</td>\n",
       "      <td>124.406250</td>\n",
       "      <td>137.000000</td>\n",
       "    </tr>\n",
       "    <tr>\n",
       "      <th>2</th>\n",
       "      <td>SEQ_000007_000002</td>\n",
       "      <td>Target</td>\n",
       "      <td>SEQ_000007</td>\n",
       "      <td>2</td>\n",
       "      <td>SUBJ_059520</td>\n",
       "      <td>Seated Lean Non Dom - FACE DOWN</td>\n",
       "      <td>Relaxes and moves hand to target location</td>\n",
       "      <td>Transition</td>\n",
       "      <td>Cheek - pinch skin</td>\n",
       "      <td>5.722656</td>\n",
       "      <td>...</td>\n",
       "      <td>False</td>\n",
       "      <td>False</td>\n",
       "      <td>False</td>\n",
       "      <td>False</td>\n",
       "      <td>False</td>\n",
       "      <td>142.375000</td>\n",
       "      <td>128.359375</td>\n",
       "      <td>116.953125</td>\n",
       "      <td>125.687500</td>\n",
       "      <td>140.234375</td>\n",
       "    </tr>\n",
       "    <tr>\n",
       "      <th>3</th>\n",
       "      <td>SEQ_000007_000003</td>\n",
       "      <td>Target</td>\n",
       "      <td>SEQ_000007</td>\n",
       "      <td>3</td>\n",
       "      <td>SUBJ_059520</td>\n",
       "      <td>Seated Lean Non Dom - FACE DOWN</td>\n",
       "      <td>Relaxes and moves hand to target location</td>\n",
       "      <td>Transition</td>\n",
       "      <td>Cheek - pinch skin</td>\n",
       "      <td>6.601562</td>\n",
       "      <td>...</td>\n",
       "      <td>False</td>\n",
       "      <td>False</td>\n",
       "      <td>False</td>\n",
       "      <td>False</td>\n",
       "      <td>False</td>\n",
       "      <td>154.109375</td>\n",
       "      <td>142.093750</td>\n",
       "      <td>144.515625</td>\n",
       "      <td>149.078125</td>\n",
       "      <td>142.609375</td>\n",
       "    </tr>\n",
       "    <tr>\n",
       "      <th>4</th>\n",
       "      <td>SEQ_000007_000004</td>\n",
       "      <td>Target</td>\n",
       "      <td>SEQ_000007</td>\n",
       "      <td>4</td>\n",
       "      <td>SUBJ_059520</td>\n",
       "      <td>Seated Lean Non Dom - FACE DOWN</td>\n",
       "      <td>Relaxes and moves hand to target location</td>\n",
       "      <td>Transition</td>\n",
       "      <td>Cheek - pinch skin</td>\n",
       "      <td>5.566406</td>\n",
       "      <td>...</td>\n",
       "      <td>False</td>\n",
       "      <td>False</td>\n",
       "      <td>False</td>\n",
       "      <td>False</td>\n",
       "      <td>False</td>\n",
       "      <td>177.953125</td>\n",
       "      <td>149.453125</td>\n",
       "      <td>161.828125</td>\n",
       "      <td>163.765625</td>\n",
       "      <td>151.265625</td>\n",
       "    </tr>\n",
       "    <tr>\n",
       "      <th>...</th>\n",
       "      <td>...</td>\n",
       "      <td>...</td>\n",
       "      <td>...</td>\n",
       "      <td>...</td>\n",
       "      <td>...</td>\n",
       "      <td>...</td>\n",
       "      <td>...</td>\n",
       "      <td>...</td>\n",
       "      <td>...</td>\n",
       "      <td>...</td>\n",
       "      <td>...</td>\n",
       "      <td>...</td>\n",
       "      <td>...</td>\n",
       "      <td>...</td>\n",
       "      <td>...</td>\n",
       "      <td>...</td>\n",
       "      <td>...</td>\n",
       "      <td>...</td>\n",
       "      <td>...</td>\n",
       "      <td>...</td>\n",
       "      <td>...</td>\n",
       "    </tr>\n",
       "    <tr>\n",
       "      <th>574940</th>\n",
       "      <td>SEQ_065531_000048</td>\n",
       "      <td>Non-Target</td>\n",
       "      <td>SEQ_065531</td>\n",
       "      <td>48</td>\n",
       "      <td>SUBJ_039498</td>\n",
       "      <td>Seated Lean Non Dom - FACE DOWN</td>\n",
       "      <td>Performs gesture</td>\n",
       "      <td>Gesture</td>\n",
       "      <td>Write name on leg</td>\n",
       "      <td>3.503906</td>\n",
       "      <td>...</td>\n",
       "      <td>False</td>\n",
       "      <td>False</td>\n",
       "      <td>False</td>\n",
       "      <td>False</td>\n",
       "      <td>False</td>\n",
       "      <td>68.562500</td>\n",
       "      <td>67.750000</td>\n",
       "      <td>144.437500</td>\n",
       "      <td>74.062500</td>\n",
       "      <td>52.843750</td>\n",
       "    </tr>\n",
       "    <tr>\n",
       "      <th>574941</th>\n",
       "      <td>SEQ_065531_000049</td>\n",
       "      <td>Non-Target</td>\n",
       "      <td>SEQ_065531</td>\n",
       "      <td>49</td>\n",
       "      <td>SUBJ_039498</td>\n",
       "      <td>Seated Lean Non Dom - FACE DOWN</td>\n",
       "      <td>Performs gesture</td>\n",
       "      <td>Gesture</td>\n",
       "      <td>Write name on leg</td>\n",
       "      <td>3.773438</td>\n",
       "      <td>...</td>\n",
       "      <td>False</td>\n",
       "      <td>False</td>\n",
       "      <td>False</td>\n",
       "      <td>False</td>\n",
       "      <td>False</td>\n",
       "      <td>70.234375</td>\n",
       "      <td>66.656250</td>\n",
       "      <td>144.000000</td>\n",
       "      <td>70.406250</td>\n",
       "      <td>54.531250</td>\n",
       "    </tr>\n",
       "    <tr>\n",
       "      <th>574942</th>\n",
       "      <td>SEQ_065531_000050</td>\n",
       "      <td>Non-Target</td>\n",
       "      <td>SEQ_065531</td>\n",
       "      <td>50</td>\n",
       "      <td>SUBJ_039498</td>\n",
       "      <td>Seated Lean Non Dom - FACE DOWN</td>\n",
       "      <td>Performs gesture</td>\n",
       "      <td>Gesture</td>\n",
       "      <td>Write name on leg</td>\n",
       "      <td>3.082031</td>\n",
       "      <td>...</td>\n",
       "      <td>False</td>\n",
       "      <td>False</td>\n",
       "      <td>False</td>\n",
       "      <td>False</td>\n",
       "      <td>False</td>\n",
       "      <td>66.671875</td>\n",
       "      <td>62.906250</td>\n",
       "      <td>136.906250</td>\n",
       "      <td>70.109375</td>\n",
       "      <td>57.468750</td>\n",
       "    </tr>\n",
       "    <tr>\n",
       "      <th>574943</th>\n",
       "      <td>SEQ_065531_000051</td>\n",
       "      <td>Non-Target</td>\n",
       "      <td>SEQ_065531</td>\n",
       "      <td>51</td>\n",
       "      <td>SUBJ_039498</td>\n",
       "      <td>Seated Lean Non Dom - FACE DOWN</td>\n",
       "      <td>Performs gesture</td>\n",
       "      <td>Gesture</td>\n",
       "      <td>Write name on leg</td>\n",
       "      <td>3.964844</td>\n",
       "      <td>...</td>\n",
       "      <td>False</td>\n",
       "      <td>False</td>\n",
       "      <td>False</td>\n",
       "      <td>False</td>\n",
       "      <td>False</td>\n",
       "      <td>67.218750</td>\n",
       "      <td>64.500000</td>\n",
       "      <td>140.531250</td>\n",
       "      <td>75.609375</td>\n",
       "      <td>54.937500</td>\n",
       "    </tr>\n",
       "    <tr>\n",
       "      <th>574944</th>\n",
       "      <td>SEQ_065531_000052</td>\n",
       "      <td>Non-Target</td>\n",
       "      <td>SEQ_065531</td>\n",
       "      <td>52</td>\n",
       "      <td>SUBJ_039498</td>\n",
       "      <td>Seated Lean Non Dom - FACE DOWN</td>\n",
       "      <td>Performs gesture</td>\n",
       "      <td>Gesture</td>\n",
       "      <td>Write name on leg</td>\n",
       "      <td>4.269531</td>\n",
       "      <td>...</td>\n",
       "      <td>False</td>\n",
       "      <td>False</td>\n",
       "      <td>False</td>\n",
       "      <td>False</td>\n",
       "      <td>False</td>\n",
       "      <td>68.937500</td>\n",
       "      <td>65.156250</td>\n",
       "      <td>143.906250</td>\n",
       "      <td>75.890625</td>\n",
       "      <td>55.281250</td>\n",
       "    </tr>\n",
       "  </tbody>\n",
       "</table>\n",
       "<p>574945 rows × 44 columns</p>\n",
       "</div>"
      ],
      "text/plain": [
       "                   row_id sequence_type sequence_id  sequence_counter  \\\n",
       "0       SEQ_000007_000000        Target  SEQ_000007                 0   \n",
       "1       SEQ_000007_000001        Target  SEQ_000007                 1   \n",
       "2       SEQ_000007_000002        Target  SEQ_000007                 2   \n",
       "3       SEQ_000007_000003        Target  SEQ_000007                 3   \n",
       "4       SEQ_000007_000004        Target  SEQ_000007                 4   \n",
       "...                   ...           ...         ...               ...   \n",
       "574940  SEQ_065531_000048    Non-Target  SEQ_065531                48   \n",
       "574941  SEQ_065531_000049    Non-Target  SEQ_065531                49   \n",
       "574942  SEQ_065531_000050    Non-Target  SEQ_065531                50   \n",
       "574943  SEQ_065531_000051    Non-Target  SEQ_065531                51   \n",
       "574944  SEQ_065531_000052    Non-Target  SEQ_065531                52   \n",
       "\n",
       "            subject                      orientation  \\\n",
       "0       SUBJ_059520  Seated Lean Non Dom - FACE DOWN   \n",
       "1       SUBJ_059520  Seated Lean Non Dom - FACE DOWN   \n",
       "2       SUBJ_059520  Seated Lean Non Dom - FACE DOWN   \n",
       "3       SUBJ_059520  Seated Lean Non Dom - FACE DOWN   \n",
       "4       SUBJ_059520  Seated Lean Non Dom - FACE DOWN   \n",
       "...             ...                              ...   \n",
       "574940  SUBJ_039498  Seated Lean Non Dom - FACE DOWN   \n",
       "574941  SUBJ_039498  Seated Lean Non Dom - FACE DOWN   \n",
       "574942  SUBJ_039498  Seated Lean Non Dom - FACE DOWN   \n",
       "574943  SUBJ_039498  Seated Lean Non Dom - FACE DOWN   \n",
       "574944  SUBJ_039498  Seated Lean Non Dom - FACE DOWN   \n",
       "\n",
       "                                         behavior       phase  \\\n",
       "0       Relaxes and moves hand to target location  Transition   \n",
       "1       Relaxes and moves hand to target location  Transition   \n",
       "2       Relaxes and moves hand to target location  Transition   \n",
       "3       Relaxes and moves hand to target location  Transition   \n",
       "4       Relaxes and moves hand to target location  Transition   \n",
       "...                                           ...         ...   \n",
       "574940                           Performs gesture     Gesture   \n",
       "574941                           Performs gesture     Gesture   \n",
       "574942                           Performs gesture     Gesture   \n",
       "574943                           Performs gesture     Gesture   \n",
       "574944                           Performs gesture     Gesture   \n",
       "\n",
       "                   gesture     acc_x  ...  Drink from bottle/cup  \\\n",
       "0       Cheek - pinch skin  6.683594  ...                  False   \n",
       "1       Cheek - pinch skin  6.949219  ...                  False   \n",
       "2       Cheek - pinch skin  5.722656  ...                  False   \n",
       "3       Cheek - pinch skin  6.601562  ...                  False   \n",
       "4       Cheek - pinch skin  5.566406  ...                  False   \n",
       "...                    ...       ...  ...                    ...   \n",
       "574940   Write name on leg  3.503906  ...                  False   \n",
       "574941   Write name on leg  3.773438  ...                  False   \n",
       "574942   Write name on leg  3.082031  ...                  False   \n",
       "574943   Write name on leg  3.964844  ...                  False   \n",
       "574944   Write name on leg  4.269531  ...                  False   \n",
       "\n",
       "        Pinch knee/leg skin  Pull air toward your face  Scratch knee/leg skin  \\\n",
       "0                     False                      False                  False   \n",
       "1                     False                      False                  False   \n",
       "2                     False                      False                  False   \n",
       "3                     False                      False                  False   \n",
       "4                     False                      False                  False   \n",
       "...                     ...                        ...                    ...   \n",
       "574940                False                      False                  False   \n",
       "574941                False                      False                  False   \n",
       "574942                False                      False                  False   \n",
       "574943                False                      False                  False   \n",
       "574944                False                      False                  False   \n",
       "\n",
       "        Glasses on/off       tof_1       tof_2       tof_3       tof_4  \\\n",
       "0                False  139.250000  117.109375   91.687500  123.359375   \n",
       "1                False  139.796875  119.671875   97.921875  124.406250   \n",
       "2                False  142.375000  128.359375  116.953125  125.687500   \n",
       "3                False  154.109375  142.093750  144.515625  149.078125   \n",
       "4                False  177.953125  149.453125  161.828125  163.765625   \n",
       "...                ...         ...         ...         ...         ...   \n",
       "574940           False   68.562500   67.750000  144.437500   74.062500   \n",
       "574941           False   70.234375   66.656250  144.000000   70.406250   \n",
       "574942           False   66.671875   62.906250  136.906250   70.109375   \n",
       "574943           False   67.218750   64.500000  140.531250   75.609375   \n",
       "574944           False   68.937500   65.156250  143.906250   75.890625   \n",
       "\n",
       "             tof_5  \n",
       "0       135.343750  \n",
       "1       137.000000  \n",
       "2       140.234375  \n",
       "3       142.609375  \n",
       "4       151.265625  \n",
       "...            ...  \n",
       "574940   52.843750  \n",
       "574941   54.531250  \n",
       "574942   57.468750  \n",
       "574943   54.937500  \n",
       "574944   55.281250  \n",
       "\n",
       "[574945 rows x 44 columns]"
      ]
     },
     "execution_count": 5,
     "metadata": {},
     "output_type": "execute_result"
    }
   ],
   "source": [
    "def agg_tof_cols_per_sensor(df:DF) -> DF:\n",
    "    for tof_idx in range(1, 6):\n",
    "        tof_name = f\"tof_{tof_idx}\"\n",
    "        tof_cols = [f\"{tof_name}_v{v_idx}\" for v_idx in range(64)]\n",
    "        if any(map(lambda col: col not in df.columns, tof_cols)):\n",
    "            print(f\"Some (or) all ToF {tof_idx} columns are not in the df. Maybe you already ran this cell?\")\n",
    "            continue\n",
    "        df = (\n",
    "            df\n",
    "            # Need to use a dict otherwise the name of the col will be \"tof_preffix\" instead of the value it contains\n",
    "            .assign(**{tof_name:df[tof_cols].mean(axis=\"columns\")})\n",
    "            .drop(columns=tof_cols)\n",
    "        )\n",
    "    return df\n",
    "\n",
    "df = agg_tof_cols_per_sensor(df)\n",
    "# Redifine feature_cols now that there are less of them.\n",
    "feature_cols = list(set(df.columns) - set(META_DATA_COLUMNS) - set(df[\"gesture\"].unique().tolist()))\n",
    "\n",
    "df"
   ]
  },
  {
   "cell_type": "markdown",
   "id": "05e480d3",
   "metadata": {},
   "source": [
    "### Split into folds"
   ]
  },
  {
   "cell_type": "code",
   "execution_count": 6,
   "id": "4bae51e8",
   "metadata": {},
   "outputs": [],
   "source": [
    "N_FOLDS = 5\n",
    "VALIDATION_FRACTION = 0.2\n",
    "def split_dataset(df:DF) -> tuple[DF, DF]:\n",
    "    unique_sequences = df[\"sequence_id\"].unique()\n",
    "    validation_sequences = pd.Series(unique_sequences).sample(\n",
    "        frac=VALIDATION_FRACTION, replace=False\n",
    "    )\n",
    "\n",
    "    validation_set = df[df[\"sequence_id\"].isin(validation_sequences)]\n",
    "    train_set = df[~df[\"sequence_id\"].isin(validation_sequences)]\n",
    "\n",
    "    return train_set, validation_set\n",
    "\n",
    "folds = list(map(split_dataset, repeat(df, N_FOLDS)))"
   ]
  },
  {
   "cell_type": "code",
   "execution_count": 7,
   "id": "5f040eb8",
   "metadata": {},
   "outputs": [
    {
     "data": {
      "text/plain": [
       "(574945, 44)"
      ]
     },
     "metadata": {},
     "output_type": "display_data"
    },
    {
     "data": {
      "text/plain": [
       "(460213, 44)"
      ]
     },
     "metadata": {},
     "output_type": "display_data"
    },
    {
     "data": {
      "text/plain": [
       "(114732, 44)"
      ]
     },
     "metadata": {},
     "output_type": "display_data"
    }
   ],
   "source": [
    "display(df.shape)\n",
    "display(folds[0][0].shape)\n",
    "display(folds[0][1].shape)"
   ]
  },
  {
   "cell_type": "code",
   "execution_count": 8,
   "id": "edb72a67",
   "metadata": {},
   "outputs": [
    {
     "name": "stdout",
     "output_type": "stream",
     "text": [
      "(460213, 44) (114732, 44)\n",
      "(460785, 44) (114160, 44)\n",
      "(458476, 44) (116469, 44)\n",
      "(460460, 44) (114485, 44)\n",
      "(459761, 44) (115184, 44)\n"
     ]
    }
   ],
   "source": [
    "for train_df, validation_df in folds:\n",
    "    print(train_df.shape, validation_df.shape)"
   ]
  },
  {
   "cell_type": "markdown",
   "id": "d81b9c0d",
   "metadata": {},
   "source": [
    "### Std norm\n",
    "Standard scale the feature cols (should probably do something different for IMU cols).  \n",
    "<!-- *Deprecated, std norm is now performed at dataset creation to avoid target leakage.*   -->"
   ]
  },
  {
   "cell_type": "code",
   "execution_count": 9,
   "id": "c9d5755e",
   "metadata": {},
   "outputs": [],
   "source": [
    "from itertools import starmap\n",
    "\n",
    "def std_norm_dataset(train:DF, val:DF) -> tuple[DF, DF]:\n",
    "    means = train[feature_cols].mean()\n",
    "    std = train[feature_cols].std()\n",
    "    train.loc[:, feature_cols] = (train[feature_cols] - means) / std\n",
    "    val.loc[:, feature_cols] = (val[feature_cols] - means) / std\n",
    "    return train, val\n",
    "\n",
    "normed_folds = list(starmap(std_norm_dataset, folds))"
   ]
  },
  {
   "cell_type": "markdown",
   "id": "f840652f",
   "metadata": {},
   "source": [
    "Let's compare the train to validation mean/std skews."
   ]
  },
  {
   "cell_type": "code",
   "execution_count": 10,
   "id": "9ce0ae47",
   "metadata": {},
   "outputs": [
    {
     "data": {
      "text/html": [
       "<div>\n",
       "<style scoped>\n",
       "    .dataframe tbody tr th:only-of-type {\n",
       "        vertical-align: middle;\n",
       "    }\n",
       "\n",
       "    .dataframe tbody tr th {\n",
       "        vertical-align: top;\n",
       "    }\n",
       "\n",
       "    .dataframe thead th {\n",
       "        text-align: right;\n",
       "    }\n",
       "</style>\n",
       "<table border=\"1\" class=\"dataframe\">\n",
       "  <thead>\n",
       "    <tr style=\"text-align: right;\">\n",
       "      <th></th>\n",
       "      <th></th>\n",
       "      <th>rot_y</th>\n",
       "      <th>acc_x</th>\n",
       "      <th>thm_2</th>\n",
       "      <th>rot_w</th>\n",
       "      <th>rot_x</th>\n",
       "      <th>thm_1</th>\n",
       "      <th>thm_5</th>\n",
       "      <th>acc_y</th>\n",
       "      <th>tof_3</th>\n",
       "      <th>tof_4</th>\n",
       "      <th>tof_2</th>\n",
       "      <th>rot_z</th>\n",
       "      <th>acc_z</th>\n",
       "      <th>tof_1</th>\n",
       "      <th>thm_4</th>\n",
       "      <th>tof_5</th>\n",
       "      <th>thm_3</th>\n",
       "    </tr>\n",
       "  </thead>\n",
       "  <tbody>\n",
       "    <tr>\n",
       "      <th rowspan=\"2\" valign=\"top\">train</th>\n",
       "      <th>mean</th>\n",
       "      <td>-0.048616</td>\n",
       "      <td>0.034737</td>\n",
       "      <td>-0.012134</td>\n",
       "      <td>0.031899</td>\n",
       "      <td>-0.033015</td>\n",
       "      <td>0.000965</td>\n",
       "      <td>0.004610</td>\n",
       "      <td>-0.019937</td>\n",
       "      <td>-0.013850</td>\n",
       "      <td>-0.042127</td>\n",
       "      <td>-0.016541</td>\n",
       "      <td>-0.003062</td>\n",
       "      <td>0.009306</td>\n",
       "      <td>-0.030251</td>\n",
       "      <td>-0.002652</td>\n",
       "      <td>-0.018148</td>\n",
       "      <td>0.024265</td>\n",
       "    </tr>\n",
       "    <tr>\n",
       "      <th>std</th>\n",
       "      <td>0.977685</td>\n",
       "      <td>1.010345</td>\n",
       "      <td>1.049974</td>\n",
       "      <td>0.997445</td>\n",
       "      <td>1.006909</td>\n",
       "      <td>1.016639</td>\n",
       "      <td>1.022446</td>\n",
       "      <td>1.003688</td>\n",
       "      <td>1.003523</td>\n",
       "      <td>1.000151</td>\n",
       "      <td>0.998810</td>\n",
       "      <td>0.995238</td>\n",
       "      <td>0.979159</td>\n",
       "      <td>1.007340</td>\n",
       "      <td>1.098138</td>\n",
       "      <td>0.995038</td>\n",
       "      <td>0.951666</td>\n",
       "    </tr>\n",
       "    <tr>\n",
       "      <th rowspan=\"2\" valign=\"top\">validation</th>\n",
       "      <th>mean</th>\n",
       "      <td>-0.048616</td>\n",
       "      <td>0.034737</td>\n",
       "      <td>-0.012134</td>\n",
       "      <td>0.031899</td>\n",
       "      <td>-0.033015</td>\n",
       "      <td>0.000965</td>\n",
       "      <td>0.004610</td>\n",
       "      <td>-0.019937</td>\n",
       "      <td>-0.013850</td>\n",
       "      <td>-0.042127</td>\n",
       "      <td>-0.016541</td>\n",
       "      <td>-0.003062</td>\n",
       "      <td>0.009306</td>\n",
       "      <td>-0.030251</td>\n",
       "      <td>-0.002652</td>\n",
       "      <td>-0.018148</td>\n",
       "      <td>0.024265</td>\n",
       "    </tr>\n",
       "    <tr>\n",
       "      <th>std</th>\n",
       "      <td>0.977685</td>\n",
       "      <td>1.010345</td>\n",
       "      <td>1.049974</td>\n",
       "      <td>0.997445</td>\n",
       "      <td>1.006909</td>\n",
       "      <td>1.016639</td>\n",
       "      <td>1.022446</td>\n",
       "      <td>1.003688</td>\n",
       "      <td>1.003523</td>\n",
       "      <td>1.000151</td>\n",
       "      <td>0.998810</td>\n",
       "      <td>0.995238</td>\n",
       "      <td>0.979159</td>\n",
       "      <td>1.007340</td>\n",
       "      <td>1.098138</td>\n",
       "      <td>0.995038</td>\n",
       "      <td>0.951666</td>\n",
       "    </tr>\n",
       "  </tbody>\n",
       "</table>\n",
       "</div>"
      ],
      "text/plain": [
       "                    rot_y     acc_x     thm_2     rot_w     rot_x     thm_1  \\\n",
       "train      mean -0.048616  0.034737 -0.012134  0.031899 -0.033015  0.000965   \n",
       "           std   0.977685  1.010345  1.049974  0.997445  1.006909  1.016639   \n",
       "validation mean -0.048616  0.034737 -0.012134  0.031899 -0.033015  0.000965   \n",
       "           std   0.977685  1.010345  1.049974  0.997445  1.006909  1.016639   \n",
       "\n",
       "                    thm_5     acc_y     tof_3     tof_4     tof_2     rot_z  \\\n",
       "train      mean  0.004610 -0.019937 -0.013850 -0.042127 -0.016541 -0.003062   \n",
       "           std   1.022446  1.003688  1.003523  1.000151  0.998810  0.995238   \n",
       "validation mean  0.004610 -0.019937 -0.013850 -0.042127 -0.016541 -0.003062   \n",
       "           std   1.022446  1.003688  1.003523  1.000151  0.998810  0.995238   \n",
       "\n",
       "                    acc_z     tof_1     thm_4     tof_5     thm_3  \n",
       "train      mean  0.009306 -0.030251 -0.002652 -0.018148  0.024265  \n",
       "           std   0.979159  1.007340  1.098138  0.995038  0.951666  \n",
       "validation mean  0.009306 -0.030251 -0.002652 -0.018148  0.024265  \n",
       "           std   0.979159  1.007340  1.098138  0.995038  0.951666  "
      ]
     },
     "execution_count": 10,
     "metadata": {},
     "output_type": "execute_result"
    }
   ],
   "source": [
    "pd.concat({\n",
    "    \"train\": folds[0][1][feature_cols].agg([\"mean\", \"std\"]),\n",
    "    \"validation\": folds[0][1][feature_cols].agg([\"mean\", \"std\"]),\n",
    "})"
   ]
  },
  {
   "cell_type": "markdown",
   "id": "9bc09714",
   "metadata": {},
   "source": [
    "### Normalize sequences lengths.  \n",
    "And turn the Dataframes into ndarrays."
   ]
  },
  {
   "cell_type": "markdown",
   "id": "76699499",
   "metadata": {},
   "source": [
    "#### Visualize histogram of sequences lengths."
   ]
  },
  {
   "cell_type": "markdown",
   "id": "b3477111",
   "metadata": {},
   "source": [
    "Entire dataset sequences lengths."
   ]
  },
  {
   "cell_type": "code",
   "execution_count": 11,
   "id": "876907d8",
   "metadata": {},
   "outputs": [
    {
     "data": {
      "application/vnd.plotly.v1+json": {
       "config": {
        "plotlyServerURL": "https://plot.ly"
       },
       "data": [
        {
         "bingroup": "x",
         "hovertemplate": "variable=0<br>value=%{x}<br>count=%{y}<extra></extra>",
         "legendgroup": "0",
         "marker": {
          "color": "#636efa",
          "pattern": {
           "shape": ""
          }
         },
         "name": "0",
         "orientation": "v",
         "showlegend": true,
         "type": "histogram",
         "x": {
          "bdata": "OQBEADUAPQA2AJ8AOAAoAE4AMgA2AFgAQwA9ADYANwBRAFcASQBQAC4AUQDqAC0AoQBJAD0AVgAyAE0ANQBNADYANwA3AC0AMgBBADkAqQBTAD0AbABrADUAXAA0ADQAqQA9AF4AQwBBAC0AOwBgADYANQAvAGsAMwAyADEAOAA6AFQAMQBDAFEAOwA2AFUAMQAwAH0AOwA2ADgAVgAxAEsARgBeAE8ALgA3AIQANQBIAC0AMQBBADoAOAA2AGcALAA3ADYAWAA1ADIAeQBMAFQAUQA2AEIAMAAvAD0APgAwACoAVwBBADAAQgA3AGIALwAxADAASwA3AFMANwA4ADEAOwAwAEMALgBFAGYASQAvAGwAMAA1AD0ANwA+ADEAXAA0AC8ANwA0AEUARABQADoAOQA6ADEANQB1ADwAQAA1ACwALgAxAD8AYwA4AC8ANQA2ACsANQB9AEEAPAAzADQANwBEAC8ASwA7AC8ASQAuADcAOgBKADMAOAA5ADwAOAA7ADMAOQA6ADgANABjADkAUgAwADIAQgBZADIALQA1ADgAXwAsADUALwAvADoANwA0AEcAtABAADUAYAA2AFgAMQAzAEUANwAvADgAWgBmAJsAMwBRAFwAYAA0ADcANgA8AFwAUAA8AFgARgAwADYAQgAvADEARQBIADIANABLADMANgBZADAAMgBbAGIAOgBLAEgAOwAyAEgAPABLADUARAAxAEIALwAzAGIARgAzAC4ANABEAFoAOwBcADEAKwA8AEsASQBhADAAMgAzAFEAQABZAG4AdQBYADQANABCADkAkQAwADcAQgCOAUYANwA0ADIA1QCXAHUAfwCCAEUAOgAxAEcAOgA5AHsARAA0AF4AjQAvAFoAOABHAEIAPgA6AC8AYAA0ADEAWAAtAEsAPABPADUANgA/AJAALQAuADEANACSADUANwA4ADoANQAwADgARABVADAAOwBIAFAASQA3AF4APwB8ACwANgBAADgANgAxADwAPwBCAVEALQAxADoAOwBKADsANQA4ADQANgAyAEYAcAA5ADEANgBGAHQAUACTAC8AXwA+ADsAWwBXAEIANgAzAEAARwBVAIgANABHAFwAPwBsADEAfQBaADkATwA/AGUAXgCIAGQANQA0ADsAmgBPAFgAugA2AC4AzgA6ADcALwA2ADAAOAA3ADIANQAxAC0AMAAvAEIAMQBTAGUANwA1AF4APgA0AC0AMwBbAFMALQCuAFQANwA0ADwAOQA/AD4ASgA5AFwATQCLADMAOwAxADUAOwA/ADEANwAzADAALAA0AE4ANAAzAM0AYAA2AE0ANQDXAE0ANwA9AFQATABzADQAZQA4AFQAPQA/AD8ANAAvAC4ARAAyAFEAMwAxADcATACHAEEAQQA8ACwANgA9ADYAMgAuADgAMABCADgAUQAyADYALgAvADMAfQBPADUAlgAyAD0AcgBXAIUBOQA1AAcBMgAxAEAANQBLAC8AQAB/AFAAYgBBAFgAYQBcAFAAMQD4AGEANwBTAEQAOAD8AGoANwBlAEoAOgCeADEAcQA8ADQANAAwADgAVABAAEAAMgA/ADMAVAA0AC8AMQA4ADYAuwA3ADIAXQBYADEAMwA3AF0AKgA0ADIASgA9AIoAMwBQADQALwBjAFMAOAA1AGgAWQAvAHEAOQA8ADQAQAB1AIkALACRADQANgBRAFMAlgA+ADMAXAAuADAANAAuADQAaABKAEUARAA9AHAALQAzAHcAYwAwADMBOwA7AEMAMAA2AGcAPQBLAD8AVwAzAD4AQgBQAEgAMwAAASsAOAAyADUAMgArADYAUQA1AEUAMABSADQAMAA6ADgAcwA1AGcAaQBHADQAQQA5ADEAOQBTAF0AMgA/AC8AVwBOADMAYABDADoAMgBLADMANwAyAEkANQAwAGkANgA9ADIAfQAuATAARwA3AHQAXwBYAEQANAAwADAAWQAzAD8AdAA2AEkASwA0ADQAQgAzADsAOgCjAGgAMwAzAD0ANgBMADwASAAvADYANwA8AL8AQgA4ADcALwCZAD0ANgA3AGMAVwBaAGgATwA0AEsAMwA/ADAAMAA8ADwAOQBOAG0AQQBJAFwAZgBMACsAZgBTAD0APgAvADYAVgBqAEAAVwA6ADwAPAA2AEYAYAAxADIALwAwADcAPAA0AHUALgAtAKAAMQA3AE4ANAA9ADQAVwAxAD4APAAsADQALwBDADIAPwAsAEAAogBgADsAPABpAHAANAA9AC8AOwA2AGYAPwA5ADEASgA5AEIARAA1AEgAMwAyADYALgAtADYALgBjADgANQBuADsAOwA1ADkAPQBFADEALQA9AFsASAAwADYAPwB0ADwARwA2AHMAtAAtAMkAMgA9ADcAVwBiADQAQABNAGEARgA4AEYAOgAuADcARABYAFwANAAyAEYARABuADIAJQFEAEoAOQBWAGYANAA9AEUAPgAuAC8AOQA4AD4AbQA0AC8ANgAtAE0APABKADoALwA3ADQANQBbADgAbwAyADgAOgA9AGYAXwA6AEYAMgAzAD4AOQBWAFsANQAvADkAPAAuAF8ALABBAF4ANwBTAD0AawBZAFkAPwA9ADAAbACGAC4APABiAEYAVQAxAC4AOABQAHMAiQE5AEYAVAAzAF0ARQA2ADYANAA1ADQARgBQAIUAOgA5ADAAqwBgAI4ATgBAAEEALwA2AC8AMwBvAEAANgA3AHkAoABEAFAATAAxAIYAMwAuADwAaAAxADoAMwAvAFsAXwAtAGwAMAA/ACsAOABIAHwAgwBaAFcAXgBrADMAWwBGAE4AWAA4ADgARgAqAEUALQBUADMANgAzADAANgA5ADYATwBHAP8ALAB4AC8AUgA8AKAASwA8AEgANQBQAPEAQgA0ADQAOwAsADQAOACeAIQALQBSACsAWABzAIMAPgA1AFkANAA+ADkAOQA7ADMAOAA3ADEALwAtADAANABEAC0AMwBIADUALwBMAF8AQAA1ADcAMQAzADEAYgBdAFQAUwArAOUAMQA4AEgAhwAdADMASwBdADgAXwA/ADMAMAA+AC4ANQBdAFEAMgA2ADIAiAA+AC8AOQAzADkANgAxADUATABEAC8AZQAyADcAMgBAADIAMgBhAD0ANwA2AC0AXgBYAGEAWwA1ADgAaQByACsAMwA/ADYAMQCIADwAMwBUAEoAMgBGADQAPgBVAEQAZQBoAD0AVQAzADIAOgBKAF8ARQBlAGsAOABhADIAOQA5ADYASQAxADQATAA3AEEAOQCIAEcANABeAC8ATwBgAFgAMgA1ADYARgAyADoANQAyADcAMgBmAEMAWQBbADQAMgA2AEcARgA4AFIAMQAuAD4AOgA6ADsAKwAyAC8ANgA6AEUASAA4AE4AOABGAFAANAAwADAATAA1ADgA7QBFADEA8wBJAEEAPAA7AF0AmgA1AEoALwBFAEkANQA4ADUAMACaADkANQBNAEQAwQA/AEEAMgAwADEANAA3AEYARgA2ADQAPABYAFQAOQBKADAAKgAvADkAOABNAEQAUAA/AD4ALwAxADkALwBaAD8ANABJADYAKgBnADcAUQAzAD0ANgBbADQAPQAwAC4ANgBgADIAMAA0AEwAQAAwADMAiwAyADYAMQAvADcASgA5AEQASgA6ADUASwAzAGIAvgBgAEwAXgA0AEAAbgAxAHAASgBnAMAAXQA9ADcAQQAtACIAcAA2AEUAMwBBADwANACFALoAMwA/AE4ASgA9AEYAOAAzAPUAWwAzADMAOAA/ADEAegAwAD4ASQBJADcAVwAwAEIAPABKAFEAQAAxAD4AaQA4AC8AMwBAADkAkgBRAEgASgAzAHUAKwAwAFQAdgAxACMAMwA5AGQAMwA7ADYAWAAxACwAMAAzADwALwAzADMANAA8AC0ALwAwACsAQwBEADMALgBNADAAVACAADsAMQCMAG8AMgA3AC4AywA0ADEAbQA1ADAAOABNADsAMABBAEQAMwAtADUAMAAxAD4AOgB4AKsAWQAxADMAQAAyAFoAMgBAAFgAMgBOADIA7QA7AEUANQA3AEoANAAzADoAeQBUAF4APgBFADYAFwFUADIANABaADQALABWADIAUwBOAEsANwAvAC8AbgBEADAAQgA5AC8ATwA0AC8AdAAyAEAAXgBYAEMAawBhAD4AYQAzAFwANwBAADIAOgBSAFkAOAAxADsAQgBRADEAWwA9AEEAZwBEAFQAMgAvADgAUgA4AEAATwAvACsANQAyAG0AZgAzAC4ALgAyAFgAPwBxADEAOwBhADgAMwBXAG0ALwBaAEAANwAzADgALwBaAEsAbgAyADIAPgAzADgAMQBAAFsASwAzAE0ASAAvAIIAVwA2AEUAMwA5ACwAfABqADsAOABMAC8AWgA0AEUAWgA4ADUASgAqAC8AVwA0AEAALQA6AGwAXQA9AHIAQACjAEYAQwCAADUAOgAvADoAKAAzADMAQwBJAD0ASAA/AEYAUQBjAC8AcAA0AH0ANQCTANYANAA3AF4ANQBIADcAMgAyADcAMQAyADQAVQBDAHQAagAwAGQArQE2AE0AMAA7AEkAOQBfADEAYwAsADIAewBdADwARQA9ADAALgA9ADkAOQA9ADAARgBRADAAMQCfAj4APgA5ADwALwA1ADIAQAAyADsAWABMAD4AOwA/ADcAOgBnADoAcQAkAC8ANgCHADQAYwBoADYAQAAyADgAVQB1AGoAMwAtAFAAWwA9AGsAVgA0AKoAZgA1AC0AQABXADIAOABTADEALwB8AD4ALwBPAEQAlwBIADEATwA/ADkAVAAwADoAMgA1AFoALwAvAC8AVQBlADIASAA/AE4AQgA7ADoAMQA5AC0AMwBcADEAOAAvADoANwA1AHYAMgA5ADQAOgA/ADgAMwA8ADMAYwA7AEgAOgA2AGQANQBcAGQAdQA5ACkAUgA0ACsATgA9ACgAUQBtACsALgC8AmQAYAAxADYANQBIAFoAPQBwADoAdwAyADQAPwBSACUAtwBCAEIAWQAxADkAQAAsAEkANQA4AC0AOABRACoAMgAyADYAKwBdAEcAMgBnADcANQBGADAAWQAwADAAOwA8ADYAUwAzADYARwBFAEcAOQA5ACkASgBEAD4ALgA5ADkALwAvAMwAXQBMADUANgA0ADsAaQBUAGcAaAA0AC0AVAA2ADIALgBEAC4AYwBqAFIAOAAwADUANQAwAE4AjgAyAC8AMwA9ADcCUgA6AHoATQAxADAAZQA2ADcASwBaADMAUgAxADIATAA4AEMAOgAxADcAUQAxAK4AMQAxAEEAPwA4ADEANwBAADAAPwBgAD0AaAAyADEAMQAzAFcATwAsAEEASAA1AEEAowBpAEMALQBXADYALwAyAEEAhgAzADEANwA4ADkASwA0AJwASgAwADgALQCQADMAMgAqAF0AMgA1ADwAMwAyADEAOAA+AEUAQgBEAFEAOQAwAFsAMgAvAEUAOABDAJAAXQBEAGAAZwA4AC0AYgBMAEEAOAAyAFEAMwBkADQANgBEAEQAQwBTADMANQA7AE4ANQA0AHkAOAAzADkAbQA1ADkANQA1ADEARQA0AE0AOAAzAIMAVgA/AF0ANQA0ADQATQBDADIANwCmAE8APgAxADUANABcAFkAOQAtADUAQQBfAC8AXgArADQANAAuADsALwA+AFcAbwAyACMAOQBIAD0AMgBXACsAPAAzADwANADvADgAPwBHAEEAxwA1ADEAXwA9AGIAbwBfADAAUAA5ADAAeQA0AEIAvwBmADwAPwBPAC4AMAA4AC8AOgBDADEAMQBiAEQASwBCAE4APwBYAD8ASQAxADQARgA2AEUAOwBBAF8AOQBDADMAQAA0ADoASQA5ADYAMwA9ADsAMgBYAGkAWAA8ADEALwAvADwAmQCEADQAVAAtAEsAQQA+ADQANAA0AC0ALwBLAGAASACaADYANAAwADIAMgAyACwALwA4AFwAVABpAGwATwAwAFUAVABCAFsAaAAzAEcAOQAwADUAVwAzAD0AMwBmAGYAMwC1AGIAPwAwACsAQABmADQANQAuADoAWQAzAOYAUgBAADMANAAtADEAKgBnADUAQQA2ADEAdAA1AD4ATgA+AFYAQAAxADwAZQA0AFAAdgBEADgAMQAxADIAVgBFADoAMABhAC0AWAA9ADQAVgBSADIAVQBBADgANwBCADsAMwBcADEAXgBIADIAKwCFADMAQwA2ADkALgAwADUAMgA5ADsAVAAtADYAMAA1ADIAOwA2AEMAOAAzADEANgArAC8AQwA0ACoASQBtADYARQA2ADcASABrADkAMQA5AIsAMABXADUAPQA3AHAALwB3ADcARgAyAC8AbwA1AEYAOQBhAD8AMQBeADkAYwBFAE8ANQBZAD8AMgA4ADgAMwBKADQAeQAyAEEARwBGAEEAPgBbADYAPwBRADQAQgA0AF0ARgBDAEUAVwAsAGUANwA+AFkAPgA0ADcAMgBZADMAOQAzADsAXgAzADEAMgBCAEgAQwBHADEAMwBEADEAXAAyAD4ASABDADgAMwB5ADoAOQA2ADAANgB8ALsAOgAvAJQAUQA3AEcAPABAADQARAA6AEsALgBjAJMAmwA4AFwAMgAxAE4AUwA3AFQANgAyADoAUwA3AGoAMQA/AD8APQAvAEEA1QBkAE4AQwA9AC8ALgBdADMASQA/ADUATgA0ADEAMgA1ADQAMgA5AIkAlgA3AGwANAA1ADAAOgA7AFMAMgA3AMAAYgA3ACsAOQCHAC8ASQA0ADUANAA4AFMAMgBFAG0AMQBZAEEAOwA5ADIAOABGAGUAMAAyADgAMAA2ADYANgBIADsASAAzADsAXgA1ADIAYwAwAEEALQA7AEgAdAA1AC8AXwBfADUANwB0AC8ANQA1ADgALgCdAGoANgA2ADMAMAA7ADUAOQA7AFMALgAuADQAMwAzADUAMwA1AEAAVwAuADIATQBOADYAaAEyAC8ANAA2ADYAOwAtAGoANQBHADABLwAvAFIARAC9AEcANQAuADIAVwA6ADMAWwAsADQAbQA7AD0AMwA/AFMAYABGAEQALwAzAEAAZABnADgANAAwAEwALgBAADsANQBpADIAMwA0AC4AaQA9ADQAWQA7AEAAOAA0ADAARQBEACkAWgA5ADwAOwAyAEQANgBVAEYALwA2ADMASQAwADQAOwA1ADwANgDIADIAOwA0ADQASABKADMA7gBBAFMAYgA/APcA0ACyADUAUAAsAEEARgA2AF0AMwA3AHYAYwA0AEAAOwA3ADQAOgCcADMAOgAxADsAWQBKAEwAZgA1AGMATABNADEANwBGAFUAPAAxAEIAOAB/ADUANQBnAC4AUAAyADEAXgBRADkARgAvAGEAPgA4ADUAMgBQAC8ANQAvADgANABUADkANABAAD8AQQA6AFsAZAA2ADIAOgChADoAOAAtAFIAMAA/ADYALwAwAFcAMwAiADoAWQBgADoAPgBEAD8ARwBPAFUAPAA6ADMAMwB6AGUAcAA2AE0AUQBgAFEANAAyADgANwA0AC0ATQA1ADgARAA4AEUAMwA1AEYAPQBDADYAXgAyAFMALQA8AGQATAFVADsAMwBsAE4ALAA2ADMAMQAwAGQARgAwAC8AYQBYAHIAPQAtAEsANQBdAHMANgAvADMAOABEAE4ANABoAC0ASQAzADsALwAzAD8ANgBFADcAKgAvAK0AMQA0ADgAMQAzADQAKQAyADcAMwA4AFkAswBuAGgAUAA9AEUAPQBBADQAbwA4AEEATgA8AGcAMAA1ADcAOAAyAJAARQA4ADAASQA+AIsALwBYADMAQwA1AEAARQAzAFIAVgBhADMALQA4AD8AMAAwADAAOwBcADQAOwBZADUAOABAADwAhgBEAEIAUwBRADEAiwA+AEgAbABCADcAQwBLAEIALgAyADUAUABpAFIAOABDADYAUAA7ADwAWgBWADQAOAA0AGAARQBEAFkARQA8AD0ARwC/AJkALwBiADkATAA2ADoAVgBVADwAYgA0AEgAbwA9AFEAaABJADkANwBNAEYAMAAxADsAMwAwAEkAiwBYAEgASAA9AD0ATAA3ADIAPAA3AD8ANAAxADkASgA6AFUAQQA1ADcAXgBuAEQATwA2AC8ANwAzADYAMQAwAD8ANQBNAEQATABYAGoATgAuAEUAWgA1AD0AVQAxADgANgAyACgAOQAxAEQAOgAsADIAPwBKAD4APQA0ADUAOgC5AEcAJwBIAGcAMwAwADIAMgBDAFoANwCtADoAOQA5ADEATAA4ADAAOgBTAEMARgBcAC0AQAAwADUANwCBAC8AMQAyADEANgAxAFYAOQBOAEAAVwA2AEoAMABCAEMAOAAzAC4ANABKADoASAA7AEMAOQAvADgASgAwAFkANABPADkAWABEADcAWAA1ADcAQgAzADAAZABqADcATgA4AC0ANgArAC8AUQCFAHwAMgAyAEYALQA+AC4AMwA6ADMALQA4ADMAbQA2ADYALwBlAD4AMgA1ADMAOgAxADwARQA/AFwANQA0AFMANABEADEAXAAvADwAXAAwADwAYgCmADIAQwA1ACsAVgBHAEcAMAA7AF4ANQAyADoAOgBCANwAVwAvAEAAOABNAI8AUQAyAC8AQgA9AC4AOQBsALIAYgA2AFEALgA1AFIAgQA5AEQALgBZADYAMgAyAD0AMAA3AE8ASABrADgASwBAAEsAPQAwAE4ASgA3ADwAVwAwAD0AOgBLAD4AQgBWAD0AOgA6AGgAMQA3ADQAPQBAAEgAVQAxADYAPAAtADIANgBLADsAPwA4AC4ANAAxADUAbQBDAD8ANABmAHAAMABIAE0AYQA6ADsAMQA4ADIALAA/ADMARgA1AEoAPwALATAAMgA1AEUANAAyAFAAMgAvADAAbABnADIANQA1AFwANABDAIUANgAxADQAVACzAEgANQA9AGwANgCPAD4ASwAyAEcANwAxAJQAWgA+AFIALQA5AEAAUABUADMALgAzAEEAMgBkAEYANAA4AGYAMABDAC8AMwBAAEcAdQAyAEUATgA3ADQAPQA4AD8ALQAuADYANwBNADoAOgAsAEwAPAA1AFMAVwBWADIAQAA3AC0AgwBHADIAPwBLADcALAA2ADgARwBTADEAMwBPAC4AOgAxAEMANwA6AEoARgAyAD4AJwAxAI8AMwBGADYAPAAxAF4AagA1ADYASQAwAGIALgA7ADUAMABIAIgAMQA0ADQAOAA0AEIAMwA/AC0ANgBaAC4APQBtADkAawBoAFUANwAxAFkAXgCHAjcAOgBFAEcARgAvAC0AVAA4ADUASgBDADcAXwA/ADUAMgBSAEQANAAwADcAXQA6ADEARQAwADgAewA7AEgAWQBGAEAAVwBWADAALwBLADEALgBJAGcARABLADwARQAsADMAOQAxADwAPAA1ADgANABaADEAOgAyADoAWgA4ADAAXABCAD8AlAAyADEAOgA/AIYAOQBGADsAMQA+AGMALAAzADsAjAAuAHUANAA1AGEAQQA3ADgAMwA7ADEAgwBGADUANQBqAGsANwAwAEUAUgA9AJIAMwBSADgAKgBXADYAcgA2ADQAWgBMADgANwCCALkANwAvADMAcAA5ADYAXwA0AJMAOAAwAD4AMwBmADsANQAwAFgAMQA/AHMAOAAtADYANwBDADMAOQA7ADkAMwBBAG8AaQAvAHMAMgAvADcAsAA2ADgAOgA2AHAALABZACwASwBJAF8AMQAyAEcAUAAwAD8AOwA0ADUAOQA9AGAAPQA4ADgARwAuAGAAPgAzADYAMgA3AD4A1gCUADIALgBlADYANwA8AC0ALgBQAEgAMwBPADcAMQAuAEMAYQBKAC8ARwBDAFIALQA2AE8ANAAzAEgAPgBEAGAAOQA1AEgAdQA9ADkAXwBBADUANAAuAEEAMQAxADkAWQA8ADcANAA4AG0AOQBHAC0ANgArAFkAOABBAFIAPQBjAEcAOwA+AD4AQAA1ADgAQwA0ADoAMgBJAD8AVwCaADAAbwA6AC8AWQAxADsAdwA8ADIAWgC0ADMANgA2ADgAQAAvAD4ANAAzAEkANwBCADIAYwA9AFYAMwC7AGIAZwA0AC8AMwAxADkAOABqAHwAgwA3ACkATAAuADYASQBbADUANgAwAEoAQAA5AEAALwBFAC8AMgA0AC0AMQAuACwAOQBVAFsAWwA7AEgAOABPAEYANAB7AGUAMwAyADcAcwA5AEgANwBbAEUASAAyAFkAngBOAD8AMgBLAIoAQQA8AF0ASwBNAH0ALgA8AGUASQA+AEMANQA1AC8AOAA0AIcAXgBEADYAYABBADEANwBXAEEARAC3ADYAVQBaAEIAMwBEADsAMwA3ADAALgB8AEIANABTAIgAUQBUAEEAMgA1AEkAMgA1AKoAVQAzADkAZgB5AD8AfQBvAJcAOgAzACsASADXAFcANABAAGIARgBVADIALQA5ADYAaAAwAEgAQwA/AF4APQBDADEALwA3AFAAhgBUAC4APAAqAC8AfQAuADkAMwAyAC8AOgA9ADIAgQA3AFkATwBRADAAWgA0AJUANQA4AEcASQAxAEgAVgA4AEIANQAyADoANwBBAEsAOgBWACIANwBEADsANwA9AC4AQQCNADAANwBWADgASQBHAIYAMAAvAEoANQA1ADkAUAAxAGIAMgBaAEoALwAwADQAawBDAF8ARgDLADYAMAAyADIANQBQAFcANgBNADQAMwBLADoALwA4AEwANABFADIAdQA1AHQAQgBlADEANQA+ADcAUQBBADoANABdAD0ANgA3AC8ANwBTAD0ASQBJAMQARAAxADIAMAA2AMYALwA2ADYAXQBdAEwAggAzADQALwBCAD8ATQAVATEANQBHADIAUQA6ADQAQwAyADIAZwBEAGMASwB9AC8AMgA3ADIAMgC6ADMAQQA0ADkASgBLAEwAPQA0AEEAQgC8ADEAPwBcAEsAWwA0ADYAdgAyADsAOQA8AGsAXQBGADUARgA6AC4AVgBuADkAYgA6AG0AOQBDADMATgA1ADYAOgA1AIoANAA0AFAAOQBQAFwALQA1AC0ANAA4ADgARwBXAF0AOwA5ADwAPACpADoAYwBFAC8AMwBAADwAQABYADEAVAA0ADIAWwCJAF8ALwA2AFMATgBQADUAUQBJADIAWwA9AFwAogBGACwAMwBrAC4AWgByADIAPwA1AEAAMwA4ADMANQBMADIANQCgAF4AcQBLADYANAA7AFwAVAA1ADIATwBoAFoAZgAyAFQANQBBAEoAWABGAFUAaAA6AC0APABBAFkAYQA0ADEAUwA3AGQAMQAvADoANgBbADQAaQA1ADAAlABEACwAUQBhAH8AMQBeACwAKgBAAFQAMQA7ADEAfABaADsALwDVADcALwAwAC4AXQAyAEUAfABMAEUANQA7ADwANwC2AEYAOAA+AD0AMQAxAD8ANwAxAEAAMAA5ADcAWgDlAFcALAA0AGAALwBAADwAPwA+ADUASAA5AD0APAB4AGIAMgA7AEAAXgAuADwAcQA6ADkANAA4AF8AMgB5ADwAYABOADEAZgAzAEsAMwAzADIAPQBXAC0AQQAxAGUARABJAIsALgBsAEAAQwA2AEoAMQBlADUAOwBIADQAMAAwADUAMgAwADgAMwAtADcAMgAyAC8AOQBEAFQAPwA5ADEAlABeAD0APwB/AEcAQAA/AE8AkgBhAEwANQA+AF8AMQAuADIAWAA1AD8ASABXADMAMgCUADcAOwA2ADIALAAxAGIALQA3AC4BMgBcAD8ANwBqAFkANgA8ADYAawAxADsAWQBYADoANQBEADYATgAxAGIAaQBPADwANQDUADMAOgA0AEMANwA9ADMAZwAwAEIAMwA0ADUAOAA5ADAANgBGAEgANAA7ADgALgA2AEYALwBYADUAPgA/ADQAMwA3ADAAZgBzAHgAMQBRADUANwBKADYALgBLAFsAMwAvAIMAaAB5ADEAPgBHAC4AXgA5ADIAWgBVAC4AVQBIAG0ALwBYAFAAUABMAC4APgBGAC8AZABbADMAVwBGADEAMACXAEYAYABQADMAcAAzADcAOQA0ADgASAAcATIAMgBRADIAMAAxADYANwBPADMASQAyAEYANQAzADgASwA9ADwATQA+ADkA3ABKAFwAYgBwADUANgA2AF8ARAA7AEQAvwAzAC4ANgAsADIANQAwADAAWwBHADUANQBdADYAPgA6ADUARABBAKEAOQBSAEwANgAxAD0AOAA3AFAAMgCqAC4AMgAzAEwALwB+ADYAMAAyADUAOwBXADAAQwBYAFUAMwBcADMAMwBZAFMAOABGAJMAOgA2ADkAPQBmAEcAMgA2AG0ALwBAAD0A4QA1ADsATwAwAC8AOQAmADQANQA0ADQAOgAyADEANgAzADUATgBIAFsAXwBAADoARwAzADcANAA1ADwALwBaAEkALQA5AGoASABTADcALwAzAOQAMgA8ADMAYQCHAEkArAClADkAVQAwADEAVwBAAEsAPAAxAFEATgA5ADMAMwA4ADEAbQAwAEcAOwBNADUAMQAxADIASQB6ADsAVwBFAEIAZQA1ADMANgBCADMAZABRADYAOAA1AD4AagAsADoAZwA1ADgAOwDIAFgAOQAyADUAVAAwADAAMwBAAGIASQBBAJIAbgBDAFEALgBDADoAMgAuADAASACEADsANgAxADMAhQBPAHIAMAA0AD0AOQBEAD0AYgA1ADQAOgBbAC4AOgAvADAAXwBCACQARwBOADYANABFAFEARABcADgAMQCPAEsANgA3ADEANAAzAEwAeQBfADsAUQBKAEsAPACNADYAMACXAGQANwBCAEAATAA3AEMAPwA8ADsANgAyADwARwBvADEASABCADEAdQA/AIsAOwBGADIANABEAEIAVwA9ADsAMQBpAEEANABFAEkAVQA9AGMAOAA2ADYAPwA7AF4ALQBHADMAMAA0ADwANwA2ADUAtAAyADMANABiACsANgA0ADsAUwBPADAANgCKAH8AQgAvADcAOgA0AEQAMAA3AD0ANQAtADYAVQCwAFAAOgDEADcAbQBEAEQAMgAwAEcARQBJADwAOABoAFAARQBUAF4AfAB8ADIAMgA0ADYATQA1ADcANgBQAEYAMgBsAC8APwAxADcAMwBJAEYAMwAxADQAMgBMADkAOQAxAGwAkAB2AGwAMQBiADEAMwAyADsATgA3AEEAMgBeAC8AawA5ADUAOAAxAFAALQA3ADYAMQBKAC0APABUAEEARACrADUAXwBJAGUAYwA0AE0AOgA9ADIASwBkAEEARgAzADMATABoADAARgBHADQALgAsADIAZgBMAD0ASABsACsAYAA3AFAANQA6AEIAaQA5ACwAPAAtAHoANgAuAGgAOgBLAKIANwBPADYAbQAvAG0AMgA6ADMAUAA8AJ8AMwAqAFAASABaAD4AUQA6AC8AKwA4ADUANQA3AE8AvABAADIALQAsADAAOAA4AJ0AOgBxAE8APAA0AGYAMwBOAGAATgAyAE8ALQBGADgALwBCAFoANwBSAJYAMAA0AE8APAA+AE4ANAAyAHMBOgA4ADUAQQA3AEkAOAA8ADoAMAA0AMkAXgA2ADMARQAwAEwAPgAwAEkAMgA2AEQAYgBWAEkAUwA6AEEANQA5ADcAQwA1AEgAPABvADUAPgA0ADEAPgA0AFwALQBFADAAfgA0ADAALgA+ADkATQBNAFkATQA1ADsAMAA/AEMAUgAtADEAUwAwAIwAMQAxAD4ANgA5ADIASABhADYATAAyADEARQAzADYAUQA2ADgAPgAwAC0ALAA3AC4AVgBaADsANwAzAD4ANgB/ALUARQAvADwASgA1AFUATgA1ADMASABEAD4AWgAzADIAPAA1ADMAPgA7AG0AUwA1ADQAMgA/AE8AWAA9AMIAPgA5AHwA9QAtAEMAtwBQAEkATgBSADAAdgE+AH4AOAAyAFsAOABSAD0AQQAxAD0AOQBcAC4AWABPADUAYgB4ADsALgA4AC8AOQBfADQAPQBGAEwAMQAuADIAPQAwAEMAOwA2AGgAMQCuAKEATgA+ADQAQQB6AIkALQAyAEsAYgAwAFQAPAAzAC0AOAA/ADUARQBcAEUAPAAtAEwANwA9ADgAXQAzADMAMAAxADsAMQBRADcAMwAvAD4ATAAtAD0APgA2ADEAQAA1ADwARwAvADsAMQAyALoALgBBAFsALgA1ADMANgA6AEYAPQBbADAAOgAwAI8AMQA6ADIALwAzAFMAsABCAJAASwAxAI0AMgAyADQAeQA3ADkAPAA1AC0AMwBGAFgAMABGADkAQAAtAIIARQAxADkAMAA3AD0A9gA1AD8ARwA1ADYAYwAwAC4ARgAvADEANAArAC0AMQA3AHsAMgBFAFAARQBjADIAMAAyAEoANgAxAHsAWwBmAD4ANgAwADQAQwAvADYAWgBBAE4APgA0AEUANQA0AGoATwAzAD4AOwA7ADQAPgA4ADIAYQBlADYAKQBgADAAYAAzADUARABoAD8AOgBOACwAMAAzADcAVAAvADcAWQAxADQALgAuADEASQAsAC4AOQA2ADoALAA2AEoANwAxADAAMwA6ADgAVgA6ADUAygBHAHkAOQAtAD4AYAAzAGkAMgBKADMAWgBDAEkAMgCBADoAYABaAFAARAA5ADgASQBDAKQAPACbADYAYAA0ADMAQABLADwATQA0ADwANgA8ADIAYgA2ADEAVQAzAEIANQA2AFAAYgBUATEANQBIAMcAawA8AH0AMQA9AGcARwBgAFYAUwBkAFYANgAwADQANwBOADgAPgBLAEwAMQBIADcAPAAxAHcATAA0AD4AOABXAKEAMQB1AFwAVABdAEUAOgA+AD8ALQA0AFYA1gA+ADsAOAA6ADYARQBpAFwAXwA0AI8AWQA2ACwAPQA1AE4ANACXAFsAMgAyAEEAMwBNADoALgAvAEYAWgA4AI0ARQBKAEIANQA/AF0ARwAxAE8AMQAsADMAMQBMAC8AQQApAE0ALAAxAD4AUwBrADIAUgBrAK0ALAAyADUANAA5AEUALAA3AEAAMQBjAD8AMwDMADAALQA5AEsAVABQAGEAMgA7ADIAMwBZADcALQBBAC0AQABbADsAWwBcADMAagBxADQAOwAwAGIAMQBGADUAMQA+ADUAXgA7AC4AOABAADIALwAuAEIANwAvADQASABEADcALwClAEsAMgA0ALUATACnAC4AOAAyAC8ANQBTAEAAbwAuACwAUgB/ADIAUwAnAEsAMwAzADgAQAAzAEEAZwBYAEQARwAvADUAQQAzAGUAPgBDADoAWABYAC8A6wA9AD4AyABEAD0AbwA8ADcAQQBcAPIALgA8AGcANABPADcAMABeAEsASgA7AEgALQAwADwASgAxADwAOQBHADIASQA7AC8AOAA6ADkAMQCSAJUAPAA3ADEAOQBBADAATgBQAEAASAA0ADsAQQBCADgATQDQACwAMQA2ADQAQwBVADwALgA6AGIASAA/ADEANQA9ADsALgDmAF4APgA4ADQAPQAzAD8AOwBWADMANQA4AJYAMwA0ACwALQCGAEcARAAwAEEAYwBVAEQAQwA0ADUALgBfAC8AQgA0ADMAPQBHADIAMQA2ADkAXAAzAGAASwA8APYAPgA8AE0ANQDxADEAOQBiAEgATwA3ADgAOwCjADIAjAAzAFEAMABTADoANwAtADMAXABlAEcANgA6ADUAMwBTAFEARABqADIAOAAyAEAARQAuAD0ALwAxADEAMgBAAFkAOABSAD0AXQA/ADcAXQA2AFAAQQBhAFAAOgBXADAALwA4ADsAUwA/AD8AOwBBAGoA/gAsANQAOgBEAC8ARQAzAFYAPABmACwAUgAuADMANAA1AEAATAA2ADAAKgA+ADsAOQAyAFkANwA3AEcATwBHADYAMwCDADYALwBWAD0AWgBbAEEAOwBKAEAANABqAC4ANwA5AEgALwBYAAYBNQBAACwAfgCSANIAggA5AD4AOgBKAC0AMQAvAC0AKwA4ADYAWwBFADUAVgBwAD8ASQA/ADAAggBzAJgAMgBTAGIAKQAyAEYANQAwADUAQQBrADIAYAAuAEAANABAAFQAOwBBAEQAOgBKAEEAMAAzADUAMQBAAC0ASgBEAEoALwAvAIEANQA2ADAAMwBCAJ4AMwBhAE8AMQA2AD4AMQA/AGsANwA0AGAAOwDAAE4AMQA/AFgAPgBTAEcALwA5AD0APQAvADQAMgBPAGcANgA6AHcALgAuACsAOwArAGYANAA4AGYANwA6ADoAUwA9ADMAXQBBADIAMwDtAI8ANQA1AIwAMQBhADkAMgBbAPkAUgBaADkAOwAvADsAMQAvAGAAlABWAEkASABhAGkAUABNADEAMwA0AEsALwAxADAANABZAGkAOADcAEIAMADSAEwALABCAEEAQgA/AF8ARAAxADEANQBFADAANAA9AEEALwA0AD4ALAAtAC4AMgA2AEkAYwA8ADgAPAAvADsAXAA0AEIAPgAuAEsAOQA/ADUASABgAGMASwA3AE4AOgA0ADkAPACRADUAPgA1ADkAOAA6ADkAWAAsADEAOgBYAFMAMgA6AEMAMABmADEAPAA2AEEARQBAAEkAPwBZAC8ARABBADIANQAxADoALwA+ADoAMgBJAHoAYgAwAEMAPABVADUAVAAyAD4AWQBFADAAfgA0AC0ANwBjADcAUABLADwAMABCADYAQgAuADoAOAA0ADcAMACCAC8ATAA5AGEANwAvAFEATwBUADAAygBeAC8ANAAwAFgANwBNAEAANABPADYANgA4AC8AMQAvAEgALQBXADMALABZADAANQBNAD0APgBnADQALwBhAJ8ANQAuAC4AMgAzAEIAPgA7ADcAPwBcADQAPwAzAEwANQBIACsAeAA7ADcAQAA4AHcAOQBBAFYANQAsAEMAQQA3ADcAUQBeADUAWQB3ADoALwA2ADEALQBDADAAMgBDACsAOwA8AEMABwEuAC4APgA2ADQAWQA0ADMATABIADEAUwAsADoAOwA5ADcAPgA7AEEAMwA2AFIAMgBlADUANwAzADkAQQA2AFYAUgA4AD0ASwBVAD0APwA7ADAAYgA1ADQAOQBMAD0AMAA2AD4ALQA9ADQANAA0AC4AOQA6ADIANwA5ADcANQBgAH4AXQCYADsAQgAyAMYAQAA8AD4ANAArAF8APwAtAEMAOAAxADoAigA1AGEAJgA9ADIANABMAD8ANABEADQAawAxAFsANgCAAFcAmgA0AEcANgA2AD4AMgAyACwAUQA0AGcAMQBWADgAPABpADcAPQBFAC0ANgAvAEQALgBBADoAbQBIAJ4AMgA1AFoAVgBBAEgAUAAzADAAewBVADcAOQAvADoAXgBpADAAPAAwADYANAByAEoANwA0ADkAPgA7AEkANwA1ACcALQBkAFYAMwA6AGMAJwBLADQAXwA7ADcANgAtAFkAMgBGAD0ANADCAEQAUgA3ADQAOABLAD4APABIAI0AMgArADoAPQA/ADwANAAxADMAQABCADEANAA/ADIALwBeAC8AawAyAHEAOgA6ADMAMgB4ADYAMgBXAFUAMwBaAC8ANQAzADcAMQAzAFQAPwAxAD0AlQAyAF0AMAA5AMUAWAA9ADkAMQBCADkALwEyAD0AZQB7ADgAPQBuADAAYAAuAEsAOgA5AEYALABHAEYAMwAyACoAMAArAE4ATgBzAEcARgA2ACwANAAzAEcAVwAvAGEAPQA6ADAAQgBgAD8ANgBbADsASwA/AIYBUwBCAFoAPwA8ADgAcwCrADEAOAA1ADYAZQA3AFUAMgA2AHMANgAyALcASgAxAFYAGgEsADoAQQBVADEAMwAzAGQAMAA5ACsATgBaAEAATgC3ADkAMgCcADEATAAyADAARAAzAKAALAA/AC8ANQBIAC4ANQBiAD8AMwA3ADIAPgAxAFsAQABCAEgALABEAFEANABCADEAOQBLADIAKwA1ADUAPwA4AD4APgB8AEgAWgA8AEQANgAvADYATgA5AMkANAAwAC4AQwBeADYANAA5AC4APQAtALwARQBFADcANwA7ADoAUgBUADYASgAvADYAXwAwAEIAMQBYAEAAWQAxADgAOgBaAFoALgBAAFYAVgA5AIEAMwBFAD8AMAA4ADcAaAAyAEUANABZADoAPwA9AFEALwBOADEAVQAxAEMALAA5ADAATgBVAC4AMgBIAIUAcABiAEAAPQA9ADcANgAzAHMAUQAvAF8ALgBTAHoATwCUAF8AbgB4AE8APgA7AEUAPAAvADUANQAzADIASADDAD4ARACBAFQA7gAzAEUALwBgAF0AUQB2AEYASgAzAEEAOAA1ADcATQA1ADIANwA5AEIAVQBEAEEAMQDVACwAMgAyADgANgA6AEEANQA1AE8ALwBYAEoAMgA0ADUANAA6ADQAOgAuADcAgQAxAJgAPABYADoAQADjAEwAOACkAEgAMABDADUAMgAyAIcANwAyAC8AQAA1AJQAlwBHAEYAVAAxAGMAQAArAEoARwBYAHQATwA0AGYAbwAzADgAMgAwAF8AOQBjAD4AnwA7ADsASAA3AC8AUAAwADgARgA0AD0ANABwADQAMAAuAD0APgA+AFMAQQBLADkANgArADcAMQBWAEoAMAAwAEQAYQA0AD4AMgA8AFoASQCOAFAANwBgAGsAMQA2AEMAZQAzADUAPQAzAF8AQQCHADsAUwBUADQAPgA5AD0AMAAyADcAXgAxAE0ANABGAFAARABZADUALABtADIAQwBCADcAPgA6AFMAOQBRACoAXgA8AFEAMAAwAGsANAA+AC0ATwBVADcAXQA3ADcAPQBdAFUAMQBSAE8AOQBeADAANgAzAC4AVwBkAEAAWAA0AC4AYQA5ADkARwBzAD0APwAzAFAAMQAzADQAOgAzAEMAMwA6AC0AWwAuAC4AQwA4AGcAQgA3AGUAQgCuADUAVwA7ADgAPQBnADwALwAuAFQAMQBGAFkAMgA/AFQANwAvAD0ANAA1ADYAOwA1AEsApQBZAEAAQQAzAC0AMwBkADkAhwA3AGgAMQBGADMAOwBLAE4ANABOADUAagA5ADQATAAxADMAOABAAEcANABtADgAOAAxADIALADTADQANwAxADAAMgAsADgAMAB2ADMAMABIADYAMgAuADoARgBAADQANgBJAIoAOQAwAFcARgBSADAALwBvAFkAWwBEAC4AOwA0ADMAPABOADAAMgAwAFEANAA0AD8ATAA1AD4AMgBgAC8AOQA2AFcAZAA7ADgAaQBPAEsAWwAxAEMATABIADAAsQA5AFMAlQA7AFgAVAAvADIAbABlAFcARABZAE8AVQAvADcAUAAvADAAIgAxAHAANABDADIAMQCrAFwALwA4ADYAOQAzADsAMABYAD0ANgAzAFIAMQCHADMAQAAsAEgAXwAoAHQALwA9AHkANwAyAEEANwAsADIASAAvAEIANAA+AFsAOwA8AF4AMAA0ADQATAA7AFEANQA6AGgAOAAuAD4ALwA5AJ4AjwBmADUAWwB8ADYAMAA5AD8AXQBKADUAQACbAC8AaAAzAEgAVAAvAGcANQAvAGYATABPAC4ANgBPADUAUgBtADkAQgA3ADwALwA/ADcARAAzAEYAMwBUAEIANQA9AD8AOgBAADwAfwAzAHUANQAyADUANQA6ADcANAA6AFsANgAxADgAMQA5ADYALgAxADQAMgA4AC8ALgA5AFQAMABbAD4ANQA3ADIAOgAyADEASAA4ANMANAAzADMAPgBaADQALABsADoANwA0AC0APwAzADIARgB2AHMAXQBFAEQAOwAwAEQANgBWAOkAMwAyADMANwAwAEsANABqAH0AMwBqAD0AKwAzADUAOQAyAHYCNgA8ADcANQA6AEYAcQA1AD0ARQA2AGYARwBrAEcAOABJAD0AnAAvADQAQABGADQATwBKADUATwAsAD0AMwAvAEcAOAA2ACoAbwBDAGEAOwAsAJIAPgA9AGQANQCDADQATABsADgAXwA+ADYAQgBIADIARQBQAEUAaABDACwAPwA/AIgALwBZADoAPQBFAD8ANwBqADMAQwAyAEcAQAAzADIAPQBBAEkAMwBAAFUAMwBNAFIAOABKAHEAdABDAEAANAA0AFoAMgA3ADkAMgBVADQANQBJADsAQwA2ADUANQBFAFwARgA8AF0ALwA7AGgBLwA0AFEARgAsAFYAbgA1ADEASwAwAEQALgCaAEUARwBGAC4AMQAzAEoANgA1AEMAOgAvADIAMwBAADQARgAqADIAWAD2AFsAQQA4AGkALwA/ADcASQA5ADQASgBOADMATQBqAC4AMACBADgAdAAwAEgAWAA3ADQARwBLAC8AQwA1ADIAMQAyAFMAOgBqAIgALQBbAG8AJgAvADQAMwBYAE4APwAuADQAQQBQAEIARwA0AEkARAA0AGcASAA2ADUANAA2ADQAPwAyAC8AQwAyAC4ASAA2AEsAWAA1AFYATAAtALsAiAAvAEQAWwBHADMAQgAyADoAVAA0AFUAOAAyADcAYQA2AGgAOwBcAD8AMwAwADoAQQA1ADcAMQA1AEEATgAvAIcAUAA4ADEANQBhAEQAWAAyADQATwAuAFAAQAAxAGkAUgA7AEQANAA/ADIAOwBXAEMAVgBRADEANABIADMARwB2ACwARAAyAD8AOABCAC0AMgBzADAANQA0ADoAQAA0AC8AcAAyAFAAMAAtAEIAUwA1AEIAbQAzADMAQwAzAFAALgBIAC4ANQBiAF4ANQAxAE8AOgBRAEAAiQAtADcANQAsADsAMQAyAEQAMgA/ADUAMAA0AFAANQA9ADQATgAvADQAPgA1AFQANQA+AEkASABBADcAegBXAE0ANgAxAHEAqwA7AEYANAAqAFIARAAxAEAAaAAzAEAAOQA8ADMAMQA4ADEAcgA/ADYAPAAyADwAMACcADgAOgAxADgAOQBJALAAQQA7AEIANABbADAAQgBtADgAMwCWAGIAZACeAEMALQBMADsAMABpAC4ALgA0ADQANAA2ADUAMQA6AEUAKwAvAD4AQQBEADQAOQA0ADYAkQBWAEoAOQAzADMASAA5ADYAMABXAEkARABZAEsAtQA6ADYASAA7AHcAMQAsALoAPQA0ADQALQAxADMAKwAuADIARAA3ADMARQAyAEEAMQBDAF0ARAAzAD4ANQAvADMALACmADEAvQA7ADcAMgA+AEYAMQA7AF4AMQA+AGcAMAA1AEoAOAA3ADoAMABOAC4AZQCFAEIAPwBAAEoAMABvADkAMQA0AC8ANwA6ADUAVAAzAGcAMgA3AD8AKwA/AD4APgA4AC4ANgBXADQA4AA7AE4AVgBbAE8AQABEADEAaABOAC0ANQA8ADMAOQA0ADYAYgA2ADMANwA0ACwAMQA/ACsAMQAzADcAWABhACgALgCqAE4AOgA0ADQALwAvADQAMQA+AD4ALQA/AD4AVgAwADQAVwBxAFQAPQAsAKoBPgBMAFQATgAwADUA",
          "dtype": "i2"
         },
         "xaxis": "x",
         "yaxis": "y"
        }
       ],
       "layout": {
        "barmode": "relative",
        "legend": {
         "title": {
          "text": "variable"
         },
         "tracegroupgap": 0
        },
        "template": {
         "data": {
          "bar": [
           {
            "error_x": {
             "color": "#2a3f5f"
            },
            "error_y": {
             "color": "#2a3f5f"
            },
            "marker": {
             "line": {
              "color": "#E5ECF6",
              "width": 0.5
             },
             "pattern": {
              "fillmode": "overlay",
              "size": 10,
              "solidity": 0.2
             }
            },
            "type": "bar"
           }
          ],
          "barpolar": [
           {
            "marker": {
             "line": {
              "color": "#E5ECF6",
              "width": 0.5
             },
             "pattern": {
              "fillmode": "overlay",
              "size": 10,
              "solidity": 0.2
             }
            },
            "type": "barpolar"
           }
          ],
          "carpet": [
           {
            "aaxis": {
             "endlinecolor": "#2a3f5f",
             "gridcolor": "white",
             "linecolor": "white",
             "minorgridcolor": "white",
             "startlinecolor": "#2a3f5f"
            },
            "baxis": {
             "endlinecolor": "#2a3f5f",
             "gridcolor": "white",
             "linecolor": "white",
             "minorgridcolor": "white",
             "startlinecolor": "#2a3f5f"
            },
            "type": "carpet"
           }
          ],
          "choropleth": [
           {
            "colorbar": {
             "outlinewidth": 0,
             "ticks": ""
            },
            "type": "choropleth"
           }
          ],
          "contour": [
           {
            "colorbar": {
             "outlinewidth": 0,
             "ticks": ""
            },
            "colorscale": [
             [
              0,
              "#0d0887"
             ],
             [
              0.1111111111111111,
              "#46039f"
             ],
             [
              0.2222222222222222,
              "#7201a8"
             ],
             [
              0.3333333333333333,
              "#9c179e"
             ],
             [
              0.4444444444444444,
              "#bd3786"
             ],
             [
              0.5555555555555556,
              "#d8576b"
             ],
             [
              0.6666666666666666,
              "#ed7953"
             ],
             [
              0.7777777777777778,
              "#fb9f3a"
             ],
             [
              0.8888888888888888,
              "#fdca26"
             ],
             [
              1,
              "#f0f921"
             ]
            ],
            "type": "contour"
           }
          ],
          "contourcarpet": [
           {
            "colorbar": {
             "outlinewidth": 0,
             "ticks": ""
            },
            "type": "contourcarpet"
           }
          ],
          "heatmap": [
           {
            "colorbar": {
             "outlinewidth": 0,
             "ticks": ""
            },
            "colorscale": [
             [
              0,
              "#0d0887"
             ],
             [
              0.1111111111111111,
              "#46039f"
             ],
             [
              0.2222222222222222,
              "#7201a8"
             ],
             [
              0.3333333333333333,
              "#9c179e"
             ],
             [
              0.4444444444444444,
              "#bd3786"
             ],
             [
              0.5555555555555556,
              "#d8576b"
             ],
             [
              0.6666666666666666,
              "#ed7953"
             ],
             [
              0.7777777777777778,
              "#fb9f3a"
             ],
             [
              0.8888888888888888,
              "#fdca26"
             ],
             [
              1,
              "#f0f921"
             ]
            ],
            "type": "heatmap"
           }
          ],
          "histogram": [
           {
            "marker": {
             "pattern": {
              "fillmode": "overlay",
              "size": 10,
              "solidity": 0.2
             }
            },
            "type": "histogram"
           }
          ],
          "histogram2d": [
           {
            "colorbar": {
             "outlinewidth": 0,
             "ticks": ""
            },
            "colorscale": [
             [
              0,
              "#0d0887"
             ],
             [
              0.1111111111111111,
              "#46039f"
             ],
             [
              0.2222222222222222,
              "#7201a8"
             ],
             [
              0.3333333333333333,
              "#9c179e"
             ],
             [
              0.4444444444444444,
              "#bd3786"
             ],
             [
              0.5555555555555556,
              "#d8576b"
             ],
             [
              0.6666666666666666,
              "#ed7953"
             ],
             [
              0.7777777777777778,
              "#fb9f3a"
             ],
             [
              0.8888888888888888,
              "#fdca26"
             ],
             [
              1,
              "#f0f921"
             ]
            ],
            "type": "histogram2d"
           }
          ],
          "histogram2dcontour": [
           {
            "colorbar": {
             "outlinewidth": 0,
             "ticks": ""
            },
            "colorscale": [
             [
              0,
              "#0d0887"
             ],
             [
              0.1111111111111111,
              "#46039f"
             ],
             [
              0.2222222222222222,
              "#7201a8"
             ],
             [
              0.3333333333333333,
              "#9c179e"
             ],
             [
              0.4444444444444444,
              "#bd3786"
             ],
             [
              0.5555555555555556,
              "#d8576b"
             ],
             [
              0.6666666666666666,
              "#ed7953"
             ],
             [
              0.7777777777777778,
              "#fb9f3a"
             ],
             [
              0.8888888888888888,
              "#fdca26"
             ],
             [
              1,
              "#f0f921"
             ]
            ],
            "type": "histogram2dcontour"
           }
          ],
          "mesh3d": [
           {
            "colorbar": {
             "outlinewidth": 0,
             "ticks": ""
            },
            "type": "mesh3d"
           }
          ],
          "parcoords": [
           {
            "line": {
             "colorbar": {
              "outlinewidth": 0,
              "ticks": ""
             }
            },
            "type": "parcoords"
           }
          ],
          "pie": [
           {
            "automargin": true,
            "type": "pie"
           }
          ],
          "scatter": [
           {
            "fillpattern": {
             "fillmode": "overlay",
             "size": 10,
             "solidity": 0.2
            },
            "type": "scatter"
           }
          ],
          "scatter3d": [
           {
            "line": {
             "colorbar": {
              "outlinewidth": 0,
              "ticks": ""
             }
            },
            "marker": {
             "colorbar": {
              "outlinewidth": 0,
              "ticks": ""
             }
            },
            "type": "scatter3d"
           }
          ],
          "scattercarpet": [
           {
            "marker": {
             "colorbar": {
              "outlinewidth": 0,
              "ticks": ""
             }
            },
            "type": "scattercarpet"
           }
          ],
          "scattergeo": [
           {
            "marker": {
             "colorbar": {
              "outlinewidth": 0,
              "ticks": ""
             }
            },
            "type": "scattergeo"
           }
          ],
          "scattergl": [
           {
            "marker": {
             "colorbar": {
              "outlinewidth": 0,
              "ticks": ""
             }
            },
            "type": "scattergl"
           }
          ],
          "scattermap": [
           {
            "marker": {
             "colorbar": {
              "outlinewidth": 0,
              "ticks": ""
             }
            },
            "type": "scattermap"
           }
          ],
          "scattermapbox": [
           {
            "marker": {
             "colorbar": {
              "outlinewidth": 0,
              "ticks": ""
             }
            },
            "type": "scattermapbox"
           }
          ],
          "scatterpolar": [
           {
            "marker": {
             "colorbar": {
              "outlinewidth": 0,
              "ticks": ""
             }
            },
            "type": "scatterpolar"
           }
          ],
          "scatterpolargl": [
           {
            "marker": {
             "colorbar": {
              "outlinewidth": 0,
              "ticks": ""
             }
            },
            "type": "scatterpolargl"
           }
          ],
          "scatterternary": [
           {
            "marker": {
             "colorbar": {
              "outlinewidth": 0,
              "ticks": ""
             }
            },
            "type": "scatterternary"
           }
          ],
          "surface": [
           {
            "colorbar": {
             "outlinewidth": 0,
             "ticks": ""
            },
            "colorscale": [
             [
              0,
              "#0d0887"
             ],
             [
              0.1111111111111111,
              "#46039f"
             ],
             [
              0.2222222222222222,
              "#7201a8"
             ],
             [
              0.3333333333333333,
              "#9c179e"
             ],
             [
              0.4444444444444444,
              "#bd3786"
             ],
             [
              0.5555555555555556,
              "#d8576b"
             ],
             [
              0.6666666666666666,
              "#ed7953"
             ],
             [
              0.7777777777777778,
              "#fb9f3a"
             ],
             [
              0.8888888888888888,
              "#fdca26"
             ],
             [
              1,
              "#f0f921"
             ]
            ],
            "type": "surface"
           }
          ],
          "table": [
           {
            "cells": {
             "fill": {
              "color": "#EBF0F8"
             },
             "line": {
              "color": "white"
             }
            },
            "header": {
             "fill": {
              "color": "#C8D4E3"
             },
             "line": {
              "color": "white"
             }
            },
            "type": "table"
           }
          ]
         },
         "layout": {
          "annotationdefaults": {
           "arrowcolor": "#2a3f5f",
           "arrowhead": 0,
           "arrowwidth": 1
          },
          "autotypenumbers": "strict",
          "coloraxis": {
           "colorbar": {
            "outlinewidth": 0,
            "ticks": ""
           }
          },
          "colorscale": {
           "diverging": [
            [
             0,
             "#8e0152"
            ],
            [
             0.1,
             "#c51b7d"
            ],
            [
             0.2,
             "#de77ae"
            ],
            [
             0.3,
             "#f1b6da"
            ],
            [
             0.4,
             "#fde0ef"
            ],
            [
             0.5,
             "#f7f7f7"
            ],
            [
             0.6,
             "#e6f5d0"
            ],
            [
             0.7,
             "#b8e186"
            ],
            [
             0.8,
             "#7fbc41"
            ],
            [
             0.9,
             "#4d9221"
            ],
            [
             1,
             "#276419"
            ]
           ],
           "sequential": [
            [
             0,
             "#0d0887"
            ],
            [
             0.1111111111111111,
             "#46039f"
            ],
            [
             0.2222222222222222,
             "#7201a8"
            ],
            [
             0.3333333333333333,
             "#9c179e"
            ],
            [
             0.4444444444444444,
             "#bd3786"
            ],
            [
             0.5555555555555556,
             "#d8576b"
            ],
            [
             0.6666666666666666,
             "#ed7953"
            ],
            [
             0.7777777777777778,
             "#fb9f3a"
            ],
            [
             0.8888888888888888,
             "#fdca26"
            ],
            [
             1,
             "#f0f921"
            ]
           ],
           "sequentialminus": [
            [
             0,
             "#0d0887"
            ],
            [
             0.1111111111111111,
             "#46039f"
            ],
            [
             0.2222222222222222,
             "#7201a8"
            ],
            [
             0.3333333333333333,
             "#9c179e"
            ],
            [
             0.4444444444444444,
             "#bd3786"
            ],
            [
             0.5555555555555556,
             "#d8576b"
            ],
            [
             0.6666666666666666,
             "#ed7953"
            ],
            [
             0.7777777777777778,
             "#fb9f3a"
            ],
            [
             0.8888888888888888,
             "#fdca26"
            ],
            [
             1,
             "#f0f921"
            ]
           ]
          },
          "colorway": [
           "#636efa",
           "#EF553B",
           "#00cc96",
           "#ab63fa",
           "#FFA15A",
           "#19d3f3",
           "#FF6692",
           "#B6E880",
           "#FF97FF",
           "#FECB52"
          ],
          "font": {
           "color": "#2a3f5f"
          },
          "geo": {
           "bgcolor": "white",
           "lakecolor": "white",
           "landcolor": "#E5ECF6",
           "showlakes": true,
           "showland": true,
           "subunitcolor": "white"
          },
          "hoverlabel": {
           "align": "left"
          },
          "hovermode": "closest",
          "mapbox": {
           "style": "light"
          },
          "paper_bgcolor": "white",
          "plot_bgcolor": "#E5ECF6",
          "polar": {
           "angularaxis": {
            "gridcolor": "white",
            "linecolor": "white",
            "ticks": ""
           },
           "bgcolor": "#E5ECF6",
           "radialaxis": {
            "gridcolor": "white",
            "linecolor": "white",
            "ticks": ""
           }
          },
          "scene": {
           "xaxis": {
            "backgroundcolor": "#E5ECF6",
            "gridcolor": "white",
            "gridwidth": 2,
            "linecolor": "white",
            "showbackground": true,
            "ticks": "",
            "zerolinecolor": "white"
           },
           "yaxis": {
            "backgroundcolor": "#E5ECF6",
            "gridcolor": "white",
            "gridwidth": 2,
            "linecolor": "white",
            "showbackground": true,
            "ticks": "",
            "zerolinecolor": "white"
           },
           "zaxis": {
            "backgroundcolor": "#E5ECF6",
            "gridcolor": "white",
            "gridwidth": 2,
            "linecolor": "white",
            "showbackground": true,
            "ticks": "",
            "zerolinecolor": "white"
           }
          },
          "shapedefaults": {
           "line": {
            "color": "#2a3f5f"
           }
          },
          "ternary": {
           "aaxis": {
            "gridcolor": "white",
            "linecolor": "white",
            "ticks": ""
           },
           "baxis": {
            "gridcolor": "white",
            "linecolor": "white",
            "ticks": ""
           },
           "bgcolor": "#E5ECF6",
           "caxis": {
            "gridcolor": "white",
            "linecolor": "white",
            "ticks": ""
           }
          },
          "title": {
           "x": 0.05
          },
          "xaxis": {
           "automargin": true,
           "gridcolor": "white",
           "linecolor": "white",
           "ticks": "",
           "title": {
            "standoff": 15
           },
           "zerolinecolor": "white",
           "zerolinewidth": 2
          },
          "yaxis": {
           "automargin": true,
           "gridcolor": "white",
           "linecolor": "white",
           "ticks": "",
           "title": {
            "standoff": 15
           },
           "zerolinecolor": "white",
           "zerolinewidth": 2
          }
         }
        },
        "title": {
         "text": "Sequence length frequency"
        },
        "xaxis": {
         "anchor": "y",
         "domain": [
          0,
          1
         ],
         "title": {
          "text": "value"
         }
        },
        "yaxis": {
         "anchor": "x",
         "domain": [
          0,
          1
         ],
         "title": {
          "text": "count"
         }
        }
       }
      }
     },
     "metadata": {},
     "output_type": "display_data"
    }
   ],
   "source": [
    "px.histogram(\n",
    "    (\n",
    "        df\n",
    "        .groupby(\"sequence_id\", observed=True)\n",
    "        .size()\n",
    "    ),\n",
    "    title=\"Sequence length frequency\",\n",
    ")"
   ]
  },
  {
   "cell_type": "markdown",
   "id": "24e72f4e",
   "metadata": {},
   "source": [
    "Second(to avoid always look at the first one) Train/validation split sequences lengths comparaison."
   ]
  },
  {
   "cell_type": "code",
   "execution_count": 12,
   "id": "1a39bfce",
   "metadata": {},
   "outputs": [
    {
     "data": {
      "application/vnd.plotly.v1+json": {
       "config": {
        "plotlyServerURL": "https://plot.ly"
       },
       "data": [
        {
         "bingroup": "x",
         "hovertemplate": "set=Train<br>length=%{x}<br>count=%{y}<extra></extra>",
         "legendgroup": "Train",
         "marker": {
          "color": "#636efa",
          "opacity": 0.5,
          "pattern": {
           "shape": ""
          }
         },
         "name": "Train",
         "nbinsx": 50,
         "opacity": 0.8,
         "orientation": "v",
         "showlegend": true,
         "type": "histogram",
         "x": {
          "bdata": "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",
          "dtype": "i2"
         },
         "xaxis": "x",
         "yaxis": "y"
        },
        {
         "bingroup": "x",
         "hovertemplate": "set=Validation<br>length=%{x}<br>count=%{y}<extra></extra>",
         "legendgroup": "Validation",
         "marker": {
          "color": "#EF553B",
          "opacity": 0.5,
          "pattern": {
           "shape": ""
          }
         },
         "name": "Validation",
         "nbinsx": 50,
         "opacity": 0.8,
         "orientation": "v",
         "showlegend": true,
         "type": "histogram",
         "x": {
          "bdata": "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",
          "dtype": "i2"
         },
         "xaxis": "x",
         "yaxis": "y"
        }
       ],
       "layout": {
        "barmode": "overlay",
        "legend": {
         "title": {
          "text": "set"
         },
         "tracegroupgap": 0
        },
        "template": {
         "data": {
          "bar": [
           {
            "error_x": {
             "color": "#2a3f5f"
            },
            "error_y": {
             "color": "#2a3f5f"
            },
            "marker": {
             "line": {
              "color": "#E5ECF6",
              "width": 0.5
             },
             "pattern": {
              "fillmode": "overlay",
              "size": 10,
              "solidity": 0.2
             }
            },
            "type": "bar"
           }
          ],
          "barpolar": [
           {
            "marker": {
             "line": {
              "color": "#E5ECF6",
              "width": 0.5
             },
             "pattern": {
              "fillmode": "overlay",
              "size": 10,
              "solidity": 0.2
             }
            },
            "type": "barpolar"
           }
          ],
          "carpet": [
           {
            "aaxis": {
             "endlinecolor": "#2a3f5f",
             "gridcolor": "white",
             "linecolor": "white",
             "minorgridcolor": "white",
             "startlinecolor": "#2a3f5f"
            },
            "baxis": {
             "endlinecolor": "#2a3f5f",
             "gridcolor": "white",
             "linecolor": "white",
             "minorgridcolor": "white",
             "startlinecolor": "#2a3f5f"
            },
            "type": "carpet"
           }
          ],
          "choropleth": [
           {
            "colorbar": {
             "outlinewidth": 0,
             "ticks": ""
            },
            "type": "choropleth"
           }
          ],
          "contour": [
           {
            "colorbar": {
             "outlinewidth": 0,
             "ticks": ""
            },
            "colorscale": [
             [
              0,
              "#0d0887"
             ],
             [
              0.1111111111111111,
              "#46039f"
             ],
             [
              0.2222222222222222,
              "#7201a8"
             ],
             [
              0.3333333333333333,
              "#9c179e"
             ],
             [
              0.4444444444444444,
              "#bd3786"
             ],
             [
              0.5555555555555556,
              "#d8576b"
             ],
             [
              0.6666666666666666,
              "#ed7953"
             ],
             [
              0.7777777777777778,
              "#fb9f3a"
             ],
             [
              0.8888888888888888,
              "#fdca26"
             ],
             [
              1,
              "#f0f921"
             ]
            ],
            "type": "contour"
           }
          ],
          "contourcarpet": [
           {
            "colorbar": {
             "outlinewidth": 0,
             "ticks": ""
            },
            "type": "contourcarpet"
           }
          ],
          "heatmap": [
           {
            "colorbar": {
             "outlinewidth": 0,
             "ticks": ""
            },
            "colorscale": [
             [
              0,
              "#0d0887"
             ],
             [
              0.1111111111111111,
              "#46039f"
             ],
             [
              0.2222222222222222,
              "#7201a8"
             ],
             [
              0.3333333333333333,
              "#9c179e"
             ],
             [
              0.4444444444444444,
              "#bd3786"
             ],
             [
              0.5555555555555556,
              "#d8576b"
             ],
             [
              0.6666666666666666,
              "#ed7953"
             ],
             [
              0.7777777777777778,
              "#fb9f3a"
             ],
             [
              0.8888888888888888,
              "#fdca26"
             ],
             [
              1,
              "#f0f921"
             ]
            ],
            "type": "heatmap"
           }
          ],
          "histogram": [
           {
            "marker": {
             "pattern": {
              "fillmode": "overlay",
              "size": 10,
              "solidity": 0.2
             }
            },
            "type": "histogram"
           }
          ],
          "histogram2d": [
           {
            "colorbar": {
             "outlinewidth": 0,
             "ticks": ""
            },
            "colorscale": [
             [
              0,
              "#0d0887"
             ],
             [
              0.1111111111111111,
              "#46039f"
             ],
             [
              0.2222222222222222,
              "#7201a8"
             ],
             [
              0.3333333333333333,
              "#9c179e"
             ],
             [
              0.4444444444444444,
              "#bd3786"
             ],
             [
              0.5555555555555556,
              "#d8576b"
             ],
             [
              0.6666666666666666,
              "#ed7953"
             ],
             [
              0.7777777777777778,
              "#fb9f3a"
             ],
             [
              0.8888888888888888,
              "#fdca26"
             ],
             [
              1,
              "#f0f921"
             ]
            ],
            "type": "histogram2d"
           }
          ],
          "histogram2dcontour": [
           {
            "colorbar": {
             "outlinewidth": 0,
             "ticks": ""
            },
            "colorscale": [
             [
              0,
              "#0d0887"
             ],
             [
              0.1111111111111111,
              "#46039f"
             ],
             [
              0.2222222222222222,
              "#7201a8"
             ],
             [
              0.3333333333333333,
              "#9c179e"
             ],
             [
              0.4444444444444444,
              "#bd3786"
             ],
             [
              0.5555555555555556,
              "#d8576b"
             ],
             [
              0.6666666666666666,
              "#ed7953"
             ],
             [
              0.7777777777777778,
              "#fb9f3a"
             ],
             [
              0.8888888888888888,
              "#fdca26"
             ],
             [
              1,
              "#f0f921"
             ]
            ],
            "type": "histogram2dcontour"
           }
          ],
          "mesh3d": [
           {
            "colorbar": {
             "outlinewidth": 0,
             "ticks": ""
            },
            "type": "mesh3d"
           }
          ],
          "parcoords": [
           {
            "line": {
             "colorbar": {
              "outlinewidth": 0,
              "ticks": ""
             }
            },
            "type": "parcoords"
           }
          ],
          "pie": [
           {
            "automargin": true,
            "type": "pie"
           }
          ],
          "scatter": [
           {
            "fillpattern": {
             "fillmode": "overlay",
             "size": 10,
             "solidity": 0.2
            },
            "type": "scatter"
           }
          ],
          "scatter3d": [
           {
            "line": {
             "colorbar": {
              "outlinewidth": 0,
              "ticks": ""
             }
            },
            "marker": {
             "colorbar": {
              "outlinewidth": 0,
              "ticks": ""
             }
            },
            "type": "scatter3d"
           }
          ],
          "scattercarpet": [
           {
            "marker": {
             "colorbar": {
              "outlinewidth": 0,
              "ticks": ""
             }
            },
            "type": "scattercarpet"
           }
          ],
          "scattergeo": [
           {
            "marker": {
             "colorbar": {
              "outlinewidth": 0,
              "ticks": ""
             }
            },
            "type": "scattergeo"
           }
          ],
          "scattergl": [
           {
            "marker": {
             "colorbar": {
              "outlinewidth": 0,
              "ticks": ""
             }
            },
            "type": "scattergl"
           }
          ],
          "scattermap": [
           {
            "marker": {
             "colorbar": {
              "outlinewidth": 0,
              "ticks": ""
             }
            },
            "type": "scattermap"
           }
          ],
          "scattermapbox": [
           {
            "marker": {
             "colorbar": {
              "outlinewidth": 0,
              "ticks": ""
             }
            },
            "type": "scattermapbox"
           }
          ],
          "scatterpolar": [
           {
            "marker": {
             "colorbar": {
              "outlinewidth": 0,
              "ticks": ""
             }
            },
            "type": "scatterpolar"
           }
          ],
          "scatterpolargl": [
           {
            "marker": {
             "colorbar": {
              "outlinewidth": 0,
              "ticks": ""
             }
            },
            "type": "scatterpolargl"
           }
          ],
          "scatterternary": [
           {
            "marker": {
             "colorbar": {
              "outlinewidth": 0,
              "ticks": ""
             }
            },
            "type": "scatterternary"
           }
          ],
          "surface": [
           {
            "colorbar": {
             "outlinewidth": 0,
             "ticks": ""
            },
            "colorscale": [
             [
              0,
              "#0d0887"
             ],
             [
              0.1111111111111111,
              "#46039f"
             ],
             [
              0.2222222222222222,
              "#7201a8"
             ],
             [
              0.3333333333333333,
              "#9c179e"
             ],
             [
              0.4444444444444444,
              "#bd3786"
             ],
             [
              0.5555555555555556,
              "#d8576b"
             ],
             [
              0.6666666666666666,
              "#ed7953"
             ],
             [
              0.7777777777777778,
              "#fb9f3a"
             ],
             [
              0.8888888888888888,
              "#fdca26"
             ],
             [
              1,
              "#f0f921"
             ]
            ],
            "type": "surface"
           }
          ],
          "table": [
           {
            "cells": {
             "fill": {
              "color": "#EBF0F8"
             },
             "line": {
              "color": "white"
             }
            },
            "header": {
             "fill": {
              "color": "#C8D4E3"
             },
             "line": {
              "color": "white"
             }
            },
            "type": "table"
           }
          ]
         },
         "layout": {
          "annotationdefaults": {
           "arrowcolor": "#2a3f5f",
           "arrowhead": 0,
           "arrowwidth": 1
          },
          "autotypenumbers": "strict",
          "coloraxis": {
           "colorbar": {
            "outlinewidth": 0,
            "ticks": ""
           }
          },
          "colorscale": {
           "diverging": [
            [
             0,
             "#8e0152"
            ],
            [
             0.1,
             "#c51b7d"
            ],
            [
             0.2,
             "#de77ae"
            ],
            [
             0.3,
             "#f1b6da"
            ],
            [
             0.4,
             "#fde0ef"
            ],
            [
             0.5,
             "#f7f7f7"
            ],
            [
             0.6,
             "#e6f5d0"
            ],
            [
             0.7,
             "#b8e186"
            ],
            [
             0.8,
             "#7fbc41"
            ],
            [
             0.9,
             "#4d9221"
            ],
            [
             1,
             "#276419"
            ]
           ],
           "sequential": [
            [
             0,
             "#0d0887"
            ],
            [
             0.1111111111111111,
             "#46039f"
            ],
            [
             0.2222222222222222,
             "#7201a8"
            ],
            [
             0.3333333333333333,
             "#9c179e"
            ],
            [
             0.4444444444444444,
             "#bd3786"
            ],
            [
             0.5555555555555556,
             "#d8576b"
            ],
            [
             0.6666666666666666,
             "#ed7953"
            ],
            [
             0.7777777777777778,
             "#fb9f3a"
            ],
            [
             0.8888888888888888,
             "#fdca26"
            ],
            [
             1,
             "#f0f921"
            ]
           ],
           "sequentialminus": [
            [
             0,
             "#0d0887"
            ],
            [
             0.1111111111111111,
             "#46039f"
            ],
            [
             0.2222222222222222,
             "#7201a8"
            ],
            [
             0.3333333333333333,
             "#9c179e"
            ],
            [
             0.4444444444444444,
             "#bd3786"
            ],
            [
             0.5555555555555556,
             "#d8576b"
            ],
            [
             0.6666666666666666,
             "#ed7953"
            ],
            [
             0.7777777777777778,
             "#fb9f3a"
            ],
            [
             0.8888888888888888,
             "#fdca26"
            ],
            [
             1,
             "#f0f921"
            ]
           ]
          },
          "colorway": [
           "#636efa",
           "#EF553B",
           "#00cc96",
           "#ab63fa",
           "#FFA15A",
           "#19d3f3",
           "#FF6692",
           "#B6E880",
           "#FF97FF",
           "#FECB52"
          ],
          "font": {
           "color": "#2a3f5f"
          },
          "geo": {
           "bgcolor": "white",
           "lakecolor": "white",
           "landcolor": "#E5ECF6",
           "showlakes": true,
           "showland": true,
           "subunitcolor": "white"
          },
          "hoverlabel": {
           "align": "left"
          },
          "hovermode": "closest",
          "mapbox": {
           "style": "light"
          },
          "paper_bgcolor": "white",
          "plot_bgcolor": "#E5ECF6",
          "polar": {
           "angularaxis": {
            "gridcolor": "white",
            "linecolor": "white",
            "ticks": ""
           },
           "bgcolor": "#E5ECF6",
           "radialaxis": {
            "gridcolor": "white",
            "linecolor": "white",
            "ticks": ""
           }
          },
          "scene": {
           "xaxis": {
            "backgroundcolor": "#E5ECF6",
            "gridcolor": "white",
            "gridwidth": 2,
            "linecolor": "white",
            "showbackground": true,
            "ticks": "",
            "zerolinecolor": "white"
           },
           "yaxis": {
            "backgroundcolor": "#E5ECF6",
            "gridcolor": "white",
            "gridwidth": 2,
            "linecolor": "white",
            "showbackground": true,
            "ticks": "",
            "zerolinecolor": "white"
           },
           "zaxis": {
            "backgroundcolor": "#E5ECF6",
            "gridcolor": "white",
            "gridwidth": 2,
            "linecolor": "white",
            "showbackground": true,
            "ticks": "",
            "zerolinecolor": "white"
           }
          },
          "shapedefaults": {
           "line": {
            "color": "#2a3f5f"
           }
          },
          "ternary": {
           "aaxis": {
            "gridcolor": "white",
            "linecolor": "white",
            "ticks": ""
           },
           "baxis": {
            "gridcolor": "white",
            "linecolor": "white",
            "ticks": ""
           },
           "bgcolor": "#E5ECF6",
           "caxis": {
            "gridcolor": "white",
            "linecolor": "white",
            "ticks": ""
           }
          },
          "title": {
           "x": 0.05
          },
          "xaxis": {
           "automargin": true,
           "gridcolor": "white",
           "linecolor": "white",
           "ticks": "",
           "title": {
            "standoff": 15
           },
           "zerolinecolor": "white",
           "zerolinewidth": 2
          },
          "yaxis": {
           "automargin": true,
           "gridcolor": "white",
           "linecolor": "white",
           "ticks": "",
           "title": {
            "standoff": 15
           },
           "zerolinecolor": "white",
           "zerolinewidth": 2
          }
         }
        },
        "title": {
         "text": "Sequence Length Distribution: Train vs Validation"
        },
        "xaxis": {
         "anchor": "y",
         "domain": [
          0,
          1
         ],
         "title": {
          "text": "length"
         }
        },
        "yaxis": {
         "anchor": "x",
         "domain": [
          0,
          1
         ],
         "title": {
          "text": "count"
         }
        }
       }
      }
     },
     "metadata": {},
     "output_type": "display_data"
    }
   ],
   "source": [
    "def get_set_sequences_lengths(set:DF, name:str) -> DF:\n",
    "    return (\n",
    "        set\n",
    "        .groupby(\"sequence_id\", observed=True)\n",
    "        .size()\n",
    "        .reset_index(name=\"length\")\n",
    "        .assign(set=name)\n",
    "    )\n",
    "\n",
    "full_se_lengths = pd.concat((\n",
    "    get_set_sequences_lengths(folds[2][0], \"Train\"),\n",
    "    get_set_sequences_lengths(folds[2][1], \"Validation\"),\n",
    "))\n",
    "\n",
    "fig = px.histogram(\n",
    "    full_se_lengths,\n",
    "    x=\"length\",\n",
    "    color=\"set\",\n",
    "    barmode=\"overlay\",  # or 'group' if you want side-by-side bars\n",
    "    nbins=50,           # adjust bin size if needed\n",
    "    title=\"Sequence Length Distribution: Train vs Validation\"\n",
    ")\n",
    "\n",
    "fig.update_traces(opacity=0.8)  # better visibility with overlay\n",
    "fig.show()\n"
   ]
  },
  {
   "cell_type": "code",
   "execution_count": 13,
   "id": "c1d46756",
   "metadata": {},
   "outputs": [
    {
     "name": "stdout",
     "output_type": "stream",
     "text": [
      "train normed sequence len: 127\n",
      "validation normed sequence len: 124\n",
      "\n",
      "train normed sequence len: 129\n",
      "validation normed sequence len: 124\n",
      "\n",
      "train normed sequence len: 124\n",
      "validation normed sequence len: 136\n",
      "\n",
      "train normed sequence len: 126\n",
      "validation normed sequence len: 127\n",
      "\n",
      "train normed sequence len: 125\n",
      "validation normed sequence len: 128\n",
      "\n"
     ]
    }
   ],
   "source": [
    "for train, val in folds:\n",
    "    print(\"train normed sequence len:\", int(train.groupby(\"sequence_id\", observed=True).size().quantile(SEQUENCE_NORMED_LEN_QUANTILE)))\n",
    "    print(\"validation normed sequence len:\", int(val.groupby(\"sequence_id\", observed=True).size().quantile(SEQUENCE_NORMED_LEN_QUANTILE)))\n",
    "    print()"
   ]
  },
  {
   "cell_type": "markdown",
   "id": "c89d5f21",
   "metadata": {},
   "source": [
    "#### Sequence length norm implementation"
   ]
  },
  {
   "cell_type": "code",
   "execution_count": 14,
   "id": "5d128055",
   "metadata": {},
   "outputs": [
    {
     "data": {
      "application/vnd.jupyter.widget-view+json": {
       "model_id": "2b06fe92a37b4b498942694cc7cee1b4",
       "version_major": 2,
       "version_minor": 0
      },
      "text/plain": [
       "  0%|          | 0/6521 [00:00<?, ?it/s]"
      ]
     },
     "metadata": {},
     "output_type": "display_data"
    },
    {
     "data": {
      "application/vnd.jupyter.widget-view+json": {
       "model_id": "99035d079619450abe8dbb09ae0a5add",
       "version_major": 2,
       "version_minor": 0
      },
      "text/plain": [
       "  0%|          | 0/1630 [00:00<?, ?it/s]"
      ]
     },
     "metadata": {},
     "output_type": "display_data"
    },
    {
     "data": {
      "application/vnd.jupyter.widget-view+json": {
       "model_id": "081e102658474cfcb0663b7c21edc5c3",
       "version_major": 2,
       "version_minor": 0
      },
      "text/plain": [
       "  0%|          | 0/6521 [00:00<?, ?it/s]"
      ]
     },
     "metadata": {},
     "output_type": "display_data"
    },
    {
     "data": {
      "application/vnd.jupyter.widget-view+json": {
       "model_id": "8dd79df6aec845dcaba8dda4cffe7182",
       "version_major": 2,
       "version_minor": 0
      },
      "text/plain": [
       "  0%|          | 0/1630 [00:00<?, ?it/s]"
      ]
     },
     "metadata": {},
     "output_type": "display_data"
    },
    {
     "data": {
      "application/vnd.jupyter.widget-view+json": {
       "model_id": "76194fb713cd4e2fb7e56f6638141910",
       "version_major": 2,
       "version_minor": 0
      },
      "text/plain": [
       "  0%|          | 0/6521 [00:00<?, ?it/s]"
      ]
     },
     "metadata": {},
     "output_type": "display_data"
    },
    {
     "data": {
      "application/vnd.jupyter.widget-view+json": {
       "model_id": "a3cc6571b5484ab5b3d420fb08dcc51d",
       "version_major": 2,
       "version_minor": 0
      },
      "text/plain": [
       "  0%|          | 0/1630 [00:00<?, ?it/s]"
      ]
     },
     "metadata": {},
     "output_type": "display_data"
    },
    {
     "data": {
      "application/vnd.jupyter.widget-view+json": {
       "model_id": "fa034de2b36647f681dad1df73185f29",
       "version_major": 2,
       "version_minor": 0
      },
      "text/plain": [
       "  0%|          | 0/6521 [00:00<?, ?it/s]"
      ]
     },
     "metadata": {},
     "output_type": "display_data"
    },
    {
     "data": {
      "application/vnd.jupyter.widget-view+json": {
       "model_id": "907dcf4e33bc438f847d237636c48983",
       "version_major": 2,
       "version_minor": 0
      },
      "text/plain": [
       "  0%|          | 0/1630 [00:00<?, ?it/s]"
      ]
     },
     "metadata": {},
     "output_type": "display_data"
    },
    {
     "data": {
      "application/vnd.jupyter.widget-view+json": {
       "model_id": "bc365dbaff4e46f58083fcea19936f81",
       "version_major": 2,
       "version_minor": 0
      },
      "text/plain": [
       "  0%|          | 0/6521 [00:00<?, ?it/s]"
      ]
     },
     "metadata": {},
     "output_type": "display_data"
    },
    {
     "data": {
      "application/vnd.jupyter.widget-view+json": {
       "model_id": "c8ad3c1e905f4df8b5264d9016cb373a",
       "version_major": 2,
       "version_minor": 0
      },
      "text/plain": [
       "  0%|          | 0/1630 [00:00<?, ?it/s]"
      ]
     },
     "metadata": {},
     "output_type": "display_data"
    }
   ],
   "source": [
    "from tqdm.notebook import tqdm\n",
    "\n",
    "gesture_cols = df[\"gesture\"].unique()\n",
    "\n",
    "def length_normed_sequence_feat_arr(sequence: DF, normed_sequence_len: int) -> ndarray:\n",
    "    features = (\n",
    "        sequence\n",
    "        .loc[:, feature_cols]\n",
    "        .values\n",
    "    )\n",
    "    len_diff = abs(normed_sequence_len - len(features))\n",
    "    if len(features) < normed_sequence_len:\n",
    "        padded_features = np.pad(\n",
    "            features,\n",
    "            ((len_diff // 2 + len_diff % 2, len_diff // 2), (0, 0)),\n",
    "        )\n",
    "        return padded_features\n",
    "    elif len(features) > normed_sequence_len:\n",
    "        return features[len_diff // 2:-len_diff // 2]\n",
    "    else:\n",
    "        return features\n",
    "\n",
    "def df_to_ndarray(df:DF, normed_sequence_len:int) -> np.ndarray:\n",
    "    sequence_it = df.groupby(\"sequence_id\", observed=True, as_index=False)\n",
    "    x = np.empty(\n",
    "        shape=(len(sequence_it), normed_sequence_len, len(feature_cols)),\n",
    "        dtype=\"float32\"\n",
    "    )\n",
    "    y = np.empty(\n",
    "        shape=(len(sequence_it), df[\"gesture\"].nunique()),\n",
    "        dtype=\"float32\"\n",
    "    )\n",
    "    for sequence_idx, (_, sequence) in tqdm(enumerate(sequence_it), total=len(sequence_it)):\n",
    "        normed_seq_feat_arr = length_normed_sequence_feat_arr(sequence, normed_sequence_len)\n",
    "        x[sequence_idx] = normed_seq_feat_arr\n",
    "        # Take the first value as they are(or at least should be) all the same in a single sequence\n",
    "        y[sequence_idx] = sequence[gesture_cols].iloc[0].values\n",
    "\n",
    "    return x, y\n",
    "\n",
    "def get_normed_seq_len(dataset:DF) -> int:\n",
    "    return int(\n",
    "        dataset\n",
    "        .groupby(\"sequence_id\", observed=True)\n",
    "        .size()\n",
    "        .quantile(SEQUENCE_NORMED_LEN_QUANTILE)\n",
    "    )\n",
    "\n",
    "def fold_dfs_to_ndarrays(train:DF, validation:DF) -> tuple[ndarray, ndarray, ndarray, ndarray]:\n",
    "    \"\"\"\n",
    "    Returns:\n",
    "        (train X, train Y, validation X, validation Y)\n",
    "    \"\"\"\n",
    "    normed_sequence_len = get_normed_seq_len(train)\n",
    "    return (\n",
    "        *df_to_ndarray(train, normed_sequence_len),\n",
    "        *df_to_ndarray(validation, normed_sequence_len),\n",
    "    )\n",
    "\n",
    "folds_arrs = list(starmap(fold_dfs_to_ndarrays, folds))"
   ]
  },
  {
   "cell_type": "code",
   "execution_count": 15,
   "id": "80490c33",
   "metadata": {},
   "outputs": [
    {
     "data": {
      "application/vnd.jupyter.widget-view+json": {
       "model_id": "a52cc6aad9ca4f35ad96b9d32f101460",
       "version_major": 2,
       "version_minor": 0
      },
      "text/plain": [
       "  0%|          | 0/8151 [00:00<?, ?it/s]"
      ]
     },
     "metadata": {},
     "output_type": "display_data"
    }
   ],
   "source": [
    "full_dataset_sequence_length_norm = get_normed_seq_len(df)\n",
    "full_x, full_y = df_to_ndarray(df, full_dataset_sequence_length_norm)"
   ]
  },
  {
   "cell_type": "markdown",
   "id": "b99f60c2",
   "metadata": {},
   "source": [
    "## Create dataset"
   ]
  },
  {
   "cell_type": "code",
   "execution_count": 19,
   "id": "a46b79b2",
   "metadata": {},
   "outputs": [],
   "source": [
    "# Clean dataset directory if it already exists\n",
    "! rm -rf preprocessed_dataset\n",
    "# Create dataset direcory\n",
    "! mkdir preprocessed_dataset\n",
    "# Save folds\n",
    "for fold_i, (train_x, train_y, val_x, val_y) in enumerate(folds_arrs):\n",
    "    fold_dir_path = join(\"preprocessed_dataset\", f\"fold_{fold_i}\")\n",
    "    os.makedirs(fold_dir_path)\n",
    "    # save features (X)\n",
    "    np.save(join(fold_dir_path, \"train_X.npy\"), train_x, allow_pickle=False)\n",
    "    # Save targets (Y)\n",
    "    np.save(join(fold_dir_path, \"train_Y.npy\"), train_y, allow_pickle=False)\n",
    "    # save features (X)\n",
    "    np.save(join(fold_dir_path, \"validation_X.npy\"), val_x, allow_pickle=False)\n",
    "    # Save targets (Y)\n",
    "    np.save(join(fold_dir_path, \"validation_Y.npy\"), val_y, allow_pickle=False)\n",
    "# Save full dataset\n",
    "full_dataset_dir_path = \"preprocessed_dataset/full_dataset\"\n",
    "os.makedirs(full_dataset_dir_path)\n",
    "np.save(join(full_dataset_dir_path, \"X.npy\"), full_x, allow_pickle=False)\n",
    "np.save(join(full_dataset_dir_path, \"Y.npy\"), full_y, allow_pickle=False)\n",
    "# Save names of targets for inference\n",
    "with open(\"preprocessed_dataset/targets_names.json\", \"w\") as fp:\n",
    "    json.dump(one_hot_target.columns.to_list(), fp, indent=1)"
   ]
  },
  {
   "cell_type": "markdown",
   "id": "b2775c75",
   "metadata": {},
   "source": [
    "## Dataset upload\n",
    "Optionally upload the dataset to kaggle."
   ]
  },
  {
   "cell_type": "code",
   "execution_count": 18,
   "id": "d0b40895",
   "metadata": {},
   "outputs": [
    {
     "name": "stdout",
     "output_type": "stream",
     "text": [
      "Kaggle credentials successfully validated.\n",
      "Uploading Dataset https://www.kaggle.com/datasets/mauroabidalcarrer/prepocessed-cmi-2025 ...\n",
      "Starting upload for file preprocessed_dataset/full_dataset/X.npy\n"
     ]
    },
    {
     "name": "stderr",
     "output_type": "stream",
     "text": [
      "Uploading: 100%|██████████| 70.4M/70.4M [00:45<00:00, 1.56MB/s]"
     ]
    },
    {
     "name": "stdout",
     "output_type": "stream",
     "text": [
      "Upload successful: preprocessed_dataset/full_dataset/X.npy (67MB)\n",
      "Starting upload for file preprocessed_dataset/full_dataset/Y.npy\n"
     ]
    },
    {
     "name": "stderr",
     "output_type": "stream",
     "text": [
      "\n",
      "Uploading: 100%|██████████| 587k/587k [00:01<00:00, 568kB/s]  "
     ]
    },
    {
     "name": "stdout",
     "output_type": "stream",
     "text": [
      "Upload successful: preprocessed_dataset/full_dataset/Y.npy (573KB)\n",
      "Starting upload for file preprocessed_dataset/fold_4/train_X.npy\n"
     ]
    },
    {
     "name": "stderr",
     "output_type": "stream",
     "text": [
      "\n",
      "Uploading: 100%|██████████| 55.4M/55.4M [00:23<00:00, 2.32MB/s]"
     ]
    },
    {
     "name": "stdout",
     "output_type": "stream",
     "text": [
      "Upload successful: preprocessed_dataset/fold_4/train_X.npy (53MB)\n",
      "Starting upload for file preprocessed_dataset/fold_4/validation_Y.npy\n"
     ]
    },
    {
     "name": "stderr",
     "output_type": "stream",
     "text": [
      "\n",
      "Uploading: 100%|██████████| 117k/117k [00:00<00:00, 185kB/s] "
     ]
    },
    {
     "name": "stdout",
     "output_type": "stream",
     "text": [
      "Upload successful: preprocessed_dataset/fold_4/validation_Y.npy (115KB)\n",
      "Starting upload for file preprocessed_dataset/fold_4/validation_X.npy\n"
     ]
    },
    {
     "name": "stderr",
     "output_type": "stream",
     "text": [
      "\n",
      "Uploading: 100%|██████████| 13.9M/13.9M [00:05<00:00, 2.41MB/s]"
     ]
    },
    {
     "name": "stdout",
     "output_type": "stream",
     "text": [
      "Upload successful: preprocessed_dataset/fold_4/validation_X.npy (13MB)\n",
      "Starting upload for file preprocessed_dataset/fold_4/train_Y.npy\n"
     ]
    },
    {
     "name": "stderr",
     "output_type": "stream",
     "text": [
      "\n",
      "Uploading: 100%|██████████| 470k/470k [00:00<00:00, 563kB/s] "
     ]
    },
    {
     "name": "stdout",
     "output_type": "stream",
     "text": [
      "Upload successful: preprocessed_dataset/fold_4/train_Y.npy (459KB)\n",
      "Starting upload for file preprocessed_dataset/fold_2/train_X.npy\n"
     ]
    },
    {
     "name": "stderr",
     "output_type": "stream",
     "text": [
      "\n",
      "Uploading: 100%|██████████| 55.0M/55.0M [00:21<00:00, 2.61MB/s]"
     ]
    },
    {
     "name": "stdout",
     "output_type": "stream",
     "text": [
      "Upload successful: preprocessed_dataset/fold_2/train_X.npy (52MB)\n",
      "Starting upload for file preprocessed_dataset/fold_2/validation_Y.npy\n"
     ]
    },
    {
     "name": "stderr",
     "output_type": "stream",
     "text": [
      "\n",
      "Uploading: 100%|██████████| 117k/117k [00:00<00:00, 181kB/s] "
     ]
    },
    {
     "name": "stdout",
     "output_type": "stream",
     "text": [
      "Upload successful: preprocessed_dataset/fold_2/validation_Y.npy (115KB)\n",
      "Starting upload for file preprocessed_dataset/fold_2/validation_X.npy\n"
     ]
    },
    {
     "name": "stderr",
     "output_type": "stream",
     "text": [
      "\n",
      "Uploading: 100%|██████████| 13.7M/13.7M [00:05<00:00, 2.65MB/s]"
     ]
    },
    {
     "name": "stdout",
     "output_type": "stream",
     "text": [
      "Upload successful: preprocessed_dataset/fold_2/validation_X.npy (13MB)\n",
      "Starting upload for file preprocessed_dataset/fold_2/train_Y.npy\n"
     ]
    },
    {
     "name": "stderr",
     "output_type": "stream",
     "text": [
      "\n",
      "Uploading: 100%|██████████| 470k/470k [00:00<00:00, 582kB/s]"
     ]
    },
    {
     "name": "stdout",
     "output_type": "stream",
     "text": [
      "Upload successful: preprocessed_dataset/fold_2/train_Y.npy (459KB)\n",
      "Starting upload for file preprocessed_dataset/fold_1/train_X.npy\n"
     ]
    },
    {
     "name": "stderr",
     "output_type": "stream",
     "text": [
      "\n",
      "Uploading: 100%|██████████| 57.2M/57.2M [00:23<00:00, 2.42MB/s]"
     ]
    },
    {
     "name": "stdout",
     "output_type": "stream",
     "text": [
      "Upload successful: preprocessed_dataset/fold_1/train_X.npy (55MB)\n",
      "Starting upload for file preprocessed_dataset/fold_1/validation_Y.npy\n"
     ]
    },
    {
     "name": "stderr",
     "output_type": "stream",
     "text": [
      "\n",
      "Uploading: 100%|██████████| 117k/117k [00:00<00:00, 175kB/s] "
     ]
    },
    {
     "name": "stdout",
     "output_type": "stream",
     "text": [
      "Upload successful: preprocessed_dataset/fold_1/validation_Y.npy (115KB)\n",
      "Starting upload for file preprocessed_dataset/fold_1/validation_X.npy\n"
     ]
    },
    {
     "name": "stderr",
     "output_type": "stream",
     "text": [
      "\n",
      "Uploading: 100%|██████████| 14.3M/14.3M [00:06<00:00, 2.33MB/s]"
     ]
    },
    {
     "name": "stdout",
     "output_type": "stream",
     "text": [
      "Upload successful: preprocessed_dataset/fold_1/validation_X.npy (14MB)\n",
      "Starting upload for file preprocessed_dataset/fold_1/train_Y.npy\n"
     ]
    },
    {
     "name": "stderr",
     "output_type": "stream",
     "text": [
      "\n",
      "Uploading: 100%|██████████| 470k/470k [00:00<00:00, 522kB/s] "
     ]
    },
    {
     "name": "stdout",
     "output_type": "stream",
     "text": [
      "Upload successful: preprocessed_dataset/fold_1/train_Y.npy (459KB)\n",
      "Starting upload for file preprocessed_dataset/fold_3/train_X.npy\n"
     ]
    },
    {
     "name": "stderr",
     "output_type": "stream",
     "text": [
      "\n",
      "Uploading: 100%|██████████| 55.9M/55.9M [00:21<00:00, 2.59MB/s]"
     ]
    },
    {
     "name": "stdout",
     "output_type": "stream",
     "text": [
      "Upload successful: preprocessed_dataset/fold_3/train_X.npy (53MB)\n",
      "Starting upload for file preprocessed_dataset/fold_3/validation_Y.npy\n"
     ]
    },
    {
     "name": "stderr",
     "output_type": "stream",
     "text": [
      "\n",
      "Uploading: 100%|██████████| 117k/117k [00:00<00:00, 188kB/s] "
     ]
    },
    {
     "name": "stdout",
     "output_type": "stream",
     "text": [
      "Upload successful: preprocessed_dataset/fold_3/validation_Y.npy (115KB)\n",
      "Starting upload for file preprocessed_dataset/fold_3/validation_X.npy\n"
     ]
    },
    {
     "name": "stderr",
     "output_type": "stream",
     "text": [
      "\n",
      "Uploading: 100%|██████████| 14.0M/14.0M [00:06<00:00, 2.07MB/s]"
     ]
    },
    {
     "name": "stdout",
     "output_type": "stream",
     "text": [
      "Upload successful: preprocessed_dataset/fold_3/validation_X.npy (13MB)\n",
      "Starting upload for file preprocessed_dataset/fold_3/train_Y.npy\n"
     ]
    },
    {
     "name": "stderr",
     "output_type": "stream",
     "text": [
      "\n",
      "Uploading: 100%|██████████| 470k/470k [00:00<00:00, 583kB/s] "
     ]
    },
    {
     "name": "stdout",
     "output_type": "stream",
     "text": [
      "Upload successful: preprocessed_dataset/fold_3/train_Y.npy (459KB)\n",
      "Starting upload for file preprocessed_dataset/fold_0/train_X.npy\n"
     ]
    },
    {
     "name": "stderr",
     "output_type": "stream",
     "text": [
      "\n",
      "Uploading: 100%|██████████| 56.3M/56.3M [00:24<00:00, 2.30MB/s]"
     ]
    },
    {
     "name": "stdout",
     "output_type": "stream",
     "text": [
      "Upload successful: preprocessed_dataset/fold_0/train_X.npy (54MB)\n",
      "Starting upload for file preprocessed_dataset/fold_0/validation_Y.npy\n"
     ]
    },
    {
     "name": "stderr",
     "output_type": "stream",
     "text": [
      "\n",
      "Uploading: 100%|██████████| 117k/117k [00:00<00:00, 164kB/s] "
     ]
    },
    {
     "name": "stdout",
     "output_type": "stream",
     "text": [
      "Upload successful: preprocessed_dataset/fold_0/validation_Y.npy (115KB)\n",
      "Starting upload for file preprocessed_dataset/fold_0/validation_X.npy\n"
     ]
    },
    {
     "name": "stderr",
     "output_type": "stream",
     "text": [
      "\n",
      "Uploading: 100%|██████████| 14.1M/14.1M [00:05<00:00, 2.43MB/s]"
     ]
    },
    {
     "name": "stdout",
     "output_type": "stream",
     "text": [
      "Upload successful: preprocessed_dataset/fold_0/validation_X.npy (13MB)\n",
      "Starting upload for file preprocessed_dataset/fold_0/train_Y.npy\n"
     ]
    },
    {
     "name": "stderr",
     "output_type": "stream",
     "text": [
      "\n",
      "Uploading: 100%|██████████| 470k/470k [00:00<00:00, 563kB/s] "
     ]
    },
    {
     "name": "stdout",
     "output_type": "stream",
     "text": [
      "Upload successful: preprocessed_dataset/fold_0/train_Y.npy (459KB)\n"
     ]
    },
    {
     "name": "stderr",
     "output_type": "stream",
     "text": [
      "\n"
     ]
    },
    {
     "ename": "HTTPError",
     "evalue": "400 Client Error: Bad Request for url: https://www.kaggle.com/api/v1/datasets/create/version/mauroabidalcarrer/prepocessed-cmi-2025",
     "output_type": "error",
     "traceback": [
      "\u001b[31m---------------------------------------------------------------------------\u001b[39m",
      "\u001b[31mBackendError\u001b[39m                              Traceback (most recent call last)",
      "\u001b[36mFile \u001b[39m\u001b[32m~/miniconda3/envs/CMI/lib/python3.11/site-packages/kagglehub/datasets_helpers.py:43\u001b[39m, in \u001b[36mcreate_dataset_or_version\u001b[39m\u001b[34m(dataset_handle, files, version_notes)\u001b[39m\n\u001b[32m     42\u001b[39m \u001b[38;5;28;01mtry\u001b[39;00m:\n\u001b[32m---> \u001b[39m\u001b[32m43\u001b[39m     \u001b[43m_create_dataset\u001b[49m\u001b[43m(\u001b[49m\u001b[43mdataset_handle\u001b[49m\u001b[43m,\u001b[49m\u001b[43m \u001b[49m\u001b[43mfiles\u001b[49m\u001b[43m)\u001b[49m\n\u001b[32m     44\u001b[39m \u001b[38;5;28;01mexcept\u001b[39;00m BackendError \u001b[38;5;28;01mas\u001b[39;00m e:\n",
      "\u001b[36mFile \u001b[39m\u001b[32m~/miniconda3/envs/CMI/lib/python3.11/site-packages/kagglehub/datasets_helpers.py:21\u001b[39m, in \u001b[36m_create_dataset\u001b[39m\u001b[34m(dataset_handle, files_and_directories)\u001b[39m\n\u001b[32m     20\u001b[39m api_client = KaggleApiV1Client()\n\u001b[32m---> \u001b[39m\u001b[32m21\u001b[39m \u001b[43mapi_client\u001b[49m\u001b[43m.\u001b[49m\u001b[43mpost\u001b[49m\u001b[43m(\u001b[49m\u001b[33;43m\"\u001b[39;49m\u001b[33;43m/datasets/create/new\u001b[39;49m\u001b[33;43m\"\u001b[39;49m\u001b[43m,\u001b[49m\u001b[43m \u001b[49m\u001b[43mdata\u001b[49m\u001b[43m)\u001b[49m\n\u001b[32m     22\u001b[39m logger.info(\n\u001b[32m     23\u001b[39m     \u001b[33mf\u001b[39m\u001b[33m\"\u001b[39m\u001b[33mYour dataset instance has been created.\u001b[39m\u001b[38;5;130;01m\\n\u001b[39;00m\u001b[33mFiles are being processed...\u001b[39m\u001b[38;5;130;01m\\n\u001b[39;00m\u001b[33mSee at: \u001b[39m\u001b[38;5;132;01m{\u001b[39;00mdataset_handle.to_url()\u001b[38;5;132;01m}\u001b[39;00m\u001b[33m\"\u001b[39m\n\u001b[32m     24\u001b[39m )\n",
      "\u001b[36mFile \u001b[39m\u001b[32m~/miniconda3/envs/CMI/lib/python3.11/site-packages/kagglehub/clients.py:154\u001b[39m, in \u001b[36mKaggleApiV1Client.post\u001b[39m\u001b[34m(self, path, data)\u001b[39m\n\u001b[32m    153\u001b[39m response_dict = response.json()\n\u001b[32m--> \u001b[39m\u001b[32m154\u001b[39m \u001b[43mprocess_post_response\u001b[49m\u001b[43m(\u001b[49m\u001b[43mresponse_dict\u001b[49m\u001b[43m)\u001b[49m\n\u001b[32m    155\u001b[39m \u001b[38;5;28mself\u001b[39m._check_for_version_update(response)\n",
      "\u001b[36mFile \u001b[39m\u001b[32m~/miniconda3/envs/CMI/lib/python3.11/site-packages/kagglehub/exceptions.py:141\u001b[39m, in \u001b[36mprocess_post_response\u001b[39m\u001b[34m(response)\u001b[39m\n\u001b[32m    140\u001b[39m error_code = \u001b[38;5;28mint\u001b[39m(response[\u001b[33m\"\u001b[39m\u001b[33merrorCode\u001b[39m\u001b[33m\"\u001b[39m]) \u001b[38;5;28;01mif\u001b[39;00m \u001b[33m\"\u001b[39m\u001b[33merrorCode\u001b[39m\u001b[33m\"\u001b[39m \u001b[38;5;129;01min\u001b[39;00m response \u001b[38;5;28;01melse\u001b[39;00m \u001b[38;5;28;01mNone\u001b[39;00m\n\u001b[32m--> \u001b[39m\u001b[32m141\u001b[39m \u001b[38;5;28;01mraise\u001b[39;00m BackendError(response[\u001b[33m\"\u001b[39m\u001b[33merror\u001b[39m\u001b[33m\"\u001b[39m], error_code)\n",
      "\u001b[31mBackendError\u001b[39m: Please upload at least one file",
      "\nDuring handling of the above exception, another exception occurred:\n",
      "\u001b[31mHTTPError\u001b[39m                                 Traceback (most recent call last)",
      "\u001b[36mCell\u001b[39m\u001b[36m \u001b[39m\u001b[32mIn[18]\u001b[39m\u001b[32m, line 3\u001b[39m\n\u001b[32m      1\u001b[39m \u001b[38;5;28;01mif\u001b[39;00m \u001b[38;5;28minput\u001b[39m(\u001b[33m\"\u001b[39m\u001b[33mDo you want to upload the  dataset to kaggle?[yes/no]\u001b[39m\u001b[33m\"\u001b[39m).lower() == \u001b[33m\"\u001b[39m\u001b[33myes\u001b[39m\u001b[33m\"\u001b[39m:\n\u001b[32m      2\u001b[39m     \u001b[38;5;66;03m# Updaload the dataset\u001b[39;00m\n\u001b[32m----> \u001b[39m\u001b[32m3\u001b[39m     \u001b[43mdataset_upload\u001b[49m\u001b[43m(\u001b[49m\n\u001b[32m      4\u001b[39m \u001b[43m        \u001b[49m\u001b[43mjoin\u001b[49m\u001b[43m(\u001b[49m\u001b[43mwhoami\u001b[49m\u001b[43m(\u001b[49m\u001b[43m)\u001b[49m\u001b[43m[\u001b[49m\u001b[33;43m\"\u001b[39;49m\u001b[33;43musername\u001b[39;49m\u001b[33;43m\"\u001b[39;49m\u001b[43m]\u001b[49m\u001b[43m,\u001b[49m\u001b[43m \u001b[49m\u001b[33;43m\"\u001b[39;49m\u001b[33;43mprepocessed-cmi-2025\u001b[39;49m\u001b[33;43m\"\u001b[39;49m\u001b[43m)\u001b[49m\u001b[43m,\u001b[49m\n\u001b[32m      5\u001b[39m \u001b[43m        \u001b[49m\u001b[33;43m\"\u001b[39;49m\u001b[33;43mpreprocessed_dataset\u001b[39;49m\u001b[33;43m\"\u001b[39;49m\u001b[43m,\u001b[49m\n\u001b[32m      6\u001b[39m \u001b[43m        \u001b[49m\u001b[43mversion_notes\u001b[49m\u001b[43m=\u001b[49m\u001b[33;43m\"\u001b[39;49m\u001b[33;43mPreprocessed Child Mind Institue 2025 competition dataset.\u001b[39;49m\u001b[33;43m\"\u001b[39;49m\n\u001b[32m      7\u001b[39m \u001b[43m    \u001b[49m\u001b[43m)\u001b[49m\n\u001b[32m      8\u001b[39m \u001b[38;5;28;01melse\u001b[39;00m:\n\u001b[32m      9\u001b[39m     \u001b[38;5;28mprint\u001b[39m(\u001b[33m\"\u001b[39m\u001b[33mDataset has not been uploaded.\u001b[39m\u001b[33m\"\u001b[39m)\n",
      "\u001b[36mFile \u001b[39m\u001b[32m~/miniconda3/envs/CMI/lib/python3.11/site-packages/kagglehub/datasets.py:78\u001b[39m, in \u001b[36mdataset_upload\u001b[39m\u001b[34m(handle, local_dataset_dir, version_notes, ignore_patterns)\u001b[39m\n\u001b[32m     70\u001b[39m     \u001b[38;5;28;01mraise\u001b[39;00m \u001b[38;5;167;01mValueError\u001b[39;00m(is_versioned_exception)\n\u001b[32m     72\u001b[39m tokens = upload_files_and_directories(\n\u001b[32m     73\u001b[39m     local_dataset_dir,\n\u001b[32m     74\u001b[39m     item_type=\u001b[33m\"\u001b[39m\u001b[33mdataset\u001b[39m\u001b[33m\"\u001b[39m,\n\u001b[32m     75\u001b[39m     ignore_patterns=normalize_patterns(default=DEFAULT_IGNORE_PATTERNS, additional=ignore_patterns),\n\u001b[32m     76\u001b[39m )\n\u001b[32m---> \u001b[39m\u001b[32m78\u001b[39m \u001b[43mcreate_dataset_or_version\u001b[49m\u001b[43m(\u001b[49m\u001b[43mh\u001b[49m\u001b[43m,\u001b[49m\u001b[43m \u001b[49m\u001b[43mtokens\u001b[49m\u001b[43m,\u001b[49m\u001b[43m \u001b[49m\u001b[43mversion_notes\u001b[49m\u001b[43m)\u001b[49m\n",
      "\u001b[36mFile \u001b[39m\u001b[32m~/miniconda3/envs/CMI/lib/python3.11/site-packages/kagglehub/datasets_helpers.py:47\u001b[39m, in \u001b[36mcreate_dataset_or_version\u001b[39m\u001b[34m(dataset_handle, files, version_notes)\u001b[39m\n\u001b[32m     44\u001b[39m \u001b[38;5;28;01mexcept\u001b[39;00m BackendError \u001b[38;5;28;01mas\u001b[39;00m e:\n\u001b[32m     45\u001b[39m     \u001b[38;5;28;01mif\u001b[39;00m e.error_code \u001b[38;5;129;01min\u001b[39;00m (\u001b[38;5;28;01mNone\u001b[39;00m, HTTPStatus.CONFLICT):\n\u001b[32m     46\u001b[39m         \u001b[38;5;66;03m# Dataset already exists, creating a new version instead.\u001b[39;00m\n\u001b[32m---> \u001b[39m\u001b[32m47\u001b[39m         \u001b[43m_create_dataset_version\u001b[49m\u001b[43m(\u001b[49m\u001b[43mdataset_handle\u001b[49m\u001b[43m,\u001b[49m\u001b[43m \u001b[49m\u001b[43mfiles\u001b[49m\u001b[43m,\u001b[49m\u001b[43m \u001b[49m\u001b[43mversion_notes\u001b[49m\u001b[43m)\u001b[49m\n\u001b[32m     48\u001b[39m     \u001b[38;5;28;01melse\u001b[39;00m:\n\u001b[32m     49\u001b[39m         \u001b[38;5;28;01mraise\u001b[39;00m (e)\n",
      "\u001b[36mFile \u001b[39m\u001b[32m~/miniconda3/envs/CMI/lib/python3.11/site-packages/kagglehub/datasets_helpers.py:35\u001b[39m, in \u001b[36m_create_dataset_version\u001b[39m\u001b[34m(dataset_handle, files_and_directories, version_notes)\u001b[39m\n\u001b[32m     30\u001b[39m data = {\n\u001b[32m     31\u001b[39m     \u001b[33m\"\u001b[39m\u001b[33mversionNotes\u001b[39m\u001b[33m\"\u001b[39m: version_notes,\n\u001b[32m     32\u001b[39m     \u001b[33m\"\u001b[39m\u001b[33mfiles\u001b[39m\u001b[33m\"\u001b[39m: [{\u001b[33m\"\u001b[39m\u001b[33mtoken\u001b[39m\u001b[33m\"\u001b[39m: file_token} \u001b[38;5;28;01mfor\u001b[39;00m file_token \u001b[38;5;129;01min\u001b[39;00m files_and_directories.files],\n\u001b[32m     33\u001b[39m }\n\u001b[32m     34\u001b[39m api_client = KaggleApiV1Client()\n\u001b[32m---> \u001b[39m\u001b[32m35\u001b[39m \u001b[43mapi_client\u001b[49m\u001b[43m.\u001b[49m\u001b[43mpost\u001b[49m\u001b[43m(\u001b[49m\u001b[33;43mf\u001b[39;49m\u001b[33;43m\"\u001b[39;49m\u001b[33;43m/datasets/create/version/\u001b[39;49m\u001b[38;5;132;43;01m{\u001b[39;49;00m\u001b[43mdataset_handle\u001b[49m\u001b[43m.\u001b[49m\u001b[43mowner\u001b[49m\u001b[38;5;132;43;01m}\u001b[39;49;00m\u001b[33;43m/\u001b[39;49m\u001b[38;5;132;43;01m{\u001b[39;49;00m\u001b[43mdataset_handle\u001b[49m\u001b[43m.\u001b[49m\u001b[43mdataset\u001b[49m\u001b[38;5;132;43;01m}\u001b[39;49;00m\u001b[33;43m\"\u001b[39;49m\u001b[43m,\u001b[49m\u001b[43m \u001b[49m\u001b[43mdata\u001b[49m\u001b[43m)\u001b[49m\n\u001b[32m     36\u001b[39m logger.info(\u001b[33mf\u001b[39m\u001b[33m\"\u001b[39m\u001b[33mYour dataset has been created.\u001b[39m\u001b[38;5;130;01m\\n\u001b[39;00m\u001b[33mFiles are being processed...\u001b[39m\u001b[38;5;130;01m\\n\u001b[39;00m\u001b[33mSee at: \u001b[39m\u001b[38;5;132;01m{\u001b[39;00mdataset_handle.to_url()\u001b[38;5;132;01m}\u001b[39;00m\u001b[33m\"\u001b[39m)\n",
      "\u001b[36mFile \u001b[39m\u001b[32m~/miniconda3/envs/CMI/lib/python3.11/site-packages/kagglehub/clients.py:152\u001b[39m, in \u001b[36mKaggleApiV1Client.post\u001b[39m\u001b[34m(self, path, data)\u001b[39m\n\u001b[32m    144\u001b[39m url = \u001b[38;5;28mself\u001b[39m._build_url(path)\n\u001b[32m    145\u001b[39m \u001b[38;5;28;01mwith\u001b[39;00m requests.post(\n\u001b[32m    146\u001b[39m     url,\n\u001b[32m    147\u001b[39m     headers={\u001b[33m\"\u001b[39m\u001b[33mUser-Agent\u001b[39m\u001b[33m\"\u001b[39m: get_user_agent()},\n\u001b[32m   (...)\u001b[39m\u001b[32m    150\u001b[39m     timeout=(DEFAULT_CONNECT_TIMEOUT, DEFAULT_READ_TIMEOUT),\n\u001b[32m    151\u001b[39m ) \u001b[38;5;28;01mas\u001b[39;00m response:\n\u001b[32m--> \u001b[39m\u001b[32m152\u001b[39m     \u001b[43mresponse\u001b[49m\u001b[43m.\u001b[49m\u001b[43mraise_for_status\u001b[49m\u001b[43m(\u001b[49m\u001b[43m)\u001b[49m\n\u001b[32m    153\u001b[39m     response_dict = response.json()\n\u001b[32m    154\u001b[39m     process_post_response(response_dict)\n",
      "\u001b[36mFile \u001b[39m\u001b[32m~/miniconda3/envs/CMI/lib/python3.11/site-packages/requests/models.py:1026\u001b[39m, in \u001b[36mResponse.raise_for_status\u001b[39m\u001b[34m(self)\u001b[39m\n\u001b[32m   1021\u001b[39m     http_error_msg = (\n\u001b[32m   1022\u001b[39m         \u001b[33mf\u001b[39m\u001b[33m\"\u001b[39m\u001b[38;5;132;01m{\u001b[39;00m\u001b[38;5;28mself\u001b[39m.status_code\u001b[38;5;132;01m}\u001b[39;00m\u001b[33m Server Error: \u001b[39m\u001b[38;5;132;01m{\u001b[39;00mreason\u001b[38;5;132;01m}\u001b[39;00m\u001b[33m for url: \u001b[39m\u001b[38;5;132;01m{\u001b[39;00m\u001b[38;5;28mself\u001b[39m.url\u001b[38;5;132;01m}\u001b[39;00m\u001b[33m\"\u001b[39m\n\u001b[32m   1023\u001b[39m     )\n\u001b[32m   1025\u001b[39m \u001b[38;5;28;01mif\u001b[39;00m http_error_msg:\n\u001b[32m-> \u001b[39m\u001b[32m1026\u001b[39m     \u001b[38;5;28;01mraise\u001b[39;00m HTTPError(http_error_msg, response=\u001b[38;5;28mself\u001b[39m)\n",
      "\u001b[31mHTTPError\u001b[39m: 400 Client Error: Bad Request for url: https://www.kaggle.com/api/v1/datasets/create/version/mauroabidalcarrer/prepocessed-cmi-2025"
     ]
    }
   ],
   "source": [
    "if input(\"Do you want to upload the  dataset to kaggle?[yes/no]\").lower() == \"yes\":\n",
    "    # Updaload the dataset\n",
    "    dataset_upload(\n",
    "        join(whoami()[\"username\"], \"prepocessedyes-cmi-2025\"),\n",
    "        \"preprocessed_dataset\",\n",
    "        version_notes=\"Preprocessed Child Mind Institue 2025 competition dataset.\"\n",
    "    )\n",
    "else:\n",
    "    print(\"Dataset has not been uploaded.\")"
   ]
  }
 ],
 "metadata": {
  "kernelspec": {
   "display_name": "CMI",
   "language": "python",
   "name": "python3"
  },
  "language_info": {
   "codemirror_mode": {
    "name": "ipython",
    "version": 3
   },
   "file_extension": ".py",
   "mimetype": "text/x-python",
   "name": "python",
   "nbconvert_exporter": "python",
   "pygments_lexer": "ipython3",
   "version": "3.11.5"
  }
 },
 "nbformat": 4,
 "nbformat_minor": 5
}
