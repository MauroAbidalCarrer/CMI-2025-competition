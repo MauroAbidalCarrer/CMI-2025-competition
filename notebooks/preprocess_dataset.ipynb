{
 "cells": [
  {
   "cell_type": "markdown",
   "id": "7c1fbf88",
   "metadata": {},
   "source": [
    "# Dataset preprocessing\n",
    "\n",
    "The goal of this notebook is to create a preprocessed kaggle dataset out of the competition dataset.  \n",
    "For now, the preprocessing will be based on [this notebook](https://www.kaggle.com/code/vonmainstein/imu-tof).  \n",
    "It consists of the following steps:\n",
    "-   Set the appropriate dtypes (helps with RAM usage).\n",
    "-   Impute missing feature values with forward, backward and then 0 filling.\n",
    "-   Split the dataset into multiple cross validation folds.\n",
    "-   Standardize feature values.\n",
    "-   Pad/Truncate the sequences to the same length.  \n",
    "\n",
    "> Note:  \n",
    "> - Demographics data set will be ignored for now.  "
   ]
  },
  {
   "cell_type": "markdown",
   "id": "67848297",
   "metadata": {},
   "source": [
    "## Imports"
   ]
  },
  {
   "cell_type": "code",
   "execution_count": 1,
   "id": "3b58565a",
   "metadata": {},
   "outputs": [],
   "source": [
    "import os\n",
    "import json\n",
    "from os.path import join\n",
    "from itertools import repeat, starmap\n",
    "\n",
    "import numpy as np\n",
    "import pandas as pd\n",
    "from numpy import ndarray\n",
    "import plotly.express as px\n",
    "from pandas import DataFrame as DF\n",
    "from scipy.spatial.transform import Rotation\n",
    "from kagglehub import whoami, competition_download, dataset_upload\n",
    "\n",
    "from config import *"
   ]
  },
  {
   "cell_type": "markdown",
   "id": "c1924ec0",
   "metadata": {},
   "source": [
    "## Data preprocessing"
   ]
  },
  {
   "cell_type": "markdown",
   "id": "1b3b38be",
   "metadata": {},
   "source": [
    "### Load dataset\n",
    "Requires to be logged in if this notebook is not running on kaggle, go to [your settings](https://www.kaggle.com/settings) to create an access token and put it in `~/.kaggle/`."
   ]
  },
  {
   "cell_type": "code",
   "execution_count": 2,
   "id": "a0bb6cf4",
   "metadata": {},
   "outputs": [],
   "source": [
    "competition_dataset_path = competition_download(COMPETITION_HANDLE)\n",
    "df = pd.read_csv(join(competition_dataset_path, \"train.csv\"), dtype=DATASET_DF_DTYPES)"
   ]
  },
  {
   "cell_type": "markdown",
   "id": "7aea88de",
   "metadata": {},
   "source": [
    "### Impute missing data\n",
    "Perform forward, backward and then 0 filling of NaN values."
   ]
  },
  {
   "cell_type": "code",
   "execution_count": 3,
   "id": "c2f0db28",
   "metadata": {},
   "outputs": [],
   "source": [
    "feature_cols = list(set(df.columns) - set(META_DATA_COLUMNS))\n",
    "# Missing ToF values are already imputed by -1 which is inconvinient since we want all missing values to be NaN.    \n",
    "# So we replace them by NaN and then perform imputing.  \n",
    "tof_vals_to_nan = {col: -1.0 for col in df.columns if col.startswith(\"tof\")}\n",
    "fillna_val_per_col = {col: 1.0 if col == 'rot_w' else 0 for col in df.columns}\n",
    "\n",
    "def imputed_features(df:DF) -> DF:\n",
    "    # Missing ToF values are already imputed by -1 which is inconvinient since we want all missing values to be NaN.    \n",
    "    # So we replace them by NaN and then perform imputing.  \n",
    "    tof_vals_to_nan = {col: -1.0 for col in df.columns if col.startswith(\"tof\")}\n",
    "    fillna_val_per_col = {col: 1.0 if col == 'rot_w' else 0 for col in df.columns}\n",
    "\n",
    "    df[feature_cols] = (\n",
    "        df\n",
    "        .loc[:, feature_cols]\n",
    "        # df.replace with np.nan sets dtype to floar64 so we set it back to float32\n",
    "        .replace(tof_vals_to_nan, value=np.nan)\n",
    "        .astype(\"float32\")\n",
    "        .groupby(df[\"sequence_id\"], observed=True, as_index=False)\n",
    "        .ffill()\n",
    "        .groupby(df[\"sequence_id\"], observed=True, as_index=False)\n",
    "        .bfill()\n",
    "        # In case there are only nan in the column in the sequence\n",
    "        .fillna(fillna_val_per_col)\n",
    "    )\n",
    "    return df\n",
    "    \n",
    "df = imputed_features(df)"
   ]
  },
  {
   "cell_type": "markdown",
   "id": "ad044a52",
   "metadata": {},
   "source": [
    "### Norm quaternions\n",
    "This is usefull for using them with a Rotation instance."
   ]
  },
  {
   "cell_type": "code",
   "execution_count": 4,
   "id": "c99bce0b",
   "metadata": {},
   "outputs": [],
   "source": [
    "QUATERNION_COLS = ['rot_w', 'rot_x', 'rot_y', 'rot_z']\n",
    "def norm_quat_rotations(df:DF) -> DF:\n",
    "    df[QUATERNION_COLS] /= np.linalg.norm(df[QUATERNION_COLS], axis=1, keepdims=True)\n",
    "    return df"
   ]
  },
  {
   "cell_type": "markdown",
   "id": "606a87c4",
   "metadata": {},
   "source": [
    "### Add gravity free acceleration features"
   ]
  },
  {
   "cell_type": "code",
   "execution_count": null,
   "id": "5d87de25",
   "metadata": {},
   "outputs": [],
   "source": [
    "GRAVITY_WORLD = np.array([0, 0, 9.81])\n",
    "ACCELRATION_COLS = [\"acc_x\", \"acc_y\", \"acc_z\"]\n",
    "GRAVITY_FREE_ACC_COLS = [\"gravity_free_\" + col for col in ACCELRATION_COLS]\n",
    "def add_gravity_free_acc_cols(df:DF) -> DF:\n",
    "    # Vectorized version of https://www.kaggle.com/code/wasupandceacar/lb-0-82-5fold-single-bert-model#Dataset `remove_gravity_from_acc`\n",
    "    rotations = Rotation.from_quat(df[QUATERNION_COLS])\n",
    "    gravity_sensor_frame = rotations.apply(GRAVITY_WORLD, inverse=True)\n",
    "    df[GRAVITY_FREE_ACC_COLS] = df[ACCELRATION_COLS] - gravity_sensor_frame\n",
    "    return df\n",
    "\n",
    "df = add_gravity_free_acc_cols(df)"
   ]
  },
  {
   "cell_type": "markdown",
   "id": "6ae43d1a",
   "metadata": {},
   "source": [
    "### Euler angles from quaternions"
   ]
  },
  {
   "cell_type": "code",
   "execution_count": 5,
   "id": "c99bce0b",
   "metadata": {},
   "outputs": [],
   "source": [
    "EULER_ANGLES_COLS = [\"euler_x\", \"euler_y\", \"euler_z\"]\n",
    "def rot_euler_angles(seq:DF) -> ndarray:\n",
    "    try:\n",
    "        quat_cols = seq[QUATERNION_COLS]\n",
    "        rotation = Rotation.from_quat(quat_cols)\n",
    "        euler_data = rotation.as_euler(\"xyz\").squeeze()\n",
    "        angles_df = DF(\n",
    "            data=euler_data,\n",
    "            columns=EULER_ANGLES_COLS\n",
    "        )\n",
    "        return angles_df\n",
    "    except ValueError as e:\n",
    "        print(quat_cols)\n",
    "        raise e\n",
    "\n",
    "rot_euler_angles_df = (\n",
    "    df\n",
    "    .groupby(\"sequence_id\", as_index=False, observed=True)\n",
    "    .apply(rot_euler_angles, include_groups=False)\n",
    "    .loc[:, EULER_ANGLES_COLS]\n",
    "    .values\n",
    ")\n",
    "display(rot_euler_angles_df)\n",
    "df[EULER_ANGLES_COLS] = rot_euler_angles_df"
   ]
  },
  {
   "cell_type": "markdown",
   "id": "18979983",
   "metadata": {},
   "source": [
    "### One hot encode target values."
   ]
  },
  {
   "cell_type": "code",
   "execution_count": 7,
   "id": "05661625",
   "metadata": {},
   "outputs": [
    {
     "name": "stderr",
     "output_type": "stream",
     "text": [
      "/tmp/ipykernel_75726/1507406683.py:2: PerformanceWarning: DataFrame is highly fragmented.  This is usually the result of calling `frame.insert` many times, which has poor performance.  Consider joining all columns at once using pd.concat(axis=1) instead. To get a de-fragmented frame, use `newframe = frame.copy()`\n",
      "  df[one_hot_target.columns] = one_hot_target\n",
      "/tmp/ipykernel_75726/1507406683.py:2: PerformanceWarning: DataFrame is highly fragmented.  This is usually the result of calling `frame.insert` many times, which has poor performance.  Consider joining all columns at once using pd.concat(axis=1) instead. To get a de-fragmented frame, use `newframe = frame.copy()`\n",
      "  df[one_hot_target.columns] = one_hot_target\n",
      "/tmp/ipykernel_75726/1507406683.py:2: PerformanceWarning: DataFrame is highly fragmented.  This is usually the result of calling `frame.insert` many times, which has poor performance.  Consider joining all columns at once using pd.concat(axis=1) instead. To get a de-fragmented frame, use `newframe = frame.copy()`\n",
      "  df[one_hot_target.columns] = one_hot_target\n",
      "/tmp/ipykernel_75726/1507406683.py:2: PerformanceWarning: DataFrame is highly fragmented.  This is usually the result of calling `frame.insert` many times, which has poor performance.  Consider joining all columns at once using pd.concat(axis=1) instead. To get a de-fragmented frame, use `newframe = frame.copy()`\n",
      "  df[one_hot_target.columns] = one_hot_target\n",
      "/tmp/ipykernel_75726/1507406683.py:2: PerformanceWarning: DataFrame is highly fragmented.  This is usually the result of calling `frame.insert` many times, which has poor performance.  Consider joining all columns at once using pd.concat(axis=1) instead. To get a de-fragmented frame, use `newframe = frame.copy()`\n",
      "  df[one_hot_target.columns] = one_hot_target\n",
      "/tmp/ipykernel_75726/1507406683.py:2: PerformanceWarning: DataFrame is highly fragmented.  This is usually the result of calling `frame.insert` many times, which has poor performance.  Consider joining all columns at once using pd.concat(axis=1) instead. To get a de-fragmented frame, use `newframe = frame.copy()`\n",
      "  df[one_hot_target.columns] = one_hot_target\n",
      "/tmp/ipykernel_75726/1507406683.py:2: PerformanceWarning: DataFrame is highly fragmented.  This is usually the result of calling `frame.insert` many times, which has poor performance.  Consider joining all columns at once using pd.concat(axis=1) instead. To get a de-fragmented frame, use `newframe = frame.copy()`\n",
      "  df[one_hot_target.columns] = one_hot_target\n",
      "/tmp/ipykernel_75726/1507406683.py:2: PerformanceWarning: DataFrame is highly fragmented.  This is usually the result of calling `frame.insert` many times, which has poor performance.  Consider joining all columns at once using pd.concat(axis=1) instead. To get a de-fragmented frame, use `newframe = frame.copy()`\n",
      "  df[one_hot_target.columns] = one_hot_target\n",
      "/tmp/ipykernel_75726/1507406683.py:2: PerformanceWarning: DataFrame is highly fragmented.  This is usually the result of calling `frame.insert` many times, which has poor performance.  Consider joining all columns at once using pd.concat(axis=1) instead. To get a de-fragmented frame, use `newframe = frame.copy()`\n",
      "  df[one_hot_target.columns] = one_hot_target\n",
      "/tmp/ipykernel_75726/1507406683.py:2: PerformanceWarning: DataFrame is highly fragmented.  This is usually the result of calling `frame.insert` many times, which has poor performance.  Consider joining all columns at once using pd.concat(axis=1) instead. To get a de-fragmented frame, use `newframe = frame.copy()`\n",
      "  df[one_hot_target.columns] = one_hot_target\n",
      "/tmp/ipykernel_75726/1507406683.py:2: PerformanceWarning: DataFrame is highly fragmented.  This is usually the result of calling `frame.insert` many times, which has poor performance.  Consider joining all columns at once using pd.concat(axis=1) instead. To get a de-fragmented frame, use `newframe = frame.copy()`\n",
      "  df[one_hot_target.columns] = one_hot_target\n",
      "/tmp/ipykernel_75726/1507406683.py:2: PerformanceWarning: DataFrame is highly fragmented.  This is usually the result of calling `frame.insert` many times, which has poor performance.  Consider joining all columns at once using pd.concat(axis=1) instead. To get a de-fragmented frame, use `newframe = frame.copy()`\n",
      "  df[one_hot_target.columns] = one_hot_target\n",
      "/tmp/ipykernel_75726/1507406683.py:2: PerformanceWarning: DataFrame is highly fragmented.  This is usually the result of calling `frame.insert` many times, which has poor performance.  Consider joining all columns at once using pd.concat(axis=1) instead. To get a de-fragmented frame, use `newframe = frame.copy()`\n",
      "  df[one_hot_target.columns] = one_hot_target\n",
      "/tmp/ipykernel_75726/1507406683.py:2: PerformanceWarning: DataFrame is highly fragmented.  This is usually the result of calling `frame.insert` many times, which has poor performance.  Consider joining all columns at once using pd.concat(axis=1) instead. To get a de-fragmented frame, use `newframe = frame.copy()`\n",
      "  df[one_hot_target.columns] = one_hot_target\n",
      "/tmp/ipykernel_75726/1507406683.py:2: PerformanceWarning: DataFrame is highly fragmented.  This is usually the result of calling `frame.insert` many times, which has poor performance.  Consider joining all columns at once using pd.concat(axis=1) instead. To get a de-fragmented frame, use `newframe = frame.copy()`\n",
      "  df[one_hot_target.columns] = one_hot_target\n",
      "/tmp/ipykernel_75726/1507406683.py:2: PerformanceWarning: DataFrame is highly fragmented.  This is usually the result of calling `frame.insert` many times, which has poor performance.  Consider joining all columns at once using pd.concat(axis=1) instead. To get a de-fragmented frame, use `newframe = frame.copy()`\n",
      "  df[one_hot_target.columns] = one_hot_target\n",
      "/tmp/ipykernel_75726/1507406683.py:2: PerformanceWarning: DataFrame is highly fragmented.  This is usually the result of calling `frame.insert` many times, which has poor performance.  Consider joining all columns at once using pd.concat(axis=1) instead. To get a de-fragmented frame, use `newframe = frame.copy()`\n",
      "  df[one_hot_target.columns] = one_hot_target\n",
      "/tmp/ipykernel_75726/1507406683.py:2: PerformanceWarning: DataFrame is highly fragmented.  This is usually the result of calling `frame.insert` many times, which has poor performance.  Consider joining all columns at once using pd.concat(axis=1) instead. To get a de-fragmented frame, use `newframe = frame.copy()`\n",
      "  df[one_hot_target.columns] = one_hot_target\n"
     ]
    },
    {
     "data": {
      "text/html": [
       "<div>\n",
       "<style scoped>\n",
       "    .dataframe tbody tr th:only-of-type {\n",
       "        vertical-align: middle;\n",
       "    }\n",
       "\n",
       "    .dataframe tbody tr th {\n",
       "        vertical-align: top;\n",
       "    }\n",
       "\n",
       "    .dataframe thead th {\n",
       "        text-align: right;\n",
       "    }\n",
       "</style>\n",
       "<table border=\"1\" class=\"dataframe\">\n",
       "  <thead>\n",
       "    <tr style=\"text-align: right;\">\n",
       "      <th></th>\n",
       "      <th>row_id</th>\n",
       "      <th>sequence_type</th>\n",
       "      <th>sequence_id</th>\n",
       "      <th>sequence_counter</th>\n",
       "      <th>subject</th>\n",
       "      <th>orientation</th>\n",
       "      <th>behavior</th>\n",
       "      <th>phase</th>\n",
       "      <th>gesture</th>\n",
       "      <th>acc_x</th>\n",
       "      <th>...</th>\n",
       "      <th>Neck - scratch</th>\n",
       "      <th>Text on phone</th>\n",
       "      <th>Wave hello</th>\n",
       "      <th>Write name in air</th>\n",
       "      <th>Write name on leg</th>\n",
       "      <th>Drink from bottle/cup</th>\n",
       "      <th>Pinch knee/leg skin</th>\n",
       "      <th>Pull air toward your face</th>\n",
       "      <th>Scratch knee/leg skin</th>\n",
       "      <th>Glasses on/off</th>\n",
       "    </tr>\n",
       "  </thead>\n",
       "  <tbody>\n",
       "    <tr>\n",
       "      <th>0</th>\n",
       "      <td>SEQ_000007_000000</td>\n",
       "      <td>Target</td>\n",
       "      <td>SEQ_000007</td>\n",
       "      <td>0</td>\n",
       "      <td>SUBJ_059520</td>\n",
       "      <td>Seated Lean Non Dom - FACE DOWN</td>\n",
       "      <td>Relaxes and moves hand to target location</td>\n",
       "      <td>Transition</td>\n",
       "      <td>Cheek - pinch skin</td>\n",
       "      <td>6.683594</td>\n",
       "      <td>...</td>\n",
       "      <td>False</td>\n",
       "      <td>False</td>\n",
       "      <td>False</td>\n",
       "      <td>False</td>\n",
       "      <td>False</td>\n",
       "      <td>False</td>\n",
       "      <td>False</td>\n",
       "      <td>False</td>\n",
       "      <td>False</td>\n",
       "      <td>False</td>\n",
       "    </tr>\n",
       "    <tr>\n",
       "      <th>1</th>\n",
       "      <td>SEQ_000007_000001</td>\n",
       "      <td>Target</td>\n",
       "      <td>SEQ_000007</td>\n",
       "      <td>1</td>\n",
       "      <td>SUBJ_059520</td>\n",
       "      <td>Seated Lean Non Dom - FACE DOWN</td>\n",
       "      <td>Relaxes and moves hand to target location</td>\n",
       "      <td>Transition</td>\n",
       "      <td>Cheek - pinch skin</td>\n",
       "      <td>6.949219</td>\n",
       "      <td>...</td>\n",
       "      <td>False</td>\n",
       "      <td>False</td>\n",
       "      <td>False</td>\n",
       "      <td>False</td>\n",
       "      <td>False</td>\n",
       "      <td>False</td>\n",
       "      <td>False</td>\n",
       "      <td>False</td>\n",
       "      <td>False</td>\n",
       "      <td>False</td>\n",
       "    </tr>\n",
       "    <tr>\n",
       "      <th>2</th>\n",
       "      <td>SEQ_000007_000002</td>\n",
       "      <td>Target</td>\n",
       "      <td>SEQ_000007</td>\n",
       "      <td>2</td>\n",
       "      <td>SUBJ_059520</td>\n",
       "      <td>Seated Lean Non Dom - FACE DOWN</td>\n",
       "      <td>Relaxes and moves hand to target location</td>\n",
       "      <td>Transition</td>\n",
       "      <td>Cheek - pinch skin</td>\n",
       "      <td>5.722656</td>\n",
       "      <td>...</td>\n",
       "      <td>False</td>\n",
       "      <td>False</td>\n",
       "      <td>False</td>\n",
       "      <td>False</td>\n",
       "      <td>False</td>\n",
       "      <td>False</td>\n",
       "      <td>False</td>\n",
       "      <td>False</td>\n",
       "      <td>False</td>\n",
       "      <td>False</td>\n",
       "    </tr>\n",
       "    <tr>\n",
       "      <th>3</th>\n",
       "      <td>SEQ_000007_000003</td>\n",
       "      <td>Target</td>\n",
       "      <td>SEQ_000007</td>\n",
       "      <td>3</td>\n",
       "      <td>SUBJ_059520</td>\n",
       "      <td>Seated Lean Non Dom - FACE DOWN</td>\n",
       "      <td>Relaxes and moves hand to target location</td>\n",
       "      <td>Transition</td>\n",
       "      <td>Cheek - pinch skin</td>\n",
       "      <td>6.601562</td>\n",
       "      <td>...</td>\n",
       "      <td>False</td>\n",
       "      <td>False</td>\n",
       "      <td>False</td>\n",
       "      <td>False</td>\n",
       "      <td>False</td>\n",
       "      <td>False</td>\n",
       "      <td>False</td>\n",
       "      <td>False</td>\n",
       "      <td>False</td>\n",
       "      <td>False</td>\n",
       "    </tr>\n",
       "    <tr>\n",
       "      <th>4</th>\n",
       "      <td>SEQ_000007_000004</td>\n",
       "      <td>Target</td>\n",
       "      <td>SEQ_000007</td>\n",
       "      <td>4</td>\n",
       "      <td>SUBJ_059520</td>\n",
       "      <td>Seated Lean Non Dom - FACE DOWN</td>\n",
       "      <td>Relaxes and moves hand to target location</td>\n",
       "      <td>Transition</td>\n",
       "      <td>Cheek - pinch skin</td>\n",
       "      <td>5.566406</td>\n",
       "      <td>...</td>\n",
       "      <td>False</td>\n",
       "      <td>False</td>\n",
       "      <td>False</td>\n",
       "      <td>False</td>\n",
       "      <td>False</td>\n",
       "      <td>False</td>\n",
       "      <td>False</td>\n",
       "      <td>False</td>\n",
       "      <td>False</td>\n",
       "      <td>False</td>\n",
       "    </tr>\n",
       "    <tr>\n",
       "      <th>...</th>\n",
       "      <td>...</td>\n",
       "      <td>...</td>\n",
       "      <td>...</td>\n",
       "      <td>...</td>\n",
       "      <td>...</td>\n",
       "      <td>...</td>\n",
       "      <td>...</td>\n",
       "      <td>...</td>\n",
       "      <td>...</td>\n",
       "      <td>...</td>\n",
       "      <td>...</td>\n",
       "      <td>...</td>\n",
       "      <td>...</td>\n",
       "      <td>...</td>\n",
       "      <td>...</td>\n",
       "      <td>...</td>\n",
       "      <td>...</td>\n",
       "      <td>...</td>\n",
       "      <td>...</td>\n",
       "      <td>...</td>\n",
       "      <td>...</td>\n",
       "    </tr>\n",
       "    <tr>\n",
       "      <th>574940</th>\n",
       "      <td>SEQ_065531_000048</td>\n",
       "      <td>Non-Target</td>\n",
       "      <td>SEQ_065531</td>\n",
       "      <td>48</td>\n",
       "      <td>SUBJ_039498</td>\n",
       "      <td>Seated Lean Non Dom - FACE DOWN</td>\n",
       "      <td>Performs gesture</td>\n",
       "      <td>Gesture</td>\n",
       "      <td>Write name on leg</td>\n",
       "      <td>3.503906</td>\n",
       "      <td>...</td>\n",
       "      <td>False</td>\n",
       "      <td>False</td>\n",
       "      <td>False</td>\n",
       "      <td>False</td>\n",
       "      <td>True</td>\n",
       "      <td>False</td>\n",
       "      <td>False</td>\n",
       "      <td>False</td>\n",
       "      <td>False</td>\n",
       "      <td>False</td>\n",
       "    </tr>\n",
       "    <tr>\n",
       "      <th>574941</th>\n",
       "      <td>SEQ_065531_000049</td>\n",
       "      <td>Non-Target</td>\n",
       "      <td>SEQ_065531</td>\n",
       "      <td>49</td>\n",
       "      <td>SUBJ_039498</td>\n",
       "      <td>Seated Lean Non Dom - FACE DOWN</td>\n",
       "      <td>Performs gesture</td>\n",
       "      <td>Gesture</td>\n",
       "      <td>Write name on leg</td>\n",
       "      <td>3.773438</td>\n",
       "      <td>...</td>\n",
       "      <td>False</td>\n",
       "      <td>False</td>\n",
       "      <td>False</td>\n",
       "      <td>False</td>\n",
       "      <td>True</td>\n",
       "      <td>False</td>\n",
       "      <td>False</td>\n",
       "      <td>False</td>\n",
       "      <td>False</td>\n",
       "      <td>False</td>\n",
       "    </tr>\n",
       "    <tr>\n",
       "      <th>574942</th>\n",
       "      <td>SEQ_065531_000050</td>\n",
       "      <td>Non-Target</td>\n",
       "      <td>SEQ_065531</td>\n",
       "      <td>50</td>\n",
       "      <td>SUBJ_039498</td>\n",
       "      <td>Seated Lean Non Dom - FACE DOWN</td>\n",
       "      <td>Performs gesture</td>\n",
       "      <td>Gesture</td>\n",
       "      <td>Write name on leg</td>\n",
       "      <td>3.082031</td>\n",
       "      <td>...</td>\n",
       "      <td>False</td>\n",
       "      <td>False</td>\n",
       "      <td>False</td>\n",
       "      <td>False</td>\n",
       "      <td>True</td>\n",
       "      <td>False</td>\n",
       "      <td>False</td>\n",
       "      <td>False</td>\n",
       "      <td>False</td>\n",
       "      <td>False</td>\n",
       "    </tr>\n",
       "    <tr>\n",
       "      <th>574943</th>\n",
       "      <td>SEQ_065531_000051</td>\n",
       "      <td>Non-Target</td>\n",
       "      <td>SEQ_065531</td>\n",
       "      <td>51</td>\n",
       "      <td>SUBJ_039498</td>\n",
       "      <td>Seated Lean Non Dom - FACE DOWN</td>\n",
       "      <td>Performs gesture</td>\n",
       "      <td>Gesture</td>\n",
       "      <td>Write name on leg</td>\n",
       "      <td>3.964844</td>\n",
       "      <td>...</td>\n",
       "      <td>False</td>\n",
       "      <td>False</td>\n",
       "      <td>False</td>\n",
       "      <td>False</td>\n",
       "      <td>True</td>\n",
       "      <td>False</td>\n",
       "      <td>False</td>\n",
       "      <td>False</td>\n",
       "      <td>False</td>\n",
       "      <td>False</td>\n",
       "    </tr>\n",
       "    <tr>\n",
       "      <th>574944</th>\n",
       "      <td>SEQ_065531_000052</td>\n",
       "      <td>Non-Target</td>\n",
       "      <td>SEQ_065531</td>\n",
       "      <td>52</td>\n",
       "      <td>SUBJ_039498</td>\n",
       "      <td>Seated Lean Non Dom - FACE DOWN</td>\n",
       "      <td>Performs gesture</td>\n",
       "      <td>Gesture</td>\n",
       "      <td>Write name on leg</td>\n",
       "      <td>4.269531</td>\n",
       "      <td>...</td>\n",
       "      <td>False</td>\n",
       "      <td>False</td>\n",
       "      <td>False</td>\n",
       "      <td>False</td>\n",
       "      <td>True</td>\n",
       "      <td>False</td>\n",
       "      <td>False</td>\n",
       "      <td>False</td>\n",
       "      <td>False</td>\n",
       "      <td>False</td>\n",
       "    </tr>\n",
       "  </tbody>\n",
       "</table>\n",
       "<p>574945 rows × 365 columns</p>\n",
       "</div>"
      ],
      "text/plain": [
       "                   row_id sequence_type sequence_id  sequence_counter  \\\n",
       "0       SEQ_000007_000000        Target  SEQ_000007                 0   \n",
       "1       SEQ_000007_000001        Target  SEQ_000007                 1   \n",
       "2       SEQ_000007_000002        Target  SEQ_000007                 2   \n",
       "3       SEQ_000007_000003        Target  SEQ_000007                 3   \n",
       "4       SEQ_000007_000004        Target  SEQ_000007                 4   \n",
       "...                   ...           ...         ...               ...   \n",
       "574940  SEQ_065531_000048    Non-Target  SEQ_065531                48   \n",
       "574941  SEQ_065531_000049    Non-Target  SEQ_065531                49   \n",
       "574942  SEQ_065531_000050    Non-Target  SEQ_065531                50   \n",
       "574943  SEQ_065531_000051    Non-Target  SEQ_065531                51   \n",
       "574944  SEQ_065531_000052    Non-Target  SEQ_065531                52   \n",
       "\n",
       "            subject                      orientation  \\\n",
       "0       SUBJ_059520  Seated Lean Non Dom - FACE DOWN   \n",
       "1       SUBJ_059520  Seated Lean Non Dom - FACE DOWN   \n",
       "2       SUBJ_059520  Seated Lean Non Dom - FACE DOWN   \n",
       "3       SUBJ_059520  Seated Lean Non Dom - FACE DOWN   \n",
       "4       SUBJ_059520  Seated Lean Non Dom - FACE DOWN   \n",
       "...             ...                              ...   \n",
       "574940  SUBJ_039498  Seated Lean Non Dom - FACE DOWN   \n",
       "574941  SUBJ_039498  Seated Lean Non Dom - FACE DOWN   \n",
       "574942  SUBJ_039498  Seated Lean Non Dom - FACE DOWN   \n",
       "574943  SUBJ_039498  Seated Lean Non Dom - FACE DOWN   \n",
       "574944  SUBJ_039498  Seated Lean Non Dom - FACE DOWN   \n",
       "\n",
       "                                         behavior       phase  \\\n",
       "0       Relaxes and moves hand to target location  Transition   \n",
       "1       Relaxes and moves hand to target location  Transition   \n",
       "2       Relaxes and moves hand to target location  Transition   \n",
       "3       Relaxes and moves hand to target location  Transition   \n",
       "4       Relaxes and moves hand to target location  Transition   \n",
       "...                                           ...         ...   \n",
       "574940                           Performs gesture     Gesture   \n",
       "574941                           Performs gesture     Gesture   \n",
       "574942                           Performs gesture     Gesture   \n",
       "574943                           Performs gesture     Gesture   \n",
       "574944                           Performs gesture     Gesture   \n",
       "\n",
       "                   gesture     acc_x  ...  Neck - scratch  Text on phone  \\\n",
       "0       Cheek - pinch skin  6.683594  ...           False          False   \n",
       "1       Cheek - pinch skin  6.949219  ...           False          False   \n",
       "2       Cheek - pinch skin  5.722656  ...           False          False   \n",
       "3       Cheek - pinch skin  6.601562  ...           False          False   \n",
       "4       Cheek - pinch skin  5.566406  ...           False          False   \n",
       "...                    ...       ...  ...             ...            ...   \n",
       "574940   Write name on leg  3.503906  ...           False          False   \n",
       "574941   Write name on leg  3.773438  ...           False          False   \n",
       "574942   Write name on leg  3.082031  ...           False          False   \n",
       "574943   Write name on leg  3.964844  ...           False          False   \n",
       "574944   Write name on leg  4.269531  ...           False          False   \n",
       "\n",
       "        Wave hello  Write name in air  Write name on leg  \\\n",
       "0            False              False              False   \n",
       "1            False              False              False   \n",
       "2            False              False              False   \n",
       "3            False              False              False   \n",
       "4            False              False              False   \n",
       "...            ...                ...                ...   \n",
       "574940       False              False               True   \n",
       "574941       False              False               True   \n",
       "574942       False              False               True   \n",
       "574943       False              False               True   \n",
       "574944       False              False               True   \n",
       "\n",
       "        Drink from bottle/cup  Pinch knee/leg skin  Pull air toward your face  \\\n",
       "0                       False                False                      False   \n",
       "1                       False                False                      False   \n",
       "2                       False                False                      False   \n",
       "3                       False                False                      False   \n",
       "4                       False                False                      False   \n",
       "...                       ...                  ...                        ...   \n",
       "574940                  False                False                      False   \n",
       "574941                  False                False                      False   \n",
       "574942                  False                False                      False   \n",
       "574943                  False                False                      False   \n",
       "574944                  False                False                      False   \n",
       "\n",
       "        Scratch knee/leg skin  Glasses on/off  \n",
       "0                       False           False  \n",
       "1                       False           False  \n",
       "2                       False           False  \n",
       "3                       False           False  \n",
       "4                       False           False  \n",
       "...                       ...             ...  \n",
       "574940                  False           False  \n",
       "574941                  False           False  \n",
       "574942                  False           False  \n",
       "574943                  False           False  \n",
       "574944                  False           False  \n",
       "\n",
       "[574945 rows x 365 columns]"
      ]
     },
     "execution_count": 7,
     "metadata": {},
     "output_type": "execute_result"
    }
   ],
   "source": [
    "one_hot_target = pd.get_dummies(df[\"gesture\"])\n",
    "df[one_hot_target.columns] = one_hot_target\n",
    "df"
   ]
  },
  {
   "cell_type": "markdown",
   "id": "8812dc08",
   "metadata": {},
   "source": [
    "### ToF data aggregation.\n",
    "Time of Flight columns take most of the data, let's reduce their size by aggregating by mean for each Time of Flight sensor."
   ]
  },
  {
   "cell_type": "code",
   "execution_count": 8,
   "id": "2b4f83f2",
   "metadata": {},
   "outputs": [
    {
     "data": {
      "text/html": [
       "<div>\n",
       "<style scoped>\n",
       "    .dataframe tbody tr th:only-of-type {\n",
       "        vertical-align: middle;\n",
       "    }\n",
       "\n",
       "    .dataframe tbody tr th {\n",
       "        vertical-align: top;\n",
       "    }\n",
       "\n",
       "    .dataframe thead th {\n",
       "        text-align: right;\n",
       "    }\n",
       "</style>\n",
       "<table border=\"1\" class=\"dataframe\">\n",
       "  <thead>\n",
       "    <tr style=\"text-align: right;\">\n",
       "      <th></th>\n",
       "      <th>row_id</th>\n",
       "      <th>sequence_type</th>\n",
       "      <th>sequence_id</th>\n",
       "      <th>sequence_counter</th>\n",
       "      <th>subject</th>\n",
       "      <th>orientation</th>\n",
       "      <th>behavior</th>\n",
       "      <th>phase</th>\n",
       "      <th>gesture</th>\n",
       "      <th>acc_x</th>\n",
       "      <th>...</th>\n",
       "      <th>Drink from bottle/cup</th>\n",
       "      <th>Pinch knee/leg skin</th>\n",
       "      <th>Pull air toward your face</th>\n",
       "      <th>Scratch knee/leg skin</th>\n",
       "      <th>Glasses on/off</th>\n",
       "      <th>tof_1</th>\n",
       "      <th>tof_2</th>\n",
       "      <th>tof_3</th>\n",
       "      <th>tof_4</th>\n",
       "      <th>tof_5</th>\n",
       "    </tr>\n",
       "  </thead>\n",
       "  <tbody>\n",
       "    <tr>\n",
       "      <th>0</th>\n",
       "      <td>SEQ_000007_000000</td>\n",
       "      <td>Target</td>\n",
       "      <td>SEQ_000007</td>\n",
       "      <td>0</td>\n",
       "      <td>SUBJ_059520</td>\n",
       "      <td>Seated Lean Non Dom - FACE DOWN</td>\n",
       "      <td>Relaxes and moves hand to target location</td>\n",
       "      <td>Transition</td>\n",
       "      <td>Cheek - pinch skin</td>\n",
       "      <td>6.683594</td>\n",
       "      <td>...</td>\n",
       "      <td>False</td>\n",
       "      <td>False</td>\n",
       "      <td>False</td>\n",
       "      <td>False</td>\n",
       "      <td>False</td>\n",
       "      <td>139.250000</td>\n",
       "      <td>117.109375</td>\n",
       "      <td>91.687500</td>\n",
       "      <td>123.359375</td>\n",
       "      <td>135.343750</td>\n",
       "    </tr>\n",
       "    <tr>\n",
       "      <th>1</th>\n",
       "      <td>SEQ_000007_000001</td>\n",
       "      <td>Target</td>\n",
       "      <td>SEQ_000007</td>\n",
       "      <td>1</td>\n",
       "      <td>SUBJ_059520</td>\n",
       "      <td>Seated Lean Non Dom - FACE DOWN</td>\n",
       "      <td>Relaxes and moves hand to target location</td>\n",
       "      <td>Transition</td>\n",
       "      <td>Cheek - pinch skin</td>\n",
       "      <td>6.949219</td>\n",
       "      <td>...</td>\n",
       "      <td>False</td>\n",
       "      <td>False</td>\n",
       "      <td>False</td>\n",
       "      <td>False</td>\n",
       "      <td>False</td>\n",
       "      <td>139.796875</td>\n",
       "      <td>119.671875</td>\n",
       "      <td>97.921875</td>\n",
       "      <td>124.406250</td>\n",
       "      <td>137.000000</td>\n",
       "    </tr>\n",
       "    <tr>\n",
       "      <th>2</th>\n",
       "      <td>SEQ_000007_000002</td>\n",
       "      <td>Target</td>\n",
       "      <td>SEQ_000007</td>\n",
       "      <td>2</td>\n",
       "      <td>SUBJ_059520</td>\n",
       "      <td>Seated Lean Non Dom - FACE DOWN</td>\n",
       "      <td>Relaxes and moves hand to target location</td>\n",
       "      <td>Transition</td>\n",
       "      <td>Cheek - pinch skin</td>\n",
       "      <td>5.722656</td>\n",
       "      <td>...</td>\n",
       "      <td>False</td>\n",
       "      <td>False</td>\n",
       "      <td>False</td>\n",
       "      <td>False</td>\n",
       "      <td>False</td>\n",
       "      <td>142.375000</td>\n",
       "      <td>128.359375</td>\n",
       "      <td>116.953125</td>\n",
       "      <td>125.687500</td>\n",
       "      <td>140.234375</td>\n",
       "    </tr>\n",
       "    <tr>\n",
       "      <th>3</th>\n",
       "      <td>SEQ_000007_000003</td>\n",
       "      <td>Target</td>\n",
       "      <td>SEQ_000007</td>\n",
       "      <td>3</td>\n",
       "      <td>SUBJ_059520</td>\n",
       "      <td>Seated Lean Non Dom - FACE DOWN</td>\n",
       "      <td>Relaxes and moves hand to target location</td>\n",
       "      <td>Transition</td>\n",
       "      <td>Cheek - pinch skin</td>\n",
       "      <td>6.601562</td>\n",
       "      <td>...</td>\n",
       "      <td>False</td>\n",
       "      <td>False</td>\n",
       "      <td>False</td>\n",
       "      <td>False</td>\n",
       "      <td>False</td>\n",
       "      <td>154.109375</td>\n",
       "      <td>142.093750</td>\n",
       "      <td>144.515625</td>\n",
       "      <td>149.078125</td>\n",
       "      <td>142.609375</td>\n",
       "    </tr>\n",
       "    <tr>\n",
       "      <th>4</th>\n",
       "      <td>SEQ_000007_000004</td>\n",
       "      <td>Target</td>\n",
       "      <td>SEQ_000007</td>\n",
       "      <td>4</td>\n",
       "      <td>SUBJ_059520</td>\n",
       "      <td>Seated Lean Non Dom - FACE DOWN</td>\n",
       "      <td>Relaxes and moves hand to target location</td>\n",
       "      <td>Transition</td>\n",
       "      <td>Cheek - pinch skin</td>\n",
       "      <td>5.566406</td>\n",
       "      <td>...</td>\n",
       "      <td>False</td>\n",
       "      <td>False</td>\n",
       "      <td>False</td>\n",
       "      <td>False</td>\n",
       "      <td>False</td>\n",
       "      <td>177.953125</td>\n",
       "      <td>149.453125</td>\n",
       "      <td>161.828125</td>\n",
       "      <td>163.765625</td>\n",
       "      <td>151.265625</td>\n",
       "    </tr>\n",
       "    <tr>\n",
       "      <th>...</th>\n",
       "      <td>...</td>\n",
       "      <td>...</td>\n",
       "      <td>...</td>\n",
       "      <td>...</td>\n",
       "      <td>...</td>\n",
       "      <td>...</td>\n",
       "      <td>...</td>\n",
       "      <td>...</td>\n",
       "      <td>...</td>\n",
       "      <td>...</td>\n",
       "      <td>...</td>\n",
       "      <td>...</td>\n",
       "      <td>...</td>\n",
       "      <td>...</td>\n",
       "      <td>...</td>\n",
       "      <td>...</td>\n",
       "      <td>...</td>\n",
       "      <td>...</td>\n",
       "      <td>...</td>\n",
       "      <td>...</td>\n",
       "      <td>...</td>\n",
       "    </tr>\n",
       "    <tr>\n",
       "      <th>574940</th>\n",
       "      <td>SEQ_065531_000048</td>\n",
       "      <td>Non-Target</td>\n",
       "      <td>SEQ_065531</td>\n",
       "      <td>48</td>\n",
       "      <td>SUBJ_039498</td>\n",
       "      <td>Seated Lean Non Dom - FACE DOWN</td>\n",
       "      <td>Performs gesture</td>\n",
       "      <td>Gesture</td>\n",
       "      <td>Write name on leg</td>\n",
       "      <td>3.503906</td>\n",
       "      <td>...</td>\n",
       "      <td>False</td>\n",
       "      <td>False</td>\n",
       "      <td>False</td>\n",
       "      <td>False</td>\n",
       "      <td>False</td>\n",
       "      <td>68.562500</td>\n",
       "      <td>67.750000</td>\n",
       "      <td>144.437500</td>\n",
       "      <td>74.062500</td>\n",
       "      <td>52.843750</td>\n",
       "    </tr>\n",
       "    <tr>\n",
       "      <th>574941</th>\n",
       "      <td>SEQ_065531_000049</td>\n",
       "      <td>Non-Target</td>\n",
       "      <td>SEQ_065531</td>\n",
       "      <td>49</td>\n",
       "      <td>SUBJ_039498</td>\n",
       "      <td>Seated Lean Non Dom - FACE DOWN</td>\n",
       "      <td>Performs gesture</td>\n",
       "      <td>Gesture</td>\n",
       "      <td>Write name on leg</td>\n",
       "      <td>3.773438</td>\n",
       "      <td>...</td>\n",
       "      <td>False</td>\n",
       "      <td>False</td>\n",
       "      <td>False</td>\n",
       "      <td>False</td>\n",
       "      <td>False</td>\n",
       "      <td>70.234375</td>\n",
       "      <td>66.656250</td>\n",
       "      <td>144.000000</td>\n",
       "      <td>70.406250</td>\n",
       "      <td>54.531250</td>\n",
       "    </tr>\n",
       "    <tr>\n",
       "      <th>574942</th>\n",
       "      <td>SEQ_065531_000050</td>\n",
       "      <td>Non-Target</td>\n",
       "      <td>SEQ_065531</td>\n",
       "      <td>50</td>\n",
       "      <td>SUBJ_039498</td>\n",
       "      <td>Seated Lean Non Dom - FACE DOWN</td>\n",
       "      <td>Performs gesture</td>\n",
       "      <td>Gesture</td>\n",
       "      <td>Write name on leg</td>\n",
       "      <td>3.082031</td>\n",
       "      <td>...</td>\n",
       "      <td>False</td>\n",
       "      <td>False</td>\n",
       "      <td>False</td>\n",
       "      <td>False</td>\n",
       "      <td>False</td>\n",
       "      <td>66.671875</td>\n",
       "      <td>62.906250</td>\n",
       "      <td>136.906250</td>\n",
       "      <td>70.109375</td>\n",
       "      <td>57.468750</td>\n",
       "    </tr>\n",
       "    <tr>\n",
       "      <th>574943</th>\n",
       "      <td>SEQ_065531_000051</td>\n",
       "      <td>Non-Target</td>\n",
       "      <td>SEQ_065531</td>\n",
       "      <td>51</td>\n",
       "      <td>SUBJ_039498</td>\n",
       "      <td>Seated Lean Non Dom - FACE DOWN</td>\n",
       "      <td>Performs gesture</td>\n",
       "      <td>Gesture</td>\n",
       "      <td>Write name on leg</td>\n",
       "      <td>3.964844</td>\n",
       "      <td>...</td>\n",
       "      <td>False</td>\n",
       "      <td>False</td>\n",
       "      <td>False</td>\n",
       "      <td>False</td>\n",
       "      <td>False</td>\n",
       "      <td>67.218750</td>\n",
       "      <td>64.500000</td>\n",
       "      <td>140.531250</td>\n",
       "      <td>75.609375</td>\n",
       "      <td>54.937500</td>\n",
       "    </tr>\n",
       "    <tr>\n",
       "      <th>574944</th>\n",
       "      <td>SEQ_065531_000052</td>\n",
       "      <td>Non-Target</td>\n",
       "      <td>SEQ_065531</td>\n",
       "      <td>52</td>\n",
       "      <td>SUBJ_039498</td>\n",
       "      <td>Seated Lean Non Dom - FACE DOWN</td>\n",
       "      <td>Performs gesture</td>\n",
       "      <td>Gesture</td>\n",
       "      <td>Write name on leg</td>\n",
       "      <td>4.269531</td>\n",
       "      <td>...</td>\n",
       "      <td>False</td>\n",
       "      <td>False</td>\n",
       "      <td>False</td>\n",
       "      <td>False</td>\n",
       "      <td>False</td>\n",
       "      <td>68.937500</td>\n",
       "      <td>65.156250</td>\n",
       "      <td>143.906250</td>\n",
       "      <td>75.890625</td>\n",
       "      <td>55.281250</td>\n",
       "    </tr>\n",
       "  </tbody>\n",
       "</table>\n",
       "<p>574945 rows × 50 columns</p>\n",
       "</div>"
      ],
      "text/plain": [
       "                   row_id sequence_type sequence_id  sequence_counter  \\\n",
       "0       SEQ_000007_000000        Target  SEQ_000007                 0   \n",
       "1       SEQ_000007_000001        Target  SEQ_000007                 1   \n",
       "2       SEQ_000007_000002        Target  SEQ_000007                 2   \n",
       "3       SEQ_000007_000003        Target  SEQ_000007                 3   \n",
       "4       SEQ_000007_000004        Target  SEQ_000007                 4   \n",
       "...                   ...           ...         ...               ...   \n",
       "574940  SEQ_065531_000048    Non-Target  SEQ_065531                48   \n",
       "574941  SEQ_065531_000049    Non-Target  SEQ_065531                49   \n",
       "574942  SEQ_065531_000050    Non-Target  SEQ_065531                50   \n",
       "574943  SEQ_065531_000051    Non-Target  SEQ_065531                51   \n",
       "574944  SEQ_065531_000052    Non-Target  SEQ_065531                52   \n",
       "\n",
       "            subject                      orientation  \\\n",
       "0       SUBJ_059520  Seated Lean Non Dom - FACE DOWN   \n",
       "1       SUBJ_059520  Seated Lean Non Dom - FACE DOWN   \n",
       "2       SUBJ_059520  Seated Lean Non Dom - FACE DOWN   \n",
       "3       SUBJ_059520  Seated Lean Non Dom - FACE DOWN   \n",
       "4       SUBJ_059520  Seated Lean Non Dom - FACE DOWN   \n",
       "...             ...                              ...   \n",
       "574940  SUBJ_039498  Seated Lean Non Dom - FACE DOWN   \n",
       "574941  SUBJ_039498  Seated Lean Non Dom - FACE DOWN   \n",
       "574942  SUBJ_039498  Seated Lean Non Dom - FACE DOWN   \n",
       "574943  SUBJ_039498  Seated Lean Non Dom - FACE DOWN   \n",
       "574944  SUBJ_039498  Seated Lean Non Dom - FACE DOWN   \n",
       "\n",
       "                                         behavior       phase  \\\n",
       "0       Relaxes and moves hand to target location  Transition   \n",
       "1       Relaxes and moves hand to target location  Transition   \n",
       "2       Relaxes and moves hand to target location  Transition   \n",
       "3       Relaxes and moves hand to target location  Transition   \n",
       "4       Relaxes and moves hand to target location  Transition   \n",
       "...                                           ...         ...   \n",
       "574940                           Performs gesture     Gesture   \n",
       "574941                           Performs gesture     Gesture   \n",
       "574942                           Performs gesture     Gesture   \n",
       "574943                           Performs gesture     Gesture   \n",
       "574944                           Performs gesture     Gesture   \n",
       "\n",
       "                   gesture     acc_x  ...  Drink from bottle/cup  \\\n",
       "0       Cheek - pinch skin  6.683594  ...                  False   \n",
       "1       Cheek - pinch skin  6.949219  ...                  False   \n",
       "2       Cheek - pinch skin  5.722656  ...                  False   \n",
       "3       Cheek - pinch skin  6.601562  ...                  False   \n",
       "4       Cheek - pinch skin  5.566406  ...                  False   \n",
       "...                    ...       ...  ...                    ...   \n",
       "574940   Write name on leg  3.503906  ...                  False   \n",
       "574941   Write name on leg  3.773438  ...                  False   \n",
       "574942   Write name on leg  3.082031  ...                  False   \n",
       "574943   Write name on leg  3.964844  ...                  False   \n",
       "574944   Write name on leg  4.269531  ...                  False   \n",
       "\n",
       "        Pinch knee/leg skin  Pull air toward your face  Scratch knee/leg skin  \\\n",
       "0                     False                      False                  False   \n",
       "1                     False                      False                  False   \n",
       "2                     False                      False                  False   \n",
       "3                     False                      False                  False   \n",
       "4                     False                      False                  False   \n",
       "...                     ...                        ...                    ...   \n",
       "574940                False                      False                  False   \n",
       "574941                False                      False                  False   \n",
       "574942                False                      False                  False   \n",
       "574943                False                      False                  False   \n",
       "574944                False                      False                  False   \n",
       "\n",
       "        Glasses on/off       tof_1       tof_2       tof_3       tof_4  \\\n",
       "0                False  139.250000  117.109375   91.687500  123.359375   \n",
       "1                False  139.796875  119.671875   97.921875  124.406250   \n",
       "2                False  142.375000  128.359375  116.953125  125.687500   \n",
       "3                False  154.109375  142.093750  144.515625  149.078125   \n",
       "4                False  177.953125  149.453125  161.828125  163.765625   \n",
       "...                ...         ...         ...         ...         ...   \n",
       "574940           False   68.562500   67.750000  144.437500   74.062500   \n",
       "574941           False   70.234375   66.656250  144.000000   70.406250   \n",
       "574942           False   66.671875   62.906250  136.906250   70.109375   \n",
       "574943           False   67.218750   64.500000  140.531250   75.609375   \n",
       "574944           False   68.937500   65.156250  143.906250   75.890625   \n",
       "\n",
       "             tof_5  \n",
       "0       135.343750  \n",
       "1       137.000000  \n",
       "2       140.234375  \n",
       "3       142.609375  \n",
       "4       151.265625  \n",
       "...            ...  \n",
       "574940   52.843750  \n",
       "574941   54.531250  \n",
       "574942   57.468750  \n",
       "574943   54.937500  \n",
       "574944   55.281250  \n",
       "\n",
       "[574945 rows x 50 columns]"
      ]
     },
     "execution_count": 8,
     "metadata": {},
     "output_type": "execute_result"
    }
   ],
   "source": [
    "def agg_tof_cols_per_sensor(df:DF) -> DF:\n",
    "    for tof_idx in range(1, 6):\n",
    "        tof_name = f\"tof_{tof_idx}\"\n",
    "        tof_cols = [f\"{tof_name}_v{v_idx}\" for v_idx in range(64)]\n",
    "        if any(map(lambda col: col not in df.columns, tof_cols)):\n",
    "            print(f\"Some (or) all ToF {tof_idx} columns are not in the df. Maybe you already ran this cell?\")\n",
    "            continue\n",
    "        df = (\n",
    "            df\n",
    "            # Need to use a dict otherwise the name of the col will be \"tof_preffix\" instead of the value it contains\n",
    "            .assign(**{tof_name:df[tof_cols].mean(axis=\"columns\")})\n",
    "            .drop(columns=tof_cols)\n",
    "        )\n",
    "    return df\n",
    "\n",
    "df = agg_tof_cols_per_sensor(df)\n",
    "# Redifine feature_cols now that there are less of them.\n",
    "feature_cols = list(set(df.columns) - set(META_DATA_COLUMNS) - set(df[\"gesture\"].unique().tolist()))\n",
    "\n",
    "df"
   ]
  },
  {
   "cell_type": "markdown",
   "id": "05e480d3",
   "metadata": {},
   "source": [
    "### Split into folds"
   ]
  },
  {
   "cell_type": "code",
   "execution_count": 9,
   "id": "4bae51e8",
   "metadata": {},
   "outputs": [],
   "source": [
    "def split_dataset(df:DF, by=\"subject\") -> tuple[DF, DF]:\n",
    "    unique_sequences = df[by].unique()\n",
    "    validation_sequences = pd.Series(unique_sequences).sample(\n",
    "        frac=VALIDATION_FRACTION, replace=False\n",
    "    )\n",
    "\n",
    "    validation_set = df[df[by].isin(validation_sequences)]\n",
    "    train_set = df[~df[by].isin(validation_sequences)]\n",
    "\n",
    "    return train_set, validation_set\n",
    "\n",
    "folds = list(map(split_dataset, repeat(df, N_FOLDS)))"
   ]
  },
  {
   "cell_type": "code",
   "execution_count": 10,
   "id": "5f040eb8",
   "metadata": {},
   "outputs": [
    {
     "data": {
      "text/plain": [
       "(574945, 50)"
      ]
     },
     "metadata": {},
     "output_type": "display_data"
    },
    {
     "data": {
      "text/plain": [
       "(456902, 50)"
      ]
     },
     "metadata": {},
     "output_type": "display_data"
    },
    {
     "data": {
      "text/plain": [
       "(118043, 50)"
      ]
     },
     "metadata": {},
     "output_type": "display_data"
    }
   ],
   "source": [
    "display(df.shape)\n",
    "display(folds[0][0].shape)\n",
    "display(folds[0][1].shape)"
   ]
  },
  {
   "cell_type": "code",
   "execution_count": 11,
   "id": "edb72a67",
   "metadata": {},
   "outputs": [
    {
     "name": "stdout",
     "output_type": "stream",
     "text": [
      "(456902, 50) (118043, 50)\n",
      "(457817, 50) (117128, 50)\n",
      "(460665, 50) (114280, 50)\n",
      "(460960, 50) (113985, 50)\n",
      "(454964, 50) (119981, 50)\n"
     ]
    }
   ],
   "source": [
    "for train_df, validation_df in folds:\n",
    "    print(train_df.shape, validation_df.shape)"
   ]
  },
  {
   "cell_type": "markdown",
   "id": "d81b9c0d",
   "metadata": {},
   "source": [
    "### Std norm\n",
    "Standard scale the feature cols (should probably do something different for IMU cols).  \n",
    "<!-- *Deprecated, std norm is now performed at dataset creation to avoid target leakage.*   -->"
   ]
  },
  {
   "cell_type": "code",
   "execution_count": 12,
   "id": "c9d5755e",
   "metadata": {},
   "outputs": [
    {
     "name": "stderr",
     "output_type": "stream",
     "text": [
      "/tmp/ipykernel_75726/2075072895.py:4: FutureWarning: Setting an item of incompatible dtype is deprecated and will raise in a future error of pandas. Value '[ 1.55618001  1.55302021  1.5556055  ... -1.0006715  -0.89955795\n",
      " -0.89438737]' has dtype incompatible with float32, please explicitly cast to a compatible dtype first.\n",
      "  train.loc[:, feature_cols] = (train[feature_cols] - means) / std\n",
      "/tmp/ipykernel_75726/2075072895.py:4: FutureWarning: Setting an item of incompatible dtype is deprecated and will raise in a future error of pandas. Value '[0.43246421 0.46172138 0.47183199 ... 0.84278109 0.85775242 0.86470371]' has dtype incompatible with float32, please explicitly cast to a compatible dtype first.\n",
      "  train.loc[:, feature_cols] = (train[feature_cols] - means) / std\n",
      "/tmp/ipykernel_75726/2075072895.py:4: FutureWarning: Setting an item of incompatible dtype is deprecated and will raise in a future error of pandas. Value '[-0.04369583 -0.03719973 -0.03265245 ... -1.60055136 -1.60587817\n",
      " -1.60899629]' has dtype incompatible with float32, please explicitly cast to a compatible dtype first.\n",
      "  train.loc[:, feature_cols] = (train[feature_cols] - means) / std\n",
      "/tmp/ipykernel_75726/2075072895.py:4: FutureWarning: Setting an item of incompatible dtype is deprecated and will raise in a future error of pandas. Value '[0.21839457 0.19221263 0.20563927 ... 0.27277244 0.42449341 0.47685729]' has dtype incompatible with float32, please explicitly cast to a compatible dtype first.\n",
      "  train.loc[:, feature_cols] = (train[feature_cols] - means) / std\n",
      "/tmp/ipykernel_75726/2075072895.py:4: FutureWarning: Setting an item of incompatible dtype is deprecated and will raise in a future error of pandas. Value '[ 1.67690271  1.68333101  1.68333101 ... -1.12969134 -1.4067509\n",
      " -1.49610422]' has dtype incompatible with float32, please explicitly cast to a compatible dtype first.\n",
      "  train.loc[:, feature_cols] = (train[feature_cols] - means) / std\n",
      "/tmp/ipykernel_75726/2075072895.py:4: FutureWarning: Setting an item of incompatible dtype is deprecated and will raise in a future error of pandas. Value '[-0.15012293 -0.13399246 -0.14311506 ...  0.60620464  0.67813719\n",
      "  0.65794172]' has dtype incompatible with float32, please explicitly cast to a compatible dtype first.\n",
      "  train.loc[:, feature_cols] = (train[feature_cols] - means) / std\n",
      "/tmp/ipykernel_75726/2075072895.py:4: FutureWarning: Setting an item of incompatible dtype is deprecated and will raise in a future error of pandas. Value '[1.24832187 1.24625934 1.24684863 ... 0.4082809  0.4766392  0.54028313]' has dtype incompatible with float32, please explicitly cast to a compatible dtype first.\n",
      "  train.loc[:, feature_cols] = (train[feature_cols] - means) / std\n",
      "/tmp/ipykernel_75726/2075072895.py:4: FutureWarning: Setting an item of incompatible dtype is deprecated and will raise in a future error of pandas. Value '[ 0.41208751  0.41397528  0.41181783 ... -0.92525608 -0.96894426\n",
      " -0.96301129]' has dtype incompatible with float32, please explicitly cast to a compatible dtype first.\n",
      "  train.loc[:, feature_cols] = (train[feature_cols] - means) / std\n",
      "/tmp/ipykernel_75726/2075072895.py:4: FutureWarning: Setting an item of incompatible dtype is deprecated and will raise in a future error of pandas. Value '[-0.29746647 -0.29362928 -0.29834393 ...  0.30213572  0.33047325\n",
      "  0.31557361]' has dtype incompatible with float32, please explicitly cast to a compatible dtype first.\n",
      "  train.loc[:, feature_cols] = (train[feature_cols] - means) / std\n",
      "/tmp/ipykernel_75726/2075072895.py:4: FutureWarning: Setting an item of incompatible dtype is deprecated and will raise in a future error of pandas. Value '[-0.59949531 -0.59595491 -0.61394854 ...  0.29858279  0.38096211\n",
      "  0.37102924]' has dtype incompatible with float32, please explicitly cast to a compatible dtype first.\n",
      "  train.loc[:, feature_cols] = (train[feature_cols] - means) / std\n",
      "/tmp/ipykernel_75726/2075072895.py:4: FutureWarning: Setting an item of incompatible dtype is deprecated and will raise in a future error of pandas. Value '[-1.51409391 -1.5137329  -1.51060423 ...  0.00728477 -0.01702263\n",
      " -0.0040266 ]' has dtype incompatible with float32, please explicitly cast to a compatible dtype first.\n",
      "  train.loc[:, feature_cols] = (train[feature_cols] - means) / std\n",
      "/tmp/ipykernel_75726/2075072895.py:4: FutureWarning: Setting an item of incompatible dtype is deprecated and will raise in a future error of pandas. Value '[-0.18143015 -0.17378386 -0.15084498 ... -1.07103674 -1.0523165\n",
      " -1.07420072]' has dtype incompatible with float32, please explicitly cast to a compatible dtype first.\n",
      "  train.loc[:, feature_cols] = (train[feature_cols] - means) / std\n",
      "/tmp/ipykernel_75726/2075072895.py:4: FutureWarning: Setting an item of incompatible dtype is deprecated and will raise in a future error of pandas. Value '[ 0.03443439  0.03432184  0.03072021 ... -0.75781208 -0.73834076\n",
      " -0.74036667]' has dtype incompatible with float32, please explicitly cast to a compatible dtype first.\n",
      "  train.loc[:, feature_cols] = (train[feature_cols] - means) / std\n",
      "/tmp/ipykernel_75726/2075072895.py:4: FutureWarning: Setting an item of incompatible dtype is deprecated and will raise in a future error of pandas. Value '[ 1.07124191  1.07065333  1.06859333 ... -1.01996013 -1.00966009\n",
      " -0.97728855]' has dtype incompatible with float32, please explicitly cast to a compatible dtype first.\n",
      "  train.loc[:, feature_cols] = (train[feature_cols] - means) / std\n",
      "/tmp/ipykernel_75726/2075072895.py:4: FutureWarning: Setting an item of incompatible dtype is deprecated and will raise in a future error of pandas. Value '[ 1.14478105  1.14539465  1.14294024 ... -0.89513614 -0.86384248\n",
      " -0.85095685]' has dtype incompatible with float32, please explicitly cast to a compatible dtype first.\n",
      "  train.loc[:, feature_cols] = (train[feature_cols] - means) / std\n",
      "/tmp/ipykernel_75726/2075072895.py:4: FutureWarning: Setting an item of incompatible dtype is deprecated and will raise in a future error of pandas. Value '[-0.4044621  -0.4044621  -0.39668926 ... -0.31662907 -0.43166702\n",
      " -0.54592768]' has dtype incompatible with float32, please explicitly cast to a compatible dtype first.\n",
      "  train.loc[:, feature_cols] = (train[feature_cols] - means) / std\n",
      "/tmp/ipykernel_75726/2075072895.py:4: FutureWarning: Setting an item of incompatible dtype is deprecated and will raise in a future error of pandas. Value '[-0.03581124 -0.04719727 -0.03581124 ...  0.61768633  0.56575622\n",
      "  0.56467061]' has dtype incompatible with float32, please explicitly cast to a compatible dtype first.\n",
      "  train.loc[:, feature_cols] = (train[feature_cols] - means) / std\n",
      "/tmp/ipykernel_75726/2075072895.py:5: FutureWarning: Setting an item of incompatible dtype is deprecated and will raise in a future error of pandas. Value '[-0.02170847 -0.00246242  0.02109244 ...  0.11301385  0.09290604\n",
      "  0.09405506]' has dtype incompatible with float32, please explicitly cast to a compatible dtype first.\n",
      "  val.loc[:, feature_cols] = (val[feature_cols] - means) / std\n",
      "/tmp/ipykernel_75726/2075072895.py:5: FutureWarning: Setting an item of incompatible dtype is deprecated and will raise in a future error of pandas. Value '[ 0.39035346  0.4086135   0.44297486 ... -0.6944704  -0.68395184\n",
      " -0.62616697]' has dtype incompatible with float32, please explicitly cast to a compatible dtype first.\n",
      "  val.loc[:, feature_cols] = (val[feature_cols] - means) / std\n",
      "/tmp/ipykernel_75726/2075072895.py:5: FutureWarning: Setting an item of incompatible dtype is deprecated and will raise in a future error of pandas. Value '[-0.51687181 -0.48517084 -0.34459522 ... -1.02902441 -1.03084332\n",
      " -1.03162285]' has dtype incompatible with float32, please explicitly cast to a compatible dtype first.\n",
      "  val.loc[:, feature_cols] = (val[feature_cols] - means) / std\n",
      "/tmp/ipykernel_75726/2075072895.py:5: FutureWarning: Setting an item of incompatible dtype is deprecated and will raise in a future error of pandas. Value '[ 0.8917403   0.93739086  0.72659269 ... -1.64455099 -1.61769772\n",
      " -1.61769772]' has dtype incompatible with float32, please explicitly cast to a compatible dtype first.\n",
      "  val.loc[:, feature_cols] = (val[feature_cols] - means) / std\n",
      "/tmp/ipykernel_75726/2075072895.py:5: FutureWarning: Setting an item of incompatible dtype is deprecated and will raise in a future error of pandas. Value '[0.64066139 0.60273444 0.98071825 ... 0.14182562 0.16046767 0.17975256]' has dtype incompatible with float32, please explicitly cast to a compatible dtype first.\n",
      "  val.loc[:, feature_cols] = (val[feature_cols] - means) / std\n",
      "/tmp/ipykernel_75726/2075072895.py:5: FutureWarning: Setting an item of incompatible dtype is deprecated and will raise in a future error of pandas. Value '[ 0.49406596  0.58050305  0.79792538 ... -0.11720748 -0.10185115\n",
      " -0.05665928]' has dtype incompatible with float32, please explicitly cast to a compatible dtype first.\n",
      "  val.loc[:, feature_cols] = (val[feature_cols] - means) / std\n",
      "/tmp/ipykernel_75726/2075072895.py:5: FutureWarning: Setting an item of incompatible dtype is deprecated and will raise in a future error of pandas. Value '[-0.44442993 -0.32686544  0.03201562 ... -0.18513984 -0.18926491\n",
      " -0.19250603]' has dtype incompatible with float32, please explicitly cast to a compatible dtype first.\n",
      "  val.loc[:, feature_cols] = (val[feature_cols] - means) / std\n",
      "/tmp/ipykernel_75726/2075072895.py:5: FutureWarning: Setting an item of incompatible dtype is deprecated and will raise in a future error of pandas. Value '[0.41882952 0.44741561 0.50323939 ... 0.23086249 0.23086249 0.23086249]' has dtype incompatible with float32, please explicitly cast to a compatible dtype first.\n",
      "  val.loc[:, feature_cols] = (val[feature_cols] - means) / std\n",
      "/tmp/ipykernel_75726/2075072895.py:5: FutureWarning: Setting an item of incompatible dtype is deprecated and will raise in a future error of pandas. Value '[0.60845848 0.65250975 0.70755132 ... 0.27663401 0.29444022 0.32340884]' has dtype incompatible with float32, please explicitly cast to a compatible dtype first.\n",
      "  val.loc[:, feature_cols] = (val[feature_cols] - means) / std\n",
      "/tmp/ipykernel_75726/2075072895.py:5: FutureWarning: Setting an item of incompatible dtype is deprecated and will raise in a future error of pandas. Value '[ 1.12743169  1.13898957  0.93197769 ... -0.04215281 -0.02214966\n",
      " -0.04215281]' has dtype incompatible with float32, please explicitly cast to a compatible dtype first.\n",
      "  val.loc[:, feature_cols] = (val[feature_cols] - means) / std\n",
      "/tmp/ipykernel_75726/2075072895.py:5: FutureWarning: Setting an item of incompatible dtype is deprecated and will raise in a future error of pandas. Value '[-1.26163385 -1.2907546  -1.3718595  ...  0.9503398   0.95118213\n",
      "  0.96490017]' has dtype incompatible with float32, please explicitly cast to a compatible dtype first.\n",
      "  val.loc[:, feature_cols] = (val[feature_cols] - means) / std\n",
      "/tmp/ipykernel_75726/2075072895.py:5: FutureWarning: Setting an item of incompatible dtype is deprecated and will raise in a future error of pandas. Value '[-0.97928123 -0.9399951  -0.61357751 ...  1.25369986  1.25211787\n",
      "  1.21072242]' has dtype incompatible with float32, please explicitly cast to a compatible dtype first.\n",
      "  val.loc[:, feature_cols] = (val[feature_cols] - means) / std\n",
      "/tmp/ipykernel_75726/2075072895.py:5: FutureWarning: Setting an item of incompatible dtype is deprecated and will raise in a future error of pandas. Value '[-0.732263   -0.6978224  -0.56557498 ...  0.74057934  0.73832832\n",
      "  0.7579122 ]' has dtype incompatible with float32, please explicitly cast to a compatible dtype first.\n",
      "  val.loc[:, feature_cols] = (val[feature_cols] - means) / std\n",
      "/tmp/ipykernel_75726/2075072895.py:5: FutureWarning: Setting an item of incompatible dtype is deprecated and will raise in a future error of pandas. Value '[0.34700208 0.35730212 0.40585944 ... 0.70926914 0.6922005  0.70926914]' has dtype incompatible with float32, please explicitly cast to a compatible dtype first.\n",
      "  val.loc[:, feature_cols] = (val[feature_cols] - means) / std\n",
      "/tmp/ipykernel_75726/2075072895.py:5: FutureWarning: Setting an item of incompatible dtype is deprecated and will raise in a future error of pandas. Value '[0.16915514 0.21947044 0.39005157 ... 0.66371771 0.6618769  0.67261492]' has dtype incompatible with float32, please explicitly cast to a compatible dtype first.\n",
      "  val.loc[:, feature_cols] = (val[feature_cols] - means) / std\n",
      "/tmp/ipykernel_75726/2075072895.py:5: FutureWarning: Setting an item of incompatible dtype is deprecated and will raise in a future error of pandas. Value '[ 0.87650101  0.87650101  0.71638062 ... -1.39394391 -1.43980363\n",
      " -1.42503525]' has dtype incompatible with float32, please explicitly cast to a compatible dtype first.\n",
      "  val.loc[:, feature_cols] = (val[feature_cols] - means) / std\n",
      "/tmp/ipykernel_75726/2075072895.py:5: FutureWarning: Setting an item of incompatible dtype is deprecated and will raise in a future error of pandas. Value '[0.48880492 0.50200416 0.51906359 ... 0.05136703 0.0553204  0.05249134]' has dtype incompatible with float32, please explicitly cast to a compatible dtype first.\n",
      "  val.loc[:, feature_cols] = (val[feature_cols] - means) / std\n",
      "/tmp/ipykernel_75726/2075072895.py:4: FutureWarning: Setting an item of incompatible dtype is deprecated and will raise in a future error of pandas. Value '[ 1.54884708  1.54568786  1.54827268 ... -1.0075392  -0.90644404\n",
      " -0.9012744 ]' has dtype incompatible with float32, please explicitly cast to a compatible dtype first.\n",
      "  train.loc[:, feature_cols] = (train[feature_cols] - means) / std\n",
      "/tmp/ipykernel_75726/2075072895.py:4: FutureWarning: Setting an item of incompatible dtype is deprecated and will raise in a future error of pandas. Value '[0.38604583 0.41480165 0.424739   ... 0.78933156 0.80404635 0.81087852]' has dtype incompatible with float32, please explicitly cast to a compatible dtype first.\n",
      "  train.loc[:, feature_cols] = (train[feature_cols] - means) / std\n",
      "/tmp/ipykernel_75726/2075072895.py:4: FutureWarning: Setting an item of incompatible dtype is deprecated and will raise in a future error of pandas. Value '[-0.03408862 -0.02755418 -0.02298006 ... -1.60013481 -1.60549306\n",
      " -1.60862959]' has dtype incompatible with float32, please explicitly cast to a compatible dtype first.\n",
      "  train.loc[:, feature_cols] = (train[feature_cols] - means) / std\n",
      "/tmp/ipykernel_75726/2075072895.py:4: FutureWarning: Setting an item of incompatible dtype is deprecated and will raise in a future error of pandas. Value '[0.21303804 0.18667698 0.20019547 ... 0.26778793 0.42054687 0.47326899]' has dtype incompatible with float32, please explicitly cast to a compatible dtype first.\n",
      "  train.loc[:, feature_cols] = (train[feature_cols] - means) / std\n",
      "/tmp/ipykernel_75726/2075072895.py:4: FutureWarning: Setting an item of incompatible dtype is deprecated and will raise in a future error of pandas. Value '[ 1.65281853  1.6592066   1.6592066  ... -1.1362147  -1.4115407\n",
      " -1.50033493]' has dtype incompatible with float32, please explicitly cast to a compatible dtype first.\n",
      "  train.loc[:, feature_cols] = (train[feature_cols] - means) / std\n",
      "/tmp/ipykernel_75726/2075072895.py:4: FutureWarning: Setting an item of incompatible dtype is deprecated and will raise in a future error of pandas. Value '[-0.15429706 -0.13816379 -0.14728798 ...  0.60216237  0.67410747\n",
      "  0.65390848]' has dtype incompatible with float32, please explicitly cast to a compatible dtype first.\n",
      "  train.loc[:, feature_cols] = (train[feature_cols] - means) / std\n",
      "/tmp/ipykernel_75726/2075072895.py:4: FutureWarning: Setting an item of incompatible dtype is deprecated and will raise in a future error of pandas. Value '[1.2250239  1.22297474 1.22356021 ... 0.39042758 0.45834282 0.52157425]' has dtype incompatible with float32, please explicitly cast to a compatible dtype first.\n",
      "  train.loc[:, feature_cols] = (train[feature_cols] - means) / std\n",
      "/tmp/ipykernel_75726/2075072895.py:4: FutureWarning: Setting an item of incompatible dtype is deprecated and will raise in a future error of pandas. Value '[ 0.41200727  0.41388966  0.41173835 ... -0.92153651 -0.96510055\n",
      " -0.95918445]' has dtype incompatible with float32, please explicitly cast to a compatible dtype first.\n",
      "  train.loc[:, feature_cols] = (train[feature_cols] - means) / std\n",
      "/tmp/ipykernel_75726/2075072895.py:4: FutureWarning: Setting an item of incompatible dtype is deprecated and will raise in a future error of pandas. Value '[-0.51195942 -0.50687037 -0.51312315 ...  0.28326092  0.32084347\n",
      "  0.30108288]' has dtype incompatible with float32, please explicitly cast to a compatible dtype first.\n",
      "  train.loc[:, feature_cols] = (train[feature_cols] - means) / std\n",
      "/tmp/ipykernel_75726/2075072895.py:4: FutureWarning: Setting an item of incompatible dtype is deprecated and will raise in a future error of pandas. Value '[-0.60217668 -0.59862566 -0.61667329 ...  0.29859672  0.38122328\n",
      "  0.3712606 ]' has dtype incompatible with float32, please explicitly cast to a compatible dtype first.\n",
      "  train.loc[:, feature_cols] = (train[feature_cols] - means) / std\n",
      "/tmp/ipykernel_75726/2075072895.py:4: FutureWarning: Setting an item of incompatible dtype is deprecated and will raise in a future error of pandas. Value '[-1.49813703 -1.49777136 -1.49460225 ...  0.04290399  0.01828244\n",
      "  0.03144644]' has dtype incompatible with float32, please explicitly cast to a compatible dtype first.\n",
      "  train.loc[:, feature_cols] = (train[feature_cols] - means) / std\n",
      "/tmp/ipykernel_75726/2075072895.py:4: FutureWarning: Setting an item of incompatible dtype is deprecated and will raise in a future error of pandas. Value '[-0.20083994 -0.19311628 -0.16994533 ... -1.09944697 -1.08053734\n",
      " -1.10264296]' has dtype incompatible with float32, please explicitly cast to a compatible dtype first.\n",
      "  train.loc[:, feature_cols] = (train[feature_cols] - means) / std\n",
      "/tmp/ipykernel_75726/2075072895.py:4: FutureWarning: Setting an item of incompatible dtype is deprecated and will raise in a future error of pandas. Value '[ 0.04997721  0.04986445  0.0462562  ... -0.74372518 -0.72421807\n",
      " -0.72624771]' has dtype incompatible with float32, please explicitly cast to a compatible dtype first.\n",
      "  train.loc[:, feature_cols] = (train[feature_cols] - means) / std\n",
      "/tmp/ipykernel_75726/2075072895.py:4: FutureWarning: Setting an item of incompatible dtype is deprecated and will raise in a future error of pandas. Value '[ 1.06460117  1.06401286  1.06195377 ... -1.025663   -1.01536758\n",
      " -0.98301055]' has dtype incompatible with float32, please explicitly cast to a compatible dtype first.\n",
      "  train.loc[:, feature_cols] = (train[feature_cols] - means) / std\n",
      "/tmp/ipykernel_75726/2075072895.py:4: FutureWarning: Setting an item of incompatible dtype is deprecated and will raise in a future error of pandas. Value '[ 1.13003149  1.13064449  1.1281925  ... -0.90788452 -0.87662155\n",
      " -0.86374857]' has dtype incompatible with float32, please explicitly cast to a compatible dtype first.\n",
      "  train.loc[:, feature_cols] = (train[feature_cols] - means) / std\n",
      "/tmp/ipykernel_75726/2075072895.py:4: FutureWarning: Setting an item of incompatible dtype is deprecated and will raise in a future error of pandas. Value '[-0.39191627 -0.39191627 -0.38412178 ... -0.30383857 -0.41919697\n",
      " -0.53377593]' has dtype incompatible with float32, please explicitly cast to a compatible dtype first.\n",
      "  train.loc[:, feature_cols] = (train[feature_cols] - means) / std\n",
      "/tmp/ipykernel_75726/2075072895.py:4: FutureWarning: Setting an item of incompatible dtype is deprecated and will raise in a future error of pandas. Value '[-0.04389997 -0.05525714 -0.04389997 ...  0.60794139  0.5561429\n",
      "  0.55506004]' has dtype incompatible with float32, please explicitly cast to a compatible dtype first.\n",
      "  train.loc[:, feature_cols] = (train[feature_cols] - means) / std\n",
      "/tmp/ipykernel_75726/2075072895.py:5: FutureWarning: Setting an item of incompatible dtype is deprecated and will raise in a future error of pandas. Value '[-0.02875429 -0.00951175  0.01403883 ...  0.99799337  0.98334606\n",
      "  0.98478207]' has dtype incompatible with float32, please explicitly cast to a compatible dtype first.\n",
      "  val.loc[:, feature_cols] = (val[feature_cols] - means) / std\n",
      "/tmp/ipykernel_75726/2075072895.py:5: FutureWarning: Setting an item of incompatible dtype is deprecated and will raise in a future error of pandas. Value '[0.34465668 0.36260383 0.39637637 ... 0.18423235 0.15811038 0.13606927]' has dtype incompatible with float32, please explicitly cast to a compatible dtype first.\n",
      "  val.loc[:, feature_cols] = (val[feature_cols] - means) / std\n",
      "/tmp/ipykernel_75726/2075072895.py:5: FutureWarning: Setting an item of incompatible dtype is deprecated and will raise in a future error of pandas. Value '[-0.51005793 -0.47816982 -0.33676433 ... -0.80920503 -0.81848395\n",
      " -0.7502643 ]' has dtype incompatible with float32, please explicitly cast to a compatible dtype first.\n",
      "  val.loc[:, feature_cols] = (val[feature_cols] - means) / std\n",
      "/tmp/ipykernel_75726/2075072895.py:5: FutureWarning: Setting an item of incompatible dtype is deprecated and will raise in a future error of pandas. Value '[ 0.89099036  0.93695322  0.72471292 ... -1.58018978 -1.53355099\n",
      " -1.46055114]' has dtype incompatible with float32, please explicitly cast to a compatible dtype first.\n",
      "  val.loc[:, feature_cols] = (val[feature_cols] - means) / std\n",
      "/tmp/ipykernel_75726/2075072895.py:5: FutureWarning: Setting an item of incompatible dtype is deprecated and will raise in a future error of pandas. Value '[ 0.62306095  0.58537132  0.96099008 ... -0.4399146  -0.44566387\n",
      " -0.43352653]' has dtype incompatible with float32, please explicitly cast to a compatible dtype first.\n",
      "  val.loc[:, feature_cols] = (val[feature_cols] - means) / std\n",
      "/tmp/ipykernel_75726/2075072895.py:5: FutureWarning: Setting an item of incompatible dtype is deprecated and will raise in a future error of pandas. Value '[0.49000414 0.5764563  0.79391654 ... 0.38237062 0.38411936 0.37618564]' has dtype incompatible with float32, please explicitly cast to a compatible dtype first.\n",
      "  val.loc[:, feature_cols] = (val[feature_cols] - means) / std\n",
      "/tmp/ipykernel_75726/2075072895.py:5: FutureWarning: Setting an item of incompatible dtype is deprecated and will raise in a future error of pandas. Value '[-0.45675649 -0.33995398  0.01660102 ...  0.21507746  0.28592008\n",
      "  0.26425746]' has dtype incompatible with float32, please explicitly cast to a compatible dtype first.\n",
      "  val.loc[:, feature_cols] = (val[feature_cols] - means) / std\n",
      "/tmp/ipykernel_75726/2075072895.py:5: FutureWarning: Setting an item of incompatible dtype is deprecated and will raise in a future error of pandas. Value '[0.41873011 0.44723498 0.50290015 ... 0.8457653  0.86485819 0.8476477 ]' has dtype incompatible with float32, please explicitly cast to a compatible dtype first.\n",
      "  val.loc[:, feature_cols] = (val[feature_cols] - means) / std\n",
      "/tmp/ipykernel_75726/2075072895.py:5: FutureWarning: Setting an item of incompatible dtype is deprecated and will raise in a future error of pandas. Value '[0.68952043 0.74794328 0.82094197 ... 0.07629336 0.12305741 0.19756386]' has dtype incompatible with float32, please explicitly cast to a compatible dtype first.\n",
      "  val.loc[:, feature_cols] = (val[feature_cols] - means) / std\n",
      "/tmp/ipykernel_75726/2075072895.py:5: FutureWarning: Setting an item of incompatible dtype is deprecated and will raise in a future error of pandas. Value '[1.12993316 1.14152573 0.93389256 ... 0.66132896 0.72776368 0.75158779]' has dtype incompatible with float32, please explicitly cast to a compatible dtype first.\n",
      "  val.loc[:, feature_cols] = (val[feature_cols] - means) / std\n",
      "/tmp/ipykernel_75726/2075072895.py:5: FutureWarning: Setting an item of incompatible dtype is deprecated and will raise in a future error of pandas. Value '[-1.24241417 -1.27191128 -1.35406438 ...  1.51312757  1.50337646\n",
      "  1.55688568]' has dtype incompatible with float32, please explicitly cast to a compatible dtype first.\n",
      "  val.loc[:, feature_cols] = (val[feature_cols] - means) / std\n",
      "/tmp/ipykernel_75726/2075072895.py:5: FutureWarning: Setting an item of incompatible dtype is deprecated and will raise in a future error of pandas. Value '[-1.00676314 -0.96707954 -0.63735948 ... -1.09412031 -1.10583896\n",
      " -0.98891884]' has dtype incompatible with float32, please explicitly cast to a compatible dtype first.\n",
      "  val.loc[:, feature_cols] = (val[feature_cols] - means) / std\n",
      "/tmp/ipykernel_75726/2075072895.py:5: FutureWarning: Setting an item of incompatible dtype is deprecated and will raise in a future error of pandas. Value '[-0.71812915 -0.68362525 -0.5511348  ...  1.30125089  1.30395707\n",
      "  1.29414714]' has dtype incompatible with float32, please explicitly cast to a compatible dtype first.\n",
      "  val.loc[:, feature_cols] = (val[feature_cols] - means) / std\n",
      "/tmp/ipykernel_75726/2075072895.py:5: FutureWarning: Setting an item of incompatible dtype is deprecated and will raise in a future error of pandas. Value '[0.34068615 0.35098157 0.39951711 ... 0.46746688 0.46952596 0.39481064]' has dtype incompatible with float32, please explicitly cast to a compatible dtype first.\n",
      "  val.loc[:, feature_cols] = (val[feature_cols] - means) / std\n",
      "/tmp/ipykernel_75726/2075072895.py:5: FutureWarning: Setting an item of incompatible dtype is deprecated and will raise in a future error of pandas. Value '[ 0.15536268  0.20562862  0.37604241 ... -0.21795386 -0.21703436\n",
      " -0.31266224]' has dtype incompatible with float32, please explicitly cast to a compatible dtype first.\n",
      "  val.loc[:, feature_cols] = (val[feature_cols] - means) / std\n",
      "/tmp/ipykernel_75726/2075072895.py:5: FutureWarning: Setting an item of incompatible dtype is deprecated and will raise in a future error of pandas. Value '[0.89261513 0.89261513 0.7320487  ... 0.96510385 0.89651237 0.89651237]' has dtype incompatible with float32, please explicitly cast to a compatible dtype first.\n",
      "  val.loc[:, feature_cols] = (val[feature_cols] - means) / std\n",
      "/tmp/ipykernel_75726/2075072895.py:5: FutureWarning: Setting an item of incompatible dtype is deprecated and will raise in a future error of pandas. Value '[ 0.47938662  0.49255241  0.50956861 ... -0.00799437 -0.02839437\n",
      " -0.03978699]' has dtype incompatible with float32, please explicitly cast to a compatible dtype first.\n",
      "  val.loc[:, feature_cols] = (val[feature_cols] - means) / std\n",
      "/tmp/ipykernel_75726/2075072895.py:4: FutureWarning: Setting an item of incompatible dtype is deprecated and will raise in a future error of pandas. Value '[-0.06333984 -0.04326018 -0.01868508 ... -1.08470521 -0.97921207\n",
      " -0.97381754]' has dtype incompatible with float32, please explicitly cast to a compatible dtype first.\n",
      "  train.loc[:, feature_cols] = (train[feature_cols] - means) / std\n",
      "/tmp/ipykernel_75726/2075072895.py:4: FutureWarning: Setting an item of incompatible dtype is deprecated and will raise in a future error of pandas. Value '[0.46402806 0.49529129 0.55412176 ... 1.23863452 1.2642671  1.27616849]' has dtype incompatible with float32, please explicitly cast to a compatible dtype first.\n",
      "  train.loc[:, feature_cols] = (train[feature_cols] - means) / std\n",
      "/tmp/ipykernel_75726/2075072895.py:4: FutureWarning: Setting an item of incompatible dtype is deprecated and will raise in a future error of pandas. Value '[-0.52547107 -0.49331547 -0.35072384 ... -1.62469178 -1.63009497\n",
      " -1.63325782]' has dtype incompatible with float32, please explicitly cast to a compatible dtype first.\n",
      "  train.loc[:, feature_cols] = (train[feature_cols] - means) / std\n",
      "/tmp/ipykernel_75726/2075072895.py:4: FutureWarning: Setting an item of incompatible dtype is deprecated and will raise in a future error of pandas. Value '[0.88202308 0.92781661 0.71635825 ... 0.26111668 0.41331283 0.4658407 ]' has dtype incompatible with float32, please explicitly cast to a compatible dtype first.\n",
      "  train.loc[:, feature_cols] = (train[feature_cols] - means) / std\n",
      "/tmp/ipykernel_75726/2075072895.py:4: FutureWarning: Setting an item of incompatible dtype is deprecated and will raise in a future error of pandas. Value '[ 0.61588795  0.57825072  0.9533472  ... -1.14094149 -1.41588466\n",
      " -1.50455543]' has dtype incompatible with float32, please explicitly cast to a compatible dtype first.\n",
      "  train.loc[:, feature_cols] = (train[feature_cols] - means) / std\n",
      "/tmp/ipykernel_75726/2075072895.py:4: FutureWarning: Setting an item of incompatible dtype is deprecated and will raise in a future error of pandas. Value '[0.56637417 0.67968995 0.96472245 ... 0.71338377 0.80768464 0.78120913]' has dtype incompatible with float32, please explicitly cast to a compatible dtype first.\n",
      "  train.loc[:, feature_cols] = (train[feature_cols] - means) / std\n",
      "/tmp/ipykernel_75726/2075072895.py:4: FutureWarning: Setting an item of incompatible dtype is deprecated and will raise in a future error of pandas. Value '[-0.4956246  -0.37521051 -0.00763065 ...  0.3777548   0.44777001\n",
      "  0.51295658]' has dtype incompatible with float32, please explicitly cast to a compatible dtype first.\n",
      "  train.loc[:, feature_cols] = (train[feature_cols] - means) / std\n",
      "/tmp/ipykernel_75726/2075072895.py:4: FutureWarning: Setting an item of incompatible dtype is deprecated and will raise in a future error of pandas. Value '[ 0.38882399  0.41875449  0.47720368 ... -1.01847446 -1.0642173\n",
      " -1.05800531]' has dtype incompatible with float32, please explicitly cast to a compatible dtype first.\n",
      "  train.loc[:, feature_cols] = (train[feature_cols] - means) / std\n",
      "/tmp/ipykernel_75726/2075072895.py:4: FutureWarning: Setting an item of incompatible dtype is deprecated and will raise in a future error of pandas. Value '[0.67036926 0.72425535 0.79158539 ... 0.29565744 0.33032156 0.31209546]' has dtype incompatible with float32, please explicitly cast to a compatible dtype first.\n",
      "  train.loc[:, feature_cols] = (train[feature_cols] - means) / std\n",
      "/tmp/ipykernel_75726/2075072895.py:4: FutureWarning: Setting an item of incompatible dtype is deprecated and will raise in a future error of pandas. Value '[1.47763046 1.49373455 1.20529604 ... 0.32275983 0.43754245 0.42370256]' has dtype incompatible with float32, please explicitly cast to a compatible dtype first.\n",
      "  train.loc[:, feature_cols] = (train[feature_cols] - means) / std\n",
      "/tmp/ipykernel_75726/2075072895.py:4: FutureWarning: Setting an item of incompatible dtype is deprecated and will raise in a future error of pandas. Value '[-1.24618014 -1.27537746 -1.3566956  ...  0.02607473  0.00170342\n",
      "  0.01473362]' has dtype incompatible with float32, please explicitly cast to a compatible dtype first.\n",
      "  train.loc[:, feature_cols] = (train[feature_cols] - means) / std\n",
      "/tmp/ipykernel_75726/2075072895.py:4: FutureWarning: Setting an item of incompatible dtype is deprecated and will raise in a future error of pandas. Value '[-0.99238925 -0.95346107 -0.63001752 ... -1.08330876 -1.06475909\n",
      " -1.08644392]' has dtype incompatible with float32, please explicitly cast to a compatible dtype first.\n",
      "  train.loc[:, feature_cols] = (train[feature_cols] - means) / std\n",
      "/tmp/ipykernel_75726/2075072895.py:4: FutureWarning: Setting an item of incompatible dtype is deprecated and will raise in a future error of pandas. Value '[-0.730945   -0.6964758  -0.56411859 ... -0.75651529 -0.7370278\n",
      " -0.7390554 ]' has dtype incompatible with float32, please explicitly cast to a compatible dtype first.\n",
      "  train.loc[:, feature_cols] = (train[feature_cols] - means) / std\n",
      "/tmp/ipykernel_75726/2075072895.py:4: FutureWarning: Setting an item of incompatible dtype is deprecated and will raise in a future error of pandas. Value '[ 0.32534722  0.33599679  0.38620194 ... -1.08800363 -1.07735406\n",
      " -1.04388396]' has dtype incompatible with float32, please explicitly cast to a compatible dtype first.\n",
      "  train.loc[:, feature_cols] = (train[feature_cols] - means) / std\n",
      "/tmp/ipykernel_75726/2075072895.py:4: FutureWarning: Setting an item of incompatible dtype is deprecated and will raise in a future error of pandas. Value '[ 0.13123749  0.18282874  0.35773567 ... -0.96004332 -0.92795608\n",
      " -0.91474369]' has dtype incompatible with float32, please explicitly cast to a compatible dtype first.\n",
      "  train.loc[:, feature_cols] = (train[feature_cols] - means) / std\n",
      "/tmp/ipykernel_75726/2075072895.py:4: FutureWarning: Setting an item of incompatible dtype is deprecated and will raise in a future error of pandas. Value '[ 0.88477638  0.88477638  0.72246474 ... -0.32468171 -0.44129395\n",
      " -0.55711828]' has dtype incompatible with float32, please explicitly cast to a compatible dtype first.\n",
      "  train.loc[:, feature_cols] = (train[feature_cols] - means) / std\n",
      "/tmp/ipykernel_75726/2075072895.py:4: FutureWarning: Setting an item of incompatible dtype is deprecated and will raise in a future error of pandas. Value '[0.48070633 0.49707627 0.51823368 ... 0.64054739 0.57614273 0.57479633]' has dtype incompatible with float32, please explicitly cast to a compatible dtype first.\n",
      "  train.loc[:, feature_cols] = (train[feature_cols] - means) / std\n",
      "/tmp/ipykernel_75726/2075072895.py:5: FutureWarning: Setting an item of incompatible dtype is deprecated and will raise in a future error of pandas. Value '[1.72165198 1.453124   0.82615911 ... 0.38350751 0.42186865 0.36252876]' has dtype incompatible with float32, please explicitly cast to a compatible dtype first.\n",
      "  val.loc[:, feature_cols] = (val[feature_cols] - means) / std\n",
      "/tmp/ipykernel_75726/2075072895.py:5: FutureWarning: Setting an item of incompatible dtype is deprecated and will raise in a future error of pandas. Value '[-1.19752548 -0.94511717 -0.88422182 ...  0.22363613  0.40114646\n",
      "  0.66645224]' has dtype incompatible with float32, please explicitly cast to a compatible dtype first.\n",
      "  val.loc[:, feature_cols] = (val[feature_cols] - means) / std\n",
      "/tmp/ipykernel_75726/2075072895.py:5: FutureWarning: Setting an item of incompatible dtype is deprecated and will raise in a future error of pandas. Value '[ 1.11670484  1.39912062  1.59548063 ... -1.17227304 -1.17200947\n",
      " -1.12456678]' has dtype incompatible with float32, please explicitly cast to a compatible dtype first.\n",
      "  val.loc[:, feature_cols] = (val[feature_cols] - means) / std\n",
      "/tmp/ipykernel_75726/2075072895.py:5: FutureWarning: Setting an item of incompatible dtype is deprecated and will raise in a future error of pandas. Value '[-1.29990397 -1.09517995 -1.40495972 ... -1.82787644 -1.74100342\n",
      " -1.85346695]' has dtype incompatible with float32, please explicitly cast to a compatible dtype first.\n",
      "  val.loc[:, feature_cols] = (val[feature_cols] - means) / std\n",
      "/tmp/ipykernel_75726/2075072895.py:5: FutureWarning: Setting an item of incompatible dtype is deprecated and will raise in a future error of pandas. Value '[-0.98592713 -1.18559584 -1.01016806 ... -0.26188885 -0.23063081\n",
      " -0.19299358]' has dtype incompatible with float32, please explicitly cast to a compatible dtype first.\n",
      "  val.loc[:, feature_cols] = (val[feature_cols] - means) / std\n",
      "/tmp/ipykernel_75726/2075072895.py:5: FutureWarning: Setting an item of incompatible dtype is deprecated and will raise in a future error of pandas. Value '[-0.77517228 -0.60770117 -0.43275695 ...  0.46794855  0.33991358\n",
      "  0.33055721]' has dtype incompatible with float32, please explicitly cast to a compatible dtype first.\n",
      "  val.loc[:, feature_cols] = (val[feature_cols] - means) / std\n",
      "/tmp/ipykernel_75726/2075072895.py:5: FutureWarning: Setting an item of incompatible dtype is deprecated and will raise in a future error of pandas. Value '[ 1.86738877  1.60060667  0.58327359 ... -0.43768098 -0.44975257\n",
      " -0.47299037]' has dtype incompatible with float32, please explicitly cast to a compatible dtype first.\n",
      "  val.loc[:, feature_cols] = (val[feature_cols] - means) / std\n",
      "/tmp/ipykernel_75726/2075072895.py:5: FutureWarning: Setting an item of incompatible dtype is deprecated and will raise in a future error of pandas. Value '[1.37653064 1.35591812 1.1870649  ... 0.54073541 0.54553559 0.52520544]' has dtype incompatible with float32, please explicitly cast to a compatible dtype first.\n",
      "  val.loc[:, feature_cols] = (val[feature_cols] - means) / std\n",
      "/tmp/ipykernel_75726/2075072895.py:5: FutureWarning: Setting an item of incompatible dtype is deprecated and will raise in a future error of pandas. Value '[-0.45054052 -0.41848253 -0.32838838 ...  0.94208762  0.89213764\n",
      "  0.85820546]' has dtype incompatible with float32, please explicitly cast to a compatible dtype first.\n",
      "  val.loc[:, feature_cols] = (val[feature_cols] - means) / std\n",
      "/tmp/ipykernel_75726/2075072895.py:5: FutureWarning: Setting an item of incompatible dtype is deprecated and will raise in a future error of pandas. Value '[-0.86782156 -0.86885324 -0.60948746 ...  1.56328357  1.16742941\n",
      "  0.19828161]' has dtype incompatible with float32, please explicitly cast to a compatible dtype first.\n",
      "  val.loc[:, feature_cols] = (val[feature_cols] - means) / std\n",
      "/tmp/ipykernel_75726/2075072895.py:5: FutureWarning: Setting an item of incompatible dtype is deprecated and will raise in a future error of pandas. Value '[ 0.3827163   0.23009398 -0.02278855 ...  1.08550289  1.12302506\n",
      "  1.1917956 ]' has dtype incompatible with float32, please explicitly cast to a compatible dtype first.\n",
      "  val.loc[:, feature_cols] = (val[feature_cols] - means) / std\n",
      "/tmp/ipykernel_75726/2075072895.py:5: FutureWarning: Setting an item of incompatible dtype is deprecated and will raise in a future error of pandas. Value '[ 0.15377137 -0.21382562 -0.69141432 ...  0.70686506  0.60680135\n",
      "  0.43071011]' has dtype incompatible with float32, please explicitly cast to a compatible dtype first.\n",
      "  val.loc[:, feature_cols] = (val[feature_cols] - means) / std\n",
      "/tmp/ipykernel_75726/2075072895.py:5: FutureWarning: Setting an item of incompatible dtype is deprecated and will raise in a future error of pandas. Value '[1.60946847 1.53422198 1.43610868 ... 0.81464932 0.83796672 0.92492822]' has dtype incompatible with float32, please explicitly cast to a compatible dtype first.\n",
      "  val.loc[:, feature_cols] = (val[feature_cols] - means) / std\n",
      "/tmp/ipykernel_75726/2075072895.py:5: FutureWarning: Setting an item of incompatible dtype is deprecated and will raise in a future error of pandas. Value '[1.40034583 1.05864658 0.216113   ... 0.51156266 0.46440025 0.47383273]' has dtype incompatible with float32, please explicitly cast to a compatible dtype first.\n",
      "  val.loc[:, feature_cols] = (val[feature_cols] - means) / std\n",
      "/tmp/ipykernel_75726/2075072895.py:5: FutureWarning: Setting an item of incompatible dtype is deprecated and will raise in a future error of pandas. Value '[ 1.19074564  1.01363665  0.31023397 ... -0.44507454 -0.47433056\n",
      " -0.28715498]' has dtype incompatible with float32, please explicitly cast to a compatible dtype first.\n",
      "  val.loc[:, feature_cols] = (val[feature_cols] - means) / std\n",
      "/tmp/ipykernel_75726/2075072895.py:5: FutureWarning: Setting an item of incompatible dtype is deprecated and will raise in a future error of pandas. Value '[ 0.26862249  0.05273225 -0.1174586  ... -0.83919385 -1.33400797\n",
      " -1.21030444]' has dtype incompatible with float32, please explicitly cast to a compatible dtype first.\n",
      "  val.loc[:, feature_cols] = (val[feature_cols] - means) / std\n",
      "/tmp/ipykernel_75726/2075072895.py:5: FutureWarning: Setting an item of incompatible dtype is deprecated and will raise in a future error of pandas. Value '[-0.18747416 -0.22836881 -0.13860594 ...  0.05608534  0.0567334\n",
      "  0.08809652]' has dtype incompatible with float32, please explicitly cast to a compatible dtype first.\n",
      "  val.loc[:, feature_cols] = (val[feature_cols] - means) / std\n",
      "/tmp/ipykernel_75726/2075072895.py:4: FutureWarning: Setting an item of incompatible dtype is deprecated and will raise in a future error of pandas. Value '[ 0.0036923   0.02290731  0.04642419 ... -0.29686492 -0.25298586\n",
      " -0.23979346]' has dtype incompatible with float32, please explicitly cast to a compatible dtype first.\n",
      "  train.loc[:, feature_cols] = (train[feature_cols] - means) / std\n",
      "/tmp/ipykernel_75726/2075072895.py:4: FutureWarning: Setting an item of incompatible dtype is deprecated and will raise in a future error of pandas. Value '[0.34130013 0.35946068 0.3936348  ... 0.38702199 0.37496293 0.38702199]' has dtype incompatible with float32, please explicitly cast to a compatible dtype first.\n",
      "  train.loc[:, feature_cols] = (train[feature_cols] - means) / std\n",
      "/tmp/ipykernel_75726/2075072895.py:4: FutureWarning: Setting an item of incompatible dtype is deprecated and will raise in a future error of pandas. Value '[-0.51807703 -0.48607231 -0.3441497  ... -0.47282445 -0.48030096\n",
      " -0.48148146]' has dtype incompatible with float32, please explicitly cast to a compatible dtype first.\n",
      "  train.loc[:, feature_cols] = (train[feature_cols] - means) / std\n",
      "/tmp/ipykernel_75726/2075072895.py:4: FutureWarning: Setting an item of incompatible dtype is deprecated and will raise in a future error of pandas. Value '[0.87683912 0.92277561 0.71065713 ... 1.11327691 1.09233528 1.04707433]' has dtype incompatible with float32, please explicitly cast to a compatible dtype first.\n",
      "  train.loc[:, feature_cols] = (train[feature_cols] - means) / std\n",
      "/tmp/ipykernel_75726/2075072895.py:4: FutureWarning: Setting an item of incompatible dtype is deprecated and will raise in a future error of pandas. Value '[0.63195244 0.59410217 0.97132181 ... 0.05457544 0.13027598 0.16812625]' has dtype incompatible with float32, please explicitly cast to a compatible dtype first.\n",
      "  train.loc[:, feature_cols] = (train[feature_cols] - means) / std\n",
      "/tmp/ipykernel_75726/2075072895.py:4: FutureWarning: Setting an item of incompatible dtype is deprecated and will raise in a future error of pandas. Value '[0.47769301 0.56210957 0.77444948 ... 0.52544357 0.53746669 0.52715276]' has dtype incompatible with float32, please explicitly cast to a compatible dtype first.\n",
      "  train.loc[:, feature_cols] = (train[feature_cols] - means) / std\n",
      "/tmp/ipykernel_75726/2075072895.py:4: FutureWarning: Setting an item of incompatible dtype is deprecated and will raise in a future error of pandas. Value '[-0.44372495 -0.32566006  0.03474854 ... -0.15492462 -0.12533442\n",
      " -0.10343768]' has dtype incompatible with float32, please explicitly cast to a compatible dtype first.\n",
      "  train.loc[:, feature_cols] = (train[feature_cols] - means) / std\n",
      "/tmp/ipykernel_75726/2075072895.py:4: FutureWarning: Setting an item of incompatible dtype is deprecated and will raise in a future error of pandas. Value '[0.43872634 0.46739826 0.52338964 ... 1.08925423 1.10331969 1.19339279]' has dtype incompatible with float32, please explicitly cast to a compatible dtype first.\n",
      "  train.loc[:, feature_cols] = (train[feature_cols] - means) / std\n",
      "/tmp/ipykernel_75726/2075072895.py:4: FutureWarning: Setting an item of incompatible dtype is deprecated and will raise in a future error of pandas. Value '[0.60553805 0.6499892  0.7055304  ... 0.66336475 0.66627107 0.67220341]' has dtype incompatible with float32, please explicitly cast to a compatible dtype first.\n",
      "  train.loc[:, feature_cols] = (train[feature_cols] - means) / std\n",
      "/tmp/ipykernel_75726/2075072895.py:4: FutureWarning: Setting an item of incompatible dtype is deprecated and will raise in a future error of pandas. Value '[1.11741515 1.12898498 0.92175903 ... 0.91348507 0.95191446 0.97110455]' has dtype incompatible with float32, please explicitly cast to a compatible dtype first.\n",
      "  train.loc[:, feature_cols] = (train[feature_cols] - means) / std\n",
      "/tmp/ipykernel_75726/2075072895.py:4: FutureWarning: Setting an item of incompatible dtype is deprecated and will raise in a future error of pandas. Value '[-1.24004171 -1.26955507 -1.35175344 ... -0.95661587 -0.95527435\n",
      " -0.96064041]' has dtype incompatible with float32, please explicitly cast to a compatible dtype first.\n",
      "  train.loc[:, feature_cols] = (train[feature_cols] - means) / std\n",
      "/tmp/ipykernel_75726/2075072895.py:4: FutureWarning: Setting an item of incompatible dtype is deprecated and will raise in a future error of pandas. Value '[-0.99365194 -0.95445874 -0.62881325 ... -0.39418015 -0.40680615\n",
      " -0.43284727]' has dtype incompatible with float32, please explicitly cast to a compatible dtype first.\n",
      "  train.loc[:, feature_cols] = (train[feature_cols] - means) / std\n",
      "/tmp/ipykernel_75726/2075072895.py:4: FutureWarning: Setting an item of incompatible dtype is deprecated and will raise in a future error of pandas. Value '[-0.70608267 -0.67157439 -0.53906711 ... -0.99962858 -0.99985412\n",
      " -0.9987264 ]' has dtype incompatible with float32, please explicitly cast to a compatible dtype first.\n",
      "  train.loc[:, feature_cols] = (train[feature_cols] - means) / std\n",
      "/tmp/ipykernel_75726/2075072895.py:4: FutureWarning: Setting an item of incompatible dtype is deprecated and will raise in a future error of pandas. Value '[0.35045578 0.36084452 0.40982003 ... 0.19254686 0.29940252 0.3326465 ]' has dtype incompatible with float32, please explicitly cast to a compatible dtype first.\n",
      "  train.loc[:, feature_cols] = (train[feature_cols] - means) / std\n",
      "/tmp/ipykernel_75726/2075072895.py:4: FutureWarning: Setting an item of incompatible dtype is deprecated and will raise in a future error of pandas. Value '[0.16399202 0.21489735 0.38747882 ... 0.36419895 0.42100184 0.46352641]' has dtype incompatible with float32, please explicitly cast to a compatible dtype first.\n",
      "  train.loc[:, feature_cols] = (train[feature_cols] - means) / std\n",
      "/tmp/ipykernel_75726/2075072895.py:4: FutureWarning: Setting an item of incompatible dtype is deprecated and will raise in a future error of pandas. Value '[0.88045095 0.88045095 0.71959925 ... 0.86483428 0.85702595 0.87186178]' has dtype incompatible with float32, please explicitly cast to a compatible dtype first.\n",
      "  train.loc[:, feature_cols] = (train[feature_cols] - means) / std\n",
      "/tmp/ipykernel_75726/2075072895.py:4: FutureWarning: Setting an item of incompatible dtype is deprecated and will raise in a future error of pandas. Value '[0.47522401 0.48886745 0.50650098 ... 0.62326132 0.64579077 0.6362275 ]' has dtype incompatible with float32, please explicitly cast to a compatible dtype first.\n",
      "  train.loc[:, feature_cols] = (train[feature_cols] - means) / std\n",
      "/tmp/ipykernel_75726/2075072895.py:5: FutureWarning: Setting an item of incompatible dtype is deprecated and will raise in a future error of pandas. Value '[ 1.71182088  1.45485594  0.85488868 ... -0.97369223 -0.87274171\n",
      " -0.86757947]' has dtype incompatible with float32, please explicitly cast to a compatible dtype first.\n",
      "  val.loc[:, feature_cols] = (val[feature_cols] - means) / std\n",
      "/tmp/ipykernel_75726/2075072895.py:5: FutureWarning: Setting an item of incompatible dtype is deprecated and will raise in a future error of pandas. Value '[-0.62388217 -0.47726033 -0.44188674 ...  0.79126243  0.80615218\n",
      "  0.81306559]' has dtype incompatible with float32, please explicitly cast to a compatible dtype first.\n",
      "  val.loc[:, feature_cols] = (val[feature_cols] - means) / std\n",
      "/tmp/ipykernel_75726/2075072895.py:5: FutureWarning: Setting an item of incompatible dtype is deprecated and will raise in a future error of pandas. Value '[ 1.11639394  1.39748465  1.59292336 ... -1.6121403  -1.61751815\n",
      " -1.62066615]' has dtype incompatible with float32, please explicitly cast to a compatible dtype first.\n",
      "  val.loc[:, feature_cols] = (val[feature_cols] - means) / std\n",
      "/tmp/ipykernel_75726/2075072895.py:5: FutureWarning: Setting an item of incompatible dtype is deprecated and will raise in a future error of pandas. Value '[-1.31189929 -1.10653618 -1.41728299 ...  0.25399442  0.40666568\n",
      "  0.45935753]' has dtype incompatible with float32, please explicitly cast to a compatible dtype first.\n",
      "  val.loc[:, feature_cols] = (val[feature_cols] - means) / std\n",
      "/tmp/ipykernel_75726/2075072895.py:5: FutureWarning: Setting an item of incompatible dtype is deprecated and will raise in a future error of pandas. Value '[-0.97892939 -1.17972828 -1.00330753 ... -1.13482118 -1.41132061\n",
      " -1.50049328]' has dtype incompatible with float32, please explicitly cast to a compatible dtype first.\n",
      "  val.loc[:, feature_cols] = (val[feature_cols] - means) / std\n",
      "/tmp/ipykernel_75726/2075072895.py:5: FutureWarning: Setting an item of incompatible dtype is deprecated and will raise in a future error of pandas. Value '[-0.52171532 -0.39695482 -0.26662708 ...  0.58721036  0.65746143\n",
      "  0.63773805]' has dtype incompatible with float32, please explicitly cast to a compatible dtype first.\n",
      "  val.loc[:, feature_cols] = (val[feature_cols] - means) / std\n",
      "/tmp/ipykernel_75726/2075072895.py:5: FutureWarning: Setting an item of incompatible dtype is deprecated and will raise in a future error of pandas. Value '[1.87318751 1.61161016 0.61412461 ... 0.41261536 0.48126462 0.54517945]' has dtype incompatible with float32, please explicitly cast to a compatible dtype first.\n",
      "  val.loc[:, feature_cols] = (val[feature_cols] - means) / std\n",
      "/tmp/ipykernel_75726/2075072895.py:5: FutureWarning: Setting an item of incompatible dtype is deprecated and will raise in a future error of pandas. Value '[ 1.38489954  1.36515379  1.20340091 ... -0.90939465 -0.95321399\n",
      " -0.94726321]' has dtype incompatible with float32, please explicitly cast to a compatible dtype first.\n",
      "  val.loc[:, feature_cols] = (val[feature_cols] - means) / std\n",
      "/tmp/ipykernel_75726/2075072895.py:5: FutureWarning: Setting an item of incompatible dtype is deprecated and will raise in a future error of pandas. Value '[-0.31911128 -0.29266633 -0.21834679 ...  0.29643464  0.32502941\n",
      "  0.30999452]' has dtype incompatible with float32, please explicitly cast to a compatible dtype first.\n",
      "  val.loc[:, feature_cols] = (val[feature_cols] - means) / std\n",
      "/tmp/ipykernel_75726/2075072895.py:5: FutureWarning: Setting an item of incompatible dtype is deprecated and will raise in a future error of pandas. Value '[-0.56765291 -0.56839411 -0.38205519 ...  0.28770915  0.37017365\n",
      "  0.36023051]' has dtype incompatible with float32, please explicitly cast to a compatible dtype first.\n",
      "  val.loc[:, feature_cols] = (val[feature_cols] - means) / std\n",
      "/tmp/ipykernel_75726/2075072895.py:5: FutureWarning: Setting an item of incompatible dtype is deprecated and will raise in a future error of pandas. Value '[ 0.40648681  0.25221242 -0.00340744 ...  0.04598475  0.02134963\n",
      "  0.03452088]' has dtype incompatible with float32, please explicitly cast to a compatible dtype first.\n",
      "  val.loc[:, feature_cols] = (val[feature_cols] - means) / std\n",
      "/tmp/ipykernel_75726/2075072895.py:5: FutureWarning: Setting an item of incompatible dtype is deprecated and will raise in a future error of pandas. Value '[ 0.16031152 -0.209788   -0.69062803 ... -1.08519041 -1.06651446\n",
      " -1.08834691]' has dtype incompatible with float32, please explicitly cast to a compatible dtype first.\n",
      "  val.loc[:, feature_cols] = (val[feature_cols] - means) / std\n",
      "/tmp/ipykernel_75726/2075072895.py:5: FutureWarning: Setting an item of incompatible dtype is deprecated and will raise in a future error of pandas. Value '[ 1.63698431  1.56165252  1.46342797 ... -0.73168195 -0.71217236\n",
      " -0.71420226]' has dtype incompatible with float32, please explicitly cast to a compatible dtype first.\n",
      "  val.loc[:, feature_cols] = (val[feature_cols] - means) / std\n",
      "/tmp/ipykernel_75726/2075072895.py:5: FutureWarning: Setting an item of incompatible dtype is deprecated and will raise in a future error of pandas. Value '[ 1.39912533  1.06579504  0.24389694 ... -1.02827904 -1.01789029\n",
      " -0.98523995]' has dtype incompatible with float32, please explicitly cast to a compatible dtype first.\n",
      "  val.loc[:, feature_cols] = (val[feature_cols] - means) / std\n",
      "/tmp/ipykernel_75726/2075072895.py:5: FutureWarning: Setting an item of incompatible dtype is deprecated and will raise in a future error of pandas. Value '[ 1.20941362  1.03465935  0.34060867 ... -0.91277981 -0.88111918\n",
      " -0.86808245]' has dtype incompatible with float32, please explicitly cast to a compatible dtype first.\n",
      "  val.loc[:, feature_cols] = (val[feature_cols] - means) / std\n",
      "/tmp/ipykernel_75726/2075072895.py:5: FutureWarning: Setting an item of incompatible dtype is deprecated and will raise in a future error of pandas. Value '[ 0.26983915  0.05589077 -0.11276927 ... -0.31812849 -0.43369185\n",
      " -0.54847437]' has dtype incompatible with float32, please explicitly cast to a compatible dtype first.\n",
      "  val.loc[:, feature_cols] = (val[feature_cols] - means) / std\n",
      "/tmp/ipykernel_75726/2075072895.py:5: FutureWarning: Setting an item of incompatible dtype is deprecated and will raise in a future error of pandas. Value '[-0.08166743 -0.11575085 -0.04093847 ...  0.60844268  0.55476496\n",
      "  0.55364282]' has dtype incompatible with float32, please explicitly cast to a compatible dtype first.\n",
      "  val.loc[:, feature_cols] = (val[feature_cols] - means) / std\n",
      "/tmp/ipykernel_75726/2075072895.py:4: FutureWarning: Setting an item of incompatible dtype is deprecated and will raise in a future error of pandas. Value '[-0.0082434   0.01101145  0.03457709 ... -0.98765441 -0.88649458\n",
      " -0.88132164]' has dtype incompatible with float32, please explicitly cast to a compatible dtype first.\n",
      "  train.loc[:, feature_cols] = (train[feature_cols] - means) / std\n",
      "/tmp/ipykernel_75726/2075072895.py:4: FutureWarning: Setting an item of incompatible dtype is deprecated and will raise in a future error of pandas. Value '[0.35574376 0.3736524  0.40735251 ... 0.79946477 0.81414799 0.82096551]' has dtype incompatible with float32, please explicitly cast to a compatible dtype first.\n",
      "  train.loc[:, feature_cols] = (train[feature_cols] - means) / std\n",
      "/tmp/ipykernel_75726/2075072895.py:4: FutureWarning: Setting an item of incompatible dtype is deprecated and will raise in a future error of pandas. Value '[-0.51686663 -0.48501982 -0.34379748 ... -1.60553165 -1.61088296\n",
      " -1.61401543]' has dtype incompatible with float32, please explicitly cast to a compatible dtype first.\n",
      "  train.loc[:, feature_cols] = (train[feature_cols] - means) / std\n",
      "/tmp/ipykernel_75726/2075072895.py:4: FutureWarning: Setting an item of incompatible dtype is deprecated and will raise in a future error of pandas. Value '[0.89114581 0.93733003 0.72406757 ... 0.26494202 0.41843666 0.47141268]' has dtype incompatible with float32, please explicitly cast to a compatible dtype first.\n",
      "  train.loc[:, feature_cols] = (train[feature_cols] - means) / std\n",
      "/tmp/ipykernel_75726/2075072895.py:4: FutureWarning: Setting an item of incompatible dtype is deprecated and will raise in a future error of pandas. Value '[ 0.61794695  0.58019308  0.95645202 ... -1.14432709 -1.42012234\n",
      " -1.50906791]' has dtype incompatible with float32, please explicitly cast to a compatible dtype first.\n",
      "  train.loc[:, feature_cols] = (train[feature_cols] - means) / std\n",
      "/tmp/ipykernel_75726/2075072895.py:4: FutureWarning: Setting an item of incompatible dtype is deprecated and will raise in a future error of pandas. Value '[0.48940837 0.57312379 0.78370009 ... 0.59801611 0.6676837  0.64812413]' has dtype incompatible with float32, please explicitly cast to a compatible dtype first.\n",
      "  train.loc[:, feature_cols] = (train[feature_cols] - means) / std\n",
      "/tmp/ipykernel_75726/2075072895.py:4: FutureWarning: Setting an item of incompatible dtype is deprecated and will raise in a future error of pandas. Value '[-0.42541938 -0.30853055  0.04828799 ...  0.42239085  0.49035628\n",
      "  0.55363445]' has dtype incompatible with float32, please explicitly cast to a compatible dtype first.\n",
      "  train.loc[:, feature_cols] = (train[feature_cols] - means) / std\n",
      "/tmp/ipykernel_75726/2075072895.py:4: FutureWarning: Setting an item of incompatible dtype is deprecated and will raise in a future error of pandas. Value '[ 0.42304656  0.45159728  0.50735199 ... -0.91937599 -0.96301011\n",
      " -0.95708449]' has dtype incompatible with float32, please explicitly cast to a compatible dtype first.\n",
      "  train.loc[:, feature_cols] = (train[feature_cols] - means) / std\n",
      "/tmp/ipykernel_75726/2075072895.py:4: FutureWarning: Setting an item of incompatible dtype is deprecated and will raise in a future error of pandas. Value '[0.69953566 0.75777151 0.83053655 ... 0.29457647 0.33203874 0.3123414 ]' has dtype incompatible with float32, please explicitly cast to a compatible dtype first.\n",
      "  train.loc[:, feature_cols] = (train[feature_cols] - means) / std\n",
      "/tmp/ipykernel_75726/2075072895.py:4: FutureWarning: Setting an item of incompatible dtype is deprecated and will raise in a future error of pandas. Value '[1.12542975 1.13693819 0.93081194 ... 0.30012685 0.38215373 0.37226335]' has dtype incompatible with float32, please explicitly cast to a compatible dtype first.\n",
      "  train.loc[:, feature_cols] = (train[feature_cols] - means) / std\n",
      "/tmp/ipykernel_75726/2075072895.py:4: FutureWarning: Setting an item of incompatible dtype is deprecated and will raise in a future error of pandas. Value '[-1.2396236  -1.26885633 -1.3502731  ...  0.03417441  0.00977354\n",
      "  0.02281955]' has dtype incompatible with float32, please explicitly cast to a compatible dtype first.\n",
      "  train.loc[:, feature_cols] = (train[feature_cols] - means) / std\n",
      "/tmp/ipykernel_75726/2075072895.py:4: FutureWarning: Setting an item of incompatible dtype is deprecated and will raise in a future error of pandas. Value '[-0.99317788 -0.95377668 -0.62640294 ... -1.08520217 -1.0664271\n",
      " -1.08837542]' has dtype incompatible with float32, please explicitly cast to a compatible dtype first.\n",
      "  train.loc[:, feature_cols] = (train[feature_cols] - means) / std\n",
      "/tmp/ipykernel_75726/2075072895.py:4: FutureWarning: Setting an item of incompatible dtype is deprecated and will raise in a future error of pandas. Value '[-0.71877755 -0.68412007 -0.55103988 ... -0.74448751 -0.72489358\n",
      " -0.72693225]' has dtype incompatible with float32, please explicitly cast to a compatible dtype first.\n",
      "  train.loc[:, feature_cols] = (train[feature_cols] - means) / std\n",
      "/tmp/ipykernel_75726/2075072895.py:4: FutureWarning: Setting an item of incompatible dtype is deprecated and will raise in a future error of pandas. Value '[ 0.35841177  0.36872051  0.41731885 ... -1.00970522 -0.99939648\n",
      " -0.96699758]' has dtype incompatible with float32, please explicitly cast to a compatible dtype first.\n",
      "  train.loc[:, feature_cols] = (train[feature_cols] - means) / std\n",
      "/tmp/ipykernel_75726/2075072895.py:4: FutureWarning: Setting an item of incompatible dtype is deprecated and will raise in a future error of pandas. Value '[ 0.16273568  0.21323305  0.38443147 ... -0.90540695 -0.87400005\n",
      " -0.8610678 ]' has dtype incompatible with float32, please explicitly cast to a compatible dtype first.\n",
      "  train.loc[:, feature_cols] = (train[feature_cols] - means) / std\n",
      "/tmp/ipykernel_75726/2075072895.py:4: FutureWarning: Setting an item of incompatible dtype is deprecated and will raise in a future error of pandas. Value '[ 0.8779446   0.8779446   0.71840458 ... -0.31086092 -0.42548191\n",
      " -0.53932843]' has dtype incompatible with float32, please explicitly cast to a compatible dtype first.\n",
      "  train.loc[:, feature_cols] = (train[feature_cols] - means) / std\n",
      "/tmp/ipykernel_75726/2075072895.py:4: FutureWarning: Setting an item of incompatible dtype is deprecated and will raise in a future error of pandas. Value '[0.48775815 0.50078483 0.51762123 ... 0.61495462 0.56370343 0.56263201]' has dtype incompatible with float32, please explicitly cast to a compatible dtype first.\n",
      "  train.loc[:, feature_cols] = (train[feature_cols] - means) / std\n",
      "/tmp/ipykernel_75726/2075072895.py:5: FutureWarning: Setting an item of incompatible dtype is deprecated and will raise in a future error of pandas. Value '[1.57036712 1.56720588 1.56979235 ... 0.12654057 0.10642356 0.1075731 ]' has dtype incompatible with float32, please explicitly cast to a compatible dtype first.\n",
      "  val.loc[:, feature_cols] = (val[feature_cols] - means) / std\n",
      "/tmp/ipykernel_75726/2075072895.py:5: FutureWarning: Setting an item of incompatible dtype is deprecated and will raise in a future error of pandas. Value '[ 0.39704413  0.42573826  0.4356543  ... -0.70820349 -0.69788736\n",
      " -0.64121451]' has dtype incompatible with float32, please explicitly cast to a compatible dtype first.\n",
      "  val.loc[:, feature_cols] = (val[feature_cols] - means) / std\n",
      "/tmp/ipykernel_75726/2075072895.py:5: FutureWarning: Setting an item of incompatible dtype is deprecated and will raise in a future error of pandas. Value '[-0.0415138  -0.03498781 -0.03041962 ... -1.03137538 -1.03320266\n",
      " -1.03398578]' has dtype incompatible with float32, please explicitly cast to a compatible dtype first.\n",
      "  val.loc[:, feature_cols] = (val[feature_cols] - means) / std\n",
      "/tmp/ipykernel_75726/2075072895.py:5: FutureWarning: Setting an item of incompatible dtype is deprecated and will raise in a future error of pandas. Value '[ 0.20992845  0.18344044  0.19702404 ... -1.67479553 -1.64762834\n",
      " -1.64762834]' has dtype incompatible with float32, please explicitly cast to a compatible dtype first.\n",
      "  val.loc[:, feature_cols] = (val[feature_cols] - means) / std\n",
      "/tmp/ipykernel_75726/2075072895.py:5: FutureWarning: Setting an item of incompatible dtype is deprecated and will raise in a future error of pandas. Value '[1.64945957 1.65585853 1.65585853 ... 0.12138752 0.13994451 0.1591414 ]' has dtype incompatible with float32, please explicitly cast to a compatible dtype first.\n",
      "  val.loc[:, feature_cols] = (val[feature_cols] - means) / std\n",
      "/tmp/ipykernel_75726/2075072895.py:5: FutureWarning: Setting an item of incompatible dtype is deprecated and will raise in a future error of pandas. Value '[-0.13449678 -0.11887422 -0.12770957 ... -0.10261775 -0.08774495\n",
      " -0.04397605]' has dtype incompatible with float32, please explicitly cast to a compatible dtype first.\n",
      "  val.loc[:, feature_cols] = (val[feature_cols] - means) / std\n",
      "/tmp/ipykernel_75726/2075072895.py:5: FutureWarning: Setting an item of incompatible dtype is deprecated and will raise in a future error of pandas. Value '[ 1.25760403  1.25555335  1.25613926 ... -0.16761945 -0.17172081\n",
      " -0.17494331]' has dtype incompatible with float32, please explicitly cast to a compatible dtype first.\n",
      "  val.loc[:, feature_cols] = (val[feature_cols] - means) / std\n",
      "/tmp/ipykernel_75726/2075072895.py:5: FutureWarning: Setting an item of incompatible dtype is deprecated and will raise in a future error of pandas. Value '[0.4163129  0.41819832 0.41604355 ... 0.2353121  0.2353121  0.2353121 ]' has dtype incompatible with float32, please explicitly cast to a compatible dtype first.\n",
      "  val.loc[:, feature_cols] = (val[feature_cols] - means) / std\n",
      "/tmp/ipykernel_75726/2075072895.py:5: FutureWarning: Setting an item of incompatible dtype is deprecated and will raise in a future error of pandas. Value '[-0.49809858 -0.49302582 -0.49925859 ...  0.26086318  0.28440302\n",
      "  0.32269958]' has dtype incompatible with float32, please explicitly cast to a compatible dtype first.\n",
      "  val.loc[:, feature_cols] = (val[feature_cols] - means) / std\n",
      "/tmp/ipykernel_75726/2075072895.py:5: FutureWarning: Setting an item of incompatible dtype is deprecated and will raise in a future error of pandas. Value '[-0.59410908 -0.59058383 -0.60850048 ... -0.03915102 -0.01923344\n",
      " -0.03915102]' has dtype incompatible with float32, please explicitly cast to a compatible dtype first.\n",
      "  val.loc[:, feature_cols] = (val[feature_cols] - means) / std\n",
      "/tmp/ipykernel_75726/2075072895.py:5: FutureWarning: Setting an item of incompatible dtype is deprecated and will raise in a future error of pandas. Value '[-1.49305444 -1.49269205 -1.48955135 ...  0.98085578  0.98170135\n",
      "  0.99547214]' has dtype incompatible with float32, please explicitly cast to a compatible dtype first.\n",
      "  val.loc[:, feature_cols] = (val[feature_cols] - means) / std\n",
      "/tmp/ipykernel_75726/2075072895.py:5: FutureWarning: Setting an item of incompatible dtype is deprecated and will raise in a future error of pandas. Value '[-0.19298973 -0.18532104 -0.16231497 ...  1.24634408  1.24475746\n",
      "  1.20324075]' has dtype incompatible with float32, please explicitly cast to a compatible dtype first.\n",
      "  val.loc[:, feature_cols] = (val[feature_cols] - means) / std\n",
      "/tmp/ipykernel_75726/2075072895.py:5: FutureWarning: Setting an item of incompatible dtype is deprecated and will raise in a future error of pandas. Value '[0.0527478  0.05263454 0.04901023 ... 0.76333941 0.76107422 0.78078141]' has dtype incompatible with float32, please explicitly cast to a compatible dtype first.\n",
      "  val.loc[:, feature_cols] = (val[feature_cols] - means) / std\n",
      "/tmp/ipykernel_75726/2075072895.py:5: FutureWarning: Setting an item of incompatible dtype is deprecated and will raise in a future error of pandas. Value '[1.08326342 1.08267435 1.0806126  ... 0.72098486 0.70390181 0.72098486]' has dtype incompatible with float32, please explicitly cast to a compatible dtype first.\n",
      "  val.loc[:, feature_cols] = (val[feature_cols] - means) / std\n",
      "/tmp/ipykernel_75726/2075072895.py:5: FutureWarning: Setting an item of incompatible dtype is deprecated and will raise in a future error of pandas. Value '[1.14189209 1.14250791 1.14004462 ... 0.65908792 0.65724046 0.66801733]' has dtype incompatible with float32, please explicitly cast to a compatible dtype first.\n",
      "  val.loc[:, feature_cols] = (val[feature_cols] - means) / std\n",
      "/tmp/ipykernel_75726/2075072895.py:5: FutureWarning: Setting an item of incompatible dtype is deprecated and will raise in a future error of pandas. Value '[-0.39837559 -0.39837559 -0.39063093 ... -1.38427099 -1.42996449\n",
      " -1.41524963]' has dtype incompatible with float32, please explicitly cast to a compatible dtype first.\n",
      "  val.loc[:, feature_cols] = (val[feature_cols] - means) / std\n",
      "/tmp/ipykernel_75726/2075072895.py:5: FutureWarning: Setting an item of incompatible dtype is deprecated and will raise in a future error of pandas. Value '[-0.02999948 -0.04123665 -0.02999948 ...  0.05603907  0.05994076\n",
      "  0.05714868]' has dtype incompatible with float32, please explicitly cast to a compatible dtype first.\n",
      "  val.loc[:, feature_cols] = (val[feature_cols] - means) / std\n"
     ]
    }
   ],
   "source": [
    "def std_norm_dataset(train:DF, val:DF) -> tuple[DF, DF]:\n",
    "    means = train[feature_cols].mean()\n",
    "    std = train[feature_cols].std()\n",
    "    train.loc[:, feature_cols] = (train[feature_cols] - means) / std\n",
    "    val.loc[:, feature_cols] = (val[feature_cols] - means) / std\n",
    "    return train, val\n",
    "\n",
    "normed_folds = list(starmap(std_norm_dataset, folds))"
   ]
  },
  {
   "cell_type": "markdown",
   "id": "b36ccf25",
   "metadata": {},
   "source": [
    "Normalize full dataset."
   ]
  },
  {
   "cell_type": "code",
   "execution_count": 13,
   "id": "9b2c7cac",
   "metadata": {},
   "outputs": [
    {
     "name": "stderr",
     "output_type": "stream",
     "text": [
      "/tmp/ipykernel_75726/4279755229.py:6: FutureWarning: Setting an item of incompatible dtype is deprecated and will raise in a future error of pandas. Value '[-0.01677826  0.00259618  0.02630819 ... -1.00227249 -0.90048435\n",
      " -0.89527928]' has dtype incompatible with float32, please explicitly cast to a compatible dtype first.\n",
      "  df.loc[:, feature_cols] = (df[feature_cols] - full_dataset_meta_data[\"mean\"]) / full_dataset_meta_data['std']\n",
      "/tmp/ipykernel_75726/4279755229.py:6: FutureWarning: Setting an item of incompatible dtype is deprecated and will raise in a future error of pandas. Value '[0.36724552 0.38668742 0.42327279 ... 0.84895603 0.86489636 0.87229757]' has dtype incompatible with float32, please explicitly cast to a compatible dtype first.\n",
      "  df.loc[:, feature_cols] = (df[feature_cols] - full_dataset_meta_data[\"mean\"]) / full_dataset_meta_data['std']\n",
      "/tmp/ipykernel_75726/4279755229.py:6: FutureWarning: Setting an item of incompatible dtype is deprecated and will raise in a future error of pandas. Value '[-0.50852472 -0.4764371  -0.3341469  ... -1.60542168 -1.61081346\n",
      " -1.61396961]' has dtype incompatible with float32, please explicitly cast to a compatible dtype first.\n",
      "  df.loc[:, feature_cols] = (df[feature_cols] - full_dataset_meta_data[\"mean\"]) / full_dataset_meta_data['std']\n",
      "/tmp/ipykernel_75726/4279755229.py:6: FutureWarning: Setting an item of incompatible dtype is deprecated and will raise in a future error of pandas. Value '[0.87240755 0.91835342 0.70619159 ... 0.24943555 0.40213801 0.45484063]' has dtype incompatible with float32, please explicitly cast to a compatible dtype first.\n",
      "  df.loc[:, feature_cols] = (df[feature_cols] - full_dataset_meta_data[\"mean\"]) / full_dataset_meta_data['std']\n",
      "/tmp/ipykernel_75726/4279755229.py:6: FutureWarning: Setting an item of incompatible dtype is deprecated and will raise in a future error of pandas. Value '[ 0.62581574  0.58801223  0.96476591 ... -1.13877547 -1.41493335\n",
      " -1.50399587]' has dtype incompatible with float32, please explicitly cast to a compatible dtype first.\n",
      "  df.loc[:, feature_cols] = (df[feature_cols] - full_dataset_meta_data[\"mean\"]) / full_dataset_meta_data['std']\n",
      "/tmp/ipykernel_75726/4279755229.py:6: FutureWarning: Setting an item of incompatible dtype is deprecated and will raise in a future error of pandas. Value '[0.50231783 0.59310455 0.82146787 ... 0.62009948 0.69565178 0.67444004]' has dtype incompatible with float32, please explicitly cast to a compatible dtype first.\n",
      "  df.loc[:, feature_cols] = (df[feature_cols] - full_dataset_meta_data[\"mean\"]) / full_dataset_meta_data['std']\n",
      "/tmp/ipykernel_75726/4279755229.py:6: FutureWarning: Setting an item of incompatible dtype is deprecated and will raise in a future error of pandas. Value '[-0.45493793 -0.33714769  0.02242254 ...  0.39941038  0.46789995\n",
      "  0.5316661 ]' has dtype incompatible with float32, please explicitly cast to a compatible dtype first.\n",
      "  df.loc[:, feature_cols] = (df[feature_cols] - full_dataset_meta_data[\"mean\"]) / full_dataset_meta_data['std']\n",
      "/tmp/ipykernel_75726/4279755229.py:6: FutureWarning: Setting an item of incompatible dtype is deprecated and will raise in a future error of pandas. Value '[ 0.40467845  0.43377058  0.49058256 ... -0.96320044 -1.007662\n",
      " -1.00162401]' has dtype incompatible with float32, please explicitly cast to a compatible dtype first.\n",
      "  df.loc[:, feature_cols] = (df[feature_cols] - full_dataset_meta_data[\"mean\"]) / full_dataset_meta_data['std']\n",
      "/tmp/ipykernel_75726/4279755229.py:6: FutureWarning: Setting an item of incompatible dtype is deprecated and will raise in a future error of pandas. Value '[0.63344209 0.68143673 0.74140548 ... 0.29969805 0.33057229 0.31433888]' has dtype incompatible with float32, please explicitly cast to a compatible dtype first.\n",
      "  df.loc[:, feature_cols] = (df[feature_cols] - full_dataset_meta_data[\"mean\"]) / full_dataset_meta_data['std']\n",
      "/tmp/ipykernel_75726/4279755229.py:6: FutureWarning: Setting an item of incompatible dtype is deprecated and will raise in a future error of pandas. Value '[1.18477426 1.19708885 0.97652363 ... 0.30165955 0.38943235 0.37884916]' has dtype incompatible with float32, please explicitly cast to a compatible dtype first.\n",
      "  df.loc[:, feature_cols] = (df[feature_cols] - full_dataset_meta_data[\"mean\"]) / full_dataset_meta_data['std']\n",
      "/tmp/ipykernel_75726/4279755229.py:6: FutureWarning: Setting an item of incompatible dtype is deprecated and will raise in a future error of pandas. Value '[-1.23853993 -1.2679199  -1.34974677 ...  0.0416742   0.01715042\n",
      "  0.03026214]' has dtype incompatible with float32, please explicitly cast to a compatible dtype first.\n",
      "  df.loc[:, feature_cols] = (df[feature_cols] - full_dataset_meta_data[\"mean\"]) / full_dataset_meta_data['std']\n",
      "/tmp/ipykernel_75726/4279755229.py:6: FutureWarning: Setting an item of incompatible dtype is deprecated and will raise in a future error of pandas. Value '[-0.99715055 -0.95773732 -0.63026367 ... -1.08920292 -1.07042212\n",
      " -1.09237714]' has dtype incompatible with float32, please explicitly cast to a compatible dtype first.\n",
      "  df.loc[:, feature_cols] = (df[feature_cols] - full_dataset_meta_data[\"mean\"]) / full_dataset_meta_data['std']\n",
      "/tmp/ipykernel_75726/4279755229.py:6: FutureWarning: Setting an item of incompatible dtype is deprecated and will raise in a future error of pandas. Value '[-0.7163434  -0.68184003 -0.54935162 ... -0.74193903 -0.72243223\n",
      " -0.72446184]' has dtype incompatible with float32, please explicitly cast to a compatible dtype first.\n",
      "  df.loc[:, feature_cols] = (df[feature_cols] - full_dataset_meta_data[\"mean\"]) / full_dataset_meta_data['std']\n",
      "/tmp/ipykernel_75726/4279755229.py:6: FutureWarning: Setting an item of incompatible dtype is deprecated and will raise in a future error of pandas. Value '[ 0.33957131  0.34994752  0.39886392 ... -1.03749939 -1.02712318\n",
      " -0.99451225]' has dtype incompatible with float32, please explicitly cast to a compatible dtype first.\n",
      "  df.loc[:, feature_cols] = (df[feature_cols] - full_dataset_meta_data[\"mean\"]) / full_dataset_meta_data['std']\n",
      "/tmp/ipykernel_75726/4279755229.py:6: FutureWarning: Setting an item of incompatible dtype is deprecated and will raise in a future error of pandas. Value '[ 0.14872681  0.19953096  0.37176939 ... -0.9259047  -0.894307\n",
      " -0.88129619]' has dtype incompatible with float32, please explicitly cast to a compatible dtype first.\n",
      "  df.loc[:, feature_cols] = (df[feature_cols] - full_dataset_meta_data[\"mean\"]) / full_dataset_meta_data['std']\n",
      "/tmp/ipykernel_75726/4279755229.py:6: FutureWarning: Setting an item of incompatible dtype is deprecated and will raise in a future error of pandas. Value '[ 0.8841304   0.8841304   0.72331979 ... -0.31414283 -0.42967666\n",
      " -0.54442986]' has dtype incompatible with float32, please explicitly cast to a compatible dtype first.\n",
      "  df.loc[:, feature_cols] = (df[feature_cols] - full_dataset_meta_data[\"mean\"]) / full_dataset_meta_data['std']\n",
      "/tmp/ipykernel_75726/4279755229.py:6: FutureWarning: Setting an item of incompatible dtype is deprecated and will raise in a future error of pandas. Value '[0.47793803 0.49229795 0.5108575  ... 0.61815265 0.56165606 0.56047498]' has dtype incompatible with float32, please explicitly cast to a compatible dtype first.\n",
      "  df.loc[:, feature_cols] = (df[feature_cols] - full_dataset_meta_data[\"mean\"]) / full_dataset_meta_data['std']\n"
     ]
    }
   ],
   "source": [
    "# Retain full dataset meta data for inference\n",
    "full_dataset_meta_data = {\n",
    "    \"mean\": df[feature_cols].mean().to_dict(),\n",
    "    \"std\": df[feature_cols].std().to_dict(),\n",
    "}\n",
    "df.loc[:, feature_cols] = (df[feature_cols] - full_dataset_meta_data[\"mean\"]) / full_dataset_meta_data['std']"
   ]
  },
  {
   "cell_type": "code",
   "execution_count": 14,
   "id": "b02ca859",
   "metadata": {},
   "outputs": [
    {
     "data": {
      "text/html": [
       "<div>\n",
       "<style scoped>\n",
       "    .dataframe tbody tr th:only-of-type {\n",
       "        vertical-align: middle;\n",
       "    }\n",
       "\n",
       "    .dataframe tbody tr th {\n",
       "        vertical-align: top;\n",
       "    }\n",
       "\n",
       "    .dataframe thead th {\n",
       "        text-align: right;\n",
       "    }\n",
       "</style>\n",
       "<table border=\"1\" class=\"dataframe\">\n",
       "  <thead>\n",
       "    <tr style=\"text-align: right;\">\n",
       "      <th></th>\n",
       "      <th>tof_4</th>\n",
       "      <th>gravity_free_acc_z</th>\n",
       "      <th>thm_4</th>\n",
       "      <th>rot_x</th>\n",
       "      <th>acc_x</th>\n",
       "      <th>acc_z</th>\n",
       "      <th>thm_1</th>\n",
       "      <th>gravity_free_acc_x</th>\n",
       "      <th>gravity_free_acc_y</th>\n",
       "      <th>tof_3</th>\n",
       "      <th>...</th>\n",
       "      <th>rot_z</th>\n",
       "      <th>rot_w</th>\n",
       "      <th>rot_y</th>\n",
       "      <th>tof_1</th>\n",
       "      <th>tof_2</th>\n",
       "      <th>acc_y</th>\n",
       "      <th>euler_y</th>\n",
       "      <th>euler_x</th>\n",
       "      <th>euler_z</th>\n",
       "      <th>thm_5</th>\n",
       "    </tr>\n",
       "  </thead>\n",
       "  <tbody>\n",
       "    <tr>\n",
       "      <th>mean</th>\n",
       "      <td>1.404808e-08</td>\n",
       "      <td>-2.372822e-18</td>\n",
       "      <td>-1.427808e-07</td>\n",
       "      <td>-2.663767e-08</td>\n",
       "      <td>-1.749467e-08</td>\n",
       "      <td>-2.971537e-09</td>\n",
       "      <td>3.772558e-08</td>\n",
       "      <td>2.293728e-17</td>\n",
       "      <td>-8.858535e-17</td>\n",
       "      <td>2.663846e-09</td>\n",
       "      <td>...</td>\n",
       "      <td>1.855411e-08</td>\n",
       "      <td>-6.315844e-08</td>\n",
       "      <td>-8.728876e-10</td>\n",
       "      <td>1.908273e-07</td>\n",
       "      <td>1.687596e-08</td>\n",
       "      <td>1.186949e-08</td>\n",
       "      <td>1.581881e-18</td>\n",
       "      <td>1.581881e-17</td>\n",
       "      <td>-4.982926e-17</td>\n",
       "      <td>-3.565034e-09</td>\n",
       "    </tr>\n",
       "    <tr>\n",
       "      <th>std</th>\n",
       "      <td>1.000000e+00</td>\n",
       "      <td>1.000000e+00</td>\n",
       "      <td>1.000000e+00</td>\n",
       "      <td>1.000000e+00</td>\n",
       "      <td>1.000000e+00</td>\n",
       "      <td>1.000000e+00</td>\n",
       "      <td>1.000000e+00</td>\n",
       "      <td>1.000000e+00</td>\n",
       "      <td>1.000000e+00</td>\n",
       "      <td>1.000000e+00</td>\n",
       "      <td>...</td>\n",
       "      <td>1.000000e+00</td>\n",
       "      <td>1.000000e+00</td>\n",
       "      <td>1.000000e+00</td>\n",
       "      <td>1.000000e+00</td>\n",
       "      <td>1.000000e+00</td>\n",
       "      <td>1.000000e+00</td>\n",
       "      <td>1.000000e+00</td>\n",
       "      <td>1.000000e+00</td>\n",
       "      <td>1.000000e+00</td>\n",
       "      <td>1.000000e+00</td>\n",
       "    </tr>\n",
       "  </tbody>\n",
       "</table>\n",
       "<p>2 rows × 23 columns</p>\n",
       "</div>"
      ],
      "text/plain": [
       "             tof_4  gravity_free_acc_z         thm_4         rot_x  \\\n",
       "mean  1.404808e-08       -2.372822e-18 -1.427808e-07 -2.663767e-08   \n",
       "std   1.000000e+00        1.000000e+00  1.000000e+00  1.000000e+00   \n",
       "\n",
       "             acc_x         acc_z         thm_1  gravity_free_acc_x  \\\n",
       "mean -1.749467e-08 -2.971537e-09  3.772558e-08        2.293728e-17   \n",
       "std   1.000000e+00  1.000000e+00  1.000000e+00        1.000000e+00   \n",
       "\n",
       "      gravity_free_acc_y         tof_3  ...         rot_z         rot_w  \\\n",
       "mean       -8.858535e-17  2.663846e-09  ...  1.855411e-08 -6.315844e-08   \n",
       "std         1.000000e+00  1.000000e+00  ...  1.000000e+00  1.000000e+00   \n",
       "\n",
       "             rot_y         tof_1         tof_2         acc_y       euler_y  \\\n",
       "mean -8.728876e-10  1.908273e-07  1.687596e-08  1.186949e-08  1.581881e-18   \n",
       "std   1.000000e+00  1.000000e+00  1.000000e+00  1.000000e+00  1.000000e+00   \n",
       "\n",
       "           euler_x       euler_z         thm_5  \n",
       "mean  1.581881e-17 -4.982926e-17 -3.565034e-09  \n",
       "std   1.000000e+00  1.000000e+00  1.000000e+00  \n",
       "\n",
       "[2 rows x 23 columns]"
      ]
     },
     "execution_count": 14,
     "metadata": {},
     "output_type": "execute_result"
    }
   ],
   "source": [
    "df[feature_cols].agg([\"mean\", \"std\"])"
   ]
  },
  {
   "cell_type": "markdown",
   "id": "f840652f",
   "metadata": {},
   "source": [
    "Let's compare the train to validation mean/std skews."
   ]
  },
  {
   "cell_type": "code",
   "execution_count": 15,
   "id": "9ce0ae47",
   "metadata": {},
   "outputs": [
    {
     "data": {
      "text/html": [
       "<div>\n",
       "<style scoped>\n",
       "    .dataframe tbody tr th:only-of-type {\n",
       "        vertical-align: middle;\n",
       "    }\n",
       "\n",
       "    .dataframe tbody tr th {\n",
       "        vertical-align: top;\n",
       "    }\n",
       "\n",
       "    .dataframe thead th {\n",
       "        text-align: right;\n",
       "    }\n",
       "</style>\n",
       "<table border=\"1\" class=\"dataframe\">\n",
       "  <thead>\n",
       "    <tr style=\"text-align: right;\">\n",
       "      <th></th>\n",
       "      <th></th>\n",
       "      <th>tof_4</th>\n",
       "      <th>gravity_free_acc_z</th>\n",
       "      <th>thm_4</th>\n",
       "      <th>rot_x</th>\n",
       "      <th>acc_x</th>\n",
       "      <th>acc_z</th>\n",
       "      <th>thm_1</th>\n",
       "      <th>gravity_free_acc_x</th>\n",
       "      <th>gravity_free_acc_y</th>\n",
       "      <th>tof_3</th>\n",
       "      <th>...</th>\n",
       "      <th>rot_z</th>\n",
       "      <th>rot_w</th>\n",
       "      <th>rot_y</th>\n",
       "      <th>tof_1</th>\n",
       "      <th>tof_2</th>\n",
       "      <th>acc_y</th>\n",
       "      <th>euler_y</th>\n",
       "      <th>euler_x</th>\n",
       "      <th>euler_z</th>\n",
       "      <th>thm_5</th>\n",
       "    </tr>\n",
       "  </thead>\n",
       "  <tbody>\n",
       "    <tr>\n",
       "      <th rowspan=\"2\" valign=\"top\">train</th>\n",
       "      <th>mean</th>\n",
       "      <td>-0.024555</td>\n",
       "      <td>0.028677</td>\n",
       "      <td>0.221284</td>\n",
       "      <td>-0.070501</td>\n",
       "      <td>0.121474</td>\n",
       "      <td>0.062355</td>\n",
       "      <td>0.077026</td>\n",
       "      <td>0.128376</td>\n",
       "      <td>0.054878</td>\n",
       "      <td>0.046934</td>\n",
       "      <td>...</td>\n",
       "      <td>-0.165708</td>\n",
       "      <td>0.071373</td>\n",
       "      <td>-0.083885</td>\n",
       "      <td>0.048334</td>\n",
       "      <td>0.10647</td>\n",
       "      <td>-0.018677</td>\n",
       "      <td>0.132814</td>\n",
       "      <td>-0.104257</td>\n",
       "      <td>0.022463</td>\n",
       "      <td>0.241085</td>\n",
       "    </tr>\n",
       "    <tr>\n",
       "      <th>std</th>\n",
       "      <td>0.967049</td>\n",
       "      <td>1.007557</td>\n",
       "      <td>0.622032</td>\n",
       "      <td>0.937755</td>\n",
       "      <td>0.962222</td>\n",
       "      <td>1.014286</td>\n",
       "      <td>0.734685</td>\n",
       "      <td>0.966044</td>\n",
       "      <td>0.953626</td>\n",
       "      <td>0.989750</td>\n",
       "      <td>...</td>\n",
       "      <td>0.944784</td>\n",
       "      <td>0.982139</td>\n",
       "      <td>0.988288</td>\n",
       "      <td>0.962760</td>\n",
       "      <td>0.94748</td>\n",
       "      <td>0.978780</td>\n",
       "      <td>0.971776</td>\n",
       "      <td>0.978552</td>\n",
       "      <td>0.963772</td>\n",
       "      <td>0.445276</td>\n",
       "    </tr>\n",
       "    <tr>\n",
       "      <th rowspan=\"2\" valign=\"top\">validation</th>\n",
       "      <th>mean</th>\n",
       "      <td>-0.024555</td>\n",
       "      <td>0.028677</td>\n",
       "      <td>0.221284</td>\n",
       "      <td>-0.070501</td>\n",
       "      <td>0.121474</td>\n",
       "      <td>0.062355</td>\n",
       "      <td>0.077026</td>\n",
       "      <td>0.128376</td>\n",
       "      <td>0.054878</td>\n",
       "      <td>0.046934</td>\n",
       "      <td>...</td>\n",
       "      <td>-0.165708</td>\n",
       "      <td>0.071373</td>\n",
       "      <td>-0.083885</td>\n",
       "      <td>0.048334</td>\n",
       "      <td>0.10647</td>\n",
       "      <td>-0.018677</td>\n",
       "      <td>0.132814</td>\n",
       "      <td>-0.104257</td>\n",
       "      <td>0.022463</td>\n",
       "      <td>0.241085</td>\n",
       "    </tr>\n",
       "    <tr>\n",
       "      <th>std</th>\n",
       "      <td>0.967049</td>\n",
       "      <td>1.007557</td>\n",
       "      <td>0.622032</td>\n",
       "      <td>0.937755</td>\n",
       "      <td>0.962222</td>\n",
       "      <td>1.014286</td>\n",
       "      <td>0.734685</td>\n",
       "      <td>0.966044</td>\n",
       "      <td>0.953626</td>\n",
       "      <td>0.989750</td>\n",
       "      <td>...</td>\n",
       "      <td>0.944784</td>\n",
       "      <td>0.982139</td>\n",
       "      <td>0.988288</td>\n",
       "      <td>0.962760</td>\n",
       "      <td>0.94748</td>\n",
       "      <td>0.978780</td>\n",
       "      <td>0.971776</td>\n",
       "      <td>0.978552</td>\n",
       "      <td>0.963772</td>\n",
       "      <td>0.445276</td>\n",
       "    </tr>\n",
       "  </tbody>\n",
       "</table>\n",
       "<p>4 rows × 23 columns</p>\n",
       "</div>"
      ],
      "text/plain": [
       "                    tof_4  gravity_free_acc_z     thm_4     rot_x     acc_x  \\\n",
       "train      mean -0.024555            0.028677  0.221284 -0.070501  0.121474   \n",
       "           std   0.967049            1.007557  0.622032  0.937755  0.962222   \n",
       "validation mean -0.024555            0.028677  0.221284 -0.070501  0.121474   \n",
       "           std   0.967049            1.007557  0.622032  0.937755  0.962222   \n",
       "\n",
       "                    acc_z     thm_1  gravity_free_acc_x  gravity_free_acc_y  \\\n",
       "train      mean  0.062355  0.077026            0.128376            0.054878   \n",
       "           std   1.014286  0.734685            0.966044            0.953626   \n",
       "validation mean  0.062355  0.077026            0.128376            0.054878   \n",
       "           std   1.014286  0.734685            0.966044            0.953626   \n",
       "\n",
       "                    tof_3  ...     rot_z     rot_w     rot_y     tof_1  \\\n",
       "train      mean  0.046934  ... -0.165708  0.071373 -0.083885  0.048334   \n",
       "           std   0.989750  ...  0.944784  0.982139  0.988288  0.962760   \n",
       "validation mean  0.046934  ... -0.165708  0.071373 -0.083885  0.048334   \n",
       "           std   0.989750  ...  0.944784  0.982139  0.988288  0.962760   \n",
       "\n",
       "                   tof_2     acc_y   euler_y   euler_x   euler_z     thm_5  \n",
       "train      mean  0.10647 -0.018677  0.132814 -0.104257  0.022463  0.241085  \n",
       "           std   0.94748  0.978780  0.971776  0.978552  0.963772  0.445276  \n",
       "validation mean  0.10647 -0.018677  0.132814 -0.104257  0.022463  0.241085  \n",
       "           std   0.94748  0.978780  0.971776  0.978552  0.963772  0.445276  \n",
       "\n",
       "[4 rows x 23 columns]"
      ]
     },
     "execution_count": 15,
     "metadata": {},
     "output_type": "execute_result"
    }
   ],
   "source": [
    "pd.concat({\n",
    "    \"train\": folds[0][1][feature_cols].agg([\"mean\", \"std\"]),\n",
    "    \"validation\": folds[0][1][feature_cols].agg([\"mean\", \"std\"]),\n",
    "})"
   ]
  },
  {
   "cell_type": "markdown",
   "id": "9bc09714",
   "metadata": {},
   "source": [
    "### Normalize sequences lengths.  \n",
    "And turn the Dataframes into ndarrays."
   ]
  },
  {
   "cell_type": "markdown",
   "id": "76699499",
   "metadata": {},
   "source": [
    "#### Visualize histogram of sequences lengths."
   ]
  },
  {
   "cell_type": "markdown",
   "id": "b3477111",
   "metadata": {},
   "source": [
    "Entire dataset sequences lengths."
   ]
  },
  {
   "cell_type": "code",
   "execution_count": 16,
   "id": "876907d8",
   "metadata": {},
   "outputs": [
    {
     "data": {
      "application/vnd.plotly.v1+json": {
       "config": {
        "plotlyServerURL": "https://plot.ly"
       },
       "data": [
        {
         "bingroup": "x",
         "hovertemplate": "variable=0<br>value=%{x}<br>count=%{y}<extra></extra>",
         "legendgroup": "0",
         "marker": {
          "color": "#636efa",
          "pattern": {
           "shape": ""
          }
         },
         "name": "0",
         "orientation": "v",
         "showlegend": true,
         "type": "histogram",
         "x": {
          "bdata": "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",
          "dtype": "i2"
         },
         "xaxis": "x",
         "yaxis": "y"
        }
       ],
       "layout": {
        "barmode": "relative",
        "legend": {
         "title": {
          "text": "variable"
         },
         "tracegroupgap": 0
        },
        "template": {
         "data": {
          "bar": [
           {
            "error_x": {
             "color": "#2a3f5f"
            },
            "error_y": {
             "color": "#2a3f5f"
            },
            "marker": {
             "line": {
              "color": "#E5ECF6",
              "width": 0.5
             },
             "pattern": {
              "fillmode": "overlay",
              "size": 10,
              "solidity": 0.2
             }
            },
            "type": "bar"
           }
          ],
          "barpolar": [
           {
            "marker": {
             "line": {
              "color": "#E5ECF6",
              "width": 0.5
             },
             "pattern": {
              "fillmode": "overlay",
              "size": 10,
              "solidity": 0.2
             }
            },
            "type": "barpolar"
           }
          ],
          "carpet": [
           {
            "aaxis": {
             "endlinecolor": "#2a3f5f",
             "gridcolor": "white",
             "linecolor": "white",
             "minorgridcolor": "white",
             "startlinecolor": "#2a3f5f"
            },
            "baxis": {
             "endlinecolor": "#2a3f5f",
             "gridcolor": "white",
             "linecolor": "white",
             "minorgridcolor": "white",
             "startlinecolor": "#2a3f5f"
            },
            "type": "carpet"
           }
          ],
          "choropleth": [
           {
            "colorbar": {
             "outlinewidth": 0,
             "ticks": ""
            },
            "type": "choropleth"
           }
          ],
          "contour": [
           {
            "colorbar": {
             "outlinewidth": 0,
             "ticks": ""
            },
            "colorscale": [
             [
              0,
              "#0d0887"
             ],
             [
              0.1111111111111111,
              "#46039f"
             ],
             [
              0.2222222222222222,
              "#7201a8"
             ],
             [
              0.3333333333333333,
              "#9c179e"
             ],
             [
              0.4444444444444444,
              "#bd3786"
             ],
             [
              0.5555555555555556,
              "#d8576b"
             ],
             [
              0.6666666666666666,
              "#ed7953"
             ],
             [
              0.7777777777777778,
              "#fb9f3a"
             ],
             [
              0.8888888888888888,
              "#fdca26"
             ],
             [
              1,
              "#f0f921"
             ]
            ],
            "type": "contour"
           }
          ],
          "contourcarpet": [
           {
            "colorbar": {
             "outlinewidth": 0,
             "ticks": ""
            },
            "type": "contourcarpet"
           }
          ],
          "heatmap": [
           {
            "colorbar": {
             "outlinewidth": 0,
             "ticks": ""
            },
            "colorscale": [
             [
              0,
              "#0d0887"
             ],
             [
              0.1111111111111111,
              "#46039f"
             ],
             [
              0.2222222222222222,
              "#7201a8"
             ],
             [
              0.3333333333333333,
              "#9c179e"
             ],
             [
              0.4444444444444444,
              "#bd3786"
             ],
             [
              0.5555555555555556,
              "#d8576b"
             ],
             [
              0.6666666666666666,
              "#ed7953"
             ],
             [
              0.7777777777777778,
              "#fb9f3a"
             ],
             [
              0.8888888888888888,
              "#fdca26"
             ],
             [
              1,
              "#f0f921"
             ]
            ],
            "type": "heatmap"
           }
          ],
          "histogram": [
           {
            "marker": {
             "pattern": {
              "fillmode": "overlay",
              "size": 10,
              "solidity": 0.2
             }
            },
            "type": "histogram"
           }
          ],
          "histogram2d": [
           {
            "colorbar": {
             "outlinewidth": 0,
             "ticks": ""
            },
            "colorscale": [
             [
              0,
              "#0d0887"
             ],
             [
              0.1111111111111111,
              "#46039f"
             ],
             [
              0.2222222222222222,
              "#7201a8"
             ],
             [
              0.3333333333333333,
              "#9c179e"
             ],
             [
              0.4444444444444444,
              "#bd3786"
             ],
             [
              0.5555555555555556,
              "#d8576b"
             ],
             [
              0.6666666666666666,
              "#ed7953"
             ],
             [
              0.7777777777777778,
              "#fb9f3a"
             ],
             [
              0.8888888888888888,
              "#fdca26"
             ],
             [
              1,
              "#f0f921"
             ]
            ],
            "type": "histogram2d"
           }
          ],
          "histogram2dcontour": [
           {
            "colorbar": {
             "outlinewidth": 0,
             "ticks": ""
            },
            "colorscale": [
             [
              0,
              "#0d0887"
             ],
             [
              0.1111111111111111,
              "#46039f"
             ],
             [
              0.2222222222222222,
              "#7201a8"
             ],
             [
              0.3333333333333333,
              "#9c179e"
             ],
             [
              0.4444444444444444,
              "#bd3786"
             ],
             [
              0.5555555555555556,
              "#d8576b"
             ],
             [
              0.6666666666666666,
              "#ed7953"
             ],
             [
              0.7777777777777778,
              "#fb9f3a"
             ],
             [
              0.8888888888888888,
              "#fdca26"
             ],
             [
              1,
              "#f0f921"
             ]
            ],
            "type": "histogram2dcontour"
           }
          ],
          "mesh3d": [
           {
            "colorbar": {
             "outlinewidth": 0,
             "ticks": ""
            },
            "type": "mesh3d"
           }
          ],
          "parcoords": [
           {
            "line": {
             "colorbar": {
              "outlinewidth": 0,
              "ticks": ""
             }
            },
            "type": "parcoords"
           }
          ],
          "pie": [
           {
            "automargin": true,
            "type": "pie"
           }
          ],
          "scatter": [
           {
            "fillpattern": {
             "fillmode": "overlay",
             "size": 10,
             "solidity": 0.2
            },
            "type": "scatter"
           }
          ],
          "scatter3d": [
           {
            "line": {
             "colorbar": {
              "outlinewidth": 0,
              "ticks": ""
             }
            },
            "marker": {
             "colorbar": {
              "outlinewidth": 0,
              "ticks": ""
             }
            },
            "type": "scatter3d"
           }
          ],
          "scattercarpet": [
           {
            "marker": {
             "colorbar": {
              "outlinewidth": 0,
              "ticks": ""
             }
            },
            "type": "scattercarpet"
           }
          ],
          "scattergeo": [
           {
            "marker": {
             "colorbar": {
              "outlinewidth": 0,
              "ticks": ""
             }
            },
            "type": "scattergeo"
           }
          ],
          "scattergl": [
           {
            "marker": {
             "colorbar": {
              "outlinewidth": 0,
              "ticks": ""
             }
            },
            "type": "scattergl"
           }
          ],
          "scattermap": [
           {
            "marker": {
             "colorbar": {
              "outlinewidth": 0,
              "ticks": ""
             }
            },
            "type": "scattermap"
           }
          ],
          "scattermapbox": [
           {
            "marker": {
             "colorbar": {
              "outlinewidth": 0,
              "ticks": ""
             }
            },
            "type": "scattermapbox"
           }
          ],
          "scatterpolar": [
           {
            "marker": {
             "colorbar": {
              "outlinewidth": 0,
              "ticks": ""
             }
            },
            "type": "scatterpolar"
           }
          ],
          "scatterpolargl": [
           {
            "marker": {
             "colorbar": {
              "outlinewidth": 0,
              "ticks": ""
             }
            },
            "type": "scatterpolargl"
           }
          ],
          "scatterternary": [
           {
            "marker": {
             "colorbar": {
              "outlinewidth": 0,
              "ticks": ""
             }
            },
            "type": "scatterternary"
           }
          ],
          "surface": [
           {
            "colorbar": {
             "outlinewidth": 0,
             "ticks": ""
            },
            "colorscale": [
             [
              0,
              "#0d0887"
             ],
             [
              0.1111111111111111,
              "#46039f"
             ],
             [
              0.2222222222222222,
              "#7201a8"
             ],
             [
              0.3333333333333333,
              "#9c179e"
             ],
             [
              0.4444444444444444,
              "#bd3786"
             ],
             [
              0.5555555555555556,
              "#d8576b"
             ],
             [
              0.6666666666666666,
              "#ed7953"
             ],
             [
              0.7777777777777778,
              "#fb9f3a"
             ],
             [
              0.8888888888888888,
              "#fdca26"
             ],
             [
              1,
              "#f0f921"
             ]
            ],
            "type": "surface"
           }
          ],
          "table": [
           {
            "cells": {
             "fill": {
              "color": "#EBF0F8"
             },
             "line": {
              "color": "white"
             }
            },
            "header": {
             "fill": {
              "color": "#C8D4E3"
             },
             "line": {
              "color": "white"
             }
            },
            "type": "table"
           }
          ]
         },
         "layout": {
          "annotationdefaults": {
           "arrowcolor": "#2a3f5f",
           "arrowhead": 0,
           "arrowwidth": 1
          },
          "autotypenumbers": "strict",
          "coloraxis": {
           "colorbar": {
            "outlinewidth": 0,
            "ticks": ""
           }
          },
          "colorscale": {
           "diverging": [
            [
             0,
             "#8e0152"
            ],
            [
             0.1,
             "#c51b7d"
            ],
            [
             0.2,
             "#de77ae"
            ],
            [
             0.3,
             "#f1b6da"
            ],
            [
             0.4,
             "#fde0ef"
            ],
            [
             0.5,
             "#f7f7f7"
            ],
            [
             0.6,
             "#e6f5d0"
            ],
            [
             0.7,
             "#b8e186"
            ],
            [
             0.8,
             "#7fbc41"
            ],
            [
             0.9,
             "#4d9221"
            ],
            [
             1,
             "#276419"
            ]
           ],
           "sequential": [
            [
             0,
             "#0d0887"
            ],
            [
             0.1111111111111111,
             "#46039f"
            ],
            [
             0.2222222222222222,
             "#7201a8"
            ],
            [
             0.3333333333333333,
             "#9c179e"
            ],
            [
             0.4444444444444444,
             "#bd3786"
            ],
            [
             0.5555555555555556,
             "#d8576b"
            ],
            [
             0.6666666666666666,
             "#ed7953"
            ],
            [
             0.7777777777777778,
             "#fb9f3a"
            ],
            [
             0.8888888888888888,
             "#fdca26"
            ],
            [
             1,
             "#f0f921"
            ]
           ],
           "sequentialminus": [
            [
             0,
             "#0d0887"
            ],
            [
             0.1111111111111111,
             "#46039f"
            ],
            [
             0.2222222222222222,
             "#7201a8"
            ],
            [
             0.3333333333333333,
             "#9c179e"
            ],
            [
             0.4444444444444444,
             "#bd3786"
            ],
            [
             0.5555555555555556,
             "#d8576b"
            ],
            [
             0.6666666666666666,
             "#ed7953"
            ],
            [
             0.7777777777777778,
             "#fb9f3a"
            ],
            [
             0.8888888888888888,
             "#fdca26"
            ],
            [
             1,
             "#f0f921"
            ]
           ]
          },
          "colorway": [
           "#636efa",
           "#EF553B",
           "#00cc96",
           "#ab63fa",
           "#FFA15A",
           "#19d3f3",
           "#FF6692",
           "#B6E880",
           "#FF97FF",
           "#FECB52"
          ],
          "font": {
           "color": "#2a3f5f"
          },
          "geo": {
           "bgcolor": "white",
           "lakecolor": "white",
           "landcolor": "#E5ECF6",
           "showlakes": true,
           "showland": true,
           "subunitcolor": "white"
          },
          "hoverlabel": {
           "align": "left"
          },
          "hovermode": "closest",
          "mapbox": {
           "style": "light"
          },
          "paper_bgcolor": "white",
          "plot_bgcolor": "#E5ECF6",
          "polar": {
           "angularaxis": {
            "gridcolor": "white",
            "linecolor": "white",
            "ticks": ""
           },
           "bgcolor": "#E5ECF6",
           "radialaxis": {
            "gridcolor": "white",
            "linecolor": "white",
            "ticks": ""
           }
          },
          "scene": {
           "xaxis": {
            "backgroundcolor": "#E5ECF6",
            "gridcolor": "white",
            "gridwidth": 2,
            "linecolor": "white",
            "showbackground": true,
            "ticks": "",
            "zerolinecolor": "white"
           },
           "yaxis": {
            "backgroundcolor": "#E5ECF6",
            "gridcolor": "white",
            "gridwidth": 2,
            "linecolor": "white",
            "showbackground": true,
            "ticks": "",
            "zerolinecolor": "white"
           },
           "zaxis": {
            "backgroundcolor": "#E5ECF6",
            "gridcolor": "white",
            "gridwidth": 2,
            "linecolor": "white",
            "showbackground": true,
            "ticks": "",
            "zerolinecolor": "white"
           }
          },
          "shapedefaults": {
           "line": {
            "color": "#2a3f5f"
           }
          },
          "ternary": {
           "aaxis": {
            "gridcolor": "white",
            "linecolor": "white",
            "ticks": ""
           },
           "baxis": {
            "gridcolor": "white",
            "linecolor": "white",
            "ticks": ""
           },
           "bgcolor": "#E5ECF6",
           "caxis": {
            "gridcolor": "white",
            "linecolor": "white",
            "ticks": ""
           }
          },
          "title": {
           "x": 0.05
          },
          "xaxis": {
           "automargin": true,
           "gridcolor": "white",
           "linecolor": "white",
           "ticks": "",
           "title": {
            "standoff": 15
           },
           "zerolinecolor": "white",
           "zerolinewidth": 2
          },
          "yaxis": {
           "automargin": true,
           "gridcolor": "white",
           "linecolor": "white",
           "ticks": "",
           "title": {
            "standoff": 15
           },
           "zerolinecolor": "white",
           "zerolinewidth": 2
          }
         }
        },
        "title": {
         "text": "Sequence length frequency"
        },
        "xaxis": {
         "anchor": "y",
         "domain": [
          0,
          1
         ],
         "title": {
          "text": "value"
         }
        },
        "yaxis": {
         "anchor": "x",
         "domain": [
          0,
          1
         ],
         "title": {
          "text": "count"
         }
        }
       }
      }
     },
     "metadata": {},
     "output_type": "display_data"
    }
   ],
   "source": [
    "px.histogram(\n",
    "    (\n",
    "        df\n",
    "        .groupby(\"sequence_id\", observed=True)\n",
    "        .size()\n",
    "    ),\n",
    "    title=\"Sequence length frequency\",\n",
    ")"
   ]
  },
  {
   "cell_type": "markdown",
   "id": "24e72f4e",
   "metadata": {},
   "source": [
    "Second(to avoid always look at the first one) Train/validation split sequences lengths comparaison."
   ]
  },
  {
   "cell_type": "code",
   "execution_count": 17,
   "id": "1a39bfce",
   "metadata": {},
   "outputs": [
    {
     "data": {
      "application/vnd.plotly.v1+json": {
       "config": {
        "plotlyServerURL": "https://plot.ly"
       },
       "data": [
        {
         "bingroup": "x",
         "hovertemplate": "set=Train<br>length=%{x}<br>count=%{y}<extra></extra>",
         "legendgroup": "Train",
         "marker": {
          "color": "#636efa",
          "opacity": 0.5,
          "pattern": {
           "shape": ""
          }
         },
         "name": "Train",
         "nbinsx": 50,
         "opacity": 0.8,
         "orientation": "v",
         "showlegend": true,
         "type": "histogram",
         "x": {
          "bdata": "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",
          "dtype": "i2"
         },
         "xaxis": "x",
         "yaxis": "y"
        },
        {
         "bingroup": "x",
         "hovertemplate": "set=Validation<br>length=%{x}<br>count=%{y}<extra></extra>",
         "legendgroup": "Validation",
         "marker": {
          "color": "#EF553B",
          "opacity": 0.5,
          "pattern": {
           "shape": ""
          }
         },
         "name": "Validation",
         "nbinsx": 50,
         "opacity": 0.8,
         "orientation": "v",
         "showlegend": true,
         "type": "histogram",
         "x": {
          "bdata": "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",
          "dtype": "i2"
         },
         "xaxis": "x",
         "yaxis": "y"
        }
       ],
       "layout": {
        "barmode": "overlay",
        "legend": {
         "title": {
          "text": "set"
         },
         "tracegroupgap": 0
        },
        "template": {
         "data": {
          "bar": [
           {
            "error_x": {
             "color": "#2a3f5f"
            },
            "error_y": {
             "color": "#2a3f5f"
            },
            "marker": {
             "line": {
              "color": "#E5ECF6",
              "width": 0.5
             },
             "pattern": {
              "fillmode": "overlay",
              "size": 10,
              "solidity": 0.2
             }
            },
            "type": "bar"
           }
          ],
          "barpolar": [
           {
            "marker": {
             "line": {
              "color": "#E5ECF6",
              "width": 0.5
             },
             "pattern": {
              "fillmode": "overlay",
              "size": 10,
              "solidity": 0.2
             }
            },
            "type": "barpolar"
           }
          ],
          "carpet": [
           {
            "aaxis": {
             "endlinecolor": "#2a3f5f",
             "gridcolor": "white",
             "linecolor": "white",
             "minorgridcolor": "white",
             "startlinecolor": "#2a3f5f"
            },
            "baxis": {
             "endlinecolor": "#2a3f5f",
             "gridcolor": "white",
             "linecolor": "white",
             "minorgridcolor": "white",
             "startlinecolor": "#2a3f5f"
            },
            "type": "carpet"
           }
          ],
          "choropleth": [
           {
            "colorbar": {
             "outlinewidth": 0,
             "ticks": ""
            },
            "type": "choropleth"
           }
          ],
          "contour": [
           {
            "colorbar": {
             "outlinewidth": 0,
             "ticks": ""
            },
            "colorscale": [
             [
              0,
              "#0d0887"
             ],
             [
              0.1111111111111111,
              "#46039f"
             ],
             [
              0.2222222222222222,
              "#7201a8"
             ],
             [
              0.3333333333333333,
              "#9c179e"
             ],
             [
              0.4444444444444444,
              "#bd3786"
             ],
             [
              0.5555555555555556,
              "#d8576b"
             ],
             [
              0.6666666666666666,
              "#ed7953"
             ],
             [
              0.7777777777777778,
              "#fb9f3a"
             ],
             [
              0.8888888888888888,
              "#fdca26"
             ],
             [
              1,
              "#f0f921"
             ]
            ],
            "type": "contour"
           }
          ],
          "contourcarpet": [
           {
            "colorbar": {
             "outlinewidth": 0,
             "ticks": ""
            },
            "type": "contourcarpet"
           }
          ],
          "heatmap": [
           {
            "colorbar": {
             "outlinewidth": 0,
             "ticks": ""
            },
            "colorscale": [
             [
              0,
              "#0d0887"
             ],
             [
              0.1111111111111111,
              "#46039f"
             ],
             [
              0.2222222222222222,
              "#7201a8"
             ],
             [
              0.3333333333333333,
              "#9c179e"
             ],
             [
              0.4444444444444444,
              "#bd3786"
             ],
             [
              0.5555555555555556,
              "#d8576b"
             ],
             [
              0.6666666666666666,
              "#ed7953"
             ],
             [
              0.7777777777777778,
              "#fb9f3a"
             ],
             [
              0.8888888888888888,
              "#fdca26"
             ],
             [
              1,
              "#f0f921"
             ]
            ],
            "type": "heatmap"
           }
          ],
          "histogram": [
           {
            "marker": {
             "pattern": {
              "fillmode": "overlay",
              "size": 10,
              "solidity": 0.2
             }
            },
            "type": "histogram"
           }
          ],
          "histogram2d": [
           {
            "colorbar": {
             "outlinewidth": 0,
             "ticks": ""
            },
            "colorscale": [
             [
              0,
              "#0d0887"
             ],
             [
              0.1111111111111111,
              "#46039f"
             ],
             [
              0.2222222222222222,
              "#7201a8"
             ],
             [
              0.3333333333333333,
              "#9c179e"
             ],
             [
              0.4444444444444444,
              "#bd3786"
             ],
             [
              0.5555555555555556,
              "#d8576b"
             ],
             [
              0.6666666666666666,
              "#ed7953"
             ],
             [
              0.7777777777777778,
              "#fb9f3a"
             ],
             [
              0.8888888888888888,
              "#fdca26"
             ],
             [
              1,
              "#f0f921"
             ]
            ],
            "type": "histogram2d"
           }
          ],
          "histogram2dcontour": [
           {
            "colorbar": {
             "outlinewidth": 0,
             "ticks": ""
            },
            "colorscale": [
             [
              0,
              "#0d0887"
             ],
             [
              0.1111111111111111,
              "#46039f"
             ],
             [
              0.2222222222222222,
              "#7201a8"
             ],
             [
              0.3333333333333333,
              "#9c179e"
             ],
             [
              0.4444444444444444,
              "#bd3786"
             ],
             [
              0.5555555555555556,
              "#d8576b"
             ],
             [
              0.6666666666666666,
              "#ed7953"
             ],
             [
              0.7777777777777778,
              "#fb9f3a"
             ],
             [
              0.8888888888888888,
              "#fdca26"
             ],
             [
              1,
              "#f0f921"
             ]
            ],
            "type": "histogram2dcontour"
           }
          ],
          "mesh3d": [
           {
            "colorbar": {
             "outlinewidth": 0,
             "ticks": ""
            },
            "type": "mesh3d"
           }
          ],
          "parcoords": [
           {
            "line": {
             "colorbar": {
              "outlinewidth": 0,
              "ticks": ""
             }
            },
            "type": "parcoords"
           }
          ],
          "pie": [
           {
            "automargin": true,
            "type": "pie"
           }
          ],
          "scatter": [
           {
            "fillpattern": {
             "fillmode": "overlay",
             "size": 10,
             "solidity": 0.2
            },
            "type": "scatter"
           }
          ],
          "scatter3d": [
           {
            "line": {
             "colorbar": {
              "outlinewidth": 0,
              "ticks": ""
             }
            },
            "marker": {
             "colorbar": {
              "outlinewidth": 0,
              "ticks": ""
             }
            },
            "type": "scatter3d"
           }
          ],
          "scattercarpet": [
           {
            "marker": {
             "colorbar": {
              "outlinewidth": 0,
              "ticks": ""
             }
            },
            "type": "scattercarpet"
           }
          ],
          "scattergeo": [
           {
            "marker": {
             "colorbar": {
              "outlinewidth": 0,
              "ticks": ""
             }
            },
            "type": "scattergeo"
           }
          ],
          "scattergl": [
           {
            "marker": {
             "colorbar": {
              "outlinewidth": 0,
              "ticks": ""
             }
            },
            "type": "scattergl"
           }
          ],
          "scattermap": [
           {
            "marker": {
             "colorbar": {
              "outlinewidth": 0,
              "ticks": ""
             }
            },
            "type": "scattermap"
           }
          ],
          "scattermapbox": [
           {
            "marker": {
             "colorbar": {
              "outlinewidth": 0,
              "ticks": ""
             }
            },
            "type": "scattermapbox"
           }
          ],
          "scatterpolar": [
           {
            "marker": {
             "colorbar": {
              "outlinewidth": 0,
              "ticks": ""
             }
            },
            "type": "scatterpolar"
           }
          ],
          "scatterpolargl": [
           {
            "marker": {
             "colorbar": {
              "outlinewidth": 0,
              "ticks": ""
             }
            },
            "type": "scatterpolargl"
           }
          ],
          "scatterternary": [
           {
            "marker": {
             "colorbar": {
              "outlinewidth": 0,
              "ticks": ""
             }
            },
            "type": "scatterternary"
           }
          ],
          "surface": [
           {
            "colorbar": {
             "outlinewidth": 0,
             "ticks": ""
            },
            "colorscale": [
             [
              0,
              "#0d0887"
             ],
             [
              0.1111111111111111,
              "#46039f"
             ],
             [
              0.2222222222222222,
              "#7201a8"
             ],
             [
              0.3333333333333333,
              "#9c179e"
             ],
             [
              0.4444444444444444,
              "#bd3786"
             ],
             [
              0.5555555555555556,
              "#d8576b"
             ],
             [
              0.6666666666666666,
              "#ed7953"
             ],
             [
              0.7777777777777778,
              "#fb9f3a"
             ],
             [
              0.8888888888888888,
              "#fdca26"
             ],
             [
              1,
              "#f0f921"
             ]
            ],
            "type": "surface"
           }
          ],
          "table": [
           {
            "cells": {
             "fill": {
              "color": "#EBF0F8"
             },
             "line": {
              "color": "white"
             }
            },
            "header": {
             "fill": {
              "color": "#C8D4E3"
             },
             "line": {
              "color": "white"
             }
            },
            "type": "table"
           }
          ]
         },
         "layout": {
          "annotationdefaults": {
           "arrowcolor": "#2a3f5f",
           "arrowhead": 0,
           "arrowwidth": 1
          },
          "autotypenumbers": "strict",
          "coloraxis": {
           "colorbar": {
            "outlinewidth": 0,
            "ticks": ""
           }
          },
          "colorscale": {
           "diverging": [
            [
             0,
             "#8e0152"
            ],
            [
             0.1,
             "#c51b7d"
            ],
            [
             0.2,
             "#de77ae"
            ],
            [
             0.3,
             "#f1b6da"
            ],
            [
             0.4,
             "#fde0ef"
            ],
            [
             0.5,
             "#f7f7f7"
            ],
            [
             0.6,
             "#e6f5d0"
            ],
            [
             0.7,
             "#b8e186"
            ],
            [
             0.8,
             "#7fbc41"
            ],
            [
             0.9,
             "#4d9221"
            ],
            [
             1,
             "#276419"
            ]
           ],
           "sequential": [
            [
             0,
             "#0d0887"
            ],
            [
             0.1111111111111111,
             "#46039f"
            ],
            [
             0.2222222222222222,
             "#7201a8"
            ],
            [
             0.3333333333333333,
             "#9c179e"
            ],
            [
             0.4444444444444444,
             "#bd3786"
            ],
            [
             0.5555555555555556,
             "#d8576b"
            ],
            [
             0.6666666666666666,
             "#ed7953"
            ],
            [
             0.7777777777777778,
             "#fb9f3a"
            ],
            [
             0.8888888888888888,
             "#fdca26"
            ],
            [
             1,
             "#f0f921"
            ]
           ],
           "sequentialminus": [
            [
             0,
             "#0d0887"
            ],
            [
             0.1111111111111111,
             "#46039f"
            ],
            [
             0.2222222222222222,
             "#7201a8"
            ],
            [
             0.3333333333333333,
             "#9c179e"
            ],
            [
             0.4444444444444444,
             "#bd3786"
            ],
            [
             0.5555555555555556,
             "#d8576b"
            ],
            [
             0.6666666666666666,
             "#ed7953"
            ],
            [
             0.7777777777777778,
             "#fb9f3a"
            ],
            [
             0.8888888888888888,
             "#fdca26"
            ],
            [
             1,
             "#f0f921"
            ]
           ]
          },
          "colorway": [
           "#636efa",
           "#EF553B",
           "#00cc96",
           "#ab63fa",
           "#FFA15A",
           "#19d3f3",
           "#FF6692",
           "#B6E880",
           "#FF97FF",
           "#FECB52"
          ],
          "font": {
           "color": "#2a3f5f"
          },
          "geo": {
           "bgcolor": "white",
           "lakecolor": "white",
           "landcolor": "#E5ECF6",
           "showlakes": true,
           "showland": true,
           "subunitcolor": "white"
          },
          "hoverlabel": {
           "align": "left"
          },
          "hovermode": "closest",
          "mapbox": {
           "style": "light"
          },
          "paper_bgcolor": "white",
          "plot_bgcolor": "#E5ECF6",
          "polar": {
           "angularaxis": {
            "gridcolor": "white",
            "linecolor": "white",
            "ticks": ""
           },
           "bgcolor": "#E5ECF6",
           "radialaxis": {
            "gridcolor": "white",
            "linecolor": "white",
            "ticks": ""
           }
          },
          "scene": {
           "xaxis": {
            "backgroundcolor": "#E5ECF6",
            "gridcolor": "white",
            "gridwidth": 2,
            "linecolor": "white",
            "showbackground": true,
            "ticks": "",
            "zerolinecolor": "white"
           },
           "yaxis": {
            "backgroundcolor": "#E5ECF6",
            "gridcolor": "white",
            "gridwidth": 2,
            "linecolor": "white",
            "showbackground": true,
            "ticks": "",
            "zerolinecolor": "white"
           },
           "zaxis": {
            "backgroundcolor": "#E5ECF6",
            "gridcolor": "white",
            "gridwidth": 2,
            "linecolor": "white",
            "showbackground": true,
            "ticks": "",
            "zerolinecolor": "white"
           }
          },
          "shapedefaults": {
           "line": {
            "color": "#2a3f5f"
           }
          },
          "ternary": {
           "aaxis": {
            "gridcolor": "white",
            "linecolor": "white",
            "ticks": ""
           },
           "baxis": {
            "gridcolor": "white",
            "linecolor": "white",
            "ticks": ""
           },
           "bgcolor": "#E5ECF6",
           "caxis": {
            "gridcolor": "white",
            "linecolor": "white",
            "ticks": ""
           }
          },
          "title": {
           "x": 0.05
          },
          "xaxis": {
           "automargin": true,
           "gridcolor": "white",
           "linecolor": "white",
           "ticks": "",
           "title": {
            "standoff": 15
           },
           "zerolinecolor": "white",
           "zerolinewidth": 2
          },
          "yaxis": {
           "automargin": true,
           "gridcolor": "white",
           "linecolor": "white",
           "ticks": "",
           "title": {
            "standoff": 15
           },
           "zerolinecolor": "white",
           "zerolinewidth": 2
          }
         }
        },
        "title": {
         "text": "Sequence Length Distribution: Train vs Validation"
        },
        "xaxis": {
         "anchor": "y",
         "domain": [
          0,
          1
         ],
         "title": {
          "text": "length"
         }
        },
        "yaxis": {
         "anchor": "x",
         "domain": [
          0,
          1
         ],
         "title": {
          "text": "count"
         }
        }
       }
      }
     },
     "metadata": {},
     "output_type": "display_data"
    }
   ],
   "source": [
    "def get_set_sequences_lengths(set:DF, name:str) -> DF:\n",
    "    return (\n",
    "        set\n",
    "        .groupby(\"sequence_id\", observed=True)\n",
    "        .size()\n",
    "        .reset_index(name=\"length\")\n",
    "        .assign(set=name)\n",
    "    )\n",
    "\n",
    "full_se_lengths = pd.concat((\n",
    "    get_set_sequences_lengths(folds[2][0], \"Train\"),\n",
    "    get_set_sequences_lengths(folds[2][1], \"Validation\"),\n",
    "))\n",
    "\n",
    "fig = px.histogram(\n",
    "    full_se_lengths,\n",
    "    x=\"length\",\n",
    "    color=\"set\",\n",
    "    barmode=\"overlay\",  # or 'group' if you want side-by-side bars\n",
    "    nbins=50,           # adjust bin size if needed\n",
    "    title=\"Sequence Length Distribution: Train vs Validation\"\n",
    ")\n",
    "\n",
    "fig.update_traces(opacity=0.8)  # better visibility with overlay\n",
    "fig.show()\n"
   ]
  },
  {
   "cell_type": "code",
   "execution_count": 18,
   "id": "c1d46756",
   "metadata": {},
   "outputs": [
    {
     "name": "stdout",
     "output_type": "stream",
     "text": [
      "train normed sequence len: 122\n",
      "validation normed sequence len: 151\n",
      "\n",
      "train normed sequence len: 124\n",
      "validation normed sequence len: 136\n",
      "\n",
      "train normed sequence len: 125\n",
      "validation normed sequence len: 132\n",
      "\n",
      "train normed sequence len: 126\n",
      "validation normed sequence len: 129\n",
      "\n",
      "train normed sequence len: 123\n",
      "validation normed sequence len: 139\n",
      "\n"
     ]
    }
   ],
   "source": [
    "for train, val in folds:\n",
    "    print(\"train normed sequence len:\", int(train.groupby(\"sequence_id\", observed=True).size().quantile(SEQUENCE_NORMED_LEN_QUANTILE)))\n",
    "    print(\"validation normed sequence len:\", int(val.groupby(\"sequence_id\", observed=True).size().quantile(SEQUENCE_NORMED_LEN_QUANTILE)))\n",
    "    print()"
   ]
  },
  {
   "cell_type": "markdown",
   "id": "c89d5f21",
   "metadata": {},
   "source": [
    "#### Sequence length norm implementation"
   ]
  },
  {
   "cell_type": "code",
   "execution_count": 19,
   "id": "5d128055",
   "metadata": {},
   "outputs": [
    {
     "data": {
      "application/vnd.jupyter.widget-view+json": {
       "model_id": "8e59ea4f3518439f8d10594b85f55b49",
       "version_major": 2,
       "version_minor": 0
      },
      "text/plain": [
       "  0%|          | 0/6567 [00:00<?, ?it/s]"
      ]
     },
     "metadata": {},
     "output_type": "display_data"
    },
    {
     "data": {
      "application/vnd.jupyter.widget-view+json": {
       "model_id": "d2848b1883294e9bb82495a407024d01",
       "version_major": 2,
       "version_minor": 0
      },
      "text/plain": [
       "  0%|          | 0/1584 [00:00<?, ?it/s]"
      ]
     },
     "metadata": {},
     "output_type": "display_data"
    },
    {
     "data": {
      "application/vnd.jupyter.widget-view+json": {
       "model_id": "978662c1c6894f829bed385dbfa57654",
       "version_major": 2,
       "version_minor": 0
      },
      "text/plain": [
       "  0%|          | 0/6567 [00:00<?, ?it/s]"
      ]
     },
     "metadata": {},
     "output_type": "display_data"
    },
    {
     "data": {
      "application/vnd.jupyter.widget-view+json": {
       "model_id": "d33d404efb2643688f6bb2f4c28d7a3d",
       "version_major": 2,
       "version_minor": 0
      },
      "text/plain": [
       "  0%|          | 0/1584 [00:00<?, ?it/s]"
      ]
     },
     "metadata": {},
     "output_type": "display_data"
    },
    {
     "data": {
      "application/vnd.jupyter.widget-view+json": {
       "model_id": "bc9eda1481514fa08e2c38fad26554d5",
       "version_major": 2,
       "version_minor": 0
      },
      "text/plain": [
       "  0%|          | 0/6520 [00:00<?, ?it/s]"
      ]
     },
     "metadata": {},
     "output_type": "display_data"
    },
    {
     "data": {
      "application/vnd.jupyter.widget-view+json": {
       "model_id": "f069d0051263405e8393b9ca1b78809c",
       "version_major": 2,
       "version_minor": 0
      },
      "text/plain": [
       "  0%|          | 0/1631 [00:00<?, ?it/s]"
      ]
     },
     "metadata": {},
     "output_type": "display_data"
    },
    {
     "data": {
      "application/vnd.jupyter.widget-view+json": {
       "model_id": "fcd64e69e9994ad2acbbe91583fa89d0",
       "version_major": 2,
       "version_minor": 0
      },
      "text/plain": [
       "  0%|          | 0/6519 [00:00<?, ?it/s]"
      ]
     },
     "metadata": {},
     "output_type": "display_data"
    },
    {
     "data": {
      "application/vnd.jupyter.widget-view+json": {
       "model_id": "73f82f478aae4736bbc6c9d82610a1b3",
       "version_major": 2,
       "version_minor": 0
      },
      "text/plain": [
       "  0%|          | 0/1632 [00:00<?, ?it/s]"
      ]
     },
     "metadata": {},
     "output_type": "display_data"
    },
    {
     "data": {
      "application/vnd.jupyter.widget-view+json": {
       "model_id": "4dafe833066846d8b1edf9c8d5439aff",
       "version_major": 2,
       "version_minor": 0
      },
      "text/plain": [
       "  0%|          | 0/6519 [00:00<?, ?it/s]"
      ]
     },
     "metadata": {},
     "output_type": "display_data"
    },
    {
     "data": {
      "application/vnd.jupyter.widget-view+json": {
       "model_id": "81c22f23d1db4c14bf9bce058a2084c0",
       "version_major": 2,
       "version_minor": 0
      },
      "text/plain": [
       "  0%|          | 0/1632 [00:00<?, ?it/s]"
      ]
     },
     "metadata": {},
     "output_type": "display_data"
    }
   ],
   "source": [
    "from tqdm.notebook import tqdm\n",
    "\n",
    "gesture_cols = df[\"gesture\"].unique()\n",
    "\n",
    "def length_normed_sequence_feat_arr(sequence: DF, normed_sequence_len: int) -> ndarray:\n",
    "    features = (\n",
    "        sequence\n",
    "        .loc[:, feature_cols]\n",
    "        .values\n",
    "    )\n",
    "    len_diff = abs(normed_sequence_len - len(features))\n",
    "    if len(features) < normed_sequence_len:\n",
    "        padded_features = np.pad(\n",
    "            features,\n",
    "            ((len_diff // 2 + len_diff % 2, len_diff // 2), (0, 0)),\n",
    "        )\n",
    "        return padded_features\n",
    "    elif len(features) > normed_sequence_len:\n",
    "        return features[len_diff // 2:-len_diff // 2]\n",
    "    else:\n",
    "        return features\n",
    "\n",
    "def df_to_ndarrays(df:DF, normed_sequence_len:int) -> tuple[np.ndarray, np.ndarray]:\n",
    "    sequence_it = df.groupby(\"sequence_id\", observed=True, as_index=False)\n",
    "    x = np.empty(\n",
    "        shape=(len(sequence_it), normed_sequence_len, len(feature_cols)),\n",
    "        dtype=\"float32\"\n",
    "    )\n",
    "    y = np.empty(\n",
    "        shape=(len(sequence_it), df[\"gesture\"].nunique()),\n",
    "        dtype=\"float32\"\n",
    "    )\n",
    "    for sequence_idx, (_, sequence) in tqdm(enumerate(sequence_it), total=len(sequence_it)):\n",
    "        normed_seq_feat_arr = length_normed_sequence_feat_arr(sequence, normed_sequence_len)\n",
    "        x[sequence_idx] = normed_seq_feat_arr\n",
    "        # Take the first value as they are(or at least should be) all the same in a single sequence\n",
    "        y[sequence_idx] = sequence[gesture_cols].iloc[0].values\n",
    "\n",
    "    return x, y\n",
    "\n",
    "def get_normed_seq_len(dataset:DF) -> int:\n",
    "    return int(\n",
    "        dataset\n",
    "        .groupby(\"sequence_id\", observed=True)\n",
    "        .size()\n",
    "        .quantile(SEQUENCE_NORMED_LEN_QUANTILE)\n",
    "    )\n",
    "\n",
    "def fold_dfs_to_ndarrays(train:DF, validation:DF) -> tuple[ndarray, ndarray, ndarray, ndarray]:\n",
    "    \"\"\"\n",
    "    Returns:\n",
    "        (train X, train Y, validation X, validation Y)\n",
    "    \"\"\"\n",
    "    normed_sequence_len = get_normed_seq_len(train)\n",
    "    return (\n",
    "        *df_to_ndarrays(train, normed_sequence_len),\n",
    "        *df_to_ndarrays(validation, normed_sequence_len),\n",
    "    )\n",
    "\n",
    "folds_arrs = list(starmap(fold_dfs_to_ndarrays, folds))"
   ]
  },
  {
   "cell_type": "code",
   "execution_count": 20,
   "id": "80490c33",
   "metadata": {},
   "outputs": [
    {
     "data": {
      "application/vnd.jupyter.widget-view+json": {
       "model_id": "56d9773f82804a87aa1283cfe678ebe8",
       "version_major": 2,
       "version_minor": 0
      },
      "text/plain": [
       "  0%|          | 0/8151 [00:00<?, ?it/s]"
      ]
     },
     "metadata": {},
     "output_type": "display_data"
    }
   ],
   "source": [
    "full_dataset_sequence_length_norm = get_normed_seq_len(df)\n",
    "full_x, full_y = df_to_ndarrays(df, full_dataset_sequence_length_norm)"
   ]
  },
  {
   "cell_type": "markdown",
   "id": "b99f60c2",
   "metadata": {},
   "source": [
    "## Create dataset"
   ]
  },
  {
   "cell_type": "code",
   "execution_count": 21,
   "id": "a46b79b2",
   "metadata": {},
   "outputs": [],
   "source": [
    "# Clean dataset directory if it already exists\n",
    "! rm -rf preprocessed_dataset\n",
    "# Create dataset direcory\n",
    "! mkdir preprocessed_dataset\n",
    "# Save folds\n",
    "for fold_i, (train_x, train_y, val_x, val_y) in enumerate(folds_arrs):\n",
    "    fold_dir_path = join(\"preprocessed_dataset\", f\"fold_{fold_i}\")\n",
    "    os.makedirs(fold_dir_path)\n",
    "    # save features (X)\n",
    "    np.save(join(fold_dir_path, \"train_X.npy\"), train_x, allow_pickle=False)\n",
    "    np.save(join(fold_dir_path, \"validation_X.npy\"), val_x, allow_pickle=False)\n",
    "    # Save targets (Y)\n",
    "    np.save(join(fold_dir_path, \"train_Y.npy\"), train_y, allow_pickle=False)\n",
    "    np.save(join(fold_dir_path, \"validation_Y.npy\"), val_y, allow_pickle=False)\n",
    "# Save full dataset\n",
    "full_dataset_dir_path = \"preprocessed_dataset/full_dataset\"\n",
    "os.makedirs(full_dataset_dir_path)\n",
    "np.save(join(full_dataset_dir_path, \"X.npy\"), full_x, allow_pickle=False)\n",
    "np.save(join(full_dataset_dir_path, \"Y.npy\"), full_y, allow_pickle=False)\n",
    "# Save dataset meta data\n",
    "full_dataset_meta_data[\"target_names\"] = one_hot_target.columns.to_list()\n",
    "full_dataset_meta_data[\"pad_seq_len\"] = full_dataset_sequence_length_norm\n",
    "full_dataset_meta_data[\"feature_cols\"] = feature_cols\n",
    "\n",
    "with open(\"preprocessed_dataset/full_dataset_meta_data.json\", \"w\") as fp:\n",
    "    json.dump(full_dataset_meta_data, fp, indent=4)"
   ]
  },
  {
   "cell_type": "code",
   "execution_count": 22,
   "id": "0b77ea50",
   "metadata": {},
   "outputs": [
    {
     "data": {
      "text/html": [
       "<div>\n",
       "<style scoped>\n",
       "    .dataframe tbody tr th:only-of-type {\n",
       "        vertical-align: middle;\n",
       "    }\n",
       "\n",
       "    .dataframe tbody tr th {\n",
       "        vertical-align: top;\n",
       "    }\n",
       "\n",
       "    .dataframe thead th {\n",
       "        text-align: right;\n",
       "    }\n",
       "</style>\n",
       "<table border=\"1\" class=\"dataframe\">\n",
       "  <thead>\n",
       "    <tr style=\"text-align: right;\">\n",
       "      <th></th>\n",
       "      <th>tof_4</th>\n",
       "      <th>gravity_free_acc_z</th>\n",
       "      <th>thm_4</th>\n",
       "      <th>rot_x</th>\n",
       "      <th>acc_x</th>\n",
       "      <th>acc_z</th>\n",
       "      <th>thm_1</th>\n",
       "      <th>gravity_free_acc_x</th>\n",
       "      <th>gravity_free_acc_y</th>\n",
       "      <th>tof_3</th>\n",
       "      <th>...</th>\n",
       "      <th>rot_z</th>\n",
       "      <th>rot_w</th>\n",
       "      <th>rot_y</th>\n",
       "      <th>tof_1</th>\n",
       "      <th>tof_2</th>\n",
       "      <th>acc_y</th>\n",
       "      <th>euler_y</th>\n",
       "      <th>euler_x</th>\n",
       "      <th>euler_z</th>\n",
       "      <th>thm_5</th>\n",
       "    </tr>\n",
       "  </thead>\n",
       "  <tbody>\n",
       "    <tr>\n",
       "      <th>0</th>\n",
       "      <td>-0.016778</td>\n",
       "      <td>-0.191143</td>\n",
       "      <td>0.367246</td>\n",
       "      <td>-0.508525</td>\n",
       "      <td>0.872408</td>\n",
       "      <td>0.625816</td>\n",
       "      <td>0.502318</td>\n",
       "      <td>0.921929</td>\n",
       "      <td>0.378283</td>\n",
       "      <td>-0.454938</td>\n",
       "      <td>...</td>\n",
       "      <td>-1.238540</td>\n",
       "      <td>-0.997151</td>\n",
       "      <td>-0.716343</td>\n",
       "      <td>0.339571</td>\n",
       "      <td>0.148727</td>\n",
       "      <td>0.884130</td>\n",
       "      <td>0.883372</td>\n",
       "      <td>0.191240</td>\n",
       "      <td>0.339185</td>\n",
       "      <td>0.477938</td>\n",
       "    </tr>\n",
       "    <tr>\n",
       "      <th>1</th>\n",
       "      <td>0.002596</td>\n",
       "      <td>-0.239701</td>\n",
       "      <td>0.386687</td>\n",
       "      <td>-0.476437</td>\n",
       "      <td>0.918353</td>\n",
       "      <td>0.588012</td>\n",
       "      <td>0.593105</td>\n",
       "      <td>0.935808</td>\n",
       "      <td>0.441917</td>\n",
       "      <td>-0.337148</td>\n",
       "      <td>...</td>\n",
       "      <td>-1.267920</td>\n",
       "      <td>-0.957737</td>\n",
       "      <td>-0.681840</td>\n",
       "      <td>0.349948</td>\n",
       "      <td>0.199531</td>\n",
       "      <td>0.884130</td>\n",
       "      <td>0.860138</td>\n",
       "      <td>0.150843</td>\n",
       "      <td>0.297587</td>\n",
       "      <td>0.492298</td>\n",
       "    </tr>\n",
       "    <tr>\n",
       "      <th>2</th>\n",
       "      <td>0.026308</td>\n",
       "      <td>0.018062</td>\n",
       "      <td>0.423273</td>\n",
       "      <td>-0.334147</td>\n",
       "      <td>0.706192</td>\n",
       "      <td>0.964766</td>\n",
       "      <td>0.821468</td>\n",
       "      <td>0.779645</td>\n",
       "      <td>0.663317</td>\n",
       "      <td>0.022423</td>\n",
       "      <td>...</td>\n",
       "      <td>-1.349747</td>\n",
       "      <td>-0.630264</td>\n",
       "      <td>-0.549352</td>\n",
       "      <td>0.398864</td>\n",
       "      <td>0.371769</td>\n",
       "      <td>0.723320</td>\n",
       "      <td>0.754947</td>\n",
       "      <td>-0.047236</td>\n",
       "      <td>0.140441</td>\n",
       "      <td>0.510858</td>\n",
       "    </tr>\n",
       "    <tr>\n",
       "      <th>3</th>\n",
       "      <td>0.459197</td>\n",
       "      <td>0.236127</td>\n",
       "      <td>0.484648</td>\n",
       "      <td>-0.312448</td>\n",
       "      <td>0.858218</td>\n",
       "      <td>1.134561</td>\n",
       "      <td>0.868207</td>\n",
       "      <td>0.839486</td>\n",
       "      <td>0.700636</td>\n",
       "      <td>0.543179</td>\n",
       "      <td>...</td>\n",
       "      <td>-1.390175</td>\n",
       "      <td>-0.290093</td>\n",
       "      <td>-0.329928</td>\n",
       "      <td>0.621508</td>\n",
       "      <td>0.644067</td>\n",
       "      <td>0.347835</td>\n",
       "      <td>0.714206</td>\n",
       "      <td>-0.231340</td>\n",
       "      <td>-0.051374</td>\n",
       "      <td>0.341522</td>\n",
       "    </tr>\n",
       "    <tr>\n",
       "      <th>4</th>\n",
       "      <td>0.731018</td>\n",
       "      <td>0.639598</td>\n",
       "      <td>0.592139</td>\n",
       "      <td>-0.214344</td>\n",
       "      <td>0.679165</td>\n",
       "      <td>1.655481</td>\n",
       "      <td>0.587718</td>\n",
       "      <td>0.600054</td>\n",
       "      <td>0.487647</td>\n",
       "      <td>0.870276</td>\n",
       "      <td>...</td>\n",
       "      <td>-1.447599</td>\n",
       "      <td>-0.134027</td>\n",
       "      <td>-0.007333</td>\n",
       "      <td>1.073910</td>\n",
       "      <td>0.789974</td>\n",
       "      <td>-0.302433</td>\n",
       "      <td>0.418963</td>\n",
       "      <td>-0.342103</td>\n",
       "      <td>-0.252579</td>\n",
       "      <td>0.334854</td>\n",
       "    </tr>\n",
       "    <tr>\n",
       "      <th>...</th>\n",
       "      <td>...</td>\n",
       "      <td>...</td>\n",
       "      <td>...</td>\n",
       "      <td>...</td>\n",
       "      <td>...</td>\n",
       "      <td>...</td>\n",
       "      <td>...</td>\n",
       "      <td>...</td>\n",
       "      <td>...</td>\n",
       "      <td>...</td>\n",
       "      <td>...</td>\n",
       "      <td>...</td>\n",
       "      <td>...</td>\n",
       "      <td>...</td>\n",
       "      <td>...</td>\n",
       "      <td>...</td>\n",
       "      <td>...</td>\n",
       "      <td>...</td>\n",
       "      <td>...</td>\n",
       "      <td>...</td>\n",
       "      <td>...</td>\n",
       "    </tr>\n",
       "    <tr>\n",
       "      <th>574940</th>\n",
       "      <td>-0.929112</td>\n",
       "      <td>-0.166781</td>\n",
       "      <td>0.854270</td>\n",
       "      <td>-1.601608</td>\n",
       "      <td>0.322408</td>\n",
       "      <td>-1.309212</td>\n",
       "      <td>0.590561</td>\n",
       "      <td>0.345242</td>\n",
       "      <td>-1.541394</td>\n",
       "      <td>0.541703</td>\n",
       "      <td>...</td>\n",
       "      <td>0.070326</td>\n",
       "      <td>-1.117506</td>\n",
       "      <td>-0.759754</td>\n",
       "      <td>-1.001627</td>\n",
       "      <td>-0.829872</td>\n",
       "      <td>-0.444509</td>\n",
       "      <td>0.287935</td>\n",
       "      <td>1.457859</td>\n",
       "      <td>-1.902655</td>\n",
       "      <td>0.656701</td>\n",
       "    </tr>\n",
       "    <tr>\n",
       "      <th>574941</th>\n",
       "      <td>-0.996778</td>\n",
       "      <td>-0.249065</td>\n",
       "      <td>0.870208</td>\n",
       "      <td>-1.607920</td>\n",
       "      <td>0.369030</td>\n",
       "      <td>-1.434796</td>\n",
       "      <td>0.599804</td>\n",
       "      <td>0.390242</td>\n",
       "      <td>-1.547135</td>\n",
       "      <td>0.533437</td>\n",
       "      <td>...</td>\n",
       "      <td>0.045559</td>\n",
       "      <td>-1.100313</td>\n",
       "      <td>-0.740360</td>\n",
       "      <td>-0.969906</td>\n",
       "      <td>-0.851557</td>\n",
       "      <td>-0.490566</td>\n",
       "      <td>0.326326</td>\n",
       "      <td>1.471826</td>\n",
       "      <td>-1.902869</td>\n",
       "      <td>0.618153</td>\n",
       "    </tr>\n",
       "    <tr>\n",
       "      <th>574942</th>\n",
       "      <td>-1.002272</td>\n",
       "      <td>-0.024379</td>\n",
       "      <td>0.848956</td>\n",
       "      <td>-1.605422</td>\n",
       "      <td>0.249436</td>\n",
       "      <td>-1.138775</td>\n",
       "      <td>0.620099</td>\n",
       "      <td>0.333282</td>\n",
       "      <td>-1.418637</td>\n",
       "      <td>0.399410</td>\n",
       "      <td>...</td>\n",
       "      <td>0.041674</td>\n",
       "      <td>-1.089203</td>\n",
       "      <td>-0.741939</td>\n",
       "      <td>-1.037499</td>\n",
       "      <td>-0.925905</td>\n",
       "      <td>-0.314143</td>\n",
       "      <td>0.335326</td>\n",
       "      <td>1.470549</td>\n",
       "      <td>-1.901584</td>\n",
       "      <td>0.618153</td>\n",
       "    </tr>\n",
       "    <tr>\n",
       "      <th>574943</th>\n",
       "      <td>-0.900484</td>\n",
       "      <td>-0.223986</td>\n",
       "      <td>0.864896</td>\n",
       "      <td>-1.610813</td>\n",
       "      <td>0.402138</td>\n",
       "      <td>-1.414933</td>\n",
       "      <td>0.695652</td>\n",
       "      <td>0.433050</td>\n",
       "      <td>-1.473273</td>\n",
       "      <td>0.467900</td>\n",
       "      <td>...</td>\n",
       "      <td>0.017150</td>\n",
       "      <td>-1.070422</td>\n",
       "      <td>-0.722432</td>\n",
       "      <td>-1.027123</td>\n",
       "      <td>-0.894307</td>\n",
       "      <td>-0.429677</td>\n",
       "      <td>0.374099</td>\n",
       "      <td>1.484620</td>\n",
       "      <td>-1.901015</td>\n",
       "      <td>0.561656</td>\n",
       "    </tr>\n",
       "    <tr>\n",
       "      <th>574944</th>\n",
       "      <td>-0.895279</td>\n",
       "      <td>-0.289351</td>\n",
       "      <td>0.872298</td>\n",
       "      <td>-1.613970</td>\n",
       "      <td>0.454841</td>\n",
       "      <td>-1.503996</td>\n",
       "      <td>0.674440</td>\n",
       "      <td>0.446904</td>\n",
       "      <td>-1.565205</td>\n",
       "      <td>0.531666</td>\n",
       "      <td>...</td>\n",
       "      <td>0.030262</td>\n",
       "      <td>-1.092377</td>\n",
       "      <td>-0.724462</td>\n",
       "      <td>-0.994512</td>\n",
       "      <td>-0.881296</td>\n",
       "      <td>-0.544430</td>\n",
       "      <td>0.349115</td>\n",
       "      <td>1.483514</td>\n",
       "      <td>-1.902905</td>\n",
       "      <td>0.560475</td>\n",
       "    </tr>\n",
       "  </tbody>\n",
       "</table>\n",
       "<p>574945 rows × 23 columns</p>\n",
       "</div>"
      ],
      "text/plain": [
       "           tof_4  gravity_free_acc_z     thm_4     rot_x     acc_x     acc_z  \\\n",
       "0      -0.016778           -0.191143  0.367246 -0.508525  0.872408  0.625816   \n",
       "1       0.002596           -0.239701  0.386687 -0.476437  0.918353  0.588012   \n",
       "2       0.026308            0.018062  0.423273 -0.334147  0.706192  0.964766   \n",
       "3       0.459197            0.236127  0.484648 -0.312448  0.858218  1.134561   \n",
       "4       0.731018            0.639598  0.592139 -0.214344  0.679165  1.655481   \n",
       "...          ...                 ...       ...       ...       ...       ...   \n",
       "574940 -0.929112           -0.166781  0.854270 -1.601608  0.322408 -1.309212   \n",
       "574941 -0.996778           -0.249065  0.870208 -1.607920  0.369030 -1.434796   \n",
       "574942 -1.002272           -0.024379  0.848956 -1.605422  0.249436 -1.138775   \n",
       "574943 -0.900484           -0.223986  0.864896 -1.610813  0.402138 -1.414933   \n",
       "574944 -0.895279           -0.289351  0.872298 -1.613970  0.454841 -1.503996   \n",
       "\n",
       "           thm_1  gravity_free_acc_x  gravity_free_acc_y     tof_3  ...  \\\n",
       "0       0.502318            0.921929            0.378283 -0.454938  ...   \n",
       "1       0.593105            0.935808            0.441917 -0.337148  ...   \n",
       "2       0.821468            0.779645            0.663317  0.022423  ...   \n",
       "3       0.868207            0.839486            0.700636  0.543179  ...   \n",
       "4       0.587718            0.600054            0.487647  0.870276  ...   \n",
       "...          ...                 ...                 ...       ...  ...   \n",
       "574940  0.590561            0.345242           -1.541394  0.541703  ...   \n",
       "574941  0.599804            0.390242           -1.547135  0.533437  ...   \n",
       "574942  0.620099            0.333282           -1.418637  0.399410  ...   \n",
       "574943  0.695652            0.433050           -1.473273  0.467900  ...   \n",
       "574944  0.674440            0.446904           -1.565205  0.531666  ...   \n",
       "\n",
       "           rot_z     rot_w     rot_y     tof_1     tof_2     acc_y   euler_y  \\\n",
       "0      -1.238540 -0.997151 -0.716343  0.339571  0.148727  0.884130  0.883372   \n",
       "1      -1.267920 -0.957737 -0.681840  0.349948  0.199531  0.884130  0.860138   \n",
       "2      -1.349747 -0.630264 -0.549352  0.398864  0.371769  0.723320  0.754947   \n",
       "3      -1.390175 -0.290093 -0.329928  0.621508  0.644067  0.347835  0.714206   \n",
       "4      -1.447599 -0.134027 -0.007333  1.073910  0.789974 -0.302433  0.418963   \n",
       "...          ...       ...       ...       ...       ...       ...       ...   \n",
       "574940  0.070326 -1.117506 -0.759754 -1.001627 -0.829872 -0.444509  0.287935   \n",
       "574941  0.045559 -1.100313 -0.740360 -0.969906 -0.851557 -0.490566  0.326326   \n",
       "574942  0.041674 -1.089203 -0.741939 -1.037499 -0.925905 -0.314143  0.335326   \n",
       "574943  0.017150 -1.070422 -0.722432 -1.027123 -0.894307 -0.429677  0.374099   \n",
       "574944  0.030262 -1.092377 -0.724462 -0.994512 -0.881296 -0.544430  0.349115   \n",
       "\n",
       "         euler_x   euler_z     thm_5  \n",
       "0       0.191240  0.339185  0.477938  \n",
       "1       0.150843  0.297587  0.492298  \n",
       "2      -0.047236  0.140441  0.510858  \n",
       "3      -0.231340 -0.051374  0.341522  \n",
       "4      -0.342103 -0.252579  0.334854  \n",
       "...          ...       ...       ...  \n",
       "574940  1.457859 -1.902655  0.656701  \n",
       "574941  1.471826 -1.902869  0.618153  \n",
       "574942  1.470549 -1.901584  0.618153  \n",
       "574943  1.484620 -1.901015  0.561656  \n",
       "574944  1.483514 -1.902905  0.560475  \n",
       "\n",
       "[574945 rows x 23 columns]"
      ]
     },
     "execution_count": 22,
     "metadata": {},
     "output_type": "execute_result"
    }
   ],
   "source": [
    "df[feature_cols]"
   ]
  },
  {
   "cell_type": "markdown",
   "id": "b2775c75",
   "metadata": {},
   "source": [
    "## Dataset upload\n",
    "Optionally upload the dataset to kaggle."
   ]
  },
  {
   "cell_type": "code",
   "execution_count": 23,
   "id": "d0b40895",
   "metadata": {},
   "outputs": [
    {
     "name": "stdout",
     "output_type": "stream",
     "text": [
      "Dataset has not been uploaded.\n"
     ]
    }
   ],
   "source": [
    "if input(\"Do you want to upload the  dataset to kaggle?[yes/no]\").lower() == \"yes\":\n",
    "    # Updaload the dataset\n",
    "    dataset_upload(\n",
    "        join(whoami()[\"username\"], \"prepocessed-cmi-2025\"),\n",
    "        \"preprocessed_dataset\",\n",
    "        version_notes=\"Preprocessed Child Mind Institue 2025 competition dataset.\"\n",
    "    )\n",
    "else:\n",
    "    print(\"Dataset has not been uploaded.\")"
   ]
  }
 ],
 "metadata": {
  "kernelspec": {
   "display_name": "CMI",
   "language": "python",
   "name": "python3"
  },
  "language_info": {
   "codemirror_mode": {
    "name": "ipython",
    "version": 3
   },
   "file_extension": ".py",
   "mimetype": "text/x-python",
   "name": "python",
   "nbconvert_exporter": "python",
   "pygments_lexer": "ipython3",
   "version": "3.11.5"
  }
 },
 "nbformat": 4,
 "nbformat_minor": 5
}
