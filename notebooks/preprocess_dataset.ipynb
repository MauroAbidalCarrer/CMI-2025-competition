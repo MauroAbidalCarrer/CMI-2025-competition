{
 "cells": [
  {
   "cell_type": "markdown",
   "id": "7c1fbf88",
   "metadata": {},
   "source": [
    "# Dataset preprocessing\n",
    "\n",
    "The goal of this notebook is to create a preprocessed kaggle dataset out of the competition dataset.  \n",
    "For now, the preprocessing will be based on [this notebook](https://www.kaggle.com/code/vonmainstein/imu-tof).  \n",
    "It consists of the following steps:\n",
    "-   Set the appropriate dtypes (helps with RAM usage).\n",
    "-   Impute missing feature values with forward, backward and then 0 filling.\n",
    "-   Split the dataset into multiple cross validation folds.\n",
    "-   Standardize feature values.\n",
    "-   Pad/Truncate the sequences to the same length.  \n",
    "\n",
    "> Note:  \n",
    "> - Demographics data set will be ignored for now.  "
   ]
  },
  {
   "cell_type": "markdown",
   "id": "3e390dcd",
   "metadata": {},
   "source": [
    "## Setup"
   ]
  },
  {
   "cell_type": "markdown",
   "id": "67848297",
   "metadata": {},
   "source": [
    "### Imports"
   ]
  },
  {
   "cell_type": "code",
   "execution_count": 1,
   "id": "3b58565a",
   "metadata": {},
   "outputs": [],
   "source": [
    "import os\n",
    "import json\n",
    "import warnings\n",
    "from os.path import join\n",
    "from tqdm.notebook import tqdm\n",
    "from itertools import repeat, starmap, product\n",
    "\n",
    "import numpy as np\n",
    "import pandas as pd\n",
    "from numpy import ndarray\n",
    "import plotly.express as px\n",
    "from numpy.linalg import norm\n",
    "from pandas import DataFrame as DF\n",
    "from scipy.spatial.transform import Rotation\n",
    "from sklearn.model_selection import StratifiedGroupKFold\n",
    "from kagglehub import whoami, competition_download, dataset_upload"
   ]
  },
  {
   "cell_type": "markdown",
   "id": "2102ea8c",
   "metadata": {},
   "source": [
    "### Supress performance warngings"
   ]
  },
  {
   "cell_type": "code",
   "execution_count": 2,
   "id": "fb820d2b",
   "metadata": {},
   "outputs": [],
   "source": [
    "warnings.filterwarnings(\n",
    "    \"ignore\",\n",
    "    message=(\n",
    "        \"DataFrame is highly fragmented.  This is usually the result of \"\n",
    "        \"calling `frame.insert` many times.*\"\n",
    "    ),\n",
    "    category=pd.errors.PerformanceWarning,\n",
    ")"
   ]
  },
  {
   "cell_type": "markdown",
   "id": "4386f64d",
   "metadata": {},
   "source": [
    "### Config"
   ]
  },
  {
   "cell_type": "code",
   "execution_count": 3,
   "id": "a522c427",
   "metadata": {},
   "outputs": [],
   "source": [
    "QUATERNION_COLS = ['rot_w', 'rot_x', 'rot_y', 'rot_z']\n",
    "GRAVITY_WORLD = np.array([0, 0, 9.81], \"float32\")\n",
    "RAW_ACCELRATION_COLS = [\"acc_x\", \"acc_y\", \"acc_z\"]\n",
    "LINEAR_ACC_COLS = [\"gravity_free_\" + col for col in RAW_ACCELRATION_COLS]\n",
    "COMPETITION_HANDLE = \"cmi-detect-behavior-with-sensor-data\"\n",
    "CATEGORY_COLUMNS = [\n",
    "    'row_id',\n",
    "    'sequence_type',\n",
    "    'sequence_id',\n",
    "    'subject',\n",
    "    'orientation',\n",
    "    'behavior',\n",
    "    'phase',\n",
    "    'gesture',\n",
    "]\n",
    "META_DATA_COLUMNS = [\n",
    "    'row_id',\n",
    "    'sequence_type',\n",
    "    'sequence_id',\n",
    "    'sequence_counter',\n",
    "    'subject',\n",
    "    'orientation',\n",
    "    'behavior',\n",
    "    'phase',\n",
    "    'gesture',\n",
    "]\n",
    "DATASET_DF_DTYPES = {\n",
    "    \"acc_x\": \"float32\", \"acc_y\": \"float32\", \"acc_z\": \"float32\",\n",
    "    \"thm_1\":\"float32\", \"thm_2\":\"float32\", \"thm_3\":\"float32\", \"thm_4\":\"float32\", \"thm_5\":\"float32\",\n",
    "    \"sequence_counter\": \"int32\",\n",
    "    **{col: \"category\" for col in CATEGORY_COLUMNS},\n",
    "    **{f\"tof_{i_1}_v{i_2}\": \"float32\" for i_1, i_2 in product(range(1, 5), range(64))},\n",
    "}\n",
    "PREPROCESSED_DATASET_HANDLE = \"mauroabidalcarrer/prepocessed-cmi-2025\"\n",
    "# The quantile of the sequences len used to pad/truncate during preprocessing\n",
    "SEQUENCE_NORMED_LEN_QUANTILE = 0.95\n",
    "# SAMPLING_FREQUENCY = 10 #Hz\n",
    "N_FOLDS = 5\n",
    "VALIDATION_FRACTION = 0.2\n",
    "TARGET_NAMES = sorted([\n",
    "    \"Above ear - pull hair\",\n",
    "    \"Cheek - pinch skin\",\n",
    "    \"Eyebrow - pull hair\",\n",
    "    \"Eyelash - pull hair\",\n",
    "    \"Feel around in tray and pull out an object\",\n",
    "    \"Forehead - pull hairline\",\n",
    "    \"Forehead - scratch\",\n",
    "    \"Neck - pinch skin\",\n",
    "    \"Neck - scratch\",\n",
    "    \"Text on phone\",\n",
    "    \"Wave hello\",\n",
    "    \"Write name in air\",\n",
    "    \"Write name on leg\",\n",
    "    \"Drink from bottle/cup\",\n",
    "    \"Pinch knee/leg skin\",\n",
    "    \"Pull air toward your face\",\n",
    "    \"Scratch knee/leg skin\",\n",
    "    \"Glasses on/off\"\n",
    "])\n",
    "EPSILON=1e-8\n",
    "DELTA_ROTATION_ANGULAR_VELOCITY_COLS = [\"angular_vel_x\", \"angular_vel_y\", \"angular_vel_z\"]\n",
    "DELTA_ROTATION_AXES_COLS = [\"rotation_axis_x\", \"rotation_axis_y\", \"rotation_axis_z\"]\n",
    "EULER_ANGLES_COLS = [\"euler_x\", \"euler_y\", \"euler_z\"]\n",
    "TOF_AGG_FUNCS = [\n",
    "    \"mean\",\n",
    "    \"std\",\n",
    "    \"min\",\n",
    "    \"max\",\n",
    "    \"median\",\n",
    "]"
   ]
  },
  {
   "cell_type": "markdown",
   "id": "f27f6677",
   "metadata": {},
   "source": [
    "### Define function to get the feature columns\n",
    "Feature columns change over time so it's better to have a function to get them than manually update a variable every time we add/remove features."
   ]
  },
  {
   "cell_type": "code",
   "execution_count": 4,
   "id": "e2db0953",
   "metadata": {},
   "outputs": [],
   "source": [
    "def get_feature_cols(df:DF) -> list[str]:\n",
    "    return sorted(list(set(df.columns) - set(META_DATA_COLUMNS) - set(TARGET_NAMES)))"
   ]
  },
  {
   "cell_type": "markdown",
   "id": "773eda72",
   "metadata": {},
   "source": [
    "### Load dataset\n",
    "Requires to be logged in if this notebook is not running on kaggle, go to [your settings](https://www.kaggle.com/settings) to create an access token and put it in `~/.kaggle/`."
   ]
  },
  {
   "cell_type": "code",
   "execution_count": 5,
   "id": "58b8bc22",
   "metadata": {},
   "outputs": [],
   "source": [
    "competition_dataset_path = competition_download(COMPETITION_HANDLE)\n",
    "df = pd.read_csv(join(competition_dataset_path, \"train.csv\"), dtype=DATASET_DF_DTYPES)"
   ]
  },
  {
   "cell_type": "markdown",
   "id": "c1924ec0",
   "metadata": {},
   "source": [
    "## Data preprocessing"
   ]
  },
  {
   "cell_type": "markdown",
   "id": "7aea88de",
   "metadata": {},
   "source": [
    "### Impute missing data\n",
    "Perform forward, backward and then filling of all NaN sequences."
   ]
  },
  {
   "cell_type": "code",
   "execution_count": 6,
   "id": "c2f0db28",
   "metadata": {},
   "outputs": [],
   "source": [
    "# Missing ToF values are already imputed by -1 which is inconvinient since we want all missing values to be NaN.    \n",
    "# So we replace them by NaN and then perform imputing.\n",
    "def get_fillna_val_per_feature_col(df:DF) -> dict:\n",
    "    return {col: 1.0 if col == 'rot_w' else 0 for col in get_feature_cols(df)}\n",
    "\n",
    "def imputed_features(df:DF) -> DF:\n",
    "    # Missing ToF values are already imputed by -1 which is inconvinient since we want all missing values to be NaN.    \n",
    "    # So we replace them by NaN and then perform imputing.  \n",
    "    tof_vals_to_nan = {col: -1.0 for col in df.columns if col.startswith(\"tof\")}\n",
    "    # fillna_val_per_col = {col: 1.0 if col == 'rot_w' else 0 for col in df.columns}\n",
    "\n",
    "    df[get_feature_cols(df)] = (\n",
    "        df\n",
    "        .loc[:, get_feature_cols(df)]\n",
    "        # df.replace with np.nan sets dtype to floar64 so we set it back to float32\n",
    "        .replace(tof_vals_to_nan, value=np.nan)\n",
    "        .astype(\"float32\")\n",
    "        .groupby(df[\"sequence_id\"], observed=True, as_index=False)\n",
    "        .ffill()\n",
    "        .groupby(df[\"sequence_id\"], observed=True, as_index=False)\n",
    "        .bfill()\n",
    "        # In case there are only nan in the column in the sequence\n",
    "        .fillna(get_fillna_val_per_feature_col(df))\n",
    "    )\n",
    "    return df\n",
    "\n",
    "df = imputed_features(df)"
   ]
  },
  {
   "cell_type": "markdown",
   "id": "ad044a52",
   "metadata": {},
   "source": [
    "### Norm quaternions\n",
    "This allows us to parse quaternions with `scipy.spatial.transform.Rotation`."
   ]
  },
  {
   "cell_type": "code",
   "execution_count": 7,
   "id": "c99bce0b",
   "metadata": {},
   "outputs": [],
   "source": [
    "def norm_quat_rotations(df:DF) -> DF:\n",
    "    df[QUATERNION_COLS] /= np.linalg.norm(df[QUATERNION_COLS], axis=1, keepdims=True)\n",
    "    return df"
   ]
  },
  {
   "cell_type": "markdown",
   "id": "606a87c4",
   "metadata": {},
   "source": [
    "### Linear acceleration\n",
    "Remove gravity from the acceleration features."
   ]
  },
  {
   "cell_type": "code",
   "execution_count": 8,
   "id": "5d87de25",
   "metadata": {},
   "outputs": [],
   "source": [
    "def add_linear_acc_cols(df:DF) -> DF:\n",
    "    # Vectorized version of https://www.kaggle.com/code/wasupandceacar/lb-0-82-5fold-single-bert-model#Dataset `remove_gravity_from_acc`\n",
    "    rotations:Rotation = Rotation.from_quat(df[QUATERNION_COLS])\n",
    "    gravity_sensor_frame = rotations.apply(GRAVITY_WORLD, inverse=True).astype(\"float32\")\n",
    "    df[LINEAR_ACC_COLS] = df[RAW_ACCELRATION_COLS] - gravity_sensor_frame\n",
    "    return df\n",
    "\n",
    "df = add_linear_acc_cols(df)"
   ]
  },
  {
   "cell_type": "markdown",
   "id": "f1d709e7",
   "metadata": {},
   "source": [
    "### Accelerations magnitudes\n",
    "Add magnitue (norm) of both  raw acceleration and linear accelration."
   ]
  },
  {
   "cell_type": "code",
   "execution_count": 9,
   "id": "9fdf04ef",
   "metadata": {},
   "outputs": [],
   "source": [
    "def add_acc_magnitude(df:DF, acc_cols:list[str], acc_mag_col_name:str) -> DF:\n",
    "    return df.assign(**{acc_mag_col_name: np.linalg.norm(df.loc[:, acc_cols], axis=1)})\n",
    "\n",
    "df = add_acc_magnitude(df, RAW_ACCELRATION_COLS, \"raw_acc_mag\")\n",
    "df = add_acc_magnitude(df, LINEAR_ACC_COLS, \"linear_acc_mag\")"
   ]
  },
  {
   "cell_type": "markdown",
   "id": "7d92b38a",
   "metadata": {},
   "source": [
    "### Quaternion angle magnitude\n",
    "Refered to as \"rotation angle\" in top notebooks."
   ]
  },
  {
   "cell_type": "code",
   "execution_count": 10,
   "id": "79aac44c",
   "metadata": {},
   "outputs": [],
   "source": [
    "def add_quat_angle_mag(df:DF) -> DF:\n",
    "    return df.assign(quat_rot_mag=np.arccos(df[\"rot_w\"]) * 2)\n",
    "\n",
    "df = add_quat_angle_mag(df)"
   ]
  },
  {
   "cell_type": "markdown",
   "id": "7127f2da",
   "metadata": {},
   "source": [
    "### Angular velocity\n",
    "Compute the axis of the rotation difference and its angular magnutide.  \n",
    "Top notebooks scale the vector by the angular magnitude.  \n",
    "I will also include the magnitude and unit axis vector in case they turn out to be more informative.   "
   ]
  },
  {
   "cell_type": "code",
   "execution_count": 11,
   "id": "9c6cf592",
   "metadata": {},
   "outputs": [],
   "source": [
    "def add_angular_velocity_features(df:DF) -> DF:\n",
    "    rotations = Rotation.from_quat(df[QUATERNION_COLS])\n",
    "    delta_rotations = rotations[1:] * rotations[:-1].inv()\n",
    "    delta_rot_velocity = delta_rotations.as_rotvec()\n",
    "    # Add extra line to avoid shape mismatch\n",
    "    delta_rot_velocity = np.vstack((np.zeros((1, 3)), delta_rot_velocity))\n",
    "    delta_rot_magnitude = norm(delta_rot_velocity, axis=1, keepdims=True)\n",
    "    delta_rot_axes = delta_rot_velocity / (delta_rot_magnitude + EPSILON)\n",
    "    df[DELTA_ROTATION_ANGULAR_VELOCITY_COLS] = delta_rot_velocity\n",
    "    df[DELTA_ROTATION_AXES_COLS] = delta_rot_axes\n",
    "    df[\"delta_rot_mag\"] = delta_rot_magnitude.squeeze()\n",
    "\n",
    "    return df\n",
    "\n",
    "df = add_angular_velocity_features(df)"
   ]
  },
  {
   "cell_type": "markdown",
   "id": "6ae43d1a",
   "metadata": {},
   "source": [
    "### Euler angles from quaternions"
   ]
  },
  {
   "cell_type": "code",
   "execution_count": 12,
   "id": "c99bce0b",
   "metadata": {},
   "outputs": [],
   "source": [
    "def rot_euler_angles(df:DF) -> ndarray:\n",
    "    df[EULER_ANGLES_COLS] = (\n",
    "        Rotation\n",
    "        .from_quat(df[QUATERNION_COLS])\n",
    "        .as_euler(\"xyz\")\n",
    "        .squeeze()\n",
    "    )\n",
    "    return df\n",
    "\n",
    "df = rot_euler_angles(df)"
   ]
  },
  {
   "cell_type": "markdown",
   "id": "18979983",
   "metadata": {},
   "source": [
    "### One hot encode target values."
   ]
  },
  {
   "cell_type": "code",
   "execution_count": 13,
   "id": "05661625",
   "metadata": {},
   "outputs": [
    {
     "data": {
      "text/html": [
       "<div>\n",
       "<style scoped>\n",
       "    .dataframe tbody tr th:only-of-type {\n",
       "        vertical-align: middle;\n",
       "    }\n",
       "\n",
       "    .dataframe tbody tr th {\n",
       "        vertical-align: top;\n",
       "    }\n",
       "\n",
       "    .dataframe thead th {\n",
       "        text-align: right;\n",
       "    }\n",
       "</style>\n",
       "<table border=\"1\" class=\"dataframe\">\n",
       "  <thead>\n",
       "    <tr style=\"text-align: right;\">\n",
       "      <th></th>\n",
       "      <th>row_id</th>\n",
       "      <th>sequence_type</th>\n",
       "      <th>sequence_id</th>\n",
       "      <th>sequence_counter</th>\n",
       "      <th>subject</th>\n",
       "      <th>orientation</th>\n",
       "      <th>behavior</th>\n",
       "      <th>phase</th>\n",
       "      <th>gesture</th>\n",
       "      <th>acc_x</th>\n",
       "      <th>...</th>\n",
       "      <th>Glasses on/off</th>\n",
       "      <th>Neck - pinch skin</th>\n",
       "      <th>Neck - scratch</th>\n",
       "      <th>Pinch knee/leg skin</th>\n",
       "      <th>Pull air toward your face</th>\n",
       "      <th>Scratch knee/leg skin</th>\n",
       "      <th>Text on phone</th>\n",
       "      <th>Wave hello</th>\n",
       "      <th>Write name in air</th>\n",
       "      <th>Write name on leg</th>\n",
       "    </tr>\n",
       "  </thead>\n",
       "  <tbody>\n",
       "    <tr>\n",
       "      <th>0</th>\n",
       "      <td>SEQ_000007_000000</td>\n",
       "      <td>Target</td>\n",
       "      <td>SEQ_000007</td>\n",
       "      <td>0</td>\n",
       "      <td>SUBJ_059520</td>\n",
       "      <td>Seated Lean Non Dom - FACE DOWN</td>\n",
       "      <td>Relaxes and moves hand to target location</td>\n",
       "      <td>Transition</td>\n",
       "      <td>Cheek - pinch skin</td>\n",
       "      <td>6.683594</td>\n",
       "      <td>...</td>\n",
       "      <td>False</td>\n",
       "      <td>False</td>\n",
       "      <td>False</td>\n",
       "      <td>False</td>\n",
       "      <td>False</td>\n",
       "      <td>False</td>\n",
       "      <td>False</td>\n",
       "      <td>False</td>\n",
       "      <td>False</td>\n",
       "      <td>False</td>\n",
       "    </tr>\n",
       "    <tr>\n",
       "      <th>1</th>\n",
       "      <td>SEQ_000007_000001</td>\n",
       "      <td>Target</td>\n",
       "      <td>SEQ_000007</td>\n",
       "      <td>1</td>\n",
       "      <td>SUBJ_059520</td>\n",
       "      <td>Seated Lean Non Dom - FACE DOWN</td>\n",
       "      <td>Relaxes and moves hand to target location</td>\n",
       "      <td>Transition</td>\n",
       "      <td>Cheek - pinch skin</td>\n",
       "      <td>6.949219</td>\n",
       "      <td>...</td>\n",
       "      <td>False</td>\n",
       "      <td>False</td>\n",
       "      <td>False</td>\n",
       "      <td>False</td>\n",
       "      <td>False</td>\n",
       "      <td>False</td>\n",
       "      <td>False</td>\n",
       "      <td>False</td>\n",
       "      <td>False</td>\n",
       "      <td>False</td>\n",
       "    </tr>\n",
       "    <tr>\n",
       "      <th>2</th>\n",
       "      <td>SEQ_000007_000002</td>\n",
       "      <td>Target</td>\n",
       "      <td>SEQ_000007</td>\n",
       "      <td>2</td>\n",
       "      <td>SUBJ_059520</td>\n",
       "      <td>Seated Lean Non Dom - FACE DOWN</td>\n",
       "      <td>Relaxes and moves hand to target location</td>\n",
       "      <td>Transition</td>\n",
       "      <td>Cheek - pinch skin</td>\n",
       "      <td>5.722656</td>\n",
       "      <td>...</td>\n",
       "      <td>False</td>\n",
       "      <td>False</td>\n",
       "      <td>False</td>\n",
       "      <td>False</td>\n",
       "      <td>False</td>\n",
       "      <td>False</td>\n",
       "      <td>False</td>\n",
       "      <td>False</td>\n",
       "      <td>False</td>\n",
       "      <td>False</td>\n",
       "    </tr>\n",
       "    <tr>\n",
       "      <th>3</th>\n",
       "      <td>SEQ_000007_000003</td>\n",
       "      <td>Target</td>\n",
       "      <td>SEQ_000007</td>\n",
       "      <td>3</td>\n",
       "      <td>SUBJ_059520</td>\n",
       "      <td>Seated Lean Non Dom - FACE DOWN</td>\n",
       "      <td>Relaxes and moves hand to target location</td>\n",
       "      <td>Transition</td>\n",
       "      <td>Cheek - pinch skin</td>\n",
       "      <td>6.601562</td>\n",
       "      <td>...</td>\n",
       "      <td>False</td>\n",
       "      <td>False</td>\n",
       "      <td>False</td>\n",
       "      <td>False</td>\n",
       "      <td>False</td>\n",
       "      <td>False</td>\n",
       "      <td>False</td>\n",
       "      <td>False</td>\n",
       "      <td>False</td>\n",
       "      <td>False</td>\n",
       "    </tr>\n",
       "    <tr>\n",
       "      <th>4</th>\n",
       "      <td>SEQ_000007_000004</td>\n",
       "      <td>Target</td>\n",
       "      <td>SEQ_000007</td>\n",
       "      <td>4</td>\n",
       "      <td>SUBJ_059520</td>\n",
       "      <td>Seated Lean Non Dom - FACE DOWN</td>\n",
       "      <td>Relaxes and moves hand to target location</td>\n",
       "      <td>Transition</td>\n",
       "      <td>Cheek - pinch skin</td>\n",
       "      <td>5.566406</td>\n",
       "      <td>...</td>\n",
       "      <td>False</td>\n",
       "      <td>False</td>\n",
       "      <td>False</td>\n",
       "      <td>False</td>\n",
       "      <td>False</td>\n",
       "      <td>False</td>\n",
       "      <td>False</td>\n",
       "      <td>False</td>\n",
       "      <td>False</td>\n",
       "      <td>False</td>\n",
       "    </tr>\n",
       "    <tr>\n",
       "      <th>...</th>\n",
       "      <td>...</td>\n",
       "      <td>...</td>\n",
       "      <td>...</td>\n",
       "      <td>...</td>\n",
       "      <td>...</td>\n",
       "      <td>...</td>\n",
       "      <td>...</td>\n",
       "      <td>...</td>\n",
       "      <td>...</td>\n",
       "      <td>...</td>\n",
       "      <td>...</td>\n",
       "      <td>...</td>\n",
       "      <td>...</td>\n",
       "      <td>...</td>\n",
       "      <td>...</td>\n",
       "      <td>...</td>\n",
       "      <td>...</td>\n",
       "      <td>...</td>\n",
       "      <td>...</td>\n",
       "      <td>...</td>\n",
       "      <td>...</td>\n",
       "    </tr>\n",
       "    <tr>\n",
       "      <th>574940</th>\n",
       "      <td>SEQ_065531_000048</td>\n",
       "      <td>Non-Target</td>\n",
       "      <td>SEQ_065531</td>\n",
       "      <td>48</td>\n",
       "      <td>SUBJ_039498</td>\n",
       "      <td>Seated Lean Non Dom - FACE DOWN</td>\n",
       "      <td>Performs gesture</td>\n",
       "      <td>Gesture</td>\n",
       "      <td>Write name on leg</td>\n",
       "      <td>3.503906</td>\n",
       "      <td>...</td>\n",
       "      <td>False</td>\n",
       "      <td>False</td>\n",
       "      <td>False</td>\n",
       "      <td>False</td>\n",
       "      <td>False</td>\n",
       "      <td>False</td>\n",
       "      <td>False</td>\n",
       "      <td>False</td>\n",
       "      <td>False</td>\n",
       "      <td>True</td>\n",
       "    </tr>\n",
       "    <tr>\n",
       "      <th>574941</th>\n",
       "      <td>SEQ_065531_000049</td>\n",
       "      <td>Non-Target</td>\n",
       "      <td>SEQ_065531</td>\n",
       "      <td>49</td>\n",
       "      <td>SUBJ_039498</td>\n",
       "      <td>Seated Lean Non Dom - FACE DOWN</td>\n",
       "      <td>Performs gesture</td>\n",
       "      <td>Gesture</td>\n",
       "      <td>Write name on leg</td>\n",
       "      <td>3.773438</td>\n",
       "      <td>...</td>\n",
       "      <td>False</td>\n",
       "      <td>False</td>\n",
       "      <td>False</td>\n",
       "      <td>False</td>\n",
       "      <td>False</td>\n",
       "      <td>False</td>\n",
       "      <td>False</td>\n",
       "      <td>False</td>\n",
       "      <td>False</td>\n",
       "      <td>True</td>\n",
       "    </tr>\n",
       "    <tr>\n",
       "      <th>574942</th>\n",
       "      <td>SEQ_065531_000050</td>\n",
       "      <td>Non-Target</td>\n",
       "      <td>SEQ_065531</td>\n",
       "      <td>50</td>\n",
       "      <td>SUBJ_039498</td>\n",
       "      <td>Seated Lean Non Dom - FACE DOWN</td>\n",
       "      <td>Performs gesture</td>\n",
       "      <td>Gesture</td>\n",
       "      <td>Write name on leg</td>\n",
       "      <td>3.082031</td>\n",
       "      <td>...</td>\n",
       "      <td>False</td>\n",
       "      <td>False</td>\n",
       "      <td>False</td>\n",
       "      <td>False</td>\n",
       "      <td>False</td>\n",
       "      <td>False</td>\n",
       "      <td>False</td>\n",
       "      <td>False</td>\n",
       "      <td>False</td>\n",
       "      <td>True</td>\n",
       "    </tr>\n",
       "    <tr>\n",
       "      <th>574943</th>\n",
       "      <td>SEQ_065531_000051</td>\n",
       "      <td>Non-Target</td>\n",
       "      <td>SEQ_065531</td>\n",
       "      <td>51</td>\n",
       "      <td>SUBJ_039498</td>\n",
       "      <td>Seated Lean Non Dom - FACE DOWN</td>\n",
       "      <td>Performs gesture</td>\n",
       "      <td>Gesture</td>\n",
       "      <td>Write name on leg</td>\n",
       "      <td>3.964844</td>\n",
       "      <td>...</td>\n",
       "      <td>False</td>\n",
       "      <td>False</td>\n",
       "      <td>False</td>\n",
       "      <td>False</td>\n",
       "      <td>False</td>\n",
       "      <td>False</td>\n",
       "      <td>False</td>\n",
       "      <td>False</td>\n",
       "      <td>False</td>\n",
       "      <td>True</td>\n",
       "    </tr>\n",
       "    <tr>\n",
       "      <th>574944</th>\n",
       "      <td>SEQ_065531_000052</td>\n",
       "      <td>Non-Target</td>\n",
       "      <td>SEQ_065531</td>\n",
       "      <td>52</td>\n",
       "      <td>SUBJ_039498</td>\n",
       "      <td>Seated Lean Non Dom - FACE DOWN</td>\n",
       "      <td>Performs gesture</td>\n",
       "      <td>Gesture</td>\n",
       "      <td>Write name on leg</td>\n",
       "      <td>4.269531</td>\n",
       "      <td>...</td>\n",
       "      <td>False</td>\n",
       "      <td>False</td>\n",
       "      <td>False</td>\n",
       "      <td>False</td>\n",
       "      <td>False</td>\n",
       "      <td>False</td>\n",
       "      <td>False</td>\n",
       "      <td>False</td>\n",
       "      <td>False</td>\n",
       "      <td>True</td>\n",
       "    </tr>\n",
       "  </tbody>\n",
       "</table>\n",
       "<p>574945 rows × 375 columns</p>\n",
       "</div>"
      ],
      "text/plain": [
       "                   row_id sequence_type sequence_id  sequence_counter  \\\n",
       "0       SEQ_000007_000000        Target  SEQ_000007                 0   \n",
       "1       SEQ_000007_000001        Target  SEQ_000007                 1   \n",
       "2       SEQ_000007_000002        Target  SEQ_000007                 2   \n",
       "3       SEQ_000007_000003        Target  SEQ_000007                 3   \n",
       "4       SEQ_000007_000004        Target  SEQ_000007                 4   \n",
       "...                   ...           ...         ...               ...   \n",
       "574940  SEQ_065531_000048    Non-Target  SEQ_065531                48   \n",
       "574941  SEQ_065531_000049    Non-Target  SEQ_065531                49   \n",
       "574942  SEQ_065531_000050    Non-Target  SEQ_065531                50   \n",
       "574943  SEQ_065531_000051    Non-Target  SEQ_065531                51   \n",
       "574944  SEQ_065531_000052    Non-Target  SEQ_065531                52   \n",
       "\n",
       "            subject                      orientation  \\\n",
       "0       SUBJ_059520  Seated Lean Non Dom - FACE DOWN   \n",
       "1       SUBJ_059520  Seated Lean Non Dom - FACE DOWN   \n",
       "2       SUBJ_059520  Seated Lean Non Dom - FACE DOWN   \n",
       "3       SUBJ_059520  Seated Lean Non Dom - FACE DOWN   \n",
       "4       SUBJ_059520  Seated Lean Non Dom - FACE DOWN   \n",
       "...             ...                              ...   \n",
       "574940  SUBJ_039498  Seated Lean Non Dom - FACE DOWN   \n",
       "574941  SUBJ_039498  Seated Lean Non Dom - FACE DOWN   \n",
       "574942  SUBJ_039498  Seated Lean Non Dom - FACE DOWN   \n",
       "574943  SUBJ_039498  Seated Lean Non Dom - FACE DOWN   \n",
       "574944  SUBJ_039498  Seated Lean Non Dom - FACE DOWN   \n",
       "\n",
       "                                         behavior       phase  \\\n",
       "0       Relaxes and moves hand to target location  Transition   \n",
       "1       Relaxes and moves hand to target location  Transition   \n",
       "2       Relaxes and moves hand to target location  Transition   \n",
       "3       Relaxes and moves hand to target location  Transition   \n",
       "4       Relaxes and moves hand to target location  Transition   \n",
       "...                                           ...         ...   \n",
       "574940                           Performs gesture     Gesture   \n",
       "574941                           Performs gesture     Gesture   \n",
       "574942                           Performs gesture     Gesture   \n",
       "574943                           Performs gesture     Gesture   \n",
       "574944                           Performs gesture     Gesture   \n",
       "\n",
       "                   gesture     acc_x  ...  Glasses on/off  Neck - pinch skin  \\\n",
       "0       Cheek - pinch skin  6.683594  ...           False              False   \n",
       "1       Cheek - pinch skin  6.949219  ...           False              False   \n",
       "2       Cheek - pinch skin  5.722656  ...           False              False   \n",
       "3       Cheek - pinch skin  6.601562  ...           False              False   \n",
       "4       Cheek - pinch skin  5.566406  ...           False              False   \n",
       "...                    ...       ...  ...             ...                ...   \n",
       "574940   Write name on leg  3.503906  ...           False              False   \n",
       "574941   Write name on leg  3.773438  ...           False              False   \n",
       "574942   Write name on leg  3.082031  ...           False              False   \n",
       "574943   Write name on leg  3.964844  ...           False              False   \n",
       "574944   Write name on leg  4.269531  ...           False              False   \n",
       "\n",
       "        Neck - scratch  Pinch knee/leg skin  Pull air toward your face  \\\n",
       "0                False                False                      False   \n",
       "1                False                False                      False   \n",
       "2                False                False                      False   \n",
       "3                False                False                      False   \n",
       "4                False                False                      False   \n",
       "...                ...                  ...                        ...   \n",
       "574940           False                False                      False   \n",
       "574941           False                False                      False   \n",
       "574942           False                False                      False   \n",
       "574943           False                False                      False   \n",
       "574944           False                False                      False   \n",
       "\n",
       "        Scratch knee/leg skin  Text on phone  Wave hello  Write name in air  \\\n",
       "0                       False          False       False              False   \n",
       "1                       False          False       False              False   \n",
       "2                       False          False       False              False   \n",
       "3                       False          False       False              False   \n",
       "4                       False          False       False              False   \n",
       "...                       ...            ...         ...                ...   \n",
       "574940                  False          False       False              False   \n",
       "574941                  False          False       False              False   \n",
       "574942                  False          False       False              False   \n",
       "574943                  False          False       False              False   \n",
       "574944                  False          False       False              False   \n",
       "\n",
       "        Write name on leg  \n",
       "0                   False  \n",
       "1                   False  \n",
       "2                   False  \n",
       "3                   False  \n",
       "4                   False  \n",
       "...                   ...  \n",
       "574940               True  \n",
       "574941               True  \n",
       "574942               True  \n",
       "574943               True  \n",
       "574944               True  \n",
       "\n",
       "[574945 rows x 375 columns]"
      ]
     },
     "execution_count": 13,
     "metadata": {},
     "output_type": "execute_result"
    }
   ],
   "source": [
    "one_hot_target = pd.get_dummies(df[\"gesture\"])\n",
    "df[TARGET_NAMES] = one_hot_target[TARGET_NAMES]\n",
    "df"
   ]
  },
  {
   "cell_type": "markdown",
   "id": "8812dc08",
   "metadata": {},
   "source": [
    "### ToF data aggregation.\n",
    "Time of Flight columns take most of the data, let's reduce their size by aggregating by mean for each Time of Flight sensor."
   ]
  },
  {
   "cell_type": "code",
   "execution_count": 14,
   "id": "2b4f83f2",
   "metadata": {},
   "outputs": [
    {
     "data": {
      "application/vnd.jupyter.widget-view+json": {
       "model_id": "0eafefbd6b0148ba8700eb056d55573e",
       "version_major": 2,
       "version_minor": 0
      },
      "text/plain": [
       "  0%|          | 0/5 [00:00<?, ?it/s]"
      ]
     },
     "metadata": {},
     "output_type": "display_data"
    },
    {
     "data": {
      "text/html": [
       "<div>\n",
       "<style scoped>\n",
       "    .dataframe tbody tr th:only-of-type {\n",
       "        vertical-align: middle;\n",
       "    }\n",
       "\n",
       "    .dataframe tbody tr th {\n",
       "        vertical-align: top;\n",
       "    }\n",
       "\n",
       "    .dataframe thead th {\n",
       "        text-align: right;\n",
       "    }\n",
       "</style>\n",
       "<table border=\"1\" class=\"dataframe\">\n",
       "  <thead>\n",
       "    <tr style=\"text-align: right;\">\n",
       "      <th></th>\n",
       "      <th>row_id</th>\n",
       "      <th>sequence_type</th>\n",
       "      <th>sequence_id</th>\n",
       "      <th>sequence_counter</th>\n",
       "      <th>subject</th>\n",
       "      <th>orientation</th>\n",
       "      <th>behavior</th>\n",
       "      <th>phase</th>\n",
       "      <th>gesture</th>\n",
       "      <th>acc_x</th>\n",
       "      <th>...</th>\n",
       "      <th>tof_4_mean</th>\n",
       "      <th>tof_4_std</th>\n",
       "      <th>tof_4_median</th>\n",
       "      <th>tof_4_min</th>\n",
       "      <th>tof_4_max</th>\n",
       "      <th>tof_5_mean</th>\n",
       "      <th>tof_5_std</th>\n",
       "      <th>tof_5_median</th>\n",
       "      <th>tof_5_min</th>\n",
       "      <th>tof_5_max</th>\n",
       "    </tr>\n",
       "  </thead>\n",
       "  <tbody>\n",
       "    <tr>\n",
       "      <th>0</th>\n",
       "      <td>SEQ_000007_000000</td>\n",
       "      <td>Target</td>\n",
       "      <td>SEQ_000007</td>\n",
       "      <td>0</td>\n",
       "      <td>SUBJ_059520</td>\n",
       "      <td>Seated Lean Non Dom - FACE DOWN</td>\n",
       "      <td>Relaxes and moves hand to target location</td>\n",
       "      <td>Transition</td>\n",
       "      <td>Cheek - pinch skin</td>\n",
       "      <td>6.683594</td>\n",
       "      <td>...</td>\n",
       "      <td>123.359375</td>\n",
       "      <td>41.862347</td>\n",
       "      <td>134.0</td>\n",
       "      <td>51.0</td>\n",
       "      <td>206.0</td>\n",
       "      <td>135.343750</td>\n",
       "      <td>32.397930</td>\n",
       "      <td>128.5</td>\n",
       "      <td>88.0</td>\n",
       "      <td>226.0</td>\n",
       "    </tr>\n",
       "    <tr>\n",
       "      <th>1</th>\n",
       "      <td>SEQ_000007_000001</td>\n",
       "      <td>Target</td>\n",
       "      <td>SEQ_000007</td>\n",
       "      <td>1</td>\n",
       "      <td>SUBJ_059520</td>\n",
       "      <td>Seated Lean Non Dom - FACE DOWN</td>\n",
       "      <td>Relaxes and moves hand to target location</td>\n",
       "      <td>Transition</td>\n",
       "      <td>Cheek - pinch skin</td>\n",
       "      <td>6.949219</td>\n",
       "      <td>...</td>\n",
       "      <td>124.406250</td>\n",
       "      <td>40.487785</td>\n",
       "      <td>135.5</td>\n",
       "      <td>60.0</td>\n",
       "      <td>206.0</td>\n",
       "      <td>137.000000</td>\n",
       "      <td>32.489803</td>\n",
       "      <td>129.5</td>\n",
       "      <td>88.0</td>\n",
       "      <td>226.0</td>\n",
       "    </tr>\n",
       "    <tr>\n",
       "      <th>2</th>\n",
       "      <td>SEQ_000007_000002</td>\n",
       "      <td>Target</td>\n",
       "      <td>SEQ_000007</td>\n",
       "      <td>2</td>\n",
       "      <td>SUBJ_059520</td>\n",
       "      <td>Seated Lean Non Dom - FACE DOWN</td>\n",
       "      <td>Relaxes and moves hand to target location</td>\n",
       "      <td>Transition</td>\n",
       "      <td>Cheek - pinch skin</td>\n",
       "      <td>5.722656</td>\n",
       "      <td>...</td>\n",
       "      <td>125.687500</td>\n",
       "      <td>36.980423</td>\n",
       "      <td>131.5</td>\n",
       "      <td>71.0</td>\n",
       "      <td>206.0</td>\n",
       "      <td>140.234375</td>\n",
       "      <td>34.100105</td>\n",
       "      <td>136.0</td>\n",
       "      <td>88.0</td>\n",
       "      <td>226.0</td>\n",
       "    </tr>\n",
       "    <tr>\n",
       "      <th>3</th>\n",
       "      <td>SEQ_000007_000003</td>\n",
       "      <td>Target</td>\n",
       "      <td>SEQ_000007</td>\n",
       "      <td>3</td>\n",
       "      <td>SUBJ_059520</td>\n",
       "      <td>Seated Lean Non Dom - FACE DOWN</td>\n",
       "      <td>Relaxes and moves hand to target location</td>\n",
       "      <td>Transition</td>\n",
       "      <td>Cheek - pinch skin</td>\n",
       "      <td>6.601562</td>\n",
       "      <td>...</td>\n",
       "      <td>149.078125</td>\n",
       "      <td>29.778711</td>\n",
       "      <td>147.0</td>\n",
       "      <td>100.0</td>\n",
       "      <td>210.0</td>\n",
       "      <td>142.609375</td>\n",
       "      <td>35.809734</td>\n",
       "      <td>137.5</td>\n",
       "      <td>88.0</td>\n",
       "      <td>226.0</td>\n",
       "    </tr>\n",
       "    <tr>\n",
       "      <th>4</th>\n",
       "      <td>SEQ_000007_000004</td>\n",
       "      <td>Target</td>\n",
       "      <td>SEQ_000007</td>\n",
       "      <td>4</td>\n",
       "      <td>SUBJ_059520</td>\n",
       "      <td>Seated Lean Non Dom - FACE DOWN</td>\n",
       "      <td>Relaxes and moves hand to target location</td>\n",
       "      <td>Transition</td>\n",
       "      <td>Cheek - pinch skin</td>\n",
       "      <td>5.566406</td>\n",
       "      <td>...</td>\n",
       "      <td>163.765625</td>\n",
       "      <td>29.487551</td>\n",
       "      <td>157.5</td>\n",
       "      <td>116.0</td>\n",
       "      <td>229.0</td>\n",
       "      <td>151.265625</td>\n",
       "      <td>38.821220</td>\n",
       "      <td>142.5</td>\n",
       "      <td>88.0</td>\n",
       "      <td>226.0</td>\n",
       "    </tr>\n",
       "    <tr>\n",
       "      <th>...</th>\n",
       "      <td>...</td>\n",
       "      <td>...</td>\n",
       "      <td>...</td>\n",
       "      <td>...</td>\n",
       "      <td>...</td>\n",
       "      <td>...</td>\n",
       "      <td>...</td>\n",
       "      <td>...</td>\n",
       "      <td>...</td>\n",
       "      <td>...</td>\n",
       "      <td>...</td>\n",
       "      <td>...</td>\n",
       "      <td>...</td>\n",
       "      <td>...</td>\n",
       "      <td>...</td>\n",
       "      <td>...</td>\n",
       "      <td>...</td>\n",
       "      <td>...</td>\n",
       "      <td>...</td>\n",
       "      <td>...</td>\n",
       "      <td>...</td>\n",
       "    </tr>\n",
       "    <tr>\n",
       "      <th>574940</th>\n",
       "      <td>SEQ_065531_000048</td>\n",
       "      <td>Non-Target</td>\n",
       "      <td>SEQ_065531</td>\n",
       "      <td>48</td>\n",
       "      <td>SUBJ_039498</td>\n",
       "      <td>Seated Lean Non Dom - FACE DOWN</td>\n",
       "      <td>Performs gesture</td>\n",
       "      <td>Gesture</td>\n",
       "      <td>Write name on leg</td>\n",
       "      <td>3.503906</td>\n",
       "      <td>...</td>\n",
       "      <td>74.062500</td>\n",
       "      <td>28.283079</td>\n",
       "      <td>66.5</td>\n",
       "      <td>39.0</td>\n",
       "      <td>162.0</td>\n",
       "      <td>52.843750</td>\n",
       "      <td>9.838730</td>\n",
       "      <td>52.0</td>\n",
       "      <td>27.0</td>\n",
       "      <td>73.0</td>\n",
       "    </tr>\n",
       "    <tr>\n",
       "      <th>574941</th>\n",
       "      <td>SEQ_065531_000049</td>\n",
       "      <td>Non-Target</td>\n",
       "      <td>SEQ_065531</td>\n",
       "      <td>49</td>\n",
       "      <td>SUBJ_039498</td>\n",
       "      <td>Seated Lean Non Dom - FACE DOWN</td>\n",
       "      <td>Performs gesture</td>\n",
       "      <td>Gesture</td>\n",
       "      <td>Write name on leg</td>\n",
       "      <td>3.773438</td>\n",
       "      <td>...</td>\n",
       "      <td>70.406250</td>\n",
       "      <td>29.312611</td>\n",
       "      <td>61.5</td>\n",
       "      <td>38.0</td>\n",
       "      <td>162.0</td>\n",
       "      <td>54.531250</td>\n",
       "      <td>10.579958</td>\n",
       "      <td>54.5</td>\n",
       "      <td>29.0</td>\n",
       "      <td>73.0</td>\n",
       "    </tr>\n",
       "    <tr>\n",
       "      <th>574942</th>\n",
       "      <td>SEQ_065531_000050</td>\n",
       "      <td>Non-Target</td>\n",
       "      <td>SEQ_065531</td>\n",
       "      <td>50</td>\n",
       "      <td>SUBJ_039498</td>\n",
       "      <td>Seated Lean Non Dom - FACE DOWN</td>\n",
       "      <td>Performs gesture</td>\n",
       "      <td>Gesture</td>\n",
       "      <td>Write name on leg</td>\n",
       "      <td>3.082031</td>\n",
       "      <td>...</td>\n",
       "      <td>70.109375</td>\n",
       "      <td>29.322031</td>\n",
       "      <td>63.0</td>\n",
       "      <td>41.0</td>\n",
       "      <td>162.0</td>\n",
       "      <td>57.468750</td>\n",
       "      <td>11.371042</td>\n",
       "      <td>57.5</td>\n",
       "      <td>26.0</td>\n",
       "      <td>80.0</td>\n",
       "    </tr>\n",
       "    <tr>\n",
       "      <th>574943</th>\n",
       "      <td>SEQ_065531_000051</td>\n",
       "      <td>Non-Target</td>\n",
       "      <td>SEQ_065531</td>\n",
       "      <td>51</td>\n",
       "      <td>SUBJ_039498</td>\n",
       "      <td>Seated Lean Non Dom - FACE DOWN</td>\n",
       "      <td>Performs gesture</td>\n",
       "      <td>Gesture</td>\n",
       "      <td>Write name on leg</td>\n",
       "      <td>3.964844</td>\n",
       "      <td>...</td>\n",
       "      <td>75.609375</td>\n",
       "      <td>27.347044</td>\n",
       "      <td>68.0</td>\n",
       "      <td>48.0</td>\n",
       "      <td>162.0</td>\n",
       "      <td>54.937500</td>\n",
       "      <td>10.818671</td>\n",
       "      <td>54.5</td>\n",
       "      <td>25.0</td>\n",
       "      <td>77.0</td>\n",
       "    </tr>\n",
       "    <tr>\n",
       "      <th>574944</th>\n",
       "      <td>SEQ_065531_000052</td>\n",
       "      <td>Non-Target</td>\n",
       "      <td>SEQ_065531</td>\n",
       "      <td>52</td>\n",
       "      <td>SUBJ_039498</td>\n",
       "      <td>Seated Lean Non Dom - FACE DOWN</td>\n",
       "      <td>Performs gesture</td>\n",
       "      <td>Gesture</td>\n",
       "      <td>Write name on leg</td>\n",
       "      <td>4.269531</td>\n",
       "      <td>...</td>\n",
       "      <td>75.890625</td>\n",
       "      <td>27.771240</td>\n",
       "      <td>68.0</td>\n",
       "      <td>46.0</td>\n",
       "      <td>162.0</td>\n",
       "      <td>55.281250</td>\n",
       "      <td>11.161824</td>\n",
       "      <td>56.0</td>\n",
       "      <td>24.0</td>\n",
       "      <td>77.0</td>\n",
       "    </tr>\n",
       "  </tbody>\n",
       "</table>\n",
       "<p>574945 rows × 80 columns</p>\n",
       "</div>"
      ],
      "text/plain": [
       "                   row_id sequence_type sequence_id  sequence_counter  \\\n",
       "0       SEQ_000007_000000        Target  SEQ_000007                 0   \n",
       "1       SEQ_000007_000001        Target  SEQ_000007                 1   \n",
       "2       SEQ_000007_000002        Target  SEQ_000007                 2   \n",
       "3       SEQ_000007_000003        Target  SEQ_000007                 3   \n",
       "4       SEQ_000007_000004        Target  SEQ_000007                 4   \n",
       "...                   ...           ...         ...               ...   \n",
       "574940  SEQ_065531_000048    Non-Target  SEQ_065531                48   \n",
       "574941  SEQ_065531_000049    Non-Target  SEQ_065531                49   \n",
       "574942  SEQ_065531_000050    Non-Target  SEQ_065531                50   \n",
       "574943  SEQ_065531_000051    Non-Target  SEQ_065531                51   \n",
       "574944  SEQ_065531_000052    Non-Target  SEQ_065531                52   \n",
       "\n",
       "            subject                      orientation  \\\n",
       "0       SUBJ_059520  Seated Lean Non Dom - FACE DOWN   \n",
       "1       SUBJ_059520  Seated Lean Non Dom - FACE DOWN   \n",
       "2       SUBJ_059520  Seated Lean Non Dom - FACE DOWN   \n",
       "3       SUBJ_059520  Seated Lean Non Dom - FACE DOWN   \n",
       "4       SUBJ_059520  Seated Lean Non Dom - FACE DOWN   \n",
       "...             ...                              ...   \n",
       "574940  SUBJ_039498  Seated Lean Non Dom - FACE DOWN   \n",
       "574941  SUBJ_039498  Seated Lean Non Dom - FACE DOWN   \n",
       "574942  SUBJ_039498  Seated Lean Non Dom - FACE DOWN   \n",
       "574943  SUBJ_039498  Seated Lean Non Dom - FACE DOWN   \n",
       "574944  SUBJ_039498  Seated Lean Non Dom - FACE DOWN   \n",
       "\n",
       "                                         behavior       phase  \\\n",
       "0       Relaxes and moves hand to target location  Transition   \n",
       "1       Relaxes and moves hand to target location  Transition   \n",
       "2       Relaxes and moves hand to target location  Transition   \n",
       "3       Relaxes and moves hand to target location  Transition   \n",
       "4       Relaxes and moves hand to target location  Transition   \n",
       "...                                           ...         ...   \n",
       "574940                           Performs gesture     Gesture   \n",
       "574941                           Performs gesture     Gesture   \n",
       "574942                           Performs gesture     Gesture   \n",
       "574943                           Performs gesture     Gesture   \n",
       "574944                           Performs gesture     Gesture   \n",
       "\n",
       "                   gesture     acc_x  ...  tof_4_mean  tof_4_std  \\\n",
       "0       Cheek - pinch skin  6.683594  ...  123.359375  41.862347   \n",
       "1       Cheek - pinch skin  6.949219  ...  124.406250  40.487785   \n",
       "2       Cheek - pinch skin  5.722656  ...  125.687500  36.980423   \n",
       "3       Cheek - pinch skin  6.601562  ...  149.078125  29.778711   \n",
       "4       Cheek - pinch skin  5.566406  ...  163.765625  29.487551   \n",
       "...                    ...       ...  ...         ...        ...   \n",
       "574940   Write name on leg  3.503906  ...   74.062500  28.283079   \n",
       "574941   Write name on leg  3.773438  ...   70.406250  29.312611   \n",
       "574942   Write name on leg  3.082031  ...   70.109375  29.322031   \n",
       "574943   Write name on leg  3.964844  ...   75.609375  27.347044   \n",
       "574944   Write name on leg  4.269531  ...   75.890625  27.771240   \n",
       "\n",
       "        tof_4_median  tof_4_min  tof_4_max  tof_5_mean  tof_5_std  \\\n",
       "0              134.0       51.0      206.0  135.343750  32.397930   \n",
       "1              135.5       60.0      206.0  137.000000  32.489803   \n",
       "2              131.5       71.0      206.0  140.234375  34.100105   \n",
       "3              147.0      100.0      210.0  142.609375  35.809734   \n",
       "4              157.5      116.0      229.0  151.265625  38.821220   \n",
       "...              ...        ...        ...         ...        ...   \n",
       "574940          66.5       39.0      162.0   52.843750   9.838730   \n",
       "574941          61.5       38.0      162.0   54.531250  10.579958   \n",
       "574942          63.0       41.0      162.0   57.468750  11.371042   \n",
       "574943          68.0       48.0      162.0   54.937500  10.818671   \n",
       "574944          68.0       46.0      162.0   55.281250  11.161824   \n",
       "\n",
       "        tof_5_median  tof_5_min  tof_5_max  \n",
       "0              128.5       88.0      226.0  \n",
       "1              129.5       88.0      226.0  \n",
       "2              136.0       88.0      226.0  \n",
       "3              137.5       88.0      226.0  \n",
       "4              142.5       88.0      226.0  \n",
       "...              ...        ...        ...  \n",
       "574940          52.0       27.0       73.0  \n",
       "574941          54.5       29.0       73.0  \n",
       "574942          57.5       26.0       80.0  \n",
       "574943          54.5       25.0       77.0  \n",
       "574944          56.0       24.0       77.0  \n",
       "\n",
       "[574945 rows x 80 columns]"
      ]
     },
     "execution_count": 14,
     "metadata": {},
     "output_type": "execute_result"
    }
   ],
   "source": [
    "def agg_tof_cols_per_sensor(df:DF) -> DF:\n",
    "    for tof_idx in tqdm(range(1, 6)):\n",
    "        tof_name = f\"tof_{tof_idx}\"\n",
    "        tof_cols = [f\"{tof_name}_v{v_idx}\" for v_idx in range(64)]\n",
    "        if any(map(lambda col: col not in df.columns, tof_cols)):\n",
    "            print(f\"Some (or) all ToF {tof_idx} columns are not in the df. Maybe you already ran this cell?\")\n",
    "            continue\n",
    "        df = pd.concat(\n",
    "            (\n",
    "                df.drop(columns=tof_cols),\n",
    "                # For some reasons, it's faster to call all the aggregation functions seperatly than agg(list of functions)\n",
    "                df[tof_cols].mean(axis=\"columns\").to_frame(tof_name + \"_mean\"),\n",
    "                df[tof_cols].std(axis=\"columns\").to_frame(tof_name + \"_std\"),\n",
    "                df[tof_cols].median(axis=\"columns\").to_frame(tof_name + \"_median\"),\n",
    "                df[tof_cols].min(axis=\"columns\").to_frame(tof_name + \"_min\"),\n",
    "                df[tof_cols].max(axis=\"columns\").to_frame(tof_name + \"_max\"),\n",
    "            ),\n",
    "            axis=\"columns\",\n",
    "        )\n",
    "    return df\n",
    "\n",
    "df = agg_tof_cols_per_sensor(df)\n",
    "df"
   ]
  },
  {
   "cell_type": "code",
   "execution_count": 15,
   "id": "37d79a8d",
   "metadata": {},
   "outputs": [
    {
     "data": {
      "text/plain": [
       "{'row_id': CategoricalDtype(categories=['SEQ_000007_000000', 'SEQ_000007_000001',\n",
       "                   'SEQ_000007_000002', 'SEQ_000007_000003',\n",
       "                   'SEQ_000007_000004', 'SEQ_000007_000005',\n",
       "                   'SEQ_000007_000006', 'SEQ_000007_000007',\n",
       "                   'SEQ_000007_000008', 'SEQ_000007_000009',\n",
       "                   ...\n",
       "                   'SEQ_065531_000043', 'SEQ_065531_000044',\n",
       "                   'SEQ_065531_000045', 'SEQ_065531_000046',\n",
       "                   'SEQ_065531_000047', 'SEQ_065531_000048',\n",
       "                   'SEQ_065531_000049', 'SEQ_065531_000050',\n",
       "                   'SEQ_065531_000051', 'SEQ_065531_000052'],\n",
       " , ordered=False, categories_dtype=object),\n",
       " 'sequence_type': CategoricalDtype(categories=['Non-Target', 'Target'], ordered=False, categories_dtype=object),\n",
       " 'sequence_id': CategoricalDtype(categories=['SEQ_000007', 'SEQ_000008', 'SEQ_000013', 'SEQ_000016',\n",
       "                   'SEQ_000018', 'SEQ_000022', 'SEQ_000033', 'SEQ_000034',\n",
       "                   'SEQ_000046', 'SEQ_000053',\n",
       "                   ...\n",
       "                   'SEQ_065452', 'SEQ_065470', 'SEQ_065471', 'SEQ_065478',\n",
       "                   'SEQ_065487', 'SEQ_065508', 'SEQ_065519', 'SEQ_065522',\n",
       "                   'SEQ_065526', 'SEQ_065531'],\n",
       " , ordered=False, categories_dtype=object),\n",
       " 'sequence_counter': dtype('int32'),\n",
       " 'subject': CategoricalDtype(categories=['SUBJ_001430', 'SUBJ_012088', 'SUBJ_013623', 'SUBJ_020948',\n",
       "                   'SUBJ_024086', 'SUBJ_024137', 'SUBJ_030676', 'SUBJ_032165',\n",
       "                   'SUBJ_032233', 'SUBJ_032585', 'SUBJ_038023', 'SUBJ_040282',\n",
       "                   'SUBJ_040310', 'SUBJ_040733', 'SUBJ_044680', 'SUBJ_047636',\n",
       "                   'SUBJ_052342', 'SUBJ_053173', 'SUBJ_055211', 'SUBJ_059330',\n",
       "                   'SUBJ_059520', 'SUBJ_063346', 'SUBJ_063464', 'SUBJ_000206',\n",
       "                   'SUBJ_011323', 'SUBJ_017170', 'SUBJ_019262', 'SUBJ_019663',\n",
       "                   'SUBJ_027682', 'SUBJ_032704', 'SUBJ_032761', 'SUBJ_040106',\n",
       "                   'SUBJ_040724', 'SUBJ_041243', 'SUBJ_041770', 'SUBJ_049223',\n",
       "                   'SUBJ_053906', 'SUBJ_057917', 'SUBJ_058786', 'SUBJ_061552',\n",
       "                   'SUBJ_008304', 'SUBJ_017807', 'SUBJ_019297', 'SUBJ_021670',\n",
       "                   'SUBJ_024825', 'SUBJ_034574', 'SUBJ_034631', 'SUBJ_039234',\n",
       "                   'SUBJ_042779', 'SUBJ_045235', 'SUBJ_050642', 'SUBJ_054811',\n",
       "                   'SUBJ_056936', 'SUBJ_064387', 'SUBJ_003328', 'SUBJ_004117',\n",
       "                   'SUBJ_008728', 'SUBJ_017499', 'SUBJ_027671', 'SUBJ_035353',\n",
       "                   'SUBJ_042794', 'SUBJ_019756', 'SUBJ_026824', 'SUBJ_036450',\n",
       "                   'SUBJ_051942', 'SUBJ_063319', 'SUBJ_063447', 'SUBJ_002923',\n",
       "                   'SUBJ_026460', 'SUBJ_028998', 'SUBJ_038277', 'SUBJ_058967',\n",
       "                   'SUBJ_059960', 'SUBJ_039498', 'SUBJ_043192', 'SUBJ_053217',\n",
       "                   'SUBJ_016552', 'SUBJ_042254', 'SUBJ_036405', 'SUBJ_038709',\n",
       "                   'SUBJ_023739'],\n",
       " , ordered=False, categories_dtype=object),\n",
       " 'orientation': CategoricalDtype(categories=['Lie on Back', 'Lie on Side - Non Dominant',\n",
       "                   'Seated Lean Non Dom - FACE DOWN', 'Seated Straight'],\n",
       " , ordered=False, categories_dtype=object),\n",
       " 'behavior': CategoricalDtype(categories=['Hand at target location', 'Moves hand to target location',\n",
       "                   'Performs gesture',\n",
       "                   'Relaxes and moves hand to target location'],\n",
       " , ordered=False, categories_dtype=object),\n",
       " 'phase': CategoricalDtype(categories=['Gesture', 'Transition'], ordered=False, categories_dtype=object),\n",
       " 'gesture': CategoricalDtype(categories=['Above ear - pull hair', 'Cheek - pinch skin',\n",
       "                   'Eyebrow - pull hair', 'Eyelash - pull hair',\n",
       "                   'Feel around in tray and pull out an object',\n",
       "                   'Forehead - pull hairline', 'Forehead - scratch',\n",
       "                   'Neck - pinch skin', 'Neck - scratch', 'Text on phone',\n",
       "                   'Wave hello', 'Write name in air', 'Write name on leg',\n",
       "                   'Drink from bottle/cup', 'Pinch knee/leg skin',\n",
       "                   'Pull air toward your face', 'Scratch knee/leg skin',\n",
       "                   'Glasses on/off'],\n",
       " , ordered=False, categories_dtype=object),\n",
       " 'acc_x': dtype('float32'),\n",
       " 'acc_y': dtype('float32'),\n",
       " 'acc_z': dtype('float32'),\n",
       " 'rot_w': dtype('float32'),\n",
       " 'rot_x': dtype('float32'),\n",
       " 'rot_y': dtype('float32'),\n",
       " 'rot_z': dtype('float32'),\n",
       " 'thm_1': dtype('float32'),\n",
       " 'thm_2': dtype('float32'),\n",
       " 'thm_3': dtype('float32'),\n",
       " 'thm_4': dtype('float32'),\n",
       " 'thm_5': dtype('float32'),\n",
       " 'gravity_free_acc_x': dtype('float32'),\n",
       " 'gravity_free_acc_y': dtype('float32'),\n",
       " 'gravity_free_acc_z': dtype('float32'),\n",
       " 'raw_acc_mag': dtype('float32'),\n",
       " 'linear_acc_mag': dtype('float32'),\n",
       " 'quat_rot_mag': dtype('float32'),\n",
       " 'angular_vel_x': dtype('float64'),\n",
       " 'angular_vel_y': dtype('float64'),\n",
       " 'angular_vel_z': dtype('float64'),\n",
       " 'rotation_axis_x': dtype('float64'),\n",
       " 'rotation_axis_y': dtype('float64'),\n",
       " 'rotation_axis_z': dtype('float64'),\n",
       " 'delta_rot_mag': dtype('float64'),\n",
       " 'euler_x': dtype('float64'),\n",
       " 'euler_y': dtype('float64'),\n",
       " 'euler_z': dtype('float64'),\n",
       " 'Above ear - pull hair': dtype('bool'),\n",
       " 'Cheek - pinch skin': dtype('bool'),\n",
       " 'Drink from bottle/cup': dtype('bool'),\n",
       " 'Eyebrow - pull hair': dtype('bool'),\n",
       " 'Eyelash - pull hair': dtype('bool'),\n",
       " 'Feel around in tray and pull out an object': dtype('bool'),\n",
       " 'Forehead - pull hairline': dtype('bool'),\n",
       " 'Forehead - scratch': dtype('bool'),\n",
       " 'Glasses on/off': dtype('bool'),\n",
       " 'Neck - pinch skin': dtype('bool'),\n",
       " 'Neck - scratch': dtype('bool'),\n",
       " 'Pinch knee/leg skin': dtype('bool'),\n",
       " 'Pull air toward your face': dtype('bool'),\n",
       " 'Scratch knee/leg skin': dtype('bool'),\n",
       " 'Text on phone': dtype('bool'),\n",
       " 'Wave hello': dtype('bool'),\n",
       " 'Write name in air': dtype('bool'),\n",
       " 'Write name on leg': dtype('bool'),\n",
       " 'tof_1_mean': dtype('float32'),\n",
       " 'tof_1_std': dtype('float32'),\n",
       " 'tof_1_median': dtype('float32'),\n",
       " 'tof_1_min': dtype('float32'),\n",
       " 'tof_1_max': dtype('float32'),\n",
       " 'tof_2_mean': dtype('float32'),\n",
       " 'tof_2_std': dtype('float32'),\n",
       " 'tof_2_median': dtype('float32'),\n",
       " 'tof_2_min': dtype('float32'),\n",
       " 'tof_2_max': dtype('float32'),\n",
       " 'tof_3_mean': dtype('float32'),\n",
       " 'tof_3_std': dtype('float32'),\n",
       " 'tof_3_median': dtype('float32'),\n",
       " 'tof_3_min': dtype('float32'),\n",
       " 'tof_3_max': dtype('float32'),\n",
       " 'tof_4_mean': dtype('float32'),\n",
       " 'tof_4_std': dtype('float32'),\n",
       " 'tof_4_median': dtype('float32'),\n",
       " 'tof_4_min': dtype('float32'),\n",
       " 'tof_4_max': dtype('float32'),\n",
       " 'tof_5_mean': dtype('float32'),\n",
       " 'tof_5_std': dtype('float32'),\n",
       " 'tof_5_median': dtype('float32'),\n",
       " 'tof_5_min': dtype('float32'),\n",
       " 'tof_5_max': dtype('float32')}"
      ]
     },
     "execution_count": 15,
     "metadata": {},
     "output_type": "execute_result"
    }
   ],
   "source": [
    "df.dtypes.to_dict()"
   ]
  },
  {
   "cell_type": "code",
   "execution_count": 16,
   "id": "a1b344b1",
   "metadata": {},
   "outputs": [
    {
     "data": {
      "text/plain": [
       "{'acc_x': 0,\n",
       " 'acc_y': 0,\n",
       " 'acc_z': 0,\n",
       " 'angular_vel_x': 0,\n",
       " 'angular_vel_y': 0,\n",
       " 'angular_vel_z': 0,\n",
       " 'delta_rot_mag': 0,\n",
       " 'euler_x': 0,\n",
       " 'euler_y': 0,\n",
       " 'euler_z': 0,\n",
       " 'gravity_free_acc_x': 0,\n",
       " 'gravity_free_acc_y': 0,\n",
       " 'gravity_free_acc_z': 0,\n",
       " 'linear_acc_mag': 0,\n",
       " 'quat_rot_mag': 0,\n",
       " 'raw_acc_mag': 0,\n",
       " 'rot_w': 1.0,\n",
       " 'rot_x': 0,\n",
       " 'rot_y': 0,\n",
       " 'rot_z': 0,\n",
       " 'rotation_axis_x': 0,\n",
       " 'rotation_axis_y': 0,\n",
       " 'rotation_axis_z': 0,\n",
       " 'thm_1': 0,\n",
       " 'thm_2': 0,\n",
       " 'thm_3': 0,\n",
       " 'thm_4': 0,\n",
       " 'thm_5': 0,\n",
       " 'tof_1_max': 0,\n",
       " 'tof_1_mean': 0,\n",
       " 'tof_1_median': 0,\n",
       " 'tof_1_min': 0,\n",
       " 'tof_1_std': 0,\n",
       " 'tof_2_max': 0,\n",
       " 'tof_2_mean': 0,\n",
       " 'tof_2_median': 0,\n",
       " 'tof_2_min': 0,\n",
       " 'tof_2_std': 0,\n",
       " 'tof_3_max': 0,\n",
       " 'tof_3_mean': 0,\n",
       " 'tof_3_median': 0,\n",
       " 'tof_3_min': 0,\n",
       " 'tof_3_std': 0,\n",
       " 'tof_4_max': 0,\n",
       " 'tof_4_mean': 0,\n",
       " 'tof_4_median': 0,\n",
       " 'tof_4_min': 0,\n",
       " 'tof_4_std': 0,\n",
       " 'tof_5_max': 0,\n",
       " 'tof_5_mean': 0,\n",
       " 'tof_5_median': 0,\n",
       " 'tof_5_min': 0,\n",
       " 'tof_5_std': 0}"
      ]
     },
     "execution_count": 16,
     "metadata": {},
     "output_type": "execute_result"
    }
   ],
   "source": [
    "get_fillna_val_per_feature_col(df)"
   ]
  },
  {
   "cell_type": "markdown",
   "id": "daaafef8",
   "metadata": {},
   "source": [
    "### Add derivatives w.r.t time features"
   ]
  },
  {
   "cell_type": "code",
   "execution_count": null,
   "id": "8bd05775",
   "metadata": {},
   "outputs": [],
   "source": [
    "def add_diff_features(df:DF) -> DF:\n",
    "    return pd.concat(\n",
    "        (\n",
    "            df,\n",
    "            df\n",
    "            .groupby(\"sequence_id\", as_index=False, observed=True)\n",
    "            [get_feature_cols(df)]\n",
    "            .diff()\n",
    "            .fillna(get_fillna_val_per_feature_col(df))\n",
    "            .add_prefix(\"diff_\")\n",
    "        ),\n",
    "        axis=\"columns\",\n",
    "    )\n",
    "\n",
    "df = add_diff_features(df)"
   ]
  },
  {
   "cell_type": "code",
   "execution_count": 18,
   "id": "343e0255",
   "metadata": {},
   "outputs": [
    {
     "data": {
      "text/plain": [
       "106"
      ]
     },
     "execution_count": 18,
     "metadata": {},
     "output_type": "execute_result"
    }
   ],
   "source": [
    "len(get_feature_cols(df))"
   ]
  },
  {
   "cell_type": "markdown",
   "id": "05e480d3",
   "metadata": {},
   "source": [
    "### Split into folds"
   ]
  },
  {
   "cell_type": "code",
   "execution_count": 19,
   "id": "6a97fd1c",
   "metadata": {},
   "outputs": [
    {
     "data": {
      "text/plain": [
       "['Cheek - pinch skin',\n",
       " 'Forehead - pull hairline',\n",
       " 'Write name on leg',\n",
       " 'Feel around in tray and pull out an object',\n",
       " 'Neck - scratch',\n",
       " 'Neck - pinch skin',\n",
       " 'Eyelash - pull hair',\n",
       " 'Eyebrow - pull hair',\n",
       " 'Forehead - scratch',\n",
       " 'Above ear - pull hair',\n",
       " 'Wave hello',\n",
       " 'Write name in air',\n",
       " 'Text on phone',\n",
       " 'Pull air toward your face',\n",
       " 'Pinch knee/leg skin',\n",
       " 'Scratch knee/leg skin',\n",
       " 'Drink from bottle/cup',\n",
       " 'Glasses on/off']"
      ]
     },
     "execution_count": 19,
     "metadata": {},
     "output_type": "execute_result"
    }
   ],
   "source": [
    "df[\"gesture\"].unique().tolist()"
   ]
  },
  {
   "cell_type": "code",
   "execution_count": 20,
   "id": "4bae51e8",
   "metadata": {},
   "outputs": [],
   "source": [
    "def split_dataset_stratified_groupkfold(df: pd.DataFrame, target_col: str, group_col: str) -> list[tuple[pd.DataFrame, pd.DataFrame]]:\n",
    "    sgkf = StratifiedGroupKFold(n_splits=N_FOLDS, shuffle=True)\n",
    "\n",
    "    folds = []\n",
    "    X = df.drop(columns=[target_col])\n",
    "    y = df[target_col]\n",
    "    groups = df[group_col]\n",
    "\n",
    "    for train_idx, valid_idx in sgkf.split(X, y, groups):\n",
    "        train_df = df.iloc[train_idx].copy()\n",
    "        valid_df = df.iloc[valid_idx].copy()\n",
    "        folds.append((train_df, valid_df))\n",
    "\n",
    "    return folds\n",
    "\n",
    "# Example usage:\n",
    "folds = split_dataset_stratified_groupkfold(df, target_col=\"gesture\", group_col=\"subject\")"
   ]
  },
  {
   "cell_type": "markdown",
   "id": "d81b9c0d",
   "metadata": {},
   "source": [
    "### Std norm\n",
    "Standard scale the feature cols (should probably do something different for IMU cols).  \n",
    "<!-- *Deprecated, std norm is now performed at dataset creation to avoid target leakage.*   -->"
   ]
  },
  {
   "cell_type": "code",
   "execution_count": 23,
   "id": "c9d5755e",
   "metadata": {},
   "outputs": [],
   "source": [
    "def std_norm_dataset(train:DF, val:DF) -> tuple[DF, DF]:\n",
    "    means = train[get_feature_cols(df)].mean().astype(\"float32\")\n",
    "    stds = train[get_feature_cols(df)].std().astype(\"float32\")\n",
    "    test = train[get_feature_cols(df)] - means\n",
    "    train.loc[:, get_feature_cols(df)] = (train[get_feature_cols(df)] - means) / stds\n",
    "    val.loc[:, get_feature_cols(df)] = (val[get_feature_cols(df)] - means) / stds\n",
    "    return train, val\n",
    "\n",
    "folds = list(starmap(std_norm_dataset, folds))"
   ]
  },
  {
   "cell_type": "markdown",
   "id": "b36ccf25",
   "metadata": {},
   "source": [
    "Normalize full dataset."
   ]
  },
  {
   "cell_type": "code",
   "execution_count": 24,
   "id": "9b2c7cac",
   "metadata": {},
   "outputs": [
    {
     "name": "stderr",
     "output_type": "stream",
     "text": [
      "/tmp/ipykernel_36489/629001182.py:6: FutureWarning: Setting an item of incompatible dtype is deprecated and will raise in a future error of pandas. Value '[0.87240755 0.91835342 0.70619159 ... 0.24943555 0.40213801 0.45484063]' has dtype incompatible with float32, please explicitly cast to a compatible dtype first.\n",
      "  df.loc[:, get_feature_cols(df)] = (df[get_feature_cols(df)] - full_dataset_meta_data[\"mean\"]) / full_dataset_meta_data['std']\n",
      "/tmp/ipykernel_36489/629001182.py:6: FutureWarning: Setting an item of incompatible dtype is deprecated and will raise in a future error of pandas. Value '[ 0.8841304   0.8841304   0.72331979 ... -0.31414283 -0.42967666\n",
      " -0.54442986]' has dtype incompatible with float32, please explicitly cast to a compatible dtype first.\n",
      "  df.loc[:, get_feature_cols(df)] = (df[get_feature_cols(df)] - full_dataset_meta_data[\"mean\"]) / full_dataset_meta_data['std']\n",
      "/tmp/ipykernel_36489/629001182.py:6: FutureWarning: Setting an item of incompatible dtype is deprecated and will raise in a future error of pandas. Value '[ 0.62581574  0.58801223  0.96476591 ... -1.13877547 -1.41493335\n",
      " -1.50399587]' has dtype incompatible with float32, please explicitly cast to a compatible dtype first.\n",
      "  df.loc[:, get_feature_cols(df)] = (df[get_feature_cols(df)] - full_dataset_meta_data[\"mean\"]) / full_dataset_meta_data['std']\n",
      "/tmp/ipykernel_36489/629001182.py:6: FutureWarning: Setting an item of incompatible dtype is deprecated and will raise in a future error of pandas. Value '[ 0.01572427  0.1392336  -0.55459825 ... -0.30576327  0.42621117\n",
      "  0.15739674]' has dtype incompatible with float32, please explicitly cast to a compatible dtype first.\n",
      "  df.loc[:, get_feature_cols(df)] = (df[get_feature_cols(df)] - full_dataset_meta_data[\"mean\"]) / full_dataset_meta_data['std']\n",
      "/tmp/ipykernel_36489/629001182.py:6: FutureWarning: Setting an item of incompatible dtype is deprecated and will raise in a future error of pandas. Value '[-0.02738712 -0.02738712 -0.5493409  ...  0.54524178 -0.40238304\n",
      " -0.39984929]' has dtype incompatible with float32, please explicitly cast to a compatible dtype first.\n",
      "  df.loc[:, get_feature_cols(df)] = (df[get_feature_cols(df)] - full_dataset_meta_data[\"mean\"]) / full_dataset_meta_data['std']\n",
      "/tmp/ipykernel_36489/629001182.py:6: FutureWarning: Setting an item of incompatible dtype is deprecated and will raise in a future error of pandas. Value '[ 0.03674901 -0.07591682  1.15958809 ...  0.91897971 -0.7862844\n",
      " -0.22868404]' has dtype incompatible with float32, please explicitly cast to a compatible dtype first.\n",
      "  df.loc[:, get_feature_cols(df)] = (df[get_feature_cols(df)] - full_dataset_meta_data[\"mean\"]) / full_dataset_meta_data['std']\n",
      "/tmp/ipykernel_36489/629001182.py:6: FutureWarning: Setting an item of incompatible dtype is deprecated and will raise in a future error of pandas. Value '[ 0.02240027  0.08149078 -0.64247229 ... -0.22010894  0.44716577\n",
      "  0.08138549]' has dtype incompatible with float32, please explicitly cast to a compatible dtype first.\n",
      "  df.loc[:, get_feature_cols(df)] = (df[get_feature_cols(df)] - full_dataset_meta_data[\"mean\"]) / full_dataset_meta_data['std']\n",
      "/tmp/ipykernel_36489/629001182.py:6: FutureWarning: Setting an item of incompatible dtype is deprecated and will raise in a future error of pandas. Value '[-0.00613154  0.23422414  0.83012786 ...  0.47922494 -0.21249931\n",
      " -0.35337284]' has dtype incompatible with float32, please explicitly cast to a compatible dtype first.\n",
      "  df.loc[:, get_feature_cols(df)] = (df[get_feature_cols(df)] - full_dataset_meta_data[\"mean\"]) / full_dataset_meta_data['std']\n",
      "/tmp/ipykernel_36489/629001182.py:6: FutureWarning: Setting an item of incompatible dtype is deprecated and will raise in a future error of pandas. Value '[ 0.04006234 -0.12651099  0.92428862 ...  0.8108205  -0.64466333\n",
      " -0.18416491]' has dtype incompatible with float32, please explicitly cast to a compatible dtype first.\n",
      "  df.loc[:, get_feature_cols(df)] = (df[get_feature_cols(df)] - full_dataset_meta_data[\"mean\"]) / full_dataset_meta_data['std']\n",
      "/tmp/ipykernel_36489/629001182.py:6: FutureWarning: Setting an item of incompatible dtype is deprecated and will raise in a future error of pandas. Value '[-0.00320503  0.19727278 -0.64263975 ... -0.78946567  0.73623429\n",
      "  0.35169141]' has dtype incompatible with float32, please explicitly cast to a compatible dtype first.\n",
      "  df.loc[:, get_feature_cols(df)] = (df[get_feature_cols(df)] - full_dataset_meta_data[\"mean\"]) / full_dataset_meta_data['std']\n",
      "/tmp/ipykernel_36489/629001182.py:6: FutureWarning: Setting an item of incompatible dtype is deprecated and will raise in a future error of pandas. Value '[-0.03159904 -0.17589176 -1.23917494 ... -0.07213197 -0.10014539\n",
      "  0.04852841]' has dtype incompatible with float32, please explicitly cast to a compatible dtype first.\n",
      "  df.loc[:, get_feature_cols(df)] = (df[get_feature_cols(df)] - full_dataset_meta_data[\"mean\"]) / full_dataset_meta_data['std']\n",
      "/tmp/ipykernel_36489/629001182.py:6: FutureWarning: Setting an item of incompatible dtype is deprecated and will raise in a future error of pandas. Value '[-4.88242545e-04  6.23642035e-02 -1.57360689e-01 ... -1.12766161e+00\n",
      "  1.09631204e+00  3.77607668e-01]' has dtype incompatible with float32, please explicitly cast to a compatible dtype first.\n",
      "  df.loc[:, get_feature_cols(df)] = (df[get_feature_cols(df)] - full_dataset_meta_data[\"mean\"]) / full_dataset_meta_data['std']\n",
      "/tmp/ipykernel_36489/629001182.py:6: FutureWarning: Setting an item of incompatible dtype is deprecated and will raise in a future error of pandas. Value '[ 7.50633129 -0.02594692  0.47929798 ... -0.0755899  -0.06213526\n",
      " -0.13358403]' has dtype incompatible with float32, please explicitly cast to a compatible dtype first.\n",
      "  df.loc[:, get_feature_cols(df)] = (df[get_feature_cols(df)] - full_dataset_meta_data[\"mean\"]) / full_dataset_meta_data['std']\n",
      "/tmp/ipykernel_36489/629001182.py:6: FutureWarning: Setting an item of incompatible dtype is deprecated and will raise in a future error of pandas. Value '[-6.84343826e-03  8.32207893e-02  3.92539735e-01 ...  1.69759788e-04\n",
      " -2.19771814e-02 -1.57022147e-02]' has dtype incompatible with float32, please explicitly cast to a compatible dtype first.\n",
      "  df.loc[:, get_feature_cols(df)] = (df[get_feature_cols(df)] - full_dataset_meta_data[\"mean\"]) / full_dataset_meta_data['std']\n",
      "/tmp/ipykernel_36489/629001182.py:6: FutureWarning: Setting an item of incompatible dtype is deprecated and will raise in a future error of pandas. Value '[-0.00335756  0.08485169  0.33535445 ... -0.00739328  0.04651238\n",
      " -0.00854634]' has dtype incompatible with float32, please explicitly cast to a compatible dtype first.\n",
      "  df.loc[:, get_feature_cols(df)] = (df[get_feature_cols(df)] - full_dataset_meta_data[\"mean\"]) / full_dataset_meta_data['std']\n",
      "/tmp/ipykernel_36489/629001182.py:6: FutureWarning: Setting an item of incompatible dtype is deprecated and will raise in a future error of pandas. Value '[-0.01705041 -0.10548788 -0.26335974 ... -0.02874462 -0.09087012\n",
      "  0.02241756]' has dtype incompatible with float32, please explicitly cast to a compatible dtype first.\n",
      "  df.loc[:, get_feature_cols(df)] = (df[get_feature_cols(df)] - full_dataset_meta_data[\"mean\"]) / full_dataset_meta_data['std']\n",
      "/tmp/ipykernel_36489/629001182.py:6: FutureWarning: Setting an item of incompatible dtype is deprecated and will raise in a future error of pandas. Value '[-0.03145684  0.70814271  1.82891878 ...  0.13388335  0.58403452\n",
      " -0.20425951]' has dtype incompatible with float32, please explicitly cast to a compatible dtype first.\n",
      "  df.loc[:, get_feature_cols(df)] = (df[get_feature_cols(df)] - full_dataset_meta_data[\"mean\"]) / full_dataset_meta_data['std']\n",
      "/tmp/ipykernel_36489/629001182.py:6: FutureWarning: Setting an item of incompatible dtype is deprecated and will raise in a future error of pandas. Value '[-0.0319008   0.04736528 -1.45162639 ... -0.09369052  0.53307172\n",
      " -0.10002224]' has dtype incompatible with float32, please explicitly cast to a compatible dtype first.\n",
      "  df.loc[:, get_feature_cols(df)] = (df[get_feature_cols(df)] - full_dataset_meta_data[\"mean\"]) / full_dataset_meta_data['std']\n",
      "/tmp/ipykernel_36489/629001182.py:6: FutureWarning: Setting an item of incompatible dtype is deprecated and will raise in a future error of pandas. Value '[-0.03644695  0.38358315  0.48837588 ... -0.16457767  0.23375219\n",
      " -0.17851536]' has dtype incompatible with float32, please explicitly cast to a compatible dtype first.\n",
      "  df.loc[:, get_feature_cols(df)] = (df[get_feature_cols(df)] - full_dataset_meta_data[\"mean\"]) / full_dataset_meta_data['std']\n",
      "/tmp/ipykernel_36489/629001182.py:6: FutureWarning: Setting an item of incompatible dtype is deprecated and will raise in a future error of pandas. Value '[-0.02283643  0.13162536  0.26782646 ... -0.19167784  0.10380611\n",
      "  0.03596458]' has dtype incompatible with float32, please explicitly cast to a compatible dtype first.\n",
      "  df.loc[:, get_feature_cols(df)] = (df[get_feature_cols(df)] - full_dataset_meta_data[\"mean\"]) / full_dataset_meta_data['std']\n",
      "/tmp/ipykernel_36489/629001182.py:6: FutureWarning: Setting an item of incompatible dtype is deprecated and will raise in a future error of pandas. Value '[-0.01178917  0.17864219  0.23433485 ... -0.01178917 -0.76100807\n",
      " -0.02745178]' has dtype incompatible with float32, please explicitly cast to a compatible dtype first.\n",
      "  df.loc[:, get_feature_cols(df)] = (df[get_feature_cols(df)] - full_dataset_meta_data[\"mean\"]) / full_dataset_meta_data['std']\n",
      "/tmp/ipykernel_36489/629001182.py:6: FutureWarning: Setting an item of incompatible dtype is deprecated and will raise in a future error of pandas. Value '[0.01995072 0.01995072 0.01995072 ... 0.9579162  0.01995072 0.01995072]' has dtype incompatible with float32, please explicitly cast to a compatible dtype first.\n",
      "  df.loc[:, get_feature_cols(df)] = (df[get_feature_cols(df)] - full_dataset_meta_data[\"mean\"]) / full_dataset_meta_data['std']\n",
      "/tmp/ipykernel_36489/629001182.py:6: FutureWarning: Setting an item of incompatible dtype is deprecated and will raise in a future error of pandas. Value '[ 0.02252186  0.08910353  0.33640687 ... -0.41121014  0.08910353\n",
      "  0.23177853]' has dtype incompatible with float32, please explicitly cast to a compatible dtype first.\n",
      "  df.loc[:, get_feature_cols(df)] = (df[get_feature_cols(df)] - full_dataset_meta_data[\"mean\"]) / full_dataset_meta_data['std']\n",
      "/tmp/ipykernel_36489/629001182.py:6: FutureWarning: Setting an item of incompatible dtype is deprecated and will raise in a future error of pandas. Value '[ 0.01863183  0.06447131  0.52286615 ... -0.7606394   0.15615028\n",
      "  0.20198976]' has dtype incompatible with float32, please explicitly cast to a compatible dtype first.\n",
      "  df.loc[:, get_feature_cols(df)] = (df[get_feature_cols(df)] - full_dataset_meta_data[\"mean\"]) / full_dataset_meta_data['std']\n",
      "/tmp/ipykernel_36489/629001182.py:6: FutureWarning: Setting an item of incompatible dtype is deprecated and will raise in a future error of pandas. Value '[ 0.00533725  0.16232436  2.04616966 ... -0.46562407  0.16232436\n",
      " -0.77959829]' has dtype incompatible with float32, please explicitly cast to a compatible dtype first.\n",
      "  df.loc[:, get_feature_cols(df)] = (df[get_feature_cols(df)] - full_dataset_meta_data[\"mean\"]) / full_dataset_meta_data['std']\n",
      "/tmp/ipykernel_36489/629001182.py:6: FutureWarning: Setting an item of incompatible dtype is deprecated and will raise in a future error of pandas. Value '[ 0.01676143 -0.1618797  -0.55381181 ...  1.92050517 -0.35144267\n",
      "  0.03760141]' has dtype incompatible with float32, please explicitly cast to a compatible dtype first.\n",
      "  df.loc[:, get_feature_cols(df)] = (df[get_feature_cols(df)] - full_dataset_meta_data[\"mean\"]) / full_dataset_meta_data['std']\n",
      "/tmp/ipykernel_36489/629001182.py:6: FutureWarning: Setting an item of incompatible dtype is deprecated and will raise in a future error of pandas. Value '[0.02122194 0.02122194 0.11326736 ... 0.02122194 0.02122194 0.02122194]' has dtype incompatible with float32, please explicitly cast to a compatible dtype first.\n",
      "  df.loc[:, get_feature_cols(df)] = (df[get_feature_cols(df)] - full_dataset_meta_data[\"mean\"]) / full_dataset_meta_data['std']\n",
      "/tmp/ipykernel_36489/629001182.py:6: FutureWarning: Setting an item of incompatible dtype is deprecated and will raise in a future error of pandas. Value '[ 0.02655805  0.36342591  1.16862228 ... -0.46641931  0.23607343\n",
      "  0.11282909]' has dtype incompatible with float32, please explicitly cast to a compatible dtype first.\n",
      "  df.loc[:, get_feature_cols(df)] = (df[get_feature_cols(df)] - full_dataset_meta_data[\"mean\"]) / full_dataset_meta_data['std']\n",
      "/tmp/ipykernel_36489/629001182.py:6: FutureWarning: Setting an item of incompatible dtype is deprecated and will raise in a future error of pandas. Value '[ 0.02139347  0.11870913  0.79991879 ... -0.46518486  0.26468263\n",
      "  0.16736697]' has dtype incompatible with float32, please explicitly cast to a compatible dtype first.\n",
      "  df.loc[:, get_feature_cols(df)] = (df[get_feature_cols(df)] - full_dataset_meta_data[\"mean\"]) / full_dataset_meta_data['std']\n",
      "/tmp/ipykernel_36489/629001182.py:6: FutureWarning: Setting an item of incompatible dtype is deprecated and will raise in a future error of pandas. Value '[0.00180852 1.55288188 1.35899771 ... 0.00180852 0.00180852 0.00180852]' has dtype incompatible with float32, please explicitly cast to a compatible dtype first.\n",
      "  df.loc[:, get_feature_cols(df)] = (df[get_feature_cols(df)] - full_dataset_meta_data[\"mean\"]) / full_dataset_meta_data['std']\n",
      "/tmp/ipykernel_36489/629001182.py:6: FutureWarning: Setting an item of incompatible dtype is deprecated and will raise in a future error of pandas. Value '[ 0.02475781 -0.23046252 -0.58264072 ...  0.08129561  0.01751911\n",
      " -0.0147557 ]' has dtype incompatible with float32, please explicitly cast to a compatible dtype first.\n",
      "  df.loc[:, get_feature_cols(df)] = (df[get_feature_cols(df)] - full_dataset_meta_data[\"mean\"]) / full_dataset_meta_data['std']\n",
      "/tmp/ipykernel_36489/629001182.py:6: FutureWarning: Setting an item of incompatible dtype is deprecated and will raise in a future error of pandas. Value '[0.03124408 0.03124408 0.03124408 ... 0.21233635 0.03124408 0.03124408]' has dtype incompatible with float32, please explicitly cast to a compatible dtype first.\n",
      "  df.loc[:, get_feature_cols(df)] = (df[get_feature_cols(df)] - full_dataset_meta_data[\"mean\"]) / full_dataset_meta_data['std']\n",
      "/tmp/ipykernel_36489/629001182.py:6: FutureWarning: Setting an item of incompatible dtype is deprecated and will raise in a future error of pandas. Value '[ 0.03466461  0.82404331  2.44434695 ... -0.86352569  0.49365172\n",
      "  0.46199744]' has dtype incompatible with float32, please explicitly cast to a compatible dtype first.\n",
      "  df.loc[:, get_feature_cols(df)] = (df[get_feature_cols(df)] - full_dataset_meta_data[\"mean\"]) / full_dataset_meta_data['std']\n",
      "/tmp/ipykernel_36489/629001182.py:6: FutureWarning: Setting an item of incompatible dtype is deprecated and will raise in a future error of pandas. Value '[ 0.02779302  0.98429744  1.98862707 ... -0.06785742  0.02779302\n",
      "  0.36256957]' has dtype incompatible with float32, please explicitly cast to a compatible dtype first.\n",
      "  df.loc[:, get_feature_cols(df)] = (df[get_feature_cols(df)] - full_dataset_meta_data[\"mean\"]) / full_dataset_meta_data['std']\n",
      "/tmp/ipykernel_36489/629001182.py:6: FutureWarning: Setting an item of incompatible dtype is deprecated and will raise in a future error of pandas. Value '[0.00804792 1.07909675 1.43611303 ... 0.00804792 0.00804792 0.00804792]' has dtype incompatible with float32, please explicitly cast to a compatible dtype first.\n",
      "  df.loc[:, get_feature_cols(df)] = (df[get_feature_cols(df)] - full_dataset_meta_data[\"mean\"]) / full_dataset_meta_data['std']\n",
      "/tmp/ipykernel_36489/629001182.py:6: FutureWarning: Setting an item of incompatible dtype is deprecated and will raise in a future error of pandas. Value '[ 0.02870978 -0.7397748  -1.34358487 ... -0.05118342 -0.26396751\n",
      "  0.24374985]' has dtype incompatible with float32, please explicitly cast to a compatible dtype first.\n",
      "  df.loc[:, get_feature_cols(df)] = (df[get_feature_cols(df)] - full_dataset_meta_data[\"mean\"]) / full_dataset_meta_data['std']\n",
      "/tmp/ipykernel_36489/629001182.py:6: FutureWarning: Setting an item of incompatible dtype is deprecated and will raise in a future error of pandas. Value '[0.01596797 0.01596797 0.01596797 ... 0.01596797 0.01596797 0.01596797]' has dtype incompatible with float32, please explicitly cast to a compatible dtype first.\n",
      "  df.loc[:, get_feature_cols(df)] = (df[get_feature_cols(df)] - full_dataset_meta_data[\"mean\"]) / full_dataset_meta_data['std']\n",
      "/tmp/ipykernel_36489/629001182.py:6: FutureWarning: Setting an item of incompatible dtype is deprecated and will raise in a future error of pandas. Value '[ 0.01848457  0.14091241  0.16832162 ... -0.01623377  0.66168752\n",
      "  0.05137563]' has dtype incompatible with float32, please explicitly cast to a compatible dtype first.\n",
      "  df.loc[:, get_feature_cols(df)] = (df[get_feature_cols(df)] - full_dataset_meta_data[\"mean\"]) / full_dataset_meta_data['std']\n",
      "/tmp/ipykernel_36489/629001182.py:6: FutureWarning: Setting an item of incompatible dtype is deprecated and will raise in a future error of pandas. Value '[ 0.01467546  0.15173524 -0.35081728 ...  0.15173524  0.47154138\n",
      "  0.01467546]' has dtype incompatible with float32, please explicitly cast to a compatible dtype first.\n",
      "  df.loc[:, get_feature_cols(df)] = (df[get_feature_cols(df)] - full_dataset_meta_data[\"mean\"]) / full_dataset_meta_data['std']\n",
      "/tmp/ipykernel_36489/629001182.py:6: FutureWarning: Setting an item of incompatible dtype is deprecated and will raise in a future error of pandas. Value '[ 0.00879523  1.29823984  1.58478309 ...  0.4386101   1.01169659\n",
      " -0.27774802]' has dtype incompatible with float32, please explicitly cast to a compatible dtype first.\n",
      "  df.loc[:, get_feature_cols(df)] = (df[get_feature_cols(df)] - full_dataset_meta_data[\"mean\"]) / full_dataset_meta_data['std']\n",
      "/tmp/ipykernel_36489/629001182.py:6: FutureWarning: Setting an item of incompatible dtype is deprecated and will raise in a future error of pandas. Value '[ 0.00999875 -0.34658755 -0.89987509 ...  0.01244257 -0.50234895\n",
      "  0.120043  ]' has dtype incompatible with float32, please explicitly cast to a compatible dtype first.\n",
      "  df.loc[:, get_feature_cols(df)] = (df[get_feature_cols(df)] - full_dataset_meta_data[\"mean\"]) / full_dataset_meta_data['std']\n",
      "/tmp/ipykernel_36489/629001182.py:6: FutureWarning: Setting an item of incompatible dtype is deprecated and will raise in a future error of pandas. Value '[ 0.00486587  0.00486587  0.00486587 ...  0.62701088 -0.2617677\n",
      "  0.00486587]' has dtype incompatible with float32, please explicitly cast to a compatible dtype first.\n",
      "  df.loc[:, get_feature_cols(df)] = (df[get_feature_cols(df)] - full_dataset_meta_data[\"mean\"]) / full_dataset_meta_data['std']\n",
      "/tmp/ipykernel_36489/629001182.py:6: FutureWarning: Setting an item of incompatible dtype is deprecated and will raise in a future error of pandas. Value '[ 0.00416155  0.21881554  0.42334433 ...  0.38486862 -0.32389454\n",
      "  0.04871238]' has dtype incompatible with float32, please explicitly cast to a compatible dtype first.\n",
      "  df.loc[:, get_feature_cols(df)] = (df[get_feature_cols(df)] - full_dataset_meta_data[\"mean\"]) / full_dataset_meta_data['std']\n",
      "/tmp/ipykernel_36489/629001182.py:6: FutureWarning: Setting an item of incompatible dtype is deprecated and will raise in a future error of pandas. Value '[ 0.00251206  0.09934715  0.63194017 ...  0.29301734 -0.28799322\n",
      "  0.1477647 ]' has dtype incompatible with float32, please explicitly cast to a compatible dtype first.\n",
      "  df.loc[:, get_feature_cols(df)] = (df[get_feature_cols(df)] - full_dataset_meta_data[\"mean\"]) / full_dataset_meta_data['std']\n",
      "/tmp/ipykernel_36489/629001182.py:6: FutureWarning: Setting an item of incompatible dtype is deprecated and will raise in a future error of pandas. Value '[ 0.00314647  0.00314647  0.00314647 ... -0.50986431 -0.16785712\n",
      " -0.16785712]' has dtype incompatible with float32, please explicitly cast to a compatible dtype first.\n",
      "  df.loc[:, get_feature_cols(df)] = (df[get_feature_cols(df)] - full_dataset_meta_data[\"mean\"]) / full_dataset_meta_data['std']\n",
      "/tmp/ipykernel_36489/629001182.py:6: FutureWarning: Setting an item of incompatible dtype is deprecated and will raise in a future error of pandas. Value '[ 0.00336178  0.02776598  0.43110504 ...  0.21349688 -0.14336411\n",
      "  0.09451324]' has dtype incompatible with float32, please explicitly cast to a compatible dtype first.\n",
      "  df.loc[:, get_feature_cols(df)] = (df[get_feature_cols(df)] - full_dataset_meta_data[\"mean\"]) / full_dataset_meta_data['std']\n",
      "/tmp/ipykernel_36489/629001182.py:6: FutureWarning: Setting an item of incompatible dtype is deprecated and will raise in a future error of pandas. Value '[0.92192948 0.93580851 0.7796449  ... 0.3332821  0.43304996 0.44690426]' has dtype incompatible with float32, please explicitly cast to a compatible dtype first.\n",
      "  df.loc[:, get_feature_cols(df)] = (df[get_feature_cols(df)] - full_dataset_meta_data[\"mean\"]) / full_dataset_meta_data['std']\n",
      "/tmp/ipykernel_36489/629001182.py:6: FutureWarning: Setting an item of incompatible dtype is deprecated and will raise in a future error of pandas. Value '[ 0.37828318  0.44191741  0.66331731 ... -1.41863723 -1.47327315\n",
      " -1.56520538]' has dtype incompatible with float32, please explicitly cast to a compatible dtype first.\n",
      "  df.loc[:, get_feature_cols(df)] = (df[get_feature_cols(df)] - full_dataset_meta_data[\"mean\"]) / full_dataset_meta_data['std']\n",
      "/tmp/ipykernel_36489/629001182.py:6: FutureWarning: Setting an item of incompatible dtype is deprecated and will raise in a future error of pandas. Value '[-0.19114313 -0.23970151  0.01806238 ... -0.02437902 -0.22398579\n",
      " -0.28935106]' has dtype incompatible with float32, please explicitly cast to a compatible dtype first.\n",
      "  df.loc[:, get_feature_cols(df)] = (df[get_feature_cols(df)] - full_dataset_meta_data[\"mean\"]) / full_dataset_meta_data['std']\n",
      "/tmp/ipykernel_36489/629001182.py:6: FutureWarning: Setting an item of incompatible dtype is deprecated and will raise in a future error of pandas. Value '[-0.1543143  -0.05438018 -0.3731254  ... -1.33143173 -0.96283624\n",
      " -0.78592757]' has dtype incompatible with float32, please explicitly cast to a compatible dtype first.\n",
      "  df.loc[:, get_feature_cols(df)] = (df[get_feature_cols(df)] - full_dataset_meta_data[\"mean\"]) / full_dataset_meta_data['std']\n",
      "/tmp/ipykernel_36489/629001182.py:6: FutureWarning: Setting an item of incompatible dtype is deprecated and will raise in a future error of pandas. Value '[0.91867394 0.88599032 0.61246329 ... 0.99485484 0.97932846 0.99747807]' has dtype incompatible with float32, please explicitly cast to a compatible dtype first.\n",
      "  df.loc[:, get_feature_cols(df)] = (df[get_feature_cols(df)] - full_dataset_meta_data[\"mean\"]) / full_dataset_meta_data['std']\n",
      "/tmp/ipykernel_36489/629001182.py:6: FutureWarning: Setting an item of incompatible dtype is deprecated and will raise in a future error of pandas. Value '[-0.23869022 -0.14896993 -0.37290141 ... -1.64273835 -0.07708343\n",
      "  0.46263901]' has dtype incompatible with float32, please explicitly cast to a compatible dtype first.\n",
      "  df.loc[:, get_feature_cols(df)] = (df[get_feature_cols(df)] - full_dataset_meta_data[\"mean\"]) / full_dataset_meta_data['std']\n",
      "/tmp/ipykernel_36489/629001182.py:6: FutureWarning: Setting an item of incompatible dtype is deprecated and will raise in a future error of pandas. Value '[-0.99715055 -0.95773732 -0.63026367 ... -1.08920292 -1.07042212\n",
      " -1.09237714]' has dtype incompatible with float32, please explicitly cast to a compatible dtype first.\n",
      "  df.loc[:, get_feature_cols(df)] = (df[get_feature_cols(df)] - full_dataset_meta_data[\"mean\"]) / full_dataset_meta_data['std']\n",
      "/tmp/ipykernel_36489/629001182.py:6: FutureWarning: Setting an item of incompatible dtype is deprecated and will raise in a future error of pandas. Value '[-0.50852472 -0.4764371  -0.3341469  ... -1.60542168 -1.61081346\n",
      " -1.61396961]' has dtype incompatible with float32, please explicitly cast to a compatible dtype first.\n",
      "  df.loc[:, get_feature_cols(df)] = (df[get_feature_cols(df)] - full_dataset_meta_data[\"mean\"]) / full_dataset_meta_data['std']\n",
      "/tmp/ipykernel_36489/629001182.py:6: FutureWarning: Setting an item of incompatible dtype is deprecated and will raise in a future error of pandas. Value '[-0.7163434  -0.68184003 -0.54935162 ... -0.74193903 -0.72243223\n",
      " -0.72446184]' has dtype incompatible with float32, please explicitly cast to a compatible dtype first.\n",
      "  df.loc[:, get_feature_cols(df)] = (df[get_feature_cols(df)] - full_dataset_meta_data[\"mean\"]) / full_dataset_meta_data['std']\n",
      "/tmp/ipykernel_36489/629001182.py:6: FutureWarning: Setting an item of incompatible dtype is deprecated and will raise in a future error of pandas. Value '[-1.23853993 -1.2679199  -1.34974677 ...  0.0416742   0.01715042\n",
      "  0.03026214]' has dtype incompatible with float32, please explicitly cast to a compatible dtype first.\n",
      "  df.loc[:, get_feature_cols(df)] = (df[get_feature_cols(df)] - full_dataset_meta_data[\"mean\"]) / full_dataset_meta_data['std']\n",
      "/tmp/ipykernel_36489/629001182.py:6: FutureWarning: Setting an item of incompatible dtype is deprecated and will raise in a future error of pandas. Value '[0.50231783 0.59310455 0.82146787 ... 0.62009948 0.69565178 0.67444004]' has dtype incompatible with float32, please explicitly cast to a compatible dtype first.\n",
      "  df.loc[:, get_feature_cols(df)] = (df[get_feature_cols(df)] - full_dataset_meta_data[\"mean\"]) / full_dataset_meta_data['std']\n",
      "/tmp/ipykernel_36489/629001182.py:6: FutureWarning: Setting an item of incompatible dtype is deprecated and will raise in a future error of pandas. Value '[1.18477426 1.19708885 0.97652363 ... 0.30165955 0.38943235 0.37884916]' has dtype incompatible with float32, please explicitly cast to a compatible dtype first.\n",
      "  df.loc[:, get_feature_cols(df)] = (df[get_feature_cols(df)] - full_dataset_meta_data[\"mean\"]) / full_dataset_meta_data['std']\n",
      "/tmp/ipykernel_36489/629001182.py:6: FutureWarning: Setting an item of incompatible dtype is deprecated and will raise in a future error of pandas. Value '[0.63344209 0.68143673 0.74140548 ... 0.29969805 0.33057229 0.31433888]' has dtype incompatible with float32, please explicitly cast to a compatible dtype first.\n",
      "  df.loc[:, get_feature_cols(df)] = (df[get_feature_cols(df)] - full_dataset_meta_data[\"mean\"]) / full_dataset_meta_data['std']\n",
      "/tmp/ipykernel_36489/629001182.py:6: FutureWarning: Setting an item of incompatible dtype is deprecated and will raise in a future error of pandas. Value '[0.36724552 0.38668742 0.42327279 ... 0.84895603 0.86489636 0.87229757]' has dtype incompatible with float32, please explicitly cast to a compatible dtype first.\n",
      "  df.loc[:, get_feature_cols(df)] = (df[get_feature_cols(df)] - full_dataset_meta_data[\"mean\"]) / full_dataset_meta_data['std']\n",
      "/tmp/ipykernel_36489/629001182.py:6: FutureWarning: Setting an item of incompatible dtype is deprecated and will raise in a future error of pandas. Value '[0.47793803 0.49229795 0.5108575  ... 0.61815265 0.56165606 0.56047498]' has dtype incompatible with float32, please explicitly cast to a compatible dtype first.\n",
      "  df.loc[:, get_feature_cols(df)] = (df[get_feature_cols(df)] - full_dataset_meta_data[\"mean\"]) / full_dataset_meta_data['std']\n",
      "/tmp/ipykernel_36489/629001182.py:6: FutureWarning: Setting an item of incompatible dtype is deprecated and will raise in a future error of pandas. Value '[ 0.13214775  0.13214775  0.13214775 ... -0.01303824 -0.01303824\n",
      " -0.01303824]' has dtype incompatible with float32, please explicitly cast to a compatible dtype first.\n",
      "  df.loc[:, get_feature_cols(df)] = (df[get_feature_cols(df)] - full_dataset_meta_data[\"mean\"]) / full_dataset_meta_data['std']\n",
      "/tmp/ipykernel_36489/629001182.py:6: FutureWarning: Setting an item of incompatible dtype is deprecated and will raise in a future error of pandas. Value '[ 0.33957131  0.34994752  0.39886392 ... -1.03749939 -1.02712318\n",
      " -0.99451225]' has dtype incompatible with float32, please explicitly cast to a compatible dtype first.\n",
      "  df.loc[:, get_feature_cols(df)] = (df[get_feature_cols(df)] - full_dataset_meta_data[\"mean\"]) / full_dataset_meta_data['std']\n",
      "/tmp/ipykernel_36489/629001182.py:6: FutureWarning: Setting an item of incompatible dtype is deprecated and will raise in a future error of pandas. Value '[ 0.23512851  0.24269682  0.32594815 ... -1.00607314 -0.98336823\n",
      " -0.95309502]' has dtype incompatible with float32, please explicitly cast to a compatible dtype first.\n",
      "  df.loc[:, get_feature_cols(df)] = (df[get_feature_cols(df)] - full_dataset_meta_data[\"mean\"]) / full_dataset_meta_data['std']\n",
      "/tmp/ipykernel_36489/629001182.py:6: FutureWarning: Setting an item of incompatible dtype is deprecated and will raise in a future error of pandas. Value '[0.75139792 0.77766474 1.11913348 ... 0.12099409 0.14726092 0.01592679]' has dtype incompatible with float32, please explicitly cast to a compatible dtype first.\n",
      "  df.loc[:, get_feature_cols(df)] = (df[get_feature_cols(df)] - full_dataset_meta_data[\"mean\"]) / full_dataset_meta_data['std']\n",
      "/tmp/ipykernel_36489/629001182.py:6: FutureWarning: Setting an item of incompatible dtype is deprecated and will raise in a future error of pandas. Value '[-0.41625179 -0.44180675 -0.52342835 ... -0.52426702 -0.57693933\n",
      " -0.57395813]' has dtype incompatible with float32, please explicitly cast to a compatible dtype first.\n",
      "  df.loc[:, get_feature_cols(df)] = (df[get_feature_cols(df)] - full_dataset_meta_data[\"mean\"]) / full_dataset_meta_data['std']\n",
      "/tmp/ipykernel_36489/629001182.py:6: FutureWarning: Setting an item of incompatible dtype is deprecated and will raise in a future error of pandas. Value '[-0.93013797 -0.93013797 -0.91229163 ...  0.12279596  0.12279596\n",
      "  0.12279596]' has dtype incompatible with float32, please explicitly cast to a compatible dtype first.\n",
      "  df.loc[:, get_feature_cols(df)] = (df[get_feature_cols(df)] - full_dataset_meta_data[\"mean\"]) / full_dataset_meta_data['std']\n",
      "/tmp/ipykernel_36489/629001182.py:6: FutureWarning: Setting an item of incompatible dtype is deprecated and will raise in a future error of pandas. Value '[ 0.14872681  0.19953096  0.37176939 ... -0.9259047  -0.894307\n",
      " -0.88129619]' has dtype incompatible with float32, please explicitly cast to a compatible dtype first.\n",
      "  df.loc[:, get_feature_cols(df)] = (df[get_feature_cols(df)] - full_dataset_meta_data[\"mean\"]) / full_dataset_meta_data['std']\n",
      "/tmp/ipykernel_36489/629001182.py:6: FutureWarning: Setting an item of incompatible dtype is deprecated and will raise in a future error of pandas. Value '[ 0.18107709  0.19710883  0.32536272 ... -0.71670016 -0.67662082\n",
      " -0.65257322]' has dtype incompatible with float32, please explicitly cast to a compatible dtype first.\n",
      "  df.loc[:, get_feature_cols(df)] = (df[get_feature_cols(df)] - full_dataset_meta_data[\"mean\"]) / full_dataset_meta_data['std']\n",
      "/tmp/ipykernel_36489/629001182.py:6: FutureWarning: Setting an item of incompatible dtype is deprecated and will raise in a future error of pandas. Value '[ 1.73489209  1.98259094  2.19932743 ... -0.74209645 -0.74209645\n",
      " -0.74209645]' has dtype incompatible with float32, please explicitly cast to a compatible dtype first.\n",
      "  df.loc[:, get_feature_cols(df)] = (df[get_feature_cols(df)] - full_dataset_meta_data[\"mean\"]) / full_dataset_meta_data['std']\n",
      "/tmp/ipykernel_36489/629001182.py:6: FutureWarning: Setting an item of incompatible dtype is deprecated and will raise in a future error of pandas. Value '[-1.34957737 -1.38800944 -1.47947387 ... -0.70429617 -0.7053862\n",
      " -0.7113363 ]' has dtype incompatible with float32, please explicitly cast to a compatible dtype first.\n",
      "  df.loc[:, get_feature_cols(df)] = (df[get_feature_cols(df)] - full_dataset_meta_data[\"mean\"]) / full_dataset_meta_data['std']\n",
      "/tmp/ipykernel_36489/629001182.py:6: FutureWarning: Setting an item of incompatible dtype is deprecated and will raise in a future error of pandas. Value '[-0.38184141 -0.38184141 -0.38184141 ...  0.56312024  0.56312024\n",
      "  0.56312024]' has dtype incompatible with float32, please explicitly cast to a compatible dtype first.\n",
      "  df.loc[:, get_feature_cols(df)] = (df[get_feature_cols(df)] - full_dataset_meta_data[\"mean\"]) / full_dataset_meta_data['std']\n",
      "/tmp/ipykernel_36489/629001182.py:6: FutureWarning: Setting an item of incompatible dtype is deprecated and will raise in a future error of pandas. Value '[-0.45493793 -0.33714769  0.02242254 ...  0.39941038  0.46789995\n",
      "  0.5316661 ]' has dtype incompatible with float32, please explicitly cast to a compatible dtype first.\n",
      "  df.loc[:, get_feature_cols(df)] = (df[get_feature_cols(df)] - full_dataset_meta_data[\"mean\"]) / full_dataset_meta_data['std']\n",
      "/tmp/ipykernel_36489/629001182.py:6: FutureWarning: Setting an item of incompatible dtype is deprecated and will raise in a future error of pandas. Value '[-0.48374927 -0.33200528 -0.02093009 ...  0.47223788  0.47223788\n",
      "  0.52534828]' has dtype incompatible with float32, please explicitly cast to a compatible dtype first.\n",
      "  df.loc[:, get_feature_cols(df)] = (df[get_feature_cols(df)] - full_dataset_meta_data[\"mean\"]) / full_dataset_meta_data['std']\n",
      "/tmp/ipykernel_36489/629001182.py:6: FutureWarning: Setting an item of incompatible dtype is deprecated and will raise in a future error of pandas. Value '[ 0.81204705  0.9795751   1.20294582 ... -0.72362667 -0.72362667\n",
      " -0.72362667]' has dtype incompatible with float32, please explicitly cast to a compatible dtype first.\n",
      "  df.loc[:, get_feature_cols(df)] = (df[get_feature_cols(df)] - full_dataset_meta_data[\"mean\"]) / full_dataset_meta_data['std']\n",
      "/tmp/ipykernel_36489/629001182.py:6: FutureWarning: Setting an item of incompatible dtype is deprecated and will raise in a future error of pandas. Value '[-0.72976005 -0.83633559 -1.02664916 ...  0.7892259   0.74863662\n",
      "  0.77845896]' has dtype incompatible with float32, please explicitly cast to a compatible dtype first.\n",
      "  df.loc[:, get_feature_cols(df)] = (df[get_feature_cols(df)] - full_dataset_meta_data[\"mean\"]) / full_dataset_meta_data['std']\n",
      "/tmp/ipykernel_36489/629001182.py:6: FutureWarning: Setting an item of incompatible dtype is deprecated and will raise in a future error of pandas. Value '[-0.12934124 -0.12934124 -0.12934124 ... -0.85506539 -0.85506539\n",
      " -0.85506539]' has dtype incompatible with float32, please explicitly cast to a compatible dtype first.\n",
      "  df.loc[:, get_feature_cols(df)] = (df[get_feature_cols(df)] - full_dataset_meta_data[\"mean\"]) / full_dataset_meta_data['std']\n",
      "/tmp/ipykernel_36489/629001182.py:6: FutureWarning: Setting an item of incompatible dtype is deprecated and will raise in a future error of pandas. Value '[-0.01677826  0.00259618  0.02630819 ... -1.00227249 -0.90048435\n",
      " -0.89527928]' has dtype incompatible with float32, please explicitly cast to a compatible dtype first.\n",
      "  df.loc[:, get_feature_cols(df)] = (df[get_feature_cols(df)] - full_dataset_meta_data[\"mean\"]) / full_dataset_meta_data['std']\n",
      "/tmp/ipykernel_36489/629001182.py:6: FutureWarning: Setting an item of incompatible dtype is deprecated and will raise in a future error of pandas. Value '[ 0.16468887  0.18755169  0.12658417 ... -0.91748462 -0.84127522\n",
      " -0.84127522]' has dtype incompatible with float32, please explicitly cast to a compatible dtype first.\n",
      "  df.loc[:, get_feature_cols(df)] = (df[get_feature_cols(df)] - full_dataset_meta_data[\"mean\"]) / full_dataset_meta_data['std']\n",
      "/tmp/ipykernel_36489/629001182.py:6: FutureWarning: Setting an item of incompatible dtype is deprecated and will raise in a future error of pandas. Value '[0.31734204 0.53634446 0.80401408 ... 0.07400601 0.24434123 0.19567402]' has dtype incompatible with float32, please explicitly cast to a compatible dtype first.\n",
      "  df.loc[:, get_feature_cols(df)] = (df[get_feature_cols(df)] - full_dataset_meta_data[\"mean\"]) / full_dataset_meta_data['std']\n",
      "/tmp/ipykernel_36489/629001182.py:6: FutureWarning: Setting an item of incompatible dtype is deprecated and will raise in a future error of pandas. Value '[-0.2614275  -0.31480955 -0.45102042 ... -0.74843943 -0.82513943\n",
      " -0.80866547]' has dtype incompatible with float32, please explicitly cast to a compatible dtype first.\n",
      "  df.loc[:, get_feature_cols(df)] = (df[get_feature_cols(df)] - full_dataset_meta_data[\"mean\"]) / full_dataset_meta_data['std']\n",
      "/tmp/ipykernel_36489/629001182.py:6: FutureWarning: Setting an item of incompatible dtype is deprecated and will raise in a future error of pandas. Value '[ 0.23091397  0.23091397  0.23091397 ... -1.8172684  -1.85935434\n",
      " -1.85935434]' has dtype incompatible with float32, please explicitly cast to a compatible dtype first.\n",
      "  df.loc[:, get_feature_cols(df)] = (df[get_feature_cols(df)] - full_dataset_meta_data[\"mean\"]) / full_dataset_meta_data['std']\n",
      "/tmp/ipykernel_36489/629001182.py:6: FutureWarning: Setting an item of incompatible dtype is deprecated and will raise in a future error of pandas. Value '[ 0.40467845  0.43377058  0.49058256 ... -0.96320044 -1.007662\n",
      " -1.00162401]' has dtype incompatible with float32, please explicitly cast to a compatible dtype first.\n",
      "  df.loc[:, get_feature_cols(df)] = (df[get_feature_cols(df)] - full_dataset_meta_data[\"mean\"]) / full_dataset_meta_data['std']\n",
      "/tmp/ipykernel_36489/629001182.py:6: FutureWarning: Setting an item of incompatible dtype is deprecated and will raise in a future error of pandas. Value '[ 0.26391058  0.27818134  0.37094134 ... -0.74931399 -0.7921263\n",
      " -0.77072014]' has dtype incompatible with float32, please explicitly cast to a compatible dtype first.\n",
      "  df.loc[:, get_feature_cols(df)] = (df[get_feature_cols(df)] - full_dataset_meta_data[\"mean\"]) / full_dataset_meta_data['std']\n",
      "/tmp/ipykernel_36489/629001182.py:6: FutureWarning: Setting an item of incompatible dtype is deprecated and will raise in a future error of pandas. Value '[ 1.79188737  1.79188737  1.79188737 ...  0.03394898  0.00559513\n",
      " -0.02275871]' has dtype incompatible with float32, please explicitly cast to a compatible dtype first.\n",
      "  df.loc[:, get_feature_cols(df)] = (df[get_feature_cols(df)] - full_dataset_meta_data[\"mean\"]) / full_dataset_meta_data['std']\n",
      "/tmp/ipykernel_36489/629001182.py:6: FutureWarning: Setting an item of incompatible dtype is deprecated and will raise in a future error of pandas. Value '[-0.7366217  -0.73331993 -0.67544839 ... -1.49229266 -1.51214394\n",
      " -1.4998116 ]' has dtype incompatible with float32, please explicitly cast to a compatible dtype first.\n",
      "  df.loc[:, get_feature_cols(df)] = (df[get_feature_cols(df)] - full_dataset_meta_data[\"mean\"]) / full_dataset_meta_data['std']\n"
     ]
    }
   ],
   "source": [
    "# Retain full dataset meta data for inference\n",
    "full_dataset_meta_data = {\n",
    "    \"mean\": df[get_feature_cols(df)].mean().astype(\"float32\").to_dict(),\n",
    "    \"std\": df[get_feature_cols(df)].std().astype(\"float32\").to_dict(),\n",
    "}\n",
    "df.loc[:, get_feature_cols(df)] = (df[get_feature_cols(df)] - full_dataset_meta_data[\"mean\"]) / full_dataset_meta_data['std']"
   ]
  },
  {
   "cell_type": "markdown",
   "id": "7d8a04ce",
   "metadata": {},
   "source": [
    "Verify the mean and std of the full dataset."
   ]
  },
  {
   "cell_type": "code",
   "execution_count": 25,
   "id": "b02ca859",
   "metadata": {},
   "outputs": [
    {
     "data": {
      "text/html": [
       "<div>\n",
       "<style scoped>\n",
       "    .dataframe tbody tr th:only-of-type {\n",
       "        vertical-align: middle;\n",
       "    }\n",
       "\n",
       "    .dataframe tbody tr th {\n",
       "        vertical-align: top;\n",
       "    }\n",
       "\n",
       "    .dataframe thead th {\n",
       "        text-align: right;\n",
       "    }\n",
       "</style>\n",
       "<table border=\"1\" class=\"dataframe\">\n",
       "  <thead>\n",
       "    <tr style=\"text-align: right;\">\n",
       "      <th></th>\n",
       "      <th>acc_x</th>\n",
       "      <th>acc_y</th>\n",
       "      <th>acc_z</th>\n",
       "      <th>angular_vel_x</th>\n",
       "      <th>angular_vel_y</th>\n",
       "      <th>angular_vel_z</th>\n",
       "      <th>delta_rot_mag</th>\n",
       "      <th>diff_acc_x</th>\n",
       "      <th>diff_acc_y</th>\n",
       "      <th>diff_acc_z</th>\n",
       "      <th>...</th>\n",
       "      <th>tof_4_max</th>\n",
       "      <th>tof_4_mean</th>\n",
       "      <th>tof_4_median</th>\n",
       "      <th>tof_4_min</th>\n",
       "      <th>tof_4_std</th>\n",
       "      <th>tof_5_max</th>\n",
       "      <th>tof_5_mean</th>\n",
       "      <th>tof_5_median</th>\n",
       "      <th>tof_5_min</th>\n",
       "      <th>tof_5_std</th>\n",
       "    </tr>\n",
       "  </thead>\n",
       "  <tbody>\n",
       "    <tr>\n",
       "      <th>mean</th>\n",
       "      <td>-1.749467e-08</td>\n",
       "      <td>1.186949e-08</td>\n",
       "      <td>-2.971537e-09</td>\n",
       "      <td>8.305834e-10</td>\n",
       "      <td>-5.170893e-10</td>\n",
       "      <td>5.603417e-10</td>\n",
       "      <td>-2.484010e-09</td>\n",
       "      <td>-3.192562e-10</td>\n",
       "      <td>-1.666452e-10</td>\n",
       "      <td>-3.622584e-10</td>\n",
       "      <td>...</td>\n",
       "      <td>-6.377776e-08</td>\n",
       "      <td>1.404808e-08</td>\n",
       "      <td>-9.119742e-08</td>\n",
       "      <td>-1.658729e-08</td>\n",
       "      <td>2.203446e-07</td>\n",
       "      <td>5.033017e-08</td>\n",
       "      <td>-5.993022e-08</td>\n",
       "      <td>-2.861646e-08</td>\n",
       "      <td>1.314192e-08</td>\n",
       "      <td>-4.774061e-08</td>\n",
       "    </tr>\n",
       "    <tr>\n",
       "      <th>std</th>\n",
       "      <td>1.000000e+00</td>\n",
       "      <td>1.000000e+00</td>\n",
       "      <td>1.000000e+00</td>\n",
       "      <td>1.000000e+00</td>\n",
       "      <td>1.000000e+00</td>\n",
       "      <td>1.000000e+00</td>\n",
       "      <td>1.000000e+00</td>\n",
       "      <td>1.000000e+00</td>\n",
       "      <td>1.000000e+00</td>\n",
       "      <td>9.999999e-01</td>\n",
       "      <td>...</td>\n",
       "      <td>1.000000e+00</td>\n",
       "      <td>1.000000e+00</td>\n",
       "      <td>1.000000e+00</td>\n",
       "      <td>1.000000e+00</td>\n",
       "      <td>1.000000e+00</td>\n",
       "      <td>1.000000e+00</td>\n",
       "      <td>1.000000e+00</td>\n",
       "      <td>1.000000e+00</td>\n",
       "      <td>1.000000e+00</td>\n",
       "      <td>1.000000e+00</td>\n",
       "    </tr>\n",
       "  </tbody>\n",
       "</table>\n",
       "<p>2 rows × 106 columns</p>\n",
       "</div>"
      ],
      "text/plain": [
       "             acc_x         acc_y         acc_z  angular_vel_x  angular_vel_y  \\\n",
       "mean -1.749467e-08  1.186949e-08 -2.971537e-09   8.305834e-10  -5.170893e-10   \n",
       "std   1.000000e+00  1.000000e+00  1.000000e+00   1.000000e+00   1.000000e+00   \n",
       "\n",
       "      angular_vel_z  delta_rot_mag    diff_acc_x    diff_acc_y    diff_acc_z  \\\n",
       "mean   5.603417e-10  -2.484010e-09 -3.192562e-10 -1.666452e-10 -3.622584e-10   \n",
       "std    1.000000e+00   1.000000e+00  1.000000e+00  1.000000e+00  9.999999e-01   \n",
       "\n",
       "      ...     tof_4_max    tof_4_mean  tof_4_median     tof_4_min  \\\n",
       "mean  ... -6.377776e-08  1.404808e-08 -9.119742e-08 -1.658729e-08   \n",
       "std   ...  1.000000e+00  1.000000e+00  1.000000e+00  1.000000e+00   \n",
       "\n",
       "         tof_4_std     tof_5_max    tof_5_mean  tof_5_median     tof_5_min  \\\n",
       "mean  2.203446e-07  5.033017e-08 -5.993022e-08 -2.861646e-08  1.314192e-08   \n",
       "std   1.000000e+00  1.000000e+00  1.000000e+00  1.000000e+00  1.000000e+00   \n",
       "\n",
       "         tof_5_std  \n",
       "mean -4.774061e-08  \n",
       "std   1.000000e+00  \n",
       "\n",
       "[2 rows x 106 columns]"
      ]
     },
     "execution_count": 25,
     "metadata": {},
     "output_type": "execute_result"
    }
   ],
   "source": [
    "df[get_feature_cols(df)].agg([\"mean\", \"std\"])"
   ]
  },
  {
   "cell_type": "markdown",
   "id": "f840652f",
   "metadata": {},
   "source": [
    "Let's compare the train to validation mean/std skews."
   ]
  },
  {
   "cell_type": "code",
   "execution_count": 26,
   "id": "9ce0ae47",
   "metadata": {},
   "outputs": [
    {
     "data": {
      "text/html": [
       "<div>\n",
       "<style scoped>\n",
       "    .dataframe tbody tr th:only-of-type {\n",
       "        vertical-align: middle;\n",
       "    }\n",
       "\n",
       "    .dataframe tbody tr th {\n",
       "        vertical-align: top;\n",
       "    }\n",
       "\n",
       "    .dataframe thead th {\n",
       "        text-align: right;\n",
       "    }\n",
       "</style>\n",
       "<table border=\"1\" class=\"dataframe\">\n",
       "  <thead>\n",
       "    <tr style=\"text-align: right;\">\n",
       "      <th></th>\n",
       "      <th></th>\n",
       "      <th>acc_x</th>\n",
       "      <th>acc_y</th>\n",
       "      <th>acc_z</th>\n",
       "      <th>angular_vel_x</th>\n",
       "      <th>angular_vel_y</th>\n",
       "      <th>angular_vel_z</th>\n",
       "      <th>delta_rot_mag</th>\n",
       "      <th>diff_acc_x</th>\n",
       "      <th>diff_acc_y</th>\n",
       "      <th>diff_acc_z</th>\n",
       "      <th>...</th>\n",
       "      <th>tof_4_max</th>\n",
       "      <th>tof_4_mean</th>\n",
       "      <th>tof_4_median</th>\n",
       "      <th>tof_4_min</th>\n",
       "      <th>tof_4_std</th>\n",
       "      <th>tof_5_max</th>\n",
       "      <th>tof_5_mean</th>\n",
       "      <th>tof_5_median</th>\n",
       "      <th>tof_5_min</th>\n",
       "      <th>tof_5_std</th>\n",
       "    </tr>\n",
       "  </thead>\n",
       "  <tbody>\n",
       "    <tr>\n",
       "      <th rowspan=\"2\" valign=\"top\">train</th>\n",
       "      <th>mean</th>\n",
       "      <td>-8.198549e-09</td>\n",
       "      <td>-1.996743e-08</td>\n",
       "      <td>6.347264e-09</td>\n",
       "      <td>7.742488e-10</td>\n",
       "      <td>2.944432e-10</td>\n",
       "      <td>-5.791696e-10</td>\n",
       "      <td>-2.958919e-09</td>\n",
       "      <td>-8.677900e-10</td>\n",
       "      <td>1.024819e-09</td>\n",
       "      <td>2.776928e-09</td>\n",
       "      <td>...</td>\n",
       "      <td>-9.785365e-08</td>\n",
       "      <td>-3.808358e-08</td>\n",
       "      <td>2.750481e-08</td>\n",
       "      <td>-1.481028e-08</td>\n",
       "      <td>-2.479400e-08</td>\n",
       "      <td>7.669610e-08</td>\n",
       "      <td>1.057877e-07</td>\n",
       "      <td>-7.471258e-08</td>\n",
       "      <td>6.109241e-08</td>\n",
       "      <td>2.909163e-08</td>\n",
       "    </tr>\n",
       "    <tr>\n",
       "      <th>std</th>\n",
       "      <td>9.999999e-01</td>\n",
       "      <td>9.999999e-01</td>\n",
       "      <td>1.000000e+00</td>\n",
       "      <td>1.000000e+00</td>\n",
       "      <td>1.000000e+00</td>\n",
       "      <td>1.000000e+00</td>\n",
       "      <td>1.000000e+00</td>\n",
       "      <td>1.000000e+00</td>\n",
       "      <td>1.000000e+00</td>\n",
       "      <td>1.000000e+00</td>\n",
       "      <td>...</td>\n",
       "      <td>1.000000e+00</td>\n",
       "      <td>1.000000e+00</td>\n",
       "      <td>1.000000e+00</td>\n",
       "      <td>1.000000e+00</td>\n",
       "      <td>1.000000e+00</td>\n",
       "      <td>1.000000e+00</td>\n",
       "      <td>9.999999e-01</td>\n",
       "      <td>1.000000e+00</td>\n",
       "      <td>1.000000e+00</td>\n",
       "      <td>1.000000e+00</td>\n",
       "    </tr>\n",
       "    <tr>\n",
       "      <th rowspan=\"2\" valign=\"top\">validation</th>\n",
       "      <th>mean</th>\n",
       "      <td>-9.726086e-02</td>\n",
       "      <td>7.166609e-02</td>\n",
       "      <td>7.997745e-03</td>\n",
       "      <td>-6.601994e-03</td>\n",
       "      <td>-1.053239e-02</td>\n",
       "      <td>1.028517e-02</td>\n",
       "      <td>7.974006e-03</td>\n",
       "      <td>6.403131e-03</td>\n",
       "      <td>1.074796e-03</td>\n",
       "      <td>-2.484413e-03</td>\n",
       "      <td>...</td>\n",
       "      <td>2.538789e-02</td>\n",
       "      <td>-2.322527e-02</td>\n",
       "      <td>-2.716631e-02</td>\n",
       "      <td>-9.683621e-02</td>\n",
       "      <td>6.497943e-02</td>\n",
       "      <td>1.718117e-01</td>\n",
       "      <td>7.978355e-02</td>\n",
       "      <td>5.957159e-02</td>\n",
       "      <td>-2.309146e-02</td>\n",
       "      <td>1.754321e-01</td>\n",
       "    </tr>\n",
       "    <tr>\n",
       "      <th>std</th>\n",
       "      <td>9.914509e-01</td>\n",
       "      <td>9.994850e-01</td>\n",
       "      <td>1.003435e+00</td>\n",
       "      <td>1.007533e+00</td>\n",
       "      <td>1.010691e+00</td>\n",
       "      <td>1.021054e+00</td>\n",
       "      <td>1.011692e+00</td>\n",
       "      <td>9.110948e-01</td>\n",
       "      <td>9.842595e-01</td>\n",
       "      <td>9.685237e-01</td>\n",
       "      <td>...</td>\n",
       "      <td>9.607834e-01</td>\n",
       "      <td>9.615051e-01</td>\n",
       "      <td>9.832078e-01</td>\n",
       "      <td>9.586236e-01</td>\n",
       "      <td>9.906979e-01</td>\n",
       "      <td>7.230130e-01</td>\n",
       "      <td>8.546929e-01</td>\n",
       "      <td>9.261847e-01</td>\n",
       "      <td>9.751214e-01</td>\n",
       "      <td>9.565742e-01</td>\n",
       "    </tr>\n",
       "  </tbody>\n",
       "</table>\n",
       "<p>4 rows × 106 columns</p>\n",
       "</div>"
      ],
      "text/plain": [
       "                        acc_x         acc_y         acc_z  angular_vel_x  \\\n",
       "train      mean -8.198549e-09 -1.996743e-08  6.347264e-09   7.742488e-10   \n",
       "           std   9.999999e-01  9.999999e-01  1.000000e+00   1.000000e+00   \n",
       "validation mean -9.726086e-02  7.166609e-02  7.997745e-03  -6.601994e-03   \n",
       "           std   9.914509e-01  9.994850e-01  1.003435e+00   1.007533e+00   \n",
       "\n",
       "                 angular_vel_y  angular_vel_z  delta_rot_mag    diff_acc_x  \\\n",
       "train      mean   2.944432e-10  -5.791696e-10  -2.958919e-09 -8.677900e-10   \n",
       "           std    1.000000e+00   1.000000e+00   1.000000e+00  1.000000e+00   \n",
       "validation mean  -1.053239e-02   1.028517e-02   7.974006e-03  6.403131e-03   \n",
       "           std    1.010691e+00   1.021054e+00   1.011692e+00  9.110948e-01   \n",
       "\n",
       "                   diff_acc_y    diff_acc_z  ...     tof_4_max    tof_4_mean  \\\n",
       "train      mean  1.024819e-09  2.776928e-09  ... -9.785365e-08 -3.808358e-08   \n",
       "           std   1.000000e+00  1.000000e+00  ...  1.000000e+00  1.000000e+00   \n",
       "validation mean  1.074796e-03 -2.484413e-03  ...  2.538789e-02 -2.322527e-02   \n",
       "           std   9.842595e-01  9.685237e-01  ...  9.607834e-01  9.615051e-01   \n",
       "\n",
       "                 tof_4_median     tof_4_min     tof_4_std     tof_5_max  \\\n",
       "train      mean  2.750481e-08 -1.481028e-08 -2.479400e-08  7.669610e-08   \n",
       "           std   1.000000e+00  1.000000e+00  1.000000e+00  1.000000e+00   \n",
       "validation mean -2.716631e-02 -9.683621e-02  6.497943e-02  1.718117e-01   \n",
       "           std   9.832078e-01  9.586236e-01  9.906979e-01  7.230130e-01   \n",
       "\n",
       "                   tof_5_mean  tof_5_median     tof_5_min     tof_5_std  \n",
       "train      mean  1.057877e-07 -7.471258e-08  6.109241e-08  2.909163e-08  \n",
       "           std   9.999999e-01  1.000000e+00  1.000000e+00  1.000000e+00  \n",
       "validation mean  7.978355e-02  5.957159e-02 -2.309146e-02  1.754321e-01  \n",
       "           std   8.546929e-01  9.261847e-01  9.751214e-01  9.565742e-01  \n",
       "\n",
       "[4 rows x 106 columns]"
      ]
     },
     "execution_count": 26,
     "metadata": {},
     "output_type": "execute_result"
    }
   ],
   "source": [
    "pd.concat({\n",
    "    \"train\": folds[0][0][get_feature_cols(df)].agg([\"mean\", \"std\"]),\n",
    "    \"validation\": folds[0][1][get_feature_cols(df)].agg([\"mean\", \"std\"]),\n",
    "})"
   ]
  },
  {
   "cell_type": "markdown",
   "id": "9bc09714",
   "metadata": {},
   "source": [
    "### Normalize sequences lengths.  \n",
    "And turn the Dataframes into ndarrays."
   ]
  },
  {
   "cell_type": "markdown",
   "id": "76699499",
   "metadata": {},
   "source": [
    "#### Visualize histogram of sequences lengths."
   ]
  },
  {
   "cell_type": "markdown",
   "id": "b3477111",
   "metadata": {},
   "source": [
    "Entire dataset sequences lengths."
   ]
  },
  {
   "cell_type": "code",
   "execution_count": 27,
   "id": "876907d8",
   "metadata": {},
   "outputs": [
    {
     "data": {
      "application/vnd.plotly.v1+json": {
       "config": {
        "plotlyServerURL": "https://plot.ly"
       },
       "data": [
        {
         "bingroup": "x",
         "hovertemplate": "variable=0<br>value=%{x}<br>count=%{y}<extra></extra>",
         "legendgroup": "0",
         "marker": {
          "color": "#636efa",
          "pattern": {
           "shape": ""
          }
         },
         "name": "0",
         "orientation": "v",
         "showlegend": true,
         "type": "histogram",
         "x": {
          "bdata": "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",
          "dtype": "i2"
         },
         "xaxis": "x",
         "yaxis": "y"
        }
       ],
       "layout": {
        "barmode": "relative",
        "legend": {
         "title": {
          "text": "variable"
         },
         "tracegroupgap": 0
        },
        "template": {
         "data": {
          "bar": [
           {
            "error_x": {
             "color": "#2a3f5f"
            },
            "error_y": {
             "color": "#2a3f5f"
            },
            "marker": {
             "line": {
              "color": "#E5ECF6",
              "width": 0.5
             },
             "pattern": {
              "fillmode": "overlay",
              "size": 10,
              "solidity": 0.2
             }
            },
            "type": "bar"
           }
          ],
          "barpolar": [
           {
            "marker": {
             "line": {
              "color": "#E5ECF6",
              "width": 0.5
             },
             "pattern": {
              "fillmode": "overlay",
              "size": 10,
              "solidity": 0.2
             }
            },
            "type": "barpolar"
           }
          ],
          "carpet": [
           {
            "aaxis": {
             "endlinecolor": "#2a3f5f",
             "gridcolor": "white",
             "linecolor": "white",
             "minorgridcolor": "white",
             "startlinecolor": "#2a3f5f"
            },
            "baxis": {
             "endlinecolor": "#2a3f5f",
             "gridcolor": "white",
             "linecolor": "white",
             "minorgridcolor": "white",
             "startlinecolor": "#2a3f5f"
            },
            "type": "carpet"
           }
          ],
          "choropleth": [
           {
            "colorbar": {
             "outlinewidth": 0,
             "ticks": ""
            },
            "type": "choropleth"
           }
          ],
          "contour": [
           {
            "colorbar": {
             "outlinewidth": 0,
             "ticks": ""
            },
            "colorscale": [
             [
              0,
              "#0d0887"
             ],
             [
              0.1111111111111111,
              "#46039f"
             ],
             [
              0.2222222222222222,
              "#7201a8"
             ],
             [
              0.3333333333333333,
              "#9c179e"
             ],
             [
              0.4444444444444444,
              "#bd3786"
             ],
             [
              0.5555555555555556,
              "#d8576b"
             ],
             [
              0.6666666666666666,
              "#ed7953"
             ],
             [
              0.7777777777777778,
              "#fb9f3a"
             ],
             [
              0.8888888888888888,
              "#fdca26"
             ],
             [
              1,
              "#f0f921"
             ]
            ],
            "type": "contour"
           }
          ],
          "contourcarpet": [
           {
            "colorbar": {
             "outlinewidth": 0,
             "ticks": ""
            },
            "type": "contourcarpet"
           }
          ],
          "heatmap": [
           {
            "colorbar": {
             "outlinewidth": 0,
             "ticks": ""
            },
            "colorscale": [
             [
              0,
              "#0d0887"
             ],
             [
              0.1111111111111111,
              "#46039f"
             ],
             [
              0.2222222222222222,
              "#7201a8"
             ],
             [
              0.3333333333333333,
              "#9c179e"
             ],
             [
              0.4444444444444444,
              "#bd3786"
             ],
             [
              0.5555555555555556,
              "#d8576b"
             ],
             [
              0.6666666666666666,
              "#ed7953"
             ],
             [
              0.7777777777777778,
              "#fb9f3a"
             ],
             [
              0.8888888888888888,
              "#fdca26"
             ],
             [
              1,
              "#f0f921"
             ]
            ],
            "type": "heatmap"
           }
          ],
          "histogram": [
           {
            "marker": {
             "pattern": {
              "fillmode": "overlay",
              "size": 10,
              "solidity": 0.2
             }
            },
            "type": "histogram"
           }
          ],
          "histogram2d": [
           {
            "colorbar": {
             "outlinewidth": 0,
             "ticks": ""
            },
            "colorscale": [
             [
              0,
              "#0d0887"
             ],
             [
              0.1111111111111111,
              "#46039f"
             ],
             [
              0.2222222222222222,
              "#7201a8"
             ],
             [
              0.3333333333333333,
              "#9c179e"
             ],
             [
              0.4444444444444444,
              "#bd3786"
             ],
             [
              0.5555555555555556,
              "#d8576b"
             ],
             [
              0.6666666666666666,
              "#ed7953"
             ],
             [
              0.7777777777777778,
              "#fb9f3a"
             ],
             [
              0.8888888888888888,
              "#fdca26"
             ],
             [
              1,
              "#f0f921"
             ]
            ],
            "type": "histogram2d"
           }
          ],
          "histogram2dcontour": [
           {
            "colorbar": {
             "outlinewidth": 0,
             "ticks": ""
            },
            "colorscale": [
             [
              0,
              "#0d0887"
             ],
             [
              0.1111111111111111,
              "#46039f"
             ],
             [
              0.2222222222222222,
              "#7201a8"
             ],
             [
              0.3333333333333333,
              "#9c179e"
             ],
             [
              0.4444444444444444,
              "#bd3786"
             ],
             [
              0.5555555555555556,
              "#d8576b"
             ],
             [
              0.6666666666666666,
              "#ed7953"
             ],
             [
              0.7777777777777778,
              "#fb9f3a"
             ],
             [
              0.8888888888888888,
              "#fdca26"
             ],
             [
              1,
              "#f0f921"
             ]
            ],
            "type": "histogram2dcontour"
           }
          ],
          "mesh3d": [
           {
            "colorbar": {
             "outlinewidth": 0,
             "ticks": ""
            },
            "type": "mesh3d"
           }
          ],
          "parcoords": [
           {
            "line": {
             "colorbar": {
              "outlinewidth": 0,
              "ticks": ""
             }
            },
            "type": "parcoords"
           }
          ],
          "pie": [
           {
            "automargin": true,
            "type": "pie"
           }
          ],
          "scatter": [
           {
            "fillpattern": {
             "fillmode": "overlay",
             "size": 10,
             "solidity": 0.2
            },
            "type": "scatter"
           }
          ],
          "scatter3d": [
           {
            "line": {
             "colorbar": {
              "outlinewidth": 0,
              "ticks": ""
             }
            },
            "marker": {
             "colorbar": {
              "outlinewidth": 0,
              "ticks": ""
             }
            },
            "type": "scatter3d"
           }
          ],
          "scattercarpet": [
           {
            "marker": {
             "colorbar": {
              "outlinewidth": 0,
              "ticks": ""
             }
            },
            "type": "scattercarpet"
           }
          ],
          "scattergeo": [
           {
            "marker": {
             "colorbar": {
              "outlinewidth": 0,
              "ticks": ""
             }
            },
            "type": "scattergeo"
           }
          ],
          "scattergl": [
           {
            "marker": {
             "colorbar": {
              "outlinewidth": 0,
              "ticks": ""
             }
            },
            "type": "scattergl"
           }
          ],
          "scattermap": [
           {
            "marker": {
             "colorbar": {
              "outlinewidth": 0,
              "ticks": ""
             }
            },
            "type": "scattermap"
           }
          ],
          "scattermapbox": [
           {
            "marker": {
             "colorbar": {
              "outlinewidth": 0,
              "ticks": ""
             }
            },
            "type": "scattermapbox"
           }
          ],
          "scatterpolar": [
           {
            "marker": {
             "colorbar": {
              "outlinewidth": 0,
              "ticks": ""
             }
            },
            "type": "scatterpolar"
           }
          ],
          "scatterpolargl": [
           {
            "marker": {
             "colorbar": {
              "outlinewidth": 0,
              "ticks": ""
             }
            },
            "type": "scatterpolargl"
           }
          ],
          "scatterternary": [
           {
            "marker": {
             "colorbar": {
              "outlinewidth": 0,
              "ticks": ""
             }
            },
            "type": "scatterternary"
           }
          ],
          "surface": [
           {
            "colorbar": {
             "outlinewidth": 0,
             "ticks": ""
            },
            "colorscale": [
             [
              0,
              "#0d0887"
             ],
             [
              0.1111111111111111,
              "#46039f"
             ],
             [
              0.2222222222222222,
              "#7201a8"
             ],
             [
              0.3333333333333333,
              "#9c179e"
             ],
             [
              0.4444444444444444,
              "#bd3786"
             ],
             [
              0.5555555555555556,
              "#d8576b"
             ],
             [
              0.6666666666666666,
              "#ed7953"
             ],
             [
              0.7777777777777778,
              "#fb9f3a"
             ],
             [
              0.8888888888888888,
              "#fdca26"
             ],
             [
              1,
              "#f0f921"
             ]
            ],
            "type": "surface"
           }
          ],
          "table": [
           {
            "cells": {
             "fill": {
              "color": "#EBF0F8"
             },
             "line": {
              "color": "white"
             }
            },
            "header": {
             "fill": {
              "color": "#C8D4E3"
             },
             "line": {
              "color": "white"
             }
            },
            "type": "table"
           }
          ]
         },
         "layout": {
          "annotationdefaults": {
           "arrowcolor": "#2a3f5f",
           "arrowhead": 0,
           "arrowwidth": 1
          },
          "autotypenumbers": "strict",
          "coloraxis": {
           "colorbar": {
            "outlinewidth": 0,
            "ticks": ""
           }
          },
          "colorscale": {
           "diverging": [
            [
             0,
             "#8e0152"
            ],
            [
             0.1,
             "#c51b7d"
            ],
            [
             0.2,
             "#de77ae"
            ],
            [
             0.3,
             "#f1b6da"
            ],
            [
             0.4,
             "#fde0ef"
            ],
            [
             0.5,
             "#f7f7f7"
            ],
            [
             0.6,
             "#e6f5d0"
            ],
            [
             0.7,
             "#b8e186"
            ],
            [
             0.8,
             "#7fbc41"
            ],
            [
             0.9,
             "#4d9221"
            ],
            [
             1,
             "#276419"
            ]
           ],
           "sequential": [
            [
             0,
             "#0d0887"
            ],
            [
             0.1111111111111111,
             "#46039f"
            ],
            [
             0.2222222222222222,
             "#7201a8"
            ],
            [
             0.3333333333333333,
             "#9c179e"
            ],
            [
             0.4444444444444444,
             "#bd3786"
            ],
            [
             0.5555555555555556,
             "#d8576b"
            ],
            [
             0.6666666666666666,
             "#ed7953"
            ],
            [
             0.7777777777777778,
             "#fb9f3a"
            ],
            [
             0.8888888888888888,
             "#fdca26"
            ],
            [
             1,
             "#f0f921"
            ]
           ],
           "sequentialminus": [
            [
             0,
             "#0d0887"
            ],
            [
             0.1111111111111111,
             "#46039f"
            ],
            [
             0.2222222222222222,
             "#7201a8"
            ],
            [
             0.3333333333333333,
             "#9c179e"
            ],
            [
             0.4444444444444444,
             "#bd3786"
            ],
            [
             0.5555555555555556,
             "#d8576b"
            ],
            [
             0.6666666666666666,
             "#ed7953"
            ],
            [
             0.7777777777777778,
             "#fb9f3a"
            ],
            [
             0.8888888888888888,
             "#fdca26"
            ],
            [
             1,
             "#f0f921"
            ]
           ]
          },
          "colorway": [
           "#636efa",
           "#EF553B",
           "#00cc96",
           "#ab63fa",
           "#FFA15A",
           "#19d3f3",
           "#FF6692",
           "#B6E880",
           "#FF97FF",
           "#FECB52"
          ],
          "font": {
           "color": "#2a3f5f"
          },
          "geo": {
           "bgcolor": "white",
           "lakecolor": "white",
           "landcolor": "#E5ECF6",
           "showlakes": true,
           "showland": true,
           "subunitcolor": "white"
          },
          "hoverlabel": {
           "align": "left"
          },
          "hovermode": "closest",
          "mapbox": {
           "style": "light"
          },
          "paper_bgcolor": "white",
          "plot_bgcolor": "#E5ECF6",
          "polar": {
           "angularaxis": {
            "gridcolor": "white",
            "linecolor": "white",
            "ticks": ""
           },
           "bgcolor": "#E5ECF6",
           "radialaxis": {
            "gridcolor": "white",
            "linecolor": "white",
            "ticks": ""
           }
          },
          "scene": {
           "xaxis": {
            "backgroundcolor": "#E5ECF6",
            "gridcolor": "white",
            "gridwidth": 2,
            "linecolor": "white",
            "showbackground": true,
            "ticks": "",
            "zerolinecolor": "white"
           },
           "yaxis": {
            "backgroundcolor": "#E5ECF6",
            "gridcolor": "white",
            "gridwidth": 2,
            "linecolor": "white",
            "showbackground": true,
            "ticks": "",
            "zerolinecolor": "white"
           },
           "zaxis": {
            "backgroundcolor": "#E5ECF6",
            "gridcolor": "white",
            "gridwidth": 2,
            "linecolor": "white",
            "showbackground": true,
            "ticks": "",
            "zerolinecolor": "white"
           }
          },
          "shapedefaults": {
           "line": {
            "color": "#2a3f5f"
           }
          },
          "ternary": {
           "aaxis": {
            "gridcolor": "white",
            "linecolor": "white",
            "ticks": ""
           },
           "baxis": {
            "gridcolor": "white",
            "linecolor": "white",
            "ticks": ""
           },
           "bgcolor": "#E5ECF6",
           "caxis": {
            "gridcolor": "white",
            "linecolor": "white",
            "ticks": ""
           }
          },
          "title": {
           "x": 0.05
          },
          "xaxis": {
           "automargin": true,
           "gridcolor": "white",
           "linecolor": "white",
           "ticks": "",
           "title": {
            "standoff": 15
           },
           "zerolinecolor": "white",
           "zerolinewidth": 2
          },
          "yaxis": {
           "automargin": true,
           "gridcolor": "white",
           "linecolor": "white",
           "ticks": "",
           "title": {
            "standoff": 15
           },
           "zerolinecolor": "white",
           "zerolinewidth": 2
          }
         }
        },
        "title": {
         "text": "Sequence length frequency"
        },
        "xaxis": {
         "anchor": "y",
         "domain": [
          0,
          1
         ],
         "title": {
          "text": "value"
         }
        },
        "yaxis": {
         "anchor": "x",
         "domain": [
          0,
          1
         ],
         "title": {
          "text": "count"
         }
        }
       }
      }
     },
     "metadata": {},
     "output_type": "display_data"
    }
   ],
   "source": [
    "px.histogram(\n",
    "    (\n",
    "        df\n",
    "        .groupby(\"sequence_id\", observed=True)\n",
    "        .size()\n",
    "    ),\n",
    "    title=\"Sequence length frequency\",\n",
    ")"
   ]
  },
  {
   "cell_type": "markdown",
   "id": "24e72f4e",
   "metadata": {},
   "source": [
    "Second(to avoid always look at the first one) Train/validation split sequences lengths comparaison."
   ]
  },
  {
   "cell_type": "code",
   "execution_count": 28,
   "id": "1a39bfce",
   "metadata": {},
   "outputs": [
    {
     "data": {
      "application/vnd.plotly.v1+json": {
       "config": {
        "plotlyServerURL": "https://plot.ly"
       },
       "data": [
        {
         "bingroup": "x",
         "hovertemplate": "set=Train<br>length=%{x}<br>count=%{y}<extra></extra>",
         "legendgroup": "Train",
         "marker": {
          "color": "#636efa",
          "opacity": 0.5,
          "pattern": {
           "shape": ""
          }
         },
         "name": "Train",
         "nbinsx": 50,
         "opacity": 0.8,
         "orientation": "v",
         "showlegend": true,
         "type": "histogram",
         "x": {
          "bdata": "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",
          "dtype": "i2"
         },
         "xaxis": "x",
         "yaxis": "y"
        },
        {
         "bingroup": "x",
         "hovertemplate": "set=Validation<br>length=%{x}<br>count=%{y}<extra></extra>",
         "legendgroup": "Validation",
         "marker": {
          "color": "#EF553B",
          "opacity": 0.5,
          "pattern": {
           "shape": ""
          }
         },
         "name": "Validation",
         "nbinsx": 50,
         "opacity": 0.8,
         "orientation": "v",
         "showlegend": true,
         "type": "histogram",
         "x": {
          "bdata": "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",
          "dtype": "i2"
         },
         "xaxis": "x",
         "yaxis": "y"
        }
       ],
       "layout": {
        "barmode": "overlay",
        "legend": {
         "title": {
          "text": "set"
         },
         "tracegroupgap": 0
        },
        "template": {
         "data": {
          "bar": [
           {
            "error_x": {
             "color": "#2a3f5f"
            },
            "error_y": {
             "color": "#2a3f5f"
            },
            "marker": {
             "line": {
              "color": "#E5ECF6",
              "width": 0.5
             },
             "pattern": {
              "fillmode": "overlay",
              "size": 10,
              "solidity": 0.2
             }
            },
            "type": "bar"
           }
          ],
          "barpolar": [
           {
            "marker": {
             "line": {
              "color": "#E5ECF6",
              "width": 0.5
             },
             "pattern": {
              "fillmode": "overlay",
              "size": 10,
              "solidity": 0.2
             }
            },
            "type": "barpolar"
           }
          ],
          "carpet": [
           {
            "aaxis": {
             "endlinecolor": "#2a3f5f",
             "gridcolor": "white",
             "linecolor": "white",
             "minorgridcolor": "white",
             "startlinecolor": "#2a3f5f"
            },
            "baxis": {
             "endlinecolor": "#2a3f5f",
             "gridcolor": "white",
             "linecolor": "white",
             "minorgridcolor": "white",
             "startlinecolor": "#2a3f5f"
            },
            "type": "carpet"
           }
          ],
          "choropleth": [
           {
            "colorbar": {
             "outlinewidth": 0,
             "ticks": ""
            },
            "type": "choropleth"
           }
          ],
          "contour": [
           {
            "colorbar": {
             "outlinewidth": 0,
             "ticks": ""
            },
            "colorscale": [
             [
              0,
              "#0d0887"
             ],
             [
              0.1111111111111111,
              "#46039f"
             ],
             [
              0.2222222222222222,
              "#7201a8"
             ],
             [
              0.3333333333333333,
              "#9c179e"
             ],
             [
              0.4444444444444444,
              "#bd3786"
             ],
             [
              0.5555555555555556,
              "#d8576b"
             ],
             [
              0.6666666666666666,
              "#ed7953"
             ],
             [
              0.7777777777777778,
              "#fb9f3a"
             ],
             [
              0.8888888888888888,
              "#fdca26"
             ],
             [
              1,
              "#f0f921"
             ]
            ],
            "type": "contour"
           }
          ],
          "contourcarpet": [
           {
            "colorbar": {
             "outlinewidth": 0,
             "ticks": ""
            },
            "type": "contourcarpet"
           }
          ],
          "heatmap": [
           {
            "colorbar": {
             "outlinewidth": 0,
             "ticks": ""
            },
            "colorscale": [
             [
              0,
              "#0d0887"
             ],
             [
              0.1111111111111111,
              "#46039f"
             ],
             [
              0.2222222222222222,
              "#7201a8"
             ],
             [
              0.3333333333333333,
              "#9c179e"
             ],
             [
              0.4444444444444444,
              "#bd3786"
             ],
             [
              0.5555555555555556,
              "#d8576b"
             ],
             [
              0.6666666666666666,
              "#ed7953"
             ],
             [
              0.7777777777777778,
              "#fb9f3a"
             ],
             [
              0.8888888888888888,
              "#fdca26"
             ],
             [
              1,
              "#f0f921"
             ]
            ],
            "type": "heatmap"
           }
          ],
          "histogram": [
           {
            "marker": {
             "pattern": {
              "fillmode": "overlay",
              "size": 10,
              "solidity": 0.2
             }
            },
            "type": "histogram"
           }
          ],
          "histogram2d": [
           {
            "colorbar": {
             "outlinewidth": 0,
             "ticks": ""
            },
            "colorscale": [
             [
              0,
              "#0d0887"
             ],
             [
              0.1111111111111111,
              "#46039f"
             ],
             [
              0.2222222222222222,
              "#7201a8"
             ],
             [
              0.3333333333333333,
              "#9c179e"
             ],
             [
              0.4444444444444444,
              "#bd3786"
             ],
             [
              0.5555555555555556,
              "#d8576b"
             ],
             [
              0.6666666666666666,
              "#ed7953"
             ],
             [
              0.7777777777777778,
              "#fb9f3a"
             ],
             [
              0.8888888888888888,
              "#fdca26"
             ],
             [
              1,
              "#f0f921"
             ]
            ],
            "type": "histogram2d"
           }
          ],
          "histogram2dcontour": [
           {
            "colorbar": {
             "outlinewidth": 0,
             "ticks": ""
            },
            "colorscale": [
             [
              0,
              "#0d0887"
             ],
             [
              0.1111111111111111,
              "#46039f"
             ],
             [
              0.2222222222222222,
              "#7201a8"
             ],
             [
              0.3333333333333333,
              "#9c179e"
             ],
             [
              0.4444444444444444,
              "#bd3786"
             ],
             [
              0.5555555555555556,
              "#d8576b"
             ],
             [
              0.6666666666666666,
              "#ed7953"
             ],
             [
              0.7777777777777778,
              "#fb9f3a"
             ],
             [
              0.8888888888888888,
              "#fdca26"
             ],
             [
              1,
              "#f0f921"
             ]
            ],
            "type": "histogram2dcontour"
           }
          ],
          "mesh3d": [
           {
            "colorbar": {
             "outlinewidth": 0,
             "ticks": ""
            },
            "type": "mesh3d"
           }
          ],
          "parcoords": [
           {
            "line": {
             "colorbar": {
              "outlinewidth": 0,
              "ticks": ""
             }
            },
            "type": "parcoords"
           }
          ],
          "pie": [
           {
            "automargin": true,
            "type": "pie"
           }
          ],
          "scatter": [
           {
            "fillpattern": {
             "fillmode": "overlay",
             "size": 10,
             "solidity": 0.2
            },
            "type": "scatter"
           }
          ],
          "scatter3d": [
           {
            "line": {
             "colorbar": {
              "outlinewidth": 0,
              "ticks": ""
             }
            },
            "marker": {
             "colorbar": {
              "outlinewidth": 0,
              "ticks": ""
             }
            },
            "type": "scatter3d"
           }
          ],
          "scattercarpet": [
           {
            "marker": {
             "colorbar": {
              "outlinewidth": 0,
              "ticks": ""
             }
            },
            "type": "scattercarpet"
           }
          ],
          "scattergeo": [
           {
            "marker": {
             "colorbar": {
              "outlinewidth": 0,
              "ticks": ""
             }
            },
            "type": "scattergeo"
           }
          ],
          "scattergl": [
           {
            "marker": {
             "colorbar": {
              "outlinewidth": 0,
              "ticks": ""
             }
            },
            "type": "scattergl"
           }
          ],
          "scattermap": [
           {
            "marker": {
             "colorbar": {
              "outlinewidth": 0,
              "ticks": ""
             }
            },
            "type": "scattermap"
           }
          ],
          "scattermapbox": [
           {
            "marker": {
             "colorbar": {
              "outlinewidth": 0,
              "ticks": ""
             }
            },
            "type": "scattermapbox"
           }
          ],
          "scatterpolar": [
           {
            "marker": {
             "colorbar": {
              "outlinewidth": 0,
              "ticks": ""
             }
            },
            "type": "scatterpolar"
           }
          ],
          "scatterpolargl": [
           {
            "marker": {
             "colorbar": {
              "outlinewidth": 0,
              "ticks": ""
             }
            },
            "type": "scatterpolargl"
           }
          ],
          "scatterternary": [
           {
            "marker": {
             "colorbar": {
              "outlinewidth": 0,
              "ticks": ""
             }
            },
            "type": "scatterternary"
           }
          ],
          "surface": [
           {
            "colorbar": {
             "outlinewidth": 0,
             "ticks": ""
            },
            "colorscale": [
             [
              0,
              "#0d0887"
             ],
             [
              0.1111111111111111,
              "#46039f"
             ],
             [
              0.2222222222222222,
              "#7201a8"
             ],
             [
              0.3333333333333333,
              "#9c179e"
             ],
             [
              0.4444444444444444,
              "#bd3786"
             ],
             [
              0.5555555555555556,
              "#d8576b"
             ],
             [
              0.6666666666666666,
              "#ed7953"
             ],
             [
              0.7777777777777778,
              "#fb9f3a"
             ],
             [
              0.8888888888888888,
              "#fdca26"
             ],
             [
              1,
              "#f0f921"
             ]
            ],
            "type": "surface"
           }
          ],
          "table": [
           {
            "cells": {
             "fill": {
              "color": "#EBF0F8"
             },
             "line": {
              "color": "white"
             }
            },
            "header": {
             "fill": {
              "color": "#C8D4E3"
             },
             "line": {
              "color": "white"
             }
            },
            "type": "table"
           }
          ]
         },
         "layout": {
          "annotationdefaults": {
           "arrowcolor": "#2a3f5f",
           "arrowhead": 0,
           "arrowwidth": 1
          },
          "autotypenumbers": "strict",
          "coloraxis": {
           "colorbar": {
            "outlinewidth": 0,
            "ticks": ""
           }
          },
          "colorscale": {
           "diverging": [
            [
             0,
             "#8e0152"
            ],
            [
             0.1,
             "#c51b7d"
            ],
            [
             0.2,
             "#de77ae"
            ],
            [
             0.3,
             "#f1b6da"
            ],
            [
             0.4,
             "#fde0ef"
            ],
            [
             0.5,
             "#f7f7f7"
            ],
            [
             0.6,
             "#e6f5d0"
            ],
            [
             0.7,
             "#b8e186"
            ],
            [
             0.8,
             "#7fbc41"
            ],
            [
             0.9,
             "#4d9221"
            ],
            [
             1,
             "#276419"
            ]
           ],
           "sequential": [
            [
             0,
             "#0d0887"
            ],
            [
             0.1111111111111111,
             "#46039f"
            ],
            [
             0.2222222222222222,
             "#7201a8"
            ],
            [
             0.3333333333333333,
             "#9c179e"
            ],
            [
             0.4444444444444444,
             "#bd3786"
            ],
            [
             0.5555555555555556,
             "#d8576b"
            ],
            [
             0.6666666666666666,
             "#ed7953"
            ],
            [
             0.7777777777777778,
             "#fb9f3a"
            ],
            [
             0.8888888888888888,
             "#fdca26"
            ],
            [
             1,
             "#f0f921"
            ]
           ],
           "sequentialminus": [
            [
             0,
             "#0d0887"
            ],
            [
             0.1111111111111111,
             "#46039f"
            ],
            [
             0.2222222222222222,
             "#7201a8"
            ],
            [
             0.3333333333333333,
             "#9c179e"
            ],
            [
             0.4444444444444444,
             "#bd3786"
            ],
            [
             0.5555555555555556,
             "#d8576b"
            ],
            [
             0.6666666666666666,
             "#ed7953"
            ],
            [
             0.7777777777777778,
             "#fb9f3a"
            ],
            [
             0.8888888888888888,
             "#fdca26"
            ],
            [
             1,
             "#f0f921"
            ]
           ]
          },
          "colorway": [
           "#636efa",
           "#EF553B",
           "#00cc96",
           "#ab63fa",
           "#FFA15A",
           "#19d3f3",
           "#FF6692",
           "#B6E880",
           "#FF97FF",
           "#FECB52"
          ],
          "font": {
           "color": "#2a3f5f"
          },
          "geo": {
           "bgcolor": "white",
           "lakecolor": "white",
           "landcolor": "#E5ECF6",
           "showlakes": true,
           "showland": true,
           "subunitcolor": "white"
          },
          "hoverlabel": {
           "align": "left"
          },
          "hovermode": "closest",
          "mapbox": {
           "style": "light"
          },
          "paper_bgcolor": "white",
          "plot_bgcolor": "#E5ECF6",
          "polar": {
           "angularaxis": {
            "gridcolor": "white",
            "linecolor": "white",
            "ticks": ""
           },
           "bgcolor": "#E5ECF6",
           "radialaxis": {
            "gridcolor": "white",
            "linecolor": "white",
            "ticks": ""
           }
          },
          "scene": {
           "xaxis": {
            "backgroundcolor": "#E5ECF6",
            "gridcolor": "white",
            "gridwidth": 2,
            "linecolor": "white",
            "showbackground": true,
            "ticks": "",
            "zerolinecolor": "white"
           },
           "yaxis": {
            "backgroundcolor": "#E5ECF6",
            "gridcolor": "white",
            "gridwidth": 2,
            "linecolor": "white",
            "showbackground": true,
            "ticks": "",
            "zerolinecolor": "white"
           },
           "zaxis": {
            "backgroundcolor": "#E5ECF6",
            "gridcolor": "white",
            "gridwidth": 2,
            "linecolor": "white",
            "showbackground": true,
            "ticks": "",
            "zerolinecolor": "white"
           }
          },
          "shapedefaults": {
           "line": {
            "color": "#2a3f5f"
           }
          },
          "ternary": {
           "aaxis": {
            "gridcolor": "white",
            "linecolor": "white",
            "ticks": ""
           },
           "baxis": {
            "gridcolor": "white",
            "linecolor": "white",
            "ticks": ""
           },
           "bgcolor": "#E5ECF6",
           "caxis": {
            "gridcolor": "white",
            "linecolor": "white",
            "ticks": ""
           }
          },
          "title": {
           "x": 0.05
          },
          "xaxis": {
           "automargin": true,
           "gridcolor": "white",
           "linecolor": "white",
           "ticks": "",
           "title": {
            "standoff": 15
           },
           "zerolinecolor": "white",
           "zerolinewidth": 2
          },
          "yaxis": {
           "automargin": true,
           "gridcolor": "white",
           "linecolor": "white",
           "ticks": "",
           "title": {
            "standoff": 15
           },
           "zerolinecolor": "white",
           "zerolinewidth": 2
          }
         }
        },
        "title": {
         "text": "Sequence Length Distribution: Train vs Validation"
        },
        "xaxis": {
         "anchor": "y",
         "domain": [
          0,
          1
         ],
         "title": {
          "text": "length"
         }
        },
        "yaxis": {
         "anchor": "x",
         "domain": [
          0,
          1
         ],
         "title": {
          "text": "count"
         }
        }
       }
      }
     },
     "metadata": {},
     "output_type": "display_data"
    }
   ],
   "source": [
    "def get_set_sequences_lengths(set:DF, name:str) -> DF:\n",
    "    return (\n",
    "        set\n",
    "        .groupby(\"sequence_id\", observed=True)\n",
    "        .size()\n",
    "        .reset_index(name=\"length\")\n",
    "        .assign(set=name)\n",
    "    )\n",
    "\n",
    "full_se_lengths = pd.concat((\n",
    "    get_set_sequences_lengths(folds[2][0], \"Train\"),\n",
    "    get_set_sequences_lengths(folds[2][1], \"Validation\"),\n",
    "))\n",
    "\n",
    "fig = px.histogram(\n",
    "    full_se_lengths,\n",
    "    x=\"length\",\n",
    "    color=\"set\",\n",
    "    barmode=\"overlay\",  # or 'group' if you want side-by-side bars\n",
    "    nbins=50,           # adjust bin size if needed\n",
    "    title=\"Sequence Length Distribution: Train vs Validation\"\n",
    ")\n",
    "\n",
    "fig.update_traces(opacity=0.8)  # better visibility with overlay\n",
    "fig.show()\n"
   ]
  },
  {
   "cell_type": "code",
   "execution_count": 29,
   "id": "c1d46756",
   "metadata": {},
   "outputs": [
    {
     "name": "stdout",
     "output_type": "stream",
     "text": [
      "train normed sequence len: 127\n",
      "validation normed sequence len: 122\n",
      "\n",
      "train normed sequence len: 124\n",
      "validation normed sequence len: 136\n",
      "\n",
      "train normed sequence len: 129\n",
      "validation normed sequence len: 122\n",
      "\n",
      "train normed sequence len: 129\n",
      "validation normed sequence len: 121\n",
      "\n",
      "train normed sequence len: 126\n",
      "validation normed sequence len: 127\n",
      "\n"
     ]
    }
   ],
   "source": [
    "for train, val in folds:\n",
    "    print(\"train normed sequence len:\", int(train.groupby(\"sequence_id\", observed=True).size().quantile(SEQUENCE_NORMED_LEN_QUANTILE)))\n",
    "    print(\"validation normed sequence len:\", int(val.groupby(\"sequence_id\", observed=True).size().quantile(SEQUENCE_NORMED_LEN_QUANTILE)))\n",
    "    print()"
   ]
  },
  {
   "cell_type": "markdown",
   "id": "c89d5f21",
   "metadata": {},
   "source": [
    "#### Sequence length norm implementation"
   ]
  },
  {
   "cell_type": "code",
   "execution_count": 30,
   "id": "5d128055",
   "metadata": {},
   "outputs": [
    {
     "data": {
      "application/vnd.jupyter.widget-view+json": {
       "model_id": "f74218f9a0a747409a6e3b1ae6f8ea25",
       "version_major": 2,
       "version_minor": 0
      },
      "text/plain": [
       "  0%|          | 0/6519 [00:00<?, ?it/s]"
      ]
     },
     "metadata": {},
     "output_type": "display_data"
    },
    {
     "data": {
      "application/vnd.jupyter.widget-view+json": {
       "model_id": "942ab66356f04a77be3fe97ddf3c93ac",
       "version_major": 2,
       "version_minor": 0
      },
      "text/plain": [
       "  0%|          | 0/1632 [00:00<?, ?it/s]"
      ]
     },
     "metadata": {},
     "output_type": "display_data"
    },
    {
     "data": {
      "application/vnd.jupyter.widget-view+json": {
       "model_id": "acbf3afa2990409194e0ec40563c09ba",
       "version_major": 2,
       "version_minor": 0
      },
      "text/plain": [
       "  0%|          | 0/6466 [00:00<?, ?it/s]"
      ]
     },
     "metadata": {},
     "output_type": "display_data"
    },
    {
     "data": {
      "application/vnd.jupyter.widget-view+json": {
       "model_id": "ace71dbffe434c5c94de83c5149f1035",
       "version_major": 2,
       "version_minor": 0
      },
      "text/plain": [
       "  0%|          | 0/1685 [00:00<?, ?it/s]"
      ]
     },
     "metadata": {},
     "output_type": "display_data"
    },
    {
     "data": {
      "application/vnd.jupyter.widget-view+json": {
       "model_id": "e66bc7e2914b49c39f87cd13664a115d",
       "version_major": 2,
       "version_minor": 0
      },
      "text/plain": [
       "  0%|          | 0/6524 [00:00<?, ?it/s]"
      ]
     },
     "metadata": {},
     "output_type": "display_data"
    },
    {
     "data": {
      "application/vnd.jupyter.widget-view+json": {
       "model_id": "6f74279f504a463bb04a95ad9496e512",
       "version_major": 2,
       "version_minor": 0
      },
      "text/plain": [
       "  0%|          | 0/1627 [00:00<?, ?it/s]"
      ]
     },
     "metadata": {},
     "output_type": "display_data"
    },
    {
     "data": {
      "application/vnd.jupyter.widget-view+json": {
       "model_id": "d84eb23c976d446b87de164162b56fb5",
       "version_major": 2,
       "version_minor": 0
      },
      "text/plain": [
       "  0%|          | 0/6519 [00:00<?, ?it/s]"
      ]
     },
     "metadata": {},
     "output_type": "display_data"
    },
    {
     "data": {
      "application/vnd.jupyter.widget-view+json": {
       "model_id": "98f16b232dde4900a1ebd37cc99bc488",
       "version_major": 2,
       "version_minor": 0
      },
      "text/plain": [
       "  0%|          | 0/1632 [00:00<?, ?it/s]"
      ]
     },
     "metadata": {},
     "output_type": "display_data"
    },
    {
     "data": {
      "application/vnd.jupyter.widget-view+json": {
       "model_id": "e1bec95257634547b86d87b7e41b8652",
       "version_major": 2,
       "version_minor": 0
      },
      "text/plain": [
       "  0%|          | 0/6576 [00:00<?, ?it/s]"
      ]
     },
     "metadata": {},
     "output_type": "display_data"
    },
    {
     "data": {
      "application/vnd.jupyter.widget-view+json": {
       "model_id": "59f16765444149a7b8a2a87775f97829",
       "version_major": 2,
       "version_minor": 0
      },
      "text/plain": [
       "  0%|          | 0/1575 [00:00<?, ?it/s]"
      ]
     },
     "metadata": {},
     "output_type": "display_data"
    }
   ],
   "source": [
    "def length_normed_sequence_feat_arr(sequence: DF, normed_sequence_len: int) -> ndarray:\n",
    "    features = (\n",
    "        sequence\n",
    "        .loc[:, get_feature_cols(df)]\n",
    "        .values\n",
    "    )\n",
    "    len_diff = abs(normed_sequence_len - len(features))\n",
    "    if len(features) < normed_sequence_len:\n",
    "        padded_features = np.pad(\n",
    "            features,\n",
    "            ((len_diff // 2 + len_diff % 2, len_diff // 2), (0, 0)),\n",
    "        )\n",
    "        return padded_features\n",
    "    elif len(features) > normed_sequence_len:\n",
    "        return features[len_diff // 2:-len_diff // 2]\n",
    "    else:\n",
    "        return features\n",
    "\n",
    "def df_to_ndarrays(df:DF, normed_sequence_len:int) -> tuple[np.ndarray, np.ndarray]:\n",
    "    sequence_it = df.groupby(\"sequence_id\", observed=True, as_index=False)\n",
    "    x = np.empty(\n",
    "        shape=(len(sequence_it), normed_sequence_len, len(get_feature_cols(df))),\n",
    "        dtype=\"float32\"\n",
    "    )\n",
    "    y = np.empty(\n",
    "        shape=(len(sequence_it), len(TARGET_NAMES)),\n",
    "        dtype=\"float32\"\n",
    "    )\n",
    "    for sequence_idx, (_, sequence) in tqdm(enumerate(sequence_it), total=len(sequence_it)):\n",
    "        normed_seq_feat_arr = length_normed_sequence_feat_arr(sequence, normed_sequence_len)\n",
    "        x[sequence_idx] = normed_seq_feat_arr\n",
    "        # Take the first value as they are(or at least should be) all the same in a single sequence\n",
    "        y[sequence_idx] = sequence[TARGET_NAMES].iloc[0].values\n",
    "\n",
    "    return x, y\n",
    "\n",
    "def get_normed_seq_len(dataset:DF) -> int:\n",
    "    return int(\n",
    "        dataset\n",
    "        .groupby(\"sequence_id\", observed=True)\n",
    "        .size()\n",
    "        .quantile(SEQUENCE_NORMED_LEN_QUANTILE)\n",
    "    )\n",
    "\n",
    "def fold_dfs_to_ndarrays(train:DF, validation:DF) -> tuple[ndarray, ndarray, ndarray, ndarray]:\n",
    "    \"\"\"\n",
    "    Returns:\n",
    "        (train X, train Y, validation X, validation Y)\n",
    "    \"\"\"\n",
    "    # normed_sequence_len = get_normed_seq_len(train)\n",
    "    full_dataset_normed_seq_len = get_normed_seq_len(df)\n",
    "    return (\n",
    "        *df_to_ndarrays(train, full_dataset_normed_seq_len),\n",
    "        *df_to_ndarrays(validation, full_dataset_normed_seq_len),\n",
    "    )\n",
    "\n",
    "folds_arrs = list(starmap(fold_dfs_to_ndarrays, folds))"
   ]
  },
  {
   "cell_type": "code",
   "execution_count": 31,
   "id": "80490c33",
   "metadata": {},
   "outputs": [
    {
     "data": {
      "application/vnd.jupyter.widget-view+json": {
       "model_id": "7bdbbe7b6fc74881a9f7596f6216d0e4",
       "version_major": 2,
       "version_minor": 0
      },
      "text/plain": [
       "  0%|          | 0/8151 [00:00<?, ?it/s]"
      ]
     },
     "metadata": {},
     "output_type": "display_data"
    }
   ],
   "source": [
    "full_dataset_sequence_length_norm = get_normed_seq_len(df)\n",
    "full_x, full_y = df_to_ndarrays(df, full_dataset_sequence_length_norm)"
   ]
  },
  {
   "cell_type": "markdown",
   "id": "b99f60c2",
   "metadata": {},
   "source": [
    "## Create dataset"
   ]
  },
  {
   "cell_type": "code",
   "execution_count": 32,
   "id": "a46b79b2",
   "metadata": {},
   "outputs": [],
   "source": [
    "# Clean dataset directory if it already exists\n",
    "! rm -rf preprocessed_dataset\n",
    "# Create dataset direcory\n",
    "! mkdir preprocessed_dataset\n",
    "# Save folds\n",
    "for fold_i, (train_x, train_y, val_x, val_y) in enumerate(folds_arrs):\n",
    "    fold_dir_path = join(\"preprocessed_dataset\", f\"fold_{fold_i}\")\n",
    "    os.makedirs(fold_dir_path)\n",
    "    # save features (X)\n",
    "    np.save(join(fold_dir_path, \"train_X.npy\"), train_x, allow_pickle=False)\n",
    "    np.save(join(fold_dir_path, \"validation_X.npy\"), val_x, allow_pickle=False)\n",
    "    # Save targets (Y)\n",
    "    np.save(join(fold_dir_path, \"train_Y.npy\"), train_y, allow_pickle=False)\n",
    "    np.save(join(fold_dir_path, \"validation_Y.npy\"), val_y, allow_pickle=False)\n",
    "# Save full dataset\n",
    "full_dataset_dir_path = \"preprocessed_dataset/full_dataset\"\n",
    "os.makedirs(full_dataset_dir_path)\n",
    "np.save(join(full_dataset_dir_path, \"X.npy\"), full_x, allow_pickle=False)\n",
    "np.save(join(full_dataset_dir_path, \"Y.npy\"), full_y, allow_pickle=False)\n",
    "# Save dataset meta data\n",
    "# full_dataset_meta_data[\"target_names\"] = TARGET_NAMES\n",
    "full_dataset_meta_data[\"pad_seq_len\"] = full_dataset_sequence_length_norm\n",
    "full_dataset_meta_data[\"feature_cols\"] = get_feature_cols(df)\n",
    "\n",
    "with open(\"preprocessed_dataset/full_dataset_meta_data.json\", \"w\") as fp:\n",
    "    json.dump(full_dataset_meta_data, fp, indent=4)"
   ]
  },
  {
   "cell_type": "code",
   "execution_count": 33,
   "id": "0b77ea50",
   "metadata": {},
   "outputs": [
    {
     "data": {
      "text/html": [
       "<div>\n",
       "<style scoped>\n",
       "    .dataframe tbody tr th:only-of-type {\n",
       "        vertical-align: middle;\n",
       "    }\n",
       "\n",
       "    .dataframe tbody tr th {\n",
       "        vertical-align: top;\n",
       "    }\n",
       "\n",
       "    .dataframe thead th {\n",
       "        text-align: right;\n",
       "    }\n",
       "</style>\n",
       "<table border=\"1\" class=\"dataframe\">\n",
       "  <thead>\n",
       "    <tr style=\"text-align: right;\">\n",
       "      <th></th>\n",
       "      <th>acc_x</th>\n",
       "      <th>acc_y</th>\n",
       "      <th>acc_z</th>\n",
       "      <th>angular_vel_x</th>\n",
       "      <th>angular_vel_y</th>\n",
       "      <th>angular_vel_z</th>\n",
       "      <th>delta_rot_mag</th>\n",
       "      <th>diff_acc_x</th>\n",
       "      <th>diff_acc_y</th>\n",
       "      <th>diff_acc_z</th>\n",
       "      <th>...</th>\n",
       "      <th>tof_4_max</th>\n",
       "      <th>tof_4_mean</th>\n",
       "      <th>tof_4_median</th>\n",
       "      <th>tof_4_min</th>\n",
       "      <th>tof_4_std</th>\n",
       "      <th>tof_5_max</th>\n",
       "      <th>tof_5_mean</th>\n",
       "      <th>tof_5_median</th>\n",
       "      <th>tof_5_min</th>\n",
       "      <th>tof_5_std</th>\n",
       "    </tr>\n",
       "  </thead>\n",
       "  <tbody>\n",
       "    <tr>\n",
       "      <th>0</th>\n",
       "      <td>0.872408</td>\n",
       "      <td>0.884130</td>\n",
       "      <td>0.625816</td>\n",
       "      <td>-0.021278</td>\n",
       "      <td>-0.010010</td>\n",
       "      <td>-0.013910</td>\n",
       "      <td>-0.458822</td>\n",
       "      <td>0.015724</td>\n",
       "      <td>-0.027387</td>\n",
       "      <td>0.036749</td>\n",
       "      <td>...</td>\n",
       "      <td>-0.129341</td>\n",
       "      <td>-0.016778</td>\n",
       "      <td>0.164689</td>\n",
       "      <td>0.317342</td>\n",
       "      <td>-0.261427</td>\n",
       "      <td>0.230914</td>\n",
       "      <td>0.404678</td>\n",
       "      <td>0.263911</td>\n",
       "      <td>1.791887</td>\n",
       "      <td>-0.736622</td>\n",
       "    </tr>\n",
       "    <tr>\n",
       "      <th>1</th>\n",
       "      <td>0.918353</td>\n",
       "      <td>0.884130</td>\n",
       "      <td>0.588012</td>\n",
       "      <td>-0.075474</td>\n",
       "      <td>-0.238310</td>\n",
       "      <td>-0.191092</td>\n",
       "      <td>-0.269318</td>\n",
       "      <td>0.139234</td>\n",
       "      <td>-0.027387</td>\n",
       "      <td>-0.075917</td>\n",
       "      <td>...</td>\n",
       "      <td>-0.129341</td>\n",
       "      <td>0.002596</td>\n",
       "      <td>0.187552</td>\n",
       "      <td>0.536344</td>\n",
       "      <td>-0.314810</td>\n",
       "      <td>0.230914</td>\n",
       "      <td>0.433771</td>\n",
       "      <td>0.278181</td>\n",
       "      <td>1.791887</td>\n",
       "      <td>-0.733320</td>\n",
       "    </tr>\n",
       "    <tr>\n",
       "      <th>2</th>\n",
       "      <td>0.706192</td>\n",
       "      <td>0.723320</td>\n",
       "      <td>0.964766</td>\n",
       "      <td>-0.554449</td>\n",
       "      <td>-1.075163</td>\n",
       "      <td>-0.461610</td>\n",
       "      <td>0.376415</td>\n",
       "      <td>-0.554598</td>\n",
       "      <td>-0.549341</td>\n",
       "      <td>1.159588</td>\n",
       "      <td>...</td>\n",
       "      <td>-0.129341</td>\n",
       "      <td>0.026308</td>\n",
       "      <td>0.126584</td>\n",
       "      <td>0.804014</td>\n",
       "      <td>-0.451020</td>\n",
       "      <td>0.230914</td>\n",
       "      <td>0.490583</td>\n",
       "      <td>0.370941</td>\n",
       "      <td>1.791887</td>\n",
       "      <td>-0.675448</td>\n",
       "    </tr>\n",
       "    <tr>\n",
       "      <th>3</th>\n",
       "      <td>0.858218</td>\n",
       "      <td>0.347835</td>\n",
       "      <td>1.134561</td>\n",
       "      <td>-0.961076</td>\n",
       "      <td>-0.665305</td>\n",
       "      <td>-0.944204</td>\n",
       "      <td>0.467370</td>\n",
       "      <td>0.424395</td>\n",
       "      <td>-1.246124</td>\n",
       "      <td>0.542790</td>\n",
       "      <td>...</td>\n",
       "      <td>-0.063366</td>\n",
       "      <td>0.459197</td>\n",
       "      <td>0.362833</td>\n",
       "      <td>1.509689</td>\n",
       "      <td>-0.730704</td>\n",
       "      <td>0.230914</td>\n",
       "      <td>0.532300</td>\n",
       "      <td>0.392347</td>\n",
       "      <td>1.791887</td>\n",
       "      <td>-0.614007</td>\n",
       "    </tr>\n",
       "    <tr>\n",
       "      <th>4</th>\n",
       "      <td>0.679165</td>\n",
       "      <td>-0.302433</td>\n",
       "      <td>1.655481</td>\n",
       "      <td>-0.618189</td>\n",
       "      <td>-1.052999</td>\n",
       "      <td>-1.509886</td>\n",
       "      <td>0.738559</td>\n",
       "      <td>-0.465599</td>\n",
       "      <td>-2.138006</td>\n",
       "      <td>1.589246</td>\n",
       "      <td>...</td>\n",
       "      <td>0.250015</td>\n",
       "      <td>0.731018</td>\n",
       "      <td>0.522873</td>\n",
       "      <td>1.899026</td>\n",
       "      <td>-0.742011</td>\n",
       "      <td>0.230914</td>\n",
       "      <td>0.684347</td>\n",
       "      <td>0.463701</td>\n",
       "      <td>1.791887</td>\n",
       "      <td>-0.505779</td>\n",
       "    </tr>\n",
       "    <tr>\n",
       "      <th>...</th>\n",
       "      <td>...</td>\n",
       "      <td>...</td>\n",
       "      <td>...</td>\n",
       "      <td>...</td>\n",
       "      <td>...</td>\n",
       "      <td>...</td>\n",
       "      <td>...</td>\n",
       "      <td>...</td>\n",
       "      <td>...</td>\n",
       "      <td>...</td>\n",
       "      <td>...</td>\n",
       "      <td>...</td>\n",
       "      <td>...</td>\n",
       "      <td>...</td>\n",
       "      <td>...</td>\n",
       "      <td>...</td>\n",
       "      <td>...</td>\n",
       "      <td>...</td>\n",
       "      <td>...</td>\n",
       "      <td>...</td>\n",
       "      <td>...</td>\n",
       "    </tr>\n",
       "    <tr>\n",
       "      <th>574940</th>\n",
       "      <td>0.322408</td>\n",
       "      <td>-0.444509</td>\n",
       "      <td>-1.309212</td>\n",
       "      <td>-0.231978</td>\n",
       "      <td>0.171270</td>\n",
       "      <td>-0.070187</td>\n",
       "      <td>-0.275002</td>\n",
       "      <td>-0.020602</td>\n",
       "      <td>0.172780</td>\n",
       "      <td>0.409119</td>\n",
       "      <td>...</td>\n",
       "      <td>-0.855065</td>\n",
       "      <td>-0.929112</td>\n",
       "      <td>-0.864138</td>\n",
       "      <td>0.025339</td>\n",
       "      <td>-0.788788</td>\n",
       "      <td>-1.915469</td>\n",
       "      <td>-1.044439</td>\n",
       "      <td>-0.827803</td>\n",
       "      <td>0.062303</td>\n",
       "      <td>-1.547361</td>\n",
       "    </tr>\n",
       "    <tr>\n",
       "      <th>574941</th>\n",
       "      <td>0.369030</td>\n",
       "      <td>-0.490566</td>\n",
       "      <td>-1.434796</td>\n",
       "      <td>-0.119604</td>\n",
       "      <td>-0.136954</td>\n",
       "      <td>-0.060574</td>\n",
       "      <td>-0.349591</td>\n",
       "      <td>0.141050</td>\n",
       "      <td>-0.176879</td>\n",
       "      <td>-0.337531</td>\n",
       "      <td>...</td>\n",
       "      <td>-0.855065</td>\n",
       "      <td>-0.996778</td>\n",
       "      <td>-0.940347</td>\n",
       "      <td>0.001005</td>\n",
       "      <td>-0.748805</td>\n",
       "      <td>-1.915469</td>\n",
       "      <td>-1.014798</td>\n",
       "      <td>-0.792126</td>\n",
       "      <td>0.119011</td>\n",
       "      <td>-1.520723</td>\n",
       "    </tr>\n",
       "    <tr>\n",
       "      <th>574942</th>\n",
       "      <td>0.249436</td>\n",
       "      <td>-0.314143</td>\n",
       "      <td>-1.138775</td>\n",
       "      <td>-0.010458</td>\n",
       "      <td>-0.038358</td>\n",
       "      <td>0.003139</td>\n",
       "      <td>-0.436163</td>\n",
       "      <td>-0.305763</td>\n",
       "      <td>0.545242</td>\n",
       "      <td>0.918980</td>\n",
       "      <td>...</td>\n",
       "      <td>-0.855065</td>\n",
       "      <td>-1.002272</td>\n",
       "      <td>-0.917485</td>\n",
       "      <td>0.074006</td>\n",
       "      <td>-0.748439</td>\n",
       "      <td>-1.817268</td>\n",
       "      <td>-0.963200</td>\n",
       "      <td>-0.749314</td>\n",
       "      <td>0.033949</td>\n",
       "      <td>-1.492293</td>\n",
       "    </tr>\n",
       "    <tr>\n",
       "      <th>574943</th>\n",
       "      <td>0.402138</td>\n",
       "      <td>-0.429677</td>\n",
       "      <td>-1.414933</td>\n",
       "      <td>-0.118555</td>\n",
       "      <td>-0.138399</td>\n",
       "      <td>-0.056625</td>\n",
       "      <td>-0.349784</td>\n",
       "      <td>0.426211</td>\n",
       "      <td>-0.402383</td>\n",
       "      <td>-0.786284</td>\n",
       "      <td>...</td>\n",
       "      <td>-0.855065</td>\n",
       "      <td>-0.900484</td>\n",
       "      <td>-0.841275</td>\n",
       "      <td>0.244341</td>\n",
       "      <td>-0.825139</td>\n",
       "      <td>-1.859354</td>\n",
       "      <td>-1.007662</td>\n",
       "      <td>-0.792126</td>\n",
       "      <td>0.005595</td>\n",
       "      <td>-1.512144</td>\n",
       "    </tr>\n",
       "    <tr>\n",
       "      <th>574944</th>\n",
       "      <td>0.454841</td>\n",
       "      <td>-0.544430</td>\n",
       "      <td>-1.503996</td>\n",
       "      <td>-0.017007</td>\n",
       "      <td>0.070146</td>\n",
       "      <td>-0.028905</td>\n",
       "      <td>-0.404179</td>\n",
       "      <td>0.157397</td>\n",
       "      <td>-0.399849</td>\n",
       "      <td>-0.228684</td>\n",
       "      <td>...</td>\n",
       "      <td>-0.855065</td>\n",
       "      <td>-0.895279</td>\n",
       "      <td>-0.841275</td>\n",
       "      <td>0.195674</td>\n",
       "      <td>-0.808665</td>\n",
       "      <td>-1.859354</td>\n",
       "      <td>-1.001624</td>\n",
       "      <td>-0.770720</td>\n",
       "      <td>-0.022759</td>\n",
       "      <td>-1.499812</td>\n",
       "    </tr>\n",
       "  </tbody>\n",
       "</table>\n",
       "<p>574945 rows × 106 columns</p>\n",
       "</div>"
      ],
      "text/plain": [
       "           acc_x     acc_y     acc_z  angular_vel_x  angular_vel_y  \\\n",
       "0       0.872408  0.884130  0.625816      -0.021278      -0.010010   \n",
       "1       0.918353  0.884130  0.588012      -0.075474      -0.238310   \n",
       "2       0.706192  0.723320  0.964766      -0.554449      -1.075163   \n",
       "3       0.858218  0.347835  1.134561      -0.961076      -0.665305   \n",
       "4       0.679165 -0.302433  1.655481      -0.618189      -1.052999   \n",
       "...          ...       ...       ...            ...            ...   \n",
       "574940  0.322408 -0.444509 -1.309212      -0.231978       0.171270   \n",
       "574941  0.369030 -0.490566 -1.434796      -0.119604      -0.136954   \n",
       "574942  0.249436 -0.314143 -1.138775      -0.010458      -0.038358   \n",
       "574943  0.402138 -0.429677 -1.414933      -0.118555      -0.138399   \n",
       "574944  0.454841 -0.544430 -1.503996      -0.017007       0.070146   \n",
       "\n",
       "        angular_vel_z  delta_rot_mag  diff_acc_x  diff_acc_y  diff_acc_z  ...  \\\n",
       "0           -0.013910      -0.458822    0.015724   -0.027387    0.036749  ...   \n",
       "1           -0.191092      -0.269318    0.139234   -0.027387   -0.075917  ...   \n",
       "2           -0.461610       0.376415   -0.554598   -0.549341    1.159588  ...   \n",
       "3           -0.944204       0.467370    0.424395   -1.246124    0.542790  ...   \n",
       "4           -1.509886       0.738559   -0.465599   -2.138006    1.589246  ...   \n",
       "...               ...            ...         ...         ...         ...  ...   \n",
       "574940      -0.070187      -0.275002   -0.020602    0.172780    0.409119  ...   \n",
       "574941      -0.060574      -0.349591    0.141050   -0.176879   -0.337531  ...   \n",
       "574942       0.003139      -0.436163   -0.305763    0.545242    0.918980  ...   \n",
       "574943      -0.056625      -0.349784    0.426211   -0.402383   -0.786284  ...   \n",
       "574944      -0.028905      -0.404179    0.157397   -0.399849   -0.228684  ...   \n",
       "\n",
       "        tof_4_max  tof_4_mean  tof_4_median  tof_4_min  tof_4_std  tof_5_max  \\\n",
       "0       -0.129341   -0.016778      0.164689   0.317342  -0.261427   0.230914   \n",
       "1       -0.129341    0.002596      0.187552   0.536344  -0.314810   0.230914   \n",
       "2       -0.129341    0.026308      0.126584   0.804014  -0.451020   0.230914   \n",
       "3       -0.063366    0.459197      0.362833   1.509689  -0.730704   0.230914   \n",
       "4        0.250015    0.731018      0.522873   1.899026  -0.742011   0.230914   \n",
       "...           ...         ...           ...        ...        ...        ...   \n",
       "574940  -0.855065   -0.929112     -0.864138   0.025339  -0.788788  -1.915469   \n",
       "574941  -0.855065   -0.996778     -0.940347   0.001005  -0.748805  -1.915469   \n",
       "574942  -0.855065   -1.002272     -0.917485   0.074006  -0.748439  -1.817268   \n",
       "574943  -0.855065   -0.900484     -0.841275   0.244341  -0.825139  -1.859354   \n",
       "574944  -0.855065   -0.895279     -0.841275   0.195674  -0.808665  -1.859354   \n",
       "\n",
       "        tof_5_mean  tof_5_median  tof_5_min  tof_5_std  \n",
       "0         0.404678      0.263911   1.791887  -0.736622  \n",
       "1         0.433771      0.278181   1.791887  -0.733320  \n",
       "2         0.490583      0.370941   1.791887  -0.675448  \n",
       "3         0.532300      0.392347   1.791887  -0.614007  \n",
       "4         0.684347      0.463701   1.791887  -0.505779  \n",
       "...            ...           ...        ...        ...  \n",
       "574940   -1.044439     -0.827803   0.062303  -1.547361  \n",
       "574941   -1.014798     -0.792126   0.119011  -1.520723  \n",
       "574942   -0.963200     -0.749314   0.033949  -1.492293  \n",
       "574943   -1.007662     -0.792126   0.005595  -1.512144  \n",
       "574944   -1.001624     -0.770720  -0.022759  -1.499812  \n",
       "\n",
       "[574945 rows x 106 columns]"
      ]
     },
     "execution_count": 33,
     "metadata": {},
     "output_type": "execute_result"
    }
   ],
   "source": [
    "df[get_feature_cols(df)]"
   ]
  },
  {
   "cell_type": "markdown",
   "id": "b2775c75",
   "metadata": {},
   "source": [
    "## Dataset upload\n",
    "Optionally upload the dataset to kaggle."
   ]
  },
  {
   "cell_type": "code",
   "execution_count": 34,
   "id": "d0b40895",
   "metadata": {},
   "outputs": [
    {
     "name": "stdout",
     "output_type": "stream",
     "text": [
      "Dataset has not been uploaded.\n"
     ]
    }
   ],
   "source": [
    "if input(\"Do you want to upload the  dataset to kaggle?[yes/no]\").lower() == \"yes\":\n",
    "    # Updaload the dataset\n",
    "    dataset_upload(\n",
    "        join(whoami()[\"username\"], \"prepocessed-cmi-2025\"),\n",
    "        \"preprocessed_dataset\",\n",
    "        version_notes=\"Preprocessed Child Mind Institue 2025 competition dataset.\"\n",
    "    )\n",
    "else:\n",
    "    print(\"Dataset has not been uploaded.\")"
   ]
  }
 ],
 "metadata": {
  "kernelspec": {
   "display_name": "Python 3",
   "language": "python",
   "name": "python3"
  },
  "language_info": {
   "codemirror_mode": {
    "name": "ipython",
    "version": 3
   },
   "file_extension": ".py",
   "mimetype": "text/x-python",
   "name": "python",
   "nbconvert_exporter": "python",
   "pygments_lexer": "ipython3",
   "version": "3.11.5"
  }
 },
 "nbformat": 4,
 "nbformat_minor": 5
}
