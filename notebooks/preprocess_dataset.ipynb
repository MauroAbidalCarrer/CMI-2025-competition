{
 "cells": [
  {
   "cell_type": "markdown",
   "id": "7c1fbf88",
   "metadata": {},
   "source": [
    "# Dataset preprocessing\n",
    "\n",
    "The goal of this notebook is to create a preprocessed kaggle dataset out of the competition dataset.  \n",
    "For now, the preprocessing will be based on [this notebook](https://www.kaggle.com/code/vonmainstein/imu-tof).  \n",
    "It consists of the following steps:\n",
    "-   Set the appropriate dtypes (helps with RAM usage).\n",
    "-   Impute missing feature values with forward, backward and then 0 filling.\n",
    "-   Split the dataset into multiple cross validation folds.\n",
    "-   Standardize feature values.\n",
    "-   Pad/Truncate the sequences to the same length.  \n",
    "\n",
    "> Note:  \n",
    "> - Demographics data set will be ignored for now.  "
   ]
  },
  {
   "cell_type": "markdown",
   "id": "3e390dcd",
   "metadata": {},
   "source": [
    "## Setup"
   ]
  },
  {
   "cell_type": "markdown",
   "id": "67848297",
   "metadata": {},
   "source": [
    "### Imports"
   ]
  },
  {
   "cell_type": "code",
   "execution_count": 1,
   "id": "3b58565a",
   "metadata": {},
   "outputs": [],
   "source": [
    "import os\n",
    "import json\n",
    "import warnings\n",
    "from os.path import join\n",
    "from tqdm.notebook import tqdm\n",
    "from itertools import repeat, starmap\n",
    "\n",
    "import numpy as np\n",
    "import pandas as pd\n",
    "from numpy import ndarray\n",
    "import plotly.express as px\n",
    "from pandas import DataFrame as DF\n",
    "from scipy.spatial.transform import Rotation\n",
    "from kagglehub import whoami, competition_download, dataset_upload\n",
    "\n",
    "from config import *"
   ]
  },
  {
   "cell_type": "markdown",
   "id": "2102ea8c",
   "metadata": {},
   "source": [
    "### Supress performance warngings"
   ]
  },
  {
   "cell_type": "code",
   "execution_count": 2,
   "id": "fb820d2b",
   "metadata": {},
   "outputs": [],
   "source": [
    "warnings.filterwarnings(\n",
    "    \"ignore\",\n",
    "    message=(\n",
    "        \"DataFrame is highly fragmented.  This is usually the result of \"\n",
    "        \"calling `frame.insert` many times.*\"\n",
    "    ),\n",
    "    category=pd.errors.PerformanceWarning,\n",
    ")"
   ]
  },
  {
   "cell_type": "markdown",
   "id": "f27f6677",
   "metadata": {},
   "source": [
    "### Define function to get the feature columns\n",
    "Feature columns change over time so it's better to have a function to get them than manually update a variable every time we add/remove features."
   ]
  },
  {
   "cell_type": "code",
   "execution_count": 3,
   "id": "e2db0953",
   "metadata": {},
   "outputs": [],
   "source": [
    "def get_feature_cols(df:DF) -> list[str]:\n",
    "    return list(set(df.columns) - set(META_DATA_COLUMNS) - set(df[\"gesture\"].unique().tolist()))"
   ]
  },
  {
   "cell_type": "markdown",
   "id": "c1924ec0",
   "metadata": {},
   "source": [
    "## Data preprocessing"
   ]
  },
  {
   "cell_type": "markdown",
   "id": "1b3b38be",
   "metadata": {},
   "source": [
    "### Load dataset\n",
    "Requires to be logged in if this notebook is not running on kaggle, go to [your settings](https://www.kaggle.com/settings) to create an access token and put it in `~/.kaggle/`."
   ]
  },
  {
   "cell_type": "code",
   "execution_count": 4,
   "id": "a0bb6cf4",
   "metadata": {},
   "outputs": [],
   "source": [
    "competition_dataset_path = competition_download(COMPETITION_HANDLE)\n",
    "df = pd.read_csv(join(competition_dataset_path, \"train.csv\"), dtype=DATASET_DF_DTYPES)"
   ]
  },
  {
   "cell_type": "markdown",
   "id": "7aea88de",
   "metadata": {},
   "source": [
    "### Impute missing data\n",
    "Perform forward, backward and then filling of all NaN sequences."
   ]
  },
  {
   "cell_type": "code",
   "execution_count": 5,
   "id": "c2f0db28",
   "metadata": {},
   "outputs": [],
   "source": [
    "# Missing ToF values are already imputed by -1 which is inconvinient since we want all missing values to be NaN.    \n",
    "# So we replace them by NaN and then perform imputing.\n",
    "tof_vals_to_nan = {col: -1.0 for col in df.columns if col.startswith(\"tof\")}\n",
    "def get_fillna_val_per_feature_col(df:DF) -> dict:\n",
    "    return {col: 1.0 if col == 'rot_w' else 0 for col in get_feature_cols(df)}\n",
    "\n",
    "def imputed_features(df:DF) -> DF:\n",
    "    # Missing ToF values are already imputed by -1 which is inconvinient since we want all missing values to be NaN.    \n",
    "    # So we replace them by NaN and then perform imputing.  \n",
    "    tof_vals_to_nan = {col: -1.0 for col in df.columns if col.startswith(\"tof\")}\n",
    "    # fillna_val_per_col = {col: 1.0 if col == 'rot_w' else 0 for col in df.columns}\n",
    "\n",
    "    df[get_feature_cols(df)] = (\n",
    "        df\n",
    "        .loc[:, get_feature_cols(df)]\n",
    "        # df.replace with np.nan sets dtype to floar64 so we set it back to float32\n",
    "        .replace(tof_vals_to_nan, value=np.nan)\n",
    "        .astype(\"float32\")\n",
    "        .groupby(df[\"sequence_id\"], observed=True, as_index=False)\n",
    "        .ffill()\n",
    "        .groupby(df[\"sequence_id\"], observed=True, as_index=False)\n",
    "        .bfill()\n",
    "        # In case there are only nan in the column in the sequence\n",
    "        .fillna(get_fillna_val_per_feature_col(df))\n",
    "    )\n",
    "    return df\n",
    "\n",
    "df = imputed_features(df)"
   ]
  },
  {
   "cell_type": "markdown",
   "id": "ad044a52",
   "metadata": {},
   "source": [
    "### Norm quaternions\n",
    "This allows us to parse quaternions with `scipy.spatial.transform.Rotation`."
   ]
  },
  {
   "cell_type": "code",
   "execution_count": 6,
   "id": "c99bce0b",
   "metadata": {},
   "outputs": [],
   "source": [
    "QUATERNION_COLS = ['rot_w', 'rot_x', 'rot_y', 'rot_z']\n",
    "def norm_quat_rotations(df:DF) -> DF:\n",
    "    df[QUATERNION_COLS] /= np.linalg.norm(df[QUATERNION_COLS], axis=1, keepdims=True)\n",
    "    return df"
   ]
  },
  {
   "cell_type": "markdown",
   "id": "606a87c4",
   "metadata": {},
   "source": [
    "### Add gravity free acceleration features"
   ]
  },
  {
   "cell_type": "code",
   "execution_count": 7,
   "id": "5d87de25",
   "metadata": {},
   "outputs": [
    {
     "data": {
      "text/plain": [
       "tof_3_v29    float32\n",
       "tof_5_v38    float32\n",
       "tof_1_v57    float32\n",
       "tof_3_v59    float32\n",
       "tof_5_v29    float32\n",
       "              ...   \n",
       "tof_5_v58    float32\n",
       "tof_4_v25    float32\n",
       "tof_3_v44    float32\n",
       "tof_2_v41    float32\n",
       "tof_4_v23    float32\n",
       "Length: 335, dtype: object"
      ]
     },
     "execution_count": 7,
     "metadata": {},
     "output_type": "execute_result"
    }
   ],
   "source": [
    "GRAVITY_WORLD = np.array([0, 0, 9.81], \"float32\")\n",
    "ACCELRATION_COLS = [\"acc_x\", \"acc_y\", \"acc_z\"]\n",
    "GRAVITY_FREE_ACC_COLS = [\"gravity_free_\" + col for col in ACCELRATION_COLS]\n",
    "def add_gravity_free_acc_cols(df:DF) -> DF:\n",
    "    # Vectorized version of https://www.kaggle.com/code/wasupandceacar/lb-0-82-5fold-single-bert-model#Dataset `remove_gravity_from_acc`\n",
    "    rotations:Rotation = Rotation.from_quat(df[QUATERNION_COLS])\n",
    "    gravity_sensor_frame = rotations.apply(GRAVITY_WORLD, inverse=True).astype(\"float32\")\n",
    "    df[GRAVITY_FREE_ACC_COLS] = df[ACCELRATION_COLS] - gravity_sensor_frame\n",
    "    return df\n",
    "\n",
    "df = add_gravity_free_acc_cols(df)\n",
    "df[get_feature_cols(df)].dtypes"
   ]
  },
  {
   "cell_type": "markdown",
   "id": "6ae43d1a",
   "metadata": {},
   "source": [
    "### Euler angles from quaternions"
   ]
  },
  {
   "cell_type": "code",
   "execution_count": 8,
   "id": "c99bce0b",
   "metadata": {},
   "outputs": [],
   "source": [
    "EULER_ANGLES_COLS = [\"euler_x\", \"euler_y\", \"euler_z\"]\n",
    "def rot_euler_angles(df:DF) -> ndarray:\n",
    "    df[EULER_ANGLES_COLS] = (\n",
    "        Rotation\n",
    "        .from_quat(df[QUATERNION_COLS])\n",
    "        .as_euler(\"xyz\")\n",
    "        .squeeze()\n",
    "    )\n",
    "    return df\n",
    "\n",
    "df = rot_euler_angles(df)"
   ]
  },
  {
   "cell_type": "markdown",
   "id": "18979983",
   "metadata": {},
   "source": [
    "### One hot encode target values."
   ]
  },
  {
   "cell_type": "code",
   "execution_count": 9,
   "id": "05661625",
   "metadata": {},
   "outputs": [
    {
     "data": {
      "text/html": [
       "<div>\n",
       "<style scoped>\n",
       "    .dataframe tbody tr th:only-of-type {\n",
       "        vertical-align: middle;\n",
       "    }\n",
       "\n",
       "    .dataframe tbody tr th {\n",
       "        vertical-align: top;\n",
       "    }\n",
       "\n",
       "    .dataframe thead th {\n",
       "        text-align: right;\n",
       "    }\n",
       "</style>\n",
       "<table border=\"1\" class=\"dataframe\">\n",
       "  <thead>\n",
       "    <tr style=\"text-align: right;\">\n",
       "      <th></th>\n",
       "      <th>row_id</th>\n",
       "      <th>sequence_type</th>\n",
       "      <th>sequence_id</th>\n",
       "      <th>sequence_counter</th>\n",
       "      <th>subject</th>\n",
       "      <th>orientation</th>\n",
       "      <th>behavior</th>\n",
       "      <th>phase</th>\n",
       "      <th>gesture</th>\n",
       "      <th>acc_x</th>\n",
       "      <th>...</th>\n",
       "      <th>Neck - scratch</th>\n",
       "      <th>Text on phone</th>\n",
       "      <th>Wave hello</th>\n",
       "      <th>Write name in air</th>\n",
       "      <th>Write name on leg</th>\n",
       "      <th>Drink from bottle/cup</th>\n",
       "      <th>Pinch knee/leg skin</th>\n",
       "      <th>Pull air toward your face</th>\n",
       "      <th>Scratch knee/leg skin</th>\n",
       "      <th>Glasses on/off</th>\n",
       "    </tr>\n",
       "  </thead>\n",
       "  <tbody>\n",
       "    <tr>\n",
       "      <th>0</th>\n",
       "      <td>SEQ_000007_000000</td>\n",
       "      <td>Target</td>\n",
       "      <td>SEQ_000007</td>\n",
       "      <td>0</td>\n",
       "      <td>SUBJ_059520</td>\n",
       "      <td>Seated Lean Non Dom - FACE DOWN</td>\n",
       "      <td>Relaxes and moves hand to target location</td>\n",
       "      <td>Transition</td>\n",
       "      <td>Cheek - pinch skin</td>\n",
       "      <td>6.683594</td>\n",
       "      <td>...</td>\n",
       "      <td>False</td>\n",
       "      <td>False</td>\n",
       "      <td>False</td>\n",
       "      <td>False</td>\n",
       "      <td>False</td>\n",
       "      <td>False</td>\n",
       "      <td>False</td>\n",
       "      <td>False</td>\n",
       "      <td>False</td>\n",
       "      <td>False</td>\n",
       "    </tr>\n",
       "    <tr>\n",
       "      <th>1</th>\n",
       "      <td>SEQ_000007_000001</td>\n",
       "      <td>Target</td>\n",
       "      <td>SEQ_000007</td>\n",
       "      <td>1</td>\n",
       "      <td>SUBJ_059520</td>\n",
       "      <td>Seated Lean Non Dom - FACE DOWN</td>\n",
       "      <td>Relaxes and moves hand to target location</td>\n",
       "      <td>Transition</td>\n",
       "      <td>Cheek - pinch skin</td>\n",
       "      <td>6.949219</td>\n",
       "      <td>...</td>\n",
       "      <td>False</td>\n",
       "      <td>False</td>\n",
       "      <td>False</td>\n",
       "      <td>False</td>\n",
       "      <td>False</td>\n",
       "      <td>False</td>\n",
       "      <td>False</td>\n",
       "      <td>False</td>\n",
       "      <td>False</td>\n",
       "      <td>False</td>\n",
       "    </tr>\n",
       "    <tr>\n",
       "      <th>2</th>\n",
       "      <td>SEQ_000007_000002</td>\n",
       "      <td>Target</td>\n",
       "      <td>SEQ_000007</td>\n",
       "      <td>2</td>\n",
       "      <td>SUBJ_059520</td>\n",
       "      <td>Seated Lean Non Dom - FACE DOWN</td>\n",
       "      <td>Relaxes and moves hand to target location</td>\n",
       "      <td>Transition</td>\n",
       "      <td>Cheek - pinch skin</td>\n",
       "      <td>5.722656</td>\n",
       "      <td>...</td>\n",
       "      <td>False</td>\n",
       "      <td>False</td>\n",
       "      <td>False</td>\n",
       "      <td>False</td>\n",
       "      <td>False</td>\n",
       "      <td>False</td>\n",
       "      <td>False</td>\n",
       "      <td>False</td>\n",
       "      <td>False</td>\n",
       "      <td>False</td>\n",
       "    </tr>\n",
       "    <tr>\n",
       "      <th>3</th>\n",
       "      <td>SEQ_000007_000003</td>\n",
       "      <td>Target</td>\n",
       "      <td>SEQ_000007</td>\n",
       "      <td>3</td>\n",
       "      <td>SUBJ_059520</td>\n",
       "      <td>Seated Lean Non Dom - FACE DOWN</td>\n",
       "      <td>Relaxes and moves hand to target location</td>\n",
       "      <td>Transition</td>\n",
       "      <td>Cheek - pinch skin</td>\n",
       "      <td>6.601562</td>\n",
       "      <td>...</td>\n",
       "      <td>False</td>\n",
       "      <td>False</td>\n",
       "      <td>False</td>\n",
       "      <td>False</td>\n",
       "      <td>False</td>\n",
       "      <td>False</td>\n",
       "      <td>False</td>\n",
       "      <td>False</td>\n",
       "      <td>False</td>\n",
       "      <td>False</td>\n",
       "    </tr>\n",
       "    <tr>\n",
       "      <th>4</th>\n",
       "      <td>SEQ_000007_000004</td>\n",
       "      <td>Target</td>\n",
       "      <td>SEQ_000007</td>\n",
       "      <td>4</td>\n",
       "      <td>SUBJ_059520</td>\n",
       "      <td>Seated Lean Non Dom - FACE DOWN</td>\n",
       "      <td>Relaxes and moves hand to target location</td>\n",
       "      <td>Transition</td>\n",
       "      <td>Cheek - pinch skin</td>\n",
       "      <td>5.566406</td>\n",
       "      <td>...</td>\n",
       "      <td>False</td>\n",
       "      <td>False</td>\n",
       "      <td>False</td>\n",
       "      <td>False</td>\n",
       "      <td>False</td>\n",
       "      <td>False</td>\n",
       "      <td>False</td>\n",
       "      <td>False</td>\n",
       "      <td>False</td>\n",
       "      <td>False</td>\n",
       "    </tr>\n",
       "    <tr>\n",
       "      <th>...</th>\n",
       "      <td>...</td>\n",
       "      <td>...</td>\n",
       "      <td>...</td>\n",
       "      <td>...</td>\n",
       "      <td>...</td>\n",
       "      <td>...</td>\n",
       "      <td>...</td>\n",
       "      <td>...</td>\n",
       "      <td>...</td>\n",
       "      <td>...</td>\n",
       "      <td>...</td>\n",
       "      <td>...</td>\n",
       "      <td>...</td>\n",
       "      <td>...</td>\n",
       "      <td>...</td>\n",
       "      <td>...</td>\n",
       "      <td>...</td>\n",
       "      <td>...</td>\n",
       "      <td>...</td>\n",
       "      <td>...</td>\n",
       "      <td>...</td>\n",
       "    </tr>\n",
       "    <tr>\n",
       "      <th>574940</th>\n",
       "      <td>SEQ_065531_000048</td>\n",
       "      <td>Non-Target</td>\n",
       "      <td>SEQ_065531</td>\n",
       "      <td>48</td>\n",
       "      <td>SUBJ_039498</td>\n",
       "      <td>Seated Lean Non Dom - FACE DOWN</td>\n",
       "      <td>Performs gesture</td>\n",
       "      <td>Gesture</td>\n",
       "      <td>Write name on leg</td>\n",
       "      <td>3.503906</td>\n",
       "      <td>...</td>\n",
       "      <td>False</td>\n",
       "      <td>False</td>\n",
       "      <td>False</td>\n",
       "      <td>False</td>\n",
       "      <td>True</td>\n",
       "      <td>False</td>\n",
       "      <td>False</td>\n",
       "      <td>False</td>\n",
       "      <td>False</td>\n",
       "      <td>False</td>\n",
       "    </tr>\n",
       "    <tr>\n",
       "      <th>574941</th>\n",
       "      <td>SEQ_065531_000049</td>\n",
       "      <td>Non-Target</td>\n",
       "      <td>SEQ_065531</td>\n",
       "      <td>49</td>\n",
       "      <td>SUBJ_039498</td>\n",
       "      <td>Seated Lean Non Dom - FACE DOWN</td>\n",
       "      <td>Performs gesture</td>\n",
       "      <td>Gesture</td>\n",
       "      <td>Write name on leg</td>\n",
       "      <td>3.773438</td>\n",
       "      <td>...</td>\n",
       "      <td>False</td>\n",
       "      <td>False</td>\n",
       "      <td>False</td>\n",
       "      <td>False</td>\n",
       "      <td>True</td>\n",
       "      <td>False</td>\n",
       "      <td>False</td>\n",
       "      <td>False</td>\n",
       "      <td>False</td>\n",
       "      <td>False</td>\n",
       "    </tr>\n",
       "    <tr>\n",
       "      <th>574942</th>\n",
       "      <td>SEQ_065531_000050</td>\n",
       "      <td>Non-Target</td>\n",
       "      <td>SEQ_065531</td>\n",
       "      <td>50</td>\n",
       "      <td>SUBJ_039498</td>\n",
       "      <td>Seated Lean Non Dom - FACE DOWN</td>\n",
       "      <td>Performs gesture</td>\n",
       "      <td>Gesture</td>\n",
       "      <td>Write name on leg</td>\n",
       "      <td>3.082031</td>\n",
       "      <td>...</td>\n",
       "      <td>False</td>\n",
       "      <td>False</td>\n",
       "      <td>False</td>\n",
       "      <td>False</td>\n",
       "      <td>True</td>\n",
       "      <td>False</td>\n",
       "      <td>False</td>\n",
       "      <td>False</td>\n",
       "      <td>False</td>\n",
       "      <td>False</td>\n",
       "    </tr>\n",
       "    <tr>\n",
       "      <th>574943</th>\n",
       "      <td>SEQ_065531_000051</td>\n",
       "      <td>Non-Target</td>\n",
       "      <td>SEQ_065531</td>\n",
       "      <td>51</td>\n",
       "      <td>SUBJ_039498</td>\n",
       "      <td>Seated Lean Non Dom - FACE DOWN</td>\n",
       "      <td>Performs gesture</td>\n",
       "      <td>Gesture</td>\n",
       "      <td>Write name on leg</td>\n",
       "      <td>3.964844</td>\n",
       "      <td>...</td>\n",
       "      <td>False</td>\n",
       "      <td>False</td>\n",
       "      <td>False</td>\n",
       "      <td>False</td>\n",
       "      <td>True</td>\n",
       "      <td>False</td>\n",
       "      <td>False</td>\n",
       "      <td>False</td>\n",
       "      <td>False</td>\n",
       "      <td>False</td>\n",
       "    </tr>\n",
       "    <tr>\n",
       "      <th>574944</th>\n",
       "      <td>SEQ_065531_000052</td>\n",
       "      <td>Non-Target</td>\n",
       "      <td>SEQ_065531</td>\n",
       "      <td>52</td>\n",
       "      <td>SUBJ_039498</td>\n",
       "      <td>Seated Lean Non Dom - FACE DOWN</td>\n",
       "      <td>Performs gesture</td>\n",
       "      <td>Gesture</td>\n",
       "      <td>Write name on leg</td>\n",
       "      <td>4.269531</td>\n",
       "      <td>...</td>\n",
       "      <td>False</td>\n",
       "      <td>False</td>\n",
       "      <td>False</td>\n",
       "      <td>False</td>\n",
       "      <td>True</td>\n",
       "      <td>False</td>\n",
       "      <td>False</td>\n",
       "      <td>False</td>\n",
       "      <td>False</td>\n",
       "      <td>False</td>\n",
       "    </tr>\n",
       "  </tbody>\n",
       "</table>\n",
       "<p>574945 rows × 365 columns</p>\n",
       "</div>"
      ],
      "text/plain": [
       "                   row_id sequence_type sequence_id  sequence_counter  \\\n",
       "0       SEQ_000007_000000        Target  SEQ_000007                 0   \n",
       "1       SEQ_000007_000001        Target  SEQ_000007                 1   \n",
       "2       SEQ_000007_000002        Target  SEQ_000007                 2   \n",
       "3       SEQ_000007_000003        Target  SEQ_000007                 3   \n",
       "4       SEQ_000007_000004        Target  SEQ_000007                 4   \n",
       "...                   ...           ...         ...               ...   \n",
       "574940  SEQ_065531_000048    Non-Target  SEQ_065531                48   \n",
       "574941  SEQ_065531_000049    Non-Target  SEQ_065531                49   \n",
       "574942  SEQ_065531_000050    Non-Target  SEQ_065531                50   \n",
       "574943  SEQ_065531_000051    Non-Target  SEQ_065531                51   \n",
       "574944  SEQ_065531_000052    Non-Target  SEQ_065531                52   \n",
       "\n",
       "            subject                      orientation  \\\n",
       "0       SUBJ_059520  Seated Lean Non Dom - FACE DOWN   \n",
       "1       SUBJ_059520  Seated Lean Non Dom - FACE DOWN   \n",
       "2       SUBJ_059520  Seated Lean Non Dom - FACE DOWN   \n",
       "3       SUBJ_059520  Seated Lean Non Dom - FACE DOWN   \n",
       "4       SUBJ_059520  Seated Lean Non Dom - FACE DOWN   \n",
       "...             ...                              ...   \n",
       "574940  SUBJ_039498  Seated Lean Non Dom - FACE DOWN   \n",
       "574941  SUBJ_039498  Seated Lean Non Dom - FACE DOWN   \n",
       "574942  SUBJ_039498  Seated Lean Non Dom - FACE DOWN   \n",
       "574943  SUBJ_039498  Seated Lean Non Dom - FACE DOWN   \n",
       "574944  SUBJ_039498  Seated Lean Non Dom - FACE DOWN   \n",
       "\n",
       "                                         behavior       phase  \\\n",
       "0       Relaxes and moves hand to target location  Transition   \n",
       "1       Relaxes and moves hand to target location  Transition   \n",
       "2       Relaxes and moves hand to target location  Transition   \n",
       "3       Relaxes and moves hand to target location  Transition   \n",
       "4       Relaxes and moves hand to target location  Transition   \n",
       "...                                           ...         ...   \n",
       "574940                           Performs gesture     Gesture   \n",
       "574941                           Performs gesture     Gesture   \n",
       "574942                           Performs gesture     Gesture   \n",
       "574943                           Performs gesture     Gesture   \n",
       "574944                           Performs gesture     Gesture   \n",
       "\n",
       "                   gesture     acc_x  ...  Neck - scratch  Text on phone  \\\n",
       "0       Cheek - pinch skin  6.683594  ...           False          False   \n",
       "1       Cheek - pinch skin  6.949219  ...           False          False   \n",
       "2       Cheek - pinch skin  5.722656  ...           False          False   \n",
       "3       Cheek - pinch skin  6.601562  ...           False          False   \n",
       "4       Cheek - pinch skin  5.566406  ...           False          False   \n",
       "...                    ...       ...  ...             ...            ...   \n",
       "574940   Write name on leg  3.503906  ...           False          False   \n",
       "574941   Write name on leg  3.773438  ...           False          False   \n",
       "574942   Write name on leg  3.082031  ...           False          False   \n",
       "574943   Write name on leg  3.964844  ...           False          False   \n",
       "574944   Write name on leg  4.269531  ...           False          False   \n",
       "\n",
       "        Wave hello  Write name in air  Write name on leg  \\\n",
       "0            False              False              False   \n",
       "1            False              False              False   \n",
       "2            False              False              False   \n",
       "3            False              False              False   \n",
       "4            False              False              False   \n",
       "...            ...                ...                ...   \n",
       "574940       False              False               True   \n",
       "574941       False              False               True   \n",
       "574942       False              False               True   \n",
       "574943       False              False               True   \n",
       "574944       False              False               True   \n",
       "\n",
       "        Drink from bottle/cup  Pinch knee/leg skin  Pull air toward your face  \\\n",
       "0                       False                False                      False   \n",
       "1                       False                False                      False   \n",
       "2                       False                False                      False   \n",
       "3                       False                False                      False   \n",
       "4                       False                False                      False   \n",
       "...                       ...                  ...                        ...   \n",
       "574940                  False                False                      False   \n",
       "574941                  False                False                      False   \n",
       "574942                  False                False                      False   \n",
       "574943                  False                False                      False   \n",
       "574944                  False                False                      False   \n",
       "\n",
       "        Scratch knee/leg skin  Glasses on/off  \n",
       "0                       False           False  \n",
       "1                       False           False  \n",
       "2                       False           False  \n",
       "3                       False           False  \n",
       "4                       False           False  \n",
       "...                       ...             ...  \n",
       "574940                  False           False  \n",
       "574941                  False           False  \n",
       "574942                  False           False  \n",
       "574943                  False           False  \n",
       "574944                  False           False  \n",
       "\n",
       "[574945 rows x 365 columns]"
      ]
     },
     "execution_count": 9,
     "metadata": {},
     "output_type": "execute_result"
    }
   ],
   "source": [
    "one_hot_target = pd.get_dummies(df[\"gesture\"])\n",
    "df[one_hot_target.columns] = one_hot_target\n",
    "df"
   ]
  },
  {
   "cell_type": "markdown",
   "id": "8812dc08",
   "metadata": {},
   "source": [
    "### ToF data aggregation.\n",
    "Time of Flight columns take most of the data, let's reduce their size by aggregating by mean for each Time of Flight sensor."
   ]
  },
  {
   "cell_type": "code",
   "execution_count": 10,
   "id": "2b4f83f2",
   "metadata": {},
   "outputs": [
    {
     "data": {
      "text/html": [
       "<div>\n",
       "<style scoped>\n",
       "    .dataframe tbody tr th:only-of-type {\n",
       "        vertical-align: middle;\n",
       "    }\n",
       "\n",
       "    .dataframe tbody tr th {\n",
       "        vertical-align: top;\n",
       "    }\n",
       "\n",
       "    .dataframe thead th {\n",
       "        text-align: right;\n",
       "    }\n",
       "</style>\n",
       "<table border=\"1\" class=\"dataframe\">\n",
       "  <thead>\n",
       "    <tr style=\"text-align: right;\">\n",
       "      <th></th>\n",
       "      <th>row_id</th>\n",
       "      <th>sequence_type</th>\n",
       "      <th>sequence_id</th>\n",
       "      <th>sequence_counter</th>\n",
       "      <th>subject</th>\n",
       "      <th>orientation</th>\n",
       "      <th>behavior</th>\n",
       "      <th>phase</th>\n",
       "      <th>gesture</th>\n",
       "      <th>acc_x</th>\n",
       "      <th>...</th>\n",
       "      <th>Drink from bottle/cup</th>\n",
       "      <th>Pinch knee/leg skin</th>\n",
       "      <th>Pull air toward your face</th>\n",
       "      <th>Scratch knee/leg skin</th>\n",
       "      <th>Glasses on/off</th>\n",
       "      <th>tof_1</th>\n",
       "      <th>tof_2</th>\n",
       "      <th>tof_3</th>\n",
       "      <th>tof_4</th>\n",
       "      <th>tof_5</th>\n",
       "    </tr>\n",
       "  </thead>\n",
       "  <tbody>\n",
       "    <tr>\n",
       "      <th>0</th>\n",
       "      <td>SEQ_000007_000000</td>\n",
       "      <td>Target</td>\n",
       "      <td>SEQ_000007</td>\n",
       "      <td>0</td>\n",
       "      <td>SUBJ_059520</td>\n",
       "      <td>Seated Lean Non Dom - FACE DOWN</td>\n",
       "      <td>Relaxes and moves hand to target location</td>\n",
       "      <td>Transition</td>\n",
       "      <td>Cheek - pinch skin</td>\n",
       "      <td>6.683594</td>\n",
       "      <td>...</td>\n",
       "      <td>False</td>\n",
       "      <td>False</td>\n",
       "      <td>False</td>\n",
       "      <td>False</td>\n",
       "      <td>False</td>\n",
       "      <td>139.250000</td>\n",
       "      <td>117.109375</td>\n",
       "      <td>91.687500</td>\n",
       "      <td>123.359375</td>\n",
       "      <td>135.343750</td>\n",
       "    </tr>\n",
       "    <tr>\n",
       "      <th>1</th>\n",
       "      <td>SEQ_000007_000001</td>\n",
       "      <td>Target</td>\n",
       "      <td>SEQ_000007</td>\n",
       "      <td>1</td>\n",
       "      <td>SUBJ_059520</td>\n",
       "      <td>Seated Lean Non Dom - FACE DOWN</td>\n",
       "      <td>Relaxes and moves hand to target location</td>\n",
       "      <td>Transition</td>\n",
       "      <td>Cheek - pinch skin</td>\n",
       "      <td>6.949219</td>\n",
       "      <td>...</td>\n",
       "      <td>False</td>\n",
       "      <td>False</td>\n",
       "      <td>False</td>\n",
       "      <td>False</td>\n",
       "      <td>False</td>\n",
       "      <td>139.796875</td>\n",
       "      <td>119.671875</td>\n",
       "      <td>97.921875</td>\n",
       "      <td>124.406250</td>\n",
       "      <td>137.000000</td>\n",
       "    </tr>\n",
       "    <tr>\n",
       "      <th>2</th>\n",
       "      <td>SEQ_000007_000002</td>\n",
       "      <td>Target</td>\n",
       "      <td>SEQ_000007</td>\n",
       "      <td>2</td>\n",
       "      <td>SUBJ_059520</td>\n",
       "      <td>Seated Lean Non Dom - FACE DOWN</td>\n",
       "      <td>Relaxes and moves hand to target location</td>\n",
       "      <td>Transition</td>\n",
       "      <td>Cheek - pinch skin</td>\n",
       "      <td>5.722656</td>\n",
       "      <td>...</td>\n",
       "      <td>False</td>\n",
       "      <td>False</td>\n",
       "      <td>False</td>\n",
       "      <td>False</td>\n",
       "      <td>False</td>\n",
       "      <td>142.375000</td>\n",
       "      <td>128.359375</td>\n",
       "      <td>116.953125</td>\n",
       "      <td>125.687500</td>\n",
       "      <td>140.234375</td>\n",
       "    </tr>\n",
       "    <tr>\n",
       "      <th>3</th>\n",
       "      <td>SEQ_000007_000003</td>\n",
       "      <td>Target</td>\n",
       "      <td>SEQ_000007</td>\n",
       "      <td>3</td>\n",
       "      <td>SUBJ_059520</td>\n",
       "      <td>Seated Lean Non Dom - FACE DOWN</td>\n",
       "      <td>Relaxes and moves hand to target location</td>\n",
       "      <td>Transition</td>\n",
       "      <td>Cheek - pinch skin</td>\n",
       "      <td>6.601562</td>\n",
       "      <td>...</td>\n",
       "      <td>False</td>\n",
       "      <td>False</td>\n",
       "      <td>False</td>\n",
       "      <td>False</td>\n",
       "      <td>False</td>\n",
       "      <td>154.109375</td>\n",
       "      <td>142.093750</td>\n",
       "      <td>144.515625</td>\n",
       "      <td>149.078125</td>\n",
       "      <td>142.609375</td>\n",
       "    </tr>\n",
       "    <tr>\n",
       "      <th>4</th>\n",
       "      <td>SEQ_000007_000004</td>\n",
       "      <td>Target</td>\n",
       "      <td>SEQ_000007</td>\n",
       "      <td>4</td>\n",
       "      <td>SUBJ_059520</td>\n",
       "      <td>Seated Lean Non Dom - FACE DOWN</td>\n",
       "      <td>Relaxes and moves hand to target location</td>\n",
       "      <td>Transition</td>\n",
       "      <td>Cheek - pinch skin</td>\n",
       "      <td>5.566406</td>\n",
       "      <td>...</td>\n",
       "      <td>False</td>\n",
       "      <td>False</td>\n",
       "      <td>False</td>\n",
       "      <td>False</td>\n",
       "      <td>False</td>\n",
       "      <td>177.953125</td>\n",
       "      <td>149.453125</td>\n",
       "      <td>161.828125</td>\n",
       "      <td>163.765625</td>\n",
       "      <td>151.265625</td>\n",
       "    </tr>\n",
       "    <tr>\n",
       "      <th>...</th>\n",
       "      <td>...</td>\n",
       "      <td>...</td>\n",
       "      <td>...</td>\n",
       "      <td>...</td>\n",
       "      <td>...</td>\n",
       "      <td>...</td>\n",
       "      <td>...</td>\n",
       "      <td>...</td>\n",
       "      <td>...</td>\n",
       "      <td>...</td>\n",
       "      <td>...</td>\n",
       "      <td>...</td>\n",
       "      <td>...</td>\n",
       "      <td>...</td>\n",
       "      <td>...</td>\n",
       "      <td>...</td>\n",
       "      <td>...</td>\n",
       "      <td>...</td>\n",
       "      <td>...</td>\n",
       "      <td>...</td>\n",
       "      <td>...</td>\n",
       "    </tr>\n",
       "    <tr>\n",
       "      <th>574940</th>\n",
       "      <td>SEQ_065531_000048</td>\n",
       "      <td>Non-Target</td>\n",
       "      <td>SEQ_065531</td>\n",
       "      <td>48</td>\n",
       "      <td>SUBJ_039498</td>\n",
       "      <td>Seated Lean Non Dom - FACE DOWN</td>\n",
       "      <td>Performs gesture</td>\n",
       "      <td>Gesture</td>\n",
       "      <td>Write name on leg</td>\n",
       "      <td>3.503906</td>\n",
       "      <td>...</td>\n",
       "      <td>False</td>\n",
       "      <td>False</td>\n",
       "      <td>False</td>\n",
       "      <td>False</td>\n",
       "      <td>False</td>\n",
       "      <td>68.562500</td>\n",
       "      <td>67.750000</td>\n",
       "      <td>144.437500</td>\n",
       "      <td>74.062500</td>\n",
       "      <td>52.843750</td>\n",
       "    </tr>\n",
       "    <tr>\n",
       "      <th>574941</th>\n",
       "      <td>SEQ_065531_000049</td>\n",
       "      <td>Non-Target</td>\n",
       "      <td>SEQ_065531</td>\n",
       "      <td>49</td>\n",
       "      <td>SUBJ_039498</td>\n",
       "      <td>Seated Lean Non Dom - FACE DOWN</td>\n",
       "      <td>Performs gesture</td>\n",
       "      <td>Gesture</td>\n",
       "      <td>Write name on leg</td>\n",
       "      <td>3.773438</td>\n",
       "      <td>...</td>\n",
       "      <td>False</td>\n",
       "      <td>False</td>\n",
       "      <td>False</td>\n",
       "      <td>False</td>\n",
       "      <td>False</td>\n",
       "      <td>70.234375</td>\n",
       "      <td>66.656250</td>\n",
       "      <td>144.000000</td>\n",
       "      <td>70.406250</td>\n",
       "      <td>54.531250</td>\n",
       "    </tr>\n",
       "    <tr>\n",
       "      <th>574942</th>\n",
       "      <td>SEQ_065531_000050</td>\n",
       "      <td>Non-Target</td>\n",
       "      <td>SEQ_065531</td>\n",
       "      <td>50</td>\n",
       "      <td>SUBJ_039498</td>\n",
       "      <td>Seated Lean Non Dom - FACE DOWN</td>\n",
       "      <td>Performs gesture</td>\n",
       "      <td>Gesture</td>\n",
       "      <td>Write name on leg</td>\n",
       "      <td>3.082031</td>\n",
       "      <td>...</td>\n",
       "      <td>False</td>\n",
       "      <td>False</td>\n",
       "      <td>False</td>\n",
       "      <td>False</td>\n",
       "      <td>False</td>\n",
       "      <td>66.671875</td>\n",
       "      <td>62.906250</td>\n",
       "      <td>136.906250</td>\n",
       "      <td>70.109375</td>\n",
       "      <td>57.468750</td>\n",
       "    </tr>\n",
       "    <tr>\n",
       "      <th>574943</th>\n",
       "      <td>SEQ_065531_000051</td>\n",
       "      <td>Non-Target</td>\n",
       "      <td>SEQ_065531</td>\n",
       "      <td>51</td>\n",
       "      <td>SUBJ_039498</td>\n",
       "      <td>Seated Lean Non Dom - FACE DOWN</td>\n",
       "      <td>Performs gesture</td>\n",
       "      <td>Gesture</td>\n",
       "      <td>Write name on leg</td>\n",
       "      <td>3.964844</td>\n",
       "      <td>...</td>\n",
       "      <td>False</td>\n",
       "      <td>False</td>\n",
       "      <td>False</td>\n",
       "      <td>False</td>\n",
       "      <td>False</td>\n",
       "      <td>67.218750</td>\n",
       "      <td>64.500000</td>\n",
       "      <td>140.531250</td>\n",
       "      <td>75.609375</td>\n",
       "      <td>54.937500</td>\n",
       "    </tr>\n",
       "    <tr>\n",
       "      <th>574944</th>\n",
       "      <td>SEQ_065531_000052</td>\n",
       "      <td>Non-Target</td>\n",
       "      <td>SEQ_065531</td>\n",
       "      <td>52</td>\n",
       "      <td>SUBJ_039498</td>\n",
       "      <td>Seated Lean Non Dom - FACE DOWN</td>\n",
       "      <td>Performs gesture</td>\n",
       "      <td>Gesture</td>\n",
       "      <td>Write name on leg</td>\n",
       "      <td>4.269531</td>\n",
       "      <td>...</td>\n",
       "      <td>False</td>\n",
       "      <td>False</td>\n",
       "      <td>False</td>\n",
       "      <td>False</td>\n",
       "      <td>False</td>\n",
       "      <td>68.937500</td>\n",
       "      <td>65.156250</td>\n",
       "      <td>143.906250</td>\n",
       "      <td>75.890625</td>\n",
       "      <td>55.281250</td>\n",
       "    </tr>\n",
       "  </tbody>\n",
       "</table>\n",
       "<p>574945 rows × 50 columns</p>\n",
       "</div>"
      ],
      "text/plain": [
       "                   row_id sequence_type sequence_id  sequence_counter  \\\n",
       "0       SEQ_000007_000000        Target  SEQ_000007                 0   \n",
       "1       SEQ_000007_000001        Target  SEQ_000007                 1   \n",
       "2       SEQ_000007_000002        Target  SEQ_000007                 2   \n",
       "3       SEQ_000007_000003        Target  SEQ_000007                 3   \n",
       "4       SEQ_000007_000004        Target  SEQ_000007                 4   \n",
       "...                   ...           ...         ...               ...   \n",
       "574940  SEQ_065531_000048    Non-Target  SEQ_065531                48   \n",
       "574941  SEQ_065531_000049    Non-Target  SEQ_065531                49   \n",
       "574942  SEQ_065531_000050    Non-Target  SEQ_065531                50   \n",
       "574943  SEQ_065531_000051    Non-Target  SEQ_065531                51   \n",
       "574944  SEQ_065531_000052    Non-Target  SEQ_065531                52   \n",
       "\n",
       "            subject                      orientation  \\\n",
       "0       SUBJ_059520  Seated Lean Non Dom - FACE DOWN   \n",
       "1       SUBJ_059520  Seated Lean Non Dom - FACE DOWN   \n",
       "2       SUBJ_059520  Seated Lean Non Dom - FACE DOWN   \n",
       "3       SUBJ_059520  Seated Lean Non Dom - FACE DOWN   \n",
       "4       SUBJ_059520  Seated Lean Non Dom - FACE DOWN   \n",
       "...             ...                              ...   \n",
       "574940  SUBJ_039498  Seated Lean Non Dom - FACE DOWN   \n",
       "574941  SUBJ_039498  Seated Lean Non Dom - FACE DOWN   \n",
       "574942  SUBJ_039498  Seated Lean Non Dom - FACE DOWN   \n",
       "574943  SUBJ_039498  Seated Lean Non Dom - FACE DOWN   \n",
       "574944  SUBJ_039498  Seated Lean Non Dom - FACE DOWN   \n",
       "\n",
       "                                         behavior       phase  \\\n",
       "0       Relaxes and moves hand to target location  Transition   \n",
       "1       Relaxes and moves hand to target location  Transition   \n",
       "2       Relaxes and moves hand to target location  Transition   \n",
       "3       Relaxes and moves hand to target location  Transition   \n",
       "4       Relaxes and moves hand to target location  Transition   \n",
       "...                                           ...         ...   \n",
       "574940                           Performs gesture     Gesture   \n",
       "574941                           Performs gesture     Gesture   \n",
       "574942                           Performs gesture     Gesture   \n",
       "574943                           Performs gesture     Gesture   \n",
       "574944                           Performs gesture     Gesture   \n",
       "\n",
       "                   gesture     acc_x  ...  Drink from bottle/cup  \\\n",
       "0       Cheek - pinch skin  6.683594  ...                  False   \n",
       "1       Cheek - pinch skin  6.949219  ...                  False   \n",
       "2       Cheek - pinch skin  5.722656  ...                  False   \n",
       "3       Cheek - pinch skin  6.601562  ...                  False   \n",
       "4       Cheek - pinch skin  5.566406  ...                  False   \n",
       "...                    ...       ...  ...                    ...   \n",
       "574940   Write name on leg  3.503906  ...                  False   \n",
       "574941   Write name on leg  3.773438  ...                  False   \n",
       "574942   Write name on leg  3.082031  ...                  False   \n",
       "574943   Write name on leg  3.964844  ...                  False   \n",
       "574944   Write name on leg  4.269531  ...                  False   \n",
       "\n",
       "        Pinch knee/leg skin  Pull air toward your face  Scratch knee/leg skin  \\\n",
       "0                     False                      False                  False   \n",
       "1                     False                      False                  False   \n",
       "2                     False                      False                  False   \n",
       "3                     False                      False                  False   \n",
       "4                     False                      False                  False   \n",
       "...                     ...                        ...                    ...   \n",
       "574940                False                      False                  False   \n",
       "574941                False                      False                  False   \n",
       "574942                False                      False                  False   \n",
       "574943                False                      False                  False   \n",
       "574944                False                      False                  False   \n",
       "\n",
       "        Glasses on/off       tof_1       tof_2       tof_3       tof_4  \\\n",
       "0                False  139.250000  117.109375   91.687500  123.359375   \n",
       "1                False  139.796875  119.671875   97.921875  124.406250   \n",
       "2                False  142.375000  128.359375  116.953125  125.687500   \n",
       "3                False  154.109375  142.093750  144.515625  149.078125   \n",
       "4                False  177.953125  149.453125  161.828125  163.765625   \n",
       "...                ...         ...         ...         ...         ...   \n",
       "574940           False   68.562500   67.750000  144.437500   74.062500   \n",
       "574941           False   70.234375   66.656250  144.000000   70.406250   \n",
       "574942           False   66.671875   62.906250  136.906250   70.109375   \n",
       "574943           False   67.218750   64.500000  140.531250   75.609375   \n",
       "574944           False   68.937500   65.156250  143.906250   75.890625   \n",
       "\n",
       "             tof_5  \n",
       "0       135.343750  \n",
       "1       137.000000  \n",
       "2       140.234375  \n",
       "3       142.609375  \n",
       "4       151.265625  \n",
       "...            ...  \n",
       "574940   52.843750  \n",
       "574941   54.531250  \n",
       "574942   57.468750  \n",
       "574943   54.937500  \n",
       "574944   55.281250  \n",
       "\n",
       "[574945 rows x 50 columns]"
      ]
     },
     "execution_count": 10,
     "metadata": {},
     "output_type": "execute_result"
    }
   ],
   "source": [
    "def agg_tof_cols_per_sensor(df:DF) -> DF:\n",
    "    for tof_idx in range(1, 6):\n",
    "        tof_name = f\"tof_{tof_idx}\"\n",
    "        tof_cols = [f\"{tof_name}_v{v_idx}\" for v_idx in range(64)]\n",
    "        if any(map(lambda col: col not in df.columns, tof_cols)):\n",
    "            print(f\"Some (or) all ToF {tof_idx} columns are not in the df. Maybe you already ran this cell?\")\n",
    "            continue\n",
    "        df = (\n",
    "            df\n",
    "            # Need to use a dict otherwise the name of the col will be \"tof_preffix\" instead of the value it contains\n",
    "            .assign(**{tof_name:df[tof_cols].mean(axis=\"columns\")})\n",
    "            .drop(columns=tof_cols)\n",
    "        )\n",
    "    return df\n",
    "\n",
    "df = agg_tof_cols_per_sensor(df)\n",
    "df"
   ]
  },
  {
   "cell_type": "markdown",
   "id": "daaafef8",
   "metadata": {},
   "source": [
    "### Add derivative w.r.t time features"
   ]
  },
  {
   "cell_type": "code",
   "execution_count": 11,
   "id": "8bd05775",
   "metadata": {},
   "outputs": [],
   "source": [
    "def add_diff_features(df:DF) -> DF:\n",
    "    df[[col + \"_diff\" for col in get_feature_cols(df)]] = (\n",
    "        df\n",
    "        .groupby(\"sequence_id\", observed=True)\n",
    "        [get_feature_cols(df)]\n",
    "        .diff()\n",
    "        .fillna(get_fillna_val_per_feature_col(df))\n",
    "        .values\n",
    "    )\n",
    "    return df\n",
    "\n",
    "df = add_diff_features(df)"
   ]
  },
  {
   "cell_type": "code",
   "execution_count": 12,
   "id": "343e0255",
   "metadata": {},
   "outputs": [
    {
     "data": {
      "text/plain": [
       "46"
      ]
     },
     "execution_count": 12,
     "metadata": {},
     "output_type": "execute_result"
    }
   ],
   "source": [
    "len(get_feature_cols(df))"
   ]
  },
  {
   "cell_type": "markdown",
   "id": "05e480d3",
   "metadata": {},
   "source": [
    "### Split into folds"
   ]
  },
  {
   "cell_type": "code",
   "execution_count": 13,
   "id": "4bae51e8",
   "metadata": {},
   "outputs": [],
   "source": [
    "def split_dataset(df:DF, by=\"subject\") -> tuple[DF, DF]:\n",
    "    unique_sequences = df[by].unique()\n",
    "    validation_sequences = pd.Series(unique_sequences).sample(\n",
    "        frac=VALIDATION_FRACTION, replace=False\n",
    "    )\n",
    "\n",
    "    validation_set = df[df[by].isin(validation_sequences)].copy()\n",
    "    train_set = df[~df[by].isin(validation_sequences)].copy()\n",
    "\n",
    "    return train_set, validation_set\n",
    "\n",
    "folds = list(map(split_dataset, repeat(df, N_FOLDS)))"
   ]
  },
  {
   "cell_type": "markdown",
   "id": "d81b9c0d",
   "metadata": {},
   "source": [
    "### Std norm\n",
    "Standard scale the feature cols (should probably do something different for IMU cols).  \n",
    "<!-- *Deprecated, std norm is now performed at dataset creation to avoid target leakage.*   -->"
   ]
  },
  {
   "cell_type": "code",
   "execution_count": 14,
   "id": "c9d5755e",
   "metadata": {},
   "outputs": [],
   "source": [
    "def std_norm_dataset(train:DF, val:DF) -> tuple[DF, DF]:\n",
    "    means = train[get_feature_cols(df)].mean().astype(\"float32\")\n",
    "    stds = train[get_feature_cols(df)].std().astype(\"float32\")\n",
    "    train.loc[:, get_feature_cols(df)] = (train[get_feature_cols(df)] - means) / stds\n",
    "    val.loc[:, get_feature_cols(df)] = (val[get_feature_cols(df)] - means) / stds\n",
    "    return train, val\n",
    "\n",
    "folds = list(starmap(std_norm_dataset, folds))"
   ]
  },
  {
   "cell_type": "markdown",
   "id": "b36ccf25",
   "metadata": {},
   "source": [
    "Normalize full dataset."
   ]
  },
  {
   "cell_type": "code",
   "execution_count": 15,
   "id": "9b2c7cac",
   "metadata": {},
   "outputs": [
    {
     "name": "stderr",
     "output_type": "stream",
     "text": [
      "/tmp/ipykernel_3295/629001182.py:6: FutureWarning: Setting an item of incompatible dtype is deprecated and will raise in a future error of pandas. Value '[-0.99715055 -0.95773732 -0.63026367 ... -1.08920292 -1.07042212\n",
      " -1.09237714]' has dtype incompatible with float32, please explicitly cast to a compatible dtype first.\n",
      "  df.loc[:, get_feature_cols(df)] = (df[get_feature_cols(df)] - full_dataset_meta_data[\"mean\"]) / full_dataset_meta_data['std']\n",
      "/tmp/ipykernel_3295/629001182.py:6: FutureWarning: Setting an item of incompatible dtype is deprecated and will raise in a future error of pandas. Value '[-0.45493793 -0.33714769  0.02242254 ...  0.39941038  0.46789995\n",
      "  0.5316661 ]' has dtype incompatible with float32, please explicitly cast to a compatible dtype first.\n",
      "  df.loc[:, get_feature_cols(df)] = (df[get_feature_cols(df)] - full_dataset_meta_data[\"mean\"]) / full_dataset_meta_data['std']\n",
      "/tmp/ipykernel_3295/629001182.py:6: FutureWarning: Setting an item of incompatible dtype is deprecated and will raise in a future error of pandas. Value '[ 0.37828318  0.44191741  0.66331731 ... -1.41863723 -1.47327315\n",
      " -1.56520538]' has dtype incompatible with float32, please explicitly cast to a compatible dtype first.\n",
      "  df.loc[:, get_feature_cols(df)] = (df[get_feature_cols(df)] - full_dataset_meta_data[\"mean\"]) / full_dataset_meta_data['std']\n",
      "/tmp/ipykernel_3295/629001182.py:6: FutureWarning: Setting an item of incompatible dtype is deprecated and will raise in a future error of pandas. Value '[-0.19114313 -0.23970151  0.01806238 ... -0.02437902 -0.22398579\n",
      " -0.28935106]' has dtype incompatible with float32, please explicitly cast to a compatible dtype first.\n",
      "  df.loc[:, get_feature_cols(df)] = (df[get_feature_cols(df)] - full_dataset_meta_data[\"mean\"]) / full_dataset_meta_data['std']\n",
      "/tmp/ipykernel_3295/629001182.py:6: FutureWarning: Setting an item of incompatible dtype is deprecated and will raise in a future error of pandas. Value '[ 0.14872681  0.19953096  0.37176939 ... -0.9259047  -0.894307\n",
      " -0.88129619]' has dtype incompatible with float32, please explicitly cast to a compatible dtype first.\n",
      "  df.loc[:, get_feature_cols(df)] = (df[get_feature_cols(df)] - full_dataset_meta_data[\"mean\"]) / full_dataset_meta_data['std']\n",
      "/tmp/ipykernel_3295/629001182.py:6: FutureWarning: Setting an item of incompatible dtype is deprecated and will raise in a future error of pandas. Value '[-0.01677826  0.00259618  0.02630819 ... -1.00227249 -0.90048435\n",
      " -0.89527928]' has dtype incompatible with float32, please explicitly cast to a compatible dtype first.\n",
      "  df.loc[:, get_feature_cols(df)] = (df[get_feature_cols(df)] - full_dataset_meta_data[\"mean\"]) / full_dataset_meta_data['std']\n",
      "/tmp/ipykernel_3295/629001182.py:6: FutureWarning: Setting an item of incompatible dtype is deprecated and will raise in a future error of pandas. Value '[1.18477426 1.19708885 0.97652363 ... 0.30165955 0.38943235 0.37884916]' has dtype incompatible with float32, please explicitly cast to a compatible dtype first.\n",
      "  df.loc[:, get_feature_cols(df)] = (df[get_feature_cols(df)] - full_dataset_meta_data[\"mean\"]) / full_dataset_meta_data['std']\n",
      "/tmp/ipykernel_3295/629001182.py:6: FutureWarning: Setting an item of incompatible dtype is deprecated and will raise in a future error of pandas. Value '[0.47793803 0.49229795 0.5108575  ... 0.61815265 0.56165606 0.56047498]' has dtype incompatible with float32, please explicitly cast to a compatible dtype first.\n",
      "  df.loc[:, get_feature_cols(df)] = (df[get_feature_cols(df)] - full_dataset_meta_data[\"mean\"]) / full_dataset_meta_data['std']\n",
      "/tmp/ipykernel_3295/629001182.py:6: FutureWarning: Setting an item of incompatible dtype is deprecated and will raise in a future error of pandas. Value '[0.92192948 0.93580851 0.7796449  ... 0.3332821  0.43304996 0.44690426]' has dtype incompatible with float32, please explicitly cast to a compatible dtype first.\n",
      "  df.loc[:, get_feature_cols(df)] = (df[get_feature_cols(df)] - full_dataset_meta_data[\"mean\"]) / full_dataset_meta_data['std']\n",
      "/tmp/ipykernel_3295/629001182.py:6: FutureWarning: Setting an item of incompatible dtype is deprecated and will raise in a future error of pandas. Value '[0.36724552 0.38668742 0.42327279 ... 0.84895603 0.86489636 0.87229757]' has dtype incompatible with float32, please explicitly cast to a compatible dtype first.\n",
      "  df.loc[:, get_feature_cols(df)] = (df[get_feature_cols(df)] - full_dataset_meta_data[\"mean\"]) / full_dataset_meta_data['std']\n",
      "/tmp/ipykernel_3295/629001182.py:6: FutureWarning: Setting an item of incompatible dtype is deprecated and will raise in a future error of pandas. Value '[ 0.33957131  0.34994752  0.39886392 ... -1.03749939 -1.02712318\n",
      " -0.99451225]' has dtype incompatible with float32, please explicitly cast to a compatible dtype first.\n",
      "  df.loc[:, get_feature_cols(df)] = (df[get_feature_cols(df)] - full_dataset_meta_data[\"mean\"]) / full_dataset_meta_data['std']\n",
      "/tmp/ipykernel_3295/629001182.py:6: FutureWarning: Setting an item of incompatible dtype is deprecated and will raise in a future error of pandas. Value '[0.50231783 0.59310455 0.82146787 ... 0.62009948 0.69565178 0.67444004]' has dtype incompatible with float32, please explicitly cast to a compatible dtype first.\n",
      "  df.loc[:, get_feature_cols(df)] = (df[get_feature_cols(df)] - full_dataset_meta_data[\"mean\"]) / full_dataset_meta_data['std']\n",
      "/tmp/ipykernel_3295/629001182.py:6: FutureWarning: Setting an item of incompatible dtype is deprecated and will raise in a future error of pandas. Value '[ 0.40467845  0.43377058  0.49058256 ... -0.96320044 -1.007662\n",
      " -1.00162401]' has dtype incompatible with float32, please explicitly cast to a compatible dtype first.\n",
      "  df.loc[:, get_feature_cols(df)] = (df[get_feature_cols(df)] - full_dataset_meta_data[\"mean\"]) / full_dataset_meta_data['std']\n",
      "/tmp/ipykernel_3295/629001182.py:6: FutureWarning: Setting an item of incompatible dtype is deprecated and will raise in a future error of pandas. Value '[0.63344209 0.68143673 0.74140548 ... 0.29969805 0.33057229 0.31433888]' has dtype incompatible with float32, please explicitly cast to a compatible dtype first.\n",
      "  df.loc[:, get_feature_cols(df)] = (df[get_feature_cols(df)] - full_dataset_meta_data[\"mean\"]) / full_dataset_meta_data['std']\n",
      "/tmp/ipykernel_3295/629001182.py:6: FutureWarning: Setting an item of incompatible dtype is deprecated and will raise in a future error of pandas. Value '[-0.7163434  -0.68184003 -0.54935162 ... -0.74193903 -0.72243223\n",
      " -0.72446184]' has dtype incompatible with float32, please explicitly cast to a compatible dtype first.\n",
      "  df.loc[:, get_feature_cols(df)] = (df[get_feature_cols(df)] - full_dataset_meta_data[\"mean\"]) / full_dataset_meta_data['std']\n",
      "/tmp/ipykernel_3295/629001182.py:6: FutureWarning: Setting an item of incompatible dtype is deprecated and will raise in a future error of pandas. Value '[-0.50852472 -0.4764371  -0.3341469  ... -1.60542168 -1.61081346\n",
      " -1.61396961]' has dtype incompatible with float32, please explicitly cast to a compatible dtype first.\n",
      "  df.loc[:, get_feature_cols(df)] = (df[get_feature_cols(df)] - full_dataset_meta_data[\"mean\"]) / full_dataset_meta_data['std']\n",
      "/tmp/ipykernel_3295/629001182.py:6: FutureWarning: Setting an item of incompatible dtype is deprecated and will raise in a future error of pandas. Value '[-1.23853993 -1.2679199  -1.34974677 ...  0.0416742   0.01715042\n",
      "  0.03026214]' has dtype incompatible with float32, please explicitly cast to a compatible dtype first.\n",
      "  df.loc[:, get_feature_cols(df)] = (df[get_feature_cols(df)] - full_dataset_meta_data[\"mean\"]) / full_dataset_meta_data['std']\n",
      "/tmp/ipykernel_3295/629001182.py:6: FutureWarning: Setting an item of incompatible dtype is deprecated and will raise in a future error of pandas. Value '[0.87240755 0.91835342 0.70619159 ... 0.24943555 0.40213801 0.45484063]' has dtype incompatible with float32, please explicitly cast to a compatible dtype first.\n",
      "  df.loc[:, get_feature_cols(df)] = (df[get_feature_cols(df)] - full_dataset_meta_data[\"mean\"]) / full_dataset_meta_data['std']\n",
      "/tmp/ipykernel_3295/629001182.py:6: FutureWarning: Setting an item of incompatible dtype is deprecated and will raise in a future error of pandas. Value '[ 0.62581574  0.58801223  0.96476591 ... -1.13877547 -1.41493335\n",
      " -1.50399587]' has dtype incompatible with float32, please explicitly cast to a compatible dtype first.\n",
      "  df.loc[:, get_feature_cols(df)] = (df[get_feature_cols(df)] - full_dataset_meta_data[\"mean\"]) / full_dataset_meta_data['std']\n",
      "/tmp/ipykernel_3295/629001182.py:6: FutureWarning: Setting an item of incompatible dtype is deprecated and will raise in a future error of pandas. Value '[ 0.8841304   0.8841304   0.72331979 ... -0.31414283 -0.42967666\n",
      " -0.54442986]' has dtype incompatible with float32, please explicitly cast to a compatible dtype first.\n",
      "  df.loc[:, get_feature_cols(df)] = (df[get_feature_cols(df)] - full_dataset_meta_data[\"mean\"]) / full_dataset_meta_data['std']\n"
     ]
    }
   ],
   "source": [
    "# Retain full dataset meta data for inference\n",
    "full_dataset_meta_data = {\n",
    "    \"mean\": df[get_feature_cols(df)].mean().astype(\"float32\").to_dict(),\n",
    "    \"std\": df[get_feature_cols(df)].std().astype(\"float32\").to_dict(),\n",
    "}\n",
    "df.loc[:, get_feature_cols(df)] = (df[get_feature_cols(df)] - full_dataset_meta_data[\"mean\"]) / full_dataset_meta_data['std']"
   ]
  },
  {
   "cell_type": "markdown",
   "id": "7d8a04ce",
   "metadata": {},
   "source": [
    "Verify the mean and std of the full dataset."
   ]
  },
  {
   "cell_type": "code",
   "execution_count": 16,
   "id": "b02ca859",
   "metadata": {},
   "outputs": [
    {
     "data": {
      "text/html": [
       "<div>\n",
       "<style scoped>\n",
       "    .dataframe tbody tr th:only-of-type {\n",
       "        vertical-align: middle;\n",
       "    }\n",
       "\n",
       "    .dataframe tbody tr th {\n",
       "        vertical-align: top;\n",
       "    }\n",
       "\n",
       "    .dataframe thead th {\n",
       "        text-align: right;\n",
       "    }\n",
       "</style>\n",
       "<table border=\"1\" class=\"dataframe\">\n",
       "  <thead>\n",
       "    <tr style=\"text-align: right;\">\n",
       "      <th></th>\n",
       "      <th>euler_y</th>\n",
       "      <th>euler_y_diff</th>\n",
       "      <th>tof_1_diff</th>\n",
       "      <th>rot_w</th>\n",
       "      <th>tof_3</th>\n",
       "      <th>tof_2_diff</th>\n",
       "      <th>rot_x_diff</th>\n",
       "      <th>gravity_free_acc_y</th>\n",
       "      <th>thm_3_diff</th>\n",
       "      <th>tof_4_diff</th>\n",
       "      <th>...</th>\n",
       "      <th>euler_x_diff</th>\n",
       "      <th>rot_y</th>\n",
       "      <th>gravity_free_acc_x_diff</th>\n",
       "      <th>thm_2_diff</th>\n",
       "      <th>rot_x</th>\n",
       "      <th>rot_z</th>\n",
       "      <th>acc_x</th>\n",
       "      <th>thm_1_diff</th>\n",
       "      <th>acc_z</th>\n",
       "      <th>acc_y</th>\n",
       "    </tr>\n",
       "  </thead>\n",
       "  <tbody>\n",
       "    <tr>\n",
       "      <th>mean</th>\n",
       "      <td>1.662774e-09</td>\n",
       "      <td>7.701115e-11</td>\n",
       "      <td>-2.311552e-10</td>\n",
       "      <td>-6.315844e-08</td>\n",
       "      <td>2.663846e-09</td>\n",
       "      <td>8.222476e-10</td>\n",
       "      <td>-2.359640e-10</td>\n",
       "      <td>2.548818e-08</td>\n",
       "      <td>-3.880065e-10</td>\n",
       "      <td>6.444108e-11</td>\n",
       "      <td>...</td>\n",
       "      <td>3.919100e-11</td>\n",
       "      <td>-8.728876e-10</td>\n",
       "      <td>-3.410553e-10</td>\n",
       "      <td>1.297276e-09</td>\n",
       "      <td>-2.663767e-08</td>\n",
       "      <td>1.855411e-08</td>\n",
       "      <td>-1.749467e-08</td>\n",
       "      <td>1.079359e-10</td>\n",
       "      <td>-2.971537e-09</td>\n",
       "      <td>1.186949e-08</td>\n",
       "    </tr>\n",
       "    <tr>\n",
       "      <th>std</th>\n",
       "      <td>1.000000e+00</td>\n",
       "      <td>1.000000e+00</td>\n",
       "      <td>1.000000e+00</td>\n",
       "      <td>1.000000e+00</td>\n",
       "      <td>1.000000e+00</td>\n",
       "      <td>1.000000e+00</td>\n",
       "      <td>1.000000e+00</td>\n",
       "      <td>1.000000e+00</td>\n",
       "      <td>1.000000e+00</td>\n",
       "      <td>1.000000e+00</td>\n",
       "      <td>...</td>\n",
       "      <td>1.000000e+00</td>\n",
       "      <td>1.000000e+00</td>\n",
       "      <td>1.000000e+00</td>\n",
       "      <td>1.000000e+00</td>\n",
       "      <td>1.000000e+00</td>\n",
       "      <td>1.000000e+00</td>\n",
       "      <td>1.000000e+00</td>\n",
       "      <td>1.000000e+00</td>\n",
       "      <td>1.000000e+00</td>\n",
       "      <td>1.000000e+00</td>\n",
       "    </tr>\n",
       "  </tbody>\n",
       "</table>\n",
       "<p>2 rows × 46 columns</p>\n",
       "</div>"
      ],
      "text/plain": [
       "           euler_y  euler_y_diff    tof_1_diff         rot_w         tof_3  \\\n",
       "mean  1.662774e-09  7.701115e-11 -2.311552e-10 -6.315844e-08  2.663846e-09   \n",
       "std   1.000000e+00  1.000000e+00  1.000000e+00  1.000000e+00  1.000000e+00   \n",
       "\n",
       "        tof_2_diff    rot_x_diff  gravity_free_acc_y    thm_3_diff  \\\n",
       "mean  8.222476e-10 -2.359640e-10        2.548818e-08 -3.880065e-10   \n",
       "std   1.000000e+00  1.000000e+00        1.000000e+00  1.000000e+00   \n",
       "\n",
       "        tof_4_diff  ...  euler_x_diff         rot_y  gravity_free_acc_x_diff  \\\n",
       "mean  6.444108e-11  ...  3.919100e-11 -8.728876e-10            -3.410553e-10   \n",
       "std   1.000000e+00  ...  1.000000e+00  1.000000e+00             1.000000e+00   \n",
       "\n",
       "        thm_2_diff         rot_x         rot_z         acc_x    thm_1_diff  \\\n",
       "mean  1.297276e-09 -2.663767e-08  1.855411e-08 -1.749467e-08  1.079359e-10   \n",
       "std   1.000000e+00  1.000000e+00  1.000000e+00  1.000000e+00  1.000000e+00   \n",
       "\n",
       "             acc_z         acc_y  \n",
       "mean -2.971537e-09  1.186949e-08  \n",
       "std   1.000000e+00  1.000000e+00  \n",
       "\n",
       "[2 rows x 46 columns]"
      ]
     },
     "execution_count": 16,
     "metadata": {},
     "output_type": "execute_result"
    }
   ],
   "source": [
    "df[get_feature_cols(df)].agg([\"mean\", \"std\"])"
   ]
  },
  {
   "cell_type": "markdown",
   "id": "f840652f",
   "metadata": {},
   "source": [
    "Let's compare the train to validation mean/std skews."
   ]
  },
  {
   "cell_type": "code",
   "execution_count": 17,
   "id": "9ce0ae47",
   "metadata": {},
   "outputs": [
    {
     "data": {
      "text/html": [
       "<div>\n",
       "<style scoped>\n",
       "    .dataframe tbody tr th:only-of-type {\n",
       "        vertical-align: middle;\n",
       "    }\n",
       "\n",
       "    .dataframe tbody tr th {\n",
       "        vertical-align: top;\n",
       "    }\n",
       "\n",
       "    .dataframe thead th {\n",
       "        text-align: right;\n",
       "    }\n",
       "</style>\n",
       "<table border=\"1\" class=\"dataframe\">\n",
       "  <thead>\n",
       "    <tr style=\"text-align: right;\">\n",
       "      <th></th>\n",
       "      <th></th>\n",
       "      <th>euler_y</th>\n",
       "      <th>euler_y_diff</th>\n",
       "      <th>tof_1_diff</th>\n",
       "      <th>rot_w</th>\n",
       "      <th>tof_3</th>\n",
       "      <th>tof_2_diff</th>\n",
       "      <th>rot_x_diff</th>\n",
       "      <th>gravity_free_acc_y</th>\n",
       "      <th>thm_3_diff</th>\n",
       "      <th>tof_4_diff</th>\n",
       "      <th>...</th>\n",
       "      <th>euler_x_diff</th>\n",
       "      <th>rot_y</th>\n",
       "      <th>gravity_free_acc_x_diff</th>\n",
       "      <th>thm_2_diff</th>\n",
       "      <th>rot_x</th>\n",
       "      <th>rot_z</th>\n",
       "      <th>acc_x</th>\n",
       "      <th>thm_1_diff</th>\n",
       "      <th>acc_z</th>\n",
       "      <th>acc_y</th>\n",
       "    </tr>\n",
       "  </thead>\n",
       "  <tbody>\n",
       "    <tr>\n",
       "      <th rowspan=\"2\" valign=\"top\">train</th>\n",
       "      <th>mean</th>\n",
       "      <td>-1.828573e-09</td>\n",
       "      <td>-7.499907e-10</td>\n",
       "      <td>4.029185e-10</td>\n",
       "      <td>3.876487e-08</td>\n",
       "      <td>7.581565e-08</td>\n",
       "      <td>-7.433843e-10</td>\n",
       "      <td>-2.814577e-10</td>\n",
       "      <td>5.274132e-10</td>\n",
       "      <td>-1.184460e-09</td>\n",
       "      <td>-2.943993e-10</td>\n",
       "      <td>...</td>\n",
       "      <td>-2.948765e-10</td>\n",
       "      <td>1.318533e-08</td>\n",
       "      <td>6.982685e-10</td>\n",
       "      <td>-1.174318e-09</td>\n",
       "      <td>1.793205e-08</td>\n",
       "      <td>5.168650e-08</td>\n",
       "      <td>3.691892e-09</td>\n",
       "      <td>-1.421233e-09</td>\n",
       "      <td>-2.320618e-08</td>\n",
       "      <td>1.911873e-08</td>\n",
       "    </tr>\n",
       "    <tr>\n",
       "      <th>std</th>\n",
       "      <td>1.000000e+00</td>\n",
       "      <td>1.000000e+00</td>\n",
       "      <td>1.000000e+00</td>\n",
       "      <td>1.000000e+00</td>\n",
       "      <td>9.999999e-01</td>\n",
       "      <td>1.000000e+00</td>\n",
       "      <td>1.000000e+00</td>\n",
       "      <td>1.000000e+00</td>\n",
       "      <td>1.000000e+00</td>\n",
       "      <td>1.000000e+00</td>\n",
       "      <td>...</td>\n",
       "      <td>1.000000e+00</td>\n",
       "      <td>1.000000e+00</td>\n",
       "      <td>1.000000e+00</td>\n",
       "      <td>1.000000e+00</td>\n",
       "      <td>1.000000e+00</td>\n",
       "      <td>1.000000e+00</td>\n",
       "      <td>9.999999e-01</td>\n",
       "      <td>1.000000e+00</td>\n",
       "      <td>9.999999e-01</td>\n",
       "      <td>9.999999e-01</td>\n",
       "    </tr>\n",
       "    <tr>\n",
       "      <th rowspan=\"2\" valign=\"top\">validation</th>\n",
       "      <th>mean</th>\n",
       "      <td>3.329926e-02</td>\n",
       "      <td>-6.669067e-03</td>\n",
       "      <td>3.659581e-03</td>\n",
       "      <td>-7.363053e-02</td>\n",
       "      <td>-5.818909e-02</td>\n",
       "      <td>3.052159e-03</td>\n",
       "      <td>1.279303e-04</td>\n",
       "      <td>-4.901702e-02</td>\n",
       "      <td>-1.236855e-03</td>\n",
       "      <td>5.187549e-03</td>\n",
       "      <td>...</td>\n",
       "      <td>-3.565085e-04</td>\n",
       "      <td>2.719552e-02</td>\n",
       "      <td>-6.157277e-03</td>\n",
       "      <td>-1.696489e-03</td>\n",
       "      <td>-7.617921e-02</td>\n",
       "      <td>-2.507462e-03</td>\n",
       "      <td>2.695584e-02</td>\n",
       "      <td>-3.213150e-03</td>\n",
       "      <td>-7.017456e-02</td>\n",
       "      <td>-4.343411e-03</td>\n",
       "    </tr>\n",
       "    <tr>\n",
       "      <th>std</th>\n",
       "      <td>1.045908e+00</td>\n",
       "      <td>1.014564e+00</td>\n",
       "      <td>9.422789e-01</td>\n",
       "      <td>9.347300e-01</td>\n",
       "      <td>1.095350e+00</td>\n",
       "      <td>9.664452e-01</td>\n",
       "      <td>1.038985e+00</td>\n",
       "      <td>9.580502e-01</td>\n",
       "      <td>1.028131e+00</td>\n",
       "      <td>9.424728e-01</td>\n",
       "      <td>...</td>\n",
       "      <td>9.553137e-01</td>\n",
       "      <td>1.005293e+00</td>\n",
       "      <td>9.865263e-01</td>\n",
       "      <td>1.023192e+00</td>\n",
       "      <td>1.009251e+00</td>\n",
       "      <td>1.008183e+00</td>\n",
       "      <td>1.038513e+00</td>\n",
       "      <td>1.016899e+00</td>\n",
       "      <td>9.479034e-01</td>\n",
       "      <td>9.911935e-01</td>\n",
       "    </tr>\n",
       "  </tbody>\n",
       "</table>\n",
       "<p>4 rows × 46 columns</p>\n",
       "</div>"
      ],
      "text/plain": [
       "                      euler_y  euler_y_diff    tof_1_diff         rot_w  \\\n",
       "train      mean -1.828573e-09 -7.499907e-10  4.029185e-10  3.876487e-08   \n",
       "           std   1.000000e+00  1.000000e+00  1.000000e+00  1.000000e+00   \n",
       "validation mean  3.329926e-02 -6.669067e-03  3.659581e-03 -7.363053e-02   \n",
       "           std   1.045908e+00  1.014564e+00  9.422789e-01  9.347300e-01   \n",
       "\n",
       "                        tof_3    tof_2_diff    rot_x_diff  gravity_free_acc_y  \\\n",
       "train      mean  7.581565e-08 -7.433843e-10 -2.814577e-10        5.274132e-10   \n",
       "           std   9.999999e-01  1.000000e+00  1.000000e+00        1.000000e+00   \n",
       "validation mean -5.818909e-02  3.052159e-03  1.279303e-04       -4.901702e-02   \n",
       "           std   1.095350e+00  9.664452e-01  1.038985e+00        9.580502e-01   \n",
       "\n",
       "                   thm_3_diff    tof_4_diff  ...  euler_x_diff         rot_y  \\\n",
       "train      mean -1.184460e-09 -2.943993e-10  ... -2.948765e-10  1.318533e-08   \n",
       "           std   1.000000e+00  1.000000e+00  ...  1.000000e+00  1.000000e+00   \n",
       "validation mean -1.236855e-03  5.187549e-03  ... -3.565085e-04  2.719552e-02   \n",
       "           std   1.028131e+00  9.424728e-01  ...  9.553137e-01  1.005293e+00   \n",
       "\n",
       "                 gravity_free_acc_x_diff    thm_2_diff         rot_x  \\\n",
       "train      mean             6.982685e-10 -1.174318e-09  1.793205e-08   \n",
       "           std              1.000000e+00  1.000000e+00  1.000000e+00   \n",
       "validation mean            -6.157277e-03 -1.696489e-03 -7.617921e-02   \n",
       "           std              9.865263e-01  1.023192e+00  1.009251e+00   \n",
       "\n",
       "                        rot_z         acc_x    thm_1_diff         acc_z  \\\n",
       "train      mean  5.168650e-08  3.691892e-09 -1.421233e-09 -2.320618e-08   \n",
       "           std   1.000000e+00  9.999999e-01  1.000000e+00  9.999999e-01   \n",
       "validation mean -2.507462e-03  2.695584e-02 -3.213150e-03 -7.017456e-02   \n",
       "           std   1.008183e+00  1.038513e+00  1.016899e+00  9.479034e-01   \n",
       "\n",
       "                        acc_y  \n",
       "train      mean  1.911873e-08  \n",
       "           std   9.999999e-01  \n",
       "validation mean -4.343411e-03  \n",
       "           std   9.911935e-01  \n",
       "\n",
       "[4 rows x 46 columns]"
      ]
     },
     "execution_count": 17,
     "metadata": {},
     "output_type": "execute_result"
    }
   ],
   "source": [
    "pd.concat({\n",
    "    \"train\": folds[0][0][get_feature_cols(df)].agg([\"mean\", \"std\"]),\n",
    "    \"validation\": folds[0][1][get_feature_cols(df)].agg([\"mean\", \"std\"]),\n",
    "})"
   ]
  },
  {
   "cell_type": "markdown",
   "id": "9bc09714",
   "metadata": {},
   "source": [
    "### Normalize sequences lengths.  \n",
    "And turn the Dataframes into ndarrays."
   ]
  },
  {
   "cell_type": "markdown",
   "id": "76699499",
   "metadata": {},
   "source": [
    "#### Visualize histogram of sequences lengths."
   ]
  },
  {
   "cell_type": "markdown",
   "id": "b3477111",
   "metadata": {},
   "source": [
    "Entire dataset sequences lengths."
   ]
  },
  {
   "cell_type": "code",
   "execution_count": 18,
   "id": "876907d8",
   "metadata": {},
   "outputs": [
    {
     "data": {
      "application/vnd.plotly.v1+json": {
       "config": {
        "plotlyServerURL": "https://plot.ly"
       },
       "data": [
        {
         "bingroup": "x",
         "hovertemplate": "variable=0<br>value=%{x}<br>count=%{y}<extra></extra>",
         "legendgroup": "0",
         "marker": {
          "color": "#636efa",
          "pattern": {
           "shape": ""
          }
         },
         "name": "0",
         "orientation": "v",
         "showlegend": true,
         "type": "histogram",
         "x": {
          "bdata": "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",
          "dtype": "i2"
         },
         "xaxis": "x",
         "yaxis": "y"
        }
       ],
       "layout": {
        "barmode": "relative",
        "legend": {
         "title": {
          "text": "variable"
         },
         "tracegroupgap": 0
        },
        "template": {
         "data": {
          "bar": [
           {
            "error_x": {
             "color": "#2a3f5f"
            },
            "error_y": {
             "color": "#2a3f5f"
            },
            "marker": {
             "line": {
              "color": "#E5ECF6",
              "width": 0.5
             },
             "pattern": {
              "fillmode": "overlay",
              "size": 10,
              "solidity": 0.2
             }
            },
            "type": "bar"
           }
          ],
          "barpolar": [
           {
            "marker": {
             "line": {
              "color": "#E5ECF6",
              "width": 0.5
             },
             "pattern": {
              "fillmode": "overlay",
              "size": 10,
              "solidity": 0.2
             }
            },
            "type": "barpolar"
           }
          ],
          "carpet": [
           {
            "aaxis": {
             "endlinecolor": "#2a3f5f",
             "gridcolor": "white",
             "linecolor": "white",
             "minorgridcolor": "white",
             "startlinecolor": "#2a3f5f"
            },
            "baxis": {
             "endlinecolor": "#2a3f5f",
             "gridcolor": "white",
             "linecolor": "white",
             "minorgridcolor": "white",
             "startlinecolor": "#2a3f5f"
            },
            "type": "carpet"
           }
          ],
          "choropleth": [
           {
            "colorbar": {
             "outlinewidth": 0,
             "ticks": ""
            },
            "type": "choropleth"
           }
          ],
          "contour": [
           {
            "colorbar": {
             "outlinewidth": 0,
             "ticks": ""
            },
            "colorscale": [
             [
              0,
              "#0d0887"
             ],
             [
              0.1111111111111111,
              "#46039f"
             ],
             [
              0.2222222222222222,
              "#7201a8"
             ],
             [
              0.3333333333333333,
              "#9c179e"
             ],
             [
              0.4444444444444444,
              "#bd3786"
             ],
             [
              0.5555555555555556,
              "#d8576b"
             ],
             [
              0.6666666666666666,
              "#ed7953"
             ],
             [
              0.7777777777777778,
              "#fb9f3a"
             ],
             [
              0.8888888888888888,
              "#fdca26"
             ],
             [
              1,
              "#f0f921"
             ]
            ],
            "type": "contour"
           }
          ],
          "contourcarpet": [
           {
            "colorbar": {
             "outlinewidth": 0,
             "ticks": ""
            },
            "type": "contourcarpet"
           }
          ],
          "heatmap": [
           {
            "colorbar": {
             "outlinewidth": 0,
             "ticks": ""
            },
            "colorscale": [
             [
              0,
              "#0d0887"
             ],
             [
              0.1111111111111111,
              "#46039f"
             ],
             [
              0.2222222222222222,
              "#7201a8"
             ],
             [
              0.3333333333333333,
              "#9c179e"
             ],
             [
              0.4444444444444444,
              "#bd3786"
             ],
             [
              0.5555555555555556,
              "#d8576b"
             ],
             [
              0.6666666666666666,
              "#ed7953"
             ],
             [
              0.7777777777777778,
              "#fb9f3a"
             ],
             [
              0.8888888888888888,
              "#fdca26"
             ],
             [
              1,
              "#f0f921"
             ]
            ],
            "type": "heatmap"
           }
          ],
          "histogram": [
           {
            "marker": {
             "pattern": {
              "fillmode": "overlay",
              "size": 10,
              "solidity": 0.2
             }
            },
            "type": "histogram"
           }
          ],
          "histogram2d": [
           {
            "colorbar": {
             "outlinewidth": 0,
             "ticks": ""
            },
            "colorscale": [
             [
              0,
              "#0d0887"
             ],
             [
              0.1111111111111111,
              "#46039f"
             ],
             [
              0.2222222222222222,
              "#7201a8"
             ],
             [
              0.3333333333333333,
              "#9c179e"
             ],
             [
              0.4444444444444444,
              "#bd3786"
             ],
             [
              0.5555555555555556,
              "#d8576b"
             ],
             [
              0.6666666666666666,
              "#ed7953"
             ],
             [
              0.7777777777777778,
              "#fb9f3a"
             ],
             [
              0.8888888888888888,
              "#fdca26"
             ],
             [
              1,
              "#f0f921"
             ]
            ],
            "type": "histogram2d"
           }
          ],
          "histogram2dcontour": [
           {
            "colorbar": {
             "outlinewidth": 0,
             "ticks": ""
            },
            "colorscale": [
             [
              0,
              "#0d0887"
             ],
             [
              0.1111111111111111,
              "#46039f"
             ],
             [
              0.2222222222222222,
              "#7201a8"
             ],
             [
              0.3333333333333333,
              "#9c179e"
             ],
             [
              0.4444444444444444,
              "#bd3786"
             ],
             [
              0.5555555555555556,
              "#d8576b"
             ],
             [
              0.6666666666666666,
              "#ed7953"
             ],
             [
              0.7777777777777778,
              "#fb9f3a"
             ],
             [
              0.8888888888888888,
              "#fdca26"
             ],
             [
              1,
              "#f0f921"
             ]
            ],
            "type": "histogram2dcontour"
           }
          ],
          "mesh3d": [
           {
            "colorbar": {
             "outlinewidth": 0,
             "ticks": ""
            },
            "type": "mesh3d"
           }
          ],
          "parcoords": [
           {
            "line": {
             "colorbar": {
              "outlinewidth": 0,
              "ticks": ""
             }
            },
            "type": "parcoords"
           }
          ],
          "pie": [
           {
            "automargin": true,
            "type": "pie"
           }
          ],
          "scatter": [
           {
            "fillpattern": {
             "fillmode": "overlay",
             "size": 10,
             "solidity": 0.2
            },
            "type": "scatter"
           }
          ],
          "scatter3d": [
           {
            "line": {
             "colorbar": {
              "outlinewidth": 0,
              "ticks": ""
             }
            },
            "marker": {
             "colorbar": {
              "outlinewidth": 0,
              "ticks": ""
             }
            },
            "type": "scatter3d"
           }
          ],
          "scattercarpet": [
           {
            "marker": {
             "colorbar": {
              "outlinewidth": 0,
              "ticks": ""
             }
            },
            "type": "scattercarpet"
           }
          ],
          "scattergeo": [
           {
            "marker": {
             "colorbar": {
              "outlinewidth": 0,
              "ticks": ""
             }
            },
            "type": "scattergeo"
           }
          ],
          "scattergl": [
           {
            "marker": {
             "colorbar": {
              "outlinewidth": 0,
              "ticks": ""
             }
            },
            "type": "scattergl"
           }
          ],
          "scattermap": [
           {
            "marker": {
             "colorbar": {
              "outlinewidth": 0,
              "ticks": ""
             }
            },
            "type": "scattermap"
           }
          ],
          "scattermapbox": [
           {
            "marker": {
             "colorbar": {
              "outlinewidth": 0,
              "ticks": ""
             }
            },
            "type": "scattermapbox"
           }
          ],
          "scatterpolar": [
           {
            "marker": {
             "colorbar": {
              "outlinewidth": 0,
              "ticks": ""
             }
            },
            "type": "scatterpolar"
           }
          ],
          "scatterpolargl": [
           {
            "marker": {
             "colorbar": {
              "outlinewidth": 0,
              "ticks": ""
             }
            },
            "type": "scatterpolargl"
           }
          ],
          "scatterternary": [
           {
            "marker": {
             "colorbar": {
              "outlinewidth": 0,
              "ticks": ""
             }
            },
            "type": "scatterternary"
           }
          ],
          "surface": [
           {
            "colorbar": {
             "outlinewidth": 0,
             "ticks": ""
            },
            "colorscale": [
             [
              0,
              "#0d0887"
             ],
             [
              0.1111111111111111,
              "#46039f"
             ],
             [
              0.2222222222222222,
              "#7201a8"
             ],
             [
              0.3333333333333333,
              "#9c179e"
             ],
             [
              0.4444444444444444,
              "#bd3786"
             ],
             [
              0.5555555555555556,
              "#d8576b"
             ],
             [
              0.6666666666666666,
              "#ed7953"
             ],
             [
              0.7777777777777778,
              "#fb9f3a"
             ],
             [
              0.8888888888888888,
              "#fdca26"
             ],
             [
              1,
              "#f0f921"
             ]
            ],
            "type": "surface"
           }
          ],
          "table": [
           {
            "cells": {
             "fill": {
              "color": "#EBF0F8"
             },
             "line": {
              "color": "white"
             }
            },
            "header": {
             "fill": {
              "color": "#C8D4E3"
             },
             "line": {
              "color": "white"
             }
            },
            "type": "table"
           }
          ]
         },
         "layout": {
          "annotationdefaults": {
           "arrowcolor": "#2a3f5f",
           "arrowhead": 0,
           "arrowwidth": 1
          },
          "autotypenumbers": "strict",
          "coloraxis": {
           "colorbar": {
            "outlinewidth": 0,
            "ticks": ""
           }
          },
          "colorscale": {
           "diverging": [
            [
             0,
             "#8e0152"
            ],
            [
             0.1,
             "#c51b7d"
            ],
            [
             0.2,
             "#de77ae"
            ],
            [
             0.3,
             "#f1b6da"
            ],
            [
             0.4,
             "#fde0ef"
            ],
            [
             0.5,
             "#f7f7f7"
            ],
            [
             0.6,
             "#e6f5d0"
            ],
            [
             0.7,
             "#b8e186"
            ],
            [
             0.8,
             "#7fbc41"
            ],
            [
             0.9,
             "#4d9221"
            ],
            [
             1,
             "#276419"
            ]
           ],
           "sequential": [
            [
             0,
             "#0d0887"
            ],
            [
             0.1111111111111111,
             "#46039f"
            ],
            [
             0.2222222222222222,
             "#7201a8"
            ],
            [
             0.3333333333333333,
             "#9c179e"
            ],
            [
             0.4444444444444444,
             "#bd3786"
            ],
            [
             0.5555555555555556,
             "#d8576b"
            ],
            [
             0.6666666666666666,
             "#ed7953"
            ],
            [
             0.7777777777777778,
             "#fb9f3a"
            ],
            [
             0.8888888888888888,
             "#fdca26"
            ],
            [
             1,
             "#f0f921"
            ]
           ],
           "sequentialminus": [
            [
             0,
             "#0d0887"
            ],
            [
             0.1111111111111111,
             "#46039f"
            ],
            [
             0.2222222222222222,
             "#7201a8"
            ],
            [
             0.3333333333333333,
             "#9c179e"
            ],
            [
             0.4444444444444444,
             "#bd3786"
            ],
            [
             0.5555555555555556,
             "#d8576b"
            ],
            [
             0.6666666666666666,
             "#ed7953"
            ],
            [
             0.7777777777777778,
             "#fb9f3a"
            ],
            [
             0.8888888888888888,
             "#fdca26"
            ],
            [
             1,
             "#f0f921"
            ]
           ]
          },
          "colorway": [
           "#636efa",
           "#EF553B",
           "#00cc96",
           "#ab63fa",
           "#FFA15A",
           "#19d3f3",
           "#FF6692",
           "#B6E880",
           "#FF97FF",
           "#FECB52"
          ],
          "font": {
           "color": "#2a3f5f"
          },
          "geo": {
           "bgcolor": "white",
           "lakecolor": "white",
           "landcolor": "#E5ECF6",
           "showlakes": true,
           "showland": true,
           "subunitcolor": "white"
          },
          "hoverlabel": {
           "align": "left"
          },
          "hovermode": "closest",
          "mapbox": {
           "style": "light"
          },
          "paper_bgcolor": "white",
          "plot_bgcolor": "#E5ECF6",
          "polar": {
           "angularaxis": {
            "gridcolor": "white",
            "linecolor": "white",
            "ticks": ""
           },
           "bgcolor": "#E5ECF6",
           "radialaxis": {
            "gridcolor": "white",
            "linecolor": "white",
            "ticks": ""
           }
          },
          "scene": {
           "xaxis": {
            "backgroundcolor": "#E5ECF6",
            "gridcolor": "white",
            "gridwidth": 2,
            "linecolor": "white",
            "showbackground": true,
            "ticks": "",
            "zerolinecolor": "white"
           },
           "yaxis": {
            "backgroundcolor": "#E5ECF6",
            "gridcolor": "white",
            "gridwidth": 2,
            "linecolor": "white",
            "showbackground": true,
            "ticks": "",
            "zerolinecolor": "white"
           },
           "zaxis": {
            "backgroundcolor": "#E5ECF6",
            "gridcolor": "white",
            "gridwidth": 2,
            "linecolor": "white",
            "showbackground": true,
            "ticks": "",
            "zerolinecolor": "white"
           }
          },
          "shapedefaults": {
           "line": {
            "color": "#2a3f5f"
           }
          },
          "ternary": {
           "aaxis": {
            "gridcolor": "white",
            "linecolor": "white",
            "ticks": ""
           },
           "baxis": {
            "gridcolor": "white",
            "linecolor": "white",
            "ticks": ""
           },
           "bgcolor": "#E5ECF6",
           "caxis": {
            "gridcolor": "white",
            "linecolor": "white",
            "ticks": ""
           }
          },
          "title": {
           "x": 0.05
          },
          "xaxis": {
           "automargin": true,
           "gridcolor": "white",
           "linecolor": "white",
           "ticks": "",
           "title": {
            "standoff": 15
           },
           "zerolinecolor": "white",
           "zerolinewidth": 2
          },
          "yaxis": {
           "automargin": true,
           "gridcolor": "white",
           "linecolor": "white",
           "ticks": "",
           "title": {
            "standoff": 15
           },
           "zerolinecolor": "white",
           "zerolinewidth": 2
          }
         }
        },
        "title": {
         "text": "Sequence length frequency"
        },
        "xaxis": {
         "anchor": "y",
         "domain": [
          0,
          1
         ],
         "title": {
          "text": "value"
         }
        },
        "yaxis": {
         "anchor": "x",
         "domain": [
          0,
          1
         ],
         "title": {
          "text": "count"
         }
        }
       }
      }
     },
     "metadata": {},
     "output_type": "display_data"
    }
   ],
   "source": [
    "px.histogram(\n",
    "    (\n",
    "        df\n",
    "        .groupby(\"sequence_id\", observed=True)\n",
    "        .size()\n",
    "    ),\n",
    "    title=\"Sequence length frequency\",\n",
    ")"
   ]
  },
  {
   "cell_type": "markdown",
   "id": "24e72f4e",
   "metadata": {},
   "source": [
    "Second(to avoid always look at the first one) Train/validation split sequences lengths comparaison."
   ]
  },
  {
   "cell_type": "code",
   "execution_count": 19,
   "id": "1a39bfce",
   "metadata": {},
   "outputs": [
    {
     "data": {
      "application/vnd.plotly.v1+json": {
       "config": {
        "plotlyServerURL": "https://plot.ly"
       },
       "data": [
        {
         "bingroup": "x",
         "hovertemplate": "set=Train<br>length=%{x}<br>count=%{y}<extra></extra>",
         "legendgroup": "Train",
         "marker": {
          "color": "#636efa",
          "opacity": 0.5,
          "pattern": {
           "shape": ""
          }
         },
         "name": "Train",
         "nbinsx": 50,
         "opacity": 0.8,
         "orientation": "v",
         "showlegend": true,
         "type": "histogram",
         "x": {
          "bdata": "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",
          "dtype": "i2"
         },
         "xaxis": "x",
         "yaxis": "y"
        },
        {
         "bingroup": "x",
         "hovertemplate": "set=Validation<br>length=%{x}<br>count=%{y}<extra></extra>",
         "legendgroup": "Validation",
         "marker": {
          "color": "#EF553B",
          "opacity": 0.5,
          "pattern": {
           "shape": ""
          }
         },
         "name": "Validation",
         "nbinsx": 50,
         "opacity": 0.8,
         "orientation": "v",
         "showlegend": true,
         "type": "histogram",
         "x": {
          "bdata": "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",
          "dtype": "i2"
         },
         "xaxis": "x",
         "yaxis": "y"
        }
       ],
       "layout": {
        "barmode": "overlay",
        "legend": {
         "title": {
          "text": "set"
         },
         "tracegroupgap": 0
        },
        "template": {
         "data": {
          "bar": [
           {
            "error_x": {
             "color": "#2a3f5f"
            },
            "error_y": {
             "color": "#2a3f5f"
            },
            "marker": {
             "line": {
              "color": "#E5ECF6",
              "width": 0.5
             },
             "pattern": {
              "fillmode": "overlay",
              "size": 10,
              "solidity": 0.2
             }
            },
            "type": "bar"
           }
          ],
          "barpolar": [
           {
            "marker": {
             "line": {
              "color": "#E5ECF6",
              "width": 0.5
             },
             "pattern": {
              "fillmode": "overlay",
              "size": 10,
              "solidity": 0.2
             }
            },
            "type": "barpolar"
           }
          ],
          "carpet": [
           {
            "aaxis": {
             "endlinecolor": "#2a3f5f",
             "gridcolor": "white",
             "linecolor": "white",
             "minorgridcolor": "white",
             "startlinecolor": "#2a3f5f"
            },
            "baxis": {
             "endlinecolor": "#2a3f5f",
             "gridcolor": "white",
             "linecolor": "white",
             "minorgridcolor": "white",
             "startlinecolor": "#2a3f5f"
            },
            "type": "carpet"
           }
          ],
          "choropleth": [
           {
            "colorbar": {
             "outlinewidth": 0,
             "ticks": ""
            },
            "type": "choropleth"
           }
          ],
          "contour": [
           {
            "colorbar": {
             "outlinewidth": 0,
             "ticks": ""
            },
            "colorscale": [
             [
              0,
              "#0d0887"
             ],
             [
              0.1111111111111111,
              "#46039f"
             ],
             [
              0.2222222222222222,
              "#7201a8"
             ],
             [
              0.3333333333333333,
              "#9c179e"
             ],
             [
              0.4444444444444444,
              "#bd3786"
             ],
             [
              0.5555555555555556,
              "#d8576b"
             ],
             [
              0.6666666666666666,
              "#ed7953"
             ],
             [
              0.7777777777777778,
              "#fb9f3a"
             ],
             [
              0.8888888888888888,
              "#fdca26"
             ],
             [
              1,
              "#f0f921"
             ]
            ],
            "type": "contour"
           }
          ],
          "contourcarpet": [
           {
            "colorbar": {
             "outlinewidth": 0,
             "ticks": ""
            },
            "type": "contourcarpet"
           }
          ],
          "heatmap": [
           {
            "colorbar": {
             "outlinewidth": 0,
             "ticks": ""
            },
            "colorscale": [
             [
              0,
              "#0d0887"
             ],
             [
              0.1111111111111111,
              "#46039f"
             ],
             [
              0.2222222222222222,
              "#7201a8"
             ],
             [
              0.3333333333333333,
              "#9c179e"
             ],
             [
              0.4444444444444444,
              "#bd3786"
             ],
             [
              0.5555555555555556,
              "#d8576b"
             ],
             [
              0.6666666666666666,
              "#ed7953"
             ],
             [
              0.7777777777777778,
              "#fb9f3a"
             ],
             [
              0.8888888888888888,
              "#fdca26"
             ],
             [
              1,
              "#f0f921"
             ]
            ],
            "type": "heatmap"
           }
          ],
          "histogram": [
           {
            "marker": {
             "pattern": {
              "fillmode": "overlay",
              "size": 10,
              "solidity": 0.2
             }
            },
            "type": "histogram"
           }
          ],
          "histogram2d": [
           {
            "colorbar": {
             "outlinewidth": 0,
             "ticks": ""
            },
            "colorscale": [
             [
              0,
              "#0d0887"
             ],
             [
              0.1111111111111111,
              "#46039f"
             ],
             [
              0.2222222222222222,
              "#7201a8"
             ],
             [
              0.3333333333333333,
              "#9c179e"
             ],
             [
              0.4444444444444444,
              "#bd3786"
             ],
             [
              0.5555555555555556,
              "#d8576b"
             ],
             [
              0.6666666666666666,
              "#ed7953"
             ],
             [
              0.7777777777777778,
              "#fb9f3a"
             ],
             [
              0.8888888888888888,
              "#fdca26"
             ],
             [
              1,
              "#f0f921"
             ]
            ],
            "type": "histogram2d"
           }
          ],
          "histogram2dcontour": [
           {
            "colorbar": {
             "outlinewidth": 0,
             "ticks": ""
            },
            "colorscale": [
             [
              0,
              "#0d0887"
             ],
             [
              0.1111111111111111,
              "#46039f"
             ],
             [
              0.2222222222222222,
              "#7201a8"
             ],
             [
              0.3333333333333333,
              "#9c179e"
             ],
             [
              0.4444444444444444,
              "#bd3786"
             ],
             [
              0.5555555555555556,
              "#d8576b"
             ],
             [
              0.6666666666666666,
              "#ed7953"
             ],
             [
              0.7777777777777778,
              "#fb9f3a"
             ],
             [
              0.8888888888888888,
              "#fdca26"
             ],
             [
              1,
              "#f0f921"
             ]
            ],
            "type": "histogram2dcontour"
           }
          ],
          "mesh3d": [
           {
            "colorbar": {
             "outlinewidth": 0,
             "ticks": ""
            },
            "type": "mesh3d"
           }
          ],
          "parcoords": [
           {
            "line": {
             "colorbar": {
              "outlinewidth": 0,
              "ticks": ""
             }
            },
            "type": "parcoords"
           }
          ],
          "pie": [
           {
            "automargin": true,
            "type": "pie"
           }
          ],
          "scatter": [
           {
            "fillpattern": {
             "fillmode": "overlay",
             "size": 10,
             "solidity": 0.2
            },
            "type": "scatter"
           }
          ],
          "scatter3d": [
           {
            "line": {
             "colorbar": {
              "outlinewidth": 0,
              "ticks": ""
             }
            },
            "marker": {
             "colorbar": {
              "outlinewidth": 0,
              "ticks": ""
             }
            },
            "type": "scatter3d"
           }
          ],
          "scattercarpet": [
           {
            "marker": {
             "colorbar": {
              "outlinewidth": 0,
              "ticks": ""
             }
            },
            "type": "scattercarpet"
           }
          ],
          "scattergeo": [
           {
            "marker": {
             "colorbar": {
              "outlinewidth": 0,
              "ticks": ""
             }
            },
            "type": "scattergeo"
           }
          ],
          "scattergl": [
           {
            "marker": {
             "colorbar": {
              "outlinewidth": 0,
              "ticks": ""
             }
            },
            "type": "scattergl"
           }
          ],
          "scattermap": [
           {
            "marker": {
             "colorbar": {
              "outlinewidth": 0,
              "ticks": ""
             }
            },
            "type": "scattermap"
           }
          ],
          "scattermapbox": [
           {
            "marker": {
             "colorbar": {
              "outlinewidth": 0,
              "ticks": ""
             }
            },
            "type": "scattermapbox"
           }
          ],
          "scatterpolar": [
           {
            "marker": {
             "colorbar": {
              "outlinewidth": 0,
              "ticks": ""
             }
            },
            "type": "scatterpolar"
           }
          ],
          "scatterpolargl": [
           {
            "marker": {
             "colorbar": {
              "outlinewidth": 0,
              "ticks": ""
             }
            },
            "type": "scatterpolargl"
           }
          ],
          "scatterternary": [
           {
            "marker": {
             "colorbar": {
              "outlinewidth": 0,
              "ticks": ""
             }
            },
            "type": "scatterternary"
           }
          ],
          "surface": [
           {
            "colorbar": {
             "outlinewidth": 0,
             "ticks": ""
            },
            "colorscale": [
             [
              0,
              "#0d0887"
             ],
             [
              0.1111111111111111,
              "#46039f"
             ],
             [
              0.2222222222222222,
              "#7201a8"
             ],
             [
              0.3333333333333333,
              "#9c179e"
             ],
             [
              0.4444444444444444,
              "#bd3786"
             ],
             [
              0.5555555555555556,
              "#d8576b"
             ],
             [
              0.6666666666666666,
              "#ed7953"
             ],
             [
              0.7777777777777778,
              "#fb9f3a"
             ],
             [
              0.8888888888888888,
              "#fdca26"
             ],
             [
              1,
              "#f0f921"
             ]
            ],
            "type": "surface"
           }
          ],
          "table": [
           {
            "cells": {
             "fill": {
              "color": "#EBF0F8"
             },
             "line": {
              "color": "white"
             }
            },
            "header": {
             "fill": {
              "color": "#C8D4E3"
             },
             "line": {
              "color": "white"
             }
            },
            "type": "table"
           }
          ]
         },
         "layout": {
          "annotationdefaults": {
           "arrowcolor": "#2a3f5f",
           "arrowhead": 0,
           "arrowwidth": 1
          },
          "autotypenumbers": "strict",
          "coloraxis": {
           "colorbar": {
            "outlinewidth": 0,
            "ticks": ""
           }
          },
          "colorscale": {
           "diverging": [
            [
             0,
             "#8e0152"
            ],
            [
             0.1,
             "#c51b7d"
            ],
            [
             0.2,
             "#de77ae"
            ],
            [
             0.3,
             "#f1b6da"
            ],
            [
             0.4,
             "#fde0ef"
            ],
            [
             0.5,
             "#f7f7f7"
            ],
            [
             0.6,
             "#e6f5d0"
            ],
            [
             0.7,
             "#b8e186"
            ],
            [
             0.8,
             "#7fbc41"
            ],
            [
             0.9,
             "#4d9221"
            ],
            [
             1,
             "#276419"
            ]
           ],
           "sequential": [
            [
             0,
             "#0d0887"
            ],
            [
             0.1111111111111111,
             "#46039f"
            ],
            [
             0.2222222222222222,
             "#7201a8"
            ],
            [
             0.3333333333333333,
             "#9c179e"
            ],
            [
             0.4444444444444444,
             "#bd3786"
            ],
            [
             0.5555555555555556,
             "#d8576b"
            ],
            [
             0.6666666666666666,
             "#ed7953"
            ],
            [
             0.7777777777777778,
             "#fb9f3a"
            ],
            [
             0.8888888888888888,
             "#fdca26"
            ],
            [
             1,
             "#f0f921"
            ]
           ],
           "sequentialminus": [
            [
             0,
             "#0d0887"
            ],
            [
             0.1111111111111111,
             "#46039f"
            ],
            [
             0.2222222222222222,
             "#7201a8"
            ],
            [
             0.3333333333333333,
             "#9c179e"
            ],
            [
             0.4444444444444444,
             "#bd3786"
            ],
            [
             0.5555555555555556,
             "#d8576b"
            ],
            [
             0.6666666666666666,
             "#ed7953"
            ],
            [
             0.7777777777777778,
             "#fb9f3a"
            ],
            [
             0.8888888888888888,
             "#fdca26"
            ],
            [
             1,
             "#f0f921"
            ]
           ]
          },
          "colorway": [
           "#636efa",
           "#EF553B",
           "#00cc96",
           "#ab63fa",
           "#FFA15A",
           "#19d3f3",
           "#FF6692",
           "#B6E880",
           "#FF97FF",
           "#FECB52"
          ],
          "font": {
           "color": "#2a3f5f"
          },
          "geo": {
           "bgcolor": "white",
           "lakecolor": "white",
           "landcolor": "#E5ECF6",
           "showlakes": true,
           "showland": true,
           "subunitcolor": "white"
          },
          "hoverlabel": {
           "align": "left"
          },
          "hovermode": "closest",
          "mapbox": {
           "style": "light"
          },
          "paper_bgcolor": "white",
          "plot_bgcolor": "#E5ECF6",
          "polar": {
           "angularaxis": {
            "gridcolor": "white",
            "linecolor": "white",
            "ticks": ""
           },
           "bgcolor": "#E5ECF6",
           "radialaxis": {
            "gridcolor": "white",
            "linecolor": "white",
            "ticks": ""
           }
          },
          "scene": {
           "xaxis": {
            "backgroundcolor": "#E5ECF6",
            "gridcolor": "white",
            "gridwidth": 2,
            "linecolor": "white",
            "showbackground": true,
            "ticks": "",
            "zerolinecolor": "white"
           },
           "yaxis": {
            "backgroundcolor": "#E5ECF6",
            "gridcolor": "white",
            "gridwidth": 2,
            "linecolor": "white",
            "showbackground": true,
            "ticks": "",
            "zerolinecolor": "white"
           },
           "zaxis": {
            "backgroundcolor": "#E5ECF6",
            "gridcolor": "white",
            "gridwidth": 2,
            "linecolor": "white",
            "showbackground": true,
            "ticks": "",
            "zerolinecolor": "white"
           }
          },
          "shapedefaults": {
           "line": {
            "color": "#2a3f5f"
           }
          },
          "ternary": {
           "aaxis": {
            "gridcolor": "white",
            "linecolor": "white",
            "ticks": ""
           },
           "baxis": {
            "gridcolor": "white",
            "linecolor": "white",
            "ticks": ""
           },
           "bgcolor": "#E5ECF6",
           "caxis": {
            "gridcolor": "white",
            "linecolor": "white",
            "ticks": ""
           }
          },
          "title": {
           "x": 0.05
          },
          "xaxis": {
           "automargin": true,
           "gridcolor": "white",
           "linecolor": "white",
           "ticks": "",
           "title": {
            "standoff": 15
           },
           "zerolinecolor": "white",
           "zerolinewidth": 2
          },
          "yaxis": {
           "automargin": true,
           "gridcolor": "white",
           "linecolor": "white",
           "ticks": "",
           "title": {
            "standoff": 15
           },
           "zerolinecolor": "white",
           "zerolinewidth": 2
          }
         }
        },
        "title": {
         "text": "Sequence Length Distribution: Train vs Validation"
        },
        "xaxis": {
         "anchor": "y",
         "domain": [
          0,
          1
         ],
         "title": {
          "text": "length"
         }
        },
        "yaxis": {
         "anchor": "x",
         "domain": [
          0,
          1
         ],
         "title": {
          "text": "count"
         }
        }
       }
      }
     },
     "metadata": {},
     "output_type": "display_data"
    }
   ],
   "source": [
    "def get_set_sequences_lengths(set:DF, name:str) -> DF:\n",
    "    return (\n",
    "        set\n",
    "        .groupby(\"sequence_id\", observed=True)\n",
    "        .size()\n",
    "        .reset_index(name=\"length\")\n",
    "        .assign(set=name)\n",
    "    )\n",
    "\n",
    "full_se_lengths = pd.concat((\n",
    "    get_set_sequences_lengths(folds[2][0], \"Train\"),\n",
    "    get_set_sequences_lengths(folds[2][1], \"Validation\"),\n",
    "))\n",
    "\n",
    "fig = px.histogram(\n",
    "    full_se_lengths,\n",
    "    x=\"length\",\n",
    "    color=\"set\",\n",
    "    barmode=\"overlay\",  # or 'group' if you want side-by-side bars\n",
    "    nbins=50,           # adjust bin size if needed\n",
    "    title=\"Sequence Length Distribution: Train vs Validation\"\n",
    ")\n",
    "\n",
    "fig.update_traces(opacity=0.8)  # better visibility with overlay\n",
    "fig.show()\n"
   ]
  },
  {
   "cell_type": "code",
   "execution_count": 20,
   "id": "c1d46756",
   "metadata": {},
   "outputs": [
    {
     "name": "stdout",
     "output_type": "stream",
     "text": [
      "train normed sequence len: 126\n",
      "validation normed sequence len: 127\n",
      "\n",
      "train normed sequence len: 129\n",
      "validation normed sequence len: 121\n",
      "\n",
      "train normed sequence len: 127\n",
      "validation normed sequence len: 122\n",
      "\n",
      "train normed sequence len: 124\n",
      "validation normed sequence len: 133\n",
      "\n",
      "train normed sequence len: 129\n",
      "validation normed sequence len: 120\n",
      "\n"
     ]
    }
   ],
   "source": [
    "for train, val in folds:\n",
    "    print(\"train normed sequence len:\", int(train.groupby(\"sequence_id\", observed=True).size().quantile(SEQUENCE_NORMED_LEN_QUANTILE)))\n",
    "    print(\"validation normed sequence len:\", int(val.groupby(\"sequence_id\", observed=True).size().quantile(SEQUENCE_NORMED_LEN_QUANTILE)))\n",
    "    print()"
   ]
  },
  {
   "cell_type": "markdown",
   "id": "c89d5f21",
   "metadata": {},
   "source": [
    "#### Sequence length norm implementation"
   ]
  },
  {
   "cell_type": "code",
   "execution_count": 21,
   "id": "5d128055",
   "metadata": {},
   "outputs": [
    {
     "data": {
      "application/vnd.jupyter.widget-view+json": {
       "model_id": "ec7d058487204570986eec6c7366eebb",
       "version_major": 2,
       "version_minor": 0
      },
      "text/plain": [
       "  0%|          | 0/6568 [00:00<?, ?it/s]"
      ]
     },
     "metadata": {},
     "output_type": "display_data"
    },
    {
     "data": {
      "application/vnd.jupyter.widget-view+json": {
       "model_id": "d24e83f9155d40c794171e331fc9d41f",
       "version_major": 2,
       "version_minor": 0
      },
      "text/plain": [
       "  0%|          | 0/1583 [00:00<?, ?it/s]"
      ]
     },
     "metadata": {},
     "output_type": "display_data"
    },
    {
     "data": {
      "application/vnd.jupyter.widget-view+json": {
       "model_id": "28b14750a66648719470354ef20f5f6b",
       "version_major": 2,
       "version_minor": 0
      },
      "text/plain": [
       "  0%|          | 0/6519 [00:00<?, ?it/s]"
      ]
     },
     "metadata": {},
     "output_type": "display_data"
    },
    {
     "data": {
      "application/vnd.jupyter.widget-view+json": {
       "model_id": "2cc600dd55684c9bbdf751142e3d655f",
       "version_major": 2,
       "version_minor": 0
      },
      "text/plain": [
       "  0%|          | 0/1632 [00:00<?, ?it/s]"
      ]
     },
     "metadata": {},
     "output_type": "display_data"
    },
    {
     "data": {
      "application/vnd.jupyter.widget-view+json": {
       "model_id": "cd220b7dd08c42849046021459532502",
       "version_major": 2,
       "version_minor": 0
      },
      "text/plain": [
       "  0%|          | 0/6573 [00:00<?, ?it/s]"
      ]
     },
     "metadata": {},
     "output_type": "display_data"
    },
    {
     "data": {
      "application/vnd.jupyter.widget-view+json": {
       "model_id": "a0e994d78ca04b318a372594d9c4a3ff",
       "version_major": 2,
       "version_minor": 0
      },
      "text/plain": [
       "  0%|          | 0/1578 [00:00<?, ?it/s]"
      ]
     },
     "metadata": {},
     "output_type": "display_data"
    },
    {
     "data": {
      "application/vnd.jupyter.widget-view+json": {
       "model_id": "78b985108bc841d0a5d20942767af13e",
       "version_major": 2,
       "version_minor": 0
      },
      "text/plain": [
       "  0%|          | 0/6525 [00:00<?, ?it/s]"
      ]
     },
     "metadata": {},
     "output_type": "display_data"
    },
    {
     "data": {
      "application/vnd.jupyter.widget-view+json": {
       "model_id": "60992787717145e283ab10f68530894c",
       "version_major": 2,
       "version_minor": 0
      },
      "text/plain": [
       "  0%|          | 0/1626 [00:00<?, ?it/s]"
      ]
     },
     "metadata": {},
     "output_type": "display_data"
    },
    {
     "data": {
      "application/vnd.jupyter.widget-view+json": {
       "model_id": "ddb06fcd118a4c80829c62952ac8e8ab",
       "version_major": 2,
       "version_minor": 0
      },
      "text/plain": [
       "  0%|          | 0/6567 [00:00<?, ?it/s]"
      ]
     },
     "metadata": {},
     "output_type": "display_data"
    },
    {
     "data": {
      "application/vnd.jupyter.widget-view+json": {
       "model_id": "935d31d793b8424d8a99d4c903d8177b",
       "version_major": 2,
       "version_minor": 0
      },
      "text/plain": [
       "  0%|          | 0/1584 [00:00<?, ?it/s]"
      ]
     },
     "metadata": {},
     "output_type": "display_data"
    }
   ],
   "source": [
    "gesture_cols = df[\"gesture\"].unique()\n",
    "\n",
    "def length_normed_sequence_feat_arr(sequence: DF, normed_sequence_len: int) -> ndarray:\n",
    "    features = (\n",
    "        sequence\n",
    "        .loc[:, get_feature_cols(df)]\n",
    "        .values\n",
    "    )\n",
    "    len_diff = abs(normed_sequence_len - len(features))\n",
    "    if len(features) < normed_sequence_len:\n",
    "        padded_features = np.pad(\n",
    "            features,\n",
    "            ((len_diff // 2 + len_diff % 2, len_diff // 2), (0, 0)),\n",
    "        )\n",
    "        return padded_features\n",
    "    elif len(features) > normed_sequence_len:\n",
    "        return features[len_diff // 2:-len_diff // 2]\n",
    "    else:\n",
    "        return features\n",
    "\n",
    "def df_to_ndarrays(df:DF, normed_sequence_len:int) -> tuple[np.ndarray, np.ndarray]:\n",
    "    sequence_it = df.groupby(\"sequence_id\", observed=True, as_index=False)\n",
    "    x = np.empty(\n",
    "        shape=(len(sequence_it), normed_sequence_len, len(get_feature_cols(df))),\n",
    "        dtype=\"float32\"\n",
    "    )\n",
    "    y = np.empty(\n",
    "        shape=(len(sequence_it), df[\"gesture\"].nunique()),\n",
    "        dtype=\"float32\"\n",
    "    )\n",
    "    for sequence_idx, (_, sequence) in tqdm(enumerate(sequence_it), total=len(sequence_it)):\n",
    "        normed_seq_feat_arr = length_normed_sequence_feat_arr(sequence, normed_sequence_len)\n",
    "        x[sequence_idx] = normed_seq_feat_arr\n",
    "        # Take the first value as they are(or at least should be) all the same in a single sequence\n",
    "        y[sequence_idx] = sequence[gesture_cols].iloc[0].values\n",
    "\n",
    "    return x, y\n",
    "\n",
    "def get_normed_seq_len(dataset:DF) -> int:\n",
    "    return int(\n",
    "        dataset\n",
    "        .groupby(\"sequence_id\", observed=True)\n",
    "        .size()\n",
    "        .quantile(SEQUENCE_NORMED_LEN_QUANTILE)\n",
    "    )\n",
    "\n",
    "def fold_dfs_to_ndarrays(train:DF, validation:DF) -> tuple[ndarray, ndarray, ndarray, ndarray]:\n",
    "    \"\"\"\n",
    "    Returns:\n",
    "        (train X, train Y, validation X, validation Y)\n",
    "    \"\"\"\n",
    "    normed_sequence_len = get_normed_seq_len(train)\n",
    "    return (\n",
    "        *df_to_ndarrays(train, normed_sequence_len),\n",
    "        *df_to_ndarrays(validation, normed_sequence_len),\n",
    "    )\n",
    "\n",
    "folds_arrs = list(starmap(fold_dfs_to_ndarrays, folds))"
   ]
  },
  {
   "cell_type": "code",
   "execution_count": 22,
   "id": "80490c33",
   "metadata": {},
   "outputs": [
    {
     "data": {
      "application/vnd.jupyter.widget-view+json": {
       "model_id": "2db7201c8b1042999d70d559b437c424",
       "version_major": 2,
       "version_minor": 0
      },
      "text/plain": [
       "  0%|          | 0/8151 [00:00<?, ?it/s]"
      ]
     },
     "metadata": {},
     "output_type": "display_data"
    }
   ],
   "source": [
    "full_dataset_sequence_length_norm = get_normed_seq_len(df)\n",
    "full_x, full_y = df_to_ndarrays(df, full_dataset_sequence_length_norm)"
   ]
  },
  {
   "cell_type": "markdown",
   "id": "b99f60c2",
   "metadata": {},
   "source": [
    "## Create dataset"
   ]
  },
  {
   "cell_type": "code",
   "execution_count": 23,
   "id": "a46b79b2",
   "metadata": {},
   "outputs": [],
   "source": [
    "# Clean dataset directory if it already exists\n",
    "! rm -rf preprocessed_dataset\n",
    "# Create dataset direcory\n",
    "! mkdir preprocessed_dataset\n",
    "# Save folds\n",
    "for fold_i, (train_x, train_y, val_x, val_y) in enumerate(folds_arrs):\n",
    "    fold_dir_path = join(\"preprocessed_dataset\", f\"fold_{fold_i}\")\n",
    "    os.makedirs(fold_dir_path)\n",
    "    # save features (X)\n",
    "    np.save(join(fold_dir_path, \"train_X.npy\"), train_x, allow_pickle=False)\n",
    "    np.save(join(fold_dir_path, \"validation_X.npy\"), val_x, allow_pickle=False)\n",
    "    # Save targets (Y)\n",
    "    np.save(join(fold_dir_path, \"train_Y.npy\"), train_y, allow_pickle=False)\n",
    "    np.save(join(fold_dir_path, \"validation_Y.npy\"), val_y, allow_pickle=False)\n",
    "# Save full dataset\n",
    "full_dataset_dir_path = \"preprocessed_dataset/full_dataset\"\n",
    "os.makedirs(full_dataset_dir_path)\n",
    "np.save(join(full_dataset_dir_path, \"X.npy\"), full_x, allow_pickle=False)\n",
    "np.save(join(full_dataset_dir_path, \"Y.npy\"), full_y, allow_pickle=False)\n",
    "# Save dataset meta data\n",
    "full_dataset_meta_data[\"target_names\"] = one_hot_target.columns.to_list()\n",
    "full_dataset_meta_data[\"pad_seq_len\"] = full_dataset_sequence_length_norm\n",
    "full_dataset_meta_data[\"feature_cols\"] = get_feature_cols(df)\n",
    "\n",
    "with open(\"preprocessed_dataset/full_dataset_meta_data.json\", \"w\") as fp:\n",
    "    json.dump(full_dataset_meta_data, fp, indent=4)"
   ]
  },
  {
   "cell_type": "code",
   "execution_count": 24,
   "id": "0b77ea50",
   "metadata": {},
   "outputs": [
    {
     "data": {
      "text/html": [
       "<div>\n",
       "<style scoped>\n",
       "    .dataframe tbody tr th:only-of-type {\n",
       "        vertical-align: middle;\n",
       "    }\n",
       "\n",
       "    .dataframe tbody tr th {\n",
       "        vertical-align: top;\n",
       "    }\n",
       "\n",
       "    .dataframe thead th {\n",
       "        text-align: right;\n",
       "    }\n",
       "</style>\n",
       "<table border=\"1\" class=\"dataframe\">\n",
       "  <thead>\n",
       "    <tr style=\"text-align: right;\">\n",
       "      <th></th>\n",
       "      <th>euler_y</th>\n",
       "      <th>euler_y_diff</th>\n",
       "      <th>tof_1_diff</th>\n",
       "      <th>rot_w</th>\n",
       "      <th>tof_3</th>\n",
       "      <th>tof_2_diff</th>\n",
       "      <th>rot_x_diff</th>\n",
       "      <th>gravity_free_acc_y</th>\n",
       "      <th>thm_3_diff</th>\n",
       "      <th>tof_4_diff</th>\n",
       "      <th>...</th>\n",
       "      <th>euler_x_diff</th>\n",
       "      <th>rot_y</th>\n",
       "      <th>gravity_free_acc_x_diff</th>\n",
       "      <th>thm_2_diff</th>\n",
       "      <th>rot_x</th>\n",
       "      <th>rot_z</th>\n",
       "      <th>acc_x</th>\n",
       "      <th>thm_1_diff</th>\n",
       "      <th>acc_z</th>\n",
       "      <th>acc_y</th>\n",
       "    </tr>\n",
       "  </thead>\n",
       "  <tbody>\n",
       "    <tr>\n",
       "      <th>0</th>\n",
       "      <td>0.883372</td>\n",
       "      <td>0.021237</td>\n",
       "      <td>0.022522</td>\n",
       "      <td>-0.997151</td>\n",
       "      <td>-0.454938</td>\n",
       "      <td>0.026558</td>\n",
       "      <td>-0.006843</td>\n",
       "      <td>0.378283</td>\n",
       "      <td>-0.036447</td>\n",
       "      <td>0.018485</td>\n",
       "      <td>...</td>\n",
       "      <td>-0.010199</td>\n",
       "      <td>-0.716343</td>\n",
       "      <td>0.022400</td>\n",
       "      <td>-0.031901</td>\n",
       "      <td>-0.508525</td>\n",
       "      <td>-1.238540</td>\n",
       "      <td>0.872408</td>\n",
       "      <td>-0.031457</td>\n",
       "      <td>0.625816</td>\n",
       "      <td>0.884130</td>\n",
       "    </tr>\n",
       "    <tr>\n",
       "      <th>1</th>\n",
       "      <td>0.860138</td>\n",
       "      <td>-0.092748</td>\n",
       "      <td>0.089104</td>\n",
       "      <td>-0.957737</td>\n",
       "      <td>-0.337148</td>\n",
       "      <td>0.363426</td>\n",
       "      <td>0.083221</td>\n",
       "      <td>0.441917</td>\n",
       "      <td>0.383583</td>\n",
       "      <td>0.140912</td>\n",
       "      <td>...</td>\n",
       "      <td>-0.121041</td>\n",
       "      <td>-0.681840</td>\n",
       "      <td>0.081491</td>\n",
       "      <td>0.047365</td>\n",
       "      <td>-0.476437</td>\n",
       "      <td>-1.267920</td>\n",
       "      <td>0.918353</td>\n",
       "      <td>0.708143</td>\n",
       "      <td>0.588012</td>\n",
       "      <td>0.884130</td>\n",
       "    </tr>\n",
       "    <tr>\n",
       "      <th>2</th>\n",
       "      <td>0.754947</td>\n",
       "      <td>-0.494818</td>\n",
       "      <td>0.336407</td>\n",
       "      <td>-0.630264</td>\n",
       "      <td>0.022423</td>\n",
       "      <td>1.168622</td>\n",
       "      <td>0.392540</td>\n",
       "      <td>0.663317</td>\n",
       "      <td>0.488376</td>\n",
       "      <td>0.168322</td>\n",
       "      <td>...</td>\n",
       "      <td>-0.553702</td>\n",
       "      <td>-0.549352</td>\n",
       "      <td>-0.642472</td>\n",
       "      <td>-1.451626</td>\n",
       "      <td>-0.334147</td>\n",
       "      <td>-1.349747</td>\n",
       "      <td>0.706192</td>\n",
       "      <td>1.828919</td>\n",
       "      <td>0.964766</td>\n",
       "      <td>0.723320</td>\n",
       "    </tr>\n",
       "    <tr>\n",
       "      <th>3</th>\n",
       "      <td>0.714206</td>\n",
       "      <td>-0.178634</td>\n",
       "      <td>1.451174</td>\n",
       "      <td>-0.290093</td>\n",
       "      <td>0.543179</td>\n",
       "      <td>1.832088</td>\n",
       "      <td>0.054061</td>\n",
       "      <td>0.700636</td>\n",
       "      <td>-1.407649</td>\n",
       "      <td>2.753924</td>\n",
       "      <td>...</td>\n",
       "      <td>-0.515357</td>\n",
       "      <td>-0.329928</td>\n",
       "      <td>0.277178</td>\n",
       "      <td>-5.911228</td>\n",
       "      <td>-0.312448</td>\n",
       "      <td>-1.390175</td>\n",
       "      <td>0.858218</td>\n",
       "      <td>0.349304</td>\n",
       "      <td>1.134561</td>\n",
       "      <td>0.347835</td>\n",
       "    </tr>\n",
       "    <tr>\n",
       "      <th>4</th>\n",
       "      <td>0.418963</td>\n",
       "      <td>-1.427198</td>\n",
       "      <td>2.925483</td>\n",
       "      <td>-0.134027</td>\n",
       "      <td>0.870276</td>\n",
       "      <td>0.994026</td>\n",
       "      <td>0.268517</td>\n",
       "      <td>0.487647</td>\n",
       "      <td>-4.438758</td>\n",
       "      <td>1.736129</td>\n",
       "      <td>...</td>\n",
       "      <td>-0.314117</td>\n",
       "      <td>-0.007333</td>\n",
       "      <td>-0.996992</td>\n",
       "      <td>-2.711105</td>\n",
       "      <td>-0.214344</td>\n",
       "      <td>-1.447599</td>\n",
       "      <td>0.679165</td>\n",
       "      <td>-2.316473</td>\n",
       "      <td>1.655481</td>\n",
       "      <td>-0.302433</td>\n",
       "    </tr>\n",
       "    <tr>\n",
       "      <th>...</th>\n",
       "      <td>...</td>\n",
       "      <td>...</td>\n",
       "      <td>...</td>\n",
       "      <td>...</td>\n",
       "      <td>...</td>\n",
       "      <td>...</td>\n",
       "      <td>...</td>\n",
       "      <td>...</td>\n",
       "      <td>...</td>\n",
       "      <td>...</td>\n",
       "      <td>...</td>\n",
       "      <td>...</td>\n",
       "      <td>...</td>\n",
       "      <td>...</td>\n",
       "      <td>...</td>\n",
       "      <td>...</td>\n",
       "      <td>...</td>\n",
       "      <td>...</td>\n",
       "      <td>...</td>\n",
       "      <td>...</td>\n",
       "      <td>...</td>\n",
       "    </tr>\n",
       "    <tr>\n",
       "      <th>574940</th>\n",
       "      <td>0.287935</td>\n",
       "      <td>-0.269228</td>\n",
       "      <td>-0.004111</td>\n",
       "      <td>-1.117506</td>\n",
       "      <td>0.541703</td>\n",
       "      <td>0.186776</td>\n",
       "      <td>-0.088787</td>\n",
       "      <td>-1.541394</td>\n",
       "      <td>0.376693</td>\n",
       "      <td>0.404041</td>\n",
       "      <td>...</td>\n",
       "      <td>0.064589</td>\n",
       "      <td>-0.759754</td>\n",
       "      <td>-0.144168</td>\n",
       "      <td>1.049440</td>\n",
       "      <td>-1.601608</td>\n",
       "      <td>0.070326</td>\n",
       "      <td>0.322408</td>\n",
       "      <td>0.761030</td>\n",
       "      <td>-1.309212</td>\n",
       "      <td>-0.444509</td>\n",
       "    </tr>\n",
       "    <tr>\n",
       "      <th>574941</th>\n",
       "      <td>0.326326</td>\n",
       "      <td>0.209581</td>\n",
       "      <td>0.226072</td>\n",
       "      <td>-1.100313</td>\n",
       "      <td>0.533437</td>\n",
       "      <td>-0.117227</td>\n",
       "      <td>-0.024561</td>\n",
       "      <td>-1.547135</td>\n",
       "      <td>0.154999</td>\n",
       "      <td>-0.409099</td>\n",
       "      <td>...</td>\n",
       "      <td>0.028125</td>\n",
       "      <td>-0.740360</td>\n",
       "      <td>0.213991</td>\n",
       "      <td>0.171812</td>\n",
       "      <td>-1.607920</td>\n",
       "      <td>0.045559</td>\n",
       "      <td>0.369030</td>\n",
       "      <td>0.043840</td>\n",
       "      <td>-1.434796</td>\n",
       "      <td>-0.490566</td>\n",
       "    </tr>\n",
       "    <tr>\n",
       "      <th>574942</th>\n",
       "      <td>0.335326</td>\n",
       "      <td>0.065389</td>\n",
       "      <td>-0.411210</td>\n",
       "      <td>-1.089203</td>\n",
       "      <td>0.399410</td>\n",
       "      <td>-0.466419</td>\n",
       "      <td>0.000170</td>\n",
       "      <td>-1.418637</td>\n",
       "      <td>-0.164578</td>\n",
       "      <td>-0.016234</td>\n",
       "      <td>...</td>\n",
       "      <td>-0.013705</td>\n",
       "      <td>-0.741939</td>\n",
       "      <td>-0.220109</td>\n",
       "      <td>-0.093691</td>\n",
       "      <td>-1.605422</td>\n",
       "      <td>0.041674</td>\n",
       "      <td>0.249436</td>\n",
       "      <td>0.133883</td>\n",
       "      <td>-1.138775</td>\n",
       "      <td>-0.314143</td>\n",
       "    </tr>\n",
       "    <tr>\n",
       "      <th>574943</th>\n",
       "      <td>0.374099</td>\n",
       "      <td>0.211456</td>\n",
       "      <td>0.089104</td>\n",
       "      <td>-1.070422</td>\n",
       "      <td>0.467900</td>\n",
       "      <td>0.236073</td>\n",
       "      <td>-0.021977</td>\n",
       "      <td>-1.473273</td>\n",
       "      <td>0.233752</td>\n",
       "      <td>0.661688</td>\n",
       "      <td>...</td>\n",
       "      <td>0.028411</td>\n",
       "      <td>-0.722432</td>\n",
       "      <td>0.447166</td>\n",
       "      <td>0.533072</td>\n",
       "      <td>-1.610813</td>\n",
       "      <td>0.017150</td>\n",
       "      <td>0.402138</td>\n",
       "      <td>0.584035</td>\n",
       "      <td>-1.414933</td>\n",
       "      <td>-0.429677</td>\n",
       "    </tr>\n",
       "    <tr>\n",
       "      <th>574944</th>\n",
       "      <td>0.349115</td>\n",
       "      <td>-0.101334</td>\n",
       "      <td>0.231779</td>\n",
       "      <td>-1.092377</td>\n",
       "      <td>0.531666</td>\n",
       "      <td>0.112829</td>\n",
       "      <td>-0.015702</td>\n",
       "      <td>-1.565205</td>\n",
       "      <td>-0.178515</td>\n",
       "      <td>0.051376</td>\n",
       "      <td>...</td>\n",
       "      <td>-0.013233</td>\n",
       "      <td>-0.724462</td>\n",
       "      <td>0.081385</td>\n",
       "      <td>-0.100022</td>\n",
       "      <td>-1.613970</td>\n",
       "      <td>0.030262</td>\n",
       "      <td>0.454841</td>\n",
       "      <td>-0.204260</td>\n",
       "      <td>-1.503996</td>\n",
       "      <td>-0.544430</td>\n",
       "    </tr>\n",
       "  </tbody>\n",
       "</table>\n",
       "<p>574945 rows × 46 columns</p>\n",
       "</div>"
      ],
      "text/plain": [
       "         euler_y  euler_y_diff  tof_1_diff     rot_w     tof_3  tof_2_diff  \\\n",
       "0       0.883372      0.021237    0.022522 -0.997151 -0.454938    0.026558   \n",
       "1       0.860138     -0.092748    0.089104 -0.957737 -0.337148    0.363426   \n",
       "2       0.754947     -0.494818    0.336407 -0.630264  0.022423    1.168622   \n",
       "3       0.714206     -0.178634    1.451174 -0.290093  0.543179    1.832088   \n",
       "4       0.418963     -1.427198    2.925483 -0.134027  0.870276    0.994026   \n",
       "...          ...           ...         ...       ...       ...         ...   \n",
       "574940  0.287935     -0.269228   -0.004111 -1.117506  0.541703    0.186776   \n",
       "574941  0.326326      0.209581    0.226072 -1.100313  0.533437   -0.117227   \n",
       "574942  0.335326      0.065389   -0.411210 -1.089203  0.399410   -0.466419   \n",
       "574943  0.374099      0.211456    0.089104 -1.070422  0.467900    0.236073   \n",
       "574944  0.349115     -0.101334    0.231779 -1.092377  0.531666    0.112829   \n",
       "\n",
       "        rot_x_diff  gravity_free_acc_y  thm_3_diff  tof_4_diff  ...  \\\n",
       "0        -0.006843            0.378283   -0.036447    0.018485  ...   \n",
       "1         0.083221            0.441917    0.383583    0.140912  ...   \n",
       "2         0.392540            0.663317    0.488376    0.168322  ...   \n",
       "3         0.054061            0.700636   -1.407649    2.753924  ...   \n",
       "4         0.268517            0.487647   -4.438758    1.736129  ...   \n",
       "...            ...                 ...         ...         ...  ...   \n",
       "574940   -0.088787           -1.541394    0.376693    0.404041  ...   \n",
       "574941   -0.024561           -1.547135    0.154999   -0.409099  ...   \n",
       "574942    0.000170           -1.418637   -0.164578   -0.016234  ...   \n",
       "574943   -0.021977           -1.473273    0.233752    0.661688  ...   \n",
       "574944   -0.015702           -1.565205   -0.178515    0.051376  ...   \n",
       "\n",
       "        euler_x_diff     rot_y  gravity_free_acc_x_diff  thm_2_diff     rot_x  \\\n",
       "0          -0.010199 -0.716343                 0.022400   -0.031901 -0.508525   \n",
       "1          -0.121041 -0.681840                 0.081491    0.047365 -0.476437   \n",
       "2          -0.553702 -0.549352                -0.642472   -1.451626 -0.334147   \n",
       "3          -0.515357 -0.329928                 0.277178   -5.911228 -0.312448   \n",
       "4          -0.314117 -0.007333                -0.996992   -2.711105 -0.214344   \n",
       "...              ...       ...                      ...         ...       ...   \n",
       "574940      0.064589 -0.759754                -0.144168    1.049440 -1.601608   \n",
       "574941      0.028125 -0.740360                 0.213991    0.171812 -1.607920   \n",
       "574942     -0.013705 -0.741939                -0.220109   -0.093691 -1.605422   \n",
       "574943      0.028411 -0.722432                 0.447166    0.533072 -1.610813   \n",
       "574944     -0.013233 -0.724462                 0.081385   -0.100022 -1.613970   \n",
       "\n",
       "           rot_z     acc_x  thm_1_diff     acc_z     acc_y  \n",
       "0      -1.238540  0.872408   -0.031457  0.625816  0.884130  \n",
       "1      -1.267920  0.918353    0.708143  0.588012  0.884130  \n",
       "2      -1.349747  0.706192    1.828919  0.964766  0.723320  \n",
       "3      -1.390175  0.858218    0.349304  1.134561  0.347835  \n",
       "4      -1.447599  0.679165   -2.316473  1.655481 -0.302433  \n",
       "...          ...       ...         ...       ...       ...  \n",
       "574940  0.070326  0.322408    0.761030 -1.309212 -0.444509  \n",
       "574941  0.045559  0.369030    0.043840 -1.434796 -0.490566  \n",
       "574942  0.041674  0.249436    0.133883 -1.138775 -0.314143  \n",
       "574943  0.017150  0.402138    0.584035 -1.414933 -0.429677  \n",
       "574944  0.030262  0.454841   -0.204260 -1.503996 -0.544430  \n",
       "\n",
       "[574945 rows x 46 columns]"
      ]
     },
     "execution_count": 24,
     "metadata": {},
     "output_type": "execute_result"
    }
   ],
   "source": [
    "df[get_feature_cols(df)]"
   ]
  },
  {
   "cell_type": "markdown",
   "id": "b2775c75",
   "metadata": {},
   "source": [
    "## Dataset upload\n",
    "Optionally upload the dataset to kaggle."
   ]
  },
  {
   "cell_type": "code",
   "execution_count": 25,
   "id": "d0b40895",
   "metadata": {},
   "outputs": [
    {
     "name": "stdout",
     "output_type": "stream",
     "text": [
      "Dataset has not been uploaded.\n"
     ]
    }
   ],
   "source": [
    "if input(\"Do you want to upload the  dataset to kaggle?[yes/no]\").lower() == \"yes\":\n",
    "    # Updaload the dataset\n",
    "    dataset_upload(\n",
    "        join(whoami()[\"username\"], \"prepocessed-cmi-2025\"),\n",
    "        \"preprocessed_dataset\",\n",
    "        version_notes=\"Preprocessed Child Mind Institue 2025 competition dataset.\"\n",
    "    )\n",
    "else:\n",
    "    print(\"Dataset has not been uploaded.\")"
   ]
  }
 ],
 "metadata": {
  "kernelspec": {
   "display_name": "CMI",
   "language": "python",
   "name": "python3"
  },
  "language_info": {
   "codemirror_mode": {
    "name": "ipython",
    "version": 3
   },
   "file_extension": ".py",
   "mimetype": "text/x-python",
   "name": "python",
   "nbconvert_exporter": "python",
   "pygments_lexer": "ipython3",
   "version": "3.11.5"
  }
 },
 "nbformat": 4,
 "nbformat_minor": 5
}
