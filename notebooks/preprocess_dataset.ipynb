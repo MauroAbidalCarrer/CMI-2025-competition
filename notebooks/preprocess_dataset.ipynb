{
 "cells": [
  {
   "cell_type": "markdown",
   "id": "7c1fbf88",
   "metadata": {},
   "source": [
    "# Dataset preprocessing\n",
    "\n",
    "The goal of this notebook is to create a preprocessed kaggle dataset out of the competition dataset.  \n",
    "For now, the preprocessing will be based on [this notebook](https://www.kaggle.com/code/vonmainstein/imu-tof).  \n",
    "It consists of the following steps:\n",
    "-   Set the appropriate dtypes (helps with RAM usage).\n",
    "-   Impute missing feature values with forward, backward and then 0 filling.\n",
    "-   Split the dataset into multiple cross validation folds.\n",
    "-   Standardize feature values.\n",
    "-   Pad/Truncate the sequences to the same length.  \n",
    "\n",
    "> Note:  \n",
    "> - Demographics data set will be ignored for now.  "
   ]
  },
  {
   "cell_type": "markdown",
   "id": "67848297",
   "metadata": {},
   "source": [
    "## Imports"
   ]
  },
  {
   "cell_type": "code",
   "execution_count": 1,
   "id": "3b58565a",
   "metadata": {},
   "outputs": [],
   "source": [
    "import os\n",
    "import json\n",
    "from os.path import join\n",
    "from itertools import repeat, starmap\n",
    "\n",
    "import numpy as np\n",
    "import pandas as pd\n",
    "from numpy import ndarray\n",
    "import plotly.express as px\n",
    "from pandas import DataFrame as DF\n",
    "from scipy.spatial.transform import Rotation\n",
    "from kagglehub import whoami, competition_download, dataset_upload\n",
    "\n",
    "from config import *"
   ]
  },
  {
   "cell_type": "markdown",
   "id": "c1924ec0",
   "metadata": {},
   "source": [
    "## Data preprocessing"
   ]
  },
  {
   "cell_type": "markdown",
   "id": "1b3b38be",
   "metadata": {},
   "source": [
    "### Load dataset\n",
    "Requires to be logged in if this notebook is not running on kaggle, go to [your settings](https://www.kaggle.com/settings) to create an access token and put it in `~/.kaggle/`."
   ]
  },
  {
   "cell_type": "code",
   "execution_count": 2,
   "id": "a0bb6cf4",
   "metadata": {},
   "outputs": [],
   "source": [
    "competition_dataset_path = competition_download(COMPETITION_HANDLE)\n",
    "df = pd.read_csv(join(competition_dataset_path, \"train.csv\"), dtype=DATASET_DF_DTYPES)"
   ]
  },
  {
   "cell_type": "markdown",
   "id": "7aea88de",
   "metadata": {},
   "source": [
    "### Impute missing data\n",
    "Perform forward, backward and then 0 filling of NaN values."
   ]
  },
  {
   "cell_type": "code",
   "execution_count": 3,
   "id": "c2f0db28",
   "metadata": {},
   "outputs": [],
   "source": [
    "feature_cols = list(set(df.columns) - set(META_DATA_COLUMNS))\n",
    "# Missing ToF values are already imputed by -1 which is inconvinient since we want all missing values to be NaN.    \n",
    "# So we replace them by NaN and then perform imputing.  \n",
    "tof_vals_to_nan = {col: -1.0 for col in df.columns if col.startswith(\"tof\")}\n",
    "fillna_val_per_col = {col: 1.0 if col == 'rot_w' else 0 for col in df.columns}\n",
    "\n",
    "df[feature_cols] = (\n",
    "    df\n",
    "    .loc[:, feature_cols]\n",
    "    # df.replace with np.nan sets dtype to floar64 so we set it back to float32\n",
    "    .replace(tof_vals_to_nan, value=np.nan)\n",
    "    .astype(\"float32\")\n",
    "    .groupby(df[\"sequence_id\"], observed=True, as_index=False)\n",
    "    .ffill()\n",
    "    .groupby(df[\"sequence_id\"], observed=True, as_index=False)\n",
    "    .bfill()\n",
    "    # In case there are only nan in the column in the sequence\n",
    "    .fillna(fillna_val_per_col)\n",
    ")"
   ]
  },
  {
   "cell_type": "markdown",
   "id": "6ae43d1a",
   "metadata": {},
   "source": [
    "### Euler angles from quaternions"
   ]
  },
  {
   "cell_type": "code",
   "execution_count": 4,
   "id": "c99bce0b",
   "metadata": {},
   "outputs": [
    {
     "data": {
      "text/plain": [
       "array([[ 0.13973521,  0.76901321,  1.06602417],\n",
       "       [ 0.07560633,  0.75346626,  0.9887669 ],\n",
       "       [-0.23884318,  0.68307921,  0.69691551],\n",
       "       ...,\n",
       "       [ 2.17062915,  0.40229489, -3.09554491],\n",
       "       [ 2.19296721,  0.42823972, -3.09448917],\n",
       "       [ 2.19121165,  0.41152166, -3.09799803]], shape=(574945, 3))"
      ]
     },
     "metadata": {},
     "output_type": "display_data"
    },
    {
     "name": "stderr",
     "output_type": "stream",
     "text": [
      "/tmp/ipykernel_7905/1793169865.py:26: PerformanceWarning: DataFrame is highly fragmented.  This is usually the result of calling `frame.insert` many times, which has poor performance.  Consider joining all columns at once using pd.concat(axis=1) instead. To get a de-fragmented frame, use `newframe = frame.copy()`\n",
      "  df[EULER_ANGLES_COLS] = rot_euler_angles_df\n",
      "/tmp/ipykernel_7905/1793169865.py:26: PerformanceWarning: DataFrame is highly fragmented.  This is usually the result of calling `frame.insert` many times, which has poor performance.  Consider joining all columns at once using pd.concat(axis=1) instead. To get a de-fragmented frame, use `newframe = frame.copy()`\n",
      "  df[EULER_ANGLES_COLS] = rot_euler_angles_df\n",
      "/tmp/ipykernel_7905/1793169865.py:26: PerformanceWarning: DataFrame is highly fragmented.  This is usually the result of calling `frame.insert` many times, which has poor performance.  Consider joining all columns at once using pd.concat(axis=1) instead. To get a de-fragmented frame, use `newframe = frame.copy()`\n",
      "  df[EULER_ANGLES_COLS] = rot_euler_angles_df\n"
     ]
    }
   ],
   "source": [
    "EULER_ANGLES_COLS = [\"euler_x\", \"euler_y\", \"euler_z\"]\n",
    "QUATERNION_COLS = ['rot_w', 'rot_x', 'rot_y', 'rot_z']\n",
    "def rot_euler_angles(seq:DF) -> ndarray:\n",
    "    try:\n",
    "        quat_cols = seq[QUATERNION_COLS]\n",
    "        quat_cols /= np.linalg.norm(quat_cols, axis=1, keepdims=True)\n",
    "        rotation = Rotation.from_quat(quat_cols)\n",
    "        euler_data = rotation.as_euler(\"xyz\").squeeze()\n",
    "        angles_df = DF(\n",
    "            data=euler_data,\n",
    "            columns=EULER_ANGLES_COLS\n",
    "        )\n",
    "        return angles_df\n",
    "    except ValueError as e:\n",
    "        print(quat_cols)\n",
    "        raise e\n",
    "\n",
    "rot_euler_angles_df = (\n",
    "    df\n",
    "    .groupby(\"sequence_id\", as_index=False, observed=True)\n",
    "    .apply(rot_euler_angles, include_groups=False)\n",
    "    .loc[:, EULER_ANGLES_COLS]\n",
    "    .values\n",
    ")\n",
    "display(rot_euler_angles_df)\n",
    "df[EULER_ANGLES_COLS] = rot_euler_angles_df"
   ]
  },
  {
   "cell_type": "markdown",
   "id": "18979983",
   "metadata": {},
   "source": [
    "### One hot encode target values."
   ]
  },
  {
   "cell_type": "code",
   "execution_count": 5,
   "id": "05661625",
   "metadata": {},
   "outputs": [
    {
     "name": "stderr",
     "output_type": "stream",
     "text": [
      "/tmp/ipykernel_7905/1507406683.py:2: PerformanceWarning: DataFrame is highly fragmented.  This is usually the result of calling `frame.insert` many times, which has poor performance.  Consider joining all columns at once using pd.concat(axis=1) instead. To get a de-fragmented frame, use `newframe = frame.copy()`\n",
      "  df[one_hot_target.columns] = one_hot_target\n",
      "/tmp/ipykernel_7905/1507406683.py:2: PerformanceWarning: DataFrame is highly fragmented.  This is usually the result of calling `frame.insert` many times, which has poor performance.  Consider joining all columns at once using pd.concat(axis=1) instead. To get a de-fragmented frame, use `newframe = frame.copy()`\n",
      "  df[one_hot_target.columns] = one_hot_target\n",
      "/tmp/ipykernel_7905/1507406683.py:2: PerformanceWarning: DataFrame is highly fragmented.  This is usually the result of calling `frame.insert` many times, which has poor performance.  Consider joining all columns at once using pd.concat(axis=1) instead. To get a de-fragmented frame, use `newframe = frame.copy()`\n",
      "  df[one_hot_target.columns] = one_hot_target\n",
      "/tmp/ipykernel_7905/1507406683.py:2: PerformanceWarning: DataFrame is highly fragmented.  This is usually the result of calling `frame.insert` many times, which has poor performance.  Consider joining all columns at once using pd.concat(axis=1) instead. To get a de-fragmented frame, use `newframe = frame.copy()`\n",
      "  df[one_hot_target.columns] = one_hot_target\n",
      "/tmp/ipykernel_7905/1507406683.py:2: PerformanceWarning: DataFrame is highly fragmented.  This is usually the result of calling `frame.insert` many times, which has poor performance.  Consider joining all columns at once using pd.concat(axis=1) instead. To get a de-fragmented frame, use `newframe = frame.copy()`\n",
      "  df[one_hot_target.columns] = one_hot_target\n",
      "/tmp/ipykernel_7905/1507406683.py:2: PerformanceWarning: DataFrame is highly fragmented.  This is usually the result of calling `frame.insert` many times, which has poor performance.  Consider joining all columns at once using pd.concat(axis=1) instead. To get a de-fragmented frame, use `newframe = frame.copy()`\n",
      "  df[one_hot_target.columns] = one_hot_target\n",
      "/tmp/ipykernel_7905/1507406683.py:2: PerformanceWarning: DataFrame is highly fragmented.  This is usually the result of calling `frame.insert` many times, which has poor performance.  Consider joining all columns at once using pd.concat(axis=1) instead. To get a de-fragmented frame, use `newframe = frame.copy()`\n",
      "  df[one_hot_target.columns] = one_hot_target\n",
      "/tmp/ipykernel_7905/1507406683.py:2: PerformanceWarning: DataFrame is highly fragmented.  This is usually the result of calling `frame.insert` many times, which has poor performance.  Consider joining all columns at once using pd.concat(axis=1) instead. To get a de-fragmented frame, use `newframe = frame.copy()`\n",
      "  df[one_hot_target.columns] = one_hot_target\n",
      "/tmp/ipykernel_7905/1507406683.py:2: PerformanceWarning: DataFrame is highly fragmented.  This is usually the result of calling `frame.insert` many times, which has poor performance.  Consider joining all columns at once using pd.concat(axis=1) instead. To get a de-fragmented frame, use `newframe = frame.copy()`\n",
      "  df[one_hot_target.columns] = one_hot_target\n",
      "/tmp/ipykernel_7905/1507406683.py:2: PerformanceWarning: DataFrame is highly fragmented.  This is usually the result of calling `frame.insert` many times, which has poor performance.  Consider joining all columns at once using pd.concat(axis=1) instead. To get a de-fragmented frame, use `newframe = frame.copy()`\n",
      "  df[one_hot_target.columns] = one_hot_target\n",
      "/tmp/ipykernel_7905/1507406683.py:2: PerformanceWarning: DataFrame is highly fragmented.  This is usually the result of calling `frame.insert` many times, which has poor performance.  Consider joining all columns at once using pd.concat(axis=1) instead. To get a de-fragmented frame, use `newframe = frame.copy()`\n",
      "  df[one_hot_target.columns] = one_hot_target\n",
      "/tmp/ipykernel_7905/1507406683.py:2: PerformanceWarning: DataFrame is highly fragmented.  This is usually the result of calling `frame.insert` many times, which has poor performance.  Consider joining all columns at once using pd.concat(axis=1) instead. To get a de-fragmented frame, use `newframe = frame.copy()`\n",
      "  df[one_hot_target.columns] = one_hot_target\n",
      "/tmp/ipykernel_7905/1507406683.py:2: PerformanceWarning: DataFrame is highly fragmented.  This is usually the result of calling `frame.insert` many times, which has poor performance.  Consider joining all columns at once using pd.concat(axis=1) instead. To get a de-fragmented frame, use `newframe = frame.copy()`\n",
      "  df[one_hot_target.columns] = one_hot_target\n",
      "/tmp/ipykernel_7905/1507406683.py:2: PerformanceWarning: DataFrame is highly fragmented.  This is usually the result of calling `frame.insert` many times, which has poor performance.  Consider joining all columns at once using pd.concat(axis=1) instead. To get a de-fragmented frame, use `newframe = frame.copy()`\n",
      "  df[one_hot_target.columns] = one_hot_target\n",
      "/tmp/ipykernel_7905/1507406683.py:2: PerformanceWarning: DataFrame is highly fragmented.  This is usually the result of calling `frame.insert` many times, which has poor performance.  Consider joining all columns at once using pd.concat(axis=1) instead. To get a de-fragmented frame, use `newframe = frame.copy()`\n",
      "  df[one_hot_target.columns] = one_hot_target\n",
      "/tmp/ipykernel_7905/1507406683.py:2: PerformanceWarning: DataFrame is highly fragmented.  This is usually the result of calling `frame.insert` many times, which has poor performance.  Consider joining all columns at once using pd.concat(axis=1) instead. To get a de-fragmented frame, use `newframe = frame.copy()`\n",
      "  df[one_hot_target.columns] = one_hot_target\n",
      "/tmp/ipykernel_7905/1507406683.py:2: PerformanceWarning: DataFrame is highly fragmented.  This is usually the result of calling `frame.insert` many times, which has poor performance.  Consider joining all columns at once using pd.concat(axis=1) instead. To get a de-fragmented frame, use `newframe = frame.copy()`\n",
      "  df[one_hot_target.columns] = one_hot_target\n",
      "/tmp/ipykernel_7905/1507406683.py:2: PerformanceWarning: DataFrame is highly fragmented.  This is usually the result of calling `frame.insert` many times, which has poor performance.  Consider joining all columns at once using pd.concat(axis=1) instead. To get a de-fragmented frame, use `newframe = frame.copy()`\n",
      "  df[one_hot_target.columns] = one_hot_target\n"
     ]
    },
    {
     "data": {
      "text/html": [
       "<div>\n",
       "<style scoped>\n",
       "    .dataframe tbody tr th:only-of-type {\n",
       "        vertical-align: middle;\n",
       "    }\n",
       "\n",
       "    .dataframe tbody tr th {\n",
       "        vertical-align: top;\n",
       "    }\n",
       "\n",
       "    .dataframe thead th {\n",
       "        text-align: right;\n",
       "    }\n",
       "</style>\n",
       "<table border=\"1\" class=\"dataframe\">\n",
       "  <thead>\n",
       "    <tr style=\"text-align: right;\">\n",
       "      <th></th>\n",
       "      <th>row_id</th>\n",
       "      <th>sequence_type</th>\n",
       "      <th>sequence_id</th>\n",
       "      <th>sequence_counter</th>\n",
       "      <th>subject</th>\n",
       "      <th>orientation</th>\n",
       "      <th>behavior</th>\n",
       "      <th>phase</th>\n",
       "      <th>gesture</th>\n",
       "      <th>acc_x</th>\n",
       "      <th>...</th>\n",
       "      <th>Neck - scratch</th>\n",
       "      <th>Text on phone</th>\n",
       "      <th>Wave hello</th>\n",
       "      <th>Write name in air</th>\n",
       "      <th>Write name on leg</th>\n",
       "      <th>Drink from bottle/cup</th>\n",
       "      <th>Pinch knee/leg skin</th>\n",
       "      <th>Pull air toward your face</th>\n",
       "      <th>Scratch knee/leg skin</th>\n",
       "      <th>Glasses on/off</th>\n",
       "    </tr>\n",
       "  </thead>\n",
       "  <tbody>\n",
       "    <tr>\n",
       "      <th>0</th>\n",
       "      <td>SEQ_000007_000000</td>\n",
       "      <td>Target</td>\n",
       "      <td>SEQ_000007</td>\n",
       "      <td>0</td>\n",
       "      <td>SUBJ_059520</td>\n",
       "      <td>Seated Lean Non Dom - FACE DOWN</td>\n",
       "      <td>Relaxes and moves hand to target location</td>\n",
       "      <td>Transition</td>\n",
       "      <td>Cheek - pinch skin</td>\n",
       "      <td>6.683594</td>\n",
       "      <td>...</td>\n",
       "      <td>False</td>\n",
       "      <td>False</td>\n",
       "      <td>False</td>\n",
       "      <td>False</td>\n",
       "      <td>False</td>\n",
       "      <td>False</td>\n",
       "      <td>False</td>\n",
       "      <td>False</td>\n",
       "      <td>False</td>\n",
       "      <td>False</td>\n",
       "    </tr>\n",
       "    <tr>\n",
       "      <th>1</th>\n",
       "      <td>SEQ_000007_000001</td>\n",
       "      <td>Target</td>\n",
       "      <td>SEQ_000007</td>\n",
       "      <td>1</td>\n",
       "      <td>SUBJ_059520</td>\n",
       "      <td>Seated Lean Non Dom - FACE DOWN</td>\n",
       "      <td>Relaxes and moves hand to target location</td>\n",
       "      <td>Transition</td>\n",
       "      <td>Cheek - pinch skin</td>\n",
       "      <td>6.949219</td>\n",
       "      <td>...</td>\n",
       "      <td>False</td>\n",
       "      <td>False</td>\n",
       "      <td>False</td>\n",
       "      <td>False</td>\n",
       "      <td>False</td>\n",
       "      <td>False</td>\n",
       "      <td>False</td>\n",
       "      <td>False</td>\n",
       "      <td>False</td>\n",
       "      <td>False</td>\n",
       "    </tr>\n",
       "    <tr>\n",
       "      <th>2</th>\n",
       "      <td>SEQ_000007_000002</td>\n",
       "      <td>Target</td>\n",
       "      <td>SEQ_000007</td>\n",
       "      <td>2</td>\n",
       "      <td>SUBJ_059520</td>\n",
       "      <td>Seated Lean Non Dom - FACE DOWN</td>\n",
       "      <td>Relaxes and moves hand to target location</td>\n",
       "      <td>Transition</td>\n",
       "      <td>Cheek - pinch skin</td>\n",
       "      <td>5.722656</td>\n",
       "      <td>...</td>\n",
       "      <td>False</td>\n",
       "      <td>False</td>\n",
       "      <td>False</td>\n",
       "      <td>False</td>\n",
       "      <td>False</td>\n",
       "      <td>False</td>\n",
       "      <td>False</td>\n",
       "      <td>False</td>\n",
       "      <td>False</td>\n",
       "      <td>False</td>\n",
       "    </tr>\n",
       "    <tr>\n",
       "      <th>3</th>\n",
       "      <td>SEQ_000007_000003</td>\n",
       "      <td>Target</td>\n",
       "      <td>SEQ_000007</td>\n",
       "      <td>3</td>\n",
       "      <td>SUBJ_059520</td>\n",
       "      <td>Seated Lean Non Dom - FACE DOWN</td>\n",
       "      <td>Relaxes and moves hand to target location</td>\n",
       "      <td>Transition</td>\n",
       "      <td>Cheek - pinch skin</td>\n",
       "      <td>6.601562</td>\n",
       "      <td>...</td>\n",
       "      <td>False</td>\n",
       "      <td>False</td>\n",
       "      <td>False</td>\n",
       "      <td>False</td>\n",
       "      <td>False</td>\n",
       "      <td>False</td>\n",
       "      <td>False</td>\n",
       "      <td>False</td>\n",
       "      <td>False</td>\n",
       "      <td>False</td>\n",
       "    </tr>\n",
       "    <tr>\n",
       "      <th>4</th>\n",
       "      <td>SEQ_000007_000004</td>\n",
       "      <td>Target</td>\n",
       "      <td>SEQ_000007</td>\n",
       "      <td>4</td>\n",
       "      <td>SUBJ_059520</td>\n",
       "      <td>Seated Lean Non Dom - FACE DOWN</td>\n",
       "      <td>Relaxes and moves hand to target location</td>\n",
       "      <td>Transition</td>\n",
       "      <td>Cheek - pinch skin</td>\n",
       "      <td>5.566406</td>\n",
       "      <td>...</td>\n",
       "      <td>False</td>\n",
       "      <td>False</td>\n",
       "      <td>False</td>\n",
       "      <td>False</td>\n",
       "      <td>False</td>\n",
       "      <td>False</td>\n",
       "      <td>False</td>\n",
       "      <td>False</td>\n",
       "      <td>False</td>\n",
       "      <td>False</td>\n",
       "    </tr>\n",
       "    <tr>\n",
       "      <th>...</th>\n",
       "      <td>...</td>\n",
       "      <td>...</td>\n",
       "      <td>...</td>\n",
       "      <td>...</td>\n",
       "      <td>...</td>\n",
       "      <td>...</td>\n",
       "      <td>...</td>\n",
       "      <td>...</td>\n",
       "      <td>...</td>\n",
       "      <td>...</td>\n",
       "      <td>...</td>\n",
       "      <td>...</td>\n",
       "      <td>...</td>\n",
       "      <td>...</td>\n",
       "      <td>...</td>\n",
       "      <td>...</td>\n",
       "      <td>...</td>\n",
       "      <td>...</td>\n",
       "      <td>...</td>\n",
       "      <td>...</td>\n",
       "      <td>...</td>\n",
       "    </tr>\n",
       "    <tr>\n",
       "      <th>574940</th>\n",
       "      <td>SEQ_065531_000048</td>\n",
       "      <td>Non-Target</td>\n",
       "      <td>SEQ_065531</td>\n",
       "      <td>48</td>\n",
       "      <td>SUBJ_039498</td>\n",
       "      <td>Seated Lean Non Dom - FACE DOWN</td>\n",
       "      <td>Performs gesture</td>\n",
       "      <td>Gesture</td>\n",
       "      <td>Write name on leg</td>\n",
       "      <td>3.503906</td>\n",
       "      <td>...</td>\n",
       "      <td>False</td>\n",
       "      <td>False</td>\n",
       "      <td>False</td>\n",
       "      <td>False</td>\n",
       "      <td>True</td>\n",
       "      <td>False</td>\n",
       "      <td>False</td>\n",
       "      <td>False</td>\n",
       "      <td>False</td>\n",
       "      <td>False</td>\n",
       "    </tr>\n",
       "    <tr>\n",
       "      <th>574941</th>\n",
       "      <td>SEQ_065531_000049</td>\n",
       "      <td>Non-Target</td>\n",
       "      <td>SEQ_065531</td>\n",
       "      <td>49</td>\n",
       "      <td>SUBJ_039498</td>\n",
       "      <td>Seated Lean Non Dom - FACE DOWN</td>\n",
       "      <td>Performs gesture</td>\n",
       "      <td>Gesture</td>\n",
       "      <td>Write name on leg</td>\n",
       "      <td>3.773438</td>\n",
       "      <td>...</td>\n",
       "      <td>False</td>\n",
       "      <td>False</td>\n",
       "      <td>False</td>\n",
       "      <td>False</td>\n",
       "      <td>True</td>\n",
       "      <td>False</td>\n",
       "      <td>False</td>\n",
       "      <td>False</td>\n",
       "      <td>False</td>\n",
       "      <td>False</td>\n",
       "    </tr>\n",
       "    <tr>\n",
       "      <th>574942</th>\n",
       "      <td>SEQ_065531_000050</td>\n",
       "      <td>Non-Target</td>\n",
       "      <td>SEQ_065531</td>\n",
       "      <td>50</td>\n",
       "      <td>SUBJ_039498</td>\n",
       "      <td>Seated Lean Non Dom - FACE DOWN</td>\n",
       "      <td>Performs gesture</td>\n",
       "      <td>Gesture</td>\n",
       "      <td>Write name on leg</td>\n",
       "      <td>3.082031</td>\n",
       "      <td>...</td>\n",
       "      <td>False</td>\n",
       "      <td>False</td>\n",
       "      <td>False</td>\n",
       "      <td>False</td>\n",
       "      <td>True</td>\n",
       "      <td>False</td>\n",
       "      <td>False</td>\n",
       "      <td>False</td>\n",
       "      <td>False</td>\n",
       "      <td>False</td>\n",
       "    </tr>\n",
       "    <tr>\n",
       "      <th>574943</th>\n",
       "      <td>SEQ_065531_000051</td>\n",
       "      <td>Non-Target</td>\n",
       "      <td>SEQ_065531</td>\n",
       "      <td>51</td>\n",
       "      <td>SUBJ_039498</td>\n",
       "      <td>Seated Lean Non Dom - FACE DOWN</td>\n",
       "      <td>Performs gesture</td>\n",
       "      <td>Gesture</td>\n",
       "      <td>Write name on leg</td>\n",
       "      <td>3.964844</td>\n",
       "      <td>...</td>\n",
       "      <td>False</td>\n",
       "      <td>False</td>\n",
       "      <td>False</td>\n",
       "      <td>False</td>\n",
       "      <td>True</td>\n",
       "      <td>False</td>\n",
       "      <td>False</td>\n",
       "      <td>False</td>\n",
       "      <td>False</td>\n",
       "      <td>False</td>\n",
       "    </tr>\n",
       "    <tr>\n",
       "      <th>574944</th>\n",
       "      <td>SEQ_065531_000052</td>\n",
       "      <td>Non-Target</td>\n",
       "      <td>SEQ_065531</td>\n",
       "      <td>52</td>\n",
       "      <td>SUBJ_039498</td>\n",
       "      <td>Seated Lean Non Dom - FACE DOWN</td>\n",
       "      <td>Performs gesture</td>\n",
       "      <td>Gesture</td>\n",
       "      <td>Write name on leg</td>\n",
       "      <td>4.269531</td>\n",
       "      <td>...</td>\n",
       "      <td>False</td>\n",
       "      <td>False</td>\n",
       "      <td>False</td>\n",
       "      <td>False</td>\n",
       "      <td>True</td>\n",
       "      <td>False</td>\n",
       "      <td>False</td>\n",
       "      <td>False</td>\n",
       "      <td>False</td>\n",
       "      <td>False</td>\n",
       "    </tr>\n",
       "  </tbody>\n",
       "</table>\n",
       "<p>574945 rows × 362 columns</p>\n",
       "</div>"
      ],
      "text/plain": [
       "                   row_id sequence_type sequence_id  sequence_counter  \\\n",
       "0       SEQ_000007_000000        Target  SEQ_000007                 0   \n",
       "1       SEQ_000007_000001        Target  SEQ_000007                 1   \n",
       "2       SEQ_000007_000002        Target  SEQ_000007                 2   \n",
       "3       SEQ_000007_000003        Target  SEQ_000007                 3   \n",
       "4       SEQ_000007_000004        Target  SEQ_000007                 4   \n",
       "...                   ...           ...         ...               ...   \n",
       "574940  SEQ_065531_000048    Non-Target  SEQ_065531                48   \n",
       "574941  SEQ_065531_000049    Non-Target  SEQ_065531                49   \n",
       "574942  SEQ_065531_000050    Non-Target  SEQ_065531                50   \n",
       "574943  SEQ_065531_000051    Non-Target  SEQ_065531                51   \n",
       "574944  SEQ_065531_000052    Non-Target  SEQ_065531                52   \n",
       "\n",
       "            subject                      orientation  \\\n",
       "0       SUBJ_059520  Seated Lean Non Dom - FACE DOWN   \n",
       "1       SUBJ_059520  Seated Lean Non Dom - FACE DOWN   \n",
       "2       SUBJ_059520  Seated Lean Non Dom - FACE DOWN   \n",
       "3       SUBJ_059520  Seated Lean Non Dom - FACE DOWN   \n",
       "4       SUBJ_059520  Seated Lean Non Dom - FACE DOWN   \n",
       "...             ...                              ...   \n",
       "574940  SUBJ_039498  Seated Lean Non Dom - FACE DOWN   \n",
       "574941  SUBJ_039498  Seated Lean Non Dom - FACE DOWN   \n",
       "574942  SUBJ_039498  Seated Lean Non Dom - FACE DOWN   \n",
       "574943  SUBJ_039498  Seated Lean Non Dom - FACE DOWN   \n",
       "574944  SUBJ_039498  Seated Lean Non Dom - FACE DOWN   \n",
       "\n",
       "                                         behavior       phase  \\\n",
       "0       Relaxes and moves hand to target location  Transition   \n",
       "1       Relaxes and moves hand to target location  Transition   \n",
       "2       Relaxes and moves hand to target location  Transition   \n",
       "3       Relaxes and moves hand to target location  Transition   \n",
       "4       Relaxes and moves hand to target location  Transition   \n",
       "...                                           ...         ...   \n",
       "574940                           Performs gesture     Gesture   \n",
       "574941                           Performs gesture     Gesture   \n",
       "574942                           Performs gesture     Gesture   \n",
       "574943                           Performs gesture     Gesture   \n",
       "574944                           Performs gesture     Gesture   \n",
       "\n",
       "                   gesture     acc_x  ...  Neck - scratch  Text on phone  \\\n",
       "0       Cheek - pinch skin  6.683594  ...           False          False   \n",
       "1       Cheek - pinch skin  6.949219  ...           False          False   \n",
       "2       Cheek - pinch skin  5.722656  ...           False          False   \n",
       "3       Cheek - pinch skin  6.601562  ...           False          False   \n",
       "4       Cheek - pinch skin  5.566406  ...           False          False   \n",
       "...                    ...       ...  ...             ...            ...   \n",
       "574940   Write name on leg  3.503906  ...           False          False   \n",
       "574941   Write name on leg  3.773438  ...           False          False   \n",
       "574942   Write name on leg  3.082031  ...           False          False   \n",
       "574943   Write name on leg  3.964844  ...           False          False   \n",
       "574944   Write name on leg  4.269531  ...           False          False   \n",
       "\n",
       "        Wave hello  Write name in air  Write name on leg  \\\n",
       "0            False              False              False   \n",
       "1            False              False              False   \n",
       "2            False              False              False   \n",
       "3            False              False              False   \n",
       "4            False              False              False   \n",
       "...            ...                ...                ...   \n",
       "574940       False              False               True   \n",
       "574941       False              False               True   \n",
       "574942       False              False               True   \n",
       "574943       False              False               True   \n",
       "574944       False              False               True   \n",
       "\n",
       "        Drink from bottle/cup  Pinch knee/leg skin  Pull air toward your face  \\\n",
       "0                       False                False                      False   \n",
       "1                       False                False                      False   \n",
       "2                       False                False                      False   \n",
       "3                       False                False                      False   \n",
       "4                       False                False                      False   \n",
       "...                       ...                  ...                        ...   \n",
       "574940                  False                False                      False   \n",
       "574941                  False                False                      False   \n",
       "574942                  False                False                      False   \n",
       "574943                  False                False                      False   \n",
       "574944                  False                False                      False   \n",
       "\n",
       "        Scratch knee/leg skin  Glasses on/off  \n",
       "0                       False           False  \n",
       "1                       False           False  \n",
       "2                       False           False  \n",
       "3                       False           False  \n",
       "4                       False           False  \n",
       "...                       ...             ...  \n",
       "574940                  False           False  \n",
       "574941                  False           False  \n",
       "574942                  False           False  \n",
       "574943                  False           False  \n",
       "574944                  False           False  \n",
       "\n",
       "[574945 rows x 362 columns]"
      ]
     },
     "execution_count": 5,
     "metadata": {},
     "output_type": "execute_result"
    }
   ],
   "source": [
    "one_hot_target = pd.get_dummies(df[\"gesture\"])\n",
    "df[one_hot_target.columns] = one_hot_target\n",
    "df"
   ]
  },
  {
   "cell_type": "markdown",
   "id": "8812dc08",
   "metadata": {},
   "source": [
    "### ToF data aggregation.\n",
    "Time of Flight columns take most of the data, let's reduce their size by aggregating by mean for each Time of Flight sensor."
   ]
  },
  {
   "cell_type": "code",
   "execution_count": 6,
   "id": "2b4f83f2",
   "metadata": {},
   "outputs": [
    {
     "data": {
      "text/html": [
       "<div>\n",
       "<style scoped>\n",
       "    .dataframe tbody tr th:only-of-type {\n",
       "        vertical-align: middle;\n",
       "    }\n",
       "\n",
       "    .dataframe tbody tr th {\n",
       "        vertical-align: top;\n",
       "    }\n",
       "\n",
       "    .dataframe thead th {\n",
       "        text-align: right;\n",
       "    }\n",
       "</style>\n",
       "<table border=\"1\" class=\"dataframe\">\n",
       "  <thead>\n",
       "    <tr style=\"text-align: right;\">\n",
       "      <th></th>\n",
       "      <th>row_id</th>\n",
       "      <th>sequence_type</th>\n",
       "      <th>sequence_id</th>\n",
       "      <th>sequence_counter</th>\n",
       "      <th>subject</th>\n",
       "      <th>orientation</th>\n",
       "      <th>behavior</th>\n",
       "      <th>phase</th>\n",
       "      <th>gesture</th>\n",
       "      <th>acc_x</th>\n",
       "      <th>...</th>\n",
       "      <th>Drink from bottle/cup</th>\n",
       "      <th>Pinch knee/leg skin</th>\n",
       "      <th>Pull air toward your face</th>\n",
       "      <th>Scratch knee/leg skin</th>\n",
       "      <th>Glasses on/off</th>\n",
       "      <th>tof_1</th>\n",
       "      <th>tof_2</th>\n",
       "      <th>tof_3</th>\n",
       "      <th>tof_4</th>\n",
       "      <th>tof_5</th>\n",
       "    </tr>\n",
       "  </thead>\n",
       "  <tbody>\n",
       "    <tr>\n",
       "      <th>0</th>\n",
       "      <td>SEQ_000007_000000</td>\n",
       "      <td>Target</td>\n",
       "      <td>SEQ_000007</td>\n",
       "      <td>0</td>\n",
       "      <td>SUBJ_059520</td>\n",
       "      <td>Seated Lean Non Dom - FACE DOWN</td>\n",
       "      <td>Relaxes and moves hand to target location</td>\n",
       "      <td>Transition</td>\n",
       "      <td>Cheek - pinch skin</td>\n",
       "      <td>6.683594</td>\n",
       "      <td>...</td>\n",
       "      <td>False</td>\n",
       "      <td>False</td>\n",
       "      <td>False</td>\n",
       "      <td>False</td>\n",
       "      <td>False</td>\n",
       "      <td>139.250000</td>\n",
       "      <td>117.109375</td>\n",
       "      <td>91.687500</td>\n",
       "      <td>123.359375</td>\n",
       "      <td>135.343750</td>\n",
       "    </tr>\n",
       "    <tr>\n",
       "      <th>1</th>\n",
       "      <td>SEQ_000007_000001</td>\n",
       "      <td>Target</td>\n",
       "      <td>SEQ_000007</td>\n",
       "      <td>1</td>\n",
       "      <td>SUBJ_059520</td>\n",
       "      <td>Seated Lean Non Dom - FACE DOWN</td>\n",
       "      <td>Relaxes and moves hand to target location</td>\n",
       "      <td>Transition</td>\n",
       "      <td>Cheek - pinch skin</td>\n",
       "      <td>6.949219</td>\n",
       "      <td>...</td>\n",
       "      <td>False</td>\n",
       "      <td>False</td>\n",
       "      <td>False</td>\n",
       "      <td>False</td>\n",
       "      <td>False</td>\n",
       "      <td>139.796875</td>\n",
       "      <td>119.671875</td>\n",
       "      <td>97.921875</td>\n",
       "      <td>124.406250</td>\n",
       "      <td>137.000000</td>\n",
       "    </tr>\n",
       "    <tr>\n",
       "      <th>2</th>\n",
       "      <td>SEQ_000007_000002</td>\n",
       "      <td>Target</td>\n",
       "      <td>SEQ_000007</td>\n",
       "      <td>2</td>\n",
       "      <td>SUBJ_059520</td>\n",
       "      <td>Seated Lean Non Dom - FACE DOWN</td>\n",
       "      <td>Relaxes and moves hand to target location</td>\n",
       "      <td>Transition</td>\n",
       "      <td>Cheek - pinch skin</td>\n",
       "      <td>5.722656</td>\n",
       "      <td>...</td>\n",
       "      <td>False</td>\n",
       "      <td>False</td>\n",
       "      <td>False</td>\n",
       "      <td>False</td>\n",
       "      <td>False</td>\n",
       "      <td>142.375000</td>\n",
       "      <td>128.359375</td>\n",
       "      <td>116.953125</td>\n",
       "      <td>125.687500</td>\n",
       "      <td>140.234375</td>\n",
       "    </tr>\n",
       "    <tr>\n",
       "      <th>3</th>\n",
       "      <td>SEQ_000007_000003</td>\n",
       "      <td>Target</td>\n",
       "      <td>SEQ_000007</td>\n",
       "      <td>3</td>\n",
       "      <td>SUBJ_059520</td>\n",
       "      <td>Seated Lean Non Dom - FACE DOWN</td>\n",
       "      <td>Relaxes and moves hand to target location</td>\n",
       "      <td>Transition</td>\n",
       "      <td>Cheek - pinch skin</td>\n",
       "      <td>6.601562</td>\n",
       "      <td>...</td>\n",
       "      <td>False</td>\n",
       "      <td>False</td>\n",
       "      <td>False</td>\n",
       "      <td>False</td>\n",
       "      <td>False</td>\n",
       "      <td>154.109375</td>\n",
       "      <td>142.093750</td>\n",
       "      <td>144.515625</td>\n",
       "      <td>149.078125</td>\n",
       "      <td>142.609375</td>\n",
       "    </tr>\n",
       "    <tr>\n",
       "      <th>4</th>\n",
       "      <td>SEQ_000007_000004</td>\n",
       "      <td>Target</td>\n",
       "      <td>SEQ_000007</td>\n",
       "      <td>4</td>\n",
       "      <td>SUBJ_059520</td>\n",
       "      <td>Seated Lean Non Dom - FACE DOWN</td>\n",
       "      <td>Relaxes and moves hand to target location</td>\n",
       "      <td>Transition</td>\n",
       "      <td>Cheek - pinch skin</td>\n",
       "      <td>5.566406</td>\n",
       "      <td>...</td>\n",
       "      <td>False</td>\n",
       "      <td>False</td>\n",
       "      <td>False</td>\n",
       "      <td>False</td>\n",
       "      <td>False</td>\n",
       "      <td>177.953125</td>\n",
       "      <td>149.453125</td>\n",
       "      <td>161.828125</td>\n",
       "      <td>163.765625</td>\n",
       "      <td>151.265625</td>\n",
       "    </tr>\n",
       "    <tr>\n",
       "      <th>...</th>\n",
       "      <td>...</td>\n",
       "      <td>...</td>\n",
       "      <td>...</td>\n",
       "      <td>...</td>\n",
       "      <td>...</td>\n",
       "      <td>...</td>\n",
       "      <td>...</td>\n",
       "      <td>...</td>\n",
       "      <td>...</td>\n",
       "      <td>...</td>\n",
       "      <td>...</td>\n",
       "      <td>...</td>\n",
       "      <td>...</td>\n",
       "      <td>...</td>\n",
       "      <td>...</td>\n",
       "      <td>...</td>\n",
       "      <td>...</td>\n",
       "      <td>...</td>\n",
       "      <td>...</td>\n",
       "      <td>...</td>\n",
       "      <td>...</td>\n",
       "    </tr>\n",
       "    <tr>\n",
       "      <th>574940</th>\n",
       "      <td>SEQ_065531_000048</td>\n",
       "      <td>Non-Target</td>\n",
       "      <td>SEQ_065531</td>\n",
       "      <td>48</td>\n",
       "      <td>SUBJ_039498</td>\n",
       "      <td>Seated Lean Non Dom - FACE DOWN</td>\n",
       "      <td>Performs gesture</td>\n",
       "      <td>Gesture</td>\n",
       "      <td>Write name on leg</td>\n",
       "      <td>3.503906</td>\n",
       "      <td>...</td>\n",
       "      <td>False</td>\n",
       "      <td>False</td>\n",
       "      <td>False</td>\n",
       "      <td>False</td>\n",
       "      <td>False</td>\n",
       "      <td>68.562500</td>\n",
       "      <td>67.750000</td>\n",
       "      <td>144.437500</td>\n",
       "      <td>74.062500</td>\n",
       "      <td>52.843750</td>\n",
       "    </tr>\n",
       "    <tr>\n",
       "      <th>574941</th>\n",
       "      <td>SEQ_065531_000049</td>\n",
       "      <td>Non-Target</td>\n",
       "      <td>SEQ_065531</td>\n",
       "      <td>49</td>\n",
       "      <td>SUBJ_039498</td>\n",
       "      <td>Seated Lean Non Dom - FACE DOWN</td>\n",
       "      <td>Performs gesture</td>\n",
       "      <td>Gesture</td>\n",
       "      <td>Write name on leg</td>\n",
       "      <td>3.773438</td>\n",
       "      <td>...</td>\n",
       "      <td>False</td>\n",
       "      <td>False</td>\n",
       "      <td>False</td>\n",
       "      <td>False</td>\n",
       "      <td>False</td>\n",
       "      <td>70.234375</td>\n",
       "      <td>66.656250</td>\n",
       "      <td>144.000000</td>\n",
       "      <td>70.406250</td>\n",
       "      <td>54.531250</td>\n",
       "    </tr>\n",
       "    <tr>\n",
       "      <th>574942</th>\n",
       "      <td>SEQ_065531_000050</td>\n",
       "      <td>Non-Target</td>\n",
       "      <td>SEQ_065531</td>\n",
       "      <td>50</td>\n",
       "      <td>SUBJ_039498</td>\n",
       "      <td>Seated Lean Non Dom - FACE DOWN</td>\n",
       "      <td>Performs gesture</td>\n",
       "      <td>Gesture</td>\n",
       "      <td>Write name on leg</td>\n",
       "      <td>3.082031</td>\n",
       "      <td>...</td>\n",
       "      <td>False</td>\n",
       "      <td>False</td>\n",
       "      <td>False</td>\n",
       "      <td>False</td>\n",
       "      <td>False</td>\n",
       "      <td>66.671875</td>\n",
       "      <td>62.906250</td>\n",
       "      <td>136.906250</td>\n",
       "      <td>70.109375</td>\n",
       "      <td>57.468750</td>\n",
       "    </tr>\n",
       "    <tr>\n",
       "      <th>574943</th>\n",
       "      <td>SEQ_065531_000051</td>\n",
       "      <td>Non-Target</td>\n",
       "      <td>SEQ_065531</td>\n",
       "      <td>51</td>\n",
       "      <td>SUBJ_039498</td>\n",
       "      <td>Seated Lean Non Dom - FACE DOWN</td>\n",
       "      <td>Performs gesture</td>\n",
       "      <td>Gesture</td>\n",
       "      <td>Write name on leg</td>\n",
       "      <td>3.964844</td>\n",
       "      <td>...</td>\n",
       "      <td>False</td>\n",
       "      <td>False</td>\n",
       "      <td>False</td>\n",
       "      <td>False</td>\n",
       "      <td>False</td>\n",
       "      <td>67.218750</td>\n",
       "      <td>64.500000</td>\n",
       "      <td>140.531250</td>\n",
       "      <td>75.609375</td>\n",
       "      <td>54.937500</td>\n",
       "    </tr>\n",
       "    <tr>\n",
       "      <th>574944</th>\n",
       "      <td>SEQ_065531_000052</td>\n",
       "      <td>Non-Target</td>\n",
       "      <td>SEQ_065531</td>\n",
       "      <td>52</td>\n",
       "      <td>SUBJ_039498</td>\n",
       "      <td>Seated Lean Non Dom - FACE DOWN</td>\n",
       "      <td>Performs gesture</td>\n",
       "      <td>Gesture</td>\n",
       "      <td>Write name on leg</td>\n",
       "      <td>4.269531</td>\n",
       "      <td>...</td>\n",
       "      <td>False</td>\n",
       "      <td>False</td>\n",
       "      <td>False</td>\n",
       "      <td>False</td>\n",
       "      <td>False</td>\n",
       "      <td>68.937500</td>\n",
       "      <td>65.156250</td>\n",
       "      <td>143.906250</td>\n",
       "      <td>75.890625</td>\n",
       "      <td>55.281250</td>\n",
       "    </tr>\n",
       "  </tbody>\n",
       "</table>\n",
       "<p>574945 rows × 47 columns</p>\n",
       "</div>"
      ],
      "text/plain": [
       "                   row_id sequence_type sequence_id  sequence_counter  \\\n",
       "0       SEQ_000007_000000        Target  SEQ_000007                 0   \n",
       "1       SEQ_000007_000001        Target  SEQ_000007                 1   \n",
       "2       SEQ_000007_000002        Target  SEQ_000007                 2   \n",
       "3       SEQ_000007_000003        Target  SEQ_000007                 3   \n",
       "4       SEQ_000007_000004        Target  SEQ_000007                 4   \n",
       "...                   ...           ...         ...               ...   \n",
       "574940  SEQ_065531_000048    Non-Target  SEQ_065531                48   \n",
       "574941  SEQ_065531_000049    Non-Target  SEQ_065531                49   \n",
       "574942  SEQ_065531_000050    Non-Target  SEQ_065531                50   \n",
       "574943  SEQ_065531_000051    Non-Target  SEQ_065531                51   \n",
       "574944  SEQ_065531_000052    Non-Target  SEQ_065531                52   \n",
       "\n",
       "            subject                      orientation  \\\n",
       "0       SUBJ_059520  Seated Lean Non Dom - FACE DOWN   \n",
       "1       SUBJ_059520  Seated Lean Non Dom - FACE DOWN   \n",
       "2       SUBJ_059520  Seated Lean Non Dom - FACE DOWN   \n",
       "3       SUBJ_059520  Seated Lean Non Dom - FACE DOWN   \n",
       "4       SUBJ_059520  Seated Lean Non Dom - FACE DOWN   \n",
       "...             ...                              ...   \n",
       "574940  SUBJ_039498  Seated Lean Non Dom - FACE DOWN   \n",
       "574941  SUBJ_039498  Seated Lean Non Dom - FACE DOWN   \n",
       "574942  SUBJ_039498  Seated Lean Non Dom - FACE DOWN   \n",
       "574943  SUBJ_039498  Seated Lean Non Dom - FACE DOWN   \n",
       "574944  SUBJ_039498  Seated Lean Non Dom - FACE DOWN   \n",
       "\n",
       "                                         behavior       phase  \\\n",
       "0       Relaxes and moves hand to target location  Transition   \n",
       "1       Relaxes and moves hand to target location  Transition   \n",
       "2       Relaxes and moves hand to target location  Transition   \n",
       "3       Relaxes and moves hand to target location  Transition   \n",
       "4       Relaxes and moves hand to target location  Transition   \n",
       "...                                           ...         ...   \n",
       "574940                           Performs gesture     Gesture   \n",
       "574941                           Performs gesture     Gesture   \n",
       "574942                           Performs gesture     Gesture   \n",
       "574943                           Performs gesture     Gesture   \n",
       "574944                           Performs gesture     Gesture   \n",
       "\n",
       "                   gesture     acc_x  ...  Drink from bottle/cup  \\\n",
       "0       Cheek - pinch skin  6.683594  ...                  False   \n",
       "1       Cheek - pinch skin  6.949219  ...                  False   \n",
       "2       Cheek - pinch skin  5.722656  ...                  False   \n",
       "3       Cheek - pinch skin  6.601562  ...                  False   \n",
       "4       Cheek - pinch skin  5.566406  ...                  False   \n",
       "...                    ...       ...  ...                    ...   \n",
       "574940   Write name on leg  3.503906  ...                  False   \n",
       "574941   Write name on leg  3.773438  ...                  False   \n",
       "574942   Write name on leg  3.082031  ...                  False   \n",
       "574943   Write name on leg  3.964844  ...                  False   \n",
       "574944   Write name on leg  4.269531  ...                  False   \n",
       "\n",
       "        Pinch knee/leg skin  Pull air toward your face  Scratch knee/leg skin  \\\n",
       "0                     False                      False                  False   \n",
       "1                     False                      False                  False   \n",
       "2                     False                      False                  False   \n",
       "3                     False                      False                  False   \n",
       "4                     False                      False                  False   \n",
       "...                     ...                        ...                    ...   \n",
       "574940                False                      False                  False   \n",
       "574941                False                      False                  False   \n",
       "574942                False                      False                  False   \n",
       "574943                False                      False                  False   \n",
       "574944                False                      False                  False   \n",
       "\n",
       "        Glasses on/off       tof_1       tof_2       tof_3       tof_4  \\\n",
       "0                False  139.250000  117.109375   91.687500  123.359375   \n",
       "1                False  139.796875  119.671875   97.921875  124.406250   \n",
       "2                False  142.375000  128.359375  116.953125  125.687500   \n",
       "3                False  154.109375  142.093750  144.515625  149.078125   \n",
       "4                False  177.953125  149.453125  161.828125  163.765625   \n",
       "...                ...         ...         ...         ...         ...   \n",
       "574940           False   68.562500   67.750000  144.437500   74.062500   \n",
       "574941           False   70.234375   66.656250  144.000000   70.406250   \n",
       "574942           False   66.671875   62.906250  136.906250   70.109375   \n",
       "574943           False   67.218750   64.500000  140.531250   75.609375   \n",
       "574944           False   68.937500   65.156250  143.906250   75.890625   \n",
       "\n",
       "             tof_5  \n",
       "0       135.343750  \n",
       "1       137.000000  \n",
       "2       140.234375  \n",
       "3       142.609375  \n",
       "4       151.265625  \n",
       "...            ...  \n",
       "574940   52.843750  \n",
       "574941   54.531250  \n",
       "574942   57.468750  \n",
       "574943   54.937500  \n",
       "574944   55.281250  \n",
       "\n",
       "[574945 rows x 47 columns]"
      ]
     },
     "execution_count": 6,
     "metadata": {},
     "output_type": "execute_result"
    }
   ],
   "source": [
    "def agg_tof_cols_per_sensor(df:DF) -> DF:\n",
    "    for tof_idx in range(1, 6):\n",
    "        tof_name = f\"tof_{tof_idx}\"\n",
    "        tof_cols = [f\"{tof_name}_v{v_idx}\" for v_idx in range(64)]\n",
    "        if any(map(lambda col: col not in df.columns, tof_cols)):\n",
    "            print(f\"Some (or) all ToF {tof_idx} columns are not in the df. Maybe you already ran this cell?\")\n",
    "            continue\n",
    "        df = (\n",
    "            df\n",
    "            # Need to use a dict otherwise the name of the col will be \"tof_preffix\" instead of the value it contains\n",
    "            .assign(**{tof_name:df[tof_cols].mean(axis=\"columns\")})\n",
    "            .drop(columns=tof_cols)\n",
    "        )\n",
    "    return df\n",
    "\n",
    "df = agg_tof_cols_per_sensor(df)\n",
    "# Redifine feature_cols now that there are less of them.\n",
    "feature_cols = list(set(df.columns) - set(META_DATA_COLUMNS) - set(df[\"gesture\"].unique().tolist()))\n",
    "\n",
    "df"
   ]
  },
  {
   "cell_type": "markdown",
   "id": "05e480d3",
   "metadata": {},
   "source": [
    "### Split into folds"
   ]
  },
  {
   "cell_type": "code",
   "execution_count": 7,
   "id": "4bae51e8",
   "metadata": {},
   "outputs": [],
   "source": [
    "def split_dataset(df:DF, by=\"subject\") -> tuple[DF, DF]:\n",
    "    unique_sequences = df[by].unique()\n",
    "    validation_sequences = pd.Series(unique_sequences).sample(\n",
    "        frac=VALIDATION_FRACTION, replace=False\n",
    "    )\n",
    "\n",
    "    validation_set = df[df[by].isin(validation_sequences)]\n",
    "    train_set = df[~df[by].isin(validation_sequences)]\n",
    "\n",
    "    return train_set, validation_set\n",
    "\n",
    "folds = list(map(split_dataset, repeat(df, N_FOLDS)))"
   ]
  },
  {
   "cell_type": "code",
   "execution_count": 8,
   "id": "5f040eb8",
   "metadata": {},
   "outputs": [
    {
     "data": {
      "text/plain": [
       "(574945, 47)"
      ]
     },
     "metadata": {},
     "output_type": "display_data"
    },
    {
     "data": {
      "text/plain": [
       "(459073, 47)"
      ]
     },
     "metadata": {},
     "output_type": "display_data"
    },
    {
     "data": {
      "text/plain": [
       "(115872, 47)"
      ]
     },
     "metadata": {},
     "output_type": "display_data"
    }
   ],
   "source": [
    "display(df.shape)\n",
    "display(folds[0][0].shape)\n",
    "display(folds[0][1].shape)"
   ]
  },
  {
   "cell_type": "code",
   "execution_count": 9,
   "id": "edb72a67",
   "metadata": {},
   "outputs": [
    {
     "name": "stdout",
     "output_type": "stream",
     "text": [
      "(459073, 47) (115872, 47)\n",
      "(463036, 47) (111909, 47)\n",
      "(458225, 47) (116720, 47)\n",
      "(461464, 47) (113481, 47)\n",
      "(457812, 47) (117133, 47)\n"
     ]
    }
   ],
   "source": [
    "for train_df, validation_df in folds:\n",
    "    print(train_df.shape, validation_df.shape)"
   ]
  },
  {
   "cell_type": "markdown",
   "id": "d81b9c0d",
   "metadata": {},
   "source": [
    "### Std norm\n",
    "Standard scale the feature cols (should probably do something different for IMU cols).  \n",
    "<!-- *Deprecated, std norm is now performed at dataset creation to avoid target leakage.*   -->"
   ]
  },
  {
   "cell_type": "code",
   "execution_count": 10,
   "id": "c9d5755e",
   "metadata": {},
   "outputs": [
    {
     "name": "stderr",
     "output_type": "stream",
     "text": [
      "/tmp/ipykernel_7905/2075072895.py:4: FutureWarning: Setting an item of incompatible dtype is deprecated and will raise in a future error of pandas. Value '[-1.23510102 -1.26429047 -1.34558673 ...  0.03681142  0.01244667\n",
      "  0.02547337]' has dtype incompatible with float32, please explicitly cast to a compatible dtype first.\n",
      "  train.loc[:, feature_cols] = (train[feature_cols] - means) / std\n",
      "/tmp/ipykernel_7905/2075072895.py:4: FutureWarning: Setting an item of incompatible dtype is deprecated and will raise in a future error of pandas. Value '[-0.71967314 -0.68496767 -0.55170321 ... -0.7454187  -0.72579763\n",
      " -0.72783913]' has dtype incompatible with float32, please explicitly cast to a compatible dtype first.\n",
      "  train.loc[:, feature_cols] = (train[feature_cols] - means) / std\n",
      "/tmp/ipykernel_7905/2075072895.py:4: FutureWarning: Setting an item of incompatible dtype is deprecated and will raise in a future error of pandas. Value '[1.13827017 1.14984662 0.94250213 ... 0.30808957 0.39060125 0.38065242]' has dtype incompatible with float32, please explicitly cast to a compatible dtype first.\n",
      "  train.loc[:, feature_cols] = (train[feature_cols] - means) / std\n",
      "/tmp/ipykernel_7905/2075072895.py:4: FutureWarning: Setting an item of incompatible dtype is deprecated and will raise in a future error of pandas. Value '[ 0.36630584  0.39608203  0.45422986 ... -1.03373659 -1.07924359\n",
      " -1.07306363]' has dtype incompatible with float32, please explicitly cast to a compatible dtype first.\n",
      "  train.loc[:, feature_cols] = (train[feature_cols] - means) / std\n",
      "/tmp/ipykernel_7905/2075072895.py:4: FutureWarning: Setting an item of incompatible dtype is deprecated and will raise in a future error of pandas. Value '[ 0.14724419  0.1979316   0.36977429 ... -0.9249182  -0.8933931\n",
      " -0.88041218]' has dtype incompatible with float32, please explicitly cast to a compatible dtype first.\n",
      "  train.loc[:, feature_cols] = (train[feature_cols] - means) / std\n",
      "/tmp/ipykernel_7905/2075072895.py:4: FutureWarning: Setting an item of incompatible dtype is deprecated and will raise in a future error of pandas. Value '[-0.50734951 -0.47551347 -0.33433891 ... -1.59564617 -1.60099567\n",
      " -1.60412708]' has dtype incompatible with float32, please explicitly cast to a compatible dtype first.\n",
      "  train.loc[:, feature_cols] = (train[feature_cols] - means) / std\n",
      "/tmp/ipykernel_7905/2075072895.py:4: FutureWarning: Setting an item of incompatible dtype is deprecated and will raise in a future error of pandas. Value '[0.35175165 0.36977286 0.40368479 ... 0.79826173 0.81303724 0.81989761]' has dtype incompatible with float32, please explicitly cast to a compatible dtype first.\n",
      "  train.loc[:, feature_cols] = (train[feature_cols] - means) / std\n",
      "/tmp/ipykernel_7905/2075072895.py:4: FutureWarning: Setting an item of incompatible dtype is deprecated and will raise in a future error of pandas. Value '[-0.97308558 -0.93393669 -0.60865928 ... -1.06452059 -1.04586575\n",
      " -1.06767352]' has dtype incompatible with float32, please explicitly cast to a compatible dtype first.\n",
      "  train.loc[:, feature_cols] = (train[feature_cols] - means) / std\n",
      "/tmp/ipykernel_7905/2075072895.py:4: FutureWarning: Setting an item of incompatible dtype is deprecated and will raise in a future error of pandas. Value '[-0.03147951 -0.01236189  0.0110358  ... -1.00391023 -0.90347137\n",
      " -0.8983353 ]' has dtype incompatible with float32, please explicitly cast to a compatible dtype first.\n",
      "  train.loc[:, feature_cols] = (train[feature_cols] - means) / std\n",
      "/tmp/ipykernel_7905/2075072895.py:4: FutureWarning: Setting an item of incompatible dtype is deprecated and will raise in a future error of pandas. Value '[ 0.87213939  0.87213939  0.71028638 ... -0.33390125 -0.45018399\n",
      " -0.56568104]' has dtype incompatible with float32, please explicitly cast to a compatible dtype first.\n",
      "  train.loc[:, feature_cols] = (train[feature_cols] - means) / std\n",
      "/tmp/ipykernel_7905/2075072895.py:4: FutureWarning: Setting an item of incompatible dtype is deprecated and will raise in a future error of pandas. Value '[0.86557727 0.91153239 0.69932789 ... 0.24247998 0.39521315 0.44792637]' has dtype incompatible with float32, please explicitly cast to a compatible dtype first.\n",
      "  train.loc[:, feature_cols] = (train[feature_cols] - means) / std\n",
      "/tmp/ipykernel_7905/2075072895.py:4: FutureWarning: Setting an item of incompatible dtype is deprecated and will raise in a future error of pandas. Value '[0.47105007 0.48723751 0.50815906 ... 0.6291092  0.56542253 0.56409114]' has dtype incompatible with float32, please explicitly cast to a compatible dtype first.\n",
      "  train.loc[:, feature_cols] = (train[feature_cols] - means) / std\n",
      "/tmp/ipykernel_7905/2075072895.py:4: FutureWarning: Setting an item of incompatible dtype is deprecated and will raise in a future error of pandas. Value '[ 0.62878097  0.59095799  0.96790567 ... -1.13671886 -1.41301894\n",
      " -1.50212732]' has dtype incompatible with float32, please explicitly cast to a compatible dtype first.\n",
      "  train.loc[:, feature_cols] = (train[feature_cols] - means) / std\n",
      "/tmp/ipykernel_7905/2075072895.py:4: FutureWarning: Setting an item of incompatible dtype is deprecated and will raise in a future error of pandas. Value '[ 0.32816608  0.33843735  0.38685907 ... -1.03497879 -1.02470752\n",
      " -0.99242637]' has dtype incompatible with float32, please explicitly cast to a compatible dtype first.\n",
      "  train.loc[:, feature_cols] = (train[feature_cols] - means) / std\n",
      "/tmp/ipykernel_7905/2075072895.py:4: FutureWarning: Setting an item of incompatible dtype is deprecated and will raise in a future error of pandas. Value '[0.61871657 0.66289392 0.71809301 ... 0.3115171  0.33993573 0.32499346]' has dtype incompatible with float32, please explicitly cast to a compatible dtype first.\n",
      "  train.loc[:, feature_cols] = (train[feature_cols] - means) / std\n",
      "/tmp/ipykernel_7905/2075072895.py:4: FutureWarning: Setting an item of incompatible dtype is deprecated and will raise in a future error of pandas. Value '[0.49526594 0.57966668 0.79196679 ... 0.60476277 0.67500067 0.65528098]' has dtype incompatible with float32, please explicitly cast to a compatible dtype first.\n",
      "  train.loc[:, feature_cols] = (train[feature_cols] - means) / std\n",
      "/tmp/ipykernel_7905/2075072895.py:4: FutureWarning: Setting an item of incompatible dtype is deprecated and will raise in a future error of pandas. Value '[-0.4684366  -0.35181579  0.00418458 ...  0.37742964  0.44523923\n",
      "  0.5083723 ]' has dtype incompatible with float32, please explicitly cast to a compatible dtype first.\n",
      "  train.loc[:, feature_cols] = (train[feature_cols] - means) / std\n",
      "/tmp/ipykernel_7905/2075072895.py:5: FutureWarning: Setting an item of incompatible dtype is deprecated and will raise in a future error of pandas. Value '[-0.42370652 -0.44360842 -0.44879498 ...  0.20579666  0.19759466\n",
      "  0.17901955]' has dtype incompatible with float32, please explicitly cast to a compatible dtype first.\n",
      "  val.loc[:, feature_cols] = (val[feature_cols] - means) / std\n",
      "/tmp/ipykernel_7905/2075072895.py:5: FutureWarning: Setting an item of incompatible dtype is deprecated and will raise in a future error of pandas. Value '[ 0.68759952  0.68567144  0.67966036 ... -0.54024814 -0.5515898\n",
      " -0.53866031]' has dtype incompatible with float32, please explicitly cast to a compatible dtype first.\n",
      "  val.loc[:, feature_cols] = (val[feature_cols] - means) / std\n",
      "/tmp/ipykernel_7905/2075072895.py:5: FutureWarning: Setting an item of incompatible dtype is deprecated and will raise in a future error of pandas. Value '[-0.6143819  -0.60215516 -0.61332039 ... -0.4806946  -0.49461631\n",
      " -0.50279189]' has dtype incompatible with float32, please explicitly cast to a compatible dtype first.\n",
      "  val.loc[:, feature_cols] = (val[feature_cols] - means) / std\n",
      "/tmp/ipykernel_7905/2075072895.py:5: FutureWarning: Setting an item of incompatible dtype is deprecated and will raise in a future error of pandas. Value '[ 0.8739055   0.90789529  0.92278339 ... -0.04634711 -0.03342537\n",
      " -0.05027982]' has dtype incompatible with float32, please explicitly cast to a compatible dtype first.\n",
      "  val.loc[:, feature_cols] = (val[feature_cols] - means) / std\n",
      "/tmp/ipykernel_7905/2075072895.py:5: FutureWarning: Setting an item of incompatible dtype is deprecated and will raise in a future error of pandas. Value '[-0.14637191 -0.09104846 -0.05859615 ... -0.61553954 -0.59050491\n",
      " -0.59606816]' has dtype incompatible with float32, please explicitly cast to a compatible dtype first.\n",
      "  val.loc[:, feature_cols] = (val[feature_cols] - means) / std\n",
      "/tmp/ipykernel_7905/2075072895.py:5: FutureWarning: Setting an item of incompatible dtype is deprecated and will raise in a future error of pandas. Value '[2.08702656 2.07697994 2.07684947 ... 1.93319588 1.93071684 1.9335873 ]' has dtype incompatible with float32, please explicitly cast to a compatible dtype first.\n",
      "  val.loc[:, feature_cols] = (val[feature_cols] - means) / std\n",
      "/tmp/ipykernel_7905/2075072895.py:5: FutureWarning: Setting an item of incompatible dtype is deprecated and will raise in a future error of pandas. Value '[-0.82211389 -0.86382788 -0.82094994 ... -0.1811655  -0.19334504\n",
      " -0.16389881]' has dtype incompatible with float32, please explicitly cast to a compatible dtype first.\n",
      "  val.loc[:, feature_cols] = (val[feature_cols] - means) / std\n",
      "/tmp/ipykernel_7905/2075072895.py:5: FutureWarning: Setting an item of incompatible dtype is deprecated and will raise in a future error of pandas. Value '[-1.17644965 -1.16278694 -1.16436341 ...  0.60863491  0.59497221\n",
      "  0.59996435]' has dtype incompatible with float32, please explicitly cast to a compatible dtype first.\n",
      "  val.loc[:, feature_cols] = (val[feature_cols] - means) / std\n",
      "/tmp/ipykernel_7905/2075072895.py:5: FutureWarning: Setting an item of incompatible dtype is deprecated and will raise in a future error of pandas. Value '[-0.22779182 -0.20182609 -0.18156712 ...  0.55203598  0.5332037\n",
      "  0.56601753]' has dtype incompatible with float32, please explicitly cast to a compatible dtype first.\n",
      "  val.loc[:, feature_cols] = (val[feature_cols] - means) / std\n",
      "/tmp/ipykernel_7905/2075072895.py:5: FutureWarning: Setting an item of incompatible dtype is deprecated and will raise in a future error of pandas. Value '[-0.5311105  -0.54603869 -0.56960952 ...  1.26184373  1.34591301\n",
      "  1.24534415]' has dtype incompatible with float32, please explicitly cast to a compatible dtype first.\n",
      "  val.loc[:, feature_cols] = (val[feature_cols] - means) / std\n",
      "/tmp/ipykernel_7905/2075072895.py:5: FutureWarning: Setting an item of incompatible dtype is deprecated and will raise in a future error of pandas. Value '[-1.54098396 -1.60721339 -1.6011311  ...  0.12286152  0.0897468\n",
      "  0.0897468 ]' has dtype incompatible with float32, please explicitly cast to a compatible dtype first.\n",
      "  val.loc[:, feature_cols] = (val[feature_cols] - means) / std\n",
      "/tmp/ipykernel_7905/2075072895.py:5: FutureWarning: Setting an item of incompatible dtype is deprecated and will raise in a future error of pandas. Value '[-0.24513158 -0.23398267 -0.23672454 ...  0.52321043  0.53798158\n",
      "  0.52918327]' has dtype incompatible with float32, please explicitly cast to a compatible dtype first.\n",
      "  val.loc[:, feature_cols] = (val[feature_cols] - means) / std\n",
      "/tmp/ipykernel_7905/2075072895.py:5: FutureWarning: Setting an item of incompatible dtype is deprecated and will raise in a future error of pandas. Value '[-1.08222812 -0.93734687 -0.94375755 ... -0.69566443 -0.71489646\n",
      " -0.75913012]' has dtype incompatible with float32, please explicitly cast to a compatible dtype first.\n",
      "  val.loc[:, feature_cols] = (val[feature_cols] - means) / std\n",
      "/tmp/ipykernel_7905/2075072895.py:5: FutureWarning: Setting an item of incompatible dtype is deprecated and will raise in a future error of pandas. Value '[-0.37732375 -0.34328182 -0.30601176 ... -0.29926207 -0.25935083\n",
      " -0.28282803]' has dtype incompatible with float32, please explicitly cast to a compatible dtype first.\n",
      "  val.loc[:, feature_cols] = (val[feature_cols] - means) / std\n",
      "/tmp/ipykernel_7905/2075072895.py:5: FutureWarning: Setting an item of incompatible dtype is deprecated and will raise in a future error of pandas. Value '[-0.44148335 -0.45379841 -0.45527139 ... -0.22660394 -0.2342798\n",
      " -0.22043035]' has dtype incompatible with float32, please explicitly cast to a compatible dtype first.\n",
      "  val.loc[:, feature_cols] = (val[feature_cols] - means) / std\n",
      "/tmp/ipykernel_7905/2075072895.py:5: FutureWarning: Setting an item of incompatible dtype is deprecated and will raise in a future error of pandas. Value '[-0.58025266 -0.58459254 -0.58730021 ... -0.27209868 -0.24978163\n",
      " -0.24947911]' has dtype incompatible with float32, please explicitly cast to a compatible dtype first.\n",
      "  val.loc[:, feature_cols] = (val[feature_cols] - means) / std\n",
      "/tmp/ipykernel_7905/2075072895.py:5: FutureWarning: Setting an item of incompatible dtype is deprecated and will raise in a future error of pandas. Value '[-1.20849649 -1.21141932 -1.18219105 ... -0.11185167 -0.11185167\n",
      " -0.11185167]' has dtype incompatible with float32, please explicitly cast to a compatible dtype first.\n",
      "  val.loc[:, feature_cols] = (val[feature_cols] - means) / std\n",
      "/tmp/ipykernel_7905/2075072895.py:4: FutureWarning: Setting an item of incompatible dtype is deprecated and will raise in a future error of pandas. Value '[-1.49144514 -1.49108073 -1.48792257 ...  0.04427458  0.01973804\n",
      "  0.03285659]' has dtype incompatible with float32, please explicitly cast to a compatible dtype first.\n",
      "  train.loc[:, feature_cols] = (train[feature_cols] - means) / std\n",
      "/tmp/ipykernel_7905/2075072895.py:4: FutureWarning: Setting an item of incompatible dtype is deprecated and will raise in a future error of pandas. Value '[ 0.05127131  0.05115724  0.04750694 ... -0.75168074 -0.73194631\n",
      " -0.7339996 ]' has dtype incompatible with float32, please explicitly cast to a compatible dtype first.\n",
      "  train.loc[:, feature_cols] = (train[feature_cols] - means) / std\n",
      "/tmp/ipykernel_7905/2075072895.py:4: FutureWarning: Setting an item of incompatible dtype is deprecated and will raise in a future error of pandas. Value '[-0.59000008 -0.58643005 -0.60457425 ...  0.31559261  0.39866123\n",
      "  0.38864525]' has dtype incompatible with float32, please explicitly cast to a compatible dtype first.\n",
      "  train.loc[:, feature_cols] = (train[feature_cols] - means) / std\n",
      "/tmp/ipykernel_7905/2075072895.py:4: FutureWarning: Setting an item of incompatible dtype is deprecated and will raise in a future error of pandas. Value '[ 0.40578795  0.40770773  0.4055137  ... -0.95424066 -0.99866991\n",
      " -0.9926363 ]' has dtype incompatible with float32, please explicitly cast to a compatible dtype first.\n",
      "  train.loc[:, feature_cols] = (train[feature_cols] - means) / std\n",
      "/tmp/ipykernel_7905/2075072895.py:4: FutureWarning: Setting an item of incompatible dtype is deprecated and will raise in a future error of pandas. Value '[ 1.11523012  1.11584315  1.11339103 ... -0.9227963  -0.89153164\n",
      " -0.87865796]' has dtype incompatible with float32, please explicitly cast to a compatible dtype first.\n",
      "  train.loc[:, feature_cols] = (train[feature_cols] - means) / std\n",
      "/tmp/ipykernel_7905/2075072895.py:4: FutureWarning: Setting an item of incompatible dtype is deprecated and will raise in a future error of pandas. Value '[-0.04959994 -0.04306532 -0.03849109 ... -1.61568599 -1.62104438\n",
      " -1.624181  ]' has dtype incompatible with float32, please explicitly cast to a compatible dtype first.\n",
      "  train.loc[:, feature_cols] = (train[feature_cols] - means) / std\n",
      "/tmp/ipykernel_7905/2075072895.py:4: FutureWarning: Setting an item of incompatible dtype is deprecated and will raise in a future error of pandas. Value '[0.39155932 0.42043834 0.43041827 ... 0.79657293 0.81135076 0.81821221]' has dtype incompatible with float32, please explicitly cast to a compatible dtype first.\n",
      "  train.loc[:, feature_cols] = (train[feature_cols] - means) / std\n",
      "/tmp/ipykernel_7905/2075072895.py:4: FutureWarning: Setting an item of incompatible dtype is deprecated and will raise in a future error of pandas. Value '[-0.22002095 -0.21245873 -0.18977207 ... -1.099846   -1.08133161\n",
      " -1.1029752 ]' has dtype incompatible with float32, please explicitly cast to a compatible dtype first.\n",
      "  train.loc[:, feature_cols] = (train[feature_cols] - means) / std\n",
      "/tmp/ipykernel_7905/2075072895.py:4: FutureWarning: Setting an item of incompatible dtype is deprecated and will raise in a future error of pandas. Value '[ 1.5781623   1.57499682  1.57758676 ... -0.98328897 -0.88199351\n",
      " -0.87681363]' has dtype incompatible with float32, please explicitly cast to a compatible dtype first.\n",
      "  train.loc[:, feature_cols] = (train[feature_cols] - means) / std\n",
      "/tmp/ipykernel_7905/2075072895.py:4: FutureWarning: Setting an item of incompatible dtype is deprecated and will raise in a future error of pandas. Value '[-0.3940515  -0.3940515  -0.38622285 ... -0.30558777 -0.42145177\n",
      " -0.5365329 ]' has dtype incompatible with float32, please explicitly cast to a compatible dtype first.\n",
      "  train.loc[:, feature_cols] = (train[feature_cols] - means) / std\n",
      "/tmp/ipykernel_7905/2075072895.py:4: FutureWarning: Setting an item of incompatible dtype is deprecated and will raise in a future error of pandas. Value '[0.20677062 0.18044066 0.19394321 ... 0.26145592 0.41403465 0.46669457]' has dtype incompatible with float32, please explicitly cast to a compatible dtype first.\n",
      "  train.loc[:, feature_cols] = (train[feature_cols] - means) / std\n",
      "/tmp/ipykernel_7905/2075072895.py:4: FutureWarning: Setting an item of incompatible dtype is deprecated and will raise in a future error of pandas. Value '[-0.09278456 -0.1050444  -0.09278456 ...  0.61086544  0.55494998\n",
      "  0.55378105]' has dtype incompatible with float32, please explicitly cast to a compatible dtype first.\n",
      "  train.loc[:, feature_cols] = (train[feature_cols] - means) / std\n",
      "/tmp/ipykernel_7905/2075072895.py:4: FutureWarning: Setting an item of incompatible dtype is deprecated and will raise in a future error of pandas. Value '[ 1.63533885  1.64172401  1.64172401 ... -1.15242048 -1.42762073\n",
      " -1.5163744 ]' has dtype incompatible with float32, please explicitly cast to a compatible dtype first.\n",
      "  train.loc[:, feature_cols] = (train[feature_cols] - means) / std\n",
      "/tmp/ipykernel_7905/2075072895.py:4: FutureWarning: Setting an item of incompatible dtype is deprecated and will raise in a future error of pandas. Value '[ 1.06697541  1.06638754  1.06433    ... -1.02172215 -1.01143445\n",
      " -0.97910167]' has dtype incompatible with float32, please explicitly cast to a compatible dtype first.\n",
      "  train.loc[:, feature_cols] = (train[feature_cols] - means) / std\n",
      "/tmp/ipykernel_7905/2075072895.py:4: FutureWarning: Setting an item of incompatible dtype is deprecated and will raise in a future error of pandas. Value '[-0.29206385 -0.28820292 -0.29294674 ...  0.31124881  0.3397617\n",
      "  0.32476986]' has dtype incompatible with float32, please explicitly cast to a compatible dtype first.\n",
      "  train.loc[:, feature_cols] = (train[feature_cols] - means) / std\n",
      "/tmp/ipykernel_7905/2075072895.py:4: FutureWarning: Setting an item of incompatible dtype is deprecated and will raise in a future error of pandas. Value '[-0.13316692 -0.11736003 -0.12629963 ...  0.60798889  0.67847849\n",
      "  0.65868814]' has dtype incompatible with float32, please explicitly cast to a compatible dtype first.\n",
      "  train.loc[:, feature_cols] = (train[feature_cols] - means) / std\n",
      "/tmp/ipykernel_7905/2075072895.py:4: FutureWarning: Setting an item of incompatible dtype is deprecated and will raise in a future error of pandas. Value '[1.23830148 1.23624176 1.23683025 ... 0.3994089  0.46767374 0.53123067]' has dtype incompatible with float32, please explicitly cast to a compatible dtype first.\n",
      "  train.loc[:, feature_cols] = (train[feature_cols] - means) / std\n",
      "/tmp/ipykernel_7905/2075072895.py:5: FutureWarning: Setting an item of incompatible dtype is deprecated and will raise in a future error of pandas. Value '[-1.23660531 -1.26600056 -1.34786998 ...  1.48901477  1.5044412\n",
      "  1.5537572 ]' has dtype incompatible with float32, please explicitly cast to a compatible dtype first.\n",
      "  val.loc[:, feature_cols] = (val[feature_cols] - means) / std\n",
      "/tmp/ipykernel_7905/2075072895.py:5: FutureWarning: Setting an item of incompatible dtype is deprecated and will raise in a future error of pandas. Value '[-0.72578642 -0.69088042 -0.55684595 ...  1.63744099  1.63367661\n",
      "  1.60436014]' has dtype incompatible with float32, please explicitly cast to a compatible dtype first.\n",
      "  val.loc[:, feature_cols] = (val[feature_cols] - means) / std\n",
      "/tmp/ipykernel_7905/2075072895.py:5: FutureWarning: Setting an item of incompatible dtype is deprecated and will raise in a future error of pandas. Value '[1.15137683 1.16303142 0.95428739 ... 0.50360466 0.54591781 0.54463853]' has dtype incompatible with float32, please explicitly cast to a compatible dtype first.\n",
      "  val.loc[:, feature_cols] = (val[feature_cols] - means) / std\n",
      "/tmp/ipykernel_7905/2075072895.py:5: FutureWarning: Setting an item of incompatible dtype is deprecated and will raise in a future error of pandas. Value '[ 0.41264432  0.4417153   0.49848601 ... -0.36815856 -0.30946807\n",
      " -0.41944417]' has dtype incompatible with float32, please explicitly cast to a compatible dtype first.\n",
      "  val.loc[:, feature_cols] = (val[feature_cols] - means) / std\n",
      "/tmp/ipykernel_7905/2075072895.py:5: FutureWarning: Setting an item of incompatible dtype is deprecated and will raise in a future error of pandas. Value '[ 0.14050851  0.19077717  0.36120019 ... -0.36800192 -0.3505305\n",
      " -0.41397936]' has dtype incompatible with float32, please explicitly cast to a compatible dtype first.\n",
      "  val.loc[:, feature_cols] = (val[feature_cols] - means) / std\n",
      "/tmp/ipykernel_7905/2075072895.py:5: FutureWarning: Setting an item of incompatible dtype is deprecated and will raise in a future error of pandas. Value '[-0.52558136 -0.49369244 -0.35228335 ...  0.44311011  0.42128449\n",
      "  0.41514195]' has dtype incompatible with float32, please explicitly cast to a compatible dtype first.\n",
      "  val.loc[:, feature_cols] = (val[feature_cols] - means) / std\n",
      "/tmp/ipykernel_7905/2075072895.py:5: FutureWarning: Setting an item of incompatible dtype is deprecated and will raise in a future error of pandas. Value '[0.34999284 0.36801688 0.40193412 ... 0.20620906 0.22445345 0.20984868]' has dtype incompatible with float32, please explicitly cast to a compatible dtype first.\n",
      "  val.loc[:, feature_cols] = (val[feature_cols] - means) / std\n",
      "/tmp/ipykernel_7905/2075072895.py:5: FutureWarning: Setting an item of incompatible dtype is deprecated and will raise in a future error of pandas. Value '[-1.00909938 -0.97024522 -0.6474167  ... -1.16764521 -1.257088\n",
      " -1.35070306]' has dtype incompatible with float32, please explicitly cast to a compatible dtype first.\n",
      "  val.loc[:, feature_cols] = (val[feature_cols] - means) / std\n",
      "/tmp/ipykernel_7905/2075072895.py:5: FutureWarning: Setting an item of incompatible dtype is deprecated and will raise in a future error of pandas. Value '[-0.00256479  0.01671588  0.04031312 ... -1.25580827 -1.25897376\n",
      " -1.27882997]' has dtype incompatible with float32, please explicitly cast to a compatible dtype first.\n",
      "  val.loc[:, feature_cols] = (val[feature_cols] - means) / std\n",
      "/tmp/ipykernel_7905/2075072895.py:5: FutureWarning: Setting an item of incompatible dtype is deprecated and will raise in a future error of pandas. Value '[0.89610972 0.89610972 0.73483957 ... 1.57720211 1.52240157 1.54588752]' has dtype incompatible with float32, please explicitly cast to a compatible dtype first.\n",
      "  val.loc[:, feature_cols] = (val[feature_cols] - means) / std\n",
      "/tmp/ipykernel_7905/2075072895.py:5: FutureWarning: Setting an item of incompatible dtype is deprecated and will raise in a future error of pandas. Value '[ 0.88392313  0.92983178  0.71784186 ... -0.37991485 -0.36708744\n",
      " -0.31375239]' has dtype incompatible with float32, please explicitly cast to a compatible dtype first.\n",
      "  val.loc[:, feature_cols] = (val[feature_cols] - means) / std\n",
      "/tmp/ipykernel_7905/2075072895.py:5: FutureWarning: Setting an item of incompatible dtype is deprecated and will raise in a future error of pandas. Value '[0.47209308 0.48630529 0.50467394 ... 0.22278288 0.26994159 0.27215218]' has dtype incompatible with float32, please explicitly cast to a compatible dtype first.\n",
      "  val.loc[:, feature_cols] = (val[feature_cols] - means) / std\n",
      "/tmp/ipykernel_7905/2075072895.py:5: FutureWarning: Setting an item of incompatible dtype is deprecated and will raise in a future error of pandas. Value '[ 0.60605162  0.5683792   0.9438264  ... -0.4717628  -0.55285428\n",
      " -0.50943522]' has dtype incompatible with float32, please explicitly cast to a compatible dtype first.\n",
      "  val.loc[:, feature_cols] = (val[feature_cols] - means) / std\n",
      "/tmp/ipykernel_7905/2075072895.py:5: FutureWarning: Setting an item of incompatible dtype is deprecated and will raise in a future error of pandas. Value '[ 0.34360295  0.35389065  0.40238982 ... -0.96499282 -1.01290412\n",
      " -1.06375476]' has dtype incompatible with float32, please explicitly cast to a compatible dtype first.\n",
      "  val.loc[:, feature_cols] = (val[feature_cols] - means) / std\n",
      "/tmp/ipykernel_7905/2075072895.py:5: FutureWarning: Setting an item of incompatible dtype is deprecated and will raise in a future error of pandas. Value '[0.61946716 0.66379104 0.71917321 ... 0.52373963 0.54260408 0.54631273]' has dtype incompatible with float32, please explicitly cast to a compatible dtype first.\n",
      "  val.loc[:, feature_cols] = (val[feature_cols] - means) / std\n",
      "/tmp/ipykernel_7905/2075072895.py:5: FutureWarning: Setting an item of incompatible dtype is deprecated and will raise in a future error of pandas. Value '[0.49809968 0.58280287 0.79586376 ... 0.43559085 0.49777939 0.48791922]' has dtype incompatible with float32, please explicitly cast to a compatible dtype first.\n",
      "  val.loc[:, feature_cols] = (val[feature_cols] - means) / std\n",
      "/tmp/ipykernel_7905/2075072895.py:5: FutureWarning: Setting an item of incompatible dtype is deprecated and will raise in a future error of pandas. Value '[-0.45213623 -0.33473246  0.02365799 ... -1.41814266 -1.46698734\n",
      " -1.39607429]' has dtype incompatible with float32, please explicitly cast to a compatible dtype first.\n",
      "  val.loc[:, feature_cols] = (val[feature_cols] - means) / std\n",
      "/tmp/ipykernel_7905/2075072895.py:4: FutureWarning: Setting an item of incompatible dtype is deprecated and will raise in a future error of pandas. Value '[-1.23927628 -1.26867662 -1.35056021 ...  0.04182532  0.01728454\n",
      "  0.03040535]' has dtype incompatible with float32, please explicitly cast to a compatible dtype first.\n",
      "  train.loc[:, feature_cols] = (train[feature_cols] - means) / std\n",
      "/tmp/ipykernel_7905/2075072895.py:4: FutureWarning: Setting an item of incompatible dtype is deprecated and will raise in a future error of pandas. Value '[-0.70548788 -0.67132702 -0.54015376 ... -0.73082944 -0.71151627\n",
      " -0.71352574]' has dtype incompatible with float32, please explicitly cast to a compatible dtype first.\n",
      "  train.loc[:, feature_cols] = (train[feature_cols] - means) / std\n",
      "/tmp/ipykernel_7905/2075072895.py:4: FutureWarning: Setting an item of incompatible dtype is deprecated and will raise in a future error of pandas. Value '[1.18032757 1.1925856  0.97303348 ... 0.30126918 0.38863882 0.37810424]' has dtype incompatible with float32, please explicitly cast to a compatible dtype first.\n",
      "  train.loc[:, feature_cols] = (train[feature_cols] - means) / std\n",
      "/tmp/ipykernel_7905/2075072895.py:4: FutureWarning: Setting an item of incompatible dtype is deprecated and will raise in a future error of pandas. Value '[ 0.4260693   0.45464844  0.51045865 ... -0.91768956 -0.96136712\n",
      " -0.9554356 ]' has dtype incompatible with float32, please explicitly cast to a compatible dtype first.\n",
      "  train.loc[:, feature_cols] = (train[feature_cols] - means) / std\n",
      "/tmp/ipykernel_7905/2075072895.py:4: FutureWarning: Setting an item of incompatible dtype is deprecated and will raise in a future error of pandas. Value '[ 0.15489841  0.205551    0.37727565 ... -0.91652748 -0.88502403\n",
      " -0.87205203]' has dtype incompatible with float32, please explicitly cast to a compatible dtype first.\n",
      "  train.loc[:, feature_cols] = (train[feature_cols] - means) / std\n",
      "/tmp/ipykernel_7905/2075072895.py:4: FutureWarning: Setting an item of incompatible dtype is deprecated and will raise in a future error of pandas. Value '[-0.50793891 -0.47550434 -0.33167562 ... -1.61669617 -1.62214624\n",
      " -1.62533652]' has dtype incompatible with float32, please explicitly cast to a compatible dtype first.\n",
      "  train.loc[:, feature_cols] = (train[feature_cols] - means) / std\n",
      "/tmp/ipykernel_7905/2075072895.py:4: FutureWarning: Setting an item of incompatible dtype is deprecated and will raise in a future error of pandas. Value '[0.35285538 0.37087818 0.40479308 ... 0.79940462 0.81418143 0.8210424 ]' has dtype incompatible with float32, please explicitly cast to a compatible dtype first.\n",
      "  train.loc[:, feature_cols] = (train[feature_cols] - means) / std\n",
      "/tmp/ipykernel_7905/2075072895.py:4: FutureWarning: Setting an item of incompatible dtype is deprecated and will raise in a future error of pandas. Value '[-0.99366181 -0.95405557 -0.62497822 ... -1.08616497 -1.0672922\n",
      " -1.08935474]' has dtype incompatible with float32, please explicitly cast to a compatible dtype first.\n",
      "  train.loc[:, feature_cols] = (train[feature_cols] - means) / std\n",
      "/tmp/ipykernel_7905/2075072895.py:4: FutureWarning: Setting an item of incompatible dtype is deprecated and will raise in a future error of pandas. Value '[-0.0119373   0.0074497   0.03117708 ... -0.99807036 -0.89621624\n",
      " -0.89100779]' has dtype incompatible with float32, please explicitly cast to a compatible dtype first.\n",
      "  train.loc[:, feature_cols] = (train[feature_cols] - means) / std\n",
      "/tmp/ipykernel_7905/2075072895.py:4: FutureWarning: Setting an item of incompatible dtype is deprecated and will raise in a future error of pandas. Value '[ 0.87310172  0.87310172  0.71152359 ... -0.33089063 -0.44697588\n",
      " -0.56227678]' has dtype incompatible with float32, please explicitly cast to a compatible dtype first.\n",
      "  train.loc[:, feature_cols] = (train[feature_cols] - means) / std\n",
      "/tmp/ipykernel_7905/2075072895.py:4: FutureWarning: Setting an item of incompatible dtype is deprecated and will raise in a future error of pandas. Value '[0.86213764 0.90878851 0.69337127 ... 0.22960676 0.38465229 0.43816358]' has dtype incompatible with float32, please explicitly cast to a compatible dtype first.\n",
      "  train.loc[:, feature_cols] = (train[feature_cols] - means) / std\n",
      "/tmp/ipykernel_7905/2075072895.py:4: FutureWarning: Setting an item of incompatible dtype is deprecated and will raise in a future error of pandas. Value '[0.49795221 0.51108555 0.52805981 ... 0.62619016 0.57451932 0.57343913]' has dtype incompatible with float32, please explicitly cast to a compatible dtype first.\n",
      "  train.loc[:, feature_cols] = (train[feature_cols] - means) / std\n",
      "/tmp/ipykernel_7905/2075072895.py:4: FutureWarning: Setting an item of incompatible dtype is deprecated and will raise in a future error of pandas. Value '[ 0.6200746   0.58242881  0.95761063 ... -1.13715454 -1.41216027\n",
      " -1.50085121]' has dtype incompatible with float32, please explicitly cast to a compatible dtype first.\n",
      "  train.loc[:, feature_cols] = (train[feature_cols] - means) / std\n",
      "/tmp/ipykernel_7905/2075072895.py:4: FutureWarning: Setting an item of incompatible dtype is deprecated and will raise in a future error of pandas. Value '[ 0.34124978  0.35162931  0.40056138 ... -1.03626211 -1.02588258\n",
      " -0.9932612 ]' has dtype incompatible with float32, please explicitly cast to a compatible dtype first.\n",
      "  train.loc[:, feature_cols] = (train[feature_cols] - means) / std\n",
      "/tmp/ipykernel_7905/2075072895.py:4: FutureWarning: Setting an item of incompatible dtype is deprecated and will raise in a future error of pandas. Value '[0.68988628 0.74825817 0.82119318 ... 0.28398114 0.32153091 0.30178756]' has dtype incompatible with float32, please explicitly cast to a compatible dtype first.\n",
      "  train.loc[:, feature_cols] = (train[feature_cols] - means) / std\n",
      "/tmp/ipykernel_7905/2075072895.py:4: FutureWarning: Setting an item of incompatible dtype is deprecated and will raise in a future error of pandas. Value '[0.49446099 0.57884235 0.79109372 ... 0.60393267 0.67415445 0.65443929]' has dtype incompatible with float32, please explicitly cast to a compatible dtype first.\n",
      "  train.loc[:, feature_cols] = (train[feature_cols] - means) / std\n",
      "/tmp/ipykernel_7905/2075072895.py:4: FutureWarning: Setting an item of incompatible dtype is deprecated and will raise in a future error of pandas. Value '[-0.45522773 -0.33775959  0.02082738 ...  0.39678433  0.46508661\n",
      "  0.52867839]' has dtype incompatible with float32, please explicitly cast to a compatible dtype first.\n",
      "  train.loc[:, feature_cols] = (train[feature_cols] - means) / std\n",
      "/tmp/ipykernel_7905/2075072895.py:5: FutureWarning: Setting an item of incompatible dtype is deprecated and will raise in a future error of pandas. Value '[-1.2136421  -1.26624684 -1.25652772 ... -0.01697536  0.02615324\n",
      " -0.0021537 ]' has dtype incompatible with float32, please explicitly cast to a compatible dtype first.\n",
      "  val.loc[:, feature_cols] = (val[feature_cols] - means) / std\n",
      "/tmp/ipykernel_7905/2075072895.py:5: FutureWarning: Setting an item of incompatible dtype is deprecated and will raise in a future error of pandas. Value '[ 0.41523414  0.41869489  0.42003453 ... -0.87439439 -0.87361293\n",
      " -0.86602163]' has dtype incompatible with float32, please explicitly cast to a compatible dtype first.\n",
      "  val.loc[:, feature_cols] = (val[feature_cols] - means) / std\n",
      "/tmp/ipykernel_7905/2075072895.py:5: FutureWarning: Setting an item of incompatible dtype is deprecated and will raise in a future error of pandas. Value '[ 0.06618327  0.08017099  0.05678786 ... -0.21879089 -0.17325159\n",
      " -0.24609469]' has dtype incompatible with float32, please explicitly cast to a compatible dtype first.\n",
      "  val.loc[:, feature_cols] = (val[feature_cols] - means) / std\n",
      "/tmp/ipykernel_7905/2075072895.py:5: FutureWarning: Setting an item of incompatible dtype is deprecated and will raise in a future error of pandas. Value '[0.38589674 0.34518494 0.4036913  ... 1.00142673 1.00331403 0.98821562]' has dtype incompatible with float32, please explicitly cast to a compatible dtype first.\n",
      "  val.loc[:, feature_cols] = (val[feature_cols] - means) / std\n",
      "/tmp/ipykernel_7905/2075072895.py:5: FutureWarning: Setting an item of incompatible dtype is deprecated and will raise in a future error of pandas. Value '[ 1.35357349  1.36623664  1.3390572  ... -0.20986203 -0.18391802\n",
      " -0.22406947]' has dtype incompatible with float32, please explicitly cast to a compatible dtype first.\n",
      "  val.loc[:, feature_cols] = (val[feature_cols] - means) / std\n",
      "/tmp/ipykernel_7905/2075072895.py:5: FutureWarning: Setting an item of incompatible dtype is deprecated and will raise in a future error of pandas. Value '[1.52440609 1.43507809 1.45275759 ... 1.65294802 1.66371524 1.67302024]' has dtype incompatible with float32, please explicitly cast to a compatible dtype first.\n",
      "  val.loc[:, feature_cols] = (val[feature_cols] - means) / std\n",
      "/tmp/ipykernel_7905/2075072895.py:5: FutureWarning: Setting an item of incompatible dtype is deprecated and will raise in a future error of pandas. Value '[ 0.31333861  0.36087748  0.36929345 ... -0.08034676 -0.10267186\n",
      " -0.10261482]' has dtype incompatible with float32, please explicitly cast to a compatible dtype first.\n",
      "  val.loc[:, feature_cols] = (val[feature_cols] - means) / std\n",
      "/tmp/ipykernel_7905/2075072895.py:5: FutureWarning: Setting an item of incompatible dtype is deprecated and will raise in a future error of pandas. Value '[-1.32194172 -1.24804551 -1.27755083 ...  0.66156005  0.67086353\n",
      "  0.64428216]' has dtype incompatible with float32, please explicitly cast to a compatible dtype first.\n",
      "  val.loc[:, feature_cols] = (val[feature_cols] - means) / std\n",
      "/tmp/ipykernel_7905/2075072895.py:5: FutureWarning: Setting an item of incompatible dtype is deprecated and will raise in a future error of pandas. Value '[-0.88522062 -0.85773159 -0.86033581 ...  1.2638434   1.26297533\n",
      "  1.26876249]' has dtype incompatible with float32, please explicitly cast to a compatible dtype first.\n",
      "  val.loc[:, feature_cols] = (val[feature_cols] - means) / std\n",
      "/tmp/ipykernel_7905/2075072895.py:5: FutureWarning: Setting an item of incompatible dtype is deprecated and will raise in a future error of pandas. Value '[-0.78738805 -0.77954445 -0.77954445 ...  1.30606835  1.35077686\n",
      "  1.38293561]' has dtype incompatible with float32, please explicitly cast to a compatible dtype first.\n",
      "  val.loc[:, feature_cols] = (val[feature_cols] - means) / std\n",
      "/tmp/ipykernel_7905/2075072895.py:5: FutureWarning: Setting an item of incompatible dtype is deprecated and will raise in a future error of pandas. Value '[-1.97327463 -1.75785739 -1.82577556 ...  0.31879225  0.04917767\n",
      "  0.25156011]' has dtype incompatible with float32, please explicitly cast to a compatible dtype first.\n",
      "  val.loc[:, feature_cols] = (val[feature_cols] - means) / std\n",
      "/tmp/ipykernel_7905/2075072895.py:5: FutureWarning: Setting an item of incompatible dtype is deprecated and will raise in a future error of pandas. Value '[0.58908227 0.59064781 0.5988721  ... 0.87944303 0.87247836 0.85700364]' has dtype incompatible with float32, please explicitly cast to a compatible dtype first.\n",
      "  val.loc[:, feature_cols] = (val[feature_cols] - means) / std\n",
      "/tmp/ipykernel_7905/2075072895.py:5: FutureWarning: Setting an item of incompatible dtype is deprecated and will raise in a future error of pandas. Value '[ 0.35144952  0.78916165  0.73939263 ... -0.6318076  -0.46272055\n",
      " -0.5692773 ]' has dtype incompatible with float32, please explicitly cast to a compatible dtype first.\n",
      "  val.loc[:, feature_cols] = (val[feature_cols] - means) / std\n",
      "/tmp/ipykernel_7905/2075072895.py:5: FutureWarning: Setting an item of incompatible dtype is deprecated and will raise in a future error of pandas. Value '[1.30862195 1.43732812 1.47795657 ... 0.83709474 0.85162608 0.83709474]' has dtype incompatible with float32, please explicitly cast to a compatible dtype first.\n",
      "  val.loc[:, feature_cols] = (val[feature_cols] - means) / std\n",
      "/tmp/ipykernel_7905/2075072895.py:5: FutureWarning: Setting an item of incompatible dtype is deprecated and will raise in a future error of pandas. Value '[ 0.13895388  0.16206646  0.1555738  ... -0.43161599 -0.39814576\n",
      " -0.41134049]' has dtype incompatible with float32, please explicitly cast to a compatible dtype first.\n",
      "  val.loc[:, feature_cols] = (val[feature_cols] - means) / std\n",
      "/tmp/ipykernel_7905/2075072895.py:5: FutureWarning: Setting an item of incompatible dtype is deprecated and will raise in a future error of pandas. Value '[ 0.31835597  0.33627468  0.30939196 ... -0.11391112 -0.13602723\n",
      " -0.13427416]' has dtype incompatible with float32, please explicitly cast to a compatible dtype first.\n",
      "  val.loc[:, feature_cols] = (val[feature_cols] - means) / std\n",
      "/tmp/ipykernel_7905/2075072895.py:5: FutureWarning: Setting an item of incompatible dtype is deprecated and will raise in a future error of pandas. Value '[ 0.79364413  1.02593076  1.02210348 ... -0.1028233  -0.1028233\n",
      " -0.1028233 ]' has dtype incompatible with float32, please explicitly cast to a compatible dtype first.\n",
      "  val.loc[:, feature_cols] = (val[feature_cols] - means) / std\n",
      "/tmp/ipykernel_7905/2075072895.py:4: FutureWarning: Setting an item of incompatible dtype is deprecated and will raise in a future error of pandas. Value '[-1.20492698 -1.23434308 -1.31627057 ...  0.07686139  0.05230745\n",
      "  0.0654353 ]' has dtype incompatible with float32, please explicitly cast to a compatible dtype first.\n",
      "  train.loc[:, feature_cols] = (train[feature_cols] - means) / std\n",
      "/tmp/ipykernel_7905/2075072895.py:4: FutureWarning: Setting an item of incompatible dtype is deprecated and will raise in a future error of pandas. Value '[-0.71062808 -0.67590721 -0.54258359 ... -0.73638507 -0.71675529\n",
      " -0.7187977 ]' has dtype incompatible with float32, please explicitly cast to a compatible dtype first.\n",
      "  train.loc[:, feature_cols] = (train[feature_cols] - means) / std\n",
      "/tmp/ipykernel_7905/2075072895.py:4: FutureWarning: Setting an item of incompatible dtype is deprecated and will raise in a future error of pandas. Value '[1.13192021 1.14349285 0.93621655 ... 0.3020126  0.38449714 0.37455159]' has dtype incompatible with float32, please explicitly cast to a compatible dtype first.\n",
      "  train.loc[:, feature_cols] = (train[feature_cols] - means) / std\n",
      "/tmp/ipykernel_7905/2075072895.py:4: FutureWarning: Setting an item of incompatible dtype is deprecated and will raise in a future error of pandas. Value '[ 0.410887    0.44020742  0.49746522 ... -0.9677259  -1.01253635\n",
      " -1.00645098]' has dtype incompatible with float32, please explicitly cast to a compatible dtype first.\n",
      "  train.loc[:, feature_cols] = (train[feature_cols] - means) / std\n",
      "/tmp/ipykernel_7905/2075072895.py:4: FutureWarning: Setting an item of incompatible dtype is deprecated and will raise in a future error of pandas. Value '[ 0.15714255  0.207729    0.37922942 ... -0.91288434 -0.88142203\n",
      " -0.86846697]' has dtype incompatible with float32, please explicitly cast to a compatible dtype first.\n",
      "  train.loc[:, feature_cols] = (train[feature_cols] - means) / std\n",
      "/tmp/ipykernel_7905/2075072895.py:4: FutureWarning: Setting an item of incompatible dtype is deprecated and will raise in a future error of pandas. Value '[-0.51412537 -0.4821981  -0.34061896 ... -1.60554085 -1.61090568\n",
      " -1.61404607]' has dtype incompatible with float32, please explicitly cast to a compatible dtype first.\n",
      "  train.loc[:, feature_cols] = (train[feature_cols] - means) / std\n",
      "/tmp/ipykernel_7905/2075072895.py:4: FutureWarning: Setting an item of incompatible dtype is deprecated and will raise in a future error of pandas. Value '[0.33946715 0.35751494 0.39147688 ... 0.78663576 0.80143306 0.80830356]' has dtype incompatible with float32, please explicitly cast to a compatible dtype first.\n",
      "  train.loc[:, feature_cols] = (train[feature_cols] - means) / std\n",
      "/tmp/ipykernel_7905/2075072895.py:4: FutureWarning: Setting an item of incompatible dtype is deprecated and will raise in a future error of pandas. Value '[-0.9967261  -0.95664684 -0.62363926 ... -1.09033405 -1.07123588\n",
      " -1.09356191]' has dtype incompatible with float32, please explicitly cast to a compatible dtype first.\n",
      "  train.loc[:, feature_cols] = (train[feature_cols] - means) / std\n",
      "/tmp/ipykernel_7905/2075072895.py:4: FutureWarning: Setting an item of incompatible dtype is deprecated and will raise in a future error of pandas. Value '[-0.03532815 -0.01590968  0.0078562  ... -1.02306148 -0.92104208\n",
      " -0.91582517]' has dtype incompatible with float32, please explicitly cast to a compatible dtype first.\n",
      "  train.loc[:, feature_cols] = (train[feature_cols] - means) / std\n",
      "/tmp/ipykernel_7905/2075072895.py:4: FutureWarning: Setting an item of incompatible dtype is deprecated and will raise in a future error of pandas. Value '[ 0.87331416  0.87331416  0.71184147 ... -0.3298925  -0.445902\n",
      " -0.56112766]' has dtype incompatible with float32, please explicitly cast to a compatible dtype first.\n",
      "  train.loc[:, feature_cols] = (train[feature_cols] - means) / std\n",
      "/tmp/ipykernel_7905/2075072895.py:4: FutureWarning: Setting an item of incompatible dtype is deprecated and will raise in a future error of pandas. Value '[0.85637268 0.90234382 0.69006531 ... 0.23305808 0.38584452 0.43857612]' has dtype incompatible with float32, please explicitly cast to a compatible dtype first.\n",
      "  train.loc[:, feature_cols] = (train[feature_cols] - means) / std\n",
      "/tmp/ipykernel_7905/2075072895.py:4: FutureWarning: Setting an item of incompatible dtype is deprecated and will raise in a future error of pandas. Value '[0.47807887 0.49231865 0.51072293 ... 0.61712046 0.56109652 0.55992532]' has dtype incompatible with float32, please explicitly cast to a compatible dtype first.\n",
      "  train.loc[:, feature_cols] = (train[feature_cols] - means) / std\n",
      "/tmp/ipykernel_7905/2075072895.py:4: FutureWarning: Setting an item of incompatible dtype is deprecated and will raise in a future error of pandas. Value '[ 0.62426942  0.58644052  0.96344712 ... -1.14150636 -1.41784963\n",
      " -1.50697194]' has dtype incompatible with float32, please explicitly cast to a compatible dtype first.\n",
      "  train.loc[:, feature_cols] = (train[feature_cols] - means) / std\n",
      "/tmp/ipykernel_7905/2075072895.py:4: FutureWarning: Setting an item of incompatible dtype is deprecated and will raise in a future error of pandas. Value '[ 0.33976371  0.35010487  0.39885604 ... -1.03265558 -1.02231442\n",
      " -0.98981364]' has dtype incompatible with float32, please explicitly cast to a compatible dtype first.\n",
      "  train.loc[:, feature_cols] = (train[feature_cols] - means) / std\n",
      "/tmp/ipykernel_7905/2075072895.py:4: FutureWarning: Setting an item of incompatible dtype is deprecated and will raise in a future error of pandas. Value '[0.60779915 0.65214707 0.70755928 ... 0.29941362 0.32794197 0.31294201]' has dtype incompatible with float32, please explicitly cast to a compatible dtype first.\n",
      "  train.loc[:, feature_cols] = (train[feature_cols] - means) / std\n",
      "/tmp/ipykernel_7905/2075072895.py:4: FutureWarning: Setting an item of incompatible dtype is deprecated and will raise in a future error of pandas. Value '[0.48328748 0.56749373 0.77930465 ... 0.59253199 0.66260805 0.6429338 ]' has dtype incompatible with float32, please explicitly cast to a compatible dtype first.\n",
      "  train.loc[:, feature_cols] = (train[feature_cols] - means) / std\n",
      "/tmp/ipykernel_7905/2075072895.py:4: FutureWarning: Setting an item of incompatible dtype is deprecated and will raise in a future error of pandas. Value '[-0.45855073 -0.34093746  0.01809252 ...  0.39451394  0.4629006\n",
      "  0.52657094]' has dtype incompatible with float32, please explicitly cast to a compatible dtype first.\n",
      "  train.loc[:, feature_cols] = (train[feature_cols] - means) / std\n",
      "/tmp/ipykernel_7905/2075072895.py:5: FutureWarning: Setting an item of incompatible dtype is deprecated and will raise in a future error of pandas. Value '[-1.14913363 -1.20796583 -1.21999969 ... -0.92243517 -0.92109807\n",
      " -0.92644645]' has dtype incompatible with float32, please explicitly cast to a compatible dtype first.\n",
      "  val.loc[:, feature_cols] = (val[feature_cols] - means) / std\n",
      "/tmp/ipykernel_7905/2075072895.py:5: FutureWarning: Setting an item of incompatible dtype is deprecated and will raise in a future error of pandas. Value '[ 0.00920596  0.1410545   0.18655473 ... -1.00598243 -1.00620936\n",
      " -1.00507469]' has dtype incompatible with float32, please explicitly cast to a compatible dtype first.\n",
      "  val.loc[:, feature_cols] = (val[feature_cols] - means) / std\n",
      "/tmp/ipykernel_7905/2075072895.py:5: FutureWarning: Setting an item of incompatible dtype is deprecated and will raise in a future error of pandas. Value '[-0.36421009 -0.36889275 -0.35226802 ...  0.92794058  0.96637931\n",
      "  0.98557406]' has dtype incompatible with float32, please explicitly cast to a compatible dtype first.\n",
      "  val.loc[:, feature_cols] = (val[feature_cols] - means) / std\n",
      "/tmp/ipykernel_7905/2075072895.py:5: FutureWarning: Setting an item of incompatible dtype is deprecated and will raise in a future error of pandas. Value '[-0.01730176 -0.00845031 -0.00845031 ...  1.07612858  1.09051218\n",
      "  1.18262255]' has dtype incompatible with float32, please explicitly cast to a compatible dtype first.\n",
      "  val.loc[:, feature_cols] = (val[feature_cols] - means) / std\n",
      "/tmp/ipykernel_7905/2075072895.py:5: FutureWarning: Setting an item of incompatible dtype is deprecated and will raise in a future error of pandas. Value '[-1.02516159 -1.02300241 -1.02392778 ...  0.35609537  0.41254245\n",
      "  0.45480065]' has dtype incompatible with float32, please explicitly cast to a compatible dtype first.\n",
      "  val.loc[:, feature_cols] = (val[feature_cols] - means) / std\n",
      "/tmp/ipykernel_7905/2075072895.py:5: FutureWarning: Setting an item of incompatible dtype is deprecated and will raise in a future error of pandas. Value '[-0.6694437  -0.58007351 -0.57771822 ... -0.4689823  -0.47644072\n",
      " -0.47761837]' has dtype incompatible with float32, please explicitly cast to a compatible dtype first.\n",
      "  val.loc[:, feature_cols] = (val[feature_cols] - means) / std\n",
      "/tmp/ipykernel_7905/2075072895.py:5: FutureWarning: Setting an item of incompatible dtype is deprecated and will raise in a future error of pandas. Value '[ 0.27166871  0.09631378 -0.00993793 ...  0.38490513  0.37292094\n",
      "  0.38490513]' has dtype incompatible with float32, please explicitly cast to a compatible dtype first.\n",
      "  val.loc[:, feature_cols] = (val[feature_cols] - means) / std\n",
      "/tmp/ipykernel_7905/2075072895.py:5: FutureWarning: Setting an item of incompatible dtype is deprecated and will raise in a future error of pandas. Value '[ 0.39340571  0.34606376  0.294418   ... -0.38370164 -0.39661308\n",
      " -0.42324293]' has dtype incompatible with float32, please explicitly cast to a compatible dtype first.\n",
      "  val.loc[:, feature_cols] = (val[feature_cols] - means) / std\n",
      "/tmp/ipykernel_7905/2075072895.py:5: FutureWarning: Setting an item of incompatible dtype is deprecated and will raise in a future error of pandas. Value '[-0.71961172 -0.87177134 -1.22478167 ... -0.33906774 -0.29472408\n",
      " -0.281392  ]' has dtype incompatible with float32, please explicitly cast to a compatible dtype first.\n",
      "  val.loc[:, feature_cols] = (val[feature_cols] - means) / std\n",
      "/tmp/ipykernel_7905/2075072895.py:5: FutureWarning: Setting an item of incompatible dtype is deprecated and will raise in a future error of pandas. Value '[-0.99067635 -1.26032006 -1.21407303 ...  0.8576372   0.84979872\n",
      "  0.86469183]' has dtype incompatible with float32, please explicitly cast to a compatible dtype first.\n",
      "  val.loc[:, feature_cols] = (val[feature_cols] - means) / std\n",
      "/tmp/ipykernel_7905/2075072895.py:5: FutureWarning: Setting an item of incompatible dtype is deprecated and will raise in a future error of pandas. Value '[0.84555594 0.73198017 0.72589576 ... 1.09298885 1.07203141 1.02673632]' has dtype incompatible with float32, please explicitly cast to a compatible dtype first.\n",
      "  val.loc[:, feature_cols] = (val[feature_cols] - means) / std\n",
      "/tmp/ipykernel_7905/2075072895.py:5: FutureWarning: Setting an item of incompatible dtype is deprecated and will raise in a future error of pandas. Value '[0.3363291  0.27155869 0.21014452 ... 0.63258682 0.65610102 0.64611974]' has dtype incompatible with float32, please explicitly cast to a compatible dtype first.\n",
      "  val.loc[:, feature_cols] = (val[feature_cols] - means) / std\n",
      "/tmp/ipykernel_7905/2075072895.py:5: FutureWarning: Setting an item of incompatible dtype is deprecated and will raise in a future error of pandas. Value '[1.04808125 1.44496404 1.20003799 ... 0.04721851 0.12287629 0.16070519]' has dtype incompatible with float32, please explicitly cast to a compatible dtype first.\n",
      "  val.loc[:, feature_cols] = (val[feature_cols] - means) / std\n",
      "/tmp/ipykernel_7905/2075072895.py:5: FutureWarning: Setting an item of incompatible dtype is deprecated and will raise in a future error of pandas. Value '[-1.42532409 -1.41852847 -1.41852847 ...  0.18257812  0.28894431\n",
      "  0.32203601]' has dtype incompatible with float32, please explicitly cast to a compatible dtype first.\n",
      "  val.loc[:, feature_cols] = (val[feature_cols] - means) / std\n",
      "/tmp/ipykernel_7905/2075072895.py:5: FutureWarning: Setting an item of incompatible dtype is deprecated and will raise in a future error of pandas. Value '[-0.22210844 -0.3704296  -0.39989235 ...  0.66549155  0.66839113\n",
      "  0.67430969]' has dtype incompatible with float32, please explicitly cast to a compatible dtype first.\n",
      "  val.loc[:, feature_cols] = (val[feature_cols] - means) / std\n",
      "/tmp/ipykernel_7905/2075072895.py:5: FutureWarning: Setting an item of incompatible dtype is deprecated and will raise in a future error of pandas. Value '[ 0.04308607 -0.16641223 -0.26556595 ...  0.53091908  0.54291225\n",
      "  0.53262401]' has dtype incompatible with float32, please explicitly cast to a compatible dtype first.\n",
      "  val.loc[:, feature_cols] = (val[feature_cols] - means) / std\n",
      "/tmp/ipykernel_7905/2075072895.py:5: FutureWarning: Setting an item of incompatible dtype is deprecated and will raise in a future error of pandas. Value '[-0.32266171 -0.32266171 -0.32266171 ... -0.17085511 -0.1413781\n",
      " -0.11956511]' has dtype incompatible with float32, please explicitly cast to a compatible dtype first.\n",
      "  val.loc[:, feature_cols] = (val[feature_cols] - means) / std\n",
      "/tmp/ipykernel_7905/2075072895.py:4: FutureWarning: Setting an item of incompatible dtype is deprecated and will raise in a future error of pandas. Value '[-1.22697858 -1.25654249 -1.33888163 ...  0.06125021  0.03657291\n",
      "  0.04976671]' has dtype incompatible with float32, please explicitly cast to a compatible dtype first.\n",
      "  train.loc[:, feature_cols] = (train[feature_cols] - means) / std\n",
      "/tmp/ipykernel_7905/2075072895.py:4: FutureWarning: Setting an item of incompatible dtype is deprecated and will raise in a future error of pandas. Value '[-0.70399828 -0.66965137 -0.5377637  ... -0.72947786 -0.7100595\n",
      " -0.71207991]' has dtype incompatible with float32, please explicitly cast to a compatible dtype first.\n",
      "  train.loc[:, feature_cols] = (train[feature_cols] - means) / std\n",
      "/tmp/ipykernel_7905/2075072895.py:4: FutureWarning: Setting an item of incompatible dtype is deprecated and will raise in a future error of pandas. Value '[1.12988838 1.14144798 0.93440536 ... 0.30091643 0.38330797 0.37337363]' has dtype incompatible with float32, please explicitly cast to a compatible dtype first.\n",
      "  train.loc[:, feature_cols] = (train[feature_cols] - means) / std\n",
      "/tmp/ipykernel_7905/2075072895.py:4: FutureWarning: Setting an item of incompatible dtype is deprecated and will raise in a future error of pandas. Value '[ 0.3965724   0.42583069  0.48296716 ... -0.9791192  -1.02383469\n",
      " -1.01776222]' has dtype incompatible with float32, please explicitly cast to a compatible dtype first.\n",
      "  train.loc[:, feature_cols] = (train[feature_cols] - means) / std\n",
      "/tmp/ipykernel_7905/2075072895.py:4: FutureWarning: Setting an item of incompatible dtype is deprecated and will raise in a future error of pandas. Value '[ 0.15921839  0.2097585   0.38110181 ... -0.90982826 -0.87839478\n",
      " -0.86545158]' has dtype incompatible with float32, please explicitly cast to a compatible dtype first.\n",
      "  train.loc[:, feature_cols] = (train[feature_cols] - means) / std\n",
      "/tmp/ipykernel_7905/2075072895.py:4: FutureWarning: Setting an item of incompatible dtype is deprecated and will raise in a future error of pandas. Value '[-0.52169992 -0.48955186 -0.34699366 ... -1.62066287 -1.62606479\n",
      " -1.6292269 ]' has dtype incompatible with float32, please explicitly cast to a compatible dtype first.\n",
      "  train.loc[:, feature_cols] = (train[feature_cols] - means) / std\n",
      "/tmp/ipykernel_7905/2075072895.py:4: FutureWarning: Setting an item of incompatible dtype is deprecated and will raise in a future error of pandas. Value '[0.35314847 0.37123566 0.40527174 ... 0.8012932  0.8161228  0.82300829]' has dtype incompatible with float32, please explicitly cast to a compatible dtype first.\n",
      "  train.loc[:, feature_cols] = (train[feature_cols] - means) / std\n",
      "/tmp/ipykernel_7905/2075072895.py:4: FutureWarning: Setting an item of incompatible dtype is deprecated and will raise in a future error of pandas. Value '[-1.00124693 -0.96148275 -0.63109311 ... -1.09411898 -1.07517095\n",
      " -1.09732146]' has dtype incompatible with float32, please explicitly cast to a compatible dtype first.\n",
      "  train.loc[:, feature_cols] = (train[feature_cols] - means) / std\n",
      "/tmp/ipykernel_7905/2075072895.py:4: FutureWarning: Setting an item of incompatible dtype is deprecated and will raise in a future error of pandas. Value '[-0.01719447  0.00213834  0.02579939 ... -1.00057083 -0.89900144\n",
      " -0.89380755]' has dtype incompatible with float32, please explicitly cast to a compatible dtype first.\n",
      "  train.loc[:, feature_cols] = (train[feature_cols] - means) / std\n",
      "/tmp/ipykernel_7905/2075072895.py:4: FutureWarning: Setting an item of incompatible dtype is deprecated and will raise in a future error of pandas. Value '[ 0.87530627  0.87530627  0.71471387 ... -0.32134099 -0.43671805\n",
      " -0.55131554]' has dtype incompatible with float32, please explicitly cast to a compatible dtype first.\n",
      "  train.loc[:, feature_cols] = (train[feature_cols] - means) / std\n",
      "/tmp/ipykernel_7905/2075072895.py:4: FutureWarning: Setting an item of incompatible dtype is deprecated and will raise in a future error of pandas. Value '[0.87052965 0.9170317  0.70230165 ... 0.24001657 0.3945675  0.44790808]' has dtype incompatible with float32, please explicitly cast to a compatible dtype first.\n",
      "  train.loc[:, feature_cols] = (train[feature_cols] - means) / std\n",
      "/tmp/ipykernel_7905/2075072895.py:4: FutureWarning: Setting an item of incompatible dtype is deprecated and will raise in a future error of pandas. Value '[0.47776765 0.49234686 0.51118985 ... 0.62012354 0.56276417 0.56156506]' has dtype incompatible with float32, please explicitly cast to a compatible dtype first.\n",
      "  train.loc[:, feature_cols] = (train[feature_cols] - means) / std\n",
      "/tmp/ipykernel_7905/2075072895.py:4: FutureWarning: Setting an item of incompatible dtype is deprecated and will raise in a future error of pandas. Value '[ 0.62003728  0.58248387  0.95674497 ... -1.13287949 -1.40721032\n",
      " -1.49568361]' has dtype incompatible with float32, please explicitly cast to a compatible dtype first.\n",
      "  train.loc[:, feature_cols] = (train[feature_cols] - means) / std\n",
      "/tmp/ipykernel_7905/2075072895.py:4: FutureWarning: Setting an item of incompatible dtype is deprecated and will raise in a future error of pandas. Value '[ 0.34517084  0.35548669  0.40411854 ... -1.02388936 -1.01357351\n",
      " -0.98115228]' has dtype incompatible with float32, please explicitly cast to a compatible dtype first.\n",
      "  train.loc[:, feature_cols] = (train[feature_cols] - means) / std\n",
      "/tmp/ipykernel_7905/2075072895.py:4: FutureWarning: Setting an item of incompatible dtype is deprecated and will raise in a future error of pandas. Value '[0.61484574 0.65922786 0.71468282 ... 0.30622232 0.33477268 0.31976115]' has dtype incompatible with float32, please explicitly cast to a compatible dtype first.\n",
      "  train.loc[:, feature_cols] = (train[feature_cols] - means) / std\n",
      "/tmp/ipykernel_7905/2075072895.py:4: FutureWarning: Setting an item of incompatible dtype is deprecated and will raise in a future error of pandas. Value '[0.48995597 0.57425441 0.7862972  ... 0.59932008 0.66947285 0.64977706]' has dtype incompatible with float32, please explicitly cast to a compatible dtype first.\n",
      "  train.loc[:, feature_cols] = (train[feature_cols] - means) / std\n",
      "/tmp/ipykernel_7905/2075072895.py:4: FutureWarning: Setting an item of incompatible dtype is deprecated and will raise in a future error of pandas. Value '[-0.44029226 -0.32352122  0.03293774 ...  0.4066636   0.47456054\n",
      "  0.53777494]' has dtype incompatible with float32, please explicitly cast to a compatible dtype first.\n",
      "  train.loc[:, feature_cols] = (train[feature_cols] - means) / std\n",
      "/tmp/ipykernel_7905/2075072895.py:5: FutureWarning: Setting an item of incompatible dtype is deprecated and will raise in a future error of pandas. Value '[-1.48328053 -1.48291403 -1.47973775 ... -1.07793741 -1.06633175\n",
      " -1.07341731]' has dtype incompatible with float32, please explicitly cast to a compatible dtype first.\n",
      "  val.loc[:, feature_cols] = (val[feature_cols] - means) / std\n",
      "/tmp/ipykernel_7905/2075072895.py:5: FutureWarning: Setting an item of incompatible dtype is deprecated and will raise in a future error of pandas. Value '[ 0.06061347  0.06050122  0.05690939 ... -0.8933553  -0.8998655\n",
      " -0.9011002 ]' has dtype incompatible with float32, please explicitly cast to a compatible dtype first.\n",
      "  val.loc[:, feature_cols] = (val[feature_cols] - means) / std\n",
      "/tmp/ipykernel_7905/2075072895.py:5: FutureWarning: Setting an item of incompatible dtype is deprecated and will raise in a future error of pandas. Value '[-0.59729501 -0.59375408 -0.61175039 ...  1.15379477  1.13209405\n",
      "  1.11398217]' has dtype incompatible with float32, please explicitly cast to a compatible dtype first.\n",
      "  val.loc[:, feature_cols] = (val[feature_cols] - means) / std\n",
      "/tmp/ipykernel_7905/2075072895.py:5: FutureWarning: Setting an item of incompatible dtype is deprecated and will raise in a future error of pandas. Value '[ 0.38967186  0.39160401  0.38939584 ... -0.37269977 -0.36359105\n",
      " -0.36469514]' has dtype incompatible with float32, please explicitly cast to a compatible dtype first.\n",
      "  val.loc[:, feature_cols] = (val[feature_cols] - means) / std\n",
      "/tmp/ipykernel_7905/2075072895.py:5: FutureWarning: Setting an item of incompatible dtype is deprecated and will raise in a future error of pandas. Value '[ 1.1392035   1.13981984  1.13735447 ... -0.75728341 -0.78440249\n",
      " -0.78193712]' has dtype incompatible with float32, please explicitly cast to a compatible dtype first.\n",
      "  val.loc[:, feature_cols] = (val[feature_cols] - means) / std\n",
      "/tmp/ipykernel_7905/2075072895.py:5: FutureWarning: Setting an item of incompatible dtype is deprecated and will raise in a future error of pandas. Value '[-0.04185061 -0.03526289 -0.03065149 ... -0.50167326 -0.51629799\n",
      " -0.49152817]' has dtype incompatible with float32, please explicitly cast to a compatible dtype first.\n",
      "  val.loc[:, feature_cols] = (val[feature_cols] - means) / std\n",
      "/tmp/ipykernel_7905/2075072895.py:5: FutureWarning: Setting an item of incompatible dtype is deprecated and will raise in a future error of pandas. Value '[0.39486059 0.42384079 0.43385569 ... 0.84023008 0.83724205 0.83724205]' has dtype incompatible with float32, please explicitly cast to a compatible dtype first.\n",
      "  val.loc[:, feature_cols] = (val[feature_cols] - means) / std\n",
      "/tmp/ipykernel_7905/2075072895.py:5: FutureWarning: Setting an item of incompatible dtype is deprecated and will raise in a future error of pandas. Value '[-0.19368711 -0.18594777 -0.16272976 ... -0.74958503 -0.75038565\n",
      " -0.72770139]' has dtype incompatible with float32, please explicitly cast to a compatible dtype first.\n",
      "  val.loc[:, feature_cols] = (val[feature_cols] - means) / std\n",
      "/tmp/ipykernel_7905/2075072895.py:5: FutureWarning: Setting an item of incompatible dtype is deprecated and will raise in a future error of pandas. Value '[ 1.56780738  1.56463334  1.56723028 ... -1.88612894 -1.89334267\n",
      " -1.91123274]' has dtype incompatible with float32, please explicitly cast to a compatible dtype first.\n",
      "  val.loc[:, feature_cols] = (val[feature_cols] - means) / std\n",
      "/tmp/ipykernel_7905/2075072895.py:5: FutureWarning: Setting an item of incompatible dtype is deprecated and will raise in a future error of pandas. Value '[-0.40943294 -0.40943294 -0.40163719 ...  0.99847908  0.94468842\n",
      "  0.96027992]' has dtype incompatible with float32, please explicitly cast to a compatible dtype first.\n",
      "  val.loc[:, feature_cols] = (val[feature_cols] - means) / std\n",
      "/tmp/ipykernel_7905/2075072895.py:5: FutureWarning: Setting an item of incompatible dtype is deprecated and will raise in a future error of pandas. Value '[0.18462442 0.15795413 0.1716312  ... 0.98952018 0.90130306 1.01482277]' has dtype incompatible with float32, please explicitly cast to a compatible dtype first.\n",
      "  val.loc[:, feature_cols] = (val[feature_cols] - means) / std\n",
      "/tmp/ipykernel_7905/2075072895.py:5: FutureWarning: Setting an item of incompatible dtype is deprecated and will raise in a future error of pandas. Value '[-0.10169686 -0.11427329 -0.10169686 ...  0.69360521  0.69780064\n",
      "  0.69781635]' has dtype incompatible with float32, please explicitly cast to a compatible dtype first.\n",
      "  val.loc[:, feature_cols] = (val[feature_cols] - means) / std\n",
      "/tmp/ipykernel_7905/2075072895.py:5: FutureWarning: Setting an item of incompatible dtype is deprecated and will raise in a future error of pandas. Value '[1.6460728  1.65243779 1.65243779 ... 0.33806846 0.43736222 0.34379695]' has dtype incompatible with float32, please explicitly cast to a compatible dtype first.\n",
      "  val.loc[:, feature_cols] = (val[feature_cols] - means) / std\n",
      "/tmp/ipykernel_7905/2075072895.py:5: FutureWarning: Setting an item of incompatible dtype is deprecated and will raise in a future error of pandas. Value '[ 1.07052222  1.06993275  1.06786958 ... -1.51286048 -1.53938695\n",
      " -1.5558923 ]' has dtype incompatible with float32, please explicitly cast to a compatible dtype first.\n",
      "  val.loc[:, feature_cols] = (val[feature_cols] - means) / std\n",
      "/tmp/ipykernel_7905/2075072895.py:5: FutureWarning: Setting an item of incompatible dtype is deprecated and will raise in a future error of pandas. Value '[-0.29788321 -0.2940172  -0.29876726 ...  0.92726353  0.96735765\n",
      "  0.97242545]' has dtype incompatible with float32, please explicitly cast to a compatible dtype first.\n",
      "  val.loc[:, feature_cols] = (val[feature_cols] - means) / std\n",
      "/tmp/ipykernel_7905/2075072895.py:5: FutureWarning: Setting an item of incompatible dtype is deprecated and will raise in a future error of pandas. Value '[-0.13829416 -0.12256281 -0.13145969 ...  1.05351273  1.05937675\n",
      "  1.09555077]' has dtype incompatible with float32, please explicitly cast to a compatible dtype first.\n",
      "  val.loc[:, feature_cols] = (val[feature_cols] - means) / std\n",
      "/tmp/ipykernel_7905/2075072895.py:5: FutureWarning: Setting an item of incompatible dtype is deprecated and will raise in a future error of pandas. Value '[ 1.24103511  1.2389865   1.23957182 ... -2.14005717 -2.14034983\n",
      " -2.13244803]' has dtype incompatible with float32, please explicitly cast to a compatible dtype first.\n",
      "  val.loc[:, feature_cols] = (val[feature_cols] - means) / std\n"
     ]
    }
   ],
   "source": [
    "def std_norm_dataset(train:DF, val:DF) -> tuple[DF, DF]:\n",
    "    means = train[feature_cols].mean()\n",
    "    std = train[feature_cols].std()\n",
    "    train.loc[:, feature_cols] = (train[feature_cols] - means) / std\n",
    "    val.loc[:, feature_cols] = (val[feature_cols] - means) / std\n",
    "    return train, val\n",
    "\n",
    "normed_folds = list(starmap(std_norm_dataset, folds))"
   ]
  },
  {
   "cell_type": "markdown",
   "id": "b36ccf25",
   "metadata": {},
   "source": [
    "Normalize full dataset."
   ]
  },
  {
   "cell_type": "code",
   "execution_count": 11,
   "id": "9b2c7cac",
   "metadata": {},
   "outputs": [
    {
     "name": "stderr",
     "output_type": "stream",
     "text": [
      "/tmp/ipykernel_7905/4279755229.py:6: FutureWarning: Setting an item of incompatible dtype is deprecated and will raise in a future error of pandas. Value '[-1.23853993 -1.2679199  -1.34974677 ...  0.0416742   0.01715042\n",
      "  0.03026214]' has dtype incompatible with float32, please explicitly cast to a compatible dtype first.\n",
      "  df.loc[:, feature_cols] = (df[feature_cols] - full_dataset_meta_data[\"mean\"]) / full_dataset_meta_data['std']\n",
      "/tmp/ipykernel_7905/4279755229.py:6: FutureWarning: Setting an item of incompatible dtype is deprecated and will raise in a future error of pandas. Value '[-0.7163434  -0.68184003 -0.54935162 ... -0.74193903 -0.72243223\n",
      " -0.72446184]' has dtype incompatible with float32, please explicitly cast to a compatible dtype first.\n",
      "  df.loc[:, feature_cols] = (df[feature_cols] - full_dataset_meta_data[\"mean\"]) / full_dataset_meta_data['std']\n",
      "/tmp/ipykernel_7905/4279755229.py:6: FutureWarning: Setting an item of incompatible dtype is deprecated and will raise in a future error of pandas. Value '[1.18477426 1.19708885 0.97652363 ... 0.30165955 0.38943235 0.37884916]' has dtype incompatible with float32, please explicitly cast to a compatible dtype first.\n",
      "  df.loc[:, feature_cols] = (df[feature_cols] - full_dataset_meta_data[\"mean\"]) / full_dataset_meta_data['std']\n",
      "/tmp/ipykernel_7905/4279755229.py:6: FutureWarning: Setting an item of incompatible dtype is deprecated and will raise in a future error of pandas. Value '[ 0.40467845  0.43377058  0.49058256 ... -0.96320044 -1.007662\n",
      " -1.00162401]' has dtype incompatible with float32, please explicitly cast to a compatible dtype first.\n",
      "  df.loc[:, feature_cols] = (df[feature_cols] - full_dataset_meta_data[\"mean\"]) / full_dataset_meta_data['std']\n",
      "/tmp/ipykernel_7905/4279755229.py:6: FutureWarning: Setting an item of incompatible dtype is deprecated and will raise in a future error of pandas. Value '[ 0.14872681  0.19953096  0.37176939 ... -0.9259047  -0.894307\n",
      " -0.88129619]' has dtype incompatible with float32, please explicitly cast to a compatible dtype first.\n",
      "  df.loc[:, feature_cols] = (df[feature_cols] - full_dataset_meta_data[\"mean\"]) / full_dataset_meta_data['std']\n",
      "/tmp/ipykernel_7905/4279755229.py:6: FutureWarning: Setting an item of incompatible dtype is deprecated and will raise in a future error of pandas. Value '[-0.50852472 -0.4764371  -0.3341469  ... -1.60542168 -1.61081346\n",
      " -1.61396961]' has dtype incompatible with float32, please explicitly cast to a compatible dtype first.\n",
      "  df.loc[:, feature_cols] = (df[feature_cols] - full_dataset_meta_data[\"mean\"]) / full_dataset_meta_data['std']\n",
      "/tmp/ipykernel_7905/4279755229.py:6: FutureWarning: Setting an item of incompatible dtype is deprecated and will raise in a future error of pandas. Value '[0.36724552 0.38668742 0.42327279 ... 0.84895603 0.86489636 0.87229757]' has dtype incompatible with float32, please explicitly cast to a compatible dtype first.\n",
      "  df.loc[:, feature_cols] = (df[feature_cols] - full_dataset_meta_data[\"mean\"]) / full_dataset_meta_data['std']\n",
      "/tmp/ipykernel_7905/4279755229.py:6: FutureWarning: Setting an item of incompatible dtype is deprecated and will raise in a future error of pandas. Value '[-0.99715055 -0.95773732 -0.63026367 ... -1.08920292 -1.07042212\n",
      " -1.09237714]' has dtype incompatible with float32, please explicitly cast to a compatible dtype first.\n",
      "  df.loc[:, feature_cols] = (df[feature_cols] - full_dataset_meta_data[\"mean\"]) / full_dataset_meta_data['std']\n",
      "/tmp/ipykernel_7905/4279755229.py:6: FutureWarning: Setting an item of incompatible dtype is deprecated and will raise in a future error of pandas. Value '[-0.01677826  0.00259618  0.02630819 ... -1.00227249 -0.90048435\n",
      " -0.89527928]' has dtype incompatible with float32, please explicitly cast to a compatible dtype first.\n",
      "  df.loc[:, feature_cols] = (df[feature_cols] - full_dataset_meta_data[\"mean\"]) / full_dataset_meta_data['std']\n",
      "/tmp/ipykernel_7905/4279755229.py:6: FutureWarning: Setting an item of incompatible dtype is deprecated and will raise in a future error of pandas. Value '[ 0.8841304   0.8841304   0.72331979 ... -0.31414283 -0.42967666\n",
      " -0.54442986]' has dtype incompatible with float32, please explicitly cast to a compatible dtype first.\n",
      "  df.loc[:, feature_cols] = (df[feature_cols] - full_dataset_meta_data[\"mean\"]) / full_dataset_meta_data['std']\n",
      "/tmp/ipykernel_7905/4279755229.py:6: FutureWarning: Setting an item of incompatible dtype is deprecated and will raise in a future error of pandas. Value '[0.87240755 0.91835342 0.70619159 ... 0.24943555 0.40213801 0.45484063]' has dtype incompatible with float32, please explicitly cast to a compatible dtype first.\n",
      "  df.loc[:, feature_cols] = (df[feature_cols] - full_dataset_meta_data[\"mean\"]) / full_dataset_meta_data['std']\n",
      "/tmp/ipykernel_7905/4279755229.py:6: FutureWarning: Setting an item of incompatible dtype is deprecated and will raise in a future error of pandas. Value '[0.47793803 0.49229795 0.5108575  ... 0.61815265 0.56165606 0.56047498]' has dtype incompatible with float32, please explicitly cast to a compatible dtype first.\n",
      "  df.loc[:, feature_cols] = (df[feature_cols] - full_dataset_meta_data[\"mean\"]) / full_dataset_meta_data['std']\n",
      "/tmp/ipykernel_7905/4279755229.py:6: FutureWarning: Setting an item of incompatible dtype is deprecated and will raise in a future error of pandas. Value '[ 0.62581574  0.58801223  0.96476591 ... -1.13877547 -1.41493335\n",
      " -1.50399587]' has dtype incompatible with float32, please explicitly cast to a compatible dtype first.\n",
      "  df.loc[:, feature_cols] = (df[feature_cols] - full_dataset_meta_data[\"mean\"]) / full_dataset_meta_data['std']\n",
      "/tmp/ipykernel_7905/4279755229.py:6: FutureWarning: Setting an item of incompatible dtype is deprecated and will raise in a future error of pandas. Value '[ 0.33957131  0.34994752  0.39886392 ... -1.03749939 -1.02712318\n",
      " -0.99451225]' has dtype incompatible with float32, please explicitly cast to a compatible dtype first.\n",
      "  df.loc[:, feature_cols] = (df[feature_cols] - full_dataset_meta_data[\"mean\"]) / full_dataset_meta_data['std']\n",
      "/tmp/ipykernel_7905/4279755229.py:6: FutureWarning: Setting an item of incompatible dtype is deprecated and will raise in a future error of pandas. Value '[0.63344209 0.68143673 0.74140548 ... 0.29969805 0.33057229 0.31433888]' has dtype incompatible with float32, please explicitly cast to a compatible dtype first.\n",
      "  df.loc[:, feature_cols] = (df[feature_cols] - full_dataset_meta_data[\"mean\"]) / full_dataset_meta_data['std']\n",
      "/tmp/ipykernel_7905/4279755229.py:6: FutureWarning: Setting an item of incompatible dtype is deprecated and will raise in a future error of pandas. Value '[0.50231783 0.59310455 0.82146787 ... 0.62009948 0.69565178 0.67444004]' has dtype incompatible with float32, please explicitly cast to a compatible dtype first.\n",
      "  df.loc[:, feature_cols] = (df[feature_cols] - full_dataset_meta_data[\"mean\"]) / full_dataset_meta_data['std']\n",
      "/tmp/ipykernel_7905/4279755229.py:6: FutureWarning: Setting an item of incompatible dtype is deprecated and will raise in a future error of pandas. Value '[-0.45493793 -0.33714769  0.02242254 ...  0.39941038  0.46789995\n",
      "  0.5316661 ]' has dtype incompatible with float32, please explicitly cast to a compatible dtype first.\n",
      "  df.loc[:, feature_cols] = (df[feature_cols] - full_dataset_meta_data[\"mean\"]) / full_dataset_meta_data['std']\n"
     ]
    }
   ],
   "source": [
    "# Retain full dataset meta data for inference\n",
    "full_dataset_meta_data = {\n",
    "    \"mean\": df[feature_cols].mean().to_dict(),\n",
    "    \"std\": df[feature_cols].std().to_dict(),\n",
    "}\n",
    "df.loc[:, feature_cols] = (df[feature_cols] - full_dataset_meta_data[\"mean\"]) / full_dataset_meta_data['std']"
   ]
  },
  {
   "cell_type": "code",
   "execution_count": 12,
   "id": "b02ca859",
   "metadata": {},
   "outputs": [
    {
     "data": {
      "text/html": [
       "<div>\n",
       "<style scoped>\n",
       "    .dataframe tbody tr th:only-of-type {\n",
       "        vertical-align: middle;\n",
       "    }\n",
       "\n",
       "    .dataframe tbody tr th {\n",
       "        vertical-align: top;\n",
       "    }\n",
       "\n",
       "    .dataframe thead th {\n",
       "        text-align: right;\n",
       "    }\n",
       "</style>\n",
       "<table border=\"1\" class=\"dataframe\">\n",
       "  <thead>\n",
       "    <tr style=\"text-align: right;\">\n",
       "      <th></th>\n",
       "      <th>rot_z</th>\n",
       "      <th>rot_y</th>\n",
       "      <th>thm_2</th>\n",
       "      <th>tof_5</th>\n",
       "      <th>tof_2</th>\n",
       "      <th>rot_x</th>\n",
       "      <th>thm_4</th>\n",
       "      <th>rot_w</th>\n",
       "      <th>tof_4</th>\n",
       "      <th>acc_y</th>\n",
       "      <th>acc_x</th>\n",
       "      <th>thm_5</th>\n",
       "      <th>acc_z</th>\n",
       "      <th>tof_1</th>\n",
       "      <th>thm_3</th>\n",
       "      <th>euler_y</th>\n",
       "      <th>euler_z</th>\n",
       "      <th>thm_1</th>\n",
       "      <th>euler_x</th>\n",
       "      <th>tof_3</th>\n",
       "    </tr>\n",
       "  </thead>\n",
       "  <tbody>\n",
       "    <tr>\n",
       "      <th>mean</th>\n",
       "      <td>1.855411e-08</td>\n",
       "      <td>-8.728876e-10</td>\n",
       "      <td>2.822679e-07</td>\n",
       "      <td>-5.993022e-08</td>\n",
       "      <td>1.687596e-08</td>\n",
       "      <td>-2.663767e-08</td>\n",
       "      <td>-1.427808e-07</td>\n",
       "      <td>-6.315844e-08</td>\n",
       "      <td>1.404808e-08</td>\n",
       "      <td>1.186949e-08</td>\n",
       "      <td>-1.749467e-08</td>\n",
       "      <td>-3.565034e-09</td>\n",
       "      <td>-2.971537e-09</td>\n",
       "      <td>1.908273e-07</td>\n",
       "      <td>1.823665e-07</td>\n",
       "      <td>1.186411e-18</td>\n",
       "      <td>-1.305052e-17</td>\n",
       "      <td>3.772558e-08</td>\n",
       "      <td>-8.700347e-18</td>\n",
       "      <td>2.663846e-09</td>\n",
       "    </tr>\n",
       "    <tr>\n",
       "      <th>std</th>\n",
       "      <td>1.000000e+00</td>\n",
       "      <td>1.000000e+00</td>\n",
       "      <td>1.000000e+00</td>\n",
       "      <td>1.000000e+00</td>\n",
       "      <td>1.000000e+00</td>\n",
       "      <td>1.000000e+00</td>\n",
       "      <td>1.000000e+00</td>\n",
       "      <td>1.000000e+00</td>\n",
       "      <td>1.000000e+00</td>\n",
       "      <td>1.000000e+00</td>\n",
       "      <td>1.000000e+00</td>\n",
       "      <td>1.000000e+00</td>\n",
       "      <td>1.000000e+00</td>\n",
       "      <td>1.000000e+00</td>\n",
       "      <td>1.000000e+00</td>\n",
       "      <td>1.000000e+00</td>\n",
       "      <td>1.000000e+00</td>\n",
       "      <td>1.000000e+00</td>\n",
       "      <td>1.000000e+00</td>\n",
       "      <td>1.000000e+00</td>\n",
       "    </tr>\n",
       "  </tbody>\n",
       "</table>\n",
       "</div>"
      ],
      "text/plain": [
       "             rot_z         rot_y         thm_2         tof_5         tof_2  \\\n",
       "mean  1.855411e-08 -8.728876e-10  2.822679e-07 -5.993022e-08  1.687596e-08   \n",
       "std   1.000000e+00  1.000000e+00  1.000000e+00  1.000000e+00  1.000000e+00   \n",
       "\n",
       "             rot_x         thm_4         rot_w         tof_4         acc_y  \\\n",
       "mean -2.663767e-08 -1.427808e-07 -6.315844e-08  1.404808e-08  1.186949e-08   \n",
       "std   1.000000e+00  1.000000e+00  1.000000e+00  1.000000e+00  1.000000e+00   \n",
       "\n",
       "             acc_x         thm_5         acc_z         tof_1         thm_3  \\\n",
       "mean -1.749467e-08 -3.565034e-09 -2.971537e-09  1.908273e-07  1.823665e-07   \n",
       "std   1.000000e+00  1.000000e+00  1.000000e+00  1.000000e+00  1.000000e+00   \n",
       "\n",
       "           euler_y       euler_z         thm_1       euler_x         tof_3  \n",
       "mean  1.186411e-18 -1.305052e-17  3.772558e-08 -8.700347e-18  2.663846e-09  \n",
       "std   1.000000e+00  1.000000e+00  1.000000e+00  1.000000e+00  1.000000e+00  "
      ]
     },
     "execution_count": 12,
     "metadata": {},
     "output_type": "execute_result"
    }
   ],
   "source": [
    "df[feature_cols].agg([\"mean\", \"std\"])"
   ]
  },
  {
   "cell_type": "markdown",
   "id": "f840652f",
   "metadata": {},
   "source": [
    "Let's compare the train to validation mean/std skews."
   ]
  },
  {
   "cell_type": "code",
   "execution_count": 13,
   "id": "9ce0ae47",
   "metadata": {},
   "outputs": [
    {
     "data": {
      "text/html": [
       "<div>\n",
       "<style scoped>\n",
       "    .dataframe tbody tr th:only-of-type {\n",
       "        vertical-align: middle;\n",
       "    }\n",
       "\n",
       "    .dataframe tbody tr th {\n",
       "        vertical-align: top;\n",
       "    }\n",
       "\n",
       "    .dataframe thead th {\n",
       "        text-align: right;\n",
       "    }\n",
       "</style>\n",
       "<table border=\"1\" class=\"dataframe\">\n",
       "  <thead>\n",
       "    <tr style=\"text-align: right;\">\n",
       "      <th></th>\n",
       "      <th></th>\n",
       "      <th>rot_z</th>\n",
       "      <th>rot_y</th>\n",
       "      <th>thm_2</th>\n",
       "      <th>tof_5</th>\n",
       "      <th>tof_2</th>\n",
       "      <th>rot_x</th>\n",
       "      <th>thm_4</th>\n",
       "      <th>rot_w</th>\n",
       "      <th>tof_4</th>\n",
       "      <th>acc_y</th>\n",
       "      <th>acc_x</th>\n",
       "      <th>thm_5</th>\n",
       "      <th>acc_z</th>\n",
       "      <th>tof_1</th>\n",
       "      <th>thm_3</th>\n",
       "      <th>euler_y</th>\n",
       "      <th>euler_z</th>\n",
       "      <th>thm_1</th>\n",
       "      <th>euler_x</th>\n",
       "      <th>tof_3</th>\n",
       "    </tr>\n",
       "  </thead>\n",
       "  <tbody>\n",
       "    <tr>\n",
       "      <th rowspan=\"2\" valign=\"top\">train</th>\n",
       "      <th>mean</th>\n",
       "      <td>-0.022788</td>\n",
       "      <td>0.004298</td>\n",
       "      <td>0.121627</td>\n",
       "      <td>-0.237616</td>\n",
       "      <td>-0.005660</td>\n",
       "      <td>-0.013953</td>\n",
       "      <td>0.056279</td>\n",
       "      <td>0.086225</td>\n",
       "      <td>-0.074049</td>\n",
       "      <td>-0.087935</td>\n",
       "      <td>-0.034762</td>\n",
       "      <td>-0.335986</td>\n",
       "      <td>0.013114</td>\n",
       "      <td>-0.039551</td>\n",
       "      <td>0.176921</td>\n",
       "      <td>-0.036992</td>\n",
       "      <td>-0.029604</td>\n",
       "      <td>0.140331</td>\n",
       "      <td>-0.067752</td>\n",
       "      <td>-0.089391</td>\n",
       "    </tr>\n",
       "    <tr>\n",
       "      <th>std</th>\n",
       "      <td>0.967187</td>\n",
       "      <td>1.028734</td>\n",
       "      <td>0.641238</td>\n",
       "      <td>1.091336</td>\n",
       "      <td>0.988538</td>\n",
       "      <td>0.960390</td>\n",
       "      <td>0.546626</td>\n",
       "      <td>0.963192</td>\n",
       "      <td>0.930029</td>\n",
       "      <td>1.028772</td>\n",
       "      <td>1.000520</td>\n",
       "      <td>1.501069</td>\n",
       "      <td>1.002488</td>\n",
       "      <td>0.948109</td>\n",
       "      <td>0.465942</td>\n",
       "      <td>1.008167</td>\n",
       "      <td>1.008635</td>\n",
       "      <td>0.557480</td>\n",
       "      <td>0.981734</td>\n",
       "      <td>0.946357</td>\n",
       "    </tr>\n",
       "    <tr>\n",
       "      <th rowspan=\"2\" valign=\"top\">validation</th>\n",
       "      <th>mean</th>\n",
       "      <td>-0.022788</td>\n",
       "      <td>0.004298</td>\n",
       "      <td>0.121627</td>\n",
       "      <td>-0.237616</td>\n",
       "      <td>-0.005660</td>\n",
       "      <td>-0.013953</td>\n",
       "      <td>0.056279</td>\n",
       "      <td>0.086225</td>\n",
       "      <td>-0.074049</td>\n",
       "      <td>-0.087935</td>\n",
       "      <td>-0.034762</td>\n",
       "      <td>-0.335986</td>\n",
       "      <td>0.013114</td>\n",
       "      <td>-0.039551</td>\n",
       "      <td>0.176921</td>\n",
       "      <td>-0.036992</td>\n",
       "      <td>-0.029604</td>\n",
       "      <td>0.140331</td>\n",
       "      <td>-0.067752</td>\n",
       "      <td>-0.089391</td>\n",
       "    </tr>\n",
       "    <tr>\n",
       "      <th>std</th>\n",
       "      <td>0.967187</td>\n",
       "      <td>1.028734</td>\n",
       "      <td>0.641238</td>\n",
       "      <td>1.091336</td>\n",
       "      <td>0.988538</td>\n",
       "      <td>0.960390</td>\n",
       "      <td>0.546626</td>\n",
       "      <td>0.963192</td>\n",
       "      <td>0.930029</td>\n",
       "      <td>1.028772</td>\n",
       "      <td>1.000520</td>\n",
       "      <td>1.501069</td>\n",
       "      <td>1.002488</td>\n",
       "      <td>0.948109</td>\n",
       "      <td>0.465942</td>\n",
       "      <td>1.008167</td>\n",
       "      <td>1.008635</td>\n",
       "      <td>0.557480</td>\n",
       "      <td>0.981734</td>\n",
       "      <td>0.946357</td>\n",
       "    </tr>\n",
       "  </tbody>\n",
       "</table>\n",
       "</div>"
      ],
      "text/plain": [
       "                    rot_z     rot_y     thm_2     tof_5     tof_2     rot_x  \\\n",
       "train      mean -0.022788  0.004298  0.121627 -0.237616 -0.005660 -0.013953   \n",
       "           std   0.967187  1.028734  0.641238  1.091336  0.988538  0.960390   \n",
       "validation mean -0.022788  0.004298  0.121627 -0.237616 -0.005660 -0.013953   \n",
       "           std   0.967187  1.028734  0.641238  1.091336  0.988538  0.960390   \n",
       "\n",
       "                    thm_4     rot_w     tof_4     acc_y     acc_x     thm_5  \\\n",
       "train      mean  0.056279  0.086225 -0.074049 -0.087935 -0.034762 -0.335986   \n",
       "           std   0.546626  0.963192  0.930029  1.028772  1.000520  1.501069   \n",
       "validation mean  0.056279  0.086225 -0.074049 -0.087935 -0.034762 -0.335986   \n",
       "           std   0.546626  0.963192  0.930029  1.028772  1.000520  1.501069   \n",
       "\n",
       "                    acc_z     tof_1     thm_3   euler_y   euler_z     thm_1  \\\n",
       "train      mean  0.013114 -0.039551  0.176921 -0.036992 -0.029604  0.140331   \n",
       "           std   1.002488  0.948109  0.465942  1.008167  1.008635  0.557480   \n",
       "validation mean  0.013114 -0.039551  0.176921 -0.036992 -0.029604  0.140331   \n",
       "           std   1.002488  0.948109  0.465942  1.008167  1.008635  0.557480   \n",
       "\n",
       "                  euler_x     tof_3  \n",
       "train      mean -0.067752 -0.089391  \n",
       "           std   0.981734  0.946357  \n",
       "validation mean -0.067752 -0.089391  \n",
       "           std   0.981734  0.946357  "
      ]
     },
     "execution_count": 13,
     "metadata": {},
     "output_type": "execute_result"
    }
   ],
   "source": [
    "pd.concat({\n",
    "    \"train\": folds[0][1][feature_cols].agg([\"mean\", \"std\"]),\n",
    "    \"validation\": folds[0][1][feature_cols].agg([\"mean\", \"std\"]),\n",
    "})"
   ]
  },
  {
   "cell_type": "markdown",
   "id": "9bc09714",
   "metadata": {},
   "source": [
    "### Normalize sequences lengths.  \n",
    "And turn the Dataframes into ndarrays."
   ]
  },
  {
   "cell_type": "markdown",
   "id": "76699499",
   "metadata": {},
   "source": [
    "#### Visualize histogram of sequences lengths."
   ]
  },
  {
   "cell_type": "markdown",
   "id": "b3477111",
   "metadata": {},
   "source": [
    "Entire dataset sequences lengths."
   ]
  },
  {
   "cell_type": "code",
   "execution_count": 14,
   "id": "876907d8",
   "metadata": {},
   "outputs": [
    {
     "data": {
      "application/vnd.plotly.v1+json": {
       "config": {
        "plotlyServerURL": "https://plot.ly"
       },
       "data": [
        {
         "bingroup": "x",
         "hovertemplate": "variable=0<br>value=%{x}<br>count=%{y}<extra></extra>",
         "legendgroup": "0",
         "marker": {
          "color": "#636efa",
          "pattern": {
           "shape": ""
          }
         },
         "name": "0",
         "orientation": "v",
         "showlegend": true,
         "type": "histogram",
         "x": {
          "bdata": "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",
          "dtype": "i2"
         },
         "xaxis": "x",
         "yaxis": "y"
        }
       ],
       "layout": {
        "barmode": "relative",
        "legend": {
         "title": {
          "text": "variable"
         },
         "tracegroupgap": 0
        },
        "template": {
         "data": {
          "bar": [
           {
            "error_x": {
             "color": "#2a3f5f"
            },
            "error_y": {
             "color": "#2a3f5f"
            },
            "marker": {
             "line": {
              "color": "#E5ECF6",
              "width": 0.5
             },
             "pattern": {
              "fillmode": "overlay",
              "size": 10,
              "solidity": 0.2
             }
            },
            "type": "bar"
           }
          ],
          "barpolar": [
           {
            "marker": {
             "line": {
              "color": "#E5ECF6",
              "width": 0.5
             },
             "pattern": {
              "fillmode": "overlay",
              "size": 10,
              "solidity": 0.2
             }
            },
            "type": "barpolar"
           }
          ],
          "carpet": [
           {
            "aaxis": {
             "endlinecolor": "#2a3f5f",
             "gridcolor": "white",
             "linecolor": "white",
             "minorgridcolor": "white",
             "startlinecolor": "#2a3f5f"
            },
            "baxis": {
             "endlinecolor": "#2a3f5f",
             "gridcolor": "white",
             "linecolor": "white",
             "minorgridcolor": "white",
             "startlinecolor": "#2a3f5f"
            },
            "type": "carpet"
           }
          ],
          "choropleth": [
           {
            "colorbar": {
             "outlinewidth": 0,
             "ticks": ""
            },
            "type": "choropleth"
           }
          ],
          "contour": [
           {
            "colorbar": {
             "outlinewidth": 0,
             "ticks": ""
            },
            "colorscale": [
             [
              0,
              "#0d0887"
             ],
             [
              0.1111111111111111,
              "#46039f"
             ],
             [
              0.2222222222222222,
              "#7201a8"
             ],
             [
              0.3333333333333333,
              "#9c179e"
             ],
             [
              0.4444444444444444,
              "#bd3786"
             ],
             [
              0.5555555555555556,
              "#d8576b"
             ],
             [
              0.6666666666666666,
              "#ed7953"
             ],
             [
              0.7777777777777778,
              "#fb9f3a"
             ],
             [
              0.8888888888888888,
              "#fdca26"
             ],
             [
              1,
              "#f0f921"
             ]
            ],
            "type": "contour"
           }
          ],
          "contourcarpet": [
           {
            "colorbar": {
             "outlinewidth": 0,
             "ticks": ""
            },
            "type": "contourcarpet"
           }
          ],
          "heatmap": [
           {
            "colorbar": {
             "outlinewidth": 0,
             "ticks": ""
            },
            "colorscale": [
             [
              0,
              "#0d0887"
             ],
             [
              0.1111111111111111,
              "#46039f"
             ],
             [
              0.2222222222222222,
              "#7201a8"
             ],
             [
              0.3333333333333333,
              "#9c179e"
             ],
             [
              0.4444444444444444,
              "#bd3786"
             ],
             [
              0.5555555555555556,
              "#d8576b"
             ],
             [
              0.6666666666666666,
              "#ed7953"
             ],
             [
              0.7777777777777778,
              "#fb9f3a"
             ],
             [
              0.8888888888888888,
              "#fdca26"
             ],
             [
              1,
              "#f0f921"
             ]
            ],
            "type": "heatmap"
           }
          ],
          "histogram": [
           {
            "marker": {
             "pattern": {
              "fillmode": "overlay",
              "size": 10,
              "solidity": 0.2
             }
            },
            "type": "histogram"
           }
          ],
          "histogram2d": [
           {
            "colorbar": {
             "outlinewidth": 0,
             "ticks": ""
            },
            "colorscale": [
             [
              0,
              "#0d0887"
             ],
             [
              0.1111111111111111,
              "#46039f"
             ],
             [
              0.2222222222222222,
              "#7201a8"
             ],
             [
              0.3333333333333333,
              "#9c179e"
             ],
             [
              0.4444444444444444,
              "#bd3786"
             ],
             [
              0.5555555555555556,
              "#d8576b"
             ],
             [
              0.6666666666666666,
              "#ed7953"
             ],
             [
              0.7777777777777778,
              "#fb9f3a"
             ],
             [
              0.8888888888888888,
              "#fdca26"
             ],
             [
              1,
              "#f0f921"
             ]
            ],
            "type": "histogram2d"
           }
          ],
          "histogram2dcontour": [
           {
            "colorbar": {
             "outlinewidth": 0,
             "ticks": ""
            },
            "colorscale": [
             [
              0,
              "#0d0887"
             ],
             [
              0.1111111111111111,
              "#46039f"
             ],
             [
              0.2222222222222222,
              "#7201a8"
             ],
             [
              0.3333333333333333,
              "#9c179e"
             ],
             [
              0.4444444444444444,
              "#bd3786"
             ],
             [
              0.5555555555555556,
              "#d8576b"
             ],
             [
              0.6666666666666666,
              "#ed7953"
             ],
             [
              0.7777777777777778,
              "#fb9f3a"
             ],
             [
              0.8888888888888888,
              "#fdca26"
             ],
             [
              1,
              "#f0f921"
             ]
            ],
            "type": "histogram2dcontour"
           }
          ],
          "mesh3d": [
           {
            "colorbar": {
             "outlinewidth": 0,
             "ticks": ""
            },
            "type": "mesh3d"
           }
          ],
          "parcoords": [
           {
            "line": {
             "colorbar": {
              "outlinewidth": 0,
              "ticks": ""
             }
            },
            "type": "parcoords"
           }
          ],
          "pie": [
           {
            "automargin": true,
            "type": "pie"
           }
          ],
          "scatter": [
           {
            "fillpattern": {
             "fillmode": "overlay",
             "size": 10,
             "solidity": 0.2
            },
            "type": "scatter"
           }
          ],
          "scatter3d": [
           {
            "line": {
             "colorbar": {
              "outlinewidth": 0,
              "ticks": ""
             }
            },
            "marker": {
             "colorbar": {
              "outlinewidth": 0,
              "ticks": ""
             }
            },
            "type": "scatter3d"
           }
          ],
          "scattercarpet": [
           {
            "marker": {
             "colorbar": {
              "outlinewidth": 0,
              "ticks": ""
             }
            },
            "type": "scattercarpet"
           }
          ],
          "scattergeo": [
           {
            "marker": {
             "colorbar": {
              "outlinewidth": 0,
              "ticks": ""
             }
            },
            "type": "scattergeo"
           }
          ],
          "scattergl": [
           {
            "marker": {
             "colorbar": {
              "outlinewidth": 0,
              "ticks": ""
             }
            },
            "type": "scattergl"
           }
          ],
          "scattermap": [
           {
            "marker": {
             "colorbar": {
              "outlinewidth": 0,
              "ticks": ""
             }
            },
            "type": "scattermap"
           }
          ],
          "scattermapbox": [
           {
            "marker": {
             "colorbar": {
              "outlinewidth": 0,
              "ticks": ""
             }
            },
            "type": "scattermapbox"
           }
          ],
          "scatterpolar": [
           {
            "marker": {
             "colorbar": {
              "outlinewidth": 0,
              "ticks": ""
             }
            },
            "type": "scatterpolar"
           }
          ],
          "scatterpolargl": [
           {
            "marker": {
             "colorbar": {
              "outlinewidth": 0,
              "ticks": ""
             }
            },
            "type": "scatterpolargl"
           }
          ],
          "scatterternary": [
           {
            "marker": {
             "colorbar": {
              "outlinewidth": 0,
              "ticks": ""
             }
            },
            "type": "scatterternary"
           }
          ],
          "surface": [
           {
            "colorbar": {
             "outlinewidth": 0,
             "ticks": ""
            },
            "colorscale": [
             [
              0,
              "#0d0887"
             ],
             [
              0.1111111111111111,
              "#46039f"
             ],
             [
              0.2222222222222222,
              "#7201a8"
             ],
             [
              0.3333333333333333,
              "#9c179e"
             ],
             [
              0.4444444444444444,
              "#bd3786"
             ],
             [
              0.5555555555555556,
              "#d8576b"
             ],
             [
              0.6666666666666666,
              "#ed7953"
             ],
             [
              0.7777777777777778,
              "#fb9f3a"
             ],
             [
              0.8888888888888888,
              "#fdca26"
             ],
             [
              1,
              "#f0f921"
             ]
            ],
            "type": "surface"
           }
          ],
          "table": [
           {
            "cells": {
             "fill": {
              "color": "#EBF0F8"
             },
             "line": {
              "color": "white"
             }
            },
            "header": {
             "fill": {
              "color": "#C8D4E3"
             },
             "line": {
              "color": "white"
             }
            },
            "type": "table"
           }
          ]
         },
         "layout": {
          "annotationdefaults": {
           "arrowcolor": "#2a3f5f",
           "arrowhead": 0,
           "arrowwidth": 1
          },
          "autotypenumbers": "strict",
          "coloraxis": {
           "colorbar": {
            "outlinewidth": 0,
            "ticks": ""
           }
          },
          "colorscale": {
           "diverging": [
            [
             0,
             "#8e0152"
            ],
            [
             0.1,
             "#c51b7d"
            ],
            [
             0.2,
             "#de77ae"
            ],
            [
             0.3,
             "#f1b6da"
            ],
            [
             0.4,
             "#fde0ef"
            ],
            [
             0.5,
             "#f7f7f7"
            ],
            [
             0.6,
             "#e6f5d0"
            ],
            [
             0.7,
             "#b8e186"
            ],
            [
             0.8,
             "#7fbc41"
            ],
            [
             0.9,
             "#4d9221"
            ],
            [
             1,
             "#276419"
            ]
           ],
           "sequential": [
            [
             0,
             "#0d0887"
            ],
            [
             0.1111111111111111,
             "#46039f"
            ],
            [
             0.2222222222222222,
             "#7201a8"
            ],
            [
             0.3333333333333333,
             "#9c179e"
            ],
            [
             0.4444444444444444,
             "#bd3786"
            ],
            [
             0.5555555555555556,
             "#d8576b"
            ],
            [
             0.6666666666666666,
             "#ed7953"
            ],
            [
             0.7777777777777778,
             "#fb9f3a"
            ],
            [
             0.8888888888888888,
             "#fdca26"
            ],
            [
             1,
             "#f0f921"
            ]
           ],
           "sequentialminus": [
            [
             0,
             "#0d0887"
            ],
            [
             0.1111111111111111,
             "#46039f"
            ],
            [
             0.2222222222222222,
             "#7201a8"
            ],
            [
             0.3333333333333333,
             "#9c179e"
            ],
            [
             0.4444444444444444,
             "#bd3786"
            ],
            [
             0.5555555555555556,
             "#d8576b"
            ],
            [
             0.6666666666666666,
             "#ed7953"
            ],
            [
             0.7777777777777778,
             "#fb9f3a"
            ],
            [
             0.8888888888888888,
             "#fdca26"
            ],
            [
             1,
             "#f0f921"
            ]
           ]
          },
          "colorway": [
           "#636efa",
           "#EF553B",
           "#00cc96",
           "#ab63fa",
           "#FFA15A",
           "#19d3f3",
           "#FF6692",
           "#B6E880",
           "#FF97FF",
           "#FECB52"
          ],
          "font": {
           "color": "#2a3f5f"
          },
          "geo": {
           "bgcolor": "white",
           "lakecolor": "white",
           "landcolor": "#E5ECF6",
           "showlakes": true,
           "showland": true,
           "subunitcolor": "white"
          },
          "hoverlabel": {
           "align": "left"
          },
          "hovermode": "closest",
          "mapbox": {
           "style": "light"
          },
          "paper_bgcolor": "white",
          "plot_bgcolor": "#E5ECF6",
          "polar": {
           "angularaxis": {
            "gridcolor": "white",
            "linecolor": "white",
            "ticks": ""
           },
           "bgcolor": "#E5ECF6",
           "radialaxis": {
            "gridcolor": "white",
            "linecolor": "white",
            "ticks": ""
           }
          },
          "scene": {
           "xaxis": {
            "backgroundcolor": "#E5ECF6",
            "gridcolor": "white",
            "gridwidth": 2,
            "linecolor": "white",
            "showbackground": true,
            "ticks": "",
            "zerolinecolor": "white"
           },
           "yaxis": {
            "backgroundcolor": "#E5ECF6",
            "gridcolor": "white",
            "gridwidth": 2,
            "linecolor": "white",
            "showbackground": true,
            "ticks": "",
            "zerolinecolor": "white"
           },
           "zaxis": {
            "backgroundcolor": "#E5ECF6",
            "gridcolor": "white",
            "gridwidth": 2,
            "linecolor": "white",
            "showbackground": true,
            "ticks": "",
            "zerolinecolor": "white"
           }
          },
          "shapedefaults": {
           "line": {
            "color": "#2a3f5f"
           }
          },
          "ternary": {
           "aaxis": {
            "gridcolor": "white",
            "linecolor": "white",
            "ticks": ""
           },
           "baxis": {
            "gridcolor": "white",
            "linecolor": "white",
            "ticks": ""
           },
           "bgcolor": "#E5ECF6",
           "caxis": {
            "gridcolor": "white",
            "linecolor": "white",
            "ticks": ""
           }
          },
          "title": {
           "x": 0.05
          },
          "xaxis": {
           "automargin": true,
           "gridcolor": "white",
           "linecolor": "white",
           "ticks": "",
           "title": {
            "standoff": 15
           },
           "zerolinecolor": "white",
           "zerolinewidth": 2
          },
          "yaxis": {
           "automargin": true,
           "gridcolor": "white",
           "linecolor": "white",
           "ticks": "",
           "title": {
            "standoff": 15
           },
           "zerolinecolor": "white",
           "zerolinewidth": 2
          }
         }
        },
        "title": {
         "text": "Sequence length frequency"
        },
        "xaxis": {
         "anchor": "y",
         "domain": [
          0,
          1
         ],
         "title": {
          "text": "value"
         }
        },
        "yaxis": {
         "anchor": "x",
         "domain": [
          0,
          1
         ],
         "title": {
          "text": "count"
         }
        }
       }
      }
     },
     "metadata": {},
     "output_type": "display_data"
    }
   ],
   "source": [
    "px.histogram(\n",
    "    (\n",
    "        df\n",
    "        .groupby(\"sequence_id\", observed=True)\n",
    "        .size()\n",
    "    ),\n",
    "    title=\"Sequence length frequency\",\n",
    ")"
   ]
  },
  {
   "cell_type": "markdown",
   "id": "24e72f4e",
   "metadata": {},
   "source": [
    "Second(to avoid always look at the first one) Train/validation split sequences lengths comparaison."
   ]
  },
  {
   "cell_type": "code",
   "execution_count": 15,
   "id": "1a39bfce",
   "metadata": {},
   "outputs": [
    {
     "data": {
      "application/vnd.plotly.v1+json": {
       "config": {
        "plotlyServerURL": "https://plot.ly"
       },
       "data": [
        {
         "bingroup": "x",
         "hovertemplate": "set=Train<br>length=%{x}<br>count=%{y}<extra></extra>",
         "legendgroup": "Train",
         "marker": {
          "color": "#636efa",
          "opacity": 0.5,
          "pattern": {
           "shape": ""
          }
         },
         "name": "Train",
         "nbinsx": 50,
         "opacity": 0.8,
         "orientation": "v",
         "showlegend": true,
         "type": "histogram",
         "x": {
          "bdata": "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",
          "dtype": "i2"
         },
         "xaxis": "x",
         "yaxis": "y"
        },
        {
         "bingroup": "x",
         "hovertemplate": "set=Validation<br>length=%{x}<br>count=%{y}<extra></extra>",
         "legendgroup": "Validation",
         "marker": {
          "color": "#EF553B",
          "opacity": 0.5,
          "pattern": {
           "shape": ""
          }
         },
         "name": "Validation",
         "nbinsx": 50,
         "opacity": 0.8,
         "orientation": "v",
         "showlegend": true,
         "type": "histogram",
         "x": {
          "bdata": "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",
          "dtype": "i2"
         },
         "xaxis": "x",
         "yaxis": "y"
        }
       ],
       "layout": {
        "barmode": "overlay",
        "legend": {
         "title": {
          "text": "set"
         },
         "tracegroupgap": 0
        },
        "template": {
         "data": {
          "bar": [
           {
            "error_x": {
             "color": "#2a3f5f"
            },
            "error_y": {
             "color": "#2a3f5f"
            },
            "marker": {
             "line": {
              "color": "#E5ECF6",
              "width": 0.5
             },
             "pattern": {
              "fillmode": "overlay",
              "size": 10,
              "solidity": 0.2
             }
            },
            "type": "bar"
           }
          ],
          "barpolar": [
           {
            "marker": {
             "line": {
              "color": "#E5ECF6",
              "width": 0.5
             },
             "pattern": {
              "fillmode": "overlay",
              "size": 10,
              "solidity": 0.2
             }
            },
            "type": "barpolar"
           }
          ],
          "carpet": [
           {
            "aaxis": {
             "endlinecolor": "#2a3f5f",
             "gridcolor": "white",
             "linecolor": "white",
             "minorgridcolor": "white",
             "startlinecolor": "#2a3f5f"
            },
            "baxis": {
             "endlinecolor": "#2a3f5f",
             "gridcolor": "white",
             "linecolor": "white",
             "minorgridcolor": "white",
             "startlinecolor": "#2a3f5f"
            },
            "type": "carpet"
           }
          ],
          "choropleth": [
           {
            "colorbar": {
             "outlinewidth": 0,
             "ticks": ""
            },
            "type": "choropleth"
           }
          ],
          "contour": [
           {
            "colorbar": {
             "outlinewidth": 0,
             "ticks": ""
            },
            "colorscale": [
             [
              0,
              "#0d0887"
             ],
             [
              0.1111111111111111,
              "#46039f"
             ],
             [
              0.2222222222222222,
              "#7201a8"
             ],
             [
              0.3333333333333333,
              "#9c179e"
             ],
             [
              0.4444444444444444,
              "#bd3786"
             ],
             [
              0.5555555555555556,
              "#d8576b"
             ],
             [
              0.6666666666666666,
              "#ed7953"
             ],
             [
              0.7777777777777778,
              "#fb9f3a"
             ],
             [
              0.8888888888888888,
              "#fdca26"
             ],
             [
              1,
              "#f0f921"
             ]
            ],
            "type": "contour"
           }
          ],
          "contourcarpet": [
           {
            "colorbar": {
             "outlinewidth": 0,
             "ticks": ""
            },
            "type": "contourcarpet"
           }
          ],
          "heatmap": [
           {
            "colorbar": {
             "outlinewidth": 0,
             "ticks": ""
            },
            "colorscale": [
             [
              0,
              "#0d0887"
             ],
             [
              0.1111111111111111,
              "#46039f"
             ],
             [
              0.2222222222222222,
              "#7201a8"
             ],
             [
              0.3333333333333333,
              "#9c179e"
             ],
             [
              0.4444444444444444,
              "#bd3786"
             ],
             [
              0.5555555555555556,
              "#d8576b"
             ],
             [
              0.6666666666666666,
              "#ed7953"
             ],
             [
              0.7777777777777778,
              "#fb9f3a"
             ],
             [
              0.8888888888888888,
              "#fdca26"
             ],
             [
              1,
              "#f0f921"
             ]
            ],
            "type": "heatmap"
           }
          ],
          "histogram": [
           {
            "marker": {
             "pattern": {
              "fillmode": "overlay",
              "size": 10,
              "solidity": 0.2
             }
            },
            "type": "histogram"
           }
          ],
          "histogram2d": [
           {
            "colorbar": {
             "outlinewidth": 0,
             "ticks": ""
            },
            "colorscale": [
             [
              0,
              "#0d0887"
             ],
             [
              0.1111111111111111,
              "#46039f"
             ],
             [
              0.2222222222222222,
              "#7201a8"
             ],
             [
              0.3333333333333333,
              "#9c179e"
             ],
             [
              0.4444444444444444,
              "#bd3786"
             ],
             [
              0.5555555555555556,
              "#d8576b"
             ],
             [
              0.6666666666666666,
              "#ed7953"
             ],
             [
              0.7777777777777778,
              "#fb9f3a"
             ],
             [
              0.8888888888888888,
              "#fdca26"
             ],
             [
              1,
              "#f0f921"
             ]
            ],
            "type": "histogram2d"
           }
          ],
          "histogram2dcontour": [
           {
            "colorbar": {
             "outlinewidth": 0,
             "ticks": ""
            },
            "colorscale": [
             [
              0,
              "#0d0887"
             ],
             [
              0.1111111111111111,
              "#46039f"
             ],
             [
              0.2222222222222222,
              "#7201a8"
             ],
             [
              0.3333333333333333,
              "#9c179e"
             ],
             [
              0.4444444444444444,
              "#bd3786"
             ],
             [
              0.5555555555555556,
              "#d8576b"
             ],
             [
              0.6666666666666666,
              "#ed7953"
             ],
             [
              0.7777777777777778,
              "#fb9f3a"
             ],
             [
              0.8888888888888888,
              "#fdca26"
             ],
             [
              1,
              "#f0f921"
             ]
            ],
            "type": "histogram2dcontour"
           }
          ],
          "mesh3d": [
           {
            "colorbar": {
             "outlinewidth": 0,
             "ticks": ""
            },
            "type": "mesh3d"
           }
          ],
          "parcoords": [
           {
            "line": {
             "colorbar": {
              "outlinewidth": 0,
              "ticks": ""
             }
            },
            "type": "parcoords"
           }
          ],
          "pie": [
           {
            "automargin": true,
            "type": "pie"
           }
          ],
          "scatter": [
           {
            "fillpattern": {
             "fillmode": "overlay",
             "size": 10,
             "solidity": 0.2
            },
            "type": "scatter"
           }
          ],
          "scatter3d": [
           {
            "line": {
             "colorbar": {
              "outlinewidth": 0,
              "ticks": ""
             }
            },
            "marker": {
             "colorbar": {
              "outlinewidth": 0,
              "ticks": ""
             }
            },
            "type": "scatter3d"
           }
          ],
          "scattercarpet": [
           {
            "marker": {
             "colorbar": {
              "outlinewidth": 0,
              "ticks": ""
             }
            },
            "type": "scattercarpet"
           }
          ],
          "scattergeo": [
           {
            "marker": {
             "colorbar": {
              "outlinewidth": 0,
              "ticks": ""
             }
            },
            "type": "scattergeo"
           }
          ],
          "scattergl": [
           {
            "marker": {
             "colorbar": {
              "outlinewidth": 0,
              "ticks": ""
             }
            },
            "type": "scattergl"
           }
          ],
          "scattermap": [
           {
            "marker": {
             "colorbar": {
              "outlinewidth": 0,
              "ticks": ""
             }
            },
            "type": "scattermap"
           }
          ],
          "scattermapbox": [
           {
            "marker": {
             "colorbar": {
              "outlinewidth": 0,
              "ticks": ""
             }
            },
            "type": "scattermapbox"
           }
          ],
          "scatterpolar": [
           {
            "marker": {
             "colorbar": {
              "outlinewidth": 0,
              "ticks": ""
             }
            },
            "type": "scatterpolar"
           }
          ],
          "scatterpolargl": [
           {
            "marker": {
             "colorbar": {
              "outlinewidth": 0,
              "ticks": ""
             }
            },
            "type": "scatterpolargl"
           }
          ],
          "scatterternary": [
           {
            "marker": {
             "colorbar": {
              "outlinewidth": 0,
              "ticks": ""
             }
            },
            "type": "scatterternary"
           }
          ],
          "surface": [
           {
            "colorbar": {
             "outlinewidth": 0,
             "ticks": ""
            },
            "colorscale": [
             [
              0,
              "#0d0887"
             ],
             [
              0.1111111111111111,
              "#46039f"
             ],
             [
              0.2222222222222222,
              "#7201a8"
             ],
             [
              0.3333333333333333,
              "#9c179e"
             ],
             [
              0.4444444444444444,
              "#bd3786"
             ],
             [
              0.5555555555555556,
              "#d8576b"
             ],
             [
              0.6666666666666666,
              "#ed7953"
             ],
             [
              0.7777777777777778,
              "#fb9f3a"
             ],
             [
              0.8888888888888888,
              "#fdca26"
             ],
             [
              1,
              "#f0f921"
             ]
            ],
            "type": "surface"
           }
          ],
          "table": [
           {
            "cells": {
             "fill": {
              "color": "#EBF0F8"
             },
             "line": {
              "color": "white"
             }
            },
            "header": {
             "fill": {
              "color": "#C8D4E3"
             },
             "line": {
              "color": "white"
             }
            },
            "type": "table"
           }
          ]
         },
         "layout": {
          "annotationdefaults": {
           "arrowcolor": "#2a3f5f",
           "arrowhead": 0,
           "arrowwidth": 1
          },
          "autotypenumbers": "strict",
          "coloraxis": {
           "colorbar": {
            "outlinewidth": 0,
            "ticks": ""
           }
          },
          "colorscale": {
           "diverging": [
            [
             0,
             "#8e0152"
            ],
            [
             0.1,
             "#c51b7d"
            ],
            [
             0.2,
             "#de77ae"
            ],
            [
             0.3,
             "#f1b6da"
            ],
            [
             0.4,
             "#fde0ef"
            ],
            [
             0.5,
             "#f7f7f7"
            ],
            [
             0.6,
             "#e6f5d0"
            ],
            [
             0.7,
             "#b8e186"
            ],
            [
             0.8,
             "#7fbc41"
            ],
            [
             0.9,
             "#4d9221"
            ],
            [
             1,
             "#276419"
            ]
           ],
           "sequential": [
            [
             0,
             "#0d0887"
            ],
            [
             0.1111111111111111,
             "#46039f"
            ],
            [
             0.2222222222222222,
             "#7201a8"
            ],
            [
             0.3333333333333333,
             "#9c179e"
            ],
            [
             0.4444444444444444,
             "#bd3786"
            ],
            [
             0.5555555555555556,
             "#d8576b"
            ],
            [
             0.6666666666666666,
             "#ed7953"
            ],
            [
             0.7777777777777778,
             "#fb9f3a"
            ],
            [
             0.8888888888888888,
             "#fdca26"
            ],
            [
             1,
             "#f0f921"
            ]
           ],
           "sequentialminus": [
            [
             0,
             "#0d0887"
            ],
            [
             0.1111111111111111,
             "#46039f"
            ],
            [
             0.2222222222222222,
             "#7201a8"
            ],
            [
             0.3333333333333333,
             "#9c179e"
            ],
            [
             0.4444444444444444,
             "#bd3786"
            ],
            [
             0.5555555555555556,
             "#d8576b"
            ],
            [
             0.6666666666666666,
             "#ed7953"
            ],
            [
             0.7777777777777778,
             "#fb9f3a"
            ],
            [
             0.8888888888888888,
             "#fdca26"
            ],
            [
             1,
             "#f0f921"
            ]
           ]
          },
          "colorway": [
           "#636efa",
           "#EF553B",
           "#00cc96",
           "#ab63fa",
           "#FFA15A",
           "#19d3f3",
           "#FF6692",
           "#B6E880",
           "#FF97FF",
           "#FECB52"
          ],
          "font": {
           "color": "#2a3f5f"
          },
          "geo": {
           "bgcolor": "white",
           "lakecolor": "white",
           "landcolor": "#E5ECF6",
           "showlakes": true,
           "showland": true,
           "subunitcolor": "white"
          },
          "hoverlabel": {
           "align": "left"
          },
          "hovermode": "closest",
          "mapbox": {
           "style": "light"
          },
          "paper_bgcolor": "white",
          "plot_bgcolor": "#E5ECF6",
          "polar": {
           "angularaxis": {
            "gridcolor": "white",
            "linecolor": "white",
            "ticks": ""
           },
           "bgcolor": "#E5ECF6",
           "radialaxis": {
            "gridcolor": "white",
            "linecolor": "white",
            "ticks": ""
           }
          },
          "scene": {
           "xaxis": {
            "backgroundcolor": "#E5ECF6",
            "gridcolor": "white",
            "gridwidth": 2,
            "linecolor": "white",
            "showbackground": true,
            "ticks": "",
            "zerolinecolor": "white"
           },
           "yaxis": {
            "backgroundcolor": "#E5ECF6",
            "gridcolor": "white",
            "gridwidth": 2,
            "linecolor": "white",
            "showbackground": true,
            "ticks": "",
            "zerolinecolor": "white"
           },
           "zaxis": {
            "backgroundcolor": "#E5ECF6",
            "gridcolor": "white",
            "gridwidth": 2,
            "linecolor": "white",
            "showbackground": true,
            "ticks": "",
            "zerolinecolor": "white"
           }
          },
          "shapedefaults": {
           "line": {
            "color": "#2a3f5f"
           }
          },
          "ternary": {
           "aaxis": {
            "gridcolor": "white",
            "linecolor": "white",
            "ticks": ""
           },
           "baxis": {
            "gridcolor": "white",
            "linecolor": "white",
            "ticks": ""
           },
           "bgcolor": "#E5ECF6",
           "caxis": {
            "gridcolor": "white",
            "linecolor": "white",
            "ticks": ""
           }
          },
          "title": {
           "x": 0.05
          },
          "xaxis": {
           "automargin": true,
           "gridcolor": "white",
           "linecolor": "white",
           "ticks": "",
           "title": {
            "standoff": 15
           },
           "zerolinecolor": "white",
           "zerolinewidth": 2
          },
          "yaxis": {
           "automargin": true,
           "gridcolor": "white",
           "linecolor": "white",
           "ticks": "",
           "title": {
            "standoff": 15
           },
           "zerolinecolor": "white",
           "zerolinewidth": 2
          }
         }
        },
        "title": {
         "text": "Sequence Length Distribution: Train vs Validation"
        },
        "xaxis": {
         "anchor": "y",
         "domain": [
          0,
          1
         ],
         "title": {
          "text": "length"
         }
        },
        "yaxis": {
         "anchor": "x",
         "domain": [
          0,
          1
         ],
         "title": {
          "text": "count"
         }
        }
       }
      }
     },
     "metadata": {},
     "output_type": "display_data"
    }
   ],
   "source": [
    "def get_set_sequences_lengths(set:DF, name:str) -> DF:\n",
    "    return (\n",
    "        set\n",
    "        .groupby(\"sequence_id\", observed=True)\n",
    "        .size()\n",
    "        .reset_index(name=\"length\")\n",
    "        .assign(set=name)\n",
    "    )\n",
    "\n",
    "full_se_lengths = pd.concat((\n",
    "    get_set_sequences_lengths(folds[2][0], \"Train\"),\n",
    "    get_set_sequences_lengths(folds[2][1], \"Validation\"),\n",
    "))\n",
    "\n",
    "fig = px.histogram(\n",
    "    full_se_lengths,\n",
    "    x=\"length\",\n",
    "    color=\"set\",\n",
    "    barmode=\"overlay\",  # or 'group' if you want side-by-side bars\n",
    "    nbins=50,           # adjust bin size if needed\n",
    "    title=\"Sequence Length Distribution: Train vs Validation\"\n",
    ")\n",
    "\n",
    "fig.update_traces(opacity=0.8)  # better visibility with overlay\n",
    "fig.show()\n"
   ]
  },
  {
   "cell_type": "code",
   "execution_count": 16,
   "id": "c1d46756",
   "metadata": {},
   "outputs": [
    {
     "name": "stdout",
     "output_type": "stream",
     "text": [
      "train normed sequence len: 124\n",
      "validation normed sequence len: 134\n",
      "\n",
      "train normed sequence len: 130\n",
      "validation normed sequence len: 118\n",
      "\n",
      "train normed sequence len: 125\n",
      "validation normed sequence len: 131\n",
      "\n",
      "train normed sequence len: 129\n",
      "validation normed sequence len: 118\n",
      "\n",
      "train normed sequence len: 125\n",
      "validation normed sequence len: 132\n",
      "\n"
     ]
    }
   ],
   "source": [
    "for train, val in folds:\n",
    "    print(\"train normed sequence len:\", int(train.groupby(\"sequence_id\", observed=True).size().quantile(SEQUENCE_NORMED_LEN_QUANTILE)))\n",
    "    print(\"validation normed sequence len:\", int(val.groupby(\"sequence_id\", observed=True).size().quantile(SEQUENCE_NORMED_LEN_QUANTILE)))\n",
    "    print()"
   ]
  },
  {
   "cell_type": "markdown",
   "id": "c89d5f21",
   "metadata": {},
   "source": [
    "#### Sequence length norm implementation"
   ]
  },
  {
   "cell_type": "code",
   "execution_count": 17,
   "id": "5d128055",
   "metadata": {},
   "outputs": [
    {
     "data": {
      "application/vnd.jupyter.widget-view+json": {
       "model_id": "3e8a664c6857467ab967915d42814723",
       "version_major": 2,
       "version_minor": 0
      },
      "text/plain": [
       "  0%|          | 0/6519 [00:00<?, ?it/s]"
      ]
     },
     "metadata": {},
     "output_type": "display_data"
    },
    {
     "data": {
      "application/vnd.jupyter.widget-view+json": {
       "model_id": "1aacb217aaad426e8fdc0b774ba1aa1e",
       "version_major": 2,
       "version_minor": 0
      },
      "text/plain": [
       "  0%|          | 0/1632 [00:00<?, ?it/s]"
      ]
     },
     "metadata": {},
     "output_type": "display_data"
    },
    {
     "data": {
      "application/vnd.jupyter.widget-view+json": {
       "model_id": "90d45bd19ab94e47bd469ba942d53534",
       "version_major": 2,
       "version_minor": 0
      },
      "text/plain": [
       "  0%|          | 0/6519 [00:00<?, ?it/s]"
      ]
     },
     "metadata": {},
     "output_type": "display_data"
    },
    {
     "data": {
      "application/vnd.jupyter.widget-view+json": {
       "model_id": "48643d095c774d9995a8cd1a99dd699d",
       "version_major": 2,
       "version_minor": 0
      },
      "text/plain": [
       "  0%|          | 0/1632 [00:00<?, ?it/s]"
      ]
     },
     "metadata": {},
     "output_type": "display_data"
    },
    {
     "data": {
      "application/vnd.jupyter.widget-view+json": {
       "model_id": "fde140c46026455a98a12cf1a146a2fd",
       "version_major": 2,
       "version_minor": 0
      },
      "text/plain": [
       "  0%|          | 0/6519 [00:00<?, ?it/s]"
      ]
     },
     "metadata": {},
     "output_type": "display_data"
    },
    {
     "data": {
      "application/vnd.jupyter.widget-view+json": {
       "model_id": "8e462b764c5140318b65232d59acf55d",
       "version_major": 2,
       "version_minor": 0
      },
      "text/plain": [
       "  0%|          | 0/1632 [00:00<?, ?it/s]"
      ]
     },
     "metadata": {},
     "output_type": "display_data"
    },
    {
     "data": {
      "application/vnd.jupyter.widget-view+json": {
       "model_id": "b6d763aeb88843fc999ff8b7539eefd1",
       "version_major": 2,
       "version_minor": 0
      },
      "text/plain": [
       "  0%|          | 0/6519 [00:00<?, ?it/s]"
      ]
     },
     "metadata": {},
     "output_type": "display_data"
    },
    {
     "data": {
      "application/vnd.jupyter.widget-view+json": {
       "model_id": "3ecaac70256245cfa79724738507cda7",
       "version_major": 2,
       "version_minor": 0
      },
      "text/plain": [
       "  0%|          | 0/1632 [00:00<?, ?it/s]"
      ]
     },
     "metadata": {},
     "output_type": "display_data"
    },
    {
     "data": {
      "application/vnd.jupyter.widget-view+json": {
       "model_id": "bfbc9071d71e4272b48f2e192cfe83dd",
       "version_major": 2,
       "version_minor": 0
      },
      "text/plain": [
       "  0%|          | 0/6519 [00:00<?, ?it/s]"
      ]
     },
     "metadata": {},
     "output_type": "display_data"
    },
    {
     "data": {
      "application/vnd.jupyter.widget-view+json": {
       "model_id": "4292e41c838248da8f78c44215ba7332",
       "version_major": 2,
       "version_minor": 0
      },
      "text/plain": [
       "  0%|          | 0/1632 [00:00<?, ?it/s]"
      ]
     },
     "metadata": {},
     "output_type": "display_data"
    }
   ],
   "source": [
    "from tqdm.notebook import tqdm\n",
    "\n",
    "gesture_cols = df[\"gesture\"].unique()\n",
    "\n",
    "def length_normed_sequence_feat_arr(sequence: DF, normed_sequence_len: int) -> ndarray:\n",
    "    features = (\n",
    "        sequence\n",
    "        .loc[:, feature_cols]\n",
    "        .values\n",
    "    )\n",
    "    len_diff = abs(normed_sequence_len - len(features))\n",
    "    if len(features) < normed_sequence_len:\n",
    "        padded_features = np.pad(\n",
    "            features,\n",
    "            ((len_diff // 2 + len_diff % 2, len_diff // 2), (0, 0)),\n",
    "        )\n",
    "        return padded_features\n",
    "    elif len(features) > normed_sequence_len:\n",
    "        return features[len_diff // 2:-len_diff // 2]\n",
    "    else:\n",
    "        return features\n",
    "\n",
    "def df_to_ndarrays(df:DF, normed_sequence_len:int) -> tuple[np.ndarray, np.ndarray]:\n",
    "    sequence_it = df.groupby(\"sequence_id\", observed=True, as_index=False)\n",
    "    x = np.empty(\n",
    "        shape=(len(sequence_it), normed_sequence_len, len(feature_cols)),\n",
    "        dtype=\"float32\"\n",
    "    )\n",
    "    y = np.empty(\n",
    "        shape=(len(sequence_it), df[\"gesture\"].nunique()),\n",
    "        dtype=\"float32\"\n",
    "    )\n",
    "    for sequence_idx, (_, sequence) in tqdm(enumerate(sequence_it), total=len(sequence_it)):\n",
    "        normed_seq_feat_arr = length_normed_sequence_feat_arr(sequence, normed_sequence_len)\n",
    "        x[sequence_idx] = normed_seq_feat_arr\n",
    "        # Take the first value as they are(or at least should be) all the same in a single sequence\n",
    "        y[sequence_idx] = sequence[gesture_cols].iloc[0].values\n",
    "\n",
    "    return x, y\n",
    "\n",
    "def get_normed_seq_len(dataset:DF) -> int:\n",
    "    return int(\n",
    "        dataset\n",
    "        .groupby(\"sequence_id\", observed=True)\n",
    "        .size()\n",
    "        .quantile(SEQUENCE_NORMED_LEN_QUANTILE)\n",
    "    )\n",
    "\n",
    "def fold_dfs_to_ndarrays(train:DF, validation:DF) -> tuple[ndarray, ndarray, ndarray, ndarray]:\n",
    "    \"\"\"\n",
    "    Returns:\n",
    "        (train X, train Y, validation X, validation Y)\n",
    "    \"\"\"\n",
    "    normed_sequence_len = get_normed_seq_len(train)\n",
    "    return (\n",
    "        *df_to_ndarrays(train, normed_sequence_len),\n",
    "        *df_to_ndarrays(validation, normed_sequence_len),\n",
    "    )\n",
    "\n",
    "folds_arrs = list(starmap(fold_dfs_to_ndarrays, folds))"
   ]
  },
  {
   "cell_type": "code",
   "execution_count": 18,
   "id": "80490c33",
   "metadata": {},
   "outputs": [
    {
     "data": {
      "application/vnd.jupyter.widget-view+json": {
       "model_id": "8ea1d737cdb24af083b9be11ca2e536d",
       "version_major": 2,
       "version_minor": 0
      },
      "text/plain": [
       "  0%|          | 0/8151 [00:00<?, ?it/s]"
      ]
     },
     "metadata": {},
     "output_type": "display_data"
    }
   ],
   "source": [
    "full_dataset_sequence_length_norm = get_normed_seq_len(df)\n",
    "full_x, full_y = df_to_ndarrays(df, full_dataset_sequence_length_norm)"
   ]
  },
  {
   "cell_type": "markdown",
   "id": "b99f60c2",
   "metadata": {},
   "source": [
    "## Create dataset"
   ]
  },
  {
   "cell_type": "code",
   "execution_count": 19,
   "id": "a46b79b2",
   "metadata": {},
   "outputs": [],
   "source": [
    "# Clean dataset directory if it already exists\n",
    "! rm -rf preprocessed_dataset\n",
    "# Create dataset direcory\n",
    "! mkdir preprocessed_dataset\n",
    "# Save folds\n",
    "for fold_i, (train_x, train_y, val_x, val_y) in enumerate(folds_arrs):\n",
    "    fold_dir_path = join(\"preprocessed_dataset\", f\"fold_{fold_i}\")\n",
    "    os.makedirs(fold_dir_path)\n",
    "    # save features (X)\n",
    "    np.save(join(fold_dir_path, \"train_X.npy\"), train_x, allow_pickle=False)\n",
    "    np.save(join(fold_dir_path, \"validation_X.npy\"), val_x, allow_pickle=False)\n",
    "    # Save targets (Y)\n",
    "    np.save(join(fold_dir_path, \"train_Y.npy\"), train_y, allow_pickle=False)\n",
    "    np.save(join(fold_dir_path, \"validation_Y.npy\"), val_y, allow_pickle=False)\n",
    "# Save full dataset\n",
    "full_dataset_dir_path = \"preprocessed_dataset/full_dataset\"\n",
    "os.makedirs(full_dataset_dir_path)\n",
    "np.save(join(full_dataset_dir_path, \"X.npy\"), full_x, allow_pickle=False)\n",
    "np.save(join(full_dataset_dir_path, \"Y.npy\"), full_y, allow_pickle=False)\n",
    "# Save dataset meta data\n",
    "full_dataset_meta_data[\"target_names\"] = one_hot_target.columns.to_list()\n",
    "full_dataset_meta_data[\"pad_seq_len\"] = full_dataset_sequence_length_norm\n",
    "full_dataset_meta_data[\"feature_cols\"] = feature_cols\n",
    "\n",
    "with open(\"preprocessed_dataset/full_dataset_meta_data.json\", \"w\") as fp:\n",
    "    json.dump(full_dataset_meta_data, fp, indent=4)"
   ]
  },
  {
   "cell_type": "code",
   "execution_count": 23,
   "id": "0b77ea50",
   "metadata": {},
   "outputs": [
    {
     "data": {
      "text/html": [
       "<div>\n",
       "<style scoped>\n",
       "    .dataframe tbody tr th:only-of-type {\n",
       "        vertical-align: middle;\n",
       "    }\n",
       "\n",
       "    .dataframe tbody tr th {\n",
       "        vertical-align: top;\n",
       "    }\n",
       "\n",
       "    .dataframe thead th {\n",
       "        text-align: right;\n",
       "    }\n",
       "</style>\n",
       "<table border=\"1\" class=\"dataframe\">\n",
       "  <thead>\n",
       "    <tr style=\"text-align: right;\">\n",
       "      <th></th>\n",
       "      <th>rot_z</th>\n",
       "      <th>rot_y</th>\n",
       "      <th>thm_2</th>\n",
       "      <th>tof_5</th>\n",
       "      <th>tof_2</th>\n",
       "      <th>rot_x</th>\n",
       "      <th>thm_4</th>\n",
       "      <th>rot_w</th>\n",
       "      <th>tof_4</th>\n",
       "      <th>acc_y</th>\n",
       "      <th>acc_x</th>\n",
       "      <th>thm_5</th>\n",
       "      <th>acc_z</th>\n",
       "      <th>tof_1</th>\n",
       "      <th>thm_3</th>\n",
       "      <th>euler_y</th>\n",
       "      <th>euler_z</th>\n",
       "      <th>thm_1</th>\n",
       "      <th>euler_x</th>\n",
       "      <th>tof_3</th>\n",
       "    </tr>\n",
       "  </thead>\n",
       "  <tbody>\n",
       "    <tr>\n",
       "      <th>0</th>\n",
       "      <td>-1.238540</td>\n",
       "      <td>-0.716343</td>\n",
       "      <td>1.184774</td>\n",
       "      <td>0.404678</td>\n",
       "      <td>0.148727</td>\n",
       "      <td>-0.508525</td>\n",
       "      <td>0.367246</td>\n",
       "      <td>-0.997151</td>\n",
       "      <td>-0.016778</td>\n",
       "      <td>0.884130</td>\n",
       "      <td>0.872408</td>\n",
       "      <td>0.477938</td>\n",
       "      <td>0.625816</td>\n",
       "      <td>0.339571</td>\n",
       "      <td>0.633442</td>\n",
       "      <td>0.883372</td>\n",
       "      <td>0.339185</td>\n",
       "      <td>0.502318</td>\n",
       "      <td>0.191240</td>\n",
       "      <td>-0.454938</td>\n",
       "    </tr>\n",
       "    <tr>\n",
       "      <th>1</th>\n",
       "      <td>-1.267920</td>\n",
       "      <td>-0.681840</td>\n",
       "      <td>1.197089</td>\n",
       "      <td>0.433771</td>\n",
       "      <td>0.199531</td>\n",
       "      <td>-0.476437</td>\n",
       "      <td>0.386687</td>\n",
       "      <td>-0.957737</td>\n",
       "      <td>0.002596</td>\n",
       "      <td>0.884130</td>\n",
       "      <td>0.918353</td>\n",
       "      <td>0.492298</td>\n",
       "      <td>0.588012</td>\n",
       "      <td>0.349948</td>\n",
       "      <td>0.681437</td>\n",
       "      <td>0.860138</td>\n",
       "      <td>0.297587</td>\n",
       "      <td>0.593105</td>\n",
       "      <td>0.150843</td>\n",
       "      <td>-0.337148</td>\n",
       "    </tr>\n",
       "    <tr>\n",
       "      <th>2</th>\n",
       "      <td>-1.349747</td>\n",
       "      <td>-0.549352</td>\n",
       "      <td>0.976524</td>\n",
       "      <td>0.490583</td>\n",
       "      <td>0.371769</td>\n",
       "      <td>-0.334147</td>\n",
       "      <td>0.423273</td>\n",
       "      <td>-0.630264</td>\n",
       "      <td>0.026308</td>\n",
       "      <td>0.723320</td>\n",
       "      <td>0.706192</td>\n",
       "      <td>0.510858</td>\n",
       "      <td>0.964766</td>\n",
       "      <td>0.398864</td>\n",
       "      <td>0.741405</td>\n",
       "      <td>0.754947</td>\n",
       "      <td>0.140441</td>\n",
       "      <td>0.821468</td>\n",
       "      <td>-0.047236</td>\n",
       "      <td>0.022423</td>\n",
       "    </tr>\n",
       "    <tr>\n",
       "      <th>3</th>\n",
       "      <td>-1.390175</td>\n",
       "      <td>-0.329928</td>\n",
       "      <td>0.063125</td>\n",
       "      <td>0.532300</td>\n",
       "      <td>0.644067</td>\n",
       "      <td>-0.312448</td>\n",
       "      <td>0.484648</td>\n",
       "      <td>-0.290093</td>\n",
       "      <td>0.459197</td>\n",
       "      <td>0.347835</td>\n",
       "      <td>0.858218</td>\n",
       "      <td>0.341522</td>\n",
       "      <td>1.134561</td>\n",
       "      <td>0.621508</td>\n",
       "      <td>0.584725</td>\n",
       "      <td>0.714206</td>\n",
       "      <td>-0.051374</td>\n",
       "      <td>0.868207</td>\n",
       "      <td>-0.231340</td>\n",
       "      <td>0.543179</td>\n",
       "    </tr>\n",
       "    <tr>\n",
       "      <th>4</th>\n",
       "      <td>-1.447599</td>\n",
       "      <td>-0.007333</td>\n",
       "      <td>-0.353110</td>\n",
       "      <td>0.684347</td>\n",
       "      <td>0.789974</td>\n",
       "      <td>-0.214344</td>\n",
       "      <td>0.592139</td>\n",
       "      <td>-0.134027</td>\n",
       "      <td>0.731018</td>\n",
       "      <td>-0.302433</td>\n",
       "      <td>0.679165</td>\n",
       "      <td>0.334854</td>\n",
       "      <td>1.655481</td>\n",
       "      <td>1.073910</td>\n",
       "      <td>0.081696</td>\n",
       "      <td>0.418963</td>\n",
       "      <td>-0.252579</td>\n",
       "      <td>0.587718</td>\n",
       "      <td>-0.342103</td>\n",
       "      <td>0.870276</td>\n",
       "    </tr>\n",
       "    <tr>\n",
       "      <th>...</th>\n",
       "      <td>...</td>\n",
       "      <td>...</td>\n",
       "      <td>...</td>\n",
       "      <td>...</td>\n",
       "      <td>...</td>\n",
       "      <td>...</td>\n",
       "      <td>...</td>\n",
       "      <td>...</td>\n",
       "      <td>...</td>\n",
       "      <td>...</td>\n",
       "      <td>...</td>\n",
       "      <td>...</td>\n",
       "      <td>...</td>\n",
       "      <td>...</td>\n",
       "      <td>...</td>\n",
       "      <td>...</td>\n",
       "      <td>...</td>\n",
       "      <td>...</td>\n",
       "      <td>...</td>\n",
       "      <td>...</td>\n",
       "    </tr>\n",
       "    <tr>\n",
       "      <th>574940</th>\n",
       "      <td>0.070326</td>\n",
       "      <td>-0.759754</td>\n",
       "      <td>0.279611</td>\n",
       "      <td>-1.044439</td>\n",
       "      <td>-0.829872</td>\n",
       "      <td>-1.601608</td>\n",
       "      <td>0.854270</td>\n",
       "      <td>-1.117506</td>\n",
       "      <td>-0.929112</td>\n",
       "      <td>-0.444509</td>\n",
       "      <td>0.322408</td>\n",
       "      <td>0.656701</td>\n",
       "      <td>-1.309212</td>\n",
       "      <td>-1.001627</td>\n",
       "      <td>0.292463</td>\n",
       "      <td>0.287935</td>\n",
       "      <td>-1.902655</td>\n",
       "      <td>0.590561</td>\n",
       "      <td>1.457859</td>\n",
       "      <td>0.541703</td>\n",
       "    </tr>\n",
       "    <tr>\n",
       "      <th>574941</th>\n",
       "      <td>0.045559</td>\n",
       "      <td>-0.740360</td>\n",
       "      <td>0.311259</td>\n",
       "      <td>-1.014798</td>\n",
       "      <td>-0.851557</td>\n",
       "      <td>-1.607920</td>\n",
       "      <td>0.870208</td>\n",
       "      <td>-1.100313</td>\n",
       "      <td>-0.996778</td>\n",
       "      <td>-0.490566</td>\n",
       "      <td>0.369030</td>\n",
       "      <td>0.618153</td>\n",
       "      <td>-1.434796</td>\n",
       "      <td>-0.969906</td>\n",
       "      <td>0.314339</td>\n",
       "      <td>0.326326</td>\n",
       "      <td>-1.902869</td>\n",
       "      <td>0.599804</td>\n",
       "      <td>1.471826</td>\n",
       "      <td>0.533437</td>\n",
       "    </tr>\n",
       "    <tr>\n",
       "      <th>574942</th>\n",
       "      <td>0.041674</td>\n",
       "      <td>-0.741939</td>\n",
       "      <td>0.301660</td>\n",
       "      <td>-0.963200</td>\n",
       "      <td>-0.925905</td>\n",
       "      <td>-1.605422</td>\n",
       "      <td>0.848956</td>\n",
       "      <td>-1.089203</td>\n",
       "      <td>-1.002272</td>\n",
       "      <td>-0.314143</td>\n",
       "      <td>0.249436</td>\n",
       "      <td>0.618153</td>\n",
       "      <td>-1.138775</td>\n",
       "      <td>-1.037499</td>\n",
       "      <td>0.299698</td>\n",
       "      <td>0.335326</td>\n",
       "      <td>-1.901584</td>\n",
       "      <td>0.620099</td>\n",
       "      <td>1.470549</td>\n",
       "      <td>0.399410</td>\n",
       "    </tr>\n",
       "    <tr>\n",
       "      <th>574943</th>\n",
       "      <td>0.017150</td>\n",
       "      <td>-0.722432</td>\n",
       "      <td>0.389432</td>\n",
       "      <td>-1.007662</td>\n",
       "      <td>-0.894307</td>\n",
       "      <td>-1.610813</td>\n",
       "      <td>0.864896</td>\n",
       "      <td>-1.070422</td>\n",
       "      <td>-0.900484</td>\n",
       "      <td>-0.429677</td>\n",
       "      <td>0.402138</td>\n",
       "      <td>0.561656</td>\n",
       "      <td>-1.414933</td>\n",
       "      <td>-1.027123</td>\n",
       "      <td>0.330572</td>\n",
       "      <td>0.374099</td>\n",
       "      <td>-1.901015</td>\n",
       "      <td>0.695652</td>\n",
       "      <td>1.484620</td>\n",
       "      <td>0.467900</td>\n",
       "    </tr>\n",
       "    <tr>\n",
       "      <th>574944</th>\n",
       "      <td>0.030262</td>\n",
       "      <td>-0.724462</td>\n",
       "      <td>0.378849</td>\n",
       "      <td>-1.001624</td>\n",
       "      <td>-0.881296</td>\n",
       "      <td>-1.613970</td>\n",
       "      <td>0.872298</td>\n",
       "      <td>-1.092377</td>\n",
       "      <td>-0.895279</td>\n",
       "      <td>-0.544430</td>\n",
       "      <td>0.454841</td>\n",
       "      <td>0.560475</td>\n",
       "      <td>-1.503996</td>\n",
       "      <td>-0.994512</td>\n",
       "      <td>0.314339</td>\n",
       "      <td>0.349115</td>\n",
       "      <td>-1.902905</td>\n",
       "      <td>0.674440</td>\n",
       "      <td>1.483514</td>\n",
       "      <td>0.531666</td>\n",
       "    </tr>\n",
       "  </tbody>\n",
       "</table>\n",
       "<p>574945 rows × 20 columns</p>\n",
       "</div>"
      ],
      "text/plain": [
       "           rot_z     rot_y     thm_2     tof_5     tof_2     rot_x     thm_4  \\\n",
       "0      -1.238540 -0.716343  1.184774  0.404678  0.148727 -0.508525  0.367246   \n",
       "1      -1.267920 -0.681840  1.197089  0.433771  0.199531 -0.476437  0.386687   \n",
       "2      -1.349747 -0.549352  0.976524  0.490583  0.371769 -0.334147  0.423273   \n",
       "3      -1.390175 -0.329928  0.063125  0.532300  0.644067 -0.312448  0.484648   \n",
       "4      -1.447599 -0.007333 -0.353110  0.684347  0.789974 -0.214344  0.592139   \n",
       "...          ...       ...       ...       ...       ...       ...       ...   \n",
       "574940  0.070326 -0.759754  0.279611 -1.044439 -0.829872 -1.601608  0.854270   \n",
       "574941  0.045559 -0.740360  0.311259 -1.014798 -0.851557 -1.607920  0.870208   \n",
       "574942  0.041674 -0.741939  0.301660 -0.963200 -0.925905 -1.605422  0.848956   \n",
       "574943  0.017150 -0.722432  0.389432 -1.007662 -0.894307 -1.610813  0.864896   \n",
       "574944  0.030262 -0.724462  0.378849 -1.001624 -0.881296 -1.613970  0.872298   \n",
       "\n",
       "           rot_w     tof_4     acc_y     acc_x     thm_5     acc_z     tof_1  \\\n",
       "0      -0.997151 -0.016778  0.884130  0.872408  0.477938  0.625816  0.339571   \n",
       "1      -0.957737  0.002596  0.884130  0.918353  0.492298  0.588012  0.349948   \n",
       "2      -0.630264  0.026308  0.723320  0.706192  0.510858  0.964766  0.398864   \n",
       "3      -0.290093  0.459197  0.347835  0.858218  0.341522  1.134561  0.621508   \n",
       "4      -0.134027  0.731018 -0.302433  0.679165  0.334854  1.655481  1.073910   \n",
       "...          ...       ...       ...       ...       ...       ...       ...   \n",
       "574940 -1.117506 -0.929112 -0.444509  0.322408  0.656701 -1.309212 -1.001627   \n",
       "574941 -1.100313 -0.996778 -0.490566  0.369030  0.618153 -1.434796 -0.969906   \n",
       "574942 -1.089203 -1.002272 -0.314143  0.249436  0.618153 -1.138775 -1.037499   \n",
       "574943 -1.070422 -0.900484 -0.429677  0.402138  0.561656 -1.414933 -1.027123   \n",
       "574944 -1.092377 -0.895279 -0.544430  0.454841  0.560475 -1.503996 -0.994512   \n",
       "\n",
       "           thm_3   euler_y   euler_z     thm_1   euler_x     tof_3  \n",
       "0       0.633442  0.883372  0.339185  0.502318  0.191240 -0.454938  \n",
       "1       0.681437  0.860138  0.297587  0.593105  0.150843 -0.337148  \n",
       "2       0.741405  0.754947  0.140441  0.821468 -0.047236  0.022423  \n",
       "3       0.584725  0.714206 -0.051374  0.868207 -0.231340  0.543179  \n",
       "4       0.081696  0.418963 -0.252579  0.587718 -0.342103  0.870276  \n",
       "...          ...       ...       ...       ...       ...       ...  \n",
       "574940  0.292463  0.287935 -1.902655  0.590561  1.457859  0.541703  \n",
       "574941  0.314339  0.326326 -1.902869  0.599804  1.471826  0.533437  \n",
       "574942  0.299698  0.335326 -1.901584  0.620099  1.470549  0.399410  \n",
       "574943  0.330572  0.374099 -1.901015  0.695652  1.484620  0.467900  \n",
       "574944  0.314339  0.349115 -1.902905  0.674440  1.483514  0.531666  \n",
       "\n",
       "[574945 rows x 20 columns]"
      ]
     },
     "execution_count": 23,
     "metadata": {},
     "output_type": "execute_result"
    }
   ],
   "source": [
    "df[feature_cols]"
   ]
  },
  {
   "cell_type": "markdown",
   "id": "b2775c75",
   "metadata": {},
   "source": [
    "## Dataset upload\n",
    "Optionally upload the dataset to kaggle."
   ]
  },
  {
   "cell_type": "code",
   "execution_count": 24,
   "id": "d0b40895",
   "metadata": {},
   "outputs": [
    {
     "name": "stdout",
     "output_type": "stream",
     "text": [
      "Kaggle credentials successfully validated.\n",
      "Uploading Dataset https://www.kaggle.com/datasets/mauroabidalcarrer/prepocessed-cmi-2025 ...\n",
      "Starting upload for file preprocessed_dataset/full_dataset_meta_data.json\n"
     ]
    },
    {
     "name": "stderr",
     "output_type": "stream",
     "text": [
      "Uploading: 100%|██████████| 2.51k/2.51k [00:00<00:00, 6.74kB/s]"
     ]
    },
    {
     "name": "stdout",
     "output_type": "stream",
     "text": [
      "Upload successful: preprocessed_dataset/full_dataset_meta_data.json (2KB)\n",
      "Starting upload for file preprocessed_dataset/full_dataset/X.npy\n"
     ]
    },
    {
     "name": "stderr",
     "output_type": "stream",
     "text": [
      "\n",
      "Uploading: 100%|██████████| 82.8M/82.8M [00:36<00:00, 2.26MB/s]"
     ]
    },
    {
     "name": "stdout",
     "output_type": "stream",
     "text": [
      "Upload successful: preprocessed_dataset/full_dataset/X.npy (79MB)\n",
      "Starting upload for file preprocessed_dataset/full_dataset/Y.npy\n"
     ]
    },
    {
     "name": "stderr",
     "output_type": "stream",
     "text": [
      "\n",
      "Uploading: 100%|██████████| 587k/587k [00:00<00:00, 629kB/s] "
     ]
    },
    {
     "name": "stdout",
     "output_type": "stream",
     "text": [
      "Upload successful: preprocessed_dataset/full_dataset/Y.npy (573KB)\n",
      "Starting upload for file preprocessed_dataset/fold_4/train_X.npy\n"
     ]
    },
    {
     "name": "stderr",
     "output_type": "stream",
     "text": [
      "\n",
      "Uploading: 100%|██████████| 65.2M/65.2M [00:32<00:00, 2.01MB/s]"
     ]
    },
    {
     "name": "stdout",
     "output_type": "stream",
     "text": [
      "Upload successful: preprocessed_dataset/fold_4/train_X.npy (62MB)\n",
      "Starting upload for file preprocessed_dataset/fold_4/validation_Y.npy\n"
     ]
    },
    {
     "name": "stderr",
     "output_type": "stream",
     "text": [
      "\n",
      "Uploading: 100%|██████████| 118k/118k [00:00<00:00, 209kB/s]"
     ]
    },
    {
     "name": "stdout",
     "output_type": "stream",
     "text": [
      "Upload successful: preprocessed_dataset/fold_4/validation_Y.npy (115KB)\n",
      "Starting upload for file preprocessed_dataset/fold_4/validation_X.npy\n"
     ]
    },
    {
     "name": "stderr",
     "output_type": "stream",
     "text": [
      "\n",
      "Uploading: 100%|██████████| 16.3M/16.3M [00:07<00:00, 2.20MB/s]"
     ]
    },
    {
     "name": "stdout",
     "output_type": "stream",
     "text": [
      "Upload successful: preprocessed_dataset/fold_4/validation_X.npy (16MB)\n",
      "Starting upload for file preprocessed_dataset/fold_4/train_Y.npy\n"
     ]
    },
    {
     "name": "stderr",
     "output_type": "stream",
     "text": [
      "\n",
      "Uploading: 100%|██████████| 469k/469k [00:00<00:00, 538kB/s] "
     ]
    },
    {
     "name": "stdout",
     "output_type": "stream",
     "text": [
      "Upload successful: preprocessed_dataset/fold_4/train_Y.npy (458KB)\n",
      "Starting upload for file preprocessed_dataset/fold_2/train_X.npy\n"
     ]
    },
    {
     "name": "stderr",
     "output_type": "stream",
     "text": [
      "\n",
      "Uploading: 100%|██████████| 65.2M/65.2M [00:27<00:00, 2.34MB/s]"
     ]
    },
    {
     "name": "stdout",
     "output_type": "stream",
     "text": [
      "Upload successful: preprocessed_dataset/fold_2/train_X.npy (62MB)\n",
      "Starting upload for file preprocessed_dataset/fold_2/validation_Y.npy\n"
     ]
    },
    {
     "name": "stderr",
     "output_type": "stream",
     "text": [
      "\n",
      "Uploading: 100%|██████████| 118k/118k [00:00<00:00, 206kB/s]"
     ]
    },
    {
     "name": "stdout",
     "output_type": "stream",
     "text": [
      "Upload successful: preprocessed_dataset/fold_2/validation_Y.npy (115KB)\n",
      "Starting upload for file preprocessed_dataset/fold_2/validation_X.npy\n"
     ]
    },
    {
     "name": "stderr",
     "output_type": "stream",
     "text": [
      "\n",
      "Uploading: 100%|██████████| 16.3M/16.3M [00:09<00:00, 1.80MB/s]"
     ]
    },
    {
     "name": "stdout",
     "output_type": "stream",
     "text": [
      "Upload successful: preprocessed_dataset/fold_2/validation_X.npy (16MB)\n",
      "Starting upload for file preprocessed_dataset/fold_2/train_Y.npy\n"
     ]
    },
    {
     "name": "stderr",
     "output_type": "stream",
     "text": [
      "\n",
      "Uploading: 100%|██████████| 469k/469k [00:01<00:00, 452kB/s] "
     ]
    },
    {
     "name": "stdout",
     "output_type": "stream",
     "text": [
      "Upload successful: preprocessed_dataset/fold_2/train_Y.npy (458KB)\n",
      "Starting upload for file preprocessed_dataset/fold_1/train_X.npy\n"
     ]
    },
    {
     "name": "stderr",
     "output_type": "stream",
     "text": [
      "\n",
      "Uploading: 100%|██████████| 67.8M/67.8M [00:29<00:00, 2.29MB/s]"
     ]
    },
    {
     "name": "stdout",
     "output_type": "stream",
     "text": [
      "Upload successful: preprocessed_dataset/fold_1/train_X.npy (65MB)\n",
      "Starting upload for file preprocessed_dataset/fold_1/validation_Y.npy\n"
     ]
    },
    {
     "name": "stderr",
     "output_type": "stream",
     "text": [
      "\n",
      "Uploading: 100%|██████████| 118k/118k [00:00<00:00, 205kB/s]"
     ]
    },
    {
     "name": "stdout",
     "output_type": "stream",
     "text": [
      "Upload successful: preprocessed_dataset/fold_1/validation_Y.npy (115KB)\n",
      "Starting upload for file preprocessed_dataset/fold_1/validation_X.npy\n"
     ]
    },
    {
     "name": "stderr",
     "output_type": "stream",
     "text": [
      "\n",
      "Uploading: 100%|██████████| 17.0M/17.0M [00:07<00:00, 2.21MB/s]"
     ]
    },
    {
     "name": "stdout",
     "output_type": "stream",
     "text": [
      "Upload successful: preprocessed_dataset/fold_1/validation_X.npy (16MB)\n",
      "Starting upload for file preprocessed_dataset/fold_1/train_Y.npy\n"
     ]
    },
    {
     "name": "stderr",
     "output_type": "stream",
     "text": [
      "\n",
      "Uploading: 100%|██████████| 469k/469k [00:00<00:00, 581kB/s] "
     ]
    },
    {
     "name": "stdout",
     "output_type": "stream",
     "text": [
      "Upload successful: preprocessed_dataset/fold_1/train_Y.npy (458KB)\n",
      "Starting upload for file preprocessed_dataset/fold_3/train_X.npy\n"
     ]
    },
    {
     "name": "stderr",
     "output_type": "stream",
     "text": [
      "\n",
      "Uploading: 100%|██████████| 67.3M/67.3M [00:27<00:00, 2.46MB/s]"
     ]
    },
    {
     "name": "stdout",
     "output_type": "stream",
     "text": [
      "Upload successful: preprocessed_dataset/fold_3/train_X.npy (64MB)\n",
      "Starting upload for file preprocessed_dataset/fold_3/validation_Y.npy\n"
     ]
    },
    {
     "name": "stderr",
     "output_type": "stream",
     "text": [
      "\n",
      "Uploading: 100%|██████████| 118k/118k [00:00<00:00, 199kB/s]"
     ]
    },
    {
     "name": "stdout",
     "output_type": "stream",
     "text": [
      "Upload successful: preprocessed_dataset/fold_3/validation_Y.npy (115KB)\n",
      "Starting upload for file preprocessed_dataset/fold_3/validation_X.npy\n"
     ]
    },
    {
     "name": "stderr",
     "output_type": "stream",
     "text": [
      "\n",
      "Uploading: 100%|██████████| 16.8M/16.8M [00:09<00:00, 1.86MB/s]"
     ]
    },
    {
     "name": "stdout",
     "output_type": "stream",
     "text": [
      "Upload successful: preprocessed_dataset/fold_3/validation_X.npy (16MB)\n",
      "Starting upload for file preprocessed_dataset/fold_3/train_Y.npy\n"
     ]
    },
    {
     "name": "stderr",
     "output_type": "stream",
     "text": [
      "\n",
      "Uploading: 100%|██████████| 469k/469k [00:00<00:00, 563kB/s] "
     ]
    },
    {
     "name": "stdout",
     "output_type": "stream",
     "text": [
      "Upload successful: preprocessed_dataset/fold_3/train_Y.npy (458KB)\n",
      "Starting upload for file preprocessed_dataset/fold_0/train_X.npy\n"
     ]
    },
    {
     "name": "stderr",
     "output_type": "stream",
     "text": [
      "\n",
      "Uploading: 100%|██████████| 64.7M/64.7M [00:32<00:00, 2.00MB/s]"
     ]
    },
    {
     "name": "stdout",
     "output_type": "stream",
     "text": [
      "Upload successful: preprocessed_dataset/fold_0/train_X.npy (62MB)\n",
      "Starting upload for file preprocessed_dataset/fold_0/validation_Y.npy\n"
     ]
    },
    {
     "name": "stderr",
     "output_type": "stream",
     "text": [
      "\n",
      "Uploading: 100%|██████████| 118k/118k [00:00<00:00, 158kB/s] "
     ]
    },
    {
     "name": "stdout",
     "output_type": "stream",
     "text": [
      "Upload successful: preprocessed_dataset/fold_0/validation_Y.npy (115KB)\n",
      "Starting upload for file preprocessed_dataset/fold_0/validation_X.npy\n"
     ]
    },
    {
     "name": "stderr",
     "output_type": "stream",
     "text": [
      "\n",
      "Uploading: 100%|██████████| 16.2M/16.2M [00:10<00:00, 1.62MB/s]"
     ]
    },
    {
     "name": "stdout",
     "output_type": "stream",
     "text": [
      "Upload successful: preprocessed_dataset/fold_0/validation_X.npy (15MB)\n",
      "Starting upload for file preprocessed_dataset/fold_0/train_Y.npy\n"
     ]
    },
    {
     "name": "stderr",
     "output_type": "stream",
     "text": [
      "\n",
      "Uploading: 100%|██████████| 469k/469k [00:00<00:00, 647kB/s] "
     ]
    },
    {
     "name": "stdout",
     "output_type": "stream",
     "text": [
      "Upload successful: preprocessed_dataset/fold_0/train_Y.npy (458KB)\n"
     ]
    },
    {
     "name": "stderr",
     "output_type": "stream",
     "text": [
      "\n"
     ]
    },
    {
     "name": "stdout",
     "output_type": "stream",
     "text": [
      "Your dataset has been created.\n",
      "Files are being processed...\n",
      "See at: https://www.kaggle.com/datasets/mauroabidalcarrer/prepocessed-cmi-2025\n"
     ]
    }
   ],
   "source": [
    "if input(\"Do you want to upload the  dataset to kaggle?[yes/no]\").lower() == \"yes\":\n",
    "    # Updaload the dataset\n",
    "    dataset_upload(\n",
    "        join(whoami()[\"username\"], \"prepocessed-cmi-2025\"),\n",
    "        \"preprocessed_dataset\",\n",
    "        version_notes=\"Preprocessed Child Mind Institue 2025 competition dataset.\"\n",
    "    )\n",
    "else:\n",
    "    print(\"Dataset has not been uploaded.\")"
   ]
  }
 ],
 "metadata": {
  "kernelspec": {
   "display_name": "CMI",
   "language": "python",
   "name": "python3"
  },
  "language_info": {
   "codemirror_mode": {
    "name": "ipython",
    "version": 3
   },
   "file_extension": ".py",
   "mimetype": "text/x-python",
   "name": "python",
   "nbconvert_exporter": "python",
   "pygments_lexer": "ipython3",
   "version": "3.11.5"
  }
 },
 "nbformat": 4,
 "nbformat_minor": 5
}
