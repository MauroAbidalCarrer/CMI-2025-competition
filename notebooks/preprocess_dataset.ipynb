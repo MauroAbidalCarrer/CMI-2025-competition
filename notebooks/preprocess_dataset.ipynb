{
 "cells": [
  {
   "cell_type": "markdown",
   "id": "7c1fbf88",
   "metadata": {},
   "source": [
    "# Dataset preprocessing\n",
    "\n",
    "The goal of this notebook is to create a preprocessed kaggle dataset out of the competition dataset.  \n",
    "For now, the preprocessing will be based on [this notebook](https://www.kaggle.com/code/vonmainstein/imu-tof).  \n",
    "It consists of the following steps:\n",
    "-   Set the appropriate dtypes (helps with RAM usage).\n",
    "-   Impute missing feature values with forward, backward and then 0 filling.\n",
    "-   Split the dataset into multiple cross validation folds.\n",
    "-   Standardize feature values.\n",
    "-   Pad/Truncate the sequences to the same length.  \n",
    "\n",
    "> Note:  \n",
    "> - Demographics data set will be ignored for now.  "
   ]
  },
  {
   "cell_type": "markdown",
   "id": "3e390dcd",
   "metadata": {},
   "source": [
    "## Setup"
   ]
  },
  {
   "cell_type": "markdown",
   "id": "67848297",
   "metadata": {},
   "source": [
    "### Imports"
   ]
  },
  {
   "cell_type": "code",
   "execution_count": 1,
   "id": "3b58565a",
   "metadata": {},
   "outputs": [],
   "source": [
    "import re\n",
    "import os\n",
    "import json\n",
    "import shutil\n",
    "import warnings\n",
    "from os.path import join\n",
    "from typing import Literal\n",
    "from functools import partial\n",
    "from tqdm.notebook import tqdm\n",
    "from itertools import repeat, starmap, product\n",
    "\n",
    "import numpy as np\n",
    "import pandas as pd\n",
    "from numpy import ndarray\n",
    "import plotly.express as px\n",
    "from numpy.linalg import norm\n",
    "from pandas import DataFrame as DF\n",
    "from scipy.spatial.transform import Rotation\n",
    "from sklearn.model_selection import StratifiedGroupKFold\n",
    "\n",
    "from kagglehub import whoami, competition_download, dataset_upload"
   ]
  },
  {
   "cell_type": "markdown",
   "id": "2102ea8c",
   "metadata": {},
   "source": [
    "### Supress performance warngings"
   ]
  },
  {
   "cell_type": "code",
   "execution_count": 2,
   "id": "fb820d2b",
   "metadata": {},
   "outputs": [],
   "source": [
    "warnings.filterwarnings(\n",
    "    \"ignore\",\n",
    "    message=(\n",
    "        \"DataFrame is highly fragmented.  This is usually the result of \"\n",
    "        \"calling `frame.insert` many times.*\"\n",
    "    ),\n",
    "    category=pd.errors.PerformanceWarning,\n",
    ")"
   ]
  },
  {
   "cell_type": "markdown",
   "id": "4386f64d",
   "metadata": {},
   "source": [
    "### Config"
   ]
  },
  {
   "cell_type": "code",
   "execution_count": 3,
   "id": "a522c427",
   "metadata": {},
   "outputs": [],
   "source": [
    "QUATERNION_COLS = ['rot_w', 'rot_x', 'rot_y', 'rot_z']\n",
    "GRAVITY_WORLD = np.array([0, 0, 9.81], \"float32\")\n",
    "RAW_ACCELRATION_COLS = [\"acc_x\", \"acc_y\", \"acc_z\"]\n",
    "LINEAR_ACC_COLS = [\"linear_\" + col for col in RAW_ACCELRATION_COLS] # Acceleration without gravity\n",
    "COMPETITION_HANDLE = \"cmi-detect-behavior-with-sensor-data\"\n",
    "CATEGORY_COLUMNS = [\n",
    "    'row_id',\n",
    "    'sequence_type',\n",
    "    'sequence_id',\n",
    "    'subject',\n",
    "    'orientation',\n",
    "    'behavior',\n",
    "    'phase',\n",
    "    'gesture',\n",
    "]\n",
    "META_DATA_COLUMNS = [\n",
    "    'row_id',\n",
    "    'sequence_type',\n",
    "    'sequence_id',\n",
    "    'sequence_counter',\n",
    "    'subject',\n",
    "    'orientation',\n",
    "    'behavior',\n",
    "    'phase',\n",
    "    'gesture',\n",
    "]\n",
    "DATASET_DF_DTYPES = {\n",
    "    \"acc_x\": \"float32\", \"acc_y\": \"float32\", \"acc_z\": \"float32\",\n",
    "    \"thm_1\":\"float32\", \"thm_2\":\"float32\", \"thm_3\":\"float32\", \"thm_4\":\"float32\", \"thm_5\":\"float32\",\n",
    "    \"sequence_counter\": \"int32\",\n",
    "    **{col: \"category\" for col in CATEGORY_COLUMNS},\n",
    "    **{f\"tof_{i_1}_v{i_2}\": \"float32\" for i_1, i_2 in product(range(1, 5), range(64))},\n",
    "}\n",
    "PREPROCESSED_DATASET_HANDLE = \"mauroabidalcarrer/prepocessed-cmi-2025\"\n",
    "# The quantile of the sequences len used to pad/truncate during preprocessing\n",
    "SEQUENCE_NORMED_LEN_QUANTILE = 0.95\n",
    "# SAMPLING_FREQUENCY = 10 #Hz\n",
    "N_FOLDS = 5\n",
    "VALIDATION_FRACTION = 0.2\n",
    "TARGET_NAMES = sorted([\n",
    "    \"Above ear - pull hair\",\n",
    "    \"Cheek - pinch skin\",\n",
    "    \"Eyebrow - pull hair\",\n",
    "    \"Eyelash - pull hair\",\n",
    "    \"Feel around in tray and pull out an object\",\n",
    "    \"Forehead - pull hairline\",\n",
    "    \"Forehead - scratch\",\n",
    "    \"Neck - pinch skin\",\n",
    "    \"Neck - scratch\",\n",
    "    \"Text on phone\",\n",
    "    \"Wave hello\",\n",
    "    \"Write name in air\",\n",
    "    \"Write name on leg\",\n",
    "    \"Drink from bottle/cup\",\n",
    "    \"Pinch knee/leg skin\",\n",
    "    \"Pull air toward your face\",\n",
    "    \"Scratch knee/leg skin\",\n",
    "    \"Glasses on/off\"\n",
    "])\n",
    "EPSILON=1e-8\n",
    "DELTA_ROTATION_ANGULAR_VELOCITY_COLS = [\"angular_vel_x\", \"angular_vel_y\", \"angular_vel_z\"]\n",
    "DELTA_ROTATION_AXES_COLS = [\"rotation_axis_x\", \"rotation_axis_y\", \"rotation_axis_z\"]\n",
    "EULER_ANGLES_COLS = [\"euler_x\", \"euler_y\", \"euler_z\"]\n",
    "pad_trunc_mode_type = Literal[\"pre\", \"center\", \"post\"]\n",
    "SEQ_PAD_TRUNC_MODE: pad_trunc_mode_type = \"pre\"\n",
    "DEFAULT_VERSION_NOTES = \"Preprocessed Child Mind Institue 2025 competition dataset.\"\n",
    "NB_COLS_PER_TOF_SENSOR = 64\n",
    "TOF_PATCH_SIZE = 2\n",
    "assert ((NB_COLS_PER_TOF_SENSOR // 2) % TOF_PATCH_SIZE) == 0, \"tof side len should be dividable by TOF_PATCH_SIZE!\""
   ]
  },
  {
   "cell_type": "markdown",
   "id": "f27f6677",
   "metadata": {},
   "source": [
    "### Define function to get the feature columns\n",
    "Feature columns change over time so it's better to have a function to get them than manually update a variable every time we add/remove features."
   ]
  },
  {
   "cell_type": "code",
   "execution_count": 4,
   "id": "e2db0953",
   "metadata": {},
   "outputs": [],
   "source": [
    "def get_feature_cols(df:DF) -> list[str]:\n",
    "    return sorted(list(set(df.columns) - set(META_DATA_COLUMNS) - set(TARGET_NAMES)))"
   ]
  },
  {
   "cell_type": "markdown",
   "id": "773eda72",
   "metadata": {},
   "source": [
    "### Load dataset\n",
    "Requires to be logged in if this notebook is not running on kaggle, go to [your settings](https://www.kaggle.com/settings) to create an access token and put it in `~/.kaggle/`."
   ]
  },
  {
   "cell_type": "code",
   "execution_count": 5,
   "id": "58b8bc22",
   "metadata": {},
   "outputs": [],
   "source": [
    "competition_dataset_path = competition_download(COMPETITION_HANDLE)\n",
    "df = pd.read_csv(join(competition_dataset_path, \"train.csv\"), dtype=DATASET_DF_DTYPES)"
   ]
  },
  {
   "cell_type": "code",
   "execution_count": 6,
   "id": "d2bcc17c",
   "metadata": {},
   "outputs": [
    {
     "data": {
      "text/plain": [
       "4"
      ]
     },
     "execution_count": 6,
     "metadata": {},
     "output_type": "execute_result"
    }
   ],
   "source": [
    "64 // 16"
   ]
  },
  {
   "cell_type": "markdown",
   "id": "c1924ec0",
   "metadata": {},
   "source": [
    "## Data preprocessing"
   ]
  },
  {
   "cell_type": "markdown",
   "id": "7aea88de",
   "metadata": {},
   "source": [
    "### Impute missing data\n",
    "Perform forward, backward and then filling of all NaN sequences."
   ]
  },
  {
   "cell_type": "code",
   "execution_count": 7,
   "id": "c2f0db28",
   "metadata": {},
   "outputs": [],
   "source": [
    "# Missing ToF values are already imputed by -1 which is inconvinient since we want all missing values to be NaN.    \n",
    "# So we replace them by NaN and then perform imputing.\n",
    "def get_fillna_val_per_feature_col(df:DF) -> dict:\n",
    "    return {col: 1.0 if col == 'rot_w' else 0 for col in get_feature_cols(df)}\n",
    "\n",
    "def imputed_features(df:DF) -> DF:\n",
    "    # Missing ToF values are already imputed by -1 which is inconvinient since we want all missing values to be NaN.    \n",
    "    # So we replace them by NaN and then perform imputing.  \n",
    "    tof_vals_to_nan = {col: -1.0 for col in df.columns if col.startswith(\"tof\")}\n",
    "    # fillna_val_per_col = {col: 1.0 if col == 'rot_w' else 0 for col in df.columns}\n",
    "\n",
    "    df[get_feature_cols(df)] = (\n",
    "        df\n",
    "        .loc[:, get_feature_cols(df)]\n",
    "        # df.replace with np.nan sets dtype to floar64 so we set it back to float32\n",
    "        .replace(tof_vals_to_nan, value=np.nan)\n",
    "        .astype(\"float32\")\n",
    "        .groupby(df[\"sequence_id\"], observed=True, as_index=False)\n",
    "        .ffill()\n",
    "        .groupby(df[\"sequence_id\"], observed=True, as_index=False)\n",
    "        .bfill()\n",
    "        # In case there are only nan in the column in the sequence\n",
    "        .fillna(get_fillna_val_per_feature_col(df))\n",
    "    )\n",
    "    return df\n",
    "\n",
    "df = imputed_features(df)"
   ]
  },
  {
   "cell_type": "markdown",
   "id": "7bba456e",
   "metadata": {},
   "source": [
    "### Standardize ToF sensors columns names\n",
    "ToF sensors have `tof_{sensor_idx}_v{sensor_captor_idx}` nomenclature where `sensor_captor_idx` can be 1 digit if it's less than 10 or two if it's more.   \n",
    "When sorting the features in alphabetical order the tof_x_v10 will end up before tof_x_v2.  \n",
    "This in turn can cause issues if we try to reshape the input data to form a 3d input.  \n",
    "To fix this we simply insert a 0 before the digit in the `sensor_captor_idx` lower than 10.  "
   ]
  },
  {
   "cell_type": "code",
   "execution_count": 8,
   "id": "0486ebfe",
   "metadata": {},
   "outputs": [],
   "source": [
    "def standardize_tof_cols_names(df: DF) -> DF:\n",
    "    renamed_cols = {}\n",
    "    pattern = re.compile(r\"^(tof_\\d_v)(\\d)$\")  # match 'tof_X_vY' where Y is a single digit\n",
    "\n",
    "    for col in df.columns:\n",
    "        match = pattern.match(col)\n",
    "        if match:\n",
    "            prefix, version = match.groups()\n",
    "            new_col = f\"{prefix}0{version}\"\n",
    "            renamed_cols[col] = new_col\n",
    "\n",
    "    return df.rename(columns=renamed_cols)\n",
    "\n",
    "df = standardize_tof_cols_names(df)"
   ]
  },
  {
   "cell_type": "markdown",
   "id": "ad044a52",
   "metadata": {},
   "source": [
    "### Norm quaternions\n",
    "This allows us to parse quaternions with `scipy.spatial.transform.Rotation`."
   ]
  },
  {
   "cell_type": "code",
   "execution_count": 9,
   "id": "c99bce0b",
   "metadata": {},
   "outputs": [],
   "source": [
    "def norm_quat_rotations(df:DF) -> DF:\n",
    "    df[QUATERNION_COLS] /= np.linalg.norm(df[QUATERNION_COLS], axis=1, keepdims=True)\n",
    "    return df"
   ]
  },
  {
   "cell_type": "markdown",
   "id": "606a87c4",
   "metadata": {},
   "source": [
    "### Linear acceleration\n",
    "Remove gravity from the acceleration features."
   ]
  },
  {
   "cell_type": "code",
   "execution_count": 10,
   "id": "5d87de25",
   "metadata": {},
   "outputs": [],
   "source": [
    "# Removes gravity from the acceleration features\n",
    "def add_linear_acc_cols(df:DF) -> DF:\n",
    "    # Vectorized version of https://www.kaggle.com/code/wasupandceacar/lb-0-82-5fold-single-bert-model#Dataset `remove_gravity_from_acc`\n",
    "    rotations:Rotation = Rotation.from_quat(df[QUATERNION_COLS])\n",
    "    gravity_sensor_frame = rotations.apply(GRAVITY_WORLD, inverse=True).astype(\"float32\")\n",
    "    df[LINEAR_ACC_COLS] = df[RAW_ACCELRATION_COLS] - gravity_sensor_frame\n",
    "    return df\n",
    "\n",
    "df = add_linear_acc_cols(df)"
   ]
  },
  {
   "cell_type": "markdown",
   "id": "f1d709e7",
   "metadata": {},
   "source": [
    "### Accelerations magnitudes\n",
    "Add magnitue (norm) of both  raw acceleration and linear accelration."
   ]
  },
  {
   "cell_type": "code",
   "execution_count": 11,
   "id": "9fdf04ef",
   "metadata": {},
   "outputs": [],
   "source": [
    "def add_acc_magnitude(df:DF, acc_cols:list[str], acc_mag_col_name:str) -> DF:\n",
    "    return df.assign(**{acc_mag_col_name: np.linalg.norm(df.loc[:, acc_cols], axis=1)})\n",
    "\n",
    "df = add_acc_magnitude(df, RAW_ACCELRATION_COLS, \"acc_mag\")\n",
    "df = add_acc_magnitude(df, LINEAR_ACC_COLS, \"linear_acc_mag\")"
   ]
  },
  {
   "cell_type": "markdown",
   "id": "7d92b38a",
   "metadata": {},
   "source": [
    "### Quaternion angle magnitude\n",
    "Refered to as \"rotation angle\" in top notebooks."
   ]
  },
  {
   "cell_type": "code",
   "execution_count": 12,
   "id": "79aac44c",
   "metadata": {},
   "outputs": [],
   "source": [
    "def add_quat_angle_mag(df:DF) -> DF:\n",
    "    return df.assign(quat_rot_mag=np.arccos(df[\"rot_w\"]) * 2)\n",
    "\n",
    "df = add_quat_angle_mag(df)"
   ]
  },
  {
   "cell_type": "markdown",
   "id": "7127f2da",
   "metadata": {},
   "source": [
    "### Angular velocity\n",
    "Compute the axis of the rotation difference and its angular magnutide.  \n",
    "Top notebooks scale the vector by the angular magnitude.  \n",
    "I will also include the magnitude and unit axis vector in case they turn out to be more informative.   "
   ]
  },
  {
   "cell_type": "code",
   "execution_count": 13,
   "id": "9c6cf592",
   "metadata": {},
   "outputs": [],
   "source": [
    "def add_angular_velocity_features(df:DF) -> DF:\n",
    "    rotations = Rotation.from_quat(df[QUATERNION_COLS])\n",
    "    delta_rotations = rotations[1:] * rotations[:-1].inv()\n",
    "    delta_rot_velocity = delta_rotations.as_rotvec()\n",
    "    # Add extra line to avoid shape mismatch\n",
    "    delta_rot_velocity = np.vstack((np.zeros((1, 3)), delta_rot_velocity))\n",
    "    delta_rot_magnitude = norm(delta_rot_velocity, axis=1, keepdims=True)\n",
    "    delta_rot_axes = delta_rot_velocity / (delta_rot_magnitude + EPSILON)\n",
    "    df[DELTA_ROTATION_ANGULAR_VELOCITY_COLS] = delta_rot_velocity\n",
    "    df[DELTA_ROTATION_AXES_COLS] = delta_rot_axes\n",
    "    df[\"delta_rot_mag\"] = delta_rot_magnitude.squeeze()\n",
    "\n",
    "    return df\n",
    "\n",
    "df = add_angular_velocity_features(df)"
   ]
  },
  {
   "cell_type": "markdown",
   "id": "6ae43d1a",
   "metadata": {},
   "source": [
    "### Euler angles from quaternions"
   ]
  },
  {
   "cell_type": "code",
   "execution_count": 14,
   "id": "c99bce0b",
   "metadata": {},
   "outputs": [],
   "source": [
    "def rot_euler_angles(df:DF) -> ndarray:\n",
    "    df[EULER_ANGLES_COLS] = (\n",
    "        Rotation\n",
    "        .from_quat(df[QUATERNION_COLS])\n",
    "        .as_euler(\"xyz\")\n",
    "        .squeeze()\n",
    "    )\n",
    "    return df\n",
    "\n",
    "df = rot_euler_angles(df)"
   ]
  },
  {
   "cell_type": "markdown",
   "id": "18979983",
   "metadata": {},
   "source": [
    "### One hot encode target values."
   ]
  },
  {
   "cell_type": "code",
   "execution_count": 15,
   "id": "05661625",
   "metadata": {},
   "outputs": [
    {
     "data": {
      "text/html": [
       "<div>\n",
       "<style scoped>\n",
       "    .dataframe tbody tr th:only-of-type {\n",
       "        vertical-align: middle;\n",
       "    }\n",
       "\n",
       "    .dataframe tbody tr th {\n",
       "        vertical-align: top;\n",
       "    }\n",
       "\n",
       "    .dataframe thead th {\n",
       "        text-align: right;\n",
       "    }\n",
       "</style>\n",
       "<table border=\"1\" class=\"dataframe\">\n",
       "  <thead>\n",
       "    <tr style=\"text-align: right;\">\n",
       "      <th></th>\n",
       "      <th>row_id</th>\n",
       "      <th>sequence_type</th>\n",
       "      <th>sequence_id</th>\n",
       "      <th>sequence_counter</th>\n",
       "      <th>subject</th>\n",
       "      <th>orientation</th>\n",
       "      <th>behavior</th>\n",
       "      <th>phase</th>\n",
       "      <th>gesture</th>\n",
       "      <th>acc_x</th>\n",
       "      <th>...</th>\n",
       "      <th>Glasses on/off</th>\n",
       "      <th>Neck - pinch skin</th>\n",
       "      <th>Neck - scratch</th>\n",
       "      <th>Pinch knee/leg skin</th>\n",
       "      <th>Pull air toward your face</th>\n",
       "      <th>Scratch knee/leg skin</th>\n",
       "      <th>Text on phone</th>\n",
       "      <th>Wave hello</th>\n",
       "      <th>Write name in air</th>\n",
       "      <th>Write name on leg</th>\n",
       "    </tr>\n",
       "  </thead>\n",
       "  <tbody>\n",
       "    <tr>\n",
       "      <th>0</th>\n",
       "      <td>SEQ_000007_000000</td>\n",
       "      <td>Target</td>\n",
       "      <td>SEQ_000007</td>\n",
       "      <td>0</td>\n",
       "      <td>SUBJ_059520</td>\n",
       "      <td>Seated Lean Non Dom - FACE DOWN</td>\n",
       "      <td>Relaxes and moves hand to target location</td>\n",
       "      <td>Transition</td>\n",
       "      <td>Cheek - pinch skin</td>\n",
       "      <td>6.683594</td>\n",
       "      <td>...</td>\n",
       "      <td>False</td>\n",
       "      <td>False</td>\n",
       "      <td>False</td>\n",
       "      <td>False</td>\n",
       "      <td>False</td>\n",
       "      <td>False</td>\n",
       "      <td>False</td>\n",
       "      <td>False</td>\n",
       "      <td>False</td>\n",
       "      <td>False</td>\n",
       "    </tr>\n",
       "    <tr>\n",
       "      <th>1</th>\n",
       "      <td>SEQ_000007_000001</td>\n",
       "      <td>Target</td>\n",
       "      <td>SEQ_000007</td>\n",
       "      <td>1</td>\n",
       "      <td>SUBJ_059520</td>\n",
       "      <td>Seated Lean Non Dom - FACE DOWN</td>\n",
       "      <td>Relaxes and moves hand to target location</td>\n",
       "      <td>Transition</td>\n",
       "      <td>Cheek - pinch skin</td>\n",
       "      <td>6.949219</td>\n",
       "      <td>...</td>\n",
       "      <td>False</td>\n",
       "      <td>False</td>\n",
       "      <td>False</td>\n",
       "      <td>False</td>\n",
       "      <td>False</td>\n",
       "      <td>False</td>\n",
       "      <td>False</td>\n",
       "      <td>False</td>\n",
       "      <td>False</td>\n",
       "      <td>False</td>\n",
       "    </tr>\n",
       "    <tr>\n",
       "      <th>2</th>\n",
       "      <td>SEQ_000007_000002</td>\n",
       "      <td>Target</td>\n",
       "      <td>SEQ_000007</td>\n",
       "      <td>2</td>\n",
       "      <td>SUBJ_059520</td>\n",
       "      <td>Seated Lean Non Dom - FACE DOWN</td>\n",
       "      <td>Relaxes and moves hand to target location</td>\n",
       "      <td>Transition</td>\n",
       "      <td>Cheek - pinch skin</td>\n",
       "      <td>5.722656</td>\n",
       "      <td>...</td>\n",
       "      <td>False</td>\n",
       "      <td>False</td>\n",
       "      <td>False</td>\n",
       "      <td>False</td>\n",
       "      <td>False</td>\n",
       "      <td>False</td>\n",
       "      <td>False</td>\n",
       "      <td>False</td>\n",
       "      <td>False</td>\n",
       "      <td>False</td>\n",
       "    </tr>\n",
       "    <tr>\n",
       "      <th>3</th>\n",
       "      <td>SEQ_000007_000003</td>\n",
       "      <td>Target</td>\n",
       "      <td>SEQ_000007</td>\n",
       "      <td>3</td>\n",
       "      <td>SUBJ_059520</td>\n",
       "      <td>Seated Lean Non Dom - FACE DOWN</td>\n",
       "      <td>Relaxes and moves hand to target location</td>\n",
       "      <td>Transition</td>\n",
       "      <td>Cheek - pinch skin</td>\n",
       "      <td>6.601562</td>\n",
       "      <td>...</td>\n",
       "      <td>False</td>\n",
       "      <td>False</td>\n",
       "      <td>False</td>\n",
       "      <td>False</td>\n",
       "      <td>False</td>\n",
       "      <td>False</td>\n",
       "      <td>False</td>\n",
       "      <td>False</td>\n",
       "      <td>False</td>\n",
       "      <td>False</td>\n",
       "    </tr>\n",
       "    <tr>\n",
       "      <th>4</th>\n",
       "      <td>SEQ_000007_000004</td>\n",
       "      <td>Target</td>\n",
       "      <td>SEQ_000007</td>\n",
       "      <td>4</td>\n",
       "      <td>SUBJ_059520</td>\n",
       "      <td>Seated Lean Non Dom - FACE DOWN</td>\n",
       "      <td>Relaxes and moves hand to target location</td>\n",
       "      <td>Transition</td>\n",
       "      <td>Cheek - pinch skin</td>\n",
       "      <td>5.566406</td>\n",
       "      <td>...</td>\n",
       "      <td>False</td>\n",
       "      <td>False</td>\n",
       "      <td>False</td>\n",
       "      <td>False</td>\n",
       "      <td>False</td>\n",
       "      <td>False</td>\n",
       "      <td>False</td>\n",
       "      <td>False</td>\n",
       "      <td>False</td>\n",
       "      <td>False</td>\n",
       "    </tr>\n",
       "    <tr>\n",
       "      <th>...</th>\n",
       "      <td>...</td>\n",
       "      <td>...</td>\n",
       "      <td>...</td>\n",
       "      <td>...</td>\n",
       "      <td>...</td>\n",
       "      <td>...</td>\n",
       "      <td>...</td>\n",
       "      <td>...</td>\n",
       "      <td>...</td>\n",
       "      <td>...</td>\n",
       "      <td>...</td>\n",
       "      <td>...</td>\n",
       "      <td>...</td>\n",
       "      <td>...</td>\n",
       "      <td>...</td>\n",
       "      <td>...</td>\n",
       "      <td>...</td>\n",
       "      <td>...</td>\n",
       "      <td>...</td>\n",
       "      <td>...</td>\n",
       "      <td>...</td>\n",
       "    </tr>\n",
       "    <tr>\n",
       "      <th>574940</th>\n",
       "      <td>SEQ_065531_000048</td>\n",
       "      <td>Non-Target</td>\n",
       "      <td>SEQ_065531</td>\n",
       "      <td>48</td>\n",
       "      <td>SUBJ_039498</td>\n",
       "      <td>Seated Lean Non Dom - FACE DOWN</td>\n",
       "      <td>Performs gesture</td>\n",
       "      <td>Gesture</td>\n",
       "      <td>Write name on leg</td>\n",
       "      <td>3.503906</td>\n",
       "      <td>...</td>\n",
       "      <td>False</td>\n",
       "      <td>False</td>\n",
       "      <td>False</td>\n",
       "      <td>False</td>\n",
       "      <td>False</td>\n",
       "      <td>False</td>\n",
       "      <td>False</td>\n",
       "      <td>False</td>\n",
       "      <td>False</td>\n",
       "      <td>True</td>\n",
       "    </tr>\n",
       "    <tr>\n",
       "      <th>574941</th>\n",
       "      <td>SEQ_065531_000049</td>\n",
       "      <td>Non-Target</td>\n",
       "      <td>SEQ_065531</td>\n",
       "      <td>49</td>\n",
       "      <td>SUBJ_039498</td>\n",
       "      <td>Seated Lean Non Dom - FACE DOWN</td>\n",
       "      <td>Performs gesture</td>\n",
       "      <td>Gesture</td>\n",
       "      <td>Write name on leg</td>\n",
       "      <td>3.773438</td>\n",
       "      <td>...</td>\n",
       "      <td>False</td>\n",
       "      <td>False</td>\n",
       "      <td>False</td>\n",
       "      <td>False</td>\n",
       "      <td>False</td>\n",
       "      <td>False</td>\n",
       "      <td>False</td>\n",
       "      <td>False</td>\n",
       "      <td>False</td>\n",
       "      <td>True</td>\n",
       "    </tr>\n",
       "    <tr>\n",
       "      <th>574942</th>\n",
       "      <td>SEQ_065531_000050</td>\n",
       "      <td>Non-Target</td>\n",
       "      <td>SEQ_065531</td>\n",
       "      <td>50</td>\n",
       "      <td>SUBJ_039498</td>\n",
       "      <td>Seated Lean Non Dom - FACE DOWN</td>\n",
       "      <td>Performs gesture</td>\n",
       "      <td>Gesture</td>\n",
       "      <td>Write name on leg</td>\n",
       "      <td>3.082031</td>\n",
       "      <td>...</td>\n",
       "      <td>False</td>\n",
       "      <td>False</td>\n",
       "      <td>False</td>\n",
       "      <td>False</td>\n",
       "      <td>False</td>\n",
       "      <td>False</td>\n",
       "      <td>False</td>\n",
       "      <td>False</td>\n",
       "      <td>False</td>\n",
       "      <td>True</td>\n",
       "    </tr>\n",
       "    <tr>\n",
       "      <th>574943</th>\n",
       "      <td>SEQ_065531_000051</td>\n",
       "      <td>Non-Target</td>\n",
       "      <td>SEQ_065531</td>\n",
       "      <td>51</td>\n",
       "      <td>SUBJ_039498</td>\n",
       "      <td>Seated Lean Non Dom - FACE DOWN</td>\n",
       "      <td>Performs gesture</td>\n",
       "      <td>Gesture</td>\n",
       "      <td>Write name on leg</td>\n",
       "      <td>3.964844</td>\n",
       "      <td>...</td>\n",
       "      <td>False</td>\n",
       "      <td>False</td>\n",
       "      <td>False</td>\n",
       "      <td>False</td>\n",
       "      <td>False</td>\n",
       "      <td>False</td>\n",
       "      <td>False</td>\n",
       "      <td>False</td>\n",
       "      <td>False</td>\n",
       "      <td>True</td>\n",
       "    </tr>\n",
       "    <tr>\n",
       "      <th>574944</th>\n",
       "      <td>SEQ_065531_000052</td>\n",
       "      <td>Non-Target</td>\n",
       "      <td>SEQ_065531</td>\n",
       "      <td>52</td>\n",
       "      <td>SUBJ_039498</td>\n",
       "      <td>Seated Lean Non Dom - FACE DOWN</td>\n",
       "      <td>Performs gesture</td>\n",
       "      <td>Gesture</td>\n",
       "      <td>Write name on leg</td>\n",
       "      <td>4.269531</td>\n",
       "      <td>...</td>\n",
       "      <td>False</td>\n",
       "      <td>False</td>\n",
       "      <td>False</td>\n",
       "      <td>False</td>\n",
       "      <td>False</td>\n",
       "      <td>False</td>\n",
       "      <td>False</td>\n",
       "      <td>False</td>\n",
       "      <td>False</td>\n",
       "      <td>True</td>\n",
       "    </tr>\n",
       "  </tbody>\n",
       "</table>\n",
       "<p>574945 rows × 375 columns</p>\n",
       "</div>"
      ],
      "text/plain": [
       "                   row_id sequence_type sequence_id  sequence_counter  \\\n",
       "0       SEQ_000007_000000        Target  SEQ_000007                 0   \n",
       "1       SEQ_000007_000001        Target  SEQ_000007                 1   \n",
       "2       SEQ_000007_000002        Target  SEQ_000007                 2   \n",
       "3       SEQ_000007_000003        Target  SEQ_000007                 3   \n",
       "4       SEQ_000007_000004        Target  SEQ_000007                 4   \n",
       "...                   ...           ...         ...               ...   \n",
       "574940  SEQ_065531_000048    Non-Target  SEQ_065531                48   \n",
       "574941  SEQ_065531_000049    Non-Target  SEQ_065531                49   \n",
       "574942  SEQ_065531_000050    Non-Target  SEQ_065531                50   \n",
       "574943  SEQ_065531_000051    Non-Target  SEQ_065531                51   \n",
       "574944  SEQ_065531_000052    Non-Target  SEQ_065531                52   \n",
       "\n",
       "            subject                      orientation  \\\n",
       "0       SUBJ_059520  Seated Lean Non Dom - FACE DOWN   \n",
       "1       SUBJ_059520  Seated Lean Non Dom - FACE DOWN   \n",
       "2       SUBJ_059520  Seated Lean Non Dom - FACE DOWN   \n",
       "3       SUBJ_059520  Seated Lean Non Dom - FACE DOWN   \n",
       "4       SUBJ_059520  Seated Lean Non Dom - FACE DOWN   \n",
       "...             ...                              ...   \n",
       "574940  SUBJ_039498  Seated Lean Non Dom - FACE DOWN   \n",
       "574941  SUBJ_039498  Seated Lean Non Dom - FACE DOWN   \n",
       "574942  SUBJ_039498  Seated Lean Non Dom - FACE DOWN   \n",
       "574943  SUBJ_039498  Seated Lean Non Dom - FACE DOWN   \n",
       "574944  SUBJ_039498  Seated Lean Non Dom - FACE DOWN   \n",
       "\n",
       "                                         behavior       phase  \\\n",
       "0       Relaxes and moves hand to target location  Transition   \n",
       "1       Relaxes and moves hand to target location  Transition   \n",
       "2       Relaxes and moves hand to target location  Transition   \n",
       "3       Relaxes and moves hand to target location  Transition   \n",
       "4       Relaxes and moves hand to target location  Transition   \n",
       "...                                           ...         ...   \n",
       "574940                           Performs gesture     Gesture   \n",
       "574941                           Performs gesture     Gesture   \n",
       "574942                           Performs gesture     Gesture   \n",
       "574943                           Performs gesture     Gesture   \n",
       "574944                           Performs gesture     Gesture   \n",
       "\n",
       "                   gesture     acc_x  ...  Glasses on/off  Neck - pinch skin  \\\n",
       "0       Cheek - pinch skin  6.683594  ...           False              False   \n",
       "1       Cheek - pinch skin  6.949219  ...           False              False   \n",
       "2       Cheek - pinch skin  5.722656  ...           False              False   \n",
       "3       Cheek - pinch skin  6.601562  ...           False              False   \n",
       "4       Cheek - pinch skin  5.566406  ...           False              False   \n",
       "...                    ...       ...  ...             ...                ...   \n",
       "574940   Write name on leg  3.503906  ...           False              False   \n",
       "574941   Write name on leg  3.773438  ...           False              False   \n",
       "574942   Write name on leg  3.082031  ...           False              False   \n",
       "574943   Write name on leg  3.964844  ...           False              False   \n",
       "574944   Write name on leg  4.269531  ...           False              False   \n",
       "\n",
       "        Neck - scratch  Pinch knee/leg skin  Pull air toward your face  \\\n",
       "0                False                False                      False   \n",
       "1                False                False                      False   \n",
       "2                False                False                      False   \n",
       "3                False                False                      False   \n",
       "4                False                False                      False   \n",
       "...                ...                  ...                        ...   \n",
       "574940           False                False                      False   \n",
       "574941           False                False                      False   \n",
       "574942           False                False                      False   \n",
       "574943           False                False                      False   \n",
       "574944           False                False                      False   \n",
       "\n",
       "        Scratch knee/leg skin  Text on phone  Wave hello  Write name in air  \\\n",
       "0                       False          False       False              False   \n",
       "1                       False          False       False              False   \n",
       "2                       False          False       False              False   \n",
       "3                       False          False       False              False   \n",
       "4                       False          False       False              False   \n",
       "...                       ...            ...         ...                ...   \n",
       "574940                  False          False       False              False   \n",
       "574941                  False          False       False              False   \n",
       "574942                  False          False       False              False   \n",
       "574943                  False          False       False              False   \n",
       "574944                  False          False       False              False   \n",
       "\n",
       "        Write name on leg  \n",
       "0                   False  \n",
       "1                   False  \n",
       "2                   False  \n",
       "3                   False  \n",
       "4                   False  \n",
       "...                   ...  \n",
       "574940               True  \n",
       "574941               True  \n",
       "574942               True  \n",
       "574943               True  \n",
       "574944               True  \n",
       "\n",
       "[574945 rows x 375 columns]"
      ]
     },
     "execution_count": 15,
     "metadata": {},
     "output_type": "execute_result"
    }
   ],
   "source": [
    "one_hot_target = pd.get_dummies(df[\"gesture\"])\n",
    "df[TARGET_NAMES] = one_hot_target[TARGET_NAMES]\n",
    "df"
   ]
  },
  {
   "cell_type": "markdown",
   "id": "8812dc08",
   "metadata": {},
   "source": [
    "### ToF data aggregation.\n",
    "Time of Flight columns take most of the data, let's reduce their size by aggregating by mean for each Time of Flight sensor."
   ]
  },
  {
   "cell_type": "code",
   "execution_count": 16,
   "id": "2b4f83f2",
   "metadata": {},
   "outputs": [
    {
     "data": {
      "application/vnd.jupyter.widget-view+json": {
       "model_id": "a73153ed5d494eb587bbf44c6e65a1a0",
       "version_major": 2,
       "version_minor": 0
      },
      "text/plain": [
       "  0%|          | 0/5 [00:00<?, ?it/s]"
      ]
     },
     "metadata": {},
     "output_type": "display_data"
    },
    {
     "data": {
      "text/html": [
       "<div>\n",
       "<style scoped>\n",
       "    .dataframe tbody tr th:only-of-type {\n",
       "        vertical-align: middle;\n",
       "    }\n",
       "\n",
       "    .dataframe tbody tr th {\n",
       "        vertical-align: top;\n",
       "    }\n",
       "\n",
       "    .dataframe thead th {\n",
       "        text-align: right;\n",
       "    }\n",
       "</style>\n",
       "<table border=\"1\" class=\"dataframe\">\n",
       "  <thead>\n",
       "    <tr style=\"text-align: right;\">\n",
       "      <th></th>\n",
       "      <th>row_id</th>\n",
       "      <th>sequence_type</th>\n",
       "      <th>sequence_id</th>\n",
       "      <th>sequence_counter</th>\n",
       "      <th>subject</th>\n",
       "      <th>orientation</th>\n",
       "      <th>behavior</th>\n",
       "      <th>phase</th>\n",
       "      <th>gesture</th>\n",
       "      <th>acc_x</th>\n",
       "      <th>...</th>\n",
       "      <th>tof_4_mean</th>\n",
       "      <th>tof_4_std</th>\n",
       "      <th>tof_4_median</th>\n",
       "      <th>tof_4_min</th>\n",
       "      <th>tof_4_max</th>\n",
       "      <th>tof_5_mean</th>\n",
       "      <th>tof_5_std</th>\n",
       "      <th>tof_5_median</th>\n",
       "      <th>tof_5_min</th>\n",
       "      <th>tof_5_max</th>\n",
       "    </tr>\n",
       "  </thead>\n",
       "  <tbody>\n",
       "    <tr>\n",
       "      <th>0</th>\n",
       "      <td>SEQ_000007_000000</td>\n",
       "      <td>Target</td>\n",
       "      <td>SEQ_000007</td>\n",
       "      <td>0</td>\n",
       "      <td>SUBJ_059520</td>\n",
       "      <td>Seated Lean Non Dom - FACE DOWN</td>\n",
       "      <td>Relaxes and moves hand to target location</td>\n",
       "      <td>Transition</td>\n",
       "      <td>Cheek - pinch skin</td>\n",
       "      <td>6.683594</td>\n",
       "      <td>...</td>\n",
       "      <td>123.359375</td>\n",
       "      <td>41.862347</td>\n",
       "      <td>134.0</td>\n",
       "      <td>51.0</td>\n",
       "      <td>206.0</td>\n",
       "      <td>135.343750</td>\n",
       "      <td>32.397930</td>\n",
       "      <td>128.5</td>\n",
       "      <td>88.0</td>\n",
       "      <td>226.0</td>\n",
       "    </tr>\n",
       "    <tr>\n",
       "      <th>1</th>\n",
       "      <td>SEQ_000007_000001</td>\n",
       "      <td>Target</td>\n",
       "      <td>SEQ_000007</td>\n",
       "      <td>1</td>\n",
       "      <td>SUBJ_059520</td>\n",
       "      <td>Seated Lean Non Dom - FACE DOWN</td>\n",
       "      <td>Relaxes and moves hand to target location</td>\n",
       "      <td>Transition</td>\n",
       "      <td>Cheek - pinch skin</td>\n",
       "      <td>6.949219</td>\n",
       "      <td>...</td>\n",
       "      <td>124.406250</td>\n",
       "      <td>40.487785</td>\n",
       "      <td>135.5</td>\n",
       "      <td>60.0</td>\n",
       "      <td>206.0</td>\n",
       "      <td>137.000000</td>\n",
       "      <td>32.489803</td>\n",
       "      <td>129.5</td>\n",
       "      <td>88.0</td>\n",
       "      <td>226.0</td>\n",
       "    </tr>\n",
       "    <tr>\n",
       "      <th>2</th>\n",
       "      <td>SEQ_000007_000002</td>\n",
       "      <td>Target</td>\n",
       "      <td>SEQ_000007</td>\n",
       "      <td>2</td>\n",
       "      <td>SUBJ_059520</td>\n",
       "      <td>Seated Lean Non Dom - FACE DOWN</td>\n",
       "      <td>Relaxes and moves hand to target location</td>\n",
       "      <td>Transition</td>\n",
       "      <td>Cheek - pinch skin</td>\n",
       "      <td>5.722656</td>\n",
       "      <td>...</td>\n",
       "      <td>125.687500</td>\n",
       "      <td>36.980423</td>\n",
       "      <td>131.5</td>\n",
       "      <td>71.0</td>\n",
       "      <td>206.0</td>\n",
       "      <td>140.234375</td>\n",
       "      <td>34.100105</td>\n",
       "      <td>136.0</td>\n",
       "      <td>88.0</td>\n",
       "      <td>226.0</td>\n",
       "    </tr>\n",
       "    <tr>\n",
       "      <th>3</th>\n",
       "      <td>SEQ_000007_000003</td>\n",
       "      <td>Target</td>\n",
       "      <td>SEQ_000007</td>\n",
       "      <td>3</td>\n",
       "      <td>SUBJ_059520</td>\n",
       "      <td>Seated Lean Non Dom - FACE DOWN</td>\n",
       "      <td>Relaxes and moves hand to target location</td>\n",
       "      <td>Transition</td>\n",
       "      <td>Cheek - pinch skin</td>\n",
       "      <td>6.601562</td>\n",
       "      <td>...</td>\n",
       "      <td>149.078125</td>\n",
       "      <td>29.778711</td>\n",
       "      <td>147.0</td>\n",
       "      <td>100.0</td>\n",
       "      <td>210.0</td>\n",
       "      <td>142.609375</td>\n",
       "      <td>35.809734</td>\n",
       "      <td>137.5</td>\n",
       "      <td>88.0</td>\n",
       "      <td>226.0</td>\n",
       "    </tr>\n",
       "    <tr>\n",
       "      <th>4</th>\n",
       "      <td>SEQ_000007_000004</td>\n",
       "      <td>Target</td>\n",
       "      <td>SEQ_000007</td>\n",
       "      <td>4</td>\n",
       "      <td>SUBJ_059520</td>\n",
       "      <td>Seated Lean Non Dom - FACE DOWN</td>\n",
       "      <td>Relaxes and moves hand to target location</td>\n",
       "      <td>Transition</td>\n",
       "      <td>Cheek - pinch skin</td>\n",
       "      <td>5.566406</td>\n",
       "      <td>...</td>\n",
       "      <td>163.765625</td>\n",
       "      <td>29.487551</td>\n",
       "      <td>157.5</td>\n",
       "      <td>116.0</td>\n",
       "      <td>229.0</td>\n",
       "      <td>151.265625</td>\n",
       "      <td>38.821220</td>\n",
       "      <td>142.5</td>\n",
       "      <td>88.0</td>\n",
       "      <td>226.0</td>\n",
       "    </tr>\n",
       "    <tr>\n",
       "      <th>...</th>\n",
       "      <td>...</td>\n",
       "      <td>...</td>\n",
       "      <td>...</td>\n",
       "      <td>...</td>\n",
       "      <td>...</td>\n",
       "      <td>...</td>\n",
       "      <td>...</td>\n",
       "      <td>...</td>\n",
       "      <td>...</td>\n",
       "      <td>...</td>\n",
       "      <td>...</td>\n",
       "      <td>...</td>\n",
       "      <td>...</td>\n",
       "      <td>...</td>\n",
       "      <td>...</td>\n",
       "      <td>...</td>\n",
       "      <td>...</td>\n",
       "      <td>...</td>\n",
       "      <td>...</td>\n",
       "      <td>...</td>\n",
       "      <td>...</td>\n",
       "    </tr>\n",
       "    <tr>\n",
       "      <th>574940</th>\n",
       "      <td>SEQ_065531_000048</td>\n",
       "      <td>Non-Target</td>\n",
       "      <td>SEQ_065531</td>\n",
       "      <td>48</td>\n",
       "      <td>SUBJ_039498</td>\n",
       "      <td>Seated Lean Non Dom - FACE DOWN</td>\n",
       "      <td>Performs gesture</td>\n",
       "      <td>Gesture</td>\n",
       "      <td>Write name on leg</td>\n",
       "      <td>3.503906</td>\n",
       "      <td>...</td>\n",
       "      <td>74.062500</td>\n",
       "      <td>28.283079</td>\n",
       "      <td>66.5</td>\n",
       "      <td>39.0</td>\n",
       "      <td>162.0</td>\n",
       "      <td>52.843750</td>\n",
       "      <td>9.838730</td>\n",
       "      <td>52.0</td>\n",
       "      <td>27.0</td>\n",
       "      <td>73.0</td>\n",
       "    </tr>\n",
       "    <tr>\n",
       "      <th>574941</th>\n",
       "      <td>SEQ_065531_000049</td>\n",
       "      <td>Non-Target</td>\n",
       "      <td>SEQ_065531</td>\n",
       "      <td>49</td>\n",
       "      <td>SUBJ_039498</td>\n",
       "      <td>Seated Lean Non Dom - FACE DOWN</td>\n",
       "      <td>Performs gesture</td>\n",
       "      <td>Gesture</td>\n",
       "      <td>Write name on leg</td>\n",
       "      <td>3.773438</td>\n",
       "      <td>...</td>\n",
       "      <td>70.406250</td>\n",
       "      <td>29.312611</td>\n",
       "      <td>61.5</td>\n",
       "      <td>38.0</td>\n",
       "      <td>162.0</td>\n",
       "      <td>54.531250</td>\n",
       "      <td>10.579958</td>\n",
       "      <td>54.5</td>\n",
       "      <td>29.0</td>\n",
       "      <td>73.0</td>\n",
       "    </tr>\n",
       "    <tr>\n",
       "      <th>574942</th>\n",
       "      <td>SEQ_065531_000050</td>\n",
       "      <td>Non-Target</td>\n",
       "      <td>SEQ_065531</td>\n",
       "      <td>50</td>\n",
       "      <td>SUBJ_039498</td>\n",
       "      <td>Seated Lean Non Dom - FACE DOWN</td>\n",
       "      <td>Performs gesture</td>\n",
       "      <td>Gesture</td>\n",
       "      <td>Write name on leg</td>\n",
       "      <td>3.082031</td>\n",
       "      <td>...</td>\n",
       "      <td>70.109375</td>\n",
       "      <td>29.322031</td>\n",
       "      <td>63.0</td>\n",
       "      <td>41.0</td>\n",
       "      <td>162.0</td>\n",
       "      <td>57.468750</td>\n",
       "      <td>11.371042</td>\n",
       "      <td>57.5</td>\n",
       "      <td>26.0</td>\n",
       "      <td>80.0</td>\n",
       "    </tr>\n",
       "    <tr>\n",
       "      <th>574943</th>\n",
       "      <td>SEQ_065531_000051</td>\n",
       "      <td>Non-Target</td>\n",
       "      <td>SEQ_065531</td>\n",
       "      <td>51</td>\n",
       "      <td>SUBJ_039498</td>\n",
       "      <td>Seated Lean Non Dom - FACE DOWN</td>\n",
       "      <td>Performs gesture</td>\n",
       "      <td>Gesture</td>\n",
       "      <td>Write name on leg</td>\n",
       "      <td>3.964844</td>\n",
       "      <td>...</td>\n",
       "      <td>75.609375</td>\n",
       "      <td>27.347044</td>\n",
       "      <td>68.0</td>\n",
       "      <td>48.0</td>\n",
       "      <td>162.0</td>\n",
       "      <td>54.937500</td>\n",
       "      <td>10.818671</td>\n",
       "      <td>54.5</td>\n",
       "      <td>25.0</td>\n",
       "      <td>77.0</td>\n",
       "    </tr>\n",
       "    <tr>\n",
       "      <th>574944</th>\n",
       "      <td>SEQ_065531_000052</td>\n",
       "      <td>Non-Target</td>\n",
       "      <td>SEQ_065531</td>\n",
       "      <td>52</td>\n",
       "      <td>SUBJ_039498</td>\n",
       "      <td>Seated Lean Non Dom - FACE DOWN</td>\n",
       "      <td>Performs gesture</td>\n",
       "      <td>Gesture</td>\n",
       "      <td>Write name on leg</td>\n",
       "      <td>4.269531</td>\n",
       "      <td>...</td>\n",
       "      <td>75.890625</td>\n",
       "      <td>27.771240</td>\n",
       "      <td>68.0</td>\n",
       "      <td>46.0</td>\n",
       "      <td>162.0</td>\n",
       "      <td>55.281250</td>\n",
       "      <td>11.161824</td>\n",
       "      <td>56.0</td>\n",
       "      <td>24.0</td>\n",
       "      <td>77.0</td>\n",
       "    </tr>\n",
       "  </tbody>\n",
       "</table>\n",
       "<p>574945 rows × 400 columns</p>\n",
       "</div>"
      ],
      "text/plain": [
       "                   row_id sequence_type sequence_id  sequence_counter  \\\n",
       "0       SEQ_000007_000000        Target  SEQ_000007                 0   \n",
       "1       SEQ_000007_000001        Target  SEQ_000007                 1   \n",
       "2       SEQ_000007_000002        Target  SEQ_000007                 2   \n",
       "3       SEQ_000007_000003        Target  SEQ_000007                 3   \n",
       "4       SEQ_000007_000004        Target  SEQ_000007                 4   \n",
       "...                   ...           ...         ...               ...   \n",
       "574940  SEQ_065531_000048    Non-Target  SEQ_065531                48   \n",
       "574941  SEQ_065531_000049    Non-Target  SEQ_065531                49   \n",
       "574942  SEQ_065531_000050    Non-Target  SEQ_065531                50   \n",
       "574943  SEQ_065531_000051    Non-Target  SEQ_065531                51   \n",
       "574944  SEQ_065531_000052    Non-Target  SEQ_065531                52   \n",
       "\n",
       "            subject                      orientation  \\\n",
       "0       SUBJ_059520  Seated Lean Non Dom - FACE DOWN   \n",
       "1       SUBJ_059520  Seated Lean Non Dom - FACE DOWN   \n",
       "2       SUBJ_059520  Seated Lean Non Dom - FACE DOWN   \n",
       "3       SUBJ_059520  Seated Lean Non Dom - FACE DOWN   \n",
       "4       SUBJ_059520  Seated Lean Non Dom - FACE DOWN   \n",
       "...             ...                              ...   \n",
       "574940  SUBJ_039498  Seated Lean Non Dom - FACE DOWN   \n",
       "574941  SUBJ_039498  Seated Lean Non Dom - FACE DOWN   \n",
       "574942  SUBJ_039498  Seated Lean Non Dom - FACE DOWN   \n",
       "574943  SUBJ_039498  Seated Lean Non Dom - FACE DOWN   \n",
       "574944  SUBJ_039498  Seated Lean Non Dom - FACE DOWN   \n",
       "\n",
       "                                         behavior       phase  \\\n",
       "0       Relaxes and moves hand to target location  Transition   \n",
       "1       Relaxes and moves hand to target location  Transition   \n",
       "2       Relaxes and moves hand to target location  Transition   \n",
       "3       Relaxes and moves hand to target location  Transition   \n",
       "4       Relaxes and moves hand to target location  Transition   \n",
       "...                                           ...         ...   \n",
       "574940                           Performs gesture     Gesture   \n",
       "574941                           Performs gesture     Gesture   \n",
       "574942                           Performs gesture     Gesture   \n",
       "574943                           Performs gesture     Gesture   \n",
       "574944                           Performs gesture     Gesture   \n",
       "\n",
       "                   gesture     acc_x  ...  tof_4_mean  tof_4_std  \\\n",
       "0       Cheek - pinch skin  6.683594  ...  123.359375  41.862347   \n",
       "1       Cheek - pinch skin  6.949219  ...  124.406250  40.487785   \n",
       "2       Cheek - pinch skin  5.722656  ...  125.687500  36.980423   \n",
       "3       Cheek - pinch skin  6.601562  ...  149.078125  29.778711   \n",
       "4       Cheek - pinch skin  5.566406  ...  163.765625  29.487551   \n",
       "...                    ...       ...  ...         ...        ...   \n",
       "574940   Write name on leg  3.503906  ...   74.062500  28.283079   \n",
       "574941   Write name on leg  3.773438  ...   70.406250  29.312611   \n",
       "574942   Write name on leg  3.082031  ...   70.109375  29.322031   \n",
       "574943   Write name on leg  3.964844  ...   75.609375  27.347044   \n",
       "574944   Write name on leg  4.269531  ...   75.890625  27.771240   \n",
       "\n",
       "        tof_4_median  tof_4_min  tof_4_max  tof_5_mean  tof_5_std  \\\n",
       "0              134.0       51.0      206.0  135.343750  32.397930   \n",
       "1              135.5       60.0      206.0  137.000000  32.489803   \n",
       "2              131.5       71.0      206.0  140.234375  34.100105   \n",
       "3              147.0      100.0      210.0  142.609375  35.809734   \n",
       "4              157.5      116.0      229.0  151.265625  38.821220   \n",
       "...              ...        ...        ...         ...        ...   \n",
       "574940          66.5       39.0      162.0   52.843750   9.838730   \n",
       "574941          61.5       38.0      162.0   54.531250  10.579958   \n",
       "574942          63.0       41.0      162.0   57.468750  11.371042   \n",
       "574943          68.0       48.0      162.0   54.937500  10.818671   \n",
       "574944          68.0       46.0      162.0   55.281250  11.161824   \n",
       "\n",
       "        tof_5_median  tof_5_min  tof_5_max  \n",
       "0              128.5       88.0      226.0  \n",
       "1              129.5       88.0      226.0  \n",
       "2              136.0       88.0      226.0  \n",
       "3              137.5       88.0      226.0  \n",
       "4              142.5       88.0      226.0  \n",
       "...              ...        ...        ...  \n",
       "574940          52.0       27.0       73.0  \n",
       "574941          54.5       29.0       73.0  \n",
       "574942          57.5       26.0       80.0  \n",
       "574943          54.5       25.0       77.0  \n",
       "574944          56.0       24.0       77.0  \n",
       "\n",
       "[574945 rows x 400 columns]"
      ]
     },
     "execution_count": 16,
     "metadata": {},
     "output_type": "execute_result"
    }
   ],
   "source": [
    "def agg_tof_cols_per_sensor(df:DF) -> DF:\n",
    "    for tof_idx in tqdm(range(1, 6)):\n",
    "        tof_name = f\"tof_{tof_idx}\"\n",
    "        all_tof_cols = [f\"{tof_name}_v{v_idx:02d}\" for v_idx in range(64)]\n",
    "        if any(map(lambda col: col not in df.columns, all_tof_cols)):\n",
    "            print(f\"Some (or) all ToF {tof_idx} columns are not in the df. Maybe you already ran this cell?\")\n",
    "            continue\n",
    "        df = pd.concat(\n",
    "            (\n",
    "                # df.drop(columns=tof_cols),\n",
    "                df,\n",
    "                # For some reasons, it's faster to call all the aggregation functions seperatly than agg(list of functions)\n",
    "                df[all_tof_cols].mean(axis=\"columns\").to_frame(tof_name + \"_mean\"),\n",
    "                df[all_tof_cols].std(axis=\"columns\").to_frame(tof_name + \"_std\"),\n",
    "                df[all_tof_cols].median(axis=\"columns\").to_frame(tof_name + \"_median\"),\n",
    "                df[all_tof_cols].min(axis=\"columns\").to_frame(tof_name + \"_min\"),\n",
    "                df[all_tof_cols].max(axis=\"columns\").to_frame(tof_name + \"_max\"),\n",
    "            ),\n",
    "            axis=\"columns\",\n",
    "        )\n",
    "    return df\n",
    "\n",
    "df = agg_tof_cols_per_sensor(df)\n",
    "df"
   ]
  },
  {
   "cell_type": "code",
   "execution_count": 17,
   "id": "37d79a8d",
   "metadata": {},
   "outputs": [
    {
     "data": {
      "text/plain": [
       "{'row_id': CategoricalDtype(categories=['SEQ_000007_000000', 'SEQ_000007_000001',\n",
       "                   'SEQ_000007_000002', 'SEQ_000007_000003',\n",
       "                   'SEQ_000007_000004', 'SEQ_000007_000005',\n",
       "                   'SEQ_000007_000006', 'SEQ_000007_000007',\n",
       "                   'SEQ_000007_000008', 'SEQ_000007_000009',\n",
       "                   ...\n",
       "                   'SEQ_065531_000043', 'SEQ_065531_000044',\n",
       "                   'SEQ_065531_000045', 'SEQ_065531_000046',\n",
       "                   'SEQ_065531_000047', 'SEQ_065531_000048',\n",
       "                   'SEQ_065531_000049', 'SEQ_065531_000050',\n",
       "                   'SEQ_065531_000051', 'SEQ_065531_000052'],\n",
       " , ordered=False, categories_dtype=object),\n",
       " 'sequence_type': CategoricalDtype(categories=['Non-Target', 'Target'], ordered=False, categories_dtype=object),\n",
       " 'sequence_id': CategoricalDtype(categories=['SEQ_000007', 'SEQ_000008', 'SEQ_000013', 'SEQ_000016',\n",
       "                   'SEQ_000018', 'SEQ_000022', 'SEQ_000033', 'SEQ_000034',\n",
       "                   'SEQ_000046', 'SEQ_000053',\n",
       "                   ...\n",
       "                   'SEQ_065452', 'SEQ_065470', 'SEQ_065471', 'SEQ_065478',\n",
       "                   'SEQ_065487', 'SEQ_065508', 'SEQ_065519', 'SEQ_065522',\n",
       "                   'SEQ_065526', 'SEQ_065531'],\n",
       " , ordered=False, categories_dtype=object),\n",
       " 'sequence_counter': dtype('int32'),\n",
       " 'subject': CategoricalDtype(categories=['SUBJ_001430', 'SUBJ_012088', 'SUBJ_013623', 'SUBJ_020948',\n",
       "                   'SUBJ_024086', 'SUBJ_024137', 'SUBJ_030676', 'SUBJ_032165',\n",
       "                   'SUBJ_032233', 'SUBJ_032585', 'SUBJ_038023', 'SUBJ_040282',\n",
       "                   'SUBJ_040310', 'SUBJ_040733', 'SUBJ_044680', 'SUBJ_047636',\n",
       "                   'SUBJ_052342', 'SUBJ_053173', 'SUBJ_055211', 'SUBJ_059330',\n",
       "                   'SUBJ_059520', 'SUBJ_063346', 'SUBJ_063464', 'SUBJ_000206',\n",
       "                   'SUBJ_011323', 'SUBJ_017170', 'SUBJ_019262', 'SUBJ_019663',\n",
       "                   'SUBJ_027682', 'SUBJ_032704', 'SUBJ_032761', 'SUBJ_040106',\n",
       "                   'SUBJ_040724', 'SUBJ_041243', 'SUBJ_041770', 'SUBJ_049223',\n",
       "                   'SUBJ_053906', 'SUBJ_057917', 'SUBJ_058786', 'SUBJ_061552',\n",
       "                   'SUBJ_008304', 'SUBJ_017807', 'SUBJ_019297', 'SUBJ_021670',\n",
       "                   'SUBJ_024825', 'SUBJ_034574', 'SUBJ_034631', 'SUBJ_039234',\n",
       "                   'SUBJ_042779', 'SUBJ_045235', 'SUBJ_050642', 'SUBJ_054811',\n",
       "                   'SUBJ_056936', 'SUBJ_064387', 'SUBJ_003328', 'SUBJ_004117',\n",
       "                   'SUBJ_008728', 'SUBJ_017499', 'SUBJ_027671', 'SUBJ_035353',\n",
       "                   'SUBJ_042794', 'SUBJ_019756', 'SUBJ_026824', 'SUBJ_036450',\n",
       "                   'SUBJ_051942', 'SUBJ_063319', 'SUBJ_063447', 'SUBJ_002923',\n",
       "                   'SUBJ_026460', 'SUBJ_028998', 'SUBJ_038277', 'SUBJ_058967',\n",
       "                   'SUBJ_059960', 'SUBJ_039498', 'SUBJ_043192', 'SUBJ_053217',\n",
       "                   'SUBJ_016552', 'SUBJ_042254', 'SUBJ_036405', 'SUBJ_038709',\n",
       "                   'SUBJ_023739'],\n",
       " , ordered=False, categories_dtype=object),\n",
       " 'orientation': CategoricalDtype(categories=['Lie on Back', 'Lie on Side - Non Dominant',\n",
       "                   'Seated Lean Non Dom - FACE DOWN', 'Seated Straight'],\n",
       " , ordered=False, categories_dtype=object),\n",
       " 'behavior': CategoricalDtype(categories=['Hand at target location', 'Moves hand to target location',\n",
       "                   'Performs gesture',\n",
       "                   'Relaxes and moves hand to target location'],\n",
       " , ordered=False, categories_dtype=object),\n",
       " 'phase': CategoricalDtype(categories=['Gesture', 'Transition'], ordered=False, categories_dtype=object),\n",
       " 'gesture': CategoricalDtype(categories=['Above ear - pull hair', 'Cheek - pinch skin',\n",
       "                   'Eyebrow - pull hair', 'Eyelash - pull hair',\n",
       "                   'Feel around in tray and pull out an object',\n",
       "                   'Forehead - pull hairline', 'Forehead - scratch',\n",
       "                   'Neck - pinch skin', 'Neck - scratch', 'Text on phone',\n",
       "                   'Wave hello', 'Write name in air', 'Write name on leg',\n",
       "                   'Drink from bottle/cup', 'Pinch knee/leg skin',\n",
       "                   'Pull air toward your face', 'Scratch knee/leg skin',\n",
       "                   'Glasses on/off'],\n",
       " , ordered=False, categories_dtype=object),\n",
       " 'acc_x': dtype('float32'),\n",
       " 'acc_y': dtype('float32'),\n",
       " 'acc_z': dtype('float32'),\n",
       " 'rot_w': dtype('float32'),\n",
       " 'rot_x': dtype('float32'),\n",
       " 'rot_y': dtype('float32'),\n",
       " 'rot_z': dtype('float32'),\n",
       " 'thm_1': dtype('float32'),\n",
       " 'thm_2': dtype('float32'),\n",
       " 'thm_3': dtype('float32'),\n",
       " 'thm_4': dtype('float32'),\n",
       " 'thm_5': dtype('float32'),\n",
       " 'tof_1_v00': dtype('float32'),\n",
       " 'tof_1_v01': dtype('float32'),\n",
       " 'tof_1_v02': dtype('float32'),\n",
       " 'tof_1_v03': dtype('float32'),\n",
       " 'tof_1_v04': dtype('float32'),\n",
       " 'tof_1_v05': dtype('float32'),\n",
       " 'tof_1_v06': dtype('float32'),\n",
       " 'tof_1_v07': dtype('float32'),\n",
       " 'tof_1_v08': dtype('float32'),\n",
       " 'tof_1_v09': dtype('float32'),\n",
       " 'tof_1_v10': dtype('float32'),\n",
       " 'tof_1_v11': dtype('float32'),\n",
       " 'tof_1_v12': dtype('float32'),\n",
       " 'tof_1_v13': dtype('float32'),\n",
       " 'tof_1_v14': dtype('float32'),\n",
       " 'tof_1_v15': dtype('float32'),\n",
       " 'tof_1_v16': dtype('float32'),\n",
       " 'tof_1_v17': dtype('float32'),\n",
       " 'tof_1_v18': dtype('float32'),\n",
       " 'tof_1_v19': dtype('float32'),\n",
       " 'tof_1_v20': dtype('float32'),\n",
       " 'tof_1_v21': dtype('float32'),\n",
       " 'tof_1_v22': dtype('float32'),\n",
       " 'tof_1_v23': dtype('float32'),\n",
       " 'tof_1_v24': dtype('float32'),\n",
       " 'tof_1_v25': dtype('float32'),\n",
       " 'tof_1_v26': dtype('float32'),\n",
       " 'tof_1_v27': dtype('float32'),\n",
       " 'tof_1_v28': dtype('float32'),\n",
       " 'tof_1_v29': dtype('float32'),\n",
       " 'tof_1_v30': dtype('float32'),\n",
       " 'tof_1_v31': dtype('float32'),\n",
       " 'tof_1_v32': dtype('float32'),\n",
       " 'tof_1_v33': dtype('float32'),\n",
       " 'tof_1_v34': dtype('float32'),\n",
       " 'tof_1_v35': dtype('float32'),\n",
       " 'tof_1_v36': dtype('float32'),\n",
       " 'tof_1_v37': dtype('float32'),\n",
       " 'tof_1_v38': dtype('float32'),\n",
       " 'tof_1_v39': dtype('float32'),\n",
       " 'tof_1_v40': dtype('float32'),\n",
       " 'tof_1_v41': dtype('float32'),\n",
       " 'tof_1_v42': dtype('float32'),\n",
       " 'tof_1_v43': dtype('float32'),\n",
       " 'tof_1_v44': dtype('float32'),\n",
       " 'tof_1_v45': dtype('float32'),\n",
       " 'tof_1_v46': dtype('float32'),\n",
       " 'tof_1_v47': dtype('float32'),\n",
       " 'tof_1_v48': dtype('float32'),\n",
       " 'tof_1_v49': dtype('float32'),\n",
       " 'tof_1_v50': dtype('float32'),\n",
       " 'tof_1_v51': dtype('float32'),\n",
       " 'tof_1_v52': dtype('float32'),\n",
       " 'tof_1_v53': dtype('float32'),\n",
       " 'tof_1_v54': dtype('float32'),\n",
       " 'tof_1_v55': dtype('float32'),\n",
       " 'tof_1_v56': dtype('float32'),\n",
       " 'tof_1_v57': dtype('float32'),\n",
       " 'tof_1_v58': dtype('float32'),\n",
       " 'tof_1_v59': dtype('float32'),\n",
       " 'tof_1_v60': dtype('float32'),\n",
       " 'tof_1_v61': dtype('float32'),\n",
       " 'tof_1_v62': dtype('float32'),\n",
       " 'tof_1_v63': dtype('float32'),\n",
       " 'tof_2_v00': dtype('float32'),\n",
       " 'tof_2_v01': dtype('float32'),\n",
       " 'tof_2_v02': dtype('float32'),\n",
       " 'tof_2_v03': dtype('float32'),\n",
       " 'tof_2_v04': dtype('float32'),\n",
       " 'tof_2_v05': dtype('float32'),\n",
       " 'tof_2_v06': dtype('float32'),\n",
       " 'tof_2_v07': dtype('float32'),\n",
       " 'tof_2_v08': dtype('float32'),\n",
       " 'tof_2_v09': dtype('float32'),\n",
       " 'tof_2_v10': dtype('float32'),\n",
       " 'tof_2_v11': dtype('float32'),\n",
       " 'tof_2_v12': dtype('float32'),\n",
       " 'tof_2_v13': dtype('float32'),\n",
       " 'tof_2_v14': dtype('float32'),\n",
       " 'tof_2_v15': dtype('float32'),\n",
       " 'tof_2_v16': dtype('float32'),\n",
       " 'tof_2_v17': dtype('float32'),\n",
       " 'tof_2_v18': dtype('float32'),\n",
       " 'tof_2_v19': dtype('float32'),\n",
       " 'tof_2_v20': dtype('float32'),\n",
       " 'tof_2_v21': dtype('float32'),\n",
       " 'tof_2_v22': dtype('float32'),\n",
       " 'tof_2_v23': dtype('float32'),\n",
       " 'tof_2_v24': dtype('float32'),\n",
       " 'tof_2_v25': dtype('float32'),\n",
       " 'tof_2_v26': dtype('float32'),\n",
       " 'tof_2_v27': dtype('float32'),\n",
       " 'tof_2_v28': dtype('float32'),\n",
       " 'tof_2_v29': dtype('float32'),\n",
       " 'tof_2_v30': dtype('float32'),\n",
       " 'tof_2_v31': dtype('float32'),\n",
       " 'tof_2_v32': dtype('float32'),\n",
       " 'tof_2_v33': dtype('float32'),\n",
       " 'tof_2_v34': dtype('float32'),\n",
       " 'tof_2_v35': dtype('float32'),\n",
       " 'tof_2_v36': dtype('float32'),\n",
       " 'tof_2_v37': dtype('float32'),\n",
       " 'tof_2_v38': dtype('float32'),\n",
       " 'tof_2_v39': dtype('float32'),\n",
       " 'tof_2_v40': dtype('float32'),\n",
       " 'tof_2_v41': dtype('float32'),\n",
       " 'tof_2_v42': dtype('float32'),\n",
       " 'tof_2_v43': dtype('float32'),\n",
       " 'tof_2_v44': dtype('float32'),\n",
       " 'tof_2_v45': dtype('float32'),\n",
       " 'tof_2_v46': dtype('float32'),\n",
       " 'tof_2_v47': dtype('float32'),\n",
       " 'tof_2_v48': dtype('float32'),\n",
       " 'tof_2_v49': dtype('float32'),\n",
       " 'tof_2_v50': dtype('float32'),\n",
       " 'tof_2_v51': dtype('float32'),\n",
       " 'tof_2_v52': dtype('float32'),\n",
       " 'tof_2_v53': dtype('float32'),\n",
       " 'tof_2_v54': dtype('float32'),\n",
       " 'tof_2_v55': dtype('float32'),\n",
       " 'tof_2_v56': dtype('float32'),\n",
       " 'tof_2_v57': dtype('float32'),\n",
       " 'tof_2_v58': dtype('float32'),\n",
       " 'tof_2_v59': dtype('float32'),\n",
       " 'tof_2_v60': dtype('float32'),\n",
       " 'tof_2_v61': dtype('float32'),\n",
       " 'tof_2_v62': dtype('float32'),\n",
       " 'tof_2_v63': dtype('float32'),\n",
       " 'tof_3_v00': dtype('float32'),\n",
       " 'tof_3_v01': dtype('float32'),\n",
       " 'tof_3_v02': dtype('float32'),\n",
       " 'tof_3_v03': dtype('float32'),\n",
       " 'tof_3_v04': dtype('float32'),\n",
       " 'tof_3_v05': dtype('float32'),\n",
       " 'tof_3_v06': dtype('float32'),\n",
       " 'tof_3_v07': dtype('float32'),\n",
       " 'tof_3_v08': dtype('float32'),\n",
       " 'tof_3_v09': dtype('float32'),\n",
       " 'tof_3_v10': dtype('float32'),\n",
       " 'tof_3_v11': dtype('float32'),\n",
       " 'tof_3_v12': dtype('float32'),\n",
       " 'tof_3_v13': dtype('float32'),\n",
       " 'tof_3_v14': dtype('float32'),\n",
       " 'tof_3_v15': dtype('float32'),\n",
       " 'tof_3_v16': dtype('float32'),\n",
       " 'tof_3_v17': dtype('float32'),\n",
       " 'tof_3_v18': dtype('float32'),\n",
       " 'tof_3_v19': dtype('float32'),\n",
       " 'tof_3_v20': dtype('float32'),\n",
       " 'tof_3_v21': dtype('float32'),\n",
       " 'tof_3_v22': dtype('float32'),\n",
       " 'tof_3_v23': dtype('float32'),\n",
       " 'tof_3_v24': dtype('float32'),\n",
       " 'tof_3_v25': dtype('float32'),\n",
       " 'tof_3_v26': dtype('float32'),\n",
       " 'tof_3_v27': dtype('float32'),\n",
       " 'tof_3_v28': dtype('float32'),\n",
       " 'tof_3_v29': dtype('float32'),\n",
       " 'tof_3_v30': dtype('float32'),\n",
       " 'tof_3_v31': dtype('float32'),\n",
       " 'tof_3_v32': dtype('float32'),\n",
       " 'tof_3_v33': dtype('float32'),\n",
       " 'tof_3_v34': dtype('float32'),\n",
       " 'tof_3_v35': dtype('float32'),\n",
       " 'tof_3_v36': dtype('float32'),\n",
       " 'tof_3_v37': dtype('float32'),\n",
       " 'tof_3_v38': dtype('float32'),\n",
       " 'tof_3_v39': dtype('float32'),\n",
       " 'tof_3_v40': dtype('float32'),\n",
       " 'tof_3_v41': dtype('float32'),\n",
       " 'tof_3_v42': dtype('float32'),\n",
       " 'tof_3_v43': dtype('float32'),\n",
       " 'tof_3_v44': dtype('float32'),\n",
       " 'tof_3_v45': dtype('float32'),\n",
       " 'tof_3_v46': dtype('float32'),\n",
       " 'tof_3_v47': dtype('float32'),\n",
       " 'tof_3_v48': dtype('float32'),\n",
       " 'tof_3_v49': dtype('float32'),\n",
       " 'tof_3_v50': dtype('float32'),\n",
       " 'tof_3_v51': dtype('float32'),\n",
       " 'tof_3_v52': dtype('float32'),\n",
       " 'tof_3_v53': dtype('float32'),\n",
       " 'tof_3_v54': dtype('float32'),\n",
       " 'tof_3_v55': dtype('float32'),\n",
       " 'tof_3_v56': dtype('float32'),\n",
       " 'tof_3_v57': dtype('float32'),\n",
       " 'tof_3_v58': dtype('float32'),\n",
       " 'tof_3_v59': dtype('float32'),\n",
       " 'tof_3_v60': dtype('float32'),\n",
       " 'tof_3_v61': dtype('float32'),\n",
       " 'tof_3_v62': dtype('float32'),\n",
       " 'tof_3_v63': dtype('float32'),\n",
       " 'tof_4_v00': dtype('float32'),\n",
       " 'tof_4_v01': dtype('float32'),\n",
       " 'tof_4_v02': dtype('float32'),\n",
       " 'tof_4_v03': dtype('float32'),\n",
       " 'tof_4_v04': dtype('float32'),\n",
       " 'tof_4_v05': dtype('float32'),\n",
       " 'tof_4_v06': dtype('float32'),\n",
       " 'tof_4_v07': dtype('float32'),\n",
       " 'tof_4_v08': dtype('float32'),\n",
       " 'tof_4_v09': dtype('float32'),\n",
       " 'tof_4_v10': dtype('float32'),\n",
       " 'tof_4_v11': dtype('float32'),\n",
       " 'tof_4_v12': dtype('float32'),\n",
       " 'tof_4_v13': dtype('float32'),\n",
       " 'tof_4_v14': dtype('float32'),\n",
       " 'tof_4_v15': dtype('float32'),\n",
       " 'tof_4_v16': dtype('float32'),\n",
       " 'tof_4_v17': dtype('float32'),\n",
       " 'tof_4_v18': dtype('float32'),\n",
       " 'tof_4_v19': dtype('float32'),\n",
       " 'tof_4_v20': dtype('float32'),\n",
       " 'tof_4_v21': dtype('float32'),\n",
       " 'tof_4_v22': dtype('float32'),\n",
       " 'tof_4_v23': dtype('float32'),\n",
       " 'tof_4_v24': dtype('float32'),\n",
       " 'tof_4_v25': dtype('float32'),\n",
       " 'tof_4_v26': dtype('float32'),\n",
       " 'tof_4_v27': dtype('float32'),\n",
       " 'tof_4_v28': dtype('float32'),\n",
       " 'tof_4_v29': dtype('float32'),\n",
       " 'tof_4_v30': dtype('float32'),\n",
       " 'tof_4_v31': dtype('float32'),\n",
       " 'tof_4_v32': dtype('float32'),\n",
       " 'tof_4_v33': dtype('float32'),\n",
       " 'tof_4_v34': dtype('float32'),\n",
       " 'tof_4_v35': dtype('float32'),\n",
       " 'tof_4_v36': dtype('float32'),\n",
       " 'tof_4_v37': dtype('float32'),\n",
       " 'tof_4_v38': dtype('float32'),\n",
       " 'tof_4_v39': dtype('float32'),\n",
       " 'tof_4_v40': dtype('float32'),\n",
       " 'tof_4_v41': dtype('float32'),\n",
       " 'tof_4_v42': dtype('float32'),\n",
       " 'tof_4_v43': dtype('float32'),\n",
       " 'tof_4_v44': dtype('float32'),\n",
       " 'tof_4_v45': dtype('float32'),\n",
       " 'tof_4_v46': dtype('float32'),\n",
       " 'tof_4_v47': dtype('float32'),\n",
       " 'tof_4_v48': dtype('float32'),\n",
       " 'tof_4_v49': dtype('float32'),\n",
       " 'tof_4_v50': dtype('float32'),\n",
       " 'tof_4_v51': dtype('float32'),\n",
       " 'tof_4_v52': dtype('float32'),\n",
       " 'tof_4_v53': dtype('float32'),\n",
       " 'tof_4_v54': dtype('float32'),\n",
       " 'tof_4_v55': dtype('float32'),\n",
       " 'tof_4_v56': dtype('float32'),\n",
       " 'tof_4_v57': dtype('float32'),\n",
       " 'tof_4_v58': dtype('float32'),\n",
       " 'tof_4_v59': dtype('float32'),\n",
       " 'tof_4_v60': dtype('float32'),\n",
       " 'tof_4_v61': dtype('float32'),\n",
       " 'tof_4_v62': dtype('float32'),\n",
       " 'tof_4_v63': dtype('float32'),\n",
       " 'tof_5_v00': dtype('float32'),\n",
       " 'tof_5_v01': dtype('float32'),\n",
       " 'tof_5_v02': dtype('float32'),\n",
       " 'tof_5_v03': dtype('float32'),\n",
       " 'tof_5_v04': dtype('float32'),\n",
       " 'tof_5_v05': dtype('float32'),\n",
       " 'tof_5_v06': dtype('float32'),\n",
       " 'tof_5_v07': dtype('float32'),\n",
       " 'tof_5_v08': dtype('float32'),\n",
       " 'tof_5_v09': dtype('float32'),\n",
       " 'tof_5_v10': dtype('float32'),\n",
       " 'tof_5_v11': dtype('float32'),\n",
       " 'tof_5_v12': dtype('float32'),\n",
       " 'tof_5_v13': dtype('float32'),\n",
       " 'tof_5_v14': dtype('float32'),\n",
       " 'tof_5_v15': dtype('float32'),\n",
       " 'tof_5_v16': dtype('float32'),\n",
       " 'tof_5_v17': dtype('float32'),\n",
       " 'tof_5_v18': dtype('float32'),\n",
       " 'tof_5_v19': dtype('float32'),\n",
       " 'tof_5_v20': dtype('float32'),\n",
       " 'tof_5_v21': dtype('float32'),\n",
       " 'tof_5_v22': dtype('float32'),\n",
       " 'tof_5_v23': dtype('float32'),\n",
       " 'tof_5_v24': dtype('float32'),\n",
       " 'tof_5_v25': dtype('float32'),\n",
       " 'tof_5_v26': dtype('float32'),\n",
       " 'tof_5_v27': dtype('float32'),\n",
       " 'tof_5_v28': dtype('float32'),\n",
       " 'tof_5_v29': dtype('float32'),\n",
       " 'tof_5_v30': dtype('float32'),\n",
       " 'tof_5_v31': dtype('float32'),\n",
       " 'tof_5_v32': dtype('float32'),\n",
       " 'tof_5_v33': dtype('float32'),\n",
       " 'tof_5_v34': dtype('float32'),\n",
       " 'tof_5_v35': dtype('float32'),\n",
       " 'tof_5_v36': dtype('float32'),\n",
       " 'tof_5_v37': dtype('float32'),\n",
       " 'tof_5_v38': dtype('float32'),\n",
       " 'tof_5_v39': dtype('float32'),\n",
       " 'tof_5_v40': dtype('float32'),\n",
       " 'tof_5_v41': dtype('float32'),\n",
       " 'tof_5_v42': dtype('float32'),\n",
       " 'tof_5_v43': dtype('float32'),\n",
       " 'tof_5_v44': dtype('float32'),\n",
       " 'tof_5_v45': dtype('float32'),\n",
       " 'tof_5_v46': dtype('float32'),\n",
       " 'tof_5_v47': dtype('float32'),\n",
       " 'tof_5_v48': dtype('float32'),\n",
       " 'tof_5_v49': dtype('float32'),\n",
       " 'tof_5_v50': dtype('float32'),\n",
       " 'tof_5_v51': dtype('float32'),\n",
       " 'tof_5_v52': dtype('float32'),\n",
       " 'tof_5_v53': dtype('float32'),\n",
       " 'tof_5_v54': dtype('float32'),\n",
       " 'tof_5_v55': dtype('float32'),\n",
       " 'tof_5_v56': dtype('float32'),\n",
       " 'tof_5_v57': dtype('float32'),\n",
       " 'tof_5_v58': dtype('float32'),\n",
       " 'tof_5_v59': dtype('float32'),\n",
       " 'tof_5_v60': dtype('float32'),\n",
       " 'tof_5_v61': dtype('float32'),\n",
       " 'tof_5_v62': dtype('float32'),\n",
       " 'tof_5_v63': dtype('float32'),\n",
       " 'linear_acc_x': dtype('float32'),\n",
       " 'linear_acc_y': dtype('float32'),\n",
       " 'linear_acc_z': dtype('float32'),\n",
       " 'acc_mag': dtype('float32'),\n",
       " 'linear_acc_mag': dtype('float32'),\n",
       " 'quat_rot_mag': dtype('float32'),\n",
       " 'angular_vel_x': dtype('float64'),\n",
       " 'angular_vel_y': dtype('float64'),\n",
       " 'angular_vel_z': dtype('float64'),\n",
       " 'rotation_axis_x': dtype('float64'),\n",
       " 'rotation_axis_y': dtype('float64'),\n",
       " 'rotation_axis_z': dtype('float64'),\n",
       " 'delta_rot_mag': dtype('float64'),\n",
       " 'euler_x': dtype('float64'),\n",
       " 'euler_y': dtype('float64'),\n",
       " 'euler_z': dtype('float64'),\n",
       " 'Above ear - pull hair': dtype('bool'),\n",
       " 'Cheek - pinch skin': dtype('bool'),\n",
       " 'Drink from bottle/cup': dtype('bool'),\n",
       " 'Eyebrow - pull hair': dtype('bool'),\n",
       " 'Eyelash - pull hair': dtype('bool'),\n",
       " 'Feel around in tray and pull out an object': dtype('bool'),\n",
       " 'Forehead - pull hairline': dtype('bool'),\n",
       " 'Forehead - scratch': dtype('bool'),\n",
       " 'Glasses on/off': dtype('bool'),\n",
       " 'Neck - pinch skin': dtype('bool'),\n",
       " 'Neck - scratch': dtype('bool'),\n",
       " 'Pinch knee/leg skin': dtype('bool'),\n",
       " 'Pull air toward your face': dtype('bool'),\n",
       " 'Scratch knee/leg skin': dtype('bool'),\n",
       " 'Text on phone': dtype('bool'),\n",
       " 'Wave hello': dtype('bool'),\n",
       " 'Write name in air': dtype('bool'),\n",
       " 'Write name on leg': dtype('bool'),\n",
       " 'tof_1_mean': dtype('float32'),\n",
       " 'tof_1_std': dtype('float32'),\n",
       " 'tof_1_median': dtype('float32'),\n",
       " 'tof_1_min': dtype('float32'),\n",
       " 'tof_1_max': dtype('float32'),\n",
       " 'tof_2_mean': dtype('float32'),\n",
       " 'tof_2_std': dtype('float32'),\n",
       " 'tof_2_median': dtype('float32'),\n",
       " 'tof_2_min': dtype('float32'),\n",
       " 'tof_2_max': dtype('float32'),\n",
       " 'tof_3_mean': dtype('float32'),\n",
       " 'tof_3_std': dtype('float32'),\n",
       " 'tof_3_median': dtype('float32'),\n",
       " 'tof_3_min': dtype('float32'),\n",
       " 'tof_3_max': dtype('float32'),\n",
       " 'tof_4_mean': dtype('float32'),\n",
       " 'tof_4_std': dtype('float32'),\n",
       " 'tof_4_median': dtype('float32'),\n",
       " 'tof_4_min': dtype('float32'),\n",
       " 'tof_4_max': dtype('float32'),\n",
       " 'tof_5_mean': dtype('float32'),\n",
       " 'tof_5_std': dtype('float32'),\n",
       " 'tof_5_median': dtype('float32'),\n",
       " 'tof_5_min': dtype('float32'),\n",
       " 'tof_5_max': dtype('float32')}"
      ]
     },
     "execution_count": 17,
     "metadata": {},
     "output_type": "execute_result"
    }
   ],
   "source": [
    "df.dtypes.to_dict()"
   ]
  },
  {
   "cell_type": "code",
   "execution_count": 18,
   "id": "a1b344b1",
   "metadata": {},
   "outputs": [
    {
     "data": {
      "text/plain": [
       "{'acc_mag': 0,\n",
       " 'acc_x': 0,\n",
       " 'acc_y': 0,\n",
       " 'acc_z': 0,\n",
       " 'angular_vel_x': 0,\n",
       " 'angular_vel_y': 0,\n",
       " 'angular_vel_z': 0,\n",
       " 'delta_rot_mag': 0,\n",
       " 'euler_x': 0,\n",
       " 'euler_y': 0,\n",
       " 'euler_z': 0,\n",
       " 'linear_acc_mag': 0,\n",
       " 'linear_acc_x': 0,\n",
       " 'linear_acc_y': 0,\n",
       " 'linear_acc_z': 0,\n",
       " 'quat_rot_mag': 0,\n",
       " 'rot_w': 1.0,\n",
       " 'rot_x': 0,\n",
       " 'rot_y': 0,\n",
       " 'rot_z': 0,\n",
       " 'rotation_axis_x': 0,\n",
       " 'rotation_axis_y': 0,\n",
       " 'rotation_axis_z': 0,\n",
       " 'thm_1': 0,\n",
       " 'thm_2': 0,\n",
       " 'thm_3': 0,\n",
       " 'thm_4': 0,\n",
       " 'thm_5': 0,\n",
       " 'tof_1_max': 0,\n",
       " 'tof_1_mean': 0,\n",
       " 'tof_1_median': 0,\n",
       " 'tof_1_min': 0,\n",
       " 'tof_1_std': 0,\n",
       " 'tof_1_v00': 0,\n",
       " 'tof_1_v01': 0,\n",
       " 'tof_1_v02': 0,\n",
       " 'tof_1_v03': 0,\n",
       " 'tof_1_v04': 0,\n",
       " 'tof_1_v05': 0,\n",
       " 'tof_1_v06': 0,\n",
       " 'tof_1_v07': 0,\n",
       " 'tof_1_v08': 0,\n",
       " 'tof_1_v09': 0,\n",
       " 'tof_1_v10': 0,\n",
       " 'tof_1_v11': 0,\n",
       " 'tof_1_v12': 0,\n",
       " 'tof_1_v13': 0,\n",
       " 'tof_1_v14': 0,\n",
       " 'tof_1_v15': 0,\n",
       " 'tof_1_v16': 0,\n",
       " 'tof_1_v17': 0,\n",
       " 'tof_1_v18': 0,\n",
       " 'tof_1_v19': 0,\n",
       " 'tof_1_v20': 0,\n",
       " 'tof_1_v21': 0,\n",
       " 'tof_1_v22': 0,\n",
       " 'tof_1_v23': 0,\n",
       " 'tof_1_v24': 0,\n",
       " 'tof_1_v25': 0,\n",
       " 'tof_1_v26': 0,\n",
       " 'tof_1_v27': 0,\n",
       " 'tof_1_v28': 0,\n",
       " 'tof_1_v29': 0,\n",
       " 'tof_1_v30': 0,\n",
       " 'tof_1_v31': 0,\n",
       " 'tof_1_v32': 0,\n",
       " 'tof_1_v33': 0,\n",
       " 'tof_1_v34': 0,\n",
       " 'tof_1_v35': 0,\n",
       " 'tof_1_v36': 0,\n",
       " 'tof_1_v37': 0,\n",
       " 'tof_1_v38': 0,\n",
       " 'tof_1_v39': 0,\n",
       " 'tof_1_v40': 0,\n",
       " 'tof_1_v41': 0,\n",
       " 'tof_1_v42': 0,\n",
       " 'tof_1_v43': 0,\n",
       " 'tof_1_v44': 0,\n",
       " 'tof_1_v45': 0,\n",
       " 'tof_1_v46': 0,\n",
       " 'tof_1_v47': 0,\n",
       " 'tof_1_v48': 0,\n",
       " 'tof_1_v49': 0,\n",
       " 'tof_1_v50': 0,\n",
       " 'tof_1_v51': 0,\n",
       " 'tof_1_v52': 0,\n",
       " 'tof_1_v53': 0,\n",
       " 'tof_1_v54': 0,\n",
       " 'tof_1_v55': 0,\n",
       " 'tof_1_v56': 0,\n",
       " 'tof_1_v57': 0,\n",
       " 'tof_1_v58': 0,\n",
       " 'tof_1_v59': 0,\n",
       " 'tof_1_v60': 0,\n",
       " 'tof_1_v61': 0,\n",
       " 'tof_1_v62': 0,\n",
       " 'tof_1_v63': 0,\n",
       " 'tof_2_max': 0,\n",
       " 'tof_2_mean': 0,\n",
       " 'tof_2_median': 0,\n",
       " 'tof_2_min': 0,\n",
       " 'tof_2_std': 0,\n",
       " 'tof_2_v00': 0,\n",
       " 'tof_2_v01': 0,\n",
       " 'tof_2_v02': 0,\n",
       " 'tof_2_v03': 0,\n",
       " 'tof_2_v04': 0,\n",
       " 'tof_2_v05': 0,\n",
       " 'tof_2_v06': 0,\n",
       " 'tof_2_v07': 0,\n",
       " 'tof_2_v08': 0,\n",
       " 'tof_2_v09': 0,\n",
       " 'tof_2_v10': 0,\n",
       " 'tof_2_v11': 0,\n",
       " 'tof_2_v12': 0,\n",
       " 'tof_2_v13': 0,\n",
       " 'tof_2_v14': 0,\n",
       " 'tof_2_v15': 0,\n",
       " 'tof_2_v16': 0,\n",
       " 'tof_2_v17': 0,\n",
       " 'tof_2_v18': 0,\n",
       " 'tof_2_v19': 0,\n",
       " 'tof_2_v20': 0,\n",
       " 'tof_2_v21': 0,\n",
       " 'tof_2_v22': 0,\n",
       " 'tof_2_v23': 0,\n",
       " 'tof_2_v24': 0,\n",
       " 'tof_2_v25': 0,\n",
       " 'tof_2_v26': 0,\n",
       " 'tof_2_v27': 0,\n",
       " 'tof_2_v28': 0,\n",
       " 'tof_2_v29': 0,\n",
       " 'tof_2_v30': 0,\n",
       " 'tof_2_v31': 0,\n",
       " 'tof_2_v32': 0,\n",
       " 'tof_2_v33': 0,\n",
       " 'tof_2_v34': 0,\n",
       " 'tof_2_v35': 0,\n",
       " 'tof_2_v36': 0,\n",
       " 'tof_2_v37': 0,\n",
       " 'tof_2_v38': 0,\n",
       " 'tof_2_v39': 0,\n",
       " 'tof_2_v40': 0,\n",
       " 'tof_2_v41': 0,\n",
       " 'tof_2_v42': 0,\n",
       " 'tof_2_v43': 0,\n",
       " 'tof_2_v44': 0,\n",
       " 'tof_2_v45': 0,\n",
       " 'tof_2_v46': 0,\n",
       " 'tof_2_v47': 0,\n",
       " 'tof_2_v48': 0,\n",
       " 'tof_2_v49': 0,\n",
       " 'tof_2_v50': 0,\n",
       " 'tof_2_v51': 0,\n",
       " 'tof_2_v52': 0,\n",
       " 'tof_2_v53': 0,\n",
       " 'tof_2_v54': 0,\n",
       " 'tof_2_v55': 0,\n",
       " 'tof_2_v56': 0,\n",
       " 'tof_2_v57': 0,\n",
       " 'tof_2_v58': 0,\n",
       " 'tof_2_v59': 0,\n",
       " 'tof_2_v60': 0,\n",
       " 'tof_2_v61': 0,\n",
       " 'tof_2_v62': 0,\n",
       " 'tof_2_v63': 0,\n",
       " 'tof_3_max': 0,\n",
       " 'tof_3_mean': 0,\n",
       " 'tof_3_median': 0,\n",
       " 'tof_3_min': 0,\n",
       " 'tof_3_std': 0,\n",
       " 'tof_3_v00': 0,\n",
       " 'tof_3_v01': 0,\n",
       " 'tof_3_v02': 0,\n",
       " 'tof_3_v03': 0,\n",
       " 'tof_3_v04': 0,\n",
       " 'tof_3_v05': 0,\n",
       " 'tof_3_v06': 0,\n",
       " 'tof_3_v07': 0,\n",
       " 'tof_3_v08': 0,\n",
       " 'tof_3_v09': 0,\n",
       " 'tof_3_v10': 0,\n",
       " 'tof_3_v11': 0,\n",
       " 'tof_3_v12': 0,\n",
       " 'tof_3_v13': 0,\n",
       " 'tof_3_v14': 0,\n",
       " 'tof_3_v15': 0,\n",
       " 'tof_3_v16': 0,\n",
       " 'tof_3_v17': 0,\n",
       " 'tof_3_v18': 0,\n",
       " 'tof_3_v19': 0,\n",
       " 'tof_3_v20': 0,\n",
       " 'tof_3_v21': 0,\n",
       " 'tof_3_v22': 0,\n",
       " 'tof_3_v23': 0,\n",
       " 'tof_3_v24': 0,\n",
       " 'tof_3_v25': 0,\n",
       " 'tof_3_v26': 0,\n",
       " 'tof_3_v27': 0,\n",
       " 'tof_3_v28': 0,\n",
       " 'tof_3_v29': 0,\n",
       " 'tof_3_v30': 0,\n",
       " 'tof_3_v31': 0,\n",
       " 'tof_3_v32': 0,\n",
       " 'tof_3_v33': 0,\n",
       " 'tof_3_v34': 0,\n",
       " 'tof_3_v35': 0,\n",
       " 'tof_3_v36': 0,\n",
       " 'tof_3_v37': 0,\n",
       " 'tof_3_v38': 0,\n",
       " 'tof_3_v39': 0,\n",
       " 'tof_3_v40': 0,\n",
       " 'tof_3_v41': 0,\n",
       " 'tof_3_v42': 0,\n",
       " 'tof_3_v43': 0,\n",
       " 'tof_3_v44': 0,\n",
       " 'tof_3_v45': 0,\n",
       " 'tof_3_v46': 0,\n",
       " 'tof_3_v47': 0,\n",
       " 'tof_3_v48': 0,\n",
       " 'tof_3_v49': 0,\n",
       " 'tof_3_v50': 0,\n",
       " 'tof_3_v51': 0,\n",
       " 'tof_3_v52': 0,\n",
       " 'tof_3_v53': 0,\n",
       " 'tof_3_v54': 0,\n",
       " 'tof_3_v55': 0,\n",
       " 'tof_3_v56': 0,\n",
       " 'tof_3_v57': 0,\n",
       " 'tof_3_v58': 0,\n",
       " 'tof_3_v59': 0,\n",
       " 'tof_3_v60': 0,\n",
       " 'tof_3_v61': 0,\n",
       " 'tof_3_v62': 0,\n",
       " 'tof_3_v63': 0,\n",
       " 'tof_4_max': 0,\n",
       " 'tof_4_mean': 0,\n",
       " 'tof_4_median': 0,\n",
       " 'tof_4_min': 0,\n",
       " 'tof_4_std': 0,\n",
       " 'tof_4_v00': 0,\n",
       " 'tof_4_v01': 0,\n",
       " 'tof_4_v02': 0,\n",
       " 'tof_4_v03': 0,\n",
       " 'tof_4_v04': 0,\n",
       " 'tof_4_v05': 0,\n",
       " 'tof_4_v06': 0,\n",
       " 'tof_4_v07': 0,\n",
       " 'tof_4_v08': 0,\n",
       " 'tof_4_v09': 0,\n",
       " 'tof_4_v10': 0,\n",
       " 'tof_4_v11': 0,\n",
       " 'tof_4_v12': 0,\n",
       " 'tof_4_v13': 0,\n",
       " 'tof_4_v14': 0,\n",
       " 'tof_4_v15': 0,\n",
       " 'tof_4_v16': 0,\n",
       " 'tof_4_v17': 0,\n",
       " 'tof_4_v18': 0,\n",
       " 'tof_4_v19': 0,\n",
       " 'tof_4_v20': 0,\n",
       " 'tof_4_v21': 0,\n",
       " 'tof_4_v22': 0,\n",
       " 'tof_4_v23': 0,\n",
       " 'tof_4_v24': 0,\n",
       " 'tof_4_v25': 0,\n",
       " 'tof_4_v26': 0,\n",
       " 'tof_4_v27': 0,\n",
       " 'tof_4_v28': 0,\n",
       " 'tof_4_v29': 0,\n",
       " 'tof_4_v30': 0,\n",
       " 'tof_4_v31': 0,\n",
       " 'tof_4_v32': 0,\n",
       " 'tof_4_v33': 0,\n",
       " 'tof_4_v34': 0,\n",
       " 'tof_4_v35': 0,\n",
       " 'tof_4_v36': 0,\n",
       " 'tof_4_v37': 0,\n",
       " 'tof_4_v38': 0,\n",
       " 'tof_4_v39': 0,\n",
       " 'tof_4_v40': 0,\n",
       " 'tof_4_v41': 0,\n",
       " 'tof_4_v42': 0,\n",
       " 'tof_4_v43': 0,\n",
       " 'tof_4_v44': 0,\n",
       " 'tof_4_v45': 0,\n",
       " 'tof_4_v46': 0,\n",
       " 'tof_4_v47': 0,\n",
       " 'tof_4_v48': 0,\n",
       " 'tof_4_v49': 0,\n",
       " 'tof_4_v50': 0,\n",
       " 'tof_4_v51': 0,\n",
       " 'tof_4_v52': 0,\n",
       " 'tof_4_v53': 0,\n",
       " 'tof_4_v54': 0,\n",
       " 'tof_4_v55': 0,\n",
       " 'tof_4_v56': 0,\n",
       " 'tof_4_v57': 0,\n",
       " 'tof_4_v58': 0,\n",
       " 'tof_4_v59': 0,\n",
       " 'tof_4_v60': 0,\n",
       " 'tof_4_v61': 0,\n",
       " 'tof_4_v62': 0,\n",
       " 'tof_4_v63': 0,\n",
       " 'tof_5_max': 0,\n",
       " 'tof_5_mean': 0,\n",
       " 'tof_5_median': 0,\n",
       " 'tof_5_min': 0,\n",
       " 'tof_5_std': 0,\n",
       " 'tof_5_v00': 0,\n",
       " 'tof_5_v01': 0,\n",
       " 'tof_5_v02': 0,\n",
       " 'tof_5_v03': 0,\n",
       " 'tof_5_v04': 0,\n",
       " 'tof_5_v05': 0,\n",
       " 'tof_5_v06': 0,\n",
       " 'tof_5_v07': 0,\n",
       " 'tof_5_v08': 0,\n",
       " 'tof_5_v09': 0,\n",
       " 'tof_5_v10': 0,\n",
       " 'tof_5_v11': 0,\n",
       " 'tof_5_v12': 0,\n",
       " 'tof_5_v13': 0,\n",
       " 'tof_5_v14': 0,\n",
       " 'tof_5_v15': 0,\n",
       " 'tof_5_v16': 0,\n",
       " 'tof_5_v17': 0,\n",
       " 'tof_5_v18': 0,\n",
       " 'tof_5_v19': 0,\n",
       " 'tof_5_v20': 0,\n",
       " 'tof_5_v21': 0,\n",
       " 'tof_5_v22': 0,\n",
       " 'tof_5_v23': 0,\n",
       " 'tof_5_v24': 0,\n",
       " 'tof_5_v25': 0,\n",
       " 'tof_5_v26': 0,\n",
       " 'tof_5_v27': 0,\n",
       " 'tof_5_v28': 0,\n",
       " 'tof_5_v29': 0,\n",
       " 'tof_5_v30': 0,\n",
       " 'tof_5_v31': 0,\n",
       " 'tof_5_v32': 0,\n",
       " 'tof_5_v33': 0,\n",
       " 'tof_5_v34': 0,\n",
       " 'tof_5_v35': 0,\n",
       " 'tof_5_v36': 0,\n",
       " 'tof_5_v37': 0,\n",
       " 'tof_5_v38': 0,\n",
       " 'tof_5_v39': 0,\n",
       " 'tof_5_v40': 0,\n",
       " 'tof_5_v41': 0,\n",
       " 'tof_5_v42': 0,\n",
       " 'tof_5_v43': 0,\n",
       " 'tof_5_v44': 0,\n",
       " 'tof_5_v45': 0,\n",
       " 'tof_5_v46': 0,\n",
       " 'tof_5_v47': 0,\n",
       " 'tof_5_v48': 0,\n",
       " 'tof_5_v49': 0,\n",
       " 'tof_5_v50': 0,\n",
       " 'tof_5_v51': 0,\n",
       " 'tof_5_v52': 0,\n",
       " 'tof_5_v53': 0,\n",
       " 'tof_5_v54': 0,\n",
       " 'tof_5_v55': 0,\n",
       " 'tof_5_v56': 0,\n",
       " 'tof_5_v57': 0,\n",
       " 'tof_5_v58': 0,\n",
       " 'tof_5_v59': 0,\n",
       " 'tof_5_v60': 0,\n",
       " 'tof_5_v61': 0,\n",
       " 'tof_5_v62': 0,\n",
       " 'tof_5_v63': 0}"
      ]
     },
     "execution_count": 18,
     "metadata": {},
     "output_type": "execute_result"
    }
   ],
   "source": [
    "get_fillna_val_per_feature_col(df)"
   ]
  },
  {
   "cell_type": "markdown",
   "id": "daaafef8",
   "metadata": {},
   "source": [
    "### Add derivatives w.r.t time features"
   ]
  },
  {
   "cell_type": "code",
   "execution_count": 19,
   "id": "8bd05775",
   "metadata": {},
   "outputs": [],
   "source": [
    "def add_diff_features(df:DF) -> DF:\n",
    "    return pd.concat(\n",
    "        (\n",
    "            df,\n",
    "            (\n",
    "                df\n",
    "                .groupby(\"sequence_id\", as_index=False, observed=True)\n",
    "                [get_feature_cols(df)]\n",
    "                .diff()\n",
    "                .fillna(get_fillna_val_per_feature_col(df))\n",
    "                .add_suffix(\"_diff\")\n",
    "            )\n",
    "        ),\n",
    "        axis=\"columns\",\n",
    "    )\n",
    "\n",
    "df = add_diff_features(df)"
   ]
  },
  {
   "cell_type": "code",
   "execution_count": 20,
   "id": "343e0255",
   "metadata": {},
   "outputs": [
    {
     "data": {
      "text/plain": [
       "746"
      ]
     },
     "execution_count": 20,
     "metadata": {},
     "output_type": "execute_result"
    }
   ],
   "source": [
    "len(get_feature_cols(df))"
   ]
  },
  {
   "cell_type": "markdown",
   "id": "05e480d3",
   "metadata": {},
   "source": [
    "### Split into folds"
   ]
  },
  {
   "cell_type": "code",
   "execution_count": 21,
   "id": "6a97fd1c",
   "metadata": {},
   "outputs": [
    {
     "data": {
      "text/plain": [
       "['Cheek - pinch skin',\n",
       " 'Forehead - pull hairline',\n",
       " 'Write name on leg',\n",
       " 'Feel around in tray and pull out an object',\n",
       " 'Neck - scratch',\n",
       " 'Neck - pinch skin',\n",
       " 'Eyelash - pull hair',\n",
       " 'Eyebrow - pull hair',\n",
       " 'Forehead - scratch',\n",
       " 'Above ear - pull hair',\n",
       " 'Wave hello',\n",
       " 'Write name in air',\n",
       " 'Text on phone',\n",
       " 'Pull air toward your face',\n",
       " 'Pinch knee/leg skin',\n",
       " 'Scratch knee/leg skin',\n",
       " 'Drink from bottle/cup',\n",
       " 'Glasses on/off']"
      ]
     },
     "execution_count": 21,
     "metadata": {},
     "output_type": "execute_result"
    }
   ],
   "source": [
    "df[\"gesture\"].unique().tolist()"
   ]
  },
  {
   "cell_type": "code",
   "execution_count": 22,
   "id": "4bae51e8",
   "metadata": {},
   "outputs": [],
   "source": [
    "def split_dataset_stratified_groupkfold(df: pd.DataFrame, target_col: str, group_col: str) -> list[tuple[pd.DataFrame, pd.DataFrame]]:\n",
    "    sgkf = StratifiedGroupKFold(n_splits=N_FOLDS, shuffle=True)\n",
    "\n",
    "    folds = []\n",
    "    X = df.drop(columns=[target_col])\n",
    "    y = df[target_col]\n",
    "    groups = df[group_col]\n",
    "\n",
    "    for train_idx, valid_idx in sgkf.split(X, y, groups):\n",
    "        train_df = df.iloc[train_idx].copy()\n",
    "        valid_df = df.iloc[valid_idx].copy()\n",
    "        folds.append((train_df, valid_df))\n",
    "\n",
    "    return folds\n",
    "\n",
    "# Example usage:\n",
    "folds = split_dataset_stratified_groupkfold(df, target_col=\"gesture\", group_col=\"subject\")"
   ]
  },
  {
   "cell_type": "markdown",
   "id": "d81b9c0d",
   "metadata": {},
   "source": [
    "### Std norm\n",
    "Standard scale the feature cols (should probably do something different for IMU cols).  \n",
    "<!-- *Deprecated, std norm is now performed at dataset creation to avoid target leakage.*   -->"
   ]
  },
  {
   "cell_type": "code",
   "execution_count": 23,
   "id": "c9d5755e",
   "metadata": {},
   "outputs": [],
   "source": [
    "def std_norm_dataset(train:DF, val:DF) -> tuple[DF, DF]:\n",
    "    means = train[get_feature_cols(df)].mean().astype(\"float32\")\n",
    "    stds = train[get_feature_cols(df)].std().astype(\"float32\")\n",
    "    test = train[get_feature_cols(df)] - means\n",
    "    train.loc[:, get_feature_cols(df)] = (train[get_feature_cols(df)] - means) / stds\n",
    "    val.loc[:, get_feature_cols(df)] = (val[get_feature_cols(df)] - means) / stds\n",
    "    return train, val\n",
    "\n",
    "# folds = list(starmap(std_norm_dataset, folds))"
   ]
  },
  {
   "cell_type": "markdown",
   "id": "b36ccf25",
   "metadata": {},
   "source": [
    "Normalize full dataset."
   ]
  },
  {
   "cell_type": "code",
   "execution_count": 24,
   "id": "9b2c7cac",
   "metadata": {},
   "outputs": [],
   "source": [
    "# Retain full dataset meta data for inference\n",
    "full_dataset_meta_data = {\n",
    "    \"mean\": df[get_feature_cols(df)].mean().astype(\"float32\").to_dict(),\n",
    "    \"std\": df[get_feature_cols(df)].std().astype(\"float32\").to_dict(),\n",
    "}\n",
    "# df.loc[:, get_feature_cols(df)] = (df[get_feature_cols(df)] - full_dataset_meta_data[\"mean\"]) / full_dataset_meta_data['std']"
   ]
  },
  {
   "cell_type": "markdown",
   "id": "7d8a04ce",
   "metadata": {},
   "source": [
    "Verify the mean and std of the full dataset."
   ]
  },
  {
   "cell_type": "code",
   "execution_count": 25,
   "id": "b02ca859",
   "metadata": {},
   "outputs": [
    {
     "data": {
      "text/html": [
       "<div>\n",
       "<style scoped>\n",
       "    .dataframe tbody tr th:only-of-type {\n",
       "        vertical-align: middle;\n",
       "    }\n",
       "\n",
       "    .dataframe tbody tr th {\n",
       "        vertical-align: top;\n",
       "    }\n",
       "\n",
       "    .dataframe thead th {\n",
       "        text-align: right;\n",
       "    }\n",
       "</style>\n",
       "<table border=\"1\" class=\"dataframe\">\n",
       "  <thead>\n",
       "    <tr style=\"text-align: right;\">\n",
       "      <th></th>\n",
       "      <th>acc_mag</th>\n",
       "      <th>acc_mag_diff</th>\n",
       "      <th>acc_x</th>\n",
       "      <th>acc_x_diff</th>\n",
       "      <th>acc_y</th>\n",
       "      <th>acc_y_diff</th>\n",
       "      <th>acc_z</th>\n",
       "      <th>acc_z_diff</th>\n",
       "      <th>angular_vel_x</th>\n",
       "      <th>angular_vel_x_diff</th>\n",
       "      <th>...</th>\n",
       "      <th>tof_5_v59</th>\n",
       "      <th>tof_5_v59_diff</th>\n",
       "      <th>tof_5_v60</th>\n",
       "      <th>tof_5_v60_diff</th>\n",
       "      <th>tof_5_v61</th>\n",
       "      <th>tof_5_v61_diff</th>\n",
       "      <th>tof_5_v62</th>\n",
       "      <th>tof_5_v62_diff</th>\n",
       "      <th>tof_5_v63</th>\n",
       "      <th>tof_5_v63_diff</th>\n",
       "    </tr>\n",
       "  </thead>\n",
       "  <tbody>\n",
       "    <tr>\n",
       "      <th>mean</th>\n",
       "      <td>10.013321</td>\n",
       "      <td>0.000845</td>\n",
       "      <td>1.639980</td>\n",
       "      <td>-0.033817</td>\n",
       "      <td>1.790704</td>\n",
       "      <td>0.042222</td>\n",
       "      <td>-0.459811</td>\n",
       "      <td>-0.075174</td>\n",
       "      <td>0.004202</td>\n",
       "      <td>0.002148</td>\n",
       "      <td>...</td>\n",
       "      <td>109.432045</td>\n",
       "      <td>0.053868</td>\n",
       "      <td>105.047684</td>\n",
       "      <td>0.054457</td>\n",
       "      <td>98.860481</td>\n",
       "      <td>0.023232</td>\n",
       "      <td>95.268021</td>\n",
       "      <td>0.042291</td>\n",
       "      <td>93.515732</td>\n",
       "      <td>0.030533</td>\n",
       "    </tr>\n",
       "    <tr>\n",
       "      <th>std</th>\n",
       "      <td>1.212614</td>\n",
       "      <td>1.730977</td>\n",
       "      <td>5.781259</td>\n",
       "      <td>2.150647</td>\n",
       "      <td>5.003945</td>\n",
       "      <td>1.541683</td>\n",
       "      <td>6.096490</td>\n",
       "      <td>2.045596</td>\n",
       "      <td>0.197478</td>\n",
       "      <td>0.191036</td>\n",
       "      <td>...</td>\n",
       "      <td>81.556953</td>\n",
       "      <td>14.378976</td>\n",
       "      <td>80.806358</td>\n",
       "      <td>13.759714</td>\n",
       "      <td>79.785675</td>\n",
       "      <td>13.369132</td>\n",
       "      <td>77.836243</td>\n",
       "      <td>12.671128</td>\n",
       "      <td>76.951424</td>\n",
       "      <td>12.434152</td>\n",
       "    </tr>\n",
       "  </tbody>\n",
       "</table>\n",
       "<p>2 rows × 746 columns</p>\n",
       "</div>"
      ],
      "text/plain": [
       "        acc_mag  acc_mag_diff     acc_x  acc_x_diff     acc_y  acc_y_diff  \\\n",
       "mean  10.013321      0.000845  1.639980   -0.033817  1.790704    0.042222   \n",
       "std    1.212614      1.730977  5.781259    2.150647  5.003945    1.541683   \n",
       "\n",
       "         acc_z  acc_z_diff  angular_vel_x  angular_vel_x_diff  ...  \\\n",
       "mean -0.459811   -0.075174       0.004202            0.002148  ...   \n",
       "std   6.096490    2.045596       0.197478            0.191036  ...   \n",
       "\n",
       "       tof_5_v59  tof_5_v59_diff   tof_5_v60  tof_5_v60_diff  tof_5_v61  \\\n",
       "mean  109.432045        0.053868  105.047684        0.054457  98.860481   \n",
       "std    81.556953       14.378976   80.806358       13.759714  79.785675   \n",
       "\n",
       "      tof_5_v61_diff  tof_5_v62  tof_5_v62_diff  tof_5_v63  tof_5_v63_diff  \n",
       "mean        0.023232  95.268021        0.042291  93.515732        0.030533  \n",
       "std        13.369132  77.836243       12.671128  76.951424       12.434152  \n",
       "\n",
       "[2 rows x 746 columns]"
      ]
     },
     "execution_count": 25,
     "metadata": {},
     "output_type": "execute_result"
    }
   ],
   "source": [
    "df[get_feature_cols(df)].agg([\"mean\", \"std\"])"
   ]
  },
  {
   "cell_type": "markdown",
   "id": "f840652f",
   "metadata": {},
   "source": [
    "Let's compare the train to validation mean/std skews."
   ]
  },
  {
   "cell_type": "code",
   "execution_count": 26,
   "id": "9ce0ae47",
   "metadata": {},
   "outputs": [
    {
     "data": {
      "text/html": [
       "<div>\n",
       "<style scoped>\n",
       "    .dataframe tbody tr th:only-of-type {\n",
       "        vertical-align: middle;\n",
       "    }\n",
       "\n",
       "    .dataframe tbody tr th {\n",
       "        vertical-align: top;\n",
       "    }\n",
       "\n",
       "    .dataframe thead th {\n",
       "        text-align: right;\n",
       "    }\n",
       "</style>\n",
       "<table border=\"1\" class=\"dataframe\">\n",
       "  <thead>\n",
       "    <tr style=\"text-align: right;\">\n",
       "      <th></th>\n",
       "      <th></th>\n",
       "      <th>acc_mag</th>\n",
       "      <th>acc_mag_diff</th>\n",
       "      <th>acc_x</th>\n",
       "      <th>acc_x_diff</th>\n",
       "      <th>acc_y</th>\n",
       "      <th>acc_y_diff</th>\n",
       "      <th>acc_z</th>\n",
       "      <th>acc_z_diff</th>\n",
       "      <th>angular_vel_x</th>\n",
       "      <th>angular_vel_x_diff</th>\n",
       "      <th>...</th>\n",
       "      <th>tof_5_v59</th>\n",
       "      <th>tof_5_v59_diff</th>\n",
       "      <th>tof_5_v60</th>\n",
       "      <th>tof_5_v60_diff</th>\n",
       "      <th>tof_5_v61</th>\n",
       "      <th>tof_5_v61_diff</th>\n",
       "      <th>tof_5_v62</th>\n",
       "      <th>tof_5_v62_diff</th>\n",
       "      <th>tof_5_v63</th>\n",
       "      <th>tof_5_v63_diff</th>\n",
       "    </tr>\n",
       "  </thead>\n",
       "  <tbody>\n",
       "    <tr>\n",
       "      <th rowspan=\"2\" valign=\"top\">train</th>\n",
       "      <th>mean</th>\n",
       "      <td>10.004488</td>\n",
       "      <td>0.000862</td>\n",
       "      <td>1.611876</td>\n",
       "      <td>-0.033106</td>\n",
       "      <td>1.764006</td>\n",
       "      <td>0.040635</td>\n",
       "      <td>-0.427362</td>\n",
       "      <td>-0.074988</td>\n",
       "      <td>0.004108</td>\n",
       "      <td>0.002136</td>\n",
       "      <td>...</td>\n",
       "      <td>110.212059</td>\n",
       "      <td>0.050321</td>\n",
       "      <td>105.685349</td>\n",
       "      <td>0.058049</td>\n",
       "      <td>98.920914</td>\n",
       "      <td>0.019799</td>\n",
       "      <td>95.032890</td>\n",
       "      <td>0.034731</td>\n",
       "      <td>93.488266</td>\n",
       "      <td>0.022082</td>\n",
       "    </tr>\n",
       "    <tr>\n",
       "      <th>std</th>\n",
       "      <td>1.193863</td>\n",
       "      <td>1.713022</td>\n",
       "      <td>5.794730</td>\n",
       "      <td>2.112629</td>\n",
       "      <td>4.977146</td>\n",
       "      <td>1.541242</td>\n",
       "      <td>6.105071</td>\n",
       "      <td>2.038839</td>\n",
       "      <td>0.195563</td>\n",
       "      <td>0.189077</td>\n",
       "      <td>...</td>\n",
       "      <td>81.767296</td>\n",
       "      <td>14.453572</td>\n",
       "      <td>80.929665</td>\n",
       "      <td>13.838927</td>\n",
       "      <td>79.857689</td>\n",
       "      <td>13.439622</td>\n",
       "      <td>78.086006</td>\n",
       "      <td>12.726898</td>\n",
       "      <td>76.991798</td>\n",
       "      <td>12.460450</td>\n",
       "    </tr>\n",
       "    <tr>\n",
       "      <th rowspan=\"2\" valign=\"top\">validation</th>\n",
       "      <th>mean</th>\n",
       "      <td>10.050064</td>\n",
       "      <td>0.000774</td>\n",
       "      <td>1.756865</td>\n",
       "      <td>-0.036775</td>\n",
       "      <td>1.901739</td>\n",
       "      <td>0.048824</td>\n",
       "      <td>-0.594768</td>\n",
       "      <td>-0.075944</td>\n",
       "      <td>0.004593</td>\n",
       "      <td>0.002196</td>\n",
       "      <td>...</td>\n",
       "      <td>106.187935</td>\n",
       "      <td>0.068617</td>\n",
       "      <td>102.395561</td>\n",
       "      <td>0.039518</td>\n",
       "      <td>98.609146</td>\n",
       "      <td>0.037508</td>\n",
       "      <td>96.245979</td>\n",
       "      <td>0.073732</td>\n",
       "      <td>93.629982</td>\n",
       "      <td>0.065683</td>\n",
       "    </tr>\n",
       "    <tr>\n",
       "      <th>std</th>\n",
       "      <td>1.287031</td>\n",
       "      <td>1.803740</td>\n",
       "      <td>5.723436</td>\n",
       "      <td>2.302049</td>\n",
       "      <td>5.112428</td>\n",
       "      <td>1.543508</td>\n",
       "      <td>6.058836</td>\n",
       "      <td>2.073469</td>\n",
       "      <td>0.205252</td>\n",
       "      <td>0.198975</td>\n",
       "      <td>...</td>\n",
       "      <td>80.595642</td>\n",
       "      <td>14.064533</td>\n",
       "      <td>80.237495</td>\n",
       "      <td>13.425301</td>\n",
       "      <td>79.485359</td>\n",
       "      <td>13.071937</td>\n",
       "      <td>76.781349</td>\n",
       "      <td>12.436500</td>\n",
       "      <td>76.783539</td>\n",
       "      <td>12.324168</td>\n",
       "    </tr>\n",
       "  </tbody>\n",
       "</table>\n",
       "<p>4 rows × 746 columns</p>\n",
       "</div>"
      ],
      "text/plain": [
       "                   acc_mag  acc_mag_diff     acc_x  acc_x_diff     acc_y  \\\n",
       "train      mean  10.004488      0.000862  1.611876   -0.033106  1.764006   \n",
       "           std    1.193863      1.713022  5.794730    2.112629  4.977146   \n",
       "validation mean  10.050064      0.000774  1.756865   -0.036775  1.901739   \n",
       "           std    1.287031      1.803740  5.723436    2.302049  5.112428   \n",
       "\n",
       "                 acc_y_diff     acc_z  acc_z_diff  angular_vel_x  \\\n",
       "train      mean    0.040635 -0.427362   -0.074988       0.004108   \n",
       "           std     1.541242  6.105071    2.038839       0.195563   \n",
       "validation mean    0.048824 -0.594768   -0.075944       0.004593   \n",
       "           std     1.543508  6.058836    2.073469       0.205252   \n",
       "\n",
       "                 angular_vel_x_diff  ...   tof_5_v59  tof_5_v59_diff  \\\n",
       "train      mean            0.002136  ...  110.212059        0.050321   \n",
       "           std             0.189077  ...   81.767296       14.453572   \n",
       "validation mean            0.002196  ...  106.187935        0.068617   \n",
       "           std             0.198975  ...   80.595642       14.064533   \n",
       "\n",
       "                  tof_5_v60  tof_5_v60_diff  tof_5_v61  tof_5_v61_diff  \\\n",
       "train      mean  105.685349        0.058049  98.920914        0.019799   \n",
       "           std    80.929665       13.838927  79.857689       13.439622   \n",
       "validation mean  102.395561        0.039518  98.609146        0.037508   \n",
       "           std    80.237495       13.425301  79.485359       13.071937   \n",
       "\n",
       "                 tof_5_v62  tof_5_v62_diff  tof_5_v63  tof_5_v63_diff  \n",
       "train      mean  95.032890        0.034731  93.488266        0.022082  \n",
       "           std   78.086006       12.726898  76.991798       12.460450  \n",
       "validation mean  96.245979        0.073732  93.629982        0.065683  \n",
       "           std   76.781349       12.436500  76.783539       12.324168  \n",
       "\n",
       "[4 rows x 746 columns]"
      ]
     },
     "execution_count": 26,
     "metadata": {},
     "output_type": "execute_result"
    }
   ],
   "source": [
    "pd.concat({\n",
    "    \"train\": folds[0][0][get_feature_cols(df)].agg([\"mean\", \"std\"]),\n",
    "    \"validation\": folds[0][1][get_feature_cols(df)].agg([\"mean\", \"std\"]),\n",
    "})"
   ]
  },
  {
   "cell_type": "markdown",
   "id": "9bc09714",
   "metadata": {},
   "source": [
    "### Normalize sequences lengths.  \n",
    "And turn the Dataframes into ndarrays."
   ]
  },
  {
   "cell_type": "markdown",
   "id": "76699499",
   "metadata": {},
   "source": [
    "#### Visualize histogram of sequences lengths."
   ]
  },
  {
   "cell_type": "markdown",
   "id": "b3477111",
   "metadata": {},
   "source": [
    "Entire dataset sequences lengths."
   ]
  },
  {
   "cell_type": "code",
   "execution_count": 27,
   "id": "876907d8",
   "metadata": {},
   "outputs": [
    {
     "data": {
      "application/vnd.plotly.v1+json": {
       "config": {
        "plotlyServerURL": "https://plot.ly"
       },
       "data": [
        {
         "bingroup": "x",
         "hovertemplate": "variable=0<br>value=%{x}<br>count=%{y}<extra></extra>",
         "legendgroup": "0",
         "marker": {
          "color": "#636efa",
          "pattern": {
           "shape": ""
          }
         },
         "name": "0",
         "orientation": "v",
         "showlegend": true,
         "type": "histogram",
         "x": {
          "bdata": "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",
          "dtype": "i2"
         },
         "xaxis": "x",
         "yaxis": "y"
        }
       ],
       "layout": {
        "barmode": "relative",
        "legend": {
         "title": {
          "text": "variable"
         },
         "tracegroupgap": 0
        },
        "template": {
         "data": {
          "bar": [
           {
            "error_x": {
             "color": "#2a3f5f"
            },
            "error_y": {
             "color": "#2a3f5f"
            },
            "marker": {
             "line": {
              "color": "#E5ECF6",
              "width": 0.5
             },
             "pattern": {
              "fillmode": "overlay",
              "size": 10,
              "solidity": 0.2
             }
            },
            "type": "bar"
           }
          ],
          "barpolar": [
           {
            "marker": {
             "line": {
              "color": "#E5ECF6",
              "width": 0.5
             },
             "pattern": {
              "fillmode": "overlay",
              "size": 10,
              "solidity": 0.2
             }
            },
            "type": "barpolar"
           }
          ],
          "carpet": [
           {
            "aaxis": {
             "endlinecolor": "#2a3f5f",
             "gridcolor": "white",
             "linecolor": "white",
             "minorgridcolor": "white",
             "startlinecolor": "#2a3f5f"
            },
            "baxis": {
             "endlinecolor": "#2a3f5f",
             "gridcolor": "white",
             "linecolor": "white",
             "minorgridcolor": "white",
             "startlinecolor": "#2a3f5f"
            },
            "type": "carpet"
           }
          ],
          "choropleth": [
           {
            "colorbar": {
             "outlinewidth": 0,
             "ticks": ""
            },
            "type": "choropleth"
           }
          ],
          "contour": [
           {
            "colorbar": {
             "outlinewidth": 0,
             "ticks": ""
            },
            "colorscale": [
             [
              0,
              "#0d0887"
             ],
             [
              0.1111111111111111,
              "#46039f"
             ],
             [
              0.2222222222222222,
              "#7201a8"
             ],
             [
              0.3333333333333333,
              "#9c179e"
             ],
             [
              0.4444444444444444,
              "#bd3786"
             ],
             [
              0.5555555555555556,
              "#d8576b"
             ],
             [
              0.6666666666666666,
              "#ed7953"
             ],
             [
              0.7777777777777778,
              "#fb9f3a"
             ],
             [
              0.8888888888888888,
              "#fdca26"
             ],
             [
              1,
              "#f0f921"
             ]
            ],
            "type": "contour"
           }
          ],
          "contourcarpet": [
           {
            "colorbar": {
             "outlinewidth": 0,
             "ticks": ""
            },
            "type": "contourcarpet"
           }
          ],
          "heatmap": [
           {
            "colorbar": {
             "outlinewidth": 0,
             "ticks": ""
            },
            "colorscale": [
             [
              0,
              "#0d0887"
             ],
             [
              0.1111111111111111,
              "#46039f"
             ],
             [
              0.2222222222222222,
              "#7201a8"
             ],
             [
              0.3333333333333333,
              "#9c179e"
             ],
             [
              0.4444444444444444,
              "#bd3786"
             ],
             [
              0.5555555555555556,
              "#d8576b"
             ],
             [
              0.6666666666666666,
              "#ed7953"
             ],
             [
              0.7777777777777778,
              "#fb9f3a"
             ],
             [
              0.8888888888888888,
              "#fdca26"
             ],
             [
              1,
              "#f0f921"
             ]
            ],
            "type": "heatmap"
           }
          ],
          "histogram": [
           {
            "marker": {
             "pattern": {
              "fillmode": "overlay",
              "size": 10,
              "solidity": 0.2
             }
            },
            "type": "histogram"
           }
          ],
          "histogram2d": [
           {
            "colorbar": {
             "outlinewidth": 0,
             "ticks": ""
            },
            "colorscale": [
             [
              0,
              "#0d0887"
             ],
             [
              0.1111111111111111,
              "#46039f"
             ],
             [
              0.2222222222222222,
              "#7201a8"
             ],
             [
              0.3333333333333333,
              "#9c179e"
             ],
             [
              0.4444444444444444,
              "#bd3786"
             ],
             [
              0.5555555555555556,
              "#d8576b"
             ],
             [
              0.6666666666666666,
              "#ed7953"
             ],
             [
              0.7777777777777778,
              "#fb9f3a"
             ],
             [
              0.8888888888888888,
              "#fdca26"
             ],
             [
              1,
              "#f0f921"
             ]
            ],
            "type": "histogram2d"
           }
          ],
          "histogram2dcontour": [
           {
            "colorbar": {
             "outlinewidth": 0,
             "ticks": ""
            },
            "colorscale": [
             [
              0,
              "#0d0887"
             ],
             [
              0.1111111111111111,
              "#46039f"
             ],
             [
              0.2222222222222222,
              "#7201a8"
             ],
             [
              0.3333333333333333,
              "#9c179e"
             ],
             [
              0.4444444444444444,
              "#bd3786"
             ],
             [
              0.5555555555555556,
              "#d8576b"
             ],
             [
              0.6666666666666666,
              "#ed7953"
             ],
             [
              0.7777777777777778,
              "#fb9f3a"
             ],
             [
              0.8888888888888888,
              "#fdca26"
             ],
             [
              1,
              "#f0f921"
             ]
            ],
            "type": "histogram2dcontour"
           }
          ],
          "mesh3d": [
           {
            "colorbar": {
             "outlinewidth": 0,
             "ticks": ""
            },
            "type": "mesh3d"
           }
          ],
          "parcoords": [
           {
            "line": {
             "colorbar": {
              "outlinewidth": 0,
              "ticks": ""
             }
            },
            "type": "parcoords"
           }
          ],
          "pie": [
           {
            "automargin": true,
            "type": "pie"
           }
          ],
          "scatter": [
           {
            "fillpattern": {
             "fillmode": "overlay",
             "size": 10,
             "solidity": 0.2
            },
            "type": "scatter"
           }
          ],
          "scatter3d": [
           {
            "line": {
             "colorbar": {
              "outlinewidth": 0,
              "ticks": ""
             }
            },
            "marker": {
             "colorbar": {
              "outlinewidth": 0,
              "ticks": ""
             }
            },
            "type": "scatter3d"
           }
          ],
          "scattercarpet": [
           {
            "marker": {
             "colorbar": {
              "outlinewidth": 0,
              "ticks": ""
             }
            },
            "type": "scattercarpet"
           }
          ],
          "scattergeo": [
           {
            "marker": {
             "colorbar": {
              "outlinewidth": 0,
              "ticks": ""
             }
            },
            "type": "scattergeo"
           }
          ],
          "scattergl": [
           {
            "marker": {
             "colorbar": {
              "outlinewidth": 0,
              "ticks": ""
             }
            },
            "type": "scattergl"
           }
          ],
          "scattermap": [
           {
            "marker": {
             "colorbar": {
              "outlinewidth": 0,
              "ticks": ""
             }
            },
            "type": "scattermap"
           }
          ],
          "scattermapbox": [
           {
            "marker": {
             "colorbar": {
              "outlinewidth": 0,
              "ticks": ""
             }
            },
            "type": "scattermapbox"
           }
          ],
          "scatterpolar": [
           {
            "marker": {
             "colorbar": {
              "outlinewidth": 0,
              "ticks": ""
             }
            },
            "type": "scatterpolar"
           }
          ],
          "scatterpolargl": [
           {
            "marker": {
             "colorbar": {
              "outlinewidth": 0,
              "ticks": ""
             }
            },
            "type": "scatterpolargl"
           }
          ],
          "scatterternary": [
           {
            "marker": {
             "colorbar": {
              "outlinewidth": 0,
              "ticks": ""
             }
            },
            "type": "scatterternary"
           }
          ],
          "surface": [
           {
            "colorbar": {
             "outlinewidth": 0,
             "ticks": ""
            },
            "colorscale": [
             [
              0,
              "#0d0887"
             ],
             [
              0.1111111111111111,
              "#46039f"
             ],
             [
              0.2222222222222222,
              "#7201a8"
             ],
             [
              0.3333333333333333,
              "#9c179e"
             ],
             [
              0.4444444444444444,
              "#bd3786"
             ],
             [
              0.5555555555555556,
              "#d8576b"
             ],
             [
              0.6666666666666666,
              "#ed7953"
             ],
             [
              0.7777777777777778,
              "#fb9f3a"
             ],
             [
              0.8888888888888888,
              "#fdca26"
             ],
             [
              1,
              "#f0f921"
             ]
            ],
            "type": "surface"
           }
          ],
          "table": [
           {
            "cells": {
             "fill": {
              "color": "#EBF0F8"
             },
             "line": {
              "color": "white"
             }
            },
            "header": {
             "fill": {
              "color": "#C8D4E3"
             },
             "line": {
              "color": "white"
             }
            },
            "type": "table"
           }
          ]
         },
         "layout": {
          "annotationdefaults": {
           "arrowcolor": "#2a3f5f",
           "arrowhead": 0,
           "arrowwidth": 1
          },
          "autotypenumbers": "strict",
          "coloraxis": {
           "colorbar": {
            "outlinewidth": 0,
            "ticks": ""
           }
          },
          "colorscale": {
           "diverging": [
            [
             0,
             "#8e0152"
            ],
            [
             0.1,
             "#c51b7d"
            ],
            [
             0.2,
             "#de77ae"
            ],
            [
             0.3,
             "#f1b6da"
            ],
            [
             0.4,
             "#fde0ef"
            ],
            [
             0.5,
             "#f7f7f7"
            ],
            [
             0.6,
             "#e6f5d0"
            ],
            [
             0.7,
             "#b8e186"
            ],
            [
             0.8,
             "#7fbc41"
            ],
            [
             0.9,
             "#4d9221"
            ],
            [
             1,
             "#276419"
            ]
           ],
           "sequential": [
            [
             0,
             "#0d0887"
            ],
            [
             0.1111111111111111,
             "#46039f"
            ],
            [
             0.2222222222222222,
             "#7201a8"
            ],
            [
             0.3333333333333333,
             "#9c179e"
            ],
            [
             0.4444444444444444,
             "#bd3786"
            ],
            [
             0.5555555555555556,
             "#d8576b"
            ],
            [
             0.6666666666666666,
             "#ed7953"
            ],
            [
             0.7777777777777778,
             "#fb9f3a"
            ],
            [
             0.8888888888888888,
             "#fdca26"
            ],
            [
             1,
             "#f0f921"
            ]
           ],
           "sequentialminus": [
            [
             0,
             "#0d0887"
            ],
            [
             0.1111111111111111,
             "#46039f"
            ],
            [
             0.2222222222222222,
             "#7201a8"
            ],
            [
             0.3333333333333333,
             "#9c179e"
            ],
            [
             0.4444444444444444,
             "#bd3786"
            ],
            [
             0.5555555555555556,
             "#d8576b"
            ],
            [
             0.6666666666666666,
             "#ed7953"
            ],
            [
             0.7777777777777778,
             "#fb9f3a"
            ],
            [
             0.8888888888888888,
             "#fdca26"
            ],
            [
             1,
             "#f0f921"
            ]
           ]
          },
          "colorway": [
           "#636efa",
           "#EF553B",
           "#00cc96",
           "#ab63fa",
           "#FFA15A",
           "#19d3f3",
           "#FF6692",
           "#B6E880",
           "#FF97FF",
           "#FECB52"
          ],
          "font": {
           "color": "#2a3f5f"
          },
          "geo": {
           "bgcolor": "white",
           "lakecolor": "white",
           "landcolor": "#E5ECF6",
           "showlakes": true,
           "showland": true,
           "subunitcolor": "white"
          },
          "hoverlabel": {
           "align": "left"
          },
          "hovermode": "closest",
          "mapbox": {
           "style": "light"
          },
          "paper_bgcolor": "white",
          "plot_bgcolor": "#E5ECF6",
          "polar": {
           "angularaxis": {
            "gridcolor": "white",
            "linecolor": "white",
            "ticks": ""
           },
           "bgcolor": "#E5ECF6",
           "radialaxis": {
            "gridcolor": "white",
            "linecolor": "white",
            "ticks": ""
           }
          },
          "scene": {
           "xaxis": {
            "backgroundcolor": "#E5ECF6",
            "gridcolor": "white",
            "gridwidth": 2,
            "linecolor": "white",
            "showbackground": true,
            "ticks": "",
            "zerolinecolor": "white"
           },
           "yaxis": {
            "backgroundcolor": "#E5ECF6",
            "gridcolor": "white",
            "gridwidth": 2,
            "linecolor": "white",
            "showbackground": true,
            "ticks": "",
            "zerolinecolor": "white"
           },
           "zaxis": {
            "backgroundcolor": "#E5ECF6",
            "gridcolor": "white",
            "gridwidth": 2,
            "linecolor": "white",
            "showbackground": true,
            "ticks": "",
            "zerolinecolor": "white"
           }
          },
          "shapedefaults": {
           "line": {
            "color": "#2a3f5f"
           }
          },
          "ternary": {
           "aaxis": {
            "gridcolor": "white",
            "linecolor": "white",
            "ticks": ""
           },
           "baxis": {
            "gridcolor": "white",
            "linecolor": "white",
            "ticks": ""
           },
           "bgcolor": "#E5ECF6",
           "caxis": {
            "gridcolor": "white",
            "linecolor": "white",
            "ticks": ""
           }
          },
          "title": {
           "x": 0.05
          },
          "xaxis": {
           "automargin": true,
           "gridcolor": "white",
           "linecolor": "white",
           "ticks": "",
           "title": {
            "standoff": 15
           },
           "zerolinecolor": "white",
           "zerolinewidth": 2
          },
          "yaxis": {
           "automargin": true,
           "gridcolor": "white",
           "linecolor": "white",
           "ticks": "",
           "title": {
            "standoff": 15
           },
           "zerolinecolor": "white",
           "zerolinewidth": 2
          }
         }
        },
        "title": {
         "text": "Sequence length frequency"
        },
        "xaxis": {
         "anchor": "y",
         "domain": [
          0,
          1
         ],
         "title": {
          "text": "value"
         }
        },
        "yaxis": {
         "anchor": "x",
         "domain": [
          0,
          1
         ],
         "title": {
          "text": "count"
         }
        }
       }
      }
     },
     "metadata": {},
     "output_type": "display_data"
    }
   ],
   "source": [
    "px.histogram(\n",
    "    (\n",
    "        df\n",
    "        .groupby(\"sequence_id\", observed=True)\n",
    "        .size()\n",
    "    ),\n",
    "    title=\"Sequence length frequency\",\n",
    ")"
   ]
  },
  {
   "cell_type": "markdown",
   "id": "24e72f4e",
   "metadata": {},
   "source": [
    "Second(to avoid always look at the first one) Train/validation split sequences lengths comparaison."
   ]
  },
  {
   "cell_type": "code",
   "execution_count": 28,
   "id": "1a39bfce",
   "metadata": {},
   "outputs": [
    {
     "data": {
      "application/vnd.plotly.v1+json": {
       "config": {
        "plotlyServerURL": "https://plot.ly"
       },
       "data": [
        {
         "bingroup": "x",
         "hovertemplate": "set=Train<br>length=%{x}<br>count=%{y}<extra></extra>",
         "legendgroup": "Train",
         "marker": {
          "color": "#636efa",
          "opacity": 0.5,
          "pattern": {
           "shape": ""
          }
         },
         "name": "Train",
         "nbinsx": 50,
         "opacity": 0.8,
         "orientation": "v",
         "showlegend": true,
         "type": "histogram",
         "x": {
          "bdata": "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",
          "dtype": "i2"
         },
         "xaxis": "x",
         "yaxis": "y"
        },
        {
         "bingroup": "x",
         "hovertemplate": "set=Validation<br>length=%{x}<br>count=%{y}<extra></extra>",
         "legendgroup": "Validation",
         "marker": {
          "color": "#EF553B",
          "opacity": 0.5,
          "pattern": {
           "shape": ""
          }
         },
         "name": "Validation",
         "nbinsx": 50,
         "opacity": 0.8,
         "orientation": "v",
         "showlegend": true,
         "type": "histogram",
         "x": {
          "bdata": "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",
          "dtype": "i2"
         },
         "xaxis": "x",
         "yaxis": "y"
        }
       ],
       "layout": {
        "barmode": "overlay",
        "legend": {
         "title": {
          "text": "set"
         },
         "tracegroupgap": 0
        },
        "template": {
         "data": {
          "bar": [
           {
            "error_x": {
             "color": "#2a3f5f"
            },
            "error_y": {
             "color": "#2a3f5f"
            },
            "marker": {
             "line": {
              "color": "#E5ECF6",
              "width": 0.5
             },
             "pattern": {
              "fillmode": "overlay",
              "size": 10,
              "solidity": 0.2
             }
            },
            "type": "bar"
           }
          ],
          "barpolar": [
           {
            "marker": {
             "line": {
              "color": "#E5ECF6",
              "width": 0.5
             },
             "pattern": {
              "fillmode": "overlay",
              "size": 10,
              "solidity": 0.2
             }
            },
            "type": "barpolar"
           }
          ],
          "carpet": [
           {
            "aaxis": {
             "endlinecolor": "#2a3f5f",
             "gridcolor": "white",
             "linecolor": "white",
             "minorgridcolor": "white",
             "startlinecolor": "#2a3f5f"
            },
            "baxis": {
             "endlinecolor": "#2a3f5f",
             "gridcolor": "white",
             "linecolor": "white",
             "minorgridcolor": "white",
             "startlinecolor": "#2a3f5f"
            },
            "type": "carpet"
           }
          ],
          "choropleth": [
           {
            "colorbar": {
             "outlinewidth": 0,
             "ticks": ""
            },
            "type": "choropleth"
           }
          ],
          "contour": [
           {
            "colorbar": {
             "outlinewidth": 0,
             "ticks": ""
            },
            "colorscale": [
             [
              0,
              "#0d0887"
             ],
             [
              0.1111111111111111,
              "#46039f"
             ],
             [
              0.2222222222222222,
              "#7201a8"
             ],
             [
              0.3333333333333333,
              "#9c179e"
             ],
             [
              0.4444444444444444,
              "#bd3786"
             ],
             [
              0.5555555555555556,
              "#d8576b"
             ],
             [
              0.6666666666666666,
              "#ed7953"
             ],
             [
              0.7777777777777778,
              "#fb9f3a"
             ],
             [
              0.8888888888888888,
              "#fdca26"
             ],
             [
              1,
              "#f0f921"
             ]
            ],
            "type": "contour"
           }
          ],
          "contourcarpet": [
           {
            "colorbar": {
             "outlinewidth": 0,
             "ticks": ""
            },
            "type": "contourcarpet"
           }
          ],
          "heatmap": [
           {
            "colorbar": {
             "outlinewidth": 0,
             "ticks": ""
            },
            "colorscale": [
             [
              0,
              "#0d0887"
             ],
             [
              0.1111111111111111,
              "#46039f"
             ],
             [
              0.2222222222222222,
              "#7201a8"
             ],
             [
              0.3333333333333333,
              "#9c179e"
             ],
             [
              0.4444444444444444,
              "#bd3786"
             ],
             [
              0.5555555555555556,
              "#d8576b"
             ],
             [
              0.6666666666666666,
              "#ed7953"
             ],
             [
              0.7777777777777778,
              "#fb9f3a"
             ],
             [
              0.8888888888888888,
              "#fdca26"
             ],
             [
              1,
              "#f0f921"
             ]
            ],
            "type": "heatmap"
           }
          ],
          "histogram": [
           {
            "marker": {
             "pattern": {
              "fillmode": "overlay",
              "size": 10,
              "solidity": 0.2
             }
            },
            "type": "histogram"
           }
          ],
          "histogram2d": [
           {
            "colorbar": {
             "outlinewidth": 0,
             "ticks": ""
            },
            "colorscale": [
             [
              0,
              "#0d0887"
             ],
             [
              0.1111111111111111,
              "#46039f"
             ],
             [
              0.2222222222222222,
              "#7201a8"
             ],
             [
              0.3333333333333333,
              "#9c179e"
             ],
             [
              0.4444444444444444,
              "#bd3786"
             ],
             [
              0.5555555555555556,
              "#d8576b"
             ],
             [
              0.6666666666666666,
              "#ed7953"
             ],
             [
              0.7777777777777778,
              "#fb9f3a"
             ],
             [
              0.8888888888888888,
              "#fdca26"
             ],
             [
              1,
              "#f0f921"
             ]
            ],
            "type": "histogram2d"
           }
          ],
          "histogram2dcontour": [
           {
            "colorbar": {
             "outlinewidth": 0,
             "ticks": ""
            },
            "colorscale": [
             [
              0,
              "#0d0887"
             ],
             [
              0.1111111111111111,
              "#46039f"
             ],
             [
              0.2222222222222222,
              "#7201a8"
             ],
             [
              0.3333333333333333,
              "#9c179e"
             ],
             [
              0.4444444444444444,
              "#bd3786"
             ],
             [
              0.5555555555555556,
              "#d8576b"
             ],
             [
              0.6666666666666666,
              "#ed7953"
             ],
             [
              0.7777777777777778,
              "#fb9f3a"
             ],
             [
              0.8888888888888888,
              "#fdca26"
             ],
             [
              1,
              "#f0f921"
             ]
            ],
            "type": "histogram2dcontour"
           }
          ],
          "mesh3d": [
           {
            "colorbar": {
             "outlinewidth": 0,
             "ticks": ""
            },
            "type": "mesh3d"
           }
          ],
          "parcoords": [
           {
            "line": {
             "colorbar": {
              "outlinewidth": 0,
              "ticks": ""
             }
            },
            "type": "parcoords"
           }
          ],
          "pie": [
           {
            "automargin": true,
            "type": "pie"
           }
          ],
          "scatter": [
           {
            "fillpattern": {
             "fillmode": "overlay",
             "size": 10,
             "solidity": 0.2
            },
            "type": "scatter"
           }
          ],
          "scatter3d": [
           {
            "line": {
             "colorbar": {
              "outlinewidth": 0,
              "ticks": ""
             }
            },
            "marker": {
             "colorbar": {
              "outlinewidth": 0,
              "ticks": ""
             }
            },
            "type": "scatter3d"
           }
          ],
          "scattercarpet": [
           {
            "marker": {
             "colorbar": {
              "outlinewidth": 0,
              "ticks": ""
             }
            },
            "type": "scattercarpet"
           }
          ],
          "scattergeo": [
           {
            "marker": {
             "colorbar": {
              "outlinewidth": 0,
              "ticks": ""
             }
            },
            "type": "scattergeo"
           }
          ],
          "scattergl": [
           {
            "marker": {
             "colorbar": {
              "outlinewidth": 0,
              "ticks": ""
             }
            },
            "type": "scattergl"
           }
          ],
          "scattermap": [
           {
            "marker": {
             "colorbar": {
              "outlinewidth": 0,
              "ticks": ""
             }
            },
            "type": "scattermap"
           }
          ],
          "scattermapbox": [
           {
            "marker": {
             "colorbar": {
              "outlinewidth": 0,
              "ticks": ""
             }
            },
            "type": "scattermapbox"
           }
          ],
          "scatterpolar": [
           {
            "marker": {
             "colorbar": {
              "outlinewidth": 0,
              "ticks": ""
             }
            },
            "type": "scatterpolar"
           }
          ],
          "scatterpolargl": [
           {
            "marker": {
             "colorbar": {
              "outlinewidth": 0,
              "ticks": ""
             }
            },
            "type": "scatterpolargl"
           }
          ],
          "scatterternary": [
           {
            "marker": {
             "colorbar": {
              "outlinewidth": 0,
              "ticks": ""
             }
            },
            "type": "scatterternary"
           }
          ],
          "surface": [
           {
            "colorbar": {
             "outlinewidth": 0,
             "ticks": ""
            },
            "colorscale": [
             [
              0,
              "#0d0887"
             ],
             [
              0.1111111111111111,
              "#46039f"
             ],
             [
              0.2222222222222222,
              "#7201a8"
             ],
             [
              0.3333333333333333,
              "#9c179e"
             ],
             [
              0.4444444444444444,
              "#bd3786"
             ],
             [
              0.5555555555555556,
              "#d8576b"
             ],
             [
              0.6666666666666666,
              "#ed7953"
             ],
             [
              0.7777777777777778,
              "#fb9f3a"
             ],
             [
              0.8888888888888888,
              "#fdca26"
             ],
             [
              1,
              "#f0f921"
             ]
            ],
            "type": "surface"
           }
          ],
          "table": [
           {
            "cells": {
             "fill": {
              "color": "#EBF0F8"
             },
             "line": {
              "color": "white"
             }
            },
            "header": {
             "fill": {
              "color": "#C8D4E3"
             },
             "line": {
              "color": "white"
             }
            },
            "type": "table"
           }
          ]
         },
         "layout": {
          "annotationdefaults": {
           "arrowcolor": "#2a3f5f",
           "arrowhead": 0,
           "arrowwidth": 1
          },
          "autotypenumbers": "strict",
          "coloraxis": {
           "colorbar": {
            "outlinewidth": 0,
            "ticks": ""
           }
          },
          "colorscale": {
           "diverging": [
            [
             0,
             "#8e0152"
            ],
            [
             0.1,
             "#c51b7d"
            ],
            [
             0.2,
             "#de77ae"
            ],
            [
             0.3,
             "#f1b6da"
            ],
            [
             0.4,
             "#fde0ef"
            ],
            [
             0.5,
             "#f7f7f7"
            ],
            [
             0.6,
             "#e6f5d0"
            ],
            [
             0.7,
             "#b8e186"
            ],
            [
             0.8,
             "#7fbc41"
            ],
            [
             0.9,
             "#4d9221"
            ],
            [
             1,
             "#276419"
            ]
           ],
           "sequential": [
            [
             0,
             "#0d0887"
            ],
            [
             0.1111111111111111,
             "#46039f"
            ],
            [
             0.2222222222222222,
             "#7201a8"
            ],
            [
             0.3333333333333333,
             "#9c179e"
            ],
            [
             0.4444444444444444,
             "#bd3786"
            ],
            [
             0.5555555555555556,
             "#d8576b"
            ],
            [
             0.6666666666666666,
             "#ed7953"
            ],
            [
             0.7777777777777778,
             "#fb9f3a"
            ],
            [
             0.8888888888888888,
             "#fdca26"
            ],
            [
             1,
             "#f0f921"
            ]
           ],
           "sequentialminus": [
            [
             0,
             "#0d0887"
            ],
            [
             0.1111111111111111,
             "#46039f"
            ],
            [
             0.2222222222222222,
             "#7201a8"
            ],
            [
             0.3333333333333333,
             "#9c179e"
            ],
            [
             0.4444444444444444,
             "#bd3786"
            ],
            [
             0.5555555555555556,
             "#d8576b"
            ],
            [
             0.6666666666666666,
             "#ed7953"
            ],
            [
             0.7777777777777778,
             "#fb9f3a"
            ],
            [
             0.8888888888888888,
             "#fdca26"
            ],
            [
             1,
             "#f0f921"
            ]
           ]
          },
          "colorway": [
           "#636efa",
           "#EF553B",
           "#00cc96",
           "#ab63fa",
           "#FFA15A",
           "#19d3f3",
           "#FF6692",
           "#B6E880",
           "#FF97FF",
           "#FECB52"
          ],
          "font": {
           "color": "#2a3f5f"
          },
          "geo": {
           "bgcolor": "white",
           "lakecolor": "white",
           "landcolor": "#E5ECF6",
           "showlakes": true,
           "showland": true,
           "subunitcolor": "white"
          },
          "hoverlabel": {
           "align": "left"
          },
          "hovermode": "closest",
          "mapbox": {
           "style": "light"
          },
          "paper_bgcolor": "white",
          "plot_bgcolor": "#E5ECF6",
          "polar": {
           "angularaxis": {
            "gridcolor": "white",
            "linecolor": "white",
            "ticks": ""
           },
           "bgcolor": "#E5ECF6",
           "radialaxis": {
            "gridcolor": "white",
            "linecolor": "white",
            "ticks": ""
           }
          },
          "scene": {
           "xaxis": {
            "backgroundcolor": "#E5ECF6",
            "gridcolor": "white",
            "gridwidth": 2,
            "linecolor": "white",
            "showbackground": true,
            "ticks": "",
            "zerolinecolor": "white"
           },
           "yaxis": {
            "backgroundcolor": "#E5ECF6",
            "gridcolor": "white",
            "gridwidth": 2,
            "linecolor": "white",
            "showbackground": true,
            "ticks": "",
            "zerolinecolor": "white"
           },
           "zaxis": {
            "backgroundcolor": "#E5ECF6",
            "gridcolor": "white",
            "gridwidth": 2,
            "linecolor": "white",
            "showbackground": true,
            "ticks": "",
            "zerolinecolor": "white"
           }
          },
          "shapedefaults": {
           "line": {
            "color": "#2a3f5f"
           }
          },
          "ternary": {
           "aaxis": {
            "gridcolor": "white",
            "linecolor": "white",
            "ticks": ""
           },
           "baxis": {
            "gridcolor": "white",
            "linecolor": "white",
            "ticks": ""
           },
           "bgcolor": "#E5ECF6",
           "caxis": {
            "gridcolor": "white",
            "linecolor": "white",
            "ticks": ""
           }
          },
          "title": {
           "x": 0.05
          },
          "xaxis": {
           "automargin": true,
           "gridcolor": "white",
           "linecolor": "white",
           "ticks": "",
           "title": {
            "standoff": 15
           },
           "zerolinecolor": "white",
           "zerolinewidth": 2
          },
          "yaxis": {
           "automargin": true,
           "gridcolor": "white",
           "linecolor": "white",
           "ticks": "",
           "title": {
            "standoff": 15
           },
           "zerolinecolor": "white",
           "zerolinewidth": 2
          }
         }
        },
        "title": {
         "text": "Sequence Length Distribution: Train vs Validation"
        },
        "xaxis": {
         "anchor": "y",
         "domain": [
          0,
          1
         ],
         "title": {
          "text": "length"
         }
        },
        "yaxis": {
         "anchor": "x",
         "domain": [
          0,
          1
         ],
         "title": {
          "text": "count"
         }
        }
       }
      }
     },
     "metadata": {},
     "output_type": "display_data"
    }
   ],
   "source": [
    "def get_set_sequences_lengths(set:DF, name:str) -> DF:\n",
    "    return (\n",
    "        set\n",
    "        .groupby(\"sequence_id\", observed=True)\n",
    "        .size()\n",
    "        .reset_index(name=\"length\")\n",
    "        .assign(set=name)\n",
    "    )\n",
    "\n",
    "full_se_lengths = pd.concat((\n",
    "    get_set_sequences_lengths(folds[2][0], \"Train\"),\n",
    "    get_set_sequences_lengths(folds[2][1], \"Validation\"),\n",
    "))\n",
    "\n",
    "fig = px.histogram(\n",
    "    full_se_lengths,\n",
    "    x=\"length\",\n",
    "    color=\"set\",\n",
    "    barmode=\"overlay\",  # or 'group' if you want side-by-side bars\n",
    "    nbins=50,           # adjust bin size if needed\n",
    "    title=\"Sequence Length Distribution: Train vs Validation\"\n",
    ")\n",
    "\n",
    "fig.update_traces(opacity=0.8)  # better visibility with overlay\n",
    "fig.show()\n"
   ]
  },
  {
   "cell_type": "code",
   "execution_count": 29,
   "id": "c1d46756",
   "metadata": {},
   "outputs": [
    {
     "name": "stdout",
     "output_type": "stream",
     "text": [
      "train normed sequence len: 129\n",
      "validation normed sequence len: 121\n",
      "\n",
      "train normed sequence len: 127\n",
      "validation normed sequence len: 124\n",
      "\n",
      "train normed sequence len: 122\n",
      "validation normed sequence len: 144\n",
      "\n",
      "train normed sequence len: 125\n",
      "validation normed sequence len: 135\n",
      "\n",
      "train normed sequence len: 131\n",
      "validation normed sequence len: 114\n",
      "\n"
     ]
    }
   ],
   "source": [
    "for train, val in folds:\n",
    "    print(\"train normed sequence len:\", int(train.groupby(\"sequence_id\", observed=True).size().quantile(SEQUENCE_NORMED_LEN_QUANTILE)))\n",
    "    print(\"validation normed sequence len:\", int(val.groupby(\"sequence_id\", observed=True).size().quantile(SEQUENCE_NORMED_LEN_QUANTILE)))\n",
    "    print()"
   ]
  },
  {
   "cell_type": "markdown",
   "id": "c89d5f21",
   "metadata": {},
   "source": [
    "#### Sequence length norm implementation"
   ]
  },
  {
   "cell_type": "code",
   "execution_count": 30,
   "id": "5d128055",
   "metadata": {},
   "outputs": [],
   "source": [
    "def length_normed_sequence_feat_arr(\n",
    "        sequence: DF,\n",
    "        normed_sequence_len: int,\n",
    "        pad_trunc_mode:Literal[\"pre\", \"center\", \"post\"]\n",
    "    ) -> ndarray:\n",
    "    features = (\n",
    "        sequence\n",
    "        .loc[:, get_feature_cols(df)]\n",
    "        .values\n",
    "    )\n",
    "    len_diff = abs(normed_sequence_len - len(features))\n",
    "    len_diff_h = len_diff // 2 # half len diff\n",
    "    len_diff_r = len_diff % 2 # len diff remainder\n",
    "    if len(features) < normed_sequence_len:\n",
    "        padding_dict = {\n",
    "            \"pre\": (len_diff, 0),\n",
    "            \"center\": (len_diff_h + len_diff_r, len_diff_h),\n",
    "            \"post\": (0, len_diff),\n",
    "        }\n",
    "        padded_features = np.pad(\n",
    "            features,\n",
    "            (padding_dict[pad_trunc_mode], (0, 0)),\n",
    "        )\n",
    "        return padded_features\n",
    "    elif len(features) > normed_sequence_len:\n",
    "        truncating_dict = {\n",
    "            \"pre\": slice(len_diff),\n",
    "            \"center\": slice(len_diff_h, -len_diff_h),\n",
    "            \"post\": slice(0, -len_diff),\n",
    "        }\n",
    "        return features[len_diff // 2:-len_diff // 2]\n",
    "    else:\n",
    "        return features\n",
    "\n",
    "def df_to_ndarrays(df:DF, normed_sequence_len:int, seq_pad_trunc_mode:str) -> tuple[np.ndarray, np.ndarray]:\n",
    "    sequence_it = df.groupby(\"sequence_id\", observed=True, as_index=False)\n",
    "    x = np.empty(\n",
    "        shape=(len(sequence_it), normed_sequence_len, len(get_feature_cols(df))),\n",
    "        dtype=\"float32\"\n",
    "    )\n",
    "    y = np.empty(\n",
    "        shape=(len(sequence_it), len(TARGET_NAMES)),\n",
    "        dtype=\"float32\"\n",
    "    )\n",
    "    for sequence_idx, (_, sequence) in tqdm(enumerate(sequence_it), total=len(sequence_it)):\n",
    "        normed_seq_feat_arr = length_normed_sequence_feat_arr(sequence, normed_sequence_len, seq_pad_trunc_mode)\n",
    "        x[sequence_idx] = normed_seq_feat_arr\n",
    "        # Take the first value as they are(or at least should be) all the same in a single sequence\n",
    "        y[sequence_idx] = sequence[TARGET_NAMES].iloc[0].values\n",
    "\n",
    "    return x, y\n",
    "\n",
    "def get_normed_seq_len(dataset:DF) -> int:\n",
    "    return int(\n",
    "        dataset\n",
    "        .groupby(\"sequence_id\", observed=True)\n",
    "        .size()\n",
    "        .quantile(SEQUENCE_NORMED_LEN_QUANTILE)\n",
    "    )\n",
    "\n",
    "def fold_dfs_to_ndarrays(train:DF, validation:DF, seq_pad_trunc_mode:str) -> tuple[ndarray, ndarray, ndarray, ndarray]:\n",
    "    \"\"\"\n",
    "    Returns:\n",
    "        (train X, train Y, validation X, validation Y)\n",
    "    \"\"\"\n",
    "    full_dataset_normed_seq_len = get_normed_seq_len(df)\n",
    "    return (\n",
    "        *df_to_ndarrays(train, full_dataset_normed_seq_len, seq_pad_trunc_mode),\n",
    "        *df_to_ndarrays(validation, full_dataset_normed_seq_len, seq_pad_trunc_mode),\n",
    "    )"
   ]
  },
  {
   "cell_type": "markdown",
   "id": "b99f60c2",
   "metadata": {},
   "source": [
    "## Create dataset"
   ]
  },
  {
   "cell_type": "code",
   "execution_count": null,
   "id": "a46b79b2",
   "metadata": {},
   "outputs": [
    {
     "data": {
      "application/vnd.jupyter.widget-view+json": {
       "model_id": "1a0dd6500e3841d0aeea86517e040aee",
       "version_major": 2,
       "version_minor": 0
      },
      "text/plain": [
       "  0%|          | 0/6519 [00:00<?, ?it/s]"
      ]
     },
     "metadata": {},
     "output_type": "display_data"
    },
    {
     "data": {
      "application/vnd.jupyter.widget-view+json": {
       "model_id": "f42683aeff8a4d879945db33a0eed1c9",
       "version_major": 2,
       "version_minor": 0
      },
      "text/plain": [
       "  0%|          | 0/1632 [00:00<?, ?it/s]"
      ]
     },
     "metadata": {},
     "output_type": "display_data"
    },
    {
     "data": {
      "application/vnd.jupyter.widget-view+json": {
       "model_id": "9e3c9551bcf8467e91a8b220ec430663",
       "version_major": 2,
       "version_minor": 0
      },
      "text/plain": [
       "  0%|          | 0/6423 [00:00<?, ?it/s]"
      ]
     },
     "metadata": {},
     "output_type": "display_data"
    },
    {
     "data": {
      "application/vnd.jupyter.widget-view+json": {
       "model_id": "b732e351dc1c454ca6922ca7684405f6",
       "version_major": 2,
       "version_minor": 0
      },
      "text/plain": [
       "  0%|          | 0/1728 [00:00<?, ?it/s]"
      ]
     },
     "metadata": {},
     "output_type": "display_data"
    },
    {
     "data": {
      "application/vnd.jupyter.widget-view+json": {
       "model_id": "e4a100932c694a9aad081e90fa8ada9a",
       "version_major": 2,
       "version_minor": 0
      },
      "text/plain": [
       "  0%|          | 0/6570 [00:00<?, ?it/s]"
      ]
     },
     "metadata": {},
     "output_type": "display_data"
    },
    {
     "data": {
      "application/vnd.jupyter.widget-view+json": {
       "model_id": "975adaa75e844a5f9f14db09dac214e2",
       "version_major": 2,
       "version_minor": 0
      },
      "text/plain": [
       "  0%|          | 0/1581 [00:00<?, ?it/s]"
      ]
     },
     "metadata": {},
     "output_type": "display_data"
    },
    {
     "data": {
      "application/vnd.jupyter.widget-view+json": {
       "model_id": "980c5553d32040c39401f78b98b0b499",
       "version_major": 2,
       "version_minor": 0
      },
      "text/plain": [
       "  0%|          | 0/6573 [00:00<?, ?it/s]"
      ]
     },
     "metadata": {},
     "output_type": "display_data"
    },
    {
     "data": {
      "application/vnd.jupyter.widget-view+json": {
       "model_id": "d4825e9063404ccab546a96fa1546198",
       "version_major": 2,
       "version_minor": 0
      },
      "text/plain": [
       "  0%|          | 0/1578 [00:00<?, ?it/s]"
      ]
     },
     "metadata": {},
     "output_type": "display_data"
    },
    {
     "data": {
      "application/vnd.jupyter.widget-view+json": {
       "model_id": "beb759c233e3457bad9aacddcf50171a",
       "version_major": 2,
       "version_minor": 0
      },
      "text/plain": [
       "  0%|          | 0/6519 [00:00<?, ?it/s]"
      ]
     },
     "metadata": {},
     "output_type": "display_data"
    },
    {
     "data": {
      "application/vnd.jupyter.widget-view+json": {
       "model_id": "9881450ba6ca4fb4ba4d617cd80548cb",
       "version_major": 2,
       "version_minor": 0
      },
      "text/plain": [
       "  0%|          | 0/1632 [00:00<?, ?it/s]"
      ]
     },
     "metadata": {},
     "output_type": "display_data"
    },
    {
     "data": {
      "application/vnd.jupyter.widget-view+json": {
       "model_id": "fbad20e82cac4a3db95e18650e78ac48",
       "version_major": 2,
       "version_minor": 0
      },
      "text/plain": [
       "  0%|          | 0/8151 [00:00<?, ?it/s]"
      ]
     },
     "metadata": {},
     "output_type": "display_data"
    }
   ],
   "source": [
    "# Clean dataset directory if it already exists\n",
    "! rm -rf preprocessed_dataset\n",
    "# Create dataset direcory\n",
    "! mkdir preprocessed_dataset\n",
    "# Save folds\n",
    "for pad_trunc_mode in (\"center\", ):\n",
    "    folds_it = enumerate(starmap(partial(fold_dfs_to_ndarrays, seq_pad_trunc_mode=pad_trunc_mode), folds))\n",
    "    for fold_i, (train_x, train_y, val_x, val_y) in folds_it:\n",
    "        fold_dir_path = join(\"preprocessed_dataset\", pad_trunc_mode, f\"fold_{fold_i}\")\n",
    "        os.makedirs(fold_dir_path)\n",
    "        # save features (X)\n",
    "        np.save(join(fold_dir_path, \"train_X.npy\"), train_x, allow_pickle=False)\n",
    "        np.save(join(fold_dir_path, \"validation_X.npy\"), val_x, allow_pickle=False)\n",
    "        # Save targets (Y)\n",
    "        np.save(join(fold_dir_path, \"train_Y.npy\"), train_y, allow_pickle=False)\n",
    "        np.save(join(fold_dir_path, \"validation_Y.npy\"), val_y, allow_pickle=False)\n",
    "    # Save full dataset\n",
    "    full_dataset_dir_path = join(\"preprocessed_dataset/full_dataset\", pad_trunc_mode)\n",
    "    full_dataset_sequence_length_norm = get_normed_seq_len(df)\n",
    "    full_x, full_y = df_to_ndarrays(df, full_dataset_sequence_length_norm, pad_trunc_mode)\n",
    "    os.makedirs(full_dataset_dir_path)\n",
    "    np.save(join(full_dataset_dir_path, \"X.npy\"), full_x, allow_pickle=False)\n",
    "    np.save(join(full_dataset_dir_path, \"Y.npy\"), full_y, allow_pickle=False)\n",
    "# Save dataset meta data\n",
    "# full_dataset_meta_data[\"target_names\"] = TARGET_NAMES\n",
    "full_dataset_meta_data[\"pad_seq_len\"] = full_dataset_sequence_length_norm\n",
    "full_dataset_meta_data[\"feature_cols\"] = get_feature_cols(df)\n",
    "\n",
    "with open(\"preprocessed_dataset/full_dataset_meta_data.json\", \"w\") as fp:\n",
    "    json.dump(full_dataset_meta_data, fp, indent=4)\n",
    "\n",
    "shutil.make_archive(\"preprocessed_dataset\", 'zip', \"preprocessed_dataset\")"
   ]
  },
  {
   "cell_type": "code",
   "execution_count": null,
   "id": "9189639f",
   "metadata": {},
   "outputs": [],
   "source": [
    "# ! zip -r preprocessed_dataset.zip preprocessed_dataset/"
   ]
  },
  {
   "cell_type": "code",
   "execution_count": null,
   "id": "0b77ea50",
   "metadata": {},
   "outputs": [
    {
     "data": {
      "text/html": [
       "<div>\n",
       "<style scoped>\n",
       "    .dataframe tbody tr th:only-of-type {\n",
       "        vertical-align: middle;\n",
       "    }\n",
       "\n",
       "    .dataframe tbody tr th {\n",
       "        vertical-align: top;\n",
       "    }\n",
       "\n",
       "    .dataframe thead th {\n",
       "        text-align: right;\n",
       "    }\n",
       "</style>\n",
       "<table border=\"1\" class=\"dataframe\">\n",
       "  <thead>\n",
       "    <tr style=\"text-align: right;\">\n",
       "      <th></th>\n",
       "      <th>acc_mag</th>\n",
       "      <th>acc_mag_diff</th>\n",
       "      <th>acc_x</th>\n",
       "      <th>acc_x_diff</th>\n",
       "      <th>acc_y</th>\n",
       "      <th>acc_y_diff</th>\n",
       "      <th>acc_z</th>\n",
       "      <th>acc_z_diff</th>\n",
       "      <th>angular_vel_x</th>\n",
       "      <th>angular_vel_x_diff</th>\n",
       "      <th>...</th>\n",
       "      <th>tof_5_v59</th>\n",
       "      <th>tof_5_v59_diff</th>\n",
       "      <th>tof_5_v60</th>\n",
       "      <th>tof_5_v60_diff</th>\n",
       "      <th>tof_5_v61</th>\n",
       "      <th>tof_5_v61_diff</th>\n",
       "      <th>tof_5_v62</th>\n",
       "      <th>tof_5_v62_diff</th>\n",
       "      <th>tof_5_v63</th>\n",
       "      <th>tof_5_v63_diff</th>\n",
       "    </tr>\n",
       "  </thead>\n",
       "  <tbody>\n",
       "    <tr>\n",
       "      <th>0</th>\n",
       "      <td>9.723882</td>\n",
       "      <td>0.000000</td>\n",
       "      <td>6.683594</td>\n",
       "      <td>0.000000</td>\n",
       "      <td>6.214844</td>\n",
       "      <td>0.000000</td>\n",
       "      <td>3.355469</td>\n",
       "      <td>0.000000</td>\n",
       "      <td>0.000000</td>\n",
       "      <td>0.000000</td>\n",
       "      <td>...</td>\n",
       "      <td>88.0</td>\n",
       "      <td>0.0</td>\n",
       "      <td>91.0</td>\n",
       "      <td>0.0</td>\n",
       "      <td>89.0</td>\n",
       "      <td>0.0</td>\n",
       "      <td>226.0</td>\n",
       "      <td>0.0</td>\n",
       "      <td>88.0</td>\n",
       "      <td>0.0</td>\n",
       "    </tr>\n",
       "    <tr>\n",
       "      <th>1</th>\n",
       "      <td>9.832678</td>\n",
       "      <td>0.108796</td>\n",
       "      <td>6.949219</td>\n",
       "      <td>0.265625</td>\n",
       "      <td>6.214844</td>\n",
       "      <td>0.000000</td>\n",
       "      <td>3.125000</td>\n",
       "      <td>-0.230469</td>\n",
       "      <td>-0.010703</td>\n",
       "      <td>-0.010703</td>\n",
       "      <td>...</td>\n",
       "      <td>88.0</td>\n",
       "      <td>0.0</td>\n",
       "      <td>91.0</td>\n",
       "      <td>0.0</td>\n",
       "      <td>89.0</td>\n",
       "      <td>0.0</td>\n",
       "      <td>226.0</td>\n",
       "      <td>0.0</td>\n",
       "      <td>88.0</td>\n",
       "      <td>0.0</td>\n",
       "    </tr>\n",
       "    <tr>\n",
       "      <th>2</th>\n",
       "      <td>9.561135</td>\n",
       "      <td>-0.271543</td>\n",
       "      <td>5.722656</td>\n",
       "      <td>-1.226562</td>\n",
       "      <td>5.410156</td>\n",
       "      <td>-0.804688</td>\n",
       "      <td>5.421875</td>\n",
       "      <td>2.296875</td>\n",
       "      <td>-0.105290</td>\n",
       "      <td>-0.094587</td>\n",
       "      <td>...</td>\n",
       "      <td>88.0</td>\n",
       "      <td>0.0</td>\n",
       "      <td>91.0</td>\n",
       "      <td>0.0</td>\n",
       "      <td>89.0</td>\n",
       "      <td>0.0</td>\n",
       "      <td>226.0</td>\n",
       "      <td>0.0</td>\n",
       "      <td>88.0</td>\n",
       "      <td>0.0</td>\n",
       "    </tr>\n",
       "    <tr>\n",
       "      <th>3</th>\n",
       "      <td>9.886537</td>\n",
       "      <td>0.325401</td>\n",
       "      <td>6.601562</td>\n",
       "      <td>0.878906</td>\n",
       "      <td>3.531250</td>\n",
       "      <td>-1.878906</td>\n",
       "      <td>6.457031</td>\n",
       "      <td>1.035156</td>\n",
       "      <td>-0.185590</td>\n",
       "      <td>-0.080300</td>\n",
       "      <td>...</td>\n",
       "      <td>88.0</td>\n",
       "      <td>0.0</td>\n",
       "      <td>91.0</td>\n",
       "      <td>0.0</td>\n",
       "      <td>89.0</td>\n",
       "      <td>0.0</td>\n",
       "      <td>226.0</td>\n",
       "      <td>0.0</td>\n",
       "      <td>88.0</td>\n",
       "      <td>0.0</td>\n",
       "    </tr>\n",
       "    <tr>\n",
       "      <th>4</th>\n",
       "      <td>11.128921</td>\n",
       "      <td>1.242384</td>\n",
       "      <td>5.566406</td>\n",
       "      <td>-1.035156</td>\n",
       "      <td>0.277344</td>\n",
       "      <td>-3.253906</td>\n",
       "      <td>9.632812</td>\n",
       "      <td>3.175781</td>\n",
       "      <td>-0.117877</td>\n",
       "      <td>0.067713</td>\n",
       "      <td>...</td>\n",
       "      <td>88.0</td>\n",
       "      <td>0.0</td>\n",
       "      <td>91.0</td>\n",
       "      <td>0.0</td>\n",
       "      <td>89.0</td>\n",
       "      <td>0.0</td>\n",
       "      <td>226.0</td>\n",
       "      <td>0.0</td>\n",
       "      <td>88.0</td>\n",
       "      <td>0.0</td>\n",
       "    </tr>\n",
       "    <tr>\n",
       "      <th>...</th>\n",
       "      <td>...</td>\n",
       "      <td>...</td>\n",
       "      <td>...</td>\n",
       "      <td>...</td>\n",
       "      <td>...</td>\n",
       "      <td>...</td>\n",
       "      <td>...</td>\n",
       "      <td>...</td>\n",
       "      <td>...</td>\n",
       "      <td>...</td>\n",
       "      <td>...</td>\n",
       "      <td>...</td>\n",
       "      <td>...</td>\n",
       "      <td>...</td>\n",
       "      <td>...</td>\n",
       "      <td>...</td>\n",
       "      <td>...</td>\n",
       "      <td>...</td>\n",
       "      <td>...</td>\n",
       "      <td>...</td>\n",
       "      <td>...</td>\n",
       "    </tr>\n",
       "    <tr>\n",
       "      <th>574940</th>\n",
       "      <td>9.150011</td>\n",
       "      <td>-0.753489</td>\n",
       "      <td>3.503906</td>\n",
       "      <td>-0.078125</td>\n",
       "      <td>-0.433594</td>\n",
       "      <td>0.308594</td>\n",
       "      <td>-8.441406</td>\n",
       "      <td>0.761719</td>\n",
       "      <td>-0.041609</td>\n",
       "      <td>-0.053515</td>\n",
       "      <td>...</td>\n",
       "      <td>69.0</td>\n",
       "      <td>0.0</td>\n",
       "      <td>71.0</td>\n",
       "      <td>0.0</td>\n",
       "      <td>68.0</td>\n",
       "      <td>0.0</td>\n",
       "      <td>73.0</td>\n",
       "      <td>0.0</td>\n",
       "      <td>71.0</td>\n",
       "      <td>1.0</td>\n",
       "    </tr>\n",
       "    <tr>\n",
       "      <th>574941</th>\n",
       "      <td>9.972424</td>\n",
       "      <td>0.822412</td>\n",
       "      <td>3.773438</td>\n",
       "      <td>0.269531</td>\n",
       "      <td>-0.664062</td>\n",
       "      <td>-0.230469</td>\n",
       "      <td>-9.207031</td>\n",
       "      <td>-0.765625</td>\n",
       "      <td>-0.019417</td>\n",
       "      <td>0.022191</td>\n",
       "      <td>...</td>\n",
       "      <td>69.0</td>\n",
       "      <td>0.0</td>\n",
       "      <td>71.0</td>\n",
       "      <td>0.0</td>\n",
       "      <td>68.0</td>\n",
       "      <td>0.0</td>\n",
       "      <td>73.0</td>\n",
       "      <td>0.0</td>\n",
       "      <td>71.0</td>\n",
       "      <td>0.0</td>\n",
       "    </tr>\n",
       "    <tr>\n",
       "      <th>574942</th>\n",
       "      <td>8.021313</td>\n",
       "      <td>-1.951111</td>\n",
       "      <td>3.082031</td>\n",
       "      <td>-0.691406</td>\n",
       "      <td>0.218750</td>\n",
       "      <td>0.882812</td>\n",
       "      <td>-7.402344</td>\n",
       "      <td>1.804688</td>\n",
       "      <td>0.002137</td>\n",
       "      <td>0.021554</td>\n",
       "      <td>...</td>\n",
       "      <td>69.0</td>\n",
       "      <td>0.0</td>\n",
       "      <td>71.0</td>\n",
       "      <td>0.0</td>\n",
       "      <td>68.0</td>\n",
       "      <td>0.0</td>\n",
       "      <td>73.0</td>\n",
       "      <td>0.0</td>\n",
       "      <td>71.0</td>\n",
       "      <td>0.0</td>\n",
       "    </tr>\n",
       "    <tr>\n",
       "      <th>574943</th>\n",
       "      <td>9.919848</td>\n",
       "      <td>1.898536</td>\n",
       "      <td>3.964844</td>\n",
       "      <td>0.882812</td>\n",
       "      <td>-0.359375</td>\n",
       "      <td>-0.578125</td>\n",
       "      <td>-9.085938</td>\n",
       "      <td>-1.683594</td>\n",
       "      <td>-0.019210</td>\n",
       "      <td>-0.021347</td>\n",
       "      <td>...</td>\n",
       "      <td>69.0</td>\n",
       "      <td>0.0</td>\n",
       "      <td>71.0</td>\n",
       "      <td>0.0</td>\n",
       "      <td>68.0</td>\n",
       "      <td>0.0</td>\n",
       "      <td>73.0</td>\n",
       "      <td>0.0</td>\n",
       "      <td>71.0</td>\n",
       "      <td>0.0</td>\n",
       "    </tr>\n",
       "    <tr>\n",
       "      <th>574944</th>\n",
       "      <td>10.574324</td>\n",
       "      <td>0.654475</td>\n",
       "      <td>4.269531</td>\n",
       "      <td>0.304688</td>\n",
       "      <td>-0.933594</td>\n",
       "      <td>-0.574219</td>\n",
       "      <td>-9.628906</td>\n",
       "      <td>-0.542969</td>\n",
       "      <td>0.000844</td>\n",
       "      <td>0.020054</td>\n",
       "      <td>...</td>\n",
       "      <td>69.0</td>\n",
       "      <td>0.0</td>\n",
       "      <td>71.0</td>\n",
       "      <td>0.0</td>\n",
       "      <td>68.0</td>\n",
       "      <td>0.0</td>\n",
       "      <td>73.0</td>\n",
       "      <td>0.0</td>\n",
       "      <td>71.0</td>\n",
       "      <td>0.0</td>\n",
       "    </tr>\n",
       "  </tbody>\n",
       "</table>\n",
       "<p>574945 rows × 696 columns</p>\n",
       "</div>"
      ],
      "text/plain": [
       "          acc_mag  acc_mag_diff     acc_x  acc_x_diff     acc_y  acc_y_diff  \\\n",
       "0        9.723882      0.000000  6.683594    0.000000  6.214844    0.000000   \n",
       "1        9.832678      0.108796  6.949219    0.265625  6.214844    0.000000   \n",
       "2        9.561135     -0.271543  5.722656   -1.226562  5.410156   -0.804688   \n",
       "3        9.886537      0.325401  6.601562    0.878906  3.531250   -1.878906   \n",
       "4       11.128921      1.242384  5.566406   -1.035156  0.277344   -3.253906   \n",
       "...           ...           ...       ...         ...       ...         ...   \n",
       "574940   9.150011     -0.753489  3.503906   -0.078125 -0.433594    0.308594   \n",
       "574941   9.972424      0.822412  3.773438    0.269531 -0.664062   -0.230469   \n",
       "574942   8.021313     -1.951111  3.082031   -0.691406  0.218750    0.882812   \n",
       "574943   9.919848      1.898536  3.964844    0.882812 -0.359375   -0.578125   \n",
       "574944  10.574324      0.654475  4.269531    0.304688 -0.933594   -0.574219   \n",
       "\n",
       "           acc_z  acc_z_diff  angular_vel_x  angular_vel_x_diff  ...  \\\n",
       "0       3.355469    0.000000       0.000000            0.000000  ...   \n",
       "1       3.125000   -0.230469      -0.010703           -0.010703  ...   \n",
       "2       5.421875    2.296875      -0.105290           -0.094587  ...   \n",
       "3       6.457031    1.035156      -0.185590           -0.080300  ...   \n",
       "4       9.632812    3.175781      -0.117877            0.067713  ...   \n",
       "...          ...         ...            ...                 ...  ...   \n",
       "574940 -8.441406    0.761719      -0.041609           -0.053515  ...   \n",
       "574941 -9.207031   -0.765625      -0.019417            0.022191  ...   \n",
       "574942 -7.402344    1.804688       0.002137            0.021554  ...   \n",
       "574943 -9.085938   -1.683594      -0.019210           -0.021347  ...   \n",
       "574944 -9.628906   -0.542969       0.000844            0.020054  ...   \n",
       "\n",
       "        tof_5_v59  tof_5_v59_diff  tof_5_v60  tof_5_v60_diff  tof_5_v61  \\\n",
       "0            88.0             0.0       91.0             0.0       89.0   \n",
       "1            88.0             0.0       91.0             0.0       89.0   \n",
       "2            88.0             0.0       91.0             0.0       89.0   \n",
       "3            88.0             0.0       91.0             0.0       89.0   \n",
       "4            88.0             0.0       91.0             0.0       89.0   \n",
       "...           ...             ...        ...             ...        ...   \n",
       "574940       69.0             0.0       71.0             0.0       68.0   \n",
       "574941       69.0             0.0       71.0             0.0       68.0   \n",
       "574942       69.0             0.0       71.0             0.0       68.0   \n",
       "574943       69.0             0.0       71.0             0.0       68.0   \n",
       "574944       69.0             0.0       71.0             0.0       68.0   \n",
       "\n",
       "        tof_5_v61_diff  tof_5_v62  tof_5_v62_diff  tof_5_v63  tof_5_v63_diff  \n",
       "0                  0.0      226.0             0.0       88.0             0.0  \n",
       "1                  0.0      226.0             0.0       88.0             0.0  \n",
       "2                  0.0      226.0             0.0       88.0             0.0  \n",
       "3                  0.0      226.0             0.0       88.0             0.0  \n",
       "4                  0.0      226.0             0.0       88.0             0.0  \n",
       "...                ...        ...             ...        ...             ...  \n",
       "574940             0.0       73.0             0.0       71.0             1.0  \n",
       "574941             0.0       73.0             0.0       71.0             0.0  \n",
       "574942             0.0       73.0             0.0       71.0             0.0  \n",
       "574943             0.0       73.0             0.0       71.0             0.0  \n",
       "574944             0.0       73.0             0.0       71.0             0.0  \n",
       "\n",
       "[574945 rows x 696 columns]"
      ]
     },
     "execution_count": 32,
     "metadata": {},
     "output_type": "execute_result"
    }
   ],
   "source": [
    "df[get_feature_cols(df)]"
   ]
  },
  {
   "cell_type": "markdown",
   "id": "b2775c75",
   "metadata": {},
   "source": [
    "## Dataset upload\n",
    "Optionally upload the dataset to kaggle."
   ]
  },
  {
   "cell_type": "code",
   "execution_count": null,
   "id": "d0b40895",
   "metadata": {},
   "outputs": [
    {
     "name": "stdout",
     "output_type": "stream",
     "text": [
      "Kaggle credentials successfully validated.\n",
      "Uploading Dataset https://www.kaggle.com/datasets/mauroabidalcarrer/prepocessed-cmi-2025 ...\n",
      "Starting upload for file preprocessed_dataset.zip\n"
     ]
    },
    {
     "name": "stderr",
     "output_type": "stream",
     "text": [
      "Uploading: 100%|██████████| 2.21G/2.21G [03:15<00:00, 11.3MB/s]"
     ]
    },
    {
     "name": "stdout",
     "output_type": "stream",
     "text": [
      "Upload successful: preprocessed_dataset.zip (2GB)\n"
     ]
    },
    {
     "name": "stderr",
     "output_type": "stream",
     "text": [
      "\n"
     ]
    },
    {
     "name": "stdout",
     "output_type": "stream",
     "text": [
      "Your dataset has been created.\n",
      "Files are being processed...\n",
      "See at: https://www.kaggle.com/datasets/mauroabidalcarrer/prepocessed-cmi-2025\n"
     ]
    }
   ],
   "source": [
    "# upload_input = input(\"Do you want to upload the  dataset to kaggle?[yes/no]\").lower()\n",
    "# if upload_input == \"yes\":\n",
    "#     version_notes = input(\"Provide a version notes:\")\n",
    "# version_notes = version_notes if version_notes else DEFAULT_VERSION_NOTES\n",
    "version_notes = \"Added-back-tof-stats\"\n",
    "# Updaload the dataset\n",
    "dataset_upload(\n",
    "    join(whoami()[\"username\"], \"prepocessed-cmi-2025\"),\n",
    "    \"preprocessed_dataset.zip\",\n",
    "    version_notes=version_notes,\n",
    ")\n",
    "# elif upload_input == \"no\":\n",
    "#     print(\"Dataset has not been uploaded.\")\n",
    "# else:\n",
    "#     print(\"Did not understand user input, dataset has not been uploaded.\")"
   ]
  }
 ],
 "metadata": {
  "kernelspec": {
   "display_name": "Python 3",
   "language": "python",
   "name": "python3"
  },
  "language_info": {
   "codemirror_mode": {
    "name": "ipython",
    "version": 3
   },
   "file_extension": ".py",
   "mimetype": "text/x-python",
   "name": "python",
   "nbconvert_exporter": "python",
   "pygments_lexer": "ipython3",
   "version": "3.11.5"
  }
 },
 "nbformat": 4,
 "nbformat_minor": 5
}
