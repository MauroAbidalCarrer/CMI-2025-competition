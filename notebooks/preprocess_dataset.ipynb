{
 "cells": [
  {
   "cell_type": "markdown",
   "id": "7c1fbf88",
   "metadata": {},
   "source": [
    "# Dataset preprocessing\n",
    "\n",
    "The goal of this notebook is to create a preprocessed kaggle dataset out of the competition dataset.  \n",
    "For now, the preprocessing will be based on [this notebook](https://www.kaggle.com/code/vonmainstein/imu-tof).  \n",
    "It consists of the following steps:\n",
    "-   Set the appropriate dtypes (helps with RAM usage).\n",
    "-   Impute missing feature values with forward, backward and then 0 filling.\n",
    "-   Split the dataset into multiple cross validation folds.\n",
    "-   Standardize feature values.\n",
    "-   Pad/Truncate the sequences to the same length.  \n",
    "\n",
    "> Note:  \n",
    "> - Demographics data set will be ignored for now.  "
   ]
  },
  {
   "cell_type": "markdown",
   "id": "67848297",
   "metadata": {},
   "source": [
    "## Imports"
   ]
  },
  {
   "cell_type": "code",
   "execution_count": 1,
   "id": "3b58565a",
   "metadata": {},
   "outputs": [],
   "source": [
    "import os\n",
    "import json\n",
    "from os.path import join\n",
    "from tqdm.notebook import tqdm\n",
    "from itertools import repeat, starmap\n",
    "\n",
    "import numpy as np\n",
    "import pandas as pd\n",
    "from numpy import ndarray\n",
    "import plotly.express as px\n",
    "from pandas import DataFrame as DF\n",
    "from scipy.spatial.transform import Rotation\n",
    "from kagglehub import whoami, competition_download, dataset_upload\n",
    "\n",
    "from config import *"
   ]
  },
  {
   "cell_type": "markdown",
   "id": "c1924ec0",
   "metadata": {},
   "source": [
    "## Data preprocessing"
   ]
  },
  {
   "cell_type": "markdown",
   "id": "1b3b38be",
   "metadata": {},
   "source": [
    "### Load dataset\n",
    "Requires to be logged in if this notebook is not running on kaggle, go to [your settings](https://www.kaggle.com/settings) to create an access token and put it in `~/.kaggle/`."
   ]
  },
  {
   "cell_type": "code",
   "execution_count": null,
   "id": "a0bb6cf4",
   "metadata": {},
   "outputs": [],
   "source": [
    "competition_dataset_path = competition_download(COMPETITION_HANDLE)\n",
    "df = pd.read_csv(join(competition_dataset_path, \"train.csv\"), dtype=DATASET_DF_DTYPES)"
   ]
  },
  {
   "cell_type": "markdown",
   "id": "7aea88de",
   "metadata": {},
   "source": [
    "### Impute missing data\n",
    "Perform forward, backward and then filling of all NaN sequences."
   ]
  },
  {
   "cell_type": "code",
   "execution_count": null,
   "id": "c2f0db28",
   "metadata": {},
   "outputs": [],
   "source": [
    "feature_cols = list(set(df.columns) - set(META_DATA_COLUMNS))\n",
    "# Missing ToF values are already imputed by -1 which is inconvinient since we want all missing values to be NaN.    \n",
    "# So we replace them by NaN and then perform imputing.  \n",
    "tof_vals_to_nan = {col: -1.0 for col in df.columns if col.startswith(\"tof\")}\n",
    "fillna_val_per_col = {col: 1.0 if col == 'rot_w' else 0 for col in df.columns}\n",
    "\n",
    "def imputed_features(df:DF) -> DF:\n",
    "    # Missing ToF values are already imputed by -1 which is inconvinient since we want all missing values to be NaN.    \n",
    "    # So we replace them by NaN and then perform imputing.  \n",
    "    tof_vals_to_nan = {col: -1.0 for col in df.columns if col.startswith(\"tof\")}\n",
    "    fillna_val_per_col = {col: 1.0 if col == 'rot_w' else 0 for col in df.columns}\n",
    "\n",
    "    df[feature_cols] = (\n",
    "        df\n",
    "        .loc[:, feature_cols]\n",
    "        # df.replace with np.nan sets dtype to floar64 so we set it back to float32\n",
    "        .replace(tof_vals_to_nan, value=np.nan)\n",
    "        .astype(\"float32\")\n",
    "        .groupby(df[\"sequence_id\"], observed=True, as_index=False)\n",
    "        .ffill()\n",
    "        .groupby(df[\"sequence_id\"], observed=True, as_index=False)\n",
    "        .bfill()\n",
    "        # In case there are only nan in the column in the sequence\n",
    "        .fillna(fillna_val_per_col)\n",
    "    )\n",
    "    return df\n",
    "\n",
    "df = imputed_features(df)"
   ]
  },
  {
   "cell_type": "markdown",
   "id": "ad044a52",
   "metadata": {},
   "source": [
    "### Norm quaternions\n",
    "This allows us to parse quaternions with `scipy.spatial.transform.Rotation`."
   ]
  },
  {
   "cell_type": "code",
   "execution_count": null,
   "id": "c99bce0b",
   "metadata": {},
   "outputs": [],
   "source": [
    "QUATERNION_COLS = ['rot_w', 'rot_x', 'rot_y', 'rot_z']\n",
    "def norm_quat_rotations(df:DF) -> DF:\n",
    "    df[QUATERNION_COLS] /= np.linalg.norm(df[QUATERNION_COLS], axis=1, keepdims=True)\n",
    "    return df"
   ]
  },
  {
   "cell_type": "markdown",
   "id": "606a87c4",
   "metadata": {},
   "source": [
    "### Add gravity free acceleration features"
   ]
  },
  {
   "cell_type": "code",
   "execution_count": null,
   "id": "5d87de25",
   "metadata": {},
   "outputs": [
    {
     "name": "stderr",
     "output_type": "stream",
     "text": [
      "/tmp/ipykernel_8848/3192284712.py:8: PerformanceWarning: DataFrame is highly fragmented.  This is usually the result of calling `frame.insert` many times, which has poor performance.  Consider joining all columns at once using pd.concat(axis=1) instead. To get a de-fragmented frame, use `newframe = frame.copy()`\n",
      "  df[GRAVITY_FREE_ACC_COLS] = df[ACCELRATION_COLS] - gravity_sensor_frame\n",
      "/tmp/ipykernel_8848/3192284712.py:8: PerformanceWarning: DataFrame is highly fragmented.  This is usually the result of calling `frame.insert` many times, which has poor performance.  Consider joining all columns at once using pd.concat(axis=1) instead. To get a de-fragmented frame, use `newframe = frame.copy()`\n",
      "  df[GRAVITY_FREE_ACC_COLS] = df[ACCELRATION_COLS] - gravity_sensor_frame\n",
      "/tmp/ipykernel_8848/3192284712.py:8: PerformanceWarning: DataFrame is highly fragmented.  This is usually the result of calling `frame.insert` many times, which has poor performance.  Consider joining all columns at once using pd.concat(axis=1) instead. To get a de-fragmented frame, use `newframe = frame.copy()`\n",
      "  df[GRAVITY_FREE_ACC_COLS] = df[ACCELRATION_COLS] - gravity_sensor_frame\n"
     ]
    }
   ],
   "source": [
    "GRAVITY_WORLD = np.array([0, 0, 9.81])\n",
    "ACCELRATION_COLS = [\"acc_x\", \"acc_y\", \"acc_z\"]\n",
    "GRAVITY_FREE_ACC_COLS = [\"gravity_free_\" + col for col in ACCELRATION_COLS]\n",
    "def add_gravity_free_acc_cols(df:DF) -> DF:\n",
    "    # Vectorized version of https://www.kaggle.com/code/wasupandceacar/lb-0-82-5fold-single-bert-model#Dataset `remove_gravity_from_acc`\n",
    "    rotations = Rotation.from_quat(df[QUATERNION_COLS])\n",
    "    gravity_sensor_frame = rotations.apply(GRAVITY_WORLD, inverse=True)\n",
    "    df[GRAVITY_FREE_ACC_COLS] = df[ACCELRATION_COLS] - gravity_sensor_frame\n",
    "    return df\n",
    "\n",
    "df = add_gravity_free_acc_cols(df)"
   ]
  },
  {
   "cell_type": "markdown",
   "id": "6ae43d1a",
   "metadata": {},
   "source": [
    "### Euler angles from quaternions"
   ]
  },
  {
   "cell_type": "code",
   "execution_count": null,
   "id": "c99bce0b",
   "metadata": {},
   "outputs": [
    {
     "data": {
      "text/plain": [
       "array([[ 0.13973522,  0.76901321,  1.06602422],\n",
       "       [ 0.07560634,  0.75346624,  0.98876692],\n",
       "       [-0.23884316,  0.6830792 ,  0.69691553],\n",
       "       ...,\n",
       "       [ 2.17062915,  0.40229491, -3.09554491],\n",
       "       [ 2.19296719,  0.42823974, -3.09448917],\n",
       "       [ 2.19121165,  0.41152166, -3.09799802]], shape=(574945, 3))"
      ]
     },
     "metadata": {},
     "output_type": "display_data"
    },
    {
     "name": "stderr",
     "output_type": "stream",
     "text": [
      "/tmp/ipykernel_8848/1959754906.py:24: PerformanceWarning: DataFrame is highly fragmented.  This is usually the result of calling `frame.insert` many times, which has poor performance.  Consider joining all columns at once using pd.concat(axis=1) instead. To get a de-fragmented frame, use `newframe = frame.copy()`\n",
      "  df[EULER_ANGLES_COLS] = rot_euler_angles_df\n",
      "/tmp/ipykernel_8848/1959754906.py:24: PerformanceWarning: DataFrame is highly fragmented.  This is usually the result of calling `frame.insert` many times, which has poor performance.  Consider joining all columns at once using pd.concat(axis=1) instead. To get a de-fragmented frame, use `newframe = frame.copy()`\n",
      "  df[EULER_ANGLES_COLS] = rot_euler_angles_df\n",
      "/tmp/ipykernel_8848/1959754906.py:24: PerformanceWarning: DataFrame is highly fragmented.  This is usually the result of calling `frame.insert` many times, which has poor performance.  Consider joining all columns at once using pd.concat(axis=1) instead. To get a de-fragmented frame, use `newframe = frame.copy()`\n",
      "  df[EULER_ANGLES_COLS] = rot_euler_angles_df\n"
     ]
    }
   ],
   "source": [
    "EULER_ANGLES_COLS = [\"euler_x\", \"euler_y\", \"euler_z\"]\n",
    "def rot_euler_angles(seq:DF) -> ndarray:\n",
    "    try:\n",
    "        quat_cols = seq[QUATERNION_COLS]\n",
    "        rotation = Rotation.from_quat(quat_cols)\n",
    "        euler_data = rotation.as_euler(\"xyz\").squeeze()\n",
    "        angles_df = DF(\n",
    "            data=euler_data,\n",
    "            columns=EULER_ANGLES_COLS\n",
    "        )\n",
    "        return angles_df\n",
    "    except ValueError as e:\n",
    "        print(quat_cols)\n",
    "        raise e\n",
    "\n",
    "rot_euler_angles_df = (\n",
    "    df\n",
    "    .groupby(\"sequence_id\", as_index=False, observed=True)\n",
    "    .apply(rot_euler_angles, include_groups=False)\n",
    "    .loc[:, EULER_ANGLES_COLS]\n",
    "    .values\n",
    ")\n",
    "display(rot_euler_angles_df)\n",
    "df[EULER_ANGLES_COLS] = rot_euler_angles_df"
   ]
  },
  {
   "cell_type": "markdown",
   "id": "18979983",
   "metadata": {},
   "source": [
    "### One hot encode target values."
   ]
  },
  {
   "cell_type": "code",
   "execution_count": null,
   "id": "05661625",
   "metadata": {},
   "outputs": [
    {
     "name": "stderr",
     "output_type": "stream",
     "text": [
      "/tmp/ipykernel_8848/1507406683.py:2: PerformanceWarning: DataFrame is highly fragmented.  This is usually the result of calling `frame.insert` many times, which has poor performance.  Consider joining all columns at once using pd.concat(axis=1) instead. To get a de-fragmented frame, use `newframe = frame.copy()`\n",
      "  df[one_hot_target.columns] = one_hot_target\n",
      "/tmp/ipykernel_8848/1507406683.py:2: PerformanceWarning: DataFrame is highly fragmented.  This is usually the result of calling `frame.insert` many times, which has poor performance.  Consider joining all columns at once using pd.concat(axis=1) instead. To get a de-fragmented frame, use `newframe = frame.copy()`\n",
      "  df[one_hot_target.columns] = one_hot_target\n",
      "/tmp/ipykernel_8848/1507406683.py:2: PerformanceWarning: DataFrame is highly fragmented.  This is usually the result of calling `frame.insert` many times, which has poor performance.  Consider joining all columns at once using pd.concat(axis=1) instead. To get a de-fragmented frame, use `newframe = frame.copy()`\n",
      "  df[one_hot_target.columns] = one_hot_target\n",
      "/tmp/ipykernel_8848/1507406683.py:2: PerformanceWarning: DataFrame is highly fragmented.  This is usually the result of calling `frame.insert` many times, which has poor performance.  Consider joining all columns at once using pd.concat(axis=1) instead. To get a de-fragmented frame, use `newframe = frame.copy()`\n",
      "  df[one_hot_target.columns] = one_hot_target\n",
      "/tmp/ipykernel_8848/1507406683.py:2: PerformanceWarning: DataFrame is highly fragmented.  This is usually the result of calling `frame.insert` many times, which has poor performance.  Consider joining all columns at once using pd.concat(axis=1) instead. To get a de-fragmented frame, use `newframe = frame.copy()`\n",
      "  df[one_hot_target.columns] = one_hot_target\n",
      "/tmp/ipykernel_8848/1507406683.py:2: PerformanceWarning: DataFrame is highly fragmented.  This is usually the result of calling `frame.insert` many times, which has poor performance.  Consider joining all columns at once using pd.concat(axis=1) instead. To get a de-fragmented frame, use `newframe = frame.copy()`\n",
      "  df[one_hot_target.columns] = one_hot_target\n",
      "/tmp/ipykernel_8848/1507406683.py:2: PerformanceWarning: DataFrame is highly fragmented.  This is usually the result of calling `frame.insert` many times, which has poor performance.  Consider joining all columns at once using pd.concat(axis=1) instead. To get a de-fragmented frame, use `newframe = frame.copy()`\n",
      "  df[one_hot_target.columns] = one_hot_target\n",
      "/tmp/ipykernel_8848/1507406683.py:2: PerformanceWarning: DataFrame is highly fragmented.  This is usually the result of calling `frame.insert` many times, which has poor performance.  Consider joining all columns at once using pd.concat(axis=1) instead. To get a de-fragmented frame, use `newframe = frame.copy()`\n",
      "  df[one_hot_target.columns] = one_hot_target\n",
      "/tmp/ipykernel_8848/1507406683.py:2: PerformanceWarning: DataFrame is highly fragmented.  This is usually the result of calling `frame.insert` many times, which has poor performance.  Consider joining all columns at once using pd.concat(axis=1) instead. To get a de-fragmented frame, use `newframe = frame.copy()`\n",
      "  df[one_hot_target.columns] = one_hot_target\n",
      "/tmp/ipykernel_8848/1507406683.py:2: PerformanceWarning: DataFrame is highly fragmented.  This is usually the result of calling `frame.insert` many times, which has poor performance.  Consider joining all columns at once using pd.concat(axis=1) instead. To get a de-fragmented frame, use `newframe = frame.copy()`\n",
      "  df[one_hot_target.columns] = one_hot_target\n",
      "/tmp/ipykernel_8848/1507406683.py:2: PerformanceWarning: DataFrame is highly fragmented.  This is usually the result of calling `frame.insert` many times, which has poor performance.  Consider joining all columns at once using pd.concat(axis=1) instead. To get a de-fragmented frame, use `newframe = frame.copy()`\n",
      "  df[one_hot_target.columns] = one_hot_target\n",
      "/tmp/ipykernel_8848/1507406683.py:2: PerformanceWarning: DataFrame is highly fragmented.  This is usually the result of calling `frame.insert` many times, which has poor performance.  Consider joining all columns at once using pd.concat(axis=1) instead. To get a de-fragmented frame, use `newframe = frame.copy()`\n",
      "  df[one_hot_target.columns] = one_hot_target\n",
      "/tmp/ipykernel_8848/1507406683.py:2: PerformanceWarning: DataFrame is highly fragmented.  This is usually the result of calling `frame.insert` many times, which has poor performance.  Consider joining all columns at once using pd.concat(axis=1) instead. To get a de-fragmented frame, use `newframe = frame.copy()`\n",
      "  df[one_hot_target.columns] = one_hot_target\n",
      "/tmp/ipykernel_8848/1507406683.py:2: PerformanceWarning: DataFrame is highly fragmented.  This is usually the result of calling `frame.insert` many times, which has poor performance.  Consider joining all columns at once using pd.concat(axis=1) instead. To get a de-fragmented frame, use `newframe = frame.copy()`\n",
      "  df[one_hot_target.columns] = one_hot_target\n",
      "/tmp/ipykernel_8848/1507406683.py:2: PerformanceWarning: DataFrame is highly fragmented.  This is usually the result of calling `frame.insert` many times, which has poor performance.  Consider joining all columns at once using pd.concat(axis=1) instead. To get a de-fragmented frame, use `newframe = frame.copy()`\n",
      "  df[one_hot_target.columns] = one_hot_target\n",
      "/tmp/ipykernel_8848/1507406683.py:2: PerformanceWarning: DataFrame is highly fragmented.  This is usually the result of calling `frame.insert` many times, which has poor performance.  Consider joining all columns at once using pd.concat(axis=1) instead. To get a de-fragmented frame, use `newframe = frame.copy()`\n",
      "  df[one_hot_target.columns] = one_hot_target\n",
      "/tmp/ipykernel_8848/1507406683.py:2: PerformanceWarning: DataFrame is highly fragmented.  This is usually the result of calling `frame.insert` many times, which has poor performance.  Consider joining all columns at once using pd.concat(axis=1) instead. To get a de-fragmented frame, use `newframe = frame.copy()`\n",
      "  df[one_hot_target.columns] = one_hot_target\n",
      "/tmp/ipykernel_8848/1507406683.py:2: PerformanceWarning: DataFrame is highly fragmented.  This is usually the result of calling `frame.insert` many times, which has poor performance.  Consider joining all columns at once using pd.concat(axis=1) instead. To get a de-fragmented frame, use `newframe = frame.copy()`\n",
      "  df[one_hot_target.columns] = one_hot_target\n"
     ]
    },
    {
     "data": {
      "text/html": [
       "<div>\n",
       "<style scoped>\n",
       "    .dataframe tbody tr th:only-of-type {\n",
       "        vertical-align: middle;\n",
       "    }\n",
       "\n",
       "    .dataframe tbody tr th {\n",
       "        vertical-align: top;\n",
       "    }\n",
       "\n",
       "    .dataframe thead th {\n",
       "        text-align: right;\n",
       "    }\n",
       "</style>\n",
       "<table border=\"1\" class=\"dataframe\">\n",
       "  <thead>\n",
       "    <tr style=\"text-align: right;\">\n",
       "      <th></th>\n",
       "      <th>row_id</th>\n",
       "      <th>sequence_type</th>\n",
       "      <th>sequence_id</th>\n",
       "      <th>sequence_counter</th>\n",
       "      <th>subject</th>\n",
       "      <th>orientation</th>\n",
       "      <th>behavior</th>\n",
       "      <th>phase</th>\n",
       "      <th>gesture</th>\n",
       "      <th>acc_x</th>\n",
       "      <th>...</th>\n",
       "      <th>Neck - scratch</th>\n",
       "      <th>Text on phone</th>\n",
       "      <th>Wave hello</th>\n",
       "      <th>Write name in air</th>\n",
       "      <th>Write name on leg</th>\n",
       "      <th>Drink from bottle/cup</th>\n",
       "      <th>Pinch knee/leg skin</th>\n",
       "      <th>Pull air toward your face</th>\n",
       "      <th>Scratch knee/leg skin</th>\n",
       "      <th>Glasses on/off</th>\n",
       "    </tr>\n",
       "  </thead>\n",
       "  <tbody>\n",
       "    <tr>\n",
       "      <th>0</th>\n",
       "      <td>SEQ_000007_000000</td>\n",
       "      <td>Target</td>\n",
       "      <td>SEQ_000007</td>\n",
       "      <td>0</td>\n",
       "      <td>SUBJ_059520</td>\n",
       "      <td>Seated Lean Non Dom - FACE DOWN</td>\n",
       "      <td>Relaxes and moves hand to target location</td>\n",
       "      <td>Transition</td>\n",
       "      <td>Cheek - pinch skin</td>\n",
       "      <td>6.683594</td>\n",
       "      <td>...</td>\n",
       "      <td>False</td>\n",
       "      <td>False</td>\n",
       "      <td>False</td>\n",
       "      <td>False</td>\n",
       "      <td>False</td>\n",
       "      <td>False</td>\n",
       "      <td>False</td>\n",
       "      <td>False</td>\n",
       "      <td>False</td>\n",
       "      <td>False</td>\n",
       "    </tr>\n",
       "    <tr>\n",
       "      <th>1</th>\n",
       "      <td>SEQ_000007_000001</td>\n",
       "      <td>Target</td>\n",
       "      <td>SEQ_000007</td>\n",
       "      <td>1</td>\n",
       "      <td>SUBJ_059520</td>\n",
       "      <td>Seated Lean Non Dom - FACE DOWN</td>\n",
       "      <td>Relaxes and moves hand to target location</td>\n",
       "      <td>Transition</td>\n",
       "      <td>Cheek - pinch skin</td>\n",
       "      <td>6.949219</td>\n",
       "      <td>...</td>\n",
       "      <td>False</td>\n",
       "      <td>False</td>\n",
       "      <td>False</td>\n",
       "      <td>False</td>\n",
       "      <td>False</td>\n",
       "      <td>False</td>\n",
       "      <td>False</td>\n",
       "      <td>False</td>\n",
       "      <td>False</td>\n",
       "      <td>False</td>\n",
       "    </tr>\n",
       "    <tr>\n",
       "      <th>2</th>\n",
       "      <td>SEQ_000007_000002</td>\n",
       "      <td>Target</td>\n",
       "      <td>SEQ_000007</td>\n",
       "      <td>2</td>\n",
       "      <td>SUBJ_059520</td>\n",
       "      <td>Seated Lean Non Dom - FACE DOWN</td>\n",
       "      <td>Relaxes and moves hand to target location</td>\n",
       "      <td>Transition</td>\n",
       "      <td>Cheek - pinch skin</td>\n",
       "      <td>5.722656</td>\n",
       "      <td>...</td>\n",
       "      <td>False</td>\n",
       "      <td>False</td>\n",
       "      <td>False</td>\n",
       "      <td>False</td>\n",
       "      <td>False</td>\n",
       "      <td>False</td>\n",
       "      <td>False</td>\n",
       "      <td>False</td>\n",
       "      <td>False</td>\n",
       "      <td>False</td>\n",
       "    </tr>\n",
       "    <tr>\n",
       "      <th>3</th>\n",
       "      <td>SEQ_000007_000003</td>\n",
       "      <td>Target</td>\n",
       "      <td>SEQ_000007</td>\n",
       "      <td>3</td>\n",
       "      <td>SUBJ_059520</td>\n",
       "      <td>Seated Lean Non Dom - FACE DOWN</td>\n",
       "      <td>Relaxes and moves hand to target location</td>\n",
       "      <td>Transition</td>\n",
       "      <td>Cheek - pinch skin</td>\n",
       "      <td>6.601562</td>\n",
       "      <td>...</td>\n",
       "      <td>False</td>\n",
       "      <td>False</td>\n",
       "      <td>False</td>\n",
       "      <td>False</td>\n",
       "      <td>False</td>\n",
       "      <td>False</td>\n",
       "      <td>False</td>\n",
       "      <td>False</td>\n",
       "      <td>False</td>\n",
       "      <td>False</td>\n",
       "    </tr>\n",
       "    <tr>\n",
       "      <th>4</th>\n",
       "      <td>SEQ_000007_000004</td>\n",
       "      <td>Target</td>\n",
       "      <td>SEQ_000007</td>\n",
       "      <td>4</td>\n",
       "      <td>SUBJ_059520</td>\n",
       "      <td>Seated Lean Non Dom - FACE DOWN</td>\n",
       "      <td>Relaxes and moves hand to target location</td>\n",
       "      <td>Transition</td>\n",
       "      <td>Cheek - pinch skin</td>\n",
       "      <td>5.566406</td>\n",
       "      <td>...</td>\n",
       "      <td>False</td>\n",
       "      <td>False</td>\n",
       "      <td>False</td>\n",
       "      <td>False</td>\n",
       "      <td>False</td>\n",
       "      <td>False</td>\n",
       "      <td>False</td>\n",
       "      <td>False</td>\n",
       "      <td>False</td>\n",
       "      <td>False</td>\n",
       "    </tr>\n",
       "    <tr>\n",
       "      <th>...</th>\n",
       "      <td>...</td>\n",
       "      <td>...</td>\n",
       "      <td>...</td>\n",
       "      <td>...</td>\n",
       "      <td>...</td>\n",
       "      <td>...</td>\n",
       "      <td>...</td>\n",
       "      <td>...</td>\n",
       "      <td>...</td>\n",
       "      <td>...</td>\n",
       "      <td>...</td>\n",
       "      <td>...</td>\n",
       "      <td>...</td>\n",
       "      <td>...</td>\n",
       "      <td>...</td>\n",
       "      <td>...</td>\n",
       "      <td>...</td>\n",
       "      <td>...</td>\n",
       "      <td>...</td>\n",
       "      <td>...</td>\n",
       "      <td>...</td>\n",
       "    </tr>\n",
       "    <tr>\n",
       "      <th>574940</th>\n",
       "      <td>SEQ_065531_000048</td>\n",
       "      <td>Non-Target</td>\n",
       "      <td>SEQ_065531</td>\n",
       "      <td>48</td>\n",
       "      <td>SUBJ_039498</td>\n",
       "      <td>Seated Lean Non Dom - FACE DOWN</td>\n",
       "      <td>Performs gesture</td>\n",
       "      <td>Gesture</td>\n",
       "      <td>Write name on leg</td>\n",
       "      <td>3.503906</td>\n",
       "      <td>...</td>\n",
       "      <td>False</td>\n",
       "      <td>False</td>\n",
       "      <td>False</td>\n",
       "      <td>False</td>\n",
       "      <td>True</td>\n",
       "      <td>False</td>\n",
       "      <td>False</td>\n",
       "      <td>False</td>\n",
       "      <td>False</td>\n",
       "      <td>False</td>\n",
       "    </tr>\n",
       "    <tr>\n",
       "      <th>574941</th>\n",
       "      <td>SEQ_065531_000049</td>\n",
       "      <td>Non-Target</td>\n",
       "      <td>SEQ_065531</td>\n",
       "      <td>49</td>\n",
       "      <td>SUBJ_039498</td>\n",
       "      <td>Seated Lean Non Dom - FACE DOWN</td>\n",
       "      <td>Performs gesture</td>\n",
       "      <td>Gesture</td>\n",
       "      <td>Write name on leg</td>\n",
       "      <td>3.773438</td>\n",
       "      <td>...</td>\n",
       "      <td>False</td>\n",
       "      <td>False</td>\n",
       "      <td>False</td>\n",
       "      <td>False</td>\n",
       "      <td>True</td>\n",
       "      <td>False</td>\n",
       "      <td>False</td>\n",
       "      <td>False</td>\n",
       "      <td>False</td>\n",
       "      <td>False</td>\n",
       "    </tr>\n",
       "    <tr>\n",
       "      <th>574942</th>\n",
       "      <td>SEQ_065531_000050</td>\n",
       "      <td>Non-Target</td>\n",
       "      <td>SEQ_065531</td>\n",
       "      <td>50</td>\n",
       "      <td>SUBJ_039498</td>\n",
       "      <td>Seated Lean Non Dom - FACE DOWN</td>\n",
       "      <td>Performs gesture</td>\n",
       "      <td>Gesture</td>\n",
       "      <td>Write name on leg</td>\n",
       "      <td>3.082031</td>\n",
       "      <td>...</td>\n",
       "      <td>False</td>\n",
       "      <td>False</td>\n",
       "      <td>False</td>\n",
       "      <td>False</td>\n",
       "      <td>True</td>\n",
       "      <td>False</td>\n",
       "      <td>False</td>\n",
       "      <td>False</td>\n",
       "      <td>False</td>\n",
       "      <td>False</td>\n",
       "    </tr>\n",
       "    <tr>\n",
       "      <th>574943</th>\n",
       "      <td>SEQ_065531_000051</td>\n",
       "      <td>Non-Target</td>\n",
       "      <td>SEQ_065531</td>\n",
       "      <td>51</td>\n",
       "      <td>SUBJ_039498</td>\n",
       "      <td>Seated Lean Non Dom - FACE DOWN</td>\n",
       "      <td>Performs gesture</td>\n",
       "      <td>Gesture</td>\n",
       "      <td>Write name on leg</td>\n",
       "      <td>3.964844</td>\n",
       "      <td>...</td>\n",
       "      <td>False</td>\n",
       "      <td>False</td>\n",
       "      <td>False</td>\n",
       "      <td>False</td>\n",
       "      <td>True</td>\n",
       "      <td>False</td>\n",
       "      <td>False</td>\n",
       "      <td>False</td>\n",
       "      <td>False</td>\n",
       "      <td>False</td>\n",
       "    </tr>\n",
       "    <tr>\n",
       "      <th>574944</th>\n",
       "      <td>SEQ_065531_000052</td>\n",
       "      <td>Non-Target</td>\n",
       "      <td>SEQ_065531</td>\n",
       "      <td>52</td>\n",
       "      <td>SUBJ_039498</td>\n",
       "      <td>Seated Lean Non Dom - FACE DOWN</td>\n",
       "      <td>Performs gesture</td>\n",
       "      <td>Gesture</td>\n",
       "      <td>Write name on leg</td>\n",
       "      <td>4.269531</td>\n",
       "      <td>...</td>\n",
       "      <td>False</td>\n",
       "      <td>False</td>\n",
       "      <td>False</td>\n",
       "      <td>False</td>\n",
       "      <td>True</td>\n",
       "      <td>False</td>\n",
       "      <td>False</td>\n",
       "      <td>False</td>\n",
       "      <td>False</td>\n",
       "      <td>False</td>\n",
       "    </tr>\n",
       "  </tbody>\n",
       "</table>\n",
       "<p>574945 rows × 365 columns</p>\n",
       "</div>"
      ],
      "text/plain": [
       "                   row_id sequence_type sequence_id  sequence_counter  \\\n",
       "0       SEQ_000007_000000        Target  SEQ_000007                 0   \n",
       "1       SEQ_000007_000001        Target  SEQ_000007                 1   \n",
       "2       SEQ_000007_000002        Target  SEQ_000007                 2   \n",
       "3       SEQ_000007_000003        Target  SEQ_000007                 3   \n",
       "4       SEQ_000007_000004        Target  SEQ_000007                 4   \n",
       "...                   ...           ...         ...               ...   \n",
       "574940  SEQ_065531_000048    Non-Target  SEQ_065531                48   \n",
       "574941  SEQ_065531_000049    Non-Target  SEQ_065531                49   \n",
       "574942  SEQ_065531_000050    Non-Target  SEQ_065531                50   \n",
       "574943  SEQ_065531_000051    Non-Target  SEQ_065531                51   \n",
       "574944  SEQ_065531_000052    Non-Target  SEQ_065531                52   \n",
       "\n",
       "            subject                      orientation  \\\n",
       "0       SUBJ_059520  Seated Lean Non Dom - FACE DOWN   \n",
       "1       SUBJ_059520  Seated Lean Non Dom - FACE DOWN   \n",
       "2       SUBJ_059520  Seated Lean Non Dom - FACE DOWN   \n",
       "3       SUBJ_059520  Seated Lean Non Dom - FACE DOWN   \n",
       "4       SUBJ_059520  Seated Lean Non Dom - FACE DOWN   \n",
       "...             ...                              ...   \n",
       "574940  SUBJ_039498  Seated Lean Non Dom - FACE DOWN   \n",
       "574941  SUBJ_039498  Seated Lean Non Dom - FACE DOWN   \n",
       "574942  SUBJ_039498  Seated Lean Non Dom - FACE DOWN   \n",
       "574943  SUBJ_039498  Seated Lean Non Dom - FACE DOWN   \n",
       "574944  SUBJ_039498  Seated Lean Non Dom - FACE DOWN   \n",
       "\n",
       "                                         behavior       phase  \\\n",
       "0       Relaxes and moves hand to target location  Transition   \n",
       "1       Relaxes and moves hand to target location  Transition   \n",
       "2       Relaxes and moves hand to target location  Transition   \n",
       "3       Relaxes and moves hand to target location  Transition   \n",
       "4       Relaxes and moves hand to target location  Transition   \n",
       "...                                           ...         ...   \n",
       "574940                           Performs gesture     Gesture   \n",
       "574941                           Performs gesture     Gesture   \n",
       "574942                           Performs gesture     Gesture   \n",
       "574943                           Performs gesture     Gesture   \n",
       "574944                           Performs gesture     Gesture   \n",
       "\n",
       "                   gesture     acc_x  ...  Neck - scratch  Text on phone  \\\n",
       "0       Cheek - pinch skin  6.683594  ...           False          False   \n",
       "1       Cheek - pinch skin  6.949219  ...           False          False   \n",
       "2       Cheek - pinch skin  5.722656  ...           False          False   \n",
       "3       Cheek - pinch skin  6.601562  ...           False          False   \n",
       "4       Cheek - pinch skin  5.566406  ...           False          False   \n",
       "...                    ...       ...  ...             ...            ...   \n",
       "574940   Write name on leg  3.503906  ...           False          False   \n",
       "574941   Write name on leg  3.773438  ...           False          False   \n",
       "574942   Write name on leg  3.082031  ...           False          False   \n",
       "574943   Write name on leg  3.964844  ...           False          False   \n",
       "574944   Write name on leg  4.269531  ...           False          False   \n",
       "\n",
       "        Wave hello  Write name in air  Write name on leg  \\\n",
       "0            False              False              False   \n",
       "1            False              False              False   \n",
       "2            False              False              False   \n",
       "3            False              False              False   \n",
       "4            False              False              False   \n",
       "...            ...                ...                ...   \n",
       "574940       False              False               True   \n",
       "574941       False              False               True   \n",
       "574942       False              False               True   \n",
       "574943       False              False               True   \n",
       "574944       False              False               True   \n",
       "\n",
       "        Drink from bottle/cup  Pinch knee/leg skin  Pull air toward your face  \\\n",
       "0                       False                False                      False   \n",
       "1                       False                False                      False   \n",
       "2                       False                False                      False   \n",
       "3                       False                False                      False   \n",
       "4                       False                False                      False   \n",
       "...                       ...                  ...                        ...   \n",
       "574940                  False                False                      False   \n",
       "574941                  False                False                      False   \n",
       "574942                  False                False                      False   \n",
       "574943                  False                False                      False   \n",
       "574944                  False                False                      False   \n",
       "\n",
       "        Scratch knee/leg skin  Glasses on/off  \n",
       "0                       False           False  \n",
       "1                       False           False  \n",
       "2                       False           False  \n",
       "3                       False           False  \n",
       "4                       False           False  \n",
       "...                       ...             ...  \n",
       "574940                  False           False  \n",
       "574941                  False           False  \n",
       "574942                  False           False  \n",
       "574943                  False           False  \n",
       "574944                  False           False  \n",
       "\n",
       "[574945 rows x 365 columns]"
      ]
     },
     "execution_count": 7,
     "metadata": {},
     "output_type": "execute_result"
    }
   ],
   "source": [
    "one_hot_target = pd.get_dummies(df[\"gesture\"])\n",
    "df[one_hot_target.columns] = one_hot_target\n",
    "df"
   ]
  },
  {
   "cell_type": "markdown",
   "id": "8812dc08",
   "metadata": {},
   "source": [
    "### ToF data aggregation.\n",
    "Time of Flight columns take most of the data, let's reduce their size by aggregating by mean for each Time of Flight sensor."
   ]
  },
  {
   "cell_type": "code",
   "execution_count": null,
   "id": "2b4f83f2",
   "metadata": {},
   "outputs": [
    {
     "data": {
      "text/html": [
       "<div>\n",
       "<style scoped>\n",
       "    .dataframe tbody tr th:only-of-type {\n",
       "        vertical-align: middle;\n",
       "    }\n",
       "\n",
       "    .dataframe tbody tr th {\n",
       "        vertical-align: top;\n",
       "    }\n",
       "\n",
       "    .dataframe thead th {\n",
       "        text-align: right;\n",
       "    }\n",
       "</style>\n",
       "<table border=\"1\" class=\"dataframe\">\n",
       "  <thead>\n",
       "    <tr style=\"text-align: right;\">\n",
       "      <th></th>\n",
       "      <th>row_id</th>\n",
       "      <th>sequence_type</th>\n",
       "      <th>sequence_id</th>\n",
       "      <th>sequence_counter</th>\n",
       "      <th>subject</th>\n",
       "      <th>orientation</th>\n",
       "      <th>behavior</th>\n",
       "      <th>phase</th>\n",
       "      <th>gesture</th>\n",
       "      <th>acc_x</th>\n",
       "      <th>...</th>\n",
       "      <th>Drink from bottle/cup</th>\n",
       "      <th>Pinch knee/leg skin</th>\n",
       "      <th>Pull air toward your face</th>\n",
       "      <th>Scratch knee/leg skin</th>\n",
       "      <th>Glasses on/off</th>\n",
       "      <th>tof_1</th>\n",
       "      <th>tof_2</th>\n",
       "      <th>tof_3</th>\n",
       "      <th>tof_4</th>\n",
       "      <th>tof_5</th>\n",
       "    </tr>\n",
       "  </thead>\n",
       "  <tbody>\n",
       "    <tr>\n",
       "      <th>0</th>\n",
       "      <td>SEQ_000007_000000</td>\n",
       "      <td>Target</td>\n",
       "      <td>SEQ_000007</td>\n",
       "      <td>0</td>\n",
       "      <td>SUBJ_059520</td>\n",
       "      <td>Seated Lean Non Dom - FACE DOWN</td>\n",
       "      <td>Relaxes and moves hand to target location</td>\n",
       "      <td>Transition</td>\n",
       "      <td>Cheek - pinch skin</td>\n",
       "      <td>6.683594</td>\n",
       "      <td>...</td>\n",
       "      <td>False</td>\n",
       "      <td>False</td>\n",
       "      <td>False</td>\n",
       "      <td>False</td>\n",
       "      <td>False</td>\n",
       "      <td>139.250000</td>\n",
       "      <td>117.109375</td>\n",
       "      <td>91.687500</td>\n",
       "      <td>123.359375</td>\n",
       "      <td>135.343750</td>\n",
       "    </tr>\n",
       "    <tr>\n",
       "      <th>1</th>\n",
       "      <td>SEQ_000007_000001</td>\n",
       "      <td>Target</td>\n",
       "      <td>SEQ_000007</td>\n",
       "      <td>1</td>\n",
       "      <td>SUBJ_059520</td>\n",
       "      <td>Seated Lean Non Dom - FACE DOWN</td>\n",
       "      <td>Relaxes and moves hand to target location</td>\n",
       "      <td>Transition</td>\n",
       "      <td>Cheek - pinch skin</td>\n",
       "      <td>6.949219</td>\n",
       "      <td>...</td>\n",
       "      <td>False</td>\n",
       "      <td>False</td>\n",
       "      <td>False</td>\n",
       "      <td>False</td>\n",
       "      <td>False</td>\n",
       "      <td>139.796875</td>\n",
       "      <td>119.671875</td>\n",
       "      <td>97.921875</td>\n",
       "      <td>124.406250</td>\n",
       "      <td>137.000000</td>\n",
       "    </tr>\n",
       "    <tr>\n",
       "      <th>2</th>\n",
       "      <td>SEQ_000007_000002</td>\n",
       "      <td>Target</td>\n",
       "      <td>SEQ_000007</td>\n",
       "      <td>2</td>\n",
       "      <td>SUBJ_059520</td>\n",
       "      <td>Seated Lean Non Dom - FACE DOWN</td>\n",
       "      <td>Relaxes and moves hand to target location</td>\n",
       "      <td>Transition</td>\n",
       "      <td>Cheek - pinch skin</td>\n",
       "      <td>5.722656</td>\n",
       "      <td>...</td>\n",
       "      <td>False</td>\n",
       "      <td>False</td>\n",
       "      <td>False</td>\n",
       "      <td>False</td>\n",
       "      <td>False</td>\n",
       "      <td>142.375000</td>\n",
       "      <td>128.359375</td>\n",
       "      <td>116.953125</td>\n",
       "      <td>125.687500</td>\n",
       "      <td>140.234375</td>\n",
       "    </tr>\n",
       "    <tr>\n",
       "      <th>3</th>\n",
       "      <td>SEQ_000007_000003</td>\n",
       "      <td>Target</td>\n",
       "      <td>SEQ_000007</td>\n",
       "      <td>3</td>\n",
       "      <td>SUBJ_059520</td>\n",
       "      <td>Seated Lean Non Dom - FACE DOWN</td>\n",
       "      <td>Relaxes and moves hand to target location</td>\n",
       "      <td>Transition</td>\n",
       "      <td>Cheek - pinch skin</td>\n",
       "      <td>6.601562</td>\n",
       "      <td>...</td>\n",
       "      <td>False</td>\n",
       "      <td>False</td>\n",
       "      <td>False</td>\n",
       "      <td>False</td>\n",
       "      <td>False</td>\n",
       "      <td>154.109375</td>\n",
       "      <td>142.093750</td>\n",
       "      <td>144.515625</td>\n",
       "      <td>149.078125</td>\n",
       "      <td>142.609375</td>\n",
       "    </tr>\n",
       "    <tr>\n",
       "      <th>4</th>\n",
       "      <td>SEQ_000007_000004</td>\n",
       "      <td>Target</td>\n",
       "      <td>SEQ_000007</td>\n",
       "      <td>4</td>\n",
       "      <td>SUBJ_059520</td>\n",
       "      <td>Seated Lean Non Dom - FACE DOWN</td>\n",
       "      <td>Relaxes and moves hand to target location</td>\n",
       "      <td>Transition</td>\n",
       "      <td>Cheek - pinch skin</td>\n",
       "      <td>5.566406</td>\n",
       "      <td>...</td>\n",
       "      <td>False</td>\n",
       "      <td>False</td>\n",
       "      <td>False</td>\n",
       "      <td>False</td>\n",
       "      <td>False</td>\n",
       "      <td>177.953125</td>\n",
       "      <td>149.453125</td>\n",
       "      <td>161.828125</td>\n",
       "      <td>163.765625</td>\n",
       "      <td>151.265625</td>\n",
       "    </tr>\n",
       "    <tr>\n",
       "      <th>...</th>\n",
       "      <td>...</td>\n",
       "      <td>...</td>\n",
       "      <td>...</td>\n",
       "      <td>...</td>\n",
       "      <td>...</td>\n",
       "      <td>...</td>\n",
       "      <td>...</td>\n",
       "      <td>...</td>\n",
       "      <td>...</td>\n",
       "      <td>...</td>\n",
       "      <td>...</td>\n",
       "      <td>...</td>\n",
       "      <td>...</td>\n",
       "      <td>...</td>\n",
       "      <td>...</td>\n",
       "      <td>...</td>\n",
       "      <td>...</td>\n",
       "      <td>...</td>\n",
       "      <td>...</td>\n",
       "      <td>...</td>\n",
       "      <td>...</td>\n",
       "    </tr>\n",
       "    <tr>\n",
       "      <th>574940</th>\n",
       "      <td>SEQ_065531_000048</td>\n",
       "      <td>Non-Target</td>\n",
       "      <td>SEQ_065531</td>\n",
       "      <td>48</td>\n",
       "      <td>SUBJ_039498</td>\n",
       "      <td>Seated Lean Non Dom - FACE DOWN</td>\n",
       "      <td>Performs gesture</td>\n",
       "      <td>Gesture</td>\n",
       "      <td>Write name on leg</td>\n",
       "      <td>3.503906</td>\n",
       "      <td>...</td>\n",
       "      <td>False</td>\n",
       "      <td>False</td>\n",
       "      <td>False</td>\n",
       "      <td>False</td>\n",
       "      <td>False</td>\n",
       "      <td>68.562500</td>\n",
       "      <td>67.750000</td>\n",
       "      <td>144.437500</td>\n",
       "      <td>74.062500</td>\n",
       "      <td>52.843750</td>\n",
       "    </tr>\n",
       "    <tr>\n",
       "      <th>574941</th>\n",
       "      <td>SEQ_065531_000049</td>\n",
       "      <td>Non-Target</td>\n",
       "      <td>SEQ_065531</td>\n",
       "      <td>49</td>\n",
       "      <td>SUBJ_039498</td>\n",
       "      <td>Seated Lean Non Dom - FACE DOWN</td>\n",
       "      <td>Performs gesture</td>\n",
       "      <td>Gesture</td>\n",
       "      <td>Write name on leg</td>\n",
       "      <td>3.773438</td>\n",
       "      <td>...</td>\n",
       "      <td>False</td>\n",
       "      <td>False</td>\n",
       "      <td>False</td>\n",
       "      <td>False</td>\n",
       "      <td>False</td>\n",
       "      <td>70.234375</td>\n",
       "      <td>66.656250</td>\n",
       "      <td>144.000000</td>\n",
       "      <td>70.406250</td>\n",
       "      <td>54.531250</td>\n",
       "    </tr>\n",
       "    <tr>\n",
       "      <th>574942</th>\n",
       "      <td>SEQ_065531_000050</td>\n",
       "      <td>Non-Target</td>\n",
       "      <td>SEQ_065531</td>\n",
       "      <td>50</td>\n",
       "      <td>SUBJ_039498</td>\n",
       "      <td>Seated Lean Non Dom - FACE DOWN</td>\n",
       "      <td>Performs gesture</td>\n",
       "      <td>Gesture</td>\n",
       "      <td>Write name on leg</td>\n",
       "      <td>3.082031</td>\n",
       "      <td>...</td>\n",
       "      <td>False</td>\n",
       "      <td>False</td>\n",
       "      <td>False</td>\n",
       "      <td>False</td>\n",
       "      <td>False</td>\n",
       "      <td>66.671875</td>\n",
       "      <td>62.906250</td>\n",
       "      <td>136.906250</td>\n",
       "      <td>70.109375</td>\n",
       "      <td>57.468750</td>\n",
       "    </tr>\n",
       "    <tr>\n",
       "      <th>574943</th>\n",
       "      <td>SEQ_065531_000051</td>\n",
       "      <td>Non-Target</td>\n",
       "      <td>SEQ_065531</td>\n",
       "      <td>51</td>\n",
       "      <td>SUBJ_039498</td>\n",
       "      <td>Seated Lean Non Dom - FACE DOWN</td>\n",
       "      <td>Performs gesture</td>\n",
       "      <td>Gesture</td>\n",
       "      <td>Write name on leg</td>\n",
       "      <td>3.964844</td>\n",
       "      <td>...</td>\n",
       "      <td>False</td>\n",
       "      <td>False</td>\n",
       "      <td>False</td>\n",
       "      <td>False</td>\n",
       "      <td>False</td>\n",
       "      <td>67.218750</td>\n",
       "      <td>64.500000</td>\n",
       "      <td>140.531250</td>\n",
       "      <td>75.609375</td>\n",
       "      <td>54.937500</td>\n",
       "    </tr>\n",
       "    <tr>\n",
       "      <th>574944</th>\n",
       "      <td>SEQ_065531_000052</td>\n",
       "      <td>Non-Target</td>\n",
       "      <td>SEQ_065531</td>\n",
       "      <td>52</td>\n",
       "      <td>SUBJ_039498</td>\n",
       "      <td>Seated Lean Non Dom - FACE DOWN</td>\n",
       "      <td>Performs gesture</td>\n",
       "      <td>Gesture</td>\n",
       "      <td>Write name on leg</td>\n",
       "      <td>4.269531</td>\n",
       "      <td>...</td>\n",
       "      <td>False</td>\n",
       "      <td>False</td>\n",
       "      <td>False</td>\n",
       "      <td>False</td>\n",
       "      <td>False</td>\n",
       "      <td>68.937500</td>\n",
       "      <td>65.156250</td>\n",
       "      <td>143.906250</td>\n",
       "      <td>75.890625</td>\n",
       "      <td>55.281250</td>\n",
       "    </tr>\n",
       "  </tbody>\n",
       "</table>\n",
       "<p>574945 rows × 50 columns</p>\n",
       "</div>"
      ],
      "text/plain": [
       "                   row_id sequence_type sequence_id  sequence_counter  \\\n",
       "0       SEQ_000007_000000        Target  SEQ_000007                 0   \n",
       "1       SEQ_000007_000001        Target  SEQ_000007                 1   \n",
       "2       SEQ_000007_000002        Target  SEQ_000007                 2   \n",
       "3       SEQ_000007_000003        Target  SEQ_000007                 3   \n",
       "4       SEQ_000007_000004        Target  SEQ_000007                 4   \n",
       "...                   ...           ...         ...               ...   \n",
       "574940  SEQ_065531_000048    Non-Target  SEQ_065531                48   \n",
       "574941  SEQ_065531_000049    Non-Target  SEQ_065531                49   \n",
       "574942  SEQ_065531_000050    Non-Target  SEQ_065531                50   \n",
       "574943  SEQ_065531_000051    Non-Target  SEQ_065531                51   \n",
       "574944  SEQ_065531_000052    Non-Target  SEQ_065531                52   \n",
       "\n",
       "            subject                      orientation  \\\n",
       "0       SUBJ_059520  Seated Lean Non Dom - FACE DOWN   \n",
       "1       SUBJ_059520  Seated Lean Non Dom - FACE DOWN   \n",
       "2       SUBJ_059520  Seated Lean Non Dom - FACE DOWN   \n",
       "3       SUBJ_059520  Seated Lean Non Dom - FACE DOWN   \n",
       "4       SUBJ_059520  Seated Lean Non Dom - FACE DOWN   \n",
       "...             ...                              ...   \n",
       "574940  SUBJ_039498  Seated Lean Non Dom - FACE DOWN   \n",
       "574941  SUBJ_039498  Seated Lean Non Dom - FACE DOWN   \n",
       "574942  SUBJ_039498  Seated Lean Non Dom - FACE DOWN   \n",
       "574943  SUBJ_039498  Seated Lean Non Dom - FACE DOWN   \n",
       "574944  SUBJ_039498  Seated Lean Non Dom - FACE DOWN   \n",
       "\n",
       "                                         behavior       phase  \\\n",
       "0       Relaxes and moves hand to target location  Transition   \n",
       "1       Relaxes and moves hand to target location  Transition   \n",
       "2       Relaxes and moves hand to target location  Transition   \n",
       "3       Relaxes and moves hand to target location  Transition   \n",
       "4       Relaxes and moves hand to target location  Transition   \n",
       "...                                           ...         ...   \n",
       "574940                           Performs gesture     Gesture   \n",
       "574941                           Performs gesture     Gesture   \n",
       "574942                           Performs gesture     Gesture   \n",
       "574943                           Performs gesture     Gesture   \n",
       "574944                           Performs gesture     Gesture   \n",
       "\n",
       "                   gesture     acc_x  ...  Drink from bottle/cup  \\\n",
       "0       Cheek - pinch skin  6.683594  ...                  False   \n",
       "1       Cheek - pinch skin  6.949219  ...                  False   \n",
       "2       Cheek - pinch skin  5.722656  ...                  False   \n",
       "3       Cheek - pinch skin  6.601562  ...                  False   \n",
       "4       Cheek - pinch skin  5.566406  ...                  False   \n",
       "...                    ...       ...  ...                    ...   \n",
       "574940   Write name on leg  3.503906  ...                  False   \n",
       "574941   Write name on leg  3.773438  ...                  False   \n",
       "574942   Write name on leg  3.082031  ...                  False   \n",
       "574943   Write name on leg  3.964844  ...                  False   \n",
       "574944   Write name on leg  4.269531  ...                  False   \n",
       "\n",
       "        Pinch knee/leg skin  Pull air toward your face  Scratch knee/leg skin  \\\n",
       "0                     False                      False                  False   \n",
       "1                     False                      False                  False   \n",
       "2                     False                      False                  False   \n",
       "3                     False                      False                  False   \n",
       "4                     False                      False                  False   \n",
       "...                     ...                        ...                    ...   \n",
       "574940                False                      False                  False   \n",
       "574941                False                      False                  False   \n",
       "574942                False                      False                  False   \n",
       "574943                False                      False                  False   \n",
       "574944                False                      False                  False   \n",
       "\n",
       "        Glasses on/off       tof_1       tof_2       tof_3       tof_4  \\\n",
       "0                False  139.250000  117.109375   91.687500  123.359375   \n",
       "1                False  139.796875  119.671875   97.921875  124.406250   \n",
       "2                False  142.375000  128.359375  116.953125  125.687500   \n",
       "3                False  154.109375  142.093750  144.515625  149.078125   \n",
       "4                False  177.953125  149.453125  161.828125  163.765625   \n",
       "...                ...         ...         ...         ...         ...   \n",
       "574940           False   68.562500   67.750000  144.437500   74.062500   \n",
       "574941           False   70.234375   66.656250  144.000000   70.406250   \n",
       "574942           False   66.671875   62.906250  136.906250   70.109375   \n",
       "574943           False   67.218750   64.500000  140.531250   75.609375   \n",
       "574944           False   68.937500   65.156250  143.906250   75.890625   \n",
       "\n",
       "             tof_5  \n",
       "0       135.343750  \n",
       "1       137.000000  \n",
       "2       140.234375  \n",
       "3       142.609375  \n",
       "4       151.265625  \n",
       "...            ...  \n",
       "574940   52.843750  \n",
       "574941   54.531250  \n",
       "574942   57.468750  \n",
       "574943   54.937500  \n",
       "574944   55.281250  \n",
       "\n",
       "[574945 rows x 50 columns]"
      ]
     },
     "execution_count": 8,
     "metadata": {},
     "output_type": "execute_result"
    }
   ],
   "source": [
    "def agg_tof_cols_per_sensor(df:DF) -> DF:\n",
    "    for tof_idx in range(1, 6):\n",
    "        tof_name = f\"tof_{tof_idx}\"\n",
    "        tof_cols = [f\"{tof_name}_v{v_idx}\" for v_idx in range(64)]\n",
    "        if any(map(lambda col: col not in df.columns, tof_cols)):\n",
    "            print(f\"Some (or) all ToF {tof_idx} columns are not in the df. Maybe you already ran this cell?\")\n",
    "            continue\n",
    "        df = (\n",
    "            df\n",
    "            # Need to use a dict otherwise the name of the col will be \"tof_preffix\" instead of the value it contains\n",
    "            .assign(**{tof_name:df[tof_cols].mean(axis=\"columns\")})\n",
    "            .drop(columns=tof_cols)\n",
    "        )\n",
    "    return df\n",
    "\n",
    "df = agg_tof_cols_per_sensor(df)\n",
    "# Redifine feature_cols now that there are less of them.\n",
    "feature_cols = list(set(df.columns) - set(META_DATA_COLUMNS) - set(df[\"gesture\"].unique().tolist()))\n",
    "\n",
    "df"
   ]
  },
  {
   "cell_type": "markdown",
   "id": "05e480d3",
   "metadata": {},
   "source": [
    "### Split into folds"
   ]
  },
  {
   "cell_type": "code",
   "execution_count": null,
   "id": "4bae51e8",
   "metadata": {},
   "outputs": [],
   "source": [
    "def split_dataset(df:DF, by=\"subject\") -> tuple[DF, DF]:\n",
    "    unique_sequences = df[by].unique()\n",
    "    validation_sequences = pd.Series(unique_sequences).sample(\n",
    "        frac=VALIDATION_FRACTION, replace=False\n",
    "    )\n",
    "\n",
    "    validation_set = df[df[by].isin(validation_sequences)].copy()\n",
    "    train_set = df[~df[by].isin(validation_sequences)].copy()\n",
    "\n",
    "    return train_set, validation_set\n",
    "\n",
    "folds = list(map(split_dataset, repeat(df, N_FOLDS)))"
   ]
  },
  {
   "cell_type": "code",
   "execution_count": null,
   "id": "5f040eb8",
   "metadata": {},
   "outputs": [
    {
     "data": {
      "text/plain": [
       "(574945, 50)"
      ]
     },
     "metadata": {},
     "output_type": "display_data"
    },
    {
     "data": {
      "text/plain": [
       "(463941, 50)"
      ]
     },
     "metadata": {},
     "output_type": "display_data"
    },
    {
     "data": {
      "text/plain": [
       "(111004, 50)"
      ]
     },
     "metadata": {},
     "output_type": "display_data"
    }
   ],
   "source": [
    "display(df.shape)\n",
    "display(folds[0][0].shape)\n",
    "display(folds[0][1].shape)"
   ]
  },
  {
   "cell_type": "code",
   "execution_count": null,
   "id": "edb72a67",
   "metadata": {},
   "outputs": [
    {
     "name": "stdout",
     "output_type": "stream",
     "text": [
      "(463941, 50) (111004, 50)\n",
      "(466501, 50) (108444, 50)\n",
      "(462781, 50) (112164, 50)\n",
      "(463671, 50) (111274, 50)\n",
      "(462226, 50) (112719, 50)\n"
     ]
    }
   ],
   "source": [
    "for train_df, validation_df in folds:\n",
    "    print(train_df.shape, validation_df.shape)"
   ]
  },
  {
   "cell_type": "markdown",
   "id": "d81b9c0d",
   "metadata": {},
   "source": [
    "### Std norm\n",
    "Standard scale the feature cols (should probably do something different for IMU cols).  \n",
    "<!-- *Deprecated, std norm is now performed at dataset creation to avoid target leakage.*   -->"
   ]
  },
  {
   "cell_type": "code",
   "execution_count": null,
   "id": "c9d5755e",
   "metadata": {},
   "outputs": [
    {
     "data": {
      "text/plain": [
       "gravity_free_acc_z   -6.861285e-18\n",
       "rot_w                 3.430643e-18\n",
       "euler_x              -9.801836e-19\n",
       "tof_5                -2.940551e-18\n",
       "tof_2                -5.391010e-18\n",
       "gravity_free_acc_x    6.861285e-18\n",
       "acc_z                 9.801836e-18\n",
       "euler_z              -8.821652e-18\n",
       "thm_4                 4.900918e-18\n",
       "thm_2                 5.881101e-18\n",
       "thm_5                -1.960367e-18\n",
       "acc_x                -6.861285e-18\n",
       "thm_1                -3.920734e-18\n",
       "thm_3                 5.881101e-18\n",
       "gravity_free_acc_y   -3.920734e-18\n",
       "tof_1                -3.920734e-18\n",
       "euler_y               5.391010e-18\n",
       "rot_z                 5.881101e-18\n",
       "rot_y                 5.881101e-18\n",
       "acc_y                -9.311744e-18\n",
       "tof_4                 6.861285e-18\n",
       "rot_x                 4.410826e-18\n",
       "tof_3                 3.675688e-18\n",
       "dtype: float64"
      ]
     },
     "execution_count": 39,
     "metadata": {},
     "output_type": "execute_result"
    }
   ],
   "source": [
    "def std_norm_dataset(train:DF, val:DF) -> tuple[DF, DF]:\n",
    "    means = train[feature_cols].mean()\n",
    "    stds = train[feature_cols].std()\n",
    "    train.loc[:, feature_cols] = (train[feature_cols] - means) / stds\n",
    "    val.loc[:, feature_cols] = (val[feature_cols] - means) / stds\n",
    "    return train, val\n",
    "\n",
    "folds = list(starmap(std_norm_dataset, folds))"
   ]
  },
  {
   "cell_type": "markdown",
   "id": "b36ccf25",
   "metadata": {},
   "source": [
    "Normalize full dataset."
   ]
  },
  {
   "cell_type": "code",
   "execution_count": null,
   "id": "9b2c7cac",
   "metadata": {},
   "outputs": [
    {
     "name": "stderr",
     "output_type": "stream",
     "text": [
      "/tmp/ipykernel_8848/4279755229.py:6: FutureWarning: Setting an item of incompatible dtype is deprecated and will raise in a future error of pandas. Value '[-0.99715055 -0.95773732 -0.63026367 ... -1.08920292 -1.07042212\n",
      " -1.09237714]' has dtype incompatible with float32, please explicitly cast to a compatible dtype first.\n",
      "  df.loc[:, feature_cols] = (df[feature_cols] - full_dataset_meta_data[\"mean\"]) / full_dataset_meta_data['std']\n",
      "/tmp/ipykernel_8848/4279755229.py:6: FutureWarning: Setting an item of incompatible dtype is deprecated and will raise in a future error of pandas. Value '[ 0.40467845  0.43377058  0.49058256 ... -0.96320044 -1.007662\n",
      " -1.00162401]' has dtype incompatible with float32, please explicitly cast to a compatible dtype first.\n",
      "  df.loc[:, feature_cols] = (df[feature_cols] - full_dataset_meta_data[\"mean\"]) / full_dataset_meta_data['std']\n",
      "/tmp/ipykernel_8848/4279755229.py:6: FutureWarning: Setting an item of incompatible dtype is deprecated and will raise in a future error of pandas. Value '[ 0.14872681  0.19953096  0.37176939 ... -0.9259047  -0.894307\n",
      " -0.88129619]' has dtype incompatible with float32, please explicitly cast to a compatible dtype first.\n",
      "  df.loc[:, feature_cols] = (df[feature_cols] - full_dataset_meta_data[\"mean\"]) / full_dataset_meta_data['std']\n",
      "/tmp/ipykernel_8848/4279755229.py:6: FutureWarning: Setting an item of incompatible dtype is deprecated and will raise in a future error of pandas. Value '[ 0.62581574  0.58801223  0.96476591 ... -1.13877547 -1.41493335\n",
      " -1.50399587]' has dtype incompatible with float32, please explicitly cast to a compatible dtype first.\n",
      "  df.loc[:, feature_cols] = (df[feature_cols] - full_dataset_meta_data[\"mean\"]) / full_dataset_meta_data['std']\n",
      "/tmp/ipykernel_8848/4279755229.py:6: FutureWarning: Setting an item of incompatible dtype is deprecated and will raise in a future error of pandas. Value '[0.36724552 0.38668742 0.42327279 ... 0.84895603 0.86489636 0.87229757]' has dtype incompatible with float32, please explicitly cast to a compatible dtype first.\n",
      "  df.loc[:, feature_cols] = (df[feature_cols] - full_dataset_meta_data[\"mean\"]) / full_dataset_meta_data['std']\n",
      "/tmp/ipykernel_8848/4279755229.py:6: FutureWarning: Setting an item of incompatible dtype is deprecated and will raise in a future error of pandas. Value '[1.18477426 1.19708885 0.97652363 ... 0.30165955 0.38943235 0.37884916]' has dtype incompatible with float32, please explicitly cast to a compatible dtype first.\n",
      "  df.loc[:, feature_cols] = (df[feature_cols] - full_dataset_meta_data[\"mean\"]) / full_dataset_meta_data['std']\n",
      "/tmp/ipykernel_8848/4279755229.py:6: FutureWarning: Setting an item of incompatible dtype is deprecated and will raise in a future error of pandas. Value '[0.47793803 0.49229795 0.5108575  ... 0.61815265 0.56165606 0.56047498]' has dtype incompatible with float32, please explicitly cast to a compatible dtype first.\n",
      "  df.loc[:, feature_cols] = (df[feature_cols] - full_dataset_meta_data[\"mean\"]) / full_dataset_meta_data['std']\n",
      "/tmp/ipykernel_8848/4279755229.py:6: FutureWarning: Setting an item of incompatible dtype is deprecated and will raise in a future error of pandas. Value '[0.87240755 0.91835342 0.70619159 ... 0.24943555 0.40213801 0.45484063]' has dtype incompatible with float32, please explicitly cast to a compatible dtype first.\n",
      "  df.loc[:, feature_cols] = (df[feature_cols] - full_dataset_meta_data[\"mean\"]) / full_dataset_meta_data['std']\n",
      "/tmp/ipykernel_8848/4279755229.py:6: FutureWarning: Setting an item of incompatible dtype is deprecated and will raise in a future error of pandas. Value '[0.50231783 0.59310455 0.82146787 ... 0.62009948 0.69565178 0.67444004]' has dtype incompatible with float32, please explicitly cast to a compatible dtype first.\n",
      "  df.loc[:, feature_cols] = (df[feature_cols] - full_dataset_meta_data[\"mean\"]) / full_dataset_meta_data['std']\n",
      "/tmp/ipykernel_8848/4279755229.py:6: FutureWarning: Setting an item of incompatible dtype is deprecated and will raise in a future error of pandas. Value '[0.63344209 0.68143673 0.74140548 ... 0.29969805 0.33057229 0.31433888]' has dtype incompatible with float32, please explicitly cast to a compatible dtype first.\n",
      "  df.loc[:, feature_cols] = (df[feature_cols] - full_dataset_meta_data[\"mean\"]) / full_dataset_meta_data['std']\n",
      "/tmp/ipykernel_8848/4279755229.py:6: FutureWarning: Setting an item of incompatible dtype is deprecated and will raise in a future error of pandas. Value '[ 0.33957131  0.34994752  0.39886392 ... -1.03749939 -1.02712318\n",
      " -0.99451225]' has dtype incompatible with float32, please explicitly cast to a compatible dtype first.\n",
      "  df.loc[:, feature_cols] = (df[feature_cols] - full_dataset_meta_data[\"mean\"]) / full_dataset_meta_data['std']\n",
      "/tmp/ipykernel_8848/4279755229.py:6: FutureWarning: Setting an item of incompatible dtype is deprecated and will raise in a future error of pandas. Value '[-1.23853993 -1.2679199  -1.34974677 ...  0.0416742   0.01715042\n",
      "  0.03026214]' has dtype incompatible with float32, please explicitly cast to a compatible dtype first.\n",
      "  df.loc[:, feature_cols] = (df[feature_cols] - full_dataset_meta_data[\"mean\"]) / full_dataset_meta_data['std']\n",
      "/tmp/ipykernel_8848/4279755229.py:6: FutureWarning: Setting an item of incompatible dtype is deprecated and will raise in a future error of pandas. Value '[-0.7163434  -0.68184003 -0.54935162 ... -0.74193903 -0.72243223\n",
      " -0.72446184]' has dtype incompatible with float32, please explicitly cast to a compatible dtype first.\n",
      "  df.loc[:, feature_cols] = (df[feature_cols] - full_dataset_meta_data[\"mean\"]) / full_dataset_meta_data['std']\n",
      "/tmp/ipykernel_8848/4279755229.py:6: FutureWarning: Setting an item of incompatible dtype is deprecated and will raise in a future error of pandas. Value '[ 0.8841304   0.8841304   0.72331979 ... -0.31414283 -0.42967666\n",
      " -0.54442986]' has dtype incompatible with float32, please explicitly cast to a compatible dtype first.\n",
      "  df.loc[:, feature_cols] = (df[feature_cols] - full_dataset_meta_data[\"mean\"]) / full_dataset_meta_data['std']\n",
      "/tmp/ipykernel_8848/4279755229.py:6: FutureWarning: Setting an item of incompatible dtype is deprecated and will raise in a future error of pandas. Value '[-0.01677826  0.00259618  0.02630819 ... -1.00227249 -0.90048435\n",
      " -0.89527928]' has dtype incompatible with float32, please explicitly cast to a compatible dtype first.\n",
      "  df.loc[:, feature_cols] = (df[feature_cols] - full_dataset_meta_data[\"mean\"]) / full_dataset_meta_data['std']\n",
      "/tmp/ipykernel_8848/4279755229.py:6: FutureWarning: Setting an item of incompatible dtype is deprecated and will raise in a future error of pandas. Value '[-0.50852472 -0.4764371  -0.3341469  ... -1.60542168 -1.61081346\n",
      " -1.61396961]' has dtype incompatible with float32, please explicitly cast to a compatible dtype first.\n",
      "  df.loc[:, feature_cols] = (df[feature_cols] - full_dataset_meta_data[\"mean\"]) / full_dataset_meta_data['std']\n",
      "/tmp/ipykernel_8848/4279755229.py:6: FutureWarning: Setting an item of incompatible dtype is deprecated and will raise in a future error of pandas. Value '[-0.45493793 -0.33714769  0.02242254 ...  0.39941038  0.46789995\n",
      "  0.5316661 ]' has dtype incompatible with float32, please explicitly cast to a compatible dtype first.\n",
      "  df.loc[:, feature_cols] = (df[feature_cols] - full_dataset_meta_data[\"mean\"]) / full_dataset_meta_data['std']\n"
     ]
    }
   ],
   "source": [
    "# Retain full dataset meta data for inference\n",
    "full_dataset_meta_data = {\n",
    "    \"mean\": df[feature_cols].mean().to_dict(),\n",
    "    \"std\": df[feature_cols].std().to_dict(),\n",
    "}\n",
    "df.loc[:, feature_cols] = (df[feature_cols] - full_dataset_meta_data[\"mean\"]) / full_dataset_meta_data['std']"
   ]
  },
  {
   "cell_type": "markdown",
   "id": "7d8a04ce",
   "metadata": {},
   "source": [
    "Verify the mean and std of the full dataset."
   ]
  },
  {
   "cell_type": "code",
   "execution_count": null,
   "id": "b02ca859",
   "metadata": {},
   "outputs": [
    {
     "data": {
      "text/html": [
       "<div>\n",
       "<style scoped>\n",
       "    .dataframe tbody tr th:only-of-type {\n",
       "        vertical-align: middle;\n",
       "    }\n",
       "\n",
       "    .dataframe tbody tr th {\n",
       "        vertical-align: top;\n",
       "    }\n",
       "\n",
       "    .dataframe thead th {\n",
       "        text-align: right;\n",
       "    }\n",
       "</style>\n",
       "<table border=\"1\" class=\"dataframe\">\n",
       "  <thead>\n",
       "    <tr style=\"text-align: right;\">\n",
       "      <th></th>\n",
       "      <th>gravity_free_acc_z</th>\n",
       "      <th>rot_w</th>\n",
       "      <th>euler_x</th>\n",
       "      <th>tof_5</th>\n",
       "      <th>tof_2</th>\n",
       "      <th>gravity_free_acc_x</th>\n",
       "      <th>acc_z</th>\n",
       "      <th>euler_z</th>\n",
       "      <th>thm_4</th>\n",
       "      <th>thm_2</th>\n",
       "      <th>...</th>\n",
       "      <th>thm_3</th>\n",
       "      <th>gravity_free_acc_y</th>\n",
       "      <th>tof_1</th>\n",
       "      <th>euler_y</th>\n",
       "      <th>rot_z</th>\n",
       "      <th>rot_y</th>\n",
       "      <th>acc_y</th>\n",
       "      <th>tof_4</th>\n",
       "      <th>rot_x</th>\n",
       "      <th>tof_3</th>\n",
       "    </tr>\n",
       "  </thead>\n",
       "  <tbody>\n",
       "    <tr>\n",
       "      <th>mean</th>\n",
       "      <td>-2.372822e-18</td>\n",
       "      <td>-6.315844e-08</td>\n",
       "      <td>1.581881e-17</td>\n",
       "      <td>-5.993022e-08</td>\n",
       "      <td>1.687596e-08</td>\n",
       "      <td>2.293728e-17</td>\n",
       "      <td>-2.971537e-09</td>\n",
       "      <td>-4.982926e-17</td>\n",
       "      <td>-1.427808e-07</td>\n",
       "      <td>2.822679e-07</td>\n",
       "      <td>...</td>\n",
       "      <td>1.823665e-07</td>\n",
       "      <td>-8.858535e-17</td>\n",
       "      <td>1.908273e-07</td>\n",
       "      <td>1.581881e-18</td>\n",
       "      <td>1.855411e-08</td>\n",
       "      <td>-8.728876e-10</td>\n",
       "      <td>1.186949e-08</td>\n",
       "      <td>1.404808e-08</td>\n",
       "      <td>-2.663767e-08</td>\n",
       "      <td>2.663846e-09</td>\n",
       "    </tr>\n",
       "    <tr>\n",
       "      <th>std</th>\n",
       "      <td>1.000000e+00</td>\n",
       "      <td>1.000000e+00</td>\n",
       "      <td>1.000000e+00</td>\n",
       "      <td>1.000000e+00</td>\n",
       "      <td>1.000000e+00</td>\n",
       "      <td>1.000000e+00</td>\n",
       "      <td>1.000000e+00</td>\n",
       "      <td>1.000000e+00</td>\n",
       "      <td>1.000000e+00</td>\n",
       "      <td>1.000000e+00</td>\n",
       "      <td>...</td>\n",
       "      <td>1.000000e+00</td>\n",
       "      <td>1.000000e+00</td>\n",
       "      <td>1.000000e+00</td>\n",
       "      <td>1.000000e+00</td>\n",
       "      <td>1.000000e+00</td>\n",
       "      <td>1.000000e+00</td>\n",
       "      <td>1.000000e+00</td>\n",
       "      <td>1.000000e+00</td>\n",
       "      <td>1.000000e+00</td>\n",
       "      <td>1.000000e+00</td>\n",
       "    </tr>\n",
       "  </tbody>\n",
       "</table>\n",
       "<p>2 rows × 23 columns</p>\n",
       "</div>"
      ],
      "text/plain": [
       "      gravity_free_acc_z         rot_w       euler_x         tof_5  \\\n",
       "mean       -2.372822e-18 -6.315844e-08  1.581881e-17 -5.993022e-08   \n",
       "std         1.000000e+00  1.000000e+00  1.000000e+00  1.000000e+00   \n",
       "\n",
       "             tof_2  gravity_free_acc_x         acc_z       euler_z  \\\n",
       "mean  1.687596e-08        2.293728e-17 -2.971537e-09 -4.982926e-17   \n",
       "std   1.000000e+00        1.000000e+00  1.000000e+00  1.000000e+00   \n",
       "\n",
       "             thm_4         thm_2  ...         thm_3  gravity_free_acc_y  \\\n",
       "mean -1.427808e-07  2.822679e-07  ...  1.823665e-07       -8.858535e-17   \n",
       "std   1.000000e+00  1.000000e+00  ...  1.000000e+00        1.000000e+00   \n",
       "\n",
       "             tof_1       euler_y         rot_z         rot_y         acc_y  \\\n",
       "mean  1.908273e-07  1.581881e-18  1.855411e-08 -8.728876e-10  1.186949e-08   \n",
       "std   1.000000e+00  1.000000e+00  1.000000e+00  1.000000e+00  1.000000e+00   \n",
       "\n",
       "             tof_4         rot_x         tof_3  \n",
       "mean  1.404808e-08 -2.663767e-08  2.663846e-09  \n",
       "std   1.000000e+00  1.000000e+00  1.000000e+00  \n",
       "\n",
       "[2 rows x 23 columns]"
      ]
     },
     "execution_count": 14,
     "metadata": {},
     "output_type": "execute_result"
    }
   ],
   "source": [
    "df[feature_cols].agg([\"mean\", \"std\"])"
   ]
  },
  {
   "cell_type": "markdown",
   "id": "f840652f",
   "metadata": {},
   "source": [
    "Let's compare the train to validation mean/std skews."
   ]
  },
  {
   "cell_type": "code",
   "execution_count": null,
   "id": "b47c78f9",
   "metadata": {},
   "outputs": [
    {
     "data": {
      "text/plain": [
       "gravity_free_acc_z    0.010684\n",
       "rot_w                -0.078406\n",
       "euler_x               0.005358\n",
       "tof_5                -0.100770\n",
       "tof_2                -0.031076\n",
       "gravity_free_acc_x   -0.115861\n",
       "acc_z                 0.024784\n",
       "euler_z               0.026900\n",
       "thm_4                 0.119579\n",
       "thm_2                 0.035227\n",
       "thm_5                 0.011972\n",
       "acc_x                -0.112025\n",
       "thm_1                 0.109699\n",
       "thm_3                 0.166354\n",
       "gravity_free_acc_y    0.101992\n",
       "tof_1                -0.028424\n",
       "euler_y              -0.116298\n",
       "rot_z                -0.076639\n",
       "rot_y                -0.012926\n",
       "acc_y                 0.061950\n",
       "tof_4                -0.023269\n",
       "rot_x                 0.222167\n",
       "tof_3                -0.082658\n",
       "dtype: float64"
      ]
     },
     "execution_count": 35,
     "metadata": {},
     "output_type": "execute_result"
    }
   ],
   "source": [
    "folds[0][1][feature_cols].mean() #.agg([\"mean\", \"std\"]),\n"
   ]
  },
  {
   "cell_type": "code",
   "execution_count": null,
   "id": "9ce0ae47",
   "metadata": {},
   "outputs": [
    {
     "data": {
      "text/html": [
       "<div>\n",
       "<style scoped>\n",
       "    .dataframe tbody tr th:only-of-type {\n",
       "        vertical-align: middle;\n",
       "    }\n",
       "\n",
       "    .dataframe tbody tr th {\n",
       "        vertical-align: top;\n",
       "    }\n",
       "\n",
       "    .dataframe thead th {\n",
       "        text-align: right;\n",
       "    }\n",
       "</style>\n",
       "<table border=\"1\" class=\"dataframe\">\n",
       "  <thead>\n",
       "    <tr style=\"text-align: right;\">\n",
       "      <th></th>\n",
       "      <th></th>\n",
       "      <th>gravity_free_acc_z</th>\n",
       "      <th>rot_w</th>\n",
       "      <th>euler_x</th>\n",
       "      <th>tof_5</th>\n",
       "      <th>tof_2</th>\n",
       "      <th>gravity_free_acc_x</th>\n",
       "      <th>acc_z</th>\n",
       "      <th>euler_z</th>\n",
       "      <th>thm_4</th>\n",
       "      <th>thm_2</th>\n",
       "      <th>...</th>\n",
       "      <th>thm_3</th>\n",
       "      <th>gravity_free_acc_y</th>\n",
       "      <th>tof_1</th>\n",
       "      <th>euler_y</th>\n",
       "      <th>rot_z</th>\n",
       "      <th>rot_y</th>\n",
       "      <th>acc_y</th>\n",
       "      <th>tof_4</th>\n",
       "      <th>rot_x</th>\n",
       "      <th>tof_3</th>\n",
       "    </tr>\n",
       "  </thead>\n",
       "  <tbody>\n",
       "    <tr>\n",
       "      <th rowspan=\"2\" valign=\"top\">train</th>\n",
       "      <th>mean</th>\n",
       "      <td>-6.861285e-18</td>\n",
       "      <td>3.430643e-18</td>\n",
       "      <td>-9.801836e-19</td>\n",
       "      <td>-2.940551e-18</td>\n",
       "      <td>-5.391010e-18</td>\n",
       "      <td>6.861285e-18</td>\n",
       "      <td>9.801836e-18</td>\n",
       "      <td>-8.821652e-18</td>\n",
       "      <td>4.900918e-18</td>\n",
       "      <td>5.881101e-18</td>\n",
       "      <td>...</td>\n",
       "      <td>5.881101e-18</td>\n",
       "      <td>-3.920734e-18</td>\n",
       "      <td>-3.920734e-18</td>\n",
       "      <td>5.391010e-18</td>\n",
       "      <td>5.881101e-18</td>\n",
       "      <td>5.881101e-18</td>\n",
       "      <td>-9.311744e-18</td>\n",
       "      <td>6.861285e-18</td>\n",
       "      <td>4.410826e-18</td>\n",
       "      <td>3.675688e-18</td>\n",
       "    </tr>\n",
       "    <tr>\n",
       "      <th>std</th>\n",
       "      <td>1.000000e+00</td>\n",
       "      <td>1.000000e+00</td>\n",
       "      <td>1.000000e+00</td>\n",
       "      <td>1.000000e+00</td>\n",
       "      <td>1.000000e+00</td>\n",
       "      <td>1.000000e+00</td>\n",
       "      <td>1.000000e+00</td>\n",
       "      <td>1.000000e+00</td>\n",
       "      <td>1.000000e+00</td>\n",
       "      <td>1.000000e+00</td>\n",
       "      <td>...</td>\n",
       "      <td>1.000000e+00</td>\n",
       "      <td>1.000000e+00</td>\n",
       "      <td>1.000000e+00</td>\n",
       "      <td>1.000000e+00</td>\n",
       "      <td>1.000000e+00</td>\n",
       "      <td>1.000000e+00</td>\n",
       "      <td>1.000000e+00</td>\n",
       "      <td>1.000000e+00</td>\n",
       "      <td>1.000000e+00</td>\n",
       "      <td>1.000000e+00</td>\n",
       "    </tr>\n",
       "    <tr>\n",
       "      <th rowspan=\"2\" valign=\"top\">validation</th>\n",
       "      <th>mean</th>\n",
       "      <td>1.068352e-02</td>\n",
       "      <td>-7.840577e-02</td>\n",
       "      <td>5.358021e-03</td>\n",
       "      <td>-1.007702e-01</td>\n",
       "      <td>-3.107589e-02</td>\n",
       "      <td>-1.158611e-01</td>\n",
       "      <td>2.478402e-02</td>\n",
       "      <td>2.689956e-02</td>\n",
       "      <td>1.195792e-01</td>\n",
       "      <td>3.522733e-02</td>\n",
       "      <td>...</td>\n",
       "      <td>1.663541e-01</td>\n",
       "      <td>1.019922e-01</td>\n",
       "      <td>-2.842408e-02</td>\n",
       "      <td>-1.162984e-01</td>\n",
       "      <td>-7.663910e-02</td>\n",
       "      <td>-1.292626e-02</td>\n",
       "      <td>6.194959e-02</td>\n",
       "      <td>-2.326864e-02</td>\n",
       "      <td>2.221670e-01</td>\n",
       "      <td>-8.265772e-02</td>\n",
       "    </tr>\n",
       "    <tr>\n",
       "      <th>std</th>\n",
       "      <td>9.509305e-01</td>\n",
       "      <td>9.704027e-01</td>\n",
       "      <td>1.007000e+00</td>\n",
       "      <td>1.023462e+00</td>\n",
       "      <td>1.009105e+00</td>\n",
       "      <td>9.915675e-01</td>\n",
       "      <td>1.030467e+00</td>\n",
       "      <td>9.750295e-01</td>\n",
       "      <td>5.753183e-01</td>\n",
       "      <td>9.938025e-01</td>\n",
       "      <td>...</td>\n",
       "      <td>4.822490e-01</td>\n",
       "      <td>1.030047e+00</td>\n",
       "      <td>9.940576e-01</td>\n",
       "      <td>9.731178e-01</td>\n",
       "      <td>1.028713e+00</td>\n",
       "      <td>9.530785e-01</td>\n",
       "      <td>9.909236e-01</td>\n",
       "      <td>9.848455e-01</td>\n",
       "      <td>1.071349e+00</td>\n",
       "      <td>9.982566e-01</td>\n",
       "    </tr>\n",
       "  </tbody>\n",
       "</table>\n",
       "<p>4 rows × 23 columns</p>\n",
       "</div>"
      ],
      "text/plain": [
       "                 gravity_free_acc_z         rot_w       euler_x         tof_5  \\\n",
       "train      mean       -6.861285e-18  3.430643e-18 -9.801836e-19 -2.940551e-18   \n",
       "           std         1.000000e+00  1.000000e+00  1.000000e+00  1.000000e+00   \n",
       "validation mean        1.068352e-02 -7.840577e-02  5.358021e-03 -1.007702e-01   \n",
       "           std         9.509305e-01  9.704027e-01  1.007000e+00  1.023462e+00   \n",
       "\n",
       "                        tof_2  gravity_free_acc_x         acc_z       euler_z  \\\n",
       "train      mean -5.391010e-18        6.861285e-18  9.801836e-18 -8.821652e-18   \n",
       "           std   1.000000e+00        1.000000e+00  1.000000e+00  1.000000e+00   \n",
       "validation mean -3.107589e-02       -1.158611e-01  2.478402e-02  2.689956e-02   \n",
       "           std   1.009105e+00        9.915675e-01  1.030467e+00  9.750295e-01   \n",
       "\n",
       "                        thm_4         thm_2  ...         thm_3  \\\n",
       "train      mean  4.900918e-18  5.881101e-18  ...  5.881101e-18   \n",
       "           std   1.000000e+00  1.000000e+00  ...  1.000000e+00   \n",
       "validation mean  1.195792e-01  3.522733e-02  ...  1.663541e-01   \n",
       "           std   5.753183e-01  9.938025e-01  ...  4.822490e-01   \n",
       "\n",
       "                 gravity_free_acc_y         tof_1       euler_y         rot_z  \\\n",
       "train      mean       -3.920734e-18 -3.920734e-18  5.391010e-18  5.881101e-18   \n",
       "           std         1.000000e+00  1.000000e+00  1.000000e+00  1.000000e+00   \n",
       "validation mean        1.019922e-01 -2.842408e-02 -1.162984e-01 -7.663910e-02   \n",
       "           std         1.030047e+00  9.940576e-01  9.731178e-01  1.028713e+00   \n",
       "\n",
       "                        rot_y         acc_y         tof_4         rot_x  \\\n",
       "train      mean  5.881101e-18 -9.311744e-18  6.861285e-18  4.410826e-18   \n",
       "           std   1.000000e+00  1.000000e+00  1.000000e+00  1.000000e+00   \n",
       "validation mean -1.292626e-02  6.194959e-02 -2.326864e-02  2.221670e-01   \n",
       "           std   9.530785e-01  9.909236e-01  9.848455e-01  1.071349e+00   \n",
       "\n",
       "                        tof_3  \n",
       "train      mean  3.675688e-18  \n",
       "           std   1.000000e+00  \n",
       "validation mean -8.265772e-02  \n",
       "           std   9.982566e-01  \n",
       "\n",
       "[4 rows x 23 columns]"
      ]
     },
     "execution_count": 40,
     "metadata": {},
     "output_type": "execute_result"
    }
   ],
   "source": [
    "pd.concat({\n",
    "    \"train\": folds[0][0][feature_cols].agg([\"mean\", \"std\"]),\n",
    "    \"validation\": folds[0][1][feature_cols].agg([\"mean\", \"std\"]),\n",
    "})"
   ]
  },
  {
   "cell_type": "markdown",
   "id": "9bc09714",
   "metadata": {},
   "source": [
    "### Normalize sequences lengths.  \n",
    "And turn the Dataframes into ndarrays."
   ]
  },
  {
   "cell_type": "markdown",
   "id": "76699499",
   "metadata": {},
   "source": [
    "#### Visualize histogram of sequences lengths."
   ]
  },
  {
   "cell_type": "markdown",
   "id": "b3477111",
   "metadata": {},
   "source": [
    "Entire dataset sequences lengths."
   ]
  },
  {
   "cell_type": "code",
   "execution_count": null,
   "id": "876907d8",
   "metadata": {},
   "outputs": [
    {
     "data": {
      "application/vnd.plotly.v1+json": {
       "config": {
        "plotlyServerURL": "https://plot.ly"
       },
       "data": [
        {
         "bingroup": "x",
         "hovertemplate": "variable=0<br>value=%{x}<br>count=%{y}<extra></extra>",
         "legendgroup": "0",
         "marker": {
          "color": "#636efa",
          "pattern": {
           "shape": ""
          }
         },
         "name": "0",
         "orientation": "v",
         "showlegend": true,
         "type": "histogram",
         "x": {
          "bdata": "OQBEADUAPQA2AJ8AOAAoAE4AMgA2AFgAQwA9ADYANwBRAFcASQBQAC4AUQDqAC0AoQBJAD0AVgAyAE0ANQBNADYANwA3AC0AMgBBADkAqQBTAD0AbABrADUAXAA0ADQAqQA9AF4AQwBBAC0AOwBgADYANQAvAGsAMwAyADEAOAA6AFQAMQBDAFEAOwA2AFUAMQAwAH0AOwA2ADgAVgAxAEsARgBeAE8ALgA3AIQANQBIAC0AMQBBADoAOAA2AGcALAA3ADYAWAA1ADIAeQBMAFQAUQA2AEIAMAAvAD0APgAwACoAVwBBADAAQgA3AGIALwAxADAASwA3AFMANwA4ADEAOwAwAEMALgBFAGYASQAvAGwAMAA1AD0ANwA+ADEAXAA0AC8ANwA0AEUARABQADoAOQA6ADEANQB1ADwAQAA1ACwALgAxAD8AYwA4AC8ANQA2ACsANQB9AEEAPAAzADQANwBEAC8ASwA7AC8ASQAuADcAOgBKADMAOAA5ADwAOAA7ADMAOQA6ADgANABjADkAUgAwADIAQgBZADIALQA1ADgAXwAsADUALwAvADoANwA0AEcAtABAADUAYAA2AFgAMQAzAEUANwAvADgAWgBmAJsAMwBRAFwAYAA0ADcANgA8AFwAUAA8AFgARgAwADYAQgAvADEARQBIADIANABLADMANgBZADAAMgBbAGIAOgBLAEgAOwAyAEgAPABLADUARAAxAEIALwAzAGIARgAzAC4ANABEAFoAOwBcADEAKwA8AEsASQBhADAAMgAzAFEAQABZAG4AdQBYADQANABCADkAkQAwADcAQgCOAUYANwA0ADIA1QCXAHUAfwCCAEUAOgAxAEcAOgA5AHsARAA0AF4AjQAvAFoAOABHAEIAPgA6AC8AYAA0ADEAWAAtAEsAPABPADUANgA/AJAALQAuADEANACSADUANwA4ADoANQAwADgARABVADAAOwBIAFAASQA3AF4APwB8ACwANgBAADgANgAxADwAPwBCAVEALQAxADoAOwBKADsANQA4ADQANgAyAEYAcAA5ADEANgBGAHQAUACTAC8AXwA+ADsAWwBXAEIANgAzAEAARwBVAIgANABHAFwAPwBsADEAfQBaADkATwA/AGUAXgCIAGQANQA0ADsAmgBPAFgAugA2AC4AzgA6ADcALwA2ADAAOAA3ADIANQAxAC0AMAAvAEIAMQBTAGUANwA1AF4APgA0AC0AMwBbAFMALQCuAFQANwA0ADwAOQA/AD4ASgA5AFwATQCLADMAOwAxADUAOwA/ADEANwAzADAALAA0AE4ANAAzAM0AYAA2AE0ANQDXAE0ANwA9AFQATABzADQAZQA4AFQAPQA/AD8ANAAvAC4ARAAyAFEAMwAxADcATACHAEEAQQA8ACwANgA9ADYAMgAuADgAMABCADgAUQAyADYALgAvADMAfQBPADUAlgAyAD0AcgBXAIUBOQA1AAcBMgAxAEAANQBLAC8AQAB/AFAAYgBBAFgAYQBcAFAAMQD4AGEANwBTAEQAOAD8AGoANwBlAEoAOgCeADEAcQA8ADQANAAwADgAVABAAEAAMgA/ADMAVAA0AC8AMQA4ADYAuwA3ADIAXQBYADEAMwA3AF0AKgA0ADIASgA9AIoAMwBQADQALwBjAFMAOAA1AGgAWQAvAHEAOQA8ADQAQAB1AIkALACRADQANgBRAFMAlgA+ADMAXAAuADAANAAuADQAaABKAEUARAA9AHAALQAzAHcAYwAwADMBOwA7AEMAMAA2AGcAPQBLAD8AVwAzAD4AQgBQAEgAMwAAASsAOAAyADUAMgArADYAUQA1AEUAMABSADQAMAA6ADgAcwA1AGcAaQBHADQAQQA5ADEAOQBTAF0AMgA/AC8AVwBOADMAYABDADoAMgBLADMANwAyAEkANQAwAGkANgA9ADIAfQAuATAARwA3AHQAXwBYAEQANAAwADAAWQAzAD8AdAA2AEkASwA0ADQAQgAzADsAOgCjAGgAMwAzAD0ANgBMADwASAAvADYANwA8AL8AQgA4ADcALwCZAD0ANgA3AGMAVwBaAGgATwA0AEsAMwA/ADAAMAA8ADwAOQBOAG0AQQBJAFwAZgBMACsAZgBTAD0APgAvADYAVgBqAEAAVwA6ADwAPAA2AEYAYAAxADIALwAwADcAPAA0AHUALgAtAKAAMQA3AE4ANAA9ADQAVwAxAD4APAAsADQALwBDADIAPwAsAEAAogBgADsAPABpAHAANAA9AC8AOwA2AGYAPwA5ADEASgA5AEIARAA1AEgAMwAyADYALgAtADYALgBjADgANQBuADsAOwA1ADkAPQBFADEALQA9AFsASAAwADYAPwB0ADwARwA2AHMAtAAtAMkAMgA9ADcAVwBiADQAQABNAGEARgA4AEYAOgAuADcARABYAFwANAAyAEYARABuADIAJQFEAEoAOQBWAGYANAA9AEUAPgAuAC8AOQA4AD4AbQA0AC8ANgAtAE0APABKADoALwA3ADQANQBbADgAbwAyADgAOgA9AGYAXwA6AEYAMgAzAD4AOQBWAFsANQAvADkAPAAuAF8ALABBAF4ANwBTAD0AawBZAFkAPwA9ADAAbACGAC4APABiAEYAVQAxAC4AOABQAHMAiQE5AEYAVAAzAF0ARQA2ADYANAA1ADQARgBQAIUAOgA5ADAAqwBgAI4ATgBAAEEALwA2AC8AMwBvAEAANgA3AHkAoABEAFAATAAxAIYAMwAuADwAaAAxADoAMwAvAFsAXwAtAGwAMAA/ACsAOABIAHwAgwBaAFcAXgBrADMAWwBGAE4AWAA4ADgARgAqAEUALQBUADMANgAzADAANgA5ADYATwBHAP8ALAB4AC8AUgA8AKAASwA8AEgANQBQAPEAQgA0ADQAOwAsADQAOACeAIQALQBSACsAWABzAIMAPgA1AFkANAA+ADkAOQA7ADMAOAA3ADEALwAtADAANABEAC0AMwBIADUALwBMAF8AQAA1ADcAMQAzADEAYgBdAFQAUwArAOUAMQA4AEgAhwAdADMASwBdADgAXwA/ADMAMAA+AC4ANQBdAFEAMgA2ADIAiAA+AC8AOQAzADkANgAxADUATABEAC8AZQAyADcAMgBAADIAMgBhAD0ANwA2AC0AXgBYAGEAWwA1ADgAaQByACsAMwA/ADYAMQCIADwAMwBUAEoAMgBGADQAPgBVAEQAZQBoAD0AVQAzADIAOgBKAF8ARQBlAGsAOABhADIAOQA5ADYASQAxADQATAA3AEEAOQCIAEcANABeAC8ATwBgAFgAMgA1ADYARgAyADoANQAyADcAMgBmAEMAWQBbADQAMgA2AEcARgA4AFIAMQAuAD4AOgA6ADsAKwAyAC8ANgA6AEUASAA4AE4AOABGAFAANAAwADAATAA1ADgA7QBFADEA8wBJAEEAPAA7AF0AmgA1AEoALwBFAEkANQA4ADUAMACaADkANQBNAEQAwQA/AEEAMgAwADEANAA3AEYARgA2ADQAPABYAFQAOQBKADAAKgAvADkAOABNAEQAUAA/AD4ALwAxADkALwBaAD8ANABJADYAKgBnADcAUQAzAD0ANgBbADQAPQAwAC4ANgBgADIAMAA0AEwAQAAwADMAiwAyADYAMQAvADcASgA5AEQASgA6ADUASwAzAGIAvgBgAEwAXgA0AEAAbgAxAHAASgBnAMAAXQA9ADcAQQAtACIAcAA2AEUAMwBBADwANACFALoAMwA/AE4ASgA9AEYAOAAzAPUAWwAzADMAOAA/ADEAegAwAD4ASQBJADcAVwAwAEIAPABKAFEAQAAxAD4AaQA4AC8AMwBAADkAkgBRAEgASgAzAHUAKwAwAFQAdgAxACMAMwA5AGQAMwA7ADYAWAAxACwAMAAzADwALwAzADMANAA8AC0ALwAwACsAQwBEADMALgBNADAAVACAADsAMQCMAG8AMgA3AC4AywA0ADEAbQA1ADAAOABNADsAMABBAEQAMwAtADUAMAAxAD4AOgB4AKsAWQAxADMAQAAyAFoAMgBAAFgAMgBOADIA7QA7AEUANQA3AEoANAAzADoAeQBUAF4APgBFADYAFwFUADIANABaADQALABWADIAUwBOAEsANwAvAC8AbgBEADAAQgA5AC8ATwA0AC8AdAAyAEAAXgBYAEMAawBhAD4AYQAzAFwANwBAADIAOgBSAFkAOAAxADsAQgBRADEAWwA9AEEAZwBEAFQAMgAvADgAUgA4AEAATwAvACsANQAyAG0AZgAzAC4ALgAyAFgAPwBxADEAOwBhADgAMwBXAG0ALwBaAEAANwAzADgALwBaAEsAbgAyADIAPgAzADgAMQBAAFsASwAzAE0ASAAvAIIAVwA2AEUAMwA5ACwAfABqADsAOABMAC8AWgA0AEUAWgA4ADUASgAqAC8AVwA0AEAALQA6AGwAXQA9AHIAQACjAEYAQwCAADUAOgAvADoAKAAzADMAQwBJAD0ASAA/AEYAUQBjAC8AcAA0AH0ANQCTANYANAA3AF4ANQBIADcAMgAyADcAMQAyADQAVQBDAHQAagAwAGQArQE2AE0AMAA7AEkAOQBfADEAYwAsADIAewBdADwARQA9ADAALgA9ADkAOQA9ADAARgBRADAAMQCfAj4APgA5ADwALwA1ADIAQAAyADsAWABMAD4AOwA/ADcAOgBnADoAcQAkAC8ANgCHADQAYwBoADYAQAAyADgAVQB1AGoAMwAtAFAAWwA9AGsAVgA0AKoAZgA1AC0AQABXADIAOABTADEALwB8AD4ALwBPAEQAlwBIADEATwA/ADkAVAAwADoAMgA1AFoALwAvAC8AVQBlADIASAA/AE4AQgA7ADoAMQA5AC0AMwBcADEAOAAvADoANwA1AHYAMgA5ADQAOgA/ADgAMwA8ADMAYwA7AEgAOgA2AGQANQBcAGQAdQA5ACkAUgA0ACsATgA9ACgAUQBtACsALgC8AmQAYAAxADYANQBIAFoAPQBwADoAdwAyADQAPwBSACUAtwBCAEIAWQAxADkAQAAsAEkANQA4AC0AOABRACoAMgAyADYAKwBdAEcAMgBnADcANQBGADAAWQAwADAAOwA8ADYAUwAzADYARwBFAEcAOQA5ACkASgBEAD4ALgA5ADkALwAvAMwAXQBMADUANgA0ADsAaQBUAGcAaAA0AC0AVAA2ADIALgBEAC4AYwBqAFIAOAAwADUANQAwAE4AjgAyAC8AMwA9ADcCUgA6AHoATQAxADAAZQA2ADcASwBaADMAUgAxADIATAA4AEMAOgAxADcAUQAxAK4AMQAxAEEAPwA4ADEANwBAADAAPwBgAD0AaAAyADEAMQAzAFcATwAsAEEASAA1AEEAowBpAEMALQBXADYALwAyAEEAhgAzADEANwA4ADkASwA0AJwASgAwADgALQCQADMAMgAqAF0AMgA1ADwAMwAyADEAOAA+AEUAQgBEAFEAOQAwAFsAMgAvAEUAOABDAJAAXQBEAGAAZwA4AC0AYgBMAEEAOAAyAFEAMwBkADQANgBEAEQAQwBTADMANQA7AE4ANQA0AHkAOAAzADkAbQA1ADkANQA1ADEARQA0AE0AOAAzAIMAVgA/AF0ANQA0ADQATQBDADIANwCmAE8APgAxADUANABcAFkAOQAtADUAQQBfAC8AXgArADQANAAuADsALwA+AFcAbwAyACMAOQBIAD0AMgBXACsAPAAzADwANADvADgAPwBHAEEAxwA1ADEAXwA9AGIAbwBfADAAUAA5ADAAeQA0AEIAvwBmADwAPwBPAC4AMAA4AC8AOgBDADEAMQBiAEQASwBCAE4APwBYAD8ASQAxADQARgA2AEUAOwBBAF8AOQBDADMAQAA0ADoASQA5ADYAMwA9ADsAMgBYAGkAWAA8ADEALwAvADwAmQCEADQAVAAtAEsAQQA+ADQANAA0AC0ALwBLAGAASACaADYANAAwADIAMgAyACwALwA4AFwAVABpAGwATwAwAFUAVABCAFsAaAAzAEcAOQAwADUAVwAzAD0AMwBmAGYAMwC1AGIAPwAwACsAQABmADQANQAuADoAWQAzAOYAUgBAADMANAAtADEAKgBnADUAQQA2ADEAdAA1AD4ATgA+AFYAQAAxADwAZQA0AFAAdgBEADgAMQAxADIAVgBFADoAMABhAC0AWAA9ADQAVgBSADIAVQBBADgANwBCADsAMwBcADEAXgBIADIAKwCFADMAQwA2ADkALgAwADUAMgA5ADsAVAAtADYAMAA1ADIAOwA2AEMAOAAzADEANgArAC8AQwA0ACoASQBtADYARQA2ADcASABrADkAMQA5AIsAMABXADUAPQA3AHAALwB3ADcARgAyAC8AbwA1AEYAOQBhAD8AMQBeADkAYwBFAE8ANQBZAD8AMgA4ADgAMwBKADQAeQAyAEEARwBGAEEAPgBbADYAPwBRADQAQgA0AF0ARgBDAEUAVwAsAGUANwA+AFkAPgA0ADcAMgBZADMAOQAzADsAXgAzADEAMgBCAEgAQwBHADEAMwBEADEAXAAyAD4ASABDADgAMwB5ADoAOQA2ADAANgB8ALsAOgAvAJQAUQA3AEcAPABAADQARAA6AEsALgBjAJMAmwA4AFwAMgAxAE4AUwA3AFQANgAyADoAUwA3AGoAMQA/AD8APQAvAEEA1QBkAE4AQwA9AC8ALgBdADMASQA/ADUATgA0ADEAMgA1ADQAMgA5AIkAlgA3AGwANAA1ADAAOgA7AFMAMgA3AMAAYgA3ACsAOQCHAC8ASQA0ADUANAA4AFMAMgBFAG0AMQBZAEEAOwA5ADIAOABGAGUAMAAyADgAMAA2ADYANgBIADsASAAzADsAXgA1ADIAYwAwAEEALQA7AEgAdAA1AC8AXwBfADUANwB0AC8ANQA1ADgALgCdAGoANgA2ADMAMAA7ADUAOQA7AFMALgAuADQAMwAzADUAMwA1AEAAVwAuADIATQBOADYAaAEyAC8ANAA2ADYAOwAtAGoANQBHADABLwAvAFIARAC9AEcANQAuADIAVwA6ADMAWwAsADQAbQA7AD0AMwA/AFMAYABGAEQALwAzAEAAZABnADgANAAwAEwALgBAADsANQBpADIAMwA0AC4AaQA9ADQAWQA7AEAAOAA0ADAARQBEACkAWgA5ADwAOwAyAEQANgBVAEYALwA2ADMASQAwADQAOwA1ADwANgDIADIAOwA0ADQASABKADMA7gBBAFMAYgA/APcA0ACyADUAUAAsAEEARgA2AF0AMwA3AHYAYwA0AEAAOwA3ADQAOgCcADMAOgAxADsAWQBKAEwAZgA1AGMATABNADEANwBGAFUAPAAxAEIAOAB/ADUANQBnAC4AUAAyADEAXgBRADkARgAvAGEAPgA4ADUAMgBQAC8ANQAvADgANABUADkANABAAD8AQQA6AFsAZAA2ADIAOgChADoAOAAtAFIAMAA/ADYALwAwAFcAMwAiADoAWQBgADoAPgBEAD8ARwBPAFUAPAA6ADMAMwB6AGUAcAA2AE0AUQBgAFEANAAyADgANwA0AC0ATQA1ADgARAA4AEUAMwA1AEYAPQBDADYAXgAyAFMALQA8AGQATAFVADsAMwBsAE4ALAA2ADMAMQAwAGQARgAwAC8AYQBYAHIAPQAtAEsANQBdAHMANgAvADMAOABEAE4ANABoAC0ASQAzADsALwAzAD8ANgBFADcAKgAvAK0AMQA0ADgAMQAzADQAKQAyADcAMwA4AFkAswBuAGgAUAA9AEUAPQBBADQAbwA4AEEATgA8AGcAMAA1ADcAOAAyAJAARQA4ADAASQA+AIsALwBYADMAQwA1AEAARQAzAFIAVgBhADMALQA4AD8AMAAwADAAOwBcADQAOwBZADUAOABAADwAhgBEAEIAUwBRADEAiwA+AEgAbABCADcAQwBLAEIALgAyADUAUABpAFIAOABDADYAUAA7ADwAWgBWADQAOAA0AGAARQBEAFkARQA8AD0ARwC/AJkALwBiADkATAA2ADoAVgBVADwAYgA0AEgAbwA9AFEAaABJADkANwBNAEYAMAAxADsAMwAwAEkAiwBYAEgASAA9AD0ATAA3ADIAPAA3AD8ANAAxADkASgA6AFUAQQA1ADcAXgBuAEQATwA2AC8ANwAzADYAMQAwAD8ANQBNAEQATABYAGoATgAuAEUAWgA1AD0AVQAxADgANgAyACgAOQAxAEQAOgAsADIAPwBKAD4APQA0ADUAOgC5AEcAJwBIAGcAMwAwADIAMgBDAFoANwCtADoAOQA5ADEATAA4ADAAOgBTAEMARgBcAC0AQAAwADUANwCBAC8AMQAyADEANgAxAFYAOQBOAEAAVwA2AEoAMABCAEMAOAAzAC4ANABKADoASAA7AEMAOQAvADgASgAwAFkANABPADkAWABEADcAWAA1ADcAQgAzADAAZABqADcATgA4AC0ANgArAC8AUQCFAHwAMgAyAEYALQA+AC4AMwA6ADMALQA4ADMAbQA2ADYALwBlAD4AMgA1ADMAOgAxADwARQA/AFwANQA0AFMANABEADEAXAAvADwAXAAwADwAYgCmADIAQwA1ACsAVgBHAEcAMAA7AF4ANQAyADoAOgBCANwAVwAvAEAAOABNAI8AUQAyAC8AQgA9AC4AOQBsALIAYgA2AFEALgA1AFIAgQA5AEQALgBZADYAMgAyAD0AMAA3AE8ASABrADgASwBAAEsAPQAwAE4ASgA3ADwAVwAwAD0AOgBLAD4AQgBWAD0AOgA6AGgAMQA3ADQAPQBAAEgAVQAxADYAPAAtADIANgBLADsAPwA4AC4ANAAxADUAbQBDAD8ANABmAHAAMABIAE0AYQA6ADsAMQA4ADIALAA/ADMARgA1AEoAPwALATAAMgA1AEUANAAyAFAAMgAvADAAbABnADIANQA1AFwANABDAIUANgAxADQAVACzAEgANQA9AGwANgCPAD4ASwAyAEcANwAxAJQAWgA+AFIALQA5AEAAUABUADMALgAzAEEAMgBkAEYANAA4AGYAMABDAC8AMwBAAEcAdQAyAEUATgA3ADQAPQA4AD8ALQAuADYANwBNADoAOgAsAEwAPAA1AFMAVwBWADIAQAA3AC0AgwBHADIAPwBLADcALAA2ADgARwBTADEAMwBPAC4AOgAxAEMANwA6AEoARgAyAD4AJwAxAI8AMwBGADYAPAAxAF4AagA1ADYASQAwAGIALgA7ADUAMABIAIgAMQA0ADQAOAA0AEIAMwA/AC0ANgBaAC4APQBtADkAawBoAFUANwAxAFkAXgCHAjcAOgBFAEcARgAvAC0AVAA4ADUASgBDADcAXwA/ADUAMgBSAEQANAAwADcAXQA6ADEARQAwADgAewA7AEgAWQBGAEAAVwBWADAALwBLADEALgBJAGcARABLADwARQAsADMAOQAxADwAPAA1ADgANABaADEAOgAyADoAWgA4ADAAXABCAD8AlAAyADEAOgA/AIYAOQBGADsAMQA+AGMALAAzADsAjAAuAHUANAA1AGEAQQA3ADgAMwA7ADEAgwBGADUANQBqAGsANwAwAEUAUgA9AJIAMwBSADgAKgBXADYAcgA2ADQAWgBMADgANwCCALkANwAvADMAcAA5ADYAXwA0AJMAOAAwAD4AMwBmADsANQAwAFgAMQA/AHMAOAAtADYANwBDADMAOQA7ADkAMwBBAG8AaQAvAHMAMgAvADcAsAA2ADgAOgA2AHAALABZACwASwBJAF8AMQAyAEcAUAAwAD8AOwA0ADUAOQA9AGAAPQA4ADgARwAuAGAAPgAzADYAMgA3AD4A1gCUADIALgBlADYANwA8AC0ALgBQAEgAMwBPADcAMQAuAEMAYQBKAC8ARwBDAFIALQA2AE8ANAAzAEgAPgBEAGAAOQA1AEgAdQA9ADkAXwBBADUANAAuAEEAMQAxADkAWQA8ADcANAA4AG0AOQBHAC0ANgArAFkAOABBAFIAPQBjAEcAOwA+AD4AQAA1ADgAQwA0ADoAMgBJAD8AVwCaADAAbwA6AC8AWQAxADsAdwA8ADIAWgC0ADMANgA2ADgAQAAvAD4ANAAzAEkANwBCADIAYwA9AFYAMwC7AGIAZwA0AC8AMwAxADkAOABqAHwAgwA3ACkATAAuADYASQBbADUANgAwAEoAQAA5AEAALwBFAC8AMgA0AC0AMQAuACwAOQBVAFsAWwA7AEgAOABPAEYANAB7AGUAMwAyADcAcwA5AEgANwBbAEUASAAyAFkAngBOAD8AMgBLAIoAQQA8AF0ASwBNAH0ALgA8AGUASQA+AEMANQA1AC8AOAA0AIcAXgBEADYAYABBADEANwBXAEEARAC3ADYAVQBaAEIAMwBEADsAMwA3ADAALgB8AEIANABTAIgAUQBUAEEAMgA1AEkAMgA1AKoAVQAzADkAZgB5AD8AfQBvAJcAOgAzACsASADXAFcANABAAGIARgBVADIALQA5ADYAaAAwAEgAQwA/AF4APQBDADEALwA3AFAAhgBUAC4APAAqAC8AfQAuADkAMwAyAC8AOgA9ADIAgQA3AFkATwBRADAAWgA0AJUANQA4AEcASQAxAEgAVgA4AEIANQAyADoANwBBAEsAOgBWACIANwBEADsANwA9AC4AQQCNADAANwBWADgASQBHAIYAMAAvAEoANQA1ADkAUAAxAGIAMgBaAEoALwAwADQAawBDAF8ARgDLADYAMAAyADIANQBQAFcANgBNADQAMwBLADoALwA4AEwANABFADIAdQA1AHQAQgBlADEANQA+ADcAUQBBADoANABdAD0ANgA3AC8ANwBTAD0ASQBJAMQARAAxADIAMAA2AMYALwA2ADYAXQBdAEwAggAzADQALwBCAD8ATQAVATEANQBHADIAUQA6ADQAQwAyADIAZwBEAGMASwB9AC8AMgA3ADIAMgC6ADMAQQA0ADkASgBLAEwAPQA0AEEAQgC8ADEAPwBcAEsAWwA0ADYAdgAyADsAOQA8AGsAXQBGADUARgA6AC4AVgBuADkAYgA6AG0AOQBDADMATgA1ADYAOgA1AIoANAA0AFAAOQBQAFwALQA1AC0ANAA4ADgARwBXAF0AOwA5ADwAPACpADoAYwBFAC8AMwBAADwAQABYADEAVAA0ADIAWwCJAF8ALwA2AFMATgBQADUAUQBJADIAWwA9AFwAogBGACwAMwBrAC4AWgByADIAPwA1AEAAMwA4ADMANQBMADIANQCgAF4AcQBLADYANAA7AFwAVAA1ADIATwBoAFoAZgAyAFQANQBBAEoAWABGAFUAaAA6AC0APABBAFkAYQA0ADEAUwA3AGQAMQAvADoANgBbADQAaQA1ADAAlABEACwAUQBhAH8AMQBeACwAKgBAAFQAMQA7ADEAfABaADsALwDVADcALwAwAC4AXQAyAEUAfABMAEUANQA7ADwANwC2AEYAOAA+AD0AMQAxAD8ANwAxAEAAMAA5ADcAWgDlAFcALAA0AGAALwBAADwAPwA+ADUASAA5AD0APAB4AGIAMgA7AEAAXgAuADwAcQA6ADkANAA4AF8AMgB5ADwAYABOADEAZgAzAEsAMwAzADIAPQBXAC0AQQAxAGUARABJAIsALgBsAEAAQwA2AEoAMQBlADUAOwBIADQAMAAwADUAMgAwADgAMwAtADcAMgAyAC8AOQBEAFQAPwA5ADEAlABeAD0APwB/AEcAQAA/AE8AkgBhAEwANQA+AF8AMQAuADIAWAA1AD8ASABXADMAMgCUADcAOwA2ADIALAAxAGIALQA3AC4BMgBcAD8ANwBqAFkANgA8ADYAawAxADsAWQBYADoANQBEADYATgAxAGIAaQBPADwANQDUADMAOgA0AEMANwA9ADMAZwAwAEIAMwA0ADUAOAA5ADAANgBGAEgANAA7ADgALgA2AEYALwBYADUAPgA/ADQAMwA3ADAAZgBzAHgAMQBRADUANwBKADYALgBLAFsAMwAvAIMAaAB5ADEAPgBHAC4AXgA5ADIAWgBVAC4AVQBIAG0ALwBYAFAAUABMAC4APgBGAC8AZABbADMAVwBGADEAMACXAEYAYABQADMAcAAzADcAOQA0ADgASAAcATIAMgBRADIAMAAxADYANwBPADMASQAyAEYANQAzADgASwA9ADwATQA+ADkA3ABKAFwAYgBwADUANgA2AF8ARAA7AEQAvwAzAC4ANgAsADIANQAwADAAWwBHADUANQBdADYAPgA6ADUARABBAKEAOQBSAEwANgAxAD0AOAA3AFAAMgCqAC4AMgAzAEwALwB+ADYAMAAyADUAOwBXADAAQwBYAFUAMwBcADMAMwBZAFMAOABGAJMAOgA2ADkAPQBmAEcAMgA2AG0ALwBAAD0A4QA1ADsATwAwAC8AOQAmADQANQA0ADQAOgAyADEANgAzADUATgBIAFsAXwBAADoARwAzADcANAA1ADwALwBaAEkALQA5AGoASABTADcALwAzAOQAMgA8ADMAYQCHAEkArAClADkAVQAwADEAVwBAAEsAPAAxAFEATgA5ADMAMwA4ADEAbQAwAEcAOwBNADUAMQAxADIASQB6ADsAVwBFAEIAZQA1ADMANgBCADMAZABRADYAOAA1AD4AagAsADoAZwA1ADgAOwDIAFgAOQAyADUAVAAwADAAMwBAAGIASQBBAJIAbgBDAFEALgBDADoAMgAuADAASACEADsANgAxADMAhQBPAHIAMAA0AD0AOQBEAD0AYgA1ADQAOgBbAC4AOgAvADAAXwBCACQARwBOADYANABFAFEARABcADgAMQCPAEsANgA3ADEANAAzAEwAeQBfADsAUQBKAEsAPACNADYAMACXAGQANwBCAEAATAA3AEMAPwA8ADsANgAyADwARwBvADEASABCADEAdQA/AIsAOwBGADIANABEAEIAVwA9ADsAMQBpAEEANABFAEkAVQA9AGMAOAA2ADYAPwA7AF4ALQBHADMAMAA0ADwANwA2ADUAtAAyADMANABiACsANgA0ADsAUwBPADAANgCKAH8AQgAvADcAOgA0AEQAMAA3AD0ANQAtADYAVQCwAFAAOgDEADcAbQBEAEQAMgAwAEcARQBJADwAOABoAFAARQBUAF4AfAB8ADIAMgA0ADYATQA1ADcANgBQAEYAMgBsAC8APwAxADcAMwBJAEYAMwAxADQAMgBMADkAOQAxAGwAkAB2AGwAMQBiADEAMwAyADsATgA3AEEAMgBeAC8AawA5ADUAOAAxAFAALQA3ADYAMQBKAC0APABUAEEARACrADUAXwBJAGUAYwA0AE0AOgA9ADIASwBkAEEARgAzADMATABoADAARgBHADQALgAsADIAZgBMAD0ASABsACsAYAA3AFAANQA6AEIAaQA5ACwAPAAtAHoANgAuAGgAOgBLAKIANwBPADYAbQAvAG0AMgA6ADMAUAA8AJ8AMwAqAFAASABaAD4AUQA6AC8AKwA4ADUANQA3AE8AvABAADIALQAsADAAOAA4AJ0AOgBxAE8APAA0AGYAMwBOAGAATgAyAE8ALQBGADgALwBCAFoANwBSAJYAMAA0AE8APAA+AE4ANAAyAHMBOgA4ADUAQQA3AEkAOAA8ADoAMAA0AMkAXgA2ADMARQAwAEwAPgAwAEkAMgA2AEQAYgBWAEkAUwA6AEEANQA5ADcAQwA1AEgAPABvADUAPgA0ADEAPgA0AFwALQBFADAAfgA0ADAALgA+ADkATQBNAFkATQA1ADsAMAA/AEMAUgAtADEAUwAwAIwAMQAxAD4ANgA5ADIASABhADYATAAyADEARQAzADYAUQA2ADgAPgAwAC0ALAA3AC4AVgBaADsANwAzAD4ANgB/ALUARQAvADwASgA1AFUATgA1ADMASABEAD4AWgAzADIAPAA1ADMAPgA7AG0AUwA1ADQAMgA/AE8AWAA9AMIAPgA5AHwA9QAtAEMAtwBQAEkATgBSADAAdgE+AH4AOAAyAFsAOABSAD0AQQAxAD0AOQBcAC4AWABPADUAYgB4ADsALgA4AC8AOQBfADQAPQBGAEwAMQAuADIAPQAwAEMAOwA2AGgAMQCuAKEATgA+ADQAQQB6AIkALQAyAEsAYgAwAFQAPAAzAC0AOAA/ADUARQBcAEUAPAAtAEwANwA9ADgAXQAzADMAMAAxADsAMQBRADcAMwAvAD4ATAAtAD0APgA2ADEAQAA1ADwARwAvADsAMQAyALoALgBBAFsALgA1ADMANgA6AEYAPQBbADAAOgAwAI8AMQA6ADIALwAzAFMAsABCAJAASwAxAI0AMgAyADQAeQA3ADkAPAA1AC0AMwBGAFgAMABGADkAQAAtAIIARQAxADkAMAA3AD0A9gA1AD8ARwA1ADYAYwAwAC4ARgAvADEANAArAC0AMQA3AHsAMgBFAFAARQBjADIAMAAyAEoANgAxAHsAWwBmAD4ANgAwADQAQwAvADYAWgBBAE4APgA0AEUANQA0AGoATwAzAD4AOwA7ADQAPgA4ADIAYQBlADYAKQBgADAAYAAzADUARABoAD8AOgBOACwAMAAzADcAVAAvADcAWQAxADQALgAuADEASQAsAC4AOQA2ADoALAA2AEoANwAxADAAMwA6ADgAVgA6ADUAygBHAHkAOQAtAD4AYAAzAGkAMgBKADMAWgBDAEkAMgCBADoAYABaAFAARAA5ADgASQBDAKQAPACbADYAYAA0ADMAQABLADwATQA0ADwANgA8ADIAYgA2ADEAVQAzAEIANQA2AFAAYgBUATEANQBIAMcAawA8AH0AMQA9AGcARwBgAFYAUwBkAFYANgAwADQANwBOADgAPgBLAEwAMQBIADcAPAAxAHcATAA0AD4AOABXAKEAMQB1AFwAVABdAEUAOgA+AD8ALQA0AFYA1gA+ADsAOAA6ADYARQBpAFwAXwA0AI8AWQA2ACwAPQA1AE4ANACXAFsAMgAyAEEAMwBNADoALgAvAEYAWgA4AI0ARQBKAEIANQA/AF0ARwAxAE8AMQAsADMAMQBMAC8AQQApAE0ALAAxAD4AUwBrADIAUgBrAK0ALAAyADUANAA5AEUALAA3AEAAMQBjAD8AMwDMADAALQA5AEsAVABQAGEAMgA7ADIAMwBZADcALQBBAC0AQABbADsAWwBcADMAagBxADQAOwAwAGIAMQBGADUAMQA+ADUAXgA7AC4AOABAADIALwAuAEIANwAvADQASABEADcALwClAEsAMgA0ALUATACnAC4AOAAyAC8ANQBTAEAAbwAuACwAUgB/ADIAUwAnAEsAMwAzADgAQAAzAEEAZwBYAEQARwAvADUAQQAzAGUAPgBDADoAWABYAC8A6wA9AD4AyABEAD0AbwA8ADcAQQBcAPIALgA8AGcANABPADcAMABeAEsASgA7AEgALQAwADwASgAxADwAOQBHADIASQA7AC8AOAA6ADkAMQCSAJUAPAA3ADEAOQBBADAATgBQAEAASAA0ADsAQQBCADgATQDQACwAMQA2ADQAQwBVADwALgA6AGIASAA/ADEANQA9ADsALgDmAF4APgA4ADQAPQAzAD8AOwBWADMANQA4AJYAMwA0ACwALQCGAEcARAAwAEEAYwBVAEQAQwA0ADUALgBfAC8AQgA0ADMAPQBHADIAMQA2ADkAXAAzAGAASwA8APYAPgA8AE0ANQDxADEAOQBiAEgATwA3ADgAOwCjADIAjAAzAFEAMABTADoANwAtADMAXABlAEcANgA6ADUAMwBTAFEARABqADIAOAAyAEAARQAuAD0ALwAxADEAMgBAAFkAOABSAD0AXQA/ADcAXQA2AFAAQQBhAFAAOgBXADAALwA4ADsAUwA/AD8AOwBBAGoA/gAsANQAOgBEAC8ARQAzAFYAPABmACwAUgAuADMANAA1AEAATAA2ADAAKgA+ADsAOQAyAFkANwA3AEcATwBHADYAMwCDADYALwBWAD0AWgBbAEEAOwBKAEAANABqAC4ANwA5AEgALwBYAAYBNQBAACwAfgCSANIAggA5AD4AOgBKAC0AMQAvAC0AKwA4ADYAWwBFADUAVgBwAD8ASQA/ADAAggBzAJgAMgBTAGIAKQAyAEYANQAwADUAQQBrADIAYAAuAEAANABAAFQAOwBBAEQAOgBKAEEAMAAzADUAMQBAAC0ASgBEAEoALwAvAIEANQA2ADAAMwBCAJ4AMwBhAE8AMQA2AD4AMQA/AGsANwA0AGAAOwDAAE4AMQA/AFgAPgBTAEcALwA5AD0APQAvADQAMgBPAGcANgA6AHcALgAuACsAOwArAGYANAA4AGYANwA6ADoAUwA9ADMAXQBBADIAMwDtAI8ANQA1AIwAMQBhADkAMgBbAPkAUgBaADkAOwAvADsAMQAvAGAAlABWAEkASABhAGkAUABNADEAMwA0AEsALwAxADAANABZAGkAOADcAEIAMADSAEwALABCAEEAQgA/AF8ARAAxADEANQBFADAANAA9AEEALwA0AD4ALAAtAC4AMgA2AEkAYwA8ADgAPAAvADsAXAA0AEIAPgAuAEsAOQA/ADUASABgAGMASwA3AE4AOgA0ADkAPACRADUAPgA1ADkAOAA6ADkAWAAsADEAOgBYAFMAMgA6AEMAMABmADEAPAA2AEEARQBAAEkAPwBZAC8ARABBADIANQAxADoALwA+ADoAMgBJAHoAYgAwAEMAPABVADUAVAAyAD4AWQBFADAAfgA0AC0ANwBjADcAUABLADwAMABCADYAQgAuADoAOAA0ADcAMACCAC8ATAA5AGEANwAvAFEATwBUADAAygBeAC8ANAAwAFgANwBNAEAANABPADYANgA4AC8AMQAvAEgALQBXADMALABZADAANQBNAD0APgBnADQALwBhAJ8ANQAuAC4AMgAzAEIAPgA7ADcAPwBcADQAPwAzAEwANQBIACsAeAA7ADcAQAA4AHcAOQBBAFYANQAsAEMAQQA3ADcAUQBeADUAWQB3ADoALwA2ADEALQBDADAAMgBDACsAOwA8AEMABwEuAC4APgA2ADQAWQA0ADMATABIADEAUwAsADoAOwA5ADcAPgA7AEEAMwA2AFIAMgBlADUANwAzADkAQQA2AFYAUgA4AD0ASwBVAD0APwA7ADAAYgA1ADQAOQBMAD0AMAA2AD4ALQA9ADQANAA0AC4AOQA6ADIANwA5ADcANQBgAH4AXQCYADsAQgAyAMYAQAA8AD4ANAArAF8APwAtAEMAOAAxADoAigA1AGEAJgA9ADIANABMAD8ANABEADQAawAxAFsANgCAAFcAmgA0AEcANgA2AD4AMgAyACwAUQA0AGcAMQBWADgAPABpADcAPQBFAC0ANgAvAEQALgBBADoAbQBIAJ4AMgA1AFoAVgBBAEgAUAAzADAAewBVADcAOQAvADoAXgBpADAAPAAwADYANAByAEoANwA0ADkAPgA7AEkANwA1ACcALQBkAFYAMwA6AGMAJwBLADQAXwA7ADcANgAtAFkAMgBGAD0ANADCAEQAUgA3ADQAOABLAD4APABIAI0AMgArADoAPQA/ADwANAAxADMAQABCADEANAA/ADIALwBeAC8AawAyAHEAOgA6ADMAMgB4ADYAMgBXAFUAMwBaAC8ANQAzADcAMQAzAFQAPwAxAD0AlQAyAF0AMAA5AMUAWAA9ADkAMQBCADkALwEyAD0AZQB7ADgAPQBuADAAYAAuAEsAOgA5AEYALABHAEYAMwAyACoAMAArAE4ATgBzAEcARgA2ACwANAAzAEcAVwAvAGEAPQA6ADAAQgBgAD8ANgBbADsASwA/AIYBUwBCAFoAPwA8ADgAcwCrADEAOAA1ADYAZQA3AFUAMgA2AHMANgAyALcASgAxAFYAGgEsADoAQQBVADEAMwAzAGQAMAA5ACsATgBaAEAATgC3ADkAMgCcADEATAAyADAARAAzAKAALAA/AC8ANQBIAC4ANQBiAD8AMwA3ADIAPgAxAFsAQABCAEgALABEAFEANABCADEAOQBLADIAKwA1ADUAPwA4AD4APgB8AEgAWgA8AEQANgAvADYATgA5AMkANAAwAC4AQwBeADYANAA5AC4APQAtALwARQBFADcANwA7ADoAUgBUADYASgAvADYAXwAwAEIAMQBYAEAAWQAxADgAOgBaAFoALgBAAFYAVgA5AIEAMwBFAD8AMAA4ADcAaAAyAEUANABZADoAPwA9AFEALwBOADEAVQAxAEMALAA5ADAATgBVAC4AMgBIAIUAcABiAEAAPQA9ADcANgAzAHMAUQAvAF8ALgBTAHoATwCUAF8AbgB4AE8APgA7AEUAPAAvADUANQAzADIASADDAD4ARACBAFQA7gAzAEUALwBgAF0AUQB2AEYASgAzAEEAOAA1ADcATQA1ADIANwA5AEIAVQBEAEEAMQDVACwAMgAyADgANgA6AEEANQA1AE8ALwBYAEoAMgA0ADUANAA6ADQAOgAuADcAgQAxAJgAPABYADoAQADjAEwAOACkAEgAMABDADUAMgAyAIcANwAyAC8AQAA1AJQAlwBHAEYAVAAxAGMAQAArAEoARwBYAHQATwA0AGYAbwAzADgAMgAwAF8AOQBjAD4AnwA7ADsASAA3AC8AUAAwADgARgA0AD0ANABwADQAMAAuAD0APgA+AFMAQQBLADkANgArADcAMQBWAEoAMAAwAEQAYQA0AD4AMgA8AFoASQCOAFAANwBgAGsAMQA2AEMAZQAzADUAPQAzAF8AQQCHADsAUwBUADQAPgA5AD0AMAAyADcAXgAxAE0ANABGAFAARABZADUALABtADIAQwBCADcAPgA6AFMAOQBRACoAXgA8AFEAMAAwAGsANAA+AC0ATwBVADcAXQA3ADcAPQBdAFUAMQBSAE8AOQBeADAANgAzAC4AVwBkAEAAWAA0AC4AYQA5ADkARwBzAD0APwAzAFAAMQAzADQAOgAzAEMAMwA6AC0AWwAuAC4AQwA4AGcAQgA3AGUAQgCuADUAVwA7ADgAPQBnADwALwAuAFQAMQBGAFkAMgA/AFQANwAvAD0ANAA1ADYAOwA1AEsApQBZAEAAQQAzAC0AMwBkADkAhwA3AGgAMQBGADMAOwBLAE4ANABOADUAagA5ADQATAAxADMAOABAAEcANABtADgAOAAxADIALADTADQANwAxADAAMgAsADgAMAB2ADMAMABIADYAMgAuADoARgBAADQANgBJAIoAOQAwAFcARgBSADAALwBvAFkAWwBEAC4AOwA0ADMAPABOADAAMgAwAFEANAA0AD8ATAA1AD4AMgBgAC8AOQA2AFcAZAA7ADgAaQBPAEsAWwAxAEMATABIADAAsQA5AFMAlQA7AFgAVAAvADIAbABlAFcARABZAE8AVQAvADcAUAAvADAAIgAxAHAANABDADIAMQCrAFwALwA4ADYAOQAzADsAMABYAD0ANgAzAFIAMQCHADMAQAAsAEgAXwAoAHQALwA9AHkANwAyAEEANwAsADIASAAvAEIANAA+AFsAOwA8AF4AMAA0ADQATAA7AFEANQA6AGgAOAAuAD4ALwA5AJ4AjwBmADUAWwB8ADYAMAA5AD8AXQBKADUAQACbAC8AaAAzAEgAVAAvAGcANQAvAGYATABPAC4ANgBPADUAUgBtADkAQgA3ADwALwA/ADcARAAzAEYAMwBUAEIANQA9AD8AOgBAADwAfwAzAHUANQAyADUANQA6ADcANAA6AFsANgAxADgAMQA5ADYALgAxADQAMgA4AC8ALgA5AFQAMABbAD4ANQA3ADIAOgAyADEASAA4ANMANAAzADMAPgBaADQALABsADoANwA0AC0APwAzADIARgB2AHMAXQBFAEQAOwAwAEQANgBWAOkAMwAyADMANwAwAEsANABqAH0AMwBqAD0AKwAzADUAOQAyAHYCNgA8ADcANQA6AEYAcQA1AD0ARQA2AGYARwBrAEcAOABJAD0AnAAvADQAQABGADQATwBKADUATwAsAD0AMwAvAEcAOAA2ACoAbwBDAGEAOwAsAJIAPgA9AGQANQCDADQATABsADgAXwA+ADYAQgBIADIARQBQAEUAaABDACwAPwA/AIgALwBZADoAPQBFAD8ANwBqADMAQwAyAEcAQAAzADIAPQBBAEkAMwBAAFUAMwBNAFIAOABKAHEAdABDAEAANAA0AFoAMgA3ADkAMgBVADQANQBJADsAQwA2ADUANQBFAFwARgA8AF0ALwA7AGgBLwA0AFEARgAsAFYAbgA1ADEASwAwAEQALgCaAEUARwBGAC4AMQAzAEoANgA1AEMAOgAvADIAMwBAADQARgAqADIAWAD2AFsAQQA4AGkALwA/ADcASQA5ADQASgBOADMATQBqAC4AMACBADgAdAAwAEgAWAA3ADQARwBLAC8AQwA1ADIAMQAyAFMAOgBqAIgALQBbAG8AJgAvADQAMwBYAE4APwAuADQAQQBQAEIARwA0AEkARAA0AGcASAA2ADUANAA2ADQAPwAyAC8AQwAyAC4ASAA2AEsAWAA1AFYATAAtALsAiAAvAEQAWwBHADMAQgAyADoAVAA0AFUAOAAyADcAYQA2AGgAOwBcAD8AMwAwADoAQQA1ADcAMQA1AEEATgAvAIcAUAA4ADEANQBhAEQAWAAyADQATwAuAFAAQAAxAGkAUgA7AEQANAA/ADIAOwBXAEMAVgBRADEANABIADMARwB2ACwARAAyAD8AOABCAC0AMgBzADAANQA0ADoAQAA0AC8AcAAyAFAAMAAtAEIAUwA1AEIAbQAzADMAQwAzAFAALgBIAC4ANQBiAF4ANQAxAE8AOgBRAEAAiQAtADcANQAsADsAMQAyAEQAMgA/ADUAMAA0AFAANQA9ADQATgAvADQAPgA1AFQANQA+AEkASABBADcAegBXAE0ANgAxAHEAqwA7AEYANAAqAFIARAAxAEAAaAAzAEAAOQA8ADMAMQA4ADEAcgA/ADYAPAAyADwAMACcADgAOgAxADgAOQBJALAAQQA7AEIANABbADAAQgBtADgAMwCWAGIAZACeAEMALQBMADsAMABpAC4ALgA0ADQANAA2ADUAMQA6AEUAKwAvAD4AQQBEADQAOQA0ADYAkQBWAEoAOQAzADMASAA5ADYAMABXAEkARABZAEsAtQA6ADYASAA7AHcAMQAsALoAPQA0ADQALQAxADMAKwAuADIARAA3ADMARQAyAEEAMQBDAF0ARAAzAD4ANQAvADMALACmADEAvQA7ADcAMgA+AEYAMQA7AF4AMQA+AGcAMAA1AEoAOAA3ADoAMABOAC4AZQCFAEIAPwBAAEoAMABvADkAMQA0AC8ANwA6ADUAVAAzAGcAMgA3AD8AKwA/AD4APgA4AC4ANgBXADQA4AA7AE4AVgBbAE8AQABEADEAaABOAC0ANQA8ADMAOQA0ADYAYgA2ADMANwA0ACwAMQA/ACsAMQAzADcAWABhACgALgCqAE4AOgA0ADQALwAvADQAMQA+AD4ALQA/AD4AVgAwADQAVwBxAFQAPQAsAKoBPgBMAFQATgAwADUA",
          "dtype": "i2"
         },
         "xaxis": "x",
         "yaxis": "y"
        }
       ],
       "layout": {
        "barmode": "relative",
        "legend": {
         "title": {
          "text": "variable"
         },
         "tracegroupgap": 0
        },
        "template": {
         "data": {
          "bar": [
           {
            "error_x": {
             "color": "#2a3f5f"
            },
            "error_y": {
             "color": "#2a3f5f"
            },
            "marker": {
             "line": {
              "color": "#E5ECF6",
              "width": 0.5
             },
             "pattern": {
              "fillmode": "overlay",
              "size": 10,
              "solidity": 0.2
             }
            },
            "type": "bar"
           }
          ],
          "barpolar": [
           {
            "marker": {
             "line": {
              "color": "#E5ECF6",
              "width": 0.5
             },
             "pattern": {
              "fillmode": "overlay",
              "size": 10,
              "solidity": 0.2
             }
            },
            "type": "barpolar"
           }
          ],
          "carpet": [
           {
            "aaxis": {
             "endlinecolor": "#2a3f5f",
             "gridcolor": "white",
             "linecolor": "white",
             "minorgridcolor": "white",
             "startlinecolor": "#2a3f5f"
            },
            "baxis": {
             "endlinecolor": "#2a3f5f",
             "gridcolor": "white",
             "linecolor": "white",
             "minorgridcolor": "white",
             "startlinecolor": "#2a3f5f"
            },
            "type": "carpet"
           }
          ],
          "choropleth": [
           {
            "colorbar": {
             "outlinewidth": 0,
             "ticks": ""
            },
            "type": "choropleth"
           }
          ],
          "contour": [
           {
            "colorbar": {
             "outlinewidth": 0,
             "ticks": ""
            },
            "colorscale": [
             [
              0,
              "#0d0887"
             ],
             [
              0.1111111111111111,
              "#46039f"
             ],
             [
              0.2222222222222222,
              "#7201a8"
             ],
             [
              0.3333333333333333,
              "#9c179e"
             ],
             [
              0.4444444444444444,
              "#bd3786"
             ],
             [
              0.5555555555555556,
              "#d8576b"
             ],
             [
              0.6666666666666666,
              "#ed7953"
             ],
             [
              0.7777777777777778,
              "#fb9f3a"
             ],
             [
              0.8888888888888888,
              "#fdca26"
             ],
             [
              1,
              "#f0f921"
             ]
            ],
            "type": "contour"
           }
          ],
          "contourcarpet": [
           {
            "colorbar": {
             "outlinewidth": 0,
             "ticks": ""
            },
            "type": "contourcarpet"
           }
          ],
          "heatmap": [
           {
            "colorbar": {
             "outlinewidth": 0,
             "ticks": ""
            },
            "colorscale": [
             [
              0,
              "#0d0887"
             ],
             [
              0.1111111111111111,
              "#46039f"
             ],
             [
              0.2222222222222222,
              "#7201a8"
             ],
             [
              0.3333333333333333,
              "#9c179e"
             ],
             [
              0.4444444444444444,
              "#bd3786"
             ],
             [
              0.5555555555555556,
              "#d8576b"
             ],
             [
              0.6666666666666666,
              "#ed7953"
             ],
             [
              0.7777777777777778,
              "#fb9f3a"
             ],
             [
              0.8888888888888888,
              "#fdca26"
             ],
             [
              1,
              "#f0f921"
             ]
            ],
            "type": "heatmap"
           }
          ],
          "histogram": [
           {
            "marker": {
             "pattern": {
              "fillmode": "overlay",
              "size": 10,
              "solidity": 0.2
             }
            },
            "type": "histogram"
           }
          ],
          "histogram2d": [
           {
            "colorbar": {
             "outlinewidth": 0,
             "ticks": ""
            },
            "colorscale": [
             [
              0,
              "#0d0887"
             ],
             [
              0.1111111111111111,
              "#46039f"
             ],
             [
              0.2222222222222222,
              "#7201a8"
             ],
             [
              0.3333333333333333,
              "#9c179e"
             ],
             [
              0.4444444444444444,
              "#bd3786"
             ],
             [
              0.5555555555555556,
              "#d8576b"
             ],
             [
              0.6666666666666666,
              "#ed7953"
             ],
             [
              0.7777777777777778,
              "#fb9f3a"
             ],
             [
              0.8888888888888888,
              "#fdca26"
             ],
             [
              1,
              "#f0f921"
             ]
            ],
            "type": "histogram2d"
           }
          ],
          "histogram2dcontour": [
           {
            "colorbar": {
             "outlinewidth": 0,
             "ticks": ""
            },
            "colorscale": [
             [
              0,
              "#0d0887"
             ],
             [
              0.1111111111111111,
              "#46039f"
             ],
             [
              0.2222222222222222,
              "#7201a8"
             ],
             [
              0.3333333333333333,
              "#9c179e"
             ],
             [
              0.4444444444444444,
              "#bd3786"
             ],
             [
              0.5555555555555556,
              "#d8576b"
             ],
             [
              0.6666666666666666,
              "#ed7953"
             ],
             [
              0.7777777777777778,
              "#fb9f3a"
             ],
             [
              0.8888888888888888,
              "#fdca26"
             ],
             [
              1,
              "#f0f921"
             ]
            ],
            "type": "histogram2dcontour"
           }
          ],
          "mesh3d": [
           {
            "colorbar": {
             "outlinewidth": 0,
             "ticks": ""
            },
            "type": "mesh3d"
           }
          ],
          "parcoords": [
           {
            "line": {
             "colorbar": {
              "outlinewidth": 0,
              "ticks": ""
             }
            },
            "type": "parcoords"
           }
          ],
          "pie": [
           {
            "automargin": true,
            "type": "pie"
           }
          ],
          "scatter": [
           {
            "fillpattern": {
             "fillmode": "overlay",
             "size": 10,
             "solidity": 0.2
            },
            "type": "scatter"
           }
          ],
          "scatter3d": [
           {
            "line": {
             "colorbar": {
              "outlinewidth": 0,
              "ticks": ""
             }
            },
            "marker": {
             "colorbar": {
              "outlinewidth": 0,
              "ticks": ""
             }
            },
            "type": "scatter3d"
           }
          ],
          "scattercarpet": [
           {
            "marker": {
             "colorbar": {
              "outlinewidth": 0,
              "ticks": ""
             }
            },
            "type": "scattercarpet"
           }
          ],
          "scattergeo": [
           {
            "marker": {
             "colorbar": {
              "outlinewidth": 0,
              "ticks": ""
             }
            },
            "type": "scattergeo"
           }
          ],
          "scattergl": [
           {
            "marker": {
             "colorbar": {
              "outlinewidth": 0,
              "ticks": ""
             }
            },
            "type": "scattergl"
           }
          ],
          "scattermap": [
           {
            "marker": {
             "colorbar": {
              "outlinewidth": 0,
              "ticks": ""
             }
            },
            "type": "scattermap"
           }
          ],
          "scattermapbox": [
           {
            "marker": {
             "colorbar": {
              "outlinewidth": 0,
              "ticks": ""
             }
            },
            "type": "scattermapbox"
           }
          ],
          "scatterpolar": [
           {
            "marker": {
             "colorbar": {
              "outlinewidth": 0,
              "ticks": ""
             }
            },
            "type": "scatterpolar"
           }
          ],
          "scatterpolargl": [
           {
            "marker": {
             "colorbar": {
              "outlinewidth": 0,
              "ticks": ""
             }
            },
            "type": "scatterpolargl"
           }
          ],
          "scatterternary": [
           {
            "marker": {
             "colorbar": {
              "outlinewidth": 0,
              "ticks": ""
             }
            },
            "type": "scatterternary"
           }
          ],
          "surface": [
           {
            "colorbar": {
             "outlinewidth": 0,
             "ticks": ""
            },
            "colorscale": [
             [
              0,
              "#0d0887"
             ],
             [
              0.1111111111111111,
              "#46039f"
             ],
             [
              0.2222222222222222,
              "#7201a8"
             ],
             [
              0.3333333333333333,
              "#9c179e"
             ],
             [
              0.4444444444444444,
              "#bd3786"
             ],
             [
              0.5555555555555556,
              "#d8576b"
             ],
             [
              0.6666666666666666,
              "#ed7953"
             ],
             [
              0.7777777777777778,
              "#fb9f3a"
             ],
             [
              0.8888888888888888,
              "#fdca26"
             ],
             [
              1,
              "#f0f921"
             ]
            ],
            "type": "surface"
           }
          ],
          "table": [
           {
            "cells": {
             "fill": {
              "color": "#EBF0F8"
             },
             "line": {
              "color": "white"
             }
            },
            "header": {
             "fill": {
              "color": "#C8D4E3"
             },
             "line": {
              "color": "white"
             }
            },
            "type": "table"
           }
          ]
         },
         "layout": {
          "annotationdefaults": {
           "arrowcolor": "#2a3f5f",
           "arrowhead": 0,
           "arrowwidth": 1
          },
          "autotypenumbers": "strict",
          "coloraxis": {
           "colorbar": {
            "outlinewidth": 0,
            "ticks": ""
           }
          },
          "colorscale": {
           "diverging": [
            [
             0,
             "#8e0152"
            ],
            [
             0.1,
             "#c51b7d"
            ],
            [
             0.2,
             "#de77ae"
            ],
            [
             0.3,
             "#f1b6da"
            ],
            [
             0.4,
             "#fde0ef"
            ],
            [
             0.5,
             "#f7f7f7"
            ],
            [
             0.6,
             "#e6f5d0"
            ],
            [
             0.7,
             "#b8e186"
            ],
            [
             0.8,
             "#7fbc41"
            ],
            [
             0.9,
             "#4d9221"
            ],
            [
             1,
             "#276419"
            ]
           ],
           "sequential": [
            [
             0,
             "#0d0887"
            ],
            [
             0.1111111111111111,
             "#46039f"
            ],
            [
             0.2222222222222222,
             "#7201a8"
            ],
            [
             0.3333333333333333,
             "#9c179e"
            ],
            [
             0.4444444444444444,
             "#bd3786"
            ],
            [
             0.5555555555555556,
             "#d8576b"
            ],
            [
             0.6666666666666666,
             "#ed7953"
            ],
            [
             0.7777777777777778,
             "#fb9f3a"
            ],
            [
             0.8888888888888888,
             "#fdca26"
            ],
            [
             1,
             "#f0f921"
            ]
           ],
           "sequentialminus": [
            [
             0,
             "#0d0887"
            ],
            [
             0.1111111111111111,
             "#46039f"
            ],
            [
             0.2222222222222222,
             "#7201a8"
            ],
            [
             0.3333333333333333,
             "#9c179e"
            ],
            [
             0.4444444444444444,
             "#bd3786"
            ],
            [
             0.5555555555555556,
             "#d8576b"
            ],
            [
             0.6666666666666666,
             "#ed7953"
            ],
            [
             0.7777777777777778,
             "#fb9f3a"
            ],
            [
             0.8888888888888888,
             "#fdca26"
            ],
            [
             1,
             "#f0f921"
            ]
           ]
          },
          "colorway": [
           "#636efa",
           "#EF553B",
           "#00cc96",
           "#ab63fa",
           "#FFA15A",
           "#19d3f3",
           "#FF6692",
           "#B6E880",
           "#FF97FF",
           "#FECB52"
          ],
          "font": {
           "color": "#2a3f5f"
          },
          "geo": {
           "bgcolor": "white",
           "lakecolor": "white",
           "landcolor": "#E5ECF6",
           "showlakes": true,
           "showland": true,
           "subunitcolor": "white"
          },
          "hoverlabel": {
           "align": "left"
          },
          "hovermode": "closest",
          "mapbox": {
           "style": "light"
          },
          "paper_bgcolor": "white",
          "plot_bgcolor": "#E5ECF6",
          "polar": {
           "angularaxis": {
            "gridcolor": "white",
            "linecolor": "white",
            "ticks": ""
           },
           "bgcolor": "#E5ECF6",
           "radialaxis": {
            "gridcolor": "white",
            "linecolor": "white",
            "ticks": ""
           }
          },
          "scene": {
           "xaxis": {
            "backgroundcolor": "#E5ECF6",
            "gridcolor": "white",
            "gridwidth": 2,
            "linecolor": "white",
            "showbackground": true,
            "ticks": "",
            "zerolinecolor": "white"
           },
           "yaxis": {
            "backgroundcolor": "#E5ECF6",
            "gridcolor": "white",
            "gridwidth": 2,
            "linecolor": "white",
            "showbackground": true,
            "ticks": "",
            "zerolinecolor": "white"
           },
           "zaxis": {
            "backgroundcolor": "#E5ECF6",
            "gridcolor": "white",
            "gridwidth": 2,
            "linecolor": "white",
            "showbackground": true,
            "ticks": "",
            "zerolinecolor": "white"
           }
          },
          "shapedefaults": {
           "line": {
            "color": "#2a3f5f"
           }
          },
          "ternary": {
           "aaxis": {
            "gridcolor": "white",
            "linecolor": "white",
            "ticks": ""
           },
           "baxis": {
            "gridcolor": "white",
            "linecolor": "white",
            "ticks": ""
           },
           "bgcolor": "#E5ECF6",
           "caxis": {
            "gridcolor": "white",
            "linecolor": "white",
            "ticks": ""
           }
          },
          "title": {
           "x": 0.05
          },
          "xaxis": {
           "automargin": true,
           "gridcolor": "white",
           "linecolor": "white",
           "ticks": "",
           "title": {
            "standoff": 15
           },
           "zerolinecolor": "white",
           "zerolinewidth": 2
          },
          "yaxis": {
           "automargin": true,
           "gridcolor": "white",
           "linecolor": "white",
           "ticks": "",
           "title": {
            "standoff": 15
           },
           "zerolinecolor": "white",
           "zerolinewidth": 2
          }
         }
        },
        "title": {
         "text": "Sequence length frequency"
        },
        "xaxis": {
         "anchor": "y",
         "domain": [
          0,
          1
         ],
         "title": {
          "text": "value"
         }
        },
        "yaxis": {
         "anchor": "x",
         "domain": [
          0,
          1
         ],
         "title": {
          "text": "count"
         }
        }
       }
      }
     },
     "metadata": {},
     "output_type": "display_data"
    }
   ],
   "source": [
    "px.histogram(\n",
    "    (\n",
    "        df\n",
    "        .groupby(\"sequence_id\", observed=True)\n",
    "        .size()\n",
    "    ),\n",
    "    title=\"Sequence length frequency\",\n",
    ")"
   ]
  },
  {
   "cell_type": "markdown",
   "id": "24e72f4e",
   "metadata": {},
   "source": [
    "Second(to avoid always look at the first one) Train/validation split sequences lengths comparaison."
   ]
  },
  {
   "cell_type": "code",
   "execution_count": null,
   "id": "1a39bfce",
   "metadata": {},
   "outputs": [
    {
     "data": {
      "application/vnd.plotly.v1+json": {
       "config": {
        "plotlyServerURL": "https://plot.ly"
       },
       "data": [
        {
         "bingroup": "x",
         "hovertemplate": "set=Train<br>length=%{x}<br>count=%{y}<extra></extra>",
         "legendgroup": "Train",
         "marker": {
          "color": "#636efa",
          "opacity": 0.5,
          "pattern": {
           "shape": ""
          }
         },
         "name": "Train",
         "nbinsx": 50,
         "opacity": 0.8,
         "orientation": "v",
         "showlegend": true,
         "type": "histogram",
         "x": {
          "bdata": "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",
          "dtype": "i2"
         },
         "xaxis": "x",
         "yaxis": "y"
        },
        {
         "bingroup": "x",
         "hovertemplate": "set=Validation<br>length=%{x}<br>count=%{y}<extra></extra>",
         "legendgroup": "Validation",
         "marker": {
          "color": "#EF553B",
          "opacity": 0.5,
          "pattern": {
           "shape": ""
          }
         },
         "name": "Validation",
         "nbinsx": 50,
         "opacity": 0.8,
         "orientation": "v",
         "showlegend": true,
         "type": "histogram",
         "x": {
          "bdata": "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",
          "dtype": "i2"
         },
         "xaxis": "x",
         "yaxis": "y"
        }
       ],
       "layout": {
        "barmode": "overlay",
        "legend": {
         "title": {
          "text": "set"
         },
         "tracegroupgap": 0
        },
        "template": {
         "data": {
          "bar": [
           {
            "error_x": {
             "color": "#2a3f5f"
            },
            "error_y": {
             "color": "#2a3f5f"
            },
            "marker": {
             "line": {
              "color": "#E5ECF6",
              "width": 0.5
             },
             "pattern": {
              "fillmode": "overlay",
              "size": 10,
              "solidity": 0.2
             }
            },
            "type": "bar"
           }
          ],
          "barpolar": [
           {
            "marker": {
             "line": {
              "color": "#E5ECF6",
              "width": 0.5
             },
             "pattern": {
              "fillmode": "overlay",
              "size": 10,
              "solidity": 0.2
             }
            },
            "type": "barpolar"
           }
          ],
          "carpet": [
           {
            "aaxis": {
             "endlinecolor": "#2a3f5f",
             "gridcolor": "white",
             "linecolor": "white",
             "minorgridcolor": "white",
             "startlinecolor": "#2a3f5f"
            },
            "baxis": {
             "endlinecolor": "#2a3f5f",
             "gridcolor": "white",
             "linecolor": "white",
             "minorgridcolor": "white",
             "startlinecolor": "#2a3f5f"
            },
            "type": "carpet"
           }
          ],
          "choropleth": [
           {
            "colorbar": {
             "outlinewidth": 0,
             "ticks": ""
            },
            "type": "choropleth"
           }
          ],
          "contour": [
           {
            "colorbar": {
             "outlinewidth": 0,
             "ticks": ""
            },
            "colorscale": [
             [
              0,
              "#0d0887"
             ],
             [
              0.1111111111111111,
              "#46039f"
             ],
             [
              0.2222222222222222,
              "#7201a8"
             ],
             [
              0.3333333333333333,
              "#9c179e"
             ],
             [
              0.4444444444444444,
              "#bd3786"
             ],
             [
              0.5555555555555556,
              "#d8576b"
             ],
             [
              0.6666666666666666,
              "#ed7953"
             ],
             [
              0.7777777777777778,
              "#fb9f3a"
             ],
             [
              0.8888888888888888,
              "#fdca26"
             ],
             [
              1,
              "#f0f921"
             ]
            ],
            "type": "contour"
           }
          ],
          "contourcarpet": [
           {
            "colorbar": {
             "outlinewidth": 0,
             "ticks": ""
            },
            "type": "contourcarpet"
           }
          ],
          "heatmap": [
           {
            "colorbar": {
             "outlinewidth": 0,
             "ticks": ""
            },
            "colorscale": [
             [
              0,
              "#0d0887"
             ],
             [
              0.1111111111111111,
              "#46039f"
             ],
             [
              0.2222222222222222,
              "#7201a8"
             ],
             [
              0.3333333333333333,
              "#9c179e"
             ],
             [
              0.4444444444444444,
              "#bd3786"
             ],
             [
              0.5555555555555556,
              "#d8576b"
             ],
             [
              0.6666666666666666,
              "#ed7953"
             ],
             [
              0.7777777777777778,
              "#fb9f3a"
             ],
             [
              0.8888888888888888,
              "#fdca26"
             ],
             [
              1,
              "#f0f921"
             ]
            ],
            "type": "heatmap"
           }
          ],
          "histogram": [
           {
            "marker": {
             "pattern": {
              "fillmode": "overlay",
              "size": 10,
              "solidity": 0.2
             }
            },
            "type": "histogram"
           }
          ],
          "histogram2d": [
           {
            "colorbar": {
             "outlinewidth": 0,
             "ticks": ""
            },
            "colorscale": [
             [
              0,
              "#0d0887"
             ],
             [
              0.1111111111111111,
              "#46039f"
             ],
             [
              0.2222222222222222,
              "#7201a8"
             ],
             [
              0.3333333333333333,
              "#9c179e"
             ],
             [
              0.4444444444444444,
              "#bd3786"
             ],
             [
              0.5555555555555556,
              "#d8576b"
             ],
             [
              0.6666666666666666,
              "#ed7953"
             ],
             [
              0.7777777777777778,
              "#fb9f3a"
             ],
             [
              0.8888888888888888,
              "#fdca26"
             ],
             [
              1,
              "#f0f921"
             ]
            ],
            "type": "histogram2d"
           }
          ],
          "histogram2dcontour": [
           {
            "colorbar": {
             "outlinewidth": 0,
             "ticks": ""
            },
            "colorscale": [
             [
              0,
              "#0d0887"
             ],
             [
              0.1111111111111111,
              "#46039f"
             ],
             [
              0.2222222222222222,
              "#7201a8"
             ],
             [
              0.3333333333333333,
              "#9c179e"
             ],
             [
              0.4444444444444444,
              "#bd3786"
             ],
             [
              0.5555555555555556,
              "#d8576b"
             ],
             [
              0.6666666666666666,
              "#ed7953"
             ],
             [
              0.7777777777777778,
              "#fb9f3a"
             ],
             [
              0.8888888888888888,
              "#fdca26"
             ],
             [
              1,
              "#f0f921"
             ]
            ],
            "type": "histogram2dcontour"
           }
          ],
          "mesh3d": [
           {
            "colorbar": {
             "outlinewidth": 0,
             "ticks": ""
            },
            "type": "mesh3d"
           }
          ],
          "parcoords": [
           {
            "line": {
             "colorbar": {
              "outlinewidth": 0,
              "ticks": ""
             }
            },
            "type": "parcoords"
           }
          ],
          "pie": [
           {
            "automargin": true,
            "type": "pie"
           }
          ],
          "scatter": [
           {
            "fillpattern": {
             "fillmode": "overlay",
             "size": 10,
             "solidity": 0.2
            },
            "type": "scatter"
           }
          ],
          "scatter3d": [
           {
            "line": {
             "colorbar": {
              "outlinewidth": 0,
              "ticks": ""
             }
            },
            "marker": {
             "colorbar": {
              "outlinewidth": 0,
              "ticks": ""
             }
            },
            "type": "scatter3d"
           }
          ],
          "scattercarpet": [
           {
            "marker": {
             "colorbar": {
              "outlinewidth": 0,
              "ticks": ""
             }
            },
            "type": "scattercarpet"
           }
          ],
          "scattergeo": [
           {
            "marker": {
             "colorbar": {
              "outlinewidth": 0,
              "ticks": ""
             }
            },
            "type": "scattergeo"
           }
          ],
          "scattergl": [
           {
            "marker": {
             "colorbar": {
              "outlinewidth": 0,
              "ticks": ""
             }
            },
            "type": "scattergl"
           }
          ],
          "scattermap": [
           {
            "marker": {
             "colorbar": {
              "outlinewidth": 0,
              "ticks": ""
             }
            },
            "type": "scattermap"
           }
          ],
          "scattermapbox": [
           {
            "marker": {
             "colorbar": {
              "outlinewidth": 0,
              "ticks": ""
             }
            },
            "type": "scattermapbox"
           }
          ],
          "scatterpolar": [
           {
            "marker": {
             "colorbar": {
              "outlinewidth": 0,
              "ticks": ""
             }
            },
            "type": "scatterpolar"
           }
          ],
          "scatterpolargl": [
           {
            "marker": {
             "colorbar": {
              "outlinewidth": 0,
              "ticks": ""
             }
            },
            "type": "scatterpolargl"
           }
          ],
          "scatterternary": [
           {
            "marker": {
             "colorbar": {
              "outlinewidth": 0,
              "ticks": ""
             }
            },
            "type": "scatterternary"
           }
          ],
          "surface": [
           {
            "colorbar": {
             "outlinewidth": 0,
             "ticks": ""
            },
            "colorscale": [
             [
              0,
              "#0d0887"
             ],
             [
              0.1111111111111111,
              "#46039f"
             ],
             [
              0.2222222222222222,
              "#7201a8"
             ],
             [
              0.3333333333333333,
              "#9c179e"
             ],
             [
              0.4444444444444444,
              "#bd3786"
             ],
             [
              0.5555555555555556,
              "#d8576b"
             ],
             [
              0.6666666666666666,
              "#ed7953"
             ],
             [
              0.7777777777777778,
              "#fb9f3a"
             ],
             [
              0.8888888888888888,
              "#fdca26"
             ],
             [
              1,
              "#f0f921"
             ]
            ],
            "type": "surface"
           }
          ],
          "table": [
           {
            "cells": {
             "fill": {
              "color": "#EBF0F8"
             },
             "line": {
              "color": "white"
             }
            },
            "header": {
             "fill": {
              "color": "#C8D4E3"
             },
             "line": {
              "color": "white"
             }
            },
            "type": "table"
           }
          ]
         },
         "layout": {
          "annotationdefaults": {
           "arrowcolor": "#2a3f5f",
           "arrowhead": 0,
           "arrowwidth": 1
          },
          "autotypenumbers": "strict",
          "coloraxis": {
           "colorbar": {
            "outlinewidth": 0,
            "ticks": ""
           }
          },
          "colorscale": {
           "diverging": [
            [
             0,
             "#8e0152"
            ],
            [
             0.1,
             "#c51b7d"
            ],
            [
             0.2,
             "#de77ae"
            ],
            [
             0.3,
             "#f1b6da"
            ],
            [
             0.4,
             "#fde0ef"
            ],
            [
             0.5,
             "#f7f7f7"
            ],
            [
             0.6,
             "#e6f5d0"
            ],
            [
             0.7,
             "#b8e186"
            ],
            [
             0.8,
             "#7fbc41"
            ],
            [
             0.9,
             "#4d9221"
            ],
            [
             1,
             "#276419"
            ]
           ],
           "sequential": [
            [
             0,
             "#0d0887"
            ],
            [
             0.1111111111111111,
             "#46039f"
            ],
            [
             0.2222222222222222,
             "#7201a8"
            ],
            [
             0.3333333333333333,
             "#9c179e"
            ],
            [
             0.4444444444444444,
             "#bd3786"
            ],
            [
             0.5555555555555556,
             "#d8576b"
            ],
            [
             0.6666666666666666,
             "#ed7953"
            ],
            [
             0.7777777777777778,
             "#fb9f3a"
            ],
            [
             0.8888888888888888,
             "#fdca26"
            ],
            [
             1,
             "#f0f921"
            ]
           ],
           "sequentialminus": [
            [
             0,
             "#0d0887"
            ],
            [
             0.1111111111111111,
             "#46039f"
            ],
            [
             0.2222222222222222,
             "#7201a8"
            ],
            [
             0.3333333333333333,
             "#9c179e"
            ],
            [
             0.4444444444444444,
             "#bd3786"
            ],
            [
             0.5555555555555556,
             "#d8576b"
            ],
            [
             0.6666666666666666,
             "#ed7953"
            ],
            [
             0.7777777777777778,
             "#fb9f3a"
            ],
            [
             0.8888888888888888,
             "#fdca26"
            ],
            [
             1,
             "#f0f921"
            ]
           ]
          },
          "colorway": [
           "#636efa",
           "#EF553B",
           "#00cc96",
           "#ab63fa",
           "#FFA15A",
           "#19d3f3",
           "#FF6692",
           "#B6E880",
           "#FF97FF",
           "#FECB52"
          ],
          "font": {
           "color": "#2a3f5f"
          },
          "geo": {
           "bgcolor": "white",
           "lakecolor": "white",
           "landcolor": "#E5ECF6",
           "showlakes": true,
           "showland": true,
           "subunitcolor": "white"
          },
          "hoverlabel": {
           "align": "left"
          },
          "hovermode": "closest",
          "mapbox": {
           "style": "light"
          },
          "paper_bgcolor": "white",
          "plot_bgcolor": "#E5ECF6",
          "polar": {
           "angularaxis": {
            "gridcolor": "white",
            "linecolor": "white",
            "ticks": ""
           },
           "bgcolor": "#E5ECF6",
           "radialaxis": {
            "gridcolor": "white",
            "linecolor": "white",
            "ticks": ""
           }
          },
          "scene": {
           "xaxis": {
            "backgroundcolor": "#E5ECF6",
            "gridcolor": "white",
            "gridwidth": 2,
            "linecolor": "white",
            "showbackground": true,
            "ticks": "",
            "zerolinecolor": "white"
           },
           "yaxis": {
            "backgroundcolor": "#E5ECF6",
            "gridcolor": "white",
            "gridwidth": 2,
            "linecolor": "white",
            "showbackground": true,
            "ticks": "",
            "zerolinecolor": "white"
           },
           "zaxis": {
            "backgroundcolor": "#E5ECF6",
            "gridcolor": "white",
            "gridwidth": 2,
            "linecolor": "white",
            "showbackground": true,
            "ticks": "",
            "zerolinecolor": "white"
           }
          },
          "shapedefaults": {
           "line": {
            "color": "#2a3f5f"
           }
          },
          "ternary": {
           "aaxis": {
            "gridcolor": "white",
            "linecolor": "white",
            "ticks": ""
           },
           "baxis": {
            "gridcolor": "white",
            "linecolor": "white",
            "ticks": ""
           },
           "bgcolor": "#E5ECF6",
           "caxis": {
            "gridcolor": "white",
            "linecolor": "white",
            "ticks": ""
           }
          },
          "title": {
           "x": 0.05
          },
          "xaxis": {
           "automargin": true,
           "gridcolor": "white",
           "linecolor": "white",
           "ticks": "",
           "title": {
            "standoff": 15
           },
           "zerolinecolor": "white",
           "zerolinewidth": 2
          },
          "yaxis": {
           "automargin": true,
           "gridcolor": "white",
           "linecolor": "white",
           "ticks": "",
           "title": {
            "standoff": 15
           },
           "zerolinecolor": "white",
           "zerolinewidth": 2
          }
         }
        },
        "title": {
         "text": "Sequence Length Distribution: Train vs Validation"
        },
        "xaxis": {
         "anchor": "y",
         "domain": [
          0,
          1
         ],
         "title": {
          "text": "length"
         }
        },
        "yaxis": {
         "anchor": "x",
         "domain": [
          0,
          1
         ],
         "title": {
          "text": "count"
         }
        }
       }
      }
     },
     "metadata": {},
     "output_type": "display_data"
    }
   ],
   "source": [
    "def get_set_sequences_lengths(set:DF, name:str) -> DF:\n",
    "    return (\n",
    "        set\n",
    "        .groupby(\"sequence_id\", observed=True)\n",
    "        .size()\n",
    "        .reset_index(name=\"length\")\n",
    "        .assign(set=name)\n",
    "    )\n",
    "\n",
    "full_se_lengths = pd.concat((\n",
    "    get_set_sequences_lengths(folds[2][0], \"Train\"),\n",
    "    get_set_sequences_lengths(folds[2][1], \"Validation\"),\n",
    "))\n",
    "\n",
    "fig = px.histogram(\n",
    "    full_se_lengths,\n",
    "    x=\"length\",\n",
    "    color=\"set\",\n",
    "    barmode=\"overlay\",  # or 'group' if you want side-by-side bars\n",
    "    nbins=50,           # adjust bin size if needed\n",
    "    title=\"Sequence Length Distribution: Train vs Validation\"\n",
    ")\n",
    "\n",
    "fig.update_traces(opacity=0.8)  # better visibility with overlay\n",
    "fig.show()\n"
   ]
  },
  {
   "cell_type": "code",
   "execution_count": null,
   "id": "c1d46756",
   "metadata": {},
   "outputs": [
    {
     "name": "stdout",
     "output_type": "stream",
     "text": [
      "train normed sequence len: 125\n",
      "validation normed sequence len: 130\n",
      "\n",
      "train normed sequence len: 126\n",
      "validation normed sequence len: 127\n",
      "\n",
      "train normed sequence len: 131\n",
      "validation normed sequence len: 114\n",
      "\n",
      "train normed sequence len: 125\n",
      "validation normed sequence len: 135\n",
      "\n",
      "train normed sequence len: 125\n",
      "validation normed sequence len: 136\n",
      "\n"
     ]
    }
   ],
   "source": [
    "for train, val in folds:\n",
    "    print(\"train normed sequence len:\", int(train.groupby(\"sequence_id\", observed=True).size().quantile(SEQUENCE_NORMED_LEN_QUANTILE)))\n",
    "    print(\"validation normed sequence len:\", int(val.groupby(\"sequence_id\", observed=True).size().quantile(SEQUENCE_NORMED_LEN_QUANTILE)))\n",
    "    print()"
   ]
  },
  {
   "cell_type": "markdown",
   "id": "c89d5f21",
   "metadata": {},
   "source": [
    "#### Sequence length norm implementation"
   ]
  },
  {
   "cell_type": "code",
   "execution_count": null,
   "id": "5d128055",
   "metadata": {},
   "outputs": [
    {
     "data": {
      "application/vnd.jupyter.widget-view+json": {
       "model_id": "291cfd3bdbce4597a16bd1b8db0355ef",
       "version_major": 2,
       "version_minor": 0
      },
      "text/plain": [
       "  0%|          | 0/6567 [00:00<?, ?it/s]"
      ]
     },
     "metadata": {},
     "output_type": "display_data"
    },
    {
     "data": {
      "application/vnd.jupyter.widget-view+json": {
       "model_id": "98ff6198dc224970aa3598eb756f3ea9",
       "version_major": 2,
       "version_minor": 0
      },
      "text/plain": [
       "  0%|          | 0/1584 [00:00<?, ?it/s]"
      ]
     },
     "metadata": {},
     "output_type": "display_data"
    },
    {
     "data": {
      "application/vnd.jupyter.widget-view+json": {
       "model_id": "0d315b8059214298820db4e35898f902",
       "version_major": 2,
       "version_minor": 0
      },
      "text/plain": [
       "  0%|          | 0/6576 [00:00<?, ?it/s]"
      ]
     },
     "metadata": {},
     "output_type": "display_data"
    },
    {
     "data": {
      "application/vnd.jupyter.widget-view+json": {
       "model_id": "94e8016d28d8499583018a88bc6f6314",
       "version_major": 2,
       "version_minor": 0
      },
      "text/plain": [
       "  0%|          | 0/1575 [00:00<?, ?it/s]"
      ]
     },
     "metadata": {},
     "output_type": "display_data"
    },
    {
     "data": {
      "application/vnd.jupyter.widget-view+json": {
       "model_id": "2c01cc175d614f67864dd4a84e82a9e3",
       "version_major": 2,
       "version_minor": 0
      },
      "text/plain": [
       "  0%|          | 0/6519 [00:00<?, ?it/s]"
      ]
     },
     "metadata": {},
     "output_type": "display_data"
    },
    {
     "data": {
      "application/vnd.jupyter.widget-view+json": {
       "model_id": "f694ff41e333425c99da4c9d38594b04",
       "version_major": 2,
       "version_minor": 0
      },
      "text/plain": [
       "  0%|          | 0/1632 [00:00<?, ?it/s]"
      ]
     },
     "metadata": {},
     "output_type": "display_data"
    },
    {
     "data": {
      "application/vnd.jupyter.widget-view+json": {
       "model_id": "dbc34cd4819a474baaacbc21b48d3249",
       "version_major": 2,
       "version_minor": 0
      },
      "text/plain": [
       "  0%|          | 0/6576 [00:00<?, ?it/s]"
      ]
     },
     "metadata": {},
     "output_type": "display_data"
    },
    {
     "data": {
      "application/vnd.jupyter.widget-view+json": {
       "model_id": "b5965f298ff44d7b8d2181de5e6d158f",
       "version_major": 2,
       "version_minor": 0
      },
      "text/plain": [
       "  0%|          | 0/1575 [00:00<?, ?it/s]"
      ]
     },
     "metadata": {},
     "output_type": "display_data"
    },
    {
     "data": {
      "application/vnd.jupyter.widget-view+json": {
       "model_id": "2d07ea42de90445fab9ca1a6895fe725",
       "version_major": 2,
       "version_minor": 0
      },
      "text/plain": [
       "  0%|          | 0/6571 [00:00<?, ?it/s]"
      ]
     },
     "metadata": {},
     "output_type": "display_data"
    },
    {
     "data": {
      "application/vnd.jupyter.widget-view+json": {
       "model_id": "b53840bedab347ae8db9443249de587d",
       "version_major": 2,
       "version_minor": 0
      },
      "text/plain": [
       "  0%|          | 0/1580 [00:00<?, ?it/s]"
      ]
     },
     "metadata": {},
     "output_type": "display_data"
    }
   ],
   "source": [
    "gesture_cols = df[\"gesture\"].unique()\n",
    "\n",
    "def length_normed_sequence_feat_arr(sequence: DF, normed_sequence_len: int) -> ndarray:\n",
    "    features = (\n",
    "        sequence\n",
    "        .loc[:, feature_cols]\n",
    "        .values\n",
    "    )\n",
    "    len_diff = abs(normed_sequence_len - len(features))\n",
    "    if len(features) < normed_sequence_len:\n",
    "        padded_features = np.pad(\n",
    "            features,\n",
    "            ((len_diff // 2 + len_diff % 2, len_diff // 2), (0, 0)),\n",
    "        )\n",
    "        return padded_features\n",
    "    elif len(features) > normed_sequence_len:\n",
    "        return features[len_diff // 2:-len_diff // 2]\n",
    "    else:\n",
    "        return features\n",
    "\n",
    "def df_to_ndarrays(df:DF, normed_sequence_len:int) -> tuple[np.ndarray, np.ndarray]:\n",
    "    sequence_it = df.groupby(\"sequence_id\", observed=True, as_index=False)\n",
    "    x = np.empty(\n",
    "        shape=(len(sequence_it), normed_sequence_len, len(feature_cols)),\n",
    "        dtype=\"float32\"\n",
    "    )\n",
    "    y = np.empty(\n",
    "        shape=(len(sequence_it), df[\"gesture\"].nunique()),\n",
    "        dtype=\"float32\"\n",
    "    )\n",
    "    for sequence_idx, (_, sequence) in tqdm(enumerate(sequence_it), total=len(sequence_it)):\n",
    "        normed_seq_feat_arr = length_normed_sequence_feat_arr(sequence, normed_sequence_len)\n",
    "        x[sequence_idx] = normed_seq_feat_arr\n",
    "        # Take the first value as they are(or at least should be) all the same in a single sequence\n",
    "        y[sequence_idx] = sequence[gesture_cols].iloc[0].values\n",
    "\n",
    "    return x, y\n",
    "\n",
    "def get_normed_seq_len(dataset:DF) -> int:\n",
    "    return int(\n",
    "        dataset\n",
    "        .groupby(\"sequence_id\", observed=True)\n",
    "        .size()\n",
    "        .quantile(SEQUENCE_NORMED_LEN_QUANTILE)\n",
    "    )\n",
    "\n",
    "def fold_dfs_to_ndarrays(train:DF, validation:DF) -> tuple[ndarray, ndarray, ndarray, ndarray]:\n",
    "    \"\"\"\n",
    "    Returns:\n",
    "        (train X, train Y, validation X, validation Y)\n",
    "    \"\"\"\n",
    "    normed_sequence_len = get_normed_seq_len(train)\n",
    "    return (\n",
    "        *df_to_ndarrays(train, normed_sequence_len),\n",
    "        *df_to_ndarrays(validation, normed_sequence_len),\n",
    "    )\n",
    "\n",
    "folds_arrs = list(starmap(fold_dfs_to_ndarrays, folds))"
   ]
  },
  {
   "cell_type": "code",
   "execution_count": null,
   "id": "80490c33",
   "metadata": {},
   "outputs": [
    {
     "data": {
      "application/vnd.jupyter.widget-view+json": {
       "model_id": "da85bdb036d04d5eb3e1735c096a3940",
       "version_major": 2,
       "version_minor": 0
      },
      "text/plain": [
       "  0%|          | 0/8151 [00:00<?, ?it/s]"
      ]
     },
     "metadata": {},
     "output_type": "display_data"
    }
   ],
   "source": [
    "full_dataset_sequence_length_norm = get_normed_seq_len(df)\n",
    "full_x, full_y = df_to_ndarrays(df, full_dataset_sequence_length_norm)"
   ]
  },
  {
   "cell_type": "markdown",
   "id": "b99f60c2",
   "metadata": {},
   "source": [
    "## Create dataset"
   ]
  },
  {
   "cell_type": "code",
   "execution_count": null,
   "id": "a46b79b2",
   "metadata": {},
   "outputs": [],
   "source": [
    "# Clean dataset directory if it already exists\n",
    "! rm -rf preprocessed_dataset\n",
    "# Create dataset direcory\n",
    "! mkdir preprocessed_dataset\n",
    "# Save folds\n",
    "for fold_i, (train_x, train_y, val_x, val_y) in enumerate(folds_arrs):\n",
    "    fold_dir_path = join(\"preprocessed_dataset\", f\"fold_{fold_i}\")\n",
    "    os.makedirs(fold_dir_path)\n",
    "    # save features (X)\n",
    "    np.save(join(fold_dir_path, \"train_X.npy\"), train_x, allow_pickle=False)\n",
    "    np.save(join(fold_dir_path, \"validation_X.npy\"), val_x, allow_pickle=False)\n",
    "    # Save targets (Y)\n",
    "    np.save(join(fold_dir_path, \"train_Y.npy\"), train_y, allow_pickle=False)\n",
    "    np.save(join(fold_dir_path, \"validation_Y.npy\"), val_y, allow_pickle=False)\n",
    "# Save full dataset\n",
    "full_dataset_dir_path = \"preprocessed_dataset/full_dataset\"\n",
    "os.makedirs(full_dataset_dir_path)\n",
    "np.save(join(full_dataset_dir_path, \"X.npy\"), full_x, allow_pickle=False)\n",
    "np.save(join(full_dataset_dir_path, \"Y.npy\"), full_y, allow_pickle=False)\n",
    "# Save dataset meta data\n",
    "full_dataset_meta_data[\"target_names\"] = one_hot_target.columns.to_list()\n",
    "full_dataset_meta_data[\"pad_seq_len\"] = full_dataset_sequence_length_norm\n",
    "full_dataset_meta_data[\"feature_cols\"] = feature_cols\n",
    "\n",
    "with open(\"preprocessed_dataset/full_dataset_meta_data.json\", \"w\") as fp:\n",
    "    json.dump(full_dataset_meta_data, fp, indent=4)"
   ]
  },
  {
   "cell_type": "code",
   "execution_count": null,
   "id": "0b77ea50",
   "metadata": {},
   "outputs": [
    {
     "data": {
      "text/html": [
       "<div>\n",
       "<style scoped>\n",
       "    .dataframe tbody tr th:only-of-type {\n",
       "        vertical-align: middle;\n",
       "    }\n",
       "\n",
       "    .dataframe tbody tr th {\n",
       "        vertical-align: top;\n",
       "    }\n",
       "\n",
       "    .dataframe thead th {\n",
       "        text-align: right;\n",
       "    }\n",
       "</style>\n",
       "<table border=\"1\" class=\"dataframe\">\n",
       "  <thead>\n",
       "    <tr style=\"text-align: right;\">\n",
       "      <th></th>\n",
       "      <th>gravity_free_acc_z</th>\n",
       "      <th>rot_w</th>\n",
       "      <th>euler_x</th>\n",
       "      <th>tof_5</th>\n",
       "      <th>tof_2</th>\n",
       "      <th>gravity_free_acc_x</th>\n",
       "      <th>acc_z</th>\n",
       "      <th>euler_z</th>\n",
       "      <th>thm_4</th>\n",
       "      <th>thm_2</th>\n",
       "      <th>...</th>\n",
       "      <th>thm_3</th>\n",
       "      <th>gravity_free_acc_y</th>\n",
       "      <th>tof_1</th>\n",
       "      <th>euler_y</th>\n",
       "      <th>rot_z</th>\n",
       "      <th>rot_y</th>\n",
       "      <th>acc_y</th>\n",
       "      <th>tof_4</th>\n",
       "      <th>rot_x</th>\n",
       "      <th>tof_3</th>\n",
       "    </tr>\n",
       "  </thead>\n",
       "  <tbody>\n",
       "    <tr>\n",
       "      <th>0</th>\n",
       "      <td>-0.191143</td>\n",
       "      <td>-0.997151</td>\n",
       "      <td>0.191240</td>\n",
       "      <td>0.404678</td>\n",
       "      <td>0.148727</td>\n",
       "      <td>0.921929</td>\n",
       "      <td>0.625816</td>\n",
       "      <td>0.339185</td>\n",
       "      <td>0.367246</td>\n",
       "      <td>1.184774</td>\n",
       "      <td>...</td>\n",
       "      <td>0.633442</td>\n",
       "      <td>0.378283</td>\n",
       "      <td>0.339571</td>\n",
       "      <td>0.883372</td>\n",
       "      <td>-1.238540</td>\n",
       "      <td>-0.716343</td>\n",
       "      <td>0.884130</td>\n",
       "      <td>-0.016778</td>\n",
       "      <td>-0.508525</td>\n",
       "      <td>-0.454938</td>\n",
       "    </tr>\n",
       "    <tr>\n",
       "      <th>1</th>\n",
       "      <td>-0.239701</td>\n",
       "      <td>-0.957737</td>\n",
       "      <td>0.150843</td>\n",
       "      <td>0.433771</td>\n",
       "      <td>0.199531</td>\n",
       "      <td>0.935808</td>\n",
       "      <td>0.588012</td>\n",
       "      <td>0.297587</td>\n",
       "      <td>0.386687</td>\n",
       "      <td>1.197089</td>\n",
       "      <td>...</td>\n",
       "      <td>0.681437</td>\n",
       "      <td>0.441917</td>\n",
       "      <td>0.349948</td>\n",
       "      <td>0.860138</td>\n",
       "      <td>-1.267920</td>\n",
       "      <td>-0.681840</td>\n",
       "      <td>0.884130</td>\n",
       "      <td>0.002596</td>\n",
       "      <td>-0.476437</td>\n",
       "      <td>-0.337148</td>\n",
       "    </tr>\n",
       "    <tr>\n",
       "      <th>2</th>\n",
       "      <td>0.018062</td>\n",
       "      <td>-0.630264</td>\n",
       "      <td>-0.047236</td>\n",
       "      <td>0.490583</td>\n",
       "      <td>0.371769</td>\n",
       "      <td>0.779645</td>\n",
       "      <td>0.964766</td>\n",
       "      <td>0.140441</td>\n",
       "      <td>0.423273</td>\n",
       "      <td>0.976524</td>\n",
       "      <td>...</td>\n",
       "      <td>0.741405</td>\n",
       "      <td>0.663317</td>\n",
       "      <td>0.398864</td>\n",
       "      <td>0.754947</td>\n",
       "      <td>-1.349747</td>\n",
       "      <td>-0.549352</td>\n",
       "      <td>0.723320</td>\n",
       "      <td>0.026308</td>\n",
       "      <td>-0.334147</td>\n",
       "      <td>0.022423</td>\n",
       "    </tr>\n",
       "    <tr>\n",
       "      <th>3</th>\n",
       "      <td>0.236127</td>\n",
       "      <td>-0.290093</td>\n",
       "      <td>-0.231340</td>\n",
       "      <td>0.532300</td>\n",
       "      <td>0.644067</td>\n",
       "      <td>0.839486</td>\n",
       "      <td>1.134561</td>\n",
       "      <td>-0.051374</td>\n",
       "      <td>0.484648</td>\n",
       "      <td>0.063125</td>\n",
       "      <td>...</td>\n",
       "      <td>0.584725</td>\n",
       "      <td>0.700636</td>\n",
       "      <td>0.621508</td>\n",
       "      <td>0.714206</td>\n",
       "      <td>-1.390175</td>\n",
       "      <td>-0.329928</td>\n",
       "      <td>0.347835</td>\n",
       "      <td>0.459197</td>\n",
       "      <td>-0.312448</td>\n",
       "      <td>0.543179</td>\n",
       "    </tr>\n",
       "    <tr>\n",
       "      <th>4</th>\n",
       "      <td>0.639598</td>\n",
       "      <td>-0.134027</td>\n",
       "      <td>-0.342103</td>\n",
       "      <td>0.684347</td>\n",
       "      <td>0.789974</td>\n",
       "      <td>0.600054</td>\n",
       "      <td>1.655481</td>\n",
       "      <td>-0.252579</td>\n",
       "      <td>0.592139</td>\n",
       "      <td>-0.353110</td>\n",
       "      <td>...</td>\n",
       "      <td>0.081696</td>\n",
       "      <td>0.487647</td>\n",
       "      <td>1.073910</td>\n",
       "      <td>0.418963</td>\n",
       "      <td>-1.447599</td>\n",
       "      <td>-0.007333</td>\n",
       "      <td>-0.302433</td>\n",
       "      <td>0.731018</td>\n",
       "      <td>-0.214344</td>\n",
       "      <td>0.870276</td>\n",
       "    </tr>\n",
       "    <tr>\n",
       "      <th>...</th>\n",
       "      <td>...</td>\n",
       "      <td>...</td>\n",
       "      <td>...</td>\n",
       "      <td>...</td>\n",
       "      <td>...</td>\n",
       "      <td>...</td>\n",
       "      <td>...</td>\n",
       "      <td>...</td>\n",
       "      <td>...</td>\n",
       "      <td>...</td>\n",
       "      <td>...</td>\n",
       "      <td>...</td>\n",
       "      <td>...</td>\n",
       "      <td>...</td>\n",
       "      <td>...</td>\n",
       "      <td>...</td>\n",
       "      <td>...</td>\n",
       "      <td>...</td>\n",
       "      <td>...</td>\n",
       "      <td>...</td>\n",
       "      <td>...</td>\n",
       "    </tr>\n",
       "    <tr>\n",
       "      <th>574940</th>\n",
       "      <td>-0.166781</td>\n",
       "      <td>-1.117506</td>\n",
       "      <td>1.457859</td>\n",
       "      <td>-1.044439</td>\n",
       "      <td>-0.829872</td>\n",
       "      <td>0.345242</td>\n",
       "      <td>-1.309212</td>\n",
       "      <td>-1.902655</td>\n",
       "      <td>0.854270</td>\n",
       "      <td>0.279611</td>\n",
       "      <td>...</td>\n",
       "      <td>0.292463</td>\n",
       "      <td>-1.541394</td>\n",
       "      <td>-1.001627</td>\n",
       "      <td>0.287935</td>\n",
       "      <td>0.070326</td>\n",
       "      <td>-0.759754</td>\n",
       "      <td>-0.444509</td>\n",
       "      <td>-0.929112</td>\n",
       "      <td>-1.601608</td>\n",
       "      <td>0.541703</td>\n",
       "    </tr>\n",
       "    <tr>\n",
       "      <th>574941</th>\n",
       "      <td>-0.249065</td>\n",
       "      <td>-1.100313</td>\n",
       "      <td>1.471826</td>\n",
       "      <td>-1.014798</td>\n",
       "      <td>-0.851557</td>\n",
       "      <td>0.390242</td>\n",
       "      <td>-1.434796</td>\n",
       "      <td>-1.902869</td>\n",
       "      <td>0.870208</td>\n",
       "      <td>0.311259</td>\n",
       "      <td>...</td>\n",
       "      <td>0.314339</td>\n",
       "      <td>-1.547135</td>\n",
       "      <td>-0.969906</td>\n",
       "      <td>0.326326</td>\n",
       "      <td>0.045559</td>\n",
       "      <td>-0.740360</td>\n",
       "      <td>-0.490566</td>\n",
       "      <td>-0.996778</td>\n",
       "      <td>-1.607920</td>\n",
       "      <td>0.533437</td>\n",
       "    </tr>\n",
       "    <tr>\n",
       "      <th>574942</th>\n",
       "      <td>-0.024379</td>\n",
       "      <td>-1.089203</td>\n",
       "      <td>1.470549</td>\n",
       "      <td>-0.963200</td>\n",
       "      <td>-0.925905</td>\n",
       "      <td>0.333282</td>\n",
       "      <td>-1.138775</td>\n",
       "      <td>-1.901584</td>\n",
       "      <td>0.848956</td>\n",
       "      <td>0.301660</td>\n",
       "      <td>...</td>\n",
       "      <td>0.299698</td>\n",
       "      <td>-1.418637</td>\n",
       "      <td>-1.037499</td>\n",
       "      <td>0.335326</td>\n",
       "      <td>0.041674</td>\n",
       "      <td>-0.741939</td>\n",
       "      <td>-0.314143</td>\n",
       "      <td>-1.002272</td>\n",
       "      <td>-1.605422</td>\n",
       "      <td>0.399410</td>\n",
       "    </tr>\n",
       "    <tr>\n",
       "      <th>574943</th>\n",
       "      <td>-0.223986</td>\n",
       "      <td>-1.070422</td>\n",
       "      <td>1.484620</td>\n",
       "      <td>-1.007662</td>\n",
       "      <td>-0.894307</td>\n",
       "      <td>0.433050</td>\n",
       "      <td>-1.414933</td>\n",
       "      <td>-1.901015</td>\n",
       "      <td>0.864896</td>\n",
       "      <td>0.389432</td>\n",
       "      <td>...</td>\n",
       "      <td>0.330572</td>\n",
       "      <td>-1.473273</td>\n",
       "      <td>-1.027123</td>\n",
       "      <td>0.374099</td>\n",
       "      <td>0.017150</td>\n",
       "      <td>-0.722432</td>\n",
       "      <td>-0.429677</td>\n",
       "      <td>-0.900484</td>\n",
       "      <td>-1.610813</td>\n",
       "      <td>0.467900</td>\n",
       "    </tr>\n",
       "    <tr>\n",
       "      <th>574944</th>\n",
       "      <td>-0.289351</td>\n",
       "      <td>-1.092377</td>\n",
       "      <td>1.483514</td>\n",
       "      <td>-1.001624</td>\n",
       "      <td>-0.881296</td>\n",
       "      <td>0.446904</td>\n",
       "      <td>-1.503996</td>\n",
       "      <td>-1.902905</td>\n",
       "      <td>0.872298</td>\n",
       "      <td>0.378849</td>\n",
       "      <td>...</td>\n",
       "      <td>0.314339</td>\n",
       "      <td>-1.565205</td>\n",
       "      <td>-0.994512</td>\n",
       "      <td>0.349115</td>\n",
       "      <td>0.030262</td>\n",
       "      <td>-0.724462</td>\n",
       "      <td>-0.544430</td>\n",
       "      <td>-0.895279</td>\n",
       "      <td>-1.613970</td>\n",
       "      <td>0.531666</td>\n",
       "    </tr>\n",
       "  </tbody>\n",
       "</table>\n",
       "<p>574945 rows × 23 columns</p>\n",
       "</div>"
      ],
      "text/plain": [
       "        gravity_free_acc_z     rot_w   euler_x     tof_5     tof_2  \\\n",
       "0                -0.191143 -0.997151  0.191240  0.404678  0.148727   \n",
       "1                -0.239701 -0.957737  0.150843  0.433771  0.199531   \n",
       "2                 0.018062 -0.630264 -0.047236  0.490583  0.371769   \n",
       "3                 0.236127 -0.290093 -0.231340  0.532300  0.644067   \n",
       "4                 0.639598 -0.134027 -0.342103  0.684347  0.789974   \n",
       "...                    ...       ...       ...       ...       ...   \n",
       "574940           -0.166781 -1.117506  1.457859 -1.044439 -0.829872   \n",
       "574941           -0.249065 -1.100313  1.471826 -1.014798 -0.851557   \n",
       "574942           -0.024379 -1.089203  1.470549 -0.963200 -0.925905   \n",
       "574943           -0.223986 -1.070422  1.484620 -1.007662 -0.894307   \n",
       "574944           -0.289351 -1.092377  1.483514 -1.001624 -0.881296   \n",
       "\n",
       "        gravity_free_acc_x     acc_z   euler_z     thm_4     thm_2  ...  \\\n",
       "0                 0.921929  0.625816  0.339185  0.367246  1.184774  ...   \n",
       "1                 0.935808  0.588012  0.297587  0.386687  1.197089  ...   \n",
       "2                 0.779645  0.964766  0.140441  0.423273  0.976524  ...   \n",
       "3                 0.839486  1.134561 -0.051374  0.484648  0.063125  ...   \n",
       "4                 0.600054  1.655481 -0.252579  0.592139 -0.353110  ...   \n",
       "...                    ...       ...       ...       ...       ...  ...   \n",
       "574940            0.345242 -1.309212 -1.902655  0.854270  0.279611  ...   \n",
       "574941            0.390242 -1.434796 -1.902869  0.870208  0.311259  ...   \n",
       "574942            0.333282 -1.138775 -1.901584  0.848956  0.301660  ...   \n",
       "574943            0.433050 -1.414933 -1.901015  0.864896  0.389432  ...   \n",
       "574944            0.446904 -1.503996 -1.902905  0.872298  0.378849  ...   \n",
       "\n",
       "           thm_3  gravity_free_acc_y     tof_1   euler_y     rot_z     rot_y  \\\n",
       "0       0.633442            0.378283  0.339571  0.883372 -1.238540 -0.716343   \n",
       "1       0.681437            0.441917  0.349948  0.860138 -1.267920 -0.681840   \n",
       "2       0.741405            0.663317  0.398864  0.754947 -1.349747 -0.549352   \n",
       "3       0.584725            0.700636  0.621508  0.714206 -1.390175 -0.329928   \n",
       "4       0.081696            0.487647  1.073910  0.418963 -1.447599 -0.007333   \n",
       "...          ...                 ...       ...       ...       ...       ...   \n",
       "574940  0.292463           -1.541394 -1.001627  0.287935  0.070326 -0.759754   \n",
       "574941  0.314339           -1.547135 -0.969906  0.326326  0.045559 -0.740360   \n",
       "574942  0.299698           -1.418637 -1.037499  0.335326  0.041674 -0.741939   \n",
       "574943  0.330572           -1.473273 -1.027123  0.374099  0.017150 -0.722432   \n",
       "574944  0.314339           -1.565205 -0.994512  0.349115  0.030262 -0.724462   \n",
       "\n",
       "           acc_y     tof_4     rot_x     tof_3  \n",
       "0       0.884130 -0.016778 -0.508525 -0.454938  \n",
       "1       0.884130  0.002596 -0.476437 -0.337148  \n",
       "2       0.723320  0.026308 -0.334147  0.022423  \n",
       "3       0.347835  0.459197 -0.312448  0.543179  \n",
       "4      -0.302433  0.731018 -0.214344  0.870276  \n",
       "...          ...       ...       ...       ...  \n",
       "574940 -0.444509 -0.929112 -1.601608  0.541703  \n",
       "574941 -0.490566 -0.996778 -1.607920  0.533437  \n",
       "574942 -0.314143 -1.002272 -1.605422  0.399410  \n",
       "574943 -0.429677 -0.900484 -1.610813  0.467900  \n",
       "574944 -0.544430 -0.895279 -1.613970  0.531666  \n",
       "\n",
       "[574945 rows x 23 columns]"
      ]
     },
     "execution_count": 22,
     "metadata": {},
     "output_type": "execute_result"
    }
   ],
   "source": [
    "df[feature_cols]"
   ]
  },
  {
   "cell_type": "markdown",
   "id": "b2775c75",
   "metadata": {},
   "source": [
    "## Dataset upload\n",
    "Optionally upload the dataset to kaggle."
   ]
  },
  {
   "cell_type": "code",
   "execution_count": null,
   "id": "d0b40895",
   "metadata": {},
   "outputs": [
    {
     "name": "stdout",
     "output_type": "stream",
     "text": [
      "Dataset has not been uploaded.\n"
     ]
    }
   ],
   "source": [
    "if input(\"Do you want to upload the  dataset to kaggle?[yes/no]\").lower() == \"yes\":\n",
    "    # Updaload the dataset\n",
    "    dataset_upload(\n",
    "        join(whoami()[\"username\"], \"prepocessed-cmi-2025\"),\n",
    "        \"preprocessed_dataset\",\n",
    "        version_notes=\"Preprocessed Child Mind Institue 2025 competition dataset.\"\n",
    "    )\n",
    "else:\n",
    "    print(\"Dataset has not been uploaded.\")"
   ]
  }
 ],
 "metadata": {
  "kernelspec": {
   "display_name": "CMI",
   "language": "python",
   "name": "python3"
  },
  "language_info": {
   "codemirror_mode": {
    "name": "ipython",
    "version": 3
   },
   "file_extension": ".py",
   "mimetype": "text/x-python",
   "name": "python",
   "nbconvert_exporter": "python",
   "pygments_lexer": "ipython3",
   "version": "3.11.5"
  }
 },
 "nbformat": 4,
 "nbformat_minor": 5
}
