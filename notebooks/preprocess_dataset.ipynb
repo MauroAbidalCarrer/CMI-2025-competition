{
 "cells": [
  {
   "cell_type": "markdown",
   "id": "7c1fbf88",
   "metadata": {},
   "source": [
    "# Dataset preprocessing\n",
    "\n",
    "The goal of this notebook is to create a preprocessed kaggle dataset out of the competition dataset.  \n",
    "For now, the preprocessing will be based on [this notebook](https://www.kaggle.com/code/vonmainstein/imu-tof).  \n",
    "It consists of the following steps:\n",
    "-   Set the appropriate dtypes (helps with RAM usage).\n",
    "-   Impute missing feature values with forward, backward and then 0 filling.\n",
    "-   Split the dataset into multiple cross validation folds.\n",
    "-   Standardize feature values.\n",
    "-   Pad/Truncate the sequences to the same length.  \n",
    "\n",
    "> Note:  \n",
    "> - Demographics data set will be ignored for now.  "
   ]
  },
  {
   "cell_type": "markdown",
   "id": "3e390dcd",
   "metadata": {},
   "source": [
    "## Setup"
   ]
  },
  {
   "cell_type": "markdown",
   "id": "67848297",
   "metadata": {},
   "source": [
    "### Imports"
   ]
  },
  {
   "cell_type": "code",
   "execution_count": 1,
   "id": "3b58565a",
   "metadata": {},
   "outputs": [],
   "source": [
    "import re\n",
    "import os\n",
    "import json\n",
    "import shutil\n",
    "import warnings\n",
    "from os.path import join\n",
    "from typing import Literal\n",
    "from functools import partial\n",
    "from tqdm.notebook import tqdm\n",
    "from itertools import repeat, starmap, product\n",
    "\n",
    "import numpy as np\n",
    "import pandas as pd\n",
    "from numpy import ndarray\n",
    "import plotly.express as px\n",
    "from numpy.linalg import norm\n",
    "from pandas import DataFrame as DF\n",
    "from scipy.spatial.transform import Rotation\n",
    "from sklearn.model_selection import StratifiedGroupKFold\n",
    "\n",
    "from kagglehub import whoami, competition_download, dataset_upload"
   ]
  },
  {
   "cell_type": "markdown",
   "id": "2102ea8c",
   "metadata": {},
   "source": [
    "### Supress performance warngings"
   ]
  },
  {
   "cell_type": "code",
   "execution_count": 2,
   "id": "fb820d2b",
   "metadata": {},
   "outputs": [],
   "source": [
    "warnings.filterwarnings(\n",
    "    \"ignore\",\n",
    "    message=(\n",
    "        \"DataFrame is highly fragmented.  This is usually the result of \"\n",
    "        \"calling `frame.insert` many times.*\"\n",
    "    ),\n",
    "    category=pd.errors.PerformanceWarning,\n",
    ")"
   ]
  },
  {
   "cell_type": "markdown",
   "id": "4386f64d",
   "metadata": {},
   "source": [
    "### Config"
   ]
  },
  {
   "cell_type": "code",
   "execution_count": 3,
   "id": "a522c427",
   "metadata": {},
   "outputs": [],
   "source": [
    "QUATERNION_COLS = ['rot_w', 'rot_x', 'rot_y', 'rot_z']\n",
    "GRAVITY_WORLD = np.array([0, 0, 9.81], \"float32\")\n",
    "RAW_ACCELRATION_COLS = [\"acc_x\", \"acc_y\", \"acc_z\"]\n",
    "LINEAR_ACC_COLS = [\"linear_\" + col for col in RAW_ACCELRATION_COLS] # Acceleration without gravity\n",
    "COMPETITION_HANDLE = \"cmi-detect-behavior-with-sensor-data\"\n",
    "CATEGORY_COLUMNS = [\n",
    "    'row_id',\n",
    "    'sequence_type',\n",
    "    'sequence_id',\n",
    "    'subject',\n",
    "    'orientation',\n",
    "    'behavior',\n",
    "    'phase',\n",
    "    'gesture',\n",
    "]\n",
    "META_DATA_COLUMNS = [\n",
    "    'row_id',\n",
    "    'sequence_type',\n",
    "    'sequence_id',\n",
    "    'sequence_counter',\n",
    "    'subject',\n",
    "    'orientation',\n",
    "    'behavior',\n",
    "    'phase',\n",
    "    'gesture',\n",
    "]\n",
    "DATASET_DF_DTYPES = {\n",
    "    \"acc_x\": \"float32\", \"acc_y\": \"float32\", \"acc_z\": \"float32\",\n",
    "    \"thm_1\":\"float32\", \"thm_2\":\"float32\", \"thm_3\":\"float32\", \"thm_4\":\"float32\", \"thm_5\":\"float32\",\n",
    "    \"sequence_counter\": \"int32\",\n",
    "    **{col: \"category\" for col in CATEGORY_COLUMNS},\n",
    "    **{f\"tof_{i_1}_v{i_2}\": \"float32\" for i_1, i_2 in product(range(1, 5), range(64))},\n",
    "}\n",
    "PREPROCESSED_DATASET_HANDLE = \"mauroabidalcarrer/prepocessed-cmi-2025\"\n",
    "# The quantile of the sequences len used to pad/truncate during preprocessing\n",
    "SEQUENCE_NORMED_LEN_QUANTILE = 0.95\n",
    "# SAMPLING_FREQUENCY = 10 #Hz\n",
    "N_FOLDS = 5\n",
    "VALIDATION_FRACTION = 0.2\n",
    "TARGET_NAMES = sorted([\n",
    "    \"Above ear - pull hair\",\n",
    "    \"Cheek - pinch skin\",\n",
    "    \"Eyebrow - pull hair\",\n",
    "    \"Eyelash - pull hair\",\n",
    "    \"Feel around in tray and pull out an object\",\n",
    "    \"Forehead - pull hairline\",\n",
    "    \"Forehead - scratch\",\n",
    "    \"Neck - pinch skin\",\n",
    "    \"Neck - scratch\",\n",
    "    \"Text on phone\",\n",
    "    \"Wave hello\",\n",
    "    \"Write name in air\",\n",
    "    \"Write name on leg\",\n",
    "    \"Drink from bottle/cup\",\n",
    "    \"Pinch knee/leg skin\",\n",
    "    \"Pull air toward your face\",\n",
    "    \"Scratch knee/leg skin\",\n",
    "    \"Glasses on/off\"\n",
    "])\n",
    "EPSILON=1e-8\n",
    "DELTA_ROTATION_ANGULAR_VELOCITY_COLS = [\"angular_vel_x\", \"angular_vel_y\", \"angular_vel_z\"]\n",
    "DELTA_ROTATION_AXES_COLS = [\"rotation_axis_x\", \"rotation_axis_y\", \"rotation_axis_z\"]\n",
    "EULER_ANGLES_COLS = [\"euler_x\", \"euler_y\", \"euler_z\"]\n",
    "pad_trunc_mode_type = Literal[\"pre\", \"center\", \"post\"]\n",
    "SEQ_PAD_TRUNC_MODE: pad_trunc_mode_type = \"pre\"\n",
    "DEFAULT_VERSION_NOTES = \"Preprocessed Child Mind Institue 2025 competition dataset.\"\n",
    "NB_COLS_PER_TOF_SENSOR = 64\n",
    "TOF_PATCH_SIZE = 2\n",
    "assert ((NB_COLS_PER_TOF_SENSOR // 2) % TOF_PATCH_SIZE) == 0, \"tof side len should be dividable by TOF_PATCH_SIZE!\""
   ]
  },
  {
   "cell_type": "markdown",
   "id": "f27f6677",
   "metadata": {},
   "source": [
    "### Define function to get the feature columns\n",
    "Feature columns change over time so it's better to have a function to get them than manually update a variable every time we add/remove features."
   ]
  },
  {
   "cell_type": "code",
   "execution_count": 4,
   "id": "e2db0953",
   "metadata": {},
   "outputs": [],
   "source": [
    "def get_feature_cols(df:DF) -> list[str]:\n",
    "    return sorted(list(set(df.columns) - set(META_DATA_COLUMNS) - set(TARGET_NAMES)))"
   ]
  },
  {
   "cell_type": "markdown",
   "id": "773eda72",
   "metadata": {},
   "source": [
    "### Load dataset\n",
    "Requires to be logged in if this notebook is not running on kaggle, go to [your settings](https://www.kaggle.com/settings) to create an access token and put it in `~/.kaggle/`."
   ]
  },
  {
   "cell_type": "code",
   "execution_count": 5,
   "id": "58b8bc22",
   "metadata": {},
   "outputs": [],
   "source": [
    "competition_dataset_path = competition_download(COMPETITION_HANDLE)\n",
    "df = pd.read_csv(join(competition_dataset_path, \"train.csv\"), dtype=DATASET_DF_DTYPES)"
   ]
  },
  {
   "cell_type": "markdown",
   "id": "c1924ec0",
   "metadata": {},
   "source": [
    "## Data preprocessing"
   ]
  },
  {
   "cell_type": "markdown",
   "id": "7aea88de",
   "metadata": {},
   "source": [
    "### Impute missing data\n",
    "Perform forward, backward and then filling of all NaN sequences."
   ]
  },
  {
   "cell_type": "code",
   "execution_count": 6,
   "id": "c2f0db28",
   "metadata": {},
   "outputs": [],
   "source": [
    "# Missing ToF values are already imputed by -1 which is inconvinient since we want all missing values to be NaN.    \n",
    "# So we replace them by NaN and then perform imputing.\n",
    "def get_fillna_val_per_feature_col(df:DF) -> dict:\n",
    "    return {col: 1.0 if col == 'rot_w' else 0 for col in get_feature_cols(df)}\n",
    "\n",
    "def imputed_features(df:DF) -> DF:\n",
    "    # Missing ToF values are already imputed by -1 which is inconvinient since we want all missing values to be NaN.    \n",
    "    # So we replace them by NaN and then perform imputing.  \n",
    "    tof_vals_to_nan = {col: -1.0 for col in df.columns if col.startswith(\"tof\")}\n",
    "    # fillna_val_per_col = {col: 1.0 if col == 'rot_w' else 0 for col in df.columns}\n",
    "\n",
    "    df[get_feature_cols(df)] = (\n",
    "        df\n",
    "        .loc[:, get_feature_cols(df)]\n",
    "        # df.replace with np.nan sets dtype to floar64 so we set it back to float32\n",
    "        .replace(tof_vals_to_nan, value=np.nan)\n",
    "        .astype(\"float32\")\n",
    "        .groupby(df[\"sequence_id\"], observed=True, as_index=False)\n",
    "        .ffill()\n",
    "        .groupby(df[\"sequence_id\"], observed=True, as_index=False)\n",
    "        .bfill()\n",
    "        # In case there are only nan in the column in the sequence\n",
    "        .fillna(get_fillna_val_per_feature_col(df))\n",
    "    )\n",
    "    return df\n",
    "\n",
    "df = imputed_features(df)"
   ]
  },
  {
   "cell_type": "markdown",
   "id": "7bba456e",
   "metadata": {},
   "source": [
    "### Standardize ToF sensors columns names\n",
    "ToF sensors have `tof_{sensor_idx}_v{sensor_captor_idx}` nomenclature where `sensor_captor_idx` can be 1 digit if it's less than 10 or two if it's more.   \n",
    "When sorting the features in alphabetical order the tof_x_v10 will end up before tof_x_v2.  \n",
    "This in turn can cause issues if we try to reshape the input data to form a 3d input.  \n",
    "To fix this we simply insert a 0 before the digit in the `sensor_captor_idx` lower than 10.  "
   ]
  },
  {
   "cell_type": "code",
   "execution_count": 7,
   "id": "0486ebfe",
   "metadata": {},
   "outputs": [],
   "source": [
    "def standardize_tof_cols_names(df: DF) -> DF:\n",
    "    renamed_cols = {}\n",
    "    pattern = re.compile(r\"^(tof_\\d_v)(\\d)$\")  # match 'tof_X_vY' where Y is a single digit\n",
    "\n",
    "    for col in df.columns:\n",
    "        match = pattern.match(col)\n",
    "        if match:\n",
    "            prefix, version = match.groups()\n",
    "            new_col = f\"{prefix}0{version}\"\n",
    "            renamed_cols[col] = new_col\n",
    "\n",
    "    return df.rename(columns=renamed_cols)\n",
    "\n",
    "df = standardize_tof_cols_names(df)"
   ]
  },
  {
   "cell_type": "markdown",
   "id": "ad044a52",
   "metadata": {},
   "source": [
    "### Norm quaternions\n",
    "This allows us to parse quaternions with `scipy.spatial.transform.Rotation`."
   ]
  },
  {
   "cell_type": "code",
   "execution_count": 8,
   "id": "c99bce0b",
   "metadata": {},
   "outputs": [],
   "source": [
    "def norm_quat_rotations(df:DF) -> DF:\n",
    "    df[QUATERNION_COLS] /= np.linalg.norm(df[QUATERNION_COLS], axis=1, keepdims=True)\n",
    "    return df"
   ]
  },
  {
   "cell_type": "markdown",
   "id": "606a87c4",
   "metadata": {},
   "source": [
    "### Linear acceleration\n",
    "Remove gravity from the acceleration features."
   ]
  },
  {
   "cell_type": "code",
   "execution_count": 9,
   "id": "5d87de25",
   "metadata": {},
   "outputs": [],
   "source": [
    "# Removes gravity from the acceleration features\n",
    "def add_linear_acc_cols(df:DF) -> DF:\n",
    "    # Vectorized version of https://www.kaggle.com/code/wasupandceacar/lb-0-82-5fold-single-bert-model#Dataset `remove_gravity_from_acc`\n",
    "    rotations:Rotation = Rotation.from_quat(df[QUATERNION_COLS])\n",
    "    gravity_sensor_frame = rotations.apply(GRAVITY_WORLD, inverse=True).astype(\"float32\")\n",
    "    df[LINEAR_ACC_COLS] = df[RAW_ACCELRATION_COLS] - gravity_sensor_frame\n",
    "    return df\n",
    "\n",
    "df = add_linear_acc_cols(df)"
   ]
  },
  {
   "cell_type": "markdown",
   "id": "f1d709e7",
   "metadata": {},
   "source": [
    "### Accelerations magnitudes\n",
    "Add magnitue (norm) of both  raw acceleration and linear accelration."
   ]
  },
  {
   "cell_type": "code",
   "execution_count": 10,
   "id": "9fdf04ef",
   "metadata": {},
   "outputs": [],
   "source": [
    "def add_acc_magnitude(df:DF, acc_cols:list[str], acc_mag_col_name:str) -> DF:\n",
    "    return df.assign(**{acc_mag_col_name: np.linalg.norm(df.loc[:, acc_cols], axis=1)})\n",
    "\n",
    "df = add_acc_magnitude(df, RAW_ACCELRATION_COLS, \"acc_mag\")\n",
    "df = add_acc_magnitude(df, LINEAR_ACC_COLS, \"linear_acc_mag\")"
   ]
  },
  {
   "cell_type": "markdown",
   "id": "7d92b38a",
   "metadata": {},
   "source": [
    "### Quaternion angle magnitude\n",
    "Refered to as \"rotation angle\" in top notebooks."
   ]
  },
  {
   "cell_type": "code",
   "execution_count": 11,
   "id": "79aac44c",
   "metadata": {},
   "outputs": [],
   "source": [
    "def add_quat_angle_mag(df:DF) -> DF:\n",
    "    return df.assign(quat_rot_mag=np.arccos(df[\"rot_w\"]) * 2)\n",
    "\n",
    "df = add_quat_angle_mag(df)"
   ]
  },
  {
   "cell_type": "markdown",
   "id": "7127f2da",
   "metadata": {},
   "source": [
    "### Angular velocity\n",
    "Compute the axis of the rotation difference and its angular magnutide.  \n",
    "Top notebooks scale the vector by the angular magnitude.  \n",
    "I will also include the magnitude and unit axis vector in case they turn out to be more informative.   "
   ]
  },
  {
   "cell_type": "code",
   "execution_count": 12,
   "id": "9c6cf592",
   "metadata": {},
   "outputs": [],
   "source": [
    "def add_angular_velocity_features(df:DF) -> DF:\n",
    "    rotations = Rotation.from_quat(df[QUATERNION_COLS])\n",
    "    delta_rotations = rotations[1:] * rotations[:-1].inv()\n",
    "    delta_rot_velocity = delta_rotations.as_rotvec()\n",
    "    # Add extra line to avoid shape mismatch\n",
    "    delta_rot_velocity = np.vstack((np.zeros((1, 3)), delta_rot_velocity))\n",
    "    delta_rot_magnitude = norm(delta_rot_velocity, axis=1, keepdims=True)\n",
    "    delta_rot_axes = delta_rot_velocity / (delta_rot_magnitude + EPSILON)\n",
    "    df[DELTA_ROTATION_ANGULAR_VELOCITY_COLS] = delta_rot_velocity\n",
    "    df[DELTA_ROTATION_AXES_COLS] = delta_rot_axes\n",
    "    df[\"delta_rot_mag\"] = delta_rot_magnitude.squeeze()\n",
    "\n",
    "    return df\n",
    "\n",
    "df = add_angular_velocity_features(df)"
   ]
  },
  {
   "cell_type": "markdown",
   "id": "6ae43d1a",
   "metadata": {},
   "source": [
    "### Euler angles from quaternions"
   ]
  },
  {
   "cell_type": "code",
   "execution_count": 13,
   "id": "c99bce0b",
   "metadata": {},
   "outputs": [],
   "source": [
    "def rot_euler_angles(df:DF) -> ndarray:\n",
    "    df[EULER_ANGLES_COLS] = (\n",
    "        Rotation\n",
    "        .from_quat(df[QUATERNION_COLS])\n",
    "        .as_euler(\"xyz\")\n",
    "        .squeeze()\n",
    "    )\n",
    "    return df\n",
    "\n",
    "df = rot_euler_angles(df)"
   ]
  },
  {
   "cell_type": "markdown",
   "id": "18979983",
   "metadata": {},
   "source": [
    "### One hot encode target values."
   ]
  },
  {
   "cell_type": "code",
   "execution_count": 14,
   "id": "05661625",
   "metadata": {},
   "outputs": [
    {
     "data": {
      "text/html": [
       "<div>\n",
       "<style scoped>\n",
       "    .dataframe tbody tr th:only-of-type {\n",
       "        vertical-align: middle;\n",
       "    }\n",
       "\n",
       "    .dataframe tbody tr th {\n",
       "        vertical-align: top;\n",
       "    }\n",
       "\n",
       "    .dataframe thead th {\n",
       "        text-align: right;\n",
       "    }\n",
       "</style>\n",
       "<table border=\"1\" class=\"dataframe\">\n",
       "  <thead>\n",
       "    <tr style=\"text-align: right;\">\n",
       "      <th></th>\n",
       "      <th>row_id</th>\n",
       "      <th>sequence_type</th>\n",
       "      <th>sequence_id</th>\n",
       "      <th>sequence_counter</th>\n",
       "      <th>subject</th>\n",
       "      <th>orientation</th>\n",
       "      <th>behavior</th>\n",
       "      <th>phase</th>\n",
       "      <th>gesture</th>\n",
       "      <th>acc_x</th>\n",
       "      <th>...</th>\n",
       "      <th>Glasses on/off</th>\n",
       "      <th>Neck - pinch skin</th>\n",
       "      <th>Neck - scratch</th>\n",
       "      <th>Pinch knee/leg skin</th>\n",
       "      <th>Pull air toward your face</th>\n",
       "      <th>Scratch knee/leg skin</th>\n",
       "      <th>Text on phone</th>\n",
       "      <th>Wave hello</th>\n",
       "      <th>Write name in air</th>\n",
       "      <th>Write name on leg</th>\n",
       "    </tr>\n",
       "  </thead>\n",
       "  <tbody>\n",
       "    <tr>\n",
       "      <th>0</th>\n",
       "      <td>SEQ_000007_000000</td>\n",
       "      <td>Target</td>\n",
       "      <td>SEQ_000007</td>\n",
       "      <td>0</td>\n",
       "      <td>SUBJ_059520</td>\n",
       "      <td>Seated Lean Non Dom - FACE DOWN</td>\n",
       "      <td>Relaxes and moves hand to target location</td>\n",
       "      <td>Transition</td>\n",
       "      <td>Cheek - pinch skin</td>\n",
       "      <td>6.683594</td>\n",
       "      <td>...</td>\n",
       "      <td>False</td>\n",
       "      <td>False</td>\n",
       "      <td>False</td>\n",
       "      <td>False</td>\n",
       "      <td>False</td>\n",
       "      <td>False</td>\n",
       "      <td>False</td>\n",
       "      <td>False</td>\n",
       "      <td>False</td>\n",
       "      <td>False</td>\n",
       "    </tr>\n",
       "    <tr>\n",
       "      <th>1</th>\n",
       "      <td>SEQ_000007_000001</td>\n",
       "      <td>Target</td>\n",
       "      <td>SEQ_000007</td>\n",
       "      <td>1</td>\n",
       "      <td>SUBJ_059520</td>\n",
       "      <td>Seated Lean Non Dom - FACE DOWN</td>\n",
       "      <td>Relaxes and moves hand to target location</td>\n",
       "      <td>Transition</td>\n",
       "      <td>Cheek - pinch skin</td>\n",
       "      <td>6.949219</td>\n",
       "      <td>...</td>\n",
       "      <td>False</td>\n",
       "      <td>False</td>\n",
       "      <td>False</td>\n",
       "      <td>False</td>\n",
       "      <td>False</td>\n",
       "      <td>False</td>\n",
       "      <td>False</td>\n",
       "      <td>False</td>\n",
       "      <td>False</td>\n",
       "      <td>False</td>\n",
       "    </tr>\n",
       "    <tr>\n",
       "      <th>2</th>\n",
       "      <td>SEQ_000007_000002</td>\n",
       "      <td>Target</td>\n",
       "      <td>SEQ_000007</td>\n",
       "      <td>2</td>\n",
       "      <td>SUBJ_059520</td>\n",
       "      <td>Seated Lean Non Dom - FACE DOWN</td>\n",
       "      <td>Relaxes and moves hand to target location</td>\n",
       "      <td>Transition</td>\n",
       "      <td>Cheek - pinch skin</td>\n",
       "      <td>5.722656</td>\n",
       "      <td>...</td>\n",
       "      <td>False</td>\n",
       "      <td>False</td>\n",
       "      <td>False</td>\n",
       "      <td>False</td>\n",
       "      <td>False</td>\n",
       "      <td>False</td>\n",
       "      <td>False</td>\n",
       "      <td>False</td>\n",
       "      <td>False</td>\n",
       "      <td>False</td>\n",
       "    </tr>\n",
       "    <tr>\n",
       "      <th>3</th>\n",
       "      <td>SEQ_000007_000003</td>\n",
       "      <td>Target</td>\n",
       "      <td>SEQ_000007</td>\n",
       "      <td>3</td>\n",
       "      <td>SUBJ_059520</td>\n",
       "      <td>Seated Lean Non Dom - FACE DOWN</td>\n",
       "      <td>Relaxes and moves hand to target location</td>\n",
       "      <td>Transition</td>\n",
       "      <td>Cheek - pinch skin</td>\n",
       "      <td>6.601562</td>\n",
       "      <td>...</td>\n",
       "      <td>False</td>\n",
       "      <td>False</td>\n",
       "      <td>False</td>\n",
       "      <td>False</td>\n",
       "      <td>False</td>\n",
       "      <td>False</td>\n",
       "      <td>False</td>\n",
       "      <td>False</td>\n",
       "      <td>False</td>\n",
       "      <td>False</td>\n",
       "    </tr>\n",
       "    <tr>\n",
       "      <th>4</th>\n",
       "      <td>SEQ_000007_000004</td>\n",
       "      <td>Target</td>\n",
       "      <td>SEQ_000007</td>\n",
       "      <td>4</td>\n",
       "      <td>SUBJ_059520</td>\n",
       "      <td>Seated Lean Non Dom - FACE DOWN</td>\n",
       "      <td>Relaxes and moves hand to target location</td>\n",
       "      <td>Transition</td>\n",
       "      <td>Cheek - pinch skin</td>\n",
       "      <td>5.566406</td>\n",
       "      <td>...</td>\n",
       "      <td>False</td>\n",
       "      <td>False</td>\n",
       "      <td>False</td>\n",
       "      <td>False</td>\n",
       "      <td>False</td>\n",
       "      <td>False</td>\n",
       "      <td>False</td>\n",
       "      <td>False</td>\n",
       "      <td>False</td>\n",
       "      <td>False</td>\n",
       "    </tr>\n",
       "    <tr>\n",
       "      <th>...</th>\n",
       "      <td>...</td>\n",
       "      <td>...</td>\n",
       "      <td>...</td>\n",
       "      <td>...</td>\n",
       "      <td>...</td>\n",
       "      <td>...</td>\n",
       "      <td>...</td>\n",
       "      <td>...</td>\n",
       "      <td>...</td>\n",
       "      <td>...</td>\n",
       "      <td>...</td>\n",
       "      <td>...</td>\n",
       "      <td>...</td>\n",
       "      <td>...</td>\n",
       "      <td>...</td>\n",
       "      <td>...</td>\n",
       "      <td>...</td>\n",
       "      <td>...</td>\n",
       "      <td>...</td>\n",
       "      <td>...</td>\n",
       "      <td>...</td>\n",
       "    </tr>\n",
       "    <tr>\n",
       "      <th>574940</th>\n",
       "      <td>SEQ_065531_000048</td>\n",
       "      <td>Non-Target</td>\n",
       "      <td>SEQ_065531</td>\n",
       "      <td>48</td>\n",
       "      <td>SUBJ_039498</td>\n",
       "      <td>Seated Lean Non Dom - FACE DOWN</td>\n",
       "      <td>Performs gesture</td>\n",
       "      <td>Gesture</td>\n",
       "      <td>Write name on leg</td>\n",
       "      <td>3.503906</td>\n",
       "      <td>...</td>\n",
       "      <td>False</td>\n",
       "      <td>False</td>\n",
       "      <td>False</td>\n",
       "      <td>False</td>\n",
       "      <td>False</td>\n",
       "      <td>False</td>\n",
       "      <td>False</td>\n",
       "      <td>False</td>\n",
       "      <td>False</td>\n",
       "      <td>True</td>\n",
       "    </tr>\n",
       "    <tr>\n",
       "      <th>574941</th>\n",
       "      <td>SEQ_065531_000049</td>\n",
       "      <td>Non-Target</td>\n",
       "      <td>SEQ_065531</td>\n",
       "      <td>49</td>\n",
       "      <td>SUBJ_039498</td>\n",
       "      <td>Seated Lean Non Dom - FACE DOWN</td>\n",
       "      <td>Performs gesture</td>\n",
       "      <td>Gesture</td>\n",
       "      <td>Write name on leg</td>\n",
       "      <td>3.773438</td>\n",
       "      <td>...</td>\n",
       "      <td>False</td>\n",
       "      <td>False</td>\n",
       "      <td>False</td>\n",
       "      <td>False</td>\n",
       "      <td>False</td>\n",
       "      <td>False</td>\n",
       "      <td>False</td>\n",
       "      <td>False</td>\n",
       "      <td>False</td>\n",
       "      <td>True</td>\n",
       "    </tr>\n",
       "    <tr>\n",
       "      <th>574942</th>\n",
       "      <td>SEQ_065531_000050</td>\n",
       "      <td>Non-Target</td>\n",
       "      <td>SEQ_065531</td>\n",
       "      <td>50</td>\n",
       "      <td>SUBJ_039498</td>\n",
       "      <td>Seated Lean Non Dom - FACE DOWN</td>\n",
       "      <td>Performs gesture</td>\n",
       "      <td>Gesture</td>\n",
       "      <td>Write name on leg</td>\n",
       "      <td>3.082031</td>\n",
       "      <td>...</td>\n",
       "      <td>False</td>\n",
       "      <td>False</td>\n",
       "      <td>False</td>\n",
       "      <td>False</td>\n",
       "      <td>False</td>\n",
       "      <td>False</td>\n",
       "      <td>False</td>\n",
       "      <td>False</td>\n",
       "      <td>False</td>\n",
       "      <td>True</td>\n",
       "    </tr>\n",
       "    <tr>\n",
       "      <th>574943</th>\n",
       "      <td>SEQ_065531_000051</td>\n",
       "      <td>Non-Target</td>\n",
       "      <td>SEQ_065531</td>\n",
       "      <td>51</td>\n",
       "      <td>SUBJ_039498</td>\n",
       "      <td>Seated Lean Non Dom - FACE DOWN</td>\n",
       "      <td>Performs gesture</td>\n",
       "      <td>Gesture</td>\n",
       "      <td>Write name on leg</td>\n",
       "      <td>3.964844</td>\n",
       "      <td>...</td>\n",
       "      <td>False</td>\n",
       "      <td>False</td>\n",
       "      <td>False</td>\n",
       "      <td>False</td>\n",
       "      <td>False</td>\n",
       "      <td>False</td>\n",
       "      <td>False</td>\n",
       "      <td>False</td>\n",
       "      <td>False</td>\n",
       "      <td>True</td>\n",
       "    </tr>\n",
       "    <tr>\n",
       "      <th>574944</th>\n",
       "      <td>SEQ_065531_000052</td>\n",
       "      <td>Non-Target</td>\n",
       "      <td>SEQ_065531</td>\n",
       "      <td>52</td>\n",
       "      <td>SUBJ_039498</td>\n",
       "      <td>Seated Lean Non Dom - FACE DOWN</td>\n",
       "      <td>Performs gesture</td>\n",
       "      <td>Gesture</td>\n",
       "      <td>Write name on leg</td>\n",
       "      <td>4.269531</td>\n",
       "      <td>...</td>\n",
       "      <td>False</td>\n",
       "      <td>False</td>\n",
       "      <td>False</td>\n",
       "      <td>False</td>\n",
       "      <td>False</td>\n",
       "      <td>False</td>\n",
       "      <td>False</td>\n",
       "      <td>False</td>\n",
       "      <td>False</td>\n",
       "      <td>True</td>\n",
       "    </tr>\n",
       "  </tbody>\n",
       "</table>\n",
       "<p>574945 rows × 375 columns</p>\n",
       "</div>"
      ],
      "text/plain": [
       "                   row_id sequence_type sequence_id  sequence_counter  \\\n",
       "0       SEQ_000007_000000        Target  SEQ_000007                 0   \n",
       "1       SEQ_000007_000001        Target  SEQ_000007                 1   \n",
       "2       SEQ_000007_000002        Target  SEQ_000007                 2   \n",
       "3       SEQ_000007_000003        Target  SEQ_000007                 3   \n",
       "4       SEQ_000007_000004        Target  SEQ_000007                 4   \n",
       "...                   ...           ...         ...               ...   \n",
       "574940  SEQ_065531_000048    Non-Target  SEQ_065531                48   \n",
       "574941  SEQ_065531_000049    Non-Target  SEQ_065531                49   \n",
       "574942  SEQ_065531_000050    Non-Target  SEQ_065531                50   \n",
       "574943  SEQ_065531_000051    Non-Target  SEQ_065531                51   \n",
       "574944  SEQ_065531_000052    Non-Target  SEQ_065531                52   \n",
       "\n",
       "            subject                      orientation  \\\n",
       "0       SUBJ_059520  Seated Lean Non Dom - FACE DOWN   \n",
       "1       SUBJ_059520  Seated Lean Non Dom - FACE DOWN   \n",
       "2       SUBJ_059520  Seated Lean Non Dom - FACE DOWN   \n",
       "3       SUBJ_059520  Seated Lean Non Dom - FACE DOWN   \n",
       "4       SUBJ_059520  Seated Lean Non Dom - FACE DOWN   \n",
       "...             ...                              ...   \n",
       "574940  SUBJ_039498  Seated Lean Non Dom - FACE DOWN   \n",
       "574941  SUBJ_039498  Seated Lean Non Dom - FACE DOWN   \n",
       "574942  SUBJ_039498  Seated Lean Non Dom - FACE DOWN   \n",
       "574943  SUBJ_039498  Seated Lean Non Dom - FACE DOWN   \n",
       "574944  SUBJ_039498  Seated Lean Non Dom - FACE DOWN   \n",
       "\n",
       "                                         behavior       phase  \\\n",
       "0       Relaxes and moves hand to target location  Transition   \n",
       "1       Relaxes and moves hand to target location  Transition   \n",
       "2       Relaxes and moves hand to target location  Transition   \n",
       "3       Relaxes and moves hand to target location  Transition   \n",
       "4       Relaxes and moves hand to target location  Transition   \n",
       "...                                           ...         ...   \n",
       "574940                           Performs gesture     Gesture   \n",
       "574941                           Performs gesture     Gesture   \n",
       "574942                           Performs gesture     Gesture   \n",
       "574943                           Performs gesture     Gesture   \n",
       "574944                           Performs gesture     Gesture   \n",
       "\n",
       "                   gesture     acc_x  ...  Glasses on/off  Neck - pinch skin  \\\n",
       "0       Cheek - pinch skin  6.683594  ...           False              False   \n",
       "1       Cheek - pinch skin  6.949219  ...           False              False   \n",
       "2       Cheek - pinch skin  5.722656  ...           False              False   \n",
       "3       Cheek - pinch skin  6.601562  ...           False              False   \n",
       "4       Cheek - pinch skin  5.566406  ...           False              False   \n",
       "...                    ...       ...  ...             ...                ...   \n",
       "574940   Write name on leg  3.503906  ...           False              False   \n",
       "574941   Write name on leg  3.773438  ...           False              False   \n",
       "574942   Write name on leg  3.082031  ...           False              False   \n",
       "574943   Write name on leg  3.964844  ...           False              False   \n",
       "574944   Write name on leg  4.269531  ...           False              False   \n",
       "\n",
       "        Neck - scratch  Pinch knee/leg skin  Pull air toward your face  \\\n",
       "0                False                False                      False   \n",
       "1                False                False                      False   \n",
       "2                False                False                      False   \n",
       "3                False                False                      False   \n",
       "4                False                False                      False   \n",
       "...                ...                  ...                        ...   \n",
       "574940           False                False                      False   \n",
       "574941           False                False                      False   \n",
       "574942           False                False                      False   \n",
       "574943           False                False                      False   \n",
       "574944           False                False                      False   \n",
       "\n",
       "        Scratch knee/leg skin  Text on phone  Wave hello  Write name in air  \\\n",
       "0                       False          False       False              False   \n",
       "1                       False          False       False              False   \n",
       "2                       False          False       False              False   \n",
       "3                       False          False       False              False   \n",
       "4                       False          False       False              False   \n",
       "...                       ...            ...         ...                ...   \n",
       "574940                  False          False       False              False   \n",
       "574941                  False          False       False              False   \n",
       "574942                  False          False       False              False   \n",
       "574943                  False          False       False              False   \n",
       "574944                  False          False       False              False   \n",
       "\n",
       "        Write name on leg  \n",
       "0                   False  \n",
       "1                   False  \n",
       "2                   False  \n",
       "3                   False  \n",
       "4                   False  \n",
       "...                   ...  \n",
       "574940               True  \n",
       "574941               True  \n",
       "574942               True  \n",
       "574943               True  \n",
       "574944               True  \n",
       "\n",
       "[574945 rows x 375 columns]"
      ]
     },
     "execution_count": 14,
     "metadata": {},
     "output_type": "execute_result"
    }
   ],
   "source": [
    "one_hot_target = pd.get_dummies(df[\"gesture\"])\n",
    "df[TARGET_NAMES] = one_hot_target[TARGET_NAMES]\n",
    "df"
   ]
  },
  {
   "cell_type": "markdown",
   "id": "8812dc08",
   "metadata": {},
   "source": [
    "### ToF data aggregation.\n",
    "Time of Flight columns take most of the data, let's reduce their size by aggregating by mean for each Time of Flight sensor."
   ]
  },
  {
   "cell_type": "code",
   "execution_count": 31,
   "id": "2b4f83f2",
   "metadata": {},
   "outputs": [
    {
     "data": {
      "application/vnd.jupyter.widget-view+json": {
       "model_id": "e8134fa026314140b47414bd0885642f",
       "version_major": 2,
       "version_minor": 0
      },
      "text/plain": [
       "  0%|          | 0/5 [00:00<?, ?it/s]"
      ]
     },
     "metadata": {},
     "output_type": "display_data"
    },
    {
     "data": {
      "text/html": [
       "<div>\n",
       "<style scoped>\n",
       "    .dataframe tbody tr th:only-of-type {\n",
       "        vertical-align: middle;\n",
       "    }\n",
       "\n",
       "    .dataframe tbody tr th {\n",
       "        vertical-align: top;\n",
       "    }\n",
       "\n",
       "    .dataframe thead th {\n",
       "        text-align: right;\n",
       "    }\n",
       "</style>\n",
       "<table border=\"1\" class=\"dataframe\">\n",
       "  <thead>\n",
       "    <tr style=\"text-align: right;\">\n",
       "      <th></th>\n",
       "      <th>row_id</th>\n",
       "      <th>sequence_type</th>\n",
       "      <th>sequence_id</th>\n",
       "      <th>sequence_counter</th>\n",
       "      <th>subject</th>\n",
       "      <th>orientation</th>\n",
       "      <th>behavior</th>\n",
       "      <th>phase</th>\n",
       "      <th>gesture</th>\n",
       "      <th>acc_x</th>\n",
       "      <th>...</th>\n",
       "      <th>tof_5_median_02</th>\n",
       "      <th>tof_5_median_03</th>\n",
       "      <th>tof_5_min_00</th>\n",
       "      <th>tof_5_min_01</th>\n",
       "      <th>tof_5_min_02</th>\n",
       "      <th>tof_5_min_03</th>\n",
       "      <th>tof_5_max_00</th>\n",
       "      <th>tof_5_max_01</th>\n",
       "      <th>tof_5_max_02</th>\n",
       "      <th>tof_5_max_03</th>\n",
       "    </tr>\n",
       "  </thead>\n",
       "  <tbody>\n",
       "    <tr>\n",
       "      <th>0</th>\n",
       "      <td>SEQ_000007_000000</td>\n",
       "      <td>Target</td>\n",
       "      <td>SEQ_000007</td>\n",
       "      <td>0</td>\n",
       "      <td>SUBJ_059520</td>\n",
       "      <td>Seated Lean Non Dom - FACE DOWN</td>\n",
       "      <td>Relaxes and moves hand to target location</td>\n",
       "      <td>Transition</td>\n",
       "      <td>Cheek - pinch skin</td>\n",
       "      <td>6.683594</td>\n",
       "      <td>...</td>\n",
       "      <td>131.0</td>\n",
       "      <td>128.0</td>\n",
       "      <td>92.0</td>\n",
       "      <td>92.0</td>\n",
       "      <td>88.0</td>\n",
       "      <td>88.0</td>\n",
       "      <td>219.0</td>\n",
       "      <td>219.0</td>\n",
       "      <td>226.0</td>\n",
       "      <td>226.0</td>\n",
       "    </tr>\n",
       "    <tr>\n",
       "      <th>1</th>\n",
       "      <td>SEQ_000007_000001</td>\n",
       "      <td>Target</td>\n",
       "      <td>SEQ_000007</td>\n",
       "      <td>1</td>\n",
       "      <td>SUBJ_059520</td>\n",
       "      <td>Seated Lean Non Dom - FACE DOWN</td>\n",
       "      <td>Relaxes and moves hand to target location</td>\n",
       "      <td>Transition</td>\n",
       "      <td>Cheek - pinch skin</td>\n",
       "      <td>6.949219</td>\n",
       "      <td>...</td>\n",
       "      <td>133.0</td>\n",
       "      <td>127.0</td>\n",
       "      <td>92.0</td>\n",
       "      <td>92.0</td>\n",
       "      <td>88.0</td>\n",
       "      <td>88.0</td>\n",
       "      <td>219.0</td>\n",
       "      <td>219.0</td>\n",
       "      <td>226.0</td>\n",
       "      <td>226.0</td>\n",
       "    </tr>\n",
       "    <tr>\n",
       "      <th>2</th>\n",
       "      <td>SEQ_000007_000002</td>\n",
       "      <td>Target</td>\n",
       "      <td>SEQ_000007</td>\n",
       "      <td>2</td>\n",
       "      <td>SUBJ_059520</td>\n",
       "      <td>Seated Lean Non Dom - FACE DOWN</td>\n",
       "      <td>Relaxes and moves hand to target location</td>\n",
       "      <td>Transition</td>\n",
       "      <td>Cheek - pinch skin</td>\n",
       "      <td>5.722656</td>\n",
       "      <td>...</td>\n",
       "      <td>139.0</td>\n",
       "      <td>136.0</td>\n",
       "      <td>92.0</td>\n",
       "      <td>92.0</td>\n",
       "      <td>88.0</td>\n",
       "      <td>88.0</td>\n",
       "      <td>219.0</td>\n",
       "      <td>219.0</td>\n",
       "      <td>226.0</td>\n",
       "      <td>226.0</td>\n",
       "    </tr>\n",
       "    <tr>\n",
       "      <th>3</th>\n",
       "      <td>SEQ_000007_000003</td>\n",
       "      <td>Target</td>\n",
       "      <td>SEQ_000007</td>\n",
       "      <td>3</td>\n",
       "      <td>SUBJ_059520</td>\n",
       "      <td>Seated Lean Non Dom - FACE DOWN</td>\n",
       "      <td>Relaxes and moves hand to target location</td>\n",
       "      <td>Transition</td>\n",
       "      <td>Cheek - pinch skin</td>\n",
       "      <td>6.601562</td>\n",
       "      <td>...</td>\n",
       "      <td>140.0</td>\n",
       "      <td>135.0</td>\n",
       "      <td>92.0</td>\n",
       "      <td>92.0</td>\n",
       "      <td>88.0</td>\n",
       "      <td>88.0</td>\n",
       "      <td>219.0</td>\n",
       "      <td>219.0</td>\n",
       "      <td>226.0</td>\n",
       "      <td>226.0</td>\n",
       "    </tr>\n",
       "    <tr>\n",
       "      <th>4</th>\n",
       "      <td>SEQ_000007_000004</td>\n",
       "      <td>Target</td>\n",
       "      <td>SEQ_000007</td>\n",
       "      <td>4</td>\n",
       "      <td>SUBJ_059520</td>\n",
       "      <td>Seated Lean Non Dom - FACE DOWN</td>\n",
       "      <td>Relaxes and moves hand to target location</td>\n",
       "      <td>Transition</td>\n",
       "      <td>Cheek - pinch skin</td>\n",
       "      <td>5.566406</td>\n",
       "      <td>...</td>\n",
       "      <td>145.0</td>\n",
       "      <td>139.0</td>\n",
       "      <td>92.0</td>\n",
       "      <td>92.0</td>\n",
       "      <td>88.0</td>\n",
       "      <td>88.0</td>\n",
       "      <td>219.0</td>\n",
       "      <td>219.0</td>\n",
       "      <td>226.0</td>\n",
       "      <td>226.0</td>\n",
       "    </tr>\n",
       "    <tr>\n",
       "      <th>...</th>\n",
       "      <td>...</td>\n",
       "      <td>...</td>\n",
       "      <td>...</td>\n",
       "      <td>...</td>\n",
       "      <td>...</td>\n",
       "      <td>...</td>\n",
       "      <td>...</td>\n",
       "      <td>...</td>\n",
       "      <td>...</td>\n",
       "      <td>...</td>\n",
       "      <td>...</td>\n",
       "      <td>...</td>\n",
       "      <td>...</td>\n",
       "      <td>...</td>\n",
       "      <td>...</td>\n",
       "      <td>...</td>\n",
       "      <td>...</td>\n",
       "      <td>...</td>\n",
       "      <td>...</td>\n",
       "      <td>...</td>\n",
       "      <td>...</td>\n",
       "    </tr>\n",
       "    <tr>\n",
       "      <th>574940</th>\n",
       "      <td>SEQ_065531_000048</td>\n",
       "      <td>Non-Target</td>\n",
       "      <td>SEQ_065531</td>\n",
       "      <td>48</td>\n",
       "      <td>SUBJ_039498</td>\n",
       "      <td>Seated Lean Non Dom - FACE DOWN</td>\n",
       "      <td>Performs gesture</td>\n",
       "      <td>Gesture</td>\n",
       "      <td>Write name on leg</td>\n",
       "      <td>3.503906</td>\n",
       "      <td>...</td>\n",
       "      <td>53.0</td>\n",
       "      <td>54.0</td>\n",
       "      <td>27.0</td>\n",
       "      <td>31.0</td>\n",
       "      <td>27.0</td>\n",
       "      <td>31.0</td>\n",
       "      <td>66.0</td>\n",
       "      <td>66.0</td>\n",
       "      <td>73.0</td>\n",
       "      <td>73.0</td>\n",
       "    </tr>\n",
       "    <tr>\n",
       "      <th>574941</th>\n",
       "      <td>SEQ_065531_000049</td>\n",
       "      <td>Non-Target</td>\n",
       "      <td>SEQ_065531</td>\n",
       "      <td>49</td>\n",
       "      <td>SUBJ_039498</td>\n",
       "      <td>Seated Lean Non Dom - FACE DOWN</td>\n",
       "      <td>Performs gesture</td>\n",
       "      <td>Gesture</td>\n",
       "      <td>Write name on leg</td>\n",
       "      <td>3.773438</td>\n",
       "      <td>...</td>\n",
       "      <td>57.0</td>\n",
       "      <td>57.0</td>\n",
       "      <td>29.0</td>\n",
       "      <td>29.0</td>\n",
       "      <td>32.0</td>\n",
       "      <td>37.0</td>\n",
       "      <td>71.0</td>\n",
       "      <td>72.0</td>\n",
       "      <td>73.0</td>\n",
       "      <td>73.0</td>\n",
       "    </tr>\n",
       "    <tr>\n",
       "      <th>574942</th>\n",
       "      <td>SEQ_065531_000050</td>\n",
       "      <td>Non-Target</td>\n",
       "      <td>SEQ_065531</td>\n",
       "      <td>50</td>\n",
       "      <td>SUBJ_039498</td>\n",
       "      <td>Seated Lean Non Dom - FACE DOWN</td>\n",
       "      <td>Performs gesture</td>\n",
       "      <td>Gesture</td>\n",
       "      <td>Write name on leg</td>\n",
       "      <td>3.082031</td>\n",
       "      <td>...</td>\n",
       "      <td>59.0</td>\n",
       "      <td>60.0</td>\n",
       "      <td>26.0</td>\n",
       "      <td>26.0</td>\n",
       "      <td>32.0</td>\n",
       "      <td>33.0</td>\n",
       "      <td>80.0</td>\n",
       "      <td>80.0</td>\n",
       "      <td>80.0</td>\n",
       "      <td>80.0</td>\n",
       "    </tr>\n",
       "    <tr>\n",
       "      <th>574943</th>\n",
       "      <td>SEQ_065531_000051</td>\n",
       "      <td>Non-Target</td>\n",
       "      <td>SEQ_065531</td>\n",
       "      <td>51</td>\n",
       "      <td>SUBJ_039498</td>\n",
       "      <td>Seated Lean Non Dom - FACE DOWN</td>\n",
       "      <td>Performs gesture</td>\n",
       "      <td>Gesture</td>\n",
       "      <td>Write name on leg</td>\n",
       "      <td>3.964844</td>\n",
       "      <td>...</td>\n",
       "      <td>56.0</td>\n",
       "      <td>56.0</td>\n",
       "      <td>25.0</td>\n",
       "      <td>29.0</td>\n",
       "      <td>40.0</td>\n",
       "      <td>40.0</td>\n",
       "      <td>72.0</td>\n",
       "      <td>77.0</td>\n",
       "      <td>73.0</td>\n",
       "      <td>77.0</td>\n",
       "    </tr>\n",
       "    <tr>\n",
       "      <th>574944</th>\n",
       "      <td>SEQ_065531_000052</td>\n",
       "      <td>Non-Target</td>\n",
       "      <td>SEQ_065531</td>\n",
       "      <td>52</td>\n",
       "      <td>SUBJ_039498</td>\n",
       "      <td>Seated Lean Non Dom - FACE DOWN</td>\n",
       "      <td>Performs gesture</td>\n",
       "      <td>Gesture</td>\n",
       "      <td>Write name on leg</td>\n",
       "      <td>4.269531</td>\n",
       "      <td>...</td>\n",
       "      <td>57.0</td>\n",
       "      <td>57.0</td>\n",
       "      <td>24.0</td>\n",
       "      <td>24.0</td>\n",
       "      <td>43.0</td>\n",
       "      <td>44.0</td>\n",
       "      <td>72.0</td>\n",
       "      <td>77.0</td>\n",
       "      <td>73.0</td>\n",
       "      <td>77.0</td>\n",
       "    </tr>\n",
       "  </tbody>\n",
       "</table>\n",
       "<p>574945 rows × 500 columns</p>\n",
       "</div>"
      ],
      "text/plain": [
       "                   row_id sequence_type sequence_id  sequence_counter  \\\n",
       "0       SEQ_000007_000000        Target  SEQ_000007                 0   \n",
       "1       SEQ_000007_000001        Target  SEQ_000007                 1   \n",
       "2       SEQ_000007_000002        Target  SEQ_000007                 2   \n",
       "3       SEQ_000007_000003        Target  SEQ_000007                 3   \n",
       "4       SEQ_000007_000004        Target  SEQ_000007                 4   \n",
       "...                   ...           ...         ...               ...   \n",
       "574940  SEQ_065531_000048    Non-Target  SEQ_065531                48   \n",
       "574941  SEQ_065531_000049    Non-Target  SEQ_065531                49   \n",
       "574942  SEQ_065531_000050    Non-Target  SEQ_065531                50   \n",
       "574943  SEQ_065531_000051    Non-Target  SEQ_065531                51   \n",
       "574944  SEQ_065531_000052    Non-Target  SEQ_065531                52   \n",
       "\n",
       "            subject                      orientation  \\\n",
       "0       SUBJ_059520  Seated Lean Non Dom - FACE DOWN   \n",
       "1       SUBJ_059520  Seated Lean Non Dom - FACE DOWN   \n",
       "2       SUBJ_059520  Seated Lean Non Dom - FACE DOWN   \n",
       "3       SUBJ_059520  Seated Lean Non Dom - FACE DOWN   \n",
       "4       SUBJ_059520  Seated Lean Non Dom - FACE DOWN   \n",
       "...             ...                              ...   \n",
       "574940  SUBJ_039498  Seated Lean Non Dom - FACE DOWN   \n",
       "574941  SUBJ_039498  Seated Lean Non Dom - FACE DOWN   \n",
       "574942  SUBJ_039498  Seated Lean Non Dom - FACE DOWN   \n",
       "574943  SUBJ_039498  Seated Lean Non Dom - FACE DOWN   \n",
       "574944  SUBJ_039498  Seated Lean Non Dom - FACE DOWN   \n",
       "\n",
       "                                         behavior       phase  \\\n",
       "0       Relaxes and moves hand to target location  Transition   \n",
       "1       Relaxes and moves hand to target location  Transition   \n",
       "2       Relaxes and moves hand to target location  Transition   \n",
       "3       Relaxes and moves hand to target location  Transition   \n",
       "4       Relaxes and moves hand to target location  Transition   \n",
       "...                                           ...         ...   \n",
       "574940                           Performs gesture     Gesture   \n",
       "574941                           Performs gesture     Gesture   \n",
       "574942                           Performs gesture     Gesture   \n",
       "574943                           Performs gesture     Gesture   \n",
       "574944                           Performs gesture     Gesture   \n",
       "\n",
       "                   gesture     acc_x  ...  tof_5_median_02  tof_5_median_03  \\\n",
       "0       Cheek - pinch skin  6.683594  ...            131.0            128.0   \n",
       "1       Cheek - pinch skin  6.949219  ...            133.0            127.0   \n",
       "2       Cheek - pinch skin  5.722656  ...            139.0            136.0   \n",
       "3       Cheek - pinch skin  6.601562  ...            140.0            135.0   \n",
       "4       Cheek - pinch skin  5.566406  ...            145.0            139.0   \n",
       "...                    ...       ...  ...              ...              ...   \n",
       "574940   Write name on leg  3.503906  ...             53.0             54.0   \n",
       "574941   Write name on leg  3.773438  ...             57.0             57.0   \n",
       "574942   Write name on leg  3.082031  ...             59.0             60.0   \n",
       "574943   Write name on leg  3.964844  ...             56.0             56.0   \n",
       "574944   Write name on leg  4.269531  ...             57.0             57.0   \n",
       "\n",
       "        tof_5_min_00  tof_5_min_01  tof_5_min_02  tof_5_min_03  tof_5_max_00  \\\n",
       "0               92.0          92.0          88.0          88.0         219.0   \n",
       "1               92.0          92.0          88.0          88.0         219.0   \n",
       "2               92.0          92.0          88.0          88.0         219.0   \n",
       "3               92.0          92.0          88.0          88.0         219.0   \n",
       "4               92.0          92.0          88.0          88.0         219.0   \n",
       "...              ...           ...           ...           ...           ...   \n",
       "574940          27.0          31.0          27.0          31.0          66.0   \n",
       "574941          29.0          29.0          32.0          37.0          71.0   \n",
       "574942          26.0          26.0          32.0          33.0          80.0   \n",
       "574943          25.0          29.0          40.0          40.0          72.0   \n",
       "574944          24.0          24.0          43.0          44.0          72.0   \n",
       "\n",
       "        tof_5_max_01  tof_5_max_02  tof_5_max_03  \n",
       "0              219.0         226.0         226.0  \n",
       "1              219.0         226.0         226.0  \n",
       "2              219.0         226.0         226.0  \n",
       "3              219.0         226.0         226.0  \n",
       "4              219.0         226.0         226.0  \n",
       "...              ...           ...           ...  \n",
       "574940          66.0          73.0          73.0  \n",
       "574941          72.0          73.0          73.0  \n",
       "574942          80.0          80.0          80.0  \n",
       "574943          77.0          73.0          77.0  \n",
       "574944          77.0          73.0          77.0  \n",
       "\n",
       "[574945 rows x 500 columns]"
      ]
     },
     "execution_count": 31,
     "metadata": {},
     "output_type": "execute_result"
    }
   ],
   "source": [
    "from operator import methodcaller\n",
    "from numpy.lib.stride_tricks import sliding_window_view\n",
    "\n",
    "TOF_AGG_FUNCTIONS = [\n",
    "    \"mean\",\n",
    "    \"std\",\n",
    "    \"median\",\n",
    "    \"min\",\n",
    "    \"max\",\n",
    "]\n",
    "\n",
    "def agg_tof_patch(tof_views:np.ndarray, f_name:str) -> ndarray:\n",
    "    views_agg_func = methodcaller(f_name, tof_views, axis=(1, 2))\n",
    "    return (\n",
    "        views_agg_func(np)\n",
    "        .reshape(tof_views.shape[0], -1)\n",
    "    )\n",
    "\n",
    "def agg_tof_cols_per_sensor(df:DF) -> DF:\n",
    "    \"\"\"\n",
    "    ## Description:\n",
    "    Computes the sensor and patch sensor wise stats.\n",
    "    ## Resturns:\n",
    "    The dataframe with the added stats.\n",
    "    \"\"\"\n",
    "    for tof_idx in tqdm(range(1, 6)):\n",
    "        tof_name = f\"tof_{tof_idx}\"\n",
    "        all_tof_cols = [f\"{tof_name}_v{v_idx:02d}\" for v_idx in range(64)]\n",
    "        tof_feats = (\n",
    "            df\n",
    "            .loc[:, all_tof_cols]\n",
    "            .values\n",
    "            .reshape(-1, 8, 8)\n",
    "        )\n",
    "        agg_func = partial(df[all_tof_cols].agg, axis=\"columns\")\n",
    "        mk_fe_col_name = lambda f_name: tof_name + \"_\" + f_name\n",
    "        engineered_feats = DF({mk_fe_col_name(f_name): agg_func(f_name) for f_name in TOF_AGG_FUNCTIONS})\n",
    "        stats_cols_names = list(map(mk_fe_col_name, TOF_AGG_FUNCTIONS))\n",
    "        # Patch Feature engineering\n",
    "        tof_views:np.ndarray = sliding_window_view(tof_feats, (TOF_PATCH_SIZE, TOF_PATCH_SIZE), (1, 2))\n",
    "        patch_fe = {}\n",
    "        for f_name in TOF_AGG_FUNCTIONS:\n",
    "            tof_patch_stats = agg_tof_patch(tof_views, f_name)\n",
    "            for patch_idx in range(tof_patch_stats.shape[1]):\n",
    "                key = mk_fe_col_name(f_name) + f\"_{patch_idx:02d}\"\n",
    "                patch_fe[key] = tof_patch_stats[:, patch_idx]\n",
    "        patch_df = DF(patch_fe)\n",
    "        # concat results\n",
    "        df = pd.concat(\n",
    "            (\n",
    "                df.drop(columns=stats_cols_names),\n",
    "                engineered_feats,\n",
    "                patch_df,\n",
    "            ),\n",
    "            axis=\"columns\",\n",
    "        )\n",
    "    return df\n",
    "\n",
    "df = agg_tof_cols_per_sensor(df)\n",
    "df"
   ]
  },
  {
   "cell_type": "code",
   "execution_count": 32,
   "id": "37d79a8d",
   "metadata": {},
   "outputs": [
    {
     "data": {
      "text/plain": [
       "{'row_id': CategoricalDtype(categories=['SEQ_000007_000000', 'SEQ_000007_000001',\n",
       "                   'SEQ_000007_000002', 'SEQ_000007_000003',\n",
       "                   'SEQ_000007_000004', 'SEQ_000007_000005',\n",
       "                   'SEQ_000007_000006', 'SEQ_000007_000007',\n",
       "                   'SEQ_000007_000008', 'SEQ_000007_000009',\n",
       "                   ...\n",
       "                   'SEQ_065531_000043', 'SEQ_065531_000044',\n",
       "                   'SEQ_065531_000045', 'SEQ_065531_000046',\n",
       "                   'SEQ_065531_000047', 'SEQ_065531_000048',\n",
       "                   'SEQ_065531_000049', 'SEQ_065531_000050',\n",
       "                   'SEQ_065531_000051', 'SEQ_065531_000052'],\n",
       " , ordered=False, categories_dtype=object),\n",
       " 'sequence_type': CategoricalDtype(categories=['Non-Target', 'Target'], ordered=False, categories_dtype=object),\n",
       " 'sequence_id': CategoricalDtype(categories=['SEQ_000007', 'SEQ_000008', 'SEQ_000013', 'SEQ_000016',\n",
       "                   'SEQ_000018', 'SEQ_000022', 'SEQ_000033', 'SEQ_000034',\n",
       "                   'SEQ_000046', 'SEQ_000053',\n",
       "                   ...\n",
       "                   'SEQ_065452', 'SEQ_065470', 'SEQ_065471', 'SEQ_065478',\n",
       "                   'SEQ_065487', 'SEQ_065508', 'SEQ_065519', 'SEQ_065522',\n",
       "                   'SEQ_065526', 'SEQ_065531'],\n",
       " , ordered=False, categories_dtype=object),\n",
       " 'sequence_counter': dtype('int32'),\n",
       " 'subject': CategoricalDtype(categories=['SUBJ_001430', 'SUBJ_012088', 'SUBJ_013623', 'SUBJ_020948',\n",
       "                   'SUBJ_024086', 'SUBJ_024137', 'SUBJ_030676', 'SUBJ_032165',\n",
       "                   'SUBJ_032233', 'SUBJ_032585', 'SUBJ_038023', 'SUBJ_040282',\n",
       "                   'SUBJ_040310', 'SUBJ_040733', 'SUBJ_044680', 'SUBJ_047636',\n",
       "                   'SUBJ_052342', 'SUBJ_053173', 'SUBJ_055211', 'SUBJ_059330',\n",
       "                   'SUBJ_059520', 'SUBJ_063346', 'SUBJ_063464', 'SUBJ_000206',\n",
       "                   'SUBJ_011323', 'SUBJ_017170', 'SUBJ_019262', 'SUBJ_019663',\n",
       "                   'SUBJ_027682', 'SUBJ_032704', 'SUBJ_032761', 'SUBJ_040106',\n",
       "                   'SUBJ_040724', 'SUBJ_041243', 'SUBJ_041770', 'SUBJ_049223',\n",
       "                   'SUBJ_053906', 'SUBJ_057917', 'SUBJ_058786', 'SUBJ_061552',\n",
       "                   'SUBJ_008304', 'SUBJ_017807', 'SUBJ_019297', 'SUBJ_021670',\n",
       "                   'SUBJ_024825', 'SUBJ_034574', 'SUBJ_034631', 'SUBJ_039234',\n",
       "                   'SUBJ_042779', 'SUBJ_045235', 'SUBJ_050642', 'SUBJ_054811',\n",
       "                   'SUBJ_056936', 'SUBJ_064387', 'SUBJ_003328', 'SUBJ_004117',\n",
       "                   'SUBJ_008728', 'SUBJ_017499', 'SUBJ_027671', 'SUBJ_035353',\n",
       "                   'SUBJ_042794', 'SUBJ_019756', 'SUBJ_026824', 'SUBJ_036450',\n",
       "                   'SUBJ_051942', 'SUBJ_063319', 'SUBJ_063447', 'SUBJ_002923',\n",
       "                   'SUBJ_026460', 'SUBJ_028998', 'SUBJ_038277', 'SUBJ_058967',\n",
       "                   'SUBJ_059960', 'SUBJ_039498', 'SUBJ_043192', 'SUBJ_053217',\n",
       "                   'SUBJ_016552', 'SUBJ_042254', 'SUBJ_036405', 'SUBJ_038709',\n",
       "                   'SUBJ_023739'],\n",
       " , ordered=False, categories_dtype=object),\n",
       " 'orientation': CategoricalDtype(categories=['Lie on Back', 'Lie on Side - Non Dominant',\n",
       "                   'Seated Lean Non Dom - FACE DOWN', 'Seated Straight'],\n",
       " , ordered=False, categories_dtype=object),\n",
       " 'behavior': CategoricalDtype(categories=['Hand at target location', 'Moves hand to target location',\n",
       "                   'Performs gesture',\n",
       "                   'Relaxes and moves hand to target location'],\n",
       " , ordered=False, categories_dtype=object),\n",
       " 'phase': CategoricalDtype(categories=['Gesture', 'Transition'], ordered=False, categories_dtype=object),\n",
       " 'gesture': CategoricalDtype(categories=['Above ear - pull hair', 'Cheek - pinch skin',\n",
       "                   'Eyebrow - pull hair', 'Eyelash - pull hair',\n",
       "                   'Feel around in tray and pull out an object',\n",
       "                   'Forehead - pull hairline', 'Forehead - scratch',\n",
       "                   'Neck - pinch skin', 'Neck - scratch', 'Text on phone',\n",
       "                   'Wave hello', 'Write name in air', 'Write name on leg',\n",
       "                   'Drink from bottle/cup', 'Pinch knee/leg skin',\n",
       "                   'Pull air toward your face', 'Scratch knee/leg skin',\n",
       "                   'Glasses on/off'],\n",
       " , ordered=False, categories_dtype=object),\n",
       " 'acc_x': dtype('float32'),\n",
       " 'acc_y': dtype('float32'),\n",
       " 'acc_z': dtype('float32'),\n",
       " 'rot_w': dtype('float32'),\n",
       " 'rot_x': dtype('float32'),\n",
       " 'rot_y': dtype('float32'),\n",
       " 'rot_z': dtype('float32'),\n",
       " 'thm_1': dtype('float32'),\n",
       " 'thm_2': dtype('float32'),\n",
       " 'thm_3': dtype('float32'),\n",
       " 'thm_4': dtype('float32'),\n",
       " 'thm_5': dtype('float32'),\n",
       " 'tof_1_v00': dtype('float32'),\n",
       " 'tof_1_v01': dtype('float32'),\n",
       " 'tof_1_v02': dtype('float32'),\n",
       " 'tof_1_v03': dtype('float32'),\n",
       " 'tof_1_v04': dtype('float32'),\n",
       " 'tof_1_v05': dtype('float32'),\n",
       " 'tof_1_v06': dtype('float32'),\n",
       " 'tof_1_v07': dtype('float32'),\n",
       " 'tof_1_v08': dtype('float32'),\n",
       " 'tof_1_v09': dtype('float32'),\n",
       " 'tof_1_v10': dtype('float32'),\n",
       " 'tof_1_v11': dtype('float32'),\n",
       " 'tof_1_v12': dtype('float32'),\n",
       " 'tof_1_v13': dtype('float32'),\n",
       " 'tof_1_v14': dtype('float32'),\n",
       " 'tof_1_v15': dtype('float32'),\n",
       " 'tof_1_v16': dtype('float32'),\n",
       " 'tof_1_v17': dtype('float32'),\n",
       " 'tof_1_v18': dtype('float32'),\n",
       " 'tof_1_v19': dtype('float32'),\n",
       " 'tof_1_v20': dtype('float32'),\n",
       " 'tof_1_v21': dtype('float32'),\n",
       " 'tof_1_v22': dtype('float32'),\n",
       " 'tof_1_v23': dtype('float32'),\n",
       " 'tof_1_v24': dtype('float32'),\n",
       " 'tof_1_v25': dtype('float32'),\n",
       " 'tof_1_v26': dtype('float32'),\n",
       " 'tof_1_v27': dtype('float32'),\n",
       " 'tof_1_v28': dtype('float32'),\n",
       " 'tof_1_v29': dtype('float32'),\n",
       " 'tof_1_v30': dtype('float32'),\n",
       " 'tof_1_v31': dtype('float32'),\n",
       " 'tof_1_v32': dtype('float32'),\n",
       " 'tof_1_v33': dtype('float32'),\n",
       " 'tof_1_v34': dtype('float32'),\n",
       " 'tof_1_v35': dtype('float32'),\n",
       " 'tof_1_v36': dtype('float32'),\n",
       " 'tof_1_v37': dtype('float32'),\n",
       " 'tof_1_v38': dtype('float32'),\n",
       " 'tof_1_v39': dtype('float32'),\n",
       " 'tof_1_v40': dtype('float32'),\n",
       " 'tof_1_v41': dtype('float32'),\n",
       " 'tof_1_v42': dtype('float32'),\n",
       " 'tof_1_v43': dtype('float32'),\n",
       " 'tof_1_v44': dtype('float32'),\n",
       " 'tof_1_v45': dtype('float32'),\n",
       " 'tof_1_v46': dtype('float32'),\n",
       " 'tof_1_v47': dtype('float32'),\n",
       " 'tof_1_v48': dtype('float32'),\n",
       " 'tof_1_v49': dtype('float32'),\n",
       " 'tof_1_v50': dtype('float32'),\n",
       " 'tof_1_v51': dtype('float32'),\n",
       " 'tof_1_v52': dtype('float32'),\n",
       " 'tof_1_v53': dtype('float32'),\n",
       " 'tof_1_v54': dtype('float32'),\n",
       " 'tof_1_v55': dtype('float32'),\n",
       " 'tof_1_v56': dtype('float32'),\n",
       " 'tof_1_v57': dtype('float32'),\n",
       " 'tof_1_v58': dtype('float32'),\n",
       " 'tof_1_v59': dtype('float32'),\n",
       " 'tof_1_v60': dtype('float32'),\n",
       " 'tof_1_v61': dtype('float32'),\n",
       " 'tof_1_v62': dtype('float32'),\n",
       " 'tof_1_v63': dtype('float32'),\n",
       " 'tof_2_v00': dtype('float32'),\n",
       " 'tof_2_v01': dtype('float32'),\n",
       " 'tof_2_v02': dtype('float32'),\n",
       " 'tof_2_v03': dtype('float32'),\n",
       " 'tof_2_v04': dtype('float32'),\n",
       " 'tof_2_v05': dtype('float32'),\n",
       " 'tof_2_v06': dtype('float32'),\n",
       " 'tof_2_v07': dtype('float32'),\n",
       " 'tof_2_v08': dtype('float32'),\n",
       " 'tof_2_v09': dtype('float32'),\n",
       " 'tof_2_v10': dtype('float32'),\n",
       " 'tof_2_v11': dtype('float32'),\n",
       " 'tof_2_v12': dtype('float32'),\n",
       " 'tof_2_v13': dtype('float32'),\n",
       " 'tof_2_v14': dtype('float32'),\n",
       " 'tof_2_v15': dtype('float32'),\n",
       " 'tof_2_v16': dtype('float32'),\n",
       " 'tof_2_v17': dtype('float32'),\n",
       " 'tof_2_v18': dtype('float32'),\n",
       " 'tof_2_v19': dtype('float32'),\n",
       " 'tof_2_v20': dtype('float32'),\n",
       " 'tof_2_v21': dtype('float32'),\n",
       " 'tof_2_v22': dtype('float32'),\n",
       " 'tof_2_v23': dtype('float32'),\n",
       " 'tof_2_v24': dtype('float32'),\n",
       " 'tof_2_v25': dtype('float32'),\n",
       " 'tof_2_v26': dtype('float32'),\n",
       " 'tof_2_v27': dtype('float32'),\n",
       " 'tof_2_v28': dtype('float32'),\n",
       " 'tof_2_v29': dtype('float32'),\n",
       " 'tof_2_v30': dtype('float32'),\n",
       " 'tof_2_v31': dtype('float32'),\n",
       " 'tof_2_v32': dtype('float32'),\n",
       " 'tof_2_v33': dtype('float32'),\n",
       " 'tof_2_v34': dtype('float32'),\n",
       " 'tof_2_v35': dtype('float32'),\n",
       " 'tof_2_v36': dtype('float32'),\n",
       " 'tof_2_v37': dtype('float32'),\n",
       " 'tof_2_v38': dtype('float32'),\n",
       " 'tof_2_v39': dtype('float32'),\n",
       " 'tof_2_v40': dtype('float32'),\n",
       " 'tof_2_v41': dtype('float32'),\n",
       " 'tof_2_v42': dtype('float32'),\n",
       " 'tof_2_v43': dtype('float32'),\n",
       " 'tof_2_v44': dtype('float32'),\n",
       " 'tof_2_v45': dtype('float32'),\n",
       " 'tof_2_v46': dtype('float32'),\n",
       " 'tof_2_v47': dtype('float32'),\n",
       " 'tof_2_v48': dtype('float32'),\n",
       " 'tof_2_v49': dtype('float32'),\n",
       " 'tof_2_v50': dtype('float32'),\n",
       " 'tof_2_v51': dtype('float32'),\n",
       " 'tof_2_v52': dtype('float32'),\n",
       " 'tof_2_v53': dtype('float32'),\n",
       " 'tof_2_v54': dtype('float32'),\n",
       " 'tof_2_v55': dtype('float32'),\n",
       " 'tof_2_v56': dtype('float32'),\n",
       " 'tof_2_v57': dtype('float32'),\n",
       " 'tof_2_v58': dtype('float32'),\n",
       " 'tof_2_v59': dtype('float32'),\n",
       " 'tof_2_v60': dtype('float32'),\n",
       " 'tof_2_v61': dtype('float32'),\n",
       " 'tof_2_v62': dtype('float32'),\n",
       " 'tof_2_v63': dtype('float32'),\n",
       " 'tof_3_v00': dtype('float32'),\n",
       " 'tof_3_v01': dtype('float32'),\n",
       " 'tof_3_v02': dtype('float32'),\n",
       " 'tof_3_v03': dtype('float32'),\n",
       " 'tof_3_v04': dtype('float32'),\n",
       " 'tof_3_v05': dtype('float32'),\n",
       " 'tof_3_v06': dtype('float32'),\n",
       " 'tof_3_v07': dtype('float32'),\n",
       " 'tof_3_v08': dtype('float32'),\n",
       " 'tof_3_v09': dtype('float32'),\n",
       " 'tof_3_v10': dtype('float32'),\n",
       " 'tof_3_v11': dtype('float32'),\n",
       " 'tof_3_v12': dtype('float32'),\n",
       " 'tof_3_v13': dtype('float32'),\n",
       " 'tof_3_v14': dtype('float32'),\n",
       " 'tof_3_v15': dtype('float32'),\n",
       " 'tof_3_v16': dtype('float32'),\n",
       " 'tof_3_v17': dtype('float32'),\n",
       " 'tof_3_v18': dtype('float32'),\n",
       " 'tof_3_v19': dtype('float32'),\n",
       " 'tof_3_v20': dtype('float32'),\n",
       " 'tof_3_v21': dtype('float32'),\n",
       " 'tof_3_v22': dtype('float32'),\n",
       " 'tof_3_v23': dtype('float32'),\n",
       " 'tof_3_v24': dtype('float32'),\n",
       " 'tof_3_v25': dtype('float32'),\n",
       " 'tof_3_v26': dtype('float32'),\n",
       " 'tof_3_v27': dtype('float32'),\n",
       " 'tof_3_v28': dtype('float32'),\n",
       " 'tof_3_v29': dtype('float32'),\n",
       " 'tof_3_v30': dtype('float32'),\n",
       " 'tof_3_v31': dtype('float32'),\n",
       " 'tof_3_v32': dtype('float32'),\n",
       " 'tof_3_v33': dtype('float32'),\n",
       " 'tof_3_v34': dtype('float32'),\n",
       " 'tof_3_v35': dtype('float32'),\n",
       " 'tof_3_v36': dtype('float32'),\n",
       " 'tof_3_v37': dtype('float32'),\n",
       " 'tof_3_v38': dtype('float32'),\n",
       " 'tof_3_v39': dtype('float32'),\n",
       " 'tof_3_v40': dtype('float32'),\n",
       " 'tof_3_v41': dtype('float32'),\n",
       " 'tof_3_v42': dtype('float32'),\n",
       " 'tof_3_v43': dtype('float32'),\n",
       " 'tof_3_v44': dtype('float32'),\n",
       " 'tof_3_v45': dtype('float32'),\n",
       " 'tof_3_v46': dtype('float32'),\n",
       " 'tof_3_v47': dtype('float32'),\n",
       " 'tof_3_v48': dtype('float32'),\n",
       " 'tof_3_v49': dtype('float32'),\n",
       " 'tof_3_v50': dtype('float32'),\n",
       " 'tof_3_v51': dtype('float32'),\n",
       " 'tof_3_v52': dtype('float32'),\n",
       " 'tof_3_v53': dtype('float32'),\n",
       " 'tof_3_v54': dtype('float32'),\n",
       " 'tof_3_v55': dtype('float32'),\n",
       " 'tof_3_v56': dtype('float32'),\n",
       " 'tof_3_v57': dtype('float32'),\n",
       " 'tof_3_v58': dtype('float32'),\n",
       " 'tof_3_v59': dtype('float32'),\n",
       " 'tof_3_v60': dtype('float32'),\n",
       " 'tof_3_v61': dtype('float32'),\n",
       " 'tof_3_v62': dtype('float32'),\n",
       " 'tof_3_v63': dtype('float32'),\n",
       " 'tof_4_v00': dtype('float32'),\n",
       " 'tof_4_v01': dtype('float32'),\n",
       " 'tof_4_v02': dtype('float32'),\n",
       " 'tof_4_v03': dtype('float32'),\n",
       " 'tof_4_v04': dtype('float32'),\n",
       " 'tof_4_v05': dtype('float32'),\n",
       " 'tof_4_v06': dtype('float32'),\n",
       " 'tof_4_v07': dtype('float32'),\n",
       " 'tof_4_v08': dtype('float32'),\n",
       " 'tof_4_v09': dtype('float32'),\n",
       " 'tof_4_v10': dtype('float32'),\n",
       " 'tof_4_v11': dtype('float32'),\n",
       " 'tof_4_v12': dtype('float32'),\n",
       " 'tof_4_v13': dtype('float32'),\n",
       " 'tof_4_v14': dtype('float32'),\n",
       " 'tof_4_v15': dtype('float32'),\n",
       " 'tof_4_v16': dtype('float32'),\n",
       " 'tof_4_v17': dtype('float32'),\n",
       " 'tof_4_v18': dtype('float32'),\n",
       " 'tof_4_v19': dtype('float32'),\n",
       " 'tof_4_v20': dtype('float32'),\n",
       " 'tof_4_v21': dtype('float32'),\n",
       " 'tof_4_v22': dtype('float32'),\n",
       " 'tof_4_v23': dtype('float32'),\n",
       " 'tof_4_v24': dtype('float32'),\n",
       " 'tof_4_v25': dtype('float32'),\n",
       " 'tof_4_v26': dtype('float32'),\n",
       " 'tof_4_v27': dtype('float32'),\n",
       " 'tof_4_v28': dtype('float32'),\n",
       " 'tof_4_v29': dtype('float32'),\n",
       " 'tof_4_v30': dtype('float32'),\n",
       " 'tof_4_v31': dtype('float32'),\n",
       " 'tof_4_v32': dtype('float32'),\n",
       " 'tof_4_v33': dtype('float32'),\n",
       " 'tof_4_v34': dtype('float32'),\n",
       " 'tof_4_v35': dtype('float32'),\n",
       " 'tof_4_v36': dtype('float32'),\n",
       " 'tof_4_v37': dtype('float32'),\n",
       " 'tof_4_v38': dtype('float32'),\n",
       " 'tof_4_v39': dtype('float32'),\n",
       " 'tof_4_v40': dtype('float32'),\n",
       " 'tof_4_v41': dtype('float32'),\n",
       " 'tof_4_v42': dtype('float32'),\n",
       " 'tof_4_v43': dtype('float32'),\n",
       " 'tof_4_v44': dtype('float32'),\n",
       " 'tof_4_v45': dtype('float32'),\n",
       " 'tof_4_v46': dtype('float32'),\n",
       " 'tof_4_v47': dtype('float32'),\n",
       " 'tof_4_v48': dtype('float32'),\n",
       " 'tof_4_v49': dtype('float32'),\n",
       " 'tof_4_v50': dtype('float32'),\n",
       " 'tof_4_v51': dtype('float32'),\n",
       " 'tof_4_v52': dtype('float32'),\n",
       " 'tof_4_v53': dtype('float32'),\n",
       " 'tof_4_v54': dtype('float32'),\n",
       " 'tof_4_v55': dtype('float32'),\n",
       " 'tof_4_v56': dtype('float32'),\n",
       " 'tof_4_v57': dtype('float32'),\n",
       " 'tof_4_v58': dtype('float32'),\n",
       " 'tof_4_v59': dtype('float32'),\n",
       " 'tof_4_v60': dtype('float32'),\n",
       " 'tof_4_v61': dtype('float32'),\n",
       " 'tof_4_v62': dtype('float32'),\n",
       " 'tof_4_v63': dtype('float32'),\n",
       " 'tof_5_v00': dtype('float32'),\n",
       " 'tof_5_v01': dtype('float32'),\n",
       " 'tof_5_v02': dtype('float32'),\n",
       " 'tof_5_v03': dtype('float32'),\n",
       " 'tof_5_v04': dtype('float32'),\n",
       " 'tof_5_v05': dtype('float32'),\n",
       " 'tof_5_v06': dtype('float32'),\n",
       " 'tof_5_v07': dtype('float32'),\n",
       " 'tof_5_v08': dtype('float32'),\n",
       " 'tof_5_v09': dtype('float32'),\n",
       " 'tof_5_v10': dtype('float32'),\n",
       " 'tof_5_v11': dtype('float32'),\n",
       " 'tof_5_v12': dtype('float32'),\n",
       " 'tof_5_v13': dtype('float32'),\n",
       " 'tof_5_v14': dtype('float32'),\n",
       " 'tof_5_v15': dtype('float32'),\n",
       " 'tof_5_v16': dtype('float32'),\n",
       " 'tof_5_v17': dtype('float32'),\n",
       " 'tof_5_v18': dtype('float32'),\n",
       " 'tof_5_v19': dtype('float32'),\n",
       " 'tof_5_v20': dtype('float32'),\n",
       " 'tof_5_v21': dtype('float32'),\n",
       " 'tof_5_v22': dtype('float32'),\n",
       " 'tof_5_v23': dtype('float32'),\n",
       " 'tof_5_v24': dtype('float32'),\n",
       " 'tof_5_v25': dtype('float32'),\n",
       " 'tof_5_v26': dtype('float32'),\n",
       " 'tof_5_v27': dtype('float32'),\n",
       " 'tof_5_v28': dtype('float32'),\n",
       " 'tof_5_v29': dtype('float32'),\n",
       " 'tof_5_v30': dtype('float32'),\n",
       " 'tof_5_v31': dtype('float32'),\n",
       " 'tof_5_v32': dtype('float32'),\n",
       " 'tof_5_v33': dtype('float32'),\n",
       " 'tof_5_v34': dtype('float32'),\n",
       " 'tof_5_v35': dtype('float32'),\n",
       " 'tof_5_v36': dtype('float32'),\n",
       " 'tof_5_v37': dtype('float32'),\n",
       " 'tof_5_v38': dtype('float32'),\n",
       " 'tof_5_v39': dtype('float32'),\n",
       " 'tof_5_v40': dtype('float32'),\n",
       " 'tof_5_v41': dtype('float32'),\n",
       " 'tof_5_v42': dtype('float32'),\n",
       " 'tof_5_v43': dtype('float32'),\n",
       " 'tof_5_v44': dtype('float32'),\n",
       " 'tof_5_v45': dtype('float32'),\n",
       " 'tof_5_v46': dtype('float32'),\n",
       " 'tof_5_v47': dtype('float32'),\n",
       " 'tof_5_v48': dtype('float32'),\n",
       " 'tof_5_v49': dtype('float32'),\n",
       " 'tof_5_v50': dtype('float32'),\n",
       " 'tof_5_v51': dtype('float32'),\n",
       " 'tof_5_v52': dtype('float32'),\n",
       " 'tof_5_v53': dtype('float32'),\n",
       " 'tof_5_v54': dtype('float32'),\n",
       " 'tof_5_v55': dtype('float32'),\n",
       " 'tof_5_v56': dtype('float32'),\n",
       " 'tof_5_v57': dtype('float32'),\n",
       " 'tof_5_v58': dtype('float32'),\n",
       " 'tof_5_v59': dtype('float32'),\n",
       " 'tof_5_v60': dtype('float32'),\n",
       " 'tof_5_v61': dtype('float32'),\n",
       " 'tof_5_v62': dtype('float32'),\n",
       " 'tof_5_v63': dtype('float32'),\n",
       " 'linear_acc_x': dtype('float32'),\n",
       " 'linear_acc_y': dtype('float32'),\n",
       " 'linear_acc_z': dtype('float32'),\n",
       " 'acc_mag': dtype('float32'),\n",
       " 'linear_acc_mag': dtype('float32'),\n",
       " 'quat_rot_mag': dtype('float32'),\n",
       " 'angular_vel_x': dtype('float64'),\n",
       " 'angular_vel_y': dtype('float64'),\n",
       " 'angular_vel_z': dtype('float64'),\n",
       " 'rotation_axis_x': dtype('float64'),\n",
       " 'rotation_axis_y': dtype('float64'),\n",
       " 'rotation_axis_z': dtype('float64'),\n",
       " 'delta_rot_mag': dtype('float64'),\n",
       " 'euler_x': dtype('float64'),\n",
       " 'euler_y': dtype('float64'),\n",
       " 'euler_z': dtype('float64'),\n",
       " 'Above ear - pull hair': dtype('bool'),\n",
       " 'Cheek - pinch skin': dtype('bool'),\n",
       " 'Drink from bottle/cup': dtype('bool'),\n",
       " 'Eyebrow - pull hair': dtype('bool'),\n",
       " 'Eyelash - pull hair': dtype('bool'),\n",
       " 'Feel around in tray and pull out an object': dtype('bool'),\n",
       " 'Forehead - pull hairline': dtype('bool'),\n",
       " 'Forehead - scratch': dtype('bool'),\n",
       " 'Glasses on/off': dtype('bool'),\n",
       " 'Neck - pinch skin': dtype('bool'),\n",
       " 'Neck - scratch': dtype('bool'),\n",
       " 'Pinch knee/leg skin': dtype('bool'),\n",
       " 'Pull air toward your face': dtype('bool'),\n",
       " 'Scratch knee/leg skin': dtype('bool'),\n",
       " 'Text on phone': dtype('bool'),\n",
       " 'Wave hello': dtype('bool'),\n",
       " 'Write name in air': dtype('bool'),\n",
       " 'Write name on leg': dtype('bool'),\n",
       " 'tof_1_mean': dtype('float32'),\n",
       " 'tof_1_std': dtype('float32'),\n",
       " 'tof_1_median': dtype('float32'),\n",
       " 'tof_1_min': dtype('float32'),\n",
       " 'tof_1_max': dtype('float32'),\n",
       " 'tof_1_mean_00': dtype('float32'),\n",
       " 'tof_1_mean_01': dtype('float32'),\n",
       " 'tof_1_mean_02': dtype('float32'),\n",
       " 'tof_1_mean_03': dtype('float32'),\n",
       " 'tof_1_std_00': dtype('float32'),\n",
       " 'tof_1_std_01': dtype('float32'),\n",
       " 'tof_1_std_02': dtype('float32'),\n",
       " 'tof_1_std_03': dtype('float32'),\n",
       " 'tof_1_median_00': dtype('float32'),\n",
       " 'tof_1_median_01': dtype('float32'),\n",
       " 'tof_1_median_02': dtype('float32'),\n",
       " 'tof_1_median_03': dtype('float32'),\n",
       " 'tof_1_min_00': dtype('float32'),\n",
       " 'tof_1_min_01': dtype('float32'),\n",
       " 'tof_1_min_02': dtype('float32'),\n",
       " 'tof_1_min_03': dtype('float32'),\n",
       " 'tof_1_max_00': dtype('float32'),\n",
       " 'tof_1_max_01': dtype('float32'),\n",
       " 'tof_1_max_02': dtype('float32'),\n",
       " 'tof_1_max_03': dtype('float32'),\n",
       " 'tof_2_mean': dtype('float32'),\n",
       " 'tof_2_std': dtype('float32'),\n",
       " 'tof_2_median': dtype('float32'),\n",
       " 'tof_2_min': dtype('float32'),\n",
       " 'tof_2_max': dtype('float32'),\n",
       " 'tof_2_mean_00': dtype('float32'),\n",
       " 'tof_2_mean_01': dtype('float32'),\n",
       " 'tof_2_mean_02': dtype('float32'),\n",
       " 'tof_2_mean_03': dtype('float32'),\n",
       " 'tof_2_std_00': dtype('float32'),\n",
       " 'tof_2_std_01': dtype('float32'),\n",
       " 'tof_2_std_02': dtype('float32'),\n",
       " 'tof_2_std_03': dtype('float32'),\n",
       " 'tof_2_median_00': dtype('float32'),\n",
       " 'tof_2_median_01': dtype('float32'),\n",
       " 'tof_2_median_02': dtype('float32'),\n",
       " 'tof_2_median_03': dtype('float32'),\n",
       " 'tof_2_min_00': dtype('float32'),\n",
       " 'tof_2_min_01': dtype('float32'),\n",
       " 'tof_2_min_02': dtype('float32'),\n",
       " 'tof_2_min_03': dtype('float32'),\n",
       " 'tof_2_max_00': dtype('float32'),\n",
       " 'tof_2_max_01': dtype('float32'),\n",
       " 'tof_2_max_02': dtype('float32'),\n",
       " 'tof_2_max_03': dtype('float32'),\n",
       " 'tof_3_mean': dtype('float32'),\n",
       " 'tof_3_std': dtype('float32'),\n",
       " 'tof_3_median': dtype('float32'),\n",
       " 'tof_3_min': dtype('float32'),\n",
       " 'tof_3_max': dtype('float32'),\n",
       " 'tof_3_mean_00': dtype('float32'),\n",
       " 'tof_3_mean_01': dtype('float32'),\n",
       " 'tof_3_mean_02': dtype('float32'),\n",
       " 'tof_3_mean_03': dtype('float32'),\n",
       " 'tof_3_std_00': dtype('float32'),\n",
       " 'tof_3_std_01': dtype('float32'),\n",
       " 'tof_3_std_02': dtype('float32'),\n",
       " 'tof_3_std_03': dtype('float32'),\n",
       " 'tof_3_median_00': dtype('float32'),\n",
       " 'tof_3_median_01': dtype('float32'),\n",
       " 'tof_3_median_02': dtype('float32'),\n",
       " 'tof_3_median_03': dtype('float32'),\n",
       " 'tof_3_min_00': dtype('float32'),\n",
       " 'tof_3_min_01': dtype('float32'),\n",
       " 'tof_3_min_02': dtype('float32'),\n",
       " 'tof_3_min_03': dtype('float32'),\n",
       " 'tof_3_max_00': dtype('float32'),\n",
       " 'tof_3_max_01': dtype('float32'),\n",
       " 'tof_3_max_02': dtype('float32'),\n",
       " 'tof_3_max_03': dtype('float32'),\n",
       " 'tof_4_mean': dtype('float32'),\n",
       " 'tof_4_std': dtype('float32'),\n",
       " 'tof_4_median': dtype('float32'),\n",
       " 'tof_4_min': dtype('float32'),\n",
       " 'tof_4_max': dtype('float32'),\n",
       " 'tof_4_mean_00': dtype('float32'),\n",
       " 'tof_4_mean_01': dtype('float32'),\n",
       " 'tof_4_mean_02': dtype('float32'),\n",
       " 'tof_4_mean_03': dtype('float32'),\n",
       " 'tof_4_std_00': dtype('float32'),\n",
       " 'tof_4_std_01': dtype('float32'),\n",
       " 'tof_4_std_02': dtype('float32'),\n",
       " 'tof_4_std_03': dtype('float32'),\n",
       " 'tof_4_median_00': dtype('float32'),\n",
       " 'tof_4_median_01': dtype('float32'),\n",
       " 'tof_4_median_02': dtype('float32'),\n",
       " 'tof_4_median_03': dtype('float32'),\n",
       " 'tof_4_min_00': dtype('float32'),\n",
       " 'tof_4_min_01': dtype('float32'),\n",
       " 'tof_4_min_02': dtype('float32'),\n",
       " 'tof_4_min_03': dtype('float32'),\n",
       " 'tof_4_max_00': dtype('float32'),\n",
       " 'tof_4_max_01': dtype('float32'),\n",
       " 'tof_4_max_02': dtype('float32'),\n",
       " 'tof_4_max_03': dtype('float32'),\n",
       " 'tof_5_mean': dtype('float32'),\n",
       " 'tof_5_std': dtype('float32'),\n",
       " 'tof_5_median': dtype('float32'),\n",
       " 'tof_5_min': dtype('float32'),\n",
       " 'tof_5_max': dtype('float32'),\n",
       " 'tof_5_mean_00': dtype('float32'),\n",
       " 'tof_5_mean_01': dtype('float32'),\n",
       " 'tof_5_mean_02': dtype('float32'),\n",
       " 'tof_5_mean_03': dtype('float32'),\n",
       " 'tof_5_std_00': dtype('float32'),\n",
       " 'tof_5_std_01': dtype('float32'),\n",
       " 'tof_5_std_02': dtype('float32'),\n",
       " 'tof_5_std_03': dtype('float32'),\n",
       " 'tof_5_median_00': dtype('float32'),\n",
       " 'tof_5_median_01': dtype('float32'),\n",
       " 'tof_5_median_02': dtype('float32'),\n",
       " 'tof_5_median_03': dtype('float32'),\n",
       " 'tof_5_min_00': dtype('float32'),\n",
       " 'tof_5_min_01': dtype('float32'),\n",
       " 'tof_5_min_02': dtype('float32'),\n",
       " 'tof_5_min_03': dtype('float32'),\n",
       " 'tof_5_max_00': dtype('float32'),\n",
       " 'tof_5_max_01': dtype('float32'),\n",
       " 'tof_5_max_02': dtype('float32'),\n",
       " 'tof_5_max_03': dtype('float32')}"
      ]
     },
     "execution_count": 32,
     "metadata": {},
     "output_type": "execute_result"
    }
   ],
   "source": [
    "df.dtypes.to_dict()"
   ]
  },
  {
   "cell_type": "code",
   "execution_count": 36,
   "id": "775cfd8d",
   "metadata": {},
   "outputs": [
    {
     "data": {
      "text/plain": [
       "{'tof_1_v00': 133.08370971679688,\n",
       " 'tof_1_v01': 134.34466552734375,\n",
       " 'tof_1_v02': 133.59735107421875,\n",
       " 'tof_1_v03': 134.00193786621094,\n",
       " 'tof_1_v04': 134.10398864746094,\n",
       " 'tof_1_v05': 130.62005615234375,\n",
       " 'tof_1_v06': 128.84222412109375,\n",
       " 'tof_1_v07': 128.01272583007812,\n",
       " 'tof_1_v08': 128.6644287109375,\n",
       " 'tof_1_v09': 133.32167053222656,\n",
       " 'tof_1_v10': 132.81155395507812,\n",
       " 'tof_1_v11': 132.85264587402344,\n",
       " 'tof_1_v12': 132.9197235107422,\n",
       " 'tof_1_v13': 130.57203674316406,\n",
       " 'tof_1_v14': 127.26985931396484,\n",
       " 'tof_1_v15': 125.21879577636719,\n",
       " 'tof_1_v16': 127.89131164550781,\n",
       " 'tof_1_v17': 130.84849548339844,\n",
       " 'tof_1_v18': 131.09130859375,\n",
       " 'tof_1_v19': 131.30259704589844,\n",
       " 'tof_1_v20': 132.2227783203125,\n",
       " 'tof_1_v21': 129.30514526367188,\n",
       " 'tof_1_v22': 127.80448913574219,\n",
       " 'tof_1_v23': 124.86870574951172,\n",
       " 'tof_1_v24': 123.61691284179688,\n",
       " 'tof_1_v25': 127.5324478149414,\n",
       " 'tof_1_v26': 125.38868713378906,\n",
       " 'tof_1_v27': 127.19020080566406,\n",
       " 'tof_1_v28': 126.97123718261719,\n",
       " 'tof_1_v29': 126.66825866699219,\n",
       " 'tof_1_v30': 126.85089874267578,\n",
       " 'tof_1_v31': 123.92200469970703,\n",
       " 'tof_1_v32': 119.38743591308594,\n",
       " 'tof_1_v33': 121.37803649902344,\n",
       " 'tof_1_v34': 120.44126892089844,\n",
       " 'tof_1_v35': 121.75389099121094,\n",
       " 'tof_1_v36': 123.12918853759766,\n",
       " 'tof_1_v37': 123.87942504882812,\n",
       " 'tof_1_v38': 124.0088119506836,\n",
       " 'tof_1_v39': 121.72467041015625,\n",
       " 'tof_1_v40': 109.51091003417969,\n",
       " 'tof_1_v41': 112.41163635253906,\n",
       " 'tof_1_v42': 113.5630874633789,\n",
       " 'tof_1_v43': 116.9296646118164,\n",
       " 'tof_1_v44': 117.91697692871094,\n",
       " 'tof_1_v45': 121.86119842529297,\n",
       " 'tof_1_v46': 118.95137023925781,\n",
       " 'tof_1_v47': 118.17572784423828,\n",
       " 'tof_1_v48': 101.16232299804688,\n",
       " 'tof_1_v49': 105.45812225341797,\n",
       " 'tof_1_v50': 109.5431900024414,\n",
       " 'tof_1_v51': 110.51827239990234,\n",
       " 'tof_1_v52': 114.02621459960938,\n",
       " 'tof_1_v53': 114.27456665039062,\n",
       " 'tof_1_v54': 116.02804565429688,\n",
       " 'tof_1_v55': 113.51981353759766,\n",
       " 'tof_1_v56': 94.4762954711914,\n",
       " 'tof_1_v57': 99.41831970214844,\n",
       " 'tof_1_v58': 102.0391616821289,\n",
       " 'tof_1_v59': 104.77825164794922,\n",
       " 'tof_1_v60': 106.52123260498047,\n",
       " 'tof_1_v61': 108.80927276611328,\n",
       " 'tof_1_v62': 108.81774139404297,\n",
       " 'tof_1_v63': 108.46497344970703,\n",
       " 'tof_2_v00': 113.00776672363281,\n",
       " 'tof_2_v01': 114.89997863769531,\n",
       " 'tof_2_v02': 117.46636962890625,\n",
       " 'tof_2_v03': 119.28668212890625,\n",
       " 'tof_2_v04': 119.81968688964844,\n",
       " 'tof_2_v05': 121.69329833984375,\n",
       " 'tof_2_v06': 121.17865753173828,\n",
       " 'tof_2_v07': 121.71100616455078,\n",
       " 'tof_2_v08': 108.22813415527344,\n",
       " 'tof_2_v09': 112.97115325927734,\n",
       " 'tof_2_v10': 114.64398193359375,\n",
       " 'tof_2_v11': 118.78536987304688,\n",
       " 'tof_2_v12': 120.20750427246094,\n",
       " 'tof_2_v13': 122.40056610107422,\n",
       " 'tof_2_v14': 118.6447525024414,\n",
       " 'tof_2_v15': 120.51278686523438,\n",
       " 'tof_2_v16': 109.0575180053711,\n",
       " 'tof_2_v17': 110.49689483642578,\n",
       " 'tof_2_v18': 114.72505187988281,\n",
       " 'tof_2_v19': 114.87478637695312,\n",
       " 'tof_2_v20': 115.71139526367188,\n",
       " 'tof_2_v21': 119.18802642822266,\n",
       " 'tof_2_v22': 118.45390319824219,\n",
       " 'tof_2_v23': 118.73458862304688,\n",
       " 'tof_2_v24': 109.48917388916016,\n",
       " 'tof_2_v25': 114.01490020751953,\n",
       " 'tof_2_v26': 110.11125946044922,\n",
       " 'tof_2_v27': 110.41338348388672,\n",
       " 'tof_2_v28': 111.77687072753906,\n",
       " 'tof_2_v29': 115.43962097167969,\n",
       " 'tof_2_v30': 113.45429229736328,\n",
       " 'tof_2_v31': 113.88374328613281,\n",
       " 'tof_2_v32': 106.20721435546875,\n",
       " 'tof_2_v33': 109.57295989990234,\n",
       " 'tof_2_v34': 108.1562271118164,\n",
       " 'tof_2_v35': 108.28311157226562,\n",
       " 'tof_2_v36': 106.9719467163086,\n",
       " 'tof_2_v37': 109.89558410644531,\n",
       " 'tof_2_v38': 109.54557037353516,\n",
       " 'tof_2_v39': 107.63041687011719,\n",
       " 'tof_2_v40': 101.3095703125,\n",
       " 'tof_2_v41': 103.83082580566406,\n",
       " 'tof_2_v42': 106.99813842773438,\n",
       " 'tof_2_v43': 107.25080108642578,\n",
       " 'tof_2_v44': 103.65840911865234,\n",
       " 'tof_2_v45': 109.37844848632812,\n",
       " 'tof_2_v46': 108.45447540283203,\n",
       " 'tof_2_v47': 104.34923553466797,\n",
       " 'tof_2_v48': 94.81982421875,\n",
       " 'tof_2_v49': 99.7762680053711,\n",
       " 'tof_2_v50': 103.84183502197266,\n",
       " 'tof_2_v51': 106.15857696533203,\n",
       " 'tof_2_v52': 104.1786880493164,\n",
       " 'tof_2_v53': 104.84208679199219,\n",
       " 'tof_2_v54': 100.39884948730469,\n",
       " 'tof_2_v55': 104.25162506103516,\n",
       " 'tof_2_v56': 92.48493957519531,\n",
       " 'tof_2_v57': 94.27340698242188,\n",
       " 'tof_2_v58': 95.53569030761719,\n",
       " 'tof_2_v59': 99.7827377319336,\n",
       " 'tof_2_v60': 100.37285614013672,\n",
       " 'tof_2_v61': 100.50194549560547,\n",
       " 'tof_2_v62': 97.0233154296875,\n",
       " 'tof_2_v63': 99.8788833618164,\n",
       " 'tof_3_v00': 107.82762145996094,\n",
       " 'tof_3_v01': 107.33204650878906,\n",
       " 'tof_3_v02': 108.58921813964844,\n",
       " 'tof_3_v03': 105.5662612915039,\n",
       " 'tof_3_v04': 105.63825988769531,\n",
       " 'tof_3_v05': 105.13298034667969,\n",
       " 'tof_3_v06': 103.31456756591797,\n",
       " 'tof_3_v07': 104.43392181396484,\n",
       " 'tof_3_v08': 113.22120666503906,\n",
       " 'tof_3_v09': 114.26607513427734,\n",
       " 'tof_3_v10': 114.20230102539062,\n",
       " 'tof_3_v11': 111.6475601196289,\n",
       " 'tof_3_v12': 108.92694854736328,\n",
       " 'tof_3_v13': 107.09020233154297,\n",
       " 'tof_3_v14': 104.83675384521484,\n",
       " 'tof_3_v15': 103.98450469970703,\n",
       " 'tof_3_v16': 120.43650817871094,\n",
       " 'tof_3_v17': 120.57009887695312,\n",
       " 'tof_3_v18': 119.00482940673828,\n",
       " 'tof_3_v19': 116.18580627441406,\n",
       " 'tof_3_v20': 113.0984115600586,\n",
       " 'tof_3_v21': 110.49430847167969,\n",
       " 'tof_3_v22': 108.75701141357422,\n",
       " 'tof_3_v23': 106.64208984375,\n",
       " 'tof_3_v24': 125.37218475341797,\n",
       " 'tof_3_v25': 124.21072387695312,\n",
       " 'tof_3_v26': 123.36335754394531,\n",
       " 'tof_3_v27': 121.32928466796875,\n",
       " 'tof_3_v28': 118.20863342285156,\n",
       " 'tof_3_v29': 115.75264739990234,\n",
       " 'tof_3_v30': 112.51786804199219,\n",
       " 'tof_3_v31': 105.10301971435547,\n",
       " 'tof_3_v32': 128.7863311767578,\n",
       " 'tof_3_v33': 127.72525024414062,\n",
       " 'tof_3_v34': 125.44489288330078,\n",
       " 'tof_3_v35': 121.51000213623047,\n",
       " 'tof_3_v36': 119.68368530273438,\n",
       " 'tof_3_v37': 118.40348052978516,\n",
       " 'tof_3_v38': 113.25341796875,\n",
       " 'tof_3_v39': 107.30474090576172,\n",
       " 'tof_3_v40': 127.72456359863281,\n",
       " 'tof_3_v41': 128.5284881591797,\n",
       " 'tof_3_v42': 127.2405014038086,\n",
       " 'tof_3_v43': 124.53253936767578,\n",
       " 'tof_3_v44': 121.23184967041016,\n",
       " 'tof_3_v45': 118.44755554199219,\n",
       " 'tof_3_v46': 111.73502349853516,\n",
       " 'tof_3_v47': 105.79183959960938,\n",
       " 'tof_3_v48': 127.70821380615234,\n",
       " 'tof_3_v49': 127.90943145751953,\n",
       " 'tof_3_v50': 125.42152404785156,\n",
       " 'tof_3_v51': 123.36351013183594,\n",
       " 'tof_3_v52': 121.15877532958984,\n",
       " 'tof_3_v53': 116.177734375,\n",
       " 'tof_3_v54': 109.85871887207031,\n",
       " 'tof_3_v55': 105.2031478881836,\n",
       " 'tof_3_v56': 126.6492919921875,\n",
       " 'tof_3_v57': 127.03648376464844,\n",
       " 'tof_3_v58': 124.4644546508789,\n",
       " 'tof_3_v59': 120.94441223144531,\n",
       " 'tof_3_v60': 117.48197174072266,\n",
       " 'tof_3_v61': 112.61595916748047,\n",
       " 'tof_3_v62': 106.02417755126953,\n",
       " 'tof_3_v63': 102.62718200683594,\n",
       " 'tof_4_v00': 122.81135559082031,\n",
       " 'tof_4_v01': 129.49298095703125,\n",
       " 'tof_4_v02': 134.46990966796875,\n",
       " 'tof_4_v03': 135.62608337402344,\n",
       " 'tof_4_v04': 134.74192810058594,\n",
       " 'tof_4_v05': 132.26962280273438,\n",
       " 'tof_4_v06': 127.67897033691406,\n",
       " 'tof_4_v07': 123.633544921875,\n",
       " 'tof_4_v08': 126.88534545898438,\n",
       " 'tof_4_v09': 133.12364196777344,\n",
       " 'tof_4_v10': 135.4244842529297,\n",
       " 'tof_4_v11': 137.93478393554688,\n",
       " 'tof_4_v12': 135.3853759765625,\n",
       " 'tof_4_v13': 133.5957794189453,\n",
       " 'tof_4_v14': 128.16143798828125,\n",
       " 'tof_4_v15': 123.32520294189453,\n",
       " 'tof_4_v16': 129.97064208984375,\n",
       " 'tof_4_v17': 132.1632537841797,\n",
       " 'tof_4_v18': 135.14239501953125,\n",
       " 'tof_4_v19': 135.96954345703125,\n",
       " 'tof_4_v20': 135.19955444335938,\n",
       " 'tof_4_v21': 131.46974182128906,\n",
       " 'tof_4_v22': 127.93197631835938,\n",
       " 'tof_4_v23': 121.92816925048828,\n",
       " 'tof_4_v24': 129.5387420654297,\n",
       " 'tof_4_v25': 131.24803161621094,\n",
       " 'tof_4_v26': 129.93783569335938,\n",
       " 'tof_4_v27': 130.02317810058594,\n",
       " 'tof_4_v28': 129.51727294921875,\n",
       " 'tof_4_v29': 127.71762084960938,\n",
       " 'tof_4_v30': 124.3873291015625,\n",
       " 'tof_4_v31': 119.24671936035156,\n",
       " 'tof_4_v32': 127.10511016845703,\n",
       " 'tof_4_v33': 128.0043487548828,\n",
       " 'tof_4_v34': 126.1402587890625,\n",
       " 'tof_4_v35': 126.71369934082031,\n",
       " 'tof_4_v36': 125.70994567871094,\n",
       " 'tof_4_v37': 123.79682922363281,\n",
       " 'tof_4_v38': 122.0464859008789,\n",
       " 'tof_4_v39': 116.98951721191406,\n",
       " 'tof_4_v40': 119.1889419555664,\n",
       " 'tof_4_v41': 123.05216217041016,\n",
       " 'tof_4_v42': 120.81706237792969,\n",
       " 'tof_4_v43': 121.30655670166016,\n",
       " 'tof_4_v44': 121.58942413330078,\n",
       " 'tof_4_v45': 121.07698822021484,\n",
       " 'tof_4_v46': 117.23330688476562,\n",
       " 'tof_4_v47': 116.87731170654297,\n",
       " 'tof_4_v48': 110.78031921386719,\n",
       " 'tof_4_v49': 116.70549011230469,\n",
       " 'tof_4_v50': 117.65579986572266,\n",
       " 'tof_4_v51': 118.72621154785156,\n",
       " 'tof_4_v52': 118.908447265625,\n",
       " 'tof_4_v53': 117.61595153808594,\n",
       " 'tof_4_v54': 117.04151153564453,\n",
       " 'tof_4_v55': 115.2343521118164,\n",
       " 'tof_4_v56': 104.0567855834961,\n",
       " 'tof_4_v57': 109.43623352050781,\n",
       " 'tof_4_v58': 111.71309661865234,\n",
       " 'tof_4_v59': 115.21851348876953,\n",
       " 'tof_4_v60': 115.78203582763672,\n",
       " 'tof_4_v61': 114.9760513305664,\n",
       " 'tof_4_v62': 112.71134185791016,\n",
       " 'tof_4_v63': 112.85951232910156,\n",
       " 'tof_5_v00': 121.4075927734375,\n",
       " 'tof_5_v01': 119.01516723632812,\n",
       " 'tof_5_v02': 118.6465072631836,\n",
       " 'tof_5_v03': 116.59203338623047,\n",
       " 'tof_5_v04': 114.61200714111328,\n",
       " 'tof_5_v05': 108.90281677246094,\n",
       " 'tof_5_v06': 104.24212646484375,\n",
       " 'tof_5_v07': 102.87495422363281,\n",
       " 'tof_5_v08': 124.87684631347656,\n",
       " 'tof_5_v09': 124.89437103271484,\n",
       " 'tof_5_v10': 120.17790985107422,\n",
       " 'tof_5_v11': 119.40275573730469,\n",
       " 'tof_5_v12': 113.99691772460938,\n",
       " 'tof_5_v13': 109.48697662353516,\n",
       " 'tof_5_v14': 103.60584259033203,\n",
       " 'tof_5_v15': 101.86341094970703,\n",
       " 'tof_5_v16': 128.53175354003906,\n",
       " 'tof_5_v17': 125.72352600097656,\n",
       " 'tof_5_v18': 122.01280975341797,\n",
       " 'tof_5_v19': 119.424072265625,\n",
       " 'tof_5_v20': 113.57421112060547,\n",
       " 'tof_5_v21': 111.26387023925781,\n",
       " 'tof_5_v22': 103.08829498291016,\n",
       " 'tof_5_v23': 99.25826263427734,\n",
       " 'tof_5_v24': 130.43531799316406,\n",
       " 'tof_5_v25': 128.12258911132812,\n",
       " 'tof_5_v26': 123.10396575927734,\n",
       " 'tof_5_v27': 117.3230972290039,\n",
       " 'tof_5_v28': 113.57060241699219,\n",
       " 'tof_5_v29': 109.00086975097656,\n",
       " 'tof_5_v30': 103.18279266357422,\n",
       " 'tof_5_v31': 97.25982666015625,\n",
       " 'tof_5_v32': 130.1905059814453,\n",
       " 'tof_5_v33': 128.69573974609375,\n",
       " 'tof_5_v34': 122.10704040527344,\n",
       " 'tof_5_v35': 115.81400299072266,\n",
       " 'tof_5_v36': 109.6192855834961,\n",
       " 'tof_5_v37': 105.76927947998047,\n",
       " 'tof_5_v38': 101.45001220703125,\n",
       " 'tof_5_v39': 94.09285736083984,\n",
       " 'tof_5_v40': 125.61711120605469,\n",
       " 'tof_5_v41': 125.49605560302734,\n",
       " 'tof_5_v42': 120.82261657714844,\n",
       " 'tof_5_v43': 114.15918731689453,\n",
       " 'tof_5_v44': 107.91061401367188,\n",
       " 'tof_5_v45': 102.637451171875,\n",
       " 'tof_5_v46': 97.71375274658203,\n",
       " 'tof_5_v47': 92.6865005493164,\n",
       " 'tof_5_v48': 121.5031967163086,\n",
       " 'tof_5_v49': 121.3067398071289,\n",
       " 'tof_5_v50': 119.15457916259766,\n",
       " 'tof_5_v51': 114.35322570800781,\n",
       " 'tof_5_v52': 106.7571029663086,\n",
       " 'tof_5_v53': 100.86273193359375,\n",
       " 'tof_5_v54': 96.54505157470703,\n",
       " 'tof_5_v55': 91.73274993896484,\n",
       " 'tof_5_v56': 117.2906494140625,\n",
       " 'tof_5_v57': 118.11351776123047,\n",
       " 'tof_5_v58': 113.51477813720703,\n",
       " 'tof_5_v59': 109.43204498291016,\n",
       " 'tof_5_v60': 105.04768371582031,\n",
       " 'tof_5_v61': 98.86048126220703,\n",
       " 'tof_5_v62': 95.26802062988281,\n",
       " 'tof_5_v63': 93.51573181152344,\n",
       " 'tof_1_mean': 121.35298919677734,\n",
       " 'tof_1_std': 52.88361740112305,\n",
       " 'tof_1_median': 118.96623229980469,\n",
       " 'tof_1_min': 31.393653869628906,\n",
       " 'tof_1_max': 219.7184295654297,\n",
       " 'tof_1_mean_00': 124.0372314453125,\n",
       " 'tof_1_mean_01': 124.28469848632812,\n",
       " 'tof_1_mean_02': 119.87940216064453,\n",
       " 'tof_1_mean_03': 120.51582336425781,\n",
       " 'tof_1_std_00': 49.716651916503906,\n",
       " 'tof_1_std_01': 49.285194396972656,\n",
       " 'tof_1_std_02': 49.971588134765625,\n",
       " 'tof_1_std_03': 49.61055374145508,\n",
       " 'tof_1_median_00': 122.34207916259766,\n",
       " 'tof_1_median_01': 122.46514129638672,\n",
       " 'tof_1_median_02': 117.85906219482422,\n",
       " 'tof_1_median_03': 118.51334381103516,\n",
       " 'tof_1_min_00': 39.16278076171875,\n",
       " 'tof_1_min_01': 39.92537307739258,\n",
       " 'tof_1_min_02': 35.55080795288086,\n",
       " 'tof_1_min_03': 36.72607421875,\n",
       " 'tof_1_max_00': 214.39256286621094,\n",
       " 'tof_1_max_01': 213.51260375976562,\n",
       " 'tof_1_max_02': 212.2457275390625,\n",
       " 'tof_1_max_03': 211.9644775390625,\n",
       " 'tof_2_mean': 109.60777282714844,\n",
       " 'tof_2_std': 52.6852912902832,\n",
       " 'tof_2_median': 105.20508575439453,\n",
       " 'tof_2_min': 23.96769905090332,\n",
       " 'tof_2_max': 217.1192626953125,\n",
       " 'tof_2_mean_00': 111.1014404296875,\n",
       " 'tof_2_mean_01': 112.10050201416016,\n",
       " 'tof_2_mean_02': 108.09373474121094,\n",
       " 'tof_2_mean_03': 109.06607055664062,\n",
       " 'tof_2_std_00': 49.76557540893555,\n",
       " 'tof_2_std_01': 49.2459831237793,\n",
       " 'tof_2_std_02': 49.90725326538086,\n",
       " 'tof_2_std_03': 49.373008728027344,\n",
       " 'tof_2_median_00': 107.43213653564453,\n",
       " 'tof_2_median_01': 108.8171157836914,\n",
       " 'tof_2_median_02': 104.11532592773438,\n",
       " 'tof_2_median_03': 105.45925903320312,\n",
       " 'tof_2_min_00': 30.280719757080078,\n",
       " 'tof_2_min_01': 31.47954750061035,\n",
       " 'tof_2_min_02': 27.64264488220215,\n",
       " 'tof_2_min_03': 28.961727142333984,\n",
       " 'tof_2_max_00': 209.71609497070312,\n",
       " 'tof_2_max_01': 209.20729064941406,\n",
       " 'tof_2_max_02': 208.83929443359375,\n",
       " 'tof_2_max_03': 208.48744201660156,\n",
       " 'tof_3_mean': 115.76634979248047,\n",
       " 'tof_3_std': 53.01141357421875,\n",
       " 'tof_3_median': 114.37930297851562,\n",
       " 'tof_3_min': 25.916616439819336,\n",
       " 'tof_3_max': 215.0326385498047,\n",
       " 'tof_3_mean_00': 116.99467468261719,\n",
       " 'tof_3_mean_01': 114.69644165039062,\n",
       " 'tof_3_mean_02': 118.86846923828125,\n",
       " 'tof_3_mean_03': 116.14925384521484,\n",
       " 'tof_3_std_00': 49.4810676574707,\n",
       " 'tof_3_std_01': 50.79737854003906,\n",
       " 'tof_3_std_02': 49.012393951416016,\n",
       " 'tof_3_std_03': 50.21550750732422,\n",
       " 'tof_3_median_00': 116.05072784423828,\n",
       " 'tof_3_median_01': 113.82633972167969,\n",
       " 'tof_3_median_02': 117.75041961669922,\n",
       " 'tof_3_median_03': 114.779541015625,\n",
       " 'tof_3_min_00': 32.00984573364258,\n",
       " 'tof_3_min_01': 29.569047927856445,\n",
       " 'tof_3_min_02': 33.659297943115234,\n",
       " 'tof_3_min_03': 31.337692260742188,\n",
       " 'tof_3_max_00': 206.89610290527344,\n",
       " 'tof_3_max_01': 208.3387908935547,\n",
       " 'tof_3_max_02': 208.3236846923828,\n",
       " 'tof_3_max_03': 209.21224975585938,\n",
       " 'tof_4_mean': 124.2659683227539,\n",
       " 'tof_4_std': 48.59397506713867,\n",
       " 'tof_4_median': 123.19497680664062,\n",
       " 'tof_4_min': 37.95869064331055,\n",
       " 'tof_4_max': 213.8418426513672,\n",
       " 'tof_4_mean_00': 126.9190444946289,\n",
       " 'tof_4_mean_01': 126.32627868652344,\n",
       " 'tof_4_mean_02': 124.20075225830078,\n",
       " 'tof_4_mean_03': 123.77086639404297,\n",
       " 'tof_4_std_00': 45.26776885986328,\n",
       " 'tof_4_std_01': 44.792137145996094,\n",
       " 'tof_4_std_02': 46.078834533691406,\n",
       " 'tof_4_std_03': 45.55995559692383,\n",
       " 'tof_4_median_00': 126.32654571533203,\n",
       " 'tof_4_median_01': 125.57740783691406,\n",
       " 'tof_4_median_02': 123.392822265625,\n",
       " 'tof_4_median_03': 122.32891845703125,\n",
       " 'tof_4_min_00': 45.95042037963867,\n",
       " 'tof_4_min_01': 47.267940521240234,\n",
       " 'tof_4_min_02': 43.252777099609375,\n",
       " 'tof_4_min_03': 44.80249786376953,\n",
       " 'tof_4_max_00': 208.18785095214844,\n",
       " 'tof_4_max_01': 207.4116973876953,\n",
       " 'tof_4_max_02': 208.02587890625,\n",
       " 'tof_4_max_03': 207.03944396972656,\n",
       " 'tof_5_mean': 112.30491638183594,\n",
       " 'tof_5_std': 52.8947639465332,\n",
       " 'tof_5_median': 110.00691223144531,\n",
       " 'tof_5_min': 24.80266761779785,\n",
       " 'tof_5_max': 209.53982543945312,\n",
       " 'tof_5_mean_00': 115.44291687011719,\n",
       " 'tof_5_mean_01': 111.30427551269531,\n",
       " 'tof_5_mean_02': 114.5063705444336,\n",
       " 'tof_5_mean_03': 110.26073455810547,\n",
       " 'tof_5_std_00': 49.599281311035156,\n",
       " 'tof_5_std_01': 50.02113342285156,\n",
       " 'tof_5_std_02': 49.88798522949219,\n",
       " 'tof_5_std_03': 50.252803802490234,\n",
       " 'tof_5_median_00': 113.8963394165039,\n",
       " 'tof_5_median_01': 109.18427276611328,\n",
       " 'tof_5_median_02': 113.17654418945312,\n",
       " 'tof_5_median_03': 107.7823715209961,\n",
       " 'tof_5_min_00': 31.998809814453125,\n",
       " 'tof_5_min_01': 29.379289627075195,\n",
       " 'tof_5_min_02': 31.199270248413086,\n",
       " 'tof_5_min_03': 28.846961975097656,\n",
       " 'tof_5_max_00': 203.8180694580078,\n",
       " 'tof_5_max_01': 203.1862335205078,\n",
       " 'tof_5_max_02': 203.53309631347656,\n",
       " 'tof_5_max_03': 203.12339782714844}"
      ]
     },
     "execution_count": 36,
     "metadata": {},
     "output_type": "execute_result"
    }
   ],
   "source": [
    "df[list(filter(lambda col: col.startswith(\"tof\"), df.columns))].mean().to_dict()"
   ]
  },
  {
   "cell_type": "code",
   "execution_count": 37,
   "id": "a1b344b1",
   "metadata": {},
   "outputs": [
    {
     "data": {
      "text/plain": [
       "{'acc_mag': 0,\n",
       " 'acc_x': 0,\n",
       " 'acc_y': 0,\n",
       " 'acc_z': 0,\n",
       " 'angular_vel_x': 0,\n",
       " 'angular_vel_y': 0,\n",
       " 'angular_vel_z': 0,\n",
       " 'delta_rot_mag': 0,\n",
       " 'euler_x': 0,\n",
       " 'euler_y': 0,\n",
       " 'euler_z': 0,\n",
       " 'linear_acc_mag': 0,\n",
       " 'linear_acc_x': 0,\n",
       " 'linear_acc_y': 0,\n",
       " 'linear_acc_z': 0,\n",
       " 'quat_rot_mag': 0,\n",
       " 'rot_w': 1.0,\n",
       " 'rot_x': 0,\n",
       " 'rot_y': 0,\n",
       " 'rot_z': 0,\n",
       " 'rotation_axis_x': 0,\n",
       " 'rotation_axis_y': 0,\n",
       " 'rotation_axis_z': 0,\n",
       " 'thm_1': 0,\n",
       " 'thm_2': 0,\n",
       " 'thm_3': 0,\n",
       " 'thm_4': 0,\n",
       " 'thm_5': 0,\n",
       " 'tof_1_max': 0,\n",
       " 'tof_1_max_00': 0,\n",
       " 'tof_1_max_01': 0,\n",
       " 'tof_1_max_02': 0,\n",
       " 'tof_1_max_03': 0,\n",
       " 'tof_1_mean': 0,\n",
       " 'tof_1_mean_00': 0,\n",
       " 'tof_1_mean_01': 0,\n",
       " 'tof_1_mean_02': 0,\n",
       " 'tof_1_mean_03': 0,\n",
       " 'tof_1_median': 0,\n",
       " 'tof_1_median_00': 0,\n",
       " 'tof_1_median_01': 0,\n",
       " 'tof_1_median_02': 0,\n",
       " 'tof_1_median_03': 0,\n",
       " 'tof_1_min': 0,\n",
       " 'tof_1_min_00': 0,\n",
       " 'tof_1_min_01': 0,\n",
       " 'tof_1_min_02': 0,\n",
       " 'tof_1_min_03': 0,\n",
       " 'tof_1_std': 0,\n",
       " 'tof_1_std_00': 0,\n",
       " 'tof_1_std_01': 0,\n",
       " 'tof_1_std_02': 0,\n",
       " 'tof_1_std_03': 0,\n",
       " 'tof_1_v00': 0,\n",
       " 'tof_1_v01': 0,\n",
       " 'tof_1_v02': 0,\n",
       " 'tof_1_v03': 0,\n",
       " 'tof_1_v04': 0,\n",
       " 'tof_1_v05': 0,\n",
       " 'tof_1_v06': 0,\n",
       " 'tof_1_v07': 0,\n",
       " 'tof_1_v08': 0,\n",
       " 'tof_1_v09': 0,\n",
       " 'tof_1_v10': 0,\n",
       " 'tof_1_v11': 0,\n",
       " 'tof_1_v12': 0,\n",
       " 'tof_1_v13': 0,\n",
       " 'tof_1_v14': 0,\n",
       " 'tof_1_v15': 0,\n",
       " 'tof_1_v16': 0,\n",
       " 'tof_1_v17': 0,\n",
       " 'tof_1_v18': 0,\n",
       " 'tof_1_v19': 0,\n",
       " 'tof_1_v20': 0,\n",
       " 'tof_1_v21': 0,\n",
       " 'tof_1_v22': 0,\n",
       " 'tof_1_v23': 0,\n",
       " 'tof_1_v24': 0,\n",
       " 'tof_1_v25': 0,\n",
       " 'tof_1_v26': 0,\n",
       " 'tof_1_v27': 0,\n",
       " 'tof_1_v28': 0,\n",
       " 'tof_1_v29': 0,\n",
       " 'tof_1_v30': 0,\n",
       " 'tof_1_v31': 0,\n",
       " 'tof_1_v32': 0,\n",
       " 'tof_1_v33': 0,\n",
       " 'tof_1_v34': 0,\n",
       " 'tof_1_v35': 0,\n",
       " 'tof_1_v36': 0,\n",
       " 'tof_1_v37': 0,\n",
       " 'tof_1_v38': 0,\n",
       " 'tof_1_v39': 0,\n",
       " 'tof_1_v40': 0,\n",
       " 'tof_1_v41': 0,\n",
       " 'tof_1_v42': 0,\n",
       " 'tof_1_v43': 0,\n",
       " 'tof_1_v44': 0,\n",
       " 'tof_1_v45': 0,\n",
       " 'tof_1_v46': 0,\n",
       " 'tof_1_v47': 0,\n",
       " 'tof_1_v48': 0,\n",
       " 'tof_1_v49': 0,\n",
       " 'tof_1_v50': 0,\n",
       " 'tof_1_v51': 0,\n",
       " 'tof_1_v52': 0,\n",
       " 'tof_1_v53': 0,\n",
       " 'tof_1_v54': 0,\n",
       " 'tof_1_v55': 0,\n",
       " 'tof_1_v56': 0,\n",
       " 'tof_1_v57': 0,\n",
       " 'tof_1_v58': 0,\n",
       " 'tof_1_v59': 0,\n",
       " 'tof_1_v60': 0,\n",
       " 'tof_1_v61': 0,\n",
       " 'tof_1_v62': 0,\n",
       " 'tof_1_v63': 0,\n",
       " 'tof_2_max': 0,\n",
       " 'tof_2_max_00': 0,\n",
       " 'tof_2_max_01': 0,\n",
       " 'tof_2_max_02': 0,\n",
       " 'tof_2_max_03': 0,\n",
       " 'tof_2_mean': 0,\n",
       " 'tof_2_mean_00': 0,\n",
       " 'tof_2_mean_01': 0,\n",
       " 'tof_2_mean_02': 0,\n",
       " 'tof_2_mean_03': 0,\n",
       " 'tof_2_median': 0,\n",
       " 'tof_2_median_00': 0,\n",
       " 'tof_2_median_01': 0,\n",
       " 'tof_2_median_02': 0,\n",
       " 'tof_2_median_03': 0,\n",
       " 'tof_2_min': 0,\n",
       " 'tof_2_min_00': 0,\n",
       " 'tof_2_min_01': 0,\n",
       " 'tof_2_min_02': 0,\n",
       " 'tof_2_min_03': 0,\n",
       " 'tof_2_std': 0,\n",
       " 'tof_2_std_00': 0,\n",
       " 'tof_2_std_01': 0,\n",
       " 'tof_2_std_02': 0,\n",
       " 'tof_2_std_03': 0,\n",
       " 'tof_2_v00': 0,\n",
       " 'tof_2_v01': 0,\n",
       " 'tof_2_v02': 0,\n",
       " 'tof_2_v03': 0,\n",
       " 'tof_2_v04': 0,\n",
       " 'tof_2_v05': 0,\n",
       " 'tof_2_v06': 0,\n",
       " 'tof_2_v07': 0,\n",
       " 'tof_2_v08': 0,\n",
       " 'tof_2_v09': 0,\n",
       " 'tof_2_v10': 0,\n",
       " 'tof_2_v11': 0,\n",
       " 'tof_2_v12': 0,\n",
       " 'tof_2_v13': 0,\n",
       " 'tof_2_v14': 0,\n",
       " 'tof_2_v15': 0,\n",
       " 'tof_2_v16': 0,\n",
       " 'tof_2_v17': 0,\n",
       " 'tof_2_v18': 0,\n",
       " 'tof_2_v19': 0,\n",
       " 'tof_2_v20': 0,\n",
       " 'tof_2_v21': 0,\n",
       " 'tof_2_v22': 0,\n",
       " 'tof_2_v23': 0,\n",
       " 'tof_2_v24': 0,\n",
       " 'tof_2_v25': 0,\n",
       " 'tof_2_v26': 0,\n",
       " 'tof_2_v27': 0,\n",
       " 'tof_2_v28': 0,\n",
       " 'tof_2_v29': 0,\n",
       " 'tof_2_v30': 0,\n",
       " 'tof_2_v31': 0,\n",
       " 'tof_2_v32': 0,\n",
       " 'tof_2_v33': 0,\n",
       " 'tof_2_v34': 0,\n",
       " 'tof_2_v35': 0,\n",
       " 'tof_2_v36': 0,\n",
       " 'tof_2_v37': 0,\n",
       " 'tof_2_v38': 0,\n",
       " 'tof_2_v39': 0,\n",
       " 'tof_2_v40': 0,\n",
       " 'tof_2_v41': 0,\n",
       " 'tof_2_v42': 0,\n",
       " 'tof_2_v43': 0,\n",
       " 'tof_2_v44': 0,\n",
       " 'tof_2_v45': 0,\n",
       " 'tof_2_v46': 0,\n",
       " 'tof_2_v47': 0,\n",
       " 'tof_2_v48': 0,\n",
       " 'tof_2_v49': 0,\n",
       " 'tof_2_v50': 0,\n",
       " 'tof_2_v51': 0,\n",
       " 'tof_2_v52': 0,\n",
       " 'tof_2_v53': 0,\n",
       " 'tof_2_v54': 0,\n",
       " 'tof_2_v55': 0,\n",
       " 'tof_2_v56': 0,\n",
       " 'tof_2_v57': 0,\n",
       " 'tof_2_v58': 0,\n",
       " 'tof_2_v59': 0,\n",
       " 'tof_2_v60': 0,\n",
       " 'tof_2_v61': 0,\n",
       " 'tof_2_v62': 0,\n",
       " 'tof_2_v63': 0,\n",
       " 'tof_3_max': 0,\n",
       " 'tof_3_max_00': 0,\n",
       " 'tof_3_max_01': 0,\n",
       " 'tof_3_max_02': 0,\n",
       " 'tof_3_max_03': 0,\n",
       " 'tof_3_mean': 0,\n",
       " 'tof_3_mean_00': 0,\n",
       " 'tof_3_mean_01': 0,\n",
       " 'tof_3_mean_02': 0,\n",
       " 'tof_3_mean_03': 0,\n",
       " 'tof_3_median': 0,\n",
       " 'tof_3_median_00': 0,\n",
       " 'tof_3_median_01': 0,\n",
       " 'tof_3_median_02': 0,\n",
       " 'tof_3_median_03': 0,\n",
       " 'tof_3_min': 0,\n",
       " 'tof_3_min_00': 0,\n",
       " 'tof_3_min_01': 0,\n",
       " 'tof_3_min_02': 0,\n",
       " 'tof_3_min_03': 0,\n",
       " 'tof_3_std': 0,\n",
       " 'tof_3_std_00': 0,\n",
       " 'tof_3_std_01': 0,\n",
       " 'tof_3_std_02': 0,\n",
       " 'tof_3_std_03': 0,\n",
       " 'tof_3_v00': 0,\n",
       " 'tof_3_v01': 0,\n",
       " 'tof_3_v02': 0,\n",
       " 'tof_3_v03': 0,\n",
       " 'tof_3_v04': 0,\n",
       " 'tof_3_v05': 0,\n",
       " 'tof_3_v06': 0,\n",
       " 'tof_3_v07': 0,\n",
       " 'tof_3_v08': 0,\n",
       " 'tof_3_v09': 0,\n",
       " 'tof_3_v10': 0,\n",
       " 'tof_3_v11': 0,\n",
       " 'tof_3_v12': 0,\n",
       " 'tof_3_v13': 0,\n",
       " 'tof_3_v14': 0,\n",
       " 'tof_3_v15': 0,\n",
       " 'tof_3_v16': 0,\n",
       " 'tof_3_v17': 0,\n",
       " 'tof_3_v18': 0,\n",
       " 'tof_3_v19': 0,\n",
       " 'tof_3_v20': 0,\n",
       " 'tof_3_v21': 0,\n",
       " 'tof_3_v22': 0,\n",
       " 'tof_3_v23': 0,\n",
       " 'tof_3_v24': 0,\n",
       " 'tof_3_v25': 0,\n",
       " 'tof_3_v26': 0,\n",
       " 'tof_3_v27': 0,\n",
       " 'tof_3_v28': 0,\n",
       " 'tof_3_v29': 0,\n",
       " 'tof_3_v30': 0,\n",
       " 'tof_3_v31': 0,\n",
       " 'tof_3_v32': 0,\n",
       " 'tof_3_v33': 0,\n",
       " 'tof_3_v34': 0,\n",
       " 'tof_3_v35': 0,\n",
       " 'tof_3_v36': 0,\n",
       " 'tof_3_v37': 0,\n",
       " 'tof_3_v38': 0,\n",
       " 'tof_3_v39': 0,\n",
       " 'tof_3_v40': 0,\n",
       " 'tof_3_v41': 0,\n",
       " 'tof_3_v42': 0,\n",
       " 'tof_3_v43': 0,\n",
       " 'tof_3_v44': 0,\n",
       " 'tof_3_v45': 0,\n",
       " 'tof_3_v46': 0,\n",
       " 'tof_3_v47': 0,\n",
       " 'tof_3_v48': 0,\n",
       " 'tof_3_v49': 0,\n",
       " 'tof_3_v50': 0,\n",
       " 'tof_3_v51': 0,\n",
       " 'tof_3_v52': 0,\n",
       " 'tof_3_v53': 0,\n",
       " 'tof_3_v54': 0,\n",
       " 'tof_3_v55': 0,\n",
       " 'tof_3_v56': 0,\n",
       " 'tof_3_v57': 0,\n",
       " 'tof_3_v58': 0,\n",
       " 'tof_3_v59': 0,\n",
       " 'tof_3_v60': 0,\n",
       " 'tof_3_v61': 0,\n",
       " 'tof_3_v62': 0,\n",
       " 'tof_3_v63': 0,\n",
       " 'tof_4_max': 0,\n",
       " 'tof_4_max_00': 0,\n",
       " 'tof_4_max_01': 0,\n",
       " 'tof_4_max_02': 0,\n",
       " 'tof_4_max_03': 0,\n",
       " 'tof_4_mean': 0,\n",
       " 'tof_4_mean_00': 0,\n",
       " 'tof_4_mean_01': 0,\n",
       " 'tof_4_mean_02': 0,\n",
       " 'tof_4_mean_03': 0,\n",
       " 'tof_4_median': 0,\n",
       " 'tof_4_median_00': 0,\n",
       " 'tof_4_median_01': 0,\n",
       " 'tof_4_median_02': 0,\n",
       " 'tof_4_median_03': 0,\n",
       " 'tof_4_min': 0,\n",
       " 'tof_4_min_00': 0,\n",
       " 'tof_4_min_01': 0,\n",
       " 'tof_4_min_02': 0,\n",
       " 'tof_4_min_03': 0,\n",
       " 'tof_4_std': 0,\n",
       " 'tof_4_std_00': 0,\n",
       " 'tof_4_std_01': 0,\n",
       " 'tof_4_std_02': 0,\n",
       " 'tof_4_std_03': 0,\n",
       " 'tof_4_v00': 0,\n",
       " 'tof_4_v01': 0,\n",
       " 'tof_4_v02': 0,\n",
       " 'tof_4_v03': 0,\n",
       " 'tof_4_v04': 0,\n",
       " 'tof_4_v05': 0,\n",
       " 'tof_4_v06': 0,\n",
       " 'tof_4_v07': 0,\n",
       " 'tof_4_v08': 0,\n",
       " 'tof_4_v09': 0,\n",
       " 'tof_4_v10': 0,\n",
       " 'tof_4_v11': 0,\n",
       " 'tof_4_v12': 0,\n",
       " 'tof_4_v13': 0,\n",
       " 'tof_4_v14': 0,\n",
       " 'tof_4_v15': 0,\n",
       " 'tof_4_v16': 0,\n",
       " 'tof_4_v17': 0,\n",
       " 'tof_4_v18': 0,\n",
       " 'tof_4_v19': 0,\n",
       " 'tof_4_v20': 0,\n",
       " 'tof_4_v21': 0,\n",
       " 'tof_4_v22': 0,\n",
       " 'tof_4_v23': 0,\n",
       " 'tof_4_v24': 0,\n",
       " 'tof_4_v25': 0,\n",
       " 'tof_4_v26': 0,\n",
       " 'tof_4_v27': 0,\n",
       " 'tof_4_v28': 0,\n",
       " 'tof_4_v29': 0,\n",
       " 'tof_4_v30': 0,\n",
       " 'tof_4_v31': 0,\n",
       " 'tof_4_v32': 0,\n",
       " 'tof_4_v33': 0,\n",
       " 'tof_4_v34': 0,\n",
       " 'tof_4_v35': 0,\n",
       " 'tof_4_v36': 0,\n",
       " 'tof_4_v37': 0,\n",
       " 'tof_4_v38': 0,\n",
       " 'tof_4_v39': 0,\n",
       " 'tof_4_v40': 0,\n",
       " 'tof_4_v41': 0,\n",
       " 'tof_4_v42': 0,\n",
       " 'tof_4_v43': 0,\n",
       " 'tof_4_v44': 0,\n",
       " 'tof_4_v45': 0,\n",
       " 'tof_4_v46': 0,\n",
       " 'tof_4_v47': 0,\n",
       " 'tof_4_v48': 0,\n",
       " 'tof_4_v49': 0,\n",
       " 'tof_4_v50': 0,\n",
       " 'tof_4_v51': 0,\n",
       " 'tof_4_v52': 0,\n",
       " 'tof_4_v53': 0,\n",
       " 'tof_4_v54': 0,\n",
       " 'tof_4_v55': 0,\n",
       " 'tof_4_v56': 0,\n",
       " 'tof_4_v57': 0,\n",
       " 'tof_4_v58': 0,\n",
       " 'tof_4_v59': 0,\n",
       " 'tof_4_v60': 0,\n",
       " 'tof_4_v61': 0,\n",
       " 'tof_4_v62': 0,\n",
       " 'tof_4_v63': 0,\n",
       " 'tof_5_max': 0,\n",
       " 'tof_5_max_00': 0,\n",
       " 'tof_5_max_01': 0,\n",
       " 'tof_5_max_02': 0,\n",
       " 'tof_5_max_03': 0,\n",
       " 'tof_5_mean': 0,\n",
       " 'tof_5_mean_00': 0,\n",
       " 'tof_5_mean_01': 0,\n",
       " 'tof_5_mean_02': 0,\n",
       " 'tof_5_mean_03': 0,\n",
       " 'tof_5_median': 0,\n",
       " 'tof_5_median_00': 0,\n",
       " 'tof_5_median_01': 0,\n",
       " 'tof_5_median_02': 0,\n",
       " 'tof_5_median_03': 0,\n",
       " 'tof_5_min': 0,\n",
       " 'tof_5_min_00': 0,\n",
       " 'tof_5_min_01': 0,\n",
       " 'tof_5_min_02': 0,\n",
       " 'tof_5_min_03': 0,\n",
       " 'tof_5_std': 0,\n",
       " 'tof_5_std_00': 0,\n",
       " 'tof_5_std_01': 0,\n",
       " 'tof_5_std_02': 0,\n",
       " 'tof_5_std_03': 0,\n",
       " 'tof_5_v00': 0,\n",
       " 'tof_5_v01': 0,\n",
       " 'tof_5_v02': 0,\n",
       " 'tof_5_v03': 0,\n",
       " 'tof_5_v04': 0,\n",
       " 'tof_5_v05': 0,\n",
       " 'tof_5_v06': 0,\n",
       " 'tof_5_v07': 0,\n",
       " 'tof_5_v08': 0,\n",
       " 'tof_5_v09': 0,\n",
       " 'tof_5_v10': 0,\n",
       " 'tof_5_v11': 0,\n",
       " 'tof_5_v12': 0,\n",
       " 'tof_5_v13': 0,\n",
       " 'tof_5_v14': 0,\n",
       " 'tof_5_v15': 0,\n",
       " 'tof_5_v16': 0,\n",
       " 'tof_5_v17': 0,\n",
       " 'tof_5_v18': 0,\n",
       " 'tof_5_v19': 0,\n",
       " 'tof_5_v20': 0,\n",
       " 'tof_5_v21': 0,\n",
       " 'tof_5_v22': 0,\n",
       " 'tof_5_v23': 0,\n",
       " 'tof_5_v24': 0,\n",
       " 'tof_5_v25': 0,\n",
       " 'tof_5_v26': 0,\n",
       " 'tof_5_v27': 0,\n",
       " 'tof_5_v28': 0,\n",
       " 'tof_5_v29': 0,\n",
       " 'tof_5_v30': 0,\n",
       " 'tof_5_v31': 0,\n",
       " 'tof_5_v32': 0,\n",
       " 'tof_5_v33': 0,\n",
       " 'tof_5_v34': 0,\n",
       " 'tof_5_v35': 0,\n",
       " 'tof_5_v36': 0,\n",
       " 'tof_5_v37': 0,\n",
       " 'tof_5_v38': 0,\n",
       " 'tof_5_v39': 0,\n",
       " 'tof_5_v40': 0,\n",
       " 'tof_5_v41': 0,\n",
       " 'tof_5_v42': 0,\n",
       " 'tof_5_v43': 0,\n",
       " 'tof_5_v44': 0,\n",
       " 'tof_5_v45': 0,\n",
       " 'tof_5_v46': 0,\n",
       " 'tof_5_v47': 0,\n",
       " 'tof_5_v48': 0,\n",
       " 'tof_5_v49': 0,\n",
       " 'tof_5_v50': 0,\n",
       " 'tof_5_v51': 0,\n",
       " 'tof_5_v52': 0,\n",
       " 'tof_5_v53': 0,\n",
       " 'tof_5_v54': 0,\n",
       " 'tof_5_v55': 0,\n",
       " 'tof_5_v56': 0,\n",
       " 'tof_5_v57': 0,\n",
       " 'tof_5_v58': 0,\n",
       " 'tof_5_v59': 0,\n",
       " 'tof_5_v60': 0,\n",
       " 'tof_5_v61': 0,\n",
       " 'tof_5_v62': 0,\n",
       " 'tof_5_v63': 0}"
      ]
     },
     "execution_count": 37,
     "metadata": {},
     "output_type": "execute_result"
    }
   ],
   "source": [
    "get_fillna_val_per_feature_col(df)"
   ]
  },
  {
   "cell_type": "markdown",
   "id": "daaafef8",
   "metadata": {},
   "source": [
    "### Add derivatives w.r.t time features"
   ]
  },
  {
   "cell_type": "code",
   "execution_count": 38,
   "id": "8bd05775",
   "metadata": {},
   "outputs": [],
   "source": [
    "def add_diff_features(df:DF) -> DF:\n",
    "    return pd.concat(\n",
    "        (\n",
    "            df,\n",
    "            (\n",
    "                df\n",
    "                .groupby(\"sequence_id\", as_index=False, observed=True)\n",
    "                [get_feature_cols(df)]\n",
    "                .diff()\n",
    "                .fillna(get_fillna_val_per_feature_col(df))\n",
    "                .add_suffix(\"_diff\")\n",
    "            )\n",
    "        ),\n",
    "        axis=\"columns\",\n",
    "    )\n",
    "\n",
    "df = add_diff_features(df)"
   ]
  },
  {
   "cell_type": "code",
   "execution_count": 39,
   "id": "343e0255",
   "metadata": {},
   "outputs": [
    {
     "data": {
      "text/plain": [
       "946"
      ]
     },
     "execution_count": 39,
     "metadata": {},
     "output_type": "execute_result"
    }
   ],
   "source": [
    "len(get_feature_cols(df))"
   ]
  },
  {
   "cell_type": "markdown",
   "id": "05e480d3",
   "metadata": {},
   "source": [
    "### Split into folds"
   ]
  },
  {
   "cell_type": "code",
   "execution_count": 40,
   "id": "6a97fd1c",
   "metadata": {},
   "outputs": [
    {
     "data": {
      "text/plain": [
       "['Cheek - pinch skin',\n",
       " 'Forehead - pull hairline',\n",
       " 'Write name on leg',\n",
       " 'Feel around in tray and pull out an object',\n",
       " 'Neck - scratch',\n",
       " 'Neck - pinch skin',\n",
       " 'Eyelash - pull hair',\n",
       " 'Eyebrow - pull hair',\n",
       " 'Forehead - scratch',\n",
       " 'Above ear - pull hair',\n",
       " 'Wave hello',\n",
       " 'Write name in air',\n",
       " 'Text on phone',\n",
       " 'Pull air toward your face',\n",
       " 'Pinch knee/leg skin',\n",
       " 'Scratch knee/leg skin',\n",
       " 'Drink from bottle/cup',\n",
       " 'Glasses on/off']"
      ]
     },
     "execution_count": 40,
     "metadata": {},
     "output_type": "execute_result"
    }
   ],
   "source": [
    "df[\"gesture\"].unique().tolist()"
   ]
  },
  {
   "cell_type": "code",
   "execution_count": 41,
   "id": "4bae51e8",
   "metadata": {},
   "outputs": [],
   "source": [
    "def split_dataset_stratified_groupkfold(df: pd.DataFrame, target_col: str, group_col: str) -> list[tuple[pd.DataFrame, pd.DataFrame]]:\n",
    "    sgkf = StratifiedGroupKFold(n_splits=N_FOLDS, shuffle=True)\n",
    "\n",
    "    folds = []\n",
    "    X = df.drop(columns=[target_col])\n",
    "    y = df[target_col]\n",
    "    groups = df[group_col]\n",
    "\n",
    "    for train_idx, valid_idx in sgkf.split(X, y, groups):\n",
    "        train_df = df.iloc[train_idx].copy()\n",
    "        valid_df = df.iloc[valid_idx].copy()\n",
    "        folds.append((train_df, valid_df))\n",
    "\n",
    "    return folds\n",
    "\n",
    "# Example usage:\n",
    "folds = split_dataset_stratified_groupkfold(df, target_col=\"gesture\", group_col=\"subject\")"
   ]
  },
  {
   "cell_type": "markdown",
   "id": "d81b9c0d",
   "metadata": {},
   "source": [
    "### Std norm\n",
    "Standard scale the feature cols (should probably do something different for IMU cols).  \n",
    "<!-- *Deprecated, std norm is now performed at dataset creation to avoid target leakage.*   -->"
   ]
  },
  {
   "cell_type": "code",
   "execution_count": 42,
   "id": "c9d5755e",
   "metadata": {},
   "outputs": [],
   "source": [
    "def std_norm_dataset(train:DF, val:DF) -> tuple[DF, DF]:\n",
    "    means = train[get_feature_cols(df)].mean().astype(\"float32\")\n",
    "    stds = train[get_feature_cols(df)].std().astype(\"float32\")\n",
    "    test = train[get_feature_cols(df)] - means\n",
    "    train.loc[:, get_feature_cols(df)] = (train[get_feature_cols(df)] - means) / stds\n",
    "    val.loc[:, get_feature_cols(df)] = (val[get_feature_cols(df)] - means) / stds\n",
    "    return train, val\n",
    "\n",
    "# folds = list(starmap(std_norm_dataset, folds))"
   ]
  },
  {
   "cell_type": "markdown",
   "id": "b36ccf25",
   "metadata": {},
   "source": [
    "Normalize full dataset."
   ]
  },
  {
   "cell_type": "code",
   "execution_count": 43,
   "id": "9b2c7cac",
   "metadata": {},
   "outputs": [],
   "source": [
    "# Retain full dataset meta data for inference\n",
    "full_dataset_meta_data = {\n",
    "    \"mean\": df[get_feature_cols(df)].mean().astype(\"float32\").to_dict(),\n",
    "    \"std\": df[get_feature_cols(df)].std().astype(\"float32\").to_dict(),\n",
    "}\n",
    "# df.loc[:, get_feature_cols(df)] = (df[get_feature_cols(df)] - full_dataset_meta_data[\"mean\"]) / full_dataset_meta_data['std']"
   ]
  },
  {
   "cell_type": "markdown",
   "id": "7d8a04ce",
   "metadata": {},
   "source": [
    "Verify the mean and std of the full dataset."
   ]
  },
  {
   "cell_type": "code",
   "execution_count": 44,
   "id": "b02ca859",
   "metadata": {},
   "outputs": [
    {
     "data": {
      "text/html": [
       "<div>\n",
       "<style scoped>\n",
       "    .dataframe tbody tr th:only-of-type {\n",
       "        vertical-align: middle;\n",
       "    }\n",
       "\n",
       "    .dataframe tbody tr th {\n",
       "        vertical-align: top;\n",
       "    }\n",
       "\n",
       "    .dataframe thead th {\n",
       "        text-align: right;\n",
       "    }\n",
       "</style>\n",
       "<table border=\"1\" class=\"dataframe\">\n",
       "  <thead>\n",
       "    <tr style=\"text-align: right;\">\n",
       "      <th></th>\n",
       "      <th>acc_mag</th>\n",
       "      <th>acc_mag_diff</th>\n",
       "      <th>acc_x</th>\n",
       "      <th>acc_x_diff</th>\n",
       "      <th>acc_y</th>\n",
       "      <th>acc_y_diff</th>\n",
       "      <th>acc_z</th>\n",
       "      <th>acc_z_diff</th>\n",
       "      <th>angular_vel_x</th>\n",
       "      <th>angular_vel_x_diff</th>\n",
       "      <th>...</th>\n",
       "      <th>tof_5_v59</th>\n",
       "      <th>tof_5_v59_diff</th>\n",
       "      <th>tof_5_v60</th>\n",
       "      <th>tof_5_v60_diff</th>\n",
       "      <th>tof_5_v61</th>\n",
       "      <th>tof_5_v61_diff</th>\n",
       "      <th>tof_5_v62</th>\n",
       "      <th>tof_5_v62_diff</th>\n",
       "      <th>tof_5_v63</th>\n",
       "      <th>tof_5_v63_diff</th>\n",
       "    </tr>\n",
       "  </thead>\n",
       "  <tbody>\n",
       "    <tr>\n",
       "      <th>mean</th>\n",
       "      <td>10.013321</td>\n",
       "      <td>0.000845</td>\n",
       "      <td>1.639980</td>\n",
       "      <td>-0.033817</td>\n",
       "      <td>1.790704</td>\n",
       "      <td>0.042222</td>\n",
       "      <td>-0.459811</td>\n",
       "      <td>-0.075174</td>\n",
       "      <td>0.004202</td>\n",
       "      <td>0.002148</td>\n",
       "      <td>...</td>\n",
       "      <td>109.432045</td>\n",
       "      <td>0.053868</td>\n",
       "      <td>105.047684</td>\n",
       "      <td>0.054457</td>\n",
       "      <td>98.860481</td>\n",
       "      <td>0.023232</td>\n",
       "      <td>95.268021</td>\n",
       "      <td>0.042291</td>\n",
       "      <td>93.515732</td>\n",
       "      <td>0.030533</td>\n",
       "    </tr>\n",
       "    <tr>\n",
       "      <th>std</th>\n",
       "      <td>1.212614</td>\n",
       "      <td>1.730977</td>\n",
       "      <td>5.781259</td>\n",
       "      <td>2.150647</td>\n",
       "      <td>5.003945</td>\n",
       "      <td>1.541683</td>\n",
       "      <td>6.096490</td>\n",
       "      <td>2.045596</td>\n",
       "      <td>0.197478</td>\n",
       "      <td>0.191036</td>\n",
       "      <td>...</td>\n",
       "      <td>81.556953</td>\n",
       "      <td>14.378976</td>\n",
       "      <td>80.806358</td>\n",
       "      <td>13.759714</td>\n",
       "      <td>79.785675</td>\n",
       "      <td>13.369132</td>\n",
       "      <td>77.836243</td>\n",
       "      <td>12.671128</td>\n",
       "      <td>76.951424</td>\n",
       "      <td>12.434152</td>\n",
       "    </tr>\n",
       "  </tbody>\n",
       "</table>\n",
       "<p>2 rows × 946 columns</p>\n",
       "</div>"
      ],
      "text/plain": [
       "        acc_mag  acc_mag_diff     acc_x  acc_x_diff     acc_y  acc_y_diff  \\\n",
       "mean  10.013321      0.000845  1.639980   -0.033817  1.790704    0.042222   \n",
       "std    1.212614      1.730977  5.781259    2.150647  5.003945    1.541683   \n",
       "\n",
       "         acc_z  acc_z_diff  angular_vel_x  angular_vel_x_diff  ...  \\\n",
       "mean -0.459811   -0.075174       0.004202            0.002148  ...   \n",
       "std   6.096490    2.045596       0.197478            0.191036  ...   \n",
       "\n",
       "       tof_5_v59  tof_5_v59_diff   tof_5_v60  tof_5_v60_diff  tof_5_v61  \\\n",
       "mean  109.432045        0.053868  105.047684        0.054457  98.860481   \n",
       "std    81.556953       14.378976   80.806358       13.759714  79.785675   \n",
       "\n",
       "      tof_5_v61_diff  tof_5_v62  tof_5_v62_diff  tof_5_v63  tof_5_v63_diff  \n",
       "mean        0.023232  95.268021        0.042291  93.515732        0.030533  \n",
       "std        13.369132  77.836243       12.671128  76.951424       12.434152  \n",
       "\n",
       "[2 rows x 946 columns]"
      ]
     },
     "execution_count": 44,
     "metadata": {},
     "output_type": "execute_result"
    }
   ],
   "source": [
    "df[get_feature_cols(df)].agg([\"mean\", \"std\"])"
   ]
  },
  {
   "cell_type": "markdown",
   "id": "f840652f",
   "metadata": {},
   "source": [
    "Let's compare the train to validation mean/std skews."
   ]
  },
  {
   "cell_type": "code",
   "execution_count": 45,
   "id": "9ce0ae47",
   "metadata": {},
   "outputs": [
    {
     "data": {
      "text/html": [
       "<div>\n",
       "<style scoped>\n",
       "    .dataframe tbody tr th:only-of-type {\n",
       "        vertical-align: middle;\n",
       "    }\n",
       "\n",
       "    .dataframe tbody tr th {\n",
       "        vertical-align: top;\n",
       "    }\n",
       "\n",
       "    .dataframe thead th {\n",
       "        text-align: right;\n",
       "    }\n",
       "</style>\n",
       "<table border=\"1\" class=\"dataframe\">\n",
       "  <thead>\n",
       "    <tr style=\"text-align: right;\">\n",
       "      <th></th>\n",
       "      <th></th>\n",
       "      <th>acc_mag</th>\n",
       "      <th>acc_mag_diff</th>\n",
       "      <th>acc_x</th>\n",
       "      <th>acc_x_diff</th>\n",
       "      <th>acc_y</th>\n",
       "      <th>acc_y_diff</th>\n",
       "      <th>acc_z</th>\n",
       "      <th>acc_z_diff</th>\n",
       "      <th>angular_vel_x</th>\n",
       "      <th>angular_vel_x_diff</th>\n",
       "      <th>...</th>\n",
       "      <th>tof_5_v59</th>\n",
       "      <th>tof_5_v59_diff</th>\n",
       "      <th>tof_5_v60</th>\n",
       "      <th>tof_5_v60_diff</th>\n",
       "      <th>tof_5_v61</th>\n",
       "      <th>tof_5_v61_diff</th>\n",
       "      <th>tof_5_v62</th>\n",
       "      <th>tof_5_v62_diff</th>\n",
       "      <th>tof_5_v63</th>\n",
       "      <th>tof_5_v63_diff</th>\n",
       "    </tr>\n",
       "  </thead>\n",
       "  <tbody>\n",
       "    <tr>\n",
       "      <th rowspan=\"2\" valign=\"top\">train</th>\n",
       "      <th>mean</th>\n",
       "      <td>10.009619</td>\n",
       "      <td>0.000451</td>\n",
       "      <td>1.563251</td>\n",
       "      <td>-0.032006</td>\n",
       "      <td>1.760624</td>\n",
       "      <td>0.042275</td>\n",
       "      <td>-0.484355</td>\n",
       "      <td>-0.076261</td>\n",
       "      <td>0.004113</td>\n",
       "      <td>0.001986</td>\n",
       "      <td>...</td>\n",
       "      <td>105.964638</td>\n",
       "      <td>0.049639</td>\n",
       "      <td>101.433983</td>\n",
       "      <td>0.061458</td>\n",
       "      <td>95.486946</td>\n",
       "      <td>0.019358</td>\n",
       "      <td>92.324310</td>\n",
       "      <td>0.037028</td>\n",
       "      <td>90.911377</td>\n",
       "      <td>0.024434</td>\n",
       "    </tr>\n",
       "    <tr>\n",
       "      <th>std</th>\n",
       "      <td>1.224189</td>\n",
       "      <td>1.729815</td>\n",
       "      <td>5.775934</td>\n",
       "      <td>2.149241</td>\n",
       "      <td>5.032373</td>\n",
       "      <td>1.553562</td>\n",
       "      <td>6.101391</td>\n",
       "      <td>2.059261</td>\n",
       "      <td>0.197471</td>\n",
       "      <td>0.190838</td>\n",
       "      <td>...</td>\n",
       "      <td>81.920303</td>\n",
       "      <td>14.685231</td>\n",
       "      <td>80.935104</td>\n",
       "      <td>14.034704</td>\n",
       "      <td>79.758720</td>\n",
       "      <td>13.670883</td>\n",
       "      <td>77.654091</td>\n",
       "      <td>12.901517</td>\n",
       "      <td>76.684273</td>\n",
       "      <td>12.598733</td>\n",
       "    </tr>\n",
       "    <tr>\n",
       "      <th rowspan=\"2\" valign=\"top\">validation</th>\n",
       "      <th>mean</th>\n",
       "      <td>10.027982</td>\n",
       "      <td>0.002405</td>\n",
       "      <td>1.943838</td>\n",
       "      <td>-0.040989</td>\n",
       "      <td>1.909822</td>\n",
       "      <td>0.042014</td>\n",
       "      <td>-0.362612</td>\n",
       "      <td>-0.070867</td>\n",
       "      <td>0.004556</td>\n",
       "      <td>0.002790</td>\n",
       "      <td>...</td>\n",
       "      <td>123.163506</td>\n",
       "      <td>0.070613</td>\n",
       "      <td>119.358444</td>\n",
       "      <td>0.026736</td>\n",
       "      <td>112.220161</td>\n",
       "      <td>0.038572</td>\n",
       "      <td>106.925568</td>\n",
       "      <td>0.063134</td>\n",
       "      <td>103.829384</td>\n",
       "      <td>0.054688</td>\n",
       "    </tr>\n",
       "    <tr>\n",
       "      <th>std</th>\n",
       "      <td>1.165538</td>\n",
       "      <td>1.735576</td>\n",
       "      <td>5.792351</td>\n",
       "      <td>2.156200</td>\n",
       "      <td>4.887949</td>\n",
       "      <td>1.493722</td>\n",
       "      <td>6.076095</td>\n",
       "      <td>1.990561</td>\n",
       "      <td>0.197510</td>\n",
       "      <td>0.191816</td>\n",
       "      <td>...</td>\n",
       "      <td>78.614212</td>\n",
       "      <td>13.096054</td>\n",
       "      <td>78.681259</td>\n",
       "      <td>12.611984</td>\n",
       "      <td>78.481148</td>\n",
       "      <td>12.100522</td>\n",
       "      <td>77.462761</td>\n",
       "      <td>11.714363</td>\n",
       "      <td>77.141953</td>\n",
       "      <td>11.759809</td>\n",
       "    </tr>\n",
       "  </tbody>\n",
       "</table>\n",
       "<p>4 rows × 946 columns</p>\n",
       "</div>"
      ],
      "text/plain": [
       "                   acc_mag  acc_mag_diff     acc_x  acc_x_diff     acc_y  \\\n",
       "train      mean  10.009619      0.000451  1.563251   -0.032006  1.760624   \n",
       "           std    1.224189      1.729815  5.775934    2.149241  5.032373   \n",
       "validation mean  10.027982      0.002405  1.943838   -0.040989  1.909822   \n",
       "           std    1.165538      1.735576  5.792351    2.156200  4.887949   \n",
       "\n",
       "                 acc_y_diff     acc_z  acc_z_diff  angular_vel_x  \\\n",
       "train      mean    0.042275 -0.484355   -0.076261       0.004113   \n",
       "           std     1.553562  6.101391    2.059261       0.197471   \n",
       "validation mean    0.042014 -0.362612   -0.070867       0.004556   \n",
       "           std     1.493722  6.076095    1.990561       0.197510   \n",
       "\n",
       "                 angular_vel_x_diff  ...   tof_5_v59  tof_5_v59_diff  \\\n",
       "train      mean            0.001986  ...  105.964638        0.049639   \n",
       "           std             0.190838  ...   81.920303       14.685231   \n",
       "validation mean            0.002790  ...  123.163506        0.070613   \n",
       "           std             0.191816  ...   78.614212       13.096054   \n",
       "\n",
       "                  tof_5_v60  tof_5_v60_diff   tof_5_v61  tof_5_v61_diff  \\\n",
       "train      mean  101.433983        0.061458   95.486946        0.019358   \n",
       "           std    80.935104       14.034704   79.758720       13.670883   \n",
       "validation mean  119.358444        0.026736  112.220161        0.038572   \n",
       "           std    78.681259       12.611984   78.481148       12.100522   \n",
       "\n",
       "                  tof_5_v62  tof_5_v62_diff   tof_5_v63  tof_5_v63_diff  \n",
       "train      mean   92.324310        0.037028   90.911377        0.024434  \n",
       "           std    77.654091       12.901517   76.684273       12.598733  \n",
       "validation mean  106.925568        0.063134  103.829384        0.054688  \n",
       "           std    77.462761       11.714363   77.141953       11.759809  \n",
       "\n",
       "[4 rows x 946 columns]"
      ]
     },
     "execution_count": 45,
     "metadata": {},
     "output_type": "execute_result"
    }
   ],
   "source": [
    "pd.concat({\n",
    "    \"train\": folds[0][0][get_feature_cols(df)].agg([\"mean\", \"std\"]),\n",
    "    \"validation\": folds[0][1][get_feature_cols(df)].agg([\"mean\", \"std\"]),\n",
    "})"
   ]
  },
  {
   "cell_type": "markdown",
   "id": "9bc09714",
   "metadata": {},
   "source": [
    "### Normalize sequences lengths.  \n",
    "And turn the Dataframes into ndarrays."
   ]
  },
  {
   "cell_type": "markdown",
   "id": "76699499",
   "metadata": {},
   "source": [
    "#### Visualize histogram of sequences lengths."
   ]
  },
  {
   "cell_type": "markdown",
   "id": "b3477111",
   "metadata": {},
   "source": [
    "Entire dataset sequences lengths."
   ]
  },
  {
   "cell_type": "code",
   "execution_count": 46,
   "id": "876907d8",
   "metadata": {},
   "outputs": [
    {
     "data": {
      "application/vnd.plotly.v1+json": {
       "config": {
        "plotlyServerURL": "https://plot.ly"
       },
       "data": [
        {
         "bingroup": "x",
         "hovertemplate": "variable=0<br>value=%{x}<br>count=%{y}<extra></extra>",
         "legendgroup": "0",
         "marker": {
          "color": "#636efa",
          "pattern": {
           "shape": ""
          }
         },
         "name": "0",
         "orientation": "v",
         "showlegend": true,
         "type": "histogram",
         "x": {
          "bdata": "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",
          "dtype": "i2"
         },
         "xaxis": "x",
         "yaxis": "y"
        }
       ],
       "layout": {
        "barmode": "relative",
        "legend": {
         "title": {
          "text": "variable"
         },
         "tracegroupgap": 0
        },
        "template": {
         "data": {
          "bar": [
           {
            "error_x": {
             "color": "#2a3f5f"
            },
            "error_y": {
             "color": "#2a3f5f"
            },
            "marker": {
             "line": {
              "color": "#E5ECF6",
              "width": 0.5
             },
             "pattern": {
              "fillmode": "overlay",
              "size": 10,
              "solidity": 0.2
             }
            },
            "type": "bar"
           }
          ],
          "barpolar": [
           {
            "marker": {
             "line": {
              "color": "#E5ECF6",
              "width": 0.5
             },
             "pattern": {
              "fillmode": "overlay",
              "size": 10,
              "solidity": 0.2
             }
            },
            "type": "barpolar"
           }
          ],
          "carpet": [
           {
            "aaxis": {
             "endlinecolor": "#2a3f5f",
             "gridcolor": "white",
             "linecolor": "white",
             "minorgridcolor": "white",
             "startlinecolor": "#2a3f5f"
            },
            "baxis": {
             "endlinecolor": "#2a3f5f",
             "gridcolor": "white",
             "linecolor": "white",
             "minorgridcolor": "white",
             "startlinecolor": "#2a3f5f"
            },
            "type": "carpet"
           }
          ],
          "choropleth": [
           {
            "colorbar": {
             "outlinewidth": 0,
             "ticks": ""
            },
            "type": "choropleth"
           }
          ],
          "contour": [
           {
            "colorbar": {
             "outlinewidth": 0,
             "ticks": ""
            },
            "colorscale": [
             [
              0,
              "#0d0887"
             ],
             [
              0.1111111111111111,
              "#46039f"
             ],
             [
              0.2222222222222222,
              "#7201a8"
             ],
             [
              0.3333333333333333,
              "#9c179e"
             ],
             [
              0.4444444444444444,
              "#bd3786"
             ],
             [
              0.5555555555555556,
              "#d8576b"
             ],
             [
              0.6666666666666666,
              "#ed7953"
             ],
             [
              0.7777777777777778,
              "#fb9f3a"
             ],
             [
              0.8888888888888888,
              "#fdca26"
             ],
             [
              1,
              "#f0f921"
             ]
            ],
            "type": "contour"
           }
          ],
          "contourcarpet": [
           {
            "colorbar": {
             "outlinewidth": 0,
             "ticks": ""
            },
            "type": "contourcarpet"
           }
          ],
          "heatmap": [
           {
            "colorbar": {
             "outlinewidth": 0,
             "ticks": ""
            },
            "colorscale": [
             [
              0,
              "#0d0887"
             ],
             [
              0.1111111111111111,
              "#46039f"
             ],
             [
              0.2222222222222222,
              "#7201a8"
             ],
             [
              0.3333333333333333,
              "#9c179e"
             ],
             [
              0.4444444444444444,
              "#bd3786"
             ],
             [
              0.5555555555555556,
              "#d8576b"
             ],
             [
              0.6666666666666666,
              "#ed7953"
             ],
             [
              0.7777777777777778,
              "#fb9f3a"
             ],
             [
              0.8888888888888888,
              "#fdca26"
             ],
             [
              1,
              "#f0f921"
             ]
            ],
            "type": "heatmap"
           }
          ],
          "histogram": [
           {
            "marker": {
             "pattern": {
              "fillmode": "overlay",
              "size": 10,
              "solidity": 0.2
             }
            },
            "type": "histogram"
           }
          ],
          "histogram2d": [
           {
            "colorbar": {
             "outlinewidth": 0,
             "ticks": ""
            },
            "colorscale": [
             [
              0,
              "#0d0887"
             ],
             [
              0.1111111111111111,
              "#46039f"
             ],
             [
              0.2222222222222222,
              "#7201a8"
             ],
             [
              0.3333333333333333,
              "#9c179e"
             ],
             [
              0.4444444444444444,
              "#bd3786"
             ],
             [
              0.5555555555555556,
              "#d8576b"
             ],
             [
              0.6666666666666666,
              "#ed7953"
             ],
             [
              0.7777777777777778,
              "#fb9f3a"
             ],
             [
              0.8888888888888888,
              "#fdca26"
             ],
             [
              1,
              "#f0f921"
             ]
            ],
            "type": "histogram2d"
           }
          ],
          "histogram2dcontour": [
           {
            "colorbar": {
             "outlinewidth": 0,
             "ticks": ""
            },
            "colorscale": [
             [
              0,
              "#0d0887"
             ],
             [
              0.1111111111111111,
              "#46039f"
             ],
             [
              0.2222222222222222,
              "#7201a8"
             ],
             [
              0.3333333333333333,
              "#9c179e"
             ],
             [
              0.4444444444444444,
              "#bd3786"
             ],
             [
              0.5555555555555556,
              "#d8576b"
             ],
             [
              0.6666666666666666,
              "#ed7953"
             ],
             [
              0.7777777777777778,
              "#fb9f3a"
             ],
             [
              0.8888888888888888,
              "#fdca26"
             ],
             [
              1,
              "#f0f921"
             ]
            ],
            "type": "histogram2dcontour"
           }
          ],
          "mesh3d": [
           {
            "colorbar": {
             "outlinewidth": 0,
             "ticks": ""
            },
            "type": "mesh3d"
           }
          ],
          "parcoords": [
           {
            "line": {
             "colorbar": {
              "outlinewidth": 0,
              "ticks": ""
             }
            },
            "type": "parcoords"
           }
          ],
          "pie": [
           {
            "automargin": true,
            "type": "pie"
           }
          ],
          "scatter": [
           {
            "fillpattern": {
             "fillmode": "overlay",
             "size": 10,
             "solidity": 0.2
            },
            "type": "scatter"
           }
          ],
          "scatter3d": [
           {
            "line": {
             "colorbar": {
              "outlinewidth": 0,
              "ticks": ""
             }
            },
            "marker": {
             "colorbar": {
              "outlinewidth": 0,
              "ticks": ""
             }
            },
            "type": "scatter3d"
           }
          ],
          "scattercarpet": [
           {
            "marker": {
             "colorbar": {
              "outlinewidth": 0,
              "ticks": ""
             }
            },
            "type": "scattercarpet"
           }
          ],
          "scattergeo": [
           {
            "marker": {
             "colorbar": {
              "outlinewidth": 0,
              "ticks": ""
             }
            },
            "type": "scattergeo"
           }
          ],
          "scattergl": [
           {
            "marker": {
             "colorbar": {
              "outlinewidth": 0,
              "ticks": ""
             }
            },
            "type": "scattergl"
           }
          ],
          "scattermap": [
           {
            "marker": {
             "colorbar": {
              "outlinewidth": 0,
              "ticks": ""
             }
            },
            "type": "scattermap"
           }
          ],
          "scattermapbox": [
           {
            "marker": {
             "colorbar": {
              "outlinewidth": 0,
              "ticks": ""
             }
            },
            "type": "scattermapbox"
           }
          ],
          "scatterpolar": [
           {
            "marker": {
             "colorbar": {
              "outlinewidth": 0,
              "ticks": ""
             }
            },
            "type": "scatterpolar"
           }
          ],
          "scatterpolargl": [
           {
            "marker": {
             "colorbar": {
              "outlinewidth": 0,
              "ticks": ""
             }
            },
            "type": "scatterpolargl"
           }
          ],
          "scatterternary": [
           {
            "marker": {
             "colorbar": {
              "outlinewidth": 0,
              "ticks": ""
             }
            },
            "type": "scatterternary"
           }
          ],
          "surface": [
           {
            "colorbar": {
             "outlinewidth": 0,
             "ticks": ""
            },
            "colorscale": [
             [
              0,
              "#0d0887"
             ],
             [
              0.1111111111111111,
              "#46039f"
             ],
             [
              0.2222222222222222,
              "#7201a8"
             ],
             [
              0.3333333333333333,
              "#9c179e"
             ],
             [
              0.4444444444444444,
              "#bd3786"
             ],
             [
              0.5555555555555556,
              "#d8576b"
             ],
             [
              0.6666666666666666,
              "#ed7953"
             ],
             [
              0.7777777777777778,
              "#fb9f3a"
             ],
             [
              0.8888888888888888,
              "#fdca26"
             ],
             [
              1,
              "#f0f921"
             ]
            ],
            "type": "surface"
           }
          ],
          "table": [
           {
            "cells": {
             "fill": {
              "color": "#EBF0F8"
             },
             "line": {
              "color": "white"
             }
            },
            "header": {
             "fill": {
              "color": "#C8D4E3"
             },
             "line": {
              "color": "white"
             }
            },
            "type": "table"
           }
          ]
         },
         "layout": {
          "annotationdefaults": {
           "arrowcolor": "#2a3f5f",
           "arrowhead": 0,
           "arrowwidth": 1
          },
          "autotypenumbers": "strict",
          "coloraxis": {
           "colorbar": {
            "outlinewidth": 0,
            "ticks": ""
           }
          },
          "colorscale": {
           "diverging": [
            [
             0,
             "#8e0152"
            ],
            [
             0.1,
             "#c51b7d"
            ],
            [
             0.2,
             "#de77ae"
            ],
            [
             0.3,
             "#f1b6da"
            ],
            [
             0.4,
             "#fde0ef"
            ],
            [
             0.5,
             "#f7f7f7"
            ],
            [
             0.6,
             "#e6f5d0"
            ],
            [
             0.7,
             "#b8e186"
            ],
            [
             0.8,
             "#7fbc41"
            ],
            [
             0.9,
             "#4d9221"
            ],
            [
             1,
             "#276419"
            ]
           ],
           "sequential": [
            [
             0,
             "#0d0887"
            ],
            [
             0.1111111111111111,
             "#46039f"
            ],
            [
             0.2222222222222222,
             "#7201a8"
            ],
            [
             0.3333333333333333,
             "#9c179e"
            ],
            [
             0.4444444444444444,
             "#bd3786"
            ],
            [
             0.5555555555555556,
             "#d8576b"
            ],
            [
             0.6666666666666666,
             "#ed7953"
            ],
            [
             0.7777777777777778,
             "#fb9f3a"
            ],
            [
             0.8888888888888888,
             "#fdca26"
            ],
            [
             1,
             "#f0f921"
            ]
           ],
           "sequentialminus": [
            [
             0,
             "#0d0887"
            ],
            [
             0.1111111111111111,
             "#46039f"
            ],
            [
             0.2222222222222222,
             "#7201a8"
            ],
            [
             0.3333333333333333,
             "#9c179e"
            ],
            [
             0.4444444444444444,
             "#bd3786"
            ],
            [
             0.5555555555555556,
             "#d8576b"
            ],
            [
             0.6666666666666666,
             "#ed7953"
            ],
            [
             0.7777777777777778,
             "#fb9f3a"
            ],
            [
             0.8888888888888888,
             "#fdca26"
            ],
            [
             1,
             "#f0f921"
            ]
           ]
          },
          "colorway": [
           "#636efa",
           "#EF553B",
           "#00cc96",
           "#ab63fa",
           "#FFA15A",
           "#19d3f3",
           "#FF6692",
           "#B6E880",
           "#FF97FF",
           "#FECB52"
          ],
          "font": {
           "color": "#2a3f5f"
          },
          "geo": {
           "bgcolor": "white",
           "lakecolor": "white",
           "landcolor": "#E5ECF6",
           "showlakes": true,
           "showland": true,
           "subunitcolor": "white"
          },
          "hoverlabel": {
           "align": "left"
          },
          "hovermode": "closest",
          "mapbox": {
           "style": "light"
          },
          "paper_bgcolor": "white",
          "plot_bgcolor": "#E5ECF6",
          "polar": {
           "angularaxis": {
            "gridcolor": "white",
            "linecolor": "white",
            "ticks": ""
           },
           "bgcolor": "#E5ECF6",
           "radialaxis": {
            "gridcolor": "white",
            "linecolor": "white",
            "ticks": ""
           }
          },
          "scene": {
           "xaxis": {
            "backgroundcolor": "#E5ECF6",
            "gridcolor": "white",
            "gridwidth": 2,
            "linecolor": "white",
            "showbackground": true,
            "ticks": "",
            "zerolinecolor": "white"
           },
           "yaxis": {
            "backgroundcolor": "#E5ECF6",
            "gridcolor": "white",
            "gridwidth": 2,
            "linecolor": "white",
            "showbackground": true,
            "ticks": "",
            "zerolinecolor": "white"
           },
           "zaxis": {
            "backgroundcolor": "#E5ECF6",
            "gridcolor": "white",
            "gridwidth": 2,
            "linecolor": "white",
            "showbackground": true,
            "ticks": "",
            "zerolinecolor": "white"
           }
          },
          "shapedefaults": {
           "line": {
            "color": "#2a3f5f"
           }
          },
          "ternary": {
           "aaxis": {
            "gridcolor": "white",
            "linecolor": "white",
            "ticks": ""
           },
           "baxis": {
            "gridcolor": "white",
            "linecolor": "white",
            "ticks": ""
           },
           "bgcolor": "#E5ECF6",
           "caxis": {
            "gridcolor": "white",
            "linecolor": "white",
            "ticks": ""
           }
          },
          "title": {
           "x": 0.05
          },
          "xaxis": {
           "automargin": true,
           "gridcolor": "white",
           "linecolor": "white",
           "ticks": "",
           "title": {
            "standoff": 15
           },
           "zerolinecolor": "white",
           "zerolinewidth": 2
          },
          "yaxis": {
           "automargin": true,
           "gridcolor": "white",
           "linecolor": "white",
           "ticks": "",
           "title": {
            "standoff": 15
           },
           "zerolinecolor": "white",
           "zerolinewidth": 2
          }
         }
        },
        "title": {
         "text": "Sequence length frequency"
        },
        "xaxis": {
         "anchor": "y",
         "domain": [
          0,
          1
         ],
         "title": {
          "text": "value"
         }
        },
        "yaxis": {
         "anchor": "x",
         "domain": [
          0,
          1
         ],
         "title": {
          "text": "count"
         }
        }
       }
      }
     },
     "metadata": {},
     "output_type": "display_data"
    }
   ],
   "source": [
    "px.histogram(\n",
    "    (\n",
    "        df\n",
    "        .groupby(\"sequence_id\", observed=True)\n",
    "        .size()\n",
    "    ),\n",
    "    title=\"Sequence length frequency\",\n",
    ")"
   ]
  },
  {
   "cell_type": "markdown",
   "id": "24e72f4e",
   "metadata": {},
   "source": [
    "Second(to avoid always look at the first one) Train/validation split sequences lengths comparaison."
   ]
  },
  {
   "cell_type": "code",
   "execution_count": 47,
   "id": "1a39bfce",
   "metadata": {},
   "outputs": [
    {
     "data": {
      "application/vnd.plotly.v1+json": {
       "config": {
        "plotlyServerURL": "https://plot.ly"
       },
       "data": [
        {
         "bingroup": "x",
         "hovertemplate": "set=Train<br>length=%{x}<br>count=%{y}<extra></extra>",
         "legendgroup": "Train",
         "marker": {
          "color": "#636efa",
          "opacity": 0.5,
          "pattern": {
           "shape": ""
          }
         },
         "name": "Train",
         "nbinsx": 50,
         "opacity": 0.8,
         "orientation": "v",
         "showlegend": true,
         "type": "histogram",
         "x": {
          "bdata": "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",
          "dtype": "i2"
         },
         "xaxis": "x",
         "yaxis": "y"
        },
        {
         "bingroup": "x",
         "hovertemplate": "set=Validation<br>length=%{x}<br>count=%{y}<extra></extra>",
         "legendgroup": "Validation",
         "marker": {
          "color": "#EF553B",
          "opacity": 0.5,
          "pattern": {
           "shape": ""
          }
         },
         "name": "Validation",
         "nbinsx": 50,
         "opacity": 0.8,
         "orientation": "v",
         "showlegend": true,
         "type": "histogram",
         "x": {
          "bdata": "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",
          "dtype": "i2"
         },
         "xaxis": "x",
         "yaxis": "y"
        }
       ],
       "layout": {
        "barmode": "overlay",
        "legend": {
         "title": {
          "text": "set"
         },
         "tracegroupgap": 0
        },
        "template": {
         "data": {
          "bar": [
           {
            "error_x": {
             "color": "#2a3f5f"
            },
            "error_y": {
             "color": "#2a3f5f"
            },
            "marker": {
             "line": {
              "color": "#E5ECF6",
              "width": 0.5
             },
             "pattern": {
              "fillmode": "overlay",
              "size": 10,
              "solidity": 0.2
             }
            },
            "type": "bar"
           }
          ],
          "barpolar": [
           {
            "marker": {
             "line": {
              "color": "#E5ECF6",
              "width": 0.5
             },
             "pattern": {
              "fillmode": "overlay",
              "size": 10,
              "solidity": 0.2
             }
            },
            "type": "barpolar"
           }
          ],
          "carpet": [
           {
            "aaxis": {
             "endlinecolor": "#2a3f5f",
             "gridcolor": "white",
             "linecolor": "white",
             "minorgridcolor": "white",
             "startlinecolor": "#2a3f5f"
            },
            "baxis": {
             "endlinecolor": "#2a3f5f",
             "gridcolor": "white",
             "linecolor": "white",
             "minorgridcolor": "white",
             "startlinecolor": "#2a3f5f"
            },
            "type": "carpet"
           }
          ],
          "choropleth": [
           {
            "colorbar": {
             "outlinewidth": 0,
             "ticks": ""
            },
            "type": "choropleth"
           }
          ],
          "contour": [
           {
            "colorbar": {
             "outlinewidth": 0,
             "ticks": ""
            },
            "colorscale": [
             [
              0,
              "#0d0887"
             ],
             [
              0.1111111111111111,
              "#46039f"
             ],
             [
              0.2222222222222222,
              "#7201a8"
             ],
             [
              0.3333333333333333,
              "#9c179e"
             ],
             [
              0.4444444444444444,
              "#bd3786"
             ],
             [
              0.5555555555555556,
              "#d8576b"
             ],
             [
              0.6666666666666666,
              "#ed7953"
             ],
             [
              0.7777777777777778,
              "#fb9f3a"
             ],
             [
              0.8888888888888888,
              "#fdca26"
             ],
             [
              1,
              "#f0f921"
             ]
            ],
            "type": "contour"
           }
          ],
          "contourcarpet": [
           {
            "colorbar": {
             "outlinewidth": 0,
             "ticks": ""
            },
            "type": "contourcarpet"
           }
          ],
          "heatmap": [
           {
            "colorbar": {
             "outlinewidth": 0,
             "ticks": ""
            },
            "colorscale": [
             [
              0,
              "#0d0887"
             ],
             [
              0.1111111111111111,
              "#46039f"
             ],
             [
              0.2222222222222222,
              "#7201a8"
             ],
             [
              0.3333333333333333,
              "#9c179e"
             ],
             [
              0.4444444444444444,
              "#bd3786"
             ],
             [
              0.5555555555555556,
              "#d8576b"
             ],
             [
              0.6666666666666666,
              "#ed7953"
             ],
             [
              0.7777777777777778,
              "#fb9f3a"
             ],
             [
              0.8888888888888888,
              "#fdca26"
             ],
             [
              1,
              "#f0f921"
             ]
            ],
            "type": "heatmap"
           }
          ],
          "histogram": [
           {
            "marker": {
             "pattern": {
              "fillmode": "overlay",
              "size": 10,
              "solidity": 0.2
             }
            },
            "type": "histogram"
           }
          ],
          "histogram2d": [
           {
            "colorbar": {
             "outlinewidth": 0,
             "ticks": ""
            },
            "colorscale": [
             [
              0,
              "#0d0887"
             ],
             [
              0.1111111111111111,
              "#46039f"
             ],
             [
              0.2222222222222222,
              "#7201a8"
             ],
             [
              0.3333333333333333,
              "#9c179e"
             ],
             [
              0.4444444444444444,
              "#bd3786"
             ],
             [
              0.5555555555555556,
              "#d8576b"
             ],
             [
              0.6666666666666666,
              "#ed7953"
             ],
             [
              0.7777777777777778,
              "#fb9f3a"
             ],
             [
              0.8888888888888888,
              "#fdca26"
             ],
             [
              1,
              "#f0f921"
             ]
            ],
            "type": "histogram2d"
           }
          ],
          "histogram2dcontour": [
           {
            "colorbar": {
             "outlinewidth": 0,
             "ticks": ""
            },
            "colorscale": [
             [
              0,
              "#0d0887"
             ],
             [
              0.1111111111111111,
              "#46039f"
             ],
             [
              0.2222222222222222,
              "#7201a8"
             ],
             [
              0.3333333333333333,
              "#9c179e"
             ],
             [
              0.4444444444444444,
              "#bd3786"
             ],
             [
              0.5555555555555556,
              "#d8576b"
             ],
             [
              0.6666666666666666,
              "#ed7953"
             ],
             [
              0.7777777777777778,
              "#fb9f3a"
             ],
             [
              0.8888888888888888,
              "#fdca26"
             ],
             [
              1,
              "#f0f921"
             ]
            ],
            "type": "histogram2dcontour"
           }
          ],
          "mesh3d": [
           {
            "colorbar": {
             "outlinewidth": 0,
             "ticks": ""
            },
            "type": "mesh3d"
           }
          ],
          "parcoords": [
           {
            "line": {
             "colorbar": {
              "outlinewidth": 0,
              "ticks": ""
             }
            },
            "type": "parcoords"
           }
          ],
          "pie": [
           {
            "automargin": true,
            "type": "pie"
           }
          ],
          "scatter": [
           {
            "fillpattern": {
             "fillmode": "overlay",
             "size": 10,
             "solidity": 0.2
            },
            "type": "scatter"
           }
          ],
          "scatter3d": [
           {
            "line": {
             "colorbar": {
              "outlinewidth": 0,
              "ticks": ""
             }
            },
            "marker": {
             "colorbar": {
              "outlinewidth": 0,
              "ticks": ""
             }
            },
            "type": "scatter3d"
           }
          ],
          "scattercarpet": [
           {
            "marker": {
             "colorbar": {
              "outlinewidth": 0,
              "ticks": ""
             }
            },
            "type": "scattercarpet"
           }
          ],
          "scattergeo": [
           {
            "marker": {
             "colorbar": {
              "outlinewidth": 0,
              "ticks": ""
             }
            },
            "type": "scattergeo"
           }
          ],
          "scattergl": [
           {
            "marker": {
             "colorbar": {
              "outlinewidth": 0,
              "ticks": ""
             }
            },
            "type": "scattergl"
           }
          ],
          "scattermap": [
           {
            "marker": {
             "colorbar": {
              "outlinewidth": 0,
              "ticks": ""
             }
            },
            "type": "scattermap"
           }
          ],
          "scattermapbox": [
           {
            "marker": {
             "colorbar": {
              "outlinewidth": 0,
              "ticks": ""
             }
            },
            "type": "scattermapbox"
           }
          ],
          "scatterpolar": [
           {
            "marker": {
             "colorbar": {
              "outlinewidth": 0,
              "ticks": ""
             }
            },
            "type": "scatterpolar"
           }
          ],
          "scatterpolargl": [
           {
            "marker": {
             "colorbar": {
              "outlinewidth": 0,
              "ticks": ""
             }
            },
            "type": "scatterpolargl"
           }
          ],
          "scatterternary": [
           {
            "marker": {
             "colorbar": {
              "outlinewidth": 0,
              "ticks": ""
             }
            },
            "type": "scatterternary"
           }
          ],
          "surface": [
           {
            "colorbar": {
             "outlinewidth": 0,
             "ticks": ""
            },
            "colorscale": [
             [
              0,
              "#0d0887"
             ],
             [
              0.1111111111111111,
              "#46039f"
             ],
             [
              0.2222222222222222,
              "#7201a8"
             ],
             [
              0.3333333333333333,
              "#9c179e"
             ],
             [
              0.4444444444444444,
              "#bd3786"
             ],
             [
              0.5555555555555556,
              "#d8576b"
             ],
             [
              0.6666666666666666,
              "#ed7953"
             ],
             [
              0.7777777777777778,
              "#fb9f3a"
             ],
             [
              0.8888888888888888,
              "#fdca26"
             ],
             [
              1,
              "#f0f921"
             ]
            ],
            "type": "surface"
           }
          ],
          "table": [
           {
            "cells": {
             "fill": {
              "color": "#EBF0F8"
             },
             "line": {
              "color": "white"
             }
            },
            "header": {
             "fill": {
              "color": "#C8D4E3"
             },
             "line": {
              "color": "white"
             }
            },
            "type": "table"
           }
          ]
         },
         "layout": {
          "annotationdefaults": {
           "arrowcolor": "#2a3f5f",
           "arrowhead": 0,
           "arrowwidth": 1
          },
          "autotypenumbers": "strict",
          "coloraxis": {
           "colorbar": {
            "outlinewidth": 0,
            "ticks": ""
           }
          },
          "colorscale": {
           "diverging": [
            [
             0,
             "#8e0152"
            ],
            [
             0.1,
             "#c51b7d"
            ],
            [
             0.2,
             "#de77ae"
            ],
            [
             0.3,
             "#f1b6da"
            ],
            [
             0.4,
             "#fde0ef"
            ],
            [
             0.5,
             "#f7f7f7"
            ],
            [
             0.6,
             "#e6f5d0"
            ],
            [
             0.7,
             "#b8e186"
            ],
            [
             0.8,
             "#7fbc41"
            ],
            [
             0.9,
             "#4d9221"
            ],
            [
             1,
             "#276419"
            ]
           ],
           "sequential": [
            [
             0,
             "#0d0887"
            ],
            [
             0.1111111111111111,
             "#46039f"
            ],
            [
             0.2222222222222222,
             "#7201a8"
            ],
            [
             0.3333333333333333,
             "#9c179e"
            ],
            [
             0.4444444444444444,
             "#bd3786"
            ],
            [
             0.5555555555555556,
             "#d8576b"
            ],
            [
             0.6666666666666666,
             "#ed7953"
            ],
            [
             0.7777777777777778,
             "#fb9f3a"
            ],
            [
             0.8888888888888888,
             "#fdca26"
            ],
            [
             1,
             "#f0f921"
            ]
           ],
           "sequentialminus": [
            [
             0,
             "#0d0887"
            ],
            [
             0.1111111111111111,
             "#46039f"
            ],
            [
             0.2222222222222222,
             "#7201a8"
            ],
            [
             0.3333333333333333,
             "#9c179e"
            ],
            [
             0.4444444444444444,
             "#bd3786"
            ],
            [
             0.5555555555555556,
             "#d8576b"
            ],
            [
             0.6666666666666666,
             "#ed7953"
            ],
            [
             0.7777777777777778,
             "#fb9f3a"
            ],
            [
             0.8888888888888888,
             "#fdca26"
            ],
            [
             1,
             "#f0f921"
            ]
           ]
          },
          "colorway": [
           "#636efa",
           "#EF553B",
           "#00cc96",
           "#ab63fa",
           "#FFA15A",
           "#19d3f3",
           "#FF6692",
           "#B6E880",
           "#FF97FF",
           "#FECB52"
          ],
          "font": {
           "color": "#2a3f5f"
          },
          "geo": {
           "bgcolor": "white",
           "lakecolor": "white",
           "landcolor": "#E5ECF6",
           "showlakes": true,
           "showland": true,
           "subunitcolor": "white"
          },
          "hoverlabel": {
           "align": "left"
          },
          "hovermode": "closest",
          "mapbox": {
           "style": "light"
          },
          "paper_bgcolor": "white",
          "plot_bgcolor": "#E5ECF6",
          "polar": {
           "angularaxis": {
            "gridcolor": "white",
            "linecolor": "white",
            "ticks": ""
           },
           "bgcolor": "#E5ECF6",
           "radialaxis": {
            "gridcolor": "white",
            "linecolor": "white",
            "ticks": ""
           }
          },
          "scene": {
           "xaxis": {
            "backgroundcolor": "#E5ECF6",
            "gridcolor": "white",
            "gridwidth": 2,
            "linecolor": "white",
            "showbackground": true,
            "ticks": "",
            "zerolinecolor": "white"
           },
           "yaxis": {
            "backgroundcolor": "#E5ECF6",
            "gridcolor": "white",
            "gridwidth": 2,
            "linecolor": "white",
            "showbackground": true,
            "ticks": "",
            "zerolinecolor": "white"
           },
           "zaxis": {
            "backgroundcolor": "#E5ECF6",
            "gridcolor": "white",
            "gridwidth": 2,
            "linecolor": "white",
            "showbackground": true,
            "ticks": "",
            "zerolinecolor": "white"
           }
          },
          "shapedefaults": {
           "line": {
            "color": "#2a3f5f"
           }
          },
          "ternary": {
           "aaxis": {
            "gridcolor": "white",
            "linecolor": "white",
            "ticks": ""
           },
           "baxis": {
            "gridcolor": "white",
            "linecolor": "white",
            "ticks": ""
           },
           "bgcolor": "#E5ECF6",
           "caxis": {
            "gridcolor": "white",
            "linecolor": "white",
            "ticks": ""
           }
          },
          "title": {
           "x": 0.05
          },
          "xaxis": {
           "automargin": true,
           "gridcolor": "white",
           "linecolor": "white",
           "ticks": "",
           "title": {
            "standoff": 15
           },
           "zerolinecolor": "white",
           "zerolinewidth": 2
          },
          "yaxis": {
           "automargin": true,
           "gridcolor": "white",
           "linecolor": "white",
           "ticks": "",
           "title": {
            "standoff": 15
           },
           "zerolinecolor": "white",
           "zerolinewidth": 2
          }
         }
        },
        "title": {
         "text": "Sequence Length Distribution: Train vs Validation"
        },
        "xaxis": {
         "anchor": "y",
         "domain": [
          0,
          1
         ],
         "title": {
          "text": "length"
         }
        },
        "yaxis": {
         "anchor": "x",
         "domain": [
          0,
          1
         ],
         "title": {
          "text": "count"
         }
        }
       }
      }
     },
     "metadata": {},
     "output_type": "display_data"
    }
   ],
   "source": [
    "def get_set_sequences_lengths(set:DF, name:str) -> DF:\n",
    "    return (\n",
    "        set\n",
    "        .groupby(\"sequence_id\", observed=True)\n",
    "        .size()\n",
    "        .reset_index(name=\"length\")\n",
    "        .assign(set=name)\n",
    "    )\n",
    "\n",
    "full_se_lengths = pd.concat((\n",
    "    get_set_sequences_lengths(folds[2][0], \"Train\"),\n",
    "    get_set_sequences_lengths(folds[2][1], \"Validation\"),\n",
    "))\n",
    "\n",
    "fig = px.histogram(\n",
    "    full_se_lengths,\n",
    "    x=\"length\",\n",
    "    color=\"set\",\n",
    "    barmode=\"overlay\",  # or 'group' if you want side-by-side bars\n",
    "    nbins=50,           # adjust bin size if needed\n",
    "    title=\"Sequence Length Distribution: Train vs Validation\"\n",
    ")\n",
    "\n",
    "fig.update_traces(opacity=0.8)  # better visibility with overlay\n",
    "fig.show()\n"
   ]
  },
  {
   "cell_type": "code",
   "execution_count": 48,
   "id": "c1d46756",
   "metadata": {},
   "outputs": [
    {
     "name": "stdout",
     "output_type": "stream",
     "text": [
      "train normed sequence len: 126\n",
      "validation normed sequence len: 127\n",
      "\n",
      "train normed sequence len: 119\n",
      "validation normed sequence len: 159\n",
      "\n",
      "train normed sequence len: 133\n",
      "validation normed sequence len: 105\n",
      "\n",
      "train normed sequence len: 129\n",
      "validation normed sequence len: 118\n",
      "\n",
      "train normed sequence len: 127\n",
      "validation normed sequence len: 123\n",
      "\n"
     ]
    }
   ],
   "source": [
    "for train, val in folds:\n",
    "    print(\"train normed sequence len:\", int(train.groupby(\"sequence_id\", observed=True).size().quantile(SEQUENCE_NORMED_LEN_QUANTILE)))\n",
    "    print(\"validation normed sequence len:\", int(val.groupby(\"sequence_id\", observed=True).size().quantile(SEQUENCE_NORMED_LEN_QUANTILE)))\n",
    "    print()"
   ]
  },
  {
   "cell_type": "markdown",
   "id": "c89d5f21",
   "metadata": {},
   "source": [
    "#### Sequence length norm implementation"
   ]
  },
  {
   "cell_type": "code",
   "execution_count": 49,
   "id": "5d128055",
   "metadata": {},
   "outputs": [],
   "source": [
    "def length_normed_sequence_feat_arr(\n",
    "        sequence: DF,\n",
    "        normed_sequence_len: int,\n",
    "        pad_trunc_mode:Literal[\"pre\", \"center\", \"post\"]\n",
    "    ) -> ndarray:\n",
    "    features = (\n",
    "        sequence\n",
    "        .loc[:, get_feature_cols(df)]\n",
    "        .values\n",
    "    )\n",
    "    len_diff = abs(normed_sequence_len - len(features))\n",
    "    len_diff_h = len_diff // 2 # half len diff\n",
    "    len_diff_r = len_diff % 2 # len diff remainder\n",
    "    if len(features) < normed_sequence_len:\n",
    "        padding_dict = {\n",
    "            \"pre\": (len_diff, 0),\n",
    "            \"center\": (len_diff_h + len_diff_r, len_diff_h),\n",
    "            \"post\": (0, len_diff),\n",
    "        }\n",
    "        padded_features = np.pad(\n",
    "            features,\n",
    "            (padding_dict[pad_trunc_mode], (0, 0)),\n",
    "        )\n",
    "        return padded_features\n",
    "    elif len(features) > normed_sequence_len:\n",
    "        truncating_dict = {\n",
    "            \"pre\": slice(len_diff),\n",
    "            \"center\": slice(len_diff_h, -len_diff_h),\n",
    "            \"post\": slice(0, -len_diff),\n",
    "        }\n",
    "        return features[len_diff // 2:-len_diff // 2]\n",
    "    else:\n",
    "        return features\n",
    "\n",
    "def df_to_ndarrays(df:DF, normed_sequence_len:int, seq_pad_trunc_mode:str) -> tuple[np.ndarray, np.ndarray]:\n",
    "    sequence_it = df.groupby(\"sequence_id\", observed=True, as_index=False)\n",
    "    x = np.empty(\n",
    "        shape=(len(sequence_it), normed_sequence_len, len(get_feature_cols(df))),\n",
    "        dtype=\"float32\"\n",
    "    )\n",
    "    y = np.empty(\n",
    "        shape=(len(sequence_it), len(TARGET_NAMES)),\n",
    "        dtype=\"float32\"\n",
    "    )\n",
    "    for sequence_idx, (_, sequence) in tqdm(enumerate(sequence_it), total=len(sequence_it)):\n",
    "        normed_seq_feat_arr = length_normed_sequence_feat_arr(sequence, normed_sequence_len, seq_pad_trunc_mode)\n",
    "        x[sequence_idx] = normed_seq_feat_arr\n",
    "        # Take the first value as they are(or at least should be) all the same in a single sequence\n",
    "        y[sequence_idx] = sequence[TARGET_NAMES].iloc[0].values\n",
    "\n",
    "    return x, y\n",
    "\n",
    "def get_normed_seq_len(dataset:DF) -> int:\n",
    "    return int(\n",
    "        dataset\n",
    "        .groupby(\"sequence_id\", observed=True)\n",
    "        .size()\n",
    "        .quantile(SEQUENCE_NORMED_LEN_QUANTILE)\n",
    "    )\n",
    "\n",
    "def fold_dfs_to_ndarrays(train:DF, validation:DF, seq_pad_trunc_mode:str) -> tuple[ndarray, ndarray, ndarray, ndarray]:\n",
    "    \"\"\"\n",
    "    Returns:\n",
    "        (train X, train Y, validation X, validation Y)\n",
    "    \"\"\"\n",
    "    full_dataset_normed_seq_len = get_normed_seq_len(df)\n",
    "    return (\n",
    "        *df_to_ndarrays(train, full_dataset_normed_seq_len, seq_pad_trunc_mode),\n",
    "        *df_to_ndarrays(validation, full_dataset_normed_seq_len, seq_pad_trunc_mode),\n",
    "    )"
   ]
  },
  {
   "cell_type": "markdown",
   "id": "b99f60c2",
   "metadata": {},
   "source": [
    "## Create dataset"
   ]
  },
  {
   "cell_type": "code",
   "execution_count": 50,
   "id": "a46b79b2",
   "metadata": {},
   "outputs": [
    {
     "data": {
      "application/vnd.jupyter.widget-view+json": {
       "model_id": "2ef3f95008134c0f91e58d46654b1bed",
       "version_major": 2,
       "version_minor": 0
      },
      "text/plain": [
       "  0%|          | 0/6519 [00:00<?, ?it/s]"
      ]
     },
     "metadata": {},
     "output_type": "display_data"
    },
    {
     "data": {
      "application/vnd.jupyter.widget-view+json": {
       "model_id": "42c324bb20944bd88be4b07cbfb02d13",
       "version_major": 2,
       "version_minor": 0
      },
      "text/plain": [
       "  0%|          | 0/1632 [00:00<?, ?it/s]"
      ]
     },
     "metadata": {},
     "output_type": "display_data"
    },
    {
     "data": {
      "application/vnd.jupyter.widget-view+json": {
       "model_id": "4d46cf1c7b224b2db40c3952c598dbec",
       "version_major": 2,
       "version_minor": 0
      },
      "text/plain": [
       "  0%|          | 0/6417 [00:00<?, ?it/s]"
      ]
     },
     "metadata": {},
     "output_type": "display_data"
    },
    {
     "data": {
      "application/vnd.jupyter.widget-view+json": {
       "model_id": "d20f820dd7e140f7aa6f87e8beb336a2",
       "version_major": 2,
       "version_minor": 0
      },
      "text/plain": [
       "  0%|          | 0/1734 [00:00<?, ?it/s]"
      ]
     },
     "metadata": {},
     "output_type": "display_data"
    },
    {
     "data": {
      "application/vnd.jupyter.widget-view+json": {
       "model_id": "b43812daa5ab43a9baa3d19a2390e23c",
       "version_major": 2,
       "version_minor": 0
      },
      "text/plain": [
       "  0%|          | 0/6524 [00:00<?, ?it/s]"
      ]
     },
     "metadata": {},
     "output_type": "display_data"
    },
    {
     "data": {
      "application/vnd.jupyter.widget-view+json": {
       "model_id": "274d2b12971443caabe0abb2023d7824",
       "version_major": 2,
       "version_minor": 0
      },
      "text/plain": [
       "  0%|          | 0/1627 [00:00<?, ?it/s]"
      ]
     },
     "metadata": {},
     "output_type": "display_data"
    },
    {
     "data": {
      "application/vnd.jupyter.widget-view+json": {
       "model_id": "600748317faf4552972b96ca19198974",
       "version_major": 2,
       "version_minor": 0
      },
      "text/plain": [
       "  0%|          | 0/6574 [00:00<?, ?it/s]"
      ]
     },
     "metadata": {},
     "output_type": "display_data"
    },
    {
     "data": {
      "application/vnd.jupyter.widget-view+json": {
       "model_id": "1adb9b451f3048e7b23e58da4f75644c",
       "version_major": 2,
       "version_minor": 0
      },
      "text/plain": [
       "  0%|          | 0/1577 [00:00<?, ?it/s]"
      ]
     },
     "metadata": {},
     "output_type": "display_data"
    },
    {
     "data": {
      "application/vnd.jupyter.widget-view+json": {
       "model_id": "6d35337dfd0240ae9f505b83e9ffe4da",
       "version_major": 2,
       "version_minor": 0
      },
      "text/plain": [
       "  0%|          | 0/6570 [00:00<?, ?it/s]"
      ]
     },
     "metadata": {},
     "output_type": "display_data"
    },
    {
     "data": {
      "application/vnd.jupyter.widget-view+json": {
       "model_id": "782d1cb73b1d4ee5b83f9054d359aad2",
       "version_major": 2,
       "version_minor": 0
      },
      "text/plain": [
       "  0%|          | 0/1581 [00:00<?, ?it/s]"
      ]
     },
     "metadata": {},
     "output_type": "display_data"
    },
    {
     "data": {
      "application/vnd.jupyter.widget-view+json": {
       "model_id": "6e107690732b428aabe8f2196167279a",
       "version_major": 2,
       "version_minor": 0
      },
      "text/plain": [
       "  0%|          | 0/8151 [00:00<?, ?it/s]"
      ]
     },
     "metadata": {},
     "output_type": "display_data"
    },
    {
     "data": {
      "text/plain": [
       "'/root/repos/CMI-2025-competition/notebooks/preprocessed_dataset.zip'"
      ]
     },
     "execution_count": 50,
     "metadata": {},
     "output_type": "execute_result"
    }
   ],
   "source": [
    "# Clean dataset directory if it already exists\n",
    "! rm -rf preprocessed_dataset\n",
    "# Create dataset direcory\n",
    "! mkdir preprocessed_dataset\n",
    "# Save folds\n",
    "for pad_trunc_mode in (\"center\", ):\n",
    "    folds_it = enumerate(starmap(partial(fold_dfs_to_ndarrays, seq_pad_trunc_mode=pad_trunc_mode), folds))\n",
    "    for fold_i, (train_x, train_y, val_x, val_y) in folds_it:\n",
    "        fold_dir_path = join(\"preprocessed_dataset\", pad_trunc_mode, f\"fold_{fold_i}\")\n",
    "        os.makedirs(fold_dir_path)\n",
    "        # save features (X)\n",
    "        np.save(join(fold_dir_path, \"train_X.npy\"), train_x, allow_pickle=False)\n",
    "        np.save(join(fold_dir_path, \"validation_X.npy\"), val_x, allow_pickle=False)\n",
    "        # Save targets (Y)\n",
    "        np.save(join(fold_dir_path, \"train_Y.npy\"), train_y, allow_pickle=False)\n",
    "        np.save(join(fold_dir_path, \"validation_Y.npy\"), val_y, allow_pickle=False)\n",
    "    # Save full dataset\n",
    "    full_dataset_dir_path = join(\"preprocessed_dataset/full_dataset\", pad_trunc_mode)\n",
    "    full_dataset_sequence_length_norm = get_normed_seq_len(df)\n",
    "    full_x, full_y = df_to_ndarrays(df, full_dataset_sequence_length_norm, pad_trunc_mode)\n",
    "    os.makedirs(full_dataset_dir_path)\n",
    "    np.save(join(full_dataset_dir_path, \"X.npy\"), full_x, allow_pickle=False)\n",
    "    np.save(join(full_dataset_dir_path, \"Y.npy\"), full_y, allow_pickle=False)\n",
    "# Save dataset meta data\n",
    "# full_dataset_meta_data[\"target_names\"] = TARGET_NAMES\n",
    "full_dataset_meta_data[\"pad_seq_len\"] = full_dataset_sequence_length_norm\n",
    "full_dataset_meta_data[\"feature_cols\"] = get_feature_cols(df)\n",
    "\n",
    "with open(\"preprocessed_dataset/full_dataset_meta_data.json\", \"w\") as fp:\n",
    "    json.dump(full_dataset_meta_data, fp, indent=4)\n",
    "\n",
    "shutil.make_archive(\"preprocessed_dataset\", 'zip', \"preprocessed_dataset\")"
   ]
  },
  {
   "cell_type": "code",
   "execution_count": 51,
   "id": "0b77ea50",
   "metadata": {},
   "outputs": [
    {
     "data": {
      "text/html": [
       "<div>\n",
       "<style scoped>\n",
       "    .dataframe tbody tr th:only-of-type {\n",
       "        vertical-align: middle;\n",
       "    }\n",
       "\n",
       "    .dataframe tbody tr th {\n",
       "        vertical-align: top;\n",
       "    }\n",
       "\n",
       "    .dataframe thead th {\n",
       "        text-align: right;\n",
       "    }\n",
       "</style>\n",
       "<table border=\"1\" class=\"dataframe\">\n",
       "  <thead>\n",
       "    <tr style=\"text-align: right;\">\n",
       "      <th></th>\n",
       "      <th>acc_mag</th>\n",
       "      <th>acc_mag_diff</th>\n",
       "      <th>acc_x</th>\n",
       "      <th>acc_x_diff</th>\n",
       "      <th>acc_y</th>\n",
       "      <th>acc_y_diff</th>\n",
       "      <th>acc_z</th>\n",
       "      <th>acc_z_diff</th>\n",
       "      <th>angular_vel_x</th>\n",
       "      <th>angular_vel_x_diff</th>\n",
       "      <th>...</th>\n",
       "      <th>tof_5_v59</th>\n",
       "      <th>tof_5_v59_diff</th>\n",
       "      <th>tof_5_v60</th>\n",
       "      <th>tof_5_v60_diff</th>\n",
       "      <th>tof_5_v61</th>\n",
       "      <th>tof_5_v61_diff</th>\n",
       "      <th>tof_5_v62</th>\n",
       "      <th>tof_5_v62_diff</th>\n",
       "      <th>tof_5_v63</th>\n",
       "      <th>tof_5_v63_diff</th>\n",
       "    </tr>\n",
       "  </thead>\n",
       "  <tbody>\n",
       "    <tr>\n",
       "      <th>0</th>\n",
       "      <td>9.723882</td>\n",
       "      <td>0.000000</td>\n",
       "      <td>6.683594</td>\n",
       "      <td>0.000000</td>\n",
       "      <td>6.214844</td>\n",
       "      <td>0.000000</td>\n",
       "      <td>3.355469</td>\n",
       "      <td>0.000000</td>\n",
       "      <td>0.000000</td>\n",
       "      <td>0.000000</td>\n",
       "      <td>...</td>\n",
       "      <td>88.0</td>\n",
       "      <td>0.0</td>\n",
       "      <td>91.0</td>\n",
       "      <td>0.0</td>\n",
       "      <td>89.0</td>\n",
       "      <td>0.0</td>\n",
       "      <td>226.0</td>\n",
       "      <td>0.0</td>\n",
       "      <td>88.0</td>\n",
       "      <td>0.0</td>\n",
       "    </tr>\n",
       "    <tr>\n",
       "      <th>1</th>\n",
       "      <td>9.832678</td>\n",
       "      <td>0.108796</td>\n",
       "      <td>6.949219</td>\n",
       "      <td>0.265625</td>\n",
       "      <td>6.214844</td>\n",
       "      <td>0.000000</td>\n",
       "      <td>3.125000</td>\n",
       "      <td>-0.230469</td>\n",
       "      <td>-0.010703</td>\n",
       "      <td>-0.010703</td>\n",
       "      <td>...</td>\n",
       "      <td>88.0</td>\n",
       "      <td>0.0</td>\n",
       "      <td>91.0</td>\n",
       "      <td>0.0</td>\n",
       "      <td>89.0</td>\n",
       "      <td>0.0</td>\n",
       "      <td>226.0</td>\n",
       "      <td>0.0</td>\n",
       "      <td>88.0</td>\n",
       "      <td>0.0</td>\n",
       "    </tr>\n",
       "    <tr>\n",
       "      <th>2</th>\n",
       "      <td>9.561135</td>\n",
       "      <td>-0.271543</td>\n",
       "      <td>5.722656</td>\n",
       "      <td>-1.226562</td>\n",
       "      <td>5.410156</td>\n",
       "      <td>-0.804688</td>\n",
       "      <td>5.421875</td>\n",
       "      <td>2.296875</td>\n",
       "      <td>-0.105290</td>\n",
       "      <td>-0.094587</td>\n",
       "      <td>...</td>\n",
       "      <td>88.0</td>\n",
       "      <td>0.0</td>\n",
       "      <td>91.0</td>\n",
       "      <td>0.0</td>\n",
       "      <td>89.0</td>\n",
       "      <td>0.0</td>\n",
       "      <td>226.0</td>\n",
       "      <td>0.0</td>\n",
       "      <td>88.0</td>\n",
       "      <td>0.0</td>\n",
       "    </tr>\n",
       "    <tr>\n",
       "      <th>3</th>\n",
       "      <td>9.886537</td>\n",
       "      <td>0.325401</td>\n",
       "      <td>6.601562</td>\n",
       "      <td>0.878906</td>\n",
       "      <td>3.531250</td>\n",
       "      <td>-1.878906</td>\n",
       "      <td>6.457031</td>\n",
       "      <td>1.035156</td>\n",
       "      <td>-0.185590</td>\n",
       "      <td>-0.080300</td>\n",
       "      <td>...</td>\n",
       "      <td>88.0</td>\n",
       "      <td>0.0</td>\n",
       "      <td>91.0</td>\n",
       "      <td>0.0</td>\n",
       "      <td>89.0</td>\n",
       "      <td>0.0</td>\n",
       "      <td>226.0</td>\n",
       "      <td>0.0</td>\n",
       "      <td>88.0</td>\n",
       "      <td>0.0</td>\n",
       "    </tr>\n",
       "    <tr>\n",
       "      <th>4</th>\n",
       "      <td>11.128921</td>\n",
       "      <td>1.242384</td>\n",
       "      <td>5.566406</td>\n",
       "      <td>-1.035156</td>\n",
       "      <td>0.277344</td>\n",
       "      <td>-3.253906</td>\n",
       "      <td>9.632812</td>\n",
       "      <td>3.175781</td>\n",
       "      <td>-0.117877</td>\n",
       "      <td>0.067713</td>\n",
       "      <td>...</td>\n",
       "      <td>88.0</td>\n",
       "      <td>0.0</td>\n",
       "      <td>91.0</td>\n",
       "      <td>0.0</td>\n",
       "      <td>89.0</td>\n",
       "      <td>0.0</td>\n",
       "      <td>226.0</td>\n",
       "      <td>0.0</td>\n",
       "      <td>88.0</td>\n",
       "      <td>0.0</td>\n",
       "    </tr>\n",
       "    <tr>\n",
       "      <th>...</th>\n",
       "      <td>...</td>\n",
       "      <td>...</td>\n",
       "      <td>...</td>\n",
       "      <td>...</td>\n",
       "      <td>...</td>\n",
       "      <td>...</td>\n",
       "      <td>...</td>\n",
       "      <td>...</td>\n",
       "      <td>...</td>\n",
       "      <td>...</td>\n",
       "      <td>...</td>\n",
       "      <td>...</td>\n",
       "      <td>...</td>\n",
       "      <td>...</td>\n",
       "      <td>...</td>\n",
       "      <td>...</td>\n",
       "      <td>...</td>\n",
       "      <td>...</td>\n",
       "      <td>...</td>\n",
       "      <td>...</td>\n",
       "      <td>...</td>\n",
       "    </tr>\n",
       "    <tr>\n",
       "      <th>574940</th>\n",
       "      <td>9.150011</td>\n",
       "      <td>-0.753489</td>\n",
       "      <td>3.503906</td>\n",
       "      <td>-0.078125</td>\n",
       "      <td>-0.433594</td>\n",
       "      <td>0.308594</td>\n",
       "      <td>-8.441406</td>\n",
       "      <td>0.761719</td>\n",
       "      <td>-0.041609</td>\n",
       "      <td>-0.053515</td>\n",
       "      <td>...</td>\n",
       "      <td>69.0</td>\n",
       "      <td>0.0</td>\n",
       "      <td>71.0</td>\n",
       "      <td>0.0</td>\n",
       "      <td>68.0</td>\n",
       "      <td>0.0</td>\n",
       "      <td>73.0</td>\n",
       "      <td>0.0</td>\n",
       "      <td>71.0</td>\n",
       "      <td>1.0</td>\n",
       "    </tr>\n",
       "    <tr>\n",
       "      <th>574941</th>\n",
       "      <td>9.972424</td>\n",
       "      <td>0.822412</td>\n",
       "      <td>3.773438</td>\n",
       "      <td>0.269531</td>\n",
       "      <td>-0.664062</td>\n",
       "      <td>-0.230469</td>\n",
       "      <td>-9.207031</td>\n",
       "      <td>-0.765625</td>\n",
       "      <td>-0.019417</td>\n",
       "      <td>0.022191</td>\n",
       "      <td>...</td>\n",
       "      <td>69.0</td>\n",
       "      <td>0.0</td>\n",
       "      <td>71.0</td>\n",
       "      <td>0.0</td>\n",
       "      <td>68.0</td>\n",
       "      <td>0.0</td>\n",
       "      <td>73.0</td>\n",
       "      <td>0.0</td>\n",
       "      <td>71.0</td>\n",
       "      <td>0.0</td>\n",
       "    </tr>\n",
       "    <tr>\n",
       "      <th>574942</th>\n",
       "      <td>8.021313</td>\n",
       "      <td>-1.951111</td>\n",
       "      <td>3.082031</td>\n",
       "      <td>-0.691406</td>\n",
       "      <td>0.218750</td>\n",
       "      <td>0.882812</td>\n",
       "      <td>-7.402344</td>\n",
       "      <td>1.804688</td>\n",
       "      <td>0.002137</td>\n",
       "      <td>0.021554</td>\n",
       "      <td>...</td>\n",
       "      <td>69.0</td>\n",
       "      <td>0.0</td>\n",
       "      <td>71.0</td>\n",
       "      <td>0.0</td>\n",
       "      <td>68.0</td>\n",
       "      <td>0.0</td>\n",
       "      <td>73.0</td>\n",
       "      <td>0.0</td>\n",
       "      <td>71.0</td>\n",
       "      <td>0.0</td>\n",
       "    </tr>\n",
       "    <tr>\n",
       "      <th>574943</th>\n",
       "      <td>9.919848</td>\n",
       "      <td>1.898536</td>\n",
       "      <td>3.964844</td>\n",
       "      <td>0.882812</td>\n",
       "      <td>-0.359375</td>\n",
       "      <td>-0.578125</td>\n",
       "      <td>-9.085938</td>\n",
       "      <td>-1.683594</td>\n",
       "      <td>-0.019210</td>\n",
       "      <td>-0.021347</td>\n",
       "      <td>...</td>\n",
       "      <td>69.0</td>\n",
       "      <td>0.0</td>\n",
       "      <td>71.0</td>\n",
       "      <td>0.0</td>\n",
       "      <td>68.0</td>\n",
       "      <td>0.0</td>\n",
       "      <td>73.0</td>\n",
       "      <td>0.0</td>\n",
       "      <td>71.0</td>\n",
       "      <td>0.0</td>\n",
       "    </tr>\n",
       "    <tr>\n",
       "      <th>574944</th>\n",
       "      <td>10.574324</td>\n",
       "      <td>0.654475</td>\n",
       "      <td>4.269531</td>\n",
       "      <td>0.304688</td>\n",
       "      <td>-0.933594</td>\n",
       "      <td>-0.574219</td>\n",
       "      <td>-9.628906</td>\n",
       "      <td>-0.542969</td>\n",
       "      <td>0.000844</td>\n",
       "      <td>0.020054</td>\n",
       "      <td>...</td>\n",
       "      <td>69.0</td>\n",
       "      <td>0.0</td>\n",
       "      <td>71.0</td>\n",
       "      <td>0.0</td>\n",
       "      <td>68.0</td>\n",
       "      <td>0.0</td>\n",
       "      <td>73.0</td>\n",
       "      <td>0.0</td>\n",
       "      <td>71.0</td>\n",
       "      <td>0.0</td>\n",
       "    </tr>\n",
       "  </tbody>\n",
       "</table>\n",
       "<p>574945 rows × 946 columns</p>\n",
       "</div>"
      ],
      "text/plain": [
       "          acc_mag  acc_mag_diff     acc_x  acc_x_diff     acc_y  acc_y_diff  \\\n",
       "0        9.723882      0.000000  6.683594    0.000000  6.214844    0.000000   \n",
       "1        9.832678      0.108796  6.949219    0.265625  6.214844    0.000000   \n",
       "2        9.561135     -0.271543  5.722656   -1.226562  5.410156   -0.804688   \n",
       "3        9.886537      0.325401  6.601562    0.878906  3.531250   -1.878906   \n",
       "4       11.128921      1.242384  5.566406   -1.035156  0.277344   -3.253906   \n",
       "...           ...           ...       ...         ...       ...         ...   \n",
       "574940   9.150011     -0.753489  3.503906   -0.078125 -0.433594    0.308594   \n",
       "574941   9.972424      0.822412  3.773438    0.269531 -0.664062   -0.230469   \n",
       "574942   8.021313     -1.951111  3.082031   -0.691406  0.218750    0.882812   \n",
       "574943   9.919848      1.898536  3.964844    0.882812 -0.359375   -0.578125   \n",
       "574944  10.574324      0.654475  4.269531    0.304688 -0.933594   -0.574219   \n",
       "\n",
       "           acc_z  acc_z_diff  angular_vel_x  angular_vel_x_diff  ...  \\\n",
       "0       3.355469    0.000000       0.000000            0.000000  ...   \n",
       "1       3.125000   -0.230469      -0.010703           -0.010703  ...   \n",
       "2       5.421875    2.296875      -0.105290           -0.094587  ...   \n",
       "3       6.457031    1.035156      -0.185590           -0.080300  ...   \n",
       "4       9.632812    3.175781      -0.117877            0.067713  ...   \n",
       "...          ...         ...            ...                 ...  ...   \n",
       "574940 -8.441406    0.761719      -0.041609           -0.053515  ...   \n",
       "574941 -9.207031   -0.765625      -0.019417            0.022191  ...   \n",
       "574942 -7.402344    1.804688       0.002137            0.021554  ...   \n",
       "574943 -9.085938   -1.683594      -0.019210           -0.021347  ...   \n",
       "574944 -9.628906   -0.542969       0.000844            0.020054  ...   \n",
       "\n",
       "        tof_5_v59  tof_5_v59_diff  tof_5_v60  tof_5_v60_diff  tof_5_v61  \\\n",
       "0            88.0             0.0       91.0             0.0       89.0   \n",
       "1            88.0             0.0       91.0             0.0       89.0   \n",
       "2            88.0             0.0       91.0             0.0       89.0   \n",
       "3            88.0             0.0       91.0             0.0       89.0   \n",
       "4            88.0             0.0       91.0             0.0       89.0   \n",
       "...           ...             ...        ...             ...        ...   \n",
       "574940       69.0             0.0       71.0             0.0       68.0   \n",
       "574941       69.0             0.0       71.0             0.0       68.0   \n",
       "574942       69.0             0.0       71.0             0.0       68.0   \n",
       "574943       69.0             0.0       71.0             0.0       68.0   \n",
       "574944       69.0             0.0       71.0             0.0       68.0   \n",
       "\n",
       "        tof_5_v61_diff  tof_5_v62  tof_5_v62_diff  tof_5_v63  tof_5_v63_diff  \n",
       "0                  0.0      226.0             0.0       88.0             0.0  \n",
       "1                  0.0      226.0             0.0       88.0             0.0  \n",
       "2                  0.0      226.0             0.0       88.0             0.0  \n",
       "3                  0.0      226.0             0.0       88.0             0.0  \n",
       "4                  0.0      226.0             0.0       88.0             0.0  \n",
       "...                ...        ...             ...        ...             ...  \n",
       "574940             0.0       73.0             0.0       71.0             1.0  \n",
       "574941             0.0       73.0             0.0       71.0             0.0  \n",
       "574942             0.0       73.0             0.0       71.0             0.0  \n",
       "574943             0.0       73.0             0.0       71.0             0.0  \n",
       "574944             0.0       73.0             0.0       71.0             0.0  \n",
       "\n",
       "[574945 rows x 946 columns]"
      ]
     },
     "execution_count": 51,
     "metadata": {},
     "output_type": "execute_result"
    }
   ],
   "source": [
    "df[get_feature_cols(df)]"
   ]
  },
  {
   "cell_type": "markdown",
   "id": "b2775c75",
   "metadata": {},
   "source": [
    "## Dataset upload\n",
    "Optionally upload the dataset to kaggle."
   ]
  },
  {
   "cell_type": "code",
   "execution_count": null,
   "id": "d0b40895",
   "metadata": {},
   "outputs": [
    {
     "name": "stdout",
     "output_type": "stream",
     "text": [
      "Kaggle credentials successfully validated.\n",
      "Uploading Dataset https://www.kaggle.com/datasets/mauroabidalcarrer/prepocessed-cmi-2025 ...\n",
      "Starting upload for file preprocessed_dataset.zip\n"
     ]
    },
    {
     "name": "stderr",
     "output_type": "stream",
     "text": [
      "Uploading: 100%|██████████| 3.51G/3.51G [02:30<00:00, 23.3MB/s]"
     ]
    },
    {
     "name": "stdout",
     "output_type": "stream",
     "text": [
      "Upload successful: preprocessed_dataset.zip (3GB)\n"
     ]
    },
    {
     "name": "stderr",
     "output_type": "stream",
     "text": [
      "\n"
     ]
    },
    {
     "name": "stdout",
     "output_type": "stream",
     "text": [
      "Your dataset has been created.\n",
      "Files are being processed...\n",
      "See at: https://www.kaggle.com/datasets/mauroabidalcarrer/prepocessed-cmi-2025\n"
     ]
    }
   ],
   "source": [
    "upload_input = input(\"Do you want to upload the  dataset to kaggle?[yes/no]\").lower()\n",
    "if upload_input == \"yes\":\n",
    "    version_notes = input(\"Provide a version notes:\")\n",
    "    version_notes = version_notes if version_notes else DEFAULT_VERSION_NOTES\n",
    "    # Updaload the dataset\n",
    "    dataset_upload(\n",
    "        join(whoami()[\"username\"], \"prepocessed-cmi-2025\"),\n",
    "        \"preprocessed_dataset.zip\",\n",
    "        version_notes=version_notes,\n",
    "    )\n",
    "elif upload_input == \"no\":\n",
    "    print(\"Dataset has not been uploaded.\")\n",
    "else:\n",
    "    print(\"Did not understand user input, dataset has not been uploaded.\")"
   ]
  }
 ],
 "metadata": {
  "kernelspec": {
   "display_name": "CMI",
   "language": "python",
   "name": "python3"
  },
  "language_info": {
   "codemirror_mode": {
    "name": "ipython",
    "version": 3
   },
   "file_extension": ".py",
   "mimetype": "text/x-python",
   "name": "python",
   "nbconvert_exporter": "python",
   "pygments_lexer": "ipython3",
   "version": "3.11.5"
  }
 },
 "nbformat": 4,
 "nbformat_minor": 5
}
